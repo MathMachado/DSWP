{
  "nbformat": 4,
  "nbformat_minor": 0,
  "metadata": {
    "colab": {
      "private_outputs": true,
      "provenance": [],
      "authorship_tag": "ABX9TyMkMi2YG4VNnv9bmMx4eGpd",
      "include_colab_link": true
    },
    "kernelspec": {
      "name": "python3",
      "display_name": "Python 3"
    },
    "language_info": {
      "name": "python"
    }
  },
  "cells": [
    {
      "cell_type": "markdown",
      "metadata": {
        "id": "view-in-github",
        "colab_type": "text"
      },
      "source": [
        "<a href=\"https://colab.research.google.com/github/MathMachado/DSWP/blob/master/NB15_ML_SL_GLM.ipynb\" target=\"_parent\"><img src=\"https://colab.research.google.com/assets/colab-badge.svg\" alt=\"Open In Colab\"/></a>"
      ]
    },
    {
      "cell_type": "markdown",
      "source": [
        "# Modelos Lineares Generalizados (GLM)\n",
        "\n",
        "## Introdução ao GLM\n",
        "* O que é um Modelo Linear Generalizado (GLM)?\n",
        "\n",
        "    * É uma extensão do modelo de regressão linear que permite lidar com variáveis de resposta que não seguem uma distribuição normal.\n",
        "\n",
        "* O GLM combina:\n",
        "    * Previsores lineares: Soma ponderada das variáveis independentes.\n",
        "    * Função de ligação: Relaciona o previsor linear à variável de resposta.\n",
        "    * Distribuição da variável de resposta: Como Binomial, Poisson, Gamma, etc.\n",
        "\n",
        "* Por que usar GLM?\n",
        "\n",
        "    * Modelar dados com distribuições não normais.\n",
        "    * Lidar com variáveis de resposta contínuas, discretas ou categóricas.\n",
        "    * Tornar os modelos lineares mais flexíveis para diferentes problemas.\n",
        "\n",
        "* Exemplo prático:\n",
        "\n",
        "    * Modelar a probabilidade de um cliente comprar um produto (binomial).\n",
        "    * Prever o número de chamadas em um call center por hora (Poisson).\n",
        "    * Prever o número de sinistros para seguradoras (Poisson).\n"
      ],
      "metadata": {
        "id": "DmVlBx8t3aaY"
      }
    },
    {
      "cell_type": "markdown",
      "source": [
        "## Explicação teórica:\n",
        "\n",
        "* Um Modelo Linear Generalizado (GLM) estende os modelos lineares simples para cobrir variáveis-alvo com distribuições diferentes da normal. Ele é composto por:\n",
        "    * Um componente linear: $𝜂 = 𝛽_0 + 𝛽_1.𝑋_1 + ⋯ + 𝛽_𝑘.𝑋_𝑘$\n",
        "    * Uma função de ligação que transforma o componente linear para se adequar à distribuição da variável-alvo.\n",
        "    * Uma distribuição da família exponencial para modelar a variável-alvo (Binomial, Poisson, Gamma, etc.).\n",
        "\n",
        "* Aplicação prática em seguros:\n",
        "    * Modelar o número de sinistros por cliente em uma seguradora (distribuição Poisson).\n",
        "    * Prever o custo médio de sinistros para apólices de seguro saúde (distribuição Gamma).\n",
        "\n",
        "* Aplicação prática em bancos:\n",
        "    * Modelar a probabilidade de inadimplência de um cliente em um empréstimo (distribuição Binomial, regressão logística)."
      ],
      "metadata": {
        "id": "myT4pFDX4xQ4"
      }
    },
    {
      "cell_type": "markdown",
      "source": [
        "# Componentes de um GLM\n",
        "* Função de ligação: Relaciona o componente linear com a média da distribuição da variável-alvo.\n",
        "\n",
        "    * Exemplo: Para uma variável binária (compra ou não compra de um seguro), a função de ligação logit é usada.\n",
        "* Distribuição da variável de resposta:\n",
        "    * Binomial: Para eventos com sucesso/falha.\n",
        "    * Poisson: Para contagens ou taxas.\n",
        "    * Gamma: Para valores contínuos positivos e assimétricos.\n",
        "\n",
        "* Previsores lineares: Variáveis explicativas como idade, renda ou histórico de crédito.\n",
        "\n",
        "* Exemplo prático: Em um banco, a probabilidade de inadimplência pode ser modelada com a regressão logística, onde a função de ligação logit transforma a probabilidade em uma escala linear."
      ],
      "metadata": {
        "id": "VjlR87o55u_x"
      }
    },
    {
      "cell_type": "markdown",
      "source": [
        "# Tipos Comuns de GLM e Aplicações\n",
        "## Regressão Logística (Binomial):\n",
        "\n",
        "* Seguro: Modelar a probabilidade de renovação de uma apólice.\n",
        "* Banco: Estimar a chance de um cliente atrasar um pagamento.\n",
        "\n",
        "## Regressão de Poisson:\n",
        "\n",
        "* Seguro: Modelar o número de sinistros por cliente.\n",
        "* Banco: Estimar o número de transações mensais de um cliente.\n",
        "\n",
        "## Regressão Gamma:\n",
        "\n",
        "* Seguro: Estimar o custo médio de sinistros para seguros de saúde.\n",
        "* Banco: Prever o valor médio de gastos no cartão de crédito.\n",
        "\n",
        "## Regressão Gaussiana (Linear):\n",
        "\n",
        "* Seguro: Prever o valor total de prêmios arrecadados em um período.\n",
        "* Banco: Estimar o valor total de financiamentos concedidos."
      ],
      "metadata": {
        "id": "_nvDpVtH58HG"
      }
    },
    {
      "cell_type": "markdown",
      "source": [
        "Exemplo"
      ],
      "metadata": {
        "id": "Vx_T-Rck6L38"
      }
    },
    {
      "cell_type": "code",
      "source": [
        "!pip install faker"
      ],
      "metadata": {
        "id": "vuOPUTY96JKq"
      },
      "execution_count": null,
      "outputs": []
    },
    {
      "cell_type": "code",
      "source": [
        "from faker import Faker\n",
        "import pandas as pd\n",
        "import numpy as np\n",
        "\n",
        "# Configurando a seed e inicializando o Faker\n",
        "np.random.seed(42)\n",
        "fake = Faker()\n",
        "\n",
        "# Gerando um DataFrame com dados simulados\n",
        "data = {\n",
        "    \"idade\": np.random.randint(18, 70, 2500),\n",
        "    \"renda_anual\": np.random.normal(50000, 15000, 2500).clip(20000, 150000),\n",
        "    \"anos_experiencia\": np.random.randint(1, 40, 2500),\n",
        "    \"historico_credito\": np.random.choice([\"bom\", \"ruim\"], 2500, p=[0.8, 0.2]),\n",
        "    \"possui_casa\": np.random.choice([0, 1], 2500, p=[0.7, 0.3]),\n",
        "    \"possui_carro\": np.random.choice([0, 1], 2500, p=[0.6, 0.4]),\n",
        "    \"regiao\": np.random.choice([\"norte\", \"sul\", \"leste\", \"oeste\"], 2500),\n",
        "    \"tipo_veiculo\": np.random.choice([\"sedan\", \"suv\", \"hatch\", \"pickup\"], 2500),\n",
        "    \"gastos_cartao\": np.random.normal(2000, 500, 2500).clip(500, 5000),\n",
        "    \"n_dependentes\": np.random.randint(0, 5, 2500),\n",
        "    \"premio_seguro\": np.random.normal(3000, 1000, 2500).clip(500, 10000),\n",
        "    \"sinistros\": np.random.poisson(2, 2500).clip(0, 10),\n",
        "    \"inadimplencia\": np.random.choice([0, 1], 2500, p=[0.9, 0.1]),\n",
        "    \"cidade\": [fake.city() for _ in range(2500)],\n",
        "    \"estado\": [fake.state_abbr() for _ in range(2500)],\n",
        "}\n",
        "\n",
        "# Criando o DataFrame\n",
        "df_glm = pd.DataFrame(data)\n",
        "\n",
        "# Exibindo o DataFrame para o usuário\n",
        "df_glm.head()\n"
      ],
      "metadata": {
        "id": "xJWYgYdc6j4S"
      },
      "execution_count": null,
      "outputs": []
    },
    {
      "cell_type": "markdown",
      "source": [
        "# Ajuste dos modelos de GLM\n",
        "* Ajustar Modelos Lineares Generalizados (GLMs) em Python é um processo simples e eficaz com bibliotecas como statsmodels e scikit-learn. Aqui está um guia passo a passo, incluindo exemplos baseados no dataset gerado."
      ],
      "metadata": {
        "id": "ZZEdcSqy6y4_"
      }
    },
    {
      "cell_type": "markdown",
      "source": [
        "### Importar as Bibliotecas\n",
        "As principais bibliotecas utilizadas são:\n",
        "\n",
        "* statsmodels para ajustar GLMs.\n",
        "* pandas e numpy para manipulação de dados.\n",
        "* scikit-learn para dividir os dados em treino e teste."
      ],
      "metadata": {
        "id": "v4XLUnsw646o"
      }
    },
    {
      "cell_type": "code",
      "source": [
        "import pandas as pd\n",
        "import numpy as np\n",
        "import statsmodels.api as sm\n",
        "from sklearn.model_selection import train_test_split\n",
        "\n",
        "# Configurar pandas para exibir números sem notação científica\n",
        "pd.options.display.float_format = '{:.6f}'.format\n"
      ],
      "metadata": {
        "id": "qcTxBiQ261NM"
      },
      "execution_count": null,
      "outputs": []
    },
    {
      "cell_type": "markdown",
      "source": [
        "## Escolha do GLM e da Distribuição\n",
        "Os GLMs são ajustados com base:\n",
        "\n",
        "* Na natureza da variável-alvo (distribuição).\n",
        "* Na função de ligação que relaciona a predição do modelo com a variável-alvo.\n",
        "\n",
        "* Exemplo:\n",
        "\n",
        "    * Regressão Logística: Variável binária, como inadimplência (0 ou 1).\n",
        "    * Regressão de Poisson: Variável de contagem, como número de sinistros.\n",
        "    * Regressão Gamma: Variável contínua positiva, como prêmio de seguro."
      ],
      "metadata": {
        "id": "Vq1wqbMl7Etx"
      }
    },
    {
      "cell_type": "markdown",
      "source": [
        "## Ajuste do Modelo\n",
        "### Modelando o número de sinistros"
      ],
      "metadata": {
        "id": "XKeTDYt27WcO"
      }
    },
    {
      "cell_type": "code",
      "source": [
        "# Definindo variáveis preditoras e alvo para Poisson\n",
        "X_poisson = df_glm[[\"idade\", \"renda_anual\", \"anos_experiencia\", \"possui_casa\", \"possui_carro\"]]\n",
        "y_poisson = df_glm[\"sinistros\"]\n",
        "\n",
        "# Adicionando um intercepto\n",
        "X_poisson = sm.add_constant(X_poisson)\n",
        "\n",
        "# Dividindo os dados em treino e teste\n",
        "X_train_poisson, X_test_poisson, y_train_poisson, y_test_poisson = train_test_split(\n",
        "    X_poisson, y_poisson, test_size=0.3, random_state=42\n",
        ")\n",
        "\n",
        "# Ajustando o modelo de regressão de Poisson\n",
        "model_poisson = sm.GLM(y_train_poisson, X_train_poisson, family=sm.families.Poisson())\n",
        "result_poisson = model_poisson.fit()\n",
        "\n",
        "# Exibindo o resumo do modelo\n",
        "print(result_poisson.summary())\n",
        "\n",
        "# Fazendo previsões no conjunto de teste\n",
        "y_pred_poisson = result_poisson.predict(X_test_poisson)\n",
        "\n",
        "# Avaliando o modelo com MAE\n",
        "mae_poisson = np.mean(np.abs(y_test_poisson - y_pred_poisson))\n",
        "print(f\"Média dos erros absolutos (MAE) para Poisson: {mae_poisson}\")\n"
      ],
      "metadata": {
        "id": "zlya8VSE7XNi"
      },
      "execution_count": null,
      "outputs": []
    },
    {
      "cell_type": "markdown",
      "source": [
        "## Ajustando o Modelo de Regressão Gamma para modelar o Prêmio de Seguro"
      ],
      "metadata": {
        "id": "eBaIp1DPFDV8"
      }
    },
    {
      "cell_type": "code",
      "source": [
        "# Definindo variáveis preditoras e alvo para Gamma\n",
        "X_gamma = df_glm[[\"idade\", \"renda_anual\", \"anos_experiencia\", \"possui_casa\", \"possui_carro\"]]\n",
        "y_gamma = df_glm[\"premio_seguro\"]\n",
        "\n",
        "# Adicionando um intercepto\n",
        "X_gamma = sm.add_constant(X_gamma)\n",
        "\n",
        "# Dividindo os dados em treino e teste\n",
        "X_train_gamma, X_test_gamma, y_train_gamma, y_test_gamma = train_test_split(\n",
        "    X_gamma, y_gamma, test_size=0.3, random_state=42\n",
        ")\n",
        "\n",
        "# Ajustando o modelo de regressão Gamma\n",
        "model_gamma = sm.GLM(y_train_gamma, X_train_gamma, family=sm.families.Gamma(link=sm.families.links.log()))\n",
        "result_gamma = model_gamma.fit()\n",
        "\n",
        "# Exibindo o resumo do modelo\n",
        "print(result_gamma.summary())\n",
        "\n",
        "# Fazendo previsões no conjunto de teste\n",
        "y_pred_gamma = result_gamma.predict(X_test_gamma)\n",
        "\n",
        "# Avaliando o modelo com MAE\n",
        "mae_gamma = np.mean(np.abs(y_test_gamma - y_pred_gamma))\n",
        "print(f\"Média dos erros absolutos (MAE) para Gamma: {mae_gamma}\")\n"
      ],
      "metadata": {
        "id": "8SfJ8eR5FKvY"
      },
      "execution_count": null,
      "outputs": []
    },
    {
      "cell_type": "markdown",
      "source": [
        "## Visualização dos Resultados\n",
        "* Regressão de Poisson: Valores Reais vs Preditos"
      ],
      "metadata": {
        "id": "4VMs4juEFQVr"
      }
    },
    {
      "cell_type": "code",
      "source": [
        "plt.figure(figsize=(8, 6))\n",
        "plt.scatter(y_test_poisson, y_pred_poisson, alpha=0.5, label=\"Predito vs Real\")\n",
        "plt.xlabel(\"Valores Reais (Sinistros)\")\n",
        "plt.ylabel(\"Valores Preditos (Sinistros)\")\n",
        "plt.title(\"Regressão de Poisson: Valores Reais vs Preditos\")\n",
        "plt.legend()\n",
        "plt.show()\n"
      ],
      "metadata": {
        "id": "ISHbQWJtFS4f"
      },
      "execution_count": null,
      "outputs": []
    },
    {
      "cell_type": "markdown",
      "source": [
        "* Regressão Gamma: Valores Reais vs Preditos"
      ],
      "metadata": {
        "id": "3e2dUn7cFY_s"
      }
    },
    {
      "cell_type": "code",
      "source": [
        "plt.figure(figsize=(8, 6))\n",
        "plt.scatter(y_test_gamma, y_pred_gamma, alpha=0.5, label=\"Predito vs Real\")\n",
        "plt.xlabel(\"Valores Reais (Prêmio de Seguro)\")\n",
        "plt.ylabel(\"Valores Preditos (Prêmio de Seguro)\")\n",
        "plt.title(\"Regressão Gamma: Valores Reais vs Preditos\")\n",
        "plt.legend()\n",
        "plt.show()\n"
      ],
      "metadata": {
        "id": "03Wk_ShYFS1r"
      },
      "execution_count": null,
      "outputs": []
    },
    {
      "cell_type": "markdown",
      "source": [
        "## Avaliação do Modelo\n",
        "Avalie o desempenho do modelo com métricas apropriadas:\n",
        "\n",
        "* Log-Likelihood: Qualidade do ajuste.\n",
        "* AIC (Akaike Information Criterion): Penaliza modelos complexos.\n",
        "* Previsões e Taxas de Acerto: Compare as previsões com os valores reais."
      ],
      "metadata": {
        "id": "dw3-yCor72-c"
      }
    },
    {
      "cell_type": "markdown",
      "source": [
        "## Interpretação dos Resultados\n",
        "* Os coeficientes estimados indicam a relação entre as variáveis preditoras e a variável-alvo:\n",
        "\n",
        "* Coeficientes positivos indicam aumento na variável-alvo à medida que a preditora aumenta.\n",
        "* Coeficientes negativos indicam redução."
      ],
      "metadata": {
        "id": "6VPCuhrz8NHz"
      }
    },
    {
      "cell_type": "markdown",
      "source": [
        "# Resumo\n",
        "Ajustar GLMs em Python é poderoso para resolver problemas como:\n",
        "\n",
        "* Regressão Logística: Probabilidade de inadimplência.\n",
        "* Regressão de Poisson: Número de sinistros.\n",
        "* Regressão Gamma: Custo de seguro."
      ],
      "metadata": {
        "id": "TWioQ12v8b4z"
      }
    },
    {
      "cell_type": "markdown",
      "source": [
        "# Como interpretar os coeficientes dos Modelos Lineares Generalizados?\n",
        "\n",
        "A interpretação dos coeficientes em um **Modelo Linear Generalizado (GLM)** depende da **distribuição da variável-alvo** e da **função de ligação** usada no modelo. Aqui está um guia detalhado para interpretar coeficientes em diferentes contextos:\n",
        "\n",
        "---\n",
        "\n",
        "### **1. Noções Básicas**\n",
        "- **Coeficiente $\\beta$:** Representa a mudança esperada na variável-alvo quando a variável preditora aumenta em uma unidade, mantendo as outras constantes.\n",
        "- **Intercepto $\\beta_0$:** Valor médio esperado da variável-alvo quando todas as preditoras são zero (após a transformação da função de ligação).\n",
        "\n",
        "**Nota:** Para variáveis categóricas, os coeficientes indicam a diferença no valor médio da variável-alvo em relação à categoria de referência.\n",
        "\n",
        "---\n",
        "\n",
        "### **2. Distribuições e Funções de Ligação**\n",
        "A interpretação exata do coeficiente varia com a função de ligação.\n",
        "\n",
        "#### **2.1. Regressão Logística (Binomial)**\n",
        "- **Função de Ligação:** Logit ($logit_p = ln\\left(\\frac{p}{1-p}\\right)$).\n",
        "- **Interpretação do Coeficiente $\\beta$:**\n",
        "  - O coeficiente indica a mudança no logaritmo das odds (razão de chances) para cada unidade de aumento na variável preditora.\n",
        "  - Para interpretá-lo como um efeito multiplicativo:\n",
        "    $\n",
        "    \\text{Odds ratio} = e^\\beta\n",
        "    $\n",
        "    - Se $e^\\beta > 1$: Aumenta a chance do evento.\n",
        "    - Se $e^\\beta < 1$: Reduz a chance do evento.\n",
        "\n",
        "**Exemplo:**\n",
        "- Um coeficiente de $0.5$ para a variável \"idade\" significa que, para cada ano adicional de idade, a chance do cliente se tornar inadimplente aumenta em $e^{0.5} ≈ 1.65$ vezes (65% mais provável).\n",
        "\n",
        "---\n",
        "\n",
        "#### **2.2. Regressão de Poisson**\n",
        "- **Função de Ligação:** Logarítmica $\\ln(\\mu)$.\n",
        "- **Interpretação do Coeficiente $\\beta$:**\n",
        "  - O coeficiente indica a mudança no logaritmo da taxa esperada (ou contagem) para cada unidade de aumento na variável preditora.\n",
        "  - Para interpretá-lo diretamente:\n",
        "    $\n",
        "    \\text{Taxa esperada} = e^\\beta\n",
        "    $\n",
        "    - Se $e^\\beta > 1$: Aumenta a taxa esperada.\n",
        "    - Se $e^\\beta < 1$: Reduz a taxa esperada.\n",
        "\n",
        "**Exemplo:**\n",
        "- Um coeficiente de $-0.2$ para \"anos de experiência\" indica que, para cada ano adicional, o número esperado de sinistros diminui em cerca de $e^{-0.2} ≈ 0.82$ vezes (18% menor).\n",
        "\n",
        "---\n",
        "\n",
        "#### **2.3. Regressão Gamma**\n",
        "- **Função de Ligação:** Logarítmica $\\ln(\\mu)$.\n",
        "- **Interpretação do Coeficiente $\\beta$:**\n",
        "  - Similar à regressão de Poisson, mas a variável-alvo é contínua e positiva.\n",
        "  - Cada unidade adicional na variável preditora multiplica o valor médio da variável-alvo por $e^\\beta$.\n",
        "\n",
        "**Exemplo:**\n",
        "- Um coeficiente de (0.1) para \"renda anual\" indica que, para cada incremento de unidade, o custo médio do prêmio de seguro aumenta em $e^{0.1} \\approx 1.11 $ vezes (11% maior).\n",
        "\n",
        "---\n",
        "\n",
        "#### **2.4. Regressão Linear (Distribuição Normal)**\n",
        "- **Função de Ligação:** Identidade $\\mu = X\\beta$.\n",
        "- **Interpretação do Coeficiente $\\beta$:**\n",
        "  - Indica a mudança absoluta na variável-alvo para cada unidade de aumento na variável preditora.\n",
        "\n",
        "**Exemplo:**\n",
        "- Um coeficiente de $200$ para \"anos de experiência\" significa que, para cada ano adicional, o valor do prêmio de seguro aumenta em $200$.\n",
        "\n",
        "---\n",
        "\n",
        "### **3. Interpretação de Variáveis Categóricas**\n",
        "Para variáveis categóricas:\n",
        "- Os coeficientes representam a diferença na média da variável-alvo em relação à **categoria de referência**.\n",
        "- Se uma categoria tem coeficiente zero, ela é a referência.\n",
        "\n",
        "**Exemplo:**\n",
        "Na variável \"região\" com categorias \"norte\", \"sul\", \"leste\" e \"oeste\":\n",
        "- Se \"norte\" é a categoria de referência, um coeficiente de $0.3$ para \"sul\" significa que a variável-alvo é $e^{0.3} \\approx 1.35$ vezes maior para clientes na região sul em relação à região norte.\n",
        "\n",
        "---\n",
        "\n",
        "### **4. Interpretação do Intercepto**\n",
        "- Para variáveis contínuas:\n",
        "  - O intercepto representa o valor médio da variável-alvo quando todas as preditoras são zero (após a transformação).\n",
        "- Para variáveis categóricas:\n",
        "  - Ele representa o valor médio da categoria de referência.\n",
        "\n",
        "---\n",
        "\n",
        "### **5. Resumo da Interpretação**\n",
        "| Distribuição        | Função de Ligação   | Interpretação do Coeficiente              |\n",
        "|---------------------|---------------------|-------------------------------------------|\n",
        "| Binomial (Logística)| Logit $\\ln(p/(1-p))$ | Multiplicativo nas odds (razão de chances) |\n",
        "| Poisson             | Log $\\ln(\\mu)$     | Multiplicativo na taxa esperada           |\n",
        "| Gamma               | Log $\\ln(\\mu)$     | Multiplicativo na média esperada          |\n",
        "| Normal (Linear)     | Identidade $\\mu$    | Mudança absoluta na média esperada        |\n",
        "\n",
        "Interpretar coeficientes no GLM ajuda a entender como cada variável preditora afeta a variável-alvo, fornecendo insights valiosos para negócios e seguros."
      ],
      "metadata": {
        "id": "Q6T6bj2C8r7p"
      }
    },
    {
      "cell_type": "code",
      "source": [],
      "metadata": {
        "id": "tmIuDsLe8fqV"
      },
      "execution_count": null,
      "outputs": []
    }
  ]
}