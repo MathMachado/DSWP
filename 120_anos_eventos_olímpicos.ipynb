{
  "nbformat": 4,
  "nbformat_minor": 0,
  "metadata": {
    "colab": {
      "name": "120_anos_eventos_olímpicos.ipynb",
      "provenance": [],
      "authorship_tag": "ABX9TyNuQ3YMmWtvelm32nQZ2BrC",
      "include_colab_link": true
    },
    "kernelspec": {
      "name": "python3",
      "display_name": "Python 3"
    }
  },
  "cells": [
    {
      "cell_type": "markdown",
      "metadata": {
        "id": "view-in-github",
        "colab_type": "text"
      },
      "source": [
        "<a href=\"https://colab.research.google.com/github/MarioPrado1148/DSWP/blob/master/120_anos_eventos_ol%C3%ADmpicos.ipynb\" target=\"_parent\"><img src=\"https://colab.research.google.com/assets/colab-badge.svg\" alt=\"Open In Colab\"/></a>"
      ]
    },
    {
      "cell_type": "code",
      "metadata": {
        "id": "F59rNOgkDY1M",
        "outputId": "a921889e-6d3b-4ad5-cda2-ca5b92ba6473",
        "colab": {
          "base_uri": "https://localhost:8080/",
          "height": 33
        }
      },
      "source": [
        "from google.colab import drive\n",
        "drive.mount('/content/drive')"
      ],
      "execution_count": 3,
      "outputs": [
        {
          "output_type": "stream",
          "text": [
            "Mounted at /content/drive\n"
          ],
          "name": "stdout"
        }
      ]
    },
    {
      "cell_type": "code",
      "metadata": {
        "id": "LWwS6N2nDjHo"
      },
      "source": [
        "url = '/content/drive/My Drive/Datasets/eventos_olimpicos/athlete_events.csv'"
      ],
      "execution_count": 22,
      "outputs": []
    },
    {
      "cell_type": "code",
      "metadata": {
        "id": "KDdSR8BwdBPD"
      },
      "source": [
        "import matplotlib.pyplot as plt\n",
        "import seaborn as sns\n",
        "%matplotlib inline"
      ],
      "execution_count": 23,
      "outputs": []
    },
    {
      "cell_type": "code",
      "metadata": {
        "id": "E74uaUaNEkNm"
      },
      "source": [
        "import pandas as pd\n",
        "df_olympics = pd.read_csv(url)"
      ],
      "execution_count": 6,
      "outputs": []
    },
    {
      "cell_type": "code",
      "metadata": {
        "id": "eUM-nHmWGUm5",
        "outputId": "7f9f145b-6752-43fb-e51f-ee44642b9954",
        "colab": {
          "base_uri": "https://localhost:8080/",
          "height": 197
        }
      },
      "source": [
        "df_olympics.head()"
      ],
      "execution_count": 7,
      "outputs": [
        {
          "output_type": "execute_result",
          "data": {
            "text/html": [
              "<div>\n",
              "<style scoped>\n",
              "    .dataframe tbody tr th:only-of-type {\n",
              "        vertical-align: middle;\n",
              "    }\n",
              "\n",
              "    .dataframe tbody tr th {\n",
              "        vertical-align: top;\n",
              "    }\n",
              "\n",
              "    .dataframe thead th {\n",
              "        text-align: right;\n",
              "    }\n",
              "</style>\n",
              "<table border=\"1\" class=\"dataframe\">\n",
              "  <thead>\n",
              "    <tr style=\"text-align: right;\">\n",
              "      <th></th>\n",
              "      <th>ID</th>\n",
              "      <th>Name</th>\n",
              "      <th>Sex</th>\n",
              "      <th>Age</th>\n",
              "      <th>Height</th>\n",
              "      <th>Weight</th>\n",
              "      <th>Team</th>\n",
              "      <th>NOC</th>\n",
              "      <th>Games</th>\n",
              "      <th>Year</th>\n",
              "      <th>Season</th>\n",
              "      <th>City</th>\n",
              "      <th>Sport</th>\n",
              "      <th>Event</th>\n",
              "      <th>Medal</th>\n",
              "    </tr>\n",
              "  </thead>\n",
              "  <tbody>\n",
              "    <tr>\n",
              "      <th>0</th>\n",
              "      <td>1</td>\n",
              "      <td>A Dijiang</td>\n",
              "      <td>M</td>\n",
              "      <td>24.0</td>\n",
              "      <td>180.0</td>\n",
              "      <td>80.0</td>\n",
              "      <td>China</td>\n",
              "      <td>CHN</td>\n",
              "      <td>1992 Summer</td>\n",
              "      <td>1992</td>\n",
              "      <td>Summer</td>\n",
              "      <td>Barcelona</td>\n",
              "      <td>Basketball</td>\n",
              "      <td>Basketball Men's Basketball</td>\n",
              "      <td>NaN</td>\n",
              "    </tr>\n",
              "    <tr>\n",
              "      <th>1</th>\n",
              "      <td>2</td>\n",
              "      <td>A Lamusi</td>\n",
              "      <td>M</td>\n",
              "      <td>23.0</td>\n",
              "      <td>170.0</td>\n",
              "      <td>60.0</td>\n",
              "      <td>China</td>\n",
              "      <td>CHN</td>\n",
              "      <td>2012 Summer</td>\n",
              "      <td>2012</td>\n",
              "      <td>Summer</td>\n",
              "      <td>London</td>\n",
              "      <td>Judo</td>\n",
              "      <td>Judo Men's Extra-Lightweight</td>\n",
              "      <td>NaN</td>\n",
              "    </tr>\n",
              "    <tr>\n",
              "      <th>2</th>\n",
              "      <td>3</td>\n",
              "      <td>Gunnar Nielsen Aaby</td>\n",
              "      <td>M</td>\n",
              "      <td>24.0</td>\n",
              "      <td>NaN</td>\n",
              "      <td>NaN</td>\n",
              "      <td>Denmark</td>\n",
              "      <td>DEN</td>\n",
              "      <td>1920 Summer</td>\n",
              "      <td>1920</td>\n",
              "      <td>Summer</td>\n",
              "      <td>Antwerpen</td>\n",
              "      <td>Football</td>\n",
              "      <td>Football Men's Football</td>\n",
              "      <td>NaN</td>\n",
              "    </tr>\n",
              "    <tr>\n",
              "      <th>3</th>\n",
              "      <td>4</td>\n",
              "      <td>Edgar Lindenau Aabye</td>\n",
              "      <td>M</td>\n",
              "      <td>34.0</td>\n",
              "      <td>NaN</td>\n",
              "      <td>NaN</td>\n",
              "      <td>Denmark/Sweden</td>\n",
              "      <td>DEN</td>\n",
              "      <td>1900 Summer</td>\n",
              "      <td>1900</td>\n",
              "      <td>Summer</td>\n",
              "      <td>Paris</td>\n",
              "      <td>Tug-Of-War</td>\n",
              "      <td>Tug-Of-War Men's Tug-Of-War</td>\n",
              "      <td>Gold</td>\n",
              "    </tr>\n",
              "    <tr>\n",
              "      <th>4</th>\n",
              "      <td>5</td>\n",
              "      <td>Christine Jacoba Aaftink</td>\n",
              "      <td>F</td>\n",
              "      <td>21.0</td>\n",
              "      <td>185.0</td>\n",
              "      <td>82.0</td>\n",
              "      <td>Netherlands</td>\n",
              "      <td>NED</td>\n",
              "      <td>1988 Winter</td>\n",
              "      <td>1988</td>\n",
              "      <td>Winter</td>\n",
              "      <td>Calgary</td>\n",
              "      <td>Speed Skating</td>\n",
              "      <td>Speed Skating Women's 500 metres</td>\n",
              "      <td>NaN</td>\n",
              "    </tr>\n",
              "  </tbody>\n",
              "</table>\n",
              "</div>"
            ],
            "text/plain": [
              "   ID                      Name  ...                             Event  Medal\n",
              "0   1                 A Dijiang  ...       Basketball Men's Basketball    NaN\n",
              "1   2                  A Lamusi  ...      Judo Men's Extra-Lightweight    NaN\n",
              "2   3       Gunnar Nielsen Aaby  ...           Football Men's Football    NaN\n",
              "3   4      Edgar Lindenau Aabye  ...       Tug-Of-War Men's Tug-Of-War   Gold\n",
              "4   5  Christine Jacoba Aaftink  ...  Speed Skating Women's 500 metres    NaN\n",
              "\n",
              "[5 rows x 15 columns]"
            ]
          },
          "metadata": {
            "tags": []
          },
          "execution_count": 7
        }
      ]
    },
    {
      "cell_type": "code",
      "metadata": {
        "id": "BY2_qKh8GrVl"
      },
      "source": [
        "# retorna para cada coluna de `frame`: nome da coluna, valor de exemplo, \n",
        "#     dtype da coluna, classe do valor de exemplo\n",
        "# valor de exemplo é tomado na linha de `frame` indicada por `iloc`\n",
        "def exemplo_linha(frame, iloc=0):\n",
        "  df_info = pd.DataFrame(dict(valor_exemplo=frame.iloc[iloc].copy()))\n",
        "  df_info['dtype_coluna'] = frame.dtypes.map(lambda x: x.name)\n",
        "  df_info['classe_valor'] = df_info['valor_exemplo'].map(lambda x: x.__class__.__name__)\n",
        "  df_info.index.name = 'nome_coluna'\n",
        "  return df_info"
      ],
      "execution_count": 8,
      "outputs": []
    },
    {
      "cell_type": "code",
      "metadata": {
        "id": "tj75_tL-aj0D",
        "outputId": "7d1e6e4c-b501-4d0a-ea95-ac3458812a24",
        "colab": {
          "base_uri": "https://localhost:8080/",
          "height": 527
        }
      },
      "source": [
        "exemplo_linha(df_olympics)"
      ],
      "execution_count": 9,
      "outputs": [
        {
          "output_type": "execute_result",
          "data": {
            "text/html": [
              "<div>\n",
              "<style scoped>\n",
              "    .dataframe tbody tr th:only-of-type {\n",
              "        vertical-align: middle;\n",
              "    }\n",
              "\n",
              "    .dataframe tbody tr th {\n",
              "        vertical-align: top;\n",
              "    }\n",
              "\n",
              "    .dataframe thead th {\n",
              "        text-align: right;\n",
              "    }\n",
              "</style>\n",
              "<table border=\"1\" class=\"dataframe\">\n",
              "  <thead>\n",
              "    <tr style=\"text-align: right;\">\n",
              "      <th></th>\n",
              "      <th>valor_exemplo</th>\n",
              "      <th>dtype_coluna</th>\n",
              "      <th>classe_valor</th>\n",
              "    </tr>\n",
              "    <tr>\n",
              "      <th>nome_coluna</th>\n",
              "      <th></th>\n",
              "      <th></th>\n",
              "      <th></th>\n",
              "    </tr>\n",
              "  </thead>\n",
              "  <tbody>\n",
              "    <tr>\n",
              "      <th>ID</th>\n",
              "      <td>1</td>\n",
              "      <td>int64</td>\n",
              "      <td>int64</td>\n",
              "    </tr>\n",
              "    <tr>\n",
              "      <th>Name</th>\n",
              "      <td>A Dijiang</td>\n",
              "      <td>object</td>\n",
              "      <td>str</td>\n",
              "    </tr>\n",
              "    <tr>\n",
              "      <th>Sex</th>\n",
              "      <td>M</td>\n",
              "      <td>object</td>\n",
              "      <td>str</td>\n",
              "    </tr>\n",
              "    <tr>\n",
              "      <th>Age</th>\n",
              "      <td>24</td>\n",
              "      <td>float64</td>\n",
              "      <td>float64</td>\n",
              "    </tr>\n",
              "    <tr>\n",
              "      <th>Height</th>\n",
              "      <td>180</td>\n",
              "      <td>float64</td>\n",
              "      <td>float64</td>\n",
              "    </tr>\n",
              "    <tr>\n",
              "      <th>Weight</th>\n",
              "      <td>80</td>\n",
              "      <td>float64</td>\n",
              "      <td>float64</td>\n",
              "    </tr>\n",
              "    <tr>\n",
              "      <th>Team</th>\n",
              "      <td>China</td>\n",
              "      <td>object</td>\n",
              "      <td>str</td>\n",
              "    </tr>\n",
              "    <tr>\n",
              "      <th>NOC</th>\n",
              "      <td>CHN</td>\n",
              "      <td>object</td>\n",
              "      <td>str</td>\n",
              "    </tr>\n",
              "    <tr>\n",
              "      <th>Games</th>\n",
              "      <td>1992 Summer</td>\n",
              "      <td>object</td>\n",
              "      <td>str</td>\n",
              "    </tr>\n",
              "    <tr>\n",
              "      <th>Year</th>\n",
              "      <td>1992</td>\n",
              "      <td>int64</td>\n",
              "      <td>int64</td>\n",
              "    </tr>\n",
              "    <tr>\n",
              "      <th>Season</th>\n",
              "      <td>Summer</td>\n",
              "      <td>object</td>\n",
              "      <td>str</td>\n",
              "    </tr>\n",
              "    <tr>\n",
              "      <th>City</th>\n",
              "      <td>Barcelona</td>\n",
              "      <td>object</td>\n",
              "      <td>str</td>\n",
              "    </tr>\n",
              "    <tr>\n",
              "      <th>Sport</th>\n",
              "      <td>Basketball</td>\n",
              "      <td>object</td>\n",
              "      <td>str</td>\n",
              "    </tr>\n",
              "    <tr>\n",
              "      <th>Event</th>\n",
              "      <td>Basketball Men's Basketball</td>\n",
              "      <td>object</td>\n",
              "      <td>str</td>\n",
              "    </tr>\n",
              "    <tr>\n",
              "      <th>Medal</th>\n",
              "      <td>NaN</td>\n",
              "      <td>object</td>\n",
              "      <td>float</td>\n",
              "    </tr>\n",
              "  </tbody>\n",
              "</table>\n",
              "</div>"
            ],
            "text/plain": [
              "                           valor_exemplo dtype_coluna classe_valor\n",
              "nome_coluna                                                       \n",
              "ID                                     1        int64        int64\n",
              "Name                           A Dijiang       object          str\n",
              "Sex                                    M       object          str\n",
              "Age                                   24      float64      float64\n",
              "Height                               180      float64      float64\n",
              "Weight                                80      float64      float64\n",
              "Team                               China       object          str\n",
              "NOC                                  CHN       object          str\n",
              "Games                        1992 Summer       object          str\n",
              "Year                                1992        int64        int64\n",
              "Season                            Summer       object          str\n",
              "City                           Barcelona       object          str\n",
              "Sport                         Basketball       object          str\n",
              "Event        Basketball Men's Basketball       object          str\n",
              "Medal                                NaN       object        float"
            ]
          },
          "metadata": {
            "tags": []
          },
          "execution_count": 9
        }
      ]
    },
    {
      "cell_type": "code",
      "metadata": {
        "id": "IGeblfzDaqLA"
      },
      "source": [
        ""
      ],
      "execution_count": null,
      "outputs": []
    },
    {
      "cell_type": "code",
      "metadata": {
        "id": "cKnkjIkf0jVI"
      },
      "source": [
        "# conversão dos nomes de colunas para minúsculas\n",
        "df_olympics.set_axis(df_olympics.columns.str.lower(), axis=1, inplace=True)"
      ],
      "execution_count": 61,
      "outputs": []
    },
    {
      "cell_type": "code",
      "metadata": {
        "id": "OngXZUWV1bp7"
      },
      "source": [
        ""
      ],
      "execution_count": 64,
      "outputs": []
    },
    {
      "cell_type": "markdown",
      "metadata": {
        "id": "gjDqLh8p1oTQ"
      },
      "source": [
        "# Tratamento de Missing Values"
      ]
    },
    {
      "cell_type": "markdown",
      "metadata": {
        "id": "KcD2i_1k1vS_"
      },
      "source": [
        "## Verificação dos Missing Values"
      ]
    },
    {
      "cell_type": "code",
      "metadata": {
        "id": "sWJydjEWbjUT",
        "outputId": "c1a2dee7-e228-41b0-b136-3db84030d4a5",
        "colab": {
          "base_uri": "https://localhost:8080/",
          "height": 283
        }
      },
      "source": [
        "df_olympics.isna().sum()"
      ],
      "execution_count": 12,
      "outputs": [
        {
          "output_type": "execute_result",
          "data": {
            "text/plain": [
              "id             0\n",
              "name           0\n",
              "sex            0\n",
              "age         9474\n",
              "height     60171\n",
              "weight     62875\n",
              "team           0\n",
              "noc            0\n",
              "games          0\n",
              "year           0\n",
              "season         0\n",
              "city           0\n",
              "sport          0\n",
              "event          0\n",
              "medal     231333\n",
              "dtype: int64"
            ]
          },
          "metadata": {
            "tags": []
          },
          "execution_count": 12
        }
      ]
    },
    {
      "cell_type": "markdown",
      "metadata": {
        "id": "JfQDQCJe10c3"
      },
      "source": [
        "## Eliminação dos Missing Values"
      ]
    },
    {
      "cell_type": "code",
      "metadata": {
        "id": "oi6PXLgAbx7g"
      },
      "source": [
        "df_olympics2 = df_olympics.dropna()"
      ],
      "execution_count": 65,
      "outputs": []
    },
    {
      "cell_type": "markdown",
      "metadata": {
        "id": "eg2W5SH12Bmm"
      },
      "source": [
        "## Nova verificação dos Missing Values"
      ]
    },
    {
      "cell_type": "code",
      "metadata": {
        "id": "4UgwAQuQb73b",
        "outputId": "eefcac72-b25b-4322-d6dd-02e10c4a27cb",
        "colab": {
          "base_uri": "https://localhost:8080/",
          "height": 283
        }
      },
      "source": [
        "df_olympics2.isna().sum()"
      ],
      "execution_count": 67,
      "outputs": [
        {
          "output_type": "execute_result",
          "data": {
            "text/plain": [
              "id        0\n",
              "name      0\n",
              "sex       0\n",
              "age       0\n",
              "height    0\n",
              "weight    0\n",
              "team      0\n",
              "noc       0\n",
              "games     0\n",
              "year      0\n",
              "season    0\n",
              "city      0\n",
              "sport     0\n",
              "event     0\n",
              "medal     0\n",
              "dtype: int64"
            ]
          },
          "metadata": {
            "tags": []
          },
          "execution_count": 67
        }
      ]
    },
    {
      "cell_type": "markdown",
      "metadata": {
        "id": "c2TBt-FF3TCL"
      },
      "source": [
        "# Normalizações"
      ]
    },
    {
      "cell_type": "markdown",
      "metadata": {
        "id": "YAIe_iUVCu_c"
      },
      "source": [
        "## Preparação de banco de dados específico para normalização."
      ]
    },
    {
      "cell_type": "code",
      "metadata": {
        "id": "wXq0aHYdC0_9",
        "outputId": "08d7897e-2f88-43e3-d8d0-6756bd96c04b",
        "colab": {
          "base_uri": "https://localhost:8080/",
          "height": 197
        }
      },
      "source": [
        "df_olympics3 = df_olympics2[['weight','height']]\n",
        "df_olympics3.head()"
      ],
      "execution_count": 94,
      "outputs": [
        {
          "output_type": "execute_result",
          "data": {
            "text/html": [
              "<div>\n",
              "<style scoped>\n",
              "    .dataframe tbody tr th:only-of-type {\n",
              "        vertical-align: middle;\n",
              "    }\n",
              "\n",
              "    .dataframe tbody tr th {\n",
              "        vertical-align: top;\n",
              "    }\n",
              "\n",
              "    .dataframe thead th {\n",
              "        text-align: right;\n",
              "    }\n",
              "</style>\n",
              "<table border=\"1\" class=\"dataframe\">\n",
              "  <thead>\n",
              "    <tr style=\"text-align: right;\">\n",
              "      <th></th>\n",
              "      <th>weight</th>\n",
              "      <th>height</th>\n",
              "    </tr>\n",
              "  </thead>\n",
              "  <tbody>\n",
              "    <tr>\n",
              "      <th>40</th>\n",
              "      <td>85.0</td>\n",
              "      <td>184.0</td>\n",
              "    </tr>\n",
              "    <tr>\n",
              "      <th>41</th>\n",
              "      <td>64.0</td>\n",
              "      <td>175.0</td>\n",
              "    </tr>\n",
              "    <tr>\n",
              "      <th>42</th>\n",
              "      <td>64.0</td>\n",
              "      <td>175.0</td>\n",
              "    </tr>\n",
              "    <tr>\n",
              "      <th>44</th>\n",
              "      <td>64.0</td>\n",
              "      <td>175.0</td>\n",
              "    </tr>\n",
              "    <tr>\n",
              "      <th>48</th>\n",
              "      <td>64.0</td>\n",
              "      <td>175.0</td>\n",
              "    </tr>\n",
              "  </tbody>\n",
              "</table>\n",
              "</div>"
            ],
            "text/plain": [
              "    weight  height\n",
              "40    85.0   184.0\n",
              "41    64.0   175.0\n",
              "42    64.0   175.0\n",
              "44    64.0   175.0\n",
              "48    64.0   175.0"
            ]
          },
          "metadata": {
            "tags": []
          },
          "execution_count": 94
        }
      ]
    },
    {
      "cell_type": "markdown",
      "metadata": {
        "id": "V8B2zHgjDAKy"
      },
      "source": [
        "## Verificação da distribuição das variáveis Height e Weight"
      ]
    },
    {
      "cell_type": "code",
      "metadata": {
        "id": "ZijyKQZ0b_re",
        "outputId": "f29a11b4-f7aa-4ce1-d60a-a91c1b8f5157",
        "colab": {
          "base_uri": "https://localhost:8080/",
          "height": 733
        }
      },
      "source": [
        "plt.figure(figsize = (12, 8))\n",
        "plt.hist(df_olympics2['height'], color = 'blue', edgecolor = 'black', bins = int(180/5))"
      ],
      "execution_count": 25,
      "outputs": [
        {
          "output_type": "execute_result",
          "data": {
            "text/plain": [
              "(array([   8.,   10.,   23.,   36.,   62.,  102.,   96.,  244.,  287.,\n",
              "         906.,  645.,  910., 1896., 1429., 3031., 1948., 2986., 2146.,\n",
              "        2391., 3050., 1911., 1801., 1264.,  886.,  843.,  432.,  360.,\n",
              "         190.,  133.,   57.,   30.,   33.,    9.,   18.,    4.,    4.]),\n",
              " array([136.        , 138.41666667, 140.83333333, 143.25      ,\n",
              "        145.66666667, 148.08333333, 150.5       , 152.91666667,\n",
              "        155.33333333, 157.75      , 160.16666667, 162.58333333,\n",
              "        165.        , 167.41666667, 169.83333333, 172.25      ,\n",
              "        174.66666667, 177.08333333, 179.5       , 181.91666667,\n",
              "        184.33333333, 186.75      , 189.16666667, 191.58333333,\n",
              "        194.        , 196.41666667, 198.83333333, 201.25      ,\n",
              "        203.66666667, 206.08333333, 208.5       , 210.91666667,\n",
              "        213.33333333, 215.75      , 218.16666667, 220.58333333,\n",
              "        223.        ]),\n",
              " <a list of 36 Patch objects>)"
            ]
          },
          "metadata": {
            "tags": []
          },
          "execution_count": 25
        },
        {
          "output_type": "display_data",
          "data": {
            "image/png": "[encoded data removed]",
            "text/plain": [
              "<Figure size 864x576 with 1 Axes>"
            ]
          },
          "metadata": {
            "tags": [],
            "needs_background": "light"
          }
        }
      ]
    },
    {
      "cell_type": "markdown",
      "metadata": {
        "id": "bcI_LHky3kp9"
      },
      "source": [
        "## Transformação StandardScaler"
      ]
    },
    {
      "cell_type": "code",
      "metadata": {
        "id": "kT15J9t6cyMp",
        "outputId": "ece28f9a-ff67-4371-8311-e6b14b6685fc",
        "colab": {
          "base_uri": "https://localhost:8080/",
          "height": 197
        }
      },
      "source": [
        "from sklearn.preprocessing import StandardScaler\n",
        "olympics_standard_scaler = StandardScaler().fit_transform(df_olympics2[['weight','height']])\n",
        "df_olympics_standard_scaler = pd.DataFrame(olympics_standard_scaler, columns=[['weight','height']])\n",
        "df_olympics_standard_scaler.head()"
      ],
      "execution_count": 70,
      "outputs": [
        {
          "output_type": "execute_result",
          "data": {
            "text/html": [
              "<div>\n",
              "<style scoped>\n",
              "    .dataframe tbody tr th:only-of-type {\n",
              "        vertical-align: middle;\n",
              "    }\n",
              "\n",
              "    .dataframe tbody tr th {\n",
              "        vertical-align: top;\n",
              "    }\n",
              "\n",
              "    .dataframe thead tr th {\n",
              "        text-align: left;\n",
              "    }\n",
              "</style>\n",
              "<table border=\"1\" class=\"dataframe\">\n",
              "  <thead>\n",
              "    <tr>\n",
              "      <th></th>\n",
              "      <th>weight</th>\n",
              "      <th>height</th>\n",
              "    </tr>\n",
              "  </thead>\n",
              "  <tbody>\n",
              "    <tr>\n",
              "      <th>0</th>\n",
              "      <td>0.749526</td>\n",
              "      <td>0.581988</td>\n",
              "    </tr>\n",
              "    <tr>\n",
              "      <th>1</th>\n",
              "      <td>-0.650031</td>\n",
              "      <td>-0.241885</td>\n",
              "    </tr>\n",
              "    <tr>\n",
              "      <th>2</th>\n",
              "      <td>-0.650031</td>\n",
              "      <td>-0.241885</td>\n",
              "    </tr>\n",
              "    <tr>\n",
              "      <th>3</th>\n",
              "      <td>-0.650031</td>\n",
              "      <td>-0.241885</td>\n",
              "    </tr>\n",
              "    <tr>\n",
              "      <th>4</th>\n",
              "      <td>-0.650031</td>\n",
              "      <td>-0.241885</td>\n",
              "    </tr>\n",
              "  </tbody>\n",
              "</table>\n",
              "</div>"
            ],
            "text/plain": [
              "     weight    height\n",
              "0  0.749526  0.581988\n",
              "1 -0.650031 -0.241885\n",
              "2 -0.650031 -0.241885\n",
              "3 -0.650031 -0.241885\n",
              "4 -0.650031 -0.241885"
            ]
          },
          "metadata": {
            "tags": []
          },
          "execution_count": 70
        }
      ]
    },
    {
      "cell_type": "markdown",
      "metadata": {
        "id": "nq5vhkP834a-"
      },
      "source": [
        "## Transformação MinMax Scaler"
      ]
    },
    {
      "cell_type": "code",
      "metadata": {
        "id": "HydYOfdFgc99",
        "outputId": "25684f96-a6e9-487f-cd48-8cce1a0b4008",
        "colab": {
          "base_uri": "https://localhost:8080/",
          "height": 197
        }
      },
      "source": [
        "from sklearn.preprocessing import MinMaxScaler\n",
        "olympics_minmax_scale = MinMaxScaler().fit_transform(df_olympics2[['weight','height']])\n",
        "df_olympics_minmax_scale = pd.DataFrame(olympics_minmax_scale, columns = [['weight','height']])\n",
        "df_olympics_minmax_scale.head()"
      ],
      "execution_count": 74,
      "outputs": [
        {
          "output_type": "execute_result",
          "data": {
            "text/html": [
              "<div>\n",
              "<style scoped>\n",
              "    .dataframe tbody tr th:only-of-type {\n",
              "        vertical-align: middle;\n",
              "    }\n",
              "\n",
              "    .dataframe tbody tr th {\n",
              "        vertical-align: top;\n",
              "    }\n",
              "\n",
              "    .dataframe thead tr th {\n",
              "        text-align: left;\n",
              "    }\n",
              "</style>\n",
              "<table border=\"1\" class=\"dataframe\">\n",
              "  <thead>\n",
              "    <tr>\n",
              "      <th></th>\n",
              "      <th>weight</th>\n",
              "      <th>height</th>\n",
              "    </tr>\n",
              "  </thead>\n",
              "  <tbody>\n",
              "    <tr>\n",
              "      <th>0</th>\n",
              "      <td>0.370130</td>\n",
              "      <td>0.551724</td>\n",
              "    </tr>\n",
              "    <tr>\n",
              "      <th>1</th>\n",
              "      <td>0.233766</td>\n",
              "      <td>0.448276</td>\n",
              "    </tr>\n",
              "    <tr>\n",
              "      <th>2</th>\n",
              "      <td>0.233766</td>\n",
              "      <td>0.448276</td>\n",
              "    </tr>\n",
              "    <tr>\n",
              "      <th>3</th>\n",
              "      <td>0.233766</td>\n",
              "      <td>0.448276</td>\n",
              "    </tr>\n",
              "    <tr>\n",
              "      <th>4</th>\n",
              "      <td>0.233766</td>\n",
              "      <td>0.448276</td>\n",
              "    </tr>\n",
              "  </tbody>\n",
              "</table>\n",
              "</div>"
            ],
            "text/plain": [
              "     weight    height\n",
              "0  0.370130  0.551724\n",
              "1  0.233766  0.448276\n",
              "2  0.233766  0.448276\n",
              "3  0.233766  0.448276\n",
              "4  0.233766  0.448276"
            ]
          },
          "metadata": {
            "tags": []
          },
          "execution_count": 74
        }
      ]
    },
    {
      "cell_type": "markdown",
      "metadata": {
        "id": "AzJNWvjy5f_s"
      },
      "source": [
        "## Transformação Robust Scaler"
      ]
    },
    {
      "cell_type": "code",
      "metadata": {
        "id": "ZrRDRX-Df6ae",
        "outputId": "552c9934-3291-4ae6-f92d-0d2f94de288d",
        "colab": {
          "base_uri": "https://localhost:8080/",
          "height": 197
        }
      },
      "source": [
        "from sklearn.preprocessing import RobustScaler\n",
        "olympics_robust_scaler = RobustScaler().fit_transform(df_olympics2[['weight','height']])\n",
        "df_olympics_robust_scaler = pd.DataFrame(olympics_robust_scaler, columns = [['weight','height']])\n",
        "df_olympics_robust_scaler.head()"
      ],
      "execution_count": 77,
      "outputs": [
        {
          "output_type": "execute_result",
          "data": {
            "text/html": [
              "<div>\n",
              "<style scoped>\n",
              "    .dataframe tbody tr th:only-of-type {\n",
              "        vertical-align: middle;\n",
              "    }\n",
              "\n",
              "    .dataframe tbody tr th {\n",
              "        vertical-align: top;\n",
              "    }\n",
              "\n",
              "    .dataframe thead tr th {\n",
              "        text-align: left;\n",
              "    }\n",
              "</style>\n",
              "<table border=\"1\" class=\"dataframe\">\n",
              "  <thead>\n",
              "    <tr>\n",
              "      <th></th>\n",
              "      <th>weight</th>\n",
              "      <th>height</th>\n",
              "    </tr>\n",
              "  </thead>\n",
              "  <tbody>\n",
              "    <tr>\n",
              "      <th>0</th>\n",
              "      <td>0.60</td>\n",
              "      <td>0.4</td>\n",
              "    </tr>\n",
              "    <tr>\n",
              "      <th>1</th>\n",
              "      <td>-0.45</td>\n",
              "      <td>-0.2</td>\n",
              "    </tr>\n",
              "    <tr>\n",
              "      <th>2</th>\n",
              "      <td>-0.45</td>\n",
              "      <td>-0.2</td>\n",
              "    </tr>\n",
              "    <tr>\n",
              "      <th>3</th>\n",
              "      <td>-0.45</td>\n",
              "      <td>-0.2</td>\n",
              "    </tr>\n",
              "    <tr>\n",
              "      <th>4</th>\n",
              "      <td>-0.45</td>\n",
              "      <td>-0.2</td>\n",
              "    </tr>\n",
              "  </tbody>\n",
              "</table>\n",
              "</div>"
            ],
            "text/plain": [
              "  weight height\n",
              "0   0.60    0.4\n",
              "1  -0.45   -0.2\n",
              "2  -0.45   -0.2\n",
              "3  -0.45   -0.2\n",
              "4  -0.45   -0.2"
            ]
          },
          "metadata": {
            "tags": []
          },
          "execution_count": 77
        }
      ]
    },
    {
      "cell_type": "markdown",
      "metadata": {
        "id": "AIeUOzQk-5cR"
      },
      "source": [
        "## Transformação de Yeo-Johnson"
      ]
    },
    {
      "cell_type": "code",
      "metadata": {
        "id": "AfwjOuWV584N",
        "outputId": "ae8d02ab-89f4-43ba-8d9c-6be5cbc980a9",
        "colab": {
          "base_uri": "https://localhost:8080/",
          "height": 197
        }
      },
      "source": [
        "from sklearn.preprocessing import PowerTransformer\n",
        "yeo_johnson = PowerTransformer(method = 'yeo-johnson', standardize = True)\n",
        "olympics_yeo_johnson = yeo_johnson.fit_transform(df_olympics2[['weight','height']])\n",
        "df_olympics_yeo_johnson = pd.DataFrame(olympics_yeo_johnson, columns = [['weight','height']])\n",
        "df_olympics_yeo_johnson.head()"
      ],
      "execution_count": 86,
      "outputs": [
        {
          "output_type": "execute_result",
          "data": {
            "text/html": [
              "<div>\n",
              "<style scoped>\n",
              "    .dataframe tbody tr th:only-of-type {\n",
              "        vertical-align: middle;\n",
              "    }\n",
              "\n",
              "    .dataframe tbody tr th {\n",
              "        vertical-align: top;\n",
              "    }\n",
              "\n",
              "    .dataframe thead tr th {\n",
              "        text-align: left;\n",
              "    }\n",
              "</style>\n",
              "<table border=\"1\" class=\"dataframe\">\n",
              "  <thead>\n",
              "    <tr>\n",
              "      <th></th>\n",
              "      <th>weight</th>\n",
              "      <th>height</th>\n",
              "    </tr>\n",
              "  </thead>\n",
              "  <tbody>\n",
              "    <tr>\n",
              "      <th>0</th>\n",
              "      <td>0.800629</td>\n",
              "      <td>0.585910</td>\n",
              "    </tr>\n",
              "    <tr>\n",
              "      <th>1</th>\n",
              "      <td>-0.609141</td>\n",
              "      <td>-0.236075</td>\n",
              "    </tr>\n",
              "    <tr>\n",
              "      <th>2</th>\n",
              "      <td>-0.609141</td>\n",
              "      <td>-0.236075</td>\n",
              "    </tr>\n",
              "    <tr>\n",
              "      <th>3</th>\n",
              "      <td>-0.609141</td>\n",
              "      <td>-0.236075</td>\n",
              "    </tr>\n",
              "    <tr>\n",
              "      <th>4</th>\n",
              "      <td>-0.609141</td>\n",
              "      <td>-0.236075</td>\n",
              "    </tr>\n",
              "  </tbody>\n",
              "</table>\n",
              "</div>"
            ],
            "text/plain": [
              "     weight    height\n",
              "0  0.800629  0.585910\n",
              "1 -0.609141 -0.236075\n",
              "2 -0.609141 -0.236075\n",
              "3 -0.609141 -0.236075\n",
              "4 -0.609141 -0.236075"
            ]
          },
          "metadata": {
            "tags": []
          },
          "execution_count": 86
        }
      ]
    },
    {
      "cell_type": "markdown",
      "metadata": {
        "id": "diUaxHAiBULj"
      },
      "source": [
        "## Transformação de Box-Cox"
      ]
    },
    {
      "cell_type": "markdown",
      "metadata": {
        "id": "_q2FpT98BlEn"
      },
      "source": [
        "### Bibliotecas necessárias"
      ]
    },
    {
      "cell_type": "code",
      "metadata": {
        "id": "33UEsDZu_526"
      },
      "source": [
        "import numpy as np \n",
        "from scipy import stats \n",
        "import matplotlib.pyplot as plt "
      ],
      "execution_count": 102,
      "outputs": []
    },
    {
      "cell_type": "markdown",
      "metadata": {
        "id": "tP5nh-aYB1R3"
      },
      "source": [
        "### Gráficos"
      ]
    },
    {
      "cell_type": "code",
      "metadata": {
        "id": "tO1-rIrjByyI"
      },
      "source": [
        "def compara_graficos(y, w, lambda_box_cox):\n",
        "    fig, ax = plt.subplots(1, 2) \n",
        "  \n",
        "    # Gráfico das distribuições originais e transformada\n",
        "    sns.distplot(y, hist = False, kde = True, kde_kws = {'shade': True, 'linewidth': 2}, label = \"Non-Normal\", color =\"green\", ax = ax[0]) \n",
        "    sns.distplot(w, hist = False, kde = True, kde_kws = {'shade': True, 'linewidth': 2}, label = \"Normal\", color =\"green\", ax = ax[1]) \n",
        "  \n",
        "    # Legendas \n",
        "    plt.legend(loc = \"upper right\") \n",
        "  \n",
        "    # Redimensionando os sub-gráficos \n",
        "    fig.set_figheight(5) \n",
        "    fig.set_figwidth(10) \n",
        "    \n",
        "    print(f\"Valor de Lambda usado na transformação: {lambda_box_cox}\") "
      ],
      "execution_count": 107,
      "outputs": []
    },
    {
      "cell_type": "markdown",
      "metadata": {
        "id": "7eEtDwMDEUtT"
      },
      "source": [
        "#### Converter a série df_olympics3['weight'] para numpy array"
      ]
    },
    {
      "cell_type": "code",
      "metadata": {
        "id": "GP94JSwPGZia",
        "outputId": "ec9b862b-1fd0-4fe3-ca2a-7bc018a4d68d",
        "colab": {
          "base_uri": "https://localhost:8080/",
          "height": 197
        }
      },
      "source": [
        "df_olympics3.head()"
      ],
      "execution_count": 108,
      "outputs": [
        {
          "output_type": "execute_result",
          "data": {
            "text/html": [
              "<div>\n",
              "<style scoped>\n",
              "    .dataframe tbody tr th:only-of-type {\n",
              "        vertical-align: middle;\n",
              "    }\n",
              "\n",
              "    .dataframe tbody tr th {\n",
              "        vertical-align: top;\n",
              "    }\n",
              "\n",
              "    .dataframe thead th {\n",
              "        text-align: right;\n",
              "    }\n",
              "</style>\n",
              "<table border=\"1\" class=\"dataframe\">\n",
              "  <thead>\n",
              "    <tr style=\"text-align: right;\">\n",
              "      <th></th>\n",
              "      <th>weight</th>\n",
              "      <th>height</th>\n",
              "    </tr>\n",
              "  </thead>\n",
              "  <tbody>\n",
              "    <tr>\n",
              "      <th>40</th>\n",
              "      <td>85.0</td>\n",
              "      <td>184.0</td>\n",
              "    </tr>\n",
              "    <tr>\n",
              "      <th>41</th>\n",
              "      <td>64.0</td>\n",
              "      <td>175.0</td>\n",
              "    </tr>\n",
              "    <tr>\n",
              "      <th>42</th>\n",
              "      <td>64.0</td>\n",
              "      <td>175.0</td>\n",
              "    </tr>\n",
              "    <tr>\n",
              "      <th>44</th>\n",
              "      <td>64.0</td>\n",
              "      <td>175.0</td>\n",
              "    </tr>\n",
              "    <tr>\n",
              "      <th>48</th>\n",
              "      <td>64.0</td>\n",
              "      <td>175.0</td>\n",
              "    </tr>\n",
              "  </tbody>\n",
              "</table>\n",
              "</div>"
            ],
            "text/plain": [
              "    weight  height\n",
              "40    85.0   184.0\n",
              "41    64.0   175.0\n",
              "42    64.0   175.0\n",
              "44    64.0   175.0\n",
              "48    64.0   175.0"
            ]
          },
          "metadata": {
            "tags": []
          },
          "execution_count": 108
        }
      ]
    },
    {
      "cell_type": "code",
      "metadata": {
        "id": "TIFlJlgREbPQ",
        "outputId": "b518c21b-e1de-4017-94a8-d199cb627d19",
        "colab": {
          "base_uri": "https://localhost:8080/",
          "height": 133
        }
      },
      "source": [
        "na_olympics3_height=df_olympics3['height'].to_numpy()\n",
        "na_olympics3"
      ],
      "execution_count": 113,
      "outputs": [
        {
          "output_type": "execute_result",
          "data": {
            "text/plain": [
              "array([[ 85., 184.],\n",
              "       [ 64., 175.],\n",
              "       [ 64., 175.],\n",
              "       ...,\n",
              "       [ 82., 182.],\n",
              "       [ 64., 171.],\n",
              "       [ 64., 171.]])"
            ]
          },
          "metadata": {
            "tags": []
          },
          "execution_count": 113
        }
      ]
    },
    {
      "cell_type": "markdown",
      "metadata": {
        "id": "XWR8DE72JXC7"
      },
      "source": [
        "### Dados transformados"
      ]
    },
    {
      "cell_type": "code",
      "metadata": {
        "id": "IYOOWyjYB8Bp",
        "outputId": "c00a79df-1075-4771-a560-866f66d96752",
        "colab": {
          "base_uri": "https://localhost:8080/",
          "height": 423
        }
      },
      "source": [
        "box_cox, lambda_box_cox = stats.boxcox(na_olympics3_height) \n",
        "compara_graficos(na_olympics3_height, box_cox, lambda_box_cox)"
      ],
      "execution_count": 116,
      "outputs": [
        {
          "output_type": "stream",
          "text": [
            "/usr/local/lib/python3.6/dist-packages/seaborn/distributions.py:2551: FutureWarning: `distplot` is a deprecated function and will be removed in a future version. Please adapt your code to use either `displot` (a figure-level function with similar flexibility) or `kdeplot` (an axes-level function for kernel density plots).\n",
            "  warnings.warn(msg, FutureWarning)\n",
            "/usr/local/lib/python3.6/dist-packages/seaborn/distributions.py:2551: FutureWarning: `distplot` is a deprecated function and will be removed in a future version. Please adapt your code to use either `displot` (a figure-level function with similar flexibility) or `kdeplot` (an axes-level function for kernel density plots).\n",
            "  warnings.warn(msg, FutureWarning)\n"
          ],
          "name": "stderr"
        },
        {
          "output_type": "stream",
          "text": [
            "Valor de Lambda usado na transformação: 0.8017408865517879\n"
          ],
          "name": "stdout"
        },
        {
          "output_type": "display_data",
          "data": {
            "image/png": "[encoded data removed]",
            "text/plain": [
              "<Figure size 720x360 with 2 Axes>"
            ]
          },
          "metadata": {
            "tags": [],
            "needs_background": "light"
          }
        }
      ]
    },
    {
      "cell_type": "code",
      "metadata": {
        "id": "O0rv8QFGCMTJ"
      },
      "source": [
        ""
      ],
      "execution_count": 110,
      "outputs": []
    }
  ]
}