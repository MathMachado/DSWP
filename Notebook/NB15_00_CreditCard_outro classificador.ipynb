{
  "nbformat": 4,
  "nbformat_minor": 0,
  "metadata": {
    "colab": {
      "name": "Untitled5.ipynb",
      "provenance": [],
      "authorship_tag": "ABX9TyNSPzVTh/iIK4JklzLrBBvT",
      "include_colab_link": true
    },
    "kernelspec": {
      "name": "python3",
      "display_name": "Python 3"
    }
  },
  "cells": [
    {
      "cell_type": "markdown",
      "metadata": {
        "id": "view-in-github",
        "colab_type": "text"
      },
      "source": [
        "<a href=\"https://colab.research.google.com/github/cryssoga/DSWP/blob/master/Notebook/NB15_00_CreditCard_outro%20classificador.ipynb\" target=\"_parent\"><img src=\"https://colab.research.google.com/assets/colab-badge.svg\" alt=\"Open In Colab\"/></a>"
      ]
    },
    {
      "cell_type": "code",
      "metadata": {
        "id": "KlVX_Gr4c7mi"
      },
      "source": [
        "# Carregando as bibliotecas:\n",
        "import pandas as pd\n",
        "import numpy as np"
      ],
      "execution_count": 4,
      "outputs": []
    },
    {
      "cell_type": "code",
      "metadata": {
        "id": "fb6ZikXjdwoF"
      },
      "source": [
        "# Lendo arquivo csv:\n",
        "url = 'https://raw.githubusercontent.com/cryssoga/DSWP/master/Dataframes/creditcard.csv'\n",
        "df_cc = pd.read_csv(url)"
      ],
      "execution_count": 5,
      "outputs": []
    },
    {
      "cell_type": "code",
      "metadata": {
        "id": "I5LyE00UekQi"
      },
      "source": [
        "df_cc.head()"
      ],
      "execution_count": null,
      "outputs": []
    },
    {
      "cell_type": "code",
      "metadata": {
        "id": "NXwCqwdienBU"
      },
      "source": [
        "# Dimensões do dataframe:\n",
        "df_cc.shape"
      ],
      "execution_count": null,
      "outputs": []
    },
    {
      "cell_type": "code",
      "metadata": {
        "id": "X0VKad4neqAB"
      },
      "source": [
        "# Nome das 31 colunas do dataframe:\n",
        "df_cc.columns"
      ],
      "execution_count": null,
      "outputs": []
    },
    {
      "cell_type": "code",
      "metadata": {
        "id": "g8Of2xq6qeqf"
      },
      "source": [
        "# Normalizar nomes das colunas:\n",
        "df_cc.columns = df_cc.columns.str.lower()"
      ],
      "execution_count": 6,
      "outputs": []
    },
    {
      "cell_type": "code",
      "metadata": {
        "id": "rb7-7gmnrG6U"
      },
      "source": [
        "df_cc.columns"
      ],
      "execution_count": null,
      "outputs": []
    },
    {
      "cell_type": "code",
      "metadata": {
        "id": "dqFASJgIet1z"
      },
      "source": [
        "# Verificando NaN\n",
        "df_cc.isna().sum()"
      ],
      "execution_count": null,
      "outputs": []
    },
    {
      "cell_type": "code",
      "metadata": {
        "id": "dTVwPC_zd5DS"
      },
      "source": [
        "# Eliminando única linha com NaN:\n",
        "df_cc.dropna(inplace=True)"
      ],
      "execution_count": 7,
      "outputs": []
    },
    {
      "cell_type": "code",
      "metadata": {
        "id": "h4Yhjmo5e8os"
      },
      "source": [
        "df_cc.isna().sum()"
      ],
      "execution_count": null,
      "outputs": []
    },
    {
      "cell_type": "code",
      "metadata": {
        "id": "WkDSc5ZEfhv1"
      },
      "source": [
        "# NaN eliminado, df tinha 12842 linhas e agora tem 12841 linhas\n",
        "df_cc.shape"
      ],
      "execution_count": null,
      "outputs": []
    },
    {
      "cell_type": "code",
      "metadata": {
        "id": "wOcEuEMrfBEh"
      },
      "source": [
        "# Definindo variáveis globais:\n",
        "i_CV = 10     # número de Cross-Validations (CV)\n",
        "i_Seed = 20111974\n",
        "f_Test_Size = 0.3   # Hold-Out: 30% teste, 70% treinamento"
      ],
      "execution_count": 8,
      "outputs": []
    },
    {
      "cell_type": "code",
      "metadata": {
        "id": "wDpvKNOloNmD"
      },
      "source": [
        "# Carregando os dados para df_X e df_y:\n",
        "df_cc.columns"
      ],
      "execution_count": null,
      "outputs": []
    },
    {
      "cell_type": "code",
      "metadata": {
        "id": "ceEneOMxpugd"
      },
      "source": [
        "df_cc.columns[0:30]"
      ],
      "execution_count": null,
      "outputs": []
    },
    {
      "cell_type": "code",
      "metadata": {
        "id": "GyKDzmccqBI9"
      },
      "source": [
        "df_cc.columns[30]"
      ],
      "execution_count": null,
      "outputs": []
    },
    {
      "cell_type": "code",
      "metadata": {
        "id": "MTsCGiilqJIF"
      },
      "source": [
        "df_X = df_cc.iloc[:,1:30]"
      ],
      "execution_count": 9,
      "outputs": []
    },
    {
      "cell_type": "code",
      "metadata": {
        "id": "akMMQM5osq7I"
      },
      "source": [
        "df_X"
      ],
      "execution_count": null,
      "outputs": []
    },
    {
      "cell_type": "code",
      "metadata": {
        "id": "Y3CycZMvstDx"
      },
      "source": [
        "df_y = df_cc.iloc[:,30]"
      ],
      "execution_count": 10,
      "outputs": []
    },
    {
      "cell_type": "code",
      "metadata": {
        "id": "ynEamdcytSdO"
      },
      "source": [
        "df_y"
      ],
      "execution_count": null,
      "outputs": []
    },
    {
      "cell_type": "code",
      "metadata": {
        "id": "kAQvizbWtUKZ"
      },
      "source": [
        "df_y.unique()"
      ],
      "execution_count": null,
      "outputs": []
    },
    {
      "cell_type": "code",
      "metadata": {
        "id": "yDDcZS26tZLI"
      },
      "source": [
        "type(df_y)"
      ],
      "execution_count": null,
      "outputs": []
    },
    {
      "cell_type": "code",
      "metadata": {
        "id": "-IvyU-IeuBEx"
      },
      "source": [
        "# Definindo amostras de treinamento e teste:\n",
        "from sklearn.model_selection import train_test_split\n",
        "X_treinamento, X_teste, y_treinamento, y_teste = train_test_split(df_X, df_y, test_size = f_Test_Size, random_state = i_Seed)"
      ],
      "execution_count": 12,
      "outputs": []
    },
    {
      "cell_type": "code",
      "metadata": {
        "id": "etT4ICWItLxn"
      },
      "source": [
        "X_treinamento.shape"
      ],
      "execution_count": null,
      "outputs": []
    },
    {
      "cell_type": "code",
      "metadata": {
        "id": "A8zoGs23tJu1"
      },
      "source": [
        "X_teste.shape"
      ],
      "execution_count": null,
      "outputs": []
    },
    {
      "cell_type": "code",
      "metadata": {
        "id": "Fvz04OZ5qFS7"
      },
      "source": [
        "y_treinamento.shape"
      ],
      "execution_count": null,
      "outputs": []
    },
    {
      "cell_type": "code",
      "metadata": {
        "id": "lJ8sgQgIp9F3"
      },
      "source": [
        "y_teste.shape"
      ],
      "execution_count": null,
      "outputs": []
    },
    {
      "cell_type": "code",
      "metadata": {
        "id": "GZlw_LSW0dGD"
      },
      "source": [
        "# Método de Machine Learning: Aprendizagem Supervisionada\n",
        "# Algoritmo selecionado: Decision Tree\n",
        "# Instancia (configuração do Decision Trees) com os parâmetros sugeridos para se evitar overfitting:\n",
        "\n",
        "from sklearn.tree import DecisionTreeClassifier # Library para Decision Tree (Classificação)\n",
        "\n",
        "ml_DT = DecisionTreeClassifier(criterion = 'gini', \n",
        "                               splitter = 'best', \n",
        "                               max_depth = None, \n",
        "                               min_samples_split = 2, \n",
        "                               min_samples_leaf = 1, \n",
        "                               min_weight_fraction_leaf = 0.0, \n",
        "                               max_features = None, \n",
        "                               random_state = i_Seed, \n",
        "                               max_leaf_nodes = None, \n",
        "                               min_impurity_decrease = 0.0, \n",
        "                               min_impurity_split = None, \n",
        "                               class_weight = None, \n",
        "                               presort = False)\n",
        "\n"
      ],
      "execution_count": 13,
      "outputs": []
    },
    {
      "cell_type": "code",
      "metadata": {
        "id": "GGIj_y8V0wUA"
      },
      "source": [
        "ml_DT"
      ],
      "execution_count": null,
      "outputs": []
    },
    {
      "cell_type": "code",
      "metadata": {
        "id": "KtQvzJtH0zwy",
        "outputId": "c60cacc9-9f8a-415c-cd13-0e54cdf6b906",
        "colab": {
          "base_uri": "https://localhost:8080/",
          "height": 173
        }
      },
      "source": [
        "# Treinar o algoritmo/classificador: fit(df)\n",
        "ml_DT.fit(X_treinamento, y_treinamento)"
      ],
      "execution_count": 14,
      "outputs": [
        {
          "output_type": "stream",
          "text": [
            "/usr/local/lib/python3.6/dist-packages/sklearn/tree/_classes.py:319: FutureWarning: The parameter 'presort' is deprecated and has no effect. It will be removed in v0.24. You can suppress this warning by not passing any value to the 'presort' parameter.\n",
            "  FutureWarning)\n"
          ],
          "name": "stderr"
        },
        {
          "output_type": "execute_result",
          "data": {
            "text/plain": [
              "DecisionTreeClassifier(ccp_alpha=0.0, class_weight=None, criterion='gini',\n",
              "                       max_depth=None, max_features=None, max_leaf_nodes=None,\n",
              "                       min_impurity_decrease=0.0, min_impurity_split=None,\n",
              "                       min_samples_leaf=1, min_samples_split=2,\n",
              "                       min_weight_fraction_leaf=0.0, presort=False,\n",
              "                       random_state=20111974, splitter='best')"
            ]
          },
          "metadata": {
            "tags": []
          },
          "execution_count": 14
        }
      ]
    },
    {
      "cell_type": "code",
      "metadata": {
        "id": "Plloa4RapyPv",
        "outputId": "4d77fd8d-e994-4a64-f40c-4daddbd9e58c",
        "colab": {
          "base_uri": "https://localhost:8080/",
          "height": 411
        }
      },
      "source": [
        "# Cross-Validation com k = 10 folds (= 10 partes)\n",
        "i_CV=10\n",
        "from sklearn.model_selection import cross_val_score # Para o CV (Cross-Validation)\n",
        "\n",
        "# Função para Cross-Validation:\n",
        "\n",
        "def funcao_cross_val_score(modelo, X_treinamento, y_treinamento, CV):\n",
        "    \n",
        "    #versão com cross_val_score:\n",
        "    a_scores_CV = cross_val_score(modelo, X_treinamento, y_treinamento, cv = CV)\n",
        "    print(f'Média das Acurácias calculadas pelo CV....: {100*round(a_scores_CV.mean(),4)}')\n",
        "    print(f'std médio das Acurácias calculadas pelo CV: {100*round(a_scores_CV.std(),4)}')\n",
        "    return a_scores_CV  # é um array com os scores a cada iteração do CV\n",
        "\n",
        "a_scores_CV = funcao_cross_val_score(ml_DT, X_treinamento, y_treinamento, i_CV)"
      ],
      "execution_count": 15,
      "outputs": [
        {
          "output_type": "stream",
          "text": [
            "/usr/local/lib/python3.6/dist-packages/sklearn/tree/_classes.py:319: FutureWarning: The parameter 'presort' is deprecated and has no effect. It will be removed in v0.24. You can suppress this warning by not passing any value to the 'presort' parameter.\n",
            "  FutureWarning)\n",
            "/usr/local/lib/python3.6/dist-packages/sklearn/tree/_classes.py:319: FutureWarning: The parameter 'presort' is deprecated and has no effect. It will be removed in v0.24. You can suppress this warning by not passing any value to the 'presort' parameter.\n",
            "  FutureWarning)\n",
            "/usr/local/lib/python3.6/dist-packages/sklearn/tree/_classes.py:319: FutureWarning: The parameter 'presort' is deprecated and has no effect. It will be removed in v0.24. You can suppress this warning by not passing any value to the 'presort' parameter.\n",
            "  FutureWarning)\n",
            "/usr/local/lib/python3.6/dist-packages/sklearn/tree/_classes.py:319: FutureWarning: The parameter 'presort' is deprecated and has no effect. It will be removed in v0.24. You can suppress this warning by not passing any value to the 'presort' parameter.\n",
            "  FutureWarning)\n",
            "/usr/local/lib/python3.6/dist-packages/sklearn/tree/_classes.py:319: FutureWarning: The parameter 'presort' is deprecated and has no effect. It will be removed in v0.24. You can suppress this warning by not passing any value to the 'presort' parameter.\n",
            "  FutureWarning)\n",
            "/usr/local/lib/python3.6/dist-packages/sklearn/tree/_classes.py:319: FutureWarning: The parameter 'presort' is deprecated and has no effect. It will be removed in v0.24. You can suppress this warning by not passing any value to the 'presort' parameter.\n",
            "  FutureWarning)\n",
            "/usr/local/lib/python3.6/dist-packages/sklearn/tree/_classes.py:319: FutureWarning: The parameter 'presort' is deprecated and has no effect. It will be removed in v0.24. You can suppress this warning by not passing any value to the 'presort' parameter.\n",
            "  FutureWarning)\n",
            "/usr/local/lib/python3.6/dist-packages/sklearn/tree/_classes.py:319: FutureWarning: The parameter 'presort' is deprecated and has no effect. It will be removed in v0.24. You can suppress this warning by not passing any value to the 'presort' parameter.\n",
            "  FutureWarning)\n",
            "/usr/local/lib/python3.6/dist-packages/sklearn/tree/_classes.py:319: FutureWarning: The parameter 'presort' is deprecated and has no effect. It will be removed in v0.24. You can suppress this warning by not passing any value to the 'presort' parameter.\n",
            "  FutureWarning)\n",
            "/usr/local/lib/python3.6/dist-packages/sklearn/tree/_classes.py:319: FutureWarning: The parameter 'presort' is deprecated and has no effect. It will be removed in v0.24. You can suppress this warning by not passing any value to the 'presort' parameter.\n",
            "  FutureWarning)\n"
          ],
          "name": "stderr"
        },
        {
          "output_type": "stream",
          "text": [
            "Média das Acurácias calculadas pelo CV....: 99.89\n",
            "std médio das Acurácias calculadas pelo CV: 0.09\n"
          ],
          "name": "stdout"
        }
      ]
    },
    {
      "cell_type": "code",
      "metadata": {
        "id": "U8Vu_Ga4prgR",
        "outputId": "d64e4e45-b3f8-4dc9-cff7-38d0808af89c",
        "colab": {
          "base_uri": "https://localhost:8080/",
          "height": 51
        }
      },
      "source": [
        "a_scores_CV"
      ],
      "execution_count": 16,
      "outputs": [
        {
          "output_type": "execute_result",
          "data": {
            "text/plain": [
              "array([1.        , 0.99888765, 0.99777531, 0.99777531, 0.99888765,\n",
              "       0.99888765, 1.        , 0.99888765, 0.99777283, 1.        ])"
            ]
          },
          "metadata": {
            "tags": []
          },
          "execution_count": 16
        }
      ]
    },
    {
      "cell_type": "code",
      "metadata": {
        "id": "-FFxONeVf6Bx",
        "outputId": "0a4ab21b-92c9-480b-b2bd-d2b43c4224bf",
        "colab": {
          "base_uri": "https://localhost:8080/",
          "height": 34
        }
      },
      "source": [
        "ml_DT.score(X_teste, y_teste)"
      ],
      "execution_count": 18,
      "outputs": [
        {
          "output_type": "execute_result",
          "data": {
            "text/plain": [
              "0.998961847910719"
            ]
          },
          "metadata": {
            "tags": []
          },
          "execution_count": 18
        }
      ]
    },
    {
      "cell_type": "code",
      "metadata": {
        "id": "6vAfZRhG41Jh"
      },
      "source": [
        "# Matriz de confusão\n",
        "# Fazer predições usando o classificados DecisionTree para deduzir na amostra de teste:\n",
        "y_pred = ml_DT.predict(X_teste)"
      ],
      "execution_count": 33,
      "outputs": []
    },
    {
      "cell_type": "code",
      "metadata": {
        "id": "73ftzihbnWav"
      },
      "source": [
        "y_pred\n",
        "\n"
      ],
      "execution_count": null,
      "outputs": []
    },
    {
      "cell_type": "code",
      "metadata": {
        "id": "Zvj-OweYZVkK"
      },
      "source": [
        "len(y_pred)"
      ],
      "execution_count": null,
      "outputs": []
    },
    {
      "cell_type": "code",
      "metadata": {
        "id": "3LFmL7oXZZIn"
      },
      "source": [
        "y_pred.sum()"
      ],
      "execution_count": null,
      "outputs": []
    },
    {
      "cell_type": "code",
      "metadata": {
        "id": "RI44MDZnggcn",
        "outputId": "da001289-f6b8-451a-8c48-681dc069320c",
        "colab": {
          "base_uri": "https://localhost:8080/",
          "height": 538
        }
      },
      "source": [
        "# completar matriz de confusão\n",
        "from sklearn.metrics import confusion_matrix # para plotar a confusion matrix\n",
        "import seaborn as sns\n",
        "import matplotlib.pyplot as plt\n",
        "\n",
        "def mostra_confusion_matrix(cf, \n",
        "                            group_names = None, \n",
        "                            categories = 'auto', \n",
        "                            count = True, \n",
        "                            percent = True, \n",
        "                            cbar = True, \n",
        "                            xyticks = False, \n",
        "                            xyplotlabels = True, \n",
        "                            sum_stats = True, \n",
        "                            figsize = (8, 8), \n",
        "                            cmap = 'Blues'):\n",
        "    '''\n",
        "    This function will make a pretty plot of an sklearn Confusion Matrix cm using a Seaborn heatmap visualization.\n",
        "    Arguments\n",
        "    ---------\n",
        "    cf:            confusion matrix to be passed in\n",
        "    group_names:   List of strings that represent the labels row by row to be shown in each square.\n",
        "    categories:    List of strings containing the categories to be displayed on the x,y axis. Default is 'auto'\n",
        "    count:         If True, show the raw number in the confusion matrix. Default is True.\n",
        "    normalize:     If True, show the proportions for each category. Default is True.\n",
        "    cbar:          If True, show the color bar. The cbar values are based off the values in the confusion matrix.\n",
        "                   Default is True.\n",
        "    xyticks:       If True, show x and y ticks. Default is True.\n",
        "    xyplotlabels:  If True, show 'True Label' and 'Predicted Label' on the figure. Default is True.\n",
        "    sum_stats:     If True, display summary statistics below the figure. Default is True.\n",
        "    figsize:       Tuple representing the figure size. Default will be the matplotlib rcParams value.\n",
        "    cmap:          Colormap of the values displayed from matplotlib.pyplot.cm. Default is 'Blues'\n",
        "                   See http://matplotlib.org/examples/color/colormaps_reference.html\n",
        "    '''\n",
        "\n",
        "    # CODE TO GENERATE TEXT INSIDE EACH SQUARE\n",
        "    blanks = ['' for i in range(cf.size)]\n",
        "\n",
        "    if group_names and len(group_names)==cf.size:\n",
        "        group_labels = [\"{}\\n\".format(value) for value in group_names]\n",
        "    else:\n",
        "        group_labels = blanks\n",
        "\n",
        "    if count:\n",
        "        group_counts = [\"{0:0.0f}\\n\".format(value) for value in cf.flatten()]\n",
        "    else:\n",
        "        group_counts = blanks\n",
        "\n",
        "    if percent:\n",
        "        group_percentages = [\"{0:.2%}\".format(value) for value in cf.flatten()/np.sum(cf)]\n",
        "    else:\n",
        "        group_percentages = blanks\n",
        "\n",
        "    box_labels = [f\"{v1}{v2}{v3}\".strip() for v1, v2, v3 in zip(group_labels,group_counts,group_percentages)]\n",
        "    box_labels = np.asarray(box_labels).reshape(cf.shape[0],cf.shape[1])\n",
        "\n",
        "    # CODE TO GENERATE SUMMARY STATISTICS & TEXT FOR SUMMARY STATS\n",
        "    if sum_stats:\n",
        "        #Accuracy is sum of diagonal divided by total observations\n",
        "        accuracy  = np.trace(cf) / float(np.sum(cf))\n",
        "\n",
        "        #if it is a binary confusion matrix, show some more stats\n",
        "        if len(cf)==2:\n",
        "            #Metrics for Binary Confusion Matrices\n",
        "            precision = cf[1,1] / sum(cf[:,1])\n",
        "            recall    = cf[1,1] / sum(cf[1,:])\n",
        "            f1_score  = 2*precision*recall / (precision + recall)\n",
        "            stats_text = \"\\n\\nAccuracy={:0.3f}\\nPrecision={:0.3f}\\nRecall={:0.3f}\\nF1 Score={:0.3f}\".format(accuracy,precision,recall,f1_score)\n",
        "        else:\n",
        "            stats_text = \"\\n\\nAccuracy={:0.3f}\".format(accuracy)\n",
        "    else:\n",
        "        stats_text = \"\"\n",
        "\n",
        "    # SET FIGURE PARAMETERS ACCORDING TO OTHER ARGUMENTS\n",
        "    if figsize==None:\n",
        "        #Get default figure size if not set\n",
        "        figsize = plt.rcParams.get('figure.figsize')\n",
        "\n",
        "    if xyticks==False:\n",
        "        #Do not show categories if xyticks is False\n",
        "        categories=False\n",
        "\n",
        "    # MAKE THE HEATMAP VISUALIZATION\n",
        "    plt.figure(figsize=figsize)\n",
        "    sns.heatmap(cf,annot=box_labels,fmt=\"\",cmap=cmap,cbar=cbar,xticklabels=categories,yticklabels=categories)\n",
        "\n",
        "    if xyplotlabels:\n",
        "        plt.ylabel('True label')\n",
        "        plt.xlabel('Predicted label' + stats_text)\n",
        "    else:\n",
        "        plt.xlabel(stats_text)\n",
        "\n",
        "\n",
        "cf_matrix = confusion_matrix(y_teste, y_pred)\n",
        "cf_labels = ['True_Negative', 'False_Positive', 'False_Negative', 'True_Positive']\n",
        "cf_categories = ['Zero', 'One']\n",
        "mostra_confusion_matrix(cf_matrix, group_names= cf_labels, categories= cf_categories)"
      ],
      "execution_count": 35,
      "outputs": [
        {
          "output_type": "display_data",
          "data": {
            "image/png": "[encoded data removed]",
            "text/plain": [
              "<Figure size 576x576 with 2 Axes>"
            ]
          },
          "metadata": {
            "tags": [],
            "needs_background": "light"
          }
        }
      ]
    },
    {
      "cell_type": "code",
      "metadata": {
        "id": "D7WQPyZDZgZx"
      },
      "source": [
        "from sklearn.model_selection import GridSearchCV # para otimizar os parâmetros dos modelos preditivos\n"
      ],
      "execution_count": 36,
      "outputs": []
    },
    {
      "cell_type": "code",
      "metadata": {
        "id": "dq1aiuUsfKdU"
      },
      "source": [
        "def GridSearchOptimizer(modelo, ml_Opt, d_Parametros, X_treinamento, y_treinamento, X_teste, y_teste, i_CV, l_colunas):\n",
        "    ml_GridSearchCV = GridSearchCV(modelo, d_Parametros, cv = i_CV, n_jobs = -1, verbose= 10, scoring = 'accuracy')\n",
        "    start = time()\n",
        "    ml_GridSearchCV.fit(X_treinamento, y_treinamento)\n",
        "    tempo_elapsed = time()-start\n",
        "    #print(f\"\\nGridSearchCV levou {tempo_elapsed:.2f} segundos.\")\n",
        "\n",
        "    # Parâmetros que otimizam a classificação:\n",
        "    print(f'\\nParametros otimizados: {ml_GridSearchCV.best_params_}')\n",
        "    \n",
        "    if ml_Opt == 'ml_DT2':\n",
        "        print(f'\\nDecisionTreeClassifier *********************************************************************************************************')\n",
        "        ml_Opt = DecisionTreeClassifier(criterion= ml_GridSearchCV.best_params_['criterion'], \n",
        "                                        max_depth= ml_GridSearchCV.best_params_['max_depth'],\n",
        "                                        max_leaf_nodes= ml_GridSearchCV.best_params_['max_leaf_nodes'],\n",
        "                                        min_samples_split= ml_GridSearchCV.best_params_['min_samples_leaf'],\n",
        "                                        min_samples_leaf= ml_GridSearchCV.best_params_['min_samples_split'], \n",
        "                                        random_state= i_Seed)\n",
        "        \n",
        "    elif ml_Opt == 'ml_RF2':\n",
        "        print(f'\\nRandomForestClassifier *********************************************************************************************************')\n",
        "        ml_Opt = RandomForestClassifier(bootstrap= ml_GridSearchCV.best_params_['bootstrap'], \n",
        "                                        max_depth= ml_GridSearchCV.best_params_['max_depth'],\n",
        "                                        max_features= ml_GridSearchCV.best_params_['max_features'],\n",
        "                                        min_samples_leaf= ml_GridSearchCV.best_params_['min_samples_leaf'],\n",
        "                                        min_samples_split= ml_GridSearchCV.best_params_['min_samples_split'],\n",
        "                                        n_estimators= ml_GridSearchCV.best_params_['n_estimators'],\n",
        "                                        random_state= i_Seed)\n",
        "        \n",
        "    elif ml_Opt == 'ml_AB2':\n",
        "        print(f'\\nAdaBoostClassifier *********************************************************************************************************')\n",
        "        ml_Opt = AdaBoostClassifier(algorithm='SAMME.R', \n",
        "                                    base_estimator=RandomForestClassifier(bootstrap = False, \n",
        "                                                                          max_depth = 10, \n",
        "                                                                          max_features = 'auto', \n",
        "                                                                          min_samples_leaf = 1, \n",
        "                                                                          min_samples_split = 2, \n",
        "                                                                          n_estimators = 400), \n",
        "                                    learning_rate = ml_GridSearchCV.best_params_['learning_rate'], \n",
        "                                    n_estimators = ml_GridSearchCV.best_params_['n_estimators'], \n",
        "                                    random_state = i_Seed)\n",
        "        \n",
        "    elif ml_Opt == 'ml_GB2':\n",
        "        print(f'\\nGradientBoostingClassifier *********************************************************************************************************')\n",
        "        ml_Opt = GradientBoostingClassifier(learning_rate = ml_GridSearchCV.best_params_['learning_rate'], \n",
        "                                            n_estimators = ml_GridSearchCV.best_params_['n_estimators'], \n",
        "                                            max_depth = ml_GridSearchCV.best_params_['max_depth'], \n",
        "                                            min_samples_split = ml_GridSearchCV.best_params_['min_samples_split'], \n",
        "                                            min_samples_leaf = ml_GridSearchCV.best_params_['min_samples_leaf'], \n",
        "                                            max_features = ml_GridSearchCV.best_params_['max_features'])\n",
        "        \n",
        "    elif ml_Opt == 'ml_XGB2':\n",
        "        print(f'\\nXGBoostingClassifier *********************************************************************************************************')\n",
        "        ml_Opt = XGBoostingClassifier(learning_rate= ml_GridSearchCV.best_params_['learning_rate'], \n",
        "                                      max_depth= ml_GridSearchCV.best_params_['max_depth'], \n",
        "                                      colsample_bytree= ml_GridSearchCV.best_params_['colsample_bytree'], \n",
        "                                      subsample= ml_GridSearchCV.best_params_['subsample'], \n",
        "                                      gamma= ml_GridSearchCV.best_params_['gamma'], \n",
        "                                      min_child_weight= ml_GridSearchCV.best_params_['min_child_weight'])\n",
        "        \n",
        "    # Treina novamente usando os parametros otimizados...\n",
        "    ml_Opt.fit(X_treinamento, y_treinamento)\n",
        "\n",
        "    # Cross-Validation com 10 folds\n",
        "    print(f'\\n********* CROSS-VALIDATION ***********')\n",
        "    a_scores_CV = funcao_cross_val_score(ml_Opt, X_treinamento, y_treinamento, i_CV)\n",
        "\n",
        "    # Faz predições com os parametros otimizados...\n",
        "    y_pred = ml_Opt.predict(X_teste)\n",
        "  \n",
        "    # Importância das COLUNAS\n",
        "    print(f'\\n********* IMPORTÂNCIA DAS COLUNAS ***********')\n",
        "    df_importancia_variaveis = pd.DataFrame(zip(l_colunas, ml_Opt.feature_importances_), columns= ['coluna', 'importancia'])\n",
        "    df_importancia_variaveis = df_importancia_variaveis.sort_values(by= ['importancia'], ascending=False)\n",
        "    print(df_importancia_variaveis)\n",
        "\n",
        "    # Matriz de Confusão\n",
        "    print(f'\\n********* CONFUSION MATRIX - PARAMETER TUNNING ***********')\n",
        "    cf_matrix = confusion_matrix(y_teste, y_pred)\n",
        "    cf_labels = ['True_Negative', 'False_Positive', 'False_Negative', 'True_Positive']\n",
        "    cf_categories = ['Zero', 'One']\n",
        "    mostra_confusion_matrix(cf_matrix, group_names = cf_labels, categories = cf_categories)\n",
        "\n",
        "    return ml_Opt, ml_GridSearchCV.best_params_\n"
      ],
      "execution_count": 37,
      "outputs": []
    },
    {
      "cell_type": "code",
      "metadata": {
        "id": "bLMdhtTocko8",
        "outputId": "3563c49a-5fb0-47a4-92a8-39711454010c",
        "colab": {
          "base_uri": "https://localhost:8080/",
          "height": 85
        }
      },
      "source": [
        "df_X.columns"
      ],
      "execution_count": 38,
      "outputs": [
        {
          "output_type": "execute_result",
          "data": {
            "text/plain": [
              "Index(['v1', 'v2', 'v3', 'v4', 'v5', 'v6', 'v7', 'v8', 'v9', 'v10', 'v11',\n",
              "       'v12', 'v13', 'v14', 'v15', 'v16', 'v17', 'v18', 'v19', 'v20', 'v21',\n",
              "       'v22', 'v23', 'v24', 'v25', 'v26', 'v27', 'v28', 'amount'],\n",
              "      dtype='object')"
            ]
          },
          "metadata": {
            "tags": []
          },
          "execution_count": 38
        }
      ]
    },
    {
      "cell_type": "code",
      "metadata": {
        "id": "_3pvjHHKcr4d"
      },
      "source": [
        "l_colunas = df_X.columns"
      ],
      "execution_count": 39,
      "outputs": []
    },
    {
      "cell_type": "code",
      "metadata": {
        "id": "HiNo7vnucg_u"
      },
      "source": [
        "# Dicionário de parâmetros para o parameter tunning. Ao todo serão ajustados 2X13X5X5X7= 4.550 modelos. Contando com 10 folds no Cross-Validation, então são 45.500 modelos.\n",
        "d_parametros_DT= {\"criterion\": [\"gini\", \"entropy\"], \"min_samples_split\": [2, 5, 10, 30, 50, 70, 90, 120, 150, 180, 210, 240, 270, 350, 400], \"max_depth\": [None, 2, 5, 9, 15], \"min_samples_leaf\": [20, 40, 60, 80, 100], \"max_leaf_nodes\": [None, 2, 3, 4, 5, 10, 15]}"
      ],
      "execution_count": 40,
      "outputs": []
    },
    {
      "cell_type": "code",
      "metadata": {
        "id": "1nSY5J1JdFh6",
        "outputId": "7d71f917-8e95-4664-a45c-582fc43493a6",
        "colab": {
          "base_uri": "https://localhost:8080/",
          "height": 1000
        }
      },
      "source": [
        "# Invoca a função com o modelo baseline:\n",
        "\n",
        "from time import time\n",
        "ml_DT2, best_params = GridSearchOptimizer(ml_DT, 'ml_DT2', d_parametros_DT, X_treinamento, y_treinamento, X_teste, y_teste, i_CV, l_colunas)\n"
      ],
      "execution_count": null,
      "outputs": [
        {
          "output_type": "stream",
          "text": [
            "Fitting 10 folds for each of 5250 candidates, totalling 52500 fits\n"
          ],
          "name": "stdout"
        },
        {
          "output_type": "stream",
          "text": [
            "[Parallel(n_jobs=-1)]: Using backend LokyBackend with 2 concurrent workers.\n",
            "[Parallel(n_jobs=-1)]: Done   1 tasks      | elapsed:    1.4s\n",
            "[Parallel(n_jobs=-1)]: Done   4 tasks      | elapsed:    1.7s\n",
            "[Parallel(n_jobs=-1)]: Done   9 tasks      | elapsed:    2.4s\n",
            "[Parallel(n_jobs=-1)]: Done  14 tasks      | elapsed:    2.8s\n",
            "[Parallel(n_jobs=-1)]: Done  21 tasks      | elapsed:    3.7s\n",
            "[Parallel(n_jobs=-1)]: Done  28 tasks      | elapsed:    4.4s\n",
            "[Parallel(n_jobs=-1)]: Done  37 tasks      | elapsed:    5.5s\n",
            "[Parallel(n_jobs=-1)]: Done  46 tasks      | elapsed:    6.4s\n",
            "[Parallel(n_jobs=-1)]: Done  57 tasks      | elapsed:    7.8s\n",
            "[Parallel(n_jobs=-1)]: Done  68 tasks      | elapsed:    8.9s\n",
            "[Parallel(n_jobs=-1)]: Done  81 tasks      | elapsed:   10.5s\n",
            "[Parallel(n_jobs=-1)]: Done  94 tasks      | elapsed:   11.8s\n",
            "[Parallel(n_jobs=-1)]: Done 109 tasks      | elapsed:   13.6s\n",
            "[Parallel(n_jobs=-1)]: Done 124 tasks      | elapsed:   15.2s\n",
            "[Parallel(n_jobs=-1)]: Done 141 tasks      | elapsed:   17.1s\n",
            "[Parallel(n_jobs=-1)]: Done 158 tasks      | elapsed:   18.8s\n",
            "[Parallel(n_jobs=-1)]: Done 177 tasks      | elapsed:   20.7s\n",
            "[Parallel(n_jobs=-1)]: Done 196 tasks      | elapsed:   22.4s\n",
            "[Parallel(n_jobs=-1)]: Done 217 tasks      | elapsed:   24.4s\n",
            "[Parallel(n_jobs=-1)]: Done 238 tasks      | elapsed:   26.3s\n",
            "[Parallel(n_jobs=-1)]: Done 261 tasks      | elapsed:   28.5s\n",
            "[Parallel(n_jobs=-1)]: Done 284 tasks      | elapsed:   30.6s\n",
            "[Parallel(n_jobs=-1)]: Done 309 tasks      | elapsed:   33.0s\n",
            "[Parallel(n_jobs=-1)]: Done 334 tasks      | elapsed:   35.3s\n",
            "[Parallel(n_jobs=-1)]: Done 361 tasks      | elapsed:   37.9s\n",
            "[Parallel(n_jobs=-1)]: Done 388 tasks      | elapsed:   40.4s\n",
            "[Parallel(n_jobs=-1)]: Done 417 tasks      | elapsed:   43.1s\n",
            "[Parallel(n_jobs=-1)]: Done 446 tasks      | elapsed:   45.7s\n",
            "[Parallel(n_jobs=-1)]: Done 477 tasks      | elapsed:   48.6s\n",
            "[Parallel(n_jobs=-1)]: Done 508 tasks      | elapsed:   51.5s\n",
            "[Parallel(n_jobs=-1)]: Done 541 tasks      | elapsed:   54.5s\n",
            "[Parallel(n_jobs=-1)]: Done 574 tasks      | elapsed:   57.6s\n",
            "[Parallel(n_jobs=-1)]: Done 609 tasks      | elapsed:  1.0min\n",
            "[Parallel(n_jobs=-1)]: Done 644 tasks      | elapsed:  1.1min\n",
            "[Parallel(n_jobs=-1)]: Done 681 tasks      | elapsed:  1.1min\n",
            "[Parallel(n_jobs=-1)]: Done 718 tasks      | elapsed:  1.2min\n",
            "[Parallel(n_jobs=-1)]: Done 757 tasks      | elapsed:  1.2min\n",
            "[Parallel(n_jobs=-1)]: Done 796 tasks      | elapsed:  1.3min\n",
            "[Parallel(n_jobs=-1)]: Done 837 tasks      | elapsed:  1.3min\n",
            "[Parallel(n_jobs=-1)]: Done 878 tasks      | elapsed:  1.3min\n",
            "[Parallel(n_jobs=-1)]: Done 921 tasks      | elapsed:  1.4min\n",
            "[Parallel(n_jobs=-1)]: Done 964 tasks      | elapsed:  1.4min\n",
            "[Parallel(n_jobs=-1)]: Done 1009 tasks      | elapsed:  1.5min\n",
            "[Parallel(n_jobs=-1)]: Done 1054 tasks      | elapsed:  1.5min\n",
            "[Parallel(n_jobs=-1)]: Done 1101 tasks      | elapsed:  1.5min\n",
            "[Parallel(n_jobs=-1)]: Done 1148 tasks      | elapsed:  1.6min\n",
            "[Parallel(n_jobs=-1)]: Done 1197 tasks      | elapsed:  1.6min\n",
            "[Parallel(n_jobs=-1)]: Done 1246 tasks      | elapsed:  1.7min\n",
            "[Parallel(n_jobs=-1)]: Done 1297 tasks      | elapsed:  1.7min\n",
            "[Parallel(n_jobs=-1)]: Done 1348 tasks      | elapsed:  1.8min\n",
            "[Parallel(n_jobs=-1)]: Done 1401 tasks      | elapsed:  1.8min\n",
            "[Parallel(n_jobs=-1)]: Done 1454 tasks      | elapsed:  1.9min\n",
            "[Parallel(n_jobs=-1)]: Done 1509 tasks      | elapsed:  1.9min\n",
            "[Parallel(n_jobs=-1)]: Done 1564 tasks      | elapsed:  2.0min\n",
            "[Parallel(n_jobs=-1)]: Done 1621 tasks      | elapsed:  2.0min\n",
            "[Parallel(n_jobs=-1)]: Done 1678 tasks      | elapsed:  2.1min\n",
            "[Parallel(n_jobs=-1)]: Done 1737 tasks      | elapsed:  2.2min\n",
            "[Parallel(n_jobs=-1)]: Done 1796 tasks      | elapsed:  2.3min\n",
            "[Parallel(n_jobs=-1)]: Done 1857 tasks      | elapsed:  2.3min\n",
            "[Parallel(n_jobs=-1)]: Done 1918 tasks      | elapsed:  2.4min\n",
            "[Parallel(n_jobs=-1)]: Done 1981 tasks      | elapsed:  2.5min\n",
            "[Parallel(n_jobs=-1)]: Done 2044 tasks      | elapsed:  2.6min\n",
            "[Parallel(n_jobs=-1)]: Done 2109 tasks      | elapsed:  2.7min\n",
            "[Parallel(n_jobs=-1)]: Done 2174 tasks      | elapsed:  2.7min\n",
            "[Parallel(n_jobs=-1)]: Done 2241 tasks      | elapsed:  2.8min\n",
            "[Parallel(n_jobs=-1)]: Done 2308 tasks      | elapsed:  2.9min\n",
            "[Parallel(n_jobs=-1)]: Done 2377 tasks      | elapsed:  3.0min\n",
            "[Parallel(n_jobs=-1)]: Done 2446 tasks      | elapsed:  3.1min\n",
            "[Parallel(n_jobs=-1)]: Done 2517 tasks      | elapsed:  3.2min\n",
            "[Parallel(n_jobs=-1)]: Done 2588 tasks      | elapsed:  3.3min\n",
            "[Parallel(n_jobs=-1)]: Done 2661 tasks      | elapsed:  3.5min\n",
            "[Parallel(n_jobs=-1)]: Done 2734 tasks      | elapsed:  3.6min\n",
            "[Parallel(n_jobs=-1)]: Done 2809 tasks      | elapsed:  3.7min\n",
            "[Parallel(n_jobs=-1)]: Done 2884 tasks      | elapsed:  3.8min\n",
            "[Parallel(n_jobs=-1)]: Done 2961 tasks      | elapsed:  3.9min\n",
            "[Parallel(n_jobs=-1)]: Done 3038 tasks      | elapsed:  4.0min\n",
            "[Parallel(n_jobs=-1)]: Done 3117 tasks      | elapsed:  4.2min\n",
            "[Parallel(n_jobs=-1)]: Done 3196 tasks      | elapsed:  4.3min\n",
            "[Parallel(n_jobs=-1)]: Done 3277 tasks      | elapsed:  4.4min\n",
            "[Parallel(n_jobs=-1)]: Done 3358 tasks      | elapsed:  4.6min\n",
            "[Parallel(n_jobs=-1)]: Done 3441 tasks      | elapsed:  4.7min\n",
            "[Parallel(n_jobs=-1)]: Done 3524 tasks      | elapsed:  4.8min\n",
            "[Parallel(n_jobs=-1)]: Done 3609 tasks      | elapsed:  5.0min\n",
            "[Parallel(n_jobs=-1)]: Done 3694 tasks      | elapsed:  5.1min\n",
            "[Parallel(n_jobs=-1)]: Done 3781 tasks      | elapsed:  5.2min\n",
            "[Parallel(n_jobs=-1)]: Done 3868 tasks      | elapsed:  5.4min\n",
            "[Parallel(n_jobs=-1)]: Done 3957 tasks      | elapsed:  5.5min\n",
            "[Parallel(n_jobs=-1)]: Done 4046 tasks      | elapsed:  5.7min\n",
            "[Parallel(n_jobs=-1)]: Done 4137 tasks      | elapsed:  5.8min\n",
            "[Parallel(n_jobs=-1)]: Done 4228 tasks      | elapsed:  6.0min\n",
            "[Parallel(n_jobs=-1)]: Done 4321 tasks      | elapsed:  6.1min\n",
            "[Parallel(n_jobs=-1)]: Done 4414 tasks      | elapsed:  6.2min\n",
            "[Parallel(n_jobs=-1)]: Done 4509 tasks      | elapsed:  6.4min\n",
            "[Parallel(n_jobs=-1)]: Done 4604 tasks      | elapsed:  6.6min\n",
            "[Parallel(n_jobs=-1)]: Done 4701 tasks      | elapsed:  6.7min\n",
            "[Parallel(n_jobs=-1)]: Done 4798 tasks      | elapsed:  6.9min\n",
            "[Parallel(n_jobs=-1)]: Done 4897 tasks      | elapsed:  7.0min\n",
            "[Parallel(n_jobs=-1)]: Done 4996 tasks      | elapsed:  7.2min\n",
            "[Parallel(n_jobs=-1)]: Done 5097 tasks      | elapsed:  7.3min\n",
            "[Parallel(n_jobs=-1)]: Done 5198 tasks      | elapsed:  7.5min\n",
            "[Parallel(n_jobs=-1)]: Done 5301 tasks      | elapsed:  7.6min\n",
            "[Parallel(n_jobs=-1)]: Done 5404 tasks      | elapsed:  7.7min\n",
            "[Parallel(n_jobs=-1)]: Done 5509 tasks      | elapsed:  7.8min\n",
            "[Parallel(n_jobs=-1)]: Done 5614 tasks      | elapsed:  7.9min\n",
            "[Parallel(n_jobs=-1)]: Done 5721 tasks      | elapsed:  8.0min\n",
            "[Parallel(n_jobs=-1)]: Done 5828 tasks      | elapsed:  8.1min\n",
            "[Parallel(n_jobs=-1)]: Done 5937 tasks      | elapsed:  8.2min\n",
            "[Parallel(n_jobs=-1)]: Done 6046 tasks      | elapsed:  8.3min\n",
            "[Parallel(n_jobs=-1)]: Done 6157 tasks      | elapsed:  8.4min\n",
            "[Parallel(n_jobs=-1)]: Done 6268 tasks      | elapsed:  8.5min\n",
            "[Parallel(n_jobs=-1)]: Done 6381 tasks      | elapsed:  8.6min\n",
            "[Parallel(n_jobs=-1)]: Done 6494 tasks      | elapsed:  8.7min\n",
            "[Parallel(n_jobs=-1)]: Done 6609 tasks      | elapsed:  8.8min\n",
            "[Parallel(n_jobs=-1)]: Done 6724 tasks      | elapsed:  8.9min\n",
            "[Parallel(n_jobs=-1)]: Done 6841 tasks      | elapsed:  9.0min\n",
            "[Parallel(n_jobs=-1)]: Done 6958 tasks      | elapsed:  9.1min\n",
            "[Parallel(n_jobs=-1)]: Done 7077 tasks      | elapsed:  9.2min\n",
            "[Parallel(n_jobs=-1)]: Done 7196 tasks      | elapsed:  9.3min\n",
            "[Parallel(n_jobs=-1)]: Done 7317 tasks      | elapsed:  9.4min\n",
            "[Parallel(n_jobs=-1)]: Done 7438 tasks      | elapsed:  9.5min\n",
            "[Parallel(n_jobs=-1)]: Done 7561 tasks      | elapsed:  9.6min\n",
            "[Parallel(n_jobs=-1)]: Done 7684 tasks      | elapsed:  9.7min\n",
            "[Parallel(n_jobs=-1)]: Done 7809 tasks      | elapsed:  9.9min\n",
            "[Parallel(n_jobs=-1)]: Done 7934 tasks      | elapsed: 10.0min\n",
            "[Parallel(n_jobs=-1)]: Done 8061 tasks      | elapsed: 10.1min\n",
            "[Parallel(n_jobs=-1)]: Done 8188 tasks      | elapsed: 10.2min\n",
            "[Parallel(n_jobs=-1)]: Done 8317 tasks      | elapsed: 10.3min\n",
            "[Parallel(n_jobs=-1)]: Done 8446 tasks      | elapsed: 10.4min\n",
            "[Parallel(n_jobs=-1)]: Done 8577 tasks      | elapsed: 10.5min\n",
            "[Parallel(n_jobs=-1)]: Done 8708 tasks      | elapsed: 10.7min\n",
            "[Parallel(n_jobs=-1)]: Done 8841 tasks      | elapsed: 10.8min\n",
            "[Parallel(n_jobs=-1)]: Done 8974 tasks      | elapsed: 10.9min\n",
            "[Parallel(n_jobs=-1)]: Done 9109 tasks      | elapsed: 11.0min\n",
            "[Parallel(n_jobs=-1)]: Done 9244 tasks      | elapsed: 11.1min\n",
            "[Parallel(n_jobs=-1)]: Done 9381 tasks      | elapsed: 11.3min\n",
            "[Parallel(n_jobs=-1)]: Done 9518 tasks      | elapsed: 11.4min\n",
            "[Parallel(n_jobs=-1)]: Done 9657 tasks      | elapsed: 11.5min\n",
            "[Parallel(n_jobs=-1)]: Done 9796 tasks      | elapsed: 11.7min\n",
            "[Parallel(n_jobs=-1)]: Done 9937 tasks      | elapsed: 11.8min\n",
            "[Parallel(n_jobs=-1)]: Done 10078 tasks      | elapsed: 12.0min\n",
            "[Parallel(n_jobs=-1)]: Done 10221 tasks      | elapsed: 12.1min\n",
            "[Parallel(n_jobs=-1)]: Done 10364 tasks      | elapsed: 12.2min\n",
            "[Parallel(n_jobs=-1)]: Done 10509 tasks      | elapsed: 12.3min\n",
            "[Parallel(n_jobs=-1)]: Done 10654 tasks      | elapsed: 12.6min\n",
            "[Parallel(n_jobs=-1)]: Done 10801 tasks      | elapsed: 12.8min\n",
            "[Parallel(n_jobs=-1)]: Done 10948 tasks      | elapsed: 13.1min\n",
            "[Parallel(n_jobs=-1)]: Done 11097 tasks      | elapsed: 13.3min\n",
            "[Parallel(n_jobs=-1)]: Done 11246 tasks      | elapsed: 13.5min\n",
            "[Parallel(n_jobs=-1)]: Done 11397 tasks      | elapsed: 13.7min\n",
            "[Parallel(n_jobs=-1)]: Done 11548 tasks      | elapsed: 13.8min\n",
            "[Parallel(n_jobs=-1)]: Done 11701 tasks      | elapsed: 13.9min\n",
            "[Parallel(n_jobs=-1)]: Done 11854 tasks      | elapsed: 14.1min\n",
            "[Parallel(n_jobs=-1)]: Done 12009 tasks      | elapsed: 14.2min\n",
            "[Parallel(n_jobs=-1)]: Done 12164 tasks      | elapsed: 14.4min\n",
            "[Parallel(n_jobs=-1)]: Done 12321 tasks      | elapsed: 14.6min\n",
            "[Parallel(n_jobs=-1)]: Done 12478 tasks      | elapsed: 14.8min\n",
            "[Parallel(n_jobs=-1)]: Done 12637 tasks      | elapsed: 15.0min\n",
            "[Parallel(n_jobs=-1)]: Done 12796 tasks      | elapsed: 15.2min\n",
            "[Parallel(n_jobs=-1)]: Done 12957 tasks      | elapsed: 15.5min\n",
            "[Parallel(n_jobs=-1)]: Done 13118 tasks      | elapsed: 15.7min\n",
            "[Parallel(n_jobs=-1)]: Done 13281 tasks      | elapsed: 15.9min\n",
            "[Parallel(n_jobs=-1)]: Done 13444 tasks      | elapsed: 16.2min\n",
            "[Parallel(n_jobs=-1)]: Done 13609 tasks      | elapsed: 16.5min\n",
            "[Parallel(n_jobs=-1)]: Done 13774 tasks      | elapsed: 16.7min\n",
            "[Parallel(n_jobs=-1)]: Done 13941 tasks      | elapsed: 17.0min\n",
            "[Parallel(n_jobs=-1)]: Done 14108 tasks      | elapsed: 17.3min\n",
            "[Parallel(n_jobs=-1)]: Done 14277 tasks      | elapsed: 17.5min\n",
            "[Parallel(n_jobs=-1)]: Done 14446 tasks      | elapsed: 17.8min\n",
            "[Parallel(n_jobs=-1)]: Done 14617 tasks      | elapsed: 18.1min\n",
            "[Parallel(n_jobs=-1)]: Done 14788 tasks      | elapsed: 18.3min\n",
            "[Parallel(n_jobs=-1)]: Done 14961 tasks      | elapsed: 18.6min\n",
            "[Parallel(n_jobs=-1)]: Done 15134 tasks      | elapsed: 18.9min\n",
            "[Parallel(n_jobs=-1)]: Done 15309 tasks      | elapsed: 19.2min\n",
            "[Parallel(n_jobs=-1)]: Done 15484 tasks      | elapsed: 19.5min\n",
            "[Parallel(n_jobs=-1)]: Done 15661 tasks      | elapsed: 19.7min\n",
            "[Parallel(n_jobs=-1)]: Done 15838 tasks      | elapsed: 20.0min\n",
            "[Parallel(n_jobs=-1)]: Done 16017 tasks      | elapsed: 20.3min\n",
            "[Parallel(n_jobs=-1)]: Done 16196 tasks      | elapsed: 20.6min\n",
            "[Parallel(n_jobs=-1)]: Done 16377 tasks      | elapsed: 20.9min\n",
            "[Parallel(n_jobs=-1)]: Done 16558 tasks      | elapsed: 21.1min\n",
            "[Parallel(n_jobs=-1)]: Done 16741 tasks      | elapsed: 21.3min\n",
            "[Parallel(n_jobs=-1)]: Done 16924 tasks      | elapsed: 21.5min\n",
            "[Parallel(n_jobs=-1)]: Done 17109 tasks      | elapsed: 21.6min\n",
            "[Parallel(n_jobs=-1)]: Done 17294 tasks      | elapsed: 21.8min\n",
            "[Parallel(n_jobs=-1)]: Done 17481 tasks      | elapsed: 22.0min\n",
            "[Parallel(n_jobs=-1)]: Done 17668 tasks      | elapsed: 22.3min\n",
            "[Parallel(n_jobs=-1)]: Done 17857 tasks      | elapsed: 22.5min\n",
            "[Parallel(n_jobs=-1)]: Done 18046 tasks      | elapsed: 22.8min\n",
            "[Parallel(n_jobs=-1)]: Done 18237 tasks      | elapsed: 23.1min\n",
            "[Parallel(n_jobs=-1)]: Done 18428 tasks      | elapsed: 23.3min\n",
            "[Parallel(n_jobs=-1)]: Done 18621 tasks      | elapsed: 23.6min\n",
            "[Parallel(n_jobs=-1)]: Done 18814 tasks      | elapsed: 23.9min\n",
            "[Parallel(n_jobs=-1)]: Done 19009 tasks      | elapsed: 24.3min\n",
            "[Parallel(n_jobs=-1)]: Done 19204 tasks      | elapsed: 24.6min\n",
            "[Parallel(n_jobs=-1)]: Done 19401 tasks      | elapsed: 24.9min\n",
            "[Parallel(n_jobs=-1)]: Done 19598 tasks      | elapsed: 25.2min\n",
            "[Parallel(n_jobs=-1)]: Done 19797 tasks      | elapsed: 25.5min\n",
            "[Parallel(n_jobs=-1)]: Done 19996 tasks      | elapsed: 25.8min\n",
            "[Parallel(n_jobs=-1)]: Done 20197 tasks      | elapsed: 26.2min\n",
            "[Parallel(n_jobs=-1)]: Done 20398 tasks      | elapsed: 26.5min\n",
            "[Parallel(n_jobs=-1)]: Done 20601 tasks      | elapsed: 26.8min\n",
            "[Parallel(n_jobs=-1)]: Done 20804 tasks      | elapsed: 27.1min\n",
            "[Parallel(n_jobs=-1)]: Done 21009 tasks      | elapsed: 27.5min\n",
            "[Parallel(n_jobs=-1)]: Done 21214 tasks      | elapsed: 27.8min\n",
            "[Parallel(n_jobs=-1)]: Done 21421 tasks      | elapsed: 28.1min\n",
            "[Parallel(n_jobs=-1)]: Done 21628 tasks      | elapsed: 28.5min\n",
            "[Parallel(n_jobs=-1)]: Done 21837 tasks      | elapsed: 28.7min\n",
            "[Parallel(n_jobs=-1)]: Done 22046 tasks      | elapsed: 28.9min\n",
            "[Parallel(n_jobs=-1)]: Done 22257 tasks      | elapsed: 29.1min\n",
            "[Parallel(n_jobs=-1)]: Done 22468 tasks      | elapsed: 29.3min\n",
            "[Parallel(n_jobs=-1)]: Done 22681 tasks      | elapsed: 29.5min\n",
            "[Parallel(n_jobs=-1)]: Done 22894 tasks      | elapsed: 29.8min\n",
            "[Parallel(n_jobs=-1)]: Done 23109 tasks      | elapsed: 30.1min\n",
            "[Parallel(n_jobs=-1)]: Done 23324 tasks      | elapsed: 30.4min\n",
            "[Parallel(n_jobs=-1)]: Done 23541 tasks      | elapsed: 30.7min\n",
            "[Parallel(n_jobs=-1)]: Done 23758 tasks      | elapsed: 31.0min\n",
            "[Parallel(n_jobs=-1)]: Done 23977 tasks      | elapsed: 31.4min\n",
            "[Parallel(n_jobs=-1)]: Done 24196 tasks      | elapsed: 31.7min\n",
            "[Parallel(n_jobs=-1)]: Done 24417 tasks      | elapsed: 32.1min\n",
            "[Parallel(n_jobs=-1)]: Done 24638 tasks      | elapsed: 32.4min\n",
            "[Parallel(n_jobs=-1)]: Done 24861 tasks      | elapsed: 32.8min\n",
            "[Parallel(n_jobs=-1)]: Done 25084 tasks      | elapsed: 33.2min\n",
            "[Parallel(n_jobs=-1)]: Done 25309 tasks      | elapsed: 33.5min\n",
            "[Parallel(n_jobs=-1)]: Done 25534 tasks      | elapsed: 33.9min\n",
            "[Parallel(n_jobs=-1)]: Done 25761 tasks      | elapsed: 34.3min\n",
            "[Parallel(n_jobs=-1)]: Done 25988 tasks      | elapsed: 34.6min\n",
            "[Parallel(n_jobs=-1)]: Done 26217 tasks      | elapsed: 35.0min\n",
            "[Parallel(n_jobs=-1)]: Done 26446 tasks      | elapsed: 35.3min\n",
            "[Parallel(n_jobs=-1)]: Done 26677 tasks      | elapsed: 35.6min\n",
            "[Parallel(n_jobs=-1)]: Done 26908 tasks      | elapsed: 35.9min\n",
            "[Parallel(n_jobs=-1)]: Done 27141 tasks      | elapsed: 36.3min\n",
            "[Parallel(n_jobs=-1)]: Done 27374 tasks      | elapsed: 36.6min\n",
            "[Parallel(n_jobs=-1)]: Done 27609 tasks      | elapsed: 36.9min\n",
            "[Parallel(n_jobs=-1)]: Done 27844 tasks      | elapsed: 37.2min\n",
            "[Parallel(n_jobs=-1)]: Done 28081 tasks      | elapsed: 37.6min\n",
            "[Parallel(n_jobs=-1)]: Done 28318 tasks      | elapsed: 38.0min\n",
            "[Parallel(n_jobs=-1)]: Done 28557 tasks      | elapsed: 38.3min\n",
            "[Parallel(n_jobs=-1)]: Done 28796 tasks      | elapsed: 38.6min\n",
            "[Parallel(n_jobs=-1)]: Done 29037 tasks      | elapsed: 39.0min\n",
            "[Parallel(n_jobs=-1)]: Done 29278 tasks      | elapsed: 39.3min\n",
            "[Parallel(n_jobs=-1)]: Done 29521 tasks      | elapsed: 39.7min\n",
            "[Parallel(n_jobs=-1)]: Done 29764 tasks      | elapsed: 40.0min\n",
            "[Parallel(n_jobs=-1)]: Done 30009 tasks      | elapsed: 40.4min\n",
            "[Parallel(n_jobs=-1)]: Done 30254 tasks      | elapsed: 40.7min\n",
            "[Parallel(n_jobs=-1)]: Done 30501 tasks      | elapsed: 41.1min\n"
          ],
          "name": "stderr"
        }
      ]
    },
    {
      "cell_type": "code",
      "metadata": {
        "id": "3LfP5JwAbrTT"
      },
      "source": [
        ""
      ],
      "execution_count": null,
      "outputs": []
    },
    {
      "cell_type": "code",
      "metadata": {
        "id": "hbcuPKzvdgaL"
      },
      "source": [
        "# Visualizar os resultados:\n",
        "from sklearn.tree import export_graphviz\n",
        "from sklearn.externals.six import StringIO  \n",
        "from IPython.display import Image  \n",
        "import pydotplus\n",
        "\n",
        "np.set_printoptions(suppress=True)\n",
        "\n",
        "dot_data = StringIO()\n",
        "export_graphviz(ml_DT2, out_file = dot_data, filled = True, rounded = True, special_characters = True, feature_names = l_colunas, class_names = ['0','1'])\n",
        "\n",
        "graph = pydotplus.graph_from_dot_data(dot_data.getvalue())  \n",
        "graph.write_png('DecisionTree.png')\n",
        "Image(graph.create_png())"
      ],
      "execution_count": null,
      "outputs": []
    }
  ]
}