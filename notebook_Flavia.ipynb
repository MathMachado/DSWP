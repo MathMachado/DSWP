{
  "nbformat": 4,
  "nbformat_minor": 0,
  "metadata": {
    "kernelspec": {
      "display_name": "Python 3",
      "language": "python",
      "name": "python3"
    },
    "language_info": {
      "codemirror_mode": {
        "name": "ipython",
        "version": 3
      },
      "file_extension": ".py",
      "mimetype": "text/x-python",
      "name": "python",
      "nbconvert_exporter": "python",
      "pygments_lexer": "ipython3",
      "version": "3.7.6"
    },
    "papermill": {
      "duration": 46.200125,
      "end_time": "2020-11-04T19:42:46.916691",
      "environment_variables": {},
      "exception": null,
      "input_path": "__notebook__.ipynb",
      "output_path": "__notebook__.ipynb",
      "parameters": {},
      "start_time": "2020-11-04T19:42:00.716566",
      "version": "2.1.0"
    },
    "colab": {
      "name": "notebook_Flavia.ipynb",
      "provenance": [],
      "include_colab_link": true
    }
  },
  "cells": [
    {
      "cell_type": "markdown",
      "metadata": {
        "id": "view-in-github",
        "colab_type": "text"
      },
      "source": [
        "<a href=\"https://colab.research.google.com/github/cryssoga/DSWP/blob/master/notebook_Flavia.ipynb\" target=\"_parent\"><img src=\"https://colab.research.google.com/assets/colab-badge.svg\" alt=\"Open In Colab\"/></a>"
      ]
    },
    {
      "cell_type": "code",
      "metadata": {
        "_cell_guid": "b1076dfc-b9ad-4769-8c92-a6c4dae69d19",
        "_uuid": "8f2839f25d086af736a60e9eeb907d3b93b6e0e5",
        "execution": {
          "iopub.execute_input": "2020-11-04T19:42:06.625721Z",
          "iopub.status.busy": "2020-11-04T19:42:06.624871Z",
          "iopub.status.idle": "2020-11-04T19:42:06.630793Z",
          "shell.execute_reply": "2020-11-04T19:42:06.630085Z"
        },
        "papermill": {
          "duration": 0.037836,
          "end_time": "2020-11-04T19:42:06.630926",
          "exception": false,
          "start_time": "2020-11-04T19:42:06.593090",
          "status": "completed"
        },
        "tags": [],
        "id": "EzOVboRaDZye"
      },
      "source": [
        "# This Python 3 environment comes with many helpful analytics libraries installed\n",
        "# It is defined by the kaggle/python Docker image: https://github.com/kaggle/docker-python\n",
        "# For example, here's several helpful packages to load\n",
        "\n",
        "import numpy as np # linear algebra\n",
        "import pandas as pd # data processing, CSV file I/O (e.g. pd.read_csv)\n",
        "\n",
        "# Input data files are available in the read-only \"../input/\" directory\n",
        "# For example, running this (by clicking run or pressing Shift+Enter) will list all files under the input directory\n",
        "\n",
        "import os\n",
        "for dirname, _, filenames in os.walk('/kaggle/input'):\n",
        "    for filename in filenames:\n",
        "        print(os.path.join(dirname, filename))\n",
        "\n",
        "# You can write up to 20GB to the current directory (/kaggle/working/) that gets preserved as output when you create a version using \"Save & Run All\" \n",
        "# You can also write temporary files to /kaggle/temp/, but they won't be saved outside of the current session"
      ],
      "execution_count": 3,
      "outputs": []
    },
    {
      "cell_type": "code",
      "metadata": {
        "id": "DMCCrg_PEr-X"
      },
      "source": [
        "# url dos arquivos baixados do site https://www.kaggle.com/c/labdata-churn-challenge-2020/data e uploaded em github\n",
        "\n",
        "url_train = 'https://raw.githubusercontent.com/cryssoga/DSWP/master/Li%C3%A7%C3%A3o/train.csv'\n",
        "url_test = 'https://raw.githubusercontent.com/cryssoga/DSWP/master/Li%C3%A7%C3%A3o/test.csv'\n",
        "url_sample_submission = 'https://raw.githubusercontent.com/cryssoga/DSWP/master/Li%C3%A7%C3%A3o/sample_submission.csv'"
      ],
      "execution_count": 4,
      "outputs": []
    },
    {
      "cell_type": "code",
      "metadata": {
        "_cell_guid": "79c7e3d0-c299-4dcb-8224-4455121ee9b0",
        "_uuid": "d629ff2d2480ee46fbb7e2d37f6b5fab8052498a",
        "execution": {
          "iopub.execute_input": "2020-11-04T19:42:06.687844Z",
          "iopub.status.busy": "2020-11-04T19:42:06.686981Z",
          "iopub.status.idle": "2020-11-04T19:42:06.771289Z",
          "shell.execute_reply": "2020-11-04T19:42:06.770458Z"
        },
        "papermill": {
          "duration": 0.115746,
          "end_time": "2020-11-04T19:42:06.771430",
          "exception": false,
          "start_time": "2020-11-04T19:42:06.655684",
          "status": "completed"
        },
        "tags": [],
        "id": "8cOvHdvlDZyr",
        "outputId": "35163e61-d04c-429f-ace7-86206f08fa09",
        "colab": {
          "base_uri": "https://localhost:8080/",
          "height": 309
        }
      },
      "source": [
        "#df = pd.read_csv('/kaggle/input/labdata-churn-challenge-2020/train.csv')\n",
        "df = pd.read_csv(url_train)\n",
        "df.head()"
      ],
      "execution_count": 5,
      "outputs": [
        {
          "output_type": "execute_result",
          "data": {
            "text/html": [
              "<div>\n",
              "<style scoped>\n",
              "    .dataframe tbody tr th:only-of-type {\n",
              "        vertical-align: middle;\n",
              "    }\n",
              "\n",
              "    .dataframe tbody tr th {\n",
              "        vertical-align: top;\n",
              "    }\n",
              "\n",
              "    .dataframe thead th {\n",
              "        text-align: right;\n",
              "    }\n",
              "</style>\n",
              "<table border=\"1\" class=\"dataframe\">\n",
              "  <thead>\n",
              "    <tr style=\"text-align: right;\">\n",
              "      <th></th>\n",
              "      <th>id</th>\n",
              "      <th>gender</th>\n",
              "      <th>SeniorCitizen</th>\n",
              "      <th>Partner</th>\n",
              "      <th>Dependents</th>\n",
              "      <th>tenure</th>\n",
              "      <th>PhoneService</th>\n",
              "      <th>MultipleLines</th>\n",
              "      <th>InternetService</th>\n",
              "      <th>OnlineSecurity</th>\n",
              "      <th>OnlineBackup</th>\n",
              "      <th>DeviceProtection</th>\n",
              "      <th>TechSupport</th>\n",
              "      <th>StreamingTV</th>\n",
              "      <th>StreamingMovies</th>\n",
              "      <th>Contract</th>\n",
              "      <th>PaperlessBilling</th>\n",
              "      <th>PaymentMethod</th>\n",
              "      <th>MonthlyCharges</th>\n",
              "      <th>TotalCharges</th>\n",
              "      <th>Churn</th>\n",
              "    </tr>\n",
              "  </thead>\n",
              "  <tbody>\n",
              "    <tr>\n",
              "      <th>0</th>\n",
              "      <td>4030</td>\n",
              "      <td>Female</td>\n",
              "      <td>0</td>\n",
              "      <td>No</td>\n",
              "      <td>No</td>\n",
              "      <td>56.0</td>\n",
              "      <td>No</td>\n",
              "      <td>No phone service</td>\n",
              "      <td>DSL</td>\n",
              "      <td>Yes</td>\n",
              "      <td>Yes</td>\n",
              "      <td>Yes</td>\n",
              "      <td>Yes</td>\n",
              "      <td>No</td>\n",
              "      <td>No</td>\n",
              "      <td>Two year</td>\n",
              "      <td>No</td>\n",
              "      <td>NaN</td>\n",
              "      <td>45.05</td>\n",
              "      <td>2560.1</td>\n",
              "      <td>0</td>\n",
              "    </tr>\n",
              "    <tr>\n",
              "      <th>1</th>\n",
              "      <td>6731</td>\n",
              "      <td>Male</td>\n",
              "      <td>0</td>\n",
              "      <td>Yes</td>\n",
              "      <td>Yes</td>\n",
              "      <td>NaN</td>\n",
              "      <td>Yes</td>\n",
              "      <td>No</td>\n",
              "      <td>No</td>\n",
              "      <td>No internet service</td>\n",
              "      <td>No internet service</td>\n",
              "      <td>No internet service</td>\n",
              "      <td>No internet service</td>\n",
              "      <td>No internet service</td>\n",
              "      <td>No internet service</td>\n",
              "      <td>One year</td>\n",
              "      <td>No</td>\n",
              "      <td>Mailed check</td>\n",
              "      <td>19.65</td>\n",
              "      <td>332.65</td>\n",
              "      <td>0</td>\n",
              "    </tr>\n",
              "    <tr>\n",
              "      <th>2</th>\n",
              "      <td>6479</td>\n",
              "      <td>Female</td>\n",
              "      <td>0</td>\n",
              "      <td>Yes</td>\n",
              "      <td>No</td>\n",
              "      <td>60.0</td>\n",
              "      <td>Yes</td>\n",
              "      <td>Yes</td>\n",
              "      <td>Fiber optic</td>\n",
              "      <td>No</td>\n",
              "      <td>Yes</td>\n",
              "      <td>Yes</td>\n",
              "      <td>Yes</td>\n",
              "      <td>Yes</td>\n",
              "      <td>Yes</td>\n",
              "      <td>Two year</td>\n",
              "      <td>Yes</td>\n",
              "      <td>Credit card (automatic)</td>\n",
              "      <td>110.80</td>\n",
              "      <td>6640.7</td>\n",
              "      <td>0</td>\n",
              "    </tr>\n",
              "    <tr>\n",
              "      <th>3</th>\n",
              "      <td>6861</td>\n",
              "      <td>Female</td>\n",
              "      <td>0</td>\n",
              "      <td>No</td>\n",
              "      <td>No</td>\n",
              "      <td>37.0</td>\n",
              "      <td>Yes</td>\n",
              "      <td>Yes</td>\n",
              "      <td>Fiber optic</td>\n",
              "      <td>No</td>\n",
              "      <td>Yes</td>\n",
              "      <td>Yes</td>\n",
              "      <td>No</td>\n",
              "      <td>Yes</td>\n",
              "      <td>Yes</td>\n",
              "      <td>Month-to-month</td>\n",
              "      <td>Yes</td>\n",
              "      <td>Bank transfer (automatic)</td>\n",
              "      <td>101.90</td>\n",
              "      <td>3545.35</td>\n",
              "      <td>1</td>\n",
              "    </tr>\n",
              "    <tr>\n",
              "      <th>4</th>\n",
              "      <td>3266</td>\n",
              "      <td>Male</td>\n",
              "      <td>0</td>\n",
              "      <td>Yes</td>\n",
              "      <td>Yes</td>\n",
              "      <td>29.0</td>\n",
              "      <td>Yes</td>\n",
              "      <td>No</td>\n",
              "      <td>Fiber optic</td>\n",
              "      <td>No</td>\n",
              "      <td>No</td>\n",
              "      <td>No</td>\n",
              "      <td>No</td>\n",
              "      <td>No</td>\n",
              "      <td>No</td>\n",
              "      <td>Month-to-month</td>\n",
              "      <td>Yes</td>\n",
              "      <td>Electronic check</td>\n",
              "      <td>70.75</td>\n",
              "      <td>1974.8</td>\n",
              "      <td>1</td>\n",
              "    </tr>\n",
              "  </tbody>\n",
              "</table>\n",
              "</div>"
            ],
            "text/plain": [
              "     id  gender  SeniorCitizen  ... MonthlyCharges TotalCharges  Churn\n",
              "0  4030  Female              0  ...          45.05       2560.1      0\n",
              "1  6731    Male              0  ...          19.65       332.65      0\n",
              "2  6479  Female              0  ...         110.80       6640.7      0\n",
              "3  6861  Female              0  ...         101.90      3545.35      1\n",
              "4  3266    Male              0  ...          70.75       1974.8      1\n",
              "\n",
              "[5 rows x 21 columns]"
            ]
          },
          "metadata": {
            "tags": []
          },
          "execution_count": 5
        }
      ]
    },
    {
      "cell_type": "code",
      "metadata": {
        "id": "ShDbzDgjEP88"
      },
      "source": [
        "\n",
        "#df_sample_submission = pd.read_csv(url_sample_submission)"
      ],
      "execution_count": 6,
      "outputs": []
    },
    {
      "cell_type": "code",
      "metadata": {
        "execution": {
          "iopub.execute_input": "2020-11-04T19:42:06.832828Z",
          "iopub.status.busy": "2020-11-04T19:42:06.831759Z",
          "iopub.status.idle": "2020-11-04T19:42:06.836549Z",
          "shell.execute_reply": "2020-11-04T19:42:06.835919Z"
        },
        "papermill": {
          "duration": 0.03763,
          "end_time": "2020-11-04T19:42:06.836690",
          "exception": false,
          "start_time": "2020-11-04T19:42:06.799060",
          "status": "completed"
        },
        "tags": [],
        "id": "4iB7UulYDZyx",
        "outputId": "949d5b64-b1cc-4558-bc48-c973aced9c90",
        "colab": {
          "base_uri": "https://localhost:8080/"
        }
      },
      "source": [
        "df.columns"
      ],
      "execution_count": 7,
      "outputs": [
        {
          "output_type": "execute_result",
          "data": {
            "text/plain": [
              "Index(['id', 'gender', 'SeniorCitizen', 'Partner', 'Dependents', 'tenure',\n",
              "       'PhoneService', 'MultipleLines', 'InternetService', 'OnlineSecurity',\n",
              "       'OnlineBackup', 'DeviceProtection', 'TechSupport', 'StreamingTV',\n",
              "       'StreamingMovies', 'Contract', 'PaperlessBilling', 'PaymentMethod',\n",
              "       'MonthlyCharges', 'TotalCharges', 'Churn'],\n",
              "      dtype='object')"
            ]
          },
          "metadata": {
            "tags": []
          },
          "execution_count": 7
        }
      ]
    },
    {
      "cell_type": "code",
      "metadata": {
        "execution": {
          "iopub.execute_input": "2020-11-04T19:42:06.892929Z",
          "iopub.status.busy": "2020-11-04T19:42:06.891889Z",
          "iopub.status.idle": "2020-11-04T19:42:06.896270Z",
          "shell.execute_reply": "2020-11-04T19:42:06.895494Z"
        },
        "papermill": {
          "duration": 0.034506,
          "end_time": "2020-11-04T19:42:06.896402",
          "exception": false,
          "start_time": "2020-11-04T19:42:06.861896",
          "status": "completed"
        },
        "tags": [],
        "id": "nQEGVCEpDZy5"
      },
      "source": [
        "df_churn = df.copy()"
      ],
      "execution_count": 8,
      "outputs": []
    },
    {
      "cell_type": "code",
      "metadata": {
        "execution": {
          "iopub.execute_input": "2020-11-04T19:42:06.986863Z",
          "iopub.status.busy": "2020-11-04T19:42:06.959199Z",
          "iopub.status.idle": "2020-11-04T19:42:06.992511Z",
          "shell.execute_reply": "2020-11-04T19:42:06.993452Z"
        },
        "papermill": {
          "duration": 0.071618,
          "end_time": "2020-11-04T19:42:06.993640",
          "exception": false,
          "start_time": "2020-11-04T19:42:06.922022",
          "status": "completed"
        },
        "tags": [],
        "id": "9yxU7cKhDZy_",
        "outputId": "93fde7d9-29d4-4fba-daa2-d89f19416c31",
        "colab": {
          "base_uri": "https://localhost:8080/",
          "height": 309
        }
      },
      "source": [
        "df_churn.head()"
      ],
      "execution_count": 9,
      "outputs": [
        {
          "output_type": "execute_result",
          "data": {
            "text/html": [
              "<div>\n",
              "<style scoped>\n",
              "    .dataframe tbody tr th:only-of-type {\n",
              "        vertical-align: middle;\n",
              "    }\n",
              "\n",
              "    .dataframe tbody tr th {\n",
              "        vertical-align: top;\n",
              "    }\n",
              "\n",
              "    .dataframe thead th {\n",
              "        text-align: right;\n",
              "    }\n",
              "</style>\n",
              "<table border=\"1\" class=\"dataframe\">\n",
              "  <thead>\n",
              "    <tr style=\"text-align: right;\">\n",
              "      <th></th>\n",
              "      <th>id</th>\n",
              "      <th>gender</th>\n",
              "      <th>SeniorCitizen</th>\n",
              "      <th>Partner</th>\n",
              "      <th>Dependents</th>\n",
              "      <th>tenure</th>\n",
              "      <th>PhoneService</th>\n",
              "      <th>MultipleLines</th>\n",
              "      <th>InternetService</th>\n",
              "      <th>OnlineSecurity</th>\n",
              "      <th>OnlineBackup</th>\n",
              "      <th>DeviceProtection</th>\n",
              "      <th>TechSupport</th>\n",
              "      <th>StreamingTV</th>\n",
              "      <th>StreamingMovies</th>\n",
              "      <th>Contract</th>\n",
              "      <th>PaperlessBilling</th>\n",
              "      <th>PaymentMethod</th>\n",
              "      <th>MonthlyCharges</th>\n",
              "      <th>TotalCharges</th>\n",
              "      <th>Churn</th>\n",
              "    </tr>\n",
              "  </thead>\n",
              "  <tbody>\n",
              "    <tr>\n",
              "      <th>0</th>\n",
              "      <td>4030</td>\n",
              "      <td>Female</td>\n",
              "      <td>0</td>\n",
              "      <td>No</td>\n",
              "      <td>No</td>\n",
              "      <td>56.0</td>\n",
              "      <td>No</td>\n",
              "      <td>No phone service</td>\n",
              "      <td>DSL</td>\n",
              "      <td>Yes</td>\n",
              "      <td>Yes</td>\n",
              "      <td>Yes</td>\n",
              "      <td>Yes</td>\n",
              "      <td>No</td>\n",
              "      <td>No</td>\n",
              "      <td>Two year</td>\n",
              "      <td>No</td>\n",
              "      <td>NaN</td>\n",
              "      <td>45.05</td>\n",
              "      <td>2560.1</td>\n",
              "      <td>0</td>\n",
              "    </tr>\n",
              "    <tr>\n",
              "      <th>1</th>\n",
              "      <td>6731</td>\n",
              "      <td>Male</td>\n",
              "      <td>0</td>\n",
              "      <td>Yes</td>\n",
              "      <td>Yes</td>\n",
              "      <td>NaN</td>\n",
              "      <td>Yes</td>\n",
              "      <td>No</td>\n",
              "      <td>No</td>\n",
              "      <td>No internet service</td>\n",
              "      <td>No internet service</td>\n",
              "      <td>No internet service</td>\n",
              "      <td>No internet service</td>\n",
              "      <td>No internet service</td>\n",
              "      <td>No internet service</td>\n",
              "      <td>One year</td>\n",
              "      <td>No</td>\n",
              "      <td>Mailed check</td>\n",
              "      <td>19.65</td>\n",
              "      <td>332.65</td>\n",
              "      <td>0</td>\n",
              "    </tr>\n",
              "    <tr>\n",
              "      <th>2</th>\n",
              "      <td>6479</td>\n",
              "      <td>Female</td>\n",
              "      <td>0</td>\n",
              "      <td>Yes</td>\n",
              "      <td>No</td>\n",
              "      <td>60.0</td>\n",
              "      <td>Yes</td>\n",
              "      <td>Yes</td>\n",
              "      <td>Fiber optic</td>\n",
              "      <td>No</td>\n",
              "      <td>Yes</td>\n",
              "      <td>Yes</td>\n",
              "      <td>Yes</td>\n",
              "      <td>Yes</td>\n",
              "      <td>Yes</td>\n",
              "      <td>Two year</td>\n",
              "      <td>Yes</td>\n",
              "      <td>Credit card (automatic)</td>\n",
              "      <td>110.80</td>\n",
              "      <td>6640.7</td>\n",
              "      <td>0</td>\n",
              "    </tr>\n",
              "    <tr>\n",
              "      <th>3</th>\n",
              "      <td>6861</td>\n",
              "      <td>Female</td>\n",
              "      <td>0</td>\n",
              "      <td>No</td>\n",
              "      <td>No</td>\n",
              "      <td>37.0</td>\n",
              "      <td>Yes</td>\n",
              "      <td>Yes</td>\n",
              "      <td>Fiber optic</td>\n",
              "      <td>No</td>\n",
              "      <td>Yes</td>\n",
              "      <td>Yes</td>\n",
              "      <td>No</td>\n",
              "      <td>Yes</td>\n",
              "      <td>Yes</td>\n",
              "      <td>Month-to-month</td>\n",
              "      <td>Yes</td>\n",
              "      <td>Bank transfer (automatic)</td>\n",
              "      <td>101.90</td>\n",
              "      <td>3545.35</td>\n",
              "      <td>1</td>\n",
              "    </tr>\n",
              "    <tr>\n",
              "      <th>4</th>\n",
              "      <td>3266</td>\n",
              "      <td>Male</td>\n",
              "      <td>0</td>\n",
              "      <td>Yes</td>\n",
              "      <td>Yes</td>\n",
              "      <td>29.0</td>\n",
              "      <td>Yes</td>\n",
              "      <td>No</td>\n",
              "      <td>Fiber optic</td>\n",
              "      <td>No</td>\n",
              "      <td>No</td>\n",
              "      <td>No</td>\n",
              "      <td>No</td>\n",
              "      <td>No</td>\n",
              "      <td>No</td>\n",
              "      <td>Month-to-month</td>\n",
              "      <td>Yes</td>\n",
              "      <td>Electronic check</td>\n",
              "      <td>70.75</td>\n",
              "      <td>1974.8</td>\n",
              "      <td>1</td>\n",
              "    </tr>\n",
              "  </tbody>\n",
              "</table>\n",
              "</div>"
            ],
            "text/plain": [
              "     id  gender  SeniorCitizen  ... MonthlyCharges TotalCharges  Churn\n",
              "0  4030  Female              0  ...          45.05       2560.1      0\n",
              "1  6731    Male              0  ...          19.65       332.65      0\n",
              "2  6479  Female              0  ...         110.80       6640.7      0\n",
              "3  6861  Female              0  ...         101.90      3545.35      1\n",
              "4  3266    Male              0  ...          70.75       1974.8      1\n",
              "\n",
              "[5 rows x 21 columns]"
            ]
          },
          "metadata": {
            "tags": []
          },
          "execution_count": 9
        }
      ]
    },
    {
      "cell_type": "code",
      "metadata": {
        "execution": {
          "iopub.execute_input": "2020-11-04T19:42:07.066722Z",
          "iopub.status.busy": "2020-11-04T19:42:07.065801Z",
          "iopub.status.idle": "2020-11-04T19:42:07.074185Z",
          "shell.execute_reply": "2020-11-04T19:42:07.073422Z"
        },
        "papermill": {
          "duration": 0.050787,
          "end_time": "2020-11-04T19:42:07.074313",
          "exception": false,
          "start_time": "2020-11-04T19:42:07.023526",
          "status": "completed"
        },
        "tags": [],
        "id": "AyWU8OneDZzH",
        "outputId": "2c9cee64-5b75-46b7-f006-0821e80189b2",
        "colab": {
          "base_uri": "https://localhost:8080/"
        }
      },
      "source": [
        "df_churn.isna().sum()"
      ],
      "execution_count": 10,
      "outputs": [
        {
          "output_type": "execute_result",
          "data": {
            "text/plain": [
              "id                    0\n",
              "gender                0\n",
              "SeniorCitizen         0\n",
              "Partner               0\n",
              "Dependents          218\n",
              "tenure              461\n",
              "PhoneService          0\n",
              "MultipleLines         0\n",
              "InternetService       0\n",
              "OnlineSecurity        0\n",
              "OnlineBackup          0\n",
              "DeviceProtection      0\n",
              "TechSupport           0\n",
              "StreamingTV           0\n",
              "StreamingMovies       0\n",
              "Contract              0\n",
              "PaperlessBilling      0\n",
              "PaymentMethod        99\n",
              "MonthlyCharges        0\n",
              "TotalCharges          0\n",
              "Churn                 0\n",
              "dtype: int64"
            ]
          },
          "metadata": {
            "tags": []
          },
          "execution_count": 10
        }
      ]
    },
    {
      "cell_type": "code",
      "metadata": {
        "execution": {
          "iopub.execute_input": "2020-11-04T19:42:07.136856Z",
          "iopub.status.busy": "2020-11-04T19:42:07.135734Z",
          "iopub.status.idle": "2020-11-04T19:42:07.140551Z",
          "shell.execute_reply": "2020-11-04T19:42:07.139783Z"
        },
        "papermill": {
          "duration": 0.039293,
          "end_time": "2020-11-04T19:42:07.140696",
          "exception": false,
          "start_time": "2020-11-04T19:42:07.101403",
          "status": "completed"
        },
        "tags": [],
        "id": "gmz9XWgTDZzP",
        "outputId": "ca934a82-9a7e-4968-8584-838b660b0837",
        "colab": {
          "base_uri": "https://localhost:8080/"
        }
      },
      "source": [
        "df_churn.shape"
      ],
      "execution_count": 11,
      "outputs": [
        {
          "output_type": "execute_result",
          "data": {
            "text/plain": [
              "(5634, 21)"
            ]
          },
          "metadata": {
            "tags": []
          },
          "execution_count": 11
        }
      ]
    },
    {
      "cell_type": "code",
      "metadata": {
        "execution": {
          "iopub.execute_input": "2020-11-04T19:42:07.205657Z",
          "iopub.status.busy": "2020-11-04T19:42:07.203291Z",
          "iopub.status.idle": "2020-11-04T19:42:07.211206Z",
          "shell.execute_reply": "2020-11-04T19:42:07.210331Z"
        },
        "papermill": {
          "duration": 0.042277,
          "end_time": "2020-11-04T19:42:07.211342",
          "exception": false,
          "start_time": "2020-11-04T19:42:07.169065",
          "status": "completed"
        },
        "tags": [],
        "id": "pjr8n4AHDZzX",
        "outputId": "24043417-f819-4645-fdd0-464fb86ba279",
        "colab": {
          "base_uri": "https://localhost:8080/"
        }
      },
      "source": [
        "df_churn['Churn'].value_counts()"
      ],
      "execution_count": 12,
      "outputs": [
        {
          "output_type": "execute_result",
          "data": {
            "text/plain": [
              "0    4139\n",
              "1    1495\n",
              "Name: Churn, dtype: int64"
            ]
          },
          "metadata": {
            "tags": []
          },
          "execution_count": 12
        }
      ]
    },
    {
      "cell_type": "code",
      "metadata": {
        "execution": {
          "iopub.execute_input": "2020-11-04T19:42:07.277224Z",
          "iopub.status.busy": "2020-11-04T19:42:07.275890Z",
          "iopub.status.idle": "2020-11-04T19:42:07.300816Z",
          "shell.execute_reply": "2020-11-04T19:42:07.301413Z"
        },
        "papermill": {
          "duration": 0.060902,
          "end_time": "2020-11-04T19:42:07.301602",
          "exception": false,
          "start_time": "2020-11-04T19:42:07.240700",
          "status": "completed"
        },
        "tags": [],
        "id": "45vOTdhODZzc",
        "outputId": "2cba7b3a-a69d-49be-ffb7-29b1ea4600b7",
        "colab": {
          "base_uri": "https://localhost:8080/"
        }
      },
      "source": [
        "#df_teste = pd.read_csv('/kaggle/input/labdata-churn-challenge-2020/test.csv')\n",
        "df_teste = pd.read_csv(url_test)\n",
        "df_teste.isna().sum()"
      ],
      "execution_count": 13,
      "outputs": [
        {
          "output_type": "execute_result",
          "data": {
            "text/plain": [
              "id                    0\n",
              "gender                0\n",
              "SeniorCitizen         0\n",
              "Partner               0\n",
              "Dependents           41\n",
              "tenure              118\n",
              "PhoneService          0\n",
              "MultipleLines         0\n",
              "InternetService       0\n",
              "OnlineSecurity        0\n",
              "OnlineBackup          0\n",
              "DeviceProtection      0\n",
              "TechSupport           0\n",
              "StreamingTV           0\n",
              "StreamingMovies       0\n",
              "Contract              0\n",
              "PaperlessBilling      0\n",
              "PaymentMethod        30\n",
              "MonthlyCharges        0\n",
              "TotalCharges          0\n",
              "dtype: int64"
            ]
          },
          "metadata": {
            "tags": []
          },
          "execution_count": 13
        }
      ]
    },
    {
      "cell_type": "markdown",
      "metadata": {
        "papermill": {
          "duration": 0.028957,
          "end_time": "2020-11-04T19:42:07.360936",
          "exception": false,
          "start_time": "2020-11-04T19:42:07.331979",
          "status": "completed"
        },
        "tags": [],
        "id": "mNlgC_MQDZzk"
      },
      "source": [
        "Tratamento dos NaN's: Mediana e Moda"
      ]
    },
    {
      "cell_type": "code",
      "metadata": {
        "execution": {
          "iopub.execute_input": "2020-11-04T19:42:07.433988Z",
          "iopub.status.busy": "2020-11-04T19:42:07.432839Z",
          "iopub.status.idle": "2020-11-04T19:42:07.437511Z",
          "shell.execute_reply": "2020-11-04T19:42:07.438086Z"
        },
        "papermill": {
          "duration": 0.044105,
          "end_time": "2020-11-04T19:42:07.438293",
          "exception": false,
          "start_time": "2020-11-04T19:42:07.394188",
          "status": "completed"
        },
        "tags": [],
        "id": "_khi5tfUDZzm",
        "outputId": "69ef4526-d5d7-4f5a-cf2c-20d2a99aceb3",
        "colab": {
          "base_uri": "https://localhost:8080/"
        }
      },
      "source": [
        "df_churn.columns"
      ],
      "execution_count": 14,
      "outputs": [
        {
          "output_type": "execute_result",
          "data": {
            "text/plain": [
              "Index(['id', 'gender', 'SeniorCitizen', 'Partner', 'Dependents', 'tenure',\n",
              "       'PhoneService', 'MultipleLines', 'InternetService', 'OnlineSecurity',\n",
              "       'OnlineBackup', 'DeviceProtection', 'TechSupport', 'StreamingTV',\n",
              "       'StreamingMovies', 'Contract', 'PaperlessBilling', 'PaymentMethod',\n",
              "       'MonthlyCharges', 'TotalCharges', 'Churn'],\n",
              "      dtype='object')"
            ]
          },
          "metadata": {
            "tags": []
          },
          "execution_count": 14
        }
      ]
    },
    {
      "cell_type": "markdown",
      "metadata": {
        "papermill": {
          "duration": 0.029987,
          "end_time": "2020-11-04T19:42:07.498258",
          "exception": false,
          "start_time": "2020-11-04T19:42:07.468271",
          "status": "completed"
        },
        "tags": [],
        "id": "Ivvj_E9PDZzu"
      },
      "source": [
        "Outliers"
      ]
    },
    {
      "cell_type": "code",
      "metadata": {
        "execution": {
          "iopub.execute_input": "2020-11-04T19:42:07.568439Z",
          "iopub.status.busy": "2020-11-04T19:42:07.566542Z",
          "iopub.status.idle": "2020-11-04T19:42:07.572703Z",
          "shell.execute_reply": "2020-11-04T19:42:07.571966Z"
        },
        "papermill": {
          "duration": 0.044954,
          "end_time": "2020-11-04T19:42:07.572853",
          "exception": false,
          "start_time": "2020-11-04T19:42:07.527899",
          "status": "completed"
        },
        "tags": [],
        "id": "qzOKMcDUDZzv"
      },
      "source": [
        "def f_trata_outliers(df):\n",
        "    for i in df.select_dtypes(include=['float64']).columns:\n",
        "        q1 = np.percentile(df[i],25)\n",
        "        q3 = np.percentile(df[i],75)\n",
        "        iqr = q3 - q1\n",
        "        lim_inf = q1 - 1.5 * iqr\n",
        "        lim_sup = q3 + 1.5 * iqr\n",
        "        df[i][df[i] < lim_inf] = lim_inf\n",
        "        df[i][df[i] > lim_sup] = lim_sup\n",
        "    return df"
      ],
      "execution_count": 15,
      "outputs": []
    },
    {
      "cell_type": "code",
      "metadata": {
        "execution": {
          "iopub.execute_input": "2020-11-04T19:42:07.642732Z",
          "iopub.status.busy": "2020-11-04T19:42:07.641851Z",
          "iopub.status.idle": "2020-11-04T19:42:07.645937Z",
          "shell.execute_reply": "2020-11-04T19:42:07.645125Z"
        },
        "papermill": {
          "duration": 0.042664,
          "end_time": "2020-11-04T19:42:07.646070",
          "exception": false,
          "start_time": "2020-11-04T19:42:07.603406",
          "status": "completed"
        },
        "tags": [],
        "id": "JoyVfD2ZDZz1"
      },
      "source": [
        "def f_trata_col(df):\n",
        "    df.columns = df.columns.str.lower()\n",
        "    df['tenure'] = df['tenure'].fillna(df['tenure'].median())\n",
        "    df['totalcharges'][df['totalcharges'] == ' '] = df['totalcharges'].notna().median()\n",
        "    df['totalcharges'] = pd.to_numeric(df['totalcharges'])\n",
        "    df = f_trata_outliers(df)\n",
        "    ohe = pd.get_dummies(df)\n",
        "    return ohe"
      ],
      "execution_count": 16,
      "outputs": []
    },
    {
      "cell_type": "code",
      "metadata": {
        "execution": {
          "iopub.execute_input": "2020-11-04T19:42:07.718342Z",
          "iopub.status.busy": "2020-11-04T19:42:07.717383Z",
          "iopub.status.idle": "2020-11-04T19:42:07.814766Z",
          "shell.execute_reply": "2020-11-04T19:42:07.814065Z"
        },
        "papermill": {
          "duration": 0.138117,
          "end_time": "2020-11-04T19:42:07.814896",
          "exception": false,
          "start_time": "2020-11-04T19:42:07.676779",
          "status": "completed"
        },
        "tags": [],
        "id": "7iUKPdvdDZz5",
        "outputId": "11c254d1-36dd-4e4f-d66a-bfa86e7905d6",
        "colab": {
          "base_uri": "https://localhost:8080/"
        }
      },
      "source": [
        "df_churn = f_trata_col(df_churn)"
      ],
      "execution_count": 17,
      "outputs": [
        {
          "output_type": "stream",
          "text": [
            "/usr/local/lib/python3.6/dist-packages/ipykernel_launcher.py:4: SettingWithCopyWarning: \n",
            "A value is trying to be set on a copy of a slice from a DataFrame\n",
            "\n",
            "See the caveats in the documentation: https://pandas.pydata.org/pandas-docs/stable/user_guide/indexing.html#returning-a-view-versus-a-copy\n",
            "  after removing the cwd from sys.path.\n",
            "/usr/local/lib/python3.6/dist-packages/ipykernel_launcher.py:8: SettingWithCopyWarning: \n",
            "A value is trying to be set on a copy of a slice from a DataFrame\n",
            "\n",
            "See the caveats in the documentation: https://pandas.pydata.org/pandas-docs/stable/user_guide/indexing.html#returning-a-view-versus-a-copy\n",
            "  \n",
            "/usr/local/lib/python3.6/dist-packages/ipykernel_launcher.py:9: SettingWithCopyWarning: \n",
            "A value is trying to be set on a copy of a slice from a DataFrame\n",
            "\n",
            "See the caveats in the documentation: https://pandas.pydata.org/pandas-docs/stable/user_guide/indexing.html#returning-a-view-versus-a-copy\n",
            "  if __name__ == '__main__':\n",
            "/usr/local/lib/python3.6/dist-packages/ipykernel_launcher.py:8: SettingWithCopyWarning: \n",
            "A value is trying to be set on a copy of a slice from a DataFrame\n",
            "\n",
            "See the caveats in the documentation: https://pandas.pydata.org/pandas-docs/stable/user_guide/indexing.html#returning-a-view-versus-a-copy\n",
            "  \n",
            "/usr/local/lib/python3.6/dist-packages/ipykernel_launcher.py:9: SettingWithCopyWarning: \n",
            "A value is trying to be set on a copy of a slice from a DataFrame\n",
            "\n",
            "See the caveats in the documentation: https://pandas.pydata.org/pandas-docs/stable/user_guide/indexing.html#returning-a-view-versus-a-copy\n",
            "  if __name__ == '__main__':\n",
            "/usr/local/lib/python3.6/dist-packages/ipykernel_launcher.py:8: SettingWithCopyWarning: \n",
            "A value is trying to be set on a copy of a slice from a DataFrame\n",
            "\n",
            "See the caveats in the documentation: https://pandas.pydata.org/pandas-docs/stable/user_guide/indexing.html#returning-a-view-versus-a-copy\n",
            "  \n",
            "/usr/local/lib/python3.6/dist-packages/ipykernel_launcher.py:9: SettingWithCopyWarning: \n",
            "A value is trying to be set on a copy of a slice from a DataFrame\n",
            "\n",
            "See the caveats in the documentation: https://pandas.pydata.org/pandas-docs/stable/user_guide/indexing.html#returning-a-view-versus-a-copy\n",
            "  if __name__ == '__main__':\n"
          ],
          "name": "stderr"
        }
      ]
    },
    {
      "cell_type": "code",
      "metadata": {
        "execution": {
          "iopub.execute_input": "2020-11-04T19:42:07.905377Z",
          "iopub.status.busy": "2020-11-04T19:42:07.904256Z",
          "iopub.status.idle": "2020-11-04T19:42:07.911390Z",
          "shell.execute_reply": "2020-11-04T19:42:07.910285Z"
        },
        "papermill": {
          "duration": 0.065565,
          "end_time": "2020-11-04T19:42:07.911571",
          "exception": false,
          "start_time": "2020-11-04T19:42:07.846006",
          "status": "completed"
        },
        "tags": [],
        "id": "oE3Wiz2fDZz-"
      },
      "source": [
        "df_X = df_churn.drop(columns= 'churn', axis= 1)\n",
        "df_y = df_churn['churn']"
      ],
      "execution_count": 18,
      "outputs": []
    },
    {
      "cell_type": "code",
      "metadata": {
        "id": "tfHV0OznIQCo",
        "outputId": "195808fb-62be-4854-a6c7-faf353c25887",
        "colab": {
          "base_uri": "https://localhost:8080/"
        }
      },
      "source": [
        "df_X.shape"
      ],
      "execution_count": 33,
      "outputs": [
        {
          "output_type": "execute_result",
          "data": {
            "text/plain": [
              "(5634, 46)"
            ]
          },
          "metadata": {
            "tags": []
          },
          "execution_count": 33
        }
      ]
    },
    {
      "cell_type": "code",
      "metadata": {
        "id": "A3gDCLYtIRkm",
        "outputId": "a965c42c-c951-4d2d-cda4-2ea9e344411c",
        "colab": {
          "base_uri": "https://localhost:8080/"
        }
      },
      "source": [
        "df_y.shape"
      ],
      "execution_count": 34,
      "outputs": [
        {
          "output_type": "execute_result",
          "data": {
            "text/plain": [
              "(5634,)"
            ]
          },
          "metadata": {
            "tags": []
          },
          "execution_count": 34
        }
      ]
    },
    {
      "cell_type": "code",
      "metadata": {
        "id": "OezcMj_VHsDA",
        "outputId": "4e906602-d09d-4604-e460-f81616b46d29",
        "colab": {
          "base_uri": "https://localhost:8080/"
        }
      },
      "source": [
        "df_teste = f_trata_col(df_teste)"
      ],
      "execution_count": 28,
      "outputs": [
        {
          "output_type": "stream",
          "text": [
            "/usr/local/lib/python3.6/dist-packages/ipykernel_launcher.py:4: SettingWithCopyWarning: \n",
            "A value is trying to be set on a copy of a slice from a DataFrame\n",
            "\n",
            "See the caveats in the documentation: https://pandas.pydata.org/pandas-docs/stable/user_guide/indexing.html#returning-a-view-versus-a-copy\n",
            "  after removing the cwd from sys.path.\n",
            "/usr/local/lib/python3.6/dist-packages/ipykernel_launcher.py:8: SettingWithCopyWarning: \n",
            "A value is trying to be set on a copy of a slice from a DataFrame\n",
            "\n",
            "See the caveats in the documentation: https://pandas.pydata.org/pandas-docs/stable/user_guide/indexing.html#returning-a-view-versus-a-copy\n",
            "  \n",
            "/usr/local/lib/python3.6/dist-packages/ipykernel_launcher.py:9: SettingWithCopyWarning: \n",
            "A value is trying to be set on a copy of a slice from a DataFrame\n",
            "\n",
            "See the caveats in the documentation: https://pandas.pydata.org/pandas-docs/stable/user_guide/indexing.html#returning-a-view-versus-a-copy\n",
            "  if __name__ == '__main__':\n",
            "/usr/local/lib/python3.6/dist-packages/ipykernel_launcher.py:8: SettingWithCopyWarning: \n",
            "A value is trying to be set on a copy of a slice from a DataFrame\n",
            "\n",
            "See the caveats in the documentation: https://pandas.pydata.org/pandas-docs/stable/user_guide/indexing.html#returning-a-view-versus-a-copy\n",
            "  \n",
            "/usr/local/lib/python3.6/dist-packages/ipykernel_launcher.py:9: SettingWithCopyWarning: \n",
            "A value is trying to be set on a copy of a slice from a DataFrame\n",
            "\n",
            "See the caveats in the documentation: https://pandas.pydata.org/pandas-docs/stable/user_guide/indexing.html#returning-a-view-versus-a-copy\n",
            "  if __name__ == '__main__':\n",
            "/usr/local/lib/python3.6/dist-packages/ipykernel_launcher.py:8: SettingWithCopyWarning: \n",
            "A value is trying to be set on a copy of a slice from a DataFrame\n",
            "\n",
            "See the caveats in the documentation: https://pandas.pydata.org/pandas-docs/stable/user_guide/indexing.html#returning-a-view-versus-a-copy\n",
            "  \n",
            "/usr/local/lib/python3.6/dist-packages/ipykernel_launcher.py:9: SettingWithCopyWarning: \n",
            "A value is trying to be set on a copy of a slice from a DataFrame\n",
            "\n",
            "See the caveats in the documentation: https://pandas.pydata.org/pandas-docs/stable/user_guide/indexing.html#returning-a-view-versus-a-copy\n",
            "  if __name__ == '__main__':\n"
          ],
          "name": "stderr"
        }
      ]
    },
    {
      "cell_type": "code",
      "metadata": {
        "id": "DC0YF_ulH2S8",
        "outputId": "dad0e208-0074-4bde-c9b4-411c8ffefba6",
        "colab": {
          "base_uri": "https://localhost:8080/"
        }
      },
      "source": [
        "df_teste.isna().sum()"
      ],
      "execution_count": 30,
      "outputs": [
        {
          "output_type": "execute_result",
          "data": {
            "text/plain": [
              "id                                         0\n",
              "seniorcitizen                              0\n",
              "tenure                                     0\n",
              "monthlycharges                             0\n",
              "totalcharges                               0\n",
              "gender_Female                              0\n",
              "gender_Male                                0\n",
              "partner_No                                 0\n",
              "partner_Yes                                0\n",
              "dependents_No                              0\n",
              "dependents_Yes                             0\n",
              "phoneservice_No                            0\n",
              "phoneservice_Yes                           0\n",
              "multiplelines_No                           0\n",
              "multiplelines_No phone service             0\n",
              "multiplelines_Yes                          0\n",
              "internetservice_DSL                        0\n",
              "internetservice_Fiber optic                0\n",
              "internetservice_No                         0\n",
              "onlinesecurity_No                          0\n",
              "onlinesecurity_No internet service         0\n",
              "onlinesecurity_Yes                         0\n",
              "onlinebackup_No                            0\n",
              "onlinebackup_No internet service           0\n",
              "onlinebackup_Yes                           0\n",
              "deviceprotection_No                        0\n",
              "deviceprotection_No internet service       0\n",
              "deviceprotection_Yes                       0\n",
              "techsupport_No                             0\n",
              "techsupport_No internet service            0\n",
              "techsupport_Yes                            0\n",
              "streamingtv_No                             0\n",
              "streamingtv_No internet service            0\n",
              "streamingtv_Yes                            0\n",
              "streamingmovies_No                         0\n",
              "streamingmovies_No internet service        0\n",
              "streamingmovies_Yes                        0\n",
              "contract_Month-to-month                    0\n",
              "contract_One year                          0\n",
              "contract_Two year                          0\n",
              "paperlessbilling_No                        0\n",
              "paperlessbilling_Yes                       0\n",
              "paymentmethod_Bank transfer (automatic)    0\n",
              "paymentmethod_Credit card (automatic)      0\n",
              "paymentmethod_Electronic check             0\n",
              "paymentmethod_Mailed check                 0\n",
              "dtype: int64"
            ]
          },
          "metadata": {
            "tags": []
          },
          "execution_count": 30
        }
      ]
    },
    {
      "cell_type": "code",
      "metadata": {
        "id": "H-bKfQwwID9m",
        "outputId": "36e81df3-0cf5-49e6-85a1-682325aff61c",
        "colab": {
          "base_uri": "https://localhost:8080/"
        }
      },
      "source": [
        "df_teste.shape"
      ],
      "execution_count": 31,
      "outputs": [
        {
          "output_type": "execute_result",
          "data": {
            "text/plain": [
              "(1409, 46)"
            ]
          },
          "metadata": {
            "tags": []
          },
          "execution_count": 31
        }
      ]
    },
    {
      "cell_type": "code",
      "metadata": {
        "id": "hW5DCn-sH-UY"
      },
      "source": [
        "df_sample_submission = pd.read_csv(url_sample_submission)"
      ],
      "execution_count": 35,
      "outputs": []
    },
    {
      "cell_type": "code",
      "metadata": {
        "id": "Vo7u_7YyItfP",
        "outputId": "bdf7572f-afef-4d62-d440-8cbcb72c5e13",
        "colab": {
          "base_uri": "https://localhost:8080/"
        }
      },
      "source": [
        "df_sample_submission.shape"
      ],
      "execution_count": 36,
      "outputs": [
        {
          "output_type": "execute_result",
          "data": {
            "text/plain": [
              "(1409, 2)"
            ]
          },
          "metadata": {
            "tags": []
          },
          "execution_count": 36
        }
      ]
    },
    {
      "cell_type": "code",
      "metadata": {
        "id": "6DpBRvFiI4LH",
        "outputId": "1f1677fd-fd74-4e46-c39d-b7068df6eaf3",
        "colab": {
          "base_uri": "https://localhost:8080/"
        }
      },
      "source": [
        "df_sample_submission.info()"
      ],
      "execution_count": 37,
      "outputs": [
        {
          "output_type": "stream",
          "text": [
            "<class 'pandas.core.frame.DataFrame'>\n",
            "RangeIndex: 1409 entries, 0 to 1408\n",
            "Data columns (total 2 columns):\n",
            " #   Column  Non-Null Count  Dtype\n",
            "---  ------  --------------  -----\n",
            " 0   id      1409 non-null   int64\n",
            " 1   Churn   1409 non-null   int64\n",
            "dtypes: int64(2)\n",
            "memory usage: 22.1 KB\n"
          ],
          "name": "stdout"
        }
      ]
    },
    {
      "cell_type": "markdown",
      "metadata": {
        "papermill": {
          "duration": 0.031149,
          "end_time": "2020-11-04T19:42:07.979724",
          "exception": false,
          "start_time": "2020-11-04T19:42:07.948575",
          "status": "completed"
        },
        "tags": [],
        "id": "oexaYq1WDZ0B"
      },
      "source": [
        "RANDOM FOREST"
      ]
    },
    {
      "cell_type": "code",
      "metadata": {
        "execution": {
          "iopub.execute_input": "2020-11-04T19:42:08.064961Z",
          "iopub.status.busy": "2020-11-04T19:42:08.063561Z",
          "iopub.status.idle": "2020-11-04T19:42:08.066945Z",
          "shell.execute_reply": "2020-11-04T19:42:08.067595Z"
        },
        "papermill": {
          "duration": 0.045487,
          "end_time": "2020-11-04T19:42:08.067774",
          "exception": false,
          "start_time": "2020-11-04T19:42:08.022287",
          "status": "completed"
        },
        "tags": [],
        "id": "NANGgKtpDZ0C"
      },
      "source": [
        "i_CV = 10 # Número de Cross-Validations\n",
        "i_Seed = 22091980 # semente por questões de reproducibilidade\n",
        "f_Test_Size = 0.3 # Proporção do dataframe de validação (outros valores poderiam ser 0.15, 0.20 ou 0.25)"
      ],
      "execution_count": 19,
      "outputs": []
    },
    {
      "cell_type": "code",
      "metadata": {
        "execution": {
          "iopub.execute_input": "2020-11-04T19:42:08.140331Z",
          "iopub.status.busy": "2020-11-04T19:42:08.139334Z",
          "iopub.status.idle": "2020-11-04T19:42:09.450866Z",
          "shell.execute_reply": "2020-11-04T19:42:09.450217Z"
        },
        "papermill": {
          "duration": 1.349672,
          "end_time": "2020-11-04T19:42:09.451002",
          "exception": false,
          "start_time": "2020-11-04T19:42:08.101330",
          "status": "completed"
        },
        "tags": [],
        "id": "icWqthHSDZ0G"
      },
      "source": [
        "#from sklearn.model_selection import train_test_split\n",
        "\n",
        "#X_treinamento, X_teste, y_treinamento, y_teste = train_test_split(df_X, df_y, test_size = f_Test_Size, random_state = i_Seed)\n",
        "\n",
        "X_treinamento = df_X\n",
        "y_treinamento = df_y\n",
        "X_teste = df_teste\n",
        "y_teste = df_sample_submission['Churn']"
      ],
      "execution_count": 39,
      "outputs": []
    },
    {
      "cell_type": "code",
      "metadata": {
        "execution": {
          "iopub.execute_input": "2020-11-04T19:42:09.522412Z",
          "iopub.status.busy": "2020-11-04T19:42:09.521599Z",
          "iopub.status.idle": "2020-11-04T19:42:13.761060Z",
          "shell.execute_reply": "2020-11-04T19:42:13.761755Z"
        },
        "papermill": {
          "duration": 4.279379,
          "end_time": "2020-11-04T19:42:13.761966",
          "exception": false,
          "start_time": "2020-11-04T19:42:09.482587",
          "status": "completed"
        },
        "tags": [],
        "id": "TLZyTktVDZ0K",
        "outputId": "82b0421d-b054-4b07-acab-0366921193c8",
        "colab": {
          "base_uri": "https://localhost:8080/"
        }
      },
      "source": [
        "from xgboost import XGBClassifier\n",
        "import xgboost as xgb\n",
        "\n",
        "# Instancia...\n",
        "ml_XGB= XGBClassifier(silent=False, \n",
        "                         scale_pos_weight=1,\n",
        "                        learning_rate=0.01,  \n",
        "                        colsample_bytree = 1,\n",
        "                        subsample = 0.8,\n",
        "                        objective='binary:logistic', \n",
        "                        n_estimators=1000, \n",
        "                        reg_alpha = 0.3,\n",
        "                        max_depth= 3, \n",
        "                        gamma=1, \n",
        "                        max_delta_step=5)\n",
        "\n",
        "# Treina... \n",
        "ml_XGB.fit(X_treinamento, y_treinamento)\n",
        "\n"
      ],
      "execution_count": 40,
      "outputs": [
        {
          "output_type": "execute_result",
          "data": {
            "text/plain": [
              "XGBClassifier(base_score=0.5, booster='gbtree', colsample_bylevel=1,\n",
              "              colsample_bynode=1, colsample_bytree=1, gamma=1,\n",
              "              learning_rate=0.01, max_delta_step=5, max_depth=3,\n",
              "              min_child_weight=1, missing=None, n_estimators=1000, n_jobs=1,\n",
              "              nthread=None, objective='binary:logistic', random_state=0,\n",
              "              reg_alpha=0.3, reg_lambda=1, scale_pos_weight=1, seed=None,\n",
              "              silent=False, subsample=0.8, verbosity=1)"
            ]
          },
          "metadata": {
            "tags": []
          },
          "execution_count": 40
        }
      ]
    },
    {
      "cell_type": "code",
      "metadata": {
        "execution": {
          "iopub.execute_input": "2020-11-04T19:42:13.858400Z",
          "iopub.status.busy": "2020-11-04T19:42:13.857428Z",
          "iopub.status.idle": "2020-11-04T19:42:13.859777Z",
          "shell.execute_reply": "2020-11-04T19:42:13.860621Z"
        },
        "papermill": {
          "duration": 0.060119,
          "end_time": "2020-11-04T19:42:13.860816",
          "exception": false,
          "start_time": "2020-11-04T19:42:13.800697",
          "status": "completed"
        },
        "tags": [],
        "id": "gnEtQV9pDZ0N"
      },
      "source": [
        "from sklearn.model_selection import cross_val_score"
      ],
      "execution_count": 41,
      "outputs": []
    },
    {
      "cell_type": "code",
      "metadata": {
        "execution": {
          "iopub.execute_input": "2020-11-04T19:42:13.946232Z",
          "iopub.status.busy": "2020-11-04T19:42:13.945092Z",
          "iopub.status.idle": "2020-11-04T19:42:13.948955Z",
          "shell.execute_reply": "2020-11-04T19:42:13.948378Z"
        },
        "papermill": {
          "duration": 0.049783,
          "end_time": "2020-11-04T19:42:13.949079",
          "exception": false,
          "start_time": "2020-11-04T19:42:13.899296",
          "status": "completed"
        },
        "tags": [],
        "id": "tNFvtWC4DZ0R"
      },
      "source": [
        "def funcao_cross_val_score(modelo, X_treinamento, y_treinamento, CV):\n",
        "    #versão com cross_val_score::\n",
        "    a_scores_CV = cross_val_score(modelo, X_treinamento, y_treinamento, cv = CV)\n",
        "    print(f'Média das Acurácias calculadas pelo CV....: {100*round(a_scores_CV.mean(),4)}')\n",
        "    print(f'std médio das Acurácias calculadas pelo CV: {100*round(a_scores_CV.std(),4)}')\n",
        "    return a_scores_CV"
      ],
      "execution_count": 42,
      "outputs": []
    },
    {
      "cell_type": "code",
      "metadata": {
        "execution": {
          "iopub.execute_input": "2020-11-04T19:42:14.027095Z",
          "iopub.status.busy": "2020-11-04T19:42:14.026023Z",
          "iopub.status.idle": "2020-11-04T19:42:45.553985Z",
          "shell.execute_reply": "2020-11-04T19:42:45.554913Z"
        },
        "papermill": {
          "duration": 31.572679,
          "end_time": "2020-11-04T19:42:45.555133",
          "exception": false,
          "start_time": "2020-11-04T19:42:13.982454",
          "status": "completed"
        },
        "tags": [],
        "id": "iYWvL4phDZ0V",
        "outputId": "6e53a467-cc6b-4af2-dcce-c0ec29d9a88e",
        "colab": {
          "base_uri": "https://localhost:8080/"
        }
      },
      "source": [
        "a_scores_CV = funcao_cross_val_score(ml_XGB, X_treinamento, y_treinamento, i_CV)"
      ],
      "execution_count": 43,
      "outputs": [
        {
          "output_type": "stream",
          "text": [
            "Média das Acurácias calculadas pelo CV....: 80.92\n",
            "std médio das Acurácias calculadas pelo CV: 1.8599999999999999\n"
          ],
          "name": "stdout"
        }
      ]
    },
    {
      "cell_type": "code",
      "metadata": {
        "execution": {
          "iopub.execute_input": "2020-11-04T19:42:45.658200Z",
          "iopub.status.busy": "2020-11-04T19:42:45.657102Z",
          "iopub.status.idle": "2020-11-04T19:42:45.679854Z",
          "shell.execute_reply": "2020-11-04T19:42:45.681025Z"
        },
        "papermill": {
          "duration": 0.08181,
          "end_time": "2020-11-04T19:42:45.681303",
          "exception": false,
          "start_time": "2020-11-04T19:42:45.599493",
          "status": "completed"
        },
        "tags": [],
        "id": "FTiAlW3xDZ0a"
      },
      "source": [
        "y_pred = ml_XGB.predict(X_teste)"
      ],
      "execution_count": 44,
      "outputs": []
    },
    {
      "cell_type": "code",
      "metadata": {
        "id": "rD7A_C8PJoFx",
        "outputId": "2d5bafb1-9d63-4aab-f3b4-a266452d55dd",
        "colab": {
          "base_uri": "https://localhost:8080/"
        }
      },
      "source": [
        "y_pred"
      ],
      "execution_count": 49,
      "outputs": [
        {
          "output_type": "execute_result",
          "data": {
            "text/plain": [
              "array([0, 0, 1, ..., 0, 1, 0])"
            ]
          },
          "metadata": {
            "tags": []
          },
          "execution_count": 49
        }
      ]
    },
    {
      "cell_type": "code",
      "metadata": {
        "id": "zDFoe4DfEAN-",
        "outputId": "b37ca7d0-da8f-4630-a1fe-0f4945edbed9",
        "colab": {
          "base_uri": "https://localhost:8080/"
        }
      },
      "source": [
        "from sklearn.metrics import accuracy_score\n",
        "acuracia = accuracy_score(y_teste, y_pred)\n",
        "acuracia"
      ],
      "execution_count": 50,
      "outputs": [
        {
          "output_type": "execute_result",
          "data": {
            "text/plain": [
              "0.5024840312278211"
            ]
          },
          "metadata": {
            "tags": []
          },
          "execution_count": 50
        }
      ]
    },
    {
      "cell_type": "code",
      "metadata": {
        "execution": {
          "iopub.execute_input": "2020-11-04T19:42:45.790114Z",
          "iopub.status.busy": "2020-11-04T19:42:45.788931Z",
          "iopub.status.idle": "2020-11-04T19:42:45.795420Z",
          "shell.execute_reply": "2020-11-04T19:42:45.796310Z"
        },
        "papermill": {
          "duration": 0.068654,
          "end_time": "2020-11-04T19:42:45.796508",
          "exception": false,
          "start_time": "2020-11-04T19:42:45.727854",
          "status": "completed"
        },
        "tags": [],
        "id": "v0BS9QdxDZ0e"
      },
      "source": [
        "# Confusion Matrix\n",
        "from sklearn.metrics import confusion_matrix\n",
        "cf_matrix = confusion_matrix(y_teste, y_pred)\n",
        "cf_matrix"
      ],
      "execution_count": null,
      "outputs": []
    },
    {
      "cell_type": "code",
      "metadata": {
        "execution": {
          "iopub.execute_input": "2020-11-04T19:42:45.914441Z",
          "iopub.status.busy": "2020-11-04T19:42:45.907461Z",
          "iopub.status.idle": "2020-11-04T19:42:45.951021Z",
          "shell.execute_reply": "2020-11-04T19:42:45.952104Z"
        },
        "papermill": {
          "duration": 0.106665,
          "end_time": "2020-11-04T19:42:45.952444",
          "exception": false,
          "start_time": "2020-11-04T19:42:45.845779",
          "status": "completed"
        },
        "tags": [],
        "id": "kq0Pc2WRDZ0i"
      },
      "source": [
        "df_teste_submit = f_trata_col(df_teste)"
      ],
      "execution_count": null,
      "outputs": []
    },
    {
      "cell_type": "code",
      "metadata": {
        "execution": {
          "iopub.execute_input": "2020-11-04T19:42:46.057614Z",
          "iopub.status.busy": "2020-11-04T19:42:46.054020Z",
          "iopub.status.idle": "2020-11-04T19:42:46.082524Z",
          "shell.execute_reply": "2020-11-04T19:42:46.081514Z"
        },
        "papermill": {
          "duration": 0.083806,
          "end_time": "2020-11-04T19:42:46.082737",
          "exception": false,
          "start_time": "2020-11-04T19:42:45.998931",
          "status": "completed"
        },
        "tags": [],
        "id": "dEs4x_JNDZ0n"
      },
      "source": [
        "y_teste_submit = ml_XGB.predict(df_teste_submit)"
      ],
      "execution_count": null,
      "outputs": []
    },
    {
      "cell_type": "code",
      "metadata": {
        "execution": {
          "iopub.execute_input": "2020-11-04T19:42:46.197293Z",
          "iopub.status.busy": "2020-11-04T19:42:46.196212Z",
          "iopub.status.idle": "2020-11-04T19:42:46.204471Z",
          "shell.execute_reply": "2020-11-04T19:42:46.205562Z"
        },
        "papermill": {
          "duration": 0.06737,
          "end_time": "2020-11-04T19:42:46.205804",
          "exception": false,
          "start_time": "2020-11-04T19:42:46.138434",
          "status": "completed"
        },
        "tags": [],
        "id": "O5QCMwM7DZ0s"
      },
      "source": [
        "df_submit = pd.DataFrame(zip(df_teste_submit['id'],y_teste_submit), columns = ['id','Churn'])"
      ],
      "execution_count": null,
      "outputs": []
    },
    {
      "cell_type": "code",
      "metadata": {
        "execution": {
          "iopub.execute_input": "2020-11-04T19:42:46.307314Z",
          "iopub.status.busy": "2020-11-04T19:42:46.305968Z",
          "iopub.status.idle": "2020-11-04T19:42:46.310916Z",
          "shell.execute_reply": "2020-11-04T19:42:46.310236Z"
        },
        "papermill": {
          "duration": 0.057819,
          "end_time": "2020-11-04T19:42:46.311050",
          "exception": false,
          "start_time": "2020-11-04T19:42:46.253231",
          "status": "completed"
        },
        "tags": [],
        "id": "-YuvUDiODZ0y"
      },
      "source": [
        "df_submit.head()"
      ],
      "execution_count": null,
      "outputs": []
    },
    {
      "cell_type": "code",
      "metadata": {
        "execution": {
          "iopub.execute_input": "2020-11-04T19:42:46.404305Z",
          "iopub.status.busy": "2020-11-04T19:42:46.403184Z",
          "iopub.status.idle": "2020-11-04T19:42:46.688659Z",
          "shell.execute_reply": "2020-11-04T19:42:46.687955Z"
        },
        "papermill": {
          "duration": 0.330483,
          "end_time": "2020-11-04T19:42:46.688795",
          "exception": false,
          "start_time": "2020-11-04T19:42:46.358312",
          "status": "completed"
        },
        "tags": [],
        "id": "28or7IHqDZ02"
      },
      "source": [
        "df_submit.to_csv('submit9.csv',index = False, sep = ',')"
      ],
      "execution_count": null,
      "outputs": []
    },
    {
      "cell_type": "code",
      "metadata": {
        "papermill": {
          "duration": 0.039295,
          "end_time": "2020-11-04T19:42:46.768041",
          "exception": false,
          "start_time": "2020-11-04T19:42:46.728746",
          "status": "completed"
        },
        "tags": [],
        "id": "3sqy7sANDZ05"
      },
      "source": [
        ""
      ],
      "execution_count": null,
      "outputs": []
    }
  ]
}