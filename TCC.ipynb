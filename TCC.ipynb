{
  "nbformat": 4,
  "nbformat_minor": 0,
  "metadata": {
    "colab": {
      "name": "Untitled3.ipynb",
      "provenance": [],
      "collapsed_sections": [],
      "authorship_tag": "ABX9TyP2ryZS0zjkPYEG558vCwer",
      "include_colab_link": true
    },
    "kernelspec": {
      "name": "python3",
      "display_name": "Python 3"
    }
  },
  "cells": [
    {
      "cell_type": "markdown",
      "metadata": {
        "id": "view-in-github",
        "colab_type": "text"
      },
      "source": [
        "<a href=\"https://colab.research.google.com/github/Alencar2208/DSWP/blob/master/TCC.ipynb\" target=\"_parent\"><img src=\"https://colab.research.google.com/assets/colab-badge.svg\" alt=\"Open In Colab\"/></a>"
      ]
    },
    {
      "cell_type": "code",
      "metadata": {
        "colab": {
          "base_uri": "https://localhost:8080/"
        },
        "id": "NMP9xBPa7TJU",
        "outputId": "5665af0c-cc35-4137-bde9-eabb1ebe17bb"
      },
      "source": [
        "!pip install yfinance"
      ],
      "execution_count": 1,
      "outputs": [
        {
          "output_type": "stream",
          "text": [
            "Collecting yfinance\n",
            "  Downloading https://files.pythonhosted.org/packages/7a/e8/b9d7104d3a4bf39924799067592d9e59119fcfc900a425a12e80a3123ec8/yfinance-0.1.55.tar.gz\n",
            "Requirement already satisfied: pandas>=0.24 in /usr/local/lib/python3.6/dist-packages (from yfinance) (1.1.4)\n",
            "Requirement already satisfied: numpy>=1.15 in /usr/local/lib/python3.6/dist-packages (from yfinance) (1.18.5)\n",
            "Requirement already satisfied: requests>=2.20 in /usr/local/lib/python3.6/dist-packages (from yfinance) (2.23.0)\n",
            "Requirement already satisfied: multitasking>=0.0.7 in /usr/local/lib/python3.6/dist-packages (from yfinance) (0.0.9)\n",
            "Collecting lxml>=4.5.1\n",
            "\u001b[?25l  Downloading https://files.pythonhosted.org/packages/bd/78/56a7c88a57d0d14945472535d0df9fb4bbad7d34ede658ec7961635c790e/lxml-4.6.2-cp36-cp36m-manylinux1_x86_64.whl (5.5MB)\n",
            "\u001b[K     |████████████████████████████████| 5.5MB 9.5MB/s \n",
            "\u001b[?25hRequirement already satisfied: pytz>=2017.2 in /usr/local/lib/python3.6/dist-packages (from pandas>=0.24->yfinance) (2018.9)\n",
            "Requirement already satisfied: python-dateutil>=2.7.3 in /usr/local/lib/python3.6/dist-packages (from pandas>=0.24->yfinance) (2.8.1)\n",
            "Requirement already satisfied: chardet<4,>=3.0.2 in /usr/local/lib/python3.6/dist-packages (from requests>=2.20->yfinance) (3.0.4)\n",
            "Requirement already satisfied: urllib3!=1.25.0,!=1.25.1,<1.26,>=1.21.1 in /usr/local/lib/python3.6/dist-packages (from requests>=2.20->yfinance) (1.24.3)\n",
            "Requirement already satisfied: certifi>=2017.4.17 in /usr/local/lib/python3.6/dist-packages (from requests>=2.20->yfinance) (2020.11.8)\n",
            "Requirement already satisfied: idna<3,>=2.5 in /usr/local/lib/python3.6/dist-packages (from requests>=2.20->yfinance) (2.10)\n",
            "Requirement already satisfied: six>=1.5 in /usr/local/lib/python3.6/dist-packages (from python-dateutil>=2.7.3->pandas>=0.24->yfinance) (1.15.0)\n",
            "Building wheels for collected packages: yfinance\n",
            "  Building wheel for yfinance (setup.py) ... \u001b[?25l\u001b[?25hdone\n",
            "  Created wheel for yfinance: filename=yfinance-0.1.55-py2.py3-none-any.whl size=22618 sha256=b1c409593ea52b63c83855facae65404352164e7ed719b86f32a17ff514d4602\n",
            "  Stored in directory: /root/.cache/pip/wheels/04/98/cc/2702a4242d60bdc14f48b4557c427ded1fe92aedf257d4565c\n",
            "Successfully built yfinance\n",
            "Installing collected packages: lxml, yfinance\n",
            "  Found existing installation: lxml 4.2.6\n",
            "    Uninstalling lxml-4.2.6:\n",
            "      Successfully uninstalled lxml-4.2.6\n",
            "Successfully installed lxml-4.6.2 yfinance-0.1.55\n"
          ],
          "name": "stdout"
        }
      ]
    },
    {
      "cell_type": "code",
      "metadata": {
        "id": "Qa9GRffo7rZg"
      },
      "source": [
        "import yfinance as yf\n",
        "import pandas as pd\n",
        "import numpy as np\n"
      ],
      "execution_count": 2,
      "outputs": []
    },
    {
      "cell_type": "code",
      "metadata": {
        "colab": {
          "base_uri": "https://localhost:8080/",
          "height": 467
        },
        "id": "tvdOKRG374hT",
        "outputId": "588d9d13-0129-4983-f9c8-6036d477b7fe"
      },
      "source": [
        "df = yf.download(  'ITUB4.SA', start=\"2019-01-01\", interval = \"60m\")\n",
        "df"
      ],
      "execution_count": 9,
      "outputs": [
        {
          "output_type": "stream",
          "text": [
            "\r[*********************100%***********************]  1 of 1 completed\n"
          ],
          "name": "stdout"
        },
        {
          "output_type": "execute_result",
          "data": {
            "text/html": [
              "<div>\n",
              "<style scoped>\n",
              "    .dataframe tbody tr th:only-of-type {\n",
              "        vertical-align: middle;\n",
              "    }\n",
              "\n",
              "    .dataframe tbody tr th {\n",
              "        vertical-align: top;\n",
              "    }\n",
              "\n",
              "    .dataframe thead th {\n",
              "        text-align: right;\n",
              "    }\n",
              "</style>\n",
              "<table border=\"1\" class=\"dataframe\">\n",
              "  <thead>\n",
              "    <tr style=\"text-align: right;\">\n",
              "      <th></th>\n",
              "      <th>Open</th>\n",
              "      <th>High</th>\n",
              "      <th>Low</th>\n",
              "      <th>Close</th>\n",
              "      <th>Adj Close</th>\n",
              "      <th>Volume</th>\n",
              "    </tr>\n",
              "    <tr>\n",
              "      <th>Datetime</th>\n",
              "      <th></th>\n",
              "      <th></th>\n",
              "      <th></th>\n",
              "      <th></th>\n",
              "      <th></th>\n",
              "      <th></th>\n",
              "    </tr>\n",
              "  </thead>\n",
              "  <tbody>\n",
              "    <tr>\n",
              "      <th>2019-01-02 10:00:00-02:00</th>\n",
              "      <td>35.439999</td>\n",
              "      <td>35.580002</td>\n",
              "      <td>35.360001</td>\n",
              "      <td>35.509998</td>\n",
              "      <td>35.509998</td>\n",
              "      <td>0.0</td>\n",
              "    </tr>\n",
              "    <tr>\n",
              "      <th>2019-01-02 11:00:00-02:00</th>\n",
              "      <td>35.509998</td>\n",
              "      <td>35.680000</td>\n",
              "      <td>35.470001</td>\n",
              "      <td>35.639999</td>\n",
              "      <td>35.639999</td>\n",
              "      <td>3211400.0</td>\n",
              "    </tr>\n",
              "    <tr>\n",
              "      <th>2019-01-02 12:00:00-02:00</th>\n",
              "      <td>35.619999</td>\n",
              "      <td>36.490002</td>\n",
              "      <td>35.599998</td>\n",
              "      <td>36.389999</td>\n",
              "      <td>36.389999</td>\n",
              "      <td>3557000.0</td>\n",
              "    </tr>\n",
              "    <tr>\n",
              "      <th>2019-01-02 13:00:00-02:00</th>\n",
              "      <td>36.400002</td>\n",
              "      <td>36.930000</td>\n",
              "      <td>36.330002</td>\n",
              "      <td>36.830002</td>\n",
              "      <td>36.830002</td>\n",
              "      <td>5624600.0</td>\n",
              "    </tr>\n",
              "    <tr>\n",
              "      <th>2019-01-02 14:00:00-02:00</th>\n",
              "      <td>36.840000</td>\n",
              "      <td>37.060001</td>\n",
              "      <td>36.619999</td>\n",
              "      <td>36.959999</td>\n",
              "      <td>36.959999</td>\n",
              "      <td>3708700.0</td>\n",
              "    </tr>\n",
              "    <tr>\n",
              "      <th>...</th>\n",
              "      <td>...</td>\n",
              "      <td>...</td>\n",
              "      <td>...</td>\n",
              "      <td>...</td>\n",
              "      <td>...</td>\n",
              "      <td>...</td>\n",
              "    </tr>\n",
              "    <tr>\n",
              "      <th>2020-12-07 16:00:00-02:00</th>\n",
              "      <td>30.980000</td>\n",
              "      <td>31.000000</td>\n",
              "      <td>30.799999</td>\n",
              "      <td>30.889999</td>\n",
              "      <td>30.889999</td>\n",
              "      <td>1693500.0</td>\n",
              "    </tr>\n",
              "    <tr>\n",
              "      <th>2020-12-08 11:00:00-02:00</th>\n",
              "      <td>30.440001</td>\n",
              "      <td>30.740000</td>\n",
              "      <td>30.230000</td>\n",
              "      <td>30.690001</td>\n",
              "      <td>30.690001</td>\n",
              "      <td>2493900.0</td>\n",
              "    </tr>\n",
              "    <tr>\n",
              "      <th>2020-12-08 12:00:00-02:00</th>\n",
              "      <td>30.680000</td>\n",
              "      <td>31.080000</td>\n",
              "      <td>30.629999</td>\n",
              "      <td>31.040001</td>\n",
              "      <td>31.040001</td>\n",
              "      <td>8651700.0</td>\n",
              "    </tr>\n",
              "    <tr>\n",
              "      <th>2020-12-08 13:00:00-02:00</th>\n",
              "      <td>31.030001</td>\n",
              "      <td>31.110001</td>\n",
              "      <td>31.000000</td>\n",
              "      <td>31.100000</td>\n",
              "      <td>31.100000</td>\n",
              "      <td>804700.0</td>\n",
              "    </tr>\n",
              "    <tr>\n",
              "      <th>2020-12-08 13:10:47-02:00</th>\n",
              "      <td>31.100000</td>\n",
              "      <td>31.100000</td>\n",
              "      <td>31.100000</td>\n",
              "      <td>31.100000</td>\n",
              "      <td>31.100000</td>\n",
              "      <td>0.0</td>\n",
              "    </tr>\n",
              "  </tbody>\n",
              "</table>\n",
              "<p>3261 rows × 6 columns</p>\n",
              "</div>"
            ],
            "text/plain": [
              "                                Open       High  ...  Adj Close     Volume\n",
              "Datetime                                         ...                      \n",
              "2019-01-02 10:00:00-02:00  35.439999  35.580002  ...  35.509998        0.0\n",
              "2019-01-02 11:00:00-02:00  35.509998  35.680000  ...  35.639999  3211400.0\n",
              "2019-01-02 12:00:00-02:00  35.619999  36.490002  ...  36.389999  3557000.0\n",
              "2019-01-02 13:00:00-02:00  36.400002  36.930000  ...  36.830002  5624600.0\n",
              "2019-01-02 14:00:00-02:00  36.840000  37.060001  ...  36.959999  3708700.0\n",
              "...                              ...        ...  ...        ...        ...\n",
              "2020-12-07 16:00:00-02:00  30.980000  31.000000  ...  30.889999  1693500.0\n",
              "2020-12-08 11:00:00-02:00  30.440001  30.740000  ...  30.690001  2493900.0\n",
              "2020-12-08 12:00:00-02:00  30.680000  31.080000  ...  31.040001  8651700.0\n",
              "2020-12-08 13:00:00-02:00  31.030001  31.110001  ...  31.100000   804700.0\n",
              "2020-12-08 13:10:47-02:00  31.100000  31.100000  ...  31.100000        0.0\n",
              "\n",
              "[3261 rows x 6 columns]"
            ]
          },
          "metadata": {
            "tags": []
          },
          "execution_count": 9
        }
      ]
    },
    {
      "cell_type": "code",
      "metadata": {
        "id": "X9VV42gS8w_C"
      },
      "source": [
        "df.to_csv('ITUB4.csv')"
      ],
      "execution_count": 10,
      "outputs": []
    },
    {
      "cell_type": "code",
      "metadata": {
        "id": "g6E-uITP9uXw"
      },
      "source": [
        ""
      ],
      "execution_count": null,
      "outputs": []
    }
  ]
}