{
  "nbformat": 4,
  "nbformat_minor": 0,
  "metadata": {
    "colab": {
      "name": "Functions.ipynb",
      "version": "0.3.2",
      "provenance": [],
      "private_outputs": true,
      "toc_visible": true,
      "include_colab_link": true
    },
    "kernelspec": {
      "name": "python3",
      "display_name": "Python 3"
    }
  },
  "cells": [
    {
      "cell_type": "markdown",
      "metadata": {
        "id": "view-in-github",
        "colab_type": "text"
      },
      "source": [
        "<a href=\"https://colab.research.google.com/github/MathMachado/Python_RFB/blob/DS_Python/Notebooks/Functions.ipynb\" target=\"_parent\"><img src=\"https://colab.research.google.com/assets/colab-badge.svg\" alt=\"Open In Colab\"/></a>"
      ]
    },
    {
      "cell_type": "markdown",
      "metadata": {
        "id": "J7p-ar1vWFQA",
        "colab_type": "text"
      },
      "source": [
        "# Melhorias da sessão\n",
        "* Falar de Lambda functions\n",
        "* Falar de default argumentos;\n",
        "* Dar mais exemplos de lambda functions;\n",
        "* Falar de \"exception handling\" (https://www.w3schools.com/python/python_try_except.asp)\n",
        "* Falar de yield e return. Qual a diferença?"
      ]
    },
    {
      "cell_type": "markdown",
      "metadata": {
        "id": "e0UKAZQvJ_c2",
        "colab_type": "text"
      },
      "source": [
        "# Funções Python\n",
        "> Funções são uma sequência de comandos para executar uma tarefa;\n",
        "    * Usamos a palavra reservada 'def' para declarar uma função em Python."
      ]
    },
    {
      "cell_type": "code",
      "metadata": {
        "id": "etxNlyRYo39A",
        "colab_type": "code",
        "colab": {}
      },
      "source": [
        "def Show_Hello_World():\n",
        "    print('Hello World!')"
      ],
      "execution_count": 0,
      "outputs": []
    },
    {
      "cell_type": "code",
      "metadata": {
        "id": "G6I9PFvZpBgR",
        "colab_type": "code",
        "colab": {}
      },
      "source": [
        "type(Show_Hello_World)"
      ],
      "execution_count": 0,
      "outputs": []
    },
    {
      "cell_type": "code",
      "metadata": {
        "id": "_meNdNygpIbv",
        "colab_type": "code",
        "colab": {}
      },
      "source": [
        "Show_Hello_World()"
      ],
      "execution_count": 0,
      "outputs": []
    },
    {
      "cell_type": "markdown",
      "metadata": {
        "id": "6zfLd8HwpPpg",
        "colab_type": "text"
      },
      "source": [
        "# Documentar funções com comments/docstring"
      ]
    },
    {
      "cell_type": "code",
      "metadata": {
        "id": "3yzgBxtNpRi_",
        "colab_type": "code",
        "colab": {}
      },
      "source": [
        "def Show_Hello_World():\n",
        "    '''\n",
        "    Esta função faz um cumprimento: 'Hello World!'\n",
        "    '''\n",
        "    print('Hello World!')"
      ],
      "execution_count": 0,
      "outputs": []
    },
    {
      "cell_type": "code",
      "metadata": {
        "id": "0rBaxjpmpbm1",
        "colab_type": "code",
        "colab": {}
      },
      "source": [
        "Show_Hello_World()"
      ],
      "execution_count": 0,
      "outputs": []
    },
    {
      "cell_type": "code",
      "metadata": {
        "id": "6ThOwDQp4TfR",
        "colab_type": "code",
        "colab": {}
      },
      "source": [
        "# Se quisermos ver a documentação da função, basta invocar o statement __doc__ da seguinte forma:\n",
        "Show_Hello_World.__doc__"
      ],
      "execution_count": 0,
      "outputs": []
    },
    {
      "cell_type": "markdown",
      "metadata": {
        "id": "whbnnMA5p1Jw",
        "colab_type": "text"
      },
      "source": [
        "# Funções com atributos"
      ]
    },
    {
      "cell_type": "markdown",
      "metadata": {
        "id": "O3bSjLA_qTTc",
        "colab_type": "text"
      },
      "source": [
        "Definir a função ShowName com dois atributos: FirstName e Lastname:"
      ]
    },
    {
      "cell_type": "code",
      "metadata": {
        "id": "9jWyCCPPp4yS",
        "colab_type": "code",
        "colab": {}
      },
      "source": [
        "def ShowName(FirstName, LastName):\n",
        "    print(f'Olá, meu nome é {FirstName} {LastName}')"
      ],
      "execution_count": 0,
      "outputs": []
    },
    {
      "cell_type": "code",
      "metadata": {
        "id": "VOB3Ip63qIzr",
        "colab_type": "code",
        "colab": {}
      },
      "source": [
        "ShowName('Nelio', 'Machado')"
      ],
      "execution_count": 0,
      "outputs": []
    },
    {
      "cell_type": "markdown",
      "metadata": {
        "id": "Ej74rjiEXPMV",
        "colab_type": "text"
      },
      "source": [
        "## \\*args and **kargs\n",
        "* \\*args permite que você passe mais argumentos do que o número de argumentos formais que você definiu anteriormente."
      ]
    },
    {
      "cell_type": "markdown",
      "metadata": {
        "id": "rSnrtFNtXrbN",
        "colab_type": "text"
      },
      "source": [
        "### Exemplo de \\*args\n",
        "* Considere a função (simples) para imprimir o nome completo de um cliente."
      ]
    },
    {
      "cell_type": "markdown",
      "metadata": {
        "id": "ty1PJTVajhv_",
        "colab_type": "text"
      },
      "source": [
        "#### Exemplo 1"
      ]
    },
    {
      "cell_type": "markdown",
      "metadata": {
        "id": "BsnGFHB9ZI4f",
        "colab_type": "text"
      },
      "source": [
        "##### Forma \"normal\""
      ]
    },
    {
      "cell_type": "code",
      "metadata": {
        "id": "irNsr9pyYJAO",
        "colab_type": "code",
        "colab": {}
      },
      "source": [
        "# Definimos a função da seguinte forma:\n",
        "def MyFunction(FirstName, Surname):\n",
        "    print(f'O nome do cliente é {FirstName} {Surname}')"
      ],
      "execution_count": 0,
      "outputs": []
    },
    {
      "cell_type": "code",
      "metadata": {
        "id": "FJT2wViaYc1n",
        "colab_type": "code",
        "colab": {}
      },
      "source": [
        "# Chamamos a função:\n",
        "MyFunction(\"Dom\", \"Pedro I\")"
      ],
      "execution_count": 0,
      "outputs": []
    },
    {
      "cell_type": "markdown",
      "metadata": {
        "id": "zwKXyVtmZNSF",
        "colab_type": "text"
      },
      "source": [
        "##### Usando \\*args"
      ]
    },
    {
      "cell_type": "code",
      "metadata": {
        "id": "Npbi_Hy0bUec",
        "colab_type": "code",
        "colab": {}
      },
      "source": [
        "# definimos a função MyFunction2 da seguinte forma:\n",
        "def MyFunction2(*args):\n",
        "    nome =  ' '.join(args)\n",
        "    print(f'O nome do cliente é {nome}')"
      ],
      "execution_count": 0,
      "outputs": []
    },
    {
      "cell_type": "code",
      "metadata": {
        "id": "4kYcu6PEX-Nz",
        "colab_type": "code",
        "colab": {}
      },
      "source": [
        "MyFunction2('Pedro', 'de', 'Alcantara', 'Francisco', 'Antonio', 'Joao', 'Carlos', 'Xavier', 'de', 'Paula', 'Miguel', 'Rafael', 'Joaquim', 'Jose', 'Gonzaga', 'Pascoal', 'Cipriano', 'Serafim')"
      ],
      "execution_count": 0,
      "outputs": []
    },
    {
      "cell_type": "markdown",
      "metadata": {
        "id": "KMgngPmFimxb",
        "colab_type": "text"
      },
      "source": [
        "Observe que desta forma pouco importa a quantidade de parâmetros que passamos á função."
      ]
    },
    {
      "cell_type": "markdown",
      "metadata": {
        "id": "Y9pDa6ZRjo0U",
        "colab_type": "text"
      },
      "source": [
        "#### Exemplo 2\n",
        "* suponha que estamos insteressados em desenvolver uma função que multiplica dois números passados como parâmetros."
      ]
    },
    {
      "cell_type": "markdown",
      "metadata": {
        "id": "cCDwruF8j5i5",
        "colab_type": "text"
      },
      "source": [
        "##### Forma \"Normal\""
      ]
    },
    {
      "cell_type": "code",
      "metadata": {
        "id": "_R03BiwLjtwB",
        "colab_type": "code",
        "colab": {}
      },
      "source": [
        "# Definição da função\n",
        "def Multiplica(x1, x2):\n",
        "    return x1*x2"
      ],
      "execution_count": 0,
      "outputs": []
    },
    {
      "cell_type": "code",
      "metadata": {
        "id": "0eVm1Qj9kDtd",
        "colab_type": "code",
        "colab": {}
      },
      "source": [
        "nResultado= Multiplica(3, 4)\n",
        "print(nResultado)"
      ],
      "execution_count": 0,
      "outputs": []
    },
    {
      "cell_type": "markdown",
      "metadata": {
        "id": "4h9Nhkickf_8",
        "colab_type": "text"
      },
      "source": [
        "##### Usando \\*args"
      ]
    },
    {
      "cell_type": "code",
      "metadata": {
        "id": "9Kf89meJkjw8",
        "colab_type": "code",
        "colab": {}
      },
      "source": [
        "def Multiplica2(*args):\n",
        "    x= 1\n",
        "    for N in args:\n",
        "        x*= N\n",
        "    \n",
        "    return x"
      ],
      "execution_count": 0,
      "outputs": []
    },
    {
      "cell_type": "code",
      "metadata": {
        "id": "ZuIzwitWk7by",
        "colab_type": "code",
        "colab": {}
      },
      "source": [
        "nResultado= Multiplica2(1,2,3,4,5)\n",
        "print(nResultado)"
      ],
      "execution_count": 0,
      "outputs": []
    },
    {
      "cell_type": "markdown",
      "metadata": {
        "id": "38jVie_IjMXI",
        "colab_type": "text"
      },
      "source": [
        "### Exemplo de \\**kargs\n",
        "\n",
        "* \\**kargs é usado para passar um dicionário de comprimento variável para uma função.\n",
        "* Argumento do tipo {chave: valor};\n",
        "\n",
        "* Para exemplificar o uso de \\**kargs, vou usar parte do dicionário dFruits que definimos na sessão [Dictionaries](Dictionaries.ipynb). Qualquer dúvida, volte áquele capítulo para relembrar os principais conceitos."
      ]
    },
    {
      "cell_type": "code",
      "metadata": {
        "id": "jojtsb3ojO7u",
        "colab_type": "code",
        "colab": {}
      },
      "source": [
        "# Definindo o dicionário:\n",
        "dFruits= {'Avocado': 0.35, \n",
        "         'Apple': 0.40, \n",
        "         'Apricot': 0.25, \n",
        "         'Banana': 0.30, \n",
        "         'Blackcurrant': 0.70, \n",
        "         'Blackberry': 0.55, \n",
        "         'Blueberry': 0.45, \n",
        "         'Cherry': 0.50, \n",
        "         'Coconut': 0.75, \n",
        "         'Fig': 0.60, \n",
        "         'Grape': 0.65, \n",
        "         'Kiwi': 0.20, \n",
        "         'Lemon': 0.15, \n",
        "         'Mango': 0.80, \n",
        "         'Nectarine': 0.75, \n",
        "         'Orange': 0.25, \n",
        "         'Papaya': 0.30,\n",
        "         'Passion Fruit': 0.45,\n",
        "         'Peach': 0.55,\n",
        "         'Pineapple': 0.55,\n",
        "         'Plum': 0.60,\n",
        "         'Raspberry': 0.40,\n",
        "         'Strawberry': 0.50,\n",
        "         'Watermelon': 0.45}"
      ],
      "execution_count": 0,
      "outputs": []
    },
    {
      "cell_type": "code",
      "metadata": {
        "id": "iDLuRTDMoERA",
        "colab_type": "code",
        "colab": {}
      },
      "source": [
        "print(dFruits)"
      ],
      "execution_count": 0,
      "outputs": []
    },
    {
      "cell_type": "code",
      "metadata": {
        "id": "yAntQ724nMbv",
        "colab_type": "code",
        "colab": {}
      },
      "source": [
        "# Definindo a função:\n",
        "def PrintFruits(**kwargs):\n",
        "    for key, value in kwargs.items():\n",
        "        print(f'O valor de {key} é {value}')"
      ],
      "execution_count": 0,
      "outputs": []
    },
    {
      "cell_type": "code",
      "metadata": {
        "id": "88-1lStInaVs",
        "colab_type": "code",
        "colab": {}
      },
      "source": [
        "PrintFruits(Avocado= 0.35, Apple= 0.4, Apricot= 0.25, Banana= 0.30)"
      ],
      "execution_count": 0,
      "outputs": []
    },
    {
      "cell_type": "markdown",
      "metadata": {
        "id": "iK8-e7a1sXmn",
        "colab_type": "text"
      },
      "source": [
        "# Python 'return' statement\n",
        "* Uma função Python pode ou não retornar uma valor."
      ]
    },
    {
      "cell_type": "code",
      "metadata": {
        "id": "HS0dGA55siWw",
        "colab_type": "code",
        "colab": {}
      },
      "source": [
        "def Even_or_Odd(nNumber1, nNumber2):\n",
        "    '''\n",
        "    Esta função somente avalia se a soma de dois números é par ou impar. \n",
        "    A função retorna odd ou even.\n",
        "    '''\n",
        "    nSum= nNumber1+nNumber2\n",
        "    nMod= nSum % 2\n",
        "    print(f'A soma é {nSum}')\n",
        "    if nMod > 0:\n",
        "        return 'Odd'\n",
        "    else:\n",
        "        return 'Even'   "
      ],
      "execution_count": 0,
      "outputs": []
    },
    {
      "cell_type": "code",
      "metadata": {
        "id": "mZTG2tDJuIZQ",
        "colab_type": "code",
        "colab": {}
      },
      "source": [
        "nNumber1= int(input('Por favor, informe o primeiro número: '))\n",
        "nNumber2= int(input('Por favor, informe o segundo número.: '))"
      ],
      "execution_count": 0,
      "outputs": []
    },
    {
      "cell_type": "code",
      "metadata": {
        "id": "7p_9pq3Du18a",
        "colab_type": "code",
        "colab": {}
      },
      "source": [
        "type(nNumber1)"
      ],
      "execution_count": 0,
      "outputs": []
    },
    {
      "cell_type": "code",
      "metadata": {
        "id": "4oO7aAjcvCAe",
        "colab_type": "code",
        "colab": {}
      },
      "source": [
        "type(nNumber2)"
      ],
      "execution_count": 0,
      "outputs": []
    },
    {
      "cell_type": "code",
      "metadata": {
        "id": "Br7yT8UHuKYY",
        "colab_type": "code",
        "colab": {}
      },
      "source": [
        "sResult= Even_or_Odd(nNumber1, nNumber2)"
      ],
      "execution_count": 0,
      "outputs": []
    },
    {
      "cell_type": "code",
      "metadata": {
        "id": "601QnggJuhf-",
        "colab_type": "code",
        "colab": {}
      },
      "source": [
        "print(f'O resultado é {sResult}')"
      ],
      "execution_count": 0,
      "outputs": []
    },
    {
      "cell_type": "markdown",
      "metadata": {
        "id": "t6HNf9j9yKcT",
        "colab_type": "text"
      },
      "source": [
        "Mostra o valor de nMod ou nSum:"
      ]
    },
    {
      "cell_type": "code",
      "metadata": {
        "id": "Yu8RsyDAyXne",
        "colab_type": "code",
        "colab": {}
      },
      "source": [
        "nMod"
      ],
      "execution_count": 0,
      "outputs": []
    },
    {
      "cell_type": "markdown",
      "metadata": {
        "id": "nx3twrLRyaeJ",
        "colab_type": "text"
      },
      "source": [
        "Python reporta que nMod não existe.\n",
        "Está correta esta informação?"
      ]
    },
    {
      "cell_type": "markdown",
      "metadata": {
        "id": "imkyRO4kyvgV",
        "colab_type": "text"
      },
      "source": [
        "Considere o exemplo a seguir:"
      ]
    },
    {
      "cell_type": "code",
      "metadata": {
        "id": "kwRiXDA5y19h",
        "colab_type": "code",
        "colab": {}
      },
      "source": [
        "nMod= 0\n",
        "def Even_or_Odd_V2(nNumber1, nNumber2):\n",
        "    '''\n",
        "    Esta função somente avalia se a soma de dois números é par ou impar. \n",
        "    A função retorna odd ou even.\n",
        "    '''\n",
        "    nSum= nNumber1+nNumber2\n",
        "    nMod= nSum % 2\n",
        "    print(f'A soma é {nSum}')\n",
        "    if nMod > 0:\n",
        "        return 'Odd'\n",
        "    else:\n",
        "        return 'Even'   "
      ],
      "execution_count": 0,
      "outputs": []
    },
    {
      "cell_type": "code",
      "metadata": {
        "id": "GYxLSGQLy_Ai",
        "colab_type": "code",
        "colab": {}
      },
      "source": [
        "nNumber1= int(input('Please inform the 1st number: '))\n",
        "nNumber2= int(input('Please inform the 2nd number: '))"
      ],
      "execution_count": 0,
      "outputs": []
    },
    {
      "cell_type": "code",
      "metadata": {
        "id": "NMtv99fjzHGs",
        "colab_type": "code",
        "colab": {}
      },
      "source": [
        "sResult= Even_or_Odd_V2(nNumber1, nNumber2)"
      ],
      "execution_count": 0,
      "outputs": []
    },
    {
      "cell_type": "code",
      "metadata": {
        "id": "qjOHnYDVzNGK",
        "colab_type": "code",
        "colab": {}
      },
      "source": [
        "print(f'O resultado é {sResult}')"
      ],
      "execution_count": 0,
      "outputs": []
    },
    {
      "cell_type": "markdown",
      "metadata": {
        "id": "pPTecxRfzQUc",
        "colab_type": "text"
      },
      "source": [
        "Agora, vamos checar o valor de nMod..."
      ]
    },
    {
      "cell_type": "code",
      "metadata": {
        "id": "jkQb2mQzzTEo",
        "colab_type": "code",
        "colab": {}
      },
      "source": [
        "nMod"
      ],
      "execution_count": 0,
      "outputs": []
    },
    {
      "cell_type": "markdown",
      "metadata": {
        "id": "oOlyGxBAzjE3",
        "colab_type": "text"
      },
      "source": [
        "Porque agora o Python reconhece a variável nMod?"
      ]
    },
    {
      "cell_type": "markdown",
      "metadata": {
        "id": "dceSkt9Z0BZh",
        "colab_type": "text"
      },
      "source": [
        "# Escopo de variáveis: Local & Global\n",
        "* Escopos das variáveis:\n",
        "    * **Local** - Variável declarada dentro da função. Em outras palavras, é uma variável local/uso da função.\n",
        "    * **Global** - Variável declarada fora da função. Neste caso, a variável é visível à todo o programa. Entretanto, não se pode alterar o valor da variável dentro da função. Caso queira alterar o valor da variável dentro da função, então é necesário declarar a variável usando a palavra reservada 'global’."
      ]
    },
    {
      "cell_type": "markdown",
      "metadata": {
        "id": "0tIjI9GScPxu",
        "colab_type": "text"
      },
      "source": [
        "## Exemplo 1"
      ]
    },
    {
      "cell_type": "code",
      "metadata": {
        "id": "QRojHHJ20iTY",
        "colab_type": "code",
        "colab": {}
      },
      "source": [
        "def Example1():\n",
        "    nValor= 20\n",
        "    nValor+=1\n",
        "    print(nValor)"
      ],
      "execution_count": 0,
      "outputs": []
    },
    {
      "cell_type": "code",
      "metadata": {
        "id": "RdhElmTs0y1c",
        "colab_type": "code",
        "colab": {}
      },
      "source": [
        "Example1()"
      ],
      "execution_count": 0,
      "outputs": []
    },
    {
      "cell_type": "markdown",
      "metadata": {
        "id": "Tytq7PnH08pz",
        "colab_type": "text"
      },
      "source": [
        "O escopo da variável 'nValue' é local, ou seja, de uso/restrito à função. "
      ]
    },
    {
      "cell_type": "code",
      "metadata": {
        "id": "299AK0PA1lIg",
        "colab_type": "code",
        "colab": {}
      },
      "source": [
        "nValor"
      ],
      "execution_count": 0,
      "outputs": []
    },
    {
      "cell_type": "markdown",
      "metadata": {
        "id": "KTV_6Gzxfvpc",
        "colab_type": "text"
      },
      "source": [
        "## Exemplo 2"
      ]
    },
    {
      "cell_type": "code",
      "metadata": {
        "id": "zyi9AyJwfxTm",
        "colab_type": "code",
        "colab": {}
      },
      "source": [
        "nValor= 100\n",
        "def Example2():\n",
        "    nValor= 20\n",
        "    nValor+=1\n",
        "    print(nValor)"
      ],
      "execution_count": 0,
      "outputs": []
    },
    {
      "cell_type": "code",
      "metadata": {
        "id": "iEWrboG6gBSs",
        "colab_type": "code",
        "colab": {}
      },
      "source": [
        "Example2()"
      ],
      "execution_count": 0,
      "outputs": []
    },
    {
      "cell_type": "markdown",
      "metadata": {
        "id": "JPvT0BHG-vxE",
        "colab_type": "text"
      },
      "source": [
        "Isso é um tanto estranho! Definimos, fora da função, nValor= 100 e, dentro da função, redefinimos nValor= 20. Entretanto, como vimos, Example2() retorna 21 como resultado."
      ]
    },
    {
      "cell_type": "markdown",
      "metadata": {
        "id": "N_t8tIDC-149",
        "colab_type": "text"
      },
      "source": [
        "Agora, a seguir, fora da função, pedimos para ver o valor de nValor e temos, como resposta, o valor 100."
      ]
    },
    {
      "cell_type": "code",
      "metadata": {
        "id": "I46Bn4FlgJLu",
        "colab_type": "code",
        "colab": {}
      },
      "source": [
        "nValor"
      ],
      "execution_count": 0,
      "outputs": []
    },
    {
      "cell_type": "markdown",
      "metadata": {
        "id": "IQlP5nbngL6E",
        "colab_type": "text"
      },
      "source": [
        "Saberia nos explicar o que está acontecendo?"
      ]
    },
    {
      "cell_type": "markdown",
      "metadata": {
        "id": "h8PHd6rLgtwK",
        "colab_type": "text"
      },
      "source": [
        "## Exemplo 3"
      ]
    },
    {
      "cell_type": "code",
      "metadata": {
        "id": "qB7_zPQVgvVT",
        "colab_type": "code",
        "colab": {}
      },
      "source": [
        "nValor= 100\n",
        "def Example3():\n",
        "    global nValor\n",
        "    nValor= 20\n",
        "    nValor+=1\n",
        "    print(nValor)"
      ],
      "execution_count": 0,
      "outputs": []
    },
    {
      "cell_type": "code",
      "metadata": {
        "id": "2KgQSbYCg8Eq",
        "colab_type": "code",
        "colab": {}
      },
      "source": [
        "Example3()"
      ],
      "execution_count": 0,
      "outputs": []
    },
    {
      "cell_type": "code",
      "metadata": {
        "id": "Y7yWoojrg_9Z",
        "colab_type": "code",
        "colab": {}
      },
      "source": [
        "nValor"
      ],
      "execution_count": 0,
      "outputs": []
    },
    {
      "cell_type": "markdown",
      "metadata": {
        "id": "X8qFfIoxhFOp",
        "colab_type": "text"
      },
      "source": [
        "## Exemplo 4"
      ]
    },
    {
      "cell_type": "code",
      "metadata": {
        "id": "ZM-yTLuO1bFh",
        "colab_type": "code",
        "colab": {}
      },
      "source": [
        "nValor= 20\n",
        "\n",
        "def Example4():\n",
        "    nValor+= 1\n",
        "    print(nValor)"
      ],
      "execution_count": 0,
      "outputs": []
    },
    {
      "cell_type": "code",
      "metadata": {
        "id": "oLvfPO8w1zwL",
        "colab_type": "code",
        "colab": {}
      },
      "source": [
        "Example4()"
      ],
      "execution_count": 0,
      "outputs": []
    },
    {
      "cell_type": "markdown",
      "metadata": {
        "id": "2V7QzpZp2QcM",
        "colab_type": "text"
      },
      "source": [
        "Qual a razão deste erro?"
      ]
    },
    {
      "cell_type": "code",
      "metadata": {
        "id": "w9qI8kln1_C7",
        "colab_type": "code",
        "colab": {}
      },
      "source": [
        "nValor"
      ],
      "execution_count": 0,
      "outputs": []
    },
    {
      "cell_type": "markdown",
      "metadata": {
        "id": "xPpFqVUnKEH7",
        "colab_type": "text"
      },
      "source": [
        "# Exercícios"
      ]
    },
    {
      "cell_type": "markdown",
      "metadata": {
        "id": "RDgCRPRs0W6C",
        "colab_type": "text"
      },
      "source": [
        "## Exercício 1\n",
        "Construa uma função para retornar o dia da semana a partir de um número, sendo:\n",
        "\n",
        "* 1 - Dom\n",
        "* 2 - Seg\n",
        "* 3 - Ter\n",
        "* 4 - Qua\n",
        "* 5 - Qui\n",
        "* 6 - Sex\n",
        "* 7 - Sab"
      ]
    },
    {
      "cell_type": "code",
      "metadata": {
        "id": "wX_7XDyB0XSy",
        "colab_type": "code",
        "colab": {}
      },
      "source": [
        "def Semana(dia):\n",
        "    dSemana= {1:'Sunday',\n",
        "              2:'Monday',\n",
        "              3:'Tuesday',\n",
        "              4:'Wednesday',\n",
        "              5:'Thursday',\n",
        "              6:'Friday',\n",
        "              7:'Saturday'\n",
        "             }\n",
        "    return dSemana.get(dia,\"Inválido dia da semana\")"
      ],
      "execution_count": 0,
      "outputs": []
    },
    {
      "cell_type": "code",
      "metadata": {
        "id": "39toyCRU1Q5T",
        "colab_type": "code",
        "colab": {}
      },
      "source": [
        "Semana(1)"
      ],
      "execution_count": 0,
      "outputs": []
    },
    {
      "cell_type": "code",
      "metadata": {
        "id": "wt5hQq__1UEd",
        "colab_type": "code",
        "colab": {}
      },
      "source": [
        "Semana(0)"
      ],
      "execution_count": 0,
      "outputs": []
    },
    {
      "cell_type": "markdown",
      "metadata": {
        "id": "QeG3z7aWLdYk",
        "colab_type": "text"
      },
      "source": [
        "# Lambda Funtions\n",
        "\n",
        "* Em Python, uma função não precisa ter um nome. Para isso, usamos 'Lambda Functions', que nos permite criar uma função anônima.\n",
        "* A função anônima começa com a palavra reservada 'lambda';"
      ]
    },
    {
      "cell_type": "markdown",
      "metadata": {
        "id": "_X_ZH2j2rlni",
        "colab_type": "text"
      },
      "source": [
        "## Exemplo\n",
        "Suponha que queremos somar dois números dados."
      ]
    },
    {
      "cell_type": "code",
      "metadata": {
        "id": "i5oEx0pPr0_Z",
        "colab_type": "code",
        "colab": {}
      },
      "source": [
        "nSoma= lambda N1, N2: (N1+N2)"
      ],
      "execution_count": 0,
      "outputs": []
    },
    {
      "cell_type": "code",
      "metadata": {
        "id": "JWlYGbXisSDa",
        "colab_type": "code",
        "colab": {}
      },
      "source": [
        "nSoma(6, 8)"
      ],
      "execution_count": 0,
      "outputs": []
    }
  ]
}