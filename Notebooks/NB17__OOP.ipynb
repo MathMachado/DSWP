{
  "nbformat": 4,
  "nbformat_minor": 0,
  "metadata": {
    "colab": {
      "name": "NB17__OOP.ipynb",
      "private_outputs": true,
      "provenance": [],
      "include_colab_link": true
    },
    "kernelspec": {
      "name": "python3",
      "display_name": "Python 3"
    }
  },
  "cells": [
    {
      "cell_type": "markdown",
      "metadata": {
        "id": "view-in-github",
        "colab_type": "text"
      },
      "source": [
        "<a href=\"https://colab.research.google.com/github/MathMachado/DSWP/blob/master/Notebooks/NB17__OOP.ipynb\" target=\"_parent\"><img src=\"https://colab.research.google.com/assets/colab-badge.svg\" alt=\"Open In Colab\"/></a>"
      ]
    },
    {
      "cell_type": "markdown",
      "metadata": {
        "id": "9OxZwqtxo96W"
      },
      "source": [
        "<center><h1><b><i>OOP - ORIENTAÇÃO A OBJETOS</i></b></h1></center>\n",
        "\n",
        "https://www.listendata.com/2019/08/python-object-oriented-programming.html\n",
        "https://realpython.com/python3-object-oriented-programming/\n",
        "https://thecleverprogrammer.com/2020/08/08/oop-for-machine-learning/?utm_source=rss&utm_medium=rss&utm_campaign=oop-for-machine-learning\n",
        "\n"
      ]
    },
    {
      "cell_type": "markdown",
      "metadata": {
        "id": "-MCN-UyTpEoE"
      },
      "source": [
        "# **AGENDA**:\n",
        "\n",
        "> Veja o **índice** dos itens que serão abordados neste capítulo."
      ]
    },
    {
      "cell_type": "markdown",
      "metadata": {
        "id": "rqxuYLLnrbWd"
      },
      "source": [
        "___\n",
        "# **REFERÊNCIAS**\n",
        "\n",
        "* [Python 101: Object Oriented Programming part 1](https://medium.com/the-renaissance-developer/python-101-object-oriented-programming-part-1-7d5d06833f26)\n",
        "* [Python 101: Object Oriented Programming part 2](https://medium.com/the-renaissance-developer/python-101-object-oriented-programming-part-2-8e0db3ddd531)\n",
        "* [Herança, Polimorfismo e o super() do Python](https://medium.com/code-rocket-blog/entendendo-o-super-do-python-da17ee8d26ca)\n",
        "* [Polymorphism in Python](https://www.geeksforgeeks.org/polymorphism-in-python/)"
      ]
    },
    {
      "cell_type": "markdown",
      "metadata": {
        "id": "KeXi84ThpYY7"
      },
      "source": [
        "___\n",
        "## **INTRODUÇÃO**\n",
        "> Objetos são uma representação do mundo real como carros, cães, gatos, casas, bikes, pessoas e etc. Cada tipo de objeto apresenta duas características: **dados** (representados pelos **atributos**) e **comportamentos** (representados pelos **métodos**).\n",
        "\n",
        "* **Pessoas tem dados**/**atributos** como, por exemplo, idade, altura, peso, endereço, cor dos olhos, pressão arterial e etc. Além dos dados, **pessoas tem comportamentos** como, por exemplo, correr, nadar, dormir, trabalhar e etc.\n",
        "\n",
        "* Criaremos os objetos através das **class**. É através das **class** que criaremos e definiremos os atributos e comportamentos.\n",
        "\n",
        "* Python é uma linguagem orientada a objetos.\n",
        "\n",
        "* **Atributos** = Características do objeto;\n",
        "\n",
        "* **Métodos** = Operações que podem ser aplicadas ao objeto."
      ]
    },
    {
      "cell_type": "markdown",
      "metadata": {
        "id": "w03uv58ZCtuz"
      },
      "source": [
        "## Exemplo 1 - Classe Pessoa"
      ]
    },
    {
      "cell_type": "code",
      "metadata": {
        "id": "_ebRDuVVWtj7"
      },
      "source": [
        "%config IPCompleter.greedy = True"
      ],
      "execution_count": null,
      "outputs": []
    },
    {
      "cell_type": "markdown",
      "metadata": {
        "id": "dqawXBIgjrii"
      },
      "source": [
        "## Primeira classe"
      ]
    },
    {
      "cell_type": "code",
      "metadata": {
        "id": "5nrvELbxV7w7"
      },
      "source": [
        "import datetime"
      ],
      "execution_count": null,
      "outputs": []
    },
    {
      "cell_type": "code",
      "metadata": {
        "id": "Tzeb5jtOSt1E"
      },
      "source": [
        "class Pessoa:\n",
        "    def __init__(self, nome, sobrenome, idade):\n",
        "        self.nome = nome\n",
        "        self.sobrenome = sobrenome\n",
        "        self.idade = idade"
      ],
      "execution_count": null,
      "outputs": []
    },
    {
      "cell_type": "code",
      "metadata": {
        "id": "rwZusizFSuPX"
      },
      "source": [
        "pessoa1 = Pessoa(nome = 'Nelio', sobrenome = 'Machado', idade = 45)\n",
        "pessoa1"
      ],
      "execution_count": null,
      "outputs": []
    },
    {
      "cell_type": "code",
      "metadata": {
        "id": "M8gND7naSuSW"
      },
      "source": [
        "pessoa2 = Pessoa(nome = 'Mario', sobrenome = 'Alencar', idade = 40)"
      ],
      "execution_count": null,
      "outputs": []
    },
    {
      "cell_type": "code",
      "metadata": {
        "id": "zDqmcq0ZSuYB"
      },
      "source": [
        "pessoa2.nome"
      ],
      "execution_count": null,
      "outputs": []
    },
    {
      "cell_type": "code",
      "metadata": {
        "id": "FfDCGw9NTxBN"
      },
      "source": [
        "pessoa2.sobrenome"
      ],
      "execution_count": null,
      "outputs": []
    },
    {
      "cell_type": "code",
      "metadata": {
        "id": "MmlngV75Tzyq"
      },
      "source": [
        "pessoa2.idade"
      ],
      "execution_count": null,
      "outputs": []
    },
    {
      "cell_type": "code",
      "metadata": {
        "id": "khWUSAaJVqJr"
      },
      "source": [
        "# Lembre-se de que, de acordo com PEP8, classes tem a primeira letra maiúscula.\n",
        "class Pessoa:\n",
        "    def __init__(self, nome, sobrenome, data_aniversario, telefone, email, sexo, cidade, pais):\n",
        "        self.nome = nome\n",
        "        self.sobrenome = sobrenome\n",
        "        self.data_aniversario = data_aniversario\n",
        "        self.sexo = sexo\n",
        "        self.cidade = cidade\n",
        "        self.pais = pais\n",
        "\n",
        "        self.telefone = telefone\n",
        "        self.email = email\n",
        "\n",
        "        hoje = datetime.date.today()\n",
        "        idade = hoje.year - self.data_aniversario.year   \n",
        "\n",
        "        if hoje < datetime.date(hoje.year, self.data_aniversario.month, self.data_aniversario.day):\n",
        "            idade -= 1\n",
        "\n",
        "        self.idade = idade"
      ],
      "execution_count": null,
      "outputs": []
    },
    {
      "cell_type": "code",
      "metadata": {
        "id": "d8uDyJhCDQow"
      },
      "source": [
        "pessoa1 = Pessoa(\"Nelio\", \"Machado\", datetime.date(1974, 11, 20), \"986-863-001\", \"neliomachado@gmail.com\", 'M', 'Lisboa', 'Portugal')"
      ],
      "execution_count": null,
      "outputs": []
    },
    {
      "cell_type": "code",
      "metadata": {
        "id": "y0_zmrSZZoFE"
      },
      "source": [
        "print(f'Nome.: {pessoa1.nome} ')\n",
        "print(f'email: {pessoa1.email}')\n",
        "print(f'Idade: {pessoa1.idade}')"
      ],
      "execution_count": null,
      "outputs": []
    },
    {
      "cell_type": "markdown",
      "metadata": {
        "id": "qCpccI_GfosY"
      },
      "source": [
        "## Exemplo 2\n",
        "\n",
        "Queremos criar objetos para armazenar informações dos carros comprados pelos clientes de uma empresa."
      ]
    },
    {
      "cell_type": "markdown",
      "metadata": {
        "id": "8i6tUoW6B5Hv"
      },
      "source": [
        "## Primeira versão da classe Carros"
      ]
    },
    {
      "cell_type": "code",
      "metadata": {
        "id": "3AsOl61fgHaP"
      },
      "source": [
        "class Carros:\n",
        "    def __init__(self, fabricante, modelo, cor, combustivel):\n",
        "        self.fabricante = fabricante\n",
        "        self.modelo = modelo\n",
        "        self.cor = cor\n",
        "        self.combustivel = combustivel"
      ],
      "execution_count": null,
      "outputs": []
    },
    {
      "cell_type": "markdown",
      "metadata": {
        "id": "3gNbFMwD7vXf"
      },
      "source": [
        "Considere que o cliente1 comprou um carro com as seguintes características:"
      ]
    },
    {
      "cell_type": "code",
      "metadata": {
        "id": "f7QEpH7yhARx"
      },
      "source": [
        "cliente1 = Carros(fabricante = 'Audi', modelo = 'A4', cor = 'preto', combustivel = 'gasolina')\n",
        "cliente1 # cliente1 é um objeto"
      ],
      "execution_count": null,
      "outputs": []
    },
    {
      "cell_type": "markdown",
      "metadata": {
        "id": "wZO6Ln5ulMHO"
      },
      "source": [
        "cliente1 é um objeto da classe 'Carros', correto?"
      ]
    },
    {
      "cell_type": "code",
      "metadata": {
        "id": "4oDxRHN8lQ_D"
      },
      "source": [
        "type(cliente1)"
      ],
      "execution_count": null,
      "outputs": []
    },
    {
      "cell_type": "markdown",
      "metadata": {
        "id": "vl7cI3mLlNeM"
      },
      "source": [
        "Se quisermos ver o modelo do carro que cliente1 comprou, basta..."
      ]
    },
    {
      "cell_type": "code",
      "metadata": {
        "id": "hDjHXMk4jJWO"
      },
      "source": [
        "cliente1.modelo"
      ],
      "execution_count": null,
      "outputs": []
    },
    {
      "cell_type": "markdown",
      "metadata": {
        "id": "K5PqHoltlfPr"
      },
      "source": [
        "Se tivermos outro pedido, por exemplo, de cliente2 da seguinte forma:"
      ]
    },
    {
      "cell_type": "code",
      "metadata": {
        "id": "8xeesI79ljjL"
      },
      "source": [
        "cliente2 = Carros(fabricante = 'Audi', modelo = 'Q3', cor = 'azul', combustivel = 'gasolina')\n",
        "cliente2"
      ],
      "execution_count": null,
      "outputs": []
    },
    {
      "cell_type": "markdown",
      "metadata": {
        "id": "gqqqePOKlziZ"
      },
      "source": [
        "Então, cliente2 se tornou um objeto da classe 'Carros'."
      ]
    },
    {
      "cell_type": "code",
      "metadata": {
        "id": "qACELstAl3r-"
      },
      "source": [
        "cliente2.modelo"
      ],
      "execution_count": null,
      "outputs": []
    },
    {
      "cell_type": "markdown",
      "metadata": {
        "id": "J9xWKe8sBzV3"
      },
      "source": [
        "## Segunda versão da classe Carros:\n",
        "> Nesta 2ª versão da classe Carros_V2 recebeu 1 método chamado mostra_carro"
      ]
    },
    {
      "cell_type": "code",
      "metadata": {
        "id": "fngNK7XQma1f"
      },
      "source": [
        "class Carros_V2:\n",
        "    def __init__(self, fabricante, modelo, cor, combustivel):\n",
        "        self.fabricante = fabricante\n",
        "        self.modelo = modelo\n",
        "        self.cor = cor\n",
        "        self.combustivel = combustivel\n",
        "        \n",
        "    def mostra_carro(self):\n",
        "        print(f\"Fabricante.: {self.fabricante}\")\n",
        "        print(f\"Modelo.....: {self.modelo}\")\n",
        "        print(f\"Cor........: {self.cor}\")\n",
        "        print(f\"Combustivel: {self.combustivel}\")  "
      ],
      "execution_count": null,
      "outputs": []
    },
    {
      "cell_type": "code",
      "metadata": {
        "id": "ajnKY2n69uFO"
      },
      "source": [
        "cliente3 = Carros_V2(fabricante = 'Audi', modelo = 'Q3', cor = 'azul', combustivel = 'gasolina')"
      ],
      "execution_count": null,
      "outputs": []
    },
    {
      "cell_type": "code",
      "metadata": {
        "id": "Nk6N6V6YnVo1"
      },
      "source": [
        "cliente3.mostra_carro()"
      ],
      "execution_count": null,
      "outputs": []
    },
    {
      "cell_type": "code",
      "metadata": {
        "id": "V5Ssa6IHUzng"
      },
      "source": [
        "cliente4 = Carros_V2(fabricante = 'Audi', modelo = 'A3', cor = 'branco', combustivel = 'elétrico')"
      ],
      "execution_count": null,
      "outputs": []
    },
    {
      "cell_type": "code",
      "metadata": {
        "id": "YJ2lFyXgU7SI"
      },
      "source": [
        "cliente4.mostra_carro()"
      ],
      "execution_count": null,
      "outputs": []
    },
    {
      "cell_type": "markdown",
      "metadata": {
        "id": "lNp-xl9vBoU8"
      },
      "source": [
        "## Terceira versão da classe Carros\n",
        "\n",
        "O fabricante é sempre o mesmo: Audi. Nesse caso, podemos definir fabricante como uma variável default."
      ]
    },
    {
      "cell_type": "code",
      "metadata": {
        "id": "IHekqziZBwze"
      },
      "source": [
        "class Carros_V3:\n",
        "    fabricante = 'Audi'\n",
        "    \n",
        "    def __init__(self, modelo, cor, combustivel):\n",
        "        self.modelo = modelo\n",
        "        self.cor = cor\n",
        "        self.combustivel = combustivel\n",
        "        \n",
        "    def mostra_carro(self):\n",
        "        print(f\"Fabricante.: {self.fabricante}\")\n",
        "        print(f\"Modelo.....: {self.modelo}\")\n",
        "        print(f\"Cor........: {self.cor}\")\n",
        "        print(f\"Combustivel: {self.combustivel}\")    "
      ],
      "execution_count": null,
      "outputs": []
    },
    {
      "cell_type": "markdown",
      "metadata": {
        "id": "XH9u2T1NSnJZ"
      },
      "source": [
        "Neste caso, não podemos passar 'fabricante' para a classe."
      ]
    },
    {
      "cell_type": "code",
      "metadata": {
        "id": "nADinGQjD-b9"
      },
      "source": [
        "cliente4 = Carros_V3(modelo = 'Q3', cor = 'Azul', combustivel = 'gasolina')"
      ],
      "execution_count": null,
      "outputs": []
    },
    {
      "cell_type": "code",
      "metadata": {
        "id": "JgGviMPj-jKQ"
      },
      "source": [
        "cliente4.mostra_carro()"
      ],
      "execution_count": null,
      "outputs": []
    },
    {
      "cell_type": "markdown",
      "metadata": {
        "id": "slRbHUKVWk8d"
      },
      "source": [
        "### Nota:\n",
        "Gostaria de enfatizar que os comandos a seguir produzem o mesmo resultado que o anterior:\n",
        "\n",
        "```\n",
        "cliente4 = Carros_V3('Q3', 'Azul', 'gasolina')\n",
        "```\n",
        "é equivalente a \n",
        "```\n",
        "cliente4 = Carros_V3(cor = 'Azul', combustivel = 'gasolina', modelo = 'Q3')\n",
        "```\n",
        "\n",
        "Consegue explicar porque?"
      ]
    },
    {
      "cell_type": "markdown",
      "metadata": {
        "id": "r69V1JNNVB03"
      },
      "source": [
        "Na sua opinião, qual seria o output do script a seguir:"
      ]
    },
    {
      "cell_type": "code",
      "metadata": {
        "id": "cuFAsyU4VJYx"
      },
      "source": [
        "# Mudamos o valor da variável default fabricante\n",
        "cliente4.fabricante = 'Mercedes'\n",
        "cliente4.modelo = 'Classe E Limousine'\n",
        "cliente4.combustivel = 'elétrico'"
      ],
      "execution_count": null,
      "outputs": []
    },
    {
      "cell_type": "code",
      "metadata": {
        "id": "MiJiLLQI_k4F"
      },
      "source": [
        "cliente4.mostra_carro()"
      ],
      "execution_count": null,
      "outputs": []
    },
    {
      "cell_type": "markdown",
      "metadata": {
        "id": "1CP1A3UwVbnu"
      },
      "source": [
        "Como você explica esse resultado?"
      ]
    },
    {
      "cell_type": "markdown",
      "metadata": {
        "id": "hcOanycOVi16"
      },
      "source": [
        "Será que o conteúdo do atributo fabricante (que acabou de mudar para 'Mercedes') também mudou para todos os outros objetos?"
      ]
    },
    {
      "cell_type": "code",
      "metadata": {
        "id": "okNBXLMEVp9Y"
      },
      "source": [
        "cliente5 = Carros_V3(modelo = 'A4', cor = 'preto', combustivel = 'gasolina')"
      ],
      "execution_count": null,
      "outputs": []
    },
    {
      "cell_type": "markdown",
      "metadata": {
        "id": "WUdpEciaXT7j"
      },
      "source": [
        "E qual será o fabricante do carro que cliente1 comprou?"
      ]
    },
    {
      "cell_type": "code",
      "metadata": {
        "id": "7NKWlk01XZHt"
      },
      "source": [
        "cliente5.mostra_carro()"
      ],
      "execution_count": null,
      "outputs": []
    },
    {
      "cell_type": "markdown",
      "metadata": {
        "id": "SssmIjzBXeEp"
      },
      "source": [
        "Consegue explicar porque isso acontece?"
      ]
    },
    {
      "cell_type": "markdown",
      "metadata": {
        "id": "dSYQYbIwtp5G"
      },
      "source": [
        "## Quarta versão da classe Carros\n",
        "\n",
        "O fabricante é sempre o mesmo: Audi. Nesse caso, podemos definir fabricante como uma variável default."
      ]
    },
    {
      "cell_type": "code",
      "metadata": {
        "id": "ozW49Kf-tqHq"
      },
      "source": [
        "class Carros_V4:  \n",
        "    def __init__(self, modelo, cor, combustivel, fabricante = 'Audi'):\n",
        "        self.modelo= modelo\n",
        "        self.cor = cor\n",
        "        self.combustivel = combustivel\n",
        "        self.fabricante = fabricante\n",
        "        \n",
        "    def mostra_carro(self):\n",
        "        print(f\"Fabricante.: {self.fabricante}\")\n",
        "        print(f\"Modelo.....: {self.modelo}\")\n",
        "        print(f\"Cor........: {self.cor}\")\n",
        "        print(f\"Combustivel: {self.combustivel}\")    "
      ],
      "execution_count": null,
      "outputs": []
    },
    {
      "cell_type": "markdown",
      "metadata": {
        "id": "ldflEI2ZvvxI"
      },
      "source": [
        "Atenção na instrução a seguir, pois não vou informar o valor de fabricante."
      ]
    },
    {
      "cell_type": "code",
      "metadata": {
        "id": "ynVPJccsuYfo"
      },
      "source": [
        "cliente6 = Carros_V4(modelo= 'A4', cor = 'Branco', combustivel = 'gasolina')"
      ],
      "execution_count": null,
      "outputs": []
    },
    {
      "cell_type": "markdown",
      "metadata": {
        "id": "6WEdGvobv4Jm"
      },
      "source": [
        "No entanto, ao executarmos a instrução a seguir, temos a informação do fabricante ."
      ]
    },
    {
      "cell_type": "code",
      "metadata": {
        "id": "aJVoGKF6vdv5"
      },
      "source": [
        "cliente6.mostra_carro()"
      ],
      "execution_count": null,
      "outputs": []
    },
    {
      "cell_type": "code",
      "metadata": {
        "id": "0r3EFVZeVuGK"
      },
      "source": [
        "cliente7 = Carros_V4(modelo= 'A4', cor = 'Branco', combustivel = 'gasolina', fabricante = 'Mercedes')\n",
        "cliente7.mostra_carro()"
      ],
      "execution_count": null,
      "outputs": []
    },
    {
      "cell_type": "markdown",
      "metadata": {
        "id": "MdOex9lBrCwW"
      },
      "source": [
        "## Exemplo 3 - Classe Veiculo\n",
        "> A classe \"Veiculo\" abaixo é um construtor de objetos (**fábrica de objetos**). Observe como criamos/construimos os objetos carros."
      ]
    },
    {
      "cell_type": "code",
      "metadata": {
        "id": "a7c_c1HztV3A"
      },
      "source": [
        "class Veiculo:\n",
        "    def __init__(self, num_rodas, tipo_combustivel, num_assentos, velocidade_maxima, num_portas, cor, marca = 'Tesla'):\n",
        "        self.num_rodas = num_rodas\n",
        "        self.tipo_combustivel = tipo_combustivel\n",
        "        self.num_assentos = num_assentos\n",
        "        self.velocidade_maxima = velocidade_maxima\n",
        "        self.num_portas = num_portas\n",
        "        self.cor = cor\n",
        "        self.marca = marca"
      ],
      "execution_count": null,
      "outputs": []
    },
    {
      "cell_type": "markdown",
      "metadata": {
        "id": "9skW-uaMuK4C"
      },
      "source": [
        "A seguir, usamos a \"class Veiculo\" para criar o objeto Tesla Model S, da seguinte forma:"
      ]
    },
    {
      "cell_type": "code",
      "metadata": {
        "id": "JjttSsCqfSJD"
      },
      "source": [
        "tesla_model_s = Veiculo(num_rodas = 4, tipo_combustivel = 'eletrico', num_assentos = 5, velocidade_maxima = 250, num_portas = 5, cor = 'vermelho') # Observe que não passamos a marca como parâmetro."
      ],
      "execution_count": null,
      "outputs": []
    },
    {
      "cell_type": "markdown",
      "metadata": {
        "id": "Pg9w-mKgujL5"
      },
      "source": [
        "Alternativamente, podíamos criar nosso objeto tesla_model_s da seguinte forma:\n",
        "\n",
        "```\n",
        "tesla_model_s = Veiculo(4, 'eletrico', 5, 250, 5, 'vermelho') # Observe que não passamos a marca como parâmetro.\n",
        "```\n",
        "\n"
      ]
    },
    {
      "cell_type": "markdown",
      "metadata": {
        "id": "z3HfAXA5vnVO"
      },
      "source": [
        "Eu também gosto de Jeeps Defender. Posso, por exemplo criar o objeto jeep_defender da seguinte forma:"
      ]
    },
    {
      "cell_type": "code",
      "metadata": {
        "id": "JPD7efR7vw58"
      },
      "source": [
        "jeep_defender = Veiculo(num_rodas = 4, tipo_combustivel = 'diesel', num_assentos = 5, velocidade_maxima = 200, num_portas = 5, cor = 'preto', marca = 'Land Rover') # Observe que passamos a marca 'Land Rover' como parâmetro."
      ],
      "execution_count": null,
      "outputs": []
    },
    {
      "cell_type": "markdown",
      "metadata": {
        "id": "10whfLiaxoBa"
      },
      "source": [
        "Observou na forma como criamos os objetos tesla_model_s e o jeep_defender? Compare abaixo:\n",
        "```\n",
        "tesla_model_s= Veiculo(4, 'eletrico', 5, 250, 5, 'vermelho') # Aqui, eu NÃO informei a marca do veículo.\n",
        "jeep_defender= Veiculo(4, 'diesel', 5, 200, 5, 'preto', 'Land Rover') # Aqui eu informei a marca.\n",
        "```\n",
        "\n"
      ]
    },
    {
      "cell_type": "markdown",
      "metadata": {
        "id": "cqoEuXVxwYrO"
      },
      "source": [
        "### Visualizar os objetos\n",
        "Nossa \"class Veiculo\" (e entenda **class** como uma **fábrica de objetos**), somente guarda os dados. Para recuperarmos os objetos, fazemos da seguinte forma:"
      ]
    },
    {
      "cell_type": "code",
      "metadata": {
        "id": "2iHjVJyt2xeP"
      },
      "source": [
        "f'Meu carro Tesla Model S possui {tesla_model_s.num_assentos} assentos.'"
      ],
      "execution_count": null,
      "outputs": []
    },
    {
      "cell_type": "code",
      "metadata": {
        "id": "WzE1-r8f3GbE"
      },
      "source": [
        "f'Meu carro Tesla Model S possui {tesla_model_s.num_portas} portas.'"
      ],
      "execution_count": null,
      "outputs": []
    },
    {
      "cell_type": "code",
      "metadata": {
        "id": "nCOs6b733GfE"
      },
      "source": [
        "f'Meu Jeep Defender possui {jeep_defender.num_assentos} assentos.'"
      ],
      "execution_count": null,
      "outputs": []
    },
    {
      "cell_type": "markdown",
      "metadata": {
        "id": "PO2SZWu519-k"
      },
      "source": [
        "# **INHERITANCE: BEHAVIORS & CHARACTERISTICS**\n",
        "> Objetos podem ter **comportamentos** e **características** em comum. Considere o exemplo a seguir:"
      ]
    },
    {
      "cell_type": "markdown",
      "metadata": {
        "id": "rIuOnxT2NxWt"
      },
      "source": [
        "## Exemplo 4 - Inheritance\n",
        "> Vamos aproveitar a classe Pessoa criada/construída no exemplo 1 para construir a classe Empregado. Todos sabemos que empregados são pessoas. Este termo \"aproveitar\" significa evitar repetição/duplicação de código. Se isso acontecer, algo está errado e não estamos seguindo as boas práticas da programação orientada a objetos. Portanto, use o princípio DRY (Don't Repeat Yourself). Por exemplo, podemos reescrever a classe Empregado aproveitando/reusando partes do código da classe Pessoa da seguinte forma:"
      ]
    },
    {
      "cell_type": "code",
      "metadata": {
        "id": "PUZPTCDV2_Tl"
      },
      "source": [
        "class Empregado2(Pessoa):\n",
        "    def __init__(self, nome, sobrenome, data_aniversario, telefone, email, sexo, cidade, pais, id, funcao, departamento):\n",
        "        super().__init__(nome, sobrenome, data_aniversario, telefone, email, sexo, cidade, pais)\n",
        "        self.id = id\n",
        "        self.funcao = funcao\n",
        "        self.departamento = departamento"
      ],
      "execution_count": null,
      "outputs": []
    },
    {
      "cell_type": "markdown",
      "metadata": {
        "id": "SfNoK_Pxmvm6"
      },
      "source": [
        "A classe Empregado2 acima é equivalente à classe Empregado3 abaixo:"
      ]
    },
    {
      "cell_type": "code",
      "metadata": {
        "id": "0Q7nguYK4Cyp"
      },
      "source": [
        "class Empregado3(Pessoa):\n",
        "    def __init__(self, nome, sobrenome, data_aniversario, telefone, email, sexo, cidade, pais, id, funcao, departamento):\n",
        "        Pessoa.__init__(self, nome, sobrenome, data_aniversario, telefone, email, sexo, cidade, pais)\n",
        "        self.id = id\n",
        "        self.funcao = funcao\n",
        "        self.departamento = departamento"
      ],
      "execution_count": null,
      "outputs": []
    },
    {
      "cell_type": "markdown",
      "metadata": {
        "id": "UkNM82vL7ZNe"
      },
      "source": [
        "Observe que\n",
        "```\n",
        "super().__init__(nome, sobrenome, data_aniversario, telefone, email, sexo, cidade, pais) # Aqui NÃO usamos self.\n",
        "```\n",
        "é equivalente a \n",
        "```\n",
        "Pessoa.__init__(self, nome, sobrenome, data_aniversario, telefone, email, sexo, cidade, pais) # aqui usamos o self.\n",
        "```\n",
        "\n",
        "\n"
      ]
    },
    {
      "cell_type": "markdown",
      "metadata": {
        "id": "cMmt4Q86THqO"
      },
      "source": [
        "Portanto, as classes Empregado2 e Empregado3 produzem o mesmo resultado! Ou seja, a função super() pode ser usada para substituir a chamada explícita:\n",
        "```\n",
        "Pessoa.__init__(self, nome, sobrenome, data_aniversario, telefone, email, sexo, cidade, pais)\n",
        "```\n",
        "\n"
      ]
    },
    {
      "cell_type": "markdown",
      "metadata": {
        "id": "HgP53mFRyweD"
      },
      "source": [
        "Vamos definir alguns empregados:"
      ]
    },
    {
      "cell_type": "code",
      "metadata": {
        "id": "ueJqDVkZYnHM"
      },
      "source": [
        "evandro = Pessoa()"
      ],
      "execution_count": null,
      "outputs": []
    },
    {
      "cell_type": "code",
      "metadata": {
        "id": "aA5PEo5TyzR-"
      },
      "source": [
        "empregado1 = Empregado2('Jose', 'Almeida', datetime.date(1945, 12, 16), \"123-456-789\", \"jose_almeida@gmail.com\", 'M', 'Lisboa', 'Portugal', 'E001PT', 'Analista Funcional', 'BI')"
      ],
      "execution_count": null,
      "outputs": []
    },
    {
      "cell_type": "code",
      "metadata": {
        "id": "6TPqW3yHy5Qy"
      },
      "source": [
        "empregado2 = Empregado2('Jose', 'Almeida II', datetime.date(1945, 12, 16), \"123-456-789\", \"jose_almeida@gmail.com\", 'M', 'Lisboa', 'Portugal', 'E001PT', 'Analista Funcional', 'BI')"
      ],
      "execution_count": null,
      "outputs": []
    },
    {
      "cell_type": "code",
      "metadata": {
        "id": "3rzodz76532Q"
      },
      "source": [
        "empregado1.id"
      ],
      "execution_count": null,
      "outputs": []
    },
    {
      "cell_type": "code",
      "metadata": {
        "id": "4Ee5r36HWvy6"
      },
      "source": [
        "empregado1.nome"
      ],
      "execution_count": null,
      "outputs": []
    },
    {
      "cell_type": "code",
      "metadata": {
        "id": "VWTzZYV35-X3"
      },
      "source": [
        "empregado2.id"
      ],
      "execution_count": null,
      "outputs": []
    },
    {
      "cell_type": "markdown",
      "metadata": {
        "id": "P-WiM6iUz7NR"
      },
      "source": [
        "## Exemplo 5 - Inheritance\n",
        "> Vamos aproveitar a classe \"Veiculo\" construída no Exemplo 3 para reforçar o conceito de inheritance. Um Off_Road é um veículo capaz de viajar por estradas não pavimentadas. É um veículo preparado para encarar buracos, lama e etc. Portanto, vou utilizar partes do código da classe Veiculo para construir objetos do tipo Off_Road."
      ]
    },
    {
      "cell_type": "code",
      "metadata": {
        "id": "O6-ztm0-8TII"
      },
      "source": [
        "class Off_Road(Veiculo):\n",
        "    def __init__(self, num_rodas, tipo_combustivel, num_assentos, velocidade_maxima, num_portas, cor, marca= 'Tesla'):\n",
        "        Veiculo.__init__(self, num_rodas, tipo_combustivel, num_assentos, velocidade_maxima, num_portas, cor, marca= 'Tesla') # aqui usamos self."
      ],
      "execution_count": null,
      "outputs": []
    },
    {
      "cell_type": "markdown",
      "metadata": {
        "id": "xHpoqe3P82xf"
      },
      "source": [
        "O código acima é equivalente ao código abaixo:\n",
        "\n"
      ]
    },
    {
      "cell_type": "code",
      "metadata": {
        "id": "33as3R9y9P30"
      },
      "source": [
        "class Off_Road2(Veiculo):\n",
        "    def __init__(self, num_rodas, tipo_combustivel, num_assentos, velocidade_maxima, num_portas, cor, marca= 'Tesla'):\n",
        "        super().__init__(num_rodas, tipo_combustivel, num_assentos, velocidade_maxima, num_portas, cor, marca= 'Tesla') # Aqui NÃO usamos self"
      ],
      "execution_count": null,
      "outputs": []
    },
    {
      "cell_type": "markdown",
      "metadata": {
        "id": "pxSQsoayUs2p"
      },
      "source": [
        "Portanto, as classes Off_Road e Off_Road2 produzem o mesmo resultado. Ou seja, a função super() pode ser usada para substituir a chamada explícita:\n",
        "```\n",
        "Veiculo.__init__(self, num_rodas, tipo_combustivel, num_assentos, velocidade_maxima, num_portas, cor, marca= 'Tesla')\n",
        "```\n",
        "\n"
      ]
    },
    {
      "cell_type": "markdown",
      "metadata": {
        "id": "Jqya-9ug8rGt"
      },
      "source": [
        "Desta forma, a nova classe \"Off_Road\", que é um tipo de veículo/carro, herda as características da classe \"Veiculo\". Veja:\n",
        "\n",
        "\n",
        "![JeepGladiator](https://github.com/MathMachado/Materials/blob/master/JeepGladiator.jpg?raw=true)"
      ]
    },
    {
      "cell_type": "code",
      "metadata": {
        "id": "J8ybFb8_80u7"
      },
      "source": [
        "jeep_gladiator = Off_Road(4, 'diesel', 5, 200, 5, 'vermelho', 'Land Rover')\n",
        "jeep_gladiator2 = Off_Road2(4, 'diesel', 5, 200, 5, 'vermelho', 'Land Rover')"
      ],
      "execution_count": null,
      "outputs": []
    },
    {
      "cell_type": "code",
      "metadata": {
        "id": "tOcDhiK68qS8"
      },
      "source": [
        "f'Meu Jeep Gladiator possui {jeep_gladiator.num_assentos} assentos.'"
      ],
      "execution_count": null,
      "outputs": []
    },
    {
      "cell_type": "code",
      "metadata": {
        "id": "Pr3MZDJ8-CYZ"
      },
      "source": [
        "f'Meu Jeep Gladiator possui {jeep_gladiator.num_portas} portas.'"
      ],
      "execution_count": null,
      "outputs": []
    },
    {
      "cell_type": "code",
      "metadata": {
        "id": "4hqs9afU9Zfh"
      },
      "source": [
        "f'Meu Jeep Gladiator possui {jeep_gladiator2.num_assentos} assentos.'"
      ],
      "execution_count": null,
      "outputs": []
    },
    {
      "cell_type": "code",
      "metadata": {
        "id": "w7VpMl6y9b4F"
      },
      "source": [
        "f'Meu Jeep Gladiator possui {jeep_gladiator2.num_portas} portas.'"
      ],
      "execution_count": null,
      "outputs": []
    },
    {
      "cell_type": "markdown",
      "metadata": {
        "id": "rQnlsQAjcTj5"
      },
      "source": [
        "# **DECORATORS**"
      ]
    },
    {
      "cell_type": "markdown",
      "metadata": {
        "id": "aeSzCkAtLBMH"
      },
      "source": [
        "## Exemplo 6 - Classe Pizza"
      ]
    },
    {
      "cell_type": "markdown",
      "metadata": {
        "id": "D0niHWcRceCX"
      },
      "source": [
        "### Primeira versão da classe Pizza"
      ]
    },
    {
      "cell_type": "code",
      "metadata": {
        "id": "XIwtLMkYDeM8"
      },
      "source": [
        "class Pizza_V1:\n",
        "    def __init__(self, ingredientes):\n",
        "        self.ingredientes = ingredientes\n",
        "        \n",
        "    def __repr__(self):\n",
        "        return f'Pizza_V1({self.ingredientes})'"
      ],
      "execution_count": null,
      "outputs": []
    },
    {
      "cell_type": "code",
      "metadata": {
        "id": "nIpL6Fq_i-BX"
      },
      "source": [
        "print(Pizza_V1)"
      ],
      "execution_count": null,
      "outputs": []
    },
    {
      "cell_type": "markdown",
      "metadata": {
        "id": "c63v8zj7Lal4"
      },
      "source": [
        "Agora considere o seguinte cenário:\n",
        "* cliente2 ordena uma pizza \"Quattro Formaggi\";\n",
        "* Jack ordena uma pizza \"Margherita\";\n",
        "* Robert ordena uma pizza \"4 Stagioni\".\n",
        "\n"
      ]
    },
    {
      "cell_type": "code",
      "metadata": {
        "id": "EtRqg2_mLYRS"
      },
      "source": [
        "# Tipo de Pizza: Pizza Quattro Formaggi\n",
        "Mike = Pizza_V1(['mozzarella', 'fontina', 'stracchino', 'gorgonzola', 'tomatoes'])\n",
        "Mike"
      ],
      "execution_count": null,
      "outputs": []
    },
    {
      "cell_type": "code",
      "metadata": {
        "id": "kJEQsiRtLkeu"
      },
      "source": [
        "# Tipo de Pizza: Pizza Margherita\n",
        "Jack = Pizza_V1(['tomatoes', 'mozzarella', 'albahaca', 'aceite de oliva extra virgen'])\n",
        "Jack"
      ],
      "execution_count": null,
      "outputs": []
    },
    {
      "cell_type": "code",
      "metadata": {
        "id": "ACFl3HnLLmPX"
      },
      "source": [
        "# Tipo de Pizza: Pizza 4 Stagioni\n",
        "Robert = Pizza_V1(['mozzarella', 'albahaca', 'parmesano', 'champinones', 'jamon cocido', 'alcachofas', 'aceite de oliva', 'aceitunas'])\n",
        "Robert"
      ],
      "execution_count": null,
      "outputs": []
    },
    {
      "cell_type": "markdown",
      "metadata": {
        "id": "DE3P8k9yL4oW"
      },
      "source": [
        "Portanto, cada um dos pedidos podem ser tratados como variáveis. Ou seja, aqui, Mike, Robert e Jack são as variáveis."
      ]
    },
    {
      "cell_type": "markdown",
      "metadata": {
        "id": "LJvA6K4pdPGl"
      },
      "source": [
        "Para acessarmos os ingredientes de cada um destes pedidos, basta..."
      ]
    },
    {
      "cell_type": "code",
      "metadata": {
        "id": "BsGktmOPbxia"
      },
      "source": [
        "# Ingredientes da pizza do Robert\n",
        "Robert.ingredientes"
      ],
      "execution_count": null,
      "outputs": []
    },
    {
      "cell_type": "code",
      "metadata": {
        "id": "E14aElMKdZIx"
      },
      "source": [
        "# Ingredientes da pizza da cliente2\n",
        "Mike.ingredientes"
      ],
      "execution_count": null,
      "outputs": []
    },
    {
      "cell_type": "code",
      "metadata": {
        "id": "Lg8zIxWedgV7"
      },
      "source": [
        "# Ingredientes da pizza do Jack\n",
        "Jack.ingredientes"
      ],
      "execution_count": null,
      "outputs": []
    },
    {
      "cell_type": "markdown",
      "metadata": {
        "id": "lSkOJ3i5LsMl"
      },
      "source": [
        "No entanto, da forma como está construída, nossa classe precisa receber os ingredientes para produção da pizza, certo?"
      ]
    },
    {
      "cell_type": "markdown",
      "metadata": {
        "id": "-avpHOr7QmC9"
      },
      "source": [
        "Por curiosidade, qual o output do comando a seguir:"
      ]
    },
    {
      "cell_type": "code",
      "metadata": {
        "id": "tr6XqbnWPn-V"
      },
      "source": [
        "Jack.ingredientes = ['Aliche']"
      ],
      "execution_count": null,
      "outputs": []
    },
    {
      "cell_type": "code",
      "metadata": {
        "id": "STEpbu1qQF8M"
      },
      "source": [
        "# Mostra os ingredientes solicitados por Jack\n",
        "Jack.ingredientes"
      ],
      "execution_count": null,
      "outputs": []
    },
    {
      "cell_type": "markdown",
      "metadata": {
        "id": "JZ4DDYOjQ4Yn"
      },
      "source": [
        "Mas e o que aconteceu com os demais ingredientes da Pizza pedido por Jack?"
      ]
    },
    {
      "cell_type": "markdown",
      "metadata": {
        "id": "gMuyAIYCCw1J"
      },
      "source": [
        "### Segunda versão da classe Pizza\n",
        "Como os ingredientes das Pizzas nunca mudam, então podemos reformular nossa classe da seguinte forma:"
      ]
    },
    {
      "cell_type": "code",
      "metadata": {
        "id": "fGrY3cgVMDXd"
      },
      "source": [
        "class Pizza_V2:\n",
        "    def __init__(self, ingredientes):\n",
        "        self.ingredientes = ingredientes\n",
        "        \n",
        "    def __repr__(self):\n",
        "        return f'Pizza_V2({self.ingredientes})'\n",
        "    \n",
        "    @classmethod\n",
        "    def Pizza_Quattro_Formaggi(cls):\n",
        "        return cls(['mozzarella', 'fontina', 'stracchino', 'gorgonzola', 'tomatoes'])\n",
        "\n",
        "    @classmethod\n",
        "    def Pizza_Margherita(cls):\n",
        "        return cls(['tomatoes', 'mozzarella', 'albahaca', 'aceite de oliva extra virgen'])\n",
        "\n",
        "    @classmethod\n",
        "    def Pizza_4_Stagioni(cls):\n",
        "        return cls(['mozzarella', 'albahaca', 'parmesano', 'champinones', 'jamon cocido', 'alcachofas', 'aceite de oliva', 'aceitunas'])  "
      ],
      "execution_count": null,
      "outputs": []
    },
    {
      "cell_type": "markdown",
      "metadata": {
        "id": "5XXtvBZ9Totf"
      },
      "source": [
        "Desta forma, ordenar uma pizza fica mais fácil, bastando..."
      ]
    },
    {
      "cell_type": "code",
      "metadata": {
        "id": "PiXGJzGZK10X"
      },
      "source": [
        "# Mike ordena uma pizza Quattro Formaggi\n",
        "Mike = Pizza_V2.Pizza_Quattro_Formaggi()\n",
        "Mike"
      ],
      "execution_count": null,
      "outputs": []
    },
    {
      "cell_type": "code",
      "metadata": {
        "id": "0OK-qyJlICFl"
      },
      "source": [
        "# Jack ordena uma pizza Margherita\n",
        "Jack = Pizza_V2.Pizza_Margherita()\n",
        "Jack"
      ],
      "execution_count": null,
      "outputs": []
    },
    {
      "cell_type": "code",
      "metadata": {
        "id": "rNPEwRccenoM"
      },
      "source": [
        "# Robert ordena uma pizza 4 Stagioni\n",
        "Robert = Pizza_V2.Pizza_4_Stagioni()\n",
        "Robert"
      ],
      "execution_count": null,
      "outputs": []
    },
    {
      "cell_type": "markdown",
      "metadata": {
        "id": "GvRdxbeQe-TC"
      },
      "source": [
        "Acessando os ingredientes de cada tipo de pizza"
      ]
    },
    {
      "cell_type": "code",
      "metadata": {
        "id": "y_Yz9K_yfCof"
      },
      "source": [
        "# Ingredientes da pizza de Robert\n",
        "Robert.ingredientes"
      ],
      "execution_count": null,
      "outputs": []
    },
    {
      "cell_type": "code",
      "metadata": {
        "id": "OrCEIpa0fJ4y"
      },
      "source": [
        "# Ingredientes da pizza de Mike\n",
        "Mike.ingredientes"
      ],
      "execution_count": null,
      "outputs": []
    },
    {
      "cell_type": "code",
      "metadata": {
        "id": "k3LfnfIUfMan"
      },
      "source": [
        "# Ingredientes da pizza de Jack\n",
        "Jack.ingredientes"
      ],
      "execution_count": null,
      "outputs": []
    },
    {
      "cell_type": "markdown",
      "metadata": {
        "id": "QwYetA2pRDlr"
      },
      "source": [
        "Da mesma forma que fizemos antes, o que acontece se executarmos a instrução a seguir:"
      ]
    },
    {
      "cell_type": "code",
      "metadata": {
        "id": "2MNcjX_7REZF"
      },
      "source": [
        "Jack.ingredientes = ['Aliche']"
      ],
      "execution_count": null,
      "outputs": []
    },
    {
      "cell_type": "code",
      "metadata": {
        "id": "Cg-KpDegRJn7"
      },
      "source": [
        "# Mostra os ingredientes solicitados por Jack\n",
        "Jack.ingredientes"
      ],
      "execution_count": null,
      "outputs": []
    },
    {
      "cell_type": "markdown",
      "metadata": {
        "id": "99cVETscq7CI"
      },
      "source": [
        "# **MULTIPLE INHERITANCE**\n",
        "> Para demonstrar o conceito de **multiple inheritance**, veja o esquema a seguir:\n",
        "\n",
        "```\n",
        "class Base1:\n",
        "    pass\n",
        "\n",
        "class Base2:\n",
        "    pass\n",
        "\n",
        "class Multiple_Inheritance(Base1, Base2):\n",
        "    pass\n",
        "```\n",
        "\n"
      ]
    },
    {
      "cell_type": "markdown",
      "metadata": {
        "id": "UTqv7iE6zotV"
      },
      "source": [
        "## Exemplo 7\n",
        "> Neste exemplo, vou me reconstruir de uma forma diferente as duas classes estudadas anteriormente no exemplo 4: Pessoa e Empregado. Adicionalmente, vou criar uma terceira classe chamada Salario:"
      ]
    },
    {
      "cell_type": "code",
      "metadata": {
        "id": "vbgfI8Ig2_88"
      },
      "source": [
        "# Classe Pessoa exatamente como foi declarada/criada no exemplo 4:\n",
        "class Pessoa:\n",
        "    def __init__(self, nome, sobrenome, data_aniversario, telefone, email, sexo, cidade, pais):\n",
        "        self.nome = nome\n",
        "        self.sobrenome = sobrenome\n",
        "        self.data_aniversario = data_aniversario\n",
        "        self.sexo = sexo\n",
        "        self.cidade = cidade\n",
        "        self.pais = pais\n",
        "\n",
        "        self.telefone = telefone\n",
        "        self.email = email\n",
        "\n",
        "        hoje = datetime.date.today()\n",
        "        idade = hoje.year - self.data_aniversario.year        \n",
        "        if hoje < datetime.date(hoje.year, self.data_aniversario.month, self.data_aniversario.day):\n",
        "            idade -= 1\n",
        "\n",
        "        self.idade = idade"
      ],
      "execution_count": null,
      "outputs": []
    },
    {
      "cell_type": "code",
      "metadata": {
        "id": "QQ1dluMk3BeD"
      },
      "source": [
        "class Empregado:\n",
        "    def __init__(self, id, funcao, departamento):\n",
        "        self.id= id\n",
        "        self.funcao= funcao\n",
        "        self.departamento= departamento"
      ],
      "execution_count": null,
      "outputs": []
    },
    {
      "cell_type": "code",
      "metadata": {
        "id": "2STNW1cZ1Jj7"
      },
      "source": [
        "class Salario(Pessoa, Empregado):\n",
        "    def __init__(self, nome, sobrenome, data_aniversario, telefone, email, sexo, cidade, pais, id, funcao, departamento, salario):\n",
        "        self.salario = salario\n",
        "        self.bonus = 0.25*salario\n",
        "        Pessoa.__init__(self, nome, sobrenome, data_aniversario, telefone, email, sexo, cidade, pais)\n",
        "        Empregado.__init__(self, id, funcao, departamento)"
      ],
      "execution_count": null,
      "outputs": []
    },
    {
      "cell_type": "code",
      "metadata": {
        "id": "fMRvjwvp3sTC"
      },
      "source": [
        "empregado1= Salario('Antonio', 'dos Anjos', datetime.date(1954, 12, 16), 'antonio_anjos@gmail.com', 'M', 'Coimbra', 'Portugal', 'BI0023', 'Data Engineer', 'BI', 100000)"
      ],
      "execution_count": null,
      "outputs": []
    },
    {
      "cell_type": "code",
      "metadata": {
        "id": "O2qork5P5i2b"
      },
      "source": [
        "empregado1.salario"
      ],
      "execution_count": null,
      "outputs": []
    },
    {
      "cell_type": "code",
      "metadata": {
        "id": "2MxyOeA35nST"
      },
      "source": [
        "empregado1.bonus"
      ],
      "execution_count": null,
      "outputs": []
    },
    {
      "cell_type": "code",
      "metadata": {
        "id": "_yLHcpp05pco"
      },
      "source": [
        "empregado1.idade"
      ],
      "execution_count": null,
      "outputs": []
    },
    {
      "cell_type": "markdown",
      "metadata": {
        "id": "2LK-wD9BhgpD"
      },
      "source": [
        "# **COMPOSIÇÃO**\n",
        "> Composição é uma alternativa ao inheritance. Para explicar esse conceito, vou usar o exemplo apresentado em [Python: The Complete inheritance Tutorial](https://medium.com/@rajdhakad/python-the-complete-inheritance-tutorial-786b584475ea), pois esse é o exemplo mais didático que encontrei para explicar esse conceito. "
      ]
    },
    {
      "cell_type": "markdown",
      "metadata": {
        "id": "vdW7pPhui43u"
      },
      "source": [
        "O autor [Raj Dhakad\n",
        "](https://medium.com/@rajdhakad/python-the-complete-inheritance-tutorial-786b584475ea) declara as classes 'Livro' e 'Capitulos' da seguinte forma:"
      ]
    },
    {
      "cell_type": "code",
      "metadata": {
        "id": "DxZKfXMAiKUu"
      },
      "source": [
        "class Livro:\n",
        "\n",
        "    def __init__(self, titulo_livro, autor, editora):\n",
        "        self.titulo_livro = titulo_livro\n",
        "        self.autor = autor\n",
        "        self.editora = editora\n",
        "\n",
        "    def book_details(self):\n",
        "        return f'{self.titulo_livro} by {self.autor} from {self.editora}'\n",
        "\n",
        "\n",
        "class Capitulos:\n",
        "\n",
        "    def __init__(self, titulo_capitulo, numero_capitulo, titulo_livro, autor, editora):\n",
        "        self.titulo = titulo\n",
        "        self.numero_capitulo = numero_capitulo\n",
        "        # Olha a composition abaixo...\n",
        "        self.book_obj = Livro(titulo_livro, autor, editora)\n",
        "\n",
        "    def detalhe_do_livro(self):\n",
        "        return f'Capitulos {self.numero_capitulo}: {self.titulo}, is taken from {self.book_obj.book_details()}'"
      ],
      "execution_count": null,
      "outputs": []
    },
    {
      "cell_type": "markdown",
      "metadata": {
        "id": "e_M7OzTbjQRG"
      },
      "source": [
        "Observe a composição dentro da classe 'Capitulos', quando o autor evoca a classe 'Livro' da seguinte forma:\n",
        "```\n",
        "# using composition\n",
        "self.book_obj = Livro(titulo_livro, autor, editora)\n",
        "```\n",
        "\n",
        "Ou seja, para evitar repetição de código relativo às informações do 'Livro', o autor evoca a classe 'Livro'.\n",
        "\n"
      ]
    },
    {
      "cell_type": "code",
      "metadata": {
        "id": "NBCYTUtojIgH"
      },
      "source": [
        "# Capitulos obj:\n",
        "primeiro_capitulo = Capitulos('Composition', 1, 'Best Livro', 'RD', 'RD-pubs')\n",
        "print(primeiro_capitulo.detalhe_do_livro())"
      ],
      "execution_count": null,
      "outputs": []
    },
    {
      "cell_type": "code",
      "metadata": {
        "id": "leoQAY7SkArx"
      },
      "source": [
        "# accessing class Livro properties and methods using Capitulos  Class object\n",
        "print(primeiro_capitulo.book_obj.autor)\n",
        "print(primeiro_capitulo.book_obj.book_details())"
      ],
      "execution_count": null,
      "outputs": []
    },
    {
      "cell_type": "markdown",
      "metadata": {
        "id": "Z3hYxUlHuhpt"
      },
      "source": [
        "# **AGGREGATION**\n",
        "> Aggregation é muito similar a Composition. Considere o exemplo a seguir, extraído de [Raj Dhakad\n",
        "](https://medium.com/@rajdhakad/python-the-complete-inheritance-tutorial-786b584475ea). A classe 'Livro' não muda, ou seja, não há diferença da classe 'Livro' declarada pelo autor na sessão 'COMPOSITION'. A diferença está na classe 'Capitulos'. Observe:"
      ]
    },
    {
      "cell_type": "markdown",
      "metadata": {
        "id": "01QqorZOvwr6"
      },
      "source": [
        "### Classe 'Capitulos' com **COMPOSITION**:\n",
        "\n",
        "```\n",
        "class Capitulos:\n",
        "\n",
        "    def __init__(self, titulo_capitulo, numero_capitulo, titulo_livro, autor, editora):\n",
        "        self.titulo = titulo\n",
        "        self.numero_capitulo = numero_capitulo\n",
        "        # using composition\n",
        "        self.book_obj = Livro(titulo_livro, autor, editora)\n",
        "\n",
        "    def detalhe_do_livro(self):\n",
        "        return f'Capitulos {self.numero_capitulo}: {self.titulo}, is taken from {self.book_obj.book_details()}'\n",
        "```\n",
        "\n"
      ]
    },
    {
      "cell_type": "markdown",
      "metadata": {
        "id": "qXQCVImxwCIb"
      },
      "source": [
        "### Classe 'Capitulos' com **AGGREGATION**:\n",
        "\n",
        "```\n",
        "class Capitulos:\n",
        "\n",
        "    def __init__(self, titulo_capitulo, numero_capitulo, book_obj):\n",
        "        self.titulo = titulo\n",
        "        self.numero_capitulo = numero_capitulo\n",
        "        self.book_obj = book_obj\n",
        "\n",
        "    def detalhe_do_livro(self):\n",
        "        return f'Capitulos {self.numero_capitulo}: {self.titulo}, is taken from {self.book_obj.book_details()}'\n",
        "```\n",
        "\n"
      ]
    },
    {
      "cell_type": "markdown",
      "metadata": {
        "id": "n0pAM2S2waBJ"
      },
      "source": [
        "Vamos executar o código step-by-step para vermos os resultados:"
      ]
    },
    {
      "cell_type": "code",
      "metadata": {
        "id": "dx8ca-uFusK5"
      },
      "source": [
        "class Capitulos:\n",
        "\n",
        "    def __init__(self, titulo_capitulo, numero_capitulo, book_obj):\n",
        "        self.titulo = titulo\n",
        "        self.numero_capitulo = numero_capitulo\n",
        "        self.book_obj = book_obj\n",
        "\n",
        "    def detalhe_do_livro(self):\n",
        "        return f'Capitulos {self.numero_capitulo}: {self.titulo}, is taken from {self.book_obj.book_details()}'"
      ],
      "execution_count": null,
      "outputs": []
    },
    {
      "cell_type": "code",
      "metadata": {
        "id": "fQ-9O4h0wghT"
      },
      "source": [
        "# Creating Livro object\n",
        "book_obj = Livro('Best Livro', 'RD', 'RD-pubs')"
      ],
      "execution_count": null,
      "outputs": []
    },
    {
      "cell_type": "code",
      "metadata": {
        "id": "8ES0Q1dVwj-i"
      },
      "source": [
        "primeiro_capitulo = Capitulos('Composition', 1, book_obj)\n",
        "\n",
        "print(primeiro_capitulo.detalhe_do_livro())"
      ],
      "execution_count": null,
      "outputs": []
    },
    {
      "cell_type": "code",
      "metadata": {
        "id": "RcXDvGPzxP0t"
      },
      "source": [
        "# Mostrando os características e métodos da classe Livro\n",
        "print(primeiro_capitulo.book_obj.autor)\n",
        "print(primeiro_capitulo.book_obj.book_details())"
      ],
      "execution_count": null,
      "outputs": []
    },
    {
      "cell_type": "markdown",
      "metadata": {
        "id": "8l4HJ75k-LO_"
      },
      "source": [
        "# **POLIMORFISMO**\n",
        "> De forma simples, Polimorfirsmo significa ter várias funções/ações para a mesma função/objeto."
      ]
    },
    {
      "cell_type": "markdown",
      "metadata": {
        "id": "L8-fmoa-DygH"
      },
      "source": [
        "## Exemplo 8\n",
        ">  Para explicar este conceito, vou me utilizar do exemplo apresentado em [Polymorphism in Python](https://www.geeksforgeeks.org/polymorphism-in-python/)."
      ]
    },
    {
      "cell_type": "markdown",
      "metadata": {
        "id": "RdXxMoRUD2RD"
      },
      "source": [
        "## Exemplo 9\n",
        "> Considere o exemplo a seguir:"
      ]
    },
    {
      "cell_type": "code",
      "metadata": {
        "id": "YgtStamSDBbM"
      },
      "source": [
        "class Dog:\n",
        "    def __init__(self, nome):\n",
        "        self.nome= nome\n",
        "\n",
        "    def Comunica(self):\n",
        "        print(f'{self.nome} late!')"
      ],
      "execution_count": null,
      "outputs": []
    },
    {
      "cell_type": "code",
      "metadata": {
        "id": "b6tt078RD64X"
      },
      "source": [
        "class Cat:\n",
        "    def __init__(self, nome):\n",
        "        self.nome = nome\n",
        "\n",
        "    def Comunica(self):\n",
        "        print(f'{self.nome} mia!')"
      ],
      "execution_count": null,
      "outputs": []
    },
    {
      "cell_type": "markdown",
      "metadata": {
        "id": "fW1y-gQ5EDD2"
      },
      "source": [
        "Observe que a única diferença entre a class Dog e a class Cat é a frase. Para 'Dog', teremos:"
      ]
    },
    {
      "cell_type": "code",
      "metadata": {
        "id": "Twnvim8dDrwH"
      },
      "source": [
        "dog1 = Dog('Fred')\n",
        "cat1 = Cat('Kiko')"
      ],
      "execution_count": null,
      "outputs": []
    },
    {
      "cell_type": "code",
      "metadata": {
        "id": "nyMerwVgFFII"
      },
      "source": [
        "dog1.Comunica()"
      ],
      "execution_count": null,
      "outputs": []
    },
    {
      "cell_type": "markdown",
      "metadata": {
        "id": "g9wpq6W5Gwpf"
      },
      "source": [
        "Para 'Cat' teremos:"
      ]
    },
    {
      "cell_type": "code",
      "metadata": {
        "id": "G2a5rMYvFSeA"
      },
      "source": [
        "cat1.Comunica()"
      ],
      "execution_count": null,
      "outputs": []
    },
    {
      "cell_type": "markdown",
      "metadata": {
        "id": "7Z7Bc5tfFWAc"
      },
      "source": [
        "Observe que a função tem o mesmo nome e executa duas tarefas distintas! Isso é Polimorfirsmo!"
      ]
    },
    {
      "cell_type": "markdown",
      "metadata": {
        "id": "d7rQW8NYC0x6"
      },
      "source": [
        "# Aplicações - Criar um modelo usando OOP\n",
        "* https://www.kaggle.com/serkanpeldek/object-oriented-titanics\n",
        "https://medium.com/datadriveninvestor/object-oriented-programming-to-tune-ml-model-2c6922f5077f\n"
      ]
    },
    {
      "cell_type": "markdown",
      "metadata": {
        "id": "brEV2i_6ibdc"
      },
      "source": [
        "# **Exercícios**"
      ]
    },
    {
      "cell_type": "markdown",
      "metadata": {
        "id": "yUsu19Z2bAkw"
      },
      "source": [
        "## Exercício 1\n",
        "\n",
        "Construa uma classe chamada Status_Jogo com as seguintes características:\n",
        "\n",
        "* Número de vidas de cada personagem: 3;\n",
        "* Criar o método ataque, que quando invocado, faz com que o personagem perca 1 vida;\n",
        "* Criar o método passar_nivel, que quando invocado, acrescenta 1 vida ao personagem;\n",
        "* Criar método quantidade_vidas para mostrar a quantidade de vidas restantes de cada personagem."
      ]
    },
    {
      "cell_type": "markdown",
      "metadata": {
        "id": "Sg_gelyDc4qB"
      },
      "source": [
        "### Minha solução:"
      ]
    },
    {
      "cell_type": "code",
      "metadata": {
        "id": "fUci4d2sc6tZ"
      },
      "source": [
        "class Personagem:\n",
        "    nro_vidas= 3;\n",
        "    \n",
        "    def ataque(self):\n",
        "        self.nro_vidas -= 1\n",
        "        print('Perdi 1 vida!')\n",
        "        if self.nro_vidas <= 0:\n",
        "            self.quantidade_vidas()\n",
        "        \n",
        "    def passar_nivel(self):\n",
        "        self.nro_vidas += 1\n",
        "        print('Ganhei 1 vida!')\n",
        "        \n",
        "    def quantidade_vidas(self):\n",
        "        if self.nro_vidas <= 0:\n",
        "            print('Estou morto')\n",
        "        else:\n",
        "            print('Ainda estou vivo, pois ainda tenho', self.nro_vidas, ' vidas!')"
      ],
      "execution_count": null,
      "outputs": []
    },
    {
      "cell_type": "markdown",
      "metadata": {
        "id": "D0Az6pgYeXDw"
      },
      "source": [
        "Instanciando os personagens..."
      ]
    },
    {
      "cell_type": "code",
      "metadata": {
        "id": "L-cowQqheTlj"
      },
      "source": [
        "Andre = Personagem()\n",
        "Carlos = Personagem()"
      ],
      "execution_count": null,
      "outputs": []
    },
    {
      "cell_type": "markdown",
      "metadata": {
        "id": "DQEYydwUfu0h"
      },
      "source": [
        "Verificando a quantidade de vidas do personagem..."
      ]
    },
    {
      "cell_type": "code",
      "metadata": {
        "id": "yZNauRb7edod"
      },
      "source": [
        "Andre.quantidade_vidas()"
      ],
      "execution_count": null,
      "outputs": []
    },
    {
      "cell_type": "code",
      "metadata": {
        "id": "-r5iQY-XeqK5"
      },
      "source": [
        "Andre.ataque()"
      ],
      "execution_count": null,
      "outputs": []
    },
    {
      "cell_type": "code",
      "metadata": {
        "id": "AdkdXNpae9OW"
      },
      "source": [
        "Andre.passar_nivel()"
      ],
      "execution_count": null,
      "outputs": []
    },
    {
      "cell_type": "code",
      "metadata": {
        "id": "dZDUvT-JfCxc"
      },
      "source": [
        "Andre.quantidade_vidas()"
      ],
      "execution_count": null,
      "outputs": []
    },
    {
      "cell_type": "code",
      "metadata": {
        "id": "Qdzkbvb4fI3r"
      },
      "source": [
        "Andre.ataque()"
      ],
      "execution_count": null,
      "outputs": []
    },
    {
      "cell_type": "code",
      "metadata": {
        "id": "GH4FVcUKfMsb"
      },
      "source": [
        "Andre.ataque()"
      ],
      "execution_count": null,
      "outputs": []
    },
    {
      "cell_type": "code",
      "metadata": {
        "id": "faGOtEvXfQb1"
      },
      "source": [
        "Andre.ataque()"
      ],
      "execution_count": null,
      "outputs": []
    },
    {
      "cell_type": "markdown",
      "metadata": {
        "id": "gIzY0NL9f2Ra"
      },
      "source": [
        "### Explicação\n",
        "\n",
        "* Por favor, explique o que você entendeu do funciotitulo_livronto desta classe e seus métodos.\n",
        "* Você percebeu a interação entre os objetos e suas classes?"
      ]
    },
    {
      "cell_type": "markdown",
      "metadata": {
        "id": "rO_yzoVMiiq3"
      },
      "source": [
        "## Exercício 2\n",
        "Construa uma classe que recebe dois pontos e crie o método distancia_Euclideana para calcular a distância Euclideana entre os dois pontos."
      ]
    },
    {
      "cell_type": "markdown",
      "metadata": {
        "id": "9ICcrP5vjPca"
      },
      "source": [
        "### Minha solução (1/2):"
      ]
    },
    {
      "cell_type": "code",
      "metadata": {
        "id": "j5i5tEsTjTJk"
      },
      "source": [
        "import math\n",
        "\n",
        "class Point:\n",
        "    def __init__(self, initX, initY):\n",
        "        self.x = initX\n",
        "        self.y = initY\n",
        "\n",
        "    def getX(self):\n",
        "        return self.x\n",
        "\n",
        "    def getY(self):\n",
        "        return self.y"
      ],
      "execution_count": null,
      "outputs": []
    },
    {
      "cell_type": "code",
      "metadata": {
        "id": "YJZfSzlrkKAs"
      },
      "source": [
        "def distancia_Euclideana(point1, point2):\n",
        "    xdiff = point2.getX()-point1.getX()\n",
        "    ydiff = point2.getY()-point1.getY()\n",
        "\n",
        "    dist = math.sqrt(xdiff**2 + ydiff**2)\n",
        "    return dist"
      ],
      "execution_count": null,
      "outputs": []
    },
    {
      "cell_type": "code",
      "metadata": {
        "id": "apAtLy1HjsvG"
      },
      "source": [
        "p = Point(3,4)\n",
        "q = Point(5,12)"
      ],
      "execution_count": null,
      "outputs": []
    },
    {
      "cell_type": "code",
      "metadata": {
        "id": "2XjeXw1OkYEy"
      },
      "source": [
        "print(distancia_Euclideana(p,q))"
      ],
      "execution_count": null,
      "outputs": []
    },
    {
      "cell_type": "markdown",
      "metadata": {
        "id": "7zhptxF0k8sL"
      },
      "source": [
        "### Minha solução (2/2):"
      ]
    },
    {
      "cell_type": "code",
      "metadata": {
        "id": "0GT8wuC4lB_c"
      },
      "source": [
        "import math\n",
        "\n",
        "class Point:\n",
        "    def __init__(self, initX, initY):\n",
        "        self.x = initX\n",
        "        self.y = initY\n",
        "\n",
        "    def getX(self):\n",
        "        return self.x\n",
        "\n",
        "    def getY(self):\n",
        "        return self.y\n",
        "    \n",
        "    def distancia_Euclideana(self, target):\n",
        "        xdiff = self.x-target.x\n",
        "        ydiff = self.y-target.y\n",
        "        dist = math.sqrt(xdiff**2 + ydiff**2)\n",
        "        return dist"
      ],
      "execution_count": null,
      "outputs": []
    },
    {
      "cell_type": "code",
      "metadata": {
        "id": "0hCsnr0yl6YK"
      },
      "source": [
        "p = Point(3, 4)\n",
        "q = Point(5, 12)"
      ],
      "execution_count": null,
      "outputs": []
    },
    {
      "cell_type": "code",
      "metadata": {
        "id": "iVaayIBKmKVo"
      },
      "source": [
        "print(p.distancia_Euclideana(q))"
      ],
      "execution_count": null,
      "outputs": []
    },
    {
      "cell_type": "markdown",
      "metadata": {
        "id": "YaKJmE-AwYZy"
      },
      "source": [
        "## Exercício 3\n",
        "Construa uma classe para retornar o dia da semana a partir de um número, sendo:\n",
        "\n",
        "* 1 - Dom\n",
        "* 2 - Seg\n",
        "* 3 - Ter\n",
        "* 4 - Qua\n",
        "* 5 - Qui\n",
        "* 6 - Sex\n",
        "* 7 - Sab"
      ]
    },
    {
      "cell_type": "markdown",
      "metadata": {
        "id": "DnhoyqA-w3HC"
      },
      "source": [
        "### Minha solução:\n",
        "\n",
        "Minha solução usa os conceitos de Dictionaries, visto no capítulo [Dictionaries](./Dictionaries.ipynb)."
      ]
    },
    {
      "cell_type": "code",
      "metadata": {
        "id": "v--iVYSCw42q"
      },
      "source": [
        "class Dia_Semana:\n",
        "    def __init__(self, dia):\n",
        "        self.dia= dia\n",
        "        \n",
        "    def semana(self):\n",
        "        d_semana= {1:'Sunday',\n",
        "                  2:'Monday',\n",
        "                  3:'Tuesday',\n",
        "                  4:'Wednesday',\n",
        "                  5:'Thursday',\n",
        "                  6:'Friday',\n",
        "                  7:'Saturday'\n",
        "             }\n",
        "        return d_semana.get(self.dia,\"Inválido dia da semana\")"
      ],
      "execution_count": null,
      "outputs": []
    },
    {
      "cell_type": "markdown",
      "metadata": {
        "id": "gdTXJSuFzWTp"
      },
      "source": [
        "Instanciando..."
      ]
    },
    {
      "cell_type": "code",
      "metadata": {
        "id": "wUy4tPCMx38Y"
      },
      "source": [
        "dia = Dia_Semana(1)"
      ],
      "execution_count": null,
      "outputs": []
    },
    {
      "cell_type": "markdown",
      "metadata": {
        "id": "92OmDo8vzZyj"
      },
      "source": [
        "Listando os métodos disponíveis no objeto dia..."
      ]
    },
    {
      "cell_type": "code",
      "metadata": {
        "id": "69aR84OSyL8o"
      },
      "source": [
        "dir(dia)"
      ],
      "execution_count": null,
      "outputs": []
    },
    {
      "cell_type": "markdown",
      "metadata": {
        "id": "8QQZFH9XziPj"
      },
      "source": [
        "Mostrando o dia da semana..."
      ]
    },
    {
      "cell_type": "code",
      "metadata": {
        "id": "WA2mBkmLyCvY"
      },
      "source": [
        "dia.semana()"
      ],
      "execution_count": null,
      "outputs": []
    },
    {
      "cell_type": "code",
      "metadata": {
        "id": "GuMdsuazzpm5"
      },
      "source": [
        "dia= Dia_Semana(0)\n",
        "dia.semana()"
      ],
      "execution_count": null,
      "outputs": []
    }
  ]
}