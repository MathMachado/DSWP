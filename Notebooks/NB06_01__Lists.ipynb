{
  "nbformat": 4,
  "nbformat_minor": 0,
  "metadata": {
    "colab": {
      "name": "NB06_01__Lists.ipynb",
      "provenance": [],
      "collapsed_sections": [
        "n8BIbzQbNWUo",
        "7eS94uQ4NhVR",
        "SYOgJpGYVLUu",
        "CaHFxk98W5if",
        "ReWUyWiHXCnc",
        "CqszHxaKHr2h",
        "tXgF1Wl9gHKY",
        "Fotx7XUquAo8",
        "36kmLUYDvsUI",
        "SWO2GdNovxAp",
        "vpN54l4vxze5",
        "u4HOf9SNytSq",
        "6BQ9oZiD9hg5",
        "tz5-QdrX9vct",
        "p1muBgMX8NK4",
        "FxTC2-U88ajk",
        "z8EYn0pP25Rh"
      ],
      "include_colab_link": true
    },
    "kernelspec": {
      "name": "python3",
      "display_name": "Python 3"
    },
    "accelerator": "GPU"
  },
  "cells": [
    {
      "cell_type": "markdown",
      "metadata": {
        "id": "view-in-github",
        "colab_type": "text"
      },
      "source": [
        "<a href=\"https://colab.research.google.com/github/MathMachado/DSWP/blob/master/Notebooks/NB06_01__Lists.ipynb\" target=\"_parent\"><img src=\"https://colab.research.google.com/assets/colab-badge.svg\" alt=\"Open In Colab\"/></a>"
      ]
    },
    {
      "cell_type": "markdown",
      "metadata": {
        "id": "9dlZ8hYXoKco"
      },
      "source": [
        "<center><h1><b><i>LISTS</i></b></h1></center>\n",
        "\n"
      ]
    },
    {
      "cell_type": "markdown",
      "metadata": {
        "id": "rwEpkG1CoP3C"
      },
      "source": [
        "# **AGENDA**:\n",
        "\n",
        "> Veja o **índice** dos itens que serão abordados neste capítulo."
      ]
    },
    {
      "cell_type": "markdown",
      "metadata": {
        "id": "7SSGTGbqDc_Z"
      },
      "source": [
        "___\n",
        "# **LISTS**\n",
        "\n",
        "* List - Coleção ordenada e mutável de itens. \n",
        "* Permite itens duplicados;\n",
        "* List são representados por \"[ ]\";\n",
        "* Exemplos de **MÉTODOS** listas: append(), insert(), remove(), sort(), entre outros."
      ]
    },
    {
      "cell_type": "markdown",
      "metadata": {
        "id": "ZEy4k9MZJZQ8"
      },
      "source": [
        "![PythonDataStructures](https://github.com/MathMachado/Materials/blob/master/PythonDataStructures.png?raw=true)"
      ]
    },
    {
      "cell_type": "markdown",
      "metadata": {
        "id": "w--XlJB6RaEl"
      },
      "source": [
        "___\n",
        "# **EXEMPLOS**"
      ]
    },
    {
      "cell_type": "markdown",
      "metadata": {
        "id": "Z8aYXsvvHVAH"
      },
      "source": [
        "* Foco na forma como atribuimos itens às listas."
      ]
    },
    {
      "cell_type": "code",
      "metadata": {
        "id": "QJyUgeSERSqf"
      },
      "source": [
        "l_frutas = ['Apple', 'Avocado', 'Orange', 'Lemon']\n",
        "l_numeros = [1, 4, 8, 3, 6, 7]"
      ],
      "execution_count": null,
      "outputs": []
    },
    {
      "cell_type": "markdown",
      "metadata": {
        "id": "nrF5J8JwZbJR"
      },
      "source": [
        "Verificando o tipo da variável l_numeros:"
      ]
    },
    {
      "cell_type": "code",
      "metadata": {
        "id": "hhGkjqEsSXlA",
        "outputId": "0137c246-44ee-45ce-ff6f-994b5f5aaf19",
        "colab": {
          "base_uri": "https://localhost:8080/",
          "height": 34
        }
      },
      "source": [
        "type(l_numeros)"
      ],
      "execution_count": null,
      "outputs": [
        {
          "output_type": "execute_result",
          "data": {
            "text/plain": [
              "list"
            ]
          },
          "metadata": {
            "tags": []
          },
          "execution_count": 23
        }
      ]
    },
    {
      "cell_type": "markdown",
      "metadata": {
        "id": "ZZVrHUA0ZiYp"
      },
      "source": [
        "Verificando o tipo da variável l_frutas:"
      ]
    },
    {
      "cell_type": "code",
      "metadata": {
        "id": "xof2zWZjSdTy",
        "outputId": "2f00dd33-a074-49f2-c15a-27569a3e50e1",
        "colab": {
          "base_uri": "https://localhost:8080/",
          "height": 34
        }
      },
      "source": [
        "type(l_frutas)"
      ],
      "execution_count": null,
      "outputs": [
        {
          "output_type": "execute_result",
          "data": {
            "text/plain": [
              "list"
            ]
          },
          "metadata": {
            "tags": []
          },
          "execution_count": 24
        }
      ]
    },
    {
      "cell_type": "markdown",
      "metadata": {
        "id": "GmFuisZiS8qM"
      },
      "source": [
        "## Exemplo 1: Atribuindo números aleatórios inteiros à lista"
      ]
    },
    {
      "cell_type": "code",
      "metadata": {
        "id": "3CJMYEzLR2x3"
      },
      "source": [
        "import numpy as np\n",
        "\n",
        "# seed random number generator\n",
        "np.random.seed(20111974)\n",
        "\n",
        "# Cria um objeto do tipo list vazia...\n",
        "l_numeros2 = []\n",
        "\n",
        "# Loop para gerar 10 números aleatórios inteiros...\n",
        "for _ in range(10):\n",
        "    l_numeros2.append(np.random.randint(1, 101))"
      ],
      "execution_count": null,
      "outputs": []
    },
    {
      "cell_type": "code",
      "metadata": {
        "id": "Kl6jZbJzSShm",
        "outputId": "334663af-8444-4693-f302-6cf974084449",
        "colab": {
          "base_uri": "https://localhost:8080/",
          "height": 35
        }
      },
      "source": [
        "# Verificando o tipo da variável l_numeros2\n",
        "type(l_numeros2)"
      ],
      "execution_count": null,
      "outputs": [
        {
          "output_type": "execute_result",
          "data": {
            "text/plain": [
              "list"
            ]
          },
          "metadata": {
            "tags": []
          },
          "execution_count": 4
        }
      ]
    },
    {
      "cell_type": "code",
      "metadata": {
        "id": "oAoOqwZGSkbN",
        "outputId": "1b5359e4-c149-459c-8666-b0939b3ebb59",
        "colab": {
          "base_uri": "https://localhost:8080/",
          "height": 35
        }
      },
      "source": [
        "# Mostrando os itens de l_numeros2...\n",
        "l_numeros2"
      ],
      "execution_count": null,
      "outputs": [
        {
          "output_type": "execute_result",
          "data": {
            "text/plain": [
              "[61, 43, 41, 9, 28, 3, 47, 89, 82, 89]"
            ]
          },
          "metadata": {
            "tags": []
          },
          "execution_count": 5
        }
      ]
    },
    {
      "cell_type": "markdown",
      "metadata": {
        "id": "Qms11EWLTDoj"
      },
      "source": [
        "## Exemplo 2 - Atribuindo números aleatórios (float) à lista"
      ]
    },
    {
      "cell_type": "code",
      "metadata": {
        "id": "O7FntLf5TF-r"
      },
      "source": [
        "import numpy as np\n",
        "\n",
        "# seed random number generator\n",
        "np.random.seed(20111974)\n",
        "\n",
        "# Define um objeto do tipo list vazio...\n",
        "l_numeros2 = []\n",
        "\n",
        "# Loop para gerar 10 números aleatórios do tipo float...\n",
        "for _ in range(10):\n",
        "    l_numeros2.append(np.random.random())"
      ],
      "execution_count": null,
      "outputs": []
    },
    {
      "cell_type": "markdown",
      "metadata": {
        "id": "bsRanZkCTqLw"
      },
      "source": [
        "Mostrar os itens de l_numeros2..."
      ]
    },
    {
      "cell_type": "code",
      "metadata": {
        "id": "A-LGywmxTtOM",
        "outputId": "688f49ec-5ea2-493b-e997-62caea8bca9d",
        "colab": {
          "base_uri": "https://localhost:8080/",
          "height": 191
        }
      },
      "source": [
        "l_numeros2"
      ],
      "execution_count": null,
      "outputs": [
        {
          "output_type": "execute_result",
          "data": {
            "text/plain": [
              "[0.5309723295184019,\n",
              " 0.569656260808191,\n",
              " 0.5425293780522449,\n",
              " 0.6547840853457134,\n",
              " 0.8570845590847208,\n",
              " 0.601741811998476,\n",
              " 0.872983086730587,\n",
              " 0.4557334156736259,\n",
              " 0.6733671652974339,\n",
              " 0.6430091191416112]"
            ]
          },
          "metadata": {
            "tags": []
          },
          "execution_count": 7
        }
      ]
    },
    {
      "cell_type": "markdown",
      "metadata": {
        "id": "4qKc7t8UHuYC"
      },
      "source": [
        "___\n",
        "# **SUBSTITUIR ITENS DE UMA LISTA**\n",
        "> **Lembre-se**: Um objeto do tipo list é mutável e ordenado.\n",
        "\n",
        "* Considerando a lista l_frutas, suponha que queremos substituir o item 'Avocado' por 'Banana'."
      ]
    },
    {
      "cell_type": "code",
      "metadata": {
        "id": "urEZxUiEIZqP",
        "outputId": "8f17d5c6-f129-44f9-f431-e0ab2b095712",
        "colab": {
          "base_uri": "https://localhost:8080/",
          "height": 35
        }
      },
      "source": [
        "l_frutas = ['Apple', 'Avocado', 'Avocado', 'Orange', 'Lemon']\n",
        "l_frutas"
      ],
      "execution_count": null,
      "outputs": [
        {
          "output_type": "execute_result",
          "data": {
            "text/plain": [
              "['Apple', 'Avocado', 'Avocado', 'Orange', 'Lemon']"
            ]
          },
          "metadata": {
            "tags": []
          },
          "execution_count": 1
        }
      ]
    },
    {
      "cell_type": "code",
      "metadata": {
        "id": "A5Isn-TBInVm",
        "outputId": "7baa5931-a566-4277-a082-1564aeefbc61",
        "colab": {
          "base_uri": "https://localhost:8080/",
          "height": 35
        }
      },
      "source": [
        "l_frutas[1] = 'Banana'\n",
        "l_frutas[2] = 'Banana'\n",
        "l_frutas"
      ],
      "execution_count": null,
      "outputs": [
        {
          "output_type": "execute_result",
          "data": {
            "text/plain": [
              "['Apple', 'Banana', 'Banana', 'Orange', 'Lemon']"
            ]
          },
          "metadata": {
            "tags": []
          },
          "execution_count": 2
        }
      ]
    },
    {
      "cell_type": "markdown",
      "metadata": {
        "id": "cPU0PAPwJPeO"
      },
      "source": [
        "Observe que o valor 'Avocado' de índices 1 e 2 foram substituídos pelo valor 'Banana'."
      ]
    },
    {
      "cell_type": "markdown",
      "metadata": {
        "id": "sy0Zb8U6Jvkg"
      },
      "source": [
        "## Solução alternativa 1\n",
        "> No exemplo anterior, precisávamos saber o índice para fazermos a substituição. Neste caso, não precisamos saber qual é o índice.\n",
        "    \n",
        "* função l_lista.index(item)."
      ]
    },
    {
      "cell_type": "code",
      "metadata": {
        "id": "R4M1VX4zJ4jF",
        "outputId": "daf35770-96ef-46ed-baa2-087bfc73f746",
        "colab": {
          "base_uri": "https://localhost:8080/",
          "height": 35
        }
      },
      "source": [
        "l_frutas = ['Apple', 'Avocado', 'Avocado', 'Orange', 'Lemon']\n",
        "l_frutas"
      ],
      "execution_count": null,
      "outputs": [
        {
          "output_type": "execute_result",
          "data": {
            "text/plain": [
              "['Apple', 'Avocado', 'Avocado', 'Orange', 'Lemon']"
            ]
          },
          "metadata": {
            "tags": []
          },
          "execution_count": 3
        }
      ]
    },
    {
      "cell_type": "markdown",
      "metadata": {
        "id": "GXruhsvgUFJ0"
      },
      "source": [
        "A função l_lista.index(item) busca pelo item e retorna o índice associado ao item. \n",
        "\n",
        "> **Atenção**: A função retorna ValueError se o item não pertencer á lista. Para evitar esse erro, use \"in\" para previamente verificar se o item pertence à lista."
      ]
    },
    {
      "cell_type": "code",
      "metadata": {
        "id": "SFaiLPf5MJ69",
        "outputId": "53f40da3-a064-475b-e12a-4204fcd53d24",
        "colab": {
          "base_uri": "https://localhost:8080/",
          "height": 35
        }
      },
      "source": [
        "# Captura o índice do item 'Avocado'...\n",
        "l_indices = l_frutas.index('Avocado')\n",
        "l_indices"
      ],
      "execution_count": null,
      "outputs": [
        {
          "output_type": "execute_result",
          "data": {
            "text/plain": [
              "1"
            ]
          },
          "metadata": {
            "tags": []
          },
          "execution_count": 4
        }
      ]
    },
    {
      "cell_type": "code",
      "metadata": {
        "id": "UuVFidYbK-5A",
        "outputId": "c5e595ca-b5cb-43ae-aa78-6ceaad0312b5",
        "colab": {
          "base_uri": "https://localhost:8080/",
          "height": 35
        }
      },
      "source": [
        "# Substitui...\n",
        "l_frutas[l_indices] = 'Banana'\n",
        "l_frutas"
      ],
      "execution_count": null,
      "outputs": [
        {
          "output_type": "execute_result",
          "data": {
            "text/plain": [
              "['Apple', 'Banana', 'Avocado', 'Orange', 'Lemon']"
            ]
          },
          "metadata": {
            "tags": []
          },
          "execution_count": 5
        }
      ]
    },
    {
      "cell_type": "markdown",
      "metadata": {
        "id": "_bJxttTyL2cF"
      },
      "source": [
        "Como podeos ver acima, o item 'Avocado', de índice 1, foi substituído pelo item 'Banana'. No entanto, a segunda ocorrência de 'Avocado' não foi substituído. Portanto, esta alternativa é pouco interessante, pois substitui somente a primeira ocorrência do item."
      ]
    },
    {
      "cell_type": "markdown",
      "metadata": {
        "id": "zHrDYcYsLy6w"
      },
      "source": [
        "## Solução alternativa 2"
      ]
    },
    {
      "cell_type": "code",
      "metadata": {
        "id": "u6KYpWinMGEE",
        "outputId": "f75f6304-e033-4b75-e43f-16695430c9ef",
        "colab": {
          "base_uri": "https://localhost:8080/",
          "height": 35
        }
      },
      "source": [
        "l_frutas = ['Apple', 'Avocado', 'Avocado', 'Orange', 'Lemon']\n",
        "l_frutas"
      ],
      "execution_count": null,
      "outputs": [
        {
          "output_type": "execute_result",
          "data": {
            "text/plain": [
              "['Apple', 'Avocado', 'Avocado', 'Orange', 'Lemon']"
            ]
          },
          "metadata": {
            "tags": []
          },
          "execution_count": 6
        }
      ]
    },
    {
      "cell_type": "markdown",
      "metadata": {
        "id": "tgaKqejQMP8k"
      },
      "source": [
        "Desta vez, vamos substituir todas as ocorrências do item 'Avocado' por 'Banana'. Como vimos, l_frutas.index('Avocado') retorna somente a primeira ocorrência de 'Avocado'."
      ]
    },
    {
      "cell_type": "markdown",
      "metadata": {
        "id": "rJb4b0gno_wg"
      },
      "source": [
        "Quantos itens 'Avocado' temos na lista l_frutas?"
      ]
    },
    {
      "cell_type": "code",
      "metadata": {
        "id": "X-hSFKWGpAXa",
        "outputId": "0445c30d-f69d-4013-e2c4-15ff725ec438",
        "colab": {
          "base_uri": "https://localhost:8080/",
          "height": 35
        }
      },
      "source": [
        "l_frutas.count('Avocado')"
      ],
      "execution_count": null,
      "outputs": [
        {
          "output_type": "execute_result",
          "data": {
            "text/plain": [
              "2"
            ]
          },
          "metadata": {
            "tags": []
          },
          "execution_count": 7
        }
      ]
    },
    {
      "cell_type": "markdown",
      "metadata": {
        "id": "ijq9WULbNVm5"
      },
      "source": [
        "### ... usando Loop (For)"
      ]
    },
    {
      "cell_type": "code",
      "metadata": {
        "id": "a0zAEHco2hhZ"
      },
      "source": [
        "# Library para medirmos o tempo de processamento\n",
        "import time"
      ],
      "execution_count": null,
      "outputs": []
    },
    {
      "cell_type": "code",
      "metadata": {
        "id": "229o7tVeLTJ8",
        "outputId": "0f4bca34-7802-4a09-c171-54a0f5d2eb4d",
        "colab": {
          "base_uri": "https://localhost:8080/",
          "height": 35
        }
      },
      "source": [
        "time.clock()\n",
        "\n",
        "for fruta in l_frutas:\n",
        "    if fruta == 'Avocado':\n",
        "        l_indices = l_frutas.index('Avocado')\n",
        "        l_frutas[l_indices] = 'Banana'\n",
        "        \n",
        "time.clock()"
      ],
      "execution_count": null,
      "outputs": [
        {
          "output_type": "execute_result",
          "data": {
            "text/plain": [
              "2.844039"
            ]
          },
          "metadata": {
            "tags": []
          },
          "execution_count": 23
        }
      ]
    },
    {
      "cell_type": "code",
      "metadata": {
        "id": "8UmfbcW4Nk06",
        "outputId": "f8c1f779-fbfb-4b87-891f-a7aa907527f8",
        "colab": {
          "base_uri": "https://localhost:8080/",
          "height": 35
        }
      },
      "source": [
        "l_frutas"
      ],
      "execution_count": null,
      "outputs": [
        {
          "output_type": "execute_result",
          "data": {
            "text/plain": [
              "['Apple', 'Banana', 'Banana', 'Orange', 'Lemon']"
            ]
          },
          "metadata": {
            "tags": []
          },
          "execution_count": 22
        }
      ]
    },
    {
      "cell_type": "markdown",
      "metadata": {
        "id": "fqjYj4xNNt7Z"
      },
      "source": [
        "**Missão cumprida**: todas as ocorrência do item 'Avocado' foram substituídos pelo item 'Banana'."
      ]
    },
    {
      "cell_type": "markdown",
      "metadata": {
        "id": "D6Bep-NKpQHv"
      },
      "source": [
        "Quantos itens 'Banana' temos na lista?"
      ]
    },
    {
      "cell_type": "code",
      "metadata": {
        "id": "QEUdwOn1pTM4",
        "outputId": "42c8f69d-59a5-4013-85a5-22b7417106ff",
        "colab": {
          "base_uri": "https://localhost:8080/",
          "height": 35
        }
      },
      "source": [
        "l_frutas.count('Avocado')"
      ],
      "execution_count": null,
      "outputs": [
        {
          "output_type": "execute_result",
          "data": {
            "text/plain": [
              "0"
            ]
          },
          "metadata": {
            "tags": []
          },
          "execution_count": 19
        }
      ]
    },
    {
      "cell_type": "markdown",
      "metadata": {
        "id": "Tz9zcAgvRlXl"
      },
      "source": [
        "### ... usando Loop (While)"
      ]
    },
    {
      "cell_type": "code",
      "metadata": {
        "id": "jUHQgkFTR5le",
        "outputId": "b987b0e3-92fe-451a-a1ad-475c2b910d53",
        "colab": {
          "base_uri": "https://localhost:8080/",
          "height": 35
        }
      },
      "source": [
        "l_frutas = ['Apple', 'Avocado', 'Avocado', 'Orange', 'Lemon']\n",
        "l_frutas"
      ],
      "execution_count": null,
      "outputs": [
        {
          "output_type": "execute_result",
          "data": {
            "text/plain": [
              "['Apple', 'Avocado', 'Avocado', 'Orange', 'Lemon']"
            ]
          },
          "metadata": {
            "tags": []
          },
          "execution_count": 6
        }
      ]
    },
    {
      "cell_type": "code",
      "metadata": {
        "id": "VnX49H04Ryoh",
        "outputId": "ef686b9f-7233-413a-a871-df1dda8d5940",
        "colab": {
          "base_uri": "https://localhost:8080/",
          "height": 35
        }
      },
      "source": [
        "time.clock()\n",
        "while 'Avocado' in l_frutas:\n",
        "        l_indices = l_frutas.index('Avocado')\n",
        "        l_frutas[l_indices] = 'Banana'\n",
        "time.clock()"
      ],
      "execution_count": null,
      "outputs": [
        {
          "output_type": "execute_result",
          "data": {
            "text/plain": [
              "2.864087"
            ]
          },
          "metadata": {
            "tags": []
          },
          "execution_count": 24
        }
      ]
    },
    {
      "cell_type": "markdown",
      "metadata": {
        "id": "GK_AcJwTjtVr"
      },
      "source": [
        "Mostrando os resultados..."
      ]
    },
    {
      "cell_type": "code",
      "metadata": {
        "id": "iaVHNPCHR_iG",
        "outputId": "15331545-c516-4997-ebdc-e9764f127bab",
        "colab": {
          "base_uri": "https://localhost:8080/",
          "height": 35
        }
      },
      "source": [
        "l_frutas"
      ],
      "execution_count": null,
      "outputs": [
        {
          "output_type": "execute_result",
          "data": {
            "text/plain": [
              "['Apple', 'Banana', 'Banana', 'Orange', 'Lemon']"
            ]
          },
          "metadata": {
            "tags": []
          },
          "execution_count": 8
        }
      ]
    },
    {
      "cell_type": "markdown",
      "metadata": {
        "id": "hfnI1P6Tj0sN"
      },
      "source": [
        "**Missão cumprida**: todas as ocorrência do item 'Avocado' foram substituídos pelo item 'Banana'."
      ]
    },
    {
      "cell_type": "markdown",
      "metadata": {
        "id": "9BC50R2bpYyK"
      },
      "source": [
        "Mostrando quantos itens 'Banana' temos na lista:"
      ]
    },
    {
      "cell_type": "code",
      "metadata": {
        "id": "10pIy2lFpdMH"
      },
      "source": [
        "l_frutas.count('Avocado')"
      ],
      "execution_count": null,
      "outputs": []
    },
    {
      "cell_type": "markdown",
      "metadata": {
        "id": "8_eYk9Y7NQ_8"
      },
      "source": [
        "### ... usando List Comprehension"
      ]
    },
    {
      "cell_type": "code",
      "metadata": {
        "id": "V0Pq9nc9OC4V",
        "outputId": "d0ef3b74-6fa0-4ef7-8833-f2f38c265625",
        "colab": {
          "base_uri": "https://localhost:8080/",
          "height": 35
        }
      },
      "source": [
        "l_frutas = ['Apple', 'Avocado', 'Avocado', 'Orange', 'Lemon']\n",
        "l_frutas"
      ],
      "execution_count": null,
      "outputs": [
        {
          "output_type": "execute_result",
          "data": {
            "text/plain": [
              "['Apple', 'Avocado', 'Avocado', 'Orange', 'Lemon']"
            ]
          },
          "metadata": {
            "tags": []
          },
          "execution_count": 9
        }
      ]
    },
    {
      "cell_type": "code",
      "metadata": {
        "id": "XCjXxLItN9R-",
        "outputId": "706f90c9-55d3-42eb-8071-4f861f0baa9d",
        "colab": {
          "base_uri": "https://localhost:8080/",
          "height": 35
        }
      },
      "source": [
        "# Todas as ocorrências do item 'Avocado' contido em l_frutas:\n",
        "l_indices = [i for i, x in enumerate(l_frutas) if x == \"Avocado\"]\n",
        "l_indices"
      ],
      "execution_count": null,
      "outputs": [
        {
          "output_type": "execute_result",
          "data": {
            "text/plain": [
              "[1, 2]"
            ]
          },
          "metadata": {
            "tags": []
          },
          "execution_count": 11
        }
      ]
    },
    {
      "cell_type": "markdown",
      "metadata": {
        "id": "JZWUxNaeOMam"
      },
      "source": [
        "Agora que temos os índices, vamos às substituições..."
      ]
    },
    {
      "cell_type": "code",
      "metadata": {
        "id": "QAj58zQOOR4n"
      },
      "source": [
        "for i in l_indices:\n",
        "    l_frutas[i] = 'Banana'\n",
        "    \n",
        "l_frutas"
      ],
      "execution_count": null,
      "outputs": []
    },
    {
      "cell_type": "markdown",
      "metadata": {
        "id": "Y_iPcauiO-Ay"
      },
      "source": [
        "**Missão cumprida**: todas as ocorrência do item 'Avocado' foram substituídos pelo item 'Banana'."
      ]
    },
    {
      "cell_type": "markdown",
      "metadata": {
        "id": "lbnV8sGopfLx"
      },
      "source": [
        "Mostrando quantos itens 'Banana' temos na lista:"
      ]
    },
    {
      "cell_type": "code",
      "metadata": {
        "id": "UQVmdJJYpiKk"
      },
      "source": [
        "l_frutas.count('Banana')"
      ],
      "execution_count": null,
      "outputs": []
    },
    {
      "cell_type": "markdown",
      "metadata": {
        "id": "vnT-VvRhP0y1"
      },
      "source": [
        "> Como eu disse anteriormente, o Python é muito versátil. Há várias formas de se resolver o mesmo problema!\n",
        "\n",
        "Portanto:\n",
        "\n",
        "> Resolva o problema. Depois, quando tiver tempo, otimize o processo!"
      ]
    },
    {
      "cell_type": "markdown",
      "metadata": {
        "id": "8mie8qFIQ3vi"
      },
      "source": [
        "___\n",
        "# **MEMBERSHIP**\n",
        "> Verificar se o item pertence à lista."
      ]
    },
    {
      "cell_type": "code",
      "metadata": {
        "id": "xUP_XQqXRD2j",
        "outputId": "6eb84293-fb8a-4984-d59a-ba427f0e1503",
        "colab": {
          "base_uri": "https://localhost:8080/",
          "height": 35
        }
      },
      "source": [
        "l_frutas = ['Apple', 'Avocado', 'Avocado', 'Orange', 'Lemon']\n",
        "l_frutas"
      ],
      "execution_count": null,
      "outputs": [
        {
          "output_type": "execute_result",
          "data": {
            "text/plain": [
              "['Apple', 'Avocado', 'Avocado', 'Orange', 'Lemon']"
            ]
          },
          "metadata": {
            "tags": []
          },
          "execution_count": 25
        }
      ]
    },
    {
      "cell_type": "code",
      "metadata": {
        "id": "OwE-XASRRJub",
        "outputId": "ff816df5-d2c6-4f73-c0ea-7cd5746442be",
        "colab": {
          "base_uri": "https://localhost:8080/",
          "height": 35
        }
      },
      "source": [
        "'Avocado' in l_frutas"
      ],
      "execution_count": null,
      "outputs": [
        {
          "output_type": "execute_result",
          "data": {
            "text/plain": [
              "True"
            ]
          },
          "metadata": {
            "tags": []
          },
          "execution_count": 27
        }
      ]
    },
    {
      "cell_type": "code",
      "metadata": {
        "id": "xQKD0pw8RM6x",
        "outputId": "6517e59b-3d84-45d3-e37a-53a2673ef729",
        "colab": {
          "base_uri": "https://localhost:8080/",
          "height": 35
        }
      },
      "source": [
        "'Blueberry' in l_frutas"
      ],
      "execution_count": null,
      "outputs": [
        {
          "output_type": "execute_result",
          "data": {
            "text/plain": [
              "False"
            ]
          },
          "metadata": {
            "tags": []
          },
          "execution_count": 28
        }
      ]
    },
    {
      "cell_type": "markdown",
      "metadata": {
        "id": "JCDICiEfFzLt"
      },
      "source": [
        "___\n",
        "# **ADICIONAR ITENS À LISTA (UM DE CADA VEZ)**"
      ]
    },
    {
      "cell_type": "markdown",
      "metadata": {
        "id": "Xt3BB3c07OuX"
      },
      "source": [
        "### Operador '+'"
      ]
    },
    {
      "cell_type": "code",
      "metadata": {
        "id": "sgexobFL7S-O",
        "outputId": "0b272fe2-55a9-4a20-da09-6988ae7934fc",
        "colab": {
          "base_uri": "https://localhost:8080/",
          "height": 35
        }
      },
      "source": [
        "l_frutas = ['Apple', 'Avocado', 'Orange', 'Lemon']\n",
        "l_frutas_adicionar = ['Apple', 'Blueberry', 'Kiwi']\n",
        "l_frutas = l_frutas + l_frutas_adicionar\n",
        "l_frutas"
      ],
      "execution_count": null,
      "outputs": [
        {
          "output_type": "execute_result",
          "data": {
            "text/plain": [
              "['Apple', 'Avocado', 'Orange', 'Lemon', 'Apple', 'Blueberry', 'Kiwi']"
            ]
          },
          "metadata": {
            "tags": []
          },
          "execution_count": 2
        }
      ]
    },
    {
      "cell_type": "markdown",
      "metadata": {
        "id": "zgu0lFrB7vZN"
      },
      "source": [
        "Observe que acrescentamos (facilmente) a lista l_frutas_adicionar ao final de l_frutas."
      ]
    },
    {
      "cell_type": "markdown",
      "metadata": {
        "id": "AZPQS_wlJiwd"
      },
      "source": [
        "## Método l_lista.append(novo_item)"
      ]
    },
    {
      "cell_type": "code",
      "metadata": {
        "id": "2MgjNl_klPzQ",
        "outputId": "2ca4e212-8d50-46ad-aa66-5e3e502f9b69",
        "colab": {
          "base_uri": "https://localhost:8080/",
          "height": 35
        }
      },
      "source": [
        "l_frutas = ['Apple', 'Avocado', 'Orange', 'Lemon']\n",
        "l_frutas"
      ],
      "execution_count": null,
      "outputs": [
        {
          "output_type": "execute_result",
          "data": {
            "text/plain": [
              "['Apple', 'Avocado', 'Orange', 'Lemon']"
            ]
          },
          "metadata": {
            "tags": []
          },
          "execution_count": 29
        }
      ]
    },
    {
      "cell_type": "code",
      "metadata": {
        "id": "2w7h0h2_T5nN",
        "outputId": "69b996a8-8b6e-4d74-e32e-1c9adaa1de3f",
        "colab": {
          "base_uri": "https://localhost:8080/",
          "height": 35
        }
      },
      "source": [
        "# Vamos adicionar mais uma ocorrência de 'Avocado' á nossa lista...\n",
        "l_frutas.append('Avocado')\n",
        "l_frutas"
      ],
      "execution_count": null,
      "outputs": [
        {
          "output_type": "execute_result",
          "data": {
            "text/plain": [
              "['Apple', 'Avocado', 'Orange', 'Lemon', 'Avocado']"
            ]
          },
          "metadata": {
            "tags": []
          },
          "execution_count": 30
        }
      ]
    },
    {
      "cell_type": "markdown",
      "metadata": {
        "id": "HTdjnd0dUFo3"
      },
      "source": [
        "Agora temos 2 ocorrências para o item 'Avocado'. Observe que o novo item foi acrescentado ao final da lista l_frutas."
      ]
    },
    {
      "cell_type": "code",
      "metadata": {
        "id": "-GMZYKhKpoTB",
        "outputId": "999b01d2-37d6-488b-d48a-012ae95331e7",
        "colab": {
          "base_uri": "https://localhost:8080/",
          "height": 35
        }
      },
      "source": [
        "l_frutas.count('Avocado')"
      ],
      "execution_count": null,
      "outputs": [
        {
          "output_type": "execute_result",
          "data": {
            "text/plain": [
              "2"
            ]
          },
          "metadata": {
            "tags": []
          },
          "execution_count": 31
        }
      ]
    },
    {
      "cell_type": "markdown",
      "metadata": {
        "id": "h1bwFpBQHe8_"
      },
      "source": [
        "___\n",
        "# **ADICIONAR MUITOS ITENS À LISTA**\n",
        "* Desta vez, vamos adicionar/acrescentar mais de 1 item à nossa lista. vamos acrescentar:\n",
        "    * More 2 Coconuts;\n",
        "    * More 3 Melons;\n",
        "    * More 4 Mandarin;\n",
        "    * More 6 Mango;\n",
        "    * More 10 Oranges;"
      ]
    },
    {
      "cell_type": "markdown",
      "metadata": {
        "id": "ja0eK11YMIb8"
      },
      "source": [
        "### Método l_lista.extend()"
      ]
    },
    {
      "cell_type": "code",
      "metadata": {
        "id": "ncmK6kzmyMnO",
        "outputId": "bf677cbb-5ed6-4ee6-b9c1-c909c9768de5",
        "colab": {
          "base_uri": "https://localhost:8080/",
          "height": 35
        }
      },
      "source": [
        "l_frutas = ['Apple', 'Avocado', 'Orange', 'Lemon']\n",
        "l_frutas"
      ],
      "execution_count": null,
      "outputs": [
        {
          "output_type": "execute_result",
          "data": {
            "text/plain": [
              "['Apple', 'Avocado', 'Orange', 'Lemon']"
            ]
          },
          "metadata": {
            "tags": []
          },
          "execution_count": 32
        }
      ]
    },
    {
      "cell_type": "code",
      "metadata": {
        "id": "tRGQa_sWMQ_w",
        "outputId": "fc4fae17-049f-4b93-9515-70b4d66936f1",
        "colab": {
          "base_uri": "https://localhost:8080/",
          "height": 35
        }
      },
      "source": [
        "l_frutas.extend(['Blueberry', 'Kiwi'])\n",
        "l_frutas"
      ],
      "execution_count": null,
      "outputs": [
        {
          "output_type": "execute_result",
          "data": {
            "text/plain": [
              "['Apple', 'Avocado', 'Orange', 'Lemon', 'Blueberry', 'Kiwi']"
            ]
          },
          "metadata": {
            "tags": []
          },
          "execution_count": 33
        }
      ]
    },
    {
      "cell_type": "markdown",
      "metadata": {
        "id": "26XCYWvaN9tl"
      },
      "source": [
        "Note que os novos itens 'Blueberry' e 'Kiwi' foram adicionados á lista."
      ]
    },
    {
      "cell_type": "code",
      "metadata": {
        "id": "nwa6BHljGFTB"
      },
      "source": [
        "l_frutas_adicionar = ['Coconuts','Coconuts', 'Melon','Melon','Melon','Mandarin','Mandarin','Mandarin','Mandarin','Mango','Mango','Mango','Mango','Mango','Mango', 'Orange','Orange','Orange','Orange','Orange','Orange','Orange','Orange','Orange','Orange']"
      ],
      "execution_count": null,
      "outputs": []
    },
    {
      "cell_type": "code",
      "metadata": {
        "id": "UV2kJG_MGeTj",
        "outputId": "e19b81e2-47e5-4f2f-def2-b4f73b836545",
        "colab": {
          "base_uri": "https://localhost:8080/",
          "height": 555
        }
      },
      "source": [
        "l_frutas.extend(l_frutas_adicionar)\n",
        "l_frutas"
      ],
      "execution_count": null,
      "outputs": [
        {
          "output_type": "execute_result",
          "data": {
            "text/plain": [
              "['Apple',\n",
              " 'Avocado',\n",
              " 'Orange',\n",
              " 'Lemon',\n",
              " 'Blueberry',\n",
              " 'Kiwi',\n",
              " 'Coconuts',\n",
              " 'Coconuts',\n",
              " 'Melon',\n",
              " 'Melon',\n",
              " 'Melon',\n",
              " 'Mandarin',\n",
              " 'Mandarin',\n",
              " 'Mandarin',\n",
              " 'Mandarin',\n",
              " 'Mango',\n",
              " 'Mango',\n",
              " 'Mango',\n",
              " 'Mango',\n",
              " 'Mango',\n",
              " 'Mango',\n",
              " 'Orange',\n",
              " 'Orange',\n",
              " 'Orange',\n",
              " 'Orange',\n",
              " 'Orange',\n",
              " 'Orange',\n",
              " 'Orange',\n",
              " 'Orange',\n",
              " 'Orange',\n",
              " 'Orange']"
            ]
          },
          "metadata": {
            "tags": []
          },
          "execution_count": 35
        }
      ]
    },
    {
      "cell_type": "code",
      "metadata": {
        "id": "3aAR5pf9HLU-"
      },
      "source": [
        "l_frutas.count('Orange')"
      ],
      "execution_count": null,
      "outputs": []
    },
    {
      "cell_type": "markdown",
      "metadata": {
        "id": "dOA7n9_i6oc0"
      },
      "source": [
        "## Diferença entre append() e extend()\n",
        "* Considere o exemplo a seguir:"
      ]
    },
    {
      "cell_type": "code",
      "metadata": {
        "id": "vESZVTVi7CJm",
        "outputId": "3ca7ce49-69c3-4e9b-fcd5-7e5a1bf59fe3",
        "colab": {
          "base_uri": "https://localhost:8080/",
          "height": 34
        }
      },
      "source": [
        "# Exemplo 1: append()\n",
        "l_letras = ['a','b']\n",
        "l_letras.append('c')\n",
        "l_letras"
      ],
      "execution_count": null,
      "outputs": [
        {
          "output_type": "execute_result",
          "data": {
            "text/plain": [
              "['a', 'b', 'c']"
            ]
          },
          "metadata": {
            "tags": []
          },
          "execution_count": 2
        }
      ]
    },
    {
      "cell_type": "code",
      "metadata": {
        "id": "0ZqkRlf47hn6",
        "outputId": "bba47e63-a472-4512-98e9-6a5921f4a964",
        "colab": {
          "base_uri": "https://localhost:8080/",
          "height": 34
        }
      },
      "source": [
        "# Exemplo 2: append()\n",
        "l_letras = ['a','b']\n",
        "l_letras.append(['c'])\n",
        "l_letras"
      ],
      "execution_count": null,
      "outputs": [
        {
          "output_type": "execute_result",
          "data": {
            "text/plain": [
              "['a', 'b', ['c']]"
            ]
          },
          "metadata": {
            "tags": []
          },
          "execution_count": 3
        }
      ]
    },
    {
      "cell_type": "code",
      "metadata": {
        "id": "MWqtNr8T7wMi",
        "outputId": "a69886cc-b472-4b07-c856-ffaa571cfb84",
        "colab": {
          "base_uri": "https://localhost:8080/",
          "height": 34
        }
      },
      "source": [
        "# Exemplo 3: extend()\n",
        "l_letras = ['a', 'b']\n",
        "l_letras.extend('c')\n",
        "l_letras"
      ],
      "execution_count": null,
      "outputs": [
        {
          "output_type": "execute_result",
          "data": {
            "text/plain": [
              "['a', 'b', 'c']"
            ]
          },
          "metadata": {
            "tags": []
          },
          "execution_count": 4
        }
      ]
    },
    {
      "cell_type": "code",
      "metadata": {
        "id": "4qQym2GM76ou",
        "outputId": "7eec7237-0a19-4c1b-86c6-2c3b18b70175",
        "colab": {
          "base_uri": "https://localhost:8080/",
          "height": 34
        }
      },
      "source": [
        "# Exemplo 4: extend()\n",
        "l_letras = ['a','b']\n",
        "l_letras.extend(['c'])\n",
        "l_letras"
      ],
      "execution_count": null,
      "outputs": [
        {
          "output_type": "execute_result",
          "data": {
            "text/plain": [
              "['a', 'b', 'c']"
            ]
          },
          "metadata": {
            "tags": []
          },
          "execution_count": 5
        }
      ]
    },
    {
      "cell_type": "markdown",
      "metadata": {
        "id": "7CpjGgpv8DO4"
      },
      "source": [
        "Compare os exemplos 1 com 3 e 2 com 4. Qual a diferença?"
      ]
    },
    {
      "cell_type": "markdown",
      "metadata": {
        "id": "8-qaJkh-UoFX"
      },
      "source": [
        "___\n",
        "# **REMOVER ITENS DA LISTA**\n",
        "* l_lista.remove(item) procura pela primeira ocorrência de item e então o remove. \n",
        "\n",
        "> **Atenção**: A função retorna ValueError caso o elemento não pertença à lista. Portanto, primeiro verifique se o item pertence á lista usando \"in\"."
      ]
    },
    {
      "cell_type": "code",
      "metadata": {
        "id": "1d2oL5AWVdqo",
        "outputId": "9cc58079-c914-4277-801a-c2db2a64a37b",
        "colab": {
          "base_uri": "https://localhost:8080/",
          "height": 35
        }
      },
      "source": [
        "l_frutas = ['Apple', 'Avocado', 'Avocado', 'Orange', 'Lemon']\n",
        "l_frutas"
      ],
      "execution_count": null,
      "outputs": [
        {
          "output_type": "execute_result",
          "data": {
            "text/plain": [
              "['Apple', 'Avocado', 'Avocado', 'Orange', 'Lemon']"
            ]
          },
          "metadata": {
            "tags": []
          },
          "execution_count": 36
        }
      ]
    },
    {
      "cell_type": "markdown",
      "metadata": {
        "id": "8fHgLVWIVhHz"
      },
      "source": [
        "Suponha que queremos remover o item 'Avocado'..."
      ]
    },
    {
      "cell_type": "code",
      "metadata": {
        "id": "gka71cYTVljB",
        "outputId": "4bffc448-96a4-4959-92e1-28148c5fd284",
        "colab": {
          "base_uri": "https://localhost:8080/",
          "height": 35
        }
      },
      "source": [
        "# Remove a primeira ocorrência do item.\n",
        "l_frutas.remove('Avocado')\n",
        "l_frutas"
      ],
      "execution_count": null,
      "outputs": [
        {
          "output_type": "execute_result",
          "data": {
            "text/plain": [
              "['Apple', 'Avocado', 'Orange', 'Lemon']"
            ]
          },
          "metadata": {
            "tags": []
          },
          "execution_count": 37
        }
      ]
    },
    {
      "cell_type": "markdown",
      "metadata": {
        "id": "bZz77jK1Vszw"
      },
      "source": [
        "dado que temos 2 ocorrências para o item 'Avocado', a função removeu a primeira ocorrência."
      ]
    },
    {
      "cell_type": "markdown",
      "metadata": {
        "id": "LipQNt0PW7_-"
      },
      "source": [
        "___\n",
        "# **CONTAR ITENS DA LISTA**"
      ]
    },
    {
      "cell_type": "code",
      "metadata": {
        "id": "lnJehXcEXQ6-"
      },
      "source": [
        "# Lista de frutas:\n",
        "l_frutas= ['Apple','Watermelon','Orange','Pear','Cherry','Strawberry','Nectarine','Grape',\n",
        "'Mango','Blueberry','Pomegranate','Carambola','Plum','Banana','Raspberry','Mandarin','Jackfruit',\n",
        "'Papaya','Kiwi','Pineapple','Lime','Lemon','Apricot','Grapefruit','Melon','Coconut','Avocado','Peach']"
      ],
      "execution_count": null,
      "outputs": []
    },
    {
      "cell_type": "markdown",
      "metadata": {
        "id": "k4swOzdQYDq2"
      },
      "source": [
        "## Challenge\n",
        "* desenvolver uma função que retorne a frequência de um dado item."
      ]
    },
    {
      "cell_type": "code",
      "metadata": {
        "id": "CX8M7yz9rfTK",
        "outputId": "d984799f-4f08-4f4e-ddf5-d8fb32ec40f8",
        "colab": {
          "base_uri": "https://localhost:8080/",
          "height": 35
        }
      },
      "source": [
        "l_frutas = ['Apple', 'Avocado', 'Avocado', 'Orange', 'Lemon']\n",
        "l_frutas"
      ],
      "execution_count": null,
      "outputs": [
        {
          "output_type": "execute_result",
          "data": {
            "text/plain": [
              "['Apple', 'Avocado', 'Avocado', 'Orange', 'Lemon']"
            ]
          },
          "metadata": {
            "tags": []
          },
          "execution_count": 41
        }
      ]
    },
    {
      "cell_type": "code",
      "metadata": {
        "id": "gTYHoZNdYZKV"
      },
      "source": [
        "def frequencia(elemento, l_lista):\n",
        "    if elemento not in l_lista:\n",
        "        print(\"Esta fruta não está na lista\")\n",
        "    else:\n",
        "        return l_lista.count(elemento)       "
      ],
      "execution_count": null,
      "outputs": []
    },
    {
      "cell_type": "code",
      "metadata": {
        "id": "w976P6ZNY5Gh",
        "outputId": "f30b12c5-a44c-4026-e1c0-109c90503336",
        "colab": {
          "base_uri": "https://localhost:8080/",
          "height": 35
        }
      },
      "source": [
        "frequencia('Orange', l_frutas)"
      ],
      "execution_count": null,
      "outputs": [
        {
          "output_type": "execute_result",
          "data": {
            "text/plain": [
              "11"
            ]
          },
          "metadata": {
            "tags": []
          },
          "execution_count": 43
        }
      ]
    },
    {
      "cell_type": "code",
      "metadata": {
        "id": "mRO7iGgfZEsP",
        "outputId": "471c3fb1-6219-462a-ffe2-e25a115203b1",
        "colab": {
          "base_uri": "https://localhost:8080/",
          "height": 35
        }
      },
      "source": [
        "frequencia('Abracadabra', l_frutas)"
      ],
      "execution_count": null,
      "outputs": [
        {
          "output_type": "stream",
          "text": [
            "Esta fruta não está na lista\n"
          ],
          "name": "stdout"
        }
      ]
    },
    {
      "cell_type": "markdown",
      "metadata": {
        "id": "iJcKp8cVsGFV"
      },
      "source": [
        "## Frequência dos itens de uma lista"
      ]
    },
    {
      "cell_type": "code",
      "metadata": {
        "id": "M_GRKmjPsJLg"
      },
      "source": [
        "# Função para calcular a frequência dos itens\n",
        "def Freq_Frutas(l_lista):    \n",
        "    set_Frutas = set(l_lista) # Conjunto dos elementos únicos da lista    \n",
        "    for item in set_Frutas: \n",
        "        freq= l_lista.count(item)\n",
        "        print(f'{item}: {freq}')"
      ],
      "execution_count": null,
      "outputs": []
    },
    {
      "cell_type": "code",
      "metadata": {
        "id": "OO6RIJNFsyQm",
        "outputId": "9dada4c2-cca6-4549-e643-ebef52f0d6c2",
        "colab": {
          "base_uri": "https://localhost:8080/",
          "height": 35
        }
      },
      "source": [
        "l_frutas = ['Apple', 'Avocado', 'Avocado', 'Orange', 'Lemon']\n",
        "l_frutas"
      ],
      "execution_count": null,
      "outputs": [
        {
          "output_type": "execute_result",
          "data": {
            "text/plain": [
              "['Apple', 'Avocado', 'Avocado', 'Orange', 'Lemon']"
            ]
          },
          "metadata": {
            "tags": []
          },
          "execution_count": 46
        }
      ]
    },
    {
      "cell_type": "code",
      "metadata": {
        "id": "j2D3_7iWs4tF",
        "outputId": "07eea5fe-bff4-4ed1-ee8d-93ff834d7684",
        "colab": {
          "base_uri": "https://localhost:8080/",
          "height": 87
        }
      },
      "source": [
        "Freq_Frutas(l_frutas) "
      ],
      "execution_count": null,
      "outputs": [
        {
          "output_type": "stream",
          "text": [
            "Orange: 1\n",
            "Avocado: 2\n",
            "Lemon: 1\n",
            "Apple: 1\n"
          ],
          "name": "stdout"
        }
      ]
    },
    {
      "cell_type": "markdown",
      "metadata": {
        "id": "proySjx4V_vV"
      },
      "source": [
        "___\n",
        "# **ORDENAR ITENS DA LISTA**\n",
        "> Para ordenar itens, prefira a função sorted()."
      ]
    },
    {
      "cell_type": "code",
      "metadata": {
        "id": "FezitqAfWTV_",
        "outputId": "6de28789-9a12-4548-863b-c41290900418",
        "colab": {
          "base_uri": "https://localhost:8080/",
          "height": 35
        }
      },
      "source": [
        "l_frutas = ['Apple', 'Avocado', 'Avocado', 'Orange', 'Lemon']\n",
        "l_frutas"
      ],
      "execution_count": null,
      "outputs": [
        {
          "output_type": "execute_result",
          "data": {
            "text/plain": [
              "['Apple', 'Avocado', 'Avocado', 'Orange', 'Lemon']"
            ]
          },
          "metadata": {
            "tags": []
          },
          "execution_count": 71
        }
      ]
    },
    {
      "cell_type": "markdown",
      "metadata": {
        "id": "y3X6DegiWrtt"
      },
      "source": [
        "## Ordem ascendente"
      ]
    },
    {
      "cell_type": "code",
      "metadata": {
        "id": "qoBIdA0kWhJg",
        "outputId": "b092b792-f2b5-4f51-a074-24742632650c",
        "colab": {
          "base_uri": "https://localhost:8080/",
          "height": 35
        }
      },
      "source": [
        "sorted(l_frutas)"
      ],
      "execution_count": null,
      "outputs": [
        {
          "output_type": "execute_result",
          "data": {
            "text/plain": [
              "['Apple', 'Avocado', 'Avocado', 'Lemon', 'Orange']"
            ]
          },
          "metadata": {
            "tags": []
          },
          "execution_count": 72
        }
      ]
    },
    {
      "cell_type": "markdown",
      "metadata": {
        "id": "CYlBRb0PWwW4"
      },
      "source": [
        "## Ordem descendente"
      ]
    },
    {
      "cell_type": "code",
      "metadata": {
        "id": "V2ZSxvsgWzSG",
        "outputId": "7bfd19d1-1345-474c-daa0-ff6d0056e1d1",
        "colab": {
          "base_uri": "https://localhost:8080/",
          "height": 35
        }
      },
      "source": [
        "sorted(l_frutas, reverse= True)"
      ],
      "execution_count": null,
      "outputs": [
        {
          "output_type": "execute_result",
          "data": {
            "text/plain": [
              "['Orange', 'Lemon', 'Avocado', 'Avocado', 'Apple']"
            ]
          },
          "metadata": {
            "tags": []
          },
          "execution_count": 73
        }
      ]
    },
    {
      "cell_type": "markdown",
      "metadata": {
        "id": "b6IrLxSyGsIy"
      },
      "source": [
        "___\n",
        "# **FILTRAR ITENS DA LISTA**\n",
        "> Usando filter()"
      ]
    },
    {
      "cell_type": "code",
      "metadata": {
        "id": "TaA6yK_TIFYR"
      },
      "source": [
        "# Função para filtrar vogais\n",
        "def filtra_vogais(letras):\n",
        "    l_vogais_filtrar = ['a', 'e', 'i', 'o', 'u']\n",
        "\n",
        "    if(letras in l_vogais_filtrar):\n",
        "        return True\n",
        "    else:\n",
        "        return False"
      ],
      "execution_count": null,
      "outputs": []
    },
    {
      "cell_type": "code",
      "metadata": {
        "id": "e5ajH9YEIHnl"
      },
      "source": [
        "l_alfabeto = ['a', 'b', 'd', 'e', 'i', 'j', 'o']"
      ],
      "execution_count": null,
      "outputs": []
    },
    {
      "cell_type": "code",
      "metadata": {
        "id": "pcZjQe6eG3U9",
        "outputId": "c128510f-2d55-4df2-bb29-b602e995c37b",
        "colab": {
          "base_uri": "https://localhost:8080/",
          "height": 35
        }
      },
      "source": [
        "l_vogais_filtradas = filter(filtra_vogais, l_alfabeto)\n",
        "list(l_vogais_filtradas)"
      ],
      "execution_count": null,
      "outputs": [
        {
          "output_type": "execute_result",
          "data": {
            "text/plain": [
              "['a', 'e', 'i', 'o']"
            ]
          },
          "metadata": {
            "tags": []
          },
          "execution_count": 67
        }
      ]
    },
    {
      "cell_type": "markdown",
      "metadata": {
        "id": "RZZgSc7ulecy"
      },
      "source": [
        "# Itertools"
      ]
    },
    {
      "cell_type": "markdown",
      "metadata": {
        "id": "WkoAguVKmnxX"
      },
      "source": [
        "## Determinar o item mais frequente de uma lista\n",
        "* O objetivo é retornar o item mais frequente da lista."
      ]
    },
    {
      "cell_type": "code",
      "metadata": {
        "id": "aWBNRZxhlvTY"
      },
      "source": [
        "l_palavras = ['look', 'into', 'my', 'eyes', 'look', 'into', 'my', 'eyes',\n",
        "'the', 'eyes', 'the', 'eyes', 'the', 'eyes', 'not', 'around', 'the',\n",
        "'eyes', \"don't\", 'look', 'around', 'the', 'eyes', 'look', 'into',\n",
        "'my', 'eyes', \"you're\", 'under']"
      ],
      "execution_count": null,
      "outputs": []
    },
    {
      "cell_type": "code",
      "metadata": {
        "id": "UtS9e6b9l1J3"
      },
      "source": [
        "# Library do Python que lida com contagens:\n",
        "from collections import Counter"
      ],
      "execution_count": null,
      "outputs": []
    },
    {
      "cell_type": "code",
      "metadata": {
        "id": "qp-6RNmVmAWu",
        "outputId": "1f7bd8f1-6421-49ba-9b18-b0c1535d6d36",
        "colab": {
          "base_uri": "https://localhost:8080/",
          "height": 191
        }
      },
      "source": [
        "word_counts = Counter(l_palavras)\n",
        "word_counts"
      ],
      "execution_count": null,
      "outputs": [
        {
          "output_type": "execute_result",
          "data": {
            "text/plain": [
              "Counter({'around': 2,\n",
              "         \"don't\": 1,\n",
              "         'eyes': 8,\n",
              "         'into': 3,\n",
              "         'look': 4,\n",
              "         'my': 3,\n",
              "         'not': 1,\n",
              "         'the': 5,\n",
              "         'under': 1,\n",
              "         \"you're\": 1})"
            ]
          },
          "metadata": {
            "tags": []
          },
          "execution_count": 71
        }
      ]
    },
    {
      "cell_type": "code",
      "metadata": {
        "id": "uOIbMW0zmF8u",
        "outputId": "42653bbf-338f-480d-92bf-03733150bd00",
        "colab": {
          "base_uri": "https://localhost:8080/",
          "height": 35
        }
      },
      "source": [
        "top_three = word_counts.most_common(3)\n",
        "print(top_three)"
      ],
      "execution_count": null,
      "outputs": [
        {
          "output_type": "stream",
          "text": [
            "[('eyes', 8), ('the', 5), ('look', 4)]\n"
          ],
          "name": "stdout"
        }
      ]
    },
    {
      "cell_type": "markdown",
      "metadata": {
        "id": "MWiuq4r-mL0h"
      },
      "source": [
        "Agora suponha acrescentar novas palavras á nossa lista:"
      ]
    },
    {
      "cell_type": "code",
      "metadata": {
        "id": "tXvTwDSimMk0"
      },
      "source": [
        "l_palavras_Add = ['why','are','you','not','looking','in','my','eyes']"
      ],
      "execution_count": null,
      "outputs": []
    },
    {
      "cell_type": "code",
      "metadata": {
        "id": "dbl1tcs7mVXO"
      },
      "source": [
        "word_counts.update(l_palavras_Add)"
      ],
      "execution_count": null,
      "outputs": []
    },
    {
      "cell_type": "code",
      "metadata": {
        "id": "xUFc2lP1mYX2",
        "outputId": "419efe0f-e765-481d-e74e-b75eb847fce3",
        "colab": {
          "base_uri": "https://localhost:8080/",
          "height": 277
        }
      },
      "source": [
        "word_counts"
      ],
      "execution_count": null,
      "outputs": [
        {
          "output_type": "execute_result",
          "data": {
            "text/plain": [
              "Counter({'are': 1,\n",
              "         'around': 2,\n",
              "         \"don't\": 1,\n",
              "         'eyes': 9,\n",
              "         'in': 1,\n",
              "         'into': 3,\n",
              "         'look': 4,\n",
              "         'looking': 1,\n",
              "         'my': 4,\n",
              "         'not': 2,\n",
              "         'the': 5,\n",
              "         'under': 1,\n",
              "         'why': 1,\n",
              "         'you': 1,\n",
              "         \"you're\": 1})"
            ]
          },
          "metadata": {
            "tags": []
          },
          "execution_count": 75
        }
      ]
    },
    {
      "cell_type": "code",
      "metadata": {
        "id": "HVe7WOPQmfr5",
        "outputId": "d4f04b42-abb5-4053-c717-ef3aec0779af",
        "colab": {
          "base_uri": "https://localhost:8080/",
          "height": 35
        }
      },
      "source": [
        "top_three = word_counts.most_common(3)\n",
        "print(top_three)"
      ],
      "execution_count": null,
      "outputs": [
        {
          "output_type": "stream",
          "text": [
            "[('eyes', 9), ('the', 5), ('look', 4)]\n"
          ],
          "name": "stdout"
        }
      ]
    },
    {
      "cell_type": "markdown",
      "metadata": {
        "id": "vvTFdWnl6nWE"
      },
      "source": [
        "___\n",
        "# **EXERCÍCIOS**"
      ]
    },
    {
      "cell_type": "markdown",
      "metadata": {
        "id": "x7YlsfgF15Do"
      },
      "source": [
        "## Exercício 1\n",
        "* Gerar aleatoriamente 6 números aleatorios inteiros e sem repetição entre 1 e 61."
      ]
    },
    {
      "cell_type": "markdown",
      "metadata": {
        "id": "as9o3sQy7PCm"
      },
      "source": [
        "### Minha solução"
      ]
    },
    {
      "cell_type": "code",
      "metadata": {
        "id": "WrJr2G9_2waG",
        "outputId": "98a48c02-d9a6-412e-aa2f-aff06c0747d6",
        "colab": {
          "base_uri": "https://localhost:8080/",
          "height": 54
        }
      },
      "source": [
        "l_lista_numeros = range(1,61)\n",
        "print(list(l_lista_numeros))"
      ],
      "execution_count": null,
      "outputs": [
        {
          "output_type": "stream",
          "text": [
            "[1, 2, 3, 4, 5, 6, 7, 8, 9, 10, 11, 12, 13, 14, 15, 16, 17, 18, 19, 20, 21, 22, 23, 24, 25, 26, 27, 28, 29, 30, 31, 32, 33, 34, 35, 36, 37, 38, 39, 40, 41, 42, 43, 44, 45, 46, 47, 48, 49, 50, 51, 52, 53, 54, 55, 56, 57, 58, 59, 60]\n"
          ],
          "name": "stdout"
        }
      ]
    },
    {
      "cell_type": "markdown",
      "metadata": {
        "id": "I8c1vvkS2_tz"
      },
      "source": [
        "E agora, queremos selecionar 6 números aleatoriamente dessa lista. Como fazemos isso?"
      ]
    },
    {
      "cell_type": "markdown",
      "metadata": {
        "id": "25E8_Q_A80lS"
      },
      "source": [
        "#### random.choice()\n",
        "* Versão do Python < 3.6."
      ]
    },
    {
      "cell_type": "code",
      "metadata": {
        "id": "qBVnmRpP3Fi6"
      },
      "source": [
        "import random"
      ],
      "execution_count": null,
      "outputs": []
    },
    {
      "cell_type": "code",
      "metadata": {
        "id": "glIJwrBp3UsC"
      },
      "source": [
        "l_Meus_Numeros = []\n",
        "\n",
        "random.seed(20111974)\n",
        "# selecionando números aleatórios a partir de l_lista_numeros\n",
        "while len(l_Meus_Numeros) <= 5:\n",
        "\tl_Meus_Numeros.append(random.choice(l_lista_numeros))\n",
        "    \n",
        "print(l_Meus_Numeros)"
      ],
      "execution_count": null,
      "outputs": []
    },
    {
      "cell_type": "markdown",
      "metadata": {
        "id": "1_x60bfb88IL"
      },
      "source": [
        "#### random.choices()\n",
        "> Versão do Python > 3.6."
      ]
    },
    {
      "cell_type": "code",
      "metadata": {
        "id": "JPJjQb4u7zSZ"
      },
      "source": [
        "random.seed(20111974)\n",
        "l_Meus_Numeros = random.choices(l_lista_numeros, k= 6)\n",
        "print(l_Meus_Numeros)"
      ],
      "execution_count": null,
      "outputs": []
    },
    {
      "cell_type": "markdown",
      "metadata": {
        "id": "yAWxw3OZ8u64"
      },
      "source": [
        "#### random.sample()"
      ]
    },
    {
      "cell_type": "code",
      "metadata": {
        "id": "rQCVpEp35ieW"
      },
      "source": [
        "random.seed(20111974)\n",
        "l_Meus_Numeros = random.sample(l_lista_numeros, 6)\n",
        "print(l_Meus_Numeros)"
      ],
      "execution_count": null,
      "outputs": []
    },
    {
      "cell_type": "markdown",
      "metadata": {
        "id": "WgbdAhek7fGV"
      },
      "source": [
        "#### Usando a Library numpy"
      ]
    },
    {
      "cell_type": "code",
      "metadata": {
        "id": "PAHF4Ddh7qh2"
      },
      "source": [
        "import numpy as np\n",
        "\n",
        "np.random.seed(20111974)\n",
        "l_Meus_Numeros = np.random.choice(l_lista_numeros, 6)\n",
        "print(l_Meus_Numeros)"
      ],
      "execution_count": null,
      "outputs": []
    },
    {
      "cell_type": "markdown",
      "metadata": {
        "id": "jLBsEkW34qBX"
      },
      "source": [
        "... E assim, desenvolvemos nosso gerador de números aleatórios para a Mega sena. Se alguém ganhar, por favor me paguem meus 10% de direitos autorais, ok?"
      ]
    },
    {
      "cell_type": "markdown",
      "metadata": {
        "id": "k3ItsO_qDooN"
      },
      "source": [
        "## Exercício 2 - Selecionar itens baseados em frequência\n",
        "* Uma urna contem 10 frutas, com as respectivas chances de serem selecionadas:\n",
        "\n",
        "| Frutas | Prob |\n",
        "|-------|------|\n",
        "| Apple | 4/10 |\n",
        "| Orange | 3/10 |\n",
        "| Avocado | 2/10 |\n",
        "| Lemon | 1/10 |\n",
        "\n",
        "* O Experimento é retirar 3 frutas aleatoriamente da urna."
      ]
    },
    {
      "cell_type": "markdown",
      "metadata": {
        "id": "SlWonrPV3rHh"
      },
      "source": [
        "### Minha solução"
      ]
    },
    {
      "cell_type": "markdown",
      "metadata": {
        "id": "k4rS2h_gKbg6"
      },
      "source": [
        "#### 1st Approach\n",
        "* Replicar os itens pelo número de vezes em que ele aparece."
      ]
    },
    {
      "cell_type": "markdown",
      "metadata": {
        "id": "ap_MHD_sDxIJ"
      },
      "source": [
        "Considere o seguinte exemplo:"
      ]
    },
    {
      "cell_type": "code",
      "metadata": {
        "id": "xxhJdheOD_2C",
        "outputId": "8646be71-6269-477a-f2c6-6cd7197bd5a0",
        "colab": {
          "base_uri": "https://localhost:8080/",
          "height": 187
        }
      },
      "source": [
        "l_frutas = ['Apple', 'Apple', 'Apple', 'Apple', 'Orange', 'Orange', 'Orange', 'Avocado', 'Avocado', 'Lemon']\n",
        "l_frutas"
      ],
      "execution_count": null,
      "outputs": [
        {
          "output_type": "execute_result",
          "data": {
            "text/plain": [
              "['Apple',\n",
              " 'Apple',\n",
              " 'Apple',\n",
              " 'Apple',\n",
              " 'Orange',\n",
              " 'Orange',\n",
              " 'Orange',\n",
              " 'Avocado',\n",
              " 'Avocado',\n",
              " 'Lemon']"
            ]
          },
          "metadata": {
            "tags": []
          },
          "execution_count": 2
        }
      ]
    },
    {
      "cell_type": "code",
      "metadata": {
        "id": "5Np_N2XlElDQ",
        "outputId": "68a572fd-eb8e-42b9-9fc5-e906be6a8dd8",
        "colab": {
          "base_uri": "https://localhost:8080/",
          "height": 34
        }
      },
      "source": [
        "# Selecionar aleatoriamente 3 frutas da lista - usando numpy\n",
        "import numpy as np\n",
        "\n",
        "np.random.seed(20111974)\n",
        "l_frutas_Selecionadas = np.random.choice(l_frutas, 3)\n",
        "l_frutas_Selecionadas"
      ],
      "execution_count": null,
      "outputs": [
        {
          "output_type": "execute_result",
          "data": {
            "text/plain": [
              "array(['Avocado', 'Avocado', 'Apple'], dtype='<U7')"
            ]
          },
          "metadata": {
            "tags": []
          },
          "execution_count": 6
        }
      ]
    },
    {
      "cell_type": "markdown",
      "metadata": {
        "id": "26ScdeE5Kx8E"
      },
      "source": [
        "#### 2nd Approach\n",
        "* Use a frequência dos itens (esse é o jeito mais fácil)"
      ]
    },
    {
      "cell_type": "code",
      "metadata": {
        "id": "tZXMJga7K4bZ",
        "outputId": "a060b80b-42f1-479a-c25f-6f7ebb84dc39",
        "colab": {
          "base_uri": "https://localhost:8080/",
          "height": 34
        }
      },
      "source": [
        "# Solução usando random.sample\n",
        "import random\n",
        "\n",
        "set_Frutas = list(set(l_frutas))\n",
        "l_frutas_pesos = [4/10, 3/10, 2/10, 1/10]\n",
        "\n",
        "l_frutas_Selecionadas = random.choices(population = set_Frutas, k = 3, weights = l_frutas_pesos)\n",
        "l_frutas_Selecionadas"
      ],
      "execution_count": null,
      "outputs": [
        {
          "output_type": "execute_result",
          "data": {
            "text/plain": [
              "['Apple', 'Apple', 'Lemon']"
            ]
          },
          "metadata": {
            "tags": []
          },
          "execution_count": 15
        }
      ]
    },
    {
      "cell_type": "markdown",
      "metadata": {
        "id": "OgffIVr-glkH"
      },
      "source": [
        "## Exercício 3\n",
        "* É possível sortear os itens de uma lista? Explique sua resposta."
      ]
    },
    {
      "cell_type": "markdown",
      "metadata": {
        "id": "D91bzmuyw07_"
      },
      "source": [
        "## Exercício 4\n",
        "Consulte a página [Python Data Type: List - Exercises, Practice, Solution](https://www.w3resource.com/python-exercises/list/) para mais exercícios relacionados á list."
      ]
    },
    {
      "cell_type": "code",
      "metadata": {
        "id": "Dc0-UshhgrDG"
      },
      "source": [
        ""
      ],
      "execution_count": null,
      "outputs": []
    }
  ]
}