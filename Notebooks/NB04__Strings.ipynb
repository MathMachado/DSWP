{
  "nbformat": 4,
  "nbformat_minor": 0,
  "metadata": {
    "colab": {
      "name": "PythonLab.ipynb",
      "provenance": [],
      "collapsed_sections": [
        "n8BIbzQbNWUo",
        "7eS94uQ4NhVR",
        "SYOgJpGYVLUu",
        "CaHFxk98W5if",
        "ReWUyWiHXCnc",
        "CqszHxaKHr2h",
        "tXgF1Wl9gHKY",
        "Fotx7XUquAo8",
        "36kmLUYDvsUI",
        "SWO2GdNovxAp",
        "vpN54l4vxze5",
        "u4HOf9SNytSq",
        "6BQ9oZiD9hg5",
        "tz5-QdrX9vct",
        "p1muBgMX8NK4",
        "FxTC2-U88ajk",
        "z8EYn0pP25Rh"
      ],
      "include_colab_link": true
    },
    "kernelspec": {
      "name": "python3",
      "display_name": "Python 3"
    },
    "accelerator": "GPU"
  },
  "cells": [
    {
      "cell_type": "markdown",
      "metadata": {
        "id": "view-in-github",
        "colab_type": "text"
      },
      "source": [
        "<a href=\"https://colab.research.google.com/github/MathMachado/DSWP/blob/master/Notebooks/NB04__Strings.ipynb\" target=\"_parent\"><img src=\"https://colab.research.google.com/assets/colab-badge.svg\" alt=\"Open In Colab\"/></a>"
      ]
    },
    {
      "cell_type": "markdown",
      "metadata": {
        "id": "Gbziy0R0PRtA",
        "colab_type": "text"
      },
      "source": [
        "# **Notas & observações**"
      ]
    },
    {
      "cell_type": "markdown",
      "metadata": {
        "id": "sjF60sU5RJrw",
        "colab_type": "text"
      },
      "source": [
        "___\n",
        "# **Agenda**:\n",
        "> Nesta capítulo, vamos falar sobre:\n",
        "\n",
        "* Strings\n",
        "* Formatar Strings\n",
        "* Manipular Strings\n",
        "* Wrap Up\n",
        "* Exercícios"
      ]
    },
    {
      "cell_type": "markdown",
      "metadata": {
        "id": "pKC1CJJggtQC",
        "colab_type": "text"
      },
      "source": [
        "___\n",
        "# **Strings**\n",
        "* Strings são sequência de caracteres entre aspas (duplas ou simples);\n",
        "* Variáveis strings são imutáveis. Isso quer dizer que o valor de uma variável string não pode ser modificada ao longo do código."
      ]
    },
    {
      "cell_type": "code",
      "metadata": {
        "id": "pEm76z8IxFHt",
        "colab_type": "code",
        "colab": {}
      },
      "source": [
        "s_A= 'Strings são imutaveis.'"
      ],
      "execution_count": 0,
      "outputs": []
    },
    {
      "cell_type": "code",
      "metadata": {
        "id": "duPYy_N6xO_4",
        "colab_type": "code",
        "outputId": "3b827888-e249-4fc0-a577-c5140df86722",
        "colab": {
          "base_uri": "https://localhost:8080/",
          "height": 35
        }
      },
      "source": [
        "# Endereço de memória da string s_A:\n",
        "id(s_A)"
      ],
      "execution_count": 0,
      "outputs": [
        {
          "output_type": "execute_result",
          "data": {
            "text/plain": [
              "140644014339344"
            ]
          },
          "metadata": {
            "tags": []
          },
          "execution_count": 8
        }
      ]
    },
    {
      "cell_type": "code",
      "metadata": {
        "id": "Um4nNkaJxoSH",
        "colab_type": "code",
        "outputId": "6c1d6a94-69a8-4380-8da0-58b8191ab04c",
        "colab": {
          "base_uri": "https://localhost:8080/",
          "height": 35
        }
      },
      "source": [
        "# Mostrando partes da string s_A:\n",
        "s_A[21]"
      ],
      "execution_count": 0,
      "outputs": [
        {
          "output_type": "execute_result",
          "data": {
            "text/plain": [
              "'.'"
            ]
          },
          "metadata": {
            "tags": []
          },
          "execution_count": 9
        }
      ]
    },
    {
      "cell_type": "markdown",
      "metadata": {
        "id": "9wOJBaWnyB8z",
        "colab_type": "text"
      },
      "source": [
        "Vamos tentar alterar o conteúdo de s_A[21] para \"!\"..."
      ]
    },
    {
      "cell_type": "code",
      "metadata": {
        "id": "jHXDVlACxr3O",
        "colab_type": "code",
        "outputId": "fbffec5c-ade9-4e2c-afb0-123da2bc2141",
        "colab": {
          "base_uri": "https://localhost:8080/",
          "height": 166
        }
      },
      "source": [
        "s_A[21]= '!' "
      ],
      "execution_count": 0,
      "outputs": [
        {
          "output_type": "error",
          "ename": "TypeError",
          "evalue": "ignored",
          "traceback": [
            "\u001b[0;31m---------------------------------------------------------------------------\u001b[0m",
            "\u001b[0;31mTypeError\u001b[0m                                 Traceback (most recent call last)",
            "\u001b[0;32m<ipython-input-10-837bac737291>\u001b[0m in \u001b[0;36m<module>\u001b[0;34m()\u001b[0m\n\u001b[0;32m----> 1\u001b[0;31m \u001b[0ms_A\u001b[0m\u001b[0;34m[\u001b[0m\u001b[0;36m21\u001b[0m\u001b[0;34m]\u001b[0m\u001b[0;34m=\u001b[0m \u001b[0;34m'!'\u001b[0m\u001b[0;34m\u001b[0m\u001b[0;34m\u001b[0m\u001b[0m\n\u001b[0m",
            "\u001b[0;31mTypeError\u001b[0m: 'str' object does not support item assignment"
          ]
        }
      ]
    },
    {
      "cell_type": "markdown",
      "metadata": {
        "id": "nIa76RSCyN4x",
        "colab_type": "text"
      },
      "source": [
        "Ou seja, não podemos alterar o valor de S_A."
      ]
    },
    {
      "cell_type": "code",
      "metadata": {
        "id": "aXzrRV37x8om",
        "colab_type": "code",
        "outputId": "5f977ba0-b8c8-478c-c176-4d53d458de3d",
        "colab": {
          "base_uri": "https://localhost:8080/",
          "height": 35
        }
      },
      "source": [
        "s_A"
      ],
      "execution_count": 0,
      "outputs": [
        {
          "output_type": "execute_result",
          "data": {
            "text/plain": [
              "'Strings são imutaveis.'"
            ]
          },
          "metadata": {
            "tags": []
          },
          "execution_count": 11
        }
      ]
    },
    {
      "cell_type": "code",
      "metadata": {
        "id": "z7rsW-bvxSzY",
        "colab_type": "code",
        "outputId": "98937893-9567-45f2-a824-e7fde05b49c1",
        "colab": {
          "base_uri": "https://localhost:8080/",
          "height": 35
        }
      },
      "source": [
        "# Mas se fizermos...\n",
        "s_A= s_A + ' Portanto, não podemos alterar o valor ao longo do programa.'\n",
        "s_A"
      ],
      "execution_count": 0,
      "outputs": [
        {
          "output_type": "execute_result",
          "data": {
            "text/plain": [
              "'Strings são imutaveis. Portanto, não podemos alterar o valor ao longo do programa.'"
            ]
          },
          "metadata": {
            "tags": []
          },
          "execution_count": 12
        }
      ]
    },
    {
      "cell_type": "code",
      "metadata": {
        "id": "Tg0ilTyLxg9h",
        "colab_type": "code",
        "outputId": "34767503-d89f-40ea-ba0d-83498251caba",
        "colab": {
          "base_uri": "https://localhost:8080/",
          "height": 35
        }
      },
      "source": [
        "# Endereço de memória da string s_A:\n",
        "id(s_A)"
      ],
      "execution_count": 0,
      "outputs": [
        {
          "output_type": "execute_result",
          "data": {
            "text/plain": [
              "140644014565296"
            ]
          },
          "metadata": {
            "tags": []
          },
          "execution_count": 13
        }
      ]
    },
    {
      "cell_type": "markdown",
      "metadata": {
        "id": "81eenNJdydbz",
        "colab_type": "text"
      },
      "source": [
        "Observe que agora temos outro endereço para a variável s_A. Ou seja, esta é outra variável pois atribuimos s_A = s_A + '...'"
      ]
    },
    {
      "cell_type": "markdown",
      "metadata": {
        "id": "CqszHxaKHr2h",
        "colab_type": "text"
      },
      "source": [
        "___\n",
        "# **Formatar Strings**\n",
        "* f-strings"
      ]
    },
    {
      "cell_type": "markdown",
      "metadata": {
        "id": "3DCs26n_ga62",
        "colab_type": "text"
      },
      "source": [
        "Considere as variáveis a seguir:"
      ]
    },
    {
      "cell_type": "code",
      "metadata": {
        "id": "XSSN1lttbX39",
        "colab_type": "code",
        "colab": {}
      },
      "source": [
        "s_Nome= 'Fulano de Tal'\n",
        "s_Profissao= 'Cientista de Dados'\n",
        "i_Idade= 44\n",
        "s_Cidade= 'São Paulo'"
      ],
      "execution_count": 0,
      "outputs": []
    },
    {
      "cell_type": "code",
      "metadata": {
        "id": "xSHrkxPsckl4",
        "colab_type": "code",
        "outputId": "bd075faa-2d82-4270-f23b-0cfe13bf0f0d",
        "colab": {
          "base_uri": "https://localhost:8080/",
          "height": 35
        }
      },
      "source": [
        "print(f'O Senhor {s_Nome} é {s_Profissao}, tem {i_Idade} anos de idade e mora em {s_Cidade}.')"
      ],
      "execution_count": 0,
      "outputs": [
        {
          "output_type": "stream",
          "text": [
            "O Senhor Fulano de Tal é Cientista de Dados, tem 44 anos de idade e mora em São Paulo.\n"
          ],
          "name": "stdout"
        }
      ]
    },
    {
      "cell_type": "markdown",
      "metadata": {
        "id": "5IiolSZKr7qr",
        "colab_type": "text"
      },
      "source": [
        "Dado que A= 5 e B= 3, qual o valor de C na expressão a seguir?"
      ]
    },
    {
      "cell_type": "code",
      "metadata": {
        "id": "Yelq-zVPHwZp",
        "colab_type": "code",
        "colab": {}
      },
      "source": [
        "A= 7\n",
        "B= 3"
      ],
      "execution_count": 0,
      "outputs": []
    },
    {
      "cell_type": "code",
      "metadata": {
        "id": "k_EKv-nQsBEX",
        "colab_type": "code",
        "colab": {}
      },
      "source": [
        "C= B/A"
      ],
      "execution_count": 0,
      "outputs": []
    },
    {
      "cell_type": "code",
      "metadata": {
        "id": "NEFO8lQq67Fq",
        "colab_type": "code",
        "outputId": "fa308f94-a25f-4355-98ca-5745c08491fc",
        "colab": {
          "base_uri": "https://localhost:8080/",
          "height": 35
        }
      },
      "source": [
        "C"
      ],
      "execution_count": 0,
      "outputs": [
        {
          "output_type": "execute_result",
          "data": {
            "text/plain": [
              "0.42857142857142855"
            ]
          },
          "metadata": {
            "tags": []
          },
          "execution_count": 18
        }
      ]
    },
    {
      "cell_type": "markdown",
      "metadata": {
        "id": "oHM1rNXOPQQ8",
        "colab_type": "text"
      },
      "source": [
        "Mostrar o valor de C usando 6 casas decimais:"
      ]
    },
    {
      "cell_type": "code",
      "metadata": {
        "id": "Z7Z-qu6XXCwz",
        "colab_type": "code",
        "outputId": "13dcbcb1-c501-49b0-bcae-13049b80fc00",
        "colab": {
          "base_uri": "https://localhost:8080/",
          "height": 35
        }
      },
      "source": [
        "print(f'O valor de C é {C:{10}.{6}}')"
      ],
      "execution_count": 0,
      "outputs": [
        {
          "output_type": "stream",
          "text": [
            "O valor de C é   0.428571\n"
          ],
          "name": "stdout"
        }
      ]
    },
    {
      "cell_type": "markdown",
      "metadata": {
        "id": "0lRQ26dzekb0",
        "colab_type": "text"
      },
      "source": [
        "Veja que interessante e intuitivo: var_num:{parte_inteira}.{casas_decimais}. Veja novamente:"
      ]
    },
    {
      "cell_type": "code",
      "metadata": {
        "id": "YQ8TcN3tezZ1",
        "colab_type": "code",
        "outputId": "9022ff8b-ac51-47f4-81ec-28a7e533dedd",
        "colab": {
          "base_uri": "https://localhost:8080/",
          "height": 35
        }
      },
      "source": [
        "print(f'O valor de C é {C:{10}.{2}}')"
      ],
      "execution_count": 0,
      "outputs": [
        {
          "output_type": "stream",
          "text": [
            "O valor de C é       0.43\n"
          ],
          "name": "stdout"
        }
      ]
    },
    {
      "cell_type": "markdown",
      "metadata": {
        "id": "cWAqmY3xqiig",
        "colab_type": "text"
      },
      "source": [
        "Podemos aplicar funções às f-strings. Por exemplo:"
      ]
    },
    {
      "cell_type": "code",
      "metadata": {
        "id": "1c1xg2noqmyr",
        "colab_type": "code",
        "colab": {}
      },
      "source": [
        "s_Pais= 'Brasil'"
      ],
      "execution_count": 0,
      "outputs": []
    },
    {
      "cell_type": "code",
      "metadata": {
        "id": "mSn0hHQnq_6X",
        "colab_type": "code",
        "outputId": "5c637762-47c5-4c36-a154-164f46f2e13e",
        "colab": {
          "base_uri": "https://localhost:8080/",
          "height": 35
        }
      },
      "source": [
        "# Sem aplicarmos a função upper():\n",
        "f'Eu nasci no {s_Pais}'"
      ],
      "execution_count": 0,
      "outputs": [
        {
          "output_type": "execute_result",
          "data": {
            "text/plain": [
              "'Eu nasci no Brasil'"
            ]
          },
          "metadata": {
            "tags": []
          },
          "execution_count": 22
        }
      ]
    },
    {
      "cell_type": "code",
      "metadata": {
        "id": "w76dcLUkrHer",
        "colab_type": "code",
        "outputId": "bdfb7efb-fd41-4413-fcbc-5861c3db8b1d",
        "colab": {
          "base_uri": "https://localhost:8080/",
          "height": 35
        }
      },
      "source": [
        "# Aplicando a função upper():\n",
        "f'Eu nasci no {s_Pais.upper()}'"
      ],
      "execution_count": 0,
      "outputs": [
        {
          "output_type": "execute_result",
          "data": {
            "text/plain": [
              "'Eu nasci no BRASIL'"
            ]
          },
          "metadata": {
            "tags": []
          },
          "execution_count": 23
        }
      ]
    },
    {
      "cell_type": "markdown",
      "metadata": {
        "id": "2nMtUdre08dE",
        "colab_type": "text"
      },
      "source": [
        "___\n",
        "# **Manipular strings**"
      ]
    },
    {
      "cell_type": "markdown",
      "metadata": {
        "id": "UqlDK-4Oorif",
        "colab_type": "text"
      },
      "source": [
        "Suponha a string a seguir:\n",
        "\n",
        "Source: Read more at https://www.brainyquote.com/topics/beauty-quotes\""
      ]
    },
    {
      "cell_type": "code",
      "metadata": {
        "id": "noNBsutFoN9w",
        "colab_type": "code",
        "colab": {}
      },
      "source": [
        "s_Frase= \"Beauty has so many forms, and I think the most beautiful thing is confidence and loving yourself.\""
      ],
      "execution_count": 0,
      "outputs": []
    },
    {
      "cell_type": "markdown",
      "metadata": {
        "id": "numMjHgzpEfn",
        "colab_type": "text"
      },
      "source": [
        "Verificando o tipo da variável s_Frase:"
      ]
    },
    {
      "cell_type": "code",
      "metadata": {
        "id": "unGvjFaRpMpr",
        "colab_type": "code",
        "colab": {}
      },
      "source": [
        "type(s_Frase)"
      ],
      "execution_count": 0,
      "outputs": []
    },
    {
      "cell_type": "markdown",
      "metadata": {
        "id": "dgDJhf30t6wR",
        "colab_type": "text"
      },
      "source": [
        "Qual o tamanho da variável s_Frase?"
      ]
    },
    {
      "cell_type": "code",
      "metadata": {
        "id": "YP9Jl3zQuF8B",
        "colab_type": "code",
        "colab": {}
      },
      "source": [
        "len(s_Frase)"
      ],
      "execution_count": 0,
      "outputs": []
    },
    {
      "cell_type": "markdown",
      "metadata": {
        "id": "VtrNZcilx59p",
        "colab_type": "text"
      },
      "source": [
        "O conteúdo da variável s_Frase pode ser visto como um array. Portanto, podemos acessar cada caractere da frase da seguinte forma:"
      ]
    },
    {
      "cell_type": "code",
      "metadata": {
        "id": "KtshlZ5OptHy",
        "colab_type": "code",
        "colab": {}
      },
      "source": [
        "s_Frase[0]"
      ],
      "execution_count": 0,
      "outputs": []
    },
    {
      "cell_type": "code",
      "metadata": {
        "id": "G5XDmNMKtQMl",
        "colab_type": "code",
        "colab": {}
      },
      "source": [
        "s_Frase[6]"
      ],
      "execution_count": 0,
      "outputs": []
    },
    {
      "cell_type": "code",
      "metadata": {
        "id": "IEUxkaqoqDMR",
        "colab_type": "code",
        "colab": {}
      },
      "source": [
        "s_Frase[7]"
      ],
      "execution_count": 0,
      "outputs": []
    },
    {
      "cell_type": "markdown",
      "metadata": {
        "id": "7r20rZ5JttEn",
        "colab_type": "text"
      },
      "source": [
        "E o que há na posição 28?"
      ]
    },
    {
      "cell_type": "code",
      "metadata": {
        "id": "FEDrIYzgsja0",
        "colab_type": "code",
        "colab": {}
      },
      "source": [
        "s_Frase[28]"
      ],
      "execution_count": 0,
      "outputs": []
    },
    {
      "cell_type": "markdown",
      "metadata": {
        "id": "-qH30_RNnlAF",
        "colab_type": "text"
      },
      "source": [
        "E qual o caractere/conteúdo da posição 97?"
      ]
    },
    {
      "cell_type": "code",
      "metadata": {
        "id": "zROKPKyLnqde",
        "colab_type": "code",
        "colab": {}
      },
      "source": [
        "s_Frase[97]"
      ],
      "execution_count": 0,
      "outputs": []
    },
    {
      "cell_type": "markdown",
      "metadata": {
        "id": "1DIaG36XuOvK",
        "colab_type": "text"
      },
      "source": [
        "Como esperando, Python aponta erro. Porque?\n",
        "\n",
        "* Lembre-se que len(s_Frase)= 96, ok?"
      ]
    },
    {
      "cell_type": "markdown",
      "metadata": {
        "id": "v6X_L5leuW-M",
        "colab_type": "text"
      },
      "source": [
        "... Mas s_Frase[-1] parece estranho pra você? Vamos ver se há conteúdo para s_Frase[-1]:"
      ]
    },
    {
      "cell_type": "code",
      "metadata": {
        "id": "MGfENyy-7rPw",
        "colab_type": "code",
        "colab": {}
      },
      "source": [
        "s_Frase"
      ],
      "execution_count": 0,
      "outputs": []
    },
    {
      "cell_type": "code",
      "metadata": {
        "id": "GrJWvSBzubUp",
        "colab_type": "code",
        "colab": {}
      },
      "source": [
        "s_Frase[-1]"
      ],
      "execution_count": 0,
      "outputs": []
    },
    {
      "cell_type": "markdown",
      "metadata": {
        "id": "l7YCDSoyujja",
        "colab_type": "text"
      },
      "source": [
        "E qual o conteúdo da posição -2?"
      ]
    },
    {
      "cell_type": "code",
      "metadata": {
        "id": "ugAlE8L5uzhT",
        "colab_type": "code",
        "colab": {}
      },
      "source": [
        "s_Frase[-2]"
      ],
      "execution_count": 0,
      "outputs": []
    },
    {
      "cell_type": "markdown",
      "metadata": {
        "id": "f2ZTguXjumoS",
        "colab_type": "text"
      },
      "source": [
        "Saberia explicar o que acontece?"
      ]
    },
    {
      "cell_type": "markdown",
      "metadata": {
        "id": "llMrN_idzT7F",
        "colab_type": "text"
      },
      "source": [
        "## Concatenar strings\n",
        "* Considere as strings a seguir:"
      ]
    },
    {
      "cell_type": "code",
      "metadata": {
        "id": "tfYrq8auzcaT",
        "colab_type": "code",
        "colab": {}
      },
      "source": [
        "s_A1= 'Strings são imutáveis!'\n",
        "s_A2= ' Portanto, não podemos alterar o valor.'"
      ],
      "execution_count": 0,
      "outputs": []
    },
    {
      "cell_type": "code",
      "metadata": {
        "id": "N0qNvZJUzqvh",
        "colab_type": "code",
        "colab": {}
      },
      "source": [
        "s_A1 + s_A2"
      ],
      "execution_count": 0,
      "outputs": []
    },
    {
      "cell_type": "markdown",
      "metadata": {
        "id": "uzlTo9dXwjh7",
        "colab_type": "text"
      },
      "source": [
        "## Cortar Strings\n",
        "* Algumas vezes precisamos de parte da string."
      ]
    },
    {
      "cell_type": "markdown",
      "metadata": {
        "id": "EDJk_u2fxgEs",
        "colab_type": "text"
      },
      "source": [
        "Parte da string, com começo e fim..."
      ]
    },
    {
      "cell_type": "code",
      "metadata": {
        "id": "4y-DLj9MsxDm",
        "colab_type": "code",
        "colab": {}
      },
      "source": [
        "# Nossa string:\n",
        "s_Frase"
      ],
      "execution_count": 0,
      "outputs": []
    },
    {
      "cell_type": "code",
      "metadata": {
        "id": "MTX25_yOwdfW",
        "colab_type": "code",
        "colab": {}
      },
      "source": [
        "s_Frase[0:24]"
      ],
      "execution_count": 0,
      "outputs": []
    },
    {
      "cell_type": "markdown",
      "metadata": {
        "id": "kuWpwOCIenPm",
        "colab_type": "text"
      },
      "source": [
        "Obs.: s_Frase[0: 24] é equivalente a s_Frase[:24]. Veja abaixo:"
      ]
    },
    {
      "cell_type": "code",
      "metadata": {
        "id": "dSAEiWWYewKs",
        "colab_type": "code",
        "colab": {}
      },
      "source": [
        "s_Frase[:24]"
      ],
      "execution_count": 0,
      "outputs": []
    },
    {
      "cell_type": "markdown",
      "metadata": {
        "id": "vQwK-9Hwohfs",
        "colab_type": "text"
      },
      "source": [
        "... Começa na posição 26 em diante..."
      ]
    },
    {
      "cell_type": "code",
      "metadata": {
        "id": "CJTBBmJ51Qhk",
        "colab_type": "code",
        "colab": {}
      },
      "source": [
        "s_Frase[26:]"
      ],
      "execution_count": 0,
      "outputs": []
    },
    {
      "cell_type": "markdown",
      "metadata": {
        "id": "AMwm33py2Bpq",
        "colab_type": "text"
      },
      "source": [
        "... Conteúdo de toda a string:"
      ]
    },
    {
      "cell_type": "code",
      "metadata": {
        "id": "Gz5TPx1G2GLN",
        "colab_type": "code",
        "colab": {}
      },
      "source": [
        "s_Frase[:] # Intuitivo não? se não definirmos o início e fim, então o Python retorna toda a string."
      ],
      "execution_count": 0,
      "outputs": []
    },
    {
      "cell_type": "markdown",
      "metadata": {
        "id": "ze0w1N3I2OrO",
        "colab_type": "text"
      },
      "source": [
        "... Conteúdo da string começando em -9 em diante:"
      ]
    },
    {
      "cell_type": "code",
      "metadata": {
        "id": "xxVVx-uUs62P",
        "colab_type": "code",
        "colab": {}
      },
      "source": [
        "s_Frase"
      ],
      "execution_count": 0,
      "outputs": []
    },
    {
      "cell_type": "code",
      "metadata": {
        "id": "RDspRsKB2Sv9",
        "colab_type": "code",
        "colab": {}
      },
      "source": [
        "s_Frase[-9:]"
      ],
      "execution_count": 0,
      "outputs": []
    },
    {
      "cell_type": "markdown",
      "metadata": {
        "id": "69LEpRHwe4W_",
        "colab_type": "text"
      },
      "source": [
        "... Uso do step: s_Frase[inicio:fim:step]. Vimos como selecionar partes da string usando inicio e fim. Agora vamos ver como usar step:"
      ]
    },
    {
      "cell_type": "code",
      "metadata": {
        "id": "X2ydaRNg8GzS",
        "colab_type": "code",
        "colab": {}
      },
      "source": [
        "s_Frase"
      ],
      "execution_count": 0,
      "outputs": []
    },
    {
      "cell_type": "code",
      "metadata": {
        "id": "KaCtXKx8fI2q",
        "colab_type": "code",
        "colab": {}
      },
      "source": [
        "s_Frase[::2]"
      ],
      "execution_count": 0,
      "outputs": []
    },
    {
      "cell_type": "markdown",
      "metadata": {
        "id": "77A_dBynfM1T",
        "colab_type": "text"
      },
      "source": [
        "Alguém saberia explicar o resultado da expressão acima?"
      ]
    },
    {
      "cell_type": "markdown",
      "metadata": {
        "id": "C7jQjrTYfSyc",
        "colab_type": "text"
      },
      "source": [
        "E da expressão a seguir:"
      ]
    },
    {
      "cell_type": "code",
      "metadata": {
        "id": "Bep0HF1zfUcF",
        "colab_type": "code",
        "colab": {}
      },
      "source": [
        "s_Frase[2::2]"
      ],
      "execution_count": 0,
      "outputs": []
    },
    {
      "cell_type": "markdown",
      "metadata": {
        "id": "4psqkz9ZfcDG",
        "colab_type": "text"
      },
      "source": [
        "E a explicação para a expressão a seguir:"
      ]
    },
    {
      "cell_type": "code",
      "metadata": {
        "id": "QLZ-TeyEfe_b",
        "colab_type": "code",
        "colab": {}
      },
      "source": [
        "s_Frase[:10:3]"
      ],
      "execution_count": 0,
      "outputs": []
    },
    {
      "cell_type": "markdown",
      "metadata": {
        "id": "DdLGIGjEft6i",
        "colab_type": "text"
      },
      "source": [
        "Por fim, quem saberia explicar o resultado a seguir:"
      ]
    },
    {
      "cell_type": "code",
      "metadata": {
        "id": "3MSTykjifxjV",
        "colab_type": "code",
        "colab": {}
      },
      "source": [
        "s_Frase[::-1]"
      ],
      "execution_count": 0,
      "outputs": []
    },
    {
      "cell_type": "markdown",
      "metadata": {
        "id": "ikg8ME172wKS",
        "colab_type": "text"
      },
      "source": [
        "## Funções Especiais para Strings\n",
        "\n",
        "* Na tabela abaixo, 'i' significa início e 'f' significa fim,\n",
        "\n",
        "| Sintaxe | Descrição ou Ação |\n",
        "|---------|-------------------|\n",
        "s_Str.count(s_Substr[, i[, f]]) | Conta ocorrências de 's_Substr' em s_Str |\n",
        "s_Str.endswith(s_Substr[, i[, f]]) | 'True' se s_Str termina com 's_Substr' |\n",
        "s_Str.find(s_Substr [,i[, f]]) | Encontra a primeira ocorrência de 's_Substr' em s_Str e retorna o índice ou -1 se não encontrar |\n",
        "s_Str.index(s_Substr [,i[, f]]) | Encontra a primeira ocorrência de 's_Substr' em s_Str e retorna o índice ou erro se não encontrar |\n",
        "s_Str.isalnum() | 'True' se s_Str tem somente caracteres alfanuméricos |\n",
        "s_Str.isalpha() | 'True' se s_Str tem somente caracteres alfabéticos |\n",
        "s_Str.isdigit() | 'True' se s_Str tem somente dígitos |\n",
        "s_Str.isspace() | 'True' se s_Str tem somente espaços em branco |\n",
        "s_Str.lower() | Converte s_Str para lowercase |\n",
        "s_Str.lstrip([chars]) | Remove espaços em branco do lado esquerdo de s_Str |\n",
        "s_Str.replace (old, new[, count]) | Substitui a string 'old' pela string 'new' |\n",
        "s_Str.rfind(s_Substr [, i[, f]]) | Encontra a última ocorrência de 's_Substr' em s_Str e retorna o índice ou -1 se não encontrar |\n",
        "s_Str.rindex(s_Substr [, i[, f]]) | Encontra a última ocorrência de 's_Substr' em s_Str e retorna seu índice ou erro se não encontrar |\n",
        "s_Str.rstrip([chars]) |Remove espaços em branco à direita de s_Str |\n",
        "s_Str.split('sep') | Split s_Str usando 'sep' e retorna a lista de substrings |\n",
        "s_Str.startswith(s_Substr[, i[, f]]) | 'True' se s_Str começa com 's_Substr' |\n",
        "s_Str.strip([chars]) | Remove 'chars' do lado esquerdo e direito de s_Str. O default é chars= ' ' |\n",
        "s_Str.upper() | Converte s_Str para uppercase |"
      ]
    },
    {
      "cell_type": "markdown",
      "metadata": {
        "id": "JgjsFY014Hqw",
        "colab_type": "text"
      },
      "source": [
        "## Tamanho da String s_Str\n",
        "* len(s_Str)"
      ]
    },
    {
      "cell_type": "code",
      "metadata": {
        "id": "A8kFtNzxCFuN",
        "colab_type": "code",
        "colab": {}
      },
      "source": [
        "s_Frase"
      ],
      "execution_count": 0,
      "outputs": []
    },
    {
      "cell_type": "code",
      "metadata": {
        "id": "A8DMhMnx_Gec",
        "colab_type": "code",
        "colab": {}
      },
      "source": [
        "len(s_Frase)"
      ],
      "execution_count": 0,
      "outputs": []
    },
    {
      "cell_type": "markdown",
      "metadata": {
        "id": "FhSlJQkwBb_e",
        "colab_type": "text"
      },
      "source": [
        "## Frequência com que s_Character aparece em s_Str\n",
        "* s_Str.count('s_Character')"
      ]
    },
    {
      "cell_type": "code",
      "metadata": {
        "id": "rmvBVIzjCLSt",
        "colab_type": "code",
        "colab": {}
      },
      "source": [
        "s_Frase"
      ],
      "execution_count": 0,
      "outputs": []
    },
    {
      "cell_type": "markdown",
      "metadata": {
        "id": "u51gdjMEpR6G",
        "colab_type": "text"
      },
      "source": [
        "Quantas vezes o caractere 'a' aparece em s_Frase?"
      ]
    },
    {
      "cell_type": "code",
      "metadata": {
        "id": "_albEvNaBrh0",
        "colab_type": "code",
        "colab": {}
      },
      "source": [
        "s_Frase.count('a')"
      ],
      "execution_count": 0,
      "outputs": []
    },
    {
      "cell_type": "markdown",
      "metadata": {
        "id": "l3Gzk_WmpXiW",
        "colab_type": "text"
      },
      "source": [
        "Quantas vezes o caractere ',' aparece em s_Frase?"
      ]
    },
    {
      "cell_type": "code",
      "metadata": {
        "id": "tBjRzqvjpcJG",
        "colab_type": "code",
        "colab": {}
      },
      "source": [
        "s_Frase.count(',')"
      ],
      "execution_count": 0,
      "outputs": []
    },
    {
      "cell_type": "markdown",
      "metadata": {
        "id": "ECvPPzT9CnCZ",
        "colab_type": "text"
      },
      "source": [
        "## Encontrar todas as ocorrências de s_Substr em s_Str usando List Comprehension\n",
        "* Suponha que queremos contar quantas vezes s_Substr= 'a' aparece em s_Frase. No entanto, veja o conteúdo a seguir:"
      ]
    },
    {
      "cell_type": "code",
      "metadata": {
        "id": "K1Uj8KhhGwAQ",
        "colab_type": "code",
        "colab": {}
      },
      "source": [
        "# Cria uma array bidimensional do tipo (indice, valor).\n",
        "list(enumerate(s_Frase))"
      ],
      "execution_count": 0,
      "outputs": []
    },
    {
      "cell_type": "markdown",
      "metadata": {
        "id": "HBoUJfssZ_hd",
        "colab_type": "text"
      },
      "source": [
        "A seguir, encontrar todas as ocorrências de s_Substr em s_Str:"
      ]
    },
    {
      "cell_type": "code",
      "metadata": {
        "id": "2635PM1xC4v5",
        "colab_type": "code",
        "outputId": "a57ad80e-8b1c-4539-ab4b-f2324dff68bf",
        "colab": {
          "base_uri": "https://localhost:8080/",
          "height": 35
        }
      },
      "source": [
        "s_Substr= 'a'\n",
        "l_Indices = [indice for indice, valor in enumerate(s_Frase) if valor == s_Substr]\n",
        "l_Indices"
      ],
      "execution_count": 0,
      "outputs": [
        {
          "output_type": "execute_result",
          "data": {
            "text/plain": [
              "[2, 8, 15, 26, 49, 77]"
            ]
          },
          "metadata": {
            "tags": []
          },
          "execution_count": 28
        }
      ]
    },
    {
      "cell_type": "markdown",
      "metadata": {
        "id": "xtVIZAsXEBC3",
        "colab_type": "text"
      },
      "source": [
        "## Encontrar todas as ocorrências de s_Substr em s_Str usando Expressões Regulares"
      ]
    },
    {
      "cell_type": "code",
      "metadata": {
        "id": "lCsSl3MZEKu8",
        "colab_type": "code",
        "outputId": "4873c3c3-34e7-4b2a-fcbb-90cbb7f22429",
        "colab": {
          "base_uri": "https://localhost:8080/",
          "height": 35
        }
      },
      "source": [
        "import re\n",
        "\n",
        "s_Substr= 'a'\n",
        "l_Indices = [i.start() for i in re.finditer(s_Substr, s_Frase)]\n",
        "l_Indices"
      ],
      "execution_count": 0,
      "outputs": [
        {
          "output_type": "execute_result",
          "data": {
            "text/plain": [
              "[2, 8, 15, 26, 49, 77]"
            ]
          },
          "metadata": {
            "tags": []
          },
          "execution_count": 25
        }
      ]
    },
    {
      "cell_type": "markdown",
      "metadata": {
        "id": "x4uWzHqo2y5J",
        "colab_type": "text"
      },
      "source": [
        "## s_Str.lower()"
      ]
    },
    {
      "cell_type": "code",
      "metadata": {
        "id": "i96RNCQyCPBm",
        "colab_type": "code",
        "colab": {}
      },
      "source": [
        "s_Frase"
      ],
      "execution_count": 0,
      "outputs": []
    },
    {
      "cell_type": "code",
      "metadata": {
        "id": "h7QVh6nW_Wr3",
        "colab_type": "code",
        "colab": {}
      },
      "source": [
        "s_Frase.lower()"
      ],
      "execution_count": 0,
      "outputs": []
    },
    {
      "cell_type": "markdown",
      "metadata": {
        "id": "YWjMKj9B4UTS",
        "colab_type": "text"
      },
      "source": [
        "## s_Str.upper()"
      ]
    },
    {
      "cell_type": "code",
      "metadata": {
        "id": "JWLXql2uCQVt",
        "colab_type": "code",
        "colab": {}
      },
      "source": [
        "s_Frase"
      ],
      "execution_count": 0,
      "outputs": []
    },
    {
      "cell_type": "code",
      "metadata": {
        "id": "80zNvZxD_cd3",
        "colab_type": "code",
        "colab": {}
      },
      "source": [
        "s_Frase.upper()"
      ],
      "execution_count": 0,
      "outputs": []
    },
    {
      "cell_type": "markdown",
      "metadata": {
        "id": "orwwTq7A4Zl1",
        "colab_type": "text"
      },
      "source": [
        "## s_str.strip()"
      ]
    },
    {
      "cell_type": "code",
      "metadata": {
        "id": "QbbCGcg1_m9t",
        "colab_type": "code",
        "colab": {}
      },
      "source": [
        "s_Frase2= '  Brasil: Ordem e Progresso!  '"
      ],
      "execution_count": 0,
      "outputs": []
    },
    {
      "cell_type": "code",
      "metadata": {
        "id": "ehLGkpUC_h0A",
        "colab_type": "code",
        "colab": {}
      },
      "source": [
        "s_Frase2.strip()"
      ],
      "execution_count": 0,
      "outputs": []
    },
    {
      "cell_type": "markdown",
      "metadata": {
        "id": "AC0VIn1Mqeyb",
        "colab_type": "text"
      },
      "source": [
        "Observe acima que os espaços antes e depois da string foram excluídos."
      ]
    },
    {
      "cell_type": "markdown",
      "metadata": {
        "id": "xFTubPhW4e_c",
        "colab_type": "text"
      },
      "source": [
        "## s_str.isdigit()"
      ]
    },
    {
      "cell_type": "code",
      "metadata": {
        "id": "1xK9VoBR_7-C",
        "colab_type": "code",
        "colab": {}
      },
      "source": [
        "s_Frase.isdigit()"
      ],
      "execution_count": 0,
      "outputs": []
    },
    {
      "cell_type": "code",
      "metadata": {
        "id": "J2o9UAkT__vY",
        "colab_type": "code",
        "colab": {}
      },
      "source": [
        "'1234567a'.isdigit()"
      ],
      "execution_count": 0,
      "outputs": []
    },
    {
      "cell_type": "code",
      "metadata": {
        "id": "Ll_nLgOpAFC2",
        "colab_type": "code",
        "colab": {}
      },
      "source": [
        "'1234567'.isdigit()"
      ],
      "execution_count": 0,
      "outputs": []
    },
    {
      "cell_type": "markdown",
      "metadata": {
        "id": "NYN11jnx4l1z",
        "colab_type": "text"
      },
      "source": [
        "## s_Str.isspace()"
      ]
    },
    {
      "cell_type": "code",
      "metadata": {
        "id": "imww41-C1XXK",
        "colab_type": "code",
        "colab": {}
      },
      "source": [
        "s_Frase[6:7].isspace()"
      ],
      "execution_count": 0,
      "outputs": []
    },
    {
      "cell_type": "markdown",
      "metadata": {
        "id": "yft3MA264ot7",
        "colab_type": "text"
      },
      "source": [
        "## s_Str.startswith('s_Character')"
      ]
    },
    {
      "cell_type": "code",
      "metadata": {
        "id": "SB4SoJxuCTlY",
        "colab_type": "code",
        "colab": {}
      },
      "source": [
        "s_Frase"
      ],
      "execution_count": 0,
      "outputs": []
    },
    {
      "cell_type": "code",
      "metadata": {
        "id": "L1hY57TW4tL5",
        "colab_type": "code",
        "colab": {}
      },
      "source": [
        "s_Frase.startswith('Beauty')"
      ],
      "execution_count": 0,
      "outputs": []
    },
    {
      "cell_type": "code",
      "metadata": {
        "id": "HdAJPhAH40C6",
        "colab_type": "code",
        "colab": {}
      },
      "source": [
        "s_Frase.startswith('Beautiful')"
      ],
      "execution_count": 0,
      "outputs": []
    },
    {
      "cell_type": "markdown",
      "metadata": {
        "id": "aJ0XLdMN45kW",
        "colab_type": "text"
      },
      "source": [
        "## s_Str.endswith('s_Character')"
      ]
    },
    {
      "cell_type": "code",
      "metadata": {
        "id": "lIbh8oBICU3M",
        "colab_type": "code",
        "colab": {}
      },
      "source": [
        "s_Frase"
      ],
      "execution_count": 0,
      "outputs": []
    },
    {
      "cell_type": "markdown",
      "metadata": {
        "id": "fST0sCs6q3Se",
        "colab_type": "text"
      },
      "source": [
        "A string s_Frase termina com '!'?"
      ]
    },
    {
      "cell_type": "code",
      "metadata": {
        "id": "1oy9r22A5J2g",
        "colab_type": "code",
        "colab": {}
      },
      "source": [
        "s_Frase.endswith('!')"
      ],
      "execution_count": 0,
      "outputs": []
    },
    {
      "cell_type": "markdown",
      "metadata": {
        "id": "wVAE2jyDq8lB",
        "colab_type": "text"
      },
      "source": [
        "A string s_Frase termina com '.'?"
      ]
    },
    {
      "cell_type": "code",
      "metadata": {
        "id": "1v332nD7qzga",
        "colab_type": "code",
        "colab": {}
      },
      "source": [
        "s_Frase.endswith('.')"
      ],
      "execution_count": 0,
      "outputs": []
    },
    {
      "cell_type": "markdown",
      "metadata": {
        "id": "g4T-n_Vq5kje",
        "colab_type": "text"
      },
      "source": [
        "## s_Str.find('s_Charactere')"
      ]
    },
    {
      "cell_type": "code",
      "metadata": {
        "id": "fpYCC-pACWPb",
        "colab_type": "code",
        "colab": {}
      },
      "source": [
        "s_Frase"
      ],
      "execution_count": 0,
      "outputs": []
    },
    {
      "cell_type": "code",
      "metadata": {
        "id": "NRIG8n0259yW",
        "colab_type": "code",
        "colab": {}
      },
      "source": [
        "# Primeira ocorrência de ',':\n",
        "s_Frase.find(',')"
      ],
      "execution_count": 0,
      "outputs": []
    },
    {
      "cell_type": "markdown",
      "metadata": {
        "id": "x1RDdI6x6YD8",
        "colab_type": "text"
      },
      "source": [
        "Como esperado, substr= ',' faz parte de s_Frase."
      ]
    },
    {
      "cell_type": "markdown",
      "metadata": {
        "id": "wXnNRYW46vhX",
        "colab_type": "text"
      },
      "source": [
        "Se 's_Character' não faz parte de s_Frase, Python retorna -1, como abaixo:"
      ]
    },
    {
      "cell_type": "code",
      "metadata": {
        "id": "k2Ok8__-654p",
        "colab_type": "code",
        "colab": {}
      },
      "source": [
        "s_Frase.find('Beauti') # 'i' ao invés de 'y'"
      ],
      "execution_count": 0,
      "outputs": []
    },
    {
      "cell_type": "markdown",
      "metadata": {
        "id": "p5jNHCDQ7Bl6",
        "colab_type": "text"
      },
      "source": [
        "## s_Str.replace(old, new)"
      ]
    },
    {
      "cell_type": "markdown",
      "metadata": {
        "id": "UUM3cnlDaqPs",
        "colab_type": "text"
      },
      "source": [
        "### Exemplo 1"
      ]
    },
    {
      "cell_type": "code",
      "metadata": {
        "id": "Vi7TBVoXr0Uk",
        "colab_type": "code",
        "colab": {}
      },
      "source": [
        "s_Frase"
      ],
      "execution_count": 0,
      "outputs": []
    },
    {
      "cell_type": "code",
      "metadata": {
        "id": "MWFiLutR6cRR",
        "colab_type": "code",
        "colab": {}
      },
      "source": [
        "s_Frase.replace('most', 'MOST')"
      ],
      "execution_count": 0,
      "outputs": []
    },
    {
      "cell_type": "markdown",
      "metadata": {
        "id": "RT46g3S0awnf",
        "colab_type": "text"
      },
      "source": [
        "### Exemplo 2\n",
        "* Remover o caractere ' ' por ''."
      ]
    },
    {
      "cell_type": "code",
      "metadata": {
        "id": "UTKsbNIz9lnX",
        "colab_type": "code",
        "colab": {}
      },
      "source": [
        "s_Frase.replace(' ', '')"
      ],
      "execution_count": 0,
      "outputs": []
    },
    {
      "cell_type": "markdown",
      "metadata": {
        "id": "TzPrEftNa69C",
        "colab_type": "text"
      },
      "source": [
        "### Exemplo 3\n",
        "* Vamos tentar substituir o caracter '?' por '!'"
      ]
    },
    {
      "cell_type": "code",
      "metadata": {
        "id": "E0FTeY_lsNke",
        "colab_type": "code",
        "colab": {}
      },
      "source": [
        "s_Frase.replace('?', '!')"
      ],
      "execution_count": 0,
      "outputs": []
    },
    {
      "cell_type": "markdown",
      "metadata": {
        "id": "mgzh1KQG7bx6",
        "colab_type": "text"
      },
      "source": [
        "O que aconteceu? Não substituiu... Porque?\n",
        "\n",
        "Saberia explicar porque o Python não substituiu?"
      ]
    },
    {
      "cell_type": "markdown",
      "metadata": {
        "id": "DudTwJSX7ltC",
        "colab_type": "text"
      },
      "source": [
        "E agora?"
      ]
    },
    {
      "cell_type": "code",
      "metadata": {
        "id": "-2BZQ6mG7hh6",
        "colab_type": "code",
        "colab": {}
      },
      "source": [
        "s_Frase.replace('.', '!')"
      ],
      "execution_count": 0,
      "outputs": []
    },
    {
      "cell_type": "markdown",
      "metadata": {
        "id": "42v6zRUO8DlQ",
        "colab_type": "text"
      },
      "source": [
        "... Entretanto, qual o conteúdo de s_Frase?"
      ]
    },
    {
      "cell_type": "code",
      "metadata": {
        "id": "Lmo4aiol7qUF",
        "colab_type": "code",
        "colab": {}
      },
      "source": [
        "s_Frase"
      ],
      "execution_count": 0,
      "outputs": []
    },
    {
      "cell_type": "markdown",
      "metadata": {
        "id": "ap9nFc2E8MAG",
        "colab_type": "text"
      },
      "source": [
        "**DICA**: Strings are imutáveis! A forma correta seria:"
      ]
    },
    {
      "cell_type": "code",
      "metadata": {
        "id": "eH8yHJik8U0N",
        "colab_type": "code",
        "colab": {}
      },
      "source": [
        "s_Frase= s_Frase.replace('.', '!')"
      ],
      "execution_count": 0,
      "outputs": []
    },
    {
      "cell_type": "markdown",
      "metadata": {
        "id": "nHCudHwJ8eSf",
        "colab_type": "text"
      },
      "source": [
        "Desta forma, redefinimos uma nova variável chamada s_Frase. Mas é a mesma variável que anteriormente, certo?"
      ]
    },
    {
      "cell_type": "code",
      "metadata": {
        "id": "WRFcfuzH8cBL",
        "colab_type": "code",
        "colab": {}
      },
      "source": [
        "s_Frase"
      ],
      "execution_count": 0,
      "outputs": []
    },
    {
      "cell_type": "markdown",
      "metadata": {
        "id": "aL2UZp9T8lAk",
        "colab_type": "text"
      },
      "source": [
        "## s_Str.split('sep')"
      ]
    },
    {
      "cell_type": "markdown",
      "metadata": {
        "id": "pCPa0pBqbHdK",
        "colab_type": "text"
      },
      "source": [
        "### Exemplo 1"
      ]
    },
    {
      "cell_type": "code",
      "metadata": {
        "id": "7y0ieQQm9Anx",
        "colab_type": "code",
        "colab": {}
      },
      "source": [
        "s_Frase.split(':')"
      ],
      "execution_count": 0,
      "outputs": []
    },
    {
      "cell_type": "markdown",
      "metadata": {
        "id": "aS-DYJAyshwc",
        "colab_type": "text"
      },
      "source": [
        "Não separou nada! Correto, pois o Python separa somente quando enconra o separador ':'"
      ]
    },
    {
      "cell_type": "markdown",
      "metadata": {
        "id": "f3YeNvTDss_X",
        "colab_type": "text"
      },
      "source": [
        "Vamos tentar o separador ','..."
      ]
    },
    {
      "cell_type": "code",
      "metadata": {
        "id": "1kNciI7f92_n",
        "colab_type": "code",
        "colab": {}
      },
      "source": [
        "s_Frase"
      ],
      "execution_count": 0,
      "outputs": []
    },
    {
      "cell_type": "code",
      "metadata": {
        "id": "E3QlgKQYsv3k",
        "colab_type": "code",
        "colab": {}
      },
      "source": [
        "s_Frase.split(',')"
      ],
      "execution_count": 0,
      "outputs": []
    },
    {
      "cell_type": "markdown",
      "metadata": {
        "id": "AA-z6jcQbKtq",
        "colab_type": "text"
      },
      "source": [
        "### Exemplo 2"
      ]
    },
    {
      "cell_type": "code",
      "metadata": {
        "id": "2ATukxpd9kij",
        "colab_type": "code",
        "colab": {}
      },
      "source": [
        "s_Frase3= '73540877412968744629867535897645310956547894653240984764'"
      ],
      "execution_count": 0,
      "outputs": []
    },
    {
      "cell_type": "markdown",
      "metadata": {
        "id": "506UkCh39xFS",
        "colab_type": "text"
      },
      "source": [
        "Qual o output do code abaixo:"
      ]
    },
    {
      "cell_type": "code",
      "metadata": {
        "id": "C2G9vyGt91Ir",
        "colab_type": "code",
        "colab": {}
      },
      "source": [
        "s_Frase3.split('6')"
      ],
      "execution_count": 0,
      "outputs": []
    },
    {
      "cell_type": "code",
      "metadata": {
        "id": "OiVCdu04-GwZ",
        "colab_type": "code",
        "colab": {}
      },
      "source": [
        "s_Frase3.split('6')[0]"
      ],
      "execution_count": 0,
      "outputs": []
    },
    {
      "cell_type": "markdown",
      "metadata": {
        "id": "S3gX9y-tz9ZE",
        "colab_type": "text"
      },
      "source": [
        "## s_Str.join()"
      ]
    },
    {
      "cell_type": "code",
      "metadata": {
        "id": "6jwpWDWb0NFO",
        "colab_type": "code",
        "colab": {}
      },
      "source": [
        "''.join(['Strings','são','imutáveis']) # Observe que os elementos a serem concatenados estão entre []."
      ],
      "execution_count": 0,
      "outputs": []
    },
    {
      "cell_type": "code",
      "metadata": {
        "id": "ueCpTzdH0XeJ",
        "colab_type": "code",
        "colab": {}
      },
      "source": [
        "s_Frase4= ' '.join(['Strings','são','imutáveis'])\n",
        "s_Frase4"
      ],
      "execution_count": 0,
      "outputs": []
    },
    {
      "cell_type": "markdown",
      "metadata": {
        "id": "5bW0K_5q-Ud2",
        "colab_type": "text"
      },
      "source": [
        "## Membership 'in' e 'not in'\n",
        "* Este operador testa se um valor é ou não membro de uma sequência (list, string, ou  dictionary)."
      ]
    },
    {
      "cell_type": "code",
      "metadata": {
        "id": "7e0_9IfEtSf8",
        "colab_type": "code",
        "colab": {}
      },
      "source": [
        "s_Frase"
      ],
      "execution_count": 0,
      "outputs": []
    },
    {
      "cell_type": "code",
      "metadata": {
        "id": "NKhMZwTG-XZA",
        "colab_type": "code",
        "colab": {}
      },
      "source": [
        "'Beauti' in s_Frase # Com 'i' ao invés de 'y'"
      ],
      "execution_count": 0,
      "outputs": []
    },
    {
      "cell_type": "code",
      "metadata": {
        "id": "brLjaj1B-b9Q",
        "colab_type": "code",
        "colab": {}
      },
      "source": [
        "'beauty' in s_Frase"
      ],
      "execution_count": 0,
      "outputs": []
    },
    {
      "cell_type": "code",
      "metadata": {
        "id": "0cccmPea-gkw",
        "colab_type": "code",
        "colab": {}
      },
      "source": [
        "'Beautiful' not in s_Frase"
      ],
      "execution_count": 0,
      "outputs": []
    },
    {
      "cell_type": "code",
      "metadata": {
        "id": "AD7GIeAptVZM",
        "colab_type": "code",
        "colab": {}
      },
      "source": [
        "'beautiful' not in s_Frase"
      ],
      "execution_count": 0,
      "outputs": []
    },
    {
      "cell_type": "markdown",
      "metadata": {
        "id": "mVU0GxfUf9H1",
        "colab_type": "text"
      },
      "source": [
        "___\n",
        "# **Wrap Up**"
      ]
    },
    {
      "cell_type": "markdown",
      "metadata": {
        "id": "lbj-kA95gAzI",
        "colab_type": "text"
      },
      "source": [
        "___\n",
        "# **Exercícios**"
      ]
    },
    {
      "cell_type": "markdown",
      "metadata": {
        "id": "x1TlgKY0xWB1",
        "colab_type": "text"
      },
      "source": [
        "## Exercício 1\n",
        "Consulte a página [Python Data Type: String - Exercises, Practice, Solution](https://www.w3resource.com/python-exercises/string/) para mais exercícios relacionados á este tópico."
      ]
    }
  ]
}