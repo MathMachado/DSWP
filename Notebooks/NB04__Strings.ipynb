{
  "nbformat": 4,
  "nbformat_minor": 0,
  "metadata": {
    "colab": {
      "name": "NB04__Strings.ipynb",
      "provenance": [],
      "collapsed_sections": [
        "n8BIbzQbNWUo",
        "7eS94uQ4NhVR",
        "SYOgJpGYVLUu",
        "CaHFxk98W5if",
        "ReWUyWiHXCnc",
        "CqszHxaKHr2h",
        "tXgF1Wl9gHKY",
        "Fotx7XUquAo8",
        "36kmLUYDvsUI",
        "SWO2GdNovxAp",
        "vpN54l4vxze5",
        "u4HOf9SNytSq",
        "6BQ9oZiD9hg5",
        "tz5-QdrX9vct",
        "p1muBgMX8NK4",
        "FxTC2-U88ajk",
        "z8EYn0pP25Rh"
      ],
      "include_colab_link": true
    },
    "kernelspec": {
      "name": "python3",
      "display_name": "Python 3"
    },
    "accelerator": "GPU"
  },
  "cells": [
    {
      "cell_type": "markdown",
      "metadata": {
        "id": "view-in-github",
        "colab_type": "text"
      },
      "source": [
        "<a href=\"https://colab.research.google.com/github/MathMachado/DSWP/blob/master/Notebooks/NB04__Strings.ipynb\" target=\"_parent\"><img src=\"https://colab.research.google.com/assets/colab-badge.svg\" alt=\"Open In Colab\"/></a>"
      ]
    },
    {
      "cell_type": "markdown",
      "metadata": {
        "id": "caaDTO_ym1Nf"
      },
      "source": [
        "<center><h1><b><i>STRINGS</i></b></h1></center>"
      ]
    },
    {
      "cell_type": "markdown",
      "metadata": {
        "id": "sjF60sU5RJrw"
      },
      "source": [
        "___\n",
        "# **AGENDA**:\n",
        "> Neste capítulo, vamos abordar os seguintes assuntos:\n",
        "\n",
        "* Strings\n",
        "* Formatar Strings\n",
        "* Manipular Strings\n",
        "* Wrap Up\n",
        "* Exercícios"
      ]
    },
    {
      "cell_type": "markdown",
      "metadata": {
        "id": "pKC1CJJggtQC"
      },
      "source": [
        "___\n",
        "# **STRINGS**\n",
        "* Strings são sequência de caracteres entre aspas (duplas ou simples);\n",
        "* Variáveis strings são imutáveis. Isso quer dizer que o valor de uma variável string não pode ser modificada ao longo do código."
      ]
    },
    {
      "cell_type": "code",
      "metadata": {
        "id": "pEm76z8IxFHt"
      },
      "source": [
        "s_frase = 'Strings são imutaveis.'"
      ],
      "execution_count": null,
      "outputs": []
    },
    {
      "cell_type": "code",
      "metadata": {
        "id": "duPYy_N6xO_4",
        "outputId": "3b827888-e249-4fc0-a577-c5140df86722",
        "colab": {
          "base_uri": "https://localhost:8080/",
          "height": 35
        }
      },
      "source": [
        "# Endereço de memória da string s_frase:\n",
        "id(s_frase)"
      ],
      "execution_count": null,
      "outputs": [
        {
          "output_type": "execute_result",
          "data": {
            "text/plain": [
              "140644014339344"
            ]
          },
          "metadata": {
            "tags": []
          },
          "execution_count": 8
        }
      ]
    },
    {
      "cell_type": "code",
      "metadata": {
        "id": "Um4nNkaJxoSH",
        "outputId": "6c1d6a94-69a8-4380-8da0-58b8191ab04c",
        "colab": {
          "base_uri": "https://localhost:8080/",
          "height": 35
        }
      },
      "source": [
        "# Mostrando partes da string s_frase:\n",
        "s_frase[21]"
      ],
      "execution_count": null,
      "outputs": [
        {
          "output_type": "execute_result",
          "data": {
            "text/plain": [
              "'.'"
            ]
          },
          "metadata": {
            "tags": []
          },
          "execution_count": 9
        }
      ]
    },
    {
      "cell_type": "markdown",
      "metadata": {
        "id": "9wOJBaWnyB8z"
      },
      "source": [
        "Vamos tentar alterar o conteúdo de s_frase[21] para \"!\"..."
      ]
    },
    {
      "cell_type": "code",
      "metadata": {
        "id": "jHXDVlACxr3O",
        "outputId": "fbffec5c-ade9-4e2c-afb0-123da2bc2141",
        "colab": {
          "base_uri": "https://localhost:8080/",
          "height": 166
        }
      },
      "source": [
        "s_frase[21] = '!' "
      ],
      "execution_count": null,
      "outputs": [
        {
          "output_type": "error",
          "ename": "TypeError",
          "evalue": "ignored",
          "traceback": [
            "\u001b[0;31m---------------------------------------------------------------------------\u001b[0m",
            "\u001b[0;31mTypeError\u001b[0m                                 Traceback (most recent call last)",
            "\u001b[0;32m<ipython-input-10-837bac737291>\u001b[0m in \u001b[0;36m<module>\u001b[0;34m()\u001b[0m\n\u001b[0;32m----> 1\u001b[0;31m \u001b[0ms_A\u001b[0m\u001b[0;34m[\u001b[0m\u001b[0;36m21\u001b[0m\u001b[0;34m]\u001b[0m\u001b[0;34m=\u001b[0m \u001b[0;34m'!'\u001b[0m\u001b[0;34m\u001b[0m\u001b[0;34m\u001b[0m\u001b[0m\n\u001b[0m",
            "\u001b[0;31mTypeError\u001b[0m: 'str' object does not support item assignment"
          ]
        }
      ]
    },
    {
      "cell_type": "markdown",
      "metadata": {
        "id": "nIa76RSCyN4x"
      },
      "source": [
        "Ou seja, não podemos alterar o valor de s_frase."
      ]
    },
    {
      "cell_type": "code",
      "metadata": {
        "id": "aXzrRV37x8om",
        "outputId": "5f977ba0-b8c8-478c-c176-4d53d458de3d",
        "colab": {
          "base_uri": "https://localhost:8080/",
          "height": 35
        }
      },
      "source": [
        "s_frase"
      ],
      "execution_count": null,
      "outputs": [
        {
          "output_type": "execute_result",
          "data": {
            "text/plain": [
              "'Strings são imutaveis.'"
            ]
          },
          "metadata": {
            "tags": []
          },
          "execution_count": 11
        }
      ]
    },
    {
      "cell_type": "code",
      "metadata": {
        "id": "z7rsW-bvxSzY",
        "outputId": "98937893-9567-45f2-a824-e7fde05b49c1",
        "colab": {
          "base_uri": "https://localhost:8080/",
          "height": 35
        }
      },
      "source": [
        "# Mas se fizermos...\n",
        "s_frase = s_frase + ' Portanto, não podemos alterar o valor ao longo do programa.'\n",
        "s_frase"
      ],
      "execution_count": null,
      "outputs": [
        {
          "output_type": "execute_result",
          "data": {
            "text/plain": [
              "'Strings são imutaveis. Portanto, não podemos alterar o valor ao longo do programa.'"
            ]
          },
          "metadata": {
            "tags": []
          },
          "execution_count": 12
        }
      ]
    },
    {
      "cell_type": "code",
      "metadata": {
        "id": "Tg0ilTyLxg9h",
        "outputId": "34767503-d89f-40ea-ba0d-83498251caba",
        "colab": {
          "base_uri": "https://localhost:8080/",
          "height": 35
        }
      },
      "source": [
        "# Endereço de memória da string s_frase:\n",
        "id(s_frase)"
      ],
      "execution_count": null,
      "outputs": [
        {
          "output_type": "execute_result",
          "data": {
            "text/plain": [
              "140644014565296"
            ]
          },
          "metadata": {
            "tags": []
          },
          "execution_count": 13
        }
      ]
    },
    {
      "cell_type": "markdown",
      "metadata": {
        "id": "81eenNJdydbz"
      },
      "source": [
        "Observe que agora temos outro endereço para a variável s_frase. Ou seja, esta é outra variável pois atribuimos s_frase = s_frase + '...'"
      ]
    },
    {
      "cell_type": "markdown",
      "metadata": {
        "id": "CqszHxaKHr2h"
      },
      "source": [
        "___\n",
        "# **FORMATAR STRINGS**\n",
        "* f-strings"
      ]
    },
    {
      "cell_type": "markdown",
      "metadata": {
        "id": "3DCs26n_ga62"
      },
      "source": [
        "Considere as variáveis a seguir:"
      ]
    },
    {
      "cell_type": "code",
      "metadata": {
        "id": "XSSN1lttbX39"
      },
      "source": [
        "s_nome = 'Nelio Machado'\n",
        "s_profissao = 'Cientista de Dados'\n",
        "i_idade = 44\n",
        "s_cidade = 'Lisboa'"
      ],
      "execution_count": null,
      "outputs": []
    },
    {
      "cell_type": "code",
      "metadata": {
        "id": "xSHrkxPsckl4",
        "outputId": "bd075faa-2d82-4270-f23b-0cfe13bf0f0d",
        "colab": {
          "base_uri": "https://localhost:8080/",
          "height": 35
        }
      },
      "source": [
        "print(f'O Senhor {s_nome} é {s_profissao}, tem {i_idade} anos de idade e mora em {s_cidade}.')"
      ],
      "execution_count": null,
      "outputs": [
        {
          "output_type": "stream",
          "text": [
            "O Senhor Fulano de Tal é Cientista de Dados, tem 44 anos de idade e mora em São Paulo.\n"
          ],
          "name": "stdout"
        }
      ]
    },
    {
      "cell_type": "markdown",
      "metadata": {
        "id": "5IiolSZKr7qr"
      },
      "source": [
        "Qual o valor de resultado?"
      ]
    },
    {
      "cell_type": "code",
      "metadata": {
        "id": "Yelq-zVPHwZp"
      },
      "source": [
        "i_numero1 = 7\n",
        "i_numero2 = 3"
      ],
      "execution_count": null,
      "outputs": []
    },
    {
      "cell_type": "code",
      "metadata": {
        "id": "k_EKv-nQsBEX"
      },
      "source": [
        "resultado = i_numero1 / i_numero2"
      ],
      "execution_count": null,
      "outputs": []
    },
    {
      "cell_type": "code",
      "metadata": {
        "id": "NEFO8lQq67Fq",
        "outputId": "fa308f94-a25f-4355-98ca-5745c08491fc",
        "colab": {
          "base_uri": "https://localhost:8080/",
          "height": 35
        }
      },
      "source": [
        "resultado"
      ],
      "execution_count": null,
      "outputs": [
        {
          "output_type": "execute_result",
          "data": {
            "text/plain": [
              "0.42857142857142855"
            ]
          },
          "metadata": {
            "tags": []
          },
          "execution_count": 18
        }
      ]
    },
    {
      "cell_type": "markdown",
      "metadata": {
        "id": "oHM1rNXOPQQ8"
      },
      "source": [
        "Mostrar o valor de resultado usando 6 casas decimais:"
      ]
    },
    {
      "cell_type": "code",
      "metadata": {
        "id": "Z7Z-qu6XXCwz",
        "outputId": "13dcbcb1-c501-49b0-bcae-13049b80fc00",
        "colab": {
          "base_uri": "https://localhost:8080/",
          "height": 35
        }
      },
      "source": [
        "print(f'O valor de resultado é {resultado:{10}.{6}}')"
      ],
      "execution_count": null,
      "outputs": [
        {
          "output_type": "stream",
          "text": [
            "O valor de C é   0.428571\n"
          ],
          "name": "stdout"
        }
      ]
    },
    {
      "cell_type": "markdown",
      "metadata": {
        "id": "0lRQ26dzekb0"
      },
      "source": [
        "Veja que interessante e intuitivo: nome_var:{parte_inteira}.{casas_decimais}. Veja novamente:"
      ]
    },
    {
      "cell_type": "code",
      "metadata": {
        "id": "YQ8TcN3tezZ1",
        "outputId": "9022ff8b-ac51-47f4-81ec-28a7e533dedd",
        "colab": {
          "base_uri": "https://localhost:8080/",
          "height": 35
        }
      },
      "source": [
        "print(f'O valor de resultado é {resultado:{10}.{2}}')"
      ],
      "execution_count": null,
      "outputs": [
        {
          "output_type": "stream",
          "text": [
            "O valor de C é       0.43\n"
          ],
          "name": "stdout"
        }
      ]
    },
    {
      "cell_type": "markdown",
      "metadata": {
        "id": "cWAqmY3xqiig"
      },
      "source": [
        "Podemos aplicar funções às f-strings. Por exemplo:"
      ]
    },
    {
      "cell_type": "code",
      "metadata": {
        "id": "1c1xg2noqmyr"
      },
      "source": [
        "s_pais = 'Brasil'"
      ],
      "execution_count": null,
      "outputs": []
    },
    {
      "cell_type": "code",
      "metadata": {
        "id": "mSn0hHQnq_6X",
        "outputId": "5c637762-47c5-4c36-a154-164f46f2e13e",
        "colab": {
          "base_uri": "https://localhost:8080/",
          "height": 35
        }
      },
      "source": [
        "# Sem aplicarmos a função upper():\n",
        "f'Eu nasci no {s_pais}'"
      ],
      "execution_count": null,
      "outputs": [
        {
          "output_type": "execute_result",
          "data": {
            "text/plain": [
              "'Eu nasci no Brasil'"
            ]
          },
          "metadata": {
            "tags": []
          },
          "execution_count": 22
        }
      ]
    },
    {
      "cell_type": "code",
      "metadata": {
        "id": "w76dcLUkrHer",
        "outputId": "bdfb7efb-fd41-4413-fcbc-5861c3db8b1d",
        "colab": {
          "base_uri": "https://localhost:8080/",
          "height": 35
        }
      },
      "source": [
        "# Aplicando a função upper():\n",
        "f'Eu nasci no {s_pais.upper()}'"
      ],
      "execution_count": null,
      "outputs": [
        {
          "output_type": "execute_result",
          "data": {
            "text/plain": [
              "'Eu nasci no BRASIL'"
            ]
          },
          "metadata": {
            "tags": []
          },
          "execution_count": 23
        }
      ]
    },
    {
      "cell_type": "markdown",
      "metadata": {
        "id": "2nMtUdre08dE"
      },
      "source": [
        "___\n",
        "# **MANIPULAR STRINGS**"
      ]
    },
    {
      "cell_type": "markdown",
      "metadata": {
        "id": "UqlDK-4Oorif"
      },
      "source": [
        "Suponha a string a seguir:\n",
        "\n",
        "Source: Read more at https://www.brainyquote.com/topics/beauty-quotes\""
      ]
    },
    {
      "cell_type": "code",
      "metadata": {
        "id": "noNBsutFoN9w"
      },
      "source": [
        "s_frase = \"Beauty has so many forms, and I think the most beautiful thing is confidence and loving yourself.\""
      ],
      "execution_count": null,
      "outputs": []
    },
    {
      "cell_type": "markdown",
      "metadata": {
        "id": "numMjHgzpEfn"
      },
      "source": [
        "Verificando o tipo da variável s_frase:"
      ]
    },
    {
      "cell_type": "code",
      "metadata": {
        "id": "unGvjFaRpMpr"
      },
      "source": [
        "type(s_frase)"
      ],
      "execution_count": null,
      "outputs": []
    },
    {
      "cell_type": "markdown",
      "metadata": {
        "id": "dgDJhf30t6wR"
      },
      "source": [
        "Qual o tamanho da variável s_frase?"
      ]
    },
    {
      "cell_type": "code",
      "metadata": {
        "id": "YP9Jl3zQuF8B"
      },
      "source": [
        "len(s_frase)"
      ],
      "execution_count": null,
      "outputs": []
    },
    {
      "cell_type": "markdown",
      "metadata": {
        "id": "VtrNZcilx59p"
      },
      "source": [
        "O conteúdo da variável s_frase pode ser visto como um array. Portanto, podemos acessar cada caractere da frase da seguinte forma:"
      ]
    },
    {
      "cell_type": "code",
      "metadata": {
        "id": "KtshlZ5OptHy"
      },
      "source": [
        "s_frase[0]"
      ],
      "execution_count": null,
      "outputs": []
    },
    {
      "cell_type": "code",
      "metadata": {
        "id": "G5XDmNMKtQMl"
      },
      "source": [
        "s_frase[6]"
      ],
      "execution_count": null,
      "outputs": []
    },
    {
      "cell_type": "code",
      "metadata": {
        "id": "IEUxkaqoqDMR"
      },
      "source": [
        "s_frase[7]"
      ],
      "execution_count": null,
      "outputs": []
    },
    {
      "cell_type": "markdown",
      "metadata": {
        "id": "7r20rZ5JttEn"
      },
      "source": [
        "E o que há na posição 28?"
      ]
    },
    {
      "cell_type": "code",
      "metadata": {
        "id": "FEDrIYzgsja0"
      },
      "source": [
        "s_frase[28]"
      ],
      "execution_count": null,
      "outputs": []
    },
    {
      "cell_type": "markdown",
      "metadata": {
        "id": "-qH30_RNnlAF"
      },
      "source": [
        "E qual o caractere/conteúdo da posição 97?"
      ]
    },
    {
      "cell_type": "code",
      "metadata": {
        "id": "zROKPKyLnqde"
      },
      "source": [
        "s_frase[97]"
      ],
      "execution_count": null,
      "outputs": []
    },
    {
      "cell_type": "markdown",
      "metadata": {
        "id": "1DIaG36XuOvK"
      },
      "source": [
        "Como esperando, Python aponta erro. Porque?\n",
        "\n",
        "* Lembre-se que len(s_frase) = 96, ok?"
      ]
    },
    {
      "cell_type": "markdown",
      "metadata": {
        "id": "v6X_L5leuW-M"
      },
      "source": [
        "... Mas s_frase[-1] parece estranho pra você? Vamos ver se há conteúdo para s_frase[-1]:"
      ]
    },
    {
      "cell_type": "code",
      "metadata": {
        "id": "MGfENyy-7rPw"
      },
      "source": [
        "s_frase"
      ],
      "execution_count": null,
      "outputs": []
    },
    {
      "cell_type": "code",
      "metadata": {
        "id": "GrJWvSBzubUp"
      },
      "source": [
        "s_frase[-1]"
      ],
      "execution_count": null,
      "outputs": []
    },
    {
      "cell_type": "markdown",
      "metadata": {
        "id": "l7YCDSoyujja"
      },
      "source": [
        "E qual o conteúdo da posição -2?"
      ]
    },
    {
      "cell_type": "code",
      "metadata": {
        "id": "ugAlE8L5uzhT"
      },
      "source": [
        "s_frase[-2]"
      ],
      "execution_count": null,
      "outputs": []
    },
    {
      "cell_type": "markdown",
      "metadata": {
        "id": "f2ZTguXjumoS"
      },
      "source": [
        "Saberia explicar o que acontece?"
      ]
    },
    {
      "cell_type": "markdown",
      "metadata": {
        "id": "llMrN_idzT7F"
      },
      "source": [
        "## Concatenar strings\n",
        "* Considere as strings a seguir:"
      ]
    },
    {
      "cell_type": "code",
      "metadata": {
        "id": "tfYrq8auzcaT"
      },
      "source": [
        "s_frase1 = 'Strings são imutáveis!'\n",
        "s_frase2 = ' Portanto, não podemos alterar o valor.'"
      ],
      "execution_count": null,
      "outputs": []
    },
    {
      "cell_type": "code",
      "metadata": {
        "id": "N0qNvZJUzqvh"
      },
      "source": [
        "s_frase1 + s_frase2"
      ],
      "execution_count": null,
      "outputs": []
    },
    {
      "cell_type": "markdown",
      "metadata": {
        "id": "uzlTo9dXwjh7"
      },
      "source": [
        "## Cortar Strings\n",
        "* Algumas vezes precisamos de parte da string."
      ]
    },
    {
      "cell_type": "markdown",
      "metadata": {
        "id": "EDJk_u2fxgEs"
      },
      "source": [
        "Parte da string, com começo e fim..."
      ]
    },
    {
      "cell_type": "code",
      "metadata": {
        "id": "4y-DLj9MsxDm"
      },
      "source": [
        "# Nossa string:\n",
        "s_frase"
      ],
      "execution_count": null,
      "outputs": []
    },
    {
      "cell_type": "code",
      "metadata": {
        "id": "MTX25_yOwdfW"
      },
      "source": [
        "s_frase[0:24]"
      ],
      "execution_count": null,
      "outputs": []
    },
    {
      "cell_type": "markdown",
      "metadata": {
        "id": "kuWpwOCIenPm"
      },
      "source": [
        "Obs.: s_frase[0: 24] é equivalente a s_frase[:24]. Veja abaixo:"
      ]
    },
    {
      "cell_type": "code",
      "metadata": {
        "id": "dSAEiWWYewKs"
      },
      "source": [
        "s_frase[:24]"
      ],
      "execution_count": null,
      "outputs": []
    },
    {
      "cell_type": "markdown",
      "metadata": {
        "id": "vQwK-9Hwohfs"
      },
      "source": [
        "... Começa na posição 26 em diante..."
      ]
    },
    {
      "cell_type": "code",
      "metadata": {
        "id": "CJTBBmJ51Qhk"
      },
      "source": [
        "s_frase[26:]"
      ],
      "execution_count": null,
      "outputs": []
    },
    {
      "cell_type": "markdown",
      "metadata": {
        "id": "AMwm33py2Bpq"
      },
      "source": [
        "... Conteúdo de toda a string:"
      ]
    },
    {
      "cell_type": "code",
      "metadata": {
        "id": "Gz5TPx1G2GLN"
      },
      "source": [
        "s_frase[:] # Intuitivo não? se não definirmos o início e fim, então o Python retorna toda a string."
      ],
      "execution_count": null,
      "outputs": []
    },
    {
      "cell_type": "markdown",
      "metadata": {
        "id": "ze0w1N3I2OrO"
      },
      "source": [
        "... Conteúdo da string começando em -9 em diante:"
      ]
    },
    {
      "cell_type": "code",
      "metadata": {
        "id": "xxVVx-uUs62P"
      },
      "source": [
        "s_frase"
      ],
      "execution_count": null,
      "outputs": []
    },
    {
      "cell_type": "code",
      "metadata": {
        "id": "RDspRsKB2Sv9"
      },
      "source": [
        "s_frase[-9:]"
      ],
      "execution_count": null,
      "outputs": []
    },
    {
      "cell_type": "markdown",
      "metadata": {
        "id": "69LEpRHwe4W_"
      },
      "source": [
        "... Uso do step: s_frase[inicio:fim:step]. Vimos como selecionar partes da string usando inicio e fim. Agora vamos ver como usar step:"
      ]
    },
    {
      "cell_type": "code",
      "metadata": {
        "id": "X2ydaRNg8GzS"
      },
      "source": [
        "s_frase"
      ],
      "execution_count": null,
      "outputs": []
    },
    {
      "cell_type": "code",
      "metadata": {
        "id": "KaCtXKx8fI2q"
      },
      "source": [
        "s_frase[::2]"
      ],
      "execution_count": null,
      "outputs": []
    },
    {
      "cell_type": "markdown",
      "metadata": {
        "id": "77A_dBynfM1T"
      },
      "source": [
        "Alguém saberia explicar o resultado da expressão acima?"
      ]
    },
    {
      "cell_type": "markdown",
      "metadata": {
        "id": "C7jQjrTYfSyc"
      },
      "source": [
        "E da expressão a seguir:"
      ]
    },
    {
      "cell_type": "code",
      "metadata": {
        "id": "Bep0HF1zfUcF"
      },
      "source": [
        "s_frase[2::2]"
      ],
      "execution_count": null,
      "outputs": []
    },
    {
      "cell_type": "markdown",
      "metadata": {
        "id": "4psqkz9ZfcDG"
      },
      "source": [
        "E a explicação para a expressão a seguir:"
      ]
    },
    {
      "cell_type": "code",
      "metadata": {
        "id": "QLZ-TeyEfe_b"
      },
      "source": [
        "s_frase[:10:3]"
      ],
      "execution_count": null,
      "outputs": []
    },
    {
      "cell_type": "markdown",
      "metadata": {
        "id": "DdLGIGjEft6i"
      },
      "source": [
        "Por fim, quem saberia explicar o resultado a seguir:"
      ]
    },
    {
      "cell_type": "code",
      "metadata": {
        "id": "3MSTykjifxjV"
      },
      "source": [
        "s_frase[::-1]"
      ],
      "execution_count": null,
      "outputs": []
    },
    {
      "cell_type": "markdown",
      "metadata": {
        "id": "ikg8ME172wKS"
      },
      "source": [
        "## Funções Especiais para Strings\n",
        "\n",
        "* Na tabela abaixo, 'i' significa início e 'f' significa fim,\n",
        "\n",
        "| Sintaxe | Descrição ou Ação |\n",
        "|---------|-------------------|\n",
        "s_string.count(s_substring[, i[, f]]) | Conta ocorrências de 's_substring' em s_string |\n",
        "s_string.endswith(s_substring[, i[, f]]) | 'True' se s_string termina com 's_substring' |\n",
        "s_string.find(s_substring [,i[, f]]) | Encontra a primeira ocorrência de 's_substring' em s_string e retorna o índice ou -1 se não encontrar |\n",
        "s_string.index(s_substring [,i[, f]]) | Encontra a primeira ocorrência de 's_substring' em s_string e retorna o índice ou erro se não encontrar |\n",
        "s_string.isalnum() | 'True' se s_string tem somente caracteres alfanuméricos |\n",
        "s_string.isalpha() | 'True' se s_string tem somente caracteres alfabéticos |\n",
        "s_string.isdigit() | 'True' se s_string tem somente dígitos |\n",
        "s_string.isspace() | 'True' se s_string tem somente espaços em branco |\n",
        "s_string.lower() | Converte s_string para lowercase |\n",
        "s_string.lstrip([chars]) | Remove espaços em branco do lado esquerdo de s_string |\n",
        "s_string.replace (old, new[, count]) | Substitui a string 'old' pela string 'new' |\n",
        "s_string.rfind(s_substring [, i[, f]]) | Encontra a última ocorrência de 's_substring' em s_string e retorna o índice ou -1 se não encontrar |\n",
        "s_string.rindex(s_substring [, i[, f]]) | Encontra a última ocorrência de 's_substring' em s_string e retorna seu índice ou erro se não encontrar |\n",
        "s_string.rstrip([chars]) |Remove espaços em branco à direita de s_string |\n",
        "s_string.split('sep') | Split s_string usando 'sep' e retorna a lista de substrings |\n",
        "s_string.startswith(s_substring[, i[, f]]) | 'True' se s_string começa com 's_substring' |\n",
        "s_string.strip([chars]) | Remove 'chars' do lado esquerdo e direito de s_string. O default é chars= ' ' |\n",
        "s_string.upper() | Converte s_string para uppercase |"
      ]
    },
    {
      "cell_type": "markdown",
      "metadata": {
        "id": "JgjsFY014Hqw"
      },
      "source": [
        "## Tamanho da String s_string\n",
        "* len(s_string)"
      ]
    },
    {
      "cell_type": "code",
      "metadata": {
        "id": "A8kFtNzxCFuN"
      },
      "source": [
        "s_frase"
      ],
      "execution_count": null,
      "outputs": []
    },
    {
      "cell_type": "code",
      "metadata": {
        "id": "A8DMhMnx_Gec"
      },
      "source": [
        "len(s_frase)"
      ],
      "execution_count": null,
      "outputs": []
    },
    {
      "cell_type": "markdown",
      "metadata": {
        "id": "FhSlJQkwBb_e"
      },
      "source": [
        "## Frequência com que s_Character aparece em s_string\n",
        "* s_string.count('s_Character')"
      ]
    },
    {
      "cell_type": "code",
      "metadata": {
        "id": "rmvBVIzjCLSt"
      },
      "source": [
        "s_frase"
      ],
      "execution_count": null,
      "outputs": []
    },
    {
      "cell_type": "markdown",
      "metadata": {
        "id": "u51gdjMEpR6G"
      },
      "source": [
        "Quantas vezes o caractere 'a' aparece em s_frase?"
      ]
    },
    {
      "cell_type": "code",
      "metadata": {
        "id": "_albEvNaBrh0"
      },
      "source": [
        "s_frase.count('a')"
      ],
      "execution_count": null,
      "outputs": []
    },
    {
      "cell_type": "markdown",
      "metadata": {
        "id": "l3Gzk_WmpXiW"
      },
      "source": [
        "Quantas vezes o caractere ',' aparece em s_frase?"
      ]
    },
    {
      "cell_type": "code",
      "metadata": {
        "id": "tBjRzqvjpcJG"
      },
      "source": [
        "s_frase.count(',')"
      ],
      "execution_count": null,
      "outputs": []
    },
    {
      "cell_type": "markdown",
      "metadata": {
        "id": "ECvPPzT9CnCZ"
      },
      "source": [
        "## Encontrar todas as ocorrências de s_substring em s_string usando List Comprehension\n",
        "* Suponha que queremos contar quantas vezes s_substring= 'a' aparece em s_frase. No entanto, veja o conteúdo a seguir:"
      ]
    },
    {
      "cell_type": "code",
      "metadata": {
        "id": "K1Uj8KhhGwAQ"
      },
      "source": [
        "# Cria uma array bidimensional do tipo (indice, valor).\n",
        "list(enumerate(s_frase))"
      ],
      "execution_count": null,
      "outputs": []
    },
    {
      "cell_type": "markdown",
      "metadata": {
        "id": "HBoUJfssZ_hd"
      },
      "source": [
        "A seguir, encontrar todas as ocorrências de s_substring em s_string:"
      ]
    },
    {
      "cell_type": "code",
      "metadata": {
        "id": "2635PM1xC4v5",
        "outputId": "a57ad80e-8b1c-4539-ab4b-f2324dff68bf",
        "colab": {
          "base_uri": "https://localhost:8080/",
          "height": 35
        }
      },
      "source": [
        "s_substring = 'a'\n",
        "l_Indices = [indice for indice, valor in enumerate(s_frase) if valor == s_substring]\n",
        "l_Indices"
      ],
      "execution_count": null,
      "outputs": [
        {
          "output_type": "execute_result",
          "data": {
            "text/plain": [
              "[2, 8, 15, 26, 49, 77]"
            ]
          },
          "metadata": {
            "tags": []
          },
          "execution_count": 28
        }
      ]
    },
    {
      "cell_type": "markdown",
      "metadata": {
        "id": "xtVIZAsXEBC3"
      },
      "source": [
        "## Encontrar todas as ocorrências de s_substring em s_string usando Expressões Regulares"
      ]
    },
    {
      "cell_type": "code",
      "metadata": {
        "id": "lCsSl3MZEKu8",
        "outputId": "4873c3c3-34e7-4b2a-fcbb-90cbb7f22429",
        "colab": {
          "base_uri": "https://localhost:8080/",
          "height": 35
        }
      },
      "source": [
        "import re\n",
        "\n",
        "s_substring = 'a'\n",
        "l_Indices = [i.start() for i in re.finditer(s_substring, s_frase)]\n",
        "l_Indices"
      ],
      "execution_count": null,
      "outputs": [
        {
          "output_type": "execute_result",
          "data": {
            "text/plain": [
              "[2, 8, 15, 26, 49, 77]"
            ]
          },
          "metadata": {
            "tags": []
          },
          "execution_count": 25
        }
      ]
    },
    {
      "cell_type": "markdown",
      "metadata": {
        "id": "x4uWzHqo2y5J"
      },
      "source": [
        "## s_string.lower()"
      ]
    },
    {
      "cell_type": "code",
      "metadata": {
        "id": "i96RNCQyCPBm"
      },
      "source": [
        "s_frase"
      ],
      "execution_count": null,
      "outputs": []
    },
    {
      "cell_type": "code",
      "metadata": {
        "id": "h7QVh6nW_Wr3"
      },
      "source": [
        "s_frase.lower()"
      ],
      "execution_count": null,
      "outputs": []
    },
    {
      "cell_type": "markdown",
      "metadata": {
        "id": "YWjMKj9B4UTS"
      },
      "source": [
        "## s_string.upper()"
      ]
    },
    {
      "cell_type": "code",
      "metadata": {
        "id": "JWLXql2uCQVt"
      },
      "source": [
        "s_frase"
      ],
      "execution_count": null,
      "outputs": []
    },
    {
      "cell_type": "code",
      "metadata": {
        "id": "80zNvZxD_cd3"
      },
      "source": [
        "s_frase.upper()"
      ],
      "execution_count": null,
      "outputs": []
    },
    {
      "cell_type": "markdown",
      "metadata": {
        "id": "orwwTq7A4Zl1"
      },
      "source": [
        "## s_str.strip()"
      ]
    },
    {
      "cell_type": "code",
      "metadata": {
        "id": "QbbCGcg1_m9t"
      },
      "source": [
        "s_frase2 = '  Brasil: Ordem e Progresso!  '"
      ],
      "execution_count": null,
      "outputs": []
    },
    {
      "cell_type": "code",
      "metadata": {
        "id": "ehLGkpUC_h0A"
      },
      "source": [
        "s_frase2.strip()"
      ],
      "execution_count": null,
      "outputs": []
    },
    {
      "cell_type": "markdown",
      "metadata": {
        "id": "AC0VIn1Mqeyb"
      },
      "source": [
        "Observe acima que os espaços antes e depois da string foram excluídos."
      ]
    },
    {
      "cell_type": "markdown",
      "metadata": {
        "id": "xFTubPhW4e_c"
      },
      "source": [
        "## s_str.isdigit()"
      ]
    },
    {
      "cell_type": "code",
      "metadata": {
        "id": "1xK9VoBR_7-C"
      },
      "source": [
        "s_frase.isdigit()"
      ],
      "execution_count": null,
      "outputs": []
    },
    {
      "cell_type": "code",
      "metadata": {
        "id": "J2o9UAkT__vY"
      },
      "source": [
        "'1234567a'.isdigit()"
      ],
      "execution_count": null,
      "outputs": []
    },
    {
      "cell_type": "code",
      "metadata": {
        "id": "Ll_nLgOpAFC2"
      },
      "source": [
        "'1234567'.isdigit()"
      ],
      "execution_count": null,
      "outputs": []
    },
    {
      "cell_type": "markdown",
      "metadata": {
        "id": "NYN11jnx4l1z"
      },
      "source": [
        "## s_string.isspace()"
      ]
    },
    {
      "cell_type": "code",
      "metadata": {
        "id": "imww41-C1XXK"
      },
      "source": [
        "s_frase[6:7].isspace()"
      ],
      "execution_count": null,
      "outputs": []
    },
    {
      "cell_type": "markdown",
      "metadata": {
        "id": "yft3MA264ot7"
      },
      "source": [
        "## s_string.startswith('s_Character')"
      ]
    },
    {
      "cell_type": "code",
      "metadata": {
        "id": "SB4SoJxuCTlY"
      },
      "source": [
        "s_frase"
      ],
      "execution_count": null,
      "outputs": []
    },
    {
      "cell_type": "code",
      "metadata": {
        "id": "L1hY57TW4tL5"
      },
      "source": [
        "s_frase.startswith('Beauty')"
      ],
      "execution_count": null,
      "outputs": []
    },
    {
      "cell_type": "code",
      "metadata": {
        "id": "HdAJPhAH40C6"
      },
      "source": [
        "s_frase.startswith('Beautiful')"
      ],
      "execution_count": null,
      "outputs": []
    },
    {
      "cell_type": "markdown",
      "metadata": {
        "id": "aJ0XLdMN45kW"
      },
      "source": [
        "## s_string.endswith('s_Character')"
      ]
    },
    {
      "cell_type": "code",
      "metadata": {
        "id": "lIbh8oBICU3M"
      },
      "source": [
        "s_frase"
      ],
      "execution_count": null,
      "outputs": []
    },
    {
      "cell_type": "markdown",
      "metadata": {
        "id": "fST0sCs6q3Se"
      },
      "source": [
        "A string s_frase termina com '!'?"
      ]
    },
    {
      "cell_type": "code",
      "metadata": {
        "id": "1oy9r22A5J2g"
      },
      "source": [
        "s_frase.endswith('!')"
      ],
      "execution_count": null,
      "outputs": []
    },
    {
      "cell_type": "markdown",
      "metadata": {
        "id": "wVAE2jyDq8lB"
      },
      "source": [
        "A string s_frase termina com '.'?"
      ]
    },
    {
      "cell_type": "code",
      "metadata": {
        "id": "1v332nD7qzga"
      },
      "source": [
        "s_frase.endswith('.')"
      ],
      "execution_count": null,
      "outputs": []
    },
    {
      "cell_type": "markdown",
      "metadata": {
        "id": "g4T-n_Vq5kje"
      },
      "source": [
        "## s_string.find('s_Charactere')"
      ]
    },
    {
      "cell_type": "code",
      "metadata": {
        "id": "fpYCC-pACWPb"
      },
      "source": [
        "s_frase"
      ],
      "execution_count": null,
      "outputs": []
    },
    {
      "cell_type": "code",
      "metadata": {
        "id": "NRIG8n0259yW"
      },
      "source": [
        "# Primeira ocorrência de ',':\n",
        "s_frase.find(',')"
      ],
      "execution_count": null,
      "outputs": []
    },
    {
      "cell_type": "markdown",
      "metadata": {
        "id": "x1RDdI6x6YD8"
      },
      "source": [
        "Como esperado, substr= ',' faz parte de s_frase."
      ]
    },
    {
      "cell_type": "markdown",
      "metadata": {
        "id": "wXnNRYW46vhX"
      },
      "source": [
        "Se 's_Character' não faz parte de s_frase, Python retorna -1, como abaixo:"
      ]
    },
    {
      "cell_type": "code",
      "metadata": {
        "id": "k2Ok8__-654p"
      },
      "source": [
        "s_frase.find('Beauti') # 'i' ao invés de 'y'"
      ],
      "execution_count": null,
      "outputs": []
    },
    {
      "cell_type": "markdown",
      "metadata": {
        "id": "p5jNHCDQ7Bl6"
      },
      "source": [
        "## s_string.replace(old, new)"
      ]
    },
    {
      "cell_type": "markdown",
      "metadata": {
        "id": "UUM3cnlDaqPs"
      },
      "source": [
        "### Exemplo 1"
      ]
    },
    {
      "cell_type": "code",
      "metadata": {
        "id": "Vi7TBVoXr0Uk"
      },
      "source": [
        "s_frase"
      ],
      "execution_count": null,
      "outputs": []
    },
    {
      "cell_type": "code",
      "metadata": {
        "id": "MWFiLutR6cRR"
      },
      "source": [
        "s_frase.replace('most', 'MOST')"
      ],
      "execution_count": null,
      "outputs": []
    },
    {
      "cell_type": "markdown",
      "metadata": {
        "id": "RT46g3S0awnf"
      },
      "source": [
        "### Exemplo 2\n",
        "* Remover o caractere ' ' por ''."
      ]
    },
    {
      "cell_type": "code",
      "metadata": {
        "id": "UTKsbNIz9lnX"
      },
      "source": [
        "s_frase.replace(' ', '')"
      ],
      "execution_count": null,
      "outputs": []
    },
    {
      "cell_type": "markdown",
      "metadata": {
        "id": "TzPrEftNa69C"
      },
      "source": [
        "### Exemplo 3\n",
        "* Vamos tentar substituir o caracter '?' por '!'"
      ]
    },
    {
      "cell_type": "code",
      "metadata": {
        "id": "E0FTeY_lsNke"
      },
      "source": [
        "s_frase.replace('?', '!')"
      ],
      "execution_count": null,
      "outputs": []
    },
    {
      "cell_type": "markdown",
      "metadata": {
        "id": "mgzh1KQG7bx6"
      },
      "source": [
        "O que aconteceu? Não substituiu... Porque?\n",
        "\n",
        "Saberia explicar porque o Python não substituiu?"
      ]
    },
    {
      "cell_type": "markdown",
      "metadata": {
        "id": "DudTwJSX7ltC"
      },
      "source": [
        "E agora?"
      ]
    },
    {
      "cell_type": "code",
      "metadata": {
        "id": "-2BZQ6mG7hh6"
      },
      "source": [
        "s_frase.replace('.', '!')"
      ],
      "execution_count": null,
      "outputs": []
    },
    {
      "cell_type": "markdown",
      "metadata": {
        "id": "42v6zRUO8DlQ"
      },
      "source": [
        "... Entretanto, qual o conteúdo de s_frase?"
      ]
    },
    {
      "cell_type": "code",
      "metadata": {
        "id": "Lmo4aiol7qUF"
      },
      "source": [
        "s_frase"
      ],
      "execution_count": null,
      "outputs": []
    },
    {
      "cell_type": "markdown",
      "metadata": {
        "id": "ap9nFc2E8MAG"
      },
      "source": [
        "**DICA**: Strings are imutáveis! A forma correta seria:"
      ]
    },
    {
      "cell_type": "code",
      "metadata": {
        "id": "eH8yHJik8U0N"
      },
      "source": [
        "s_frase= s_frase.replace('.', '!')"
      ],
      "execution_count": null,
      "outputs": []
    },
    {
      "cell_type": "markdown",
      "metadata": {
        "id": "nHCudHwJ8eSf"
      },
      "source": [
        "Desta forma, redefinimos uma nova variável chamada s_frase. Mas é a mesma variável que anteriormente, certo?"
      ]
    },
    {
      "cell_type": "code",
      "metadata": {
        "id": "WRFcfuzH8cBL"
      },
      "source": [
        "s_frase"
      ],
      "execution_count": null,
      "outputs": []
    },
    {
      "cell_type": "markdown",
      "metadata": {
        "id": "aL2UZp9T8lAk"
      },
      "source": [
        "## s_string.split('sep')"
      ]
    },
    {
      "cell_type": "markdown",
      "metadata": {
        "id": "pCPa0pBqbHdK"
      },
      "source": [
        "### Exemplo 1"
      ]
    },
    {
      "cell_type": "code",
      "metadata": {
        "id": "7y0ieQQm9Anx"
      },
      "source": [
        "s_frase.split(':')"
      ],
      "execution_count": null,
      "outputs": []
    },
    {
      "cell_type": "markdown",
      "metadata": {
        "id": "aS-DYJAyshwc"
      },
      "source": [
        "Não separou nada! Correto, pois o Python separa somente quando enconra o separador ':'"
      ]
    },
    {
      "cell_type": "markdown",
      "metadata": {
        "id": "f3YeNvTDss_X"
      },
      "source": [
        "Vamos tentar o separador ','..."
      ]
    },
    {
      "cell_type": "code",
      "metadata": {
        "id": "1kNciI7f92_n"
      },
      "source": [
        "s_frase"
      ],
      "execution_count": null,
      "outputs": []
    },
    {
      "cell_type": "code",
      "metadata": {
        "id": "E3QlgKQYsv3k"
      },
      "source": [
        "s_frase.split(',')"
      ],
      "execution_count": null,
      "outputs": []
    },
    {
      "cell_type": "markdown",
      "metadata": {
        "id": "AA-z6jcQbKtq"
      },
      "source": [
        "### Exemplo 2"
      ]
    },
    {
      "cell_type": "code",
      "metadata": {
        "id": "2ATukxpd9kij"
      },
      "source": [
        "s_frase3 = '73540877412968744629867535897645310956547894653240984764'"
      ],
      "execution_count": null,
      "outputs": []
    },
    {
      "cell_type": "markdown",
      "metadata": {
        "id": "506UkCh39xFS"
      },
      "source": [
        "Qual o output do code abaixo:"
      ]
    },
    {
      "cell_type": "code",
      "metadata": {
        "id": "C2G9vyGt91Ir"
      },
      "source": [
        "s_frase3.split('6')"
      ],
      "execution_count": null,
      "outputs": []
    },
    {
      "cell_type": "code",
      "metadata": {
        "id": "OiVCdu04-GwZ"
      },
      "source": [
        "s_frase3.split('6')[0]"
      ],
      "execution_count": null,
      "outputs": []
    },
    {
      "cell_type": "markdown",
      "metadata": {
        "id": "S3gX9y-tz9ZE"
      },
      "source": [
        "## s_string.join()"
      ]
    },
    {
      "cell_type": "code",
      "metadata": {
        "id": "6jwpWDWb0NFO"
      },
      "source": [
        "''.join(['Strings','são','imutáveis']) # Observe que os elementos a serem concatenados estão entre []."
      ],
      "execution_count": null,
      "outputs": []
    },
    {
      "cell_type": "code",
      "metadata": {
        "id": "ueCpTzdH0XeJ"
      },
      "source": [
        "s_frase4 = ' '.join(['Strings','são','imutáveis'])\n",
        "s_frase4"
      ],
      "execution_count": null,
      "outputs": []
    },
    {
      "cell_type": "markdown",
      "metadata": {
        "id": "5bW0K_5q-Ud2"
      },
      "source": [
        "## Membership 'in' e 'not in'\n",
        "* Este operador testa se um valor é ou não membro de uma sequência (list, string, ou  dictionary)."
      ]
    },
    {
      "cell_type": "code",
      "metadata": {
        "id": "7e0_9IfEtSf8"
      },
      "source": [
        "s_frase"
      ],
      "execution_count": null,
      "outputs": []
    },
    {
      "cell_type": "code",
      "metadata": {
        "id": "NKhMZwTG-XZA"
      },
      "source": [
        "'Beauti' in s_frase # Com 'i' ao invés de 'y'"
      ],
      "execution_count": null,
      "outputs": []
    },
    {
      "cell_type": "code",
      "metadata": {
        "id": "brLjaj1B-b9Q"
      },
      "source": [
        "'beauty' in s_frase"
      ],
      "execution_count": null,
      "outputs": []
    },
    {
      "cell_type": "code",
      "metadata": {
        "id": "0cccmPea-gkw"
      },
      "source": [
        "'Beautiful' not in s_frase"
      ],
      "execution_count": null,
      "outputs": []
    },
    {
      "cell_type": "code",
      "metadata": {
        "id": "AD7GIeAptVZM"
      },
      "source": [
        "'beautiful' not in s_frase"
      ],
      "execution_count": null,
      "outputs": []
    },
    {
      "cell_type": "markdown",
      "metadata": {
        "id": "mVU0GxfUf9H1"
      },
      "source": [
        "___\n",
        "# **WRAP UP**"
      ]
    },
    {
      "cell_type": "markdown",
      "metadata": {
        "id": "lbj-kA95gAzI"
      },
      "source": [
        "___\n",
        "# **EXERCÍCIOS**"
      ]
    },
    {
      "cell_type": "markdown",
      "metadata": {
        "id": "x1TlgKY0xWB1"
      },
      "source": [
        "## Exercício 1\n",
        "Consulte a página [Python Data Type: String - Exercises, Practice, Solution](https://www.w3resource.com/python-exercises/string/) para mais exercícios relacionados á este tópico."
      ]
    }
  ]
}