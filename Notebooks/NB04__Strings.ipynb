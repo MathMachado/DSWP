{
  "nbformat": 4,
  "nbformat_minor": 0,
  "metadata": {
    "colab": {
      "name": "PythonLab.ipynb",
      "provenance": [],
      "collapsed_sections": [
        "n8BIbzQbNWUo",
        "7eS94uQ4NhVR",
        "SYOgJpGYVLUu",
        "CaHFxk98W5if",
        "ReWUyWiHXCnc",
        "CqszHxaKHr2h",
        "tXgF1Wl9gHKY",
        "Fotx7XUquAo8",
        "36kmLUYDvsUI",
        "SWO2GdNovxAp",
        "vpN54l4vxze5",
        "u4HOf9SNytSq",
        "6BQ9oZiD9hg5",
        "tz5-QdrX9vct",
        "p1muBgMX8NK4",
        "FxTC2-U88ajk",
        "z8EYn0pP25Rh"
      ],
      "toc_visible": true,
      "include_colab_link": true
    },
    "kernelspec": {
      "name": "python3",
      "display_name": "Python 3"
    },
    "accelerator": "GPU"
  },
  "cells": [
    {
      "cell_type": "markdown",
      "metadata": {
        "id": "view-in-github",
        "colab_type": "text"
      },
      "source": [
        "<a href=\"https://colab.research.google.com/github/MathMachado/DSWP/blob/master/Notebooks/NB04__Strings.ipynb\" target=\"_parent\"><img src=\"https://colab.research.google.com/assets/colab-badge.svg\" alt=\"Open In Colab\"/></a>"
      ]
    },
    {
      "cell_type": "markdown",
      "metadata": {
        "id": "Gbziy0R0PRtA",
        "colab_type": "text"
      },
      "source": [
        "# **Notas & observações**\n"
      ]
    },
    {
      "cell_type": "markdown",
      "metadata": {
        "id": "sjF60sU5RJrw",
        "colab_type": "text"
      },
      "source": [
        "___\n",
        "# **Agenda**:\n",
        "> Nesta capítulo, vamos falar sobre:\n",
        "\n",
        "* Strings\n",
        "* Formatar Strings\n",
        "* Manipular Strings\n",
        "* Wrap Up\n",
        "* Exercícios"
      ]
    },
    {
      "cell_type": "markdown",
      "metadata": {
        "id": "pKC1CJJggtQC",
        "colab_type": "text"
      },
      "source": [
        "___\n",
        "# **Strings**\n",
        "* Strings são sequência de caracteres entre aspas (duplas ou simples);\n",
        "* variáveis strings são imutáveis. Isso quer dizer que o valor de uma variável string não pode ser modificada ao longo do código."
      ]
    },
    {
      "cell_type": "code",
      "metadata": {
        "id": "pEm76z8IxFHt",
        "colab_type": "code",
        "colab": {}
      },
      "source": [
        "s_A= 'Strings são imutaveis.'"
      ],
      "execution_count": 0,
      "outputs": []
    },
    {
      "cell_type": "code",
      "metadata": {
        "id": "duPYy_N6xO_4",
        "colab_type": "code",
        "outputId": "b96dddd5-767a-44dd-f622-d71845dc6495",
        "colab": {
          "base_uri": "https://localhost:8080/",
          "height": 34
        }
      },
      "source": [
        "# Endereço de memória da string s_A:\n",
        "id(s_A)"
      ],
      "execution_count": 0,
      "outputs": [
        {
          "output_type": "execute_result",
          "data": {
            "text/plain": [
              "139688724127536"
            ]
          },
          "metadata": {
            "tags": []
          },
          "execution_count": 48
        }
      ]
    },
    {
      "cell_type": "code",
      "metadata": {
        "id": "Um4nNkaJxoSH",
        "colab_type": "code",
        "outputId": "fc395805-7858-4c68-bd0f-2ebc3157cdbf",
        "colab": {
          "base_uri": "https://localhost:8080/",
          "height": 34
        }
      },
      "source": [
        "# Mostrando partes da string s_A:\n",
        "s_A[21]"
      ],
      "execution_count": 0,
      "outputs": [
        {
          "output_type": "execute_result",
          "data": {
            "text/plain": [
              "'.'"
            ]
          },
          "metadata": {
            "tags": []
          },
          "execution_count": 56
        }
      ]
    },
    {
      "cell_type": "markdown",
      "metadata": {
        "id": "9wOJBaWnyB8z",
        "colab_type": "text"
      },
      "source": [
        "Vamos tentar alterar o conteúdo de s_A[21] para \"!\"..."
      ]
    },
    {
      "cell_type": "code",
      "metadata": {
        "id": "jHXDVlACxr3O",
        "colab_type": "code",
        "outputId": "49340151-8f0c-4c17-f6b5-92e5a7d14aff",
        "colab": {
          "base_uri": "https://localhost:8080/",
          "height": 162
        }
      },
      "source": [
        "s_A[21]= '!' "
      ],
      "execution_count": 0,
      "outputs": [
        {
          "output_type": "error",
          "ename": "TypeError",
          "evalue": "ignored",
          "traceback": [
            "\u001b[0;31m---------------------------------------------------------------------------\u001b[0m",
            "\u001b[0;31mTypeError\u001b[0m                                 Traceback (most recent call last)",
            "\u001b[0;32m<ipython-input-52-837bac737291>\u001b[0m in \u001b[0;36m<module>\u001b[0;34m()\u001b[0m\n\u001b[0;32m----> 1\u001b[0;31m \u001b[0ms_A\u001b[0m\u001b[0;34m[\u001b[0m\u001b[0;36m21\u001b[0m\u001b[0;34m]\u001b[0m\u001b[0;34m=\u001b[0m \u001b[0;34m'!'\u001b[0m\u001b[0;34m\u001b[0m\u001b[0;34m\u001b[0m\u001b[0m\n\u001b[0m",
            "\u001b[0;31mTypeError\u001b[0m: 'str' object does not support item assignment"
          ]
        }
      ]
    },
    {
      "cell_type": "markdown",
      "metadata": {
        "id": "nIa76RSCyN4x",
        "colab_type": "text"
      },
      "source": [
        "Ou seja, não podemos alterar o valor de S_A."
      ]
    },
    {
      "cell_type": "code",
      "metadata": {
        "id": "aXzrRV37x8om",
        "colab_type": "code",
        "outputId": "45601027-9eb5-467c-b964-a68523b643f1",
        "colab": {
          "base_uri": "https://localhost:8080/",
          "height": 34
        }
      },
      "source": [
        "s_A"
      ],
      "execution_count": 0,
      "outputs": [
        {
          "output_type": "execute_result",
          "data": {
            "text/plain": [
              "'Strings são imutaveis.'"
            ]
          },
          "metadata": {
            "tags": []
          },
          "execution_count": 53
        }
      ]
    },
    {
      "cell_type": "code",
      "metadata": {
        "id": "z7rsW-bvxSzY",
        "colab_type": "code",
        "outputId": "c9493338-da57-445b-a207-828ed55142de",
        "colab": {
          "base_uri": "https://localhost:8080/",
          "height": 34
        }
      },
      "source": [
        "# Mas se fizermos...\n",
        "s_A= s_A + ' Portanto, não podemos alterar o valor ao longo do programa.'\n",
        "s_A"
      ],
      "execution_count": 0,
      "outputs": [
        {
          "output_type": "execute_result",
          "data": {
            "text/plain": [
              "'Strings são imutaveis.Portanto, não podemos alterar o valor ao longo do programa.'"
            ]
          },
          "metadata": {
            "tags": []
          },
          "execution_count": 54
        }
      ]
    },
    {
      "cell_type": "code",
      "metadata": {
        "id": "Tg0ilTyLxg9h",
        "colab_type": "code",
        "outputId": "4e089207-a55f-4068-ea9c-8ed97193ee0a",
        "colab": {
          "base_uri": "https://localhost:8080/",
          "height": 34
        }
      },
      "source": [
        "# Endereço de memória da string s_A:\n",
        "id(s_A)"
      ],
      "execution_count": 0,
      "outputs": [
        {
          "output_type": "execute_result",
          "data": {
            "text/plain": [
              "139688723900656"
            ]
          },
          "metadata": {
            "tags": []
          },
          "execution_count": 57
        }
      ]
    },
    {
      "cell_type": "markdown",
      "metadata": {
        "id": "81eenNJdydbz",
        "colab_type": "text"
      },
      "source": [
        "Observe que agora temos outro endereço para a variável s_A. Ou seja, esta é outra variável pois atribuimos s_A = s_A + '...'"
      ]
    },
    {
      "cell_type": "markdown",
      "metadata": {
        "id": "CqszHxaKHr2h",
        "colab_type": "text"
      },
      "source": [
        "___\n",
        "# **Formatar Strings**\n",
        "* f-strings"
      ]
    },
    {
      "cell_type": "markdown",
      "metadata": {
        "id": "3DCs26n_ga62",
        "colab_type": "text"
      },
      "source": [
        "Considere as variáveis a seguir:"
      ]
    },
    {
      "cell_type": "code",
      "metadata": {
        "id": "XSSN1lttbX39",
        "colab_type": "code",
        "colab": {}
      },
      "source": [
        "s_Nome= 'Fulano de Tal'\n",
        "s_Profissao= 'Cientista de Dados'\n",
        "i_Idade= 44\n",
        "s_Cidade= 'São Paulo'"
      ],
      "execution_count": 0,
      "outputs": []
    },
    {
      "cell_type": "code",
      "metadata": {
        "id": "xSHrkxPsckl4",
        "colab_type": "code",
        "outputId": "1543dc9c-8ce9-4951-8bf4-f4e0f491988c",
        "colab": {
          "base_uri": "https://localhost:8080/",
          "height": 34
        }
      },
      "source": [
        "print(f'O Senhor {s_Nome} é {s_Profissao}, tem {i_Idade} anos de idade e mora em {s_Cidade}.')"
      ],
      "execution_count": 0,
      "outputs": [
        {
          "output_type": "stream",
          "text": [
            "O Senhor Fulano de Tal é Cientista de Dados, tem 44 anos de idade e mora em São Paulo.\n"
          ],
          "name": "stdout"
        }
      ]
    },
    {
      "cell_type": "markdown",
      "metadata": {
        "id": "5IiolSZKr7qr",
        "colab_type": "text"
      },
      "source": [
        "Dado que A= 5 e B= 3, qual o valor de C na expressão a seguir?"
      ]
    },
    {
      "cell_type": "code",
      "metadata": {
        "id": "Yelq-zVPHwZp",
        "colab_type": "code",
        "colab": {}
      },
      "source": [
        "A= 7\n",
        "B= 3"
      ],
      "execution_count": 0,
      "outputs": []
    },
    {
      "cell_type": "code",
      "metadata": {
        "id": "k_EKv-nQsBEX",
        "colab_type": "code",
        "colab": {}
      },
      "source": [
        "C= B/A"
      ],
      "execution_count": 0,
      "outputs": []
    },
    {
      "cell_type": "markdown",
      "metadata": {
        "id": "oHM1rNXOPQQ8",
        "colab_type": "text"
      },
      "source": [
        "Mostrar o valor de C usando 6 casas decimais:"
      ]
    },
    {
      "cell_type": "code",
      "metadata": {
        "id": "Z7Z-qu6XXCwz",
        "colab_type": "code",
        "outputId": "eff928f8-2e77-40a1-99ac-abe501c9e24c",
        "colab": {
          "base_uri": "https://localhost:8080/",
          "height": 34
        }
      },
      "source": [
        "print(f'O valor de C é {C:{10}.{6}}')"
      ],
      "execution_count": 0,
      "outputs": [
        {
          "output_type": "stream",
          "text": [
            "O valor de C é   0.428571\n"
          ],
          "name": "stdout"
        }
      ]
    },
    {
      "cell_type": "markdown",
      "metadata": {
        "id": "0lRQ26dzekb0",
        "colab_type": "text"
      },
      "source": [
        "Veja que interessante e intuitivo: var_num:{parte_inteira}.{casas_decimais}. Veja novamente:"
      ]
    },
    {
      "cell_type": "code",
      "metadata": {
        "id": "YQ8TcN3tezZ1",
        "colab_type": "code",
        "outputId": "ff8ac4f1-76f5-4649-e121-d4a237ebbd3a",
        "colab": {
          "base_uri": "https://localhost:8080/",
          "height": 34
        }
      },
      "source": [
        "print(f'O valor de C é {C:{10}.{2}}')"
      ],
      "execution_count": 0,
      "outputs": [
        {
          "output_type": "stream",
          "text": [
            "O valor de C é       0.43\n"
          ],
          "name": "stdout"
        }
      ]
    },
    {
      "cell_type": "markdown",
      "metadata": {
        "id": "cWAqmY3xqiig",
        "colab_type": "text"
      },
      "source": [
        "Podemos aplicar funções às f-strings. Por exemplo:"
      ]
    },
    {
      "cell_type": "code",
      "metadata": {
        "id": "1c1xg2noqmyr",
        "colab_type": "code",
        "colab": {}
      },
      "source": [
        "s_Country= 'Brasil'"
      ],
      "execution_count": 0,
      "outputs": []
    },
    {
      "cell_type": "code",
      "metadata": {
        "id": "mSn0hHQnq_6X",
        "colab_type": "code",
        "outputId": "0c198102-1f37-43d0-bc4a-1d0208c0a4ec",
        "colab": {
          "base_uri": "https://localhost:8080/",
          "height": 34
        }
      },
      "source": [
        "# Sem aplicarmos a função upper():\n",
        "f'Eu nasci no {s_Country}'"
      ],
      "execution_count": 0,
      "outputs": [
        {
          "output_type": "execute_result",
          "data": {
            "text/plain": [
              "'Eu nasci no Brasil'"
            ]
          },
          "metadata": {
            "tags": []
          },
          "execution_count": 8
        }
      ]
    },
    {
      "cell_type": "code",
      "metadata": {
        "id": "w76dcLUkrHer",
        "colab_type": "code",
        "outputId": "336ca6fd-ac00-49ef-aca2-6ab9fd3ccf4c",
        "colab": {
          "base_uri": "https://localhost:8080/",
          "height": 34
        }
      },
      "source": [
        "# Aplicando a função upper():\n",
        "f'Eu nasci no {s_Country.upper()}'"
      ],
      "execution_count": 0,
      "outputs": [
        {
          "output_type": "execute_result",
          "data": {
            "text/plain": [
              "'Eu nasci no BRASIL'"
            ]
          },
          "metadata": {
            "tags": []
          },
          "execution_count": 9
        }
      ]
    },
    {
      "cell_type": "markdown",
      "metadata": {
        "id": "2nMtUdre08dE",
        "colab_type": "text"
      },
      "source": [
        "___\n",
        "# **Manipular strings**"
      ]
    },
    {
      "cell_type": "markdown",
      "metadata": {
        "id": "UqlDK-4Oorif",
        "colab_type": "text"
      },
      "source": [
        "Suponha a string a seguir:\n",
        "\n",
        "Source: Read more at https://www.brainyquote.com/topics/beauty-quotes\""
      ]
    },
    {
      "cell_type": "code",
      "metadata": {
        "id": "noNBsutFoN9w",
        "colab_type": "code",
        "colab": {}
      },
      "source": [
        "s_Frase= \"Beauty has so many forms, and I think the most beautiful thing is confidence and loving yourself.\""
      ],
      "execution_count": 0,
      "outputs": []
    },
    {
      "cell_type": "markdown",
      "metadata": {
        "id": "numMjHgzpEfn",
        "colab_type": "text"
      },
      "source": [
        "Verificando o tipo da variável s_Frase:"
      ]
    },
    {
      "cell_type": "code",
      "metadata": {
        "id": "unGvjFaRpMpr",
        "colab_type": "code",
        "outputId": "52fb032d-8fe7-4af2-8183-9de524d8130f",
        "colab": {
          "base_uri": "https://localhost:8080/",
          "height": 34
        }
      },
      "source": [
        "type(s_Frase)"
      ],
      "execution_count": 0,
      "outputs": [
        {
          "output_type": "execute_result",
          "data": {
            "text/plain": [
              "str"
            ]
          },
          "metadata": {
            "tags": []
          },
          "execution_count": 2
        }
      ]
    },
    {
      "cell_type": "markdown",
      "metadata": {
        "id": "dgDJhf30t6wR",
        "colab_type": "text"
      },
      "source": [
        "Qual o tamanho da variável s_Frase?"
      ]
    },
    {
      "cell_type": "code",
      "metadata": {
        "id": "YP9Jl3zQuF8B",
        "colab_type": "code",
        "outputId": "3ce915d9-8951-4c81-fb3a-0dfff1532d63",
        "colab": {
          "base_uri": "https://localhost:8080/",
          "height": 34
        }
      },
      "source": [
        "len(s_Frase)"
      ],
      "execution_count": 0,
      "outputs": [
        {
          "output_type": "execute_result",
          "data": {
            "text/plain": [
              "97"
            ]
          },
          "metadata": {
            "tags": []
          },
          "execution_count": 3
        }
      ]
    },
    {
      "cell_type": "markdown",
      "metadata": {
        "id": "VtrNZcilx59p",
        "colab_type": "text"
      },
      "source": [
        "O conteúdo da variável s_Frase pode ser visto como um array. Portanto, podemos acessar cada caractere da frase da seguinte forma:"
      ]
    },
    {
      "cell_type": "code",
      "metadata": {
        "id": "KtshlZ5OptHy",
        "colab_type": "code",
        "outputId": "25f4b79d-9d95-4b1b-cf3d-81537d9dad5a",
        "colab": {
          "base_uri": "https://localhost:8080/",
          "height": 34
        }
      },
      "source": [
        "s_Frase[0]"
      ],
      "execution_count": 0,
      "outputs": [
        {
          "output_type": "execute_result",
          "data": {
            "text/plain": [
              "'B'"
            ]
          },
          "metadata": {
            "tags": []
          },
          "execution_count": 4
        }
      ]
    },
    {
      "cell_type": "code",
      "metadata": {
        "id": "G5XDmNMKtQMl",
        "colab_type": "code",
        "outputId": "ad481d95-2303-4d30-be63-de903ecef679",
        "colab": {
          "base_uri": "https://localhost:8080/",
          "height": 34
        }
      },
      "source": [
        "s_Frase[6]"
      ],
      "execution_count": 0,
      "outputs": [
        {
          "output_type": "execute_result",
          "data": {
            "text/plain": [
              "' '"
            ]
          },
          "metadata": {
            "tags": []
          },
          "execution_count": 5
        }
      ]
    },
    {
      "cell_type": "code",
      "metadata": {
        "id": "IEUxkaqoqDMR",
        "colab_type": "code",
        "outputId": "21f8b6ab-2eb9-4d51-fc14-eb4653a97039",
        "colab": {
          "base_uri": "https://localhost:8080/",
          "height": 34
        }
      },
      "source": [
        "s_Frase[7]"
      ],
      "execution_count": 0,
      "outputs": [
        {
          "output_type": "execute_result",
          "data": {
            "text/plain": [
              "'h'"
            ]
          },
          "metadata": {
            "tags": []
          },
          "execution_count": 6
        }
      ]
    },
    {
      "cell_type": "markdown",
      "metadata": {
        "id": "7r20rZ5JttEn",
        "colab_type": "text"
      },
      "source": [
        "E o que há na posição 28?"
      ]
    },
    {
      "cell_type": "code",
      "metadata": {
        "id": "FEDrIYzgsja0",
        "colab_type": "code",
        "outputId": "9e2b188b-17b5-4af9-dba0-fc8f9e5878c3",
        "colab": {
          "base_uri": "https://localhost:8080/",
          "height": 34
        }
      },
      "source": [
        "s_Frase[28]"
      ],
      "execution_count": 0,
      "outputs": [
        {
          "output_type": "execute_result",
          "data": {
            "text/plain": [
              "'d'"
            ]
          },
          "metadata": {
            "tags": []
          },
          "execution_count": 7
        }
      ]
    },
    {
      "cell_type": "markdown",
      "metadata": {
        "id": "-qH30_RNnlAF",
        "colab_type": "text"
      },
      "source": [
        "E qual o caractere/conteúdo da posição 97?"
      ]
    },
    {
      "cell_type": "code",
      "metadata": {
        "id": "zROKPKyLnqde",
        "colab_type": "code",
        "outputId": "15da2bae-03e4-4a01-b2c5-01426b4b249a",
        "colab": {
          "base_uri": "https://localhost:8080/",
          "height": 162
        }
      },
      "source": [
        "s_Frase[97]"
      ],
      "execution_count": 0,
      "outputs": [
        {
          "output_type": "error",
          "ename": "IndexError",
          "evalue": "ignored",
          "traceback": [
            "\u001b[0;31m---------------------------------------------------------------------------\u001b[0m",
            "\u001b[0;31mIndexError\u001b[0m                                Traceback (most recent call last)",
            "\u001b[0;32m<ipython-input-8-3a52ef287431>\u001b[0m in \u001b[0;36m<module>\u001b[0;34m()\u001b[0m\n\u001b[0;32m----> 1\u001b[0;31m \u001b[0ms_Frase\u001b[0m\u001b[0;34m[\u001b[0m\u001b[0;36m97\u001b[0m\u001b[0;34m]\u001b[0m\u001b[0;34m\u001b[0m\u001b[0;34m\u001b[0m\u001b[0m\n\u001b[0m",
            "\u001b[0;31mIndexError\u001b[0m: string index out of range"
          ]
        }
      ]
    },
    {
      "cell_type": "markdown",
      "metadata": {
        "id": "1DIaG36XuOvK",
        "colab_type": "text"
      },
      "source": [
        "Como esperando, Python aponta erro. Porque?\n",
        "\n",
        "* Lembre-se que len(s_Frase)= 96, ok?"
      ]
    },
    {
      "cell_type": "markdown",
      "metadata": {
        "id": "v6X_L5leuW-M",
        "colab_type": "text"
      },
      "source": [
        "... Mas s_Frase[-1] parece estranho pra você? Vamos ver se há conteúdo para s_Frase[-1]:"
      ]
    },
    {
      "cell_type": "code",
      "metadata": {
        "id": "GrJWvSBzubUp",
        "colab_type": "code",
        "outputId": "e237254f-b97c-4140-cabb-ea981c94162d",
        "colab": {
          "base_uri": "https://localhost:8080/",
          "height": 34
        }
      },
      "source": [
        "s_Frase[-1]"
      ],
      "execution_count": 0,
      "outputs": [
        {
          "output_type": "execute_result",
          "data": {
            "text/plain": [
              "'.'"
            ]
          },
          "metadata": {
            "tags": []
          },
          "execution_count": 9
        }
      ]
    },
    {
      "cell_type": "markdown",
      "metadata": {
        "id": "l7YCDSoyujja",
        "colab_type": "text"
      },
      "source": [
        "E qual o conteúdo da posição -2?"
      ]
    },
    {
      "cell_type": "code",
      "metadata": {
        "id": "ugAlE8L5uzhT",
        "colab_type": "code",
        "outputId": "ebf35857-026b-4c73-e3e0-5b32e4e064e3",
        "colab": {
          "base_uri": "https://localhost:8080/",
          "height": 34
        }
      },
      "source": [
        "s_Frase[-2]"
      ],
      "execution_count": 0,
      "outputs": [
        {
          "output_type": "execute_result",
          "data": {
            "text/plain": [
              "'f'"
            ]
          },
          "metadata": {
            "tags": []
          },
          "execution_count": 10
        }
      ]
    },
    {
      "cell_type": "markdown",
      "metadata": {
        "id": "f2ZTguXjumoS",
        "colab_type": "text"
      },
      "source": [
        "Saberia explicar o que acontece?"
      ]
    },
    {
      "cell_type": "markdown",
      "metadata": {
        "id": "llMrN_idzT7F",
        "colab_type": "text"
      },
      "source": [
        "## Concatenar strings\n",
        "* Considere as strings a seguir:"
      ]
    },
    {
      "cell_type": "code",
      "metadata": {
        "id": "tfYrq8auzcaT",
        "colab_type": "code",
        "colab": {}
      },
      "source": [
        "s_A1= 'Strings são imutáveis!'\n",
        "s_A2= ' Portanto, não podemos alterar o valor.'"
      ],
      "execution_count": 0,
      "outputs": []
    },
    {
      "cell_type": "code",
      "metadata": {
        "id": "N0qNvZJUzqvh",
        "colab_type": "code",
        "outputId": "9387483e-ea11-476b-9903-5df6cd296a32",
        "colab": {
          "base_uri": "https://localhost:8080/",
          "height": 34
        }
      },
      "source": [
        "s_A1+s_A2"
      ],
      "execution_count": 0,
      "outputs": [
        {
          "output_type": "execute_result",
          "data": {
            "text/plain": [
              "'Strings são imutáveis! Portanto, não podemos alterar o valor.'"
            ]
          },
          "metadata": {
            "tags": []
          },
          "execution_count": 12
        }
      ]
    },
    {
      "cell_type": "markdown",
      "metadata": {
        "id": "uzlTo9dXwjh7",
        "colab_type": "text"
      },
      "source": [
        "## Cortar Strings\n",
        "* Algumas vezes precisamos de parte da string."
      ]
    },
    {
      "cell_type": "markdown",
      "metadata": {
        "id": "EDJk_u2fxgEs",
        "colab_type": "text"
      },
      "source": [
        "Parte da string, com começo e fim..."
      ]
    },
    {
      "cell_type": "code",
      "metadata": {
        "id": "4y-DLj9MsxDm",
        "colab_type": "code",
        "outputId": "e10a6c5e-2275-4ee9-b341-138b99950b22",
        "colab": {
          "base_uri": "https://localhost:8080/",
          "height": 34
        }
      },
      "source": [
        "# Nossa string:\n",
        "s_Frase"
      ],
      "execution_count": 0,
      "outputs": [
        {
          "output_type": "execute_result",
          "data": {
            "text/plain": [
              "'Beauty has so many forms, and I think the most beautiful thing is confidence and loving yourself.'"
            ]
          },
          "metadata": {
            "tags": []
          },
          "execution_count": 13
        }
      ]
    },
    {
      "cell_type": "code",
      "metadata": {
        "id": "MTX25_yOwdfW",
        "colab_type": "code",
        "outputId": "e3d11d3d-b0c4-4414-ad6c-3786514c32b1",
        "colab": {
          "base_uri": "https://localhost:8080/",
          "height": 34
        }
      },
      "source": [
        "s_Frase[0:24]"
      ],
      "execution_count": 0,
      "outputs": [
        {
          "output_type": "execute_result",
          "data": {
            "text/plain": [
              "'Beauty has so many forms'"
            ]
          },
          "metadata": {
            "tags": []
          },
          "execution_count": 14
        }
      ]
    },
    {
      "cell_type": "markdown",
      "metadata": {
        "id": "kuWpwOCIenPm",
        "colab_type": "text"
      },
      "source": [
        "Obs.: s_Frase[0: 24] é equivalente a s_Frase[:24]. Veja abaixo:"
      ]
    },
    {
      "cell_type": "code",
      "metadata": {
        "id": "dSAEiWWYewKs",
        "colab_type": "code",
        "outputId": "be35c59a-fb59-4d31-e309-9bc698f07bf2",
        "colab": {
          "base_uri": "https://localhost:8080/",
          "height": 34
        }
      },
      "source": [
        "s_Frase[:24]"
      ],
      "execution_count": 0,
      "outputs": [
        {
          "output_type": "execute_result",
          "data": {
            "text/plain": [
              "'Beauty has so many forms'"
            ]
          },
          "metadata": {
            "tags": []
          },
          "execution_count": 15
        }
      ]
    },
    {
      "cell_type": "markdown",
      "metadata": {
        "id": "vQwK-9Hwohfs",
        "colab_type": "text"
      },
      "source": [
        "... Começa na posição 26 em diante..."
      ]
    },
    {
      "cell_type": "code",
      "metadata": {
        "id": "CJTBBmJ51Qhk",
        "colab_type": "code",
        "outputId": "2f03f90d-8202-4afd-f9e4-ae06da96ec58",
        "colab": {
          "base_uri": "https://localhost:8080/",
          "height": 34
        }
      },
      "source": [
        "s_Frase[26:]"
      ],
      "execution_count": 0,
      "outputs": [
        {
          "output_type": "execute_result",
          "data": {
            "text/plain": [
              "'and I think the most beautiful thing is confidence and loving yourself.'"
            ]
          },
          "metadata": {
            "tags": []
          },
          "execution_count": 26
        }
      ]
    },
    {
      "cell_type": "markdown",
      "metadata": {
        "id": "AMwm33py2Bpq",
        "colab_type": "text"
      },
      "source": [
        "... Conteúdo de toda a string:"
      ]
    },
    {
      "cell_type": "code",
      "metadata": {
        "id": "Gz5TPx1G2GLN",
        "colab_type": "code",
        "outputId": "6793fa0a-1f08-4128-ccab-7acbda079836",
        "colab": {
          "base_uri": "https://localhost:8080/",
          "height": 34
        }
      },
      "source": [
        "s_Frase[:] # Intuitivo não? se não definirmos o início e fim, então o Python retorna toda a string."
      ],
      "execution_count": 0,
      "outputs": [
        {
          "output_type": "execute_result",
          "data": {
            "text/plain": [
              "'Beauty has so many forms, and I think the most beautiful thing is confidence and loving yourself.'"
            ]
          },
          "metadata": {
            "tags": []
          },
          "execution_count": 27
        }
      ]
    },
    {
      "cell_type": "markdown",
      "metadata": {
        "id": "ze0w1N3I2OrO",
        "colab_type": "text"
      },
      "source": [
        "... Conteúdo da string começando em -9 em diante:"
      ]
    },
    {
      "cell_type": "code",
      "metadata": {
        "id": "xxVVx-uUs62P",
        "colab_type": "code",
        "outputId": "6e0c5de5-5d7b-454a-a283-30b0e63c6515",
        "colab": {
          "base_uri": "https://localhost:8080/",
          "height": 34
        }
      },
      "source": [
        "s_Frase"
      ],
      "execution_count": 0,
      "outputs": [
        {
          "output_type": "execute_result",
          "data": {
            "text/plain": [
              "'Beauty has so many forms, and I think the most beautiful thing is confidence and loving yourself.'"
            ]
          },
          "metadata": {
            "tags": []
          },
          "execution_count": 28
        }
      ]
    },
    {
      "cell_type": "code",
      "metadata": {
        "id": "RDspRsKB2Sv9",
        "colab_type": "code",
        "outputId": "5042d916-acc7-42f0-d1bb-3caaca431ac7",
        "colab": {
          "base_uri": "https://localhost:8080/",
          "height": 34
        }
      },
      "source": [
        "s_Frase[-9:]"
      ],
      "execution_count": 0,
      "outputs": [
        {
          "output_type": "execute_result",
          "data": {
            "text/plain": [
              "'yourself.'"
            ]
          },
          "metadata": {
            "tags": []
          },
          "execution_count": 29
        }
      ]
    },
    {
      "cell_type": "markdown",
      "metadata": {
        "id": "69LEpRHwe4W_",
        "colab_type": "text"
      },
      "source": [
        "... Uso do step: s_Frase[inicio:fim:step]. Vimos como selecionar partes da string usando inicio e fim. Agora vamos ver como usar step:"
      ]
    },
    {
      "cell_type": "code",
      "metadata": {
        "id": "KaCtXKx8fI2q",
        "colab_type": "code",
        "outputId": "a83e5660-bdac-42d2-cc81-08aeec5c2ea5",
        "colab": {
          "base_uri": "https://localhost:8080/",
          "height": 34
        }
      },
      "source": [
        "s_Frase[::2]"
      ],
      "execution_count": 0,
      "outputs": [
        {
          "output_type": "execute_result",
          "data": {
            "text/plain": [
              "'Bat a omn om,adItiktems euiu hn scniec n oigyusl.'"
            ]
          },
          "metadata": {
            "tags": []
          },
          "execution_count": 16
        }
      ]
    },
    {
      "cell_type": "markdown",
      "metadata": {
        "id": "77A_dBynfM1T",
        "colab_type": "text"
      },
      "source": [
        "Alguém saberia explicar o resultado da expressão acima?"
      ]
    },
    {
      "cell_type": "markdown",
      "metadata": {
        "id": "C7jQjrTYfSyc",
        "colab_type": "text"
      },
      "source": [
        "E da expressão a seguir:"
      ]
    },
    {
      "cell_type": "code",
      "metadata": {
        "id": "Bep0HF1zfUcF",
        "colab_type": "code",
        "outputId": "3af2d64d-16c6-4cb4-f025-84df3675e1f9",
        "colab": {
          "base_uri": "https://localhost:8080/",
          "height": 34
        }
      },
      "source": [
        "s_Frase[2::2]"
      ],
      "execution_count": 0,
      "outputs": [
        {
          "output_type": "execute_result",
          "data": {
            "text/plain": [
              "'at a omn om,adItiktems euiu hn scniec n oigyusl.'"
            ]
          },
          "metadata": {
            "tags": []
          },
          "execution_count": 17
        }
      ]
    },
    {
      "cell_type": "markdown",
      "metadata": {
        "id": "4psqkz9ZfcDG",
        "colab_type": "text"
      },
      "source": [
        "E a explicação para a expressão a seguir:"
      ]
    },
    {
      "cell_type": "code",
      "metadata": {
        "id": "QLZ-TeyEfe_b",
        "colab_type": "code",
        "outputId": "97a9c054-ccc7-43d1-ea46-f75cb079703c",
        "colab": {
          "base_uri": "https://localhost:8080/",
          "height": 34
        }
      },
      "source": [
        "s_Frase[:10:3]"
      ],
      "execution_count": 0,
      "outputs": [
        {
          "output_type": "execute_result",
          "data": {
            "text/plain": [
              "'Bu s'"
            ]
          },
          "metadata": {
            "tags": []
          },
          "execution_count": 19
        }
      ]
    },
    {
      "cell_type": "markdown",
      "metadata": {
        "id": "DdLGIGjEft6i",
        "colab_type": "text"
      },
      "source": [
        "Por fim, quem saberia explicar o resultado a seguir:"
      ]
    },
    {
      "cell_type": "code",
      "metadata": {
        "id": "3MSTykjifxjV",
        "colab_type": "code",
        "outputId": "7df69212-ee0b-495f-9c48-e499b3213e3d",
        "colab": {
          "base_uri": "https://localhost:8080/",
          "height": 34
        }
      },
      "source": [
        "s_Frase[::-1]"
      ],
      "execution_count": 0,
      "outputs": [
        {
          "output_type": "execute_result",
          "data": {
            "text/plain": [
              "'.flesruoy gnivol dna ecnedifnoc si gniht lufituaeb tsom eht kniht I dna ,smrof ynam os sah ytuaeB'"
            ]
          },
          "metadata": {
            "tags": []
          },
          "execution_count": 20
        }
      ]
    },
    {
      "cell_type": "markdown",
      "metadata": {
        "id": "ikg8ME172wKS",
        "colab_type": "text"
      },
      "source": [
        "## Funções Especiais para Strings\n",
        "\n",
        "* Na tabela abaixo, 'i' significa início e 'f' significa fim,\n",
        "\n",
        "| Sintaxe | Descrição ou Ação |\n",
        "|---------|-------------------|\n",
        "s_Str.count(s_Substr[, i[, f]]) | Conta ocorrências de 's_Substr' em s_Str |\n",
        "s_Str.endswith(s_Substr[, i[, f]]) | 'True' se s_Str termina com 's_Substr' |\n",
        "s_Str.find(s_Substr [,i[, f]]) | Encontra a primeira ocorrência de 's_Substr' em s_Str e retorna o índice ou -1 se não encontrar |\n",
        "s_Str.index(s_Substr [,i[, f]]) | Encontra a primeira ocorrência de 's_Substr' em s_Str e retorna o índice ou erro se não encontrar |\n",
        "s_Str.isalnum() | 'True' se s_Str tem somente caracteres alfanuméricos |\n",
        "s_Str.isalpha() | 'True' se s_Str tem somente caracteres alfabéticos |\n",
        "s_Str.isdigit() | 'True' se s_Str tem somente dígitos |\n",
        "s_Str.isspace() | 'True' se s_Str tem somente espaços em branco |\n",
        "s_Str.lower() | Converte s_Str para lowercase |\n",
        "s_Str.lstrip([chars]) | Remove espaços em branco do lado esquerdo de s_Str |\n",
        "s_Str.replace (old, new[, count]) | Substitui a string 'old' pela string 'new' |\n",
        "s_Str.rfind(s_Substr [, i[, f]]) | Encontra a última ocorrência de 's_Substr' em s_Str e retorna o índice ou -1 se não encontrar |\n",
        "s_Str.rindex(s_Substr [, i[, f]]) | Encontra a última ocorrência de 's_Substr' em s_Str e retorna seu índice ou erro se não encontrar |\n",
        "s_Str.rstrip([chars]) |Remove espaços em branco à direita de s_Str |\n",
        "s_Str.split('sep') | Split s_Str usando 'sep' e retorna a lista de substrings |\n",
        "s_Str.startswith(s_Substr[, i[, f]]) | 'True' se s_Str começa com 's_Substr' |\n",
        "s_Str.strip([chars]) | Remove 'chars' do lado esquerdo e direito de s_Str. O default é chars= ' ' |\n",
        "s_Str.upper() | Converte s_Str para uppercase |"
      ]
    },
    {
      "cell_type": "markdown",
      "metadata": {
        "id": "JgjsFY014Hqw",
        "colab_type": "text"
      },
      "source": [
        "## Tamanho da String s_Str\n",
        "* len(s_Str)"
      ]
    },
    {
      "cell_type": "code",
      "metadata": {
        "id": "A8kFtNzxCFuN",
        "colab_type": "code",
        "outputId": "7b8088ea-0a13-4199-b4d3-4fb7b5ad7b65",
        "colab": {
          "base_uri": "https://localhost:8080/",
          "height": 34
        }
      },
      "source": [
        "s_Frase"
      ],
      "execution_count": 0,
      "outputs": [
        {
          "output_type": "execute_result",
          "data": {
            "text/plain": [
              "'Beauty has so many forms, and I think the most beautiful thing is confidence and loving yourself.'"
            ]
          },
          "metadata": {
            "tags": []
          },
          "execution_count": 30
        }
      ]
    },
    {
      "cell_type": "code",
      "metadata": {
        "id": "A8DMhMnx_Gec",
        "colab_type": "code",
        "outputId": "e7883c44-f514-41cc-f1c7-fe7e69345d20",
        "colab": {
          "base_uri": "https://localhost:8080/",
          "height": 34
        }
      },
      "source": [
        "len(s_Frase)"
      ],
      "execution_count": 0,
      "outputs": [
        {
          "output_type": "execute_result",
          "data": {
            "text/plain": [
              "97"
            ]
          },
          "metadata": {
            "tags": []
          },
          "execution_count": 31
        }
      ]
    },
    {
      "cell_type": "markdown",
      "metadata": {
        "id": "FhSlJQkwBb_e",
        "colab_type": "text"
      },
      "source": [
        "## Frequência com que s_Character aparece em s_Str\n",
        "* s_Str.count('s_Character')"
      ]
    },
    {
      "cell_type": "code",
      "metadata": {
        "id": "rmvBVIzjCLSt",
        "colab_type": "code",
        "outputId": "2b61461e-802a-4315-84a2-e472f0da2258",
        "colab": {
          "base_uri": "https://localhost:8080/",
          "height": 34
        }
      },
      "source": [
        "s_Frase"
      ],
      "execution_count": 0,
      "outputs": [
        {
          "output_type": "execute_result",
          "data": {
            "text/plain": [
              "'Beauty has so many forms, and I think the most beautiful thing is confidence and loving yourself.'"
            ]
          },
          "metadata": {
            "tags": []
          },
          "execution_count": 32
        }
      ]
    },
    {
      "cell_type": "markdown",
      "metadata": {
        "id": "u51gdjMEpR6G",
        "colab_type": "text"
      },
      "source": [
        "Quantas vezes o caractere 'a' aparece em s_Frase?"
      ]
    },
    {
      "cell_type": "code",
      "metadata": {
        "id": "_albEvNaBrh0",
        "colab_type": "code",
        "outputId": "076ba8b7-8e48-421a-b988-80d369d4c37a",
        "colab": {
          "base_uri": "https://localhost:8080/",
          "height": 34
        }
      },
      "source": [
        "s_Frase.count('a')"
      ],
      "execution_count": 0,
      "outputs": [
        {
          "output_type": "execute_result",
          "data": {
            "text/plain": [
              "6"
            ]
          },
          "metadata": {
            "tags": []
          },
          "execution_count": 33
        }
      ]
    },
    {
      "cell_type": "markdown",
      "metadata": {
        "id": "l3Gzk_WmpXiW",
        "colab_type": "text"
      },
      "source": [
        "Quantas vezes o caractere ',' aparece em s_Frase?"
      ]
    },
    {
      "cell_type": "code",
      "metadata": {
        "id": "tBjRzqvjpcJG",
        "colab_type": "code",
        "outputId": "3cbfa2e5-e5d4-4b43-e9b8-b6eb199bbaba",
        "colab": {
          "base_uri": "https://localhost:8080/",
          "height": 34
        }
      },
      "source": [
        "s_Frase.count(',')"
      ],
      "execution_count": 0,
      "outputs": [
        {
          "output_type": "execute_result",
          "data": {
            "text/plain": [
              "1"
            ]
          },
          "metadata": {
            "tags": []
          },
          "execution_count": 34
        }
      ]
    },
    {
      "cell_type": "markdown",
      "metadata": {
        "id": "ECvPPzT9CnCZ",
        "colab_type": "text"
      },
      "source": [
        "## Encontrar todas as ocorrências de s_Substr em s_Str usando List Comprehension\n",
        "* Suponha que queremos contar quantas vezes s_Substr= 'a' aparece em s_Frase. No entanto, veja o conteúdo a seguir:"
      ]
    },
    {
      "cell_type": "code",
      "metadata": {
        "id": "K1Uj8KhhGwAQ",
        "colab_type": "code",
        "outputId": "f25a36f5-2859-49b4-f285-4e3120fc579f",
        "colab": {
          "base_uri": "https://localhost:8080/",
          "height": 1000
        }
      },
      "source": [
        "list(enumerate(s_Frase)) # Cria uma array bidimensional do tipo (indice, valor)."
      ],
      "execution_count": 0,
      "outputs": [
        {
          "output_type": "execute_result",
          "data": {
            "text/plain": [
              "[(0, 'B'),\n",
              " (1, 'e'),\n",
              " (2, 'a'),\n",
              " (3, 'u'),\n",
              " (4, 't'),\n",
              " (5, 'y'),\n",
              " (6, ' '),\n",
              " (7, 'h'),\n",
              " (8, 'a'),\n",
              " (9, 's'),\n",
              " (10, ' '),\n",
              " (11, 's'),\n",
              " (12, 'o'),\n",
              " (13, ' '),\n",
              " (14, 'm'),\n",
              " (15, 'a'),\n",
              " (16, 'n'),\n",
              " (17, 'y'),\n",
              " (18, ' '),\n",
              " (19, 'f'),\n",
              " (20, 'o'),\n",
              " (21, 'r'),\n",
              " (22, 'm'),\n",
              " (23, 's'),\n",
              " (24, ','),\n",
              " (25, ' '),\n",
              " (26, 'a'),\n",
              " (27, 'n'),\n",
              " (28, 'd'),\n",
              " (29, ' '),\n",
              " (30, 'I'),\n",
              " (31, ' '),\n",
              " (32, 't'),\n",
              " (33, 'h'),\n",
              " (34, 'i'),\n",
              " (35, 'n'),\n",
              " (36, 'k'),\n",
              " (37, ' '),\n",
              " (38, 't'),\n",
              " (39, 'h'),\n",
              " (40, 'e'),\n",
              " (41, ' '),\n",
              " (42, 'm'),\n",
              " (43, 'o'),\n",
              " (44, 's'),\n",
              " (45, 't'),\n",
              " (46, ' '),\n",
              " (47, 'b'),\n",
              " (48, 'e'),\n",
              " (49, 'a'),\n",
              " (50, 'u'),\n",
              " (51, 't'),\n",
              " (52, 'i'),\n",
              " (53, 'f'),\n",
              " (54, 'u'),\n",
              " (55, 'l'),\n",
              " (56, ' '),\n",
              " (57, 't'),\n",
              " (58, 'h'),\n",
              " (59, 'i'),\n",
              " (60, 'n'),\n",
              " (61, 'g'),\n",
              " (62, ' '),\n",
              " (63, 'i'),\n",
              " (64, 's'),\n",
              " (65, ' '),\n",
              " (66, 'c'),\n",
              " (67, 'o'),\n",
              " (68, 'n'),\n",
              " (69, 'f'),\n",
              " (70, 'i'),\n",
              " (71, 'd'),\n",
              " (72, 'e'),\n",
              " (73, 'n'),\n",
              " (74, 'c'),\n",
              " (75, 'e'),\n",
              " (76, ' '),\n",
              " (77, 'a'),\n",
              " (78, 'n'),\n",
              " (79, 'd'),\n",
              " (80, ' '),\n",
              " (81, 'l'),\n",
              " (82, 'o'),\n",
              " (83, 'v'),\n",
              " (84, 'i'),\n",
              " (85, 'n'),\n",
              " (86, 'g'),\n",
              " (87, ' '),\n",
              " (88, 'y'),\n",
              " (89, 'o'),\n",
              " (90, 'u'),\n",
              " (91, 'r'),\n",
              " (92, 's'),\n",
              " (93, 'e'),\n",
              " (94, 'l'),\n",
              " (95, 'f'),\n",
              " (96, '.')]"
            ]
          },
          "metadata": {
            "tags": []
          },
          "execution_count": 24
        }
      ]
    },
    {
      "cell_type": "code",
      "metadata": {
        "id": "2635PM1xC4v5",
        "colab_type": "code",
        "outputId": "fdae2766-67c6-4c9c-e498-648c5799ac3f",
        "colab": {
          "base_uri": "https://localhost:8080/",
          "height": 34
        }
      },
      "source": [
        "# Solução usando List Comprehension\n",
        "# Objetivo: encontrar todas as ocorrências de s_Substr em s_Str \n",
        "s_Substr= 'a'\n",
        "indices = [indice for indice, valor in enumerate(s_Frase) if valor == s_Substr]\n",
        "indices"
      ],
      "execution_count": 0,
      "outputs": [
        {
          "output_type": "execute_result",
          "data": {
            "text/plain": [
              "[2, 8, 15, 26, 49, 77]"
            ]
          },
          "metadata": {
            "tags": []
          },
          "execution_count": 25
        }
      ]
    },
    {
      "cell_type": "markdown",
      "metadata": {
        "id": "xtVIZAsXEBC3",
        "colab_type": "text"
      },
      "source": [
        "## Encontrar todas as ocorrências de s_Substr em s_Str usando Expressões Regulares"
      ]
    },
    {
      "cell_type": "code",
      "metadata": {
        "id": "lCsSl3MZEKu8",
        "colab_type": "code",
        "outputId": "61be2107-c021-4e54-90ec-a91578e0ad5c",
        "colab": {
          "base_uri": "https://localhost:8080/",
          "height": 34
        }
      },
      "source": [
        "# Solução usando Expressões Regulares - re.finditer() \n",
        "# Objetivo: encontrar todas as ocorrências de s_Substr em s_Str  \n",
        "import re\n",
        "\n",
        "indices = [i.start() for i in re.finditer(s_Substr, s_Frase)]\n",
        "indices"
      ],
      "execution_count": 0,
      "outputs": [
        {
          "output_type": "execute_result",
          "data": {
            "text/plain": [
              "[2, 8, 15, 26, 49, 77]"
            ]
          },
          "metadata": {
            "tags": []
          },
          "execution_count": 26
        }
      ]
    },
    {
      "cell_type": "markdown",
      "metadata": {
        "id": "x4uWzHqo2y5J",
        "colab_type": "text"
      },
      "source": [
        "## s_Str.lower()"
      ]
    },
    {
      "cell_type": "code",
      "metadata": {
        "id": "NLCnTvRE-QYl",
        "colab_type": "code",
        "outputId": "aab4d68e-c0b2-4994-dbf3-d5700db3fe18",
        "colab": {
          "base_uri": "https://localhost:8080/",
          "height": 51
        }
      },
      "source": [
        "list(re.finditer(s_Substr, s_Frase))"
      ],
      "execution_count": 0,
      "outputs": [
        {
          "output_type": "execute_result",
          "data": {
            "text/plain": [
              "[<_sre.SRE_Match object; span=(2, 3), match='a'>,\n",
              " <_sre.SRE_Match object; span=(14, 15), match='a'>]"
            ]
          },
          "metadata": {
            "tags": []
          },
          "execution_count": 6
        }
      ]
    },
    {
      "cell_type": "code",
      "metadata": {
        "id": "i96RNCQyCPBm",
        "colab_type": "code",
        "colab": {}
      },
      "source": [
        "s_Frase"
      ],
      "execution_count": 0,
      "outputs": []
    },
    {
      "cell_type": "code",
      "metadata": {
        "id": "h7QVh6nW_Wr3",
        "colab_type": "code",
        "outputId": "06582813-fa70-4e8b-fd44-e68c7ef0d2d6",
        "colab": {
          "base_uri": "https://localhost:8080/",
          "height": 35
        }
      },
      "source": [
        "s_Frase.lower()"
      ],
      "execution_count": 0,
      "outputs": [
        {
          "output_type": "execute_result",
          "data": {
            "text/plain": [
              "'brazil: order and progress!'"
            ]
          },
          "metadata": {
            "tags": []
          },
          "execution_count": 4
        }
      ]
    },
    {
      "cell_type": "markdown",
      "metadata": {
        "id": "YWjMKj9B4UTS",
        "colab_type": "text"
      },
      "source": [
        "## s_Str.upper()"
      ]
    },
    {
      "cell_type": "code",
      "metadata": {
        "id": "JWLXql2uCQVt",
        "colab_type": "code",
        "colab": {}
      },
      "source": [
        "s_Frase"
      ],
      "execution_count": 0,
      "outputs": []
    },
    {
      "cell_type": "code",
      "metadata": {
        "id": "80zNvZxD_cd3",
        "colab_type": "code",
        "outputId": "3767dc44-3550-4f52-b613-106cbdb93c3a",
        "colab": {
          "base_uri": "https://localhost:8080/",
          "height": 35
        }
      },
      "source": [
        "s_Frase.upper()"
      ],
      "execution_count": 0,
      "outputs": [
        {
          "output_type": "execute_result",
          "data": {
            "text/plain": [
              "'BRAZIL: ORDER AND PROGRESS!'"
            ]
          },
          "metadata": {
            "tags": []
          },
          "execution_count": 5
        }
      ]
    },
    {
      "cell_type": "markdown",
      "metadata": {
        "id": "orwwTq7A4Zl1",
        "colab_type": "text"
      },
      "source": [
        "## s_str.strip()"
      ]
    },
    {
      "cell_type": "code",
      "metadata": {
        "id": "QbbCGcg1_m9t",
        "colab_type": "code",
        "colab": {}
      },
      "source": [
        "s_Frase2= '  Brasil: Ordem e Progresso!  '"
      ],
      "execution_count": 0,
      "outputs": []
    },
    {
      "cell_type": "code",
      "metadata": {
        "id": "ehLGkpUC_h0A",
        "colab_type": "code",
        "outputId": "f4eec426-48a2-4bd4-a573-0d3a58fac765",
        "colab": {
          "base_uri": "https://localhost:8080/",
          "height": 34
        }
      },
      "source": [
        "s_Frase2.strip()"
      ],
      "execution_count": 0,
      "outputs": [
        {
          "output_type": "execute_result",
          "data": {
            "text/plain": [
              "'Brasil: Ordem e Progresso!'"
            ]
          },
          "metadata": {
            "tags": []
          },
          "execution_count": 28
        }
      ]
    },
    {
      "cell_type": "markdown",
      "metadata": {
        "id": "AC0VIn1Mqeyb",
        "colab_type": "text"
      },
      "source": [
        "Observe acima que os espaços antes e depois da string foram excluídos."
      ]
    },
    {
      "cell_type": "markdown",
      "metadata": {
        "id": "xFTubPhW4e_c",
        "colab_type": "text"
      },
      "source": [
        "## s_str.isdigit()"
      ]
    },
    {
      "cell_type": "code",
      "metadata": {
        "id": "1xK9VoBR_7-C",
        "colab_type": "code",
        "outputId": "e7db0aab-6907-4936-ad86-276086cc22ff",
        "colab": {
          "base_uri": "https://localhost:8080/",
          "height": 35
        }
      },
      "source": [
        "s_Frase.isdigit()"
      ],
      "execution_count": 0,
      "outputs": [
        {
          "output_type": "execute_result",
          "data": {
            "text/plain": [
              "False"
            ]
          },
          "metadata": {
            "tags": []
          },
          "execution_count": 8
        }
      ]
    },
    {
      "cell_type": "code",
      "metadata": {
        "id": "J2o9UAkT__vY",
        "colab_type": "code",
        "outputId": "97ee1dbf-6cb4-4b2f-bb27-3ab533ffb8c4",
        "colab": {
          "base_uri": "https://localhost:8080/",
          "height": 35
        }
      },
      "source": [
        "'1234567a'.isdigit()"
      ],
      "execution_count": 0,
      "outputs": [
        {
          "output_type": "execute_result",
          "data": {
            "text/plain": [
              "False"
            ]
          },
          "metadata": {
            "tags": []
          },
          "execution_count": 9
        }
      ]
    },
    {
      "cell_type": "code",
      "metadata": {
        "id": "Ll_nLgOpAFC2",
        "colab_type": "code",
        "outputId": "9f9f210b-71fd-4297-c042-631a4e963d85",
        "colab": {
          "base_uri": "https://localhost:8080/",
          "height": 35
        }
      },
      "source": [
        "'1234567'.isdigit()"
      ],
      "execution_count": 0,
      "outputs": [
        {
          "output_type": "execute_result",
          "data": {
            "text/plain": [
              "True"
            ]
          },
          "metadata": {
            "tags": []
          },
          "execution_count": 10
        }
      ]
    },
    {
      "cell_type": "markdown",
      "metadata": {
        "id": "NYN11jnx4l1z",
        "colab_type": "text"
      },
      "source": [
        "## s_Str.isspace()"
      ]
    },
    {
      "cell_type": "code",
      "metadata": {
        "id": "imww41-C1XXK",
        "colab_type": "code",
        "outputId": "6f66607d-7bba-4c9f-c759-dab74ee1c857",
        "colab": {
          "base_uri": "https://localhost:8080/",
          "height": 35
        }
      },
      "source": [
        "s_Frase[6:7].isspace()"
      ],
      "execution_count": 0,
      "outputs": [
        {
          "output_type": "execute_result",
          "data": {
            "text/plain": [
              "True"
            ]
          },
          "metadata": {
            "tags": []
          },
          "execution_count": 3
        }
      ]
    },
    {
      "cell_type": "markdown",
      "metadata": {
        "id": "yft3MA264ot7",
        "colab_type": "text"
      },
      "source": [
        "## s_Str.startswith('s_Character')"
      ]
    },
    {
      "cell_type": "code",
      "metadata": {
        "id": "SB4SoJxuCTlY",
        "colab_type": "code",
        "outputId": "0f487357-7b5f-457a-855c-b974bcd08f6a",
        "colab": {
          "base_uri": "https://localhost:8080/",
          "height": 34
        }
      },
      "source": [
        "s_Frase"
      ],
      "execution_count": 0,
      "outputs": [
        {
          "output_type": "execute_result",
          "data": {
            "text/plain": [
              "'Beauty has so many forms, and I think the most beautiful thing is confidence and loving yourself.'"
            ]
          },
          "metadata": {
            "tags": []
          },
          "execution_count": 30
        }
      ]
    },
    {
      "cell_type": "code",
      "metadata": {
        "id": "L1hY57TW4tL5",
        "colab_type": "code",
        "outputId": "35c3e5c1-90a9-40d6-c338-2f9c58fa07e2",
        "colab": {
          "base_uri": "https://localhost:8080/",
          "height": 34
        }
      },
      "source": [
        "s_Frase.startswith('Beauty')"
      ],
      "execution_count": 0,
      "outputs": [
        {
          "output_type": "execute_result",
          "data": {
            "text/plain": [
              "True"
            ]
          },
          "metadata": {
            "tags": []
          },
          "execution_count": 31
        }
      ]
    },
    {
      "cell_type": "code",
      "metadata": {
        "id": "HdAJPhAH40C6",
        "colab_type": "code",
        "outputId": "c7a0ee4d-18ed-45c9-9fd6-3a2ce0494084",
        "colab": {
          "base_uri": "https://localhost:8080/",
          "height": 34
        }
      },
      "source": [
        "s_Frase.startswith('Beautiful')"
      ],
      "execution_count": 0,
      "outputs": [
        {
          "output_type": "execute_result",
          "data": {
            "text/plain": [
              "False"
            ]
          },
          "metadata": {
            "tags": []
          },
          "execution_count": 33
        }
      ]
    },
    {
      "cell_type": "markdown",
      "metadata": {
        "id": "aJ0XLdMN45kW",
        "colab_type": "text"
      },
      "source": [
        "## s_Str.endswith('s_Character')"
      ]
    },
    {
      "cell_type": "code",
      "metadata": {
        "id": "lIbh8oBICU3M",
        "colab_type": "code",
        "outputId": "6a276099-70fb-4336-ac47-8f5467a72fca",
        "colab": {
          "base_uri": "https://localhost:8080/",
          "height": 34
        }
      },
      "source": [
        "s_Frase"
      ],
      "execution_count": 0,
      "outputs": [
        {
          "output_type": "execute_result",
          "data": {
            "text/plain": [
              "'Beauty has so many forms, and I think the most beautiful thing is confidence and loving yourself.'"
            ]
          },
          "metadata": {
            "tags": []
          },
          "execution_count": 34
        }
      ]
    },
    {
      "cell_type": "markdown",
      "metadata": {
        "id": "fST0sCs6q3Se",
        "colab_type": "text"
      },
      "source": [
        "A string s_Frase termina com '!'?"
      ]
    },
    {
      "cell_type": "code",
      "metadata": {
        "id": "1oy9r22A5J2g",
        "colab_type": "code",
        "outputId": "baf181c8-334d-4d11-9642-0ae220efc049",
        "colab": {
          "base_uri": "https://localhost:8080/",
          "height": 34
        }
      },
      "source": [
        "s_Frase.endswith('!')"
      ],
      "execution_count": 0,
      "outputs": [
        {
          "output_type": "execute_result",
          "data": {
            "text/plain": [
              "False"
            ]
          },
          "metadata": {
            "tags": []
          },
          "execution_count": 35
        }
      ]
    },
    {
      "cell_type": "markdown",
      "metadata": {
        "id": "wVAE2jyDq8lB",
        "colab_type": "text"
      },
      "source": [
        "A string s_Frase termina com '.'?"
      ]
    },
    {
      "cell_type": "code",
      "metadata": {
        "id": "1v332nD7qzga",
        "colab_type": "code",
        "outputId": "7d94a747-7683-4d61-c762-6a55f65b0365",
        "colab": {
          "base_uri": "https://localhost:8080/",
          "height": 34
        }
      },
      "source": [
        "s_Frase.endswith('.')"
      ],
      "execution_count": 0,
      "outputs": [
        {
          "output_type": "execute_result",
          "data": {
            "text/plain": [
              "True"
            ]
          },
          "metadata": {
            "tags": []
          },
          "execution_count": 36
        }
      ]
    },
    {
      "cell_type": "markdown",
      "metadata": {
        "id": "g4T-n_Vq5kje",
        "colab_type": "text"
      },
      "source": [
        "## s_Str.find('s_Charactere')"
      ]
    },
    {
      "cell_type": "code",
      "metadata": {
        "id": "fpYCC-pACWPb",
        "colab_type": "code",
        "colab": {}
      },
      "source": [
        "s_Frase"
      ],
      "execution_count": 0,
      "outputs": []
    },
    {
      "cell_type": "code",
      "metadata": {
        "id": "NRIG8n0259yW",
        "colab_type": "code",
        "outputId": "b4367b69-5eb9-4b14-88cc-30f9a4ef6558",
        "colab": {
          "base_uri": "https://localhost:8080/",
          "height": 34
        }
      },
      "source": [
        "s_Frase.find(',')"
      ],
      "execution_count": 0,
      "outputs": [
        {
          "output_type": "execute_result",
          "data": {
            "text/plain": [
              "24"
            ]
          },
          "metadata": {
            "tags": []
          },
          "execution_count": 37
        }
      ]
    },
    {
      "cell_type": "markdown",
      "metadata": {
        "id": "x1RDdI6x6YD8",
        "colab_type": "text"
      },
      "source": [
        "Como esperado, substr= ',' faz parte de s_Frase."
      ]
    },
    {
      "cell_type": "markdown",
      "metadata": {
        "id": "wXnNRYW46vhX",
        "colab_type": "text"
      },
      "source": [
        "Se 's_Character' não faz parte de s_Frase, Python retorna -1, como abaixo:"
      ]
    },
    {
      "cell_type": "code",
      "metadata": {
        "id": "k2Ok8__-654p",
        "colab_type": "code",
        "outputId": "d6d2231e-f17f-4de9-87da-d71730241f9c",
        "colab": {
          "base_uri": "https://localhost:8080/",
          "height": 34
        }
      },
      "source": [
        "s_Frase.find('Beauti') # 'i' ao invés de 'y'"
      ],
      "execution_count": 0,
      "outputs": [
        {
          "output_type": "execute_result",
          "data": {
            "text/plain": [
              "-1"
            ]
          },
          "metadata": {
            "tags": []
          },
          "execution_count": 38
        }
      ]
    },
    {
      "cell_type": "markdown",
      "metadata": {
        "id": "p5jNHCDQ7Bl6",
        "colab_type": "text"
      },
      "source": [
        "## s_Str.replace(old, new)"
      ]
    },
    {
      "cell_type": "code",
      "metadata": {
        "id": "Vi7TBVoXr0Uk",
        "colab_type": "code",
        "outputId": "bd87abda-6b58-48ce-d176-64c2ebae4999",
        "colab": {
          "base_uri": "https://localhost:8080/",
          "height": 34
        }
      },
      "source": [
        "s_Frase"
      ],
      "execution_count": 0,
      "outputs": [
        {
          "output_type": "execute_result",
          "data": {
            "text/plain": [
              "'Beauty has so many forms, and I think the most beautiful thing is confidence and loving yourself.'"
            ]
          },
          "metadata": {
            "tags": []
          },
          "execution_count": 39
        }
      ]
    },
    {
      "cell_type": "code",
      "metadata": {
        "id": "MWFiLutR6cRR",
        "colab_type": "code",
        "outputId": "1c648716-4ef5-45c5-ac0c-f88206270967",
        "colab": {
          "base_uri": "https://localhost:8080/",
          "height": 34
        }
      },
      "source": [
        "s_Frase.replace('most', 'MOST')"
      ],
      "execution_count": 0,
      "outputs": [
        {
          "output_type": "execute_result",
          "data": {
            "text/plain": [
              "'Beauty has so many forms, and I think the MOST beautiful thing is confidence and loving yourself.'"
            ]
          },
          "metadata": {
            "tags": []
          },
          "execution_count": 40
        }
      ]
    },
    {
      "cell_type": "markdown",
      "metadata": {
        "id": "a6IEm2tlsDmA",
        "colab_type": "text"
      },
      "source": [
        "Vamos tentar substituir o caracter '?' por '!'"
      ]
    },
    {
      "cell_type": "code",
      "metadata": {
        "id": "E0FTeY_lsNke",
        "colab_type": "code",
        "outputId": "26335aa0-66a7-4949-f816-ec768ccd80e7",
        "colab": {
          "base_uri": "https://localhost:8080/",
          "height": 34
        }
      },
      "source": [
        "s_Frase.replace('?', '!')"
      ],
      "execution_count": 0,
      "outputs": [
        {
          "output_type": "execute_result",
          "data": {
            "text/plain": [
              "'Beauty has so many forms, and I think the most beautiful thing is confidence and loving yourself.'"
            ]
          },
          "metadata": {
            "tags": []
          },
          "execution_count": 41
        }
      ]
    },
    {
      "cell_type": "markdown",
      "metadata": {
        "id": "mgzh1KQG7bx6",
        "colab_type": "text"
      },
      "source": [
        "O que aconteceu? Não substituiu... Porque?\n",
        "\n",
        "Saberia explicar porque o Python não substituiu?"
      ]
    },
    {
      "cell_type": "markdown",
      "metadata": {
        "id": "DudTwJSX7ltC",
        "colab_type": "text"
      },
      "source": [
        "E agora?"
      ]
    },
    {
      "cell_type": "code",
      "metadata": {
        "id": "-2BZQ6mG7hh6",
        "colab_type": "code",
        "outputId": "1722bfbb-68aa-4d18-a85a-40ccc79346fa",
        "colab": {
          "base_uri": "https://localhost:8080/",
          "height": 34
        }
      },
      "source": [
        "s_Frase.replace('.', '!')"
      ],
      "execution_count": 0,
      "outputs": [
        {
          "output_type": "execute_result",
          "data": {
            "text/plain": [
              "'Beauty has so many forms, and I think the most beautiful thing is confidence and loving yourself!'"
            ]
          },
          "metadata": {
            "tags": []
          },
          "execution_count": 42
        }
      ]
    },
    {
      "cell_type": "markdown",
      "metadata": {
        "id": "42v6zRUO8DlQ",
        "colab_type": "text"
      },
      "source": [
        "... Entretanto, qual o conteúdo de s_Frase?"
      ]
    },
    {
      "cell_type": "code",
      "metadata": {
        "id": "Lmo4aiol7qUF",
        "colab_type": "code",
        "outputId": "bd0ef8f9-f1bb-450a-f9ee-e069eec5165a",
        "colab": {
          "base_uri": "https://localhost:8080/",
          "height": 34
        }
      },
      "source": [
        "s_Frase"
      ],
      "execution_count": 0,
      "outputs": [
        {
          "output_type": "execute_result",
          "data": {
            "text/plain": [
              "'Beauty has so many forms, and I think the most beautiful thing is confidence and loving yourself.'"
            ]
          },
          "metadata": {
            "tags": []
          },
          "execution_count": 43
        }
      ]
    },
    {
      "cell_type": "markdown",
      "metadata": {
        "id": "ap9nFc2E8MAG",
        "colab_type": "text"
      },
      "source": [
        "**DICA**: Strings are imutáveis! A forma correta seria:"
      ]
    },
    {
      "cell_type": "code",
      "metadata": {
        "id": "eH8yHJik8U0N",
        "colab_type": "code",
        "colab": {}
      },
      "source": [
        "s_Frase= s_Frase.replace('.', '!')"
      ],
      "execution_count": 0,
      "outputs": []
    },
    {
      "cell_type": "markdown",
      "metadata": {
        "id": "nHCudHwJ8eSf",
        "colab_type": "text"
      },
      "source": [
        "Desta forma, redefinimos uma nova variável chamada s_Frase. Mas é a mesma variável que anteriormente, certo?"
      ]
    },
    {
      "cell_type": "code",
      "metadata": {
        "id": "WRFcfuzH8cBL",
        "colab_type": "code",
        "outputId": "5e08495b-34ca-4971-c691-2368c7a12128",
        "colab": {
          "base_uri": "https://localhost:8080/",
          "height": 34
        }
      },
      "source": [
        "s_Frase"
      ],
      "execution_count": 0,
      "outputs": [
        {
          "output_type": "execute_result",
          "data": {
            "text/plain": [
              "'Beauty has so many forms, and I think the most beautiful thing is confidence and loving yourself!'"
            ]
          },
          "metadata": {
            "tags": []
          },
          "execution_count": 45
        }
      ]
    },
    {
      "cell_type": "markdown",
      "metadata": {
        "id": "aL2UZp9T8lAk",
        "colab_type": "text"
      },
      "source": [
        "## s_Str.split('sep')"
      ]
    },
    {
      "cell_type": "code",
      "metadata": {
        "id": "7y0ieQQm9Anx",
        "colab_type": "code",
        "outputId": "91fcfe10-5062-4b68-fa95-44d967901adf",
        "colab": {
          "base_uri": "https://localhost:8080/",
          "height": 34
        }
      },
      "source": [
        "s_Frase.split(':')"
      ],
      "execution_count": 0,
      "outputs": [
        {
          "output_type": "execute_result",
          "data": {
            "text/plain": [
              "['Beauty has so many forms, and I think the most beautiful thing is confidence and loving yourself!']"
            ]
          },
          "metadata": {
            "tags": []
          },
          "execution_count": 46
        }
      ]
    },
    {
      "cell_type": "markdown",
      "metadata": {
        "id": "aS-DYJAyshwc",
        "colab_type": "text"
      },
      "source": [
        "Não separou nada! Correto, pois o Python separa somente quando enconra o separador ':'"
      ]
    },
    {
      "cell_type": "markdown",
      "metadata": {
        "id": "f3YeNvTDss_X",
        "colab_type": "text"
      },
      "source": [
        "Vamos tentar o separador ','..."
      ]
    },
    {
      "cell_type": "code",
      "metadata": {
        "id": "E3QlgKQYsv3k",
        "colab_type": "code",
        "outputId": "50bfc0ea-0109-4287-8e7c-f4767c64b83e",
        "colab": {
          "base_uri": "https://localhost:8080/",
          "height": 50
        }
      },
      "source": [
        "s_Frase.split(',')"
      ],
      "execution_count": 0,
      "outputs": [
        {
          "output_type": "execute_result",
          "data": {
            "text/plain": [
              "['Beauty has so many forms',\n",
              " ' and I think the most beautiful thing is confidence and loving yourself!']"
            ]
          },
          "metadata": {
            "tags": []
          },
          "execution_count": 47
        }
      ]
    },
    {
      "cell_type": "markdown",
      "metadata": {
        "id": "dY-1Sgm29OtF",
        "colab_type": "text"
      },
      "source": [
        "O exemplo a seguir esclarece possíveis dúvidas:"
      ]
    },
    {
      "cell_type": "code",
      "metadata": {
        "id": "2ATukxpd9kij",
        "colab_type": "code",
        "colab": {}
      },
      "source": [
        "s_Frase2= '73540877412968744629867535897645310956547894653240984764'"
      ],
      "execution_count": 0,
      "outputs": []
    },
    {
      "cell_type": "markdown",
      "metadata": {
        "id": "506UkCh39xFS",
        "colab_type": "text"
      },
      "source": [
        "Qual o output do code abaixo:"
      ]
    },
    {
      "cell_type": "code",
      "metadata": {
        "id": "C2G9vyGt91Ir",
        "colab_type": "code",
        "outputId": "585d12c0-2f2d-4071-c0c8-9220d5510fe0",
        "colab": {
          "base_uri": "https://localhost:8080/",
          "height": 156
        }
      },
      "source": [
        "s_Frase2.split('6')"
      ],
      "execution_count": 0,
      "outputs": [
        {
          "output_type": "execute_result",
          "data": {
            "text/plain": [
              "['735408774129',\n",
              " '8744',\n",
              " '298',\n",
              " '7535897',\n",
              " '4531095',\n",
              " '547894',\n",
              " '532409847',\n",
              " '4']"
            ]
          },
          "metadata": {
            "tags": []
          },
          "execution_count": 67
        }
      ]
    },
    {
      "cell_type": "markdown",
      "metadata": {
        "id": "S3gX9y-tz9ZE",
        "colab_type": "text"
      },
      "source": [
        "## s_Str.join()"
      ]
    },
    {
      "cell_type": "code",
      "metadata": {
        "id": "6jwpWDWb0NFO",
        "colab_type": "code",
        "outputId": "f344dd2b-ce43-4dee-a423-02a260b733df",
        "colab": {
          "base_uri": "https://localhost:8080/",
          "height": 34
        }
      },
      "source": [
        "''.join(['Strings','são','imutáveis']) # Observe que os elementos a serem concatenados estão entre []."
      ],
      "execution_count": 0,
      "outputs": [
        {
          "output_type": "execute_result",
          "data": {
            "text/plain": [
              "'Stringssãoimutáveis'"
            ]
          },
          "metadata": {
            "tags": []
          },
          "execution_count": 61
        }
      ]
    },
    {
      "cell_type": "code",
      "metadata": {
        "id": "ueCpTzdH0XeJ",
        "colab_type": "code",
        "outputId": "4f1b065b-f64e-42f3-8734-c68bbd9ce849",
        "colab": {
          "base_uri": "https://localhost:8080/",
          "height": 34
        }
      },
      "source": [
        "' '.join(['Strings','são','imutáveis'])"
      ],
      "execution_count": 0,
      "outputs": [
        {
          "output_type": "execute_result",
          "data": {
            "text/plain": [
              "'Strings são imutáveis'"
            ]
          },
          "metadata": {
            "tags": []
          },
          "execution_count": 62
        }
      ]
    },
    {
      "cell_type": "markdown",
      "metadata": {
        "id": "5bW0K_5q-Ud2",
        "colab_type": "text"
      },
      "source": [
        "## Membership 'in' e 'not in'\n",
        "* Este operador testa se um valor é ou não membro de uma sequência (list, string, ou  dictionary)."
      ]
    },
    {
      "cell_type": "code",
      "metadata": {
        "id": "7e0_9IfEtSf8",
        "colab_type": "code",
        "outputId": "92d4937f-d9ce-45e7-dfb9-59e808cf4e56",
        "colab": {
          "base_uri": "https://localhost:8080/",
          "height": 34
        }
      },
      "source": [
        "s_Frase"
      ],
      "execution_count": 0,
      "outputs": [
        {
          "output_type": "execute_result",
          "data": {
            "text/plain": [
              "'Beauty has so many forms, and I think the most beautiful thing is confidence and loving yourself!'"
            ]
          },
          "metadata": {
            "tags": []
          },
          "execution_count": 53
        }
      ]
    },
    {
      "cell_type": "code",
      "metadata": {
        "id": "NKhMZwTG-XZA",
        "colab_type": "code",
        "outputId": "54adb8be-e88b-469a-8a4c-c6c42028a99e",
        "colab": {
          "base_uri": "https://localhost:8080/",
          "height": 34
        }
      },
      "source": [
        "'Beauti' in s_Frase # Com 'i' ao invés de 'y'"
      ],
      "execution_count": 0,
      "outputs": [
        {
          "output_type": "execute_result",
          "data": {
            "text/plain": [
              "False"
            ]
          },
          "metadata": {
            "tags": []
          },
          "execution_count": 50
        }
      ]
    },
    {
      "cell_type": "code",
      "metadata": {
        "id": "brLjaj1B-b9Q",
        "colab_type": "code",
        "outputId": "69643c13-6228-4b63-90fd-25fe0826244b",
        "colab": {
          "base_uri": "https://localhost:8080/",
          "height": 34
        }
      },
      "source": [
        "'Beauty' in s_Frase"
      ],
      "execution_count": 0,
      "outputs": [
        {
          "output_type": "execute_result",
          "data": {
            "text/plain": [
              "True"
            ]
          },
          "metadata": {
            "tags": []
          },
          "execution_count": 51
        }
      ]
    },
    {
      "cell_type": "code",
      "metadata": {
        "id": "0cccmPea-gkw",
        "colab_type": "code",
        "outputId": "c7067ba9-e595-4d45-a115-b676a158084d",
        "colab": {
          "base_uri": "https://localhost:8080/",
          "height": 34
        }
      },
      "source": [
        "'Beautiful' not in s_Frase"
      ],
      "execution_count": 0,
      "outputs": [
        {
          "output_type": "execute_result",
          "data": {
            "text/plain": [
              "True"
            ]
          },
          "metadata": {
            "tags": []
          },
          "execution_count": 52
        }
      ]
    },
    {
      "cell_type": "code",
      "metadata": {
        "id": "AD7GIeAptVZM",
        "colab_type": "code",
        "outputId": "1a45a1b9-d1e5-49ce-c70d-ec64b512723d",
        "colab": {
          "base_uri": "https://localhost:8080/",
          "height": 34
        }
      },
      "source": [
        "'beautiful' not in s_Frase"
      ],
      "execution_count": 0,
      "outputs": [
        {
          "output_type": "execute_result",
          "data": {
            "text/plain": [
              "False"
            ]
          },
          "metadata": {
            "tags": []
          },
          "execution_count": 54
        }
      ]
    },
    {
      "cell_type": "markdown",
      "metadata": {
        "id": "mVU0GxfUf9H1",
        "colab_type": "text"
      },
      "source": [
        "___\n",
        "# **Wrap Up**"
      ]
    },
    {
      "cell_type": "markdown",
      "metadata": {
        "id": "lbj-kA95gAzI",
        "colab_type": "text"
      },
      "source": [
        "___\n",
        "# **Exercícios**"
      ]
    },
    {
      "cell_type": "code",
      "metadata": {
        "id": "WSddPMk8gD9C",
        "colab_type": "code",
        "colab": {}
      },
      "source": [
        ""
      ],
      "execution_count": 0,
      "outputs": []
    }
  ]
}