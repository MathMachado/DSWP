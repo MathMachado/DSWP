{
  "nbformat": 4,
  "nbformat_minor": 0,
  "metadata": {
    "colab": {
      "name": "NB09_02__Lambda_Functions.ipynb",
      "provenance": [],
      "private_outputs": true,
      "include_colab_link": true
    },
    "kernelspec": {
      "name": "python3",
      "display_name": "Python 3"
    }
  },
  "cells": [
    {
      "cell_type": "markdown",
      "metadata": {
        "id": "view-in-github",
        "colab_type": "text"
      },
      "source": [
        "<a href=\"https://colab.research.google.com/github/MathMachado/DSWP/blob/master/Notebooks/NB09_02__Desvendando%20Fun%C3%A7%C3%B5es%20Lambda%20em%20Python.ipynb\" target=\"_parent\"><img src=\"https://colab.research.google.com/assets/colab-badge.svg\" alt=\"Open In Colab\"/></a>"
      ]
    },
    {
      "cell_type": "markdown",
      "metadata": {
        "id": "gaZdx_68vbAX"
      },
      "source": [
        "<center><h1><b><i>Desvendando Funções Lambda em Python</i></b></h1></center>\n",
        "\n",
        "\n",
        "\n",
        "# **AGENDA**:\n",
        "\n",
        "> Neste vídeo, você irá explorar em profundidade as funções lambda em Python, também conhecidas como funções anônimas, que permitem escrever funções simples de forma concisa e eficiente. Abordaremos os seguintes tópicos:\n",
        "\n",
        "* O que são Funções Lambda?\n",
        "\n",
        "    * Compreenda o conceito de funções lambda como funções anônimas de uma única linha.\n",
        "    * Saiba quando e por que usar funções lambda em seu código.\n",
        "* Sintaxe das Funções Lambda\n",
        "\n",
        "    * Aprenda a sintaxe básica das funções lambda: lambda argumentos: expressão.\n",
        "    * Compare com a sintaxe de funções definidas com def.\n",
        "* Usando Funções Lambda\n",
        "\n",
        "    * Veja exemplos práticos de como criar e utilizar funções lambda.\n",
        "    * Entenda as limitações das funções lambda em comparação com funções normais.\n",
        "* Funções Lambda com Funções Integradas\n",
        "\n",
        "    * Descubra como usar funções lambda em conjunto com funções como map(), filter(), reduce() e sorted().\n",
        "    * Explore exemplos que mostram o poder das funções lambda na manipulação de coleções de dados.\n",
        "* Vantagens e Desvantagens\n",
        "\n",
        "    * Analise os cenários em que funções lambda são úteis.\n",
        "    * Compreenda as limitações e quando é melhor optar por funções nomeadas.\n",
        "* Exemplos Práticos Avançados\n",
        "\n",
        "    * Criação de funções lambda com múltiplos argumentos.\n",
        "    * Uso de funções lambda em expressões condicionais.\n",
        "    * Implementação de funções lambda dentro de estruturas de dados, como listas e dicionários.\n",
        "* Boas Práticas\n",
        "\n",
        "    * Dicas para escrever funções lambda claras e legíveis.\n",
        "    * Evitando complexidade excessiva em funções lambda.\n",
        "* Wrap Up\n",
        "\n",
        "    * Revisão dos principais conceitos aprendidos sobre funções lambda e como aplicá-los em seus projetos.\n",
        "* Exercícios\n",
        "\n",
        "    * Desafios práticos para consolidar o conhecimento e aplicar o que foi aprendido sobre funções lambda.\n",
        "\n",
        "Este vídeo é ideal para programadores que já possuem conhecimento básico em Python e desejam aprimorar suas habilidades, aprendendo a escrever códigos mais concisos e funcionais com o uso de funções lambda.\n"
      ]
    },
    {
      "cell_type": "markdown",
      "metadata": {
        "id": "QeG3z7aWLdYk"
      },
      "source": [
        "___\n",
        "# **Lambda Functions**\n",
        "\n",
        "* Em Python, podemos criar pequenas funções anônimas.\n",
        "* A função anônima começa com a palavra reservada 'lambda';\n",
        "* Fonte: [Lambda Expressions](https://docs.python.org/3/tutorial/controlflow.html#function-examples)"
      ]
    },
    {
      "cell_type": "markdown",
      "metadata": {
        "id": "9ySnTQCqDzhB"
      },
      "source": [
        "___\n",
        "# Exemplo 1\n",
        "* Considere a lista abaixo:"
      ]
    },
    {
      "cell_type": "code",
      "metadata": {
        "id": "0m2qpRrOD4j8"
      },
      "source": [
        "l_lista = [('Seg', 1), ('Ter', 2), ('Quar', 3), ('Qui', 4), ('Sex', 5), ('Sab', 6), ('Dom', 7)]\n",
        "l_lista"
      ],
      "execution_count": null,
      "outputs": []
    },
    {
      "cell_type": "markdown",
      "metadata": {
        "id": "IHPR_fwiEGCn"
      },
      "source": [
        "Queremos ordená-la pela primeira posição da lista:"
      ]
    },
    {
      "cell_type": "code",
      "metadata": {
        "id": "_YqImJguFGOb"
      },
      "source": [
        "l_lista.sort(key = lambda l_lista: l_lista[0])\n",
        "l_lista"
      ],
      "execution_count": null,
      "outputs": []
    },
    {
      "cell_type": "markdown",
      "metadata": {
        "id": "DQntnBYsFJrF"
      },
      "source": [
        "Mas esse resultado não faz muito sentido, correto?\n",
        "Então, vamos ordená-la pela segunda posição da lista:"
      ]
    },
    {
      "cell_type": "code",
      "metadata": {
        "id": "k-DX4EutEs9G"
      },
      "source": [
        "# Ordem desejada\n",
        "l_lista.sort(key = lambda l_lista: l_lista[1])\n",
        "l_lista"
      ],
      "execution_count": null,
      "outputs": []
    },
    {
      "cell_type": "markdown",
      "metadata": {
        "id": "2Sizi9-UFudE"
      },
      "source": [
        "___\n",
        "# Exemplo 2\n",
        "> Desenvolver uma função que transforme uma temperatura em Fahrenheit para Celsius.\n",
        "\n",
        "Fonte: [Fahrenheit to Celsius formula](https://www.rapidtables.com/convert/temperature/how-fahrenheit-to-celsius.html)"
      ]
    },
    {
      "cell_type": "code",
      "metadata": {
        "id": "X6bkpYWGGA2P"
      },
      "source": [
        "x = lambda a: (a-32)*(5/9)"
      ],
      "execution_count": null,
      "outputs": []
    },
    {
      "cell_type": "code",
      "metadata": {
        "id": "jOC-vFWpGl2h"
      },
      "source": [
        "f'68 graus Fahrenheit corresponde a {x(68)} graus Celsius.'"
      ],
      "execution_count": null,
      "outputs": []
    },
    {
      "cell_type": "code",
      "metadata": {
        "id": "MSWkv-bhaW-1"
      },
      "source": [
        "type(x)"
      ],
      "execution_count": null,
      "outputs": []
    },
    {
      "cell_type": "markdown",
      "metadata": {
        "id": "Mj8bIIo4G5Gy"
      },
      "source": [
        "___\n",
        "# Exemplo 3\n",
        "> Suponha que queremos uma função para multiplicar dois números."
      ]
    },
    {
      "cell_type": "code",
      "metadata": {
        "id": "YZhfeU91G_NS"
      },
      "source": [
        "multiplica = lambda x, y: x*y"
      ],
      "execution_count": null,
      "outputs": []
    },
    {
      "cell_type": "code",
      "metadata": {
        "id": "IMtLBeV3HMz_"
      },
      "source": [
        "f'O resultado da multiplicação de 2 por 6 é {multiplica(2, 6)}.'"
      ],
      "execution_count": null,
      "outputs": []
    },
    {
      "cell_type": "markdown",
      "metadata": {
        "id": "Smme8dC1HYdp"
      },
      "source": [
        "___\n",
        "# Exemplo 4\n",
        "> Suponha que queremos multiplicar três números."
      ]
    },
    {
      "cell_type": "code",
      "metadata": {
        "id": "2d3lkQfvHp0d"
      },
      "source": [
        "multiplica3 = lambda x, y, z: x*y*z"
      ],
      "execution_count": null,
      "outputs": []
    },
    {
      "cell_type": "code",
      "metadata": {
        "id": "8_Fz6PUOHt5L"
      },
      "source": [
        "f'O resultado da multiplicação de 2 por 6 por 3 é {multiplica3(2, 6, 3)}.'"
      ],
      "execution_count": null,
      "outputs": []
    },
    {
      "cell_type": "markdown",
      "metadata": {
        "id": "xPpFqVUnKEH7"
      },
      "source": [
        "___\n",
        "# **Exercícios**\n",
        "\n",
        "Esses exercícios abrangem diversos aspectos das **funções lambda** em Python, incluindo sua sintaxe, uso com funções integradas como `map()`, `filter()` e `reduce()`, ordenação, expressões condicionais e composição de funções. Ao praticar esses exercícios, você irá aprimorar suas habilidades em escrever código mais conciso e eficiente utilizando funções lambda.\n",
        "\n",
        "Bom estudo e boa codificação!\n",
        "\n",
        "---\n",
        "\n",
        "## **1. Função Lambda Simples**\n",
        "\n",
        "**Descrição:**\n",
        "\n",
        "Crie uma função lambda que receba um número e retorne o seu quadrado. Utilize a função para calcular o quadrado do número `5`.\n",
        "\n",
        "**Dicas:**\n",
        "\n",
        "- A sintaxe de uma função lambda é `lambda argumentos: expressão`.\n",
        "- Você pode atribuir a função lambda a uma variável ou usá-la diretamente.\n",
        "\n",
        "---\n",
        "\n",
        "## **2. Função Lambda com Múltiplos Argumentos**\n",
        "\n",
        "**Descrição:**\n",
        "\n",
        "Escreva uma função lambda que receba dois números e retorne a soma deles. Use a função para somar `10` e `20`.\n",
        "\n",
        "**Dicas:**\n",
        "\n",
        "- Você pode passar múltiplos argumentos separados por vírgulas: `lambda x, y: x + y`.\n",
        "- Chame a função passando os dois valores desejados.\n",
        "\n",
        "---\n",
        "\n",
        "## **3. Ordenando uma Lista de Tuplas**\n",
        "\n",
        "**Descrição:**\n",
        "\n",
        "Dada a lista de tuplas representando alunos e suas notas:\n",
        "\n",
        "```python\n",
        "alunos = [(\"Ana\", 85), (\"Bruno\", 92), (\"Carla\", 78)]\n",
        "```\n",
        "\n",
        "Ordene a lista de alunos por suas notas em **ordem decrescente** usando uma função lambda como chave no método `sorted()`.\n",
        "\n",
        "**Dicas:**\n",
        "\n",
        "- Use `sorted(alunos, key=lambda x: x[1], reverse=True)`.\n",
        "- A função lambda deve extrair o segundo elemento da tupla (a nota).\n",
        "\n",
        "---\n",
        "\n",
        "## **4. Filtrando uma Lista**\n",
        "\n",
        "**Descrição:**\n",
        "\n",
        "Com a lista de números de `1` a `20`, utilize a função `filter()` e uma função lambda para extrair todos os números pares e armazená-los em uma nova lista chamada `numeros_pares`.\n",
        "\n",
        "**Dicas:**\n",
        "\n",
        "- A função `filter(funcao, iteravel)` filtra elementos para os quais a função retorna `True`.\n",
        "- Um número é par se `n % 2 == 0`.\n",
        "\n",
        "---\n",
        "\n",
        "## **5. Mapeando Valores com Funções Lambda**\n",
        "\n",
        "**Descrição:**\n",
        "\n",
        "Dada a lista de números `[1, 2, 3, 4, 5]`, use a função `map()` e uma função lambda para criar uma nova lista onde cada elemento é multiplicado por `3`.\n",
        "\n",
        "**Dicas:**\n",
        "\n",
        "- A função `map(funcao, iteravel)` aplica a função a cada item do iterável.\n",
        "- A função lambda deve multiplicar o número por `3`.\n",
        "\n",
        "---\n",
        "\n",
        "## **6. Utilizando `reduce()` com Funções Lambda**\n",
        "\n",
        "**Descrição:**\n",
        "\n",
        "Importe a função `reduce` do módulo `functools`. Use-a junto com uma função lambda para calcular o produto de todos os números na lista `[1, 2, 3, 4, 5]`.\n",
        "\n",
        "**Dicas:**\n",
        "\n",
        "- A função `reduce(funcao, iteravel)` aplica a função cumulativamente aos itens do iterável.\n",
        "- A função lambda deve receber dois argumentos e retornar o produto deles.\n",
        "\n",
        "---\n",
        "\n",
        "## **7. Função Lambda com Expressão Condicional**\n",
        "\n",
        "**Descrição:**\n",
        "\n",
        "Crie uma função lambda que receba um número inteiro e retorne `\"Positivo\"` se o número for maior que zero, `\"Negativo\"` se for menor que zero, ou `\"Zero\"` se for igual a zero. Teste a função com os números `10`, `-5` e `0`.\n",
        "\n",
        "**Dicas:**\n",
        "\n",
        "- Use a sintaxe: `lambda x: expressão1 if condição1 else expressão2 if condição2 else expressão3`.\n",
        "- As condições podem ser `x > 0`, `x < 0`.\n",
        "\n",
        "---\n",
        "\n",
        "## **8. Compondo Funções Lambda**\n",
        "\n",
        "**Descrição:**\n",
        "\n",
        "Crie duas funções lambda:\n",
        "\n",
        "- `dobro`: que recebe um número e retorna o dobro.\n",
        "- `triplo`: que recebe um número e retorna o triplo.\n",
        "\n",
        "Em seguida, use-as para calcular o dobro do triplo de `5` (ou seja, `dobro(triplo(5))`).\n",
        "\n",
        "**Dicas:**\n",
        "\n",
        "- Defina as funções lambda e, em seguida, chame-as aninhadas.\n",
        "- Verifique se o resultado é consistente com a operação matemática.\n",
        "\n",
        "---\n",
        "\n",
        "## **9. Funções Lambda em List Comprehensions**\n",
        "\n",
        "**Descrição:**\n",
        "\n",
        "Use uma função lambda dentro de uma list comprehension para criar uma lista que contenha os comprimentos das palavras na lista `frases = [\"Python\", \"é\", \"incrível\"]`.\n",
        "\n",
        "**Dicas:**\n",
        "\n",
        "- A list comprehension pode ser `[funcao(item) for item in iteravel]`.\n",
        "- A função lambda deve retornar o comprimento de cada palavra usando `len()`.\n",
        "\n",
        "---\n",
        "\n",
        "## **10. Ordenando um Dicionário com Funções Lambda**\n",
        "\n",
        "**Descrição:**\n",
        "\n",
        "Dado o dicionário `produtos` onde as chaves são os nomes dos produtos e os valores são os preços:\n",
        "\n",
        "```python\n",
        "produtos = {\n",
        "    'Maçã': 2.5,\n",
        "    'Banana': 1.8,\n",
        "    'Laranja': 3.0,\n",
        "    'Abacaxi': 5.5\n",
        "}\n",
        "```\n",
        "\n",
        "Ordene o dicionário pelos preços em **ordem crescente** e armazene o resultado como uma lista de tuplas.\n",
        "\n",
        "**Dicas:**\n",
        "\n",
        "- Use `sorted(produtos.items(), key=lambda x: x[1])`.\n",
        "- O resultado será uma lista de tuplas ordenadas pelo segundo elemento (preço).\n",
        "\n",
        "---"
      ]
    },
    {
      "cell_type": "markdown",
      "metadata": {
        "id": "-OTY7MsKIAZs"
      },
      "source": [
        "## Exercicio 11\n",
        "Qual a vantagem de se utilizar Lambda Functions?"
      ]
    },
    {
      "cell_type": "markdown",
      "metadata": {
        "id": "5MI2hu3-IbXf"
      },
      "source": [
        "## Exercício 12\n",
        "Desenvolva uma Lambda Function para verificar se um número é par ímpar."
      ]
    },
    {
      "cell_type": "code",
      "metadata": {
        "id": "hV4nlZduIEnO"
      },
      "source": [],
      "execution_count": null,
      "outputs": []
    }
  ]
}