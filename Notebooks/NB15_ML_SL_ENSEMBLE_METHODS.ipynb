{
  "nbformat": 4,
  "nbformat_minor": 0,
  "metadata": {
    "kernelspec": {
      "name": "python3",
      "display_name": "Python 3"
    },
    "colab": {
      "name": "NB15_00__Machine_Learning.ipynb",
      "provenance": [],
      "gpuType": "V28",
      "include_colab_link": true
    },
    "accelerator": "TPU"
  },
  "cells": [
    {
      "cell_type": "markdown",
      "metadata": {
        "id": "view-in-github",
        "colab_type": "text"
      },
      "source": [
        "<a href=\"https://colab.research.google.com/github/MathMachado/DSWP/blob/master/Notebooks/NB15_ML_SL_ENSEMBLE_METHODS.ipynb\" target=\"_parent\"><img src=\"https://colab.research.google.com/assets/colab-badge.svg\" alt=\"Open In Colab\"/></a>"
      ]
    },
    {
      "cell_type": "markdown",
      "metadata": {
        "id": "ShVXyGj9wkgN"
      },
      "source": [
        "<center><h1><b><i>MACHINE LEARNING | APRENDIZAGEM SUPERVISIONADA | ENSEMBLE METHODS</i></b></h1></center>"
      ]
    },
    {
      "cell_type": "markdown",
      "metadata": {
        "id": "rvwp5UHdBiup"
      },
      "source": [
        "___\n",
        "# **NOSSO FOCO AQUI SERÁ APRENDIZAGEM SUPERVISIONADA E APRENDIZAGEM NÃO-SUPERVISIONADA**\n",
        "\n",
        "![ClassicalML](https://github.com/MathMachado/Materials/blob/master/ClassicalML.jpg?raw=true)\n",
        "\n",
        "Source: [Machine Learning for Everyone](https://vas3k.com/blog/machine_learning/?source=post_page-----885aa35db58b----------------------)"
      ]
    },
    {
      "cell_type": "markdown",
      "metadata": {
        "id": "cBLSvJTXHBjK"
      },
      "source": [
        "___\n",
        "# **CHEETSHEET**"
      ]
    },
    {
      "cell_type": "markdown",
      "metadata": {
        "id": "ZdjR3nahUuKq"
      },
      "source": [
        "\n",
        "![Scikit-Learn](https://github.com/MathMachado/Materials/blob/master/scikit-learn-1.png?raw=true)\n",
        "\n"
      ]
    },
    {
      "cell_type": "markdown",
      "metadata": {
        "id": "yBR8tWV_lhQq"
      },
      "source": [
        "___\n",
        "# **ENSEMBLE METHODS** (= Combinar modelos preditivos)\n",
        "* Métodos\n",
        "    * **Bagging** (Bootstrap AGGregatING)\n",
        "    * **Boosting**\n",
        "    * Stacking --> Não é muito utilizado\n",
        "* Evita overfitting (Overfitting é quando o modelo/função se ajusta muito bem ao dados de treinamento, sendo ineficiente para generalizar para outras amostras/população).\n",
        "* Constroi meta-classificadores: combinar os resultados de vários algoritmos para produzir previsões mais precisas e robustas do que as previsões de cada classificador individual.\n",
        "* Ensemble reduz/minimiza os efeitos das principais causas de erros nos modelos de Machine Learning:\n",
        "    * ruído;\n",
        "    * bias (viés);\n",
        "    * variância --> Principal medida para medir a variabilidade presente nos dados.\n",
        "\n",
        "# Referências\n",
        "* [Simple guide for ensemble learning methods](https://towardsdatascience.com/simple-guide-for-ensemble-learning-methods-d87cc68705a2) - Explica didaticamente como funcionam ensembes."
      ]
    },
    {
      "cell_type": "markdown",
      "metadata": {
        "id": "25RW8u-Sj780"
      },
      "source": [
        "### Leitura Adicional\n",
        "* [Ensemble methods: bagging, boosting and stacking](https://towardsdatascience.com/ensemble-methods-bagging-boosting-and-stacking-c9214a10a205)\n",
        "* [Ensemble Methods in Machine Learning: What are They and Why Use Them?](https://towardsdatascience.com/ensemble-methods-in-machine-learning-what-are-they-and-why-use-them-68ec3f9fef5f)\n",
        "* [Ensemble Learning Using Scikit-learn](https://towardsdatascience.com/ensemble-learning-using-scikit-learn-85c4531ff86a)\n",
        "* [Let’s Talk About Machine Learning Ensemble Learning In Python](https://medium.com/fintechexplained/lets-talk-about-machine-learning-ensemble-learning-in-python-382747e5fba8)\n",
        "* [Boosting, Bagging, and Stacking — Ensemble Methods with sklearn and mlens](https://medium.com/@rrfd/boosting-bagging-and-stacking-ensemble-methods-with-sklearn-and-mlens-a455c0c982de)"
      ]
    },
    {
      "cell_type": "markdown",
      "metadata": {
        "id": "EwWkjfC8KEZH"
      },
      "source": [
        "# ENSEMBLE METHODS\n",
        "https://towardsdatascience.com/using-bagging-and-boosting-to-improve-classification-tree-accuracy-6d3bb6c95e5b\n",
        "\n",
        "![Ensemble](https://github.com/MathMachado/Materials/blob/master/Ensemble.png?raw=true)"
      ]
    }
  ]
}