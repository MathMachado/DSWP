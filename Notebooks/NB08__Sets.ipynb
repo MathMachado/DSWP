{
  "nbformat": 4,
  "nbformat_minor": 0,
  "metadata": {
    "colab": {
      "name": "PythonLab.ipynb",
      "provenance": [],
      "collapsed_sections": [
        "n8BIbzQbNWUo",
        "7eS94uQ4NhVR",
        "SYOgJpGYVLUu",
        "CaHFxk98W5if",
        "ReWUyWiHXCnc",
        "CqszHxaKHr2h",
        "tXgF1Wl9gHKY",
        "Fotx7XUquAo8",
        "36kmLUYDvsUI",
        "SWO2GdNovxAp",
        "vpN54l4vxze5",
        "u4HOf9SNytSq",
        "6BQ9oZiD9hg5",
        "tz5-QdrX9vct",
        "p1muBgMX8NK4",
        "FxTC2-U88ajk",
        "z8EYn0pP25Rh"
      ],
      "include_colab_link": true
    },
    "kernelspec": {
      "name": "python3",
      "display_name": "Python 3"
    },
    "accelerator": "GPU"
  },
  "cells": [
    {
      "cell_type": "markdown",
      "metadata": {
        "id": "view-in-github",
        "colab_type": "text"
      },
      "source": [
        "<a href=\"https://colab.research.google.com/github/MathMachado/DSWP/blob/master/Notebooks/NB08__Sets.ipynb\" target=\"_parent\"><img src=\"https://colab.research.google.com/assets/colab-badge.svg\" alt=\"Open In Colab\"/></a>"
      ]
    },
    {
      "cell_type": "markdown",
      "metadata": {
        "id": "l5YBMvtgx-Ih",
        "colab_type": "text"
      },
      "source": [
        "# Melhorias da sessão\n",
        "* Colocar figuras que representem as operações de conjunto para ajudar a explicar os conceitos;"
      ]
    },
    {
      "cell_type": "markdown",
      "metadata": {
        "id": "NmzmiDz9JpL5",
        "colab_type": "text"
      },
      "source": [
        "# **Sets**\n",
        "\n",
        "* Um objeto Set é uma coleção não ordenada que pode ser iterável, alterado e que não possui duplicatas.\n",
        "* **Analogia com conjuntos da Matemática**.\n",
        "* Itens entre \"{}\": {item_1, item_2, ..., item_k}.\n",
        "* Não se pode usar índices para acessar os itens do objeto Set.\n",
        "\n",
        "* Qual a vantagem de se utilizar objetos Sets ao invés de lists?    \n",
        "    * Usar Sets ao invés de lists é um meio altamente recomendado e otimizado para se verificar se o item pertence à lista."
      ]
    },
    {
      "cell_type": "markdown",
      "metadata": {
        "id": "1zmO_0tAJsSg",
        "colab_type": "text"
      },
      "source": [
        "![PythonDataStructures](https://github.com/MathMachado/Materials/blob/master/PythonDataStructures.png?raw=true)"
      ]
    },
    {
      "cell_type": "markdown",
      "metadata": {
        "id": "aVMai8KcRwF2",
        "colab_type": "text"
      },
      "source": [
        "Considere o exemplo a seguir:"
      ]
    },
    {
      "cell_type": "code",
      "metadata": {
        "id": "poP9r8crQ3Xf",
        "colab_type": "code",
        "colab": {}
      },
      "source": [
        "# Definindo a lista\n",
        "l_Frutas= ['Apple','Watermelon','Orange','Pear','Cherry','Strawberry','Nectarine','Grape',\n",
        "'Mango','Blueberry','Pomegranate','Carambola','Plum','Banana','Raspberry','Mandarin','Jackfruit',\n",
        "'Papaya','Kiwi','Pineapple','Lime','Lemon','Apricot','Grapefruit','Melon','Coconut','Avocado','Peach']"
      ],
      "execution_count": 0,
      "outputs": []
    },
    {
      "cell_type": "markdown",
      "metadata": {
        "id": "SIJ2Pp-C5ZMP",
        "colab_type": "text"
      },
      "source": [
        "Mostrando os itens da lista l_Frutas:"
      ]
    },
    {
      "cell_type": "code",
      "metadata": {
        "id": "u9laOclSTZnV",
        "colab_type": "code",
        "outputId": "22d78df7-d27d-4894-b5d1-7c6864306fb8",
        "colab": {
          "base_uri": "https://localhost:8080/",
          "height": 493
        }
      },
      "source": [
        "l_Frutas"
      ],
      "execution_count": 0,
      "outputs": [
        {
          "output_type": "execute_result",
          "data": {
            "text/plain": [
              "['Apple',\n",
              " 'Watermelon',\n",
              " 'Orange',\n",
              " 'Pear',\n",
              " 'Cherry',\n",
              " 'Strawberry',\n",
              " 'Nectarine',\n",
              " 'Grape',\n",
              " 'Mango',\n",
              " 'Blueberry',\n",
              " 'Pomegranate',\n",
              " 'Carambola',\n",
              " 'Plum',\n",
              " 'Banana',\n",
              " 'Raspberry',\n",
              " 'Mandarin',\n",
              " 'Jackfruit',\n",
              " 'Papaya',\n",
              " 'Kiwi',\n",
              " 'Pineapple',\n",
              " 'Lime',\n",
              " 'Lemon',\n",
              " 'Apricot',\n",
              " 'Grapefruit',\n",
              " 'Melon',\n",
              " 'Coconut',\n",
              " 'Avocado',\n",
              " 'Peach']"
            ]
          },
          "metadata": {
            "tags": []
          },
          "execution_count": 14
        }
      ]
    },
    {
      "cell_type": "code",
      "metadata": {
        "id": "gqttQBWrGfys",
        "colab_type": "code",
        "outputId": "0bdce858-a6ce-43db-f35a-9cff61972c17",
        "colab": {
          "base_uri": "https://localhost:8080/",
          "height": 34
        }
      },
      "source": [
        "type(l_Frutas)"
      ],
      "execution_count": 0,
      "outputs": [
        {
          "output_type": "execute_result",
          "data": {
            "text/plain": [
              "list"
            ]
          },
          "metadata": {
            "tags": []
          },
          "execution_count": 15
        }
      ]
    },
    {
      "cell_type": "markdown",
      "metadata": {
        "id": "yOtcxsv8TrH8",
        "colab_type": "text"
      },
      "source": [
        "Como podemos ver, l_Frutas é um objeto do tipo list."
      ]
    },
    {
      "cell_type": "markdown",
      "metadata": {
        "id": "bv_DKDqLFEud",
        "colab_type": "text"
      },
      "source": [
        "# Transformar objeto list em um objeto set\n",
        "* Função set()."
      ]
    },
    {
      "cell_type": "code",
      "metadata": {
        "id": "XVQ2sG0Pap4b",
        "colab_type": "code",
        "outputId": "07d06d84-f6d9-486a-ccfc-9ac98a6ba754",
        "colab": {
          "base_uri": "https://localhost:8080/",
          "height": 493
        }
      },
      "source": [
        "set_Frutas= set(l_Frutas)\n",
        "set_Frutas"
      ],
      "execution_count": 0,
      "outputs": [
        {
          "output_type": "execute_result",
          "data": {
            "text/plain": [
              "{'Apple',\n",
              " 'Apricot',\n",
              " 'Avocado',\n",
              " 'Banana',\n",
              " 'Blueberry',\n",
              " 'Carambola',\n",
              " 'Cherry',\n",
              " 'Coconut',\n",
              " 'Grape',\n",
              " 'Grapefruit',\n",
              " 'Jackfruit',\n",
              " 'Kiwi',\n",
              " 'Lemon',\n",
              " 'Lime',\n",
              " 'Mandarin',\n",
              " 'Mango',\n",
              " 'Melon',\n",
              " 'Nectarine',\n",
              " 'Orange',\n",
              " 'Papaya',\n",
              " 'Peach',\n",
              " 'Pear',\n",
              " 'Pineapple',\n",
              " 'Plum',\n",
              " 'Pomegranate',\n",
              " 'Raspberry',\n",
              " 'Strawberry',\n",
              " 'Watermelon'}"
            ]
          },
          "metadata": {
            "tags": []
          },
          "execution_count": 16
        }
      ]
    },
    {
      "cell_type": "markdown",
      "metadata": {
        "id": "2cI9beMn5-UK",
        "colab_type": "text"
      },
      "source": [
        "Observe que o objeto set acima não possui itens duplicados."
      ]
    },
    {
      "cell_type": "code",
      "metadata": {
        "id": "aH5hc2-DFbA_",
        "colab_type": "code",
        "outputId": "49eec28e-8361-447c-a751-b9430ee1cb16",
        "colab": {
          "base_uri": "https://localhost:8080/",
          "height": 34
        }
      },
      "source": [
        "# Verificando o tipo do objeto set_Frutas...\n",
        "type(set_Frutas)"
      ],
      "execution_count": 0,
      "outputs": [
        {
          "output_type": "execute_result",
          "data": {
            "text/plain": [
              "set"
            ]
          },
          "metadata": {
            "tags": []
          },
          "execution_count": 17
        }
      ]
    },
    {
      "cell_type": "markdown",
      "metadata": {
        "id": "OVlha00pH3gZ",
        "colab_type": "text"
      },
      "source": [
        "Ok, set_Frutas é um objeto do tipo set."
      ]
    },
    {
      "cell_type": "markdown",
      "metadata": {
        "id": "4mXfPWYc6Ek5",
        "colab_type": "text"
      },
      "source": [
        "Você notou que os itens do set set_Frutas estão entre \"{}\"?"
      ]
    },
    {
      "cell_type": "markdown",
      "metadata": {
        "id": "zNea67m1IMCK",
        "colab_type": "text"
      },
      "source": [
        "Verificando se o item 'Mandarin' pertence ao set set_Frutas..."
      ]
    },
    {
      "cell_type": "code",
      "metadata": {
        "id": "xPvKOOugbDMN",
        "colab_type": "code",
        "outputId": "04fe80a4-3cda-4308-f587-7d1663c2e467",
        "colab": {
          "base_uri": "https://localhost:8080/",
          "height": 34
        }
      },
      "source": [
        "'Mandarin' in set_Frutas"
      ],
      "execution_count": 0,
      "outputs": [
        {
          "output_type": "execute_result",
          "data": {
            "text/plain": [
              "True"
            ]
          },
          "metadata": {
            "tags": []
          },
          "execution_count": 18
        }
      ]
    },
    {
      "cell_type": "markdown",
      "metadata": {
        "id": "y7UuizNcbVMU",
        "colab_type": "text"
      },
      "source": [
        "# **Métodos set**\n",
        "> Alinhado com a teoria dos conjuntos da Matemática.\n",
        "\n"
      ]
    },
    {
      "cell_type": "markdown",
      "metadata": {
        "id": "9fE_ZTIXcQyh",
        "colab_type": "text"
      },
      "source": [
        "## União de conjuntos (sets)\n",
        "* Retorna a união/junção de dois objetos sets;\n",
        "* O operador ‘|’ produz o mesmo resultado que set1.union(set2);\n",
        "\n",
        "![Union](https://github.com/MathMachado/Materials/blob/master/set_Union.PNG?raw=true)\n",
        "\n",
        "Fonte: [Python Set](https://www.learnbyexample.org/python-set/)"
      ]
    },
    {
      "cell_type": "markdown",
      "metadata": {
        "id": "RBqab5gR7v2c",
        "colab_type": "text"
      },
      "source": [
        "### set.union()\n",
        "> Retorna os valores únicos dos dois conjuntos. Na teoria dos conjuntos, escrevemos:\n",
        "\n",
        "$$A \\cup B$$"
      ]
    },
    {
      "cell_type": "code",
      "metadata": {
        "id": "qAbAJg94b_Qh",
        "colab_type": "code",
        "colab": {}
      },
      "source": [
        "# definindo a lista de itens. Lembre-se de usar \"{}\" ao invés de \"[]\"\n",
        "set_Frutas1= {'Apple','Watermelon','Orange', 'Apple', 'Orange', 'Cherry'}\n",
        "set_Frutas2= {'Pear','Cherry','Strawberry','Nectarine'}"
      ],
      "execution_count": 0,
      "outputs": []
    },
    {
      "cell_type": "markdown",
      "metadata": {
        "id": "Ipfhr4XM9J7i",
        "colab_type": "text"
      },
      "source": [
        "**Atenção**: Observe que o objeto lista set_Frutas1 possui 'Apple' e 'Orange' duplicados. Observe, também, que o item 'Cherry' é o item comum entre estas duas listas."
      ]
    },
    {
      "cell_type": "code",
      "metadata": {
        "id": "SOqXa6ikdBpw",
        "colab_type": "code",
        "outputId": "695f7e8d-b507-4c9e-e8ec-a31cd8ce2647",
        "colab": {
          "base_uri": "https://localhost:8080/",
          "height": 34
        }
      },
      "source": [
        "# Juntando as duas listas:\n",
        "set_Frutas = set_Frutas1.union(set_Frutas2)\n",
        "set_Frutas"
      ],
      "execution_count": 0,
      "outputs": [
        {
          "output_type": "execute_result",
          "data": {
            "text/plain": [
              "{'Apple', 'Cherry', 'Nectarine', 'Orange', 'Pear', 'Strawberry', 'Watermelon'}"
            ]
          },
          "metadata": {
            "tags": []
          },
          "execution_count": 20
        }
      ]
    },
    {
      "cell_type": "markdown",
      "metadata": {
        "id": "hPGXjs_Z7LHp",
        "colab_type": "text"
      },
      "source": [
        "Note que cada elemento da lista aparece uma única vez."
      ]
    },
    {
      "cell_type": "markdown",
      "metadata": {
        "id": "FC1pk8gyCwRI",
        "colab_type": "text"
      },
      "source": [
        "Observe também que o objeto set_Frutas1 é do tipo set."
      ]
    },
    {
      "cell_type": "code",
      "metadata": {
        "id": "hVJjyDFoCrPD",
        "colab_type": "code",
        "outputId": "1d6e96af-45e9-405b-886c-049f7e2dd3d6",
        "colab": {
          "base_uri": "https://localhost:8080/",
          "height": 34
        }
      },
      "source": [
        "type(set_Frutas)"
      ],
      "execution_count": 0,
      "outputs": [
        {
          "output_type": "execute_result",
          "data": {
            "text/plain": [
              "set"
            ]
          },
          "metadata": {
            "tags": []
          },
          "execution_count": 21
        }
      ]
    },
    {
      "cell_type": "markdown",
      "metadata": {
        "id": "GKSxZcdE7smv",
        "colab_type": "text"
      },
      "source": [
        "### Operador \"|\"\n",
        "* vamos repetir o exemplo anterior, mas desta vez vamos demonstrar o uso do operador \"|\"."
      ]
    },
    {
      "cell_type": "code",
      "metadata": {
        "id": "joNgYYtD78Dz",
        "colab_type": "code",
        "colab": {}
      },
      "source": [
        "# definindo a lista de itens. Lembre-se de usar \"{}\" ao invés de \"[]\"\n",
        "set_Frutas1= {'Apple','Watermelon','Orange', 'Apple', 'Orange', 'Cherry'}\n",
        "set_Frutas2= {'Pear','Cherry','Strawberry','Nectarine'}"
      ],
      "execution_count": 0,
      "outputs": []
    },
    {
      "cell_type": "code",
      "metadata": {
        "id": "uExwK4z-8ADr",
        "colab_type": "code",
        "outputId": "a02613a2-3aed-49b0-b9d5-16b92d18a1f3",
        "colab": {
          "base_uri": "https://localhost:8080/",
          "height": 34
        }
      },
      "source": [
        "# Juntando as duas listas:\n",
        "set_Frutas = set_Frutas1 | set_Frutas1\n",
        "set_Frutas"
      ],
      "execution_count": 0,
      "outputs": [
        {
          "output_type": "execute_result",
          "data": {
            "text/plain": [
              "{'Apple', 'Cherry', 'Orange', 'Watermelon'}"
            ]
          },
          "metadata": {
            "tags": []
          },
          "execution_count": 23
        }
      ]
    },
    {
      "cell_type": "markdown",
      "metadata": {
        "id": "FJ11hu6-8EzS",
        "colab_type": "text"
      },
      "source": [
        "Mesmo resultado, certo? Particularmente, eu prefiro usar o operador \"|\"."
      ]
    },
    {
      "cell_type": "markdown",
      "metadata": {
        "id": "xLO-u0kS8UV5",
        "colab_type": "text"
      },
      "source": [
        "## Intersecção de dois conjuntos\n",
        "* Retorna a intersecção de dois objetos set;\n",
        "* O operador ‘&’ produz o mesmo resultado que set1.intersection(set2).\n",
        "* Teoria dos conjuntos: $X \\cap Y$.\n",
        "\n",
        "![Interseccion](https://github.com/MathMachado/Materials/blob/master/set_Intersection.PNG?raw=true)\n",
        "\n",
        "Fonte: [Python Set](https://www.learnbyexample.org/python-set/)"
      ]
    },
    {
      "cell_type": "code",
      "metadata": {
        "id": "F9ae2SAW8Tar",
        "colab_type": "code",
        "colab": {}
      },
      "source": [
        "# definindo a lista de itens. Lembre-se de usar \"{}\" ao invés de \"[]\"\n",
        "set_Frutas1= {'Apple','Watermelon','Orange', 'Apple', 'Orange', 'Cherry'}\n",
        "set_Frutas2= {'Pear','Cherry','Strawberry','Nectarine'}"
      ],
      "execution_count": 0,
      "outputs": []
    },
    {
      "cell_type": "code",
      "metadata": {
        "id": "TDqwIfqn94kx",
        "colab_type": "code",
        "outputId": "a6e1ac3e-48d1-45a4-8b5b-dead88c32eca",
        "colab": {
          "base_uri": "https://localhost:8080/",
          "height": 34
        }
      },
      "source": [
        "set_Frutas = set_Frutas1.intersection(set_Frutas2)\n",
        "set_Frutas"
      ],
      "execution_count": 0,
      "outputs": [
        {
          "output_type": "execute_result",
          "data": {
            "text/plain": [
              "{'Cherry'}"
            ]
          },
          "metadata": {
            "tags": []
          },
          "execution_count": 25
        }
      ]
    },
    {
      "cell_type": "markdown",
      "metadata": {
        "id": "WTJiBRqZ-DnV",
        "colab_type": "text"
      },
      "source": [
        "### Operador \"&\""
      ]
    },
    {
      "cell_type": "code",
      "metadata": {
        "id": "Zt3DwQDs-IVi",
        "colab_type": "code",
        "colab": {}
      },
      "source": [
        "# definindo a lista de itens. Lembre-se de usar \"{}\" ao invés de \"[]\"\n",
        "set_Frutas1= {'Apple','Watermelon','Orange', 'Apple', 'Orange', 'Cherry'}\n",
        "set_Frutas2= {'Pear','Cherry','Strawberry','Nectarine'}"
      ],
      "execution_count": 0,
      "outputs": []
    },
    {
      "cell_type": "code",
      "metadata": {
        "id": "FEMRpfH6-P8R",
        "colab_type": "code",
        "outputId": "d5ed53a3-ff93-4207-d07d-f57d7c2a5ba3",
        "colab": {
          "base_uri": "https://localhost:8080/",
          "height": 34
        }
      },
      "source": [
        "set_Frutas = set_Frutas1 & set_Frutas2\n",
        "set_Frutas"
      ],
      "execution_count": 0,
      "outputs": [
        {
          "output_type": "execute_result",
          "data": {
            "text/plain": [
              "{'Cherry'}"
            ]
          },
          "metadata": {
            "tags": []
          },
          "execution_count": 27
        }
      ]
    },
    {
      "cell_type": "markdown",
      "metadata": {
        "id": "N445biyX-krt",
        "colab_type": "text"
      },
      "source": [
        "## Diferença entre conjuntos\n",
        "* Retorna um objeto/conjunto set contendo todos os elementos do conjunto set1 que não pertençam ao conjunto set2;\n",
        "* O operador \"-\" produz o mesmo resultado que set.difference(set2).\n",
        "* Na teoria de conjuntos escrevemos: $A - B = A - A \\cap B$\n",
        "\n",
        "![Difference](https://github.com/MathMachado/Materials/blob/master/set_Difference.PNG?raw=true)\n",
        "\n",
        "Fonte: [Python Set](https://www.learnbyexample.org/python-set/)"
      ]
    },
    {
      "cell_type": "code",
      "metadata": {
        "id": "1E3xd6oh-jt9",
        "colab_type": "code",
        "colab": {}
      },
      "source": [
        "# definindo a lista de itens. Lembre-se de usar \"{}\" ao invés de \"[]\"\n",
        "set_Frutas1= {'Apple','Watermelon','Orange', 'Apple', 'Orange', 'Cherry'}\n",
        "set_Frutas2= {'Pear','Cherry','Strawberry','Nectarine'}"
      ],
      "execution_count": 0,
      "outputs": []
    },
    {
      "cell_type": "code",
      "metadata": {
        "id": "1ibPFZwA_iKF",
        "colab_type": "code",
        "outputId": "3987ce2c-6288-47fb-972e-0775d4ae304d",
        "colab": {
          "base_uri": "https://localhost:8080/",
          "height": 34
        }
      },
      "source": [
        "set_Frutas = set_Frutas1.difference(set_Frutas2)\n",
        "set_Frutas"
      ],
      "execution_count": 0,
      "outputs": [
        {
          "output_type": "execute_result",
          "data": {
            "text/plain": [
              "{'Apple', 'Orange', 'Watermelon'}"
            ]
          },
          "metadata": {
            "tags": []
          },
          "execution_count": 29
        }
      ]
    },
    {
      "cell_type": "markdown",
      "metadata": {
        "id": "h9V-k8Fj_uAT",
        "colab_type": "text"
      },
      "source": [
        "Confira se o resultado são os elementos que pertençam ao objeto set 1 que NÃO PERTENÇAM ao set2."
      ]
    },
    {
      "cell_type": "markdown",
      "metadata": {
        "id": "_4DhSxXt_W1W",
        "colab_type": "text"
      },
      "source": [
        "### Operador \"-\""
      ]
    },
    {
      "cell_type": "code",
      "metadata": {
        "id": "9E7YiPue_qDl",
        "colab_type": "code",
        "colab": {}
      },
      "source": [
        "# definindo a lista de itens. Lembre-se de usar \"{}\" ao invés de \"[]\"\n",
        "set_Frutas1= {'Apple','Watermelon','Orange', 'Apple', 'Orange', 'Cherry'}\n",
        "set_Frutas2= {'Pear','Cherry','Strawberry','Nectarine'}"
      ],
      "execution_count": 0,
      "outputs": []
    },
    {
      "cell_type": "code",
      "metadata": {
        "id": "zxJrZlJK_ryG",
        "colab_type": "code",
        "outputId": "8b2309a0-739a-4276-d5cd-f52c72415673",
        "colab": {
          "base_uri": "https://localhost:8080/",
          "height": 34
        }
      },
      "source": [
        "set_Frutas = set_Frutas1 - set_Frutas2\n",
        "set_Frutas"
      ],
      "execution_count": 0,
      "outputs": [
        {
          "output_type": "execute_result",
          "data": {
            "text/plain": [
              "{'Apple', 'Orange', 'Watermelon'}"
            ]
          },
          "metadata": {
            "tags": []
          },
          "execution_count": 31
        }
      ]
    },
    {
      "cell_type": "markdown",
      "metadata": {
        "id": "jx1KeO8kd6DG",
        "colab_type": "text"
      },
      "source": [
        "## **Diferença Simétrica**\n",
        "* Retorna um objeto/conjunto set contendo itens de set1 e set2 menos a intersecção de set1 e set2.\n",
        "* Na teoria de conjuntos escrevemos: $A \\cup B - A \\cap B$.\n",
        "\n",
        "![DifferenceSymmetric](https://github.com/MathMachado/Materials/blob/master/set_DifferenceSymetric.PNG?raw=true)\n",
        "\n",
        "Fonte: [Python Set](https://www.learnbyexample.org/python-set/)"
      ]
    },
    {
      "cell_type": "code",
      "metadata": {
        "id": "1HOonLLXeEXJ",
        "colab_type": "code",
        "colab": {}
      },
      "source": [
        "import numpy as np\n",
        "# definindo a lista de itens. Lembre-se de usar \"{}\" ao invés de \"[]\"\n",
        "set_Frutas1= {'Apple','Watermelon','Orange', 'Apple', 'Orange', 'Cherry'}\n",
        "set_Frutas2= {'Pear','Cherry','Strawberry','Nectarine'}"
      ],
      "execution_count": 0,
      "outputs": []
    },
    {
      "cell_type": "code",
      "metadata": {
        "id": "j-lsvUcWeHRR",
        "colab_type": "code",
        "outputId": "f4d45d39-2237-4649-e8f6-ae480caff58f",
        "colab": {
          "base_uri": "https://localhost:8080/",
          "height": 34
        }
      },
      "source": [
        "set_Frutas1 ^= set_Frutas2\n",
        "set_Frutas1"
      ],
      "execution_count": 0,
      "outputs": [
        {
          "output_type": "execute_result",
          "data": {
            "text/plain": [
              "{'Apple', 'Nectarine', 'Orange', 'Pear', 'Strawberry', 'Watermelon'}"
            ]
          },
          "metadata": {
            "tags": []
          },
          "execution_count": 5
        }
      ]
    },
    {
      "cell_type": "markdown",
      "metadata": {
        "id": "H2CCI3WtebAi",
        "colab_type": "text"
      },
      "source": [
        "Vimos que o item 'Cherry' é o elemento comum entre as duas listas. Portanto, 'Cherry' é a intersecção das duas listas. Certo?\n",
        "\n",
        "Então, o resultado acima não pode conter o item 'Cherry'. Certo?"
      ]
    },
    {
      "cell_type": "markdown",
      "metadata": {
        "id": "B7fT-QGiFREs",
        "colab_type": "text"
      },
      "source": [
        "# Outros métodos importantes"
      ]
    },
    {
      "cell_type": "markdown",
      "metadata": {
        "id": "hWNUIGpIE6z9",
        "colab_type": "text"
      },
      "source": [
        "## Método clear()\n",
        "* deleta os itens do objeto set."
      ]
    },
    {
      "cell_type": "code",
      "metadata": {
        "id": "48OzIs0fE-yD",
        "colab_type": "code",
        "colab": {}
      },
      "source": [
        "# definindo a lista de itens. Lembre-se de usar \"{}\" ao invés de \"[]\"\n",
        "set_Frutas1= {'Apple','Watermelon','Orange', 'Apple', 'Orange', 'Cherry'}\n",
        "set_Frutas2= {'Pear','Cherry','Strawberry','Nectarine'}"
      ],
      "execution_count": 0,
      "outputs": []
    },
    {
      "cell_type": "code",
      "metadata": {
        "id": "SanSB3dlALSC",
        "colab_type": "code",
        "outputId": "77cb640a-7731-4af5-fb33-b663d5f4292e",
        "colab": {
          "base_uri": "https://localhost:8080/",
          "height": 34
        }
      },
      "source": [
        "set_Frutas1.clear()\n",
        "set_Frutas1"
      ],
      "execution_count": 0,
      "outputs": [
        {
          "output_type": "execute_result",
          "data": {
            "text/plain": [
              "set()"
            ]
          },
          "metadata": {
            "tags": []
          },
          "execution_count": 35
        }
      ]
    },
    {
      "cell_type": "markdown",
      "metadata": {
        "id": "yP_uvIwJT9QV",
        "colab_type": "text"
      },
      "source": [
        "## Número de itens num objeto set"
      ]
    },
    {
      "cell_type": "code",
      "metadata": {
        "id": "_RWrhL6PUEpi",
        "colab_type": "code",
        "colab": {}
      },
      "source": [
        "# definindo a lista de itens. Lembre-se de usar \"{}\" ao invés de \"[]\"\n",
        "set_Frutas= {'Apple','Watermelon','Orange', 'Apple', 'Orange', 'Cherry'}"
      ],
      "execution_count": 0,
      "outputs": []
    },
    {
      "cell_type": "code",
      "metadata": {
        "id": "J4MjZHJSUHfF",
        "colab_type": "code",
        "outputId": "426f1ca5-355e-4e93-8cbf-cb89be8feb80",
        "colab": {
          "base_uri": "https://localhost:8080/",
          "height": 34
        }
      },
      "source": [
        "len(set_Frutas)"
      ],
      "execution_count": 0,
      "outputs": [
        {
          "output_type": "execute_result",
          "data": {
            "text/plain": [
              "4"
            ]
          },
          "metadata": {
            "tags": []
          },
          "execution_count": 37
        }
      ]
    },
    {
      "cell_type": "markdown",
      "metadata": {
        "id": "GoI7V7tCF5it",
        "colab_type": "text"
      },
      "source": [
        "Por acaso alguém estava à espera de outro númerco, como um 6, por exemplo?"
      ]
    },
    {
      "cell_type": "markdown",
      "metadata": {
        "id": "oggPxr5HFXur",
        "colab_type": "text"
      },
      "source": [
        "## Membership"
      ]
    },
    {
      "cell_type": "code",
      "metadata": {
        "id": "lVRfn8xwFchc",
        "colab_type": "code",
        "colab": {}
      },
      "source": [
        "# definindo a lista de itens. Lembre-se de usar \"{}\" ao invés de \"[]\"\n",
        "set_Frutas= {'Apple','Watermelon','Orange', 'Apple', 'Orange', 'Cherry'}"
      ],
      "execution_count": 0,
      "outputs": []
    },
    {
      "cell_type": "code",
      "metadata": {
        "id": "4elw5NJhFWQW",
        "colab_type": "code",
        "outputId": "f4cfe9eb-06ff-4445-8a62-0e18dd3c8a39",
        "colab": {
          "base_uri": "https://localhost:8080/",
          "height": 34
        }
      },
      "source": [
        "'Apple' in set_Frutas"
      ],
      "execution_count": 0,
      "outputs": [
        {
          "output_type": "execute_result",
          "data": {
            "text/plain": [
              "True"
            ]
          },
          "metadata": {
            "tags": []
          },
          "execution_count": 39
        }
      ]
    },
    {
      "cell_type": "markdown",
      "metadata": {
        "id": "7XZKfZ15FrEt",
        "colab_type": "text"
      },
      "source": [
        "## Non-Membership"
      ]
    },
    {
      "cell_type": "code",
      "metadata": {
        "id": "2hbOQfTgFvw7",
        "colab_type": "code",
        "colab": {}
      },
      "source": [
        "# definindo a lista de itens. Lembre-se de usar \"{}\" ao invés de \"[]\"\n",
        "set_Frutas= {'Apple','Watermelon','Orange', 'Apple', 'Orange', 'Cherry'}"
      ],
      "execution_count": 0,
      "outputs": []
    },
    {
      "cell_type": "code",
      "metadata": {
        "id": "cNAXJt1cFy3z",
        "colab_type": "code",
        "outputId": "fb14f4ff-b85c-4750-8d9d-386e61a29847",
        "colab": {
          "base_uri": "https://localhost:8080/",
          "height": 34
        }
      },
      "source": [
        "'Apple' not in set_Frutas"
      ],
      "execution_count": 0,
      "outputs": [
        {
          "output_type": "execute_result",
          "data": {
            "text/plain": [
              "False"
            ]
          },
          "metadata": {
            "tags": []
          },
          "execution_count": 41
        }
      ]
    },
    {
      "cell_type": "markdown",
      "metadata": {
        "id": "nZY6vT45Pl63",
        "colab_type": "text"
      },
      "source": [
        "## Copiar um objeto set"
      ]
    },
    {
      "cell_type": "code",
      "metadata": {
        "id": "qtwgwjlgPqYP",
        "colab_type": "code",
        "colab": {}
      },
      "source": [
        "# definindo a lista de itens. Lembre-se de usar \"{}\" ao invés de \"[]\"\n",
        "set_Frutas= {'Apple','Watermelon','Orange', 'Apple', 'Orange', 'Cherry'}"
      ],
      "execution_count": 0,
      "outputs": []
    },
    {
      "cell_type": "code",
      "metadata": {
        "id": "CW3dXoO0PsYl",
        "colab_type": "code",
        "outputId": "fe1076d8-70a8-4b7d-9766-8cf0278afb0d",
        "colab": {
          "base_uri": "https://localhost:8080/",
          "height": 34
        }
      },
      "source": [
        "set_Frutas2= set_Frutas.copy()\n",
        "set_Frutas2"
      ],
      "execution_count": 0,
      "outputs": [
        {
          "output_type": "execute_result",
          "data": {
            "text/plain": [
              "{'Apple', 'Cherry', 'Orange', 'Watermelon'}"
            ]
          },
          "metadata": {
            "tags": []
          },
          "execution_count": 43
        }
      ]
    },
    {
      "cell_type": "markdown",
      "metadata": {
        "id": "Qua-_coqTtjV",
        "colab_type": "text"
      },
      "source": [
        "## Testar se cada elemento de set_Frutas1 pertence à set_Frutas2"
      ]
    },
    {
      "cell_type": "code",
      "metadata": {
        "id": "fg_bHYVoUh0w",
        "colab_type": "code",
        "colab": {}
      },
      "source": [
        "set_Frutas1= {'Apple','Orange', 'Cherry'}\n",
        "set_Frutas2= {'Apple','Orange','Cherry','Nectarine', 'Avocado'}"
      ],
      "execution_count": 0,
      "outputs": []
    },
    {
      "cell_type": "code",
      "metadata": {
        "id": "BH0duIgVU6n0",
        "colab_type": "code",
        "outputId": "adc1507e-b9a4-4421-8bfd-52f5c3c3d190",
        "colab": {
          "base_uri": "https://localhost:8080/",
          "height": 34
        }
      },
      "source": [
        "set_Frutas1.issubset(set_Frutas2)"
      ],
      "execution_count": 0,
      "outputs": [
        {
          "output_type": "execute_result",
          "data": {
            "text/plain": [
              "True"
            ]
          },
          "metadata": {
            "tags": []
          },
          "execution_count": 59
        }
      ]
    },
    {
      "cell_type": "markdown",
      "metadata": {
        "id": "LBdo25CoGkwc",
        "colab_type": "text"
      },
      "source": [
        "A interpretação disso é que set_Frutas1 é subconjunto de set_Frutas2. Lembra-se destes conceitos quando estudou Matemática ou Estatística?"
      ]
    },
    {
      "cell_type": "markdown",
      "metadata": {
        "id": "1PIjNvQuVKbx",
        "colab_type": "text"
      },
      "source": [
        "### Operador \"<=\""
      ]
    },
    {
      "cell_type": "code",
      "metadata": {
        "id": "-qrurs3mVSBj",
        "colab_type": "code",
        "colab": {}
      },
      "source": [
        "set_Frutas1= {'Apple','Orange', 'Cherry'}\n",
        "set_Frutas2= {'Apple','Orange','Cherry','Nectarine', 'Avocado'}"
      ],
      "execution_count": 0,
      "outputs": []
    },
    {
      "cell_type": "code",
      "metadata": {
        "id": "MZGE23nEVUfn",
        "colab_type": "code",
        "outputId": "a1de0e0f-be18-4dab-ded9-66f104eec412",
        "colab": {
          "base_uri": "https://localhost:8080/",
          "height": 34
        }
      },
      "source": [
        "set_Frutas1 <= set_Frutas2"
      ],
      "execution_count": 0,
      "outputs": [
        {
          "output_type": "execute_result",
          "data": {
            "text/plain": [
              "True"
            ]
          },
          "metadata": {
            "tags": []
          },
          "execution_count": 47
        }
      ]
    },
    {
      "cell_type": "markdown",
      "metadata": {
        "id": "IukNRPkVGZhh",
        "colab_type": "text"
      },
      "source": [
        "# Exercícios"
      ]
    },
    {
      "cell_type": "markdown",
      "metadata": {
        "id": "UmO-h59hGgcz",
        "colab_type": "text"
      },
      "source": [
        "## Exercício 1\n",
        "* Qual o output do code abaixo:"
      ]
    },
    {
      "cell_type": "code",
      "metadata": {
        "id": "01qeqOSxRPC1",
        "colab_type": "code",
        "outputId": "791d59bc-6be5-46dd-d88a-43e5f858d225",
        "colab": {
          "base_uri": "https://localhost:8080/",
          "height": 34
        }
      },
      "source": [
        "set_A= {0,1,2,2,3,3,3,4,4,4,4,5,5,5,5,5,6,6,6,6,6,6,7,7,7,7,7,7,7,8,8,8,8,8,8,8,8,9,9,9,9,9,9,9,9,9}\n",
        "print(set_A)"
      ],
      "execution_count": 0,
      "outputs": [
        {
          "output_type": "stream",
          "text": [
            "{0, 1, 2, 3, 4, 5, 6, 7, 8, 9}\n"
          ],
          "name": "stdout"
        }
      ]
    },
    {
      "cell_type": "markdown",
      "metadata": {
        "id": "eSNtDeQfHdil",
        "colab_type": "text"
      },
      "source": [
        "## Exercícios 2\n",
        "* Qual o output do code abaixo:"
      ]
    },
    {
      "cell_type": "code",
      "metadata": {
        "id": "VNg2T-sDRV9a",
        "colab_type": "code",
        "outputId": "c54d5c29-b995-4edc-abb7-c097d401d833",
        "colab": {
          "base_uri": "https://localhost:8080/",
          "height": 34
        }
      },
      "source": [
        "set_A= {0,1,2,3,4}\n",
        "set_A.update([3,4,5,6])\n",
        "set_A"
      ],
      "execution_count": 0,
      "outputs": [
        {
          "output_type": "execute_result",
          "data": {
            "text/plain": [
              "{0, 1, 2, 3, 4, 5, 6}"
            ]
          },
          "metadata": {
            "tags": []
          },
          "execution_count": 49
        }
      ]
    },
    {
      "cell_type": "markdown",
      "metadata": {
        "id": "GPgj2ZrePEAn",
        "colab_type": "text"
      },
      "source": [
        "### Explicação\n",
        "O método update() adiciona/acrescenta itens ao objeto set."
      ]
    },
    {
      "cell_type": "markdown",
      "metadata": {
        "id": "kJK2zXYvQIzu",
        "colab_type": "text"
      },
      "source": [
        "## Exercício 3\n",
        "* Qual o output do code abaixo:"
      ]
    },
    {
      "cell_type": "markdown",
      "metadata": {
        "id": "14kwGxGLQ4c3",
        "colab_type": "text"
      },
      "source": [
        "### Exercício 3.1.\n"
      ]
    },
    {
      "cell_type": "code",
      "metadata": {
        "id": "GsYLjSrkQ0Zj",
        "colab_type": "code",
        "colab": {}
      },
      "source": [
        "set_Numeros= {0,1,2,3,4,5}\n",
        "set_Numeros2= set_Numeros.add(4)"
      ],
      "execution_count": 0,
      "outputs": []
    },
    {
      "cell_type": "markdown",
      "metadata": {
        "id": "DkZke4WARwQC",
        "colab_type": "text"
      },
      "source": [
        "### Exercício 3.2."
      ]
    },
    {
      "cell_type": "code",
      "metadata": {
        "id": "_O_MWJYPRxyM",
        "colab_type": "code",
        "colab": {}
      },
      "source": [
        "set_Engineers= {'A', 'B', 'C', 'D'}\n",
        "set_Programmers= {'C', 'E', 'F', 'D'}\n",
        "set_Managers= {'B', 'C', 'F', 'G'}"
      ],
      "execution_count": 0,
      "outputs": []
    },
    {
      "cell_type": "code",
      "metadata": {
        "id": "kkzsEWmWTOKs",
        "colab_type": "code",
        "outputId": "8a7bb54f-70bf-43ed-b11b-dcbdbdde4b74",
        "colab": {
          "base_uri": "https://localhost:8080/",
          "height": 34
        }
      },
      "source": [
        "set_Employees= set_Engineers | set_Programmers | set_Managers\n",
        "set_Employees"
      ],
      "execution_count": 0,
      "outputs": [
        {
          "output_type": "execute_result",
          "data": {
            "text/plain": [
              "{'A', 'B', 'C', 'D', 'E', 'F', 'G'}"
            ]
          },
          "metadata": {
            "tags": []
          },
          "execution_count": 52
        }
      ]
    },
    {
      "cell_type": "markdown",
      "metadata": {
        "id": "HlUDcqfZhquc",
        "colab_type": "text"
      },
      "source": [
        "### Exercício 3.3."
      ]
    },
    {
      "cell_type": "code",
      "metadata": {
        "id": "IDCvrGBChsIu",
        "colab_type": "code",
        "outputId": "9123c589-1c80-4c1d-bdb9-2b5081d5f79e",
        "colab": {
          "base_uri": "https://localhost:8080/",
          "height": 34
        }
      },
      "source": [
        "set_Engineering_Mgmt= set_Engineers & set_Managers\n",
        "set_Engineering_Mgmt"
      ],
      "execution_count": 0,
      "outputs": [
        {
          "output_type": "execute_result",
          "data": {
            "text/plain": [
              "{'B', 'C'}"
            ]
          },
          "metadata": {
            "tags": []
          },
          "execution_count": 53
        }
      ]
    },
    {
      "cell_type": "markdown",
      "metadata": {
        "id": "DBBjOSFlh_6x",
        "colab_type": "text"
      },
      "source": [
        "### Exercício 3.4."
      ]
    },
    {
      "cell_type": "code",
      "metadata": {
        "id": "N8gBFIb-TKM1",
        "colab_type": "code",
        "outputId": "9403f73a-58ac-4a25-f4a9-6bf7f9eda841",
        "colab": {
          "base_uri": "https://localhost:8080/",
          "height": 34
        }
      },
      "source": [
        "set_FullTime_Mgmt= set_Managers - set_Engineers - set_Programmers\n",
        "set_FullTime_Mgmt"
      ],
      "execution_count": 0,
      "outputs": [
        {
          "output_type": "execute_result",
          "data": {
            "text/plain": [
              "{'G'}"
            ]
          },
          "metadata": {
            "tags": []
          },
          "execution_count": 54
        }
      ]
    },
    {
      "cell_type": "markdown",
      "metadata": {
        "id": "N2EAoffaiGdd",
        "colab_type": "text"
      },
      "source": [
        "### Exercício 3.5."
      ]
    },
    {
      "cell_type": "code",
      "metadata": {
        "id": "91zIe8jNiHBm",
        "colab_type": "code",
        "outputId": "61a58bf5-8bd4-4122-c92d-3abecde17b13",
        "colab": {
          "base_uri": "https://localhost:8080/",
          "height": 34
        }
      },
      "source": [
        "set_Engineers.add('H')\n",
        "set_Engineers"
      ],
      "execution_count": 0,
      "outputs": [
        {
          "output_type": "execute_result",
          "data": {
            "text/plain": [
              "{'A', 'B', 'C', 'D', 'H'}"
            ]
          },
          "metadata": {
            "tags": []
          },
          "execution_count": 55
        }
      ]
    },
    {
      "cell_type": "markdown",
      "metadata": {
        "id": "YTqebb3WiKDP",
        "colab_type": "text"
      },
      "source": [
        "### Exercício 3.6."
      ]
    },
    {
      "cell_type": "code",
      "metadata": {
        "id": "og-yknYuiKe2",
        "colab_type": "code",
        "outputId": "273dbd55-6f2d-4531-cd61-b2dc46ed8650",
        "colab": {
          "base_uri": "https://localhost:8080/",
          "height": 34
        }
      },
      "source": [
        "set_Employees.update(set_Engineers)\n",
        "set_Employees"
      ],
      "execution_count": 0,
      "outputs": [
        {
          "output_type": "execute_result",
          "data": {
            "text/plain": [
              "{'A', 'B', 'C', 'D', 'E', 'F', 'G', 'H'}"
            ]
          },
          "metadata": {
            "tags": []
          },
          "execution_count": 56
        }
      ]
    },
    {
      "cell_type": "markdown",
      "metadata": {
        "id": "9b-YOjfCiNFQ",
        "colab_type": "text"
      },
      "source": [
        "### Exercício 3.7."
      ]
    },
    {
      "cell_type": "code",
      "metadata": {
        "id": "JzgC07WZiNeu",
        "colab_type": "code",
        "outputId": "0b8724f4-a885-4311-8103-9c9115830742",
        "colab": {
          "base_uri": "https://localhost:8080/",
          "height": 85
        }
      },
      "source": [
        "for group in [set_Engineers, set_Programmers, set_Managers, set_Employees]:\n",
        "    group.discard('F')\n",
        "    print(group)"
      ],
      "execution_count": 0,
      "outputs": [
        {
          "output_type": "stream",
          "text": [
            "{'A', 'D', 'H', 'B', 'C'}\n",
            "{'C', 'D', 'E'}\n",
            "{'C', 'G', 'B'}\n",
            "{'A', 'G', 'D', 'H', 'B', 'C', 'E'}\n"
          ],
          "name": "stdout"
        }
      ]
    },
    {
      "cell_type": "markdown",
      "metadata": {
        "id": "aBgeAOt-hb_d",
        "colab_type": "text"
      },
      "source": [
        "## Exercício 4\n",
        "* É possível sortear os itens de um set? Explique sua resposta."
      ]
    },
    {
      "cell_type": "markdown",
      "metadata": {
        "id": "cuZfHXvRwCry",
        "colab_type": "text"
      },
      "source": [
        "## Exercício 5\n",
        "Consulte a página [Python Data Types: Sets - Exercises, Practice, Solution](https://www.w3resource.com/python-exercises/sets/) para mais exercícios relacionados à sets."
      ]
    },
    {
      "cell_type": "code",
      "metadata": {
        "id": "q3ImGyClhgkK",
        "colab_type": "code",
        "colab": {}
      },
      "source": [
        ""
      ],
      "execution_count": 0,
      "outputs": []
    }
  ]
}