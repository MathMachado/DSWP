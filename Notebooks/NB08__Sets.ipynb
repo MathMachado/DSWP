{
  "nbformat": 4,
  "nbformat_minor": 0,
  "metadata": {
    "colab": {
      "name": "NB08__Sets.ipynb",
      "provenance": [],
      "collapsed_sections": [
        "n8BIbzQbNWUo",
        "7eS94uQ4NhVR",
        "SYOgJpGYVLUu",
        "CaHFxk98W5if",
        "ReWUyWiHXCnc",
        "CqszHxaKHr2h",
        "tXgF1Wl9gHKY",
        "Fotx7XUquAo8",
        "36kmLUYDvsUI",
        "SWO2GdNovxAp",
        "vpN54l4vxze5",
        "u4HOf9SNytSq",
        "6BQ9oZiD9hg5",
        "tz5-QdrX9vct",
        "p1muBgMX8NK4",
        "FxTC2-U88ajk",
        "z8EYn0pP25Rh"
      ],
      "include_colab_link": true
    },
    "kernelspec": {
      "name": "python3",
      "display_name": "Python 3"
    },
    "accelerator": "GPU"
  },
  "cells": [
    {
      "cell_type": "markdown",
      "metadata": {
        "id": "view-in-github",
        "colab_type": "text"
      },
      "source": [
        "<a href=\"https://colab.research.google.com/github/MathMachado/DSWP/blob/master/Notebooks/NB08__Sets.ipynb\" target=\"_parent\"><img src=\"https://colab.research.google.com/assets/colab-badge.svg\" alt=\"Open In Colab\"/></a>"
      ]
    },
    {
      "cell_type": "markdown",
      "metadata": {
        "id": "S1PPi1u3tyh5"
      },
      "source": [
        "<center><h1><b><i>SETS</i></b></h1></center>\n",
        "\n"
      ]
    },
    {
      "cell_type": "markdown",
      "metadata": {
        "id": "BA1so4bct3y4"
      },
      "source": [
        "# **AGENDA**:\n",
        "\n",
        "> Veja o **índice** dos itens que serão abordados neste capítulo.\n",
        "\n"
      ]
    },
    {
      "cell_type": "markdown",
      "metadata": {
        "id": "NmzmiDz9JpL5"
      },
      "source": [
        "# **SETS**\n",
        "\n",
        "* Um objeto Set é uma coleção não ordenada que pode ser iterável, alterado e que não possui duplicatas.\n",
        "* **Analogia com conjuntos da Matemática**.\n",
        "* Itens entre \"{}\": {item_1, item_2, ..., item_k}.\n",
        "* Não se pode usar índices para acessar os itens do objeto Set.\n",
        "\n",
        "* Qual a vantagem de se utilizar objetos Sets ao invés de lists?    \n",
        "    * Usar Sets ao invés de lists é um meio altamente recomendado e otimizado para se verificar se o item pertence à lista."
      ]
    },
    {
      "cell_type": "markdown",
      "metadata": {
        "id": "1zmO_0tAJsSg"
      },
      "source": [
        "![PythonDataStructures](https://github.com/MathMachado/Materials/blob/master/PythonDataStructures.png?raw=true)"
      ]
    },
    {
      "cell_type": "markdown",
      "metadata": {
        "id": "aVMai8KcRwF2"
      },
      "source": [
        "Considere o exemplo a seguir:"
      ]
    },
    {
      "cell_type": "code",
      "metadata": {
        "id": "poP9r8crQ3Xf"
      },
      "source": [
        "# Definindo a lista\n",
        "l_frutas = ['Apple', 'Watermelon', 'Orange', 'Pear', 'Cherry', 'Strawberry', 'Nectarine', 'Grape',\n",
        "'Mango', 'Blueberry', 'Pomegranate', 'Carambola', 'Plum', 'Banana', 'Raspberry', 'Mandarin', 'Jackfruit',\n",
        "'Papaya', 'Kiwi', 'Pineapple', 'Lime', 'Lemon', 'Apricot', 'Grapefruit', 'Melon', 'Coconut', 'Avocado', 'Peach']"
      ],
      "execution_count": 2,
      "outputs": []
    },
    {
      "cell_type": "markdown",
      "metadata": {
        "id": "SIJ2Pp-C5ZMP"
      },
      "source": [
        "Mostrando os itens da lista l_frutas:"
      ]
    },
    {
      "cell_type": "code",
      "metadata": {
        "id": "u9laOclSTZnV",
        "outputId": "22d78df7-d27d-4894-b5d1-7c6864306fb8",
        "colab": {
          "base_uri": "https://localhost:8080/",
          "height": 493
        }
      },
      "source": [
        "l_frutas"
      ],
      "execution_count": null,
      "outputs": [
        {
          "output_type": "execute_result",
          "data": {
            "text/plain": [
              "['Apple',\n",
              " 'Watermelon',\n",
              " 'Orange',\n",
              " 'Pear',\n",
              " 'Cherry',\n",
              " 'Strawberry',\n",
              " 'Nectarine',\n",
              " 'Grape',\n",
              " 'Mango',\n",
              " 'Blueberry',\n",
              " 'Pomegranate',\n",
              " 'Carambola',\n",
              " 'Plum',\n",
              " 'Banana',\n",
              " 'Raspberry',\n",
              " 'Mandarin',\n",
              " 'Jackfruit',\n",
              " 'Papaya',\n",
              " 'Kiwi',\n",
              " 'Pineapple',\n",
              " 'Lime',\n",
              " 'Lemon',\n",
              " 'Apricot',\n",
              " 'Grapefruit',\n",
              " 'Melon',\n",
              " 'Coconut',\n",
              " 'Avocado',\n",
              " 'Peach']"
            ]
          },
          "metadata": {
            "tags": []
          },
          "execution_count": 14
        }
      ]
    },
    {
      "cell_type": "code",
      "metadata": {
        "id": "gqttQBWrGfys",
        "outputId": "0bdce858-a6ce-43db-f35a-9cff61972c17",
        "colab": {
          "base_uri": "https://localhost:8080/",
          "height": 34
        }
      },
      "source": [
        "type(l_frutas)"
      ],
      "execution_count": null,
      "outputs": [
        {
          "output_type": "execute_result",
          "data": {
            "text/plain": [
              "list"
            ]
          },
          "metadata": {
            "tags": []
          },
          "execution_count": 15
        }
      ]
    },
    {
      "cell_type": "markdown",
      "metadata": {
        "id": "yOtcxsv8TrH8"
      },
      "source": [
        "Como podemos ver, l_frutas é um objeto do tipo list."
      ]
    },
    {
      "cell_type": "markdown",
      "metadata": {
        "id": "bv_DKDqLFEud"
      },
      "source": [
        "___\n",
        "# **TRANSFORMAR OBJETO LIST EM OBJETO SETS**\n",
        "* Função set()."
      ]
    },
    {
      "cell_type": "code",
      "metadata": {
        "id": "XVQ2sG0Pap4b",
        "outputId": "2ef37803-7ac1-4311-de36-40b2733ee50f",
        "colab": {
          "base_uri": "https://localhost:8080/",
          "height": 487
        }
      },
      "source": [
        "set_frutas = set(l_frutas)\n",
        "set_frutas"
      ],
      "execution_count": 3,
      "outputs": [
        {
          "output_type": "execute_result",
          "data": {
            "text/plain": [
              "{'Apple',\n",
              " 'Apricot',\n",
              " 'Avocado',\n",
              " 'Banana',\n",
              " 'Blueberry',\n",
              " 'Carambola',\n",
              " 'Cherry',\n",
              " 'Coconut',\n",
              " 'Grape',\n",
              " 'Grapefruit',\n",
              " 'Jackfruit',\n",
              " 'Kiwi',\n",
              " 'Lemon',\n",
              " 'Lime',\n",
              " 'Mandarin',\n",
              " 'Mango',\n",
              " 'Melon',\n",
              " 'Nectarine',\n",
              " 'Orange',\n",
              " 'Papaya',\n",
              " 'Peach',\n",
              " 'Pear',\n",
              " 'Pineapple',\n",
              " 'Plum',\n",
              " 'Pomegranate',\n",
              " 'Raspberry',\n",
              " 'Strawberry',\n",
              " 'Watermelon'}"
            ]
          },
          "metadata": {
            "tags": []
          },
          "execution_count": 3
        }
      ]
    },
    {
      "cell_type": "markdown",
      "metadata": {
        "id": "2cI9beMn5-UK"
      },
      "source": [
        "Observe que o objeto set acima não possui itens duplicados."
      ]
    },
    {
      "cell_type": "code",
      "metadata": {
        "id": "aH5hc2-DFbA_",
        "outputId": "49eec28e-8361-447c-a751-b9430ee1cb16",
        "colab": {
          "base_uri": "https://localhost:8080/",
          "height": 34
        }
      },
      "source": [
        "# Verificando o tipo do objeto set_frutas...\n",
        "type(set_frutas)"
      ],
      "execution_count": null,
      "outputs": [
        {
          "output_type": "execute_result",
          "data": {
            "text/plain": [
              "set"
            ]
          },
          "metadata": {
            "tags": []
          },
          "execution_count": 17
        }
      ]
    },
    {
      "cell_type": "markdown",
      "metadata": {
        "id": "OVlha00pH3gZ"
      },
      "source": [
        "Ok, set_frutas é um objeto do tipo set."
      ]
    },
    {
      "cell_type": "markdown",
      "metadata": {
        "id": "4mXfPWYc6Ek5"
      },
      "source": [
        "Você notou que os itens do set set_frutas estão entre \"{}\"?"
      ]
    },
    {
      "cell_type": "markdown",
      "metadata": {
        "id": "zNea67m1IMCK"
      },
      "source": [
        "Verificando se o item 'Mandarin' pertence ao set set_frutas..."
      ]
    },
    {
      "cell_type": "code",
      "metadata": {
        "id": "xPvKOOugbDMN",
        "outputId": "04fe80a4-3cda-4308-f587-7d1663c2e467",
        "colab": {
          "base_uri": "https://localhost:8080/",
          "height": 34
        }
      },
      "source": [
        "'Mandarin' in set_frutas"
      ],
      "execution_count": null,
      "outputs": [
        {
          "output_type": "execute_result",
          "data": {
            "text/plain": [
              "True"
            ]
          },
          "metadata": {
            "tags": []
          },
          "execution_count": 18
        }
      ]
    },
    {
      "cell_type": "markdown",
      "metadata": {
        "id": "y7UuizNcbVMU"
      },
      "source": [
        "___\n",
        "# **PRINCIPAIS MÉTODOS**\n",
        "> Alinhado com a teoria dos conjuntos da Matemática.\n",
        "\n"
      ]
    },
    {
      "cell_type": "markdown",
      "metadata": {
        "id": "9fE_ZTIXcQyh"
      },
      "source": [
        "## União de conjuntos (sets)\n",
        "* Retorna a união/junção de dois objetos sets;\n",
        "* O operador ‘|’ produz o mesmo resultado que set1.union(set2);\n",
        "\n",
        "![Union](https://github.com/MathMachado/Materials/blob/master/set_Union.PNG?raw=true)\n",
        "\n",
        "Fonte: [Python Set](https://www.learnbyexample.org/python-set/)"
      ]
    },
    {
      "cell_type": "markdown",
      "metadata": {
        "id": "RBqab5gR7v2c"
      },
      "source": [
        "### set.union()\n",
        "> Retorna os valores únicos dos dois conjuntos. Na teoria dos conjuntos, escrevemos:\n",
        "\n",
        "$$A \\cup B$$"
      ]
    },
    {
      "cell_type": "code",
      "metadata": {
        "id": "qAbAJg94b_Qh"
      },
      "source": [
        "# definindo a lista de itens. Lembre-se de usar \"{}\" ao invés de \"[]\"\n",
        "set_frutas1 = {'Apple', 'Watermelon', 'Orange', 'Apple', 'Orange', 'Cherry'}\n",
        "set_frutas2 = {'Pear', 'Cherry', 'Strawberry', 'Nectarine'}"
      ],
      "execution_count": null,
      "outputs": []
    },
    {
      "cell_type": "markdown",
      "metadata": {
        "id": "Ipfhr4XM9J7i"
      },
      "source": [
        "**Atenção**: Observe que o objeto lista set_frutas1 possui 'Apple' e 'Orange' duplicados. Observe, também, que o item 'Cherry' é o item comum entre estas duas listas."
      ]
    },
    {
      "cell_type": "code",
      "metadata": {
        "id": "SOqXa6ikdBpw",
        "outputId": "695f7e8d-b507-4c9e-e8ec-a31cd8ce2647",
        "colab": {
          "base_uri": "https://localhost:8080/",
          "height": 34
        }
      },
      "source": [
        "# Juntando as duas listas:\n",
        "set_frutas = set_frutas1.union(set_frutas2)\n",
        "set_frutas"
      ],
      "execution_count": null,
      "outputs": [
        {
          "output_type": "execute_result",
          "data": {
            "text/plain": [
              "{'Apple', 'Cherry', 'Nectarine', 'Orange', 'Pear', 'Strawberry', 'Watermelon'}"
            ]
          },
          "metadata": {
            "tags": []
          },
          "execution_count": 20
        }
      ]
    },
    {
      "cell_type": "markdown",
      "metadata": {
        "id": "hPGXjs_Z7LHp"
      },
      "source": [
        "Note que cada elemento da lista aparece uma única vez."
      ]
    },
    {
      "cell_type": "markdown",
      "metadata": {
        "id": "FC1pk8gyCwRI"
      },
      "source": [
        "Observe também que o objeto set_frutas1 é do tipo set."
      ]
    },
    {
      "cell_type": "code",
      "metadata": {
        "id": "hVJjyDFoCrPD",
        "outputId": "1d6e96af-45e9-405b-886c-049f7e2dd3d6",
        "colab": {
          "base_uri": "https://localhost:8080/",
          "height": 34
        }
      },
      "source": [
        "type(set_frutas)"
      ],
      "execution_count": null,
      "outputs": [
        {
          "output_type": "execute_result",
          "data": {
            "text/plain": [
              "set"
            ]
          },
          "metadata": {
            "tags": []
          },
          "execution_count": 21
        }
      ]
    },
    {
      "cell_type": "markdown",
      "metadata": {
        "id": "GKSxZcdE7smv"
      },
      "source": [
        "### Operador \"|\"\n",
        "* vamos repetir o exemplo anterior, mas desta vez vamos demonstrar o uso do operador \"|\"."
      ]
    },
    {
      "cell_type": "code",
      "metadata": {
        "id": "joNgYYtD78Dz"
      },
      "source": [
        "# definindo a lista de itens. Lembre-se de usar \"{}\" ao invés de \"[]\"\n",
        "set_frutas1 = {'Apple', 'Watermelon', 'Orange', 'Apple', 'Orange', 'Cherry'}\n",
        "set_frutas2 = {'Pear', 'Cherry', 'Strawberry', 'Nectarine'}"
      ],
      "execution_count": null,
      "outputs": []
    },
    {
      "cell_type": "code",
      "metadata": {
        "id": "uExwK4z-8ADr",
        "outputId": "a02613a2-3aed-49b0-b9d5-16b92d18a1f3",
        "colab": {
          "base_uri": "https://localhost:8080/",
          "height": 34
        }
      },
      "source": [
        "# Juntando as duas listas:\n",
        "set_frutas = set_frutas1 | set_frutas1\n",
        "set_frutas"
      ],
      "execution_count": null,
      "outputs": [
        {
          "output_type": "execute_result",
          "data": {
            "text/plain": [
              "{'Apple', 'Cherry', 'Orange', 'Watermelon'}"
            ]
          },
          "metadata": {
            "tags": []
          },
          "execution_count": 23
        }
      ]
    },
    {
      "cell_type": "markdown",
      "metadata": {
        "id": "FJ11hu6-8EzS"
      },
      "source": [
        "Mesmo resultado, certo? Particularmente, eu prefiro usar o operador \"|\"."
      ]
    },
    {
      "cell_type": "markdown",
      "metadata": {
        "id": "xLO-u0kS8UV5"
      },
      "source": [
        "## Intersecção de dois conjuntos\n",
        "* Retorna a intersecção de dois objetos set;\n",
        "* O operador ‘&’ produz o mesmo resultado que set1.intersection(set2).\n",
        "* Teoria dos conjuntos: $X \\cap Y$.\n",
        "\n",
        "![Interseccion](https://github.com/MathMachado/Materials/blob/master/set_Intersection.PNG?raw=true)\n",
        "\n",
        "Fonte: [Python Set](https://www.learnbyexample.org/python-set/)"
      ]
    },
    {
      "cell_type": "code",
      "metadata": {
        "id": "F9ae2SAW8Tar"
      },
      "source": [
        "# definindo a lista de itens. Lembre-se de usar \"{}\" ao invés de \"[]\"\n",
        "set_frutas1= {'Apple', 'Watermelon', 'Orange', 'Apple', 'Orange', 'Cherry'}\n",
        "set_frutas2= {'Pear', 'Cherry', 'Strawberry', 'Nectarine'}"
      ],
      "execution_count": null,
      "outputs": []
    },
    {
      "cell_type": "code",
      "metadata": {
        "id": "TDqwIfqn94kx",
        "outputId": "a6e1ac3e-48d1-45a4-8b5b-dead88c32eca",
        "colab": {
          "base_uri": "https://localhost:8080/",
          "height": 34
        }
      },
      "source": [
        "set_frutas = set_frutas1.intersection(set_frutas2)\n",
        "set_frutas"
      ],
      "execution_count": null,
      "outputs": [
        {
          "output_type": "execute_result",
          "data": {
            "text/plain": [
              "{'Cherry'}"
            ]
          },
          "metadata": {
            "tags": []
          },
          "execution_count": 25
        }
      ]
    },
    {
      "cell_type": "markdown",
      "metadata": {
        "id": "WTJiBRqZ-DnV"
      },
      "source": [
        "### Operador \"&\""
      ]
    },
    {
      "cell_type": "code",
      "metadata": {
        "id": "Zt3DwQDs-IVi"
      },
      "source": [
        "# definindo a lista de itens. Lembre-se de usar \"{}\" ao invés de \"[]\"\n",
        "set_frutas1 = {'Apple', 'Watermelon', 'Orange', 'Apple', 'Orange', 'Cherry'}\n",
        "set_frutas2 = {'Pear', 'Cherry', 'Strawberry', 'Nectarine'}"
      ],
      "execution_count": null,
      "outputs": []
    },
    {
      "cell_type": "code",
      "metadata": {
        "id": "FEMRpfH6-P8R",
        "outputId": "d5ed53a3-ff93-4207-d07d-f57d7c2a5ba3",
        "colab": {
          "base_uri": "https://localhost:8080/",
          "height": 34
        }
      },
      "source": [
        "set_frutas = set_frutas1 & set_frutas2\n",
        "set_frutas"
      ],
      "execution_count": null,
      "outputs": [
        {
          "output_type": "execute_result",
          "data": {
            "text/plain": [
              "{'Cherry'}"
            ]
          },
          "metadata": {
            "tags": []
          },
          "execution_count": 27
        }
      ]
    },
    {
      "cell_type": "markdown",
      "metadata": {
        "id": "N445biyX-krt"
      },
      "source": [
        "## Diferença entre conjuntos\n",
        "* Retorna um objeto/conjunto set contendo todos os elementos do conjunto set1 que não pertençam ao conjunto set2;\n",
        "* O operador \"-\" produz o mesmo resultado que set.difference(set2).\n",
        "* Na teoria de conjuntos escrevemos: $A - B = A - A \\cap B$\n",
        "\n",
        "![Difference](https://github.com/MathMachado/Materials/blob/master/set_Difference.PNG?raw=true)\n",
        "\n",
        "Fonte: [Python Set](https://www.learnbyexample.org/python-set/)"
      ]
    },
    {
      "cell_type": "code",
      "metadata": {
        "id": "1E3xd6oh-jt9"
      },
      "source": [
        "# definindo a lista de itens. Lembre-se de usar \"{}\" ao invés de \"[]\"\n",
        "set_frutas1= {'Apple', 'Watermelon', 'Orange', 'Apple', 'Orange', 'Cherry'}\n",
        "set_frutas2= {'Pear', 'Cherry', 'Strawberry', 'Nectarine'}"
      ],
      "execution_count": null,
      "outputs": []
    },
    {
      "cell_type": "code",
      "metadata": {
        "id": "1ibPFZwA_iKF",
        "outputId": "3987ce2c-6288-47fb-972e-0775d4ae304d",
        "colab": {
          "base_uri": "https://localhost:8080/",
          "height": 34
        }
      },
      "source": [
        "set_frutas = set_frutas1.difference(set_frutas2)\n",
        "set_frutas"
      ],
      "execution_count": null,
      "outputs": [
        {
          "output_type": "execute_result",
          "data": {
            "text/plain": [
              "{'Apple', 'Orange', 'Watermelon'}"
            ]
          },
          "metadata": {
            "tags": []
          },
          "execution_count": 29
        }
      ]
    },
    {
      "cell_type": "markdown",
      "metadata": {
        "id": "h9V-k8Fj_uAT"
      },
      "source": [
        "Confira se o resultado são os elementos que pertençam ao objeto set 1 que NÃO PERTENÇAM ao set2."
      ]
    },
    {
      "cell_type": "markdown",
      "metadata": {
        "id": "_4DhSxXt_W1W"
      },
      "source": [
        "### Operador \"-\""
      ]
    },
    {
      "cell_type": "code",
      "metadata": {
        "id": "9E7YiPue_qDl"
      },
      "source": [
        "# definindo a lista de itens. Lembre-se de usar \"{}\" ao invés de \"[]\"\n",
        "set_frutas1 = {'Apple', 'Watermelon', 'Orange', 'Apple', 'Orange', 'Cherry'}\n",
        "set_frutas2 = {'Pear', 'Cherry', 'Strawberry', 'Nectarine'}"
      ],
      "execution_count": null,
      "outputs": []
    },
    {
      "cell_type": "code",
      "metadata": {
        "id": "zxJrZlJK_ryG",
        "outputId": "8b2309a0-739a-4276-d5cd-f52c72415673",
        "colab": {
          "base_uri": "https://localhost:8080/",
          "height": 34
        }
      },
      "source": [
        "set_frutas = set_frutas1 - set_frutas2\n",
        "set_frutas"
      ],
      "execution_count": null,
      "outputs": [
        {
          "output_type": "execute_result",
          "data": {
            "text/plain": [
              "{'Apple', 'Orange', 'Watermelon'}"
            ]
          },
          "metadata": {
            "tags": []
          },
          "execution_count": 31
        }
      ]
    },
    {
      "cell_type": "markdown",
      "metadata": {
        "id": "jx1KeO8kd6DG"
      },
      "source": [
        "## **Diferença Simétrica**\n",
        "* Retorna um objeto/conjunto set contendo itens de set1 e set2 menos a intersecção de set1 e set2.\n",
        "* Na teoria de conjuntos escrevemos: $A \\cup B - A \\cap B$.\n",
        "\n",
        "![DifferenceSymmetric](https://github.com/MathMachado/Materials/blob/master/set_DifferenceSymetric.PNG?raw=true)\n",
        "\n",
        "Fonte: [Python Set](https://www.learnbyexample.org/python-set/)"
      ]
    },
    {
      "cell_type": "code",
      "metadata": {
        "id": "1HOonLLXeEXJ"
      },
      "source": [
        "import numpy as np\n",
        "# definindo a lista de itens. Lembre-se de usar \"{}\" ao invés de \"[]\"\n",
        "set_frutas1 = {'Apple', 'Watermelon', 'Orange', 'Apple', 'Orange', 'Cherry'}\n",
        "set_frutas2 = {'Pear', 'Cherry', 'Strawberry', 'Nectarine'}"
      ],
      "execution_count": null,
      "outputs": []
    },
    {
      "cell_type": "code",
      "metadata": {
        "id": "j-lsvUcWeHRR",
        "outputId": "f4d45d39-2237-4649-e8f6-ae480caff58f",
        "colab": {
          "base_uri": "https://localhost:8080/",
          "height": 34
        }
      },
      "source": [
        "set_frutas1 ^= set_frutas2\n",
        "set_frutas1"
      ],
      "execution_count": null,
      "outputs": [
        {
          "output_type": "execute_result",
          "data": {
            "text/plain": [
              "{'Apple', 'Nectarine', 'Orange', 'Pear', 'Strawberry', 'Watermelon'}"
            ]
          },
          "metadata": {
            "tags": []
          },
          "execution_count": 5
        }
      ]
    },
    {
      "cell_type": "markdown",
      "metadata": {
        "id": "H2CCI3WtebAi"
      },
      "source": [
        "Vimos que o item 'Cherry' é o elemento comum entre as duas listas. Portanto, 'Cherry' é a intersecção das duas listas. Certo?\n",
        "\n",
        "Então, o resultado acima não pode conter o item 'Cherry'. Certo?"
      ]
    },
    {
      "cell_type": "markdown",
      "metadata": {
        "id": "B7fT-QGiFREs"
      },
      "source": [
        "___\n",
        "# **OUTROS MÉTODOS IMPORTANTES**"
      ]
    },
    {
      "cell_type": "markdown",
      "metadata": {
        "id": "hWNUIGpIE6z9"
      },
      "source": [
        "## Método clear()\n",
        "* deleta os itens do objeto set."
      ]
    },
    {
      "cell_type": "code",
      "metadata": {
        "id": "48OzIs0fE-yD"
      },
      "source": [
        "# definindo a lista de itens. Lembre-se de usar \"{}\" ao invés de \"[]\"\n",
        "set_frutas1 = {'Apple','Watermelon','Orange', 'Apple', 'Orange', 'Cherry'}\n",
        "set_frutas2 = {'Pear', 'Cherry', 'Strawberry', 'Nectarine'}"
      ],
      "execution_count": null,
      "outputs": []
    },
    {
      "cell_type": "code",
      "metadata": {
        "id": "SanSB3dlALSC",
        "outputId": "77cb640a-7731-4af5-fb33-b663d5f4292e",
        "colab": {
          "base_uri": "https://localhost:8080/",
          "height": 34
        }
      },
      "source": [
        "set_frutas1.clear()\n",
        "set_frutas1"
      ],
      "execution_count": null,
      "outputs": [
        {
          "output_type": "execute_result",
          "data": {
            "text/plain": [
              "set()"
            ]
          },
          "metadata": {
            "tags": []
          },
          "execution_count": 35
        }
      ]
    },
    {
      "cell_type": "markdown",
      "metadata": {
        "id": "yP_uvIwJT9QV"
      },
      "source": [
        "## Número de itens num objeto set"
      ]
    },
    {
      "cell_type": "code",
      "metadata": {
        "id": "_RWrhL6PUEpi"
      },
      "source": [
        "# definindo a lista de itens. Lembre-se de usar \"{}\" ao invés de \"[]\"\n",
        "set_frutas = {'Apple','Watermelon','Orange', 'Apple', 'Orange', 'Cherry'}"
      ],
      "execution_count": null,
      "outputs": []
    },
    {
      "cell_type": "code",
      "metadata": {
        "id": "J4MjZHJSUHfF",
        "outputId": "426f1ca5-355e-4e93-8cbf-cb89be8feb80",
        "colab": {
          "base_uri": "https://localhost:8080/",
          "height": 34
        }
      },
      "source": [
        "len(set_frutas)"
      ],
      "execution_count": null,
      "outputs": [
        {
          "output_type": "execute_result",
          "data": {
            "text/plain": [
              "4"
            ]
          },
          "metadata": {
            "tags": []
          },
          "execution_count": 37
        }
      ]
    },
    {
      "cell_type": "markdown",
      "metadata": {
        "id": "GoI7V7tCF5it"
      },
      "source": [
        "Por acaso alguém estava à espera de outro númerco, como um 6, por exemplo?"
      ]
    },
    {
      "cell_type": "markdown",
      "metadata": {
        "id": "oggPxr5HFXur"
      },
      "source": [
        "## Membership"
      ]
    },
    {
      "cell_type": "code",
      "metadata": {
        "id": "lVRfn8xwFchc"
      },
      "source": [
        "# definindo a lista de itens. Lembre-se de usar \"{}\" ao invés de \"[]\"\n",
        "set_frutas = {'Apple','Watermelon','Orange', 'Apple', 'Orange', 'Cherry'}"
      ],
      "execution_count": null,
      "outputs": []
    },
    {
      "cell_type": "code",
      "metadata": {
        "id": "4elw5NJhFWQW",
        "outputId": "f4cfe9eb-06ff-4445-8a62-0e18dd3c8a39",
        "colab": {
          "base_uri": "https://localhost:8080/",
          "height": 34
        }
      },
      "source": [
        "'Apple' in set_frutas"
      ],
      "execution_count": null,
      "outputs": [
        {
          "output_type": "execute_result",
          "data": {
            "text/plain": [
              "True"
            ]
          },
          "metadata": {
            "tags": []
          },
          "execution_count": 39
        }
      ]
    },
    {
      "cell_type": "markdown",
      "metadata": {
        "id": "7XZKfZ15FrEt"
      },
      "source": [
        "## Non-Membership"
      ]
    },
    {
      "cell_type": "code",
      "metadata": {
        "id": "2hbOQfTgFvw7"
      },
      "source": [
        "# definindo a lista de itens. Lembre-se de usar \"{}\" ao invés de \"[]\"\n",
        "set_frutas = {'Apple','Watermelon','Orange', 'Apple', 'Orange', 'Cherry'}"
      ],
      "execution_count": null,
      "outputs": []
    },
    {
      "cell_type": "code",
      "metadata": {
        "id": "cNAXJt1cFy3z",
        "outputId": "fb14f4ff-b85c-4750-8d9d-386e61a29847",
        "colab": {
          "base_uri": "https://localhost:8080/",
          "height": 34
        }
      },
      "source": [
        "'Apple' not in set_frutas"
      ],
      "execution_count": null,
      "outputs": [
        {
          "output_type": "execute_result",
          "data": {
            "text/plain": [
              "False"
            ]
          },
          "metadata": {
            "tags": []
          },
          "execution_count": 41
        }
      ]
    },
    {
      "cell_type": "markdown",
      "metadata": {
        "id": "nZY6vT45Pl63"
      },
      "source": [
        "## Copiar um objeto set"
      ]
    },
    {
      "cell_type": "code",
      "metadata": {
        "id": "qtwgwjlgPqYP"
      },
      "source": [
        "# definindo a lista de itens. Lembre-se de usar \"{}\" ao invés de \"[]\"\n",
        "set_frutas = {'Apple','Watermelon','Orange', 'Apple', 'Orange', 'Cherry'}"
      ],
      "execution_count": null,
      "outputs": []
    },
    {
      "cell_type": "code",
      "metadata": {
        "id": "CW3dXoO0PsYl",
        "outputId": "fe1076d8-70a8-4b7d-9766-8cf0278afb0d",
        "colab": {
          "base_uri": "https://localhost:8080/",
          "height": 34
        }
      },
      "source": [
        "set_frutas2 = set_frutas.copy()\n",
        "set_frutas2"
      ],
      "execution_count": null,
      "outputs": [
        {
          "output_type": "execute_result",
          "data": {
            "text/plain": [
              "{'Apple', 'Cherry', 'Orange', 'Watermelon'}"
            ]
          },
          "metadata": {
            "tags": []
          },
          "execution_count": 43
        }
      ]
    },
    {
      "cell_type": "markdown",
      "metadata": {
        "id": "Qua-_coqTtjV"
      },
      "source": [
        "## Testar se cada elemento de set_frutas1 pertence à set_frutas2"
      ]
    },
    {
      "cell_type": "code",
      "metadata": {
        "id": "fg_bHYVoUh0w"
      },
      "source": [
        "set_frutas1 = {'Apple', 'Orange', 'Cherry'}\n",
        "set_frutas2 = {'Apple', 'Orange','Cherry', 'Nectarine', 'Avocado'}"
      ],
      "execution_count": null,
      "outputs": []
    },
    {
      "cell_type": "code",
      "metadata": {
        "id": "BH0duIgVU6n0",
        "outputId": "adc1507e-b9a4-4421-8bfd-52f5c3c3d190",
        "colab": {
          "base_uri": "https://localhost:8080/",
          "height": 34
        }
      },
      "source": [
        "set_frutas1.issubset(set_frutas2)"
      ],
      "execution_count": null,
      "outputs": [
        {
          "output_type": "execute_result",
          "data": {
            "text/plain": [
              "True"
            ]
          },
          "metadata": {
            "tags": []
          },
          "execution_count": 59
        }
      ]
    },
    {
      "cell_type": "markdown",
      "metadata": {
        "id": "LBdo25CoGkwc"
      },
      "source": [
        "A interpretação disso é que set_frutas1 é subconjunto de set_frutas2. Lembra-se destes conceitos quando estudou Matemática ou Estatística?"
      ]
    },
    {
      "cell_type": "markdown",
      "metadata": {
        "id": "1PIjNvQuVKbx"
      },
      "source": [
        "### Operador \"<=\""
      ]
    },
    {
      "cell_type": "code",
      "metadata": {
        "id": "-qrurs3mVSBj"
      },
      "source": [
        "set_frutas1 = {'Apple', 'Orange', 'Cherry'}\n",
        "set_frutas2 = {'Apple', 'Orange', 'Cherry', 'Nectarine', 'Avocado'}"
      ],
      "execution_count": null,
      "outputs": []
    },
    {
      "cell_type": "code",
      "metadata": {
        "id": "MZGE23nEVUfn",
        "outputId": "a1de0e0f-be18-4dab-ded9-66f104eec412",
        "colab": {
          "base_uri": "https://localhost:8080/",
          "height": 34
        }
      },
      "source": [
        "set_frutas1 <= set_frutas2"
      ],
      "execution_count": null,
      "outputs": [
        {
          "output_type": "execute_result",
          "data": {
            "text/plain": [
              "True"
            ]
          },
          "metadata": {
            "tags": []
          },
          "execution_count": 47
        }
      ]
    },
    {
      "cell_type": "markdown",
      "metadata": {
        "id": "IukNRPkVGZhh"
      },
      "source": [
        "___\n",
        "# **EXERCÍCIOS**"
      ]
    },
    {
      "cell_type": "markdown",
      "metadata": {
        "id": "UmO-h59hGgcz"
      },
      "source": [
        "## Exercício 1\n",
        "* Qual o output do code abaixo:"
      ]
    },
    {
      "cell_type": "code",
      "metadata": {
        "id": "01qeqOSxRPC1",
        "outputId": "85b3028b-0f3f-43a4-96c0-4c5dcd87d2eb",
        "colab": {
          "base_uri": "https://localhost:8080/",
          "height": 34
        }
      },
      "source": [
        "set_numeros = {0, 1, 2, 2, 3, 3, 3, 4, 4, 4, 4, 5, 5, 5, 5, 5, 6, 6, 6, 6, 6, 6, 7, 7, 7, 7, 7, 7, 7, 8, 8, 8, 8, 8, 8, 8, 8, 9, 9, 9, 9, 9, 9, 9, 9, 9}\n",
        "print(set_numeros)"
      ],
      "execution_count": 1,
      "outputs": [
        {
          "output_type": "stream",
          "text": [
            "{0, 1, 2, 3, 4, 5, 6, 7, 8, 9}\n"
          ],
          "name": "stdout"
        }
      ]
    },
    {
      "cell_type": "markdown",
      "metadata": {
        "id": "eSNtDeQfHdil"
      },
      "source": [
        "## Exercícios 2\n",
        "* Qual o output do code abaixo:"
      ]
    },
    {
      "cell_type": "code",
      "metadata": {
        "id": "VNg2T-sDRV9a",
        "outputId": "c54d5c29-b995-4edc-abb7-c097d401d833",
        "colab": {
          "base_uri": "https://localhost:8080/",
          "height": 34
        }
      },
      "source": [
        "set_numeros = {0 ,1, 2,3 , 4}\n",
        "set_numeros.update([3, 4, 5, 6])\n",
        "set_numeros"
      ],
      "execution_count": null,
      "outputs": [
        {
          "output_type": "execute_result",
          "data": {
            "text/plain": [
              "{0, 1, 2, 3, 4, 5, 6}"
            ]
          },
          "metadata": {
            "tags": []
          },
          "execution_count": 49
        }
      ]
    },
    {
      "cell_type": "markdown",
      "metadata": {
        "id": "GPgj2ZrePEAn"
      },
      "source": [
        "### Explicação\n",
        "O método update() adiciona/acrescenta itens ao objeto set."
      ]
    },
    {
      "cell_type": "markdown",
      "metadata": {
        "id": "kJK2zXYvQIzu"
      },
      "source": [
        "## Exercício 3\n",
        "* Qual o output do code abaixo:"
      ]
    },
    {
      "cell_type": "markdown",
      "metadata": {
        "id": "14kwGxGLQ4c3"
      },
      "source": [
        "### Exercício 3.1.\n"
      ]
    },
    {
      "cell_type": "code",
      "metadata": {
        "id": "GsYLjSrkQ0Zj"
      },
      "source": [
        "set_numeros = {0, 1 ,2, 3, 4, 5}\n",
        "set_numeros2 = set_numeros.add(4)"
      ],
      "execution_count": null,
      "outputs": []
    },
    {
      "cell_type": "markdown",
      "metadata": {
        "id": "DkZke4WARwQC"
      },
      "source": [
        "### Exercício 3.2."
      ]
    },
    {
      "cell_type": "code",
      "metadata": {
        "id": "_O_MWJYPRxyM"
      },
      "source": [
        "set_engenheiros = {'A', 'B', 'C', 'D'}\n",
        "set_programadores = {'C', 'E', 'F', 'D'}\n",
        "set_gerentes = {'B', 'C', 'F', 'G'}"
      ],
      "execution_count": null,
      "outputs": []
    },
    {
      "cell_type": "code",
      "metadata": {
        "id": "kkzsEWmWTOKs",
        "outputId": "8a7bb54f-70bf-43ed-b11b-dcbdbdde4b74",
        "colab": {
          "base_uri": "https://localhost:8080/",
          "height": 34
        }
      },
      "source": [
        "set_empregados = set_engenheiros | set_programadores | set_gerentes\n",
        "set_empregados"
      ],
      "execution_count": null,
      "outputs": [
        {
          "output_type": "execute_result",
          "data": {
            "text/plain": [
              "{'A', 'B', 'C', 'D', 'E', 'F', 'G'}"
            ]
          },
          "metadata": {
            "tags": []
          },
          "execution_count": 52
        }
      ]
    },
    {
      "cell_type": "markdown",
      "metadata": {
        "id": "HlUDcqfZhquc"
      },
      "source": [
        "### Exercício 3.3."
      ]
    },
    {
      "cell_type": "code",
      "metadata": {
        "id": "IDCvrGBChsIu",
        "outputId": "9123c589-1c80-4c1d-bdb9-2b5081d5f79e",
        "colab": {
          "base_uri": "https://localhost:8080/",
          "height": 34
        }
      },
      "source": [
        "set_engenheiros_gerentes = set_engenheiros & set_gerentes\n",
        "set_engenheiros_gerentes"
      ],
      "execution_count": null,
      "outputs": [
        {
          "output_type": "execute_result",
          "data": {
            "text/plain": [
              "{'B', 'C'}"
            ]
          },
          "metadata": {
            "tags": []
          },
          "execution_count": 53
        }
      ]
    },
    {
      "cell_type": "markdown",
      "metadata": {
        "id": "DBBjOSFlh_6x"
      },
      "source": [
        "### Exercício 3.4."
      ]
    },
    {
      "cell_type": "code",
      "metadata": {
        "id": "N8gBFIb-TKM1",
        "outputId": "9403f73a-58ac-4a25-f4a9-6bf7f9eda841",
        "colab": {
          "base_uri": "https://localhost:8080/",
          "height": 34
        }
      },
      "source": [
        "set_so_gerentes = set_gerentes - set_engenheiros - set_programadores\n",
        "set_so_gerentes"
      ],
      "execution_count": null,
      "outputs": [
        {
          "output_type": "execute_result",
          "data": {
            "text/plain": [
              "{'G'}"
            ]
          },
          "metadata": {
            "tags": []
          },
          "execution_count": 54
        }
      ]
    },
    {
      "cell_type": "markdown",
      "metadata": {
        "id": "N2EAoffaiGdd"
      },
      "source": [
        "### Exercício 3.5."
      ]
    },
    {
      "cell_type": "code",
      "metadata": {
        "id": "91zIe8jNiHBm",
        "outputId": "61a58bf5-8bd4-4122-c92d-3abecde17b13",
        "colab": {
          "base_uri": "https://localhost:8080/",
          "height": 34
        }
      },
      "source": [
        "set_engenheiros.add('H')\n",
        "set_engenheiros"
      ],
      "execution_count": null,
      "outputs": [
        {
          "output_type": "execute_result",
          "data": {
            "text/plain": [
              "{'A', 'B', 'C', 'D', 'H'}"
            ]
          },
          "metadata": {
            "tags": []
          },
          "execution_count": 55
        }
      ]
    },
    {
      "cell_type": "markdown",
      "metadata": {
        "id": "YTqebb3WiKDP"
      },
      "source": [
        "### Exercício 3.6."
      ]
    },
    {
      "cell_type": "code",
      "metadata": {
        "id": "og-yknYuiKe2",
        "outputId": "273dbd55-6f2d-4531-cd61-b2dc46ed8650",
        "colab": {
          "base_uri": "https://localhost:8080/",
          "height": 34
        }
      },
      "source": [
        "set_empregados.update(set_engenheiros)\n",
        "set_empregados"
      ],
      "execution_count": null,
      "outputs": [
        {
          "output_type": "execute_result",
          "data": {
            "text/plain": [
              "{'A', 'B', 'C', 'D', 'E', 'F', 'G', 'H'}"
            ]
          },
          "metadata": {
            "tags": []
          },
          "execution_count": 56
        }
      ]
    },
    {
      "cell_type": "markdown",
      "metadata": {
        "id": "9b-YOjfCiNFQ"
      },
      "source": [
        "### Exercício 3.7."
      ]
    },
    {
      "cell_type": "code",
      "metadata": {
        "id": "JzgC07WZiNeu",
        "outputId": "0b8724f4-a885-4311-8103-9c9115830742",
        "colab": {
          "base_uri": "https://localhost:8080/",
          "height": 85
        }
      },
      "source": [
        "for item in [set_engenheiros, set_programadores, set_gerentes, set_empregados]:\n",
        "    item.discard('F')\n",
        "    print(item)"
      ],
      "execution_count": null,
      "outputs": [
        {
          "output_type": "stream",
          "text": [
            "{'A', 'D', 'H', 'B', 'C'}\n",
            "{'C', 'D', 'E'}\n",
            "{'C', 'G', 'B'}\n",
            "{'A', 'G', 'D', 'H', 'B', 'C', 'E'}\n"
          ],
          "name": "stdout"
        }
      ]
    },
    {
      "cell_type": "markdown",
      "metadata": {
        "id": "aBgeAOt-hb_d"
      },
      "source": [
        "## Exercício 4\n",
        "* É possível sortear os itens de um set? Explique sua resposta."
      ]
    },
    {
      "cell_type": "markdown",
      "metadata": {
        "id": "cuZfHXvRwCry"
      },
      "source": [
        "## Exercício 5\n",
        "Consulte a página [Python Data Types: Sets - Exercises, Practice, Solution](https://www.w3resource.com/python-exercises/sets/) para mais exercícios relacionados à sets."
      ]
    },
    {
      "cell_type": "code",
      "metadata": {
        "id": "q3ImGyClhgkK"
      },
      "source": [
        ""
      ],
      "execution_count": null,
      "outputs": []
    }
  ]
}