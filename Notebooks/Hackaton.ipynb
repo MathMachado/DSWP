{
 "cells": [
  {
   "cell_type": "code",
   "execution_count": 169,
   "metadata": {},
   "outputs": [],
   "source": [
    "import numpy as np\n",
    "import pandas as pd"
   ]
  },
  {
   "cell_type": "code",
   "execution_count": 170,
   "metadata": {},
   "outputs": [],
   "source": [
    "def Calcula_ERRO(df_Resultado, df_Participante):\n",
    "    df_Resultado2= pd.merge(df_Resultado, df_Participante, on= 'id')\n",
    "    RMSE= np.sqrt(((df_Resultado2['Predito'] - df_Resultado2['Resultado'])** 2).mean())    \n",
    "    return RMSE"
   ]
  },
  {
   "cell_type": "code",
   "execution_count": 179,
   "metadata": {},
   "outputs": [],
   "source": [
    "import glob\n",
    "paths = glob.glob('/home/nsolucoes4ds/Downloads/Hackaton/*.csv') # Pasta dos csv (respostas submetidas pelos participantes)"
   ]
  },
  {
   "cell_type": "code",
   "execution_count": 180,
   "metadata": {},
   "outputs": [
    {
     "data": {
      "text/plain": [
       "list"
      ]
     },
     "execution_count": 180,
     "metadata": {},
     "output_type": "execute_result"
    }
   ],
   "source": [
    "type(paths)"
   ]
  },
  {
   "cell_type": "code",
   "execution_count": 181,
   "metadata": {},
   "outputs": [
    {
     "data": {
      "text/plain": [
       "['/home/nsolucoes4ds/Downloads/Hackaton/XPTO_team2.csv',\n",
       " '/home/nsolucoes4ds/Downloads/Hackaton/XPTO_team4.csv',\n",
       " '/home/nsolucoes4ds/Downloads/Hackaton/XPTO_team3.csv',\n",
       " '/home/nsolucoes4ds/Downloads/Hackaton/XPTO_team1.csv',\n",
       " '/home/nsolucoes4ds/Downloads/Hackaton/XPTO_team5.csv',\n",
       " '/home/nsolucoes4ds/Downloads/Hackaton/Resultado.csv',\n",
       " '/home/nsolucoes4ds/Downloads/Hackaton/XPTO_team6.csv']"
      ]
     },
     "execution_count": 181,
     "metadata": {},
     "output_type": "execute_result"
    }
   ],
   "source": [
    "paths"
   ]
  },
  {
   "cell_type": "code",
   "execution_count": 182,
   "metadata": {},
   "outputs": [
    {
     "data": {
      "text/html": [
       "<div>\n",
       "<style scoped>\n",
       "    .dataframe tbody tr th:only-of-type {\n",
       "        vertical-align: middle;\n",
       "    }\n",
       "\n",
       "    .dataframe tbody tr th {\n",
       "        vertical-align: top;\n",
       "    }\n",
       "\n",
       "    .dataframe thead th {\n",
       "        text-align: right;\n",
       "    }\n",
       "</style>\n",
       "<table border=\"1\" class=\"dataframe\">\n",
       "  <thead>\n",
       "    <tr style=\"text-align: right;\">\n",
       "      <th></th>\n",
       "      <th>Resultado</th>\n",
       "    </tr>\n",
       "    <tr>\n",
       "      <th>id</th>\n",
       "      <th></th>\n",
       "    </tr>\n",
       "  </thead>\n",
       "  <tbody>\n",
       "    <tr>\n",
       "      <td>1</td>\n",
       "      <td>0.30</td>\n",
       "    </tr>\n",
       "    <tr>\n",
       "      <td>2</td>\n",
       "      <td>0.45</td>\n",
       "    </tr>\n",
       "    <tr>\n",
       "      <td>3</td>\n",
       "      <td>0.90</td>\n",
       "    </tr>\n",
       "    <tr>\n",
       "      <td>4</td>\n",
       "      <td>0.25</td>\n",
       "    </tr>\n",
       "    <tr>\n",
       "      <td>5</td>\n",
       "      <td>0.81</td>\n",
       "    </tr>\n",
       "    <tr>\n",
       "      <td>6</td>\n",
       "      <td>0.10</td>\n",
       "    </tr>\n",
       "    <tr>\n",
       "      <td>7</td>\n",
       "      <td>0.20</td>\n",
       "    </tr>\n",
       "    <tr>\n",
       "      <td>8</td>\n",
       "      <td>0.95</td>\n",
       "    </tr>\n",
       "  </tbody>\n",
       "</table>\n",
       "</div>"
      ],
      "text/plain": [
       "    Resultado\n",
       "id           \n",
       "1        0.30\n",
       "2        0.45\n",
       "3        0.90\n",
       "4        0.25\n",
       "5        0.81\n",
       "6        0.10\n",
       "7        0.20\n",
       "8        0.95"
      ]
     },
     "execution_count": 182,
     "metadata": {},
     "output_type": "execute_result"
    }
   ],
   "source": [
    "# Carregamos as verdadeiras respostas:\n",
    "df_Resultado= pd.read_csv('/home/nsolucoes4ds/Downloads/Hackaton/Resultado.csv', index_col= 'id')\n",
    "df_Resultado"
   ]
  },
  {
   "cell_type": "code",
   "execution_count": 183,
   "metadata": {},
   "outputs": [
    {
     "data": {
      "text/plain": [
       "['/home/nsolucoes4ds/Downloads/Hackaton/XPTO_team2.csv',\n",
       " '/home/nsolucoes4ds/Downloads/Hackaton/XPTO_team4.csv',\n",
       " '/home/nsolucoes4ds/Downloads/Hackaton/XPTO_team3.csv',\n",
       " '/home/nsolucoes4ds/Downloads/Hackaton/XPTO_team1.csv',\n",
       " '/home/nsolucoes4ds/Downloads/Hackaton/XPTO_team5.csv',\n",
       " '/home/nsolucoes4ds/Downloads/Hackaton/XPTO_team6.csv']"
      ]
     },
     "execution_count": 183,
     "metadata": {},
     "output_type": "execute_result"
    }
   ],
   "source": [
    "# Deletamos a resposta da lista de csv files:\n",
    "paths.remove('/home/nsolucoes4ds/Downloads/Hackaton/Resultado.csv')\n",
    "paths"
   ]
  },
  {
   "cell_type": "code",
   "execution_count": 184,
   "metadata": {},
   "outputs": [],
   "source": [
    "l_teams= []\n",
    "l_Resultados= []\n",
    "\n",
    "for file in paths:\n",
    "    file2= file.split('/')[5].split('.')[0]\n",
    "    l_teams.append(file2)\n",
    "    df= pd.read_csv(file, index_col= 'id')\n",
    "    l_Resultados.append(Calcula_Acuracia(df_Resultado, df))"
   ]
  },
  {
   "cell_type": "code",
   "execution_count": 185,
   "metadata": {},
   "outputs": [
    {
     "data": {
      "text/plain": [
       "['XPTO_team2',\n",
       " 'XPTO_team4',\n",
       " 'XPTO_team3',\n",
       " 'XPTO_team1',\n",
       " 'XPTO_team5',\n",
       " 'XPTO_team6']"
      ]
     },
     "execution_count": 185,
     "metadata": {},
     "output_type": "execute_result"
    }
   ],
   "source": [
    "l_teams"
   ]
  },
  {
   "cell_type": "code",
   "execution_count": 186,
   "metadata": {},
   "outputs": [
    {
     "data": {
      "text/plain": [
       "[0.08845903006477064,\n",
       " 0.15231546211727817,\n",
       " 0.12942179105544785,\n",
       " 0.15272524349301264,\n",
       " 0.0,\n",
       " 0.017677669529663684]"
      ]
     },
     "execution_count": 186,
     "metadata": {},
     "output_type": "execute_result"
    }
   ],
   "source": [
    "l_Resultados"
   ]
  },
  {
   "cell_type": "code",
   "execution_count": 187,
   "metadata": {},
   "outputs": [
    {
     "data": {
      "text/plain": [
       "[('XPTO_team2', 0.08845903006477064),\n",
       " ('XPTO_team4', 0.15231546211727817),\n",
       " ('XPTO_team3', 0.12942179105544785),\n",
       " ('XPTO_team1', 0.15272524349301264),\n",
       " ('XPTO_team5', 0.0),\n",
       " ('XPTO_team6', 0.017677669529663684)]"
      ]
     },
     "execution_count": 187,
     "metadata": {},
     "output_type": "execute_result"
    }
   ],
   "source": [
    "dados= list(zip(l_teams, l_Resultados))\n",
    "dados"
   ]
  },
  {
   "cell_type": "code",
   "execution_count": 188,
   "metadata": {},
   "outputs": [
    {
     "data": {
      "text/html": [
       "<div>\n",
       "<style scoped>\n",
       "    .dataframe tbody tr th:only-of-type {\n",
       "        vertical-align: middle;\n",
       "    }\n",
       "\n",
       "    .dataframe tbody tr th {\n",
       "        vertical-align: top;\n",
       "    }\n",
       "\n",
       "    .dataframe thead th {\n",
       "        text-align: right;\n",
       "    }\n",
       "</style>\n",
       "<table border=\"1\" class=\"dataframe\">\n",
       "  <thead>\n",
       "    <tr style=\"text-align: right;\">\n",
       "      <th></th>\n",
       "      <th>Equipes</th>\n",
       "      <th>Resultado</th>\n",
       "    </tr>\n",
       "  </thead>\n",
       "  <tbody>\n",
       "    <tr>\n",
       "      <td>0</td>\n",
       "      <td>XPTO_team2</td>\n",
       "      <td>0.088459</td>\n",
       "    </tr>\n",
       "    <tr>\n",
       "      <td>1</td>\n",
       "      <td>XPTO_team4</td>\n",
       "      <td>0.152315</td>\n",
       "    </tr>\n",
       "    <tr>\n",
       "      <td>2</td>\n",
       "      <td>XPTO_team3</td>\n",
       "      <td>0.129422</td>\n",
       "    </tr>\n",
       "    <tr>\n",
       "      <td>3</td>\n",
       "      <td>XPTO_team1</td>\n",
       "      <td>0.152725</td>\n",
       "    </tr>\n",
       "    <tr>\n",
       "      <td>4</td>\n",
       "      <td>XPTO_team5</td>\n",
       "      <td>0.000000</td>\n",
       "    </tr>\n",
       "    <tr>\n",
       "      <td>5</td>\n",
       "      <td>XPTO_team6</td>\n",
       "      <td>0.017678</td>\n",
       "    </tr>\n",
       "  </tbody>\n",
       "</table>\n",
       "</div>"
      ],
      "text/plain": [
       "      Equipes  Resultado\n",
       "0  XPTO_team2   0.088459\n",
       "1  XPTO_team4   0.152315\n",
       "2  XPTO_team3   0.129422\n",
       "3  XPTO_team1   0.152725\n",
       "4  XPTO_team5   0.000000\n",
       "5  XPTO_team6   0.017678"
      ]
     },
     "execution_count": 188,
     "metadata": {},
     "output_type": "execute_result"
    }
   ],
   "source": [
    "# Cria o dataframe\n",
    "df_Hackaton= pd.DataFrame(dados, columns=['Equipes','Resultado'])"
   ]
  },
  {
   "cell_type": "code",
   "execution_count": 193,
   "metadata": {},
   "outputs": [
    {
     "data": {
      "text/html": [
       "<div>\n",
       "<style scoped>\n",
       "    .dataframe tbody tr th:only-of-type {\n",
       "        vertical-align: middle;\n",
       "    }\n",
       "\n",
       "    .dataframe tbody tr th {\n",
       "        vertical-align: top;\n",
       "    }\n",
       "\n",
       "    .dataframe thead th {\n",
       "        text-align: right;\n",
       "    }\n",
       "</style>\n",
       "<table border=\"1\" class=\"dataframe\">\n",
       "  <thead>\n",
       "    <tr style=\"text-align: right;\">\n",
       "      <th></th>\n",
       "      <th>Equipes</th>\n",
       "      <th>Resultado</th>\n",
       "    </tr>\n",
       "  </thead>\n",
       "  <tbody>\n",
       "    <tr>\n",
       "      <td>4</td>\n",
       "      <td>XPTO_team5</td>\n",
       "      <td>0.000000</td>\n",
       "    </tr>\n",
       "    <tr>\n",
       "      <td>5</td>\n",
       "      <td>XPTO_team6</td>\n",
       "      <td>0.017678</td>\n",
       "    </tr>\n",
       "    <tr>\n",
       "      <td>0</td>\n",
       "      <td>XPTO_team2</td>\n",
       "      <td>0.088459</td>\n",
       "    </tr>\n",
       "    <tr>\n",
       "      <td>2</td>\n",
       "      <td>XPTO_team3</td>\n",
       "      <td>0.129422</td>\n",
       "    </tr>\n",
       "    <tr>\n",
       "      <td>1</td>\n",
       "      <td>XPTO_team4</td>\n",
       "      <td>0.152315</td>\n",
       "    </tr>\n",
       "    <tr>\n",
       "      <td>3</td>\n",
       "      <td>XPTO_team1</td>\n",
       "      <td>0.152725</td>\n",
       "    </tr>\n",
       "  </tbody>\n",
       "</table>\n",
       "</div>"
      ],
      "text/plain": [
       "      Equipes  Resultado\n",
       "4  XPTO_team5   0.000000\n",
       "5  XPTO_team6   0.017678\n",
       "0  XPTO_team2   0.088459\n",
       "2  XPTO_team3   0.129422\n",
       "1  XPTO_team4   0.152315\n",
       "3  XPTO_team1   0.152725"
      ]
     },
     "execution_count": 193,
     "metadata": {},
     "output_type": "execute_result"
    }
   ],
   "source": [
    "df_Hackaton.sort_values(by='Resultado', ascending=True)"
   ]
  },
  {
   "cell_type": "code",
   "execution_count": null,
   "metadata": {},
   "outputs": [],
   "source": []
  }
 ],
 "metadata": {
  "kernelspec": {
   "display_name": "Python 3",
   "language": "python",
   "name": "python3"
  },
  "language_info": {
   "codemirror_mode": {
    "name": "ipython",
    "version": 3
   },
   "file_extension": ".py",
   "mimetype": "text/x-python",
   "name": "python",
   "nbconvert_exporter": "python",
   "pygments_lexer": "ipython3",
   "version": "3.7.3"
  }
 },
 "nbformat": 4,
 "nbformat_minor": 2
}
