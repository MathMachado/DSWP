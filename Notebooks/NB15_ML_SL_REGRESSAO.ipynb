{
  "nbformat": 4,
  "nbformat_minor": 0,
  "metadata": {
    "colab": {
      "private_outputs": true,
      "provenance": [],
      "authorship_tag": "ABX9TyOauSxQEmf0WsyEhSBFa2fx",
      "include_colab_link": true
    },
    "kernelspec": {
      "name": "python3",
      "display_name": "Python 3"
    },
    "language_info": {
      "name": "python"
    }
  },
  "cells": [
    {
      "cell_type": "markdown",
      "metadata": {
        "id": "view-in-github",
        "colab_type": "text"
      },
      "source": [
        "<a href=\"https://colab.research.google.com/github/MathMachado/DSWP/blob/master/Notebooks/NB15_ML_SL_REGRESSAO.ipynb\" target=\"_parent\"><img src=\"https://colab.research.google.com/assets/colab-badge.svg\" alt=\"Open In Colab\"/></a>"
      ]
    },
    {
      "cell_type": "markdown",
      "source": [
        "# Modelos de Regressão\n",
        "\n",
        "## O que é Regressão?\n",
        "\n",
        "* A regressão é uma técnica de Machine Learning supervisionada usada para prever valores contínuos com base em variáveis independentes.\n",
        "\n",
        "* Exemplos:\n",
        "    * Prever o preço de imóveis com base no tamanho e localização.\n",
        "    * Estimar a temperatura com base em dados históricos de clima.\n",
        "    * Previsão de vendas futuras com base em gastos em marketing.\n",
        "\n",
        "* Tipos de Regressão:\n",
        "\n",
        "    * Regressão Linear Simples: Analisa a relação entre uma variável dependente e uma independente.\n",
        "    * Regressão Linear Múltipla: Considera várias variáveis independentes para prever a dependente.\n",
        "    * Regressão Polinomial: Modela relações não lineares entre variáveis.\n",
        "    * Regressão Regularizada (Ridge, Lasso): Aplica penalização para evitar overfitting."
      ],
      "metadata": {
        "id": "zVrMKzY1yRuM"
      }
    },
    {
      "cell_type": "markdown",
      "source": [
        "## Geração dos dados sintéticos\n",
        "\n"
      ],
      "metadata": {
        "id": "wvPijss9yoGP"
      }
    },
    {
      "cell_type": "code",
      "source": [
        "!pip install faker"
      ],
      "metadata": {
        "id": "oosBBOm3y5pv"
      },
      "execution_count": null,
      "outputs": []
    },
    {
      "cell_type": "code",
      "execution_count": null,
      "metadata": {
        "id": "MuOxSP-Tw9ST"
      },
      "outputs": [],
      "source": [
        "from faker import Faker\n",
        "import pandas as pd\n",
        "import numpy as np\n",
        "\n",
        "# Configurações iniciais\n",
        "fake = Faker()\n",
        "np.random.seed(42)\n",
        "\n",
        "# Gerar dataset fake\n",
        "data = {\n",
        "    \"idade\": np.random.randint(18, 70, 2500),\n",
        "    \"renda_anual\": np.random.normal(50000, 15000, 2500),\n",
        "    \"anos_experiencia\": np.random.randint(1, 40, 2500),\n",
        "    \"pontuacao_credito\": np.random.randint(300, 850, 2500),\n",
        "    \"possui_casa\": np.random.choice([0, 1], 2500),\n",
        "    \"possui_carro\": np.random.choice([0, 1], 2500),\n",
        "    \"gastos_mensais\": np.random.normal(2000, 500, 2500),\n",
        "    \"poupanca\": np.random.normal(20000, 10000, 2500),\n",
        "    \"valor_emprestimo\": np.random.normal(100000, 50000, 2500),\n",
        "    \"prazo_emprestimo\": np.random.choice([5, 10, 15, 20, 25, 30], 2500),\n",
        "    \"ocupacao\": [fake.job() for _ in range(2500)],\n",
        "    \"setor\": np.random.choice([\"tecnologia\", \"financas\", \"saude\", \"educacao\", \"varejo\"], 2500),\n",
        "    \"cidade\": [fake.city() for _ in range(2500)],\n",
        "    \"estado\": [fake.state_abbr() for _ in range(2500)],\n",
        "    \"n_dependentes\": np.random.randint(0, 5, 2500),\n",
        "    \"regiao\": np.random.choice([\"norte\", \"sul\", \"leste\", \"oeste\"], 2500),\n",
        "    \"educacao\": np.random.choice([\"ensino_medio\", \"graduacao\", \"mestrado\", \"doutorado\"], 2500),\n",
        "    \"horas_trabalho_semanal\": np.random.randint(20, 60, 2500),\n",
        "    \"tempo_empresa\": np.random.randint(1, 20, 2500),\n",
        "    \"score_satisfacao\": np.random.uniform(1, 5, 2500),\n",
        "}\n",
        "\n",
        "# Criação do DataFrame\n",
        "df = pd.DataFrame(data)\n",
        "\n",
        "# Adiciona uma variável dependente baseada em uma relação com outras variáveis\n",
        "df[\"preco_predito\"] = (\n",
        "    5000\n",
        "    + 30 * df[\"idade\"]\n",
        "    + 1.5 * df[\"renda_anual\"]\n",
        "    - 100 * df[\"anos_experiencia\"]\n",
        "    + 300 * df[\"possui_casa\"]\n",
        "    + np.random.normal(0, 5000, 2500)\n",
        ")\n",
        "\n",
        "df.head()"
      ]
    },
    {
      "cell_type": "markdown",
      "source": [
        "## Importar as bibliotecas necessárias\n"
      ],
      "metadata": {
        "id": "APlrnaHJyQM8"
      }
    },
    {
      "cell_type": "code",
      "source": [
        "from sklearn.model_selection import train_test_split\n",
        "from sklearn.linear_model import LinearRegression\n",
        "from sklearn.metrics import mean_absolute_error, mean_squared_error, r2_score\n"
      ],
      "metadata": {
        "id": "oWvVGZq6zHiZ"
      },
      "execution_count": null,
      "outputs": []
    },
    {
      "cell_type": "markdown",
      "source": [
        "## Pré-processamento dos Dados Selecionamos apenas as variáveis numéricas e dividimos o dataset"
      ],
      "metadata": {
        "id": "Nxe3PKPvzJPR"
      }
    },
    {
      "cell_type": "code",
      "source": [
        "# Seleção das variáveis numéricas\n",
        "X = df[[\"idade\", \"renda_anual\", \"anos_experiencia\", \"possui_casa\", \"gastos_mensais\"]]\n",
        "y = df[\"preco_predito\"]\n",
        "\n",
        "# Divisão em treino e teste\n",
        "X_train, X_test, y_train, y_test = train_test_split(X, y, test_size=0.3, random_state=42)\n"
      ],
      "metadata": {
        "id": "_ATEXUKXzNFV"
      },
      "execution_count": null,
      "outputs": []
    },
    {
      "cell_type": "markdown",
      "source": [
        "## Treinamento do Modelo"
      ],
      "metadata": {
        "id": "UcJV1RqrzTQe"
      }
    },
    {
      "cell_type": "code",
      "source": [
        "# Criação e treinamento do modelo\n",
        "modelo = LinearRegression()\n",
        "modelo.fit(X_train, y_train)\n"
      ],
      "metadata": {
        "id": "RQQmVJeqzUDF"
      },
      "execution_count": null,
      "outputs": []
    },
    {
      "cell_type": "markdown",
      "source": [
        "## Avaliação do Modelo"
      ],
      "metadata": {
        "id": "Rx2L55uKzYu7"
      }
    },
    {
      "cell_type": "code",
      "source": [
        "# Previsões nos dados de teste\n",
        "y_pred = modelo.predict(X_test)\n",
        "\n",
        "# Métricas de avaliação\n",
        "mae = mean_absolute_error(y_test, y_pred)\n",
        "mse = mean_squared_error(y_test, y_pred)\n",
        "rmse = np.sqrt(mse)\n",
        "r2 = r2_score(y_test, y_pred)\n",
        "\n",
        "print(f\"MAE: {mae}\")\n",
        "print(f\"MSE: {mse}\")\n",
        "print(f\"RMSE: {rmse}\")\n",
        "print(f\"R²: {r2}\")\n"
      ],
      "metadata": {
        "id": "qMeG6100zZpK"
      },
      "execution_count": null,
      "outputs": []
    },
    {
      "cell_type": "markdown",
      "source": [
        "## Interpretação e Visualização\n",
        "* Coeficientes do modelo de regressão"
      ],
      "metadata": {
        "id": "R03yXkwVzev_"
      }
    },
    {
      "cell_type": "code",
      "source": [
        "print(\"Coeficientes do Modelo:\", modelo.coef_)\n",
        "print(\"Intercepto:\", modelo.intercept_)\n"
      ],
      "metadata": {
        "id": "422BfVRJziPu"
      },
      "execution_count": null,
      "outputs": []
    },
    {
      "cell_type": "markdown",
      "source": [
        "* Visualização dos Resultados"
      ],
      "metadata": {
        "id": "sW6zMuzYzmTw"
      }
    },
    {
      "cell_type": "markdown",
      "source": [
        "A reta de regressão, neste caso, é dada por $y = \\beta_0 + \\beta_1X_1 + \\beta_2X_2 + \\beta_3X_3 + \\beta_4X_4 + \\beta_5X_5 = intercepto + 23.01idade + 1.49renda_anual - 116.66anos_experiencia + 502.72possui_casa + 0.67gastos_mensais$."
      ],
      "metadata": {
        "id": "yFeJFUpoG4JN"
      }
    },
    {
      "cell_type": "code",
      "source": [
        "import matplotlib.pyplot as plt\n",
        "import numpy as np\n",
        "\n",
        "# Ajuste do modelo linear para plotar a reta de regressão\n",
        "# Calculando a linha de regressão com base nos valores preditos e reais\n",
        "coef = np.polyfit(y_test, y_pred, 1)  # Encontra os coeficientes da reta (a*x + b)\n",
        "poly1d_fn = np.poly1d(coef)  # Gera a função da reta\n",
        "\n",
        "# Plot dos pontos verdadeiros vs preditos\n",
        "plt.figure(figsize=(8, 6))\n",
        "plt.scatter(y_test, y_pred, alpha=0.5, label=\"Pontos (Verdadeiro vs Predito)\")\n",
        "plt.plot(y_test, poly1d_fn(y_test), color='red', label=\"Reta de Regressão\")  # Adiciona a reta de regressão\n",
        "plt.xlabel(\"Valores Verdadeiros\")\n",
        "plt.ylabel(\"Valores Preditos\")\n",
        "plt.title(\"Verdadeiro vs Predito com Reta de Regressão\")\n",
        "plt.legend()\n",
        "plt.show()\n",
        "\n"
      ],
      "metadata": {
        "id": "wznCdKifzoTx"
      },
      "execution_count": null,
      "outputs": []
    },
    {
      "cell_type": "markdown",
      "source": [
        "## Conclusão\n",
        "* Explicação dos coeficientes:\n",
        "    * Cada coeficiente indica o impacto de uma variável na variável-alvo (preco_predito).\n",
        "* Interpretação do R²:\n",
        "    * Percentual de variação da variável-alvo explicado pelas variáveis independentes.\n",
        "* Discussão sobre melhorias:\n",
        "    * Incluir mais variáveis explicativas.\n",
        "    * Testar modelos mais complexos como Random Forest Regressor."
      ],
      "metadata": {
        "id": "43RRiPg0zsqK"
      }
    },
    {
      "cell_type": "markdown",
      "source": [
        "# Aplicações Práticas da Regressão"
      ],
      "metadata": {
        "id": "I2GbufK32lrp"
      }
    },
    {
      "cell_type": "markdown",
      "source": [
        "A regressão tem diversas aplicações práticas em áreas como negócios, ciência, engenharia e saúde. Aqui estão alguns exemplos organizados por setor:\n",
        "\n",
        "### **1. Negócios e Finanças**\n",
        "- **Previsão de Vendas:** Estimar vendas futuras com base em gastos com marketing, sazonalidade ou histórico de vendas.\n",
        "- **Precificação de Produtos:** Determinar o preço ideal de produtos com base em variáveis como custo de produção, demanda e concorrência.\n",
        "- **Análise de Crédito:** Prever a probabilidade de um cliente pagar um empréstimo, utilizando variáveis como renda, idade e histórico de crédito.\n",
        "- **Modelagem de Risco:** Avaliar riscos financeiros, como variações em taxas de câmbio ou preços de ações.\n",
        "\n",
        "### **2. Saúde**\n",
        "- **Previsão de Doenças:** Estimar a progressão de doenças crônicas com base em dados como idade, histórico médico e hábitos de vida.\n",
        "- **Custo de Tratamento:** Prever custos hospitalares com base no tipo de tratamento, idade do paciente e condições pré-existentes.\n",
        "- **Pesquisa Médica:** Analisar a eficácia de medicamentos ou terapias usando dados experimentais.\n",
        "\n",
        "### **3. Engenharia e Tecnologia**\n",
        "- **Manutenção Preditiva:** Prever falhas em equipamentos com base em medições como temperatura, vibração e ciclos de uso.\n",
        "- **Otimização de Processos:** Estimar tempos de produção ou eficiência energética em processos industriais.\n",
        "- **Controle de Qualidade:** Analisar dados de sensores para prever defeitos em produtos durante a fabricação.\n",
        "\n",
        "### **4. Marketing e Varejo**\n",
        "- **Segmentação de Clientes:** Identificar padrões de consumo e prever o comportamento de compra de diferentes segmentos.\n",
        "- **Análise de Campanhas Publicitárias:** Avaliar o impacto de campanhas em métricas como cliques ou conversões.\n",
        "- **Gestão de Estoque:** Prever a demanda de produtos com base em tendências de mercado.\n",
        "\n",
        "### **5. Ciência e Meio Ambiente**\n",
        "- **Previsão de Mudanças Climáticas:** Modelar variações em temperatura, níveis de poluição e padrões de chuva ao longo do tempo.\n",
        "- **Estimativas Populacionais:** Projetar o crescimento populacional em regiões específicas.\n",
        "- **Estudo de Fenômenos Naturais:** Prever a intensidade de eventos como terremotos, tsunamis ou furacões.\n",
        "\n",
        "### **6. Educação**\n",
        "- **Predição de Desempenho Escolar:** Estimar o desempenho dos alunos com base em frequência, histórico acadêmico e participação em atividades extracurriculares.\n",
        "- **Análise de Taxas de Evasão:** Prever quais alunos têm maior probabilidade de abandonar os estudos.\n",
        "\n",
        "### **7. Transporte e Logística**\n",
        "- **Previsão de Tráfego:** Estimar o fluxo de tráfego em horários e locais específicos.\n",
        "- **Otimização de Rotas:** Calcular tempos de entrega ou custos de transporte.\n",
        "- **Manutenção de Veículos:** Prever a necessidade de manutenção com base no uso e idade dos veículos.\n",
        "\n",
        "### **8. Ciências Sociais**\n",
        "- **Análise Econômica:** Estimar indicadores como inflação, PIB ou desemprego com base em fatores econômicos.\n",
        "- **Estudos Demográficos:** Prever tendências populacionais, como taxas de natalidade ou migração.\n",
        "\n",
        "### **9. Esportes**\n",
        "- **Previsão de Desempenho:** Estimar o desempenho de atletas em competições com base em treinos e histórico.\n",
        "- **Análise de Estatísticas:** Modelar resultados de jogos ou campeonatos.\n",
        "\n",
        "### **10. Energia e Recursos Naturais**\n",
        "- **Estimativa de Consumo:** Prever o consumo de energia elétrica com base em padrões de uso.\n",
        "- **Exploração de Recursos:** Modelar a produção de petróleo ou gás com base em dados geológicos.\n",
        "\n",
        "### Benefícios das Aplicações Práticas de Regressão\n",
        "- Ajuda na **tomada de decisão baseada em dados**.\n",
        "- Melhora o **planejamento e previsões**.\n",
        "- Aumenta a eficiência e reduz custos operacionais.\n",
        "- Fornece insights detalhados sobre os fatores que impactam os resultados.\n",
        "\n",
        "Esses exemplos mostram como a regressão pode ser aplicada para resolver problemas reais, trazendo valor significativo em diferentes áreas."
      ],
      "metadata": {
        "id": "EkmBmFMn2YEN"
      }
    },
    {
      "cell_type": "markdown",
      "source": [
        "## Métricas para avaliar a performance dos modelos de Regressão\n",
        "### **Diferença entre RMSE e MAE**\n",
        "\n",
        "O **RMSE (Root Mean Squared Error)** e o **MAE (Mean Absolute Error)** são métricas usadas para avaliar a precisão de modelos de regressão, medindo o erro entre os valores preditos e os valores reais. Ambos têm usos específicos e características distintas.\n",
        "\n",
        "---\n",
        "\n",
        "### **1. RMSE - Root Mean Squared Error**\n",
        "O RMSE calcula a raiz quadrada da média dos erros ao quadrado. A fórmula é:\n",
        "\n",
        "$\n",
        "RMSE = \\sqrt{\\frac{\\sum_{i=1}^n (\\hat{y}_i - y_i)^2}{n} }\n",
        "$\n",
        "\n",
        "- **Interpretação:**\n",
        "  - Penaliza mais fortemente os erros grandes devido ao uso do quadrado na fórmula.\n",
        "  - É sensível a outliers, pois erros maiores têm um impacto desproporcional.\n",
        "  - Mede o erro em uma escala semelhante à variável-alvo.\n",
        "\n",
        "- **Vantagem:**\n",
        "  - Útil em casos onde erros grandes devem ser tratados com mais rigor.\n",
        "  - Ideal para aplicações como previsões financeiras ou sistemas críticos onde grandes erros podem ser mais prejudiciais.\n",
        "\n",
        "- **Desvantagem:**\n",
        "  - Menos intuitivo, pois o impacto de erros grandes pode não ser proporcional ao contexto.\n",
        "\n",
        "---\n",
        "\n",
        "### **2. MAE - Mean Absolute Error**\n",
        "O MAE calcula a média das diferenças absolutas entre os valores preditos e os reais. A fórmula é:\n",
        "\n",
        "$\n",
        "MAE = \\frac{\\sum_{i=1}^n |\\hat{y}_i - y_i|}{n}\n",
        "$\n",
        "\n",
        "- **Interpretação:**\n",
        "  - Mede o erro médio em termos absolutos, sem considerar a direção (positivo ou negativo).\n",
        "  - Penaliza erros de forma linear, ou seja, cada erro tem o mesmo impacto na métrica.\n",
        "\n",
        "- **Vantagem:**\n",
        "  - Mais robusto a outliers, já que não eleva os erros ao quadrado.\n",
        "  - Fácil de interpretar, pois está na mesma escala da variável-alvo.\n",
        "\n",
        "- **Desvantagem:**\n",
        "  - Não diferencia bem entre erros pequenos e grandes, tratando todos de forma linear.\n",
        "\n",
        "---\n",
        "\n",
        "### **Diferenças Práticas**\n",
        "| Aspecto                  | RMSE                                  | MAE                                   |\n",
        "|--------------------------|---------------------------------------|---------------------------------------|\n",
        "| **Sensibilidade a Outliers** | Alta (erros grandes têm maior impacto) | Baixa (erros são tratados linearmente) |\n",
        "| **Escala**               | Mesma escala que a variável-alvo     | Mesma escala que a variável-alvo     |\n",
        "| **Uso Geral**            | Prioriza penalização de erros grandes | Mede erros médios sem distorções      |\n",
        "| **Complexidade**         | Mais complexo de interpretar         | Mais simples de entender             |\n",
        "\n",
        "---\n",
        "\n",
        "### **Quando usar cada um?**\n",
        "- **RMSE:**\n",
        "  - Quando grandes erros são mais críticos e precisam ser penalizados mais severamente.\n",
        "  - Exemplo: Sistemas de previsão financeira ou previsão meteorológica.\n",
        "\n",
        "- **MAE:**\n",
        "  - Quando você quer uma medida mais robusta e simples de erro médio.\n",
        "  - Exemplo: Previsão de vendas onde erros extremos não têm um impacto desproporcional.\n",
        "\n",
        "Em resumo, o RMSE é mais sensível a erros grandes e enfatiza a precisão global, enquanto o MAE é mais intuitivo e robusto em relação a outliers. A escolha depende do objetivo da análise e do impacto que grandes erros têm no problema em questão."
      ],
      "metadata": {
        "id": "7XYEIqoU0sTu"
      }
    },
    {
      "cell_type": "markdown",
      "source": [
        "# Exercícios\n",
        "* Usando o dataframe que acabamos de criar, responda:\n",
        "\n",
        "1. Exploração dos Dados\n",
        "Pergunta: Carregue a base de dados e responda:\n",
        "- Qual é o tamanho do dataset?\n",
        "- Quantas variáveis são numéricas e quantas são categóricas?\n",
        "- Qual é a média, mediana e desvio padrão da variável `preco_predito`?\n",
        "\n",
        "Objetivo: Familiarizar-se com a estrutura do dataset antes de aplicar os modelos.\n",
        "\n",
        "---\n",
        "\n",
        "2. Correlação entre Variáveis\n",
        "Pergunta: Calcule a correlação entre todas as variáveis numéricas. Quais variáveis têm maior correlação com a variável `preco_predito`?\n",
        "\n",
        "Objetivo: Identificar relações entre variáveis e selecionar potenciais preditores.\n",
        "\n",
        "---\n",
        "\n",
        "3. Divisão do Dataset\n",
        "Pergunta: Divida o dataset em conjuntos de treino (70%) e teste (30%). Certifique-se de que a proporção de `preco_predito` é preservada em ambos os conjuntos.\n",
        "\n",
        "Objetivo: Treinar a habilidade de dividir dados corretamente para modelos de aprendizado supervisionado.\n",
        "\n",
        "---\n",
        "\n",
        "4. Treinamento de um Modelo Linear\n",
        "Pergunta: Treine um modelo de regressão linear usando as variáveis numéricas como preditores (`idade`, `renda_anual`, `anos_experiencia`, `possui_casa`, `gastos_mensais`) para prever `preco_predito`. Qual é o valor do R² nos dados de treino?\n",
        "\n",
        "Objetivo: Aprender a ajustar um modelo linear básico e interpretar métricas.\n",
        "\n",
        "---\n",
        "\n",
        "5. Avaliação do Modelo Linear\n",
        "Pergunta: Avalie o modelo de regressão linear nos dados de teste. Calcule as métricas:\n",
        "- MAE (Mean Absolute Error)\n",
        "- RMSE (Root Mean Squared Error)\n",
        "- R²\n",
        "\n",
        "Objetivo: Entender como avaliar a performance de um modelo preditivo.\n",
        "\n",
        "---\n",
        "\n",
        "6. Interpretação dos Coeficientes\n",
        "Pergunta: Exiba os coeficientes da regressão linear. Quais variáveis têm o maior impacto (positivo ou negativo) em `preco_predito`? Interprete esses coeficientes no contexto do problema.\n",
        "\n",
        "Objetivo: Desenvolver a habilidade de interpretar os coeficientes do modelo.\n",
        "\n",
        "---\n",
        "\n",
        "7. Visualização dos Resultados\n",
        "Pergunta: Crie um gráfico de dispersão mostrando os valores verdadeiros (`preco_predito`) versus os valores preditos. Inclua a reta de regressão para destacar a tendência.\n",
        "\n",
        "Objetivo: Visualizar a performance do modelo e identificar possíveis desvios.\n",
        "\n",
        "---\n",
        "\n",
        "8. Regressão Polinomial\n",
        "Pergunta: Ajuste um modelo de regressão polinomial (grau 2) para prever `preco_predito` usando as variáveis numéricas. O modelo polinomial melhora a performance em comparação ao modelo linear?\n",
        "\n",
        "Objetivo: Explorar como modelos mais complexos podem melhorar a precisão em dados não lineares.\n",
        "\n",
        "---\n",
        "\n",
        "9. Detecção de Outliers\n",
        "Pergunta: Identifique os outliers nos resíduos do modelo de regressão linear (diferença entre valores reais e preditos). Quantos outliers foram encontrados (valores fora de 3 desvios padrão)?\n",
        "\n",
        "Objetivo: Ensinar técnicas de análise de resíduos e tratamento de outliers.\n",
        "\n",
        "---\n",
        "\n",
        "10. Comparação entre Modelos\n",
        "Pergunta: Compare os modelos:\n",
        "- Regressão Linear Simples\n",
        "- Regressão Polinomial\n",
        "- Random Forest Regressor\n",
        "\n",
        "Use as métricas MAE, RMSE e R² para determinar qual modelo oferece o melhor desempenho. Quais são os pontos fortes e fracos de cada abordagem?\n",
        "\n",
        "Objetivo: Compreender os benefícios e limitações de diferentes modelos de regressão."
      ],
      "metadata": {
        "id": "lI7OXFFp1WR9"
      }
    },
    {
      "cell_type": "code",
      "source": [],
      "metadata": {
        "id": "SxW0AYXC1MH5"
      },
      "execution_count": null,
      "outputs": []
    }
  ]
}