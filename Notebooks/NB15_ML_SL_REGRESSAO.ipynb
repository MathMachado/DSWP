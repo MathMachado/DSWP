{
  "nbformat": 4,
  "nbformat_minor": 0,
  "metadata": {
    "colab": {
      "private_outputs": true,
      "provenance": [],
      "authorship_tag": "ABX9TyPx9eSHmuSdCG0l6FtLN9YU",
      "include_colab_link": true
    },
    "kernelspec": {
      "name": "python3",
      "display_name": "Python 3"
    },
    "language_info": {
      "name": "python"
    }
  },
  "cells": [
    {
      "cell_type": "markdown",
      "metadata": {
        "id": "view-in-github",
        "colab_type": "text"
      },
      "source": [
        "<a href=\"https://colab.research.google.com/github/MathMachado/DSWP/blob/master/Notebooks/NB15_ML_SL_REGRESSAO.ipynb\" target=\"_parent\"><img src=\"https://colab.research.google.com/assets/colab-badge.svg\" alt=\"Open In Colab\"/></a>"
      ]
    },
    {
      "cell_type": "markdown",
      "source": [
        "# Modelos de Regressão\n",
        "\n",
        "## O que é Regressão?\n",
        "\n",
        "* A regressão é uma técnica de Machine Learning supervisionada usada para prever valores contínuos com base em variáveis independentes.\n",
        "\n",
        "* Exemplos:\n",
        "    * Prever o preço de imóveis com base no tamanho e localização.\n",
        "    * Estimar a temperatura com base em dados históricos de clima.\n",
        "    * Previsão de vendas futuras com base em gastos em marketing.\n",
        "\n",
        "* Tipos de Regressão:\n",
        "\n",
        "    * Regressão Linear Simples: Analisa a relação entre uma variável dependente e uma independente.\n",
        "    * Regressão Linear Múltipla: Considera várias variáveis independentes para prever a dependente.\n",
        "    * Regressão Polinomial: Modela relações não lineares entre variáveis.\n",
        "    * Regressão Regularizada (Ridge, Lasso): Aplica penalização para evitar overfitting."
      ],
      "metadata": {
        "id": "zVrMKzY1yRuM"
      }
    },
    {
      "cell_type": "markdown",
      "source": [
        "## Geração dos dados sintéticos\n",
        "\n"
      ],
      "metadata": {
        "id": "wvPijss9yoGP"
      }
    },
    {
      "cell_type": "code",
      "source": [
        "!pip install faker"
      ],
      "metadata": {
        "id": "oosBBOm3y5pv"
      },
      "execution_count": null,
      "outputs": []
    },
    {
      "cell_type": "code",
      "execution_count": null,
      "metadata": {
        "id": "MuOxSP-Tw9ST"
      },
      "outputs": [],
      "source": [
        "from faker import Faker\n",
        "import pandas as pd\n",
        "import numpy as np\n",
        "\n",
        "# Configurações iniciais\n",
        "fake = Faker()\n",
        "np.random.seed(42)\n",
        "\n",
        "# Gerar dataset fake\n",
        "data = {\n",
        "    \"idade\": np.random.randint(18, 70, 2500),\n",
        "    \"renda_anual\": np.random.normal(50000, 15000, 2500),\n",
        "    \"anos_experiencia\": np.random.randint(1, 40, 2500),\n",
        "    \"pontuacao_credito\": np.random.randint(300, 850, 2500),\n",
        "    \"possui_casa\": np.random.choice([0, 1], 2500),\n",
        "    \"possui_carro\": np.random.choice([0, 1], 2500),\n",
        "    \"gastos_mensais\": np.random.normal(2000, 500, 2500),\n",
        "    \"poupanca\": np.random.normal(20000, 10000, 2500),\n",
        "    \"valor_emprestimo\": np.random.normal(100000, 50000, 2500),\n",
        "    \"prazo_emprestimo\": np.random.choice([5, 10, 15, 20, 25, 30], 2500),\n",
        "    \"ocupacao\": [fake.job() for _ in range(2500)],\n",
        "    \"setor\": np.random.choice([\"tecnologia\", \"financas\", \"saude\", \"educacao\", \"varejo\"], 2500),\n",
        "    \"cidade\": [fake.city() for _ in range(2500)],\n",
        "    \"estado\": [fake.state_abbr() for _ in range(2500)],\n",
        "    \"n_dependentes\": np.random.randint(0, 5, 2500),\n",
        "    \"regiao\": np.random.choice([\"norte\", \"sul\", \"leste\", \"oeste\"], 2500),\n",
        "    \"educacao\": np.random.choice([\"ensino_medio\", \"graduacao\", \"mestrado\", \"doutorado\"], 2500),\n",
        "    \"horas_trabalho_semanal\": np.random.randint(20, 60, 2500),\n",
        "    \"tempo_empresa\": np.random.randint(1, 20, 2500),\n",
        "    \"score_satisfacao\": np.random.uniform(1, 5, 2500),\n",
        "}\n",
        "\n",
        "# Criação do DataFrame\n",
        "df = pd.DataFrame(data)\n",
        "\n",
        "# Adiciona uma variável dependente baseada em uma relação com outras variáveis\n",
        "df[\"preco_predito\"] = (\n",
        "    5000\n",
        "    + 30 * df[\"idade\"]\n",
        "    + 1.5 * df[\"renda_anual\"]\n",
        "    - 100 * df[\"anos_experiencia\"]\n",
        "    + 300 * df[\"possui_casa\"]\n",
        "    + np.random.normal(0, 5000, 2500)\n",
        ")\n",
        "\n",
        "df.head()"
      ]
    },
    {
      "cell_type": "markdown",
      "source": [
        "## Importar as bibliotecas necessárias\n"
      ],
      "metadata": {
        "id": "APlrnaHJyQM8"
      }
    },
    {
      "cell_type": "code",
      "source": [
        "from sklearn.model_selection import train_test_split\n",
        "from sklearn.linear_model import LinearRegression\n",
        "from sklearn.metrics import mean_absolute_error, mean_squared_error, r2_score\n"
      ],
      "metadata": {
        "id": "oWvVGZq6zHiZ"
      },
      "execution_count": null,
      "outputs": []
    },
    {
      "cell_type": "markdown",
      "source": [
        "## Pré-processamento dos Dados Selecionamos apenas as variáveis numéricas e dividimos o dataset"
      ],
      "metadata": {
        "id": "Nxe3PKPvzJPR"
      }
    },
    {
      "cell_type": "code",
      "source": [
        "# Seleção das variáveis numéricas\n",
        "X = df[[\"idade\", \"renda_anual\", \"anos_experiencia\", \"possui_casa\", \"gastos_mensais\"]]\n",
        "y = df[\"preco_predito\"]\n",
        "\n",
        "# Divisão em treino e teste\n",
        "X_train, X_test, y_train, y_test = train_test_split(X, y, test_size=0.3, random_state=42)\n"
      ],
      "metadata": {
        "id": "_ATEXUKXzNFV"
      },
      "execution_count": null,
      "outputs": []
    },
    {
      "cell_type": "markdown",
      "source": [
        "## Treinamento do Modelo"
      ],
      "metadata": {
        "id": "UcJV1RqrzTQe"
      }
    },
    {
      "cell_type": "code",
      "source": [
        "# Criação e treinamento do modelo\n",
        "modelo = LinearRegression()\n",
        "modelo.fit(X_train, y_train)\n"
      ],
      "metadata": {
        "id": "RQQmVJeqzUDF"
      },
      "execution_count": null,
      "outputs": []
    },
    {
      "cell_type": "markdown",
      "source": [
        "## Avaliação do Modelo"
      ],
      "metadata": {
        "id": "Rx2L55uKzYu7"
      }
    },
    {
      "cell_type": "code",
      "source": [
        "# Previsões nos dados de teste\n",
        "y_pred = modelo.predict(X_test)\n",
        "\n",
        "# Métricas de avaliação\n",
        "mae = mean_absolute_error(y_test, y_pred)\n",
        "mse = mean_squared_error(y_test, y_pred)\n",
        "rmse = np.sqrt(mse)\n",
        "r2 = r2_score(y_test, y_pred)\n",
        "\n",
        "print(f\"MAE: {mae}\")\n",
        "print(f\"MSE: {mse}\")\n",
        "print(f\"RMSE: {rmse}\")\n",
        "print(f\"R²: {r2}\")\n"
      ],
      "metadata": {
        "id": "qMeG6100zZpK"
      },
      "execution_count": null,
      "outputs": []
    },
    {
      "cell_type": "markdown",
      "source": [
        "## Interpretação e Visualização\n",
        "* Coeficientes do modelo de regressão"
      ],
      "metadata": {
        "id": "R03yXkwVzev_"
      }
    },
    {
      "cell_type": "code",
      "source": [
        "print(\"Coeficientes do Modelo:\", modelo.coef_)\n",
        "print(\"Intercepto:\", modelo.intercept_)\n"
      ],
      "metadata": {
        "id": "422BfVRJziPu"
      },
      "execution_count": null,
      "outputs": []
    },
    {
      "cell_type": "markdown",
      "source": [
        "* Visualização dos Resultados"
      ],
      "metadata": {
        "id": "sW6zMuzYzmTw"
      }
    },
    {
      "cell_type": "code",
      "source": [
        "import matplotlib.pyplot as plt\n",
        "\n",
        "# Plot do verdadeiro vs predito\n",
        "plt.scatter(y_test, y_pred)\n",
        "plt.xlabel(\"Valores Verdadeiros\")\n",
        "plt.ylabel(\"Valores Preditos\")\n",
        "plt.title(\"Verdadeiro vs Predito\")\n",
        "plt.show()\n"
      ],
      "metadata": {
        "id": "wznCdKifzoTx"
      },
      "execution_count": null,
      "outputs": []
    },
    {
      "cell_type": "markdown",
      "source": [
        "## Conclusão\n",
        "* Explicação dos coeficientes:\n",
        "    * Cada coeficiente indica o impacto de uma variável na variável-alvo (preco_predito).\n",
        "* Interpretação do R²:\n",
        "    * Percentual de variação da variável-alvo explicado pelas variáveis independentes.\n",
        "* Discussão sobre melhorias:\n",
        "    * Incluir mais variáveis explicativas.\n",
        "    * Testar modelos mais complexos como Random Forest Regressor."
      ],
      "metadata": {
        "id": "43RRiPg0zsqK"
      }
    },
    {
      "cell_type": "code",
      "source": [],
      "metadata": {
        "id": "U7I75QjLztvS"
      },
      "execution_count": null,
      "outputs": []
    }
  ]
}