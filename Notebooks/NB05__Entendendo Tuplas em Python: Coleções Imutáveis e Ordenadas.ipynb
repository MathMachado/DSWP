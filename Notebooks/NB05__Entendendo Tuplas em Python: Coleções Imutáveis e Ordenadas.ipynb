{
  "nbformat": 4,
  "nbformat_minor": 0,
  "metadata": {
    "colab": {
      "name": "NB05__Tuples.ipynb",
      "provenance": [],
      "collapsed_sections": [
        "n8BIbzQbNWUo",
        "7eS94uQ4NhVR",
        "SYOgJpGYVLUu",
        "CaHFxk98W5if",
        "ReWUyWiHXCnc",
        "CqszHxaKHr2h",
        "tXgF1Wl9gHKY",
        "Fotx7XUquAo8",
        "36kmLUYDvsUI",
        "SWO2GdNovxAp",
        "vpN54l4vxze5",
        "u4HOf9SNytSq",
        "6BQ9oZiD9hg5",
        "tz5-QdrX9vct",
        "p1muBgMX8NK4",
        "FxTC2-U88ajk",
        "z8EYn0pP25Rh"
      ],
      "include_colab_link": true
    },
    "kernelspec": {
      "name": "python3",
      "display_name": "Python 3"
    },
    "accelerator": "GPU"
  },
  "cells": [
    {
      "cell_type": "markdown",
      "metadata": {
        "id": "view-in-github",
        "colab_type": "text"
      },
      "source": [
        "<a href=\"https://colab.research.google.com/github/MathMachado/DSWP/blob/master/Notebooks/NB05__Entendendo%20Tuplas%20em%20Python%3A%20Cole%C3%A7%C3%B5es%20Imut%C3%A1veis%20e%20Ordenadas.ipynb\" target=\"_parent\"><img src=\"https://colab.research.google.com/assets/colab-badge.svg\" alt=\"Open In Colab\"/></a>"
      ]
    },
    {
      "cell_type": "markdown",
      "metadata": {
        "id": "d1EdJvYhni_g"
      },
      "source": [
        "<center><h1><b><i>Entendendo Tuplas em Python: Coleções Imutáveis e Ordenadas</i></b></h1></center>\n",
        "\n"
      ]
    },
    {
      "cell_type": "markdown",
      "metadata": {
        "id": "Utc9eO6wnoOg"
      },
      "source": [
        "# **AGENDA**\n",
        "\n",
        "> Neste vídeo, você vai mergulhar no conceito de tuplas em Python, um tipo de coleção ordenada e imutável que pode ser extremamente útil em diversas situações de programação. Abordaremos os seguintes tópicos:\n",
        "\n",
        "* O que são Tuplas? Compreenda a definição de tuplas como coleções ordenadas e imutáveis, e entenda o que significa imutabilidade no contexto de Python.\n",
        "\n",
        "* Sintaxe das Tuplas: Aprenda como criar tuplas utilizando parênteses () e explore exemplos práticos de tuplas no dia a dia.\n",
        "\n",
        "* Tuplas Permitem Itens Duplicados: Descubra como as tuplas podem conter itens duplicados e em que situações isso pode ser útil.\n",
        "\n",
        "* Tuplas vs. Listas: Entenda a principal diferença entre tuplas e listas — a imutabilidade das tuplas — e como isso influencia na escolha entre usar uma ou outra.\n",
        "\n",
        "* Vantagens de Utilizar Tuplas: Saiba quando é recomendável usar tuplas, especialmente quando se precisa de uma sequência de itens que não devem ser alterados, como os dias da semana ou os meses do ano.\n",
        "\n",
        "* Acessando e Desempacotando Tuplas: Veja como acessar elementos individuais em uma tupla e como desempacotar tuplas em variáveis separadas.\n",
        "\n",
        "* Operações com Tuplas: Explore as operações e métodos disponíveis para tuplas, como contar elementos e verificar a existência de um item.\n",
        "\n",
        "* Imutabilidade na Prática: Entenda os benefícios da imutabilidade para a segurança e integridade dos dados em seu programa.\n",
        "\n",
        "* Wrap Up: Faremos uma revisão dos principais conceitos aprendidos sobre tuplas e sua aplicação em Python.\n",
        "\n",
        "* Exercícios: Pratique o que aprendeu com exercícios que irão consolidar sua compreensão sobre tuplas e suas diferenças em relação a outros tipos de coleções.\n",
        "\n",
        "Este vídeo é essencial para quem deseja aprofundar seus conhecimentos em Python e aprender a utilizar tuplas de forma eficaz, aproveitando suas características únicas para escrever códigos mais robustos e eficientes.\n"
      ]
    },
    {
      "cell_type": "markdown",
      "metadata": {
        "id": "_PdrVJKo9sNb"
      },
      "source": [
        "___\n",
        "# **PYTHON TUPLES**\n",
        "\n",
        "* Tuples são uma coleção ordenada e imutável. Imutável significa que os itens não podem ser adicionados, removidos ou substituídos;\n",
        "* Tuples permite itens duplicados;\n",
        "\n",
        "* Os itens pertencentes às tuples estão envovidas por \"()\".\n",
        "\n",
        "* Qual a diferença entre tuples e listas?\n",
        "    * A principal diferença entre tuples e listas é que tuples são imutáveis.\n",
        "    \n",
        "* E qual a vantagem de se utilizar tuples?\n",
        "    * Se precisarmos de uma lista de itens que não podem ser alterados, então utilize tuples. Exemplo: dias da semana ou meses do ano."
      ]
    },
    {
      "cell_type": "markdown",
      "metadata": {
        "id": "co-8eezbJDhj"
      },
      "source": [
        "![PythonDataStructures](https://github.com/MathMachado/Materials/blob/master/PythonDataStructures.png?raw=true)"
      ]
    },
    {
      "cell_type": "markdown",
      "metadata": {
        "id": "eK1ivPVrDynM"
      },
      "source": [
        "## Exemplo 1"
      ]
    },
    {
      "cell_type": "code",
      "metadata": {
        "id": "k5cLE0vf__vS"
      },
      "source": [
        "t_dias_da_semana = ('Seg', 'Ter', 'Qua', 'Qui', 'Sex', 'Sab', 'Dom')"
      ],
      "execution_count": 1,
      "outputs": []
    },
    {
      "cell_type": "markdown",
      "metadata": {
        "id": "defsyAgfEudf"
      },
      "source": [
        "Mostra a tupla:"
      ]
    },
    {
      "cell_type": "code",
      "metadata": {
        "id": "otJasSywEwHE",
        "outputId": "0f245212-01d5-4695-9787-ecbe424c49d3",
        "colab": {
          "base_uri": "https://localhost:8080/"
        }
      },
      "source": [
        "t_dias_da_semana"
      ],
      "execution_count": 2,
      "outputs": [
        {
          "output_type": "execute_result",
          "data": {
            "text/plain": [
              "('Seg', 'Ter', 'Qua', 'Qui', 'Sex', 'Sab', 'Dom')"
            ]
          },
          "metadata": {},
          "execution_count": 2
        }
      ]
    },
    {
      "cell_type": "markdown",
      "metadata": {
        "id": "Ep8NqxPhEHSg"
      },
      "source": [
        "* Qual o tamanho da tupla t_dias_da_semana?"
      ]
    },
    {
      "cell_type": "code",
      "metadata": {
        "id": "cnGZnYkW__vW",
        "outputId": "62f81922-c871-4247-d7d1-9e29b3ee6b9c",
        "colab": {
          "base_uri": "https://localhost:8080/"
        }
      },
      "source": [
        "len(t_dias_da_semana)"
      ],
      "execution_count": 3,
      "outputs": [
        {
          "output_type": "execute_result",
          "data": {
            "text/plain": [
              "7"
            ]
          },
          "metadata": {},
          "execution_count": 3
        }
      ]
    },
    {
      "cell_type": "markdown",
      "metadata": {
        "id": "acJurJ2gHgBm"
      },
      "source": [
        "### Índices da tupla t_dias_da_semana:"
      ]
    },
    {
      "cell_type": "markdown",
      "metadata": {
        "id": "iZSg_cGZGntA"
      },
      "source": [
        "| Seg | Ter | Qua | Qui | Sex | Sab | Dom |\n",
        "|:----|:----|:----|:----|:----|:----|:----|\n",
        "| 0   | 1   | 2   | 3   | 4   | 5   | 6   |\n",
        "\n",
        "OU\n",
        "\n",
        "| Seg | Ter | Qua | Qui | Sex | Sab | Dom |\n",
        "|:----|:----|:----|:----|:----|:----|:----|\n",
        "| -7   | -6   | -5   | -4   | -3   | -2   | -1   |\n",
        "\n",
        "\n",
        "\n",
        "\n"
      ]
    },
    {
      "cell_type": "code",
      "metadata": {
        "id": "OgSW7cyyI0UQ",
        "outputId": "d26cacd9-63f7-4e11-9ffc-b781b31bcb3f",
        "colab": {
          "base_uri": "https://localhost:8080/",
          "height": 35
        }
      },
      "source": [
        "t_dias_da_semana[0]"
      ],
      "execution_count": 4,
      "outputs": [
        {
          "output_type": "execute_result",
          "data": {
            "text/plain": [
              "'Seg'"
            ],
            "application/vnd.google.colaboratory.intrinsic+json": {
              "type": "string"
            }
          },
          "metadata": {},
          "execution_count": 4
        }
      ]
    },
    {
      "cell_type": "code",
      "metadata": {
        "id": "rgzKFtbcI4Ju",
        "outputId": "ea3d022f-51a7-42c9-f0cf-2092a672ad25",
        "colab": {
          "base_uri": "https://localhost:8080/",
          "height": 35
        }
      },
      "source": [
        "t_dias_da_semana[-7]"
      ],
      "execution_count": 5,
      "outputs": [
        {
          "output_type": "execute_result",
          "data": {
            "text/plain": [
              "'Seg'"
            ],
            "application/vnd.google.colaboratory.intrinsic+json": {
              "type": "string"
            }
          },
          "metadata": {},
          "execution_count": 5
        }
      ]
    },
    {
      "cell_type": "markdown",
      "metadata": {
        "id": "UrDSDMifERD6"
      },
      "source": [
        "## Exemplo 2\n",
        "* A tupla pode ser 2-dimensões, assim como as listas."
      ]
    },
    {
      "cell_type": "code",
      "metadata": {
        "id": "wjru8E0H__vb"
      },
      "source": [
        "t_dias_da_semana2 = (('Seg', 1), ('Ter', 2), ('Qua', 3), ('Qui', 4), ('Sex', 5), ('Sab', 6), ('Dom', 7))"
      ],
      "execution_count": 6,
      "outputs": []
    },
    {
      "cell_type": "markdown",
      "metadata": {
        "id": "AmlYITKjEy-f"
      },
      "source": [
        "Mostra a tupla:"
      ]
    },
    {
      "cell_type": "code",
      "metadata": {
        "id": "FQHX_-dqE0w8",
        "outputId": "0b4a1624-1624-4953-90f7-52b341b59bbe",
        "colab": {
          "base_uri": "https://localhost:8080/"
        }
      },
      "source": [
        "t_dias_da_semana2"
      ],
      "execution_count": 7,
      "outputs": [
        {
          "output_type": "execute_result",
          "data": {
            "text/plain": [
              "(('Seg', 1),\n",
              " ('Ter', 2),\n",
              " ('Qua', 3),\n",
              " ('Qui', 4),\n",
              " ('Sex', 5),\n",
              " ('Sab', 6),\n",
              " ('Dom', 7))"
            ]
          },
          "metadata": {},
          "execution_count": 7
        }
      ]
    },
    {
      "cell_type": "markdown",
      "metadata": {
        "id": "FXn43WkNE3WI"
      },
      "source": [
        "Qual o tamanho da tupla t_dias_da_semana?"
      ]
    },
    {
      "cell_type": "code",
      "metadata": {
        "id": "XyHIz22DE6-H",
        "outputId": "7a469aaf-c42a-4ab2-c794-31efac026730",
        "colab": {
          "base_uri": "https://localhost:8080/"
        }
      },
      "source": [
        "len(t_dias_da_semana2)"
      ],
      "execution_count": 8,
      "outputs": [
        {
          "output_type": "execute_result",
          "data": {
            "text/plain": [
              "7"
            ]
          },
          "metadata": {},
          "execution_count": 8
        }
      ]
    },
    {
      "cell_type": "markdown",
      "metadata": {
        "id": "4GKfdPgcE-Yp"
      },
      "source": [
        "Você esperava que a tupla t_dias_da_semana2 tivesse mais itens?\n",
        "\n",
        "Se sim, basta ver, por exemplo, que ('Seg', 1) é um item da tupla. Desta forma, ('Ter', 2) é outro item da tupla e assim por diante."
      ]
    },
    {
      "cell_type": "markdown",
      "metadata": {
        "id": "xpVuVzDlHzkS"
      },
      "source": [
        "### Índices da tupla t_dias_da_semana2:"
      ]
    },
    {
      "cell_type": "markdown",
      "metadata": {
        "id": "jYTNBIXqH2gp"
      },
      "source": [
        "| ('Seg', 1) | ('Ter', 2) | ('Qua', 3) | ('Qui', 4) | ('Sex', 5) | ('Sab', 6) | ('Dom', 7) |\n",
        "|:----|:----|:----|:----|:----|:----|:----|\n",
        "| 0   | 1   | 2   | 3   | 4   | 5   | 6   |"
      ]
    },
    {
      "cell_type": "markdown",
      "metadata": {
        "id": "Drc8q_QRFVri"
      },
      "source": [
        "Qual o conteúdo da posição 0?"
      ]
    },
    {
      "cell_type": "code",
      "metadata": {
        "id": "Nub63NkcFayt",
        "outputId": "2f9ed952-dee0-4a53-a32e-94a994d2f108",
        "colab": {
          "base_uri": "https://localhost:8080/"
        }
      },
      "source": [
        "t_dias_da_semana2[0]"
      ],
      "execution_count": 9,
      "outputs": [
        {
          "output_type": "execute_result",
          "data": {
            "text/plain": [
              "('Seg', 1)"
            ]
          },
          "metadata": {},
          "execution_count": 9
        }
      ]
    },
    {
      "cell_type": "markdown",
      "metadata": {
        "id": "wLvjF26KFhAB"
      },
      "source": [
        "Portanto, use o índice para acessar os itens. Lembre-se, entretanto, que os índices em Python começam em 0."
      ]
    },
    {
      "cell_type": "markdown",
      "metadata": {
        "id": "4WsBRODC__vn"
      },
      "source": [
        "___\n",
        "# **MÉTODOS BÁSICOS**"
      ]
    },
    {
      "cell_type": "markdown",
      "metadata": {
        "id": "cgpYmDbhF-wy"
      },
      "source": [
        "## t_tupla.index()"
      ]
    },
    {
      "cell_type": "markdown",
      "metadata": {
        "id": "NBFpLUpKJ0et"
      },
      "source": [
        "O item 'Seg' da tupla t_dias_da_semana está na posição:"
      ]
    },
    {
      "cell_type": "code",
      "metadata": {
        "id": "YiETF2NR__vn",
        "outputId": "5e75e7c1-6cb8-48a9-bdb4-8b8f7dd1a050",
        "colab": {
          "base_uri": "https://localhost:8080/"
        }
      },
      "source": [
        "t_dias_da_semana.index('Seg')"
      ],
      "execution_count": 10,
      "outputs": [
        {
          "output_type": "execute_result",
          "data": {
            "text/plain": [
              "0"
            ]
          },
          "metadata": {},
          "execution_count": 10
        }
      ]
    },
    {
      "cell_type": "markdown",
      "metadata": {
        "id": "xk48TX0ZJ6VM"
      },
      "source": [
        "Da mesma forma, o item 'Dom' está na posição:"
      ]
    },
    {
      "cell_type": "code",
      "metadata": {
        "id": "TROs5CtUKDo3",
        "outputId": "e6bea1dc-d319-4232-f053-ddb186e15ca4",
        "colab": {
          "base_uri": "https://localhost:8080/"
        }
      },
      "source": [
        "t_dias_da_semana.index('Dom')"
      ],
      "execution_count": 11,
      "outputs": [
        {
          "output_type": "execute_result",
          "data": {
            "text/plain": [
              "6"
            ]
          },
          "metadata": {},
          "execution_count": 11
        }
      ]
    },
    {
      "cell_type": "code",
      "source": [
        "t_dias_da_semana.index('XPTO')"
      ],
      "metadata": {
        "id": "U1eyt3JJWSqi",
        "outputId": "0d907e01-5595-4b65-84a3-1a60e8933fe2",
        "colab": {
          "base_uri": "https://localhost:8080/",
          "height": 144
        }
      },
      "execution_count": 12,
      "outputs": [
        {
          "output_type": "error",
          "ename": "ValueError",
          "evalue": "tuple.index(x): x not in tuple",
          "traceback": [
            "\u001b[0;31m---------------------------------------------------------------------------\u001b[0m",
            "\u001b[0;31mValueError\u001b[0m                                Traceback (most recent call last)",
            "\u001b[0;32m<ipython-input-12-d54556ae5a26>\u001b[0m in \u001b[0;36m<cell line: 1>\u001b[0;34m()\u001b[0m\n\u001b[0;32m----> 1\u001b[0;31m \u001b[0mt_dias_da_semana\u001b[0m\u001b[0;34m.\u001b[0m\u001b[0mindex\u001b[0m\u001b[0;34m(\u001b[0m\u001b[0;34m'XPTO'\u001b[0m\u001b[0;34m)\u001b[0m\u001b[0;34m\u001b[0m\u001b[0;34m\u001b[0m\u001b[0m\n\u001b[0m",
            "\u001b[0;31mValueError\u001b[0m: tuple.index(x): x not in tuple"
          ]
        }
      ]
    },
    {
      "cell_type": "markdown",
      "metadata": {
        "id": "6_sT6VEC__vx"
      },
      "source": [
        "## Imutabilidade\n",
        "* Para demonstrar esta propriedade, vamos atribuir ao index 0 o item 'XPTO':"
      ]
    },
    {
      "cell_type": "code",
      "source": [
        "t_dias_da_semana"
      ],
      "metadata": {
        "id": "dY9A-cUsWaqB",
        "outputId": "a59cfcbc-6ee9-4803-8d1c-1687cb363bb7",
        "colab": {
          "base_uri": "https://localhost:8080/"
        }
      },
      "execution_count": 13,
      "outputs": [
        {
          "output_type": "execute_result",
          "data": {
            "text/plain": [
              "('Seg', 'Ter', 'Qua', 'Qui', 'Sex', 'Sab', 'Dom')"
            ]
          },
          "metadata": {},
          "execution_count": 13
        }
      ]
    },
    {
      "cell_type": "code",
      "metadata": {
        "id": "z2t7mXkHKVyM",
        "outputId": "b4ac8786-536f-416e-ef76-a3d41eaa0997",
        "colab": {
          "base_uri": "https://localhost:8080/",
          "height": 144
        }
      },
      "source": [
        "t_dias_da_semana[0] = 'XPTO'"
      ],
      "execution_count": 14,
      "outputs": [
        {
          "output_type": "error",
          "ename": "TypeError",
          "evalue": "'tuple' object does not support item assignment",
          "traceback": [
            "\u001b[0;31m---------------------------------------------------------------------------\u001b[0m",
            "\u001b[0;31mTypeError\u001b[0m                                 Traceback (most recent call last)",
            "\u001b[0;32m<ipython-input-14-4f8fead37b99>\u001b[0m in \u001b[0;36m<cell line: 1>\u001b[0;34m()\u001b[0m\n\u001b[0;32m----> 1\u001b[0;31m \u001b[0mt_dias_da_semana\u001b[0m\u001b[0;34m[\u001b[0m\u001b[0;36m0\u001b[0m\u001b[0;34m]\u001b[0m \u001b[0;34m=\u001b[0m \u001b[0;34m'XPTO'\u001b[0m\u001b[0;34m\u001b[0m\u001b[0;34m\u001b[0m\u001b[0m\n\u001b[0m",
            "\u001b[0;31mTypeError\u001b[0m: 'tuple' object does not support item assignment"
          ]
        }
      ]
    },
    {
      "cell_type": "markdown",
      "metadata": {
        "id": "fsfkVUrkKbhl"
      },
      "source": [
        "Erro! Estávamos a espera desse erro, pois, como dissemos, tuples são imutáveis!"
      ]
    },
    {
      "cell_type": "markdown",
      "metadata": {
        "id": "hsMfF2ew__v1"
      },
      "source": [
        "Por causa da propriedade da Imutabilidade, tente acrescentar mais itens á tupla."
      ]
    },
    {
      "cell_type": "code",
      "metadata": {
        "id": "p5568lTK__v2",
        "outputId": "25092147-c61e-416e-d44f-4cc7d55bd287",
        "colab": {
          "base_uri": "https://localhost:8080/",
          "height": 144
        }
      },
      "source": [
        "t_dias_da_semana.append('XPTO')"
      ],
      "execution_count": 15,
      "outputs": [
        {
          "output_type": "error",
          "ename": "AttributeError",
          "evalue": "'tuple' object has no attribute 'append'",
          "traceback": [
            "\u001b[0;31m---------------------------------------------------------------------------\u001b[0m",
            "\u001b[0;31mAttributeError\u001b[0m                            Traceback (most recent call last)",
            "\u001b[0;32m<ipython-input-15-96a32785ce9e>\u001b[0m in \u001b[0;36m<cell line: 1>\u001b[0;34m()\u001b[0m\n\u001b[0;32m----> 1\u001b[0;31m \u001b[0mt_dias_da_semana\u001b[0m\u001b[0;34m.\u001b[0m\u001b[0mappend\u001b[0m\u001b[0;34m(\u001b[0m\u001b[0;34m'XPTO'\u001b[0m\u001b[0;34m)\u001b[0m\u001b[0;34m\u001b[0m\u001b[0;34m\u001b[0m\u001b[0m\n\u001b[0m",
            "\u001b[0;31mAttributeError\u001b[0m: 'tuple' object has no attribute 'append'"
          ]
        }
      ]
    },
    {
      "cell_type": "markdown",
      "metadata": {
        "id": "qGTHM6SMhCQr"
      },
      "source": [
        "___\n",
        "# **EXERCÍCIOS**\n",
        "\n",
        "Esses exercícios irão ajudá-lo a praticar e consolidar sua compreensão sobre **tuplas em Python**, explorando sua criação, manipulação (dentro dos limites da imutabilidade) e diferenças em relação a outros tipos de coleções. Boa prática!\n",
        "\n",
        "---\n",
        "\n",
        "## **1. Criando e Acessando Tuplas**\n",
        "\n",
        "**Descrição:**\n",
        "\n",
        "Crie uma tupla chamada `dias_da_semana` que contenha os sete dias da semana, começando por \"Domingo\". Em seguida, exiba:\n",
        "\n",
        "- O primeiro dia da semana.\n",
        "- O último dia da semana.\n",
        "- Todos os dias da semana.\n",
        "\n",
        "**Dicas:**\n",
        "\n",
        "- Lembre-se de que a indexação em Python começa em 0.\n",
        "- Use a indexação negativa para acessar o último elemento.\n",
        "\n",
        "---\n",
        "\n",
        "## **2. Imutabilidade das Tuplas**\n",
        "\n",
        "**Descrição:**\n",
        "\n",
        "Tente modificar o segundo elemento da tupla `meses_do_ano`, que contém os nomes dos 12 meses. Observe o que acontece e explique por que ocorre esse comportamento.\n",
        "\n",
        "```python\n",
        "meses_do_ano = (\"Janeiro\", \"Fevereiro\", \"Março\", \"Abril\", \"Maio\", \"Junho\",\n",
        "                \"Julho\", \"Agosto\", \"Setembro\", \"Outubro\", \"Novembro\", \"Dezembro\")\n",
        "```\n",
        "\n",
        "**Dicas:**\n",
        "\n",
        "- Tente executar `meses_do_ano[1] = \"Fev\"`.\n",
        "- Observe a mensagem de erro que o Python retorna.\n",
        "- Lembre-se de que tuplas são imutáveis.\n",
        "\n",
        "---\n",
        "\n",
        "## **3. Desempacotando Tuplas**\n",
        "\n",
        "**Descrição:**\n",
        "\n",
        "Dada a tupla `coordenadas = (10, 20, 30)`, desempacote os valores em variáveis individuais `x`, `y`, `z` e exiba seus valores.\n",
        "\n",
        "**Dicas:**\n",
        "\n",
        "- Use a sintaxe `x, y, z = coordenadas`.\n",
        "- Certifique-se de que o número de variáveis corresponde ao número de elementos na tupla.\n",
        "\n",
        "---\n",
        "\n",
        "## **4. Verificando a Existência de um Item**\n",
        "\n",
        "**Descrição:**\n",
        "\n",
        "Crie uma tupla com os números de 1 a 5. Escreva um programa que verifique se o número 3 está na tupla e exiba uma mensagem informando o resultado.\n",
        "\n",
        "**Dicas:**\n",
        "\n",
        "- Utilize o operador `in` para verificar a existência.\n",
        "- Estruturas condicionais podem ajudar a exibir mensagens apropriadas.\n",
        "\n",
        "---\n",
        "\n",
        "## **5. Concatenando Tuplas**\n",
        "\n",
        "**Descrição:**\n",
        "\n",
        "Crie duas tuplas:\n",
        "\n",
        "- `vogais = ('a', 'e', 'i')`\n",
        "- `vogais_restantes = ('o', 'u')`\n",
        "\n",
        "Em seguida, concatene as duas tuplas em uma nova tupla chamada `todas_vogais` e exiba o resultado.\n",
        "\n",
        "**Dicas:**\n",
        "\n",
        "- Use o operador `+` para concatenar tuplas.\n",
        "\n",
        "---\n",
        "\n",
        "## **6. Contando Ocorrências em Tuplas**\n",
        "\n",
        "**Descrição:**\n",
        "\n",
        "Dada a tupla `numeros = (1, 2, 3, 2, 4, 2, 5)`, conte quantas vezes o número 2 aparece na tupla.\n",
        "\n",
        "**Dicas:**\n",
        "\n",
        "- Utilize o método `.count(valor)` disponível para tuplas.\n",
        "\n",
        "---\n",
        "\n",
        "## **7. Índice de um Item na Tupla**\n",
        "\n",
        "**Descrição:**\n",
        "\n",
        "Com a mesma tupla do exercício anterior, `numeros`, encontre o índice da primeira ocorrência do número 4.\n",
        "\n",
        "**Dicas:**\n",
        "\n",
        "- Use o método `.index(valor)` para encontrar o índice.\n",
        "\n",
        "---\n",
        "\n",
        "## **8. Fatiamento de Tuplas**\n",
        "\n",
        "**Descrição:**\n",
        "\n",
        "Utilize a tupla `alfabeto = ('A', 'B', 'C', 'D', 'E', 'F', 'G', 'H', 'I', 'J')` e obtenha:\n",
        "\n",
        "- Uma subtupla com os primeiros 5 elementos.\n",
        "- Uma subtupla com os últimos 3 elementos.\n",
        "- Uma subtupla com elementos do índice 2 ao 6 (inclusive).\n",
        "\n",
        "**Dicas:**\n",
        "\n",
        "- Use a sintaxe de fatiamento `tupla[inicio:fim]`.\n",
        "- Lembre-se de que o índice final não é incluído no fatiamento.\n",
        "\n",
        "---\n",
        "\n",
        "## **9. Tuplas com Um Único Elemento**\n",
        "\n",
        "**Descrição:**\n",
        "\n",
        "Crie uma tupla chamada `unico_elemento` que contenha apenas o número 50. Verifique o tipo da variável para garantir que é uma tupla.\n",
        "\n",
        "**Dicas:**\n",
        "\n",
        "- Para criar uma tupla com um único elemento, é necessário adicionar uma vírgula após o elemento: `(50,)`.\n",
        "- Use a função `type()` para verificar o tipo.\n",
        "\n",
        "---\n",
        "\n",
        "## **10. Convertendo Lista em Tupla e Vice-Versa**\n",
        "\n",
        "**Descrição:**\n",
        "\n",
        "Dada a lista `frutas_lista = ['maçã', 'banana', 'laranja']`, converta-a em uma tupla chamada `frutas_tupla`. Em seguida, converta a tupla de volta em uma lista chamada `nova_lista`.\n",
        "\n",
        "**Dicas:**\n",
        "\n",
        "- Use a função `tuple(lista)` para converter uma lista em tupla.\n",
        "- Use a função `list(tupla)` para converter uma tupla em lista.\n",
        "\n",
        "---"
      ]
    },
    {
      "cell_type": "markdown",
      "metadata": {
        "id": "fWRzu5HIhE3w"
      },
      "source": [
        "## Exercício 11\n",
        "* É possível sortear os itens de uma tupla? Explique sua resposta."
      ]
    },
    {
      "cell_type": "markdown",
      "metadata": {
        "id": "-lfXWurbvq30"
      },
      "source": [
        "## Exercício 12\n",
        "Consulte a página [Python Data Types: Tuple - Exercises, Practice, Solution](https://www.w3resource.com/python-exercises/tuple/) para mais exercícios relacionados á tuples."
      ]
    },
    {
      "cell_type": "code",
      "metadata": {
        "id": "Rc2IxuhQv0z-"
      },
      "source": [],
      "execution_count": null,
      "outputs": []
    }
  ]
}