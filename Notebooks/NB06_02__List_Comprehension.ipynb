{
  "nbformat": 4,
  "nbformat_minor": 0,
  "metadata": {
    "colab": {
      "name": "NB06_02__List_Comprehension.ipynb",
      "provenance": [],
      "collapsed_sections": [
        "n8BIbzQbNWUo",
        "7eS94uQ4NhVR",
        "SYOgJpGYVLUu",
        "CaHFxk98W5if",
        "ReWUyWiHXCnc",
        "CqszHxaKHr2h",
        "tXgF1Wl9gHKY",
        "Fotx7XUquAo8",
        "36kmLUYDvsUI",
        "SWO2GdNovxAp",
        "vpN54l4vxze5",
        "u4HOf9SNytSq",
        "6BQ9oZiD9hg5",
        "tz5-QdrX9vct",
        "p1muBgMX8NK4",
        "FxTC2-U88ajk",
        "z8EYn0pP25Rh"
      ],
      "include_colab_link": true
    },
    "kernelspec": {
      "name": "python3",
      "display_name": "Python 3"
    },
    "accelerator": "GPU"
  },
  "cells": [
    {
      "cell_type": "markdown",
      "metadata": {
        "id": "view-in-github",
        "colab_type": "text"
      },
      "source": [
        "<a href=\"https://colab.research.google.com/github/MathMachado/DSWP/blob/master/Notebooks/NB06_02__List_Comprehension.ipynb\" target=\"_parent\"><img src=\"https://colab.research.google.com/assets/colab-badge.svg\" alt=\"Open In Colab\"/></a>"
      ]
    },
    {
      "cell_type": "markdown",
      "metadata": {
        "id": "jLSzP5EAp5yg"
      },
      "source": [
        "<center><h1><b><i>LIST COMPREHENSION</i></b></h1></center>\n",
        "\n"
      ]
    },
    {
      "cell_type": "markdown",
      "metadata": {
        "id": "MLkrnzfgqBJ1"
      },
      "source": [
        "# **AGENDA**\n",
        "> Veja o **índice** dos itens que serão abordados neste capítulo."
      ]
    },
    {
      "cell_type": "markdown",
      "metadata": {
        "id": "N4_El-IiZHAF"
      },
      "source": [
        "# Melhorias desta sessão:\n",
        "* Apresentar mais exemplos do uso de List Comprehensions;"
      ]
    },
    {
      "cell_type": "markdown",
      "metadata": {
        "id": "7SSGTGbqDc_Z"
      },
      "source": [
        "___\n",
        "# **VAMOS RELEMBRAR O QUE É UMA LIST**\n",
        "\n",
        "* List - Coleção ordenada e mutável de itens. \n",
        "* Permite itens duplicados;\n",
        "* List são representados por \"[ ]\".\n",
        "\n",
        "> Se você tem alguma dúvida sobre como gerar números aleatórios, sugiro voltar ao capítulo [Statistics and Probability](./Statistics%20and%20Probability.ipynb)."
      ]
    },
    {
      "cell_type": "markdown",
      "metadata": {
        "id": "ZEy4k9MZJZQ8"
      },
      "source": [
        "![PythonDataStructures](https://github.com/MathMachado/Materials/blob/master/PythonDataStructures.png?raw=true)"
      ]
    },
    {
      "cell_type": "markdown",
      "metadata": {
        "id": "iDzA-iCmB_ft"
      },
      "source": [
        "___\n",
        "# **LIST COMPREHENSION**\n",
        "\n",
        "Sintaxe básica:\n",
        "```\n",
        "[ expression for item in list if conditional ]\n",
        "```\n",
        "\n",
        "que é equivalente a:\n",
        "```\n",
        "for item in list:\n",
        "    if conditional:\n",
        "        expression\n",
        "```"
      ]
    },
    {
      "cell_type": "markdown",
      "metadata": {
        "id": "uXhcbFzvPi92"
      },
      "source": [
        "## Exemplo 1\n",
        "* Gerar números aleatórios usando List Comprehension."
      ]
    },
    {
      "cell_type": "code",
      "metadata": {
        "id": "5uFNe0xlK27U"
      },
      "source": [
        "import numpy as np\n",
        "\n",
        "l_numeros = []\n",
        "\n",
        "for i_numero in range(5):\n",
        "    np.random.seed(i_numero)\n",
        "    l_numeros.append(np.random.randint(0, 10))"
      ],
      "execution_count": null,
      "outputs": []
    },
    {
      "cell_type": "code",
      "metadata": {
        "id": "bNvMDU8GLVsp",
        "outputId": "7f8f2f47-009a-4e17-b8a0-f36ad8219355",
        "colab": {
          "base_uri": "https://localhost:8080/",
          "height": 34
        }
      },
      "source": [
        "l_numeros"
      ],
      "execution_count": null,
      "outputs": [
        {
          "output_type": "execute_result",
          "data": {
            "text/plain": [
              "[5, 5, 8, 8, 7]"
            ]
          },
          "metadata": {
            "tags": []
          },
          "execution_count": 3
        }
      ]
    },
    {
      "cell_type": "code",
      "metadata": {
        "id": "cnB2eYigFq3o"
      },
      "source": [
        "import numpy as np\n",
        "\n",
        "np.random.seed(20111974)\n",
        "l_numeros = [np.random.randint(0, 10) for _ in range(5)]"
      ],
      "execution_count": null,
      "outputs": []
    },
    {
      "cell_type": "code",
      "metadata": {
        "id": "giOtZF37MeIv",
        "outputId": "d5894cc4-ba0a-40f0-a47f-3c307c15c6e7",
        "colab": {
          "base_uri": "https://localhost:8080/",
          "height": 34
        }
      },
      "source": [
        "l_numeros"
      ],
      "execution_count": null,
      "outputs": [
        {
          "output_type": "execute_result",
          "data": {
            "text/plain": [
              "[8, 8, 2, 8, 9]"
            ]
          },
          "metadata": {
            "tags": []
          },
          "execution_count": 7
        }
      ]
    },
    {
      "cell_type": "markdown",
      "metadata": {
        "id": "YM8RdnC_PsDy"
      },
      "source": [
        "## Exemplo 2"
      ]
    },
    {
      "cell_type": "code",
      "metadata": {
        "id": "tANHZTvzP0JT",
        "outputId": "689fd6d1-9578-4087-e80b-cc8714856916",
        "colab": {
          "base_uri": "https://localhost:8080/",
          "height": 34
        }
      },
      "source": [
        "l_numeros = [1, 2, 3, 4]\n",
        "l_quadrado = []\n",
        "\n",
        "for n in l_numeros:\n",
        "    l_quadrado.append(n**2)\n",
        "\n",
        "print(l_quadrado)"
      ],
      "execution_count": null,
      "outputs": [
        {
          "output_type": "stream",
          "text": [
            "[1, 4, 9, 16]\n"
          ],
          "name": "stdout"
        }
      ]
    },
    {
      "cell_type": "markdown",
      "metadata": {
        "id": "pzbO6CtYQC7a"
      },
      "source": [
        "Solução usando List Comprehension:"
      ]
    },
    {
      "cell_type": "code",
      "metadata": {
        "id": "V-tyEngVP8wn",
        "outputId": "91bc28c9-87ac-41c0-9d6f-9dec8423d697",
        "colab": {
          "base_uri": "https://localhost:8080/",
          "height": 34
        }
      },
      "source": [
        "l_numeros = [1, 2, 3, 4]\n",
        "l_quadrado = [n**2 for n in l_numeros]\n",
        "\n",
        "print(l_quadrado)"
      ],
      "execution_count": null,
      "outputs": [
        {
          "output_type": "stream",
          "text": [
            "[1, 4, 9, 16]\n"
          ],
          "name": "stdout"
        }
      ]
    },
    {
      "cell_type": "markdown",
      "metadata": {
        "id": "u4VBevzNQlGU"
      },
      "source": [
        "## Exemplo 3\n",
        "* Encontrar númros comuns em duas listas."
      ]
    },
    {
      "cell_type": "code",
      "metadata": {
        "id": "0BnX7yZGQv-O",
        "outputId": "cdadf2c0-d248-45b7-fa93-bc69484995f8",
        "colab": {
          "base_uri": "https://localhost:8080/",
          "height": 34
        }
      },
      "source": [
        "l_numeros1 = [1, 2, 3, 4]\n",
        "l_numeros2 = [2, 3, 4, 5]\n",
        "l_Comum = []\n",
        "\n",
        "for x in l_numeros1:\n",
        "    for y in l_numeros2:\n",
        "        if x == y:\n",
        "            l_Comum.append(x)\n",
        "      \n",
        "print(l_Comum)"
      ],
      "execution_count": null,
      "outputs": [
        {
          "output_type": "stream",
          "text": [
            "[2, 3, 4]\n"
          ],
          "name": "stdout"
        }
      ]
    },
    {
      "cell_type": "markdown",
      "metadata": {
        "id": "VFewu6qrQw_a"
      },
      "source": [
        "Solução usando List Comprehension..."
      ]
    },
    {
      "cell_type": "code",
      "metadata": {
        "id": "mNt-OixCQ1Bg",
        "outputId": "f187556a-184d-4f15-e94c-ee4d0ddf99a9",
        "colab": {
          "base_uri": "https://localhost:8080/",
          "height": 34
        }
      },
      "source": [
        "l_numeros1 = [1, 2, 3, 4]\n",
        "l_numeros2 = [2, 3, 4, 5]\n",
        "\n",
        "l_Comum = [x for x in l_numeros1 for y in l_numeros2 if x == y]\n",
        "print(l_Comum)"
      ],
      "execution_count": null,
      "outputs": [
        {
          "output_type": "stream",
          "text": [
            "[2, 3, 4]\n"
          ],
          "name": "stdout"
        }
      ]
    },
    {
      "cell_type": "markdown",
      "metadata": {
        "id": "wsnSnzZU3atv"
      },
      "source": [
        "## Exemplo 4"
      ]
    },
    {
      "cell_type": "code",
      "metadata": {
        "id": "pnzLAJ4v3e1g"
      },
      "source": [
        "s_frase = 'Isto é um objeto do tipo string!'\n",
        "l_letras = [x for x in s_frase]"
      ],
      "execution_count": null,
      "outputs": []
    },
    {
      "cell_type": "code",
      "metadata": {
        "id": "BVUy-6so3uOM",
        "outputId": "9e92bcf0-63dd-4ad8-b16c-447d074d2cd1",
        "colab": {
          "base_uri": "https://localhost:8080/",
          "height": 554
        }
      },
      "source": [
        "l_letras"
      ],
      "execution_count": null,
      "outputs": [
        {
          "output_type": "execute_result",
          "data": {
            "text/plain": [
              "['I',\n",
              " 's',\n",
              " 't',\n",
              " 'o',\n",
              " ' ',\n",
              " 'é',\n",
              " ' ',\n",
              " 'u',\n",
              " 'm',\n",
              " ' ',\n",
              " 'o',\n",
              " 'b',\n",
              " 'j',\n",
              " 'e',\n",
              " 't',\n",
              " 'o',\n",
              " ' ',\n",
              " 'd',\n",
              " 'o',\n",
              " ' ',\n",
              " 't',\n",
              " 'i',\n",
              " 'p',\n",
              " 'o',\n",
              " ' ',\n",
              " 's',\n",
              " 't',\n",
              " 'r',\n",
              " 'i',\n",
              " 'n',\n",
              " 'g',\n",
              " '!']"
            ]
          },
          "metadata": {
            "tags": []
          },
          "execution_count": 10
        }
      ]
    },
    {
      "cell_type": "markdown",
      "metadata": {
        "id": "qsuwg7nr31iu"
      },
      "source": [
        "## Exemplo 5"
      ]
    },
    {
      "cell_type": "code",
      "metadata": {
        "id": "s28yndG0322D",
        "outputId": "1ed51d7e-f3a5-402c-d996-e23fea953e72",
        "colab": {
          "base_uri": "https://localhost:8080/",
          "height": 34
        }
      },
      "source": [
        "l_numeros = [i_numero for i_numero in range(20)]\n",
        "l_numeros"
      ],
      "execution_count": 1,
      "outputs": [
        {
          "output_type": "execute_result",
          "data": {
            "text/plain": [
              "[0, 1, 2, 3, 4, 5, 6, 7, 8, 9, 10, 11, 12, 13, 14, 15, 16, 17, 18, 19]"
            ]
          },
          "metadata": {
            "tags": []
          },
          "execution_count": 1
        }
      ]
    },
    {
      "cell_type": "markdown",
      "metadata": {
        "id": "XuVbQnC84IL9"
      },
      "source": [
        "## Exemplo 6"
      ]
    },
    {
      "cell_type": "code",
      "metadata": {
        "id": "KEWLQv_I4JvD",
        "outputId": "ab266fc1-11eb-40d2-ef70-7d84fbeee3a3",
        "colab": {
          "base_uri": "https://localhost:8080/",
          "height": 353
        }
      },
      "source": [
        "l_numeros = [i_numero ** 2 for i_numero in range(20)]\n",
        "l_numeros"
      ],
      "execution_count": null,
      "outputs": [
        {
          "output_type": "execute_result",
          "data": {
            "text/plain": [
              "[0,\n",
              " 1,\n",
              " 4,\n",
              " 9,\n",
              " 16,\n",
              " 25,\n",
              " 36,\n",
              " 49,\n",
              " 64,\n",
              " 81,\n",
              " 100,\n",
              " 121,\n",
              " 144,\n",
              " 169,\n",
              " 196,\n",
              " 225,\n",
              " 256,\n",
              " 289,\n",
              " 324,\n",
              " 361]"
            ]
          },
          "metadata": {
            "tags": []
          },
          "execution_count": 12
        }
      ]
    },
    {
      "cell_type": "markdown",
      "metadata": {
        "id": "rueqk-mK5HNT"
      },
      "source": [
        "## Exemplo 7"
      ]
    },
    {
      "cell_type": "code",
      "metadata": {
        "id": "XRzL0rJE5GQL",
        "outputId": "0a9639a1-4979-4eb0-b892-82bb61deb333",
        "colab": {
          "base_uri": "https://localhost:8080/",
          "height": 34
        }
      },
      "source": [
        "l_numeros = [i_numero ** 2 for i_numero in range(20) if i_numero % 2 == 0]\n",
        "l_numeros"
      ],
      "execution_count": null,
      "outputs": [
        {
          "output_type": "execute_result",
          "data": {
            "text/plain": [
              "[0, 4, 16, 36, 64, 100, 144, 196, 256, 324]"
            ]
          },
          "metadata": {
            "tags": []
          },
          "execution_count": 13
        }
      ]
    },
    {
      "cell_type": "markdown",
      "metadata": {
        "id": "AAlINcEt5RYg"
      },
      "source": [
        "Qual o significado de x%2 == 0 ?"
      ]
    },
    {
      "cell_type": "markdown",
      "metadata": {
        "id": "yxuzICQz5cZk"
      },
      "source": [
        "## Exemplo 8\n",
        "> Transformação de temperaturas de farenheit para Celsius.\n",
        "\n",
        "Fonte: [How to Convert Fahrenheit to Celsius](https://www.thoughtco.com/fahrenheit-to-celsius-formula-609230)\n"
      ]
    },
    {
      "cell_type": "code",
      "metadata": {
        "id": "ErZoaMpe5mgE",
        "outputId": "97745ea1-75ee-49da-e33f-dfd052cab4b1",
        "colab": {
          "base_uri": "https://localhost:8080/",
          "height": 34
        }
      },
      "source": [
        "import numpy as np\n",
        "\n",
        "np.printoptions(precision = 2)\n",
        "\n",
        "np.random.seed(20111974)\n",
        "l_temperatura_fahrenheit = [np.random.randint(10, 80, 10)]\n",
        "l_temperatura_fahrenheit"
      ],
      "execution_count": null,
      "outputs": [
        {
          "output_type": "execute_result",
          "data": {
            "text/plain": [
              "[array([70, 52, 50, 18, 37, 12, 56, 23, 40, 73])]"
            ]
          },
          "metadata": {
            "tags": []
          },
          "execution_count": 11
        }
      ]
    },
    {
      "cell_type": "code",
      "metadata": {
        "id": "MetowzHE5fYS",
        "outputId": "25b50020-04e1-4fc2-b670-a43626e2c3b4",
        "colab": {
          "base_uri": "https://localhost:8080/",
          "height": 67
        }
      },
      "source": [
        "l_temperatura_celsius = [(x - 32)*(5/9) for x in l_temperatura_fahrenheit]\n",
        "l_temperatura_celsius"
      ],
      "execution_count": null,
      "outputs": [
        {
          "output_type": "execute_result",
          "data": {
            "text/plain": [
              "[array([ 21.11111111,  11.11111111,  10.        ,  -7.77777778,\n",
              "          2.77777778, -11.11111111,  13.33333333,  -5.        ,\n",
              "          4.44444444,  22.77777778])]"
            ]
          },
          "metadata": {
            "tags": []
          },
          "execution_count": 12
        }
      ]
    },
    {
      "cell_type": "markdown",
      "metadata": {
        "id": "gg6YSxsp8KlE"
      },
      "source": [
        "## Exemplo 9"
      ]
    },
    {
      "cell_type": "code",
      "metadata": {
        "id": "YDCkqroY8MEu",
        "outputId": "2f1505c3-79a4-4c0f-b3f9-a773dee6ac7e",
        "colab": {
          "base_uri": "https://localhost:8080/",
          "height": 437
        }
      },
      "source": [
        "l_numero1 = [0, 1, 2, 3, 4, 5]\n",
        "l_Num2= [5, 4, 3, 2, 1, 0]\n",
        "\n",
        "l_multiplicacao = [x*y for x in l_numero1 for y in l_Num2 if x != 0 and y != 0]\n",
        "l_multiplicacao"
      ],
      "execution_count": null,
      "outputs": [
        {
          "output_type": "execute_result",
          "data": {
            "text/plain": [
              "[5,\n",
              " 4,\n",
              " 3,\n",
              " 2,\n",
              " 1,\n",
              " 10,\n",
              " 8,\n",
              " 6,\n",
              " 4,\n",
              " 2,\n",
              " 15,\n",
              " 12,\n",
              " 9,\n",
              " 6,\n",
              " 3,\n",
              " 20,\n",
              " 16,\n",
              " 12,\n",
              " 8,\n",
              " 4,\n",
              " 25,\n",
              " 20,\n",
              " 15,\n",
              " 10,\n",
              " 5]"
            ]
          },
          "metadata": {
            "tags": []
          },
          "execution_count": 27
        }
      ]
    },
    {
      "cell_type": "markdown",
      "metadata": {
        "id": "qADBMUaP-YJn"
      },
      "source": [
        "## Exemplo 10\n",
        "Fonte: [List Comprehension](https://docs.python.org/3/tutorial/datastructures.html#list-comprehensions)"
      ]
    },
    {
      "cell_type": "code",
      "metadata": {
        "id": "LX7oPa2L-lkK",
        "outputId": "f0cff845-3077-4e4f-9740-b04c4975c27b",
        "colab": {
          "base_uri": "https://localhost:8080/",
          "height": 34
        }
      },
      "source": [
        "[(x, y) for x in [1, 2, 3] for y in [3, 1, 4] if x != y]"
      ],
      "execution_count": null,
      "outputs": [
        {
          "output_type": "execute_result",
          "data": {
            "text/plain": [
              "[(1, 3), (1, 4), (2, 3), (2, 1), (2, 4), (3, 1), (3, 4)]"
            ]
          },
          "metadata": {
            "tags": []
          },
          "execution_count": 13
        }
      ]
    },
    {
      "cell_type": "markdown",
      "metadata": {
        "id": "l1xE-1GmZWPW"
      },
      "source": [
        "## Exemplo 11 - Encontrar todas as ocorrências de s_substring em s_Str usando List Comprehension\n",
        "> Mesmo exemplo do capítulo NO04__Strings. O objetivo é encontrar todas as ocorrências de uma string s_substring em s_Str."
      ]
    },
    {
      "cell_type": "code",
      "metadata": {
        "id": "QN2CI4oSZtp0"
      },
      "source": [
        "s_frase = \"Beauty has so many forms, and I think the most beautiful thing is confidence and loving yourself.\""
      ],
      "execution_count": null,
      "outputs": []
    },
    {
      "cell_type": "code",
      "metadata": {
        "id": "pNOQSr8CZxxP",
        "outputId": "9a0f5a0a-a91a-4d18-a33c-e2ccd9f1aea9",
        "colab": {
          "base_uri": "https://localhost:8080/",
          "height": 1000
        }
      },
      "source": [
        "# Cria uma array bidimensional do tipo (indice, valor).\n",
        "list(enumerate(s_frase))"
      ],
      "execution_count": null,
      "outputs": [
        {
          "output_type": "execute_result",
          "data": {
            "text/plain": [
              "[(0, 'B'),\n",
              " (1, 'e'),\n",
              " (2, 'a'),\n",
              " (3, 'u'),\n",
              " (4, 't'),\n",
              " (5, 'y'),\n",
              " (6, ' '),\n",
              " (7, 'h'),\n",
              " (8, 'a'),\n",
              " (9, 's'),\n",
              " (10, ' '),\n",
              " (11, 's'),\n",
              " (12, 'o'),\n",
              " (13, ' '),\n",
              " (14, 'm'),\n",
              " (15, 'a'),\n",
              " (16, 'n'),\n",
              " (17, 'y'),\n",
              " (18, ' '),\n",
              " (19, 'f'),\n",
              " (20, 'o'),\n",
              " (21, 'r'),\n",
              " (22, 'm'),\n",
              " (23, 's'),\n",
              " (24, ','),\n",
              " (25, ' '),\n",
              " (26, 'a'),\n",
              " (27, 'n'),\n",
              " (28, 'd'),\n",
              " (29, ' '),\n",
              " (30, 'I'),\n",
              " (31, ' '),\n",
              " (32, 't'),\n",
              " (33, 'h'),\n",
              " (34, 'i'),\n",
              " (35, 'n'),\n",
              " (36, 'k'),\n",
              " (37, ' '),\n",
              " (38, 't'),\n",
              " (39, 'h'),\n",
              " (40, 'e'),\n",
              " (41, ' '),\n",
              " (42, 'm'),\n",
              " (43, 'o'),\n",
              " (44, 's'),\n",
              " (45, 't'),\n",
              " (46, ' '),\n",
              " (47, 'b'),\n",
              " (48, 'e'),\n",
              " (49, 'a'),\n",
              " (50, 'u'),\n",
              " (51, 't'),\n",
              " (52, 'i'),\n",
              " (53, 'f'),\n",
              " (54, 'u'),\n",
              " (55, 'l'),\n",
              " (56, ' '),\n",
              " (57, 't'),\n",
              " (58, 'h'),\n",
              " (59, 'i'),\n",
              " (60, 'n'),\n",
              " (61, 'g'),\n",
              " (62, ' '),\n",
              " (63, 'i'),\n",
              " (64, 's'),\n",
              " (65, ' '),\n",
              " (66, 'c'),\n",
              " (67, 'o'),\n",
              " (68, 'n'),\n",
              " (69, 'f'),\n",
              " (70, 'i'),\n",
              " (71, 'd'),\n",
              " (72, 'e'),\n",
              " (73, 'n'),\n",
              " (74, 'c'),\n",
              " (75, 'e'),\n",
              " (76, ' '),\n",
              " (77, 'a'),\n",
              " (78, 'n'),\n",
              " (79, 'd'),\n",
              " (80, ' '),\n",
              " (81, 'l'),\n",
              " (82, 'o'),\n",
              " (83, 'v'),\n",
              " (84, 'i'),\n",
              " (85, 'n'),\n",
              " (86, 'g'),\n",
              " (87, ' '),\n",
              " (88, 'y'),\n",
              " (89, 'o'),\n",
              " (90, 'u'),\n",
              " (91, 'r'),\n",
              " (92, 's'),\n",
              " (93, 'e'),\n",
              " (94, 'l'),\n",
              " (95, 'f'),\n",
              " (96, '.')]"
            ]
          },
          "metadata": {
            "tags": []
          },
          "execution_count": 2
        }
      ]
    },
    {
      "cell_type": "markdown",
      "metadata": {
        "id": "huS_wcpcaIYc"
      },
      "source": [
        "A seguir, encontrar todas as ocorrências de s_substring em s_Str:"
      ]
    },
    {
      "cell_type": "code",
      "metadata": {
        "id": "2LVU-f_9aFZo",
        "outputId": "168ab88c-1543-491b-9f86-c4990f986b5c",
        "colab": {
          "base_uri": "https://localhost:8080/",
          "height": 35
        }
      },
      "source": [
        "s_substring = 'a'\n",
        "l_indices = [indice for indice, valor in enumerate(s_frase) if valor == s_substring]\n",
        "l_indices"
      ],
      "execution_count": null,
      "outputs": [
        {
          "output_type": "execute_result",
          "data": {
            "text/plain": [
              "[2, 8, 15, 26, 49, 77]"
            ]
          },
          "metadata": {
            "tags": []
          },
          "execution_count": 3
        }
      ]
    },
    {
      "cell_type": "markdown",
      "metadata": {
        "id": "o0a7IxHuaKt_"
      },
      "source": [
        "Ou seja, a string s_substring= 'a' aparece nos índices acima."
      ]
    },
    {
      "cell_type": "markdown",
      "metadata": {
        "id": "BAjHv2zOdukk"
      },
      "source": [
        "## Exemplo 12 - Substituir itens de uma lista\n",
        "> Exemplo extraído do capítulo NB06_01__Lists. O objetivo é substituir todas as ocorrências do item 'Avocado' por 'Banana."
      ]
    },
    {
      "cell_type": "code",
      "metadata": {
        "id": "uhx5PnG7eHwD",
        "outputId": "933ee893-b2d9-4b38-a789-9710b1efdeea",
        "colab": {
          "base_uri": "https://localhost:8080/",
          "height": 35
        }
      },
      "source": [
        "l_frutas = ['Apple', 'Avocado', 'Avocado', 'Orange', 'Lemon']\n",
        "l_frutas"
      ],
      "execution_count": null,
      "outputs": [
        {
          "output_type": "execute_result",
          "data": {
            "text/plain": [
              "['Apple', 'Avocado', 'Avocado', 'Orange', 'Lemon']"
            ]
          },
          "metadata": {
            "tags": []
          },
          "execution_count": 4
        }
      ]
    },
    {
      "cell_type": "code",
      "metadata": {
        "id": "2qEXVV-1f_JL",
        "outputId": "5143d04e-f993-4aa2-b330-cbd79551cb87",
        "colab": {
          "base_uri": "https://localhost:8080/",
          "height": 35
        }
      },
      "source": [
        "# Todas as ocorrências do item 'Avocado' contido em l_frutas:\n",
        "l_indices = [i for i, x in enumerate(l_frutas) if x == \"Avocado\"]\n",
        "l_indices"
      ],
      "execution_count": null,
      "outputs": [
        {
          "output_type": "execute_result",
          "data": {
            "text/plain": [
              "[1, 2]"
            ]
          },
          "metadata": {
            "tags": []
          },
          "execution_count": 5
        }
      ]
    },
    {
      "cell_type": "markdown",
      "metadata": {
        "id": "YCrSakFhgGcB"
      },
      "source": [
        "Agora que temos os índices, vamos às substituições..."
      ]
    },
    {
      "cell_type": "code",
      "metadata": {
        "id": "zrRUPXH5gKDg"
      },
      "source": [
        "for i in l_indices:\n",
        "    l_frutas[i] = 'Banana'\n",
        "    \n",
        "l_frutas"
      ],
      "execution_count": null,
      "outputs": []
    },
    {
      "cell_type": "markdown",
      "metadata": {
        "id": "Atbt0lmegPfv"
      },
      "source": [
        "**Missão cumprida**: todas as ocorrência do item 'Avocado' foram substituídos pelo item 'Banana'."
      ]
    },
    {
      "cell_type": "markdown",
      "metadata": {
        "id": "vvTFdWnl6nWE"
      },
      "source": [
        "___\n",
        "# **EXERCÍCIOS**"
      ]
    },
    {
      "cell_type": "markdown",
      "metadata": {
        "id": "FKhLqJTM9jeD"
      },
      "source": [
        "___\n",
        "# **REFERÊNCIAS**\n",
        "* https://docs.python.org/3/"
      ]
    },
    {
      "cell_type": "code",
      "metadata": {
        "id": "hrXSsrFW9mcN"
      },
      "source": [
        ""
      ],
      "execution_count": null,
      "outputs": []
    }
  ]
}