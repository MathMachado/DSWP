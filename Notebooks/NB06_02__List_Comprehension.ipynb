{
  "nbformat": 4,
  "nbformat_minor": 0,
  "metadata": {
    "colab": {
      "name": "PythonLab.ipynb",
      "provenance": [],
      "collapsed_sections": [
        "n8BIbzQbNWUo",
        "7eS94uQ4NhVR",
        "SYOgJpGYVLUu",
        "CaHFxk98W5if",
        "ReWUyWiHXCnc",
        "CqszHxaKHr2h",
        "tXgF1Wl9gHKY",
        "Fotx7XUquAo8",
        "36kmLUYDvsUI",
        "SWO2GdNovxAp",
        "vpN54l4vxze5",
        "u4HOf9SNytSq",
        "6BQ9oZiD9hg5",
        "tz5-QdrX9vct",
        "p1muBgMX8NK4",
        "FxTC2-U88ajk",
        "z8EYn0pP25Rh"
      ],
      "include_colab_link": true
    },
    "kernelspec": {
      "name": "python3",
      "display_name": "Python 3"
    },
    "accelerator": "GPU"
  },
  "cells": [
    {
      "cell_type": "markdown",
      "metadata": {
        "id": "view-in-github",
        "colab_type": "text"
      },
      "source": [
        "<a href=\"https://colab.research.google.com/github/MathMachado/DSWP/blob/master/Notebooks/NB06_02__List_Comprehension.ipynb\" target=\"_parent\"><img src=\"https://colab.research.google.com/assets/colab-badge.svg\" alt=\"Open In Colab\"/></a>"
      ]
    },
    {
      "cell_type": "markdown",
      "metadata": {
        "id": "N4_El-IiZHAF",
        "colab_type": "text"
      },
      "source": [
        "# Melhorias desta sessão:\n",
        "* Apresentar mais exemplos do uso de List Comprehensions;"
      ]
    },
    {
      "cell_type": "markdown",
      "metadata": {
        "id": "7SSGTGbqDc_Z",
        "colab_type": "text"
      },
      "source": [
        "# **Lists**\n",
        "\n",
        "* List - Coleção ordenada e mutável de itens. \n",
        "* Permite itens duplicados;\n",
        "* List são representados por \"[ ]\".\n",
        "\n",
        "> Se você tem alguma dúvida sobre como gerar números aleatórios, sugiro voltar ao capítulo [Statistics and Probability](./Statistics%20and%20Probability.ipynb)."
      ]
    },
    {
      "cell_type": "markdown",
      "metadata": {
        "id": "ZEy4k9MZJZQ8",
        "colab_type": "text"
      },
      "source": [
        "![PythonDataStructures](https://github.com/MathMachado/Python_RFB/blob/master/Material/PythonDataStructures.png?raw=true)"
      ]
    },
    {
      "cell_type": "markdown",
      "metadata": {
        "id": "iDzA-iCmB_ft",
        "colab_type": "text"
      },
      "source": [
        "___\n",
        "# Python Lists Comprehension\n",
        "\n",
        "Sintaxe básica:\n",
        "\n",
        "[ expression for item in list if conditional ]\n",
        "\n",
        "que é equivalente a:\n",
        "\n",
        "for item in list:\n",
        "    if conditional:\n",
        "        expression"
      ]
    },
    {
      "cell_type": "markdown",
      "metadata": {
        "id": "uXhcbFzvPi92",
        "colab_type": "text"
      },
      "source": [
        "## Exemplo 1\n",
        "* Gerar números aleatórios usando List Comprehension."
      ]
    },
    {
      "cell_type": "code",
      "metadata": {
        "id": "5uFNe0xlK27U",
        "colab_type": "code",
        "colab": {}
      },
      "source": [
        "import numpy as np\n",
        "\n",
        "l_Y= []\n",
        "\n",
        "for x in range(5):\n",
        "    np.random.seed(x)\n",
        "    l_Y.append(np.random.randint(0, 10))"
      ],
      "execution_count": 0,
      "outputs": []
    },
    {
      "cell_type": "code",
      "metadata": {
        "id": "bNvMDU8GLVsp",
        "colab_type": "code",
        "colab": {
          "base_uri": "https://localhost:8080/",
          "height": 34
        },
        "outputId": "7f8f2f47-009a-4e17-b8a0-f36ad8219355"
      },
      "source": [
        "l_Y"
      ],
      "execution_count": 3,
      "outputs": [
        {
          "output_type": "execute_result",
          "data": {
            "text/plain": [
              "[5, 5, 8, 8, 7]"
            ]
          },
          "metadata": {
            "tags": []
          },
          "execution_count": 3
        }
      ]
    },
    {
      "cell_type": "code",
      "metadata": {
        "id": "cnB2eYigFq3o",
        "colab_type": "code",
        "colab": {}
      },
      "source": [
        "import numpy as np\n",
        "\n",
        "np.random.seed(20111974)\n",
        "l_FloatNumbers= [np.random.randint(0, 10) for _ in range(5)]"
      ],
      "execution_count": 0,
      "outputs": []
    },
    {
      "cell_type": "code",
      "metadata": {
        "id": "giOtZF37MeIv",
        "colab_type": "code",
        "outputId": "d5894cc4-ba0a-40f0-a47f-3c307c15c6e7",
        "colab": {
          "base_uri": "https://localhost:8080/",
          "height": 34
        }
      },
      "source": [
        "l_FloatNumbers"
      ],
      "execution_count": 7,
      "outputs": [
        {
          "output_type": "execute_result",
          "data": {
            "text/plain": [
              "[8, 8, 2, 8, 9]"
            ]
          },
          "metadata": {
            "tags": []
          },
          "execution_count": 7
        }
      ]
    },
    {
      "cell_type": "markdown",
      "metadata": {
        "id": "YM8RdnC_PsDy",
        "colab_type": "text"
      },
      "source": [
        "## Exemplo 2"
      ]
    },
    {
      "cell_type": "code",
      "metadata": {
        "id": "tANHZTvzP0JT",
        "colab_type": "code",
        "outputId": "689fd6d1-9578-4087-e80b-cc8714856916",
        "colab": {
          "base_uri": "https://localhost:8080/",
          "height": 34
        }
      },
      "source": [
        "l_Lista= [1, 2, 3, 4]\n",
        "l_Quadrado = []\n",
        "\n",
        "for n in l_Lista:\n",
        "    l_Quadrado.append(n**2)\n",
        "\n",
        "print(l_Quadrado)"
      ],
      "execution_count": 8,
      "outputs": [
        {
          "output_type": "stream",
          "text": [
            "[1, 4, 9, 16]\n"
          ],
          "name": "stdout"
        }
      ]
    },
    {
      "cell_type": "markdown",
      "metadata": {
        "id": "pzbO6CtYQC7a",
        "colab_type": "text"
      },
      "source": [
        "Solução usando List Comprehension:"
      ]
    },
    {
      "cell_type": "code",
      "metadata": {
        "id": "V-tyEngVP8wn",
        "colab_type": "code",
        "outputId": "91bc28c9-87ac-41c0-9d6f-9dec8423d697",
        "colab": {
          "base_uri": "https://localhost:8080/",
          "height": 34
        }
      },
      "source": [
        "l_Lista= [1, 2, 3, 4]\n",
        "l_Quadrado = [n**2 for n in l_Lista]\n",
        "\n",
        "print(l_Quadrado)"
      ],
      "execution_count": 0,
      "outputs": [
        {
          "output_type": "stream",
          "text": [
            "[1, 4, 9, 16]\n"
          ],
          "name": "stdout"
        }
      ]
    },
    {
      "cell_type": "markdown",
      "metadata": {
        "id": "u4VBevzNQlGU",
        "colab_type": "text"
      },
      "source": [
        "## Exemplo 3\n",
        "* Encontrar númros comuns em duas listas."
      ]
    },
    {
      "cell_type": "code",
      "metadata": {
        "id": "0BnX7yZGQv-O",
        "colab_type": "code",
        "outputId": "cdadf2c0-d248-45b7-fa93-bc69484995f8",
        "colab": {
          "base_uri": "https://localhost:8080/",
          "height": 34
        }
      },
      "source": [
        "l_Lista_A = [1, 2, 3, 4]\n",
        "l_Lista_B = [2, 3, 4, 5]\n",
        "l_Comum = []\n",
        "\n",
        "for x in l_Lista_A:\n",
        "    for y in l_Lista_B:\n",
        "        if x == y:\n",
        "            l_Comum.append(x)\n",
        "      \n",
        "print(l_Comum)"
      ],
      "execution_count": 0,
      "outputs": [
        {
          "output_type": "stream",
          "text": [
            "[2, 3, 4]\n"
          ],
          "name": "stdout"
        }
      ]
    },
    {
      "cell_type": "markdown",
      "metadata": {
        "id": "VFewu6qrQw_a",
        "colab_type": "text"
      },
      "source": [
        "Solução usando List Comprehension..."
      ]
    },
    {
      "cell_type": "code",
      "metadata": {
        "id": "mNt-OixCQ1Bg",
        "colab_type": "code",
        "outputId": "f187556a-184d-4f15-e94c-ee4d0ddf99a9",
        "colab": {
          "base_uri": "https://localhost:8080/",
          "height": 34
        }
      },
      "source": [
        "l_Lista_A = [1, 2, 3, 4]\n",
        "l_Lista_B = [2, 3, 4, 5]\n",
        "\n",
        "l_Comum = [x for x in l_Lista_A for y in l_Lista_B if x == y]\n",
        "print(l_Comum)"
      ],
      "execution_count": 9,
      "outputs": [
        {
          "output_type": "stream",
          "text": [
            "[2, 3, 4]\n"
          ],
          "name": "stdout"
        }
      ]
    },
    {
      "cell_type": "markdown",
      "metadata": {
        "id": "wsnSnzZU3atv",
        "colab_type": "text"
      },
      "source": [
        "## Exemplo 4"
      ]
    },
    {
      "cell_type": "code",
      "metadata": {
        "id": "pnzLAJ4v3e1g",
        "colab_type": "code",
        "colab": {}
      },
      "source": [
        "s_Frase= 'Isto é um objeto do tipo string!'\n",
        "l_ListaLetras= [x for x in s_Frase]"
      ],
      "execution_count": 0,
      "outputs": []
    },
    {
      "cell_type": "code",
      "metadata": {
        "id": "BVUy-6so3uOM",
        "colab_type": "code",
        "outputId": "9e92bcf0-63dd-4ad8-b16c-447d074d2cd1",
        "colab": {
          "base_uri": "https://localhost:8080/",
          "height": 554
        }
      },
      "source": [
        "l_ListaLetras"
      ],
      "execution_count": 0,
      "outputs": [
        {
          "output_type": "execute_result",
          "data": {
            "text/plain": [
              "['I',\n",
              " 's',\n",
              " 't',\n",
              " 'o',\n",
              " ' ',\n",
              " 'é',\n",
              " ' ',\n",
              " 'u',\n",
              " 'm',\n",
              " ' ',\n",
              " 'o',\n",
              " 'b',\n",
              " 'j',\n",
              " 'e',\n",
              " 't',\n",
              " 'o',\n",
              " ' ',\n",
              " 'd',\n",
              " 'o',\n",
              " ' ',\n",
              " 't',\n",
              " 'i',\n",
              " 'p',\n",
              " 'o',\n",
              " ' ',\n",
              " 's',\n",
              " 't',\n",
              " 'r',\n",
              " 'i',\n",
              " 'n',\n",
              " 'g',\n",
              " '!']"
            ]
          },
          "metadata": {
            "tags": []
          },
          "execution_count": 10
        }
      ]
    },
    {
      "cell_type": "markdown",
      "metadata": {
        "id": "qsuwg7nr31iu",
        "colab_type": "text"
      },
      "source": [
        "## Exemplo 5"
      ]
    },
    {
      "cell_type": "code",
      "metadata": {
        "id": "s28yndG0322D",
        "colab_type": "code",
        "outputId": "a95fdd8b-fbdd-43f6-a4e9-c89970f7a475",
        "colab": {
          "base_uri": "https://localhost:8080/",
          "height": 34
        }
      },
      "source": [
        "l_ListaNumeros= [x for x in range(20)]\n",
        "l_ListaNumeros"
      ],
      "execution_count": 0,
      "outputs": [
        {
          "output_type": "execute_result",
          "data": {
            "text/plain": [
              "[0, 1, 2, 3, 4, 5, 6, 7, 8, 9, 10, 11, 12, 13, 14, 15, 16, 17, 18, 19]"
            ]
          },
          "metadata": {
            "tags": []
          },
          "execution_count": 11
        }
      ]
    },
    {
      "cell_type": "markdown",
      "metadata": {
        "id": "XuVbQnC84IL9",
        "colab_type": "text"
      },
      "source": [
        "## Exemplo 6"
      ]
    },
    {
      "cell_type": "code",
      "metadata": {
        "id": "KEWLQv_I4JvD",
        "colab_type": "code",
        "outputId": "ab266fc1-11eb-40d2-ef70-7d84fbeee3a3",
        "colab": {
          "base_uri": "https://localhost:8080/",
          "height": 353
        }
      },
      "source": [
        "l_ListaNumeros= [x**2 for x in range(20)]\n",
        "l_ListaNumeros"
      ],
      "execution_count": 0,
      "outputs": [
        {
          "output_type": "execute_result",
          "data": {
            "text/plain": [
              "[0,\n",
              " 1,\n",
              " 4,\n",
              " 9,\n",
              " 16,\n",
              " 25,\n",
              " 36,\n",
              " 49,\n",
              " 64,\n",
              " 81,\n",
              " 100,\n",
              " 121,\n",
              " 144,\n",
              " 169,\n",
              " 196,\n",
              " 225,\n",
              " 256,\n",
              " 289,\n",
              " 324,\n",
              " 361]"
            ]
          },
          "metadata": {
            "tags": []
          },
          "execution_count": 12
        }
      ]
    },
    {
      "cell_type": "markdown",
      "metadata": {
        "id": "rueqk-mK5HNT",
        "colab_type": "text"
      },
      "source": [
        "## Exemplo 7"
      ]
    },
    {
      "cell_type": "code",
      "metadata": {
        "id": "XRzL0rJE5GQL",
        "colab_type": "code",
        "outputId": "0a9639a1-4979-4eb0-b892-82bb61deb333",
        "colab": {
          "base_uri": "https://localhost:8080/",
          "height": 34
        }
      },
      "source": [
        "l_ListaNumeros= [x**2 for x in range(20) if x%2 == 0]\n",
        "l_ListaNumeros"
      ],
      "execution_count": 0,
      "outputs": [
        {
          "output_type": "execute_result",
          "data": {
            "text/plain": [
              "[0, 4, 16, 36, 64, 100, 144, 196, 256, 324]"
            ]
          },
          "metadata": {
            "tags": []
          },
          "execution_count": 13
        }
      ]
    },
    {
      "cell_type": "markdown",
      "metadata": {
        "id": "AAlINcEt5RYg",
        "colab_type": "text"
      },
      "source": [
        "Qual o significado de x%2 == 0 ?"
      ]
    },
    {
      "cell_type": "markdown",
      "metadata": {
        "id": "yxuzICQz5cZk",
        "colab_type": "text"
      },
      "source": [
        "## Exemplo 8\n",
        "> Transformação de temperaturas de farenheit para Celsius.\n",
        "\n",
        "Fonte: [How to Convert Fahrenheit to Celsius](https://www.thoughtco.com/fahrenheit-to-celsius-formula-609230)\n"
      ]
    },
    {
      "cell_type": "code",
      "metadata": {
        "id": "ErZoaMpe5mgE",
        "colab_type": "code",
        "outputId": "97745ea1-75ee-49da-e33f-dfd052cab4b1",
        "colab": {
          "base_uri": "https://localhost:8080/",
          "height": 34
        }
      },
      "source": [
        "import numpy as np\n",
        "\n",
        "np.printoptions(precision= 2)\n",
        "\n",
        "np.random.seed(20111974)\n",
        "l_Fahrenheit= [np.random.randint(10, 80, 10)]\n",
        "l_Fahrenheit"
      ],
      "execution_count": 11,
      "outputs": [
        {
          "output_type": "execute_result",
          "data": {
            "text/plain": [
              "[array([70, 52, 50, 18, 37, 12, 56, 23, 40, 73])]"
            ]
          },
          "metadata": {
            "tags": []
          },
          "execution_count": 11
        }
      ]
    },
    {
      "cell_type": "code",
      "metadata": {
        "id": "MetowzHE5fYS",
        "colab_type": "code",
        "outputId": "25b50020-04e1-4fc2-b670-a43626e2c3b4",
        "colab": {
          "base_uri": "https://localhost:8080/",
          "height": 67
        }
      },
      "source": [
        "l_Celsius= [(x-32)*(5/9) for x in l_Fahrenheit]\n",
        "l_Celsius"
      ],
      "execution_count": 12,
      "outputs": [
        {
          "output_type": "execute_result",
          "data": {
            "text/plain": [
              "[array([ 21.11111111,  11.11111111,  10.        ,  -7.77777778,\n",
              "          2.77777778, -11.11111111,  13.33333333,  -5.        ,\n",
              "          4.44444444,  22.77777778])]"
            ]
          },
          "metadata": {
            "tags": []
          },
          "execution_count": 12
        }
      ]
    },
    {
      "cell_type": "markdown",
      "metadata": {
        "id": "gg6YSxsp8KlE",
        "colab_type": "text"
      },
      "source": [
        "## Exemplo 9"
      ]
    },
    {
      "cell_type": "code",
      "metadata": {
        "id": "YDCkqroY8MEu",
        "colab_type": "code",
        "outputId": "2f1505c3-79a4-4c0f-b3f9-a773dee6ac7e",
        "colab": {
          "base_uri": "https://localhost:8080/",
          "height": 437
        }
      },
      "source": [
        "l_Num1= [0,1,2,3,4,5]\n",
        "l_Num2= [5,4,3,2,1,0]\n",
        "\n",
        "l_Multiplicacao= [x*y for x in l_Num1 for y in l_Num2 if x!= 0 and y!= 0]\n",
        "l_Multiplicacao"
      ],
      "execution_count": 0,
      "outputs": [
        {
          "output_type": "execute_result",
          "data": {
            "text/plain": [
              "[5,\n",
              " 4,\n",
              " 3,\n",
              " 2,\n",
              " 1,\n",
              " 10,\n",
              " 8,\n",
              " 6,\n",
              " 4,\n",
              " 2,\n",
              " 15,\n",
              " 12,\n",
              " 9,\n",
              " 6,\n",
              " 3,\n",
              " 20,\n",
              " 16,\n",
              " 12,\n",
              " 8,\n",
              " 4,\n",
              " 25,\n",
              " 20,\n",
              " 15,\n",
              " 10,\n",
              " 5]"
            ]
          },
          "metadata": {
            "tags": []
          },
          "execution_count": 27
        }
      ]
    },
    {
      "cell_type": "markdown",
      "metadata": {
        "id": "qADBMUaP-YJn",
        "colab_type": "text"
      },
      "source": [
        "## Exemplo 10\n",
        "Fonte: [List Comprehension](https://docs.python.org/3/tutorial/datastructures.html#list-comprehensions)"
      ]
    },
    {
      "cell_type": "code",
      "metadata": {
        "id": "LX7oPa2L-lkK",
        "colab_type": "code",
        "outputId": "f0cff845-3077-4e4f-9740-b04c4975c27b",
        "colab": {
          "base_uri": "https://localhost:8080/",
          "height": 34
        }
      },
      "source": [
        "[(x, y) for x in [1,2,3] for y in [3,1,4] if x != y]"
      ],
      "execution_count": 13,
      "outputs": [
        {
          "output_type": "execute_result",
          "data": {
            "text/plain": [
              "[(1, 3), (1, 4), (2, 3), (2, 1), (2, 4), (3, 1), (3, 4)]"
            ]
          },
          "metadata": {
            "tags": []
          },
          "execution_count": 13
        }
      ]
    },
    {
      "cell_type": "markdown",
      "metadata": {
        "id": "vvTFdWnl6nWE",
        "colab_type": "text"
      },
      "source": [
        "# Exercícios"
      ]
    },
    {
      "cell_type": "markdown",
      "metadata": {
        "id": "FKhLqJTM9jeD",
        "colab_type": "text"
      },
      "source": [
        "# Referências\n",
        "* https://docs.python.org/3/"
      ]
    },
    {
      "cell_type": "code",
      "metadata": {
        "id": "hrXSsrFW9mcN",
        "colab_type": "code",
        "colab": {}
      },
      "source": [
        ""
      ],
      "execution_count": 0,
      "outputs": []
    }
  ]
}