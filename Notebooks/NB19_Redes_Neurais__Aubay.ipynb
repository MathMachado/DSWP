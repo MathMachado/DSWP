{
  "nbformat": 4,
  "nbformat_minor": 0,
  "metadata": {
    "accelerator": "TPU",
    "colab": {
      "name": "Copy of Copy of NB19_Redes_Neurais__V2.ipynb",
      "provenance": [],
      "collapsed_sections": [],
      "toc_visible": true,
      "include_colab_link": true
    },
    "kernelspec": {
      "display_name": "Python 3",
      "language": "python",
      "name": "python3"
    },
    "language_info": {
      "codemirror_mode": {
        "name": "ipython",
        "version": 3
      },
      "file_extension": ".py",
      "mimetype": "text/x-python",
      "name": "python",
      "nbconvert_exporter": "python",
      "pygments_lexer": "ipython3",
      "version": "3.7.6"
    }
  },
  "cells": [
    {
      "cell_type": "markdown",
      "metadata": {
        "id": "view-in-github",
        "colab_type": "text"
      },
      "source": [
        "<a href=\"https://colab.research.google.com/github/MathMachado/DSWP/blob/master/Notebooks/NB19_Redes_Neurais__Aubay.ipynb\" target=\"_parent\"><img src=\"https://colab.research.google.com/assets/colab-badge.svg\" alt=\"Open In Colab\"/></a>"
      ]
    },
    {
      "cell_type": "markdown",
      "metadata": {
        "colab_type": "text",
        "id": "ShVXyGj9wkgN"
      },
      "source": [
        "<center><h1><b><i>REDES NEURAIS ARTIFICIAIS (COMPREHENSIVE GUIDE) </i></b></h1></center>\n",
        "\n",
        "# Porque Cientistas de Dados desejam aprender e dominar Redes Neurais?\n",
        "\n",
        "* Redes Neurais têm a capacidade de aprender, modelar e resolver problemas não-lineares e complexos apresentados pela vida real.\n",
        "* Você já deve ter ouvido falar em Inteligência Artificial, _self-drive cars_, _Deep Learning_, _Computer Vision_ e _Neural Language Processing_ (NLP). Todos estes assuntos estão estreitamente relacionados às Redes Neurais. Por exemplo, _Deep Learning_ são Redes Neurais com muitas _Hidden Layers_."
      ]
    },
    {
      "cell_type": "markdown",
      "metadata": {
        "colab_type": "text",
        "id": "QgX6n2VDyY1O"
      },
      "source": [
        "___\n",
        "# **REFERÊNCIAS**\n",
        "- [An Introduction to Neural Networks](http://www.cs.stir.ac.uk/~lss/NNIntro/InvSlides.html)\n",
        "- [An Introduction to Image Recognition with Deep Learning](https://medium.com/@ageitgey/machine-learning-is-fun-part-3-deep-learning-and-convolutional-neural-networks-f40359318721)\n",
        "- [Neural Networks and Deep Learning](http://neuralnetworksanddeeplearning.com/index.html)\n",
        "- [Forward propagation in neural networks — Simplified math and code version](https://towardsdatascience.com/forward-propagation-in-neural-networks-simplified-math-and-code-version-bbcfef6f9250)\n",
        "- [Understanding Neural Networks: From Activation Function To Back Propagation](https://medium.com/fintechexplained/neural-networks-activation-function-to-back-propagation-understanding-neural-networks-bdd036c3f29f)\n",
        "- [Understanding Gradient Descent](https://medium.com/analytics-vidhya/understanding-gradient-descent-8dd88a4c60e6) - Explica detalhadamente como funciona o _Gradient Descent_ no processo de otimização dos pesos $W$;\n",
        "- [Backpropagation step by step](https://medium.com/swlh/backpropagation-step-by-step-13f2b6c0b414) - Eu usei esse artigo para reajustar os pesos $W$;\n",
        "- [Perceptron Learning Algorithm: A Graphical Explanation Of Why It Works](https://towardsdatascience.com/perceptron-learning-algorithm-d5db0deab975);\n",
        "- [Math behind Perceptrons](https://medium.com/@iamask09/math-behind-perceptrons-7241d5dadbfc);\n",
        "- [Neural Network: A Complete Beginners Guide from Scratch](https://medium.com/gadictos/neural-network-a-complete-beginners-guide-from-scratch-cf1fc9d5cd12);\n",
        "- [Calculating the Backpropagation of a Network](https://medium.com/towards-artificial-intelligence/calculating-back-propagation-of-a-network-1febbcaa2b5d);\n",
        "- [Let’s build a simple Neural Net!](https://becominghuman.ai/lets-build-a-simple-neural-net-f4474256647f) - O autor constroi uma Rede Neural simples, sem _Hidden Layers_;\n",
        "- [Coding Neural Network — Forward Propagation and Backpropagtion](https://towardsdatascience.com/coding-neural-network-forward-propagation-and-backpropagtion-ccf8cf369f76);\n",
        "- [The Simplest Neural Network: Understanding the non-linearity](https://towardsdatascience.com/the-simplest-neural-network-understanding-the-non-linearity-10846d7d0141) - Ótimo texto para entender a não-linearidade;\n",
        "- [Implementing the XOR Gate using Backpropagation in Neural Networks](https://towardsdatascience.com/implementing-the-xor-gate-using-backpropagation-in-neural-networks-c1f255b4f20d) - Usei este texto para resolver o problema do XOR;\n",
        "- [Neural Representation of AND, OR, NOT, XOR and XNOR Logic Gates (Perceptron Algorithm)](https://medium.com/@stanleydukor/neural-representation-of-and-or-not-xor-and-xnor-logic-gates-perceptron-algorithm-b0275375fea1) - Eu usei este material para resolver o problema dos operadores E, OU e XOR;\n",
        "- [Solving XOR with a single Perceptron](https://medium.com/@lucaspereira0612/solving-xor-with-a-single-perceptron-34539f395182);\n",
        "- [Machine Learning 101 — Artificial Neural Networks](https://towardsdatascience.com/machine-learning-101-artificial-neural-networks-3-46ccb04cba30) - Cálculos realizados passo a passo;\n",
        "- [Neural Network from scratch in Python](https://towardsdatascience.com/math-neural-network-from-scratch-in-python-d6da9f29ce65) - Este artigo mostra a matemática por trás das Redes Neurais;\n",
        "- [Classical Neural Net: Why/Which Activations Functions?](https://towardsdatascience.com/classical-neural-net-why-which-activations-functions-401159ba01c4) - Artigo que discute as principais funções de ativação;\n",
        "- [Understanding Activation Functions in Neural Networks](https://medium.com/the-theory-of-everything/understanding-activation-functions-in-neural-networks-9491262884e0);\n",
        "- [Mind: How to Build a Neural Network (Part One)](https://becominghuman.ai/mind-how-to-build-a-neural-network-part-one-67b6aea4ce20);\n",
        "- [How to build a simple Neural Network from scratch with Python](https://towardsdatascience.com/how-to-build-a-simple-neural-network-from-scratch-with-python-9f011896d2f3);\n",
        "- [Comparison of Activation Functions for Deep Neural Networks](https://towardsdatascience.com/comparison-of-activation-functions-for-deep-neural-networks-706ac4284c8a);\n",
        "- [MAE and RMSE — Which Metric is Better?](https://medium.com/human-in-a-machine-world/mae-and-rmse-which-metric-is-better-e60ac3bde13d) - Ótimo artigo, pois discute qual métrica é melhor.\n"
      ]
    },
    {
      "cell_type": "markdown",
      "metadata": {
        "colab_type": "text",
        "id": "TsCbZd2epfxo"
      },
      "source": [
        "___\n",
        "# **INTRODUÇÃO ÀS REDES NEURAIS**\n"
      ]
    },
    {
      "cell_type": "markdown",
      "metadata": {
        "colab_type": "text",
        "id": "HqqB2vaHXMGt"
      },
      "source": [
        "* Redes Neurais aprendem com as experiências passadas, imitando o funcionamento dos neurônios humanos no processo de aprendizagem;\n",
        "* podem e são amplamente utilizadas nas seguintes situações (aplicações):\n",
        "    * Reconhecimento Facial;\n",
        "    * Processamento de Linguagem Natural (NLP);\n",
        "    * _Self-drive car_;\n",
        "    * Visão computacional;\n",
        "    * Detecção de padrões (doenças, tumores e etc) em imagens;\n",
        "* Ideal para o cenário onde temos muitos dados (_Big Data_) e para resolver problemas complexos."
      ]
    },
    {
      "cell_type": "markdown",
      "metadata": {
        "colab_type": "text",
        "id": "f_T35rXZOB4G"
      },
      "source": [
        "___\n",
        "# **REDES NEURAIS MULTICAMADA**\n",
        "\n",
        "* Pelo menos 1 _Hidden Layer_. Observe a Rede Neural a seguir contendo 20 neurônios distribuídos da seguinte forma:\n",
        "\n",
        "    * Número de neurônios na camada de entrada (_Input Layer_): 4;\n",
        "    * 3 camadas escondidas (_Hidden Layers_) com 5 neurônios cada, totalizando 15 neurônios:\n",
        "        * Número de neurônios na _Hidden Layer 1_: 5;\n",
        "        * Número de neurônios na _Hidden Layer 2_: 5;\n",
        "        * Número de neurônios na _Hidden Layer 3_: 5;\n",
        "    * Número de neurônios na camada de saída (_Output Layer_): 1;\n",
        "* _Fully connected layer_."
      ]
    },
    {
      "cell_type": "markdown",
      "metadata": {
        "id": "1dXBXuh2-Tuo",
        "colab_type": "text"
      },
      "source": [
        "<img src=\"https://github.com/MathMachado/Materials/blob/master/RNA_Multicamada.png?raw=true\" alt=\"Drawing\" width= \"800\"/>"
      ]
    },
    {
      "cell_type": "markdown",
      "metadata": {
        "id": "BK4O_Y_l2vev",
        "colab_type": "text"
      },
      "source": [
        "## Função _Sigmoid_"
      ]
    },
    {
      "cell_type": "markdown",
      "metadata": {
        "id": "M_nn8zELXEVf",
        "colab_type": "text"
      },
      "source": [
        "<img src=\"https://github.com/MathMachado/Materials/blob/master/Sigmoid_Limite.png?raw=true\" alt=\"Drawing\" width= \"800\"/>\n",
        "\n",
        "Consulte [e (constante matemática)](https://pt.wikipedia.org/wiki/E_(constante_matem%C3%A1tica)) para saber mais sobre a constante de Euler."
      ]
    },
    {
      "cell_type": "markdown",
      "metadata": {
        "id": "kOWwWR7hOmir",
        "colab_type": "text"
      },
      "source": [
        "## Número de _Hidden Layers_\n",
        "\n",
        "Pesquisadores apontam que 1 única _Hidden Layer_ é suficiente para a grande maioria dos problemas e que usualmente cada _Hidden Layer_ possui o mesmo número de neurônios. Experimentos mostram que mais _Hidden Layers_ implica em maior tempo para treinar a Rede Neural. No entanto, [Heaton Research](https://www.heatonresearch.com/2017/06/01/hidden-layers.html), mostra que:\n",
        "\n",
        "![Determinining_number_Hidden_Layers](https://github.com/MathMachado/Materials/blob/master/Determinining_number_Hidden_Layers.png?raw=true)\n",
        "\n",
        "Fonte: [Heaton Research](https://www.heatonresearch.com/2017/06/01/hidden-layers.html).\n"
      ]
    },
    {
      "cell_type": "markdown",
      "metadata": {
        "id": "u4_1JCbcPRrn",
        "colab_type": "text"
      },
      "source": [
        "## Número de neurônios na camada de entrada (_Input Layer_): $N_{I}$\n",
        "\n",
        "$N_{I}$= Número de colunas (ou variáveis) no dataframe."
      ]
    },
    {
      "cell_type": "markdown",
      "metadata": {
        "colab_type": "text",
        "id": "fk-lhwhffUZz"
      },
      "source": [
        "### Número de neurônios na camada de saída (_Output Layer_): $N_{O}$\n",
        "\n",
        "* Se a Rede Neural é uma regressão, então o número de neurônios na _Output Layer_ é 1, pois o _output_ de uma regressão é um valor;\n",
        "* Se a Rede Neural é uma classificação e usamos uma função de ativação probabilística (como _softmax_, por exemplo), então o número de neurônios na _Output Layer_ é igual ao número de classes que queremos prever. Por exemplo, no problema de classificar espécies no dataframe IRIS temos 3 espécies (versicolor, virginica e setosa). Ao utilizarmos a função de ativação _softmax_, então teremos 3 neurônios na _Output Layer_."
      ]
    },
    {
      "cell_type": "markdown",
      "metadata": {
        "colab_type": "text",
        "id": "ZsrrdLpSfYm9"
      },
      "source": [
        "## Número de neurônios na camada escondida (_Hidden Layer_): $N_{H}$\n",
        "\n",
        "Determinar o número de neurônios na _Hidden Layer_ tem sido um exercício de tentativa e erro, mas alguns experimentos tem demonstrado que o número adequado de neurônios na _Hidden Layer_ pode ser obtido através da expressão a seguir:\n",
        "\n",
        "$$N_{H}= \\frac{N_{I}+N_{O}}{2}$$\n",
        "\n",
        "No entanto, o artigo [How to choose the number of hidden layers and nodes in a feedforward neural network?](https://stats.stackexchange.com/questions/181/how-to-choose-the-number-of-hidden-layers-and-nodes-in-a-feedforward-neural-netw) sugere o uso da seguinte expressão:\n",
        "\n",
        "$$N_H= \\frac{N}{\\alpha(N_{I}+N_{O})}$$\n",
        "\n",
        "onde $N$ é o número de instâncias (linhas) do dataframe e $\\alpha$ é um número entre 2 e 10, sendo que alguns experimentos com $\\alpha= 2$ produzem bons modelos sem _overfitting_. Para saber mais sobre esta expressão e sobre $\\alpha$, sugiro a leitura do artigo mencionado."
      ]
    },
    {
      "cell_type": "markdown",
      "metadata": {
        "id": "EuO2t22CffE8",
        "colab_type": "text"
      },
      "source": [
        "___\n",
        "# **Como as Redes Neurais aprendem?**\n",
        "\n",
        "> Vimos até agora grande parte dos cálculos matemáticos que envolvem o treinamento das Redes Neurais. Treinar Redes Neurais envolvem a repetição dos processos _Forward_ e _Backward_:\n",
        "\n",
        "1. _Forward_: Consiste na multiplicação de matrizes entre os _arrays_ da _input layer_, pesos $W$ e, na sequência, aplicar as funções de ativação.\n",
        "\n",
        "2. _Backward_: Consiste em atualizar os pesos $W_{O}$ e $W_{H}$ para minimizar a _Loss Function_ $L$ usando _Gradient Descent_.\n",
        "\n",
        "* Estes 2 processos foram vistos detalhadamente em aulas anteriores.\n",
        "    * Cálculos matemáticos passo a passo foram mostrados. Portanto, visite nossas aulas anteriores para aprender mais sobre os aspectos teóricos e matemáticos por trás das Redes Neurais.\n",
        "\n",
        "<img src=\"https://raw.githubusercontent.com/MathMachado/Materials/master/Forward_Backward.png?raw=true\" alt=\"Drawing\" width= \"500\"/>"
      ]
    },
    {
      "cell_type": "markdown",
      "metadata": {
        "id": "mpKyqSuDdbMr",
        "colab_type": "text"
      },
      "source": [
        "___\n",
        "# **_GRADIENT DESCENT_**\n",
        "\n",
        "_Gradient Descent_ é um algoritmo interativo utilizado para otimizar (neste caso, minimizar) a _Loss Function_ $L$. \n",
        "\n",
        "* Minimizar a _Loss Function_ $L$ significa encontrar os pesos $W_{H}$ e $W_{O}$ que faz com que MSE seja o menor possível, pois quanto menor o MSE, melhor a performance da Rede Neural. \n",
        "\n",
        "* Para atualizar os pesos $W$, vamos usar a expressão a seguir:\n",
        "\n",
        "$$W_{n+1}= W_{n}*M+\\alpha \\frac{\\partial L}{\\partial W_{n}}= W_{n}*M+\\alpha*(X*\\Delta)$$\n",
        "\n",
        "onde:\n",
        "\n",
        "* $L$ é a _Loss Function_ a ser minimizada;\n",
        "* $W_{n}$ são os pesos atuais e que deverão ser atualizados para a próxima iteração;\n",
        "* $\\alpha$ é a taxa de aprendizado (_Learning Rate_ em inglês) e diz respeito à velocidade de aprendizagem da Rede Neural.\n",
        "    * Quanto MENOR o valor de $\\alpha$ $\\Longrightarrow$ mais devagar e demorada será a convergência para o mínimo global;\n",
        "    * Quanto MAIOR o valor de $\\alpha$ $\\Longrightarrow$ mais rápido será a convergência para o mínimo, mas sem a garantia de convergência para o mínimo global.\n",
        "* $M$ é o _Momentum_, que é o artifício para acelerar a otimização (ou minimização) da _Loss Function_ $L$.\n",
        "    * Valores altos $\\Longrightarrow$ Aumenta a velocidade da aprendizagem;\n",
        "    * Valores baixos $\\Longrightarrow$ Mais tempo para aprendizagem, mas com maiores chances de se encontrar a solução ótima, evitando os mínimos locais.\n",
        "* $\\frac{\\partial L}{\\partial W_{n}}$ é a derivada da _Loss Function_ $L$ em relação ao peso $W_{n}$. Como dito anteriormente, é a contribuição do peso $W$ no Erro. Calcular $(X*\\Delta)$ é a parte mais complicada da fórmula e fizemos estes cálculos passo a passo em aulas anteriores."
      ]
    },
    {
      "cell_type": "markdown",
      "metadata": {
        "id": "tzuFSOV4eboI",
        "colab_type": "text"
      },
      "source": [
        "Observe a figura a seguir: O que o _Gradient Descent_ fará é encontrar o mínimo global da _loss function_, tentando ao máximo possível evitar os mínimos locais.\n",
        "\n",
        "<img src=\"https://github.com/MathMachado/Materials/blob/master/Local_and_Global_Minima.png?raw=true\" alt=\"Drawing\" width= \"600\"/>"
      ]
    },
    {
      "cell_type": "markdown",
      "metadata": {
        "colab_type": "text",
        "id": "junvtVY4eePi"
      },
      "source": [
        "___\n",
        "# **_LOSS FUNCTION_ $L$**\n",
        "\n",
        "> Como vimos anteriormente, nosso objetivo é minimizar a _Loss function_ através do _Gradient Descent_. Em outras palavras, esse processo de otimização busca, à cada iteração (_epoch_), atualizar os pesos $W$ para reduzir a _Loss Function_. As _Loss Function_ mais comuns são:\n",
        "\n",
        "* Regressão: mse ou mae;\n",
        "* Classificação: _cross-entropy_ (quando queremos probabilidades de cada observação pertencer à uma determinada classe).\n",
        "    * Classificação binária: tf.keras.losses.BinaryCrossentropy()\n",
        ";\n",
        "    * Classificação multi-classes: tf.keras.losses.CategoricalCrossentropy()\n",
        "."
      ]
    },
    {
      "cell_type": "markdown",
      "metadata": {
        "colab_type": "text",
        "id": "6e4ULmJheePY"
      },
      "source": [
        "___\n",
        "# **MÉTRICAS PARA MEDIR A PERFORMANCE DAS REDES NEURAIS**\n",
        "\n",
        "* As métricas medem a qualidade das Redes Neurais e as principais são:\n",
        "    * Regressão:\n",
        "        * MAE significa \"_Mean Absolute Error_\";\n",
        "        * MSE - significa \"_Mean Square Error_\", que é a diferença entre os valores reais $Y_{i}$ e os valores previstos (ou calculados) $\\hat{Y}_{i}$:\n",
        "        * RMSE - significa \"_Root Mean Square Error_\".\n",
        "    * Classificação:\n",
        "        * Accuracy\n",
        "* Quanto mais próximo de 0 estiver MAE, MSE ou RMSE, melhor a Rede Neural. Quanto maior a accuracy, melhor a Rede Neural.\n",
        "\n",
        "\\begin{align}\n",
        "MSE &= \\frac{\\sum_{i=1}^{n}(Y_{i}-\\hat{Y}_{i})^{2}}{n} \\\\\n",
        "RMSE &= \\sqrt{MSE} \\\\\n",
        "MAE &= \\frac{\\sum_{i=1}^{n}|Y_{i}-\\hat{Y}_{i}|}{n}\n",
        "\\end{align}\n",
        "\n",
        "Para os alunos que estão com dúvidas sobre qual métrica usar, sugiro a leitura do artigo [MAE and RMSE — Which Metric is Better?](https://medium.com/human-in-a-machine-world/mae-and-rmse-which-metric-is-better-e60ac3bde13d)."
      ]
    },
    {
      "cell_type": "markdown",
      "metadata": {
        "colab_type": "text",
        "id": "6n4QjH1WeeO8"
      },
      "source": [
        "___\n",
        "# **_DROPOUT_**\n",
        "\n",
        "> _Dropout_ significa ignorar aleatoriamente e temporariamente um percentual $p$ de neurônios durante a fase de treinamento. Ao \"ignorar\", quero dizer que tais neurônios não serão considerados durante os processos _forward_ e _backpropagation_.\n",
        "\n",
        "* _Dropout_ força que a Rede Neural aprenda a partir dos dados, mas usando diferentes e aleatórios neurônios;\n",
        "* Recomenda-se $p = 0.20$. \n",
        "* Ao se usar _Dropout_, recomenda-se mais épocas para treinar a Redes Neurais;\n",
        "\n",
        "* Vantagens:\n",
        "    * Evita _overfitting_ - Num \"_fully connected layer_\", neurônios desenvolvem dependência durante a fase de treinamento levando ao _overfitting_. Com _dropout_ é possível reduzir um pouco desta dependência, reduzindo as chances de _overfitting_;\n",
        "\n",
        "![Dropout](https://github.com/MathMachado/Materials/blob/master/Dropout.png?raw=true)\n",
        "\n",
        "Fonte: [Dropout in (Deep) Machine learning](https://medium.com/@amarbudhiraja/https-medium-com-amarbudhiraja-learning-less-to-learn-better-_dropout_-in-deep-machine-learning-74334da4bfc5).\n",
        "\n",
        "\n",
        "\n",
        "\n",
        "https://machinelearningmastery.com/dropout-regularization-deep-learning-models-keras/\n",
        "\n",
        "https://towardsdatascience.com/a-guide-to-neural-network-layers-with-applications-in-keras-40ccb7ebb57a\n",
        "\n",
        "\n",
        "TEMPLATE: keras.layers.Dropout(rate, noise_shape=None, seed=None)\n",
        "\n"
      ]
    },
    {
      "cell_type": "markdown",
      "metadata": {
        "colab_type": "text",
        "id": "9-9Y9562kNNU"
      },
      "source": [
        "___\n",
        "# **Rede Neural multicamada (1 _Hidden Layer_) para o Operador Lógico XOR usando _Tensorflow_/_Keras_**\n",
        "\n",
        "* **Observações**:\n",
        "    * Há vários artigos (no _medium_, por exemplo) a discutir e desenvolver Redes Neurais para o Operador Lógico XOR. Então porque eu decidi produzir esta aula usando o dataframe do Operador Lógico XOR?\n",
        "        * Para explicar didaticamente e passo a passo todos os aspectos matemáticos por trás das Redes Neurais usando um dataframe pequeno e, apesar disso, complexo, pois é um problema linearmente NÃO-separável e, sendo assim, requer uma Rede Neural mais complexa (com pelo menos 1 _Hidden Layer_) para melhorar a acurácia e reduzir a _loss_;\n",
        "        * Para explicar como é fácil desenvolver Redes Neurais usando Tensorflow/Keras;\n",
        "        * Para explicar didaticamente e passo a passo os processos _Forward_ e _Backward_ para treinar Redes Neurais;\n",
        "    * Versão do Tensorflow usada: 2.x;\n",
        "    * Estou a utilizar o Google Colab;\n",
        "    * Nesta aula, não se preocupe demasiadamente com a sintaxe dos comandos. Porque?\n",
        "        * Vamos repetir tudo detalhadamente nas próximas aulas. Portanto, você terá a oportunidade de aprender e praticar muito em breve;\n",
        "        * O objetivo desta aula é simplesmente fazer uma introdução às Redes Neurais, Tensorflow/Keras e mostrar os passos/processos que vamos seguir aqui e no futuro para desenvolver Redes Neurais. Quando você assistir as aulas subsequentes, tudo ficará mais claro.\n",
        "* Todas as aulas do curso de Redes Neurais foram cuidadosamente planejadas e preparadas para trazer conteúdos relevantes para você aprender Redes Neurais no menor tempo possível. Portanto, nesta aula você vai encontrar várias linhas como a linha adiante:\n",
        "\n",
        "[**Python**] - Comando ou _code_ que deve ser executado.\n",
        "\n",
        "Estas linhas são uma espécie de _guide_ para não nos esquecermos de nenhum detalhe da aula. \n",
        "\n"
      ]
    },
    {
      "cell_type": "markdown",
      "metadata": {
        "id": "rOQbXbCgZZRL",
        "colab_type": "text"
      },
      "source": [
        "A seguir, dataframe do Operador Lógico XOR:\n",
        "\n",
        "| i | $X_{1}$ | $X_{2}$ | ValorReal ($Y_{i}$)|\n",
        "|---|---|---|---|\n",
        "| 0 | 0 | 0 | 0 |\n",
        "| 1 | 0 | 1 | 1 |\n",
        "| 2 | 1 | 0 | 1 |\n",
        "| 3 | 1 | 1 | 0 |"
      ]
    },
    {
      "cell_type": "markdown",
      "metadata": {
        "id": "KusCpN1S4CtH",
        "colab_type": "text"
      },
      "source": [
        "Vamos obedecer os _steps_ a seguir para construir nossa Rede Neural:\n",
        "\n",
        "1. Carregar as bibliotecas do Python e Tensorflow;\n",
        "2. Carregar os dados para treinar a Rede Neural;\n",
        "3. Definir a arquitetura da Rede Neural com Tensorflow/Keras;\n",
        "4. Compilar a Rede Neural;\n",
        "5. Ajustar a Rede Neural;\n",
        "6. Avaliar a performance da Rede Neural;\n",
        "7. _Fine tuning_ da Rede Neural;\n",
        "8. Fazer Predições com a Rede Neural;\n",
        "9. Conclusões."
      ]
    },
    {
      "cell_type": "markdown",
      "metadata": {
        "id": "mq7pF8854cf6",
        "colab_type": "text"
      },
      "source": [
        "### 1. Carregar as bibliotecas do Python e Tensorflow"
      ]
    },
    {
      "cell_type": "markdown",
      "metadata": {
        "id": "Br4REluttJXH",
        "colab_type": "text"
      },
      "source": [
        "[**Python**] - Importar as bibliotecas necessárias:"
      ]
    },
    {
      "cell_type": "code",
      "metadata": {
        "id": "W-1jl_vnP7n3",
        "colab_type": "code",
        "colab": {}
      },
      "source": [
        "import numpy as np\n",
        "import pandas as pd\n",
        "import tensorflow as tf\n",
        "from tensorflow import keras"
      ],
      "execution_count": 0,
      "outputs": []
    },
    {
      "cell_type": "markdown",
      "metadata": {
        "colab_type": "text",
        "id": "UA_bHIYOrNwy"
      },
      "source": [
        "[**Python**] - Verificar a versão do Tensorflow\n",
        "> Assegurar que está a utilizar a versão 2.x."
      ]
    },
    {
      "cell_type": "code",
      "metadata": {
        "id": "ApSwaqVbQVGx",
        "colab_type": "code",
        "outputId": "cd703086-75f5-4c6a-8419-bea23156e751",
        "colab": {
          "base_uri": "https://localhost:8080/",
          "height": 34
        }
      },
      "source": [
        "tf.__version__"
      ],
      "execution_count": 0,
      "outputs": [
        {
          "output_type": "execute_result",
          "data": {
            "text/plain": [
              "'2.2.0-rc3'"
            ]
          },
          "metadata": {
            "tags": []
          },
          "execution_count": 276
        }
      ]
    },
    {
      "cell_type": "markdown",
      "metadata": {
        "id": "CH37RXFLtPpB",
        "colab_type": "text"
      },
      "source": [
        "[**Python**] - Definir o número de casas decimais= 3"
      ]
    },
    {
      "cell_type": "code",
      "metadata": {
        "id": "Pzdu5btatTom",
        "colab_type": "code",
        "colab": {}
      },
      "source": [
        "np.set_printoptions(precision= 3)"
      ],
      "execution_count": 0,
      "outputs": []
    },
    {
      "cell_type": "markdown",
      "metadata": {
        "id": "5YbKhVkd4sm2",
        "colab_type": "text"
      },
      "source": [
        "### 2. Carregar os dados para treinar a Rede Neural\n",
        "\n",
        "Segue abaixo o dataframe do Operador Lógico XOR:\n",
        "\n",
        "| i | $X_{1}$ | $X_{2}$ | ValorReal ($Y_{i}$)|\n",
        "|---|---|---|---|\n",
        "| 0 | 0 | 0 | 0 |\n",
        "| 1 | 0 | 1 | 1 |\n",
        "| 2 | 1 | 0 | 1 |\n",
        "| 3 | 1 | 1 | 0 |"
      ]
    },
    {
      "cell_type": "markdown",
      "metadata": {
        "id": "3uojCCMaWgtI",
        "colab_type": "text"
      },
      "source": [
        "[**Python**] - Definir as entradas (_inputs_) $X$:"
      ]
    },
    {
      "cell_type": "code",
      "metadata": {
        "id": "nTbtpKKdQh9M",
        "colab_type": "code",
        "outputId": "0a6aa1d1-712f-4152-b17c-5691ea5140f1",
        "colab": {
          "base_uri": "https://localhost:8080/",
          "height": 85
        }
      },
      "source": [
        "X_XOR= np.array([[0, 0], [0, 1], [1, 0], [1, 1]])\n",
        "X_XOR"
      ],
      "execution_count": 0,
      "outputs": [
        {
          "output_type": "execute_result",
          "data": {
            "text/plain": [
              "array([[0, 0],\n",
              "       [0, 1],\n",
              "       [1, 0],\n",
              "       [1, 1]])"
            ]
          },
          "metadata": {
            "tags": []
          },
          "execution_count": 278
        }
      ]
    },
    {
      "cell_type": "markdown",
      "metadata": {
        "id": "7hc1pYW-WsCp",
        "colab_type": "text"
      },
      "source": [
        "[**Python**] - Definir os _Outputs_ $Y$:"
      ]
    },
    {
      "cell_type": "code",
      "metadata": {
        "id": "Gj4zl-JdQ0nR",
        "colab_type": "code",
        "outputId": "c616af67-a681-47fa-c1b9-9ebcd30c1789",
        "colab": {
          "base_uri": "https://localhost:8080/",
          "height": 85
        }
      },
      "source": [
        "Y_XOR= np.array([[0], [1], [1], [0]])\n",
        "Y_XOR"
      ],
      "execution_count": 0,
      "outputs": [
        {
          "output_type": "execute_result",
          "data": {
            "text/plain": [
              "array([[0],\n",
              "       [1],\n",
              "       [1],\n",
              "       [0]])"
            ]
          },
          "metadata": {
            "tags": []
          },
          "execution_count": 279
        }
      ]
    },
    {
      "cell_type": "markdown",
      "metadata": {
        "id": "2WF73gTMZtN-",
        "colab_type": "text"
      },
      "source": [
        "### 3. Conceito importante: _Fully connected layer_\n",
        "\n",
        "> A arquitetura da Rede Neural abaixo é dita _fully connected_, ou seja, os neurônios da camada anterior se conecta com todos os neurônios da camada subsequente. Observe a figura a seguir:\n",
        "\n",
        "<img src=\"https://github.com/MathMachado/Materials/blob/master/RNA_Multicamada.png?raw=true\" alt=\"Drawing\" width= \"800\"/>"
      ]
    },
    {
      "cell_type": "markdown",
      "metadata": {
        "id": "7X5eys3mxsl2",
        "colab_type": "text"
      },
      "source": [
        "#### Arquitetura da Rede Neural\n",
        "\n",
        "> A seguir, a arquitetura da Rede Neural que vamos desenvolver neste exemplo:\n",
        "\n",
        "<img src=\"https://github.com/MathMachado/Materials/blob/master/RNA_Generic1.png?raw=true\" alt=\"Drawing\" width= \"800\"/>"
      ]
    },
    {
      "cell_type": "markdown",
      "metadata": {
        "id": "QpmtGEFgWzhk",
        "colab_type": "text"
      },
      "source": [
        "[**Python**] - Definir a arquitetura, ou seja:\n",
        "* $N_{I}$: Número de neurônios na camada de entrada (_Input Layer_);\n",
        "* $N_{O}$: Número de neurônios na camada de saída (_Output Layer_);\n",
        "* $N_{H}$: Número de neurônios na camada escondida (_Hidden Layer_);\n",
        "* FA: Função de ativação:\n",
        "    * _Hidden Layer_: Há várias opções que podem ser usadas, mas vou tentar resolver este exemplo com a função de ativação _Sigmoid_, que foi a função de ativação que foi a opção escolhida quando explicamos Redes Neurais passo a passo.\n",
        "    * _Output Layer_: Os valores de $Y_{i}$ do dataframe são binários. Portanto, nossa opção para função de ativação para a _Output Layer_ é usar a função de ativação _Sigmoid_."
      ]
    },
    {
      "cell_type": "code",
      "metadata": {
        "id": "Id_P910LRRb4",
        "colab_type": "code",
        "colab": {}
      },
      "source": [
        "# Número de Neurônios na Input Layer:\n",
        "N_I= 2\n",
        "\n",
        "# Número de neurônios na Output Layer:\n",
        "N_O= 1\n",
        "\n",
        "# Número de neurônios na Hidden Layer:\n",
        "N_H= 3\n",
        "\n",
        "# Função de Ativação da Hidden Layer:\n",
        "FA_H= tf.keras.activations.sigmoid\n",
        "\n",
        "# Função de Ativação da Output Layer\n",
        "FA_O= tf.keras.activations.sigmoid"
      ],
      "execution_count": 0,
      "outputs": []
    },
    {
      "cell_type": "markdown",
      "metadata": {
        "id": "n6s9RcjLXqQm",
        "colab_type": "text"
      },
      "source": [
        "[**Python**] - Definir as sementes para NumPy e Tensorflow:\n",
        "> Por questões de reproducibilidade de resultados, use as sementes abaixo:\n",
        "\n",
        "* NumPy: 20111974;\n",
        "* Tensorflow: 20111974;"
      ]
    },
    {
      "cell_type": "code",
      "metadata": {
        "id": "3DizOTqQR6-U",
        "colab_type": "code",
        "colab": {}
      },
      "source": [
        "np.random.seed(20111974)\n",
        "tf.random.set_seed(20111974)"
      ],
      "execution_count": 0,
      "outputs": []
    },
    {
      "cell_type": "markdown",
      "metadata": {
        "id": "vdcdcNncYB15",
        "colab_type": "text"
      },
      "source": [
        "[**Python**] - Definir a Rede Neural:"
      ]
    },
    {
      "cell_type": "markdown",
      "metadata": {
        "id": "E8KJ0f70HEwN",
        "colab_type": "text"
      },
      "source": [
        "**Observação**:\n",
        "\n",
        "* A opção kernel_constraint= tf.keras.constraints.UnitNorm() será utilizada para reduzir _overfitting_, conforme sugere o artigo [How to Reduce Overfitting Using Weight Constraints in Keras](https://machinelearningmastery.com/how-to-reduce-overfitting-in-deep-neural-networks-with-weight-constraints-in-keras/);."
      ]
    },
    {
      "cell_type": "code",
      "metadata": {
        "id": "-LYbXfEZYNcC",
        "colab_type": "code",
        "outputId": "31e83547-7640-4315-d7f4-557bc2f8900e",
        "colab": {
          "base_uri": "https://localhost:8080/",
          "height": 238
        }
      },
      "source": [
        "from tensorflow.keras import Sequential\n",
        "from tensorflow.keras.layers import Dense\n",
        "\n",
        "RN= Sequential()\n",
        "RN.add(Dense(units= N_H, input_dim= N_I, activation= FA_H, kernel_constraint= tf.keras.constraints.UnitNorm()))\n",
        "RN.add(Dense(units= N_O, activation= FA_O))\n",
        "\n",
        "# Resumo da arquitetura da Rede Neural:\n",
        "print(RN.summary())"
      ],
      "execution_count": 0,
      "outputs": [
        {
          "output_type": "stream",
          "text": [
            "Model: \"sequential_17\"\n",
            "_________________________________________________________________\n",
            "Layer (type)                 Output Shape              Param #   \n",
            "=================================================================\n",
            "dense_36 (Dense)             (None, 3)                 9         \n",
            "_________________________________________________________________\n",
            "dense_37 (Dense)             (None, 1)                 4         \n",
            "=================================================================\n",
            "Total params: 13\n",
            "Trainable params: 13\n",
            "Non-trainable params: 0\n",
            "_________________________________________________________________\n",
            "None\n"
          ],
          "name": "stdout"
        }
      ]
    },
    {
      "cell_type": "markdown",
      "metadata": {
        "id": "OoA-_8A55jMW",
        "colab_type": "text"
      },
      "source": [
        "### 4. Compilar a Rede Neural\n",
        "\n",
        "> Adam é um algoritmo de otimização.\n",
        "\n",
        "Para saber mais sobre o algoritmo de otimização 'adam', consulte o artigo [Gentle Introduction to the Adam Optimization Algorithm for Deep Learning](https://machinelearningmastery.com/adam-optimization-algorithm-for-deep-learning/).\n",
        "\n"
      ]
    },
    {
      "cell_type": "markdown",
      "metadata": {
        "id": "ifkjrCT6Yki6",
        "colab_type": "text"
      },
      "source": [
        "[**Python**] - Comando modelo.compile(optimizer, loss, metrics):\n"
      ]
    },
    {
      "cell_type": "code",
      "metadata": {
        "id": "OdIerBPAUGbY",
        "colab_type": "code",
        "colab": {}
      },
      "source": [
        "Algoritmo_Opt= tf.keras.optimizers.Adam()\n",
        "Loss_Function= tf.keras.losses.MeanSquaredError()\n",
        "Metrics_Perf= [tf.keras.metrics.binary_accuracy]\n",
        "\n",
        "RN.compile(optimizer= Algoritmo_Opt, loss= Loss_Function, metrics= Metrics_Perf)"
      ],
      "execution_count": 0,
      "outputs": []
    },
    {
      "cell_type": "markdown",
      "metadata": {
        "id": "KVx2w28c5urj",
        "colab_type": "text"
      },
      "source": [
        "### 5. Ajustar a Rede Neural\n",
        "\n",
        "* 1 _Epoch_ = 1 iteração da Rede Neural, passando por todo o dataframe de treinamento, sendo que 1 iteração contempla 1 processo _Forward_ e 1 processo _Backward_."
      ]
    },
    {
      "cell_type": "markdown",
      "metadata": {
        "id": "ZV3XwUJ8YvxE",
        "colab_type": "text"
      },
      "source": [
        "[**Python**] - Comando modelo.fit(X_Treinamento, Y_Treinamento, epochs):"
      ]
    },
    {
      "cell_type": "code",
      "metadata": {
        "id": "45inZ8X3U0Ew",
        "colab_type": "code",
        "outputId": "9e7fec5d-4e6a-4e32-8560-7c3311ded9ce",
        "colab": {
          "base_uri": "https://localhost:8080/",
          "height": 1000
        }
      },
      "source": [
        "hist= RN.fit(X_XOR, Y_XOR, epochs= 100)"
      ],
      "execution_count": 0,
      "outputs": [
        {
          "output_type": "stream",
          "text": [
            "Epoch 1/100\n",
            "1/1 [==============================] - 0s 1ms/step - loss: 0.2531 - binary_accuracy: 0.7500\n",
            "Epoch 2/100\n",
            "1/1 [==============================] - 0s 2ms/step - loss: 0.2527 - binary_accuracy: 0.5000\n",
            "Epoch 3/100\n",
            "1/1 [==============================] - 0s 2ms/step - loss: 0.2526 - binary_accuracy: 0.5000\n",
            "Epoch 4/100\n",
            "1/1 [==============================] - 0s 2ms/step - loss: 0.2526 - binary_accuracy: 0.5000\n",
            "Epoch 5/100\n",
            "1/1 [==============================] - 0s 1ms/step - loss: 0.2526 - binary_accuracy: 0.5000\n",
            "Epoch 6/100\n",
            "1/1 [==============================] - 0s 2ms/step - loss: 0.2526 - binary_accuracy: 0.5000\n",
            "Epoch 7/100\n",
            "1/1 [==============================] - 0s 2ms/step - loss: 0.2525 - binary_accuracy: 0.5000\n",
            "Epoch 8/100\n",
            "1/1 [==============================] - 0s 1ms/step - loss: 0.2525 - binary_accuracy: 0.5000\n",
            "Epoch 9/100\n",
            "1/1 [==============================] - 0s 2ms/step - loss: 0.2525 - binary_accuracy: 0.5000\n",
            "Epoch 10/100\n",
            "1/1 [==============================] - 0s 2ms/step - loss: 0.2525 - binary_accuracy: 0.5000\n",
            "Epoch 11/100\n",
            "1/1 [==============================] - 0s 1ms/step - loss: 0.2525 - binary_accuracy: 0.5000\n",
            "Epoch 12/100\n",
            "1/1 [==============================] - 0s 2ms/step - loss: 0.2524 - binary_accuracy: 0.5000\n",
            "Epoch 13/100\n",
            "1/1 [==============================] - 0s 1ms/step - loss: 0.2524 - binary_accuracy: 0.5000\n",
            "Epoch 14/100\n",
            "1/1 [==============================] - 0s 1ms/step - loss: 0.2524 - binary_accuracy: 0.5000\n",
            "Epoch 15/100\n",
            "1/1 [==============================] - 0s 2ms/step - loss: 0.2524 - binary_accuracy: 0.5000\n",
            "Epoch 16/100\n",
            "1/1 [==============================] - 0s 2ms/step - loss: 0.2524 - binary_accuracy: 0.5000\n",
            "Epoch 17/100\n",
            "1/1 [==============================] - 0s 2ms/step - loss: 0.2523 - binary_accuracy: 0.5000\n",
            "Epoch 18/100\n",
            "1/1 [==============================] - 0s 2ms/step - loss: 0.2523 - binary_accuracy: 0.5000\n",
            "Epoch 19/100\n",
            "1/1 [==============================] - 0s 2ms/step - loss: 0.2523 - binary_accuracy: 0.5000\n",
            "Epoch 20/100\n",
            "1/1 [==============================] - 0s 2ms/step - loss: 0.2523 - binary_accuracy: 0.5000\n",
            "Epoch 21/100\n",
            "1/1 [==============================] - 0s 2ms/step - loss: 0.2523 - binary_accuracy: 0.5000\n",
            "Epoch 22/100\n",
            "1/1 [==============================] - 0s 2ms/step - loss: 0.2523 - binary_accuracy: 0.5000\n",
            "Epoch 23/100\n",
            "1/1 [==============================] - 0s 2ms/step - loss: 0.2522 - binary_accuracy: 0.5000\n",
            "Epoch 24/100\n",
            "1/1 [==============================] - 0s 2ms/step - loss: 0.2522 - binary_accuracy: 0.5000\n",
            "Epoch 25/100\n",
            "1/1 [==============================] - 0s 2ms/step - loss: 0.2522 - binary_accuracy: 0.5000\n",
            "Epoch 26/100\n",
            "1/1 [==============================] - 0s 2ms/step - loss: 0.2522 - binary_accuracy: 0.5000\n",
            "Epoch 27/100\n",
            "1/1 [==============================] - 0s 2ms/step - loss: 0.2522 - binary_accuracy: 0.5000\n",
            "Epoch 28/100\n",
            "1/1 [==============================] - 0s 2ms/step - loss: 0.2522 - binary_accuracy: 0.5000\n",
            "Epoch 29/100\n",
            "1/1 [==============================] - 0s 2ms/step - loss: 0.2522 - binary_accuracy: 0.5000\n",
            "Epoch 30/100\n",
            "1/1 [==============================] - 0s 3ms/step - loss: 0.2522 - binary_accuracy: 0.5000\n",
            "Epoch 31/100\n",
            "1/1 [==============================] - 0s 2ms/step - loss: 0.2521 - binary_accuracy: 0.5000\n",
            "Epoch 32/100\n",
            "1/1 [==============================] - 0s 2ms/step - loss: 0.2521 - binary_accuracy: 0.5000\n",
            "Epoch 33/100\n",
            "1/1 [==============================] - 0s 2ms/step - loss: 0.2521 - binary_accuracy: 0.5000\n",
            "Epoch 34/100\n",
            "1/1 [==============================] - 0s 2ms/step - loss: 0.2521 - binary_accuracy: 0.5000\n",
            "Epoch 35/100\n",
            "1/1 [==============================] - 0s 2ms/step - loss: 0.2521 - binary_accuracy: 0.5000\n",
            "Epoch 36/100\n",
            "1/1 [==============================] - 0s 2ms/step - loss: 0.2521 - binary_accuracy: 0.5000\n",
            "Epoch 37/100\n",
            "1/1 [==============================] - 0s 2ms/step - loss: 0.2521 - binary_accuracy: 0.5000\n",
            "Epoch 38/100\n",
            "1/1 [==============================] - 0s 2ms/step - loss: 0.2521 - binary_accuracy: 0.5000\n",
            "Epoch 39/100\n",
            "1/1 [==============================] - 0s 2ms/step - loss: 0.2521 - binary_accuracy: 0.5000\n",
            "Epoch 40/100\n",
            "1/1 [==============================] - 0s 2ms/step - loss: 0.2521 - binary_accuracy: 0.5000\n",
            "Epoch 41/100\n",
            "1/1 [==============================] - 0s 2ms/step - loss: 0.2520 - binary_accuracy: 0.5000\n",
            "Epoch 42/100\n",
            "1/1 [==============================] - 0s 2ms/step - loss: 0.2520 - binary_accuracy: 0.5000\n",
            "Epoch 43/100\n",
            "1/1 [==============================] - 0s 2ms/step - loss: 0.2520 - binary_accuracy: 0.5000\n",
            "Epoch 44/100\n",
            "1/1 [==============================] - 0s 2ms/step - loss: 0.2520 - binary_accuracy: 0.5000\n",
            "Epoch 45/100\n",
            "1/1 [==============================] - 0s 2ms/step - loss: 0.2520 - binary_accuracy: 0.5000\n",
            "Epoch 46/100\n",
            "1/1 [==============================] - 0s 2ms/step - loss: 0.2520 - binary_accuracy: 0.5000\n",
            "Epoch 47/100\n",
            "1/1 [==============================] - 0s 2ms/step - loss: 0.2520 - binary_accuracy: 0.5000\n",
            "Epoch 48/100\n",
            "1/1 [==============================] - 0s 2ms/step - loss: 0.2520 - binary_accuracy: 0.5000\n",
            "Epoch 49/100\n",
            "1/1 [==============================] - 0s 2ms/step - loss: 0.2520 - binary_accuracy: 0.5000\n",
            "Epoch 50/100\n",
            "1/1 [==============================] - 0s 2ms/step - loss: 0.2520 - binary_accuracy: 0.5000\n",
            "Epoch 51/100\n",
            "1/1 [==============================] - 0s 2ms/step - loss: 0.2519 - binary_accuracy: 0.5000\n",
            "Epoch 52/100\n",
            "1/1 [==============================] - 0s 2ms/step - loss: 0.2519 - binary_accuracy: 0.5000\n",
            "Epoch 53/100\n",
            "1/1 [==============================] - 0s 2ms/step - loss: 0.2519 - binary_accuracy: 0.5000\n",
            "Epoch 54/100\n",
            "1/1 [==============================] - 0s 2ms/step - loss: 0.2519 - binary_accuracy: 0.5000\n",
            "Epoch 55/100\n",
            "1/1 [==============================] - 0s 2ms/step - loss: 0.2519 - binary_accuracy: 0.5000\n",
            "Epoch 56/100\n",
            "1/1 [==============================] - 0s 2ms/step - loss: 0.2519 - binary_accuracy: 0.5000\n",
            "Epoch 57/100\n",
            "1/1 [==============================] - 0s 2ms/step - loss: 0.2519 - binary_accuracy: 0.5000\n",
            "Epoch 58/100\n",
            "1/1 [==============================] - 0s 2ms/step - loss: 0.2519 - binary_accuracy: 0.5000\n",
            "Epoch 59/100\n",
            "1/1 [==============================] - 0s 2ms/step - loss: 0.2519 - binary_accuracy: 0.5000\n",
            "Epoch 60/100\n",
            "1/1 [==============================] - 0s 2ms/step - loss: 0.2519 - binary_accuracy: 0.5000\n",
            "Epoch 61/100\n",
            "1/1 [==============================] - 0s 2ms/step - loss: 0.2519 - binary_accuracy: 0.5000\n",
            "Epoch 62/100\n",
            "1/1 [==============================] - 0s 2ms/step - loss: 0.2518 - binary_accuracy: 0.5000\n",
            "Epoch 63/100\n",
            "1/1 [==============================] - 0s 2ms/step - loss: 0.2518 - binary_accuracy: 0.5000\n",
            "Epoch 64/100\n",
            "1/1 [==============================] - 0s 2ms/step - loss: 0.2518 - binary_accuracy: 0.5000\n",
            "Epoch 65/100\n",
            "1/1 [==============================] - 0s 1ms/step - loss: 0.2518 - binary_accuracy: 0.5000\n",
            "Epoch 66/100\n",
            "1/1 [==============================] - 0s 2ms/step - loss: 0.2518 - binary_accuracy: 0.5000\n",
            "Epoch 67/100\n",
            "1/1 [==============================] - 0s 2ms/step - loss: 0.2518 - binary_accuracy: 0.5000\n",
            "Epoch 68/100\n",
            "1/1 [==============================] - 0s 2ms/step - loss: 0.2518 - binary_accuracy: 0.5000\n",
            "Epoch 69/100\n",
            "1/1 [==============================] - 0s 2ms/step - loss: 0.2518 - binary_accuracy: 0.5000\n",
            "Epoch 70/100\n",
            "1/1 [==============================] - 0s 2ms/step - loss: 0.2518 - binary_accuracy: 0.5000\n",
            "Epoch 71/100\n",
            "1/1 [==============================] - 0s 2ms/step - loss: 0.2518 - binary_accuracy: 0.5000\n",
            "Epoch 72/100\n",
            "1/1 [==============================] - 0s 2ms/step - loss: 0.2517 - binary_accuracy: 0.5000\n",
            "Epoch 73/100\n",
            "1/1 [==============================] - 0s 2ms/step - loss: 0.2517 - binary_accuracy: 0.5000\n",
            "Epoch 74/100\n",
            "1/1 [==============================] - 0s 2ms/step - loss: 0.2517 - binary_accuracy: 0.5000\n",
            "Epoch 75/100\n",
            "1/1 [==============================] - 0s 2ms/step - loss: 0.2517 - binary_accuracy: 0.5000\n",
            "Epoch 76/100\n",
            "1/1 [==============================] - 0s 1ms/step - loss: 0.2517 - binary_accuracy: 0.5000\n",
            "Epoch 77/100\n",
            "1/1 [==============================] - 0s 2ms/step - loss: 0.2517 - binary_accuracy: 0.5000\n",
            "Epoch 78/100\n",
            "1/1 [==============================] - 0s 2ms/step - loss: 0.2517 - binary_accuracy: 0.5000\n",
            "Epoch 79/100\n",
            "1/1 [==============================] - 0s 2ms/step - loss: 0.2517 - binary_accuracy: 0.5000\n",
            "Epoch 80/100\n",
            "1/1 [==============================] - 0s 2ms/step - loss: 0.2517 - binary_accuracy: 0.5000\n",
            "Epoch 81/100\n",
            "1/1 [==============================] - 0s 2ms/step - loss: 0.2517 - binary_accuracy: 0.5000\n",
            "Epoch 82/100\n",
            "1/1 [==============================] - 0s 2ms/step - loss: 0.2517 - binary_accuracy: 0.5000\n",
            "Epoch 83/100\n",
            "1/1 [==============================] - 0s 2ms/step - loss: 0.2516 - binary_accuracy: 0.5000\n",
            "Epoch 84/100\n",
            "1/1 [==============================] - 0s 2ms/step - loss: 0.2516 - binary_accuracy: 0.5000\n",
            "Epoch 85/100\n",
            "1/1 [==============================] - 0s 2ms/step - loss: 0.2516 - binary_accuracy: 0.5000\n",
            "Epoch 86/100\n",
            "1/1 [==============================] - 0s 2ms/step - loss: 0.2516 - binary_accuracy: 0.5000\n",
            "Epoch 87/100\n",
            "1/1 [==============================] - 0s 2ms/step - loss: 0.2516 - binary_accuracy: 0.5000\n",
            "Epoch 88/100\n",
            "1/1 [==============================] - 0s 2ms/step - loss: 0.2516 - binary_accuracy: 0.5000\n",
            "Epoch 89/100\n",
            "1/1 [==============================] - 0s 2ms/step - loss: 0.2516 - binary_accuracy: 0.5000\n",
            "Epoch 90/100\n",
            "1/1 [==============================] - 0s 2ms/step - loss: 0.2516 - binary_accuracy: 0.5000\n",
            "Epoch 91/100\n",
            "1/1 [==============================] - 0s 2ms/step - loss: 0.2516 - binary_accuracy: 0.5000\n",
            "Epoch 92/100\n",
            "1/1 [==============================] - 0s 2ms/step - loss: 0.2516 - binary_accuracy: 0.5000\n",
            "Epoch 93/100\n",
            "1/1 [==============================] - 0s 2ms/step - loss: 0.2515 - binary_accuracy: 0.5000\n",
            "Epoch 94/100\n",
            "1/1 [==============================] - 0s 2ms/step - loss: 0.2515 - binary_accuracy: 0.5000\n",
            "Epoch 95/100\n",
            "1/1 [==============================] - 0s 2ms/step - loss: 0.2515 - binary_accuracy: 0.5000\n",
            "Epoch 96/100\n",
            "1/1 [==============================] - 0s 2ms/step - loss: 0.2515 - binary_accuracy: 0.5000\n",
            "Epoch 97/100\n",
            "1/1 [==============================] - 0s 2ms/step - loss: 0.2515 - binary_accuracy: 0.5000\n",
            "Epoch 98/100\n",
            "1/1 [==============================] - 0s 2ms/step - loss: 0.2515 - binary_accuracy: 0.5000\n",
            "Epoch 99/100\n",
            "1/1 [==============================] - 0s 2ms/step - loss: 0.2515 - binary_accuracy: 0.5000\n",
            "Epoch 100/100\n",
            "1/1 [==============================] - 0s 2ms/step - loss: 0.2515 - binary_accuracy: 0.5000\n"
          ],
          "name": "stdout"
        }
      ]
    },
    {
      "cell_type": "markdown",
      "metadata": {
        "id": "i1bUiekR5q1E",
        "colab_type": "text"
      },
      "source": [
        "### 6. Avaliar a performance da Rede Neural"
      ]
    },
    {
      "cell_type": "markdown",
      "metadata": {
        "id": "wBp4ctbKY8k7",
        "colab_type": "text"
      },
      "source": [
        "[**Python**] - Comando modelo.evaluate(X_Teste, Y_Teste):"
      ]
    },
    {
      "cell_type": "code",
      "metadata": {
        "id": "M4HlrjjjVLjB",
        "colab_type": "code",
        "outputId": "db2a123f-2cc6-488e-c275-775ebceaa7e5",
        "colab": {
          "base_uri": "https://localhost:8080/",
          "height": 51
        }
      },
      "source": [
        "RN.evaluate(X_XOR, Y_XOR)"
      ],
      "execution_count": 0,
      "outputs": [
        {
          "output_type": "stream",
          "text": [
            "1/1 [==============================] - 0s 2ms/step - loss: 0.2515 - binary_accuracy: 0.5000\n"
          ],
          "name": "stdout"
        },
        {
          "output_type": "execute_result",
          "data": {
            "text/plain": [
              "[0.25147074460983276, 0.5]"
            ]
          },
          "metadata": {
            "tags": []
          },
          "execution_count": 285
        }
      ]
    },
    {
      "cell_type": "markdown",
      "metadata": {
        "id": "iPwANO05VT5m",
        "colab_type": "text"
      },
      "source": [
        "**Resultado**: O modelo _baseline_ (modelo inicial) apresenta os seguintes resultados:\n",
        "* loss= 0.2515;\n",
        "* accuracy= 50%.\n",
        "\n",
        "* **Comentário**: A Rede Neural apresenta resultados insatisfatórios."
      ]
    },
    {
      "cell_type": "markdown",
      "metadata": {
        "id": "lD2pw9H754ZZ",
        "colab_type": "text"
      },
      "source": [
        "### 7. _Fine tuning_ da Rede Neural\n",
        "\n",
        "Antes de falarmos de _fine tuning_, vamos voltar a falar de CRISP-DM:\n",
        "\n",
        "CRISP-DM significa _Cross Industry Standard Process for Data Mining_ ou processos ou fases para desenvolvimento de projetos relacionados à _Data Mining_ e que tem sido muito utilizados pelos Cientistas de Dados para desenvolvimento de modelos predictivos.\n",
        "\n",
        "<img src=\"https://github.com/MathMachado/Materials/blob/master/CRISP-DM.png?raw=true\" alt=\"Drawing\" width= \"600\"/>\n",
        "\n",
        "Fonte: [The steps to a successful machine learning project](https://emba.epfl.ch/2018/04/10/steps-successful-machine-learning-project/)\n"
      ]
    },
    {
      "cell_type": "markdown",
      "metadata": {
        "id": "1ssJuKF3FNA3",
        "colab_type": "text"
      },
      "source": [
        "* CRISP-DM:\n",
        "    1. _Business Understanding_ (Entendimento do Negócio)\n",
        "        * Concentra-se no entendimento dos objetivos e requisitos do projeto sob uma perspectiva de negócios e, em seguida, na conversão desse conhecimento em uma definição de problema de mineração de dados e em um plano preliminar.\n",
        "\n",
        "    2. _Data Understanding_ (Entendimento/compreensão dos dados)\n",
        "        * Está relacionado com as atividades de extração de amostras para se familiarizar com os dados, identificar problemas de qualidade, descobrir as primeiras idéias ou detectar subconjuntos interessantes para formar hipóteses de informações ocultas.\n",
        "\n",
        "    3. _Data Preparation_ (Preparação de Dados)\n",
        "\n",
        "        * Abrange todas as atividades para construir o conjunto de dados final que será dividida entre amostra de treinamento e validação do modelo preditivo.\n",
        "\n",
        "    4. _Modeling_ (Modelagem)\n",
        "\n",
        "        * Nesta fase se avalia as possíveis técnicas que podem ser aplicadas.\n",
        "\n",
        "    5. _Evaluation_ (Avaliação do modelo)\n",
        "\n",
        "        * Após a construção do modelo _baseline_ (modelo inicial) e tendo _Loss Function_ pré-definidas, avalia-se ou testa-se a performance dos modelos preditivos (Redes Neurais, no nosso caso) para garantir que o modelo generaliza. De todos os modelos testados nesta fase, devemos selecionar o modelo campeão.\n",
        "\n",
        "    6. _Deployment_ (Implantação)\n",
        "\n",
        "        * Significa implementar o código do modelo em um sistema operacional para pontuar/escorar ou categorizar novos dados à medida que surgem e criar um mecanismo para o uso dessas novas informações na solução do problema comercial original. Importante, a representação de código também deve incluir todas as etapas de preparação de dados que antecederam a modelagem, para que o modelo trate novos dados brutos da mesma maneira que durante o desenvolvimento do modelo."
      ]
    },
    {
      "cell_type": "markdown",
      "metadata": {
        "id": "VrgiPmD3jw_o",
        "colab_type": "text"
      },
      "source": [
        "#### Estratégias para melhorar a acurácia da Rede Neural\n",
        "\n",
        "Nossas alternativas são:\n",
        "\n",
        "* a. Aumentar o número de neurônios na _Hidden Layer_;\n",
        "* b. Aumentar o número de _Hidden Layers_;\n",
        "* c. Aumentar o número de _Hidden Layers_ e o número de neurônios;\n",
        "* d. Alterar a função de ativação;\n",
        "* e. Aumentar o número de _epochs_;\n",
        "* f. Alterar o algoritmo de otimização (_optimizer_);\n",
        "\n",
        "Neste exemplo, depois de várias tentativas, obtive sucesso alterando os parâmetros a seguir: \n",
        "* Função de ativação: alterar para tf.keras.activations.relu;\n",
        "* Número de neurônios na camada escondida (_Hidden Layer_): aumentei para 64."
      ]
    },
    {
      "cell_type": "markdown",
      "metadata": {
        "id": "V81AQ9t8IA9D",
        "colab_type": "text"
      },
      "source": [
        "#### 7.3. Definir a arquitetura da Rede Neural com Tensorflow/Keras"
      ]
    },
    {
      "cell_type": "markdown",
      "metadata": {
        "colab_type": "text",
        "id": "yVhR55OoaWeX"
      },
      "source": [
        "[**Python**] - Definir a arquitetura, ou seja:\n",
        "* $N_{I}$: Número de neurônios na camada de entrada (_Input Layer_);\n",
        "* $N_{O}$: Número de neurônios na camada de saída (_Output Layer_);\n",
        "* $N_{H}$: Número de neurônios na camada escondida (_Hidden Layer_);\n",
        "* FA: Função de ativação:\n",
        "    * _Hidden Layer_: tf.keras.activations.relu;\n",
        "    * _Output Layer_: Os valores de $Y_{i}$ do dataframe são binários. Portanto, nossa opção para função de ativação para a _Output Layer_ é usar a função de ativação _Sigmoid_."
      ]
    },
    {
      "cell_type": "code",
      "metadata": {
        "colab_type": "code",
        "id": "R26Rf7x_aWeZ",
        "colab": {}
      },
      "source": [
        "# Número de Neurônios na Input Layer:\n",
        "N_I= 2 # NÃO FOI ALTERADA!\n",
        "\n",
        "# Número de neurônios na Output Layer:\n",
        "N_O= 1 # NÃO FOI ALTERADA!\n",
        "\n",
        "# VARIÁVEIS ALTERADAS:\n",
        "# Número de neurônios na Hidden Layer:\n",
        "N_H= 64\n",
        "\n",
        "# Função de Ativação da Hidden Layer:\n",
        "FA_H= tf.keras.activations.relu\n",
        "\n",
        "# Função de Ativação da Output Layer\n",
        "FA_O= tf.keras.activations.sigmoid"
      ],
      "execution_count": 0,
      "outputs": []
    },
    {
      "cell_type": "markdown",
      "metadata": {
        "colab_type": "text",
        "id": "LtQXjYnvIdJR"
      },
      "source": [
        "[**Python**] - Definir as sementes para NumPy e Tensorflow:\n",
        "> Por questões de reproducibilidade de resultados, use as sementes abaixo:\n",
        "\n",
        "* NumPy: 20111974;\n",
        "* Tensorflow: 20111974;"
      ]
    },
    {
      "cell_type": "code",
      "metadata": {
        "colab_type": "code",
        "id": "WSCCZ6BcIdJZ",
        "colab": {}
      },
      "source": [
        "np.random.seed(20111974)\n",
        "tf.random.set_seed(20111974)"
      ],
      "execution_count": 0,
      "outputs": []
    },
    {
      "cell_type": "markdown",
      "metadata": {
        "colab_type": "text",
        "id": "MwjdTXWNawSz"
      },
      "source": [
        "[**Python**] - Definir a Rede Neural:"
      ]
    },
    {
      "cell_type": "markdown",
      "metadata": {
        "colab_type": "text",
        "id": "OWpJNRQjIRA4"
      },
      "source": [
        "**Observações**: \n",
        "\n",
        "Para evitar problemas relacionados ao _overfitting_ e _Vanishing or Exploding Gradients in Deep Neural Nets_, os artigos abaixo sugerem as seguintes opções para inicialização dos pesos $W$:\n",
        "\n",
        "* [How to Reduce Overfitting Using Weight Constraints in Keras](https://machinelearningmastery.com/how-to-reduce-overfitting-in-deep-neural-networks-with-weight-constraints-in-keras/) sugere:\n",
        "    * kernel_constraint= tf.keras.constraints.UnitNorm();\n",
        "* [Deep Learning Best Practices (1) — Weight Initialization](https://medium.com/usf-msds/deep-learning-best-practices-1-weight-initialization-14e5c0295b94) sugere:\n",
        "    * kernel_initializer= tf.keras.initializers.he_normal() para activation= 'tf.nn.relu' ou 'tf.nn.leaky_relu' e kernel_constraint= tf.keras.constraints.UnitNorm();\n",
        "* [Vanishing/ Exploding Gradients in Deep Neural Nets and solving them](https://medium.com/swlh/vanishing-exploding-gradients-in-deep-neural-nets-and-solving-them-9d6070f28b29) sugere:\n",
        "    * kernel_initializer= tf.keras.initializers.GlorotUniform();\n",
        "    * kernel_initializer= tf.keras.initializers.GlorotNormal()."
      ]
    },
    {
      "cell_type": "code",
      "metadata": {
        "colab_type": "code",
        "id": "khod_vL5awS2",
        "outputId": "49f29e78-c3f9-405c-b8eb-dfc663324065",
        "colab": {
          "base_uri": "https://localhost:8080/",
          "height": 238
        }
      },
      "source": [
        "from tensorflow.keras import Sequential\n",
        "from tensorflow.keras.layers import Dense\n",
        "from tensorflow.keras.layers import Dropout\n",
        "\n",
        "RN= Sequential()\n",
        "RN.add(Dense(units= N_H, input_dim= N_I, activation= FA_H, kernel_constraint= tf.keras.constraints.UnitNorm()))\n",
        "RN.add(Dense(units= N_O, activation= FA_O))\n",
        "\n",
        "print(RN.summary())"
      ],
      "execution_count": 0,
      "outputs": [
        {
          "output_type": "stream",
          "text": [
            "Model: \"sequential_18\"\n",
            "_________________________________________________________________\n",
            "Layer (type)                 Output Shape              Param #   \n",
            "=================================================================\n",
            "dense_38 (Dense)             (None, 64)                192       \n",
            "_________________________________________________________________\n",
            "dense_39 (Dense)             (None, 1)                 65        \n",
            "=================================================================\n",
            "Total params: 257\n",
            "Trainable params: 257\n",
            "Non-trainable params: 0\n",
            "_________________________________________________________________\n",
            "None\n"
          ],
          "name": "stdout"
        }
      ]
    },
    {
      "cell_type": "markdown",
      "metadata": {
        "colab_type": "text",
        "id": "8V5EygkgIRA8"
      },
      "source": [
        "#### 7.4. Compilar a Rede Neural\n",
        "\n",
        "> Adam é um algoritmo de otimização.\n",
        "\n",
        "Para saber mais sobre 'adam', consulte o artigo [Gentle Introduction to the Adam Optimization Algorithm for Deep Learning](https://machinelearningmastery.com/adam-optimization-algorithm-for-deep-learning/).\n",
        "\n"
      ]
    },
    {
      "cell_type": "markdown",
      "metadata": {
        "colab_type": "text",
        "id": "aEgVJAInbFW0"
      },
      "source": [
        "[**Python**] - Comando modelo.compile(optimizer, loss, metrics):\n"
      ]
    },
    {
      "cell_type": "code",
      "metadata": {
        "id": "FRhAlexLW29o",
        "colab_type": "code",
        "colab": {}
      },
      "source": [
        "Algoritmo_Opt= tf.keras.optimizers.Adam()\n",
        "Loss_Function= tf.keras.losses.MeanSquaredError()\n",
        "Metrics_Perf= [tf.keras.metrics.binary_accuracy]\n",
        "\n",
        "RN.compile(optimizer= Algoritmo_Opt, loss= Loss_Function, metrics= Metrics_Perf)"
      ],
      "execution_count": 0,
      "outputs": []
    },
    {
      "cell_type": "markdown",
      "metadata": {
        "colab_type": "text",
        "id": "jxpOHzSKIRA-"
      },
      "source": [
        "#### 7.5. Ajustar a Rede Neural\n",
        "\n",
        "1 _Epoch_ = 1 iteração da Rede Neural, passando por todo o dataframe de treinamento, sendo que 1 iteração contempla 1 processo _Forward_ e 1 processo _Backward_."
      ]
    },
    {
      "cell_type": "markdown",
      "metadata": {
        "colab_type": "text",
        "id": "o-1iqXLabR4O"
      },
      "source": [
        "[**Python**] - Comando modelo.fit(X_Treinamento, Y_Treinamento, epochs):"
      ]
    },
    {
      "cell_type": "code",
      "metadata": {
        "id": "vqyeqpq5XGAm",
        "colab_type": "code",
        "outputId": "f0854052-4bcc-48c2-9e5d-687f153511d6",
        "colab": {
          "base_uri": "https://localhost:8080/",
          "height": 1000
        }
      },
      "source": [
        "RN.fit(X_XOR, Y_XOR, epochs= 100)"
      ],
      "execution_count": 0,
      "outputs": [
        {
          "output_type": "stream",
          "text": [
            "Epoch 1/100\n",
            "1/1 [==============================] - 0s 1ms/step - loss: 0.2581 - binary_accuracy: 0.5000\n",
            "Epoch 2/100\n",
            "1/1 [==============================] - 0s 1ms/step - loss: 0.2617 - binary_accuracy: 0.2500\n",
            "Epoch 3/100\n",
            "1/1 [==============================] - 0s 1ms/step - loss: 0.2601 - binary_accuracy: 0.2500\n",
            "Epoch 4/100\n",
            "1/1 [==============================] - 0s 1ms/step - loss: 0.2585 - binary_accuracy: 0.2500\n",
            "Epoch 5/100\n",
            "1/1 [==============================] - 0s 2ms/step - loss: 0.2570 - binary_accuracy: 0.2500\n",
            "Epoch 6/100\n",
            "1/1 [==============================] - 0s 1ms/step - loss: 0.2555 - binary_accuracy: 0.2500\n",
            "Epoch 7/100\n",
            "1/1 [==============================] - 0s 1ms/step - loss: 0.2541 - binary_accuracy: 0.2500\n",
            "Epoch 8/100\n",
            "1/1 [==============================] - 0s 1ms/step - loss: 0.2527 - binary_accuracy: 0.0000e+00\n",
            "Epoch 9/100\n",
            "1/1 [==============================] - 0s 2ms/step - loss: 0.2513 - binary_accuracy: 0.5000\n",
            "Epoch 10/100\n",
            "1/1 [==============================] - 0s 2ms/step - loss: 0.2500 - binary_accuracy: 0.5000\n",
            "Epoch 11/100\n",
            "1/1 [==============================] - 0s 2ms/step - loss: 0.2488 - binary_accuracy: 0.5000\n",
            "Epoch 12/100\n",
            "1/1 [==============================] - 0s 2ms/step - loss: 0.2475 - binary_accuracy: 0.5000\n",
            "Epoch 13/100\n",
            "1/1 [==============================] - 0s 2ms/step - loss: 0.2462 - binary_accuracy: 0.5000\n",
            "Epoch 14/100\n",
            "1/1 [==============================] - 0s 2ms/step - loss: 0.2449 - binary_accuracy: 0.5000\n",
            "Epoch 15/100\n",
            "1/1 [==============================] - 0s 2ms/step - loss: 0.2437 - binary_accuracy: 0.5000\n",
            "Epoch 16/100\n",
            "1/1 [==============================] - 0s 2ms/step - loss: 0.2424 - binary_accuracy: 0.5000\n",
            "Epoch 17/100\n",
            "1/1 [==============================] - 0s 2ms/step - loss: 0.2411 - binary_accuracy: 0.5000\n",
            "Epoch 18/100\n",
            "1/1 [==============================] - 0s 3ms/step - loss: 0.2397 - binary_accuracy: 0.5000\n",
            "Epoch 19/100\n",
            "1/1 [==============================] - 0s 2ms/step - loss: 0.2384 - binary_accuracy: 0.5000\n",
            "Epoch 20/100\n",
            "1/1 [==============================] - 0s 2ms/step - loss: 0.2371 - binary_accuracy: 0.5000\n",
            "Epoch 21/100\n",
            "1/1 [==============================] - 0s 2ms/step - loss: 0.2358 - binary_accuracy: 0.5000\n",
            "Epoch 22/100\n",
            "1/1 [==============================] - 0s 2ms/step - loss: 0.2344 - binary_accuracy: 0.5000\n",
            "Epoch 23/100\n",
            "1/1 [==============================] - 0s 2ms/step - loss: 0.2331 - binary_accuracy: 0.7500\n",
            "Epoch 24/100\n",
            "1/1 [==============================] - 0s 1ms/step - loss: 0.2318 - binary_accuracy: 0.7500\n",
            "Epoch 25/100\n",
            "1/1 [==============================] - 0s 1ms/step - loss: 0.2305 - binary_accuracy: 0.7500\n",
            "Epoch 26/100\n",
            "1/1 [==============================] - 0s 1ms/step - loss: 0.2292 - binary_accuracy: 0.7500\n",
            "Epoch 27/100\n",
            "1/1 [==============================] - 0s 2ms/step - loss: 0.2279 - binary_accuracy: 0.7500\n",
            "Epoch 28/100\n",
            "1/1 [==============================] - 0s 2ms/step - loss: 0.2266 - binary_accuracy: 0.7500\n",
            "Epoch 29/100\n",
            "1/1 [==============================] - 0s 2ms/step - loss: 0.2254 - binary_accuracy: 0.7500\n",
            "Epoch 30/100\n",
            "1/1 [==============================] - 0s 2ms/step - loss: 0.2241 - binary_accuracy: 0.7500\n",
            "Epoch 31/100\n",
            "1/1 [==============================] - 0s 2ms/step - loss: 0.2229 - binary_accuracy: 0.7500\n",
            "Epoch 32/100\n",
            "1/1 [==============================] - 0s 2ms/step - loss: 0.2216 - binary_accuracy: 1.0000\n",
            "Epoch 33/100\n",
            "1/1 [==============================] - 0s 3ms/step - loss: 0.2204 - binary_accuracy: 1.0000\n",
            "Epoch 34/100\n",
            "1/1 [==============================] - 0s 2ms/step - loss: 0.2191 - binary_accuracy: 1.0000\n",
            "Epoch 35/100\n",
            "1/1 [==============================] - 0s 3ms/step - loss: 0.2179 - binary_accuracy: 1.0000\n",
            "Epoch 36/100\n",
            "1/1 [==============================] - 0s 2ms/step - loss: 0.2166 - binary_accuracy: 1.0000\n",
            "Epoch 37/100\n",
            "1/1 [==============================] - 0s 2ms/step - loss: 0.2154 - binary_accuracy: 1.0000\n",
            "Epoch 38/100\n",
            "1/1 [==============================] - 0s 2ms/step - loss: 0.2141 - binary_accuracy: 1.0000\n",
            "Epoch 39/100\n",
            "1/1 [==============================] - 0s 2ms/step - loss: 0.2129 - binary_accuracy: 1.0000\n",
            "Epoch 40/100\n",
            "1/1 [==============================] - 0s 3ms/step - loss: 0.2116 - binary_accuracy: 1.0000\n",
            "Epoch 41/100\n",
            "1/1 [==============================] - 0s 3ms/step - loss: 0.2104 - binary_accuracy: 1.0000\n",
            "Epoch 42/100\n",
            "1/1 [==============================] - 0s 2ms/step - loss: 0.2092 - binary_accuracy: 1.0000\n",
            "Epoch 43/100\n",
            "1/1 [==============================] - 0s 2ms/step - loss: 0.2080 - binary_accuracy: 1.0000\n",
            "Epoch 44/100\n",
            "1/1 [==============================] - 0s 2ms/step - loss: 0.2068 - binary_accuracy: 1.0000\n",
            "Epoch 45/100\n",
            "1/1 [==============================] - 0s 2ms/step - loss: 0.2056 - binary_accuracy: 1.0000\n",
            "Epoch 46/100\n",
            "1/1 [==============================] - 0s 3ms/step - loss: 0.2044 - binary_accuracy: 1.0000\n",
            "Epoch 47/100\n",
            "1/1 [==============================] - 0s 3ms/step - loss: 0.2033 - binary_accuracy: 1.0000\n",
            "Epoch 48/100\n",
            "1/1 [==============================] - 0s 2ms/step - loss: 0.2021 - binary_accuracy: 1.0000\n",
            "Epoch 49/100\n",
            "1/1 [==============================] - 0s 2ms/step - loss: 0.2009 - binary_accuracy: 1.0000\n",
            "Epoch 50/100\n",
            "1/1 [==============================] - 0s 2ms/step - loss: 0.1998 - binary_accuracy: 1.0000\n",
            "Epoch 51/100\n",
            "1/1 [==============================] - 0s 2ms/step - loss: 0.1987 - binary_accuracy: 1.0000\n",
            "Epoch 52/100\n",
            "1/1 [==============================] - 0s 3ms/step - loss: 0.1975 - binary_accuracy: 1.0000\n",
            "Epoch 53/100\n",
            "1/1 [==============================] - 0s 3ms/step - loss: 0.1964 - binary_accuracy: 1.0000\n",
            "Epoch 54/100\n",
            "1/1 [==============================] - 0s 2ms/step - loss: 0.1953 - binary_accuracy: 1.0000\n",
            "Epoch 55/100\n",
            "1/1 [==============================] - 0s 2ms/step - loss: 0.1942 - binary_accuracy: 1.0000\n",
            "Epoch 56/100\n",
            "1/1 [==============================] - 0s 3ms/step - loss: 0.1931 - binary_accuracy: 1.0000\n",
            "Epoch 57/100\n",
            "1/1 [==============================] - 0s 2ms/step - loss: 0.1920 - binary_accuracy: 1.0000\n",
            "Epoch 58/100\n",
            "1/1 [==============================] - 0s 4ms/step - loss: 0.1909 - binary_accuracy: 1.0000\n",
            "Epoch 59/100\n",
            "1/1 [==============================] - 0s 2ms/step - loss: 0.1898 - binary_accuracy: 1.0000\n",
            "Epoch 60/100\n",
            "1/1 [==============================] - 0s 2ms/step - loss: 0.1888 - binary_accuracy: 1.0000\n",
            "Epoch 61/100\n",
            "1/1 [==============================] - 0s 2ms/step - loss: 0.1877 - binary_accuracy: 1.0000\n",
            "Epoch 62/100\n",
            "1/1 [==============================] - 0s 3ms/step - loss: 0.1867 - binary_accuracy: 1.0000\n",
            "Epoch 63/100\n",
            "1/1 [==============================] - 0s 2ms/step - loss: 0.1856 - binary_accuracy: 1.0000\n",
            "Epoch 64/100\n",
            "1/1 [==============================] - 0s 3ms/step - loss: 0.1846 - binary_accuracy: 1.0000\n",
            "Epoch 65/100\n",
            "1/1 [==============================] - 0s 2ms/step - loss: 0.1835 - binary_accuracy: 1.0000\n",
            "Epoch 66/100\n",
            "1/1 [==============================] - 0s 2ms/step - loss: 0.1825 - binary_accuracy: 1.0000\n",
            "Epoch 67/100\n",
            "1/1 [==============================] - 0s 2ms/step - loss: 0.1815 - binary_accuracy: 1.0000\n",
            "Epoch 68/100\n",
            "1/1 [==============================] - 0s 2ms/step - loss: 0.1805 - binary_accuracy: 1.0000\n",
            "Epoch 69/100\n",
            "1/1 [==============================] - 0s 2ms/step - loss: 0.1795 - binary_accuracy: 1.0000\n",
            "Epoch 70/100\n",
            "1/1 [==============================] - 0s 2ms/step - loss: 0.1785 - binary_accuracy: 1.0000\n",
            "Epoch 71/100\n",
            "1/1 [==============================] - 0s 2ms/step - loss: 0.1775 - binary_accuracy: 1.0000\n",
            "Epoch 72/100\n",
            "1/1 [==============================] - 0s 3ms/step - loss: 0.1765 - binary_accuracy: 1.0000\n",
            "Epoch 73/100\n",
            "1/1 [==============================] - 0s 3ms/step - loss: 0.1755 - binary_accuracy: 1.0000\n",
            "Epoch 74/100\n",
            "1/1 [==============================] - 0s 3ms/step - loss: 0.1745 - binary_accuracy: 1.0000\n",
            "Epoch 75/100\n",
            "1/1 [==============================] - 0s 2ms/step - loss: 0.1735 - binary_accuracy: 1.0000\n",
            "Epoch 76/100\n",
            "1/1 [==============================] - 0s 2ms/step - loss: 0.1726 - binary_accuracy: 1.0000\n",
            "Epoch 77/100\n",
            "1/1 [==============================] - 0s 2ms/step - loss: 0.1716 - binary_accuracy: 1.0000\n",
            "Epoch 78/100\n",
            "1/1 [==============================] - 0s 3ms/step - loss: 0.1707 - binary_accuracy: 1.0000\n",
            "Epoch 79/100\n",
            "1/1 [==============================] - 0s 2ms/step - loss: 0.1697 - binary_accuracy: 1.0000\n",
            "Epoch 80/100\n",
            "1/1 [==============================] - 0s 3ms/step - loss: 0.1688 - binary_accuracy: 1.0000\n",
            "Epoch 81/100\n",
            "1/1 [==============================] - 0s 2ms/step - loss: 0.1678 - binary_accuracy: 1.0000\n",
            "Epoch 82/100\n",
            "1/1 [==============================] - 0s 2ms/step - loss: 0.1669 - binary_accuracy: 1.0000\n",
            "Epoch 83/100\n",
            "1/1 [==============================] - 0s 3ms/step - loss: 0.1660 - binary_accuracy: 1.0000\n",
            "Epoch 84/100\n",
            "1/1 [==============================] - 0s 2ms/step - loss: 0.1651 - binary_accuracy: 1.0000\n",
            "Epoch 85/100\n",
            "1/1 [==============================] - 0s 2ms/step - loss: 0.1641 - binary_accuracy: 1.0000\n",
            "Epoch 86/100\n",
            "1/1 [==============================] - 0s 2ms/step - loss: 0.1632 - binary_accuracy: 1.0000\n",
            "Epoch 87/100\n",
            "1/1 [==============================] - 0s 2ms/step - loss: 0.1623 - binary_accuracy: 1.0000\n",
            "Epoch 88/100\n",
            "1/1 [==============================] - 0s 2ms/step - loss: 0.1614 - binary_accuracy: 1.0000\n",
            "Epoch 89/100\n",
            "1/1 [==============================] - 0s 2ms/step - loss: 0.1605 - binary_accuracy: 1.0000\n",
            "Epoch 90/100\n",
            "1/1 [==============================] - 0s 2ms/step - loss: 0.1596 - binary_accuracy: 1.0000\n",
            "Epoch 91/100\n",
            "1/1 [==============================] - 0s 2ms/step - loss: 0.1588 - binary_accuracy: 1.0000\n",
            "Epoch 92/100\n",
            "1/1 [==============================] - 0s 2ms/step - loss: 0.1579 - binary_accuracy: 1.0000\n",
            "Epoch 93/100\n",
            "1/1 [==============================] - 0s 2ms/step - loss: 0.1570 - binary_accuracy: 1.0000\n",
            "Epoch 94/100\n",
            "1/1 [==============================] - 0s 2ms/step - loss: 0.1561 - binary_accuracy: 1.0000\n",
            "Epoch 95/100\n",
            "1/1 [==============================] - 0s 2ms/step - loss: 0.1553 - binary_accuracy: 1.0000\n",
            "Epoch 96/100\n",
            "1/1 [==============================] - 0s 2ms/step - loss: 0.1544 - binary_accuracy: 1.0000\n",
            "Epoch 97/100\n",
            "1/1 [==============================] - 0s 2ms/step - loss: 0.1536 - binary_accuracy: 1.0000\n",
            "Epoch 98/100\n",
            "1/1 [==============================] - 0s 2ms/step - loss: 0.1527 - binary_accuracy: 1.0000\n",
            "Epoch 99/100\n",
            "1/1 [==============================] - 0s 2ms/step - loss: 0.1519 - binary_accuracy: 1.0000\n",
            "Epoch 100/100\n",
            "1/1 [==============================] - 0s 3ms/step - loss: 0.1510 - binary_accuracy: 1.0000\n"
          ],
          "name": "stdout"
        },
        {
          "output_type": "execute_result",
          "data": {
            "text/plain": [
              "<tensorflow.python.keras.callbacks.History at 0x7f75c9f3f630>"
            ]
          },
          "metadata": {
            "tags": []
          },
          "execution_count": 290
        }
      ]
    },
    {
      "cell_type": "markdown",
      "metadata": {
        "colab_type": "text",
        "id": "C25ZV-x4IRBB"
      },
      "source": [
        "#### 7.6. Avaliar a performance da Rede Neural"
      ]
    },
    {
      "cell_type": "markdown",
      "metadata": {
        "colab_type": "text",
        "id": "tCd2S65ubg_M"
      },
      "source": [
        "[**Python**] - Comando modelo.evaluate(X_Teste, Y_Teste):"
      ]
    },
    {
      "cell_type": "code",
      "metadata": {
        "id": "I8-Vr9lXXav4",
        "colab_type": "code",
        "outputId": "c808f7f4-55d7-4dd7-bc9d-888a8b80af51",
        "colab": {
          "base_uri": "https://localhost:8080/",
          "height": 51
        }
      },
      "source": [
        "RN.evaluate(X_XOR, Y_XOR)"
      ],
      "execution_count": 0,
      "outputs": [
        {
          "output_type": "stream",
          "text": [
            "1/1 [==============================] - 0s 1ms/step - loss: 0.1502 - binary_accuracy: 1.0000\n"
          ],
          "name": "stdout"
        },
        {
          "output_type": "execute_result",
          "data": {
            "text/plain": [
              "[0.1501958668231964, 1.0]"
            ]
          },
          "metadata": {
            "tags": []
          },
          "execution_count": 291
        }
      ]
    },
    {
      "cell_type": "markdown",
      "metadata": {
        "id": "6IqEhL-2Xj-t",
        "colab_type": "text"
      },
      "source": [
        "**Resultado**: O modelo após o _fine tuning_ apresenta os seguintes resultados:\n",
        "* loss= 0.1502;\n",
        "* accuracy= 100%.\n",
        "\n",
        "* **Comentário**: A Rede Neural apresenta resultados satisfatórios."
      ]
    },
    {
      "cell_type": "markdown",
      "metadata": {
        "id": "AZjDavkO58Pu",
        "colab_type": "text"
      },
      "source": [
        "### 8. Fazer Predições com a Rede Neural"
      ]
    },
    {
      "cell_type": "markdown",
      "metadata": {
        "colab_type": "text",
        "id": "HV4HkNDcbmJ2"
      },
      "source": [
        "[**Python**] - Comando RN.predict_classes(X_Treinamento):"
      ]
    },
    {
      "cell_type": "code",
      "metadata": {
        "colab_type": "code",
        "id": "aum69OJENO6V",
        "outputId": "cd9373d5-d9cf-47a3-e6d3-ffaad259394a",
        "colab": {
          "base_uri": "https://localhost:8080/",
          "height": 85
        }
      },
      "source": [
        "Y_Predito= RN.predict_classes(X_XOR)\n",
        "Y_Predito"
      ],
      "execution_count": 0,
      "outputs": [
        {
          "output_type": "execute_result",
          "data": {
            "text/plain": [
              "array([[0],\n",
              "       [1],\n",
              "       [1],\n",
              "       [0]], dtype=int32)"
            ]
          },
          "metadata": {
            "tags": []
          },
          "execution_count": 292
        }
      ]
    },
    {
      "cell_type": "code",
      "metadata": {
        "id": "rNogASabEhz8",
        "colab_type": "code",
        "outputId": "b9ddd911-d995-4b93-f4e9-ea18caa53772",
        "colab": {
          "base_uri": "https://localhost:8080/",
          "height": 85
        }
      },
      "source": [
        "Y_XOR"
      ],
      "execution_count": 0,
      "outputs": [
        {
          "output_type": "execute_result",
          "data": {
            "text/plain": [
              "array([[0],\n",
              "       [1],\n",
              "       [1],\n",
              "       [0]])"
            ]
          },
          "metadata": {
            "tags": []
          },
          "execution_count": 293
        }
      ]
    },
    {
      "cell_type": "markdown",
      "metadata": {
        "id": "8xaBkwD15-1d",
        "colab_type": "text"
      },
      "source": [
        "### 9. Conclusões"
      ]
    },
    {
      "cell_type": "markdown",
      "metadata": {
        "id": "UULwoI-9yPIs",
        "colab_type": "text"
      },
      "source": [
        "A Rede Neural final, após a fase de _fine tuning_ apresenta os resultados mostrados na sessão 7.6. Diante destes resultados, sugerimos avançarmos para a fase de _deployment_ da Rede Neural, conforme sugere o CRISP-DM."
      ]
    },
    {
      "cell_type": "markdown",
      "metadata": {
        "id": "uFK4SeM5TLOb",
        "colab_type": "text"
      },
      "source": [
        "### **Exercício**\n",
        "\n",
        "1. Experimente usar outras funções de ativação para a _Hidden Layer_, registre e reporte seus resultados. Para saber mais sobre quais funções de ativação podem ser usadas, consulte [Module: tf.keras.activations](https://www.tensorflow.org/api_docs/python/tf/keras/activations);\n",
        "\n",
        "2. Experimente usar outros algoritmos de otimização para treinar a Rede Neural, registre e reporte seus resultados. Para saber quais algoritmos podem ser usados, consulte [Module: tf.keras.optimizers](https://www.tensorflow.org/api_docs/python/tf/keras/optimizers).\n",
        "\n",
        "3. Neste exemplo, usamos o algoritmo de otimização 'adam'. Consulte a documentação sobre o 'adam' no Tensorflow/Keras e você verá que a sintaxe do algoritmo é:\n",
        "\n",
        "```\n",
        "tf.keras.optimizers.Adam(\n",
        "    learning_rate=0.001, beta_1=0.9, beta_2=0.999, epsilon=1e-07, amsgrad=False,\n",
        "    name='Adam', **kwargs\n",
        ")\n",
        "```\n",
        "\n",
        "Refaça o treinamento da Rede Neural alterando os valores da _Learning Rate_ e reporte seus resultados.\n",
        "\n"
      ]
    },
    {
      "cell_type": "markdown",
      "metadata": {
        "colab_type": "text",
        "id": "pyyiNwm6eeP4"
      },
      "source": [
        "___\n",
        "# **_ACTIVATION FUNCTION_**\n",
        "\n",
        "> As funções de ativação são uma importante parte das Redes Neurais, pois permitem às Redes Neurais a lidar com a não-linearidade existente na maioria dos problemas reais.\n",
        "\n",
        "As funções de ativação (_Activation Function_ em inglês) mais usadas são:\n",
        "* _Sigmoid_;\n",
        "* ReLU (_Rectified Linear Unit_);\n",
        "* Leaky ReLU;\n",
        "* _Generalized_ ReLU;\n",
        "* Tanh;\n",
        "* _Swish_.\n",
        "\n",
        "Os artigos a seguir discutem estas principais funções de ativação:\n",
        "* [Classical Neural Net: Why/Which Activations Functions?](https://towardsdatascience.com/classical-neural-net-why-which-activations-functions-401159ba01c4);\n",
        "* [Intermediate Topics in Neural Networks](https://towardsdatascience.com/comprehensive-introduction-to-neural-network-architecture-c08c6d8e5d98);\n",
        "* [Comparison of Activation Functions for Deep Neural Networks](https://towardsdatascience.com/comparison-of-activation-functions-for-deep-neural-networks-706ac4284c8a)."
      ]
    },
    {
      "cell_type": "markdown",
      "metadata": {
        "id": "F7jF5SToOKYC",
        "colab_type": "text"
      },
      "source": [
        "### Funções de ativação para _Hidden Layers_:\n",
        "\n",
        "Há várias funções de ativação que podem ser utilizadas na _Hidden Layer_. As principais são:\n",
        "\n",
        "* ReLU\n",
        "    * evita e corrige o problema conhecido como _vanishing gradient problem_, que é justamente o principal ponto fraco das funções de ativação _sigmoid_ e _tanh_. Este problema acontece porque algumas derivadas são zero para metade dos valores da entrada $X= [X_{1}, X_{2}, ..., X_{n}]$, o que pode levar ao que se chama de \"neurônios mortos\";\n",
        "    * Quase todos os modelos de _Deep Learning_ hoje usam ReLU que **deve ser usada somente para _Hidden Layers_ das Redes Neurais**. \n",
        "* Leaky ReLU\n",
        "    * Alternativa melhor que ReLU;\n",
        "* _Swish_\n",
        "    * esta é outra alternativa melhor que ReLU, proposta pelo Google em 2017;\n",
        "    * alguns artigos apontam melhoria dos resultados das Redes Neurais com _Swish_."
      ]
    },
    {
      "cell_type": "markdown",
      "metadata": {
        "id": "8dYvHeYbN_c4",
        "colab_type": "text"
      },
      "source": [
        "### Funções de ativação para _Output Layers_:\n",
        "\n",
        "A função de ativação da _Output Layer_ depende do problema:\n",
        "\n",
        "* _Sigmoid_ para problemas de classificação binária (2 classes).\n",
        "    * Exemplo: Dataframe: Titanic, pois queremos estimar se o passageiro morreu ou sobreviveu;\n",
        "* _Softmax_ para problemas de classificação multi-classes (> 2 classes).\n",
        "    * Exemplo: Dataframe: Iris, pois queremos estimar a espécie das flores, que são versicolor, virginica e setosa;\n",
        "* _Linear_ para problemas de regressão. \n",
        "    * Exemplo: Dataframe: Boston Housing Prediction, pois queremos estimar o preço das casas em Boston, que é uma variável contínua.\n",
        "\n",
        "\n",
        "O artigo [Comparison of Activation Functions for Deep Neural Networks](https://towardsdatascience.com/comparison-of-activation-functions-for-deep-neural-networks-706ac4284c8a) compara e discute as principais funções de ativação de forma pormenorizada."
      ]
    },
    {
      "cell_type": "markdown",
      "metadata": {
        "colab_type": "text",
        "id": "RcIh4qua_eEU"
      },
      "source": [
        "___\n",
        "# **APLICAÇÃO 1 - Rede Neural para identificar espécies (Iris Dataframe)**\n",
        "\n",
        "> A seguir, vamos desenvolver uma Rede Neural usando _Tensorflow_/_Keras_ para classificar flores (Iris). Nesta aplicação, vamos seguir os passos adiante:\n",
        "\n",
        "1. Carregar os dados;\n",
        "2. Pré-processamento e transformação dos dados;\n",
        "3. Definir as amostras de treinamento e validação;\n",
        "4. Definir a arquitetura da Rede Neural com _Tensorflow_/_Keras_;\n",
        "5. Compilar a Rede Neural;\n",
        "6. Ajustar a Rede Neural;\n",
        "7. Avaliar a performance da Rede Neural;\n",
        "8. _Fine tuning_ da Rede Neural;\n",
        "9. Fazer Predições com a Rede Neural;\n",
        "10. Conclusões."
      ]
    },
    {
      "cell_type": "markdown",
      "metadata": {
        "colab_type": "text",
        "id": "eXRYOpPR4XF4"
      },
      "source": [
        "### 0. Carregar bibliotecas do Python"
      ]
    },
    {
      "cell_type": "markdown",
      "metadata": {
        "colab_type": "text",
        "id": "pa0ir9C_dgOO"
      },
      "source": [
        "[**Python**] - Importar as bibliotecas necessárias:"
      ]
    },
    {
      "cell_type": "code",
      "metadata": {
        "colab_type": "code",
        "id": "yNYF_qzydgOR",
        "colab": {}
      },
      "source": [
        "import numpy as np\n",
        "import pandas as pd\n",
        "import matplotlib.pyplot as plt\n",
        "import seaborn as sns\n",
        "from sklearn.metrics import confusion_matrix\n",
        "\n",
        "from tensorflow import keras"
      ],
      "execution_count": 0,
      "outputs": []
    },
    {
      "cell_type": "markdown",
      "metadata": {
        "colab_type": "text",
        "id": "ird1VzZudgOU"
      },
      "source": [
        "[**Python**] - Definir o número de casas decimais"
      ]
    },
    {
      "cell_type": "code",
      "metadata": {
        "colab_type": "code",
        "id": "lwj9CGzEdgOV",
        "colab": {}
      },
      "source": [
        "np.set_printoptions(precision= 3)"
      ],
      "execution_count": 0,
      "outputs": []
    },
    {
      "cell_type": "markdown",
      "metadata": {
        "colab_type": "text",
        "id": "zmN5HGLOdgOa"
      },
      "source": [
        "[**Python**] - Verificar a versão do Tensorflow\n",
        "> Assegurar que está a utilizar a versão 2.x."
      ]
    },
    {
      "cell_type": "code",
      "metadata": {
        "colab_type": "code",
        "id": "VI86wuv9dgOa",
        "outputId": "ff84e8e0-9b2c-4a95-d682-8a88f00b3a88",
        "colab": {
          "base_uri": "https://localhost:8080/",
          "height": 34
        }
      },
      "source": [
        "tf.__version__"
      ],
      "execution_count": 0,
      "outputs": [
        {
          "output_type": "execute_result",
          "data": {
            "text/plain": [
              "'2.2.0-rc3'"
            ]
          },
          "metadata": {
            "tags": []
          },
          "execution_count": 296
        }
      ]
    },
    {
      "cell_type": "markdown",
      "metadata": {
        "colab_type": "text",
        "id": "xkLZgdkjavO-"
      },
      "source": [
        "### 1. Carregar os dados"
      ]
    },
    {
      "cell_type": "markdown",
      "metadata": {
        "id": "b7LLQyA3vgBG",
        "colab_type": "text"
      },
      "source": [
        "[**Python**] - Carregar os dados:"
      ]
    },
    {
      "cell_type": "code",
      "metadata": {
        "colab_type": "code",
        "id": "ACzNibyKAkx_",
        "outputId": "67487b1b-80d0-46bd-aba2-ccb0d23679fd",
        "colab": {
          "base_uri": "https://localhost:8080/",
          "height": 235
        }
      },
      "source": [
        "df_Iris= pd.read_csv('https://raw.githubusercontent.com/MathMachado/DataFrames/master/Iris.csv', index_col= 'Id')\n",
        "df_Iris.head()"
      ],
      "execution_count": 0,
      "outputs": [
        {
          "output_type": "execute_result",
          "data": {
            "text/html": [
              "<div>\n",
              "<style scoped>\n",
              "    .dataframe tbody tr th:only-of-type {\n",
              "        vertical-align: middle;\n",
              "    }\n",
              "\n",
              "    .dataframe tbody tr th {\n",
              "        vertical-align: top;\n",
              "    }\n",
              "\n",
              "    .dataframe thead th {\n",
              "        text-align: right;\n",
              "    }\n",
              "</style>\n",
              "<table border=\"1\" class=\"dataframe\">\n",
              "  <thead>\n",
              "    <tr style=\"text-align: right;\">\n",
              "      <th></th>\n",
              "      <th>SepalLengthCm</th>\n",
              "      <th>SepalWidthCm</th>\n",
              "      <th>PetalLengthCm</th>\n",
              "      <th>PetalWidthCm</th>\n",
              "      <th>Species</th>\n",
              "    </tr>\n",
              "    <tr>\n",
              "      <th>Id</th>\n",
              "      <th></th>\n",
              "      <th></th>\n",
              "      <th></th>\n",
              "      <th></th>\n",
              "      <th></th>\n",
              "    </tr>\n",
              "  </thead>\n",
              "  <tbody>\n",
              "    <tr>\n",
              "      <th>1</th>\n",
              "      <td>5.1</td>\n",
              "      <td>3.5</td>\n",
              "      <td>1.4</td>\n",
              "      <td>0.2</td>\n",
              "      <td>Iris-setosa</td>\n",
              "    </tr>\n",
              "    <tr>\n",
              "      <th>2</th>\n",
              "      <td>4.9</td>\n",
              "      <td>3.0</td>\n",
              "      <td>1.4</td>\n",
              "      <td>0.2</td>\n",
              "      <td>Iris-setosa</td>\n",
              "    </tr>\n",
              "    <tr>\n",
              "      <th>3</th>\n",
              "      <td>4.7</td>\n",
              "      <td>3.2</td>\n",
              "      <td>1.3</td>\n",
              "      <td>0.2</td>\n",
              "      <td>Iris-setosa</td>\n",
              "    </tr>\n",
              "    <tr>\n",
              "      <th>4</th>\n",
              "      <td>4.6</td>\n",
              "      <td>3.1</td>\n",
              "      <td>1.5</td>\n",
              "      <td>0.2</td>\n",
              "      <td>Iris-setosa</td>\n",
              "    </tr>\n",
              "    <tr>\n",
              "      <th>5</th>\n",
              "      <td>5.0</td>\n",
              "      <td>3.6</td>\n",
              "      <td>1.4</td>\n",
              "      <td>0.2</td>\n",
              "      <td>Iris-setosa</td>\n",
              "    </tr>\n",
              "  </tbody>\n",
              "</table>\n",
              "</div>"
            ],
            "text/plain": [
              "    SepalLengthCm  SepalWidthCm  PetalLengthCm  PetalWidthCm      Species\n",
              "Id                                                                       \n",
              "1             5.1           3.5            1.4           0.2  Iris-setosa\n",
              "2             4.9           3.0            1.4           0.2  Iris-setosa\n",
              "3             4.7           3.2            1.3           0.2  Iris-setosa\n",
              "4             4.6           3.1            1.5           0.2  Iris-setosa\n",
              "5             5.0           3.6            1.4           0.2  Iris-setosa"
            ]
          },
          "metadata": {
            "tags": []
          },
          "execution_count": 297
        }
      ]
    },
    {
      "cell_type": "markdown",
      "metadata": {
        "colab_type": "text",
        "id": "T3Vy41RL-lAQ"
      },
      "source": [
        "[**Python**] - Corrigir ou renomear as colunas do dataframe:"
      ]
    },
    {
      "cell_type": "code",
      "metadata": {
        "colab_type": "code",
        "id": "xN7nBQWg-lAX",
        "outputId": "94436771-ca6e-4c16-e344-9d888c4283ab",
        "colab": {
          "base_uri": "https://localhost:8080/",
          "height": 235
        }
      },
      "source": [
        "df_Iris.columns= df_Iris.columns.str.lower()\n",
        "df_Iris.head()"
      ],
      "execution_count": 0,
      "outputs": [
        {
          "output_type": "execute_result",
          "data": {
            "text/html": [
              "<div>\n",
              "<style scoped>\n",
              "    .dataframe tbody tr th:only-of-type {\n",
              "        vertical-align: middle;\n",
              "    }\n",
              "\n",
              "    .dataframe tbody tr th {\n",
              "        vertical-align: top;\n",
              "    }\n",
              "\n",
              "    .dataframe thead th {\n",
              "        text-align: right;\n",
              "    }\n",
              "</style>\n",
              "<table border=\"1\" class=\"dataframe\">\n",
              "  <thead>\n",
              "    <tr style=\"text-align: right;\">\n",
              "      <th></th>\n",
              "      <th>sepallengthcm</th>\n",
              "      <th>sepalwidthcm</th>\n",
              "      <th>petallengthcm</th>\n",
              "      <th>petalwidthcm</th>\n",
              "      <th>species</th>\n",
              "    </tr>\n",
              "    <tr>\n",
              "      <th>Id</th>\n",
              "      <th></th>\n",
              "      <th></th>\n",
              "      <th></th>\n",
              "      <th></th>\n",
              "      <th></th>\n",
              "    </tr>\n",
              "  </thead>\n",
              "  <tbody>\n",
              "    <tr>\n",
              "      <th>1</th>\n",
              "      <td>5.1</td>\n",
              "      <td>3.5</td>\n",
              "      <td>1.4</td>\n",
              "      <td>0.2</td>\n",
              "      <td>Iris-setosa</td>\n",
              "    </tr>\n",
              "    <tr>\n",
              "      <th>2</th>\n",
              "      <td>4.9</td>\n",
              "      <td>3.0</td>\n",
              "      <td>1.4</td>\n",
              "      <td>0.2</td>\n",
              "      <td>Iris-setosa</td>\n",
              "    </tr>\n",
              "    <tr>\n",
              "      <th>3</th>\n",
              "      <td>4.7</td>\n",
              "      <td>3.2</td>\n",
              "      <td>1.3</td>\n",
              "      <td>0.2</td>\n",
              "      <td>Iris-setosa</td>\n",
              "    </tr>\n",
              "    <tr>\n",
              "      <th>4</th>\n",
              "      <td>4.6</td>\n",
              "      <td>3.1</td>\n",
              "      <td>1.5</td>\n",
              "      <td>0.2</td>\n",
              "      <td>Iris-setosa</td>\n",
              "    </tr>\n",
              "    <tr>\n",
              "      <th>5</th>\n",
              "      <td>5.0</td>\n",
              "      <td>3.6</td>\n",
              "      <td>1.4</td>\n",
              "      <td>0.2</td>\n",
              "      <td>Iris-setosa</td>\n",
              "    </tr>\n",
              "  </tbody>\n",
              "</table>\n",
              "</div>"
            ],
            "text/plain": [
              "    sepallengthcm  sepalwidthcm  petallengthcm  petalwidthcm      species\n",
              "Id                                                                       \n",
              "1             5.1           3.5            1.4           0.2  Iris-setosa\n",
              "2             4.9           3.0            1.4           0.2  Iris-setosa\n",
              "3             4.7           3.2            1.3           0.2  Iris-setosa\n",
              "4             4.6           3.1            1.5           0.2  Iris-setosa\n",
              "5             5.0           3.6            1.4           0.2  Iris-setosa"
            ]
          },
          "metadata": {
            "tags": []
          },
          "execution_count": 298
        }
      ]
    },
    {
      "cell_type": "markdown",
      "metadata": {
        "id": "Em1wLwdzvkgh",
        "colab_type": "text"
      },
      "source": [
        "[**Python**] - Mostrar quantas classes há na variável-target:"
      ]
    },
    {
      "cell_type": "code",
      "metadata": {
        "colab_type": "code",
        "id": "QhuoPcRuA9Do",
        "outputId": "9004c05c-a0dc-45e7-d1eb-086d8361042b",
        "colab": {
          "base_uri": "https://localhost:8080/",
          "height": 85
        }
      },
      "source": [
        "df_Iris['species'].value_counts()"
      ],
      "execution_count": 0,
      "outputs": [
        {
          "output_type": "execute_result",
          "data": {
            "text/plain": [
              "Iris-versicolor    50\n",
              "Iris-setosa        50\n",
              "Iris-virginica     50\n",
              "Name: species, dtype: int64"
            ]
          },
          "metadata": {
            "tags": []
          },
          "execution_count": 299
        }
      ]
    },
    {
      "cell_type": "markdown",
      "metadata": {
        "colab_type": "text",
        "id": "lvWcxUvru50G"
      },
      "source": [
        "[**Python**] - Mostrar a distribuição da variável-target 'Species':"
      ]
    },
    {
      "cell_type": "code",
      "metadata": {
        "colab_type": "code",
        "id": "HMpJiMWJu50J",
        "outputId": "c30aa013-dfba-45f5-8463-15d2b3c85ef4",
        "colab": {
          "base_uri": "https://localhost:8080/",
          "height": 279
        }
      },
      "source": [
        "j = sns.countplot(x=\"species\", data= df_Iris)\n",
        "plt.show(j)"
      ],
      "execution_count": 0,
      "outputs": [
        {
          "output_type": "display_data",
          "data": {
            "image/png": "[encoded data removed]",
            "text/plain": [
              "<Figure size 432x288 with 1 Axes>"
            ]
          },
          "metadata": {
            "tags": [],
            "needs_background": "light"
          }
        }
      ]
    },
    {
      "cell_type": "markdown",
      "metadata": {
        "colab_type": "text",
        "id": "a55-G14aa_wG"
      },
      "source": [
        "### 2. Pré-processamento e transformação dos dados"
      ]
    },
    {
      "cell_type": "markdown",
      "metadata": {
        "id": "Uos9OyewvyMo",
        "colab_type": "text"
      },
      "source": [
        "[**Python**] - Aplicar a transformação LabelEncoder() nos dados"
      ]
    },
    {
      "cell_type": "code",
      "metadata": {
        "colab_type": "code",
        "id": "X0V0hWnBg0so",
        "colab": {}
      },
      "source": [
        "from sklearn.preprocessing import LabelEncoder\n",
        "\n",
        "LE = LabelEncoder()\n",
        "\n",
        "species_encoded= LE.fit_transform(df_Iris['species'])\n",
        "df_Iris= df_Iris.drop(columns= ['species'], axis= 1)"
      ],
      "execution_count": 0,
      "outputs": []
    },
    {
      "cell_type": "markdown",
      "metadata": {
        "id": "d8L-b9gZwB4L",
        "colab_type": "text"
      },
      "source": [
        "[**Python**] - Definir o array Y_Iris:"
      ]
    },
    {
      "cell_type": "code",
      "metadata": {
        "id": "zMp2_hJ1wGm3",
        "colab_type": "code",
        "outputId": "bbc67ecb-56c2-4af5-93b6-5cdf96fe36da",
        "colab": {
          "base_uri": "https://localhost:8080/",
          "height": 102
        }
      },
      "source": [
        "Y_Iris= tf.keras.utils.to_categorical(species_encoded)\n",
        "Y_Iris[:5]"
      ],
      "execution_count": 0,
      "outputs": [
        {
          "output_type": "execute_result",
          "data": {
            "text/plain": [
              "array([[1., 0., 0.],\n",
              "       [1., 0., 0.],\n",
              "       [1., 0., 0.],\n",
              "       [1., 0., 0.],\n",
              "       [1., 0., 0.]], dtype=float32)"
            ]
          },
          "metadata": {
            "tags": []
          },
          "execution_count": 302
        }
      ]
    },
    {
      "cell_type": "markdown",
      "metadata": {
        "id": "qfFg6cWdv9El",
        "colab_type": "text"
      },
      "source": [
        "[**Python**] - Definir o array X_Iris:"
      ]
    },
    {
      "cell_type": "code",
      "metadata": {
        "colab_type": "code",
        "id": "7coeWhVRjiQl",
        "outputId": "52946ea3-ad30-4b04-ff82-ad034a238bd7",
        "colab": {
          "base_uri": "https://localhost:8080/",
          "height": 187
        }
      },
      "source": [
        "X_Iris= df_Iris.values\n",
        "X_Iris[:10]"
      ],
      "execution_count": 0,
      "outputs": [
        {
          "output_type": "execute_result",
          "data": {
            "text/plain": [
              "array([[5.1, 3.5, 1.4, 0.2],\n",
              "       [4.9, 3. , 1.4, 0.2],\n",
              "       [4.7, 3.2, 1.3, 0.2],\n",
              "       [4.6, 3.1, 1.5, 0.2],\n",
              "       [5. , 3.6, 1.4, 0.2],\n",
              "       [5.4, 3.9, 1.7, 0.4],\n",
              "       [4.6, 3.4, 1.4, 0.3],\n",
              "       [5. , 3.4, 1.5, 0.2],\n",
              "       [4.4, 2.9, 1.4, 0.2],\n",
              "       [4.9, 3.1, 1.5, 0.1]])"
            ]
          },
          "metadata": {
            "tags": []
          },
          "execution_count": 303
        }
      ]
    },
    {
      "cell_type": "markdown",
      "metadata": {
        "colab_type": "text",
        "id": "cUa2sJOSbUFO"
      },
      "source": [
        "### 3. Definir as amostras de treinamento e validação"
      ]
    },
    {
      "cell_type": "markdown",
      "metadata": {
        "id": "kDOw-RHux1nS",
        "colab_type": "text"
      },
      "source": [
        "[**Python**] - Definir as amostras de treinamento e validação da Rede Neural:"
      ]
    },
    {
      "cell_type": "code",
      "metadata": {
        "colab_type": "code",
        "id": "AJE_6w3KL_2O",
        "colab": {}
      },
      "source": [
        "from sklearn.model_selection import train_test_split\n",
        "\n",
        "X_Treinamento, X_Teste, Y_Treinamento, Y_Teste= train_test_split(X_Iris, Y_Iris, test_size= 0.2, random_state= 20111974)"
      ],
      "execution_count": 0,
      "outputs": []
    },
    {
      "cell_type": "code",
      "metadata": {
        "colab_type": "code",
        "id": "NKHTG5IP9nVj",
        "outputId": "22f56a82-19b1-4f34-da2f-6328f0b69deb",
        "colab": {
          "base_uri": "https://localhost:8080/",
          "height": 34
        }
      },
      "source": [
        "print(f'X: Treinamento=  {X_Treinamento.shape}; X: Teste=  {X_Teste.shape}')"
      ],
      "execution_count": 0,
      "outputs": [
        {
          "output_type": "stream",
          "text": [
            "X: Treinamento=  (120, 4); X: Teste=  (30, 4)\n"
          ],
          "name": "stdout"
        }
      ]
    },
    {
      "cell_type": "code",
      "metadata": {
        "id": "qe2mHJhb-PIY",
        "colab_type": "code",
        "outputId": "92690299-b054-4495-98cb-bf906a53044c",
        "colab": {
          "base_uri": "https://localhost:8080/",
          "height": 34
        }
      },
      "source": [
        "print(f'Y: Treinamento=  {Y_Treinamento.shape}; Y: Teste= {Y_Teste.shape}')"
      ],
      "execution_count": 0,
      "outputs": [
        {
          "output_type": "stream",
          "text": [
            "Y: Treinamento=  (120, 3); Y: Teste= (30, 3)\n"
          ],
          "name": "stdout"
        }
      ]
    },
    {
      "cell_type": "markdown",
      "metadata": {
        "colab_type": "text",
        "id": "wHFI_bLXPPvl"
      },
      "source": [
        "### 4. Definir a arquitetura da Rede Neural com _Tensorflow_/_Keras_"
      ]
    },
    {
      "cell_type": "markdown",
      "metadata": {
        "colab_type": "text",
        "id": "zRYoZ7hwgejR"
      },
      "source": [
        "[**Python**] - Definir a arquitetura, ou seja:\n",
        "* $N_{I}$: Número de neurônios na camada de entrada (_Input Layer_);\n",
        "* $N_{O}$: Número de neurônios na camada de saída (_Output Layer_);\n",
        "* $N_{H}$: Número de neurônios na camada escondida (_Hidden Layer_);\n",
        "* FA: Função de ativação;"
      ]
    },
    {
      "cell_type": "code",
      "metadata": {
        "colab_type": "code",
        "id": "mjF1haRmgejS",
        "colab": {}
      },
      "source": [
        "# Número de Neurônios na Input Layer:\n",
        "N_I= X_Treinamento.shape[1]\n",
        "\n",
        "# Número de neurônios na Output Layer:\n",
        "N_O= Y_Iris.shape[1]\n",
        "\n",
        "# Número de neurônios na Hidden Layer:\n",
        "N_H1= 32\n",
        "\n",
        "# Função de Ativação da Hidden Layer:\n",
        "FA_H= tf.nn.leaky_relu\n",
        "\n",
        "# Função de Ativação da Output Layer:\n",
        "FA_O= tf.nn.softmax"
      ],
      "execution_count": 0,
      "outputs": []
    },
    {
      "cell_type": "markdown",
      "metadata": {
        "colab_type": "text",
        "id": "tGeDaB3oo02k"
      },
      "source": [
        "[**Python**] - Definir as sementes para NumPy e Tensorflow:\n",
        "> Por questões de reproducibilidade de resultados, use as sementes abaixo:\n",
        "\n",
        "* NumPy: 20111974;\n",
        "* Tensorflow: 20111974;"
      ]
    },
    {
      "cell_type": "code",
      "metadata": {
        "colab_type": "code",
        "id": "zGS15afAo02n",
        "colab": {}
      },
      "source": [
        "np.random.seed(20111974)\n",
        "tf.random.set_seed(20111974)"
      ],
      "execution_count": 0,
      "outputs": []
    },
    {
      "cell_type": "markdown",
      "metadata": {
        "id": "iT9w2tUCo5-X",
        "colab_type": "text"
      },
      "source": [
        "[**Python**] - Definir a Rede Neural:"
      ]
    },
    {
      "cell_type": "markdown",
      "metadata": {
        "colab_type": "text",
        "id": "nytcmC4BkSz1"
      },
      "source": [
        "**Observações**: \n",
        "\n",
        "Para evitar problemas relacionados ao _overfitting_ e _Vanishing or Exploding Gradients in Deep Neural Nets_, os artigos abaixo sugerem as seguintes opções para inicialização dos pesos $W$:\n",
        "\n",
        "* [How to Reduce Overfitting Using Weight Constraints in Keras](https://machinelearningmastery.com/how-to-reduce-overfitting-in-deep-neural-networks-with-weight-constraints-in-keras/) sugere:\n",
        "    * kernel_constraint= tf.keras.constraints.UnitNorm();\n",
        "* [Deep Learning Best Practices (1) — Weight Initialization](https://medium.com/usf-msds/deep-learning-best-practices-1-weight-initialization-14e5c0295b94) sugere:\n",
        "    * kernel_initializer= tf.keras.initializers.he_normal() para activation= 'tf.nn.relu' ou 'tf.nn.leaky_relu' e kernel_constraint= tf.keras.constraints.UnitNorm();\n",
        "* [Vanishing/ Exploding Gradients in Deep Neural Nets and solving them](https://medium.com/swlh/vanishing-exploding-gradients-in-deep-neural-nets-and-solving-them-9d6070f28b29) sugere:\n",
        "    * kernel_initializer= tf.keras.initializers.GlorotUniform();\n",
        "    * kernel_initializer= tf.keras.initializers.GlorotNormal()."
      ]
    },
    {
      "cell_type": "code",
      "metadata": {
        "colab_type": "code",
        "id": "LnLeLMmZoUjU",
        "outputId": "bcecedcf-beb0-42a1-e687-0e9255ed903e",
        "colab": {
          "base_uri": "https://localhost:8080/",
          "height": 272
        }
      },
      "source": [
        "from tensorflow.keras import Sequential\n",
        "from tensorflow.keras.layers import Dense\n",
        "from tensorflow.keras.layers import Dropout\n",
        "\n",
        "RN= Sequential()\n",
        "RN.add(Dense(units= N_H, input_dim= N_I, kernel_initializer= tf.keras.initializers.GlorotNormal(), activation= FA_H, kernel_constraint= tf.keras.constraints.UnitNorm()))\n",
        "RN.add(Dropout(0.1))\n",
        "RN.add(Dense(units= N_O, activation= FA_O))\n",
        "\n",
        "# Resumo da arquitetura da Rede Neural\n",
        "print(RN.summary())"
      ],
      "execution_count": 0,
      "outputs": [
        {
          "output_type": "stream",
          "text": [
            "Model: \"sequential_19\"\n",
            "_________________________________________________________________\n",
            "Layer (type)                 Output Shape              Param #   \n",
            "=================================================================\n",
            "dense_40 (Dense)             (None, 64)                320       \n",
            "_________________________________________________________________\n",
            "dropout_10 (Dropout)         (None, 64)                0         \n",
            "_________________________________________________________________\n",
            "dense_41 (Dense)             (None, 3)                 195       \n",
            "=================================================================\n",
            "Total params: 515\n",
            "Trainable params: 515\n",
            "Non-trainable params: 0\n",
            "_________________________________________________________________\n",
            "None\n"
          ],
          "name": "stdout"
        }
      ]
    },
    {
      "cell_type": "markdown",
      "metadata": {
        "colab_type": "text",
        "id": "3eT-EHUecTj3"
      },
      "source": [
        "### 5. Compilar a Rede Neural\n",
        "\n",
        "Este é um problema de classificação multi-classes (> 2 classes). Portanto, temos:\n",
        "* loss= tf.keras.losses.CategoricalCrossentropy()\n",
        ";\n",
        "* metrics= tf.keras.metrics.binary_accuracy;\n",
        "* optimizer= tf.keras.optimizers.Adam()."
      ]
    },
    {
      "cell_type": "markdown",
      "metadata": {
        "id": "fsq0aEtwyAAM",
        "colab_type": "text"
      },
      "source": [
        "[**Python**] - Comando modelo.compile(optimizer, loss, metrics):"
      ]
    },
    {
      "cell_type": "code",
      "metadata": {
        "colab_type": "code",
        "id": "NDStOKqhcRf4",
        "colab": {}
      },
      "source": [
        "Algoritmo_Opt= tf.keras.optimizers.Adam()\n",
        "Loss_Function= tf.keras.losses.CategoricalCrossentropy()\n",
        "Metrics_Perf= tf.keras.metrics.binary_accuracy\n",
        "\n",
        "RN.compile(optimizer= Algoritmo_Opt, loss= Loss_Function, metrics= Metrics_Perf)"
      ],
      "execution_count": 0,
      "outputs": []
    },
    {
      "cell_type": "markdown",
      "metadata": {
        "colab_type": "text",
        "id": "hZFu65TecabN"
      },
      "source": [
        "### 6. Ajustar a Rede Neural\n",
        "\n",
        "Nesta fase, precisamos informar:\n",
        "* **Epoch**: O número de épocas é um hiperparâmetro do _Gradient Descent_ que define o número de iterações para atualizar os pesos $W$ usando o dataframe de treinamento. Uma época significa que cada amostra no dataframe de treinamento atualizou os pesos $W$ 1 vez.\n",
        "* **Batch**: número de amostras consideradas pela Rede Neural em cada _epoch_ antes da atualização dos pesos $W$;\n",
        "\n",
        "#### Exemplo\n",
        "Suponha que temos um dataframe com 1.000 linhas (instâncias) e optamos por _epoch_= 1.000 e _batch_= 5. Isso significa que o dataframe será dividido em $\\frac{1000}{5}= 200$ _batches_. Desta forma, os pesos $W$ serão atualizados a cada processamento de 200 instâncias (linhas).\n"
      ]
    },
    {
      "cell_type": "markdown",
      "metadata": {
        "colab_type": "text",
        "id": "boIs266gaZt1"
      },
      "source": [
        "Obs.: A opção callbacks abaixo implementa o conceito de _early stopping_. Esta opção vai parar o processo de treinamento da Rede Neural antes de atingirmos o númerco de _epochs_ quando o modelo pára de melhorar, medido pela métrica val_loss. O parâmetro _patience_= k significa que o processo de otimização vai parar se tivermos k _epochs_ consecutivas sem observarmos melhoria da performance da Rede Neural."
      ]
    },
    {
      "cell_type": "markdown",
      "metadata": {
        "colab_type": "text",
        "id": "LpR3dXRZ-jom"
      },
      "source": [
        "[**Python**] - Comando modelo.fit(X_Treinamento, Y_Treinamento, epochs)"
      ]
    },
    {
      "cell_type": "code",
      "metadata": {
        "colab_type": "code",
        "id": "9hDxEwHjca8V",
        "outputId": "b9103109-848f-4a62-9d56-1ec85f4a0383",
        "colab": {
          "base_uri": "https://localhost:8080/",
          "height": 1000
        }
      },
      "source": [
        "callbacks = [tf.keras.callbacks.EarlyStopping(monitor='val_loss', patience = 3, min_delta=0.001)]\n",
        "hist= RN.fit(X_Treinamento, Y_Treinamento, epochs= 100, validation_data= (X_Teste, Y_Teste), callbacks= callbacks)"
      ],
      "execution_count": 0,
      "outputs": [
        {
          "output_type": "stream",
          "text": [
            "Epoch 1/100\n",
            "4/4 [==============================] - 0s 27ms/step - loss: 3.6618 - binary_accuracy: 0.5694 - val_loss: 5.1112 - val_binary_accuracy: 0.5333\n",
            "Epoch 2/100\n",
            "4/4 [==============================] - 0s 9ms/step - loss: 3.4019 - binary_accuracy: 0.5889 - val_loss: 4.3199 - val_binary_accuracy: 0.5333\n",
            "Epoch 3/100\n",
            "4/4 [==============================] - 0s 8ms/step - loss: 3.0822 - binary_accuracy: 0.6111 - val_loss: 3.6234 - val_binary_accuracy: 0.5667\n",
            "Epoch 4/100\n",
            "4/4 [==============================] - 0s 9ms/step - loss: 2.5825 - binary_accuracy: 0.6556 - val_loss: 3.0428 - val_binary_accuracy: 0.6889\n",
            "Epoch 5/100\n",
            "4/4 [==============================] - 0s 14ms/step - loss: 2.0564 - binary_accuracy: 0.7000 - val_loss: 2.5237 - val_binary_accuracy: 0.6889\n",
            "Epoch 6/100\n",
            "4/4 [==============================] - 0s 8ms/step - loss: 1.8580 - binary_accuracy: 0.7000 - val_loss: 2.0338 - val_binary_accuracy: 0.6889\n",
            "Epoch 7/100\n",
            "4/4 [==============================] - 0s 9ms/step - loss: 1.7244 - binary_accuracy: 0.6972 - val_loss: 1.5767 - val_binary_accuracy: 0.6889\n",
            "Epoch 8/100\n",
            "4/4 [==============================] - 0s 9ms/step - loss: 1.3104 - binary_accuracy: 0.7222 - val_loss: 1.1959 - val_binary_accuracy: 0.6556\n",
            "Epoch 9/100\n",
            "4/4 [==============================] - 0s 8ms/step - loss: 1.1947 - binary_accuracy: 0.7278 - val_loss: 0.9239 - val_binary_accuracy: 0.6333\n",
            "Epoch 10/100\n",
            "4/4 [==============================] - 0s 9ms/step - loss: 1.1779 - binary_accuracy: 0.6778 - val_loss: 0.7833 - val_binary_accuracy: 0.7556\n",
            "Epoch 11/100\n",
            "4/4 [==============================] - 0s 8ms/step - loss: 1.0451 - binary_accuracy: 0.7167 - val_loss: 0.7274 - val_binary_accuracy: 0.7889\n",
            "Epoch 12/100\n",
            "4/4 [==============================] - 0s 9ms/step - loss: 1.1442 - binary_accuracy: 0.7028 - val_loss: 0.6994 - val_binary_accuracy: 0.7889\n",
            "Epoch 13/100\n",
            "4/4 [==============================] - 0s 8ms/step - loss: 0.9688 - binary_accuracy: 0.7194 - val_loss: 0.6705 - val_binary_accuracy: 0.7889\n",
            "Epoch 14/100\n",
            "4/4 [==============================] - 0s 9ms/step - loss: 0.8671 - binary_accuracy: 0.7222 - val_loss: 0.6431 - val_binary_accuracy: 0.8111\n",
            "Epoch 15/100\n",
            "4/4 [==============================] - 0s 9ms/step - loss: 0.7288 - binary_accuracy: 0.7778 - val_loss: 0.6249 - val_binary_accuracy: 0.8111\n",
            "Epoch 16/100\n",
            "4/4 [==============================] - 0s 9ms/step - loss: 0.8405 - binary_accuracy: 0.7639 - val_loss: 0.6156 - val_binary_accuracy: 0.7889\n",
            "Epoch 17/100\n",
            "4/4 [==============================] - 0s 12ms/step - loss: 0.7689 - binary_accuracy: 0.7444 - val_loss: 0.6029 - val_binary_accuracy: 0.8333\n",
            "Epoch 18/100\n",
            "4/4 [==============================] - 0s 8ms/step - loss: 0.8149 - binary_accuracy: 0.7472 - val_loss: 0.5971 - val_binary_accuracy: 0.7889\n",
            "Epoch 19/100\n",
            "4/4 [==============================] - 0s 11ms/step - loss: 0.6811 - binary_accuracy: 0.7944 - val_loss: 0.5848 - val_binary_accuracy: 0.7889\n",
            "Epoch 20/100\n",
            "4/4 [==============================] - 0s 9ms/step - loss: 0.7314 - binary_accuracy: 0.7722 - val_loss: 0.5717 - val_binary_accuracy: 0.8111\n",
            "Epoch 21/100\n",
            "4/4 [==============================] - 0s 10ms/step - loss: 0.6618 - binary_accuracy: 0.8194 - val_loss: 0.5514 - val_binary_accuracy: 0.8444\n",
            "Epoch 22/100\n",
            "4/4 [==============================] - 0s 10ms/step - loss: 0.7597 - binary_accuracy: 0.7917 - val_loss: 0.5406 - val_binary_accuracy: 0.8444\n",
            "Epoch 23/100\n",
            "4/4 [==============================] - 0s 9ms/step - loss: 0.5936 - binary_accuracy: 0.8389 - val_loss: 0.5220 - val_binary_accuracy: 0.8667\n",
            "Epoch 24/100\n",
            "4/4 [==============================] - 0s 8ms/step - loss: 0.7502 - binary_accuracy: 0.7639 - val_loss: 0.5086 - val_binary_accuracy: 0.8778\n",
            "Epoch 25/100\n",
            "4/4 [==============================] - 0s 9ms/step - loss: 0.6599 - binary_accuracy: 0.8028 - val_loss: 0.4964 - val_binary_accuracy: 0.9111\n",
            "Epoch 26/100\n",
            "4/4 [==============================] - 0s 8ms/step - loss: 0.5892 - binary_accuracy: 0.8278 - val_loss: 0.4897 - val_binary_accuracy: 0.9111\n",
            "Epoch 27/100\n",
            "4/4 [==============================] - 0s 9ms/step - loss: 0.6017 - binary_accuracy: 0.7917 - val_loss: 0.4913 - val_binary_accuracy: 0.9222\n",
            "Epoch 28/100\n",
            "4/4 [==============================] - 0s 9ms/step - loss: 0.6299 - binary_accuracy: 0.8111 - val_loss: 0.4853 - val_binary_accuracy: 0.9222\n",
            "Epoch 29/100\n",
            "4/4 [==============================] - 0s 10ms/step - loss: 0.6246 - binary_accuracy: 0.8306 - val_loss: 0.4781 - val_binary_accuracy: 0.9333\n",
            "Epoch 30/100\n",
            "4/4 [==============================] - 0s 8ms/step - loss: 0.5879 - binary_accuracy: 0.8083 - val_loss: 0.4670 - val_binary_accuracy: 0.9333\n",
            "Epoch 31/100\n",
            "4/4 [==============================] - 0s 8ms/step - loss: 0.5481 - binary_accuracy: 0.8083 - val_loss: 0.4625 - val_binary_accuracy: 0.9333\n",
            "Epoch 32/100\n",
            "4/4 [==============================] - 0s 10ms/step - loss: 0.4994 - binary_accuracy: 0.8528 - val_loss: 0.4565 - val_binary_accuracy: 0.9333\n",
            "Epoch 33/100\n",
            "4/4 [==============================] - 0s 8ms/step - loss: 0.7050 - binary_accuracy: 0.7583 - val_loss: 0.4546 - val_binary_accuracy: 0.9556\n",
            "Epoch 34/100\n",
            "4/4 [==============================] - 0s 8ms/step - loss: 0.7291 - binary_accuracy: 0.7722 - val_loss: 0.4404 - val_binary_accuracy: 0.9444\n",
            "Epoch 35/100\n",
            "4/4 [==============================] - 0s 10ms/step - loss: 0.5432 - binary_accuracy: 0.8250 - val_loss: 0.4338 - val_binary_accuracy: 0.9444\n",
            "Epoch 36/100\n",
            "4/4 [==============================] - 0s 9ms/step - loss: 0.6174 - binary_accuracy: 0.8111 - val_loss: 0.4311 - val_binary_accuracy: 0.9667\n",
            "Epoch 37/100\n",
            "4/4 [==============================] - 0s 8ms/step - loss: 0.5046 - binary_accuracy: 0.8556 - val_loss: 0.4299 - val_binary_accuracy: 0.9556\n",
            "Epoch 38/100\n",
            "4/4 [==============================] - 0s 10ms/step - loss: 0.5238 - binary_accuracy: 0.8417 - val_loss: 0.4356 - val_binary_accuracy: 0.9556\n",
            "Epoch 39/100\n",
            "4/4 [==============================] - 0s 9ms/step - loss: 0.5772 - binary_accuracy: 0.8083 - val_loss: 0.4381 - val_binary_accuracy: 0.9222\n",
            "Epoch 40/100\n",
            "4/4 [==============================] - 0s 9ms/step - loss: 0.5858 - binary_accuracy: 0.8361 - val_loss: 0.4363 - val_binary_accuracy: 0.9111\n"
          ],
          "name": "stdout"
        }
      ]
    },
    {
      "cell_type": "markdown",
      "metadata": {
        "colab_type": "text",
        "id": "pqVJMX3xchLF"
      },
      "source": [
        "### 7. Avaliar a performance da Rede Neural\n",
        "\n",
        "Para avaliar a Rede Neural, simplesmente informamos as amostras de teste: X_Teste e Y_Teste.\n",
        "\n",
        "A função evaluate() vai retornar uma lista contendo 2 valores: loss e accuracy."
      ]
    },
    {
      "cell_type": "markdown",
      "metadata": {
        "id": "hKbO1nT0yQM1",
        "colab_type": "text"
      },
      "source": [
        "[**Python**] - Comando modelo.evaluate(X_Teste, Y_Teste)"
      ]
    },
    {
      "cell_type": "code",
      "metadata": {
        "colab_type": "code",
        "id": "cYqDY9V9chcZ",
        "outputId": "7b4d3854-6f11-4696-f7e0-e64216c094b0",
        "colab": {
          "base_uri": "https://localhost:8080/",
          "height": 51
        }
      },
      "source": [
        "RN.evaluate(X_Teste, Y_Teste)"
      ],
      "execution_count": 0,
      "outputs": [
        {
          "output_type": "stream",
          "text": [
            "1/1 [==============================] - 0s 1ms/step - loss: 0.4363 - binary_accuracy: 0.9111\n"
          ],
          "name": "stdout"
        },
        {
          "output_type": "execute_result",
          "data": {
            "text/plain": [
              "[0.4362713396549225, 0.9111111164093018]"
            ]
          },
          "metadata": {
            "tags": []
          },
          "execution_count": 312
        }
      ]
    },
    {
      "cell_type": "markdown",
      "metadata": {
        "colab_type": "text",
        "id": "qchEpyipcnbE"
      },
      "source": [
        "### 8. Fazer Predições com a Rede Neural"
      ]
    },
    {
      "cell_type": "markdown",
      "metadata": {
        "id": "9X2SZ5fx2_s5",
        "colab_type": "text"
      },
      "source": [
        "[**Python**] - Comando:\n",
        "* RN.predict_classes(X_Treinamento);\n",
        "* RN.predict_classes(X_Teste)."
      ]
    },
    {
      "cell_type": "code",
      "metadata": {
        "colab_type": "code",
        "id": "FR6ySksLhRvR",
        "outputId": "ef1c5214-64db-4688-90ff-ba5a229e7aab",
        "colab": {
          "base_uri": "https://localhost:8080/",
          "height": 51
        }
      },
      "source": [
        "Y_Predito= RN.predict_classes(X_Teste)\n",
        "Y_Predito"
      ],
      "execution_count": 0,
      "outputs": [
        {
          "output_type": "execute_result",
          "data": {
            "text/plain": [
              "array([2, 1, 1, 2, 2, 1, 1, 1, 2, 0, 1, 1, 1, 1, 1, 0, 0, 2, 2, 1, 1, 2,\n",
              "       0, 0, 2, 2, 0, 1, 2, 0])"
            ]
          },
          "metadata": {
            "tags": []
          },
          "execution_count": 313
        }
      ]
    },
    {
      "cell_type": "code",
      "metadata": {
        "colab_type": "code",
        "id": "LWnRgBbmmlA2",
        "outputId": "84cb4085-c06a-420b-f1d2-453f1f46556f",
        "colab": {
          "base_uri": "https://localhost:8080/",
          "height": 527
        }
      },
      "source": [
        "Y_Teste"
      ],
      "execution_count": 0,
      "outputs": [
        {
          "output_type": "execute_result",
          "data": {
            "text/plain": [
              "array([[0., 0., 1.],\n",
              "       [0., 1., 0.],\n",
              "       [0., 0., 1.],\n",
              "       [0., 0., 1.],\n",
              "       [0., 0., 1.],\n",
              "       [0., 0., 1.],\n",
              "       [0., 1., 0.],\n",
              "       [0., 1., 0.],\n",
              "       [0., 0., 1.],\n",
              "       [1., 0., 0.],\n",
              "       [0., 1., 0.],\n",
              "       [0., 0., 1.],\n",
              "       [0., 0., 1.],\n",
              "       [0., 1., 0.],\n",
              "       [0., 1., 0.],\n",
              "       [1., 0., 0.],\n",
              "       [1., 0., 0.],\n",
              "       [0., 0., 1.],\n",
              "       [0., 0., 1.],\n",
              "       [0., 1., 0.],\n",
              "       [0., 1., 0.],\n",
              "       [0., 0., 1.],\n",
              "       [1., 0., 0.],\n",
              "       [1., 0., 0.],\n",
              "       [0., 0., 1.],\n",
              "       [0., 0., 1.],\n",
              "       [1., 0., 0.],\n",
              "       [0., 1., 0.],\n",
              "       [0., 0., 1.],\n",
              "       [1., 0., 0.]], dtype=float32)"
            ]
          },
          "metadata": {
            "tags": []
          },
          "execution_count": 314
        }
      ]
    },
    {
      "cell_type": "markdown",
      "metadata": {
        "colab_type": "text",
        "id": "wjCtiKieE_TT"
      },
      "source": [
        "### Conclusões"
      ]
    },
    {
      "cell_type": "markdown",
      "metadata": {
        "colab_type": "text",
        "id": "1qjSoM5quog1"
      },
      "source": [
        "___\n",
        "# **APLICAÇÃO 2 - Rede Neural para identificar o tipo do vinho (_Red or White_)**\n",
        "\n",
        "> Nesta aplicação, vamos usar o dataframe [wine quality](https://archive.ics.uci.edu/ml/datasets/wine+quality) extraído do repositório da UCI Machine Learning Repository. Nosso objetivo é prever o tipo do vinho (red ou white) baseado nas suas propriedades químicas.\n",
        "\n",
        "Novamente, vamos desenvolver uma Rede Neural usando _Tensorflow_/_Keras_ e seguir os passos adiante:\n",
        "\n",
        "1. Carregar os dados;\n",
        "2. Pré-processamento e transformação dos dados;\n",
        "3. Definir as amostras de treinamento e validação;\n",
        "4. Definir a arquitetura da Rede Neural com _Tensorflow_/_Keras_;\n",
        "5. Compilar a Rede Neural;\n",
        "6. Ajustar a Rede Neural;\n",
        "7. Avaliar a performance da Rede Neural;\n",
        "8. _Fine tuning_ da Rede Neural;\n",
        "9. Fazer Predições com a Rede Neural;\n",
        "10. Conclusões."
      ]
    },
    {
      "cell_type": "markdown",
      "metadata": {
        "colab_type": "text",
        "id": "VuG8zbYS4jyx"
      },
      "source": [
        "### 0. Carregar bibliotecas do Python"
      ]
    },
    {
      "cell_type": "markdown",
      "metadata": {
        "colab_type": "text",
        "id": "O3XD4otFd9Ht"
      },
      "source": [
        "[**Python**] - Importar as bibliotecas necessárias:"
      ]
    },
    {
      "cell_type": "code",
      "metadata": {
        "colab_type": "code",
        "id": "I5Ok5fhid9Hv",
        "colab": {}
      },
      "source": [
        "import numpy as np\n",
        "import pandas as pd\n",
        "import matplotlib.pyplot as plt\n",
        "import seaborn as sns\n",
        "from sklearn.metrics import confusion_matrix\n",
        "\n",
        "from tensorflow import keras"
      ],
      "execution_count": 0,
      "outputs": []
    },
    {
      "cell_type": "markdown",
      "metadata": {
        "colab_type": "text",
        "id": "ZBXRTgnCd9Hz"
      },
      "source": [
        "[**Python**] - Definir o número de casas decimais"
      ]
    },
    {
      "cell_type": "code",
      "metadata": {
        "colab_type": "code",
        "id": "NFrOyNUgd9Hz",
        "colab": {}
      },
      "source": [
        "np.set_printoptions(precision= 3)"
      ],
      "execution_count": 0,
      "outputs": []
    },
    {
      "cell_type": "markdown",
      "metadata": {
        "colab_type": "text",
        "id": "cGxW2zn6q8xY"
      },
      "source": [
        "[**Python**] - Verificar a versão do Tensorflow\n",
        "> Assegurar que está a utilizar a versão 2.x."
      ]
    },
    {
      "cell_type": "code",
      "metadata": {
        "colab_type": "code",
        "id": "C36Z6vGD4jy8",
        "outputId": "669b5dab-2b91-42c1-8f4b-4b5628bfc3aa",
        "colab": {
          "base_uri": "https://localhost:8080/",
          "height": 34
        }
      },
      "source": [
        "tf.__version__"
      ],
      "execution_count": 0,
      "outputs": [
        {
          "output_type": "execute_result",
          "data": {
            "text/plain": [
              "'2.2.0-rc3'"
            ]
          },
          "metadata": {
            "tags": []
          },
          "execution_count": 317
        }
      ]
    },
    {
      "cell_type": "markdown",
      "metadata": {
        "colab_type": "text",
        "id": "kWJXP5diof5G"
      },
      "source": [
        "### 1. Carregar os dados"
      ]
    },
    {
      "cell_type": "markdown",
      "metadata": {
        "id": "IJJe4r_ITDzv",
        "colab_type": "text"
      },
      "source": [
        "[**Python**] - Carregar os dados:"
      ]
    },
    {
      "cell_type": "code",
      "metadata": {
        "colab_type": "code",
        "id": "jIjqYXlH4tyG",
        "colab": {}
      },
      "source": [
        "from sklearn.datasets import load_wine\n",
        "Wine= load_wine()"
      ],
      "execution_count": 0,
      "outputs": []
    },
    {
      "cell_type": "code",
      "metadata": {
        "colab_type": "code",
        "id": "5iU33wKQGrFb",
        "outputId": "ef50bc4a-ec26-4658-a45d-56c99e5b32fc",
        "colab": {
          "base_uri": "https://localhost:8080/",
          "height": 204
        }
      },
      "source": [
        "df_Red= pd.read_table(\"http://archive.ics.uci.edu/ml/machine-learning-databases/wine-quality/winequality-red.csv\", sep=';')\n",
        "df_Red.head()"
      ],
      "execution_count": 0,
      "outputs": [
        {
          "output_type": "execute_result",
          "data": {
            "text/html": [
              "<div>\n",
              "<style scoped>\n",
              "    .dataframe tbody tr th:only-of-type {\n",
              "        vertical-align: middle;\n",
              "    }\n",
              "\n",
              "    .dataframe tbody tr th {\n",
              "        vertical-align: top;\n",
              "    }\n",
              "\n",
              "    .dataframe thead th {\n",
              "        text-align: right;\n",
              "    }\n",
              "</style>\n",
              "<table border=\"1\" class=\"dataframe\">\n",
              "  <thead>\n",
              "    <tr style=\"text-align: right;\">\n",
              "      <th></th>\n",
              "      <th>fixed acidity</th>\n",
              "      <th>volatile acidity</th>\n",
              "      <th>citric acid</th>\n",
              "      <th>residual sugar</th>\n",
              "      <th>chlorides</th>\n",
              "      <th>free sulfur dioxide</th>\n",
              "      <th>total sulfur dioxide</th>\n",
              "      <th>density</th>\n",
              "      <th>pH</th>\n",
              "      <th>sulphates</th>\n",
              "      <th>alcohol</th>\n",
              "      <th>quality</th>\n",
              "    </tr>\n",
              "  </thead>\n",
              "  <tbody>\n",
              "    <tr>\n",
              "      <th>0</th>\n",
              "      <td>7.4</td>\n",
              "      <td>0.70</td>\n",
              "      <td>0.00</td>\n",
              "      <td>1.9</td>\n",
              "      <td>0.076</td>\n",
              "      <td>11.0</td>\n",
              "      <td>34.0</td>\n",
              "      <td>0.9978</td>\n",
              "      <td>3.51</td>\n",
              "      <td>0.56</td>\n",
              "      <td>9.4</td>\n",
              "      <td>5</td>\n",
              "    </tr>\n",
              "    <tr>\n",
              "      <th>1</th>\n",
              "      <td>7.8</td>\n",
              "      <td>0.88</td>\n",
              "      <td>0.00</td>\n",
              "      <td>2.6</td>\n",
              "      <td>0.098</td>\n",
              "      <td>25.0</td>\n",
              "      <td>67.0</td>\n",
              "      <td>0.9968</td>\n",
              "      <td>3.20</td>\n",
              "      <td>0.68</td>\n",
              "      <td>9.8</td>\n",
              "      <td>5</td>\n",
              "    </tr>\n",
              "    <tr>\n",
              "      <th>2</th>\n",
              "      <td>7.8</td>\n",
              "      <td>0.76</td>\n",
              "      <td>0.04</td>\n",
              "      <td>2.3</td>\n",
              "      <td>0.092</td>\n",
              "      <td>15.0</td>\n",
              "      <td>54.0</td>\n",
              "      <td>0.9970</td>\n",
              "      <td>3.26</td>\n",
              "      <td>0.65</td>\n",
              "      <td>9.8</td>\n",
              "      <td>5</td>\n",
              "    </tr>\n",
              "    <tr>\n",
              "      <th>3</th>\n",
              "      <td>11.2</td>\n",
              "      <td>0.28</td>\n",
              "      <td>0.56</td>\n",
              "      <td>1.9</td>\n",
              "      <td>0.075</td>\n",
              "      <td>17.0</td>\n",
              "      <td>60.0</td>\n",
              "      <td>0.9980</td>\n",
              "      <td>3.16</td>\n",
              "      <td>0.58</td>\n",
              "      <td>9.8</td>\n",
              "      <td>6</td>\n",
              "    </tr>\n",
              "    <tr>\n",
              "      <th>4</th>\n",
              "      <td>7.4</td>\n",
              "      <td>0.70</td>\n",
              "      <td>0.00</td>\n",
              "      <td>1.9</td>\n",
              "      <td>0.076</td>\n",
              "      <td>11.0</td>\n",
              "      <td>34.0</td>\n",
              "      <td>0.9978</td>\n",
              "      <td>3.51</td>\n",
              "      <td>0.56</td>\n",
              "      <td>9.4</td>\n",
              "      <td>5</td>\n",
              "    </tr>\n",
              "  </tbody>\n",
              "</table>\n",
              "</div>"
            ],
            "text/plain": [
              "   fixed acidity  volatile acidity  citric acid  ...  sulphates  alcohol  quality\n",
              "0            7.4              0.70         0.00  ...       0.56      9.4        5\n",
              "1            7.8              0.88         0.00  ...       0.68      9.8        5\n",
              "2            7.8              0.76         0.04  ...       0.65      9.8        5\n",
              "3           11.2              0.28         0.56  ...       0.58      9.8        6\n",
              "4            7.4              0.70         0.00  ...       0.56      9.4        5\n",
              "\n",
              "[5 rows x 12 columns]"
            ]
          },
          "metadata": {
            "tags": []
          },
          "execution_count": 319
        }
      ]
    },
    {
      "cell_type": "code",
      "metadata": {
        "colab_type": "code",
        "id": "Liy2KSr6HJUX",
        "outputId": "3283ad13-f9a4-4c6e-90db-9bcb933298de",
        "colab": {
          "base_uri": "https://localhost:8080/",
          "height": 204
        }
      },
      "source": [
        "df_White= pd.read_table('http://archive.ics.uci.edu/ml/machine-learning-databases/wine-quality/winequality-white.csv', sep= ';')\n",
        "df_White.head()"
      ],
      "execution_count": 0,
      "outputs": [
        {
          "output_type": "execute_result",
          "data": {
            "text/html": [
              "<div>\n",
              "<style scoped>\n",
              "    .dataframe tbody tr th:only-of-type {\n",
              "        vertical-align: middle;\n",
              "    }\n",
              "\n",
              "    .dataframe tbody tr th {\n",
              "        vertical-align: top;\n",
              "    }\n",
              "\n",
              "    .dataframe thead th {\n",
              "        text-align: right;\n",
              "    }\n",
              "</style>\n",
              "<table border=\"1\" class=\"dataframe\">\n",
              "  <thead>\n",
              "    <tr style=\"text-align: right;\">\n",
              "      <th></th>\n",
              "      <th>fixed acidity</th>\n",
              "      <th>volatile acidity</th>\n",
              "      <th>citric acid</th>\n",
              "      <th>residual sugar</th>\n",
              "      <th>chlorides</th>\n",
              "      <th>free sulfur dioxide</th>\n",
              "      <th>total sulfur dioxide</th>\n",
              "      <th>density</th>\n",
              "      <th>pH</th>\n",
              "      <th>sulphates</th>\n",
              "      <th>alcohol</th>\n",
              "      <th>quality</th>\n",
              "    </tr>\n",
              "  </thead>\n",
              "  <tbody>\n",
              "    <tr>\n",
              "      <th>0</th>\n",
              "      <td>7.0</td>\n",
              "      <td>0.27</td>\n",
              "      <td>0.36</td>\n",
              "      <td>20.7</td>\n",
              "      <td>0.045</td>\n",
              "      <td>45.0</td>\n",
              "      <td>170.0</td>\n",
              "      <td>1.0010</td>\n",
              "      <td>3.00</td>\n",
              "      <td>0.45</td>\n",
              "      <td>8.8</td>\n",
              "      <td>6</td>\n",
              "    </tr>\n",
              "    <tr>\n",
              "      <th>1</th>\n",
              "      <td>6.3</td>\n",
              "      <td>0.30</td>\n",
              "      <td>0.34</td>\n",
              "      <td>1.6</td>\n",
              "      <td>0.049</td>\n",
              "      <td>14.0</td>\n",
              "      <td>132.0</td>\n",
              "      <td>0.9940</td>\n",
              "      <td>3.30</td>\n",
              "      <td>0.49</td>\n",
              "      <td>9.5</td>\n",
              "      <td>6</td>\n",
              "    </tr>\n",
              "    <tr>\n",
              "      <th>2</th>\n",
              "      <td>8.1</td>\n",
              "      <td>0.28</td>\n",
              "      <td>0.40</td>\n",
              "      <td>6.9</td>\n",
              "      <td>0.050</td>\n",
              "      <td>30.0</td>\n",
              "      <td>97.0</td>\n",
              "      <td>0.9951</td>\n",
              "      <td>3.26</td>\n",
              "      <td>0.44</td>\n",
              "      <td>10.1</td>\n",
              "      <td>6</td>\n",
              "    </tr>\n",
              "    <tr>\n",
              "      <th>3</th>\n",
              "      <td>7.2</td>\n",
              "      <td>0.23</td>\n",
              "      <td>0.32</td>\n",
              "      <td>8.5</td>\n",
              "      <td>0.058</td>\n",
              "      <td>47.0</td>\n",
              "      <td>186.0</td>\n",
              "      <td>0.9956</td>\n",
              "      <td>3.19</td>\n",
              "      <td>0.40</td>\n",
              "      <td>9.9</td>\n",
              "      <td>6</td>\n",
              "    </tr>\n",
              "    <tr>\n",
              "      <th>4</th>\n",
              "      <td>7.2</td>\n",
              "      <td>0.23</td>\n",
              "      <td>0.32</td>\n",
              "      <td>8.5</td>\n",
              "      <td>0.058</td>\n",
              "      <td>47.0</td>\n",
              "      <td>186.0</td>\n",
              "      <td>0.9956</td>\n",
              "      <td>3.19</td>\n",
              "      <td>0.40</td>\n",
              "      <td>9.9</td>\n",
              "      <td>6</td>\n",
              "    </tr>\n",
              "  </tbody>\n",
              "</table>\n",
              "</div>"
            ],
            "text/plain": [
              "   fixed acidity  volatile acidity  citric acid  ...  sulphates  alcohol  quality\n",
              "0            7.0              0.27         0.36  ...       0.45      8.8        6\n",
              "1            6.3              0.30         0.34  ...       0.49      9.5        6\n",
              "2            8.1              0.28         0.40  ...       0.44     10.1        6\n",
              "3            7.2              0.23         0.32  ...       0.40      9.9        6\n",
              "4            7.2              0.23         0.32  ...       0.40      9.9        6\n",
              "\n",
              "[5 rows x 12 columns]"
            ]
          },
          "metadata": {
            "tags": []
          },
          "execution_count": 320
        }
      ]
    },
    {
      "cell_type": "markdown",
      "metadata": {
        "id": "4TzUnuM4TMmJ",
        "colab_type": "text"
      },
      "source": [
        "[**Python**] - Mostrar o número de linhas e colunas de cada dataframe:"
      ]
    },
    {
      "cell_type": "code",
      "metadata": {
        "colab_type": "code",
        "id": "pHNwVRQyIwdv",
        "outputId": "537d34c4-647f-4e66-d1e0-075d58699674",
        "colab": {
          "base_uri": "https://localhost:8080/",
          "height": 34
        }
      },
      "source": [
        "print(f'Dimensão de df_Red: {df_Red.shape}; Dimensão de df_White: {df_White.shape}')"
      ],
      "execution_count": 0,
      "outputs": [
        {
          "output_type": "stream",
          "text": [
            "Dimensão de df_Red: (1599, 12); Dimensão de df_White: (4898, 12)\n"
          ],
          "name": "stdout"
        }
      ]
    },
    {
      "cell_type": "markdown",
      "metadata": {
        "colab_type": "text",
        "id": "tBWzMsUHJjTU"
      },
      "source": [
        "[**Python**] - Construir a variável-target 'type_wine' (tipo do vinho):"
      ]
    },
    {
      "cell_type": "code",
      "metadata": {
        "colab_type": "code",
        "id": "B0WmX3FYJqMR",
        "colab": {}
      },
      "source": [
        "df_Red['type_wine']= 0\n",
        "df_White['type_wine']= 1"
      ],
      "execution_count": 0,
      "outputs": []
    },
    {
      "cell_type": "markdown",
      "metadata": {
        "colab_type": "text",
        "id": "EVUc1vbqJ0D9"
      },
      "source": [
        "[**Python**] - Empilhar os dois dataframes: df_Red e df_White:"
      ]
    },
    {
      "cell_type": "code",
      "metadata": {
        "colab_type": "code",
        "id": "gS9SlpvaJ2Ex",
        "outputId": "3ec972eb-dae7-41db-bfae-c16bae1920ae",
        "colab": {
          "base_uri": "https://localhost:8080/",
          "height": 204
        }
      },
      "source": [
        "df_Wine= pd.concat([df_Red, df_White], ignore_index=True)\n",
        "df_Wine.head()"
      ],
      "execution_count": 0,
      "outputs": [
        {
          "output_type": "execute_result",
          "data": {
            "text/html": [
              "<div>\n",
              "<style scoped>\n",
              "    .dataframe tbody tr th:only-of-type {\n",
              "        vertical-align: middle;\n",
              "    }\n",
              "\n",
              "    .dataframe tbody tr th {\n",
              "        vertical-align: top;\n",
              "    }\n",
              "\n",
              "    .dataframe thead th {\n",
              "        text-align: right;\n",
              "    }\n",
              "</style>\n",
              "<table border=\"1\" class=\"dataframe\">\n",
              "  <thead>\n",
              "    <tr style=\"text-align: right;\">\n",
              "      <th></th>\n",
              "      <th>fixed acidity</th>\n",
              "      <th>volatile acidity</th>\n",
              "      <th>citric acid</th>\n",
              "      <th>residual sugar</th>\n",
              "      <th>chlorides</th>\n",
              "      <th>free sulfur dioxide</th>\n",
              "      <th>total sulfur dioxide</th>\n",
              "      <th>density</th>\n",
              "      <th>pH</th>\n",
              "      <th>sulphates</th>\n",
              "      <th>alcohol</th>\n",
              "      <th>quality</th>\n",
              "      <th>type_wine</th>\n",
              "    </tr>\n",
              "  </thead>\n",
              "  <tbody>\n",
              "    <tr>\n",
              "      <th>0</th>\n",
              "      <td>7.4</td>\n",
              "      <td>0.70</td>\n",
              "      <td>0.00</td>\n",
              "      <td>1.9</td>\n",
              "      <td>0.076</td>\n",
              "      <td>11.0</td>\n",
              "      <td>34.0</td>\n",
              "      <td>0.9978</td>\n",
              "      <td>3.51</td>\n",
              "      <td>0.56</td>\n",
              "      <td>9.4</td>\n",
              "      <td>5</td>\n",
              "      <td>0</td>\n",
              "    </tr>\n",
              "    <tr>\n",
              "      <th>1</th>\n",
              "      <td>7.8</td>\n",
              "      <td>0.88</td>\n",
              "      <td>0.00</td>\n",
              "      <td>2.6</td>\n",
              "      <td>0.098</td>\n",
              "      <td>25.0</td>\n",
              "      <td>67.0</td>\n",
              "      <td>0.9968</td>\n",
              "      <td>3.20</td>\n",
              "      <td>0.68</td>\n",
              "      <td>9.8</td>\n",
              "      <td>5</td>\n",
              "      <td>0</td>\n",
              "    </tr>\n",
              "    <tr>\n",
              "      <th>2</th>\n",
              "      <td>7.8</td>\n",
              "      <td>0.76</td>\n",
              "      <td>0.04</td>\n",
              "      <td>2.3</td>\n",
              "      <td>0.092</td>\n",
              "      <td>15.0</td>\n",
              "      <td>54.0</td>\n",
              "      <td>0.9970</td>\n",
              "      <td>3.26</td>\n",
              "      <td>0.65</td>\n",
              "      <td>9.8</td>\n",
              "      <td>5</td>\n",
              "      <td>0</td>\n",
              "    </tr>\n",
              "    <tr>\n",
              "      <th>3</th>\n",
              "      <td>11.2</td>\n",
              "      <td>0.28</td>\n",
              "      <td>0.56</td>\n",
              "      <td>1.9</td>\n",
              "      <td>0.075</td>\n",
              "      <td>17.0</td>\n",
              "      <td>60.0</td>\n",
              "      <td>0.9980</td>\n",
              "      <td>3.16</td>\n",
              "      <td>0.58</td>\n",
              "      <td>9.8</td>\n",
              "      <td>6</td>\n",
              "      <td>0</td>\n",
              "    </tr>\n",
              "    <tr>\n",
              "      <th>4</th>\n",
              "      <td>7.4</td>\n",
              "      <td>0.70</td>\n",
              "      <td>0.00</td>\n",
              "      <td>1.9</td>\n",
              "      <td>0.076</td>\n",
              "      <td>11.0</td>\n",
              "      <td>34.0</td>\n",
              "      <td>0.9978</td>\n",
              "      <td>3.51</td>\n",
              "      <td>0.56</td>\n",
              "      <td>9.4</td>\n",
              "      <td>5</td>\n",
              "      <td>0</td>\n",
              "    </tr>\n",
              "  </tbody>\n",
              "</table>\n",
              "</div>"
            ],
            "text/plain": [
              "   fixed acidity  volatile acidity  citric acid  ...  alcohol  quality  type_wine\n",
              "0            7.4              0.70         0.00  ...      9.4        5          0\n",
              "1            7.8              0.88         0.00  ...      9.8        5          0\n",
              "2            7.8              0.76         0.04  ...      9.8        5          0\n",
              "3           11.2              0.28         0.56  ...      9.8        6          0\n",
              "4            7.4              0.70         0.00  ...      9.4        5          0\n",
              "\n",
              "[5 rows x 13 columns]"
            ]
          },
          "metadata": {
            "tags": []
          },
          "execution_count": 323
        }
      ]
    },
    {
      "cell_type": "code",
      "metadata": {
        "colab_type": "code",
        "id": "dM19HHENKMtq",
        "outputId": "7c3236cb-6d70-41a8-ebe9-9f6b2948d6fe",
        "colab": {
          "base_uri": "https://localhost:8080/",
          "height": 204
        }
      },
      "source": [
        "df_Wine.tail()"
      ],
      "execution_count": 0,
      "outputs": [
        {
          "output_type": "execute_result",
          "data": {
            "text/html": [
              "<div>\n",
              "<style scoped>\n",
              "    .dataframe tbody tr th:only-of-type {\n",
              "        vertical-align: middle;\n",
              "    }\n",
              "\n",
              "    .dataframe tbody tr th {\n",
              "        vertical-align: top;\n",
              "    }\n",
              "\n",
              "    .dataframe thead th {\n",
              "        text-align: right;\n",
              "    }\n",
              "</style>\n",
              "<table border=\"1\" class=\"dataframe\">\n",
              "  <thead>\n",
              "    <tr style=\"text-align: right;\">\n",
              "      <th></th>\n",
              "      <th>fixed acidity</th>\n",
              "      <th>volatile acidity</th>\n",
              "      <th>citric acid</th>\n",
              "      <th>residual sugar</th>\n",
              "      <th>chlorides</th>\n",
              "      <th>free sulfur dioxide</th>\n",
              "      <th>total sulfur dioxide</th>\n",
              "      <th>density</th>\n",
              "      <th>pH</th>\n",
              "      <th>sulphates</th>\n",
              "      <th>alcohol</th>\n",
              "      <th>quality</th>\n",
              "      <th>type_wine</th>\n",
              "    </tr>\n",
              "  </thead>\n",
              "  <tbody>\n",
              "    <tr>\n",
              "      <th>6492</th>\n",
              "      <td>6.2</td>\n",
              "      <td>0.21</td>\n",
              "      <td>0.29</td>\n",
              "      <td>1.6</td>\n",
              "      <td>0.039</td>\n",
              "      <td>24.0</td>\n",
              "      <td>92.0</td>\n",
              "      <td>0.99114</td>\n",
              "      <td>3.27</td>\n",
              "      <td>0.50</td>\n",
              "      <td>11.2</td>\n",
              "      <td>6</td>\n",
              "      <td>1</td>\n",
              "    </tr>\n",
              "    <tr>\n",
              "      <th>6493</th>\n",
              "      <td>6.6</td>\n",
              "      <td>0.32</td>\n",
              "      <td>0.36</td>\n",
              "      <td>8.0</td>\n",
              "      <td>0.047</td>\n",
              "      <td>57.0</td>\n",
              "      <td>168.0</td>\n",
              "      <td>0.99490</td>\n",
              "      <td>3.15</td>\n",
              "      <td>0.46</td>\n",
              "      <td>9.6</td>\n",
              "      <td>5</td>\n",
              "      <td>1</td>\n",
              "    </tr>\n",
              "    <tr>\n",
              "      <th>6494</th>\n",
              "      <td>6.5</td>\n",
              "      <td>0.24</td>\n",
              "      <td>0.19</td>\n",
              "      <td>1.2</td>\n",
              "      <td>0.041</td>\n",
              "      <td>30.0</td>\n",
              "      <td>111.0</td>\n",
              "      <td>0.99254</td>\n",
              "      <td>2.99</td>\n",
              "      <td>0.46</td>\n",
              "      <td>9.4</td>\n",
              "      <td>6</td>\n",
              "      <td>1</td>\n",
              "    </tr>\n",
              "    <tr>\n",
              "      <th>6495</th>\n",
              "      <td>5.5</td>\n",
              "      <td>0.29</td>\n",
              "      <td>0.30</td>\n",
              "      <td>1.1</td>\n",
              "      <td>0.022</td>\n",
              "      <td>20.0</td>\n",
              "      <td>110.0</td>\n",
              "      <td>0.98869</td>\n",
              "      <td>3.34</td>\n",
              "      <td>0.38</td>\n",
              "      <td>12.8</td>\n",
              "      <td>7</td>\n",
              "      <td>1</td>\n",
              "    </tr>\n",
              "    <tr>\n",
              "      <th>6496</th>\n",
              "      <td>6.0</td>\n",
              "      <td>0.21</td>\n",
              "      <td>0.38</td>\n",
              "      <td>0.8</td>\n",
              "      <td>0.020</td>\n",
              "      <td>22.0</td>\n",
              "      <td>98.0</td>\n",
              "      <td>0.98941</td>\n",
              "      <td>3.26</td>\n",
              "      <td>0.32</td>\n",
              "      <td>11.8</td>\n",
              "      <td>6</td>\n",
              "      <td>1</td>\n",
              "    </tr>\n",
              "  </tbody>\n",
              "</table>\n",
              "</div>"
            ],
            "text/plain": [
              "      fixed acidity  volatile acidity  citric acid  ...  alcohol  quality  type_wine\n",
              "6492            6.2              0.21         0.29  ...     11.2        6          1\n",
              "6493            6.6              0.32         0.36  ...      9.6        5          1\n",
              "6494            6.5              0.24         0.19  ...      9.4        6          1\n",
              "6495            5.5              0.29         0.30  ...     12.8        7          1\n",
              "6496            6.0              0.21         0.38  ...     11.8        6          1\n",
              "\n",
              "[5 rows x 13 columns]"
            ]
          },
          "metadata": {
            "tags": []
          },
          "execution_count": 324
        }
      ]
    },
    {
      "cell_type": "markdown",
      "metadata": {
        "colab_type": "text",
        "id": "mpoNmcqpeQxO"
      },
      "source": [
        "[**Python**] - Mostrar o número de linhas e colunas do dataframe df_Wine:"
      ]
    },
    {
      "cell_type": "code",
      "metadata": {
        "colab_type": "code",
        "id": "YJDazoMMeMet",
        "outputId": "a78136bb-636b-43b2-898f-62c09eafa8a9",
        "colab": {
          "base_uri": "https://localhost:8080/",
          "height": 34
        }
      },
      "source": [
        "df_Wine.shape"
      ],
      "execution_count": 0,
      "outputs": [
        {
          "output_type": "execute_result",
          "data": {
            "text/plain": [
              "(6497, 13)"
            ]
          },
          "metadata": {
            "tags": []
          },
          "execution_count": 325
        }
      ]
    },
    {
      "cell_type": "markdown",
      "metadata": {
        "colab_type": "text",
        "id": "tNyjXmFzo7oe"
      },
      "source": [
        "### 2. Pré-processamento e transformação dos dados"
      ]
    },
    {
      "cell_type": "markdown",
      "metadata": {
        "id": "xcV_dlHsTpiP",
        "colab_type": "text"
      },
      "source": [
        "[**Python**] - Renomear o nome das colunas usando letras minúsculas:"
      ]
    },
    {
      "cell_type": "code",
      "metadata": {
        "colab_type": "code",
        "id": "Jau2OybudGc0",
        "colab": {}
      },
      "source": [
        "df_Wine.columns = df_Wine.columns.str.strip().str.lower().str.replace(' ', '_')"
      ],
      "execution_count": 0,
      "outputs": []
    },
    {
      "cell_type": "code",
      "metadata": {
        "colab_type": "code",
        "id": "EzOWiaCFdq_C",
        "outputId": "8f8dad9d-6c07-4066-dd30-d4b167b89a67",
        "colab": {
          "base_uri": "https://localhost:8080/",
          "height": 204
        }
      },
      "source": [
        "df_Wine.head()"
      ],
      "execution_count": 0,
      "outputs": [
        {
          "output_type": "execute_result",
          "data": {
            "text/html": [
              "<div>\n",
              "<style scoped>\n",
              "    .dataframe tbody tr th:only-of-type {\n",
              "        vertical-align: middle;\n",
              "    }\n",
              "\n",
              "    .dataframe tbody tr th {\n",
              "        vertical-align: top;\n",
              "    }\n",
              "\n",
              "    .dataframe thead th {\n",
              "        text-align: right;\n",
              "    }\n",
              "</style>\n",
              "<table border=\"1\" class=\"dataframe\">\n",
              "  <thead>\n",
              "    <tr style=\"text-align: right;\">\n",
              "      <th></th>\n",
              "      <th>fixed_acidity</th>\n",
              "      <th>volatile_acidity</th>\n",
              "      <th>citric_acid</th>\n",
              "      <th>residual_sugar</th>\n",
              "      <th>chlorides</th>\n",
              "      <th>free_sulfur_dioxide</th>\n",
              "      <th>total_sulfur_dioxide</th>\n",
              "      <th>density</th>\n",
              "      <th>ph</th>\n",
              "      <th>sulphates</th>\n",
              "      <th>alcohol</th>\n",
              "      <th>quality</th>\n",
              "      <th>type_wine</th>\n",
              "    </tr>\n",
              "  </thead>\n",
              "  <tbody>\n",
              "    <tr>\n",
              "      <th>0</th>\n",
              "      <td>7.4</td>\n",
              "      <td>0.70</td>\n",
              "      <td>0.00</td>\n",
              "      <td>1.9</td>\n",
              "      <td>0.076</td>\n",
              "      <td>11.0</td>\n",
              "      <td>34.0</td>\n",
              "      <td>0.9978</td>\n",
              "      <td>3.51</td>\n",
              "      <td>0.56</td>\n",
              "      <td>9.4</td>\n",
              "      <td>5</td>\n",
              "      <td>0</td>\n",
              "    </tr>\n",
              "    <tr>\n",
              "      <th>1</th>\n",
              "      <td>7.8</td>\n",
              "      <td>0.88</td>\n",
              "      <td>0.00</td>\n",
              "      <td>2.6</td>\n",
              "      <td>0.098</td>\n",
              "      <td>25.0</td>\n",
              "      <td>67.0</td>\n",
              "      <td>0.9968</td>\n",
              "      <td>3.20</td>\n",
              "      <td>0.68</td>\n",
              "      <td>9.8</td>\n",
              "      <td>5</td>\n",
              "      <td>0</td>\n",
              "    </tr>\n",
              "    <tr>\n",
              "      <th>2</th>\n",
              "      <td>7.8</td>\n",
              "      <td>0.76</td>\n",
              "      <td>0.04</td>\n",
              "      <td>2.3</td>\n",
              "      <td>0.092</td>\n",
              "      <td>15.0</td>\n",
              "      <td>54.0</td>\n",
              "      <td>0.9970</td>\n",
              "      <td>3.26</td>\n",
              "      <td>0.65</td>\n",
              "      <td>9.8</td>\n",
              "      <td>5</td>\n",
              "      <td>0</td>\n",
              "    </tr>\n",
              "    <tr>\n",
              "      <th>3</th>\n",
              "      <td>11.2</td>\n",
              "      <td>0.28</td>\n",
              "      <td>0.56</td>\n",
              "      <td>1.9</td>\n",
              "      <td>0.075</td>\n",
              "      <td>17.0</td>\n",
              "      <td>60.0</td>\n",
              "      <td>0.9980</td>\n",
              "      <td>3.16</td>\n",
              "      <td>0.58</td>\n",
              "      <td>9.8</td>\n",
              "      <td>6</td>\n",
              "      <td>0</td>\n",
              "    </tr>\n",
              "    <tr>\n",
              "      <th>4</th>\n",
              "      <td>7.4</td>\n",
              "      <td>0.70</td>\n",
              "      <td>0.00</td>\n",
              "      <td>1.9</td>\n",
              "      <td>0.076</td>\n",
              "      <td>11.0</td>\n",
              "      <td>34.0</td>\n",
              "      <td>0.9978</td>\n",
              "      <td>3.51</td>\n",
              "      <td>0.56</td>\n",
              "      <td>9.4</td>\n",
              "      <td>5</td>\n",
              "      <td>0</td>\n",
              "    </tr>\n",
              "  </tbody>\n",
              "</table>\n",
              "</div>"
            ],
            "text/plain": [
              "   fixed_acidity  volatile_acidity  citric_acid  ...  alcohol  quality  type_wine\n",
              "0            7.4              0.70         0.00  ...      9.4        5          0\n",
              "1            7.8              0.88         0.00  ...      9.8        5          0\n",
              "2            7.8              0.76         0.04  ...      9.8        5          0\n",
              "3           11.2              0.28         0.56  ...      9.8        6          0\n",
              "4            7.4              0.70         0.00  ...      9.4        5          0\n",
              "\n",
              "[5 rows x 13 columns]"
            ]
          },
          "metadata": {
            "tags": []
          },
          "execution_count": 327
        }
      ]
    },
    {
      "cell_type": "markdown",
      "metadata": {
        "colab_type": "text",
        "id": "F1wgkLcvete8"
      },
      "source": [
        "[**Python**] - Estatísticas descritivas do dataframe df_Wine:"
      ]
    },
    {
      "cell_type": "code",
      "metadata": {
        "colab_type": "code",
        "id": "A-EbHitYepeQ",
        "outputId": "91368bfd-f7aa-4563-b71d-82b850b26ebc",
        "colab": {
          "base_uri": "https://localhost:8080/",
          "height": 317
        }
      },
      "source": [
        "df_Wine.describe()"
      ],
      "execution_count": 0,
      "outputs": [
        {
          "output_type": "execute_result",
          "data": {
            "text/html": [
              "<div>\n",
              "<style scoped>\n",
              "    .dataframe tbody tr th:only-of-type {\n",
              "        vertical-align: middle;\n",
              "    }\n",
              "\n",
              "    .dataframe tbody tr th {\n",
              "        vertical-align: top;\n",
              "    }\n",
              "\n",
              "    .dataframe thead th {\n",
              "        text-align: right;\n",
              "    }\n",
              "</style>\n",
              "<table border=\"1\" class=\"dataframe\">\n",
              "  <thead>\n",
              "    <tr style=\"text-align: right;\">\n",
              "      <th></th>\n",
              "      <th>fixed_acidity</th>\n",
              "      <th>volatile_acidity</th>\n",
              "      <th>citric_acid</th>\n",
              "      <th>residual_sugar</th>\n",
              "      <th>chlorides</th>\n",
              "      <th>free_sulfur_dioxide</th>\n",
              "      <th>total_sulfur_dioxide</th>\n",
              "      <th>density</th>\n",
              "      <th>ph</th>\n",
              "      <th>sulphates</th>\n",
              "      <th>alcohol</th>\n",
              "      <th>quality</th>\n",
              "      <th>type_wine</th>\n",
              "    </tr>\n",
              "  </thead>\n",
              "  <tbody>\n",
              "    <tr>\n",
              "      <th>count</th>\n",
              "      <td>6497.000000</td>\n",
              "      <td>6497.000000</td>\n",
              "      <td>6497.000000</td>\n",
              "      <td>6497.000000</td>\n",
              "      <td>6497.000000</td>\n",
              "      <td>6497.000000</td>\n",
              "      <td>6497.000000</td>\n",
              "      <td>6497.000000</td>\n",
              "      <td>6497.000000</td>\n",
              "      <td>6497.000000</td>\n",
              "      <td>6497.000000</td>\n",
              "      <td>6497.000000</td>\n",
              "      <td>6497.000000</td>\n",
              "    </tr>\n",
              "    <tr>\n",
              "      <th>mean</th>\n",
              "      <td>7.215307</td>\n",
              "      <td>0.339666</td>\n",
              "      <td>0.318633</td>\n",
              "      <td>5.443235</td>\n",
              "      <td>0.056034</td>\n",
              "      <td>30.525319</td>\n",
              "      <td>115.744574</td>\n",
              "      <td>0.994697</td>\n",
              "      <td>3.218501</td>\n",
              "      <td>0.531268</td>\n",
              "      <td>10.491801</td>\n",
              "      <td>5.818378</td>\n",
              "      <td>0.753886</td>\n",
              "    </tr>\n",
              "    <tr>\n",
              "      <th>std</th>\n",
              "      <td>1.296434</td>\n",
              "      <td>0.164636</td>\n",
              "      <td>0.145318</td>\n",
              "      <td>4.757804</td>\n",
              "      <td>0.035034</td>\n",
              "      <td>17.749400</td>\n",
              "      <td>56.521855</td>\n",
              "      <td>0.002999</td>\n",
              "      <td>0.160787</td>\n",
              "      <td>0.148806</td>\n",
              "      <td>1.192712</td>\n",
              "      <td>0.873255</td>\n",
              "      <td>0.430779</td>\n",
              "    </tr>\n",
              "    <tr>\n",
              "      <th>min</th>\n",
              "      <td>3.800000</td>\n",
              "      <td>0.080000</td>\n",
              "      <td>0.000000</td>\n",
              "      <td>0.600000</td>\n",
              "      <td>0.009000</td>\n",
              "      <td>1.000000</td>\n",
              "      <td>6.000000</td>\n",
              "      <td>0.987110</td>\n",
              "      <td>2.720000</td>\n",
              "      <td>0.220000</td>\n",
              "      <td>8.000000</td>\n",
              "      <td>3.000000</td>\n",
              "      <td>0.000000</td>\n",
              "    </tr>\n",
              "    <tr>\n",
              "      <th>25%</th>\n",
              "      <td>6.400000</td>\n",
              "      <td>0.230000</td>\n",
              "      <td>0.250000</td>\n",
              "      <td>1.800000</td>\n",
              "      <td>0.038000</td>\n",
              "      <td>17.000000</td>\n",
              "      <td>77.000000</td>\n",
              "      <td>0.992340</td>\n",
              "      <td>3.110000</td>\n",
              "      <td>0.430000</td>\n",
              "      <td>9.500000</td>\n",
              "      <td>5.000000</td>\n",
              "      <td>1.000000</td>\n",
              "    </tr>\n",
              "    <tr>\n",
              "      <th>50%</th>\n",
              "      <td>7.000000</td>\n",
              "      <td>0.290000</td>\n",
              "      <td>0.310000</td>\n",
              "      <td>3.000000</td>\n",
              "      <td>0.047000</td>\n",
              "      <td>29.000000</td>\n",
              "      <td>118.000000</td>\n",
              "      <td>0.994890</td>\n",
              "      <td>3.210000</td>\n",
              "      <td>0.510000</td>\n",
              "      <td>10.300000</td>\n",
              "      <td>6.000000</td>\n",
              "      <td>1.000000</td>\n",
              "    </tr>\n",
              "    <tr>\n",
              "      <th>75%</th>\n",
              "      <td>7.700000</td>\n",
              "      <td>0.400000</td>\n",
              "      <td>0.390000</td>\n",
              "      <td>8.100000</td>\n",
              "      <td>0.065000</td>\n",
              "      <td>41.000000</td>\n",
              "      <td>156.000000</td>\n",
              "      <td>0.996990</td>\n",
              "      <td>3.320000</td>\n",
              "      <td>0.600000</td>\n",
              "      <td>11.300000</td>\n",
              "      <td>6.000000</td>\n",
              "      <td>1.000000</td>\n",
              "    </tr>\n",
              "    <tr>\n",
              "      <th>max</th>\n",
              "      <td>15.900000</td>\n",
              "      <td>1.580000</td>\n",
              "      <td>1.660000</td>\n",
              "      <td>65.800000</td>\n",
              "      <td>0.611000</td>\n",
              "      <td>289.000000</td>\n",
              "      <td>440.000000</td>\n",
              "      <td>1.038980</td>\n",
              "      <td>4.010000</td>\n",
              "      <td>2.000000</td>\n",
              "      <td>14.900000</td>\n",
              "      <td>9.000000</td>\n",
              "      <td>1.000000</td>\n",
              "    </tr>\n",
              "  </tbody>\n",
              "</table>\n",
              "</div>"
            ],
            "text/plain": [
              "       fixed_acidity  volatile_acidity  ...      quality    type_wine\n",
              "count    6497.000000       6497.000000  ...  6497.000000  6497.000000\n",
              "mean        7.215307          0.339666  ...     5.818378     0.753886\n",
              "std         1.296434          0.164636  ...     0.873255     0.430779\n",
              "min         3.800000          0.080000  ...     3.000000     0.000000\n",
              "25%         6.400000          0.230000  ...     5.000000     1.000000\n",
              "50%         7.000000          0.290000  ...     6.000000     1.000000\n",
              "75%         7.700000          0.400000  ...     6.000000     1.000000\n",
              "max        15.900000          1.580000  ...     9.000000     1.000000\n",
              "\n",
              "[8 rows x 13 columns]"
            ]
          },
          "metadata": {
            "tags": []
          },
          "execution_count": 328
        }
      ]
    },
    {
      "cell_type": "markdown",
      "metadata": {
        "colab_type": "text",
        "id": "uRo_7tOjex3Z"
      },
      "source": [
        "####  _Missing Values Handling_"
      ]
    },
    {
      "cell_type": "markdown",
      "metadata": {
        "id": "wJ3K_FmCUCsk",
        "colab_type": "text"
      },
      "source": [
        "[**Python**] - Mostrar o número de _missing values_ no dataframe df_Wine:"
      ]
    },
    {
      "cell_type": "code",
      "metadata": {
        "colab_type": "code",
        "id": "PODgu5B6e5qQ",
        "outputId": "ec942685-991e-467f-de24-05e6ca1b5c7b",
        "colab": {
          "base_uri": "https://localhost:8080/",
          "height": 357
        }
      },
      "source": [
        "df_Wine.info()"
      ],
      "execution_count": 0,
      "outputs": [
        {
          "output_type": "stream",
          "text": [
            "<class 'pandas.core.frame.DataFrame'>\n",
            "RangeIndex: 6497 entries, 0 to 6496\n",
            "Data columns (total 13 columns):\n",
            " #   Column                Non-Null Count  Dtype  \n",
            "---  ------                --------------  -----  \n",
            " 0   fixed_acidity         6497 non-null   float64\n",
            " 1   volatile_acidity      6497 non-null   float64\n",
            " 2   citric_acid           6497 non-null   float64\n",
            " 3   residual_sugar        6497 non-null   float64\n",
            " 4   chlorides             6497 non-null   float64\n",
            " 5   free_sulfur_dioxide   6497 non-null   float64\n",
            " 6   total_sulfur_dioxide  6497 non-null   float64\n",
            " 7   density               6497 non-null   float64\n",
            " 8   ph                    6497 non-null   float64\n",
            " 9   sulphates             6497 non-null   float64\n",
            " 10  alcohol               6497 non-null   float64\n",
            " 11  quality               6497 non-null   int64  \n",
            " 12  type_wine             6497 non-null   int64  \n",
            "dtypes: float64(11), int64(2)\n",
            "memory usage: 660.0 KB\n"
          ],
          "name": "stdout"
        }
      ]
    },
    {
      "cell_type": "markdown",
      "metadata": {
        "colab_type": "text",
        "id": "szH_TGJZecXp"
      },
      "source": [
        "Como podem ver, o dataframe df_Wine não contem _missing values_."
      ]
    },
    {
      "cell_type": "markdown",
      "metadata": {
        "colab_type": "text",
        "id": "64znO089vF_2"
      },
      "source": [
        "[**Python**] - Mostrar a distribuição da variável-target 'type_wine':"
      ]
    },
    {
      "cell_type": "code",
      "metadata": {
        "colab_type": "code",
        "id": "ztQ17lhWfdAu",
        "outputId": "c6d603c8-e71e-4bdb-f975-bd7b72fd72bc",
        "colab": {
          "base_uri": "https://localhost:8080/",
          "height": 68
        }
      },
      "source": [
        "df_Wine['type_wine'].value_counts()"
      ],
      "execution_count": 0,
      "outputs": [
        {
          "output_type": "execute_result",
          "data": {
            "text/plain": [
              "1    4898\n",
              "0    1599\n",
              "Name: type_wine, dtype: int64"
            ]
          },
          "metadata": {
            "tags": []
          },
          "execution_count": 330
        }
      ]
    },
    {
      "cell_type": "code",
      "metadata": {
        "colab_type": "code",
        "id": "zDRVQy5avF_4",
        "outputId": "08162e52-b2a0-4772-fa84-e18a016464eb",
        "colab": {
          "base_uri": "https://localhost:8080/",
          "height": 280
        }
      },
      "source": [
        "j = sns.countplot(x=\"type_wine\", data= df_Wine)\n",
        "plt.show(j)"
      ],
      "execution_count": 0,
      "outputs": [
        {
          "output_type": "display_data",
          "data": {
            "image/png": "[encoded data removed]",
            "text/plain": [
              "<Figure size 432x288 with 1 Axes>"
            ]
          },
          "metadata": {
            "tags": [],
            "needs_background": "light"
          }
        }
      ]
    },
    {
      "cell_type": "markdown",
      "metadata": {
        "colab_type": "text",
        "id": "PxexO1Uyeqnj"
      },
      "source": [
        "Como podem ver, temos 6.497 instâncias, das quais 4.898 (75%) instâncias são type_wine= 1 (_white_) e 1.599 (25%) instâncias são type_wine= 0 (_red_). Logo, trata-se de um dataframe desbalanceado. No entanto, não vou me preocupar com este assunto neste Notebook e deixo para os alunos como exercício verificar os efeitos das amostras desbalanceadas."
      ]
    },
    {
      "cell_type": "markdown",
      "metadata": {
        "id": "kr_HZnF0UUh3",
        "colab_type": "text"
      },
      "source": [
        "[**Python**] - Definir os arrays X_Wine e Y_Wine:"
      ]
    },
    {
      "cell_type": "code",
      "metadata": {
        "colab_type": "code",
        "id": "HNvImi4djc-3",
        "colab": {}
      },
      "source": [
        "X_Wine= df_Wine.copy()\n",
        "X_Wine= X_Wine.drop(columns= ['type_wine'])\n",
        "Y_Wine= df_Wine['type_wine'].values"
      ],
      "execution_count": 0,
      "outputs": []
    },
    {
      "cell_type": "markdown",
      "metadata": {
        "colab_type": "text",
        "id": "ViMFMd_SlE3x"
      },
      "source": [
        "[**Python**] - Normalizar os dados - StandardScaler()"
      ]
    },
    {
      "cell_type": "code",
      "metadata": {
        "colab_type": "code",
        "id": "OurlnbX3hzSb",
        "colab": {}
      },
      "source": [
        "from sklearn.preprocessing import StandardScaler\n",
        "\n",
        "# Define o scaler \n",
        "SS = StandardScaler()\n",
        "\n",
        "# Scale o dataframe\n",
        "X_Wine = SS.fit_transform(X_Wine)"
      ],
      "execution_count": 0,
      "outputs": []
    },
    {
      "cell_type": "markdown",
      "metadata": {
        "colab_type": "text",
        "id": "KFkJ7b4U1x3D"
      },
      "source": [
        "### 3. Definir as amostras de treinamento e validação"
      ]
    },
    {
      "cell_type": "markdown",
      "metadata": {
        "colab_type": "text",
        "id": "MBqzBcDL2JH4"
      },
      "source": [
        "[**Python**] - Definir as amostras de treinamento e validação"
      ]
    },
    {
      "cell_type": "code",
      "metadata": {
        "colab_type": "code",
        "id": "bCQUxbbxhVTM",
        "outputId": "28c2c031-ce6c-4d85-9ef0-39d500734383",
        "colab": {
          "base_uri": "https://localhost:8080/",
          "height": 34
        }
      },
      "source": [
        "from sklearn.model_selection import train_test_split\n",
        "\n",
        "X_Treinamento, X_Teste, Y_Treinamento, Y_Teste = train_test_split(X_Wine, Y_Wine, test_size= 0.2, random_state= 20111974)\n",
        "print(f'X: Treinamento=  {X_Treinamento.shape}; X: Teste= {X_Teste.shape}')"
      ],
      "execution_count": 0,
      "outputs": [
        {
          "output_type": "stream",
          "text": [
            "X: Treinamento=  (5197, 12); X: Teste= (1300, 12)\n"
          ],
          "name": "stdout"
        }
      ]
    },
    {
      "cell_type": "code",
      "metadata": {
        "id": "HHmTtQ3F9A9c",
        "colab_type": "code",
        "outputId": "f5fd33c4-8760-4562-eee2-662b85348d19",
        "colab": {
          "base_uri": "https://localhost:8080/",
          "height": 34
        }
      },
      "source": [
        "print(f'Y: Treinamento=  {Y_Treinamento.shape}; Y: Teste= {Y_Teste.shape}')"
      ],
      "execution_count": 0,
      "outputs": [
        {
          "output_type": "stream",
          "text": [
            "Y: Treinamento=  (5197,); Y: Teste= (1300,)\n"
          ],
          "name": "stdout"
        }
      ]
    },
    {
      "cell_type": "markdown",
      "metadata": {
        "colab_type": "text",
        "id": "pPW0aWd4jw0o"
      },
      "source": [
        "### 4. Definir a arquitetura da Rede Neural com _Tensorflow_/_Keras_"
      ]
    },
    {
      "cell_type": "markdown",
      "metadata": {
        "colab_type": "text",
        "id": "ea4WTsP-hCqS"
      },
      "source": [
        "[**Python**] - Definir a arquitetura, ou seja:\n",
        "* $N_{I}$: Número de neurônios na camada de entrada (_Input Layer_);\n",
        "* $N_{O}$: Número de neurônios na camada de saída (_Output Layer_);\n",
        "* $N_{H}$: Número de neurônios na camada escondida (_Hidden Layer_);\n",
        "* FA: Função de ativação;"
      ]
    },
    {
      "cell_type": "code",
      "metadata": {
        "colab_type": "code",
        "id": "y1pVFjFThCqU",
        "colab": {}
      },
      "source": [
        "# Número de Neurônios na Input Layer:\n",
        "N_I= X_Wine.shape[1]\n",
        "\n",
        "# Número de neurônios na Output Layer:\n",
        "N_O= 1\n",
        "\n",
        "# Número de neurônios na Hidden Layer:\n",
        "N_H1= 7\n",
        "\n",
        "# Função de Ativação da Hidden Layer:\n",
        "FA_H= tf.nn.leaky_relu\n",
        "\n",
        "# Função de Ativação da Output Layer:\n",
        "FA_O= tf.nn.leaky_relu"
      ],
      "execution_count": 0,
      "outputs": []
    },
    {
      "cell_type": "markdown",
      "metadata": {
        "colab_type": "text",
        "id": "url8178EpUNO"
      },
      "source": [
        "[**Python**] - Definir as sementes para NumPy e Tensorflow:\n",
        "> Por questões de reproducibilidade de resultados, use as sementes abaixo:\n",
        "\n",
        "* NumPy: 20111974;\n",
        "* Tensorflow: 20111974;"
      ]
    },
    {
      "cell_type": "code",
      "metadata": {
        "colab_type": "code",
        "id": "MU-8uWn-pUNQ",
        "colab": {}
      },
      "source": [
        "np.random.seed(20111974)\n",
        "tf.random.set_seed(20111974)"
      ],
      "execution_count": 0,
      "outputs": []
    },
    {
      "cell_type": "markdown",
      "metadata": {
        "id": "6TLUirr6oXv1",
        "colab_type": "text"
      },
      "source": [
        "[**Python**] - Definir a Rede Neural:"
      ]
    },
    {
      "cell_type": "markdown",
      "metadata": {
        "id": "8HOQIkQ3beJm",
        "colab_type": "text"
      },
      "source": [
        "**Observações**: \n",
        "\n",
        "Para evitar problemas relacionados ao _overfitting_ e _Vanishing or Exploding Gradients in Deep Neural Nets_, os artigos abaixo sugerem as seguintes opções para inicialização dos pesos $W$:\n",
        "\n",
        "* [How to Reduce Overfitting Using Weight Constraints in Keras](https://machinelearningmastery.com/how-to-reduce-overfitting-in-deep-neural-networks-with-weight-constraints-in-keras/) sugere:\n",
        "    * kernel_constraint= tf.keras.constraints.UnitNorm();\n",
        "* [Deep Learning Best Practices (1) — Weight Initialization](https://medium.com/usf-msds/deep-learning-best-practices-1-weight-initialization-14e5c0295b94) sugere:\n",
        "    * kernel_initializer= tf.keras.initializers.he_normal() para activation= 'tf.nn.relu' ou 'tf.nn.leaky_relu' e kernel_constraint= tf.keras.constraints.UnitNorm();\n",
        "* [Vanishing/ Exploding Gradients in Deep Neural Nets and solving them](https://medium.com/swlh/vanishing-exploding-gradients-in-deep-neural-nets-and-solving-them-9d6070f28b29) sugere:\n",
        "    * kernel_initializer= tf.keras.initializers.GlorotUniform();\n",
        "    * kernel_initializer= tf.keras.initializers.GlorotNormal()."
      ]
    },
    {
      "cell_type": "code",
      "metadata": {
        "colab_type": "code",
        "id": "Bj5uJvgaj43u",
        "outputId": "7a5072d9-792b-40c1-f11a-91af48ba7bf3",
        "colab": {
          "base_uri": "https://localhost:8080/",
          "height": 272
        }
      },
      "source": [
        "from tensorflow.keras import Sequential\n",
        "from tensorflow.keras.layers import Dense\n",
        "from tensorflow.keras.layers import Dropout\n",
        "\n",
        "RN= Sequential()\n",
        "RN.add(Dense(units= N_H, input_dim= N_I, kernel_initializer= tf.keras.initializers.GlorotNormal(), activation= FA_H, kernel_constraint= tf.keras.constraints.UnitNorm()))\n",
        "RN.add(Dropout(0.1))\n",
        "RN.add(Dense(units= N_O, activation= FA_O))\n",
        "\n",
        "# Resumo da arquitetura da Rede Neural\n",
        "print(RN.summary())"
      ],
      "execution_count": 0,
      "outputs": [
        {
          "output_type": "stream",
          "text": [
            "Model: \"sequential_20\"\n",
            "_________________________________________________________________\n",
            "Layer (type)                 Output Shape              Param #   \n",
            "=================================================================\n",
            "dense_42 (Dense)             (None, 64)                832       \n",
            "_________________________________________________________________\n",
            "dropout_11 (Dropout)         (None, 64)                0         \n",
            "_________________________________________________________________\n",
            "dense_43 (Dense)             (None, 1)                 65        \n",
            "=================================================================\n",
            "Total params: 897\n",
            "Trainable params: 897\n",
            "Non-trainable params: 0\n",
            "_________________________________________________________________\n",
            "None\n"
          ],
          "name": "stdout"
        }
      ]
    },
    {
      "cell_type": "markdown",
      "metadata": {
        "colab_type": "text",
        "id": "LTs8xbKx2O3Z"
      },
      "source": [
        "### 5. Compilar a Rede Neural\n",
        "\n",
        "Este é um problema de classificação binária (_red_ ou _white_). Portanto, temos:\n",
        "* loss=  tf.keras.losses.BinaryCrossentropy();\n",
        "* metrics= tf.keras.metrics.binary_accuracy;\n",
        "* optimizer= tf.keras.optimizers.Adam().\n",
        "\n",
        "> **Lembre-se**: se o problema fosse de classificação de multi-classes (> 2 classes), então devemos usar loss= tf.keras.losses.CategoricalCrossentropy()."
      ]
    },
    {
      "cell_type": "markdown",
      "metadata": {
        "colab_type": "text",
        "id": "kUpBKJkl07KH"
      },
      "source": [
        "[**Python**] - Comando modelo.compile(optimizer, loss, metrics):"
      ]
    },
    {
      "cell_type": "code",
      "metadata": {
        "colab_type": "code",
        "id": "qGZ1bKCo2L7A",
        "colab": {}
      },
      "source": [
        "Algoritmo_Opt= tf.keras.optimizers.Adam()\n",
        "Loss_Function= tf.keras.losses.BinaryCrossentropy()\n",
        "Metrics_Perf= tf.keras.metrics.binary_accuracy\n",
        "\n",
        "RN.compile(optimizer= Algoritmo_Opt, loss= Loss_Function, metrics= Metrics_Perf)"
      ],
      "execution_count": 0,
      "outputs": []
    },
    {
      "cell_type": "markdown",
      "metadata": {
        "colab_type": "text",
        "id": "jBhkSc582ROC"
      },
      "source": [
        "### 6. Ajustar a Rede Neural\n",
        "\n",
        "Obs.: A opção callbacks abaixo implementa o conceito de _early stopping_. Esta opção vai parar o processo de treinamento da Rede Neural antes de atingirmos o númerco de _epochs_ quando o modelo pára de melhorar, medido pela métrica val_loss. O parâmetro _patience_= k significa que o processo de otimização vai parar se tivermos k _epochs_ consecutivas sem observarmos melhoria da performance da Rede Neural."
      ]
    },
    {
      "cell_type": "markdown",
      "metadata": {
        "colab_type": "text",
        "id": "ls8FfHz0z2lX"
      },
      "source": [
        "[**Python**] - Comando modelo.fit(X_Treinamento, Y_Treinamento, epochs)"
      ]
    },
    {
      "cell_type": "code",
      "metadata": {
        "colab_type": "code",
        "id": "5mpbdiuJ2d1W",
        "outputId": "a8b806f1-ffe7-43a1-f5c6-397a13301f10",
        "colab": {
          "base_uri": "https://localhost:8080/",
          "height": 357
        }
      },
      "source": [
        "callbacks = [tf.keras.callbacks.EarlyStopping(monitor='val_loss', patience = 5, min_delta=0.001)]\n",
        "hist= RN.fit(X_Treinamento, Y_Treinamento, epochs= 10, validation_data= (X_Teste, Y_Teste), callbacks= callbacks)"
      ],
      "execution_count": 0,
      "outputs": [
        {
          "output_type": "stream",
          "text": [
            "Epoch 1/10\n",
            "163/163 [==============================] - 1s 4ms/step - loss: 2.4335 - binary_accuracy: 0.6904 - val_loss: 0.2408 - val_binary_accuracy: 0.9323\n",
            "Epoch 2/10\n",
            "163/163 [==============================] - 0s 2ms/step - loss: 0.3162 - binary_accuracy: 0.9380 - val_loss: 0.1520 - val_binary_accuracy: 0.9662\n",
            "Epoch 3/10\n",
            "163/163 [==============================] - 0s 2ms/step - loss: 0.1558 - binary_accuracy: 0.9654 - val_loss: 0.0632 - val_binary_accuracy: 0.9846\n",
            "Epoch 4/10\n",
            "163/163 [==============================] - 0s 2ms/step - loss: 0.1278 - binary_accuracy: 0.9752 - val_loss: 0.0507 - val_binary_accuracy: 0.9869\n",
            "Epoch 5/10\n",
            "163/163 [==============================] - 0s 2ms/step - loss: 0.1063 - binary_accuracy: 0.9835 - val_loss: 0.0455 - val_binary_accuracy: 0.9908\n",
            "Epoch 6/10\n",
            "163/163 [==============================] - 0s 2ms/step - loss: 0.1091 - binary_accuracy: 0.9777 - val_loss: 0.0635 - val_binary_accuracy: 0.9885\n",
            "Epoch 7/10\n",
            "163/163 [==============================] - 0s 2ms/step - loss: 0.0951 - binary_accuracy: 0.9842 - val_loss: 0.0404 - val_binary_accuracy: 0.9923\n",
            "Epoch 8/10\n",
            "163/163 [==============================] - 0s 2ms/step - loss: 0.0731 - binary_accuracy: 0.9840 - val_loss: 0.0369 - val_binary_accuracy: 0.9946\n",
            "Epoch 9/10\n",
            "163/163 [==============================] - 0s 2ms/step - loss: 0.0731 - binary_accuracy: 0.9873 - val_loss: 0.0354 - val_binary_accuracy: 0.9946\n",
            "Epoch 10/10\n",
            "163/163 [==============================] - 0s 2ms/step - loss: 0.0787 - binary_accuracy: 0.9861 - val_loss: 0.0342 - val_binary_accuracy: 0.9954\n"
          ],
          "name": "stdout"
        }
      ]
    },
    {
      "cell_type": "markdown",
      "metadata": {
        "colab_type": "text",
        "id": "ciXdkbVr2VDG"
      },
      "source": [
        "### 7. Avaliar a performance da Rede Neural"
      ]
    },
    {
      "cell_type": "markdown",
      "metadata": {
        "id": "RS4_cV5TyamK",
        "colab_type": "text"
      },
      "source": [
        "[**Python**] - Comando modelo.evaluate(X_Teste, Y_Teste)"
      ]
    },
    {
      "cell_type": "code",
      "metadata": {
        "colab_type": "code",
        "id": "hkkxiqPe2gZK",
        "outputId": "7cdbb510-c735-47d7-a2cc-385857cb1126",
        "colab": {
          "base_uri": "https://localhost:8080/",
          "height": 51
        }
      },
      "source": [
        "RN.evaluate(X_Teste, Y_Teste)"
      ],
      "execution_count": 0,
      "outputs": [
        {
          "output_type": "stream",
          "text": [
            "41/41 [==============================] - 0s 990us/step - loss: 0.0342 - binary_accuracy: 0.9954\n"
          ],
          "name": "stdout"
        },
        {
          "output_type": "execute_result",
          "data": {
            "text/plain": [
              "[0.03423763066530228, 0.9953846335411072]"
            ]
          },
          "metadata": {
            "tags": []
          },
          "execution_count": 341
        }
      ]
    },
    {
      "cell_type": "markdown",
      "metadata": {
        "colab_type": "text",
        "id": "m8Vs47VV4RsV"
      },
      "source": [
        "A Rede Neural tem acurácia= 0.9946."
      ]
    },
    {
      "cell_type": "markdown",
      "metadata": {
        "colab_type": "text",
        "id": "RHQoDk533TRX"
      },
      "source": [
        "[**Python**] - Comando:\n",
        "* RN.predict_classes(X_Treinamento);\n",
        "* RN.predict_classes(X_Teste)."
      ]
    },
    {
      "cell_type": "code",
      "metadata": {
        "colab_type": "code",
        "id": "vlWfMR-k7Qc1",
        "outputId": "61f08651-ffe7-45bf-8610-2a31ba3bb398",
        "colab": {
          "base_uri": "https://localhost:8080/",
          "height": 136
        }
      },
      "source": [
        "Y_Predito= RN.predict_classes(X_Teste)\n",
        "Y_Predito"
      ],
      "execution_count": 0,
      "outputs": [
        {
          "output_type": "execute_result",
          "data": {
            "text/plain": [
              "array([[0],\n",
              "       [0],\n",
              "       [1],\n",
              "       ...,\n",
              "       [1],\n",
              "       [1],\n",
              "       [1]], dtype=int32)"
            ]
          },
          "metadata": {
            "tags": []
          },
          "execution_count": 342
        }
      ]
    },
    {
      "cell_type": "markdown",
      "metadata": {
        "colab_type": "text",
        "id": "mCpp-MO0nXmj"
      },
      "source": [
        "A seguir, outras medidas para avaliarmos a performance da Rede Neural:\n",
        "\n"
      ]
    },
    {
      "cell_type": "code",
      "metadata": {
        "colab_type": "code",
        "id": "oWF-wWfTnjQh",
        "colab": {}
      },
      "source": [
        "# Import the modules from sklearn.metrics\n",
        "from sklearn.metrics import confusion_matrix, precision_score, recall_score, f1_score, cohen_kappa_score"
      ],
      "execution_count": 0,
      "outputs": []
    },
    {
      "cell_type": "code",
      "metadata": {
        "colab_type": "code",
        "id": "MHD0CvGQnm0v",
        "outputId": "0cfbb571-4e91-470f-a68d-531379a7f491",
        "colab": {
          "base_uri": "https://localhost:8080/",
          "height": 34
        }
      },
      "source": [
        "# Precision \n",
        "precision_score(Y_Teste, Y_Predito)"
      ],
      "execution_count": 0,
      "outputs": [
        {
          "output_type": "execute_result",
          "data": {
            "text/plain": [
              "0.9959100204498977"
            ]
          },
          "metadata": {
            "tags": []
          },
          "execution_count": 344
        }
      ]
    },
    {
      "cell_type": "code",
      "metadata": {
        "colab_type": "code",
        "id": "ERoX4BeQnosC",
        "outputId": "25b48b63-a653-43a4-af29-842283243807",
        "colab": {
          "base_uri": "https://localhost:8080/",
          "height": 34
        }
      },
      "source": [
        "# Recall\n",
        "recall_score(Y_Teste, Y_Predito)"
      ],
      "execution_count": 0,
      "outputs": [
        {
          "output_type": "execute_result",
          "data": {
            "text/plain": [
              "0.9979508196721312"
            ]
          },
          "metadata": {
            "tags": []
          },
          "execution_count": 345
        }
      ]
    },
    {
      "cell_type": "code",
      "metadata": {
        "colab_type": "code",
        "id": "l_2bS23Inq1p",
        "outputId": "8195d33c-235b-4100-9c33-7769b42da1e3",
        "colab": {
          "base_uri": "https://localhost:8080/",
          "height": 34
        }
      },
      "source": [
        "# F1 score\n",
        "f1_score(Y_Teste,Y_Predito)"
      ],
      "execution_count": 0,
      "outputs": [
        {
          "output_type": "execute_result",
          "data": {
            "text/plain": [
              "0.9969293756397134"
            ]
          },
          "metadata": {
            "tags": []
          },
          "execution_count": 346
        }
      ]
    },
    {
      "cell_type": "markdown",
      "metadata": {
        "colab_type": "text",
        "id": "rLM1BSK2QfZm"
      },
      "source": [
        "A seguir, a matriz de confusão:"
      ]
    },
    {
      "cell_type": "markdown",
      "metadata": {
        "colab_type": "text",
        "id": "H3yUb9tP2YfE"
      },
      "source": [
        "### 8. Fazer Predições com a Rede Neural"
      ]
    },
    {
      "cell_type": "markdown",
      "metadata": {
        "colab_type": "text",
        "id": "CupPMVRo3a5q"
      },
      "source": [
        "[**Python**] - Comando:\n",
        "* RN.predict_classes(X_Treinamento);\n",
        "* RN.predict_classes(X_Teste)."
      ]
    },
    {
      "cell_type": "code",
      "metadata": {
        "colab_type": "code",
        "id": "GePOr4EJ3mfn",
        "outputId": "cbda6b1f-ee6d-409a-b353-b5eebcf4297d",
        "colab": {
          "base_uri": "https://localhost:8080/",
          "height": 187
        }
      },
      "source": [
        "Y_Predito = RN.predict_classes(X_Teste)\n",
        "Y_Predito[:10]"
      ],
      "execution_count": 0,
      "outputs": [
        {
          "output_type": "execute_result",
          "data": {
            "text/plain": [
              "array([[0],\n",
              "       [0],\n",
              "       [1],\n",
              "       [1],\n",
              "       [1],\n",
              "       [1],\n",
              "       [1],\n",
              "       [1],\n",
              "       [1],\n",
              "       [1]], dtype=int32)"
            ]
          },
          "metadata": {
            "tags": []
          },
          "execution_count": 347
        }
      ]
    },
    {
      "cell_type": "code",
      "metadata": {
        "colab_type": "code",
        "id": "aO79VSBS3mfv",
        "outputId": "745121b6-8268-4f9c-b7d7-9e4c759344ec",
        "colab": {
          "base_uri": "https://localhost:8080/",
          "height": 34
        }
      },
      "source": [
        "Y_Teste[:10]"
      ],
      "execution_count": 0,
      "outputs": [
        {
          "output_type": "execute_result",
          "data": {
            "text/plain": [
              "array([0, 0, 1, 1, 1, 1, 1, 1, 1, 1])"
            ]
          },
          "metadata": {
            "tags": []
          },
          "execution_count": 348
        }
      ]
    },
    {
      "cell_type": "markdown",
      "metadata": {
        "colab_type": "text",
        "id": "oHlDHVp_KcLn"
      },
      "source": [
        "### 10. Conclusão\n",
        "\n",
        "Desenvolvemos uma Rede Neural com 1 _Hidden Layer_ que atingiu acurácia de 0.998."
      ]
    }
  ]
}