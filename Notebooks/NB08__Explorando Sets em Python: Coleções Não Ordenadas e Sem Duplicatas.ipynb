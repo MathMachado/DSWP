{
  "nbformat": 4,
  "nbformat_minor": 0,
  "metadata": {
    "colab": {
      "name": "NB08__Sets.ipynb",
      "provenance": [],
      "collapsed_sections": [
        "n8BIbzQbNWUo",
        "7eS94uQ4NhVR",
        "SYOgJpGYVLUu",
        "CaHFxk98W5if",
        "ReWUyWiHXCnc",
        "CqszHxaKHr2h",
        "tXgF1Wl9gHKY",
        "Fotx7XUquAo8",
        "36kmLUYDvsUI",
        "SWO2GdNovxAp",
        "vpN54l4vxze5",
        "u4HOf9SNytSq",
        "6BQ9oZiD9hg5",
        "tz5-QdrX9vct",
        "p1muBgMX8NK4",
        "FxTC2-U88ajk",
        "z8EYn0pP25Rh"
      ],
      "include_colab_link": true
    },
    "kernelspec": {
      "name": "python3",
      "display_name": "Python 3"
    },
    "accelerator": "GPU"
  },
  "cells": [
    {
      "cell_type": "markdown",
      "metadata": {
        "id": "view-in-github",
        "colab_type": "text"
      },
      "source": [
        "<a href=\"https://colab.research.google.com/github/MathMachado/DSWP/blob/master/Notebooks/NB08__Explorando%20Sets%20em%20Python%3A%20Cole%C3%A7%C3%B5es%20N%C3%A3o%20Ordenadas%20e%20Sem%20Duplicatas.ipynb\" target=\"_parent\"><img src=\"https://colab.research.google.com/assets/colab-badge.svg\" alt=\"Open In Colab\"/></a>"
      ]
    },
    {
      "cell_type": "markdown",
      "metadata": {
        "id": "S1PPi1u3tyh5"
      },
      "source": [
        "<center><h1><b><i>Explorando Sets em Python: Coleções Não Ordenadas e Sem Duplicatas</i></b></h1></center>\n",
        "\n"
      ]
    },
    {
      "cell_type": "markdown",
      "metadata": {
        "id": "BA1so4bct3y4"
      },
      "source": [
        "# **AGENDA**:\n",
        "\n",
        "> Neste vídeo, você irá aprofundar seu conhecimento sobre sets em Python, uma estrutura de dados poderosa que permite trabalhar com coleções não ordenadas e sem elementos duplicados. Abordaremos os seguintes tópicos:\n",
        "\n",
        "* O que são Sets?\n",
        "\n",
        "    * Compreenda os sets como uma coleção não ordenada, iterável e mutável que não permite itens duplicados.\n",
        "    * Entenda a analogia entre sets em Python e os conjuntos matemáticos, incluindo operações como união, interseção e diferença.\n",
        "* Criando Sets em Python:\n",
        "\n",
        "    * Aprenda a criar sets utilizando chaves {} ou a função set().\n",
        "    * Veja exemplos práticos de sets com diferentes tipos de dados.\n",
        "* Características dos Sets:\n",
        "\n",
        "    * Não Permite Duplicatas: Descubra como os sets eliminam automaticamente itens duplicados, garantindo que cada elemento seja único.\n",
        "    * Coleção Não Ordenada: Entenda que os sets não mantêm uma ordem específica dos elementos, e por isso não é possível acessar itens por índices.\n",
        "* Acessando e Modificando Sets:\n",
        "\n",
        "    * Saiba como iterar sobre os elementos de um set utilizando loops for.\n",
        "    * Aprenda a adicionar itens com o método add() e múltiplos itens com update().\n",
        "    * Veja como remover itens usando remove(), discard(), pop() e clear().\n",
        "* Operações com Sets:\n",
        "\n",
        "    * União (union() ou |): Combinar elementos de dois sets, sem duplicatas.\n",
        "    * Interseção (intersection() ou &): Obter elementos comuns a dois sets.\n",
        "    * Diferença (difference() ou -): Encontrar elementos presentes em um set e não no outro.\n",
        "    * Diferença Simétrica (symmetric_difference() ou ^): Elementos que estão em um set ou no outro, mas não em ambos.\n",
        "* Vantagens de Usar Sets em Comparação com Listas:\n",
        "\n",
        "    * Descubra por que os sets são altamente eficientes para verificar a pertinência de um item, ou seja, se um elemento está presente na coleção.\n",
        "    * Entenda que operações de busca em sets são mais rápidas do que em listas, devido à implementação baseada em tabelas hash.\n",
        "* Limitações dos Sets:\n",
        "\n",
        "    * Não é possível acessar elementos por índices ou fatiamento.\n",
        "    * Os elementos de um set devem ser imutáveis (por exemplo, números, strings, tuplas).\n",
        "* Aplicações Práticas:\n",
        "\n",
        "    * Remoção de duplicatas de uma coleção.\n",
        "    * Implementação de operações matemáticas de conjuntos em programas.\n",
        "    * Verificação eficiente de pertencimento em grandes coleções de dados.\n",
        "* Wrap Up:\n",
        "\n",
        "    * Revisão dos principais conceitos aprendidos sobre sets e suas aplicações em Python.\n",
        "* Exercícios:\n",
        "\n",
        "    * Desafios práticos para consolidar o conhecimento e aplicar o que foi aprendido sobre sets.\n",
        "\n",
        "Este vídeo é ideal para quem deseja expandir suas habilidades em Python e aprender a utilizar sets para escrever códigos mais eficientes e elegantes, especialmente ao trabalhar com coleções de dados onde a unicidade e a eficiência de busca são importantes.\n"
      ]
    },
    {
      "cell_type": "markdown",
      "metadata": {
        "id": "NmzmiDz9JpL5"
      },
      "source": [
        "# **SETS**\n",
        "\n",
        "* Um objeto Set é uma coleção não ordenada que pode ser iterável, alterado e que não possui duplicatas.\n",
        "* **Analogia com conjuntos da Matemática**.\n",
        "* Itens entre \"{}\": {item_1, item_2, ..., item_k}.\n",
        "* Não se pode usar índices para acessar os itens do objeto Set.\n",
        "\n",
        "* Qual a vantagem de se utilizar objetos Sets ao invés de lists?    \n",
        "    * Usar Sets ao invés de lists é um meio altamente recomendado e otimizado para se verificar se o item pertence à lista."
      ]
    },
    {
      "cell_type": "markdown",
      "metadata": {
        "id": "1zmO_0tAJsSg"
      },
      "source": [
        "![PythonDataStructures](https://github.com/MathMachado/Materials/blob/master/PythonDataStructures.png?raw=true)"
      ]
    },
    {
      "cell_type": "markdown",
      "metadata": {
        "id": "aVMai8KcRwF2"
      },
      "source": [
        "Considere o exemplo a seguir:"
      ]
    },
    {
      "cell_type": "code",
      "metadata": {
        "id": "poP9r8crQ3Xf"
      },
      "source": [
        "# Definindo a lista\n",
        "l_frutas = ['Apple', 'Watermelon', 'Orange', 'Pear', 'Cherry', 'Strawberry', 'Nectarine', 'Grape',\n",
        "'Mango', 'Blueberry', 'Pomegranate', 'Carambola', 'Plum', 'Banana', 'Raspberry', 'Mandarin', 'Jackfruit',\n",
        "'Papaya', 'Kiwi', 'Pineapple', 'Lime', 'Lemon', 'Apricot', 'Grapefruit', 'Melon', 'Coconut', 'Avocado', 'Peach']"
      ],
      "execution_count": 1,
      "outputs": []
    },
    {
      "cell_type": "markdown",
      "metadata": {
        "id": "SIJ2Pp-C5ZMP"
      },
      "source": [
        "Mostrando os itens da lista l_frutas:"
      ]
    },
    {
      "cell_type": "code",
      "metadata": {
        "id": "u9laOclSTZnV",
        "outputId": "0248b27b-6eb6-41ab-b85d-dc1eaadefbeb",
        "colab": {
          "base_uri": "https://localhost:8080/"
        }
      },
      "source": [
        "l_frutas"
      ],
      "execution_count": 2,
      "outputs": [
        {
          "output_type": "execute_result",
          "data": {
            "text/plain": [
              "['Apple',\n",
              " 'Watermelon',\n",
              " 'Orange',\n",
              " 'Pear',\n",
              " 'Cherry',\n",
              " 'Strawberry',\n",
              " 'Nectarine',\n",
              " 'Grape',\n",
              " 'Mango',\n",
              " 'Blueberry',\n",
              " 'Pomegranate',\n",
              " 'Carambola',\n",
              " 'Plum',\n",
              " 'Banana',\n",
              " 'Raspberry',\n",
              " 'Mandarin',\n",
              " 'Jackfruit',\n",
              " 'Papaya',\n",
              " 'Kiwi',\n",
              " 'Pineapple',\n",
              " 'Lime',\n",
              " 'Lemon',\n",
              " 'Apricot',\n",
              " 'Grapefruit',\n",
              " 'Melon',\n",
              " 'Coconut',\n",
              " 'Avocado',\n",
              " 'Peach']"
            ]
          },
          "metadata": {},
          "execution_count": 2
        }
      ]
    },
    {
      "cell_type": "code",
      "metadata": {
        "id": "gqttQBWrGfys",
        "outputId": "5340fa04-e24d-4dac-bea7-e633c6e7dc5c",
        "colab": {
          "base_uri": "https://localhost:8080/"
        }
      },
      "source": [
        "type(l_frutas)"
      ],
      "execution_count": 3,
      "outputs": [
        {
          "output_type": "execute_result",
          "data": {
            "text/plain": [
              "list"
            ]
          },
          "metadata": {},
          "execution_count": 3
        }
      ]
    },
    {
      "cell_type": "markdown",
      "metadata": {
        "id": "yOtcxsv8TrH8"
      },
      "source": [
        "Como podemos ver, l_frutas é um objeto do tipo list."
      ]
    },
    {
      "cell_type": "markdown",
      "metadata": {
        "id": "bv_DKDqLFEud"
      },
      "source": [
        "___\n",
        "# **TRANSFORMAR OBJETO LIST EM OBJETO SETS**\n",
        "* Função set()."
      ]
    },
    {
      "cell_type": "code",
      "metadata": {
        "id": "XVQ2sG0Pap4b",
        "outputId": "2222c3e2-9c24-4d78-c968-0ab10c1e73d9",
        "colab": {
          "base_uri": "https://localhost:8080/"
        }
      },
      "source": [
        "set_frutas = set(l_frutas)\n",
        "set_frutas"
      ],
      "execution_count": 4,
      "outputs": [
        {
          "output_type": "execute_result",
          "data": {
            "text/plain": [
              "{'Apple',\n",
              " 'Apricot',\n",
              " 'Avocado',\n",
              " 'Banana',\n",
              " 'Blueberry',\n",
              " 'Carambola',\n",
              " 'Cherry',\n",
              " 'Coconut',\n",
              " 'Grape',\n",
              " 'Grapefruit',\n",
              " 'Jackfruit',\n",
              " 'Kiwi',\n",
              " 'Lemon',\n",
              " 'Lime',\n",
              " 'Mandarin',\n",
              " 'Mango',\n",
              " 'Melon',\n",
              " 'Nectarine',\n",
              " 'Orange',\n",
              " 'Papaya',\n",
              " 'Peach',\n",
              " 'Pear',\n",
              " 'Pineapple',\n",
              " 'Plum',\n",
              " 'Pomegranate',\n",
              " 'Raspberry',\n",
              " 'Strawberry',\n",
              " 'Watermelon'}"
            ]
          },
          "metadata": {},
          "execution_count": 4
        }
      ]
    },
    {
      "cell_type": "markdown",
      "metadata": {
        "id": "2cI9beMn5-UK"
      },
      "source": [
        "Observe que o objeto set acima não possui itens duplicados."
      ]
    },
    {
      "cell_type": "code",
      "metadata": {
        "id": "aH5hc2-DFbA_",
        "outputId": "c4e6225e-fe99-4e44-cbca-d5b0d2885bb3",
        "colab": {
          "base_uri": "https://localhost:8080/"
        }
      },
      "source": [
        "# Verificando o tipo do objeto set_frutas...\n",
        "type(set_frutas)"
      ],
      "execution_count": 5,
      "outputs": [
        {
          "output_type": "execute_result",
          "data": {
            "text/plain": [
              "set"
            ]
          },
          "metadata": {},
          "execution_count": 5
        }
      ]
    },
    {
      "cell_type": "markdown",
      "metadata": {
        "id": "OVlha00pH3gZ"
      },
      "source": [
        "Ok, set_frutas é um objeto do tipo set."
      ]
    },
    {
      "cell_type": "markdown",
      "metadata": {
        "id": "4mXfPWYc6Ek5"
      },
      "source": [
        "Você notou que os itens do set set_frutas estão entre \"{}\"?"
      ]
    },
    {
      "cell_type": "markdown",
      "metadata": {
        "id": "zNea67m1IMCK"
      },
      "source": [
        "Verificando se o item 'Mandarin' pertence ao set set_frutas..."
      ]
    },
    {
      "cell_type": "code",
      "metadata": {
        "id": "xPvKOOugbDMN",
        "outputId": "f67f8136-7fad-415c-aa7b-b97772931126",
        "colab": {
          "base_uri": "https://localhost:8080/"
        }
      },
      "source": [
        "'Mandarin' in set_frutas"
      ],
      "execution_count": 6,
      "outputs": [
        {
          "output_type": "execute_result",
          "data": {
            "text/plain": [
              "True"
            ]
          },
          "metadata": {},
          "execution_count": 6
        }
      ]
    },
    {
      "cell_type": "markdown",
      "metadata": {
        "id": "y7UuizNcbVMU"
      },
      "source": [
        "___\n",
        "# **PRINCIPAIS MÉTODOS**\n",
        "> Alinhado com a teoria dos conjuntos da Matemática.\n",
        "\n"
      ]
    },
    {
      "cell_type": "markdown",
      "metadata": {
        "id": "9fE_ZTIXcQyh"
      },
      "source": [
        "## União de conjuntos (sets)\n",
        "* Retorna a união/junção de dois objetos sets;\n",
        "* O operador ‘|’ produz o mesmo resultado que set1.union(set2);\n",
        "\n",
        "![Union](https://github.com/MathMachado/Materials/blob/master/set_Union.PNG?raw=true)\n",
        "\n",
        "Fonte: [Python Set](https://www.learnbyexample.org/python-set/)"
      ]
    },
    {
      "cell_type": "markdown",
      "metadata": {
        "id": "RBqab5gR7v2c"
      },
      "source": [
        "### set.union()\n",
        "> Retorna os valores únicos dos dois conjuntos. Na teoria dos conjuntos, escrevemos:\n",
        "\n",
        "$$A \\cup B$$"
      ]
    },
    {
      "cell_type": "code",
      "metadata": {
        "id": "qAbAJg94b_Qh"
      },
      "source": [
        "# definindo a lista de itens. Lembre-se de usar \"{}\" ao invés de \"[]\"\n",
        "set_frutas1 = {'Apple', 'Watermelon', 'Orange', 'Apple', 'Orange', 'Cherry'}\n",
        "set_frutas2 = {'Pear', 'Cherry', 'Strawberry', 'Nectarine'}"
      ],
      "execution_count": 7,
      "outputs": []
    },
    {
      "cell_type": "markdown",
      "metadata": {
        "id": "Ipfhr4XM9J7i"
      },
      "source": [
        "**Atenção**: Observe que o objeto lista set_frutas1 possui 'Apple' e 'Orange' duplicados. Observe, também, que o item 'Cherry' é o item comum entre estas duas listas."
      ]
    },
    {
      "cell_type": "code",
      "metadata": {
        "id": "SOqXa6ikdBpw",
        "outputId": "f24d25c5-f7ce-4d0d-adb6-85d005163fad",
        "colab": {
          "base_uri": "https://localhost:8080/"
        }
      },
      "source": [
        "# Juntando as duas listas:\n",
        "set_frutas = set_frutas1.union(set_frutas2)\n",
        "set_frutas"
      ],
      "execution_count": 8,
      "outputs": [
        {
          "output_type": "execute_result",
          "data": {
            "text/plain": [
              "{'Apple', 'Cherry', 'Nectarine', 'Orange', 'Pear', 'Strawberry', 'Watermelon'}"
            ]
          },
          "metadata": {},
          "execution_count": 8
        }
      ]
    },
    {
      "cell_type": "markdown",
      "metadata": {
        "id": "hPGXjs_Z7LHp"
      },
      "source": [
        "Note que cada elemento da lista aparece uma única vez."
      ]
    },
    {
      "cell_type": "markdown",
      "metadata": {
        "id": "FC1pk8gyCwRI"
      },
      "source": [
        "Observe também que o objeto set_frutas1 é do tipo set."
      ]
    },
    {
      "cell_type": "code",
      "metadata": {
        "id": "hVJjyDFoCrPD",
        "outputId": "b89c2cb4-b042-4c32-af87-3ef822aa085b",
        "colab": {
          "base_uri": "https://localhost:8080/"
        }
      },
      "source": [
        "type(set_frutas)"
      ],
      "execution_count": 9,
      "outputs": [
        {
          "output_type": "execute_result",
          "data": {
            "text/plain": [
              "set"
            ]
          },
          "metadata": {},
          "execution_count": 9
        }
      ]
    },
    {
      "cell_type": "markdown",
      "metadata": {
        "id": "GKSxZcdE7smv"
      },
      "source": [
        "### Operador \"|\"\n",
        "* vamos repetir o exemplo anterior, mas desta vez vamos demonstrar o uso do operador \"|\"."
      ]
    },
    {
      "cell_type": "code",
      "metadata": {
        "id": "joNgYYtD78Dz"
      },
      "source": [
        "# definindo a lista de itens. Lembre-se de usar \"{}\" ao invés de \"[]\"\n",
        "set_frutas1 = {'Apple', 'Watermelon', 'Orange', 'Apple', 'Orange', 'Cherry'}\n",
        "set_frutas2 = {'Pear', 'Cherry', 'Strawberry', 'Nectarine'}"
      ],
      "execution_count": 11,
      "outputs": []
    },
    {
      "cell_type": "code",
      "metadata": {
        "id": "uExwK4z-8ADr",
        "outputId": "75433492-3ed7-423d-d254-2f55ecd3eaf2",
        "colab": {
          "base_uri": "https://localhost:8080/"
        }
      },
      "source": [
        "# Juntando as duas listas:\n",
        "set_frutas = set_frutas1 | set_frutas1\n",
        "set_frutas"
      ],
      "execution_count": 12,
      "outputs": [
        {
          "output_type": "execute_result",
          "data": {
            "text/plain": [
              "{'Apple', 'Cherry', 'Orange', 'Watermelon'}"
            ]
          },
          "metadata": {},
          "execution_count": 12
        }
      ]
    },
    {
      "cell_type": "markdown",
      "metadata": {
        "id": "FJ11hu6-8EzS"
      },
      "source": [
        "Mesmo resultado, certo? Particularmente, eu prefiro usar o operador \"|\"."
      ]
    },
    {
      "cell_type": "markdown",
      "metadata": {
        "id": "xLO-u0kS8UV5"
      },
      "source": [
        "## Intersecção de dois conjuntos\n",
        "* Retorna a intersecção de dois objetos set;\n",
        "* O operador ‘&’ produz o mesmo resultado que set1.intersection(set2).\n",
        "* Teoria dos conjuntos: $X \\cap Y$.\n",
        "\n",
        "![Interseccion](https://github.com/MathMachado/Materials/blob/master/set_Intersection.PNG?raw=true)\n",
        "\n",
        "Fonte: [Python Set](https://www.learnbyexample.org/python-set/)"
      ]
    },
    {
      "cell_type": "code",
      "metadata": {
        "id": "F9ae2SAW8Tar"
      },
      "source": [
        "# definindo a lista de itens. Lembre-se de usar \"{}\" ao invés de \"[]\"\n",
        "set_frutas1= {'Apple', 'Watermelon', 'Orange', 'Apple', 'Orange', 'Cherry'}\n",
        "set_frutas2= {'Pear', 'Cherry', 'Strawberry', 'Nectarine'}"
      ],
      "execution_count": 13,
      "outputs": []
    },
    {
      "cell_type": "code",
      "metadata": {
        "id": "TDqwIfqn94kx",
        "outputId": "54118163-6365-4d21-93d8-6b890f86d6ca",
        "colab": {
          "base_uri": "https://localhost:8080/"
        }
      },
      "source": [
        "set_frutas = set_frutas1.intersection(set_frutas2)\n",
        "set_frutas"
      ],
      "execution_count": 14,
      "outputs": [
        {
          "output_type": "execute_result",
          "data": {
            "text/plain": [
              "{'Cherry'}"
            ]
          },
          "metadata": {},
          "execution_count": 14
        }
      ]
    },
    {
      "cell_type": "markdown",
      "metadata": {
        "id": "WTJiBRqZ-DnV"
      },
      "source": [
        "### Operador \"&\""
      ]
    },
    {
      "cell_type": "code",
      "metadata": {
        "id": "Zt3DwQDs-IVi"
      },
      "source": [
        "# definindo a lista de itens. Lembre-se de usar \"{}\" ao invés de \"[]\"\n",
        "set_frutas1 = {'Apple', 'Watermelon', 'Orange', 'Apple', 'Orange', 'Cherry'}\n",
        "set_frutas2 = {'Pear', 'Cherry', 'Strawberry', 'Nectarine'}"
      ],
      "execution_count": 15,
      "outputs": []
    },
    {
      "cell_type": "code",
      "metadata": {
        "id": "FEMRpfH6-P8R",
        "outputId": "e247df62-9061-4ae7-9c8b-d66df55d4cd7",
        "colab": {
          "base_uri": "https://localhost:8080/"
        }
      },
      "source": [
        "set_frutas = set_frutas1 & set_frutas2\n",
        "set_frutas"
      ],
      "execution_count": 16,
      "outputs": [
        {
          "output_type": "execute_result",
          "data": {
            "text/plain": [
              "{'Cherry'}"
            ]
          },
          "metadata": {},
          "execution_count": 16
        }
      ]
    },
    {
      "cell_type": "markdown",
      "metadata": {
        "id": "N445biyX-krt"
      },
      "source": [
        "## Diferença entre conjuntos\n",
        "* Retorna um objeto/conjunto set contendo todos os elementos do conjunto set1 que não pertençam ao conjunto set2;\n",
        "* O operador \"-\" produz o mesmo resultado que set1.difference(set2).\n",
        "* Na teoria de conjuntos escrevemos: $A - B = A - A \\cap B$\n",
        "\n",
        "![Difference](https://github.com/MathMachado/Materials/blob/master/set_Difference.PNG?raw=true)\n",
        "\n",
        "Fonte: [Python Set](https://www.learnbyexample.org/python-set/)"
      ]
    },
    {
      "cell_type": "code",
      "metadata": {
        "id": "1E3xd6oh-jt9"
      },
      "source": [
        "# definindo a lista de itens. Lembre-se de usar \"{}\" ao invés de \"[]\"\n",
        "set_frutas1= {'Apple', 'Watermelon', 'Orange', 'Apple', 'Orange', 'Cherry'}\n",
        "set_frutas2= {'Pear', 'Cherry', 'Strawberry', 'Nectarine'}"
      ],
      "execution_count": 17,
      "outputs": []
    },
    {
      "cell_type": "code",
      "metadata": {
        "id": "1ibPFZwA_iKF",
        "outputId": "cef9b827-bbc9-446b-c32a-bbfcb352ab1d",
        "colab": {
          "base_uri": "https://localhost:8080/"
        }
      },
      "source": [
        "set_frutas = set_frutas1.difference(set_frutas2)\n",
        "set_frutas"
      ],
      "execution_count": 18,
      "outputs": [
        {
          "output_type": "execute_result",
          "data": {
            "text/plain": [
              "{'Apple', 'Orange', 'Watermelon'}"
            ]
          },
          "metadata": {},
          "execution_count": 18
        }
      ]
    },
    {
      "cell_type": "markdown",
      "metadata": {
        "id": "h9V-k8Fj_uAT"
      },
      "source": [
        "Confira se o resultado são os elementos que pertençam ao objeto set 1 que NÃO PERTENÇAM ao set2."
      ]
    },
    {
      "cell_type": "markdown",
      "metadata": {
        "id": "_4DhSxXt_W1W"
      },
      "source": [
        "### Operador \"-\""
      ]
    },
    {
      "cell_type": "code",
      "metadata": {
        "id": "9E7YiPue_qDl"
      },
      "source": [
        "# definindo a lista de itens. Lembre-se de usar \"{}\" ao invés de \"[]\"\n",
        "set_frutas1 = {'Apple', 'Watermelon', 'Orange', 'Apple', 'Orange', 'Cherry'}\n",
        "set_frutas2 = {'Pear', 'Cherry', 'Strawberry', 'Nectarine'}"
      ],
      "execution_count": 19,
      "outputs": []
    },
    {
      "cell_type": "code",
      "metadata": {
        "id": "zxJrZlJK_ryG",
        "outputId": "d47d322f-289d-4ddc-ed6f-9e8b7364f202",
        "colab": {
          "base_uri": "https://localhost:8080/"
        }
      },
      "source": [
        "set_frutas = set_frutas1 - set_frutas2\n",
        "set_frutas"
      ],
      "execution_count": 20,
      "outputs": [
        {
          "output_type": "execute_result",
          "data": {
            "text/plain": [
              "{'Apple', 'Orange', 'Watermelon'}"
            ]
          },
          "metadata": {},
          "execution_count": 20
        }
      ]
    },
    {
      "cell_type": "markdown",
      "metadata": {
        "id": "jx1KeO8kd6DG"
      },
      "source": [
        "## **Diferença Simétrica**\n",
        "* Retorna um objeto/conjunto set contendo itens de set1 e set2 menos a intersecção de set1 e set2.\n",
        "* Na teoria de conjuntos escrevemos: $A \\cup B - A \\cap B$.\n",
        "\n",
        "![DifferenceSymmetric](https://github.com/MathMachado/Materials/blob/master/set_DifferenceSymetric.PNG?raw=true)\n",
        "\n",
        "Fonte: [Python Set](https://www.learnbyexample.org/python-set/)"
      ]
    },
    {
      "cell_type": "code",
      "metadata": {
        "id": "1HOonLLXeEXJ"
      },
      "source": [
        "import numpy as np\n",
        "# definindo a lista de itens. Lembre-se de usar \"{}\" ao invés de \"[]\"\n",
        "set_frutas1 = {'Apple', 'Watermelon', 'Orange', 'Apple', 'Orange', 'Cherry'}\n",
        "set_frutas2 = {'Pear', 'Cherry', 'Strawberry', 'Nectarine'}"
      ],
      "execution_count": 21,
      "outputs": []
    },
    {
      "cell_type": "code",
      "metadata": {
        "id": "j-lsvUcWeHRR",
        "outputId": "9b5ddfb3-7b11-4c9b-dda8-044c88b7a5ad",
        "colab": {
          "base_uri": "https://localhost:8080/"
        }
      },
      "source": [
        "set_frutas1 ^= set_frutas2\n",
        "set_frutas1"
      ],
      "execution_count": 22,
      "outputs": [
        {
          "output_type": "execute_result",
          "data": {
            "text/plain": [
              "{'Apple', 'Nectarine', 'Orange', 'Pear', 'Strawberry', 'Watermelon'}"
            ]
          },
          "metadata": {},
          "execution_count": 22
        }
      ]
    },
    {
      "cell_type": "markdown",
      "metadata": {
        "id": "H2CCI3WtebAi"
      },
      "source": [
        "Vimos que o item 'Cherry' é o elemento comum entre as duas listas. Portanto, 'Cherry' é a intersecção das duas listas. Certo?\n",
        "\n",
        "Então, o resultado acima não pode conter o item 'Cherry'. Certo?"
      ]
    },
    {
      "cell_type": "markdown",
      "metadata": {
        "id": "B7fT-QGiFREs"
      },
      "source": [
        "___\n",
        "# **OUTROS MÉTODOS IMPORTANTES**"
      ]
    },
    {
      "cell_type": "markdown",
      "metadata": {
        "id": "hWNUIGpIE6z9"
      },
      "source": [
        "## Método clear()\n",
        "* deleta os itens do objeto set."
      ]
    },
    {
      "cell_type": "code",
      "metadata": {
        "id": "48OzIs0fE-yD"
      },
      "source": [
        "# definindo a lista de itens. Lembre-se de usar \"{}\" ao invés de \"[]\"\n",
        "set_frutas1 = {'Apple','Watermelon','Orange', 'Apple', 'Orange', 'Cherry'}\n",
        "set_frutas2 = {'Pear', 'Cherry', 'Strawberry', 'Nectarine'}"
      ],
      "execution_count": null,
      "outputs": []
    },
    {
      "cell_type": "code",
      "metadata": {
        "id": "SanSB3dlALSC"
      },
      "source": [
        "set_frutas1.clear()\n",
        "set_frutas1"
      ],
      "execution_count": null,
      "outputs": []
    },
    {
      "cell_type": "markdown",
      "metadata": {
        "id": "yP_uvIwJT9QV"
      },
      "source": [
        "## Número de itens num objeto set"
      ]
    },
    {
      "cell_type": "code",
      "metadata": {
        "id": "_RWrhL6PUEpi"
      },
      "source": [
        "# definindo a lista de itens. Lembre-se de usar \"{}\" ao invés de \"[]\"\n",
        "set_frutas = {'Apple','Watermelon','Orange', 'Apple', 'Orange', 'Cherry'}"
      ],
      "execution_count": null,
      "outputs": []
    },
    {
      "cell_type": "code",
      "metadata": {
        "id": "J4MjZHJSUHfF"
      },
      "source": [
        "len(set_frutas)"
      ],
      "execution_count": null,
      "outputs": []
    },
    {
      "cell_type": "markdown",
      "metadata": {
        "id": "GoI7V7tCF5it"
      },
      "source": [
        "Por acaso alguém estava à espera de outro númerco, como um 6, por exemplo?"
      ]
    },
    {
      "cell_type": "markdown",
      "metadata": {
        "id": "oggPxr5HFXur"
      },
      "source": [
        "## Membership"
      ]
    },
    {
      "cell_type": "code",
      "metadata": {
        "id": "lVRfn8xwFchc"
      },
      "source": [
        "# definindo a lista de itens. Lembre-se de usar \"{}\" ao invés de \"[]\"\n",
        "set_frutas = {'Apple','Watermelon','Orange', 'Apple', 'Orange', 'Cherry'}"
      ],
      "execution_count": null,
      "outputs": []
    },
    {
      "cell_type": "code",
      "metadata": {
        "id": "4elw5NJhFWQW",
        "outputId": "28bed898-450a-47d0-e96d-7be400eb1cbb",
        "colab": {
          "base_uri": "https://localhost:8080/"
        }
      },
      "source": [
        "'Apple' in set_frutas"
      ],
      "execution_count": 23,
      "outputs": [
        {
          "output_type": "execute_result",
          "data": {
            "text/plain": [
              "True"
            ]
          },
          "metadata": {},
          "execution_count": 23
        }
      ]
    },
    {
      "cell_type": "markdown",
      "metadata": {
        "id": "7XZKfZ15FrEt"
      },
      "source": [
        "## Non-Membership"
      ]
    },
    {
      "cell_type": "code",
      "metadata": {
        "id": "2hbOQfTgFvw7"
      },
      "source": [
        "# definindo a lista de itens. Lembre-se de usar \"{}\" ao invés de \"[]\"\n",
        "set_frutas = {'Apple','Watermelon','Orange', 'Apple', 'Orange', 'Cherry'}"
      ],
      "execution_count": null,
      "outputs": []
    },
    {
      "cell_type": "code",
      "metadata": {
        "id": "cNAXJt1cFy3z",
        "outputId": "5a605d29-1be8-4ada-b5eb-df4538b5402f",
        "colab": {
          "base_uri": "https://localhost:8080/"
        }
      },
      "source": [
        "'Apple' not in set_frutas"
      ],
      "execution_count": 24,
      "outputs": [
        {
          "output_type": "execute_result",
          "data": {
            "text/plain": [
              "False"
            ]
          },
          "metadata": {},
          "execution_count": 24
        }
      ]
    },
    {
      "cell_type": "markdown",
      "metadata": {
        "id": "nZY6vT45Pl63"
      },
      "source": [
        "## Copiar um objeto set"
      ]
    },
    {
      "cell_type": "code",
      "metadata": {
        "id": "qtwgwjlgPqYP"
      },
      "source": [
        "# definindo a lista de itens. Lembre-se de usar \"{}\" ao invés de \"[]\"\n",
        "set_frutas = {'Apple','Watermelon','Orange', 'Apple', 'Orange', 'Cherry'}"
      ],
      "execution_count": null,
      "outputs": []
    },
    {
      "cell_type": "code",
      "metadata": {
        "id": "CW3dXoO0PsYl"
      },
      "source": [
        "set_frutas2 = set_frutas.copy()\n",
        "set_frutas2"
      ],
      "execution_count": null,
      "outputs": []
    },
    {
      "cell_type": "markdown",
      "metadata": {
        "id": "Qua-_coqTtjV"
      },
      "source": [
        "## Testar se cada elemento de set_frutas1 pertence à set_frutas2"
      ]
    },
    {
      "cell_type": "code",
      "metadata": {
        "id": "fg_bHYVoUh0w"
      },
      "source": [
        "set_frutas1 = {'Apple', 'Orange', 'Cherry'}\n",
        "set_frutas2 = {'Apple', 'Orange','Cherry', 'Nectarine', 'Avocado'}"
      ],
      "execution_count": 25,
      "outputs": []
    },
    {
      "cell_type": "code",
      "metadata": {
        "id": "BH0duIgVU6n0",
        "outputId": "96d4ecd6-9fab-4043-b387-a89cc34a4d5b",
        "colab": {
          "base_uri": "https://localhost:8080/"
        }
      },
      "source": [
        "set_frutas1.issubset(set_frutas2)"
      ],
      "execution_count": 26,
      "outputs": [
        {
          "output_type": "execute_result",
          "data": {
            "text/plain": [
              "True"
            ]
          },
          "metadata": {},
          "execution_count": 26
        }
      ]
    },
    {
      "cell_type": "markdown",
      "metadata": {
        "id": "LBdo25CoGkwc"
      },
      "source": [
        "A interpretação disso é que set_frutas1 é subconjunto de set_frutas2. Lembra-se destes conceitos quando estudou Matemática ou Estatística?"
      ]
    },
    {
      "cell_type": "markdown",
      "metadata": {
        "id": "1PIjNvQuVKbx"
      },
      "source": [
        "### Operador \"<=\""
      ]
    },
    {
      "cell_type": "code",
      "metadata": {
        "id": "-qrurs3mVSBj"
      },
      "source": [
        "set_frutas1 = {'Apple', 'Orange', 'Cherry'}\n",
        "set_frutas2 = {'Apple', 'Orange', 'Cherry', 'Nectarine', 'Avocado'}"
      ],
      "execution_count": null,
      "outputs": []
    },
    {
      "cell_type": "code",
      "metadata": {
        "id": "MZGE23nEVUfn"
      },
      "source": [
        "set_frutas1 <= set_frutas2"
      ],
      "execution_count": null,
      "outputs": []
    },
    {
      "cell_type": "markdown",
      "metadata": {
        "id": "IukNRPkVGZhh"
      },
      "source": [
        "___\n",
        "# **EXERCÍCIOS**\n",
        "\n",
        "Esses exercícios abrangem diversos aspectos dos **sets em Python**, incluindo criação, manipulação, operações entre sets, e aplicações práticas como remoção de duplicatas e eficiência na verificação de pertinência. Ao praticar esses exercícios, você irá consolidar seu entendimento sobre sets e aprender a aplicá-los efetivamente em seus projetos. Boa prática!\n",
        "\n",
        "---\n",
        "\n",
        "## **1. Criando e Acessando Sets**\n",
        "\n",
        "**Descrição:**\n",
        "\n",
        "Crie um set chamado `numeros` que contenha os números `1`, `2`, `3`, `4`, `5`, `5`, `4`. Em seguida:\n",
        "\n",
        "- Exiba o set e observe o que acontece com os números duplicados.\n",
        "- Verifique se o número `3` pertence ao set e exiba uma mensagem apropriada.\n",
        "\n",
        "**Dicas:**\n",
        "\n",
        "- Lembre-se de que sets não permitem elementos duplicados.\n",
        "- Use o operador `in` para verificar a pertinência de um elemento.\n",
        "\n",
        "---\n",
        "\n",
        "## **2. Removendo Duplicatas de uma Lista**\n",
        "\n",
        "**Descrição:**\n",
        "\n",
        "Dada a lista `lista_com_duplicatas = [1, 2, 2, 3, 4, 4, 5]`, remova os elementos duplicados convertendo-a em um set. Em seguida, converta o set de volta para uma lista chamada `lista_sem_duplicatas`.\n",
        "\n",
        "**Dicas:**\n",
        "\n",
        "- Use a função `set()` para converter a lista em set.\n",
        "- Use a função `list()` para converter o set de volta em lista.\n",
        "\n",
        "---\n",
        "\n",
        "## **3. Operações de União e Interseção**\n",
        "\n",
        "**Descrição:**\n",
        "\n",
        "Crie dois sets:\n",
        "\n",
        "- `pares = {0, 2, 4, 6, 8}`\n",
        "- `ímpares = {1, 3, 5, 7, 9}`\n",
        "\n",
        "Em seguida:\n",
        "\n",
        "- Crie um set `todos_numeros` que seja a união de `pares` e `ímpares`.\n",
        "- Verifique se há algum elemento comum entre `pares` e `ímpares` usando a interseção.\n",
        "\n",
        "**Dicas:**\n",
        "\n",
        "- Use o método `union()` ou o operador `|` para união.\n",
        "- Use o método `intersection()` ou o operador `&` para interseção.\n",
        "\n",
        "---\n",
        "\n",
        "## **4. Diferença entre Sets**\n",
        "\n",
        "**Descrição:**\n",
        "\n",
        "Dado os sets:\n",
        "\n",
        "- `set_A = {'maçã', 'banana', 'laranja'}`\n",
        "- `set_B = {'banana', 'kiwi', 'melancia'}`\n",
        "\n",
        "Encontre:\n",
        "\n",
        "- Os elementos que estão em `set_A` mas não em `set_B`.\n",
        "- Os elementos que estão em `set_B` mas não em `set_A`.\n",
        "\n",
        "**Dicas:**\n",
        "\n",
        "- Use o método `difference()` ou o operador `-` para encontrar a diferença.\n",
        "\n",
        "---\n",
        "\n",
        "## **5. Diferença Simétrica**\n",
        "\n",
        "**Descrição:**\n",
        "\n",
        "Utilizando os mesmos sets do exercício anterior (`set_A` e `set_B`), encontre os elementos que estão em `set_A` ou em `set_B`, mas **não** em ambos.\n",
        "\n",
        "**Dicas:**\n",
        "\n",
        "- Use o método `symmetric_difference()` ou o operador `^` para diferença simétrica.\n",
        "\n",
        "---\n",
        "\n",
        "## **6. Verificando Subsets e Supersets**\n",
        "\n",
        "**Descrição:**\n",
        "\n",
        "Crie os sets:\n",
        "\n",
        "- `set_numeros = {1, 2, 3, 4, 5}`\n",
        "- `set_sub = {2, 3}`\n",
        "\n",
        "Verifique e exiba:\n",
        "\n",
        "- Se `set_sub` é um subset de `set_numeros`.\n",
        "- Se `set_numeros` é um superset de `set_sub`.\n",
        "\n",
        "**Dicas:**\n",
        "\n",
        "- Use os métodos `issubset()` e `issuperset()`.\n",
        "\n",
        "---\n",
        "\n",
        "## **7. Congelando um Set (Frozenset)**\n",
        "\n",
        "**Descrição:**\n",
        "\n",
        "Crie um **frozenset** chamado `fs` a partir da lista `['a', 'b', 'c']`. Tente adicionar um novo elemento ao `fs` e observe o que acontece.\n",
        "\n",
        "**Dicas:**\n",
        "\n",
        "- Use a função `frozenset()` para criar um set imutável.\n",
        "- Tente usar o método `add()` e veja a mensagem de erro.\n",
        "\n",
        "---\n",
        "\n",
        "## **8. Iterando sobre um Set**\n",
        "\n",
        "**Descrição:**\n",
        "\n",
        "Crie um set com as vogais `{'a', 'e', 'i', 'o', 'u'}`. Em seguida:\n",
        "\n",
        "- Itere sobre o set e exiba cada vogal em maiúscula.\n",
        "\n",
        "**Dicas:**\n",
        "\n",
        "- Use um loop `for` para iterar sobre os elementos do set.\n",
        "- Use o método `upper()` para converter as letras para maiúsculas.\n",
        "\n",
        "---\n",
        "\n",
        "## **9. Removendo Itens de um Set**\n",
        "\n",
        "**Descrição:**\n",
        "\n",
        "Crie um set chamado `frutas` com os itens `{'maçã', 'banana', 'cereja'}`. Em seguida:\n",
        "\n",
        "- Remova o item `'banana'` usando o método `remove()`.\n",
        "- Tente remover o item `'abacaxi'` usando o método `discard()`.\n",
        "- Observe a diferença entre `remove()` e `discard()` quando o item não existe.\n",
        "\n",
        "**Dicas:**\n",
        "\n",
        "- `remove()` gera um erro se o item não existe.\n",
        "- `discard()` não gera erro se o item não existe.\n",
        "\n",
        "---\n",
        "\n",
        "## **10. Aplicação Prática: Filtrando Elementos Únicos**\n",
        "\n",
        "**Descrição:**\n",
        "\n",
        "Dada a lista de palavras `palavras = ['python', 'java', 'python', 'c', 'java', 'c++', 'ruby', 'c']`, crie uma lista chamada `palavras_unicas` que contenha apenas as palavras únicas (sem duplicatas).\n",
        "\n",
        "**Dicas:**\n",
        "\n",
        "- Converta a lista em um set para remover duplicatas.\n",
        "- Converta o set de volta em uma lista se precisar manter o tipo list.\n",
        "\n",
        "---\n"
      ]
    },
    {
      "cell_type": "markdown",
      "metadata": {
        "id": "UmO-h59hGgcz"
      },
      "source": [
        "## Exercício 11\n",
        "* Qual o output do code abaixo:"
      ]
    },
    {
      "cell_type": "code",
      "metadata": {
        "id": "01qeqOSxRPC1"
      },
      "source": [
        "set_numeros = {0, 1, 2, 2, 3, 3, 3, 4, 4, 4, 4, 5, 5, 5, 5, 5, 6, 6, 6, 6, 6, 6, 7, 7, 7, 7, 7, 7, 7, 8, 8, 8, 8, 8, 8, 8, 8, 9, 9, 9, 9, 9, 9, 9, 9, 9}\n",
        "print(set_numeros)"
      ],
      "execution_count": null,
      "outputs": []
    },
    {
      "cell_type": "markdown",
      "metadata": {
        "id": "eSNtDeQfHdil"
      },
      "source": [
        "## Exercícios 12\n",
        "* Qual o output do code abaixo:"
      ]
    },
    {
      "cell_type": "code",
      "metadata": {
        "id": "VNg2T-sDRV9a"
      },
      "source": [
        "set_numeros = {0 ,1, 2,3 , 4}\n",
        "set_numeros.update([3, 4, 5, 6])\n",
        "set_numeros"
      ],
      "execution_count": null,
      "outputs": []
    },
    {
      "cell_type": "markdown",
      "metadata": {
        "id": "GPgj2ZrePEAn"
      },
      "source": [
        "### Explicação\n",
        "O método update() adiciona/acrescenta itens ao objeto set."
      ]
    },
    {
      "cell_type": "markdown",
      "metadata": {
        "id": "kJK2zXYvQIzu"
      },
      "source": [
        "## Exercício 13\n",
        "* Qual o output do code abaixo:"
      ]
    },
    {
      "cell_type": "markdown",
      "metadata": {
        "id": "14kwGxGLQ4c3"
      },
      "source": [
        "### Exercício 13.1.\n"
      ]
    },
    {
      "cell_type": "code",
      "metadata": {
        "id": "GsYLjSrkQ0Zj"
      },
      "source": [
        "set_numeros = {0, 1 ,2, 3, 4, 5}\n",
        "set_numeros2 = set_numeros.add(4)"
      ],
      "execution_count": null,
      "outputs": []
    },
    {
      "cell_type": "markdown",
      "metadata": {
        "id": "DkZke4WARwQC"
      },
      "source": [
        "### Exercício 13.2."
      ]
    },
    {
      "cell_type": "code",
      "metadata": {
        "id": "_O_MWJYPRxyM"
      },
      "source": [
        "set_engenheiros = {'A', 'B', 'C', 'D'}\n",
        "set_programadores = {'C', 'E', 'F', 'D'}\n",
        "set_gerentes = {'B', 'C', 'F', 'G'}"
      ],
      "execution_count": null,
      "outputs": []
    },
    {
      "cell_type": "code",
      "metadata": {
        "id": "kkzsEWmWTOKs"
      },
      "source": [
        "set_empregados = set_engenheiros | set_programadores | set_gerentes\n",
        "set_empregados"
      ],
      "execution_count": null,
      "outputs": []
    },
    {
      "cell_type": "markdown",
      "metadata": {
        "id": "HlUDcqfZhquc"
      },
      "source": [
        "### Exercício 13.3."
      ]
    },
    {
      "cell_type": "code",
      "metadata": {
        "id": "IDCvrGBChsIu"
      },
      "source": [
        "set_engenheiros_gerentes = set_engenheiros & set_gerentes\n",
        "set_engenheiros_gerentes"
      ],
      "execution_count": null,
      "outputs": []
    },
    {
      "cell_type": "markdown",
      "metadata": {
        "id": "DBBjOSFlh_6x"
      },
      "source": [
        "### Exercício 13.4."
      ]
    },
    {
      "cell_type": "code",
      "metadata": {
        "id": "N8gBFIb-TKM1"
      },
      "source": [
        "set_so_gerentes = set_gerentes - set_engenheiros - set_programadores\n",
        "set_so_gerentes"
      ],
      "execution_count": null,
      "outputs": []
    },
    {
      "cell_type": "markdown",
      "metadata": {
        "id": "N2EAoffaiGdd"
      },
      "source": [
        "### Exercício 13.5."
      ]
    },
    {
      "cell_type": "code",
      "metadata": {
        "id": "91zIe8jNiHBm"
      },
      "source": [
        "set_engenheiros.add('H')\n",
        "set_engenheiros"
      ],
      "execution_count": null,
      "outputs": []
    },
    {
      "cell_type": "markdown",
      "metadata": {
        "id": "YTqebb3WiKDP"
      },
      "source": [
        "### Exercício 13.6."
      ]
    },
    {
      "cell_type": "code",
      "metadata": {
        "id": "og-yknYuiKe2"
      },
      "source": [
        "set_empregados.update(set_engenheiros)\n",
        "set_empregados"
      ],
      "execution_count": null,
      "outputs": []
    },
    {
      "cell_type": "markdown",
      "metadata": {
        "id": "9b-YOjfCiNFQ"
      },
      "source": [
        "### Exercício 13.7."
      ]
    },
    {
      "cell_type": "code",
      "metadata": {
        "id": "JzgC07WZiNeu"
      },
      "source": [
        "for item in [set_engenheiros, set_programadores, set_gerentes, set_empregados]:\n",
        "    item.discard('F')\n",
        "    print(item)"
      ],
      "execution_count": null,
      "outputs": []
    },
    {
      "cell_type": "markdown",
      "metadata": {
        "id": "aBgeAOt-hb_d"
      },
      "source": [
        "## Exercício 14\n",
        "* É possível sortear os itens de um set? Explique sua resposta."
      ]
    },
    {
      "cell_type": "markdown",
      "metadata": {
        "id": "cuZfHXvRwCry"
      },
      "source": [
        "## Exercício 15\n",
        "Consulte a página [Python Data Types: Sets - Exercises, Practice, Solution](https://www.w3resource.com/python-exercises/sets/) para mais exercícios relacionados à sets."
      ]
    },
    {
      "cell_type": "code",
      "metadata": {
        "id": "q3ImGyClhgkK"
      },
      "source": [],
      "execution_count": null,
      "outputs": []
    }
  ]
}