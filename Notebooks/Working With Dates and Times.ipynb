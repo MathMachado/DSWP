{
  "nbformat": 4,
  "nbformat_minor": 0,
  "metadata": {
    "colab": {
      "name": "Untitled1.ipynb",
      "version": "0.3.2",
      "provenance": [],
      "private_outputs": true,
      "include_colab_link": true
    },
    "kernelspec": {
      "name": "python3",
      "display_name": "Python 3"
    }
  },
  "cells": [
    {
      "cell_type": "markdown",
      "metadata": {
        "id": "view-in-github",
        "colab_type": "text"
      },
      "source": [
        "<a href=\"https://colab.research.google.com/github/MathMachado/Python_RFB/blob/DS_Python/Notebooks/Working%20With%20Dates%20and%20Times.ipynb\" target=\"_parent\"><img src=\"https://colab.research.google.com/assets/colab-badge.svg\" alt=\"Open In Colab\"/></a>"
      ]
    },
    {
      "cell_type": "markdown",
      "metadata": {
        "id": "6q117A_iYkAh",
        "colab_type": "text"
      },
      "source": [
        "# Melhorias da sessão\n",
        "* Apresentar exercícios;\n"
      ]
    },
    {
      "cell_type": "markdown",
      "metadata": {
        "id": "A-1vOg_nGowq",
        "colab_type": "text"
      },
      "source": [
        "# Date & Time\n",
        "\n",
        "* O Python trabalha com o que se chama de TimeTuple, ou seja, retorna uma tupla com as seguintes informações:\n",
        "\n",
        "![](https://github.com/MathMachado/Python_RFB/blob/DS_Python/Material/PythonTimeTuple.PNG?raw=true)\n",
        "\n",
        "\n",
        "\n"
      ]
    },
    {
      "cell_type": "markdown",
      "metadata": {
        "id": "CY-TgbdiOU1e",
        "colab_type": "text"
      },
      "source": [
        "# Capturar dados relativos ao tempo"
      ]
    },
    {
      "cell_type": "code",
      "metadata": {
        "id": "Z4w3dhkCOU_O",
        "colab_type": "code",
        "colab": {}
      },
      "source": [
        "import time\n",
        "\n",
        "HoraLocal = time.localtime(time.time())\n",
        "print(\"A hora local é:\", HoraLocal)"
      ],
      "execution_count": 0,
      "outputs": []
    },
    {
      "cell_type": "code",
      "metadata": {
        "id": "OIX62FgdZhbU",
        "colab_type": "code",
        "colab": {}
      },
      "source": [
        "list(HoraLocal)"
      ],
      "execution_count": 0,
      "outputs": []
    },
    {
      "cell_type": "markdown",
      "metadata": {
        "id": "u03PGZeZTblY",
        "colab_type": "text"
      },
      "source": [
        "Como dito anteriormente, temos como resposta uma tupla. Desta forma, podemos selecionar convenientemente cada parte desta tupla.\n",
        "\n",
        "Por exemplo, se quisermos somente o ano, basta..."
      ]
    },
    {
      "cell_type": "code",
      "metadata": {
        "id": "DhKDiZyYUfP5",
        "colab_type": "code",
        "colab": {}
      },
      "source": [
        "print(\"Ano..........:\", HoraLocal[0])\n",
        "print(\"Mes..........:\", HoraLocal[1])\n",
        "print(\"Dia..........:\", HoraLocal[2])\n",
        "print(\"Hora.........:\", HoraLocal[3])\n",
        "print(\"Minutos......:\", HoraLocal[4])\n",
        "print(\"Segundos.....:\", HoraLocal[5])\n",
        "print(\"Dia da Semana:\", HoraLocal[6])"
      ],
      "execution_count": 0,
      "outputs": []
    },
    {
      "cell_type": "markdown",
      "metadata": {
        "id": "wB_gV0--VTME",
        "colab_type": "text"
      },
      "source": [
        "# Formatar dados do tempo\n",
        "* Função asctime() - Este método retorna o tempo corrente numa string de 24 caracteres."
      ]
    },
    {
      "cell_type": "code",
      "metadata": {
        "id": "CLaKyMvmbHJr",
        "colab_type": "code",
        "colab": {}
      },
      "source": [
        "time.asctime()"
      ],
      "execution_count": 0,
      "outputs": []
    },
    {
      "cell_type": "code",
      "metadata": {
        "id": "jJ0ukjYdVdWe",
        "colab_type": "code",
        "colab": {}
      },
      "source": [
        "HoraLocal = time.asctime(time.localtime(time.time()))\n",
        "print(\"A hora local é:\", HoraLocal)"
      ],
      "execution_count": 0,
      "outputs": []
    },
    {
      "cell_type": "markdown",
      "metadata": {
        "id": "SiAHAqZvWmkd",
        "colab_type": "text"
      },
      "source": [
        "Ou, se você preferir, podemos ter os dados numa lista usando a função split(), conforme a seguir:"
      ]
    },
    {
      "cell_type": "code",
      "metadata": {
        "id": "9xn_BdC9aRik",
        "colab_type": "code",
        "colab": {}
      },
      "source": [
        "# Conteúdo da variável\n",
        "HoraLocal"
      ],
      "execution_count": 0,
      "outputs": []
    },
    {
      "cell_type": "code",
      "metadata": {
        "id": "lJd0ghETWbnY",
        "colab_type": "code",
        "colab": {}
      },
      "source": [
        "HoraLocal= HoraLocal.split(' ')\n",
        "HoraLocal"
      ],
      "execution_count": 0,
      "outputs": []
    },
    {
      "cell_type": "code",
      "metadata": {
        "id": "lS_oUhjlW1Xl",
        "colab_type": "code",
        "colab": {}
      },
      "source": [
        "# Mostra a hora\n",
        "HoraLocal[3]"
      ],
      "execution_count": 0,
      "outputs": []
    },
    {
      "cell_type": "markdown",
      "metadata": {
        "id": "kg7kjBmTapou",
        "colab_type": "text"
      },
      "source": [
        "OU..."
      ]
    },
    {
      "cell_type": "code",
      "metadata": {
        "id": "JtqjyLvlaqqm",
        "colab_type": "code",
        "colab": {}
      },
      "source": [
        "import datetime\n",
        "\n",
        "HoraLocal = datetime.datetime.now()\n",
        "print(HoraLocal)"
      ],
      "execution_count": 0,
      "outputs": []
    },
    {
      "cell_type": "markdown",
      "metadata": {
        "id": "-uZ4MWzEa4uS",
        "colab_type": "text"
      },
      "source": [
        "Veja que HoraLocal é um objeto. A seguir, listamos todos os métodos associados a este objeto."
      ]
    },
    {
      "cell_type": "code",
      "metadata": {
        "id": "NCYkmRLraxad",
        "colab_type": "code",
        "colab": {}
      },
      "source": [
        "dir(HoraLocal)"
      ],
      "execution_count": 0,
      "outputs": []
    },
    {
      "cell_type": "markdown",
      "metadata": {
        "id": "JvLt35Aja_nQ",
        "colab_type": "text"
      },
      "source": [
        "Então, se quisermos..."
      ]
    },
    {
      "cell_type": "code",
      "metadata": {
        "id": "Aoo12fG1bDTX",
        "colab_type": "code",
        "colab": {}
      },
      "source": [
        "# O ano...\n",
        "print(HoraLocal.year)"
      ],
      "execution_count": 0,
      "outputs": []
    },
    {
      "cell_type": "code",
      "metadata": {
        "id": "I0iOu0eKaoI1",
        "colab_type": "code",
        "colab": {}
      },
      "source": [
        "# O mês...\n",
        "print(HoraLocal.month)"
      ],
      "execution_count": 0,
      "outputs": []
    },
    {
      "cell_type": "code",
      "metadata": {
        "id": "HIADF262bMgQ",
        "colab_type": "code",
        "colab": {}
      },
      "source": [
        "# O dia...\n",
        "print(HoraLocal.day)"
      ],
      "execution_count": 0,
      "outputs": []
    },
    {
      "cell_type": "markdown",
      "metadata": {
        "id": "H-E4NfbnXAY3",
        "colab_type": "text"
      },
      "source": [
        "# Calendário para um dado ano e mês\n",
        "* Se quisermos ver o calendário, basta..."
      ]
    },
    {
      "cell_type": "code",
      "metadata": {
        "id": "I_EJfyu6XHQf",
        "colab_type": "code",
        "colab": {}
      },
      "source": [
        "import calendar\n",
        "\n",
        "Calendario = calendar.month(2019, 9)\n",
        "print(Calendario)"
      ],
      "execution_count": 0,
      "outputs": []
    },
    {
      "cell_type": "code",
      "metadata": {
        "id": "MaYLQL7QYkCX",
        "colab_type": "code",
        "colab": {}
      },
      "source": [
        "# Define 'Domingo' como primeiro dia da semana\n",
        "# Considere que Seg= 0, Ter= 1, ..., Dom= 6. Então:\n",
        "calendar.setfirstweekday(6)\n",
        "Calendario = calendar.month(2019, 9)\n",
        "print(Calendario)"
      ],
      "execution_count": 0,
      "outputs": []
    },
    {
      "cell_type": "markdown",
      "metadata": {
        "id": "o_3G8ZP0bjw9",
        "colab_type": "text"
      },
      "source": [
        "# Gerar datas\n",
        "\n",
        "* As datas podem ser geradas pela função date(Year, Month, Day)."
      ]
    },
    {
      "cell_type": "code",
      "metadata": {
        "id": "sN93K03Dbovb",
        "colab_type": "code",
        "colab": {}
      },
      "source": [
        "import datetime\n",
        "\n",
        "MeuAniversario = datetime.date(2019, 11, 20)\n",
        "print(MeuAniversario)"
      ],
      "execution_count": 0,
      "outputs": []
    },
    {
      "cell_type": "code",
      "metadata": {
        "id": "pQQ22yqVYlsG",
        "colab_type": "code",
        "colab": {}
      },
      "source": [
        "type(MeuAniversario)"
      ],
      "execution_count": 0,
      "outputs": []
    },
    {
      "cell_type": "markdown",
      "metadata": {
        "id": "gNRbFFhycP5g",
        "colab_type": "text"
      },
      "source": [
        "# Gerar horas\n",
        "\n",
        "* As horas ser geradas pela função time(Hour, Minutes, Seconds)."
      ]
    },
    {
      "cell_type": "code",
      "metadata": {
        "id": "AtxvkEYRcanj",
        "colab_type": "code",
        "colab": {}
      },
      "source": [
        "from datetime import time\n",
        "\n",
        "Hora = time(11, 34, 56)\n",
        "print(\"Hora:\", Hora)"
      ],
      "execution_count": 0,
      "outputs": []
    },
    {
      "cell_type": "markdown",
      "metadata": {
        "id": "O53z6X8adYmR",
        "colab_type": "text"
      },
      "source": [
        "Pode-se usar a função datetime(Year, Month, Day, Hour, Minutes, Seconds, MicroSeconds) para gerar a informação completa"
      ]
    },
    {
      "cell_type": "code",
      "metadata": {
        "id": "dGFLy-I0ddsI",
        "colab_type": "code",
        "colab": {}
      },
      "source": [
        "from datetime import datetime\n",
        "\n",
        "#datetime(year, month, day)\n",
        "Date = datetime(2019, 11, 20)\n",
        "print(Date)"
      ],
      "execution_count": 0,
      "outputs": []
    },
    {
      "cell_type": "code",
      "metadata": {
        "id": "vNYR86wjdxxO",
        "colab_type": "code",
        "colab": {}
      },
      "source": [
        "# datetime(year, month, day, hour, minute, second, microsecond)\n",
        "Date = datetime(2019, 11, 20, 20, 19, 59, 342380)\n",
        "print(Date)"
      ],
      "execution_count": 0,
      "outputs": []
    },
    {
      "cell_type": "markdown",
      "metadata": {
        "id": "NqwnmHxFeDWs",
        "colab_type": "text"
      },
      "source": [
        "# Diferença entre datas ou horas"
      ]
    },
    {
      "cell_type": "markdown",
      "metadata": {
        "id": "YH__kwmtiMJW",
        "colab_type": "text"
      },
      "source": [
        "## Quantos dias faltam para o natal?"
      ]
    },
    {
      "cell_type": "code",
      "metadata": {
        "id": "8EgUri6JeDzS",
        "colab_type": "code",
        "colab": {}
      },
      "source": [
        "from datetime import datetime, date\n",
        "\n",
        "Date1 = date(year = 2019, month = 9, day = 5)\n",
        "\n",
        "Date_Target = date(year = 2019, month = 12, day = 25)\n",
        "\n",
        "Quantos_dias_para_o_natal = Date_Target - Date1\n",
        "print(Quantos_dias_para_o_natal)"
      ],
      "execution_count": 0,
      "outputs": []
    },
    {
      "cell_type": "markdown",
      "metadata": {
        "id": "aMZUo98iiLBu",
        "colab_type": "text"
      },
      "source": [
        "Ou..."
      ]
    },
    {
      "cell_type": "code",
      "metadata": {
        "id": "QIqp-Pl4h_du",
        "colab_type": "code",
        "colab": {}
      },
      "source": [
        "Date1 = datetime(year = 2019, month = 9, day = 2, hour = 9, minute = 30, second = 33)\n",
        "Date_Target = datetime(year = 2019, month = 12, day = 25, hour = 20, minute = 00, second = 00)\n",
        "Diferenca = Date_Target - Date1\n",
        "print(Diferenca)"
      ],
      "execution_count": 0,
      "outputs": []
    },
    {
      "cell_type": "markdown",
      "metadata": {
        "id": "vcNEQttWjJbE",
        "colab_type": "text"
      },
      "source": [
        "# Formatos para datetime\n",
        "* Podemos representar datas de muitas formas, sendo mm/dd/yyyy (USA formato) e dd/mm/yyyy (UK formato) os formatos mais comuns.\n",
        "* Python possui os métodos strftime() e strptime() para nos ajudar com esses formatos.\n",
        "    * O Método strftime() cria strings formatadas para as classes date, datetime e time.\n",
        "    * O Método..."
      ]
    },
    {
      "cell_type": "markdown",
      "metadata": {
        "id": "CZZfBENrkirQ",
        "colab_type": "text"
      },
      "source": [
        "## strftime() - datetime to string\n",
        "* Método que cria datetime objetos a partir de uma data."
      ]
    },
    {
      "cell_type": "code",
      "metadata": {
        "id": "DEuWUXcHkjVA",
        "colab_type": "code",
        "colab": {}
      },
      "source": [
        "from datetime import datetime\n",
        "\n",
        "# Captura o horário atual:\n",
        "Agora = datetime.now()\n",
        "\n",
        "AgoraFMT= Agora.strftime(\"%H:%M:%S\")\n",
        "print(\"AgoraFMT:\", AgoraFMT)\n",
        "\n",
        "# Captura a data e a hora:\n",
        "Agora_USA= Agora.strftime(\"%m/%d/%Y, %H:%M:%S\")\n",
        "print(\"Agora_USA:\", Agora_USA)\n",
        "\n",
        "# Captura a data e a hora usando outro formato:\n",
        "Agora_UK= Agora.strftime(\"%d/%m/%Y, %H:%M:%S\")\n",
        "print(\"Agora_UK:\", Agora_UK)"
      ],
      "execution_count": 0,
      "outputs": []
    },
    {
      "cell_type": "markdown",
      "metadata": {
        "id": "dwZW9CRsmAhn",
        "colab_type": "text"
      },
      "source": [
        "### Outro exemplo:"
      ]
    },
    {
      "cell_type": "code",
      "metadata": {
        "id": "ZIAmG18ymAs0",
        "colab_type": "code",
        "colab": {}
      },
      "source": [
        "from datetime import datetime\n",
        "\n",
        "# Captura a hora corrente/local:\n",
        "Agora = datetime.now()"
      ],
      "execution_count": 0,
      "outputs": []
    },
    {
      "cell_type": "code",
      "metadata": {
        "id": "bFhWQ1yPmzty",
        "colab_type": "code",
        "colab": {}
      },
      "source": [
        "print(Agora)"
      ],
      "execution_count": 0,
      "outputs": []
    },
    {
      "cell_type": "code",
      "metadata": {
        "id": "3NsyGMeFm3zz",
        "colab_type": "code",
        "colab": {}
      },
      "source": [
        "type(Agora)"
      ],
      "execution_count": 0,
      "outputs": []
    },
    {
      "cell_type": "code",
      "metadata": {
        "id": "VRK-GF8-m6Is",
        "colab_type": "code",
        "colab": {}
      },
      "source": [
        "dir(Agora)"
      ],
      "execution_count": 0,
      "outputs": []
    },
    {
      "cell_type": "code",
      "metadata": {
        "id": "e2ZjhQDlm2tW",
        "colab_type": "code",
        "colab": {}
      },
      "source": [
        "Ano = Agora.strftime(\"%Y\")\n",
        "Mes = Agora.strftime(\"%m\")\n",
        "Dia = Agora.strftime(\"%d\")\n",
        "Hora = Agora.strftime(\"%H:%M:%S\")\n",
        "Data_Hora = Agora.strftime(\"%d/%m/%Y, %H:%M:%S\")"
      ],
      "execution_count": 0,
      "outputs": []
    },
    {
      "cell_type": "code",
      "metadata": {
        "id": "nfR3fPnHmb6F",
        "colab_type": "code",
        "colab": {}
      },
      "source": [
        "print(\"Ano........:\", Ano)\n",
        "print(\"Mes........:\", Mes)\n",
        "print(\"Dia........:\", Dia)\n",
        "print(\"Hora.......:\", Hora)\n",
        "print(\"Data e Hora:\", Data_Hora)\t"
      ],
      "execution_count": 0,
      "outputs": []
    },
    {
      "cell_type": "markdown",
      "metadata": {
        "id": "Ryl6BEtFkqPP",
        "colab_type": "text"
      },
      "source": [
        "## strptime() - string to datetime object\n",
        "* Método que cria datetime objetos a partir de uma string."
      ]
    },
    {
      "cell_type": "code",
      "metadata": {
        "id": "4Kukjyq_pK99",
        "colab_type": "code",
        "colab": {}
      },
      "source": [
        "from datetime import datetime\n",
        "\n",
        "# Considerando a hora no formato dd/mm/yyyy:\n",
        "dt_str = \"05/09/2019\"\n",
        "dt_obj_Hoje = datetime.strptime(dt_str, \"%d/%m/%Y\")\n",
        "print(dt_obj_Hoje)"
      ],
      "execution_count": 0,
      "outputs": []
    },
    {
      "cell_type": "markdown",
      "metadata": {
        "id": "vN5MLQV8qe_2",
        "colab_type": "text"
      },
      "source": [
        "# Calcular datas futuras\n",
        "* Para este propósito, utilize TimeDelta()"
      ]
    },
    {
      "cell_type": "markdown",
      "metadata": {
        "id": "eekTUWl9qvYs",
        "colab_type": "text"
      },
      "source": [
        "## Exemplo\n",
        "* Se hoje é dia 05/09/2019, se somarmos mais 35 dias...\n",
        "    * que dia da semana será (seg, ter, qua, ...)?\n",
        "    * qual será a data?"
      ]
    },
    {
      "cell_type": "code",
      "metadata": {
        "id": "wSR9hDfgrfaO",
        "colab_type": "code",
        "colab": {}
      },
      "source": [
        "import datetime\n",
        "import calendar\n",
        "\n",
        "# Considerando a hora no formato dd/mm/yyyy:\n",
        "dt_str = \"05/09/2019\"\n",
        "dt_obj_Hoje = datetime.datetime.strptime(dt_str, \"%d/%m/%Y\")\n",
        "print(dt_obj_Hoje)"
      ],
      "execution_count": 0,
      "outputs": []
    },
    {
      "cell_type": "markdown",
      "metadata": {
        "id": "mlGi50Bdt0lW",
        "colab_type": "text"
      },
      "source": [
        "Somando 35 dias..."
      ]
    },
    {
      "cell_type": "code",
      "metadata": {
        "id": "t2IPmwHkstyd",
        "colab_type": "code",
        "colab": {}
      },
      "source": [
        "dt_obj_Futuro= dt_obj_Hoje + datetime.timedelta(days= 35)\n",
        "print(dt_obj_Futuro)"
      ],
      "execution_count": 0,
      "outputs": []
    },
    {
      "cell_type": "markdown",
      "metadata": {
        "id": "4zH85M1At5a6",
        "colab_type": "text"
      },
      "source": [
        "Isso quer dizer que se somarmos 35 dias á data '05/09/2019' então será '10/10/2019'. Correto?\n",
        "\n",
        "* Que dia da semana (seg, ter, qua, ...) será?"
      ]
    },
    {
      "cell_type": "code",
      "metadata": {
        "id": "1VEXfBhtuWhx",
        "colab_type": "code",
        "colab": {}
      },
      "source": [
        "print('Dia da semana:', dt_obj_Futuro.weekday())"
      ],
      "execution_count": 0,
      "outputs": []
    },
    {
      "cell_type": "markdown",
      "metadata": {
        "id": "h0CzA2c6vtgl",
        "colab_type": "text"
      },
      "source": [
        "OU (Eu prefiro esta...)"
      ]
    },
    {
      "cell_type": "code",
      "metadata": {
        "id": "3DaEGoEevu33",
        "colab_type": "code",
        "colab": {}
      },
      "source": [
        "calendar.day_name[dt_obj_Futuro.weekday()]"
      ],
      "execution_count": 0,
      "outputs": []
    },
    {
      "cell_type": "markdown",
      "metadata": {
        "id": "iiUve5pcwetD",
        "colab_type": "text"
      },
      "source": [
        "# Funções interessantes"
      ]
    },
    {
      "cell_type": "markdown",
      "metadata": {
        "id": "eEdEFhGeye_4",
        "colab_type": "text"
      },
      "source": [
        "## iterweekdays() – Dias da Semana"
      ]
    },
    {
      "cell_type": "code",
      "metadata": {
        "id": "j467zOS-wglO",
        "colab_type": "code",
        "colab": {}
      },
      "source": [
        "import calendar"
      ],
      "execution_count": 0,
      "outputs": []
    },
    {
      "cell_type": "code",
      "metadata": {
        "id": "eD6ApqhUy_Og",
        "colab_type": "code",
        "colab": {}
      },
      "source": [
        "# Define 'Segunda' como o primeiro dia da semana'\n",
        "c= calendar.Calendar(firstweekday= 0)"
      ],
      "execution_count": 0,
      "outputs": []
    },
    {
      "cell_type": "code",
      "metadata": {
        "id": "YEJnQnCHyVxd",
        "colab_type": "code",
        "colab": {}
      },
      "source": [
        "for i in c.iterweekdays():\n",
        "    print(i)"
      ],
      "execution_count": 0,
      "outputs": []
    },
    {
      "cell_type": "markdown",
      "metadata": {
        "id": "6wORpvd_zWWh",
        "colab_type": "text"
      },
      "source": [
        "## itermonthdays3(Year, Month) – Ano, Mês e Dia do Mês.\n",
        "\n",
        "* Disponível somente a partir da versão 3.7."
      ]
    },
    {
      "cell_type": "code",
      "metadata": {
        "id": "5eyoNQjRzwuL",
        "colab_type": "code",
        "colab": {}
      },
      "source": [
        "for i in c.itermonthdays3(2019, 9):\n",
        "    print(i)"
      ],
      "execution_count": 0,
      "outputs": []
    },
    {
      "cell_type": "markdown",
      "metadata": {
        "id": "U64GEgnba0Fx",
        "colab_type": "text"
      },
      "source": [
        "# Exercícios"
      ]
    }
  ]
}