{
  "nbformat": 4,
  "nbformat_minor": 0,
  "metadata": {
    "kernelspec": {
      "display_name": "Python 3",
      "language": "python",
      "name": "python3"
    },
    "language_info": {
      "codemirror_mode": {
        "name": "ipython",
        "version": 3
      },
      "file_extension": ".py",
      "mimetype": "text/x-python",
      "name": "python",
      "nbconvert_exporter": "python",
      "pygments_lexer": "ipython3",
      "version": "3.6.4"
    },
    "colab": {
      "name": "16. Ensemble Methods.ipynb",
      "version": "0.3.2",
      "provenance": [],
      "include_colab_link": true
    }
  },
  "cells": [
    {
      "cell_type": "markdown",
      "metadata": {
        "id": "view-in-github",
        "colab_type": "text"
      },
      "source": [
        "<a href=\"https://colab.research.google.com/github/MathMachado/DSWP/blob/master/Notebooks/Ensemble%20Methods.ipynb\" target=\"_parent\"><img src=\"https://colab.research.google.com/assets/colab-badge.svg\" alt=\"Open In Colab\"/></a>"
      ]
    },
    {
      "cell_type": "markdown",
      "metadata": {
        "id": "c4b4NmK-jJcA",
        "colab_type": "text"
      },
      "source": [
        "# Ensemble Methods"
      ]
    },
    {
      "cell_type": "markdown",
      "metadata": {
        "id": "_GB6KxgIeBzu",
        "colab_type": "text"
      },
      "source": [
        "## Agenda\n",
        "\n",
        "<hr>\n",
        "\n",
        "1. Introduction to Ensemble Methods\n",
        "\n",
        "2. RandomForest\n",
        "\n",
        "3. AdaBoost\n",
        "\n",
        "4. GradientBoostingTree\n",
        "\n",
        "5. VotingClassifier\n",
        "\n",
        "<hr>"
      ]
    },
    {
      "cell_type": "markdown",
      "metadata": {
        "id": "_YyTXmS6jJcD",
        "colab_type": "text"
      },
      "source": [
        "# Introdução aos Ensemble Method\n",
        "* O objetivo é combinar as predições/estimativas com base em vários algoritmos ( Linear Regression, Decisison Tree, etc. ) para criar um efeito combinado.\n",
        "* Há dois tipos de Ensemble Methods\n",
        "  - Averaging Methods : Os estimadores são construídos independentemente e então se toma a média das estimativas.\n",
        "    * Exemplo: Random RandomForest etc.\n",
        "  - Boosting Methods: Estimadores são construídos sequencialmente usando a versão ponderada dos dados.\n",
        "    * Exemplo: AdaBoost.\n",
        "  \n",
        "<img src=\"https://cdn-images-1.medium.com/max/1000/1*PaXJ8HCYE9r2MgiZ32TQ2A.png\">"
      ]
    },
    {
      "cell_type": "markdown",
      "metadata": {
        "id": "Y9edHiB3xaHm",
        "colab_type": "text"
      },
      "source": [
        "![EnsembleMethods](https://raw.githubusercontent.com/MathMachado/Python_RFB/master/Material/Ensemble.png?token=AGDJQ62OR73I6ZLN2GNSHGK5QG7PC)"
      ]
    },
    {
      "cell_type": "markdown",
      "metadata": {
        "id": "5LFqVwLLjJcE",
        "colab_type": "text"
      },
      "source": [
        "# 2. RandomForest\n",
        "* Recap - As limitações do Decison Tree é overfitting e apresenta alta variância.\n",
        "* RandomForest é uma média dos Ensemble Methods cuja estimativa é função de k Decision's trees.\n",
        "\n",
        "<img src=\"https://www.researchgate.net/profile/Stavros_Dimitriadis/publication/324517994/figure/fig1/AS:615965951799303@1523869135381/Classification-process-based-on-the-Random-Forest-algorithm-2.png\">"
      ]
    },
    {
      "cell_type": "markdown",
      "metadata": {
        "id": "WwCiQaHojJcF",
        "colab_type": "text"
      },
      "source": [
        "### Algoritmo\n",
        "* Dados consistem de N linhas e M features.\n",
        "* Amostra aleatória do dataframe de treinameno é realizada;\n",
        "* Amostra aleatória das features é realizada;"
      ]
    },
    {
      "cell_type": "markdown",
      "metadata": {
        "id": "IKkwTVxFjJcG",
        "colab_type": "text"
      },
      "source": [
        "# Comparar Decision Tree & Random Forest\n",
        "* Dataframe: MINIST"
      ]
    },
    {
      "cell_type": "code",
      "metadata": {
        "id": "T-jL5sPhjJcG",
        "colab_type": "code",
        "colab": {}
      },
      "source": [
        "import pandas as pd\n",
        "import numpy as np\n",
        "%matplotlib inline"
      ],
      "execution_count": 0,
      "outputs": []
    },
    {
      "cell_type": "code",
      "metadata": {
        "id": "Y9IyLFUJjJcK",
        "colab_type": "code",
        "colab": {}
      },
      "source": [
        "from sklearn.datasets import load_digits\n",
        "Digits = load_digits()"
      ],
      "execution_count": 0,
      "outputs": []
    },
    {
      "cell_type": "code",
      "metadata": {
        "id": "T6sObe4xjJcO",
        "colab_type": "code",
        "colab": {}
      },
      "source": [
        "X = Digits.data\n",
        "y = Digits.target"
      ],
      "execution_count": 0,
      "outputs": []
    },
    {
      "cell_type": "code",
      "metadata": {
        "id": "OAq2Ldi3jJcR",
        "colab_type": "code",
        "colab": {}
      },
      "source": [
        "from sklearn.model_selection import train_test_split\n",
        "X_train, X_test, y_train, y_test = train_test_split(X,y)"
      ],
      "execution_count": 0,
      "outputs": []
    },
    {
      "cell_type": "code",
      "metadata": {
        "id": "7DSs-1vgjJcT",
        "colab_type": "code",
        "colab": {}
      },
      "source": [
        "from sklearn.tree import DecisionTreeClassifier\n",
        "dt = DecisionTreeClassifier()"
      ],
      "execution_count": 0,
      "outputs": []
    },
    {
      "cell_type": "code",
      "metadata": {
        "id": "eGlOeeORjJcW",
        "colab_type": "code",
        "outputId": "721c2407-5cf5-427c-a1c0-7b48d6f2d568",
        "colab": {
          "base_uri": "https://localhost:8080/",
          "height": 141
        }
      },
      "source": [
        "dt.fit(X_train,y_train)"
      ],
      "execution_count": 0,
      "outputs": [
        {
          "output_type": "execute_result",
          "data": {
            "text/plain": [
              "DecisionTreeClassifier(class_weight=None, criterion='gini', max_depth=None,\n",
              "                       max_features=None, max_leaf_nodes=None,\n",
              "                       min_impurity_decrease=0.0, min_impurity_split=None,\n",
              "                       min_samples_leaf=1, min_samples_split=2,\n",
              "                       min_weight_fraction_leaf=0.0, presort=False,\n",
              "                       random_state=None, splitter='best')"
            ]
          },
          "metadata": {
            "tags": []
          },
          "execution_count": 11
        }
      ]
    },
    {
      "cell_type": "code",
      "metadata": {
        "id": "UL9-5lrMjJcb",
        "colab_type": "code",
        "outputId": "d8354d02-3f05-4025-d0cc-cc01e8d62955",
        "colab": {
          "base_uri": "https://localhost:8080/",
          "height": 35
        }
      },
      "source": [
        "dt.score(X_test,y_test)"
      ],
      "execution_count": 0,
      "outputs": [
        {
          "output_type": "execute_result",
          "data": {
            "text/plain": [
              "0.8666666666666667"
            ]
          },
          "metadata": {
            "tags": []
          },
          "execution_count": 12
        }
      ]
    },
    {
      "cell_type": "code",
      "metadata": {
        "id": "wKQpotYDjJce",
        "colab_type": "code",
        "colab": {}
      },
      "source": [
        "from sklearn.ensemble import RandomForestClassifier\n",
        "rf = RandomForestClassifier()"
      ],
      "execution_count": 0,
      "outputs": []
    },
    {
      "cell_type": "code",
      "metadata": {
        "id": "dasfdQr1jJcg",
        "colab_type": "code",
        "outputId": "944478fb-6a3a-4fd7-e09e-01bc8bba3d68",
        "colab": {
          "base_uri": "https://localhost:8080/",
          "height": 193
        }
      },
      "source": [
        "rf.fit(X_train,y_train)"
      ],
      "execution_count": 0,
      "outputs": [
        {
          "output_type": "stream",
          "text": [
            "/usr/local/lib/python3.6/dist-packages/sklearn/ensemble/forest.py:245: FutureWarning: The default value of n_estimators will change from 10 in version 0.20 to 100 in 0.22.\n",
            "  \"10 in version 0.20 to 100 in 0.22.\", FutureWarning)\n"
          ],
          "name": "stderr"
        },
        {
          "output_type": "execute_result",
          "data": {
            "text/plain": [
              "RandomForestClassifier(bootstrap=True, class_weight=None, criterion='gini',\n",
              "                       max_depth=None, max_features='auto', max_leaf_nodes=None,\n",
              "                       min_impurity_decrease=0.0, min_impurity_split=None,\n",
              "                       min_samples_leaf=1, min_samples_split=2,\n",
              "                       min_weight_fraction_leaf=0.0, n_estimators=10,\n",
              "                       n_jobs=None, oob_score=False, random_state=None,\n",
              "                       verbose=0, warm_start=False)"
            ]
          },
          "metadata": {
            "tags": []
          },
          "execution_count": 14
        }
      ]
    },
    {
      "cell_type": "code",
      "metadata": {
        "id": "pXGA9gGNjJcj",
        "colab_type": "code",
        "outputId": "7e479081-7111-4894-d1b0-061a45f89f13",
        "colab": {
          "base_uri": "https://localhost:8080/",
          "height": 35
        }
      },
      "source": [
        "rf.score(X_test,y_test)"
      ],
      "execution_count": 0,
      "outputs": [
        {
          "output_type": "execute_result",
          "data": {
            "text/plain": [
              "0.9577777777777777"
            ]
          },
          "metadata": {
            "tags": []
          },
          "execution_count": 15
        }
      ]
    },
    {
      "cell_type": "markdown",
      "metadata": {
        "id": "lq10H11yjJcm",
        "colab_type": "text"
      },
      "source": [
        "##### Parâmetros Importantes:\n",
        "* n_estimators: número de árvores. Quanto maior --> Melhor, mas há o custo computacional.\n",
        "* max_features: Número máximo de features a serem consideradas para divisão do nó. \n",
        "    * classificação: max_features= sqrt(n_features).\n",
        "    * regressão: max_features= n_features.\n",
        "    * n_jobs: Defina n_jobs= -1 para fazer uso de todos os cores."
      ]
    },
    {
      "cell_type": "markdown",
      "metadata": {
        "id": "qPtCwhYvjJcr",
        "colab_type": "text"
      },
      "source": [
        "### AdaBoost"
      ]
    },
    {
      "cell_type": "code",
      "metadata": {
        "id": "eRukUWqNjJcs",
        "colab_type": "code",
        "outputId": "6cce21a0-0b92-49c8-a0d0-1345306cabba",
        "colab": {
          "base_uri": "https://localhost:8080/",
          "height": 297
        }
      },
      "source": [
        "from sklearn.ensemble import AdaBoostClassifier\n",
        "\n",
        "# AdaBoostClassifier com max_depth= 8\n",
        "ab = AdaBoostClassifier(base_estimator=DecisionTreeClassifier(max_depth=8),n_estimators=600)\n",
        "ab.fit(X_train,y_train)"
      ],
      "execution_count": 0,
      "outputs": [
        {
          "output_type": "execute_result",
          "data": {
            "text/plain": [
              "AdaBoostClassifier(algorithm='SAMME.R',\n",
              "                   base_estimator=DecisionTreeClassifier(class_weight=None,\n",
              "                                                         criterion='gini',\n",
              "                                                         max_depth=8,\n",
              "                                                         max_features=None,\n",
              "                                                         max_leaf_nodes=None,\n",
              "                                                         min_impurity_decrease=0.0,\n",
              "                                                         min_impurity_split=None,\n",
              "                                                         min_samples_leaf=1,\n",
              "                                                         min_samples_split=2,\n",
              "                                                         min_weight_fraction_leaf=0.0,\n",
              "                                                         presort=False,\n",
              "                                                         random_state=None,\n",
              "                                                         splitter='best'),\n",
              "                   learning_rate=1.0, n_estimators=600, random_state=None)"
            ]
          },
          "metadata": {
            "tags": []
          },
          "execution_count": 17
        }
      ]
    },
    {
      "cell_type": "code",
      "metadata": {
        "id": "pO5nu8i3jJc1",
        "colab_type": "code",
        "outputId": "686d4aa8-aebe-4d07-e47d-48a68bc88461",
        "colab": {
          "base_uri": "https://localhost:8080/",
          "height": 35
        }
      },
      "source": [
        "ab.score(X_test,y_test)"
      ],
      "execution_count": 0,
      "outputs": [
        {
          "output_type": "execute_result",
          "data": {
            "text/plain": [
              "0.9888888888888889"
            ]
          },
          "metadata": {
            "tags": []
          },
          "execution_count": 18
        }
      ]
    },
    {
      "cell_type": "code",
      "metadata": {
        "id": "xLTHtmYmjJc4",
        "colab_type": "code",
        "outputId": "cf0de92a-5b03-4875-816d-cc4f188ba16c",
        "colab": {
          "base_uri": "https://localhost:8080/",
          "height": 367
        }
      },
      "source": [
        "# AdaBoostClassifier com n_estimator= 20\n",
        "ab = AdaBoostClassifier(base_estimator=RandomForestClassifier(n_estimators=20),n_estimators=600)\n",
        "ab.fit(X_train,y_train)"
      ],
      "execution_count": 0,
      "outputs": [
        {
          "output_type": "execute_result",
          "data": {
            "text/plain": [
              "AdaBoostClassifier(algorithm='SAMME.R',\n",
              "                   base_estimator=RandomForestClassifier(bootstrap=True,\n",
              "                                                         class_weight=None,\n",
              "                                                         criterion='gini',\n",
              "                                                         max_depth=None,\n",
              "                                                         max_features='auto',\n",
              "                                                         max_leaf_nodes=None,\n",
              "                                                         min_impurity_decrease=0.0,\n",
              "                                                         min_impurity_split=None,\n",
              "                                                         min_samples_leaf=1,\n",
              "                                                         min_samples_split=2,\n",
              "                                                         min_weight_fraction_leaf=0.0,\n",
              "                                                         n_estimators=20,\n",
              "                                                         n_jobs=None,\n",
              "                                                         oob_score=False,\n",
              "                                                         random_state=None,\n",
              "                                                         verbose=0,\n",
              "                                                         warm_start=False),\n",
              "                   learning_rate=1.0, n_estimators=600, random_state=None)"
            ]
          },
          "metadata": {
            "tags": []
          },
          "execution_count": 19
        }
      ]
    },
    {
      "cell_type": "code",
      "metadata": {
        "id": "EEeCDgINjJc9",
        "colab_type": "code",
        "outputId": "071e3c5a-bd90-483c-959b-3cbe14d28369",
        "colab": {
          "base_uri": "https://localhost:8080/",
          "height": 35
        }
      },
      "source": [
        "ab.score(X_test,y_test)"
      ],
      "execution_count": 0,
      "outputs": [
        {
          "output_type": "execute_result",
          "data": {
            "text/plain": [
              "0.9711111111111111"
            ]
          },
          "metadata": {
            "tags": []
          },
          "execution_count": 20
        }
      ]
    },
    {
      "cell_type": "markdown",
      "metadata": {
        "id": "eTVubnQjjJdF",
        "colab_type": "text"
      },
      "source": [
        "### GradientBoostingTree\n"
      ]
    },
    {
      "cell_type": "code",
      "metadata": {
        "id": "_QsMWR_UjJdJ",
        "colab_type": "code",
        "colab": {}
      },
      "source": [
        "from sklearn.datasets import load_boston # Problema de Regressão\n",
        "house_data = load_boston()\n",
        "X = house_data.data\n",
        "y = house_data.target"
      ],
      "execution_count": 0,
      "outputs": []
    },
    {
      "cell_type": "code",
      "metadata": {
        "id": "DPjFF9W6jJdV",
        "colab_type": "code",
        "colab": {}
      },
      "source": [
        "from sklearn.ensemble import GradientBoostingRegressor"
      ],
      "execution_count": 0,
      "outputs": []
    },
    {
      "cell_type": "code",
      "metadata": {
        "id": "8PbUmIdKjJdY",
        "colab_type": "code",
        "colab": {}
      },
      "source": [
        "gbt = GradientBoostingRegressor()\n",
        "gbt"
      ],
      "execution_count": 0,
      "outputs": []
    },
    {
      "cell_type": "code",
      "metadata": {
        "id": "dAlgq7wejJdc",
        "colab_type": "code",
        "colab": {}
      },
      "source": [
        "from sklearn.model_selection import train_test_split"
      ],
      "execution_count": 0,
      "outputs": []
    },
    {
      "cell_type": "code",
      "metadata": {
        "id": "4UZqZN29jJde",
        "colab_type": "code",
        "colab": {}
      },
      "source": [
        "X_train, X_test, y_train, y_test = train_test_split(X,y)"
      ],
      "execution_count": 0,
      "outputs": []
    },
    {
      "cell_type": "code",
      "metadata": {
        "id": "5QPSvgbjjJdg",
        "colab_type": "code",
        "outputId": "ead622b5-71d8-4537-8af3-96955af6af2e",
        "colab": {}
      },
      "source": [
        "gbt.fit(X_train,y_train)"
      ],
      "execution_count": 0,
      "outputs": [
        {
          "output_type": "execute_result",
          "data": {
            "text/plain": [
              "GradientBoostingRegressor(alpha=0.9, criterion='friedman_mse', init=None,\n",
              "             learning_rate=0.1, loss='ls', max_depth=3, max_features=None,\n",
              "             max_leaf_nodes=None, min_impurity_decrease=0.0,\n",
              "             min_impurity_split=None, min_samples_leaf=1,\n",
              "             min_samples_split=2, min_weight_fraction_leaf=0.0,\n",
              "             n_estimators=100, n_iter_no_change=None, presort='auto',\n",
              "             random_state=None, subsample=1.0, tol=0.0001,\n",
              "             validation_fraction=0.1, verbose=0, warm_start=False)"
            ]
          },
          "metadata": {
            "tags": []
          },
          "execution_count": 59
        }
      ]
    },
    {
      "cell_type": "code",
      "metadata": {
        "id": "DRSQyu9UjJdk",
        "colab_type": "code",
        "colab": {}
      },
      "source": [
        "test_score = np.zeros(100, dtype=np.float64)\n",
        "for i, y_pred in enumerate(gbt.staged_predict(X_test)):\n",
        "    test_score[i] = gbt.loss_(y_test, y_pred)"
      ],
      "execution_count": 0,
      "outputs": []
    },
    {
      "cell_type": "code",
      "metadata": {
        "id": "Jiu_Y7FLjJdp",
        "colab_type": "code",
        "outputId": "28531245-a439-4e85-8071-212a58d2b746",
        "colab": {}
      },
      "source": [
        "plt.plot(test_score)\n",
        "plt.xlabel('Interações')\n",
        "plt.ylabel('Least Squares Loss')"
      ],
      "execution_count": 0,
      "outputs": [
        {
          "output_type": "execute_result",
          "data": {
            "text/plain": [
              "Text(0,0.5,'Least squares Loss')"
            ]
          },
          "metadata": {
            "tags": []
          },
          "execution_count": 72
        },
        {
          "output_type": "display_data",
          "data": {
            "image/png": "[encoded data removed]",
            "text/plain": [
              "<matplotlib.figure.Figure at 0x21a4eeaf390>"
            ]
          },
          "metadata": {
            "tags": []
          }
        }
      ]
    },
    {
      "cell_type": "markdown",
      "metadata": {
        "id": "5F9vtUEXjJdv",
        "colab_type": "text"
      },
      "source": [
        "### VotingClassifier\n",
        "* Objetivo: Combinar classificadores de aprendizado de máquina conceitualmente diferentes e usar um voto majoritário ou ponderado para prever os rótulos das classes.\n",
        "* **Tipos de VotingClassifier**:\n",
        "  - Soft Voting Classifier - pesos diferentes para estimadores diferentes;\n",
        "  - Hard Voting Classifier - todos os estimadores tem mesmo peso."
      ]
    },
    {
      "cell_type": "markdown",
      "metadata": {
        "id": "0isTHvEQjJdw",
        "colab_type": "text"
      },
      "source": [
        "##### Exemplo: Predizer dígitos usando VotingClassifier"
      ]
    },
    {
      "cell_type": "code",
      "metadata": {
        "id": "QB0uuiOQjJdx",
        "colab_type": "code",
        "colab": {}
      },
      "source": [
        "import pandas as pd\n",
        "import numpy as np\n",
        "\n",
        "from sklearn.ensemble import VotingClassifier, RandomForestClassifier,AdaBoostClassifier\n",
        "from sklearn.metrics import accuracy_score, log_loss\n",
        "from sklearn.neighbors import KNeighborsClassifier, NearestCentroid\n",
        "from sklearn.svm import SVC, LinearSVC, NuSVC\n",
        "from sklearn.tree import DecisionTreeClassifier\n",
        "from sklearn.ensemble import ExtraTreesClassifier\n",
        "from sklearn.discriminant_analysis import LinearDiscriminantAnalysis\n",
        "from sklearn.discriminant_analysis import QuadraticDiscriminantAnalysis\n",
        "from sklearn.linear_model import RidgeClassifier, PassiveAggressiveClassifier, SGDClassifier, LogisticRegressionCV, LogisticRegression\n",
        "from sklearn.naive_bayes import BernoulliNB, MultinomialNB, GaussianNB\n",
        "from sklearn.neural_network import MLPClassifier # Multi-Layer Perceptron Classifier\n",
        "from sklearn.ensemble import AdaBoostClassifier, BaggingClassifier, RandomForestClassifier, VotingClassifier, RandomForestClassifier, GradientBoostingClassifier\n",
        "from sklearn.gaussian_process import GaussianProcessClassifier\n",
        "from sklearn.svm import SVC, LinearSVC\n",
        "from sklearn.feature_selection import SelectKBest, chi2\n",
        "from lightgbm import LGBMClassifier\n",
        "from xgboost import XGBClassifier\n",
        "from sklearn.linear_model import Perceptron\n",
        "from sklearn.datasets import load_digits\n",
        "from sklearn.model_selection import train_test_split"
      ],
      "execution_count": 0,
      "outputs": []
    },
    {
      "cell_type": "code",
      "metadata": {
        "id": "_7hrn0QqjJdz",
        "colab_type": "code",
        "colab": {}
      },
      "source": [
        "estimators = [('KNeighborsClassifier', KNeighborsClassifier(3)),\n",
        "               ('SVC', SVC(kernel=\"rbf\", C= 10, probability=True)),\n",
        "               ('NuSVC', NuSVC(probability=True)),\n",
        "               ('DecisionTreeClassifier', DecisionTreeClassifier()),\n",
        "               ('RandomForestClassifier', RandomForestClassifier()),\n",
        "               ('GradientBoostingClassifier', GradientBoostingClassifier()),\n",
        "               ('RidgeClassifier', RidgeClassifier()),\n",
        "               ('AdaBoostClassifier', AdaBoostClassifier()),\n",
        "               ('GaussianNB', GaussianNB()),\n",
        "               ('BernoulliNB', BernoulliNB()),\n",
        "               ('PassiveAggressiveClassifier', PassiveAggressiveClassifier()),\n",
        "               ('LinearSVC', LinearSVC()),\n",
        "               ('SGDClassifier', SGDClassifier(loss='log', penalty='elasticnet')),\n",
        "               ('LogisticRegression', LogisticRegression()),\n",
        "               ('NearestCentroid', NearestCentroid()),\n",
        "               ('Perceptron', Perceptron()),\n",
        "               ('MLPClassifier', MLPClassifier(hidden_layer_sizes=(10, 10, 10), max_iter=1000)),\n",
        "               ('LGBMClassifier', LGBMClassifier()),\n",
        "               ('BaggingClassifier', BaggingClassifier(KNeighborsClassifier(), max_samples=0.5, max_features=0.5)),\n",
        "               ('GaussianProcessClassifier', GaussianProcessClassifier()),\n",
        "               ('XGBClassifier', XGBClassifier(n_estimators= 2000,max_depth= 4,min_child_weight= 2,gamma=0.9,subsample=0.8,colsample_bytree=0.8,objective='reg:logistic',scale_pos_weight=1)),\n",
        "               ('ExtraTreesClassifier', ExtraTreesClassifier(n_estimators = 750, max_features = 'sqrt', max_depth = 35,  criterion = 'entropy', random_state = 20111974))]"
      ],
      "execution_count": 0,
      "outputs": []
    },
    {
      "cell_type": "code",
      "metadata": {
        "id": "jtZxpNJyjJd1",
        "colab_type": "code",
        "colab": {}
      },
      "source": [
        "vc = VotingClassifier(estimators=estimators, voting='hard')"
      ],
      "execution_count": 0,
      "outputs": []
    },
    {
      "cell_type": "code",
      "metadata": {
        "id": "mXuCrU1UjJd3",
        "colab_type": "code",
        "outputId": "52fd2224-edfe-44a1-9dc8-743832aa1a1d",
        "colab": {
          "base_uri": "https://localhost:8080/",
          "height": 731
        }
      },
      "source": [
        "from sklearn import model_selection\n",
        "\n",
        "Digits = load_digits()\n",
        "X, y = Digits.data, Digits.target\n",
        "kfold = model_selection.KFold(n_splits= 10, random_state= 20111974)\n",
        "X_train, X_test, y_train, y_test = train_test_split(X, y)\n",
        "vc.fit(X_train, y_train)"
      ],
      "execution_count": 0,
      "outputs": [
        {
          "output_type": "stream",
          "text": [
            "/usr/local/lib/python3.6/dist-packages/sklearn/svm/base.py:193: FutureWarning: The default value of gamma will change from 'auto' to 'scale' in version 0.22 to account better for unscaled features. Set gamma explicitly to 'auto' or 'scale' to avoid this warning.\n",
            "  \"avoid this warning.\", FutureWarning)\n",
            "/usr/local/lib/python3.6/dist-packages/sklearn/svm/base.py:193: FutureWarning: The default value of gamma will change from 'auto' to 'scale' in version 0.22 to account better for unscaled features. Set gamma explicitly to 'auto' or 'scale' to avoid this warning.\n",
            "  \"avoid this warning.\", FutureWarning)\n",
            "/usr/local/lib/python3.6/dist-packages/sklearn/ensemble/forest.py:245: FutureWarning: The default value of n_estimators will change from 10 in version 0.20 to 100 in 0.22.\n",
            "  \"10 in version 0.20 to 100 in 0.22.\", FutureWarning)\n",
            "/usr/local/lib/python3.6/dist-packages/sklearn/svm/base.py:929: ConvergenceWarning: Liblinear failed to converge, increase the number of iterations.\n",
            "  \"the number of iterations.\", ConvergenceWarning)\n",
            "/usr/local/lib/python3.6/dist-packages/sklearn/linear_model/logistic.py:432: FutureWarning: Default solver will be changed to 'lbfgs' in 0.22. Specify a solver to silence this warning.\n",
            "  FutureWarning)\n",
            "/usr/local/lib/python3.6/dist-packages/sklearn/linear_model/logistic.py:469: FutureWarning: Default multi_class will be changed to 'auto' in 0.22. Specify the multi_class option to silence this warning.\n",
            "  \"this warning.\", FutureWarning)\n"
          ],
          "name": "stderr"
        },
        {
          "output_type": "execute_result",
          "data": {
            "text/plain": [
              "VotingClassifier(estimators=[('KNeighborsClassifier',\n",
              "                              KNeighborsClassifier(algorithm='auto',\n",
              "                                                   leaf_size=30,\n",
              "                                                   metric='minkowski',\n",
              "                                                   metric_params=None,\n",
              "                                                   n_jobs=None, n_neighbors=3,\n",
              "                                                   p=2, weights='uniform')),\n",
              "                             ('SVC',\n",
              "                              SVC(C=10, cache_size=200, class_weight=None,\n",
              "                                  coef0=0.0, decision_function_shape='ovr',\n",
              "                                  degree=3, gamma='auto_deprecated',\n",
              "                                  kernel='rbf', max_iter=-1, probability...\n",
              "                                                   criterion='entropy',\n",
              "                                                   max_depth=35,\n",
              "                                                   max_features='sqrt',\n",
              "                                                   max_leaf_nodes=None,\n",
              "                                                   min_impurity_decrease=0.0,\n",
              "                                                   min_impurity_split=None,\n",
              "                                                   min_samples_leaf=1,\n",
              "                                                   min_samples_split=2,\n",
              "                                                   min_weight_fraction_leaf=0.0,\n",
              "                                                   n_estimators=750,\n",
              "                                                   n_jobs=None, oob_score=False,\n",
              "                                                   random_state=20111974,\n",
              "                                                   verbose=0,\n",
              "                                                   warm_start=False))],\n",
              "                 flatten_transform=True, n_jobs=None, voting='hard',\n",
              "                 weights=None)"
            ]
          },
          "metadata": {
            "tags": []
          },
          "execution_count": 68
        }
      ]
    },
    {
      "cell_type": "code",
      "metadata": {
        "id": "vUxxOHlo1YI3",
        "colab_type": "code",
        "colab": {}
      },
      "source": [
        "# Cria um ensemble model - Votting\n",
        "#ensemble = VotingClassifier(estimators)\n",
        "#results = model_selection.cross_val_score(ensemble, X, y, cv= kfold)\n",
        "#print(results.mean())"
      ],
      "execution_count": 0,
      "outputs": []
    },
    {
      "cell_type": "code",
      "metadata": {
        "id": "YyfL5IIhjJeI",
        "colab_type": "code",
        "outputId": "0a77a72d-6040-43ea-f0b1-905ac4aa82fb",
        "colab": {
          "base_uri": "https://localhost:8080/",
          "height": 35
        }
      },
      "source": [
        "vc.score(X_test, y_test)"
      ],
      "execution_count": 0,
      "outputs": [
        {
          "output_type": "execute_result",
          "data": {
            "text/plain": [
              "0.9822222222222222"
            ]
          },
          "metadata": {
            "tags": []
          },
          "execution_count": 70
        }
      ]
    },
    {
      "cell_type": "code",
      "metadata": {
        "id": "80mVLIhtjJeL",
        "colab_type": "code",
        "outputId": "dfc45332-874b-4548-896f-70fc6c4161eb",
        "colab": {
          "base_uri": "https://localhost:8080/",
          "height": 399
        }
      },
      "source": [
        "# Acurácia individual de cada estimador\n",
        "for est, name in zip(vc.estimators_,vc.estimators):\n",
        "    print (name[0], est.score(X_test,y_test))  "
      ],
      "execution_count": 0,
      "outputs": [
        {
          "output_type": "stream",
          "text": [
            "KNeighborsClassifier 0.9888888888888889\n",
            "SVC 0.46444444444444444\n",
            "NuSVC 0.46444444444444444\n",
            "DecisionTreeClassifier 0.8511111111111112\n",
            "RandomForestClassifier 0.9511111111111111\n",
            "GradientBoostingClassifier 0.9688888888888889\n",
            "RidgeClassifier 0.94\n",
            "AdaBoostClassifier 0.21333333333333335\n",
            "GaussianNB 0.8711111111111111\n",
            "BernoulliNB 0.8555555555555555\n",
            "PassiveAggressiveClassifier 0.9577777777777777\n",
            "LinearSVC 0.9577777777777777\n",
            "SGDClassifier 0.9533333333333334\n",
            "LogisticRegression 0.9644444444444444\n",
            "NearestCentroid 0.92\n",
            "Perceptron 0.9577777777777777\n",
            "MLPClassifier 0.9577777777777777\n",
            "LGBMClassifier 0.9822222222222222\n",
            "BaggingClassifier 0.9755555555555555\n",
            "GaussianProcessClassifier 0.08888888888888889\n",
            "XGBClassifier 0.9711111111111111\n",
            "ExtraTreesClassifier 0.9844444444444445\n"
          ],
          "name": "stdout"
        }
      ]
    },
    {
      "cell_type": "code",
      "metadata": {
        "id": "xF66_9FzjJeN",
        "colab_type": "code",
        "colab": {}
      },
      "source": [
        "#vc = VotingClassifier(estimators=estimators, voting='soft', weights=[2,.1,3,2,2])"
      ],
      "execution_count": 0,
      "outputs": []
    },
    {
      "cell_type": "code",
      "metadata": {
        "id": "IQtLSzR0jJeP",
        "colab_type": "code",
        "outputId": "316caab0-8bc5-4218-a196-0ed4f8397b1e",
        "colab": {}
      },
      "source": [
        "#vc.fit(X_train,y_train)"
      ],
      "execution_count": 0,
      "outputs": [
        {
          "output_type": "stream",
          "text": [
            "C:\\Users\\awant\\Anaconda3\\lib\\site-packages\\sklearn\\svm\\base.py:196: FutureWarning: The default value of gamma will change from 'auto' to 'scale' in version 0.22 to account better for unscaled features. Set gamma explicitly to 'auto' or 'scale' to avoid this warning.\n",
            "  \"avoid this warning.\", FutureWarning)\n",
            "C:\\Users\\awant\\Anaconda3\\lib\\site-packages\\sklearn\\linear_model\\logistic.py:432: FutureWarning: Default solver will be changed to 'lbfgs' in 0.22. Specify a solver to silence this warning.\n",
            "  FutureWarning)\n",
            "C:\\Users\\awant\\Anaconda3\\lib\\site-packages\\sklearn\\linear_model\\logistic.py:459: FutureWarning: Default multi_class will be changed to 'auto' in 0.22. Specify the multi_class option to silence this warning.\n",
            "  \"this warning.\", FutureWarning)\n"
          ],
          "name": "stderr"
        },
        {
          "output_type": "execute_result",
          "data": {
            "text/plain": [
              "VotingClassifier(estimators=[('rf', RandomForestClassifier(bootstrap=True, class_weight=None, criterion='gini',\n",
              "            max_depth=None, max_features='auto', max_leaf_nodes=None,\n",
              "            min_impurity_decrease=0.0, min_impurity_split=None,\n",
              "            min_samples_leaf=1, min_samples_split=2,\n",
              "            min_we...penalty='l2', random_state=None, solver='warn',\n",
              "          tol=0.0001, verbose=0, warm_start=False))],\n",
              "         flatten_transform=None, n_jobs=None, voting='soft',\n",
              "         weights=[2, 0.1, 3, 2, 2])"
            ]
          },
          "metadata": {
            "tags": []
          },
          "execution_count": 119
        }
      ]
    },
    {
      "cell_type": "code",
      "metadata": {
        "id": "50_buJrvjJeS",
        "colab_type": "code",
        "outputId": "e54e1199-230e-4db6-e5c8-107c7e4ef9eb",
        "colab": {
          "base_uri": "https://localhost:8080/",
          "height": 35
        }
      },
      "source": [
        "vc.score(X_test,y_test)"
      ],
      "execution_count": 0,
      "outputs": [
        {
          "output_type": "execute_result",
          "data": {
            "text/plain": [
              "0.9822222222222222"
            ]
          },
          "metadata": {
            "tags": []
          },
          "execution_count": 72
        }
      ]
    },
    {
      "cell_type": "markdown",
      "metadata": {
        "id": "WorpzA7b34Z6",
        "colab_type": "text"
      },
      "source": [
        "## Bagging\n",
        "* Adequado para algoritmos como árvore de decisão, geralmente construídas sem poda."
      ]
    },
    {
      "cell_type": "code",
      "metadata": {
        "id": "QNtFtyen344p",
        "colab_type": "code",
        "outputId": "46d1c3ef-e2c5-4eea-d94c-37b056781aa8",
        "colab": {
          "base_uri": "https://localhost:8080/",
          "height": 35
        }
      },
      "source": [
        "cart = DecisionTreeClassifier()\n",
        "num_trees = 100\n",
        "model = BaggingClassifier(base_estimator=cart, n_estimators=num_trees, random_state=20111974)\n",
        "results = model_selection.cross_val_score(model, X, y, cv=kfold)\n",
        "print(results.mean())"
      ],
      "execution_count": 0,
      "outputs": [
        {
          "output_type": "stream",
          "text": [
            "0.9287306021104904\n"
          ],
          "name": "stdout"
        }
      ]
    },
    {
      "cell_type": "markdown",
      "metadata": {
        "id": "R50WU933p4VY",
        "colab_type": "text"
      },
      "source": [
        "# Exercícios\n",
        "* Formem grupos de até 4 alunos e desenvolva um ensemble methods para os dataframes a seguir:"
      ]
    },
    {
      "cell_type": "markdown",
      "metadata": {
        "id": "z-zSfBJ3qXwr",
        "colab_type": "text"
      },
      "source": [
        "## Exercício 1 - Predict handwritten numbers\n",
        "* MINIST"
      ]
    },
    {
      "cell_type": "code",
      "metadata": {
        "id": "35_SC0lkqX-E",
        "colab_type": "code",
        "colab": {}
      },
      "source": [
        "from sklearn.datasets import load_digits"
      ],
      "execution_count": 0,
      "outputs": []
    },
    {
      "cell_type": "markdown",
      "metadata": {
        "id": "ioyDqnPC5CpV",
        "colab_type": "text"
      },
      "source": [
        "## Exercício 2 - Iris"
      ]
    },
    {
      "cell_type": "code",
      "metadata": {
        "id": "NmH08u0j5q9e",
        "colab_type": "code",
        "colab": {}
      },
      "source": [
        "from sklearn import datasets\n",
        "\n",
        "iris = datasets.load_iris()\n",
        "X, y = iris.data[:, 1:3], iris.target"
      ],
      "execution_count": 0,
      "outputs": []
    },
    {
      "cell_type": "markdown",
      "metadata": {
        "id": "GSpo81QB91PQ",
        "colab_type": "text"
      },
      "source": [
        "## Exercício 3 - Titanic\n",
        "* Titanic_With_MV.csv\n",
        "* Titanic_test.csv"
      ]
    },
    {
      "cell_type": "markdown",
      "metadata": {
        "id": "IZwlIeBU-Pyy",
        "colab_type": "text"
      },
      "source": [
        "## Exercício 4 - Banking_AWS\n",
        "* banking_AWS.csv"
      ]
    },
    {
      "cell_type": "markdown",
      "metadata": {
        "id": "0hniwT_M-_3q",
        "colab_type": "text"
      },
      "source": [
        "## Exercício 5\n",
        "* dataset_31_credit-g.csv"
      ]
    }
  ]
}