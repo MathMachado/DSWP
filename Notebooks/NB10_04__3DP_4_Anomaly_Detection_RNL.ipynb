{
  "nbformat": 4,
  "nbformat_minor": 0,
  "metadata": {
    "colab": {
      "name": "NB10_04__3DP_4_Anomaly_Detection.ipynb",
      "provenance": [],
      "collapsed_sections": [],
      "include_colab_link": true
    },
    "kernelspec": {
      "name": "python3",
      "display_name": "Python 3"
    }
  },
  "cells": [
    {
      "cell_type": "markdown",
      "metadata": {
        "id": "view-in-github",
        "colab_type": "text"
      },
      "source": [
        "<a href=\"https://colab.research.google.com/github/rnlima8/DSWP/blob/master/Notebooks/NB10_04__3DP_4_Anomaly_Detection_RNL.ipynb\" target=\"_parent\"><img src=\"https://colab.research.google.com/assets/colab-badge.svg\" alt=\"Open In Colab\"/></a>"
      ]
    },
    {
      "cell_type": "markdown",
      "metadata": {
        "id": "EAqSDJGzyYrx"
      },
      "source": [
        "<center><h1><b><i>3DP_4 - ANOMALY/OUTLIER DETECTION</i></b></h1></center>\n",
        "\n"
      ]
    },
    {
      "cell_type": "markdown",
      "metadata": {
        "id": "H-VrOjTTymSK"
      },
      "source": [
        "# **AGENDA**:\n",
        "\n",
        "> Consulte a **Table of contents**."
      ]
    },
    {
      "cell_type": "markdown",
      "metadata": {
        "id": "wSAsbafemNax"
      },
      "source": [
        "# **Melhorias da sessão**\n",
        "* Mostrar junto os gráficos com a região de Anomaly Score junto com a distribuição de probabilidade das variáveis envolvidas.\n",
        "* Mensagens de deprecating --> Analisar e substituir os métodos, funções deprecated;\n"
      ]
    },
    {
      "cell_type": "markdown",
      "metadata": {
        "id": "7qK6Yx0tBqUz"
      },
      "source": [
        "___\n",
        "# **Referências**\n",
        "* [Comparing anomaly detection algorithms for outlier detection on toy datasets](https://scikit-learn.org/stable/auto_examples/plot_anomaly_comparison.html#sphx-glr-auto-examples-plot-anomaly-comparison-py)\n",
        "* [Outlier detection with several methods](https://scikit-learn.org/0.18/auto_examples/covariance/plot_outlier_detection.html)\n",
        "* [anomaly-detection-resources](https://github.com/MathMachado/anomaly-detection-resources)\n",
        "* [Outlier Detection with Extended Isolation Forest](https://towardsdatascience.com/outlier-detection-with-extended-isolation-forest-1e248a3fe97b)\n",
        "* [Outlier Detection with Isolation Forest](https://towardsdatascience.com/outlier-detection-with-isolation-forest-3d190448d45e)."
      ]
    },
    {
      "cell_type": "markdown",
      "metadata": {
        "id": "f7tTnUJ6B2UG"
      },
      "source": [
        "___\n",
        "## O que é Anomaly Detection?\n",
        "> Qualquer ponto/observação que é incomum quando comparado com todos os outros pontos/observações."
      ]
    },
    {
      "cell_type": "markdown",
      "metadata": {
        "id": "7VJZf1U5Ds_w"
      },
      "source": [
        "___\n",
        "# **Machine Learning com Python (Scikit-Learn)**\n",
        "\n",
        "![Scikit-Learn](https://github.com/MathMachado/Materials/blob/master/scikit-learn-1.png?raw=true)"
      ]
    },
    {
      "cell_type": "markdown",
      "metadata": {
        "id": "rpHJ1qVUEwOn"
      },
      "source": [
        "___\n",
        "# **Técnicas tradicionais para detecção de outliers**"
      ]
    },
    {
      "cell_type": "markdown",
      "metadata": {
        "id": "OOI_VTo3E3sv"
      },
      "source": [
        "## Boxplot\n",
        "\n",
        "![BoxPlot](https://github.com/MathMachado/Materials/blob/master/boxplot.png?raw=true)"
      ]
    },
    {
      "cell_type": "markdown",
      "metadata": {
        "id": "vivFsmJGFVC0"
      },
      "source": [
        "## Z-Score\n",
        "* Z-Score pode ser utilizado para detectar Outliers.\n",
        "* É a diferença entre o valor e a média da amostra expressa como o número de desvios-padrão. \n",
        "* Se o escore z for menor que 2,5 ou maior que 2,5, o valor estará nos 5% do menor ou maior valor (2,5% dos valores em ambas as extremidades da distribuição). No entanto, é pratica comum utilizarmos 3 ao invés dos 2,5.\n",
        "\n",
        "![Z_Score](https://github.com/MathMachado/Materials/blob/master/Z_Score.png?raw=true)"
      ]
    },
    {
      "cell_type": "markdown",
      "metadata": {
        "id": "hUw6W3SSFiwj"
      },
      "source": [
        "## IQR Score\n",
        "\n",
        "* O Intervalo interquartil (IQR) é uma medida de dispersão estatística, sendo igual à diferença entre os percentis 75 e 25, ou entre quartis superiores e inferiores, IQR = Q3 - Q1.\n",
        "\n",
        "![BoxPlot](https://github.com/MathMachado/Materials/blob/master/boxplot.png?raw=true)"
      ]
    },
    {
      "cell_type": "markdown",
      "metadata": {
        "id": "7_YohlTIF8zi"
      },
      "source": [
        "___\n",
        "# **Hands-On**"
      ]
    },
    {
      "cell_type": "markdown",
      "metadata": {
        "id": "OrXdGg8t0V_D"
      },
      "source": [
        "## Carrega as Bibliotecas necessárias"
      ]
    },
    {
      "cell_type": "code",
      "metadata": {
        "id": "7pYqwxIe1Hcq",
        "colab": {
          "base_uri": "https://localhost:8080/"
        },
        "outputId": "95519295-421e-4f52-91fc-351effecb48b"
      },
      "source": [
        "!pip install pyod"
      ],
      "execution_count": 22,
      "outputs": [
        {
          "output_type": "stream",
          "text": [
            "Requirement already satisfied: pyod in /usr/local/lib/python3.6/dist-packages (0.8.4)\n",
            "Requirement already satisfied: combo in /usr/local/lib/python3.6/dist-packages (from pyod) (0.1.1)\n",
            "Requirement already satisfied: six in /usr/local/lib/python3.6/dist-packages (from pyod) (1.15.0)\n",
            "Requirement already satisfied: statsmodels in /usr/local/lib/python3.6/dist-packages (from pyod) (0.10.2)\n",
            "Requirement already satisfied: scikit-learn>=0.19.1 in /usr/local/lib/python3.6/dist-packages (from pyod) (0.22.2.post1)\n",
            "Requirement already satisfied: numpy>=1.13 in /usr/local/lib/python3.6/dist-packages (from pyod) (1.18.5)\n",
            "Requirement already satisfied: joblib in /usr/local/lib/python3.6/dist-packages (from pyod) (0.17.0)\n",
            "Requirement already satisfied: numba>=0.35 in /usr/local/lib/python3.6/dist-packages (from pyod) (0.48.0)\n",
            "Requirement already satisfied: matplotlib in /usr/local/lib/python3.6/dist-packages (from pyod) (3.2.2)\n",
            "Requirement already satisfied: pandas>=0.25 in /usr/local/lib/python3.6/dist-packages (from pyod) (1.1.4)\n",
            "Requirement already satisfied: suod in /usr/local/lib/python3.6/dist-packages (from pyod) (0.0.4)\n",
            "Requirement already satisfied: scipy>=0.19.1 in /usr/local/lib/python3.6/dist-packages (from pyod) (1.4.1)\n",
            "Requirement already satisfied: patsy>=0.4.0 in /usr/local/lib/python3.6/dist-packages (from statsmodels->pyod) (0.5.1)\n",
            "Requirement already satisfied: setuptools in /usr/local/lib/python3.6/dist-packages (from numba>=0.35->pyod) (50.3.2)\n",
            "Requirement already satisfied: llvmlite<0.32.0,>=0.31.0dev0 in /usr/local/lib/python3.6/dist-packages (from numba>=0.35->pyod) (0.31.0)\n",
            "Requirement already satisfied: kiwisolver>=1.0.1 in /usr/local/lib/python3.6/dist-packages (from matplotlib->pyod) (1.3.1)\n",
            "Requirement already satisfied: cycler>=0.10 in /usr/local/lib/python3.6/dist-packages (from matplotlib->pyod) (0.10.0)\n",
            "Requirement already satisfied: pyparsing!=2.0.4,!=2.1.2,!=2.1.6,>=2.0.1 in /usr/local/lib/python3.6/dist-packages (from matplotlib->pyod) (2.4.7)\n",
            "Requirement already satisfied: python-dateutil>=2.1 in /usr/local/lib/python3.6/dist-packages (from matplotlib->pyod) (2.8.1)\n",
            "Requirement already satisfied: pytz>=2017.2 in /usr/local/lib/python3.6/dist-packages (from pandas>=0.25->pyod) (2018.9)\n"
          ],
          "name": "stdout"
        }
      ]
    },
    {
      "cell_type": "code",
      "metadata": {
        "id": "gxBgvhA4mowO"
      },
      "source": [
        "import pandas as pd\n",
        "import numpy as np\n",
        "from numpy import percentile\n",
        "import matplotlib.pyplot as plt\n",
        "import seaborn as sns\n",
        "import matplotlib\n",
        "\n",
        "from sklearn.ensemble import IsolationForest\n",
        "\n",
        "# Scaling variables\n",
        "from sklearn.preprocessing import StandardScaler\n",
        "from sklearn.preprocessing import MinMaxScaler\n",
        "\n",
        "from pyod.models.abod import ABOD\n",
        "from pyod.models.cblof import CBLOF\n",
        "#from pyod.models.feature_bagging import FeatureBagging\n",
        "from pyod.models.hbos import HBOS\n",
        "from pyod.models.iforest import IForest\n",
        "from pyod.models.knn import KNN\n",
        "#from pyod.models.lof import LOF\n",
        "from scipy import stats\n",
        "\n",
        "# remove warnings to keep notebook clean\n",
        "import warnings\n",
        "warnings.filterwarnings('ignore')"
      ],
      "execution_count": 23,
      "outputs": []
    },
    {
      "cell_type": "markdown",
      "metadata": {
        "id": "WLf_c29t0ekj"
      },
      "source": [
        "## Carrega dataframe"
      ]
    },
    {
      "cell_type": "code",
      "metadata": {
        "id": "YL_VQljA0gxZ"
      },
      "source": [
        "df_titanic = sns.load_dataset('titanic')\n",
        "\n",
        "# descartando / omitindo todos os missing values\n",
        "#df_titanic = df_titanic.dropna()\n",
        "# df_titanic.head()"
      ],
      "execution_count": 24,
      "outputs": []
    },
    {
      "cell_type": "code",
      "metadata": {
        "id": "wYCRS1YBSf_B",
        "colab": {
          "base_uri": "https://localhost:8080/",
          "height": 419
        },
        "outputId": "61d159fc-ac19-4b3b-b1b1-a2ae7a5007d8"
      },
      "source": [
        "df_titanic.isna()"
      ],
      "execution_count": 7,
      "outputs": [
        {
          "output_type": "execute_result",
          "data": {
            "text/html": [
              "<div>\n",
              "<style scoped>\n",
              "    .dataframe tbody tr th:only-of-type {\n",
              "        vertical-align: middle;\n",
              "    }\n",
              "\n",
              "    .dataframe tbody tr th {\n",
              "        vertical-align: top;\n",
              "    }\n",
              "\n",
              "    .dataframe thead th {\n",
              "        text-align: right;\n",
              "    }\n",
              "</style>\n",
              "<table border=\"1\" class=\"dataframe\">\n",
              "  <thead>\n",
              "    <tr style=\"text-align: right;\">\n",
              "      <th></th>\n",
              "      <th>survived</th>\n",
              "      <th>pclass</th>\n",
              "      <th>sex</th>\n",
              "      <th>age</th>\n",
              "      <th>sibsp</th>\n",
              "      <th>parch</th>\n",
              "      <th>fare</th>\n",
              "      <th>embarked</th>\n",
              "      <th>class</th>\n",
              "      <th>who</th>\n",
              "      <th>adult_male</th>\n",
              "      <th>deck</th>\n",
              "      <th>embark_town</th>\n",
              "      <th>alive</th>\n",
              "      <th>alone</th>\n",
              "    </tr>\n",
              "  </thead>\n",
              "  <tbody>\n",
              "    <tr>\n",
              "      <th>0</th>\n",
              "      <td>False</td>\n",
              "      <td>False</td>\n",
              "      <td>False</td>\n",
              "      <td>False</td>\n",
              "      <td>False</td>\n",
              "      <td>False</td>\n",
              "      <td>False</td>\n",
              "      <td>False</td>\n",
              "      <td>False</td>\n",
              "      <td>False</td>\n",
              "      <td>False</td>\n",
              "      <td>True</td>\n",
              "      <td>False</td>\n",
              "      <td>False</td>\n",
              "      <td>False</td>\n",
              "    </tr>\n",
              "    <tr>\n",
              "      <th>1</th>\n",
              "      <td>False</td>\n",
              "      <td>False</td>\n",
              "      <td>False</td>\n",
              "      <td>False</td>\n",
              "      <td>False</td>\n",
              "      <td>False</td>\n",
              "      <td>False</td>\n",
              "      <td>False</td>\n",
              "      <td>False</td>\n",
              "      <td>False</td>\n",
              "      <td>False</td>\n",
              "      <td>False</td>\n",
              "      <td>False</td>\n",
              "      <td>False</td>\n",
              "      <td>False</td>\n",
              "    </tr>\n",
              "    <tr>\n",
              "      <th>2</th>\n",
              "      <td>False</td>\n",
              "      <td>False</td>\n",
              "      <td>False</td>\n",
              "      <td>False</td>\n",
              "      <td>False</td>\n",
              "      <td>False</td>\n",
              "      <td>False</td>\n",
              "      <td>False</td>\n",
              "      <td>False</td>\n",
              "      <td>False</td>\n",
              "      <td>False</td>\n",
              "      <td>True</td>\n",
              "      <td>False</td>\n",
              "      <td>False</td>\n",
              "      <td>False</td>\n",
              "    </tr>\n",
              "    <tr>\n",
              "      <th>3</th>\n",
              "      <td>False</td>\n",
              "      <td>False</td>\n",
              "      <td>False</td>\n",
              "      <td>False</td>\n",
              "      <td>False</td>\n",
              "      <td>False</td>\n",
              "      <td>False</td>\n",
              "      <td>False</td>\n",
              "      <td>False</td>\n",
              "      <td>False</td>\n",
              "      <td>False</td>\n",
              "      <td>False</td>\n",
              "      <td>False</td>\n",
              "      <td>False</td>\n",
              "      <td>False</td>\n",
              "    </tr>\n",
              "    <tr>\n",
              "      <th>4</th>\n",
              "      <td>False</td>\n",
              "      <td>False</td>\n",
              "      <td>False</td>\n",
              "      <td>False</td>\n",
              "      <td>False</td>\n",
              "      <td>False</td>\n",
              "      <td>False</td>\n",
              "      <td>False</td>\n",
              "      <td>False</td>\n",
              "      <td>False</td>\n",
              "      <td>False</td>\n",
              "      <td>True</td>\n",
              "      <td>False</td>\n",
              "      <td>False</td>\n",
              "      <td>False</td>\n",
              "    </tr>\n",
              "    <tr>\n",
              "      <th>...</th>\n",
              "      <td>...</td>\n",
              "      <td>...</td>\n",
              "      <td>...</td>\n",
              "      <td>...</td>\n",
              "      <td>...</td>\n",
              "      <td>...</td>\n",
              "      <td>...</td>\n",
              "      <td>...</td>\n",
              "      <td>...</td>\n",
              "      <td>...</td>\n",
              "      <td>...</td>\n",
              "      <td>...</td>\n",
              "      <td>...</td>\n",
              "      <td>...</td>\n",
              "      <td>...</td>\n",
              "    </tr>\n",
              "    <tr>\n",
              "      <th>886</th>\n",
              "      <td>False</td>\n",
              "      <td>False</td>\n",
              "      <td>False</td>\n",
              "      <td>False</td>\n",
              "      <td>False</td>\n",
              "      <td>False</td>\n",
              "      <td>False</td>\n",
              "      <td>False</td>\n",
              "      <td>False</td>\n",
              "      <td>False</td>\n",
              "      <td>False</td>\n",
              "      <td>True</td>\n",
              "      <td>False</td>\n",
              "      <td>False</td>\n",
              "      <td>False</td>\n",
              "    </tr>\n",
              "    <tr>\n",
              "      <th>887</th>\n",
              "      <td>False</td>\n",
              "      <td>False</td>\n",
              "      <td>False</td>\n",
              "      <td>False</td>\n",
              "      <td>False</td>\n",
              "      <td>False</td>\n",
              "      <td>False</td>\n",
              "      <td>False</td>\n",
              "      <td>False</td>\n",
              "      <td>False</td>\n",
              "      <td>False</td>\n",
              "      <td>False</td>\n",
              "      <td>False</td>\n",
              "      <td>False</td>\n",
              "      <td>False</td>\n",
              "    </tr>\n",
              "    <tr>\n",
              "      <th>888</th>\n",
              "      <td>False</td>\n",
              "      <td>False</td>\n",
              "      <td>False</td>\n",
              "      <td>True</td>\n",
              "      <td>False</td>\n",
              "      <td>False</td>\n",
              "      <td>False</td>\n",
              "      <td>False</td>\n",
              "      <td>False</td>\n",
              "      <td>False</td>\n",
              "      <td>False</td>\n",
              "      <td>True</td>\n",
              "      <td>False</td>\n",
              "      <td>False</td>\n",
              "      <td>False</td>\n",
              "    </tr>\n",
              "    <tr>\n",
              "      <th>889</th>\n",
              "      <td>False</td>\n",
              "      <td>False</td>\n",
              "      <td>False</td>\n",
              "      <td>False</td>\n",
              "      <td>False</td>\n",
              "      <td>False</td>\n",
              "      <td>False</td>\n",
              "      <td>False</td>\n",
              "      <td>False</td>\n",
              "      <td>False</td>\n",
              "      <td>False</td>\n",
              "      <td>False</td>\n",
              "      <td>False</td>\n",
              "      <td>False</td>\n",
              "      <td>False</td>\n",
              "    </tr>\n",
              "    <tr>\n",
              "      <th>890</th>\n",
              "      <td>False</td>\n",
              "      <td>False</td>\n",
              "      <td>False</td>\n",
              "      <td>False</td>\n",
              "      <td>False</td>\n",
              "      <td>False</td>\n",
              "      <td>False</td>\n",
              "      <td>False</td>\n",
              "      <td>False</td>\n",
              "      <td>False</td>\n",
              "      <td>False</td>\n",
              "      <td>True</td>\n",
              "      <td>False</td>\n",
              "      <td>False</td>\n",
              "      <td>False</td>\n",
              "    </tr>\n",
              "  </tbody>\n",
              "</table>\n",
              "<p>891 rows × 15 columns</p>\n",
              "</div>"
            ],
            "text/plain": [
              "     survived  pclass    sex    age  ...   deck  embark_town  alive  alone\n",
              "0       False   False  False  False  ...   True        False  False  False\n",
              "1       False   False  False  False  ...  False        False  False  False\n",
              "2       False   False  False  False  ...   True        False  False  False\n",
              "3       False   False  False  False  ...  False        False  False  False\n",
              "4       False   False  False  False  ...   True        False  False  False\n",
              "..        ...     ...    ...    ...  ...    ...          ...    ...    ...\n",
              "886     False   False  False  False  ...   True        False  False  False\n",
              "887     False   False  False  False  ...  False        False  False  False\n",
              "888     False   False  False   True  ...   True        False  False  False\n",
              "889     False   False  False  False  ...  False        False  False  False\n",
              "890     False   False  False  False  ...   True        False  False  False\n",
              "\n",
              "[891 rows x 15 columns]"
            ]
          },
          "metadata": {
            "tags": []
          },
          "execution_count": 7
        }
      ]
    },
    {
      "cell_type": "code",
      "metadata": {
        "id": "TE0nOCmlSl12",
        "colab": {
          "base_uri": "https://localhost:8080/"
        },
        "outputId": "b8e2a4e7-4f21-4c15-f540-6b380ccd590d"
      },
      "source": [
        "df_titanic.isna().sum()"
      ],
      "execution_count": 25,
      "outputs": [
        {
          "output_type": "execute_result",
          "data": {
            "text/plain": [
              "survived         0\n",
              "pclass           0\n",
              "sex              0\n",
              "age            177\n",
              "sibsp            0\n",
              "parch            0\n",
              "fare             0\n",
              "embarked         2\n",
              "class            0\n",
              "who              0\n",
              "adult_male       0\n",
              "deck           688\n",
              "embark_town      2\n",
              "alive            0\n",
              "alone            0\n",
              "dtype: int64"
            ]
          },
          "metadata": {
            "tags": []
          },
          "execution_count": 25
        }
      ]
    },
    {
      "cell_type": "code",
      "metadata": {
        "id": "O_cS3p1fSaUE",
        "colab": {
          "base_uri": "https://localhost:8080/",
          "height": 204
        },
        "outputId": "86f4dc06-dd3e-46ff-aebc-3bd3f7de4df9"
      },
      "source": [
        "# descartando / omitindo todos os missing values\n",
        "df_titanic = df_titanic.dropna()\n",
        "df_titanic.head()"
      ],
      "execution_count": 26,
      "outputs": [
        {
          "output_type": "execute_result",
          "data": {
            "text/html": [
              "<div>\n",
              "<style scoped>\n",
              "    .dataframe tbody tr th:only-of-type {\n",
              "        vertical-align: middle;\n",
              "    }\n",
              "\n",
              "    .dataframe tbody tr th {\n",
              "        vertical-align: top;\n",
              "    }\n",
              "\n",
              "    .dataframe thead th {\n",
              "        text-align: right;\n",
              "    }\n",
              "</style>\n",
              "<table border=\"1\" class=\"dataframe\">\n",
              "  <thead>\n",
              "    <tr style=\"text-align: right;\">\n",
              "      <th></th>\n",
              "      <th>survived</th>\n",
              "      <th>pclass</th>\n",
              "      <th>sex</th>\n",
              "      <th>age</th>\n",
              "      <th>sibsp</th>\n",
              "      <th>parch</th>\n",
              "      <th>fare</th>\n",
              "      <th>embarked</th>\n",
              "      <th>class</th>\n",
              "      <th>who</th>\n",
              "      <th>adult_male</th>\n",
              "      <th>deck</th>\n",
              "      <th>embark_town</th>\n",
              "      <th>alive</th>\n",
              "      <th>alone</th>\n",
              "    </tr>\n",
              "  </thead>\n",
              "  <tbody>\n",
              "    <tr>\n",
              "      <th>1</th>\n",
              "      <td>1</td>\n",
              "      <td>1</td>\n",
              "      <td>female</td>\n",
              "      <td>38.0</td>\n",
              "      <td>1</td>\n",
              "      <td>0</td>\n",
              "      <td>71.2833</td>\n",
              "      <td>C</td>\n",
              "      <td>First</td>\n",
              "      <td>woman</td>\n",
              "      <td>False</td>\n",
              "      <td>C</td>\n",
              "      <td>Cherbourg</td>\n",
              "      <td>yes</td>\n",
              "      <td>False</td>\n",
              "    </tr>\n",
              "    <tr>\n",
              "      <th>3</th>\n",
              "      <td>1</td>\n",
              "      <td>1</td>\n",
              "      <td>female</td>\n",
              "      <td>35.0</td>\n",
              "      <td>1</td>\n",
              "      <td>0</td>\n",
              "      <td>53.1000</td>\n",
              "      <td>S</td>\n",
              "      <td>First</td>\n",
              "      <td>woman</td>\n",
              "      <td>False</td>\n",
              "      <td>C</td>\n",
              "      <td>Southampton</td>\n",
              "      <td>yes</td>\n",
              "      <td>False</td>\n",
              "    </tr>\n",
              "    <tr>\n",
              "      <th>6</th>\n",
              "      <td>0</td>\n",
              "      <td>1</td>\n",
              "      <td>male</td>\n",
              "      <td>54.0</td>\n",
              "      <td>0</td>\n",
              "      <td>0</td>\n",
              "      <td>51.8625</td>\n",
              "      <td>S</td>\n",
              "      <td>First</td>\n",
              "      <td>man</td>\n",
              "      <td>True</td>\n",
              "      <td>E</td>\n",
              "      <td>Southampton</td>\n",
              "      <td>no</td>\n",
              "      <td>True</td>\n",
              "    </tr>\n",
              "    <tr>\n",
              "      <th>10</th>\n",
              "      <td>1</td>\n",
              "      <td>3</td>\n",
              "      <td>female</td>\n",
              "      <td>4.0</td>\n",
              "      <td>1</td>\n",
              "      <td>1</td>\n",
              "      <td>16.7000</td>\n",
              "      <td>S</td>\n",
              "      <td>Third</td>\n",
              "      <td>child</td>\n",
              "      <td>False</td>\n",
              "      <td>G</td>\n",
              "      <td>Southampton</td>\n",
              "      <td>yes</td>\n",
              "      <td>False</td>\n",
              "    </tr>\n",
              "    <tr>\n",
              "      <th>11</th>\n",
              "      <td>1</td>\n",
              "      <td>1</td>\n",
              "      <td>female</td>\n",
              "      <td>58.0</td>\n",
              "      <td>0</td>\n",
              "      <td>0</td>\n",
              "      <td>26.5500</td>\n",
              "      <td>S</td>\n",
              "      <td>First</td>\n",
              "      <td>woman</td>\n",
              "      <td>False</td>\n",
              "      <td>C</td>\n",
              "      <td>Southampton</td>\n",
              "      <td>yes</td>\n",
              "      <td>True</td>\n",
              "    </tr>\n",
              "  </tbody>\n",
              "</table>\n",
              "</div>"
            ],
            "text/plain": [
              "    survived  pclass     sex   age  ...  deck  embark_town  alive  alone\n",
              "1          1       1  female  38.0  ...     C    Cherbourg    yes  False\n",
              "3          1       1  female  35.0  ...     C  Southampton    yes  False\n",
              "6          0       1    male  54.0  ...     E  Southampton     no   True\n",
              "10         1       3  female   4.0  ...     G  Southampton    yes  False\n",
              "11         1       1  female  58.0  ...     C  Southampton    yes   True\n",
              "\n",
              "[5 rows x 15 columns]"
            ]
          },
          "metadata": {
            "tags": []
          },
          "execution_count": 26
        }
      ]
    },
    {
      "cell_type": "code",
      "metadata": {
        "id": "Q2oxyyQWB-uz"
      },
      "source": [
        "# Normalizar as variáveis 'age' e 'fare'\n",
        "df_titanic_ss = df_titanic.copy()\n",
        "df_titanic_ss[['fare', 'age']] = StandardScaler().fit_transform(df_titanic_ss[['fare','age']])"
      ],
      "execution_count": 27,
      "outputs": []
    },
    {
      "cell_type": "code",
      "metadata": {
        "id": "rAKnKtil9Oz1",
        "colab": {
          "base_uri": "https://localhost:8080/"
        },
        "outputId": "26559edc-4b4d-4f50-d28c-a5992b33f709"
      },
      "source": [
        "# Linhas do df_titanic\n",
        "df_titanic_ss.shape"
      ],
      "execution_count": 28,
      "outputs": [
        {
          "output_type": "execute_result",
          "data": {
            "text/plain": [
              "(182, 15)"
            ]
          },
          "metadata": {
            "tags": []
          },
          "execution_count": 28
        }
      ]
    },
    {
      "cell_type": "code",
      "metadata": {
        "id": "sHSYUkEQFIwS"
      },
      "source": [
        "# Função para plotar o Boxplot\n",
        "def boxplot_sobreviveu(df, column):\n",
        "    plt.rcdefaults()\n",
        "    sns.catplot(x = 'survived', y = column, kind = \"box\", data = df, height = 4, aspect = 1.5)\n",
        "    \n",
        "    # add data points to boxplot with stripplot\n",
        "    sns.stripplot(x = 'survived', y = column, data = df, alpha = 0.3, jitter = 0.2, color = 'k');\n",
        "    plt.show()\n",
        "\n",
        "    # variável target é \"survived\""
      ],
      "execution_count": 30,
      "outputs": []
    },
    {
      "cell_type": "code",
      "metadata": {
        "id": "o9-VgcNnFNb1",
        "colab": {
          "base_uri": "https://localhost:8080/",
          "height": 426
        },
        "outputId": "14d9a5b0-d275-45e0-91d6-0566f4109113"
      },
      "source": [
        "boxplot_sobreviveu(df_titanic, 'fare') # esta é a versão univariada da variável \"fare\"\n"
      ],
      "execution_count": 31,
      "outputs": [
        {
          "output_type": "display_data",
          "data": {
            "image/png": "[encoded data removed]",
            "text/plain": [
              "<Figure size 600x400 with 1 Axes>"
            ]
          },
          "metadata": {
            "tags": []
          }
        }
      ]
    },
    {
      "cell_type": "code",
      "metadata": {
        "id": "8FIo9tD1FQ0u",
        "colab": {
          "base_uri": "https://localhost:8080/",
          "height": 426
        },
        "outputId": "4b851f4c-fdc9-4789-e662-faf74fc7b39c"
      },
      "source": [
        "boxplot_sobreviveu(df_titanic, 'age')"
      ],
      "execution_count": 32,
      "outputs": [
        {
          "output_type": "display_data",
          "data": {
            "image/png": "[encoded data removed]",
            "text/plain": [
              "<Figure size 600x400 with 1 Axes>"
            ]
          },
          "metadata": {
            "tags": []
          }
        }
      ]
    },
    {
      "cell_type": "code",
      "metadata": {
        "id": "fCqj102y9Kfo",
        "colab": {
          "base_uri": "https://localhost:8080/"
        },
        "outputId": "ae4cef34-6e47-4258-ba52-4cc6651544e8"
      },
      "source": [
        "# Descrever o dataframe, variável 'fare'\n",
        "# pd.set.option('display.float_format', lambda x: '%.3f' %x)\n",
        "df_titanic_ss['fare'].describe()"
      ],
      "execution_count": 15,
      "outputs": [
        {
          "output_type": "execute_result",
          "data": {
            "text/plain": [
              "count    1.820000e+02\n",
              "mean     2.537653e-16\n",
              "std      1.002759e+00\n",
              "min     -1.034601e+00\n",
              "25%     -6.452479e-01\n",
              "50%     -2.873576e-01\n",
              "75%      1.452571e-01\n",
              "max      5.681797e+00\n",
              "Name: fare, dtype: float64"
            ]
          },
          "metadata": {
            "tags": []
          },
          "execution_count": 15
        }
      ]
    },
    {
      "cell_type": "code",
      "metadata": {
        "id": "SMcvIb1K_69n",
        "colab": {
          "base_uri": "https://localhost:8080/",
          "height": 472
        },
        "outputId": "1e6d1fcb-49b3-44ec-c519-18512e7ae91e"
      },
      "source": [
        "plt.scatter(range(df_titanic_ss.shape[0]), np.sort(df_titanic_ss['fare'].values))\n",
        "plt.xlabel('index')\n",
        "plt.ylabel('Fares')\n",
        "plt.title(\"Distribuição da variável Fare\")\n",
        "\n",
        "sns.despine()"
      ],
      "execution_count": 16,
      "outputs": [
        {
          "output_type": "display_data",
          "data": {
            "image/png": "[encoded data removed]",
            "text/plain": [
              "<Figure size 640x480 with 1 Axes>"
            ]
          },
          "metadata": {
            "tags": []
          }
        }
      ]
    },
    {
      "cell_type": "code",
      "metadata": {
        "id": "NCcXnHHYIlM4",
        "colab": {
          "base_uri": "https://localhost:8080/",
          "height": 297
        },
        "outputId": "53efbaee-a856-454c-8f9d-991c3090fa88"
      },
      "source": [
        "df_titanic_ss.describe()"
      ],
      "execution_count": 17,
      "outputs": [
        {
          "output_type": "execute_result",
          "data": {
            "text/html": [
              "<div>\n",
              "<style scoped>\n",
              "    .dataframe tbody tr th:only-of-type {\n",
              "        vertical-align: middle;\n",
              "    }\n",
              "\n",
              "    .dataframe tbody tr th {\n",
              "        vertical-align: top;\n",
              "    }\n",
              "\n",
              "    .dataframe thead th {\n",
              "        text-align: right;\n",
              "    }\n",
              "</style>\n",
              "<table border=\"1\" class=\"dataframe\">\n",
              "  <thead>\n",
              "    <tr style=\"text-align: right;\">\n",
              "      <th></th>\n",
              "      <th>survived</th>\n",
              "      <th>pclass</th>\n",
              "      <th>age</th>\n",
              "      <th>sibsp</th>\n",
              "      <th>parch</th>\n",
              "      <th>fare</th>\n",
              "    </tr>\n",
              "  </thead>\n",
              "  <tbody>\n",
              "    <tr>\n",
              "      <th>count</th>\n",
              "      <td>182.000000</td>\n",
              "      <td>182.000000</td>\n",
              "      <td>1.820000e+02</td>\n",
              "      <td>182.000000</td>\n",
              "      <td>182.000000</td>\n",
              "      <td>1.820000e+02</td>\n",
              "    </tr>\n",
              "    <tr>\n",
              "      <th>mean</th>\n",
              "      <td>0.675824</td>\n",
              "      <td>1.192308</td>\n",
              "      <td>1.464030e-17</td>\n",
              "      <td>0.467033</td>\n",
              "      <td>0.478022</td>\n",
              "      <td>2.537653e-16</td>\n",
              "    </tr>\n",
              "    <tr>\n",
              "      <th>std</th>\n",
              "      <td>0.469357</td>\n",
              "      <td>0.516411</td>\n",
              "      <td>1.002759e+00</td>\n",
              "      <td>0.645007</td>\n",
              "      <td>0.755869</td>\n",
              "      <td>1.002759e+00</td>\n",
              "    </tr>\n",
              "    <tr>\n",
              "      <th>min</th>\n",
              "      <td>0.000000</td>\n",
              "      <td>1.000000</td>\n",
              "      <td>-2.220506e+00</td>\n",
              "      <td>0.000000</td>\n",
              "      <td>0.000000</td>\n",
              "      <td>-1.034601e+00</td>\n",
              "    </tr>\n",
              "    <tr>\n",
              "      <th>25%</th>\n",
              "      <td>0.000000</td>\n",
              "      <td>1.000000</td>\n",
              "      <td>-7.437173e-01</td>\n",
              "      <td>0.000000</td>\n",
              "      <td>0.000000</td>\n",
              "      <td>-6.452479e-01</td>\n",
              "    </tr>\n",
              "    <tr>\n",
              "      <th>50%</th>\n",
              "      <td>1.000000</td>\n",
              "      <td>1.000000</td>\n",
              "      <td>2.411064e-02</td>\n",
              "      <td>0.000000</td>\n",
              "      <td>0.000000</td>\n",
              "      <td>-2.873576e-01</td>\n",
              "    </tr>\n",
              "    <tr>\n",
              "      <th>75%</th>\n",
              "      <td>1.000000</td>\n",
              "      <td>1.000000</td>\n",
              "      <td>7.759421e-01</td>\n",
              "      <td>1.000000</td>\n",
              "      <td>1.000000</td>\n",
              "      <td>1.452571e-01</td>\n",
              "    </tr>\n",
              "    <tr>\n",
              "      <th>max</th>\n",
              "      <td>1.000000</td>\n",
              "      <td>3.000000</td>\n",
              "      <td>2.839480e+00</td>\n",
              "      <td>3.000000</td>\n",
              "      <td>4.000000</td>\n",
              "      <td>5.681797e+00</td>\n",
              "    </tr>\n",
              "  </tbody>\n",
              "</table>\n",
              "</div>"
            ],
            "text/plain": [
              "         survived      pclass  ...       parch          fare\n",
              "count  182.000000  182.000000  ...  182.000000  1.820000e+02\n",
              "mean     0.675824    1.192308  ...    0.478022  2.537653e-16\n",
              "std      0.469357    0.516411  ...    0.755869  1.002759e+00\n",
              "min      0.000000    1.000000  ...    0.000000 -1.034601e+00\n",
              "25%      0.000000    1.000000  ...    0.000000 -6.452479e-01\n",
              "50%      1.000000    1.000000  ...    0.000000 -2.873576e-01\n",
              "75%      1.000000    1.000000  ...    1.000000  1.452571e-01\n",
              "max      1.000000    3.000000  ...    4.000000  5.681797e+00\n",
              "\n",
              "[8 rows x 6 columns]"
            ]
          },
          "metadata": {
            "tags": []
          },
          "execution_count": 17
        }
      ]
    },
    {
      "cell_type": "code",
      "metadata": {
        "id": "7pzTvLleGpWc",
        "colab": {
          "base_uri": "https://localhost:8080/",
          "height": 472
        },
        "outputId": "37fc81d4-534d-4a58-a6e1-f03e7d4dd7e0"
      },
      "source": [
        "# Distribuição da variável 'fare'\n",
        "\n",
        "sns.distplot(df_titanic_ss['fare'])\n",
        "plt.title(\"Distribuição da variável Fare\")\n",
        "sns.despine()"
      ],
      "execution_count": 18,
      "outputs": [
        {
          "output_type": "display_data",
          "data": {
            "image/png": "[encoded data removed]",
            "text/plain": [
              "<Figure size 640x480 with 1 Axes>"
            ]
          },
          "metadata": {
            "tags": []
          }
        }
      ]
    },
    {
      "cell_type": "code",
      "metadata": {
        "id": "XHdoFu0ujwyP",
        "colab": {
          "base_uri": "https://localhost:8080/",
          "height": 297
        },
        "outputId": "a6af3542-2a2e-4422-dfae-12bdd8d99a07"
      },
      "source": [
        "df_titanic.describe()"
      ],
      "execution_count": 19,
      "outputs": [
        {
          "output_type": "execute_result",
          "data": {
            "text/html": [
              "<div>\n",
              "<style scoped>\n",
              "    .dataframe tbody tr th:only-of-type {\n",
              "        vertical-align: middle;\n",
              "    }\n",
              "\n",
              "    .dataframe tbody tr th {\n",
              "        vertical-align: top;\n",
              "    }\n",
              "\n",
              "    .dataframe thead th {\n",
              "        text-align: right;\n",
              "    }\n",
              "</style>\n",
              "<table border=\"1\" class=\"dataframe\">\n",
              "  <thead>\n",
              "    <tr style=\"text-align: right;\">\n",
              "      <th></th>\n",
              "      <th>survived</th>\n",
              "      <th>pclass</th>\n",
              "      <th>age</th>\n",
              "      <th>sibsp</th>\n",
              "      <th>parch</th>\n",
              "      <th>fare</th>\n",
              "    </tr>\n",
              "  </thead>\n",
              "  <tbody>\n",
              "    <tr>\n",
              "      <th>count</th>\n",
              "      <td>182.000000</td>\n",
              "      <td>182.000000</td>\n",
              "      <td>182.000000</td>\n",
              "      <td>182.000000</td>\n",
              "      <td>182.000000</td>\n",
              "      <td>182.000000</td>\n",
              "    </tr>\n",
              "    <tr>\n",
              "      <th>mean</th>\n",
              "      <td>0.675824</td>\n",
              "      <td>1.192308</td>\n",
              "      <td>35.623187</td>\n",
              "      <td>0.467033</td>\n",
              "      <td>0.478022</td>\n",
              "      <td>78.919735</td>\n",
              "    </tr>\n",
              "    <tr>\n",
              "      <th>std</th>\n",
              "      <td>0.469357</td>\n",
              "      <td>0.516411</td>\n",
              "      <td>15.671615</td>\n",
              "      <td>0.645007</td>\n",
              "      <td>0.755869</td>\n",
              "      <td>76.490774</td>\n",
              "    </tr>\n",
              "    <tr>\n",
              "      <th>min</th>\n",
              "      <td>0.000000</td>\n",
              "      <td>1.000000</td>\n",
              "      <td>0.920000</td>\n",
              "      <td>0.000000</td>\n",
              "      <td>0.000000</td>\n",
              "      <td>0.000000</td>\n",
              "    </tr>\n",
              "    <tr>\n",
              "      <th>25%</th>\n",
              "      <td>0.000000</td>\n",
              "      <td>1.000000</td>\n",
              "      <td>24.000000</td>\n",
              "      <td>0.000000</td>\n",
              "      <td>0.000000</td>\n",
              "      <td>29.700000</td>\n",
              "    </tr>\n",
              "    <tr>\n",
              "      <th>50%</th>\n",
              "      <td>1.000000</td>\n",
              "      <td>1.000000</td>\n",
              "      <td>36.000000</td>\n",
              "      <td>0.000000</td>\n",
              "      <td>0.000000</td>\n",
              "      <td>57.000000</td>\n",
              "    </tr>\n",
              "    <tr>\n",
              "      <th>75%</th>\n",
              "      <td>1.000000</td>\n",
              "      <td>1.000000</td>\n",
              "      <td>47.750000</td>\n",
              "      <td>1.000000</td>\n",
              "      <td>1.000000</td>\n",
              "      <td>90.000000</td>\n",
              "    </tr>\n",
              "    <tr>\n",
              "      <th>max</th>\n",
              "      <td>1.000000</td>\n",
              "      <td>3.000000</td>\n",
              "      <td>80.000000</td>\n",
              "      <td>3.000000</td>\n",
              "      <td>4.000000</td>\n",
              "      <td>512.329200</td>\n",
              "    </tr>\n",
              "  </tbody>\n",
              "</table>\n",
              "</div>"
            ],
            "text/plain": [
              "         survived      pclass         age       sibsp       parch        fare\n",
              "count  182.000000  182.000000  182.000000  182.000000  182.000000  182.000000\n",
              "mean     0.675824    1.192308   35.623187    0.467033    0.478022   78.919735\n",
              "std      0.469357    0.516411   15.671615    0.645007    0.755869   76.490774\n",
              "min      0.000000    1.000000    0.920000    0.000000    0.000000    0.000000\n",
              "25%      0.000000    1.000000   24.000000    0.000000    0.000000   29.700000\n",
              "50%      1.000000    1.000000   36.000000    0.000000    0.000000   57.000000\n",
              "75%      1.000000    1.000000   47.750000    1.000000    1.000000   90.000000\n",
              "max      1.000000    3.000000   80.000000    3.000000    4.000000  512.329200"
            ]
          },
          "metadata": {
            "tags": []
          },
          "execution_count": 19
        }
      ]
    },
    {
      "cell_type": "markdown",
      "metadata": {
        "id": "Qa28Hc3ZC6FV"
      },
      "source": [
        "___\n",
        "## Kurtosis\n",
        "> Kurtosis é uma medida estatística que define com que intensidade as caudas de uma distribuição diferem das caudas de uma distribuição Normal. Em outras palavras, a curtose identifica se as caudas de uma determinada distribuição contêm valores extremos.\n",
        ">> A Kurtosis de uma distribuição Normal padrão é igual a 3. Portanto, se Kurtosis-3 > 0, então isso é o que chamamos de excesso de Kurtosis.\n",
        ">>> **Alta Kurtosis é um indicador de que os dados possuem caudas pesadas ou outliers**.\n",
        "\n",
        "* **Dica muito importante**: Normalize os dados antes!"
      ]
    },
    {
      "cell_type": "code",
      "metadata": {
        "id": "lOwDNNlakMgP",
        "colab": {
          "base_uri": "https://localhost:8080/",
          "height": 129
        },
        "outputId": "27a72a03-7817-49b1-f96e-88a9dd12c6b5"
      },
      "source": [
        "$x{i}-3"
      ],
      "execution_count": 20,
      "outputs": [
        {
          "output_type": "error",
          "ename": "SyntaxError",
          "evalue": "ignored",
          "traceback": [
            "\u001b[0;36m  File \u001b[0;32m\"<ipython-input-20-9e2c43b6e425>\"\u001b[0;36m, line \u001b[0;32m1\u001b[0m\n\u001b[0;31m    $x{i}-3\u001b[0m\n\u001b[0m    ^\u001b[0m\n\u001b[0;31mSyntaxError\u001b[0m\u001b[0;31m:\u001b[0m invalid syntax\n"
          ]
        }
      ]
    },
    {
      "cell_type": "markdown",
      "metadata": {
        "id": "ynyNHZqmD-tb"
      },
      "source": [
        "___\n",
        "## Skewness\n",
        "> É o grau de distorção da distribuição, ou seja, mede a falta de simetria na distribuição de dados, diferenciando valores extremos em uma cauda versus na outra. Uma distribuição simétrica terá uma assimetria de 0.\n",
        "\n",
        "![Skewness](https://github.com/MathMachado/Materials/blob/master/Skewness.png?raw=true)\n",
        "\n",
        "Source: [Skew and Kurtosis: 2 Important Statistics terms you need to know in Data Science](https://codeburst.io/2-important-statistics-terms-you-need-to-know-in-data-science-skewness-and-kurtosis-388fef94eeaa)"
      ]
    },
    {
      "cell_type": "markdown",
      "metadata": {
        "id": "Uoo3xVhBFixi"
      },
      "source": [
        "### Interpretando a Skewness (Rule of Thumb)\n",
        "* Se -0.5 < Skewness < 0.5: Dados razoavelmente simétricos;\n",
        "* Se -1 < Skewness < -0.5: Dados moderadamente negativa;\n",
        "* Se 0.5 < Skewness < 1: Dados moderadamente positiva;\n",
        "* Se Skewness < -1: Dados altamente negativa;\n",
        "* Se Skewness > 1: Dados altamente positiva.\n",
        "\n",
        "> **Dica**: Normalize os dados antes!"
      ]
    },
    {
      "cell_type": "code",
      "metadata": {
        "id": "oHg3nyjUTiRu",
        "colab": {
          "base_uri": "https://localhost:8080/"
        },
        "outputId": "91e15466-9e1e-4646-f6b4-c3447b6881c9"
      },
      "source": [
        "# Cálculo das medidas de Skewness e Kurtosis para 'fare'\n",
        "print(f\"Skewness: {df_titanic_ss['fare'].skew()}\")\n",
        "print(f\"Kurtosis: {df_titanic_ss['fare'].kurt()}\")"
      ],
      "execution_count": 33,
      "outputs": [
        {
          "output_type": "stream",
          "text": [
            "Skewness: 2.7073683146429004\n",
            "Kurtosis: 10.690697893681472\n"
          ],
          "name": "stdout"
        }
      ]
    },
    {
      "cell_type": "code",
      "metadata": {
        "id": "nuKgjUJvk7CK"
      },
      "source": [
        "# Calcular a mediana e comparar com a média"
      ],
      "execution_count": null,
      "outputs": []
    },
    {
      "cell_type": "markdown",
      "metadata": {
        "id": "V2jCZLGVH3Qu"
      },
      "source": [
        "Olhando para as medidas de Skewness e Kurtosis logo acima, qual a conclusão?"
      ]
    },
    {
      "cell_type": "code",
      "metadata": {
        "id": "0nnFS8vi_rOe",
        "colab": {
          "base_uri": "https://localhost:8080/"
        },
        "outputId": "f07e917e-341d-4c5e-8f8c-9b0643d97a68"
      },
      "source": [
        "# Distribuição da variável 'age'\n",
        "df_titanic_ss['age'].describe()"
      ],
      "execution_count": 34,
      "outputs": [
        {
          "output_type": "execute_result",
          "data": {
            "text/plain": [
              "count    1.820000e+02\n",
              "mean     1.464030e-17\n",
              "std      1.002759e+00\n",
              "min     -2.220506e+00\n",
              "25%     -7.437173e-01\n",
              "50%      2.411064e-02\n",
              "75%      7.759421e-01\n",
              "max      2.839480e+00\n",
              "Name: age, dtype: float64"
            ]
          },
          "metadata": {
            "tags": []
          },
          "execution_count": 34
        }
      ]
    },
    {
      "cell_type": "code",
      "metadata": {
        "id": "h9ZmvO1b_4sF",
        "colab": {
          "base_uri": "https://localhost:8080/",
          "height": 472
        },
        "outputId": "089dc681-27d2-4ac1-e620-4ee2f94f0f84"
      },
      "source": [
        "plt.scatter(range(df_titanic_ss.shape[0]), np.sort(df_titanic_ss['age'].values))\n",
        "plt.xlabel('index')\n",
        "plt.ylabel('age')\n",
        "plt.title(\"Distribuição da variável age\")\n",
        "sns.despine()"
      ],
      "execution_count": 35,
      "outputs": [
        {
          "output_type": "display_data",
          "data": {
            "image/png": "[encoded data removed]",
            "text/plain": [
              "<Figure size 640x480 with 1 Axes>"
            ]
          },
          "metadata": {
            "tags": []
          }
        }
      ]
    },
    {
      "cell_type": "code",
      "metadata": {
        "id": "GIAYrDJyCT6r",
        "colab": {
          "base_uri": "https://localhost:8080/",
          "height": 472
        },
        "outputId": "9d957456-fd3f-4ac1-d13e-f6342ebb8b07"
      },
      "source": [
        "sns.distplot(df_titanic_ss['age'])\n",
        "plt.title(\"Distribuição da variável age\")\n",
        "sns.despine()"
      ],
      "execution_count": 36,
      "outputs": [
        {
          "output_type": "display_data",
          "data": {
            "image/png": "[encoded data removed]",
            "text/plain": [
              "<Figure size 640x480 with 1 Axes>"
            ]
          },
          "metadata": {
            "tags": []
          }
        }
      ]
    },
    {
      "cell_type": "code",
      "metadata": {
        "id": "USy48-H2UXqB",
        "colab": {
          "base_uri": "https://localhost:8080/"
        },
        "outputId": "58a1eeba-00e9-49ae-fdaa-ea374139a400"
      },
      "source": [
        "# Cálculo das medidas de Skewness e Kurtosis para 'age'\n",
        "print(f\"Skewness: {df_titanic_ss['age'].skew()}\")\n",
        "print(f\"Kurtosis: {df_titanic_ss['age'].kurt()}\")"
      ],
      "execution_count": 37,
      "outputs": [
        {
          "output_type": "stream",
          "text": [
            "Skewness: 0.01841894050949496\n",
            "Kurtosis: -0.2309427735598728\n"
          ],
          "name": "stdout"
        }
      ]
    },
    {
      "cell_type": "markdown",
      "metadata": {
        "id": "ENQaVw2lItVL"
      },
      "source": [
        "Olhando para as medidas de Skewness e Kurtosis logo acima, qual a conclusão?"
      ]
    },
    {
      "cell_type": "markdown",
      "metadata": {
        "id": "s2tddgHcUiAF"
      },
      "source": [
        "___\n",
        "## **CBLOF - Cluster-based Local Outlier Factor**"
      ]
    },
    {
      "cell_type": "code",
      "metadata": {
        "id": "fbJ7k1bbbfr4"
      },
      "source": [
        "# Normalizar as variáveis 'age' e 'fare'\n",
        "df_titanic_ss = df_titanic.copy()\n",
        "df_titanic_ss[['fare', 'age']] = MinMaxScaler().fit_transform(df_titanic_ss[['fare', 'age']])"
      ],
      "execution_count": 48,
      "outputs": []
    },
    {
      "cell_type": "code",
      "metadata": {
        "id": "il0LFdCFJEsw"
      },
      "source": [
        "X1 = df_titanic_ss['age'].values.reshape(-1, 1)\n",
        "X2 = df_titanic_ss['fare'].values.reshape(-1, 1)\n",
        "X = np.concatenate((X1,X2), axis = 1)"
      ],
      "execution_count": 49,
      "outputs": []
    },
    {
      "cell_type": "code",
      "metadata": {
        "id": "QtBn0u7CKlS6",
        "colab": {
          "base_uri": "https://localhost:8080/",
          "height": 755
        },
        "outputId": "5b609810-db10-4f2f-b50a-825b076d9ff7"
      },
      "source": [
        "outliers_fraction = 0.01\n",
        "xx , yy = np.meshgrid(np.linspace(0, 1, 100), np.linspace(0, 1, 100))\n",
        "clf = CBLOF(contamination = outliers_fraction, check_estimator = False, random_state = 0)\n",
        "clf.fit(X)\n",
        "# predict raw anomaly score\n",
        "scores_pred = clf.decision_function(X) * -1\n",
        "        \n",
        "# prediction of a datapoint category outlier or inlier\n",
        "y_pred = clf.predict(X)\n",
        "n_inliers = len(y_pred) - np.count_nonzero(y_pred)\n",
        "n_outliers = np.count_nonzero(y_pred == 1)\n",
        "\n",
        "plt.figure(figsize = (8, 8))\n",
        "\n",
        "df1 = df_titanic_ss\n",
        "df1['outlier'] = y_pred.tolist()\n",
        "\n",
        "inliers_fare = np.array(df1['fare'][df1['outlier'] == 0]).reshape(-1,1)\n",
        "inliers_age = np.array(df1['age'][df1['outlier'] == 0]).reshape(-1,1)\n",
        "    \n",
        "outliers_fare = df1['fare'][df1['outlier'] == 1].values.reshape(-1,1)\n",
        "outliers_age = df1['age'][df1['outlier'] == 1].values.reshape(-1,1)\n",
        "         \n",
        "print('OUTLIERS:',n_outliers,'INLIERS:',n_inliers)\n",
        "        \n",
        "# Use threshold para definir um ponto como inlier ou outlier\n",
        "# threshold = stats.scoreatpercentile(scores_pred,100 * outliers_fraction)\n",
        "threshold = percentile(scores_pred, 100 * outliers_fraction)\n",
        "        \n",
        "# Calcula o Anomaly Score\n",
        "Z = clf.decision_function(np.c_[xx.ravel(), yy.ravel()]) * -1\n",
        "Z = Z.reshape(xx.shape)\n",
        "\n",
        "plt.contourf(xx, yy, Z, levels = np.linspace(Z.min(), threshold, 7), cmap = plt.cm.Blues_r)\n",
        "        \n",
        "# Desenha a linha vermelha a partir do qual Anomaly Score = thresold\n",
        "a = plt.contour(xx, yy, Z, levels = [threshold], linewidths = 2, colors = 'red')\n",
        "        \n",
        "# Região Azul onde threshold < Anomaly Score < max(Anomaly score)\n",
        "plt.contourf(xx, yy, Z, levels= [threshold, Z.max()], colors='orange')\n",
        "b = plt.scatter(inliers_fare, inliers_age, c = 'white', s = 20, edgecolor = 'k')\n",
        "    \n",
        "c = plt.scatter(outliers_fare, outliers_age, c = 'black', s = 20, edgecolor = 'k')\n",
        "       \n",
        "plt.axis('tight')   \n",
        "plt.legend([a.collections[0], b, c], ['learned decision function', 'inliers', 'outliers'],\n",
        "           prop = matplotlib.font_manager.FontProperties(size = 10), loc = 'upper center', frameon = False, bbox_to_anchor = (0.5, -0.05),\n",
        "          fancybox = True, shadow = True, ncol = 5)\n",
        "      \n",
        "plt.xlim((0, 1))\n",
        "plt.ylim((0, 1))\n",
        "plt.title('Cluster-based Local Outlier Factor (CBLOF)')\n",
        "plt.show()"
      ],
      "execution_count": 50,
      "outputs": [
        {
          "output_type": "stream",
          "text": [
            "OUTLIERS: 2 INLIERS: 180\n"
          ],
          "name": "stdout"
        },
        {
          "output_type": "display_data",
          "data": {
            "image/png": "[encoded data removed]",
            "text/plain": [
              "<Figure size 800x800 with 1 Axes>"
            ]
          },
          "metadata": {
            "tags": []
          }
        }
      ]
    },
    {
      "cell_type": "code",
      "metadata": {
        "id": "O7NmDgjRm5EE",
        "colab": {
          "base_uri": "https://localhost:8080/",
          "height": 111
        },
        "outputId": "0ac55d8e-9a00-43e8-ff81-b4286b88b1d5"
      },
      "source": [
        "# Zoom em alguns outliers...\n",
        "df1.loc[df1['outlier'] == 1].head()"
      ],
      "execution_count": 51,
      "outputs": [
        {
          "output_type": "execute_result",
          "data": {
            "text/html": [
              "<div>\n",
              "<style scoped>\n",
              "    .dataframe tbody tr th:only-of-type {\n",
              "        vertical-align: middle;\n",
              "    }\n",
              "\n",
              "    .dataframe tbody tr th {\n",
              "        vertical-align: top;\n",
              "    }\n",
              "\n",
              "    .dataframe thead th {\n",
              "        text-align: right;\n",
              "    }\n",
              "</style>\n",
              "<table border=\"1\" class=\"dataframe\">\n",
              "  <thead>\n",
              "    <tr style=\"text-align: right;\">\n",
              "      <th></th>\n",
              "      <th>survived</th>\n",
              "      <th>pclass</th>\n",
              "      <th>sex</th>\n",
              "      <th>age</th>\n",
              "      <th>sibsp</th>\n",
              "      <th>parch</th>\n",
              "      <th>fare</th>\n",
              "      <th>embarked</th>\n",
              "      <th>class</th>\n",
              "      <th>who</th>\n",
              "      <th>adult_male</th>\n",
              "      <th>deck</th>\n",
              "      <th>embark_town</th>\n",
              "      <th>alive</th>\n",
              "      <th>alone</th>\n",
              "      <th>outlier</th>\n",
              "    </tr>\n",
              "  </thead>\n",
              "  <tbody>\n",
              "    <tr>\n",
              "      <th>679</th>\n",
              "      <td>1</td>\n",
              "      <td>1</td>\n",
              "      <td>male</td>\n",
              "      <td>0.443601</td>\n",
              "      <td>0</td>\n",
              "      <td>1</td>\n",
              "      <td>1.0</td>\n",
              "      <td>C</td>\n",
              "      <td>First</td>\n",
              "      <td>man</td>\n",
              "      <td>True</td>\n",
              "      <td>B</td>\n",
              "      <td>Cherbourg</td>\n",
              "      <td>yes</td>\n",
              "      <td>False</td>\n",
              "      <td>1</td>\n",
              "    </tr>\n",
              "    <tr>\n",
              "      <th>737</th>\n",
              "      <td>1</td>\n",
              "      <td>1</td>\n",
              "      <td>male</td>\n",
              "      <td>0.430956</td>\n",
              "      <td>0</td>\n",
              "      <td>0</td>\n",
              "      <td>1.0</td>\n",
              "      <td>C</td>\n",
              "      <td>First</td>\n",
              "      <td>man</td>\n",
              "      <td>True</td>\n",
              "      <td>B</td>\n",
              "      <td>Cherbourg</td>\n",
              "      <td>yes</td>\n",
              "      <td>True</td>\n",
              "      <td>1</td>\n",
              "    </tr>\n",
              "  </tbody>\n",
              "</table>\n",
              "</div>"
            ],
            "text/plain": [
              "     survived  pclass   sex       age  ...  embark_town  alive  alone outlier\n",
              "679         1       1  male  0.443601  ...    Cherbourg    yes  False       1\n",
              "737         1       1  male  0.430956  ...    Cherbourg    yes   True       1\n",
              "\n",
              "[2 rows x 16 columns]"
            ]
          },
          "metadata": {
            "tags": []
          },
          "execution_count": 51
        }
      ]
    },
    {
      "cell_type": "markdown",
      "metadata": {
        "id": "OJtFOzetNMsj"
      },
      "source": [
        "### Dados originais, sem a transformação MinMaxScaler()\n",
        "* Qual a idade e os valores pagos pelos Outliers?"
      ]
    },
    {
      "cell_type": "code",
      "metadata": {
        "colab": {
          "base_uri": "https://localhost:8080/"
        },
        "id": "3kezWjJDNo_x",
        "outputId": "d445c175-7caa-421e-ef84-2bcd25c6d4bb"
      },
      "source": [
        "df_titanic[['age','fare']].loc[679]"
      ],
      "execution_count": 52,
      "outputs": [
        {
          "output_type": "execute_result",
          "data": {
            "text/plain": [
              "age      36.0000\n",
              "fare    512.3292\n",
              "Name: 679, dtype: float64"
            ]
          },
          "metadata": {
            "tags": []
          },
          "execution_count": 52
        }
      ]
    },
    {
      "cell_type": "code",
      "metadata": {
        "colab": {
          "base_uri": "https://localhost:8080/"
        },
        "id": "B_OwqaJFN_lQ",
        "outputId": "84b39ead-6f0f-4af8-ea4a-fe07b038defd"
      },
      "source": [
        "df_titanic[['age','fare']].loc[737]"
      ],
      "execution_count": 53,
      "outputs": [
        {
          "output_type": "execute_result",
          "data": {
            "text/plain": [
              "age      35.0000\n",
              "fare    512.3292\n",
              "Name: 737, dtype: float64"
            ]
          },
          "metadata": {
            "tags": []
          },
          "execution_count": 53
        }
      ]
    },
    {
      "cell_type": "code",
      "metadata": {
        "id": "Z6hQOYTMOFxs"
      },
      "source": [
        ""
      ],
      "execution_count": null,
      "outputs": []
    },
    {
      "cell_type": "markdown",
      "metadata": {
        "id": "jrlwTulEOPlx"
      },
      "source": [
        ""
      ]
    },
    {
      "cell_type": "markdown",
      "metadata": {
        "id": "39VVHI-EM-5U"
      },
      "source": [
        "### Questões interessantes: Age vs Fare\n",
        "* Qual a idade e valor médio pagos pelos passageiros que não sobreviveram"
      ]
    },
    {
      "cell_type": "code",
      "metadata": {
        "colab": {
          "base_uri": "https://localhost:8080/",
          "height": 235
        },
        "id": "i-mQBfVKOgOV",
        "outputId": "2544eb4b-025f-4b2e-b074-72a7ac584ff7"
      },
      "source": [
        "# Algumas medidas para compararmos\n",
        "df_resumo = df_titanic.groupby(['survived','sex']).agg({'age': ['mean'], 'fare': ['mean']}).round(0)\n",
        "df_resumo"
      ],
      "execution_count": 54,
      "outputs": [
        {
          "output_type": "execute_result",
          "data": {
            "text/html": [
              "<div>\n",
              "<style scoped>\n",
              "    .dataframe tbody tr th:only-of-type {\n",
              "        vertical-align: middle;\n",
              "    }\n",
              "\n",
              "    .dataframe tbody tr th {\n",
              "        vertical-align: top;\n",
              "    }\n",
              "\n",
              "    .dataframe thead tr th {\n",
              "        text-align: left;\n",
              "    }\n",
              "\n",
              "    .dataframe thead tr:last-of-type th {\n",
              "        text-align: right;\n",
              "    }\n",
              "</style>\n",
              "<table border=\"1\" class=\"dataframe\">\n",
              "  <thead>\n",
              "    <tr>\n",
              "      <th></th>\n",
              "      <th></th>\n",
              "      <th>age</th>\n",
              "      <th>fare</th>\n",
              "    </tr>\n",
              "    <tr>\n",
              "      <th></th>\n",
              "      <th></th>\n",
              "      <th>mean</th>\n",
              "      <th>mean</th>\n",
              "    </tr>\n",
              "    <tr>\n",
              "      <th>survived</th>\n",
              "      <th>sex</th>\n",
              "      <th></th>\n",
              "      <th></th>\n",
              "    </tr>\n",
              "  </thead>\n",
              "  <tbody>\n",
              "    <tr>\n",
              "      <th rowspan=\"2\" valign=\"top\">0</th>\n",
              "      <th>female</th>\n",
              "      <td>28.0</td>\n",
              "      <td>61.0</td>\n",
              "    </tr>\n",
              "    <tr>\n",
              "      <th>male</th>\n",
              "      <td>43.0</td>\n",
              "      <td>65.0</td>\n",
              "    </tr>\n",
              "    <tr>\n",
              "      <th rowspan=\"2\" valign=\"top\">1</th>\n",
              "      <th>female</th>\n",
              "      <td>33.0</td>\n",
              "      <td>91.0</td>\n",
              "    </tr>\n",
              "    <tr>\n",
              "      <th>male</th>\n",
              "      <td>33.0</td>\n",
              "      <td>75.0</td>\n",
              "    </tr>\n",
              "  </tbody>\n",
              "</table>\n",
              "</div>"
            ],
            "text/plain": [
              "                  age  fare\n",
              "                 mean  mean\n",
              "survived sex               \n",
              "0        female  28.0  61.0\n",
              "         male    43.0  65.0\n",
              "1        female  33.0  91.0\n",
              "         male    33.0  75.0"
            ]
          },
          "metadata": {
            "tags": []
          },
          "execution_count": 54
        }
      ]
    },
    {
      "cell_type": "code",
      "metadata": {
        "id": "yuv2tsoCW5AF"
      },
      "source": [
        "df_titanic['age_cat'] = pd.cut(df_titanic['age'], bins = [10, 20, 30, 40, 50, 60, 70, 80, 90])"
      ],
      "execution_count": 55,
      "outputs": []
    },
    {
      "cell_type": "code",
      "metadata": {
        "colab": {
          "base_uri": "https://localhost:8080/",
          "height": 204
        },
        "id": "d_w7GXUWXaM1",
        "outputId": "35fbf4a4-4778-4b36-ec86-2d57fb195cdf"
      },
      "source": [
        "df_titanic.head()"
      ],
      "execution_count": 56,
      "outputs": [
        {
          "output_type": "execute_result",
          "data": {
            "text/html": [
              "<div>\n",
              "<style scoped>\n",
              "    .dataframe tbody tr th:only-of-type {\n",
              "        vertical-align: middle;\n",
              "    }\n",
              "\n",
              "    .dataframe tbody tr th {\n",
              "        vertical-align: top;\n",
              "    }\n",
              "\n",
              "    .dataframe thead th {\n",
              "        text-align: right;\n",
              "    }\n",
              "</style>\n",
              "<table border=\"1\" class=\"dataframe\">\n",
              "  <thead>\n",
              "    <tr style=\"text-align: right;\">\n",
              "      <th></th>\n",
              "      <th>survived</th>\n",
              "      <th>pclass</th>\n",
              "      <th>sex</th>\n",
              "      <th>age</th>\n",
              "      <th>sibsp</th>\n",
              "      <th>parch</th>\n",
              "      <th>fare</th>\n",
              "      <th>embarked</th>\n",
              "      <th>class</th>\n",
              "      <th>who</th>\n",
              "      <th>adult_male</th>\n",
              "      <th>deck</th>\n",
              "      <th>embark_town</th>\n",
              "      <th>alive</th>\n",
              "      <th>alone</th>\n",
              "      <th>age_cat</th>\n",
              "    </tr>\n",
              "  </thead>\n",
              "  <tbody>\n",
              "    <tr>\n",
              "      <th>1</th>\n",
              "      <td>1</td>\n",
              "      <td>1</td>\n",
              "      <td>female</td>\n",
              "      <td>38.0</td>\n",
              "      <td>1</td>\n",
              "      <td>0</td>\n",
              "      <td>71.2833</td>\n",
              "      <td>C</td>\n",
              "      <td>First</td>\n",
              "      <td>woman</td>\n",
              "      <td>False</td>\n",
              "      <td>C</td>\n",
              "      <td>Cherbourg</td>\n",
              "      <td>yes</td>\n",
              "      <td>False</td>\n",
              "      <td>(30.0, 40.0]</td>\n",
              "    </tr>\n",
              "    <tr>\n",
              "      <th>3</th>\n",
              "      <td>1</td>\n",
              "      <td>1</td>\n",
              "      <td>female</td>\n",
              "      <td>35.0</td>\n",
              "      <td>1</td>\n",
              "      <td>0</td>\n",
              "      <td>53.1000</td>\n",
              "      <td>S</td>\n",
              "      <td>First</td>\n",
              "      <td>woman</td>\n",
              "      <td>False</td>\n",
              "      <td>C</td>\n",
              "      <td>Southampton</td>\n",
              "      <td>yes</td>\n",
              "      <td>False</td>\n",
              "      <td>(30.0, 40.0]</td>\n",
              "    </tr>\n",
              "    <tr>\n",
              "      <th>6</th>\n",
              "      <td>0</td>\n",
              "      <td>1</td>\n",
              "      <td>male</td>\n",
              "      <td>54.0</td>\n",
              "      <td>0</td>\n",
              "      <td>0</td>\n",
              "      <td>51.8625</td>\n",
              "      <td>S</td>\n",
              "      <td>First</td>\n",
              "      <td>man</td>\n",
              "      <td>True</td>\n",
              "      <td>E</td>\n",
              "      <td>Southampton</td>\n",
              "      <td>no</td>\n",
              "      <td>True</td>\n",
              "      <td>(50.0, 60.0]</td>\n",
              "    </tr>\n",
              "    <tr>\n",
              "      <th>10</th>\n",
              "      <td>1</td>\n",
              "      <td>3</td>\n",
              "      <td>female</td>\n",
              "      <td>4.0</td>\n",
              "      <td>1</td>\n",
              "      <td>1</td>\n",
              "      <td>16.7000</td>\n",
              "      <td>S</td>\n",
              "      <td>Third</td>\n",
              "      <td>child</td>\n",
              "      <td>False</td>\n",
              "      <td>G</td>\n",
              "      <td>Southampton</td>\n",
              "      <td>yes</td>\n",
              "      <td>False</td>\n",
              "      <td>NaN</td>\n",
              "    </tr>\n",
              "    <tr>\n",
              "      <th>11</th>\n",
              "      <td>1</td>\n",
              "      <td>1</td>\n",
              "      <td>female</td>\n",
              "      <td>58.0</td>\n",
              "      <td>0</td>\n",
              "      <td>0</td>\n",
              "      <td>26.5500</td>\n",
              "      <td>S</td>\n",
              "      <td>First</td>\n",
              "      <td>woman</td>\n",
              "      <td>False</td>\n",
              "      <td>C</td>\n",
              "      <td>Southampton</td>\n",
              "      <td>yes</td>\n",
              "      <td>True</td>\n",
              "      <td>(50.0, 60.0]</td>\n",
              "    </tr>\n",
              "  </tbody>\n",
              "</table>\n",
              "</div>"
            ],
            "text/plain": [
              "    survived  pclass     sex   age  ...  embark_town  alive  alone       age_cat\n",
              "1          1       1  female  38.0  ...    Cherbourg    yes  False  (30.0, 40.0]\n",
              "3          1       1  female  35.0  ...  Southampton    yes  False  (30.0, 40.0]\n",
              "6          0       1    male  54.0  ...  Southampton     no   True  (50.0, 60.0]\n",
              "10         1       3  female   4.0  ...  Southampton    yes  False           NaN\n",
              "11         1       1  female  58.0  ...  Southampton    yes   True  (50.0, 60.0]\n",
              "\n",
              "[5 rows x 16 columns]"
            ]
          },
          "metadata": {
            "tags": []
          },
          "execution_count": 56
        }
      ]
    },
    {
      "cell_type": "code",
      "metadata": {
        "colab": {
          "base_uri": "https://localhost:8080/",
          "height": 466
        },
        "id": "RB4Ayxa3XvOm",
        "outputId": "7a976cf0-9e64-4009-bd6a-e427388a6153"
      },
      "source": [
        "sns.boxplot(x='age_cat', y = 'fare', data = df_titanic)"
      ],
      "execution_count": 57,
      "outputs": [
        {
          "output_type": "execute_result",
          "data": {
            "text/plain": [
              "<matplotlib.axes._subplots.AxesSubplot at 0x7f100db63240>"
            ]
          },
          "metadata": {
            "tags": []
          },
          "execution_count": 57
        },
        {
          "output_type": "display_data",
          "data": {
            "image/png": "[encoded data removed]",
            "text/plain": [
              "<Figure size 640x480 with 1 Axes>"
            ]
          },
          "metadata": {
            "tags": []
          }
        }
      ]
    },
    {
      "cell_type": "code",
      "metadata": {
        "colab": {
          "base_uri": "https://localhost:8080/",
          "height": 1000
        },
        "id": "D7mGszJJZjHj",
        "outputId": "63b83fd3-3778-4859-fe06-10ae126ed28c"
      },
      "source": [
        "# Algumas medidas para compararmos\n",
        "df_resumo = df_titanic.groupby(['survived','sex','age_cat']).agg({'age': ['mean'], 'fare': ['mean']}).round(0)\n",
        "df_resumo"
      ],
      "execution_count": 58,
      "outputs": [
        {
          "output_type": "execute_result",
          "data": {
            "text/html": [
              "<div>\n",
              "<style scoped>\n",
              "    .dataframe tbody tr th:only-of-type {\n",
              "        vertical-align: middle;\n",
              "    }\n",
              "\n",
              "    .dataframe tbody tr th {\n",
              "        vertical-align: top;\n",
              "    }\n",
              "\n",
              "    .dataframe thead tr th {\n",
              "        text-align: left;\n",
              "    }\n",
              "\n",
              "    .dataframe thead tr:last-of-type th {\n",
              "        text-align: right;\n",
              "    }\n",
              "</style>\n",
              "<table border=\"1\" class=\"dataframe\">\n",
              "  <thead>\n",
              "    <tr>\n",
              "      <th></th>\n",
              "      <th></th>\n",
              "      <th></th>\n",
              "      <th>age</th>\n",
              "      <th>fare</th>\n",
              "    </tr>\n",
              "    <tr>\n",
              "      <th></th>\n",
              "      <th></th>\n",
              "      <th></th>\n",
              "      <th>mean</th>\n",
              "      <th>mean</th>\n",
              "    </tr>\n",
              "    <tr>\n",
              "      <th>survived</th>\n",
              "      <th>sex</th>\n",
              "      <th>age_cat</th>\n",
              "      <th></th>\n",
              "      <th></th>\n",
              "    </tr>\n",
              "  </thead>\n",
              "  <tbody>\n",
              "    <tr>\n",
              "      <th rowspan=\"16\" valign=\"top\">0</th>\n",
              "      <th rowspan=\"8\" valign=\"top\">female</th>\n",
              "      <th>(10, 20]</th>\n",
              "      <td>NaN</td>\n",
              "      <td>NaN</td>\n",
              "    </tr>\n",
              "    <tr>\n",
              "      <th>(20, 30]</th>\n",
              "      <td>27.0</td>\n",
              "      <td>81.0</td>\n",
              "    </tr>\n",
              "    <tr>\n",
              "      <th>(30, 40]</th>\n",
              "      <td>NaN</td>\n",
              "      <td>NaN</td>\n",
              "    </tr>\n",
              "    <tr>\n",
              "      <th>(40, 50]</th>\n",
              "      <td>50.0</td>\n",
              "      <td>29.0</td>\n",
              "    </tr>\n",
              "    <tr>\n",
              "      <th>(50, 60]</th>\n",
              "      <td>57.0</td>\n",
              "      <td>10.0</td>\n",
              "    </tr>\n",
              "    <tr>\n",
              "      <th>(60, 70]</th>\n",
              "      <td>NaN</td>\n",
              "      <td>NaN</td>\n",
              "    </tr>\n",
              "    <tr>\n",
              "      <th>(70, 80]</th>\n",
              "      <td>NaN</td>\n",
              "      <td>NaN</td>\n",
              "    </tr>\n",
              "    <tr>\n",
              "      <th>(80, 90]</th>\n",
              "      <td>NaN</td>\n",
              "      <td>NaN</td>\n",
              "    </tr>\n",
              "    <tr>\n",
              "      <th rowspan=\"8\" valign=\"top\">male</th>\n",
              "      <th>(10, 20]</th>\n",
              "      <td>19.0</td>\n",
              "      <td>108.0</td>\n",
              "    </tr>\n",
              "    <tr>\n",
              "      <th>(20, 30]</th>\n",
              "      <td>26.0</td>\n",
              "      <td>93.0</td>\n",
              "    </tr>\n",
              "    <tr>\n",
              "      <th>(30, 40]</th>\n",
              "      <td>36.0</td>\n",
              "      <td>42.0</td>\n",
              "    </tr>\n",
              "    <tr>\n",
              "      <th>(40, 50]</th>\n",
              "      <td>46.0</td>\n",
              "      <td>57.0</td>\n",
              "    </tr>\n",
              "    <tr>\n",
              "      <th>(50, 60]</th>\n",
              "      <td>55.0</td>\n",
              "      <td>59.0</td>\n",
              "    </tr>\n",
              "    <tr>\n",
              "      <th>(60, 70]</th>\n",
              "      <td>64.0</td>\n",
              "      <td>74.0</td>\n",
              "    </tr>\n",
              "    <tr>\n",
              "      <th>(70, 80]</th>\n",
              "      <td>71.0</td>\n",
              "      <td>35.0</td>\n",
              "    </tr>\n",
              "    <tr>\n",
              "      <th>(80, 90]</th>\n",
              "      <td>NaN</td>\n",
              "      <td>NaN</td>\n",
              "    </tr>\n",
              "    <tr>\n",
              "      <th rowspan=\"16\" valign=\"top\">1</th>\n",
              "      <th rowspan=\"8\" valign=\"top\">female</th>\n",
              "      <th>(10, 20]</th>\n",
              "      <td>17.0</td>\n",
              "      <td>108.0</td>\n",
              "    </tr>\n",
              "    <tr>\n",
              "      <th>(20, 30]</th>\n",
              "      <td>25.0</td>\n",
              "      <td>89.0</td>\n",
              "    </tr>\n",
              "    <tr>\n",
              "      <th>(30, 40]</th>\n",
              "      <td>36.0</td>\n",
              "      <td>93.0</td>\n",
              "    </tr>\n",
              "    <tr>\n",
              "      <th>(40, 50]</th>\n",
              "      <td>46.0</td>\n",
              "      <td>90.0</td>\n",
              "    </tr>\n",
              "    <tr>\n",
              "      <th>(50, 60]</th>\n",
              "      <td>55.0</td>\n",
              "      <td>86.0</td>\n",
              "    </tr>\n",
              "    <tr>\n",
              "      <th>(60, 70]</th>\n",
              "      <td>63.0</td>\n",
              "      <td>78.0</td>\n",
              "    </tr>\n",
              "    <tr>\n",
              "      <th>(70, 80]</th>\n",
              "      <td>NaN</td>\n",
              "      <td>NaN</td>\n",
              "    </tr>\n",
              "    <tr>\n",
              "      <th>(80, 90]</th>\n",
              "      <td>NaN</td>\n",
              "      <td>NaN</td>\n",
              "    </tr>\n",
              "    <tr>\n",
              "      <th rowspan=\"8\" valign=\"top\">male</th>\n",
              "      <th>(10, 20]</th>\n",
              "      <td>14.0</td>\n",
              "      <td>115.0</td>\n",
              "    </tr>\n",
              "    <tr>\n",
              "      <th>(20, 30]</th>\n",
              "      <td>26.0</td>\n",
              "      <td>54.0</td>\n",
              "    </tr>\n",
              "    <tr>\n",
              "      <th>(30, 40]</th>\n",
              "      <td>35.0</td>\n",
              "      <td>116.0</td>\n",
              "    </tr>\n",
              "    <tr>\n",
              "      <th>(40, 50]</th>\n",
              "      <td>47.0</td>\n",
              "      <td>54.0</td>\n",
              "    </tr>\n",
              "    <tr>\n",
              "      <th>(50, 60]</th>\n",
              "      <td>55.0</td>\n",
              "      <td>43.0</td>\n",
              "    </tr>\n",
              "    <tr>\n",
              "      <th>(60, 70]</th>\n",
              "      <td>NaN</td>\n",
              "      <td>NaN</td>\n",
              "    </tr>\n",
              "    <tr>\n",
              "      <th>(70, 80]</th>\n",
              "      <td>80.0</td>\n",
              "      <td>30.0</td>\n",
              "    </tr>\n",
              "    <tr>\n",
              "      <th>(80, 90]</th>\n",
              "      <td>NaN</td>\n",
              "      <td>NaN</td>\n",
              "    </tr>\n",
              "  </tbody>\n",
              "</table>\n",
              "</div>"
            ],
            "text/plain": [
              "                           age   fare\n",
              "                          mean   mean\n",
              "survived sex    age_cat              \n",
              "0        female (10, 20]   NaN    NaN\n",
              "                (20, 30]  27.0   81.0\n",
              "                (30, 40]   NaN    NaN\n",
              "                (40, 50]  50.0   29.0\n",
              "                (50, 60]  57.0   10.0\n",
              "                (60, 70]   NaN    NaN\n",
              "                (70, 80]   NaN    NaN\n",
              "                (80, 90]   NaN    NaN\n",
              "         male   (10, 20]  19.0  108.0\n",
              "                (20, 30]  26.0   93.0\n",
              "                (30, 40]  36.0   42.0\n",
              "                (40, 50]  46.0   57.0\n",
              "                (50, 60]  55.0   59.0\n",
              "                (60, 70]  64.0   74.0\n",
              "                (70, 80]  71.0   35.0\n",
              "                (80, 90]   NaN    NaN\n",
              "1        female (10, 20]  17.0  108.0\n",
              "                (20, 30]  25.0   89.0\n",
              "                (30, 40]  36.0   93.0\n",
              "                (40, 50]  46.0   90.0\n",
              "                (50, 60]  55.0   86.0\n",
              "                (60, 70]  63.0   78.0\n",
              "                (70, 80]   NaN    NaN\n",
              "                (80, 90]   NaN    NaN\n",
              "         male   (10, 20]  14.0  115.0\n",
              "                (20, 30]  26.0   54.0\n",
              "                (30, 40]  35.0  116.0\n",
              "                (40, 50]  47.0   54.0\n",
              "                (50, 60]  55.0   43.0\n",
              "                (60, 70]   NaN    NaN\n",
              "                (70, 80]  80.0   30.0\n",
              "                (80, 90]   NaN    NaN"
            ]
          },
          "metadata": {
            "tags": []
          },
          "execution_count": 58
        }
      ]
    },
    {
      "cell_type": "code",
      "metadata": {
        "id": "HIRxOj93nVXu",
        "colab": {
          "base_uri": "https://localhost:8080/"
        },
        "outputId": "6c4110c2-9787-4d34-b789-d13ac52c097f"
      },
      "source": [
        "# Zoom na linha 679\n",
        "df_titanic.loc[679]"
      ],
      "execution_count": 59,
      "outputs": [
        {
          "output_type": "execute_result",
          "data": {
            "text/plain": [
              "survived               1\n",
              "pclass                 1\n",
              "sex                 male\n",
              "age                   36\n",
              "sibsp                  0\n",
              "parch                  1\n",
              "fare             512.329\n",
              "embarked               C\n",
              "class              First\n",
              "who                  man\n",
              "adult_male          True\n",
              "deck                   B\n",
              "embark_town    Cherbourg\n",
              "alive                yes\n",
              "alone              False\n",
              "age_cat         (30, 40]\n",
              "Name: 679, dtype: object"
            ]
          },
          "metadata": {
            "tags": []
          },
          "execution_count": 59
        }
      ]
    },
    {
      "cell_type": "code",
      "metadata": {
        "id": "euxK-4K1oKs0",
        "colab": {
          "base_uri": "https://localhost:8080/",
          "height": 173
        },
        "outputId": "f7631f9e-4b1b-4fb3-c731-85dd95d645c5"
      },
      "source": [
        "# Algumas medidas para compararmos\n",
        "df_resumo = df_titanic.groupby('sex').agg({'age': ['mean'], 'fare': ['mean']}).round(0)\n",
        "df_resumo"
      ],
      "execution_count": 60,
      "outputs": [
        {
          "output_type": "execute_result",
          "data": {
            "text/html": [
              "<div>\n",
              "<style scoped>\n",
              "    .dataframe tbody tr th:only-of-type {\n",
              "        vertical-align: middle;\n",
              "    }\n",
              "\n",
              "    .dataframe tbody tr th {\n",
              "        vertical-align: top;\n",
              "    }\n",
              "\n",
              "    .dataframe thead tr th {\n",
              "        text-align: left;\n",
              "    }\n",
              "\n",
              "    .dataframe thead tr:last-of-type th {\n",
              "        text-align: right;\n",
              "    }\n",
              "</style>\n",
              "<table border=\"1\" class=\"dataframe\">\n",
              "  <thead>\n",
              "    <tr>\n",
              "      <th></th>\n",
              "      <th>age</th>\n",
              "      <th>fare</th>\n",
              "    </tr>\n",
              "    <tr>\n",
              "      <th></th>\n",
              "      <th>mean</th>\n",
              "      <th>mean</th>\n",
              "    </tr>\n",
              "    <tr>\n",
              "      <th>sex</th>\n",
              "      <th></th>\n",
              "      <th></th>\n",
              "    </tr>\n",
              "  </thead>\n",
              "  <tbody>\n",
              "    <tr>\n",
              "      <th>female</th>\n",
              "      <td>33.0</td>\n",
              "      <td>89.0</td>\n",
              "    </tr>\n",
              "    <tr>\n",
              "      <th>male</th>\n",
              "      <td>38.0</td>\n",
              "      <td>69.0</td>\n",
              "    </tr>\n",
              "  </tbody>\n",
              "</table>\n",
              "</div>"
            ],
            "text/plain": [
              "         age  fare\n",
              "        mean  mean\n",
              "sex               \n",
              "female  33.0  89.0\n",
              "male    38.0  69.0"
            ]
          },
          "metadata": {
            "tags": []
          },
          "execution_count": 60
        }
      ]
    },
    {
      "cell_type": "code",
      "metadata": {
        "id": "nuNxqgWMtMHC",
        "colab": {
          "base_uri": "https://localhost:8080/"
        },
        "outputId": "f65fbc6a-b11b-491b-fa5c-61ba74bbfb50"
      },
      "source": [
        "# Média Geral de 'age'\n",
        "round(df_titanic['age'].mean())"
      ],
      "execution_count": 61,
      "outputs": [
        {
          "output_type": "execute_result",
          "data": {
            "text/plain": [
              "36"
            ]
          },
          "metadata": {
            "tags": []
          },
          "execution_count": 61
        }
      ]
    },
    {
      "cell_type": "code",
      "metadata": {
        "id": "bLIZcvyuuU2R",
        "colab": {
          "base_uri": "https://localhost:8080/"
        },
        "outputId": "2a5574ce-d26e-487c-ad83-16e76bc1089b"
      },
      "source": [
        "# Média Geral de 'fare'\n",
        "round(df_titanic['fare'].mean())"
      ],
      "execution_count": 62,
      "outputs": [
        {
          "output_type": "execute_result",
          "data": {
            "text/plain": [
              "79"
            ]
          },
          "metadata": {
            "tags": []
          },
          "execution_count": 62
        }
      ]
    },
    {
      "cell_type": "markdown",
      "metadata": {
        "id": "fFd-D1HTVhE7"
      },
      "source": [
        "___\n",
        "## **HBOS - Histogram-based Outlier Detection**"
      ]
    },
    {
      "cell_type": "code",
      "metadata": {
        "id": "Q5Hh5iMEXuhM",
        "colab": {
          "base_uri": "https://localhost:8080/",
          "height": 755
        },
        "outputId": "503bf0a7-5637-426f-ace9-34f5047683e0"
      },
      "source": [
        "outliers_fraction = 0.01\n",
        "xx , yy = np.meshgrid(np.linspace(0, 1, 100), np.linspace(0, 1, 100))\n",
        "clf = HBOS(contamination = outliers_fraction)\n",
        "clf.fit(X)\n",
        "# predict raw anomaly score\n",
        "scores_pred = clf.decision_function(X) * -1\n",
        "        \n",
        "# prediction of a datapoint category outlier or inlier\n",
        "y_pred = clf.predict(X)\n",
        "n_inliers = len(y_pred) - np.count_nonzero(y_pred)\n",
        "n_outliers = np.count_nonzero(y_pred == 1)\n",
        "plt.figure(figsize = (8, 8))\n",
        "# copy of dataframe\n",
        "df1 = df_titanic_ss\n",
        "df1['outlier'] = y_pred.tolist()\n",
        "    \n",
        "inliers_fare = np.array(df1['fare'][df1['outlier'] == 0]).reshape(-1, 1)\n",
        "inliers_age = np.array(df1['age'][df1['outlier'] == 0]).reshape(-1, 1)\n",
        "    \n",
        "outliers_fare = df1['fare'][df1['outlier'] == 1].values.reshape(-1, 1)\n",
        "outliers_age = df1['age'][df1['outlier'] == 1].values.reshape(-1, 1)\n",
        "         \n",
        "print('OUTLIERS:', n_outliers, 'INLIERS:', n_inliers)\n",
        "        \n",
        "# threshold define se um ponto será outlier ou inlier\n",
        "threshold = percentile(scores_pred, 100 * outliers_fraction)\n",
        "        \n",
        "# Calcula o Anomaly score\n",
        "Z = clf.decision_function(np.c_[xx.ravel(), yy.ravel()]) * -1\n",
        "Z = Z.reshape(xx.shape)\n",
        "\n",
        "# Define a região azul tal que min(Anomaly score) < threshold\n",
        "plt.contourf(xx, yy, Z, levels = np.linspace(Z.min(), threshold, 7), cmap = plt.cm.Blues_r)\n",
        "        \n",
        "# Desenha a linha a partir do queal Anomaly score = thresold\n",
        "a = plt.contour(xx, yy, Z, levels = [threshold], linewidths = 2, colors = 'red')\n",
        "        \n",
        "# Define a região laranja a partir do qual threshold < Anomaly score < max(Anomaly score)\n",
        "plt.contourf(xx, yy, Z, levels = [threshold, Z.max()],colors='orange')\n",
        "b = plt.scatter(inliers_fare, inliers_age, c='white',s=20, edgecolor='k')\n",
        "    \n",
        "c = plt.scatter(outliers_fare, outliers_age, c='black',s=20, edgecolor='k')\n",
        "       \n",
        "plt.axis('tight')  \n",
        "     \n",
        "plt.legend([a.collections[0], b, c], ['learned decision function', 'inliers', 'outliers'],\n",
        "           prop=matplotlib.font_manager.FontProperties(size = 10), loc ='upper center', frameon = False, bbox_to_anchor = (0.5, -0.05),\n",
        "          fancybox = True, shadow = True, ncol = 5)\n",
        "      \n",
        "plt.xlim((0, 1))\n",
        "plt.ylim((0, 1))\n",
        "plt.title('Histogram-base Outlier Detection (HBOS)')\n",
        "plt.show();"
      ],
      "execution_count": 63,
      "outputs": [
        {
          "output_type": "stream",
          "text": [
            "OUTLIERS: 2 INLIERS: 180\n"
          ],
          "name": "stdout"
        },
        {
          "output_type": "display_data",
          "data": {
            "image/png": "[encoded data removed]",
            "text/plain": [
              "<Figure size 800x800 with 1 Axes>"
            ]
          },
          "metadata": {
            "tags": []
          }
        }
      ]
    },
    {
      "cell_type": "code",
      "metadata": {
        "id": "gHRoON0BnLVb",
        "colab": {
          "base_uri": "https://localhost:8080/",
          "height": 111
        },
        "outputId": "e4ad2ae1-5dc3-403b-cf0e-5621a1c11681"
      },
      "source": [
        "# Zoom em alguns outliers...\n",
        "df1.loc[df1['outlier'] == 1].head()"
      ],
      "execution_count": 64,
      "outputs": [
        {
          "output_type": "execute_result",
          "data": {
            "text/html": [
              "<div>\n",
              "<style scoped>\n",
              "    .dataframe tbody tr th:only-of-type {\n",
              "        vertical-align: middle;\n",
              "    }\n",
              "\n",
              "    .dataframe tbody tr th {\n",
              "        vertical-align: top;\n",
              "    }\n",
              "\n",
              "    .dataframe thead th {\n",
              "        text-align: right;\n",
              "    }\n",
              "</style>\n",
              "<table border=\"1\" class=\"dataframe\">\n",
              "  <thead>\n",
              "    <tr style=\"text-align: right;\">\n",
              "      <th></th>\n",
              "      <th>survived</th>\n",
              "      <th>pclass</th>\n",
              "      <th>sex</th>\n",
              "      <th>age</th>\n",
              "      <th>sibsp</th>\n",
              "      <th>parch</th>\n",
              "      <th>fare</th>\n",
              "      <th>embarked</th>\n",
              "      <th>class</th>\n",
              "      <th>who</th>\n",
              "      <th>adult_male</th>\n",
              "      <th>deck</th>\n",
              "      <th>embark_town</th>\n",
              "      <th>alive</th>\n",
              "      <th>alone</th>\n",
              "      <th>outlier</th>\n",
              "    </tr>\n",
              "  </thead>\n",
              "  <tbody>\n",
              "    <tr>\n",
              "      <th>318</th>\n",
              "      <td>1</td>\n",
              "      <td>1</td>\n",
              "      <td>female</td>\n",
              "      <td>0.380374</td>\n",
              "      <td>0</td>\n",
              "      <td>2</td>\n",
              "      <td>0.321798</td>\n",
              "      <td>S</td>\n",
              "      <td>First</td>\n",
              "      <td>woman</td>\n",
              "      <td>False</td>\n",
              "      <td>C</td>\n",
              "      <td>Southampton</td>\n",
              "      <td>yes</td>\n",
              "      <td>False</td>\n",
              "      <td>1</td>\n",
              "    </tr>\n",
              "    <tr>\n",
              "      <th>689</th>\n",
              "      <td>1</td>\n",
              "      <td>1</td>\n",
              "      <td>female</td>\n",
              "      <td>0.178048</td>\n",
              "      <td>0</td>\n",
              "      <td>1</td>\n",
              "      <td>0.412503</td>\n",
              "      <td>S</td>\n",
              "      <td>First</td>\n",
              "      <td>child</td>\n",
              "      <td>False</td>\n",
              "      <td>B</td>\n",
              "      <td>Southampton</td>\n",
              "      <td>yes</td>\n",
              "      <td>False</td>\n",
              "      <td>1</td>\n",
              "    </tr>\n",
              "  </tbody>\n",
              "</table>\n",
              "</div>"
            ],
            "text/plain": [
              "     survived  pclass     sex       age  ...  embark_town  alive  alone outlier\n",
              "318         1       1  female  0.380374  ...  Southampton    yes  False       1\n",
              "689         1       1  female  0.178048  ...  Southampton    yes  False       1\n",
              "\n",
              "[2 rows x 16 columns]"
            ]
          },
          "metadata": {
            "tags": []
          },
          "execution_count": 64
        }
      ]
    },
    {
      "cell_type": "code",
      "metadata": {
        "id": "YblU2tnxnXi7",
        "colab": {
          "base_uri": "https://localhost:8080/"
        },
        "outputId": "55d7e9a6-c208-4025-cbaa-36c5baffca94"
      },
      "source": [
        "# Zoom na linha 689\n",
        "df_titanic.loc[689]"
      ],
      "execution_count": 65,
      "outputs": [
        {
          "output_type": "execute_result",
          "data": {
            "text/plain": [
              "survived                 1\n",
              "pclass                   1\n",
              "sex                 female\n",
              "age                     15\n",
              "sibsp                    0\n",
              "parch                    1\n",
              "fare               211.338\n",
              "embarked                 S\n",
              "class                First\n",
              "who                  child\n",
              "adult_male           False\n",
              "deck                     B\n",
              "embark_town    Southampton\n",
              "alive                  yes\n",
              "alone                False\n",
              "age_cat           (10, 20]\n",
              "Name: 689, dtype: object"
            ]
          },
          "metadata": {
            "tags": []
          },
          "execution_count": 65
        }
      ]
    },
    {
      "cell_type": "code",
      "metadata": {
        "colab": {
          "base_uri": "https://localhost:8080/"
        },
        "id": "GiYt5FPNbx54",
        "outputId": "cb2d1b99-99dc-44c4-cf2a-8240b4de1c83"
      },
      "source": [
        "# Zoom na linha 689\n",
        "df_titanic[['age','fare','survived']].loc[689]"
      ],
      "execution_count": 66,
      "outputs": [
        {
          "output_type": "execute_result",
          "data": {
            "text/plain": [
              "age          15.0000\n",
              "fare        211.3375\n",
              "survived      1.0000\n",
              "Name: 689, dtype: float64"
            ]
          },
          "metadata": {
            "tags": []
          },
          "execution_count": 66
        }
      ]
    },
    {
      "cell_type": "code",
      "metadata": {
        "colab": {
          "base_uri": "https://localhost:8080/"
        },
        "id": "65PVOmwOcJnx",
        "outputId": "3bedc71d-51ea-4fbf-f990-16fbc575b2a8"
      },
      "source": [
        "# Zoom na linha 318\n",
        "df_titanic.loc[318]"
      ],
      "execution_count": 67,
      "outputs": [
        {
          "output_type": "execute_result",
          "data": {
            "text/plain": [
              "survived                 1\n",
              "pclass                   1\n",
              "sex                 female\n",
              "age                     31\n",
              "sibsp                    0\n",
              "parch                    2\n",
              "fare               164.867\n",
              "embarked                 S\n",
              "class                First\n",
              "who                  woman\n",
              "adult_male           False\n",
              "deck                     C\n",
              "embark_town    Southampton\n",
              "alive                  yes\n",
              "alone                False\n",
              "age_cat           (30, 40]\n",
              "Name: 318, dtype: object"
            ]
          },
          "metadata": {
            "tags": []
          },
          "execution_count": 67
        }
      ]
    },
    {
      "cell_type": "code",
      "metadata": {
        "colab": {
          "base_uri": "https://localhost:8080/"
        },
        "id": "bye79Zb5cJ7B",
        "outputId": "627b1a60-f5c9-4e69-9db5-14153da5f38f"
      },
      "source": [
        "# Zoom na linha 318\n",
        "df_titanic[['age','fare','survived']].loc[318]"
      ],
      "execution_count": 68,
      "outputs": [
        {
          "output_type": "execute_result",
          "data": {
            "text/plain": [
              "age          31.0000\n",
              "fare        164.8667\n",
              "survived      1.0000\n",
              "Name: 318, dtype: float64"
            ]
          },
          "metadata": {
            "tags": []
          },
          "execution_count": 68
        }
      ]
    },
    {
      "cell_type": "code",
      "metadata": {
        "id": "w1_Zq6gBcKPp"
      },
      "source": [
        ""
      ],
      "execution_count": null,
      "outputs": []
    },
    {
      "cell_type": "code",
      "metadata": {
        "id": "AkWj5aQ-uzxB",
        "colab": {
          "base_uri": "https://localhost:8080/",
          "height": 235
        },
        "outputId": "2d387d47-f40c-4562-fc02-241f0f09aa1f"
      },
      "source": [
        "# Algumas medidas para compararmos\n",
        "df_resumo = df_titanic.groupby(['survived','sex']).agg({'age': ['mean'], 'fare': ['mean']}).round(0)\n",
        "df_resumo"
      ],
      "execution_count": 69,
      "outputs": [
        {
          "output_type": "execute_result",
          "data": {
            "text/html": [
              "<div>\n",
              "<style scoped>\n",
              "    .dataframe tbody tr th:only-of-type {\n",
              "        vertical-align: middle;\n",
              "    }\n",
              "\n",
              "    .dataframe tbody tr th {\n",
              "        vertical-align: top;\n",
              "    }\n",
              "\n",
              "    .dataframe thead tr th {\n",
              "        text-align: left;\n",
              "    }\n",
              "\n",
              "    .dataframe thead tr:last-of-type th {\n",
              "        text-align: right;\n",
              "    }\n",
              "</style>\n",
              "<table border=\"1\" class=\"dataframe\">\n",
              "  <thead>\n",
              "    <tr>\n",
              "      <th></th>\n",
              "      <th></th>\n",
              "      <th>age</th>\n",
              "      <th>fare</th>\n",
              "    </tr>\n",
              "    <tr>\n",
              "      <th></th>\n",
              "      <th></th>\n",
              "      <th>mean</th>\n",
              "      <th>mean</th>\n",
              "    </tr>\n",
              "    <tr>\n",
              "      <th>survived</th>\n",
              "      <th>sex</th>\n",
              "      <th></th>\n",
              "      <th></th>\n",
              "    </tr>\n",
              "  </thead>\n",
              "  <tbody>\n",
              "    <tr>\n",
              "      <th rowspan=\"2\" valign=\"top\">0</th>\n",
              "      <th>female</th>\n",
              "      <td>28.0</td>\n",
              "      <td>61.0</td>\n",
              "    </tr>\n",
              "    <tr>\n",
              "      <th>male</th>\n",
              "      <td>43.0</td>\n",
              "      <td>65.0</td>\n",
              "    </tr>\n",
              "    <tr>\n",
              "      <th rowspan=\"2\" valign=\"top\">1</th>\n",
              "      <th>female</th>\n",
              "      <td>33.0</td>\n",
              "      <td>91.0</td>\n",
              "    </tr>\n",
              "    <tr>\n",
              "      <th>male</th>\n",
              "      <td>33.0</td>\n",
              "      <td>75.0</td>\n",
              "    </tr>\n",
              "  </tbody>\n",
              "</table>\n",
              "</div>"
            ],
            "text/plain": [
              "                  age  fare\n",
              "                 mean  mean\n",
              "survived sex               \n",
              "0        female  28.0  61.0\n",
              "         male    43.0  65.0\n",
              "1        female  33.0  91.0\n",
              "         male    33.0  75.0"
            ]
          },
          "metadata": {
            "tags": []
          },
          "execution_count": 69
        }
      ]
    },
    {
      "cell_type": "code",
      "metadata": {
        "id": "EVy5NDrFujgD",
        "colab": {
          "base_uri": "https://localhost:8080/"
        },
        "outputId": "f56c451d-1302-44c8-c8a0-149aa1d667c4"
      },
      "source": [
        "# Média Geral de 'age'\n",
        "round(df_titanic['age'].mean())"
      ],
      "execution_count": 70,
      "outputs": [
        {
          "output_type": "execute_result",
          "data": {
            "text/plain": [
              "36"
            ]
          },
          "metadata": {
            "tags": []
          },
          "execution_count": 70
        }
      ]
    },
    {
      "cell_type": "code",
      "metadata": {
        "id": "Hgcp_LU6ujgJ",
        "colab": {
          "base_uri": "https://localhost:8080/"
        },
        "outputId": "0bccc949-6ede-4737-8fdf-db38f2eb6104"
      },
      "source": [
        "# Média Geral de 'fare'\n",
        "round(df_titanic['fare'].mean())"
      ],
      "execution_count": 71,
      "outputs": [
        {
          "output_type": "execute_result",
          "data": {
            "text/plain": [
              "79"
            ]
          },
          "metadata": {
            "tags": []
          },
          "execution_count": 71
        }
      ]
    },
    {
      "cell_type": "markdown",
      "metadata": {
        "id": "KyPUT9JmWeN-"
      },
      "source": [
        "___\n",
        "## **Isolation Forest**"
      ]
    },
    {
      "cell_type": "code",
      "metadata": {
        "id": "Lrx85bG0YOqM",
        "colab": {
          "base_uri": "https://localhost:8080/",
          "height": 755
        },
        "outputId": "92678994-a916-4313-d20c-e6f3294844e0"
      },
      "source": [
        "outliers_fraction = 0.01\n",
        "xx , yy = np.meshgrid(np.linspace(0, 1, 100), np.linspace(0, 1, 100))\n",
        "clf = IForest(contamination = outliers_fraction,random_state = 0)\n",
        "clf.fit(X)\n",
        "# predict raw anomaly score\n",
        "scores_pred = clf.decision_function(X) * -1\n",
        "        \n",
        "# prediction of a datapoint category outlier or inlier\n",
        "y_pred = clf.predict(X)\n",
        "n_inliers = len(y_pred) - np.count_nonzero(y_pred)\n",
        "n_outliers = np.count_nonzero(y_pred == 1)\n",
        "plt.figure(figsize = (8, 8))\n",
        "# copy of dataframe\n",
        "df1 = df_titanic_ss\n",
        "df1['outlier'] = y_pred.tolist()\n",
        "    \n",
        "# fare - inlier feature 1,  age - inlier feature 2\n",
        "inliers_fare = np.array(df1['fare'][df1['outlier'] == 0]).reshape(-1,1)\n",
        "inliers_age = np.array(df1['age'][df1['outlier'] == 0]).reshape(-1,1)\n",
        "    \n",
        "# fare - outlier feature 1, age - outlier feature 2\n",
        "outliers_fare = df1['fare'][df1['outlier'] == 1].values.reshape(-1,1)\n",
        "outliers_age = df1['age'][df1['outlier'] == 1].values.reshape(-1,1)\n",
        "         \n",
        "print('OUTLIERS: ', n_outliers,'INLIERS: ', n_inliers)\n",
        "        \n",
        "# threshold value to consider a datapoint inlier or outlier\n",
        "threshold = percentile(scores_pred, 100 * outliers_fraction)\n",
        "        \n",
        "# decision function calculates the raw anomaly score for every point\n",
        "Z = clf.decision_function(np.c_[xx.ravel(), yy.ravel()]) * -1\n",
        "Z = Z.reshape(xx.shape)\n",
        "# fill blue map colormap from minimum anomaly score to threshold value\n",
        "plt.contourf(xx, yy, Z, levels=np.linspace(Z.min(), threshold, 7),cmap=plt.cm.Blues_r)\n",
        "        \n",
        "# draw red contour line where anomaly score is equal to thresold\n",
        "a = plt.contour(xx, yy, Z, levels= [threshold],linewidths=2, colors='red')\n",
        "        \n",
        "# fill orange contour lines where range of anomaly score is from threshold to maximum anomaly score\n",
        "plt.contourf(xx, yy, Z, levels= [threshold, Z.max()],colors='orange')\n",
        "b = plt.scatter(inliers_fare, inliers_age, c='white',s=20, edgecolor='k')\n",
        "    \n",
        "c = plt.scatter(outliers_fare, outliers_age, c='black',s=20, edgecolor='k')\n",
        "       \n",
        "plt.axis('tight')\n",
        "plt.legend([a.collections[0], b,c], ['learned decision function', 'inliers', 'outliers'],\n",
        "           prop=matplotlib.font_manager.FontProperties(size = 10), loc='upper center', frameon= False, bbox_to_anchor = (0.5, -0.05),\n",
        "          fancybox = True, shadow = True, ncol=5)\n",
        "      \n",
        "plt.xlim((0, 1))\n",
        "plt.ylim((0, 1))\n",
        "plt.title('Isolation Forest')\n",
        "plt.show();"
      ],
      "execution_count": 72,
      "outputs": [
        {
          "output_type": "stream",
          "text": [
            "OUTLIERS:  2 INLIERS:  180\n"
          ],
          "name": "stdout"
        },
        {
          "output_type": "display_data",
          "data": {
            "image/png": "[encoded data removed]",
            "text/plain": [
              "<Figure size 800x800 with 1 Axes>"
            ]
          },
          "metadata": {
            "tags": []
          }
        }
      ]
    },
    {
      "cell_type": "code",
      "metadata": {
        "id": "HLVraGcCnNTA",
        "colab": {
          "base_uri": "https://localhost:8080/",
          "height": 111
        },
        "outputId": "7c0a9427-e847-4fcb-bed5-fb78e2d38f38"
      },
      "source": [
        "# Zoom em alguns outliers...\n",
        "df1.loc[df1['outlier'] == 1].head()"
      ],
      "execution_count": 73,
      "outputs": [
        {
          "output_type": "execute_result",
          "data": {
            "text/html": [
              "<div>\n",
              "<style scoped>\n",
              "    .dataframe tbody tr th:only-of-type {\n",
              "        vertical-align: middle;\n",
              "    }\n",
              "\n",
              "    .dataframe tbody tr th {\n",
              "        vertical-align: top;\n",
              "    }\n",
              "\n",
              "    .dataframe thead th {\n",
              "        text-align: right;\n",
              "    }\n",
              "</style>\n",
              "<table border=\"1\" class=\"dataframe\">\n",
              "  <thead>\n",
              "    <tr style=\"text-align: right;\">\n",
              "      <th></th>\n",
              "      <th>survived</th>\n",
              "      <th>pclass</th>\n",
              "      <th>sex</th>\n",
              "      <th>age</th>\n",
              "      <th>sibsp</th>\n",
              "      <th>parch</th>\n",
              "      <th>fare</th>\n",
              "      <th>embarked</th>\n",
              "      <th>class</th>\n",
              "      <th>who</th>\n",
              "      <th>adult_male</th>\n",
              "      <th>deck</th>\n",
              "      <th>embark_town</th>\n",
              "      <th>alive</th>\n",
              "      <th>alone</th>\n",
              "      <th>outlier</th>\n",
              "    </tr>\n",
              "  </thead>\n",
              "  <tbody>\n",
              "    <tr>\n",
              "      <th>679</th>\n",
              "      <td>1</td>\n",
              "      <td>1</td>\n",
              "      <td>male</td>\n",
              "      <td>0.443601</td>\n",
              "      <td>0</td>\n",
              "      <td>1</td>\n",
              "      <td>1.0</td>\n",
              "      <td>C</td>\n",
              "      <td>First</td>\n",
              "      <td>man</td>\n",
              "      <td>True</td>\n",
              "      <td>B</td>\n",
              "      <td>Cherbourg</td>\n",
              "      <td>yes</td>\n",
              "      <td>False</td>\n",
              "      <td>1</td>\n",
              "    </tr>\n",
              "    <tr>\n",
              "      <th>737</th>\n",
              "      <td>1</td>\n",
              "      <td>1</td>\n",
              "      <td>male</td>\n",
              "      <td>0.430956</td>\n",
              "      <td>0</td>\n",
              "      <td>0</td>\n",
              "      <td>1.0</td>\n",
              "      <td>C</td>\n",
              "      <td>First</td>\n",
              "      <td>man</td>\n",
              "      <td>True</td>\n",
              "      <td>B</td>\n",
              "      <td>Cherbourg</td>\n",
              "      <td>yes</td>\n",
              "      <td>True</td>\n",
              "      <td>1</td>\n",
              "    </tr>\n",
              "  </tbody>\n",
              "</table>\n",
              "</div>"
            ],
            "text/plain": [
              "     survived  pclass   sex       age  ...  embark_town  alive  alone outlier\n",
              "679         1       1  male  0.443601  ...    Cherbourg    yes  False       1\n",
              "737         1       1  male  0.430956  ...    Cherbourg    yes   True       1\n",
              "\n",
              "[2 rows x 16 columns]"
            ]
          },
          "metadata": {
            "tags": []
          },
          "execution_count": 73
        }
      ]
    },
    {
      "cell_type": "markdown",
      "metadata": {
        "id": "1_kBKh8_mlMW"
      },
      "source": [
        "### São os mesmos pontos/observações apontadas pelo CBLOF"
      ]
    },
    {
      "cell_type": "code",
      "metadata": {
        "id": "y0WBmFOonZKY",
        "colab": {
          "base_uri": "https://localhost:8080/"
        },
        "outputId": "a1c68e8e-8d7b-4408-f12f-0a9823a4b54a"
      },
      "source": [
        "# Zoom na linha 679\n",
        "df_titanic.loc[679]"
      ],
      "execution_count": 74,
      "outputs": [
        {
          "output_type": "execute_result",
          "data": {
            "text/plain": [
              "survived               1\n",
              "pclass                 1\n",
              "sex                 male\n",
              "age                   36\n",
              "sibsp                  0\n",
              "parch                  1\n",
              "fare             512.329\n",
              "embarked               C\n",
              "class              First\n",
              "who                  man\n",
              "adult_male          True\n",
              "deck                   B\n",
              "embark_town    Cherbourg\n",
              "alive                yes\n",
              "alone              False\n",
              "age_cat         (30, 40]\n",
              "Name: 679, dtype: object"
            ]
          },
          "metadata": {
            "tags": []
          },
          "execution_count": 74
        }
      ]
    },
    {
      "cell_type": "code",
      "metadata": {
        "id": "auSy5b6Du3PH",
        "colab": {
          "base_uri": "https://localhost:8080/",
          "height": 173
        },
        "outputId": "e96aee76-a260-4588-9c17-be395a283aa6"
      },
      "source": [
        "# Algumas medidas para compararmos\n",
        "df_resumo = df_titanic.groupby('sex').agg({'age': ['mean'], 'fare': ['mean']}).round(0)\n",
        "df_resumo"
      ],
      "execution_count": 75,
      "outputs": [
        {
          "output_type": "execute_result",
          "data": {
            "text/html": [
              "<div>\n",
              "<style scoped>\n",
              "    .dataframe tbody tr th:only-of-type {\n",
              "        vertical-align: middle;\n",
              "    }\n",
              "\n",
              "    .dataframe tbody tr th {\n",
              "        vertical-align: top;\n",
              "    }\n",
              "\n",
              "    .dataframe thead tr th {\n",
              "        text-align: left;\n",
              "    }\n",
              "\n",
              "    .dataframe thead tr:last-of-type th {\n",
              "        text-align: right;\n",
              "    }\n",
              "</style>\n",
              "<table border=\"1\" class=\"dataframe\">\n",
              "  <thead>\n",
              "    <tr>\n",
              "      <th></th>\n",
              "      <th>age</th>\n",
              "      <th>fare</th>\n",
              "    </tr>\n",
              "    <tr>\n",
              "      <th></th>\n",
              "      <th>mean</th>\n",
              "      <th>mean</th>\n",
              "    </tr>\n",
              "    <tr>\n",
              "      <th>sex</th>\n",
              "      <th></th>\n",
              "      <th></th>\n",
              "    </tr>\n",
              "  </thead>\n",
              "  <tbody>\n",
              "    <tr>\n",
              "      <th>female</th>\n",
              "      <td>33.0</td>\n",
              "      <td>89.0</td>\n",
              "    </tr>\n",
              "    <tr>\n",
              "      <th>male</th>\n",
              "      <td>38.0</td>\n",
              "      <td>69.0</td>\n",
              "    </tr>\n",
              "  </tbody>\n",
              "</table>\n",
              "</div>"
            ],
            "text/plain": [
              "         age  fare\n",
              "        mean  mean\n",
              "sex               \n",
              "female  33.0  89.0\n",
              "male    38.0  69.0"
            ]
          },
          "metadata": {
            "tags": []
          },
          "execution_count": 75
        }
      ]
    },
    {
      "cell_type": "code",
      "metadata": {
        "id": "fIQg2D6fuoSG",
        "colab": {
          "base_uri": "https://localhost:8080/"
        },
        "outputId": "8e3239dd-f819-4c53-94e5-9378e6d87bc8"
      },
      "source": [
        "# Média Geral de 'age'\n",
        "round(df_titanic['age'].mean())"
      ],
      "execution_count": 76,
      "outputs": [
        {
          "output_type": "execute_result",
          "data": {
            "text/plain": [
              "36"
            ]
          },
          "metadata": {
            "tags": []
          },
          "execution_count": 76
        }
      ]
    },
    {
      "cell_type": "code",
      "metadata": {
        "id": "pNUds1oDuoSO",
        "colab": {
          "base_uri": "https://localhost:8080/"
        },
        "outputId": "dcf53e49-c572-42b9-bc98-a514cf9234f1"
      },
      "source": [
        "# Média Geral de 'fare'\n",
        "round(df_titanic['fare'].mean())"
      ],
      "execution_count": 77,
      "outputs": [
        {
          "output_type": "execute_result",
          "data": {
            "text/plain": [
              "79"
            ]
          },
          "metadata": {
            "tags": []
          },
          "execution_count": 77
        }
      ]
    },
    {
      "cell_type": "markdown",
      "metadata": {
        "id": "QbpzXB2RV4sq"
      },
      "source": [
        "___\n",
        "## **KNN - K-Nearest Neighbors**"
      ]
    },
    {
      "cell_type": "code",
      "metadata": {
        "id": "6gtIWWbRYxEj",
        "colab": {
          "base_uri": "https://localhost:8080/",
          "height": 755
        },
        "outputId": "1eb0a4f2-4044-4779-9f24-d2b88c0f2468"
      },
      "source": [
        "outliers_fraction = 0.01\n",
        "xx , yy = np.meshgrid(np.linspace(0, 1, 100), np.linspace(0, 1, 100))\n",
        "clf = KNN(contamination = outliers_fraction)\n",
        "clf.fit(X)\n",
        "# predict raw anomaly score\n",
        "scores_pred = clf.decision_function(X) * -1\n",
        "        \n",
        "# prediction of a datapoint category outlier or inlier\n",
        "y_pred = clf.predict(X)\n",
        "n_inliers = len(y_pred) - np.count_nonzero(y_pred)\n",
        "n_outliers = np.count_nonzero(y_pred == 1)\n",
        "plt.figure(figsize = (8, 8))\n",
        "# copy of dataframe\n",
        "df1 = df_titanic_ss\n",
        "df1['outlier'] = y_pred.tolist()\n",
        "    \n",
        "inliers_fare = np.array(df1['fare'][df1['outlier'] == 0]).reshape(-1,1)\n",
        "inliers_age = np.array(df1['age'][df1['outlier'] == 0]).reshape(-1,1)\n",
        "    \n",
        "outliers_fare = df1['fare'][df1['outlier'] == 1].values.reshape(-1,1)\n",
        "outliers_age = df1['age'][df1['outlier'] == 1].values.reshape(-1,1)\n",
        "         \n",
        "print('OUTLIERS: ',n_outliers, 'INLIERS: ', n_inliers)\n",
        "        \n",
        "# threshold value to consider a datapoint inlier or outlier\n",
        "threshold = percentile(scores_pred, 100 * outliers_fraction)\n",
        "        \n",
        "# decision function calculates the raw anomaly score for every point\n",
        "Z = clf.decision_function(np.c_[xx.ravel(), yy.ravel()]) * -1\n",
        "Z = Z.reshape(xx.shape)\n",
        "# fill blue map colormap from minimum anomaly score to threshold value\n",
        "plt.contourf(xx, yy, Z, levels=np.linspace(Z.min(), threshold, 7),cmap=plt.cm.Blues_r)\n",
        "        \n",
        "# draw red contour line where anomaly score is equal to thresold\n",
        "a = plt.contour(xx, yy, Z, levels= [threshold],linewidths=2, colors='red')\n",
        "        \n",
        "# fill orange contour lines where range of anomaly score is from threshold to maximum anomaly score\n",
        "plt.contourf(xx, yy, Z, levels= [threshold, Z.max()],colors='orange')\n",
        "b = plt.scatter(inliers_fare, inliers_age, c='white',s=20, edgecolor='k')\n",
        "    \n",
        "c = plt.scatter(outliers_fare, outliers_age, c='black',s=20, edgecolor='k')\n",
        "       \n",
        "plt.axis('tight')  \n",
        "   \n",
        "plt.legend([a.collections[0], b,c], ['learned decision function', 'inliers', 'outliers'],\n",
        "           prop=matplotlib.font_manager.FontProperties(size=10), loc='upper center', frameon= False, bbox_to_anchor = (0.5, -0.05),\n",
        "          fancybox = True, shadow = True, ncol = 5)\n",
        "      \n",
        "plt.xlim((0, 1))\n",
        "plt.ylim((0, 1))\n",
        "plt.title('K-Nearest Neighbors (KNN)')\n",
        "plt.show();"
      ],
      "execution_count": 78,
      "outputs": [
        {
          "output_type": "stream",
          "text": [
            "OUTLIERS:  2 INLIERS:  180\n"
          ],
          "name": "stdout"
        },
        {
          "output_type": "display_data",
          "data": {
            "image/png": "[encoded data removed]",
            "text/plain": [
              "<Figure size 800x800 with 1 Axes>"
            ]
          },
          "metadata": {
            "tags": []
          }
        }
      ]
    },
    {
      "cell_type": "code",
      "metadata": {
        "id": "6B-L7MwXg25Z",
        "colab": {
          "base_uri": "https://localhost:8080/",
          "height": 391
        },
        "outputId": "5e1d2611-c7ae-41fd-ded6-3ed2ce21a9eb"
      },
      "source": [
        "df1.head()"
      ],
      "execution_count": 80,
      "outputs": [
        {
          "output_type": "execute_result",
          "data": {
            "text/html": [
              "<div>\n",
              "<style scoped>\n",
              "    .dataframe tbody tr th:only-of-type {\n",
              "        vertical-align: middle;\n",
              "    }\n",
              "\n",
              "    .dataframe tbody tr th {\n",
              "        vertical-align: top;\n",
              "    }\n",
              "\n",
              "    .dataframe thead th {\n",
              "        text-align: right;\n",
              "    }\n",
              "</style>\n",
              "<table border=\"1\" class=\"dataframe\">\n",
              "  <thead>\n",
              "    <tr style=\"text-align: right;\">\n",
              "      <th></th>\n",
              "      <th>survived</th>\n",
              "      <th>pclass</th>\n",
              "      <th>sex</th>\n",
              "      <th>age</th>\n",
              "      <th>sibsp</th>\n",
              "      <th>parch</th>\n",
              "      <th>fare</th>\n",
              "      <th>embarked</th>\n",
              "      <th>class</th>\n",
              "      <th>who</th>\n",
              "      <th>adult_male</th>\n",
              "      <th>deck</th>\n",
              "      <th>embark_town</th>\n",
              "      <th>alive</th>\n",
              "      <th>alone</th>\n",
              "      <th>outlier</th>\n",
              "    </tr>\n",
              "  </thead>\n",
              "  <tbody>\n",
              "    <tr>\n",
              "      <th>1</th>\n",
              "      <td>1</td>\n",
              "      <td>1</td>\n",
              "      <td>female</td>\n",
              "      <td>0.468892</td>\n",
              "      <td>1</td>\n",
              "      <td>0</td>\n",
              "      <td>0.139136</td>\n",
              "      <td>C</td>\n",
              "      <td>First</td>\n",
              "      <td>woman</td>\n",
              "      <td>False</td>\n",
              "      <td>C</td>\n",
              "      <td>Cherbourg</td>\n",
              "      <td>yes</td>\n",
              "      <td>False</td>\n",
              "      <td>0</td>\n",
              "    </tr>\n",
              "    <tr>\n",
              "      <th>3</th>\n",
              "      <td>1</td>\n",
              "      <td>1</td>\n",
              "      <td>female</td>\n",
              "      <td>0.430956</td>\n",
              "      <td>1</td>\n",
              "      <td>0</td>\n",
              "      <td>0.103644</td>\n",
              "      <td>S</td>\n",
              "      <td>First</td>\n",
              "      <td>woman</td>\n",
              "      <td>False</td>\n",
              "      <td>C</td>\n",
              "      <td>Southampton</td>\n",
              "      <td>yes</td>\n",
              "      <td>False</td>\n",
              "      <td>0</td>\n",
              "    </tr>\n",
              "    <tr>\n",
              "      <th>6</th>\n",
              "      <td>0</td>\n",
              "      <td>1</td>\n",
              "      <td>male</td>\n",
              "      <td>0.671219</td>\n",
              "      <td>0</td>\n",
              "      <td>0</td>\n",
              "      <td>0.101229</td>\n",
              "      <td>S</td>\n",
              "      <td>First</td>\n",
              "      <td>man</td>\n",
              "      <td>True</td>\n",
              "      <td>E</td>\n",
              "      <td>Southampton</td>\n",
              "      <td>no</td>\n",
              "      <td>True</td>\n",
              "      <td>0</td>\n",
              "    </tr>\n",
              "    <tr>\n",
              "      <th>10</th>\n",
              "      <td>1</td>\n",
              "      <td>3</td>\n",
              "      <td>female</td>\n",
              "      <td>0.038948</td>\n",
              "      <td>1</td>\n",
              "      <td>1</td>\n",
              "      <td>0.032596</td>\n",
              "      <td>S</td>\n",
              "      <td>Third</td>\n",
              "      <td>child</td>\n",
              "      <td>False</td>\n",
              "      <td>G</td>\n",
              "      <td>Southampton</td>\n",
              "      <td>yes</td>\n",
              "      <td>False</td>\n",
              "      <td>0</td>\n",
              "    </tr>\n",
              "    <tr>\n",
              "      <th>11</th>\n",
              "      <td>1</td>\n",
              "      <td>1</td>\n",
              "      <td>female</td>\n",
              "      <td>0.721801</td>\n",
              "      <td>0</td>\n",
              "      <td>0</td>\n",
              "      <td>0.051822</td>\n",
              "      <td>S</td>\n",
              "      <td>First</td>\n",
              "      <td>woman</td>\n",
              "      <td>False</td>\n",
              "      <td>C</td>\n",
              "      <td>Southampton</td>\n",
              "      <td>yes</td>\n",
              "      <td>True</td>\n",
              "      <td>0</td>\n",
              "    </tr>\n",
              "  </tbody>\n",
              "</table>\n",
              "</div>"
            ],
            "text/plain": [
              "    survived  pclass     sex       age  ...  embark_town  alive  alone outlier\n",
              "1          1       1  female  0.468892  ...    Cherbourg    yes  False       0\n",
              "3          1       1  female  0.430956  ...  Southampton    yes  False       0\n",
              "6          0       1    male  0.671219  ...  Southampton     no   True       0\n",
              "10         1       3  female  0.038948  ...  Southampton    yes  False       0\n",
              "11         1       1  female  0.721801  ...  Southampton    yes   True       0\n",
              "\n",
              "[5 rows x 16 columns]"
            ]
          },
          "metadata": {
            "tags": []
          },
          "execution_count": 79
        },
        {
          "output_type": "execute_result",
          "data": {
            "text/html": [
              "<div>\n",
              "<style scoped>\n",
              "    .dataframe tbody tr th:only-of-type {\n",
              "        vertical-align: middle;\n",
              "    }\n",
              "\n",
              "    .dataframe tbody tr th {\n",
              "        vertical-align: top;\n",
              "    }\n",
              "\n",
              "    .dataframe thead th {\n",
              "        text-align: right;\n",
              "    }\n",
              "</style>\n",
              "<table border=\"1\" class=\"dataframe\">\n",
              "  <thead>\n",
              "    <tr style=\"text-align: right;\">\n",
              "      <th></th>\n",
              "      <th>survived</th>\n",
              "      <th>pclass</th>\n",
              "      <th>sex</th>\n",
              "      <th>age</th>\n",
              "      <th>sibsp</th>\n",
              "      <th>parch</th>\n",
              "      <th>fare</th>\n",
              "      <th>embarked</th>\n",
              "      <th>class</th>\n",
              "      <th>who</th>\n",
              "      <th>adult_male</th>\n",
              "      <th>deck</th>\n",
              "      <th>embark_town</th>\n",
              "      <th>alive</th>\n",
              "      <th>alone</th>\n",
              "      <th>outlier</th>\n",
              "    </tr>\n",
              "  </thead>\n",
              "  <tbody>\n",
              "    <tr>\n",
              "      <th>1</th>\n",
              "      <td>1</td>\n",
              "      <td>1</td>\n",
              "      <td>female</td>\n",
              "      <td>0.468892</td>\n",
              "      <td>1</td>\n",
              "      <td>0</td>\n",
              "      <td>0.139136</td>\n",
              "      <td>C</td>\n",
              "      <td>First</td>\n",
              "      <td>woman</td>\n",
              "      <td>False</td>\n",
              "      <td>C</td>\n",
              "      <td>Cherbourg</td>\n",
              "      <td>yes</td>\n",
              "      <td>False</td>\n",
              "      <td>0</td>\n",
              "    </tr>\n",
              "    <tr>\n",
              "      <th>3</th>\n",
              "      <td>1</td>\n",
              "      <td>1</td>\n",
              "      <td>female</td>\n",
              "      <td>0.430956</td>\n",
              "      <td>1</td>\n",
              "      <td>0</td>\n",
              "      <td>0.103644</td>\n",
              "      <td>S</td>\n",
              "      <td>First</td>\n",
              "      <td>woman</td>\n",
              "      <td>False</td>\n",
              "      <td>C</td>\n",
              "      <td>Southampton</td>\n",
              "      <td>yes</td>\n",
              "      <td>False</td>\n",
              "      <td>0</td>\n",
              "    </tr>\n",
              "    <tr>\n",
              "      <th>6</th>\n",
              "      <td>0</td>\n",
              "      <td>1</td>\n",
              "      <td>male</td>\n",
              "      <td>0.671219</td>\n",
              "      <td>0</td>\n",
              "      <td>0</td>\n",
              "      <td>0.101229</td>\n",
              "      <td>S</td>\n",
              "      <td>First</td>\n",
              "      <td>man</td>\n",
              "      <td>True</td>\n",
              "      <td>E</td>\n",
              "      <td>Southampton</td>\n",
              "      <td>no</td>\n",
              "      <td>True</td>\n",
              "      <td>0</td>\n",
              "    </tr>\n",
              "    <tr>\n",
              "      <th>10</th>\n",
              "      <td>1</td>\n",
              "      <td>3</td>\n",
              "      <td>female</td>\n",
              "      <td>0.038948</td>\n",
              "      <td>1</td>\n",
              "      <td>1</td>\n",
              "      <td>0.032596</td>\n",
              "      <td>S</td>\n",
              "      <td>Third</td>\n",
              "      <td>child</td>\n",
              "      <td>False</td>\n",
              "      <td>G</td>\n",
              "      <td>Southampton</td>\n",
              "      <td>yes</td>\n",
              "      <td>False</td>\n",
              "      <td>0</td>\n",
              "    </tr>\n",
              "    <tr>\n",
              "      <th>11</th>\n",
              "      <td>1</td>\n",
              "      <td>1</td>\n",
              "      <td>female</td>\n",
              "      <td>0.721801</td>\n",
              "      <td>0</td>\n",
              "      <td>0</td>\n",
              "      <td>0.051822</td>\n",
              "      <td>S</td>\n",
              "      <td>First</td>\n",
              "      <td>woman</td>\n",
              "      <td>False</td>\n",
              "      <td>C</td>\n",
              "      <td>Southampton</td>\n",
              "      <td>yes</td>\n",
              "      <td>True</td>\n",
              "      <td>0</td>\n",
              "    </tr>\n",
              "  </tbody>\n",
              "</table>\n",
              "</div>"
            ],
            "text/plain": [
              "    survived  pclass     sex       age  ...  embark_town  alive  alone outlier\n",
              "1          1       1  female  0.468892  ...    Cherbourg    yes  False       0\n",
              "3          1       1  female  0.430956  ...  Southampton    yes  False       0\n",
              "6          0       1    male  0.671219  ...  Southampton     no   True       0\n",
              "10         1       3  female  0.038948  ...  Southampton    yes  False       0\n",
              "11         1       1  female  0.721801  ...  Southampton    yes   True       0\n",
              "\n",
              "[5 rows x 16 columns]"
            ]
          },
          "metadata": {
            "tags": []
          },
          "execution_count": 80
        }
      ]
    },
    {
      "cell_type": "code",
      "metadata": {
        "id": "gvXGH0BHBBNN",
        "colab": {
          "base_uri": "https://localhost:8080/",
          "height": 111
        },
        "outputId": "97ab124f-1a5a-461a-f69a-3cbabd1e67bf"
      },
      "source": [
        "# Zoom em alguns outliers...\n",
        "df1.loc[df1['outlier'] == 1].head()"
      ],
      "execution_count": 81,
      "outputs": [
        {
          "output_type": "execute_result",
          "data": {
            "text/html": [
              "<div>\n",
              "<style scoped>\n",
              "    .dataframe tbody tr th:only-of-type {\n",
              "        vertical-align: middle;\n",
              "    }\n",
              "\n",
              "    .dataframe tbody tr th {\n",
              "        vertical-align: top;\n",
              "    }\n",
              "\n",
              "    .dataframe thead th {\n",
              "        text-align: right;\n",
              "    }\n",
              "</style>\n",
              "<table border=\"1\" class=\"dataframe\">\n",
              "  <thead>\n",
              "    <tr style=\"text-align: right;\">\n",
              "      <th></th>\n",
              "      <th>survived</th>\n",
              "      <th>pclass</th>\n",
              "      <th>sex</th>\n",
              "      <th>age</th>\n",
              "      <th>sibsp</th>\n",
              "      <th>parch</th>\n",
              "      <th>fare</th>\n",
              "      <th>embarked</th>\n",
              "      <th>class</th>\n",
              "      <th>who</th>\n",
              "      <th>adult_male</th>\n",
              "      <th>deck</th>\n",
              "      <th>embark_town</th>\n",
              "      <th>alive</th>\n",
              "      <th>alone</th>\n",
              "      <th>outlier</th>\n",
              "    </tr>\n",
              "  </thead>\n",
              "  <tbody>\n",
              "    <tr>\n",
              "      <th>679</th>\n",
              "      <td>1</td>\n",
              "      <td>1</td>\n",
              "      <td>male</td>\n",
              "      <td>0.443601</td>\n",
              "      <td>0</td>\n",
              "      <td>1</td>\n",
              "      <td>1.0</td>\n",
              "      <td>C</td>\n",
              "      <td>First</td>\n",
              "      <td>man</td>\n",
              "      <td>True</td>\n",
              "      <td>B</td>\n",
              "      <td>Cherbourg</td>\n",
              "      <td>yes</td>\n",
              "      <td>False</td>\n",
              "      <td>1</td>\n",
              "    </tr>\n",
              "    <tr>\n",
              "      <th>737</th>\n",
              "      <td>1</td>\n",
              "      <td>1</td>\n",
              "      <td>male</td>\n",
              "      <td>0.430956</td>\n",
              "      <td>0</td>\n",
              "      <td>0</td>\n",
              "      <td>1.0</td>\n",
              "      <td>C</td>\n",
              "      <td>First</td>\n",
              "      <td>man</td>\n",
              "      <td>True</td>\n",
              "      <td>B</td>\n",
              "      <td>Cherbourg</td>\n",
              "      <td>yes</td>\n",
              "      <td>True</td>\n",
              "      <td>1</td>\n",
              "    </tr>\n",
              "  </tbody>\n",
              "</table>\n",
              "</div>"
            ],
            "text/plain": [
              "     survived  pclass   sex       age  ...  embark_town  alive  alone outlier\n",
              "679         1       1  male  0.443601  ...    Cherbourg    yes  False       1\n",
              "737         1       1  male  0.430956  ...    Cherbourg    yes   True       1\n",
              "\n",
              "[2 rows x 16 columns]"
            ]
          },
          "metadata": {
            "tags": []
          },
          "execution_count": 81
        }
      ]
    },
    {
      "cell_type": "code",
      "metadata": {
        "id": "MYbNaaO7D3NY",
        "colab": {
          "base_uri": "https://localhost:8080/"
        },
        "outputId": "2d5cf7df-08a6-4cdf-9941-43396770e171"
      },
      "source": [
        "# Zoom na linha 679\n",
        "df_titanic.loc[679]"
      ],
      "execution_count": 82,
      "outputs": [
        {
          "output_type": "execute_result",
          "data": {
            "text/plain": [
              "survived               1\n",
              "pclass                 1\n",
              "sex                 male\n",
              "age                   36\n",
              "sibsp                  0\n",
              "parch                  1\n",
              "fare             512.329\n",
              "embarked               C\n",
              "class              First\n",
              "who                  man\n",
              "adult_male          True\n",
              "deck                   B\n",
              "embark_town    Cherbourg\n",
              "alive                yes\n",
              "alone              False\n",
              "age_cat         (30, 40]\n",
              "Name: 679, dtype: object"
            ]
          },
          "metadata": {
            "tags": []
          },
          "execution_count": 82
        }
      ]
    },
    {
      "cell_type": "code",
      "metadata": {
        "id": "-juEvWvru5jp",
        "colab": {
          "base_uri": "https://localhost:8080/",
          "height": 173
        },
        "outputId": "0d6c47f8-7606-4eda-c991-eaf0a076640a"
      },
      "source": [
        "# Algumas medidas para compararmos\n",
        "df_resumo = df_titanic.groupby('sex').agg({'age': ['mean'], 'fare': ['mean']}).round(0)\n",
        "df_resumo"
      ],
      "execution_count": 83,
      "outputs": [
        {
          "output_type": "execute_result",
          "data": {
            "text/html": [
              "<div>\n",
              "<style scoped>\n",
              "    .dataframe tbody tr th:only-of-type {\n",
              "        vertical-align: middle;\n",
              "    }\n",
              "\n",
              "    .dataframe tbody tr th {\n",
              "        vertical-align: top;\n",
              "    }\n",
              "\n",
              "    .dataframe thead tr th {\n",
              "        text-align: left;\n",
              "    }\n",
              "\n",
              "    .dataframe thead tr:last-of-type th {\n",
              "        text-align: right;\n",
              "    }\n",
              "</style>\n",
              "<table border=\"1\" class=\"dataframe\">\n",
              "  <thead>\n",
              "    <tr>\n",
              "      <th></th>\n",
              "      <th>age</th>\n",
              "      <th>fare</th>\n",
              "    </tr>\n",
              "    <tr>\n",
              "      <th></th>\n",
              "      <th>mean</th>\n",
              "      <th>mean</th>\n",
              "    </tr>\n",
              "    <tr>\n",
              "      <th>sex</th>\n",
              "      <th></th>\n",
              "      <th></th>\n",
              "    </tr>\n",
              "  </thead>\n",
              "  <tbody>\n",
              "    <tr>\n",
              "      <th>female</th>\n",
              "      <td>33.0</td>\n",
              "      <td>89.0</td>\n",
              "    </tr>\n",
              "    <tr>\n",
              "      <th>male</th>\n",
              "      <td>38.0</td>\n",
              "      <td>69.0</td>\n",
              "    </tr>\n",
              "  </tbody>\n",
              "</table>\n",
              "</div>"
            ],
            "text/plain": [
              "         age  fare\n",
              "        mean  mean\n",
              "sex               \n",
              "female  33.0  89.0\n",
              "male    38.0  69.0"
            ]
          },
          "metadata": {
            "tags": []
          },
          "execution_count": 83
        }
      ]
    },
    {
      "cell_type": "code",
      "metadata": {
        "id": "B6NXG6oDusSg",
        "colab": {
          "base_uri": "https://localhost:8080/"
        },
        "outputId": "e8dc637f-616f-4655-b3af-576b706665cd"
      },
      "source": [
        "# Média Geral de 'age'\n",
        "round(df_titanic['age'].mean())"
      ],
      "execution_count": 84,
      "outputs": [
        {
          "output_type": "execute_result",
          "data": {
            "text/plain": [
              "36"
            ]
          },
          "metadata": {
            "tags": []
          },
          "execution_count": 84
        }
      ]
    },
    {
      "cell_type": "code",
      "metadata": {
        "id": "cgHJb3iBusSl",
        "colab": {
          "base_uri": "https://localhost:8080/"
        },
        "outputId": "ad3a5802-9db5-486d-9468-e4dd2db292ce"
      },
      "source": [
        "# Média Geral de 'fare'\n",
        "round(df_titanic['fare'].mean())"
      ],
      "execution_count": 85,
      "outputs": [
        {
          "output_type": "execute_result",
          "data": {
            "text/plain": [
              "79"
            ]
          },
          "metadata": {
            "tags": []
          },
          "execution_count": 85
        }
      ]
    },
    {
      "cell_type": "markdown",
      "metadata": {
        "id": "1w7MIkoAG2Qr"
      },
      "source": [
        "___\n",
        "# **Exercícios**\n",
        "Para cada um dos dataframes a seguir, faça uma análise de outlier utilizando uma das técnicas apresentadas e explique seus resultados."
      ]
    },
    {
      "cell_type": "markdown",
      "metadata": {
        "id": "Ep_Z3iQIG56r"
      },
      "source": [
        "## Exercício 1 - Predict Breast Cancer"
      ]
    },
    {
      "cell_type": "code",
      "metadata": {
        "id": "v-Lvzrt7HN2l"
      },
      "source": [
        "import pandas as pd\n",
        "import numpy as np\n",
        "from sklearn.datasets import load_breast_cancer\n",
        "\n",
        "cancer = load_breast_cancer()\n",
        "X = cancer['data']\n",
        "y = cancer['target']\n",
        "\n",
        "df_cancer = pd.DataFrame(np.c_[X, y], columns= np.append(cancer['feature_names'], ['target']))\n",
        "df_cancer['target'] = df_cancer['target'].map({0: 'malign', 1: 'benign'})\n",
        "df_cancer.head()"
      ],
      "execution_count": null,
      "outputs": []
    },
    {
      "cell_type": "markdown",
      "metadata": {
        "id": "cEHLrU0gHRtu"
      },
      "source": [
        "## Exercício 2 - Boston Housing Price"
      ]
    },
    {
      "cell_type": "code",
      "metadata": {
        "id": "8G9GZnubHYjy"
      },
      "source": [
        "from sklearn.datasets import load_boston\n",
        "\n",
        "boston = load_boston()\n",
        "X = boston['data']\n",
        "y = boston['target']\n",
        "\n",
        "df_boston = pd.DataFrame(np.c_[X, y], columns = np.append(boston['feature_names'], ['target']))\n",
        "df_boston.head()"
      ],
      "execution_count": null,
      "outputs": []
    },
    {
      "cell_type": "markdown",
      "metadata": {
        "id": "QlAdIYfmHaE8"
      },
      "source": [
        "## Exercício 3 - Iris\n",
        "* [Aqui](https://en.wikipedia.org/wiki/Iris_flower_data_set) você obterá mais informações sobre o dataframe iris."
      ]
    },
    {
      "cell_type": "code",
      "metadata": {
        "id": "Rke4C3wFHfYU"
      },
      "source": [
        "from sklearn.datasets import load_iris\n",
        "\n",
        "iris = load_iris()\n",
        "X= iris['data']\n",
        "y= iris['target']\n",
        "\n",
        "df_iris = pd.DataFrame(np.c_[X, y], columns = np.append(iris['feature_names'], ['target']))\n",
        "df_iris['target'] = df_iris['target'].map({0: 'setosa', 1: 'versicolor', 2: 'virginica'})\n",
        "df_iris.head()"
      ],
      "execution_count": null,
      "outputs": []
    },
    {
      "cell_type": "markdown",
      "metadata": {
        "id": "6qn3gC4NHj-p"
      },
      "source": [
        "## Exercícios 4 - Diabetes"
      ]
    },
    {
      "cell_type": "code",
      "metadata": {
        "id": "P-esq5TSHnf6"
      },
      "source": [
        "from sklearn.datasets import load_diabetes\n",
        "\n",
        "diabetes = load_diabetes()\n",
        "X = diabetes['data']\n",
        "y = diabetes['target']\n",
        "\n",
        "df_diabetes = pd.DataFrame(np.c_[X, y], columns = np.append(diabetes['feature_names'], ['target']))\n",
        "df_diabetes.head()"
      ],
      "execution_count": null,
      "outputs": []
    }
  ]
}