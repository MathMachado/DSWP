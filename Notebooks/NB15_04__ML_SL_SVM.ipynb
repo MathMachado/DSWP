{
  "nbformat": 4,
  "nbformat_minor": 0,
  "metadata": {
    "kernelspec": {
      "display_name": "Python 3",
      "language": "python",
      "name": "python3"
    },
    "language_info": {
      "codemirror_mode": {
        "name": "ipython",
        "version": 3
      },
      "file_extension": ".py",
      "mimetype": "text/x-python",
      "name": "python",
      "nbconvert_exporter": "python",
      "pygments_lexer": "ipython3",
      "version": "3.6.4"
    },
    "colab": {
      "name": "NB15_04__ML_SL_SVM.ipynb",
      "provenance": [],
      "include_colab_link": true
    }
  },
  "cells": [
    {
      "cell_type": "markdown",
      "metadata": {
        "id": "view-in-github",
        "colab_type": "text"
      },
      "source": [
        "<a href=\"https://colab.research.google.com/github/MathMachado/DSWP/blob/master/Notebooks/NB15_04__ML_SL_SVM.ipynb\" target=\"_parent\"><img src=\"https://colab.research.google.com/assets/colab-badge.svg\" alt=\"Open In Colab\"/></a>"
      ]
    },
    {
      "cell_type": "markdown",
      "metadata": {
        "id": "BhE1cvOai3Ee"
      },
      "source": [
        "# SVM - Support Vector Machines\n",
        "\n",
        "<hr>\n",
        "\n",
        "### Agenda\n",
        "1. Introdução ao SVM - Support Vector Machines\n",
        "2. Maximal Margin Classifier\n",
        "3. Soft Margin Classifier\n",
        "2. SVM Algorithm for Classification\n",
        "3. SVM \n",
        "4. SVM for Regression\n",
        "5. Hyper-parameters in SVM\n",
        "\n",
        "<hr>"
      ]
    },
    {
      "cell_type": "markdown",
      "metadata": {
        "id": "9bQ97Bj6i3Ei"
      },
      "source": [
        "### 1. Introdução ao SVM - Support Vector Machines\n",
        "* Método Supervisionado usado para Classificação, Regressão e detecção de outlier;\n",
        "* SVM são eficientes em dataframes grandes;\n",
        "* Usa um subconjunto do dataframe de treinamento - uso eficiente de memória;\n",
        "* É também eficiente nos casos em que o número de colunas é maior que o número de linhas."
      ]
    },
    {
      "cell_type": "markdown",
      "metadata": {
        "id": "SdQ_kiKHi3Ek"
      },
      "source": [
        "### 2. Maximal Margin Classifier\n",
        "* Objetivo: encontrar uma linha (ou hiper-plano) que maximiza a separação entre diferentes classes do dataframe;\n",
        "\n",
        "<img src=\"https://encrypted-tbn0.gstatic.com/images?q=tbn:ANd9GcQkOQ1Q4Xr1J-J8qbwOZxbV9HmwOs2o2iHo2dLRxVxjq1R0MibU0A\">"
      ]
    },
    {
      "cell_type": "markdown",
      "metadata": {
        "id": "aqH9Z3O_i3Em"
      },
      "source": [
        "### 3. Soft Margin Classifier\n",
        "* No mundo real, torna-se muito difícil de separar os dados por hiperplanos;\n",
        "* Com Soft Margin Classifier, alguns (poucos) dados são permitidos serem classificados incorretamente.\n",
        "\n",
        "<img src=\"https://www.researchgate.net/profile/Catarina_Moreira2/publication/260283043/figure/fig12/AS:297261608259590@1447884098130/Figure-A14-Soft-margin-linear-SVM-classifier.png\" width=\"300px\">\n"
      ]
    },
    {
      "cell_type": "code",
      "metadata": {
        "id": "EO14zeddi3Ep"
      },
      "source": [
        "from sklearn.datasets import make_circles\n",
        "import matplotlib.pyplot as plt\n",
        "%matplotlib inline\n",
        "import numpy as np"
      ],
      "execution_count": null,
      "outputs": []
    },
    {
      "cell_type": "code",
      "metadata": {
        "id": "50pIXwJwi3Ev"
      },
      "source": [
        "X, y = make_circles(n_samples = 1000, noise = .05, factor = .5)"
      ],
      "execution_count": 2,
      "outputs": []
    },
    {
      "cell_type": "code",
      "metadata": {
        "id": "tAHMs4B2i3Ez"
      },
      "source": [
        "plt.scatter(X[:, 0],X[:, 1], c = y)"
      ],
      "execution_count": null,
      "outputs": []
    },
    {
      "cell_type": "markdown",
      "metadata": {
        "id": "Z-IuQNL3i3E4"
      },
      "source": [
        "### Fazendo a transformação manualmente"
      ]
    },
    {
      "cell_type": "code",
      "metadata": {
        "id": "KwkGLRR8i3E6"
      },
      "source": [
        "col = np.sum(np.square(X),axis=1)"
      ],
      "execution_count": null,
      "outputs": []
    },
    {
      "cell_type": "code",
      "metadata": {
        "id": "LqfvE6iLi3E9"
      },
      "source": [
        "Z = np.hstack([X,col.reshape(-1,1)])"
      ],
      "execution_count": null,
      "outputs": []
    },
    {
      "cell_type": "code",
      "metadata": {
        "id": "cS9PgthYi3FA"
      },
      "source": [
        "from mpl_toolkits.mplot3d import Axes3D"
      ],
      "execution_count": null,
      "outputs": []
    },
    {
      "cell_type": "code",
      "metadata": {
        "id": "j0yPbsHji3FE"
      },
      "source": [
        "fig = plt.figure()\n",
        "ax = fig.add_subplot(111, projection='3d')\n",
        "ax.scatter3D(xs=Z[:,0],ys=Z[:,1],zs=Z[:,2],c=y)"
      ],
      "execution_count": null,
      "outputs": []
    },
    {
      "cell_type": "markdown",
      "metadata": {
        "id": "iS5Hdivfi3FH"
      },
      "source": [
        "* Agora conseguimos ver claramente um possível plano separando os pontos."
      ]
    },
    {
      "cell_type": "markdown",
      "metadata": {
        "id": "UgbgfSo3i3FJ"
      },
      "source": [
        "## Entendendo os Kernels\n",
        "* Kernels são parte integrante do SVM, responsável por transformar dados não linearmente separáveis em dimensões mais altas, de modo que sejam linearmente separáveis;\n",
        "* Diferentes tipos de kernels são suportados pelo SVM;\n",
        "* Todo kernel tem uma maneira diferente de transformar dados em uma dimensão superior\n",
        "Linear, Polinomial, RBF, Sigmoid e seu próprio kernel personalizado."
      ]
    },
    {
      "cell_type": "markdown",
      "metadata": {
        "id": "VZPf5cKNi3FK"
      },
      "source": [
        "#### Kernels Lineares\n",
        "* Sempre adote uma abordagem simples a complexa.\n",
        "* Se a separação linear é possível entre as classes, os núcleos lineares funcionariam."
      ]
    },
    {
      "cell_type": "code",
      "metadata": {
        "id": "bPB0BWAPi3FL"
      },
      "source": [
        "from sklearn.datasets import load_iris\n",
        "import numpy as np\n",
        "import matplotlib.pyplot as plt\n",
        "%matplotlib inline"
      ],
      "execution_count": null,
      "outputs": []
    },
    {
      "cell_type": "code",
      "metadata": {
        "id": "ub9ppRnRi3FP"
      },
      "source": [
        "iris_data = load_iris()"
      ],
      "execution_count": null,
      "outputs": []
    },
    {
      "cell_type": "code",
      "metadata": {
        "id": "RdKuVEVTi3FS"
      },
      "source": [
        "plt.scatter(iris_data.data[:, 2], iris_data.data[:, 3],c = iris_data.target)"
      ],
      "execution_count": null,
      "outputs": []
    },
    {
      "cell_type": "code",
      "metadata": {
        "id": "UTmztq4Ki3FV"
      },
      "source": [
        "from sklearn.svm import SVC"
      ],
      "execution_count": null,
      "outputs": []
    },
    {
      "cell_type": "code",
      "metadata": {
        "id": "8kIMjup1i3FY"
      },
      "source": [
        "svc = SVC(kernel='linear')"
      ],
      "execution_count": null,
      "outputs": []
    },
    {
      "cell_type": "code",
      "metadata": {
        "id": "QV_cDA2si3Fc"
      },
      "source": [
        "svc.fit(iris_data.data[:,[2,3]], iris_data.target)"
      ],
      "execution_count": null,
      "outputs": []
    },
    {
      "cell_type": "code",
      "metadata": {
        "id": "7_GRBi4ti3Fe"
      },
      "source": [
        "X = iris_data.data[:, [2, 3]]"
      ],
      "execution_count": null,
      "outputs": []
    },
    {
      "cell_type": "code",
      "metadata": {
        "id": "LBUdauu5i3Fh"
      },
      "source": [
        "y = iris_data.target"
      ],
      "execution_count": null,
      "outputs": []
    },
    {
      "cell_type": "code",
      "metadata": {
        "id": "RMIff79ti3Fk"
      },
      "source": [
        "h = .02\n",
        "x_min, x_max = X[:, 0].min() - .5, X[:, 0].max() + .5\n",
        "y_min, y_max = X[:, 1].min() - .5, X[:, 1].max() + .5\n",
        "xx, yy = np.meshgrid(np.arange(x_min, x_max, h), np.arange(y_min, y_max, h))"
      ],
      "execution_count": null,
      "outputs": []
    },
    {
      "cell_type": "code",
      "metadata": {
        "id": "xlUHYnahi3Fn"
      },
      "source": [
        "Z = svc.predict(np.c_[xx.ravel(), yy.ravel()])"
      ],
      "execution_count": null,
      "outputs": []
    },
    {
      "cell_type": "code",
      "metadata": {
        "id": "Q6RccZFwi3Fr"
      },
      "source": [
        "Z = Z.reshape(xx.shape)\n",
        "plt.pcolormesh(xx, yy, Z, cmap=plt.cm.Paired)\n",
        "plt.scatter(X[:,0],X[:,1],c=y,s=10)\n",
        "plt.scatter(svc.support_vectors_[:,0], svc.support_vectors_[:,1], c='r',s=20)"
      ],
      "execution_count": null,
      "outputs": []
    },
    {
      "cell_type": "markdown",
      "metadata": {
        "id": "R6uVhSD-i3Fz"
      },
      "source": [
        "* Podemos ver claramente os separadores lineares"
      ]
    },
    {
      "cell_type": "code",
      "metadata": {
        "id": "CyW54HZWi3F1"
      },
      "source": [
        "svc.support_vectors_"
      ],
      "execution_count": null,
      "outputs": []
    },
    {
      "cell_type": "markdown",
      "metadata": {
        "id": "0c34fTi7i3F5"
      },
      "source": [
        "### Kernels Polinomiais\n",
        "* Transforma dados para ordens polinomiais.\n",
        "\n",
        "<img src=\"https://github.com/awantik/machine-learning-slides/blob/master/svm24.PNG?raw=true\" width=\"300px\">"
      ]
    },
    {
      "cell_type": "code",
      "metadata": {
        "id": "N9ufXKjbi3F5"
      },
      "source": [
        "from sklearn.datasets import make_moons"
      ],
      "execution_count": null,
      "outputs": []
    },
    {
      "cell_type": "code",
      "metadata": {
        "id": "TWIvpZhMi3F8"
      },
      "source": [
        "X, Y = make_moons(n_samples = 1000, noise = .05)"
      ],
      "execution_count": null,
      "outputs": []
    },
    {
      "cell_type": "code",
      "metadata": {
        "id": "XSUkQPM8i3F_"
      },
      "source": [
        "plt.scatter(X[:,0], X[:,1], c=Y, s=10)"
      ],
      "execution_count": null,
      "outputs": []
    },
    {
      "cell_type": "code",
      "metadata": {
        "id": "PvI3TtV4i3GE"
      },
      "source": [
        "svc = SVC(kernel = 'poly')"
      ],
      "execution_count": null,
      "outputs": []
    },
    {
      "cell_type": "code",
      "metadata": {
        "id": "_Ya1iJsQi3GG"
      },
      "source": [
        "svc.fit(X, Y)"
      ],
      "execution_count": null,
      "outputs": []
    },
    {
      "cell_type": "code",
      "metadata": {
        "id": "Q-85JgYei3GK"
      },
      "source": [
        "h = .02\n",
        "x_min, x_max = X[:, 0].min() - .5, X[:, 0].max() + .5\n",
        "y_min, y_max = X[:, 1].min() - .5, X[:, 1].max() + .5\n",
        "xx, yy = np.meshgrid(np.arange(x_min, x_max, h), np.arange(y_min, y_max, h))"
      ],
      "execution_count": null,
      "outputs": []
    },
    {
      "cell_type": "code",
      "metadata": {
        "id": "82OCSmt4i3GM"
      },
      "source": [
        "Z = svc.predict(np.c_[xx.ravel(), yy.ravel()])"
      ],
      "execution_count": null,
      "outputs": []
    },
    {
      "cell_type": "code",
      "metadata": {
        "id": "QPbKRr_ni3GS"
      },
      "source": [
        "Z = Z.reshape(xx.shape)\n",
        "plt.pcolormesh(xx, yy, Z, cmap=plt.cm.Paired)\n",
        "plt.scatter(X[:,0],X[:,1],c=Y,s=10)\n",
        "plt.scatter(svc.support_vectors_[:,0], svc.support_vectors_[:,1], c='r',s=20)"
      ],
      "execution_count": null,
      "outputs": []
    },
    {
      "cell_type": "code",
      "metadata": {
        "id": "F8ZU71tvi3GV"
      },
      "source": [
        "svc = SVC(kernel='poly', C=10)\n",
        "svc.fit(X,Y)\n",
        "Z = svc.predict(np.c_[xx.ravel(), yy.ravel()])\n",
        "Z = Z.reshape(xx.shape)\n",
        "plt.pcolormesh(xx, yy, Z, cmap=plt.cm.Paired)\n",
        "plt.scatter(X[:,0],X[:,1],c=Y,s=10)\n",
        "plt.scatter(svc.support_vectors_[:,0], svc.support_vectors_[:,1], c='r',s=20)"
      ],
      "execution_count": null,
      "outputs": []
    },
    {
      "cell_type": "markdown",
      "metadata": {
        "id": "U6VueP2di3GY"
      },
      "source": [
        "### Kernel RBF (Radial Basis Function)\n",
        "* RBF é um truque do kernel para transformar dados não linearmente e prever o separador;"
      ]
    },
    {
      "cell_type": "code",
      "metadata": {
        "id": "ZDezxbANi3GZ"
      },
      "source": [
        "svc = SVC(kernel = 'rbf')\n",
        "svc.fit(X,Y)\n",
        "Z = svc.predict(np.c_[xx.ravel(), yy.ravel()])\n",
        "Z = Z.reshape(xx.shape)\n",
        "plt.pcolormesh(xx, yy, Z, cmap=plt.cm.Paired)\n",
        "plt.scatter(X[:,0],X[:,1],c=Y,s=10)\n",
        "plt.scatter(svc.support_vectors_[:,0], svc.support_vectors_[:,1], c='r',s=20)"
      ],
      "execution_count": null,
      "outputs": []
    },
    {
      "cell_type": "markdown",
      "metadata": {
        "id": "hNeuKNOzi3Gb"
      },
      "source": [
        "### Entendendo o parâmetro C\n",
        "* O parâmetro C se comporta como um parâmetro de regularização no SVM.\n",
        "* Para valores maiores de C, uma margem menor será aceita se a função de decisão for melhor em classificar todos os pontos de treinamento corretamente.\n",
        "* Um C mais baixo encorajará uma margem maior, portanto, uma função de decisão mais simples, à custa da precisão do treinamento."
      ]
    },
    {
      "cell_type": "code",
      "metadata": {
        "id": "tTF_ZhzTi3Gb"
      },
      "source": [
        "X, Y = make_moons(n_samples = 100, noise = .3)"
      ],
      "execution_count": null,
      "outputs": []
    },
    {
      "cell_type": "code",
      "metadata": {
        "id": "KtU5mqdzi3Gd"
      },
      "source": [
        "plt.scatter(X[:,0], X[:,1], c=Y, s=10)"
      ],
      "execution_count": null,
      "outputs": []
    },
    {
      "cell_type": "code",
      "metadata": {
        "id": "qyeiTmDAi3Gg"
      },
      "source": [
        "h = .02\n",
        "x_min, x_max = X[:, 0].min() - .5, X[:, 0].max() + .5\n",
        "y_min, y_max = X[:, 1].min() - .5, X[:, 1].max() + .5\n",
        "xx, yy = np.meshgrid(np.arange(x_min, x_max, h), np.arange(y_min, y_max, h))"
      ],
      "execution_count": null,
      "outputs": []
    },
    {
      "cell_type": "code",
      "metadata": {
        "id": "vtpvgw2Fi3Gi"
      },
      "source": [
        "svc = SVC(kernel='rbf', C=0.1)\n",
        "svc.fit(X,Y)\n",
        "Z = svc.predict(np.c_[xx.ravel(), yy.ravel()])\n",
        "Z = Z.reshape(xx.shape)\n",
        "plt.pcolormesh(xx, yy, Z, cmap=plt.cm.Paired)\n",
        "plt.scatter(X[:,0],X[:,1],c=Y,s=10)"
      ],
      "execution_count": null,
      "outputs": []
    },
    {
      "cell_type": "code",
      "metadata": {
        "id": "Ice-q1rZi3Gl"
      },
      "source": [
        "svc = SVC(kernel = 'rbf', C = 100000)\n",
        "svc.fit(X,Y)\n",
        "Z = svc.predict(np.c_[xx.ravel(), yy.ravel()])\n",
        "Z = Z.reshape(xx.shape)\n",
        "plt.pcolormesh(xx, yy, Z, cmap=plt.cm.Paired)\n",
        "plt.scatter(X[:,0],X[:,1],c=Y,s=10)"
      ],
      "execution_count": null,
      "outputs": []
    },
    {
      "cell_type": "markdown",
      "metadata": {
        "id": "nnJBnRTJi3Go"
      },
      "source": [
        "#### Entendendo o parâmetro Gamma\n",
        "* Gamma é um parâmetro para lidar com a classificação não linear;\n",
        "* Ao aumentar o valor do gama, estamos aumentando a importância de cada ponto."
      ]
    },
    {
      "cell_type": "code",
      "metadata": {
        "id": "kcTWmoq1i3Gr"
      },
      "source": [
        "svc = SVC(kernel='rbf', C=100000, gamma=1)\n",
        "svc.fit(X,Y)\n",
        "Z = svc.predict(np.c_[xx.ravel(), yy.ravel()])\n",
        "Z = Z.reshape(xx.shape)\n",
        "plt.pcolormesh(xx, yy, Z, cmap=plt.cm.Paired)\n",
        "plt.scatter(X[:,0],X[:,1],c=Y,s=10)"
      ],
      "execution_count": null,
      "outputs": []
    },
    {
      "cell_type": "markdown",
      "metadata": {
        "id": "Mhm785Ozi3Gt"
      },
      "source": [
        "* Usando Grid-Search, podemos encontrar o valor correto para kernel, C & gamma."
      ]
    },
    {
      "cell_type": "markdown",
      "metadata": {
        "id": "t6uqdEXPi3Gu"
      },
      "source": [
        "### SVM for Regression\n",
        "* A variável target tem que ser contínua por natureza;\n",
        "* A relação entre as preditoras podem ser lineares ou não-lineares;\n",
        "* Kernels: linear, poly ou rbf"
      ]
    },
    {
      "cell_type": "code",
      "metadata": {
        "id": "O_jtGaY7i3Gv"
      },
      "source": [
        "X = np.sort(5 * np.random.rand(40, 1), axis = 0)\n",
        "y = np.sin(X).ravel()"
      ],
      "execution_count": null,
      "outputs": []
    },
    {
      "cell_type": "code",
      "metadata": {
        "id": "w1UrF4qfi3Gy"
      },
      "source": [
        "plt.scatter(X, y,s=10)"
      ],
      "execution_count": null,
      "outputs": []
    },
    {
      "cell_type": "code",
      "metadata": {
        "id": "IgQ3z4Fai3G1"
      },
      "source": [
        "from sklearn.svm import SVR"
      ],
      "execution_count": null,
      "outputs": []
    },
    {
      "cell_type": "code",
      "metadata": {
        "id": "5zloweq0i3G4"
      },
      "source": [
        "svrs = [SVR(kernel='linear'), SVR(kernel='poly'), SVR(kernel='rbf')]"
      ],
      "execution_count": null,
      "outputs": []
    },
    {
      "cell_type": "code",
      "metadata": {
        "id": "amjjDmZSi3G7"
      },
      "source": [
        "for model in svrs:\n",
        "    model.fit(X,y)"
      ],
      "execution_count": null,
      "outputs": []
    },
    {
      "cell_type": "code",
      "metadata": {
        "id": "YcGbV6B6i3HE"
      },
      "source": [
        "lw = 2\n",
        "plt.scatter(X, y,s=10)\n",
        "plt.plot(X, svrs[0].predict(X), color='green', lw=lw, label='linear model')\n",
        "plt.plot(X, svrs[1].predict(X), color='red', lw=lw, label='poly model')\n",
        "plt.plot(X, svrs[2].predict(X), color='navy', lw=lw, label='rbf model')\n",
        "plt.legend()"
      ],
      "execution_count": null,
      "outputs": []
    },
    {
      "cell_type": "markdown",
      "metadata": {
        "id": "sbu5Tnhli3HH"
      },
      "source": [
        "### Understanding Custom Kernel\n",
        "* Além de kernels embutidos para transformar dados, podemos escrever nossos próprios kernels personalizados."
      ]
    },
    {
      "cell_type": "code",
      "metadata": {
        "id": "l9DcDHfvi3HI"
      },
      "source": [
        "def meu_kernel(X, Y):\n",
        "    return np.dot(X, Y.T)"
      ],
      "execution_count": null,
      "outputs": []
    },
    {
      "cell_type": "code",
      "metadata": {
        "id": "t-sIWljZi3HM"
      },
      "source": [
        "X, y = make_circles(n_samples = 1000, noise = .05, factor = .5)"
      ],
      "execution_count": null,
      "outputs": []
    },
    {
      "cell_type": "code",
      "metadata": {
        "id": "ZMQidY0mi3HS"
      },
      "source": [
        "svc = SVC(kernel = meu_kernel)"
      ],
      "execution_count": null,
      "outputs": []
    },
    {
      "cell_type": "code",
      "metadata": {
        "id": "HOKV6Vuti3HU"
      },
      "source": [
        "svc.fit(X,y)"
      ],
      "execution_count": null,
      "outputs": []
    },
    {
      "cell_type": "code",
      "metadata": {
        "id": "ooqF8qcwi3Ha"
      },
      "source": [
        "X.shape[0]"
      ],
      "execution_count": null,
      "outputs": []
    },
    {
      "cell_type": "code",
      "metadata": {
        "id": "QgUM9O0Mi3Hd"
      },
      "source": [
        "iris = load_iris()\n",
        "X = iris.data[:, :2]  # we only take the first two features. We could\n",
        "                      # avoid this ugly slicing by using a two-dim dataset\n",
        "Y = iris.target\n",
        "\n",
        "\n",
        "def meu_kernel(X, Y):\n",
        "    \"\"\"\n",
        "    We create a custom kernel:\n",
        "\n",
        "                 (2  0)\n",
        "    k(X, Y) = X  (    ) Y.T\n",
        "                 (0  1)\n",
        "    \"\"\"\n",
        "    M = np.array([[2, 0], [0, 1.0]])\n",
        "    res = np.dot(np.dot(X, M), Y.T)\n",
        "    print (res.shape)\n",
        "    return res\n",
        "\n",
        "\n",
        "h = .02  # step size in the mesh\n",
        "\n",
        "# we create an instance of SVM and fit out data.\n",
        "clf = SVC(kernel=meu_kernel)\n",
        "clf.fit(X, Y)"
      ],
      "execution_count": null,
      "outputs": []
    }
  ]
}