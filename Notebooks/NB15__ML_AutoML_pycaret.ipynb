{
  "nbformat": 4,
  "nbformat_minor": 0,
  "metadata": {
    "colab": {
      "name": "Untitled8.ipynb",
      "provenance": [],
      "private_outputs": true,
      "authorship_tag": "ABX9TyMt0Q532tv1dpUGM+X+Aewe",
      "include_colab_link": true
    },
    "kernelspec": {
      "name": "python3",
      "display_name": "Python 3"
    }
  },
  "cells": [
    {
      "cell_type": "markdown",
      "metadata": {
        "id": "view-in-github",
        "colab_type": "text"
      },
      "source": [
        "<a href=\"https://colab.research.google.com/github/MathMachado/DSWP/blob/master/Notebooks/NB15__ML_AutoML_pycaret.ipynb\" target=\"_parent\"><img src=\"https://colab.research.google.com/assets/colab-badge.svg\" alt=\"Open In Colab\"/></a>"
      ]
    },
    {
      "cell_type": "code",
      "metadata": {
        "id": "FfhCoyP98gDt"
      },
      "source": [
        "import pandas as pd\n",
        "import numpy as np"
      ],
      "execution_count": null,
      "outputs": []
    },
    {
      "cell_type": "code",
      "metadata": {
        "id": "226lzu3i8kRp"
      },
      "source": [
        "url = 'https://raw.githubusercontent.com/MathMachado/DataFrames/master/Titanic_Original.csv'\n",
        "df_titanic = pd.read_csv(url)\n",
        "df_titanic.head()"
      ],
      "execution_count": null,
      "outputs": []
    },
    {
      "cell_type": "code",
      "metadata": {
        "id": "6mL0RI0V9JmP"
      },
      "source": [
        "#!pip install pycaret"
      ],
      "execution_count": null,
      "outputs": []
    },
    {
      "cell_type": "code",
      "metadata": {
        "id": "WL9nShOd86Fu"
      },
      "source": [
        "from pycaret.classification import *"
      ],
      "execution_count": null,
      "outputs": []
    },
    {
      "cell_type": "markdown",
      "metadata": {
        "id": "YRtIVR7LC9nl"
      },
      "source": [
        "https://www.kaggle.com/frtgnn/pycaret-introduction-classification-regression"
      ]
    },
    {
      "cell_type": "markdown",
      "metadata": {
        "id": "3-dLwhmi9jTA"
      },
      "source": [
        "### Set up"
      ]
    },
    {
      "cell_type": "code",
      "metadata": {
        "id": "jooY5VUr9sqd"
      },
      "source": [
        "# Normalizar os nomes das colunas:\n",
        "df_titanic.columns = [colunas.lower() for colunas in df_titanic.columns]"
      ],
      "execution_count": null,
      "outputs": []
    },
    {
      "cell_type": "code",
      "metadata": {
        "id": "erqtZNz9yZ2T"
      },
      "source": [
        "df_titanic.head()"
      ],
      "execution_count": null,
      "outputs": []
    },
    {
      "cell_type": "markdown",
      "metadata": {
        "id": "bf_IntG2ygtP"
      },
      "source": [
        "### Tratamento da feature/variável fare"
      ]
    },
    {
      "cell_type": "code",
      "metadata": {
        "id": "buRgX2rucrHT"
      },
      "source": [
        "#fare_bins = ['Muito Baixo', 'Baixo', 'Medio', 'Alto', 'Muito Alto']\n",
        "fare_bins = ['Baixo', 'Medio', 'Alto']\n",
        "\n",
        "df_titanic2 = df_titanic.copy()\n",
        "\n",
        "# Tratamentos necessários\n",
        "\n",
        "#df_titanic2['fare_bins'] = pd.qcut(df_titanic2['fare'], q = [0, .2, .4, .6, .8, 1], labels = fare_bins\n",
        "#df_titanic2['fare_bins'] = pd.qcut(df_titanic2['fare'], q = 5, labels = fare_bins)\n",
        "df_titanic2['fare_bins'] = pd.qcut(df_titanic2['fare'], q = 3, labels = fare_bins)\n",
        "\n",
        "#df_titanic2.drop(columns = [], axis = 1, inplace = True)"
      ],
      "execution_count": null,
      "outputs": []
    },
    {
      "cell_type": "code",
      "metadata": {
        "id": "6AWpUmbE7p39"
      },
      "source": [
        "df_titanic2['fare_bins'].value_counts()"
      ],
      "execution_count": null,
      "outputs": []
    },
    {
      "cell_type": "code",
      "metadata": {
        "id": "W0RtT6Xr9IVL"
      },
      "source": [
        "clf = setup(data = df_titanic2,\n",
        "            target = 'survived', \n",
        "            numeric_imputation = 'mean', # para tratamento dos missing values\n",
        "            categorical_features = ['sex', 'embarked'], # lista das variáveis categóricas\n",
        "            ignore_features = ['name', 'ticket', 'cabin', 'passengerid'], # variáveis que serão ignoradas\n",
        "            session_id = 20111974, # Seed por questões de reproducibilidade\n",
        "            silent = False)"
      ],
      "execution_count": null,
      "outputs": []
    },
    {
      "cell_type": "code",
      "metadata": {
        "id": "mGGubn7k-GNi"
      },
      "source": [
        "compare_models()"
      ],
      "execution_count": null,
      "outputs": []
    },
    {
      "cell_type": "markdown",
      "metadata": {
        "id": "4YdMCHT92Tij"
      },
      "source": [
        "\tModel\tAccuracy\tAUC\tRecall\tPrec.\tF1\tKappa\tMCC\tTT (Sec)\n",
        "catboost\tCatBoost Classifier\t0.8218\t0.8634\t0.7857\t0.8275\t0.8154\t0.5996\t0.6150\t1.026\n",
        "gbc\tGradient Boosting Classifier\t0.8187\t0.8540\t0.7867\t0.8231\t0.8129\t0.5959\t0.6084\t0.111\n",
        "lightgbm\tLight Gradient Boosting Machine\t0.8186\t0.8683\t0.7937\t0.8195\t0.8149\t0.6009\t0.6073\t0.052"
      ]
    },
    {
      "cell_type": "code",
      "metadata": {
        "id": "8rcs_jJFCjRW"
      },
      "source": [
        "lgbm  = create_model('lightgbm')      "
      ],
      "execution_count": null,
      "outputs": []
    },
    {
      "cell_type": "code",
      "metadata": {
        "id": "5BdvRHPdCq0E"
      },
      "source": [
        "tuned_lightgbm = tune_model(lgbm)"
      ],
      "execution_count": null,
      "outputs": []
    },
    {
      "cell_type": "code",
      "metadata": {
        "id": "WwCW_pDYI1hy"
      },
      "source": [
        "plot_model(estimator = tuned_lightgbm, plot = 'learning')"
      ],
      "execution_count": null,
      "outputs": []
    },
    {
      "cell_type": "code",
      "metadata": {
        "id": "LES2FO1zI4X8"
      },
      "source": [
        "plot_model(estimator = tuned_lightgbm, plot = 'auc')"
      ],
      "execution_count": null,
      "outputs": []
    },
    {
      "cell_type": "code",
      "metadata": {
        "id": "xxGQX3jbI4bN"
      },
      "source": [
        "plot_model(estimator = tuned_lightgbm, plot = 'confusion_matrix')"
      ],
      "execution_count": null,
      "outputs": []
    },
    {
      "cell_type": "code",
      "metadata": {
        "id": "1O_9qDHgJJjw"
      },
      "source": [
        "plot_model(estimator = tuned_lightgbm, plot = 'feature')"
      ],
      "execution_count": null,
      "outputs": []
    },
    {
      "cell_type": "markdown",
      "metadata": {
        "id": "W1xnpqD-46vh"
      },
      "source": [
        "### Painel com todos os outputs"
      ]
    },
    {
      "cell_type": "code",
      "metadata": {
        "id": "PluFZQ8bI4hV"
      },
      "source": [
        "evaluate_model(tuned_lightgbm)"
      ],
      "execution_count": null,
      "outputs": []
    },
    {
      "cell_type": "code",
      "metadata": {
        "id": "JaffgUyy4bwz"
      },
      "source": [
        "!pip install shap"
      ],
      "execution_count": null,
      "outputs": []
    },
    {
      "cell_type": "code",
      "metadata": {
        "id": "Uez4Gik8JwET"
      },
      "source": [
        "interpret_model(tuned_lightgbm)"
      ],
      "execution_count": null,
      "outputs": []
    },
    {
      "cell_type": "code",
      "metadata": {
        "id": "9U2SnEKA41nW"
      },
      "source": [
        ""
      ],
      "execution_count": null,
      "outputs": []
    }
  ]
}