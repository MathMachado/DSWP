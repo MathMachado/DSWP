{
  "nbformat": 4,
  "nbformat_minor": 0,
  "metadata": {
    "colab": {
      "name": "NB02__Numpy.ipynb",
      "provenance": [],
      "collapsed_sections": [
        "n8BIbzQbNWUo",
        "7eS94uQ4NhVR",
        "SYOgJpGYVLUu",
        "CaHFxk98W5if",
        "ReWUyWiHXCnc",
        "CqszHxaKHr2h",
        "tXgF1Wl9gHKY",
        "Fotx7XUquAo8",
        "36kmLUYDvsUI",
        "SWO2GdNovxAp",
        "vpN54l4vxze5",
        "u4HOf9SNytSq",
        "6BQ9oZiD9hg5",
        "tz5-QdrX9vct",
        "p1muBgMX8NK4",
        "FxTC2-U88ajk",
        "z8EYn0pP25Rh"
      ],
      "include_colab_link": true
    },
    "kernelspec": {
      "name": "python3",
      "display_name": "Python 3"
    },
    "accelerator": "GPU"
  },
  "cells": [
    {
      "cell_type": "markdown",
      "metadata": {
        "id": "view-in-github",
        "colab_type": "text"
      },
      "source": [
        "<a href=\"https://colab.research.google.com/github/MathMachado/DSWP/blob/master/Notebooks/NB02__Numpy.ipynb\" target=\"_parent\"><img src=\"https://colab.research.google.com/assets/colab-badge.svg\" alt=\"Open In Colab\"/></a>"
      ]
    },
    {
      "cell_type": "markdown",
      "metadata": {
        "id": "6QhLXoatkvKR"
      },
      "source": [
        "<center><h1><b><i>NUMPY</i></b></h1></center>\n",
        "\n",
        "> NumPy é um pacote para computação científica e álgebra linear para Python.\n",
        "\n"
      ]
    },
    {
      "cell_type": "markdown",
      "metadata": {
        "id": "b8EZupp68vW8"
      },
      "source": [
        "# **AGENDA**:\n",
        "> Neste capítulo, vamos abordar os seguintes assuntos:\n",
        "\n",
        "* NumPy\n",
        "* Criar arrays\n",
        "* Criar Arrays Multidimensionais\n",
        "* Selecionar itens\n",
        "* Aplicar funções como max(), min() e etc\n",
        "* Calcular Estatísticas Descritivas: média e variância\n",
        "* Reshaping\n",
        "* Tansposta de um array\n",
        "* Autovalores e Autovetores\n",
        "* Wrap Up\n",
        "* Exercícios"
      ]
    },
    {
      "cell_type": "markdown",
      "metadata": {
        "id": "cO5t3xCO8kyK"
      },
      "source": [
        "___\n",
        "# **NOTAS E OBSERVAÇÕES**\n",
        "\n",
        "* Nosso foco com o NumPy é facilitar o uso do Pandas;"
      ]
    },
    {
      "cell_type": "markdown",
      "metadata": {
        "id": "z2IFUG4GSB0Z"
      },
      "source": [
        "___\n",
        "# **CHEETSHEET**"
      ]
    },
    {
      "cell_type": "markdown",
      "metadata": {
        "id": "jYLeDVH-SNCg"
      },
      "source": [
        "![Numpy](https://github.com/MathMachado/Materials/blob/master/numpy_basics-1.png?raw=true)"
      ]
    },
    {
      "cell_type": "markdown",
      "metadata": {
        "id": "0mKvExmgUFOk"
      },
      "source": [
        "# **ESCALAR, VETORES, MATRIZES E TENSORES**\n",
        "\n",
        "![Tensor](https://github.com/MathMachado/Materials/blob/master/tensor.png?raw=true)\n",
        "\n",
        "Source: [PyTorch for Deep Learning: A Quick Guide for Starters](https://towardsdatascience.com/pytorch-for-deep-learning-a-quick-guide-for-starters-5b60d2dbb564)"
      ]
    },
    {
      "cell_type": "markdown",
      "metadata": {
        "id": "o00pYRIkXiAU"
      },
      "source": [
        "## Import Statement - Primeiros exemplos\n",
        "> Como exemplo, considere gerar uma amostra aleatória de tamanho 10 da Distribuição Normal(0, 1):"
      ]
    },
    {
      "cell_type": "markdown",
      "metadata": {
        "id": "l_XuvcUDWNDk"
      },
      "source": [
        "## Importar a library NumPy"
      ]
    },
    {
      "cell_type": "markdown",
      "metadata": {
        "id": "am_ZTIGaapCo"
      },
      "source": [
        "### **Opção 1**: Importar a biblioteca NumPy COM alias"
      ]
    },
    {
      "cell_type": "code",
      "metadata": {
        "id": "b4irLw6BWVVZ"
      },
      "source": [
        "import numpy as np"
      ],
      "execution_count": 16,
      "outputs": []
    },
    {
      "cell_type": "code",
      "metadata": {
        "id": "JK54ga7dXnJu",
        "colab": {
          "base_uri": "https://localhost:8080/"
        },
        "outputId": "3d6cd606-b22c-4cd1-9ba7-66d5537812a5"
      },
      "source": [
        "# Set up o número de casas decimais para o NumPy:\n",
        "np.set_printoptions(precision = 2, suppress = True) # Mesma coisa que round(numero, 2)\n",
        "\n",
        "'''\n",
        "Define seed por questões de reproducibilidade, ou seja,\n",
        "garante que todos vamos gerar os mesmos números aleatórios\n",
        "'''\n",
        "np.random.seed(seed = 20111974)\n",
        "\n",
        "# Gera 10 números aleatórios a partir da Distribuição Normal(media, desvio_padrao)\n",
        "media = 0\n",
        "desvio_padrao = 1\n",
        "a_conjunto1 = np.random.normal(media, desvio_padrao, size = 10) # Array 1D de size = 10\n",
        "a_conjunto1"
      ],
      "execution_count": 15,
      "outputs": [
        {
          "output_type": "execute_result",
          "data": {
            "text/plain": [
              "array([ 2.51,  1.11,  2.06,  0.56,  0.3 ,  1.05, -0.13,  1.06,  1.14,\n",
              "        1.38])"
            ]
          },
          "metadata": {},
          "execution_count": 15
        }
      ]
    },
    {
      "cell_type": "markdown",
      "metadata": {
        "id": "3-0934isZUm6"
      },
      "source": [
        "**Observação**: Altere o valor de [precision] para 4, 2 e 0 e observe o que acontece."
      ]
    },
    {
      "cell_type": "markdown",
      "metadata": {
        "id": "9ob_8S_bYYa2"
      },
      "source": [
        "### **Opção 2**: Importar a biblioteca NumPy SEM alias"
      ]
    },
    {
      "cell_type": "code",
      "metadata": {
        "id": "NcGd1ho_XDXU"
      },
      "source": [
        "import numpy"
      ],
      "execution_count": null,
      "outputs": []
    },
    {
      "cell_type": "code",
      "metadata": {
        "id": "zFYH6J5-Ydjl",
        "colab": {
          "base_uri": "https://localhost:8080/"
        },
        "outputId": "f8e8649c-16d5-4548-e6b7-52025503335d"
      },
      "source": [
        "# Set up o número de casas decimais para o NumPy:\n",
        "numpy.set_printoptions(precision = 2, suppress = True)\n",
        "\n",
        "'''\n",
        "Define seed por questões de reproducibilidade, ou seja,\n",
        "garante que todos vamos gerar os mesmos números aleatórios\n",
        "'''\n",
        "numpy.random.seed(seed = 20111974)\n",
        "\n",
        "# Gera 10 números aleatórios a partir da Distribuição Normal(mu, desvio_padrao)\n",
        "media = 0\n",
        "desvio_padrao = 1\n",
        "numpy.random.normal(size = 10)"
      ],
      "execution_count": null,
      "outputs": [
        {
          "output_type": "execute_result",
          "data": {
            "text/plain": [
              "array([ 2.51,  1.11,  2.06,  0.56,  0.3 ,  1.05, -0.13,  1.06,  1.14,\n",
              "        1.38])"
            ]
          },
          "metadata": {},
          "execution_count": 6
        }
      ]
    },
    {
      "cell_type": "markdown",
      "metadata": {
        "id": "AwWSzYrZWfvA"
      },
      "source": [
        "### **Opção 3**: Importar funções específicas da biblioteca NumPy"
      ]
    },
    {
      "cell_type": "code",
      "metadata": {
        "id": "bfYJzcqRa5eu"
      },
      "source": [
        "from numpy import set_printoptions\n",
        "from numpy.random import seed, normal"
      ],
      "execution_count": null,
      "outputs": []
    },
    {
      "cell_type": "code",
      "metadata": {
        "id": "Xj6fbpvubH_p",
        "colab": {
          "base_uri": "https://localhost:8080/"
        },
        "outputId": "17e51186-4fdb-4d7a-c225-294405ba27ba"
      },
      "source": [
        "# Set up o número de casas decimais para o NumPy:\n",
        "set_printoptions(precision = 2, suppress = True)\n",
        "\n",
        "'''\n",
        "Define seed por questões de reproducibilidade, ou seja,\n",
        "garante que todos vamos gerar os mesmos números aleatórios\n",
        "'''\n",
        "seed(seed = 20111974)\n",
        "\n",
        "# Gera 10 números aleatórios a partir da Distribuição Normal(mu, desvio_padrao)\n",
        "media = 0\n",
        "desvio_padrao = 1\n",
        "np.random.normal(size = 10)"
      ],
      "execution_count": null,
      "outputs": [
        {
          "output_type": "execute_result",
          "data": {
            "text/plain": [
              "array([ 2.51,  1.11,  2.06,  0.56,  0.3 ,  1.05, -0.13,  1.06,  1.14,\n",
              "        1.38])"
            ]
          },
          "metadata": {},
          "execution_count": 11
        }
      ]
    },
    {
      "cell_type": "markdown",
      "metadata": {
        "id": "00RerJPChnuP"
      },
      "source": [
        "___\n",
        "# **Estatísticas Descriticas com NumPy**"
      ]
    },
    {
      "cell_type": "markdown",
      "metadata": {
        "id": "Qa6ro1VJlShd"
      },
      "source": [
        "## Exemplo 1\n",
        "> Vamos voltar ao mesmo exemplo anterior, mas desta vez, usando a opção 1 (com alias):\n",
        "\n",
        "* Gerar uma amostra aleatória de tamanho 10 da Distribuiçao Normal(0, 1)."
      ]
    },
    {
      "cell_type": "code",
      "metadata": {
        "id": "31dSBU8khvFk",
        "colab": {
          "base_uri": "https://localhost:8080/"
        },
        "outputId": "e32d09b5-2f91-4562-d4a7-78bfc4d13ca8"
      },
      "source": [
        "# Set up o número de casas decimais para o NumPy:\n",
        "np.set_printoptions(precision = 2, suppress = True)\n",
        "\n",
        "# Define seed\n",
        "np.random.seed(seed = 20111974)\n",
        "\n",
        "# Gera 10 números aleatórios a partir da Distribuição Normal(media, desvio_padrao)\n",
        "media = 0\n",
        "desvio_padrao = 1\n",
        "\n",
        "np.random\n",
        "a_conjunto1 = np.random.normal(media, desvio_padrao, size = 10) # Array 1D de size = 10\n",
        "a_conjunto1"
      ],
      "execution_count": null,
      "outputs": [
        {
          "output_type": "execute_result",
          "data": {
            "text/plain": [
              "array([ 2.51,  1.11,  2.06,  0.56,  0.3 ,  1.05, -0.13,  1.06,  1.14,\n",
              "        1.38])"
            ]
          },
          "metadata": {},
          "execution_count": 9
        }
      ]
    },
    {
      "cell_type": "markdown",
      "metadata": {
        "id": "wa2t0P3nevTh"
      },
      "source": [
        "Conferindo a média e desvio-padrão do array gerado:"
      ]
    },
    {
      "cell_type": "code",
      "metadata": {
        "id": "drUyk3f5ekDq",
        "colab": {
          "base_uri": "https://localhost:8080/",
          "height": 35
        },
        "outputId": "597c1dda-fd39-402d-be8b-c66c0b364876"
      },
      "source": [
        "f'Distribuição N({np.mean(a_conjunto1)}, {np.std(a_conjunto1)})'"
      ],
      "execution_count": null,
      "outputs": [
        {
          "output_type": "execute_result",
          "data": {
            "text/plain": [
              "'Distribuição N(1.1043374540652753, 0.735246705657231)'"
            ],
            "application/vnd.google.colaboratory.intrinsic+json": {
              "type": "string"
            }
          },
          "metadata": {},
          "execution_count": 12
        }
      ]
    },
    {
      "cell_type": "markdown",
      "metadata": {
        "id": "XSp7Hd-Gib67"
      },
      "source": [
        "Estávamos à espera de media = 0 e sigma = 1. Certo? Porque isso não aconteceu?"
      ]
    },
    {
      "cell_type": "markdown",
      "metadata": {
        "id": "HP_8VSgygXOF"
      },
      "source": [
        "## **Laboratório 1**\n",
        "> Altere os valores de [size] para 100, 1.000, 10.000, 100.000 e 1.000.000 e relate o que acontece com a média e desvio padrão."
      ]
    },
    {
      "cell_type": "markdown",
      "metadata": {
        "id": "4TbmVbdcg6iU"
      },
      "source": [
        "## **Minha solução**"
      ]
    },
    {
      "cell_type": "code",
      "metadata": {
        "id": "-qdiqBVHg-gd",
        "colab": {
          "base_uri": "https://localhost:8080/"
        },
        "outputId": "639e30fd-2dea-4321-9337-5ae6773f4410"
      },
      "source": [
        "# Define a média e o desvio-padrão\n",
        "media = 0\n",
        "desvio_padrao = 1\n",
        "\n",
        "# Define seed\n",
        "np.random.seed(seed = 20111974)\n",
        "l_lista_conjunto = [10, 100, 1000, 10000, 100000, 1000000, 10000000, 100000000, 1000000000]\n",
        "\n",
        "for i_size in l_lista_conjunto:\n",
        "    a_conjunto1 = np.random.normal(media, desvio_padrao, size = i_size)\n",
        "    print(f'Size: {i_size}--> Distribuição: N({np.mean(a_conjunto1)}, {np.std(a_conjunto1)})')"
      ],
      "execution_count": null,
      "outputs": [
        {
          "output_type": "stream",
          "name": "stdout",
          "text": [
            "Size: 10--> Distribuição: N(1.1043374540652753, 0.735246705657231)\n",
            "Size: 100--> Distribuição: N(-0.14020525697186714, 0.9254100654233511)\n",
            "Size: 1000--> Distribuição: N(0.021644923462910873, 1.0054417533501039)\n",
            "Size: 10000--> Distribuição: N(0.015499353804764507, 0.9970905566844254)\n",
            "Size: 100000--> Distribuição: N(0.002039323041103302, 0.9960906293570095)\n",
            "Size: 1000000--> Distribuição: N(-1.1062145143945586e-06, 0.999473966169304)\n",
            "Size: 10000000--> Distribuição: N(0.0002892972723094129, 1.0001202837422036)\n",
            "Size: 100000000--> Distribuição: N(0.00011967896623555603, 0.999944390106086)\n"
          ]
        }
      ]
    },
    {
      "cell_type": "markdown",
      "metadata": {
        "id": "bp-YuviQwWqE"
      },
      "source": [
        "Com relação à Distribuição Normal($\\mu, \\sigma$), temos que:\n",
        "\n",
        "![NormalDistribution](https://github.com/MathMachado/Materials/blob/master/NormalDistribution.PNG?raw=true)\n",
        "\n",
        "Fonte: [Normal Distribution](https://towardsdatascience.com/understanding-the-68-95-99-7-rule-for-a-normal-distribution-b7b7cbf760c2)"
      ]
    },
    {
      "cell_type": "markdown",
      "metadata": {
        "id": "KwHBY3Enk04N"
      },
      "source": [
        "## Lei Forte dos Grandes Números - LFGN\n",
        "> Por favor, leia o que diz a [Law of large numbers](https://en.wikipedia.org/wiki/Law_of_large_numbers). --> 3 minutos.\n",
        "\n",
        "* O que você aprendeu com isso?"
      ]
    },
    {
      "cell_type": "markdown",
      "metadata": {
        "id": "BhwmSkAjlszT"
      },
      "source": [
        "## Exemplo 2\n",
        "> Vamos nos aprofundar um pouco mais no que diz a LFGN. Para isso, vamos simular o lançamento de dados. Como sabemos, os dados possuem 6 lados numerados de 1 a 6, com igual probabilidade. Certo?\n",
        "\n",
        "A LFGN nos diz que à medida que N (o tamanho da amostra ou número de dados) cresce, então a média dos dados converge para o valor esperado. Isso quer dizer que:\n",
        "\n",
        "$$\\frac{1+2+3+4+5+6}{6}= \\frac{21}{6}= 3,5$$\n",
        "\n",
        "Ou seja, à medida que N (o tamanho da amostra) cresce, espera-se que a média dos dados se aproxime de 3,5. Ok?\n",
        "\n",
        "Vamos ver se isso é verdade..."
      ]
    },
    {
      "cell_type": "markdown",
      "metadata": {
        "id": "-QcJXf6roj0D"
      },
      "source": [
        "Vamos usar o método np.random.randint (= função randint definido na classe np.random), a seguir:"
      ]
    },
    {
      "cell_type": "markdown",
      "metadata": {
        "id": "A2u0RzLOrRE2"
      },
      "source": [
        "O que significa ou qual é a interpretação do resultado abaixo?"
      ]
    },
    {
      "cell_type": "code",
      "metadata": {
        "id": "B3-X_VBerUfa"
      },
      "source": [
        "# Define seed\n",
        "import numpy as np\n",
        "np.random.seed(seed = 20111974)\n",
        "\n",
        "# Simular 100 lançamentos de um dado:\n",
        "a_dados_simulados = np.random.randint(1, 7, size = 100)\n",
        "a_dados_simulados"
      ],
      "execution_count": null,
      "outputs": []
    },
    {
      "cell_type": "code",
      "metadata": {
        "id": "m8Of2MMIrbF3"
      },
      "source": [
        "# Importar o pandas, pois vamos precisar do método pd.value_counts():\n",
        "import pandas as pd\n",
        "pd.value_counts(a_dados_simulados)"
      ],
      "execution_count": null,
      "outputs": []
    },
    {
      "cell_type": "markdown",
      "metadata": {
        "id": "54VwED8Br8rx"
      },
      "source": [
        "**Interpretação**: Isso quer dizer que fizemos a simulação de lançamento de um dado 100 vezes. Acima, a frequência com que cada lado do dado aparece.\n",
        "\n",
        "Eu estava à espera de frequência igual para cada um dos lados, isto é, por volta dos 16 ou 17. Ou seja:\n",
        "\n",
        "$$\\frac{100}{6}= 16,66$$\n",
        "\n",
        "Mas ok, vamos continuar com nosso experimento..."
      ]
    },
    {
      "cell_type": "code",
      "metadata": {
        "id": "HT_Dak-umC6I"
      },
      "source": [
        "# Definir a semente\n",
        "np.random.seed(20111974)\n",
        "\n",
        "for i_size in [10, 30, 50, 75, 100, 1000, 10000, 100000, 1000000]:\n",
        "    a_dados_simulados = np.random.randint(1, 7, size = i_size)\n",
        "    print(f'Size: {i_size} --> Média: {np.mean(a_dados_simulados)}')"
      ],
      "execution_count": null,
      "outputs": []
    },
    {
      "cell_type": "markdown",
      "metadata": {
        "id": "edWNNOnXtbtd"
      },
      "source": [
        "E agora, como você interpreta esses resultados?"
      ]
    },
    {
      "cell_type": "markdown",
      "metadata": {
        "id": "eL6gXThkYcSf"
      },
      "source": [
        "## Calcular percentis\n",
        "> Boxplot"
      ]
    },
    {
      "cell_type": "markdown",
      "metadata": {
        "id": "jlGOQfXfPf0D"
      },
      "source": [
        "![BoxPlot](https://github.com/MathMachado/Materials/blob/master/boxplot.png?raw=true)\n",
        "\n",
        "Fonte: [Understanding Boxplots](https://towardsdatascience.com/understanding-boxplots-5e2df7bcbd51)"
      ]
    },
    {
      "cell_type": "markdown",
      "metadata": {
        "id": "grtEXG2BoNRt"
      },
      "source": [
        "Considere o array de retornos (simulados) a seguir:"
      ]
    },
    {
      "cell_type": "code",
      "metadata": {
        "id": "DjPKKq01YjF9",
        "colab": {
          "base_uri": "https://localhost:8080/"
        },
        "outputId": "c283fffc-b07f-4f0b-b968-0f2a87ce129a"
      },
      "source": [
        "import numpy as np\n",
        "np.random.seed(20111974)\n",
        "\n",
        "# Simulando Retornos de ativos financeiros com a distribuição Normal(0, 1):\n",
        "a_retornos = np.random.normal(0, 1, 100)\n",
        "print(f'Média: {np.mean(a_retornos)}')"
      ],
      "execution_count": null,
      "outputs": [
        {
          "output_type": "stream",
          "name": "stdout",
          "text": [
            "Média: -0.016996335492713833\n"
          ]
        }
      ]
    },
    {
      "cell_type": "code",
      "metadata": {
        "id": "ajjlfqgssLVO",
        "colab": {
          "base_uri": "https://localhost:8080/"
        },
        "outputId": "b1fd677b-290a-4ec3-e82f-dc29074cf4e3"
      },
      "source": [
        "a_retornos"
      ],
      "execution_count": null,
      "outputs": [
        {
          "output_type": "execute_result",
          "data": {
            "text/plain": [
              "array([ 2.5062768 ,  1.11440422,  2.05565501,  0.56482376,  0.29897276,\n",
              "        1.04930857, -0.12607366,  1.06227632,  1.13807032,  1.37966044,\n",
              "       -2.05995563,  0.67474814,  0.72722843, -0.33923852,  0.43613107,\n",
              "        0.59135489, -1.29281877,  1.17712036, -0.98644163, -1.79034143,\n",
              "       -1.08913605, -0.90712825, -1.02291108, -1.36445713, -0.29429164,\n",
              "        0.06343709, -1.14196185, -0.50706079, -0.83539436, -1.41492946,\n",
              "       -0.2159062 , -1.16519474, -0.60767518, -0.61510925,  1.0771542 ,\n",
              "        0.5043687 ,  0.02674197,  1.83494644,  0.34728874, -1.14671885,\n",
              "       -0.59841423, -0.42698353,  0.10901983, -0.75168457,  0.71689294,\n",
              "       -0.50810299,  0.47524103, -0.38248511, -1.37491973,  1.5355728 ,\n",
              "       -0.27356178,  0.68072592, -1.80454873,  1.16995833, -0.37988822,\n",
              "        0.19305861,  1.53792436, -0.11802807, -0.97621103, -1.23463994,\n",
              "        1.0504434 ,  1.91481015,  0.80359454,  0.35869561,  1.03409992,\n",
              "       -0.37200685,  0.32947575,  0.70038627, -0.98085533, -1.21072144,\n",
              "        0.74366412,  0.18372348,  0.10430302, -0.78160841, -0.0423915 ,\n",
              "        1.67094293, -1.07256479, -0.5493723 , -1.83082917,  0.11510819,\n",
              "        1.3911365 , -0.28940563,  0.31904722, -0.70009623, -0.4353552 ,\n",
              "       -2.0301258 , -0.14205882,  1.66292963, -0.57691495, -0.78963384,\n",
              "       -0.80660503,  0.05581487,  0.8715663 , -0.3499477 ,  1.37366912,\n",
              "        0.88027638, -1.47925906, -0.40657104, -0.18789895,  0.47475142])"
            ]
          },
          "metadata": {},
          "execution_count": 2
        }
      ]
    },
    {
      "cell_type": "markdown",
      "metadata": {
        "id": "XZ3m06gv9lei"
      },
      "source": [
        "A seguir, o boxplot do array a_retornos:"
      ]
    },
    {
      "cell_type": "code",
      "metadata": {
        "id": "QtuwJP449tBQ",
        "colab": {
          "base_uri": "https://localhost:8080/",
          "height": 429
        },
        "outputId": "e6b1030f-0b6d-4e30-896e-3ac7944d6f4a"
      },
      "source": [
        "# Import da biblioteca seaborn: Uma das principais libraries para Data Visualization (outras: matplotlib)\n",
        "import seaborn as sns\n",
        "\n",
        "sns.boxplot(y = a_retornos)"
      ],
      "execution_count": null,
      "outputs": [
        {
          "output_type": "execute_result",
          "data": {
            "text/plain": [
              "<Axes: >"
            ]
          },
          "metadata": {},
          "execution_count": 3
        },
        {
          "output_type": "display_data",
          "data": {
            "text/plain": [
              "<Figure size 640x480 with 1 Axes>"
            ],
            "image/png": "[encoded data removed]"
          },
          "metadata": {}
        }
      ]
    },
    {
      "cell_type": "code",
      "metadata": {
        "id": "o9ujdjxNY6qE"
      },
      "source": [
        "# Vamos usar o método np.percentile(array, q = [p1, p2, p3, ..., p99])\n",
        "percentis = np.percentile(a_retornos, q = [1, 5, 25, 50, 55, 75, 99])\n",
        "\n",
        "# Primeiro Quartil\n",
        "q1 = percentis[2]"
      ],
      "execution_count": null,
      "outputs": []
    },
    {
      "cell_type": "markdown",
      "metadata": {
        "id": "c75g2Egco2lc"
      },
      "source": [
        "Em qual posição do array a_retornos se encontra Q3?"
      ]
    },
    {
      "cell_type": "code",
      "metadata": {
        "id": "nZr-A82Zo8Kb",
        "colab": {
          "base_uri": "https://localhost:8080/"
        },
        "outputId": "e07a6a2b-1c90-41e5-8469-b2ba3151b761"
      },
      "source": [
        "q3 = percentis[5]\n",
        "\n",
        "# ou de trás para a frente do conteúdo da lista:\n",
        "q3_2 = percentis[-2]\n",
        "print(q3, q3_2)"
      ],
      "execution_count": null,
      "outputs": [
        {
          "output_type": "stream",
          "name": "stdout",
          "text": [
            "0.7194768106252311 0.7194768106252311\n"
          ]
        }
      ]
    },
    {
      "cell_type": "code",
      "metadata": {
        "id": "sWrnESPQT4JM"
      },
      "source": [
        "# lim_inferior_outlier e lim_superior_outlier para detecção de outliers\n",
        "lim_inferior_outlier = q1 - 1.5 * (q3 - q1)\n",
        "lim_superior_outlier = q3 + 1.5 * (q3 - q1)"
      ],
      "execution_count": null,
      "outputs": []
    },
    {
      "cell_type": "code",
      "metadata": {
        "id": "Yb4-ZJlUUYsi",
        "colab": {
          "base_uri": "https://localhost:8080/",
          "height": 35
        },
        "outputId": "3746040b-c233-48d9-e9ea-0da771db2426"
      },
      "source": [
        "f'Limite Inferior: {lim_inferior_outlier}; Limite Superior: {lim_superior_outlier}'"
      ],
      "execution_count": null,
      "outputs": [
        {
          "output_type": "execute_result",
          "data": {
            "text/plain": [
              "'Limite Inferior: -3.0382521297304486; Limite Superior: 2.974114174838639'"
            ],
            "application/vnd.google.colaboratory.intrinsic+json": {
              "type": "string"
            }
          },
          "metadata": {},
          "execution_count": 7
        }
      ]
    },
    {
      "cell_type": "code",
      "metadata": {
        "id": "Jr6oXIHlUxOe",
        "colab": {
          "base_uri": "https://localhost:8080/"
        },
        "outputId": "c0cb1b43-2ae5-4263-ecc4-d4d16a3090bc"
      },
      "source": [
        "np.min(a_retornos)"
      ],
      "execution_count": null,
      "outputs": [
        {
          "output_type": "execute_result",
          "data": {
            "text/plain": [
              "-2.0599556303504514"
            ]
          },
          "metadata": {},
          "execution_count": 8
        }
      ]
    },
    {
      "cell_type": "code",
      "metadata": {
        "id": "UxE47cN0U54X",
        "colab": {
          "base_uri": "https://localhost:8080/"
        },
        "outputId": "b4d1bf39-684b-4915-a7ab-cc398a03a0e7"
      },
      "source": [
        "np.max(a_retornos)"
      ],
      "execution_count": null,
      "outputs": [
        {
          "output_type": "execute_result",
          "data": {
            "text/plain": [
              "2.506276801325959"
            ]
          },
          "metadata": {},
          "execution_count": 9
        }
      ]
    },
    {
      "cell_type": "markdown",
      "metadata": {
        "id": "OTB9HnIac499"
      },
      "source": [
        "___\n",
        "# **Ordenar itens de um array**\n",
        "> Considere o array a seguir:"
      ]
    },
    {
      "cell_type": "code",
      "metadata": {
        "id": "Jgj8Yw46dBMx"
      },
      "source": [
        "np.random.seed(20111974)\n",
        "a_conjunto1 = np.random.random(10)\n",
        "a_conjunto1"
      ],
      "execution_count": null,
      "outputs": []
    },
    {
      "cell_type": "markdown",
      "metadata": {
        "id": "cC9272GFdRln"
      },
      "source": [
        "Ordenando os itens de a_conjunto1..."
      ]
    },
    {
      "cell_type": "code",
      "metadata": {
        "id": "YUP90nBVdUeF"
      },
      "source": [
        "np.sort(a_conjunto1)"
      ],
      "execution_count": null,
      "outputs": []
    },
    {
      "cell_type": "markdown",
      "metadata": {
        "id": "lG763cDGj-yB"
      },
      "source": [
        "___\n",
        "# **Obter ajuda**"
      ]
    },
    {
      "cell_type": "code",
      "metadata": {
        "id": "ehxPlD3EkEYL"
      },
      "source": [
        "help(np.random.normal)"
      ],
      "execution_count": null,
      "outputs": []
    },
    {
      "cell_type": "markdown",
      "metadata": {
        "id": "1Q_konJVaBsV"
      },
      "source": [
        "___\n",
        "# **Criar arrays 1D**"
      ]
    },
    {
      "cell_type": "code",
      "metadata": {
        "id": "DddZT5kadYJ7"
      },
      "source": [
        "import numpy as np\n",
        "np.set_printoptions(precision = 2, suppress = True)\n",
        "np.random.seed(seed = 20111974)"
      ],
      "execution_count": null,
      "outputs": []
    },
    {
      "cell_type": "markdown",
      "metadata": {
        "id": "jaqd-VnF3yIt"
      },
      "source": [
        "Criar o array 1D a_conjunto1, com os seguintes números:"
      ]
    },
    {
      "cell_type": "code",
      "metadata": {
        "id": "E3niz_zHaF3e",
        "colab": {
          "base_uri": "https://localhost:8080/"
        },
        "outputId": "8088f9b1-6084-4b0f-a3bc-7577b538a0d0"
      },
      "source": [
        "a_conjunto1 = np.array([0, 1, 2, 3, 4, 5, 6, 7, 8, 9])\n",
        "a_conjunto1"
      ],
      "execution_count": null,
      "outputs": [
        {
          "output_type": "execute_result",
          "data": {
            "text/plain": [
              "array([0, 1, 2, 3, 4, 5, 6, 7, 8, 9])"
            ]
          },
          "metadata": {},
          "execution_count": 10
        }
      ]
    },
    {
      "cell_type": "markdown",
      "metadata": {
        "id": "DyfXbW_ZKJBS"
      },
      "source": [
        "Qual a dimensão de a_conjunto1?"
      ]
    },
    {
      "cell_type": "code",
      "metadata": {
        "id": "gbHlydALKB3R",
        "colab": {
          "base_uri": "https://localhost:8080/"
        },
        "outputId": "dcac6e9f-d197-46b2-a7df-1517ea0c5214"
      },
      "source": [
        "# Dimensão do array\n",
        "a_conjunto1.ndim"
      ],
      "execution_count": null,
      "outputs": [
        {
          "output_type": "execute_result",
          "data": {
            "text/plain": [
              "1"
            ]
          },
          "metadata": {},
          "execution_count": 11
        }
      ]
    },
    {
      "cell_type": "markdown",
      "metadata": {
        "id": "am9otElpKNPa"
      },
      "source": [
        "Qual o shape (dimensão) do array a_conjunto1?"
      ]
    },
    {
      "cell_type": "code",
      "metadata": {
        "id": "juJJ74d2wale",
        "colab": {
          "base_uri": "https://localhost:8080/"
        },
        "outputId": "4f725d52-b2df-4f86-9292-3023cb6ae2c3"
      },
      "source": [
        "# Números de itens no array\n",
        "a_conjunto1.shape"
      ],
      "execution_count": null,
      "outputs": [
        {
          "output_type": "execute_result",
          "data": {
            "text/plain": [
              "(10,)"
            ]
          },
          "metadata": {},
          "execution_count": 12
        }
      ]
    },
    {
      "cell_type": "markdown",
      "metadata": {
        "id": "BHg4Rre3GwPy"
      },
      "source": [
        "O array a_conjunto1 poderia ter sido criado usando a função np.arange(inicio, fim, step):"
      ]
    },
    {
      "cell_type": "code",
      "metadata": {
        "id": "I3fyusN7G5Zn"
      },
      "source": [
        "# Lembre-se que o número 10 é exclusive.\n",
        "a_conjunto2 = np.arange(start = 0, stop = 10, step = 1)"
      ],
      "execution_count": null,
      "outputs": []
    },
    {
      "cell_type": "markdown",
      "metadata": {
        "id": "IHCEpmUxXsaK"
      },
      "source": [
        "Outra alternativa seria usar np.linspace(start = 0, stop = 10, num = 9). Acompanhe a seguir:"
      ]
    },
    {
      "cell_type": "code",
      "metadata": {
        "id": "JB9Y_x3RX1GX"
      },
      "source": [
        "# Com np.linspace, o valor 9 é inclusive.\n",
        "a_conjunto3 = np.linspace(0, 9, 10)"
      ],
      "execution_count": null,
      "outputs": []
    },
    {
      "cell_type": "markdown",
      "metadata": {
        "id": "P6MR8MPeYOZm"
      },
      "source": [
        "Compare os resultados de a_conjunto1, a_conjunto2 e a_conjunto3 a seguir:"
      ]
    },
    {
      "cell_type": "code",
      "metadata": {
        "id": "tWEzge6HYSFu",
        "colab": {
          "base_uri": "https://localhost:8080/"
        },
        "outputId": "5dd17e29-a8e8-48c4-8f9d-bd1583a18899"
      },
      "source": [
        "a_conjunto1"
      ],
      "execution_count": null,
      "outputs": [
        {
          "output_type": "execute_result",
          "data": {
            "text/plain": [
              "array([0, 1, 2, 3, 4, 5, 6, 7, 8, 9])"
            ]
          },
          "metadata": {},
          "execution_count": 14
        }
      ]
    },
    {
      "cell_type": "code",
      "metadata": {
        "id": "lUNlFVKYYT9f",
        "colab": {
          "base_uri": "https://localhost:8080/"
        },
        "outputId": "6bed6b09-57e8-4cb6-bafc-b305a17cf9e5"
      },
      "source": [
        "a_conjunto2"
      ],
      "execution_count": null,
      "outputs": [
        {
          "output_type": "execute_result",
          "data": {
            "text/plain": [
              "array([0, 1, 2, 3, 4, 5, 6, 7, 8, 9])"
            ]
          },
          "metadata": {},
          "execution_count": 17
        }
      ]
    },
    {
      "cell_type": "code",
      "metadata": {
        "id": "Xo8Lid5fYVPW",
        "colab": {
          "base_uri": "https://localhost:8080/"
        },
        "outputId": "a5f150cf-4f14-4024-dd33-cfa27b81c1b8"
      },
      "source": [
        "a_conjunto3"
      ],
      "execution_count": null,
      "outputs": [
        {
          "output_type": "execute_result",
          "data": {
            "text/plain": [
              "array([0., 1., 2., 3., 4., 5., 6., 7., 8., 9.])"
            ]
          },
          "metadata": {},
          "execution_count": 18
        }
      ]
    },
    {
      "cell_type": "markdown",
      "metadata": {
        "id": "V9aW7C4vHAcF"
      },
      "source": [
        "Ou seja, a_conjunto1 é igual a a_conjunto2 que também é igual a a_conjunto3. Ok?\n",
        "\n",
        "**ATENÇÃO**: Observe que a sintaxe para criar a_conjunto3 é ligeiramente diferente da sintaxe usada para criar a_conjunto1 e a_conjunto2. Abaixo, a sintaxe do comando np.linspace:\n",
        "\n",
        "![](https://github.com/MathMachado/Materials/blob/master/linspace_sintaxe.PNG?raw=true)\n",
        "\n",
        "Source: [HOW TO USE THE NUMPY LINSPACE FUNCTION](https://www.sharpsightlabs.com/blog/numpy-linspace/)"
      ]
    },
    {
      "cell_type": "markdown",
      "metadata": {
        "id": "KNnwZa3uvYqE"
      },
      "source": [
        "Soma 2 à cada item de a_conjunto1:"
      ]
    },
    {
      "cell_type": "code",
      "metadata": {
        "id": "Jt2KVyviw0bp"
      },
      "source": [
        "a_conjunto1"
      ],
      "execution_count": null,
      "outputs": []
    },
    {
      "cell_type": "code",
      "metadata": {
        "id": "arROkhWXbdTW"
      },
      "source": [
        "a_conjunto2 = a_conjunto1 + 2\n",
        "a_conjunto2"
      ],
      "execution_count": null,
      "outputs": []
    },
    {
      "cell_type": "markdown",
      "metadata": {
        "id": "ZJx2vG86vdVi"
      },
      "source": [
        "Multiplicar por 10 cada item de a_conjunto1:"
      ]
    },
    {
      "cell_type": "code",
      "metadata": {
        "id": "Vm7abO6Ebkun"
      },
      "source": [
        "a_conjunto1 = a_conjunto1*10\n",
        "a_conjunto1"
      ],
      "execution_count": null,
      "outputs": []
    },
    {
      "cell_type": "markdown",
      "metadata": {
        "id": "0Ev1xnBwaYJG"
      },
      "source": [
        "___\n",
        "# **Criar Arrays Multidimensionais**\n",
        "> Ao criarmos, por exemplo, um array 2D, então a chamamos de matriz."
      ]
    },
    {
      "cell_type": "markdown",
      "metadata": {
        "id": "gHaeAug5vjjd"
      },
      "source": [
        "Criar o array com 2 linhas e 3 colunas usando números aleatórios:"
      ]
    },
    {
      "cell_type": "code",
      "metadata": {
        "id": "VDi0vIPSYR4F",
        "colab": {
          "base_uri": "https://localhost:8080/"
        },
        "outputId": "68c152dd-65ad-46ae-a0eb-9dba491d160c"
      },
      "source": [
        "np.random.seed(20111974)\n",
        "a_conjunto1 = np.random.randn(2, 3)\n",
        "a_conjunto1"
      ],
      "execution_count": null,
      "outputs": [
        {
          "output_type": "execute_result",
          "data": {
            "text/plain": [
              "array([[2.5062768 , 1.11440422, 2.05565501],\n",
              "       [0.56482376, 0.29897276, 1.04930857]])"
            ]
          },
          "metadata": {},
          "execution_count": 19
        }
      ]
    },
    {
      "cell_type": "markdown",
      "metadata": {
        "id": "DIdd-nA3tJjV"
      },
      "source": [
        "## Dimensão de um array\n",
        "> Dimensão é o número de linhas e colunas da matriz."
      ]
    },
    {
      "cell_type": "code",
      "metadata": {
        "id": "pKvjjnkrK-v7",
        "colab": {
          "base_uri": "https://localhost:8080/"
        },
        "outputId": "3c149af9-f32d-4fc7-a82f-0fd2420d4b56"
      },
      "source": [
        "a_conjunto1.shape"
      ],
      "execution_count": null,
      "outputs": [
        {
          "output_type": "execute_result",
          "data": {
            "text/plain": [
              "(2, 3)"
            ]
          },
          "metadata": {},
          "execution_count": 20
        }
      ]
    },
    {
      "cell_type": "markdown",
      "metadata": {
        "id": "-DHS5jXELCfa"
      },
      "source": [
        "a_conjunto1 é um array 2D (ou matriz), ou seja, 2 linhas, onde cada linha tem 3 elementos."
      ]
    },
    {
      "cell_type": "markdown",
      "metadata": {
        "id": "HJI6X1wvv4Bg"
      },
      "source": [
        "Criar um array com 3 linhas e 3 colunas:"
      ]
    },
    {
      "cell_type": "code",
      "metadata": {
        "id": "hXPbWh3Tv26T",
        "colab": {
          "base_uri": "https://localhost:8080/"
        },
        "outputId": "c1480afb-01c0-4dc4-ce24-be205a264c82"
      },
      "source": [
        "a_conjunto2 = np.array([[1, 2, 3],[4, 5, 6],[7, 8, 9]])\n",
        "a_conjunto2"
      ],
      "execution_count": null,
      "outputs": [
        {
          "output_type": "execute_result",
          "data": {
            "text/plain": [
              "array([[1, 2, 3],\n",
              "       [4, 5, 6],\n",
              "       [7, 8, 9]])"
            ]
          },
          "metadata": {},
          "execution_count": 21
        }
      ]
    },
    {
      "cell_type": "code",
      "metadata": {
        "id": "we6ZJOICc7bQ",
        "colab": {
          "base_uri": "https://localhost:8080/"
        },
        "outputId": "a31acf54-b8dd-4202-f39f-37df63188f04"
      },
      "source": [
        "# Número de linhas e colunas de a_conjunto1:\n",
        "a_conjunto1.shape"
      ],
      "execution_count": null,
      "outputs": [
        {
          "output_type": "execute_result",
          "data": {
            "text/plain": [
              "(2, 3)"
            ]
          },
          "metadata": {},
          "execution_count": 22
        }
      ]
    },
    {
      "cell_type": "code",
      "metadata": {
        "id": "f0ocwuI1dED6",
        "colab": {
          "base_uri": "https://localhost:8080/"
        },
        "outputId": "a445899c-be67-49ab-ecae-4d91412441dd"
      },
      "source": [
        "# Número de linhas e colunas de a_conjunto2\n",
        "a_conjunto2.shape"
      ],
      "execution_count": null,
      "outputs": [
        {
          "output_type": "execute_result",
          "data": {
            "text/plain": [
              "(3, 3)"
            ]
          },
          "metadata": {},
          "execution_count": 23
        }
      ]
    },
    {
      "cell_type": "code",
      "metadata": {
        "id": "CApPtnW0YuRP",
        "colab": {
          "base_uri": "https://localhost:8080/"
        },
        "outputId": "6e916caa-2450-4aaa-cac9-991972395306"
      },
      "source": [
        "# Somar 2 à cada elemento de a_conjunto2\n",
        "a_conjunto2 = a_conjunto2+2\n",
        "a_conjunto2"
      ],
      "execution_count": null,
      "outputs": [
        {
          "output_type": "execute_result",
          "data": {
            "text/plain": [
              "array([[ 3,  4,  5],\n",
              "       [ 6,  7,  8],\n",
              "       [ 9, 10, 11]])"
            ]
          },
          "metadata": {},
          "execution_count": 24
        }
      ]
    },
    {
      "cell_type": "code",
      "metadata": {
        "id": "M87aGmxRY3RW",
        "colab": {
          "base_uri": "https://localhost:8080/"
        },
        "outputId": "45d66da9-4af0-4e8c-f4ea-2ac73ceaa38b"
      },
      "source": [
        "# Multiplicar por 10 cada elemento de a_conjunto2\n",
        "a_conjunto2 = a_conjunto2*10\n",
        "a_conjunto2"
      ],
      "execution_count": null,
      "outputs": [
        {
          "output_type": "execute_result",
          "data": {
            "text/plain": [
              "array([[ 30,  40,  50],\n",
              "       [ 60,  70,  80],\n",
              "       [ 90, 100, 110]])"
            ]
          },
          "metadata": {},
          "execution_count": 25
        }
      ]
    },
    {
      "cell_type": "markdown",
      "metadata": {
        "id": "qZt93y1IL_v7"
      },
      "source": [
        "___\n",
        "# **Copiar arrays**\n",
        "> Considere o array abaixo:"
      ]
    },
    {
      "cell_type": "code",
      "metadata": {
        "id": "sH2FTXj5MRRC"
      },
      "source": [
        "np.random.seed(20111974)\n",
        "a_conjunto1 = np.random.randn(2, 3)\n",
        "a_conjunto1"
      ],
      "execution_count": null,
      "outputs": []
    },
    {
      "cell_type": "markdown",
      "metadata": {
        "id": "VtgKeMt6MYrr"
      },
      "source": [
        "Fazendo a cópia de a_conjunto1..."
      ]
    },
    {
      "cell_type": "code",
      "metadata": {
        "id": "K0hOHR3IMa-o"
      },
      "source": [
        "a_salarios_copia = a_conjunto1.copy()\n",
        "a_salarios_copia"
      ],
      "execution_count": null,
      "outputs": []
    },
    {
      "cell_type": "markdown",
      "metadata": {
        "id": "lFpmcR0HkCar"
      },
      "source": [
        "___\n",
        "# **Operações com arrays**\n",
        "> Considere um array com temperaturas em Farenheit dado por:"
      ]
    },
    {
      "cell_type": "code",
      "metadata": {
        "id": "VnagcUqVkLhW"
      },
      "source": [
        "# Define a seed\n",
        "np.random.seed(20111974)\n",
        "\n",
        "a_temperatura_farenheit = np.array(np.random.randint(0, 100, 10))\n",
        "a_temperatura_farenheit"
      ],
      "execution_count": null,
      "outputs": []
    },
    {
      "cell_type": "code",
      "metadata": {
        "id": "VrjNKfXxk1yv"
      },
      "source": [
        "type(a_temperatura_farenheit)"
      ],
      "execution_count": null,
      "outputs": []
    },
    {
      "cell_type": "markdown",
      "metadata": {
        "id": "o1STejhrk0kZ"
      },
      "source": [
        "Transformando a temperatura Fahrenheit em Celsius..."
      ]
    },
    {
      "cell_type": "code",
      "metadata": {
        "id": "E_jXflR_lNy3"
      },
      "source": [
        "a_temperatura_celsius = 5*a_temperatura_farenheit/9 - 5*32/9\n",
        "a_temperatura_celsius"
      ],
      "execution_count": null,
      "outputs": []
    },
    {
      "cell_type": "code",
      "metadata": {
        "id": "U4pCv0pNqPZI"
      },
      "source": [
        "# O mesmo resultado, porém, escrito de forma diferente:\n",
        "a_temperatura_celsius = (5/9)*a_temperatura_farenheit - (160/9)\n",
        "a_temperatura_celsius"
      ],
      "execution_count": null,
      "outputs": []
    },
    {
      "cell_type": "markdown",
      "metadata": {
        "id": "1UT4YD2FawUA"
      },
      "source": [
        "___\n",
        "# **Selecionar itens**"
      ]
    },
    {
      "cell_type": "code",
      "metadata": {
        "id": "pqOv8P1za1m8"
      },
      "source": [
        "# Selecionar o segundo item de a_conjunto1 (lembre-se que no Python arrays começam com indice = 0)\n",
        "a_conjunto1[1]"
      ],
      "execution_count": null,
      "outputs": []
    },
    {
      "cell_type": "markdown",
      "metadata": {
        "id": "TIwVKk6AyRv6"
      },
      "source": [
        "Dado a_conjunto2 abaixo:"
      ]
    },
    {
      "cell_type": "code",
      "metadata": {
        "id": "zoDmbXo6bCeu"
      },
      "source": [
        "a_conjunto2"
      ],
      "execution_count": null,
      "outputs": []
    },
    {
      "cell_type": "markdown",
      "metadata": {
        "id": "iJXSPp-0yb4w"
      },
      "source": [
        "... selecionar o item da linha 2, coluna 3 do array a_conjunto2:"
      ]
    },
    {
      "cell_type": "code",
      "metadata": {
        "id": "sJiVfnlzcjRv"
      },
      "source": [
        "a_conjunto2[1, 2]"
      ],
      "execution_count": null,
      "outputs": []
    },
    {
      "cell_type": "code",
      "metadata": {
        "id": "Xl5HwJIMcv2e"
      },
      "source": [
        "# Selecionar o último elemento de a_conjunto1 --> Lembre-se que a_conjunto1 é um array. Desta forma, teremos o último elemento do array!\n",
        "a_conjunto1[-1]"
      ],
      "execution_count": null,
      "outputs": []
    },
    {
      "cell_type": "markdown",
      "metadata": {
        "id": "ezTH0HsyrnAl"
      },
      "source": [
        "Veja..."
      ]
    },
    {
      "cell_type": "code",
      "metadata": {
        "id": "OBv9EM54rYX3"
      },
      "source": [
        "a_conjunto1"
      ],
      "execution_count": null,
      "outputs": []
    },
    {
      "cell_type": "code",
      "metadata": {
        "id": "Po3WLFC-rod8"
      },
      "source": [
        "a_temperatura_celsius[-1]"
      ],
      "execution_count": null,
      "outputs": []
    },
    {
      "cell_type": "markdown",
      "metadata": {
        "id": "4qJJ2HCedW4h"
      },
      "source": [
        "___\n",
        "# **Aplicar funções como max(), min() e etc**"
      ]
    },
    {
      "cell_type": "code",
      "metadata": {
        "id": "_meTJdUsda4e"
      },
      "source": [
        "f'O máximo de a_conjunto1 é: {np.max(a_conjunto1)}'"
      ],
      "execution_count": null,
      "outputs": []
    },
    {
      "cell_type": "code",
      "metadata": {
        "id": "m-wiBkAidnhN"
      },
      "source": [
        "f'O mínimo de a_conjunto1 é: {np.min(a_conjunto1)}'"
      ],
      "execution_count": null,
      "outputs": []
    },
    {
      "cell_type": "code",
      "metadata": {
        "id": "lmupnRHQdtwh"
      },
      "source": [
        "f'O máximo de a_conjunto2 é: {np.max(a_conjunto2)}'"
      ],
      "execution_count": null,
      "outputs": []
    },
    {
      "cell_type": "code",
      "metadata": {
        "id": "H2z7oB6Bd786"
      },
      "source": [
        "f'O máximo de cada LINHA de a_conjunto2 é: {np.max(a_conjunto2, axis = 1)}' # Aqui, axis = 1 é que diz ao numpy que estamos interessados nas linhas"
      ],
      "execution_count": null,
      "outputs": []
    },
    {
      "cell_type": "code",
      "metadata": {
        "id": "gj2ZBDsWeMyk"
      },
      "source": [
        "f'O máximo de cada COLUNA de a_conjunto2 é: {np.max(a_conjunto2, axis = 0)}' # axis = 0, diz ao numpy que estamos interessados nas colunas."
      ],
      "execution_count": null,
      "outputs": []
    },
    {
      "cell_type": "markdown",
      "metadata": {
        "id": "7_tEfm2IecIU"
      },
      "source": [
        "___\n",
        "# **Calcular Estatísticas Descritivas: média e variância**"
      ]
    },
    {
      "cell_type": "code",
      "metadata": {
        "id": "lIY5jx3ueh7q"
      },
      "source": [
        "f'A média de a_conjunto1 é: {np.mean(a_conjunto1)}'"
      ],
      "execution_count": null,
      "outputs": []
    },
    {
      "cell_type": "code",
      "metadata": {
        "id": "VmqSELRReuAW"
      },
      "source": [
        "f'A média de a_conjunto2 é: {np.mean(a_conjunto2)}'"
      ],
      "execution_count": null,
      "outputs": []
    },
    {
      "cell_type": "code",
      "metadata": {
        "id": "Gxap-Wg5e2_H"
      },
      "source": [
        "f'O Desvio Padrão de a_conjunto2 é: {np.std(a_conjunto2)}'"
      ],
      "execution_count": null,
      "outputs": []
    },
    {
      "cell_type": "markdown",
      "metadata": {
        "id": "R0GcljGtfBvP"
      },
      "source": [
        "___\n",
        "# **Reshaping**\n",
        "> Muito útil em Machine Learning."
      ]
    },
    {
      "cell_type": "markdown",
      "metadata": {
        "id": "vfEmw01j8zux"
      },
      "source": [
        "## Exemplo 1\n",
        "* O array a_conjunto2 tem a seguinte forma:"
      ]
    },
    {
      "cell_type": "code",
      "metadata": {
        "id": "-Lb3VZCCfK_a"
      },
      "source": [
        "a_conjunto2"
      ],
      "execution_count": null,
      "outputs": []
    },
    {
      "cell_type": "code",
      "metadata": {
        "id": "YWN_nN-4fD7u"
      },
      "source": [
        "# reshaping para 9 linhas e 1 coluna:\n",
        "a_conjunto2.reshape(9, 1) # a_conjunto2.reshape(9,-1) produz o mesmo resultado."
      ],
      "execution_count": null,
      "outputs": []
    },
    {
      "cell_type": "markdown",
      "metadata": {
        "id": "id9ILRRt7SwY"
      },
      "source": [
        "## Mais um exemplo de Reshape\n",
        "> Dado o array 1D abaixo, reshape para um array 3D com 2 colunas."
      ]
    },
    {
      "cell_type": "code",
      "metadata": {
        "id": "9RA9Ht2b7Swd"
      },
      "source": [
        "# Define seed\n",
        "np.random.seed(20111974)\n",
        "a_conjunto1 = np.array(np.random.randint(1, 10, size = 15))\n",
        "a_conjunto1"
      ],
      "execution_count": null,
      "outputs": []
    },
    {
      "cell_type": "markdown",
      "metadata": {
        "id": "8KxR4xZT7cRv"
      },
      "source": [
        "### Solução\n",
        "> Temos 15 elementos em a_conjunto1 para construir (\"reshape\") um array 3D com 2 colunas.\n",
        "\n",
        "A princípio, a solução seria..."
      ]
    },
    {
      "cell_type": "code",
      "metadata": {
        "id": "VMdHl1Il7wLw"
      },
      "source": [
        "a_conjunto1.reshape(-1, 2) # O valor \"-1\" na posição das linhas pede ao NumPy para calcular o número de linhas automaticamente."
      ],
      "execution_count": null,
      "outputs": []
    },
    {
      "cell_type": "markdown",
      "metadata": {
        "id": "pZS4b4-y708q"
      },
      "source": [
        "Porque temos esse erro?"
      ]
    },
    {
      "cell_type": "markdown",
      "metadata": {
        "id": "4disywvR8HeH"
      },
      "source": [
        "E se fizermos..."
      ]
    },
    {
      "cell_type": "code",
      "metadata": {
        "id": "3oEAAXTp8I7Z"
      },
      "source": [
        "# Define seed\n",
        "np.random.seed(20111974)\n",
        "a_conjunto1 = np.array(np.random.randint(1, 10, size = 16)) # Observe que agora temos 16 elementos\n",
        "a_conjunto1"
      ],
      "execution_count": null,
      "outputs": []
    },
    {
      "cell_type": "markdown",
      "metadata": {
        "id": "iUhth0QV8Rpt"
      },
      "source": [
        "Reshapping..."
      ]
    },
    {
      "cell_type": "code",
      "metadata": {
        "id": "9D1y7uD88Qip"
      },
      "source": [
        "a_conjunto1.reshape(-1, 2) # O valor \"-1\" na posição das linhas pede ao NumPy para calcular o número de linhas automaticamente."
      ],
      "execution_count": null,
      "outputs": []
    },
    {
      "cell_type": "code",
      "metadata": {
        "id": "ALh-sq7DMnN5"
      },
      "source": [
        "# OU --> Neste caso, estamos reshaping o array em 8 linhas e 2 colunas\n",
        "a_conjunto1.reshape(8, -1)"
      ],
      "execution_count": null,
      "outputs": []
    },
    {
      "cell_type": "markdown",
      "metadata": {
        "id": "yvTnrszn8Yk0"
      },
      "source": [
        "Porque agora deu certo?"
      ]
    },
    {
      "cell_type": "markdown",
      "metadata": {
        "id": "LeQ9LqIE8baG"
      },
      "source": [
        "## Último exemplo com reshape\n",
        "> Considere o array a seguir:"
      ]
    },
    {
      "cell_type": "code",
      "metadata": {
        "id": "OQOC9iiN8hZT"
      },
      "source": [
        "np.random.seed(20111974)\n",
        "a_conjunto1 = np.random.randn(2, 3)\n",
        "a_conjunto1"
      ],
      "execution_count": null,
      "outputs": []
    },
    {
      "cell_type": "markdown",
      "metadata": {
        "id": "Cvce8qBl9Cvq"
      },
      "source": [
        "Queremos agora transformá-la num array de 3 linhas e 2 colunas."
      ]
    },
    {
      "cell_type": "code",
      "metadata": {
        "id": "QDDsYoVt9Klz"
      },
      "source": [
        "a_conjunto1.reshape(-1, 2)"
      ],
      "execution_count": null,
      "outputs": []
    },
    {
      "cell_type": "markdown",
      "metadata": {
        "id": "AdwU5ygt9Svq"
      },
      "source": [
        "Poderia ser..."
      ]
    },
    {
      "cell_type": "code",
      "metadata": {
        "id": "5uBeokKc9Uo-"
      },
      "source": [
        "a_conjunto1.reshape(3, -1)"
      ],
      "execution_count": null,
      "outputs": []
    },
    {
      "cell_type": "markdown",
      "metadata": {
        "id": "OeRBsobc9aKj"
      },
      "source": [
        "E por fim, também poderia ser..."
      ]
    },
    {
      "cell_type": "code",
      "metadata": {
        "id": "MDt8UYYH9dBw"
      },
      "source": [
        "a_conjunto1.reshape(3, 2)"
      ],
      "execution_count": null,
      "outputs": []
    },
    {
      "cell_type": "markdown",
      "metadata": {
        "id": "91o5vycQfdKW"
      },
      "source": [
        "___\n",
        "# **Transposta**\n",
        "* O array a_conjunto2 tem a seguinte forma:"
      ]
    },
    {
      "cell_type": "code",
      "metadata": {
        "id": "RsZwyuhoffjb"
      },
      "source": [
        "a_conjunto2"
      ],
      "execution_count": null,
      "outputs": []
    },
    {
      "cell_type": "code",
      "metadata": {
        "id": "A3MzTVoGfiyO"
      },
      "source": [
        "# Transposta do array a_conjunto2 é dado por:\n",
        "a_conjunto2.T"
      ],
      "execution_count": null,
      "outputs": []
    },
    {
      "cell_type": "markdown",
      "metadata": {
        "id": "Ij-ZW5IyzXIb"
      },
      "source": [
        "Ou seja, linha virou coluna. Ok?"
      ]
    },
    {
      "cell_type": "markdown",
      "metadata": {
        "id": "qLy6ajgpt3lU"
      },
      "source": [
        "# **Inversa da matriz quadrada**\n",
        "> Se uma matriz é não-singular, então sua inversa existe.\n",
        "\n",
        "* Se o determinante de uma matriz  is not equal to zero, then the matrix isé diferente de 0, então a matriz é não-singular."
      ]
    },
    {
      "cell_type": "code",
      "metadata": {
        "id": "-u7jRq34t9_x"
      },
      "source": [
        "import numpy as np\n",
        "\n",
        "a_conjunto1 = np.array([[1, 2, 3],[4, 5, 6],[7, 8, 9]])\n",
        "a_conjunto2 = np.array([[6, 2], [5, 3]])\n",
        "a_conjunto3 = np.array([[1, 3, 5],[2, 5, 1],[2, 3, 8]])"
      ],
      "execution_count": null,
      "outputs": []
    },
    {
      "cell_type": "code",
      "metadata": {
        "id": "7zmHHWWlvaYB"
      },
      "source": [
        "a_conjunto1"
      ],
      "execution_count": null,
      "outputs": []
    },
    {
      "cell_type": "code",
      "metadata": {
        "id": "3fHKyhOJvcak"
      },
      "source": [
        "a_conjunto2"
      ],
      "execution_count": null,
      "outputs": []
    },
    {
      "cell_type": "code",
      "metadata": {
        "id": "vQG7yyfjwLg9"
      },
      "source": [
        "a_conjunto3"
      ],
      "execution_count": null,
      "outputs": []
    },
    {
      "cell_type": "markdown",
      "metadata": {
        "id": "qa2Yre2rwgRk"
      },
      "source": [
        "## Determinantes da matriz quadrada"
      ]
    },
    {
      "cell_type": "code",
      "metadata": {
        "id": "N6jwuC6twkyc"
      },
      "source": [
        "np.linalg.det(a_conjunto1)"
      ],
      "execution_count": null,
      "outputs": []
    },
    {
      "cell_type": "code",
      "metadata": {
        "id": "QSvViNwzwnhI"
      },
      "source": [
        "np.linalg.det(a_conjunto2)"
      ],
      "execution_count": null,
      "outputs": []
    },
    {
      "cell_type": "code",
      "metadata": {
        "id": "o8jwsnccw5id"
      },
      "source": [
        "np.linalg.det(a_conjunto3)"
      ],
      "execution_count": null,
      "outputs": []
    },
    {
      "cell_type": "markdown",
      "metadata": {
        "id": "kkVaTgzgw_XJ"
      },
      "source": [
        "A seguir, calculamos as inversas das matrizes acima definidas..."
      ]
    },
    {
      "cell_type": "code",
      "metadata": {
        "id": "b9FgWvTYvpik"
      },
      "source": [
        "np.linalg.inv(a_conjunto2)"
      ],
      "execution_count": null,
      "outputs": []
    },
    {
      "cell_type": "code",
      "metadata": {
        "id": "KsdEt1kIvsM_"
      },
      "source": [
        "np.linalg.inv(a_conjunto1)"
      ],
      "execution_count": null,
      "outputs": []
    },
    {
      "cell_type": "markdown",
      "metadata": {
        "id": "VA_F7_7kccpn"
      },
      "source": [
        "Porque não temos a inversa de a_conjunto1?"
      ]
    },
    {
      "cell_type": "code",
      "metadata": {
        "id": "ANPBCnmVwOf4"
      },
      "source": [
        "np.linalg.inv(a_conjunto3)"
      ],
      "execution_count": null,
      "outputs": []
    },
    {
      "cell_type": "markdown",
      "metadata": {
        "id": "XAf9k1egxcdF"
      },
      "source": [
        "# **Resolver sistemas de equações lineares**\n",
        "> Considere o sistema de euqações lineares abaixo:\n",
        "\n",
        "\\begin{equation}\n",
        "x + 3y + 5z = 10\\\\\n",
        "2x+ 5y + z = 8 \\\\\n",
        "2x + 3y + 8z= 3\n",
        "\\end{equation}\n",
        "\n",
        "Ou $Ax = b$. A solução deste sistema de equações é dada por $A^{-1}b$."
      ]
    },
    {
      "cell_type": "markdown",
      "metadata": {
        "id": "oNf5nqaLxhBY"
      },
      "source": [
        "Ou seja, basta encontrarmos a inversa de A e multiplicarmos por b."
      ]
    },
    {
      "cell_type": "code",
      "metadata": {
        "id": "omzC5dGA0btc",
        "colab": {
          "base_uri": "https://localhost:8080/"
        },
        "outputId": "17c5b271-5817-4a71-a338-b6ad1b2397c7"
      },
      "source": [
        "A= np.array([[1, 3, 5], [2, 5, 1], [2, 3, 8]])\n",
        "np.linalg.inv(A)"
      ],
      "execution_count": null,
      "outputs": [
        {
          "output_type": "execute_result",
          "data": {
            "text/plain": [
              "array([[-1.48,  0.36,  0.88],\n",
              "       [ 0.56,  0.08, -0.36],\n",
              "       [ 0.16, -0.12,  0.04]])"
            ]
          },
          "metadata": {},
          "execution_count": 26
        }
      ]
    },
    {
      "cell_type": "markdown",
      "metadata": {
        "id": "AiXI3oxB05iE"
      },
      "source": [
        "Agora basta multiplicar a matriz inversa $A^{-1}$ acima por b."
      ]
    },
    {
      "cell_type": "code",
      "metadata": {
        "id": "XoGebKDa2Fcd"
      },
      "source": [
        "A_Inv = np.linalg.inv(A)"
      ],
      "execution_count": null,
      "outputs": []
    },
    {
      "cell_type": "code",
      "metadata": {
        "id": "sKaP0a1QZG-P",
        "colab": {
          "base_uri": "https://localhost:8080/"
        },
        "outputId": "003a4bd1-ff44-47a3-cc1a-ac72cc8f661c"
      },
      "source": [
        "b= np.array([10, 8, 3]).reshape(3, -1)\n",
        "b"
      ],
      "execution_count": null,
      "outputs": [
        {
          "output_type": "execute_result",
          "data": {
            "text/plain": [
              "array([[10],\n",
              "       [ 8],\n",
              "       [ 3]])"
            ]
          },
          "metadata": {},
          "execution_count": 28
        }
      ]
    },
    {
      "cell_type": "code",
      "metadata": {
        "id": "3dAVq8dg19VI",
        "colab": {
          "base_uri": "https://localhost:8080/"
        },
        "outputId": "898d4cb5-fd14-4179-9387-82a10c43fed8"
      },
      "source": [
        "A_Inv.dot(b)"
      ],
      "execution_count": null,
      "outputs": [
        {
          "output_type": "execute_result",
          "data": {
            "text/plain": [
              "array([[-9.28],\n",
              "       [ 5.16],\n",
              "       [ 0.76]])"
            ]
          },
          "metadata": {},
          "execution_count": 29
        }
      ]
    },
    {
      "cell_type": "markdown",
      "metadata": {
        "id": "zso6hTnB17cm"
      },
      "source": [
        "Uma forma fácil de se fazer isso é utilizar a expressão abaixo:"
      ]
    },
    {
      "cell_type": "code",
      "metadata": {
        "id": "ptQHIVll1E4P",
        "colab": {
          "base_uri": "https://localhost:8080/"
        },
        "outputId": "e666cb97-d881-44c0-bcc4-805030c7294d"
      },
      "source": [
        "b= np.array([[10], [8], [3]])\n",
        "b"
      ],
      "execution_count": null,
      "outputs": [
        {
          "output_type": "execute_result",
          "data": {
            "text/plain": [
              "array([[10],\n",
              "       [ 8],\n",
              "       [ 3]])"
            ]
          },
          "metadata": {},
          "execution_count": 30
        }
      ]
    },
    {
      "cell_type": "code",
      "metadata": {
        "id": "X4VL8lyY1Xus",
        "colab": {
          "base_uri": "https://localhost:8080/"
        },
        "outputId": "15f61bf1-9d7b-42f5-d43d-4e02f6facb79"
      },
      "source": [
        "np.linalg.solve(A, b)"
      ],
      "execution_count": null,
      "outputs": [
        {
          "output_type": "execute_result",
          "data": {
            "text/plain": [
              "array([[-9.28],\n",
              "       [ 5.16],\n",
              "       [ 0.76]])"
            ]
          },
          "metadata": {},
          "execution_count": 31
        }
      ]
    },
    {
      "cell_type": "markdown",
      "metadata": {
        "id": "fJKmwTS59-Bc"
      },
      "source": [
        "# **Empilhar arrays**\n",
        "\n",
        "## Exemplo 1\n",
        "\n",
        "![Empilhar1](https://github.com/MathMachado/Materials/blob/master/Empilhar1.PNG?raw=true)\n",
        "\n",
        "## Exemplo 2\n",
        "\n",
        "![Empilhar2](https://github.com/MathMachado/Materials/blob/master/Empilhar2.PNG?raw=true)\n",
        "\n"
      ]
    },
    {
      "cell_type": "markdown",
      "metadata": {
        "id": "rhPTt3EwXden"
      },
      "source": [
        "## Gerar os arrays do exemplo1"
      ]
    },
    {
      "cell_type": "code",
      "metadata": {
        "id": "zEI-yBy3-E46"
      },
      "source": [
        "np.random.seed(20111974)\n",
        "a_conjunto1 = np.random.randn(5, 8)\n",
        "\n",
        "np.random.seed(19741120)\n",
        "a_conjunto2 = np.random.randn(8, 8)"
      ],
      "execution_count": null,
      "outputs": []
    },
    {
      "cell_type": "markdown",
      "metadata": {
        "id": "UYsAqBRp--79"
      },
      "source": [
        "## Método 1 - Concatenate([A, B])"
      ]
    },
    {
      "cell_type": "code",
      "metadata": {
        "id": "HgO1ujvhObyE"
      },
      "source": [
        "a_conjunto1"
      ],
      "execution_count": null,
      "outputs": []
    },
    {
      "cell_type": "code",
      "metadata": {
        "id": "2aQY_klZOeg9"
      },
      "source": [
        "a_conjunto2"
      ],
      "execution_count": null,
      "outputs": []
    },
    {
      "cell_type": "code",
      "metadata": {
        "id": "bK70vaq8_KMH"
      },
      "source": [
        "np.concatenate([a_conjunto1, a_conjunto2], axis = 0) # axis= 0 diz ao NumPy para empilhar as linhas"
      ],
      "execution_count": null,
      "outputs": []
    },
    {
      "cell_type": "markdown",
      "metadata": {
        "id": "CpaXBkm8_BF8"
      },
      "source": [
        "## Método 2 - np.r_[A, B]"
      ]
    },
    {
      "cell_type": "code",
      "metadata": {
        "id": "3QnVUzAY_teZ"
      },
      "source": [
        "np.r_[a_conjunto1, a_conjunto2]"
      ],
      "execution_count": null,
      "outputs": []
    },
    {
      "cell_type": "markdown",
      "metadata": {
        "id": "XmSPbDP6_20W"
      },
      "source": [
        "**Obs**.: Eu prefiro este método!"
      ]
    },
    {
      "cell_type": "markdown",
      "metadata": {
        "id": "dzVKW_wX_Dzw"
      },
      "source": [
        "## Método 3 - np.vstack([A, B]) = np.r_[A, B]"
      ]
    },
    {
      "cell_type": "code",
      "metadata": {
        "id": "uL7lEN_mABID"
      },
      "source": [
        "np.vstack([a_conjunto1, a_conjunto2])"
      ],
      "execution_count": null,
      "outputs": []
    },
    {
      "cell_type": "markdown",
      "metadata": {
        "id": "68icJ-2ZAdRj"
      },
      "source": [
        "# Concatenar arrays\n",
        "\n",
        "## Exemplo 1\n",
        "\n",
        "![Concatenar1](https://github.com/MathMachado/Materials/blob/master/Concatenar1.PNG?raw=true)\n",
        "\n",
        "# Exemplo 2\n",
        "\n",
        "![Concatenar2](https://github.com/MathMachado/Materials/blob/master/Concatenar2.PNG?raw=true)"
      ]
    },
    {
      "cell_type": "markdown",
      "metadata": {
        "id": "OplgK9YoQi9o"
      },
      "source": [
        "## Concatenar os elementos de dois arrays - np.c_[A, B]"
      ]
    },
    {
      "cell_type": "code",
      "metadata": {
        "id": "lpdsbTEKQ9EY"
      },
      "source": [
        "np.random.seed(20111974)\n",
        "a_conjunto1 = np.random.randint(0, 10, 100).reshape(-1, 10)\n",
        "a_conjunto2 = np.random.randint(0, 2, 10).reshape(-1, 1)"
      ],
      "execution_count": null,
      "outputs": []
    },
    {
      "cell_type": "code",
      "metadata": {
        "id": "JPxhGsaSSMk2"
      },
      "source": [
        "a_conjunto1"
      ],
      "execution_count": null,
      "outputs": []
    },
    {
      "cell_type": "code",
      "metadata": {
        "id": "9ZyUPfybTfej"
      },
      "source": [
        "a_conjunto2"
      ],
      "execution_count": null,
      "outputs": []
    },
    {
      "cell_type": "code",
      "metadata": {
        "id": "nS1cPG3aRug1"
      },
      "source": [
        "# colocando o array a_conjunto2 do lado de a_conjunto1.\n",
        "np.c_[a_conjunto1, a_conjunto2]"
      ],
      "execution_count": null,
      "outputs": []
    },
    {
      "cell_type": "markdown",
      "metadata": {
        "id": "kIgU1YBw0OeM"
      },
      "source": [
        "___\n",
        "# **Selecionar itens que satisfazem condições**\n",
        "> Considere o array a seguir:"
      ]
    },
    {
      "cell_type": "code",
      "metadata": {
        "id": "e2pL5anBV0DI"
      },
      "source": [
        "a_conjunto1 = np.arange(10, 0, -1)\n",
        "a_conjunto1"
      ],
      "execution_count": null,
      "outputs": []
    },
    {
      "cell_type": "markdown",
      "metadata": {
        "id": "i9HuZZAfV302"
      },
      "source": [
        "Selecionar somente os itens > 7:"
      ]
    },
    {
      "cell_type": "markdown",
      "metadata": {
        "id": "ZCESvr7iXMkV"
      },
      "source": [
        "## Usando np.where()"
      ]
    },
    {
      "cell_type": "code",
      "metadata": {
        "id": "BdrAQLHkTS-v"
      },
      "source": [
        "a_conjunto1"
      ],
      "execution_count": null,
      "outputs": []
    },
    {
      "cell_type": "code",
      "metadata": {
        "id": "O_ZBaWxfWA9o"
      },
      "source": [
        "# Índices do array que atendem a condição\n",
        "l_indices = np.where(a_conjunto1 > 7)\n",
        "l_indices"
      ],
      "execution_count": null,
      "outputs": []
    },
    {
      "cell_type": "markdown",
      "metadata": {
        "id": "EdWlfPOZWPME"
      },
      "source": [
        "**Atenção**: Capturamos os índices. Para selecionar os itens, basta fazer:"
      ]
    },
    {
      "cell_type": "code",
      "metadata": {
        "id": "tOxs3iYQWWxu"
      },
      "source": [
        "a_conjunto2 = a_conjunto1[l_indices]\n",
        "a_conjunto2"
      ],
      "execution_count": null,
      "outputs": []
    },
    {
      "cell_type": "markdown",
      "metadata": {
        "id": "PGsENqkaXRjh"
      },
      "source": [
        "## Alternativa: Usando []"
      ]
    },
    {
      "cell_type": "code",
      "metadata": {
        "id": "YbdRNk1WXTLT"
      },
      "source": [
        "a_conjunto1[a_conjunto1 > 7]"
      ],
      "execution_count": null,
      "outputs": []
    },
    {
      "cell_type": "markdown",
      "metadata": {
        "id": "jijpzFxcSQC8"
      },
      "source": [
        "Acho que vale a pena quebrar esta solução para entendermos melhor como as coisas funcionam:#"
      ]
    },
    {
      "cell_type": "code",
      "metadata": {
        "id": "rujhP2LQSWsq"
      },
      "source": [
        " # Primeiro, avalie o resultado de a_conjunto1 > 7:"
      ],
      "execution_count": null,
      "outputs": []
    },
    {
      "cell_type": "code",
      "metadata": {
        "id": "FYZaBsasSb3N"
      },
      "source": [
        "a_conjunto1 > 7"
      ],
      "execution_count": null,
      "outputs": []
    },
    {
      "cell_type": "code",
      "metadata": {
        "id": "mvEof-UKaaVG"
      },
      "source": [
        "a_conjunto1[a_conjunto1 > 7]"
      ],
      "execution_count": null,
      "outputs": []
    },
    {
      "cell_type": "code",
      "metadata": {
        "id": "nO4FiBmDUZOT"
      },
      "source": [
        "a_conjunto1"
      ],
      "execution_count": null,
      "outputs": []
    },
    {
      "cell_type": "markdown",
      "metadata": {
        "id": "Ci5lT9nmSfsX"
      },
      "source": [
        "Agora, com este resultado, fica fácil entender como o Python seleciona os elementos. Consegue explicar?"
      ]
    },
    {
      "cell_type": "markdown",
      "metadata": {
        "id": "1v5Lfin0GGKD"
      },
      "source": [
        "# Substituir itens baseado em condições\n",
        "> Substituir os valores negativos do array abaixo por 0."
      ]
    },
    {
      "cell_type": "markdown",
      "metadata": {
        "id": "CLY_u0ePWdN7"
      },
      "source": [
        "## Gerar o exemplo"
      ]
    },
    {
      "cell_type": "code",
      "metadata": {
        "id": "NUANFy-fNXf5"
      },
      "source": [
        "np.random.seed(20111974)\n",
        "a_conjunto1 = np.array(np.random.randint(0, 10, size = 100))\n",
        "\n",
        "# Lista aleatória de índices que vou alterar\n",
        "np.random.seed(20111974)\n",
        "l_indices= np.random.randint(0, 99, 9)\n",
        "\n",
        "for i in l_indices:\n",
        "    a_conjunto1[i] = -1*a_conjunto1[i]\n",
        "\n",
        "a_conjunto2 = a_conjunto1.copy()\n",
        "a_conjunto2"
      ],
      "execution_count": null,
      "outputs": []
    },
    {
      "cell_type": "code",
      "metadata": {
        "id": "dWVyI40uN2d2"
      },
      "source": [
        "# Indices a serem multiplicados por -1:\n",
        "l_indices"
      ],
      "execution_count": null,
      "outputs": []
    },
    {
      "cell_type": "markdown",
      "metadata": {
        "id": "3Whuu854OJDZ"
      },
      "source": [
        "## Substituir os valores negativos por 0"
      ]
    },
    {
      "cell_type": "code",
      "metadata": {
        "id": "sr268Rp8b-Se"
      },
      "source": [
        "a_conjunto2 < 0"
      ],
      "execution_count": null,
      "outputs": []
    },
    {
      "cell_type": "code",
      "metadata": {
        "id": "C-eKqPrfOQF6"
      },
      "source": [
        "a_conjunto2[a_conjunto2 < 0] = 0\n",
        "a_conjunto2"
      ],
      "execution_count": null,
      "outputs": []
    },
    {
      "cell_type": "markdown",
      "metadata": {
        "id": "eDLM0_JSZlfB"
      },
      "source": [
        "Observe acima que os valores negativos foram substituídos por 0, como queríamos."
      ]
    },
    {
      "cell_type": "markdown",
      "metadata": {
        "id": "AEHJ0rA3dHHU"
      },
      "source": [
        "## Substituir os valores negativos por 0 e os positivos por 1"
      ]
    },
    {
      "cell_type": "code",
      "metadata": {
        "id": "y32J8SRNZwRF"
      },
      "source": [
        "a_conjunto2 = a_conjunto1.copy()\n",
        "a_conjunto2"
      ],
      "execution_count": null,
      "outputs": []
    },
    {
      "cell_type": "code",
      "metadata": {
        "id": "1bSD9Fs6P5wW"
      },
      "source": [
        "a_conjunto2 = np.where(a_conjunto2 <= 0, 0, 1)\n",
        "a_conjunto2"
      ],
      "execution_count": null,
      "outputs": []
    },
    {
      "cell_type": "markdown",
      "metadata": {
        "id": "i027scjl0qkm"
      },
      "source": [
        "___\n",
        "# Outliers\n",
        "> Qualquer ponto/observação que é incomum quando comparado com todos os outros pontos/observações."
      ]
    },
    {
      "cell_type": "markdown",
      "metadata": {
        "id": "UnDTqRnZHQ3W"
      },
      "source": [
        "## Z-Score\n",
        "\n",
        "* Z-Score pode ser utilizado para detectar Outliers.\n",
        "* É a diferença entre o valor e a média da amostra expressa como o número de desvios-padrão.\n",
        "* Se o escore z for menor que 2,5 ou maior que 2,5, o valor estará nos 5% do menor ou maior valor (2,5% dos valores em ambas as extremidades da distribuição). No entanto, é pratica comum utilizarmos 3 ao invés dos 2,5.\n",
        "\n",
        "![Z_Score](https://github.com/MathMachado/Materials/blob/master/Z_Score.png?raw=true)"
      ]
    },
    {
      "cell_type": "markdown",
      "metadata": {
        "id": "N7gb2zhtd0uM"
      },
      "source": [
        "## IQR Score\n",
        "\n",
        "* O Intervalo interquartil (IQR) é uma medida de dispersão estatística, sendo igual à diferença entre os percentis 75 (Q3) e 25 (Q1), ou entre quartis superiores e inferiores, IQR = Q3 - Q1."
      ]
    },
    {
      "cell_type": "markdown",
      "metadata": {
        "id": "lMmWOKNvghI7"
      },
      "source": [
        "![BoxPlot](https://github.com/MathMachado/Materials/blob/master/boxplot.png?raw=true)"
      ]
    },
    {
      "cell_type": "markdown",
      "metadata": {
        "id": "DUw_a-MjWvBc"
      },
      "source": [
        "### Desafio para resolverem\n",
        "> **Objetivo**: Simular aleatoriamente o salário de 1.000 pessoas com distribuição N(1.045; 100).\n",
        "* Identificar os _outliers_ da distribuição que acabamos de simular;\n",
        "* Qual a média da distribuição que simulamos?\n",
        "* Qual o desvio-padrão;\n",
        "* Plotar o Boxplot da distribuição dos dados;\n",
        "* Quantas pessoas > Q3 + 1.5*(Q3-Q1)\n",
        "* Substituir os outliers do array por:\n",
        "    * Q1-1.5*(Q3 - Q1), se ponto < Q1-1.5*(Q3-Q1)\n",
        "    * Q3+1.5*(Q3 - Q1), se ponto > Q3+1.5*(Q3-Q1)\n",
        "\n",
        "Obs.: Use np.random.seed(20111974)."
      ]
    },
    {
      "cell_type": "markdown",
      "metadata": {
        "id": "L9ntAdS_oOAh"
      },
      "source": [
        "### Geração aleatória do array a_salarios com distribuição $N(\\mu, \\sigma)$"
      ]
    },
    {
      "cell_type": "code",
      "metadata": {
        "id": "RL0Zb0fyDory"
      },
      "source": [
        "import numpy as np\n",
        "np.random.seed(20111974)\n",
        "np.set_printoptions(precision = 2, suppress = True)\n",
        "\n",
        "media = 1045\n",
        "desvio_padrao = 100\n",
        "i_tamanho = 1000\n",
        "\n",
        "a_salarios = np.array(np.random.normal(media, desvio_padrao, size = i_tamanho))\n",
        "a_salarios[:30]"
      ],
      "execution_count": null,
      "outputs": []
    },
    {
      "cell_type": "markdown",
      "metadata": {
        "id": "Fc3a-yhViCTs"
      },
      "source": [
        "### Geração aleatória dos índices que serão (manualmente) alterados"
      ]
    },
    {
      "cell_type": "code",
      "metadata": {
        "id": "Iakt6i1cgEcB"
      },
      "source": [
        "# Lista aleatória de índices que vou alterar\n",
        "np.random.seed(19741120)\n",
        "l_indices = np.random.randint(0, i_tamanho, 10)\n",
        "\n",
        "# Estas são as posições que serão alteradas (manualmente)\n",
        "np.sort(l_indices)"
      ],
      "execution_count": null,
      "outputs": []
    },
    {
      "cell_type": "markdown",
      "metadata": {
        "id": "oXwME1rciHkw"
      },
      "source": [
        "### Cópia dos salários para compararmos o ANTES e DEPOIS"
      ]
    },
    {
      "cell_type": "code",
      "metadata": {
        "id": "BEtnua7sgp_y"
      },
      "source": [
        "# cópia do array a_salarios\n",
        "a_salarios_copia = a_salarios.copy()\n",
        "a_salarios_copia2 = a_salarios.copy()\n",
        "\n",
        "a_salarios[:30]"
      ],
      "execution_count": null,
      "outputs": []
    },
    {
      "cell_type": "markdown",
      "metadata": {
        "id": "So8qj3Yrh-Az"
      },
      "source": [
        "### Alteração (manual dos salários): 2 alternativas\n",
        "> Vamos medir o tempo para avaliarmos o que é mais rápido. Qual solução é mais rápida?"
      ]
    },
    {
      "cell_type": "code",
      "metadata": {
        "id": "Z0613on8z5VH"
      },
      "source": [
        "from timeit import default_timer as timer\n",
        "from datetime import timedelta"
      ],
      "execution_count": null,
      "outputs": []
    },
    {
      "cell_type": "code",
      "metadata": {
        "id": "NpvvholVxMhs"
      },
      "source": [
        "# Índices a serem alterados\n",
        "l_indices"
      ],
      "execution_count": null,
      "outputs": []
    },
    {
      "cell_type": "markdown",
      "metadata": {
        "id": "BqXsmMdm1yF-"
      },
      "source": [
        "#### Solução 1"
      ]
    },
    {
      "cell_type": "code",
      "metadata": {
        "id": "FiiOrlnbgKOD"
      },
      "source": [
        "# Alteração dos salários dos índices propostos\n",
        "start = timer()\n",
        "for i_indice in l_indices:\n",
        "    a_salarios_copia[i_indice] = 2*a_salarios[i_indice] # Loop para os índices a serem alterados (manualmente)\n",
        "\n",
        "a_salarios_copia[:30]\n",
        "end = timer()\n",
        "print(timedelta(seconds=end-start))"
      ],
      "execution_count": null,
      "outputs": []
    },
    {
      "cell_type": "markdown",
      "metadata": {
        "id": "FgvKC-aFzWpZ"
      },
      "source": [
        "#### Solução 2"
      ]
    },
    {
      "cell_type": "code",
      "metadata": {
        "id": "XWlQC5Jazt26"
      },
      "source": [
        "start = timer()\n",
        "a_salarios_copia2[l_indices] = 2*a_salarios_copia2[l_indices] # Loop para os índices a serem alterados (manualmente)\n",
        "a_salarios_copia2[:30]\n",
        "end = timer()\n",
        "\n",
        "print(timedelta(seconds=end-start))"
      ],
      "execution_count": null,
      "outputs": []
    },
    {
      "cell_type": "markdown",
      "metadata": {
        "id": "U92w03afhrmC"
      },
      "source": [
        "### Compare"
      ]
    },
    {
      "cell_type": "code",
      "metadata": {
        "id": "Ls-jCFCYhtD8"
      },
      "source": [
        "# Antes\n",
        "a_salarios[l_indices]"
      ],
      "execution_count": null,
      "outputs": []
    },
    {
      "cell_type": "code",
      "metadata": {
        "id": "nwwU06OahzD2"
      },
      "source": [
        "# Depois\n",
        "a_salarios_copia[l_indices]"
      ],
      "execution_count": null,
      "outputs": []
    },
    {
      "cell_type": "code",
      "metadata": {
        "id": "qyUUdHmtisJS"
      },
      "source": [
        "# 30 primeiras elementos de a_salarios\n",
        "a_salarios[:30]"
      ],
      "execution_count": null,
      "outputs": []
    },
    {
      "cell_type": "code",
      "metadata": {
        "id": "CJ1FEjlCi0-n"
      },
      "source": [
        "# 30 primeiras posições de a_salarios_copia\n",
        "a_salarios_copia[:30]"
      ],
      "execution_count": null,
      "outputs": []
    },
    {
      "cell_type": "markdown",
      "metadata": {
        "id": "wKbSUgxxiOUL"
      },
      "source": [
        "### Algumas Estatísticas Descritivas:\n",
        "#### Antes"
      ]
    },
    {
      "cell_type": "code",
      "metadata": {
        "id": "ZnmykyahLWX9"
      },
      "source": [
        "f'Média: {np.mean(a_salarios)}; Mediana: {np.median(a_salarios)}; STD: {np.std(a_salarios)}'"
      ],
      "execution_count": null,
      "outputs": []
    },
    {
      "cell_type": "markdown",
      "metadata": {
        "id": "ow7MHjgmPIty"
      },
      "source": [
        "#### Depois"
      ]
    },
    {
      "cell_type": "code",
      "metadata": {
        "id": "5iO-BAikieHJ"
      },
      "source": [
        "f'Média: {np.mean(a_salarios_copia)}; Mediana: {np.median(a_salarios_copia)}; STD: {np.std(a_salarios_copia)}'"
      ],
      "execution_count": null,
      "outputs": []
    },
    {
      "cell_type": "markdown",
      "metadata": {
        "id": "ILhNe80xW5C6"
      },
      "source": [
        "### Solução do desafio"
      ]
    },
    {
      "cell_type": "code",
      "metadata": {
        "id": "OyFbWs-APowd"
      },
      "source": [
        "# Import a biblioteca seaborn:\n",
        "import seaborn as sns\n",
        "\n",
        "# Boxplot antes dos \"outliers\"\n",
        "sns.boxplot(y = a_salarios)"
      ],
      "execution_count": null,
      "outputs": []
    },
    {
      "cell_type": "code",
      "metadata": {
        "id": "U993i1GJg2hk"
      },
      "source": [
        "# Boxplot do array a_salarios_copia depois dos \"outliers\"\n",
        "sns.boxplot(y = a_salarios_copia)"
      ],
      "execution_count": null,
      "outputs": []
    },
    {
      "cell_type": "markdown",
      "metadata": {
        "id": "VtenLK1uK1Pi"
      },
      "source": [
        "Consegue identificar os outliers do array?"
      ]
    },
    {
      "cell_type": "markdown",
      "metadata": {
        "id": "e3sHuGVGFBdW"
      },
      "source": [
        "## Objetivo\n",
        "> Identificar e substituir os outliers pela mediana dos dados.\n",
        "\n",
        "* Como fazer isso?"
      ]
    },
    {
      "cell_type": "markdown",
      "metadata": {
        "id": "RSegPNKCI-dS"
      },
      "source": [
        "### Siga os passos a seguir\n",
        "1. Calcule estatísticas descritivas antes das transformações par avaliar o impacto;\n",
        "    * Calcule média, mediana e desvio-padrão dos dados originais;\n",
        "2. Calcule os valores a seguir:\n",
        "    * Q1, Q3\n",
        "    * IQR = Q3-Q1\n",
        "    * lim_inferior_outlier = Q1-1.5\\*IQR\n",
        "    * lim_superior_outlier = Q3+1.5\\*IQR\n",
        "3. Proceda à substituição:\n",
        "    * Se a_salarios_copia[i] < lim_inferior_outlier então a_salarios_copia[i]= Mediana\n",
        "    * Se a_salarios_copia[i] > lim_superior_outlier então a_salarios_copia[i]= Mediana\n",
        "4. Calcule as estatísticas descritivas após as substituições e compare com os valores antes das transformações."
      ]
    },
    {
      "cell_type": "markdown",
      "metadata": {
        "id": "9DQ7YnWaFn4v"
      },
      "source": [
        "### Minha solução\n"
      ]
    },
    {
      "cell_type": "markdown",
      "metadata": {
        "id": "RBXJbTeGLC7Q"
      },
      "source": [
        "1. Estatísticas Descritivas antes das transformações:"
      ]
    },
    {
      "cell_type": "code",
      "metadata": {
        "id": "QueKYn7MLG12"
      },
      "source": [
        "# Algumas estatísticas descritivas:\n",
        "f'Média: {np.mean(a_salarios_copia)}; Mediana: {np.median(a_salarios_copia)}; STD: {np.std(a_salarios_copia)}'"
      ],
      "execution_count": null,
      "outputs": []
    },
    {
      "cell_type": "markdown",
      "metadata": {
        "id": "oOBJ8INWL5fo"
      },
      "source": [
        "Observe o quanto nossos dados estão distorcidos dos valores originalmente utilizados."
      ]
    },
    {
      "cell_type": "markdown",
      "metadata": {
        "id": "MX-fJeh2MBTD"
      },
      "source": [
        "2. Calcular Q1, Q3 e IQR"
      ]
    },
    {
      "cell_type": "code",
      "metadata": {
        "id": "JlsPiQeGMGeU"
      },
      "source": [
        "Q1 = np.percentile(a_salarios_copia, q = [25])\n",
        "Q3 = np.percentile(a_salarios_copia, q = [75])\n",
        "Q2 = np.percentile(a_salarios_copia, q = [50])\n",
        "p99 = np.percentile(a_salarios_copia, q = [99])\n",
        "p95 = np.percentile(a_salarios_copia, q = [95])\n",
        "\n",
        "IQR = Q3-Q1 # Diferença interquartílica\n",
        "lim_inferior_outlier = Q1-1.5*IQR\n",
        "lim_superior_outlier = Q3+1.5*IQR"
      ],
      "execution_count": null,
      "outputs": []
    },
    {
      "cell_type": "code",
      "metadata": {
        "id": "VF2NJ3rCeI1_"
      },
      "source": [
        "f'Q1: {Q1}; Q3: {Q3}; lim_inferior_outlier: {lim_inferior_outlier}; lim_superior_outlier: {lim_superior_outlier}'"
      ],
      "execution_count": null,
      "outputs": []
    },
    {
      "cell_type": "markdown",
      "metadata": {
        "id": "JjnwJ7HwMxcl"
      },
      "source": [
        "3. Substituir\n",
        "* Se a_salarios[i] < lim_inferior_outlier --> a_salarios[i] = Mediana\n",
        "* Se a_salarios[i] > lim_superior_outlier --> a_salarios[i] = Mediana"
      ]
    },
    {
      "cell_type": "code",
      "metadata": {
        "id": "hcAn-IwVfbcI"
      },
      "source": [
        "a_salarios2 = a_salarios_copia.copy()"
      ],
      "execution_count": null,
      "outputs": []
    },
    {
      "cell_type": "code",
      "metadata": {
        "id": "M4UJY4vbRics"
      },
      "source": [
        "Q2[0]"
      ],
      "execution_count": null,
      "outputs": []
    },
    {
      "cell_type": "code",
      "metadata": {
        "id": "J3SSE45oM9oh"
      },
      "source": [
        "a_salarios2[a_salarios2 < lim_inferior_outlier[0]] = Q2[0] # Atribuição da Mediana\n",
        "a_salarios2[a_salarios2 > lim_superior_outlier[0]] = Q2[0] # Atribuição da Mediana\n",
        "a_salarios2[:30]"
      ],
      "execution_count": null,
      "outputs": []
    },
    {
      "cell_type": "markdown",
      "metadata": {
        "id": "VEGFio0Nfj7O"
      },
      "source": [
        "4. Estatísticas Descritivas para avaliarmos o impacto das alterações na amostra:"
      ]
    },
    {
      "cell_type": "code",
      "metadata": {
        "id": "gX1LZHFqfjFQ"
      },
      "source": [
        "# Algumas estatísticas descritivas - Depois do trtamento de OUtliers:\n",
        "f'Média: {np.mean(a_salarios2)}; Mediana: {np.median(a_salarios2)}; STD: {np.std(a_salarios2)}'"
      ],
      "execution_count": null,
      "outputs": []
    },
    {
      "cell_type": "code",
      "metadata": {
        "id": "cSXrg2PFSYKY"
      },
      "source": [
        "# Algumas estatísticas descritivas - Antes do trtamento de OUtliers:\n",
        "f'Média: {np.mean(a_salarios)}; Mediana: {np.median(a_salarios)}; STD: {np.std(a_salarios)}'"
      ],
      "execution_count": null,
      "outputs": []
    },
    {
      "cell_type": "markdown",
      "metadata": {
        "id": "ZVc6_nsGS_J2"
      },
      "source": [
        "### Exercício: Substituir e comentar com seus respectivos colegas de grupo quando substituimos:\n",
        "* Q2[0] pela média.\n",
        "* Q2[0] pelo valor do percentil 95 e 99."
      ]
    },
    {
      "cell_type": "code",
      "metadata": {
        "id": "-xnguZ7XgyvK"
      },
      "source": [
        "# Import a biblioteca seaborn:\n",
        "import seaborn as sns\n",
        "sns.boxplot(y = a_salarios2)"
      ],
      "execution_count": null,
      "outputs": []
    },
    {
      "cell_type": "markdown",
      "metadata": {
        "id": "uEPFcBjFhETQ"
      },
      "source": [
        "Como podem ver, os outliers desapareceram, como queríamos."
      ]
    },
    {
      "cell_type": "markdown",
      "metadata": {
        "id": "tHfzjW_ymKuR"
      },
      "source": [
        "___\n",
        "# **Valores únicos**\n",
        "> Considere o array de a_idades a seguir:"
      ]
    },
    {
      "cell_type": "code",
      "metadata": {
        "id": "HzmQgWZVmUUD"
      },
      "source": [
        "np.random.seed(20111974)\n",
        "a_idades = np.random.randint(18, 100, 100)\n",
        "a_idades"
      ],
      "execution_count": null,
      "outputs": []
    },
    {
      "cell_type": "markdown",
      "metadata": {
        "id": "Dm9ky1F1mrNA"
      },
      "source": [
        "Quem são os valores únicos do array?"
      ]
    },
    {
      "cell_type": "code",
      "metadata": {
        "id": "G-LPRqc-mS5j"
      },
      "source": [
        "np.unique(a_idades)"
      ],
      "execution_count": null,
      "outputs": []
    },
    {
      "cell_type": "markdown",
      "metadata": {
        "id": "uXZZoTd6nMuq"
      },
      "source": [
        "___\n",
        "# **Diferença entre dois arrays**\n",
        "> O resultado é um array com os **valores únicos de A que não estão em B**. Na teoria de conjuntos escrevemos $A - B = A - A \\cap B$.\n",
        "\n",
        "![Difference](https://github.com/MathMachado/Materials/blob/master/set_Difference.PNG?raw=true)\n",
        "\n",
        "Fonte: [Python Set](https://www.learnbyexample.org/python-set/)"
      ]
    },
    {
      "cell_type": "markdown",
      "metadata": {
        "id": "uW6i3m9q1ZNs"
      },
      "source": [
        "\n",
        "* Vamos ver como isso funciona na prática:"
      ]
    },
    {
      "cell_type": "markdown",
      "metadata": {
        "id": "vw05sfe22mfk"
      },
      "source": [
        "## Exemplo 1"
      ]
    },
    {
      "cell_type": "code",
      "metadata": {
        "id": "Qqw2do90nQ7k"
      },
      "source": [
        "a_conjunto1 = np.array([0, 1, 2, 4, 5, 7, 8, 8]) # array de valores que serão excluidos em a_conjunto1. Observe que '3' não pertence a a_conjunto1.\n",
        "a_conjunto2 = np.array([1, 6, 7, 3])"
      ],
      "execution_count": null,
      "outputs": []
    },
    {
      "cell_type": "code",
      "metadata": {
        "id": "zXJ00pOMorM-",
        "colab": {
          "base_uri": "https://localhost:8080/"
        },
        "outputId": "e18810a2-7b0a-4ae6-cd42-f1e61ad13d10"
      },
      "source": [
        "np.setdiff1d(a_conjunto1, a_conjunto2)"
      ],
      "execution_count": null,
      "outputs": [
        {
          "output_type": "execute_result",
          "data": {
            "text/plain": [
              "array([0, 2, 4, 5, 8])"
            ]
          },
          "metadata": {},
          "execution_count": 33
        }
      ]
    },
    {
      "cell_type": "markdown",
      "metadata": {
        "id": "8GXZNgjfo8lO"
      },
      "source": [
        "Observe que o resultado são os elementos de a_conjunto1 que não pertencem a x_Y. Mas como fica o '3' nesta história?"
      ]
    },
    {
      "cell_type": "code",
      "source": [
        "np.setdiff1d(a_conjunto2, a_conjunto1)"
      ],
      "metadata": {
        "colab": {
          "base_uri": "https://localhost:8080/"
        },
        "id": "G6K06NlNLE-f",
        "outputId": "aa60f893-5853-4881-9512-3a0337cb194f"
      },
      "execution_count": null,
      "outputs": [
        {
          "output_type": "execute_result",
          "data": {
            "text/plain": [
              "array([3, 6])"
            ]
          },
          "metadata": {},
          "execution_count": 34
        }
      ]
    },
    {
      "cell_type": "markdown",
      "metadata": {
        "id": "aJSu6VKb2oc_"
      },
      "source": [
        "## Exemplo 2"
      ]
    },
    {
      "cell_type": "code",
      "metadata": {
        "id": "N1wahElXTqoB"
      },
      "source": [
        "a_conjunto1 = np.arange(10)\n",
        "a_conjunto1"
      ],
      "execution_count": null,
      "outputs": []
    },
    {
      "cell_type": "code",
      "metadata": {
        "id": "nxDpCMg7T7Rj"
      },
      "source": [
        "a_conjunto2 = np.array([1, 5, 7])\n",
        "a_conjunto2"
      ],
      "execution_count": null,
      "outputs": []
    },
    {
      "cell_type": "code",
      "metadata": {
        "id": "3LU3qYyiUXqm"
      },
      "source": [
        "np.setdiff1d(a_conjunto1, a_conjunto2)"
      ],
      "execution_count": null,
      "outputs": []
    },
    {
      "cell_type": "markdown",
      "metadata": {
        "id": "mzZEytrRUioU"
      },
      "source": [
        "Observe que os elementos de a_conjunto2 foram deletados de a_conjunto1. Ok?"
      ]
    },
    {
      "cell_type": "markdown",
      "metadata": {
        "id": "gJRcoVRUnaY9"
      },
      "source": [
        "___\n",
        "# Diferença Simétrica\n",
        "* Em teoria de conjuntos, chamamos de Diferença Simétrica e escrevemos $(A \\cup B)- (A \\cap B)$.\n",
        "\n",
        "![DifferenceSymetric](https://github.com/MathMachado/Materials/blob/master/set_DifferenceSymetric.PNG?raw=true)\n",
        "\n",
        "Fonte: [Python Set](https://www.learnbyexample.org/python-set/)"
      ]
    },
    {
      "cell_type": "markdown",
      "metadata": {
        "id": "2Uzzm85Kup3H"
      },
      "source": [
        "* Vamos ver como isso funciona na prática:"
      ]
    },
    {
      "cell_type": "code",
      "metadata": {
        "id": "1z5wZ8VwpsWN"
      },
      "source": [
        "import numpy as np\n",
        "a_conjunto1 = np.array([0, 1, 2, 4, 5, 7, 8]) # Observe que [1, 4, 7] pertencem a a_conjunto1, mas 3, não. Portanto:\n",
        "a_conjunto2 = np.array([1, 4, 7, 3])"
      ],
      "execution_count": null,
      "outputs": []
    },
    {
      "cell_type": "code",
      "metadata": {
        "id": "Tqd_9XO5p7bo"
      },
      "source": [
        "np.setxor1d(a_conjunto1, a_conjunto2)"
      ],
      "execution_count": null,
      "outputs": []
    },
    {
      "cell_type": "markdown",
      "metadata": {
        "id": "_meurG3mqS5Y"
      },
      "source": [
        "Como explicamos ou interpretamos este resultado?"
      ]
    },
    {
      "cell_type": "markdown",
      "metadata": {
        "id": "Kc8JoKe2nj2n"
      },
      "source": [
        "___\n",
        "# **União de dois arrays**\n",
        "> Retorna os valores **únicos** dos dois arrays. Na teoria dos conjuntos, escrevemos:\n",
        "\n",
        "$$A \\cup B$$\n",
        "\n",
        "![Union](https://github.com/MathMachado/Materials/blob/master/set_Union.PNG?raw=true)\n",
        "\n",
        "Fonte: [Python Set](https://www.learnbyexample.org/python-set/)"
      ]
    },
    {
      "cell_type": "code",
      "metadata": {
        "id": "1LZxorw2p2mg"
      },
      "source": [
        "a_conjunto1 = np.array([0, 1, 2, 4, 5, 7, 8, 8])\n",
        "\n",
        "# Observe que [1, 4, 7] pertencem a a_conjunto1, mas 3, não. Portanto:\n",
        "a_conjunto2 = np.array([1, 4, 7, 3])"
      ],
      "execution_count": null,
      "outputs": []
    },
    {
      "cell_type": "code",
      "metadata": {
        "id": "COsZEmSwuY5L"
      },
      "source": [
        "np.union1d(a_conjunto1, a_conjunto2)"
      ],
      "execution_count": null,
      "outputs": []
    },
    {
      "cell_type": "markdown",
      "metadata": {
        "id": "b53bR-GYRu_3"
      },
      "source": [
        "___\n",
        "# **Selecionar itens comuns dos arrays X e Y**\n",
        "* Na teoria de conjuntos, chamamos de intersecção e escrevemos $X \\cap Y$.\n",
        "\n",
        "![Intersection](https://github.com/MathMachado/Materials/blob/master/set_Intersection.PNG?raw=true)\n",
        "\n",
        "Fonte: [Python Set](https://www.learnbyexample.org/python-set/)"
      ]
    },
    {
      "cell_type": "markdown",
      "metadata": {
        "id": "n2ec2tqqR1Gw"
      },
      "source": [
        "* Considere os arrays a seguir:"
      ]
    },
    {
      "cell_type": "code",
      "metadata": {
        "id": "rXVQQvBqR4J-"
      },
      "source": [
        "a_conjunto1 = np.arange(10)\n",
        "a_conjunto1"
      ],
      "execution_count": null,
      "outputs": []
    },
    {
      "cell_type": "code",
      "metadata": {
        "id": "pZTHhHxGSRfB"
      },
      "source": [
        "a_conjunto2 = np.arange(8, 18)\n",
        "a_conjunto2"
      ],
      "execution_count": null,
      "outputs": []
    },
    {
      "cell_type": "markdown",
      "metadata": {
        "id": "MxB2_qHpScMB"
      },
      "source": [
        "Quais são os elementos comuns à X e Y?"
      ]
    },
    {
      "cell_type": "code",
      "metadata": {
        "id": "e-rncJHtSfw0"
      },
      "source": [
        "np.intersect1d(a_conjunto1, a_conjunto2)"
      ],
      "execution_count": null,
      "outputs": []
    },
    {
      "cell_type": "markdown",
      "metadata": {
        "id": "3Bb39sWdfqaF"
      },
      "source": [
        "___\n",
        "# **Autovalores e Autovetores**\n",
        "> Autovetor e Autovalor são um dos tópicos mais importantes em Machine Learning.\n",
        "\n",
        "Por definição, o escalar $\\lambda$ e o vetor $v$ são autovalor e autovetor da matriz $A$ se\n",
        "\n",
        "$$Av = \\lambda v$$\n",
        "\n",
        "## Leitura Adicional:\n",
        "\n",
        "* [Machine Learning & Linear Algebra — Eigenvalue and eigenvector](https://medium.com/@jonathan_hui/machine-learning-linear-algebra-eigenvalue-and-eigenvector-f8d0493564c9)"
      ]
    },
    {
      "cell_type": "markdown",
      "metadata": {
        "id": "XZBKq8nGCUbL"
      },
      "source": [
        "* O array a_conjunto2 tem a seguinte forma:"
      ]
    },
    {
      "cell_type": "code",
      "metadata": {
        "id": "iYlZGKFUfw-R"
      },
      "source": [
        "a_conjunto2"
      ],
      "execution_count": null,
      "outputs": []
    },
    {
      "cell_type": "code",
      "metadata": {
        "id": "6EfvIbBNf02Z"
      },
      "source": [
        "# Calcula autovalores e autovetores:\n",
        "a_autovalores, a_autovalores= np.linalg.eig(a_conjunto2)"
      ],
      "execution_count": null,
      "outputs": []
    },
    {
      "cell_type": "markdown",
      "metadata": {
        "id": "v3GtQQvAz9QU"
      },
      "source": [
        "Os autovalores do array a_conjunto2 são:"
      ]
    },
    {
      "cell_type": "code",
      "metadata": {
        "id": "WvZGyBR1f9vP"
      },
      "source": [
        "a_autovalores"
      ],
      "execution_count": null,
      "outputs": []
    },
    {
      "cell_type": "markdown",
      "metadata": {
        "id": "AuuDRJVh0FC8"
      },
      "source": [
        "Os autovetores do array a_conjunto2 são:"
      ]
    },
    {
      "cell_type": "code",
      "metadata": {
        "id": "6m4YFAwsf_rA"
      },
      "source": [
        "a_autovalores"
      ],
      "execution_count": null,
      "outputs": []
    },
    {
      "cell_type": "markdown",
      "metadata": {
        "id": "DASn2Un9ZNV-"
      },
      "source": [
        "___\n",
        "# **Encontrar Missing Values (NaN)**"
      ]
    },
    {
      "cell_type": "markdown",
      "metadata": {
        "id": "TKilWBsSXtR4"
      },
      "source": [
        "## Gerar o exemplo"
      ]
    },
    {
      "cell_type": "code",
      "metadata": {
        "id": "lqLI2ER_ZUMY"
      },
      "source": [
        "np.random.seed(20111974)\n",
        "a_conjunto1 = np.random.random(100)\n",
        "\n",
        "# Inserindo 15 NaN's no array:\n",
        "np.random.seed(20111974)\n",
        "l_indices_aleatorios= np.random.randint(0, 100, size = 15)\n",
        "\n",
        "for i_indices in l_indices_aleatorios:\n",
        "    #print(i_indices)\n",
        "    a_conjunto1[i_indices] = np.nan"
      ],
      "execution_count": null,
      "outputs": []
    },
    {
      "cell_type": "code",
      "metadata": {
        "id": "gw--poMaadv3"
      },
      "source": [
        "l_indices_aleatorios"
      ],
      "execution_count": null,
      "outputs": []
    },
    {
      "cell_type": "code",
      "metadata": {
        "id": "2ZkbMPXMawYh"
      },
      "source": [
        "a_conjunto1"
      ],
      "execution_count": null,
      "outputs": []
    },
    {
      "cell_type": "markdown",
      "metadata": {
        "id": "Z7Bs75NvbSjx"
      },
      "source": [
        "Ok, inserimos aleatoriamente 14 NaN's no array a_conjunto1. Agora, vamos contar quantos NaN's (já sabemos a resposta!)."
      ]
    },
    {
      "cell_type": "markdown",
      "metadata": {
        "id": "hL1Wn0vdX8ur"
      },
      "source": [
        "## Identificar os NaN's"
      ]
    },
    {
      "cell_type": "code",
      "metadata": {
        "id": "5R-n3H0xbd6d"
      },
      "source": [
        "np.isnan(a_conjunto1).sum()"
      ],
      "execution_count": null,
      "outputs": []
    },
    {
      "cell_type": "markdown",
      "metadata": {
        "id": "Y7hh5uowoa3U"
      },
      "source": [
        "Ok, temos 14 NaN's em a_conjunto1."
      ]
    },
    {
      "cell_type": "markdown",
      "metadata": {
        "id": "iVLQf_bqbyNU"
      },
      "source": [
        "Ok, agora eu quero saber os índices desses NaN's."
      ]
    },
    {
      "cell_type": "code",
      "metadata": {
        "id": "kJHxjZiwb5HM"
      },
      "source": [
        "i_indices = np.where(np.isnan(a_conjunto1))\n",
        "i_indices"
      ],
      "execution_count": null,
      "outputs": []
    },
    {
      "cell_type": "code",
      "metadata": {
        "id": "W_jHGNImok7L"
      },
      "source": [
        "# Checando...\n",
        "a_conjunto1[2]"
      ],
      "execution_count": null,
      "outputs": []
    },
    {
      "cell_type": "markdown",
      "metadata": {
        "id": "iPhHAhDYcMWO"
      },
      "source": [
        "Vamos conferir se está correto? Para isso, basta comparar com l_indices_aleatorios:"
      ]
    },
    {
      "cell_type": "markdown",
      "metadata": {
        "id": "gxQYslRCe11G"
      },
      "source": [
        "___\n",
        "# **Deletar NaN's de um array**\n",
        "> Considere o mesmo array que acabamos de trabalhar. Agora eu quero excluir os NaN's identificados."
      ]
    },
    {
      "cell_type": "code",
      "metadata": {
        "id": "AeBARFqNfNnN"
      },
      "source": [
        "a_conjunto1"
      ],
      "execution_count": null,
      "outputs": []
    },
    {
      "cell_type": "code",
      "metadata": {
        "id": "ck1w6_Tvb72M"
      },
      "source": [
        "np.isnan(a_conjunto1)"
      ],
      "execution_count": null,
      "outputs": []
    },
    {
      "cell_type": "code",
      "metadata": {
        "id": "e497B492fFru"
      },
      "source": [
        "a_conjunto1[~np.isnan(a_conjunto1)]"
      ],
      "execution_count": null,
      "outputs": []
    },
    {
      "cell_type": "markdown",
      "metadata": {
        "id": "RpvKfJU_fmA6"
      },
      "source": [
        "Observe que os NaN's foram excluidos."
      ]
    },
    {
      "cell_type": "markdown",
      "metadata": {
        "id": "60-l91_ccJxt"
      },
      "source": []
    },
    {
      "cell_type": "markdown",
      "metadata": {
        "id": "kywe-SmtcLpF"
      },
      "source": [
        "### **Exercício**: Atribuir a mediana aos valores nan da amostra."
      ]
    },
    {
      "cell_type": "markdown",
      "metadata": {
        "id": "_Dv8MmNYg8zN"
      },
      "source": [
        "___\n",
        "# **Converter lista em array**\n",
        "> Considere a lista a seguir:"
      ]
    },
    {
      "cell_type": "code",
      "metadata": {
        "id": "but6T9dVhFYb"
      },
      "source": [
        "l_Lista = [np.random.randint(0, 10, 10)]\n",
        "l_Lista"
      ],
      "execution_count": null,
      "outputs": []
    },
    {
      "cell_type": "code",
      "metadata": {
        "id": "xytj4Eo4hTh9"
      },
      "source": [
        "type(l_Lista)"
      ],
      "execution_count": null,
      "outputs": []
    },
    {
      "cell_type": "markdown",
      "metadata": {
        "id": "qrINdcruhWcH"
      },
      "source": [
        "Convertendo a minha lista para array:"
      ]
    },
    {
      "cell_type": "code",
      "metadata": {
        "id": "RoSyaX0OhZSE"
      },
      "source": [
        "a_conjunto = np.asarray(l_Lista)\n",
        "a_conjunto"
      ],
      "execution_count": null,
      "outputs": []
    },
    {
      "cell_type": "code",
      "metadata": {
        "id": "dMjTdbBUhlrk"
      },
      "source": [
        "type(a_conjunto)"
      ],
      "execution_count": null,
      "outputs": []
    },
    {
      "cell_type": "markdown",
      "metadata": {
        "id": "Mbm3ZP9DhxDI"
      },
      "source": [
        "___\n",
        "# Converter tupla em array\n",
        "> Considere a tupla a seguir:"
      ]
    },
    {
      "cell_type": "code",
      "metadata": {
        "id": "cZxEFYLAh3S_"
      },
      "source": [
        "np.random.seed(20111974)\n",
        "t_numeros = ([np.random.randint(0, 10, 3)], [np.random.randint(0, 10, 3)], [np.random.randint(0, 10, 3)])\n",
        "t_numeros"
      ],
      "execution_count": null,
      "outputs": []
    },
    {
      "cell_type": "code",
      "metadata": {
        "id": "vlTXUJviiAml"
      },
      "source": [
        "type(t_numeros)"
      ],
      "execution_count": null,
      "outputs": []
    },
    {
      "cell_type": "code",
      "metadata": {
        "id": "yEaOlq8oh3oh"
      },
      "source": [
        "a_conjunto = np.asarray(t_numeros)\n",
        "a_conjunto"
      ],
      "execution_count": null,
      "outputs": []
    },
    {
      "cell_type": "code",
      "metadata": {
        "id": "PSgQDmRWh3g5"
      },
      "source": [
        "type(a_conjunto)"
      ],
      "execution_count": null,
      "outputs": []
    },
    {
      "cell_type": "markdown",
      "metadata": {
        "id": "pH-Ht6yMiqJN"
      },
      "source": [
        "___\n",
        "# Acrescentar elementos à um array\n",
        "> Considere o array a seguir:"
      ]
    },
    {
      "cell_type": "code",
      "metadata": {
        "id": "dFaDZInZiwoo"
      },
      "source": [
        "a_conjunto1 = np.arange(5)\n",
        "a_conjunto1"
      ],
      "execution_count": null,
      "outputs": []
    },
    {
      "cell_type": "code",
      "metadata": {
        "id": "d3zrlf_Ci73Z"
      },
      "source": [
        "np.random.seed(20111974)\n",
        "a_conjunto1 = np.append(a_conjunto1, [np.random.randint(0, 10, 3), np.random.randint(0, 10, 3), np.random.randint(0, 10, 3)])\n",
        "a_conjunto1"
      ],
      "execution_count": null,
      "outputs": []
    },
    {
      "cell_type": "markdown",
      "metadata": {
        "id": "eFRhtk13ojqA"
      },
      "source": [
        "___\n",
        "# **Converter array 1D num array 2D**\n",
        "> Considere os arrays a seguir:"
      ]
    },
    {
      "cell_type": "code",
      "metadata": {
        "id": "wYhBgW9Zu6ZP"
      },
      "source": [
        "np.random.seed(20111974)\n",
        "a_conjunto1 = np.array(np.random.randint(0, 10, 6))\n",
        "\n",
        "np.random.seed(19741120)\n",
        "a_conjunto2 = np.array(np.random.randint(0, 10, 6))"
      ],
      "execution_count": null,
      "outputs": []
    },
    {
      "cell_type": "code",
      "metadata": {
        "id": "febs9AUHvs6n"
      },
      "source": [
        "a_conjunto1"
      ],
      "execution_count": null,
      "outputs": []
    },
    {
      "cell_type": "code",
      "metadata": {
        "id": "C9OEd-iavvBm"
      },
      "source": [
        "a_conjunto2"
      ],
      "execution_count": null,
      "outputs": []
    },
    {
      "cell_type": "code",
      "metadata": {
        "id": "KJWjtaWKv0MJ"
      },
      "source": [
        "np.column_stack((a_conjunto1, a_conjunto2)) # Atenção aos parênteses em (a_conjunto1, a_conjunto2)."
      ],
      "execution_count": null,
      "outputs": []
    },
    {
      "cell_type": "markdown",
      "metadata": {
        "id": "xr_WZXJ7pi2D"
      },
      "source": [
        "___\n",
        "# **Excluir um elemento específico do array usando indices**\n",
        "> Considere os arrays a seguir:"
      ]
    },
    {
      "cell_type": "code",
      "metadata": {
        "id": "tS0ZzOs8w0dw"
      },
      "source": [
        "np.random.seed(20111974)\n",
        "a_conjunto1 = np.array(np.random.randint(0, 10, 6))\n",
        "a_conjunto1"
      ],
      "execution_count": null,
      "outputs": []
    },
    {
      "cell_type": "markdown",
      "metadata": {
        "id": "7bOJiKDKxEsC"
      },
      "source": [
        "Suponha que eu queira excluir os valores '8' de a_conjunto1. Os índices dos valores '8' são: [0, 1, 3]. Portanto, temos:"
      ]
    },
    {
      "cell_type": "code",
      "metadata": {
        "id": "SSjueEvjxTJO"
      },
      "source": [
        "a_conjunto1 = np.delete(a_conjunto1, [0, 1, 3])\n",
        "a_conjunto1"
      ],
      "execution_count": null,
      "outputs": []
    },
    {
      "cell_type": "markdown",
      "metadata": {
        "id": "mZkGZ2Rgp--5"
      },
      "source": [
        "___\n",
        "# **Frequência dos valores únicos de um array**\n",
        "> Considere o array a seguir:"
      ]
    },
    {
      "cell_type": "code",
      "metadata": {
        "id": "Z2BWKfH0xvQ8"
      },
      "source": [
        "np.random.seed(20111974)\n",
        "a_conjunto1 = np.array(np.random.randint(0, 10, 100))\n",
        "a_conjunto1"
      ],
      "execution_count": null,
      "outputs": []
    },
    {
      "cell_type": "markdown",
      "metadata": {
        "id": "s_tdQBsax4rQ"
      },
      "source": [
        "Suponha que eu queira saber quantas vezes o número/elemento '2' aparece em a_conjunto1."
      ]
    },
    {
      "cell_type": "code",
      "metadata": {
        "id": "JhsN15T5cm55"
      },
      "source": [
        "a = np.unique()"
      ],
      "execution_count": null,
      "outputs": []
    },
    {
      "cell_type": "code",
      "metadata": {
        "id": "6yIlk7pWyAtf"
      },
      "source": [
        "l_itens_unicos, i_count = np.unique(a_conjunto1, return_counts = True)\n",
        "l_itens_unicos"
      ],
      "execution_count": null,
      "outputs": []
    },
    {
      "cell_type": "markdown",
      "metadata": {
        "id": "DyvrIwS9yZIR"
      },
      "source": [
        "O que significa o output acima?"
      ]
    },
    {
      "cell_type": "code",
      "metadata": {
        "id": "uO-MPMhXyV9H"
      },
      "source": [
        "i_count"
      ],
      "execution_count": null,
      "outputs": []
    },
    {
      "cell_type": "markdown",
      "metadata": {
        "id": "zwoezXrPyofK"
      },
      "source": [
        "Qual a interpretação do output acima?"
      ]
    },
    {
      "cell_type": "code",
      "metadata": {
        "id": "HgYycSG7yr5e"
      },
      "source": [
        "np.asarray((l_itens_unicos, i_count))"
      ],
      "execution_count": null,
      "outputs": []
    },
    {
      "cell_type": "markdown",
      "metadata": {
        "id": "SwIZiJAiy06T"
      },
      "source": [
        "Qual a interpretação do output acima?"
      ]
    },
    {
      "cell_type": "markdown",
      "metadata": {
        "id": "JpNRpN2Dql3N"
      },
      "source": [
        "___\n",
        "# **Combinações possíveis de outros arrays**\n",
        "> Considere o exemplo a seguir:\n"
      ]
    },
    {
      "cell_type": "code",
      "metadata": {
        "id": "BUr89dH4zLXD"
      },
      "source": [
        "a_conjunto1 = [2, 4, 6]\n",
        "a_conjunto2 = [0, 8]\n",
        "a_conjunto4 = [1, 5]"
      ],
      "execution_count": null,
      "outputs": []
    },
    {
      "cell_type": "code",
      "metadata": {
        "id": "cEZH6l-Czx7y"
      },
      "source": [
        "np.meshgrid(a_conjunto1, a_conjunto2, a_conjunto4)"
      ],
      "execution_count": null,
      "outputs": []
    },
    {
      "cell_type": "code",
      "metadata": {
        "id": "btvmDkEcz0tH"
      },
      "source": [
        "np.array(np.meshgrid(a_conjunto1, a_conjunto2, a_conjunto4))"
      ],
      "execution_count": null,
      "outputs": []
    },
    {
      "cell_type": "code",
      "metadata": {
        "id": "Z0xhO7rGz059"
      },
      "source": [
        "np.array(np.meshgrid(a_conjunto1, a_conjunto2, a_conjunto4)).T"
      ],
      "execution_count": null,
      "outputs": []
    },
    {
      "cell_type": "code",
      "metadata": {
        "id": "eMv4lFnD0Enn"
      },
      "source": [
        "# Resultado final\n",
        "a_conjunto3 = np.array(np.meshgrid(a_conjunto1, a_conjunto2, a_conjunto4)).T.reshape(-1,3)\n",
        "a_conjunto3"
      ],
      "execution_count": null,
      "outputs": []
    },
    {
      "cell_type": "markdown",
      "metadata": {
        "id": "Rz80YANfAh2k"
      },
      "source": [
        "___\n",
        "# **Wrap Up**"
      ]
    },
    {
      "cell_type": "markdown",
      "metadata": {
        "id": "_cyhMsAVXxGC"
      },
      "source": [
        "___\n",
        "# **Exercícios**\n",
        "\n",
        "## **Exercício 1: Criando Arrays Unidimensionais**\n",
        "\n",
        "**Descrição:**\n",
        "\n",
        "Crie um array NumPy unidimensional contendo os números de 0 a 9. Em seguida, exiba o array.\n",
        "\n",
        "**Dicas:**\n",
        "\n",
        "- Utilize a função `np.arange()` para criar uma sequência de números.\n",
        "- Importe o módulo NumPy com a convenção `import numpy as np`.\n",
        "\n",
        "**Exemplo:**\n",
        "\n",
        "```python\n",
        "import numpy as np\n",
        "\n",
        "# Seu código aqui\n",
        "```\n",
        "\n",
        "**Solução:**\n",
        "\n",
        "```python\n",
        "import numpy as np\n",
        "\n",
        "# Criando um array de 0 a 9\n",
        "array_unidimensional = np.arange(10)\n",
        "print(array_unidimensional)\n",
        "```\n",
        "\n",
        "**Saída Esperada:**\n",
        "\n",
        "```\n",
        "[0 1 2 3 4 5 6 7 8 9]\n",
        "```\n",
        "\n",
        "---\n",
        "\n",
        "## **Exercício 2: Criando Arrays Multidimensionais**\n",
        "\n",
        "**Descrição:**\n",
        "\n",
        "Crie um array NumPy bidimensional (matriz) com 3 linhas e 4 colunas, preenchido com números de 1 a 12. Em seguida, exiba a matriz.\n",
        "\n",
        "**Dicas:**\n",
        "\n",
        "- Use a função `np.arange()` para criar uma sequência e depois `reshape()` para transformar em matriz.\n",
        "- Verifique as dimensões do array com `array.shape`.\n",
        "\n",
        "**Exemplo:**\n",
        "\n",
        "```python\n",
        "import numpy as np\n",
        "\n",
        "# Seu código aqui\n",
        "```\n",
        "\n",
        "**Solução:**\n",
        "\n",
        "```python\n",
        "import numpy as np\n",
        "\n",
        "# Criando uma sequência de 1 a 12\n",
        "sequencia = np.arange(1, 13)\n",
        "\n",
        "# Remodelando para uma matriz 3x4\n",
        "matriz = sequencia.reshape(3, 4)\n",
        "print(matriz)\n",
        "```\n",
        "\n",
        "**Saída Esperada:**\n",
        "\n",
        "```\n",
        "[[ 1  2  3  4]\n",
        " [ 5  6  7  8]\n",
        " [ 9 10 11 12]]\n",
        "```\n",
        "\n",
        "---\n",
        "\n",
        "## **Exercício 3: Selecionando Itens em Arrays**\n",
        "\n",
        "**Descrição:**\n",
        "\n",
        "Dado o array `a = np.array([10, 20, 30, 40, 50])`, selecione e exiba o terceiro elemento (valor 30) e os elementos do segundo ao quarto (valores 20, 30, 40).\n",
        "\n",
        "**Dicas:**\n",
        "\n",
        "- Utilize indexação baseada em zero.\n",
        "- Para fatiamento, lembre-se que o índice final é exclusivo.\n",
        "\n",
        "**Exemplo:**\n",
        "\n",
        "```python\n",
        "import numpy as np\n",
        "\n",
        "a = np.array([10, 20, 30, 40, 50])\n",
        "\n",
        "# Seu código aqui\n",
        "```\n",
        "\n",
        "**Solução:**\n",
        "\n",
        "```python\n",
        "import numpy as np\n",
        "\n",
        "a = np.array([10, 20, 30, 40, 50])\n",
        "\n",
        "# Selecionando o terceiro elemento\n",
        "terceiro_elemento = a[2]\n",
        "print(\"Terceiro elemento:\", terceiro_elemento)\n",
        "\n",
        "# Selecionando elementos do segundo ao quarto\n",
        "subarray = a[1:4]\n",
        "print(\"Elementos do segundo ao quarto:\", subarray)\n",
        "```\n",
        "\n",
        "**Saída Esperada:**\n",
        "\n",
        "```\n",
        "Terceiro elemento: 30\n",
        "Elementos do segundo ao quarto: [20 30 40]\n",
        "```\n",
        "\n",
        "---\n",
        "\n",
        "## **Exercício 4: Aplicando Funções `max()` e `min()`**\n",
        "\n",
        "**Descrição:**\n",
        "\n",
        "Crie um array NumPy com os seguintes valores: `[15, 22, 8, 19, 31, 7]`. Utilize as funções `max()` e `min()` para encontrar o maior e o menor valor do array, respectivamente.\n",
        "\n",
        "**Dicas:**\n",
        "\n",
        "- Use os métodos `array.max()` e `array.min()`.\n",
        "- Alternativamente, você pode usar as funções `np.max(array)` e `np.min(array)`.\n",
        "\n",
        "**Exemplo:**\n",
        "\n",
        "```python\n",
        "import numpy as np\n",
        "\n",
        "# Seu código aqui\n",
        "```\n",
        "\n",
        "**Solução:**\n",
        "\n",
        "```python\n",
        "import numpy as np\n",
        "\n",
        "# Criando o array\n",
        "valores = np.array([15, 22, 8, 19, 31, 7])\n",
        "\n",
        "# Encontrando o maior valor\n",
        "maior_valor = valores.max()\n",
        "print(\"Maior valor:\", maior_valor)\n",
        "\n",
        "# Encontrando o menor valor\n",
        "menor_valor = valores.min()\n",
        "print(\"Menor valor:\", menor_valor)\n",
        "```\n",
        "\n",
        "**Saída Esperada:**\n",
        "\n",
        "```\n",
        "Maior valor: 31\n",
        "Menor valor: 7\n",
        "```\n",
        "\n",
        "---\n",
        "\n",
        "## **Exercício 5: Calculando Média e Variância**\n",
        "\n",
        "**Descrição:**\n",
        "\n",
        "Dado o array `dados = np.array([4, 8, 6, 5, 3, 7, 9, 2])`, calcule a média e a variância dos elementos usando as funções apropriadas do NumPy.\n",
        "\n",
        "**Dicas:**\n",
        "\n",
        "- Utilize `np.mean()` para a média e `np.var()` para a variância.\n",
        "- Lembre-se que por padrão, `np.var()` calcula a variância populacional. Para a amostral, use `ddof=1`.\n",
        "\n",
        "**Exemplo:**\n",
        "\n",
        "```python\n",
        "import numpy as np\n",
        "\n",
        "dados = np.array([4, 8, 6, 5, 3, 7, 9, 2])\n",
        "\n",
        "# Seu código aqui\n",
        "```\n",
        "\n",
        "**Solução:**\n",
        "\n",
        "```python\n",
        "import numpy as np\n",
        "\n",
        "dados = np.array([4, 8, 6, 5, 3, 7, 9, 2])\n",
        "\n",
        "# Calculando a média\n",
        "media = np.mean(dados)\n",
        "print(\"Média:\", media)\n",
        "\n",
        "# Calculando a variância\n",
        "variancia = np.var(dados)\n",
        "print(\"Variância:\", variancia)\n",
        "```\n",
        "\n",
        "**Saída Esperada:**\n",
        "\n",
        "```\n",
        "Média: 5.75\n",
        "Variância: 6.484375\n",
        "```\n",
        "\n",
        "---\n",
        "\n",
        "## **Exercício 6: Reshaping de Arrays**\n",
        "\n",
        "**Descrição:**\n",
        "\n",
        "Crie um array NumPy com 12 elementos de 1 a 12 e remodelá-lo para uma matriz 4x3. Em seguida, exiba a nova forma do array.\n",
        "\n",
        "**Dicas:**\n",
        "\n",
        "- Use a função `reshape()` para mudar a forma do array.\n",
        "- Verifique a nova forma com o atributo `shape`.\n",
        "\n",
        "**Exemplo:**\n",
        "\n",
        "```python\n",
        "import numpy as np\n",
        "\n",
        "# Seu código aqui\n",
        "```\n",
        "\n",
        "**Solução:**\n",
        "\n",
        "```python\n",
        "import numpy as np\n",
        "\n",
        "# Criando o array\n",
        "array_original = np.arange(1, 13)\n",
        "\n",
        "# Remodelando para 4x3\n",
        "matriz_4x3 = array_original.reshape(4, 3)\n",
        "print(\"Matriz 4x3:\\n\", matriz_4x3)\n",
        "\n",
        "# Exibindo a nova forma\n",
        "print(\"Nova forma:\", matriz_4x3.shape)\n",
        "```\n",
        "\n",
        "**Saída Esperada:**\n",
        "\n",
        "```\n",
        "Matriz 4x3:\n",
        " [[ 1  2  3]\n",
        " [ 4  5  6]\n",
        " [ 7  8  9]\n",
        " [10 11 12]]\n",
        "Nova forma: (4, 3)\n",
        "```\n",
        "\n",
        "---\n",
        "\n",
        "## **Exercício 7: Transposição de Arrays**\n",
        "\n",
        "**Descrição:**\n",
        "\n",
        "Dada a matriz `matriz = np.array([[1, 2, 3], [4, 5, 6]])`, calcule e exiba a transposta da matriz.\n",
        "\n",
        "**Dicas:**\n",
        "\n",
        "- Utilize o método `transpose()` ou o atributo `.T` para obter a transposta.\n",
        "- Verifique as dimensões da matriz transposta.\n",
        "\n",
        "**Exemplo:**\n",
        "\n",
        "```python\n",
        "import numpy as np\n",
        "\n",
        "matriz = np.array([[1, 2, 3], [4, 5, 6]])\n",
        "\n",
        "# Seu código aqui\n",
        "```\n",
        "\n",
        "**Solução:**\n",
        "\n",
        "```python\n",
        "import numpy as np\n",
        "\n",
        "matriz = np.array([[1, 2, 3], [4, 5, 6]])\n",
        "\n",
        "# Calculando a transposta usando transpose()\n",
        "transposta = matriz.transpose()\n",
        "print(\"Transposta usando transpose():\\n\", transposta)\n",
        "\n",
        "# Calculando a transposta usando .T\n",
        "transposta_T = matriz.T\n",
        "print(\"Transposta usando .T:\\n\", transposta_T)\n",
        "```\n",
        "\n",
        "**Saída Esperada:**\n",
        "\n",
        "```\n",
        "Transposta usando transpose():\n",
        " [[1 4]\n",
        " [2 5]\n",
        " [3 6]]\n",
        "Transposta usando .T:\n",
        " [[1 4]\n",
        " [2 5]\n",
        " [3 6]]\n",
        "```\n",
        "\n",
        "---\n",
        "\n",
        "## **Exercício 8: Autovalores e Autovetores**\n",
        "\n",
        "**Descrição:**\n",
        "\n",
        "Dada a matriz quadrada `A = np.array([[2, 0], [1, 3]])`, calcule seus autovalores e autovetores utilizando a função apropriada do NumPy.\n",
        "\n",
        "**Dicas:**\n",
        "\n",
        "- Utilize a função `np.linalg.eig()`.\n",
        "- A função retorna uma tupla contendo um array de autovalores e uma matriz cujas colunas são os autovetores correspondentes.\n",
        "\n",
        "**Exemplo:**\n",
        "\n",
        "```python\n",
        "import numpy as np\n",
        "\n",
        "A = np.array([[2, 0], [1, 3]])\n",
        "\n",
        "# Seu código aqui\n",
        "```\n",
        "\n",
        "**Solução:**\n",
        "\n",
        "```python\n",
        "import numpy as np\n",
        "\n",
        "A = np.array([[2, 0], [1, 3]])\n",
        "\n",
        "# Calculando autovalores e autovetores\n",
        "autovalores, autovetores = np.linalg.eig(A)\n",
        "\n",
        "print(\"Autovalores:\", autovalores)\n",
        "print(\"Autovetores:\\n\", autovetores)\n",
        "```\n",
        "\n",
        "**Saída Esperada:**\n",
        "\n",
        "```\n",
        "Autovalores: [2. 3.]\n",
        "Autovetores:\n",
        " [[1. 0.]\n",
        " [0. 1.]]\n",
        "```\n",
        "\n",
        "---\n",
        "\n",
        "## **Exercício 9: Selecionando Subarrays com Condicionais**\n",
        "\n",
        "**Descrição:**\n",
        "\n",
        "Crie um array NumPy com números de 1 a 20. Selecione e exiba todos os números que são múltiplos de 3 ou de 5.\n",
        "\n",
        "**Dicas:**\n",
        "\n",
        "- Utilize operações lógicas para combinar condições.\n",
        "- A indexação booleana permite selecionar elementos que satisfazem determinadas condições.\n",
        "\n",
        "**Exemplo:**\n",
        "\n",
        "```python\n",
        "import numpy as np\n",
        "\n",
        "array = np.arange(1, 21)\n",
        "\n",
        "# Seu código aqui\n",
        "```\n",
        "\n",
        "**Solução:**\n",
        "\n",
        "```python\n",
        "import numpy as np\n",
        "\n",
        "array = np.arange(1, 21)\n",
        "\n",
        "# Selecionando múltiplos de 3 ou 5\n",
        "multiplos = array[(array % 3 == 0) | (array % 5 == 0)]\n",
        "print(\"Múltiplos de 3 ou 5:\", multiplos)\n",
        "```\n",
        "\n",
        "**Saída Esperada:**\n",
        "\n",
        "```\n",
        "Múltiplos de 3 ou 5: [ 3  5  6  9 10 12 15 18 20]\n",
        "```\n",
        "\n",
        "---\n",
        "\n",
        "## **Exercício 10: Reshaping e Transposição com Arrays Multidimensionais**\n",
        "\n",
        "**Descrição:**\n",
        "\n",
        "Crie um array NumPy de 16 elementos (1 a 16) e remodelá-lo para uma matriz 4x4. Em seguida, calcule a transposta dessa matriz e exiba ambas as matrizes.\n",
        "\n",
        "**Dicas:**\n",
        "\n",
        "- Utilize `reshape()` para transformar o array em uma matriz.\n",
        "- Use `transpose()` ou `.T` para obter a transposta.\n",
        "\n",
        "**Exemplo:**\n",
        "\n",
        "```python\n",
        "import numpy as np\n",
        "\n",
        "array = np.arange(1, 17)\n",
        "\n",
        "# Seu código aqui\n",
        "```\n",
        "\n",
        "**Solução:**\n",
        "\n",
        "```python\n",
        "import numpy as np\n",
        "\n",
        "array = np.arange(1, 17)\n",
        "\n",
        "# Remodelando para uma matriz 4x4\n",
        "matriz_4x4 = array.reshape(4, 4)\n",
        "print(\"Matriz 4x4:\\n\", matriz_4x4)\n",
        "\n",
        "# Calculando a transposta\n",
        "transposta = matriz_4x4.T\n",
        "print(\"Transposta da Matriz 4x4:\\n\", transposta)\n",
        "```\n",
        "\n",
        "**Saída Esperada:**\n",
        "\n",
        "```\n",
        "Matriz 4x4:\n",
        " [[ 1  2  3  4]\n",
        " [ 5  6  7  8]\n",
        " [ 9 10 11 12]\n",
        " [13 14 15 16]]\n",
        "Transposta da Matriz 4x4:\n",
        " [[ 1  5  9 13]\n",
        " [ 2  6 10 14]\n",
        " [ 3  7 11 15]\n",
        " [ 4  8 12 16]]\n",
        "```\n",
        "\n",
        "---\n",
        "\n",
        "## **Exercício 11: Calculando Diferença entre Datas**\n",
        "\n",
        "**Descrição:**\n",
        "\n",
        "Escreva um programa que solicite duas datas ao usuário no formato `DD/MM/AAAA` e calcule a diferença em dias entre elas.\n",
        "\n",
        "**Dicas:**\n",
        "\n",
        "- Utilize o módulo `datetime`.\n",
        "- Converta as strings de entrada em objetos `date` usando `strptime`.\n",
        "- Subtraia as datas para obter um objeto `timedelta` e extraia os dias.\n",
        "\n",
        "**Exemplo:**\n",
        "\n",
        "```python\n",
        "import datetime\n",
        "\n",
        "# Seu código aqui\n",
        "```\n",
        "\n",
        "**Solução:**\n",
        "\n",
        "```python\n",
        "import datetime\n",
        "\n",
        "# Solicitando as datas\n",
        "data1_str = input(\"Digite a primeira data (DD/MM/AAAA): \")\n",
        "data2_str = input(\"Digite a segunda data (DD/MM/AAAA): \")\n",
        "\n",
        "# Convertendo para objetos date\n",
        "data1 = datetime.datetime.strptime(data1_str, \"%d/%m/%Y\").date()\n",
        "data2 = datetime.datetime.strptime(data2_str, \"%d/%m/%Y\").date()\n",
        "\n",
        "# Calculando a diferença\n",
        "diferenca = abs((data2 - data1).days)\n",
        "print(f\"A diferença entre as datas é de {diferenca} dias.\")\n",
        "```\n",
        "\n",
        "**Exemplo de Saída:**\n",
        "\n",
        "```\n",
        "Digite a primeira data (DD/MM/AAAA): 01/01/2023\n",
        "Digite a segunda data (DD/MM/AAAA): 10/01/2023\n",
        "A diferença entre as datas é de 9 dias.\n",
        "```\n",
        "\n",
        "---\n",
        "\n",
        "## **Exercício 12: Gerando Datas Futuras**\n",
        "\n",
        "**Descrição:**\n",
        "\n",
        "Crie um programa que solicite ao usuário uma data no formato `DD/MM/AAAA` e um número de dias a adicionar. O programa deve exibir a nova data resultante.\n",
        "\n",
        "**Dicas:**\n",
        "\n",
        "- Use `datetime.timedelta` para representar o número de dias a adicionar.\n",
        "- Some o `timedelta` à data inicial para obter a nova data.\n",
        "\n",
        "**Exemplo:**\n",
        "\n",
        "```python\n",
        "import datetime\n",
        "\n",
        "# Seu código aqui\n",
        "```\n",
        "\n",
        "**Solução:**\n",
        "\n",
        "```python\n",
        "import datetime\n",
        "\n",
        "# Solicitando a data e o número de dias\n",
        "data_str = input(\"Digite uma data (DD/MM/AAAA): \")\n",
        "dias = int(input(\"Digite o número de dias a adicionar: \"))\n",
        "\n",
        "# Convertendo para objeto date\n",
        "data = datetime.datetime.strptime(data_str, \"%d/%m/%Y\").date()\n",
        "\n",
        "# Adicionando os dias\n",
        "nova_data = data + datetime.timedelta(days=dias)\n",
        "print(f\"A nova data é: {nova_data.strftime('%d/%m/%Y')}\")\n",
        "```\n",
        "\n",
        "**Exemplo de Saída:**\n",
        "\n",
        "```\n",
        "Digite uma data (DD/MM/AAAA): 15/08/2023\n",
        "Digite o número de dias a adicionar: 10\n",
        "A nova data é: 25/08/2023\n",
        "```\n",
        "\n",
        "---\n",
        "\n",
        "## **Exercício 13: Trabalhando com o Módulo `calendar`**\n",
        "\n",
        "**Descrição:**\n",
        "\n",
        "Escreva um programa que solicite ao usuário um ano e um mês (número de 1 a 12) e exiba o calendário daquele mês.\n",
        "\n",
        "**Dicas:**\n",
        "\n",
        "- Utilize o módulo `calendar`.\n",
        "- Use a função `calendar.month(ano, mes)` para obter o calendário em formato de string.\n",
        "\n",
        "**Exemplo:**\n",
        "\n",
        "```python\n",
        "import calendar\n",
        "\n",
        "# Seu código aqui\n",
        "```\n",
        "\n",
        "**Solução:**\n",
        "\n",
        "```python\n",
        "import calendar\n",
        "\n",
        "# Solicitando o ano e o mês\n",
        "ano = int(input(\"Digite o ano (AAAA): \"))\n",
        "mes = int(input(\"Digite o mês (1-12): \"))\n",
        "\n",
        "# Obtendo o calendário do mês\n",
        "calendario_mes = calendar.month(ano, mes)\n",
        "print(calendario_mes)\n",
        "```\n",
        "\n",
        "**Exemplo de Saída:**\n",
        "\n",
        "```\n",
        "Digite o ano (AAAA): 2023\n",
        "Digite o mês (1-12): 9\n",
        "   Setembro 2023\n",
        "Mo Tu We Th Fr Sa Su\n",
        "             1  2  3\n",
        " 4  5  6  7  8  9 10\n",
        "11 12 13 14 15 16 17\n",
        "18 19 20 21 22 23 24\n",
        "25 26 27 28 29 30\n",
        "```\n",
        "\n",
        "---\n",
        "\n",
        "## **Exercício 14: Reshaping e Operações Básicas**\n",
        "\n",
        "**Descrição:**\n",
        "\n",
        "Crie um array NumPy de 9 elementos (1 a 9) e remodelá-lo para uma matriz 3x3. Calcule o máximo, o mínimo e a média dos elementos da matriz.\n",
        "\n",
        "**Dicas:**\n",
        "\n",
        "- Utilize `reshape()` para mudar a forma do array.\n",
        "- Use métodos como `max()`, `min()` e `mean()` para calcular as estatísticas.\n",
        "\n",
        "**Exemplo:**\n",
        "\n",
        "```python\n",
        "import numpy as np\n",
        "\n",
        "# Seu código aqui\n",
        "```\n",
        "\n",
        "**Solução:**\n",
        "\n",
        "```python\n",
        "import numpy as np\n",
        "\n",
        "# Criando o array\n",
        "array = np.arange(1, 10)\n",
        "\n",
        "# Remodelando para 3x3\n",
        "matriz = array.reshape(3, 3)\n",
        "print(\"Matriz 3x3:\\n\", matriz)\n",
        "\n",
        "# Calculando o máximo\n",
        "maximo = matriz.max()\n",
        "print(\"Máximo:\", maximo)\n",
        "\n",
        "# Calculando o mínimo\n",
        "minimo = matriz.min()\n",
        "print(\"Mínimo:\", minimo)\n",
        "\n",
        "# Calculando a média\n",
        "media = matriz.mean()\n",
        "print(\"Média:\", media)\n",
        "```\n",
        "\n",
        "**Saída Esperada:**\n",
        "\n",
        "```\n",
        "Matriz 3x3:\n",
        " [[1 2 3]\n",
        " [4 5 6]\n",
        " [7 8 9]]\n",
        "Máximo: 9\n",
        "Mínimo: 1\n",
        "Média: 5.0\n",
        "```\n",
        "\n",
        "---\n",
        "\n",
        "## **Exercício 15: Manipulação Avançada com Autovalores e Autovetores**\n",
        "\n",
        "**Descrição:**\n",
        "\n",
        "Dada a matriz `B = np.array([[4, 2], [1, 3]])`, calcule os autovalores e autovetores. Em seguida, verifique se os autovalores estão corretos multiplicando a matriz `B` pelo autovetor e comparando com o produto do autovalor pelo autovetor.\n",
        "\n",
        "**Dicas:**\n",
        "\n",
        "- Utilize `np.linalg.eig()` para calcular autovalores e autovetores.\n",
        "- Verifique a relação \\( Bv = \\lambda v \\).\n",
        "\n",
        "**Exemplo:**\n",
        "\n",
        "```python\n",
        "import numpy as np\n",
        "\n",
        "B = np.array([[4, 2], [1, 3]])\n",
        "\n",
        "# Seu código aqui\n",
        "```\n",
        "\n",
        "**Solução:**\n",
        "\n",
        "```python\n",
        "import numpy as np\n",
        "\n",
        "B = np.array([[4, 2], [1, 3]])\n",
        "\n",
        "# Calculando autovalores e autovetores\n",
        "autovalores, autovetores = np.linalg.eig(B)\n",
        "print(\"Autovalores:\", autovalores)\n",
        "print(\"Autovetores:\\n\", autovetores)\n",
        "\n",
        "# Verificando a relação Bv = λv para cada par\n",
        "for i in range(len(autovalores)):\n",
        "    lambda_v = autovalores[i] * autovetores[:, i]\n",
        "    Bv = B.dot(autovetores[:, i])\n",
        "    print(f\"\\nVerificação para Autovalor {autovalores[i]}:\")\n",
        "    print(\"λv:\", lambda_v)\n",
        "    print(\"Bv:\", Bv)\n",
        "```\n",
        "\n",
        "**Saída Esperada:**\n",
        "\n",
        "```\n",
        "Autovalores: [5. 2.]\n",
        "Autovetores:\n",
        " [[ 0.89442719 -0.70710678]\n",
        " [ 0.4472136   0.70710678]]\n",
        "\n",
        "Verificação para Autovalor 5.0:\n",
        "λv: [4.47213595 2.23606798]\n",
        "Bv: [4.47213595 2.23606798]\n",
        "\n",
        "Verificação para Autovalor 2.0:\n",
        "λv: [-1.41421356  1.41421356]\n",
        "Bv: [-1.41421356  1.41421356]\n",
        "```\n",
        "\n",
        "**Explicação:**\n",
        "\n",
        "Para cada autovalor e autovetor, multiplicamos a matriz `B` pelo autovetor e comparamos com o produto do autovalor pelo autovetor. As duas operações devem resultar no mesmo vetor, confirmando a relação \\( Bv = \\lambda v \\).\n",
        "\n",
        "---\n",
        "\n",
        "## **Exercício 16: Subarrays com Indexação Avançada**\n",
        "\n",
        "**Descrição:**\n",
        "\n",
        "Crie um array NumPy de 12 elementos (1 a 12) e remodelá-lo para uma matriz 3x4. Selecione e exiba apenas os elementos das duas primeiras colunas.\n",
        "\n",
        "**Dicas:**\n",
        "\n",
        "- Use fatiamento para selecionar colunas específicas.\n",
        "- Lembre-se que a indexação começa em zero.\n",
        "\n",
        "**Exemplo:**\n",
        "\n",
        "```python\n",
        "import numpy as np\n",
        "\n",
        "# Seu código aqui\n",
        "```\n",
        "\n",
        "**Solução:**\n",
        "\n",
        "```python\n",
        "import numpy as np\n",
        "\n",
        "# Criando o array\n",
        "array = np.arange(1, 13)\n",
        "\n",
        "# Remodelando para 3x4\n",
        "matriz = array.reshape(3, 4)\n",
        "print(\"Matriz 3x4:\\n\", matriz)\n",
        "\n",
        "# Selecionando as duas primeiras colunas\n",
        "duas_primeiras_colunas = matriz[:, :2]\n",
        "print(\"Duas primeiras colunas:\\n\", duas_primeiras_colunas)\n",
        "```\n",
        "\n",
        "**Saída Esperada:**\n",
        "\n",
        "```\n",
        "Matriz 3x4:\n",
        " [[ 1  2  3  4]\n",
        " [ 5  6  7  8]\n",
        " [ 9 10 11 12]]\n",
        "Duas primeiras colunas:\n",
        " [[ 1  2]\n",
        " [ 5  6]\n",
        " [ 9 10]]\n",
        "```\n",
        "\n",
        "---\n",
        "\n",
        "## **Exercício 17: Utilizando Funções `np.sum()`, `np.mean()`, e `np.var()`**\n",
        "\n",
        "**Descrição:**\n",
        "\n",
        "Crie um array NumPy com valores `[3, 6, 9, 12, 15, 18]`. Calcule a soma total, a média e a variância dos elementos usando as funções apropriadas do NumPy.\n",
        "\n",
        "**Dicas:**\n",
        "\n",
        "- Use `np.sum()`, `np.mean()`, e `np.var()` para calcular as estatísticas.\n",
        "- Compare com métodos de array como `array.sum()`.\n",
        "\n",
        "**Exemplo:**\n",
        "\n",
        "```python\n",
        "import numpy as np\n",
        "\n",
        "array = np.array([3, 6, 9, 12, 15, 18])\n",
        "\n",
        "# Seu código aqui\n",
        "```\n",
        "\n",
        "**Solução:**\n",
        "\n",
        "```python\n",
        "import numpy as np\n",
        "\n",
        "array = np.array([3, 6, 9, 12, 15, 18])\n",
        "\n",
        "# Calculando a soma\n",
        "soma = np.sum(array)\n",
        "print(\"Soma total:\", soma)\n",
        "\n",
        "# Calculando a média\n",
        "media = np.mean(array)\n",
        "print(\"Média:\", media)\n",
        "\n",
        "# Calculando a variância\n",
        "variancia = np.var(array)\n",
        "print(\"Variância:\", variancia)\n",
        "```\n",
        "\n",
        "**Saída Esperada:**\n",
        "\n",
        "```\n",
        "Soma total: 63\n",
        "Média: 10.5\n",
        "Variância: 22.25\n",
        "```\n",
        "\n",
        "---\n",
        "\n",
        "## **Exercício 18: Transposição e Multiplicação de Matrizes**\n",
        "\n",
        "**Descrição:**\n",
        "\n",
        "Dada a matriz `C = np.array([[1, 2], [3, 4], [5, 6]])`, calcule sua transposta e, em seguida, multiplique a matriz original pela sua transposta. Exiba o resultado da multiplicação.\n",
        "\n",
        "**Dicas:**\n",
        "\n",
        "- Utilize `C.T` para obter a transposta.\n",
        "- Use `np.dot()` ou o operador `@` para multiplicação de matrizes.\n",
        "\n",
        "**Exemplo:**\n",
        "\n",
        "```python\n",
        "import numpy as np\n",
        "\n",
        "C = np.array([[1, 2], [3, 4], [5, 6]])\n",
        "\n",
        "# Seu código aqui\n",
        "```\n",
        "\n",
        "**Solução:**\n",
        "\n",
        "```python\n",
        "import numpy as np\n",
        "\n",
        "C = np.array([[1, 2], [3, 4], [5, 6]])\n",
        "\n",
        "# Calculando a transposta\n",
        "C_transposta = C.T\n",
        "print(\"Transposta de C:\\n\", C_transposta)\n",
        "\n",
        "# Multiplicando C pela sua transposta\n",
        "produto = np.dot(C, C_transposta)\n",
        "print(\"Produto de C e C_transposta:\\n\", produto)\n",
        "```\n",
        "\n",
        "**Saída Esperada:**\n",
        "\n",
        "```\n",
        "Transposta de C:\n",
        " [[1 3 5]\n",
        " [2 4 6]]\n",
        "Produto de C e C_transposta:\n",
        " [[ 5 11 17]\n",
        " [11 25 39]\n",
        " [17 39 61]]\n",
        "```\n",
        "\n",
        "---\n",
        "\n",
        "## **Exercício 19: Selecionando Elementos com Condicionais**\n",
        "\n",
        "**Descrição:**\n",
        "\n",
        "Crie um array NumPy com valores de 1 a 20. Selecione e exiba apenas os números que são múltiplos de 4 ou que são primos.\n",
        "\n",
        "**Dicas:**\n",
        "\n",
        "- Para verificar se um número é primo, você pode criar uma função auxiliar ou usar uma abordagem vetorizada.\n",
        "- Utilize a indexação booleana para combinar múltiplos de 4 e números primos.\n",
        "\n",
        "**Exemplo:**\n",
        "\n",
        "```python\n",
        "import numpy as np\n",
        "\n",
        "array = np.arange(1, 21)\n",
        "\n",
        "# Seu código aqui\n",
        "```\n",
        "\n",
        "**Solução:**\n",
        "\n",
        "```python\n",
        "import numpy as np\n",
        "\n",
        "array = np.arange(1, 21)\n",
        "\n",
        "# Função auxiliar para verificar se um número é primo\n",
        "def is_prime(n):\n",
        "    if n < 2:\n",
        "        return False\n",
        "    for i in range(2, int(np.sqrt(n)) + 1):\n",
        "        if n % i == 0:\n",
        "            return False\n",
        "    return True\n",
        "\n",
        "# Aplicando a função para cada elemento\n",
        "primos = np.array([is_prime(x) for x in array])\n",
        "\n",
        "# Selecionando múltiplos de 4 ou primos\n",
        "selecionados = array[(array % 4 == 0) | (primos)]\n",
        "print(\"Números múltiplos de 4 ou primos:\", selecionados)\n",
        "```\n",
        "\n",
        "**Saída Esperada:**\n",
        "\n",
        "```\n",
        "Números múltiplos de 4 ou primos: [ 2  3  4  5  7  8 11 12 13 16 17 19 20]\n",
        "```\n",
        "\n",
        "---\n",
        "\n",
        "## **Exercício 20: Reshaping com Arrays de Diferentes Tamanhos**\n",
        "\n",
        "**Descrição:**\n",
        "\n",
        "Tente remodelar um array com 10 elementos para uma matriz 3x4. Observe e explique o erro gerado. Em seguida, ajuste o array ou a forma para que o reshaping seja bem-sucedido.\n",
        "\n",
        "**Dicas:**\n",
        "\n",
        "- Verifique a compatibilidade entre o número de elementos e a nova forma.\n",
        "- Use `array.size` e `shape` para entender as dimensões.\n",
        "\n",
        "**Exemplo:**\n",
        "\n",
        "```python\n",
        "import numpy as np\n",
        "\n",
        "array = np.arange(1, 11)\n",
        "\n",
        "# Tentar remodelar para 3x4\n",
        "# Seu código aqui\n",
        "```\n",
        "\n",
        "**Solução:**\n",
        "\n",
        "```python\n",
        "import numpy as np\n",
        "\n",
        "array = np.arange(1, 11)\n",
        "\n",
        "# Tentar remodelar para 3x4\n",
        "try:\n",
        "    matriz = array.reshape(3, 4)\n",
        "    print(\"Matriz 3x4:\\n\", matriz)\n",
        "except ValueError as e:\n",
        "    print(\"Erro ao remodelar:\", e)\n",
        "\n",
        "# Ajustando o array para ter 12 elementos\n",
        "array_12 = np.arange(1, 13)\n",
        "matriz_3x4 = array_12.reshape(3, 4)\n",
        "print(\"\\nMatriz 3x4 com 12 elementos:\\n\", matriz_3x4)\n",
        "```\n",
        "\n",
        "**Saída Esperada:**\n",
        "\n",
        "```\n",
        "Erro ao remodelar: cannot reshape array of size 10 into shape (3,4)\n",
        "\n",
        "Matriz 3x4 com 12 elementos:\n",
        " [[ 1  2  3  4]\n",
        " [ 5  6  7  8]\n",
        " [ 9 10 11 12]]\n",
        "```\n",
        "\n",
        "**Explicação:**\n",
        "\n",
        "O array original possui 10 elementos, o que não é compatível com uma matriz 3x4 (12 elementos). Para resolver, aumentamos o array para 12 elementos antes de remodelar.\n",
        "\n",
        "---\n",
        "\n",
        "## **Exercício 21: Utilizando `np.unique()` para Remover Duplicatas**\n",
        "\n",
        "**Descrição:**\n",
        "\n",
        "Crie um array NumPy com os seguintes valores: `[1, 2, 2, 3, 4, 4, 4, 5]`. Utilize a função `np.unique()` para remover os elementos duplicados e exiba o array resultante.\n",
        "\n",
        "**Dicas:**\n",
        "\n",
        "- A função `np.unique()` retorna os elementos únicos em ordem ordenada.\n",
        "- Você pode também obter a contagem de ocorrências usando parâmetros opcionais.\n",
        "\n",
        "**Exemplo:**\n",
        "\n",
        "```python\n",
        "import numpy as np\n",
        "\n",
        "array = np.array([1, 2, 2, 3, 4, 4, 4, 5])\n",
        "\n",
        "# Seu código aqui\n",
        "```\n",
        "\n",
        "**Solução:**\n",
        "\n",
        "```python\n",
        "import numpy as np\n",
        "\n",
        "array = np.array([1, 2, 2, 3, 4, 4, 4, 5])\n",
        "\n",
        "# Removendo duplicatas\n",
        "unicos = np.unique(array)\n",
        "print(\"Elementos únicos:\", unicos)\n",
        "\n",
        "# Removendo duplicatas sem ordenar\n",
        "# Embora np.unique sempre ordene, você pode usar outras abordagens se necessário\n",
        "```\n",
        "\n",
        "**Saída Esperada:**\n",
        "\n",
        "```\n",
        "Elementos únicos: [1 2 3 4 5]\n",
        "```\n",
        "\n",
        "---\n",
        "\n",
        "## **Exercício 22: Utilizando `np.where()` para Condicionais em Arrays**\n",
        "\n",
        "**Descrição:**\n",
        "\n",
        "Dado o array `a = np.array([10, 15, 20, 25, 30])`, use `np.where()` para criar um novo array que contenha `'Alto'` se o valor for maior que 20 e `'Baixo'` caso contrário.\n",
        "\n",
        "**Dicas:**\n",
        "\n",
        "- A função `np.where(condição, valor_se_verdadeiro, valor_se_falso)` é útil para aplicar condições element-wise.\n",
        "- Certifique-se de que os tipos de dados sejam compatíveis.\n",
        "\n",
        "**Exemplo:**\n",
        "\n",
        "```python\n",
        "import numpy as np\n",
        "\n",
        "a = np.array([10, 15, 20, 25, 30])\n",
        "\n",
        "# Seu código aqui\n",
        "```\n",
        "\n",
        "**Solução:**\n",
        "\n",
        "```python\n",
        "import numpy as np\n",
        "\n",
        "a = np.array([10, 15, 20, 25, 30])\n",
        "\n",
        "# Aplicando a condição\n",
        "resultado = np.where(a > 20, 'Alto', 'Baixo')\n",
        "print(\"Resultado:\", resultado)\n",
        "```\n",
        "\n",
        "**Saída Esperada:**\n",
        "\n",
        "```\n",
        "Resultado: ['Baixo' 'Baixo' 'Baixo' 'Alto' 'Alto']\n",
        "```\n",
        "\n",
        "---\n",
        "\n",
        "## **Exercício 23: Utilizando `np.sum()` com Eixos Específicos**\n",
        "\n",
        "**Descrição:**\n",
        "\n",
        "Crie uma matriz 3x3 com valores de 1 a 9. Calcule a soma de cada coluna e a soma de cada linha utilizando o parâmetro `axis` nas funções de soma.\n",
        "\n",
        "**Dicas:**\n",
        "\n",
        "- `axis=0` para somar ao longo das colunas.\n",
        "- `axis=1` para somar ao longo das linhas.\n",
        "- Use `np.sum()` ou o método `sum()` do array.\n",
        "\n",
        "**Exemplo:**\n",
        "\n",
        "```python\n",
        "import numpy as np\n",
        "\n",
        "matriz = np.arange(1, 10).reshape(3, 3)\n",
        "print(\"Matriz:\\n\", matriz)\n",
        "\n",
        "# Seu código aqui\n",
        "```\n",
        "\n",
        "**Solução:**\n",
        "\n",
        "```python\n",
        "import numpy as np\n",
        "\n",
        "matriz = np.arange(1, 10).reshape(3, 3)\n",
        "print(\"Matriz:\\n\", matriz)\n",
        "\n",
        "# Soma de cada coluna\n",
        "soma_colunas = matriz.sum(axis=0)\n",
        "print(\"Soma de cada coluna:\", soma_colunas)\n",
        "\n",
        "# Soma de cada linha\n",
        "soma_linhas = matriz.sum(axis=1)\n",
        "print(\"Soma de cada linha:\", soma_linhas)\n",
        "```\n",
        "\n",
        "**Saída Esperada:**\n",
        "\n",
        "```\n",
        "Matriz:\n",
        " [[1 2 3]\n",
        " [4 5 6]\n",
        " [7 8 9]]\n",
        "Soma de cada coluna: [12 15 18]\n",
        "Soma de cada linha: [ 6 15 24]\n",
        "```\n",
        "\n",
        "---\n",
        "\n",
        "## **Exercício 24: Utilizando `np.mean()` com Eixos Específicos**\n",
        "\n",
        "**Descrição:**\n",
        "\n",
        "Dada a matriz `D = np.array([[5, 10, 15], [20, 25, 30], [35, 40, 45]])`, calcule a média de cada linha e a média de cada coluna.\n",
        "\n",
        "**Dicas:**\n",
        "\n",
        "- Use `np.mean()` com o parâmetro `axis`.\n",
        "- `axis=0` para média das colunas e `axis=1` para média das linhas.\n",
        "\n",
        "**Exemplo:**\n",
        "\n",
        "```python\n",
        "import numpy as np\n",
        "\n",
        "D = np.array([[5, 10, 15], [20, 25, 30], [35, 40, 45]])\n",
        "\n",
        "# Seu código aqui\n",
        "```\n",
        "\n",
        "**Solução:**\n",
        "\n",
        "```python\n",
        "import numpy as np\n",
        "\n",
        "D = np.array([[5, 10, 15], [20, 25, 30], [35, 40, 45]])\n",
        "\n",
        "# Média de cada coluna\n",
        "media_colunas = D.mean(axis=0)\n",
        "print(\"Média de cada coluna:\", media_colunas)\n",
        "\n",
        "# Média de cada linha\n",
        "media_linhas = D.mean(axis=1)\n",
        "print(\"Média de cada linha:\", media_linhas)\n",
        "```\n",
        "\n",
        "**Saída Esperada:**\n",
        "\n",
        "```\n",
        "Média de cada coluna: [20. 25. 30.]\n",
        "Média de cada linha: [10. 25. 40.]\n",
        "```\n",
        "\n",
        "---\n",
        "\n",
        "## **Exercício 25: Filtrando Elementos com `np.where()`**\n",
        "\n",
        "**Descrição:**\n",
        "\n",
        "Crie um array NumPy com valores de 1 a 10. Utilize `np.where()` para substituir todos os valores pares por 0 e manter os valores ímpares inalterados. Exiba o array resultante.\n",
        "\n",
        "**Dicas:**\n",
        "\n",
        "- Use uma condição para verificar se os elementos são pares (`x % 2 == 0`).\n",
        "- Aplique `np.where(condição, valor_se_verdadeiro, valor_se_falso)`.\n",
        "\n",
        "**Exemplo:**\n",
        "\n",
        "```python\n",
        "import numpy as np\n",
        "\n",
        "array = np.arange(1, 11)\n",
        "\n",
        "# Seu código aqui\n",
        "```\n",
        "\n",
        "**Solução:**\n",
        "\n",
        "```python\n",
        "import numpy as np\n",
        "\n",
        "array = np.arange(1, 11)\n",
        "\n",
        "# Substituindo pares por 0\n",
        "resultado = np.where(array % 2 == 0, 0, array)\n",
        "print(\"Resultado:\", resultado)\n",
        "```\n",
        "\n",
        "**Saída Esperada:**\n",
        "\n",
        "```\n",
        "Resultado: [ 1  0  3  0  5  0  7  0  9  0]\n",
        "```\n",
        "\n",
        "---\n",
        "\n",
        "## **Exercício 26: Usando `np.linalg.inv()` para Inverter Matrizes**\n",
        "\n",
        "**Descrição:**\n",
        "\n",
        "Dada a matriz `E = np.array([[1, 2], [3, 4]])`, calcule sua inversa utilizando o módulo `numpy.linalg`. Verifique a correção multiplicando a matriz original pela sua inversa e exibindo o resultado (deve ser a matriz identidade).\n",
        "\n",
        "**Dicas:**\n",
        "\n",
        "- Utilize `np.linalg.inv()` para calcular a inversa.\n",
        "- Use `np.dot()` ou o operador `@` para multiplicar matrizes.\n",
        "- Lembre-se que somente matrizes quadradas com determinante diferente de zero têm inversa.\n",
        "\n",
        "**Exemplo:**\n",
        "\n",
        "```python\n",
        "import numpy as np\n",
        "\n",
        "E = np.array([[1, 2], [3, 4]])\n",
        "\n",
        "# Seu código aqui\n",
        "```\n",
        "\n",
        "**Solução:**\n",
        "\n",
        "```python\n",
        "import numpy as np\n",
        "\n",
        "E = np.array([[1, 2], [3, 4]])\n",
        "\n",
        "# Calculando a inversa\n",
        "inversa = np.linalg.inv(E)\n",
        "print(\"Inversa de E:\\n\", inversa)\n",
        "\n",
        "# Verificando multiplicação E * inversa\n",
        "produto = np.dot(E, inversa)\n",
        "print(\"Produto de E e sua inversa:\\n\", produto)\n",
        "```\n",
        "\n",
        "**Saída Esperada:**\n",
        "\n",
        "```\n",
        "Inversa de E:\n",
        " [[-2.   1. ]\n",
        " [ 1.5 -0.5]]\n",
        "Produto de E e sua inversa:\n",
        " [[1.00000000e+00 0.00000000e+00]\n",
        " [0.00000000e+00 1.00000000e+00]]\n",
        "```\n",
        "\n",
        "**Observação:**\n",
        "\n",
        "Devido a arredondamentos numéricos, pode haver pequenas imprecisões próximas de zero.\n",
        "\n",
        "---\n",
        "\n",
        "## **Exercício 27: Utilizando `np.unique()` com Matrizes**\n",
        "\n",
        "**Descrição:**\n",
        "\n",
        "Crie uma matriz NumPy 3x3 com alguns elementos duplicados, por exemplo, `[[1, 2, 3], [4, 2, 6], [7, 8, 3]]`. Use `np.unique()` para encontrar todos os elementos únicos da matriz e conte quantas vezes cada elemento aparece.\n",
        "\n",
        "**Dicas:**\n",
        "\n",
        "- A função `np.unique()` pode retornar índices e contagens se os parâmetros `return_counts=True` forem usados.\n",
        "- Utilize a função para obter tanto os valores únicos quanto suas contagens.\n",
        "\n",
        "**Exemplo:**\n",
        "\n",
        "```python\n",
        "import numpy as np\n",
        "\n",
        "matriz = np.array([[1, 2, 3], [4, 2, 6], [7, 8, 3]])\n",
        "\n",
        "# Seu código aqui\n",
        "```\n",
        "\n",
        "**Solução:**\n",
        "\n",
        "```python\n",
        "import numpy as np\n",
        "\n",
        "matriz = np.array([[1, 2, 3], [4, 2, 6], [7, 8, 3]])\n",
        "\n",
        "# Encontrando elementos únicos e suas contagens\n",
        "unicos, contagens = np.unique(matriz, return_counts=True)\n",
        "print(\"Elementos únicos:\", unicos)\n",
        "print(\"Contagem de cada elemento:\", contagens)\n",
        "```\n",
        "\n",
        "**Saída Esperada:**\n",
        "\n",
        "```\n",
        "Elementos únicos: [1 2 3 4 6 7 8]\n",
        "Contagem de cada elemento: [1 2 2 1 1 1 1]\n",
        "```\n",
        "\n",
        "---\n",
        "\n",
        "## **Exercício 28: Utilizando `np.reshape()` para Arrays Diferentes**\n",
        "\n",
        "**Descrição:**\n",
        "\n",
        "Dado o array `F = np.arange(1, 17)`, remodelá-lo para uma matriz 4x4. Em seguida, criar uma nova matriz que seja a transposta de `F` e calcular a soma de todos os elementos na nova matriz.\n",
        "\n",
        "**Dicas:**\n",
        "\n",
        "- Use `reshape()` para mudar a forma do array.\n",
        "- Utilize `transpose()` ou `.T` para obter a transposta.\n",
        "- Use `np.sum()` para calcular a soma total.\n",
        "\n",
        "**Exemplo:**\n",
        "\n",
        "```python\n",
        "import numpy as np\n",
        "\n",
        "F = np.arange(1, 17)\n",
        "\n",
        "# Seu código aqui\n",
        "```\n",
        "\n",
        "**Solução:**\n",
        "\n",
        "```python\n",
        "import numpy as np\n",
        "\n",
        "F = np.arange(1, 17)\n",
        "\n",
        "# Remodelando para 4x4\n",
        "matriz_4x4 = F.reshape(4, 4)\n",
        "print(\"Matriz 4x4:\\n\", matriz_4x4)\n",
        "\n",
        "# Calculando a transposta\n",
        "transposta = matriz_4x4.T\n",
        "print(\"Transposta da Matriz 4x4:\\n\", transposta)\n",
        "\n",
        "# Calculando a soma dos elementos na transposta\n",
        "soma_transposta = transposta.sum()\n",
        "print(\"Soma dos elementos na transposta:\", soma_transposta)\n",
        "```\n",
        "\n",
        "**Saída Esperada:**\n",
        "\n",
        "```\n",
        "Matriz 4x4:\n",
        " [[ 1  2  3  4]\n",
        " [ 5  6  7  8]\n",
        " [ 9 10 11 12]\n",
        " [13 14 15 16]]\n",
        "Transposta da Matriz 4x4:\n",
        " [[ 1  5  9 13]\n",
        " [ 2  6 10 14]\n",
        " [ 3  7 11 15]\n",
        " [ 4  8 12 16]]\n",
        "Soma dos elementos na transposta: 136\n",
        "```\n",
        "\n",
        "---\n",
        "\n",
        "## **Exercício 29: Manipulação de Autovalores e Autovetores**\n",
        "\n",
        "**Descrição:**\n",
        "\n",
        "Dada a matriz `G = np.array([[0, 1], [1, 0]])`, calcule seus autovalores e autovetores. Verifique se a multiplicação da matriz `G` por um autovetor é igual ao autovalor multiplicado pelo autovetor.\n",
        "\n",
        "**Dicas:**\n",
        "\n",
        "- Use `np.linalg.eig()` para obter autovalores e autovetores.\n",
        "- Aplique a relação \\( Gv = \\lambda v \\) para verificar.\n",
        "\n",
        "**Exemplo:**\n",
        "\n",
        "```python\n",
        "import numpy as np\n",
        "\n",
        "G = np.array([[0, 1], [1, 0]])\n",
        "\n",
        "# Seu código aqui\n",
        "```\n",
        "\n",
        "**Solução:**\n",
        "\n",
        "```python\n",
        "import numpy as np\n",
        "\n",
        "G = np.array([[0, 1], [1, 0]])\n",
        "\n",
        "# Calculando autovalores e autovetores\n",
        "autovalores, autovetores = np.linalg.eig(G)\n",
        "print(\"Autovalores:\", autovalores)\n",
        "print(\"Autovetores:\\n\", autovetores)\n",
        "\n",
        "# Verificando a relação Gv = λv\n",
        "for i in range(len(autovalores)):\n",
        "    lambda_v = autovalores[i] * autovetores[:, i]\n",
        "    Gv = G.dot(autovetores[:, i])\n",
        "    print(f\"\\nVerificação para Autovalor {autovalores[i]}:\")\n",
        "    print(\"λv:\", lambda_v)\n",
        "    print(\"Gv:\", Gv)\n",
        "```\n",
        "\n",
        "**Saída Esperada:**\n",
        "\n",
        "```\n",
        "Autovalores: [ 1. -1.]\n",
        "Autovetores:\n",
        " [[ 0.70710678 -0.70710678]\n",
        " [ 0.70710678  0.70710678]]\n",
        "\n",
        "Verificação para Autovalor 1.0:\n",
        "λv: [0.70710678 0.70710678]\n",
        "Gv: [0.70710678 0.70710678]\n",
        "\n",
        "Verificação para Autovalor -1.0:\n",
        "λv: [ 0.70710678 -0.70710678]\n",
        "Gv: [-0.70710678  0.70710678]\n",
        "```\n",
        "\n",
        "**Observação:**\n",
        "\n",
        "As verificações mostram que \\( Gv = \\lambda v \\) é satisfeito para ambos os autovalores e seus respectivos autovetores.\n",
        "\n",
        "---\n",
        "\n",
        "## **Exercício 30: Estatísticas Descritivas com `np.mean()`, `np.median()`, e `np.std()`**\n",
        "\n",
        "**Descrição:**\n",
        "\n",
        "Crie um array NumPy com os seguintes valores: `[12, 15, 7, 10, 22, 5, 18, 9, 14, 20]`. Calcule a média, a mediana e o desvio padrão dos elementos do array.\n",
        "\n",
        "**Dicas:**\n",
        "\n",
        "- Utilize `np.mean()`, `np.median()`, e `np.std()` para calcular as estatísticas.\n",
        "- Compare os resultados com os métodos de array, como `array.mean()`.\n",
        "\n",
        "**Exemplo:**\n",
        "\n",
        "```python\n",
        "import numpy as np\n",
        "\n",
        "array = np.array([12, 15, 7, 10, 22, 5, 18, 9, 14, 20])\n",
        "\n",
        "# Seu código aqui\n",
        "```\n",
        "\n",
        "**Solução:**\n",
        "\n",
        "```python\n",
        "import numpy as np\n",
        "\n",
        "array = np.array([12, 15, 7, 10, 22, 5, 18, 9, 14, 20])\n",
        "\n",
        "# Calculando a média\n",
        "media = np.mean(array)\n",
        "print(\"Média:\", media)\n",
        "\n",
        "# Calculando a mediana\n",
        "mediana = np.median(array)\n",
        "print(\"Mediana:\", mediana)\n",
        "\n",
        "# Calculando o desvio padrão\n",
        "desvio_padrao = np.std(array)\n",
        "print(\"Desvio Padrão:\", desvio_padrao)\n",
        "```\n",
        "\n",
        "**Saída Esperada:**\n",
        "\n",
        "```\n",
        "Média: 13.2\n",
        "Mediana: 13.0\n",
        "Desvio Padrão: 5.655533754167997\n",
        "```\n",
        "\n",
        "---\n",
        "\n",
        "## **Exercício 31: Indexação Avançada com Arrays Multidimensionais**\n",
        "\n",
        "**Descrição:**\n",
        "\n",
        "Crie uma matriz 4x4 com valores de 1 a 16. Selecione e exiba os elementos das duas primeiras linhas e das duas últimas colunas.\n",
        "\n",
        "**Dicas:**\n",
        "\n",
        "- Use fatiamento para selecionar linhas e colunas.\n",
        "- Combine fatiamento de linhas e colunas para obter a submatriz desejada.\n",
        "\n",
        "**Exemplo:**\n",
        "\n",
        "```python\n",
        "import numpy as np\n",
        "\n",
        "matriz = np.arange(1, 17).reshape(4, 4)\n",
        "print(\"Matriz 4x4:\\n\", matriz)\n",
        "\n",
        "# Seu código aqui\n",
        "```\n",
        "\n",
        "**Solução:**\n",
        "\n",
        "```python\n",
        "import numpy as np\n",
        "\n",
        "matriz = np.arange(1, 17).reshape(4, 4)\n",
        "print(\"Matriz 4x4:\\n\", matriz)\n",
        "\n",
        "# Selecionando as duas primeiras linhas e as duas últimas colunas\n",
        "submatriz = matriz[:2, 2:]\n",
        "print(\"Submatriz (duas primeiras linhas e duas últimas colunas):\\n\", submatriz)\n",
        "```\n",
        "\n",
        "**Saída Esperada:**\n",
        "\n",
        "```\n",
        "Matriz 4x4:\n",
        " [[ 1  2  3  4]\n",
        " [ 5  6  7  8]\n",
        " [ 9 10 11 12]\n",
        " [13 14 15 16]]\n",
        "Submatriz (duas primeiras linhas e duas últimas colunas):\n",
        " [[3 4]\n",
        " [7 8]]\n",
        "```\n",
        "\n",
        "---\n",
        "\n",
        "## **Exercício 32: Utilizando `np.linspace()` para Criar Arrays com Intervalos Específicos**\n",
        "\n",
        "**Descrição:**\n",
        "\n",
        "Use a função `np.linspace()` para criar um array NumPy com 5 elementos igualmente espaçados entre 0 e 1, inclusive. Em seguida, exiba o array.\n",
        "\n",
        "**Dicas:**\n",
        "\n",
        "- A função `np.linspace(start, stop, num)` cria um array de `num` elementos igualmente espaçados de `start` a `stop`.\n",
        "- O parâmetro `endpoint=True` inclui o valor de `stop` no array por padrão.\n",
        "\n",
        "**Exemplo:**\n",
        "\n",
        "```python\n",
        "import numpy as np\n",
        "\n",
        "# Seu código aqui\n",
        "```\n",
        "\n",
        "**Solução:**\n",
        "\n",
        "```python\n",
        "import numpy as np\n",
        "\n",
        "# Criando o array com 5 elementos de 0 a 1\n",
        "array_linspace = np.linspace(0, 1, 5)\n",
        "print(\"Array criado com np.linspace():\", array_linspace)\n",
        "```\n",
        "\n",
        "**Saída Esperada:**\n",
        "\n",
        "```\n",
        "Array criado com np.linspace(): [0.   0.25 0.5  0.75 1.  ]\n",
        "```\n",
        "\n",
        "---"
      ]
    },
    {
      "cell_type": "markdown",
      "metadata": {
        "id": "kNjovMw3uJ3R"
      },
      "source": [
        "## Exercício 1 - Selecionar os números pares\n",
        "> Dado o 1D array abaixo, selecionar somente os números pares."
      ]
    },
    {
      "cell_type": "code",
      "metadata": {
        "id": "isDzQjwjBX3V"
      },
      "source": [
        "a_conjunto1 = np.array([0, 1, 2, 3, 4, 5, 6, 7, 8, 9])\n",
        "a_conjunto1"
      ],
      "execution_count": null,
      "outputs": []
    },
    {
      "cell_type": "markdown",
      "metadata": {
        "id": "Kq1zt-uO1HXv"
      },
      "source": [
        "### **Minha solução**"
      ]
    },
    {
      "cell_type": "code",
      "metadata": {
        "id": "YFmK_n2M1Ks9"
      },
      "source": [
        "a_conjunto1[a_conjunto1 % 2 == 0]"
      ],
      "execution_count": null,
      "outputs": []
    },
    {
      "cell_type": "markdown",
      "metadata": {
        "id": "sScYG0hp05vb"
      },
      "source": [
        "___\n",
        "## Exercício 33 - Substituir pela mediana\n",
        "> Dado o array 1D abaixo, substituir os números pares pela mediana de a_conjunto1."
      ]
    },
    {
      "cell_type": "code",
      "metadata": {
        "id": "XLZ-DIWU1WFs"
      },
      "source": [
        "a_conjunto1 = np.array([0, 1, 2, 3, 4, 5, 6, 7, 8, 9])\n",
        "a_conjunto1"
      ],
      "execution_count": null,
      "outputs": []
    },
    {
      "cell_type": "markdown",
      "metadata": {
        "id": "9c4QWJno1WVB"
      },
      "source": [
        "### **Minha solução**\n",
        "* Primeiramente, precisamos calcular a mediana.\n",
        "* Depois, substituimos os valores pares de a_conjunto1 pela mediana encontrada anteriormente. Ok?"
      ]
    },
    {
      "cell_type": "code",
      "metadata": {
        "id": "rx7NGAO01Wfb"
      },
      "source": [
        "a_conjunto1[a_conjunto1 % 2 == 0] = np.median(a_conjunto1)\n",
        "a_conjunto1"
      ],
      "execution_count": null,
      "outputs": []
    },
    {
      "cell_type": "markdown",
      "metadata": {
        "id": "2c_AphX82qp8"
      },
      "source": [
        "Verificando..."
      ]
    },
    {
      "cell_type": "code",
      "metadata": {
        "id": "9kVta0Cr13Z9"
      },
      "source": [
        "f'A média de a_conjunto1 é: {np.median(a_conjunto1)}'"
      ],
      "execution_count": null,
      "outputs": []
    },
    {
      "cell_type": "markdown",
      "metadata": {
        "id": "L9O-Hf5x26TY"
      },
      "source": [
        "___\n",
        "## Exercício 34 - Reshape\n",
        "> Dado o array 1D abaixo, reshape para um array 2D com 3 colunas."
      ]
    },
    {
      "cell_type": "code",
      "metadata": {
        "id": "0_laUvtB4Wl-"
      },
      "source": [
        "# Define seed\n",
        "np.random.seed(20111974)\n",
        "a_conjunto1 = np.array(np.random.randint(1, 10, size = 15))\n",
        "a_conjunto1"
      ],
      "execution_count": null,
      "outputs": []
    },
    {
      "cell_type": "markdown",
      "metadata": {
        "id": "dKzEX8TK5b4Z"
      },
      "source": [
        "### **Minha solução**\n",
        "* O array 1D a_conjunto1 acima possui 15 elementos. Como queremos transformá-lo num array 2D com 3 colunas, então cada coluna terá 5 elementos."
      ]
    },
    {
      "cell_type": "code",
      "metadata": {
        "id": "I-j5yVD04249"
      },
      "source": [
        "a_conjunto1.reshape(5, 3)\n",
        "# Poderia ser a_conjunto1.reshape(-1, 3), onde \"-1\" pede para o NumPy calcular o número de linhas."
      ],
      "execution_count": null,
      "outputs": []
    },
    {
      "cell_type": "markdown",
      "metadata": {
        "id": "F1vfS8jE6L0_"
      },
      "source": [
        "___\n",
        "## Exercício 35 - Reshape\n",
        "> Dado o array 1D abaixo, reshape para um array 3D com 2 colunas."
      ]
    },
    {
      "cell_type": "code",
      "metadata": {
        "id": "xcN-bez56L1D"
      },
      "source": [
        "# Define seed\n",
        "np.random.seed(20111974)\n",
        "a_conjunto1 = np.array(np.random.randint(1, 10, size = 16))\n",
        "a_conjunto1"
      ],
      "execution_count": null,
      "outputs": []
    },
    {
      "cell_type": "markdown",
      "metadata": {
        "id": "7iICnOyG6fcj"
      },
      "source": [
        "### **Minha solução**\n",
        "* O array 1D a_conjunto1 acima possui 16 elementos. Queremos transformá-lo num array 3D com 2 colunas."
      ]
    },
    {
      "cell_type": "code",
      "metadata": {
        "id": "vdq5ybuD6fcn"
      },
      "source": [
        "a_conjunto1.reshape(-1, 2) # O valor \"-1\" na posição das linhas pede ao NumPy para calcular o número de linhas automaticamente."
      ],
      "execution_count": null,
      "outputs": []
    },
    {
      "cell_type": "markdown",
      "metadata": {
        "id": "haQfWPcCs_H0"
      },
      "source": [
        "## Exercício 36\n",
        "Para mais exercícios envolvendo arrays, visite a página [Python: Array Exercises, Practice, Solution](https://www.w3resource.com/python-exercises/array/)."
      ]
    },
    {
      "cell_type": "markdown",
      "metadata": {
        "id": "LQQL0JS2tnc0"
      },
      "source": [
        "## Exercício 37\n",
        "Para mais exercícios envolvendo matemática, viste a página [Python Math: - Exercises, Practice, Solution](https://www.w3resource.com/python-exercises/math/index.php)."
      ]
    },
    {
      "cell_type": "markdown",
      "metadata": {
        "id": "qNskKFy9t4D5"
      },
      "source": [
        "## Exercício 38\n",
        "Para mais exercícios envolvendo NumPy em geral, visite a página [NumPy Exercises, Practice, Solution](https://www.w3resource.com/python-exercises/numpy/index.php)."
      ]
    },
    {
      "cell_type": "markdown",
      "metadata": {
        "id": "qqc1AiHXuKZ5"
      },
      "source": [
        "\n"
      ]
    }
  ]
}