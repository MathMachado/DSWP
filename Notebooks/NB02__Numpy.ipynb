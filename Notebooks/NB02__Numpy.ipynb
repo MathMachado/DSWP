{
  "nbformat": 4,
  "nbformat_minor": 0,
  "metadata": {
    "colab": {
      "name": "PythonLab.ipynb",
      "provenance": [],
      "collapsed_sections": [
        "n8BIbzQbNWUo",
        "7eS94uQ4NhVR",
        "SYOgJpGYVLUu",
        "CaHFxk98W5if",
        "ReWUyWiHXCnc",
        "CqszHxaKHr2h",
        "tXgF1Wl9gHKY",
        "Fotx7XUquAo8",
        "36kmLUYDvsUI",
        "SWO2GdNovxAp",
        "vpN54l4vxze5",
        "u4HOf9SNytSq",
        "6BQ9oZiD9hg5",
        "tz5-QdrX9vct",
        "p1muBgMX8NK4",
        "FxTC2-U88ajk",
        "z8EYn0pP25Rh"
      ],
      "toc_visible": true,
      "include_colab_link": true
    },
    "kernelspec": {
      "name": "python3",
      "display_name": "Python 3"
    },
    "accelerator": "GPU"
  },
  "cells": [
    {
      "cell_type": "markdown",
      "metadata": {
        "id": "view-in-github",
        "colab_type": "text"
      },
      "source": [
        "<a href=\"https://colab.research.google.com/github/MathMachado/DSWP/blob/master/Notebooks/NB02__Numpy.ipynb\" target=\"_parent\"><img src=\"https://colab.research.google.com/assets/colab-badge.svg\" alt=\"Open In Colab\"/></a>"
      ]
    },
    {
      "cell_type": "markdown",
      "metadata": {
        "id": "cO5t3xCO8kyK",
        "colab_type": "text"
      },
      "source": [
        "# Notas & observações\n",
        "* Foco do numPy para Data Analysis. Portanto, utilizar o livro \"Mastering Pandas\", capítulo que fala de numPy e pegar o conteúdo que importa para Data Analysis.\n",
        "* Usar os livros (estão no meu Dropbox): Python Data Analysis & Python Data Analysis Cookbook para conteúdos de Pandas.\n",
        "* Qual a interpretação para os v_Autovalores e autovetores?\n",
        "* Explorar: https://www.w3resource.com/python-exercises/numpy/index-array.php - Lá há exercícios de estatísti\n",
        "\n",
        "* Explorar em busca de exercícios de estatística: https://github.com/rougier/numpy-100/blob/master/100_Numpy_exercises.ipynb\n",
        "\n",
        "* Ler: https://medium.com/intellipaat/python-numpy-tutorial-b0118b79cf3c"
      ]
    },
    {
      "cell_type": "markdown",
      "metadata": {
        "id": "b8EZupp68vW8",
        "colab_type": "text"
      },
      "source": [
        "___\n",
        "# **Agenda**:\n",
        "> Nesta capítulo, vamos falar sobre:\n",
        "\n",
        "* NumPy\n",
        "* Criar arrays\n",
        "* Criar ndarrays - Arrays Multidimensionais\n",
        "* Selecionar itens\n",
        "* Aplicar funções como max(), min() e etc\n",
        "* Calcular Estatísticas Descritivas: média e variância\n",
        "* Reshaping\n",
        "* Tansposta de um ndarray\n",
        "* Autovalores e Autovetores\n",
        "* Wrap Up\n",
        "* Exercícios"
      ]
    },
    {
      "cell_type": "markdown",
      "metadata": {
        "id": "z2IFUG4GSB0Z",
        "colab_type": "text"
      },
      "source": [
        "___\n",
        "# **NumPy**\n",
        "* O NumPy é um pacote para computação científica e álgebra linear para Python."
      ]
    },
    {
      "cell_type": "markdown",
      "metadata": {
        "id": "jYLeDVH-SNCg",
        "colab_type": "text"
      },
      "source": [
        "![Numpy](https://github.com/MathMachado/Python_RFB/blob/master/Material/numpy_basics-1.png?raw=true)"
      ]
    },
    {
      "cell_type": "markdown",
      "metadata": {
        "id": "o00pYRIkXiAU",
        "colab_type": "text"
      },
      "source": [
        "## Import Statement - Primeiros exemplos\n",
        "> Como exemplo, considere gerar uma amostra aleatória de tamanho 10 da Distribuiçao Normal(0, 1):"
      ]
    },
    {
      "cell_type": "markdown",
      "metadata": {
        "id": "l_XuvcUDWNDk",
        "colab_type": "text"
      },
      "source": [
        "## Importar a library NumPy"
      ]
    },
    {
      "cell_type": "markdown",
      "metadata": {
        "id": "am_ZTIGaapCo",
        "colab_type": "text"
      },
      "source": [
        "### **Opção 1**: Importar a biblioteca NumPy COM alias"
      ]
    },
    {
      "cell_type": "code",
      "metadata": {
        "id": "b4irLw6BWVVZ",
        "colab_type": "code",
        "colab": {}
      },
      "source": [
        "import numpy as np"
      ],
      "execution_count": 0,
      "outputs": []
    },
    {
      "cell_type": "code",
      "metadata": {
        "id": "JK54ga7dXnJu",
        "colab_type": "code",
        "outputId": "23ffdd27-a5b3-4e02-b54c-5793fc4a21da",
        "colab": {
          "base_uri": "https://localhost:8080/",
          "height": 235
        }
      },
      "source": [
        "# Set up o número de casas decimais para o NumPy:\n",
        "np.set_printoptions(precision= 2, suppress= True)\n",
        "\n",
        "'''\n",
        "Define seed por questões de reproducibilidade, ou seja, \n",
        "garante que todos vamos gerar os mesmos números aleatórios\n",
        "'''\n",
        "np.random.seed(seed= 20111974)\n",
        "\n",
        "# Gera 10 números aleatórios a partir da Distribuição Normal(mu, sigma)\n",
        "mu= 0\n",
        "sigma= 1\n",
        "v_Array= np.random.normal(mu, sigma, size= 10) # Array 1D de size= 10\n",
        "v_Array"
      ],
      "execution_count": 0,
      "outputs": [
        {
          "output_type": "error",
          "ename": "NameError",
          "evalue": "ignored",
          "traceback": [
            "\u001b[0;31m---------------------------------------------------------------------------\u001b[0m",
            "\u001b[0;31mNameError\u001b[0m                                 Traceback (most recent call last)",
            "\u001b[0;32m<ipython-input-3-c568566193b8>\u001b[0m in \u001b[0;36m<module>\u001b[0;34m()\u001b[0m\n\u001b[0;32m----> 1\u001b[0;31m \u001b[0mnp\u001b[0m\u001b[0;34m.\u001b[0m\u001b[0mset_printoptions\u001b[0m\u001b[0;34m(\u001b[0m\u001b[0mprecision\u001b[0m\u001b[0;34m=\u001b[0m \u001b[0;36m2\u001b[0m\u001b[0;34m,\u001b[0m \u001b[0msuppress\u001b[0m\u001b[0;34m=\u001b[0m \u001b[0;32mTrue\u001b[0m\u001b[0;34m)\u001b[0m\u001b[0;34m\u001b[0m\u001b[0;34m\u001b[0m\u001b[0m\n\u001b[0m\u001b[1;32m      2\u001b[0m \u001b[0;34m\u001b[0m\u001b[0m\n\u001b[1;32m      3\u001b[0m '''\n\u001b[1;32m      4\u001b[0m \u001b[0mDefine\u001b[0m \u001b[0mseed\u001b[0m \u001b[0mpor\u001b[0m \u001b[0mquestões\u001b[0m \u001b[0mde\u001b[0m \u001b[0mreproducibilidade\u001b[0m\u001b[0;34m,\u001b[0m \u001b[0mou\u001b[0m \u001b[0mseja\u001b[0m\u001b[0;34m,\u001b[0m\u001b[0;34m\u001b[0m\u001b[0;34m\u001b[0m\u001b[0m\n\u001b[1;32m      5\u001b[0m \u001b[0mgarante\u001b[0m \u001b[0mque\u001b[0m \u001b[0mtodos\u001b[0m \u001b[0mvamos\u001b[0m \u001b[0mgerar\u001b[0m \u001b[0mos\u001b[0m \u001b[0mmesmos\u001b[0m \u001b[0mnúmeros\u001b[0m \u001b[0maleatórios\u001b[0m\u001b[0;34m\u001b[0m\u001b[0;34m\u001b[0m\u001b[0m\n",
            "\u001b[0;31mNameError\u001b[0m: name 'np' is not defined"
          ]
        }
      ]
    },
    {
      "cell_type": "markdown",
      "metadata": {
        "id": "3-0934isZUm6",
        "colab_type": "text"
      },
      "source": [
        "**Observação**: Altere o valor de [precision] para 4, 2 e 0 e observe o que acontece."
      ]
    },
    {
      "cell_type": "markdown",
      "metadata": {
        "id": "9ob_8S_bYYa2",
        "colab_type": "text"
      },
      "source": [
        "### **Opção 2**: Importar a biblioteca NumPy SEM alias"
      ]
    },
    {
      "cell_type": "code",
      "metadata": {
        "id": "NcGd1ho_XDXU",
        "colab_type": "code",
        "colab": {}
      },
      "source": [
        "import numpy"
      ],
      "execution_count": 0,
      "outputs": []
    },
    {
      "cell_type": "code",
      "metadata": {
        "id": "zFYH6J5-Ydjl",
        "colab_type": "code",
        "outputId": "cf341283-0343-41b2-b2b2-a33aa80fcc17",
        "colab": {
          "base_uri": "https://localhost:8080/",
          "height": 52
        }
      },
      "source": [
        "# Set up o número de casas decimais para o NumPy:\n",
        "numpy.set_printoptions(precision= 2, suppress=True)\n",
        "\n",
        "'''\n",
        "Define seed por questões de reproducibilidade, ou seja, \n",
        "garante que todos vamos gerar os mesmos números aleatórios\n",
        "'''\n",
        "numpy.random.seed(seed= 20111974)\n",
        "\n",
        "# Gera 10 números aleatórios a partir da Distribuição Normal(mu, sigma)\n",
        "mu= 0\n",
        "sigma= 1\n",
        "numpy.random.normal(size= 10)"
      ],
      "execution_count": 0,
      "outputs": [
        {
          "output_type": "execute_result",
          "data": {
            "text/plain": [
              "array([ 2.51,  1.11,  2.06,  0.56,  0.3 ,  1.05, -0.13,  1.06,  1.14,\n",
              "        1.38])"
            ]
          },
          "metadata": {
            "tags": []
          },
          "execution_count": 5
        }
      ]
    },
    {
      "cell_type": "markdown",
      "metadata": {
        "id": "AwWSzYrZWfvA",
        "colab_type": "text"
      },
      "source": [
        "### **Opção 3**: Importar funções específicas da biblioteca NumPy"
      ]
    },
    {
      "cell_type": "code",
      "metadata": {
        "id": "bfYJzcqRa5eu",
        "colab_type": "code",
        "colab": {}
      },
      "source": [
        "from numpy import set_printoptions\n",
        "from numpy.random import seed, normal"
      ],
      "execution_count": 0,
      "outputs": []
    },
    {
      "cell_type": "code",
      "metadata": {
        "id": "Xj6fbpvubH_p",
        "colab_type": "code",
        "outputId": "12cfe533-72da-4ed0-a6e2-ed923ab62cc5",
        "colab": {
          "base_uri": "https://localhost:8080/",
          "height": 52
        }
      },
      "source": [
        "# Set up o número de casas decimais para o NumPy:\n",
        "set_printoptions(precision= 2, suppress=True)\n",
        "\n",
        "'''\n",
        "Define seed por questões de reproducibilidade, ou seja, \n",
        "garante que todos vamos gerar os mesmos números aleatórios\n",
        "'''\n",
        "seed(seed= 20111974)\n",
        "\n",
        "# Gera 10 números aleatórios a partir da Distribuição Normal(mu, sigma)\n",
        "mu= 0\n",
        "sigma= 1\n",
        "normal(size= 10)"
      ],
      "execution_count": 0,
      "outputs": [
        {
          "output_type": "execute_result",
          "data": {
            "text/plain": [
              "array([ 2.51,  1.11,  2.06,  0.56,  0.3 ,  1.05, -0.13,  1.06,  1.14,\n",
              "        1.38])"
            ]
          },
          "metadata": {
            "tags": []
          },
          "execution_count": 243
        }
      ]
    },
    {
      "cell_type": "markdown",
      "metadata": {
        "id": "XvpUfcIkbdN6",
        "colab_type": "text"
      },
      "source": [
        "### Comentários sobre o import\n",
        "> Eu, particularmente, prefiro as opções 1 ou 2 e é a que uso nesse treinamento."
      ]
    },
    {
      "cell_type": "markdown",
      "metadata": {
        "id": "00RerJPChnuP",
        "colab_type": "text"
      },
      "source": [
        "___\n",
        "# **Estatísticas Descriticas com NumPy**"
      ]
    },
    {
      "cell_type": "markdown",
      "metadata": {
        "id": "Qa6ro1VJlShd",
        "colab_type": "text"
      },
      "source": [
        "## Exemplo 1\n",
        "> Vamos voltar ao mesmo exemplo anterior, mas desta vez, usando a opção 1 (com alias):\n",
        "\n",
        "* Gerar uma amostra aleatória de tamanho 10 da Distribuiçao Normal(0, 1)."
      ]
    },
    {
      "cell_type": "code",
      "metadata": {
        "id": "31dSBU8khvFk",
        "colab_type": "code",
        "outputId": "e0a4ec40-87cb-45b2-c090-36e2ef715a37",
        "colab": {
          "base_uri": "https://localhost:8080/",
          "height": 52
        }
      },
      "source": [
        "# Set up o número de casas decimais para o NumPy:\n",
        "np.set_printoptions(precision= 2, suppress=True)\n",
        "\n",
        "# Define seed\n",
        "np.random.seed(seed= 20111974)\n",
        "\n",
        "# Gera 10 números aleatórios a partir da Distribuição Normal(mu, sigma)\n",
        "mu= 0\n",
        "sigma= 1\n",
        "v_Array= np.random.normal(mu, sigma, size= 10) # Array 1D de size= 10\n",
        "v_Array"
      ],
      "execution_count": 0,
      "outputs": [
        {
          "output_type": "execute_result",
          "data": {
            "text/plain": [
              "array([ 2.51,  1.11,  2.06,  0.56,  0.3 ,  1.05, -0.13,  1.06,  1.14,\n",
              "        1.38])"
            ]
          },
          "metadata": {
            "tags": []
          },
          "execution_count": 244
        }
      ]
    },
    {
      "cell_type": "markdown",
      "metadata": {
        "id": "wa2t0P3nevTh",
        "colab_type": "text"
      },
      "source": [
        "Conferindo a média e desvio-padrão do array gerado:"
      ]
    },
    {
      "cell_type": "code",
      "metadata": {
        "id": "drUyk3f5ekDq",
        "colab_type": "code",
        "outputId": "885c18a9-0237-4970-8f3b-a5f806d83cac",
        "colab": {
          "base_uri": "https://localhost:8080/",
          "height": 35
        }
      },
      "source": [
        "f'Distribuição N({np.mean(v_Array)}, {np.std(v_Array)})'"
      ],
      "execution_count": 0,
      "outputs": [
        {
          "output_type": "execute_result",
          "data": {
            "text/plain": [
              "'Distribuição N(0.3627922019756259, 0.9199426427990713)'"
            ]
          },
          "metadata": {
            "tags": []
          },
          "execution_count": 13
        }
      ]
    },
    {
      "cell_type": "markdown",
      "metadata": {
        "id": "XSp7Hd-Gib67",
        "colab_type": "text"
      },
      "source": [
        "Estávamos à espera de mu= 0 e std= 1. Certo?\n",
        "\n",
        "Porque isso não aconteceu?"
      ]
    },
    {
      "cell_type": "markdown",
      "metadata": {
        "id": "HP_8VSgygXOF",
        "colab_type": "text"
      },
      "source": [
        "## **Laboratório 1**\n",
        "> Altere os valores de [size] para 100, 1.000, 10.000, 100.000 e 1.000.000 e relate o que acontece com a média e desvio padrão."
      ]
    },
    {
      "cell_type": "markdown",
      "metadata": {
        "id": "4TbmVbdcg6iU",
        "colab_type": "text"
      },
      "source": [
        "## **Minha solução**"
      ]
    },
    {
      "cell_type": "code",
      "metadata": {
        "id": "-qdiqBVHg-gd",
        "colab_type": "code",
        "outputId": "a2afcffc-1d90-4bd7-84f8-9d7d6db8f113",
        "colab": {
          "base_uri": "https://localhost:8080/",
          "height": 139
        }
      },
      "source": [
        "# Define a média e o desvio-padrão\n",
        "mu= 0\n",
        "sigma= 1\n",
        "\n",
        "# Define seed\n",
        "np.random.seed(seed= 20111974)\n",
        "\n",
        "for i_Size in [10, 100, 1000, 10000, 100000, 1000000, 10000000]:\n",
        "    v_Array= np.random.normal(mu, sigma, size= i_Size)\n",
        "    print(f'Size: {i_Size}--> Distribuição: N({np.mean(v_Array)}, {np.std(v_Array)})')"
      ],
      "execution_count": 0,
      "outputs": [
        {
          "output_type": "stream",
          "text": [
            "Size: 10--> nDistribuição: N(1.1043374540652753, 0.735246705657231)\n",
            "Size: 100--> nDistribuição: N(-0.14020525697186714, 0.9254100654233511)\n",
            "Size: 1000--> nDistribuição: N(0.021644923462910873, 1.0054417533501039)\n",
            "Size: 10000--> nDistribuição: N(0.015499353804764507, 0.9970905566844254)\n",
            "Size: 100000--> nDistribuição: N(0.002039323041103302, 0.9960906293570095)\n",
            "Size: 1000000--> nDistribuição: N(-1.1062145143945444e-06, 0.999473966169304)\n",
            "Size: 10000000--> nDistribuição: N(0.0002892972723094128, 1.0001202837422036)\n"
          ],
          "name": "stdout"
        }
      ]
    },
    {
      "cell_type": "markdown",
      "metadata": {
        "id": "bp-YuviQwWqE",
        "colab_type": "text"
      },
      "source": [
        "Com relação à Distribuição Normal($\\mu, \\sigma$), temos que:\n",
        "\n",
        "![NormalDistribution](https://github.com/MathMachado/Python4DS/blob/DS_Python/Material/NormalDistribution.PNG?raw=true)\n",
        "\n",
        "Fonte: [Normal Distribution](https://towardsdatascience.com/understanding-the-68-95-99-7-rule-for-a-normal-distribution-b7b7cbf760c2)"
      ]
    },
    {
      "cell_type": "markdown",
      "metadata": {
        "id": "KwHBY3Enk04N",
        "colab_type": "text"
      },
      "source": [
        "## Lei Forte dos Grandes Números - LFGN\n",
        "> Por favor, leia o que diz a [Law of large numbers](https://en.wikipedia.org/wiki/Law_of_large_numbers).\n",
        "\n",
        "* O que você aprendeu com isso?"
      ]
    },
    {
      "cell_type": "markdown",
      "metadata": {
        "id": "BhwmSkAjlszT",
        "colab_type": "text"
      },
      "source": [
        "## Exemplo 2\n",
        "> Vamos nos aprofundar um pouco mais no que diz a LFGN. Para isso, vamos simular o lançamento de dados. Como sabemos, os dados possuem 6 lados numerados de 1 a 6, com igual probabilidade. Certo?\n",
        "\n",
        "A LFGN nos diz que à medida que N (o tamanho da amostra ou número de dados) cresce, então a média dos dados converge para o valor esperado. Isso quer dizer que:\n",
        "\n",
        "$$\\frac{1+2+3+4+5+6}{6}= \\frac{21}{6}= 3,5$$\n",
        "\n",
        "Ou seja, à medida que N cresce, espera-se que a média dos dados se aproxime de 3,5. Ok?\n",
        "\n",
        "Vamos ver se isso é verdade..."
      ]
    },
    {
      "cell_type": "markdown",
      "metadata": {
        "id": "-QcJXf6roj0D",
        "colab_type": "text"
      },
      "source": [
        "Primeiramente, vamos demonstrar o uso da função np.random.randint, a seguir:"
      ]
    },
    {
      "cell_type": "code",
      "metadata": {
        "id": "CRP22OhpoMxm",
        "colab_type": "code",
        "colab": {}
      },
      "source": [
        "# Define seed\n",
        "np.random.seed(seed= 20111974)"
      ],
      "execution_count": 0,
      "outputs": []
    },
    {
      "cell_type": "markdown",
      "metadata": {
        "id": "A2u0RzLOrRE2",
        "colab_type": "text"
      },
      "source": [
        "O que significa ou qual é a interpretação do resultado abaixo?"
      ]
    },
    {
      "cell_type": "code",
      "metadata": {
        "id": "B3-X_VBerUfa",
        "colab_type": "code",
        "outputId": "408abe58-b58b-4241-b8b3-c2fb981d45d1",
        "colab": {
          "base_uri": "https://localhost:8080/",
          "height": 104
        }
      },
      "source": [
        "# Simular 100 lançamentos de um dado:\n",
        "v_Dados= np.random.randint(1, 7, size= 100)\n",
        "v_Dados"
      ],
      "execution_count": 0,
      "outputs": [
        {
          "output_type": "execute_result",
          "data": {
            "text/plain": [
              "array([6, 5, 6, 3, 3, 1, 6, 6, 3, 2, 2, 5, 4, 6, 5, 2, 2, 4, 4, 1, 3, 1,\n",
              "       4, 5, 6, 6, 5, 5, 2, 5, 3, 4, 6, 2, 3, 4, 1, 4, 2, 6, 3, 2, 6, 6,\n",
              "       5, 4, 4, 4, 4, 1, 1, 5, 3, 5, 6, 3, 1, 2, 4, 1, 5, 3, 2, 3, 5, 2,\n",
              "       4, 6, 4, 1, 6, 2, 2, 2, 6, 1, 5, 3, 5, 6, 3, 6, 1, 5, 4, 1, 6, 6,\n",
              "       2, 1, 6, 4, 2, 3, 2, 5, 2, 4, 5, 6])"
            ]
          },
          "metadata": {
            "tags": []
          },
          "execution_count": 16
        }
      ]
    },
    {
      "cell_type": "code",
      "metadata": {
        "id": "m8Of2MMIrbF3",
        "colab_type": "code",
        "outputId": "374e2206-457b-42ec-ddb1-a9326c6f7ac6",
        "colab": {
          "base_uri": "https://localhost:8080/",
          "height": 139
        }
      },
      "source": [
        "import pandas as pd\n",
        "pd.value_counts(v_Dados)"
      ],
      "execution_count": 0,
      "outputs": [
        {
          "output_type": "execute_result",
          "data": {
            "text/plain": [
              "6    21\n",
              "2    18\n",
              "5    17\n",
              "4    17\n",
              "3    14\n",
              "1    13\n",
              "dtype: int64"
            ]
          },
          "metadata": {
            "tags": []
          },
          "execution_count": 17
        }
      ]
    },
    {
      "cell_type": "markdown",
      "metadata": {
        "id": "54VwED8Br8rx",
        "colab_type": "text"
      },
      "source": [
        "**Interpretação**: Isso quer dizer que fizemos a simulação de lançamento de um dado 100 vezes. Acima, a frequência com que cada lado do dado aparece.\n",
        "\n",
        "Eu estava à espera de frequência igual para cada um dos lados, isto é, por volta dos 16 ou 17. Ou seja:\n",
        "\n",
        "$$\\frac{100}{6}= 16,66$$\n",
        "\n",
        "Mas ok, vamos continuar com nosso experimento..."
      ]
    },
    {
      "cell_type": "code",
      "metadata": {
        "id": "HT_Dak-umC6I",
        "colab_type": "code",
        "outputId": "c8e5950f-0170-4303-a6be-fdcdab4d8779",
        "colab": {
          "base_uri": "https://localhost:8080/",
          "height": 173
        }
      },
      "source": [
        "# Definir a semente\n",
        "for i_Size in [10, 30, 50, 75, 100, 1000, 10000, 100000, 1000000]:\n",
        "    np.random.seed(20111974) # Porque a seed tem que ser definido dentro do loop?\n",
        "    v_Dados= np.random.randint(1, 7, size= i_Size)\n",
        "    print(f'Size= {i_Size} --> Média: {np.mean(v_Dados)}')"
      ],
      "execution_count": 0,
      "outputs": [
        {
          "output_type": "stream",
          "text": [
            "Size= 10 --> Média: 2.6\n",
            "Size= 30 --> Média: 3.2\n",
            "Size= 50 --> Média: 3.24\n",
            "Size= 75 --> Média: 3.44\n",
            "Size= 100 --> Média: 3.51\n",
            "Size= 1000 --> Média: 3.466\n",
            "Size= 10000 --> Média: 3.5164\n",
            "Size= 100000 --> Média: 3.50967\n",
            "Size= 1000000 --> Média: 3.502262\n"
          ],
          "name": "stdout"
        }
      ]
    },
    {
      "cell_type": "markdown",
      "metadata": {
        "id": "edWNNOnXtbtd",
        "colab_type": "text"
      },
      "source": [
        "E agora, como você interpreta esses resultados?"
      ]
    },
    {
      "cell_type": "markdown",
      "metadata": {
        "id": "eL6gXThkYcSf",
        "colab_type": "text"
      },
      "source": [
        "## Calculando percentis\n",
        "> Considere o array de retornos (simulados) a seguir:"
      ]
    },
    {
      "cell_type": "code",
      "metadata": {
        "id": "DjPKKq01YjF9",
        "colab_type": "code",
        "outputId": "f3d59185-8ed8-45ef-9bb3-85b6395c2eb8",
        "colab": {
          "base_uri": "https://localhost:8080/",
          "height": 35
        }
      },
      "source": [
        "np.random.seed(20111974)\n",
        "\n",
        "# Simulando Retornos de ativos financeiros com a distribuição Normal(0,1):\n",
        "v_Retornos= np.random.normal(0, 1, 100)\n",
        "print(f'Média: {np.mean(v_Retornos)}')"
      ],
      "execution_count": 0,
      "outputs": [
        {
          "output_type": "stream",
          "text": [
            "Média: -0.016996335492713833\n"
          ],
          "name": "stdout"
        }
      ]
    },
    {
      "cell_type": "code",
      "metadata": {
        "id": "ajjlfqgssLVO",
        "colab_type": "code",
        "outputId": "ada62505-6c8f-48c8-c01e-a30ab5a9a061",
        "colab": {
          "base_uri": "https://localhost:8080/",
          "height": 1000
        }
      },
      "source": [
        "v_Retornos"
      ],
      "execution_count": 0,
      "outputs": [
        {
          "output_type": "execute_result",
          "data": {
            "text/plain": [
              "array([ 2.51,  1.11,  2.06,  0.56,  0.3 ,  1.05, -0.13,  1.06,  1.14,\n",
              "        1.38, -2.06,  0.67,  0.73, -0.34,  0.44,  0.59, -1.29,  1.18,\n",
              "       -0.99, -1.79, -1.09, -0.91, -1.02, -1.36, -0.29,  0.06, -1.14,\n",
              "       -0.51, -0.84, -1.41, -0.22, -1.17, -0.61, -0.62,  1.08,  0.5 ,\n",
              "        0.03,  1.83,  0.35, -1.15, -0.6 , -0.43,  0.11, -0.75,  0.72,\n",
              "       -0.51,  0.48, -0.38, -1.37,  1.54, -0.27,  0.68, -1.8 ,  1.17,\n",
              "       -0.38,  0.19,  1.54, -0.12, -0.98, -1.23,  1.05,  1.91,  0.8 ,\n",
              "        0.36,  1.03, -0.37,  0.33,  0.7 , -0.98, -1.21,  0.74,  0.18,\n",
              "        0.1 , -0.78, -0.04,  1.67, -1.07, -0.55, -1.83,  0.12,  1.39,\n",
              "       -0.29,  0.32, -0.7 , -0.44, -2.03, -0.14,  1.66, -0.58, -0.79,\n",
              "       -0.81,  0.06,  0.87, -0.35,  1.37,  0.88, -1.48, -0.41, -0.19,\n",
              "        0.47, -0.2 , -1.27,  0.16, -1.12,  0.15,  0.36,  0.53,  0.19,\n",
              "       -0.61,  0.53, -0.5 , -0.15, -0.81,  0.87,  1.13,  0.88, -0.91,\n",
              "        1.37,  0.13, -0.52,  0.24,  1.39, -0.03, -0.77,  1.51, -1.04,\n",
              "        0.49,  0.32, -1.02, -1.25,  1.29,  0.28, -1.54, -0.73,  0.82,\n",
              "        0.5 , -1.08, -0.22,  0.67,  0.09, -1.26, -1.13, -0.44, -0.01,\n",
              "        0.75, -0.15, -0.9 ,  2.13,  0.19, -0.7 , -0.36,  1.54,  1.31,\n",
              "       -0.28,  0.81, -0.34, -0.22,  0.31, -0.89, -0.65,  1.04, -0.74,\n",
              "       -0.09,  0.81, -0.75, -1.39, -1.11,  0.21, -0.45,  0.46, -1.8 ,\n",
              "        1.96, -1.18,  1.57, -0.21,  0.62,  0.64, -1.28, -0.35,  0.41,\n",
              "       -0.59, -0.09, -0.4 ,  1.51, -0.86, -2.83, -1.17,  0.58, -0.12,\n",
              "        2.88,  0.55, -1.13,  0.46, -1.24, -1.55, -0.83, -0.38, -1.84,\n",
              "        0.34, -0.53,  1.93,  0.47, -0.24, -0.21,  0.25, -0.83, -1.25,\n",
              "       -0.74,  1.21,  2.04,  0.22, -0.69,  0.3 ,  0.37, -0.53,  0.4 ,\n",
              "       -0.45, -0.71, -0.34,  0.24,  0.69, -0.02,  0.79,  1.95,  1.19,\n",
              "       -1.4 , -0.27,  0.  ,  0.46, -1.47,  1.27, -0.32,  0.99,  0.59,\n",
              "        1.02, -0.15,  1.  ,  1.46, -0.04, -1.18, -1.15, -0.48,  0.9 ,\n",
              "       -0.28,  0.63, -1.4 ,  0.81, -0.54,  0.19,  1.06,  1.1 ,  1.82,\n",
              "        0.69, -1.03, -0.19,  0.43, -0.52,  1.19, -1.38, -0.71,  0.86,\n",
              "       -0.46,  0.78, -0.99,  0.46,  0.07, -1.23,  1.12,  0.08, -0.87,\n",
              "       -0.28,  0.87,  0.43,  0.63,  1.39, -0.21,  0.42,  0.64,  0.18,\n",
              "        2.07, -1.73,  2.74, -0.12, -0.35,  0.72,  0.56, -0.26, -1.28,\n",
              "       -0.34, -0.19, -1.59,  0.42, -2.35,  1.21, -1.46, -1.97, -0.44,\n",
              "        0.49,  1.08,  1.28, -0.75,  1.12,  2.06, -0.37,  0.33, -0.03,\n",
              "       -0.27, -0.1 , -1.25, -0.16,  1.9 , -0.48, -0.77,  0.18,  0.38,\n",
              "        0.31, -0.5 ,  0.75, -1.44, -0.49, -0.29, -0.08, -0.59,  0.88,\n",
              "        0.61, -2.4 , -0.51, -0.38,  0.65,  0.26,  0.36, -1.55, -2.42,\n",
              "       -0.16, -1.47, -1.09,  0.58,  1.58,  0.98,  0.92, -0.75, -0.35,\n",
              "        0.25, -1.63,  0.08, -0.96, -0.19,  0.82,  0.43,  0.34,  0.82,\n",
              "       -0.11,  0.65,  0.77,  0.07,  1.43,  0.64, -0.73,  1.1 , -0.33,\n",
              "       -0.66, -3.23,  1.59, -0.36, -2.32,  0.96,  1.58, -0.69,  0.93,\n",
              "        0.25,  1.51,  0.34, -0.16, -0.3 , -0.65, -2.7 ,  0.93, -0.32,\n",
              "       -0.2 ,  0.75, -0.98, -1.19,  1.57, -0.77,  1.88,  0.84,  1.69,\n",
              "       -1.53, -0.86,  1.21,  0.13, -1.09,  1.37, -0.92, -1.94,  0.  ,\n",
              "       -0.22, -1.05, -1.32,  0.27,  0.16,  1.45,  1.43, -1.59,  0.51,\n",
              "        1.58,  1.38,  1.49,  1.37,  2.08,  1.54,  0.67,  0.13, -2.37,\n",
              "       -1.06, -0.26, -0.29, -0.28,  0.67, -0.19, -0.51,  1.1 ,  0.96,\n",
              "        1.24, -0.27, -0.39, -0.69,  0.34, -0.  , -0.84,  1.14, -0.27,\n",
              "        1.04,  0.44, -0.46,  0.13, -0.23,  0.26, -0.35,  0.81,  2.12,\n",
              "       -2.12,  0.42, -1.26, -0.81, -0.38, -1.85, -0.83, -0.12, -1.1 ,\n",
              "       -0.03,  1.88,  1.06,  2.29,  1.7 ,  0.44,  0.81,  0.68, -0.29,\n",
              "        0.24,  0.11,  0.58, -0.75, -1.02,  0.78,  1.36, -0.2 ,  0.58,\n",
              "       -0.11, -1.89, -0.79,  1.84,  0.86, -1.45,  0.92, -1.3 ,  2.2 ,\n",
              "        0.3 , -0.29,  1.53,  0.98, -0.75,  0.22, -0.77, -2.11,  1.21,\n",
              "        0.42, -1.32, -0.2 , -1.17, -0.02,  0.36,  0.55, -0.29,  0.76,\n",
              "       -1.35, -1.08, -0.06, -0.58, -0.38,  0.35, -0.81, -0.89, -0.52,\n",
              "        1.27,  0.89, -0.74, -1.04, -1.04,  0.63, -3.19,  1.21, -0.61,\n",
              "        0.02, -1.48,  1.63, -0.9 , -1.3 , -0.39,  0.63, -1.21,  1.35,\n",
              "       -1.38,  0.16, -1.58, -1.72,  1.11, -0.81, -0.59, -1.54,  0.17,\n",
              "       -0.86,  0.71,  1.53, -0.47, -1.98,  0.65, -1.74, -0.09,  0.95,\n",
              "       -1.26, -0.65,  1.83,  0.29,  0.79, -2.35, -0.07,  1.81, -1.32,\n",
              "        0.31,  0.41,  0.8 , -0.6 , -0.71,  2.17, -0.29, -0.86, -0.72,\n",
              "        1.26,  0.21,  0.25,  0.03, -1.47, -0.32, -1.24,  0.29,  0.87,\n",
              "       -2.19, -1.27, -0.1 , -0.04,  0.16, -1.19, -0.12,  0.12, -0.14,\n",
              "        0.77, -1.32,  0.85, -1.13, -1.09, -0.05,  0.11,  0.5 ,  0.14,\n",
              "        0.66, -0.6 ,  1.06,  0.6 ,  0.44, -2.33,  0.81, -2.41, -0.79,\n",
              "        0.18,  0.48,  1.3 ,  1.87,  1.  ,  0.  , -1.44, -0.48,  2.14,\n",
              "        0.84,  0.8 ,  1.89, -0.14,  0.97,  0.51,  0.85, -0.39, -1.  ,\n",
              "       -0.2 ,  3.15,  1.33,  0.5 ,  0.77, -1.16,  0.59,  1.26, -0.74,\n",
              "       -1.07, -1.41,  0.74,  0.26, -0.99,  0.16,  0.92, -0.27,  0.75,\n",
              "       -0.03,  0.55,  0.56, -0.61,  0.99,  0.23, -0.68,  1.58,  0.17,\n",
              "        0.72, -1.5 , -0.18, -0.72,  1.05, -0.24,  1.73,  0.56,  2.17,\n",
              "       -0.77, -0.08,  0.11,  1.11, -0.65, -0.21, -1.71,  0.69, -1.21,\n",
              "        0.25,  0.23, -1.09, -1.34,  0.16, -0.37, -0.84,  0.08, -1.04,\n",
              "        1.28, -0.84, -0.31,  1.34, -0.44, -1.69,  0.75,  1.04, -1.02,\n",
              "        0.99,  0.44, -1.7 , -0.15, -1.08,  1.33, -0.38, -0.33,  0.65,\n",
              "       -1.22,  0.17, -1.35,  0.29, -1.42,  0.12, -0.69,  1.84,  1.36,\n",
              "        0.26,  0.41,  1.28, -1.56,  1.37,  0.54, -0.89, -1.25,  0.04,\n",
              "        0.96,  2.42,  0.13,  0.44,  0.83, -0.24,  1.74, -0.73, -1.38,\n",
              "        1.28,  1.55, -1.68,  0.9 ,  0.55, -1.07, -0.57,  0.29, -1.62,\n",
              "        0.83,  0.13, -0.43, -0.16,  0.94, -0.07, -0.13,  0.67, -0.25,\n",
              "        0.78, -1.6 , -1.66,  1.23, -1.71,  0.67, -2.16,  0.09, -0.05,\n",
              "       -0.04, -0.49,  1.48,  0.65,  0.17,  1.17, -0.46,  1.3 ,  0.86,\n",
              "        0.27,  1.26,  1.13,  0.66,  1.35, -1.63, -0.47,  0.41,  0.15,\n",
              "        1.61, -1.09,  0.16, -0.48, -0.07, -0.  ,  0.15, -0.69,  1.1 ,\n",
              "       -0.98,  0.02, -1.16, -0.25,  1.86,  1.08, -0.3 ,  0.13,  0.57,\n",
              "       -0.88, -0.94, -0.91, -0.22, -0.04, -0.66,  0.02, -0.74,  0.61,\n",
              "        0.15,  0.53,  0.93, -0.33,  1.01, -1.12, -0.4 ,  2.13,  0.82,\n",
              "       -1.12,  0.85, -1.25, -0.31,  0.29, -0.42,  0.04,  1.79, -1.2 ,\n",
              "        3.44,  0.01,  0.68, -1.92, -1.85,  0.24,  0.26, -1.84, -1.35,\n",
              "        0.29,  0.81,  0.89, -0.18,  0.3 ,  0.78,  0.6 ,  0.62, -0.97,\n",
              "       -1.14,  1.57, -0.7 ,  1.53, -0.62, -0.86,  0.88, -1.93,  0.83,\n",
              "        0.05,  0.3 , -1.87, -0.49, -1.04, -1.9 ,  0.5 , -0.97,  0.72,\n",
              "        1.5 , -0.31, -0.54, -0.74, -0.83,  0.15, -0.13,  0.46, -0.04,\n",
              "       -0.5 ,  0.84,  1.43,  0.14,  1.54, -0.04, -1.18,  0.93,  1.63,\n",
              "        0.04,  2.25, -1.21,  1.31,  0.52, -1.83, -0.19,  1.16,  2.03,\n",
              "        0.06,  0.65, -0.65,  0.02, -1.55, -0.01,  0.03, -0.1 ,  0.9 ,\n",
              "       -0.14, -0.67,  1.89,  0.41, -0.94,  0.17, -0.23, -0.7 , -0.42,\n",
              "       -1.15, -0.73,  0.5 ,  1.09, -1.01,  0.33, -0.25, -0.55,  0.03,\n",
              "       -1.2 ,  0.51, -0.03,  1.87, -0.05,  1.27,  0.49,  0.11,  0.73,\n",
              "        1.68, -1.09,  0.66,  1.04, -0.01, -1.08, -1.19, -0.29, -0.14,\n",
              "        1.08,  0.46,  1.68,  0.52,  0.15,  0.65, -0.27,  0.58,  0.32,\n",
              "        0.64,  1.26, -0.98, -0.3 ,  1.41,  0.01, -0.31,  0.8 ,  0.46,\n",
              "       -1.01, -0.42, -0.1 ,  0.23, -1.2 , -0.14,  0.16, -0.96, -2.01,\n",
              "        1.1 ,  0.93,  0.07, -0.57,  1.82,  0.54,  0.53,  0.75, -0.44,\n",
              "        0.63, -0.5 , -1.23,  2.58, -1.49, -0.83, -0.56,  0.49,  0.49,\n",
              "       -1.06,  0.31, -0.4 ,  0.25,  0.43,  1.87,  1.05,  0.6 , -0.2 ,\n",
              "        0.73,  2.57, -0.74, -0.55, -0.49,  0.3 ,  1.4 , -1.01, -0.71,\n",
              "        0.24,  0.44, -1.11, -0.82,  0.09, -0.27,  0.47, -0.97,  0.06,\n",
              "       -0.98, -0.49, -0.07,  0.6 , -0.07, -0.91,  1.11,  0.47, -1.54,\n",
              "        0.29,  1.1 ,  0.53, -0.61,  0.85,  0.04,  0.28,  0.03,  1.22,\n",
              "        0.58])"
            ]
          },
          "metadata": {
            "tags": []
          },
          "execution_count": 24
        }
      ]
    },
    {
      "cell_type": "markdown",
      "metadata": {
        "id": "XZ3m06gv9lei",
        "colab_type": "text"
      },
      "source": [
        "A seguir, o boxplot do array v_Retornos:"
      ]
    },
    {
      "cell_type": "code",
      "metadata": {
        "id": "QtuwJP449tBQ",
        "colab_type": "code",
        "outputId": "01662ded-25bf-46b9-edaf-85dd7bfa5f10",
        "colab": {
          "base_uri": "https://localhost:8080/",
          "height": 273
        }
      },
      "source": [
        "# Import a biblioteca seaborn:\n",
        "import seaborn as sns\n",
        "sns.boxplot(y= v_Retornos)"
      ],
      "execution_count": 0,
      "outputs": [
        {
          "output_type": "execute_result",
          "data": {
            "text/plain": [
              "<matplotlib.axes._subplots.AxesSubplot at 0x7f23b962e5c0>"
            ]
          },
          "metadata": {
            "tags": []
          },
          "execution_count": 8
        },
        {
          "output_type": "display_data",
          "data": {
            "image/png": "[encoded data removed]",
            "text/plain": [
              "<Figure size 432x288 with 1 Axes>"
            ]
          },
          "metadata": {
            "tags": []
          }
        }
      ]
    },
    {
      "cell_type": "code",
      "metadata": {
        "id": "o9ujdjxNY6qE",
        "colab_type": "code",
        "outputId": "04fb57f2-440f-4dc8-a395-01b9de9b4cf3",
        "colab": {
          "base_uri": "https://localhost:8080/",
          "height": 35
        }
      },
      "source": [
        "np.percentile(v_Retornos, q=[1, 5, 25, 50, 55, 75, 99])"
      ],
      "execution_count": 0,
      "outputs": [
        {
          "output_type": "execute_result",
          "data": {
            "text/plain": [
              "array([-2.03, -1.49, -0.78, -0.12,  0.08,  0.72,  2.06])"
            ]
          },
          "metadata": {
            "tags": []
          },
          "execution_count": 29
        }
      ]
    },
    {
      "cell_type": "markdown",
      "metadata": {
        "id": "OTB9HnIac499",
        "colab_type": "text"
      },
      "source": [
        "___\n",
        "# **Ordenar itens de um array**\n",
        "> Considere o array a seguir:"
      ]
    },
    {
      "cell_type": "code",
      "metadata": {
        "id": "Jgj8Yw46dBMx",
        "colab_type": "code",
        "outputId": "660efa2a-4399-4489-f167-8fa55f9240e2",
        "colab": {
          "base_uri": "https://localhost:8080/",
          "height": 35
        }
      },
      "source": [
        "np.random.seed(20111974)\n",
        "v_X= np.random.random(10)\n",
        "v_X"
      ],
      "execution_count": 0,
      "outputs": [
        {
          "output_type": "execute_result",
          "data": {
            "text/plain": [
              "array([0.53, 0.57, 0.54, 0.65, 0.86, 0.6 , 0.87, 0.46, 0.67, 0.64])"
            ]
          },
          "metadata": {
            "tags": []
          },
          "execution_count": 31
        }
      ]
    },
    {
      "cell_type": "markdown",
      "metadata": {
        "id": "cC9272GFdRln",
        "colab_type": "text"
      },
      "source": [
        "Ordenando os itens de v_X..."
      ]
    },
    {
      "cell_type": "code",
      "metadata": {
        "id": "YUP90nBVdUeF",
        "colab_type": "code",
        "outputId": "f0aa9beb-b606-4cca-c4a8-7c959456e357",
        "colab": {
          "base_uri": "https://localhost:8080/",
          "height": 35
        }
      },
      "source": [
        "np.sort(v_X)"
      ],
      "execution_count": 0,
      "outputs": [
        {
          "output_type": "execute_result",
          "data": {
            "text/plain": [
              "array([0.46, 0.53, 0.54, 0.57, 0.6 , 0.64, 0.65, 0.67, 0.86, 0.87])"
            ]
          },
          "metadata": {
            "tags": []
          },
          "execution_count": 32
        }
      ]
    },
    {
      "cell_type": "markdown",
      "metadata": {
        "id": "lG763cDGj-yB",
        "colab_type": "text"
      },
      "source": [
        "___\n",
        "# **Obtendo ajuda**"
      ]
    },
    {
      "cell_type": "code",
      "metadata": {
        "id": "ehxPlD3EkEYL",
        "colab_type": "code",
        "outputId": "dc0d425f-3d6d-4215-fa54-7699ba7cab83",
        "colab": {
          "base_uri": "https://localhost:8080/",
          "height": 1000
        }
      },
      "source": [
        "help(np.random.normal)"
      ],
      "execution_count": 0,
      "outputs": [
        {
          "output_type": "stream",
          "text": [
            "Help on built-in function normal:\n",
            "\n",
            "normal(...) method of mtrand.RandomState instance\n",
            "    normal(loc=0.0, scale=1.0, size=None)\n",
            "    \n",
            "    Draw random samples from a normal (Gaussian) distribution.\n",
            "    \n",
            "    The probability density function of the normal distribution, first\n",
            "    derived by De Moivre and 200 years later by both Gauss and Laplace\n",
            "    independently [2]_, is often called the bell curve because of\n",
            "    its characteristic shape (see the example below).\n",
            "    \n",
            "    The normal distributions occurs often in nature.  For example, it\n",
            "    describes the commonly occurring distribution of samples influenced\n",
            "    by a large number of tiny, random disturbances, each with its own\n",
            "    unique distribution [2]_.\n",
            "    \n",
            "    Parameters\n",
            "    ----------\n",
            "    loc : float or array_like of floats\n",
            "        Mean (\"centre\") of the distribution.\n",
            "    scale : float or array_like of floats\n",
            "        Standard deviation (spread or \"width\") of the distribution.\n",
            "    size : int or tuple of ints, optional\n",
            "        Output shape.  If the given shape is, e.g., ``(m, n, k)``, then\n",
            "        ``m * n * k`` samples are drawn.  If size is ``None`` (default),\n",
            "        a single value is returned if ``loc`` and ``scale`` are both scalars.\n",
            "        Otherwise, ``np.broadcast(loc, scale).size`` samples are drawn.\n",
            "    \n",
            "    Returns\n",
            "    -------\n",
            "    out : ndarray or scalar\n",
            "        Drawn samples from the parameterized normal distribution.\n",
            "    \n",
            "    See Also\n",
            "    --------\n",
            "    scipy.stats.norm : probability density function, distribution or\n",
            "        cumulative density function, etc.\n",
            "    \n",
            "    Notes\n",
            "    -----\n",
            "    The probability density for the Gaussian distribution is\n",
            "    \n",
            "    .. math:: p(x) = \\frac{1}{\\sqrt{ 2 \\pi \\sigma^2 }}\n",
            "                     e^{ - \\frac{ (x - \\mu)^2 } {2 \\sigma^2} },\n",
            "    \n",
            "    where :math:`\\mu` is the mean and :math:`\\sigma` the standard\n",
            "    deviation. The square of the standard deviation, :math:`\\sigma^2`,\n",
            "    is called the variance.\n",
            "    \n",
            "    The function has its peak at the mean, and its \"spread\" increases with\n",
            "    the standard deviation (the function reaches 0.607 times its maximum at\n",
            "    :math:`x + \\sigma` and :math:`x - \\sigma` [2]_).  This implies that\n",
            "    `numpy.random.normal` is more likely to return samples lying close to\n",
            "    the mean, rather than those far away.\n",
            "    \n",
            "    References\n",
            "    ----------\n",
            "    .. [1] Wikipedia, \"Normal distribution\",\n",
            "           https://en.wikipedia.org/wiki/Normal_distribution\n",
            "    .. [2] P. R. Peebles Jr., \"Central Limit Theorem\" in \"Probability,\n",
            "           Random Variables and Random Signal Principles\", 4th ed., 2001,\n",
            "           pp. 51, 51, 125.\n",
            "    \n",
            "    Examples\n",
            "    --------\n",
            "    Draw samples from the distribution:\n",
            "    \n",
            "    >>> mu, sigma = 0, 0.1 # mean and standard deviation\n",
            "    >>> s = np.random.normal(mu, sigma, 1000)\n",
            "    \n",
            "    Verify the mean and the variance:\n",
            "    \n",
            "    >>> abs(mu - np.mean(s)) < 0.01\n",
            "    True\n",
            "    \n",
            "    >>> abs(sigma - np.std(s, ddof=1)) < 0.01\n",
            "    True\n",
            "    \n",
            "    Display the histogram of the samples, along with\n",
            "    the probability density function:\n",
            "    \n",
            "    >>> import matplotlib.pyplot as plt\n",
            "    >>> count, bins, ignored = plt.hist(s, 30, density=True)\n",
            "    >>> plt.plot(bins, 1/(sigma * np.sqrt(2 * np.pi)) *\n",
            "    ...                np.exp( - (bins - mu)**2 / (2 * sigma**2) ),\n",
            "    ...          linewidth=2, color='r')\n",
            "    >>> plt.show()\n",
            "\n"
          ],
          "name": "stdout"
        }
      ]
    },
    {
      "cell_type": "markdown",
      "metadata": {
        "id": "1Q_konJVaBsV",
        "colab_type": "text"
      },
      "source": [
        "___\n",
        "# **Criar arrays 1D**"
      ]
    },
    {
      "cell_type": "code",
      "metadata": {
        "id": "DddZT5kadYJ7",
        "colab_type": "code",
        "colab": {}
      },
      "source": [
        "import numpy as np\n",
        "np.set_printoptions(precision=2, suppress=True)\n",
        "np.random.seed(seed= 20111974)"
      ],
      "execution_count": 0,
      "outputs": []
    },
    {
      "cell_type": "markdown",
      "metadata": {
        "id": "jaqd-VnF3yIt",
        "colab_type": "text"
      },
      "source": [
        "Criar o ndarray 1D v_Array, com os seguintes números:"
      ]
    },
    {
      "cell_type": "code",
      "metadata": {
        "id": "E3niz_zHaF3e",
        "colab_type": "code",
        "outputId": "c4c73a82-afb6-43d7-ee14-d580640328ca",
        "colab": {
          "base_uri": "https://localhost:8080/",
          "height": 35
        }
      },
      "source": [
        "v_Array= np.array([0,1,2,3,4,5,6,7,8,9])\n",
        "v_Array"
      ],
      "execution_count": 0,
      "outputs": [
        {
          "output_type": "execute_result",
          "data": {
            "text/plain": [
              "array([0, 1, 2, 3, 4, 5, 6, 7, 8, 9])"
            ]
          },
          "metadata": {
            "tags": []
          },
          "execution_count": 35
        }
      ]
    },
    {
      "cell_type": "markdown",
      "metadata": {
        "id": "DyfXbW_ZKJBS",
        "colab_type": "text"
      },
      "source": [
        "Qual a dimensão de v_Array?"
      ]
    },
    {
      "cell_type": "code",
      "metadata": {
        "id": "gbHlydALKB3R",
        "colab_type": "code",
        "outputId": "6a53be92-169c-4b2c-ea49-99399eebc059",
        "colab": {
          "base_uri": "https://localhost:8080/",
          "height": 35
        }
      },
      "source": [
        "# Dimensão do array\n",
        "v_Array.ndim"
      ],
      "execution_count": 0,
      "outputs": [
        {
          "output_type": "execute_result",
          "data": {
            "text/plain": [
              "1"
            ]
          },
          "metadata": {
            "tags": []
          },
          "execution_count": 36
        }
      ]
    },
    {
      "cell_type": "markdown",
      "metadata": {
        "id": "am9otElpKNPa",
        "colab_type": "text"
      },
      "source": [
        "Qual o shape de v_Array?"
      ]
    },
    {
      "cell_type": "code",
      "metadata": {
        "id": "juJJ74d2wale",
        "colab_type": "code",
        "outputId": "ac91089b-10de-4912-d052-6e5e7995373e",
        "colab": {
          "base_uri": "https://localhost:8080/",
          "height": 35
        }
      },
      "source": [
        "# Números de itens no array\n",
        "v_Array.shape"
      ],
      "execution_count": 0,
      "outputs": [
        {
          "output_type": "execute_result",
          "data": {
            "text/plain": [
              "(10,)"
            ]
          },
          "metadata": {
            "tags": []
          },
          "execution_count": 37
        }
      ]
    },
    {
      "cell_type": "markdown",
      "metadata": {
        "id": "BHg4Rre3GwPy",
        "colab_type": "text"
      },
      "source": [
        "O array v_Array poderia ter sido criado usando a função np.arange(inicio, fim, step):"
      ]
    },
    {
      "cell_type": "code",
      "metadata": {
        "id": "I3fyusN7G5Zn",
        "colab_type": "code",
        "colab": {}
      },
      "source": [
        "v_Array2= np.arange(start=0, stop=10, step=1)"
      ],
      "execution_count": 0,
      "outputs": []
    },
    {
      "cell_type": "markdown",
      "metadata": {
        "id": "V9aW7C4vHAcF",
        "colab_type": "text"
      },
      "source": [
        "Ou seja, v_Array é igual a v_Array2. Ok?"
      ]
    },
    {
      "cell_type": "markdown",
      "metadata": {
        "id": "KNnwZa3uvYqE",
        "colab_type": "text"
      },
      "source": [
        "Soma 2 à cada item de v_Array:"
      ]
    },
    {
      "cell_type": "code",
      "metadata": {
        "id": "Jt2KVyviw0bp",
        "colab_type": "code",
        "outputId": "9d29e435-ca8c-4c64-e04b-82876513ecff",
        "colab": {
          "base_uri": "https://localhost:8080/",
          "height": 35
        }
      },
      "source": [
        "v_Array"
      ],
      "execution_count": 0,
      "outputs": [
        {
          "output_type": "execute_result",
          "data": {
            "text/plain": [
              "array([0, 1, 2, 3, 4, 5, 6, 7, 8, 9])"
            ]
          },
          "metadata": {
            "tags": []
          },
          "execution_count": 38
        }
      ]
    },
    {
      "cell_type": "code",
      "metadata": {
        "id": "arROkhWXbdTW",
        "colab_type": "code",
        "outputId": "b085fd13-864a-4256-b2d1-080a1f879373",
        "colab": {
          "base_uri": "https://localhost:8080/",
          "height": 35
        }
      },
      "source": [
        "v_Array2= v_Array + 2\n",
        "v_Array2"
      ],
      "execution_count": 0,
      "outputs": [
        {
          "output_type": "execute_result",
          "data": {
            "text/plain": [
              "array([ 2,  3,  4,  5,  6,  7,  8,  9, 10, 11])"
            ]
          },
          "metadata": {
            "tags": []
          },
          "execution_count": 257
        }
      ]
    },
    {
      "cell_type": "markdown",
      "metadata": {
        "id": "ZJx2vG86vdVi",
        "colab_type": "text"
      },
      "source": [
        "Multiplicar por 10 cada item de v_Array:"
      ]
    },
    {
      "cell_type": "code",
      "metadata": {
        "id": "Vm7abO6Ebkun",
        "colab_type": "code",
        "outputId": "2ed443f9-65a2-48c5-a9d3-8c0e782a62d2",
        "colab": {
          "base_uri": "https://localhost:8080/",
          "height": 35
        }
      },
      "source": [
        "v_Array3= v_Array*10\n",
        "v_Array3"
      ],
      "execution_count": 0,
      "outputs": [
        {
          "output_type": "execute_result",
          "data": {
            "text/plain": [
              "array([ 0, 10, 20, 30, 40, 50, 60, 70, 80, 90])"
            ]
          },
          "metadata": {
            "tags": []
          },
          "execution_count": 258
        }
      ]
    },
    {
      "cell_type": "markdown",
      "metadata": {
        "id": "0Ev1xnBwaYJG",
        "colab_type": "text"
      },
      "source": [
        "___\n",
        "# **Criar ndarrays - Arrays Multidimensionais**\n",
        "> Ao criarmos, por exemplo, um array 2D, então a chamamos de matriz."
      ]
    },
    {
      "cell_type": "markdown",
      "metadata": {
        "id": "gHaeAug5vjjd",
        "colab_type": "text"
      },
      "source": [
        "Criar o ndarray com 2 linhas e 3 colunas usando números aleatórios:"
      ]
    },
    {
      "cell_type": "code",
      "metadata": {
        "id": "VDi0vIPSYR4F",
        "colab_type": "code",
        "outputId": "31e2424b-2858-42bc-c5a9-ab9f606545c0",
        "colab": {
          "base_uri": "https://localhost:8080/",
          "height": 52
        }
      },
      "source": [
        "np.random.seed(20111974)\n",
        "m_Array_2_X_3= np.random.randn(2, 3)\n",
        "m_Array_2_X_3"
      ],
      "execution_count": 0,
      "outputs": [
        {
          "output_type": "execute_result",
          "data": {
            "text/plain": [
              "array([[2.51, 1.11, 2.06],\n",
              "       [0.56, 0.3 , 1.05]])"
            ]
          },
          "metadata": {
            "tags": []
          },
          "execution_count": 39
        }
      ]
    },
    {
      "cell_type": "markdown",
      "metadata": {
        "id": "DIdd-nA3tJjV",
        "colab_type": "text"
      },
      "source": [
        "## Dimensão de um array\n",
        "> Dimensão é o número de linhas e colunas da matriz."
      ]
    },
    {
      "cell_type": "code",
      "metadata": {
        "id": "pKvjjnkrK-v7",
        "colab_type": "code",
        "outputId": "bd74a7f4-0751-4c77-be72-61e7bd2608ea",
        "colab": {
          "base_uri": "https://localhost:8080/",
          "height": 35
        }
      },
      "source": [
        "m_Array_2_X_3.shape"
      ],
      "execution_count": 0,
      "outputs": [
        {
          "output_type": "execute_result",
          "data": {
            "text/plain": [
              "(2, 3)"
            ]
          },
          "metadata": {
            "tags": []
          },
          "execution_count": 267
        }
      ]
    },
    {
      "cell_type": "markdown",
      "metadata": {
        "id": "-DHS5jXELCfa",
        "colab_type": "text"
      },
      "source": [
        "m_Array_2_X_3 é um array 2D (ou matriz), ou seja, 2 linhas, onde cada linha tem 3 elementos."
      ]
    },
    {
      "cell_type": "markdown",
      "metadata": {
        "id": "HJI6X1wvv4Bg",
        "colab_type": "text"
      },
      "source": [
        "Criar um ndarray com 3 linhas e 3 colunas:"
      ]
    },
    {
      "cell_type": "code",
      "metadata": {
        "id": "hXPbWh3Tv26T",
        "colab_type": "code",
        "outputId": "312461e1-487a-46e8-9d65-8fb084057563",
        "colab": {
          "base_uri": "https://localhost:8080/",
          "height": 69
        }
      },
      "source": [
        "m_Array_3_X_3 = np.array([[1,2,3],[4,5,6],[7,8,9]])\n",
        "m_Array_3_X_3"
      ],
      "execution_count": 0,
      "outputs": [
        {
          "output_type": "execute_result",
          "data": {
            "text/plain": [
              "array([[1, 2, 3],\n",
              "       [4, 5, 6],\n",
              "       [7, 8, 9]])"
            ]
          },
          "metadata": {
            "tags": []
          },
          "execution_count": 40
        }
      ]
    },
    {
      "cell_type": "code",
      "metadata": {
        "id": "we6ZJOICc7bQ",
        "colab_type": "code",
        "outputId": "9443d29a-c826-4d26-eefe-da826ae1e47f",
        "colab": {
          "base_uri": "https://localhost:8080/",
          "height": 35
        }
      },
      "source": [
        "# Número de linhas e colunas de m_Array_2_X_3:\n",
        "m_Array_2_X_3.shape"
      ],
      "execution_count": 0,
      "outputs": [
        {
          "output_type": "execute_result",
          "data": {
            "text/plain": [
              "(2, 3)"
            ]
          },
          "metadata": {
            "tags": []
          },
          "execution_count": 269
        }
      ]
    },
    {
      "cell_type": "code",
      "metadata": {
        "id": "f0ocwuI1dED6",
        "colab_type": "code",
        "outputId": "9ed13b58-6377-4d40-b650-941f5f291e14",
        "colab": {
          "base_uri": "https://localhost:8080/",
          "height": 35
        }
      },
      "source": [
        "# Número de linhas e colunas de m_Array_3_X_3\n",
        "m_Array_3_X_3.shape"
      ],
      "execution_count": 0,
      "outputs": [
        {
          "output_type": "execute_result",
          "data": {
            "text/plain": [
              "(3, 3)"
            ]
          },
          "metadata": {
            "tags": []
          },
          "execution_count": 270
        }
      ]
    },
    {
      "cell_type": "code",
      "metadata": {
        "id": "CApPtnW0YuRP",
        "colab_type": "code",
        "outputId": "82189421-a092-4c32-f181-c4a6cbb31abd",
        "colab": {
          "base_uri": "https://localhost:8080/",
          "height": 69
        }
      },
      "source": [
        "# Somar 2 à cada elemento de m_Array_3_X_3\n",
        "m_Array_3_X_3= m_Array_3_X_3+2\n",
        "m_Array_3_X_3"
      ],
      "execution_count": 0,
      "outputs": [
        {
          "output_type": "execute_result",
          "data": {
            "text/plain": [
              "array([[ 3,  4,  5],\n",
              "       [ 6,  7,  8],\n",
              "       [ 9, 10, 11]])"
            ]
          },
          "metadata": {
            "tags": []
          },
          "execution_count": 271
        }
      ]
    },
    {
      "cell_type": "code",
      "metadata": {
        "id": "M87aGmxRY3RW",
        "colab_type": "code",
        "outputId": "14ff45b4-79cd-4f6f-abca-6a826f5dc25e",
        "colab": {
          "base_uri": "https://localhost:8080/",
          "height": 69
        }
      },
      "source": [
        "# Multiplicar por 10 cada elemento de m_Array_3_X_3\n",
        "m_Array_3_X_3= m_Array_3_X_3*10\n",
        "m_Array_3_X_3"
      ],
      "execution_count": 0,
      "outputs": [
        {
          "output_type": "execute_result",
          "data": {
            "text/plain": [
              "array([[ 30,  40,  50],\n",
              "       [ 60,  70,  80],\n",
              "       [ 90, 100, 110]])"
            ]
          },
          "metadata": {
            "tags": []
          },
          "execution_count": 272
        }
      ]
    },
    {
      "cell_type": "markdown",
      "metadata": {
        "id": "qZt93y1IL_v7",
        "colab_type": "text"
      },
      "source": [
        "___\n",
        "# **Cópia de arrays**\n",
        "> Considere o ndarray abaixo:"
      ]
    },
    {
      "cell_type": "code",
      "metadata": {
        "id": "sH2FTXj5MRRC",
        "colab_type": "code",
        "outputId": "bca617ce-9c64-4561-c012-d9cdd83ac518",
        "colab": {
          "base_uri": "https://localhost:8080/",
          "height": 52
        }
      },
      "source": [
        "np.random.seed(20111974)\n",
        "X= np.random.randn(2, 3)\n",
        "X"
      ],
      "execution_count": 0,
      "outputs": [
        {
          "output_type": "execute_result",
          "data": {
            "text/plain": [
              "array([[2.51, 1.11, 2.06],\n",
              "       [0.56, 0.3 , 1.05]])"
            ]
          },
          "metadata": {
            "tags": []
          },
          "execution_count": 273
        }
      ]
    },
    {
      "cell_type": "markdown",
      "metadata": {
        "id": "VtgKeMt6MYrr",
        "colab_type": "text"
      },
      "source": [
        "Fazendo a cópia de X..."
      ]
    },
    {
      "cell_type": "code",
      "metadata": {
        "id": "K0hOHR3IMa-o",
        "colab_type": "code",
        "outputId": "bca1b41c-753d-4fb3-d8ed-a12f6abba21d",
        "colab": {
          "base_uri": "https://localhost:8080/",
          "height": 52
        }
      },
      "source": [
        "Y= X.copy()\n",
        "Y"
      ],
      "execution_count": 0,
      "outputs": [
        {
          "output_type": "execute_result",
          "data": {
            "text/plain": [
              "array([[2.51, 1.11, 2.06],\n",
              "       [0.56, 0.3 , 1.05]])"
            ]
          },
          "metadata": {
            "tags": []
          },
          "execution_count": 274
        }
      ]
    },
    {
      "cell_type": "markdown",
      "metadata": {
        "id": "lFpmcR0HkCar",
        "colab_type": "text"
      },
      "source": [
        "___\n",
        "# **Operações com arrays**\n",
        "> Considere um array com temperaturas em Farenheit dado por:"
      ]
    },
    {
      "cell_type": "code",
      "metadata": {
        "id": "VnagcUqVkLhW",
        "colab_type": "code",
        "outputId": "8065721f-ad96-490a-d27f-09f18dcb7443",
        "colab": {
          "base_uri": "https://localhost:8080/",
          "height": 35
        }
      },
      "source": [
        "# Define a seed\n",
        "np.random.seed(20111974)\n",
        "\n",
        "v_Farenheit= np.array(np.random.randint(0, 100, 10))\n",
        "v_Farenheit                                        "
      ],
      "execution_count": 0,
      "outputs": [
        {
          "output_type": "execute_result",
          "data": {
            "text/plain": [
              "array([60, 42, 40,  8, 27,  2, 46, 88, 81, 88])"
            ]
          },
          "metadata": {
            "tags": []
          },
          "execution_count": 41
        }
      ]
    },
    {
      "cell_type": "code",
      "metadata": {
        "id": "VrjNKfXxk1yv",
        "colab_type": "code",
        "outputId": "8137bcdf-aafa-4da4-fe7c-2a2310ff2e77",
        "colab": {
          "base_uri": "https://localhost:8080/",
          "height": 35
        }
      },
      "source": [
        "type(v_Farenheit)"
      ],
      "execution_count": 0,
      "outputs": [
        {
          "output_type": "execute_result",
          "data": {
            "text/plain": [
              "numpy.ndarray"
            ]
          },
          "metadata": {
            "tags": []
          },
          "execution_count": 377
        }
      ]
    },
    {
      "cell_type": "markdown",
      "metadata": {
        "id": "o1STejhrk0kZ",
        "colab_type": "text"
      },
      "source": [
        "Calculando para graus centígrados..."
      ]
    },
    {
      "cell_type": "code",
      "metadata": {
        "id": "E_jXflR_lNy3",
        "colab_type": "code",
        "outputId": "3301011d-11b7-4074-e2d9-1ed723d5e4ce",
        "colab": {
          "base_uri": "https://localhost:8080/",
          "height": 52
        }
      },
      "source": [
        "5*v_Farenheit/9 - 5*32/9"
      ],
      "execution_count": 0,
      "outputs": [
        {
          "output_type": "execute_result",
          "data": {
            "text/plain": [
              "array([ 15.56,   5.56,   4.44, -13.33,  -2.78, -16.67,   7.78,  31.11,\n",
              "        27.22,  31.11])"
            ]
          },
          "metadata": {
            "tags": []
          },
          "execution_count": 379
        }
      ]
    },
    {
      "cell_type": "markdown",
      "metadata": {
        "id": "1UT4YD2FawUA",
        "colab_type": "text"
      },
      "source": [
        "___\n",
        "# **Selecionar itens**"
      ]
    },
    {
      "cell_type": "code",
      "metadata": {
        "id": "pqOv8P1za1m8",
        "colab_type": "code",
        "outputId": "a75f8243-be4d-4a81-bd53-1c12876de15e",
        "colab": {
          "base_uri": "https://localhost:8080/",
          "height": 166
        }
      },
      "source": [
        "# Selecionar o segundo item de v_Array (lembre-se que no Python arrays começam com indice= 0)\n",
        "v_Array[1]"
      ],
      "execution_count": 0,
      "outputs": [
        {
          "output_type": "error",
          "ename": "NameError",
          "evalue": "ignored",
          "traceback": [
            "\u001b[0;31m---------------------------------------------------------------------------\u001b[0m",
            "\u001b[0;31mNameError\u001b[0m                                 Traceback (most recent call last)",
            "\u001b[0;32m<ipython-input-10-5eb1a39454de>\u001b[0m in \u001b[0;36m<module>\u001b[0;34m()\u001b[0m\n\u001b[0;32m----> 1\u001b[0;31m \u001b[0mv_Array\u001b[0m\u001b[0;34m[\u001b[0m\u001b[0;36m1\u001b[0m\u001b[0;34m]\u001b[0m\u001b[0;34m\u001b[0m\u001b[0;34m\u001b[0m\u001b[0m\n\u001b[0m",
            "\u001b[0;31mNameError\u001b[0m: name 'v_Array' is not defined"
          ]
        }
      ]
    },
    {
      "cell_type": "markdown",
      "metadata": {
        "id": "TIwVKk6AyRv6",
        "colab_type": "text"
      },
      "source": [
        "Dado m_Array_3_X_3 abaixo:"
      ]
    },
    {
      "cell_type": "code",
      "metadata": {
        "id": "zoDmbXo6bCeu",
        "colab_type": "code",
        "outputId": "c847931b-fa75-4ac9-8071-6f945589f984",
        "colab": {
          "base_uri": "https://localhost:8080/",
          "height": 69
        }
      },
      "source": [
        "m_Array_3_X_3"
      ],
      "execution_count": 0,
      "outputs": [
        {
          "output_type": "execute_result",
          "data": {
            "text/plain": [
              "array([[ 30,  40,  50],\n",
              "       [ 60,  70,  80],\n",
              "       [ 90, 100, 110]])"
            ]
          },
          "metadata": {
            "tags": []
          },
          "execution_count": 276
        }
      ]
    },
    {
      "cell_type": "markdown",
      "metadata": {
        "id": "iJXSPp-0yb4w",
        "colab_type": "text"
      },
      "source": [
        "... selecionar o item da linha 2, coluna 3 do ndarray m_Array_3_X_3:"
      ]
    },
    {
      "cell_type": "code",
      "metadata": {
        "id": "sJiVfnlzcjRv",
        "colab_type": "code",
        "outputId": "1550a5b4-03ba-4268-d8f9-01128fdc5eaf",
        "colab": {
          "base_uri": "https://localhost:8080/",
          "height": 35
        }
      },
      "source": [
        "m_Array_3_X_3[1,2]"
      ],
      "execution_count": 0,
      "outputs": [
        {
          "output_type": "execute_result",
          "data": {
            "text/plain": [
              "80"
            ]
          },
          "metadata": {
            "tags": []
          },
          "execution_count": 277
        }
      ]
    },
    {
      "cell_type": "code",
      "metadata": {
        "id": "Xl5HwJIMcv2e",
        "colab_type": "code",
        "outputId": "818fdf88-3834-42d6-9702-6f40aa98efd9",
        "colab": {
          "base_uri": "https://localhost:8080/",
          "height": 35
        }
      },
      "source": [
        "# Selecionar o último elemento de v_Array\n",
        "v_Array[-1]"
      ],
      "execution_count": 0,
      "outputs": [
        {
          "output_type": "execute_result",
          "data": {
            "text/plain": [
              "9"
            ]
          },
          "metadata": {
            "tags": []
          },
          "execution_count": 278
        }
      ]
    },
    {
      "cell_type": "markdown",
      "metadata": {
        "id": "4qJJ2HCedW4h",
        "colab_type": "text"
      },
      "source": [
        "___\n",
        "# **Aplicar funções como max(), min() e etc**"
      ]
    },
    {
      "cell_type": "code",
      "metadata": {
        "id": "_meTJdUsda4e",
        "colab_type": "code",
        "outputId": "7ccfaf2f-ef1f-487f-bca5-ce54cc0c547c",
        "colab": {
          "base_uri": "https://localhost:8080/",
          "height": 35
        }
      },
      "source": [
        "f'O máximo de v_Array é: {np.max(v_Array)}'"
      ],
      "execution_count": 0,
      "outputs": [
        {
          "output_type": "execute_result",
          "data": {
            "text/plain": [
              "'O máximo de v_Vetor é: 9'"
            ]
          },
          "metadata": {
            "tags": []
          },
          "execution_count": 279
        }
      ]
    },
    {
      "cell_type": "code",
      "metadata": {
        "id": "m-wiBkAidnhN",
        "colab_type": "code",
        "outputId": "a85c8d28-29ae-4c0f-ee1f-7610eeeec5b8",
        "colab": {
          "base_uri": "https://localhost:8080/",
          "height": 35
        }
      },
      "source": [
        "f'O mínimo de v_Array é: {np.min(v_Array)}'"
      ],
      "execution_count": 0,
      "outputs": [
        {
          "output_type": "execute_result",
          "data": {
            "text/plain": [
              "'O mínimo de v_Vetor é: 0'"
            ]
          },
          "metadata": {
            "tags": []
          },
          "execution_count": 280
        }
      ]
    },
    {
      "cell_type": "code",
      "metadata": {
        "id": "lmupnRHQdtwh",
        "colab_type": "code",
        "outputId": "6aac143c-413a-428c-a0fa-90961c241670",
        "colab": {
          "base_uri": "https://localhost:8080/",
          "height": 35
        }
      },
      "source": [
        "f'O máximo de m_Array_3_X_3 é: {np.max(m_Array_3_X_3)}'"
      ],
      "execution_count": 0,
      "outputs": [
        {
          "output_type": "execute_result",
          "data": {
            "text/plain": [
              "'O máximo de m_Array_3_X_3 é: 110'"
            ]
          },
          "metadata": {
            "tags": []
          },
          "execution_count": 281
        }
      ]
    },
    {
      "cell_type": "code",
      "metadata": {
        "id": "H2z7oB6Bd786",
        "colab_type": "code",
        "outputId": "1d5b359c-f1d9-41ed-92ce-0c904d52c0ef",
        "colab": {
          "base_uri": "https://localhost:8080/",
          "height": 35
        }
      },
      "source": [
        "f'O máximo de cada LINHA de m_Array_3_X_3 é: {np.max(m_Array_3_X_3, axis= 1)}' # Aqui, axis= 1 é que diz ao numpy que estamos interessados nas linhas"
      ],
      "execution_count": 0,
      "outputs": [
        {
          "output_type": "execute_result",
          "data": {
            "text/plain": [
              "'O máximo de cada LINHA de m_Array_3_X_3 é: [ 50  80 110]'"
            ]
          },
          "metadata": {
            "tags": []
          },
          "execution_count": 282
        }
      ]
    },
    {
      "cell_type": "code",
      "metadata": {
        "id": "gj2ZBDsWeMyk",
        "colab_type": "code",
        "outputId": "1d6e061c-160c-4931-e90e-f47a76a0fff1",
        "colab": {
          "base_uri": "https://localhost:8080/",
          "height": 35
        }
      },
      "source": [
        "f'O máximo de cada COLUNA de m_Array_3_X_3 é: {np.max(m_Array_3_X_3, axis= 0)}' # axis= 0, diz ao numpy que estamos interessados nas colunas."
      ],
      "execution_count": 0,
      "outputs": [
        {
          "output_type": "execute_result",
          "data": {
            "text/plain": [
              "'O máximo de cada COLUNA de m_Array_3_X_3 é: [ 90 100 110]'"
            ]
          },
          "metadata": {
            "tags": []
          },
          "execution_count": 283
        }
      ]
    },
    {
      "cell_type": "markdown",
      "metadata": {
        "id": "7_tEfm2IecIU",
        "colab_type": "text"
      },
      "source": [
        "___\n",
        "# **Calcular Estatísticas Descritivas: média e variância**"
      ]
    },
    {
      "cell_type": "code",
      "metadata": {
        "id": "lIY5jx3ueh7q",
        "colab_type": "code",
        "outputId": "3ba009a9-5c38-4beb-b340-e1d217459305",
        "colab": {
          "base_uri": "https://localhost:8080/",
          "height": 35
        }
      },
      "source": [
        "f'A média de v_Array é: {np.mean(v_Array)}'"
      ],
      "execution_count": 0,
      "outputs": [
        {
          "output_type": "execute_result",
          "data": {
            "text/plain": [
              "'A média de v_Vetor é: 4.5'"
            ]
          },
          "metadata": {
            "tags": []
          },
          "execution_count": 284
        }
      ]
    },
    {
      "cell_type": "code",
      "metadata": {
        "id": "VmqSELRReuAW",
        "colab_type": "code",
        "outputId": "426f2619-ebd7-420d-b2fe-21a005f19db2",
        "colab": {
          "base_uri": "https://localhost:8080/",
          "height": 35
        }
      },
      "source": [
        "f'A média de m_Array_3_X_3 é: {np.mean(m_Array_3_X_3)}'"
      ],
      "execution_count": 0,
      "outputs": [
        {
          "output_type": "execute_result",
          "data": {
            "text/plain": [
              "'A média de m_Array_3_X_3 é: 70.0'"
            ]
          },
          "metadata": {
            "tags": []
          },
          "execution_count": 285
        }
      ]
    },
    {
      "cell_type": "code",
      "metadata": {
        "id": "Gxap-Wg5e2_H",
        "colab_type": "code",
        "outputId": "aa679e92-11e5-4cf5-936a-a0a34364e8a7",
        "colab": {
          "base_uri": "https://localhost:8080/",
          "height": 35
        }
      },
      "source": [
        "f'O Desvio Padrão de m_Array_3_X_3 é: {np.std(m_Array_3_X_3)}'"
      ],
      "execution_count": 0,
      "outputs": [
        {
          "output_type": "execute_result",
          "data": {
            "text/plain": [
              "'O Desvio Padrão de m_Array_3_X_3 é: 25.81988897471611'"
            ]
          },
          "metadata": {
            "tags": []
          },
          "execution_count": 286
        }
      ]
    },
    {
      "cell_type": "markdown",
      "metadata": {
        "id": "R0GcljGtfBvP",
        "colab_type": "text"
      },
      "source": [
        "___\n",
        "# **Reshaping**\n",
        "> Muito útil em Machine Learning."
      ]
    },
    {
      "cell_type": "markdown",
      "metadata": {
        "id": "vfEmw01j8zux",
        "colab_type": "text"
      },
      "source": [
        "## Exemplo 1\n",
        "* O ndarray m_Array_3_X_3 tem a seguinte forma:"
      ]
    },
    {
      "cell_type": "code",
      "metadata": {
        "id": "-Lb3VZCCfK_a",
        "colab_type": "code",
        "outputId": "9f167093-89db-4cc9-8d2e-893e251a4eac",
        "colab": {
          "base_uri": "https://localhost:8080/",
          "height": 69
        }
      },
      "source": [
        "m_Array_3_X_3"
      ],
      "execution_count": 0,
      "outputs": [
        {
          "output_type": "execute_result",
          "data": {
            "text/plain": [
              "array([[ 30,  40,  50],\n",
              "       [ 60,  70,  80],\n",
              "       [ 90, 100, 110]])"
            ]
          },
          "metadata": {
            "tags": []
          },
          "execution_count": 287
        }
      ]
    },
    {
      "cell_type": "code",
      "metadata": {
        "id": "YWN_nN-4fD7u",
        "colab_type": "code",
        "outputId": "9f2fac56-df40-4de5-baed-9493e8ae6eb0",
        "colab": {
          "base_uri": "https://localhost:8080/",
          "height": 173
        }
      },
      "source": [
        "# reshaping para 9 linhas e 1 coluna:\n",
        "m_Array_3_X_3.reshape(9,1)"
      ],
      "execution_count": 0,
      "outputs": [
        {
          "output_type": "execute_result",
          "data": {
            "text/plain": [
              "array([[ 30],\n",
              "       [ 40],\n",
              "       [ 50],\n",
              "       [ 60],\n",
              "       [ 70],\n",
              "       [ 80],\n",
              "       [ 90],\n",
              "       [100],\n",
              "       [110]])"
            ]
          },
          "metadata": {
            "tags": []
          },
          "execution_count": 288
        }
      ]
    },
    {
      "cell_type": "markdown",
      "metadata": {
        "colab_type": "text",
        "id": "id9ILRRt7SwY"
      },
      "source": [
        "## Mais um exemplo de Reshape\n",
        "> Dado o array 1D abaixo, reshape para um array 3D com 2 colunas."
      ]
    },
    {
      "cell_type": "code",
      "metadata": {
        "colab_type": "code",
        "outputId": "b64ea5a5-4f45-4ea3-9762-0b3098113fb0",
        "id": "9RA9Ht2b7Swd",
        "colab": {
          "base_uri": "https://localhost:8080/",
          "height": 35
        }
      },
      "source": [
        "# Define seed\n",
        "np.random.seed(20111974)\n",
        "v_Array= np.array(np.random.randint(1, 10, size= 15))\n",
        "v_Array"
      ],
      "execution_count": 0,
      "outputs": [
        {
          "output_type": "execute_result",
          "data": {
            "text/plain": [
              "array([9, 9, 3, 9, 2, 9, 1, 5, 3, 1, 9, 4, 8, 2, 4])"
            ]
          },
          "metadata": {
            "tags": []
          },
          "execution_count": 289
        }
      ]
    },
    {
      "cell_type": "markdown",
      "metadata": {
        "id": "8KxR4xZT7cRv",
        "colab_type": "text"
      },
      "source": [
        "### Solução\n",
        "> Temos 15 elementos em v_Arraypara construir (\"reshape\") um array 3D com 2 colunas.\n",
        "\n",
        "A princípio, a solução seria..."
      ]
    },
    {
      "cell_type": "code",
      "metadata": {
        "id": "VMdHl1Il7wLw",
        "colab_type": "code",
        "outputId": "06b503c8-c8c6-496a-bd53-49246e687344",
        "colab": {
          "base_uri": "https://localhost:8080/",
          "height": 186
        }
      },
      "source": [
        "v_Array.reshape(-1, 2) # O valor \"-1\" na posição das linhas pede ao NumPy para calcular o número de linhas automaticamente."
      ],
      "execution_count": 0,
      "outputs": [
        {
          "output_type": "error",
          "ename": "ValueError",
          "evalue": "ignored",
          "traceback": [
            "\u001b[0;31m---------------------------------------------------------------------------\u001b[0m",
            "\u001b[0;31mValueError\u001b[0m                                Traceback (most recent call last)",
            "\u001b[0;32m<ipython-input-290-5c1ba8746db3>\u001b[0m in \u001b[0;36m<module>\u001b[0;34m()\u001b[0m\n\u001b[0;32m----> 1\u001b[0;31m \u001b[0mv_Vetor\u001b[0m\u001b[0;34m.\u001b[0m\u001b[0mreshape\u001b[0m\u001b[0;34m(\u001b[0m\u001b[0;34m-\u001b[0m\u001b[0;36m1\u001b[0m\u001b[0;34m,\u001b[0m \u001b[0;36m2\u001b[0m\u001b[0;34m)\u001b[0m \u001b[0;31m# O valor \"-1\" na posição das linhas pede ao NumPy para calcular o número de linhas automaticamente.\u001b[0m\u001b[0;34m\u001b[0m\u001b[0;34m\u001b[0m\u001b[0m\n\u001b[0m",
            "\u001b[0;31mValueError\u001b[0m: cannot reshape array of size 15 into shape (2)"
          ]
        }
      ]
    },
    {
      "cell_type": "markdown",
      "metadata": {
        "id": "pZS4b4-y708q",
        "colab_type": "text"
      },
      "source": [
        "Porque temos esse erro?"
      ]
    },
    {
      "cell_type": "markdown",
      "metadata": {
        "id": "4disywvR8HeH",
        "colab_type": "text"
      },
      "source": [
        "E se fizermos..."
      ]
    },
    {
      "cell_type": "code",
      "metadata": {
        "id": "3oEAAXTp8I7Z",
        "colab_type": "code",
        "colab": {}
      },
      "source": [
        "# Define seed\n",
        "np.random.seed(20111974)\n",
        "v_Array= np.array(np.random.randint(1, 10, size= 16)) # Observe que agora temos 16 elementos\n",
        "v_Array"
      ],
      "execution_count": 0,
      "outputs": []
    },
    {
      "cell_type": "markdown",
      "metadata": {
        "id": "iUhth0QV8Rpt",
        "colab_type": "text"
      },
      "source": [
        "Reshapping..."
      ]
    },
    {
      "cell_type": "code",
      "metadata": {
        "id": "9D1y7uD88Qip",
        "colab_type": "code",
        "colab": {}
      },
      "source": [
        "v_Array.reshape(-1, 2) # O valor \"-1\" na posição das linhas pede ao NumPy para calcular o número de linhas automaticamente."
      ],
      "execution_count": 0,
      "outputs": []
    },
    {
      "cell_type": "markdown",
      "metadata": {
        "id": "yvTnrszn8Yk0",
        "colab_type": "text"
      },
      "source": [
        "Porque agora deu certo?"
      ]
    },
    {
      "cell_type": "markdown",
      "metadata": {
        "id": "LeQ9LqIE8baG",
        "colab_type": "text"
      },
      "source": [
        "## Último exemplo com reshape\n",
        "> Considere o ndarray a seguir:"
      ]
    },
    {
      "cell_type": "code",
      "metadata": {
        "id": "OQOC9iiN8hZT",
        "colab_type": "code",
        "colab": {}
      },
      "source": [
        "np.random.seed(20111974)\n",
        "m_Array_2_X_3= np.random.randn(2, 3)\n",
        "m_Array_2_X_3"
      ],
      "execution_count": 0,
      "outputs": []
    },
    {
      "cell_type": "markdown",
      "metadata": {
        "id": "Cvce8qBl9Cvq",
        "colab_type": "text"
      },
      "source": [
        "Queremos agora transformá-la num ndarray de 3 linhas e 2 colunas."
      ]
    },
    {
      "cell_type": "code",
      "metadata": {
        "id": "QDDsYoVt9Klz",
        "colab_type": "code",
        "colab": {}
      },
      "source": [
        "m_Array_2_X_3.reshape(-1, 2)"
      ],
      "execution_count": 0,
      "outputs": []
    },
    {
      "cell_type": "markdown",
      "metadata": {
        "id": "AdwU5ygt9Svq",
        "colab_type": "text"
      },
      "source": [
        "Poderia ser..."
      ]
    },
    {
      "cell_type": "code",
      "metadata": {
        "id": "5uBeokKc9Uo-",
        "colab_type": "code",
        "colab": {}
      },
      "source": [
        "m_Array_2_X_3.reshape(3, -1)"
      ],
      "execution_count": 0,
      "outputs": []
    },
    {
      "cell_type": "markdown",
      "metadata": {
        "id": "OeRBsobc9aKj",
        "colab_type": "text"
      },
      "source": [
        "E por fim, também poderia ser..."
      ]
    },
    {
      "cell_type": "code",
      "metadata": {
        "id": "MDt8UYYH9dBw",
        "colab_type": "code",
        "colab": {}
      },
      "source": [
        "m_Array_2_X_3.reshape(3, 2)"
      ],
      "execution_count": 0,
      "outputs": []
    },
    {
      "cell_type": "markdown",
      "metadata": {
        "id": "91o5vycQfdKW",
        "colab_type": "text"
      },
      "source": [
        "___\n",
        "# **Transposta**\n",
        "* O ndarray m_Array_3_X_3 tem a seguinte forma:"
      ]
    },
    {
      "cell_type": "code",
      "metadata": {
        "id": "RsZwyuhoffjb",
        "colab_type": "code",
        "colab": {}
      },
      "source": [
        "m_Array_3_X_3"
      ],
      "execution_count": 0,
      "outputs": []
    },
    {
      "cell_type": "code",
      "metadata": {
        "id": "A3MzTVoGfiyO",
        "colab_type": "code",
        "colab": {}
      },
      "source": [
        "# Transposta do ndarray m_Array_3_X_3 é dado por:\n",
        "m_Array_3_X_3.T"
      ],
      "execution_count": 0,
      "outputs": []
    },
    {
      "cell_type": "markdown",
      "metadata": {
        "id": "Ij-ZW5IyzXIb",
        "colab_type": "text"
      },
      "source": [
        "Ou seja, linha virou coluna. Ok?"
      ]
    },
    {
      "cell_type": "markdown",
      "metadata": {
        "id": "qLy6ajgpt3lU",
        "colab_type": "text"
      },
      "source": [
        "# **Inversa da matriz quadrada**\n",
        "> Se uma matriz, é não-singular, então sua inversa existe.\n",
        "\n",
        "* Se o determinante de uma matriz  is not equal to zero, then the matrix isé diferente de 0, então a matriz é não-singular."
      ]
    },
    {
      "cell_type": "code",
      "metadata": {
        "id": "-u7jRq34t9_x",
        "colab_type": "code",
        "colab": {}
      },
      "source": [
        "import numpy as np\n",
        "\n",
        "m_X = np.array([[1,2,3],[4,5,6],[7,8,9]])\n",
        "m_Y = np.array([[6, 2], [5, 3]])\n",
        "m_W = np.array([[1,3,5],[2,5,1],[2,3,8]])"
      ],
      "execution_count": 0,
      "outputs": []
    },
    {
      "cell_type": "code",
      "metadata": {
        "id": "7zmHHWWlvaYB",
        "colab_type": "code",
        "outputId": "111be04d-d609-4399-e540-911e936e1b8b",
        "colab": {
          "base_uri": "https://localhost:8080/",
          "height": 69
        }
      },
      "source": [
        "m_X"
      ],
      "execution_count": 0,
      "outputs": [
        {
          "output_type": "execute_result",
          "data": {
            "text/plain": [
              "array([[1, 2, 3],\n",
              "       [4, 5, 6],\n",
              "       [7, 8, 9]])"
            ]
          },
          "metadata": {
            "tags": []
          },
          "execution_count": 196
        }
      ]
    },
    {
      "cell_type": "code",
      "metadata": {
        "id": "3fHKyhOJvcak",
        "colab_type": "code",
        "outputId": "b7b3b3aa-026c-4475-b2c8-d55de523fddb",
        "colab": {
          "base_uri": "https://localhost:8080/",
          "height": 52
        }
      },
      "source": [
        "m_Y"
      ],
      "execution_count": 0,
      "outputs": [
        {
          "output_type": "execute_result",
          "data": {
            "text/plain": [
              "array([[6, 2],\n",
              "       [5, 3]])"
            ]
          },
          "metadata": {
            "tags": []
          },
          "execution_count": 197
        }
      ]
    },
    {
      "cell_type": "code",
      "metadata": {
        "id": "vQG7yyfjwLg9",
        "colab_type": "code",
        "outputId": "5f8e24a9-b5ab-46d2-8b0d-d34e4bea398f",
        "colab": {
          "base_uri": "https://localhost:8080/",
          "height": 69
        }
      },
      "source": [
        "m_W"
      ],
      "execution_count": 0,
      "outputs": [
        {
          "output_type": "execute_result",
          "data": {
            "text/plain": [
              "array([[1, 3, 5],\n",
              "       [2, 5, 1],\n",
              "       [2, 3, 8]])"
            ]
          },
          "metadata": {
            "tags": []
          },
          "execution_count": 201
        }
      ]
    },
    {
      "cell_type": "markdown",
      "metadata": {
        "id": "qa2Yre2rwgRk",
        "colab_type": "text"
      },
      "source": [
        "## Determinantes da matriz quadrada"
      ]
    },
    {
      "cell_type": "code",
      "metadata": {
        "id": "N6jwuC6twkyc",
        "colab_type": "code",
        "outputId": "71b95a32-43f1-46f3-e740-16f7bd8dd6a8",
        "colab": {
          "base_uri": "https://localhost:8080/",
          "height": 35
        }
      },
      "source": [
        "np.linalg.det(m_X)"
      ],
      "execution_count": 0,
      "outputs": [
        {
          "output_type": "execute_result",
          "data": {
            "text/plain": [
              "0.0"
            ]
          },
          "metadata": {
            "tags": []
          },
          "execution_count": 205
        }
      ]
    },
    {
      "cell_type": "code",
      "metadata": {
        "id": "QSvViNwzwnhI",
        "colab_type": "code",
        "outputId": "a4df7b87-aafc-4129-9017-a0eaa2a7de72",
        "colab": {
          "base_uri": "https://localhost:8080/",
          "height": 35
        }
      },
      "source": [
        "np.linalg.det(m_Y)"
      ],
      "execution_count": 0,
      "outputs": [
        {
          "output_type": "execute_result",
          "data": {
            "text/plain": [
              "8.000000000000002"
            ]
          },
          "metadata": {
            "tags": []
          },
          "execution_count": 206
        }
      ]
    },
    {
      "cell_type": "code",
      "metadata": {
        "id": "o8jwsnccw5id",
        "colab_type": "code",
        "outputId": "8d9af911-0ece-44db-973f-f7c9cd597bee",
        "colab": {
          "base_uri": "https://localhost:8080/",
          "height": 35
        }
      },
      "source": [
        "np.linalg.det(m_W)"
      ],
      "execution_count": 0,
      "outputs": [
        {
          "output_type": "execute_result",
          "data": {
            "text/plain": [
              "-25.000000000000007"
            ]
          },
          "metadata": {
            "tags": []
          },
          "execution_count": 207
        }
      ]
    },
    {
      "cell_type": "markdown",
      "metadata": {
        "id": "kkVaTgzgw_XJ",
        "colab_type": "text"
      },
      "source": [
        "A seguir, calculamos as inversas das matrizes acima definidas..."
      ]
    },
    {
      "cell_type": "code",
      "metadata": {
        "id": "b9FgWvTYvpik",
        "colab_type": "code",
        "outputId": "720c9f20-9a64-4ede-947c-bd62a3ec96a4",
        "colab": {
          "base_uri": "https://localhost:8080/",
          "height": 52
        }
      },
      "source": [
        "np.linalg.inv(m_Y)"
      ],
      "execution_count": 0,
      "outputs": [
        {
          "output_type": "execute_result",
          "data": {
            "text/plain": [
              "array([[ 0.375, -0.25 ],\n",
              "       [-0.625,  0.75 ]])"
            ]
          },
          "metadata": {
            "tags": []
          },
          "execution_count": 198
        }
      ]
    },
    {
      "cell_type": "code",
      "metadata": {
        "id": "KsdEt1kIvsM_",
        "colab_type": "code",
        "outputId": "e3ab4507-1c0c-4c1d-da67-21f92fe46bc2",
        "colab": {
          "base_uri": "https://localhost:8080/",
          "height": 331
        }
      },
      "source": [
        "np.linalg.inv(m_X)"
      ],
      "execution_count": 0,
      "outputs": [
        {
          "output_type": "error",
          "ename": "LinAlgError",
          "evalue": "ignored",
          "traceback": [
            "\u001b[0;31m---------------------------------------------------------------------------\u001b[0m",
            "\u001b[0;31mLinAlgError\u001b[0m                               Traceback (most recent call last)",
            "\u001b[0;32m<ipython-input-199-0932bdef3bf4>\u001b[0m in \u001b[0;36m<module>\u001b[0;34m()\u001b[0m\n\u001b[0;32m----> 1\u001b[0;31m \u001b[0mnp\u001b[0m\u001b[0;34m.\u001b[0m\u001b[0mlinalg\u001b[0m\u001b[0;34m.\u001b[0m\u001b[0minv\u001b[0m\u001b[0;34m(\u001b[0m\u001b[0mm_X\u001b[0m\u001b[0;34m)\u001b[0m\u001b[0;34m\u001b[0m\u001b[0;34m\u001b[0m\u001b[0m\n\u001b[0m",
            "\u001b[0;32m/usr/local/lib/python3.6/dist-packages/numpy/linalg/linalg.py\u001b[0m in \u001b[0;36minv\u001b[0;34m(a)\u001b[0m\n\u001b[1;32m    549\u001b[0m     \u001b[0msignature\u001b[0m \u001b[0;34m=\u001b[0m \u001b[0;34m'D->D'\u001b[0m \u001b[0;32mif\u001b[0m \u001b[0misComplexType\u001b[0m\u001b[0;34m(\u001b[0m\u001b[0mt\u001b[0m\u001b[0;34m)\u001b[0m \u001b[0;32melse\u001b[0m \u001b[0;34m'd->d'\u001b[0m\u001b[0;34m\u001b[0m\u001b[0;34m\u001b[0m\u001b[0m\n\u001b[1;32m    550\u001b[0m     \u001b[0mextobj\u001b[0m \u001b[0;34m=\u001b[0m \u001b[0mget_linalg_error_extobj\u001b[0m\u001b[0;34m(\u001b[0m\u001b[0m_raise_linalgerror_singular\u001b[0m\u001b[0;34m)\u001b[0m\u001b[0;34m\u001b[0m\u001b[0;34m\u001b[0m\u001b[0m\n\u001b[0;32m--> 551\u001b[0;31m     \u001b[0mainv\u001b[0m \u001b[0;34m=\u001b[0m \u001b[0m_umath_linalg\u001b[0m\u001b[0;34m.\u001b[0m\u001b[0minv\u001b[0m\u001b[0;34m(\u001b[0m\u001b[0ma\u001b[0m\u001b[0;34m,\u001b[0m \u001b[0msignature\u001b[0m\u001b[0;34m=\u001b[0m\u001b[0msignature\u001b[0m\u001b[0;34m,\u001b[0m \u001b[0mextobj\u001b[0m\u001b[0;34m=\u001b[0m\u001b[0mextobj\u001b[0m\u001b[0;34m)\u001b[0m\u001b[0;34m\u001b[0m\u001b[0;34m\u001b[0m\u001b[0m\n\u001b[0m\u001b[1;32m    552\u001b[0m     \u001b[0;32mreturn\u001b[0m \u001b[0mwrap\u001b[0m\u001b[0;34m(\u001b[0m\u001b[0mainv\u001b[0m\u001b[0;34m.\u001b[0m\u001b[0mastype\u001b[0m\u001b[0;34m(\u001b[0m\u001b[0mresult_t\u001b[0m\u001b[0;34m,\u001b[0m \u001b[0mcopy\u001b[0m\u001b[0;34m=\u001b[0m\u001b[0;32mFalse\u001b[0m\u001b[0;34m)\u001b[0m\u001b[0;34m)\u001b[0m\u001b[0;34m\u001b[0m\u001b[0;34m\u001b[0m\u001b[0m\n\u001b[1;32m    553\u001b[0m \u001b[0;34m\u001b[0m\u001b[0m\n",
            "\u001b[0;32m/usr/local/lib/python3.6/dist-packages/numpy/linalg/linalg.py\u001b[0m in \u001b[0;36m_raise_linalgerror_singular\u001b[0;34m(err, flag)\u001b[0m\n\u001b[1;32m     95\u001b[0m \u001b[0;34m\u001b[0m\u001b[0m\n\u001b[1;32m     96\u001b[0m \u001b[0;32mdef\u001b[0m \u001b[0m_raise_linalgerror_singular\u001b[0m\u001b[0;34m(\u001b[0m\u001b[0merr\u001b[0m\u001b[0;34m,\u001b[0m \u001b[0mflag\u001b[0m\u001b[0;34m)\u001b[0m\u001b[0;34m:\u001b[0m\u001b[0;34m\u001b[0m\u001b[0;34m\u001b[0m\u001b[0m\n\u001b[0;32m---> 97\u001b[0;31m     \u001b[0;32mraise\u001b[0m \u001b[0mLinAlgError\u001b[0m\u001b[0;34m(\u001b[0m\u001b[0;34m\"Singular matrix\"\u001b[0m\u001b[0;34m)\u001b[0m\u001b[0;34m\u001b[0m\u001b[0;34m\u001b[0m\u001b[0m\n\u001b[0m\u001b[1;32m     98\u001b[0m \u001b[0;34m\u001b[0m\u001b[0m\n\u001b[1;32m     99\u001b[0m \u001b[0;32mdef\u001b[0m \u001b[0m_raise_linalgerror_nonposdef\u001b[0m\u001b[0;34m(\u001b[0m\u001b[0merr\u001b[0m\u001b[0;34m,\u001b[0m \u001b[0mflag\u001b[0m\u001b[0;34m)\u001b[0m\u001b[0;34m:\u001b[0m\u001b[0;34m\u001b[0m\u001b[0;34m\u001b[0m\u001b[0m\n",
            "\u001b[0;31mLinAlgError\u001b[0m: Singular matrix"
          ]
        }
      ]
    },
    {
      "cell_type": "code",
      "metadata": {
        "id": "ANPBCnmVwOf4",
        "colab_type": "code",
        "outputId": "f00cc861-e20c-4b42-b7a5-8b5c1639d0ab",
        "colab": {
          "base_uri": "https://localhost:8080/",
          "height": 69
        }
      },
      "source": [
        "np.linalg.inv(m_W)"
      ],
      "execution_count": 0,
      "outputs": [
        {
          "output_type": "execute_result",
          "data": {
            "text/plain": [
              "array([[-1.48,  0.36,  0.88],\n",
              "       [ 0.56,  0.08, -0.36],\n",
              "       [ 0.16, -0.12,  0.04]])"
            ]
          },
          "metadata": {
            "tags": []
          },
          "execution_count": 202
        }
      ]
    },
    {
      "cell_type": "markdown",
      "metadata": {
        "id": "XAf9k1egxcdF",
        "colab_type": "text"
      },
      "source": [
        "# **Resolver sistemas de equações lineares**\n",
        "> Considere o sistema de euqações lineares abaixo:\n",
        "\n",
        "\\begin{equation}\n",
        "x + 3y + 5z = 10\\\\\n",
        "2x+ 5y + z = 8 \\\\\n",
        "2x + 3y + 8z= 3\n",
        "\\end{equation}\n",
        "\n",
        "Ou $Ax = b$. A solução deste sistema de equações é dada por $A^{-1}b$."
      ]
    },
    {
      "cell_type": "markdown",
      "metadata": {
        "id": "oNf5nqaLxhBY",
        "colab_type": "text"
      },
      "source": [
        "Ou seja, basta encontrarmos a inversa de A e multiplicarmos por b."
      ]
    },
    {
      "cell_type": "code",
      "metadata": {
        "id": "omzC5dGA0btc",
        "colab_type": "code",
        "outputId": "c7934d39-a539-4d06-cb03-1c2aaeab998f",
        "colab": {
          "base_uri": "https://localhost:8080/",
          "height": 69
        }
      },
      "source": [
        "A= np.array([[1, 3, 5], [2,5,1], [2,3,8]])\n",
        "np.linalg.inv(A)"
      ],
      "execution_count": 0,
      "outputs": [
        {
          "output_type": "execute_result",
          "data": {
            "text/plain": [
              "array([[-1.48,  0.36,  0.88],\n",
              "       [ 0.56,  0.08, -0.36],\n",
              "       [ 0.16, -0.12,  0.04]])"
            ]
          },
          "metadata": {
            "tags": []
          },
          "execution_count": 208
        }
      ]
    },
    {
      "cell_type": "markdown",
      "metadata": {
        "id": "AiXI3oxB05iE",
        "colab_type": "text"
      },
      "source": [
        "Agora basta multiplicar a matriz inversa $A^{-1}$ acima por b. "
      ]
    },
    {
      "cell_type": "code",
      "metadata": {
        "id": "XoGebKDa2Fcd",
        "colab_type": "code",
        "colab": {}
      },
      "source": [
        "A_Inv = np.linalg.inv(A)"
      ],
      "execution_count": 0,
      "outputs": []
    },
    {
      "cell_type": "code",
      "metadata": {
        "id": "3dAVq8dg19VI",
        "colab_type": "code",
        "outputId": "b4b91e7f-4e91-48c9-fd81-06361bbd5d92",
        "colab": {
          "base_uri": "https://localhost:8080/",
          "height": 69
        }
      },
      "source": [
        "A_Inv.dot(b)"
      ],
      "execution_count": 0,
      "outputs": [
        {
          "output_type": "execute_result",
          "data": {
            "text/plain": [
              "array([[-9.28],\n",
              "       [ 5.16],\n",
              "       [ 0.76]])"
            ]
          },
          "metadata": {
            "tags": []
          },
          "execution_count": 212
        }
      ]
    },
    {
      "cell_type": "markdown",
      "metadata": {
        "id": "zso6hTnB17cm",
        "colab_type": "text"
      },
      "source": [
        "Uma forma fácil de se fazer isso é utilizar a expressão abaixo:"
      ]
    },
    {
      "cell_type": "code",
      "metadata": {
        "id": "ptQHIVll1E4P",
        "colab_type": "code",
        "outputId": "dd7394a8-a9ff-4cb6-c3b4-39dce682fb9d",
        "colab": {
          "base_uri": "https://localhost:8080/",
          "height": 69
        }
      },
      "source": [
        "b= np.array([[10],[8],[3]])\n",
        "b"
      ],
      "execution_count": 0,
      "outputs": [
        {
          "output_type": "execute_result",
          "data": {
            "text/plain": [
              "array([[10],\n",
              "       [ 8],\n",
              "       [ 3]])"
            ]
          },
          "metadata": {
            "tags": []
          },
          "execution_count": 209
        }
      ]
    },
    {
      "cell_type": "code",
      "metadata": {
        "id": "X4VL8lyY1Xus",
        "colab_type": "code",
        "outputId": "ef78c778-3e66-4b18-9875-bb8f5d794cab",
        "colab": {
          "base_uri": "https://localhost:8080/",
          "height": 69
        }
      },
      "source": [
        "np.linalg.solve(A, b)"
      ],
      "execution_count": 0,
      "outputs": [
        {
          "output_type": "execute_result",
          "data": {
            "text/plain": [
              "array([[-9.28],\n",
              "       [ 5.16],\n",
              "       [ 0.76]])"
            ]
          },
          "metadata": {
            "tags": []
          },
          "execution_count": 210
        }
      ]
    },
    {
      "cell_type": "markdown",
      "metadata": {
        "id": "fJKmwTS59-Bc",
        "colab_type": "text"
      },
      "source": [
        "# **Empilhar ndarray**"
      ]
    },
    {
      "cell_type": "code",
      "metadata": {
        "id": "zEI-yBy3-E46",
        "colab_type": "code",
        "colab": {}
      },
      "source": [
        "# Preparando o exemplo:\n",
        "np.random.seed(20111974)\n",
        "m_Array1_2_X_3= np.random.randn(2, 3)\n",
        "m_Array1_2_X_3"
      ],
      "execution_count": 0,
      "outputs": []
    },
    {
      "cell_type": "code",
      "metadata": {
        "id": "82W5OM2G-tBK",
        "colab_type": "code",
        "colab": {}
      },
      "source": [
        "np.random.seed(19741120)\n",
        "m_Array2_2_X_3= np.random.randn(2, 3)\n",
        "m_Array2_2_X_3"
      ],
      "execution_count": 0,
      "outputs": []
    },
    {
      "cell_type": "markdown",
      "metadata": {
        "id": "UYsAqBRp--79",
        "colab_type": "text"
      },
      "source": [
        "## Método 1 - Concatenate()"
      ]
    },
    {
      "cell_type": "code",
      "metadata": {
        "id": "bK70vaq8_KMH",
        "colab_type": "code",
        "colab": {}
      },
      "source": [
        "np.concatenate([m_Array1_2_X_3, m_Array2_2_X_3], axis=0) # axis= 0 diz ao NumPy para empilhar as colunas"
      ],
      "execution_count": 0,
      "outputs": []
    },
    {
      "cell_type": "markdown",
      "metadata": {
        "id": "CpaXBkm8_BF8",
        "colab_type": "text"
      },
      "source": [
        "## Método 2 - np.r_[a, b]"
      ]
    },
    {
      "cell_type": "code",
      "metadata": {
        "id": "3QnVUzAY_teZ",
        "colab_type": "code",
        "colab": {}
      },
      "source": [
        "np.r_[m_Array1_2_X_3, m_Array2_2_X_3]"
      ],
      "execution_count": 0,
      "outputs": []
    },
    {
      "cell_type": "markdown",
      "metadata": {
        "id": "XmSPbDP6_20W",
        "colab_type": "text"
      },
      "source": [
        "**Obs**.: Eu, particularmente, prefiro este método!"
      ]
    },
    {
      "cell_type": "markdown",
      "metadata": {
        "id": "dzVKW_wX_Dzw",
        "colab_type": "text"
      },
      "source": [
        "## Método 3 - np.vstack()"
      ]
    },
    {
      "cell_type": "code",
      "metadata": {
        "id": "uL7lEN_mABID",
        "colab_type": "code",
        "colab": {}
      },
      "source": [
        "np.vstack([m_Array1_2_X_3, m_Array2_2_X_3])"
      ],
      "execution_count": 0,
      "outputs": []
    },
    {
      "cell_type": "markdown",
      "metadata": {
        "id": "68icJ-2ZAdRj",
        "colab_type": "text"
      },
      "source": [
        "# Empilhar arrays\n",
        "> Dados os arrays abaixo:"
      ]
    },
    {
      "cell_type": "code",
      "metadata": {
        "id": "jnxPY8c0AhVS",
        "colab_type": "code",
        "colab": {}
      },
      "source": [
        "v_Array1= np.arange(10).reshape(1,-1)\n",
        "v_Array1"
      ],
      "execution_count": 0,
      "outputs": []
    },
    {
      "cell_type": "code",
      "metadata": {
        "id": "20xyHm5XDsvK",
        "colab_type": "code",
        "colab": {}
      },
      "source": [
        "np.random.seed(20111974)\n",
        "v_Array1_1= np.random.randn(1, 10)\n",
        "v_Array"
      ],
      "execution_count": 0,
      "outputs": []
    },
    {
      "cell_type": "code",
      "metadata": {
        "id": "X7nxwmzAA8sv",
        "colab_type": "code",
        "colab": {}
      },
      "source": [
        "v_Array2= np.arange(10).reshape(1,-1)\n",
        "v_Array2"
      ],
      "execution_count": 0,
      "outputs": []
    },
    {
      "cell_type": "code",
      "metadata": {
        "id": "xY0cNvUBEE7v",
        "colab_type": "code",
        "colab": {}
      },
      "source": [
        "np.random.seed(19741120)\n",
        "v_Array2_1= np.random.randn(1, 10)\n",
        "v_Array2_1"
      ],
      "execution_count": 0,
      "outputs": []
    },
    {
      "cell_type": "markdown",
      "metadata": {
        "id": "usmiFRd0EV6Z",
        "colab_type": "text"
      },
      "source": [
        "**Curiosidade**\n",
        "* Qual a diferença entre gerar os arrays v_Array1 e v_Array1_1?\n",
        "* Porque para gerar v_Array1 eu uso reshape(1,-1)?"
      ]
    },
    {
      "cell_type": "markdown",
      "metadata": {
        "id": "qzd-licFBCW1",
        "colab_type": "text"
      },
      "source": [
        "Empilhando os arrays..."
      ]
    },
    {
      "cell_type": "markdown",
      "metadata": {
        "id": "v5CltQxXBEeS",
        "colab_type": "text"
      },
      "source": [
        "## Método 1 - concatenate()\n"
      ]
    },
    {
      "cell_type": "code",
      "metadata": {
        "id": "nyE1FiDCBYa-",
        "colab_type": "code",
        "colab": {}
      },
      "source": [
        "np.concatenate([v_Array1, v_Array2], axis= 0) # axis= 0 diz ao NumPy para empilhar as linhas, ou seja, colocar uma linha embaixo da outra"
      ],
      "execution_count": 0,
      "outputs": []
    },
    {
      "cell_type": "code",
      "metadata": {
        "id": "SqUp4aTGEzZn",
        "colab_type": "code",
        "colab": {}
      },
      "source": [
        "np.concatenate([v_Array1_1, v_Array2_1], axis= 0)"
      ],
      "execution_count": 0,
      "outputs": []
    },
    {
      "cell_type": "markdown",
      "metadata": {
        "id": "p_IJErxkBNG2",
        "colab_type": "text"
      },
      "source": [
        "## Método 2"
      ]
    },
    {
      "cell_type": "code",
      "metadata": {
        "id": "unObwXBzFPFT",
        "colab_type": "code",
        "colab": {}
      },
      "source": [
        "np.r_[v_Array1, v_Array2]"
      ],
      "execution_count": 0,
      "outputs": []
    },
    {
      "cell_type": "markdown",
      "metadata": {
        "colab_type": "text",
        "id": "ur7lT0kmFc4N"
      },
      "source": [
        "## Método 3 - np.vstack()"
      ]
    },
    {
      "cell_type": "code",
      "metadata": {
        "colab_type": "code",
        "id": "-xdQWOSuFc4Q",
        "colab": {}
      },
      "source": [
        "np.vstack([v_Array1, v_Array2])"
      ],
      "execution_count": 0,
      "outputs": []
    },
    {
      "cell_type": "markdown",
      "metadata": {
        "id": "kIgU1YBw0OeM",
        "colab_type": "text"
      },
      "source": [
        "___\n",
        "# **Selecionar itens que satisfazem condições**\n",
        "> Considere o array a seguir:"
      ]
    },
    {
      "cell_type": "code",
      "metadata": {
        "id": "e2pL5anBV0DI",
        "colab_type": "code",
        "outputId": "7f451f2d-9c26-491e-e932-bb145f9d1eeb",
        "colab": {
          "base_uri": "https://localhost:8080/",
          "height": 35
        }
      },
      "source": [
        "m_X= np.arange(10, 0, -1)\n",
        "m_X"
      ],
      "execution_count": 0,
      "outputs": [
        {
          "output_type": "execute_result",
          "data": {
            "text/plain": [
              "array([10,  9,  8,  7,  6,  5,  4,  3,  2,  1])"
            ]
          },
          "metadata": {
            "tags": []
          },
          "execution_count": 83
        }
      ]
    },
    {
      "cell_type": "markdown",
      "metadata": {
        "id": "i9HuZZAfV302",
        "colab_type": "text"
      },
      "source": [
        "Selecionar somente os itens > 7:"
      ]
    },
    {
      "cell_type": "markdown",
      "metadata": {
        "id": "ZCESvr7iXMkV",
        "colab_type": "text"
      },
      "source": [
        "## Usando np.where()"
      ]
    },
    {
      "cell_type": "code",
      "metadata": {
        "id": "O_ZBaWxfWA9o",
        "colab_type": "code",
        "outputId": "d0373d8d-eaa9-43b8-f73a-b1fd0e35857f",
        "colab": {
          "base_uri": "https://localhost:8080/",
          "height": 35
        }
      },
      "source": [
        "l_Indices= np.where(m_X > 7)\n",
        "l_Indices"
      ],
      "execution_count": 0,
      "outputs": [
        {
          "output_type": "execute_result",
          "data": {
            "text/plain": [
              "(array([0, 1, 2]),)"
            ]
          },
          "metadata": {
            "tags": []
          },
          "execution_count": 73
        }
      ]
    },
    {
      "cell_type": "markdown",
      "metadata": {
        "id": "EdWlfPOZWPME",
        "colab_type": "text"
      },
      "source": [
        "**Atenção**: Capturamos os índices. Para selecionar os itens, basta fazer:"
      ]
    },
    {
      "cell_type": "code",
      "metadata": {
        "id": "tOxs3iYQWWxu",
        "colab_type": "code",
        "outputId": "ceb6f6b9-4fd5-45a4-9741-94dfbdff5080",
        "colab": {
          "base_uri": "https://localhost:8080/",
          "height": 35
        }
      },
      "source": [
        "m_Y= m_X[l_Indices]\n",
        "m_Y"
      ],
      "execution_count": 0,
      "outputs": [
        {
          "output_type": "execute_result",
          "data": {
            "text/plain": [
              "array([10,  9,  8])"
            ]
          },
          "metadata": {
            "tags": []
          },
          "execution_count": 74
        }
      ]
    },
    {
      "cell_type": "markdown",
      "metadata": {
        "id": "PGsENqkaXRjh",
        "colab_type": "text"
      },
      "source": [
        "## Alternativa 1"
      ]
    },
    {
      "cell_type": "code",
      "metadata": {
        "id": "YbdRNk1WXTLT",
        "colab_type": "code",
        "outputId": "91f9dbfa-8e55-4c43-e9f6-d29281a43168",
        "colab": {
          "base_uri": "https://localhost:8080/",
          "height": 35
        }
      },
      "source": [
        "m_X[m_X > 7]"
      ],
      "execution_count": 0,
      "outputs": [
        {
          "output_type": "execute_result",
          "data": {
            "text/plain": [
              "array([10,  9,  8])"
            ]
          },
          "metadata": {
            "tags": []
          },
          "execution_count": 315
        }
      ]
    },
    {
      "cell_type": "markdown",
      "metadata": {
        "id": "jijpzFxcSQC8",
        "colab_type": "text"
      },
      "source": [
        "Acho que vale a pena quebrar esta solução para entendermos melhor como as coisas funcionam:#"
      ]
    },
    {
      "cell_type": "code",
      "metadata": {
        "id": "rujhP2LQSWsq",
        "colab_type": "code",
        "colab": {}
      },
      "source": [
        " # Primeiro, avalie o resultado de m_X > 7:"
      ],
      "execution_count": 0,
      "outputs": []
    },
    {
      "cell_type": "code",
      "metadata": {
        "id": "FYZaBsasSb3N",
        "colab_type": "code",
        "outputId": "5fcea123-c60b-4752-9709-af6300a77975",
        "colab": {
          "base_uri": "https://localhost:8080/",
          "height": 52
        }
      },
      "source": [
        "m_X > 7"
      ],
      "execution_count": 0,
      "outputs": [
        {
          "output_type": "execute_result",
          "data": {
            "text/plain": [
              "array([ True,  True,  True, False, False, False, False, False, False,\n",
              "       False])"
            ]
          },
          "metadata": {
            "tags": []
          },
          "execution_count": 90
        }
      ]
    },
    {
      "cell_type": "markdown",
      "metadata": {
        "id": "Ci5lT9nmSfsX",
        "colab_type": "text"
      },
      "source": [
        "Agora, com este resultado, fica fácil entender como o Python seleciona os elementos. Consegue explicar?"
      ]
    },
    {
      "cell_type": "markdown",
      "metadata": {
        "id": "1v5Lfin0GGKD",
        "colab_type": "text"
      },
      "source": [
        "# Substituir itens baseado em condições\n",
        "> Substituir os valores negativos do array abaixo por 0."
      ]
    },
    {
      "cell_type": "code",
      "metadata": {
        "id": "NUANFy-fNXf5",
        "colab_type": "code",
        "outputId": "3da382eb-5cac-4576-b765-2dd54eccf3f3",
        "colab": {
          "base_uri": "https://localhost:8080/",
          "height": 104
        }
      },
      "source": [
        "# Preparando o exemplo:\n",
        "np.random.seed(20111974)\n",
        "m_X= np.array(np.random.randint(0, 10, size= 100))\n",
        "m_X"
      ],
      "execution_count": 0,
      "outputs": [
        {
          "output_type": "execute_result",
          "data": {
            "text/plain": [
              "array([8, 8, 2, 8, 9, 1, 8, 0, 4, 2, 0, 8, 9, 3, 7, 1, 3, 2, 9, 7, 7, 9,\n",
              "       5, 6, 8, 7, 0, 9, 3, 9, 3, 1, 8, 6, 3, 5, 4, 1, 2, 9, 8, 6, 6, 1,\n",
              "       0, 9, 2, 0, 7, 5, 5, 4, 4, 2, 7, 2, 7, 9, 3, 1, 5, 0, 1, 2, 3, 8,\n",
              "       7, 5, 4, 0, 5, 9, 6, 6, 1, 3, 6, 0, 4, 9, 2, 1, 0, 9, 1, 4, 2, 9,\n",
              "       7, 9, 5, 3, 7, 6, 3, 9, 8, 4, 3, 0])"
            ]
          },
          "metadata": {
            "tags": []
          },
          "execution_count": 118
        }
      ]
    },
    {
      "cell_type": "code",
      "metadata": {
        "id": "RE3SuzqrNtWz",
        "colab_type": "code",
        "outputId": "8094d3d4-1f9d-47b3-e1df-8c4f1f572334",
        "colab": {
          "base_uri": "https://localhost:8080/",
          "height": 35
        }
      },
      "source": [
        "# Lista aleatória de índices que vou alterar\n",
        "np.random.seed(20111974)\n",
        "l_Idx= np.random.randint(0, 99, 9)\n",
        "np.sort(l_Idx)"
      ],
      "execution_count": 0,
      "outputs": [
        {
          "output_type": "execute_result",
          "data": {
            "text/plain": [
              "array([ 2,  8, 27, 40, 42, 46, 60, 81, 88])"
            ]
          },
          "metadata": {
            "tags": []
          },
          "execution_count": 119
        }
      ]
    },
    {
      "cell_type": "code",
      "metadata": {
        "id": "dWVyI40uN2d2",
        "colab_type": "code",
        "outputId": "496a6215-f80e-4801-890a-7401f62b0452",
        "colab": {
          "base_uri": "https://localhost:8080/",
          "height": 121
        }
      },
      "source": [
        "for i in l_Idx:\n",
        "    m_X[i] = -1*m_X[i]\n",
        "\n",
        "m_Y = m_X.copy()\n",
        "m_Y"
      ],
      "execution_count": 0,
      "outputs": [
        {
          "output_type": "execute_result",
          "data": {
            "text/plain": [
              "array([ 8,  8, -2,  8,  9,  1,  8,  0, -4,  2,  0,  8,  9,  3,  7,  1,  3,\n",
              "        2,  9,  7,  7,  9,  5,  6,  8,  7,  0, -9,  3,  9,  3,  1,  8,  6,\n",
              "        3,  5,  4,  1,  2,  9, -8,  6, -6,  1,  0,  9, -2,  0,  7,  5,  5,\n",
              "        4,  4,  2,  7,  2,  7,  9,  3,  1, -5,  0,  1,  2,  3,  8,  7,  5,\n",
              "        4,  0,  5,  9,  6,  6,  1,  3,  6,  0,  4,  9,  2, -1,  0,  9,  1,\n",
              "        4,  2,  9, -7,  9,  5,  3,  7,  6,  3,  9,  8,  4,  3,  0])"
            ]
          },
          "metadata": {
            "tags": []
          },
          "execution_count": 120
        }
      ]
    },
    {
      "cell_type": "markdown",
      "metadata": {
        "id": "3Whuu854OJDZ",
        "colab_type": "text"
      },
      "source": [
        "## Substituir os valores negativos por 0"
      ]
    },
    {
      "cell_type": "code",
      "metadata": {
        "id": "C-eKqPrfOQF6",
        "colab_type": "code",
        "outputId": "b77cd84e-3cb0-4f08-ce3e-dee2dd662688",
        "colab": {
          "base_uri": "https://localhost:8080/",
          "height": 104
        }
      },
      "source": [
        "m_Y[m_Y < 0] = 0\n",
        "m_Y"
      ],
      "execution_count": 0,
      "outputs": [
        {
          "output_type": "execute_result",
          "data": {
            "text/plain": [
              "array([8, 8, 0, 8, 9, 1, 8, 0, 0, 2, 0, 8, 9, 3, 7, 1, 3, 2, 9, 7, 7, 9,\n",
              "       5, 6, 8, 7, 0, 0, 3, 9, 3, 1, 8, 6, 3, 5, 4, 1, 2, 9, 0, 6, 0, 1,\n",
              "       0, 9, 0, 0, 7, 5, 5, 4, 4, 2, 7, 2, 7, 9, 3, 1, 0, 0, 1, 2, 3, 8,\n",
              "       7, 5, 4, 0, 5, 9, 6, 6, 1, 3, 6, 0, 4, 9, 2, 0, 0, 9, 1, 4, 2, 9,\n",
              "       0, 9, 5, 3, 7, 6, 3, 9, 8, 4, 3, 0])"
            ]
          },
          "metadata": {
            "tags": []
          },
          "execution_count": 121
        }
      ]
    },
    {
      "cell_type": "markdown",
      "metadata": {
        "id": "eDLM0_JSZlfB",
        "colab_type": "text"
      },
      "source": [
        "Observe acima que os valores negativos foram substituídos por 0, como queríamos."
      ]
    },
    {
      "cell_type": "markdown",
      "metadata": {
        "id": "AEHJ0rA3dHHU",
        "colab_type": "text"
      },
      "source": [
        "## Substituir os valores negativos por 0 e os positivos por 1"
      ]
    },
    {
      "cell_type": "code",
      "metadata": {
        "id": "y32J8SRNZwRF",
        "colab_type": "code",
        "outputId": "217ff49f-0711-4567-ddee-36968753b336",
        "colab": {
          "base_uri": "https://localhost:8080/",
          "height": 121
        }
      },
      "source": [
        "m_Y = m_X.copy()\n",
        "m_Y"
      ],
      "execution_count": 0,
      "outputs": [
        {
          "output_type": "execute_result",
          "data": {
            "text/plain": [
              "array([ 8,  8, -2,  8,  9,  1,  8,  0, -4,  2,  0,  8,  9,  3,  7,  1,  3,\n",
              "        2,  9,  7,  7,  9,  5,  6,  8,  7,  0, -9,  3,  9,  3,  1,  8,  6,\n",
              "        3,  5,  4,  1,  2,  9, -8,  6, -6,  1,  0,  9, -2,  0,  7,  5,  5,\n",
              "        4,  4,  2,  7,  2,  7,  9,  3,  1, -5,  0,  1,  2,  3,  8,  7,  5,\n",
              "        4,  0,  5,  9,  6,  6,  1,  3,  6,  0,  4,  9,  2, -1,  0,  9,  1,\n",
              "        4,  2,  9, -7,  9,  5,  3,  7,  6,  3,  9,  8,  4,  3,  0])"
            ]
          },
          "metadata": {
            "tags": []
          },
          "execution_count": 122
        }
      ]
    },
    {
      "cell_type": "code",
      "metadata": {
        "id": "1bSD9Fs6P5wW",
        "colab_type": "code",
        "outputId": "96942c74-6bb7-46cb-bab2-8a7c428149b5",
        "colab": {
          "base_uri": "https://localhost:8080/",
          "height": 104
        }
      },
      "source": [
        "m_Y = np.where(m_Y < 0, 0, 1)\n",
        "m_Y"
      ],
      "execution_count": 0,
      "outputs": [
        {
          "output_type": "execute_result",
          "data": {
            "text/plain": [
              "array([1, 1, 0, 1, 1, 1, 1, 1, 0, 1, 1, 1, 1, 1, 1, 1, 1, 1, 1, 1, 1, 1,\n",
              "       1, 1, 1, 1, 1, 0, 1, 1, 1, 1, 1, 1, 1, 1, 1, 1, 1, 1, 0, 1, 0, 1,\n",
              "       1, 1, 0, 1, 1, 1, 1, 1, 1, 1, 1, 1, 1, 1, 1, 1, 0, 1, 1, 1, 1, 1,\n",
              "       1, 1, 1, 1, 1, 1, 1, 1, 1, 1, 1, 1, 1, 1, 1, 0, 1, 1, 1, 1, 1, 1,\n",
              "       0, 1, 1, 1, 1, 1, 1, 1, 1, 1, 1, 1])"
            ]
          },
          "metadata": {
            "tags": []
          },
          "execution_count": 123
        }
      ]
    },
    {
      "cell_type": "markdown",
      "metadata": {
        "id": "i027scjl0qkm",
        "colab_type": "text"
      },
      "source": [
        "___\n",
        "# Outliers\n",
        "> Qualquer ponto/observação que é incomum quando comparado com todos os outros pontos/observações."
      ]
    },
    {
      "cell_type": "markdown",
      "metadata": {
        "id": "UnDTqRnZHQ3W",
        "colab_type": "text"
      },
      "source": [
        "## Z-Score\n",
        "\n",
        "* Z-Score pode ser utilizado para detectar Outliers.\n",
        "* É a diferença entre o valor e a média da amostra expressa como o número de desvios-padrão. \n",
        "* Se o escore z for menor que 2,5 ou maior que 2,5, o valor estará nos 5% do menor ou maior valor (2,5% dos valores em ambas as extremidades da distribuição). No entanto, é pratica comum utilizarmos 3 ao invés dos 2,5.\n",
        "\n",
        "![Z_Score](https://github.com/MathMachado/Python_RFB/blob/master/Material/Z_Score.png?raw=true)"
      ]
    },
    {
      "cell_type": "markdown",
      "metadata": {
        "id": "N7gb2zhtd0uM",
        "colab_type": "text"
      },
      "source": [
        "## IQR Score\n",
        "\n",
        "* O Intervalo interquartil (IQR) é uma medida de dispersão estatística, sendo igual à diferença entre os percentis 75 e 25, ou entre quartis superiores e inferiores, IQR = Q3 - Q1."
      ]
    },
    {
      "cell_type": "markdown",
      "metadata": {
        "id": "lMmWOKNvghI7",
        "colab_type": "text"
      },
      "source": [
        "![BoxPlot](https://github.com/MathMachado/Python_RFB/blob/master/Material/boxplot.png?raw=true)"
      ]
    },
    {
      "cell_type": "markdown",
      "metadata": {
        "id": "z3VZdU8rICZA",
        "colab_type": "text"
      },
      "source": [
        "## Desafio\n",
        "> Substituir os outliers do array por:\n",
        "1. Q1-1.5\\*IQR, se ponto < Q1-1.5\\*IQR\n",
        "2. Q3+1.5\\*IQR, se ponto > Q1+1.5\\*IQR"
      ]
    },
    {
      "cell_type": "code",
      "metadata": {
        "id": "RL0Zb0fyDory",
        "colab_type": "code",
        "colab": {}
      },
      "source": [
        "# Preparando o exemplo:\n",
        "np.random.seed(19741120)\n",
        "m_X= np.array(np.random.normal(100, 10, size= 100))"
      ],
      "execution_count": 0,
      "outputs": []
    },
    {
      "cell_type": "code",
      "metadata": {
        "id": "ZnmykyahLWX9",
        "colab_type": "code",
        "outputId": "d8328bc0-1389-48ac-95aa-abda124a1732",
        "colab": {
          "base_uri": "https://localhost:8080/",
          "height": 35
        }
      },
      "source": [
        "# Algumas estatísticas descritivas:\n",
        "f'Média: {np.mean(m_X)}; Mediana: {np.median(m_X)}; STD: {np.std(m_X)}'"
      ],
      "execution_count": 0,
      "outputs": [
        {
          "output_type": "execute_result",
          "data": {
            "text/plain": [
              "'Média: 100.18633633362035; Mediana: 99.33695311387913; STD: 10.028092450008492'"
            ]
          },
          "metadata": {
            "tags": []
          },
          "execution_count": 144
        }
      ]
    },
    {
      "cell_type": "code",
      "metadata": {
        "id": "xITRffycEY9h",
        "colab_type": "code",
        "outputId": "b8c746b3-65a9-4e96-f4dc-aeafa70955fc",
        "colab": {
          "base_uri": "https://localhost:8080/",
          "height": 35
        }
      },
      "source": [
        "# Lista aleatória de índices que vou alterar\n",
        "np.random.seed(20111974)\n",
        "l_Idx= np.random.randint(0, 99, 10)\n",
        "np.sort(l_Idx)"
      ],
      "execution_count": 0,
      "outputs": [
        {
          "output_type": "execute_result",
          "data": {
            "text/plain": [
              "array([ 2,  8, 27, 40, 42, 46, 60, 81, 88, 88])"
            ]
          },
          "metadata": {
            "tags": []
          },
          "execution_count": 145
        }
      ]
    },
    {
      "cell_type": "code",
      "metadata": {
        "id": "Q5FP8Ip2EeLa",
        "colab_type": "code",
        "outputId": "5a6cae16-5427-49ea-f6de-e6936ac5de67",
        "colab": {
          "base_uri": "https://localhost:8080/",
          "height": 273
        }
      },
      "source": [
        "m_X2= m_X.copy()\n",
        "for i in l_Idx:\n",
        "    m_X2[i]= 2*m_X2[i]"
      ],
      "execution_count": 0,
      "outputs": [
        {
          "output_type": "execute_result",
          "data": {
            "text/plain": [
              "<matplotlib.axes._subplots.AxesSubplot at 0x7f23b9196080>"
            ]
          },
          "metadata": {
            "tags": []
          },
          "execution_count": 147
        },
        {
          "output_type": "display_data",
          "data": {
            "image/png": "[encoded data removed]",
            "text/plain": [
              "<Figure size 432x288 with 1 Axes>"
            ]
          },
          "metadata": {
            "tags": []
          }
        }
      ]
    },
    {
      "cell_type": "code",
      "metadata": {
        "id": "U993i1GJg2hk",
        "colab_type": "code",
        "colab": {}
      },
      "source": [
        "# Import a biblioteca seaborn:\n",
        "import seaborn as sns\n",
        "sns.boxplot(y= m_X2)"
      ],
      "execution_count": 0,
      "outputs": []
    },
    {
      "cell_type": "markdown",
      "metadata": {
        "id": "VtenLK1uK1Pi",
        "colab_type": "text"
      },
      "source": [
        "Consegue identificar os outliers do array?"
      ]
    },
    {
      "cell_type": "markdown",
      "metadata": {
        "id": "e3sHuGVGFBdW",
        "colab_type": "text"
      },
      "source": [
        "## Objetivo\n",
        "> Desejamos substituir os valores negativos pela média dos dados. \n",
        "\n",
        "* Como fazer isso?"
      ]
    },
    {
      "cell_type": "markdown",
      "metadata": {
        "id": "RSegPNKCI-dS",
        "colab_type": "text"
      },
      "source": [
        "### Siga os passos a seguir\n",
        "1. Calcule estatísticas descritivas antes das transformações par avaliar o impacto;\n",
        "    * Calcule média, mediana e desvio-padrão dos dados originais;\n",
        "2. Calcule os valores a seguir:\n",
        "    * Q1, Q3\n",
        "    * IQR = Q3-Q1\n",
        "    * Lim_Inf = Q1-1.5\\*IQR\n",
        "    * Lim_Sup = Q3+1.5\\*IQR\n",
        "3. Proceda à substituição:\n",
        "    * Se m_X2[i] < Lim_Inf então m_X2[i]= Lim_Inf\n",
        "    * Se m_X2[i] > Lim_Sup então m_X2[i]= Lim_Sup\n",
        "4. Calcule as estatísticas descritivas após as substituições e compare com os valores antes das transformações."
      ]
    },
    {
      "cell_type": "markdown",
      "metadata": {
        "id": "9DQ7YnWaFn4v",
        "colab_type": "text"
      },
      "source": [
        "### Minha solução\n"
      ]
    },
    {
      "cell_type": "markdown",
      "metadata": {
        "id": "RBXJbTeGLC7Q",
        "colab_type": "text"
      },
      "source": [
        "1. Estatísticas Descritivas antes das transformações:"
      ]
    },
    {
      "cell_type": "code",
      "metadata": {
        "id": "QueKYn7MLG12",
        "colab_type": "code",
        "outputId": "57f86eb9-2a63-4e21-9d7d-889449202a09",
        "colab": {
          "base_uri": "https://localhost:8080/",
          "height": 35
        }
      },
      "source": [
        "# Algumas estatísticas descritivas:\n",
        "f'Média: {np.mean(m_X2)}; Mediana: {np.median(m_X2)}; STD: {np.std(m_X2)}'"
      ],
      "execution_count": 0,
      "outputs": [
        {
          "output_type": "execute_result",
          "data": {
            "text/plain": [
              "'Média: 110.56825524166379; Mediana: 99.98555955648851; STD: 35.484921348581274'"
            ]
          },
          "metadata": {
            "tags": []
          },
          "execution_count": 148
        }
      ]
    },
    {
      "cell_type": "markdown",
      "metadata": {
        "id": "oOBJ8INWL5fo",
        "colab_type": "text"
      },
      "source": [
        "Observe o quanto nossos dados estão distorcidos dos valores originalmente utilizados."
      ]
    },
    {
      "cell_type": "markdown",
      "metadata": {
        "id": "MX-fJeh2MBTD",
        "colab_type": "text"
      },
      "source": [
        "2. Calcular Q1, Q3 e IQR"
      ]
    },
    {
      "cell_type": "code",
      "metadata": {
        "id": "JlsPiQeGMGeU",
        "colab_type": "code",
        "colab": {}
      },
      "source": [
        "Q1= np.percentile(m_X2, q=[25])\n",
        "Q3= np.percentile(m_X2, q=[75])\n",
        "IQR= Q3-Q1\n",
        "Lim_Inf= Q1-1.5*IQR\n",
        "Lim_Sup= Q3+1.5*IQR"
      ],
      "execution_count": 0,
      "outputs": []
    },
    {
      "cell_type": "code",
      "metadata": {
        "id": "VF2NJ3rCeI1_",
        "colab_type": "code",
        "outputId": "83d7c549-d22c-43fa-c2a2-c20faff71e5c",
        "colab": {
          "base_uri": "https://localhost:8080/",
          "height": 35
        }
      },
      "source": [
        "f'Q1: {Q1}; Q3: {Q3}; Lim_Inf: {Lim_Inf}; Lim_Sup: {Lim_Sup}'"
      ],
      "execution_count": 0,
      "outputs": [
        {
          "output_type": "execute_result",
          "data": {
            "text/plain": [
              "'Q1: [94.39845112]; Q3: [111.13231538]; Lim_Inf: [69.29765473]; Lim_Sup: [136.23311177]'"
            ]
          },
          "metadata": {
            "tags": []
          },
          "execution_count": 151
        }
      ]
    },
    {
      "cell_type": "markdown",
      "metadata": {
        "id": "JjnwJ7HwMxcl",
        "colab_type": "text"
      },
      "source": [
        "3. Substituir\n",
        "* Se m_X[i] < Lim_Inf então m_X[i]= Lim_Inf\n",
        "* Se m_X[i] > Lim_Sup então m_X[i]= Lim_Sup"
      ]
    },
    {
      "cell_type": "code",
      "metadata": {
        "id": "hcAn-IwVfbcI",
        "colab_type": "code",
        "colab": {}
      },
      "source": [
        "m_Y= m_X2.copy()"
      ],
      "execution_count": 0,
      "outputs": []
    },
    {
      "cell_type": "code",
      "metadata": {
        "id": "J3SSE45oM9oh",
        "colab_type": "code",
        "outputId": "f2af283c-c264-4558-8854-dd70c946f7e2",
        "colab": {
          "base_uri": "https://localhost:8080/",
          "height": 451
        }
      },
      "source": [
        "m_Y[m_Y < Lim_Inf[0]] = Lim_Inf[0]\n",
        "m_Y[m_Y > Lim_Sup[0]] = Lim_Sup[0]\n",
        "m_Y"
      ],
      "execution_count": 0,
      "outputs": [
        {
          "output_type": "execute_result",
          "data": {
            "text/plain": [
              "array([ 92.26622483,  88.94525348, 136.23311177,  88.54282712,\n",
              "        78.47337726,  92.47442751,  78.47005101,  96.69822268,\n",
              "       136.23311177, 103.28896747, 100.10101983,  86.67863666,\n",
              "        96.60541955,  99.87009928, 100.53428231,  98.13587989,\n",
              "       103.94738054,  91.06457686,  94.93326767,  92.53390871,\n",
              "       118.35863649,  87.94631286, 112.01848858, 105.1160897 ,\n",
              "        94.30477141,  90.66561289,  97.50274717, 136.23311177,\n",
              "       111.93333668, 122.99564969, 101.66570222, 107.13574148,\n",
              "        95.47489218, 109.21639184, 107.3421263 , 121.78111913,\n",
              "        99.43447875, 112.53259996,  96.29607519, 114.38552019,\n",
              "       136.23311177,  98.87427612, 136.23311177, 109.41366709,\n",
              "        99.13038373,  85.09992988, 136.23311177, 108.67052746,\n",
              "       116.34090601, 113.63210628,  99.78246389,  95.46983552,\n",
              "        96.28887641,  99.52839308,  77.2662565 , 109.53187379,\n",
              "       107.10054804,  92.01167315,  96.83422097,  84.16471762,\n",
              "       136.23311177,  97.02396587,  92.65757933,  94.42967769,\n",
              "        94.02193121,  96.78511833, 113.48163484, 113.01668438,\n",
              "       105.02843445, 107.58835306, 110.94932036,  99.23942748,\n",
              "        93.74530061,  98.11132421,  84.62965767, 101.61893629,\n",
              "        97.35568508,  94.27312327, 105.55501746, 105.45183177,\n",
              "        91.55201318, 136.23311177, 103.85618579,  98.93911584,\n",
              "       119.4216084 ,  91.53859352,  79.86676575, 106.45458816,\n",
              "       136.23311177, 106.44862258, 113.52153879, 111.68130043,\n",
              "       100.4550085 ,  93.80661302,  98.87736992, 122.53185044,\n",
              "       112.21271855, 101.34656943, 104.99984125,  94.74563688])"
            ]
          },
          "metadata": {
            "tags": []
          },
          "execution_count": 156
        }
      ]
    },
    {
      "cell_type": "markdown",
      "metadata": {
        "id": "VEGFio0Nfj7O",
        "colab_type": "text"
      },
      "source": [
        "4. Estatísticas Descritivas para avaliarmos o impacto:"
      ]
    },
    {
      "cell_type": "code",
      "metadata": {
        "id": "gX1LZHFqfjFQ",
        "colab_type": "code",
        "outputId": "f5e16dfe-50fb-4f07-a822-24db39e2eb15",
        "colab": {
          "base_uri": "https://localhost:8080/",
          "height": 35
        }
      },
      "source": [
        "# Algumas estatísticas descritivas:\n",
        "f'Média: {np.mean(m_Y)}; Mediana: {np.median(m_Y)}; STD: {np.std(m_Y)}'"
      ],
      "execution_count": 0,
      "outputs": [
        {
          "output_type": "execute_result",
          "data": {
            "text/plain": [
              "'Média: 103.62127720599865; Mediana: 99.98555955648851; STD: 14.048907873665298'"
            ]
          },
          "metadata": {
            "tags": []
          },
          "execution_count": 157
        }
      ]
    },
    {
      "cell_type": "code",
      "metadata": {
        "id": "-xnguZ7XgyvK",
        "colab_type": "code",
        "outputId": "eebf25b1-190c-49be-ac5c-99c59c29a27a",
        "colab": {
          "base_uri": "https://localhost:8080/",
          "height": 273
        }
      },
      "source": [
        "# Import a biblioteca seaborn:\n",
        "import seaborn as sns\n",
        "sns.boxplot(y= m_Y)"
      ],
      "execution_count": 0,
      "outputs": [
        {
          "output_type": "execute_result",
          "data": {
            "text/plain": [
              "<matplotlib.axes._subplots.AxesSubplot at 0x7f23b90a9a20>"
            ]
          },
          "metadata": {
            "tags": []
          },
          "execution_count": 158
        },
        {
          "output_type": "display_data",
          "data": {
            "image/png": "[encoded data removed]",
            "text/plain": [
              "<Figure size 432x288 with 1 Axes>"
            ]
          },
          "metadata": {
            "tags": []
          }
        }
      ]
    },
    {
      "cell_type": "markdown",
      "metadata": {
        "id": "uEPFcBjFhETQ",
        "colab_type": "text"
      },
      "source": [
        "Como podem ver, os outliers desapareceram, como queríamos."
      ]
    },
    {
      "cell_type": "markdown",
      "metadata": {
        "id": "tHfzjW_ymKuR",
        "colab_type": "text"
      },
      "source": [
        "___\n",
        "# **Valores únicos**\n",
        "> Considere o array a seguir:"
      ]
    },
    {
      "cell_type": "code",
      "metadata": {
        "id": "HzmQgWZVmUUD",
        "colab_type": "code",
        "outputId": "e9d1eb2e-9f1d-4220-ce83-5ed807dcbc97",
        "colab": {
          "base_uri": "https://localhost:8080/",
          "height": 121
        }
      },
      "source": [
        "np.random.seed(20111974)\n",
        "v_X= np.random.randint(0, 100, 100)\n",
        "v_X"
      ],
      "execution_count": 0,
      "outputs": [
        {
          "output_type": "execute_result",
          "data": {
            "text/plain": [
              "array([60, 42, 40,  8, 27,  2, 46, 88, 81, 88, 80, 13, 30, 82, 96, 63, 79,\n",
              "       91, 72, 13, 89, 67, 93, 33, 99, 73, 77, 42, 55, 45, 41, 21, 22,  8,\n",
              "       62, 10,  0, 94, 15,  9, 67, 89, 35, 42, 97, 93,  8, 83, 26,  5, 68,\n",
              "       90, 74, 57, 40, 22, 45,  6, 81, 95,  0, 25, 50, 80, 76, 29,  7, 21,\n",
              "        5, 95, 52, 93, 31, 78, 61, 50, 50,  7, 41,  3, 33, 47,  5, 16, 33,\n",
              "       19, 92, 60, 56, 55, 53, 28, 84, 16, 27, 85, 22, 38, 49, 90])"
            ]
          },
          "metadata": {
            "tags": []
          },
          "execution_count": 382
        }
      ]
    },
    {
      "cell_type": "markdown",
      "metadata": {
        "id": "Dm9ky1F1mrNA",
        "colab_type": "text"
      },
      "source": [
        "Quem são os valores únicos do array?"
      ]
    },
    {
      "cell_type": "code",
      "metadata": {
        "id": "G-LPRqc-mS5j",
        "colab_type": "code",
        "outputId": "71dfb914-36fe-43da-c9ba-7ee3adb9f81d",
        "colab": {
          "base_uri": "https://localhost:8080/",
          "height": 87
        }
      },
      "source": [
        "np.unique(v_X)"
      ],
      "execution_count": 0,
      "outputs": [
        {
          "output_type": "execute_result",
          "data": {
            "text/plain": [
              "array([ 0,  2,  3,  5,  6,  7,  8,  9, 10, 13, 15, 16, 19, 21, 22, 25, 26,\n",
              "       27, 28, 29, 30, 31, 33, 35, 38, 40, 41, 42, 45, 46, 47, 49, 50, 52,\n",
              "       53, 55, 56, 57, 60, 61, 62, 63, 67, 68, 72, 73, 74, 76, 77, 78, 79,\n",
              "       80, 81, 82, 83, 84, 85, 88, 89, 90, 91, 92, 93, 94, 95, 96, 97, 99])"
            ]
          },
          "metadata": {
            "tags": []
          },
          "execution_count": 383
        }
      ]
    },
    {
      "cell_type": "markdown",
      "metadata": {
        "id": "uXZZoTd6nMuq",
        "colab_type": "text"
      },
      "source": [
        "___\n",
        "# **Diferença entre dois arrays**\n",
        "> O resultado é um array com os **valores únicos de A que não estão em B**. Na teoria de conjuntos escrevemos $A - B$.\n",
        "\n",
        "![Difference](https://github.com/MathMachado/Python4DS/blob/DS_Python/Material/set_Difference.PNG?raw=true)\n",
        "\n",
        "Fonte: [Python Set](https://www.learnbyexample.org/python-set/)"
      ]
    },
    {
      "cell_type": "markdown",
      "metadata": {
        "id": "uW6i3m9q1ZNs",
        "colab_type": "text"
      },
      "source": [
        "\n",
        "* Vamos ver como isso funciona na prática:"
      ]
    },
    {
      "cell_type": "markdown",
      "metadata": {
        "id": "vw05sfe22mfk",
        "colab_type": "text"
      },
      "source": [
        "## Exemplo 1"
      ]
    },
    {
      "cell_type": "code",
      "metadata": {
        "id": "Qqw2do90nQ7k",
        "colab_type": "code",
        "colab": {}
      },
      "source": [
        "v_X= np.array([0, 1, 2, 4, 5, 7, 8,8]) # array de valores que serão excluidos em v_X. Observe que '3' não pertence a v_X.\n",
        "v_Y= np.array([1, 6, 7, 3])"
      ],
      "execution_count": 0,
      "outputs": []
    },
    {
      "cell_type": "code",
      "metadata": {
        "id": "zXJ00pOMorM-",
        "colab_type": "code",
        "outputId": "25d63668-29f3-45a2-f204-23c3d0ebd404",
        "colab": {
          "base_uri": "https://localhost:8080/",
          "height": 35
        }
      },
      "source": [
        "np.setdiff1d(v_X, v_Y)"
      ],
      "execution_count": 0,
      "outputs": [
        {
          "output_type": "execute_result",
          "data": {
            "text/plain": [
              "array([0, 2, 4, 5, 8])"
            ]
          },
          "metadata": {
            "tags": []
          },
          "execution_count": 15
        }
      ]
    },
    {
      "cell_type": "markdown",
      "metadata": {
        "id": "8GXZNgjfo8lO",
        "colab_type": "text"
      },
      "source": [
        "Observe que o resultado são os elementos de v_X que não pertencem a x_Y. Mas como fica o '3' nesta história?"
      ]
    },
    {
      "cell_type": "markdown",
      "metadata": {
        "id": "aJSu6VKb2oc_",
        "colab_type": "text"
      },
      "source": [
        "## Exemplo 2"
      ]
    },
    {
      "cell_type": "code",
      "metadata": {
        "id": "N1wahElXTqoB",
        "colab_type": "code",
        "outputId": "5891ed76-e1e0-4b62-eda0-b33de6b89245",
        "colab": {
          "base_uri": "https://localhost:8080/",
          "height": 35
        }
      },
      "source": [
        "m_X= np.arange(10)\n",
        "m_X"
      ],
      "execution_count": 0,
      "outputs": [
        {
          "output_type": "execute_result",
          "data": {
            "text/plain": [
              "array([0, 1, 2, 3, 4, 5, 6, 7, 8, 9])"
            ]
          },
          "metadata": {
            "tags": []
          },
          "execution_count": 300
        }
      ]
    },
    {
      "cell_type": "code",
      "metadata": {
        "id": "nxDpCMg7T7Rj",
        "colab_type": "code",
        "outputId": "b4565863-8a6e-4e4b-da9d-1dae42d097f1",
        "colab": {
          "base_uri": "https://localhost:8080/",
          "height": 35
        }
      },
      "source": [
        "m_Y= np.array([1,5,7])\n",
        "m_Y"
      ],
      "execution_count": 0,
      "outputs": [
        {
          "output_type": "execute_result",
          "data": {
            "text/plain": [
              "array([1, 5, 7])"
            ]
          },
          "metadata": {
            "tags": []
          },
          "execution_count": 301
        }
      ]
    },
    {
      "cell_type": "code",
      "metadata": {
        "id": "3LU3qYyiUXqm",
        "colab_type": "code",
        "outputId": "6010a7fc-dc32-401a-9cd0-4609d053615e",
        "colab": {
          "base_uri": "https://localhost:8080/",
          "height": 35
        }
      },
      "source": [
        "np.setdiff1d(m_X, m_Y)"
      ],
      "execution_count": 0,
      "outputs": [
        {
          "output_type": "execute_result",
          "data": {
            "text/plain": [
              "array([0, 2, 3, 4, 6, 8, 9])"
            ]
          },
          "metadata": {
            "tags": []
          },
          "execution_count": 302
        }
      ]
    },
    {
      "cell_type": "markdown",
      "metadata": {
        "id": "mzZEytrRUioU",
        "colab_type": "text"
      },
      "source": [
        "Observe que os elementos de m_Y foram deletados de m_X. Ok?"
      ]
    },
    {
      "cell_type": "markdown",
      "metadata": {
        "id": "gJRcoVRUnaY9",
        "colab_type": "text"
      },
      "source": [
        "___\n",
        "# Conjuntos mutuamente exclusivos\n",
        "* Em teoria de conjuntos, chamamos de Diferença Simétrica e escrevemos $(A \\cup B)- (A \\cap B)$.\n",
        "\n",
        "![DifferenceSymetric](https://github.com/MathMachado/Python4DS/blob/DS_Python/Material/set_DifferenceSymetric.PNG?raw=true)\n",
        "\n",
        "Fonte: [Python Set](https://www.learnbyexample.org/python-set/)"
      ]
    },
    {
      "cell_type": "markdown",
      "metadata": {
        "id": "2Uzzm85Kup3H",
        "colab_type": "text"
      },
      "source": [
        "* Vamos ver como isso funciona na prática:"
      ]
    },
    {
      "cell_type": "code",
      "metadata": {
        "id": "1z5wZ8VwpsWN",
        "colab_type": "code",
        "colab": {}
      },
      "source": [
        "v_X= np.array([0, 1, 2, 4, 5, 7, 8]) # Observe que [1, 4, 7] pertencem a v_X, mas 3, não. Portanto:\n",
        "v_Y= np.array([1, 4, 7, 3])"
      ],
      "execution_count": 0,
      "outputs": []
    },
    {
      "cell_type": "code",
      "metadata": {
        "id": "Tqd_9XO5p7bo",
        "colab_type": "code",
        "outputId": "32b4b3cd-940b-4249-c3f3-fb190c9770ba",
        "colab": {
          "base_uri": "https://localhost:8080/",
          "height": 35
        }
      },
      "source": [
        "np.setxor1d(v_X, v_Y)"
      ],
      "execution_count": 0,
      "outputs": [
        {
          "output_type": "execute_result",
          "data": {
            "text/plain": [
              "array([0, 2, 3, 5, 8])"
            ]
          },
          "metadata": {
            "tags": []
          },
          "execution_count": 13
        }
      ]
    },
    {
      "cell_type": "markdown",
      "metadata": {
        "id": "_meurG3mqS5Y",
        "colab_type": "text"
      },
      "source": [
        "Como explicamos ou interpretamos este resultado?"
      ]
    },
    {
      "cell_type": "markdown",
      "metadata": {
        "id": "Kc8JoKe2nj2n",
        "colab_type": "text"
      },
      "source": [
        "___\n",
        "# **União de dois arrays**\n",
        "> Retorna os valores únicos dos dois arrays. Na teoria dos conjuntos, escrevemos:\n",
        "\n",
        "$$A \\cup B$$\n",
        "\n",
        "![Union](https://github.com/MathMachado/Python4DS/blob/DS_Python/Material/set_Union.PNG?raw=true)\n",
        "\n",
        "Fonte: [Python Set](https://www.learnbyexample.org/python-set/)"
      ]
    },
    {
      "cell_type": "code",
      "metadata": {
        "id": "1LZxorw2p2mg",
        "colab_type": "code",
        "colab": {}
      },
      "source": [
        "v_X= np.array([0, 1, 2, 4, 5, 7, 8])\n",
        "\n",
        "# Observe que [1, 4, 7] pertencem a v_X, mas 3, não. Portanto:\n",
        "v_Y= np.array([1, 4, 7, 3])"
      ],
      "execution_count": 0,
      "outputs": []
    },
    {
      "cell_type": "code",
      "metadata": {
        "id": "COsZEmSwuY5L",
        "colab_type": "code",
        "outputId": "0c85d95f-7f18-41b0-ea8e-726b27e908ee",
        "colab": {
          "base_uri": "https://localhost:8080/",
          "height": 35
        }
      },
      "source": [
        "np.union1d(v_X, v_Y)"
      ],
      "execution_count": 0,
      "outputs": [
        {
          "output_type": "execute_result",
          "data": {
            "text/plain": [
              "array([0, 1, 2, 3, 4, 5, 7, 8])"
            ]
          },
          "metadata": {
            "tags": []
          },
          "execution_count": 17
        }
      ]
    },
    {
      "cell_type": "markdown",
      "metadata": {
        "id": "b53bR-GYRu_3",
        "colab_type": "text"
      },
      "source": [
        "___\n",
        "# **Selecionar itens comuns dos arrays X e Y**\n",
        "* Na teoria de conjuntos, chamamos de intersecção e escrevemos $X \\cap Y$.\n",
        "\n",
        "![Intersection](https://github.com/MathMachado/Python4DS/blob/DS_Python/Material/set_Intersection.PNG?raw=true)\n",
        "\n",
        "Fonte: [Python Set](https://www.learnbyexample.org/python-set/)"
      ]
    },
    {
      "cell_type": "markdown",
      "metadata": {
        "id": "n2ec2tqqR1Gw",
        "colab_type": "text"
      },
      "source": [
        "* Considere os ndarrays a seguir:"
      ]
    },
    {
      "cell_type": "code",
      "metadata": {
        "id": "rXVQQvBqR4J-",
        "colab_type": "code",
        "outputId": "65939cba-7ae9-4da2-d686-470d7322a3b2",
        "colab": {
          "base_uri": "https://localhost:8080/",
          "height": 35
        }
      },
      "source": [
        "m_X= np.arange(10)\n",
        "m_X"
      ],
      "execution_count": 0,
      "outputs": [
        {
          "output_type": "execute_result",
          "data": {
            "text/plain": [
              "array([0, 1, 2, 3, 4, 5, 6, 7, 8, 9])"
            ]
          },
          "metadata": {
            "tags": []
          },
          "execution_count": 293
        }
      ]
    },
    {
      "cell_type": "code",
      "metadata": {
        "id": "pZTHhHxGSRfB",
        "colab_type": "code",
        "outputId": "ca9c925f-f9d0-4344-9da7-82780c031d9e",
        "colab": {
          "base_uri": "https://localhost:8080/",
          "height": 35
        }
      },
      "source": [
        "m_Y= np.arange(8, 18)\n",
        "m_Y"
      ],
      "execution_count": 0,
      "outputs": [
        {
          "output_type": "execute_result",
          "data": {
            "text/plain": [
              "array([ 8,  9, 10, 11, 12, 13, 14, 15, 16, 17])"
            ]
          },
          "metadata": {
            "tags": []
          },
          "execution_count": 295
        }
      ]
    },
    {
      "cell_type": "markdown",
      "metadata": {
        "id": "MxB2_qHpScMB",
        "colab_type": "text"
      },
      "source": [
        "Quais são os elementos comuns à X e Y?"
      ]
    },
    {
      "cell_type": "code",
      "metadata": {
        "id": "e-rncJHtSfw0",
        "colab_type": "code",
        "outputId": "5f120c7c-2bac-44a3-fcd6-f4f6cc6cbc88",
        "colab": {
          "base_uri": "https://localhost:8080/",
          "height": 35
        }
      },
      "source": [
        "np.intersect1d(m_X, m_Y)"
      ],
      "execution_count": 0,
      "outputs": [
        {
          "output_type": "execute_result",
          "data": {
            "text/plain": [
              "array([8, 9])"
            ]
          },
          "metadata": {
            "tags": []
          },
          "execution_count": 297
        }
      ]
    },
    {
      "cell_type": "markdown",
      "metadata": {
        "id": "3Bb39sWdfqaF",
        "colab_type": "text"
      },
      "source": [
        "___\n",
        "# **Autovalores e Autovetores**\n",
        "> Autovetor e Autovalor são um dos tópicos mais importantes em Machine Learning.\n",
        "\n",
        "Por definição, o escalar $\\lambda$ e o vetor $v$ são autovalor e autovetor da matriz $A$ se\n",
        "\n",
        "$$Av = \\lambda v$$\n",
        "\n",
        "## Leitura Adicional:\n",
        "\n",
        "* [Machine Learning & Linear Algebra — Eigenvalue and eigenvector](https://medium.com/@jonathan_hui/machine-learning-linear-algebra-eigenvalue-and-eigenvector-f8d0493564c9)"
      ]
    },
    {
      "cell_type": "markdown",
      "metadata": {
        "id": "XZBKq8nGCUbL",
        "colab_type": "text"
      },
      "source": [
        "* O ndarray m_Array_3_X_3 tem a seguinte forma:"
      ]
    },
    {
      "cell_type": "code",
      "metadata": {
        "id": "iYlZGKFUfw-R",
        "colab_type": "code",
        "outputId": "5d906afb-bd58-4a5b-b9d0-ad1cdf7096ce",
        "colab": {
          "base_uri": "https://localhost:8080/",
          "height": 166
        }
      },
      "source": [
        "m_Array_3_X_3"
      ],
      "execution_count": 0,
      "outputs": [
        {
          "output_type": "error",
          "ename": "NameError",
          "evalue": "ignored",
          "traceback": [
            "\u001b[0;31m---------------------------------------------------------------------------\u001b[0m",
            "\u001b[0;31mNameError\u001b[0m                                 Traceback (most recent call last)",
            "\u001b[0;32m<ipython-input-14-808dac586e7d>\u001b[0m in \u001b[0;36m<module>\u001b[0;34m()\u001b[0m\n\u001b[0;32m----> 1\u001b[0;31m \u001b[0mm_Array_3_X_3\u001b[0m\u001b[0;34m\u001b[0m\u001b[0;34m\u001b[0m\u001b[0m\n\u001b[0m",
            "\u001b[0;31mNameError\u001b[0m: name 'm_Array_3_X_3' is not defined"
          ]
        }
      ]
    },
    {
      "cell_type": "code",
      "metadata": {
        "id": "6EfvIbBNf02Z",
        "colab_type": "code",
        "colab": {}
      },
      "source": [
        "# Calcula autovalores e autovetores:\n",
        "v_Autovalores, v_Autovetores= np.linalg.eig(m_Array_3_X_3)"
      ],
      "execution_count": 0,
      "outputs": []
    },
    {
      "cell_type": "markdown",
      "metadata": {
        "id": "v3GtQQvAz9QU",
        "colab_type": "text"
      },
      "source": [
        "Os autovalores do ndarray m_Array_3_X_3 são:"
      ]
    },
    {
      "cell_type": "code",
      "metadata": {
        "id": "WvZGyBR1f9vP",
        "colab_type": "code",
        "colab": {}
      },
      "source": [
        "v_Autovalores"
      ],
      "execution_count": 0,
      "outputs": []
    },
    {
      "cell_type": "markdown",
      "metadata": {
        "id": "AuuDRJVh0FC8",
        "colab_type": "text"
      },
      "source": [
        "Os autovetores do ndarray m_Array_3_X_3 são:"
      ]
    },
    {
      "cell_type": "code",
      "metadata": {
        "id": "6m4YFAwsf_rA",
        "colab_type": "code",
        "colab": {}
      },
      "source": [
        "v_Autovetores"
      ],
      "execution_count": 0,
      "outputs": []
    },
    {
      "cell_type": "markdown",
      "metadata": {
        "id": "DASn2Un9ZNV-",
        "colab_type": "text"
      },
      "source": [
        "___\n",
        "# **Encontrar Missing Values (NaN)**\n",
        "> Considere o array a seguir:"
      ]
    },
    {
      "cell_type": "code",
      "metadata": {
        "id": "lqLI2ER_ZUMY",
        "colab_type": "code",
        "outputId": "b0f3a09c-b009-4c3d-fa0f-04767667e059",
        "colab": {
          "base_uri": "https://localhost:8080/",
          "height": 191
        }
      },
      "source": [
        "# Define seed\n",
        "np.random.seed(20111974)\n",
        "v_X= np.random.random(100)\n",
        "v_X"
      ],
      "execution_count": 0,
      "outputs": [
        {
          "output_type": "execute_result",
          "data": {
            "text/plain": [
              "array([0.53, 0.57, 0.54, 0.65, 0.86, 0.6 , 0.87, 0.46, 0.67, 0.64, 0.55,\n",
              "       0.35, 0.32, 0.89, 0.85, 0.76, 0.66, 0.33, 0.35, 0.42, 0.31, 0.27,\n",
              "       0.31, 0.36, 0.6 , 0.02, 0.36, 0.19, 0.28, 0.37, 0.15, 0.44, 0.2 ,\n",
              "       0.21, 0.65, 0.82, 0.72, 0.5 , 0.17, 0.6 , 0.25, 0.14, 0.03, 0.71,\n",
              "       0.07, 0.56, 0.26, 0.84, 0.21, 0.85, 0.63, 0.38, 0.91, 0.34, 0.07,\n",
              "       0.1 , 0.85, 0.12, 0.94, 0.16, 0.07, 0.91, 0.59, 0.37, 0.72, 0.07,\n",
              "       0.48, 0.78, 0.97, 0.72, 0.29, 0.33, 0.95, 0.24, 0.98, 0.85, 0.63,\n",
              "       0.57, 0.67, 0.88, 0.37, 0.85, 0.89, 0.68, 0.29, 0.33, 0.98, 0.17,\n",
              "       0.6 , 0.92, 0.98, 0.76, 0.31, 0.97, 0.08, 0.56, 0.75, 0.49, 0.07,\n",
              "       0.11])"
            ]
          },
          "metadata": {
            "tags": []
          },
          "execution_count": 347
        }
      ]
    },
    {
      "cell_type": "code",
      "metadata": {
        "id": "fEvRHMn6bJOL",
        "colab_type": "code",
        "outputId": "5c6e9aad-b794-4150-8463-05132053a816",
        "colab": {
          "base_uri": "https://localhost:8080/",
          "height": 35
        }
      },
      "source": [
        "# Inserindo 15 NaN's no array:\n",
        "np.random.seed(20111974)\n",
        "l_IndicesAleatorios= np.random.randint(0, 100, size= 15)\n",
        "l_IndicesAleatorios"
      ],
      "execution_count": 0,
      "outputs": [
        {
          "output_type": "execute_result",
          "data": {
            "text/plain": [
              "array([60, 42, 40,  8, 27,  2, 46, 88, 81, 88, 80, 13, 30, 82, 96])"
            ]
          },
          "metadata": {
            "tags": []
          },
          "execution_count": 348
        }
      ]
    },
    {
      "cell_type": "code",
      "metadata": {
        "id": "nUsMPBsRaSTN",
        "colab_type": "code",
        "colab": {}
      },
      "source": [
        "for i_Idx in l_IndicesAleatorios:\n",
        "    #print(i_Idx)\n",
        "    v_X[i_Idx]= np.nan"
      ],
      "execution_count": 0,
      "outputs": []
    },
    {
      "cell_type": "code",
      "metadata": {
        "id": "2ZkbMPXMawYh",
        "colab_type": "code",
        "outputId": "d232786a-9b3a-4ccf-9f21-52e5082d6f70",
        "colab": {
          "base_uri": "https://localhost:8080/",
          "height": 191
        }
      },
      "source": [
        "v_X"
      ],
      "execution_count": 0,
      "outputs": [
        {
          "output_type": "execute_result",
          "data": {
            "text/plain": [
              "array([0.53, 0.57,  nan, 0.65, 0.86, 0.6 , 0.87, 0.46,  nan, 0.64, 0.55,\n",
              "       0.35, 0.32,  nan, 0.85, 0.76, 0.66, 0.33, 0.35, 0.42, 0.31, 0.27,\n",
              "       0.31, 0.36, 0.6 , 0.02, 0.36,  nan, 0.28, 0.37,  nan, 0.44, 0.2 ,\n",
              "       0.21, 0.65, 0.82, 0.72, 0.5 , 0.17, 0.6 ,  nan, 0.14,  nan, 0.71,\n",
              "       0.07, 0.56,  nan, 0.84, 0.21, 0.85, 0.63, 0.38, 0.91, 0.34, 0.07,\n",
              "       0.1 , 0.85, 0.12, 0.94, 0.16,  nan, 0.91, 0.59, 0.37, 0.72, 0.07,\n",
              "       0.48, 0.78, 0.97, 0.72, 0.29, 0.33, 0.95, 0.24, 0.98, 0.85, 0.63,\n",
              "       0.57, 0.67, 0.88,  nan,  nan,  nan, 0.68, 0.29, 0.33, 0.98, 0.17,\n",
              "        nan, 0.92, 0.98, 0.76, 0.31, 0.97, 0.08, 0.56,  nan, 0.49, 0.07,\n",
              "       0.11])"
            ]
          },
          "metadata": {
            "tags": []
          },
          "execution_count": 350
        }
      ]
    },
    {
      "cell_type": "markdown",
      "metadata": {
        "id": "Z7Bs75NvbSjx",
        "colab_type": "text"
      },
      "source": [
        "Ok, inserimos aleatoriamente 14 NaN's no array v_X. Agora, vamos contar quantos NaN's (já sabemos a resposta!)."
      ]
    },
    {
      "cell_type": "code",
      "metadata": {
        "id": "5R-n3H0xbd6d",
        "colab_type": "code",
        "outputId": "06516cc6-e400-4182-e904-c170c0770f46",
        "colab": {
          "base_uri": "https://localhost:8080/",
          "height": 35
        }
      },
      "source": [
        "np.isnan(v_X).sum()"
      ],
      "execution_count": 0,
      "outputs": [
        {
          "output_type": "execute_result",
          "data": {
            "text/plain": [
              "14"
            ]
          },
          "metadata": {
            "tags": []
          },
          "execution_count": 333
        }
      ]
    },
    {
      "cell_type": "markdown",
      "metadata": {
        "id": "iVLQf_bqbyNU",
        "colab_type": "text"
      },
      "source": [
        "Ok, agora eu quero saber os índices desses NaN's."
      ]
    },
    {
      "cell_type": "code",
      "metadata": {
        "id": "kJHxjZiwb5HM",
        "colab_type": "code",
        "outputId": "fb35ca38-dc75-42be-8021-1aaa6b045646",
        "colab": {
          "base_uri": "https://localhost:8080/",
          "height": 35
        }
      },
      "source": [
        "i_Idx= np.where(np.isnan(v_X))\n",
        "i_Idx"
      ],
      "execution_count": 0,
      "outputs": [
        {
          "output_type": "execute_result",
          "data": {
            "text/plain": [
              "(array([ 2,  8, 13, 27, 30, 40, 42, 46, 60, 80, 81, 82, 88, 96]),)"
            ]
          },
          "metadata": {
            "tags": []
          },
          "execution_count": 335
        }
      ]
    },
    {
      "cell_type": "markdown",
      "metadata": {
        "id": "iPhHAhDYcMWO",
        "colab_type": "text"
      },
      "source": [
        "Vamos conferir se está correto? Para isso, basta comparar com l_IndicesAleatorios:"
      ]
    },
    {
      "cell_type": "code",
      "metadata": {
        "id": "mKXLM6SqcRfF",
        "colab_type": "code",
        "colab": {}
      },
      "source": [
        "l_IndicesAleatorios= np.sort(l_IndicesAleatorios)"
      ],
      "execution_count": 0,
      "outputs": []
    },
    {
      "cell_type": "code",
      "metadata": {
        "id": "gzntSX5MdjVt",
        "colab_type": "code",
        "outputId": "5765ddac-51c0-425a-cb28-9787f58b027e",
        "colab": {
          "base_uri": "https://localhost:8080/",
          "height": 35
        }
      },
      "source": [
        "np.intersect1d(l_IndicesAleatorios, i_Idx).shape"
      ],
      "execution_count": 0,
      "outputs": [
        {
          "output_type": "execute_result",
          "data": {
            "text/plain": [
              "(14,)"
            ]
          },
          "metadata": {
            "tags": []
          },
          "execution_count": 345
        }
      ]
    },
    {
      "cell_type": "markdown",
      "metadata": {
        "id": "Gfjzy0UCeHfN",
        "colab_type": "text"
      },
      "source": [
        "Ou seja, identificamos todos os NaN's."
      ]
    },
    {
      "cell_type": "markdown",
      "metadata": {
        "id": "gxQYslRCe11G",
        "colab_type": "text"
      },
      "source": [
        "# **Deletar NaN's de um array**\n",
        "> Considere o mesmo array que acabamos de trabalhar. Agora eu quero excluir os NaN's identificados."
      ]
    },
    {
      "cell_type": "code",
      "metadata": {
        "id": "AeBARFqNfNnN",
        "colab_type": "code",
        "outputId": "4d600543-c530-412d-da43-d4b564e96168",
        "colab": {
          "base_uri": "https://localhost:8080/",
          "height": 191
        }
      },
      "source": [
        "v_X"
      ],
      "execution_count": 0,
      "outputs": [
        {
          "output_type": "execute_result",
          "data": {
            "text/plain": [
              "array([0.53, 0.57,  nan, 0.65, 0.86, 0.6 , 0.87, 0.46,  nan, 0.64, 0.55,\n",
              "       0.35, 0.32,  nan, 0.85, 0.76, 0.66, 0.33, 0.35, 0.42, 0.31, 0.27,\n",
              "       0.31, 0.36, 0.6 , 0.02, 0.36,  nan, 0.28, 0.37,  nan, 0.44, 0.2 ,\n",
              "       0.21, 0.65, 0.82, 0.72, 0.5 , 0.17, 0.6 ,  nan, 0.14,  nan, 0.71,\n",
              "       0.07, 0.56,  nan, 0.84, 0.21, 0.85, 0.63, 0.38, 0.91, 0.34, 0.07,\n",
              "       0.1 , 0.85, 0.12, 0.94, 0.16,  nan, 0.91, 0.59, 0.37, 0.72, 0.07,\n",
              "       0.48, 0.78, 0.97, 0.72, 0.29, 0.33, 0.95, 0.24, 0.98, 0.85, 0.63,\n",
              "       0.57, 0.67, 0.88,  nan,  nan,  nan, 0.68, 0.29, 0.33, 0.98, 0.17,\n",
              "        nan, 0.92, 0.98, 0.76, 0.31, 0.97, 0.08, 0.56,  nan, 0.49, 0.07,\n",
              "       0.11])"
            ]
          },
          "metadata": {
            "tags": []
          },
          "execution_count": 351
        }
      ]
    },
    {
      "cell_type": "code",
      "metadata": {
        "id": "e497B492fFru",
        "colab_type": "code",
        "outputId": "67ee7990-ebf7-48ab-b3d4-148f52304736",
        "colab": {
          "base_uri": "https://localhost:8080/",
          "height": 156
        }
      },
      "source": [
        "v_X[~np.isnan(v_X)]"
      ],
      "execution_count": 0,
      "outputs": [
        {
          "output_type": "execute_result",
          "data": {
            "text/plain": [
              "array([0.53, 0.57, 0.65, 0.86, 0.6 , 0.87, 0.46, 0.64, 0.55, 0.35, 0.32,\n",
              "       0.85, 0.76, 0.66, 0.33, 0.35, 0.42, 0.31, 0.27, 0.31, 0.36, 0.6 ,\n",
              "       0.02, 0.36, 0.28, 0.37, 0.44, 0.2 , 0.21, 0.65, 0.82, 0.72, 0.5 ,\n",
              "       0.17, 0.6 , 0.14, 0.71, 0.07, 0.56, 0.84, 0.21, 0.85, 0.63, 0.38,\n",
              "       0.91, 0.34, 0.07, 0.1 , 0.85, 0.12, 0.94, 0.16, 0.91, 0.59, 0.37,\n",
              "       0.72, 0.07, 0.48, 0.78, 0.97, 0.72, 0.29, 0.33, 0.95, 0.24, 0.98,\n",
              "       0.85, 0.63, 0.57, 0.67, 0.88, 0.68, 0.29, 0.33, 0.98, 0.17, 0.92,\n",
              "       0.98, 0.76, 0.31, 0.97, 0.08, 0.56, 0.49, 0.07, 0.11])"
            ]
          },
          "metadata": {
            "tags": []
          },
          "execution_count": 352
        }
      ]
    },
    {
      "cell_type": "markdown",
      "metadata": {
        "id": "RpvKfJU_fmA6",
        "colab_type": "text"
      },
      "source": [
        "Observe que os NaN's foram excluidos."
      ]
    },
    {
      "cell_type": "markdown",
      "metadata": {
        "id": "_Dv8MmNYg8zN",
        "colab_type": "text"
      },
      "source": [
        "___\n",
        "# **Converter lista em array**\n",
        "> Considere a lista a seguir:"
      ]
    },
    {
      "cell_type": "code",
      "metadata": {
        "id": "but6T9dVhFYb",
        "colab_type": "code",
        "outputId": "285ae0b6-3bc7-451a-fce4-ab8631171dff",
        "colab": {
          "base_uri": "https://localhost:8080/",
          "height": 35
        }
      },
      "source": [
        "l_Lista= [np.random.randint(0, 10, 10)]\n",
        "l_Lista"
      ],
      "execution_count": 0,
      "outputs": [
        {
          "output_type": "execute_result",
          "data": {
            "text/plain": [
              "[array([8, 9, 3, 7, 1, 3, 2, 9, 7, 7])]"
            ]
          },
          "metadata": {
            "tags": []
          },
          "execution_count": 353
        }
      ]
    },
    {
      "cell_type": "code",
      "metadata": {
        "id": "xytj4Eo4hTh9",
        "colab_type": "code",
        "outputId": "b60c2dab-c43c-406d-d26f-75933a49e21e",
        "colab": {
          "base_uri": "https://localhost:8080/",
          "height": 35
        }
      },
      "source": [
        "type(l_Lista)"
      ],
      "execution_count": 0,
      "outputs": [
        {
          "output_type": "execute_result",
          "data": {
            "text/plain": [
              "list"
            ]
          },
          "metadata": {
            "tags": []
          },
          "execution_count": 354
        }
      ]
    },
    {
      "cell_type": "markdown",
      "metadata": {
        "id": "qrINdcruhWcH",
        "colab_type": "text"
      },
      "source": [
        "Convertendo a minha lista para array:"
      ]
    },
    {
      "cell_type": "code",
      "metadata": {
        "id": "RoSyaX0OhZSE",
        "colab_type": "code",
        "outputId": "fb6bf7b9-2840-4aa7-e0ce-db72c8b4a9ce",
        "colab": {
          "base_uri": "https://localhost:8080/",
          "height": 35
        }
      },
      "source": [
        "v_Lista= np.asarray(l_Lista)\n",
        "v_Lista"
      ],
      "execution_count": 0,
      "outputs": [
        {
          "output_type": "execute_result",
          "data": {
            "text/plain": [
              "array([[8, 9, 3, 7, 1, 3, 2, 9, 7, 7]])"
            ]
          },
          "metadata": {
            "tags": []
          },
          "execution_count": 355
        }
      ]
    },
    {
      "cell_type": "code",
      "metadata": {
        "id": "dMjTdbBUhlrk",
        "colab_type": "code",
        "outputId": "5e54ce07-fa6c-4380-9e2e-bb67f6c955d3",
        "colab": {
          "base_uri": "https://localhost:8080/",
          "height": 35
        }
      },
      "source": [
        "type(v_Lista)"
      ],
      "execution_count": 0,
      "outputs": [
        {
          "output_type": "execute_result",
          "data": {
            "text/plain": [
              "numpy.ndarray"
            ]
          },
          "metadata": {
            "tags": []
          },
          "execution_count": 356
        }
      ]
    },
    {
      "cell_type": "markdown",
      "metadata": {
        "id": "Mbm3ZP9DhxDI",
        "colab_type": "text"
      },
      "source": [
        "___\n",
        "# Converter tupla em array\n",
        "> Considere a tupla a seguir:"
      ]
    },
    {
      "cell_type": "code",
      "metadata": {
        "id": "cZxEFYLAh3S_",
        "colab_type": "code",
        "outputId": "e16ef94d-107f-4b4d-e710-2dd5710ed1bc",
        "colab": {
          "base_uri": "https://localhost:8080/",
          "height": 35
        }
      },
      "source": [
        "np.random.seed(20111974)\n",
        "t_Lista= ([np.random.randint(0, 10, 3)], [np.random.randint(0, 10, 3)], [np.random.randint(0, 10, 3)])\n",
        "t_Lista"
      ],
      "execution_count": 0,
      "outputs": [
        {
          "output_type": "execute_result",
          "data": {
            "text/plain": [
              "([array([8, 8, 2])], [array([8, 9, 1])], [array([8, 0, 4])])"
            ]
          },
          "metadata": {
            "tags": []
          },
          "execution_count": 360
        }
      ]
    },
    {
      "cell_type": "code",
      "metadata": {
        "id": "vlTXUJviiAml",
        "colab_type": "code",
        "outputId": "542de40f-40d7-4b3c-95e9-5abcfd7223d5",
        "colab": {
          "base_uri": "https://localhost:8080/",
          "height": 35
        }
      },
      "source": [
        "type(t_Lista)"
      ],
      "execution_count": 0,
      "outputs": [
        {
          "output_type": "execute_result",
          "data": {
            "text/plain": [
              "tuple"
            ]
          },
          "metadata": {
            "tags": []
          },
          "execution_count": 361
        }
      ]
    },
    {
      "cell_type": "code",
      "metadata": {
        "id": "yEaOlq8oh3oh",
        "colab_type": "code",
        "outputId": "89b0974d-9246-4f53-aa82-e202b429ce9d",
        "colab": {
          "base_uri": "https://localhost:8080/",
          "height": 104
        }
      },
      "source": [
        "v_Lista= np.asarray(t_Lista)\n",
        "v_Lista"
      ],
      "execution_count": 0,
      "outputs": [
        {
          "output_type": "execute_result",
          "data": {
            "text/plain": [
              "array([[[8, 8, 2]],\n",
              "\n",
              "       [[8, 9, 1]],\n",
              "\n",
              "       [[8, 0, 4]]])"
            ]
          },
          "metadata": {
            "tags": []
          },
          "execution_count": 362
        }
      ]
    },
    {
      "cell_type": "code",
      "metadata": {
        "id": "PSgQDmRWh3g5",
        "colab_type": "code",
        "outputId": "b58e006c-6e80-44e7-a46f-56c0c92faa33",
        "colab": {
          "base_uri": "https://localhost:8080/",
          "height": 35
        }
      },
      "source": [
        "type(v_Lista)"
      ],
      "execution_count": 0,
      "outputs": [
        {
          "output_type": "execute_result",
          "data": {
            "text/plain": [
              "numpy.ndarray"
            ]
          },
          "metadata": {
            "tags": []
          },
          "execution_count": 363
        }
      ]
    },
    {
      "cell_type": "markdown",
      "metadata": {
        "id": "pH-Ht6yMiqJN",
        "colab_type": "text"
      },
      "source": [
        "___\n",
        "# Acrescentar elementos à um array\n",
        "> Considere o array a seguir:"
      ]
    },
    {
      "cell_type": "code",
      "metadata": {
        "id": "dFaDZInZiwoo",
        "colab_type": "code",
        "outputId": "ae310a0c-468b-4a8f-f9d9-ef441a108ebf",
        "colab": {
          "base_uri": "https://localhost:8080/",
          "height": 35
        }
      },
      "source": [
        "v_X= np.arange(5)\n",
        "v_X"
      ],
      "execution_count": 0,
      "outputs": [
        {
          "output_type": "execute_result",
          "data": {
            "text/plain": [
              "array([0, 1, 2, 3, 4])"
            ]
          },
          "metadata": {
            "tags": []
          },
          "execution_count": 367
        }
      ]
    },
    {
      "cell_type": "code",
      "metadata": {
        "id": "d3zrlf_Ci73Z",
        "colab_type": "code",
        "outputId": "a4edf77c-b802-4c0e-b3cf-3c9c9b3755fb",
        "colab": {
          "base_uri": "https://localhost:8080/",
          "height": 35
        }
      },
      "source": [
        "np.random.seed(20111974)\n",
        "v_X = np.append(v_X, [np.random.randint(0, 10, 3), np.random.randint(0, 10, 3), np.random.randint(0, 10, 3)])\n",
        "v_X"
      ],
      "execution_count": 0,
      "outputs": [
        {
          "output_type": "execute_result",
          "data": {
            "text/plain": [
              "array([0, 1, 2, 3, 4, 8, 8, 2, 8, 9, 1, 8, 0, 4])"
            ]
          },
          "metadata": {
            "tags": []
          },
          "execution_count": 368
        }
      ]
    },
    {
      "cell_type": "markdown",
      "metadata": {
        "id": "eFRhtk13ojqA",
        "colab_type": "text"
      },
      "source": [
        "___\n",
        "# **Converter array 1D num array 2D**\n",
        "> Considere os arrays a seguir:"
      ]
    },
    {
      "cell_type": "code",
      "metadata": {
        "id": "wYhBgW9Zu6ZP",
        "colab_type": "code",
        "colab": {}
      },
      "source": [
        "np.random.seed(20111974)\n",
        "v_X= np.array(np.random.randint(0, 10, 6))\n",
        "\n",
        "np.random.seed(19741120)\n",
        "v_Y= np.array(np.random.randint(0, 10, 6))"
      ],
      "execution_count": 0,
      "outputs": []
    },
    {
      "cell_type": "code",
      "metadata": {
        "id": "febs9AUHvs6n",
        "colab_type": "code",
        "outputId": "1553cc38-6b9c-41e4-cc3a-637712f70a73",
        "colab": {
          "base_uri": "https://localhost:8080/",
          "height": 35
        }
      },
      "source": [
        "v_X"
      ],
      "execution_count": 0,
      "outputs": [
        {
          "output_type": "execute_result",
          "data": {
            "text/plain": [
              "array([8, 8, 2, 8, 9, 1])"
            ]
          },
          "metadata": {
            "tags": []
          },
          "execution_count": 29
        }
      ]
    },
    {
      "cell_type": "code",
      "metadata": {
        "id": "C9OEd-iavvBm",
        "colab_type": "code",
        "outputId": "9e4af387-845c-4552-fb23-955c4f6e4ca7",
        "colab": {
          "base_uri": "https://localhost:8080/",
          "height": 35
        }
      },
      "source": [
        "v_Y"
      ],
      "execution_count": 0,
      "outputs": [
        {
          "output_type": "execute_result",
          "data": {
            "text/plain": [
              "array([7, 8, 4, 0, 9, 7])"
            ]
          },
          "metadata": {
            "tags": []
          },
          "execution_count": 30
        }
      ]
    },
    {
      "cell_type": "code",
      "metadata": {
        "id": "KJWjtaWKv0MJ",
        "colab_type": "code",
        "outputId": "eab0d06d-3857-42f3-cb53-37c95af44756",
        "colab": {
          "base_uri": "https://localhost:8080/",
          "height": 121
        }
      },
      "source": [
        "np.column_stack((v_X, v_Y)) # Atenção aos parênteses em (v_X, v_Y)."
      ],
      "execution_count": 0,
      "outputs": [
        {
          "output_type": "execute_result",
          "data": {
            "text/plain": [
              "array([[8, 7],\n",
              "       [8, 8],\n",
              "       [2, 4],\n",
              "       [8, 0],\n",
              "       [9, 9],\n",
              "       [1, 7]])"
            ]
          },
          "metadata": {
            "tags": []
          },
          "execution_count": 33
        }
      ]
    },
    {
      "cell_type": "markdown",
      "metadata": {
        "id": "xr_WZXJ7pi2D",
        "colab_type": "text"
      },
      "source": [
        "___\n",
        "# **Excluir um elemento específico do array usando indices**\n",
        "> Considere os arrays a seguir:"
      ]
    },
    {
      "cell_type": "code",
      "metadata": {
        "id": "tS0ZzOs8w0dw",
        "colab_type": "code",
        "outputId": "05478084-70ed-4c89-fd21-a82b4863bc4f",
        "colab": {
          "base_uri": "https://localhost:8080/",
          "height": 35
        }
      },
      "source": [
        "np.random.seed(20111974)\n",
        "v_X= np.array(np.random.randint(0, 10, 6))\n",
        "v_X"
      ],
      "execution_count": 0,
      "outputs": [
        {
          "output_type": "execute_result",
          "data": {
            "text/plain": [
              "array([8, 8, 2, 8, 9, 1])"
            ]
          },
          "metadata": {
            "tags": []
          },
          "execution_count": 34
        }
      ]
    },
    {
      "cell_type": "markdown",
      "metadata": {
        "id": "7bOJiKDKxEsC",
        "colab_type": "text"
      },
      "source": [
        "Suponha que eu queira excluir os valores '8' de v_X. Os índices dos valores '8' são: [0, 1, 3]. Portanto, temos:"
      ]
    },
    {
      "cell_type": "code",
      "metadata": {
        "id": "SSjueEvjxTJO",
        "colab_type": "code",
        "outputId": "57d1f3d6-ac40-4b23-dd70-bb060c238c92",
        "colab": {
          "base_uri": "https://localhost:8080/",
          "height": 35
        }
      },
      "source": [
        "v_X= np.delete(v_X, [0, 1, 3])\n",
        "v_X"
      ],
      "execution_count": 0,
      "outputs": [
        {
          "output_type": "execute_result",
          "data": {
            "text/plain": [
              "array([2, 9, 1])"
            ]
          },
          "metadata": {
            "tags": []
          },
          "execution_count": 35
        }
      ]
    },
    {
      "cell_type": "markdown",
      "metadata": {
        "id": "mZkGZ2Rgp--5",
        "colab_type": "text"
      },
      "source": [
        "___\n",
        "# **Frequência dos valores únicos de um array**\n",
        "> Considere o array a seguir:"
      ]
    },
    {
      "cell_type": "code",
      "metadata": {
        "id": "Z2BWKfH0xvQ8",
        "colab_type": "code",
        "outputId": "b544a872-d5d6-45ba-a7ad-44fe44b8818a",
        "colab": {
          "base_uri": "https://localhost:8080/",
          "height": 104
        }
      },
      "source": [
        "np.random.seed(20111974)\n",
        "v_X= np.array(np.random.randint(0, 10, 100))\n",
        "v_X"
      ],
      "execution_count": 0,
      "outputs": [
        {
          "output_type": "execute_result",
          "data": {
            "text/plain": [
              "array([8, 8, 2, 8, 9, 1, 8, 0, 4, 2, 0, 8, 9, 3, 7, 1, 3, 2, 9, 7, 7, 9,\n",
              "       5, 6, 8, 7, 0, 9, 3, 9, 3, 1, 8, 6, 3, 5, 4, 1, 2, 9, 8, 6, 6, 1,\n",
              "       0, 9, 2, 0, 7, 5, 5, 4, 4, 2, 7, 2, 7, 9, 3, 1, 5, 0, 1, 2, 3, 8,\n",
              "       7, 5, 4, 0, 5, 9, 6, 6, 1, 3, 6, 0, 4, 9, 2, 1, 0, 9, 1, 4, 2, 9,\n",
              "       7, 9, 5, 3, 7, 6, 3, 9, 8, 4, 3, 0])"
            ]
          },
          "metadata": {
            "tags": []
          },
          "execution_count": 36
        }
      ]
    },
    {
      "cell_type": "markdown",
      "metadata": {
        "id": "s_tdQBsax4rQ",
        "colab_type": "text"
      },
      "source": [
        "Suponha que eu queira saber quantas vezes o número/elemento '2' aparece em v_X."
      ]
    },
    {
      "cell_type": "code",
      "metadata": {
        "id": "6yIlk7pWyAtf",
        "colab_type": "code",
        "outputId": "31db50c9-8521-4873-e029-d7c0c25b2514",
        "colab": {
          "base_uri": "https://localhost:8080/",
          "height": 35
        }
      },
      "source": [
        "l_Itens_Unicos, i_Count = np.unique(v_X, return_counts=True)\n",
        "l_Itens_Unicos"
      ],
      "execution_count": 0,
      "outputs": [
        {
          "output_type": "execute_result",
          "data": {
            "text/plain": [
              "array([0, 1, 2, 3, 4, 5, 6, 7, 8, 9])"
            ]
          },
          "metadata": {
            "tags": []
          },
          "execution_count": 39
        }
      ]
    },
    {
      "cell_type": "markdown",
      "metadata": {
        "id": "DyvrIwS9yZIR",
        "colab_type": "text"
      },
      "source": [
        "O que significa o output acima?"
      ]
    },
    {
      "cell_type": "code",
      "metadata": {
        "id": "uO-MPMhXyV9H",
        "colab_type": "code",
        "outputId": "4e0326ce-af93-4f25-8557-0333c2a4cd89",
        "colab": {
          "base_uri": "https://localhost:8080/",
          "height": 35
        }
      },
      "source": [
        "i_Count"
      ],
      "execution_count": 0,
      "outputs": [
        {
          "output_type": "execute_result",
          "data": {
            "text/plain": [
              "array([10, 10, 10, 11,  8,  8,  8, 10, 10, 15])"
            ]
          },
          "metadata": {
            "tags": []
          },
          "execution_count": 40
        }
      ]
    },
    {
      "cell_type": "markdown",
      "metadata": {
        "id": "zwoezXrPyofK",
        "colab_type": "text"
      },
      "source": [
        "Qual a interpretação do output acima?"
      ]
    },
    {
      "cell_type": "code",
      "metadata": {
        "id": "HgYycSG7yr5e",
        "colab_type": "code",
        "outputId": "73f91a1f-0e3b-4c01-83d8-157b9a15309b",
        "colab": {
          "base_uri": "https://localhost:8080/",
          "height": 52
        }
      },
      "source": [
        "np.asarray((l_Itens_Unicos, i_Count))"
      ],
      "execution_count": 0,
      "outputs": [
        {
          "output_type": "execute_result",
          "data": {
            "text/plain": [
              "array([[ 0,  1,  2,  3,  4,  5,  6,  7,  8,  9],\n",
              "       [10, 10, 10, 11,  8,  8,  8, 10, 10, 15]])"
            ]
          },
          "metadata": {
            "tags": []
          },
          "execution_count": 41
        }
      ]
    },
    {
      "cell_type": "markdown",
      "metadata": {
        "id": "SwIZiJAiy06T",
        "colab_type": "text"
      },
      "source": [
        "Qual a interpretação do output acima?"
      ]
    },
    {
      "cell_type": "markdown",
      "metadata": {
        "id": "JpNRpN2Dql3N",
        "colab_type": "text"
      },
      "source": [
        "___\n",
        "# **Combinações possíveis de outros arrays**\n",
        "> Considere o exemplo a seguir:\n"
      ]
    },
    {
      "cell_type": "code",
      "metadata": {
        "id": "BUr89dH4zLXD",
        "colab_type": "code",
        "colab": {}
      },
      "source": [
        "v_X = [2, 4, 6]\n",
        "v_Y = [0, 8]\n",
        "v_Z = [1, 5]"
      ],
      "execution_count": 0,
      "outputs": []
    },
    {
      "cell_type": "code",
      "metadata": {
        "id": "cEZH6l-Czx7y",
        "colab_type": "code",
        "outputId": "08280b65-0fce-4f81-d8a6-bfc66525bdc1",
        "colab": {
          "base_uri": "https://localhost:8080/",
          "height": 347
        }
      },
      "source": [
        "np.meshgrid(v_X, v_Y, v_Z)"
      ],
      "execution_count": 0,
      "outputs": [
        {
          "output_type": "execute_result",
          "data": {
            "text/plain": [
              "[array([[[2, 2],\n",
              "         [4, 4],\n",
              "         [6, 6]],\n",
              " \n",
              "        [[2, 2],\n",
              "         [4, 4],\n",
              "         [6, 6]]]), array([[[0, 0],\n",
              "         [0, 0],\n",
              "         [0, 0]],\n",
              " \n",
              "        [[8, 8],\n",
              "         [8, 8],\n",
              "         [8, 8]]]), array([[[1, 5],\n",
              "         [1, 5],\n",
              "         [1, 5]],\n",
              " \n",
              "        [[1, 5],\n",
              "         [1, 5],\n",
              "         [1, 5]]])]"
            ]
          },
          "metadata": {
            "tags": []
          },
          "execution_count": 44
        }
      ]
    },
    {
      "cell_type": "code",
      "metadata": {
        "id": "btvmDkEcz0tH",
        "colab_type": "code",
        "outputId": "1ed13b08-60bc-4a0e-dad1-257875bd7557",
        "colab": {
          "base_uri": "https://localhost:8080/",
          "height": 451
        }
      },
      "source": [
        "np.array(np.meshgrid(v_X, v_Y, v_Z))"
      ],
      "execution_count": 0,
      "outputs": [
        {
          "output_type": "execute_result",
          "data": {
            "text/plain": [
              "array([[[[2, 2],\n",
              "         [4, 4],\n",
              "         [6, 6]],\n",
              "\n",
              "        [[2, 2],\n",
              "         [4, 4],\n",
              "         [6, 6]]],\n",
              "\n",
              "\n",
              "       [[[0, 0],\n",
              "         [0, 0],\n",
              "         [0, 0]],\n",
              "\n",
              "        [[8, 8],\n",
              "         [8, 8],\n",
              "         [8, 8]]],\n",
              "\n",
              "\n",
              "       [[[1, 5],\n",
              "         [1, 5],\n",
              "         [1, 5]],\n",
              "\n",
              "        [[1, 5],\n",
              "         [1, 5],\n",
              "         [1, 5]]]])"
            ]
          },
          "metadata": {
            "tags": []
          },
          "execution_count": 45
        }
      ]
    },
    {
      "cell_type": "code",
      "metadata": {
        "id": "Z0xhO7rGz059",
        "colab_type": "code",
        "outputId": "9729891a-1e05-47bc-ef8e-b3989dbbfbfd",
        "colab": {
          "base_uri": "https://localhost:8080/",
          "height": 329
        }
      },
      "source": [
        "np.array(np.meshgrid(v_X, v_Y, v_Z)).T"
      ],
      "execution_count": 0,
      "outputs": [
        {
          "output_type": "execute_result",
          "data": {
            "text/plain": [
              "array([[[[2, 0, 1],\n",
              "         [2, 8, 1]],\n",
              "\n",
              "        [[4, 0, 1],\n",
              "         [4, 8, 1]],\n",
              "\n",
              "        [[6, 0, 1],\n",
              "         [6, 8, 1]]],\n",
              "\n",
              "\n",
              "       [[[2, 0, 5],\n",
              "         [2, 8, 5]],\n",
              "\n",
              "        [[4, 0, 5],\n",
              "         [4, 8, 5]],\n",
              "\n",
              "        [[6, 0, 5],\n",
              "         [6, 8, 5]]]])"
            ]
          },
          "metadata": {
            "tags": []
          },
          "execution_count": 46
        }
      ]
    },
    {
      "cell_type": "code",
      "metadata": {
        "id": "eMv4lFnD0Enn",
        "colab_type": "code",
        "outputId": "e5264b3d-5828-417a-c5d6-e1b428c45d9d",
        "colab": {
          "base_uri": "https://localhost:8080/",
          "height": 225
        }
      },
      "source": [
        "# Resultado final\n",
        "v_W= np.array(np.meshgrid(v_X, v_Y, v_Z)).T.reshape(-1,3)\n",
        "v_W"
      ],
      "execution_count": 0,
      "outputs": [
        {
          "output_type": "execute_result",
          "data": {
            "text/plain": [
              "array([[2, 0, 1],\n",
              "       [2, 8, 1],\n",
              "       [4, 0, 1],\n",
              "       [4, 8, 1],\n",
              "       [6, 0, 1],\n",
              "       [6, 8, 1],\n",
              "       [2, 0, 5],\n",
              "       [2, 8, 5],\n",
              "       [4, 0, 5],\n",
              "       [4, 8, 5],\n",
              "       [6, 0, 5],\n",
              "       [6, 8, 5]])"
            ]
          },
          "metadata": {
            "tags": []
          },
          "execution_count": 47
        }
      ]
    },
    {
      "cell_type": "markdown",
      "metadata": {
        "id": "Rz80YANfAh2k",
        "colab_type": "text"
      },
      "source": [
        "___\n",
        "# **Wrap Up**"
      ]
    },
    {
      "cell_type": "markdown",
      "metadata": {
        "id": "_cyhMsAVXxGC",
        "colab_type": "text"
      },
      "source": [
        "___\n",
        "# **Exercícios**"
      ]
    },
    {
      "cell_type": "markdown",
      "metadata": {
        "id": "kNjovMw3uJ3R",
        "colab_type": "text"
      },
      "source": [
        "## Exercício 1 - Selecionar os números pares\n",
        "> Dado o 1D array abaixo, selecionar somente os números pares."
      ]
    },
    {
      "cell_type": "code",
      "metadata": {
        "id": "isDzQjwjBX3V",
        "colab_type": "code",
        "colab": {}
      },
      "source": [
        "v_Array= np.array([0, 1, 2, 3, 4, 5, 6, 7, 8, 9])\n",
        "v_Array"
      ],
      "execution_count": 0,
      "outputs": []
    },
    {
      "cell_type": "markdown",
      "metadata": {
        "id": "Kq1zt-uO1HXv",
        "colab_type": "text"
      },
      "source": [
        "### **Minha solução**"
      ]
    },
    {
      "cell_type": "code",
      "metadata": {
        "id": "YFmK_n2M1Ks9",
        "colab_type": "code",
        "colab": {}
      },
      "source": [
        "v_Array[v_Array % 2 == 0]"
      ],
      "execution_count": 0,
      "outputs": []
    },
    {
      "cell_type": "markdown",
      "metadata": {
        "id": "sScYG0hp05vb",
        "colab_type": "text"
      },
      "source": [
        "___\n",
        "## Exercício 2 - Substituir pela mediana\n",
        "> Dado o array 1D abaixo, substituir os números pares pela mediana de v_Array."
      ]
    },
    {
      "cell_type": "code",
      "metadata": {
        "id": "XLZ-DIWU1WFs",
        "colab_type": "code",
        "colab": {}
      },
      "source": [
        "v_Array= np.array([0, 1, 2, 3, 4, 5, 6, 7, 8, 9])\n",
        "v_Array"
      ],
      "execution_count": 0,
      "outputs": []
    },
    {
      "cell_type": "markdown",
      "metadata": {
        "id": "9c4QWJno1WVB",
        "colab_type": "text"
      },
      "source": [
        "### **Minha solução**\n",
        "* Primeiramente, precisamos calcular a mediana.\n",
        "* Depois, substituimos os valores pares de v_Array pela mediana encontrada anteriormente. Ok?"
      ]
    },
    {
      "cell_type": "code",
      "metadata": {
        "id": "rx7NGAO01Wfb",
        "colab_type": "code",
        "colab": {}
      },
      "source": [
        "v_Array[v_Array % 2 == 0] = np.median(v_Array)\n",
        "v_Array"
      ],
      "execution_count": 0,
      "outputs": []
    },
    {
      "cell_type": "markdown",
      "metadata": {
        "id": "2c_AphX82qp8",
        "colab_type": "text"
      },
      "source": [
        "Verificando..."
      ]
    },
    {
      "cell_type": "code",
      "metadata": {
        "id": "9kVta0Cr13Z9",
        "colab_type": "code",
        "colab": {}
      },
      "source": [
        "f'A média de v_Array é: {np.median(v_Array)}'"
      ],
      "execution_count": 0,
      "outputs": []
    },
    {
      "cell_type": "markdown",
      "metadata": {
        "id": "L9O-Hf5x26TY",
        "colab_type": "text"
      },
      "source": [
        "___\n",
        "## Exercício 3 - Reshape\n",
        "> Dado o array 1D abaixo, reshape para um array 2D com 3 colunas."
      ]
    },
    {
      "cell_type": "code",
      "metadata": {
        "id": "0_laUvtB4Wl-",
        "colab_type": "code",
        "colab": {}
      },
      "source": [
        "# Define seed\n",
        "np.random.seed(20111974)\n",
        "v_Array= np.array(np.random.randint(1, 10, size= 15))\n",
        "v_Array"
      ],
      "execution_count": 0,
      "outputs": []
    },
    {
      "cell_type": "markdown",
      "metadata": {
        "id": "dKzEX8TK5b4Z",
        "colab_type": "text"
      },
      "source": [
        "### **Minha solução**\n",
        "* O array 1D v_Array acima possui 15 elementos. Como queremos transformá-lo num array 2D com 3 colunas, então cada coluna terá 5 elementos."
      ]
    },
    {
      "cell_type": "code",
      "metadata": {
        "id": "I-j5yVD04249",
        "colab_type": "code",
        "colab": {}
      },
      "source": [
        "v_Array.reshape(5, 3) \n",
        "# Poderia ser v_Array.reshape(-1, 3), onde \"-1\" pede para o NumPy calcular o número de linhas. "
      ],
      "execution_count": 0,
      "outputs": []
    },
    {
      "cell_type": "markdown",
      "metadata": {
        "colab_type": "text",
        "id": "F1vfS8jE6L0_"
      },
      "source": [
        "___\n",
        "## Exercício 4 - Reshape\n",
        "> Dado o array 1D abaixo, reshape para um array 3D com 2 colunas."
      ]
    },
    {
      "cell_type": "code",
      "metadata": {
        "colab_type": "code",
        "id": "xcN-bez56L1D",
        "colab": {}
      },
      "source": [
        "# Define seed\n",
        "np.random.seed(20111974)\n",
        "v_Array= np.array(np.random.randint(1, 10, size= 16))\n",
        "v_Array"
      ],
      "execution_count": 0,
      "outputs": []
    },
    {
      "cell_type": "markdown",
      "metadata": {
        "colab_type": "text",
        "id": "7iICnOyG6fcj"
      },
      "source": [
        "### **Minha solução**\n",
        "* O array 1D v_Array acima possui 16 elementos. Queremos transformá-lo num array 3D com 2 colunas."
      ]
    },
    {
      "cell_type": "code",
      "metadata": {
        "colab_type": "code",
        "id": "vdq5ybuD6fcn",
        "colab": {}
      },
      "source": [
        "v_Array.reshape(-1, 2) # O valor \"-1\" na posição das linhas pede ao NumPy para calcular o número de linhas automaticamente."
      ],
      "execution_count": 0,
      "outputs": []
    }
  ]
}