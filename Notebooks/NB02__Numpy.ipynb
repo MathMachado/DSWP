{
  "nbformat": 4,
  "nbformat_minor": 0,
  "metadata": {
    "colab": {
      "name": "PythonLab.ipynb",
      "provenance": [],
      "collapsed_sections": [
        "n8BIbzQbNWUo",
        "7eS94uQ4NhVR",
        "SYOgJpGYVLUu",
        "CaHFxk98W5if",
        "ReWUyWiHXCnc",
        "CqszHxaKHr2h",
        "tXgF1Wl9gHKY",
        "Fotx7XUquAo8",
        "36kmLUYDvsUI",
        "SWO2GdNovxAp",
        "vpN54l4vxze5",
        "u4HOf9SNytSq",
        "6BQ9oZiD9hg5",
        "tz5-QdrX9vct",
        "p1muBgMX8NK4",
        "FxTC2-U88ajk",
        "z8EYn0pP25Rh"
      ],
      "include_colab_link": true
    },
    "kernelspec": {
      "name": "python3",
      "display_name": "Python 3"
    },
    "accelerator": "GPU"
  },
  "cells": [
    {
      "cell_type": "markdown",
      "metadata": {
        "id": "view-in-github",
        "colab_type": "text"
      },
      "source": [
        "<a href=\"https://colab.research.google.com/github/MathMachado/DSWP/blob/master/Notebooks/NB02__Numpy.ipynb\" target=\"_parent\"><img src=\"https://colab.research.google.com/assets/colab-badge.svg\" alt=\"Open In Colab\"/></a>"
      ]
    },
    {
      "cell_type": "markdown",
      "metadata": {
        "id": "cO5t3xCO8kyK",
        "colab_type": "text"
      },
      "source": [
        "# Notas & observações\n",
        "* Ver koalas no DATABRICKS - Basicamente:\n",
        "import koalas as k\n",
        "\n",
        "E tudo que se utilizava pandas, substitui por koalas.\n",
        "\n",
        "* Foco do numPy para Data Analysis. Portanto, utilizar o livro \"Mastering Pandas\", capítulo que fala de numPy e pegar o conteúdo que importa para Data Analysis.\n",
        "* Usar os livros (estão no meu Dropbox): Python Data Analysis & Python Data Analysis Cookbook para conteúdos de Pandas.\n",
        "* Qual a interpretação para os v_Autovalores e autovetores?\n",
        "* Explorar: https://www.w3resource.com/python-exercises/numpy/index-array.php - Lá há exercícios de estatísti\n",
        "\n",
        "* Explorar em busca de exercícios de estatística: https://github.com/rougier/numpy-100/blob/master/100_Numpy_exercises.ipynb\n",
        "\n",
        "* Ler: https://medium.com/intellipaat/python-numpy-tutorial-b0118b79cf3c"
      ]
    },
    {
      "cell_type": "markdown",
      "metadata": {
        "id": "b8EZupp68vW8",
        "colab_type": "text"
      },
      "source": [
        "___\n",
        "# **Agenda**:\n",
        "> Nesta capítulo, vamos falar sobre:\n",
        "\n",
        "* NumPy\n",
        "* Criar arrays\n",
        "* Criar ndarrays - Arrays Multidimensionais\n",
        "* Selecionar itens\n",
        "* Aplicar funções como max(), min() e etc\n",
        "* Calcular Estatísticas Descritivas: média e variância\n",
        "* Reshaping\n",
        "* Tansposta de um ndarray\n",
        "* Autovalores e Autovetores\n",
        "* Wrap Up\n",
        "* Exercícios"
      ]
    },
    {
      "cell_type": "markdown",
      "metadata": {
        "id": "z2IFUG4GSB0Z",
        "colab_type": "text"
      },
      "source": [
        "___\n",
        "# **NumPy**\n",
        "* O NumPy é um pacote para computação científica e álgebra linear para Python."
      ]
    },
    {
      "cell_type": "markdown",
      "metadata": {
        "id": "jYLeDVH-SNCg",
        "colab_type": "text"
      },
      "source": [
        "![Numpy](https://github.com/MathMachado/Python_RFB/blob/master/Material/numpy_basics-1.png?raw=true)"
      ]
    },
    {
      "cell_type": "markdown",
      "metadata": {
        "id": "o00pYRIkXiAU",
        "colab_type": "text"
      },
      "source": [
        "## Import Statement - Primeiros exemplos\n",
        "> Como exemplo, considere gerar uma amostra aleatória de tamanho 10 da Distribuiçao Normal(0, 1):"
      ]
    },
    {
      "cell_type": "markdown",
      "metadata": {
        "id": "l_XuvcUDWNDk",
        "colab_type": "text"
      },
      "source": [
        "## Importar a library NumPy"
      ]
    },
    {
      "cell_type": "markdown",
      "metadata": {
        "id": "am_ZTIGaapCo",
        "colab_type": "text"
      },
      "source": [
        "### **Opção 1**: Importar a biblioteca NumPy COM alias"
      ]
    },
    {
      "cell_type": "code",
      "metadata": {
        "id": "b4irLw6BWVVZ",
        "colab_type": "code",
        "colab": {}
      },
      "source": [
        "import numpy as np"
      ],
      "execution_count": 0,
      "outputs": []
    },
    {
      "cell_type": "code",
      "metadata": {
        "id": "JK54ga7dXnJu",
        "colab_type": "code",
        "outputId": "872c40d8-541c-45de-f439-ce043f9efd9e",
        "colab": {
          "base_uri": "https://localhost:8080/",
          "height": 52
        }
      },
      "source": [
        "# Set up o número de casas decimais para o NumPy:\n",
        "np.set_printoptions(precision= 2, suppress= True)\n",
        "\n",
        "'''\n",
        "Define seed por questões de reproducibilidade, ou seja, \n",
        "garante que todos vamos gerar os mesmos números aleatórios\n",
        "'''\n",
        "np.random.seed(seed= 20111974)\n",
        "\n",
        "# Gera 10 números aleatórios a partir da Distribuição Normal(mu, sigma)\n",
        "mu= 0\n",
        "sigma= 1\n",
        "v_Array= np.random.normal(mu, sigma, size= 10) # Array 1D de size= 10\n",
        "v_Array"
      ],
      "execution_count": 14,
      "outputs": [
        {
          "output_type": "execute_result",
          "data": {
            "text/plain": [
              "array([ 2.51,  1.11,  2.06,  0.56,  0.3 ,  1.05, -0.13,  1.06,  1.14,\n",
              "        1.38])"
            ]
          },
          "metadata": {
            "tags": []
          },
          "execution_count": 14
        }
      ]
    },
    {
      "cell_type": "markdown",
      "metadata": {
        "id": "3-0934isZUm6",
        "colab_type": "text"
      },
      "source": [
        "**Observação**: Altere o valor de [precision] para 4, 2 e 0 e observe o que acontece."
      ]
    },
    {
      "cell_type": "markdown",
      "metadata": {
        "id": "9ob_8S_bYYa2",
        "colab_type": "text"
      },
      "source": [
        "### **Opção 2**: Importar a biblioteca NumPy SEM alias"
      ]
    },
    {
      "cell_type": "code",
      "metadata": {
        "id": "NcGd1ho_XDXU",
        "colab_type": "code",
        "colab": {}
      },
      "source": [
        "import numpy"
      ],
      "execution_count": 0,
      "outputs": []
    },
    {
      "cell_type": "code",
      "metadata": {
        "id": "zFYH6J5-Ydjl",
        "colab_type": "code",
        "outputId": "fe7ad776-b131-47f7-e5ea-0f315a15bb64",
        "colab": {
          "base_uri": "https://localhost:8080/",
          "height": 52
        }
      },
      "source": [
        "# Set up o número de casas decimais para o NumPy:\n",
        "numpy.set_printoptions(precision= 2, suppress=True)\n",
        "\n",
        "'''\n",
        "Define seed por questões de reproducibilidade, ou seja, \n",
        "garante que todos vamos gerar os mesmos números aleatórios\n",
        "'''\n",
        "numpy.random.seed(seed= 20111974)\n",
        "\n",
        "# Gera 10 números aleatórios a partir da Distribuição Normal(mu, sigma)\n",
        "mu= 0\n",
        "sigma= 1\n",
        "numpy.random.normal(size= 10)"
      ],
      "execution_count": 16,
      "outputs": [
        {
          "output_type": "execute_result",
          "data": {
            "text/plain": [
              "array([ 2.51,  1.11,  2.06,  0.56,  0.3 ,  1.05, -0.13,  1.06,  1.14,\n",
              "        1.38])"
            ]
          },
          "metadata": {
            "tags": []
          },
          "execution_count": 16
        }
      ]
    },
    {
      "cell_type": "markdown",
      "metadata": {
        "id": "AwWSzYrZWfvA",
        "colab_type": "text"
      },
      "source": [
        "### **Opção 3**: Importar funções específicas da biblioteca NumPy"
      ]
    },
    {
      "cell_type": "code",
      "metadata": {
        "id": "bfYJzcqRa5eu",
        "colab_type": "code",
        "colab": {}
      },
      "source": [
        "from numpy import set_printoptions\n",
        "from numpy.random import seed, normal"
      ],
      "execution_count": 0,
      "outputs": []
    },
    {
      "cell_type": "code",
      "metadata": {
        "id": "Xj6fbpvubH_p",
        "colab_type": "code",
        "outputId": "62d47dff-766f-4708-d3e5-4cea1ff59ebe",
        "colab": {
          "base_uri": "https://localhost:8080/",
          "height": 52
        }
      },
      "source": [
        "# Set up o número de casas decimais para o NumPy:\n",
        "set_printoptions(precision= 2, suppress=True)\n",
        "\n",
        "'''\n",
        "Define seed por questões de reproducibilidade, ou seja, \n",
        "garante que todos vamos gerar os mesmos números aleatórios\n",
        "'''\n",
        "seed(seed= 20111974)\n",
        "\n",
        "# Gera 10 números aleatórios a partir da Distribuição Normal(mu, sigma)\n",
        "mu= 0\n",
        "sigma= 1\n",
        "normal(size= 10)"
      ],
      "execution_count": 18,
      "outputs": [
        {
          "output_type": "execute_result",
          "data": {
            "text/plain": [
              "array([ 2.51,  1.11,  2.06,  0.56,  0.3 ,  1.05, -0.13,  1.06,  1.14,\n",
              "        1.38])"
            ]
          },
          "metadata": {
            "tags": []
          },
          "execution_count": 18
        }
      ]
    },
    {
      "cell_type": "markdown",
      "metadata": {
        "id": "XvpUfcIkbdN6",
        "colab_type": "text"
      },
      "source": [
        "### Comentários sobre o import\n",
        "> Eu, particularmente, prefiro as opções 1 ou 2 e é a que uso nesse treinamento."
      ]
    },
    {
      "cell_type": "markdown",
      "metadata": {
        "id": "00RerJPChnuP",
        "colab_type": "text"
      },
      "source": [
        "___\n",
        "# **Estatísticas Descriticas com NumPy**"
      ]
    },
    {
      "cell_type": "markdown",
      "metadata": {
        "id": "Qa6ro1VJlShd",
        "colab_type": "text"
      },
      "source": [
        "## Exemplo 1\n",
        "> Vamos voltar ao mesmo exemplo anterior, mas desta vez, usando a opção 1 (com alias):\n",
        "\n",
        "* Gerar uma amostra aleatória de tamanho 10 da Distribuiçao Normal(0, 1)."
      ]
    },
    {
      "cell_type": "code",
      "metadata": {
        "id": "31dSBU8khvFk",
        "colab_type": "code",
        "outputId": "77975c6f-fbbf-4704-c728-662177572d6e",
        "colab": {
          "base_uri": "https://localhost:8080/",
          "height": 52
        }
      },
      "source": [
        "# Set up o número de casas decimais para o NumPy:\n",
        "np.set_printoptions(precision= 2, suppress=True)\n",
        "\n",
        "# Define seed\n",
        "np.random.seed(seed= 20111974)\n",
        "\n",
        "# Gera 10 números aleatórios a partir da Distribuição Normal(mu, sigma)\n",
        "mu= 0\n",
        "sigma= 1\n",
        "v_Array= np.random.normal(mu, sigma, size= 10) # Array 1D de size= 10\n",
        "v_Array"
      ],
      "execution_count": 19,
      "outputs": [
        {
          "output_type": "execute_result",
          "data": {
            "text/plain": [
              "array([ 2.51,  1.11,  2.06,  0.56,  0.3 ,  1.05, -0.13,  1.06,  1.14,\n",
              "        1.38])"
            ]
          },
          "metadata": {
            "tags": []
          },
          "execution_count": 19
        }
      ]
    },
    {
      "cell_type": "markdown",
      "metadata": {
        "id": "wa2t0P3nevTh",
        "colab_type": "text"
      },
      "source": [
        "Conferindo a média e desvio-padrão do array gerado:"
      ]
    },
    {
      "cell_type": "code",
      "metadata": {
        "id": "drUyk3f5ekDq",
        "colab_type": "code",
        "outputId": "e674078a-d56f-492e-a0bd-be4c1251bd79",
        "colab": {
          "base_uri": "https://localhost:8080/",
          "height": 35
        }
      },
      "source": [
        "f'Distribuição N({np.mean(v_Array)}, {np.std(v_Array)})'"
      ],
      "execution_count": 20,
      "outputs": [
        {
          "output_type": "execute_result",
          "data": {
            "text/plain": [
              "'Distribuição N(1.1043374540652753, 0.735246705657231)'"
            ]
          },
          "metadata": {
            "tags": []
          },
          "execution_count": 20
        }
      ]
    },
    {
      "cell_type": "markdown",
      "metadata": {
        "id": "XSp7Hd-Gib67",
        "colab_type": "text"
      },
      "source": [
        "Estávamos à espera de mu= 0 e std= 1. Certo?\n",
        "\n",
        "Porque isso não aconteceu?"
      ]
    },
    {
      "cell_type": "markdown",
      "metadata": {
        "id": "HP_8VSgygXOF",
        "colab_type": "text"
      },
      "source": [
        "## **Laboratório 1**\n",
        "> Altere os valores de [size] para 100, 1.000, 10.000, 100.000 e 1.000.000 e relate o que acontece com a média e desvio padrão."
      ]
    },
    {
      "cell_type": "markdown",
      "metadata": {
        "id": "4TbmVbdcg6iU",
        "colab_type": "text"
      },
      "source": [
        "## **Minha solução**"
      ]
    },
    {
      "cell_type": "code",
      "metadata": {
        "id": "-qdiqBVHg-gd",
        "colab_type": "code",
        "outputId": "57204b41-450e-47f9-9980-34ac2f0709f0",
        "colab": {
          "base_uri": "https://localhost:8080/",
          "height": 139
        }
      },
      "source": [
        "# Define a média e o desvio-padrão\n",
        "mu= 0\n",
        "sigma= 1\n",
        "\n",
        "# Define seed\n",
        "np.random.seed(seed= 20111974)\n",
        "\n",
        "for i_Size in [10, 100, 1000, 10000, 100000, 1000000, 10000000]:\n",
        "    v_Array= np.random.normal(mu, sigma, size= i_Size)\n",
        "    print(f'Size: {i_Size}--> Distribuição: N({np.mean(v_Array)}, {np.std(v_Array)})')"
      ],
      "execution_count": 21,
      "outputs": [
        {
          "output_type": "stream",
          "text": [
            "Size: 10--> Distribuição: N(1.1043374540652753, 0.735246705657231)\n",
            "Size: 100--> Distribuição: N(-0.14020525697186714, 0.9254100654233511)\n",
            "Size: 1000--> Distribuição: N(0.021644923462910873, 1.0054417533501039)\n",
            "Size: 10000--> Distribuição: N(0.015499353804764507, 0.9970905566844254)\n",
            "Size: 100000--> Distribuição: N(0.002039323041103302, 0.9960906293570095)\n",
            "Size: 1000000--> Distribuição: N(-1.1062145143945444e-06, 0.999473966169304)\n",
            "Size: 10000000--> Distribuição: N(0.0002892972723094128, 1.0001202837422036)\n"
          ],
          "name": "stdout"
        }
      ]
    },
    {
      "cell_type": "markdown",
      "metadata": {
        "id": "bp-YuviQwWqE",
        "colab_type": "text"
      },
      "source": [
        "Com relação à Distribuição Normal($\\mu, \\sigma$), temos que:\n",
        "\n",
        "![NormalDistribution](https://github.com/MathMachado/Python4DS/blob/DS_Python/Material/NormalDistribution.PNG?raw=true)\n",
        "\n",
        "Fonte: [Normal Distribution](https://towardsdatascience.com/understanding-the-68-95-99-7-rule-for-a-normal-distribution-b7b7cbf760c2)"
      ]
    },
    {
      "cell_type": "markdown",
      "metadata": {
        "id": "KwHBY3Enk04N",
        "colab_type": "text"
      },
      "source": [
        "## Lei Forte dos Grandes Números - LFGN\n",
        "> Por favor, leia o que diz a [Law of large numbers](https://en.wikipedia.org/wiki/Law_of_large_numbers).\n",
        "\n",
        "* O que você aprendeu com isso?"
      ]
    },
    {
      "cell_type": "markdown",
      "metadata": {
        "id": "BhwmSkAjlszT",
        "colab_type": "text"
      },
      "source": [
        "## Exemplo 2\n",
        "> Vamos nos aprofundar um pouco mais no que diz a LFGN. Para isso, vamos simular o lançamento de dados. Como sabemos, os dados possuem 6 lados numerados de 1 a 6, com igual probabilidade. Certo?\n",
        "\n",
        "A LFGN nos diz que à medida que N (o tamanho da amostra ou número de dados) cresce, então a média dos dados converge para o valor esperado. Isso quer dizer que:\n",
        "\n",
        "$$\\frac{1+2+3+4+5+6}{6}= \\frac{21}{6}= 3,5$$\n",
        "\n",
        "Ou seja, à medida que N cresce, espera-se que a média dos dados se aproxime de 3,5. Ok?\n",
        "\n",
        "Vamos ver se isso é verdade..."
      ]
    },
    {
      "cell_type": "markdown",
      "metadata": {
        "id": "-QcJXf6roj0D",
        "colab_type": "text"
      },
      "source": [
        "Primeiramente, vamos demonstrar o uso da função np.random.randint, a seguir:"
      ]
    },
    {
      "cell_type": "code",
      "metadata": {
        "id": "CRP22OhpoMxm",
        "colab_type": "code",
        "colab": {}
      },
      "source": [
        "# Define seed\n",
        "np.random.seed(seed= 20111974)"
      ],
      "execution_count": 0,
      "outputs": []
    },
    {
      "cell_type": "markdown",
      "metadata": {
        "id": "A2u0RzLOrRE2",
        "colab_type": "text"
      },
      "source": [
        "O que significa ou qual é a interpretação do resultado abaixo?"
      ]
    },
    {
      "cell_type": "code",
      "metadata": {
        "id": "B3-X_VBerUfa",
        "colab_type": "code",
        "outputId": "dd67ca4c-c3d4-4d07-ad2b-966df5ce10d4",
        "colab": {
          "base_uri": "https://localhost:8080/",
          "height": 104
        }
      },
      "source": [
        "# Simular 100 lançamentos de um dado:\n",
        "v_Dados= np.random.randint(1, 7, size= 100)\n",
        "v_Dados"
      ],
      "execution_count": 23,
      "outputs": [
        {
          "output_type": "execute_result",
          "data": {
            "text/plain": [
              "array([4, 5, 3, 1, 1, 4, 3, 1, 2, 2, 1, 1, 6, 4, 5, 3, 1, 4, 1, 6, 2, 4,\n",
              "       6, 2, 4, 3, 2, 6, 3, 6, 2, 6, 1, 3, 1, 2, 4, 2, 4, 6, 3, 2, 6, 1,\n",
              "       4, 3, 6, 5, 2, 3, 3, 3, 3, 2, 1, 6, 2, 1, 2, 3, 1, 5, 6, 6, 6, 6,\n",
              "       5, 6, 6, 5, 6, 3, 3, 2, 4, 2, 6, 1, 2, 3, 4, 5, 5, 3, 1, 6, 6, 5,\n",
              "       5, 1, 4, 6, 2, 2, 4, 3, 6, 1, 5, 5])"
            ]
          },
          "metadata": {
            "tags": []
          },
          "execution_count": 23
        }
      ]
    },
    {
      "cell_type": "code",
      "metadata": {
        "id": "m8Of2MMIrbF3",
        "colab_type": "code",
        "outputId": "b66bcafc-0d30-4e9e-ab93-5a63d600f1c8",
        "colab": {
          "base_uri": "https://localhost:8080/",
          "height": 139
        }
      },
      "source": [
        "import pandas as pd\n",
        "pd.value_counts(v_Dados)"
      ],
      "execution_count": 24,
      "outputs": [
        {
          "output_type": "execute_result",
          "data": {
            "text/plain": [
              "6    22\n",
              "3    18\n",
              "2    18\n",
              "1    17\n",
              "4    13\n",
              "5    12\n",
              "dtype: int64"
            ]
          },
          "metadata": {
            "tags": []
          },
          "execution_count": 24
        }
      ]
    },
    {
      "cell_type": "markdown",
      "metadata": {
        "id": "54VwED8Br8rx",
        "colab_type": "text"
      },
      "source": [
        "**Interpretação**: Isso quer dizer que fizemos a simulação de lançamento de um dado 100 vezes. Acima, a frequência com que cada lado do dado aparece.\n",
        "\n",
        "Eu estava à espera de frequência igual para cada um dos lados, isto é, por volta dos 16 ou 17. Ou seja:\n",
        "\n",
        "$$\\frac{100}{6}= 16,66$$\n",
        "\n",
        "Mas ok, vamos continuar com nosso experimento..."
      ]
    },
    {
      "cell_type": "code",
      "metadata": {
        "id": "HT_Dak-umC6I",
        "colab_type": "code",
        "outputId": "ad48b13f-5bf1-4c25-c1f5-dfc264ad7d24",
        "colab": {
          "base_uri": "https://localhost:8080/",
          "height": 173
        }
      },
      "source": [
        "# Definir a semente\n",
        "for i_Size in [10, 30, 50, 75, 100, 1000, 10000, 100000, 1000000]:\n",
        "    np.random.seed(20111974) # Porque a seed tem que ser definido dentro do loop?\n",
        "    v_Dados= np.random.randint(1, 7, size= i_Size)\n",
        "    print(f'Size= {i_Size} --> Média: {np.mean(v_Dados)}')"
      ],
      "execution_count": 25,
      "outputs": [
        {
          "output_type": "stream",
          "text": [
            "Size= 10 --> Média: 2.6\n",
            "Size= 30 --> Média: 3.2\n",
            "Size= 50 --> Média: 3.24\n",
            "Size= 75 --> Média: 3.44\n",
            "Size= 100 --> Média: 3.51\n",
            "Size= 1000 --> Média: 3.466\n",
            "Size= 10000 --> Média: 3.5164\n",
            "Size= 100000 --> Média: 3.50967\n",
            "Size= 1000000 --> Média: 3.502262\n"
          ],
          "name": "stdout"
        }
      ]
    },
    {
      "cell_type": "markdown",
      "metadata": {
        "id": "edWNNOnXtbtd",
        "colab_type": "text"
      },
      "source": [
        "E agora, como você interpreta esses resultados?"
      ]
    },
    {
      "cell_type": "markdown",
      "metadata": {
        "id": "eL6gXThkYcSf",
        "colab_type": "text"
      },
      "source": [
        "## Calculando percentis\n",
        "> Considere o array de retornos (simulados) a seguir:"
      ]
    },
    {
      "cell_type": "code",
      "metadata": {
        "id": "DjPKKq01YjF9",
        "colab_type": "code",
        "outputId": "9cb56865-243c-4c4b-d9bf-13b2f889184a",
        "colab": {
          "base_uri": "https://localhost:8080/",
          "height": 35
        }
      },
      "source": [
        "import numpy as np\n",
        "np.random.seed(20111974)\n",
        "\n",
        "# Simulando Retornos de ativos financeiros com a distribuição Normal(0,1):\n",
        "v_Retornos= np.random.normal(0, 1, 100)\n",
        "print(f'Média: {np.mean(v_Retornos)}')"
      ],
      "execution_count": 26,
      "outputs": [
        {
          "output_type": "stream",
          "text": [
            "Média: -0.016996335492713833\n"
          ],
          "name": "stdout"
        }
      ]
    },
    {
      "cell_type": "code",
      "metadata": {
        "id": "ajjlfqgssLVO",
        "colab_type": "code",
        "outputId": "397424b1-5a23-4a1b-9a80-7129f9f82c0b",
        "colab": {
          "base_uri": "https://localhost:8080/",
          "height": 225
        }
      },
      "source": [
        "v_Retornos"
      ],
      "execution_count": 27,
      "outputs": [
        {
          "output_type": "execute_result",
          "data": {
            "text/plain": [
              "array([ 2.51,  1.11,  2.06,  0.56,  0.3 ,  1.05, -0.13,  1.06,  1.14,\n",
              "        1.38, -2.06,  0.67,  0.73, -0.34,  0.44,  0.59, -1.29,  1.18,\n",
              "       -0.99, -1.79, -1.09, -0.91, -1.02, -1.36, -0.29,  0.06, -1.14,\n",
              "       -0.51, -0.84, -1.41, -0.22, -1.17, -0.61, -0.62,  1.08,  0.5 ,\n",
              "        0.03,  1.83,  0.35, -1.15, -0.6 , -0.43,  0.11, -0.75,  0.72,\n",
              "       -0.51,  0.48, -0.38, -1.37,  1.54, -0.27,  0.68, -1.8 ,  1.17,\n",
              "       -0.38,  0.19,  1.54, -0.12, -0.98, -1.23,  1.05,  1.91,  0.8 ,\n",
              "        0.36,  1.03, -0.37,  0.33,  0.7 , -0.98, -1.21,  0.74,  0.18,\n",
              "        0.1 , -0.78, -0.04,  1.67, -1.07, -0.55, -1.83,  0.12,  1.39,\n",
              "       -0.29,  0.32, -0.7 , -0.44, -2.03, -0.14,  1.66, -0.58, -0.79,\n",
              "       -0.81,  0.06,  0.87, -0.35,  1.37,  0.88, -1.48, -0.41, -0.19,\n",
              "        0.47])"
            ]
          },
          "metadata": {
            "tags": []
          },
          "execution_count": 27
        }
      ]
    },
    {
      "cell_type": "markdown",
      "metadata": {
        "id": "XZ3m06gv9lei",
        "colab_type": "text"
      },
      "source": [
        "A seguir, o boxplot do array v_Retornos:"
      ]
    },
    {
      "cell_type": "code",
      "metadata": {
        "id": "QtuwJP449tBQ",
        "colab_type": "code",
        "outputId": "58fefb94-abcb-47fe-b8af-5019adae7242",
        "colab": {
          "base_uri": "https://localhost:8080/",
          "height": 273
        }
      },
      "source": [
        "# Import a biblioteca seaborn:\n",
        "import seaborn as sns\n",
        "sns.boxplot(y= v_Retornos)"
      ],
      "execution_count": 28,
      "outputs": [
        {
          "output_type": "execute_result",
          "data": {
            "text/plain": [
              "<matplotlib.axes._subplots.AxesSubplot at 0x7fd71ba16940>"
            ]
          },
          "metadata": {
            "tags": []
          },
          "execution_count": 28
        },
        {
          "output_type": "display_data",
          "data": {
            "image/png": "[encoded data removed]",
            "text/plain": [
              "<Figure size 432x288 with 1 Axes>"
            ]
          },
          "metadata": {
            "tags": []
          }
        }
      ]
    },
    {
      "cell_type": "markdown",
      "metadata": {
        "id": "jlGOQfXfPf0D",
        "colab_type": "text"
      },
      "source": [
        "![BoxPlot](https://github.com/MathMachado/Python4DS/blob/DS_Python/Material/boxplot.png?raw=true)"
      ]
    },
    {
      "cell_type": "code",
      "metadata": {
        "id": "o9ujdjxNY6qE",
        "colab_type": "code",
        "outputId": "6bc65525-1050-4d62-9872-7f5155c74f42",
        "colab": {
          "base_uri": "https://localhost:8080/",
          "height": 35
        }
      },
      "source": [
        "Percentis= np.percentile(v_Retornos, q=[1, 5, 25, 50, 55, 75, 99])\n",
        "Percentis[2]"
      ],
      "execution_count": 29,
      "outputs": [
        {
          "output_type": "execute_result",
          "data": {
            "text/plain": [
              "-0.7836147655170408"
            ]
          },
          "metadata": {
            "tags": []
          },
          "execution_count": 29
        }
      ]
    },
    {
      "cell_type": "code",
      "metadata": {
        "id": "sWrnESPQT4JM",
        "colab_type": "code",
        "colab": {}
      },
      "source": [
        "# Lim_Inf e Lim_Sup para detecção de outliers\n",
        "Lim_Inf= Percentis[2]-1.5*(Percentis[5]-Percentis[2])\n",
        "Lim_Sup= Percentis[5]+1.5*(Percentis[5]-Percentis[2])"
      ],
      "execution_count": 0,
      "outputs": []
    },
    {
      "cell_type": "code",
      "metadata": {
        "id": "Yb4-ZJlUUYsi",
        "colab_type": "code",
        "colab": {
          "base_uri": "https://localhost:8080/",
          "height": 35
        },
        "outputId": "86cbc0c8-6d9f-46fb-a844-74e2df4597af"
      },
      "source": [
        "f'Limite Inferior: {Lim_Inf}; Limite Superior: {Lim_Sup}'"
      ],
      "execution_count": 31,
      "outputs": [
        {
          "output_type": "execute_result",
          "data": {
            "text/plain": [
              "'Limite Inferior: -3.0382521297304486; Limite Superior: 2.974114174838639'"
            ]
          },
          "metadata": {
            "tags": []
          },
          "execution_count": 31
        }
      ]
    },
    {
      "cell_type": "code",
      "metadata": {
        "id": "Jr6oXIHlUxOe",
        "colab_type": "code",
        "colab": {
          "base_uri": "https://localhost:8080/",
          "height": 35
        },
        "outputId": "e2db4853-0692-4d3c-ca98-b4ff374feed0"
      },
      "source": [
        "np.min(v_Retornos)"
      ],
      "execution_count": 32,
      "outputs": [
        {
          "output_type": "execute_result",
          "data": {
            "text/plain": [
              "-2.0599556303504514"
            ]
          },
          "metadata": {
            "tags": []
          },
          "execution_count": 32
        }
      ]
    },
    {
      "cell_type": "code",
      "metadata": {
        "id": "UxE47cN0U54X",
        "colab_type": "code",
        "colab": {
          "base_uri": "https://localhost:8080/",
          "height": 35
        },
        "outputId": "9df5004d-5e35-43f8-92ec-d088256809bf"
      },
      "source": [
        "np.max(v_Retornos)"
      ],
      "execution_count": 33,
      "outputs": [
        {
          "output_type": "execute_result",
          "data": {
            "text/plain": [
              "2.506276801325959"
            ]
          },
          "metadata": {
            "tags": []
          },
          "execution_count": 33
        }
      ]
    },
    {
      "cell_type": "markdown",
      "metadata": {
        "id": "OTB9HnIac499",
        "colab_type": "text"
      },
      "source": [
        "___\n",
        "# **Ordenar itens de um array**\n",
        "> Considere o array a seguir:"
      ]
    },
    {
      "cell_type": "code",
      "metadata": {
        "id": "Jgj8Yw46dBMx",
        "colab_type": "code",
        "outputId": "41caada9-55af-457e-d540-ecd46b4c099e",
        "colab": {
          "base_uri": "https://localhost:8080/",
          "height": 35
        }
      },
      "source": [
        "np.random.seed(20111974)\n",
        "v_X= np.random.random(10)\n",
        "v_X"
      ],
      "execution_count": 34,
      "outputs": [
        {
          "output_type": "execute_result",
          "data": {
            "text/plain": [
              "array([0.53, 0.57, 0.54, 0.65, 0.86, 0.6 , 0.87, 0.46, 0.67, 0.64])"
            ]
          },
          "metadata": {
            "tags": []
          },
          "execution_count": 34
        }
      ]
    },
    {
      "cell_type": "markdown",
      "metadata": {
        "id": "cC9272GFdRln",
        "colab_type": "text"
      },
      "source": [
        "Ordenando os itens de v_X..."
      ]
    },
    {
      "cell_type": "code",
      "metadata": {
        "id": "YUP90nBVdUeF",
        "colab_type": "code",
        "outputId": "85a9c261-69e4-4ca1-d4e4-0793fde85fe9",
        "colab": {
          "base_uri": "https://localhost:8080/",
          "height": 35
        }
      },
      "source": [
        "np.sort(v_X)"
      ],
      "execution_count": 35,
      "outputs": [
        {
          "output_type": "execute_result",
          "data": {
            "text/plain": [
              "array([0.46, 0.53, 0.54, 0.57, 0.6 , 0.64, 0.65, 0.67, 0.86, 0.87])"
            ]
          },
          "metadata": {
            "tags": []
          },
          "execution_count": 35
        }
      ]
    },
    {
      "cell_type": "markdown",
      "metadata": {
        "id": "lG763cDGj-yB",
        "colab_type": "text"
      },
      "source": [
        "___\n",
        "# **Obtendo ajuda**"
      ]
    },
    {
      "cell_type": "code",
      "metadata": {
        "id": "ehxPlD3EkEYL",
        "colab_type": "code",
        "outputId": "3f2de409-3a48-48bb-fe5e-84357f7c94d1",
        "colab": {
          "base_uri": "https://localhost:8080/",
          "height": 1000
        }
      },
      "source": [
        "help(np.random.normal)"
      ],
      "execution_count": 36,
      "outputs": [
        {
          "output_type": "stream",
          "text": [
            "Help on built-in function normal:\n",
            "\n",
            "normal(...) method of mtrand.RandomState instance\n",
            "    normal(loc=0.0, scale=1.0, size=None)\n",
            "    \n",
            "    Draw random samples from a normal (Gaussian) distribution.\n",
            "    \n",
            "    The probability density function of the normal distribution, first\n",
            "    derived by De Moivre and 200 years later by both Gauss and Laplace\n",
            "    independently [2]_, is often called the bell curve because of\n",
            "    its characteristic shape (see the example below).\n",
            "    \n",
            "    The normal distributions occurs often in nature.  For example, it\n",
            "    describes the commonly occurring distribution of samples influenced\n",
            "    by a large number of tiny, random disturbances, each with its own\n",
            "    unique distribution [2]_.\n",
            "    \n",
            "    Parameters\n",
            "    ----------\n",
            "    loc : float or array_like of floats\n",
            "        Mean (\"centre\") of the distribution.\n",
            "    scale : float or array_like of floats\n",
            "        Standard deviation (spread or \"width\") of the distribution.\n",
            "    size : int or tuple of ints, optional\n",
            "        Output shape.  If the given shape is, e.g., ``(m, n, k)``, then\n",
            "        ``m * n * k`` samples are drawn.  If size is ``None`` (default),\n",
            "        a single value is returned if ``loc`` and ``scale`` are both scalars.\n",
            "        Otherwise, ``np.broadcast(loc, scale).size`` samples are drawn.\n",
            "    \n",
            "    Returns\n",
            "    -------\n",
            "    out : ndarray or scalar\n",
            "        Drawn samples from the parameterized normal distribution.\n",
            "    \n",
            "    See Also\n",
            "    --------\n",
            "    scipy.stats.norm : probability density function, distribution or\n",
            "        cumulative density function, etc.\n",
            "    \n",
            "    Notes\n",
            "    -----\n",
            "    The probability density for the Gaussian distribution is\n",
            "    \n",
            "    .. math:: p(x) = \\frac{1}{\\sqrt{ 2 \\pi \\sigma^2 }}\n",
            "                     e^{ - \\frac{ (x - \\mu)^2 } {2 \\sigma^2} },\n",
            "    \n",
            "    where :math:`\\mu` is the mean and :math:`\\sigma` the standard\n",
            "    deviation. The square of the standard deviation, :math:`\\sigma^2`,\n",
            "    is called the variance.\n",
            "    \n",
            "    The function has its peak at the mean, and its \"spread\" increases with\n",
            "    the standard deviation (the function reaches 0.607 times its maximum at\n",
            "    :math:`x + \\sigma` and :math:`x - \\sigma` [2]_).  This implies that\n",
            "    `numpy.random.normal` is more likely to return samples lying close to\n",
            "    the mean, rather than those far away.\n",
            "    \n",
            "    References\n",
            "    ----------\n",
            "    .. [1] Wikipedia, \"Normal distribution\",\n",
            "           https://en.wikipedia.org/wiki/Normal_distribution\n",
            "    .. [2] P. R. Peebles Jr., \"Central Limit Theorem\" in \"Probability,\n",
            "           Random Variables and Random Signal Principles\", 4th ed., 2001,\n",
            "           pp. 51, 51, 125.\n",
            "    \n",
            "    Examples\n",
            "    --------\n",
            "    Draw samples from the distribution:\n",
            "    \n",
            "    >>> mu, sigma = 0, 0.1 # mean and standard deviation\n",
            "    >>> s = np.random.normal(mu, sigma, 1000)\n",
            "    \n",
            "    Verify the mean and the variance:\n",
            "    \n",
            "    >>> abs(mu - np.mean(s)) < 0.01\n",
            "    True\n",
            "    \n",
            "    >>> abs(sigma - np.std(s, ddof=1)) < 0.01\n",
            "    True\n",
            "    \n",
            "    Display the histogram of the samples, along with\n",
            "    the probability density function:\n",
            "    \n",
            "    >>> import matplotlib.pyplot as plt\n",
            "    >>> count, bins, ignored = plt.hist(s, 30, density=True)\n",
            "    >>> plt.plot(bins, 1/(sigma * np.sqrt(2 * np.pi)) *\n",
            "    ...                np.exp( - (bins - mu)**2 / (2 * sigma**2) ),\n",
            "    ...          linewidth=2, color='r')\n",
            "    >>> plt.show()\n",
            "\n"
          ],
          "name": "stdout"
        }
      ]
    },
    {
      "cell_type": "markdown",
      "metadata": {
        "id": "1Q_konJVaBsV",
        "colab_type": "text"
      },
      "source": [
        "___\n",
        "# **Criar arrays 1D**"
      ]
    },
    {
      "cell_type": "code",
      "metadata": {
        "id": "DddZT5kadYJ7",
        "colab_type": "code",
        "colab": {}
      },
      "source": [
        "import numpy as np\n",
        "np.set_printoptions(precision=2, suppress=True)\n",
        "np.random.seed(seed= 20111974)"
      ],
      "execution_count": 0,
      "outputs": []
    },
    {
      "cell_type": "markdown",
      "metadata": {
        "id": "jaqd-VnF3yIt",
        "colab_type": "text"
      },
      "source": [
        "Criar o ndarray 1D v_Array, com os seguintes números:"
      ]
    },
    {
      "cell_type": "code",
      "metadata": {
        "id": "E3niz_zHaF3e",
        "colab_type": "code",
        "outputId": "ee044794-c0a0-4dbb-db36-90e0d3c7f055",
        "colab": {
          "base_uri": "https://localhost:8080/",
          "height": 35
        }
      },
      "source": [
        "v_Array= np.array([0,1,2,3,4,5,6,7,8,9])\n",
        "v_Array"
      ],
      "execution_count": 38,
      "outputs": [
        {
          "output_type": "execute_result",
          "data": {
            "text/plain": [
              "array([0, 1, 2, 3, 4, 5, 6, 7, 8, 9])"
            ]
          },
          "metadata": {
            "tags": []
          },
          "execution_count": 38
        }
      ]
    },
    {
      "cell_type": "markdown",
      "metadata": {
        "id": "DyfXbW_ZKJBS",
        "colab_type": "text"
      },
      "source": [
        "Qual a dimensão de v_Array?"
      ]
    },
    {
      "cell_type": "code",
      "metadata": {
        "id": "gbHlydALKB3R",
        "colab_type": "code",
        "outputId": "8454a1c7-10ec-495f-944c-66b2b41bcfe4",
        "colab": {
          "base_uri": "https://localhost:8080/",
          "height": 35
        }
      },
      "source": [
        "# Dimensão do array\n",
        "v_Array.ndim"
      ],
      "execution_count": 39,
      "outputs": [
        {
          "output_type": "execute_result",
          "data": {
            "text/plain": [
              "1"
            ]
          },
          "metadata": {
            "tags": []
          },
          "execution_count": 39
        }
      ]
    },
    {
      "cell_type": "markdown",
      "metadata": {
        "id": "am9otElpKNPa",
        "colab_type": "text"
      },
      "source": [
        "Qual o shape de v_Array?"
      ]
    },
    {
      "cell_type": "code",
      "metadata": {
        "id": "juJJ74d2wale",
        "colab_type": "code",
        "outputId": "94ce56ab-0014-4411-aebe-42c7fd1d2878",
        "colab": {
          "base_uri": "https://localhost:8080/",
          "height": 35
        }
      },
      "source": [
        "# Números de itens no array\n",
        "v_Array.shape"
      ],
      "execution_count": 40,
      "outputs": [
        {
          "output_type": "execute_result",
          "data": {
            "text/plain": [
              "(10,)"
            ]
          },
          "metadata": {
            "tags": []
          },
          "execution_count": 40
        }
      ]
    },
    {
      "cell_type": "markdown",
      "metadata": {
        "id": "BHg4Rre3GwPy",
        "colab_type": "text"
      },
      "source": [
        "O array v_Array poderia ter sido criado usando a função np.arange(inicio, fim, step):"
      ]
    },
    {
      "cell_type": "code",
      "metadata": {
        "id": "I3fyusN7G5Zn",
        "colab_type": "code",
        "colab": {}
      },
      "source": [
        "v_Array2= np.arange(start=0, stop=10, step=1)"
      ],
      "execution_count": 0,
      "outputs": []
    },
    {
      "cell_type": "markdown",
      "metadata": {
        "id": "V9aW7C4vHAcF",
        "colab_type": "text"
      },
      "source": [
        "Ou seja, v_Array é igual a v_Array2. Ok?"
      ]
    },
    {
      "cell_type": "markdown",
      "metadata": {
        "id": "KNnwZa3uvYqE",
        "colab_type": "text"
      },
      "source": [
        "Soma 2 à cada item de v_Array:"
      ]
    },
    {
      "cell_type": "code",
      "metadata": {
        "id": "Jt2KVyviw0bp",
        "colab_type": "code",
        "outputId": "3f7ebeec-367e-42de-c057-f6b529fc7c65",
        "colab": {
          "base_uri": "https://localhost:8080/",
          "height": 35
        }
      },
      "source": [
        "v_Array"
      ],
      "execution_count": 42,
      "outputs": [
        {
          "output_type": "execute_result",
          "data": {
            "text/plain": [
              "array([0, 1, 2, 3, 4, 5, 6, 7, 8, 9])"
            ]
          },
          "metadata": {
            "tags": []
          },
          "execution_count": 42
        }
      ]
    },
    {
      "cell_type": "code",
      "metadata": {
        "id": "arROkhWXbdTW",
        "colab_type": "code",
        "outputId": "ac61c801-24b3-4ba3-8409-745d09999ba1",
        "colab": {
          "base_uri": "https://localhost:8080/",
          "height": 35
        }
      },
      "source": [
        "v_Array2= v_Array + 2\n",
        "v_Array2"
      ],
      "execution_count": 43,
      "outputs": [
        {
          "output_type": "execute_result",
          "data": {
            "text/plain": [
              "array([ 2,  3,  4,  5,  6,  7,  8,  9, 10, 11])"
            ]
          },
          "metadata": {
            "tags": []
          },
          "execution_count": 43
        }
      ]
    },
    {
      "cell_type": "markdown",
      "metadata": {
        "id": "ZJx2vG86vdVi",
        "colab_type": "text"
      },
      "source": [
        "Multiplicar por 10 cada item de v_Array:"
      ]
    },
    {
      "cell_type": "code",
      "metadata": {
        "id": "Vm7abO6Ebkun",
        "colab_type": "code",
        "outputId": "9b39d7fb-83f6-42cc-cd26-7eac2587b5f9",
        "colab": {
          "base_uri": "https://localhost:8080/",
          "height": 35
        }
      },
      "source": [
        "v_Array3= v_Array*10\n",
        "v_Array3"
      ],
      "execution_count": 44,
      "outputs": [
        {
          "output_type": "execute_result",
          "data": {
            "text/plain": [
              "array([ 0, 10, 20, 30, 40, 50, 60, 70, 80, 90])"
            ]
          },
          "metadata": {
            "tags": []
          },
          "execution_count": 44
        }
      ]
    },
    {
      "cell_type": "markdown",
      "metadata": {
        "id": "0Ev1xnBwaYJG",
        "colab_type": "text"
      },
      "source": [
        "___\n",
        "# **Criar ndarrays - Arrays Multidimensionais**\n",
        "> Ao criarmos, por exemplo, um array 2D, então a chamamos de matriz."
      ]
    },
    {
      "cell_type": "markdown",
      "metadata": {
        "id": "gHaeAug5vjjd",
        "colab_type": "text"
      },
      "source": [
        "Criar o ndarray com 2 linhas e 3 colunas usando números aleatórios:"
      ]
    },
    {
      "cell_type": "code",
      "metadata": {
        "id": "VDi0vIPSYR4F",
        "colab_type": "code",
        "outputId": "4af97870-1e57-4218-b20c-c348c06760cd",
        "colab": {
          "base_uri": "https://localhost:8080/",
          "height": 52
        }
      },
      "source": [
        "np.random.seed(20111974)\n",
        "m_Array_2_X_3= np.random.randn(2, 3)\n",
        "m_Array_2_X_3"
      ],
      "execution_count": 45,
      "outputs": [
        {
          "output_type": "execute_result",
          "data": {
            "text/plain": [
              "array([[2.51, 1.11, 2.06],\n",
              "       [0.56, 0.3 , 1.05]])"
            ]
          },
          "metadata": {
            "tags": []
          },
          "execution_count": 45
        }
      ]
    },
    {
      "cell_type": "markdown",
      "metadata": {
        "id": "DIdd-nA3tJjV",
        "colab_type": "text"
      },
      "source": [
        "## Dimensão de um array\n",
        "> Dimensão é o número de linhas e colunas da matriz."
      ]
    },
    {
      "cell_type": "code",
      "metadata": {
        "id": "pKvjjnkrK-v7",
        "colab_type": "code",
        "outputId": "2610f604-e518-4f1a-f93b-ba8fc136d943",
        "colab": {
          "base_uri": "https://localhost:8080/",
          "height": 35
        }
      },
      "source": [
        "m_Array_2_X_3.shape"
      ],
      "execution_count": 46,
      "outputs": [
        {
          "output_type": "execute_result",
          "data": {
            "text/plain": [
              "(2, 3)"
            ]
          },
          "metadata": {
            "tags": []
          },
          "execution_count": 46
        }
      ]
    },
    {
      "cell_type": "markdown",
      "metadata": {
        "id": "-DHS5jXELCfa",
        "colab_type": "text"
      },
      "source": [
        "m_Array_2_X_3 é um array 2D (ou matriz), ou seja, 2 linhas, onde cada linha tem 3 elementos."
      ]
    },
    {
      "cell_type": "markdown",
      "metadata": {
        "id": "HJI6X1wvv4Bg",
        "colab_type": "text"
      },
      "source": [
        "Criar um ndarray com 3 linhas e 3 colunas:"
      ]
    },
    {
      "cell_type": "code",
      "metadata": {
        "id": "hXPbWh3Tv26T",
        "colab_type": "code",
        "outputId": "56e58e97-e294-4383-f07b-756e53cb56d6",
        "colab": {
          "base_uri": "https://localhost:8080/",
          "height": 69
        }
      },
      "source": [
        "m_Array_3_X_3 = np.array([[1,2,3],[4,5,6],[7,8,9]])\n",
        "m_Array_3_X_3"
      ],
      "execution_count": 47,
      "outputs": [
        {
          "output_type": "execute_result",
          "data": {
            "text/plain": [
              "array([[1, 2, 3],\n",
              "       [4, 5, 6],\n",
              "       [7, 8, 9]])"
            ]
          },
          "metadata": {
            "tags": []
          },
          "execution_count": 47
        }
      ]
    },
    {
      "cell_type": "code",
      "metadata": {
        "id": "we6ZJOICc7bQ",
        "colab_type": "code",
        "outputId": "dffd21bb-da82-42fc-bf4b-6053966aa290",
        "colab": {
          "base_uri": "https://localhost:8080/",
          "height": 35
        }
      },
      "source": [
        "# Número de linhas e colunas de m_Array_2_X_3:\n",
        "m_Array_2_X_3.shape"
      ],
      "execution_count": 48,
      "outputs": [
        {
          "output_type": "execute_result",
          "data": {
            "text/plain": [
              "(2, 3)"
            ]
          },
          "metadata": {
            "tags": []
          },
          "execution_count": 48
        }
      ]
    },
    {
      "cell_type": "code",
      "metadata": {
        "id": "f0ocwuI1dED6",
        "colab_type": "code",
        "outputId": "331eb4a2-f8c5-4e77-f1ff-aa462bb8a6d0",
        "colab": {
          "base_uri": "https://localhost:8080/",
          "height": 35
        }
      },
      "source": [
        "# Número de linhas e colunas de m_Array_3_X_3\n",
        "m_Array_3_X_3.shape"
      ],
      "execution_count": 49,
      "outputs": [
        {
          "output_type": "execute_result",
          "data": {
            "text/plain": [
              "(3, 3)"
            ]
          },
          "metadata": {
            "tags": []
          },
          "execution_count": 49
        }
      ]
    },
    {
      "cell_type": "code",
      "metadata": {
        "id": "CApPtnW0YuRP",
        "colab_type": "code",
        "outputId": "89255e5d-baaa-44af-b0b3-178f7c7a2bfc",
        "colab": {
          "base_uri": "https://localhost:8080/",
          "height": 69
        }
      },
      "source": [
        "# Somar 2 à cada elemento de m_Array_3_X_3\n",
        "m_Array_3_X_3= m_Array_3_X_3+2\n",
        "m_Array_3_X_3"
      ],
      "execution_count": 50,
      "outputs": [
        {
          "output_type": "execute_result",
          "data": {
            "text/plain": [
              "array([[ 3,  4,  5],\n",
              "       [ 6,  7,  8],\n",
              "       [ 9, 10, 11]])"
            ]
          },
          "metadata": {
            "tags": []
          },
          "execution_count": 50
        }
      ]
    },
    {
      "cell_type": "code",
      "metadata": {
        "id": "M87aGmxRY3RW",
        "colab_type": "code",
        "outputId": "7649f8ea-f3d7-44d0-8e97-e5dadbfa95b7",
        "colab": {
          "base_uri": "https://localhost:8080/",
          "height": 69
        }
      },
      "source": [
        "# Multiplicar por 10 cada elemento de m_Array_3_X_3\n",
        "m_Array_3_X_3= m_Array_3_X_3*10\n",
        "m_Array_3_X_3"
      ],
      "execution_count": 51,
      "outputs": [
        {
          "output_type": "execute_result",
          "data": {
            "text/plain": [
              "array([[ 30,  40,  50],\n",
              "       [ 60,  70,  80],\n",
              "       [ 90, 100, 110]])"
            ]
          },
          "metadata": {
            "tags": []
          },
          "execution_count": 51
        }
      ]
    },
    {
      "cell_type": "markdown",
      "metadata": {
        "id": "qZt93y1IL_v7",
        "colab_type": "text"
      },
      "source": [
        "___\n",
        "# **Cópia de arrays**\n",
        "> Considere o ndarray abaixo:"
      ]
    },
    {
      "cell_type": "code",
      "metadata": {
        "id": "sH2FTXj5MRRC",
        "colab_type": "code",
        "outputId": "91d152bc-820b-44aa-f3b6-b5c0f74d43b5",
        "colab": {
          "base_uri": "https://localhost:8080/",
          "height": 52
        }
      },
      "source": [
        "np.random.seed(20111974)\n",
        "X= np.random.randn(2, 3)\n",
        "X"
      ],
      "execution_count": 52,
      "outputs": [
        {
          "output_type": "execute_result",
          "data": {
            "text/plain": [
              "array([[2.51, 1.11, 2.06],\n",
              "       [0.56, 0.3 , 1.05]])"
            ]
          },
          "metadata": {
            "tags": []
          },
          "execution_count": 52
        }
      ]
    },
    {
      "cell_type": "markdown",
      "metadata": {
        "id": "VtgKeMt6MYrr",
        "colab_type": "text"
      },
      "source": [
        "Fazendo a cópia de X..."
      ]
    },
    {
      "cell_type": "code",
      "metadata": {
        "id": "K0hOHR3IMa-o",
        "colab_type": "code",
        "outputId": "a939c8d0-76d0-4da7-bd1c-894c8ab7b5d2",
        "colab": {
          "base_uri": "https://localhost:8080/",
          "height": 52
        }
      },
      "source": [
        "Y= X.copy()\n",
        "Y"
      ],
      "execution_count": 53,
      "outputs": [
        {
          "output_type": "execute_result",
          "data": {
            "text/plain": [
              "array([[2.51, 1.11, 2.06],\n",
              "       [0.56, 0.3 , 1.05]])"
            ]
          },
          "metadata": {
            "tags": []
          },
          "execution_count": 53
        }
      ]
    },
    {
      "cell_type": "markdown",
      "metadata": {
        "id": "lFpmcR0HkCar",
        "colab_type": "text"
      },
      "source": [
        "___\n",
        "# **Operações com arrays**\n",
        "> Considere um array com temperaturas em Farenheit dado por:"
      ]
    },
    {
      "cell_type": "code",
      "metadata": {
        "id": "VnagcUqVkLhW",
        "colab_type": "code",
        "outputId": "555821fe-f2d9-4cc4-b0ba-d7320fc0d896",
        "colab": {
          "base_uri": "https://localhost:8080/",
          "height": 35
        }
      },
      "source": [
        "# Define a seed\n",
        "np.random.seed(20111974)\n",
        "\n",
        "v_Farenheit= np.array(np.random.randint(0, 100, 10))\n",
        "v_Farenheit                                        "
      ],
      "execution_count": 54,
      "outputs": [
        {
          "output_type": "execute_result",
          "data": {
            "text/plain": [
              "array([60, 42, 40,  8, 27,  2, 46, 88, 81, 88])"
            ]
          },
          "metadata": {
            "tags": []
          },
          "execution_count": 54
        }
      ]
    },
    {
      "cell_type": "code",
      "metadata": {
        "id": "VrjNKfXxk1yv",
        "colab_type": "code",
        "outputId": "44a03f62-2e1f-426e-9573-ac17f2bad084",
        "colab": {
          "base_uri": "https://localhost:8080/",
          "height": 35
        }
      },
      "source": [
        "type(v_Farenheit)"
      ],
      "execution_count": 55,
      "outputs": [
        {
          "output_type": "execute_result",
          "data": {
            "text/plain": [
              "numpy.ndarray"
            ]
          },
          "metadata": {
            "tags": []
          },
          "execution_count": 55
        }
      ]
    },
    {
      "cell_type": "markdown",
      "metadata": {
        "id": "o1STejhrk0kZ",
        "colab_type": "text"
      },
      "source": [
        "Calculando para graus Celsius..."
      ]
    },
    {
      "cell_type": "code",
      "metadata": {
        "id": "E_jXflR_lNy3",
        "colab_type": "code",
        "outputId": "8a1c08af-eca0-4566-aa36-88a0e342bcc0",
        "colab": {
          "base_uri": "https://localhost:8080/",
          "height": 52
        }
      },
      "source": [
        "5*v_Farenheit/9 - 5*32/9"
      ],
      "execution_count": 56,
      "outputs": [
        {
          "output_type": "execute_result",
          "data": {
            "text/plain": [
              "array([ 15.56,   5.56,   4.44, -13.33,  -2.78, -16.67,   7.78,  31.11,\n",
              "        27.22,  31.11])"
            ]
          },
          "metadata": {
            "tags": []
          },
          "execution_count": 56
        }
      ]
    },
    {
      "cell_type": "markdown",
      "metadata": {
        "id": "1UT4YD2FawUA",
        "colab_type": "text"
      },
      "source": [
        "___\n",
        "# **Selecionar itens**"
      ]
    },
    {
      "cell_type": "code",
      "metadata": {
        "id": "pqOv8P1za1m8",
        "colab_type": "code",
        "outputId": "cb63d81e-534d-40bf-d5b9-5e7f42de510c",
        "colab": {
          "base_uri": "https://localhost:8080/",
          "height": 35
        }
      },
      "source": [
        "# Selecionar o segundo item de v_Array (lembre-se que no Python arrays começam com indice= 0)\n",
        "v_Array[1]"
      ],
      "execution_count": 57,
      "outputs": [
        {
          "output_type": "execute_result",
          "data": {
            "text/plain": [
              "1"
            ]
          },
          "metadata": {
            "tags": []
          },
          "execution_count": 57
        }
      ]
    },
    {
      "cell_type": "markdown",
      "metadata": {
        "id": "TIwVKk6AyRv6",
        "colab_type": "text"
      },
      "source": [
        "Dado m_Array_3_X_3 abaixo:"
      ]
    },
    {
      "cell_type": "code",
      "metadata": {
        "id": "zoDmbXo6bCeu",
        "colab_type": "code",
        "outputId": "0217c39a-2c9e-4f03-a112-f74ac11640c5",
        "colab": {
          "base_uri": "https://localhost:8080/",
          "height": 69
        }
      },
      "source": [
        "m_Array_3_X_3"
      ],
      "execution_count": 58,
      "outputs": [
        {
          "output_type": "execute_result",
          "data": {
            "text/plain": [
              "array([[ 30,  40,  50],\n",
              "       [ 60,  70,  80],\n",
              "       [ 90, 100, 110]])"
            ]
          },
          "metadata": {
            "tags": []
          },
          "execution_count": 58
        }
      ]
    },
    {
      "cell_type": "markdown",
      "metadata": {
        "id": "iJXSPp-0yb4w",
        "colab_type": "text"
      },
      "source": [
        "... selecionar o item da linha 2, coluna 3 do ndarray m_Array_3_X_3:"
      ]
    },
    {
      "cell_type": "code",
      "metadata": {
        "id": "sJiVfnlzcjRv",
        "colab_type": "code",
        "outputId": "300e45e3-dfed-4780-c3c0-e7579ef460b9",
        "colab": {
          "base_uri": "https://localhost:8080/",
          "height": 35
        }
      },
      "source": [
        "m_Array_3_X_3[1,2]"
      ],
      "execution_count": 59,
      "outputs": [
        {
          "output_type": "execute_result",
          "data": {
            "text/plain": [
              "80"
            ]
          },
          "metadata": {
            "tags": []
          },
          "execution_count": 59
        }
      ]
    },
    {
      "cell_type": "code",
      "metadata": {
        "id": "Xl5HwJIMcv2e",
        "colab_type": "code",
        "outputId": "13569933-423b-4f59-aa4e-7f4dd3220e0e",
        "colab": {
          "base_uri": "https://localhost:8080/",
          "height": 35
        }
      },
      "source": [
        "# Selecionar o último elemento de v_Array\n",
        "v_Array[-1]"
      ],
      "execution_count": 60,
      "outputs": [
        {
          "output_type": "execute_result",
          "data": {
            "text/plain": [
              "9"
            ]
          },
          "metadata": {
            "tags": []
          },
          "execution_count": 60
        }
      ]
    },
    {
      "cell_type": "markdown",
      "metadata": {
        "id": "4qJJ2HCedW4h",
        "colab_type": "text"
      },
      "source": [
        "___\n",
        "# **Aplicar funções como max(), min() e etc**"
      ]
    },
    {
      "cell_type": "code",
      "metadata": {
        "id": "_meTJdUsda4e",
        "colab_type": "code",
        "outputId": "0bb696fb-5ee4-4691-c132-18401a898b1c",
        "colab": {
          "base_uri": "https://localhost:8080/",
          "height": 35
        }
      },
      "source": [
        "f'O máximo de v_Array é: {np.max(v_Array)}'"
      ],
      "execution_count": 61,
      "outputs": [
        {
          "output_type": "execute_result",
          "data": {
            "text/plain": [
              "'O máximo de v_Array é: 9'"
            ]
          },
          "metadata": {
            "tags": []
          },
          "execution_count": 61
        }
      ]
    },
    {
      "cell_type": "code",
      "metadata": {
        "id": "m-wiBkAidnhN",
        "colab_type": "code",
        "outputId": "91e949a5-592e-40b2-b96a-c59dcdfb05e4",
        "colab": {
          "base_uri": "https://localhost:8080/",
          "height": 35
        }
      },
      "source": [
        "f'O mínimo de v_Array é: {np.min(v_Array)}'"
      ],
      "execution_count": 62,
      "outputs": [
        {
          "output_type": "execute_result",
          "data": {
            "text/plain": [
              "'O mínimo de v_Array é: 0'"
            ]
          },
          "metadata": {
            "tags": []
          },
          "execution_count": 62
        }
      ]
    },
    {
      "cell_type": "code",
      "metadata": {
        "id": "lmupnRHQdtwh",
        "colab_type": "code",
        "outputId": "8eb7c7b9-96a7-4d41-a2ce-84212d554e4e",
        "colab": {
          "base_uri": "https://localhost:8080/",
          "height": 35
        }
      },
      "source": [
        "f'O máximo de m_Array_3_X_3 é: {np.max(m_Array_3_X_3)}'"
      ],
      "execution_count": 63,
      "outputs": [
        {
          "output_type": "execute_result",
          "data": {
            "text/plain": [
              "'O máximo de m_Array_3_X_3 é: 110'"
            ]
          },
          "metadata": {
            "tags": []
          },
          "execution_count": 63
        }
      ]
    },
    {
      "cell_type": "code",
      "metadata": {
        "id": "H2z7oB6Bd786",
        "colab_type": "code",
        "outputId": "96a33ccd-cfb8-4701-c399-c281d8d746fa",
        "colab": {
          "base_uri": "https://localhost:8080/",
          "height": 35
        }
      },
      "source": [
        "f'O máximo de cada LINHA de m_Array_3_X_3 é: {np.max(m_Array_3_X_3, axis= 1)}' # Aqui, axis= 1 é que diz ao numpy que estamos interessados nas linhas"
      ],
      "execution_count": 64,
      "outputs": [
        {
          "output_type": "execute_result",
          "data": {
            "text/plain": [
              "'O máximo de cada LINHA de m_Array_3_X_3 é: [ 50  80 110]'"
            ]
          },
          "metadata": {
            "tags": []
          },
          "execution_count": 64
        }
      ]
    },
    {
      "cell_type": "code",
      "metadata": {
        "id": "gj2ZBDsWeMyk",
        "colab_type": "code",
        "outputId": "c9e91592-3e02-4dda-f67b-88c52691d523",
        "colab": {
          "base_uri": "https://localhost:8080/",
          "height": 35
        }
      },
      "source": [
        "f'O máximo de cada COLUNA de m_Array_3_X_3 é: {np.max(m_Array_3_X_3, axis= 0)}' # axis= 0, diz ao numpy que estamos interessados nas colunas."
      ],
      "execution_count": 65,
      "outputs": [
        {
          "output_type": "execute_result",
          "data": {
            "text/plain": [
              "'O máximo de cada COLUNA de m_Array_3_X_3 é: [ 90 100 110]'"
            ]
          },
          "metadata": {
            "tags": []
          },
          "execution_count": 65
        }
      ]
    },
    {
      "cell_type": "markdown",
      "metadata": {
        "id": "7_tEfm2IecIU",
        "colab_type": "text"
      },
      "source": [
        "___\n",
        "# **Calcular Estatísticas Descritivas: média e variância**"
      ]
    },
    {
      "cell_type": "code",
      "metadata": {
        "id": "lIY5jx3ueh7q",
        "colab_type": "code",
        "outputId": "3d64063b-d613-4c9e-afbd-0399de506417",
        "colab": {
          "base_uri": "https://localhost:8080/",
          "height": 35
        }
      },
      "source": [
        "f'A média de v_Array é: {np.mean(v_Array)}'"
      ],
      "execution_count": 66,
      "outputs": [
        {
          "output_type": "execute_result",
          "data": {
            "text/plain": [
              "'A média de v_Array é: 4.5'"
            ]
          },
          "metadata": {
            "tags": []
          },
          "execution_count": 66
        }
      ]
    },
    {
      "cell_type": "code",
      "metadata": {
        "id": "VmqSELRReuAW",
        "colab_type": "code",
        "outputId": "f1297217-11a8-4580-e63a-01083ce066a1",
        "colab": {
          "base_uri": "https://localhost:8080/",
          "height": 35
        }
      },
      "source": [
        "f'A média de m_Array_3_X_3 é: {np.mean(m_Array_3_X_3)}'"
      ],
      "execution_count": 67,
      "outputs": [
        {
          "output_type": "execute_result",
          "data": {
            "text/plain": [
              "'A média de m_Array_3_X_3 é: 70.0'"
            ]
          },
          "metadata": {
            "tags": []
          },
          "execution_count": 67
        }
      ]
    },
    {
      "cell_type": "code",
      "metadata": {
        "id": "Gxap-Wg5e2_H",
        "colab_type": "code",
        "outputId": "4f5b8316-aafa-4cc1-812a-b2e7cb6a9397",
        "colab": {
          "base_uri": "https://localhost:8080/",
          "height": 35
        }
      },
      "source": [
        "f'O Desvio Padrão de m_Array_3_X_3 é: {np.std(m_Array_3_X_3)}'"
      ],
      "execution_count": 68,
      "outputs": [
        {
          "output_type": "execute_result",
          "data": {
            "text/plain": [
              "'O Desvio Padrão de m_Array_3_X_3 é: 25.81988897471611'"
            ]
          },
          "metadata": {
            "tags": []
          },
          "execution_count": 68
        }
      ]
    },
    {
      "cell_type": "markdown",
      "metadata": {
        "id": "R0GcljGtfBvP",
        "colab_type": "text"
      },
      "source": [
        "___\n",
        "# **Reshaping**\n",
        "> Muito útil em Machine Learning."
      ]
    },
    {
      "cell_type": "markdown",
      "metadata": {
        "id": "vfEmw01j8zux",
        "colab_type": "text"
      },
      "source": [
        "## Exemplo 1\n",
        "* O ndarray m_Array_3_X_3 tem a seguinte forma:"
      ]
    },
    {
      "cell_type": "code",
      "metadata": {
        "id": "-Lb3VZCCfK_a",
        "colab_type": "code",
        "outputId": "4f479a9b-1266-4a62-c3af-81eb86239a7d",
        "colab": {
          "base_uri": "https://localhost:8080/",
          "height": 69
        }
      },
      "source": [
        "m_Array_3_X_3"
      ],
      "execution_count": 69,
      "outputs": [
        {
          "output_type": "execute_result",
          "data": {
            "text/plain": [
              "array([[ 30,  40,  50],\n",
              "       [ 60,  70,  80],\n",
              "       [ 90, 100, 110]])"
            ]
          },
          "metadata": {
            "tags": []
          },
          "execution_count": 69
        }
      ]
    },
    {
      "cell_type": "code",
      "metadata": {
        "id": "YWN_nN-4fD7u",
        "colab_type": "code",
        "outputId": "b37e31d4-0b08-4d95-bb7e-fa4fab944f6b",
        "colab": {
          "base_uri": "https://localhost:8080/",
          "height": 173
        }
      },
      "source": [
        "# reshaping para 9 linhas e 1 coluna:\n",
        "m_Array_3_X_3.reshape(9,1) # m_Array_3_X_3.reshape(9,-1) produz o mesmo resultado."
      ],
      "execution_count": 73,
      "outputs": [
        {
          "output_type": "execute_result",
          "data": {
            "text/plain": [
              "array([[ 30],\n",
              "       [ 40],\n",
              "       [ 50],\n",
              "       [ 60],\n",
              "       [ 70],\n",
              "       [ 80],\n",
              "       [ 90],\n",
              "       [100],\n",
              "       [110]])"
            ]
          },
          "metadata": {
            "tags": []
          },
          "execution_count": 73
        }
      ]
    },
    {
      "cell_type": "markdown",
      "metadata": {
        "colab_type": "text",
        "id": "id9ILRRt7SwY"
      },
      "source": [
        "## Mais um exemplo de Reshape\n",
        "> Dado o array 1D abaixo, reshape para um array 3D com 2 colunas."
      ]
    },
    {
      "cell_type": "code",
      "metadata": {
        "colab_type": "code",
        "outputId": "68797fcc-7733-4ffb-9078-7bea5d316f5d",
        "id": "9RA9Ht2b7Swd",
        "colab": {
          "base_uri": "https://localhost:8080/",
          "height": 35
        }
      },
      "source": [
        "# Define seed\n",
        "np.random.seed(20111974)\n",
        "v_Array= np.array(np.random.randint(1, 10, size= 15))\n",
        "v_Array"
      ],
      "execution_count": 74,
      "outputs": [
        {
          "output_type": "execute_result",
          "data": {
            "text/plain": [
              "array([9, 9, 3, 9, 2, 9, 1, 5, 3, 1, 9, 4, 8, 2, 4])"
            ]
          },
          "metadata": {
            "tags": []
          },
          "execution_count": 74
        }
      ]
    },
    {
      "cell_type": "markdown",
      "metadata": {
        "id": "8KxR4xZT7cRv",
        "colab_type": "text"
      },
      "source": [
        "### Solução\n",
        "> Temos 15 elementos em v_Arraypara construir (\"reshape\") um array 3D com 2 colunas.\n",
        "\n",
        "A princípio, a solução seria..."
      ]
    },
    {
      "cell_type": "code",
      "metadata": {
        "id": "VMdHl1Il7wLw",
        "colab_type": "code",
        "outputId": "6dec1557-e236-4e78-c340-9caa95b046a2",
        "colab": {
          "base_uri": "https://localhost:8080/",
          "height": 186
        }
      },
      "source": [
        "v_Array.reshape(-1, 2) # O valor \"-1\" na posição das linhas pede ao NumPy para calcular o número de linhas automaticamente."
      ],
      "execution_count": 75,
      "outputs": [
        {
          "output_type": "error",
          "ename": "ValueError",
          "evalue": "ignored",
          "traceback": [
            "\u001b[0;31m---------------------------------------------------------------------------\u001b[0m",
            "\u001b[0;31mValueError\u001b[0m                                Traceback (most recent call last)",
            "\u001b[0;32m<ipython-input-75-405e922c4069>\u001b[0m in \u001b[0;36m<module>\u001b[0;34m()\u001b[0m\n\u001b[0;32m----> 1\u001b[0;31m \u001b[0mv_Array\u001b[0m\u001b[0;34m.\u001b[0m\u001b[0mreshape\u001b[0m\u001b[0;34m(\u001b[0m\u001b[0;34m-\u001b[0m\u001b[0;36m1\u001b[0m\u001b[0;34m,\u001b[0m \u001b[0;36m2\u001b[0m\u001b[0;34m)\u001b[0m \u001b[0;31m# O valor \"-1\" na posição das linhas pede ao NumPy para calcular o número de linhas automaticamente.\u001b[0m\u001b[0;34m\u001b[0m\u001b[0;34m\u001b[0m\u001b[0m\n\u001b[0m",
            "\u001b[0;31mValueError\u001b[0m: cannot reshape array of size 15 into shape (2)"
          ]
        }
      ]
    },
    {
      "cell_type": "markdown",
      "metadata": {
        "id": "pZS4b4-y708q",
        "colab_type": "text"
      },
      "source": [
        "Porque temos esse erro?"
      ]
    },
    {
      "cell_type": "markdown",
      "metadata": {
        "id": "4disywvR8HeH",
        "colab_type": "text"
      },
      "source": [
        "E se fizermos..."
      ]
    },
    {
      "cell_type": "code",
      "metadata": {
        "id": "3oEAAXTp8I7Z",
        "colab_type": "code",
        "colab": {
          "base_uri": "https://localhost:8080/",
          "height": 35
        },
        "outputId": "d37ee3f6-833b-4bf8-c32e-460b40d6f40c"
      },
      "source": [
        "# Define seed\n",
        "np.random.seed(20111974)\n",
        "v_Array= np.array(np.random.randint(1, 10, size= 16)) # Observe que agora temos 16 elementos\n",
        "v_Array"
      ],
      "execution_count": 76,
      "outputs": [
        {
          "output_type": "execute_result",
          "data": {
            "text/plain": [
              "array([9, 9, 3, 9, 2, 9, 1, 5, 3, 1, 9, 4, 8, 2, 4, 3])"
            ]
          },
          "metadata": {
            "tags": []
          },
          "execution_count": 76
        }
      ]
    },
    {
      "cell_type": "markdown",
      "metadata": {
        "id": "iUhth0QV8Rpt",
        "colab_type": "text"
      },
      "source": [
        "Reshapping..."
      ]
    },
    {
      "cell_type": "code",
      "metadata": {
        "id": "9D1y7uD88Qip",
        "colab_type": "code",
        "colab": {
          "base_uri": "https://localhost:8080/",
          "height": 156
        },
        "outputId": "a093828a-6d52-4340-f2b4-ad5bd35d4fce"
      },
      "source": [
        "v_Array.reshape(-1, 2) # O valor \"-1\" na posição das linhas pede ao NumPy para calcular o número de linhas automaticamente."
      ],
      "execution_count": 77,
      "outputs": [
        {
          "output_type": "execute_result",
          "data": {
            "text/plain": [
              "array([[9, 9],\n",
              "       [3, 9],\n",
              "       [2, 9],\n",
              "       [1, 5],\n",
              "       [3, 1],\n",
              "       [9, 4],\n",
              "       [8, 2],\n",
              "       [4, 3]])"
            ]
          },
          "metadata": {
            "tags": []
          },
          "execution_count": 77
        }
      ]
    },
    {
      "cell_type": "markdown",
      "metadata": {
        "id": "yvTnrszn8Yk0",
        "colab_type": "text"
      },
      "source": [
        "Porque agora deu certo?"
      ]
    },
    {
      "cell_type": "markdown",
      "metadata": {
        "id": "LeQ9LqIE8baG",
        "colab_type": "text"
      },
      "source": [
        "## Último exemplo com reshape\n",
        "> Considere o ndarray a seguir:"
      ]
    },
    {
      "cell_type": "code",
      "metadata": {
        "id": "OQOC9iiN8hZT",
        "colab_type": "code",
        "colab": {
          "base_uri": "https://localhost:8080/",
          "height": 52
        },
        "outputId": "c9ae97f6-3612-4e99-97ed-9f186196a685"
      },
      "source": [
        "np.random.seed(20111974)\n",
        "m_Array_2_X_3= np.random.randn(2, 3)\n",
        "m_Array_2_X_3"
      ],
      "execution_count": 78,
      "outputs": [
        {
          "output_type": "execute_result",
          "data": {
            "text/plain": [
              "array([[2.51, 1.11, 2.06],\n",
              "       [0.56, 0.3 , 1.05]])"
            ]
          },
          "metadata": {
            "tags": []
          },
          "execution_count": 78
        }
      ]
    },
    {
      "cell_type": "markdown",
      "metadata": {
        "id": "Cvce8qBl9Cvq",
        "colab_type": "text"
      },
      "source": [
        "Queremos agora transformá-la num ndarray de 3 linhas e 2 colunas."
      ]
    },
    {
      "cell_type": "code",
      "metadata": {
        "id": "QDDsYoVt9Klz",
        "colab_type": "code",
        "colab": {
          "base_uri": "https://localhost:8080/",
          "height": 69
        },
        "outputId": "a529b232-59f7-4a93-a0d7-a06b70860ec7"
      },
      "source": [
        "m_Array_2_X_3.reshape(-1, 2)"
      ],
      "execution_count": 79,
      "outputs": [
        {
          "output_type": "execute_result",
          "data": {
            "text/plain": [
              "array([[2.51, 1.11],\n",
              "       [2.06, 0.56],\n",
              "       [0.3 , 1.05]])"
            ]
          },
          "metadata": {
            "tags": []
          },
          "execution_count": 79
        }
      ]
    },
    {
      "cell_type": "markdown",
      "metadata": {
        "id": "AdwU5ygt9Svq",
        "colab_type": "text"
      },
      "source": [
        "Poderia ser..."
      ]
    },
    {
      "cell_type": "code",
      "metadata": {
        "id": "5uBeokKc9Uo-",
        "colab_type": "code",
        "colab": {}
      },
      "source": [
        "m_Array_2_X_3.reshape(3, -1)"
      ],
      "execution_count": 0,
      "outputs": []
    },
    {
      "cell_type": "markdown",
      "metadata": {
        "id": "OeRBsobc9aKj",
        "colab_type": "text"
      },
      "source": [
        "E por fim, também poderia ser..."
      ]
    },
    {
      "cell_type": "code",
      "metadata": {
        "id": "MDt8UYYH9dBw",
        "colab_type": "code",
        "colab": {}
      },
      "source": [
        "m_Array_2_X_3.reshape(3, 2)"
      ],
      "execution_count": 0,
      "outputs": []
    },
    {
      "cell_type": "markdown",
      "metadata": {
        "id": "91o5vycQfdKW",
        "colab_type": "text"
      },
      "source": [
        "___\n",
        "# **Transposta**\n",
        "* O ndarray m_Array_3_X_3 tem a seguinte forma:"
      ]
    },
    {
      "cell_type": "code",
      "metadata": {
        "id": "RsZwyuhoffjb",
        "colab_type": "code",
        "colab": {}
      },
      "source": [
        "m_Array_3_X_3"
      ],
      "execution_count": 0,
      "outputs": []
    },
    {
      "cell_type": "code",
      "metadata": {
        "id": "A3MzTVoGfiyO",
        "colab_type": "code",
        "colab": {}
      },
      "source": [
        "# Transposta do ndarray m_Array_3_X_3 é dado por:\n",
        "m_Array_3_X_3.T"
      ],
      "execution_count": 0,
      "outputs": []
    },
    {
      "cell_type": "markdown",
      "metadata": {
        "id": "Ij-ZW5IyzXIb",
        "colab_type": "text"
      },
      "source": [
        "Ou seja, linha virou coluna. Ok?"
      ]
    },
    {
      "cell_type": "markdown",
      "metadata": {
        "id": "qLy6ajgpt3lU",
        "colab_type": "text"
      },
      "source": [
        "# **Inversa da matriz quadrada**\n",
        "> Se uma matriz, é não-singular, então sua inversa existe.\n",
        "\n",
        "* Se o determinante de uma matriz  is not equal to zero, then the matrix isé diferente de 0, então a matriz é não-singular."
      ]
    },
    {
      "cell_type": "code",
      "metadata": {
        "id": "-u7jRq34t9_x",
        "colab_type": "code",
        "colab": {}
      },
      "source": [
        "import numpy as np\n",
        "\n",
        "m_X = np.array([[1,2,3],[4,5,6],[7,8,9]])\n",
        "m_Y = np.array([[6, 2], [5, 3]])\n",
        "m_W = np.array([[1,3,5],[2,5,1],[2,3,8]])"
      ],
      "execution_count": 0,
      "outputs": []
    },
    {
      "cell_type": "code",
      "metadata": {
        "id": "7zmHHWWlvaYB",
        "colab_type": "code",
        "colab": {}
      },
      "source": [
        "m_X"
      ],
      "execution_count": 0,
      "outputs": []
    },
    {
      "cell_type": "code",
      "metadata": {
        "id": "3fHKyhOJvcak",
        "colab_type": "code",
        "colab": {}
      },
      "source": [
        "m_Y"
      ],
      "execution_count": 0,
      "outputs": []
    },
    {
      "cell_type": "code",
      "metadata": {
        "id": "vQG7yyfjwLg9",
        "colab_type": "code",
        "colab": {}
      },
      "source": [
        "m_W"
      ],
      "execution_count": 0,
      "outputs": []
    },
    {
      "cell_type": "markdown",
      "metadata": {
        "id": "qa2Yre2rwgRk",
        "colab_type": "text"
      },
      "source": [
        "## Determinantes da matriz quadrada"
      ]
    },
    {
      "cell_type": "code",
      "metadata": {
        "id": "N6jwuC6twkyc",
        "colab_type": "code",
        "colab": {}
      },
      "source": [
        "np.linalg.det(m_X)"
      ],
      "execution_count": 0,
      "outputs": []
    },
    {
      "cell_type": "code",
      "metadata": {
        "id": "QSvViNwzwnhI",
        "colab_type": "code",
        "colab": {}
      },
      "source": [
        "np.linalg.det(m_Y)"
      ],
      "execution_count": 0,
      "outputs": []
    },
    {
      "cell_type": "code",
      "metadata": {
        "id": "o8jwsnccw5id",
        "colab_type": "code",
        "colab": {}
      },
      "source": [
        "np.linalg.det(m_W)"
      ],
      "execution_count": 0,
      "outputs": []
    },
    {
      "cell_type": "markdown",
      "metadata": {
        "id": "kkVaTgzgw_XJ",
        "colab_type": "text"
      },
      "source": [
        "A seguir, calculamos as inversas das matrizes acima definidas..."
      ]
    },
    {
      "cell_type": "code",
      "metadata": {
        "id": "b9FgWvTYvpik",
        "colab_type": "code",
        "colab": {}
      },
      "source": [
        "np.linalg.inv(m_Y)"
      ],
      "execution_count": 0,
      "outputs": []
    },
    {
      "cell_type": "code",
      "metadata": {
        "id": "KsdEt1kIvsM_",
        "colab_type": "code",
        "colab": {}
      },
      "source": [
        "np.linalg.inv(m_X)"
      ],
      "execution_count": 0,
      "outputs": []
    },
    {
      "cell_type": "code",
      "metadata": {
        "id": "ANPBCnmVwOf4",
        "colab_type": "code",
        "colab": {}
      },
      "source": [
        "np.linalg.inv(m_W)"
      ],
      "execution_count": 0,
      "outputs": []
    },
    {
      "cell_type": "markdown",
      "metadata": {
        "id": "XAf9k1egxcdF",
        "colab_type": "text"
      },
      "source": [
        "# **Resolver sistemas de equações lineares**\n",
        "> Considere o sistema de euqações lineares abaixo:\n",
        "\n",
        "\\begin{equation}\n",
        "x + 3y + 5z = 10\\\\\n",
        "2x+ 5y + z = 8 \\\\\n",
        "2x + 3y + 8z= 3\n",
        "\\end{equation}\n",
        "\n",
        "Ou $Ax = b$. A solução deste sistema de equações é dada por $A^{-1}b$."
      ]
    },
    {
      "cell_type": "markdown",
      "metadata": {
        "id": "oNf5nqaLxhBY",
        "colab_type": "text"
      },
      "source": [
        "Ou seja, basta encontrarmos a inversa de A e multiplicarmos por b."
      ]
    },
    {
      "cell_type": "code",
      "metadata": {
        "id": "omzC5dGA0btc",
        "colab_type": "code",
        "outputId": "a0f106fb-20b7-48ce-c726-86394351c373",
        "colab": {
          "base_uri": "https://localhost:8080/",
          "height": 69
        }
      },
      "source": [
        "A= np.array([[1, 3, 5], [2,5,1], [2,3,8]])\n",
        "np.linalg.inv(A)"
      ],
      "execution_count": 81,
      "outputs": [
        {
          "output_type": "execute_result",
          "data": {
            "text/plain": [
              "array([[-1.48,  0.36,  0.88],\n",
              "       [ 0.56,  0.08, -0.36],\n",
              "       [ 0.16, -0.12,  0.04]])"
            ]
          },
          "metadata": {
            "tags": []
          },
          "execution_count": 81
        }
      ]
    },
    {
      "cell_type": "markdown",
      "metadata": {
        "id": "AiXI3oxB05iE",
        "colab_type": "text"
      },
      "source": [
        "Agora basta multiplicar a matriz inversa $A^{-1}$ acima por b. "
      ]
    },
    {
      "cell_type": "code",
      "metadata": {
        "id": "XoGebKDa2Fcd",
        "colab_type": "code",
        "colab": {}
      },
      "source": [
        "A_Inv = np.linalg.inv(A)"
      ],
      "execution_count": 0,
      "outputs": []
    },
    {
      "cell_type": "code",
      "metadata": {
        "id": "sKaP0a1QZG-P",
        "colab_type": "code",
        "colab": {
          "base_uri": "https://localhost:8080/",
          "height": 69
        },
        "outputId": "c7a04ba7-055c-4a5d-b2cb-ca97cb073eef"
      },
      "source": [
        "b= np.array([10, 8, 3]).reshape(3,-1)\n",
        "b"
      ],
      "execution_count": 89,
      "outputs": [
        {
          "output_type": "execute_result",
          "data": {
            "text/plain": [
              "array([[10],\n",
              "       [ 8],\n",
              "       [ 3]])"
            ]
          },
          "metadata": {
            "tags": []
          },
          "execution_count": 89
        }
      ]
    },
    {
      "cell_type": "code",
      "metadata": {
        "id": "3dAVq8dg19VI",
        "colab_type": "code",
        "outputId": "1f2e2c7a-cc36-4de5-a807-41f694d854b7",
        "colab": {
          "base_uri": "https://localhost:8080/",
          "height": 69
        }
      },
      "source": [
        "A_Inv.dot(b)"
      ],
      "execution_count": 90,
      "outputs": [
        {
          "output_type": "execute_result",
          "data": {
            "text/plain": [
              "array([[-9.28],\n",
              "       [ 5.16],\n",
              "       [ 0.76]])"
            ]
          },
          "metadata": {
            "tags": []
          },
          "execution_count": 90
        }
      ]
    },
    {
      "cell_type": "markdown",
      "metadata": {
        "id": "zso6hTnB17cm",
        "colab_type": "text"
      },
      "source": [
        "Uma forma fácil de se fazer isso é utilizar a expressão abaixo:"
      ]
    },
    {
      "cell_type": "code",
      "metadata": {
        "id": "ptQHIVll1E4P",
        "colab_type": "code",
        "outputId": "dc4bc6e1-9037-4e82-964b-e431857fc1f1",
        "colab": {
          "base_uri": "https://localhost:8080/",
          "height": 69
        }
      },
      "source": [
        "b= np.array([[10],[8],[3]])\n",
        "b"
      ],
      "execution_count": 91,
      "outputs": [
        {
          "output_type": "execute_result",
          "data": {
            "text/plain": [
              "array([[10],\n",
              "       [ 8],\n",
              "       [ 3]])"
            ]
          },
          "metadata": {
            "tags": []
          },
          "execution_count": 91
        }
      ]
    },
    {
      "cell_type": "code",
      "metadata": {
        "id": "X4VL8lyY1Xus",
        "colab_type": "code",
        "outputId": "07e539c3-6518-4974-b29e-7315a0b0fe30",
        "colab": {
          "base_uri": "https://localhost:8080/",
          "height": 69
        }
      },
      "source": [
        "np.linalg.solve(A, b)"
      ],
      "execution_count": 92,
      "outputs": [
        {
          "output_type": "execute_result",
          "data": {
            "text/plain": [
              "array([[-9.28],\n",
              "       [ 5.16],\n",
              "       [ 0.76]])"
            ]
          },
          "metadata": {
            "tags": []
          },
          "execution_count": 92
        }
      ]
    },
    {
      "cell_type": "markdown",
      "metadata": {
        "id": "fJKmwTS59-Bc",
        "colab_type": "text"
      },
      "source": [
        "# **Empilhar ndarray**"
      ]
    },
    {
      "cell_type": "code",
      "metadata": {
        "id": "zEI-yBy3-E46",
        "colab_type": "code",
        "colab": {}
      },
      "source": [
        "# Preparando o exemplo:\n",
        "np.random.seed(20111974)\n",
        "m_Array1_2_X_3= np.random.randn(2, 3)\n",
        "m_Array1_2_X_3"
      ],
      "execution_count": 0,
      "outputs": []
    },
    {
      "cell_type": "code",
      "metadata": {
        "id": "82W5OM2G-tBK",
        "colab_type": "code",
        "colab": {}
      },
      "source": [
        "np.random.seed(19741120)\n",
        "m_Array2_2_X_3= np.random.randn(2, 3)\n",
        "m_Array2_2_X_3"
      ],
      "execution_count": 0,
      "outputs": []
    },
    {
      "cell_type": "markdown",
      "metadata": {
        "id": "UYsAqBRp--79",
        "colab_type": "text"
      },
      "source": [
        "## Método 1 - Concatenate()"
      ]
    },
    {
      "cell_type": "code",
      "metadata": {
        "id": "bK70vaq8_KMH",
        "colab_type": "code",
        "colab": {}
      },
      "source": [
        "np.concatenate([m_Array1_2_X_3, m_Array2_2_X_3], axis=0) # axis= 0 diz ao NumPy para empilhar as colunas"
      ],
      "execution_count": 0,
      "outputs": []
    },
    {
      "cell_type": "markdown",
      "metadata": {
        "id": "CpaXBkm8_BF8",
        "colab_type": "text"
      },
      "source": [
        "## Método 2 - np.r_[a, b]"
      ]
    },
    {
      "cell_type": "code",
      "metadata": {
        "id": "3QnVUzAY_teZ",
        "colab_type": "code",
        "colab": {}
      },
      "source": [
        "np.r_[m_Array1_2_X_3, m_Array2_2_X_3]"
      ],
      "execution_count": 0,
      "outputs": []
    },
    {
      "cell_type": "markdown",
      "metadata": {
        "id": "XmSPbDP6_20W",
        "colab_type": "text"
      },
      "source": [
        "**Obs**.: Eu, particularmente, prefiro este método!"
      ]
    },
    {
      "cell_type": "markdown",
      "metadata": {
        "id": "dzVKW_wX_Dzw",
        "colab_type": "text"
      },
      "source": [
        "## Método 3 - np.vstack()"
      ]
    },
    {
      "cell_type": "code",
      "metadata": {
        "id": "uL7lEN_mABID",
        "colab_type": "code",
        "colab": {}
      },
      "source": [
        "np.vstack([m_Array1_2_X_3, m_Array2_2_X_3])"
      ],
      "execution_count": 0,
      "outputs": []
    },
    {
      "cell_type": "markdown",
      "metadata": {
        "id": "68icJ-2ZAdRj",
        "colab_type": "text"
      },
      "source": [
        "# Empilhar arrays\n",
        "> Dados os arrays abaixo:"
      ]
    },
    {
      "cell_type": "code",
      "metadata": {
        "id": "jnxPY8c0AhVS",
        "colab_type": "code",
        "colab": {}
      },
      "source": [
        "v_Array1= np.arange(10).reshape(1,-1)\n",
        "v_Array1"
      ],
      "execution_count": 0,
      "outputs": []
    },
    {
      "cell_type": "code",
      "metadata": {
        "id": "20xyHm5XDsvK",
        "colab_type": "code",
        "colab": {}
      },
      "source": [
        "np.random.seed(20111974)\n",
        "v_Array1_1= np.random.randn(1, 10)\n",
        "v_Array"
      ],
      "execution_count": 0,
      "outputs": []
    },
    {
      "cell_type": "code",
      "metadata": {
        "id": "X7nxwmzAA8sv",
        "colab_type": "code",
        "colab": {}
      },
      "source": [
        "v_Array2= np.arange(10).reshape(1,-1)\n",
        "v_Array2"
      ],
      "execution_count": 0,
      "outputs": []
    },
    {
      "cell_type": "code",
      "metadata": {
        "id": "xY0cNvUBEE7v",
        "colab_type": "code",
        "colab": {}
      },
      "source": [
        "np.random.seed(19741120)\n",
        "v_Array2_1= np.random.randn(1, 10)\n",
        "v_Array2_1"
      ],
      "execution_count": 0,
      "outputs": []
    },
    {
      "cell_type": "markdown",
      "metadata": {
        "id": "usmiFRd0EV6Z",
        "colab_type": "text"
      },
      "source": [
        "**Curiosidade**\n",
        "* Qual a diferença entre gerar os arrays v_Array1 e v_Array1_1?\n",
        "* Porque para gerar v_Array1 eu uso reshape(1,-1)?"
      ]
    },
    {
      "cell_type": "markdown",
      "metadata": {
        "id": "qzd-licFBCW1",
        "colab_type": "text"
      },
      "source": [
        "Empilhando os arrays..."
      ]
    },
    {
      "cell_type": "markdown",
      "metadata": {
        "id": "v5CltQxXBEeS",
        "colab_type": "text"
      },
      "source": [
        "## Método 1 - concatenate()\n"
      ]
    },
    {
      "cell_type": "code",
      "metadata": {
        "id": "nyE1FiDCBYa-",
        "colab_type": "code",
        "colab": {}
      },
      "source": [
        "np.concatenate([v_Array1, v_Array2], axis= 0) # axis= 0 diz ao NumPy para empilhar as linhas, ou seja, colocar uma linha embaixo da outra"
      ],
      "execution_count": 0,
      "outputs": []
    },
    {
      "cell_type": "code",
      "metadata": {
        "id": "SqUp4aTGEzZn",
        "colab_type": "code",
        "colab": {}
      },
      "source": [
        "np.concatenate([v_Array1_1, v_Array2_1], axis= 0)"
      ],
      "execution_count": 0,
      "outputs": []
    },
    {
      "cell_type": "markdown",
      "metadata": {
        "id": "p_IJErxkBNG2",
        "colab_type": "text"
      },
      "source": [
        "## Método 2"
      ]
    },
    {
      "cell_type": "code",
      "metadata": {
        "id": "unObwXBzFPFT",
        "colab_type": "code",
        "colab": {}
      },
      "source": [
        "np.r_[v_Array1, v_Array2]"
      ],
      "execution_count": 0,
      "outputs": []
    },
    {
      "cell_type": "markdown",
      "metadata": {
        "colab_type": "text",
        "id": "ur7lT0kmFc4N"
      },
      "source": [
        "## Método 3 - np.vstack()"
      ]
    },
    {
      "cell_type": "code",
      "metadata": {
        "colab_type": "code",
        "id": "-xdQWOSuFc4Q",
        "colab": {}
      },
      "source": [
        "np.vstack([v_Array1, v_Array2])"
      ],
      "execution_count": 0,
      "outputs": []
    },
    {
      "cell_type": "markdown",
      "metadata": {
        "id": "kIgU1YBw0OeM",
        "colab_type": "text"
      },
      "source": [
        "___\n",
        "# **Selecionar itens que satisfazem condições**\n",
        "> Considere o array a seguir:"
      ]
    },
    {
      "cell_type": "code",
      "metadata": {
        "id": "e2pL5anBV0DI",
        "colab_type": "code",
        "outputId": "03fab710-79d2-40b2-bd6a-9f772cd3c209",
        "colab": {
          "base_uri": "https://localhost:8080/",
          "height": 35
        }
      },
      "source": [
        "m_X= np.arange(10, 0, -1)\n",
        "m_X"
      ],
      "execution_count": 93,
      "outputs": [
        {
          "output_type": "execute_result",
          "data": {
            "text/plain": [
              "array([10,  9,  8,  7,  6,  5,  4,  3,  2,  1])"
            ]
          },
          "metadata": {
            "tags": []
          },
          "execution_count": 93
        }
      ]
    },
    {
      "cell_type": "markdown",
      "metadata": {
        "id": "i9HuZZAfV302",
        "colab_type": "text"
      },
      "source": [
        "Selecionar somente os itens > 7:"
      ]
    },
    {
      "cell_type": "markdown",
      "metadata": {
        "id": "ZCESvr7iXMkV",
        "colab_type": "text"
      },
      "source": [
        "## Usando np.where()"
      ]
    },
    {
      "cell_type": "code",
      "metadata": {
        "id": "O_ZBaWxfWA9o",
        "colab_type": "code",
        "outputId": "f33e8dc9-2cc8-4868-a294-f3d8d23ec63e",
        "colab": {
          "base_uri": "https://localhost:8080/",
          "height": 35
        }
      },
      "source": [
        "l_Indices= np.where(m_X > 7)\n",
        "l_Indices"
      ],
      "execution_count": 94,
      "outputs": [
        {
          "output_type": "execute_result",
          "data": {
            "text/plain": [
              "(array([0, 1, 2]),)"
            ]
          },
          "metadata": {
            "tags": []
          },
          "execution_count": 94
        }
      ]
    },
    {
      "cell_type": "markdown",
      "metadata": {
        "id": "EdWlfPOZWPME",
        "colab_type": "text"
      },
      "source": [
        "**Atenção**: Capturamos os índices. Para selecionar os itens, basta fazer:"
      ]
    },
    {
      "cell_type": "code",
      "metadata": {
        "id": "tOxs3iYQWWxu",
        "colab_type": "code",
        "outputId": "3f08c8cb-5c54-49c0-d7dc-141abb716e52",
        "colab": {
          "base_uri": "https://localhost:8080/",
          "height": 35
        }
      },
      "source": [
        "m_Y= m_X[l_Indices]\n",
        "m_Y"
      ],
      "execution_count": 95,
      "outputs": [
        {
          "output_type": "execute_result",
          "data": {
            "text/plain": [
              "array([10,  9,  8])"
            ]
          },
          "metadata": {
            "tags": []
          },
          "execution_count": 95
        }
      ]
    },
    {
      "cell_type": "markdown",
      "metadata": {
        "id": "PGsENqkaXRjh",
        "colab_type": "text"
      },
      "source": [
        "## Alternativa: Usando []"
      ]
    },
    {
      "cell_type": "code",
      "metadata": {
        "id": "YbdRNk1WXTLT",
        "colab_type": "code",
        "colab": {}
      },
      "source": [
        "m_X[m_X > 7]"
      ],
      "execution_count": 0,
      "outputs": []
    },
    {
      "cell_type": "markdown",
      "metadata": {
        "id": "jijpzFxcSQC8",
        "colab_type": "text"
      },
      "source": [
        "Acho que vale a pena quebrar esta solução para entendermos melhor como as coisas funcionam:#"
      ]
    },
    {
      "cell_type": "code",
      "metadata": {
        "id": "rujhP2LQSWsq",
        "colab_type": "code",
        "colab": {}
      },
      "source": [
        " # Primeiro, avalie o resultado de m_X > 7:"
      ],
      "execution_count": 0,
      "outputs": []
    },
    {
      "cell_type": "code",
      "metadata": {
        "id": "FYZaBsasSb3N",
        "colab_type": "code",
        "outputId": "3cf540eb-d78e-4870-d26d-a40cae8a9cca",
        "colab": {
          "base_uri": "https://localhost:8080/",
          "height": 52
        }
      },
      "source": [
        "m_X > 7"
      ],
      "execution_count": 96,
      "outputs": [
        {
          "output_type": "execute_result",
          "data": {
            "text/plain": [
              "array([ True,  True,  True, False, False, False, False, False, False,\n",
              "       False])"
            ]
          },
          "metadata": {
            "tags": []
          },
          "execution_count": 96
        }
      ]
    },
    {
      "cell_type": "code",
      "metadata": {
        "id": "mvEof-UKaaVG",
        "colab_type": "code",
        "colab": {
          "base_uri": "https://localhost:8080/",
          "height": 35
        },
        "outputId": "ed419388-5429-40f8-ded6-2014f85d3503"
      },
      "source": [
        "m_X[m_X > 7]"
      ],
      "execution_count": 97,
      "outputs": [
        {
          "output_type": "execute_result",
          "data": {
            "text/plain": [
              "array([10,  9,  8])"
            ]
          },
          "metadata": {
            "tags": []
          },
          "execution_count": 97
        }
      ]
    },
    {
      "cell_type": "markdown",
      "metadata": {
        "id": "Ci5lT9nmSfsX",
        "colab_type": "text"
      },
      "source": [
        "Agora, com este resultado, fica fácil entender como o Python seleciona os elementos. Consegue explicar?"
      ]
    },
    {
      "cell_type": "markdown",
      "metadata": {
        "id": "1v5Lfin0GGKD",
        "colab_type": "text"
      },
      "source": [
        "# Substituir itens baseado em condições\n",
        "> Substituir os valores negativos do array abaixo por 0."
      ]
    },
    {
      "cell_type": "code",
      "metadata": {
        "id": "NUANFy-fNXf5",
        "colab_type": "code",
        "outputId": "38b3e740-9c26-4bfe-dbb5-47d700664ab1",
        "colab": {
          "base_uri": "https://localhost:8080/",
          "height": 121
        }
      },
      "source": [
        "# Preparando o exemplo:\n",
        "np.random.seed(20111974)\n",
        "m_X= np.array(np.random.randint(0, 10, size= 100))\n",
        "\n",
        "# Lista aleatória de índices que vou alterar\n",
        "np.random.seed(20111974)\n",
        "l_Idx= np.random.randint(0, 99, 9)\n",
        "\n",
        "for i in l_Idx:\n",
        "    m_X[i] = -1*m_X[i]\n",
        "\n",
        "m_Y = m_X.copy()\n",
        "m_Y"
      ],
      "execution_count": 103,
      "outputs": [
        {
          "output_type": "execute_result",
          "data": {
            "text/plain": [
              "array([ 8,  8, -2,  8,  9,  1,  8,  0, -4,  2,  0,  8,  9,  3,  7,  1,  3,\n",
              "        2,  9,  7,  7,  9,  5,  6,  8,  7,  0, -9,  3,  9,  3,  1,  8,  6,\n",
              "        3,  5,  4,  1,  2,  9, -8,  6, -6,  1,  0,  9, -2,  0,  7,  5,  5,\n",
              "        4,  4,  2,  7,  2,  7,  9,  3,  1, -5,  0,  1,  2,  3,  8,  7,  5,\n",
              "        4,  0,  5,  9,  6,  6,  1,  3,  6,  0,  4,  9,  2, -1,  0,  9,  1,\n",
              "        4,  2,  9, -7,  9,  5,  3,  7,  6,  3,  9,  8,  4,  3,  0])"
            ]
          },
          "metadata": {
            "tags": []
          },
          "execution_count": 103
        }
      ]
    },
    {
      "cell_type": "code",
      "metadata": {
        "id": "dWVyI40uN2d2",
        "colab_type": "code",
        "outputId": "1da5ecc2-0ee0-4947-bb53-4caf0d93af00",
        "colab": {
          "base_uri": "https://localhost:8080/",
          "height": 35
        }
      },
      "source": [
        "# Indices a serem multiplicados por -1:\n",
        "l_Idx"
      ],
      "execution_count": 104,
      "outputs": [
        {
          "output_type": "execute_result",
          "data": {
            "text/plain": [
              "array([60, 42, 40,  8, 27,  2, 46, 88, 81])"
            ]
          },
          "metadata": {
            "tags": []
          },
          "execution_count": 104
        }
      ]
    },
    {
      "cell_type": "markdown",
      "metadata": {
        "id": "3Whuu854OJDZ",
        "colab_type": "text"
      },
      "source": [
        "## Substituir os valores negativos por 0"
      ]
    },
    {
      "cell_type": "code",
      "metadata": {
        "id": "sr268Rp8b-Se",
        "colab_type": "code",
        "colab": {
          "base_uri": "https://localhost:8080/",
          "height": 225
        },
        "outputId": "0097b4b1-4a3b-4835-e302-efd88906800f"
      },
      "source": [
        "m_Y < 0"
      ],
      "execution_count": 105,
      "outputs": [
        {
          "output_type": "execute_result",
          "data": {
            "text/plain": [
              "array([False, False,  True, False, False, False, False, False,  True,\n",
              "       False, False, False, False, False, False, False, False, False,\n",
              "       False, False, False, False, False, False, False, False, False,\n",
              "        True, False, False, False, False, False, False, False, False,\n",
              "       False, False, False, False,  True, False,  True, False, False,\n",
              "       False,  True, False, False, False, False, False, False, False,\n",
              "       False, False, False, False, False, False,  True, False, False,\n",
              "       False, False, False, False, False, False, False, False, False,\n",
              "       False, False, False, False, False, False, False, False, False,\n",
              "        True, False, False, False, False, False, False,  True, False,\n",
              "       False, False, False, False, False, False, False, False, False,\n",
              "       False])"
            ]
          },
          "metadata": {
            "tags": []
          },
          "execution_count": 105
        }
      ]
    },
    {
      "cell_type": "code",
      "metadata": {
        "id": "C-eKqPrfOQF6",
        "colab_type": "code",
        "outputId": "bd9b9d66-372d-4fa0-9345-0a31dcc40311",
        "colab": {
          "base_uri": "https://localhost:8080/",
          "height": 104
        }
      },
      "source": [
        "m_Y[m_Y < 0] = 0\n",
        "m_Y"
      ],
      "execution_count": 106,
      "outputs": [
        {
          "output_type": "execute_result",
          "data": {
            "text/plain": [
              "array([8, 8, 0, 8, 9, 1, 8, 0, 0, 2, 0, 8, 9, 3, 7, 1, 3, 2, 9, 7, 7, 9,\n",
              "       5, 6, 8, 7, 0, 0, 3, 9, 3, 1, 8, 6, 3, 5, 4, 1, 2, 9, 0, 6, 0, 1,\n",
              "       0, 9, 0, 0, 7, 5, 5, 4, 4, 2, 7, 2, 7, 9, 3, 1, 0, 0, 1, 2, 3, 8,\n",
              "       7, 5, 4, 0, 5, 9, 6, 6, 1, 3, 6, 0, 4, 9, 2, 0, 0, 9, 1, 4, 2, 9,\n",
              "       0, 9, 5, 3, 7, 6, 3, 9, 8, 4, 3, 0])"
            ]
          },
          "metadata": {
            "tags": []
          },
          "execution_count": 106
        }
      ]
    },
    {
      "cell_type": "markdown",
      "metadata": {
        "id": "eDLM0_JSZlfB",
        "colab_type": "text"
      },
      "source": [
        "Observe acima que os valores negativos foram substituídos por 0, como queríamos."
      ]
    },
    {
      "cell_type": "markdown",
      "metadata": {
        "id": "AEHJ0rA3dHHU",
        "colab_type": "text"
      },
      "source": [
        "## Substituir os valores negativos por 0 e os positivos por 1"
      ]
    },
    {
      "cell_type": "code",
      "metadata": {
        "id": "y32J8SRNZwRF",
        "colab_type": "code",
        "outputId": "1e3dce56-c0d7-4045-f01a-3768db131a97",
        "colab": {
          "base_uri": "https://localhost:8080/",
          "height": 121
        }
      },
      "source": [
        "m_Y = m_X.copy()\n",
        "m_Y"
      ],
      "execution_count": 107,
      "outputs": [
        {
          "output_type": "execute_result",
          "data": {
            "text/plain": [
              "array([ 8,  8, -2,  8,  9,  1,  8,  0, -4,  2,  0,  8,  9,  3,  7,  1,  3,\n",
              "        2,  9,  7,  7,  9,  5,  6,  8,  7,  0, -9,  3,  9,  3,  1,  8,  6,\n",
              "        3,  5,  4,  1,  2,  9, -8,  6, -6,  1,  0,  9, -2,  0,  7,  5,  5,\n",
              "        4,  4,  2,  7,  2,  7,  9,  3,  1, -5,  0,  1,  2,  3,  8,  7,  5,\n",
              "        4,  0,  5,  9,  6,  6,  1,  3,  6,  0,  4,  9,  2, -1,  0,  9,  1,\n",
              "        4,  2,  9, -7,  9,  5,  3,  7,  6,  3,  9,  8,  4,  3,  0])"
            ]
          },
          "metadata": {
            "tags": []
          },
          "execution_count": 107
        }
      ]
    },
    {
      "cell_type": "code",
      "metadata": {
        "id": "1bSD9Fs6P5wW",
        "colab_type": "code",
        "outputId": "2e70a092-25ef-4281-a344-4f58f981e87b",
        "colab": {
          "base_uri": "https://localhost:8080/",
          "height": 104
        }
      },
      "source": [
        "m_Y = np.where(m_Y <= 0, 0, 1)\n",
        "m_Y"
      ],
      "execution_count": 108,
      "outputs": [
        {
          "output_type": "execute_result",
          "data": {
            "text/plain": [
              "array([1, 1, 0, 1, 1, 1, 1, 0, 0, 1, 0, 1, 1, 1, 1, 1, 1, 1, 1, 1, 1, 1,\n",
              "       1, 1, 1, 1, 0, 0, 1, 1, 1, 1, 1, 1, 1, 1, 1, 1, 1, 1, 0, 1, 0, 1,\n",
              "       0, 1, 0, 0, 1, 1, 1, 1, 1, 1, 1, 1, 1, 1, 1, 1, 0, 0, 1, 1, 1, 1,\n",
              "       1, 1, 1, 0, 1, 1, 1, 1, 1, 1, 1, 0, 1, 1, 1, 0, 0, 1, 1, 1, 1, 1,\n",
              "       0, 1, 1, 1, 1, 1, 1, 1, 1, 1, 1, 0])"
            ]
          },
          "metadata": {
            "tags": []
          },
          "execution_count": 108
        }
      ]
    },
    {
      "cell_type": "markdown",
      "metadata": {
        "id": "i027scjl0qkm",
        "colab_type": "text"
      },
      "source": [
        "___\n",
        "# Outliers\n",
        "> Qualquer ponto/observação que é incomum quando comparado com todos os outros pontos/observações."
      ]
    },
    {
      "cell_type": "markdown",
      "metadata": {
        "id": "UnDTqRnZHQ3W",
        "colab_type": "text"
      },
      "source": [
        "## Z-Score\n",
        "\n",
        "* Z-Score pode ser utilizado para detectar Outliers.\n",
        "* É a diferença entre o valor e a média da amostra expressa como o número de desvios-padrão. \n",
        "* Se o escore z for menor que 2,5 ou maior que 2,5, o valor estará nos 5% do menor ou maior valor (2,5% dos valores em ambas as extremidades da distribuição). No entanto, é pratica comum utilizarmos 3 ao invés dos 2,5.\n",
        "\n",
        "![Z_Score](https://github.com/MathMachado/Python_RFB/blob/master/Material/Z_Score.png?raw=true)"
      ]
    },
    {
      "cell_type": "markdown",
      "metadata": {
        "id": "N7gb2zhtd0uM",
        "colab_type": "text"
      },
      "source": [
        "## IQR Score\n",
        "\n",
        "* O Intervalo interquartil (IQR) é uma medida de dispersão estatística, sendo igual à diferença entre os percentis 75 (Q3) e 25 (Q1), ou entre quartis superiores e inferiores, IQR = Q3 - Q1."
      ]
    },
    {
      "cell_type": "markdown",
      "metadata": {
        "id": "lMmWOKNvghI7",
        "colab_type": "text"
      },
      "source": [
        "![BoxPlot](https://github.com/MathMachado/Python_RFB/blob/master/Material/boxplot.png?raw=true)"
      ]
    },
    {
      "cell_type": "markdown",
      "metadata": {
        "id": "z3VZdU8rICZA",
        "colab_type": "text"
      },
      "source": [
        "## Desafio\n",
        "> Substituir os outliers do array por:\n",
        "1. Q1-1.5\\*IQR, se ponto < Q1-1.5\\*IQR\n",
        "2. Q3+1.5\\*IQR, se ponto > Q3+1.5\\*IQR"
      ]
    },
    {
      "cell_type": "code",
      "metadata": {
        "id": "RL0Zb0fyDory",
        "colab_type": "code",
        "colab": {}
      },
      "source": [
        "# Preparando o exemplo:\n",
        "np.random.seed(19741120)\n",
        "m_X= np.array(np.random.normal(100, 10, size= 100))\n",
        "\n",
        "# Lista aleatória de índices que vou alterar\n",
        "np.random.seed(20111974)\n",
        "l_Idx= np.random.randint(0, 99, 10)\n",
        "np.sort(l_Idx)\n",
        "\n",
        "m_X2= m_X.copy()\n",
        "for i in l_Idx:\n",
        "    m_X2[i]= 2*m_X2[i]"
      ],
      "execution_count": 0,
      "outputs": []
    },
    {
      "cell_type": "code",
      "metadata": {
        "id": "ZnmykyahLWX9",
        "colab_type": "code",
        "outputId": "70d772b9-c18a-450f-8e19-df496ecde7eb",
        "colab": {
          "base_uri": "https://localhost:8080/",
          "height": 35
        }
      },
      "source": [
        "# Algumas estatísticas descritivas:\n",
        "f'Média: {np.mean(m_X)}; Mediana: {np.median(m_X)}; STD: {np.std(m_X)}'"
      ],
      "execution_count": 110,
      "outputs": [
        {
          "output_type": "execute_result",
          "data": {
            "text/plain": [
              "'Média: 100.18633633362035; Mediana: 99.33695311387913; STD: 10.028092450008492'"
            ]
          },
          "metadata": {
            "tags": []
          },
          "execution_count": 110
        }
      ]
    },
    {
      "cell_type": "code",
      "metadata": {
        "id": "U993i1GJg2hk",
        "colab_type": "code",
        "colab": {
          "base_uri": "https://localhost:8080/",
          "height": 273
        },
        "outputId": "2ff396e1-be6b-4d9d-ab25-2f803bd5a4d9"
      },
      "source": [
        "# Import a biblioteca seaborn:\n",
        "import seaborn as sns\n",
        "sns.boxplot(y= m_X2)"
      ],
      "execution_count": 113,
      "outputs": [
        {
          "output_type": "execute_result",
          "data": {
            "text/plain": [
              "<matplotlib.axes._subplots.AxesSubplot at 0x7fd7190f7f60>"
            ]
          },
          "metadata": {
            "tags": []
          },
          "execution_count": 113
        },
        {
          "output_type": "display_data",
          "data": {
            "image/png": "[encoded data removed]",
            "text/plain": [
              "<Figure size 432x288 with 1 Axes>"
            ]
          },
          "metadata": {
            "tags": []
          }
        }
      ]
    },
    {
      "cell_type": "markdown",
      "metadata": {
        "id": "VtenLK1uK1Pi",
        "colab_type": "text"
      },
      "source": [
        "Consegue identificar os outliers do array?"
      ]
    },
    {
      "cell_type": "markdown",
      "metadata": {
        "id": "e3sHuGVGFBdW",
        "colab_type": "text"
      },
      "source": [
        "## Objetivo\n",
        "> Substituir os outliers por mediana. \n",
        "\n",
        "* Como fazer isso?"
      ]
    },
    {
      "cell_type": "markdown",
      "metadata": {
        "id": "RSegPNKCI-dS",
        "colab_type": "text"
      },
      "source": [
        "### Siga os passos a seguir\n",
        "1. Calcule estatísticas descritivas antes das transformações par avaliar o impacto;\n",
        "    * Calcule média, mediana e desvio-padrão dos dados originais;\n",
        "2. Calcule os valores a seguir:\n",
        "    * Q1, Q3\n",
        "    * IQR = Q3-Q1\n",
        "    * Lim_Inf = Q1-1.5\\*IQR\n",
        "    * Lim_Sup = Q3+1.5\\*IQR\n",
        "3. Proceda à substituição:\n",
        "    * Se m_X2[i] < Lim_Inf então m_X2[i]= Mediana\n",
        "    * Se m_X2[i] > Lim_Sup então m_X2[i]= Mediana\n",
        "4. Calcule as estatísticas descritivas após as substituições e compare com os valores antes das transformações."
      ]
    },
    {
      "cell_type": "markdown",
      "metadata": {
        "id": "9DQ7YnWaFn4v",
        "colab_type": "text"
      },
      "source": [
        "### Minha solução\n"
      ]
    },
    {
      "cell_type": "markdown",
      "metadata": {
        "id": "RBXJbTeGLC7Q",
        "colab_type": "text"
      },
      "source": [
        "1. Estatísticas Descritivas antes das transformações:"
      ]
    },
    {
      "cell_type": "code",
      "metadata": {
        "id": "QueKYn7MLG12",
        "colab_type": "code",
        "colab": {}
      },
      "source": [
        "# Algumas estatísticas descritivas:\n",
        "f'Média: {np.mean(m_X2)}; Mediana: {np.median(m_X2)}; STD: {np.std(m_X2)}'"
      ],
      "execution_count": 0,
      "outputs": []
    },
    {
      "cell_type": "markdown",
      "metadata": {
        "id": "oOBJ8INWL5fo",
        "colab_type": "text"
      },
      "source": [
        "Observe o quanto nossos dados estão distorcidos dos valores originalmente utilizados."
      ]
    },
    {
      "cell_type": "markdown",
      "metadata": {
        "id": "MX-fJeh2MBTD",
        "colab_type": "text"
      },
      "source": [
        "2. Calcular Q1, Q3 e IQR"
      ]
    },
    {
      "cell_type": "code",
      "metadata": {
        "id": "JlsPiQeGMGeU",
        "colab_type": "code",
        "colab": {}
      },
      "source": [
        "Q1= np.percentile(m_X2, q=[25])\n",
        "Q3= np.percentile(m_X2, q=[75])\n",
        "Q2= np.percentile(m_X2, q=[50])\n",
        "IQR= Q3-Q1\n",
        "Lim_Inf= Q1-1.5*IQR\n",
        "Lim_Sup= Q3+1.5*IQR"
      ],
      "execution_count": 0,
      "outputs": []
    },
    {
      "cell_type": "code",
      "metadata": {
        "id": "VF2NJ3rCeI1_",
        "colab_type": "code",
        "outputId": "24ae88c4-00d1-4adf-af05-fff5f8a1cdf6",
        "colab": {
          "base_uri": "https://localhost:8080/",
          "height": 35
        }
      },
      "source": [
        "f'Q1: {Q1}; Q3: {Q3}; Lim_Inf: {Lim_Inf}; Lim_Sup: {Lim_Sup}'"
      ],
      "execution_count": 117,
      "outputs": [
        {
          "output_type": "execute_result",
          "data": {
            "text/plain": [
              "'Q1: [94.4]; Q3: [111.13]; Lim_Inf: [69.3]; Lim_Sup: [136.23]'"
            ]
          },
          "metadata": {
            "tags": []
          },
          "execution_count": 117
        }
      ]
    },
    {
      "cell_type": "markdown",
      "metadata": {
        "id": "JjnwJ7HwMxcl",
        "colab_type": "text"
      },
      "source": [
        "3. Substituir\n",
        "* Se m_X[i] < Lim_Inf então m_X[i]= Mediana\n",
        "* Se m_X[i] > Lim_Sup então m_X[i]= Mediana"
      ]
    },
    {
      "cell_type": "code",
      "metadata": {
        "id": "hcAn-IwVfbcI",
        "colab_type": "code",
        "colab": {}
      },
      "source": [
        "m_Y= m_X2.copy()"
      ],
      "execution_count": 0,
      "outputs": []
    },
    {
      "cell_type": "code",
      "metadata": {
        "id": "J3SSE45oM9oh",
        "colab_type": "code",
        "outputId": "fc11fbf0-db38-4cea-c506-edb96cbf767c",
        "colab": {
          "base_uri": "https://localhost:8080/",
          "height": 243
        }
      },
      "source": [
        "m_Y[m_Y < Lim_Inf[0]] = Q2[0]\n",
        "m_Y[m_Y > Lim_Sup[0]] = Q2[0]\n",
        "m_Y"
      ],
      "execution_count": 119,
      "outputs": [
        {
          "output_type": "execute_result",
          "data": {
            "text/plain": [
              "array([ 92.27,  88.95,  99.99,  88.54,  78.47,  92.47,  78.47,  96.7 ,\n",
              "        99.99, 103.29, 100.1 ,  86.68,  96.61,  99.87, 100.53,  98.14,\n",
              "       103.95,  91.06,  94.93,  92.53, 118.36,  87.95, 112.02, 105.12,\n",
              "        94.3 ,  90.67,  97.5 ,  99.99, 111.93, 123.  , 101.67, 107.14,\n",
              "        95.47, 109.22, 107.34, 121.78,  99.43, 112.53,  96.3 , 114.39,\n",
              "        99.99,  98.87,  99.99, 109.41,  99.13,  85.1 ,  99.99, 108.67,\n",
              "       116.34, 113.63,  99.78,  95.47,  96.29,  99.53,  77.27, 109.53,\n",
              "       107.1 ,  92.01,  96.83,  84.16,  99.99,  97.02,  92.66,  94.43,\n",
              "        94.02,  96.79, 113.48, 113.02, 105.03, 107.59, 110.95,  99.24,\n",
              "        93.75,  98.11,  84.63, 101.62,  97.36,  94.27, 105.56, 105.45,\n",
              "        91.55,  99.99, 103.86,  98.94, 119.42,  91.54,  79.87, 106.45,\n",
              "        99.99, 106.45, 113.52, 111.68, 100.46,  93.81,  98.88, 122.53,\n",
              "       112.21, 101.35, 105.  ,  94.75])"
            ]
          },
          "metadata": {
            "tags": []
          },
          "execution_count": 119
        }
      ]
    },
    {
      "cell_type": "markdown",
      "metadata": {
        "id": "VEGFio0Nfj7O",
        "colab_type": "text"
      },
      "source": [
        "4. Estatísticas Descritivas para avaliarmos o impacto:"
      ]
    },
    {
      "cell_type": "code",
      "metadata": {
        "id": "gX1LZHFqfjFQ",
        "colab_type": "code",
        "outputId": "46e23104-ae85-4cbb-f067-17ec1597872f",
        "colab": {
          "base_uri": "https://localhost:8080/",
          "height": 35
        }
      },
      "source": [
        "# Algumas estatísticas descritivas:\n",
        "f'Média: {np.mean(m_Y)}; Mediana: {np.median(m_Y)}; STD: {np.std(m_Y)}'"
      ],
      "execution_count": 120,
      "outputs": [
        {
          "output_type": "execute_result",
          "data": {
            "text/plain": [
              "'Média: 100.35899750691053; Mediana: 99.92782941793924; STD: 9.602142763141016'"
            ]
          },
          "metadata": {
            "tags": []
          },
          "execution_count": 120
        }
      ]
    },
    {
      "cell_type": "code",
      "metadata": {
        "id": "-xnguZ7XgyvK",
        "colab_type": "code",
        "outputId": "0b7fa4c4-9b1e-4c62-ace2-577237d30866",
        "colab": {
          "base_uri": "https://localhost:8080/",
          "height": 273
        }
      },
      "source": [
        "# Import a biblioteca seaborn:\n",
        "import seaborn as sns\n",
        "sns.boxplot(y= m_Y)"
      ],
      "execution_count": 121,
      "outputs": [
        {
          "output_type": "execute_result",
          "data": {
            "text/plain": [
              "<matplotlib.axes._subplots.AxesSubplot at 0x7fd7190aa8d0>"
            ]
          },
          "metadata": {
            "tags": []
          },
          "execution_count": 121
        },
        {
          "output_type": "display_data",
          "data": {
            "image/png": "[encoded data removed]",
            "text/plain": [
              "<Figure size 432x288 with 1 Axes>"
            ]
          },
          "metadata": {
            "tags": []
          }
        }
      ]
    },
    {
      "cell_type": "markdown",
      "metadata": {
        "id": "uEPFcBjFhETQ",
        "colab_type": "text"
      },
      "source": [
        "Como podem ver, os outliers desapareceram, como queríamos."
      ]
    },
    {
      "cell_type": "markdown",
      "metadata": {
        "id": "tHfzjW_ymKuR",
        "colab_type": "text"
      },
      "source": [
        "___\n",
        "# **Valores únicos**\n",
        "> Considere o array a seguir:"
      ]
    },
    {
      "cell_type": "code",
      "metadata": {
        "id": "HzmQgWZVmUUD",
        "colab_type": "code",
        "colab": {}
      },
      "source": [
        "np.random.seed(20111974)\n",
        "v_X= np.random.randint(0, 100, 100)\n",
        "v_X"
      ],
      "execution_count": 0,
      "outputs": []
    },
    {
      "cell_type": "markdown",
      "metadata": {
        "id": "Dm9ky1F1mrNA",
        "colab_type": "text"
      },
      "source": [
        "Quem são os valores únicos do array?"
      ]
    },
    {
      "cell_type": "code",
      "metadata": {
        "id": "G-LPRqc-mS5j",
        "colab_type": "code",
        "colab": {}
      },
      "source": [
        "np.unique(v_X)"
      ],
      "execution_count": 0,
      "outputs": []
    },
    {
      "cell_type": "markdown",
      "metadata": {
        "id": "uXZZoTd6nMuq",
        "colab_type": "text"
      },
      "source": [
        "___\n",
        "# **Diferença entre dois arrays**\n",
        "> O resultado é um array com os **valores únicos de A que não estão em B**. Na teoria de conjuntos escrevemos $A - B = A - A \\cap B$.\n",
        "\n",
        "![Difference](https://github.com/MathMachado/Python4DS/blob/DS_Python/Material/set_Difference.PNG?raw=true)\n",
        "\n",
        "Fonte: [Python Set](https://www.learnbyexample.org/python-set/)"
      ]
    },
    {
      "cell_type": "markdown",
      "metadata": {
        "id": "uW6i3m9q1ZNs",
        "colab_type": "text"
      },
      "source": [
        "\n",
        "* Vamos ver como isso funciona na prática:"
      ]
    },
    {
      "cell_type": "markdown",
      "metadata": {
        "id": "vw05sfe22mfk",
        "colab_type": "text"
      },
      "source": [
        "## Exemplo 1"
      ]
    },
    {
      "cell_type": "code",
      "metadata": {
        "id": "Qqw2do90nQ7k",
        "colab_type": "code",
        "colab": {}
      },
      "source": [
        "v_X= np.array([0, 1, 2, 4, 5, 7, 8, 8]) # array de valores que serão excluidos em v_X. Observe que '3' não pertence a v_X.\n",
        "v_Y= np.array([1, 6, 7, 3])"
      ],
      "execution_count": 0,
      "outputs": []
    },
    {
      "cell_type": "code",
      "metadata": {
        "id": "zXJ00pOMorM-",
        "colab_type": "code",
        "outputId": "b1d8b673-48d8-4f5b-8a52-a20abcda9bf4",
        "colab": {
          "base_uri": "https://localhost:8080/",
          "height": 35
        }
      },
      "source": [
        "np.setdiff1d(v_X, v_Y)"
      ],
      "execution_count": 124,
      "outputs": [
        {
          "output_type": "execute_result",
          "data": {
            "text/plain": [
              "array([0, 2, 4, 5, 8])"
            ]
          },
          "metadata": {
            "tags": []
          },
          "execution_count": 124
        }
      ]
    },
    {
      "cell_type": "markdown",
      "metadata": {
        "id": "8GXZNgjfo8lO",
        "colab_type": "text"
      },
      "source": [
        "Observe que o resultado são os elementos de v_X que não pertencem a x_Y. Mas como fica o '3' nesta história?"
      ]
    },
    {
      "cell_type": "markdown",
      "metadata": {
        "id": "aJSu6VKb2oc_",
        "colab_type": "text"
      },
      "source": [
        "## Exemplo 2"
      ]
    },
    {
      "cell_type": "code",
      "metadata": {
        "id": "N1wahElXTqoB",
        "colab_type": "code",
        "colab": {}
      },
      "source": [
        "m_X= np.arange(10)\n",
        "m_X"
      ],
      "execution_count": 0,
      "outputs": []
    },
    {
      "cell_type": "code",
      "metadata": {
        "id": "nxDpCMg7T7Rj",
        "colab_type": "code",
        "colab": {}
      },
      "source": [
        "m_Y= np.array([1,5,7])\n",
        "m_Y"
      ],
      "execution_count": 0,
      "outputs": []
    },
    {
      "cell_type": "code",
      "metadata": {
        "id": "3LU3qYyiUXqm",
        "colab_type": "code",
        "colab": {}
      },
      "source": [
        "np.setdiff1d(m_X, m_Y)"
      ],
      "execution_count": 0,
      "outputs": []
    },
    {
      "cell_type": "markdown",
      "metadata": {
        "id": "mzZEytrRUioU",
        "colab_type": "text"
      },
      "source": [
        "Observe que os elementos de m_Y foram deletados de m_X. Ok?"
      ]
    },
    {
      "cell_type": "markdown",
      "metadata": {
        "id": "gJRcoVRUnaY9",
        "colab_type": "text"
      },
      "source": [
        "___\n",
        "# Conjuntos mutuamente exclusivos\n",
        "* Em teoria de conjuntos, chamamos de Diferença Simétrica e escrevemos $(A \\cup B)- (A \\cap B)$.\n",
        "\n",
        "![DifferenceSymetric](https://github.com/MathMachado/Python4DS/blob/DS_Python/Material/set_DifferenceSymetric.PNG?raw=true)\n",
        "\n",
        "Fonte: [Python Set](https://www.learnbyexample.org/python-set/)"
      ]
    },
    {
      "cell_type": "markdown",
      "metadata": {
        "id": "2Uzzm85Kup3H",
        "colab_type": "text"
      },
      "source": [
        "* Vamos ver como isso funciona na prática:"
      ]
    },
    {
      "cell_type": "code",
      "metadata": {
        "id": "1z5wZ8VwpsWN",
        "colab_type": "code",
        "colab": {}
      },
      "source": [
        "v_X= np.array([0, 1, 2, 4, 5, 7, 8]) # Observe que [1, 4, 7] pertencem a v_X, mas 3, não. Portanto:\n",
        "v_Y= np.array([1, 4, 7, 3])"
      ],
      "execution_count": 0,
      "outputs": []
    },
    {
      "cell_type": "code",
      "metadata": {
        "id": "Tqd_9XO5p7bo",
        "colab_type": "code",
        "outputId": "33c79695-754f-4d87-85a8-08a4af72e74e",
        "colab": {
          "base_uri": "https://localhost:8080/",
          "height": 35
        }
      },
      "source": [
        "np.setxor1d(v_X, v_Y)"
      ],
      "execution_count": 126,
      "outputs": [
        {
          "output_type": "execute_result",
          "data": {
            "text/plain": [
              "array([0, 2, 3, 5, 8])"
            ]
          },
          "metadata": {
            "tags": []
          },
          "execution_count": 126
        }
      ]
    },
    {
      "cell_type": "markdown",
      "metadata": {
        "id": "_meurG3mqS5Y",
        "colab_type": "text"
      },
      "source": [
        "Como explicamos ou interpretamos este resultado?"
      ]
    },
    {
      "cell_type": "markdown",
      "metadata": {
        "id": "Kc8JoKe2nj2n",
        "colab_type": "text"
      },
      "source": [
        "___\n",
        "# **União de dois arrays**\n",
        "> Retorna os valores **únicos** dos dois arrays. Na teoria dos conjuntos, escrevemos:\n",
        "\n",
        "$$A \\cup B$$\n",
        "\n",
        "![Union](https://github.com/MathMachado/Python4DS/blob/DS_Python/Material/set_Union.PNG?raw=true)\n",
        "\n",
        "Fonte: [Python Set](https://www.learnbyexample.org/python-set/)"
      ]
    },
    {
      "cell_type": "code",
      "metadata": {
        "id": "1LZxorw2p2mg",
        "colab_type": "code",
        "colab": {}
      },
      "source": [
        "v_X= np.array([0, 1, 2, 4, 5, 7, 8, 8])\n",
        "\n",
        "# Observe que [1, 4, 7] pertencem a v_X, mas 3, não. Portanto:\n",
        "v_Y= np.array([1, 4, 7, 3])"
      ],
      "execution_count": 0,
      "outputs": []
    },
    {
      "cell_type": "code",
      "metadata": {
        "id": "COsZEmSwuY5L",
        "colab_type": "code",
        "outputId": "a3c34244-1a68-4931-dcec-7b0337f7ccae",
        "colab": {
          "base_uri": "https://localhost:8080/",
          "height": 35
        }
      },
      "source": [
        "np.union1d(v_X, v_Y)"
      ],
      "execution_count": 130,
      "outputs": [
        {
          "output_type": "execute_result",
          "data": {
            "text/plain": [
              "array([0, 1, 2, 3, 4, 5, 7, 8])"
            ]
          },
          "metadata": {
            "tags": []
          },
          "execution_count": 130
        }
      ]
    },
    {
      "cell_type": "markdown",
      "metadata": {
        "id": "b53bR-GYRu_3",
        "colab_type": "text"
      },
      "source": [
        "___\n",
        "# **Selecionar itens comuns dos arrays X e Y**\n",
        "* Na teoria de conjuntos, chamamos de intersecção e escrevemos $X \\cap Y$.\n",
        "\n",
        "![Intersection](https://github.com/MathMachado/Python4DS/blob/DS_Python/Material/set_Intersection.PNG?raw=true)\n",
        "\n",
        "Fonte: [Python Set](https://www.learnbyexample.org/python-set/)"
      ]
    },
    {
      "cell_type": "markdown",
      "metadata": {
        "id": "n2ec2tqqR1Gw",
        "colab_type": "text"
      },
      "source": [
        "* Considere os ndarrays a seguir:"
      ]
    },
    {
      "cell_type": "code",
      "metadata": {
        "id": "rXVQQvBqR4J-",
        "colab_type": "code",
        "outputId": "78989c3b-2eb9-4eb0-f54b-a3c898b14800",
        "colab": {
          "base_uri": "https://localhost:8080/",
          "height": 35
        }
      },
      "source": [
        "m_X= np.arange(10)\n",
        "m_X"
      ],
      "execution_count": 131,
      "outputs": [
        {
          "output_type": "execute_result",
          "data": {
            "text/plain": [
              "array([0, 1, 2, 3, 4, 5, 6, 7, 8, 9])"
            ]
          },
          "metadata": {
            "tags": []
          },
          "execution_count": 131
        }
      ]
    },
    {
      "cell_type": "code",
      "metadata": {
        "id": "pZTHhHxGSRfB",
        "colab_type": "code",
        "outputId": "68d60d55-a785-4c49-a8a9-402cee67ea9b",
        "colab": {
          "base_uri": "https://localhost:8080/",
          "height": 35
        }
      },
      "source": [
        "m_Y= np.arange(8, 18)\n",
        "m_Y"
      ],
      "execution_count": 132,
      "outputs": [
        {
          "output_type": "execute_result",
          "data": {
            "text/plain": [
              "array([ 8,  9, 10, 11, 12, 13, 14, 15, 16, 17])"
            ]
          },
          "metadata": {
            "tags": []
          },
          "execution_count": 132
        }
      ]
    },
    {
      "cell_type": "markdown",
      "metadata": {
        "id": "MxB2_qHpScMB",
        "colab_type": "text"
      },
      "source": [
        "Quais são os elementos comuns à X e Y?"
      ]
    },
    {
      "cell_type": "code",
      "metadata": {
        "id": "e-rncJHtSfw0",
        "colab_type": "code",
        "outputId": "b3685c56-102d-4290-92f6-4ee4b5f97ee6",
        "colab": {
          "base_uri": "https://localhost:8080/",
          "height": 35
        }
      },
      "source": [
        "np.intersect1d(m_X, m_Y)"
      ],
      "execution_count": 133,
      "outputs": [
        {
          "output_type": "execute_result",
          "data": {
            "text/plain": [
              "array([8, 9])"
            ]
          },
          "metadata": {
            "tags": []
          },
          "execution_count": 133
        }
      ]
    },
    {
      "cell_type": "markdown",
      "metadata": {
        "id": "3Bb39sWdfqaF",
        "colab_type": "text"
      },
      "source": [
        "___\n",
        "# **Autovalores e Autovetores**\n",
        "> Autovetor e Autovalor são um dos tópicos mais importantes em Machine Learning.\n",
        "\n",
        "Por definição, o escalar $\\lambda$ e o vetor $v$ são autovalor e autovetor da matriz $A$ se\n",
        "\n",
        "$$Av = \\lambda v$$\n",
        "\n",
        "## Leitura Adicional:\n",
        "\n",
        "* [Machine Learning & Linear Algebra — Eigenvalue and eigenvector](https://medium.com/@jonathan_hui/machine-learning-linear-algebra-eigenvalue-and-eigenvector-f8d0493564c9)"
      ]
    },
    {
      "cell_type": "markdown",
      "metadata": {
        "id": "XZBKq8nGCUbL",
        "colab_type": "text"
      },
      "source": [
        "* O ndarray m_Array_3_X_3 tem a seguinte forma:"
      ]
    },
    {
      "cell_type": "code",
      "metadata": {
        "id": "iYlZGKFUfw-R",
        "colab_type": "code",
        "colab": {}
      },
      "source": [
        "m_Array_3_X_3"
      ],
      "execution_count": 0,
      "outputs": []
    },
    {
      "cell_type": "code",
      "metadata": {
        "id": "6EfvIbBNf02Z",
        "colab_type": "code",
        "colab": {}
      },
      "source": [
        "# Calcula autovalores e autovetores:\n",
        "v_Autovalores, v_Autovetores= np.linalg.eig(m_Array_3_X_3)"
      ],
      "execution_count": 0,
      "outputs": []
    },
    {
      "cell_type": "markdown",
      "metadata": {
        "id": "v3GtQQvAz9QU",
        "colab_type": "text"
      },
      "source": [
        "Os autovalores do ndarray m_Array_3_X_3 são:"
      ]
    },
    {
      "cell_type": "code",
      "metadata": {
        "id": "WvZGyBR1f9vP",
        "colab_type": "code",
        "colab": {}
      },
      "source": [
        "v_Autovalores"
      ],
      "execution_count": 0,
      "outputs": []
    },
    {
      "cell_type": "markdown",
      "metadata": {
        "id": "AuuDRJVh0FC8",
        "colab_type": "text"
      },
      "source": [
        "Os autovetores do ndarray m_Array_3_X_3 são:"
      ]
    },
    {
      "cell_type": "code",
      "metadata": {
        "id": "6m4YFAwsf_rA",
        "colab_type": "code",
        "colab": {}
      },
      "source": [
        "v_Autovetores"
      ],
      "execution_count": 0,
      "outputs": []
    },
    {
      "cell_type": "markdown",
      "metadata": {
        "id": "DASn2Un9ZNV-",
        "colab_type": "text"
      },
      "source": [
        "___\n",
        "# **Encontrar Missing Values (NaN)**\n",
        "> Considere o array a seguir:"
      ]
    },
    {
      "cell_type": "code",
      "metadata": {
        "id": "lqLI2ER_ZUMY",
        "colab_type": "code",
        "colab": {}
      },
      "source": [
        "# Preparando o exemplo\n",
        "np.random.seed(20111974)\n",
        "v_X= np.random.random(100)\n",
        "\n",
        "# Inserindo 15 NaN's no array:\n",
        "np.random.seed(20111974)\n",
        "l_IndicesAleatorios= np.random.randint(0, 100, size= 15)\n",
        "\n",
        "for i_Idx in l_IndicesAleatorios:\n",
        "    #print(i_Idx)\n",
        "    v_X[i_Idx]= np.nan"
      ],
      "execution_count": 0,
      "outputs": []
    },
    {
      "cell_type": "code",
      "metadata": {
        "id": "2ZkbMPXMawYh",
        "colab_type": "code",
        "outputId": "998a6031-35d5-4ce6-a22f-b406a77b59a9",
        "colab": {
          "base_uri": "https://localhost:8080/",
          "height": 191
        }
      },
      "source": [
        "v_X"
      ],
      "execution_count": 137,
      "outputs": [
        {
          "output_type": "execute_result",
          "data": {
            "text/plain": [
              "array([0.53, 0.57,  nan, 0.65, 0.86, 0.6 , 0.87, 0.46,  nan, 0.64, 0.55,\n",
              "       0.35, 0.32,  nan, 0.85, 0.76, 0.66, 0.33, 0.35, 0.42, 0.31, 0.27,\n",
              "       0.31, 0.36, 0.6 , 0.02, 0.36,  nan, 0.28, 0.37,  nan, 0.44, 0.2 ,\n",
              "       0.21, 0.65, 0.82, 0.72, 0.5 , 0.17, 0.6 ,  nan, 0.14,  nan, 0.71,\n",
              "       0.07, 0.56,  nan, 0.84, 0.21, 0.85, 0.63, 0.38, 0.91, 0.34, 0.07,\n",
              "       0.1 , 0.85, 0.12, 0.94, 0.16,  nan, 0.91, 0.59, 0.37, 0.72, 0.07,\n",
              "       0.48, 0.78, 0.97, 0.72, 0.29, 0.33, 0.95, 0.24, 0.98, 0.85, 0.63,\n",
              "       0.57, 0.67, 0.88,  nan,  nan,  nan, 0.68, 0.29, 0.33, 0.98, 0.17,\n",
              "        nan, 0.92, 0.98, 0.76, 0.31, 0.97, 0.08, 0.56,  nan, 0.49, 0.07,\n",
              "       0.11])"
            ]
          },
          "metadata": {
            "tags": []
          },
          "execution_count": 137
        }
      ]
    },
    {
      "cell_type": "markdown",
      "metadata": {
        "id": "Z7Bs75NvbSjx",
        "colab_type": "text"
      },
      "source": [
        "Ok, inserimos aleatoriamente 14 NaN's no array v_X. Agora, vamos contar quantos NaN's (já sabemos a resposta!)."
      ]
    },
    {
      "cell_type": "code",
      "metadata": {
        "id": "5R-n3H0xbd6d",
        "colab_type": "code",
        "outputId": "7b86ff9f-086c-4866-f9ce-71afe3f02ca6",
        "colab": {
          "base_uri": "https://localhost:8080/",
          "height": 35
        }
      },
      "source": [
        "np.isnan(v_X).sum()"
      ],
      "execution_count": 138,
      "outputs": [
        {
          "output_type": "execute_result",
          "data": {
            "text/plain": [
              "14"
            ]
          },
          "metadata": {
            "tags": []
          },
          "execution_count": 138
        }
      ]
    },
    {
      "cell_type": "markdown",
      "metadata": {
        "id": "Y7hh5uowoa3U",
        "colab_type": "text"
      },
      "source": [
        "Ok, temos 14 NaN's em v_X."
      ]
    },
    {
      "cell_type": "markdown",
      "metadata": {
        "id": "iVLQf_bqbyNU",
        "colab_type": "text"
      },
      "source": [
        "Ok, agora eu quero saber os índices desses NaN's."
      ]
    },
    {
      "cell_type": "code",
      "metadata": {
        "id": "kJHxjZiwb5HM",
        "colab_type": "code",
        "outputId": "5d5ff828-e8a9-4aed-bade-fac3bd290ae8",
        "colab": {
          "base_uri": "https://localhost:8080/",
          "height": 35
        }
      },
      "source": [
        "i_Idx= np.where(np.isnan(v_X))\n",
        "i_Idx"
      ],
      "execution_count": 139,
      "outputs": [
        {
          "output_type": "execute_result",
          "data": {
            "text/plain": [
              "(array([ 2,  8, 13, 27, 30, 40, 42, 46, 60, 80, 81, 82, 88, 96]),)"
            ]
          },
          "metadata": {
            "tags": []
          },
          "execution_count": 139
        }
      ]
    },
    {
      "cell_type": "code",
      "metadata": {
        "id": "W_jHGNImok7L",
        "colab_type": "code",
        "colab": {
          "base_uri": "https://localhost:8080/",
          "height": 35
        },
        "outputId": "a6d45d0c-f89c-4190-b159-0703ea62a796"
      },
      "source": [
        "# Checando...\n",
        "v_X[2]"
      ],
      "execution_count": 140,
      "outputs": [
        {
          "output_type": "execute_result",
          "data": {
            "text/plain": [
              "nan"
            ]
          },
          "metadata": {
            "tags": []
          },
          "execution_count": 140
        }
      ]
    },
    {
      "cell_type": "markdown",
      "metadata": {
        "id": "iPhHAhDYcMWO",
        "colab_type": "text"
      },
      "source": [
        "Vamos conferir se está correto? Para isso, basta comparar com l_IndicesAleatorios:"
      ]
    },
    {
      "cell_type": "markdown",
      "metadata": {
        "id": "gxQYslRCe11G",
        "colab_type": "text"
      },
      "source": [
        "# **Deletar NaN's de um array**\n",
        "> Considere o mesmo array que acabamos de trabalhar. Agora eu quero excluir os NaN's identificados."
      ]
    },
    {
      "cell_type": "code",
      "metadata": {
        "id": "AeBARFqNfNnN",
        "colab_type": "code",
        "outputId": "a2ff95a7-faef-46ec-d838-bb49301240f9",
        "colab": {
          "base_uri": "https://localhost:8080/",
          "height": 191
        }
      },
      "source": [
        "v_X"
      ],
      "execution_count": 143,
      "outputs": [
        {
          "output_type": "execute_result",
          "data": {
            "text/plain": [
              "array([0.53, 0.57,  nan, 0.65, 0.86, 0.6 , 0.87, 0.46,  nan, 0.64, 0.55,\n",
              "       0.35, 0.32,  nan, 0.85, 0.76, 0.66, 0.33, 0.35, 0.42, 0.31, 0.27,\n",
              "       0.31, 0.36, 0.6 , 0.02, 0.36,  nan, 0.28, 0.37,  nan, 0.44, 0.2 ,\n",
              "       0.21, 0.65, 0.82, 0.72, 0.5 , 0.17, 0.6 ,  nan, 0.14,  nan, 0.71,\n",
              "       0.07, 0.56,  nan, 0.84, 0.21, 0.85, 0.63, 0.38, 0.91, 0.34, 0.07,\n",
              "       0.1 , 0.85, 0.12, 0.94, 0.16,  nan, 0.91, 0.59, 0.37, 0.72, 0.07,\n",
              "       0.48, 0.78, 0.97, 0.72, 0.29, 0.33, 0.95, 0.24, 0.98, 0.85, 0.63,\n",
              "       0.57, 0.67, 0.88,  nan,  nan,  nan, 0.68, 0.29, 0.33, 0.98, 0.17,\n",
              "        nan, 0.92, 0.98, 0.76, 0.31, 0.97, 0.08, 0.56,  nan, 0.49, 0.07,\n",
              "       0.11])"
            ]
          },
          "metadata": {
            "tags": []
          },
          "execution_count": 143
        }
      ]
    },
    {
      "cell_type": "code",
      "metadata": {
        "id": "e497B492fFru",
        "colab_type": "code",
        "outputId": "92224f23-46f4-4d70-a253-0107cf436249",
        "colab": {
          "base_uri": "https://localhost:8080/",
          "height": 156
        }
      },
      "source": [
        "v_X[~np.isnan(v_X)]"
      ],
      "execution_count": 144,
      "outputs": [
        {
          "output_type": "execute_result",
          "data": {
            "text/plain": [
              "array([0.53, 0.57, 0.65, 0.86, 0.6 , 0.87, 0.46, 0.64, 0.55, 0.35, 0.32,\n",
              "       0.85, 0.76, 0.66, 0.33, 0.35, 0.42, 0.31, 0.27, 0.31, 0.36, 0.6 ,\n",
              "       0.02, 0.36, 0.28, 0.37, 0.44, 0.2 , 0.21, 0.65, 0.82, 0.72, 0.5 ,\n",
              "       0.17, 0.6 , 0.14, 0.71, 0.07, 0.56, 0.84, 0.21, 0.85, 0.63, 0.38,\n",
              "       0.91, 0.34, 0.07, 0.1 , 0.85, 0.12, 0.94, 0.16, 0.91, 0.59, 0.37,\n",
              "       0.72, 0.07, 0.48, 0.78, 0.97, 0.72, 0.29, 0.33, 0.95, 0.24, 0.98,\n",
              "       0.85, 0.63, 0.57, 0.67, 0.88, 0.68, 0.29, 0.33, 0.98, 0.17, 0.92,\n",
              "       0.98, 0.76, 0.31, 0.97, 0.08, 0.56, 0.49, 0.07, 0.11])"
            ]
          },
          "metadata": {
            "tags": []
          },
          "execution_count": 144
        }
      ]
    },
    {
      "cell_type": "markdown",
      "metadata": {
        "id": "RpvKfJU_fmA6",
        "colab_type": "text"
      },
      "source": [
        "Observe que os NaN's foram excluidos."
      ]
    },
    {
      "cell_type": "markdown",
      "metadata": {
        "id": "_Dv8MmNYg8zN",
        "colab_type": "text"
      },
      "source": [
        "___\n",
        "# **Converter lista em array**\n",
        "> Considere a lista a seguir:"
      ]
    },
    {
      "cell_type": "code",
      "metadata": {
        "id": "but6T9dVhFYb",
        "colab_type": "code",
        "colab": {}
      },
      "source": [
        "l_Lista= [np.random.randint(0, 10, 10)]\n",
        "l_Lista"
      ],
      "execution_count": 0,
      "outputs": []
    },
    {
      "cell_type": "code",
      "metadata": {
        "id": "xytj4Eo4hTh9",
        "colab_type": "code",
        "colab": {}
      },
      "source": [
        "type(l_Lista)"
      ],
      "execution_count": 0,
      "outputs": []
    },
    {
      "cell_type": "markdown",
      "metadata": {
        "id": "qrINdcruhWcH",
        "colab_type": "text"
      },
      "source": [
        "Convertendo a minha lista para array:"
      ]
    },
    {
      "cell_type": "code",
      "metadata": {
        "id": "RoSyaX0OhZSE",
        "colab_type": "code",
        "colab": {}
      },
      "source": [
        "v_Lista= np.asarray(l_Lista)\n",
        "v_Lista"
      ],
      "execution_count": 0,
      "outputs": []
    },
    {
      "cell_type": "code",
      "metadata": {
        "id": "dMjTdbBUhlrk",
        "colab_type": "code",
        "colab": {}
      },
      "source": [
        "type(v_Lista)"
      ],
      "execution_count": 0,
      "outputs": []
    },
    {
      "cell_type": "markdown",
      "metadata": {
        "id": "Mbm3ZP9DhxDI",
        "colab_type": "text"
      },
      "source": [
        "___\n",
        "# Converter tupla em array\n",
        "> Considere a tupla a seguir:"
      ]
    },
    {
      "cell_type": "code",
      "metadata": {
        "id": "cZxEFYLAh3S_",
        "colab_type": "code",
        "colab": {}
      },
      "source": [
        "np.random.seed(20111974)\n",
        "t_Lista= ([np.random.randint(0, 10, 3)], [np.random.randint(0, 10, 3)], [np.random.randint(0, 10, 3)])\n",
        "t_Lista"
      ],
      "execution_count": 0,
      "outputs": []
    },
    {
      "cell_type": "code",
      "metadata": {
        "id": "vlTXUJviiAml",
        "colab_type": "code",
        "colab": {}
      },
      "source": [
        "type(t_Lista)"
      ],
      "execution_count": 0,
      "outputs": []
    },
    {
      "cell_type": "code",
      "metadata": {
        "id": "yEaOlq8oh3oh",
        "colab_type": "code",
        "colab": {}
      },
      "source": [
        "v_Lista= np.asarray(t_Lista)\n",
        "v_Lista"
      ],
      "execution_count": 0,
      "outputs": []
    },
    {
      "cell_type": "code",
      "metadata": {
        "id": "PSgQDmRWh3g5",
        "colab_type": "code",
        "colab": {}
      },
      "source": [
        "type(v_Lista)"
      ],
      "execution_count": 0,
      "outputs": []
    },
    {
      "cell_type": "markdown",
      "metadata": {
        "id": "pH-Ht6yMiqJN",
        "colab_type": "text"
      },
      "source": [
        "___\n",
        "# Acrescentar elementos à um array\n",
        "> Considere o array a seguir:"
      ]
    },
    {
      "cell_type": "code",
      "metadata": {
        "id": "dFaDZInZiwoo",
        "colab_type": "code",
        "colab": {}
      },
      "source": [
        "v_X= np.arange(5)\n",
        "v_X"
      ],
      "execution_count": 0,
      "outputs": []
    },
    {
      "cell_type": "code",
      "metadata": {
        "id": "d3zrlf_Ci73Z",
        "colab_type": "code",
        "colab": {}
      },
      "source": [
        "np.random.seed(20111974)\n",
        "v_X = np.append(v_X, [np.random.randint(0, 10, 3), np.random.randint(0, 10, 3), np.random.randint(0, 10, 3)])\n",
        "v_X"
      ],
      "execution_count": 0,
      "outputs": []
    },
    {
      "cell_type": "markdown",
      "metadata": {
        "id": "eFRhtk13ojqA",
        "colab_type": "text"
      },
      "source": [
        "___\n",
        "# **Converter array 1D num array 2D**\n",
        "> Considere os arrays a seguir:"
      ]
    },
    {
      "cell_type": "code",
      "metadata": {
        "id": "wYhBgW9Zu6ZP",
        "colab_type": "code",
        "colab": {}
      },
      "source": [
        "np.random.seed(20111974)\n",
        "v_X= np.array(np.random.randint(0, 10, 6))\n",
        "\n",
        "np.random.seed(19741120)\n",
        "v_Y= np.array(np.random.randint(0, 10, 6))"
      ],
      "execution_count": 0,
      "outputs": []
    },
    {
      "cell_type": "code",
      "metadata": {
        "id": "febs9AUHvs6n",
        "colab_type": "code",
        "colab": {}
      },
      "source": [
        "v_X"
      ],
      "execution_count": 0,
      "outputs": []
    },
    {
      "cell_type": "code",
      "metadata": {
        "id": "C9OEd-iavvBm",
        "colab_type": "code",
        "colab": {}
      },
      "source": [
        "v_Y"
      ],
      "execution_count": 0,
      "outputs": []
    },
    {
      "cell_type": "code",
      "metadata": {
        "id": "KJWjtaWKv0MJ",
        "colab_type": "code",
        "colab": {}
      },
      "source": [
        "np.column_stack((v_X, v_Y)) # Atenção aos parênteses em (v_X, v_Y)."
      ],
      "execution_count": 0,
      "outputs": []
    },
    {
      "cell_type": "markdown",
      "metadata": {
        "id": "xr_WZXJ7pi2D",
        "colab_type": "text"
      },
      "source": [
        "___\n",
        "# **Excluir um elemento específico do array usando indices**\n",
        "> Considere os arrays a seguir:"
      ]
    },
    {
      "cell_type": "code",
      "metadata": {
        "id": "tS0ZzOs8w0dw",
        "colab_type": "code",
        "colab": {}
      },
      "source": [
        "np.random.seed(20111974)\n",
        "v_X= np.array(np.random.randint(0, 10, 6))\n",
        "v_X"
      ],
      "execution_count": 0,
      "outputs": []
    },
    {
      "cell_type": "markdown",
      "metadata": {
        "id": "7bOJiKDKxEsC",
        "colab_type": "text"
      },
      "source": [
        "Suponha que eu queira excluir os valores '8' de v_X. Os índices dos valores '8' são: [0, 1, 3]. Portanto, temos:"
      ]
    },
    {
      "cell_type": "code",
      "metadata": {
        "id": "SSjueEvjxTJO",
        "colab_type": "code",
        "colab": {}
      },
      "source": [
        "v_X= np.delete(v_X, [0, 1, 3])\n",
        "v_X"
      ],
      "execution_count": 0,
      "outputs": []
    },
    {
      "cell_type": "markdown",
      "metadata": {
        "id": "mZkGZ2Rgp--5",
        "colab_type": "text"
      },
      "source": [
        "___\n",
        "# **Frequência dos valores únicos de um array**\n",
        "> Considere o array a seguir:"
      ]
    },
    {
      "cell_type": "code",
      "metadata": {
        "id": "Z2BWKfH0xvQ8",
        "colab_type": "code",
        "colab": {}
      },
      "source": [
        "np.random.seed(20111974)\n",
        "v_X= np.array(np.random.randint(0, 10, 100))\n",
        "v_X"
      ],
      "execution_count": 0,
      "outputs": []
    },
    {
      "cell_type": "markdown",
      "metadata": {
        "id": "s_tdQBsax4rQ",
        "colab_type": "text"
      },
      "source": [
        "Suponha que eu queira saber quantas vezes o número/elemento '2' aparece em v_X."
      ]
    },
    {
      "cell_type": "code",
      "metadata": {
        "id": "6yIlk7pWyAtf",
        "colab_type": "code",
        "colab": {}
      },
      "source": [
        "l_Itens_Unicos, i_Count = np.unique(v_X, return_counts=True)\n",
        "l_Itens_Unicos"
      ],
      "execution_count": 0,
      "outputs": []
    },
    {
      "cell_type": "markdown",
      "metadata": {
        "id": "DyvrIwS9yZIR",
        "colab_type": "text"
      },
      "source": [
        "O que significa o output acima?"
      ]
    },
    {
      "cell_type": "code",
      "metadata": {
        "id": "uO-MPMhXyV9H",
        "colab_type": "code",
        "colab": {}
      },
      "source": [
        "i_Count"
      ],
      "execution_count": 0,
      "outputs": []
    },
    {
      "cell_type": "markdown",
      "metadata": {
        "id": "zwoezXrPyofK",
        "colab_type": "text"
      },
      "source": [
        "Qual a interpretação do output acima?"
      ]
    },
    {
      "cell_type": "code",
      "metadata": {
        "id": "HgYycSG7yr5e",
        "colab_type": "code",
        "colab": {}
      },
      "source": [
        "np.asarray((l_Itens_Unicos, i_Count))"
      ],
      "execution_count": 0,
      "outputs": []
    },
    {
      "cell_type": "markdown",
      "metadata": {
        "id": "SwIZiJAiy06T",
        "colab_type": "text"
      },
      "source": [
        "Qual a interpretação do output acima?"
      ]
    },
    {
      "cell_type": "markdown",
      "metadata": {
        "id": "JpNRpN2Dql3N",
        "colab_type": "text"
      },
      "source": [
        "___\n",
        "# **Combinações possíveis de outros arrays**\n",
        "> Considere o exemplo a seguir:\n"
      ]
    },
    {
      "cell_type": "code",
      "metadata": {
        "id": "BUr89dH4zLXD",
        "colab_type": "code",
        "colab": {}
      },
      "source": [
        "v_X = [2, 4, 6]\n",
        "v_Y = [0, 8]\n",
        "v_Z = [1, 5]"
      ],
      "execution_count": 0,
      "outputs": []
    },
    {
      "cell_type": "code",
      "metadata": {
        "id": "cEZH6l-Czx7y",
        "colab_type": "code",
        "colab": {}
      },
      "source": [
        "np.meshgrid(v_X, v_Y, v_Z)"
      ],
      "execution_count": 0,
      "outputs": []
    },
    {
      "cell_type": "code",
      "metadata": {
        "id": "btvmDkEcz0tH",
        "colab_type": "code",
        "colab": {}
      },
      "source": [
        "np.array(np.meshgrid(v_X, v_Y, v_Z))"
      ],
      "execution_count": 0,
      "outputs": []
    },
    {
      "cell_type": "code",
      "metadata": {
        "id": "Z0xhO7rGz059",
        "colab_type": "code",
        "colab": {}
      },
      "source": [
        "np.array(np.meshgrid(v_X, v_Y, v_Z)).T"
      ],
      "execution_count": 0,
      "outputs": []
    },
    {
      "cell_type": "code",
      "metadata": {
        "id": "eMv4lFnD0Enn",
        "colab_type": "code",
        "colab": {}
      },
      "source": [
        "# Resultado final\n",
        "v_W= np.array(np.meshgrid(v_X, v_Y, v_Z)).T.reshape(-1,3)\n",
        "v_W"
      ],
      "execution_count": 0,
      "outputs": []
    },
    {
      "cell_type": "markdown",
      "metadata": {
        "id": "Rz80YANfAh2k",
        "colab_type": "text"
      },
      "source": [
        "___\n",
        "# **Wrap Up**"
      ]
    },
    {
      "cell_type": "markdown",
      "metadata": {
        "id": "_cyhMsAVXxGC",
        "colab_type": "text"
      },
      "source": [
        "___\n",
        "# **Exercícios**"
      ]
    },
    {
      "cell_type": "markdown",
      "metadata": {
        "id": "kNjovMw3uJ3R",
        "colab_type": "text"
      },
      "source": [
        "## Exercício 1 - Selecionar os números pares\n",
        "> Dado o 1D array abaixo, selecionar somente os números pares."
      ]
    },
    {
      "cell_type": "code",
      "metadata": {
        "id": "isDzQjwjBX3V",
        "colab_type": "code",
        "colab": {}
      },
      "source": [
        "v_Array= np.array([0, 1, 2, 3, 4, 5, 6, 7, 8, 9])\n",
        "v_Array"
      ],
      "execution_count": 0,
      "outputs": []
    },
    {
      "cell_type": "markdown",
      "metadata": {
        "id": "Kq1zt-uO1HXv",
        "colab_type": "text"
      },
      "source": [
        "### **Minha solução**"
      ]
    },
    {
      "cell_type": "code",
      "metadata": {
        "id": "YFmK_n2M1Ks9",
        "colab_type": "code",
        "colab": {}
      },
      "source": [
        "v_Array[v_Array % 2 == 0]"
      ],
      "execution_count": 0,
      "outputs": []
    },
    {
      "cell_type": "markdown",
      "metadata": {
        "id": "sScYG0hp05vb",
        "colab_type": "text"
      },
      "source": [
        "___\n",
        "## Exercício 2 - Substituir pela mediana\n",
        "> Dado o array 1D abaixo, substituir os números pares pela mediana de v_Array."
      ]
    },
    {
      "cell_type": "code",
      "metadata": {
        "id": "XLZ-DIWU1WFs",
        "colab_type": "code",
        "colab": {}
      },
      "source": [
        "v_Array= np.array([0, 1, 2, 3, 4, 5, 6, 7, 8, 9])\n",
        "v_Array"
      ],
      "execution_count": 0,
      "outputs": []
    },
    {
      "cell_type": "markdown",
      "metadata": {
        "id": "9c4QWJno1WVB",
        "colab_type": "text"
      },
      "source": [
        "### **Minha solução**\n",
        "* Primeiramente, precisamos calcular a mediana.\n",
        "* Depois, substituimos os valores pares de v_Array pela mediana encontrada anteriormente. Ok?"
      ]
    },
    {
      "cell_type": "code",
      "metadata": {
        "id": "rx7NGAO01Wfb",
        "colab_type": "code",
        "colab": {}
      },
      "source": [
        "v_Array[v_Array % 2 == 0] = np.median(v_Array)\n",
        "v_Array"
      ],
      "execution_count": 0,
      "outputs": []
    },
    {
      "cell_type": "markdown",
      "metadata": {
        "id": "2c_AphX82qp8",
        "colab_type": "text"
      },
      "source": [
        "Verificando..."
      ]
    },
    {
      "cell_type": "code",
      "metadata": {
        "id": "9kVta0Cr13Z9",
        "colab_type": "code",
        "colab": {}
      },
      "source": [
        "f'A média de v_Array é: {np.median(v_Array)}'"
      ],
      "execution_count": 0,
      "outputs": []
    },
    {
      "cell_type": "markdown",
      "metadata": {
        "id": "L9O-Hf5x26TY",
        "colab_type": "text"
      },
      "source": [
        "___\n",
        "## Exercício 3 - Reshape\n",
        "> Dado o array 1D abaixo, reshape para um array 2D com 3 colunas."
      ]
    },
    {
      "cell_type": "code",
      "metadata": {
        "id": "0_laUvtB4Wl-",
        "colab_type": "code",
        "colab": {}
      },
      "source": [
        "# Define seed\n",
        "np.random.seed(20111974)\n",
        "v_Array= np.array(np.random.randint(1, 10, size= 15))\n",
        "v_Array"
      ],
      "execution_count": 0,
      "outputs": []
    },
    {
      "cell_type": "markdown",
      "metadata": {
        "id": "dKzEX8TK5b4Z",
        "colab_type": "text"
      },
      "source": [
        "### **Minha solução**\n",
        "* O array 1D v_Array acima possui 15 elementos. Como queremos transformá-lo num array 2D com 3 colunas, então cada coluna terá 5 elementos."
      ]
    },
    {
      "cell_type": "code",
      "metadata": {
        "id": "I-j5yVD04249",
        "colab_type": "code",
        "colab": {}
      },
      "source": [
        "v_Array.reshape(5, 3) \n",
        "# Poderia ser v_Array.reshape(-1, 3), onde \"-1\" pede para o NumPy calcular o número de linhas. "
      ],
      "execution_count": 0,
      "outputs": []
    },
    {
      "cell_type": "markdown",
      "metadata": {
        "colab_type": "text",
        "id": "F1vfS8jE6L0_"
      },
      "source": [
        "___\n",
        "## Exercício 4 - Reshape\n",
        "> Dado o array 1D abaixo, reshape para um array 3D com 2 colunas."
      ]
    },
    {
      "cell_type": "code",
      "metadata": {
        "colab_type": "code",
        "id": "xcN-bez56L1D",
        "colab": {}
      },
      "source": [
        "# Define seed\n",
        "np.random.seed(20111974)\n",
        "v_Array= np.array(np.random.randint(1, 10, size= 16))\n",
        "v_Array"
      ],
      "execution_count": 0,
      "outputs": []
    },
    {
      "cell_type": "markdown",
      "metadata": {
        "colab_type": "text",
        "id": "7iICnOyG6fcj"
      },
      "source": [
        "### **Minha solução**\n",
        "* O array 1D v_Array acima possui 16 elementos. Queremos transformá-lo num array 3D com 2 colunas."
      ]
    },
    {
      "cell_type": "code",
      "metadata": {
        "colab_type": "code",
        "id": "vdq5ybuD6fcn",
        "colab": {}
      },
      "source": [
        "v_Array.reshape(-1, 2) # O valor \"-1\" na posição das linhas pede ao NumPy para calcular o número de linhas automaticamente."
      ],
      "execution_count": 0,
      "outputs": []
    }
  ]
}