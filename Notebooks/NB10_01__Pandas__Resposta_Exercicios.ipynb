{
  "nbformat": 4,
  "nbformat_minor": 0,
  "metadata": {
    "colab": {
      "name": "NB10_01__Pandas.ipynb",
      "provenance": [],
      "private_outputs": true,
      "include_colab_link": true
    },
    "kernelspec": {
      "name": "python3",
      "display_name": "Python 3"
    }
  },
  "cells": [
    {
      "cell_type": "markdown",
      "metadata": {
        "id": "view-in-github",
        "colab_type": "text"
      },
      "source": [
        "<a href=\"https://colab.research.google.com/github/MathMachado/DSWP/blob/master/Notebooks/NB10_01__Pandas__Resposta_Exercicios.ipynb\" target=\"_parent\"><img src=\"https://colab.research.google.com/assets/colab-badge.svg\" alt=\"Open In Colab\"/></a>"
      ]
    },
    {
      "cell_type": "markdown",
      "metadata": {
        "id": "8fpUiw8PwC7_"
      },
      "source": [
        "<center><h1><b><i>PANDAS PARA DATA ANALYSIS</i></b></h1></center>\n",
        "\n",
        "\n",
        "\n",
        "# **Resposta dos Exercícios**\n"
      ]
    },
    {
      "cell_type": "markdown",
      "metadata": {
        "id": "wkxQFPPmeKLl"
      },
      "source": [
        "![Pandas](https://github.com/MathMachado/Materials/blob/master/Pandas.jpeg?raw=true)"
      ]
    },
    {
      "cell_type": "markdown",
      "metadata": {
        "id": "eKawOG-neqaD"
      },
      "source": [
        "![Pandas](https://github.com/MathMachado/Materials/blob/master/Pandas2.jpeg?raw=true)"
      ]
    },
    {
      "cell_type": "markdown",
      "metadata": {
        "id": "iwd1lhq9mrD3"
      },
      "source": [
        "___\n",
        "# **Exercícios**"
      ]
    },
    {
      "cell_type": "markdown",
      "metadata": {
        "id": "o_cl0kFgQfFh"
      },
      "source": [
        "## Exercício 1\n",
        "* A partir dos dataframes USA_Abbrev, USA_Area e USA_Population, construa o Dataframe USA contendo as COLUNAS state, abbreviation, area, ages, year, population.\n"
      ]
    },
    {
      "cell_type": "markdown",
      "metadata": {
        "id": "s8rQUo7yHKJ1"
      },
      "source": [
        "* Observação: A forma mais fácil de ler um arquivo CSV (a partir do Excell por exemplo) a partir do GitHub é clicar no arquivo csv no seu repositório do GitHub e em seguida clicar em 'raw'. Depois, copie o endereço apresentado no browser e cole na variável 'url'. Qualquer dúvida, leia o documento a seguir: https://towardsdatascience.com/3-ways-to-load-csv-files-into-colab-7c14fcbdcb92."
      ]
    },
    {
      "cell_type": "markdown",
      "metadata": {
        "id": "KTun1uSLuJ-A"
      },
      "source": [
        "## Exercício 2\n",
        "Source: https://github.com/aakankshaws/Pandas-exercises\n",
        "\n",
        "* Considere os dataframes a seguir e faça o merge do dataframe df_esquerdo com o dataframe df_direito:"
      ]
    },
    {
      "cell_type": "code",
      "metadata": {
        "id": "Soq7GVZnuREq"
      },
      "source": [
        "df_esquerdo = pd.DataFrame({'key': ['K0', 'K1', 'K2', 'K3'],\n",
        "                     'A': ['A0', 'A1', 'A2', 'A3'],\n",
        "                     'B': ['B0', 'B1', 'B2', 'B3']})\n",
        "   \n",
        "df_direito = pd.DataFrame({'key': ['K0', 'K1', 'K2', 'K3'],\n",
        "                          'C': ['C0', 'C1', 'C2', 'C3'],\n",
        "                          'D': ['D0', 'D1', 'D2', 'D3']})"
      ],
      "execution_count": null,
      "outputs": []
    },
    {
      "cell_type": "markdown",
      "metadata": {
        "id": "6KEsTARfvM1C"
      },
      "source": [
        "## Exercício 3\n",
        "Source: https://github.com/aakankshaws/Pandas-exercises\n",
        "\n",
        "* Considere os dataframes a seguir:"
      ]
    },
    {
      "cell_type": "code",
      "metadata": {
        "id": "hgxE5gZ9vMEg"
      },
      "source": [
        "df_esquerdo = pd.DataFrame({'key1': ['K0', 'K0', 'K1', 'K2'],\n",
        "                     'key2': ['K0', 'K1', 'K0', 'K1'],\n",
        "                        'A': ['A0', 'A1', 'A2', 'A3'],\n",
        "                        'B': ['B0', 'B1', 'B2', 'B3']})\n",
        "    \n",
        "df_direito = pd.DataFrame({'key1': ['K0', 'K1', 'K1', 'K2'],\n",
        "                               'key2': ['K0', 'K0', 'K0', 'K0'],\n",
        "                                  'C': ['C0', 'C1', 'C2', 'C3'],\n",
        "                                  'D': ['D0', 'D1', 'D2', 'D3']})"
      ],
      "execution_count": null,
      "outputs": []
    },
    {
      "cell_type": "markdown",
      "metadata": {
        "id": "iv7AmZ1ivm8R"
      },
      "source": [
        "### Perguntas\n",
        "* Qual o output e a interpretação dos comandos a seguir:"
      ]
    },
    {
      "cell_type": "code",
      "metadata": {
        "id": "TWAW_1tuvvSO"
      },
      "source": [
        "pd.merge(df_esquerdo, df_direito, on = ['key1', 'key2'])"
      ],
      "execution_count": null,
      "outputs": []
    },
    {
      "cell_type": "code",
      "metadata": {
        "id": "QjM7pBONvzCJ"
      },
      "source": [
        "pd.merge(df_esquerdo, df_direito, how = 'outer', on = ['key1', 'key2'])"
      ],
      "execution_count": null,
      "outputs": []
    },
    {
      "cell_type": "code",
      "metadata": {
        "id": "D1Rr3Ghsv2iS"
      },
      "source": [
        "pd.merge(df_esquerdo, df_direito, how = 'right', on = ['key1', 'key2'])"
      ],
      "execution_count": null,
      "outputs": []
    },
    {
      "cell_type": "code",
      "metadata": {
        "id": "vXQwLjT-v3Iu"
      },
      "source": [
        "pd.merge(df_esquerdo, df_direito, how = 'left', on = ['key1', 'key2'])"
      ],
      "execution_count": null,
      "outputs": []
    },
    {
      "cell_type": "markdown",
      "metadata": {
        "id": "EIdltTC-t_lF"
      },
      "source": [
        "## Exercício 5\n",
        "5.1. Identifique e delete os atributos do dataframe df_Titanic que podem ser excluídos inicialmente no início da análise de dados."
      ]
    },
    {
      "cell_type": "markdown",
      "metadata": {
        "id": "bMwPLgWclWBq"
      },
      "source": [
        "___\n",
        "## Exercício 6 - Resolvido\n",
        "* Carregue o dataframe Titanic_With_MV.csv e analise o dataframe em busca de inconsistências e Missing Values (NaN)."
      ]
    },
    {
      "cell_type": "markdown",
      "metadata": {
        "id": "Ej6WjQX90n1E"
      },
      "source": [
        "### Identificação e tratamento dos Missing Values\n",
        "* Em geral, deletamos variáveis com mais de 50% de Missing Values."
      ]
    },
    {
      "cell_type": "code",
      "metadata": {
        "id": "nuaM4JKNLeSI"
      },
      "source": [
        "df4.shape"
      ],
      "execution_count": null,
      "outputs": []
    },
    {
      "cell_type": "code",
      "metadata": {
        "id": "GaYc-HXNJ1TQ"
      },
      "source": [
        "pd.set_option('display.max_rows', 500)"
      ],
      "execution_count": null,
      "outputs": []
    },
    {
      "cell_type": "code",
      "metadata": {
        "id": "v5s71jcHIGch"
      },
      "source": [
        "df_missing_values = pd.DataFrame(df4.isnull().sum())\n",
        "df_missing_values['mv_percent'] = 100*df_missing_values[0]/df4.shape[0]\n",
        "df_missing_values[0].sort_values(ascending= False)"
      ],
      "execution_count": null,
      "outputs": []
    },
    {
      "cell_type": "code",
      "metadata": {
        "id": "V7KUGAX6lilP"
      },
      "source": [
        "import pandas as pd\n",
        "df_Titanic = pd.read_csv('https://raw.githubusercontent.com/MathMachado/Python4DS/DS_Python/Dataframes/Titanic_With_MV.csv?token =AGDJQ63MNPPPROFNSO2BZW25XSR72', index_col= 'PassengerId')\n",
        "df_Titanic.head()"
      ],
      "execution_count": null,
      "outputs": []
    },
    {
      "cell_type": "markdown",
      "metadata": {
        "id": "m3UnAPJakCLR"
      },
      "source": [
        "* Segue o dicionário de dados do dataframe Titanic:\n",
        "    * PassengerID: ID do passageiro;\n",
        "    * survived: Indicador, sendo 1= Passageiro sobreviveu e 0= Passageiro morreu;\n",
        "    * Pclass: Classe;\n",
        "    * Age: Idade do Passageiro;\n",
        "    * SibSp: Número de parentes a bordo (esposa, irmãos, pais e etc);\n",
        "    * Parch: Número de pais/crianças a bordo;\n",
        "    * Fare: Valor pago pelo Passageiro;\n",
        "    * Cabin: Cabine do Passageiro;\n",
        "    * Embarked: A porta pelo qual o Passageiro embarcou.\n",
        "    * Name: Nome do Passageiro;\n",
        "    * sex: sexo do Passageiro\n",
        "    "
      ]
    },
    {
      "cell_type": "markdown",
      "metadata": {
        "id": "_6RvRCXgwomw"
      },
      "source": [
        "### Avaliando inconsistências nas COLUNAS"
      ]
    },
    {
      "cell_type": "code",
      "metadata": {
        "id": "PToomnfRxxI5"
      },
      "source": [
        "import seaborn as sns\n",
        "import pandas as pd\n",
        "import numpy as np"
      ],
      "execution_count": null,
      "outputs": []
    },
    {
      "cell_type": "code",
      "metadata": {
        "id": "3nc_iuRR1Tju"
      },
      "source": [
        "# Uniformizando o nome das COLUNAS\n",
        "df_Titanic.columns= [cols.lower() for cols in df_Titanic.columns]\n",
        "df_Titanic.head()"
      ],
      "execution_count": null,
      "outputs": []
    },
    {
      "cell_type": "markdown",
      "metadata": {
        "id": "G9jteCnAxdnK"
      },
      "source": [
        "### Coluna 'pclass'"
      ]
    },
    {
      "cell_type": "code",
      "metadata": {
        "id": "wUk0YNlxsgvf"
      },
      "source": [
        "df_Titanic['pclass'].value_counts()"
      ],
      "execution_count": null,
      "outputs": []
    },
    {
      "cell_type": "code",
      "metadata": {
        "id": "9vPrB3AAx0Ym"
      },
      "source": [
        "sns.countplot(x = 'survived', hue ='pclass', data = df_Titanic)"
      ],
      "execution_count": null,
      "outputs": []
    },
    {
      "cell_type": "markdown",
      "metadata": {
        "id": "2n8s9Ad1m7od"
      },
      "source": [
        "Não me parece nada estranho com a variável 'pclass'. Ou você identifica alguma coisa estranho?"
      ]
    },
    {
      "cell_type": "markdown",
      "metadata": {
        "id": "m8EGM6gSxrzS"
      },
      "source": [
        "### Coluna 'sex'"
      ]
    },
    {
      "cell_type": "code",
      "metadata": {
        "id": "BRRgcLtinIRz"
      },
      "source": [
        "sns.countplot(x = 'survived', hue ='sex', data = df_Titanic)"
      ],
      "execution_count": null,
      "outputs": []
    },
    {
      "cell_type": "code",
      "metadata": {
        "id": "8SQ8v2Wnspfb"
      },
      "source": [
        "df_Titanic['sex'].value_counts()"
      ],
      "execution_count": null,
      "outputs": []
    },
    {
      "cell_type": "markdown",
      "metadata": {
        "id": "wpp0iL0kyGTl"
      },
      "source": [
        "Qual sua opinião sobre esse preenchimento?\n",
        "\n",
        "Algum problema?"
      ]
    },
    {
      "cell_type": "markdown",
      "metadata": {
        "id": "jxx06kJFnNrP"
      },
      "source": [
        "Oops... Aqui temos vários problemas... Olhando para estes resultados, você concorda que 'male', 'm', 'MALE', M', 'mALE' e 'Men' se trata da mesma informação?\n",
        "\n",
        "Da mesma forma, 'female', 'f', 'F', 'Female', 'fEMALE', 'Woman', 'w' e 'W' também se trata da mesma informação?\n",
        "\n",
        "Então, vamos fazer o seguinte:\n",
        "\n",
        "* Toda vez que eu encontrar um desses valores: ['m', 'MALE', 'M', 'mALE', 'Men'], vou substituir por 'male';\n",
        "* Toda vez que eu encontrar um desses valores: ['f', 'F', 'Female', 'fEMALE', 'Woman', 'w', 'W'], vou substituit por 'female'."
      ]
    },
    {
      "cell_type": "code",
      "metadata": {
        "id": "oQbEVi1t2tfR"
      },
      "source": [
        "df_Titanic2= df_Titanic.copy()"
      ],
      "execution_count": null,
      "outputs": []
    },
    {
      "cell_type": "markdown",
      "metadata": {
        "id": "apc-ccODyZ-d"
      },
      "source": [
        "#### Corrigir com df.replace()"
      ]
    },
    {
      "cell_type": "code",
      "metadata": {
        "id": "CwoyLBK9oME5"
      },
      "source": [
        "df_Titanic['sex2'] = df_Titanic['sex'].replace(['m', 'MALE', 'M', 'mALE', 'Men'], 'male')\n",
        "df_Titanic['sex3'] = df_Titanic['sex2'].replace(['f', 'F', 'Female', 'fEMALE', 'Woman', 'w', 'W'], 'female')  "
      ],
      "execution_count": null,
      "outputs": []
    },
    {
      "cell_type": "markdown",
      "metadata": {
        "id": "RC35I-Njp4vh"
      },
      "source": [
        "Vamos ver a distribuição dos dados novamente no gráfico:"
      ]
    },
    {
      "cell_type": "code",
      "metadata": {
        "id": "1eGvEhA9qAN6"
      },
      "source": [
        "sns.countplot(x = 'survived', hue ='sex3', data = df_Titanic)"
      ],
      "execution_count": null,
      "outputs": []
    },
    {
      "cell_type": "code",
      "metadata": {
        "id": "IY3TaKUcszTQ"
      },
      "source": [
        "df_Titanic['sex3'].value_counts()"
      ],
      "execution_count": null,
      "outputs": []
    },
    {
      "cell_type": "markdown",
      "metadata": {
        "id": "2nOAcv3iqEaK"
      },
      "source": [
        "Ok, de fato corrigimos os problemas de preenchimento da variável 'sex'."
      ]
    },
    {
      "cell_type": "markdown",
      "metadata": {
        "id": "dqLqmrTWylY3"
      },
      "source": [
        "#### Corrigir com df.map()"
      ]
    },
    {
      "cell_type": "code",
      "metadata": {
        "id": "dRvuNo4E3Ewx"
      },
      "source": [
        "df_Titanic= df_Titanic2.copy()"
      ],
      "execution_count": null,
      "outputs": []
    },
    {
      "cell_type": "code",
      "metadata": {
        "id": "3X0_ZdwCyquk"
      },
      "source": [
        "d_sexo= {}\n",
        "d_sexo.update(dict.fromkeys(['m', 'MALE', 'M', 'mALE', 'Men', 'male'], 'male'))\n",
        "d_sexo.update(dict.fromkeys(['f', 'F', 'Female', 'fEMALE', 'Woman', 'w', 'W', 'female'], 'female'))\n",
        "d_sexo"
      ],
      "execution_count": null,
      "outputs": []
    },
    {
      "cell_type": "markdown",
      "metadata": {
        "id": "YQ3lwKRKbsx0"
      },
      "source": [
        "Aplica a transformação:"
      ]
    },
    {
      "cell_type": "code",
      "metadata": {
        "id": "idBwRNI7bvCC"
      },
      "source": [
        "df_Titanic['sex2'] = df_Titanic['sex'].map(d_sexo)\n",
        "df_Titanic['sex2'].value_counts()"
      ],
      "execution_count": null,
      "outputs": []
    },
    {
      "cell_type": "markdown",
      "metadata": {
        "id": "FzDl78rfb3p5"
      },
      "source": [
        "Qual a conclusão? Este preenchimento faz mais sentido que o anterior?"
      ]
    },
    {
      "cell_type": "code",
      "metadata": {
        "id": "SvrZtKRpzIDc"
      },
      "source": [
        "# Deleta as variáveis 'sex':\n",
        "df_Titanic = df_Titanic.drop(columns = ['sex'], axis = 1).rename(columns= {'sex2': 'sex'})\n",
        "\n",
        "# Mostra os dados:\n",
        "df_Titanic.head()"
      ],
      "execution_count": null,
      "outputs": []
    },
    {
      "cell_type": "code",
      "metadata": {
        "id": "6URC6h8xzfc5"
      },
      "source": [
        "sns.catplot(x=\"sex\", kind=\"count\", data = df_Titanic)"
      ],
      "execution_count": null,
      "outputs": []
    },
    {
      "cell_type": "code",
      "metadata": {
        "id": "k_spkJbmqdRW"
      },
      "source": [
        "sns.countplot(x = 'survived', hue ='sex', data = df_Titanic)"
      ],
      "execution_count": null,
      "outputs": []
    },
    {
      "cell_type": "markdown",
      "metadata": {
        "id": "bgBNoXUNzoWZ"
      },
      "source": [
        "### Feature Engineering\n",
        "#### Coluna 'cabin'\n",
        "* Construir as COLUNAS:\n",
        "    * deck - Letra de Cabin;\n",
        "    * seat - Número de Cabin"
      ]
    },
    {
      "cell_type": "markdown",
      "metadata": {
        "id": "8fHsLrnut6mk"
      },
      "source": [
        "Sugestões:\n",
        "1) Não descartar nenhuma informação (Fábio);\n",
        "\n",
        "2) Coluna com número de cabines reservadas (Thomaz)."
      ]
    },
    {
      "cell_type": "code",
      "metadata": {
        "id": "p0NFFxx8z-vq"
      },
      "source": [
        "set(df_Titanic['cabin'])"
      ],
      "execution_count": null,
      "outputs": []
    },
    {
      "cell_type": "markdown",
      "metadata": {
        "id": "7E6yje89u7KF"
      },
      "source": [
        "Como podemos ver, trata-se de uma variável categórica com vários níveis. Portanto, vamos capturar somente a primeira letra da variável 'cabin'. Para tal, vamos utilizar a função slice().\n",
        "\n",
        "> str.slice() - Captura (slice) partes de s_Str."
      ]
    },
    {
      "cell_type": "markdown",
      "metadata": {
        "id": "wmZLlSaArR6F"
      },
      "source": [
        "A seguir, capturamos a primeira letra da variável 'cabin':"
      ]
    },
    {
      "cell_type": "code",
      "metadata": {
        "id": "hUZTJU0MvVxP"
      },
      "source": [
        "# definindo a variável 'deck' que representará a primeira letra da variável 'cabin'\n",
        "df_Titanic[\"deck\"] = df_Titanic[\"cabin\"].str.slice(0, 1) # slice(inicio, tamanho_da_string)\n",
        "df_Titanic['deck'].value_counts()"
      ],
      "execution_count": null,
      "outputs": []
    },
    {
      "cell_type": "markdown",
      "metadata": {
        "id": "6myhrth0rZ6t"
      },
      "source": [
        "A seguir, vamos extrair a parte numérica da variável 'cabin' usando Expressões Regulares:\n",
        "\n"
      ]
    },
    {
      "cell_type": "code",
      "metadata": {
        "id": "8UXkACPmsfwN"
      },
      "source": [
        "# Importar a biblioiteca para Expressões Regulares\n",
        "import re"
      ],
      "execution_count": null,
      "outputs": []
    },
    {
      "cell_type": "code",
      "metadata": {
        "id": "QKk-fnW4rf4o"
      },
      "source": [
        "# Primeiramente, usamos a função split() para separar o conteúdo da variável em COLUNAS: \n",
        "new = df_Titanic[\"cabin\"].str.split(\" \", n = 3, expand = True) \n",
        "new.head(5)"
      ],
      "execution_count": null,
      "outputs": []
    },
    {
      "cell_type": "markdown",
      "metadata": {
        "id": "dFqoR-Xew9gX"
      },
      "source": [
        "Observe acima que o comando gera quantos splits da variável eu quiser. No entanto, por simplicidade, me interessa somente o primeiro split."
      ]
    },
    {
      "cell_type": "markdown",
      "metadata": {
        "id": "_M7vA6WoVG05"
      },
      "source": [
        "Agora, vou extrair o número do assento do passageiro usando Expressões Regulares:"
      ]
    },
    {
      "cell_type": "code",
      "metadata": {
        "id": "rVH5o9KT_IH3"
      },
      "source": [
        "# Aqui está o conteúdo de new[0]:\n",
        "new[0].head()"
      ],
      "execution_count": null,
      "outputs": []
    },
    {
      "cell_type": "code",
      "metadata": {
        "id": "P7NTcsGOxxSX"
      },
      "source": [
        "new2= new[0].str.extract('(\\d+)')\n",
        "new2.head()"
      ],
      "execution_count": null,
      "outputs": []
    },
    {
      "cell_type": "markdown",
      "metadata": {
        "id": "bf8vw2Mc18bQ"
      },
      "source": [
        "Por fim, vou carregar esta informação ao dataframe df:"
      ]
    },
    {
      "cell_type": "code",
      "metadata": {
        "id": "6l6EoRvsxRXn"
      },
      "source": [
        "df_Titanic[\"seat\"] = new2\n",
        "df_Titanic.head()"
      ],
      "execution_count": null,
      "outputs": []
    },
    {
      "cell_type": "markdown",
      "metadata": {
        "id": "LK4V61uy3N9s"
      },
      "source": [
        "Por fim, excluir a variável 'cabin':"
      ]
    },
    {
      "cell_type": "code",
      "metadata": {
        "id": "4uAr55J43NY7"
      },
      "source": [
        "df_Titanic= df_Titanic.drop(columns= [\"cabin\"], axis =1, errors=\"ignore\")"
      ],
      "execution_count": null,
      "outputs": []
    },
    {
      "cell_type": "markdown",
      "metadata": {
        "id": "qZuH7YJXZCgY"
      },
      "source": [
        "### Coluna 'embarked'"
      ]
    },
    {
      "cell_type": "code",
      "metadata": {
        "id": "nTPikhrIZGya"
      },
      "source": [
        "df_Titanic['embarked'].value_counts()"
      ],
      "execution_count": null,
      "outputs": []
    },
    {
      "cell_type": "code",
      "metadata": {
        "id": "ixbZsuqOZsOc"
      },
      "source": [
        "sns.catplot(x=\"embarked\", kind=\"count\", data = df_Titanic)"
      ],
      "execution_count": null,
      "outputs": []
    },
    {
      "cell_type": "markdown",
      "metadata": {
        "id": "VvdU8aAwZNvG"
      },
      "source": [
        "Não vejo problemas com esta variável. Vamos em frente..."
      ]
    },
    {
      "cell_type": "code",
      "metadata": {
        "id": "k2SLRAhrub_B"
      },
      "source": [
        "sns.countplot(x = 'survived', hue ='embarked', data = df_Titanic)"
      ],
      "execution_count": null,
      "outputs": []
    },
    {
      "cell_type": "code",
      "metadata": {
        "id": "YRJcWaYkuxK4"
      },
      "source": [
        "sns.countplot(x = 'pclass', hue ='embarked', data = df_Titanic)"
      ],
      "execution_count": null,
      "outputs": []
    },
    {
      "cell_type": "code",
      "metadata": {
        "id": "rzrOUULUu6-P"
      },
      "source": [
        "sns.countplot(x = 'sex', hue ='embarked', data = df_Titanic)"
      ],
      "execution_count": null,
      "outputs": []
    },
    {
      "cell_type": "markdown",
      "metadata": {
        "id": "DfSMcYYZ5yLV"
      },
      "source": [
        "### Variável 'pclass'"
      ]
    },
    {
      "cell_type": "code",
      "metadata": {
        "id": "Q2uU0k-G5yLN"
      },
      "source": [
        "df_Titanic['pclass'].value_counts()"
      ],
      "execution_count": null,
      "outputs": []
    },
    {
      "cell_type": "markdown",
      "metadata": {
        "id": "Gue26Y3A5yLL"
      },
      "source": [
        "Algum problema com esta variável?"
      ]
    },
    {
      "cell_type": "code",
      "metadata": {
        "id": "q3P82wPp5yK8"
      },
      "source": [
        "sns.catplot(x=\"pclass\", kind=\"count\", data = df)"
      ],
      "execution_count": null,
      "outputs": []
    },
    {
      "cell_type": "markdown",
      "metadata": {
        "id": "Qrnc6VUKSTNp"
      },
      "source": [
        "### Coluna 'parch'"
      ]
    },
    {
      "cell_type": "code",
      "metadata": {
        "id": "2i4ed-0zSvJc"
      },
      "source": [
        "df_Titanic['parch'].value_counts()"
      ],
      "execution_count": null,
      "outputs": []
    },
    {
      "cell_type": "code",
      "metadata": {
        "id": "qd7u__6KZ6DM"
      },
      "source": [
        "sns.catplot(x=\"parch\", kind=\"count\", data = df_Titanic)"
      ],
      "execution_count": null,
      "outputs": []
    },
    {
      "cell_type": "markdown",
      "metadata": {
        "id": "Z9vM3vktC7BG"
      },
      "source": [
        "### Feature Engineering\n",
        "* Criar a coluna 'sozinho_parch', onde sozinho_parch= 1 significa que o passageiro viaja sozinho e 0, caso contrário."
      ]
    },
    {
      "cell_type": "code",
      "metadata": {
        "id": "Nd4TyOYjs-HW"
      },
      "source": [
        "# Função para retornar 0 ou 1 em função dos valores de variavel\n",
        "def sozinho(variavel):\n",
        "    if (variavel == 0):\n",
        "        return 1\n",
        "    else:\n",
        "        return 0"
      ],
      "execution_count": null,
      "outputs": []
    },
    {
      "cell_type": "code",
      "metadata": {
        "id": "5oByiBuos_B3"
      },
      "source": [
        "df_Titanic['sozinho_parch'] = df_Titanic['parch'].map(sozinho)\n",
        "df_Titanic.head()"
      ],
      "execution_count": null,
      "outputs": []
    },
    {
      "cell_type": "markdown",
      "metadata": {
        "id": "C1ICby1oSd41"
      },
      "source": [
        "### Coluna 'sibsp'"
      ]
    },
    {
      "cell_type": "code",
      "metadata": {
        "id": "5n7JNEQqTNjz"
      },
      "source": [
        "df_Titanic['sibsp'].value_counts()"
      ],
      "execution_count": null,
      "outputs": []
    },
    {
      "cell_type": "markdown",
      "metadata": {
        "id": "NLfMhiy0x4u5"
      },
      "source": [
        "* Algum problema?"
      ]
    },
    {
      "cell_type": "code",
      "metadata": {
        "id": "nayYFRK9g8iV"
      },
      "source": [
        "sns.catplot(x=\"sibsp\", kind=\"count\", data = df_Titanic)"
      ],
      "execution_count": null,
      "outputs": []
    },
    {
      "cell_type": "code",
      "metadata": {
        "id": "KzCX2MTmE9Tw"
      },
      "source": [
        "sns.countplot(x = 'survived', hue ='sibsp', data = df_Titanic)"
      ],
      "execution_count": null,
      "outputs": []
    },
    {
      "cell_type": "markdown",
      "metadata": {
        "id": "_58rZqMaDzf-"
      },
      "source": [
        "### Feature Engineering:\n",
        "* Criar o atributo 'sozinho_sibsp', onde sozinho= 1 significa que o passageiro viaja sozinho e 0, caso contrário."
      ]
    },
    {
      "cell_type": "code",
      "metadata": {
        "id": "HUrJ4IywrEoA"
      },
      "source": [
        "df_Titanic['sozinho_sibsp'] = df_Titanic['sibsp'].map(sozinho)\n",
        "df_Titanic.head()"
      ],
      "execution_count": null,
      "outputs": []
    },
    {
      "cell_type": "markdown",
      "metadata": {
        "id": "0MO9jj2NvGp_"
      },
      "source": [
        "### Coluna 'fare'\n",
        "> Discretizar a coluna 'fare' em 10 buckets."
      ]
    },
    {
      "cell_type": "code",
      "metadata": {
        "id": "4-qO2Xk76Buz"
      },
      "source": [
        "df_Titanic['fare_class'] = pd.qcut(df_Titanic['fare'], 10, labels=False)\n",
        "df_Titanic['fare_class'].value_counts()"
      ],
      "execution_count": null,
      "outputs": []
    },
    {
      "cell_type": "code",
      "metadata": {
        "id": "boAj64RHvQHu"
      },
      "source": [
        "sns.catplot(x=\"fare_class\", kind=\"count\", data = df_Titanic)"
      ],
      "execution_count": null,
      "outputs": []
    },
    {
      "cell_type": "markdown",
      "metadata": {
        "id": "3CIqHUJpvcPa"
      },
      "source": [
        "### Coluna 'age'\n",
        "> Discretizar a coluna 'age' em 10 buckets."
      ]
    },
    {
      "cell_type": "code",
      "metadata": {
        "id": "rCRnbKX57VN-"
      },
      "source": [
        "df_Titanic['age_class'] = pd.qcut(df_Titanic['age'], 10, labels=False)\n",
        "df_Titanic['age_class'].value_counts()"
      ],
      "execution_count": null,
      "outputs": []
    },
    {
      "cell_type": "code",
      "metadata": {
        "id": "uFsZLYDi7VOH"
      },
      "source": [
        "sns.catplot(x=\"age_class\", kind=\"count\", data = df_Titanic)"
      ],
      "execution_count": null,
      "outputs": []
    },
    {
      "cell_type": "markdown",
      "metadata": {
        "id": "DIY-sL337uje"
      },
      "source": [
        "#### Alternativa para discretizar 'age'"
      ]
    },
    {
      "cell_type": "code",
      "metadata": {
        "id": "W66GkyuKkhFe"
      },
      "source": [
        "def Age_Category(age):\n",
        "    if (age <= 1):\n",
        "        return 1\n",
        "    elif (age <= 5):\n",
        "        return 2\n",
        "    elif(age <= 10):\n",
        "        return 3\n",
        "    elif (age <= 15):\n",
        "        return 4\n",
        "    elif (age <= 20):\n",
        "        return 5\n",
        "    elif (age <= 25):\n",
        "        return 6\n",
        "    elif(age < 30):\n",
        "        return 7\n",
        "    elif(age < 35):\n",
        "        return 8\n",
        "    elif(age < 40):\n",
        "        return 9\n",
        "    elif(age < 45):\n",
        "        return 10\n",
        "    elif(age < 50):\n",
        "        return 11\n",
        "    elif(age < 60):\n",
        "        return 12\n",
        "    elif(age < 70):\n",
        "        return 13\n",
        "    elif(age < 80):\n",
        "        return 14\n",
        "    else:\n",
        "        return 15"
      ],
      "execution_count": null,
      "outputs": []
    },
    {
      "cell_type": "code",
      "metadata": {
        "id": "TnLzC6hCkuBL"
      },
      "source": [
        "df_Titanic['age_class2'] = df['age'].map(Age_Category)"
      ],
      "execution_count": null,
      "outputs": []
    },
    {
      "cell_type": "code",
      "metadata": {
        "id": "kG8td6HPsNlP"
      },
      "source": [
        "set(df_Titanic['age_category']) # Esse comando mostra os NaN's da coluna, se houver."
      ],
      "execution_count": null,
      "outputs": []
    },
    {
      "cell_type": "markdown",
      "metadata": {
        "id": "B_3s5cgxfNKQ"
      },
      "source": [
        "### Coluna 'title'\n",
        "\n",
        "* Para fins de Data Manipulation, vamos capturar o tratamento dos passageiros contido na variável 'nome'. Ou seja, 'Mr.', 'Mrs.', 'Miss' e etc...\n",
        "\n",
        "> Fonte: As funções get_title e title_map foram extraídas de https://www.kaggle.com/tjsauer/titanic-survival-python-solution"
      ]
    },
    {
      "cell_type": "code",
      "metadata": {
        "id": "gslSjRdDoJFY"
      },
      "source": [
        "df.head()"
      ],
      "execution_count": null,
      "outputs": []
    },
    {
      "cell_type": "markdown",
      "metadata": {
        "id": "XjqEVVnr8R4d"
      },
      "source": [
        "Primeiramente, vamos entender como funciona, step by step..."
      ]
    },
    {
      "cell_type": "code",
      "metadata": {
        "id": "D6gjWc3XozK7"
      },
      "source": [
        "'Allen, Mr. William Henry'.split(',')[1].split('.')[0].strip()"
      ],
      "execution_count": null,
      "outputs": []
    },
    {
      "cell_type": "code",
      "metadata": {
        "id": "nfIG6toGfhd5"
      },
      "source": [
        "def get_title(nome):\n",
        "    if '.' in nome:\n",
        "        return nome.split(',')[1].split('.')[0].strip()\n",
        "    else:\n",
        "        return 'Unknown'\n",
        "\n",
        "def title_map(title):\n",
        "    if title in ['Mr', 'Ms']:\n",
        "        return 1\n",
        "    elif title in ['Master']:\n",
        "        return 2\n",
        "    elif title in ['Ms','Mlle','Miss']:\n",
        "        return 3\n",
        "    elif title in [\"Mme\", \"Ms\", \"Mrs\"]:\n",
        "        return 4\n",
        "    elif title in [\"Jonkheer\", \"Don\", \"Sir\", \"the Countess\", \"Dona\", \"Lady\"]:\n",
        "        return 5\n",
        "    elif title in [\"Capt\", \"Col\", \"Major\", \"Dr\", \"Rev\"]:\n",
        "        return 6\n",
        "    else:\n",
        "        return 7"
      ],
      "execution_count": null,
      "outputs": []
    },
    {
      "cell_type": "markdown",
      "metadata": {
        "id": "HLQoJwf0rjrf"
      },
      "source": [
        "Exercícios\n",
        "* Melhorar a função title_map."
      ]
    },
    {
      "cell_type": "markdown",
      "metadata": {
        "id": "7qNUwnCepe_x"
      },
      "source": [
        "Captura o tratamento dos passageiros:"
      ]
    },
    {
      "cell_type": "code",
      "metadata": {
        "id": "r-Ltf33vgJ6Q"
      },
      "source": [
        "df_Titanic['title'] = df_Titanic['nome'].apply(get_title).apply(title_map)  \n",
        "set(df_Titanic['title']) # Esse comando mostra os NaN's da variável"
      ],
      "execution_count": null,
      "outputs": []
    },
    {
      "cell_type": "markdown",
      "metadata": {
        "id": "D3hY0WVhpRYK"
      },
      "source": [
        "Drop a coluna 'nome', pois não vamos mais precisar dela em nossas análises:"
      ]
    },
    {
      "cell_type": "code",
      "metadata": {
        "id": "Y8i3xKCes5WF"
      },
      "source": [
        "df_Titanic= df_Titanic.drop(columns= [\"nome\"], axis =1)"
      ],
      "execution_count": null,
      "outputs": []
    },
    {
      "cell_type": "markdown",
      "metadata": {
        "id": "7Sl1uFdwpW3y"
      },
      "source": [
        "Apresenta o conteúdo do dataframe:"
      ]
    },
    {
      "cell_type": "code",
      "metadata": {
        "id": "2uFnw-pZpan-"
      },
      "source": [
        "df_Titanic.head(10)"
      ],
      "execution_count": null,
      "outputs": []
    },
    {
      "cell_type": "markdown",
      "metadata": {
        "id": "B0fZMKKpdHIl"
      },
      "source": [
        "## Missing Value\n",
        "> Faça o devido tratamento de NaN's das COLUNAS do dataframe df_Titanic.\n",
        "\n",
        "**Pergunta**: Na coluna 'value', os valores 0 (zero) são considerados Missing Values?"
      ]
    },
    {
      "cell_type": "code",
      "metadata": {
        "id": "UHzKFytXsNkh"
      },
      "source": [
        "df_Titanic['age'].isna().sum()"
      ],
      "execution_count": null,
      "outputs": []
    },
    {
      "cell_type": "markdown",
      "metadata": {
        "id": "ZC1ULWd883t2"
      },
      "source": [
        "## Relação causa --> efeito"
      ]
    },
    {
      "cell_type": "markdown",
      "metadata": {
        "id": "_WCbklv0bDlp"
      },
      "source": [
        "A função a seguir nos ajudará com o Data Visualization, cruzando a variável-resposta 'survived' com qualquer outra passada à função:"
      ]
    },
    {
      "cell_type": "code",
      "metadata": {
        "id": "epxI-F2UbGGS"
      },
      "source": [
        "def taxa_sobrevivencia(df, column):\n",
        "    title_xt = pd.crosstab(df[column], df['survived'])\n",
        "    print(pd.crosstab(df[column], df['survived'], margins=True))\n",
        "    title_xt_pct = title_xt.div(title_xt.sum(1).astype(float), axis =0)\n",
        "    \n",
        "    title_xt_pct.plot(kind='bar', stacked=True, title='Taxa de Sobrevivência dos Passageiros', \n",
        "                      color= ['r', 'g'])\n",
        "    plt.xlabel(column)\n",
        "    plt.ylabel('Taxa de Sobrevivência')\n",
        "    plt.legend(loc='upper center', bbox_to_anchor=(0.5, -0.05),shadow=True, ncol=2)\n",
        "    plt.show()\n",
        "\n",
        "def grafico_catplot(x, y, hue = 'survived', col= None):\n",
        "    plt.rcdefaults()\n",
        "    g= sns.catplot(x= x, y= y, hue = hue, palette={'Died':'red','Survived':'blue'}, col= col, data = df, kind= 'bar', height=4, aspect=.7)\n",
        "    plt.show()"
      ],
      "execution_count": null,
      "outputs": []
    },
    {
      "cell_type": "markdown",
      "metadata": {
        "id": "34-Qbd_QrC8W"
      },
      "source": [
        "Qual a relação entre a variável 'sex' e a variável-resposta?"
      ]
    },
    {
      "cell_type": "code",
      "metadata": {
        "id": "bhY8-UjyrC8Z"
      },
      "source": [
        "taxa_sobrevivencia(df_Titanic, 'sex')"
      ],
      "execution_count": null,
      "outputs": []
    },
    {
      "cell_type": "markdown",
      "metadata": {
        "id": "UbexhGtayV4X"
      },
      "source": [
        "## Exercício 7\n",
        "Consulte a página [Pandas Exercises, Practice, Solution](https://www.w3resource.com/python-exercises/pandas/index.php) para mais exercícios relacionados á este tópico."
      ]
    },
    {
      "cell_type": "markdown",
      "metadata": {
        "id": "P62MXm3tK8Ty"
      },
      "source": [
        "## Exercício 8\n",
        "Crie a coluna 'aleatorio' no dataframe df_Titanic em que cada linha recebe um valor aleatório usando o método np.random.random()"
      ]
    },
    {
      "cell_type": "code",
      "metadata": {
        "id": "Du7Y8E4uFmiu"
      },
      "source": [
        "i_linhas_Titanic = df_Titanic.shape[0]\n",
        "\n",
        "df_Titanic['aleatorio'] = np.random.random(i_linhas_Titanic)\n",
        "df_Titanic.head(10)"
      ],
      "execution_count": null,
      "outputs": []
    },
    {
      "cell_type": "markdown",
      "metadata": {
        "id": "LMD3HksDL0PQ"
      },
      "source": [
        "## Exercício 9\n",
        "\n",
        "1. Carregue o arquivo FIFA.csv (está na área de Dataframes do curso);\n",
        "2. Que colunas podem previamente ser eliminadas da análise? Porque identificar o que pode ser eliminado é importante?\n",
        "3. Qual o dtype de cada variável/atributo do dataframe?\n",
        "4. Se alguma variável/atributo é do tipo string (object) e supostamente deveria ser numérica, como alteramos o tipo?\n",
        "5. Normalize os nomes das colunas, ou seja, renomeie o nome das colunas para minúsculo;\n",
        "6. Há Missing values nos dados? Se sim, o qual sua proposta (proposta do grupo) para tratar estes Missing values?\n",
        "7. Qual a distribuição do número de jogadores por países? Apresente uma tabela com a distribuição.\n",
        "8. Qual a média de idade dos jogadores por países (variável/atributo 'Nacionality');\n",
        "9. Qual a número de jogadores por idade?\n",
        "10. Quantos jogadores possuem cada clube?\n",
        "11. Qual a média de idade por clube?\n",
        "12. Qual a média de salário por país?\n",
        "13. Qual a média de salário por clube?\n",
        "14. Qual a média de salário por idade?\n",
        "15. Quanto cada clube gasta com pagamento de salários?\n",
        "16. Quais são os insight (o que você consegue descobrir) em relação à variável 'Potential' (mede o potencial dos jogadores)?\n",
        "17. Quais os insights em relação à variável overall (nota média do atleta) por idade, clube e país?\n",
        "18. Quais são os melhores clubes se levarmos em consideração as variáveis Potential e Overall?\n",
        "19. Apresente o ranking dos goleiros (use a variável/atributo 'Preferred Positions') por Potencial, Overall. Estamos à procura de 'GK'.\n",
        "20. Quem são os jogadores mais rápidos (variável/atributo 'Sprint speed'=?\n",
        "21. Quem são os 5 melhores jogadores em termos de chute (força para chutar) (use a variável/atributo 'Shot power')?\n",
        "22. Quem são os outliers em termos de salário?\n",
        "23. Quem são os outliers em termos de potência no chute?\n",
        "24. Qual a correlação e a interpretação entre as variáveis 'value' e as demais variáveis numéricas do dataframe?\n",
        "25. Construa variáveis dummy para as colunas preferred_foot e work_rate. preferred_foot_left;\n"
      ]
    },
    {
      "cell_type": "markdown",
      "metadata": {
        "id": "70Ml5KyZ04mk"
      },
      "source": [
        "A seguir, significado da variável \"Position\":\n",
        "* GK = Goalkeeper – Goleiro.\n",
        "* RB = Right Back – Zagueiro Direito.\n",
        "* CB = Central Back – Zagueiro Central.\n",
        "* LB = Left Back – Zagueiro Esquerdo.\n",
        "* SW = Sweeper – Líbero.\n",
        "* RWB = Right Wing Back – Lateral Direito.\n",
        "* LWB = Left Wing back – Lateral Esquerdo.\n",
        "* CDM = Central Defensive Midfielder – Meio Campo Defensivo / Volante.\n",
        "* CM = Central Midfielder – Meia Central.\n",
        "* CAM = Center Attacking Middlefielder – Meio Campo Ofensivo / Armador.\n",
        "* OM = Offensive Midfielder – Meia Ofensivo.\n",
        "* LOM = Left Offensive Midfielder – Meia Esquerda Ofensivo.\n",
        "* ROM = Right Offensive Midfielder – Meia Direita Ofensivo.\n",
        "* LM = Left Midfielder – Meia Esquerda.\n",
        "* RM = Right Midfielder – Meia Direita.\n",
        "* LWM = Left Wing Midfielder – Meio Ala Esquerdo.\n",
        "* RWM = Right Wing Midfielder – Meio Ala Direito.\n",
        "* RW = Right Winger – Ala Direito.\n",
        "* LW = Left Winger – Ala Esquerto.\n",
        "* LF = Left Forward – Atacante Esquerdo.\n",
        "* RF = Right Forward – Atacante Direito.\n",
        "* ST = Striker – Atacante.\n",
        "* CF = Center Forward – Centro Avante.\n",
        "* RS = Right Striker – Atacante Direito.\n",
        "* LS = Left Striker – Atacante Esquerdo."
      ]
    },
    {
      "cell_type": "markdown",
      "metadata": {
        "id": "tjHDjj68zawa"
      },
      "source": [
        "## 1. Carregue o arquivo FIFA.csv (está na área de Dataframes do curso)"
      ]
    },
    {
      "cell_type": "markdown",
      "metadata": {
        "id": "Wzosi4Ue1vDs"
      },
      "source": [
        "### Carregar as libraries necessárias"
      ]
    },
    {
      "cell_type": "code",
      "metadata": {
        "id": "B0fqR6rzMAa3"
      },
      "source": [
        "import pandas as pd\n",
        "import numpy as np"
      ],
      "execution_count": null,
      "outputs": []
    },
    {
      "cell_type": "markdown",
      "metadata": {
        "id": "vgoLTamaOC50"
      },
      "source": [
        "#### Configurar ambiente"
      ]
    },
    {
      "cell_type": "code",
      "metadata": {
        "id": "RRwi_z8JOFrD"
      },
      "source": [
        "d_configuracao = {\n",
        "    'display.max_columns': 1000,\n",
        "    'display.expand_frame_repr': True,\n",
        "    'display.max_rows': 10,\n",
        "    'display.precision': 2,\n",
        "    'display.show_dimensions': True\n",
        "                  }\n",
        "\n",
        "for op, value in d_configuracao.items():\n",
        "    pd.set_option(op, value)\n",
        "    print(op, value)"
      ],
      "execution_count": null,
      "outputs": []
    },
    {
      "cell_type": "markdown",
      "metadata": {
        "id": "MdVljEbcMGU9"
      },
      "source": [
        "#### Carregar os dados"
      ]
    },
    {
      "cell_type": "code",
      "metadata": {
        "id": "GMivDUHEMFKp"
      },
      "source": [
        "df = pd.read_csv('https://raw.githubusercontent.com/MathMachado/DSWP/master/Dataframes/FIFA.csv') #, index_col= 'PassengerId')\n",
        "df.head()"
      ],
      "execution_count": null,
      "outputs": []
    },
    {
      "cell_type": "markdown",
      "metadata": {
        "id": "7pDUpFVLTOfl"
      },
      "source": [
        "#### Definir a coluna 'ID' como index do dataframe"
      ]
    },
    {
      "cell_type": "code",
      "metadata": {
        "id": "TEue20CbMp9U"
      },
      "source": [
        "df.set_index('ID', inplace = True)\n",
        "df.head()"
      ],
      "execution_count": null,
      "outputs": []
    },
    {
      "cell_type": "markdown",
      "metadata": {
        "id": "G8CDrpI1_wMd"
      },
      "source": [
        "### Função para retirar os sinais de \"+\" ou \"-\" em algumas colunas/vriáveis:\n",
        "* Percebeste algumas colunas com o sinal de \"+\" no nome?"
      ]
    },
    {
      "cell_type": "markdown",
      "metadata": {
        "id": "7zqHkNCsEDpJ"
      },
      "source": [
        "A seguir, exemplo de algumas colunas com este problema:"
      ]
    },
    {
      "cell_type": "code",
      "metadata": {
        "id": "_hUvJbCqCBBl"
      },
      "source": [
        "df[['RS', 'LS', 'ST']].head()"
      ],
      "execution_count": null,
      "outputs": []
    },
    {
      "cell_type": "code",
      "metadata": {
        "id": "c2pEUboqJrc0"
      },
      "source": [
        "df[['RS', 'LS', 'ST']].dtypes"
      ],
      "execution_count": null,
      "outputs": []
    },
    {
      "cell_type": "markdown",
      "metadata": {
        "id": "78QhptWdEIB0"
      },
      "source": [
        "A seguir, definimos um dataframe chamado df_string contendo a quantidade de colunas separadas pelo sinal \"+\". Observe que o máximo de colunas que obtemos são 2. Porque?"
      ]
    },
    {
      "cell_type": "code",
      "metadata": {
        "id": "DzeSvQMGF4G7"
      },
      "source": [
        "df_string = df['RS'].str.split(r'\\+', n = 4, expand = True) # n representa o número de splits no output.\n",
        "df_string.head()"
      ],
      "execution_count": null,
      "outputs": []
    },
    {
      "cell_type": "code",
      "metadata": {
        "id": "PEzqRR5CEUru"
      },
      "source": [
        "df_string[0] = pd.to_numeric(df_string[0])\n",
        "df_string[1] = pd.to_numeric(df_string[1])\n",
        "df_string['RS2'] = df_string[0]+df_string[1]\n",
        "\n",
        "df_string.head()"
      ],
      "execution_count": null,
      "outputs": []
    },
    {
      "cell_type": "code",
      "metadata": {
        "id": "2t4rnjRWFPON"
      },
      "source": [
        "df_string.dtypes"
      ],
      "execution_count": null,
      "outputs": []
    },
    {
      "cell_type": "code",
      "metadata": {
        "id": "MAYju4f6GFzw"
      },
      "source": [
        "df_string.drop(columns= [0, 1], axis = 1, inplace = True)\n",
        "df = pd.merge(df, df_string, how = 'left', on = 'ID')\n",
        "df.head()"
      ],
      "execution_count": null,
      "outputs": []
    },
    {
      "cell_type": "markdown",
      "metadata": {
        "id": "sm5lOGrrHoDp"
      },
      "source": [
        " **Desafio**: Próximo passo: transformar isso numa função para tratar as demais variáveis!"
      ]
    },
    {
      "cell_type": "markdown",
      "metadata": {
        "id": "QtmOlKNpzbOz"
      },
      "source": [
        "## 2. Que colunas podem previamente ser eliminadas da análise? Porque identificar o que pode ser eliminado é importante?"
      ]
    },
    {
      "cell_type": "markdown",
      "metadata": {
        "id": "7TzcuD2GxfBP"
      },
      "source": [
        "### Colunas que poderiam previamente ser eliminadas:\n",
        "* Photo\n",
        "* Flag\n",
        "* Club Logo\n",
        "* Unnamed: 0"
      ]
    },
    {
      "cell_type": "code",
      "metadata": {
        "id": "kXDe_AdEx3DD"
      },
      "source": [
        "df2 = df.copy()\n",
        "\n",
        "l_cols_drop = ['Unnamed: 0', 'Photo', 'Flag', 'Club Logo']\n",
        "df2.drop(columns = l_cols_drop, axis = 1, inplace = True)\n",
        "df2.head()"
      ],
      "execution_count": null,
      "outputs": []
    },
    {
      "cell_type": "markdown",
      "metadata": {
        "id": "m97dcDy9zbSO"
      },
      "source": [
        "## 3. Qual o dtype de cada variável/atributo do dataframe?"
      ]
    },
    {
      "cell_type": "code",
      "metadata": {
        "id": "GEbvITXR2U17"
      },
      "source": [
        "# Função para nos mostrar o tipo das colunas:\n",
        "def mostra_tipo(df):\n",
        "    d_tipos = dict(zip(df.columns, df.dtypes))\n",
        "    for item in d_tipos.items():\n",
        "        print(item)"
      ],
      "execution_count": null,
      "outputs": []
    },
    {
      "cell_type": "code",
      "metadata": {
        "id": "3B9vxmbl9HNP"
      },
      "source": [
        "mostra_tipo(df2)"
      ],
      "execution_count": null,
      "outputs": []
    },
    {
      "cell_type": "markdown",
      "metadata": {
        "id": "5XKcxC0Pzshm"
      },
      "source": [
        "## 4. Se alguma variável/atributo é do tipo string (object) e supostamente deveria ser numérica, como alteramos o tipo?"
      ]
    },
    {
      "cell_type": "markdown",
      "metadata": {
        "id": "A7T31nFiPdDu"
      },
      "source": [
        "### Mudar o tipo de algumas colunas\n",
        "* Exemplo: 'Wage', 'Value' e 'Release Clause'. "
      ]
    },
    {
      "cell_type": "code",
      "metadata": {
        "id": "VJSsvOpK71n7"
      },
      "source": [
        "df4 = df2.copy()"
      ],
      "execution_count": null,
      "outputs": []
    },
    {
      "cell_type": "code",
      "metadata": {
        "id": "xyV-_MY9688C"
      },
      "source": [
        "def transforma_monetarias(coluna):\n",
        "    if 'M' in coluna:\n",
        "        return int(float(coluna.replace('M', '')) * 1000000)\n",
        "\n",
        "    elif 'K' in coluna:\n",
        "        return int(float(coluna.replace('K', '')) * 1000)\n",
        "        \n",
        "    else:\n",
        "        return int(coluna)   "
      ],
      "execution_count": null,
      "outputs": []
    },
    {
      "cell_type": "markdown",
      "metadata": {
        "id": "AJ9-8sVS6MXj"
      },
      "source": [
        "Substituindo o símbolo \"€\" por '':"
      ]
    },
    {
      "cell_type": "code",
      "metadata": {
        "id": "ArgK2NVe6vqz"
      },
      "source": [
        "l_colunas_monetarias = ['Value', 'Wage']\n",
        "\n",
        "for coluna in l_colunas_monetarias:\n",
        "    df4[coluna] = df4[coluna].str.replace('€', '')\n",
        "    df4[coluna] = df4[coluna].apply(lambda x: transforma_monetarias(x))\n",
        "\n",
        "df4.head()"
      ],
      "execution_count": null,
      "outputs": []
    },
    {
      "cell_type": "markdown",
      "metadata": {
        "id": "c_lznTRHzbV9"
      },
      "source": [
        "## 5. Normalize os nomes das colunas, ou seja, renomeie o nome das colunas para minúsculo;"
      ]
    },
    {
      "cell_type": "code",
      "metadata": {
        "id": "usM674sR8Gv9"
      },
      "source": [
        "df5 = df4.copy()"
      ],
      "execution_count": null,
      "outputs": []
    },
    {
      "cell_type": "markdown",
      "metadata": {
        "id": "N6LCmJ0QUsJo"
      },
      "source": [
        "### Nome das colunas --> Substituir os \" \" por \"_\" nos nomes"
      ]
    },
    {
      "cell_type": "code",
      "metadata": {
        "id": "NWJYqphfUxn1"
      },
      "source": [
        "df5.columns = [c.replace(' ', '_') for c in df5.columns]"
      ],
      "execution_count": null,
      "outputs": []
    },
    {
      "cell_type": "markdown",
      "metadata": {
        "id": "lXUOzLWmVTNZ"
      },
      "source": [
        "### Renomear as colunas usando lower()"
      ]
    },
    {
      "cell_type": "code",
      "metadata": {
        "id": "ZwwLMOYRVXnr"
      },
      "source": [
        "df5.columns = [c.lower() for c in df5.columns]\n",
        "mostra_tipo(df5)"
      ],
      "execution_count": null,
      "outputs": []
    },
    {
      "cell_type": "markdown",
      "metadata": {
        "id": "Uc12gBThz1nD"
      },
      "source": [
        "## 6. Há Missing values nos dados? Se sim, o qual sua proposta (proposta do grupo) para tratar estes Missing values?"
      ]
    },
    {
      "cell_type": "code",
      "metadata": {
        "id": "nYgvxvcT8QIT"
      },
      "source": [
        "df6 = df5.copy()\n",
        "df6.head()"
      ],
      "execution_count": null,
      "outputs": []
    },
    {
      "cell_type": "code",
      "metadata": {
        "id": "9STC9fsWJAHn"
      },
      "source": [
        "# Fazendo uma cópia permanente do dataframe df6 para uso futuro\n",
        "df6[['overall', 'potential', 'value', 'wage', 'nationality', 'position', 'age', 'preferred_foot']].to_csv('FIFA_algumas_features.csv')"
      ],
      "execution_count": null,
      "outputs": []
    },
    {
      "cell_type": "markdown",
      "metadata": {
        "id": "ESFYFvOy8XOM"
      },
      "source": [
        "Aqui vou substituir os Missing Values pela mediana. Fique à vontade para substituir por outras alternativas como min, max, média, limite superior de outliers e limite inferior para outliers."
      ]
    },
    {
      "cell_type": "code",
      "metadata": {
        "id": "j7zDrRvi8iay"
      },
      "source": [
        "l_colunas_numericas = df6.select_dtypes(np.number).columns.tolist()\n",
        "l_colunas_numericas"
      ],
      "execution_count": null,
      "outputs": []
    },
    {
      "cell_type": "code",
      "metadata": {
        "id": "mZEM0N2f9vi7"
      },
      "source": [
        "# Mediana antes da substituição:\n",
        "df6[l_colunas_numericas].median()"
      ],
      "execution_count": null,
      "outputs": []
    },
    {
      "cell_type": "code",
      "metadata": {
        "id": "dzfw0kp69dK2"
      },
      "source": [
        "# Substituição pela mediana\n",
        "for coluna in l_colunas_numericas:\n",
        "    df6[coluna].fillna(df6[coluna].median())\n",
        "\n",
        "# Mediana depois da substituição:\n",
        "df6[l_colunas_numericas].median()"
      ],
      "execution_count": null,
      "outputs": []
    },
    {
      "cell_type": "markdown",
      "metadata": {
        "id": "jpQR9zDC-nEj"
      },
      "source": [
        "Abaixo, identifiquei 252 registros com value = 0 --> Nestes casos, vou atribuir a mediana também."
      ]
    },
    {
      "cell_type": "code",
      "metadata": {
        "id": "s1Zj3gBJ-Z5c"
      },
      "source": [
        "df6[df6['value'] == 0]['value'].value_counts()"
      ],
      "execution_count": null,
      "outputs": []
    },
    {
      "cell_type": "code",
      "metadata": {
        "id": "HjuNw2u6-7i9"
      },
      "source": [
        "# Mediana antes\n",
        "df6['value'].median()"
      ],
      "execution_count": null,
      "outputs": []
    },
    {
      "cell_type": "code",
      "metadata": {
        "id": "VWEp0Tc_-vLD"
      },
      "source": [
        "# Atribuição da mediana para os valores 0 de 'value'\n",
        "df6.loc[df6['value'] == 0, 'value'] = df6['value'].median()"
      ],
      "execution_count": null,
      "outputs": []
    },
    {
      "cell_type": "code",
      "metadata": {
        "id": "HynCT_Yu_JL-"
      },
      "source": [
        "# Mediana depois\n",
        "df6['value'].median()"
      ],
      "execution_count": null,
      "outputs": []
    },
    {
      "cell_type": "markdown",
      "metadata": {
        "id": "B4O5kw6h_z3H"
      },
      "source": [
        "E se tivéssemos substituído pela média, ao invés da mediana? Teria mudado alguma coisa?"
      ]
    },
    {
      "cell_type": "markdown",
      "metadata": {
        "id": "eU7ybhA2zbZh"
      },
      "source": [
        "## 7. Qual a distribuição do número de jogadores por países? Apresente uma tabela com a distribuição."
      ]
    },
    {
      "cell_type": "code",
      "metadata": {
        "id": "A34BwvXrXAqU"
      },
      "source": [
        "df7 = df6.copy()\n",
        "df7.head()"
      ],
      "execution_count": null,
      "outputs": []
    },
    {
      "cell_type": "code",
      "metadata": {
        "id": "fu87YSiudcM_"
      },
      "source": [
        "df7.head()"
      ],
      "execution_count": null,
      "outputs": []
    },
    {
      "cell_type": "code",
      "metadata": {
        "id": "IQQ7AvgBYZmx"
      },
      "source": [
        "df_jogadores_por_paises = pd.DataFrame(df7.groupby(by=['nationality']).size())\n",
        "df_jogadores_por_paises.columns = ['numero_jogadores']\n",
        "df_jogadores_por_paises.sort_values(by = ['numero_jogadores'], ascending = False, inplace= True)\n",
        "df_jogadores_por_paises = df_jogadores_por_paises.reset_index()\n",
        "df_jogadores_por_paises\n",
        "\n",
        "# Numa única linha ficaria assim:\n",
        "df_jogadores_por_paises2 = pd.DataFrame(df7.groupby(by=['nationality']).size(), columns= ['numero_jogadores']).sort_values(by = ['numero_jogadores'], ascending = False).reset_index()\n",
        "df_jogadores_por_paises2"
      ],
      "execution_count": null,
      "outputs": []
    },
    {
      "cell_type": "markdown",
      "metadata": {
        "id": "JfyDUEC2zbcv"
      },
      "source": [
        "## 8. Qual a média de idade dos jogadores por países (variável/atributo 'Nacionality');"
      ]
    },
    {
      "cell_type": "code",
      "metadata": {
        "id": "0a9MvyWPcu-C"
      },
      "source": [
        "df_media_idade_por_paises = df7.groupby(by = ['nationality']).agg({'age': ['count', 'mean']}).reset_index()\n",
        "df_media_idade_por_paises.columns = ['nationality', 'numero_joagadores', 'media_idade']\n",
        "df_media_idade_por_paises.sort_values(by = ['media_idade'], ascending = False, inplace = True)\n",
        "df_media_idade_por_paises.head()"
      ],
      "execution_count": null,
      "outputs": []
    },
    {
      "cell_type": "markdown",
      "metadata": {
        "id": "vNmu0xyg0CW4"
      },
      "source": [
        "## 9. Qual a número de jogadores por idade?"
      ]
    },
    {
      "cell_type": "code",
      "metadata": {
        "id": "DRVvPgpRf9vw"
      },
      "source": [
        "df_jogadores_por_idade = df7.groupby(by = ['age']).agg({'age': ['count']}).reset_index()\n",
        "df_jogadores_por_idade.columns = ['age', 'numero_joagadores']\n",
        "df_jogadores_por_idade.sort_values(by = ['numero_joagadores'], ascending = False, inplace = True)\n",
        "df_jogadores_por_idade.head()"
      ],
      "execution_count": null,
      "outputs": []
    },
    {
      "cell_type": "markdown",
      "metadata": {
        "id": "8eChi2NW0CZp"
      },
      "source": [
        "## 10. Quantos jogadores possuem cada clube?"
      ]
    },
    {
      "cell_type": "code",
      "metadata": {
        "id": "JpNI3ZlHgUx1"
      },
      "source": [
        "df_jogadores_por_clube = df7.groupby(by = ['club']).size().reset_index()\n",
        "df_jogadores_por_clube.columns = ['clube', 'numero_joagadores']\n",
        "df_jogadores_por_clube.sort_values(by = ['numero_joagadores'], ascending = False, inplace = True)\n",
        "df_jogadores_por_clube.head()"
      ],
      "execution_count": null,
      "outputs": []
    },
    {
      "cell_type": "markdown",
      "metadata": {
        "id": "gMiibNwW0Cck"
      },
      "source": [
        "## 11. Qual a média de idade por clube?"
      ]
    },
    {
      "cell_type": "code",
      "metadata": {
        "id": "D9rF9frzgqSr"
      },
      "source": [
        "df_media_idade_por_clube = df7.groupby(by = ['club']).agg({'age': ['count', 'mean']}).reset_index()\n",
        "df_media_idade_por_clube.columns = ['clube', 'numero_joagadores', 'media_idade']\n",
        "df_media_idade_por_clube.sort_values(by = ['media_idade'], ascending = False, inplace = True)\n",
        "df_media_idade_por_clube.head()"
      ],
      "execution_count": null,
      "outputs": []
    },
    {
      "cell_type": "markdown",
      "metadata": {
        "id": "uE_o76xH0QU-"
      },
      "source": [
        "## 12. Qual a média de salário por país?"
      ]
    },
    {
      "cell_type": "code",
      "metadata": {
        "id": "keQXqnU7hJy4"
      },
      "source": [
        "df_media_salario_por_pais = df7.groupby(by = ['nationality']).agg({'wage': ['count', 'mean']}).reset_index()\n",
        "df_media_salario_por_pais.columns = ['nationality', 'numero_joagadores', 'media_salario']\n",
        "df_media_salario_por_pais.sort_values(by = ['media_salario'], ascending = False, inplace = True)\n",
        "df_media_salario_por_pais.head()"
      ],
      "execution_count": null,
      "outputs": []
    },
    {
      "cell_type": "markdown",
      "metadata": {
        "id": "vqT1ozNA0Cfd"
      },
      "source": [
        "## 13. Qual a média de salário por clube?"
      ]
    },
    {
      "cell_type": "code",
      "metadata": {
        "id": "54_Q2IGchmN-"
      },
      "source": [
        "df_media_salario_por_clube = df7.groupby(by = ['club']).agg({'wage': ['count', 'mean']}).reset_index()\n",
        "df_media_salario_por_clube.columns = ['clube', 'numero_joagadores', 'media_salario']\n",
        "df_media_salario_por_clube.sort_values(by = ['media_salario'], ascending = False, inplace = True)\n",
        "df_media_salario_por_clube.head()"
      ],
      "execution_count": null,
      "outputs": []
    },
    {
      "cell_type": "markdown",
      "metadata": {
        "id": "4eflozOo0Cif"
      },
      "source": [
        "## 14. Qual a média de salário por idade?"
      ]
    },
    {
      "cell_type": "code",
      "metadata": {
        "id": "Xtq9Am60hwGr"
      },
      "source": [
        "df_media_salario_por_idade = df7.groupby(by = ['age']).agg({'wage': ['count', 'mean']}).reset_index()\n",
        "df_media_salario_por_idade.columns = ['age', 'numero_joagadores', 'media_salario']\n",
        "df_media_salario_por_idade.sort_values(by = ['media_salario'], ascending = False, inplace = True)\n",
        "df_media_salario_por_idade.head()"
      ],
      "execution_count": null,
      "outputs": []
    },
    {
      "cell_type": "markdown",
      "metadata": {
        "id": "L0yRSSIb0WYj"
      },
      "source": [
        "## 15. Quanto cada clube gasta com pagamento de salários?"
      ]
    },
    {
      "cell_type": "code",
      "metadata": {
        "id": "C9N7_pLfh_uq"
      },
      "source": [
        "df_soma_salario_por_clube = df7.groupby(by = ['club']).agg({'wage': ['count', 'mean', 'sum']}).reset_index()\n",
        "df_soma_salario_por_clube.columns = ['clube', 'numero_joagadores', 'media_salario', 'soma_salario']\n",
        "df_soma_salario_por_clube.sort_values(by = ['soma_salario'], ascending = False, inplace = True)\n",
        "df_soma_salario_por_clube.head()"
      ],
      "execution_count": null,
      "outputs": []
    },
    {
      "cell_type": "markdown",
      "metadata": {
        "id": "1c7NGMg90YMi"
      },
      "source": [
        "## 16. Quais são os insight (o que você consegue descobrir) em relação à variável 'Potential' (mede o potencial dos jogadores)?"
      ]
    },
    {
      "cell_type": "code",
      "metadata": {
        "id": "RAU41Iyaihvc"
      },
      "source": [
        "df7.head()"
      ],
      "execution_count": null,
      "outputs": []
    },
    {
      "cell_type": "code",
      "metadata": {
        "id": "bM_ePTWfiTFq"
      },
      "source": [
        "df_potential_por_clube = df7.groupby(by = ['potential', 'club', 'nationality']).agg({'potential': ['count']}).reset_index()\n",
        "df_potential_por_clube.columns = ['potential', 'club', 'nationality', 'numero_joagadores']\n",
        "df_potential_por_clube.sort_values(by = ['potential'], ascending = False, inplace = True)\n",
        "df_potential_por_clube.head(10)"
      ],
      "execution_count": null,
      "outputs": []
    },
    {
      "cell_type": "markdown",
      "metadata": {
        "id": "HytWPvfvjTON"
      },
      "source": [
        "#### Quem é o jogador com potential = 95?"
      ]
    },
    {
      "cell_type": "code",
      "metadata": {
        "id": "Fk2X1q7LjWJE"
      },
      "source": [
        "df7.loc[df7['potential'] == 95]"
      ],
      "execution_count": null,
      "outputs": []
    },
    {
      "cell_type": "markdown",
      "metadata": {
        "id": "W2o4oLzujnHj"
      },
      "source": [
        "#### Quem são os jogadores com potencial = 94?"
      ]
    },
    {
      "cell_type": "code",
      "metadata": {
        "id": "GOCyMr-qjsL7"
      },
      "source": [
        "df7.loc[df7['potential'] == 94]"
      ],
      "execution_count": null,
      "outputs": []
    },
    {
      "cell_type": "markdown",
      "metadata": {
        "id": "LHDJimdw0ClU"
      },
      "source": [
        "## 17. Quais os insights em relação à variável overall (nota média do atleta) por idade, clube e país?"
      ]
    },
    {
      "cell_type": "code",
      "metadata": {
        "id": "FXFp5nxrj9Yc"
      },
      "source": [
        "df_overall = df7.groupby(by = ['overall', 'club', 'nationality']).agg({'overall': ['count']}).reset_index()\n",
        "df_overall.columns = ['overall', 'club', 'nationality', 'numero_joagadores']\n",
        "df_overall.sort_values(by = ['overall'], ascending = False, inplace = True)\n",
        "df_overall.head(10)"
      ],
      "execution_count": null,
      "outputs": []
    },
    {
      "cell_type": "markdown",
      "metadata": {
        "id": "4LTooiIdk1XV"
      },
      "source": [
        "#### Quem é o jogador com overall = 94?"
      ]
    },
    {
      "cell_type": "code",
      "metadata": {
        "id": "QieAKyi7k5Bb"
      },
      "source": [
        "df7.loc[df7['overall'] == 94]"
      ],
      "execution_count": null,
      "outputs": []
    },
    {
      "cell_type": "markdown",
      "metadata": {
        "id": "JFH54d1D0b5B"
      },
      "source": [
        "## 18. Quais são os melhores clubes se levarmos em consideração as variáveis Potential e Overall?\n",
        "* Para responder esta questão, tirei a média de overall e potential."
      ]
    },
    {
      "cell_type": "code",
      "metadata": {
        "id": "0JZ7PTFTle_d"
      },
      "source": [
        "df18 = df7.copy()"
      ],
      "execution_count": null,
      "outputs": []
    },
    {
      "cell_type": "code",
      "metadata": {
        "id": "s25u8RoplMZ8"
      },
      "source": [
        "df18['overall_potential'] = ((df18['potential']+df18['overall'])/2)\n",
        "df18[['name', 'overall', 'potential', 'overall_potential']].head()"
      ],
      "execution_count": null,
      "outputs": []
    },
    {
      "cell_type": "code",
      "metadata": {
        "id": "8gJFzhhIlDCH"
      },
      "source": [
        "df_overall_potential = df18.groupby(by = ['club', 'nationality', 'age']).agg({'overall_potential': ['count', 'mean']}).reset_index()\n",
        "df_overall_potential.columns = ['club', 'nationality', 'age', 'numero_jogadores', 'media_overall_potential']\n",
        "df_overall_potential.sort_values(by = ['media_overall_potential'], ascending = False, inplace = True)\n",
        "df_overall_potential.head(10)"
      ],
      "execution_count": null,
      "outputs": []
    },
    {
      "cell_type": "markdown",
      "metadata": {
        "id": "adpxQpWlmvac"
      },
      "source": [
        "De forma geral:"
      ]
    },
    {
      "cell_type": "code",
      "metadata": {
        "id": "fzn_81eomrj2"
      },
      "source": [
        "df_overall_potential2 = df18.groupby(by = ['club']).agg({'overall_potential': ['count', 'mean']}).reset_index()\n",
        "df_overall_potential2.columns = ['club', 'numero_jogadores', 'media_overall_potential']\n",
        "df_overall_potential2.sort_values(by = ['media_overall_potential'], ascending = False, inplace = True)\n",
        "df_overall_potential2.head(10)"
      ],
      "execution_count": null,
      "outputs": []
    },
    {
      "cell_type": "markdown",
      "metadata": {
        "id": "dM8FehYC0df7"
      },
      "source": [
        "## 19. Apresente o ranking dos goleiros (use a variável/atributo 'Preferred Positions') por Potencial, Overall. Estamos à procura de 'GK'."
      ]
    },
    {
      "cell_type": "code",
      "metadata": {
        "id": "_967BF6MnD4U"
      },
      "source": [
        "df19 = df18.copy()"
      ],
      "execution_count": null,
      "outputs": []
    },
    {
      "cell_type": "code",
      "metadata": {
        "id": "wXPah5zOmkXc"
      },
      "source": [
        "df_goleiros = df19[df19['position'] == 'GK']\n",
        "df_goleiros.head()"
      ],
      "execution_count": null,
      "outputs": []
    },
    {
      "cell_type": "code",
      "metadata": {
        "id": "77ehyNmSnTIB"
      },
      "source": [
        "df_overall_potential_goleiros = df_goleiros.groupby(by = ['club']).agg({'overall_potential': ['count', 'mean']}).reset_index()\n",
        "df_overall_potential_goleiros.columns = ['club', 'numero_jogadores', 'media_overall_potential']\n",
        "df_overall_potential_goleiros.sort_values(by = ['media_overall_potential'], ascending = False, inplace = True)\n",
        "df_overall_potential_goleiros.head(10)"
      ],
      "execution_count": null,
      "outputs": []
    },
    {
      "cell_type": "markdown",
      "metadata": {
        "id": "-dEtuBtF0fiZ"
      },
      "source": [
        "## 20. Quem são os jogadores mais rápidos (variável/atributo 'Sprint speed')?"
      ]
    },
    {
      "cell_type": "code",
      "metadata": {
        "id": "KWMU1hMMnxTI"
      },
      "source": [
        "df20 = df19.copy()"
      ],
      "execution_count": null,
      "outputs": []
    },
    {
      "cell_type": "code",
      "metadata": {
        "id": "sezEQIjqnwCZ"
      },
      "source": [
        "df20.sort_values(by = 'sprintspeed', ascending = False).head(5)"
      ],
      "execution_count": null,
      "outputs": []
    },
    {
      "cell_type": "markdown",
      "metadata": {
        "id": "aEg0eaFO0lF6"
      },
      "source": [
        "## 21. Quem são os 5 melhores jogadores em termos de chute (força para chutar) (use a variável/atributo 'Shot power')?"
      ]
    },
    {
      "cell_type": "code",
      "metadata": {
        "id": "xXuj-dc7oA-0"
      },
      "source": [
        "df21 = df20.copy()"
      ],
      "execution_count": null,
      "outputs": []
    },
    {
      "cell_type": "code",
      "metadata": {
        "id": "8HGT_dM2oEES"
      },
      "source": [
        "df21.sort_values(by = 'shotpower', ascending = False).head(5)"
      ],
      "execution_count": null,
      "outputs": []
    },
    {
      "cell_type": "markdown",
      "metadata": {
        "id": "bRk42JIf0moZ"
      },
      "source": [
        "## 22. Quem são os outliers em termos de salário?"
      ]
    },
    {
      "cell_type": "markdown",
      "metadata": {
        "id": "qRNaog7y0qI4"
      },
      "source": [
        "### Identificação e tratamento dos Outliers\n",
        "* Qual o Overall médio do Barcelona, Juventus e Real Madrid?\n",
        "* E qual o overall médio depois do tratamento dos outliers?\n",
        "* Quem são os atletas que estão influenciando a média?"
      ]
    },
    {
      "cell_type": "markdown",
      "metadata": {
        "id": "_bIxG1Sw9OUB"
      },
      "source": [
        "![BoxPlot](https://github.com/MathMachado/Materials/blob/master/boxplot.png?raw=true)\n",
        "\n",
        "Fonte: [Understanding Boxplots](https://towardsdatascience.com/understanding-boxplots-5e2df7bcbd51)"
      ]
    },
    {
      "cell_type": "code",
      "metadata": {
        "id": "qEiikIxNoZkl"
      },
      "source": [
        "df22 = df21.copy()"
      ],
      "execution_count": null,
      "outputs": []
    },
    {
      "cell_type": "code",
      "metadata": {
        "id": "lGYYvE0BoOoV"
      },
      "source": [
        "q1_salario, q3_salario = df22['wage'].quantile([0.25,0.75]).to_list()\n",
        "iqr_salario = q3_salario - q1_salario\n",
        "print(q1_salario, q3_salario)\n",
        "print(iqr_salario)"
      ],
      "execution_count": null,
      "outputs": []
    },
    {
      "cell_type": "code",
      "metadata": {
        "id": "PB44VV9pogT1"
      },
      "source": [
        "outlier_salario_inferior = q1_salario - 1.5 * iqr_salario\n",
        "outlier_salario_superior = q3_salario + 1.5 * iqr_salario\n",
        "\n",
        "df_outliers_salario = df22[['name', 'club', 'nationality', 'wage', 'overall', 'potential']]\n",
        "\n",
        "# Salários outliers inferiores\n",
        "df_outliers_salario[df_outliers_salario['wage'] < outlier_salario_inferior]"
      ],
      "execution_count": null,
      "outputs": []
    },
    {
      "cell_type": "code",
      "metadata": {
        "id": "9867KNNBqG7Z"
      },
      "source": [
        "# Top 10 Salários outliers superior\n",
        "df_outliers_salario[df_outliers_salario['wage'] > outlier_salario_superior].sort_values(by = ['wage'], ascending = False).head(10)"
      ],
      "execution_count": null,
      "outputs": []
    },
    {
      "cell_type": "markdown",
      "metadata": {
        "id": "gT2zGwq90oQ5"
      },
      "source": [
        "## 23. Quem são os outliers em termos de potência no chute?"
      ]
    },
    {
      "cell_type": "code",
      "metadata": {
        "id": "05uYj7cwqrdW"
      },
      "source": [
        "df23 = df22.copy()"
      ],
      "execution_count": null,
      "outputs": []
    },
    {
      "cell_type": "code",
      "metadata": {
        "id": "GzbVRU9HqrdZ"
      },
      "source": [
        "q1_chute, q3_chute = df23['shotpower'].quantile([0.25,0.75]).to_list()\n",
        "iqr_chute = q3_chute - q1_chute\n",
        "print(q1_chute, q3_chute)\n",
        "print(iqr_chute)"
      ],
      "execution_count": null,
      "outputs": []
    },
    {
      "cell_type": "code",
      "metadata": {
        "id": "V5TQX_yGqrda"
      },
      "source": [
        "outlier_chute_inferior = q1_chute - 1.5 * iqr_chute\n",
        "outlier_chute_superior = q3_chute + 1.5 * iqr_chute\n",
        "\n",
        "df_outliers_chute = df23[['name', 'club', 'nationality', 'shotpower', 'overall', 'potential']]\n",
        "\n",
        "# Salários outliers inferiores\n",
        "df_outliers_chute[df_outliers_chute['shotpower'] < outlier_chute_inferior]"
      ],
      "execution_count": null,
      "outputs": []
    },
    {
      "cell_type": "code",
      "metadata": {
        "id": "URj1SYXxqrdc"
      },
      "source": [
        "# Top 10 outliers superiores - shotpower\n",
        "df_outliers_chute[df_outliers_chute['shotpower'] > outlier_chute_superior].sort_values(by = ['shotpower'], ascending = False).head(10)"
      ],
      "execution_count": null,
      "outputs": []
    },
    {
      "cell_type": "markdown",
      "metadata": {
        "id": "eHm1qeHx0pza"
      },
      "source": [
        "## 24. Qual a correlação e a interpretação entre as variáveis 'value' e as demais variáveis numéricas do dataframe?"
      ]
    },
    {
      "cell_type": "markdown",
      "metadata": {
        "id": "OR6MD2GQ0rNq"
      },
      "source": [
        "## 25. Construa variáveis dummy para as colunas preferred_foot e work_rate. preferred_foot_left;"
      ]
    }
  ]
}