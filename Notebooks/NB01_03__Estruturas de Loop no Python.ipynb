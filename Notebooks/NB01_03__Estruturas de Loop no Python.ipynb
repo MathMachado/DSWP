{
  "nbformat": 4,
  "nbformat_minor": 0,
  "metadata": {
    "colab": {
      "name": "NB01_03__Loops.ipynb",
      "provenance": [],
      "private_outputs": true,
      "include_colab_link": true
    },
    "kernelspec": {
      "name": "python3",
      "display_name": "Python 3"
    }
  },
  "cells": [
    {
      "cell_type": "markdown",
      "metadata": {
        "id": "view-in-github",
        "colab_type": "text"
      },
      "source": [
        "<a href=\"https://colab.research.google.com/github/MathMachado/DSWP/blob/master/Notebooks/NB01_03__Estruturas%20de%20Loop%20no%20Python.ipynb\" target=\"_parent\"><img src=\"https://colab.research.google.com/assets/colab-badge.svg\" alt=\"Open In Colab\"/></a>"
      ]
    },
    {
      "cell_type": "markdown",
      "metadata": {
        "id": "0HWHRKZBipIA"
      },
      "source": [
        "<center><h1><b><i>Estruturas de Loop no Python: Usando While e For</i></b></h1></center>\n",
        "\n"
      ]
    },
    {
      "cell_type": "markdown",
      "metadata": {
        "id": "xjDSAzb07p_-"
      },
      "source": [
        "# **AGENDA**:\n",
        "Neste vídeo, você vai mergulhar nas estruturas de loop em Python, fundamentais para automatizar tarefas repetitivas e processar grandes quantidades de dados de forma eficiente. Você vai aprender a:\n",
        "\n",
        "* Compreender o funcionamento do loop while, suas aplicações e como evitar loops infinitos.\n",
        "* Utilizar o loop for para iterar sobre sequências, como listas, tuplas, strings e muito mais.\n",
        "* Aninhar loops e explorar como os loops podem ser combinados para resolver problemas complexos.\n",
        "* Utilizar funções de controle, como break e continue, para manipular o comportamento dos loops.\n",
        "* Executar loops com condições, permitindo que você controle quando o loop deve iniciar e parar.\n",
        "* Evitar erros comuns e otimizar loops para melhorar a eficiência do seu código.\n",
        "\n",
        "Ao final, faremos um wrap-up das principais ideias e conceitos discutidos. Além disso, você terá a chance de testar suas novas habilidades com exercícios práticos que reforçarão seu aprendizado.\n",
        "\n",
        "Este vídeo é ideal tanto para iniciantes quanto para programadores que desejam solidificar o conhecimento sobre loops e melhorar a qualidade do seu código."
      ]
    },
    {
      "cell_type": "markdown",
      "metadata": {
        "id": "rwh5e0oJd71R"
      },
      "source": [
        "___\n",
        "# **While**\n",
        "> Usamos Loops quando desejamos que algumas instruções sejam executadas várias vezes."
      ]
    },
    {
      "cell_type": "code",
      "metadata": {
        "id": "IPIKVR5Uf5pS"
      },
      "source": [
        "# Não executar o code a seguir:\n",
        "while condicao:\n",
        "    <bloco de código caso condicao for verdade>\n",
        "    break/continue\n",
        "\n",
        "<Bloco de código a ser executado após o while>"
      ],
      "execution_count": null,
      "outputs": []
    },
    {
      "cell_type": "markdown",
      "metadata": {
        "id": "AaxOB5knbLQq"
      },
      "source": [
        "## Exemplo 1"
      ]
    },
    {
      "cell_type": "code",
      "metadata": {
        "id": "SiKKCk35aRo_"
      },
      "source": [
        "i_numero= 10\n",
        "i_soma= 0\n",
        "\n",
        "while i_numero > 0:\n",
        "    i_soma+= i_numero # Equivalente a i_soma = i_soma + i_numero\n",
        "    print(f'Número: {i_numero} --> Soma: {i_soma}')\n",
        "    i_numero -= 1 # Equivalente a i_numero = i_numero - 1"
      ],
      "execution_count": null,
      "outputs": []
    },
    {
      "cell_type": "markdown",
      "metadata": {
        "id": "G__s_OwVbNf5"
      },
      "source": [
        "## Exemplo 2"
      ]
    },
    {
      "cell_type": "code",
      "metadata": {
        "id": "DKPqbmFQbO-M"
      },
      "source": [
        "i_numero= 10\n",
        "i_soma= 0\n",
        "\n",
        "while i_numero > 0:\n",
        "    i_soma+= i_numero # Equivalente a i_soma = i_soma + i_numero\n",
        "    print(f'Número: {i_numero} --> Soma: {i_soma}')\n",
        "    i_numero -= 1 # Equivalente a i_numero = i_numero - 1"
      ],
      "execution_count": null,
      "outputs": []
    },
    {
      "cell_type": "markdown",
      "metadata": {
        "id": "kz8U_cPXcfWw"
      },
      "source": [
        "## Exemplo 3"
      ]
    },
    {
      "cell_type": "code",
      "metadata": {
        "id": "DZoUN7wqchcx"
      },
      "source": [
        "i_numero= 10\n",
        "i_soma= 0\n",
        "\n",
        "while i_numero > 0:\n",
        "    i_soma+= i_numero # Equivalente a i_soma = i_soma + i_numero\n",
        "    print(f'Número: {i_numero} --> Soma: {i_soma}')\n",
        "    i_numero -= 1 # Equivalente a i_numero = i_numero - 1\n",
        "\n",
        "    if i_numero < 5:\n",
        "        print(f'i_numero < 5 --> Chegamos ao fim do while loop!')\n",
        "        break # Força a saida do Loop While"
      ],
      "execution_count": null,
      "outputs": []
    },
    {
      "cell_type": "markdown",
      "metadata": {
        "id": "PwSN-ZModXPZ"
      },
      "source": [
        "Observe que a instrução \"break\" força a saída do \"while loop\", mesmo se [condição] for verdadeira."
      ]
    },
    {
      "cell_type": "markdown",
      "metadata": {
        "id": "ovq2nlGddyux"
      },
      "source": [
        "## Exemplo 4"
      ]
    },
    {
      "cell_type": "code",
      "metadata": {
        "id": "cdBWnAlQd0qU"
      },
      "source": [
        "i_numero= 10\n",
        "i_soma= 0\n",
        "\n",
        "while i_numero > 0:\n",
        "    i_numero -= 1 # Equivalente a i_numero = i_numero - 1\n",
        "\n",
        "    if i_numero == 5:\n",
        "        print(f'i_numero == 5 --> Não faz nada!')\n",
        "        continue # Esse statement força o início do while loop.\n",
        "\n",
        "    i_soma+= i_numero # Equivalente a i_soma = i_soma + i_numero\n",
        "    print(f'Número: {i_numero} --> Soma: {i_soma}')"
      ],
      "execution_count": null,
      "outputs": []
    },
    {
      "cell_type": "markdown",
      "metadata": {
        "id": "Lb_dRhGShPcP"
      },
      "source": [
        "# **For**\n",
        "> Usado nos casos em que queremos iterar os elementos de uma sequência."
      ]
    },
    {
      "cell_type": "code",
      "metadata": {
        "id": "3qLkHhYNgkI5"
      },
      "source": [
        "# Não executar o code a seguir:\n",
        "for condicao:\n",
        "    <bloco de código caso condicao for verdade>\n",
        "    break/continue"
      ],
      "execution_count": null,
      "outputs": []
    },
    {
      "cell_type": "markdown",
      "metadata": {
        "id": "oS9smFVYiAr4"
      },
      "source": [
        "## Exemplo 1"
      ]
    },
    {
      "cell_type": "code",
      "metadata": {
        "id": "UYyKXnbxhSdz"
      },
      "source": [
        "# Definir nossa sequência - No nosso caso, a sequência é uma lista:\n",
        "l_vogais= ['a', 'e', 'i', 'o', 'u']\n",
        "\n",
        "for l_letra in l_vogais:\n",
        "    print(f'Vogal: {l_letra}')"
      ],
      "execution_count": null,
      "outputs": []
    },
    {
      "cell_type": "markdown",
      "metadata": {
        "id": "LQa2cV3AiDG2"
      },
      "source": [
        "## Exemplo 2"
      ]
    },
    {
      "cell_type": "code",
      "metadata": {
        "id": "lAYJLYYeiEgm"
      },
      "source": [
        "# Definir nossa sequência - No nosso caso, a sequência é uma lista:\n",
        "s_frase = 'Data Science é demais!'\n",
        "\n",
        "for l_letra in s_frase:\n",
        "    print(f'{l_letra}')"
      ],
      "execution_count": null,
      "outputs": []
    },
    {
      "cell_type": "markdown",
      "metadata": {
        "id": "yYT9p87Tkkap"
      },
      "source": [
        "## Função range() = np.arange\n",
        "> A função range(inicio, fim, step) gera uma sequência.\n",
        "> A função numpy.arange(inicio, fim, step) faz a mesma coisa que a função range."
      ]
    },
    {
      "cell_type": "markdown",
      "metadata": {
        "id": "1gkp66dlkxPh"
      },
      "source": [
        "Considere os exemplos a seguir:"
      ]
    },
    {
      "cell_type": "code",
      "metadata": {
        "id": "0bw4uvu1j7Ki"
      },
      "source": [
        "list(range(10)) # range(k) gera a sequência 0, ..., k-1."
      ],
      "execution_count": null,
      "outputs": []
    },
    {
      "cell_type": "code",
      "metadata": {
        "id": "kD9XhZ7xi-Bt"
      },
      "source": [
        "list(range(2, 10)) # Gera a sequência 2, 3, ... 9"
      ],
      "execution_count": null,
      "outputs": []
    },
    {
      "cell_type": "code",
      "metadata": {
        "id": "xLANqziHjDLl"
      },
      "source": [
        "list(range(0, 10, 2)) # Gera a sequência 0, 2, 4, 6, 8"
      ],
      "execution_count": null,
      "outputs": []
    },
    {
      "cell_type": "code",
      "source": [
        "list(range(0, 1000, 2)) # Gera a sequência 0, 2, 4, 6, 8"
      ],
      "metadata": {
        "id": "AegVpO8i4jhD"
      },
      "execution_count": null,
      "outputs": []
    },
    {
      "cell_type": "markdown",
      "metadata": {
        "id": "zeMxFTdE6q97"
      },
      "source": [
        "Porque a sequência acima não vai até 10?"
      ]
    },
    {
      "cell_type": "code",
      "metadata": {
        "id": "tvT0UsiojMdM"
      },
      "source": [
        "list(range(10, 0, -1)) # Gera a sequência 10, 9, 8, ..., 1"
      ],
      "execution_count": null,
      "outputs": []
    },
    {
      "cell_type": "code",
      "metadata": {
        "id": "i4ZnFoCRjQ2y"
      },
      "source": [
        "list(range(10, 0, -2))"
      ],
      "execution_count": null,
      "outputs": []
    },
    {
      "cell_type": "code",
      "metadata": {
        "id": "l8i6HSq1kU1c"
      },
      "source": [
        "list(range(10, 0))"
      ],
      "execution_count": null,
      "outputs": []
    },
    {
      "cell_type": "code",
      "metadata": {
        "id": "c2BOO7U4jf0x"
      },
      "source": [
        "list(range(10))"
      ],
      "execution_count": null,
      "outputs": []
    },
    {
      "cell_type": "markdown",
      "metadata": {
        "id": "313SD1DWij5E"
      },
      "source": [
        "## Exemplo 3"
      ]
    },
    {
      "cell_type": "markdown",
      "metadata": {
        "id": "SAVd_E1BjUDZ"
      },
      "source": [
        "Ok, agora que entendemos como funciona a função range() = np.arange, vamos ao For Loop:"
      ]
    },
    {
      "cell_type": "code",
      "metadata": {
        "id": "e9xJQ5WGilyS"
      },
      "source": [
        "for i_numero in range(10):\n",
        "    print(f'{i_numero}')"
      ],
      "execution_count": null,
      "outputs": []
    },
    {
      "cell_type": "markdown",
      "metadata": {
        "id": "Ok1-tYhd8laV"
      },
      "source": [
        "Dissemos que range() = np.arange. Veja abaixo, por exemplo, usando o método np.arange():"
      ]
    },
    {
      "cell_type": "code",
      "metadata": {
        "id": "r8SU-Hh28Vpe"
      },
      "source": [
        "import numpy as np\n",
        "\n",
        "for i_numero in np.arange(10):\n",
        "    print(f'{i_numero}')"
      ],
      "execution_count": null,
      "outputs": []
    },
    {
      "cell_type": "markdown",
      "metadata": {
        "id": "lsB0SGPfk8vu"
      },
      "source": [
        "## Exemplo 4"
      ]
    },
    {
      "cell_type": "code",
      "metadata": {
        "id": "M0dXvvbRk-by"
      },
      "source": [
        "for i_numero in [0, 2, 4, 6, 8, 10]:\n",
        "    print(f'{i_numero}')"
      ],
      "execution_count": null,
      "outputs": []
    },
    {
      "cell_type": "markdown",
      "metadata": {
        "id": "_pVAcCrylV7S"
      },
      "source": [
        "## Exemplo 5"
      ]
    },
    {
      "cell_type": "code",
      "metadata": {
        "id": "3EzKNonrlZOP"
      },
      "source": [
        "l_paises = ['Portugal', 'Brasil', 'EUA', 'Alemanha', 'Holanda']"
      ],
      "execution_count": null,
      "outputs": []
    },
    {
      "cell_type": "code",
      "metadata": {
        "id": "jHMNlZtmliOT"
      },
      "source": [
        "len(l_paises)"
      ],
      "execution_count": null,
      "outputs": []
    },
    {
      "cell_type": "code",
      "metadata": {
        "id": "zzZ2LoAWllCl"
      },
      "source": [
        "range(len(l_paises))"
      ],
      "execution_count": null,
      "outputs": []
    },
    {
      "cell_type": "code",
      "metadata": {
        "id": "jhwCsF_0lsZB"
      },
      "source": [
        "list(range(len(l_paises)))"
      ],
      "execution_count": null,
      "outputs": []
    },
    {
      "cell_type": "markdown",
      "metadata": {
        "id": "mAbQ_1xylvdK"
      },
      "source": [
        "O que são esses números acima?"
      ]
    },
    {
      "cell_type": "code",
      "metadata": {
        "id": "Bwufxio6lyy8"
      },
      "source": [
        "for i_pais in range(len(l_paises)):\n",
        "    print(f'{l_paises[i_pais]}')"
      ],
      "execution_count": null,
      "outputs": []
    },
    {
      "cell_type": "code",
      "source": [
        "l_paises"
      ],
      "metadata": {
        "id": "bGOCF1QF5Z6r"
      },
      "execution_count": null,
      "outputs": []
    },
    {
      "cell_type": "code",
      "source": [
        "l_paises[0]"
      ],
      "metadata": {
        "id": "DahIvGYO5eQg"
      },
      "execution_count": null,
      "outputs": []
    },
    {
      "cell_type": "code",
      "source": [
        "l_paises[3]"
      ],
      "metadata": {
        "id": "t_B3etux5jVv"
      },
      "execution_count": null,
      "outputs": []
    },
    {
      "cell_type": "code",
      "source": [
        "l_paises[5]"
      ],
      "metadata": {
        "id": "X4-U2n-v5oCC"
      },
      "execution_count": null,
      "outputs": []
    },
    {
      "cell_type": "markdown",
      "metadata": {
        "id": "DiQdDZE1mE6H"
      },
      "source": [
        "Saberia explicar detalhadamente o processo acima?"
      ]
    },
    {
      "cell_type": "markdown",
      "metadata": {
        "id": "eFmSvx1GZLCI"
      },
      "source": [
        "### Observação:\n",
        "* A ideia dos intervalos é:\n",
        "\n",
        "$$[inicio, fim) = [inicio, fim [$$\n",
        "\n",
        "Ou seja, fim não pertence ao intervalo."
      ]
    },
    {
      "cell_type": "markdown",
      "metadata": {
        "id": "ZpIfEmZPmPdI"
      },
      "source": [
        "## Exemplo 6\n",
        "> Uso do break."
      ]
    },
    {
      "cell_type": "code",
      "metadata": {
        "id": "Fje2a_NImUC4"
      },
      "source": [
        "for i_pais in range(len(l_paises)):\n",
        "    print(f'{l_paises[i_pais]}')\n",
        "    if l_paises[i_pais]== 'EUA':\n",
        "        break"
      ],
      "execution_count": null,
      "outputs": []
    },
    {
      "cell_type": "markdown",
      "metadata": {
        "id": "FScchFY779nn"
      },
      "source": [
        "___\n",
        "# **Wrap Up**"
      ]
    },
    {
      "cell_type": "markdown",
      "metadata": {
        "id": "IJfct-blOVXd"
      },
      "source": [
        "___\n",
        "# Exercícios\n",
        "\n",
        "Esses exercícios abrangem uma variedade de aplicações das **estruturas de loop** em Python, incluindo o uso de `for` e `while`, loops aninhados, controle de fluxo com `break` e `continue`, e técnicas para evitar loops infinitos. Ao praticar com esses exemplos, você fortalecerá sua compreensão sobre como utilizar loops de forma eficaz e escrever código mais eficiente.\n",
        "\n",
        "Bom estudo e boa codificação!\n",
        "\n",
        "---\n",
        "\n",
        "## **Exercício 1: Somatório de Números**\n",
        "\n",
        "**Descrição:**\n",
        "\n",
        "Escreva um programa que solicite ao usuário um número inteiro positivo `n` e calcule a soma de todos os números de 1 até `n`.\n",
        "\n",
        "**Exemplo:**\n",
        "\n",
        "Se o usuário inserir `5`, o programa deve calcular `1 + 2 + 3 + 4 + 5` e exibir `A soma é 15`.\n",
        "\n",
        "**Dicas:**\n",
        "\n",
        "- Use um loop `for` ou `while` para iterar pelos números.\n",
        "- Inicialize uma variável acumuladora para armazenar a soma.\n",
        "- Certifique-se de que o usuário insira um número positivo.\n",
        "\n",
        "---\n",
        "\n",
        "## **Exercício 2: Tabuada de Multiplicação**\n",
        "\n",
        "**Descrição:**\n",
        "\n",
        "Crie um programa que exiba a tabuada de multiplicação de um número fornecido pelo usuário. A tabuada deve ir de 1 a 10.\n",
        "\n",
        "**Exemplo:**\n",
        "\n",
        "Se o usuário inserir `7`, o programa deve exibir:\n",
        "\n",
        "```\n",
        "7 x 1 = 7\n",
        "7 x 2 = 14\n",
        "...\n",
        "7 x 10 = 70\n",
        "```\n",
        "\n",
        "**Dicas:**\n",
        "\n",
        "- Utilize um loop `for` para iterar de 1 a 10.\n",
        "- Dentro do loop, calcule o produto e exiba no formato especificado.\n",
        "\n",
        "---\n",
        "\n",
        "## **Exercício 3: Contagem Regressiva**\n",
        "\n",
        "**Descrição:**\n",
        "\n",
        "Escreva um programa que realize uma contagem regressiva de um número fornecido pelo usuário até zero.\n",
        "\n",
        "**Exemplo:**\n",
        "\n",
        "Se o usuário inserir `5`, o programa deve exibir:\n",
        "\n",
        "```\n",
        "5\n",
        "4\n",
        "3\n",
        "2\n",
        "1\n",
        "0\n",
        "```\n",
        "\n",
        "**Dicas:**\n",
        "\n",
        "- Você pode usar um loop `while` ou um loop `for` com a função `range()` adequada.\n",
        "- Certifique-se de que o loop termina quando atinge zero.\n",
        "\n",
        "---\n",
        "\n",
        "## **Exercício 4: Números Pares entre 1 e 50**\n",
        "\n",
        "**Descrição:**\n",
        "\n",
        "Crie um programa que exiba todos os números pares entre 1 e 50.\n",
        "\n",
        "**Dicas:**\n",
        "\n",
        "- Utilize um loop `for` com `range(1, 51)`.\n",
        "- Dentro do loop, use uma condição `if` para verificar se o número é par (número % 2 == 0).\n",
        "- Opcionalmente, você pode ajustar o `range()` para iterar apenas sobre números pares.\n",
        "\n",
        "---\n",
        "\n",
        "## **Exercício 5: Jogo de Adivinhação**\n",
        "\n",
        "**Descrição:**\n",
        "\n",
        "Desenvolva um jogo onde o computador escolhe aleatoriamente um número entre 1 e 100, e o usuário tenta adivinhar qual é o número. O programa deve informar se o palpite do usuário é maior ou menor que o número secreto. O jogo continua até o usuário acertar o número.\n",
        "\n",
        "**Dicas:**\n",
        "\n",
        "- Importe o módulo `random` e use `random.randint(1, 100)` para gerar o número secreto.\n",
        "- Use um loop `while` que continua até que o usuário acerte o número.\n",
        "- Dentro do loop, compare o palpite com o número secreto e informe ao usuário.\n",
        "\n",
        "---\n",
        "\n",
        "## **Exercício 6: Sequência de Fibonacci**\n",
        "\n",
        "**Descrição:**\n",
        "\n",
        "Escreva um programa que exiba os `n` primeiros números da sequência de Fibonacci, onde `n` é informado pelo usuário.\n",
        "\n",
        "**Sequência de Fibonacci:**\n",
        "\n",
        "0, 1, 1, 2, 3, 5, 8, 13, ...\n",
        "\n",
        "**Dicas:**\n",
        "\n",
        "- Inicialize as duas primeiras variáveis da sequência.\n",
        "- Use um loop `for` ou `while` para calcular os próximos termos.\n",
        "- Atualize as variáveis a cada iteração.\n",
        "\n",
        "---\n",
        "\n",
        "## **Exercício 7: Verificação de Número Primo**\n",
        "\n",
        "**Descrição:**\n",
        "\n",
        "Crie um programa que peça ao usuário um número inteiro e verifique se ele é um número primo.\n",
        "\n",
        "**Dicas:**\n",
        "\n",
        "- Um número primo é divisível apenas por 1 e por ele mesmo.\n",
        "- Use um loop para verificar se o número é divisível por qualquer número entre 2 e `n-1`.\n",
        "- Utilize uma variável booleana para indicar se o número é primo ou não.\n",
        "\n",
        "---\n",
        "\n",
        "## **Exercício 8: Contagem de Vogais em uma String**\n",
        "\n",
        "**Descrição:**\n",
        "\n",
        "Escreva um programa que solicite uma frase ao usuário e conte quantas vogais (a, e, i, o, u) ela contém.\n",
        "\n",
        "**Dicas:**\n",
        "\n",
        "- Converta a string para minúsculas para simplificar a comparação.\n",
        "- Use um loop `for` para iterar sobre cada caractere da string.\n",
        "- Verifique se o caractere atual é uma vogal e, se for, incremente um contador.\n",
        "\n",
        "---\n",
        "\n",
        "## **Exercício 9: Menu Interativo**\n",
        "\n",
        "**Descrição:**\n",
        "\n",
        "Crie um programa que exiba um menu com as seguintes opções:\n",
        "\n",
        "1. Somar dois números\n",
        "2. Subtrair dois números\n",
        "3. Sair\n",
        "\n",
        "O programa deve executar a operação escolhida pelo usuário e retornar ao menu até que a opção \"Sair\" seja selecionada.\n",
        "\n",
        "**Dicas:**\n",
        "\n",
        "- Use um loop `while` que continua enquanto o usuário não escolher sair.\n",
        "- Dentro do loop, capture a opção do usuário e use condicionais para executar a operação correspondente.\n",
        "- Utilize a função `input()` para interagir com o usuário.\n",
        "\n",
        "---\n",
        "\n",
        "## **Exercício 10: Impressão de Padrões com Asteriscos**\n",
        "\n",
        "**Descrição:**\n",
        "\n",
        "Escreva um programa que exiba um triângulo de asteriscos com `n` linhas, onde `n` é fornecido pelo usuário.\n",
        "\n",
        "**Exemplo:**\n",
        "\n",
        "Para `n = 5`, o resultado deve ser:\n",
        "\n",
        "```\n",
        "*\n",
        "**\n",
        "***\n",
        "****\n",
        "*****\n",
        "```\n",
        "\n",
        "**Dicas:**\n",
        "\n",
        "- Use um loop `for` que varia de 1 até `n`.\n",
        "- Em cada iteração, imprima a quantidade de asteriscos correspondente ao número da linha.\n",
        "- Você pode multiplicar a string `\"*\"` pelo número atual para facilitar.\n",
        "\n",
        "---\n",
        "\n",
        "# Referências de estudo\n",
        "\n",
        "Os sites a seguir são uma ótima referência de exercícios de Python:\n",
        "### https://pynative.com/python-if-else-and-for-loop-exercise-with-solutions/;\n",
        "### https://www.w3resource.com/python-exercises/"
      ]
    },
    {
      "cell_type": "code",
      "metadata": {
        "id": "YO2lR3nWKhT3"
      },
      "source": [],
      "execution_count": null,
      "outputs": []
    }
  ]
}