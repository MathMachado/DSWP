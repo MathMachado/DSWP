{
  "nbformat": 4,
  "nbformat_minor": 0,
  "metadata": {
    "colab": {
      "name": "NB07__Dictionaries.ipynb",
      "provenance": [],
      "collapsed_sections": [
        "n8BIbzQbNWUo",
        "7eS94uQ4NhVR",
        "SYOgJpGYVLUu",
        "CaHFxk98W5if",
        "ReWUyWiHXCnc",
        "CqszHxaKHr2h",
        "tXgF1Wl9gHKY",
        "Fotx7XUquAo8",
        "36kmLUYDvsUI",
        "SWO2GdNovxAp",
        "vpN54l4vxze5",
        "u4HOf9SNytSq",
        "6BQ9oZiD9hg5",
        "tz5-QdrX9vct",
        "p1muBgMX8NK4",
        "FxTC2-U88ajk",
        "z8EYn0pP25Rh"
      ],
      "include_colab_link": true
    },
    "kernelspec": {
      "name": "python3",
      "display_name": "Python 3"
    },
    "accelerator": "GPU"
  },
  "cells": [
    {
      "cell_type": "markdown",
      "metadata": {
        "id": "view-in-github",
        "colab_type": "text"
      },
      "source": [
        "<a href=\"https://colab.research.google.com/github/Hayltons/DSWP/blob/Aula_2020_out_10/Notebooks/NB07__Dictionaries_hs.ipynb\" target=\"_parent\"><img src=\"https://colab.research.google.com/assets/colab-badge.svg\" alt=\"Open In Colab\"/></a>"
      ]
    },
    {
      "cell_type": "markdown",
      "metadata": {
        "id": "iBW6agsvqqAm"
      },
      "source": [
        "<center><h1><b><i>DICIONÁRIOS</i></b></h1></center>\n",
        "\n",
        "* Coleção desordenada, mutável e indexada (estrutura do tipo {key: value}) de itens;\n",
        "* Não permite itens duplicados;\n",
        "* Usamos {key: value} para representar os itens do dicionário;\n",
        "\n"
      ]
    },
    {
      "cell_type": "markdown",
      "metadata": {
        "id": "LFcr_2Xnq2ho"
      },
      "source": [
        "# **AGENDA**:\n",
        "\n",
        "> Veja o **índice** dos itens que serão abordados neste capítulo.\n",
        "\n"
      ]
    },
    {
      "cell_type": "markdown",
      "metadata": {
        "id": "r8vR-lHJIhgM"
      },
      "source": [
        "# **NOTAS E OBSERVAÇÕES**\n",
        "* Levar os exemplos de lambda function daqui para o capítulo de Lambda Function.\n"
      ]
    },
    {
      "cell_type": "markdown",
      "metadata": {
        "id": "DkxCxjsbE5fL"
      },
      "source": [
        "# **CHEETSHEET**"
      ]
    },
    {
      "cell_type": "markdown",
      "metadata": {
        "id": "cGUWTualFCOk"
      },
      "source": [
        "![DataSctructures](https://github.com/MathMachado/Materials/blob/master/PythonDataStructures.png?raw=true)"
      ]
    },
    {
      "cell_type": "markdown",
      "metadata": {
        "id": "ublDMf3R_qMn"
      },
      "source": [
        "A seguir, os principais métodos associados aos dicionários. Para isso, considere as listas l_frutas e l_precos_frutas que darão origem ao dicionário d_frutas a seguir:"
      ]
    },
    {
      "cell_type": "code",
      "metadata": {
        "id": "FxuJ7Awd8f5a",
        "outputId": "b92e247b-99a3-4687-87af-de5ccb28961f",
        "colab": {
          "base_uri": "https://localhost:8080/",
          "height": 54
        }
      },
      "source": [
        "# Definição da lista l_frutas:\n",
        "l_frutas = ['Avocado', 'Apple', 'Apricot', 'Banana', 'Blackcurrant', 'Blackberry', 'Blueberry', 'Cherry', 'Coconut', 'Fig', 'Grape', 'Kiwi', 'Lemon', 'Mango', 'Nectarine', \n",
        "          'Orange', 'Papaya', 'Passion Fruit', 'Peach', 'Pineapple', 'Plum', 'Raspberry', 'Strawberry', 'Watermelon']\n",
        "\n",
        "print(l_frutas)"
      ],
      "execution_count": null,
      "outputs": [
        {
          "output_type": "stream",
          "text": [
            "['Avocado', 'Apple', 'Apricot', 'Banana', 'Blackcurrant', 'Blackberry', 'Blueberry', 'Cherry', 'Coconut', 'Fig', 'Grape', 'Kiwi', 'Lemon', 'Mango', 'Nectarine', 'Orange', 'Papaya', 'Passion Fruit', 'Peach', 'Pineapple', 'Plum', 'Raspberry', 'Strawberry', 'Watermelon']\n"
          ],
          "name": "stdout"
        }
      ]
    },
    {
      "cell_type": "code",
      "metadata": {
        "id": "jJyxuMQc9Ewy",
        "outputId": "4396f10a-5709-45cc-d923-347e4183fb7b",
        "colab": {
          "base_uri": "https://localhost:8080/",
          "height": 425
        }
      },
      "source": [
        "# Definição da lista l_precos_frutas:\n",
        "l_precos_frutas = [0.35, 0.40, 0.25, 0.30, 0.70, 0.55, 0.45, 0.50, 0.75, 0.60, 0.65, 0.20, 0.15, 0.80, 0.75, 0.25, 0.30,0.45,0.55,0.55,0.60,0.40,0.50,0.45]\n",
        "l_precos_frutas"
      ],
      "execution_count": null,
      "outputs": [
        {
          "output_type": "execute_result",
          "data": {
            "text/plain": [
              "[0.35,\n",
              " 0.4,\n",
              " 0.25,\n",
              " 0.3,\n",
              " 0.7,\n",
              " 0.55,\n",
              " 0.45,\n",
              " 0.5,\n",
              " 0.75,\n",
              " 0.6,\n",
              " 0.65,\n",
              " 0.2,\n",
              " 0.15,\n",
              " 0.8,\n",
              " 0.75,\n",
              " 0.25,\n",
              " 0.3,\n",
              " 0.45,\n",
              " 0.55,\n",
              " 0.55,\n",
              " 0.6,\n",
              " 0.4,\n",
              " 0.5,\n",
              " 0.45]"
            ]
          },
          "metadata": {
            "tags": []
          },
          "execution_count": 2
        }
      ]
    },
    {
      "cell_type": "markdown",
      "metadata": {
        "id": "hXP3kxW4-AI1"
      },
      "source": [
        "Observe abaixo o uso das funções dict() e zip() para criarmos o dicionário d_frutas:"
      ]
    },
    {
      "cell_type": "code",
      "metadata": {
        "id": "qT_4sYxA9dyn",
        "outputId": "15bd1dd0-81aa-4592-ca39-f8465f89eafe",
        "colab": {
          "base_uri": "https://localhost:8080/",
          "height": 425
        }
      },
      "source": [
        "# Definir o dicionário d_frutas: estrutura do tipo {chave1: valor1, chave2: valor2, ..., chaveN: valorN} --> JSON\n",
        "d_frutas = dict(zip(l_frutas, l_precos_frutas))\n",
        "d_frutas"
      ],
      "execution_count": null,
      "outputs": [
        {
          "output_type": "execute_result",
          "data": {
            "text/plain": [
              "{'Apple': 0.4,\n",
              " 'Apricot': 0.25,\n",
              " 'Avocado': 0.35,\n",
              " 'Banana': 0.3,\n",
              " 'Blackberry': 0.55,\n",
              " 'Blackcurrant': 0.7,\n",
              " 'Blueberry': 0.45,\n",
              " 'Cherry': 0.5,\n",
              " 'Coconut': 0.75,\n",
              " 'Fig': 0.6,\n",
              " 'Grape': 0.65,\n",
              " 'Kiwi': 0.2,\n",
              " 'Lemon': 0.15,\n",
              " 'Mango': 0.8,\n",
              " 'Nectarine': 0.75,\n",
              " 'Orange': 0.25,\n",
              " 'Papaya': 0.3,\n",
              " 'Passion Fruit': 0.45,\n",
              " 'Peach': 0.55,\n",
              " 'Pineapple': 0.55,\n",
              " 'Plum': 0.6,\n",
              " 'Raspberry': 0.4,\n",
              " 'Strawberry': 0.5,\n",
              " 'Watermelon': 0.45}"
            ]
          },
          "metadata": {
            "tags": []
          },
          "execution_count": 3
        }
      ]
    },
    {
      "cell_type": "markdown",
      "metadata": {
        "id": "iHKUaGNT_IDt"
      },
      "source": [
        "A seguir, resumo dos principais métodos relacionados à dicionários:"
      ]
    },
    {
      "cell_type": "markdown",
      "metadata": {
        "id": "MQLZ1mwW_yiU"
      },
      "source": [
        "| Método                  | Descrição                                                                                          | Exemplo                                  | Resultado                                                                      |\n",
        "|-------------------------|----------------------------------------------------------------------------------------------------|------------------------------------------|--------------------------------------------------------------------------------|\n",
        "| d_dicionario.clear()               | Remove todos os itens de d_dicionario                                                                         | d_frutas.clear()                          | {}                                                                             |\n",
        "| d_dicionario.copy()                | Retorna uma cópia de d_dicionario                                                                             | d_frutas2= d_frutas.copy()                 | d_frutas2 é uma cópia de d_frutas                                                |\n",
        "| d_dicionario.get(key)              | Retorna o valor para key, se key estiver em d_dicionario                                                      | d_frutas.get('Passion Fruit')             | 0.45                                                                           |\n",
        "|                         |                                                                                                    | d_frutas.get('XPTO')                      | O Python não apresenta nenhum retorno                                          |\n",
        "| d_dicionario.items()               | Retorna um objeto com as tuplas (key, valor) de d_dicionario                                                  | d_frutas.items()                          | dict_items([('Avocado', 0.35), ..., ('Watermelon', 0.45)])                     |\n",
        "| d_dicionario.keys()                | Retorna um objeto com as keys de d_dicionario                                                                 | d_frutas.keys()                           | dict_keys(['Avocado', 'Apple', ..., 'Watermelon'])                             |\n",
        "| d_dicionario.values()              | Retorna um objeto com os valores de d_dicionario                                                              | d_frutas.values()                         | dict_values([0.35, 0.4, ..., 0.45])                                            |\n",
        "| d_dicionario.popitem()             | Retorna e remove um item de d_dicionario                                                                      | d_frutas.popitem()                        | ('Watermelon', 0.45)                                                           |\n",
        "|                         |                                                                                                    | 'Watermelon' in d_frutas                  | False                                                                          |\n",
        "| d_dicionario.pop(key[, default])   | Retorna e remove o item de d_dicionario correspondente à key                                                  | d_frutas.pop('Orange')                    | 0.25                                                                           |\n",
        "|                         |                                                                                                    | 'Orange' in d_frutas                      | False                                                                          |\n",
        "| d_dicionario.update(d2)            | Adiciona item(s) à d_dicionario se key não estiver em d_dicionario. Se key estiver em d_dicionario, atualizará key com o novo valor | d_frutas.update({'Cherimoya': 1.3})       | Adicionará o item {'Cherimoya': 1.3} à d_frutas, pois key= 'Cherimoya' não está em d_frutas. |\n",
        "|                         |                                                                                                    | d_frutas.update({'Orange': 0.55})         | Atualiza o valor de key= 'Orange' para 0.55. O valor anterior era 0.25         |\n",
        "| d_dicionario.fromkeys(keys, value) | Retorna um dicionário com keys especificadas e valores                                             | tFruits= ('Avocado', 'Apple', 'Apricot') |                                                                                |\n",
        "|                         |                                                                                                    | d_frutas.fromkeys(tFruits, 0)             | {'Apple': 0, 'Apricot': 0, 'Avocado': 0}                                       |"
      ]
    },
    {
      "cell_type": "markdown",
      "metadata": {
        "id": "uH6cHnctDu2l"
      },
      "source": [
        "A seguir, vamos apresentar mais alguns exemplos de dicionários e seus métodos associados:"
      ]
    },
    {
      "cell_type": "markdown",
      "metadata": {
        "id": "YeCPxCab4e4k"
      },
      "source": [
        "___\n",
        "# **EXEMPLO**\n",
        "* Os dias da semana como dicionário."
      ]
    },
    {
      "cell_type": "code",
      "metadata": {
        "id": "N_2J839X4lps",
        "outputId": "72c3547d-59ee-4e42-bc85-5e050e3209dd",
        "colab": {
          "base_uri": "https://localhost:8080/",
          "height": 136
        }
      },
      "source": [
        "d_dia_semana = {'Seg': 'Segunda', 'Ter': 'Terça', 'Qua': 'Quarta', 'Qui': 'Quinta', 'Sex': 'Sexta', 'Sab': 'Sabado', 'Dom': 'Domingo'}\n",
        "d_dia_semana"
      ],
      "execution_count": null,
      "outputs": [
        {
          "output_type": "execute_result",
          "data": {
            "text/plain": [
              "{'Dom': 'Domingo',\n",
              " 'Qua': 'Quarta',\n",
              " 'Qui': 'Quinta',\n",
              " 'Sab': 'Sabado',\n",
              " 'Seg': 'Segunda',\n",
              " 'Sex': 'Sexta',\n",
              " 'Ter': 'Terça'}"
            ]
          },
          "metadata": {
            "tags": []
          },
          "execution_count": 4
        }
      ]
    },
    {
      "cell_type": "markdown",
      "metadata": {
        "id": "CnZLR-VX6FV4"
      },
      "source": [
        "Observe que:\n",
        "* os itens do dicionário d_dia_semana seguem a estrutura {key: value}.\n"
      ]
    },
    {
      "cell_type": "code",
      "metadata": {
        "id": "eHuvY7BWQKhQ",
        "outputId": "e340fc45-e036-4812-fc51-6f941063e588",
        "colab": {
          "base_uri": "https://localhost:8080/",
          "height": 35
        }
      },
      "source": [
        "d_dia_semana['Seg'] # A chave aqui é 'Seg'"
      ],
      "execution_count": null,
      "outputs": [
        {
          "output_type": "execute_result",
          "data": {
            "application/vnd.google.colaboratory.intrinsic+json": {
              "type": "string"
            },
            "text/plain": [
              "'Segunda'"
            ]
          },
          "metadata": {
            "tags": []
          },
          "execution_count": 5
        }
      ]
    },
    {
      "cell_type": "markdown",
      "metadata": {
        "id": "j65BxhzGG0NA"
      },
      "source": [
        "___\n",
        "# **DECLARAR OU INICIALIZAR UM DICIONÁRIO VAZIO**"
      ]
    },
    {
      "cell_type": "markdown",
      "metadata": {
        "id": "LEGwQ0U-fKtL"
      },
      "source": [
        "Por exemplo, o comando abaixo declara um dicionário vazio chamado d_paises:"
      ]
    },
    {
      "cell_type": "code",
      "metadata": {
        "id": "2iPWXPBLfOlr",
        "outputId": "41fc8f1a-70cd-4e56-aeb0-0c0e4aac5571",
        "colab": {
          "base_uri": "https://localhost:8080/",
          "height": 34
        }
      },
      "source": [
        "d_paises = {} # Também podemos usar a função dict() para criar o dicionário vazio da seguinte forma: d_paises= dict()\n",
        "d_paises"
      ],
      "execution_count": null,
      "outputs": [
        {
          "output_type": "execute_result",
          "data": {
            "text/plain": [
              "{}"
            ]
          },
          "metadata": {
            "tags": []
          },
          "execution_count": 6
        }
      ]
    },
    {
      "cell_type": "markdown",
      "metadata": {
        "id": "vCxZv-jmG5y0"
      },
      "source": [
        "___\n",
        "# **OBTER O TIPO DO OBJETO**\n",
        "> type(d_dicionario)"
      ]
    },
    {
      "cell_type": "code",
      "metadata": {
        "id": "voPYpGIGff3o",
        "outputId": "b05165d8-375a-44e9-cacf-876eb0da4071",
        "colab": {
          "base_uri": "https://localhost:8080/",
          "height": 34
        }
      },
      "source": [
        "type(d_paises)"
      ],
      "execution_count": null,
      "outputs": [
        {
          "output_type": "execute_result",
          "data": {
            "text/plain": [
              "dict"
            ]
          },
          "metadata": {
            "tags": []
          },
          "execution_count": 7
        }
      ]
    },
    {
      "cell_type": "markdown",
      "metadata": {
        "id": "X3MvCkFiG-UO"
      },
      "source": [
        "___\n",
        "# **ADICIONAR ITENS AO DICIONÁRIO**"
      ]
    },
    {
      "cell_type": "markdown",
      "metadata": {
        "id": "fzP8iG5xfi0H"
      },
      "source": [
        "Adicionar o valor 'Italy' à key = 1. Em outras palavras, estamos a adicionar o item {1: 'Italy'}"
      ]
    },
    {
      "cell_type": "code",
      "metadata": {
        "id": "EXZ7eEZofnza",
        "outputId": "0976b0e9-c5d3-4341-d444-d6e556c225bb",
        "colab": {
          "base_uri": "https://localhost:8080/",
          "height": 34
        }
      },
      "source": [
        "d_paises[1] = 'Italy'\n",
        "d_paises"
      ],
      "execution_count": null,
      "outputs": [
        {
          "output_type": "execute_result",
          "data": {
            "text/plain": [
              "{1: 'Italy'}"
            ]
          },
          "metadata": {
            "tags": []
          },
          "execution_count": 8
        }
      ]
    },
    {
      "cell_type": "markdown",
      "metadata": {
        "id": "rH51ORGHHREE"
      },
      "source": [
        "Adicionar o valor 'Denmark' à key= 2. Em outras palavras, estamos a adicionar o item {2: 'Denmark'}"
      ]
    },
    {
      "cell_type": "code",
      "metadata": {
        "id": "GAXSzSiufv1u",
        "outputId": "19a48880-61f6-4c24-ba7c-e5b81e1cad52",
        "colab": {
          "base_uri": "https://localhost:8080/",
          "height": 34
        }
      },
      "source": [
        "d_paises[2] = 'Denmark'\n",
        "d_paises"
      ],
      "execution_count": null,
      "outputs": [
        {
          "output_type": "execute_result",
          "data": {
            "text/plain": [
              "{1: 'Italy', 2: 'Denmark'}"
            ]
          },
          "metadata": {
            "tags": []
          },
          "execution_count": 9
        }
      ]
    },
    {
      "cell_type": "markdown",
      "metadata": {
        "id": "Xqdc_IYoHVVQ"
      },
      "source": [
        "Adicionar o valor 'Brazil' à key= 3. Em outras palavras, estamos a adicionar o item {3: 'Brazil'}"
      ]
    },
    {
      "cell_type": "code",
      "metadata": {
        "id": "FN7km8C9gAjM",
        "outputId": "99f3df3e-aa72-4b86-aff7-9383f4f74dcb",
        "colab": {
          "base_uri": "https://localhost:8080/",
          "height": 34
        }
      },
      "source": [
        "d_paises[3]= 'Brazil'\n",
        "d_paises"
      ],
      "execution_count": null,
      "outputs": [
        {
          "output_type": "execute_result",
          "data": {
            "text/plain": [
              "{1: 'Italy', 2: 'Denmark', 3: 'Brazil'}"
            ]
          },
          "metadata": {
            "tags": []
          },
          "execution_count": 10
        }
      ]
    },
    {
      "cell_type": "markdown",
      "metadata": {
        "id": "iwU8pJKRHapD"
      },
      "source": [
        "___\n",
        "# **ATUALIZAR VALORES DO DICIONÁRIO**"
      ]
    },
    {
      "cell_type": "markdown",
      "metadata": {
        "id": "CxXUV7TugLXn"
      },
      "source": [
        "O que acontece quando eu atribuo à key 3 outro valor, por exemplo, 'France'. Vamos conferir abaixo:"
      ]
    },
    {
      "cell_type": "code",
      "metadata": {
        "id": "Rr6DtJnDgU5I",
        "outputId": "b2d7aa85-4860-4c0d-b1dd-7f3ae61f9e17",
        "colab": {
          "base_uri": "https://localhost:8080/",
          "height": 34
        }
      },
      "source": [
        "# Adicionar o valor 'France' à key= 3\n",
        "d_paises[3]= 'France'\n",
        "d_paises"
      ],
      "execution_count": null,
      "outputs": [
        {
          "output_type": "execute_result",
          "data": {
            "text/plain": [
              "{1: 'Italy', 2: 'Denmark', 3: 'France'}"
            ]
          },
          "metadata": {
            "tags": []
          },
          "execution_count": 11
        }
      ]
    },
    {
      "cell_type": "markdown",
      "metadata": {
        "id": "xB9G1l3_ggo-"
      },
      "source": [
        "Como a key= 3 existe no dicionário d_paises, então o Python substitui o valor anterior 'Brazil' pelo novo valor, 'France'. \n",
        "\n",
        "* Lembre-se, os dicionários são mutáveis!"
      ]
    },
    {
      "cell_type": "markdown",
      "metadata": {
        "id": "T8JBxySZHiOJ"
      },
      "source": [
        "___\n",
        "# **OBTER KEYS DO DICIONÁRIO**"
      ]
    },
    {
      "cell_type": "code",
      "metadata": {
        "id": "FQtAHjJdb0xK",
        "outputId": "aad4e409-d6b5-4c3f-a06c-fff1cb7a6688",
        "colab": {
          "base_uri": "https://localhost:8080/",
          "height": 34
        }
      },
      "source": [
        "d_paises"
      ],
      "execution_count": null,
      "outputs": [
        {
          "output_type": "execute_result",
          "data": {
            "text/plain": [
              "{1: 'Italy', 2: 'Denmark', 3: 'France'}"
            ]
          },
          "metadata": {
            "tags": []
          },
          "execution_count": 12
        }
      ]
    },
    {
      "cell_type": "code",
      "metadata": {
        "id": "ALwbHwi4iwky",
        "outputId": "82d7b6c6-53a8-4f1d-abdb-d4906a269097",
        "colab": {
          "base_uri": "https://localhost:8080/",
          "height": 34
        }
      },
      "source": [
        "d_paises.keys()"
      ],
      "execution_count": null,
      "outputs": [
        {
          "output_type": "execute_result",
          "data": {
            "text/plain": [
              "dict_keys([1, 2, 3])"
            ]
          },
          "metadata": {
            "tags": []
          },
          "execution_count": 13
        }
      ]
    },
    {
      "cell_type": "markdown",
      "metadata": {
        "id": "FIvi0Li1Hng5"
      },
      "source": [
        "___\n",
        "# **OBTER VALORES DO DICIONÁRIO**"
      ]
    },
    {
      "cell_type": "code",
      "metadata": {
        "id": "cp0PPtl3jEKo",
        "outputId": "de0432c6-240d-4783-b6ff-7692b3d92188",
        "colab": {
          "base_uri": "https://localhost:8080/",
          "height": 34
        }
      },
      "source": [
        "d_paises.values()"
      ],
      "execution_count": null,
      "outputs": [
        {
          "output_type": "execute_result",
          "data": {
            "text/plain": [
              "dict_values(['Italy', 'Denmark', 'France'])"
            ]
          },
          "metadata": {
            "tags": []
          },
          "execution_count": 14
        }
      ]
    },
    {
      "cell_type": "markdown",
      "metadata": {
        "id": "JUblZBMjHrwl"
      },
      "source": [
        "___\n",
        "# **OBTER ITENS (key, value) DO DICIONÁRIO**"
      ]
    },
    {
      "cell_type": "code",
      "metadata": {
        "id": "LraTwXjdjG3m",
        "outputId": "fa2310f2-2a88-4d4c-8799-bacd6b40fcc6",
        "colab": {
          "base_uri": "https://localhost:8080/",
          "height": 34
        }
      },
      "source": [
        "d_paises.items()"
      ],
      "execution_count": null,
      "outputs": [
        {
          "output_type": "execute_result",
          "data": {
            "text/plain": [
              "dict_items([(1, 'Italy'), (2, 'Denmark'), (3, 'France')])"
            ]
          },
          "metadata": {
            "tags": []
          },
          "execution_count": 15
        }
      ]
    },
    {
      "cell_type": "markdown",
      "metadata": {
        "id": "IJEMg2LKHyGa"
      },
      "source": [
        "___\n",
        "# **OBTER VALOR PARA UMA KEY ESPECÍFICA**\n",
        "* d_dicionario.get(key)"
      ]
    },
    {
      "cell_type": "markdown",
      "metadata": {
        "id": "dzgBhsphjSQm"
      },
      "source": [
        "Qual o valor para key= 1?"
      ]
    },
    {
      "cell_type": "code",
      "metadata": {
        "id": "FUfTjqktjW60",
        "outputId": "0ce4b014-66c5-4bbe-af35-1b627f877a6f",
        "colab": {
          "base_uri": "https://localhost:8080/",
          "height": 35
        }
      },
      "source": [
        "d_paises.get(1)"
      ],
      "execution_count": null,
      "outputs": [
        {
          "output_type": "execute_result",
          "data": {
            "application/vnd.google.colaboratory.intrinsic+json": {
              "type": "string"
            },
            "text/plain": [
              "'Italy'"
            ]
          },
          "metadata": {
            "tags": []
          },
          "execution_count": 16
        }
      ]
    },
    {
      "cell_type": "markdown",
      "metadata": {
        "id": "tyJ0KsloIBoD"
      },
      "source": [
        "___\n",
        "# **COPIAR DICIONÁRIO**\n",
        "* d_dicionario.copy()"
      ]
    },
    {
      "cell_type": "code",
      "metadata": {
        "id": "XL17EmvMkkky",
        "outputId": "198fd037-5b42-41c5-a959-fcaaa419d35d",
        "colab": {
          "base_uri": "https://localhost:8080/",
          "height": 34
        }
      },
      "source": [
        "d_paises2 = d_paises.copy()\n",
        "d_paises2"
      ],
      "execution_count": null,
      "outputs": [
        {
          "output_type": "execute_result",
          "data": {
            "text/plain": [
              "{1: 'Italy', 2: 'Denmark', 3: 'France'}"
            ]
          },
          "metadata": {
            "tags": []
          },
          "execution_count": 17
        }
      ]
    },
    {
      "cell_type": "markdown",
      "metadata": {
        "id": "8V25l2ZoIG4B"
      },
      "source": [
        "___\n",
        "# **REMOVER TODOS OS ITENS DO DICIONÁRIO**\n",
        "* d_dicionario.clear()"
      ]
    },
    {
      "cell_type": "code",
      "metadata": {
        "id": "r-8Gs1gYjqLN"
      },
      "source": [
        "d_paises.clear()"
      ],
      "execution_count": null,
      "outputs": []
    },
    {
      "cell_type": "code",
      "metadata": {
        "id": "ro_42gzDjsdV",
        "outputId": "b31b6516-a7af-45ff-85e2-a7e6fa8e40ec",
        "colab": {
          "base_uri": "https://localhost:8080/",
          "height": 34
        }
      },
      "source": [
        "d_paises"
      ],
      "execution_count": null,
      "outputs": [
        {
          "output_type": "execute_result",
          "data": {
            "text/plain": [
              "{}"
            ]
          },
          "metadata": {
            "tags": []
          },
          "execution_count": 19
        }
      ]
    },
    {
      "cell_type": "markdown",
      "metadata": {
        "id": "pCzKkKoujv7G"
      },
      "source": [
        "Como esperado, removemos todos os itens do dicionário d_paises. Entretanto, o dicionário d_paises continua a existir!"
      ]
    },
    {
      "cell_type": "markdown",
      "metadata": {
        "id": "MKtPwGVsIaLQ"
      },
      "source": [
        "___\n",
        "# **DELETAR O DICIONÁRIO**\n",
        "* del d_dicionario"
      ]
    },
    {
      "cell_type": "code",
      "metadata": {
        "id": "8wvM-o7Lj7A0"
      },
      "source": [
        "del d_paises"
      ],
      "execution_count": null,
      "outputs": []
    },
    {
      "cell_type": "code",
      "metadata": {
        "id": "wK83ZURYkD_T",
        "outputId": "03254461-9939-4ef9-de30-c4b59c920674",
        "colab": {
          "base_uri": "https://localhost:8080/",
          "height": 166
        }
      },
      "source": [
        "d_paises"
      ],
      "execution_count": null,
      "outputs": [
        {
          "output_type": "error",
          "ename": "NameError",
          "evalue": "ignored",
          "traceback": [
            "\u001b[0;31m---------------------------------------------------------------------------\u001b[0m",
            "\u001b[0;31mNameError\u001b[0m                                 Traceback (most recent call last)",
            "\u001b[0;32m<ipython-input-16-4fcdb0935a3d>\u001b[0m in \u001b[0;36m<module>\u001b[0;34m()\u001b[0m\n\u001b[0;32m----> 1\u001b[0;31m \u001b[0mdCountries\u001b[0m\u001b[0;34m\u001b[0m\u001b[0;34m\u001b[0m\u001b[0m\n\u001b[0m",
            "\u001b[0;31mNameError\u001b[0m: name 'dCountries' is not defined"
          ]
        }
      ]
    },
    {
      "cell_type": "markdown",
      "metadata": {
        "id": "aSe3veUB1lo_"
      },
      "source": [
        "Como esperado, pois agora o dicionário já não existe mais. Ok?"
      ]
    },
    {
      "cell_type": "markdown",
      "metadata": {
        "id": "STtkGUvEg7d1"
      },
      "source": [
        "___\n",
        "# **ITERAR PELO DICIONÁRIO**\n",
        "* Considere o dicionário d_frutas a seguir:"
      ]
    },
    {
      "cell_type": "code",
      "metadata": {
        "id": "IG8hKSvcfalZ"
      },
      "source": [
        "# Definindo os valores iniciais do dicionário d_frutas:\n",
        "d_frutas = {'Avocado': 0.35, \n",
        "         'Apple': 0.40, \n",
        "         'Apricot': 0.25, \n",
        "         'Banana': 0.30, \n",
        "         'Blackcurrant': 0.70, \n",
        "         'Blackberry': 0.55, \n",
        "         'Blueberry': 0.45, \n",
        "         'Cherry': 0.50, \n",
        "         'Coconut': 0.75, \n",
        "         'Fig': 0.60, \n",
        "         'Grape': 0.65, \n",
        "         'Kiwi': 0.20, \n",
        "         'Lemon': 0.15, \n",
        "         'Mango': 0.80, \n",
        "         'Nectarine': 0.75, \n",
        "         'Orange': 0.25, \n",
        "         'Papaya': 0.30,\n",
        "         'Passion Fruit': 0.45,\n",
        "         'Peach': 0.55,\n",
        "         'Pineapple': 0.55,\n",
        "         'Plum': 0.60,\n",
        "         'Raspberry': 0.40,\n",
        "         'Strawberry': 0.50,\n",
        "         'Watermelon': 0.45}"
      ],
      "execution_count": null,
      "outputs": []
    },
    {
      "cell_type": "markdown",
      "metadata": {
        "id": "ppRkK_jJJG6W"
      },
      "source": [
        "Mostrando os itens do dicionário d_frutas:"
      ]
    },
    {
      "cell_type": "code",
      "metadata": {
        "id": "bI7Ctf0ohyz8",
        "outputId": "3fedf44b-015e-474f-b5d3-1f2aa09d1957",
        "colab": {
          "base_uri": "https://localhost:8080/",
          "height": 425
        }
      },
      "source": [
        "d_frutas"
      ],
      "execution_count": null,
      "outputs": [
        {
          "output_type": "execute_result",
          "data": {
            "text/plain": [
              "{'Apple': 0.4,\n",
              " 'Apricot': 0.25,\n",
              " 'Avocado': 0.35,\n",
              " 'Banana': 0.3,\n",
              " 'Blackberry': 0.55,\n",
              " 'Blackcurrant': 0.7,\n",
              " 'Blueberry': 0.45,\n",
              " 'Cherry': 0.5,\n",
              " 'Coconut': 0.75,\n",
              " 'Fig': 0.6,\n",
              " 'Grape': 0.65,\n",
              " 'Kiwi': 0.2,\n",
              " 'Lemon': 0.15,\n",
              " 'Mango': 0.8,\n",
              " 'Nectarine': 0.75,\n",
              " 'Orange': 0.25,\n",
              " 'Papaya': 0.3,\n",
              " 'Passion Fruit': 0.45,\n",
              " 'Peach': 0.55,\n",
              " 'Pineapple': 0.55,\n",
              " 'Plum': 0.6,\n",
              " 'Raspberry': 0.4,\n",
              " 'Strawberry': 0.5,\n",
              " 'Watermelon': 0.45}"
            ]
          },
          "metadata": {
            "tags": []
          },
          "execution_count": 5
        }
      ]
    },
    {
      "cell_type": "markdown",
      "metadata": {
        "id": "wXFfyiyPtD35"
      },
      "source": [
        "Qual o valor para a fruta 'Apple'? Para responder à esta pergunta, basta lembrar que 'Apple' é uma key do dicionário d_frutas. Certo?"
      ]
    },
    {
      "cell_type": "code",
      "metadata": {
        "id": "JpreyE_LtCcU",
        "outputId": "7ff1b31c-9a76-4de8-d38f-a36e77bd30f6",
        "colab": {
          "base_uri": "https://localhost:8080/",
          "height": 34
        }
      },
      "source": [
        "d_frutas['Apple']"
      ],
      "execution_count": null,
      "outputs": [
        {
          "output_type": "execute_result",
          "data": {
            "text/plain": [
              "0.4"
            ]
          },
          "metadata": {
            "tags": []
          },
          "execution_count": 6
        }
      ]
    },
    {
      "cell_type": "code",
      "metadata": {
        "id": "RMWau2TOclHr",
        "outputId": "741f0735-17a1-4f4f-ec4c-4df8bc82c987",
        "colab": {
          "base_uri": "https://localhost:8080/",
          "height": 166
        }
      },
      "source": [
        "d_frutas['blablabla'] # Isso significa que 'blablabla' não faz parte do dicionário!"
      ],
      "execution_count": null,
      "outputs": [
        {
          "output_type": "error",
          "ename": "KeyError",
          "evalue": "ignored",
          "traceback": [
            "\u001b[0;31m---------------------------------------------------------------------------\u001b[0m",
            "\u001b[0;31mKeyError\u001b[0m                                  Traceback (most recent call last)",
            "\u001b[0;32m<ipython-input-21-5a80a61687f8>\u001b[0m in \u001b[0;36m<module>\u001b[0;34m()\u001b[0m\n\u001b[0;32m----> 1\u001b[0;31m \u001b[0md_frutas\u001b[0m\u001b[0;34m[\u001b[0m\u001b[0;34m'blablabla'\u001b[0m\u001b[0;34m]\u001b[0m \u001b[0;31m# Isso significa que 'blablabla' não faz parte do dicionário!\u001b[0m\u001b[0;34m\u001b[0m\u001b[0;34m\u001b[0m\u001b[0m\n\u001b[0m",
            "\u001b[0;31mKeyError\u001b[0m: 'blablabla'"
          ]
        }
      ]
    },
    {
      "cell_type": "markdown",
      "metadata": {
        "id": "JBMf8SbAJmiq"
      },
      "source": [
        "## Iterar pelas keys do dicionário:"
      ]
    },
    {
      "cell_type": "code",
      "metadata": {
        "id": "i-6-pNQCcyXY",
        "outputId": "fc039905-cff5-4b3a-cc54-139f3a2204c6",
        "colab": {
          "base_uri": "https://localhost:8080/",
          "height": 425
        }
      },
      "source": [
        "for chave in d_frutas.keys():\n",
        "    print(chave)"
      ],
      "execution_count": null,
      "outputs": [
        {
          "output_type": "stream",
          "text": [
            "Avocado\n",
            "Apple\n",
            "Apricot\n",
            "Banana\n",
            "Blackcurrant\n",
            "Blackberry\n",
            "Blueberry\n",
            "Cherry\n",
            "Coconut\n",
            "Fig\n",
            "Grape\n",
            "Kiwi\n",
            "Lemon\n",
            "Mango\n",
            "Nectarine\n",
            "Orange\n",
            "Papaya\n",
            "Passion Fruit\n",
            "Peach\n",
            "Pineapple\n",
            "Plum\n",
            "Raspberry\n",
            "Strawberry\n",
            "Watermelon\n"
          ],
          "name": "stdout"
        }
      ]
    },
    {
      "cell_type": "markdown",
      "metadata": {
        "id": "9u4xJ0FfdCxm"
      },
      "source": [
        "## Iterar pelos valores do dicionário:"
      ]
    },
    {
      "cell_type": "code",
      "metadata": {
        "id": "vrFPwQPDdFP3",
        "outputId": "0db51495-3826-4c2e-9f06-4cbbc1ec7376",
        "colab": {
          "base_uri": "https://localhost:8080/",
          "height": 425
        }
      },
      "source": [
        "for i_valor in d_frutas.values():\n",
        "    print(i_valor)"
      ],
      "execution_count": null,
      "outputs": [
        {
          "output_type": "stream",
          "text": [
            "0.35\n",
            "0.4\n",
            "0.25\n",
            "0.3\n",
            "0.7\n",
            "0.55\n",
            "0.45\n",
            "0.5\n",
            "0.75\n",
            "0.6\n",
            "0.65\n",
            "0.2\n",
            "0.15\n",
            "0.8\n",
            "0.75\n",
            "0.25\n",
            "0.3\n",
            "0.45\n",
            "0.55\n",
            "0.55\n",
            "0.6\n",
            "0.4\n",
            "0.5\n",
            "0.45\n"
          ],
          "name": "stdout"
        }
      ]
    },
    {
      "cell_type": "markdown",
      "metadata": {
        "id": "yDkOLvRFJxco"
      },
      "source": [
        "## Iterar pelos itens (chave, valor) do dicionário"
      ]
    },
    {
      "cell_type": "code",
      "metadata": {
        "id": "H8BCC6qodU6o",
        "outputId": "7cf6c927-b433-47d4-af28-b93c51b960cf",
        "colab": {
          "base_uri": "https://localhost:8080/",
          "height": 54
        }
      },
      "source": [
        "d_frutas.items()"
      ],
      "execution_count": null,
      "outputs": [
        {
          "output_type": "execute_result",
          "data": {
            "text/plain": [
              "dict_items([('Avocado', 0.35), ('Apple', 0.4), ('Apricot', 0.25), ('Banana', 0.3), ('Blackcurrant', 0.7), ('Blackberry', 0.55), ('Blueberry', 0.45), ('Cherry', 0.5), ('Coconut', 0.75), ('Fig', 0.6), ('Grape', 0.65), ('Kiwi', 0.2), ('Lemon', 0.15), ('Mango', 0.8), ('Nectarine', 0.75), ('Orange', 0.25), ('Papaya', 0.3), ('Passion Fruit', 0.45), ('Peach', 0.55), ('Pineapple', 0.55), ('Plum', 0.6), ('Raspberry', 0.4), ('Strawberry', 0.5), ('Watermelon', 0.45)])"
            ]
          },
          "metadata": {
            "tags": []
          },
          "execution_count": 9
        }
      ]
    },
    {
      "cell_type": "code",
      "metadata": {
        "id": "DpFB1g-3kDSt",
        "outputId": "3a9f1b1a-d96b-47b8-b36d-9e306d4c4271",
        "colab": {
          "base_uri": "https://localhost:8080/",
          "height": 425
        }
      },
      "source": [
        "for item in d_frutas.items():\n",
        "    print(item)    "
      ],
      "execution_count": null,
      "outputs": [
        {
          "output_type": "stream",
          "text": [
            "('Avocado', 0.35)\n",
            "('Apple', 0.4)\n",
            "('Apricot', 0.25)\n",
            "('Banana', 0.3)\n",
            "('Blackcurrant', 0.7)\n",
            "('Blackberry', 0.55)\n",
            "('Blueberry', 0.45)\n",
            "('Cherry', 0.5)\n",
            "('Coconut', 0.75)\n",
            "('Fig', 0.6)\n",
            "('Grape', 0.65)\n",
            "('Kiwi', 0.2)\n",
            "('Lemon', 0.15)\n",
            "('Mango', 0.8)\n",
            "('Nectarine', 0.75)\n",
            "('Orange', 0.25)\n",
            "('Papaya', 0.3)\n",
            "('Passion Fruit', 0.45)\n",
            "('Peach', 0.55)\n",
            "('Pineapple', 0.55)\n",
            "('Plum', 0.6)\n",
            "('Raspberry', 0.4)\n",
            "('Strawberry', 0.5)\n",
            "('Watermelon', 0.45)\n"
          ],
          "name": "stdout"
        }
      ]
    },
    {
      "cell_type": "markdown",
      "metadata": {
        "id": "-LmEUroVKDUA"
      },
      "source": [
        "## Iterar pela key e valor do dicionário"
      ]
    },
    {
      "cell_type": "code",
      "metadata": {
        "id": "oRhZ_Zq9oQIg",
        "outputId": "02b624d2-eebd-4666-f2b3-972f1defe060",
        "colab": {
          "base_uri": "https://localhost:8080/",
          "height": 425
        }
      },
      "source": [
        "for key, value in d_frutas.items():\n",
        "    print(\"%s --> %s\" %(key, value))"
      ],
      "execution_count": null,
      "outputs": [
        {
          "output_type": "stream",
          "text": [
            "Avocado --> 0.35\n",
            "Apple --> 0.4\n",
            "Apricot --> 0.25\n",
            "Banana --> 0.3\n",
            "Blackcurrant --> 0.7\n",
            "Blackberry --> 0.55\n",
            "Blueberry --> 0.45\n",
            "Cherry --> 0.5\n",
            "Coconut --> 0.75\n",
            "Fig --> 0.6\n",
            "Grape --> 0.65\n",
            "Kiwi --> 0.2\n",
            "Lemon --> 0.15\n",
            "Mango --> 0.8\n",
            "Nectarine --> 0.75\n",
            "Orange --> 0.25\n",
            "Papaya --> 0.3\n",
            "Passion Fruit --> 0.45\n",
            "Peach --> 0.55\n",
            "Pineapple --> 0.55\n",
            "Plum --> 0.6\n",
            "Raspberry --> 0.4\n",
            "Strawberry --> 0.5\n",
            "Watermelon --> 0.45\n"
          ],
          "name": "stdout"
        }
      ]
    },
    {
      "cell_type": "markdown",
      "metadata": {
        "id": "Fotx7XUquAo8"
      },
      "source": [
        "___\n",
        "# **VERIFICAR SE UMA KEY ESPECÍFICA PERTENCE AO DICIONÁRIO**"
      ]
    },
    {
      "cell_type": "markdown",
      "metadata": {
        "id": "ju__WsSoKXtk"
      },
      "source": [
        "A fruta 'Apple' (que em nosso caso, é uma key) existe no dicionário?"
      ]
    },
    {
      "cell_type": "code",
      "metadata": {
        "id": "-gkEKNZPTeMp",
        "outputId": "30f46535-0f53-450b-b598-a8eab0f04121",
        "colab": {
          "base_uri": "https://localhost:8080/",
          "height": 34
        }
      },
      "source": [
        "'Apple' in d_frutas.keys()"
      ],
      "execution_count": null,
      "outputs": [
        {
          "output_type": "execute_result",
          "data": {
            "text/plain": [
              "True"
            ]
          },
          "metadata": {
            "tags": []
          },
          "execution_count": 12
        }
      ]
    },
    {
      "cell_type": "markdown",
      "metadata": {
        "id": "fMzBeFMIusv7"
      },
      "source": [
        "A fruta 'Coconut' pertence ao dicionário d_frutas?"
      ]
    },
    {
      "cell_type": "code",
      "metadata": {
        "id": "SKtEwmBCuxyi",
        "outputId": "cf52b903-90e0-432f-8b7e-bc878d5c5f5f",
        "colab": {
          "base_uri": "https://localhost:8080/"
        }
      },
      "source": [
        "'Coconut' in d_frutas.keys()"
      ],
      "execution_count": null,
      "outputs": [
        {
          "output_type": "execute_result",
          "data": {
            "text/plain": [
              "True"
            ]
          },
          "metadata": {
            "tags": []
          },
          "execution_count": 29
        }
      ]
    },
    {
      "cell_type": "markdown",
      "metadata": {
        "id": "rrH8ArqsK6Bd"
      },
      "source": [
        "___\n",
        "# **VERIFICAR SE VALOR PERTENCE AO DICIONÁRIO**"
      ]
    },
    {
      "cell_type": "code",
      "metadata": {
        "id": "DbWpbuLTK9sn",
        "outputId": "a97cf9c4-369a-453f-955d-0078dd83dbf0",
        "colab": {
          "base_uri": "https://localhost:8080/",
          "height": 34
        }
      },
      "source": [
        "0.4 in d_frutas.values()"
      ],
      "execution_count": null,
      "outputs": [
        {
          "output_type": "execute_result",
          "data": {
            "text/plain": [
              "True"
            ]
          },
          "metadata": {
            "tags": []
          },
          "execution_count": 13
        }
      ]
    },
    {
      "cell_type": "markdown",
      "metadata": {
        "id": "36kmLUYDvsUI"
      },
      "source": [
        "## Adicionar novos itens ao dicionário\n",
        "* Considere o dicionário d_frutas2 abaixo:"
      ]
    },
    {
      "cell_type": "code",
      "metadata": {
        "id": "5Rwq4-UG4--u",
        "outputId": "e5da55a7-9d26-4a48-e148-8d5b187d8db0",
        "colab": {
          "base_uri": "https://localhost:8080/",
          "height": 34
        }
      },
      "source": [
        "d_frutas2 = {'Grapefruit': 1.0}\n",
        "d_frutas2"
      ],
      "execution_count": null,
      "outputs": [
        {
          "output_type": "execute_result",
          "data": {
            "text/plain": [
              "{'Grapefruit': 1.0}"
            ]
          },
          "metadata": {
            "tags": []
          },
          "execution_count": 14
        }
      ]
    },
    {
      "cell_type": "markdown",
      "metadata": {
        "id": "vljceM6_5H9o"
      },
      "source": [
        "O comando abaixo adiciona o dicionário d_frutas2 ao dicionário d_frutas."
      ]
    },
    {
      "cell_type": "code",
      "metadata": {
        "id": "7BD_mYMM5O5o",
        "outputId": "b1d770f5-19fa-4f10-9d4e-d98e14811e88",
        "colab": {
          "base_uri": "https://localhost:8080/",
          "height": 442
        }
      },
      "source": [
        "d_frutas.update(d_frutas2)\n",
        "d_frutas"
      ],
      "execution_count": null,
      "outputs": [
        {
          "output_type": "execute_result",
          "data": {
            "text/plain": [
              "{'Apple': 0.4,\n",
              " 'Apricot': 0.25,\n",
              " 'Avocado': 0.35,\n",
              " 'Banana': 0.3,\n",
              " 'Blackberry': 0.55,\n",
              " 'Blackcurrant': 0.7,\n",
              " 'Blueberry': 0.45,\n",
              " 'Cherry': 0.5,\n",
              " 'Coconut': 0.75,\n",
              " 'Fig': 0.6,\n",
              " 'Grape': 0.65,\n",
              " 'Grapefruit': 1.0,\n",
              " 'Kiwi': 0.2,\n",
              " 'Lemon': 0.15,\n",
              " 'Mango': 0.8,\n",
              " 'Nectarine': 0.75,\n",
              " 'Orange': 0.25,\n",
              " 'Papaya': 0.3,\n",
              " 'Passion Fruit': 0.45,\n",
              " 'Peach': 0.55,\n",
              " 'Pineapple': 0.55,\n",
              " 'Plum': 0.6,\n",
              " 'Raspberry': 0.4,\n",
              " 'Strawberry': 0.5,\n",
              " 'Watermelon': 0.45}"
            ]
          },
          "metadata": {
            "tags": []
          },
          "execution_count": 15
        }
      ]
    },
    {
      "cell_type": "markdown",
      "metadata": {
        "id": "ffh-94lo55n4"
      },
      "source": [
        "Agora, considere o dicionário d_frutas3 abaixo:"
      ]
    },
    {
      "cell_type": "code",
      "metadata": {
        "id": "JMAq_jbP5---"
      },
      "source": [
        "d_frutas3 = {'Apple': 0.70}"
      ],
      "execution_count": null,
      "outputs": []
    },
    {
      "cell_type": "markdown",
      "metadata": {
        "id": "Jd6B2cy-6KmY"
      },
      "source": [
        "Qual o resultado do comando abaixo?\n",
        "\n",
        "* Atenção: A fruta 'Apple' (é uma key do dicionário d_frutas) tem valor 0.40. E no dicionário d_frutas3 a fruta 'Apple' tem valor 0.70."
      ]
    },
    {
      "cell_type": "code",
      "metadata": {
        "id": "E4GKdTw76PXI",
        "outputId": "c9f4ccec-90b3-4e91-bf19-976493cc3933",
        "colab": {
          "base_uri": "https://localhost:8080/",
          "height": 442
        }
      },
      "source": [
        "d_frutas.update(d_frutas3)\n",
        "d_frutas"
      ],
      "execution_count": null,
      "outputs": [
        {
          "output_type": "execute_result",
          "data": {
            "text/plain": [
              "{'Apple': 0.7,\n",
              " 'Apricot': 0.25,\n",
              " 'Avocado': 0.35,\n",
              " 'Banana': 0.3,\n",
              " 'Blackberry': 0.55,\n",
              " 'Blackcurrant': 0.7,\n",
              " 'Blueberry': 0.45,\n",
              " 'Cherry': 0.5,\n",
              " 'Coconut': 0.75,\n",
              " 'Fig': 0.6,\n",
              " 'Grape': 0.65,\n",
              " 'Grapefruit': 1.0,\n",
              " 'Kiwi': 0.2,\n",
              " 'Lemon': 0.15,\n",
              " 'Mango': 0.8,\n",
              " 'Nectarine': 0.75,\n",
              " 'Orange': 0.25,\n",
              " 'Papaya': 0.3,\n",
              " 'Passion Fruit': 0.45,\n",
              " 'Peach': 0.55,\n",
              " 'Pineapple': 0.55,\n",
              " 'Plum': 0.6,\n",
              " 'Raspberry': 0.4,\n",
              " 'Strawberry': 0.5,\n",
              " 'Watermelon': 0.45}"
            ]
          },
          "metadata": {
            "tags": []
          },
          "execution_count": 17
        }
      ]
    },
    {
      "cell_type": "markdown",
      "metadata": {
        "id": "HMmDfrln6o0c"
      },
      "source": [
        "Como esperado, como key= 'Apple' existe no dicionário d_frutas, então o Python atualizou o valor de key= 'Apple' para 0.70."
      ]
    },
    {
      "cell_type": "markdown",
      "metadata": {
        "id": "SWO2GdNovxAp"
      },
      "source": [
        "## Modificar keys e valores"
      ]
    },
    {
      "cell_type": "markdown",
      "metadata": {
        "id": "DX9UTy4TwlAw"
      },
      "source": [
        "Suponha que queremos aplicar um desconto de 10% para cada fruta do nosso dicionário.\n",
        "\n",
        "* Como fazemos isso?"
      ]
    },
    {
      "cell_type": "code",
      "metadata": {
        "id": "RV-YOkrffa3h",
        "outputId": "6a7a1330-7ecd-4924-bf73-f3e0bc16baae",
        "colab": {
          "base_uri": "https://localhost:8080/"
        }
      },
      "source": [
        "d_frutas.keys()"
      ],
      "execution_count": null,
      "outputs": [
        {
          "output_type": "execute_result",
          "data": {
            "text/plain": [
              "dict_keys(['Avocado', 'Apple', 'Apricot', 'Banana', 'Blackcurrant', 'Blackberry', 'Blueberry', 'Cherry', 'Coconut', 'Fig', 'Grape', 'Kiwi', 'Lemon', 'Mango', 'Nectarine', 'Orange', 'Papaya', 'Passion Fruit', 'Peach', 'Pineapple', 'Plum', 'Raspberry', 'Strawberry', 'Watermelon', 'Grapefruit'])"
            ]
          },
          "metadata": {
            "tags": []
          },
          "execution_count": 34
        }
      ]
    },
    {
      "cell_type": "code",
      "metadata": {
        "id": "tV8k5w2Bf1Oq",
        "outputId": "4ee0496f-ab86-4c6d-fc9f-b04863017bb0",
        "colab": {
          "base_uri": "https://localhost:8080/"
        }
      },
      "source": [
        "d_frutas.items()"
      ],
      "execution_count": null,
      "outputs": [
        {
          "output_type": "execute_result",
          "data": {
            "text/plain": [
              "dict_items([('Avocado', 0.35), ('Apple', 0.4), ('Apricot', 0.25), ('Banana', 0.3), ('Blackcurrant', 0.7), ('Blackberry', 0.55), ('Blueberry', 0.45), ('Cherry', 0.5), ('Coconut', 0.75), ('Fig', 0.6), ('Grape', 0.65), ('Kiwi', 0.2), ('Lemon', 0.15), ('Mango', 0.8), ('Nectarine', 0.75), ('Orange', 0.25), ('Papaya', 0.3), ('Passion Fruit', 0.45), ('Peach', 0.55), ('Pineapple', 0.55), ('Plum', 0.6), ('Raspberry', 0.4), ('Strawberry', 0.5), ('Watermelon', 0.45), ('Grapefruit', 1.0)])"
            ]
          },
          "metadata": {
            "tags": []
          },
          "execution_count": 37
        }
      ]
    },
    {
      "cell_type": "code",
      "metadata": {
        "id": "ZziGmKGmwqwn",
        "outputId": "178faaca-bf7d-4542-a5ef-662b96a70362",
        "colab": {
          "base_uri": "https://localhost:8080/",
          "height": 442
        }
      },
      "source": [
        "for key, value in d_frutas.items():\n",
        "    d_frutas[key] = round((value * 0.9), 2) # Isso representa um desconto de 10% no valor das frutas\n",
        "\n",
        "d_frutas"
      ],
      "execution_count": null,
      "outputs": [
        {
          "output_type": "execute_result",
          "data": {
            "text/plain": [
              "{'Apple': 0.63,\n",
              " 'Apricot': 0.23,\n",
              " 'Avocado': 0.32,\n",
              " 'Banana': 0.27,\n",
              " 'Blackberry': 0.5,\n",
              " 'Blackcurrant': 0.63,\n",
              " 'Blueberry': 0.41,\n",
              " 'Cherry': 0.45,\n",
              " 'Coconut': 0.68,\n",
              " 'Fig': 0.54,\n",
              " 'Grape': 0.59,\n",
              " 'Grapefruit': 0.9,\n",
              " 'Kiwi': 0.18,\n",
              " 'Lemon': 0.14,\n",
              " 'Mango': 0.72,\n",
              " 'Nectarine': 0.68,\n",
              " 'Orange': 0.23,\n",
              " 'Papaya': 0.27,\n",
              " 'Passion Fruit': 0.41,\n",
              " 'Peach': 0.5,\n",
              " 'Pineapple': 0.5,\n",
              " 'Plum': 0.54,\n",
              " 'Raspberry': 0.36,\n",
              " 'Strawberry': 0.45,\n",
              " 'Watermelon': 0.41}"
            ]
          },
          "metadata": {
            "tags": []
          },
          "execution_count": 18
        }
      ]
    },
    {
      "cell_type": "markdown",
      "metadata": {
        "id": "s1B-yN8lM-C1"
      },
      "source": [
        "Mostra d_frutas com os valores atualizados:"
      ]
    },
    {
      "cell_type": "code",
      "metadata": {
        "id": "zZLa85knxBtY",
        "outputId": "2c7c12f8-8885-4f34-a0d1-1323e98a9437",
        "colab": {
          "base_uri": "https://localhost:8080/",
          "height": 442
        }
      },
      "source": [
        "d_frutas"
      ],
      "execution_count": null,
      "outputs": [
        {
          "output_type": "execute_result",
          "data": {
            "text/plain": [
              "{'Apple': 0.63,\n",
              " 'Apricot': 0.23,\n",
              " 'Avocado': 0.32,\n",
              " 'Banana': 0.27,\n",
              " 'Blackberry': 0.5,\n",
              " 'Blackcurrant': 0.63,\n",
              " 'Blueberry': 0.41,\n",
              " 'Cherry': 0.45,\n",
              " 'Coconut': 0.68,\n",
              " 'Fig': 0.54,\n",
              " 'Grape': 0.59,\n",
              " 'Grapefruit': 0.9,\n",
              " 'Kiwi': 0.18,\n",
              " 'Lemon': 0.14,\n",
              " 'Mango': 0.72,\n",
              " 'Nectarine': 0.68,\n",
              " 'Orange': 0.23,\n",
              " 'Papaya': 0.27,\n",
              " 'Passion Fruit': 0.41,\n",
              " 'Peach': 0.5,\n",
              " 'Pineapple': 0.5,\n",
              " 'Plum': 0.54,\n",
              " 'Raspberry': 0.36,\n",
              " 'Strawberry': 0.45,\n",
              " 'Watermelon': 0.41}"
            ]
          },
          "metadata": {
            "tags": []
          },
          "execution_count": 84
        }
      ]
    },
    {
      "cell_type": "markdown",
      "metadata": {
        "id": "vpN54l4vxze5"
      },
      "source": [
        "## Deletar keys do dicionário\n",
        "* Deletar uma key significa deletar todo o item {key: value}, ok?"
      ]
    },
    {
      "cell_type": "markdown",
      "metadata": {
        "id": "eDlthLStNIwR"
      },
      "source": [
        "Suponha que queremos deletar a fruta 'Avocado' do dicionário d_frutas.\n",
        "\n",
        "* Como fazer isso?"
      ]
    },
    {
      "cell_type": "code",
      "metadata": {
        "id": "fnpzHZU_x5Y1"
      },
      "source": [
        "for key in list(d_frutas.keys()):  # Dica: use a função list para melhorar a performance computacional\n",
        "    if key == 'Avocado':\n",
        "        del d_frutas[key]  # Deleta key = 'Avocado'"
      ],
      "execution_count": null,
      "outputs": []
    },
    {
      "cell_type": "markdown",
      "metadata": {
        "id": "VyPUrobONqvI"
      },
      "source": [
        "Mostra o dicionário d_frutas atualizado:"
      ]
    },
    {
      "cell_type": "code",
      "metadata": {
        "id": "IwnsHejhyT4l",
        "outputId": "5062a125-6a3d-48e3-f272-22d89ebbd09e",
        "colab": {
          "base_uri": "https://localhost:8080/",
          "height": 425
        }
      },
      "source": [
        "d_frutas"
      ],
      "execution_count": null,
      "outputs": [
        {
          "output_type": "execute_result",
          "data": {
            "text/plain": [
              "{'Apple': 0.63,\n",
              " 'Apricot': 0.23,\n",
              " 'Banana': 0.27,\n",
              " 'Blackberry': 0.5,\n",
              " 'Blackcurrant': 0.63,\n",
              " 'Blueberry': 0.41,\n",
              " 'Cherry': 0.45,\n",
              " 'Coconut': 0.68,\n",
              " 'Fig': 0.54,\n",
              " 'Grape': 0.59,\n",
              " 'Grapefruit': 0.9,\n",
              " 'Kiwi': 0.18,\n",
              " 'Lemon': 0.14,\n",
              " 'Mango': 0.72,\n",
              " 'Nectarine': 0.68,\n",
              " 'Orange': 0.23,\n",
              " 'Papaya': 0.27,\n",
              " 'Passion Fruit': 0.41,\n",
              " 'Peach': 0.5,\n",
              " 'Pineapple': 0.5,\n",
              " 'Plum': 0.54,\n",
              " 'Raspberry': 0.36,\n",
              " 'Strawberry': 0.45,\n",
              " 'Watermelon': 0.41}"
            ]
          },
          "metadata": {
            "tags": []
          },
          "execution_count": 20
        }
      ]
    },
    {
      "cell_type": "markdown",
      "metadata": {
        "id": "u4HOf9SNytSq"
      },
      "source": [
        "## Filtrar/Selecionar itens baseado em condições\n",
        "Em algumas situações você vai querer filtrar os itens do dicionário que satisfaçam alguma(s) condições.\n",
        "\n",
        "* Considere o exemplo a seguir: queremos selecionar/filtrar somente as frutas com preços maiores que 0.5."
      ]
    },
    {
      "cell_type": "code",
      "metadata": {
        "id": "EwqxWiVlyvgH"
      },
      "source": [
        "d_frutas_filtro = {}\n",
        "\n",
        "for key, value in d_frutas.items():\n",
        "    if value > 0.5:\n",
        "        d_frutas_filtro.update({key: value})"
      ],
      "execution_count": null,
      "outputs": []
    },
    {
      "cell_type": "markdown",
      "metadata": {
        "id": "eb0jmAKWOtYt"
      },
      "source": [
        "Mostrar o conteúdo do dicionário d_frutas_filtro:"
      ]
    },
    {
      "cell_type": "code",
      "metadata": {
        "id": "SsStWM5k1s-Q",
        "outputId": "3d0e9a69-0949-49fd-eb1a-b04859607534",
        "colab": {
          "base_uri": "https://localhost:8080/",
          "height": 170
        }
      },
      "source": [
        "d_frutas_filtro"
      ],
      "execution_count": null,
      "outputs": [
        {
          "output_type": "execute_result",
          "data": {
            "text/plain": [
              "{'Apple': 0.63,\n",
              " 'Blackcurrant': 0.63,\n",
              " 'Coconut': 0.68,\n",
              " 'Fig': 0.54,\n",
              " 'Grape': 0.59,\n",
              " 'Grapefruit': 0.9,\n",
              " 'Mango': 0.72,\n",
              " 'Nectarine': 0.68,\n",
              " 'Plum': 0.54}"
            ]
          },
          "metadata": {
            "tags": []
          },
          "execution_count": 22
        }
      ]
    },
    {
      "cell_type": "markdown",
      "metadata": {
        "id": "u1ve6xIGOjrE"
      },
      "source": [
        " Como se pode ver, temos várias frutas com preços acima de 0.5 (satisfaz a condição)."
      ]
    },
    {
      "cell_type": "markdown",
      "metadata": {
        "id": "KJqpPrfkCk9L"
      },
      "source": [
        "## Cálculos com os itens do dicionário"
      ]
    },
    {
      "cell_type": "code",
      "metadata": {
        "id": "exD8HXodCqg6"
      },
      "source": [
        "from collections import Counter"
      ],
      "execution_count": null,
      "outputs": []
    },
    {
      "cell_type": "markdown",
      "metadata": {
        "id": "llCLTysdCuwB"
      },
      "source": [
        "Somando os valores de todas as frutas"
      ]
    },
    {
      "cell_type": "code",
      "metadata": {
        "id": "uG0VP1MNCroX",
        "outputId": "034db243-6cd7-4782-ea00-69706bd3cabc",
        "colab": {
          "base_uri": "https://localhost:8080/",
          "height": 34
        }
      },
      "source": [
        "sum(d_frutas.values())"
      ],
      "execution_count": null,
      "outputs": [
        {
          "output_type": "execute_result",
          "data": {
            "text/plain": [
              "11.219999999999997"
            ]
          },
          "metadata": {
            "tags": []
          },
          "execution_count": 24
        }
      ]
    },
    {
      "cell_type": "markdown",
      "metadata": {
        "id": "a5MBNCF-C5-4"
      },
      "source": [
        "Quantos itens existem no dicionário:"
      ]
    },
    {
      "cell_type": "code",
      "metadata": {
        "id": "AkvygR0PC9bT",
        "outputId": "9c2e7a2d-e487-489a-9344-1632414c1f0b",
        "colab": {
          "base_uri": "https://localhost:8080/",
          "height": 34
        }
      },
      "source": [
        "len(list(d_frutas))"
      ],
      "execution_count": null,
      "outputs": [
        {
          "output_type": "execute_result",
          "data": {
            "text/plain": [
              "24"
            ]
          },
          "metadata": {
            "tags": []
          },
          "execution_count": 25
        }
      ]
    },
    {
      "cell_type": "markdown",
      "metadata": {
        "id": "xBNFaklq8OC9"
      },
      "source": [
        "## Sortear itens do dicionário - sorted(d_dicionario.items(), reverse= True/False)"
      ]
    },
    {
      "cell_type": "markdown",
      "metadata": {
        "id": "WULJMjHA-mal"
      },
      "source": [
        "Ordem alfabética (por key):"
      ]
    },
    {
      "cell_type": "code",
      "metadata": {
        "id": "SH0WIKZ8-Ylr",
        "outputId": "cd096812-50e3-4c0d-875c-fd387e0d6be1",
        "colab": {
          "base_uri": "https://localhost:8080/",
          "height": 425
        }
      },
      "source": [
        "d_frutas_ordenadas = sorted(d_frutas.items(), reverse = False)\n",
        "d_frutas_ordenadas"
      ],
      "execution_count": null,
      "outputs": [
        {
          "output_type": "execute_result",
          "data": {
            "text/plain": [
              "[('Apple', 0.63),\n",
              " ('Apricot', 0.23),\n",
              " ('Banana', 0.27),\n",
              " ('Blackberry', 0.5),\n",
              " ('Blackcurrant', 0.63),\n",
              " ('Blueberry', 0.41),\n",
              " ('Cherry', 0.45),\n",
              " ('Coconut', 0.68),\n",
              " ('Fig', 0.54),\n",
              " ('Grape', 0.59),\n",
              " ('Grapefruit', 0.9),\n",
              " ('Kiwi', 0.18),\n",
              " ('Lemon', 0.14),\n",
              " ('Mango', 0.72),\n",
              " ('Nectarine', 0.68),\n",
              " ('Orange', 0.23),\n",
              " ('Papaya', 0.27),\n",
              " ('Passion Fruit', 0.41),\n",
              " ('Peach', 0.5),\n",
              " ('Pineapple', 0.5),\n",
              " ('Plum', 0.54),\n",
              " ('Raspberry', 0.36),\n",
              " ('Strawberry', 0.45),\n",
              " ('Watermelon', 0.41)]"
            ]
          },
          "metadata": {
            "tags": []
          },
          "execution_count": 26
        }
      ]
    },
    {
      "cell_type": "markdown",
      "metadata": {
        "id": "T4Li1Q2d-pnZ"
      },
      "source": [
        "Ordem reversa (por key):"
      ]
    },
    {
      "cell_type": "code",
      "metadata": {
        "id": "PoBOmfpM_A_a",
        "outputId": "079b0969-f79d-47ba-a557-afe19a55c528",
        "colab": {
          "base_uri": "https://localhost:8080/",
          "height": 425
        }
      },
      "source": [
        "d_frutas_ordenadas_reverse = sorted(d_frutas.items(), reverse = True)\n",
        "d_frutas_ordenadas_reverse"
      ],
      "execution_count": null,
      "outputs": [
        {
          "output_type": "execute_result",
          "data": {
            "text/plain": [
              "[('Watermelon', 0.41),\n",
              " ('Strawberry', 0.45),\n",
              " ('Raspberry', 0.36),\n",
              " ('Plum', 0.54),\n",
              " ('Pineapple', 0.5),\n",
              " ('Peach', 0.5),\n",
              " ('Passion Fruit', 0.41),\n",
              " ('Papaya', 0.27),\n",
              " ('Orange', 0.23),\n",
              " ('Nectarine', 0.68),\n",
              " ('Mango', 0.72),\n",
              " ('Lemon', 0.14),\n",
              " ('Kiwi', 0.18),\n",
              " ('Grapefruit', 0.9),\n",
              " ('Grape', 0.59),\n",
              " ('Fig', 0.54),\n",
              " ('Coconut', 0.68),\n",
              " ('Cherry', 0.45),\n",
              " ('Blueberry', 0.41),\n",
              " ('Blackcurrant', 0.63),\n",
              " ('Blackberry', 0.5),\n",
              " ('Banana', 0.27),\n",
              " ('Apricot', 0.23),\n",
              " ('Apple', 0.63)]"
            ]
          },
          "metadata": {
            "tags": []
          },
          "execution_count": 27
        }
      ]
    },
    {
      "cell_type": "markdown",
      "metadata": {
        "id": "FxTC2-U88ajk"
      },
      "source": [
        "## Função filter()\n",
        "* A função filter() aplica um filtro no dicionário, retornando apenas os itens que satisfaz as condições do filtro."
      ]
    },
    {
      "cell_type": "code",
      "metadata": {
        "id": "iJq1clvOHVG2",
        "outputId": "4fcf65ea-fff4-4320-d093-79822f54ae12",
        "colab": {
          "base_uri": "https://localhost:8080/",
          "height": 425
        }
      },
      "source": [
        "d_frutas"
      ],
      "execution_count": null,
      "outputs": [
        {
          "output_type": "execute_result",
          "data": {
            "text/plain": [
              "{'Apple': 0.63,\n",
              " 'Apricot': 0.23,\n",
              " 'Banana': 0.27,\n",
              " 'Blackberry': 0.5,\n",
              " 'Blackcurrant': 0.63,\n",
              " 'Blueberry': 0.41,\n",
              " 'Cherry': 0.45,\n",
              " 'Coconut': 0.68,\n",
              " 'Fig': 0.54,\n",
              " 'Grape': 0.59,\n",
              " 'Grapefruit': 0.9,\n",
              " 'Kiwi': 0.18,\n",
              " 'Lemon': 0.14,\n",
              " 'Mango': 0.72,\n",
              " 'Nectarine': 0.68,\n",
              " 'Orange': 0.23,\n",
              " 'Papaya': 0.27,\n",
              " 'Passion Fruit': 0.41,\n",
              " 'Peach': 0.5,\n",
              " 'Pineapple': 0.5,\n",
              " 'Plum': 0.54,\n",
              " 'Raspberry': 0.36,\n",
              " 'Strawberry': 0.45,\n",
              " 'Watermelon': 0.41}"
            ]
          },
          "metadata": {
            "tags": []
          },
          "execution_count": 28
        }
      ]
    },
    {
      "cell_type": "markdown",
      "metadata": {
        "id": "qtTKvNeJNycl"
      },
      "source": [
        "### Filtrando por key:"
      ]
    },
    {
      "cell_type": "code",
      "metadata": {
        "id": "uIDW5FhwAiSs",
        "outputId": "b266365b-417a-4f9f-9fda-c033446472e8",
        "colab": {
          "base_uri": "https://localhost:8080/"
        }
      },
      "source": [
        "d_frutas2 = {chave: valor for chave, valor in filter(lambda t: t[0] == 'Apple', d_frutas.items())}\n",
        "d_frutas2"
      ],
      "execution_count": null,
      "outputs": [
        {
          "output_type": "execute_result",
          "data": {
            "text/plain": [
              "{'Apple': 0.4}"
            ]
          },
          "metadata": {
            "tags": []
          },
          "execution_count": 4
        }
      ]
    },
    {
      "cell_type": "markdown",
      "metadata": {
        "id": "JtbUrtyaTl-H"
      },
      "source": [
        "#### Versões mais Pythonic!"
      ]
    },
    {
      "cell_type": "code",
      "metadata": {
        "id": "l4etRMMEToau",
        "outputId": "bbc5e488-9d65-48ec-b9df-152b89e68c72",
        "colab": {
          "base_uri": "https://localhost:8080/",
          "height": 178
        }
      },
      "source": [
        "# Opção 1:\n",
        "d_frutas2 = dict(filter(lambda t: t[0] == 'Apple', d_frutas.items()))\n",
        "d_frutas2"
      ],
      "execution_count": null,
      "outputs": [
        {
          "output_type": "error",
          "ename": "NameError",
          "evalue": "ignored",
          "traceback": [
            "\u001b[0;31m---------------------------------------------------------------------------\u001b[0m",
            "\u001b[0;31mNameError\u001b[0m                                 Traceback (most recent call last)",
            "\u001b[0;32m<ipython-input-1-52db33fd4716>\u001b[0m in \u001b[0;36m<module>\u001b[0;34m()\u001b[0m\n\u001b[1;32m      1\u001b[0m \u001b[0;31m# Opção 1:\u001b[0m\u001b[0;34m\u001b[0m\u001b[0;34m\u001b[0m\u001b[0;34m\u001b[0m\u001b[0m\n\u001b[0;32m----> 2\u001b[0;31m \u001b[0md_frutas2\u001b[0m \u001b[0;34m=\u001b[0m \u001b[0;34m{\u001b[0m\u001b[0mchavechave\u001b[0m\u001b[0;34m:\u001b[0m \u001b[0mvalor\u001b[0m \u001b[0;32mfor\u001b[0m \u001b[0mchave\u001b[0m\u001b[0;34m,\u001b[0m \u001b[0mvalor\u001b[0m \u001b[0;32min\u001b[0m \u001b[0md_frutas\u001b[0m\u001b[0;34m.\u001b[0m\u001b[0mitems\u001b[0m\u001b[0;34m(\u001b[0m\u001b[0;34m)\u001b[0m \u001b[0;32mif\u001b[0m \u001b[0mchave\u001b[0m \u001b[0;34m==\u001b[0m \u001b[0;34m'Apple'\u001b[0m\u001b[0;34m}\u001b[0m\u001b[0;34m\u001b[0m\u001b[0;34m\u001b[0m\u001b[0m\n\u001b[0m",
            "\u001b[0;31mNameError\u001b[0m: name 'd_frutas' is not defined"
          ]
        }
      ]
    },
    {
      "cell_type": "code",
      "metadata": {
        "id": "0y0cfS61Vbgw"
      },
      "source": [
        "# Opção 2:\n",
        "d_frutas2 = {chave: valor for chave, valor in d_frutas.items() if chave == 'Apple'}"
      ],
      "execution_count": null,
      "outputs": []
    },
    {
      "cell_type": "markdown",
      "metadata": {
        "id": "3XmPlpNqBVMl"
      },
      "source": [
        "### A expressão acima é equivalente à expressão abaixo:"
      ]
    },
    {
      "cell_type": "code",
      "metadata": {
        "id": "_5j19I7tiHgp",
        "outputId": "87e3bd82-8ec6-4f59-c8e2-74aaa80858d3",
        "colab": {
          "base_uri": "https://localhost:8080/"
        }
      },
      "source": [
        "d_filtro = {}\n",
        "\n",
        "for chave, valor in d_frutas.items():\n",
        "    if chave == 'Apple':\n",
        "        d_filtro.update({chave: valor})\n",
        "\n",
        "d_filtro"
      ],
      "execution_count": null,
      "outputs": [
        {
          "output_type": "execute_result",
          "data": {
            "text/plain": [
              "{'Apple': 0.4}"
            ]
          },
          "metadata": {
            "tags": []
          },
          "execution_count": 8
        }
      ]
    },
    {
      "cell_type": "markdown",
      "metadata": {
        "id": "nUMGIzxeNt_U"
      },
      "source": [
        "### Filtrando por valor:\n",
        "\n",
        "Equivalente a:\n",
        "\n",
        "```\n",
        "d_frutas3 = {}\n",
        "\n",
        "for key, value in d_frutas.items():\n",
        "    if value > 0.5:\n",
        "        d_frutas3.update({key: value})\n",
        "```"
      ]
    },
    {
      "cell_type": "code",
      "metadata": {
        "id": "tvHcQatANltL",
        "outputId": "8feaf5b1-1db8-4391-8950-248ba8ab46c5",
        "colab": {
          "base_uri": "https://localhost:8080/",
          "height": 187
        }
      },
      "source": [
        "d_frutas3 = {k: v for k, v in filter(lambda t: t[1] > 0.5, d_frutas.items())}\n",
        "d_frutas3"
      ],
      "execution_count": null,
      "outputs": [
        {
          "output_type": "execute_result",
          "data": {
            "text/plain": [
              "{'Blackberry': 0.55,\n",
              " 'Blackcurrant': 0.7,\n",
              " 'Coconut': 0.75,\n",
              " 'Fig': 0.6,\n",
              " 'Grape': 0.65,\n",
              " 'Mango': 0.8,\n",
              " 'Nectarine': 0.75,\n",
              " 'Peach': 0.55,\n",
              " 'Pineapple': 0.55,\n",
              " 'Plum': 0.6}"
            ]
          },
          "metadata": {
            "tags": []
          },
          "execution_count": 7
        }
      ]
    },
    {
      "cell_type": "markdown",
      "metadata": {
        "id": "mqOFuiG1WEMG"
      },
      "source": [
        "#### Versões mais Pythonic!"
      ]
    },
    {
      "cell_type": "code",
      "metadata": {
        "id": "n0QV7jEfWEMH",
        "outputId": "bbc5e488-9d65-48ec-b9df-152b89e68c72",
        "colab": {
          "base_uri": "https://localhost:8080/",
          "height": 178
        }
      },
      "source": [
        "# Opção 1:\n",
        "d_frutas3 = dict(filter(lambda t: t[1] > 0.5, d_frutas.items()))\n",
        "d_frutas3"
      ],
      "execution_count": null,
      "outputs": [
        {
          "output_type": "error",
          "ename": "NameError",
          "evalue": "ignored",
          "traceback": [
            "\u001b[0;31m---------------------------------------------------------------------------\u001b[0m",
            "\u001b[0;31mNameError\u001b[0m                                 Traceback (most recent call last)",
            "\u001b[0;32m<ipython-input-1-52db33fd4716>\u001b[0m in \u001b[0;36m<module>\u001b[0;34m()\u001b[0m\n\u001b[1;32m      1\u001b[0m \u001b[0;31m# Opção 1:\u001b[0m\u001b[0;34m\u001b[0m\u001b[0;34m\u001b[0m\u001b[0;34m\u001b[0m\u001b[0m\n\u001b[0;32m----> 2\u001b[0;31m \u001b[0md_frutas2\u001b[0m \u001b[0;34m=\u001b[0m \u001b[0;34m{\u001b[0m\u001b[0mchavechave\u001b[0m\u001b[0;34m:\u001b[0m \u001b[0mvalor\u001b[0m \u001b[0;32mfor\u001b[0m \u001b[0mchave\u001b[0m\u001b[0;34m,\u001b[0m \u001b[0mvalor\u001b[0m \u001b[0;32min\u001b[0m \u001b[0md_frutas\u001b[0m\u001b[0;34m.\u001b[0m\u001b[0mitems\u001b[0m\u001b[0;34m(\u001b[0m\u001b[0;34m)\u001b[0m \u001b[0;32mif\u001b[0m \u001b[0mchave\u001b[0m \u001b[0;34m==\u001b[0m \u001b[0;34m'Apple'\u001b[0m\u001b[0;34m}\u001b[0m\u001b[0;34m\u001b[0m\u001b[0;34m\u001b[0m\u001b[0m\n\u001b[0m",
            "\u001b[0;31mNameError\u001b[0m: name 'd_frutas' is not defined"
          ]
        }
      ]
    },
    {
      "cell_type": "code",
      "metadata": {
        "id": "5BhyxoDvWEMK"
      },
      "source": [
        "# Opção 2:\n",
        "d_frutas3 = {chave: valor for chave, valor in d_frutas.items() if valor > 0.5}"
      ],
      "execution_count": null,
      "outputs": []
    },
    {
      "cell_type": "markdown",
      "metadata": {
        "id": "qA_XhCdmA6Gn"
      },
      "source": [
        "___\n",
        "# **EXERCÍCIOS**"
      ]
    },
    {
      "cell_type": "markdown",
      "metadata": {
        "id": "RSpyl_URgNyE"
      },
      "source": [
        "## Exercício 1\n",
        "* É possível sortear os itens de um dicionário? Explique sua resposta."
      ]
    },
    {
      "cell_type": "markdown",
      "metadata": {
        "id": "CXqc9kHch6Mm"
      },
      "source": [
        "## Exercício 2\n",
        "* É possível termos um dicionário do tipo abaixo?"
      ]
    },
    {
      "cell_type": "code",
      "metadata": {
        "id": "0BBWO9Zth_mc",
        "outputId": "14be585a-7315-4901-863a-9ba18090b5e8",
        "colab": {
          "base_uri": "https://localhost:8080/",
          "height": 68
        }
      },
      "source": [
        "d_colaboradores = {'Gerentes': ['A', 'B', 'C'], 'Programadores': ['B', 'D', 'E', 'F', 'G'], 'Gerentes_Projeto': ['A', 'E']}\n",
        "d_colaboradores"
      ],
      "execution_count": 1,
      "outputs": [
        {
          "output_type": "execute_result",
          "data": {
            "text/plain": [
              "{'Gerentes': ['A', 'B', 'C'],\n",
              " 'Gerentes_Projeto': ['A', 'E'],\n",
              " 'Programadores': ['B', 'D', 'E', 'F', 'G']}"
            ]
          },
          "metadata": {
            "tags": []
          },
          "execution_count": 1
        }
      ]
    },
    {
      "cell_type": "markdown",
      "metadata": {
        "id": "TNiJSG_uiePb"
      },
      "source": [
        "Como acessar o Gerente 'A'?"
      ]
    },
    {
      "cell_type": "code",
      "metadata": {
        "id": "rGvVgyz7jxwn",
        "outputId": "c4e02509-6910-46c5-d906-b7d6f542dfb3",
        "colab": {
          "base_uri": "https://localhost:8080/"
        }
      },
      "source": [
        "d_colaboradores['Gerentes']"
      ],
      "execution_count": null,
      "outputs": [
        {
          "output_type": "execute_result",
          "data": {
            "text/plain": [
              "['A', 'B', 'C']"
            ]
          },
          "metadata": {
            "tags": []
          },
          "execution_count": 50
        }
      ]
    },
    {
      "cell_type": "code",
      "metadata": {
        "id": "c-VwXvdij3QQ",
        "outputId": "f4344858-8ebf-4e0c-b336-e7a6ed4a43a2",
        "colab": {
          "base_uri": "https://localhost:8080/"
        }
      },
      "source": [
        "d_colaboradores['Programadores']???"
      ],
      "execution_count": null,
      "outputs": [
        {
          "output_type": "execute_result",
          "data": {
            "text/plain": [
              "['B', 'D', 'E', 'F', 'G']"
            ]
          },
          "metadata": {
            "tags": []
          },
          "execution_count": 51
        }
      ]
    },
    {
      "cell_type": "code",
      "metadata": {
        "id": "VBLRSQSw6mGB",
        "outputId": "ffdc226c-92c9-4096-ea0f-e13f25dc8a1c",
        "colab": {
          "base_uri": "https://localhost:8080/",
          "height": 35
        }
      },
      "source": [
        "d_colaboradores['Gerentes'][0]"
      ],
      "execution_count": null,
      "outputs": [
        {
          "output_type": "execute_result",
          "data": {
            "application/vnd.google.colaboratory.intrinsic+json": {
              "type": "string"
            },
            "text/plain": [
              "'A'"
            ]
          },
          "metadata": {
            "tags": []
          },
          "execution_count": 30
        }
      ]
    },
    {
      "cell_type": "code",
      "metadata": {
        "id": "WV0WaGB4kCiP",
        "outputId": "171e4ea0-c66f-49c2-f4ea-deb44b315d43",
        "colab": {
          "base_uri": "https://localhost:8080/",
          "height": 35
        }
      },
      "source": [
        "s_gerentes = d_colaboradores['Gerentes']\n",
        "s_gerentes[0]"
      ],
      "execution_count": null,
      "outputs": [
        {
          "output_type": "execute_result",
          "data": {
            "application/vnd.google.colaboratory.intrinsic+json": {
              "type": "string"
            },
            "text/plain": [
              "'A'"
            ]
          },
          "metadata": {
            "tags": []
          },
          "execution_count": 62
        }
      ]
    },
    {
      "cell_type": "code",
      "metadata": {
        "id": "yRrG7wUgkf6K",
        "outputId": "122c0ff9-47af-4a50-874e-42779aa3c068",
        "colab": {
          "base_uri": "https://localhost:8080/"
        }
      },
      "source": [
        "s_gerente_A = d_colaboradores.values()\n",
        "s_gerente_A"
      ],
      "execution_count": null,
      "outputs": [
        {
          "output_type": "execute_result",
          "data": {
            "text/plain": [
              "dict_values([['A', 'B', 'C'], ['B', 'D', 'E', 'F', 'G'], ['A', 'E']])"
            ]
          },
          "metadata": {
            "tags": []
          },
          "execution_count": 55
        }
      ]
    },
    {
      "cell_type": "markdown",
      "metadata": {
        "id": "ntVcr_3XwaQ-"
      },
      "source": [
        "## Exercício 3\n",
        "Consulte a página [Python Data Types: Dictionary - Exercises, Practice, Solution](https://www.w3resource.com/python-exercises/dictionary/) para mais exercícios relacionados à dicionários."
      ]
    },
    {
      "cell_type": "markdown",
      "metadata": {
        "id": "7u5-o8dzlryA"
      },
      "source": [
        "## **Exercício 4**\n",
        "\n",
        "Retornar do dicionário d_colaboradores somente o Programador cujo nome seja 'E'. "
      ]
    },
    {
      "cell_type": "code",
      "metadata": {
        "id": "lRKtdcA07gax",
        "outputId": "f5352b08-2e67-4a1d-d879-12501f486d43",
        "colab": {
          "base_uri": "https://localhost:8080/",
          "height": 35
        }
      },
      "source": [
        "d_colaboradores['Programadores'][2]"
      ],
      "execution_count": null,
      "outputs": [
        {
          "output_type": "execute_result",
          "data": {
            "application/vnd.google.colaboratory.intrinsic+json": {
              "type": "string"
            },
            "text/plain": [
              "'E'"
            ]
          },
          "metadata": {
            "tags": []
          },
          "execution_count": 33
        }
      ]
    },
    {
      "cell_type": "code",
      "metadata": {
        "id": "7KRNcC_I-zHh",
        "outputId": "9a18f79c-5d4c-4c25-82f0-9309e4d7ec20",
        "colab": {
          "base_uri": "https://localhost:8080/",
          "height": 34
        }
      },
      "source": [
        "list(filter(lambda t: t == 'E', d_colaboradores['Programadores']))"
      ],
      "execution_count": null,
      "outputs": [
        {
          "output_type": "execute_result",
          "data": {
            "text/plain": [
              "['E']"
            ]
          },
          "metadata": {
            "tags": []
          },
          "execution_count": 38
        }
      ]
    },
    {
      "cell_type": "code",
      "metadata": {
        "id": "02t2Uczp8D03",
        "outputId": "13e14ec9-c3fd-4b9e-ed60-d5d191054081",
        "colab": {
          "base_uri": "https://localhost:8080/",
          "height": 35
        }
      },
      "source": [
        "s_prog = list(filter(lambda t: t == 'E', d_colaboradores['Programadores']))\n",
        "s_prog[0]"
      ],
      "execution_count": null,
      "outputs": [
        {
          "output_type": "execute_result",
          "data": {
            "application/vnd.google.colaboratory.intrinsic+json": {
              "type": "string"
            },
            "text/plain": [
              "'E'"
            ]
          },
          "metadata": {
            "tags": []
          },
          "execution_count": 42
        }
      ]
    },
    {
      "cell_type": "markdown",
      "metadata": {
        "id": "zfnP-CArmPb4"
      },
      "source": [
        "## **Exercício 5**\n",
        "\n",
        "Retornar qual é o cargo do funcionário (todas as pessoas da organização) que se chama 'A'."
      ]
    },
    {
      "cell_type": "code",
      "metadata": {
        "id": "BVbHId2mR9mc",
        "outputId": "4831d244-36fb-4f37-f730-fe0429328b05",
        "colab": {
          "base_uri": "https://localhost:8080/",
          "height": 34
        }
      },
      "source": [
        "l_A = [item[0]  for item in d_colaboradores.items() for nome in item[1] if nome == 'A']\n",
        "l_A"
      ],
      "execution_count": 6,
      "outputs": [
        {
          "output_type": "execute_result",
          "data": {
            "text/plain": [
              "['Gerentes', 'Gerentes_Projeto']"
            ]
          },
          "metadata": {
            "tags": []
          },
          "execution_count": 6
        }
      ]
    },
    {
      "cell_type": "markdown",
      "metadata": {
        "id": "VzjLVeFvmnjk"
      },
      "source": [
        "## **Exercício 6**\n",
        "\n",
        "* Quais são os colabores que são ao mesmo tempo:\n",
        "    * Gerente de Projeto e Gerente (funcional)?\n",
        "    * Gerentes de Projeto e Programadores?"
      ]
    },
    {
      "cell_type": "code",
      "metadata": {
        "id": "wnCi3kWcl8Sb",
        "outputId": "b9e78b70-1fc1-45cf-f54d-df64b6241927",
        "colab": {
          "base_uri": "https://localhost:8080/",
          "height": 34
        }
      },
      "source": [
        "l_gerentes = [ l_nomes for l_nomes in d_colaboradores['Gerentes_Projeto'] for nome_comp in l_nomes for nome_comp2 in d_colaboradores['Gerentes'] if nome_comp == nome_comp2]\n",
        "l_gerentes"
      ],
      "execution_count": 9,
      "outputs": [
        {
          "output_type": "execute_result",
          "data": {
            "text/plain": [
              "['A']"
            ]
          },
          "metadata": {
            "tags": []
          },
          "execution_count": 9
        }
      ]
    },
    {
      "cell_type": "code",
      "metadata": {
        "id": "3kZ5FQgjW0Rn",
        "outputId": "c058767e-9d8a-4651-a3e9-80d8429ed736",
        "colab": {
          "base_uri": "https://localhost:8080/",
          "height": 34
        }
      },
      "source": [
        "l_gerentes = [ l_nomes for l_nomes in d_colaboradores['Gerentes_Projeto'] for nome_comp in l_nomes for nome_comp2 in d_colaboradores['Programadores'] if nome_comp == nome_comp2]\n",
        "l_gerentes"
      ],
      "execution_count": 10,
      "outputs": [
        {
          "output_type": "execute_result",
          "data": {
            "text/plain": [
              "['E']"
            ]
          },
          "metadata": {
            "tags": []
          },
          "execution_count": 10
        }
      ]
    },
    {
      "cell_type": "code",
      "metadata": {
        "id": "TjO_Ol77YMJj"
      },
      "source": [
        ""
      ],
      "execution_count": null,
      "outputs": []
    }
  ]
}