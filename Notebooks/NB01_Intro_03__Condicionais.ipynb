{
  "nbformat": 4,
  "nbformat_minor": 0,
  "metadata": {
    "colab": {
      "name": "PythonLab.ipynb",
      "provenance": [],
      "collapsed_sections": [
        "n8BIbzQbNWUo",
        "7eS94uQ4NhVR",
        "SYOgJpGYVLUu",
        "CaHFxk98W5if",
        "ReWUyWiHXCnc",
        "CqszHxaKHr2h",
        "tXgF1Wl9gHKY",
        "Fotx7XUquAo8",
        "36kmLUYDvsUI",
        "SWO2GdNovxAp",
        "vpN54l4vxze5",
        "u4HOf9SNytSq",
        "6BQ9oZiD9hg5",
        "tz5-QdrX9vct",
        "p1muBgMX8NK4",
        "FxTC2-U88ajk",
        "z8EYn0pP25Rh"
      ],
      "include_colab_link": true
    },
    "kernelspec": {
      "name": "python3",
      "display_name": "Python 3"
    },
    "accelerator": "GPU"
  },
  "cells": [
    {
      "cell_type": "markdown",
      "metadata": {
        "id": "view-in-github",
        "colab_type": "text"
      },
      "source": [
        "<a href=\"https://colab.research.google.com/github/MathMachado/DSWP/blob/master/Notebooks/NB01_Intro_03__Condicionais.ipynb\" target=\"_parent\"><img src=\"https://colab.research.google.com/assets/colab-badge.svg\" alt=\"Open In Colab\"/></a>"
      ]
    },
    {
      "cell_type": "markdown",
      "metadata": {
        "id": "Gbziy0R0PRtA",
        "colab_type": "text"
      },
      "source": [
        "# Notas & observações\n",
        "\n",
        "* Enriquecer com mais exemplos...\n",
        "* Use isso: https://data-flair.training/blogs/python-decision-making-expressions/\n"
      ]
    },
    {
      "cell_type": "markdown",
      "metadata": {
        "id": "wYGZ0eGlv--6",
        "colab_type": "text"
      },
      "source": [
        "___\n",
        "# **Agenda**:\n",
        "> Nesta capítulo, vamos falar sobre:\n",
        "\n",
        "* Condicionais\n",
        "    * if\n",
        "* Wrap Up\n",
        "* Exercícios"
      ]
    },
    {
      "cell_type": "markdown",
      "metadata": {
        "id": "LWuIj53sVSnA",
        "colab_type": "text"
      },
      "source": [
        "# **Condicionais**\n",
        "> Usado para decidir se uma determinada instrução ou bloco de instruções será executada ou não, isto é, se uma determinada condição for verdadeira, um bloco de instrução será executado."
      ]
    },
    {
      "cell_type": "markdown",
      "metadata": {
        "id": "NotQUW3tCy7o",
        "colab_type": "text"
      },
      "source": [
        "# If\n",
        "* **DICA**: Atenção à indentação."
      ]
    },
    {
      "cell_type": "markdown",
      "metadata": {
        "id": "FCJBMTh5WX5C",
        "colab_type": "text"
      },
      "source": [
        "## Exemplo 1"
      ]
    },
    {
      "cell_type": "code",
      "metadata": {
        "id": "vn5u7CEaWZjH",
        "colab_type": "code",
        "colab": {}
      },
      "source": [
        "def Qual_Mensagem(i_Idade, i_Threshold):\n",
        "    if i_Idade > i_Threshold:\n",
        "        s_Mensagem= f'{i_Idade} é maior que {i_Threshold}'\n",
        "        print(s_Mensagem)"
      ],
      "execution_count": 0,
      "outputs": []
    },
    {
      "cell_type": "code",
      "metadata": {
        "id": "lW0ME_nVXU4M",
        "colab_type": "code",
        "colab": {}
      },
      "source": [
        "Qual_Mensagem(35, 40)"
      ],
      "execution_count": 0,
      "outputs": []
    },
    {
      "cell_type": "markdown",
      "metadata": {
        "id": "EBBU8Yw2XxUo",
        "colab_type": "text"
      },
      "source": [
        "Nenhuma mensagem? E agora?"
      ]
    },
    {
      "cell_type": "code",
      "metadata": {
        "id": "xQ23cAjMX1kx",
        "colab_type": "code",
        "outputId": "3612d39b-3f92-40fd-af14-2dfbca6b0697",
        "colab": {
          "base_uri": "https://localhost:8080/",
          "height": 35
        }
      },
      "source": [
        "Qual_Mensagem(45, 40)"
      ],
      "execution_count": 0,
      "outputs": [
        {
          "output_type": "stream",
          "text": [
            "45 é maior que 40\n"
          ],
          "name": "stdout"
        }
      ]
    },
    {
      "cell_type": "markdown",
      "metadata": {
        "id": "BeHU0tPuWK4s",
        "colab_type": "text"
      },
      "source": [
        "## Exemplo 2"
      ]
    },
    {
      "cell_type": "code",
      "metadata": {
        "id": "gSzCnjS0Fk-d",
        "colab_type": "code",
        "colab": {}
      },
      "source": [
        "def Qual_Mensagem2(i_Idade, i_Threshold):\n",
        "    if i_Idade > i_Threshold:\n",
        "        s_Mensagem= f'{i_Idade} é maior que {i_Threshold}'\n",
        "    else:\n",
        "        s_Mensagem= f'{i_Idade} é menor ou igual a {i_Threshold}'\n",
        "    \n",
        "    print(s_Mensagem)"
      ],
      "execution_count": 0,
      "outputs": []
    },
    {
      "cell_type": "code",
      "metadata": {
        "id": "KxbmxuDwYFX_",
        "colab_type": "code",
        "outputId": "8f1faff1-de34-4967-865f-17453f7992af",
        "colab": {
          "base_uri": "https://localhost:8080/",
          "height": 35
        }
      },
      "source": [
        "Qual_Mensagem2(35, 40)"
      ],
      "execution_count": 0,
      "outputs": [
        {
          "output_type": "stream",
          "text": [
            "35 é menor ou igual a 40\n"
          ],
          "name": "stdout"
        }
      ]
    },
    {
      "cell_type": "markdown",
      "metadata": {
        "id": "lToDO6pzWPGL",
        "colab_type": "text"
      },
      "source": [
        "## Exemplo 3"
      ]
    },
    {
      "cell_type": "code",
      "metadata": {
        "id": "a1NlziSbGrIl",
        "colab_type": "code",
        "outputId": "4a4b8d55-d603-4fa3-8734-7e6d6201058b",
        "colab": {
          "base_uri": "https://localhost:8080/",
          "height": 201
        }
      },
      "source": [
        "def Qual_Mensagem3(i_Idade, i_Threshold1, i_Threshold2, i_Threshold3, i_Threshold4):\n",
        "    if ((i_Idade > i_Threshold1) and (i_Idade < i_Threshold2)):\n",
        "        s_Mensagem= f'{i_Idade} é maior que {i_Threshold1} e menor que {i_Threshold2}'\n",
        "    elif ((i_Idade > i_Threshold3) and (i_Idade < i_Threshold4)):\n",
        "        s_Mensagem= f'{i_Idade} é maior que {i_Threshold3} e menor que {i_Threshold4}'\n",
        "    else:\n",
        "        s_Mensagem= f'{i_Idade} é maior que {i_Threshold4}'\n",
        "    \n",
        "print(s_Mensagem)"
      ],
      "execution_count": 0,
      "outputs": [
        {
          "output_type": "error",
          "ename": "NameError",
          "evalue": "ignored",
          "traceback": [
            "\u001b[0;31m---------------------------------------------------------------------------\u001b[0m",
            "\u001b[0;31mNameError\u001b[0m                                 Traceback (most recent call last)",
            "\u001b[0;32m<ipython-input-12-19d8ea4531aa>\u001b[0m in \u001b[0;36m<module>\u001b[0;34m()\u001b[0m\n\u001b[1;32m      7\u001b[0m         \u001b[0ms_Mensagem\u001b[0m\u001b[0;34m=\u001b[0m \u001b[0;34mf'{i_Idade} é maior que {i_Threshold4}'\u001b[0m\u001b[0;34m\u001b[0m\u001b[0;34m\u001b[0m\u001b[0m\n\u001b[1;32m      8\u001b[0m \u001b[0;34m\u001b[0m\u001b[0m\n\u001b[0;32m----> 9\u001b[0;31m \u001b[0mprint\u001b[0m\u001b[0;34m(\u001b[0m\u001b[0ms_Mensagem\u001b[0m\u001b[0;34m)\u001b[0m\u001b[0;34m\u001b[0m\u001b[0;34m\u001b[0m\u001b[0m\n\u001b[0m",
            "\u001b[0;31mNameError\u001b[0m: name 's_Mensagem' is not defined"
          ]
        }
      ]
    },
    {
      "cell_type": "markdown",
      "metadata": {
        "id": "V8FF3lFLYqui",
        "colab_type": "text"
      },
      "source": [
        "Porque temos um erro nesta função?"
      ]
    },
    {
      "cell_type": "markdown",
      "metadata": {
        "id": "y5F09RKGYyoX",
        "colab_type": "text"
      },
      "source": [
        "**Resposta**: por causa da indentação! A forma correta é:"
      ]
    },
    {
      "cell_type": "code",
      "metadata": {
        "id": "vR-oFyzAY5UC",
        "colab_type": "code",
        "colab": {}
      },
      "source": [
        "def Qual_Mensagem3(i_Idade, i_Threshold1, i_Threshold2, i_Threshold3, i_Threshold4):\n",
        "    if ((i_Idade > i_Threshold1) and (i_Idade < i_Threshold2)):\n",
        "        s_Mensagem= f'{i_Idade} é maior que {i_Threshold1} e menor que {i_Threshold2}'\n",
        "    elif ((i_Idade > i_Threshold3) and (i_Idade < i_Threshold4)):\n",
        "        s_Mensagem= f'{i_Idade} é maior que {i_Threshold3} e menor que {i_Threshold4}'\n",
        "    else:\n",
        "        s_Mensagem= f'{i_Idade} é maior que {i_Threshold4}'\n",
        "    \n",
        "    print(s_Mensagem)"
      ],
      "execution_count": 0,
      "outputs": []
    },
    {
      "cell_type": "code",
      "metadata": {
        "id": "QgkBOGKdYgGU",
        "colab_type": "code",
        "outputId": "5bab3ddd-b871-43b9-fd02-12ea57d4e8c2",
        "colab": {
          "base_uri": "https://localhost:8080/",
          "height": 35
        }
      },
      "source": [
        "Qual_Mensagem3(35, 10, 20, 30, 40)"
      ],
      "execution_count": 0,
      "outputs": [
        {
          "output_type": "stream",
          "text": [
            "35 é maior que 30 e menor que 40\n"
          ],
          "name": "stdout"
        }
      ]
    },
    {
      "cell_type": "markdown",
      "metadata": {
        "id": "LLk7bhjSwZch",
        "colab_type": "text"
      },
      "source": [
        "___\n",
        "# **Wrap Up**"
      ]
    },
    {
      "cell_type": "markdown",
      "metadata": {
        "id": "lJvjcjm8NQ85",
        "colab_type": "text"
      },
      "source": [
        "___\n",
        "# Exercícios"
      ]
    },
    {
      "cell_type": "code",
      "metadata": {
        "id": "Gi091pZrwbnY",
        "colab_type": "code",
        "colab": {}
      },
      "source": [
        ""
      ],
      "execution_count": 0,
      "outputs": []
    }
  ]
}