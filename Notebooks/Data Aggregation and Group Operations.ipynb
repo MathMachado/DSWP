{
  "nbformat": 4,
  "nbformat_minor": 0,
  "metadata": {
    "kernelspec": {
      "display_name": "Python 2",
      "language": "python",
      "name": "python2"
    },
    "language_info": {
      "codemirror_mode": {
        "name": "ipython",
        "version": 2
      },
      "file_extension": ".py",
      "mimetype": "text/x-python",
      "name": "python",
      "nbconvert_exporter": "python",
      "pygments_lexer": "ipython2",
      "version": "2.7.10"
    },
    "colab": {
      "name": "ch09.ipynb",
      "version": "0.3.2",
      "provenance": [],
      "include_colab_link": true
    }
  },
  "cells": [
    {
      "cell_type": "markdown",
      "metadata": {
        "id": "view-in-github",
        "colab_type": "text"
      },
      "source": [
        "<a href=\"https://colab.research.google.com/github/MathMachado/DSWP/blob/master/Notebooks/Data%20Aggregation%20and%20Group%20Operations.ipynb\" target=\"_parent\"><img src=\"https://colab.research.google.com/assets/colab-badge.svg\" alt=\"Open In Colab\"/></a>"
      ]
    },
    {
      "cell_type": "markdown",
      "metadata": {
        "id": "vz_OqxW9pGAp",
        "colab_type": "text"
      },
      "source": [
        "# Data Aggregation and Group Operations"
      ]
    },
    {
      "cell_type": "code",
      "metadata": {
        "id": "qxjA2HCmpGAs",
        "colab_type": "code",
        "colab": {}
      },
      "source": [
        "from numpy.random import randn\n",
        "import numpy as np\n",
        "import os\n",
        "import matplotlib.pyplot as plt\n",
        "np.random.seed(20111974)\n",
        "\n",
        "plt.rc('figure', figsize=(10, 6))\n",
        "from pandas import Series, DataFrame\n",
        "import pandas as pd\n",
        "np.set_printoptions(precision=4)"
      ],
      "execution_count": 0,
      "outputs": []
    },
    {
      "cell_type": "code",
      "metadata": {
        "id": "2mB_JLcZpGA2",
        "colab_type": "code",
        "colab": {}
      },
      "source": [
        "%matplotlib inline"
      ],
      "execution_count": 0,
      "outputs": []
    },
    {
      "cell_type": "markdown",
      "metadata": {
        "id": "FOgzJ_LvpGA5",
        "colab_type": "text"
      },
      "source": [
        "# GroupBy\n",
        "* Qual a lógica por trás do groupby?"
      ]
    },
    {
      "cell_type": "code",
      "metadata": {
        "id": "ROYkakcFpGA6",
        "colab_type": "code",
        "outputId": "cef979bf-9be9-4e72-8f12-9d8ef50e75ed",
        "colab": {
          "base_uri": "https://localhost:8080/",
          "height": 202
        }
      },
      "source": [
        "# Dataframe toy\n",
        "df = DataFrame({'key1' : ['a', 'a', 'b', 'b', 'a'],\n",
        "                'key2' : ['one', 'two', 'one', 'two', 'one'],\n",
        "                'data1' : np.random.randn(5),\n",
        "                'data2' : np.random.randn(5)})\n",
        "df"
      ],
      "execution_count": 0,
      "outputs": [
        {
          "output_type": "execute_result",
          "data": {
            "text/html": [
              "<div>\n",
              "<style scoped>\n",
              "    .dataframe tbody tr th:only-of-type {\n",
              "        vertical-align: middle;\n",
              "    }\n",
              "\n",
              "    .dataframe tbody tr th {\n",
              "        vertical-align: top;\n",
              "    }\n",
              "\n",
              "    .dataframe thead th {\n",
              "        text-align: right;\n",
              "    }\n",
              "</style>\n",
              "<table border=\"1\" class=\"dataframe\">\n",
              "  <thead>\n",
              "    <tr style=\"text-align: right;\">\n",
              "      <th></th>\n",
              "      <th>data1</th>\n",
              "      <th>data2</th>\n",
              "      <th>key1</th>\n",
              "      <th>key2</th>\n",
              "    </tr>\n",
              "  </thead>\n",
              "  <tbody>\n",
              "    <tr>\n",
              "      <th>0</th>\n",
              "      <td>2.506277</td>\n",
              "      <td>1.049309</td>\n",
              "      <td>a</td>\n",
              "      <td>one</td>\n",
              "    </tr>\n",
              "    <tr>\n",
              "      <th>1</th>\n",
              "      <td>1.114404</td>\n",
              "      <td>-0.126074</td>\n",
              "      <td>a</td>\n",
              "      <td>two</td>\n",
              "    </tr>\n",
              "    <tr>\n",
              "      <th>2</th>\n",
              "      <td>2.055655</td>\n",
              "      <td>1.062276</td>\n",
              "      <td>b</td>\n",
              "      <td>one</td>\n",
              "    </tr>\n",
              "    <tr>\n",
              "      <th>3</th>\n",
              "      <td>0.564824</td>\n",
              "      <td>1.138070</td>\n",
              "      <td>b</td>\n",
              "      <td>two</td>\n",
              "    </tr>\n",
              "    <tr>\n",
              "      <th>4</th>\n",
              "      <td>0.298973</td>\n",
              "      <td>1.379660</td>\n",
              "      <td>a</td>\n",
              "      <td>one</td>\n",
              "    </tr>\n",
              "  </tbody>\n",
              "</table>\n",
              "</div>"
            ],
            "text/plain": [
              "      data1     data2 key1 key2\n",
              "0  2.506277  1.049309    a  one\n",
              "1  1.114404 -0.126074    a  two\n",
              "2  2.055655  1.062276    b  one\n",
              "3  0.564824  1.138070    b  two\n",
              "4  0.298973  1.379660    a  one"
            ]
          },
          "metadata": {
            "tags": []
          },
          "execution_count": 3
        }
      ]
    },
    {
      "cell_type": "code",
      "metadata": {
        "id": "FDfZo-LWpGA-",
        "colab_type": "code",
        "outputId": "650700a6-bf47-41d2-cd1b-816ff637d15d",
        "colab": {
          "base_uri": "https://localhost:8080/",
          "height": 35
        }
      },
      "source": [
        "df_Grouped= df['data1'].groupby(df['key1'])\n",
        "df_Grouped"
      ],
      "execution_count": 0,
      "outputs": [
        {
          "output_type": "execute_result",
          "data": {
            "text/plain": [
              "<pandas.core.groupby.generic.SeriesGroupBy object at 0x7f1b14ba2910>"
            ]
          },
          "metadata": {
            "tags": []
          },
          "execution_count": 4
        }
      ]
    },
    {
      "cell_type": "markdown",
      "metadata": {
        "id": "A99h02wfmBkg",
        "colab_type": "text"
      },
      "source": [
        "Se quisermos a média:"
      ]
    },
    {
      "cell_type": "code",
      "metadata": {
        "id": "9QtIgu0vpGBD",
        "colab_type": "code",
        "outputId": "8556c84e-d30b-430e-a329-14619f613e42",
        "colab": {
          "base_uri": "https://localhost:8080/",
          "height": 87
        }
      },
      "source": [
        "df_Grouped.mean()"
      ],
      "execution_count": 0,
      "outputs": [
        {
          "output_type": "execute_result",
          "data": {
            "text/plain": [
              "key1\n",
              "a    1.306551\n",
              "b    1.310239\n",
              "Name: data1, dtype: float64"
            ]
          },
          "metadata": {
            "tags": []
          },
          "execution_count": 5
        }
      ]
    },
    {
      "cell_type": "markdown",
      "metadata": {
        "id": "6sb4sgKkmG9n",
        "colab_type": "text"
      },
      "source": [
        "Se quisermos a mediana:"
      ]
    },
    {
      "cell_type": "code",
      "metadata": {
        "id": "XTx7AmhKmIg1",
        "colab_type": "code",
        "outputId": "681d4bb8-7195-4348-9925-7a9e92c21f85",
        "colab": {
          "base_uri": "https://localhost:8080/",
          "height": 87
        }
      },
      "source": [
        "df_Grouped.median()"
      ],
      "execution_count": 0,
      "outputs": [
        {
          "output_type": "execute_result",
          "data": {
            "text/plain": [
              "key1\n",
              "a    1.114404\n",
              "b    1.310239\n",
              "Name: data1, dtype: float64"
            ]
          },
          "metadata": {
            "tags": []
          },
          "execution_count": 6
        }
      ]
    },
    {
      "cell_type": "markdown",
      "metadata": {
        "id": "1NG47xhKmNoi",
        "colab_type": "text"
      },
      "source": [
        "Se quisermos o mínimo:"
      ]
    },
    {
      "cell_type": "code",
      "metadata": {
        "id": "iO4mtdHVmPwg",
        "colab_type": "code",
        "outputId": "a5c1521f-249d-4a2d-eedd-b371b1d40181",
        "colab": {
          "base_uri": "https://localhost:8080/",
          "height": 87
        }
      },
      "source": [
        "df_Grouped.min()"
      ],
      "execution_count": 0,
      "outputs": [
        {
          "output_type": "execute_result",
          "data": {
            "text/plain": [
              "key1\n",
              "a    0.298973\n",
              "b    0.564824\n",
              "Name: data1, dtype: float64"
            ]
          },
          "metadata": {
            "tags": []
          },
          "execution_count": 7
        }
      ]
    },
    {
      "cell_type": "markdown",
      "metadata": {
        "id": "XSY2BXzAmUil",
        "colab_type": "text"
      },
      "source": [
        "E daí por diante..."
      ]
    },
    {
      "cell_type": "markdown",
      "metadata": {
        "id": "T6i-R2KemadE",
        "colab_type": "text"
      },
      "source": [
        "Agora, vamos repetir o processo usando as duas chaves:"
      ]
    },
    {
      "cell_type": "code",
      "metadata": {
        "id": "7zA4R_uFpGBH",
        "colab_type": "code",
        "outputId": "0cf115c0-68ef-4f20-e1e0-a8418be0fd9d",
        "colab": {
          "base_uri": "https://localhost:8080/",
          "height": 121
        }
      },
      "source": [
        "# Observe o uso da aplicação de mean() ao final da linha\n",
        "df_Grouped_Mean = df['data1'].groupby([df['key1'], df['key2']]).mean()\n",
        "# df.groupby(['key1', 'key2'])[['data1']].mean() também funciona\n",
        "df_Grouped_Mean"
      ],
      "execution_count": 0,
      "outputs": [
        {
          "output_type": "execute_result",
          "data": {
            "text/plain": [
              "key1  key2\n",
              "a     one     1.402625\n",
              "      two     1.114404\n",
              "b     one     2.055655\n",
              "      two     0.564824\n",
              "Name: data1, dtype: float64"
            ]
          },
          "metadata": {
            "tags": []
          },
          "execution_count": 9
        }
      ]
    },
    {
      "cell_type": "code",
      "metadata": {
        "id": "0MdbWgVOpGBK",
        "colab_type": "code",
        "outputId": "da17a168-9f42-47ba-bcb4-3719a3d80899",
        "colab": {
          "base_uri": "https://localhost:8080/",
          "height": 141
        }
      },
      "source": [
        "# Outra forma de ver os resultados:\n",
        "df_Grouped_Mean.unstack()"
      ],
      "execution_count": 0,
      "outputs": [
        {
          "output_type": "execute_result",
          "data": {
            "text/html": [
              "<div>\n",
              "<style scoped>\n",
              "    .dataframe tbody tr th:only-of-type {\n",
              "        vertical-align: middle;\n",
              "    }\n",
              "\n",
              "    .dataframe tbody tr th {\n",
              "        vertical-align: top;\n",
              "    }\n",
              "\n",
              "    .dataframe thead th {\n",
              "        text-align: right;\n",
              "    }\n",
              "</style>\n",
              "<table border=\"1\" class=\"dataframe\">\n",
              "  <thead>\n",
              "    <tr style=\"text-align: right;\">\n",
              "      <th>key2</th>\n",
              "      <th>one</th>\n",
              "      <th>two</th>\n",
              "    </tr>\n",
              "    <tr>\n",
              "      <th>key1</th>\n",
              "      <th></th>\n",
              "      <th></th>\n",
              "    </tr>\n",
              "  </thead>\n",
              "  <tbody>\n",
              "    <tr>\n",
              "      <th>a</th>\n",
              "      <td>1.402625</td>\n",
              "      <td>1.114404</td>\n",
              "    </tr>\n",
              "    <tr>\n",
              "      <th>b</th>\n",
              "      <td>2.055655</td>\n",
              "      <td>0.564824</td>\n",
              "    </tr>\n",
              "  </tbody>\n",
              "</table>\n",
              "</div>"
            ],
            "text/plain": [
              "key2       one       two\n",
              "key1                    \n",
              "a     1.402625  1.114404\n",
              "b     2.055655  0.564824"
            ]
          },
          "metadata": {
            "tags": []
          },
          "execution_count": 10
        }
      ]
    },
    {
      "cell_type": "markdown",
      "metadata": {
        "id": "m87ZDp1MpGCP",
        "colab_type": "text"
      },
      "source": [
        "### Groupby usando objetos dicionários e séries"
      ]
    },
    {
      "cell_type": "code",
      "metadata": {
        "id": "FnySSZUSpGCQ",
        "colab_type": "code",
        "outputId": "3225f835-1335-4f28-da9a-7af8abe9acfc",
        "colab": {
          "base_uri": "https://localhost:8080/",
          "height": 202
        }
      },
      "source": [
        "df_People = DataFrame(np.random.randn(5, 5),\n",
        "                   columns=['a', 'b', 'c', 'd', 'e'],\n",
        "                   index=['Joe', 'Steve', 'Wes', 'Jim', 'Travis'])\n",
        "df_People.loc['Wes', ['b', 'c']] = np.nan\n",
        "df_People"
      ],
      "execution_count": 0,
      "outputs": [
        {
          "output_type": "execute_result",
          "data": {
            "text/html": [
              "<div>\n",
              "<style scoped>\n",
              "    .dataframe tbody tr th:only-of-type {\n",
              "        vertical-align: middle;\n",
              "    }\n",
              "\n",
              "    .dataframe tbody tr th {\n",
              "        vertical-align: top;\n",
              "    }\n",
              "\n",
              "    .dataframe thead th {\n",
              "        text-align: right;\n",
              "    }\n",
              "</style>\n",
              "<table border=\"1\" class=\"dataframe\">\n",
              "  <thead>\n",
              "    <tr style=\"text-align: right;\">\n",
              "      <th></th>\n",
              "      <th>a</th>\n",
              "      <th>b</th>\n",
              "      <th>c</th>\n",
              "      <th>d</th>\n",
              "      <th>e</th>\n",
              "    </tr>\n",
              "  </thead>\n",
              "  <tbody>\n",
              "    <tr>\n",
              "      <th>Joe</th>\n",
              "      <td>-0.502706</td>\n",
              "      <td>-0.153539</td>\n",
              "      <td>-0.808437</td>\n",
              "      <td>0.866650</td>\n",
              "      <td>1.126241</td>\n",
              "    </tr>\n",
              "    <tr>\n",
              "      <th>Steve</th>\n",
              "      <td>0.876783</td>\n",
              "      <td>-0.907907</td>\n",
              "      <td>1.370036</td>\n",
              "      <td>0.129628</td>\n",
              "      <td>-0.523001</td>\n",
              "    </tr>\n",
              "    <tr>\n",
              "      <th>Wes</th>\n",
              "      <td>0.242031</td>\n",
              "      <td>NaN</td>\n",
              "      <td>NaN</td>\n",
              "      <td>-0.772551</td>\n",
              "      <td>1.510004</td>\n",
              "    </tr>\n",
              "    <tr>\n",
              "      <th>Jim</th>\n",
              "      <td>-1.042198</td>\n",
              "      <td>0.489810</td>\n",
              "      <td>0.324786</td>\n",
              "      <td>-1.021235</td>\n",
              "      <td>-1.246583</td>\n",
              "    </tr>\n",
              "    <tr>\n",
              "      <th>Travis</th>\n",
              "      <td>1.286583</td>\n",
              "      <td>0.277603</td>\n",
              "      <td>-1.541608</td>\n",
              "      <td>-0.728623</td>\n",
              "      <td>0.823626</td>\n",
              "    </tr>\n",
              "  </tbody>\n",
              "</table>\n",
              "</div>"
            ],
            "text/plain": [
              "               a         b         c         d         e\n",
              "Joe    -0.502706 -0.153539 -0.808437  0.866650  1.126241\n",
              "Steve   0.876783 -0.907907  1.370036  0.129628 -0.523001\n",
              "Wes     0.242031       NaN       NaN -0.772551  1.510004\n",
              "Jim    -1.042198  0.489810  0.324786 -1.021235 -1.246583\n",
              "Travis  1.286583  0.277603 -1.541608 -0.728623  0.823626"
            ]
          },
          "metadata": {
            "tags": []
          },
          "execution_count": 22
        }
      ]
    },
    {
      "cell_type": "code",
      "metadata": {
        "id": "MafwhnwOpGCV",
        "colab_type": "code",
        "colab": {}
      },
      "source": [
        "mapping = {'a': 'red', 'b': 'red', 'c': 'blue',\n",
        "           'd': 'blue', 'e': 'red', 'f' : 'orange'}"
      ],
      "execution_count": 0,
      "outputs": []
    },
    {
      "cell_type": "code",
      "metadata": {
        "id": "oLuWaIK2pGCZ",
        "colab_type": "code",
        "outputId": "8497a3ac-6b0a-455e-9e7c-2ef35d018239",
        "colab": {
          "base_uri": "https://localhost:8080/",
          "height": 202
        }
      },
      "source": [
        "by_column = df_People.groupby(mapping, axis=1)\n",
        "by_column.sum()"
      ],
      "execution_count": 0,
      "outputs": [
        {
          "output_type": "execute_result",
          "data": {
            "text/html": [
              "<div>\n",
              "<style scoped>\n",
              "    .dataframe tbody tr th:only-of-type {\n",
              "        vertical-align: middle;\n",
              "    }\n",
              "\n",
              "    .dataframe tbody tr th {\n",
              "        vertical-align: top;\n",
              "    }\n",
              "\n",
              "    .dataframe thead th {\n",
              "        text-align: right;\n",
              "    }\n",
              "</style>\n",
              "<table border=\"1\" class=\"dataframe\">\n",
              "  <thead>\n",
              "    <tr style=\"text-align: right;\">\n",
              "      <th></th>\n",
              "      <th>blue</th>\n",
              "      <th>red</th>\n",
              "    </tr>\n",
              "  </thead>\n",
              "  <tbody>\n",
              "    <tr>\n",
              "      <th>Joe</th>\n",
              "      <td>0.058213</td>\n",
              "      <td>0.469996</td>\n",
              "    </tr>\n",
              "    <tr>\n",
              "      <th>Steve</th>\n",
              "      <td>1.499665</td>\n",
              "      <td>-0.554126</td>\n",
              "    </tr>\n",
              "    <tr>\n",
              "      <th>Wes</th>\n",
              "      <td>-0.772551</td>\n",
              "      <td>1.752035</td>\n",
              "    </tr>\n",
              "    <tr>\n",
              "      <th>Jim</th>\n",
              "      <td>-0.696449</td>\n",
              "      <td>-1.798971</td>\n",
              "    </tr>\n",
              "    <tr>\n",
              "      <th>Travis</th>\n",
              "      <td>-2.270231</td>\n",
              "      <td>2.387812</td>\n",
              "    </tr>\n",
              "  </tbody>\n",
              "</table>\n",
              "</div>"
            ],
            "text/plain": [
              "            blue       red\n",
              "Joe     0.058213  0.469996\n",
              "Steve   1.499665 -0.554126\n",
              "Wes    -0.772551  1.752035\n",
              "Jim    -0.696449 -1.798971\n",
              "Travis -2.270231  2.387812"
            ]
          },
          "metadata": {
            "tags": []
          },
          "execution_count": 23
        }
      ]
    },
    {
      "cell_type": "code",
      "metadata": {
        "id": "SIe8DEXHpGCe",
        "colab_type": "code",
        "outputId": "4bf19849-8749-4fda-c14c-1d4d39d7d198",
        "colab": {
          "base_uri": "https://localhost:8080/",
          "height": 139
        }
      },
      "source": [
        "map_series = Series(mapping)\n",
        "map_series"
      ],
      "execution_count": 0,
      "outputs": [
        {
          "output_type": "execute_result",
          "data": {
            "text/plain": [
              "a       red\n",
              "b       red\n",
              "c      blue\n",
              "d      blue\n",
              "e       red\n",
              "f    orange\n",
              "dtype: object"
            ]
          },
          "metadata": {
            "tags": []
          },
          "execution_count": 24
        }
      ]
    },
    {
      "cell_type": "code",
      "metadata": {
        "id": "RW0G4PFcpGCh",
        "colab_type": "code",
        "outputId": "69f9d4cc-89a2-4e5e-f777-81d7417414b3",
        "colab": {
          "base_uri": "https://localhost:8080/",
          "height": 202
        }
      },
      "source": [
        "df_People.groupby(map_series, axis=1).count()"
      ],
      "execution_count": 0,
      "outputs": [
        {
          "output_type": "execute_result",
          "data": {
            "text/html": [
              "<div>\n",
              "<style scoped>\n",
              "    .dataframe tbody tr th:only-of-type {\n",
              "        vertical-align: middle;\n",
              "    }\n",
              "\n",
              "    .dataframe tbody tr th {\n",
              "        vertical-align: top;\n",
              "    }\n",
              "\n",
              "    .dataframe thead th {\n",
              "        text-align: right;\n",
              "    }\n",
              "</style>\n",
              "<table border=\"1\" class=\"dataframe\">\n",
              "  <thead>\n",
              "    <tr style=\"text-align: right;\">\n",
              "      <th></th>\n",
              "      <th>blue</th>\n",
              "      <th>red</th>\n",
              "    </tr>\n",
              "  </thead>\n",
              "  <tbody>\n",
              "    <tr>\n",
              "      <th>Joe</th>\n",
              "      <td>2</td>\n",
              "      <td>3</td>\n",
              "    </tr>\n",
              "    <tr>\n",
              "      <th>Steve</th>\n",
              "      <td>2</td>\n",
              "      <td>3</td>\n",
              "    </tr>\n",
              "    <tr>\n",
              "      <th>Wes</th>\n",
              "      <td>1</td>\n",
              "      <td>2</td>\n",
              "    </tr>\n",
              "    <tr>\n",
              "      <th>Jim</th>\n",
              "      <td>2</td>\n",
              "      <td>3</td>\n",
              "    </tr>\n",
              "    <tr>\n",
              "      <th>Travis</th>\n",
              "      <td>2</td>\n",
              "      <td>3</td>\n",
              "    </tr>\n",
              "  </tbody>\n",
              "</table>\n",
              "</div>"
            ],
            "text/plain": [
              "        blue  red\n",
              "Joe        2    3\n",
              "Steve      2    3\n",
              "Wes        1    2\n",
              "Jim        2    3\n",
              "Travis     2    3"
            ]
          },
          "metadata": {
            "tags": []
          },
          "execution_count": 25
        }
      ]
    },
    {
      "cell_type": "markdown",
      "metadata": {
        "id": "lqacdHvppGC_",
        "colab_type": "text"
      },
      "source": [
        "## Data Aggregation"
      ]
    },
    {
      "cell_type": "code",
      "metadata": {
        "id": "SILaPM9SpGDA",
        "colab_type": "code",
        "colab": {}
      },
      "source": [
        "df"
      ],
      "execution_count": 0,
      "outputs": []
    },
    {
      "cell_type": "code",
      "metadata": {
        "id": "63ab1MChpGDE",
        "colab_type": "code",
        "colab": {}
      },
      "source": [
        "grouped = df.groupby('key1')\n",
        "grouped['data1'].quantile(0.9)"
      ],
      "execution_count": 0,
      "outputs": []
    },
    {
      "cell_type": "code",
      "metadata": {
        "id": "TZaYli89pGDJ",
        "colab_type": "code",
        "colab": {}
      },
      "source": [
        "def peak_to_peak(arr):\n",
        "    return arr.max() - arr.min()\n",
        "grouped.agg(peak_to_peak)"
      ],
      "execution_count": 0,
      "outputs": []
    },
    {
      "cell_type": "code",
      "metadata": {
        "id": "tU79oQklpGDM",
        "colab_type": "code",
        "colab": {}
      },
      "source": [
        "grouped.describe()"
      ],
      "execution_count": 0,
      "outputs": []
    },
    {
      "cell_type": "code",
      "metadata": {
        "id": "RJ_vOM4VpGDP",
        "colab_type": "code",
        "colab": {}
      },
      "source": [
        "tips = pd.read_csv('ch08/tips.csv')\n",
        "# Add tip percentage of total bill\n",
        "tips['tip_pct'] = tips['tip'] / tips['total_bill']\n",
        "tips[:6]"
      ],
      "execution_count": 0,
      "outputs": []
    },
    {
      "cell_type": "markdown",
      "metadata": {
        "id": "AcAGzlpWpGDR",
        "colab_type": "text"
      },
      "source": [
        "### Column-wise and multiple function application"
      ]
    },
    {
      "cell_type": "code",
      "metadata": {
        "id": "6r_7LJCcpGDS",
        "colab_type": "code",
        "colab": {}
      },
      "source": [
        "grouped = tips.groupby(['sex', 'smoker'])"
      ],
      "execution_count": 0,
      "outputs": []
    },
    {
      "cell_type": "code",
      "metadata": {
        "id": "ZUS6VqFvpGDV",
        "colab_type": "code",
        "colab": {}
      },
      "source": [
        "grouped_pct = grouped['tip_pct']\n",
        "grouped_pct.agg('mean')"
      ],
      "execution_count": 0,
      "outputs": []
    },
    {
      "cell_type": "code",
      "metadata": {
        "id": "ygng8i_JpGDY",
        "colab_type": "code",
        "colab": {}
      },
      "source": [
        "grouped_pct.agg(['mean', 'std', peak_to_peak])"
      ],
      "execution_count": 0,
      "outputs": []
    },
    {
      "cell_type": "code",
      "metadata": {
        "id": "EZI2-eaCpGDd",
        "colab_type": "code",
        "colab": {}
      },
      "source": [
        "grouped_pct.agg([('foo', 'mean'), ('bar', np.std)])"
      ],
      "execution_count": 0,
      "outputs": []
    },
    {
      "cell_type": "code",
      "metadata": {
        "id": "-yEAQEycpGDg",
        "colab_type": "code",
        "colab": {}
      },
      "source": [
        "functions = ['count', 'mean', 'max']\n",
        "result = grouped['tip_pct', 'total_bill'].agg(functions)\n",
        "result"
      ],
      "execution_count": 0,
      "outputs": []
    },
    {
      "cell_type": "code",
      "metadata": {
        "id": "iOAadV0HpGDi",
        "colab_type": "code",
        "colab": {}
      },
      "source": [
        "result['tip_pct']"
      ],
      "execution_count": 0,
      "outputs": []
    },
    {
      "cell_type": "code",
      "metadata": {
        "id": "ni1VrZILpGDn",
        "colab_type": "code",
        "colab": {}
      },
      "source": [
        "ftuples = [('Durchschnitt', 'mean'), ('Abweichung', np.var)]\n",
        "grouped['tip_pct', 'total_bill'].agg(ftuples)"
      ],
      "execution_count": 0,
      "outputs": []
    },
    {
      "cell_type": "code",
      "metadata": {
        "id": "RRubORSQpGDq",
        "colab_type": "code",
        "colab": {}
      },
      "source": [
        "grouped.agg({'tip' : np.max, 'size' : 'sum'})"
      ],
      "execution_count": 0,
      "outputs": []
    },
    {
      "cell_type": "code",
      "metadata": {
        "id": "jZcT8lLcpGDs",
        "colab_type": "code",
        "colab": {}
      },
      "source": [
        "grouped.agg({'tip_pct' : ['min', 'max', 'mean', 'std'],\n",
        "             'size' : 'sum'})"
      ],
      "execution_count": 0,
      "outputs": []
    },
    {
      "cell_type": "markdown",
      "metadata": {
        "id": "1OyAwAdkpGDu",
        "colab_type": "text"
      },
      "source": [
        "### Returning aggregated data in \"unindexed\" form"
      ]
    },
    {
      "cell_type": "code",
      "metadata": {
        "id": "UQ9CPXagpGDu",
        "colab_type": "code",
        "colab": {}
      },
      "source": [
        "tips.groupby(['sex', 'smoker'], as_index=False).mean()"
      ],
      "execution_count": 0,
      "outputs": []
    },
    {
      "cell_type": "markdown",
      "metadata": {
        "id": "gNHyH7M0pGDy",
        "colab_type": "text"
      },
      "source": [
        "## Group-wise operations and transformations"
      ]
    },
    {
      "cell_type": "code",
      "metadata": {
        "id": "ywl3k_l8pGD0",
        "colab_type": "code",
        "colab": {}
      },
      "source": [
        "df"
      ],
      "execution_count": 0,
      "outputs": []
    },
    {
      "cell_type": "code",
      "metadata": {
        "id": "AF8cbNsjpGD5",
        "colab_type": "code",
        "colab": {}
      },
      "source": [
        "k1_means = df.groupby('key1').mean().add_prefix('mean_')\n",
        "k1_means"
      ],
      "execution_count": 0,
      "outputs": []
    },
    {
      "cell_type": "code",
      "metadata": {
        "id": "JGlA6ufLpGD9",
        "colab_type": "code",
        "colab": {}
      },
      "source": [
        "pd.merge(df, k1_means, left_on='key1', right_index=True)"
      ],
      "execution_count": 0,
      "outputs": []
    },
    {
      "cell_type": "code",
      "metadata": {
        "id": "V62R0a1ZpGEB",
        "colab_type": "code",
        "colab": {}
      },
      "source": [
        "key = ['one', 'two', 'one', 'two', 'one']\n",
        "people.groupby(key).mean()"
      ],
      "execution_count": 0,
      "outputs": []
    },
    {
      "cell_type": "code",
      "metadata": {
        "id": "Gaylks_bpGED",
        "colab_type": "code",
        "colab": {}
      },
      "source": [
        "people.groupby(key).transform(np.mean)"
      ],
      "execution_count": 0,
      "outputs": []
    },
    {
      "cell_type": "code",
      "metadata": {
        "id": "3v3L__ltpGEF",
        "colab_type": "code",
        "colab": {}
      },
      "source": [
        "def demean(arr):\n",
        "    return arr - arr.mean()\n",
        "demeaned = people.groupby(key).transform(demean)\n",
        "demeaned"
      ],
      "execution_count": 0,
      "outputs": []
    },
    {
      "cell_type": "code",
      "metadata": {
        "id": "JZLrV6b9pGEI",
        "colab_type": "code",
        "colab": {}
      },
      "source": [
        "demeaned.groupby(key).mean()"
      ],
      "execution_count": 0,
      "outputs": []
    },
    {
      "cell_type": "markdown",
      "metadata": {
        "id": "5KiWKEXKpGEL",
        "colab_type": "text"
      },
      "source": [
        "### Apply: General split-apply-combine"
      ]
    },
    {
      "cell_type": "code",
      "metadata": {
        "id": "b_oK2nKvpGEL",
        "colab_type": "code",
        "colab": {}
      },
      "source": [
        "def top(df, n=5, column='tip_pct'):\n",
        "    return df.sort_index(by=column)[-n:]\n",
        "top(tips, n=6)"
      ],
      "execution_count": 0,
      "outputs": []
    },
    {
      "cell_type": "code",
      "metadata": {
        "id": "IA1aFQc-pGEN",
        "colab_type": "code",
        "colab": {}
      },
      "source": [
        "tips.groupby('smoker').apply(top)"
      ],
      "execution_count": 0,
      "outputs": []
    },
    {
      "cell_type": "code",
      "metadata": {
        "id": "sGJLETSYpGES",
        "colab_type": "code",
        "colab": {}
      },
      "source": [
        "tips.groupby(['smoker', 'day']).apply(top, n=1, column='total_bill')"
      ],
      "execution_count": 0,
      "outputs": []
    },
    {
      "cell_type": "code",
      "metadata": {
        "id": "qk5Z31uMpGEU",
        "colab_type": "code",
        "colab": {}
      },
      "source": [
        "result = tips.groupby('smoker')['tip_pct'].describe()\n",
        "result"
      ],
      "execution_count": 0,
      "outputs": []
    },
    {
      "cell_type": "code",
      "metadata": {
        "id": "kOsN2FiBpGEX",
        "colab_type": "code",
        "colab": {}
      },
      "source": [
        "result.unstack('smoker')"
      ],
      "execution_count": 0,
      "outputs": []
    },
    {
      "cell_type": "markdown",
      "metadata": {
        "id": "6f2Xj33RpGEZ",
        "colab_type": "raw"
      },
      "source": [
        "f = lambda x: x.describe()\n",
        "grouped.apply(f)"
      ]
    },
    {
      "cell_type": "markdown",
      "metadata": {
        "id": "QdWRlFGTpGEa",
        "colab_type": "text"
      },
      "source": [
        "#### Suppressing the group keys"
      ]
    },
    {
      "cell_type": "code",
      "metadata": {
        "id": "9at1TJIUpGEb",
        "colab_type": "code",
        "colab": {}
      },
      "source": [
        "tips.groupby('smoker', group_keys=False).apply(top)"
      ],
      "execution_count": 0,
      "outputs": []
    },
    {
      "cell_type": "markdown",
      "metadata": {
        "id": "1MjZu3sVpGEd",
        "colab_type": "text"
      },
      "source": [
        "### Quantile and bucket analysis"
      ]
    },
    {
      "cell_type": "code",
      "metadata": {
        "id": "SVExQmzDpGEe",
        "colab_type": "code",
        "colab": {}
      },
      "source": [
        "frame = DataFrame({'data1': np.random.randn(1000),\n",
        "                   'data2': np.random.randn(1000)})\n",
        "factor = pd.cut(frame.data1, 4)\n",
        "factor[:10]"
      ],
      "execution_count": 0,
      "outputs": []
    },
    {
      "cell_type": "code",
      "metadata": {
        "id": "_RgRyYx-pGEh",
        "colab_type": "code",
        "colab": {}
      },
      "source": [
        "def get_stats(group):\n",
        "    return {'min': group.min(), 'max': group.max(),\n",
        "            'count': group.count(), 'mean': group.mean()}\n",
        "\n",
        "grouped = frame.data2.groupby(factor)\n",
        "grouped.apply(get_stats).unstack()\n",
        "\n",
        "#ADAPT the output is not sorted in the book while this is the case now (swap first two lines)"
      ],
      "execution_count": 0,
      "outputs": []
    },
    {
      "cell_type": "code",
      "metadata": {
        "id": "cJTQTHA6pGEm",
        "colab_type": "code",
        "colab": {}
      },
      "source": [
        "# Return quantile numbers\n",
        "grouping = pd.qcut(frame.data1, 10, labels=False)\n",
        "\n",
        "grouped = frame.data2.groupby(grouping)\n",
        "grouped.apply(get_stats).unstack()"
      ],
      "execution_count": 0,
      "outputs": []
    },
    {
      "cell_type": "markdown",
      "metadata": {
        "id": "EzQLNi8kpGEp",
        "colab_type": "text"
      },
      "source": [
        "### Example: Filling missing values with group-specific values"
      ]
    },
    {
      "cell_type": "code",
      "metadata": {
        "id": "KVBmJ_zmpGEt",
        "colab_type": "code",
        "colab": {}
      },
      "source": [
        "s = Series(np.random.randn(6))\n",
        "s[::2] = np.nan\n",
        "s"
      ],
      "execution_count": 0,
      "outputs": []
    },
    {
      "cell_type": "code",
      "metadata": {
        "id": "TKLXjAKfpGEv",
        "colab_type": "code",
        "colab": {}
      },
      "source": [
        "s.fillna(s.mean())"
      ],
      "execution_count": 0,
      "outputs": []
    },
    {
      "cell_type": "code",
      "metadata": {
        "id": "EiHJHldIpGEy",
        "colab_type": "code",
        "colab": {}
      },
      "source": [
        "states = ['Ohio', 'New York', 'Vermont', 'Florida',\n",
        "          'Oregon', 'Nevada', 'California', 'Idaho']\n",
        "group_key = ['East'] * 4 + ['West'] * 4\n",
        "data = Series(np.random.randn(8), index=states)\n",
        "data[['Vermont', 'Nevada', 'Idaho']] = np.nan\n",
        "data"
      ],
      "execution_count": 0,
      "outputs": []
    },
    {
      "cell_type": "code",
      "metadata": {
        "id": "cD__C7nTpGE1",
        "colab_type": "code",
        "colab": {}
      },
      "source": [
        "data.groupby(group_key).mean()"
      ],
      "execution_count": 0,
      "outputs": []
    },
    {
      "cell_type": "code",
      "metadata": {
        "id": "utO7qiK-pGE4",
        "colab_type": "code",
        "colab": {}
      },
      "source": [
        "fill_mean = lambda g: g.fillna(g.mean())\n",
        "data.groupby(group_key).apply(fill_mean)"
      ],
      "execution_count": 0,
      "outputs": []
    },
    {
      "cell_type": "code",
      "metadata": {
        "id": "J5RH_bIPpGE7",
        "colab_type": "code",
        "colab": {}
      },
      "source": [
        "fill_values = {'East': 0.5, 'West': -1}\n",
        "fill_func = lambda g: g.fillna(fill_values[g.name])\n",
        "\n",
        "data.groupby(group_key).apply(fill_func)"
      ],
      "execution_count": 0,
      "outputs": []
    },
    {
      "cell_type": "markdown",
      "metadata": {
        "id": "cvpbRppPpGE-",
        "colab_type": "text"
      },
      "source": [
        "### Example: Random sampling and permutation"
      ]
    },
    {
      "cell_type": "code",
      "metadata": {
        "id": "y843fu88pGE_",
        "colab_type": "code",
        "colab": {}
      },
      "source": [
        "# Hearts, Spades, Clubs, Diamonds\n",
        "suits = ['H', 'S', 'C', 'D']\n",
        "card_val = (range(1, 11) + [10] * 3) * 4\n",
        "base_names = ['A'] + range(2, 11) + ['J', 'K', 'Q']\n",
        "cards = []\n",
        "for suit in ['H', 'S', 'C', 'D']:\n",
        "    cards.extend(str(num) + suit for num in base_names)\n",
        "\n",
        "deck = Series(card_val, index=cards)"
      ],
      "execution_count": 0,
      "outputs": []
    },
    {
      "cell_type": "code",
      "metadata": {
        "id": "91LfvkM6pGFF",
        "colab_type": "code",
        "colab": {}
      },
      "source": [
        "deck[:13]"
      ],
      "execution_count": 0,
      "outputs": []
    },
    {
      "cell_type": "code",
      "metadata": {
        "id": "2rYFJtEOpGFL",
        "colab_type": "code",
        "colab": {}
      },
      "source": [
        "def draw(deck, n=5):\n",
        "    return deck.take(np.random.permutation(len(deck))[:n])\n",
        "draw(deck)"
      ],
      "execution_count": 0,
      "outputs": []
    },
    {
      "cell_type": "code",
      "metadata": {
        "id": "bAqr67cHpGFQ",
        "colab_type": "code",
        "colab": {}
      },
      "source": [
        "get_suit = lambda card: card[-1] # last letter is suit\n",
        "deck.groupby(get_suit).apply(draw, n=2)"
      ],
      "execution_count": 0,
      "outputs": []
    },
    {
      "cell_type": "code",
      "metadata": {
        "id": "Ys5Fv-dGpGFS",
        "colab_type": "code",
        "colab": {}
      },
      "source": [
        "# alternatively\n",
        "deck.groupby(get_suit, group_keys=False).apply(draw, n=2)"
      ],
      "execution_count": 0,
      "outputs": []
    },
    {
      "cell_type": "markdown",
      "metadata": {
        "id": "-3CRIfrApGFU",
        "colab_type": "text"
      },
      "source": [
        "### Example: Group weighted average and correlation"
      ]
    },
    {
      "cell_type": "code",
      "metadata": {
        "id": "vLB8K68NpGFU",
        "colab_type": "code",
        "colab": {}
      },
      "source": [
        "df = DataFrame({'category': ['a', 'a', 'a', 'a', 'b', 'b', 'b', 'b'],\n",
        "                'data': np.random.randn(8),\n",
        "                'weights': np.random.rand(8)})\n",
        "df"
      ],
      "execution_count": 0,
      "outputs": []
    },
    {
      "cell_type": "code",
      "metadata": {
        "id": "jxsDHHIkpGFW",
        "colab_type": "code",
        "colab": {}
      },
      "source": [
        "grouped = df.groupby('category')\n",
        "get_wavg = lambda g: np.average(g['data'], weights=g['weights'])\n",
        "grouped.apply(get_wavg)"
      ],
      "execution_count": 0,
      "outputs": []
    },
    {
      "cell_type": "code",
      "metadata": {
        "id": "tq5L2X6EpGFY",
        "colab_type": "code",
        "colab": {}
      },
      "source": [
        "close_px = pd.read_csv('ch09/stock_px.csv', parse_dates=True, index_col=0)\n",
        "close_px.info()"
      ],
      "execution_count": 0,
      "outputs": []
    },
    {
      "cell_type": "code",
      "metadata": {
        "id": "GoamPRN1pGFa",
        "colab_type": "code",
        "colab": {}
      },
      "source": [
        "close_px[-4:]"
      ],
      "execution_count": 0,
      "outputs": []
    },
    {
      "cell_type": "code",
      "metadata": {
        "id": "3rIbZhfipGFc",
        "colab_type": "code",
        "colab": {}
      },
      "source": [
        "rets = close_px.pct_change().dropna()\n",
        "spx_corr = lambda x: x.corrwith(x['SPX'])\n",
        "by_year = rets.groupby(lambda x: x.year)\n",
        "by_year.apply(spx_corr)"
      ],
      "execution_count": 0,
      "outputs": []
    },
    {
      "cell_type": "code",
      "metadata": {
        "id": "CSAqtWhepGFe",
        "colab_type": "code",
        "colab": {}
      },
      "source": [
        "# Annual correlation of Apple with Microsoft\n",
        "by_year.apply(lambda g: g['AAPL'].corr(g['MSFT']))"
      ],
      "execution_count": 0,
      "outputs": []
    },
    {
      "cell_type": "markdown",
      "metadata": {
        "id": "aN7eWMjApGFj",
        "colab_type": "text"
      },
      "source": [
        "### Example: Group-wise linear regression"
      ]
    },
    {
      "cell_type": "code",
      "metadata": {
        "id": "Zb7mphBepGFj",
        "colab_type": "code",
        "colab": {}
      },
      "source": [
        "import statsmodels.api as sm\n",
        "def regress(data, yvar, xvars):\n",
        "    Y = data[yvar]\n",
        "    X = data[xvars]\n",
        "    X['intercept'] = 1.\n",
        "    result = sm.OLS(Y, X).fit()\n",
        "    return result.params"
      ],
      "execution_count": 0,
      "outputs": []
    },
    {
      "cell_type": "code",
      "metadata": {
        "id": "LyHYBERcpGFl",
        "colab_type": "code",
        "colab": {}
      },
      "source": [
        "by_year.apply(regress, 'AAPL', ['SPX'])"
      ],
      "execution_count": 0,
      "outputs": []
    },
    {
      "cell_type": "markdown",
      "metadata": {
        "id": "zPaIGFhJpGFm",
        "colab_type": "text"
      },
      "source": [
        "## Pivot tables and Cross-tabulation"
      ]
    },
    {
      "cell_type": "code",
      "metadata": {
        "id": "BAe-vETjpGFn",
        "colab_type": "code",
        "colab": {}
      },
      "source": [
        "tips.pivot_table(index=['sex', 'smoker'])"
      ],
      "execution_count": 0,
      "outputs": []
    },
    {
      "cell_type": "code",
      "metadata": {
        "id": "zHrjuXl6pGFp",
        "colab_type": "code",
        "colab": {}
      },
      "source": [
        "tips.pivot_table(['tip_pct', 'size'], index=['sex', 'day'],\n",
        "                 columns='smoker')"
      ],
      "execution_count": 0,
      "outputs": []
    },
    {
      "cell_type": "code",
      "metadata": {
        "id": "k4K8Ja7ppGFw",
        "colab_type": "code",
        "colab": {}
      },
      "source": [
        "tips.pivot_table(['tip_pct', 'size'], index=['sex', 'day'],\n",
        "                 columns='smoker', margins=True)"
      ],
      "execution_count": 0,
      "outputs": []
    },
    {
      "cell_type": "code",
      "metadata": {
        "id": "049NOiIYpGFy",
        "colab_type": "code",
        "colab": {}
      },
      "source": [
        "tips.pivot_table('tip_pct', index=['sex', 'smoker'], columns='day',\n",
        "                 aggfunc=len, margins=True)"
      ],
      "execution_count": 0,
      "outputs": []
    },
    {
      "cell_type": "code",
      "metadata": {
        "id": "Pl8JmeghpGF0",
        "colab_type": "code",
        "colab": {}
      },
      "source": [
        "tips.pivot_table('size', index=['time', 'sex', 'smoker'],\n",
        "                 columns='day', aggfunc='sum', fill_value=0)"
      ],
      "execution_count": 0,
      "outputs": []
    },
    {
      "cell_type": "markdown",
      "metadata": {
        "id": "UZfRcQdspGF1",
        "colab_type": "text"
      },
      "source": [
        "### Cross-tabulations: crosstab"
      ]
    },
    {
      "cell_type": "code",
      "metadata": {
        "id": "BM5h9y_OpGF1",
        "colab_type": "code",
        "colab": {}
      },
      "source": [
        "from StringIO import StringIO\n",
        "data = \"\"\"\\\n",
        "Sample    Gender    Handedness\n",
        "1    Female    Right-handed\n",
        "2    Male    Left-handed\n",
        "3    Female    Right-handed\n",
        "4    Male    Right-handed\n",
        "5    Male    Left-handed\n",
        "6    Male    Right-handed\n",
        "7    Female    Right-handed\n",
        "8    Female    Left-handed\n",
        "9    Male    Right-handed\n",
        "10    Female    Right-handed\"\"\"\n",
        "data = pd.read_table(StringIO(data), sep='\\s+')"
      ],
      "execution_count": 0,
      "outputs": []
    },
    {
      "cell_type": "code",
      "metadata": {
        "id": "dkvNMzWApGF6",
        "colab_type": "code",
        "colab": {}
      },
      "source": [
        "data"
      ],
      "execution_count": 0,
      "outputs": []
    },
    {
      "cell_type": "code",
      "metadata": {
        "id": "HFJqxblepGGD",
        "colab_type": "code",
        "colab": {}
      },
      "source": [
        "pd.crosstab(data.Gender, data.Handedness, margins=True)"
      ],
      "execution_count": 0,
      "outputs": []
    },
    {
      "cell_type": "code",
      "metadata": {
        "id": "qj8UQELMpGGG",
        "colab_type": "code",
        "colab": {}
      },
      "source": [
        "pd.crosstab([tips.time, tips.day], tips.smoker, margins=True)"
      ],
      "execution_count": 0,
      "outputs": []
    },
    {
      "cell_type": "markdown",
      "metadata": {
        "id": "VEJVn7A0pGGI",
        "colab_type": "text"
      },
      "source": [
        "## Example: 2012 Federal Election Commission Database"
      ]
    },
    {
      "cell_type": "code",
      "metadata": {
        "id": "GQ2xb9YEpGGJ",
        "colab_type": "code",
        "colab": {}
      },
      "source": [
        "fec = pd.read_csv('ch09/P00000001-ALL.csv')"
      ],
      "execution_count": 0,
      "outputs": []
    },
    {
      "cell_type": "code",
      "metadata": {
        "id": "qd4LcDCGpGGK",
        "colab_type": "code",
        "colab": {}
      },
      "source": [
        "fec.info()"
      ],
      "execution_count": 0,
      "outputs": []
    },
    {
      "cell_type": "code",
      "metadata": {
        "id": "rlbWEwTvpGGL",
        "colab_type": "code",
        "colab": {}
      },
      "source": [
        "fec.ix[123456]"
      ],
      "execution_count": 0,
      "outputs": []
    },
    {
      "cell_type": "code",
      "metadata": {
        "id": "mvMQG_JMpGGM",
        "colab_type": "code",
        "colab": {}
      },
      "source": [
        "unique_cands = fec.cand_nm.unique()\n",
        "unique_cands"
      ],
      "execution_count": 0,
      "outputs": []
    },
    {
      "cell_type": "code",
      "metadata": {
        "id": "M1I0Zbu5pGGN",
        "colab_type": "code",
        "colab": {}
      },
      "source": [
        "unique_cands[2]"
      ],
      "execution_count": 0,
      "outputs": []
    },
    {
      "cell_type": "code",
      "metadata": {
        "id": "FyzKt4vipGGO",
        "colab_type": "code",
        "colab": {}
      },
      "source": [
        "parties = {'Bachmann, Michelle': 'Republican',\n",
        "           'Cain, Herman': 'Republican',\n",
        "           'Gingrich, Newt': 'Republican',\n",
        "           'Huntsman, Jon': 'Republican',\n",
        "           'Johnson, Gary Earl': 'Republican',\n",
        "           'McCotter, Thaddeus G': 'Republican',\n",
        "           'Obama, Barack': 'Democrat',\n",
        "           'Paul, Ron': 'Republican',\n",
        "           'Pawlenty, Timothy': 'Republican',\n",
        "           'Perry, Rick': 'Republican',\n",
        "           \"Roemer, Charles E. 'Buddy' III\": 'Republican',\n",
        "           'Romney, Mitt': 'Republican',\n",
        "           'Santorum, Rick': 'Republican'}"
      ],
      "execution_count": 0,
      "outputs": []
    },
    {
      "cell_type": "code",
      "metadata": {
        "id": "q3piceCKpGGP",
        "colab_type": "code",
        "colab": {}
      },
      "source": [
        "fec.cand_nm[123456:123461]"
      ],
      "execution_count": 0,
      "outputs": []
    },
    {
      "cell_type": "code",
      "metadata": {
        "id": "j6ewmVI8pGGR",
        "colab_type": "code",
        "colab": {}
      },
      "source": [
        "fec.cand_nm[123456:123461].map(parties)"
      ],
      "execution_count": 0,
      "outputs": []
    },
    {
      "cell_type": "code",
      "metadata": {
        "id": "7JTKrTwvpGGS",
        "colab_type": "code",
        "colab": {}
      },
      "source": [
        "# Add it as a column\n",
        "fec['party'] = fec.cand_nm.map(parties)"
      ],
      "execution_count": 0,
      "outputs": []
    },
    {
      "cell_type": "code",
      "metadata": {
        "id": "-5BONvvqpGGV",
        "colab_type": "code",
        "colab": {}
      },
      "source": [
        "fec['party'].value_counts()"
      ],
      "execution_count": 0,
      "outputs": []
    },
    {
      "cell_type": "code",
      "metadata": {
        "id": "UhewRiHVpGGX",
        "colab_type": "code",
        "colab": {}
      },
      "source": [
        "(fec.contb_receipt_amt > 0).value_counts()"
      ],
      "execution_count": 0,
      "outputs": []
    },
    {
      "cell_type": "code",
      "metadata": {
        "id": "9qDNs-RNpGGY",
        "colab_type": "code",
        "colab": {}
      },
      "source": [
        "fec = fec[fec.contb_receipt_amt > 0]"
      ],
      "execution_count": 0,
      "outputs": []
    },
    {
      "cell_type": "code",
      "metadata": {
        "id": "i6wn2TN1pGGZ",
        "colab_type": "code",
        "colab": {}
      },
      "source": [
        "fec_mrbo = fec[fec.cand_nm.isin(['Obama, Barack', 'Romney, Mitt'])]"
      ],
      "execution_count": 0,
      "outputs": []
    },
    {
      "cell_type": "markdown",
      "metadata": {
        "id": "od7FXfKzpGGa",
        "colab_type": "text"
      },
      "source": [
        "### Donation statistics by occupation and employer"
      ]
    },
    {
      "cell_type": "code",
      "metadata": {
        "id": "4vZ7L60ApGGa",
        "colab_type": "code",
        "colab": {}
      },
      "source": [
        "fec.contbr_occupation.value_counts()[:10]"
      ],
      "execution_count": 0,
      "outputs": []
    },
    {
      "cell_type": "code",
      "metadata": {
        "id": "y3TwwQ5LpGGb",
        "colab_type": "code",
        "colab": {}
      },
      "source": [
        "occ_mapping = {\n",
        "   'INFORMATION REQUESTED PER BEST EFFORTS' : 'NOT PROVIDED',\n",
        "   'INFORMATION REQUESTED' : 'NOT PROVIDED',\n",
        "   'INFORMATION REQUESTED (BEST EFFORTS)' : 'NOT PROVIDED',\n",
        "   'C.E.O.': 'CEO'\n",
        "}\n",
        "\n",
        "# If no mapping provided, return x\n",
        "f = lambda x: occ_mapping.get(x, x)\n",
        "fec.contbr_occupation = fec.contbr_occupation.map(f)"
      ],
      "execution_count": 0,
      "outputs": []
    },
    {
      "cell_type": "code",
      "metadata": {
        "id": "Qd-HZZgepGGd",
        "colab_type": "code",
        "colab": {}
      },
      "source": [
        "emp_mapping = {\n",
        "   'INFORMATION REQUESTED PER BEST EFFORTS' : 'NOT PROVIDED',\n",
        "   'INFORMATION REQUESTED' : 'NOT PROVIDED',\n",
        "   'SELF' : 'SELF-EMPLOYED',\n",
        "   'SELF EMPLOYED' : 'SELF-EMPLOYED',\n",
        "}\n",
        "\n",
        "# If no mapping provided, return x\n",
        "f = lambda x: emp_mapping.get(x, x)\n",
        "fec.contbr_employer = fec.contbr_employer.map(f)"
      ],
      "execution_count": 0,
      "outputs": []
    },
    {
      "cell_type": "code",
      "metadata": {
        "id": "fG8Yvc76pGGe",
        "colab_type": "code",
        "colab": {}
      },
      "source": [
        "by_occupation = fec.pivot_table('contb_receipt_amt',\n",
        "                                index='contbr_occupation',\n",
        "                                columns='party', aggfunc='sum')"
      ],
      "execution_count": 0,
      "outputs": []
    },
    {
      "cell_type": "code",
      "metadata": {
        "id": "0Rv9sHnapGGf",
        "colab_type": "code",
        "colab": {}
      },
      "source": [
        "over_2mm = by_occupation[by_occupation.sum(1) > 2000000]\n",
        "over_2mm"
      ],
      "execution_count": 0,
      "outputs": []
    },
    {
      "cell_type": "code",
      "metadata": {
        "id": "7rpk5COCpGGg",
        "colab_type": "code",
        "colab": {}
      },
      "source": [
        "over_2mm.plot(kind='barh')"
      ],
      "execution_count": 0,
      "outputs": []
    },
    {
      "cell_type": "code",
      "metadata": {
        "id": "b1_kTmQnpGGh",
        "colab_type": "code",
        "colab": {}
      },
      "source": [
        "def get_top_amounts(group, key, n=5):\n",
        "    totals = group.groupby(key)['contb_receipt_amt'].sum()\n",
        "\n",
        "    # Order totals by key in descending order\n",
        "    return totals.order(ascending=False)[-n:]"
      ],
      "execution_count": 0,
      "outputs": []
    },
    {
      "cell_type": "code",
      "metadata": {
        "id": "SjP5FDEspGGi",
        "colab_type": "code",
        "colab": {}
      },
      "source": [
        "grouped = fec_mrbo.groupby('cand_nm')\n",
        "grouped.apply(get_top_amounts, 'contbr_occupation', n=7)"
      ],
      "execution_count": 0,
      "outputs": []
    },
    {
      "cell_type": "code",
      "metadata": {
        "id": "BlRgjCshpGGj",
        "colab_type": "code",
        "colab": {}
      },
      "source": [
        "grouped.apply(get_top_amounts, 'contbr_employer', n=10)"
      ],
      "execution_count": 0,
      "outputs": []
    },
    {
      "cell_type": "markdown",
      "metadata": {
        "id": "MPU2q6S2pGGk",
        "colab_type": "text"
      },
      "source": [
        "### Bucketing donation amounts"
      ]
    },
    {
      "cell_type": "code",
      "metadata": {
        "id": "xfYfezpfpGGl",
        "colab_type": "code",
        "colab": {}
      },
      "source": [
        "bins = np.array([0, 1, 10, 100, 1000, 10000, 100000, 1000000, 10000000])\n",
        "labels = pd.cut(fec_mrbo.contb_receipt_amt, bins)\n",
        "labels"
      ],
      "execution_count": 0,
      "outputs": []
    },
    {
      "cell_type": "code",
      "metadata": {
        "id": "bOTBI7a4pGGm",
        "colab_type": "code",
        "colab": {}
      },
      "source": [
        "grouped = fec_mrbo.groupby(['cand_nm', labels])\n",
        "grouped.size().unstack(0)"
      ],
      "execution_count": 0,
      "outputs": []
    },
    {
      "cell_type": "code",
      "metadata": {
        "id": "xZcgUgADpGGo",
        "colab_type": "code",
        "colab": {}
      },
      "source": [
        "bucket_sums = grouped.contb_receipt_amt.sum().unstack(0)\n",
        "bucket_sums"
      ],
      "execution_count": 0,
      "outputs": []
    },
    {
      "cell_type": "code",
      "metadata": {
        "id": "JBY3JIKMpGGp",
        "colab_type": "code",
        "colab": {}
      },
      "source": [
        "normed_sums = bucket_sums.div(bucket_sums.sum(axis=1), axis=0)\n",
        "normed_sums"
      ],
      "execution_count": 0,
      "outputs": []
    },
    {
      "cell_type": "code",
      "metadata": {
        "id": "T_i10W_QpGGr",
        "colab_type": "code",
        "colab": {}
      },
      "source": [
        "normed_sums[:-2].plot(kind='barh', stacked=True)"
      ],
      "execution_count": 0,
      "outputs": []
    },
    {
      "cell_type": "markdown",
      "metadata": {
        "id": "9YJBFaKFpGGu",
        "colab_type": "text"
      },
      "source": [
        "### Donation statistics by state"
      ]
    },
    {
      "cell_type": "code",
      "metadata": {
        "id": "yzKwK7xUpGGv",
        "colab_type": "code",
        "colab": {}
      },
      "source": [
        "grouped = fec_mrbo.groupby(['cand_nm', 'contbr_st'])\n",
        "totals = grouped.contb_receipt_amt.sum().unstack(0).fillna(0)\n",
        "totals = totals[totals.sum(1) > 100000]\n",
        "totals[:10]"
      ],
      "execution_count": 0,
      "outputs": []
    },
    {
      "cell_type": "code",
      "metadata": {
        "id": "Jy015CN7pGGy",
        "colab_type": "code",
        "colab": {}
      },
      "source": [
        "percent = totals.div(totals.sum(1), axis=0)\n",
        "percent[:10]"
      ],
      "execution_count": 0,
      "outputs": []
    }
  ]
}