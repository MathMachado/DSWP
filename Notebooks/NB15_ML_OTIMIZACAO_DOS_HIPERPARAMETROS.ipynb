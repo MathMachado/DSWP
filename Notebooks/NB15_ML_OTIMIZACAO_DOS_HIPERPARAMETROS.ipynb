{
  "nbformat": 4,
  "nbformat_minor": 0,
  "metadata": {
    "colab": {
      "private_outputs": true,
      "provenance": []
    },
    "kernelspec": {
      "name": "python3",
      "display_name": "Python 3"
    },
    "language_info": {
      "name": "python"
    }
  },
  "cells": [
    {
      "cell_type": "code",
      "execution_count": null,
      "metadata": {
        "id": "3wMMeiIseUoW"
      },
      "outputs": [],
      "source": []
    },
    {
      "cell_type": "markdown",
      "source": [
        "# OBJETIVO\n",
        "- O ajuste de hiperparâmetros é uma etapa crucial no pipeline de Machine Learning. Neste vídeo, você aprenderá como otimizar os hiperparâmetros de dois dos modelos supervisionados mais usados: Random Forest e XGBoost. Vamos explorar como ajustar esses modelos para melhorar a acurácia e robustez das previsões, utilizando ferramentas como GridSearch e RandomizedSearch."
      ],
      "metadata": {
        "id": "a3hzPbiaeZOL"
      }
    },
    {
      "cell_type": "code",
      "source": [],
      "metadata": {
        "id": "UuC4rbiDefjz"
      },
      "execution_count": null,
      "outputs": []
    }
  ]
}
