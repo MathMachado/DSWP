{
  "nbformat": 4,
  "nbformat_minor": 0,
  "metadata": {
    "colab": {
      "name": "Untitled36.ipynb",
      "provenance": [],
      "private_outputs": true,
      "include_colab_link": true
    },
    "kernelspec": {
      "name": "python3",
      "display_name": "Python 3"
    }
  },
  "cells": [
    {
      "cell_type": "markdown",
      "metadata": {
        "id": "view-in-github",
        "colab_type": "text"
      },
      "source": [
        "<a href=\"https://colab.research.google.com/github/MathMachado/DSWP/blob/master/Notebooks/Hackaton_Measuring_Accuracy.ipynb\" target=\"_parent\"><img src=\"https://colab.research.google.com/assets/colab-badge.svg\" alt=\"Open In Colab\"/></a>"
      ]
    },
    {
      "cell_type": "code",
      "metadata": {
        "id": "cc8igUPYufYn",
        "colab_type": "code",
        "colab": {}
      },
      "source": [
        "d_Resultado= {'id':[1,2,3,4,5,6,7,8],\n",
        "              'Resultado': [0,0,0,1,1,1,0,0]}\n",
        "\n",
        "d_Participante= {'id':[1,2,3,4,5,6,7,8],\n",
        "                 'Predito': [0,0,1,1,1,1,1,0]}"
      ],
      "execution_count": 0,
      "outputs": []
    },
    {
      "cell_type": "code",
      "metadata": {
        "id": "CZt3pw8HuvH4",
        "colab_type": "code",
        "colab": {}
      },
      "source": [
        "import numpy as np\n",
        "import pandas as pd\n",
        "\n",
        "df_Resultado= pd.DataFrame(d_Resultado).set_index('id')\n",
        "df_Participante= pd.DataFrame(d_Participante).set_index('id')\n",
        "\n",
        "#df_Resultado"
      ],
      "execution_count": 0,
      "outputs": []
    },
    {
      "cell_type": "code",
      "metadata": {
        "id": "w245OhoU0GGi",
        "colab_type": "code",
        "colab": {}
      },
      "source": [
        "#df_Participante"
      ],
      "execution_count": 0,
      "outputs": []
    },
    {
      "cell_type": "code",
      "metadata": {
        "id": "BMUIKRJlu4dv",
        "colab_type": "code",
        "colab": {}
      },
      "source": [
        "#df_Resultado= pd.merge(df_Resultado, df_Participante, on= 'id')\n",
        "#df_Resultado"
      ],
      "execution_count": 0,
      "outputs": []
    },
    {
      "cell_type": "code",
      "metadata": {
        "id": "CpBujBeI5R7l",
        "colab_type": "code",
        "colab": {}
      },
      "source": [
        "def Calcula_Acuracia(df_Resultado, df_Participante):\n",
        "    df_Resultado= pd.merge(df_Resultado, df_Participante, on= 'id')\n",
        "    df_Resultado['Acertos']= df_Resultado['Resultado'] == df_Resultado['Predito']\n",
        "    print(f\"Acertos: {df_Resultado['Acertos'].sum()}, Total: {df_Resultado.shape[0]}, Acurácia: {df_Resultado['Acertos'].sum()/df_Resultado.shape[0]}\")"
      ],
      "execution_count": 0,
      "outputs": []
    },
    {
      "cell_type": "code",
      "metadata": {
        "id": "EEPEsety5uKC",
        "colab_type": "code",
        "colab": {}
      },
      "source": [
        "Calcula_Acuracia(df_Resultado, df_Participante)"
      ],
      "execution_count": 0,
      "outputs": []
    }
  ]
}