{
  "nbformat": 4,
  "nbformat_minor": 0,
  "metadata": {
    "colab": {
      "name": "NB01_05__Datas_Horas.ipynb",
      "provenance": [],
      "private_outputs": true,
      "include_colab_link": true
    },
    "kernelspec": {
      "name": "python3",
      "display_name": "Python 3"
    }
  },
  "cells": [
    {
      "cell_type": "markdown",
      "metadata": {
        "id": "view-in-github",
        "colab_type": "text"
      },
      "source": [
        "<a href=\"https://colab.research.google.com/github/MathMachado/DSWP/blob/master/Notebooks/NB01_05__Datas_Horas.ipynb\" target=\"_parent\"><img src=\"https://colab.research.google.com/assets/colab-badge.svg\" alt=\"Open In Colab\"/></a>"
      ]
    },
    {
      "cell_type": "markdown",
      "metadata": {
        "id": "1r0bQDDsjBq9"
      },
      "source": [
        "<center><h1><b><i>TRABALHANDO COM DATAS E HORAS</i></b></h1></center>\n",
        "\n"
      ]
    },
    {
      "cell_type": "markdown",
      "metadata": {
        "id": "iTjrrQ8wB2tA"
      },
      "source": [
        "# **AGENDA**:\n",
        "> Nesta capítulo, vamos abordar os seguintes assuntos:\n",
        "\n",
        "* Data & Hora\n",
        "* Capturar dados relativos ao tempo: Data e Horra\n",
        "* Formatar dados do tempo\n",
        "* Calendário dado ano e mês\n",
        "* Gerar datas\n",
        "* Gerar horas\n",
        "* Diferença entre datas e horas\n",
        "* Formatos para datetime()\n",
        "* Calcular datas futuras\n",
        "* Algumas funções interessantes\n",
        "* Wrap Up\n",
        "* Exercícios"
      ]
    },
    {
      "cell_type": "markdown",
      "metadata": {
        "id": "1mixpcF6jQKM"
      },
      "source": [
        "___\n",
        "# **REFERÊNCIAS**"
      ]
    },
    {
      "cell_type": "markdown",
      "metadata": {
        "id": "A-1vOg_nGowq"
      },
      "source": [
        "# **Data & Hora**\n",
        "\n",
        "> O Python trabalha com o que se chama de TimeTuple, ou seja, retorna uma tupla com as seguintes informações:\n",
        "\n",
        "| Indice | Atributo | valor |\n",
        "|--------|----------|-------|\n",
        "| 0 | tm_year | Ano, com 4 dígitos |\n",
        "| 1 | tm_mon | Mês, de 1 a 12 |\n",
        "| 2 | tm_mday | Dia, de 1 a 31 |\n",
        "| 3 | tm_hour | Hora, de 0 a 23 |\n",
        "| 4 | tm_min | Minutos, de 0 a 59 |\n",
        "| 5 | tm_sec | Segundos, de 0 a 61 |\n",
        "| 6 | tm_wday | Dia da semana, de 0 a 6, onde 0 = Segunda |\n",
        "| 7 | tm_yday | Dia do ano, de 1 a 366 |\n",
        "| 8 | tm_isdt | Valores possíveis: -1, 0, 1 |\n",
        "\n",
        "\n",
        "\n"
      ]
    },
    {
      "cell_type": "markdown",
      "metadata": {
        "id": "CY-TgbdiOU1e"
      },
      "source": [
        "___\n",
        "# **Capturar dados relativos ao tempo: Data e Hora**"
      ]
    },
    {
      "cell_type": "code",
      "metadata": {
        "id": "Z4w3dhkCOU_O"
      },
      "source": [
        "import time\n",
        "import pandas as pd\n",
        "import numpy as np\n",
        "\n",
        "hora_local = time.localtime(time.time())\n",
        "print(\"A hora local é:\", hora_local)"
      ],
      "execution_count": null,
      "outputs": []
    },
    {
      "cell_type": "code",
      "metadata": {
        "id": "OIX62FgdZhbU"
      },
      "source": [
        "list(hora_local)"
      ],
      "execution_count": null,
      "outputs": []
    },
    {
      "cell_type": "markdown",
      "metadata": {
        "id": "u03PGZeZTblY"
      },
      "source": [
        "Como dito anteriormente, temos como resposta uma tupla. Desta forma, podemos selecionar convenientemente cada parte desta tupla.\n",
        "\n",
        "Por exemplo, se quisermos somente o ano, basta..."
      ]
    },
    {
      "cell_type": "code",
      "metadata": {
        "id": "DhKDiZyYUfP5"
      },
      "source": [
        "print(\"Ano..........:\", hora_local[0])\n",
        "print(\"Mes..........:\", hora_local[1])\n",
        "print(\"Dia..........:\", hora_local[2])\n",
        "print(\"Hora.........:\", hora_local[3])\n",
        "print(\"Minutos......:\", hora_local[4])\n",
        "print(\"Segundos.....:\", hora_local[5])\n",
        "print(\"Dia da Semana:\", hora_local[6])"
      ],
      "execution_count": null,
      "outputs": []
    },
    {
      "cell_type": "markdown",
      "metadata": {
        "id": "wB_gV0--VTME"
      },
      "source": [
        "___\n",
        "# **Formatar dados do tempo**\n",
        "* Função asctime() - Este método retorna o tempo corrente numa string de 24 caracteres."
      ]
    },
    {
      "cell_type": "code",
      "metadata": {
        "id": "CLaKyMvmbHJr"
      },
      "source": [
        "time.asctime()"
      ],
      "execution_count": null,
      "outputs": []
    },
    {
      "cell_type": "code",
      "metadata": {
        "id": "jJ0ukjYdVdWe"
      },
      "source": [
        "hora_local = time.asctime(time.localtime(time.time()))\n",
        "print(\"A hora local é:\", hora_local)"
      ],
      "execution_count": null,
      "outputs": []
    },
    {
      "cell_type": "markdown",
      "metadata": {
        "id": "SiAHAqZvWmkd"
      },
      "source": [
        "Ou, se você preferir, podemos ter os dados numa lista usando a função split(), conforme a seguir:"
      ]
    },
    {
      "cell_type": "code",
      "metadata": {
        "id": "9xn_BdC9aRik"
      },
      "source": [
        "# Conteúdo da variável\n",
        "hora_local"
      ],
      "execution_count": null,
      "outputs": []
    },
    {
      "cell_type": "code",
      "metadata": {
        "id": "lJd0ghETWbnY"
      },
      "source": [
        "hora_local= hora_local.split(' ')\n",
        "hora_local"
      ],
      "execution_count": null,
      "outputs": []
    },
    {
      "cell_type": "code",
      "metadata": {
        "id": "lS_oUhjlW1Xl"
      },
      "source": [
        "# Mostra a hora\n",
        "hora_local[4]"
      ],
      "execution_count": null,
      "outputs": []
    },
    {
      "cell_type": "markdown",
      "metadata": {
        "id": "kg7kjBmTapou"
      },
      "source": [
        "OU..."
      ]
    },
    {
      "cell_type": "code",
      "metadata": {
        "id": "JtqjyLvlaqqm"
      },
      "source": [
        "import datetime\n",
        "\n",
        "hora_local = datetime.datetime.now()\n",
        "print(hora_local)"
      ],
      "execution_count": null,
      "outputs": []
    },
    {
      "cell_type": "markdown",
      "metadata": {
        "id": "-uZ4MWzEa4uS"
      },
      "source": [
        "Veja que hora_local é um objeto. A seguir, listamos todos os métodos associados a este objeto."
      ]
    },
    {
      "cell_type": "code",
      "metadata": {
        "id": "NCYkmRLraxad"
      },
      "source": [
        "dir(hora_local)"
      ],
      "execution_count": null,
      "outputs": []
    },
    {
      "cell_type": "markdown",
      "metadata": {
        "id": "JvLt35Aja_nQ"
      },
      "source": [
        "Então, se quisermos..."
      ]
    },
    {
      "cell_type": "code",
      "metadata": {
        "id": "Aoo12fG1bDTX"
      },
      "source": [
        "# O ano...\n",
        "print(hora_local.year)"
      ],
      "execution_count": null,
      "outputs": []
    },
    {
      "cell_type": "code",
      "metadata": {
        "id": "I0iOu0eKaoI1"
      },
      "source": [
        "# O mês...\n",
        "print(hora_local.month)"
      ],
      "execution_count": null,
      "outputs": []
    },
    {
      "cell_type": "code",
      "metadata": {
        "id": "HIADF262bMgQ"
      },
      "source": [
        "# O dia...\n",
        "print(hora_local.day)"
      ],
      "execution_count": null,
      "outputs": []
    },
    {
      "cell_type": "markdown",
      "metadata": {
        "id": "H-E4NfbnXAY3"
      },
      "source": [
        "___\n",
        "# **Calendário para um dado ano e mês**\n",
        "* Se quisermos ver o calendário, basta..."
      ]
    },
    {
      "cell_type": "code",
      "metadata": {
        "id": "I_EJfyu6XHQf"
      },
      "source": [
        "import calendar\n",
        "\n",
        "meu_calendario = calendar.month(hora_local.year, hora_local.month)\n",
        "print(meu_calendario)"
      ],
      "execution_count": null,
      "outputs": []
    },
    {
      "cell_type": "code",
      "metadata": {
        "id": "MaYLQL7QYkCX"
      },
      "source": [
        "# Define 'Domingo' como primeiro dia da semana\n",
        "# Considere que Seg= 0, Ter= 1, ..., Dom= 6. Então:\n",
        "calendar.setfirstweekday(6)\n",
        "meu_calendario = calendar.month(hora_local.year, hora_local.month)\n",
        "print(meu_calendario)"
      ],
      "execution_count": null,
      "outputs": []
    },
    {
      "cell_type": "markdown",
      "metadata": {
        "id": "o_3G8ZP0bjw9"
      },
      "source": [
        "___\n",
        "# **Gerar datas**\n",
        "\n",
        "* As datas podem ser geradas pela função date(Year, Month, Day)."
      ]
    },
    {
      "cell_type": "code",
      "metadata": {
        "id": "sN93K03Dbovb"
      },
      "source": [
        "import datetime\n",
        "\n",
        "meu_aniversario = datetime.date(2020, 11, 20)\n",
        "print(meu_aniversario)"
      ],
      "execution_count": null,
      "outputs": []
    },
    {
      "cell_type": "code",
      "metadata": {
        "id": "pQQ22yqVYlsG"
      },
      "source": [
        "type(meu_aniversario)"
      ],
      "execution_count": null,
      "outputs": []
    },
    {
      "cell_type": "markdown",
      "metadata": {
        "id": "gNRbFFhycP5g"
      },
      "source": [
        "___\n",
        "# **Gerar horas**\n",
        "\n",
        "* As horas ser geradas pela função time(Hour, Minutes, Seconds)."
      ]
    },
    {
      "cell_type": "code",
      "metadata": {
        "id": "AtxvkEYRcanj"
      },
      "source": [
        "from datetime import time\n",
        "\n",
        "hora = time(11, 34, 56)\n",
        "print(\"hora:\", hora)"
      ],
      "execution_count": null,
      "outputs": []
    },
    {
      "cell_type": "markdown",
      "metadata": {
        "id": "O53z6X8adYmR"
      },
      "source": [
        "Pode-se usar a função datetime(Year, Month, Day, Hour, Minutes, Seconds, MicroSeconds) para gerar a informação completa"
      ]
    },
    {
      "cell_type": "code",
      "metadata": {
        "id": "dGFLy-I0ddsI"
      },
      "source": [
        "from datetime import datetime\n",
        "\n",
        "#datetime(year, month, day)\n",
        "data = datetime(2020, 11, 20)\n",
        "print(data)"
      ],
      "execution_count": null,
      "outputs": []
    },
    {
      "cell_type": "code",
      "metadata": {
        "id": "vNYR86wjdxxO"
      },
      "source": [
        "# datetime(year, month, day, hour, minute, second, microsecond)\n",
        "data = datetime(2020, 11, 20, 20, 19, 59, 342380)\n",
        "print(data)"
      ],
      "execution_count": null,
      "outputs": []
    },
    {
      "cell_type": "code",
      "metadata": {
        "id": "4z-g6OVQNkih"
      },
      "source": [
        "# datetime(year, month, day, hour, minute, second, microsecond)\n",
        "data = datetime(2020, 11, 20, 20, 19, 59)\n",
        "print(data)"
      ],
      "execution_count": null,
      "outputs": []
    },
    {
      "cell_type": "markdown",
      "metadata": {
        "id": "NqwnmHxFeDWs"
      },
      "source": [
        "___\n",
        "# **Diferença entre datas ou horas**"
      ]
    },
    {
      "cell_type": "markdown",
      "metadata": {
        "id": "YH__kwmtiMJW"
      },
      "source": [
        "## Quantos dias faltam para o natal?"
      ]
    },
    {
      "cell_type": "code",
      "metadata": {
        "id": "8EgUri6JeDzS"
      },
      "source": [
        "from datetime import datetime, date\n",
        "\n",
        "data1 = date(year = hora_local.year, month = hora_local.month, day = hora_local.day)\n",
        "data_target = date(year = hora_local.year, month = 12, day = 25)\n",
        "\n",
        "Quantos_dias_para_o_natal = data_target - data1\n",
        "print(Quantos_dias_para_o_natal)"
      ],
      "execution_count": null,
      "outputs": []
    },
    {
      "cell_type": "markdown",
      "metadata": {
        "id": "aMZUo98iiLBu"
      },
      "source": [
        "Ou..."
      ]
    },
    {
      "cell_type": "code",
      "metadata": {
        "id": "QIqp-Pl4h_du"
      },
      "source": [
        "# Exemplo incluindo hora...\n",
        "data1 = datetime(year = hora_local.year, month = hora_local.month, day = hora_local.day, hour = 9, minute = 30, second = 33)\n",
        "data_target = datetime(year = hora_local.year, month = 12, day = 25, hour = 20, minute = 00, second = 00)\n",
        "diferenca_datas = data_target - data1\n",
        "print(diferenca_datas)"
      ],
      "execution_count": null,
      "outputs": []
    },
    {
      "cell_type": "markdown",
      "metadata": {
        "id": "vcNEQttWjJbE"
      },
      "source": [
        "___\n",
        "# **Formatos para datetime()**\n",
        "* Podemos representar datas de muitas formas, sendo mm/dd/yyyy (USA formato) e dd/mm/yyyy (UK formato) os formatos mais comuns.\n",
        "* Python possui os métodos strftime() e strptime() para nos ajudar com esses formatos.\n",
        "    * O Método strftime() cria strings formatadas para as classes date, datetime e time.\n",
        "    * O Método..."
      ]
    },
    {
      "cell_type": "markdown",
      "metadata": {
        "id": "CZZfBENrkirQ"
      },
      "source": [
        "## strftime() - datetime to string\n",
        "* Método que cria datetime objetos a partir de uma data."
      ]
    },
    {
      "cell_type": "markdown",
      "metadata": {
        "id": "dwZW9CRsmAhn"
      },
      "source": [
        "### Exemplo:"
      ]
    },
    {
      "cell_type": "code",
      "metadata": {
        "id": "ZIAmG18ymAs0"
      },
      "source": [
        "from datetime import datetime\n",
        "\n",
        "# Captura a hora corrente/local:\n",
        "data_hora_agora = datetime.now()\n",
        "print(data_hora_agora)"
      ],
      "execution_count": null,
      "outputs": []
    },
    {
      "cell_type": "code",
      "metadata": {
        "id": "68w8F2eHP4E4"
      },
      "source": [
        "dir(data_hora_agora)"
      ],
      "execution_count": null,
      "outputs": []
    },
    {
      "cell_type": "code",
      "metadata": {
        "id": "3NsyGMeFm3zz"
      },
      "source": [
        "type(data_hora_agora)"
      ],
      "execution_count": null,
      "outputs": []
    },
    {
      "cell_type": "code",
      "metadata": {
        "id": "e2ZjhQDlm2tW"
      },
      "source": [
        "ano = data_hora_agora.strftime(\"%Y\")\n",
        "mes = data_hora_agora.strftime(\"%m\")\n",
        "dia = data_hora_agora.strftime(\"%d\")\n",
        "hora = data_hora_agora.strftime(\"%H:%M:%S\")\n",
        "data_hora = data_hora_agora.strftime(\"%d/%m/%Y, %H:%M:%S\")"
      ],
      "execution_count": null,
      "outputs": []
    },
    {
      "cell_type": "code",
      "metadata": {
        "id": "nfR3fPnHmb6F"
      },
      "source": [
        "print(\"Ano........:\", ano)\n",
        "print(\"Mes........:\", mes)\n",
        "print(\"Dia........:\", dia)\n",
        "print(\"Hora.......:\", hora)\n",
        "print(\"Data e Hora:\", data_hora)\t"
      ],
      "execution_count": null,
      "outputs": []
    },
    {
      "cell_type": "markdown",
      "metadata": {
        "id": "vN5MLQV8qe_2"
      },
      "source": [
        "___\n",
        "# **Calcular datas futuras**\n",
        "* timeDelta()"
      ]
    },
    {
      "cell_type": "markdown",
      "metadata": {
        "id": "eekTUWl9qvYs"
      },
      "source": [
        "## Exemplo\n",
        "* Se somarmos 35 dias à data de hoje...\n",
        "    * que dia da semana será (seg, ter, qua, ...)?\n",
        "    * qual será a data?"
      ]
    },
    {
      "cell_type": "code",
      "metadata": {
        "id": "wSR9hDfgrfaO"
      },
      "source": [
        "import datetime\n",
        "import calendar\n",
        "\n",
        "# Considerando a hora no formato dd/mm/yyyy:\n",
        "dt_hoje = \"2020-10-02\"\n",
        "\n",
        "dt_hoje = datetime.datetime.strptime(dt_hoje, \"%Y-%m-%d\")\n",
        "\n",
        "print(dt_hoje)"
      ],
      "execution_count": null,
      "outputs": []
    },
    {
      "cell_type": "markdown",
      "metadata": {
        "id": "mlGi50Bdt0lW"
      },
      "source": [
        "Somando 35 dias..."
      ]
    },
    {
      "cell_type": "code",
      "metadata": {
        "id": "t2IPmwHkstyd"
      },
      "source": [
        "dt_futuro = dt_hoje + datetime.timedelta(days = 35)\n",
        "print(dt_futuro)"
      ],
      "execution_count": null,
      "outputs": []
    },
    {
      "cell_type": "markdown",
      "metadata": {
        "id": "4zH85M1At5a6"
      },
      "source": [
        "Isso quer dizer que se somarmos 35 dias á data de hoje então será dd/mm/aaaa. Correto?\n",
        "\n",
        "* Que dia da semana (seg, ter, qua, ...) será?"
      ]
    },
    {
      "cell_type": "code",
      "metadata": {
        "id": "1VEXfBhtuWhx"
      },
      "source": [
        "print('Dia da semana:', dt_futuro.weekday())"
      ],
      "execution_count": null,
      "outputs": []
    },
    {
      "cell_type": "markdown",
      "metadata": {
        "id": "h0CzA2c6vtgl"
      },
      "source": [
        "OU (Eu prefiro esta...)"
      ]
    },
    {
      "cell_type": "code",
      "metadata": {
        "id": "3DaEGoEevu33"
      },
      "source": [
        "calendar.day_name[dt_futuro.weekday()]"
      ],
      "execution_count": null,
      "outputs": []
    },
    {
      "cell_type": "markdown",
      "metadata": {
        "id": "iiUve5pcwetD"
      },
      "source": [
        "___\n",
        "# **Algumas funções interessantes**"
      ]
    },
    {
      "cell_type": "markdown",
      "metadata": {
        "id": "eEdEFhGeye_4"
      },
      "source": [
        "## iterweekdays() – Dias da Semana"
      ]
    },
    {
      "cell_type": "code",
      "metadata": {
        "id": "j467zOS-wglO"
      },
      "source": [
        "import calendar"
      ],
      "execution_count": null,
      "outputs": []
    },
    {
      "cell_type": "code",
      "metadata": {
        "id": "eD6ApqhUy_Og"
      },
      "source": [
        "# Define 'Segunda' como o primeiro dia da semana'\n",
        "dias_semana = calendar.Calendar(firstweekday= 0)"
      ],
      "execution_count": null,
      "outputs": []
    },
    {
      "cell_type": "code",
      "metadata": {
        "id": "YEJnQnCHyVxd"
      },
      "source": [
        "for i in dias_semana.iterweekdays():\n",
        "    print(i)"
      ],
      "execution_count": null,
      "outputs": []
    },
    {
      "cell_type": "markdown",
      "metadata": {
        "id": "2RD5SMSuDdrz"
      },
      "source": [
        "# Formatos estranhos de tempo\n",
        "> Certa vez recebi um dataframe que continha datas no seguinte formato:"
      ]
    },
    {
      "cell_type": "code",
      "metadata": {
        "id": "dlM33G3UEb29"
      },
      "source": [
        "import datetime \n",
        "pd.set_option('display.max_columns', 999)\n",
        "pd.set_option('display.max_rows', 5000)\n",
        "pd.set_option('display.float_format', lambda x: '%.1f' % x)"
      ],
      "execution_count": null,
      "outputs": []
    },
    {
      "cell_type": "code",
      "metadata": {
        "id": "PXA7d3mMDt7K"
      },
      "source": [
        "df = pd.DataFrame({'DOCUMENT_DATE': [1512086600000000.0, 1514851200000000.0, 1512067500000000.0]})\n",
        "df"
      ],
      "execution_count": null,
      "outputs": []
    },
    {
      "cell_type": "markdown",
      "metadata": {
        "id": "h_zc1leVEiL1"
      },
      "source": [
        "É um formato muito estranho. Para resolver o problema, fiz o seguinte:"
      ]
    },
    {
      "cell_type": "code",
      "metadata": {
        "id": "JnK-TWjWErOz"
      },
      "source": [
        "df['AUX'] = (df['DOCUMENT_DATE']/1000000).astype(np.int32)\n",
        "df = df.drop(columns = ['DOCUMENT_DATE'], axis = 1)\n",
        "df['DOCUMENT_DATE'] = df['AUX'].map(lambda x: datetime.datetime.fromtimestamp(x))\n",
        "df= df.drop(columns = ['AUX'], axis = 1)\n",
        "df.head()"
      ],
      "execution_count": null,
      "outputs": []
    },
    {
      "cell_type": "markdown",
      "metadata": {
        "id": "qH4FJNMzFUSP"
      },
      "source": [
        "Como podem ver, agora temos a data no formato AAAA-MM-DD + horas."
      ]
    },
    {
      "cell_type": "markdown",
      "metadata": {
        "id": "Q6HAfF-NE1kT"
      },
      "source": [
        "___\n",
        "# **Wrap Up**\n"
      ]
    },
    {
      "cell_type": "markdown",
      "metadata": {
        "id": "U64GEgnba0Fx"
      },
      "source": [
        "___\n",
        "# **Exercícios**\n",
        "> Consulte [Python Datetime - Exercises, Practice, Solution](https://www.w3resource.com/python-exercises/date-time-exercise/index.php) para obter exercícios e recursos para se trabalhar com datas no Python."
      ]
    },
    {
      "cell_type": "code",
      "metadata": {
        "id": "zP-dwBwxmuwY"
      },
      "source": [
        ""
      ],
      "execution_count": null,
      "outputs": []
    }
  ]
}