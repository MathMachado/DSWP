{
  "nbformat": 4,
  "nbformat_minor": 0,
  "metadata": {
    "colab": {
      "name": "Untitled32.ipynb",
      "provenance": [],
      "private_outputs": true,
      "include_colab_link": true
    },
    "kernelspec": {
      "name": "python3",
      "display_name": "Python 3"
    }
  },
  "cells": [
    {
      "cell_type": "markdown",
      "metadata": {
        "id": "view-in-github",
        "colab_type": "text"
      },
      "source": [
        "<a href=\"https://colab.research.google.com/github/MathMachado/DSWP/blob/master/Notebooks/NB09_03__Exception%20Handling.ipynb\" target=\"_parent\"><img src=\"https://colab.research.google.com/assets/colab-badge.svg\" alt=\"Open In Colab\"/></a>"
      ]
    },
    {
      "cell_type": "markdown",
      "metadata": {
        "id": "7RJpaOxnGcgS",
        "colab_type": "text"
      },
      "source": [
        "# **Notas & observações**\n",
        "* Desenvolver o capítulo e Exercícios"
      ]
    },
    {
      "cell_type": "markdown",
      "metadata": {
        "id": "rARFrXBNGnIN",
        "colab_type": "text"
      },
      "source": [
        "___\n",
        "# **Agenda**:\n",
        "> Nesta capítulo, vamos falar sobre:\n",
        "\n",
        "* Exception handling\n",
        "* Wrap Up\n",
        "* Exercícios"
      ]
    },
    {
      "cell_type": "markdown",
      "metadata": {
        "id": "G1TJ09R0j5Li",
        "colab_type": "text"
      },
      "source": [
        "___\n",
        "# **Exception Handling**\n",
        "* Lidar com erros e exceções.\n"
      ]
    },
    {
      "cell_type": "markdown",
      "metadata": {
        "id": "qjH9F02rgjrG",
        "colab_type": "text"
      },
      "source": [
        "___\n",
        "# Exemplo 1\n",
        "> Suponha que queremos somar dois números."
      ]
    },
    {
      "cell_type": "code",
      "metadata": {
        "id": "2XjnnaIWg1-h",
        "colab_type": "code",
        "colab": {}
      },
      "source": [
        "def Soma(N1, N2):\n",
        "    return N1+ N2"
      ],
      "execution_count": 0,
      "outputs": []
    },
    {
      "cell_type": "code",
      "metadata": {
        "id": "Xfd5m5zlgq5c",
        "colab_type": "code",
        "colab": {}
      },
      "source": [
        "i_Num1= input(\"Por favor, informe o primeiro número: \")\n",
        "i_Num2= input(\"Por favor, informe o segundo número.: \")"
      ],
      "execution_count": 0,
      "outputs": []
    },
    {
      "cell_type": "code",
      "metadata": {
        "id": "eCDThdr3g8Ge",
        "colab_type": "code",
        "colab": {}
      },
      "source": [
        "Soma(i_Num1, i_Num2)"
      ],
      "execution_count": 0,
      "outputs": []
    },
    {
      "cell_type": "markdown",
      "metadata": {
        "id": "4ZGimSYBhGhU",
        "colab_type": "text"
      },
      "source": [
        "* Era esse resultado que estávamos à espera?\n",
        "* Porque isso acontece?"
      ]
    },
    {
      "cell_type": "markdown",
      "metadata": {
        "id": "9LZv6mPkhXmP",
        "colab_type": "text"
      },
      "source": [
        "___\n",
        "# Exemplo 2\n"
      ]
    },
    {
      "cell_type": "code",
      "metadata": {
        "id": "hgpNKWIthc-D",
        "colab_type": "code",
        "colab": {}
      },
      "source": [
        "i_Num1= 1\n",
        "i_Num2 = '5' # Isso acontece, por exemplo, quando usamos input() para receber o número do teclado."
      ],
      "execution_count": 0,
      "outputs": []
    },
    {
      "cell_type": "code",
      "metadata": {
        "id": "Qp1M0-21cJD8",
        "colab_type": "code",
        "colab": {}
      },
      "source": [
        "type(i_Num1)"
      ],
      "execution_count": 0,
      "outputs": []
    },
    {
      "cell_type": "code",
      "metadata": {
        "id": "JTKHfy-ScLYm",
        "colab_type": "code",
        "colab": {}
      },
      "source": [
        "type(i_Num2)"
      ],
      "execution_count": 0,
      "outputs": []
    },
    {
      "cell_type": "code",
      "metadata": {
        "id": "xSubYGO6hjFt",
        "colab_type": "code",
        "colab": {}
      },
      "source": [
        "Soma(i_Num1, i_Num2)"
      ],
      "execution_count": 0,
      "outputs": []
    },
    {
      "cell_type": "markdown",
      "metadata": {
        "id": "vfsM9VDShsl5",
        "colab_type": "text"
      },
      "source": [
        "Ok, agora, como esperado, temos um erro, pois estamos tentando somar um número com uma string. Como sabemos, isso não é possível."
      ]
    },
    {
      "cell_type": "markdown",
      "metadata": {
        "id": "KxZGS-r_iEFC",
        "colab_type": "text"
      },
      "source": [
        "try:\n",
        "    # Bloco de código.\n",
        "    # Pode conter um erro.\n",
        "    \n",
        "except:\n",
        "    # O que fazer em caso de erro no bloco try\n",
        "\n",
        "else:\n",
        "    # Caso esteja tudo correto no bloco try"
      ]
    },
    {
      "cell_type": "markdown",
      "metadata": {
        "id": "aghiX2VHik2j",
        "colab_type": "text"
      },
      "source": [
        "Vamos aplicar estes conhecimentos exatamente na função que deu erro:"
      ]
    },
    {
      "cell_type": "code",
      "metadata": {
        "id": "LVCl8N31glX2",
        "colab_type": "code",
        "colab": {}
      },
      "source": [
        "try:\n",
        "    print(Soma(i_Num1, i_Num2))\n",
        "\n",
        "except:\n",
        "    print('ERRO: Talvez você esteja somando um número com uma string!')\n",
        "\n",
        "else:\n",
        "    print('Soma realizada com sucesso!')"
      ],
      "execution_count": 0,
      "outputs": []
    },
    {
      "cell_type": "code",
      "metadata": {
        "id": "CFgaXVe8i9be",
        "colab_type": "code",
        "colab": {}
      },
      "source": [
        "i_Num1= 2\n",
        "i_Num2= 3"
      ],
      "execution_count": 0,
      "outputs": []
    },
    {
      "cell_type": "code",
      "metadata": {
        "id": "cOslTXUwjDrH",
        "colab_type": "code",
        "colab": {}
      },
      "source": [
        "try:\n",
        "    print(Soma(i_Num1, i_Num2))\n",
        "except:\n",
        "    print('ERRO: Talvez você esteja somando um número com uma string!')\n",
        "else:\n",
        "    print('Soma realizada com sucesso!')"
      ],
      "execution_count": 0,
      "outputs": []
    },
    {
      "cell_type": "markdown",
      "metadata": {
        "id": "JUI4p9lCjYcC",
        "colab_type": "text"
      },
      "source": [
        "___\n",
        "# Exemplo 3"
      ]
    },
    {
      "cell_type": "code",
      "metadata": {
        "id": "RiTe2eyMjaBp",
        "colab_type": "code",
        "colab": {}
      },
      "source": [
        "i_Num1= 1\n",
        "i_Num2 = '5' # Isso acontece, por exemplo, quando usamos input() para receber o número do teclado."
      ],
      "execution_count": 0,
      "outputs": []
    },
    {
      "cell_type": "code",
      "metadata": {
        "id": "ajz1nbejjiZ2",
        "colab_type": "code",
        "colab": {}
      },
      "source": [
        "Soma(i_Num1, i_Num2)"
      ],
      "execution_count": 0,
      "outputs": []
    },
    {
      "cell_type": "code",
      "metadata": {
        "id": "i1itxxkgjeM_",
        "colab_type": "code",
        "colab": {}
      },
      "source": [
        "try:\n",
        "    print(Soma(i_Num1, i_Num2))\n",
        "except TypeError:\n",
        "    print('ERRO: Talvez você esteja somando um número com uma string!')\n",
        "else:\n",
        "    print('Soma realizada com sucesso!')"
      ],
      "execution_count": 0,
      "outputs": []
    },
    {
      "cell_type": "markdown",
      "metadata": {
        "id": "bWEKewDkjoNB",
        "colab_type": "text"
      },
      "source": [
        "* Verifique em [Built-in Exceptions](https://docs.python.org/3/library/exceptions.html#bltin-exceptions) os tipos de exceções.\n",
        "\n",
        "* Consulte o a documentação para: _exception_ TypeError."
      ]
    },
    {
      "cell_type": "markdown",
      "metadata": {
        "id": "w7M5DhRKlcwM",
        "colab_type": "text"
      },
      "source": [
        "Ok, diante destas explicações, a melhor forma de escrever a função Soma() é:"
      ]
    },
    {
      "cell_type": "code",
      "metadata": {
        "id": "eAU3UjdnliZK",
        "colab_type": "code",
        "colab": {}
      },
      "source": [
        "def Soma(N1, N2):\n",
        "    try:\n",
        "        return N1+ N2\n",
        "    except:\n",
        "        print('Algo errado com pelo menos um dos números.')"
      ],
      "execution_count": 0,
      "outputs": []
    },
    {
      "cell_type": "code",
      "metadata": {
        "id": "FRZCXm7flxvo",
        "colab_type": "code",
        "colab": {}
      },
      "source": [
        "i_Num1= 1\n",
        "i_Num2 = '5' # Isso acontece, por exemplo, quando usamos input() para receber o número do teclado.\n",
        "Soma(i_Num1, i_Num2)"
      ],
      "execution_count": 0,
      "outputs": []
    },
    {
      "cell_type": "code",
      "metadata": {
        "id": "iWTAkva8l6If",
        "colab_type": "code",
        "colab": {}
      },
      "source": [
        "i_Num1= 1\n",
        "i_Num2 = 5\n",
        "Soma(i_Num1, i_Num2)"
      ],
      "execution_count": 0,
      "outputs": []
    },
    {
      "cell_type": "markdown",
      "metadata": {
        "id": "KMBCHp3JQqVF",
        "colab_type": "text"
      },
      "source": [
        "___\n",
        "# **Wrap Up**"
      ]
    },
    {
      "cell_type": "markdown",
      "metadata": {
        "id": "EtfhAHWikJpf",
        "colab_type": "text"
      },
      "source": [
        "___\n",
        "# **Referências**\n",
        "* [Errors and Exceptions](https://docs.python.org/3/tutorial/errors.html)"
      ]
    },
    {
      "cell_type": "markdown",
      "metadata": {
        "id": "INHemULsQtwY",
        "colab_type": "text"
      },
      "source": [
        "___\n",
        "# **Exercícios**"
      ]
    },
    {
      "cell_type": "markdown",
      "metadata": {
        "id": "atMplpXAgZmo",
        "colab_type": "text"
      },
      "source": [
        "## Exercício 1\n",
        "> Explique o que são Exception Handling."
      ]
    },
    {
      "cell_type": "markdown",
      "metadata": {
        "id": "Rfm_5NDdn1oo",
        "colab_type": "text"
      },
      "source": [
        "## Exercício 2\n",
        "* Construa uma função que divida 100 pelo número passado para a função. Pense em todas as possibilidades de erro que podem surgir em se tratando de uma divisão.\n",
        "\n",
        "**Dica**: Use except ZeroDivisionError para o caso de a função receber o número 0, pois desta forma estaremos dividindo 100 por 0 e, como sabemos, isso causa um erro, correto?"
      ]
    },
    {
      "cell_type": "markdown",
      "metadata": {
        "id": "oKqPgdHEeeSD",
        "colab_type": "text"
      },
      "source": [
        "### Minha solução"
      ]
    },
    {
      "cell_type": "code",
      "metadata": {
        "id": "VjV8m0Zcj4La",
        "colab_type": "code",
        "colab": {}
      },
      "source": [
        "def Divide(N1):\n",
        "    try:\n",
        "        return 100/N1\n",
        "    except ZeroDivisionError:\n",
        "        print('Divisão por 0')\n",
        "    except TypeError:\n",
        "        print('Soma de tipos não numéricos')"
      ],
      "execution_count": 0,
      "outputs": []
    },
    {
      "cell_type": "code",
      "metadata": {
        "id": "ILq3cyDzdZck",
        "colab_type": "code",
        "colab": {}
      },
      "source": [
        "Divide(10)"
      ],
      "execution_count": 0,
      "outputs": []
    },
    {
      "cell_type": "code",
      "metadata": {
        "id": "e9tly3oHdb-U",
        "colab_type": "code",
        "colab": {}
      },
      "source": [
        "Divide(0)"
      ],
      "execution_count": 0,
      "outputs": []
    },
    {
      "cell_type": "code",
      "metadata": {
        "id": "RTGjHoQvdevO",
        "colab_type": "code",
        "colab": {}
      },
      "source": [
        "Divide('0')"
      ],
      "execution_count": 0,
      "outputs": []
    },
    {
      "cell_type": "code",
      "metadata": {
        "id": "PlTD6WDheQJB",
        "colab_type": "code",
        "colab": {}
      },
      "source": [
        ""
      ],
      "execution_count": 0,
      "outputs": []
    }
  ]
}