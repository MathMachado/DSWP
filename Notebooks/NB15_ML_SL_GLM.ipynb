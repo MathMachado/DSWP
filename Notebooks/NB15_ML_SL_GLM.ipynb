{
  "nbformat": 4,
  "nbformat_minor": 0,
  "metadata": {
    "colab": {
      "private_outputs": true,
      "provenance": [],
      "authorship_tag": "ABX9TyMb1glRveKg25aHL2lVP7/Y",
      "include_colab_link": true
    },
    "kernelspec": {
      "name": "python3",
      "display_name": "Python 3"
    },
    "language_info": {
      "name": "python"
    }
  },
  "cells": [
    {
      "cell_type": "markdown",
      "metadata": {
        "id": "view-in-github",
        "colab_type": "text"
      },
      "source": [
        "<a href=\"https://colab.research.google.com/github/MathMachado/DSWP/blob/master/Notebooks/NB15_ML_SL_GLM.ipynb\" target=\"_parent\"><img src=\"https://colab.research.google.com/assets/colab-badge.svg\" alt=\"Open In Colab\"/></a>"
      ]
    },
    {
      "cell_type": "markdown",
      "source": [
        "# Modelos Lineares Generalizados (GLM)\n",
        "\n",
        "## Introdução ao GLM\n",
        "* O que é um Modelo Linear Generalizado (GLM)?\n",
        "\n",
        "    * É uma extensão do modelo de regressão linear que permite lidar com variáveis de resposta que não seguem uma distribuição normal.\n",
        "\n",
        "* O GLM combina:\n",
        "    * Previsores lineares: Soma ponderada das variáveis independentes.\n",
        "    * Função de ligação: Relaciona o previsor linear à variável de resposta.\n",
        "    * Distribuição da variável de resposta: Como Binomial, Poisson, Gamma, etc.\n",
        "\n",
        "* Por que usar GLM?\n",
        "\n",
        "    * Modelar dados com distribuições não normais.\n",
        "    * Lidar com variáveis de resposta contínuas, discretas ou categóricas.\n",
        "    * Tornar os modelos lineares mais flexíveis para diferentes problemas.\n",
        "\n",
        "* Exemplo prático:\n",
        "\n",
        "    * Modelar a probabilidade de um cliente comprar um produto (binomial).\n",
        "    * Prever o número de chamadas em um call center por hora (Poisson).\n",
        "    * Prever o número de sinistros para seguradoras (Poisson).\n"
      ],
      "metadata": {
        "id": "DmVlBx8t3aaY"
      }
    },
    {
      "cell_type": "markdown",
      "source": [
        "## Explicação teórica:\n",
        "\n",
        "* Um Modelo Linear Generalizado (GLM) estende os modelos lineares simples para cobrir variáveis-alvo com distribuições diferentes da normal. Ele é composto por:\n",
        "    * Um componente linear: $𝜂 = 𝛽_0 + 𝛽_1.𝑋_1 + ⋯ + 𝛽_𝑘.𝑋_𝑘$\n",
        "    * Uma função de ligação que transforma o componente linear para se adequar à distribuição da variável-alvo.\n",
        "    * Uma distribuição da família exponencial para modelar a variável-alvo (Binomial, Poisson, Gamma, etc.).\n",
        "\n",
        "* Aplicação prática em seguros:\n",
        "    * Modelar o número de sinistros por cliente em uma seguradora (distribuição Poisson).\n",
        "    * Prever o custo médio de sinistros para apólices de seguro saúde (distribuição Gamma).\n",
        "\n",
        "* Aplicação prática em bancos:\n",
        "    * Modelar a probabilidade de inadimplência de um cliente em um empréstimo (distribuição Binomial, regressão logística)."
      ],
      "metadata": {
        "id": "myT4pFDX4xQ4"
      }
    },
    {
      "cell_type": "markdown",
      "source": [
        "# Componentes de um GLM\n",
        "* Função de ligação: Relaciona o componente linear com a média da distribuição da variável-alvo.\n",
        "\n",
        "    * Exemplo: Para uma variável binária (compra ou não compra de um seguro), a função de ligação logit é usada.\n",
        "* Distribuição da variável de resposta:\n",
        "    * Binomial: Para eventos com sucesso/falha.\n",
        "    * Poisson: Para contagens ou taxas.\n",
        "    * Gamma: Para valores contínuos positivos e assimétricos.\n",
        "\n",
        "* Previsores lineares: Variáveis explicativas como idade, renda ou histórico de crédito.\n",
        "\n",
        "* Exemplo prático: Em um banco, a probabilidade de inadimplência pode ser modelada com a regressão logística, onde a função de ligação logit transforma a probabilidade em uma escala linear."
      ],
      "metadata": {
        "id": "VjlR87o55u_x"
      }
    },
    {
      "cell_type": "markdown",
      "source": [
        "# Tipos Comuns de GLM e Aplicações\n",
        "## Regressão Logística (Binomial):\n",
        "\n",
        "* Seguro: Modelar a probabilidade de renovação de uma apólice.\n",
        "* Banco: Estimar a chance de um cliente atrasar um pagamento.\n",
        "\n",
        "## Regressão de Poisson:\n",
        "\n",
        "* Seguro: Modelar o número de sinistros por cliente.\n",
        "* Banco: Estimar o número de transações mensais de um cliente.\n",
        "\n",
        "## Regressão Gamma:\n",
        "\n",
        "* Seguro: Estimar o custo médio de sinistros para seguros de saúde.\n",
        "* Banco: Prever o valor médio de gastos no cartão de crédito.\n",
        "\n",
        "## Regressão Gaussiana (Linear):\n",
        "\n",
        "* Seguro: Prever o valor total de prêmios arrecadados em um período.\n",
        "* Banco: Estimar o valor total de financiamentos concedidos."
      ],
      "metadata": {
        "id": "_nvDpVtH58HG"
      }
    },
    {
      "cell_type": "markdown",
      "source": [
        "# Exemplo\n",
        "* O dataset a seguir (fictício e criado usando a library faker) com variáveis relevantes para a cobertura de Casco, incluindo fatores de risco para frequência e severidade de sinistros."
      ],
      "metadata": {
        "id": "Vx_T-Rck6L38"
      }
    },
    {
      "cell_type": "code",
      "source": [
        "!pip install faker"
      ],
      "metadata": {
        "id": "vuOPUTY96JKq"
      },
      "execution_count": null,
      "outputs": []
    },
    {
      "cell_type": "code",
      "source": [
        "import pandas as pd\n",
        "import numpy as np\n",
        "\n",
        "# Define a seed for reproducibility\n",
        "np.random.seed(42)\n",
        "\n",
        "# Number of samples\n",
        "n_samples = 2500\n",
        "\n",
        "# Create a DataFrame with the specified columns\n",
        "df = pd.DataFrame({\n",
        "    'Idade': np.random.randint(18, 65, n_samples),\n",
        "    'Genero': np.random.choice(['Masculino', 'Feminino'], n_samples),\n",
        "    'Regiao': np.random.choice(['Norte', 'Sul', 'Leste', 'Oeste'], n_samples),\n",
        "    'Veiculo': np.random.choice(['Carro', 'Moto', 'Caminhao'], n_samples),\n",
        "    'Uso': np.random.choice(['Particular', 'Trabalho'], n_samples),\n",
        "    'Anos_Habilitacao': np.random.randint(1, 40, n_samples),\n",
        "    'Multas': np.random.randint(0, 10, n_samples),\n",
        "    'Acidentes_Passado': np.random.randint(0, 5, n_samples),\n",
        "})\n",
        "\n",
        "# Generate frequency variable (number of claims)\n",
        "df['Frequencia'] = np.random.poisson(lam=0.2, size=n_samples)\n",
        "\n",
        "# Generate severity variable (claim amount)\n",
        "df['Severidade'] = np.exp(np.random.normal(loc=5, scale=1, size=n_samples))\n",
        "\n",
        "# Adjust parameters and correlations to ensure significance\n",
        "df['Frequencia'] = np.where(df['Genero'] == 'Masculino', df['Frequencia'] + 1, df['Frequencia'])\n",
        "df['Frequencia'] = np.where(df['Veiculo'] == 'Moto', df['Frequencia'] + 1, df['Frequencia'])\n",
        "df['Severidade'] = np.where(df['Regiao'] == 'Norte', df['Severidade'] * 1.2, df['Severidade'])\n",
        "df['Severidade'] = np.where(df['Acidentes_Passado'] > 0, df['Severidade'] * 1.5, df['Severidade'])\n",
        "\n",
        "# Add 'tipo_combustivel' and 'estado_civil' columns\n",
        "df['tipo_combustivel'] = np.random.choice(['Gasolina', 'Etanol', 'Diesel', 'Flex'], size=n_samples)\n",
        "df['estado_civil'] = np.random.choice(['Solteiro(a)', 'Casado(a)', 'Outro'], size=n_samples)\n",
        "\n",
        "# Print the column names and their data types\n",
        "print(\"\\nOs nomes das colunas e seus tipos de dados:\\n\")\n",
        "df.head()"
      ],
      "metadata": {
        "id": "N0rDN6iDNHs1"
      },
      "execution_count": null,
      "outputs": []
    },
    {
      "cell_type": "markdown",
      "source": [
        "### Detalhes Principais do Conjunto de Dados\n",
        "* Ano (ano) e Mês (mes):\n",
        "    * Representam os componentes temporais para tendências e sazonalidade.\n",
        "* Frequências:\n",
        "    * Incluem um aumento linear com o tempo (0,005 * (ano - 2012)).\n",
        "    * Adicionam sazonalidade usando ondas senoidais para padrões mensais.\n",
        "* Severidade:\n",
        "    * A gravidade aumenta ao longo do tempo em 1% por ano (1 + 0,01 * (ano - 2012))."
      ],
      "metadata": {
        "id": "tEUhiXpZOgH-"
      }
    },
    {
      "cell_type": "markdown",
      "source": [
        "## Step 1: Preparar os dados (Data Preprocessing)"
      ],
      "metadata": {
        "id": "Bc9pIj7tO4zs"
      }
    },
    {
      "cell_type": "code",
      "source": [
        "# Creating dummy variables for categorical predictors\n",
        "df = pd.get_dummies(df, columns=[\"Genero\", \"Regiao\", \"Veiculo\", \"Uso\", \"tipo_combustivel\", \"estado_civil\"], drop_first=True)\n"
      ],
      "metadata": {
        "id": "XjInWM2zOvme"
      },
      "execution_count": null,
      "outputs": []
    },
    {
      "cell_type": "markdown",
      "source": [
        "## Step 2: Ajustar os GLMs\n",
        "### GLM para frequência de sinistros (Distribuição de Poisson)"
      ],
      "metadata": {
        "id": "aygLrlh1PD-V"
      }
    },
    {
      "cell_type": "code",
      "source": [
        "import pandas as pd\n",
        "import numpy as np\n",
        "import statsmodels.api as sm\n",
        "\n",
        "# Convert all columns in X_freq and y_freq to numeric, coercing errors to NaN\n",
        "X_freq = X_freq.apply(pd.to_numeric, errors='coerce')\n",
        "y_freq = pd.to_numeric(y_freq, errors='coerce')\n",
        "\n",
        "# If you have any date columns, convert them to numeric representation:\n",
        "# For example, if 'ano' and 'mes' are date components:\n",
        "X_freq['ano'] = pd.to_numeric(X_freq['ano'], errors='coerce')\n",
        "X_freq['mes'] = pd.to_numeric(X_freq['mes'], errors='coerce')\n",
        "\n",
        "# Replace infinite values with NaN\n",
        "X_freq.replace([np.inf, -np.inf], np.nan, inplace=True)\n",
        "y_freq.replace([np.inf, -np.inf], np.nan, inplace=True)\n",
        "\n",
        "# Drop rows with missing values\n",
        "X_freq = X_freq.dropna()\n",
        "y_freq = y_freq.dropna()\n",
        "\n",
        "# Align X_freq and y_freq after dropping rows\n",
        "y_freq = y_freq[X_freq.index]\n",
        "\n",
        "# Add intercept\n",
        "X_freq = sm.add_constant(X_freq)\n",
        "\n",
        "# --- The Fix Starts Here ---\n",
        "# Check for and handle invalid values in y_freq\n",
        "# If y_freq contains negative values, shift it to be non-negative for Poisson regression\n",
        "if y_freq.min() < 0:\n",
        "    print(\"Warning: y_freq contains negative values. Shifting to be non-negative.\")\n",
        "    y_freq = y_freq - y_freq.min() + 1e-8  # Add a small positive value to avoid zeros\n",
        "# --- The Fix Ends Here ---\n",
        "\n",
        "# Explicitly convert all columns in X_freq to numeric dtypes, handling errors\n",
        "for col in X_freq.select_dtypes(include=['object']).columns:\n",
        "    try:\n",
        "        X_freq[col] = pd.to_numeric(X_freq[col])\n",
        "    except ValueError:\n",
        "        print(f\"Warning: Could not convert column '{col}' to numeric. Trying to convert to category and then to numeric.\")\n",
        "        try:\n",
        "            # Attempt to convert to categorical and then to numeric codes\n",
        "            X_freq[col] = X_freq[col].astype('category').cat.codes\n",
        "        except ValueError:\n",
        "            print(f\"Warning: Could not convert column '{col}' to numeric even after category conversion. Dropping this column.\")\n",
        "            X_freq = X_freq.drop(columns=[col])\n",
        "\n",
        "# Ensure y_freq is also numeric\n",
        "y_freq = pd.to_numeric(y_freq, errors='coerce')\n",
        "\n",
        "X_freq = pd.DataFrame(X_freq.to_numpy(), columns=X_freq.columns, dtype=float)\n",
        "\n",
        "# Fit the Poisson GLM\n",
        "model_freq = sm.GLM(y_freq, X_freq, family=sm.families.Poisson())\n",
        "result_freq = model_freq.fit()\n",
        "\n",
        "# Display results\n",
        "print(result_freq.summary())"
      ],
      "metadata": {
        "id": "jTHQslc6Z41A"
      },
      "execution_count": null,
      "outputs": []
    },
    {
      "cell_type": "markdown",
      "source": [
        "### GLM para Severidade (Distribuição Gamma)"
      ],
      "metadata": {
        "id": "Qw1QA3YlOvdG"
      }
    },
    {
      "cell_type": "code",
      "source": [
        "# Define predictors and target for severity\n",
        "X_sev = X_freq  # Same predictors\n",
        "y_sev = df_temporal[\"severidade_sinistro\"]\n",
        "\n",
        "# Fit the Gamma GLM\n",
        "model_sev = sm.GLM(y_sev, X_sev, family=sm.families.Gamma(link=sm.families.links.log()))\n",
        "result_sev = model_sev.fit()\n",
        "\n",
        "# Display results\n",
        "print(result_sev.summary())\n"
      ],
      "metadata": {
        "id": "XdiSRb5GRE7e"
      },
      "execution_count": null,
      "outputs": []
    },
    {
      "cell_type": "markdown",
      "source": [
        "### Análise dos coeficientes\n",
        "\n",
        "* Os coeficientes (coef) nos mostra o impacto de cada variável preditora na variável target.\n",
        "\n",
        "* Significância ($P>|z|$):\n",
        "\n",
        "    * Coeficientes com p-value baixos (tipicamente < 0.05) são estatisticamente significantes.\n",
        "    * Exemplo: Se log_km_rodados possuir $𝑃 > ∣𝑧∣ < 0.05$ ($P>∣z∣<0.05$), então a distância percorrida (km rodados) é estatisticamente significante para o modelo\n",
        "\n",
        "* Magnitude (coef):\n",
        "\n",
        "    * Para a distribuição de Poisson, coeficientes representam o log da mudança esperada na frequência. Um coeficiente de $0.1$ para idade do condutor significa um aumento de $10%$ na frequência para cada ano adicional na idade.\n",
        "\n",
        "    * Para a distribuição Gamma, os coeficientes\n",
        "Para a distribuição Gamma, os coeficientes possuem efeitos multiplicativos na severidade. Um coeficiente de $0.2$, por exemplo, para ano implica um aumento de $20%$ na severidade por ano.\n",
        "\n",
        "* Intervalos de confiança ($[0.025, 0.975]$):\n",
        "\n",
        "    * Verifique se os intervalos de confiança incluem 0. Se isso acontecer, o preditor pode não ter um impacto significativo.\n",
        "\n",
        "\n"
      ],
      "metadata": {
        "id": "9N6Bk-VYRJju"
      }
    },
    {
      "cell_type": "markdown",
      "source": [
        "## Avaliação do Modelo\n",
        "Avalie o desempenho do modelo com métricas apropriadas:\n",
        "\n",
        "* Log-Likelihood: Qualidade do ajuste.\n",
        "* AIC (Akaike Information Criterion): Penaliza modelos complexos.\n",
        "* Previsões e Taxas de Acerto: Compare as previsões com os valores reais."
      ],
      "metadata": {
        "id": "dw3-yCor72-c"
      }
    },
    {
      "cell_type": "markdown",
      "source": [
        "## Interpretação dos Resultados\n",
        "* Os coeficientes estimados indicam a relação entre as variáveis preditoras e a variável-alvo:\n",
        "\n",
        "* Coeficientes positivos indicam aumento na variável-alvo à medida que a preditora aumenta.\n",
        "* Coeficientes negativos indicam redução."
      ],
      "metadata": {
        "id": "6VPCuhrz8NHz"
      }
    },
    {
      "cell_type": "markdown",
      "source": [
        "# Resumo\n",
        "Ajustar GLMs em Python é poderoso para resolver problemas como:\n",
        "\n",
        "* Regressão Logística: Probabilidade de inadimplência.\n",
        "* Regressão de Poisson: Número de sinistros.\n",
        "* Regressão Gamma: Custo de seguro."
      ],
      "metadata": {
        "id": "TWioQ12v8b4z"
      }
    },
    {
      "cell_type": "markdown",
      "source": [
        "# Como interpretar os coeficientes dos Modelos Lineares Generalizados?\n",
        "\n",
        "A interpretação dos coeficientes em um **Modelo Linear Generalizado (GLM)** depende da **distribuição da variável-alvo** e da **função de ligação** usada no modelo. Aqui está um guia detalhado para interpretar coeficientes em diferentes contextos:\n",
        "\n",
        "---\n",
        "\n",
        "### **1. Noções Básicas**\n",
        "- **Coeficiente $\\beta$:** Representa a mudança esperada na variável-alvo quando a variável preditora aumenta em uma unidade, mantendo as outras constantes.\n",
        "- **Intercepto $\\beta_0$:** Valor médio esperado da variável-alvo quando todas as preditoras são zero (após a transformação da função de ligação).\n",
        "\n",
        "**Nota:** Para variáveis categóricas, os coeficientes indicam a diferença no valor médio da variável-alvo em relação à categoria de referência.\n",
        "\n",
        "---\n",
        "\n",
        "### **2. Distribuições e Funções de Ligação**\n",
        "A interpretação exata do coeficiente varia com a função de ligação.\n",
        "\n",
        "#### **2.1. Regressão Logística (Binomial)**\n",
        "- **Função de Ligação:** Logit ($logit_p = ln\\left(\\frac{p}{1-p}\\right)$).\n",
        "- **Interpretação do Coeficiente $\\beta$:**\n",
        "  - O coeficiente indica a mudança no logaritmo das odds (razão de chances) para cada unidade de aumento na variável preditora.\n",
        "  - Para interpretá-lo como um efeito multiplicativo:\n",
        "    $\n",
        "    \\text{Odds ratio} = e^\\beta\n",
        "    $\n",
        "    - Se $e^\\beta > 1$: Aumenta a chance do evento.\n",
        "    - Se $e^\\beta < 1$: Reduz a chance do evento.\n",
        "\n",
        "**Exemplo:**\n",
        "- Um coeficiente de $0.5$ para a variável \"idade\" significa que, para cada ano adicional de idade, a chance do cliente se tornar inadimplente aumenta em $e^{0.5} ≈ 1.65$ vezes (65% mais provável).\n",
        "\n",
        "---\n",
        "\n",
        "#### **2.2. Regressão de Poisson**\n",
        "- **Função de Ligação:** Logarítmica $\\ln(\\mu)$.\n",
        "- **Interpretação do Coeficiente $\\beta$:**\n",
        "  - O coeficiente indica a mudança no logaritmo da taxa esperada (ou contagem) para cada unidade de aumento na variável preditora.\n",
        "  - Para interpretá-lo diretamente:\n",
        "    $\n",
        "    \\text{Taxa esperada} = e^\\beta\n",
        "    $\n",
        "    - Se $e^\\beta > 1$: Aumenta a taxa esperada.\n",
        "    - Se $e^\\beta < 1$: Reduz a taxa esperada.\n",
        "\n",
        "**Exemplo:**\n",
        "- Um coeficiente de $-0.2$ para \"anos de experiência\" indica que, para cada ano adicional, o número esperado de sinistros diminui em cerca de $e^{-0.2} ≈ 0.82$ vezes (18% menor).\n",
        "\n",
        "---\n",
        "\n",
        "#### **2.3. Regressão Gamma**\n",
        "- **Função de Ligação:** Logarítmica $\\ln(\\mu)$.\n",
        "- **Interpretação do Coeficiente $\\beta$:**\n",
        "  - Similar à regressão de Poisson, mas a variável-alvo é contínua e positiva.\n",
        "  - Cada unidade adicional na variável preditora multiplica o valor médio da variável-alvo por $e^\\beta$.\n",
        "\n",
        "**Exemplo:**\n",
        "- Um coeficiente de (0.1) para \"renda anual\" indica que, para cada incremento de unidade, o custo médio do prêmio de seguro aumenta em $e^{0.1} \\approx 1.11 $ vezes (11% maior).\n",
        "\n",
        "---\n",
        "\n",
        "#### **2.4. Regressão Linear (Distribuição Normal)**\n",
        "- **Função de Ligação:** Identidade $\\mu = X\\beta$.\n",
        "- **Interpretação do Coeficiente $\\beta$:**\n",
        "  - Indica a mudança absoluta na variável-alvo para cada unidade de aumento na variável preditora.\n",
        "\n",
        "**Exemplo:**\n",
        "- Um coeficiente de $200$ para \"anos de experiência\" significa que, para cada ano adicional, o valor do prêmio de seguro aumenta em $200$.\n",
        "\n",
        "---\n",
        "\n",
        "### **3. Interpretação de Variáveis Categóricas**\n",
        "Para variáveis categóricas:\n",
        "- Os coeficientes representam a diferença na média da variável-alvo em relação à **categoria de referência**.\n",
        "- Se uma categoria tem coeficiente zero, ela é a referência.\n",
        "\n",
        "**Exemplo:**\n",
        "Na variável \"região\" com categorias \"norte\", \"sul\", \"leste\" e \"oeste\":\n",
        "- Se \"norte\" é a categoria de referência, um coeficiente de $0.3$ para \"sul\" significa que a variável-alvo é $e^{0.3} \\approx 1.35$ vezes maior para clientes na região sul em relação à região norte.\n",
        "\n",
        "---\n",
        "\n",
        "### **4. Interpretação do Intercepto**\n",
        "- Para variáveis contínuas:\n",
        "  - O intercepto representa o valor médio da variável-alvo quando todas as preditoras são zero (após a transformação).\n",
        "- Para variáveis categóricas:\n",
        "  - Ele representa o valor médio da categoria de referência.\n",
        "\n",
        "---\n",
        "\n",
        "### **5. Resumo da Interpretação**\n",
        "| Distribuição        | Função de Ligação   | Interpretação do Coeficiente              |\n",
        "|---------------------|---------------------|-------------------------------------------|\n",
        "| Binomial (Logística)| Logit $\\ln(p/(1-p))$ | Multiplicativo nas odds (razão de chances) |\n",
        "| Poisson             | Log $\\ln(\\mu)$     | Multiplicativo na taxa esperada           |\n",
        "| Gamma               | Log $\\ln(\\mu)$     | Multiplicativo na média esperada          |\n",
        "| Normal (Linear)     | Identidade $\\mu$    | Mudança absoluta na média esperada        |\n",
        "\n",
        "Interpretar coeficientes no GLM ajuda a entender como cada variável preditora afeta a variável-alvo, fornecendo insights valiosos para negócios e seguros."
      ],
      "metadata": {
        "id": "Q6T6bj2C8r7p"
      }
    },
    {
      "cell_type": "markdown",
      "source": [
        "# Exercícios\n",
        "\n",
        "1. Identificação de Componentes\n",
        "Pergunta: Explique os três componentes principais de um Modelo Linear Generalizado (GLM):\n",
        "- Função de ligação.\n",
        "- Distribuição da variável de resposta.\n",
        "- Componente linear.\n",
        "\n",
        "Objetivo: Revisar os fundamentos teóricos do GLM.\n",
        "\n",
        "---\n",
        "\n",
        "2. Escolha de Modelos\n",
        "Pergunta: Qual modelo GLM seria apropriado para cada cenário abaixo? Justifique sua escolha.\n",
        "1. Modelar o número de sinistros por cliente.\n",
        "2. Prever o custo médio de sinistros em seguros de saúde.\n",
        "3. Estimar a probabilidade de inadimplência em um banco.\n",
        "\n",
        "Objetivo: Diferenciar entre regressões Poisson, Gamma e Logística.\n",
        "\n",
        "---\n",
        "\n",
        "3. Pré-processamento de Dados\n",
        "Pergunta: Com base no DataFrame abaixo, quais variáveis devem ser transformadas em variáveis dummy antes de ajustar um GLM? Explique por quê.\n",
        "\n",
        "```python\n",
        "df.head()\n",
        "```\n",
        "\n",
        "| idade | renda_anual | anos_experiencia | possui_casa | tipo_veiculo |\n",
        "|-------|-------------|------------------|-------------|--------------|\n",
        "| 34    | 75000       | 12               | 1           | sedan        |\n",
        "| 45    | 62000       | 20               | 0           | suv          |\n",
        "\n",
        "Objetivo: Introduzir boas práticas de pré-processamento de dados.\n",
        "\n",
        "---\n",
        "\n",
        "4. Ajuste de Regressão Logística\n",
        "Pergunta: Ajuste um modelo de regressão logística para prever a probabilidade de um cliente atrasar um pagamento (`inadimplencia`) com base em:\n",
        "- Idade.\n",
        "- Renda anual.\n",
        "- Anos de experiência.\n",
        "\n",
        "Calcule a acurácia do modelo no conjunto de teste.\n",
        "\n",
        "Objetivo: Implementar e avaliar um GLM binomial.\n",
        "\n",
        "---\n",
        "\n",
        "5. Regressão de Poisson\n",
        "Pergunta: Ajuste um modelo de regressão de Poisson para prever o número de sinistros (`sinistros`) com base nas variáveis:\n",
        "- Idade.\n",
        "- Renda anual.\n",
        "- Possui casa.\n",
        "\n",
        "Visualize os valores reais versus preditos e interprete os resultados.\n",
        "\n",
        "Objetivo: Praticar o ajuste e visualização de um GLM Poisson.\n",
        "\n",
        "---\n",
        "\n",
        "6. Regressão Gamma\n",
        "Pergunta: Use a regressão Gamma para modelar o prêmio de seguro (`premio_seguro`) com as seguintes variáveis:\n",
        "- Anos de experiência.\n",
        "- Tipo de veículo (use variáveis dummy).\n",
        "- Número de dependentes.\n",
        "\n",
        "Avalie o modelo com o Mean Absolute Error (MAE).\n",
        "\n",
        "Objetivo: Aplicar regressão Gamma para dados contínuos positivos.\n",
        "\n",
        "---\n",
        "\n",
        "7. Interpretação de Coeficientes\n",
        "Pergunta: Considere o modelo ajustado abaixo e explique o que significa um coeficiente de \\(0.05\\) para `anos_experiencia` na regressão de Poisson.\n",
        "\n",
        "$\n",
        "\\text{ln}(E(y)) = 1.2 + 0.05 \\times \\text{anos_experiencia}\n",
        "$\n",
        "\n",
        "Objetivo: Interpretar coeficientes no contexto de uma regressão GLM.\n",
        "\n",
        "---\n",
        "\n",
        "8. Escolha da Função de Ligação\n",
        "Pergunta: Quais critérios você utilizaria para selecionar a função de ligação adequada em um GLM? Explique com exemplos práticos.\n",
        "\n",
        "Objetivo: Entender a importância e o impacto da função de ligação.\n",
        "\n",
        "---\n",
        "\n",
        "9. Comparação entre Modelos\n",
        "Pergunta: Compare os seguintes modelos ajustados aos mesmos dados:\n",
        "- Regressão Linear.\n",
        "- Regressão Poisson.\n",
        "- Regressão Gamma.\n",
        "\n",
        "Use métricas como Log-Likelihood e AIC. Qual modelo parece mais apropriado? Por quê?\n",
        "\n",
        "Objetivo: Avaliar a performance relativa de diferentes GLMs.\n",
        "\n",
        "---\n",
        "\n",
        "10. Limitações dos GLMs\n",
        "Pergunta: Quais são as limitações dos Modelos Lineares Generalizados em relação a:\n",
        "1. Interpretabilidade.\n",
        "2. Ajuste em grandes volumes de dados.\n",
        "3. Interações entre variáveis?\n",
        "\n",
        "Objetivo: Explorar os desafios práticos de usar GLMs.\n",
        "\n",
        "---"
      ],
      "metadata": {
        "id": "O5QxsYWSIZoD"
      }
    },
    {
      "cell_type": "code",
      "source": [],
      "metadata": {
        "id": "tmIuDsLe8fqV"
      },
      "execution_count": null,
      "outputs": []
    }
  ]
}