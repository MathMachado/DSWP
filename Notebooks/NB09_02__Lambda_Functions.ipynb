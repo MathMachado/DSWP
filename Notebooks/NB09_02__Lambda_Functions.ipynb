{
  "nbformat": 4,
  "nbformat_minor": 0,
  "metadata": {
    "colab": {
      "name": "NB09_02__Lambda_Functions.ipynb",
      "provenance": [],
      "private_outputs": true,
      "include_colab_link": true
    },
    "kernelspec": {
      "name": "python3",
      "display_name": "Python 3"
    }
  },
  "cells": [
    {
      "cell_type": "markdown",
      "metadata": {
        "id": "view-in-github",
        "colab_type": "text"
      },
      "source": [
        "<a href=\"https://colab.research.google.com/github/MathMachado/DSWP/blob/master/Notebooks/NB09_02__Lambda_Functions.ipynb\" target=\"_parent\"><img src=\"https://colab.research.google.com/assets/colab-badge.svg\" alt=\"Open In Colab\"/></a>"
      ]
    },
    {
      "cell_type": "markdown",
      "metadata": {
        "id": "gaZdx_68vbAX"
      },
      "source": [
        "<center><h1><b><i>LAMBDA FUNCTIONS</i></b></h1></center>\n",
        "\n",
        "\n",
        "\n",
        "# **AGENDA**:\n",
        "\n",
        "> Veja o **índice** dos itens que serão abordados neste capítulo.\n",
        "\n"
      ]
    },
    {
      "cell_type": "markdown",
      "metadata": {
        "id": "QeG3z7aWLdYk"
      },
      "source": [
        "___\n",
        "# **Lambda Functions**\n",
        "\n",
        "* Em Python, podemos criar pequenas funções anônimas.\n",
        "* A função anônima começa com a palavra reservada 'lambda';\n",
        "* Fonte: [Lambda Expressions](https://docs.python.org/3/tutorial/controlflow.html#function-examples)"
      ]
    },
    {
      "cell_type": "markdown",
      "metadata": {
        "id": "9ySnTQCqDzhB"
      },
      "source": [
        "___\n",
        "# Exemplo 1\n",
        "* Considere a lista abaixo:"
      ]
    },
    {
      "cell_type": "code",
      "metadata": {
        "id": "0m2qpRrOD4j8"
      },
      "source": [
        "l_lista = [('Seg', 1), ('Ter', 2), ('Quar', 3), ('Qui', 4), ('Sex', 5), ('Sab', 6), ('Dom', 7)]\n",
        "l_lista"
      ],
      "execution_count": null,
      "outputs": []
    },
    {
      "cell_type": "markdown",
      "metadata": {
        "id": "IHPR_fwiEGCn"
      },
      "source": [
        "Queremos ordená-la pela primeira posição da lista:"
      ]
    },
    {
      "cell_type": "code",
      "metadata": {
        "id": "_YqImJguFGOb"
      },
      "source": [
        "l_lista.sort(key = lambda l_lista: l_lista[0])\n",
        "l_lista"
      ],
      "execution_count": null,
      "outputs": []
    },
    {
      "cell_type": "markdown",
      "metadata": {
        "id": "DQntnBYsFJrF"
      },
      "source": [
        "Mas esse resultado não faz muito sentido, correto?\n",
        "Então, vamos ordená-la pela segunda posição da lista:"
      ]
    },
    {
      "cell_type": "code",
      "metadata": {
        "id": "k-DX4EutEs9G"
      },
      "source": [
        "# Ordem desejada\n",
        "l_lista.sort(key = lambda l_lista: l_lista[1])\n",
        "l_lista"
      ],
      "execution_count": null,
      "outputs": []
    },
    {
      "cell_type": "markdown",
      "metadata": {
        "id": "2Sizi9-UFudE"
      },
      "source": [
        "___\n",
        "# Exemplo 2\n",
        "> Desenvolver uma função que transforme uma temperatura em Fahrenheit para Celsius.\n",
        "\n",
        "Fonte: [Fahrenheit to Celsius formula](https://www.rapidtables.com/convert/temperature/how-fahrenheit-to-celsius.html)"
      ]
    },
    {
      "cell_type": "code",
      "metadata": {
        "id": "X6bkpYWGGA2P"
      },
      "source": [
        "x = lambda a: (a-32)*(5/9)"
      ],
      "execution_count": null,
      "outputs": []
    },
    {
      "cell_type": "code",
      "metadata": {
        "id": "jOC-vFWpGl2h"
      },
      "source": [
        "f'68 graus Fahrenheit corresponde a {x(68)} graus Celsius.'"
      ],
      "execution_count": null,
      "outputs": []
    },
    {
      "cell_type": "code",
      "metadata": {
        "id": "MSWkv-bhaW-1"
      },
      "source": [
        "type(x)"
      ],
      "execution_count": null,
      "outputs": []
    },
    {
      "cell_type": "markdown",
      "metadata": {
        "id": "Mj8bIIo4G5Gy"
      },
      "source": [
        "___\n",
        "# Exemplo 3\n",
        "> Suponha que queremos uma função para multiplicar dois números."
      ]
    },
    {
      "cell_type": "code",
      "metadata": {
        "id": "YZhfeU91G_NS"
      },
      "source": [
        "multiplica = lambda x, y: x*y"
      ],
      "execution_count": null,
      "outputs": []
    },
    {
      "cell_type": "code",
      "metadata": {
        "id": "IMtLBeV3HMz_"
      },
      "source": [
        "f'O resultado da multiplicação de 2 por 6 é {multiplica(2, 6)}.'"
      ],
      "execution_count": null,
      "outputs": []
    },
    {
      "cell_type": "markdown",
      "metadata": {
        "id": "Smme8dC1HYdp"
      },
      "source": [
        "___\n",
        "# Exemplo 4\n",
        "> Suponha que queremos multiplicar três números."
      ]
    },
    {
      "cell_type": "code",
      "metadata": {
        "id": "2d3lkQfvHp0d"
      },
      "source": [
        "multiplica3 = lambda x, y, z: x*y*z"
      ],
      "execution_count": null,
      "outputs": []
    },
    {
      "cell_type": "code",
      "metadata": {
        "id": "8_Fz6PUOHt5L"
      },
      "source": [
        "f'O resultado da multiplicação de 2 por 6 por 3 é {multiplica3(2, 6, 3)}.'"
      ],
      "execution_count": null,
      "outputs": []
    },
    {
      "cell_type": "markdown",
      "metadata": {
        "id": "xPpFqVUnKEH7"
      },
      "source": [
        "___\n",
        "# **Exercícios**"
      ]
    },
    {
      "cell_type": "markdown",
      "metadata": {
        "id": "-OTY7MsKIAZs"
      },
      "source": [
        "## Exercicio 1\n",
        "Qual a vantagem de se utilizar Lambda Functions?"
      ]
    },
    {
      "cell_type": "markdown",
      "metadata": {
        "id": "5MI2hu3-IbXf"
      },
      "source": [
        "## Exercício 2\n",
        "Desenvolva uma Lambda Function para verificar se um número é par ímpar."
      ]
    },
    {
      "cell_type": "code",
      "metadata": {
        "id": "hV4nlZduIEnO"
      },
      "source": [
        ""
      ],
      "execution_count": null,
      "outputs": []
    }
  ]
}