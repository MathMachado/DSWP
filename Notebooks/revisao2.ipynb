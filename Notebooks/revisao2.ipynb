{
  "nbformat": 4,
  "nbformat_minor": 0,
  "metadata": {
    "colab": {
      "name": "Untitled16.ipynb",
      "private_outputs": true,
      "provenance": [],
      "authorship_tag": "ABX9TyP+H2U2jM8LVvXxFNK+64DK",
      "include_colab_link": true
    },
    "kernelspec": {
      "name": "python3",
      "display_name": "Python 3"
    }
  },
  "cells": [
    {
      "cell_type": "markdown",
      "metadata": {
        "id": "view-in-github",
        "colab_type": "text"
      },
      "source": [
        "<a href=\"https://colab.research.google.com/github/MathMachado/DSWP/blob/master/Notebooks/revisao2.ipynb\" target=\"_parent\"><img src=\"https://colab.research.google.com/assets/colab-badge.svg\" alt=\"Open In Colab\"/></a>"
      ]
    },
    {
      "cell_type": "markdown",
      "metadata": {
        "id": "LwWm7NFmgHF3"
      },
      "source": [
        "## Install as libraries necessárias"
      ]
    },
    {
      "cell_type": "code",
      "metadata": {
        "id": "6aH1Z8wOf5ns"
      },
      "source": [
        "!pip install pycaret"
      ],
      "execution_count": null,
      "outputs": []
    },
    {
      "cell_type": "code",
      "metadata": {
        "id": "kBx0zASAgnMA"
      },
      "source": [
        "!pip install shap"
      ],
      "execution_count": null,
      "outputs": []
    },
    {
      "cell_type": "markdown",
      "metadata": {
        "id": "8RX_u5IGg5EE"
      },
      "source": [
        "### Carregar as libraries"
      ]
    },
    {
      "cell_type": "code",
      "metadata": {
        "id": "d3Izu8Eag9IJ"
      },
      "source": [
        "import pandas as pd\n",
        "import numpy as np\n",
        "\n",
        "from matplotlib import pyplot as plt # Gráficos\n",
        "\n",
        "import seaborn as sns\n",
        "sns.set_theme(style = 'ticks', palette = 'pastel')\n",
        "\n",
        "from pycaret import regression, classification # Canivete suiço para Machine Learning\n",
        "import shap\n",
        "\n",
        "from collections import Counter\n",
        "\n",
        "import tensorflow as tf\n",
        "tf.__version__"
      ],
      "execution_count": null,
      "outputs": []
    },
    {
      "cell_type": "code",
      "metadata": {
        "id": "jKys4jDCihrN"
      },
      "source": [
        "from pycaret.utils import enable_colab\n",
        "enable_colab()"
      ],
      "execution_count": null,
      "outputs": []
    },
    {
      "cell_type": "markdown",
      "metadata": {
        "id": "j5SNs2jTjL_N"
      },
      "source": [
        "### Configurações de ambiente"
      ]
    },
    {
      "cell_type": "code",
      "metadata": {
        "id": "5ltPzwF0j7En"
      },
      "source": [
        "pd_options = pd.options.display # Objeto para configuração do ambiente: número de linhas, colunas, precisão e etc"
      ],
      "execution_count": null,
      "outputs": []
    },
    {
      "cell_type": "code",
      "metadata": {
        "id": "3QvPhiL0kBu6"
      },
      "source": [
        "pd_options.max_columns = 50 # número máximo de colunas\n",
        "pd_options.max_rows = 50 # número máximo de linhas\n",
        "pd_options.precision = 3 # número de casas decimais\n",
        "pd_options.float_format = \"{:,.2f}\".format"
      ],
      "execution_count": null,
      "outputs": []
    },
    {
      "cell_type": "markdown",
      "metadata": {
        "id": "dhPoNfDhkngE"
      },
      "source": [
        "### Facets - DataViz"
      ]
    },
    {
      "cell_type": "code",
      "metadata": {
        "id": "74bLOSbljsAz"
      },
      "source": [
        "from IPython.core.display import display, HTML\n",
        "import base64"
      ],
      "execution_count": null,
      "outputs": []
    },
    {
      "cell_type": "code",
      "metadata": {
        "id": "vIizX-TDk1gy"
      },
      "source": [
        "!pip install facets-overview==1.0.0"
      ],
      "execution_count": null,
      "outputs": []
    },
    {
      "cell_type": "code",
      "metadata": {
        "id": "MggKPK9xlEaR"
      },
      "source": [
        "from facets_overview.feature_statistics_generator import FeatureStatisticsGenerator"
      ],
      "execution_count": null,
      "outputs": []
    },
    {
      "cell_type": "markdown",
      "metadata": {
        "id": "K4FRtW9zlU8l"
      },
      "source": [
        "### Carregar os dados de treinamento e teste"
      ]
    },
    {
      "cell_type": "code",
      "metadata": {
        "id": "sbtJZwi-lXrj"
      },
      "source": [
        "url_T = 'https://raw.githubusercontent.com/MathMachado/DataFrames/master/train_LABDATA.csv'\n",
        "url_V = 'https://raw.githubusercontent.com/MathMachado/DataFrames/master/test_LABDATA.csv'"
      ],
      "execution_count": null,
      "outputs": []
    },
    {
      "cell_type": "code",
      "metadata": {
        "id": "BEtK3q2UmJ0v"
      },
      "source": [
        "df_T = pd.read_csv(url_T, index_col = 'id')\n",
        "df_V = pd.read_csv(url_V, index_col = 'id')"
      ],
      "execution_count": null,
      "outputs": []
    },
    {
      "cell_type": "code",
      "metadata": {
        "id": "8plDnbsHmWR3"
      },
      "source": [
        "df_T.head()"
      ],
      "execution_count": null,
      "outputs": []
    },
    {
      "cell_type": "markdown",
      "metadata": {
        "id": "1kUh_IJGmiDY"
      },
      "source": [
        "### Tipos dos dados"
      ]
    },
    {
      "cell_type": "code",
      "metadata": {
        "id": "errn8PNRmXer"
      },
      "source": [
        "df_T.dtypes"
      ],
      "execution_count": null,
      "outputs": []
    },
    {
      "cell_type": "markdown",
      "metadata": {
        "id": "DBNxyZaDm-6c"
      },
      "source": [
        "### Conversão de tipos\n",
        "#### TotalCharges\n",
        "* A variável TotalCharges é do tipo 'object'. Entretanto, esta variável deveria ser do tipo 'float'.         "
      ]
    },
    {
      "cell_type": "code",
      "metadata": {
        "id": "MY_s7Jq9ovco"
      },
      "source": [
        "df_T['TotalCharges3'] = pd.to_numeric(df_T['TotalCharges'])"
      ],
      "execution_count": null,
      "outputs": []
    },
    {
      "cell_type": "markdown",
      "metadata": {
        "id": "DqAf0l_Lpase"
      },
      "source": [
        "dado que temos valores ' ' na variável TotalCharges, então precisamos usar errors = 'coerce'. Vamos olhar para a linha 161 que inviabiliza o uso do pd.astype(np.float):"
      ]
    },
    {
      "cell_type": "code",
      "metadata": {
        "id": "G31IfYdQpnny"
      },
      "source": [
        "df_T.iloc[161]"
      ],
      "execution_count": null,
      "outputs": []
    },
    {
      "cell_type": "code",
      "metadata": {
        "id": "K7sKj6-wmsUr"
      },
      "source": [
        "df_T['TotalCharges2'] = pd.to_numeric(df_T['TotalCharges'], errors = 'coerce')\n",
        "df_T.dtypes"
      ],
      "execution_count": null,
      "outputs": []
    },
    {
      "cell_type": "code",
      "metadata": {
        "id": "VFiyUXCBnnDn"
      },
      "source": [
        "df_T[['TotalCharges2', 'TotalCharges']].head(50)"
      ],
      "execution_count": null,
      "outputs": []
    },
    {
      "cell_type": "code",
      "metadata": {
        "id": "esaFT7RZqDwq"
      },
      "source": [
        "df_T.iloc[161]"
      ],
      "execution_count": null,
      "outputs": []
    },
    {
      "cell_type": "markdown",
      "metadata": {
        "id": "HEYKcctTn8GH"
      },
      "source": [
        "Me parece que a conversão foi bem-sucedida.\n",
        "\n",
        "Next: deletar a variável original."
      ]
    },
    {
      "cell_type": "code",
      "metadata": {
        "id": "oHvWX7JNn_Um"
      },
      "source": [
        "df_T = df_T.drop(columns = ['TotalCharges'], axis = 1)"
      ],
      "execution_count": null,
      "outputs": []
    },
    {
      "cell_type": "code",
      "metadata": {
        "id": "EmRD-LPyrdd7"
      },
      "source": [
        "df_T.dtypes"
      ],
      "execution_count": null,
      "outputs": []
    },
    {
      "cell_type": "markdown",
      "metadata": {
        "id": "lJ6inVXJrL1d"
      },
      "source": [
        "#### SeniorCitizen\n",
        "* A variável SeniorCitizen é do tipo 'int64'. Entretanto, esta variável deveria ser do tipo categórica."
      ]
    },
    {
      "cell_type": "code",
      "metadata": {
        "id": "27BtL-7MroKA"
      },
      "source": [
        "Counter(df_T['SeniorCitizen'])"
      ],
      "execution_count": null,
      "outputs": []
    },
    {
      "cell_type": "code",
      "metadata": {
        "id": "A5fD-FeJruXA"
      },
      "source": [
        "d_SeniorCitizen = {0 : 'No', 1: 'Yes'}"
      ],
      "execution_count": null,
      "outputs": []
    },
    {
      "cell_type": "code",
      "metadata": {
        "id": "kXMoAK78sA_r"
      },
      "source": [
        "df_T['SeniorCitizen2'] = df_T['SeniorCitizen'].map(d_SeniorCitizen)\n",
        "Counter(df_T['SeniorCitizen2'])"
      ],
      "execution_count": null,
      "outputs": []
    },
    {
      "cell_type": "markdown",
      "metadata": {
        "id": "rFv-Gw8ItyrQ"
      },
      "source": [
        "Alternativamente, poderíamos ter usado objeto.value_counts():"
      ]
    },
    {
      "cell_type": "code",
      "metadata": {
        "id": "45QjTskNsi2T"
      },
      "source": [
        "df_T['SeniorCitizen2'].value_counts()"
      ],
      "execution_count": null,
      "outputs": []
    },
    {
      "cell_type": "code",
      "metadata": {
        "id": "dY0eXfEEtX-5"
      },
      "source": [
        "df_T = df_T.drop(columns = ['SeniorCitizen'], axis = 1)"
      ],
      "execution_count": null,
      "outputs": []
    },
    {
      "cell_type": "markdown",
      "metadata": {
        "id": "sPqfAn3LqYMW"
      },
      "source": [
        "A seguir, listas por tipos de variáveis:"
      ]
    },
    {
      "cell_type": "code",
      "metadata": {
        "id": "HiizRR_5n2JY"
      },
      "source": [
        "l_features_numericas = list(df_T.select_dtypes([np.float64, np.int64]))\n",
        "l_features_numericas.remove('Churn')\n",
        "l_features_numericas"
      ],
      "execution_count": null,
      "outputs": []
    },
    {
      "cell_type": "code",
      "metadata": {
        "id": "yAH1mSmzqmk0"
      },
      "source": [
        "l_features_categoricas = list(df_T.select_dtypes(np.object))\n",
        "l_features_categoricas"
      ],
      "execution_count": null,
      "outputs": []
    },
    {
      "cell_type": "markdown",
      "metadata": {
        "id": "SLxEw5z2wdTh"
      },
      "source": [
        "### DataViz com Facets"
      ]
    },
    {
      "cell_type": "code",
      "metadata": {
        "id": "-5Yn5ykCwflG"
      },
      "source": [
        "def mostra_dados(df):\n",
        "    fsg = FeatureStatisticsGenerator()\n",
        "    dataframes = [{'table': df, 'name': 'dados de treinamento'}]\n",
        "\n",
        "    censusProto = fsg.ProtoFromDataFrames(dataframes)\n",
        "    protostr = base64.b64encode(censusProto.SerializeToString()).decode(\"utf-8\")\n",
        "\n",
        "    HTML_TEMPLATE = \"\"\"<script src=\"https://cdnjs.cloudflare.com/ajax/libs/webcomponentsjs/1.3.3/webcomponents-lite.js\"></script>\n",
        "        <link rel=\"import\" href=\"https://raw.githubusercontent.com/PAIR-code/facets/1.0.0/facets-dist/facets-jupyter.html\">\n",
        "        <facets-overview id=\"elem\"></facets-overview>\n",
        "        <script>\n",
        "          document.querySelector(\"#elem\").protoInput = \"{protostr}\";\n",
        "        </script>\"\"\"\n",
        "    html = HTML_TEMPLATE.format(protostr=protostr)\n",
        "    display(HTML(html))"
      ],
      "execution_count": null,
      "outputs": []
    },
    {
      "cell_type": "code",
      "metadata": {
        "id": "cif7OZLFw8GG"
      },
      "source": [
        "mostra_dados(df_T)"
      ],
      "execution_count": null,
      "outputs": []
    },
    {
      "cell_type": "markdown",
      "metadata": {
        "id": "pUVWvERKxtBN"
      },
      "source": [
        "### Tratamento dos Missing Values\n",
        "* Como vamos tratar os missing values?\n",
        "    * **Proposição**: Construir modelos preditivos para estimar os valores missing em função das demais variáveis que NÃO SÃO missing.\n",
        "    * Variáveis:\n",
        "        * **Numéricas**:\n",
        "            * TotalCharges2 (0.14% de missing values);\n",
        "            * tenure (8.18% de missing values).\n",
        "        * **Categóricas**:\n",
        "            * PaymentMethod (1.76% de missing values);\n",
        "            * Dependents (3.87% de missing values);"
      ]
    },
    {
      "cell_type": "markdown",
      "metadata": {
        "id": "Hr2xqs3MznBi"
      },
      "source": [
        "A seguir, funções para nos ajudar a construir os modelos de Machine Learning para estimar os missing values:"
      ]
    },
    {
      "cell_type": "code",
      "metadata": {
        "id": "UGPTQ4KszvdP"
      },
      "source": [
        "def prepara_dataframes(df, target, l_colunas_mv):\n",
        "    df2 = 'df' + '_' + target + '_sem_mv'\n",
        "    #print(df2)\n",
        "\n",
        "    l_colunas_mv.remove(target)\n",
        "    print(f'Features ignoradas: {l_colunas_mv}')\n",
        "    df2 = df.copy()\n",
        "    df3 = df.copy()\n",
        "\n",
        "    df2 = df2.dropna() # Excluir todas as linhas com missing values\n",
        "    df2 = df2.drop(columns = ['Churn'], axis = 1)\n",
        "\n",
        "    # Para reduzir o viés, vamos dropar/deletar as features que são missing values\n",
        "    df2 = df2.drop(columns = l_colunas_mv, axis = 1)\n",
        "    #print(df2.isna().sum())\n",
        "\n",
        "    # Apontar os missing values no dataframe original:\n",
        "    df3[target+'_mv'] = np.where(df3[target].isna(), 1, 0)\n",
        "\n",
        "    return df2, df3"
      ],
      "execution_count": null,
      "outputs": []
    },
    {
      "cell_type": "code",
      "metadata": {
        "id": "opMgZbm31eUd"
      },
      "source": [
        "l_colunas_mv = ['TotalCharges2', 'tenure', 'PaymentMethod', 'Dependents']"
      ],
      "execution_count": null,
      "outputs": []
    },
    {
      "cell_type": "code",
      "metadata": {
        "id": "gLBgm8pa3QC8"
      },
      "source": [
        "df_T_copia = df_T.copy()"
      ],
      "execution_count": null,
      "outputs": []
    },
    {
      "cell_type": "code",
      "metadata": {
        "id": "B6buBUpi3xm2"
      },
      "source": [
        "l_colunas_mv = ['TotalCharges2', 'tenure', 'PaymentMethod', 'Dependents']\n",
        "\n",
        "for target in l_colunas_mv:\n",
        "    l_colunas_mv_2 = ['TotalCharges2', 'tenure', 'PaymentMethod', 'Dependents']\n",
        "    exec(f\"df_{target}_sem_mv, df_T = prepara_dataframes(df_T, target, l_colunas_mv_2)\")"
      ],
      "execution_count": null,
      "outputs": []
    },
    {
      "cell_type": "markdown",
      "metadata": {
        "id": "eHUEIS5h2NOs"
      },
      "source": [
        "Quais são as alterações no dataframe orignial df_T?"
      ]
    },
    {
      "cell_type": "code",
      "metadata": {
        "id": "SlsQi2AB2Si3"
      },
      "source": [
        "df_T.head()"
      ],
      "execution_count": null,
      "outputs": []
    },
    {
      "cell_type": "markdown",
      "metadata": {
        "id": "QslBQx80EMM8"
      },
      "source": [
        "O procedimento acima construiu automaticamente os seguintes dataframes:\n",
        "* df_TotalCharges2_sem_mv\n",
        "* df_tenure_sem_mv\n",
        "* df_PaymentMethod_sem_mv\n",
        "* df_Dependents_sem_mv\n"
      ]
    },
    {
      "cell_type": "code",
      "metadata": {
        "id": "4NHC_LqE2pd8"
      },
      "source": [
        "df_tenure_sem_mv.head()"
      ],
      "execution_count": null,
      "outputs": []
    },
    {
      "cell_type": "code",
      "metadata": {
        "id": "aNPcQKwW2sgv"
      },
      "source": [
        "df_Dependents_sem_mv.head()"
      ],
      "execution_count": null,
      "outputs": []
    },
    {
      "cell_type": "markdown",
      "metadata": {
        "id": "PuXG2oM53QfR"
      },
      "source": [
        "A seguir, desenvolver uma função pycaret_regressao() e pycaret_classificacao() para nos ajudar a encontrar os melhores modelos de Machine Learning para regressão e classificação, respetivamente."
      ]
    },
    {
      "cell_type": "code",
      "metadata": {
        "id": "eUHoDf3d3ggI"
      },
      "source": [
        "def pycaret_regressao(df, target):\n",
        "    print(f'Modelo: ml_{target}')\n",
        "    print(f'Este é um problema de regressão')\n",
        "\n",
        "    ml = regression.setup(data = df,\n",
        "                          target = target,\n",
        "                          session_id = 20111974,\n",
        "                          feature_selection = True,\n",
        "                          train_size = 0.8,\n",
        "                          normalize = True, normalize_method = 'robust',\n",
        "                          feature_interaction = True,\n",
        "                          feature_ratio = True,\n",
        "                          combine_rare_levels = True,\n",
        "                          remove_multicollinearity = True,\n",
        "                          profile = True)\n",
        "    return ml"
      ],
      "execution_count": null,
      "outputs": []
    },
    {
      "cell_type": "code",
      "metadata": {
        "id": "Q2la5k1z4inX"
      },
      "source": [
        "def pycaret_classificacao(df, target):\n",
        "    print(f'Modelo: ml_{target}')\n",
        "    print(f'Este é um problema de classificação')\n",
        "\n",
        "    ml = classification.setup(data = df,\n",
        "                          target = target,\n",
        "                          session_id = 20111974,\n",
        "                          feature_selection = True,\n",
        "                          train_size = 0.8,\n",
        "                          normalize = True, normalize_method = 'robust',\n",
        "                          feature_interaction = True,\n",
        "                          feature_ratio = True,\n",
        "                          combine_rare_levels = True,\n",
        "                          remove_multicollinearity = True,\n",
        "                          profile = True,\n",
        "                          fix_imbalance = False)\n",
        "    return ml"
      ],
      "execution_count": null,
      "outputs": []
    },
    {
      "cell_type": "markdown",
      "metadata": {
        "id": "xtFB7q925M8P"
      },
      "source": [
        "### TotalCharges2 --> Numérica --> regressão"
      ]
    },
    {
      "cell_type": "markdown",
      "metadata": {
        "id": "1CI1fYoK5N36"
      },
      "source": [
        "#### Setup"
      ]
    },
    {
      "cell_type": "code",
      "metadata": {
        "id": "t_rOWx_W46ap"
      },
      "source": [
        "setup_TotalCharges2 = pycaret_regressao(df = df_TotalCharges2_sem_mv, target = 'TotalCharges2')"
      ],
      "execution_count": null,
      "outputs": []
    },
    {
      "cell_type": "markdown",
      "metadata": {
        "id": "-hKNewvx6kNX"
      },
      "source": [
        "#### Modelos de Machine Learning candidatos"
      ]
    },
    {
      "cell_type": "code",
      "metadata": {
        "id": "mxLH-XR96okc"
      },
      "source": [
        "ml_TotalCharges2 = regression.compare_models(fold = 10, sort = 'R2') # , include = ['lasso', 'br', 'ridge', 'gbr', 'lightgbm', 'catboost', 'xgboost'])"
      ],
      "execution_count": null,
      "outputs": []
    },
    {
      "cell_type": "markdown",
      "metadata": {
        "id": "PrQ1efts7tjC"
      },
      "source": [
        "Baseado no Pycaret, o melhor modelo baseline é..."
      ]
    },
    {
      "cell_type": "code",
      "metadata": {
        "id": "AIJUWgS27wRL"
      },
      "source": [
        "ml_TotalCharges2.get_params"
      ],
      "execution_count": null,
      "outputs": []
    },
    {
      "cell_type": "code",
      "metadata": {
        "id": "tDHzcNsS8NVq"
      },
      "source": [
        "ml_lasso_TotalCharges2 = regression.create_model('lasso')"
      ],
      "execution_count": null,
      "outputs": []
    },
    {
      "cell_type": "markdown",
      "metadata": {
        "id": "pZgnidS87-Il"
      },
      "source": [
        "### Parameter Tuning"
      ]
    },
    {
      "cell_type": "code",
      "metadata": {
        "id": "eSWEaydm8AYj"
      },
      "source": [
        "ml_lasso_pt_TotalCharges2 = regression.tune_model(ml_lasso_TotalCharges2)"
      ],
      "execution_count": null,
      "outputs": []
    },
    {
      "cell_type": "markdown",
      "metadata": {
        "id": "T6dMhmkz9AiV"
      },
      "source": [
        "### Gráficos"
      ]
    },
    {
      "cell_type": "code",
      "metadata": {
        "id": "ouiGIMAJ9B8e"
      },
      "source": [
        "regression.evaluate_model(ml_lasso_TotalCharges2)"
      ],
      "execution_count": null,
      "outputs": []
    },
    {
      "cell_type": "markdown",
      "metadata": {
        "id": "bBGA6DK0-hzH"
      },
      "source": [
        "### Predição dos missing values usando o modelo construído"
      ]
    },
    {
      "cell_type": "code",
      "metadata": {
        "id": "9mtpZ7VA-ppK"
      },
      "source": [
        "regression.predict_model(ml_lasso_TotalCharges2)"
      ],
      "execution_count": null,
      "outputs": []
    },
    {
      "cell_type": "markdown",
      "metadata": {
        "id": "Lm4jfWh_AVVm"
      },
      "source": [
        "Abaixo, a aplicação do modelo desenvolvido para os missing values sob análise. O Pycaret constroi pipelines com todas as transformações feitas no dataframe de treinamento. desta forma, as mesmas transformações serão aplicadas no dataframe de teste."
      ]
    },
    {
      "cell_type": "code",
      "metadata": {
        "id": "J55AhPC3Awst"
      },
      "source": [
        "df_T.head()"
      ],
      "execution_count": null,
      "outputs": []
    },
    {
      "cell_type": "code",
      "metadata": {
        "id": "SL70FtrUAlbr"
      },
      "source": [
        "df_T2 = regression.predict_model(ml_lasso_TotalCharges2, data = df_T)"
      ],
      "execution_count": null,
      "outputs": []
    },
    {
      "cell_type": "markdown",
      "metadata": {
        "id": "hV8-5zsIA8BJ"
      },
      "source": [
        "### Comparações"
      ]
    },
    {
      "cell_type": "code",
      "metadata": {
        "id": "3lssDuP-A9ra"
      },
      "source": [
        "df_T2.isna().sum()"
      ],
      "execution_count": null,
      "outputs": []
    },
    {
      "cell_type": "markdown",
      "metadata": {
        "id": "fI7N1sYwBOz9"
      },
      "source": [
        "Alguns gráficos\n",
        "* Variável original"
      ]
    },
    {
      "cell_type": "code",
      "metadata": {
        "id": "d2qmKk42BQmb"
      },
      "source": [
        "sns.boxplot(x = df_T2['Churn'], y = df_T2['TotalCharges2'])"
      ],
      "execution_count": null,
      "outputs": []
    },
    {
      "cell_type": "markdown",
      "metadata": {
        "id": "-jbWyEGEBhhK"
      },
      "source": [
        "* Variável Estimada"
      ]
    },
    {
      "cell_type": "code",
      "metadata": {
        "id": "Qu8ntfHAA64Q"
      },
      "source": [
        "sns.boxplot(x = df_T2['Churn'], y = df_T2['Label'])"
      ],
      "execution_count": null,
      "outputs": []
    },
    {
      "cell_type": "code",
      "metadata": {
        "id": "iSDn-aQCBwfD"
      },
      "source": [
        "df_T2['TotalCharges2'].describe()"
      ],
      "execution_count": null,
      "outputs": []
    },
    {
      "cell_type": "code",
      "metadata": {
        "id": "TxPDsO-L5K4O"
      },
      "source": [
        "df_T2['Label'].describe()"
      ],
      "execution_count": null,
      "outputs": []
    },
    {
      "cell_type": "markdown",
      "metadata": {
        "id": "dWdemoEMCF2z"
      },
      "source": [
        "### Atribuição aos missing values"
      ]
    },
    {
      "cell_type": "code",
      "metadata": {
        "id": "jruzhN1NCK_k"
      },
      "source": [
        "df_T2.head(3)"
      ],
      "execution_count": null,
      "outputs": []
    },
    {
      "cell_type": "code",
      "metadata": {
        "id": "75IctN33CKPe"
      },
      "source": [
        "df_T2['TotalCharges3'] = np.where(df_T2['TotalCharges2'].isna(), df_T2['Label'], df_T2['TotalCharges2'])"
      ],
      "execution_count": null,
      "outputs": []
    },
    {
      "cell_type": "code",
      "metadata": {
        "id": "8Q1WEDMsCk0q"
      },
      "source": [
        "df_T2['TotalCharges3'].describe()"
      ],
      "execution_count": null,
      "outputs": []
    },
    {
      "cell_type": "code",
      "metadata": {
        "id": "AzuFWr9MCoAB"
      },
      "source": [
        "df_T2['TotalCharges2'].describe()"
      ],
      "execution_count": null,
      "outputs": []
    },
    {
      "cell_type": "markdown",
      "metadata": {
        "id": "ekxSPTa-CxPt"
      },
      "source": [
        "### **Conclusão**\n",
        "* Temos um modelo de ML para tratamento dos missing values da variável TotalCharges2 e as estatísticas descritivas não apontam distorções significativas."
      ]
    },
    {
      "cell_type": "markdown",
      "metadata": {
        "id": "55285Iv1Geph"
      },
      "source": [
        "### Salvar o modelo para uso futuro"
      ]
    },
    {
      "cell_type": "code",
      "metadata": {
        "id": "WSaq3VsTGhMC"
      },
      "source": [
        "regression.save_model(ml_lasso_TotalCharges2, 'ml_lasso_TotalCharges2')"
      ],
      "execution_count": null,
      "outputs": []
    },
    {
      "cell_type": "markdown",
      "metadata": {
        "id": "rhzTHZLsGz4K"
      },
      "source": [
        "### Carregar o modelo (que foi previamente salvo)"
      ]
    },
    {
      "cell_type": "code",
      "metadata": {
        "id": "3lMTA_TsG5z3"
      },
      "source": [
        "ml_lasso_TotalCharges2_load = regression.load_model(model_name = 'ml_lasso_TotalCharges2')"
      ],
      "execution_count": null,
      "outputs": []
    },
    {
      "cell_type": "code",
      "metadata": {
        "id": "CobzvQ9nHCjv"
      },
      "source": [
        "ml_lasso_TotalCharges2_load.get_params"
      ],
      "execution_count": null,
      "outputs": []
    },
    {
      "cell_type": "markdown",
      "metadata": {
        "id": "_gfvDAgKFmio"
      },
      "source": [
        "### tenure --> Numérica --> regressão\n",
        "* Amanhã discutimos os resultados!"
      ]
    },
    {
      "cell_type": "markdown",
      "metadata": {
        "id": "UIPjatuRFwh5"
      },
      "source": [
        "### Segunda tentativa com PaymentMethod --> Categórica --> classificação"
      ]
    },
    {
      "cell_type": "code",
      "metadata": {
        "id": "P9dk2RBwLtNX"
      },
      "source": [
        "d_PaymentMethod = {'Bank transfer (automatic)': 1, \n",
        "                   'Credit card (automatic)': 2, \n",
        "                   'Electronic check': 3, \n",
        "                   'Mailed check': 4, \n",
        "                   np.nan: 0} # Neste caso, nossos missing values serão 0 (zero)!!!!"
      ],
      "execution_count": null,
      "outputs": []
    },
    {
      "cell_type": "code",
      "metadata": {
        "id": "pm01H4mkMDJK"
      },
      "source": [
        "df_PaymentMethod_sem_mv['PaymentMethod2'] = df_T2['PaymentMethod'].map(d_PaymentMethod)\n",
        "Counter(df_PaymentMethod_sem_mv['PaymentMethod2'])"
      ],
      "execution_count": null,
      "outputs": []
    },
    {
      "cell_type": "code",
      "metadata": {
        "id": "4qpvI-gqMBky"
      },
      "source": [
        "df_PaymentMethod_sem_mv = df_PaymentMethod_sem_mv.drop(columns= ['PaymentMethod'], axis = 1)"
      ],
      "execution_count": null,
      "outputs": []
    },
    {
      "cell_type": "markdown",
      "metadata": {
        "id": "qhAdcnDsGXGf"
      },
      "source": [
        "#### Setup"
      ]
    },
    {
      "cell_type": "code",
      "metadata": {
        "id": "rzt34f_bGXGg"
      },
      "source": [
        "setup_PaymentMethod2 = pycaret_classificacao(df = df_PaymentMethod_sem_mv, target = 'PaymentMethod2')"
      ],
      "execution_count": null,
      "outputs": []
    },
    {
      "cell_type": "markdown",
      "metadata": {
        "id": "1ok16kGkGXGg"
      },
      "source": [
        "#### Modelos de Machine Learning candidatos"
      ]
    },
    {
      "cell_type": "code",
      "metadata": {
        "id": "s7Vs_gq2GXGg"
      },
      "source": [
        "ml_PaymentMethod2 = classification.compare_models(fold = 10)"
      ],
      "execution_count": null,
      "outputs": []
    },
    {
      "cell_type": "markdown",
      "metadata": {
        "id": "0oRj3C0bGXGi"
      },
      "source": [
        "### **Conclusão**\n",
        "* Temos um modelo de ML insatisfatório."
      ]
    },
    {
      "cell_type": "markdown",
      "metadata": {
        "id": "dG9Fq5GSLlK1"
      },
      "source": [
        "### PaymentMethod --> Categórica --> classificação"
      ]
    },
    {
      "cell_type": "code",
      "metadata": {
        "id": "g7qsliFxLlK1"
      },
      "source": [
        "df_T3 = df_T2.copy()\n",
        "df_PaymentMethod_sem_mv_copia = df_PaymentMethod_sem_mv.copy()"
      ],
      "execution_count": null,
      "outputs": []
    },
    {
      "cell_type": "code",
      "metadata": {
        "id": "Og40m_GrLlK2"
      },
      "source": [
        "Counter(df_T3['PaymentMethod'])"
      ],
      "execution_count": null,
      "outputs": []
    },
    {
      "cell_type": "code",
      "metadata": {
        "id": "bfK2cTfuLlK2"
      },
      "source": [
        "Counter(df_PaymentMethod_sem_mv['PaymentMethod'])"
      ],
      "execution_count": null,
      "outputs": []
    },
    {
      "cell_type": "markdown",
      "metadata": {
        "id": "cmnqUGwvLlK2"
      },
      "source": [
        "#### Setup"
      ]
    },
    {
      "cell_type": "code",
      "metadata": {
        "id": "MtFEoMVeLlK2"
      },
      "source": [
        "setup_PaymentMethod = pycaret_classificacao(df = df_PaymentMethod_sem_mv, target = 'PaymentMethod')"
      ],
      "execution_count": null,
      "outputs": []
    },
    {
      "cell_type": "markdown",
      "metadata": {
        "id": "gdhePiEULlK2"
      },
      "source": [
        "#### Modelos de Machine Learning candidatos"
      ]
    },
    {
      "cell_type": "code",
      "metadata": {
        "id": "9Y0T9yurLlK2"
      },
      "source": [
        "ml_PaymentMethod = classification.compare_models(fold = 10)"
      ],
      "execution_count": null,
      "outputs": []
    },
    {
      "cell_type": "markdown",
      "metadata": {
        "id": "QkHYtuQVLlK2"
      },
      "source": [
        "### **Conclusão**\n",
        "* Temos um modelo de ML insatisfatório."
      ]
    },
    {
      "cell_type": "markdown",
      "metadata": {
        "id": "U-PgbM2CLlK2"
      },
      "source": [
        "### Alternativa\n",
        "* Tentar um modelo com 2 classes, conforme a seguir:\n",
        "    * Automatico: {'Bank transfer (automatic)', 'Credit card (automatic)'}\n",
        "    * Check: {'Electronic check', 'Mailed check'}\n",
        "\n",
        "* Discutir amanhã"
      ]
    },
    {
      "cell_type": "code",
      "metadata": {
        "id": "VNwuCxKuOt-L"
      },
      "source": [
        ""
      ],
      "execution_count": null,
      "outputs": []
    },
    {
      "cell_type": "markdown",
      "metadata": {
        "id": "62HizXKyEiNd"
      },
      "source": [
        "Configuração para tratamento automático de missing values usando Pycaret:"
      ]
    },
    {
      "cell_type": "code",
      "metadata": {
        "id": "0nYuhRyADyJ8"
      },
      "source": [
        " imputation_type = 'iterative', \n",
        "             iterative_imputation_iters = 20, \n",
        "             categorical_iterative_imputer = 'knn',\n",
        "             numeric_iterative_imputer = 'knn'"
      ],
      "execution_count": null,
      "outputs": []
    },
    {
      "cell_type": "code",
      "metadata": {
        "id": "AjTujYyGO0JI"
      },
      "source": [
        "df_T2.head()"
      ],
      "execution_count": null,
      "outputs": []
    },
    {
      "cell_type": "code",
      "metadata": {
        "id": "w9m5Mi6uPcdo"
      },
      "source": [
        ""
      ],
      "execution_count": null,
      "outputs": []
    },
    {
      "cell_type": "code",
      "metadata": {
        "id": "-AOwyRv0O1X0"
      },
      "source": [
        "df_T3 = df_T2.copy()\n",
        "df_T3 = pd.get_dummies(df_T3, columns = ['PaymentMethod'], dummy_na = True)\n",
        "df_T3.head()"
      ],
      "execution_count": null,
      "outputs": []
    },
    {
      "cell_type": "code",
      "metadata": {
        "id": "IDtdZjupPNeM"
      },
      "source": [
        "df_T3.isna().sum()"
      ],
      "execution_count": null,
      "outputs": []
    },
    {
      "cell_type": "code",
      "metadata": {
        "id": "g3sxLMEIP03n"
      },
      "source": [
        ""
      ],
      "execution_count": null,
      "outputs": []
    }
  ]
}