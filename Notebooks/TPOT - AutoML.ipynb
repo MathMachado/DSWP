{
  "nbformat": 4,
  "nbformat_minor": 0,
  "metadata": {
    "kernelspec": {
      "display_name": "Python 2",
      "language": "python",
      "name": "python2"
    },
    "language_info": {
      "codemirror_mode": {
        "name": "ipython",
        "version": 2
      },
      "file_extension": ".py",
      "mimetype": "text/x-python",
      "name": "python",
      "nbconvert_exporter": "python",
      "pygments_lexer": "ipython2",
      "version": "2.7.12"
    },
    "colab": {
      "name": "Portuguese Bank Marketing Stratergy.ipynb",
      "version": "0.3.2",
      "provenance": [],
      "include_colab_link": true
    }
  },
  "cells": [
    {
      "cell_type": "markdown",
      "metadata": {
        "id": "view-in-github",
        "colab_type": "text"
      },
      "source": [
        "<a href=\"https://colab.research.google.com/github/MathMachado/DSWP/blob/master/Notebooks/TPOT%20-%20AutoML.ipynb\" target=\"_parent\"><img src=\"https://colab.research.google.com/assets/colab-badge.svg\" alt=\"Open In Colab\"/></a>"
      ]
    },
    {
      "cell_type": "markdown",
      "metadata": {
        "id": "Eae1f85RxqeO",
        "colab_type": "text"
      },
      "source": [
        "# TPOT Tutorial\n",
        "* Machine Learning automático.\n",
        "\n",
        "> Os dados estão relacionados com campanhas de marketing direto (realizadas por telefone) de uma instituição bancária portuguesa. Freqüentemente, foi necessário mais de um contato para o mesmo cliente, para se verificar se o produto foi adquirido ('yes') ou não ('no').\n",
        "\n",
        "https://archive.ics.uci.edu/ml/datasets/Bank+Marketing"
      ]
    },
    {
      "cell_type": "code",
      "metadata": {
        "colab_type": "code",
        "outputId": "8c554d63-1304-4025-e664-4bd9e1285c33",
        "id": "lXc2WVbjq3U-",
        "colab": {
          "base_uri": "https://localhost:8080/",
          "height": 627
        }
      },
      "source": [
        "!pip install tpot"
      ],
      "execution_count": 0,
      "outputs": [
        {
          "output_type": "stream",
          "text": [
            "Collecting tpot\n",
            "\u001b[?25l  Downloading https://files.pythonhosted.org/packages/43/27/f0d32538b7dd9837f8761075047e92238c6baacdf1e83fc02de14e0d4337/TPOT-0.10.2.tar.gz (897kB)\n",
            "\r\u001b[K     |▍                               | 10kB 15.6MB/s eta 0:00:01\r\u001b[K     |▊                               | 20kB 3.1MB/s eta 0:00:01\r\u001b[K     |█                               | 30kB 4.5MB/s eta 0:00:01\r\u001b[K     |█▌                              | 40kB 2.9MB/s eta 0:00:01\r\u001b[K     |█▉                              | 51kB 3.6MB/s eta 0:00:01\r\u001b[K     |██▏                             | 61kB 4.3MB/s eta 0:00:01\r\u001b[K     |██▋                             | 71kB 4.9MB/s eta 0:00:01\r\u001b[K     |███                             | 81kB 5.5MB/s eta 0:00:01\r\u001b[K     |███▎                            | 92kB 6.2MB/s eta 0:00:01\r\u001b[K     |███▋                            | 102kB 4.8MB/s eta 0:00:01\r\u001b[K     |████                            | 112kB 4.8MB/s eta 0:00:01\r\u001b[K     |████▍                           | 122kB 4.8MB/s eta 0:00:01\r\u001b[K     |████▊                           | 133kB 4.8MB/s eta 0:00:01\r\u001b[K     |█████▏                          | 143kB 4.8MB/s eta 0:00:01\r\u001b[K     |█████▌                          | 153kB 4.8MB/s eta 0:00:01\r\u001b[K     |█████▉                          | 163kB 4.8MB/s eta 0:00:01\r\u001b[K     |██████▏                         | 174kB 4.8MB/s eta 0:00:01\r\u001b[K     |██████▋                         | 184kB 4.8MB/s eta 0:00:01\r\u001b[K     |███████                         | 194kB 4.8MB/s eta 0:00:01\r\u001b[K     |███████▎                        | 204kB 4.8MB/s eta 0:00:01\r\u001b[K     |███████▊                        | 215kB 4.8MB/s eta 0:00:01\r\u001b[K     |████████                        | 225kB 4.8MB/s eta 0:00:01\r\u001b[K     |████████▍                       | 235kB 4.8MB/s eta 0:00:01\r\u001b[K     |████████▊                       | 245kB 4.8MB/s eta 0:00:01\r\u001b[K     |█████████▏                      | 256kB 4.8MB/s eta 0:00:01\r\u001b[K     |█████████▌                      | 266kB 4.8MB/s eta 0:00:01\r\u001b[K     |█████████▉                      | 276kB 4.8MB/s eta 0:00:01\r\u001b[K     |██████████▎                     | 286kB 4.8MB/s eta 0:00:01\r\u001b[K     |██████████▋                     | 296kB 4.8MB/s eta 0:00:01\r\u001b[K     |███████████                     | 307kB 4.8MB/s eta 0:00:01\r\u001b[K     |███████████▎                    | 317kB 4.8MB/s eta 0:00:01\r\u001b[K     |███████████▊                    | 327kB 4.8MB/s eta 0:00:01\r\u001b[K     |████████████                    | 337kB 4.8MB/s eta 0:00:01\r\u001b[K     |████████████▍                   | 348kB 4.8MB/s eta 0:00:01\r\u001b[K     |████████████▉                   | 358kB 4.8MB/s eta 0:00:01\r\u001b[K     |█████████████▏                  | 368kB 4.8MB/s eta 0:00:01\r\u001b[K     |█████████████▌                  | 378kB 4.8MB/s eta 0:00:01\r\u001b[K     |█████████████▉                  | 389kB 4.8MB/s eta 0:00:01\r\u001b[K     |██████████████▎                 | 399kB 4.8MB/s eta 0:00:01\r\u001b[K     |██████████████▋                 | 409kB 4.8MB/s eta 0:00:01\r\u001b[K     |███████████████                 | 419kB 4.8MB/s eta 0:00:01\r\u001b[K     |███████████████▍                | 430kB 4.8MB/s eta 0:00:01\r\u001b[K     |███████████████▊                | 440kB 4.8MB/s eta 0:00:01\r\u001b[K     |████████████████                | 450kB 4.8MB/s eta 0:00:01\r\u001b[K     |████████████████▍               | 460kB 4.8MB/s eta 0:00:01\r\u001b[K     |████████████████▉               | 471kB 4.8MB/s eta 0:00:01\r\u001b[K     |█████████████████▏              | 481kB 4.8MB/s eta 0:00:01\r\u001b[K     |█████████████████▌              | 491kB 4.8MB/s eta 0:00:01\r\u001b[K     |██████████████████              | 501kB 4.8MB/s eta 0:00:01\r\u001b[K     |██████████████████▎             | 512kB 4.8MB/s eta 0:00:01\r\u001b[K     |██████████████████▋             | 522kB 4.8MB/s eta 0:00:01\r\u001b[K     |███████████████████             | 532kB 4.8MB/s eta 0:00:01\r\u001b[K     |███████████████████▍            | 542kB 4.8MB/s eta 0:00:01\r\u001b[K     |███████████████████▊            | 552kB 4.8MB/s eta 0:00:01\r\u001b[K     |████████████████████            | 563kB 4.8MB/s eta 0:00:01\r\u001b[K     |████████████████████▌           | 573kB 4.8MB/s eta 0:00:01\r\u001b[K     |████████████████████▉           | 583kB 4.8MB/s eta 0:00:01\r\u001b[K     |█████████████████████▏          | 593kB 4.8MB/s eta 0:00:01\r\u001b[K     |█████████████████████▌          | 604kB 4.8MB/s eta 0:00:01\r\u001b[K     |██████████████████████          | 614kB 4.8MB/s eta 0:00:01\r\u001b[K     |██████████████████████▎         | 624kB 4.8MB/s eta 0:00:01\r\u001b[K     |██████████████████████▋         | 634kB 4.8MB/s eta 0:00:01\r\u001b[K     |███████████████████████         | 645kB 4.8MB/s eta 0:00:01\r\u001b[K     |███████████████████████▍        | 655kB 4.8MB/s eta 0:00:01\r\u001b[K     |███████████████████████▊        | 665kB 4.8MB/s eta 0:00:01\r\u001b[K     |████████████████████████        | 675kB 4.8MB/s eta 0:00:01\r\u001b[K     |████████████████████████▌       | 686kB 4.8MB/s eta 0:00:01\r\u001b[K     |████████████████████████▉       | 696kB 4.8MB/s eta 0:00:01\r\u001b[K     |█████████████████████████▏      | 706kB 4.8MB/s eta 0:00:01\r\u001b[K     |█████████████████████████▋      | 716kB 4.8MB/s eta 0:00:01\r\u001b[K     |██████████████████████████      | 727kB 4.8MB/s eta 0:00:01\r\u001b[K     |██████████████████████████▎     | 737kB 4.8MB/s eta 0:00:01\r\u001b[K     |██████████████████████████▋     | 747kB 4.8MB/s eta 0:00:01\r\u001b[K     |███████████████████████████     | 757kB 4.8MB/s eta 0:00:01\r\u001b[K     |███████████████████████████▍    | 768kB 4.8MB/s eta 0:00:01\r\u001b[K     |███████████████████████████▊    | 778kB 4.8MB/s eta 0:00:01\r\u001b[K     |████████████████████████████▏   | 788kB 4.8MB/s eta 0:00:01\r\u001b[K     |████████████████████████████▌   | 798kB 4.8MB/s eta 0:00:01\r\u001b[K     |████████████████████████████▉   | 808kB 4.8MB/s eta 0:00:01\r\u001b[K     |█████████████████████████████▎  | 819kB 4.8MB/s eta 0:00:01\r\u001b[K     |█████████████████████████████▋  | 829kB 4.8MB/s eta 0:00:01\r\u001b[K     |██████████████████████████████  | 839kB 4.8MB/s eta 0:00:01\r\u001b[K     |██████████████████████████████▎ | 849kB 4.8MB/s eta 0:00:01\r\u001b[K     |██████████████████████████████▊ | 860kB 4.8MB/s eta 0:00:01\r\u001b[K     |███████████████████████████████ | 870kB 4.8MB/s eta 0:00:01\r\u001b[K     |███████████████████████████████▍| 880kB 4.8MB/s eta 0:00:01\r\u001b[K     |███████████████████████████████▉| 890kB 4.8MB/s eta 0:00:01\r\u001b[K     |████████████████████████████████| 901kB 4.8MB/s \n",
            "\u001b[?25hRequirement already satisfied: numpy>=1.12.1 in /usr/local/lib/python2.7/dist-packages (from tpot) (1.16.4)\n",
            "Requirement already satisfied: scipy>=0.19.0 in /usr/local/lib/python2.7/dist-packages (from tpot) (1.2.2)\n",
            "Requirement already satisfied: scikit-learn>=0.18.1 in /usr/local/lib/python2.7/dist-packages (from tpot) (0.20.3)\n",
            "Collecting deap>=1.0 (from tpot)\n",
            "\u001b[?25l  Downloading https://files.pythonhosted.org/packages/6d/e9/970863efddbcb5ead47c6e8c242eab06751eeeb944651753592eacd6d562/deap-1.3.0-cp27-cp27mu-manylinux2010_x86_64.whl (150kB)\n",
            "\u001b[K     |████████████████████████████████| 153kB 48.5MB/s \n",
            "\u001b[?25hCollecting update_checker>=0.16 (from tpot)\n",
            "  Downloading https://files.pythonhosted.org/packages/17/c9/ab11855af164d03be0ff4fddd4c46a5bd44799a9ecc1770e01a669c21168/update_checker-0.16-py2.py3-none-any.whl\n",
            "Requirement already satisfied: tqdm>=4.26.0 in /usr/local/lib/python2.7/dist-packages (from tpot) (4.28.1)\n",
            "Collecting stopit>=1.1.1 (from tpot)\n",
            "  Downloading https://files.pythonhosted.org/packages/35/58/e8bb0b0fb05baf07bbac1450c447d753da65f9701f551dca79823ce15d50/stopit-1.1.2.tar.gz\n",
            "Requirement already satisfied: pandas>=0.20.2 in /usr/local/lib/python2.7/dist-packages (from tpot) (0.24.2)\n",
            "Requirement already satisfied: joblib>=0.10.3 in /usr/local/lib/python2.7/dist-packages (from tpot) (0.12.5)\n",
            "Requirement already satisfied: requests>=2.3.0 in /usr/local/lib/python2.7/dist-packages (from update_checker>=0.16->tpot) (2.21.0)\n",
            "Requirement already satisfied: pytz>=2011k in /usr/local/lib/python2.7/dist-packages (from pandas>=0.20.2->tpot) (2018.9)\n",
            "Requirement already satisfied: python-dateutil>=2.5.0 in /usr/local/lib/python2.7/dist-packages (from pandas>=0.20.2->tpot) (2.5.3)\n",
            "Requirement already satisfied: urllib3<1.25,>=1.21.1 in /usr/local/lib/python2.7/dist-packages (from requests>=2.3.0->update_checker>=0.16->tpot) (1.24.3)\n",
            "Requirement already satisfied: certifi>=2017.4.17 in /usr/local/lib/python2.7/dist-packages (from requests>=2.3.0->update_checker>=0.16->tpot) (2019.6.16)\n",
            "Requirement already satisfied: chardet<3.1.0,>=3.0.2 in /usr/local/lib/python2.7/dist-packages (from requests>=2.3.0->update_checker>=0.16->tpot) (3.0.4)\n",
            "Requirement already satisfied: idna<2.9,>=2.5 in /usr/local/lib/python2.7/dist-packages (from requests>=2.3.0->update_checker>=0.16->tpot) (2.8)\n",
            "Requirement already satisfied: six>=1.5 in /usr/local/lib/python2.7/dist-packages (from python-dateutil>=2.5.0->pandas>=0.20.2->tpot) (1.12.0)\n",
            "Building wheels for collected packages: tpot, stopit\n",
            "  Building wheel for tpot (setup.py) ... \u001b[?25l\u001b[?25hdone\n",
            "  Created wheel for tpot: filename=TPOT-0.10.2-cp27-none-any.whl size=75534 sha256=f369349eb379b241c20364bfe63ae0d62026206d94439bf2d504908ea04bbf75\n",
            "  Stored in directory: /root/.cache/pip/wheels/ca/9c/3e/5e1a3dc59d666aeecd4104992cab01bd8d2454e4d5b40057a4\n",
            "  Building wheel for stopit (setup.py) ... \u001b[?25l\u001b[?25hdone\n",
            "  Created wheel for stopit: filename=stopit-1.1.2-cp27-none-any.whl size=11956 sha256=c442420a996f4a72fe573dfb0e6366afef45e674b0a394cad6db14a78f37e3ad\n",
            "  Stored in directory: /root/.cache/pip/wheels/3c/85/2b/2580190404636bfc63e8de3dff629c03bb795021e1983a6cc7\n",
            "Successfully built tpot stopit\n",
            "Installing collected packages: deap, update-checker, stopit, tpot\n",
            "Successfully installed deap-1.3.0 stopit-1.1.2 tpot-0.10.2 update-checker-0.16\n"
          ],
          "name": "stdout"
        }
      ]
    },
    {
      "cell_type": "code",
      "metadata": {
        "id": "y1C-bFyyxqeT",
        "colab_type": "code",
        "colab": {}
      },
      "source": [
        "# Importar as bibliotecas\n",
        "from tpot import TPOTClassifier\n",
        "from sklearn.model_selection import train_test_split\n",
        "import pandas as pd \n",
        "import numpy as np"
      ],
      "execution_count": 0,
      "outputs": []
    },
    {
      "cell_type": "code",
      "metadata": {
        "id": "uyzPXsiqxqeY",
        "colab_type": "code",
        "outputId": "d0846d31-55be-4530-9417-03c1043913ac",
        "colab": {
          "base_uri": "https://localhost:8080/",
          "height": 222
        }
      },
      "source": [
        "# Carregar os dados\n",
        "url= 'https://raw.githubusercontent.com/MathMachado/Python_RFB/DS_Python/Dataframes/bank-full.csv?token=AGDJQ622LYCH5FJDMIEHDM25QSDN4'\n",
        "df_Mkt=pd.read_csv(url, sep= ';')\n",
        "df_Mkt.head(5)"
      ],
      "execution_count": 113,
      "outputs": [
        {
          "output_type": "execute_result",
          "data": {
            "text/html": [
              "<div>\n",
              "<style scoped>\n",
              "    .dataframe tbody tr th:only-of-type {\n",
              "        vertical-align: middle;\n",
              "    }\n",
              "\n",
              "    .dataframe tbody tr th {\n",
              "        vertical-align: top;\n",
              "    }\n",
              "\n",
              "    .dataframe thead th {\n",
              "        text-align: right;\n",
              "    }\n",
              "</style>\n",
              "<table border=\"1\" class=\"dataframe\">\n",
              "  <thead>\n",
              "    <tr style=\"text-align: right;\">\n",
              "      <th></th>\n",
              "      <th>age</th>\n",
              "      <th>job</th>\n",
              "      <th>marital</th>\n",
              "      <th>education</th>\n",
              "      <th>default</th>\n",
              "      <th>balance</th>\n",
              "      <th>housing</th>\n",
              "      <th>loan</th>\n",
              "      <th>contact</th>\n",
              "      <th>day</th>\n",
              "      <th>month</th>\n",
              "      <th>duration</th>\n",
              "      <th>campaign</th>\n",
              "      <th>pdays</th>\n",
              "      <th>previous</th>\n",
              "      <th>poutcome</th>\n",
              "      <th>y</th>\n",
              "    </tr>\n",
              "  </thead>\n",
              "  <tbody>\n",
              "    <tr>\n",
              "      <th>0</th>\n",
              "      <td>58</td>\n",
              "      <td>management</td>\n",
              "      <td>married</td>\n",
              "      <td>tertiary</td>\n",
              "      <td>no</td>\n",
              "      <td>2143</td>\n",
              "      <td>yes</td>\n",
              "      <td>no</td>\n",
              "      <td>unknown</td>\n",
              "      <td>5</td>\n",
              "      <td>may</td>\n",
              "      <td>261</td>\n",
              "      <td>1</td>\n",
              "      <td>-1</td>\n",
              "      <td>0</td>\n",
              "      <td>unknown</td>\n",
              "      <td>no</td>\n",
              "    </tr>\n",
              "    <tr>\n",
              "      <th>1</th>\n",
              "      <td>44</td>\n",
              "      <td>technician</td>\n",
              "      <td>single</td>\n",
              "      <td>secondary</td>\n",
              "      <td>no</td>\n",
              "      <td>29</td>\n",
              "      <td>yes</td>\n",
              "      <td>no</td>\n",
              "      <td>unknown</td>\n",
              "      <td>5</td>\n",
              "      <td>may</td>\n",
              "      <td>151</td>\n",
              "      <td>1</td>\n",
              "      <td>-1</td>\n",
              "      <td>0</td>\n",
              "      <td>unknown</td>\n",
              "      <td>no</td>\n",
              "    </tr>\n",
              "    <tr>\n",
              "      <th>2</th>\n",
              "      <td>33</td>\n",
              "      <td>entrepreneur</td>\n",
              "      <td>married</td>\n",
              "      <td>secondary</td>\n",
              "      <td>no</td>\n",
              "      <td>2</td>\n",
              "      <td>yes</td>\n",
              "      <td>yes</td>\n",
              "      <td>unknown</td>\n",
              "      <td>5</td>\n",
              "      <td>may</td>\n",
              "      <td>76</td>\n",
              "      <td>1</td>\n",
              "      <td>-1</td>\n",
              "      <td>0</td>\n",
              "      <td>unknown</td>\n",
              "      <td>no</td>\n",
              "    </tr>\n",
              "    <tr>\n",
              "      <th>3</th>\n",
              "      <td>47</td>\n",
              "      <td>blue-collar</td>\n",
              "      <td>married</td>\n",
              "      <td>unknown</td>\n",
              "      <td>no</td>\n",
              "      <td>1506</td>\n",
              "      <td>yes</td>\n",
              "      <td>no</td>\n",
              "      <td>unknown</td>\n",
              "      <td>5</td>\n",
              "      <td>may</td>\n",
              "      <td>92</td>\n",
              "      <td>1</td>\n",
              "      <td>-1</td>\n",
              "      <td>0</td>\n",
              "      <td>unknown</td>\n",
              "      <td>no</td>\n",
              "    </tr>\n",
              "    <tr>\n",
              "      <th>4</th>\n",
              "      <td>33</td>\n",
              "      <td>unknown</td>\n",
              "      <td>single</td>\n",
              "      <td>unknown</td>\n",
              "      <td>no</td>\n",
              "      <td>1</td>\n",
              "      <td>no</td>\n",
              "      <td>no</td>\n",
              "      <td>unknown</td>\n",
              "      <td>5</td>\n",
              "      <td>may</td>\n",
              "      <td>198</td>\n",
              "      <td>1</td>\n",
              "      <td>-1</td>\n",
              "      <td>0</td>\n",
              "      <td>unknown</td>\n",
              "      <td>no</td>\n",
              "    </tr>\n",
              "  </tbody>\n",
              "</table>\n",
              "</div>"
            ],
            "text/plain": [
              "   age           job  marital  education  ... pdays  previous poutcome   y\n",
              "0   58    management  married   tertiary  ...    -1         0  unknown  no\n",
              "1   44    technician   single  secondary  ...    -1         0  unknown  no\n",
              "2   33  entrepreneur  married  secondary  ...    -1         0  unknown  no\n",
              "3   47   blue-collar  married    unknown  ...    -1         0  unknown  no\n",
              "4   33       unknown   single    unknown  ...    -1         0  unknown  no\n",
              "\n",
              "[5 rows x 17 columns]"
            ]
          },
          "metadata": {
            "tags": []
          },
          "execution_count": 113
        }
      ]
    },
    {
      "cell_type": "markdown",
      "metadata": {
        "id": "ABkwdeoRxqec",
        "colab_type": "text"
      },
      "source": [
        "# Exploração dos Dados"
      ]
    },
    {
      "cell_type": "code",
      "metadata": {
        "id": "2_m87Rxzxqee",
        "colab_type": "code",
        "outputId": "03313dbd-a3c4-4566-be16-176a5b91264b",
        "colab": {
          "base_uri": "https://localhost:8080/",
          "height": 141
        }
      },
      "source": [
        "df_Mkt.groupby(['loan']).y.value_counts().unstack()"
      ],
      "execution_count": 114,
      "outputs": [
        {
          "output_type": "execute_result",
          "data": {
            "text/html": [
              "<div>\n",
              "<style scoped>\n",
              "    .dataframe tbody tr th:only-of-type {\n",
              "        vertical-align: middle;\n",
              "    }\n",
              "\n",
              "    .dataframe tbody tr th {\n",
              "        vertical-align: top;\n",
              "    }\n",
              "\n",
              "    .dataframe thead th {\n",
              "        text-align: right;\n",
              "    }\n",
              "</style>\n",
              "<table border=\"1\" class=\"dataframe\">\n",
              "  <thead>\n",
              "    <tr style=\"text-align: right;\">\n",
              "      <th>y</th>\n",
              "      <th>no</th>\n",
              "      <th>yes</th>\n",
              "    </tr>\n",
              "    <tr>\n",
              "      <th>loan</th>\n",
              "      <th></th>\n",
              "      <th></th>\n",
              "    </tr>\n",
              "  </thead>\n",
              "  <tbody>\n",
              "    <tr>\n",
              "      <th>no</th>\n",
              "      <td>33162</td>\n",
              "      <td>4805</td>\n",
              "    </tr>\n",
              "    <tr>\n",
              "      <th>yes</th>\n",
              "      <td>6760</td>\n",
              "      <td>484</td>\n",
              "    </tr>\n",
              "  </tbody>\n",
              "</table>\n",
              "</div>"
            ],
            "text/plain": [
              "y        no   yes\n",
              "loan             \n",
              "no    33162  4805\n",
              "yes    6760   484"
            ]
          },
          "metadata": {
            "tags": []
          },
          "execution_count": 114
        }
      ]
    },
    {
      "cell_type": "code",
      "metadata": {
        "id": "_z23rO3Fxqei",
        "colab_type": "code",
        "outputId": "21bd9cab-b503-41ac-8bc8-71bee1923cf0",
        "colab": {
          "base_uri": "https://localhost:8080/",
          "height": 263
        }
      },
      "source": [
        "df_Mkt.groupby(['loan','marital']).y.value_counts().unstack()"
      ],
      "execution_count": 115,
      "outputs": [
        {
          "output_type": "execute_result",
          "data": {
            "text/html": [
              "<div>\n",
              "<style scoped>\n",
              "    .dataframe tbody tr th:only-of-type {\n",
              "        vertical-align: middle;\n",
              "    }\n",
              "\n",
              "    .dataframe tbody tr th {\n",
              "        vertical-align: top;\n",
              "    }\n",
              "\n",
              "    .dataframe thead th {\n",
              "        text-align: right;\n",
              "    }\n",
              "</style>\n",
              "<table border=\"1\" class=\"dataframe\">\n",
              "  <thead>\n",
              "    <tr style=\"text-align: right;\">\n",
              "      <th></th>\n",
              "      <th>y</th>\n",
              "      <th>no</th>\n",
              "      <th>yes</th>\n",
              "    </tr>\n",
              "    <tr>\n",
              "      <th>loan</th>\n",
              "      <th>marital</th>\n",
              "      <th></th>\n",
              "      <th></th>\n",
              "    </tr>\n",
              "  </thead>\n",
              "  <tbody>\n",
              "    <tr>\n",
              "      <th rowspan=\"3\" valign=\"top\">no</th>\n",
              "      <th>divorced</th>\n",
              "      <td>3731</td>\n",
              "      <td>555</td>\n",
              "    </tr>\n",
              "    <tr>\n",
              "      <th>married</th>\n",
              "      <td>20069</td>\n",
              "      <td>2485</td>\n",
              "    </tr>\n",
              "    <tr>\n",
              "      <th>single</th>\n",
              "      <td>9362</td>\n",
              "      <td>1765</td>\n",
              "    </tr>\n",
              "    <tr>\n",
              "      <th rowspan=\"3\" valign=\"top\">yes</th>\n",
              "      <th>divorced</th>\n",
              "      <td>854</td>\n",
              "      <td>67</td>\n",
              "    </tr>\n",
              "    <tr>\n",
              "      <th>married</th>\n",
              "      <td>4390</td>\n",
              "      <td>270</td>\n",
              "    </tr>\n",
              "    <tr>\n",
              "      <th>single</th>\n",
              "      <td>1516</td>\n",
              "      <td>147</td>\n",
              "    </tr>\n",
              "  </tbody>\n",
              "</table>\n",
              "</div>"
            ],
            "text/plain": [
              "y                 no   yes\n",
              "loan marital              \n",
              "no   divorced   3731   555\n",
              "     married   20069  2485\n",
              "     single     9362  1765\n",
              "yes  divorced    854    67\n",
              "     married    4390   270\n",
              "     single     1516   147"
            ]
          },
          "metadata": {
            "tags": []
          },
          "execution_count": 115
        }
      ]
    },
    {
      "cell_type": "markdown",
      "metadata": {
        "id": "e0PmgR1-xqem",
        "colab_type": "text"
      },
      "source": [
        "# Manipulação dos Dados"
      ]
    },
    {
      "cell_type": "markdown",
      "metadata": {
        "id": "dV9QXZQ8xqen",
        "colab_type": "text"
      },
      "source": [
        "* TPOT exige que a variável-resposta seja renomeada para 'class';"
      ]
    },
    {
      "cell_type": "code",
      "metadata": {
        "id": "TVE7DH7_xqeo",
        "colab_type": "code",
        "colab": {}
      },
      "source": [
        "df_Mkt.rename(columns={'y': 'class'}, inplace=True)"
      ],
      "execution_count": 0,
      "outputs": []
    },
    {
      "cell_type": "markdown",
      "metadata": {
        "id": "Ai2IGmoLxqer",
        "colab_type": "text"
      },
      "source": [
        "> TPOT exige que todos os dados estejam em formato numérico.\n",
        "    >> Como podemos ver abaixo, o dataframe contem 11 variáveis categóricas (valores não-numéricos): job, marital, education, default, housing, loan, contact, month, day_of_week, poutcome, class."
      ]
    },
    {
      "cell_type": "code",
      "metadata": {
        "id": "73X2KRQRxqes",
        "colab_type": "code",
        "outputId": "ba1617da-e885-45fe-fc36-881aeb594fde",
        "colab": {
          "base_uri": "https://localhost:8080/",
          "height": 329
        }
      },
      "source": [
        "df_Mkt.dtypes"
      ],
      "execution_count": 117,
      "outputs": [
        {
          "output_type": "execute_result",
          "data": {
            "text/plain": [
              "age           int64\n",
              "job          object\n",
              "marital      object\n",
              "education    object\n",
              "default      object\n",
              "balance       int64\n",
              "housing      object\n",
              "loan         object\n",
              "contact      object\n",
              "day           int64\n",
              "month        object\n",
              "duration      int64\n",
              "campaign      int64\n",
              "pdays         int64\n",
              "previous      int64\n",
              "poutcome     object\n",
              "class        object\n",
              "dtype: object"
            ]
          },
          "metadata": {
            "tags": []
          },
          "execution_count": 117
        }
      ]
    },
    {
      "cell_type": "code",
      "metadata": {
        "id": "hxvu-IYPs34t",
        "colab_type": "code",
        "colab": {
          "base_uri": "https://localhost:8080/",
          "height": 191
        },
        "outputId": "de406de6-0866-4574-a713-755eb1593a03"
      },
      "source": [
        "# Lista de variáveis categóricas do banco de dados\n",
        "l_Cat_Vars= list(df_Mkt.select_dtypes(include=['object']).columns)\n",
        "l_Cat_Vars"
      ],
      "execution_count": 118,
      "outputs": [
        {
          "output_type": "execute_result",
          "data": {
            "text/plain": [
              "['job',\n",
              " 'marital',\n",
              " 'education',\n",
              " 'default',\n",
              " 'housing',\n",
              " 'loan',\n",
              " 'contact',\n",
              " 'month',\n",
              " 'poutcome',\n",
              " 'class']"
            ]
          },
          "metadata": {
            "tags": []
          },
          "execution_count": 118
        }
      ]
    },
    {
      "cell_type": "markdown",
      "metadata": {
        "id": "aEjh8MXWxqex",
        "colab_type": "text"
      },
      "source": [
        "Em seguida, verificamos o número de níveis que cada uma das cinco variáveis categóricas possui."
      ]
    },
    {
      "cell_type": "markdown",
      "metadata": {
        "id": "ohfbUDXCxqe6",
        "colab_type": "text"
      },
      "source": [
        "* Codificamos as categorias manualmente para numéricos.\n",
        "* NaN's foram substituidos pela mediana."
      ]
    },
    {
      "cell_type": "code",
      "metadata": {
        "id": "tQlVu_j7xqe7",
        "colab_type": "code",
        "colab": {}
      },
      "source": [
        "df_Mkt['marital']= df_Mkt['marital'].map({'married':0,'single':1,'divorced':2,'unknown':3})\n",
        "df_Mkt['default']= df_Mkt['default'].map({'no':0,'yes':1,'unknown':2})\n",
        "df_Mkt['housing']= df_Mkt['housing'].map({'no':0,'yes':1,'unknown':2})\n",
        "df_Mkt['loan']= df_Mkt['loan'].map({'no':0,'yes':1,'unknown':2})\n",
        "df_Mkt['contact']= df_Mkt['contact'].map({'telephone':0,'cellular':1})\n",
        "df_Mkt['poutcome']= df_Mkt['poutcome'].map({'nonexistent':0,'failure':1,'success':2})\n",
        "df_Mkt['class']= df_Mkt['class'].map({'no':0,'yes':1})"
      ],
      "execution_count": 0,
      "outputs": []
    },
    {
      "cell_type": "code",
      "metadata": {
        "id": "SA1Bk2tyxqfB",
        "colab_type": "code",
        "outputId": "0bdb9bdd-5a60-4b40-a004-9fb5b5188b5a",
        "colab": {
          "base_uri": "https://localhost:8080/",
          "height": 329
        }
      },
      "source": [
        "df_Mkt = df_Mkt.fillna(df_Mkt.median())\n",
        "pd.isnull(df_Mkt).any()"
      ],
      "execution_count": 120,
      "outputs": [
        {
          "output_type": "execute_result",
          "data": {
            "text/plain": [
              "age          False\n",
              "job          False\n",
              "marital      False\n",
              "education    False\n",
              "default      False\n",
              "balance      False\n",
              "housing      False\n",
              "loan         False\n",
              "contact      False\n",
              "day          False\n",
              "month        False\n",
              "duration     False\n",
              "campaign     False\n",
              "pdays        False\n",
              "previous     False\n",
              "poutcome     False\n",
              "class        False\n",
              "dtype: bool"
            ]
          },
          "metadata": {
            "tags": []
          },
          "execution_count": 120
        }
      ]
    },
    {
      "cell_type": "markdown",
      "metadata": {
        "id": "LuF3CGdmxqfF",
        "colab_type": "text"
      },
      "source": [
        "* Para outras variáveis categóricas, usei pd.get_dummies..."
      ]
    },
    {
      "cell_type": "code",
      "metadata": {
        "id": "nbmnDeOg4jkQ",
        "colab_type": "code",
        "colab": {
          "base_uri": "https://localhost:8080/",
          "height": 35
        },
        "outputId": "ad12c959-9d2a-424d-950a-acbd6b121d73"
      },
      "source": [
        "# Lista de variáveis categóricas do banco de dados\n",
        "l_Cat_Vars= list(df_Mkt.select_dtypes(include=['object']).columns)\n",
        "l_Cat_Vars"
      ],
      "execution_count": 121,
      "outputs": [
        {
          "output_type": "execute_result",
          "data": {
            "text/plain": [
              "['job', 'education', 'month']"
            ]
          },
          "metadata": {
            "tags": []
          },
          "execution_count": 121
        }
      ]
    },
    {
      "cell_type": "code",
      "metadata": {
        "id": "NoY8aPwZ1Gb8",
        "colab_type": "code",
        "colab": {
          "base_uri": "https://localhost:8080/",
          "height": 239
        },
        "outputId": "18d06449-f5d0-4f02-a3d3-6b2808b650b8"
      },
      "source": [
        "# Constroi variáveis dummy\n",
        "df_Mkt = pd.get_dummies(df_Mkt)\n",
        "df_Mkt.head()"
      ],
      "execution_count": 122,
      "outputs": [
        {
          "output_type": "execute_result",
          "data": {
            "text/html": [
              "<div>\n",
              "<style scoped>\n",
              "    .dataframe tbody tr th:only-of-type {\n",
              "        vertical-align: middle;\n",
              "    }\n",
              "\n",
              "    .dataframe tbody tr th {\n",
              "        vertical-align: top;\n",
              "    }\n",
              "\n",
              "    .dataframe thead th {\n",
              "        text-align: right;\n",
              "    }\n",
              "</style>\n",
              "<table border=\"1\" class=\"dataframe\">\n",
              "  <thead>\n",
              "    <tr style=\"text-align: right;\">\n",
              "      <th></th>\n",
              "      <th>age</th>\n",
              "      <th>marital</th>\n",
              "      <th>default</th>\n",
              "      <th>balance</th>\n",
              "      <th>housing</th>\n",
              "      <th>loan</th>\n",
              "      <th>contact</th>\n",
              "      <th>day</th>\n",
              "      <th>duration</th>\n",
              "      <th>campaign</th>\n",
              "      <th>pdays</th>\n",
              "      <th>previous</th>\n",
              "      <th>poutcome</th>\n",
              "      <th>class</th>\n",
              "      <th>job_admin.</th>\n",
              "      <th>job_blue-collar</th>\n",
              "      <th>job_entrepreneur</th>\n",
              "      <th>job_housemaid</th>\n",
              "      <th>job_management</th>\n",
              "      <th>job_retired</th>\n",
              "      <th>job_self-employed</th>\n",
              "      <th>job_services</th>\n",
              "      <th>job_student</th>\n",
              "      <th>job_technician</th>\n",
              "      <th>job_unemployed</th>\n",
              "      <th>job_unknown</th>\n",
              "      <th>education_primary</th>\n",
              "      <th>education_secondary</th>\n",
              "      <th>education_tertiary</th>\n",
              "      <th>education_unknown</th>\n",
              "      <th>month_apr</th>\n",
              "      <th>month_aug</th>\n",
              "      <th>month_dec</th>\n",
              "      <th>month_feb</th>\n",
              "      <th>month_jan</th>\n",
              "      <th>month_jul</th>\n",
              "      <th>month_jun</th>\n",
              "      <th>month_mar</th>\n",
              "      <th>month_may</th>\n",
              "      <th>month_nov</th>\n",
              "      <th>month_oct</th>\n",
              "      <th>month_sep</th>\n",
              "    </tr>\n",
              "  </thead>\n",
              "  <tbody>\n",
              "    <tr>\n",
              "      <th>0</th>\n",
              "      <td>58</td>\n",
              "      <td>0</td>\n",
              "      <td>0</td>\n",
              "      <td>2143</td>\n",
              "      <td>1</td>\n",
              "      <td>0</td>\n",
              "      <td>1.0</td>\n",
              "      <td>5</td>\n",
              "      <td>261</td>\n",
              "      <td>1</td>\n",
              "      <td>-1</td>\n",
              "      <td>0</td>\n",
              "      <td>1.0</td>\n",
              "      <td>0</td>\n",
              "      <td>0</td>\n",
              "      <td>0</td>\n",
              "      <td>0</td>\n",
              "      <td>0</td>\n",
              "      <td>1</td>\n",
              "      <td>0</td>\n",
              "      <td>0</td>\n",
              "      <td>0</td>\n",
              "      <td>0</td>\n",
              "      <td>0</td>\n",
              "      <td>0</td>\n",
              "      <td>0</td>\n",
              "      <td>0</td>\n",
              "      <td>0</td>\n",
              "      <td>1</td>\n",
              "      <td>0</td>\n",
              "      <td>0</td>\n",
              "      <td>0</td>\n",
              "      <td>0</td>\n",
              "      <td>0</td>\n",
              "      <td>0</td>\n",
              "      <td>0</td>\n",
              "      <td>0</td>\n",
              "      <td>0</td>\n",
              "      <td>1</td>\n",
              "      <td>0</td>\n",
              "      <td>0</td>\n",
              "      <td>0</td>\n",
              "    </tr>\n",
              "    <tr>\n",
              "      <th>1</th>\n",
              "      <td>44</td>\n",
              "      <td>1</td>\n",
              "      <td>0</td>\n",
              "      <td>29</td>\n",
              "      <td>1</td>\n",
              "      <td>0</td>\n",
              "      <td>1.0</td>\n",
              "      <td>5</td>\n",
              "      <td>151</td>\n",
              "      <td>1</td>\n",
              "      <td>-1</td>\n",
              "      <td>0</td>\n",
              "      <td>1.0</td>\n",
              "      <td>0</td>\n",
              "      <td>0</td>\n",
              "      <td>0</td>\n",
              "      <td>0</td>\n",
              "      <td>0</td>\n",
              "      <td>0</td>\n",
              "      <td>0</td>\n",
              "      <td>0</td>\n",
              "      <td>0</td>\n",
              "      <td>0</td>\n",
              "      <td>1</td>\n",
              "      <td>0</td>\n",
              "      <td>0</td>\n",
              "      <td>0</td>\n",
              "      <td>1</td>\n",
              "      <td>0</td>\n",
              "      <td>0</td>\n",
              "      <td>0</td>\n",
              "      <td>0</td>\n",
              "      <td>0</td>\n",
              "      <td>0</td>\n",
              "      <td>0</td>\n",
              "      <td>0</td>\n",
              "      <td>0</td>\n",
              "      <td>0</td>\n",
              "      <td>1</td>\n",
              "      <td>0</td>\n",
              "      <td>0</td>\n",
              "      <td>0</td>\n",
              "    </tr>\n",
              "    <tr>\n",
              "      <th>2</th>\n",
              "      <td>33</td>\n",
              "      <td>0</td>\n",
              "      <td>0</td>\n",
              "      <td>2</td>\n",
              "      <td>1</td>\n",
              "      <td>1</td>\n",
              "      <td>1.0</td>\n",
              "      <td>5</td>\n",
              "      <td>76</td>\n",
              "      <td>1</td>\n",
              "      <td>-1</td>\n",
              "      <td>0</td>\n",
              "      <td>1.0</td>\n",
              "      <td>0</td>\n",
              "      <td>0</td>\n",
              "      <td>0</td>\n",
              "      <td>1</td>\n",
              "      <td>0</td>\n",
              "      <td>0</td>\n",
              "      <td>0</td>\n",
              "      <td>0</td>\n",
              "      <td>0</td>\n",
              "      <td>0</td>\n",
              "      <td>0</td>\n",
              "      <td>0</td>\n",
              "      <td>0</td>\n",
              "      <td>0</td>\n",
              "      <td>1</td>\n",
              "      <td>0</td>\n",
              "      <td>0</td>\n",
              "      <td>0</td>\n",
              "      <td>0</td>\n",
              "      <td>0</td>\n",
              "      <td>0</td>\n",
              "      <td>0</td>\n",
              "      <td>0</td>\n",
              "      <td>0</td>\n",
              "      <td>0</td>\n",
              "      <td>1</td>\n",
              "      <td>0</td>\n",
              "      <td>0</td>\n",
              "      <td>0</td>\n",
              "    </tr>\n",
              "    <tr>\n",
              "      <th>3</th>\n",
              "      <td>47</td>\n",
              "      <td>0</td>\n",
              "      <td>0</td>\n",
              "      <td>1506</td>\n",
              "      <td>1</td>\n",
              "      <td>0</td>\n",
              "      <td>1.0</td>\n",
              "      <td>5</td>\n",
              "      <td>92</td>\n",
              "      <td>1</td>\n",
              "      <td>-1</td>\n",
              "      <td>0</td>\n",
              "      <td>1.0</td>\n",
              "      <td>0</td>\n",
              "      <td>0</td>\n",
              "      <td>1</td>\n",
              "      <td>0</td>\n",
              "      <td>0</td>\n",
              "      <td>0</td>\n",
              "      <td>0</td>\n",
              "      <td>0</td>\n",
              "      <td>0</td>\n",
              "      <td>0</td>\n",
              "      <td>0</td>\n",
              "      <td>0</td>\n",
              "      <td>0</td>\n",
              "      <td>0</td>\n",
              "      <td>0</td>\n",
              "      <td>0</td>\n",
              "      <td>1</td>\n",
              "      <td>0</td>\n",
              "      <td>0</td>\n",
              "      <td>0</td>\n",
              "      <td>0</td>\n",
              "      <td>0</td>\n",
              "      <td>0</td>\n",
              "      <td>0</td>\n",
              "      <td>0</td>\n",
              "      <td>1</td>\n",
              "      <td>0</td>\n",
              "      <td>0</td>\n",
              "      <td>0</td>\n",
              "    </tr>\n",
              "    <tr>\n",
              "      <th>4</th>\n",
              "      <td>33</td>\n",
              "      <td>1</td>\n",
              "      <td>0</td>\n",
              "      <td>1</td>\n",
              "      <td>0</td>\n",
              "      <td>0</td>\n",
              "      <td>1.0</td>\n",
              "      <td>5</td>\n",
              "      <td>198</td>\n",
              "      <td>1</td>\n",
              "      <td>-1</td>\n",
              "      <td>0</td>\n",
              "      <td>1.0</td>\n",
              "      <td>0</td>\n",
              "      <td>0</td>\n",
              "      <td>0</td>\n",
              "      <td>0</td>\n",
              "      <td>0</td>\n",
              "      <td>0</td>\n",
              "      <td>0</td>\n",
              "      <td>0</td>\n",
              "      <td>0</td>\n",
              "      <td>0</td>\n",
              "      <td>0</td>\n",
              "      <td>0</td>\n",
              "      <td>1</td>\n",
              "      <td>0</td>\n",
              "      <td>0</td>\n",
              "      <td>0</td>\n",
              "      <td>1</td>\n",
              "      <td>0</td>\n",
              "      <td>0</td>\n",
              "      <td>0</td>\n",
              "      <td>0</td>\n",
              "      <td>0</td>\n",
              "      <td>0</td>\n",
              "      <td>0</td>\n",
              "      <td>0</td>\n",
              "      <td>1</td>\n",
              "      <td>0</td>\n",
              "      <td>0</td>\n",
              "      <td>0</td>\n",
              "    </tr>\n",
              "  </tbody>\n",
              "</table>\n",
              "</div>"
            ],
            "text/plain": [
              "   age  marital  default  balance  ...  month_may  month_nov  month_oct  month_sep\n",
              "0   58        0        0     2143  ...          1          0          0          0\n",
              "1   44        1        0       29  ...          1          0          0          0\n",
              "2   33        0        0        2  ...          1          0          0          0\n",
              "3   47        0        0     1506  ...          1          0          0          0\n",
              "4   33        1        0        1  ...          1          0          0          0\n",
              "\n",
              "[5 rows x 42 columns]"
            ]
          },
          "metadata": {
            "tags": []
          },
          "execution_count": 122
        }
      ]
    },
    {
      "cell_type": "code",
      "metadata": {
        "id": "ofFFVoiDxqfm",
        "colab_type": "code",
        "outputId": "76f0cb3e-aa98-4fae-b9b5-35598b5348e5",
        "colab": {
          "base_uri": "https://localhost:8080/",
          "height": 763
        }
      },
      "source": [
        "np.isnan(df_Mkt).any()"
      ],
      "execution_count": 123,
      "outputs": [
        {
          "output_type": "execute_result",
          "data": {
            "text/plain": [
              "age                    False\n",
              "marital                False\n",
              "default                False\n",
              "balance                False\n",
              "housing                False\n",
              "loan                   False\n",
              "contact                False\n",
              "day                    False\n",
              "duration               False\n",
              "campaign               False\n",
              "pdays                  False\n",
              "previous               False\n",
              "poutcome               False\n",
              "class                  False\n",
              "job_admin.             False\n",
              "job_blue-collar        False\n",
              "job_entrepreneur       False\n",
              "job_housemaid          False\n",
              "job_management         False\n",
              "job_retired            False\n",
              "job_self-employed      False\n",
              "job_services           False\n",
              "job_student            False\n",
              "job_technician         False\n",
              "job_unemployed         False\n",
              "job_unknown            False\n",
              "education_primary      False\n",
              "education_secondary    False\n",
              "education_tertiary     False\n",
              "education_unknown      False\n",
              "month_apr              False\n",
              "month_aug              False\n",
              "month_dec              False\n",
              "month_feb              False\n",
              "month_jan              False\n",
              "month_jul              False\n",
              "month_jun              False\n",
              "month_mar              False\n",
              "month_may              False\n",
              "month_nov              False\n",
              "month_oct              False\n",
              "month_sep              False\n",
              "dtype: bool"
            ]
          },
          "metadata": {
            "tags": []
          },
          "execution_count": 123
        }
      ]
    },
    {
      "cell_type": "markdown",
      "metadata": {
        "id": "4V-ONgJJxqf1",
        "colab_type": "text"
      },
      "source": [
        "Tendo em mente que os dados estarão no formato numpy, podemos verificar o número de recursos no conjunto de dados final da seguinte forma."
      ]
    },
    {
      "cell_type": "code",
      "metadata": {
        "id": "rNBKWe2088MU",
        "colab_type": "code",
        "colab": {}
      },
      "source": [
        "y= df_Mkt['class']\n",
        "X= df_Mkt.drop(['class'], axis= 1)\n",
        "\n",
        "# Convertendo para numpy\n",
        "X= X.to_numpy()\n",
        "y= y.to_numpy()"
      ],
      "execution_count": 0,
      "outputs": []
    },
    {
      "cell_type": "code",
      "metadata": {
        "id": "5T1HbNQbxqf5",
        "colab_type": "code",
        "outputId": "5c357c8c-fbd3-4bf9-c7a2-6eba402138bd",
        "colab": {
          "base_uri": "https://localhost:8080/",
          "height": 35
        }
      },
      "source": [
        "np.shape(X)"
      ],
      "execution_count": 132,
      "outputs": [
        {
          "output_type": "execute_result",
          "data": {
            "text/plain": [
              "(45211, 41)"
            ]
          },
          "metadata": {
            "tags": []
          },
          "execution_count": 132
        }
      ]
    },
    {
      "cell_type": "code",
      "metadata": {
        "id": "7C8mU81h9y9O",
        "colab_type": "code",
        "colab": {
          "base_uri": "https://localhost:8080/",
          "height": 35
        },
        "outputId": "3aa26303-fff3-42f0-a401-f54a0f46d2d8"
      },
      "source": [
        "df_Mkt.shape"
      ],
      "execution_count": 126,
      "outputs": [
        {
          "output_type": "execute_result",
          "data": {
            "text/plain": [
              "(45211, 42)"
            ]
          },
          "metadata": {
            "tags": []
          },
          "execution_count": 126
        }
      ]
    },
    {
      "cell_type": "markdown",
      "metadata": {
        "id": "j19bgjRZxqgC",
        "colab_type": "text"
      },
      "source": [
        "# Análise de Dados com TPOT"
      ]
    },
    {
      "cell_type": "markdown",
      "metadata": {
        "id": "LmtmWvXGxqgD",
        "colab_type": "text"
      },
      "source": [
        "* Dividir os dados em conjuntos de treinamento e validação."
      ]
    },
    {
      "cell_type": "code",
      "metadata": {
        "id": "ungeFHwlxqgF",
        "colab_type": "code",
        "outputId": "b39216cc-3ee3-41ad-c6cb-d6b3dc60846a",
        "colab": {
          "base_uri": "https://localhost:8080/",
          "height": 35
        }
      },
      "source": [
        "X_train, X_test, y_train, y_test = train_test_split(X, y, test_size= 0.2)\n",
        "np.shape(X_train), np.shape(y_train)"
      ],
      "execution_count": 144,
      "outputs": [
        {
          "output_type": "execute_result",
          "data": {
            "text/plain": [
              "((36168, 41), (36168,))"
            ]
          },
          "metadata": {
            "tags": []
          },
          "execution_count": 144
        }
      ]
    },
    {
      "cell_type": "markdown",
      "metadata": {
        "id": "i45mB6PBxqgJ",
        "colab_type": "text"
      },
      "source": [
        "Agora passamos a chamar as funções fit(), score() e export() em nosso conjunto de dados de treinamento. Um parâmetro TPOT importante a ser definido é o número de gerações (via kwarg de gerações). Como nosso objetivo é apenas ilustrar o uso do TPOT, assumimos a configuração padrão de 100 gerações, limitando o tempo total de execução através do max_time_mins. Além disso, habilitamos o controle do tempo máximo permitido para a otimização de um único pipeline, via max_eval_time_mins.\n",
        "\n",
        "Em um laptop padrão com 4 GB de RAM, cada geração leva aproximadamente 5 minutos para ser executada. Portanto, para o valor padrão de 100, sem a duração explícita vinculada, o tempo total de execução pode ser de aproximadamente 8 horas."
      ]
    },
    {
      "cell_type": "code",
      "metadata": {
        "id": "2J7aQeonxqgJ",
        "colab_type": "code",
        "outputId": "3011906a-32d7-4e22-8836-ecc4330d6925",
        "colab": {
          "base_uri": "https://localhost:8080/",
          "height": 349
        }
      },
      "source": [
        "tpot = TPOTClassifier(verbosity=2, max_time_mins=2, max_eval_time_mins=0.04, population_size=15)\n",
        "tpot.fit(X_train, y_train)"
      ],
      "execution_count": 145,
      "outputs": [
        {
          "output_type": "display_data",
          "data": {
            "application/vnd.jupyter.widget-view+json": {
              "model_id": "96613d3d055c4b1bb66bd2b7144b9dbc",
              "version_minor": 0,
              "version_major": 2
            },
            "text/plain": [
              "HBox(children=(IntProgress(value=0, description=u'Optimization Progress', max=15, style=ProgressStyle(descript…"
            ]
          },
          "metadata": {
            "tags": []
          }
        },
        {
          "output_type": "stream",
          "text": [
            "Generation 1 - Current best internal CV score: 0.90021551991\n",
            "Generation 2 - Current best internal CV score: 0.900381479677\n",
            "\n",
            "2.03246738333 minutes have elapsed. TPOT will close down.\n",
            "TPOT closed during evaluation in one generation.\n",
            "WARNING: TPOT may not provide a good pipeline if TPOT is stopped/interrupted in a early generation.\n",
            "\n",
            "\n",
            "TPOT closed prematurely. Will use the current best pipeline.\n",
            "\n",
            "Best pipeline: DecisionTreeClassifier(input_matrix, criterion=gini, max_depth=9, min_samples_leaf=14, min_samples_split=9)\n"
          ],
          "name": "stdout"
        },
        {
          "output_type": "execute_result",
          "data": {
            "text/plain": [
              "TPOTClassifier(config_dict=None, crossover_rate=0.1, cv=5,\n",
              "        disable_update_check=False, early_stop=None, generations=1000000,\n",
              "        max_eval_time_mins=0.04, max_time_mins=2, memory=None,\n",
              "        mutation_rate=0.9, n_jobs=1, offspring_size=None,\n",
              "        periodic_checkpoint_folder=None, population_size=15,\n",
              "        random_state=None, scoring=None, subsample=1.0, template=None,\n",
              "        use_dask=False, verbosity=2, warm_start=False)"
            ]
          },
          "metadata": {
            "tags": []
          },
          "execution_count": 145
        }
      ]
    },
    {
      "cell_type": "markdown",
      "metadata": {
        "id": "MwGWi5A-xqgM",
        "colab_type": "text"
      },
      "source": [
        "Acima, quatro gerações foram computadas, cada uma fornecendo a eficiência de treinamento do modelo de ajuste no conjunto de treinamento. Como é evidente, o melhor pipeline é aquele que tem a pontuação CV de 91,373%. O modelo que produz esse resultado é o algoritmo de árvore de decisão. Em seguida, o erro de teste é calculado para fins de validação."
      ]
    },
    {
      "cell_type": "markdown",
      "metadata": {
        "id": "1jkfgcLqB75E",
        "colab_type": "text"
      },
      "source": [
        "# Exercícios\n",
        "* Em grupo de até 4 alunos, estude e aplique as técnicas de Machine Learning que aprendemos até aqui: TPOT, Ensemble e etc para entregar o melhor modelo possível."
      ]
    },
    {
      "cell_type": "markdown",
      "metadata": {
        "id": "8TYZPToaCJx8",
        "colab_type": "text"
      },
      "source": [
        "## Exercício 1 - Big Mart Sales\n",
        "* Big_Mart_Sales_III\n",
        "    * [Dados](https://raw.githubusercontent.com/MathMachado/Python_RFB/master/Dataframes/Big_Mart_Sales_III_train.txt?token=AGDJQ6ZOMVTZUMU4K3F7DW25QSRJ6);\n",
        "    * Variável-target: Item_Outlet_Sales."
      ]
    },
    {
      "cell_type": "markdown",
      "metadata": {
        "id": "aVsvbf1BGIPh",
        "colab_type": "text"
      },
      "source": [
        "## Exercício 2 - Titanic\n",
        "* Dados: Titanic_Original.csv que está na pasta Dataframe."
      ]
    },
    {
      "cell_type": "markdown",
      "metadata": {
        "id": "lZQBe-CiGgYy",
        "colab_type": "text"
      },
      "source": [
        "## Exercício 3 - Predizer se um indívidio ganha mais que $50k\n",
        "* https://archive.ics.uci.edu/ml/datasets/Adult\n",
        "\n",
        "* Base de dados: adult.csv que está no repositório dataframes."
      ]
    }
  ]
}