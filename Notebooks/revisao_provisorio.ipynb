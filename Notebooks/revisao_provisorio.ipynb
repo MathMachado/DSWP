{
  "nbformat": 4,
  "nbformat_minor": 0,
  "metadata": {
    "colab": {
      "name": "revisao.ipynb",
      "private_outputs": true,
      "provenance": [],
      "authorship_tag": "ABX9TyMpSJecFBJ9XriTRbFk6BiN",
      "include_colab_link": true
    },
    "kernelspec": {
      "name": "python3",
      "display_name": "Python 3"
    }
  },
  "cells": [
    {
      "cell_type": "markdown",
      "metadata": {
        "id": "view-in-github",
        "colab_type": "text"
      },
      "source": [
        "<a href=\"https://colab.research.google.com/github/MathMachado/DSWP/blob/master/Notebooks/revisao_provisorio.ipynb\" target=\"_parent\"><img src=\"https://colab.research.google.com/assets/colab-badge.svg\" alt=\"Open In Colab\"/></a>"
      ]
    },
    {
      "cell_type": "markdown",
      "metadata": {
        "id": "LwWm7NFmgHF3"
      },
      "source": [
        "## Install as libraries necessárias"
      ]
    },
    {
      "cell_type": "code",
      "metadata": {
        "id": "6aH1Z8wOf5ns"
      },
      "source": [
        "!pip install pycaret"
      ],
      "execution_count": null,
      "outputs": []
    },
    {
      "cell_type": "code",
      "metadata": {
        "id": "kBx0zASAgnMA"
      },
      "source": [
        "!pip install shap"
      ],
      "execution_count": null,
      "outputs": []
    },
    {
      "cell_type": "markdown",
      "metadata": {
        "id": "8RX_u5IGg5EE"
      },
      "source": [
        "### Carregar as libraries"
      ]
    },
    {
      "cell_type": "code",
      "metadata": {
        "id": "d3Izu8Eag9IJ"
      },
      "source": [
        "import pandas as pd\n",
        "import numpy as np\n",
        "\n",
        "from matplotlib import pyplot as plt # Gráficos\n",
        "\n",
        "import seaborn as sns\n",
        "sns.set_theme(style = 'ticks', palette = 'pastel')\n",
        "\n",
        "from pycaret import regression, classification # Canivete suiço para Machine Learning\n",
        "import shap\n",
        "\n",
        "from collections import Counter\n",
        "\n",
        "import tensorflow as tf\n",
        "tf.__version__"
      ],
      "execution_count": null,
      "outputs": []
    },
    {
      "cell_type": "code",
      "metadata": {
        "id": "jKys4jDCihrN"
      },
      "source": [
        "from pycaret.utils import enable_colab\n",
        "enable_colab()"
      ],
      "execution_count": null,
      "outputs": []
    },
    {
      "cell_type": "markdown",
      "metadata": {
        "id": "j5SNs2jTjL_N"
      },
      "source": [
        "### Configurações de ambiente"
      ]
    },
    {
      "cell_type": "code",
      "metadata": {
        "id": "5ltPzwF0j7En"
      },
      "source": [
        "pd_options = pd.options.display # Objeto para configuração do ambiente: número de linhas, colunas, precisão e etc"
      ],
      "execution_count": null,
      "outputs": []
    },
    {
      "cell_type": "code",
      "metadata": {
        "id": "3QvPhiL0kBu6"
      },
      "source": [
        "pd_options.max_columns = 50 # número máximo de colunas\n",
        "pd_options.max_rows = 50 # número máximo de linhas\n",
        "pd_options.precision = 3 # número de casas decimais\n",
        "pd_options.float_format = \"{:,.3f}\".format"
      ],
      "execution_count": null,
      "outputs": []
    },
    {
      "cell_type": "markdown",
      "metadata": {
        "id": "dhPoNfDhkngE"
      },
      "source": [
        "### Facets - DataViz"
      ]
    },
    {
      "cell_type": "code",
      "metadata": {
        "id": "74bLOSbljsAz"
      },
      "source": [
        "from IPython.core.display import display, HTML\n",
        "import base64"
      ],
      "execution_count": null,
      "outputs": []
    },
    {
      "cell_type": "code",
      "metadata": {
        "id": "vIizX-TDk1gy"
      },
      "source": [
        "!pip install facets-overview==1.0.0"
      ],
      "execution_count": null,
      "outputs": []
    },
    {
      "cell_type": "code",
      "metadata": {
        "id": "MggKPK9xlEaR"
      },
      "source": [
        "from facets_overview.feature_statistics_generator import FeatureStatisticsGenerator"
      ],
      "execution_count": null,
      "outputs": []
    },
    {
      "cell_type": "markdown",
      "metadata": {
        "id": "K4FRtW9zlU8l"
      },
      "source": [
        "### Carregar os dados de treinamento e teste"
      ]
    },
    {
      "cell_type": "code",
      "metadata": {
        "id": "sbtJZwi-lXrj"
      },
      "source": [
        "url_T = 'https://raw.githubusercontent.com/MathMachado/DataFrames/master/train_LABDATA.csv';\n",
        "url_V = 'https://raw.githubusercontent.com/MathMachado/DataFrames/master/test_LABDATA.csv';"
      ],
      "execution_count": null,
      "outputs": []
    },
    {
      "cell_type": "code",
      "metadata": {
        "id": "BEtK3q2UmJ0v"
      },
      "source": [
        "df_T = pd.read_csv(url_T, index_col = 'id')\n",
        "df_V = pd.read_csv(url_V, index_col = 'id')"
      ],
      "execution_count": null,
      "outputs": []
    },
    {
      "cell_type": "code",
      "metadata": {
        "id": "8plDnbsHmWR3"
      },
      "source": [
        "df_T.head()"
      ],
      "execution_count": null,
      "outputs": []
    },
    {
      "cell_type": "markdown",
      "metadata": {
        "id": "1kUh_IJGmiDY"
      },
      "source": [
        "### Tipos dos dados"
      ]
    },
    {
      "cell_type": "code",
      "metadata": {
        "id": "errn8PNRmXer"
      },
      "source": [
        "df_T.dtypes"
      ],
      "execution_count": null,
      "outputs": []
    },
    {
      "cell_type": "markdown",
      "metadata": {
        "id": "DBNxyZaDm-6c"
      },
      "source": [
        "### Conversão de tipos\n",
        "#### TotalCharges\n",
        "* A variável TotalCharges é do tipo 'object'. Entretanto, esta variável deveria ser do tipo 'float'.         "
      ]
    },
    {
      "cell_type": "code",
      "metadata": {
        "id": "MY_s7Jq9ovco"
      },
      "source": [
        "#df_T['TotalCharges2'] = pd.to_numeric(df_T['TotalCharges']) # NÃO VAI FUNCIONAR, POIS indice 161 tem um valor NULL, o que impede da transformação funcionar correctamente."
      ],
      "execution_count": null,
      "outputs": []
    },
    {
      "cell_type": "markdown",
      "metadata": {
        "id": "DqAf0l_Lpase"
      },
      "source": [
        "dado que temos valores NULL na variável TotalCharges, então precisamos usar errors = 'coerce'. Vamos olhar para o índice 161 que é uma das linhas que inviabiliza o uso do pd.astype(np.float):"
      ]
    },
    {
      "cell_type": "code",
      "metadata": {
        "id": "G31IfYdQpnny"
      },
      "source": [
        "df_T.iloc[161] # Como estamos interessados na linha de índice 161, então usamos df.iloc[]"
      ],
      "execution_count": null,
      "outputs": []
    },
    {
      "cell_type": "code",
      "metadata": {
        "id": "K7sKj6-wmsUr"
      },
      "source": [
        "df_T['TotalCharges2'] = pd.to_numeric(df_T['TotalCharges'], errors = 'coerce')\n",
        "df_V['TotalCharges2'] = pd.to_numeric(df_V['TotalCharges'], errors = 'coerce') # A mesma operação/transformação precisa ser feita em df_V:\n",
        "\n",
        "df_T.dtypes"
      ],
      "execution_count": null,
      "outputs": []
    },
    {
      "cell_type": "code",
      "metadata": {
        "id": "VFiyUXCBnnDn"
      },
      "source": [
        "df_T[['TotalCharges2', 'TotalCharges']].head(20)"
      ],
      "execution_count": null,
      "outputs": []
    },
    {
      "cell_type": "code",
      "metadata": {
        "id": "esaFT7RZqDwq"
      },
      "source": [
        "df_T.iloc[161]"
      ],
      "execution_count": null,
      "outputs": []
    },
    {
      "cell_type": "markdown",
      "metadata": {
        "id": "HEYKcctTn8GH"
      },
      "source": [
        "Me parece que a conversão foi bem-sucedida.\n",
        "\n",
        "Next: deletar a variável original."
      ]
    },
    {
      "cell_type": "code",
      "metadata": {
        "id": "oHvWX7JNn_Um"
      },
      "source": [
        "df_T = df_T.drop(columns = ['TotalCharges'], axis = 1)\n",
        "df_V = df_V.drop(columns = ['TotalCharges'], axis = 1) # Mesma transformação na validação"
      ],
      "execution_count": null,
      "outputs": []
    },
    {
      "cell_type": "code",
      "metadata": {
        "id": "EmRD-LPyrdd7"
      },
      "source": [
        "df_T.dtypes"
      ],
      "execution_count": null,
      "outputs": []
    },
    {
      "cell_type": "markdown",
      "metadata": {
        "id": "lJ6inVXJrL1d"
      },
      "source": [
        "#### SeniorCitizen\n",
        "* A variável SeniorCitizen é do tipo 'int64'. Entretanto, esta variável deveria ser do tipo categórica."
      ]
    },
    {
      "cell_type": "code",
      "metadata": {
        "id": "27BtL-7MroKA"
      },
      "source": [
        "Counter(df_T['SeniorCitizen'])"
      ],
      "execution_count": null,
      "outputs": []
    },
    {
      "cell_type": "code",
      "metadata": {
        "id": "A5fD-FeJruXA"
      },
      "source": [
        "d_SeniorCitizen = {0 : 'No', 1: 'Yes'}"
      ],
      "execution_count": null,
      "outputs": []
    },
    {
      "cell_type": "code",
      "metadata": {
        "id": "kXMoAK78sA_r"
      },
      "source": [
        "df_T['SeniorCitizen2'] = df_T['SeniorCitizen'].map(d_SeniorCitizen)\n",
        "df_V['SeniorCitizen2'] = df_V['SeniorCitizen'].map(d_SeniorCitizen) # Mesma transformação em teste\n",
        "\n",
        "Counter(df_T['SeniorCitizen2'])"
      ],
      "execution_count": null,
      "outputs": []
    },
    {
      "cell_type": "markdown",
      "metadata": {
        "id": "rFv-Gw8ItyrQ"
      },
      "source": [
        "Alternativamente, poderíamos ter usado objeto.value_counts():"
      ]
    },
    {
      "cell_type": "code",
      "metadata": {
        "id": "45QjTskNsi2T"
      },
      "source": [
        "df_T['SeniorCitizen2'].value_counts()"
      ],
      "execution_count": null,
      "outputs": []
    },
    {
      "cell_type": "code",
      "metadata": {
        "id": "dY0eXfEEtX-5"
      },
      "source": [
        "df_T = df_T.drop(columns = ['SeniorCitizen'], axis = 1)\n",
        "df_V = df_V.drop(columns = ['SeniorCitizen'], axis = 1)"
      ],
      "execution_count": null,
      "outputs": []
    },
    {
      "cell_type": "markdown",
      "metadata": {
        "id": "UXc3cMlOxRl7"
      },
      "source": [
        "### Feature Engineering"
      ]
    },
    {
      "cell_type": "code",
      "metadata": {
        "id": "IbyIX0l6xUo4"
      },
      "source": [
        "df_T.head()"
      ],
      "execution_count": null,
      "outputs": []
    },
    {
      "cell_type": "markdown",
      "metadata": {
        "id": "8ylD8uwHNeTs"
      },
      "source": [
        "#### Construção da variável qtd_servicos_adicionais\n",
        "* Sugestão do Zenilson."
      ]
    },
    {
      "cell_type": "code",
      "metadata": {
        "id": "UcfdCMPLxT4T"
      },
      "source": [
        "df_T[\"qtd_servicos_adicionais\"] = 0\n",
        "df_T.loc[df_T[\"OnlineSecurity\"] == \"Yes\",\"qtd_servicos_adicionais\"] = df_T[\"qtd_servicos_adicionais\"] + 1\n",
        "df_T.loc[df_T[\"OnlineBackup\"] == \"Yes\",\"qtd_servicos_adicionais\"] =  df_T[\"qtd_servicos_adicionais\"] + 1\n",
        "df_T.loc[df_T[\"DeviceProtection\"] == \"Yes\",\"qtd_servicos_adicionais\"] =  df_T[\"qtd_servicos_adicionais\"] + 1\n",
        "df_T.loc[df_T[\"TechSupport\"] == \"Yes\",\"qtd_servicos_adicionais\"] = df_T[\"qtd_servicos_adicionais\"] + 1\n",
        "df_T.loc[df_T[\"PhoneService\"] == \"Yes\", \"qtd_servicos_adicionais\"] = df_T[\"qtd_servicos_adicionais\"] + 1\n",
        "df_T.loc[df_T[\"StreamingTV\"] == \"Yes\", \"qtd_servicos_adicionais\"] = df_T[\"qtd_servicos_adicionais\"] + 1\n",
        "df_T.loc[df_T[\"StreamingMovies\"] == \"Yes\", \"qtd_servicos_adicionais\"] = df_T[\"qtd_servicos_adicionais\"] + 1\n",
        "df_T.loc[df_T[\"InternetService\"] == \"Yes\", \"qtd_servicos_adicionais\"] = df_T[\"qtd_servicos_adicionais\"] + 1"
      ],
      "execution_count": null,
      "outputs": []
    },
    {
      "cell_type": "markdown",
      "metadata": {
        "id": "5uAAY9koH7s-"
      },
      "source": [
        "A mesma variável foi criada abaixo no dataframe de teste/validação:"
      ]
    },
    {
      "cell_type": "code",
      "metadata": {
        "id": "yhnU3wvVxy6U"
      },
      "source": [
        "df_V[\"qtd_servicos_adicionais\"] = 0\n",
        "df_V.loc[df_V[\"OnlineSecurity\"] == \"Yes\",\"qtd_servicos_adicionais\"] = df_V[\"qtd_servicos_adicionais\"] + 1\n",
        "df_V.loc[df_V[\"OnlineBackup\"] == \"Yes\",\"qtd_servicos_adicionais\"] =  df_V[\"qtd_servicos_adicionais\"] + 1\n",
        "df_V.loc[df_V[\"DeviceProtection\"] == \"Yes\",\"qtd_servicos_adicionais\"] =  df_V[\"qtd_servicos_adicionais\"] + 1\n",
        "df_V.loc[df_V[\"TechSupport\"] == \"Yes\",\"qtd_servicos_adicionais\"] = df_V[\"qtd_servicos_adicionais\"] + 1\n",
        "df_V.loc[df_V[\"PhoneService\"] == \"Yes\", \"qtd_servicos_adicionais\"] = df_V[\"qtd_servicos_adicionais\"] + 1\n",
        "df_V.loc[df_V[\"StreamingTV\"] == \"Yes\", \"qtd_servicos_adicionais\"] = df_V[\"qtd_servicos_adicionais\"] + 1\n",
        "df_V.loc[df_V[\"StreamingMovies\"] == \"Yes\", \"qtd_servicos_adicionais\"] = df_V[\"qtd_servicos_adicionais\"] + 1\n",
        "df_V.loc[df_V[\"InternetService\"] == \"Yes\", \"qtd_servicos_adicionais\"] = df_V[\"qtd_servicos_adicionais\"] + 1"
      ],
      "execution_count": null,
      "outputs": []
    },
    {
      "cell_type": "code",
      "metadata": {
        "id": "AaT0h6wHIOm4"
      },
      "source": [
        "df_T['qtd_servicos_adicionais'].describe()"
      ],
      "execution_count": null,
      "outputs": []
    },
    {
      "cell_type": "code",
      "metadata": {
        "id": "q-lD0mhqIYEy"
      },
      "source": [
        "df_T['qtd_servicos_adicionais'].hist()"
      ],
      "execution_count": null,
      "outputs": []
    },
    {
      "cell_type": "code",
      "metadata": {
        "id": "L2TW_idTIwJm"
      },
      "source": [
        "Counter(df_T['qtd_servicos_adicionais'])"
      ],
      "execution_count": null,
      "outputs": []
    },
    {
      "cell_type": "code",
      "metadata": {
        "id": "w94MISQnMYJ4"
      },
      "source": [
        "#df_T = df_T.drop(columns = ['qtd_servicos_adicionais'], axis = 1)\n",
        "#df_V = df_V.drop(columns = ['qtd_servicos_adicionais'], axis = 1)"
      ],
      "execution_count": null,
      "outputs": []
    },
    {
      "cell_type": "code",
      "metadata": {
        "id": "6KkuiapDJf9h"
      },
      "source": [
        "df_T.head()"
      ],
      "execution_count": null,
      "outputs": []
    },
    {
      "cell_type": "markdown",
      "metadata": {
        "id": "4zSzIgqnNxRl"
      },
      "source": [
        "#### Feature Engineering - Construção da variável tempo_contrato\n",
        "* Sugestão do Sandro."
      ]
    },
    {
      "cell_type": "code",
      "metadata": {
        "id": "0fw5k3nkOD7E"
      },
      "source": [
        "df_T[['tenure', 'Contract']].head()"
      ],
      "execution_count": null,
      "outputs": []
    },
    {
      "cell_type": "code",
      "metadata": {
        "id": "s3hj3mE0OOP9"
      },
      "source": [
        "Counter(df_T['Contract'])"
      ],
      "execution_count": null,
      "outputs": []
    },
    {
      "cell_type": "markdown",
      "metadata": {
        "id": "X8V2TBMhQ4zu"
      },
      "source": [
        "Como a variável 'Contract' não é numérica, fiz da seguinte forma:"
      ]
    },
    {
      "cell_type": "code",
      "metadata": {
        "id": "-fX3YWymOadr"
      },
      "source": [
        "df_T.loc[df_T['Contract'] == 'Month-to-month', 'tempo_contrato'] = df_T['tenure']/1\n",
        "df_T.loc[df_T['Contract'] == 'One year', 'tempo_contrato'] = df_T['tenure']/12\n",
        "df_T.loc[df_T['Contract'] == 'Two year', 'tempo_contrato'] = df_T['tenure']/24\n",
        "\n",
        "# Mesmas transformações no dataframe de teste:\n",
        "df_V.loc[df_V['Contract'] == 'Month-to-month', 'tempo_contrato'] = np.round(df_V['tenure']/1, 1)\n",
        "df_V.loc[df_V['Contract'] == 'One year', 'tempo_contrato'] = np.round(df_V['tenure']/12, 1)\n",
        "df_V.loc[df_V['Contract'] == 'Two year', 'tempo_contrato'] = np.round(df_V['tenure']/24, 1)"
      ],
      "execution_count": null,
      "outputs": []
    },
    {
      "cell_type": "code",
      "metadata": {
        "id": "WU1_pNHTPYvm"
      },
      "source": [
        "df_T[['tenure', 'Contract', 'tempo_contrato']].head()"
      ],
      "execution_count": null,
      "outputs": []
    },
    {
      "cell_type": "code",
      "metadata": {
        "id": "JzyM77ETSOWg"
      },
      "source": [
        "df_T['tempo_contrato'].hist(bins=10)"
      ],
      "execution_count": null,
      "outputs": []
    },
    {
      "cell_type": "markdown",
      "metadata": {
        "id": "vm25gTaZafrI"
      },
      "source": [
        "Decidi construir 10 classes para a variável tempo_contrato. Segue abaixo:\n",
        "* Experimentando pd.qcut()"
      ]
    },
    {
      "cell_type": "code",
      "metadata": {
        "id": "uh90Qz1mcVAn"
      },
      "source": [
        "df_T['tempo_contrato_qcut'] = pd.qcut(df_T['tempo_contrato'], q = 10, labels = ['0_1', '1_2', '2_3', '3_4', '4_5', '5_6', '6_7', '7_8', '8_9', '9_10'])\n",
        "Counter(df_T['tempo_contrato_qcut'])"
      ],
      "execution_count": null,
      "outputs": []
    },
    {
      "cell_type": "markdown",
      "metadata": {
        "id": "j1wYD31xcrhZ"
      },
      "source": [
        "Mesma transformação no dataframe de teste:"
      ]
    },
    {
      "cell_type": "code",
      "metadata": {
        "id": "8RlHMz5McqTY"
      },
      "source": [
        "df_V['tempo_contrato_qcut'] = pd.qcut(df_V['tempo_contrato'], q = 10, labels = ['0_1', '1_2', '2_3', '3_4', '4_5', '5_6', '6_7', '7_8', '8_9', '9_10'])\n",
        "Counter(df_V['tempo_contrato_qcut'])"
      ],
      "execution_count": null,
      "outputs": []
    },
    {
      "cell_type": "markdown",
      "metadata": {
        "id": "g3tL2D6VcZSz"
      },
      "source": [
        "* Experimentando pd.cut()"
      ]
    },
    {
      "cell_type": "code",
      "metadata": {
        "id": "a4R1tFwSH08h"
      },
      "source": [
        "pd.cut(df_T['tempo_contrato'], bins = 10)"
      ],
      "execution_count": null,
      "outputs": []
    },
    {
      "cell_type": "code",
      "metadata": {
        "id": "z6EjFfeJSrJj"
      },
      "source": [
        "#df_T['tempo_contrato_cut'] = pd.cut(df_T['tempo_contrato'], bins = 10)\n",
        "\n",
        "bins_T = [-0.072, 7.2, 14.4, 21.6, 28.8, 36.0, 43.2, 50.4, 57.6, 64.8, 72.0]\n",
        "labels_T = ['(-0.072, 7.2]', '(7.2, 14.4]', '(14.4, 21.6]', '(21.6, 28.8]', '(28.8, 36.0]', '(36.0, 43.2]', '(43.2, 50.4]', '(50.4, 57.6]', '(57.6, 64.8]', '(64.8, 72.0]']\n",
        "                                                                                                                                                     \n",
        "df_T['tempo_contrato_cut'] = pd.cut(df_T['tempo_contrato'], bins = bins_T, labels = labels_T)\n",
        "Counter(df_T['tempo_contrato_cut'])"
      ],
      "execution_count": null,
      "outputs": []
    },
    {
      "cell_type": "code",
      "metadata": {
        "id": "EtIDz1vkXzU3"
      },
      "source": [
        "df_T[['tempo_contrato_cut']].head()"
      ],
      "execution_count": null,
      "outputs": []
    },
    {
      "cell_type": "markdown",
      "metadata": {
        "id": "3shs98EZVNs6"
      },
      "source": [
        "A transformação no dataframe de teste é um pouco mais complicada: temos que nos assegurar que os pontos de corte no dataframe de validação sejam os mesmos do dataframe de treinamento."
      ]
    },
    {
      "cell_type": "code",
      "metadata": {
        "id": "q5w511WzJTLA"
      },
      "source": [
        "pd.cut(df_V['tempo_contrato'], bins = 10)"
      ],
      "execution_count": null,
      "outputs": []
    },
    {
      "cell_type": "markdown",
      "metadata": {
        "id": "GshiVEPOJd8e"
      },
      "source": [
        "Os intervalos para df_T['tempo_contrato'] são distintos dos intervalos para df_T['tempo_contrato']. Precisamos garantir que sejam iguais!"
      ]
    },
    {
      "cell_type": "code",
      "metadata": {
        "id": "2iFcYHLkVMnr"
      },
      "source": [
        "bins_T = [-0.072, 7.2, 14.4, 21.6, 28.8, 36.0, 43.2, 50.4, 57.6, 64.8, 72.0]\n",
        "labels_T = ['(-0.072, 7.2]', '(7.2, 14.4]', '(14.4, 21.6]', '(21.6, 28.8]', '(28.8, 36.0]', '(36.0, 43.2]', '(43.2, 50.4]', '(50.4, 57.6]', '(57.6, 64.8]', '(64.8, 72.0]']\n",
        "                                                                                                                                                     \n",
        "df_V['tempo_contrato_cut'] = pd.cut(df_V['tempo_contrato'], bins = bins_T, labels = labels_T)\n",
        "df_V[['tempo_contrato_cut']].head()"
      ],
      "execution_count": null,
      "outputs": []
    },
    {
      "cell_type": "code",
      "metadata": {
        "id": "6YzMplKKQa4A"
      },
      "source": [
        "df_T.head()"
      ],
      "execution_count": null,
      "outputs": []
    },
    {
      "cell_type": "code",
      "metadata": {
        "id": "fr668NRXYeeX"
      },
      "source": [
        "Counter(df_T['tempo_contrato_cut'])"
      ],
      "execution_count": null,
      "outputs": []
    },
    {
      "cell_type": "code",
      "metadata": {
        "id": "sYoySajkYkD7"
      },
      "source": [
        "Counter(df_V['tempo_contrato_cut'])"
      ],
      "execution_count": null,
      "outputs": []
    },
    {
      "cell_type": "markdown",
      "metadata": {
        "id": "ZdG64xq3avoy"
      },
      "source": [
        "Como podemos ver, temos os mesmos pontos de corte para os dois dataframes: treinamento e teste."
      ]
    },
    {
      "cell_type": "markdown",
      "metadata": {
        "id": "QxKBxUH8YO1D"
      },
      "source": [
        "A seguir, variáveis dummies:"
      ]
    },
    {
      "cell_type": "code",
      "metadata": {
        "id": "uiBIhyaTe8-p"
      },
      "source": [
        "df_T.head()"
      ],
      "execution_count": null,
      "outputs": []
    },
    {
      "cell_type": "code",
      "metadata": {
        "id": "UDriRbHje5G9"
      },
      "source": [
        "df_T = pd.get_dummies(df_T, columns = ['tempo_contrato_qcut'], dummy_na = True)\n",
        "df_V = pd.get_dummies(df_V, columns = ['tempo_contrato_qcut'], dummy_na = True) # Mesma transformação no dataframe de teste"
      ],
      "execution_count": null,
      "outputs": []
    },
    {
      "cell_type": "code",
      "metadata": {
        "id": "VFrXKsi_gtsU"
      },
      "source": [
        "df_T.head()"
      ],
      "execution_count": null,
      "outputs": []
    },
    {
      "cell_type": "code",
      "metadata": {
        "id": "kZE241C8TGGm"
      },
      "source": [
        "df_T = pd.get_dummies(df_T, columns = ['tempo_contrato_cut'], dummy_na = True)\n",
        "df_V = pd.get_dummies(df_V, columns = ['tempo_contrato_cut'], dummy_na = True) # Mesma transformação no dataframe de teste"
      ],
      "execution_count": null,
      "outputs": []
    },
    {
      "cell_type": "markdown",
      "metadata": {
        "id": "ZyAuIF1ThFVu"
      },
      "source": [
        "A seguir, deletar as variáveis originais:"
      ]
    },
    {
      "cell_type": "code",
      "metadata": {
        "id": "CZ_BNVMwgCWu"
      },
      "source": [
        "df_T = df_T.drop(columns = ['tempo_contrato'], axis = 1)\n",
        "df_V = df_V.drop(columns = ['tempo_contrato'], axis = 1)"
      ],
      "execution_count": null,
      "outputs": []
    },
    {
      "cell_type": "code",
      "metadata": {
        "id": "2xp1ttTFZ-7R"
      },
      "source": [
        "df_T.head()"
      ],
      "execution_count": null,
      "outputs": []
    },
    {
      "cell_type": "markdown",
      "metadata": {
        "id": "JxGtS-cDjpmw"
      },
      "source": [
        "#### Feature Engineering - Binnarizar a variável MonthlyCharges\n",
        "* Vou tentar pd.qcut()"
      ]
    },
    {
      "cell_type": "markdown",
      "metadata": {
        "id": "3mB0B07wjpmy"
      },
      "source": [
        "Decidi construir 10 classes para a variável MonthlyCharges usando pd.qcut(). Segue abaixo:"
      ]
    },
    {
      "cell_type": "code",
      "metadata": {
        "id": "FHaOaot3jpmy"
      },
      "source": [
        "df_T['MonthlyCharges_qcut'] = pd.qcut(df_T['MonthlyCharges'], q = 10, labels = ['0_1', '1_2', '2_3', '3_4', '4_5', '5_6', '6_7', '7_8', '8_9', '9_10'])\n",
        "Counter(df_T['MonthlyCharges_qcut'])"
      ],
      "execution_count": null,
      "outputs": []
    },
    {
      "cell_type": "markdown",
      "metadata": {
        "id": "GrXEparyjpmy"
      },
      "source": [
        "Mesma transformação no dataframe de teste:"
      ]
    },
    {
      "cell_type": "code",
      "metadata": {
        "id": "ATV6RVdOjpmy"
      },
      "source": [
        "df_V['MonthlyCharges_qcut'] = pd.qcut(df_V['MonthlyCharges'], q = 10, labels = ['0_1', '1_2', '2_3', '3_4', '4_5', '5_6', '6_7', '7_8', '8_9', '9_10'])\n",
        "Counter(df_V['MonthlyCharges_qcut'])"
      ],
      "execution_count": null,
      "outputs": []
    },
    {
      "cell_type": "markdown",
      "metadata": {
        "id": "ercAxi30kQyX"
      },
      "source": [
        "A seguir, variáveis dummies:"
      ]
    },
    {
      "cell_type": "code",
      "metadata": {
        "id": "1ZdNruxMkavA"
      },
      "source": [
        "df_T = pd.get_dummies(df_T, columns = ['MonthlyCharges_qcut'], dummy_na = True)\n",
        "df_V = pd.get_dummies(df_V, columns = ['MonthlyCharges_qcut'], dummy_na = True) # Mesma transformação no dataframe de teste"
      ],
      "execution_count": null,
      "outputs": []
    },
    {
      "cell_type": "markdown",
      "metadata": {
        "id": "ewvqdwfckavB"
      },
      "source": [
        "A seguir, deletar as variáveis originais:"
      ]
    },
    {
      "cell_type": "code",
      "metadata": {
        "id": "Dc2byswBkavB"
      },
      "source": [
        "df_T = df_T.drop(columns = ['MonthlyCharges'], axis = 1)\n",
        "df_V = df_V.drop(columns = ['MonthlyCharges'], axis = 1)"
      ],
      "execution_count": null,
      "outputs": []
    },
    {
      "cell_type": "code",
      "metadata": {
        "id": "c6psyZ2eQ-lx"
      },
      "source": [
        "df_T.head()"
      ],
      "execution_count": null,
      "outputs": []
    },
    {
      "cell_type": "markdown",
      "metadata": {
        "id": "sPqfAn3LqYMW"
      },
      "source": [
        "A seguir, listas por tipos de variáveis:"
      ]
    },
    {
      "cell_type": "code",
      "metadata": {
        "id": "HiizRR_5n2JY"
      },
      "source": [
        "l_features_numericas = list(df_T.select_dtypes([np.float64, np.int64]))\n",
        "l_features_numericas.remove('Churn')\n",
        "l_features_numericas"
      ],
      "execution_count": null,
      "outputs": []
    },
    {
      "cell_type": "code",
      "metadata": {
        "id": "yAH1mSmzqmk0"
      },
      "source": [
        "l_features_categoricas = list(df_T.select_dtypes(np.object))\n",
        "l_features_categoricas"
      ],
      "execution_count": null,
      "outputs": []
    },
    {
      "cell_type": "markdown",
      "metadata": {
        "id": "SLxEw5z2wdTh"
      },
      "source": [
        "### DataViz com Facets"
      ]
    },
    {
      "cell_type": "code",
      "metadata": {
        "id": "-5Yn5ykCwflG"
      },
      "source": [
        "def mostra_dados(df):\n",
        "    fsg = FeatureStatisticsGenerator()\n",
        "    dataframes = [{'table': df, 'name': 'dados de treinamento'}]\n",
        "\n",
        "    censusProto = fsg.ProtoFromDataFrames(dataframes)\n",
        "    protostr = base64.b64encode(censusProto.SerializeToString()).decode(\"utf-8\")\n",
        "\n",
        "    HTML_TEMPLATE = \"\"\"<script src=\"https://cdnjs.cloudflare.com/ajax/libs/webcomponentsjs/1.3.3/webcomponents-lite.js\"></script>\n",
        "        <link rel=\"import\" href=\"https://raw.githubusercontent.com/PAIR-code/facets/1.0.0/facets-dist/facets-jupyter.html\">\n",
        "        <facets-overview id=\"elem\"></facets-overview>\n",
        "        <script>\n",
        "          document.querySelector(\"#elem\").protoInput = \"{protostr}\";\n",
        "        </script>\"\"\"\n",
        "    html = HTML_TEMPLATE.format(protostr=protostr)\n",
        "    display(HTML(html))"
      ],
      "execution_count": null,
      "outputs": []
    },
    {
      "cell_type": "code",
      "metadata": {
        "id": "cif7OZLFw8GG"
      },
      "source": [
        "mostra_dados(df_T)"
      ],
      "execution_count": null,
      "outputs": []
    },
    {
      "cell_type": "code",
      "metadata": {
        "id": "gqVPXHQroUCf"
      },
      "source": [
        "#df_T.columns"
      ],
      "execution_count": null,
      "outputs": []
    },
    {
      "cell_type": "code",
      "metadata": {
        "id": "fSy34YAGosoP"
      },
      "source": [
        "#d_transforma = {0: 'No', 1: 'Yes'}\n",
        "#\n",
        "#for coluna in l_colunas_booleanas:\n",
        "#    df_T[coluna+'_2'] = df_T[coluna].map(d_transforma)    "
      ],
      "execution_count": null,
      "outputs": []
    },
    {
      "cell_type": "code",
      "metadata": {
        "id": "50n_TvTb16qy"
      },
      "source": [
        "#df_T = df_T.drop(columns = l_colunas_booleanas, axis = 1)"
      ],
      "execution_count": null,
      "outputs": []
    },
    {
      "cell_type": "code",
      "metadata": {
        "id": "7QZy6TRURbUE"
      },
      "source": [
        "df_T.head()"
      ],
      "execution_count": null,
      "outputs": []
    },
    {
      "cell_type": "markdown",
      "metadata": {
        "id": "rbm59hrAzO7A"
      },
      "source": [
        "A seguir, a mesma transformação no dataframe de teste:"
      ]
    },
    {
      "cell_type": "code",
      "metadata": {
        "id": "BKafi-XApY41"
      },
      "source": [
        "#for coluna in l_colunas_booleanas:\n",
        "#    if coluna in df_V.columns: # Flávia, isso evita erros caso a coluna não exista em df_V.\n",
        "#        df_V[coluna+'_2'] = df_V[coluna].map(d_transforma)\n",
        "#    else:\n",
        "#        l_colunas_booleanas.remove(coluna)"
      ],
      "execution_count": null,
      "outputs": []
    },
    {
      "cell_type": "code",
      "metadata": {
        "id": "luV86G3epPWE"
      },
      "source": [
        "#df_V = df_V.drop(columns = l_colunas_booleanas, axis = 1)"
      ],
      "execution_count": null,
      "outputs": []
    },
    {
      "cell_type": "code",
      "metadata": {
        "id": "i_wKMZMmpxEg"
      },
      "source": [
        "df_T2 = df_T.copy()\n",
        "df_V2 = df_V.copy()"
      ],
      "execution_count": null,
      "outputs": []
    },
    {
      "cell_type": "code",
      "metadata": {
        "id": "XtsaA5CYprkA"
      },
      "source": [
        "mostra_dados(df_T2)"
      ],
      "execution_count": null,
      "outputs": []
    },
    {
      "cell_type": "markdown",
      "metadata": {
        "id": "pUVWvERKxtBN"
      },
      "source": [
        "### Tratamento dos Missing Values\n",
        "* Como vamos tratar os missing values?\n",
        "    * **Proposição**: Construir modelos preditivos para estimar os valores missing em função das demais variáveis que NÃO SÃO missing.\n",
        "    * Variáveis:\n",
        "        * **Numéricas**:\n",
        "            * TotalCharges2 (0.14% de missing values);\n",
        "            * tenure (8.18% de missing values).\n",
        "        * **Categóricas**:\n",
        "            * PaymentMethod (1.76% de missing values);\n",
        "            * Dependents (3.87% de missing values);"
      ]
    },
    {
      "cell_type": "markdown",
      "metadata": {
        "id": "Hr2xqs3MznBi"
      },
      "source": [
        "A seguir, funções para nos ajudar a construir os modelos de Machine Learning para estimar os missing values:"
      ]
    },
    {
      "cell_type": "markdown",
      "metadata": {
        "id": "QslBQx80EMM8"
      },
      "source": [
        "A função prepara_dataframes (abaixo) vai construir (automaticamente) 4 dataframes para, na sequência, desenvolvermos modelos de Machine Learning para tratamento dos missing values:\n",
        "* df_TotalCharges2_sem_mv\n",
        "* df_tenure_sem_mv\n",
        "* df_PaymentMethod_sem_mv\n",
        "* df_Dependents_sem_mv\n"
      ]
    },
    {
      "cell_type": "code",
      "metadata": {
        "id": "UGPTQ4KszvdP"
      },
      "source": [
        "def prepara_dataframes(df_T, df_V, target, l_colunas_mv):\n",
        "    df_mv = 'df' + '_' + target + '_sem_mv'\n",
        "    #print(df2)\n",
        "\n",
        "    l_colunas_mv.remove(target)\n",
        "    print(f'Features ignoradas: {l_colunas_mv}')\n",
        "\n",
        "    df_mv = df_T.dropna() # Excluir todas as linhas com missing values\n",
        "    df_mv = df_mv.drop(columns = ['Churn'], axis = 1)\n",
        "\n",
        "    # Para reduzir o viés, vamos dropar/deletar as features que são missing values\n",
        "    df_mv = df_mv.drop(columns = l_colunas_mv, axis = 1)\n",
        "    #print(df_mv.isna().sum())\n",
        "\n",
        "    # Apontar os missing values no dataframe original:\n",
        "    df_T[target+'_mv'] = np.where(df_T[target].isna(), 'Yes', 'No')\n",
        "    df_V[target+'_mv'] = np.where(df_V[target].isna(), 'Yes', 'No')\n",
        "\n",
        "    return df_mv, df_T, df_V"
      ],
      "execution_count": null,
      "outputs": []
    },
    {
      "cell_type": "code",
      "metadata": {
        "id": "dJGqa8veO5s9"
      },
      "source": [
        "df_T2.head()"
      ],
      "execution_count": null,
      "outputs": []
    },
    {
      "cell_type": "code",
      "metadata": {
        "id": "B6buBUpi3xm2"
      },
      "source": [
        "l_colunas_mv = ['TotalCharges2', 'tenure', 'PaymentMethod', 'Dependents']\n",
        "\n",
        "for target in l_colunas_mv:\n",
        "    l_colunas_mv_2 = ['TotalCharges2', 'tenure', 'PaymentMethod', 'Dependents']\n",
        "    exec(f\"df_{target}_sem_mv, df_T3, df_V3 = prepara_dataframes(df_T2, df_V2, target, l_colunas_mv_2)\")"
      ],
      "execution_count": null,
      "outputs": []
    },
    {
      "cell_type": "markdown",
      "metadata": {
        "id": "otCAhpIg5rNy"
      },
      "source": [
        "Vamos verificar se os dataframes foram construídos:"
      ]
    },
    {
      "cell_type": "code",
      "metadata": {
        "id": "eMMn6dHs5TYF"
      },
      "source": [
        "l_dataframes = [df_TotalCharges2_sem_mv, df_tenure_sem_mv, df_PaymentMethod_sem_mv, df_Dependents_sem_mv]\n",
        "\n",
        "for dataframe in l_dataframes:\n",
        "    print(dataframe.shape)"
      ],
      "execution_count": null,
      "outputs": []
    },
    {
      "cell_type": "markdown",
      "metadata": {
        "id": "MiS7wHT9f05r"
      },
      "source": [
        "Quais foram as mudanças no dataframe original?\n",
        "* A única alteração é a construção de 4 colunas intituladas:\n",
        "    * TotalCharges2_mv;\n",
        "    * tenure_mv;\n",
        "    * PaymentMethod_mv;\n",
        "    * Dependents_mv."
      ]
    },
    {
      "cell_type": "code",
      "metadata": {
        "id": "WOVtRmkROifF"
      },
      "source": [
        "df_TotalCharges2_sem_mv.head()"
      ],
      "execution_count": null,
      "outputs": []
    },
    {
      "cell_type": "code",
      "metadata": {
        "id": "FFZleM-If38L"
      },
      "source": [
        "df_T2.head()"
      ],
      "execution_count": null,
      "outputs": []
    },
    {
      "cell_type": "markdown",
      "metadata": {
        "id": "NROMV6Lp7Iqw"
      },
      "source": [
        "A seguir, a função pycaret_regressao() e pycaret_classificacao() para nos ajudar a encontrar modelos de Machine Learning de Regressão e Classificação, respectivamente:"
      ]
    },
    {
      "cell_type": "code",
      "metadata": {
        "id": "6FI4R6hN7H29"
      },
      "source": [
        "def pycaret_regressao(df, target):\n",
        "    print(f'Modelo: ml_{target}')\n",
        "    print(f'Este é um problema de Regressão')\n",
        "\n",
        "    ml = regression.setup(data = df, \n",
        "                          target = target, # esta variável é numérica. Portanto, estamos diante de um problema de regressão\n",
        "                          session_id = 20111974,\n",
        "                          #ignore_features = ['id'],\n",
        "                          #numeric_features = l_features_numericas, # Necesssário para forçar o Pycaret a considerar estas features como numéricas\n",
        "                          #ignore_low_variance = True,\n",
        "                          #pca = True, pca_components = 10,\n",
        "                          feature_selection = True,\n",
        "                          train_size = 0.8, # Tamanho do dataframe de validação para o Pycaret\n",
        "                          normalize = True, normalize_method = 'robust', # Normalizar as features numéricas usando minmax\n",
        "                          feature_interaction = True, # Feature Engineering\n",
        "                          feature_ratio = True, # Feature Engineering\n",
        "                          combine_rare_levels = True,\n",
        "                          remove_multicollinearity = True,\n",
        "                          profile = True) # Data profiling\n",
        "\n",
        "    return ml"
      ],
      "execution_count": null,
      "outputs": []
    },
    {
      "cell_type": "code",
      "metadata": {
        "id": "abipL6D57vZX"
      },
      "source": [
        "def pycaret_classificacao(df, target):\n",
        "    print(f'Modelo: ml_{target}')\n",
        "    print(f'Este é um problema de Classificação')\n",
        "\n",
        "    ml = classification.setup(data = df, \n",
        "                            target = target, \n",
        "                            session_id = 20111974,\n",
        "                            #ignore_features = ['id'],\n",
        "                            #numeric_features = l_features_numericas, # Necesssário para forçar o Pycaret a considerar estas features como numéricas\n",
        "                            #ignore_low_variance = True,\n",
        "                            #pca = True, pca_components = 10,\n",
        "                            feature_selection = True,\n",
        "                            train_size = 0.8, # Tamanho do dataframe de validação para o Pycaret\n",
        "                            normalize = True, normalize_method = 'robust', # Normalizar as features numéricas usando minmax\n",
        "                            feature_interaction = True, # Feature Engineering\n",
        "                            feature_ratio = True, # Feature Engineering\n",
        "                            combine_rare_levels = True,\n",
        "                            remove_multicollinearity = True,\n",
        "                            profile = True, # Data profiling\n",
        "                            fix_imbalance = True) # para balancear a amostra\n",
        "                                  \n",
        "    #classification.compare_models()\n",
        "    return ml"
      ],
      "execution_count": null,
      "outputs": []
    },
    {
      "cell_type": "markdown",
      "metadata": {
        "id": "bviERzYv8v6S"
      },
      "source": [
        "A seguir, vamos chamar a função usando os específicos dataframes previamente construídos:"
      ]
    },
    {
      "cell_type": "markdown",
      "metadata": {
        "id": "1FBeHaD0893t"
      },
      "source": [
        "### TotalCharges2 (0.14% de missing values) --> Regressão\n",
        "* Atenção aos pressupostos da Regressão:\n",
        "    * O melhor modelo possui o maior Adjusted R2;\n",
        "    * Certifique-se de que os erros do modelo (também chamados de resíduos) estejam igualmente distribuidos em torno de 0 (zero);\n",
        "    * Certifique-se de que os erros do modelo sejam pequenos. Para isso, veja o gráfico de envelope, onde os erros estejam entre faixas. O ideal é que estas faixas sejam mais estreitas possíveis, o que significa que o desvio-padrão é pequeno. **Veja o gráfico residual plot**."
      ]
    },
    {
      "cell_type": "markdown",
      "metadata": {
        "id": "kVVYkSCtMMxx"
      },
      "source": [
        "#### Setup"
      ]
    },
    {
      "cell_type": "code",
      "metadata": {
        "id": "YEqEvafh92rN"
      },
      "source": [
        "mostra_dados(df_TotalCharges2_sem_mv)"
      ],
      "execution_count": null,
      "outputs": []
    },
    {
      "cell_type": "markdown",
      "metadata": {
        "id": "qmQXqzPz8EQw"
      },
      "source": [
        "### Setup"
      ]
    },
    {
      "cell_type": "code",
      "metadata": {
        "id": "WufKocKTTllb"
      },
      "source": [
        "l_colunas_drop = ['tempo_contrato_qcut_0_1',\t\n",
        "'tempo_contrato_qcut_1_2',\t\n",
        "'tempo_contrato_qcut_2_3',\t\n",
        "'tempo_contrato_qcut_3_4',\t\n",
        "'tempo_contrato_qcut_4_5',\t\n",
        "'tempo_contrato_qcut_5_6',\t\n",
        "'tempo_contrato_qcut_6_7',\t\n",
        "'tempo_contrato_qcut_7_8',\t\n",
        "'tempo_contrato_qcut_8_9',\t\n",
        "'tempo_contrato_qcut_9_10',\t\n",
        "'tempo_contrato_qcut_nan',\t\n",
        "'tempo_contrato_cut_(-0.072, 7.2]',\t\n",
        "'tempo_contrato_cut_(7.2, 14.4]',\t\n",
        "'tempo_contrato_cut_(14.4, 21.6]',\t\n",
        "'tempo_contrato_cut_(21.6, 28.8]',\t\n",
        "'tempo_contrato_cut_(28.8, 36.0]',\t\n",
        "'tempo_contrato_cut_(36.0, 43.2]',\t\n",
        "'tempo_contrato_cut_(43.2, 50.4]',\t\n",
        "'tempo_contrato_cut_(50.4, 57.6]',\t\n",
        "'tempo_contrato_cut_(57.6, 64.8]',\t\n",
        "'tempo_contrato_cut_(64.8, 72.0]',\t\n",
        "'tempo_contrato_cut_nan',\t\n",
        "'MonthlyCharges_qcut_0_1',\t\n",
        "'MonthlyCharges_qcut_1_2',\t\n",
        "'MonthlyCharges_qcut_2_3',\t\n",
        "'MonthlyCharges_qcut_3_4',\t\n",
        "'MonthlyCharges_qcut_4_5',\t\n",
        "'MonthlyCharges_qcut_5_6',\t\n",
        "'MonthlyCharges_qcut_6_7',\t\n",
        "'MonthlyCharges_qcut_7_8',\t\n",
        "'MonthlyCharges_qcut_8_9',\t\n",
        "'MonthlyCharges_qcut_9_10',\t\n",
        "'MonthlyCharges_qcut_nan']"
      ],
      "execution_count": null,
      "outputs": []
    },
    {
      "cell_type": "code",
      "metadata": {
        "id": "RfCCqnOYT_1t"
      },
      "source": [
        "df_TotalCharges2_sem_mv = df_TotalCharges2_sem_mv.drop(columns = l_colunas_drop, axis = 1)"
      ],
      "execution_count": null,
      "outputs": []
    },
    {
      "cell_type": "code",
      "metadata": {
        "id": "i1ruL9_ZUfqq"
      },
      "source": [
        "df_TotalCharges2_sem_mv = df_TotalCharges2_sem_mv.drop(columns = ['qtd_servicos_adicionais'], axis = 1)"
      ],
      "execution_count": null,
      "outputs": []
    },
    {
      "cell_type": "code",
      "metadata": {
        "id": "Xe-ams258DMb"
      },
      "source": [
        "setup_TotalCharges2 = pycaret_regressao(df = df_TotalCharges2_sem_mv, target = 'TotalCharges2')"
      ],
      "execution_count": null,
      "outputs": []
    },
    {
      "cell_type": "code",
      "metadata": {
        "id": "i1GXlCzTVFTd"
      },
      "source": [
        "df_TotalCharges2_sem_mv.head()"
      ],
      "execution_count": null,
      "outputs": []
    },
    {
      "cell_type": "code",
      "metadata": {
        "id": "O2Z1dMmaVNit"
      },
      "source": [
        "df_TotalCharges2_sem_mv.dtypes"
      ],
      "execution_count": null,
      "outputs": []
    },
    {
      "cell_type": "markdown",
      "metadata": {
        "id": "u8YZmhbwMRuD"
      },
      "source": [
        "#### Modelos de Machine Learning"
      ]
    },
    {
      "cell_type": "markdown",
      "metadata": {
        "id": "YGMnsiMwC2V-"
      },
      "source": [
        "A seguir, a construção dos modelos usando Pycaret:"
      ]
    },
    {
      "cell_type": "code",
      "metadata": {
        "id": "bt4ncUkp_qEg"
      },
      "source": [
        "ml_TotalCharges2 = regression.compare_models(fold = 10, sort = 'R2', include = ['lasso', 'br', 'ridge', 'gbr', 'lightgbm', 'catboost', 'xgboost'])"
      ],
      "execution_count": null,
      "outputs": []
    },
    {
      "cell_type": "markdown",
      "metadata": {
        "id": "g0-vbqkDKx8P"
      },
      "source": [
        "O Melhor modelo (baseline) e parâmetros foram:"
      ]
    },
    {
      "cell_type": "code",
      "metadata": {
        "id": "DSP3ypc_Dk0u"
      },
      "source": [
        "ml_TotalCharges2.get_params"
      ],
      "execution_count": null,
      "outputs": []
    },
    {
      "cell_type": "markdown",
      "metadata": {
        "id": "YTGIBwB9MYMV"
      },
      "source": [
        "#### Ajustar o melhor modelo (baseado nas indicações do Pycaret):\n",
        "* Conforme vimos anteriormente, o melhor modelo foi lasso. Portanto, vamos focar neste modelo de Machine Learning daqui para frente para fazermos o tratamento dos missing values."
      ]
    },
    {
      "cell_type": "code",
      "metadata": {
        "id": "pm8rLYLUK3f4"
      },
      "source": [
        "ml_lasso_TotalCharges2 = regression.create_model('lasso')"
      ],
      "execution_count": null,
      "outputs": []
    },
    {
      "cell_type": "markdown",
      "metadata": {
        "id": "pXCo40nwMDoA"
      },
      "source": [
        "#### Parameter Tunning"
      ]
    },
    {
      "cell_type": "code",
      "metadata": {
        "id": "5Vs9kiWlhxMK"
      },
      "source": [
        "ml_lasso_pt_TotalCharges2 = regression.tune_model(ml_lasso_TotalCharges2, n_iter = 50)"
      ],
      "execution_count": null,
      "outputs": []
    },
    {
      "cell_type": "markdown",
      "metadata": {
        "id": "nFUGw6EPMeKH"
      },
      "source": [
        "#### Gráficos"
      ]
    },
    {
      "cell_type": "code",
      "metadata": {
        "id": "aQskHVjZh_hm"
      },
      "source": [
        "regression.evaluate_model(ml_lasso_pt_TotalCharges2)"
      ],
      "execution_count": null,
      "outputs": []
    },
    {
      "cell_type": "markdown",
      "metadata": {
        "id": "pmyVTTnuMgae"
      },
      "source": [
        "#### Interpretação do modelo - SOMENTE PARA CLASSIFICAÇÃO"
      ]
    },
    {
      "cell_type": "markdown",
      "metadata": {
        "id": "KPQuP2cpMiqa"
      },
      "source": [
        "#### Predição dos missing values"
      ]
    },
    {
      "cell_type": "code",
      "metadata": {
        "id": "0rJjwtqeiNXr"
      },
      "source": [
        "regression.predict_model(ml_lasso_pt_TotalCharges2)"
      ],
      "execution_count": null,
      "outputs": []
    },
    {
      "cell_type": "markdown",
      "metadata": {
        "id": "lAz_AfkeiUGx"
      },
      "source": [
        "Abaixo, a aplicação do modelo para estimar (predict) dos missing values da variável sob análise. O PyCaret constroi um pipeline com todas as transformações. Desta forma, as mesmas transformações feitas no dataframe de treinamento serão aplicadas no dataframe teste e apresentar os resultados."
      ]
    },
    {
      "cell_type": "code",
      "metadata": {
        "id": "9qkmBtLziWey"
      },
      "source": [
        "df_T3 = regression.predict_model(ml_lasso_pt_TotalCharges2, data = df_T2)"
      ],
      "execution_count": null,
      "outputs": []
    },
    {
      "cell_type": "code",
      "metadata": {
        "id": "L-cTH2w90CGF"
      },
      "source": [
        "df_V3 = regression.predict_model(ml_lasso_pt_TotalCharges2, data = df_V2) # Gerar as mesmas transformações em df_V para que o modelo seja aplicado!!!"
      ],
      "execution_count": null,
      "outputs": []
    },
    {
      "cell_type": "markdown",
      "metadata": {
        "id": "PXyYcdMpienw"
      },
      "source": [
        "Compare as colunas TotalCharges2 e Label abaixo:"
      ]
    },
    {
      "cell_type": "code",
      "metadata": {
        "id": "DEyPSqEgihs8"
      },
      "source": [
        "df_T3.isna().sum()"
      ],
      "execution_count": null,
      "outputs": []
    },
    {
      "cell_type": "code",
      "metadata": {
        "id": "1KRrdanGioFV"
      },
      "source": [
        "df_T3.head()"
      ],
      "execution_count": null,
      "outputs": []
    },
    {
      "cell_type": "markdown",
      "metadata": {
        "id": "fpO3_er2iuZH"
      },
      "source": [
        "A seguir, Boxplot da variável/feature original:"
      ]
    },
    {
      "cell_type": "code",
      "metadata": {
        "id": "v3JXsfG9iqtE"
      },
      "source": [
        "sns.boxplot(x = df_T3[\"Churn\"], y = df_T3[\"TotalCharges2\"])\n",
        "plt.show()"
      ],
      "execution_count": null,
      "outputs": []
    },
    {
      "cell_type": "markdown",
      "metadata": {
        "id": "vMtkErv8iyXb"
      },
      "source": [
        "A seguir, Boxplot da variável estimada pelo modelo de Machine Learning:"
      ]
    },
    {
      "cell_type": "code",
      "metadata": {
        "id": "qS4xxQxHi2bD"
      },
      "source": [
        "sns.boxplot(x = df_T3[\"Churn\"], y = df_T3[\"Label\"])"
      ],
      "execution_count": null,
      "outputs": []
    },
    {
      "cell_type": "markdown",
      "metadata": {
        "id": "nNVX2Zo9i5Dx"
      },
      "source": [
        "A seguir, as médias da variável original:"
      ]
    },
    {
      "cell_type": "code",
      "metadata": {
        "id": "SBGkgcavi7GJ"
      },
      "source": [
        "df_T3[['TotalCharges2']].describe()"
      ],
      "execution_count": null,
      "outputs": []
    },
    {
      "cell_type": "markdown",
      "metadata": {
        "id": "n61rANzWjA2K"
      },
      "source": [
        "A seguir, as médias da variável estimada:"
      ]
    },
    {
      "cell_type": "code",
      "metadata": {
        "id": "qDPA1cKVjDKy"
      },
      "source": [
        "df_T3[['Label']].describe()"
      ],
      "execution_count": null,
      "outputs": []
    },
    {
      "cell_type": "markdown",
      "metadata": {
        "id": "t_8aeOxtjF-x"
      },
      "source": [
        "### **Conclusão**\n",
        "* Temos um modelo com R2 satisfatório. Na sequência, vamos fazer o tratamento dos missing values."
      ]
    },
    {
      "cell_type": "code",
      "metadata": {
        "id": "aR6eZa86k_hw"
      },
      "source": [
        "df_T4 = df_T3.copy()\n",
        "df_V4 = df_V3.copy()\n",
        "\n",
        "df_T4.head()"
      ],
      "execution_count": null,
      "outputs": []
    },
    {
      "cell_type": "markdown",
      "metadata": {
        "id": "BvbPCPQIBpn1"
      },
      "source": [
        "A seguir, tratamento das instâncias missing values da variável."
      ]
    },
    {
      "cell_type": "code",
      "metadata": {
        "id": "EgzPPpU9jOut"
      },
      "source": [
        "df_T4['TotalCharges3'] = df_T4['TotalCharges2']\n",
        "df_T4['TotalCharges3'] = np.where(df_T4['TotalCharges2'].isna(), df_T4['Label'], df_T4['TotalCharges2'])"
      ],
      "execution_count": null,
      "outputs": []
    },
    {
      "cell_type": "code",
      "metadata": {
        "id": "ClfjtpJG0SH3"
      },
      "source": [
        "df_V4['TotalCharges3'] = df_V4['TotalCharges2']\n",
        "df_V4['TotalCharges3'] = np.where(df_V4['TotalCharges2'].isna(), df_V4['Label'], df_V4['TotalCharges2'])"
      ],
      "execution_count": null,
      "outputs": []
    },
    {
      "cell_type": "markdown",
      "metadata": {
        "id": "itn9jPzPjsbC"
      },
      "source": [
        "Vamos comparar as médias mais uma vez:"
      ]
    },
    {
      "cell_type": "markdown",
      "metadata": {
        "id": "zWqPIyMj0hp_"
      },
      "source": [
        "#### Treinamento"
      ]
    },
    {
      "cell_type": "code",
      "metadata": {
        "id": "VdhAOQZWjvAH"
      },
      "source": [
        "df_T4['TotalCharges2'].describe()"
      ],
      "execution_count": null,
      "outputs": []
    },
    {
      "cell_type": "code",
      "metadata": {
        "id": "v2P-Omo0lmDl"
      },
      "source": [
        "df_T4['TotalCharges3'].describe()"
      ],
      "execution_count": null,
      "outputs": []
    },
    {
      "cell_type": "markdown",
      "metadata": {
        "id": "cBnQLzPE0nV-"
      },
      "source": [
        "#### Validação"
      ]
    },
    {
      "cell_type": "code",
      "metadata": {
        "id": "j87YGgPE0owb"
      },
      "source": [
        "df_V4['TotalCharges2'].describe()"
      ],
      "execution_count": null,
      "outputs": []
    },
    {
      "cell_type": "code",
      "metadata": {
        "id": "xruFFW950s-b"
      },
      "source": [
        "df_V4['TotalCharges3'].describe()"
      ],
      "execution_count": null,
      "outputs": []
    },
    {
      "cell_type": "markdown",
      "metadata": {
        "id": "Blvp86Vt0zl8"
      },
      "source": [
        "Deletar a coluna dos dataframes de treinamento e validação"
      ]
    },
    {
      "cell_type": "code",
      "metadata": {
        "id": "UThrqI68lr7S"
      },
      "source": [
        "df_T4 = df_T4.drop(columns = ['TotalCharges2', 'Label'], axis = 1)\n",
        "df_V4 = df_V4.drop(columns = ['TotalCharges2', 'Label'], axis = 1)"
      ],
      "execution_count": null,
      "outputs": []
    },
    {
      "cell_type": "code",
      "metadata": {
        "id": "zJmQPjm9mEMG"
      },
      "source": [
        "df_T4.head()"
      ],
      "execution_count": null,
      "outputs": []
    },
    {
      "cell_type": "markdown",
      "metadata": {
        "id": "GwfOjpX_Mnh4"
      },
      "source": [
        "#### Salvar o modelo para uso futuro (se necessário)"
      ]
    },
    {
      "cell_type": "code",
      "metadata": {
        "id": "GQxUqHlcjKVx"
      },
      "source": [
        "regression.save_model(ml_lasso_pt_TotalCharges2, 'ml_lasso_pt_TotalCharges2')"
      ],
      "execution_count": null,
      "outputs": []
    },
    {
      "cell_type": "markdown",
      "metadata": {
        "id": "v35WIIzCMqmq"
      },
      "source": [
        "#### Carregar o modelo (que foi previamente salvo)"
      ]
    },
    {
      "cell_type": "code",
      "metadata": {
        "id": "r8G2ScPVjYQk"
      },
      "source": [
        "ml_lasso_pt_TotalCharges2_load = regression.load_model(model_name = 'ml_lasso_pt_TotalCharges2')"
      ],
      "execution_count": null,
      "outputs": []
    },
    {
      "cell_type": "markdown",
      "metadata": {
        "id": "zXxBSm_c9WuN"
      },
      "source": [
        "### tenure (8.18% de missing values) --> Regressão"
      ]
    },
    {
      "cell_type": "markdown",
      "metadata": {
        "id": "Gobz-6Nvmu02"
      },
      "source": [
        "#### Setup"
      ]
    },
    {
      "cell_type": "code",
      "metadata": {
        "id": "KaokreQDmu03"
      },
      "source": [
        "setup_tenure = pycaret_regressao(df = df_tenure_sem_mv, target = 'tenure')"
      ],
      "execution_count": null,
      "outputs": []
    },
    {
      "cell_type": "markdown",
      "metadata": {
        "id": "jvefQNAzmu04"
      },
      "source": [
        "Olhando para o output acima, há alguma coisa que gostaríamos de alterar/mudar? Por exemplo, construir binning para variáveis numéricas?\n",
        "\n",
        "**Por exemplo**: eu gostaria de construir 5 bins para a variável MonthlyCharges."
      ]
    },
    {
      "cell_type": "markdown",
      "metadata": {
        "id": "y75SK2s4mu04"
      },
      "source": [
        "#### Modelos de Machine Learning"
      ]
    },
    {
      "cell_type": "markdown",
      "metadata": {
        "id": "mxHm5qBumu04"
      },
      "source": [
        "A seguir, a construção dos modelos usando Pycaret:"
      ]
    },
    {
      "cell_type": "code",
      "metadata": {
        "id": "KMVxkLhJmu04"
      },
      "source": [
        "ml_tenure = regression.compare_models(fold = 10, sort = 'R2') #, include = ['lasso', 'br', 'ridge', 'gbr', 'lightgbm', 'catboost', 'xgboost'])"
      ],
      "execution_count": null,
      "outputs": []
    },
    {
      "cell_type": "markdown",
      "metadata": {
        "id": "ZG0xFA68mu07"
      },
      "source": [
        "### **Conclusão**\n",
        "* Temos um modelo insatisfatório. Sugestões:\n",
        "    * Binarizar a variável"
      ]
    },
    {
      "cell_type": "code",
      "metadata": {
        "id": "4qmtUdQymu07"
      },
      "source": [
        "df_T5 = df_T4.copy()\n",
        "df_V5 = df_V4.copy()\n",
        "\n",
        "df_T5.head()"
      ],
      "execution_count": null,
      "outputs": []
    },
    {
      "cell_type": "markdown",
      "metadata": {
        "id": "lCHS61wBEF9T"
      },
      "source": [
        "**Insight**: Na próxima versão, construir os buckets (classes) da variável tenure usando Decision Tree."
      ]
    },
    {
      "cell_type": "code",
      "metadata": {
        "id": "oiDEURPDox2d"
      },
      "source": [
        "df_T5['tenure_bin'] = pd.qcut(df_T5['tenure'], q = [0, .2, .4, .6, .8, 1], precision = 0, labels = ['0_20', '20_40', '40_60', '60_80', '80_100'])\n",
        "\n",
        "# Lembre-se que esta transformação precisa ser feita no dataframe de teste:\n",
        "df_V5['tenure_bin'] = pd.qcut(df_V5['tenure'], q = [0, .2, .4, .6, .8, 1], precision = 0, labels = ['0_20', '20_40', '40_60', '60_80', '80_100'])\n",
        "\n",
        "df_T5.head()"
      ],
      "execution_count": null,
      "outputs": []
    },
    {
      "cell_type": "code",
      "metadata": {
        "id": "qHjRcQuprTXn"
      },
      "source": [
        "df_T5 = df_T5.drop(columns = ['tenure'], axis = 1)\n",
        "df_V5 = df_V5.drop(columns = ['tenure'], axis = 1)"
      ],
      "execution_count": null,
      "outputs": []
    },
    {
      "cell_type": "markdown",
      "metadata": {
        "id": "mdYDNiDcrfSn"
      },
      "source": [
        "A seguir, construção das variáveis dummies:"
      ]
    },
    {
      "cell_type": "code",
      "metadata": {
        "id": "4cSfuDTqmJgx"
      },
      "source": [
        "df_T5 = pd.get_dummies(df_T5, columns = ['tenure_bin'], dummy_na = True)\n",
        "df_V5 = pd.get_dummies(df_V5, columns = ['tenure_bin'], dummy_na = True)\n",
        "df_T5.head()"
      ],
      "execution_count": null,
      "outputs": []
    },
    {
      "cell_type": "code",
      "metadata": {
        "id": "z4hzJHHIEXiu"
      },
      "source": [
        "df_V5.head()"
      ],
      "execution_count": null,
      "outputs": []
    },
    {
      "cell_type": "markdown",
      "metadata": {
        "id": "FpVo07DR9qeW"
      },
      "source": [
        "### PaymentMethod (1.76% de missing values) --> Classificação\n"
      ]
    },
    {
      "cell_type": "code",
      "metadata": {
        "id": "yVUEqmSarVAw"
      },
      "source": [
        "df_T6 = df_T5.copy()\n",
        "df_V6 = df_V5.copy()\n",
        "\n",
        "df_PaymentMethod_sem_mv_copia = df_PaymentMethod_sem_mv.copy()"
      ],
      "execution_count": null,
      "outputs": []
    },
    {
      "cell_type": "code",
      "metadata": {
        "id": "up8WQ464IMaa"
      },
      "source": [
        "#df_PaymentMethod_sem_mv = df_PaymentMethod_sem_mv_copia.copy()"
      ],
      "execution_count": null,
      "outputs": []
    },
    {
      "cell_type": "markdown",
      "metadata": {
        "id": "DEO0AUCclbHD"
      },
      "source": [
        "#### Setup\n",
        "* Precisamos transformar a variável-target para numérica."
      ]
    },
    {
      "cell_type": "code",
      "metadata": {
        "id": "_A9Az8ODrcEB"
      },
      "source": [
        "Counter(df_T6['PaymentMethod'])"
      ],
      "execution_count": null,
      "outputs": []
    },
    {
      "cell_type": "code",
      "metadata": {
        "id": "OOTbt5vQriaT"
      },
      "source": [
        "label_PaymentMethod = {'Bank transfer (automatic)': 1, \n",
        "                       'Credit card (automatic)': 2, \n",
        "                       'Electronic check': 3, \n",
        "                       'Mailed check': 4,\n",
        "                       np.nan: 0} # Nossos missing values são os valores '0', ok?"
      ],
      "execution_count": null,
      "outputs": []
    },
    {
      "cell_type": "code",
      "metadata": {
        "id": "e-pcBPdzq3aZ"
      },
      "source": [
        "# Aplica o dicionário:\n",
        "df_T6['PaymentMethod2'] = df_T6['PaymentMethod'].map(label_PaymentMethod).astype(np.int64)\n",
        "df_V6['PaymentMethod2'] = df_V6['PaymentMethod'].map(label_PaymentMethod).astype(np.int64)\n",
        "\n",
        "# Aplica o dicionário no dataframe de treinamento que usaremos para estimar os missing values:\n",
        "df_PaymentMethod_sem_mv['PaymentMethod2'] = df_PaymentMethod_sem_mv['PaymentMethod'].map(label_PaymentMethod).astype(np.int64)"
      ],
      "execution_count": null,
      "outputs": []
    },
    {
      "cell_type": "code",
      "metadata": {
        "id": "hxZT88SEr68K"
      },
      "source": [
        "Counter(df_T6['PaymentMethod2'])"
      ],
      "execution_count": null,
      "outputs": []
    },
    {
      "cell_type": "code",
      "metadata": {
        "id": "UNzCO1dVtigR"
      },
      "source": [
        "Counter(df_PaymentMethod_sem_mv['PaymentMethod2'])"
      ],
      "execution_count": null,
      "outputs": []
    },
    {
      "cell_type": "code",
      "metadata": {
        "id": "f9erPkVEmNeI"
      },
      "source": [
        "df_T6.head()"
      ],
      "execution_count": null,
      "outputs": []
    },
    {
      "cell_type": "code",
      "metadata": {
        "id": "hzGCnKvcs6rg"
      },
      "source": [
        "#df_T6 = df_T6.drop(columns = ['PaymentMethod'])\n",
        "#df_V6 = df_V6.drop(columns = ['PaymentMethod'])\n",
        "\n",
        "# Dropa a coluna original do dataframe de treinamento\n",
        "df_PaymentMethod_sem_mv = df_PaymentMethod_sem_mv.drop(columns = ['PaymentMethod'])"
      ],
      "execution_count": null,
      "outputs": []
    },
    {
      "cell_type": "code",
      "metadata": {
        "id": "Y6g3WA9ImaYi"
      },
      "source": [
        "setup_PaymentMethod2 = pycaret_classificacao(df = df_PaymentMethod_sem_mv, target = 'PaymentMethod2')"
      ],
      "execution_count": null,
      "outputs": []
    },
    {
      "cell_type": "markdown",
      "metadata": {
        "id": "T8S70KymlbHE"
      },
      "source": [
        "Olhando para o output acima, há alguma coisa que gostaríamos de alterar/mudar? Por exemplo, construir binning para variáveis numéricas?\n",
        "\n",
        "**Por exemplo**: eu gostaria de construir 5 bins para a variável MonthlyCharges."
      ]
    },
    {
      "cell_type": "markdown",
      "metadata": {
        "id": "Cl9Tzhl3lbHE"
      },
      "source": [
        "#### Modelos de Machine Learning"
      ]
    },
    {
      "cell_type": "markdown",
      "metadata": {
        "id": "BgOuoehGlbHE"
      },
      "source": [
        "A seguir, a construção dos modelos usando Pycaret:"
      ]
    },
    {
      "cell_type": "code",
      "metadata": {
        "id": "roYDz2RYlbHE"
      },
      "source": [
        "ml_PaymentMethod2 = classification.compare_models(fold = 10, sort = 'Accuracy') #, include = ['lightgbm', 'ridge', 'lr', 'gbc', 'xgboost', 'catboost', 'nb'])"
      ],
      "execution_count": null,
      "outputs": []
    },
    {
      "cell_type": "markdown",
      "metadata": {
        "id": "PdBRNVSFoOlU"
      },
      "source": [
        "### **Conclusão**\n",
        "* Não me agrada um modelo com tão baixa acurácia.\n",
        "* Portanto, vou construir variáveis dummies para esta coluna."
      ]
    },
    {
      "cell_type": "markdown",
      "metadata": {
        "id": "W20j9tBCWF6W"
      },
      "source": [
        "### Segunda tentativa com PaymentMethod usando 2 categorias (1.76% de missing values) --> Classificação\n",
        "\n",
        "* Tínhamos feito o seguinte:\n",
        "```\n",
        "label_PaymentMethod = {'Bank transfer (automatic)': 1, \n",
        "                       'Credit card (automatic)': 2, \n",
        "                       'Electronic check': 3, \n",
        "                       'Mailed check': 4,\n",
        "                       np.nan: 0} # Nossos missing values são os valores '0', ok?\n",
        "```\n"
      ]
    },
    {
      "cell_type": "code",
      "metadata": {
        "id": "2ZeAbW3V4Y8n"
      },
      "source": [
        "df_T7 = df_T6.copy()\n",
        "df_V7 = df_V6.copy()\n",
        "df_PaymentMethod_sem_mv_copia = df_PaymentMethod_sem_mv.copy()"
      ],
      "execution_count": null,
      "outputs": []
    },
    {
      "cell_type": "code",
      "metadata": {
        "id": "M6xCpH9AI5DA"
      },
      "source": [
        "#df_PaymentMethod_sem_mv = df_PaymentMethod_sem_mv_copia.copy()"
      ],
      "execution_count": null,
      "outputs": []
    },
    {
      "cell_type": "markdown",
      "metadata": {
        "id": "jOyaOhas3r-x"
      },
      "source": [
        "Portanto, o nosso dicionário passa a ser:"
      ]
    },
    {
      "cell_type": "code",
      "metadata": {
        "id": "_aVLCALC3Qxq"
      },
      "source": [
        "d_PaymentMethod = {1: 1, \n",
        "                   2: 1, \n",
        "                   3: 2, \n",
        "                   4: 2, \n",
        "                   0: 0} # Neste caso, nossos missing values serão 0!!!!"
      ],
      "execution_count": null,
      "outputs": []
    },
    {
      "cell_type": "code",
      "metadata": {
        "id": "dU3SB2Hg35Yz"
      },
      "source": [
        "d_PaymentMethod"
      ],
      "execution_count": null,
      "outputs": []
    },
    {
      "cell_type": "markdown",
      "metadata": {
        "id": "rlQZVzDw3_JB"
      },
      "source": [
        "Aplica o dicionário:"
      ]
    },
    {
      "cell_type": "code",
      "metadata": {
        "id": "KxuJGlkp4sbY"
      },
      "source": [
        "Counter(df_PaymentMethod_sem_mv['PaymentMethod2'])"
      ],
      "execution_count": null,
      "outputs": []
    },
    {
      "cell_type": "code",
      "metadata": {
        "id": "DXy1rKSVHTcp"
      },
      "source": [
        "Counter(df_T7['PaymentMethod2'])"
      ],
      "execution_count": null,
      "outputs": []
    },
    {
      "cell_type": "code",
      "metadata": {
        "id": "LSafHrssHaJg"
      },
      "source": [
        "Counter(df_V7['PaymentMethod2'])"
      ],
      "execution_count": null,
      "outputs": []
    },
    {
      "cell_type": "code",
      "metadata": {
        "id": "3u22T3F1Wa28"
      },
      "source": [
        "df_PaymentMethod_sem_mv['PaymentMethod3'] = df_PaymentMethod_sem_mv['PaymentMethod2'].map(d_PaymentMethod)\n",
        "\n",
        "df_T7['PaymentMethod3'] = df_T7['PaymentMethod2'].map(d_PaymentMethod)\n",
        "df_V7['PaymentMethod3'] = df_V7['PaymentMethod2'].map(d_PaymentMethod)"
      ],
      "execution_count": null,
      "outputs": []
    },
    {
      "cell_type": "code",
      "metadata": {
        "id": "gB8F7K3MH4po"
      },
      "source": [
        "Counter(df_PaymentMethod_sem_mv['PaymentMethod3'])"
      ],
      "execution_count": null,
      "outputs": []
    },
    {
      "cell_type": "markdown",
      "metadata": {
        "id": "Uxd-wz5pWF6Y"
      },
      "source": [
        "#### Setup"
      ]
    },
    {
      "cell_type": "code",
      "metadata": {
        "id": "BZvaGV4cWF6Z"
      },
      "source": [
        "#df_T7 = df_T7.drop(columns = ['PaymentMethod2'])\n",
        "#df_V7 = df_V7.drop(columns = ['PaymentMethod2'])\n",
        "\n",
        "# Dropa a coluna original do dataframe de treinamento\n",
        "df_PaymentMethod_sem_mv = df_PaymentMethod_sem_mv.drop(columns = ['PaymentMethod2'])"
      ],
      "execution_count": null,
      "outputs": []
    },
    {
      "cell_type": "code",
      "metadata": {
        "id": "ktjLVIkEWF6Z"
      },
      "source": [
        "setup_PaymentMethod3 = pycaret_classificacao(df = df_PaymentMethod_sem_mv, target = 'PaymentMethod3')"
      ],
      "execution_count": null,
      "outputs": []
    },
    {
      "cell_type": "markdown",
      "metadata": {
        "id": "j8fuWyZ_WF6a"
      },
      "source": [
        "#### Modelos de Machine Learning"
      ]
    },
    {
      "cell_type": "markdown",
      "metadata": {
        "id": "sYFLuekcWF6a"
      },
      "source": [
        "A seguir, a construção dos modelos usando Pycaret:"
      ]
    },
    {
      "cell_type": "code",
      "metadata": {
        "id": "ofssjSP3WF6a"
      },
      "source": [
        "ml_PaymentMethod3 = classification.compare_models(fold = 10, sort = 'Accuracy') #, include = ['lightgbm', 'ridge', 'lr', 'gbc', 'xgboost', 'catboost', 'nb'])"
      ],
      "execution_count": null,
      "outputs": []
    },
    {
      "cell_type": "markdown",
      "metadata": {
        "id": "1b0PgKtuWF6b"
      },
      "source": [
        "### **Conclusão**\n",
        "* O modelo com 2 classes não resultou. Portanto, vamos avançar para a sugestão de criar variáveis dummies para PaymentMethod."
      ]
    },
    {
      "cell_type": "code",
      "metadata": {
        "id": "vSvspyrTi1XO"
      },
      "source": [
        "df_T8 = df_T7.copy()\n",
        "df_V8 = df_V7.copy()"
      ],
      "execution_count": null,
      "outputs": []
    },
    {
      "cell_type": "code",
      "metadata": {
        "id": "8-fUZeDEKe87"
      },
      "source": [
        "df_T8.head()"
      ],
      "execution_count": null,
      "outputs": []
    },
    {
      "cell_type": "markdown",
      "metadata": {
        "id": "vQsfUDsRKuyM"
      },
      "source": [
        ""
      ]
    },
    {
      "cell_type": "code",
      "metadata": {
        "id": "8XUpg0gXKcOH"
      },
      "source": [
        "df_T8 = pd.get_dummies(df_T8, columns = ['PaymentMethod'], dummy_na = True)\n",
        "df_V8 = pd.get_dummies(df_V8, columns = ['PaymentMethod'], dummy_na = True)\n",
        "\n",
        "df_T8.head()"
      ],
      "execution_count": null,
      "outputs": []
    },
    {
      "cell_type": "markdown",
      "metadata": {
        "id": "XaDI02PC9th_"
      },
      "source": [
        "### Dependents (3.87% de missing values) --> Classificação"
      ]
    },
    {
      "cell_type": "code",
      "metadata": {
        "id": "cTDR9Wi0Slg1"
      },
      "source": [
        "df_Dependents_sem_mv.head()"
      ],
      "execution_count": null,
      "outputs": []
    },
    {
      "cell_type": "markdown",
      "metadata": {
        "id": "qEn2zwIlQlR-"
      },
      "source": [
        "#### Setup"
      ]
    },
    {
      "cell_type": "code",
      "metadata": {
        "id": "KomaRK-kQlR-"
      },
      "source": [
        "setup_Dependents = pycaret_classificacao(df = df_Dependents_sem_mv, target = 'Dependents')"
      ],
      "execution_count": null,
      "outputs": []
    },
    {
      "cell_type": "markdown",
      "metadata": {
        "id": "zIQycrfIQlR_"
      },
      "source": [
        "#### Modelos de Machine Learning"
      ]
    },
    {
      "cell_type": "markdown",
      "metadata": {
        "id": "GGCFehGkQlR_"
      },
      "source": [
        "A seguir, a construção dos modelos usando Pycaret:"
      ]
    },
    {
      "cell_type": "code",
      "metadata": {
        "id": "poIw2IPfQlR_"
      },
      "source": [
        "ml_Dependents = classification.compare_models(fold = 10) # , sort = 'R2', include = ['lasso', 'br', 'ridge', 'gbr', 'lightgbm', 'catboost', 'xgboost'])"
      ],
      "execution_count": null,
      "outputs": []
    },
    {
      "cell_type": "markdown",
      "metadata": {
        "id": "Zx-5NFOEQlR_"
      },
      "source": [
        "O Melhor modelo (baseline) e parâmetros foram:"
      ]
    },
    {
      "cell_type": "code",
      "metadata": {
        "id": "KstVUsLOQlSA"
      },
      "source": [
        "ml_Dependents.get_params"
      ],
      "execution_count": null,
      "outputs": []
    },
    {
      "cell_type": "markdown",
      "metadata": {
        "id": "WhzDZ-NFQlSA"
      },
      "source": [
        "#### Ajustar o melhor modelo (baseado nas indicações do Pycaret):\n",
        "* Conforme vimos anteriormente, o melhor modelo foi lasso. Portanto, vamos focar neste modelo de Machine Learning daqui para frente para fazermos o tratamento dos missing values."
      ]
    },
    {
      "cell_type": "code",
      "metadata": {
        "id": "GbDRVjjuQlSA"
      },
      "source": [
        "ml_gbc_Dependents = classification.create_model('gbc')"
      ],
      "execution_count": null,
      "outputs": []
    },
    {
      "cell_type": "markdown",
      "metadata": {
        "id": "Vh_yotQtQlSA"
      },
      "source": [
        "#### Parameter Tunning"
      ]
    },
    {
      "cell_type": "code",
      "metadata": {
        "id": "AxSYXUqNQlSA"
      },
      "source": [
        "ml_gbc_pt_Dependents = classification.tune_model(ml_gbc_Dependents, n_iter = 50)"
      ],
      "execution_count": null,
      "outputs": []
    },
    {
      "cell_type": "markdown",
      "metadata": {
        "id": "kJED38GcQlSA"
      },
      "source": [
        "#### Gráficos"
      ]
    },
    {
      "cell_type": "code",
      "metadata": {
        "id": "WkztLENgQlSA"
      },
      "source": [
        "classification.evaluate_model(ml_gbc_pt_Dependents)"
      ],
      "execution_count": null,
      "outputs": []
    },
    {
      "cell_type": "markdown",
      "metadata": {
        "id": "pK3IKg04QlSA"
      },
      "source": [
        "#### Interpretação do modelo - SOMENTE PARA CLASSIFICAÇÃO"
      ]
    },
    {
      "cell_type": "markdown",
      "metadata": {
        "id": "CO09r2hKQlSA"
      },
      "source": [
        "#### Predição dos missing values"
      ]
    },
    {
      "cell_type": "code",
      "metadata": {
        "id": "SW_AgtCLQlSA"
      },
      "source": [
        "classification.predict_model(ml_gbc_pt_Dependents)"
      ],
      "execution_count": null,
      "outputs": []
    },
    {
      "cell_type": "markdown",
      "metadata": {
        "id": "FRymihHJQlSD"
      },
      "source": [
        "Abaixo, a aplicação do modelo para estimar (predict) dos missing values da variável sob análise. O PyCaret constroi um pipeline com todas as transformações. Desta forma, as mesmas transformações feitas no dataframe de treinamento serão aplicadas no dataframe teste e apresentar os resultados."
      ]
    },
    {
      "cell_type": "code",
      "metadata": {
        "id": "tbJz_C0PQlSD"
      },
      "source": [
        "df_T9 = classification.predict_model(ml_gbc_pt_Dependents, data = df_T8)"
      ],
      "execution_count": null,
      "outputs": []
    },
    {
      "cell_type": "code",
      "metadata": {
        "id": "gik4WqFiQlSE"
      },
      "source": [
        "df_V9 = classification.predict_model(ml_gbc_pt_Dependents, data = df_V8) # Gerar as mesmas transformações em df_V para que o modelo seja aplicado!!!"
      ],
      "execution_count": null,
      "outputs": []
    },
    {
      "cell_type": "markdown",
      "metadata": {
        "id": "R9OeudZqQlSE"
      },
      "source": [
        "### **Conclusão**\n",
        "* Temos um modelo com acurácia satisfatória. Na sequência, vamos fazer o tratamento dos missing values."
      ]
    },
    {
      "cell_type": "markdown",
      "metadata": {
        "id": "QI9D76a8QlSE"
      },
      "source": [
        "A seguir, tratamento das instâncias missing values da variável."
      ]
    },
    {
      "cell_type": "code",
      "metadata": {
        "id": "PUDNEfEnWWsA"
      },
      "source": [
        "df_T9[['Dependents', 'Label', 'Score']].head()"
      ],
      "execution_count": null,
      "outputs": []
    },
    {
      "cell_type": "code",
      "metadata": {
        "id": "S4hUKumwQlSE"
      },
      "source": [
        "df_T9['Dependents2'] = df_T9['Dependents']\n",
        "df_T9['Dependents2'] = np.where(df_T9['Dependents'].isna(), df_T9['Label'], df_T9['Dependents'])"
      ],
      "execution_count": null,
      "outputs": []
    },
    {
      "cell_type": "code",
      "metadata": {
        "id": "QpKDg6i7QlSF"
      },
      "source": [
        "df_V9['Dependents2'] = df_V9['Dependents']\n",
        "df_V9['Dependents2'] = np.where(df_V9['Dependents'].isna(), df_V9['Label'], df_V9['Dependents'])"
      ],
      "execution_count": null,
      "outputs": []
    },
    {
      "cell_type": "code",
      "metadata": {
        "id": "IFs_xfbAXQLB"
      },
      "source": [
        "df_T9.isna().sum()"
      ],
      "execution_count": null,
      "outputs": []
    },
    {
      "cell_type": "markdown",
      "metadata": {
        "id": "nryJaHmeQlSF"
      },
      "source": [
        "Deletar a coluna dos dataframes de treinamento e validação"
      ]
    },
    {
      "cell_type": "code",
      "metadata": {
        "id": "h2UH9vqxQlSF"
      },
      "source": [
        "df_T9 = df_T9.drop(columns = ['Dependents', 'Label', 'Score'], axis = 1)\n",
        "df_V9 = df_V9.drop(columns = ['Dependents', 'Label', 'Score'], axis = 1)"
      ],
      "execution_count": null,
      "outputs": []
    },
    {
      "cell_type": "code",
      "metadata": {
        "id": "3ZMENc1TQlSF"
      },
      "source": [
        "df_T9.isna().sum()"
      ],
      "execution_count": null,
      "outputs": []
    },
    {
      "cell_type": "markdown",
      "metadata": {
        "id": "bo-oBbySQlSF"
      },
      "source": [
        "#### Salvar o modelo para uso futuro (se necessário)"
      ]
    },
    {
      "cell_type": "code",
      "metadata": {
        "id": "PAtZY6H1QlSF"
      },
      "source": [
        "classification.save_model(ml_gbc_pt_Dependents, 'ml_gbc_pt_Dependents')"
      ],
      "execution_count": null,
      "outputs": []
    },
    {
      "cell_type": "markdown",
      "metadata": {
        "id": "JBpDjm9KQlSF"
      },
      "source": [
        "#### Carregar o modelo (que foi previamente salvo)"
      ]
    },
    {
      "cell_type": "code",
      "metadata": {
        "id": "-NH316ctQlSF"
      },
      "source": [
        "ml_gbc_pt_Dependents_load = classification.load_model(model_name = 'ml_gbc_pt_Dependents')"
      ],
      "execution_count": null,
      "outputs": []
    },
    {
      "cell_type": "markdown",
      "metadata": {
        "id": "AsGSR1KbYD3Q"
      },
      "source": [
        "__\n",
        "# Final dos tratamentos de missing values"
      ]
    },
    {
      "cell_type": "code",
      "metadata": {
        "id": "92QIAXK5FH1z"
      },
      "source": [
        "l_features_uint8 = df_T.select_dtypes(np.uint8)\n",
        "l_features_uint8"
      ],
      "execution_count": null,
      "outputs": []
    },
    {
      "cell_type": "code",
      "metadata": {
        "id": "bdj9E-8FFLVA"
      },
      "source": [
        "for coluna in l_features_uint8:\n",
        "    df_T[coluna] = np.int64(df_T[coluna])"
      ],
      "execution_count": null,
      "outputs": []
    },
    {
      "cell_type": "code",
      "metadata": {
        "id": "LqP3XN8SFZC0"
      },
      "source": [
        "df_T.dtypes"
      ],
      "execution_count": null,
      "outputs": []
    },
    {
      "cell_type": "markdown",
      "metadata": {
        "id": "o9D52YXjFdDK"
      },
      "source": [
        "Abaixo, nova visualização após categorizarmos as variáveis numéricas:"
      ]
    },
    {
      "cell_type": "code",
      "metadata": {
        "id": "FR1cIaCIFdwv"
      },
      "source": [
        "mostra_dados(df_T)"
      ],
      "execution_count": null,
      "outputs": []
    },
    {
      "cell_type": "markdown",
      "metadata": {
        "id": "Z2vIZds3kBTE"
      },
      "source": [
        "## Tratamento dos Outliers\n",
        "* Não há Outliers. Portanto, avançar para Feature Selection"
      ]
    },
    {
      "cell_type": "markdown",
      "metadata": {
        "id": "-08vzxel6ZdL"
      },
      "source": [
        "## Feature Selection\n",
        "\n"
      ]
    },
    {
      "cell_type": "code",
      "metadata": {
        "id": "MHWO4DW9-mzD"
      },
      "source": [
        "df_T10 = df_T3.copy()\n",
        "df_V10 = df_V3.copy()"
      ],
      "execution_count": null,
      "outputs": []
    },
    {
      "cell_type": "code",
      "metadata": {
        "id": "CYe8qGnLZB2M"
      },
      "source": [
        "df_T10.isna().sum()"
      ],
      "execution_count": null,
      "outputs": []
    },
    {
      "cell_type": "markdown",
      "metadata": {
        "id": "n4G8MSyI-iF6"
      },
      "source": [
        "#### Setup"
      ]
    },
    {
      "cell_type": "code",
      "metadata": {
        "id": "mwxZ8HgL8gEG"
      },
      "source": [
        "setup_Churn = classification.setup(data = df_T10, \n",
        "                                   target = 'Churn', \n",
        "                                   session_id = 20111974,\n",
        "                                   imputation_type = 'iterative', \n",
        "                                   iterative_imputation_iters = 50, \n",
        "                                   categorical_iterative_imputer = 'knn',\n",
        "                                   numeric_iterative_imputer = 'knn',\n",
        "                                   feature_selection = True,\n",
        "                                   train_size = 0.8, # Tamanho do dataframe de validação para o Pycaret\n",
        "                                   normalize = True, normalize_method = 'minmax', # Normalizar as features numéricas usando minmax\n",
        "                                   feature_interaction = True, # Feature Engineering\n",
        "                                   feature_ratio = True, # Feature Engineering\n",
        "                                   combine_rare_levels = True,\n",
        "                                   remove_multicollinearity = True,\n",
        "                                   profile = True, # Data profiling\n",
        "                                   fix_imbalance = True # para balancear a amostra\n",
        "                                   )"
      ],
      "execution_count": null,
      "outputs": []
    },
    {
      "cell_type": "markdown",
      "metadata": {
        "id": "Iq-CXhGq-iF7"
      },
      "source": [
        "#### Modelos de Machine Learning"
      ]
    },
    {
      "cell_type": "markdown",
      "metadata": {
        "id": "EVWwNfDv-iF7"
      },
      "source": [
        "A seguir, a construção dos modelos usando Pycaret:"
      ]
    },
    {
      "cell_type": "code",
      "metadata": {
        "id": "qMCWxMy2-iF7"
      },
      "source": [
        "ml_Churn = classification.compare_models()"
      ],
      "execution_count": null,
      "outputs": []
    },
    {
      "cell_type": "markdown",
      "metadata": {
        "id": "EPCzvcnd-iF7"
      },
      "source": [
        "O Melhor modelo (baseline) e parâmetros foram:"
      ]
    },
    {
      "cell_type": "code",
      "metadata": {
        "id": "PZzrVJ_H-iF8"
      },
      "source": [
        "ml_Churn.get_params"
      ],
      "execution_count": null,
      "outputs": []
    },
    {
      "cell_type": "markdown",
      "metadata": {
        "id": "Npw2DphV-iF8"
      },
      "source": [
        "#### Ajustar o melhor modelo (baseado nas indicações do Pycaret):\n",
        "* Conforme vimos anteriormente, o melhor modelo foi gbc. Portanto, vamos focar neste modelo de Machine Learning daqui para frente para fazermos o tratamento dos missing values."
      ]
    },
    {
      "cell_type": "code",
      "metadata": {
        "id": "9U0xJ_yi-iF8"
      },
      "source": [
        "ml_gbc_Churn = classification.create_model('gbc')"
      ],
      "execution_count": null,
      "outputs": []
    },
    {
      "cell_type": "markdown",
      "metadata": {
        "id": "9VqvIgxG-iF8"
      },
      "source": [
        "#### Parameter Tunning"
      ]
    },
    {
      "cell_type": "code",
      "metadata": {
        "id": "raI9HhlJ-iF8"
      },
      "source": [
        "ml_gbc_pt_Churn = classification.tune_model(ml_gbc_Churn, n_iter = 50, optimize = 'Accuracy')"
      ],
      "execution_count": null,
      "outputs": []
    },
    {
      "cell_type": "code",
      "metadata": {
        "id": "ye8gmRErC5QC"
      },
      "source": [
        "#optimize_threshold(gbc, true_negative = ???, false_negative = ???) # Precisa descobrir os custos de um falso positivo e falso negativo. A partir disso, podemos mudar o threshold."
      ],
      "execution_count": null,
      "outputs": []
    },
    {
      "cell_type": "markdown",
      "metadata": {
        "id": "57SCndZz-iF8"
      },
      "source": [
        "#### Gráficos"
      ]
    },
    {
      "cell_type": "code",
      "metadata": {
        "id": "ajBTmfbW-iF8"
      },
      "source": [
        "classification.evaluate_model(ml_gbc_pt_Churn)"
      ],
      "execution_count": null,
      "outputs": []
    },
    {
      "cell_type": "markdown",
      "metadata": {
        "id": "D3P2Z7NR-iF9"
      },
      "source": [
        "#### Interpretação do modelo - SOMENTE PARA CLASSIFICAÇÃO"
      ]
    },
    {
      "cell_type": "markdown",
      "metadata": {
        "id": "0pu-2BMz-iF9"
      },
      "source": [
        "#### Predição dos missing values"
      ]
    },
    {
      "cell_type": "code",
      "metadata": {
        "id": "3cI_sCFr-iF9"
      },
      "source": [
        "classification.predict_model(ml_gbc_pt_Churn) # predict_model(xgboost, probability_threshold=0.2)"
      ],
      "execution_count": null,
      "outputs": []
    },
    {
      "cell_type": "markdown",
      "metadata": {
        "id": "C3GNCbjP-iF9"
      },
      "source": [
        "Abaixo, a aplicação do modelo para estimar (predict) dos missing values da variável sob análise. O PyCaret constroi um pipeline com todas as transformações. Desta forma, as mesmas transformações feitas no dataframe de treinamento serão aplicadas no dataframe teste e apresentar os resultados."
      ]
    },
    {
      "cell_type": "code",
      "metadata": {
        "id": "fTOQF9OR-iF9"
      },
      "source": [
        "df_T11 = classification.predict_model(ml_gbc_pt_Churn, data = df_T10)"
      ],
      "execution_count": null,
      "outputs": []
    },
    {
      "cell_type": "code",
      "metadata": {
        "id": "3lKUfEKp-iF9"
      },
      "source": [
        "df_V11 = classification.predict_model(ml_gbc_pt_Churn, data = df_V10) # Gerar as mesmas transformações em df_V para que o modelo seja aplicado!!!"
      ],
      "execution_count": null,
      "outputs": []
    },
    {
      "cell_type": "markdown",
      "metadata": {
        "id": "YfsFwwYI-iF-"
      },
      "source": [
        "### **Conclusão**\n",
        "* Temos um modelo com acurácia satisfatória. Na sequência, vamos fazer o tratamento dos missing values."
      ]
    },
    {
      "cell_type": "markdown",
      "metadata": {
        "id": "RVusdMBN-iF-"
      },
      "source": [
        "A seguir, tratamento das instâncias missing values da variável."
      ]
    },
    {
      "cell_type": "code",
      "metadata": {
        "id": "xdscjO2U-iF-"
      },
      "source": [
        "df_T11[['Churn', 'Label', 'Score']].head()"
      ],
      "execution_count": null,
      "outputs": []
    },
    {
      "cell_type": "code",
      "metadata": {
        "id": "SntPLEv2-iF-"
      },
      "source": [
        "df_T11['Churn2'] = df_T11['Churn']\n",
        "df_T11['Churn2'] = np.where(df_T11['Churn'].isna(), df_T11['Label'], df_T11['Churn'])"
      ],
      "execution_count": null,
      "outputs": []
    },
    {
      "cell_type": "code",
      "metadata": {
        "id": "0125oDun-iF-"
      },
      "source": [
        "df_V11['Churn2'] = df_V9['Churn']\n",
        "df_V11['Churn2'] = np.where(df_V11['Churn'].isna(), df_V11['Label'], df_V11['Churn'])"
      ],
      "execution_count": null,
      "outputs": []
    },
    {
      "cell_type": "code",
      "metadata": {
        "id": "CqABQI5n-iF-"
      },
      "source": [
        "df_T11.isna().sum()"
      ],
      "execution_count": null,
      "outputs": []
    },
    {
      "cell_type": "markdown",
      "metadata": {
        "id": "UQGUVMb--iF-"
      },
      "source": [
        "Deletar a coluna dos dataframes de treinamento e validação"
      ]
    },
    {
      "cell_type": "code",
      "metadata": {
        "id": "H5lILGSZ-iF-"
      },
      "source": [
        "df_T11 = df_T11.drop(columns = ['Churn', 'Label', 'Score'], axis = 1)\n",
        "df_V11 = df_V11.drop(columns = ['Churn', 'Label', 'Score'], axis = 1)"
      ],
      "execution_count": null,
      "outputs": []
    },
    {
      "cell_type": "code",
      "metadata": {
        "id": "2oC5seRq-iF_"
      },
      "source": [
        "df_T11.isna().sum()"
      ],
      "execution_count": null,
      "outputs": []
    },
    {
      "cell_type": "markdown",
      "metadata": {
        "id": "kw9WACZ8-iF_"
      },
      "source": [
        "#### Salvar o modelo para uso futuro (se necessário)"
      ]
    },
    {
      "cell_type": "code",
      "metadata": {
        "id": "O0Bv2O7A-iF_"
      },
      "source": [
        "classification.save_model(ml_gbc_pt_Dependents, 'ml_gbc_pt_Churn')"
      ],
      "execution_count": null,
      "outputs": []
    },
    {
      "cell_type": "markdown",
      "metadata": {
        "id": "Zmk3Giox-iF_"
      },
      "source": [
        "#### Carregar o modelo (que foi previamente salvo)"
      ]
    },
    {
      "cell_type": "code",
      "metadata": {
        "id": "dkZ7WTDv-iF_"
      },
      "source": [
        "ml_gbc_pt_Dependents_load = classification.load_model(model_name = 'ml_gbc_pt_Churn')"
      ],
      "execution_count": null,
      "outputs": []
    }
  ]
}