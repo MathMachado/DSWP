{
  "nbformat": 4,
  "nbformat_minor": 0,
  "metadata": {
    "colab": {
      "name": "Notebooks/NB01_02__Condicionais.ipynb",
      "provenance": [],
      "collapsed_sections": [
        "n8BIbzQbNWUo",
        "7eS94uQ4NhVR",
        "SYOgJpGYVLUu",
        "CaHFxk98W5if",
        "ReWUyWiHXCnc",
        "CqszHxaKHr2h",
        "tXgF1Wl9gHKY",
        "Fotx7XUquAo8",
        "36kmLUYDvsUI",
        "SWO2GdNovxAp",
        "vpN54l4vxze5",
        "u4HOf9SNytSq",
        "6BQ9oZiD9hg5",
        "tz5-QdrX9vct",
        "p1muBgMX8NK4",
        "FxTC2-U88ajk",
        "z8EYn0pP25Rh"
      ],
      "include_colab_link": true
    },
    "kernelspec": {
      "name": "python3",
      "display_name": "Python 3"
    },
    "accelerator": "GPU"
  },
  "cells": [
    {
      "cell_type": "markdown",
      "metadata": {
        "id": "view-in-github",
        "colab_type": "text"
      },
      "source": [
        "<a href=\"https://colab.research.google.com/github/MathMachado/DSWP/blob/master/Notebooks/NB01_02__Condicionais%3A%20if%2C%20elif%2C%20else.ipynb\" target=\"_parent\"><img src=\"https://colab.research.google.com/assets/colab-badge.svg\" alt=\"Open In Colab\"/></a>"
      ]
    },
    {
      "cell_type": "markdown",
      "metadata": {
        "id": "8Y-QMrzHhpcu"
      },
      "source": [
        "<center><h1><b><i>CONDICIONAIS - IF</i></b></h1></center>\n",
        "\n"
      ]
    },
    {
      "cell_type": "markdown",
      "metadata": {
        "id": "wYGZ0eGlv--6"
      },
      "source": [
        "# **AGENDA**:\n",
        "> Veja o **índice** dos itens que serão abordados neste capítulo."
      ]
    },
    {
      "cell_type": "markdown",
      "metadata": {
        "id": "Q3FpTG0dh47M"
      },
      "source": [
        "___\n",
        "# **REFERÊNCIAS**\n"
      ]
    },
    {
      "cell_type": "markdown",
      "metadata": {
        "id": "LWuIj53sVSnA"
      },
      "source": [
        "___\n",
        "# **CONDICIONAIS**\n",
        "> Usado para decidir se uma determinada instrução ou bloco de instruções será executada ou não, isto é, se uma determinada condição for verdadeira, um bloco de instrução será executado."
      ]
    },
    {
      "cell_type": "code",
      "metadata": {
        "id": "NyG1l3awJzEq"
      },
      "source": [
        "# Não executar o código a seguir:\n",
        "if condicao1:\n",
        "    <bloco de código se condicao1 é verdade>\n",
        "elif condicao2:\n",
        "    <bloco de código se condicao2 é verdade>\n",
        "elif condicao3:\n",
        "    <bloco de código se condicao3 é verdade>\n",
        "    ...\n",
        "elif condicaoN:\n",
        "    <bloco de código se condicaoN é verdade>\n",
        "else:\n",
        "    <bloco de código se condicao1, condicao2, condicao3, ..., condicaoN e etc forem falso>"
      ],
      "execution_count": null,
      "outputs": []
    },
    {
      "cell_type": "markdown",
      "metadata": {
        "id": "FCJBMTh5WX5C"
      },
      "source": [
        "## Exemplo 1"
      ]
    },
    {
      "cell_type": "code",
      "metadata": {
        "id": "vn5u7CEaWZjH"
      },
      "source": [
        "def mensagem(i_idade, i_limite):\n",
        "    if i_idade > i_limite:\n",
        "        s_mensagem= f'{i_idade} é maior que {i_limite}'\n",
        "        print(s_mensagem)"
      ],
      "execution_count": null,
      "outputs": []
    },
    {
      "cell_type": "code",
      "metadata": {
        "id": "lW0ME_nVXU4M"
      },
      "source": [
        "mensagem(35, 40)"
      ],
      "execution_count": null,
      "outputs": []
    },
    {
      "cell_type": "markdown",
      "metadata": {
        "id": "EBBU8Yw2XxUo"
      },
      "source": [
        "Nenhuma mensagem? E agora?"
      ]
    },
    {
      "cell_type": "code",
      "metadata": {
        "id": "xQ23cAjMX1kx",
        "outputId": "3612d39b-3f92-40fd-af14-2dfbca6b0697",
        "colab": {
          "base_uri": "https://localhost:8080/",
          "height": 35
        }
      },
      "source": [
        "mensagem(45, 40)"
      ],
      "execution_count": null,
      "outputs": [
        {
          "output_type": "stream",
          "text": [
            "45 é maior que 40\n"
          ],
          "name": "stdout"
        }
      ]
    },
    {
      "cell_type": "markdown",
      "metadata": {
        "id": "BeHU0tPuWK4s"
      },
      "source": [
        "## Exemplo 2"
      ]
    },
    {
      "cell_type": "code",
      "metadata": {
        "id": "gSzCnjS0Fk-d"
      },
      "source": [
        "def mensagem2(i_idade, i_limite):\n",
        "    if i_idade > i_limite:\n",
        "        s_mensagem= f'{i_idade} é maior que {i_limite}'\n",
        "    else:\n",
        "        s_mensagem= f'{i_idade} é menor ou igual a {i_limite}'\n",
        "    \n",
        "    print(s_mensagem)"
      ],
      "execution_count": null,
      "outputs": []
    },
    {
      "cell_type": "code",
      "metadata": {
        "id": "KxbmxuDwYFX_",
        "outputId": "8f1faff1-de34-4967-865f-17453f7992af",
        "colab": {
          "base_uri": "https://localhost:8080/",
          "height": 35
        }
      },
      "source": [
        "mensagem2(35, 40)"
      ],
      "execution_count": null,
      "outputs": [
        {
          "output_type": "stream",
          "text": [
            "35 é menor ou igual a 40\n"
          ],
          "name": "stdout"
        }
      ]
    },
    {
      "cell_type": "markdown",
      "metadata": {
        "id": "lToDO6pzWPGL"
      },
      "source": [
        "## Exemplo 3"
      ]
    },
    {
      "cell_type": "code",
      "metadata": {
        "id": "a1NlziSbGrIl",
        "outputId": "ffed270b-c16f-4d30-cdaf-80ae96898a94",
        "colab": {
          "base_uri": "https://localhost:8080/",
          "height": 197
        }
      },
      "source": [
        "def mensagem3(i_idade, i_limite1, i_limite2, i_limite3, i_limite4):\n",
        "    if ((i_idade > i_limite1) and (i_idade < i_limite2)):\n",
        "        s_mensagem= f'{i_idade} é maior que {i_limite1} e menor que {i_limite2}'\n",
        "    \n",
        "    elif ((i_idade > i_limite3) and (i_idade < i_limite4)):\n",
        "        s_mensagem= f'{i_idade} é maior que {i_limite3} e menor que {i_limite4}'\n",
        "    \n",
        "    else:\n",
        "        s_mensagem= f'{i_idade} é maior que {i_limite4}'\n",
        "    \n",
        "print(s_mensagem)"
      ],
      "execution_count": null,
      "outputs": [
        {
          "output_type": "error",
          "ename": "NameError",
          "evalue": "ignored",
          "traceback": [
            "\u001b[0;31m---------------------------------------------------------------------------\u001b[0m",
            "\u001b[0;31mNameError\u001b[0m                                 Traceback (most recent call last)",
            "\u001b[0;32m<ipython-input-1-264555939064>\u001b[0m in \u001b[0;36m<module>\u001b[0;34m()\u001b[0m\n\u001b[1;32m      9\u001b[0m         \u001b[0ms_mensagem\u001b[0m\u001b[0;34m=\u001b[0m \u001b[0;34mf'{i_idade} é maior que {i_limite4}'\u001b[0m\u001b[0;34m\u001b[0m\u001b[0;34m\u001b[0m\u001b[0m\n\u001b[1;32m     10\u001b[0m \u001b[0;34m\u001b[0m\u001b[0m\n\u001b[0;32m---> 11\u001b[0;31m \u001b[0mprint\u001b[0m\u001b[0;34m(\u001b[0m\u001b[0ms_mensagem\u001b[0m\u001b[0;34m)\u001b[0m\u001b[0;34m\u001b[0m\u001b[0;34m\u001b[0m\u001b[0m\n\u001b[0m",
            "\u001b[0;31mNameError\u001b[0m: name 's_mensagem' is not defined"
          ]
        }
      ]
    },
    {
      "cell_type": "markdown",
      "metadata": {
        "id": "V8FF3lFLYqui"
      },
      "source": [
        "Porque temos um erro nesta função?"
      ]
    },
    {
      "cell_type": "markdown",
      "metadata": {
        "id": "y5F09RKGYyoX"
      },
      "source": [
        "**Resposta**: por causa da indentação! A forma correta é:"
      ]
    },
    {
      "cell_type": "code",
      "metadata": {
        "id": "vR-oFyzAY5UC"
      },
      "source": [
        "def mensagem3(i_idade, i_limite1, i_limite2, i_limite3, i_limite4):\n",
        "    if ((i_idade > i_limite1) and (i_idade < i_limite2)):\n",
        "        s_mensagem= f'{i_idade} é maior que {i_limite1} e menor que {i_limite2}'\n",
        "    elif ((i_idade > i_limite3) and (i_idade < i_limite4)):\n",
        "        s_mensagem= f'{i_idade} é maior que {i_limite3} e menor que {i_limite4}'\n",
        "    else:\n",
        "        s_mensagem= f'{i_idade} é maior que {i_limite4}'\n",
        "    \n",
        "    print(s_mensagem)"
      ],
      "execution_count": null,
      "outputs": []
    },
    {
      "cell_type": "code",
      "metadata": {
        "id": "QgkBOGKdYgGU",
        "outputId": "701f4620-817f-41e0-e9d7-f6b06adf6b3d",
        "colab": {
          "base_uri": "https://localhost:8080/",
          "height": 34
        }
      },
      "source": [
        "mensagem3(35, 10, 20, 30, 40)"
      ],
      "execution_count": null,
      "outputs": [
        {
          "output_type": "stream",
          "text": [
            "35 é maior que 30 e menor que 40\n"
          ],
          "name": "stdout"
        }
      ]
    },
    {
      "cell_type": "markdown",
      "metadata": {
        "id": "LLk7bhjSwZch"
      },
      "source": [
        "___\n",
        "# **Wrap Up**"
      ]
    },
    {
      "cell_type": "markdown",
      "metadata": {
        "id": "lJvjcjm8NQ85"
      },
      "source": [
        "___\n",
        "# Exercícios\n",
        "## **Exercício 1**: \n",
        "Escreva uma função em Python que receba um número inteiro i_limite e, na sequência, imprime os números inteiros de 0 a i_limite;\n",
        "\n",
        "## **outros exercícios**: \n",
        "Nos sites abaixo você vai encontrar exercícios de Python:\n",
        "### https://pynative.com/python-if-else-and-for-loop-exercise-with-solutions/;\n",
        "### https://www.w3resource.com/python-exercises/"
      ]
    },
    {
      "cell_type": "code",
      "metadata": {
        "id": "Gi091pZrwbnY"
      },
      "source": [
        ""
      ],
      "execution_count": null,
      "outputs": []
    }
  ]
}