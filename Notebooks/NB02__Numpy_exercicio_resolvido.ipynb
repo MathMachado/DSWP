{
  "nbformat": 4,
  "nbformat_minor": 0,
  "metadata": {
    "colab": {
      "name": "NB02__Numpy.ipynb",
      "provenance": [],
      "collapsed_sections": [
        "n8BIbzQbNWUo",
        "7eS94uQ4NhVR",
        "SYOgJpGYVLUu",
        "CaHFxk98W5if",
        "ReWUyWiHXCnc",
        "CqszHxaKHr2h",
        "tXgF1Wl9gHKY",
        "Fotx7XUquAo8",
        "36kmLUYDvsUI",
        "SWO2GdNovxAp",
        "vpN54l4vxze5",
        "u4HOf9SNytSq",
        "6BQ9oZiD9hg5",
        "tz5-QdrX9vct",
        "p1muBgMX8NK4",
        "FxTC2-U88ajk",
        "z8EYn0pP25Rh"
      ],
      "include_colab_link": true
    },
    "kernelspec": {
      "name": "python3",
      "display_name": "Python 3"
    },
    "accelerator": "GPU"
  },
  "cells": [
    {
      "cell_type": "markdown",
      "metadata": {
        "id": "view-in-github",
        "colab_type": "text"
      },
      "source": [
        "<a href=\"https://colab.research.google.com/github/Celso-Omoto/DSWP/blob/master/Notebooks/NB02__Numpy_exercicio_resolvido.ipynb\" target=\"_parent\"><img src=\"https://colab.research.google.com/assets/colab-badge.svg\" alt=\"Open In Colab\"/></a>"
      ]
    },
    {
      "cell_type": "markdown",
      "metadata": {
        "id": "6QhLXoatkvKR"
      },
      "source": [
        "<center><h1><b><i>NUMPY</i></b></h1></center>\n",
        "\n",
        "> NumPy é um pacote para computação científica e álgebra linear para Python.\n",
        "\n"
      ]
    },
    {
      "cell_type": "markdown",
      "metadata": {
        "id": "b8EZupp68vW8"
      },
      "source": [
        "# **AGENDA**:\n",
        "> Neste capítulo, vamos abordar os seguintes assuntos:\n",
        "\n",
        "* NumPy\n",
        "* Criar arrays\n",
        "* Criar Arrays Multidimensionais\n",
        "* Selecionar itens\n",
        "* Aplicar funções como max(), min() e etc\n",
        "* Calcular Estatísticas Descritivas: média e variância\n",
        "* Reshaping\n",
        "* Tansposta de um array\n",
        "* Autovalores e Autovetores\n",
        "* Wrap Up\n",
        "* Exercícios"
      ]
    },
    {
      "cell_type": "markdown",
      "metadata": {
        "id": "cO5t3xCO8kyK"
      },
      "source": [
        "___\n",
        "# **NOTAS E OBSERVAÇÕES**\n",
        "\n",
        "* Nosso foco com o NumPy é facilitar o uso do Pandas;"
      ]
    },
    {
      "cell_type": "markdown",
      "metadata": {
        "id": "z2IFUG4GSB0Z"
      },
      "source": [
        "___\n",
        "# **CHEETSHEET**"
      ]
    },
    {
      "cell_type": "markdown",
      "metadata": {
        "id": "jYLeDVH-SNCg"
      },
      "source": [
        "![Numpy](https://github.com/MathMachado/Materials/blob/master/numpy_basics-1.png?raw=true)"
      ]
    },
    {
      "cell_type": "markdown",
      "metadata": {
        "id": "0mKvExmgUFOk"
      },
      "source": [
        "# **ESCALAR, VETORES, MATRIZES E TENSORES**\n",
        "\n",
        "![Tensor](https://github.com/MathMachado/Materials/blob/master/tensor.png?raw=true)\n",
        "\n",
        "Source: [PyTorch for Deep Learning: A Quick Guide for Starters](https://towardsdatascience.com/pytorch-for-deep-learning-a-quick-guide-for-starters-5b60d2dbb564)"
      ]
    },
    {
      "cell_type": "markdown",
      "metadata": {
        "id": "o00pYRIkXiAU"
      },
      "source": [
        "## Import Statement - Primeiros exemplos\n",
        "> Como exemplo, considere gerar uma amostra aleatória de tamanho 10 da Distribuição Normal(0, 1):"
      ]
    },
    {
      "cell_type": "markdown",
      "metadata": {
        "id": "l_XuvcUDWNDk"
      },
      "source": [
        "## Importar a library NumPy"
      ]
    },
    {
      "cell_type": "markdown",
      "metadata": {
        "id": "am_ZTIGaapCo"
      },
      "source": [
        "### **Opção 1**: Importar a biblioteca NumPy COM alias"
      ]
    },
    {
      "cell_type": "code",
      "metadata": {
        "id": "b4irLw6BWVVZ"
      },
      "source": [
        "import numpy as np"
      ],
      "execution_count": 2,
      "outputs": []
    },
    {
      "cell_type": "code",
      "metadata": {
        "id": "JK54ga7dXnJu",
        "outputId": "e87ad67b-79c4-4ec8-ce74-cbb12851720a",
        "colab": {
          "base_uri": "https://localhost:8080/",
          "height": 51
        }
      },
      "source": [
        "# Set up o número de casas decimais para o NumPy:\n",
        "np.set_printoptions(precision = 2, suppress = True)\n",
        "\n",
        "'''\n",
        "Define seed por questões de reproducibilidade, ou seja, \n",
        "garante que todos vamos gerar os mesmos números aleatórios\n",
        "'''\n",
        "np.random.seed(seed = 20111974)\n",
        "\n",
        "# Gera 10 números aleatórios a partir da Distribuição Normal(media, desvio_padrao)\n",
        "media = 0\n",
        "desvio_padrao = 1\n",
        "a_conjunto1 = np.random.normal(media, desvio_padrao, size = 10) # Array 1D de size = 10\n",
        "a_conjunto1"
      ],
      "execution_count": 3,
      "outputs": [
        {
          "output_type": "execute_result",
          "data": {
            "text/plain": [
              "array([ 2.51,  1.11,  2.06,  0.56,  0.3 ,  1.05, -0.13,  1.06,  1.14,\n",
              "        1.38])"
            ]
          },
          "metadata": {
            "tags": []
          },
          "execution_count": 3
        }
      ]
    },
    {
      "cell_type": "code",
      "metadata": {
        "id": "7GfmDF43NrHd",
        "outputId": "a193bbbd-7711-428a-bc72-0f12801050c1",
        "colab": {
          "base_uri": "https://localhost:8080/",
          "height": 68
        }
      },
      "source": [
        "a_tab=np.random.normal(8,1,size=(3,10))\n",
        "a_tab"
      ],
      "execution_count": 12,
      "outputs": [
        {
          "output_type": "execute_result",
          "data": {
            "text/plain": [
              "array([[8.74, 8.18, 8.1 , 7.22, 7.96, 9.67, 6.93, 7.45, 6.17, 8.12],\n",
              "       [9.39, 7.71, 8.32, 7.3 , 7.56, 5.97, 7.86, 9.66, 7.42, 7.21],\n",
              "       [7.19, 8.06, 8.87, 7.65, 9.37, 8.88, 6.52, 7.59, 7.81, 8.47]])"
            ]
          },
          "metadata": {
            "tags": []
          },
          "execution_count": 12
        }
      ]
    },
    {
      "cell_type": "markdown",
      "metadata": {
        "id": "3-0934isZUm6"
      },
      "source": [
        "**Observação**: Altere o valor de [precision] para 4, 2 e 0 e observe o que acontece."
      ]
    },
    {
      "cell_type": "markdown",
      "metadata": {
        "id": "9ob_8S_bYYa2"
      },
      "source": [
        "### **Opção 2**: Importar a biblioteca NumPy SEM alias"
      ]
    },
    {
      "cell_type": "code",
      "metadata": {
        "id": "NcGd1ho_XDXU"
      },
      "source": [
        "import numpy"
      ],
      "execution_count": 14,
      "outputs": []
    },
    {
      "cell_type": "code",
      "metadata": {
        "id": "zFYH6J5-Ydjl",
        "outputId": "0f5ae787-4691-4e29-edb0-5912ae39d0e9",
        "colab": {
          "base_uri": "https://localhost:8080/",
          "height": 51
        }
      },
      "source": [
        "# Set up o número de casas decimais para o NumPy:\n",
        "numpy.set_printoptions(precision = 2, suppress = True)\n",
        "\n",
        "'''\n",
        "Define seed por questões de reproducibilidade, ou seja, \n",
        "garante que todos vamos gerar os mesmos números aleatórios\n",
        "'''\n",
        "numpy.random.seed(seed = 20111974)\n",
        "\n",
        "# Gera 10 números aleatórios a partir da Distribuição Normal(mu, desvio_padrao)\n",
        "media = 0\n",
        "desvio_padrao = 1\n",
        "numpy.random.normal(size = 10)"
      ],
      "execution_count": 15,
      "outputs": [
        {
          "output_type": "execute_result",
          "data": {
            "text/plain": [
              "array([ 2.51,  1.11,  2.06,  0.56,  0.3 ,  1.05, -0.13,  1.06,  1.14,\n",
              "        1.38])"
            ]
          },
          "metadata": {
            "tags": []
          },
          "execution_count": 15
        }
      ]
    },
    {
      "cell_type": "markdown",
      "metadata": {
        "id": "AwWSzYrZWfvA"
      },
      "source": [
        "### **Opção 3**: Importar funções específicas da biblioteca NumPy"
      ]
    },
    {
      "cell_type": "code",
      "metadata": {
        "id": "bfYJzcqRa5eu"
      },
      "source": [
        "from numpy import set_printoptions\n",
        "from numpy.random import seed, normal"
      ],
      "execution_count": 16,
      "outputs": []
    },
    {
      "cell_type": "code",
      "metadata": {
        "id": "Xj6fbpvubH_p",
        "outputId": "00836057-014f-44c7-a6ae-f41895de17cc",
        "colab": {
          "base_uri": "https://localhost:8080/",
          "height": 51
        }
      },
      "source": [
        "# Set up o número de casas decimais para o NumPy:\n",
        "set_printoptions(precision = 2, suppress = True)\n",
        "\n",
        "'''\n",
        "Define seed por questões de reproducibilidade, ou seja, \n",
        "garante que todos vamos gerar os mesmos números aleatórios\n",
        "'''\n",
        "seed(seed = 20111974)\n",
        "\n",
        "# Gera 10 números aleatórios a partir da Distribuição Normal(mu, desvio_padrao)\n",
        "media = 0\n",
        "desvio_padrao = 1 \n",
        "np.random.normal(size = 10)"
      ],
      "execution_count": 17,
      "outputs": [
        {
          "output_type": "execute_result",
          "data": {
            "text/plain": [
              "array([ 2.51,  1.11,  2.06,  0.56,  0.3 ,  1.05, -0.13,  1.06,  1.14,\n",
              "        1.38])"
            ]
          },
          "metadata": {
            "tags": []
          },
          "execution_count": 17
        }
      ]
    },
    {
      "cell_type": "markdown",
      "metadata": {
        "id": "00RerJPChnuP"
      },
      "source": [
        "___\n",
        "# **Estatísticas Descriticas com NumPy**"
      ]
    },
    {
      "cell_type": "markdown",
      "metadata": {
        "id": "Qa6ro1VJlShd"
      },
      "source": [
        "## Exemplo 1\n",
        "> Vamos voltar ao mesmo exemplo anterior, mas desta vez, usando a opção 1 (com alias):\n",
        "\n",
        "* Gerar uma amostra aleatória de tamanho 10 da Distribuiçao Normal(0, 1)."
      ]
    },
    {
      "cell_type": "code",
      "metadata": {
        "id": "31dSBU8khvFk",
        "outputId": "14d42b6f-1a70-4d38-b84a-7cf71e5a8a44",
        "colab": {
          "base_uri": "https://localhost:8080/",
          "height": 51
        }
      },
      "source": [
        "# Set up o número de casas decimais para o NumPy:\n",
        "np.set_printoptions(precision = 2, suppress = True)\n",
        "\n",
        "# Define seed\n",
        "np.random.seed(seed = 20111974)\n",
        "\n",
        "# Gera 10 números aleatórios a partir da Distribuição Normal(media, desvio_padrao)\n",
        "media = 0\n",
        "desvio_padrao = 1\n",
        "\n",
        "np.random\n",
        "a_conjunto1 = np.random.normal(media, desvio_padrao, size = 10) # Array 1D de size = 10\n",
        "a_conjunto1"
      ],
      "execution_count": 18,
      "outputs": [
        {
          "output_type": "execute_result",
          "data": {
            "text/plain": [
              "array([ 2.51,  1.11,  2.06,  0.56,  0.3 ,  1.05, -0.13,  1.06,  1.14,\n",
              "        1.38])"
            ]
          },
          "metadata": {
            "tags": []
          },
          "execution_count": 18
        }
      ]
    },
    {
      "cell_type": "markdown",
      "metadata": {
        "id": "wa2t0P3nevTh"
      },
      "source": [
        "Conferindo a média e desvio-padrão do array gerado:"
      ]
    },
    {
      "cell_type": "code",
      "metadata": {
        "id": "drUyk3f5ekDq",
        "outputId": "f12428fe-0c82-4595-f725-20b02a1c9138",
        "colab": {
          "base_uri": "https://localhost:8080/",
          "height": 35
        }
      },
      "source": [
        "f'Distribuição N({np.mean(a_conjunto1)}, {np.std(a_conjunto1)})'"
      ],
      "execution_count": 19,
      "outputs": [
        {
          "output_type": "execute_result",
          "data": {
            "application/vnd.google.colaboratory.intrinsic+json": {
              "type": "string"
            },
            "text/plain": [
              "'Distribuição N(1.1043374540652753, 0.735246705657231)'"
            ]
          },
          "metadata": {
            "tags": []
          },
          "execution_count": 19
        }
      ]
    },
    {
      "cell_type": "code",
      "metadata": {
        "id": "HUIlWDMsPFfG",
        "outputId": "a1a90dc8-a74e-4c9b-d29f-6d77fb6001f7",
        "colab": {
          "base_uri": "https://localhost:8080/",
          "height": 35
        }
      },
      "source": [
        "# Set up o número de casas decimais para o NumPy:\n",
        "np.set_printoptions(precision = 2, suppress = True)\n",
        "\n",
        "# Define seed\n",
        "np.random.seed(seed = 20111974)\n",
        "\n",
        "# Gera 10 números aleatórios a partir da Distribuição Normal(media, desvio_padrao)\n",
        "media = 0\n",
        "desvio_padrao = 1\n",
        "i_size = 100\n",
        "\n",
        "np.random\n",
        "a_conjunto1 = np.random.normal(media, desvio_padrao, size = i_size) # Array 1D de size = 10\n",
        "f'Distribuição : número de elementos: {i_size} / Média {np.mean(a_conjunto1)} / DP {np.std(a_conjunto1)})'"
      ],
      "execution_count": 26,
      "outputs": [
        {
          "output_type": "execute_result",
          "data": {
            "application/vnd.google.colaboratory.intrinsic+json": {
              "type": "string"
            },
            "text/plain": [
              "'Distribuição : número de elementos: 100 / Média -0.016996335492713833 / DP 1.0055613764417128)'"
            ]
          },
          "metadata": {
            "tags": []
          },
          "execution_count": 26
        }
      ]
    },
    {
      "cell_type": "code",
      "metadata": {
        "id": "wfhWpOtjPogD",
        "outputId": "d74b48e4-0fca-4cdf-efc8-a3fc2152dff7",
        "colab": {
          "base_uri": "https://localhost:8080/",
          "height": 102
        }
      },
      "source": [
        "# Set up o número de casas decimais para o NumPy:\n",
        "np.set_printoptions(precision = 2, suppress = True)\n",
        "\n",
        "# Define seed\n",
        "np.random.seed(seed = 20111974)\n",
        "\n",
        "# Gera 10 números aleatórios a partir da Distribuição Normal(media, desvio_padrao)\n",
        "media = 0\n",
        "desvio_padrao = 1\n",
        "a_elementos = [10,100,1000,10000,100000]\n",
        "\n",
        "for i_size in a_elementos:\n",
        "  a_conjunto1 = np.random.normal(media, desvio_padrao, size = i_size) # Array 1D de size = 10\n",
        "  print(f'Distribuição : número de elementos: {i_size} / Média {np.mean(a_conjunto1)} / DP {np.std(a_conjunto1)})')"
      ],
      "execution_count": 30,
      "outputs": [
        {
          "output_type": "stream",
          "text": [
            "Distribuição : número de elementos: 10 / Média 1.1043374540652753 / DP 0.735246705657231)\n",
            "Distribuição : número de elementos: 100 / Média -0.14020525697186714 / DP 0.9254100654233511)\n",
            "Distribuição : número de elementos: 1000 / Média 0.021644923462910873 / DP 1.0054417533501039)\n",
            "Distribuição : número de elementos: 10000 / Média 0.015499353804764507 / DP 0.9970905566844254)\n",
            "Distribuição : número de elementos: 100000 / Média 0.002039323041103302 / DP 0.9960906293570095)\n"
          ],
          "name": "stdout"
        }
      ]
    },
    {
      "cell_type": "markdown",
      "metadata": {
        "id": "XSp7Hd-Gib67"
      },
      "source": [
        "Estávamos à espera de media = 0 e sigma = 1. Certo? Porque isso não aconteceu?"
      ]
    },
    {
      "cell_type": "markdown",
      "metadata": {
        "id": "HP_8VSgygXOF"
      },
      "source": [
        "## **Laboratório 1**\n",
        "> Altere os valores de [size] para 100, 1.000, 10.000, 100.000 e 1.000.000 e relate o que acontece com a média e desvio padrão."
      ]
    },
    {
      "cell_type": "markdown",
      "metadata": {
        "id": "4TbmVbdcg6iU"
      },
      "source": [
        "## **Minha solução**"
      ]
    },
    {
      "cell_type": "code",
      "metadata": {
        "id": "-qdiqBVHg-gd",
        "outputId": "d2ea4d17-6db3-4113-d94f-91273460ebd8",
        "colab": {
          "base_uri": "https://localhost:8080/",
          "height": 153
        }
      },
      "source": [
        "# Define a média e o desvio-padrão\n",
        "media = 0\n",
        "desvio_padrao = 1\n",
        "\n",
        "# Define seed\n",
        "np.random.seed(seed = 20111974)\n",
        "l_lista_conjunto = [10, 100, 1000, 10000, 100000, 1000000, 10000000, 100000000, 1000000000]\n",
        "\n",
        "for i_size in l_lista_conjunto:\n",
        "    a_conjunto1 = np.random.normal(media, desvio_padrao, size = i_size)\n",
        "    print(f'Size: {i_size}--> Distribuição: N({np.mean(a_conjunto1)}, {np.std(a_conjunto1)})')"
      ],
      "execution_count": null,
      "outputs": [
        {
          "output_type": "stream",
          "text": [
            "Size: 10--> Distribuição: N(1.1043374540652753, 0.735246705657231)\n",
            "Size: 100--> Distribuição: N(-0.14020525697186714, 0.9254100654233511)\n",
            "Size: 1000--> Distribuição: N(0.021644923462910873, 1.0054417533501039)\n",
            "Size: 10000--> Distribuição: N(0.015499353804764507, 0.9970905566844254)\n",
            "Size: 100000--> Distribuição: N(0.002039323041103302, 0.9960906293570095)\n",
            "Size: 1000000--> Distribuição: N(-1.1062145143945444e-06, 0.999473966169304)\n",
            "Size: 10000000--> Distribuição: N(0.0002892972723094128, 1.0001202837422036)\n",
            "Size: 100000000--> Distribuição: N(0.00011967896623555603, 0.999944390106086)\n"
          ],
          "name": "stdout"
        }
      ]
    },
    {
      "cell_type": "markdown",
      "metadata": {
        "id": "bp-YuviQwWqE"
      },
      "source": [
        "Com relação à Distribuição Normal($\\mu, \\sigma$), temos que:\n",
        "\n",
        "![NormalDistribution](https://github.com/MathMachado/Materials/blob/master/NormalDistribution.PNG?raw=true)\n",
        "\n",
        "Fonte: [Normal Distribution](https://towardsdatascience.com/understanding-the-68-95-99-7-rule-for-a-normal-distribution-b7b7cbf760c2)"
      ]
    },
    {
      "cell_type": "markdown",
      "metadata": {
        "id": "KwHBY3Enk04N"
      },
      "source": [
        "## Lei Forte dos Grandes Números - LFGN\n",
        "> Por favor, leia o que diz a [Law of large numbers](https://en.wikipedia.org/wiki/Law_of_large_numbers). --> 3 minutos.\n",
        "\n",
        "* O que você aprendeu com isso?"
      ]
    },
    {
      "cell_type": "markdown",
      "metadata": {
        "id": "BhwmSkAjlszT"
      },
      "source": [
        "## Exemplo 2\n",
        "> Vamos nos aprofundar um pouco mais no que diz a LFGN. Para isso, vamos simular o lançamento de dados. Como sabemos, os dados possuem 6 lados numerados de 1 a 6, com igual probabilidade. Certo?\n",
        "\n",
        "A LFGN nos diz que à medida que N (o tamanho da amostra ou número de dados) cresce, então a média dos dados converge para o valor esperado. Isso quer dizer que:\n",
        "\n",
        "$$\\frac{1+2+3+4+5+6}{6}= \\frac{21}{6}= 3,5$$\n",
        "\n",
        "Ou seja, à medida que N (o tamanho da amostra) cresce, espera-se que a média dos dados se aproxime de 3,5. Ok?\n",
        "\n",
        "Vamos ver se isso é verdade..."
      ]
    },
    {
      "cell_type": "markdown",
      "metadata": {
        "id": "-QcJXf6roj0D"
      },
      "source": [
        "Vamos usar o método np.random.randint (= função randint definido na classe np.random), a seguir:"
      ]
    },
    {
      "cell_type": "markdown",
      "metadata": {
        "id": "A2u0RzLOrRE2"
      },
      "source": [
        "O que significa ou qual é a interpretação do resultado abaixo?"
      ]
    },
    {
      "cell_type": "code",
      "metadata": {
        "id": "B3-X_VBerUfa",
        "outputId": "2c0dde81-a718-4523-80cf-a8b546fc1a49",
        "colab": {
          "base_uri": "https://localhost:8080/",
          "height": 102
        }
      },
      "source": [
        "# Define seed\n",
        "import numpy as np\n",
        "np.random.seed(seed = 20111974)\n",
        "\n",
        "# Simular 100 lançamentos de um dado:\n",
        "a_dados_simulados = np.random.randint(1, 7, size = 100)\n",
        "a_dados_simulados"
      ],
      "execution_count": 2,
      "outputs": [
        {
          "output_type": "execute_result",
          "data": {
            "text/plain": [
              "array([4, 5, 3, 1, 1, 4, 3, 1, 2, 2, 1, 1, 6, 4, 5, 3, 1, 4, 1, 6, 2, 4,\n",
              "       6, 2, 4, 3, 2, 6, 3, 6, 2, 6, 1, 3, 1, 2, 4, 2, 4, 6, 3, 2, 6, 1,\n",
              "       4, 3, 6, 5, 2, 3, 3, 3, 3, 2, 1, 6, 2, 1, 2, 3, 1, 5, 6, 6, 6, 6,\n",
              "       5, 6, 6, 5, 6, 3, 3, 2, 4, 2, 6, 1, 2, 3, 4, 5, 5, 3, 1, 6, 6, 5,\n",
              "       5, 1, 4, 6, 2, 2, 4, 3, 6, 1, 5, 5])"
            ]
          },
          "metadata": {
            "tags": []
          },
          "execution_count": 2
        }
      ]
    },
    {
      "cell_type": "code",
      "metadata": {
        "id": "m8Of2MMIrbF3",
        "outputId": "dca5755e-c2bb-44e9-dc49-e7569bcbcfe2",
        "colab": {
          "base_uri": "https://localhost:8080/",
          "height": 136
        }
      },
      "source": [
        "# Importar o pandas, pois vamos precisar do método pd.value_counts():\n",
        "import pandas as pd\n",
        "pd.value_counts(a_dados_simulados)"
      ],
      "execution_count": 3,
      "outputs": [
        {
          "output_type": "execute_result",
          "data": {
            "text/plain": [
              "6    22\n",
              "3    18\n",
              "2    18\n",
              "1    17\n",
              "4    13\n",
              "5    12\n",
              "dtype: int64"
            ]
          },
          "metadata": {
            "tags": []
          },
          "execution_count": 3
        }
      ]
    },
    {
      "cell_type": "markdown",
      "metadata": {
        "id": "54VwED8Br8rx"
      },
      "source": [
        "**Interpretação**: Isso quer dizer que fizemos a simulação de lançamento de um dado 100 vezes. Acima, a frequência com que cada lado do dado aparece.\n",
        "\n",
        "Eu estava à espera de frequência igual para cada um dos lados, isto é, por volta dos 16 ou 17. Ou seja:\n",
        "\n",
        "$$\\frac{100}{6}= 16,66$$\n",
        "\n",
        "Mas ok, vamos continuar com nosso experimento..."
      ]
    },
    {
      "cell_type": "code",
      "metadata": {
        "id": "HT_Dak-umC6I",
        "outputId": "a4bcdc1f-0366-48cb-a2da-905d5751c994",
        "colab": {
          "base_uri": "https://localhost:8080/",
          "height": 170
        }
      },
      "source": [
        "# Definir a semente\n",
        "np.random.seed(20111974)\n",
        "\n",
        "for i_size in [10, 30, 50, 75, 100, 1000, 10000, 100000, 1000000]:\n",
        "    a_dados_simulados = np.random.randint(1, 7, size = i_size)\n",
        "    print(f'Size: {i_size} --> Média: {np.mean(a_dados_simulados)}')"
      ],
      "execution_count": 4,
      "outputs": [
        {
          "output_type": "stream",
          "text": [
            "Size: 10 --> Média: 2.6\n",
            "Size: 30 --> Média: 3.3666666666666667\n",
            "Size: 50 --> Média: 3.72\n",
            "Size: 75 --> Média: 3.2666666666666666\n",
            "Size: 100 --> Média: 3.42\n",
            "Size: 1000 --> Média: 3.461\n",
            "Size: 10000 --> Média: 3.5259\n",
            "Size: 100000 --> Média: 3.50794\n",
            "Size: 1000000 --> Média: 3.50151\n"
          ],
          "name": "stdout"
        }
      ]
    },
    {
      "cell_type": "markdown",
      "metadata": {
        "id": "edWNNOnXtbtd"
      },
      "source": [
        "E agora, como você interpreta esses resultados?"
      ]
    },
    {
      "cell_type": "markdown",
      "metadata": {
        "id": "eL6gXThkYcSf"
      },
      "source": [
        "## Calcular percentis\n",
        "> Boxplot"
      ]
    },
    {
      "cell_type": "markdown",
      "metadata": {
        "id": "jlGOQfXfPf0D"
      },
      "source": [
        "![BoxPlot](https://github.com/MathMachado/Materials/blob/master/boxplot.png?raw=true)\n",
        "\n",
        "Fonte: [Understanding Boxplots](https://towardsdatascience.com/understanding-boxplots-5e2df7bcbd51)"
      ]
    },
    {
      "cell_type": "markdown",
      "metadata": {
        "id": "grtEXG2BoNRt"
      },
      "source": [
        "Considere o array de retornos (simulados) a seguir:"
      ]
    },
    {
      "cell_type": "code",
      "metadata": {
        "id": "zgAh7gWeRews"
      },
      "source": [
        "#usando dados de Fonte: Understanding Boxplots \n",
        "import pandas as pd\n",
        "import seaborn as sns\n",
        "import matplotlib.pyplot as plt\n",
        "# Put dataset on my github repo \n",
        "df = pd.read_csv('https://raw.githubusercontent.com/mGalarnyk/Python_Tutorials/master/Kaggle/BreastCancerWisconsin/data/data.csv')"
      ],
      "execution_count": 5,
      "outputs": []
    },
    {
      "cell_type": "code",
      "metadata": {
        "id": "jKjcOB_1RseM",
        "outputId": "434f2866-7c1e-478b-b382-29ccf082104a",
        "colab": {
          "base_uri": "https://localhost:8080/",
          "height": 241
        }
      },
      "source": [
        "df.head(5)"
      ],
      "execution_count": 8,
      "outputs": [
        {
          "output_type": "execute_result",
          "data": {
            "text/html": [
              "<div>\n",
              "<style scoped>\n",
              "    .dataframe tbody tr th:only-of-type {\n",
              "        vertical-align: middle;\n",
              "    }\n",
              "\n",
              "    .dataframe tbody tr th {\n",
              "        vertical-align: top;\n",
              "    }\n",
              "\n",
              "    .dataframe thead th {\n",
              "        text-align: right;\n",
              "    }\n",
              "</style>\n",
              "<table border=\"1\" class=\"dataframe\">\n",
              "  <thead>\n",
              "    <tr style=\"text-align: right;\">\n",
              "      <th></th>\n",
              "      <th>id</th>\n",
              "      <th>diagnosis</th>\n",
              "      <th>radius_mean</th>\n",
              "      <th>texture_mean</th>\n",
              "      <th>perimeter_mean</th>\n",
              "      <th>area_mean</th>\n",
              "      <th>smoothness_mean</th>\n",
              "      <th>compactness_mean</th>\n",
              "      <th>concavity_mean</th>\n",
              "      <th>concave points_mean</th>\n",
              "      <th>symmetry_mean</th>\n",
              "      <th>fractal_dimension_mean</th>\n",
              "      <th>radius_se</th>\n",
              "      <th>texture_se</th>\n",
              "      <th>perimeter_se</th>\n",
              "      <th>area_se</th>\n",
              "      <th>smoothness_se</th>\n",
              "      <th>compactness_se</th>\n",
              "      <th>concavity_se</th>\n",
              "      <th>concave points_se</th>\n",
              "      <th>symmetry_se</th>\n",
              "      <th>fractal_dimension_se</th>\n",
              "      <th>radius_worst</th>\n",
              "      <th>texture_worst</th>\n",
              "      <th>perimeter_worst</th>\n",
              "      <th>area_worst</th>\n",
              "      <th>smoothness_worst</th>\n",
              "      <th>compactness_worst</th>\n",
              "      <th>concavity_worst</th>\n",
              "      <th>concave points_worst</th>\n",
              "      <th>symmetry_worst</th>\n",
              "      <th>fractal_dimension_worst</th>\n",
              "      <th>Unnamed: 32</th>\n",
              "    </tr>\n",
              "  </thead>\n",
              "  <tbody>\n",
              "    <tr>\n",
              "      <th>0</th>\n",
              "      <td>842302</td>\n",
              "      <td>M</td>\n",
              "      <td>17.99</td>\n",
              "      <td>10.38</td>\n",
              "      <td>122.80</td>\n",
              "      <td>1001.0</td>\n",
              "      <td>0.11840</td>\n",
              "      <td>0.27760</td>\n",
              "      <td>0.3001</td>\n",
              "      <td>0.14710</td>\n",
              "      <td>0.2419</td>\n",
              "      <td>0.07871</td>\n",
              "      <td>1.0950</td>\n",
              "      <td>0.9053</td>\n",
              "      <td>8.589</td>\n",
              "      <td>153.40</td>\n",
              "      <td>0.006399</td>\n",
              "      <td>0.04904</td>\n",
              "      <td>0.05373</td>\n",
              "      <td>0.01587</td>\n",
              "      <td>0.03003</td>\n",
              "      <td>0.006193</td>\n",
              "      <td>25.38</td>\n",
              "      <td>17.33</td>\n",
              "      <td>184.60</td>\n",
              "      <td>2019.0</td>\n",
              "      <td>0.1622</td>\n",
              "      <td>0.6656</td>\n",
              "      <td>0.7119</td>\n",
              "      <td>0.2654</td>\n",
              "      <td>0.4601</td>\n",
              "      <td>0.11890</td>\n",
              "      <td>NaN</td>\n",
              "    </tr>\n",
              "    <tr>\n",
              "      <th>1</th>\n",
              "      <td>842517</td>\n",
              "      <td>M</td>\n",
              "      <td>20.57</td>\n",
              "      <td>17.77</td>\n",
              "      <td>132.90</td>\n",
              "      <td>1326.0</td>\n",
              "      <td>0.08474</td>\n",
              "      <td>0.07864</td>\n",
              "      <td>0.0869</td>\n",
              "      <td>0.07017</td>\n",
              "      <td>0.1812</td>\n",
              "      <td>0.05667</td>\n",
              "      <td>0.5435</td>\n",
              "      <td>0.7339</td>\n",
              "      <td>3.398</td>\n",
              "      <td>74.08</td>\n",
              "      <td>0.005225</td>\n",
              "      <td>0.01308</td>\n",
              "      <td>0.01860</td>\n",
              "      <td>0.01340</td>\n",
              "      <td>0.01389</td>\n",
              "      <td>0.003532</td>\n",
              "      <td>24.99</td>\n",
              "      <td>23.41</td>\n",
              "      <td>158.80</td>\n",
              "      <td>1956.0</td>\n",
              "      <td>0.1238</td>\n",
              "      <td>0.1866</td>\n",
              "      <td>0.2416</td>\n",
              "      <td>0.1860</td>\n",
              "      <td>0.2750</td>\n",
              "      <td>0.08902</td>\n",
              "      <td>NaN</td>\n",
              "    </tr>\n",
              "    <tr>\n",
              "      <th>2</th>\n",
              "      <td>84300903</td>\n",
              "      <td>M</td>\n",
              "      <td>19.69</td>\n",
              "      <td>21.25</td>\n",
              "      <td>130.00</td>\n",
              "      <td>1203.0</td>\n",
              "      <td>0.10960</td>\n",
              "      <td>0.15990</td>\n",
              "      <td>0.1974</td>\n",
              "      <td>0.12790</td>\n",
              "      <td>0.2069</td>\n",
              "      <td>0.05999</td>\n",
              "      <td>0.7456</td>\n",
              "      <td>0.7869</td>\n",
              "      <td>4.585</td>\n",
              "      <td>94.03</td>\n",
              "      <td>0.006150</td>\n",
              "      <td>0.04006</td>\n",
              "      <td>0.03832</td>\n",
              "      <td>0.02058</td>\n",
              "      <td>0.02250</td>\n",
              "      <td>0.004571</td>\n",
              "      <td>23.57</td>\n",
              "      <td>25.53</td>\n",
              "      <td>152.50</td>\n",
              "      <td>1709.0</td>\n",
              "      <td>0.1444</td>\n",
              "      <td>0.4245</td>\n",
              "      <td>0.4504</td>\n",
              "      <td>0.2430</td>\n",
              "      <td>0.3613</td>\n",
              "      <td>0.08758</td>\n",
              "      <td>NaN</td>\n",
              "    </tr>\n",
              "    <tr>\n",
              "      <th>3</th>\n",
              "      <td>84348301</td>\n",
              "      <td>M</td>\n",
              "      <td>11.42</td>\n",
              "      <td>20.38</td>\n",
              "      <td>77.58</td>\n",
              "      <td>386.1</td>\n",
              "      <td>0.14250</td>\n",
              "      <td>0.28390</td>\n",
              "      <td>0.2414</td>\n",
              "      <td>0.10520</td>\n",
              "      <td>0.2597</td>\n",
              "      <td>0.09744</td>\n",
              "      <td>0.4956</td>\n",
              "      <td>1.1560</td>\n",
              "      <td>3.445</td>\n",
              "      <td>27.23</td>\n",
              "      <td>0.009110</td>\n",
              "      <td>0.07458</td>\n",
              "      <td>0.05661</td>\n",
              "      <td>0.01867</td>\n",
              "      <td>0.05963</td>\n",
              "      <td>0.009208</td>\n",
              "      <td>14.91</td>\n",
              "      <td>26.50</td>\n",
              "      <td>98.87</td>\n",
              "      <td>567.7</td>\n",
              "      <td>0.2098</td>\n",
              "      <td>0.8663</td>\n",
              "      <td>0.6869</td>\n",
              "      <td>0.2575</td>\n",
              "      <td>0.6638</td>\n",
              "      <td>0.17300</td>\n",
              "      <td>NaN</td>\n",
              "    </tr>\n",
              "    <tr>\n",
              "      <th>4</th>\n",
              "      <td>84358402</td>\n",
              "      <td>M</td>\n",
              "      <td>20.29</td>\n",
              "      <td>14.34</td>\n",
              "      <td>135.10</td>\n",
              "      <td>1297.0</td>\n",
              "      <td>0.10030</td>\n",
              "      <td>0.13280</td>\n",
              "      <td>0.1980</td>\n",
              "      <td>0.10430</td>\n",
              "      <td>0.1809</td>\n",
              "      <td>0.05883</td>\n",
              "      <td>0.7572</td>\n",
              "      <td>0.7813</td>\n",
              "      <td>5.438</td>\n",
              "      <td>94.44</td>\n",
              "      <td>0.011490</td>\n",
              "      <td>0.02461</td>\n",
              "      <td>0.05688</td>\n",
              "      <td>0.01885</td>\n",
              "      <td>0.01756</td>\n",
              "      <td>0.005115</td>\n",
              "      <td>22.54</td>\n",
              "      <td>16.67</td>\n",
              "      <td>152.20</td>\n",
              "      <td>1575.0</td>\n",
              "      <td>0.1374</td>\n",
              "      <td>0.2050</td>\n",
              "      <td>0.4000</td>\n",
              "      <td>0.1625</td>\n",
              "      <td>0.2364</td>\n",
              "      <td>0.07678</td>\n",
              "      <td>NaN</td>\n",
              "    </tr>\n",
              "  </tbody>\n",
              "</table>\n",
              "</div>"
            ],
            "text/plain": [
              "         id diagnosis  ...  fractal_dimension_worst  Unnamed: 32\n",
              "0    842302         M  ...                  0.11890          NaN\n",
              "1    842517         M  ...                  0.08902          NaN\n",
              "2  84300903         M  ...                  0.08758          NaN\n",
              "3  84348301         M  ...                  0.17300          NaN\n",
              "4  84358402         M  ...                  0.07678          NaN\n",
              "\n",
              "[5 rows x 33 columns]"
            ]
          },
          "metadata": {
            "tags": []
          },
          "execution_count": 8
        }
      ]
    },
    {
      "cell_type": "code",
      "metadata": {
        "id": "plyx1XniRgzD",
        "outputId": "29317060-c75d-4e26-97de-b8df9a92d1d4",
        "colab": {
          "base_uri": "https://localhost:8080/",
          "height": 296
        }
      },
      "source": [
        "sns.boxplot(x='diagnosis', y='area_mean', data=df)"
      ],
      "execution_count": 6,
      "outputs": [
        {
          "output_type": "execute_result",
          "data": {
            "text/plain": [
              "<matplotlib.axes._subplots.AxesSubplot at 0x7f2ad5535860>"
            ]
          },
          "metadata": {
            "tags": []
          },
          "execution_count": 6
        },
        {
          "output_type": "display_data",
          "data": {
            "image/png": "[encoded data removed]",
            "text/plain": [
              "<Figure size 432x288 with 1 Axes>"
            ]
          },
          "metadata": {
            "tags": [],
            "needs_background": "light"
          }
        }
      ]
    },
    {
      "cell_type": "code",
      "metadata": {
        "id": "OXRRKDX-R5_L",
        "outputId": "8fc79075-ad94-4ca4-9064-fec56e6c73c2",
        "colab": {
          "base_uri": "https://localhost:8080/",
          "height": 520
        }
      },
      "source": [
        "df_malignant = df[df['diagnosis']=='M']['area_mean']\n",
        "df_benign = df[df['diagnosis']=='B']['area_mean']\n",
        "fig = plt.figure()\n",
        "ax = fig.add_subplot(111)\n",
        "ax.boxplot([df_malignant,df_benign], labels=['M', 'B'])"
      ],
      "execution_count": 24,
      "outputs": [
        {
          "output_type": "execute_result",
          "data": {
            "text/plain": [
              "{'boxes': [<matplotlib.lines.Line2D at 0x7f2ad469bcf8>,\n",
              "  <matplotlib.lines.Line2D at 0x7f2ad46b4518>],\n",
              " 'caps': [<matplotlib.lines.Line2D at 0x7f2ad46aa710>,\n",
              "  <matplotlib.lines.Line2D at 0x7f2ad46aaa90>,\n",
              "  <matplotlib.lines.Line2D at 0x7f2ad46b4fd0>,\n",
              "  <matplotlib.lines.Line2D at 0x7f2ad4640390>],\n",
              " 'fliers': [<matplotlib.lines.Line2D at 0x7f2ad46b41d0>,\n",
              "  <matplotlib.lines.Line2D at 0x7f2ad4640a90>],\n",
              " 'means': [],\n",
              " 'medians': [<matplotlib.lines.Line2D at 0x7f2ad46aae10>,\n",
              "  <matplotlib.lines.Line2D at 0x7f2ad4640710>],\n",
              " 'whiskers': [<matplotlib.lines.Line2D at 0x7f2ad469bfd0>,\n",
              "  <matplotlib.lines.Line2D at 0x7f2ad46aa390>,\n",
              "  <matplotlib.lines.Line2D at 0x7f2ad46b48d0>,\n",
              "  <matplotlib.lines.Line2D at 0x7f2ad46b4c50>]}"
            ]
          },
          "metadata": {
            "tags": []
          },
          "execution_count": 24
        },
        {
          "output_type": "display_data",
          "data": {
            "image/png": "[encoded data removed]",
            "text/plain": [
              "<Figure size 432x288 with 1 Axes>"
            ]
          },
          "metadata": {
            "tags": [],
            "needs_background": "light"
          }
        }
      ]
    },
    {
      "cell_type": "code",
      "metadata": {
        "id": "oe8yTLWjR_ab",
        "outputId": "b18523cb-2dd3-4ebf-9a4d-bbaf355cc050",
        "colab": {
          "base_uri": "https://localhost:8080/",
          "height": 119
        }
      },
      "source": [
        "df_malignant.head(5)"
      ],
      "execution_count": 11,
      "outputs": [
        {
          "output_type": "execute_result",
          "data": {
            "text/plain": [
              "0    1001.0\n",
              "1    1326.0\n",
              "2    1203.0\n",
              "3     386.1\n",
              "4    1297.0\n",
              "Name: area_mean, dtype: float64"
            ]
          },
          "metadata": {
            "tags": []
          },
          "execution_count": 11
        }
      ]
    },
    {
      "cell_type": "code",
      "metadata": {
        "id": "nNlhW6FsSN8z",
        "outputId": "f2f8a202-32cd-4e03-b75f-0c0ec398b5de",
        "colab": {
          "base_uri": "https://localhost:8080/",
          "height": 119
        }
      },
      "source": [
        "df_benign.head(5)\n"
      ],
      "execution_count": 12,
      "outputs": [
        {
          "output_type": "execute_result",
          "data": {
            "text/plain": [
              "19    566.3\n",
              "20    520.0\n",
              "21    273.9\n",
              "37    523.8\n",
              "46    201.9\n",
              "Name: area_mean, dtype: float64"
            ]
          },
          "metadata": {
            "tags": []
          },
          "execution_count": 12
        }
      ]
    },
    {
      "cell_type": "code",
      "metadata": {
        "id": "DjPKKq01YjF9",
        "outputId": "372960aa-7d85-4514-8f12-28b3a2ec4259",
        "colab": {
          "base_uri": "https://localhost:8080/",
          "height": 34
        }
      },
      "source": [
        "import numpy as np\n",
        "np.random.seed(20111974)\n",
        "\n",
        "# Simulando Retornos de ativos financeiros com a distribuição Normal(0, 1):\n",
        "a_retornos = np.random.normal(0, 1, 100)\n",
        "print(f'Média: {np.mean(a_retornos)}')"
      ],
      "execution_count": 13,
      "outputs": [
        {
          "output_type": "stream",
          "text": [
            "Média: -0.016996335492713833\n"
          ],
          "name": "stdout"
        }
      ]
    },
    {
      "cell_type": "code",
      "metadata": {
        "id": "ajjlfqgssLVO",
        "outputId": "cb581b84-1c27-4c09-fee9-2d1a8ab56034",
        "colab": {
          "base_uri": "https://localhost:8080/",
          "height": 357
        }
      },
      "source": [
        "a_retornos"
      ],
      "execution_count": 14,
      "outputs": [
        {
          "output_type": "execute_result",
          "data": {
            "text/plain": [
              "array([ 2.5062768 ,  1.11440422,  2.05565501,  0.56482376,  0.29897276,\n",
              "        1.04930857, -0.12607366,  1.06227632,  1.13807032,  1.37966044,\n",
              "       -2.05995563,  0.67474814,  0.72722843, -0.33923852,  0.43613107,\n",
              "        0.59135489, -1.29281877,  1.17712036, -0.98644163, -1.79034143,\n",
              "       -1.08913605, -0.90712825, -1.02291108, -1.36445713, -0.29429164,\n",
              "        0.06343709, -1.14196185, -0.50706079, -0.83539436, -1.41492946,\n",
              "       -0.2159062 , -1.16519474, -0.60767518, -0.61510925,  1.0771542 ,\n",
              "        0.5043687 ,  0.02674197,  1.83494644,  0.34728874, -1.14671885,\n",
              "       -0.59841423, -0.42698353,  0.10901983, -0.75168457,  0.71689294,\n",
              "       -0.50810299,  0.47524103, -0.38248511, -1.37491973,  1.5355728 ,\n",
              "       -0.27356178,  0.68072592, -1.80454873,  1.16995833, -0.37988822,\n",
              "        0.19305861,  1.53792436, -0.11802807, -0.97621103, -1.23463994,\n",
              "        1.0504434 ,  1.91481015,  0.80359454,  0.35869561,  1.03409992,\n",
              "       -0.37200685,  0.32947575,  0.70038627, -0.98085533, -1.21072144,\n",
              "        0.74366412,  0.18372348,  0.10430302, -0.78160841, -0.0423915 ,\n",
              "        1.67094293, -1.07256479, -0.5493723 , -1.83082917,  0.11510819,\n",
              "        1.3911365 , -0.28940563,  0.31904722, -0.70009623, -0.4353552 ,\n",
              "       -2.0301258 , -0.14205882,  1.66292963, -0.57691495, -0.78963384,\n",
              "       -0.80660503,  0.05581487,  0.8715663 , -0.3499477 ,  1.37366912,\n",
              "        0.88027638, -1.47925906, -0.40657104, -0.18789895,  0.47475142])"
            ]
          },
          "metadata": {
            "tags": []
          },
          "execution_count": 14
        }
      ]
    },
    {
      "cell_type": "markdown",
      "metadata": {
        "id": "XZ3m06gv9lei"
      },
      "source": [
        "A seguir, o boxplot do array a_retornos:"
      ]
    },
    {
      "cell_type": "code",
      "metadata": {
        "id": "QtuwJP449tBQ",
        "outputId": "c0267932-7470-483d-daca-f1913a5f4772",
        "colab": {
          "base_uri": "https://localhost:8080/",
          "height": 269
        }
      },
      "source": [
        "# Import da biblioteca seaborn: Uma das principais libraries para Data Visualization (outras: matplotlib)\n",
        "import seaborn as sns\n",
        "\n",
        "sns.boxplot(y = a_retornos)"
      ],
      "execution_count": 15,
      "outputs": [
        {
          "output_type": "execute_result",
          "data": {
            "text/plain": [
              "<matplotlib.axes._subplots.AxesSubplot at 0x7f2ad4896cf8>"
            ]
          },
          "metadata": {
            "tags": []
          },
          "execution_count": 15
        },
        {
          "output_type": "display_data",
          "data": {
            "image/png": "[encoded data removed]",
            "text/plain": [
              "<Figure size 432x288 with 1 Axes>"
            ]
          },
          "metadata": {
            "tags": [],
            "needs_background": "light"
          }
        }
      ]
    },
    {
      "cell_type": "code",
      "metadata": {
        "id": "o9ujdjxNY6qE"
      },
      "source": [
        "# Vamos usar o método np.percentile(array, q = [p1, p2, p3, ..., p99])\n",
        "percentis = np.percentile(a_retornos, q = [1, 5, 25, 50, 55, 75, 99])\n",
        "\n",
        "# Primeiro Quartil\n",
        "q1 = percentis[2]"
      ],
      "execution_count": 17,
      "outputs": []
    },
    {
      "cell_type": "markdown",
      "metadata": {
        "id": "c75g2Egco2lc"
      },
      "source": [
        "Em qual posição do array a_retornos se encontra Q3?"
      ]
    },
    {
      "cell_type": "code",
      "metadata": {
        "id": "nZr-A82Zo8Kb",
        "outputId": "29c67f4b-eeb2-4072-916f-e7abaed09521",
        "colab": {
          "base_uri": "https://localhost:8080/",
          "height": 34
        }
      },
      "source": [
        "q3 = percentis[5]\n",
        "\n",
        "# ou de trás para a frente do conteúdo da lista:\n",
        "q3_2 = percentis[-2]\n",
        "print(q3, q3_2)"
      ],
      "execution_count": 18,
      "outputs": [
        {
          "output_type": "stream",
          "text": [
            "0.7194768106252311 0.7194768106252311\n"
          ],
          "name": "stdout"
        }
      ]
    },
    {
      "cell_type": "code",
      "metadata": {
        "id": "sWrnESPQT4JM"
      },
      "source": [
        "# lim_inferior_outlier e lim_superior_outlier para detecção de outliers\n",
        "lim_inferior_outlier = q1 - 1.5 * (q3 - q1)\n",
        "lim_superior_outlier = q3 + 1.5 * (q3 - q1)"
      ],
      "execution_count": 19,
      "outputs": []
    },
    {
      "cell_type": "code",
      "metadata": {
        "id": "Yb4-ZJlUUYsi",
        "outputId": "a93c3b50-4537-4a59-dd59-b5e981ed9e74",
        "colab": {
          "base_uri": "https://localhost:8080/",
          "height": 35
        }
      },
      "source": [
        "f'Limite Inferior: {lim_inferior_outlier}; Limite Superior: {lim_superior_outlier}'"
      ],
      "execution_count": 20,
      "outputs": [
        {
          "output_type": "execute_result",
          "data": {
            "application/vnd.google.colaboratory.intrinsic+json": {
              "type": "string"
            },
            "text/plain": [
              "'Limite Inferior: -3.0382521297304486; Limite Superior: 2.974114174838639'"
            ]
          },
          "metadata": {
            "tags": []
          },
          "execution_count": 20
        }
      ]
    },
    {
      "cell_type": "code",
      "metadata": {
        "id": "Jr6oXIHlUxOe",
        "outputId": "fb66a413-161e-4556-b635-cff4c11b973e",
        "colab": {
          "base_uri": "https://localhost:8080/",
          "height": 34
        }
      },
      "source": [
        "np.min(a_retornos)"
      ],
      "execution_count": 21,
      "outputs": [
        {
          "output_type": "execute_result",
          "data": {
            "text/plain": [
              "-2.0599556303504514"
            ]
          },
          "metadata": {
            "tags": []
          },
          "execution_count": 21
        }
      ]
    },
    {
      "cell_type": "code",
      "metadata": {
        "id": "UxE47cN0U54X",
        "outputId": "a1a6bb8b-6cae-4af3-85f9-d19c9e6a7897",
        "colab": {
          "base_uri": "https://localhost:8080/",
          "height": 34
        }
      },
      "source": [
        "np.max(a_retornos)"
      ],
      "execution_count": 22,
      "outputs": [
        {
          "output_type": "execute_result",
          "data": {
            "text/plain": [
              "2.506276801325959"
            ]
          },
          "metadata": {
            "tags": []
          },
          "execution_count": 22
        }
      ]
    },
    {
      "cell_type": "markdown",
      "metadata": {
        "id": "OTB9HnIac499"
      },
      "source": [
        "___\n",
        "# **Ordenar itens de um array**\n",
        "> Considere o array a seguir:"
      ]
    },
    {
      "cell_type": "code",
      "metadata": {
        "id": "Jgj8Yw46dBMx",
        "outputId": "06107adb-7ff6-4d9e-edc8-27d82e39c8e7",
        "colab": {
          "base_uri": "https://localhost:8080/",
          "height": 51
        }
      },
      "source": [
        "np.random.seed(20111974)\n",
        "a_conjunto1 = np.random.random(10)\n",
        "a_conjunto1"
      ],
      "execution_count": 25,
      "outputs": [
        {
          "output_type": "execute_result",
          "data": {
            "text/plain": [
              "array([0.53097233, 0.56965626, 0.54252938, 0.65478409, 0.85708456,\n",
              "       0.60174181, 0.87298309, 0.45573342, 0.67336717, 0.64300912])"
            ]
          },
          "metadata": {
            "tags": []
          },
          "execution_count": 25
        }
      ]
    },
    {
      "cell_type": "markdown",
      "metadata": {
        "id": "cC9272GFdRln"
      },
      "source": [
        "Ordenando os itens de a_conjunto1..."
      ]
    },
    {
      "cell_type": "code",
      "metadata": {
        "id": "YUP90nBVdUeF",
        "outputId": "b781aeb1-2418-4d6f-ddbb-a122451aab4f",
        "colab": {
          "base_uri": "https://localhost:8080/",
          "height": 51
        }
      },
      "source": [
        "np.sort(a_conjunto1)"
      ],
      "execution_count": 26,
      "outputs": [
        {
          "output_type": "execute_result",
          "data": {
            "text/plain": [
              "array([0.45573342, 0.53097233, 0.54252938, 0.56965626, 0.60174181,\n",
              "       0.64300912, 0.65478409, 0.67336717, 0.85708456, 0.87298309])"
            ]
          },
          "metadata": {
            "tags": []
          },
          "execution_count": 26
        }
      ]
    },
    {
      "cell_type": "markdown",
      "metadata": {
        "id": "lG763cDGj-yB"
      },
      "source": [
        "___\n",
        "# **Obter ajuda**"
      ]
    },
    {
      "cell_type": "code",
      "metadata": {
        "id": "ehxPlD3EkEYL",
        "outputId": "c63a079a-285f-4c41-fe27-84630a824b58",
        "colab": {
          "base_uri": "https://localhost:8080/",
          "height": 1000
        }
      },
      "source": [
        "help(np.random.normal)"
      ],
      "execution_count": 27,
      "outputs": [
        {
          "output_type": "stream",
          "text": [
            "Help on built-in function normal:\n",
            "\n",
            "normal(...) method of numpy.random.mtrand.RandomState instance\n",
            "    normal(loc=0.0, scale=1.0, size=None)\n",
            "    \n",
            "    Draw random samples from a normal (Gaussian) distribution.\n",
            "    \n",
            "    The probability density function of the normal distribution, first\n",
            "    derived by De Moivre and 200 years later by both Gauss and Laplace\n",
            "    independently [2]_, is often called the bell curve because of\n",
            "    its characteristic shape (see the example below).\n",
            "    \n",
            "    The normal distributions occurs often in nature.  For example, it\n",
            "    describes the commonly occurring distribution of samples influenced\n",
            "    by a large number of tiny, random disturbances, each with its own\n",
            "    unique distribution [2]_.\n",
            "    \n",
            "    .. note::\n",
            "        New code should use the ``normal`` method of a ``default_rng()``\n",
            "        instance instead; see `random-quick-start`.\n",
            "    \n",
            "    Parameters\n",
            "    ----------\n",
            "    loc : float or array_like of floats\n",
            "        Mean (\"centre\") of the distribution.\n",
            "    scale : float or array_like of floats\n",
            "        Standard deviation (spread or \"width\") of the distribution. Must be\n",
            "        non-negative.\n",
            "    size : int or tuple of ints, optional\n",
            "        Output shape.  If the given shape is, e.g., ``(m, n, k)``, then\n",
            "        ``m * n * k`` samples are drawn.  If size is ``None`` (default),\n",
            "        a single value is returned if ``loc`` and ``scale`` are both scalars.\n",
            "        Otherwise, ``np.broadcast(loc, scale).size`` samples are drawn.\n",
            "    \n",
            "    Returns\n",
            "    -------\n",
            "    out : ndarray or scalar\n",
            "        Drawn samples from the parameterized normal distribution.\n",
            "    \n",
            "    See Also\n",
            "    --------\n",
            "    scipy.stats.norm : probability density function, distribution or\n",
            "        cumulative density function, etc.\n",
            "    Generator.normal: which should be used for new code.\n",
            "    \n",
            "    Notes\n",
            "    -----\n",
            "    The probability density for the Gaussian distribution is\n",
            "    \n",
            "    .. math:: p(x) = \\frac{1}{\\sqrt{ 2 \\pi \\sigma^2 }}\n",
            "                     e^{ - \\frac{ (x - \\mu)^2 } {2 \\sigma^2} },\n",
            "    \n",
            "    where :math:`\\mu` is the mean and :math:`\\sigma` the standard\n",
            "    deviation. The square of the standard deviation, :math:`\\sigma^2`,\n",
            "    is called the variance.\n",
            "    \n",
            "    The function has its peak at the mean, and its \"spread\" increases with\n",
            "    the standard deviation (the function reaches 0.607 times its maximum at\n",
            "    :math:`x + \\sigma` and :math:`x - \\sigma` [2]_).  This implies that\n",
            "    normal is more likely to return samples lying close to the mean, rather\n",
            "    than those far away.\n",
            "    \n",
            "    References\n",
            "    ----------\n",
            "    .. [1] Wikipedia, \"Normal distribution\",\n",
            "           https://en.wikipedia.org/wiki/Normal_distribution\n",
            "    .. [2] P. R. Peebles Jr., \"Central Limit Theorem\" in \"Probability,\n",
            "           Random Variables and Random Signal Principles\", 4th ed., 2001,\n",
            "           pp. 51, 51, 125.\n",
            "    \n",
            "    Examples\n",
            "    --------\n",
            "    Draw samples from the distribution:\n",
            "    \n",
            "    >>> mu, sigma = 0, 0.1 # mean and standard deviation\n",
            "    >>> s = np.random.normal(mu, sigma, 1000)\n",
            "    \n",
            "    Verify the mean and the variance:\n",
            "    \n",
            "    >>> abs(mu - np.mean(s))\n",
            "    0.0  # may vary\n",
            "    \n",
            "    >>> abs(sigma - np.std(s, ddof=1))\n",
            "    0.1  # may vary\n",
            "    \n",
            "    Display the histogram of the samples, along with\n",
            "    the probability density function:\n",
            "    \n",
            "    >>> import matplotlib.pyplot as plt\n",
            "    >>> count, bins, ignored = plt.hist(s, 30, density=True)\n",
            "    >>> plt.plot(bins, 1/(sigma * np.sqrt(2 * np.pi)) *\n",
            "    ...                np.exp( - (bins - mu)**2 / (2 * sigma**2) ),\n",
            "    ...          linewidth=2, color='r')\n",
            "    >>> plt.show()\n",
            "    \n",
            "    Two-by-four array of samples from N(3, 6.25):\n",
            "    \n",
            "    >>> np.random.normal(3, 2.5, size=(2, 4))\n",
            "    array([[-4.49401501,  4.00950034, -1.81814867,  7.29718677],   # random\n",
            "           [ 0.39924804,  4.68456316,  4.99394529,  4.84057254]])  # random\n",
            "\n"
          ],
          "name": "stdout"
        }
      ]
    },
    {
      "cell_type": "markdown",
      "metadata": {
        "id": "1Q_konJVaBsV"
      },
      "source": [
        "___\n",
        "# **Criar arrays 1D**"
      ]
    },
    {
      "cell_type": "code",
      "metadata": {
        "id": "DddZT5kadYJ7"
      },
      "source": [
        "import numpy as np\n",
        "np.set_printoptions(precision = 2, suppress = True)\n",
        "np.random.seed(seed = 20111974)"
      ],
      "execution_count": 28,
      "outputs": []
    },
    {
      "cell_type": "markdown",
      "metadata": {
        "id": "jaqd-VnF3yIt"
      },
      "source": [
        "Criar o array 1D a_conjunto1, com os seguintes números:"
      ]
    },
    {
      "cell_type": "code",
      "metadata": {
        "id": "E3niz_zHaF3e",
        "outputId": "75a9c3a7-2fd8-4b30-bde7-0978cebc5f69",
        "colab": {
          "base_uri": "https://localhost:8080/",
          "height": 34
        }
      },
      "source": [
        "a_conjunto1 = np.array([0, 1, 2, 3, 4, 5, 6, 7, 8, 9])\n",
        "a_conjunto1"
      ],
      "execution_count": 29,
      "outputs": [
        {
          "output_type": "execute_result",
          "data": {
            "text/plain": [
              "array([0, 1, 2, 3, 4, 5, 6, 7, 8, 9])"
            ]
          },
          "metadata": {
            "tags": []
          },
          "execution_count": 29
        }
      ]
    },
    {
      "cell_type": "markdown",
      "metadata": {
        "id": "DyfXbW_ZKJBS"
      },
      "source": [
        "Qual a dimensão de a_conjunto1?"
      ]
    },
    {
      "cell_type": "code",
      "metadata": {
        "id": "gbHlydALKB3R",
        "outputId": "c15659d6-930f-4369-a015-a4830b141152",
        "colab": {
          "base_uri": "https://localhost:8080/",
          "height": 34
        }
      },
      "source": [
        "# Dimensão do array\n",
        "a_conjunto1.ndim"
      ],
      "execution_count": 30,
      "outputs": [
        {
          "output_type": "execute_result",
          "data": {
            "text/plain": [
              "1"
            ]
          },
          "metadata": {
            "tags": []
          },
          "execution_count": 30
        }
      ]
    },
    {
      "cell_type": "markdown",
      "metadata": {
        "id": "am9otElpKNPa"
      },
      "source": [
        "Qual o shape (dimensão) do array a_conjunto1?"
      ]
    },
    {
      "cell_type": "code",
      "metadata": {
        "id": "juJJ74d2wale",
        "outputId": "116b39b3-f216-4863-93c5-3b14875116ae",
        "colab": {
          "base_uri": "https://localhost:8080/",
          "height": 34
        }
      },
      "source": [
        "# Números de itens no array\n",
        "a_conjunto1.shape"
      ],
      "execution_count": 31,
      "outputs": [
        {
          "output_type": "execute_result",
          "data": {
            "text/plain": [
              "(10,)"
            ]
          },
          "metadata": {
            "tags": []
          },
          "execution_count": 31
        }
      ]
    },
    {
      "cell_type": "markdown",
      "metadata": {
        "id": "BHg4Rre3GwPy"
      },
      "source": [
        "O array a_conjunto1 poderia ter sido criado usando a função np.arange(inicio, fim, step):"
      ]
    },
    {
      "cell_type": "code",
      "metadata": {
        "id": "I3fyusN7G5Zn"
      },
      "source": [
        "# Lembre-se que o número 10 é exclusive.\n",
        "a_conjunto2 = np.arange(start = 0, stop = 10, step = 1)"
      ],
      "execution_count": 32,
      "outputs": []
    },
    {
      "cell_type": "markdown",
      "metadata": {
        "id": "IHCEpmUxXsaK"
      },
      "source": [
        "Outra alternativa seria usar np.linspace(start = 0, stop = 10, num = 9). Acompanhe a seguir:"
      ]
    },
    {
      "cell_type": "code",
      "metadata": {
        "id": "JB9Y_x3RX1GX"
      },
      "source": [
        "# Com np.linspace, o valor 9 é inclusive.\n",
        "a_conjunto3 = np.linspace(0, 9, 10)"
      ],
      "execution_count": 33,
      "outputs": []
    },
    {
      "cell_type": "markdown",
      "metadata": {
        "id": "P6MR8MPeYOZm"
      },
      "source": [
        "Compare os resultados de a_conjunto1, a_conjunto2 e a_conjunto3 a seguir:"
      ]
    },
    {
      "cell_type": "code",
      "metadata": {
        "id": "tWEzge6HYSFu",
        "outputId": "33db7b05-003a-457c-f58e-dbd7458e2921",
        "colab": {
          "base_uri": "https://localhost:8080/",
          "height": 34
        }
      },
      "source": [
        "a_conjunto1"
      ],
      "execution_count": 34,
      "outputs": [
        {
          "output_type": "execute_result",
          "data": {
            "text/plain": [
              "array([0, 1, 2, 3, 4, 5, 6, 7, 8, 9])"
            ]
          },
          "metadata": {
            "tags": []
          },
          "execution_count": 34
        }
      ]
    },
    {
      "cell_type": "code",
      "metadata": {
        "id": "lUNlFVKYYT9f",
        "outputId": "f41f95ef-c618-4b58-f910-365d543978d8",
        "colab": {
          "base_uri": "https://localhost:8080/",
          "height": 34
        }
      },
      "source": [
        "a_conjunto2"
      ],
      "execution_count": 35,
      "outputs": [
        {
          "output_type": "execute_result",
          "data": {
            "text/plain": [
              "array([0, 1, 2, 3, 4, 5, 6, 7, 8, 9])"
            ]
          },
          "metadata": {
            "tags": []
          },
          "execution_count": 35
        }
      ]
    },
    {
      "cell_type": "code",
      "metadata": {
        "id": "Xo8Lid5fYVPW",
        "outputId": "2d2c9a69-d58c-4878-c36c-d778b6077657",
        "colab": {
          "base_uri": "https://localhost:8080/",
          "height": 34
        }
      },
      "source": [
        "a_conjunto3"
      ],
      "execution_count": 36,
      "outputs": [
        {
          "output_type": "execute_result",
          "data": {
            "text/plain": [
              "array([0., 1., 2., 3., 4., 5., 6., 7., 8., 9.])"
            ]
          },
          "metadata": {
            "tags": []
          },
          "execution_count": 36
        }
      ]
    },
    {
      "cell_type": "markdown",
      "metadata": {
        "id": "V9aW7C4vHAcF"
      },
      "source": [
        "Ou seja, a_conjunto1 é igual a a_conjunto2 que também é igual a a_conjunto3. Ok?\n",
        "\n",
        "**ATENÇÃO**: Observe que a sintaxe para criar a_conjunto3 é ligeiramente diferente da sintaxe usada para criar a_conjunto1 e a_conjunto2. Abaixo, a sintaxe do comando np.linspace:\n",
        "\n",
        "![](https://github.com/MathMachado/Materials/blob/master/linspace_sintaxe.PNG?raw=true)\n",
        "\n",
        "Source: [HOW TO USE THE NUMPY LINSPACE FUNCTION](https://www.sharpsightlabs.com/blog/numpy-linspace/)"
      ]
    },
    {
      "cell_type": "markdown",
      "metadata": {
        "id": "KNnwZa3uvYqE"
      },
      "source": [
        "Soma 2 à cada item de a_conjunto1:"
      ]
    },
    {
      "cell_type": "code",
      "metadata": {
        "id": "Jt2KVyviw0bp",
        "outputId": "23ebdf9d-aa2d-4e6a-fd90-77624f196a41",
        "colab": {
          "base_uri": "https://localhost:8080/",
          "height": 34
        }
      },
      "source": [
        "a_conjunto1"
      ],
      "execution_count": 37,
      "outputs": [
        {
          "output_type": "execute_result",
          "data": {
            "text/plain": [
              "array([0, 1, 2, 3, 4, 5, 6, 7, 8, 9])"
            ]
          },
          "metadata": {
            "tags": []
          },
          "execution_count": 37
        }
      ]
    },
    {
      "cell_type": "code",
      "metadata": {
        "id": "arROkhWXbdTW",
        "outputId": "b104cb80-440f-4af8-8632-624a8213984c",
        "colab": {
          "base_uri": "https://localhost:8080/",
          "height": 34
        }
      },
      "source": [
        "a_conjunto2 = a_conjunto1 + 2\n",
        "a_conjunto2"
      ],
      "execution_count": 38,
      "outputs": [
        {
          "output_type": "execute_result",
          "data": {
            "text/plain": [
              "array([ 2,  3,  4,  5,  6,  7,  8,  9, 10, 11])"
            ]
          },
          "metadata": {
            "tags": []
          },
          "execution_count": 38
        }
      ]
    },
    {
      "cell_type": "markdown",
      "metadata": {
        "id": "ZJx2vG86vdVi"
      },
      "source": [
        "Multiplicar por 10 cada item de a_conjunto1:"
      ]
    },
    {
      "cell_type": "code",
      "metadata": {
        "id": "Vm7abO6Ebkun",
        "outputId": "32f8afea-e559-4d67-e4f2-53c17b28185a",
        "colab": {
          "base_uri": "https://localhost:8080/",
          "height": 34
        }
      },
      "source": [
        "a_conjunto1 = a_conjunto1*10\n",
        "a_conjunto1"
      ],
      "execution_count": 39,
      "outputs": [
        {
          "output_type": "execute_result",
          "data": {
            "text/plain": [
              "array([ 0, 10, 20, 30, 40, 50, 60, 70, 80, 90])"
            ]
          },
          "metadata": {
            "tags": []
          },
          "execution_count": 39
        }
      ]
    },
    {
      "cell_type": "markdown",
      "metadata": {
        "id": "0Ev1xnBwaYJG"
      },
      "source": [
        "___\n",
        "# **Criar Arrays Multidimensionais**\n",
        "> Ao criarmos, por exemplo, um array 2D, então a chamamos de matriz."
      ]
    },
    {
      "cell_type": "markdown",
      "metadata": {
        "id": "gHaeAug5vjjd"
      },
      "source": [
        "Criar o array com 2 linhas e 3 colunas usando números aleatórios:"
      ]
    },
    {
      "cell_type": "code",
      "metadata": {
        "id": "PJaLyBO5TkgM"
      },
      "source": [
        ""
      ],
      "execution_count": null,
      "outputs": []
    },
    {
      "cell_type": "code",
      "metadata": {
        "id": "VDi0vIPSYR4F",
        "outputId": "ef57de03-9fdf-420a-c3c5-cdd981c03be6",
        "colab": {
          "base_uri": "https://localhost:8080/",
          "height": 51
        }
      },
      "source": [
        "np.random.seed(20111974)\n",
        "a_conjunto1 = np.random.randn(2, 3)\n",
        "a_conjunto1"
      ],
      "execution_count": 40,
      "outputs": [
        {
          "output_type": "execute_result",
          "data": {
            "text/plain": [
              "array([[2.51, 1.11, 2.06],\n",
              "       [0.56, 0.3 , 1.05]])"
            ]
          },
          "metadata": {
            "tags": []
          },
          "execution_count": 40
        }
      ]
    },
    {
      "cell_type": "markdown",
      "metadata": {
        "id": "DIdd-nA3tJjV"
      },
      "source": [
        "## Dimensão de um array\n",
        "> Dimensão é o número de linhas e colunas da matriz."
      ]
    },
    {
      "cell_type": "code",
      "metadata": {
        "id": "pKvjjnkrK-v7",
        "outputId": "ccab898f-5653-46b7-e1e1-ae78032592bf",
        "colab": {
          "base_uri": "https://localhost:8080/",
          "height": 34
        }
      },
      "source": [
        "a_conjunto1.shape"
      ],
      "execution_count": 41,
      "outputs": [
        {
          "output_type": "execute_result",
          "data": {
            "text/plain": [
              "(2, 3)"
            ]
          },
          "metadata": {
            "tags": []
          },
          "execution_count": 41
        }
      ]
    },
    {
      "cell_type": "markdown",
      "metadata": {
        "id": "-DHS5jXELCfa"
      },
      "source": [
        "a_conjunto1 é um array 2D (ou matriz), ou seja, 2 linhas, onde cada linha tem 3 elementos."
      ]
    },
    {
      "cell_type": "markdown",
      "metadata": {
        "id": "HJI6X1wvv4Bg"
      },
      "source": [
        "Criar um array com 3 linhas e 3 colunas:"
      ]
    },
    {
      "cell_type": "code",
      "metadata": {
        "id": "hXPbWh3Tv26T",
        "outputId": "65a25251-38bc-44b0-9cd0-53b2a35dbb92",
        "colab": {
          "base_uri": "https://localhost:8080/",
          "height": 68
        }
      },
      "source": [
        "a_conjunto2 = np.array([[1, 2, 3],[4, 5, 6],[7, 8, 9]])\n",
        "a_conjunto2"
      ],
      "execution_count": 42,
      "outputs": [
        {
          "output_type": "execute_result",
          "data": {
            "text/plain": [
              "array([[1, 2, 3],\n",
              "       [4, 5, 6],\n",
              "       [7, 8, 9]])"
            ]
          },
          "metadata": {
            "tags": []
          },
          "execution_count": 42
        }
      ]
    },
    {
      "cell_type": "code",
      "metadata": {
        "id": "we6ZJOICc7bQ",
        "outputId": "05b14f8d-89b2-4eea-9e9c-c003cbdcaf7b",
        "colab": {
          "base_uri": "https://localhost:8080/",
          "height": 34
        }
      },
      "source": [
        "# Número de linhas e colunas de a_conjunto1:\n",
        "a_conjunto1.shape"
      ],
      "execution_count": 43,
      "outputs": [
        {
          "output_type": "execute_result",
          "data": {
            "text/plain": [
              "(2, 3)"
            ]
          },
          "metadata": {
            "tags": []
          },
          "execution_count": 43
        }
      ]
    },
    {
      "cell_type": "code",
      "metadata": {
        "id": "f0ocwuI1dED6",
        "outputId": "e438e744-a40f-4b60-8af1-062e763170ba",
        "colab": {
          "base_uri": "https://localhost:8080/",
          "height": 34
        }
      },
      "source": [
        "# Número de linhas e colunas de a_conjunto2\n",
        "a_conjunto2.shape"
      ],
      "execution_count": 44,
      "outputs": [
        {
          "output_type": "execute_result",
          "data": {
            "text/plain": [
              "(3, 3)"
            ]
          },
          "metadata": {
            "tags": []
          },
          "execution_count": 44
        }
      ]
    },
    {
      "cell_type": "code",
      "metadata": {
        "id": "CApPtnW0YuRP",
        "outputId": "ac8254a1-4de1-4541-ac74-90525d79463e",
        "colab": {
          "base_uri": "https://localhost:8080/",
          "height": 68
        }
      },
      "source": [
        "# Somar 2 à cada elemento de a_conjunto2\n",
        "a_conjunto2 = a_conjunto2+2\n",
        "a_conjunto2"
      ],
      "execution_count": 45,
      "outputs": [
        {
          "output_type": "execute_result",
          "data": {
            "text/plain": [
              "array([[ 3,  4,  5],\n",
              "       [ 6,  7,  8],\n",
              "       [ 9, 10, 11]])"
            ]
          },
          "metadata": {
            "tags": []
          },
          "execution_count": 45
        }
      ]
    },
    {
      "cell_type": "code",
      "metadata": {
        "id": "M87aGmxRY3RW",
        "outputId": "be71ec2c-fd81-424c-c842-1ab347cbec8f",
        "colab": {
          "base_uri": "https://localhost:8080/",
          "height": 68
        }
      },
      "source": [
        "# Multiplicar por 10 cada elemento de a_conjunto2\n",
        "a_conjunto2 = a_conjunto2*10\n",
        "a_conjunto2"
      ],
      "execution_count": 46,
      "outputs": [
        {
          "output_type": "execute_result",
          "data": {
            "text/plain": [
              "array([[ 30,  40,  50],\n",
              "       [ 60,  70,  80],\n",
              "       [ 90, 100, 110]])"
            ]
          },
          "metadata": {
            "tags": []
          },
          "execution_count": 46
        }
      ]
    },
    {
      "cell_type": "markdown",
      "metadata": {
        "id": "qZt93y1IL_v7"
      },
      "source": [
        "___\n",
        "# **Copiar arrays**\n",
        "> Considere o array abaixo:"
      ]
    },
    {
      "cell_type": "code",
      "metadata": {
        "id": "sH2FTXj5MRRC",
        "outputId": "9507249f-6a01-4244-898e-836b4a72f72f",
        "colab": {
          "base_uri": "https://localhost:8080/",
          "height": 51
        }
      },
      "source": [
        "np.random.seed(20111974)\n",
        "a_conjunto1 = np.random.randn(2, 3)\n",
        "a_conjunto1"
      ],
      "execution_count": 47,
      "outputs": [
        {
          "output_type": "execute_result",
          "data": {
            "text/plain": [
              "array([[2.51, 1.11, 2.06],\n",
              "       [0.56, 0.3 , 1.05]])"
            ]
          },
          "metadata": {
            "tags": []
          },
          "execution_count": 47
        }
      ]
    },
    {
      "cell_type": "markdown",
      "metadata": {
        "id": "VtgKeMt6MYrr"
      },
      "source": [
        "Fazendo a cópia de a_conjunto1..."
      ]
    },
    {
      "cell_type": "code",
      "metadata": {
        "id": "K0hOHR3IMa-o",
        "outputId": "998e10d1-d94b-4772-8937-05a7ed96142a",
        "colab": {
          "base_uri": "https://localhost:8080/",
          "height": 51
        }
      },
      "source": [
        "a_salarios_copia = a_conjunto1.copy()\n",
        "a_salarios_copia"
      ],
      "execution_count": 48,
      "outputs": [
        {
          "output_type": "execute_result",
          "data": {
            "text/plain": [
              "array([[2.51, 1.11, 2.06],\n",
              "       [0.56, 0.3 , 1.05]])"
            ]
          },
          "metadata": {
            "tags": []
          },
          "execution_count": 48
        }
      ]
    },
    {
      "cell_type": "markdown",
      "metadata": {
        "id": "lFpmcR0HkCar"
      },
      "source": [
        "___\n",
        "# **Operações com arrays**\n",
        "> Considere um array com temperaturas em Farenheit dado por:"
      ]
    },
    {
      "cell_type": "code",
      "metadata": {
        "id": "N1ewYIYrUFFz",
        "outputId": "a183084c-7fdc-4f7b-e1bd-85e52077b8c2",
        "colab": {
          "base_uri": "https://localhost:8080/",
          "height": 34
        }
      },
      "source": [
        "np.random.seed(20111974)\n",
        "np.random.randint(0, 100, 10)"
      ],
      "execution_count": 56,
      "outputs": [
        {
          "output_type": "execute_result",
          "data": {
            "text/plain": [
              "array([60, 42, 40,  8, 27,  2, 46, 88, 81, 88])"
            ]
          },
          "metadata": {
            "tags": []
          },
          "execution_count": 56
        }
      ]
    },
    {
      "cell_type": "code",
      "metadata": {
        "id": "gEF497YLUOd7",
        "outputId": "59ba5395-d847-4555-fbb5-c0cb2120e120",
        "colab": {
          "base_uri": "https://localhost:8080/",
          "height": 34
        }
      },
      "source": [
        "np.random.seed(20111974)\n",
        "a_temperatura_farenheit = np.random.randint(0, 100, 10)\n",
        "a_temperatura_farenheit                                        "
      ],
      "execution_count": 57,
      "outputs": [
        {
          "output_type": "execute_result",
          "data": {
            "text/plain": [
              "array([60, 42, 40,  8, 27,  2, 46, 88, 81, 88])"
            ]
          },
          "metadata": {
            "tags": []
          },
          "execution_count": 57
        }
      ]
    },
    {
      "cell_type": "code",
      "metadata": {
        "id": "VnagcUqVkLhW",
        "outputId": "76d71142-f0cf-4fc4-ffd3-1c7790d2adcd",
        "colab": {
          "base_uri": "https://localhost:8080/",
          "height": 34
        }
      },
      "source": [
        "# Define a seed\n",
        "np.random.seed(20111974)\n",
        "\n",
        "a_temperatura_farenheit = np.array(np.random.randint(0, 100, 10))\n",
        "a_temperatura_farenheit                                        "
      ],
      "execution_count": 55,
      "outputs": [
        {
          "output_type": "execute_result",
          "data": {
            "text/plain": [
              "array([60, 42, 40,  8, 27,  2, 46, 88, 81, 88])"
            ]
          },
          "metadata": {
            "tags": []
          },
          "execution_count": 55
        }
      ]
    },
    {
      "cell_type": "code",
      "metadata": {
        "id": "VrjNKfXxk1yv",
        "outputId": "2874cced-5cbf-4f04-87d5-c60f598dbfbe",
        "colab": {
          "base_uri": "https://localhost:8080/",
          "height": 34
        }
      },
      "source": [
        "type(a_temperatura_farenheit)"
      ],
      "execution_count": 58,
      "outputs": [
        {
          "output_type": "execute_result",
          "data": {
            "text/plain": [
              "numpy.ndarray"
            ]
          },
          "metadata": {
            "tags": []
          },
          "execution_count": 58
        }
      ]
    },
    {
      "cell_type": "markdown",
      "metadata": {
        "id": "o1STejhrk0kZ"
      },
      "source": [
        "Transformando a temperatura Fahrenheit em Celsius..."
      ]
    },
    {
      "cell_type": "code",
      "metadata": {
        "id": "E_jXflR_lNy3",
        "outputId": "616374ed-3843-49c9-c490-1a3d31dfb179",
        "colab": {
          "base_uri": "https://localhost:8080/",
          "height": 51
        }
      },
      "source": [
        "a_temperatura_celsius = 5*a_temperatura_farenheit/9 - 5*32/9\n",
        "a_temperatura_celsius"
      ],
      "execution_count": 59,
      "outputs": [
        {
          "output_type": "execute_result",
          "data": {
            "text/plain": [
              "array([ 15.56,   5.56,   4.44, -13.33,  -2.78, -16.67,   7.78,  31.11,\n",
              "        27.22,  31.11])"
            ]
          },
          "metadata": {
            "tags": []
          },
          "execution_count": 59
        }
      ]
    },
    {
      "cell_type": "code",
      "metadata": {
        "id": "U4pCv0pNqPZI",
        "outputId": "07201a68-67f6-42ad-9023-75dcb0d00702",
        "colab": {
          "base_uri": "https://localhost:8080/",
          "height": 51
        }
      },
      "source": [
        "# O mesmo resultado, porém, escrito de forma diferente:\n",
        "a_temperatura_celsius = (5/9)*a_temperatura_farenheit - (160/9)\n",
        "a_temperatura_celsius"
      ],
      "execution_count": 60,
      "outputs": [
        {
          "output_type": "execute_result",
          "data": {
            "text/plain": [
              "array([ 15.56,   5.56,   4.44, -13.33,  -2.78, -16.67,   7.78,  31.11,\n",
              "        27.22,  31.11])"
            ]
          },
          "metadata": {
            "tags": []
          },
          "execution_count": 60
        }
      ]
    },
    {
      "cell_type": "markdown",
      "metadata": {
        "id": "1UT4YD2FawUA"
      },
      "source": [
        "___\n",
        "# **Selecionar itens**"
      ]
    },
    {
      "cell_type": "code",
      "metadata": {
        "id": "pqOv8P1za1m8",
        "outputId": "977f643f-370b-4e53-d0fc-a8d7a9ac5ecc",
        "colab": {
          "base_uri": "https://localhost:8080/",
          "height": 34
        }
      },
      "source": [
        "# Selecionar o segundo item de a_conjunto1 (lembre-se que no Python arrays começam com indice = 0)\n",
        "a_conjunto1[1]"
      ],
      "execution_count": 61,
      "outputs": [
        {
          "output_type": "execute_result",
          "data": {
            "text/plain": [
              "array([0.56, 0.3 , 1.05])"
            ]
          },
          "metadata": {
            "tags": []
          },
          "execution_count": 61
        }
      ]
    },
    {
      "cell_type": "markdown",
      "metadata": {
        "id": "TIwVKk6AyRv6"
      },
      "source": [
        "Dado a_conjunto2 abaixo:"
      ]
    },
    {
      "cell_type": "code",
      "metadata": {
        "id": "zoDmbXo6bCeu",
        "outputId": "2e1e5ac4-cd9e-4561-9d34-40f24ee665cf",
        "colab": {
          "base_uri": "https://localhost:8080/",
          "height": 68
        }
      },
      "source": [
        "a_conjunto2"
      ],
      "execution_count": 62,
      "outputs": [
        {
          "output_type": "execute_result",
          "data": {
            "text/plain": [
              "array([[ 30,  40,  50],\n",
              "       [ 60,  70,  80],\n",
              "       [ 90, 100, 110]])"
            ]
          },
          "metadata": {
            "tags": []
          },
          "execution_count": 62
        }
      ]
    },
    {
      "cell_type": "markdown",
      "metadata": {
        "id": "iJXSPp-0yb4w"
      },
      "source": [
        "... selecionar o item da linha 2, coluna 3 do array a_conjunto2:"
      ]
    },
    {
      "cell_type": "code",
      "metadata": {
        "id": "sJiVfnlzcjRv",
        "outputId": "f8265b6e-f9b7-489c-9c61-c61689ef76bc",
        "colab": {
          "base_uri": "https://localhost:8080/",
          "height": 34
        }
      },
      "source": [
        "a_conjunto2[1, 2]"
      ],
      "execution_count": 63,
      "outputs": [
        {
          "output_type": "execute_result",
          "data": {
            "text/plain": [
              "80"
            ]
          },
          "metadata": {
            "tags": []
          },
          "execution_count": 63
        }
      ]
    },
    {
      "cell_type": "code",
      "metadata": {
        "id": "Xl5HwJIMcv2e",
        "outputId": "7c7d7bec-c8ca-4941-8b2b-fba1c448ad52",
        "colab": {
          "base_uri": "https://localhost:8080/",
          "height": 34
        }
      },
      "source": [
        "# Selecionar o último elemento de a_conjunto1 --> Lembre-se que a_conjunto1 é um array. Desta forma, teremos o último elemento do array!\n",
        "a_conjunto1[-1]"
      ],
      "execution_count": 64,
      "outputs": [
        {
          "output_type": "execute_result",
          "data": {
            "text/plain": [
              "array([0.56, 0.3 , 1.05])"
            ]
          },
          "metadata": {
            "tags": []
          },
          "execution_count": 64
        }
      ]
    },
    {
      "cell_type": "markdown",
      "metadata": {
        "id": "ezTH0HsyrnAl"
      },
      "source": [
        "Veja..."
      ]
    },
    {
      "cell_type": "code",
      "metadata": {
        "id": "OBv9EM54rYX3",
        "outputId": "03083e15-bce9-4df3-aea8-3b22183d3fcd",
        "colab": {
          "base_uri": "https://localhost:8080/",
          "height": 51
        }
      },
      "source": [
        "a_conjunto1"
      ],
      "execution_count": 65,
      "outputs": [
        {
          "output_type": "execute_result",
          "data": {
            "text/plain": [
              "array([[2.51, 1.11, 2.06],\n",
              "       [0.56, 0.3 , 1.05]])"
            ]
          },
          "metadata": {
            "tags": []
          },
          "execution_count": 65
        }
      ]
    },
    {
      "cell_type": "code",
      "metadata": {
        "id": "Po3WLFC-rod8",
        "outputId": "35018018-52be-4e0f-f0df-3c2b7dd59757",
        "colab": {
          "base_uri": "https://localhost:8080/",
          "height": 34
        }
      },
      "source": [
        "a_temperatura_celsius[-1]"
      ],
      "execution_count": 66,
      "outputs": [
        {
          "output_type": "execute_result",
          "data": {
            "text/plain": [
              "31.111111111111114"
            ]
          },
          "metadata": {
            "tags": []
          },
          "execution_count": 66
        }
      ]
    },
    {
      "cell_type": "markdown",
      "metadata": {
        "id": "4qJJ2HCedW4h"
      },
      "source": [
        "___\n",
        "# **Aplicar funções como max(), min() e etc**"
      ]
    },
    {
      "cell_type": "code",
      "metadata": {
        "id": "_meTJdUsda4e",
        "outputId": "38b377c5-d7e6-4121-80f5-cd8e5e6e5d42",
        "colab": {
          "base_uri": "https://localhost:8080/",
          "height": 35
        }
      },
      "source": [
        "f'O máximo de a_conjunto1 é: {np.max(a_conjunto1)}'"
      ],
      "execution_count": 67,
      "outputs": [
        {
          "output_type": "execute_result",
          "data": {
            "application/vnd.google.colaboratory.intrinsic+json": {
              "type": "string"
            },
            "text/plain": [
              "'O máximo de a_conjunto1 é: 2.506276801325959'"
            ]
          },
          "metadata": {
            "tags": []
          },
          "execution_count": 67
        }
      ]
    },
    {
      "cell_type": "code",
      "metadata": {
        "id": "m-wiBkAidnhN",
        "outputId": "c57d17c1-8501-4cc7-b1f2-4eb5305747f4",
        "colab": {
          "base_uri": "https://localhost:8080/",
          "height": 35
        }
      },
      "source": [
        "f'O mínimo de a_conjunto1 é: {np.min(a_conjunto1)}'"
      ],
      "execution_count": 68,
      "outputs": [
        {
          "output_type": "execute_result",
          "data": {
            "application/vnd.google.colaboratory.intrinsic+json": {
              "type": "string"
            },
            "text/plain": [
              "'O mínimo de a_conjunto1 é: 0.29897275739745677'"
            ]
          },
          "metadata": {
            "tags": []
          },
          "execution_count": 68
        }
      ]
    },
    {
      "cell_type": "code",
      "metadata": {
        "id": "lmupnRHQdtwh",
        "outputId": "1fb75802-b7fb-46d7-efef-d2c27492408b",
        "colab": {
          "base_uri": "https://localhost:8080/",
          "height": 35
        }
      },
      "source": [
        "f'O máximo de a_conjunto2 é: {np.max(a_conjunto2)}'"
      ],
      "execution_count": 69,
      "outputs": [
        {
          "output_type": "execute_result",
          "data": {
            "application/vnd.google.colaboratory.intrinsic+json": {
              "type": "string"
            },
            "text/plain": [
              "'O máximo de a_conjunto2 é: 110'"
            ]
          },
          "metadata": {
            "tags": []
          },
          "execution_count": 69
        }
      ]
    },
    {
      "cell_type": "code",
      "metadata": {
        "id": "H2z7oB6Bd786",
        "outputId": "73dc5fb9-0d53-4e97-cd40-16d1e38d7b03",
        "colab": {
          "base_uri": "https://localhost:8080/",
          "height": 35
        }
      },
      "source": [
        "f'O máximo de cada LINHA de a_conjunto2 é: {np.max(a_conjunto2, axis = 1)}' # Aqui, axis = 1 é que diz ao numpy que estamos interessados nas linhas"
      ],
      "execution_count": 70,
      "outputs": [
        {
          "output_type": "execute_result",
          "data": {
            "application/vnd.google.colaboratory.intrinsic+json": {
              "type": "string"
            },
            "text/plain": [
              "'O máximo de cada LINHA de a_conjunto2 é: [ 50  80 110]'"
            ]
          },
          "metadata": {
            "tags": []
          },
          "execution_count": 70
        }
      ]
    },
    {
      "cell_type": "code",
      "metadata": {
        "id": "gj2ZBDsWeMyk",
        "outputId": "c879bbd9-d17f-4dd1-a9db-dc08b93f6735",
        "colab": {
          "base_uri": "https://localhost:8080/",
          "height": 35
        }
      },
      "source": [
        "f'O máximo de cada COLUNA de a_conjunto2 é: {np.max(a_conjunto2, axis = 0)}' # axis = 0, diz ao numpy que estamos interessados nas colunas."
      ],
      "execution_count": 71,
      "outputs": [
        {
          "output_type": "execute_result",
          "data": {
            "application/vnd.google.colaboratory.intrinsic+json": {
              "type": "string"
            },
            "text/plain": [
              "'O máximo de cada COLUNA de a_conjunto2 é: [ 90 100 110]'"
            ]
          },
          "metadata": {
            "tags": []
          },
          "execution_count": 71
        }
      ]
    },
    {
      "cell_type": "markdown",
      "metadata": {
        "id": "7_tEfm2IecIU"
      },
      "source": [
        "___\n",
        "# **Calcular Estatísticas Descritivas: média e variância**"
      ]
    },
    {
      "cell_type": "code",
      "metadata": {
        "id": "lIY5jx3ueh7q",
        "outputId": "cf275100-6c2d-4278-bc0b-aeea828a9197",
        "colab": {
          "base_uri": "https://localhost:8080/",
          "height": 35
        }
      },
      "source": [
        "f'A média de a_conjunto1 é: {np.mean(a_conjunto1)}'"
      ],
      "execution_count": 72,
      "outputs": [
        {
          "output_type": "execute_result",
          "data": {
            "application/vnd.google.colaboratory.intrinsic+json": {
              "type": "string"
            },
            "text/plain": [
              "'A média de a_conjunto1 é: 1.2649068535973844'"
            ]
          },
          "metadata": {
            "tags": []
          },
          "execution_count": 72
        }
      ]
    },
    {
      "cell_type": "code",
      "metadata": {
        "id": "VmqSELRReuAW",
        "outputId": "d4d64bc2-3d95-4101-e8aa-bcb99feaaaf9",
        "colab": {
          "base_uri": "https://localhost:8080/",
          "height": 35
        }
      },
      "source": [
        "f'A média de a_conjunto2 é: {np.mean(a_conjunto2)}'"
      ],
      "execution_count": 73,
      "outputs": [
        {
          "output_type": "execute_result",
          "data": {
            "application/vnd.google.colaboratory.intrinsic+json": {
              "type": "string"
            },
            "text/plain": [
              "'A média de a_conjunto2 é: 70.0'"
            ]
          },
          "metadata": {
            "tags": []
          },
          "execution_count": 73
        }
      ]
    },
    {
      "cell_type": "code",
      "metadata": {
        "id": "Gxap-Wg5e2_H",
        "outputId": "513165e1-1e98-43f5-9278-112ce6973892",
        "colab": {
          "base_uri": "https://localhost:8080/",
          "height": 35
        }
      },
      "source": [
        "f'O Desvio Padrão de a_conjunto2 é: {np.std(a_conjunto2)}'"
      ],
      "execution_count": 74,
      "outputs": [
        {
          "output_type": "execute_result",
          "data": {
            "application/vnd.google.colaboratory.intrinsic+json": {
              "type": "string"
            },
            "text/plain": [
              "'O Desvio Padrão de a_conjunto2 é: 25.81988897471611'"
            ]
          },
          "metadata": {
            "tags": []
          },
          "execution_count": 74
        }
      ]
    },
    {
      "cell_type": "markdown",
      "metadata": {
        "id": "R0GcljGtfBvP"
      },
      "source": [
        "___\n",
        "# **Reshaping**\n",
        "> Muito útil em Machine Learning."
      ]
    },
    {
      "cell_type": "markdown",
      "metadata": {
        "id": "vfEmw01j8zux"
      },
      "source": [
        "## Exemplo 1\n",
        "* O array a_conjunto2 tem a seguinte forma:"
      ]
    },
    {
      "cell_type": "code",
      "metadata": {
        "id": "-Lb3VZCCfK_a",
        "outputId": "16aa9de9-0959-4594-e096-472d051dd7ba",
        "colab": {
          "base_uri": "https://localhost:8080/",
          "height": 68
        }
      },
      "source": [
        "a_conjunto2"
      ],
      "execution_count": 78,
      "outputs": [
        {
          "output_type": "execute_result",
          "data": {
            "text/plain": [
              "array([[ 30,  40,  50],\n",
              "       [ 60,  70,  80],\n",
              "       [ 90, 100, 110]])"
            ]
          },
          "metadata": {
            "tags": []
          },
          "execution_count": 78
        }
      ]
    },
    {
      "cell_type": "code",
      "metadata": {
        "id": "YWN_nN-4fD7u",
        "outputId": "a2a67789-17e1-4237-8b04-30f498f47db4",
        "colab": {
          "base_uri": "https://localhost:8080/",
          "height": 170
        }
      },
      "source": [
        "# reshaping para 9 linhas e 1 coluna:\n",
        "a_conjunto2.reshape(9, 1) # a_conjunto2.reshape(9,-1) produz o mesmo resultado."
      ],
      "execution_count": 76,
      "outputs": [
        {
          "output_type": "execute_result",
          "data": {
            "text/plain": [
              "array([[ 30],\n",
              "       [ 40],\n",
              "       [ 50],\n",
              "       [ 60],\n",
              "       [ 70],\n",
              "       [ 80],\n",
              "       [ 90],\n",
              "       [100],\n",
              "       [110]])"
            ]
          },
          "metadata": {
            "tags": []
          },
          "execution_count": 76
        }
      ]
    },
    {
      "cell_type": "markdown",
      "metadata": {
        "id": "id9ILRRt7SwY"
      },
      "source": [
        "## Mais um exemplo de Reshape\n",
        "> Dado o array 1D abaixo, reshape para um array 3D com 2 colunas."
      ]
    },
    {
      "cell_type": "code",
      "metadata": {
        "id": "9RA9Ht2b7Swd",
        "outputId": "43c0fa78-3313-4ec9-eb2d-b097d6606b3e",
        "colab": {
          "base_uri": "https://localhost:8080/",
          "height": 34
        }
      },
      "source": [
        "# Define seed\n",
        "np.random.seed(20111974)\n",
        "a_conjunto1 = np.array(np.random.randint(1, 10, size = 15))\n",
        "a_conjunto1"
      ],
      "execution_count": 79,
      "outputs": [
        {
          "output_type": "execute_result",
          "data": {
            "text/plain": [
              "array([9, 9, 3, 9, 2, 9, 1, 5, 3, 1, 9, 4, 8, 2, 4])"
            ]
          },
          "metadata": {
            "tags": []
          },
          "execution_count": 79
        }
      ]
    },
    {
      "cell_type": "markdown",
      "metadata": {
        "id": "8KxR4xZT7cRv"
      },
      "source": [
        "### Solução\n",
        "> Temos 15 elementos em a_conjunto1 para construir (\"reshape\") um array 3D com 2 colunas.\n",
        "\n",
        "A princípio, a solução seria..."
      ]
    },
    {
      "cell_type": "code",
      "metadata": {
        "id": "VMdHl1Il7wLw",
        "outputId": "d51c7263-f523-4af8-9606-ee93cab66f1c",
        "colab": {
          "base_uri": "https://localhost:8080/",
          "height": 163
        }
      },
      "source": [
        "a_conjunto1.reshape(-1, 2) # O valor \"-1\" na posição das linhas pede ao NumPy para calcular o número de linhas automaticamente."
      ],
      "execution_count": null,
      "outputs": [
        {
          "output_type": "error",
          "ename": "ValueError",
          "evalue": "ignored",
          "traceback": [
            "\u001b[0;31m---------------------------------------------------------------------------\u001b[0m",
            "\u001b[0;31mValueError\u001b[0m                                Traceback (most recent call last)",
            "\u001b[0;32m<ipython-input-20-5c1eeb799b8d>\u001b[0m in \u001b[0;36m<module>\u001b[0;34m()\u001b[0m\n\u001b[0;32m----> 1\u001b[0;31m \u001b[0ma_numeros1\u001b[0m\u001b[0;34m.\u001b[0m\u001b[0mreshape\u001b[0m\u001b[0;34m(\u001b[0m\u001b[0;34m-\u001b[0m\u001b[0;36m1\u001b[0m\u001b[0;34m,\u001b[0m \u001b[0;36m2\u001b[0m\u001b[0;34m)\u001b[0m \u001b[0;31m# O valor \"-1\" na posição das linhas pede ao NumPy para calcular o número de linhas automaticamente.\u001b[0m\u001b[0;34m\u001b[0m\u001b[0;34m\u001b[0m\u001b[0m\n\u001b[0m",
            "\u001b[0;31mValueError\u001b[0m: cannot reshape array of size 15 into shape (2)"
          ]
        }
      ]
    },
    {
      "cell_type": "markdown",
      "metadata": {
        "id": "pZS4b4-y708q"
      },
      "source": [
        "Porque temos esse erro?"
      ]
    },
    {
      "cell_type": "markdown",
      "metadata": {
        "id": "4disywvR8HeH"
      },
      "source": [
        "E se fizermos..."
      ]
    },
    {
      "cell_type": "code",
      "metadata": {
        "id": "3oEAAXTp8I7Z",
        "outputId": "e8c8a90f-c34a-4304-d9b4-fd7f04ce224f",
        "colab": {
          "base_uri": "https://localhost:8080/",
          "height": 34
        }
      },
      "source": [
        "# Define seed\n",
        "np.random.seed(20111974)\n",
        "a_conjunto1 = np.array(np.random.randint(1, 10, size = 16)) # Observe que agora temos 16 elementos\n",
        "a_conjunto1"
      ],
      "execution_count": null,
      "outputs": [
        {
          "output_type": "execute_result",
          "data": {
            "text/plain": [
              "array([9, 9, 3, 9, 2, 9, 1, 5, 3, 1, 9, 4, 8, 2, 4, 3])"
            ]
          },
          "metadata": {
            "tags": []
          },
          "execution_count": 21
        }
      ]
    },
    {
      "cell_type": "markdown",
      "metadata": {
        "id": "iUhth0QV8Rpt"
      },
      "source": [
        "Reshapping..."
      ]
    },
    {
      "cell_type": "code",
      "metadata": {
        "id": "9D1y7uD88Qip",
        "outputId": "e7d22bcd-c10f-4ea3-e41b-03f6f98a054f",
        "colab": {
          "base_uri": "https://localhost:8080/",
          "height": 153
        }
      },
      "source": [
        "a_conjunto1.reshape(-1, 2) # O valor \"-1\" na posição das linhas pede ao NumPy para calcular o número de linhas automaticamente."
      ],
      "execution_count": null,
      "outputs": [
        {
          "output_type": "execute_result",
          "data": {
            "text/plain": [
              "array([[9, 9],\n",
              "       [3, 9],\n",
              "       [2, 9],\n",
              "       [1, 5],\n",
              "       [3, 1],\n",
              "       [9, 4],\n",
              "       [8, 2],\n",
              "       [4, 3]])"
            ]
          },
          "metadata": {
            "tags": []
          },
          "execution_count": 22
        }
      ]
    },
    {
      "cell_type": "code",
      "metadata": {
        "id": "ALh-sq7DMnN5",
        "outputId": "db373349-7910-4f1f-93f3-8ac8f67da8b8",
        "colab": {
          "base_uri": "https://localhost:8080/",
          "height": 153
        }
      },
      "source": [
        "# OU --> Neste caso, estamos reshaping o array em 8 linhas e 2 colunas\n",
        "a_conjunto1.reshape(8, -1)"
      ],
      "execution_count": null,
      "outputs": [
        {
          "output_type": "execute_result",
          "data": {
            "text/plain": [
              "array([[9, 9],\n",
              "       [3, 9],\n",
              "       [2, 9],\n",
              "       [1, 5],\n",
              "       [3, 1],\n",
              "       [9, 4],\n",
              "       [8, 2],\n",
              "       [4, 3]])"
            ]
          },
          "metadata": {
            "tags": []
          },
          "execution_count": 26
        }
      ]
    },
    {
      "cell_type": "markdown",
      "metadata": {
        "id": "yvTnrszn8Yk0"
      },
      "source": [
        "Porque agora deu certo?"
      ]
    },
    {
      "cell_type": "markdown",
      "metadata": {
        "id": "LeQ9LqIE8baG"
      },
      "source": [
        "## Último exemplo com reshape\n",
        "> Considere o array a seguir:"
      ]
    },
    {
      "cell_type": "code",
      "metadata": {
        "id": "OQOC9iiN8hZT",
        "outputId": "f2405e24-36b7-48e7-a815-bb6059d5f9d8",
        "colab": {
          "base_uri": "https://localhost:8080/",
          "height": 51
        }
      },
      "source": [
        "np.random.seed(20111974)\n",
        "a_conjunto1 = np.random.randn(2, 3)\n",
        "a_conjunto1"
      ],
      "execution_count": 80,
      "outputs": [
        {
          "output_type": "execute_result",
          "data": {
            "text/plain": [
              "array([[2.51, 1.11, 2.06],\n",
              "       [0.56, 0.3 , 1.05]])"
            ]
          },
          "metadata": {
            "tags": []
          },
          "execution_count": 80
        }
      ]
    },
    {
      "cell_type": "markdown",
      "metadata": {
        "id": "Cvce8qBl9Cvq"
      },
      "source": [
        "Queremos agora transformá-la num array de 3 linhas e 2 colunas."
      ]
    },
    {
      "cell_type": "code",
      "metadata": {
        "id": "QDDsYoVt9Klz",
        "outputId": "eba2e377-bdaa-4586-8512-4e5ad4f52456",
        "colab": {
          "base_uri": "https://localhost:8080/",
          "height": 68
        }
      },
      "source": [
        "a_conjunto1.reshape(-1, 2)"
      ],
      "execution_count": 81,
      "outputs": [
        {
          "output_type": "execute_result",
          "data": {
            "text/plain": [
              "array([[2.51, 1.11],\n",
              "       [2.06, 0.56],\n",
              "       [0.3 , 1.05]])"
            ]
          },
          "metadata": {
            "tags": []
          },
          "execution_count": 81
        }
      ]
    },
    {
      "cell_type": "markdown",
      "metadata": {
        "id": "AdwU5ygt9Svq"
      },
      "source": [
        "Poderia ser..."
      ]
    },
    {
      "cell_type": "code",
      "metadata": {
        "id": "5uBeokKc9Uo-"
      },
      "source": [
        "a_conjunto1.reshape(3, -1)"
      ],
      "execution_count": null,
      "outputs": []
    },
    {
      "cell_type": "markdown",
      "metadata": {
        "id": "OeRBsobc9aKj"
      },
      "source": [
        "E por fim, também poderia ser..."
      ]
    },
    {
      "cell_type": "code",
      "metadata": {
        "id": "MDt8UYYH9dBw"
      },
      "source": [
        "a_conjunto1.reshape(3, 2)"
      ],
      "execution_count": null,
      "outputs": []
    },
    {
      "cell_type": "markdown",
      "metadata": {
        "id": "91o5vycQfdKW"
      },
      "source": [
        "___\n",
        "# **Transposta**\n",
        "* O array a_conjunto2 tem a seguinte forma:"
      ]
    },
    {
      "cell_type": "code",
      "metadata": {
        "id": "RsZwyuhoffjb",
        "outputId": "f0eec83e-02a7-4931-cc33-bd72b8b73dc0",
        "colab": {
          "base_uri": "https://localhost:8080/",
          "height": 68
        }
      },
      "source": [
        "a_conjunto2"
      ],
      "execution_count": 82,
      "outputs": [
        {
          "output_type": "execute_result",
          "data": {
            "text/plain": [
              "array([[ 30,  40,  50],\n",
              "       [ 60,  70,  80],\n",
              "       [ 90, 100, 110]])"
            ]
          },
          "metadata": {
            "tags": []
          },
          "execution_count": 82
        }
      ]
    },
    {
      "cell_type": "code",
      "metadata": {
        "id": "A3MzTVoGfiyO",
        "outputId": "aac33a4c-a98d-4379-fba0-ce27022418c9",
        "colab": {
          "base_uri": "https://localhost:8080/",
          "height": 68
        }
      },
      "source": [
        "# Transposta do array a_conjunto2 é dado por:\n",
        "a_conjunto2.T"
      ],
      "execution_count": 83,
      "outputs": [
        {
          "output_type": "execute_result",
          "data": {
            "text/plain": [
              "array([[ 30,  60,  90],\n",
              "       [ 40,  70, 100],\n",
              "       [ 50,  80, 110]])"
            ]
          },
          "metadata": {
            "tags": []
          },
          "execution_count": 83
        }
      ]
    },
    {
      "cell_type": "markdown",
      "metadata": {
        "id": "Ij-ZW5IyzXIb"
      },
      "source": [
        "Ou seja, linha virou coluna. Ok?"
      ]
    },
    {
      "cell_type": "markdown",
      "metadata": {
        "id": "qLy6ajgpt3lU"
      },
      "source": [
        "# **Inversa da matriz quadrada**\n",
        "> Se uma matriz é não-singular, então sua inversa existe.\n",
        "\n",
        "* Se o determinante de uma matriz  is not equal to zero, then the matrix isé diferente de 0, então a matriz é não-singular."
      ]
    },
    {
      "cell_type": "code",
      "metadata": {
        "id": "-u7jRq34t9_x"
      },
      "source": [
        "import numpy as np\n",
        "\n",
        "a_conjunto1 = np.array([[1, 2, 3],[4, 5, 6],[7, 8, 9]])\n",
        "a_conjunto2 = np.array([[6, 2], [5, 3]])\n",
        "a_conjunto3 = np.array([[1, 3, 5],[2, 5, 1],[2, 3, 8]])"
      ],
      "execution_count": 84,
      "outputs": []
    },
    {
      "cell_type": "code",
      "metadata": {
        "id": "7zmHHWWlvaYB",
        "outputId": "ff3bd49c-1701-4b80-ec4c-6f3d85c8825a",
        "colab": {
          "base_uri": "https://localhost:8080/",
          "height": 68
        }
      },
      "source": [
        "a_conjunto1"
      ],
      "execution_count": 85,
      "outputs": [
        {
          "output_type": "execute_result",
          "data": {
            "text/plain": [
              "array([[1, 2, 3],\n",
              "       [4, 5, 6],\n",
              "       [7, 8, 9]])"
            ]
          },
          "metadata": {
            "tags": []
          },
          "execution_count": 85
        }
      ]
    },
    {
      "cell_type": "code",
      "metadata": {
        "id": "3fHKyhOJvcak",
        "outputId": "49a239c0-baa5-41af-9afd-87eaec5d9cb5",
        "colab": {
          "base_uri": "https://localhost:8080/",
          "height": 51
        }
      },
      "source": [
        "a_conjunto2"
      ],
      "execution_count": 86,
      "outputs": [
        {
          "output_type": "execute_result",
          "data": {
            "text/plain": [
              "array([[6, 2],\n",
              "       [5, 3]])"
            ]
          },
          "metadata": {
            "tags": []
          },
          "execution_count": 86
        }
      ]
    },
    {
      "cell_type": "code",
      "metadata": {
        "id": "vQG7yyfjwLg9",
        "outputId": "2acfc295-6770-48df-e5f2-c792e39498fc",
        "colab": {
          "base_uri": "https://localhost:8080/",
          "height": 68
        }
      },
      "source": [
        "a_conjunto3"
      ],
      "execution_count": 87,
      "outputs": [
        {
          "output_type": "execute_result",
          "data": {
            "text/plain": [
              "array([[1, 3, 5],\n",
              "       [2, 5, 1],\n",
              "       [2, 3, 8]])"
            ]
          },
          "metadata": {
            "tags": []
          },
          "execution_count": 87
        }
      ]
    },
    {
      "cell_type": "markdown",
      "metadata": {
        "id": "qa2Yre2rwgRk"
      },
      "source": [
        "## Determinantes da matriz quadrada"
      ]
    },
    {
      "cell_type": "code",
      "metadata": {
        "id": "N6jwuC6twkyc",
        "outputId": "93b6c505-1e4a-499c-cea4-5de2afe46dc2",
        "colab": {
          "base_uri": "https://localhost:8080/",
          "height": 34
        }
      },
      "source": [
        "np.linalg.det(a_conjunto1)"
      ],
      "execution_count": 88,
      "outputs": [
        {
          "output_type": "execute_result",
          "data": {
            "text/plain": [
              "0.0"
            ]
          },
          "metadata": {
            "tags": []
          },
          "execution_count": 88
        }
      ]
    },
    {
      "cell_type": "code",
      "metadata": {
        "id": "QSvViNwzwnhI",
        "outputId": "a5fa2582-734e-45c4-fc82-916e0bd8072e",
        "colab": {
          "base_uri": "https://localhost:8080/",
          "height": 34
        }
      },
      "source": [
        "np.linalg.det(a_conjunto2)"
      ],
      "execution_count": 89,
      "outputs": [
        {
          "output_type": "execute_result",
          "data": {
            "text/plain": [
              "8.000000000000002"
            ]
          },
          "metadata": {
            "tags": []
          },
          "execution_count": 89
        }
      ]
    },
    {
      "cell_type": "code",
      "metadata": {
        "id": "o8jwsnccw5id",
        "outputId": "6d0fa7b3-097a-4c2d-b83c-4288f9b09886",
        "colab": {
          "base_uri": "https://localhost:8080/",
          "height": 34
        }
      },
      "source": [
        "np.linalg.det(a_conjunto3)"
      ],
      "execution_count": 90,
      "outputs": [
        {
          "output_type": "execute_result",
          "data": {
            "text/plain": [
              "-25.000000000000007"
            ]
          },
          "metadata": {
            "tags": []
          },
          "execution_count": 90
        }
      ]
    },
    {
      "cell_type": "markdown",
      "metadata": {
        "id": "kkVaTgzgw_XJ"
      },
      "source": [
        "A seguir, calculamos as inversas das matrizes acima definidas..."
      ]
    },
    {
      "cell_type": "code",
      "metadata": {
        "id": "b9FgWvTYvpik",
        "outputId": "c486ab74-85c9-4718-c010-83b1e9c067ca",
        "colab": {
          "base_uri": "https://localhost:8080/",
          "height": 51
        }
      },
      "source": [
        "np.linalg.inv(a_conjunto2)"
      ],
      "execution_count": 91,
      "outputs": [
        {
          "output_type": "execute_result",
          "data": {
            "text/plain": [
              "array([[ 0.38, -0.25],\n",
              "       [-0.62,  0.75]])"
            ]
          },
          "metadata": {
            "tags": []
          },
          "execution_count": 91
        }
      ]
    },
    {
      "cell_type": "code",
      "metadata": {
        "id": "KsdEt1kIvsM_",
        "outputId": "1872d30a-4c4e-44b2-cec4-3c6251c278ee",
        "colab": {
          "base_uri": "https://localhost:8080/",
          "height": 340
        }
      },
      "source": [
        "np.linalg.inv(a_conjunto1)"
      ],
      "execution_count": 92,
      "outputs": [
        {
          "output_type": "error",
          "ename": "LinAlgError",
          "evalue": "ignored",
          "traceback": [
            "\u001b[0;31m---------------------------------------------------------------------------\u001b[0m",
            "\u001b[0;31mLinAlgError\u001b[0m                               Traceback (most recent call last)",
            "\u001b[0;32m<ipython-input-92-bc3681ef2414>\u001b[0m in \u001b[0;36m<module>\u001b[0;34m()\u001b[0m\n\u001b[0;32m----> 1\u001b[0;31m \u001b[0mnp\u001b[0m\u001b[0;34m.\u001b[0m\u001b[0mlinalg\u001b[0m\u001b[0;34m.\u001b[0m\u001b[0minv\u001b[0m\u001b[0;34m(\u001b[0m\u001b[0ma_conjunto1\u001b[0m\u001b[0;34m)\u001b[0m\u001b[0;34m\u001b[0m\u001b[0;34m\u001b[0m\u001b[0m\n\u001b[0m",
            "\u001b[0;32m<__array_function__ internals>\u001b[0m in \u001b[0;36minv\u001b[0;34m(*args, **kwargs)\u001b[0m\n",
            "\u001b[0;32m/usr/local/lib/python3.6/dist-packages/numpy/linalg/linalg.py\u001b[0m in \u001b[0;36minv\u001b[0;34m(a)\u001b[0m\n\u001b[1;32m    545\u001b[0m     \u001b[0msignature\u001b[0m \u001b[0;34m=\u001b[0m \u001b[0;34m'D->D'\u001b[0m \u001b[0;32mif\u001b[0m \u001b[0misComplexType\u001b[0m\u001b[0;34m(\u001b[0m\u001b[0mt\u001b[0m\u001b[0;34m)\u001b[0m \u001b[0;32melse\u001b[0m \u001b[0;34m'd->d'\u001b[0m\u001b[0;34m\u001b[0m\u001b[0;34m\u001b[0m\u001b[0m\n\u001b[1;32m    546\u001b[0m     \u001b[0mextobj\u001b[0m \u001b[0;34m=\u001b[0m \u001b[0mget_linalg_error_extobj\u001b[0m\u001b[0;34m(\u001b[0m\u001b[0m_raise_linalgerror_singular\u001b[0m\u001b[0;34m)\u001b[0m\u001b[0;34m\u001b[0m\u001b[0;34m\u001b[0m\u001b[0m\n\u001b[0;32m--> 547\u001b[0;31m     \u001b[0mainv\u001b[0m \u001b[0;34m=\u001b[0m \u001b[0m_umath_linalg\u001b[0m\u001b[0;34m.\u001b[0m\u001b[0minv\u001b[0m\u001b[0;34m(\u001b[0m\u001b[0ma\u001b[0m\u001b[0;34m,\u001b[0m \u001b[0msignature\u001b[0m\u001b[0;34m=\u001b[0m\u001b[0msignature\u001b[0m\u001b[0;34m,\u001b[0m \u001b[0mextobj\u001b[0m\u001b[0;34m=\u001b[0m\u001b[0mextobj\u001b[0m\u001b[0;34m)\u001b[0m\u001b[0;34m\u001b[0m\u001b[0;34m\u001b[0m\u001b[0m\n\u001b[0m\u001b[1;32m    548\u001b[0m     \u001b[0;32mreturn\u001b[0m \u001b[0mwrap\u001b[0m\u001b[0;34m(\u001b[0m\u001b[0mainv\u001b[0m\u001b[0;34m.\u001b[0m\u001b[0mastype\u001b[0m\u001b[0;34m(\u001b[0m\u001b[0mresult_t\u001b[0m\u001b[0;34m,\u001b[0m \u001b[0mcopy\u001b[0m\u001b[0;34m=\u001b[0m\u001b[0;32mFalse\u001b[0m\u001b[0;34m)\u001b[0m\u001b[0;34m)\u001b[0m\u001b[0;34m\u001b[0m\u001b[0;34m\u001b[0m\u001b[0m\n\u001b[1;32m    549\u001b[0m \u001b[0;34m\u001b[0m\u001b[0m\n",
            "\u001b[0;32m/usr/local/lib/python3.6/dist-packages/numpy/linalg/linalg.py\u001b[0m in \u001b[0;36m_raise_linalgerror_singular\u001b[0;34m(err, flag)\u001b[0m\n\u001b[1;32m     95\u001b[0m \u001b[0;34m\u001b[0m\u001b[0m\n\u001b[1;32m     96\u001b[0m \u001b[0;32mdef\u001b[0m \u001b[0m_raise_linalgerror_singular\u001b[0m\u001b[0;34m(\u001b[0m\u001b[0merr\u001b[0m\u001b[0;34m,\u001b[0m \u001b[0mflag\u001b[0m\u001b[0;34m)\u001b[0m\u001b[0;34m:\u001b[0m\u001b[0;34m\u001b[0m\u001b[0;34m\u001b[0m\u001b[0m\n\u001b[0;32m---> 97\u001b[0;31m     \u001b[0;32mraise\u001b[0m \u001b[0mLinAlgError\u001b[0m\u001b[0;34m(\u001b[0m\u001b[0;34m\"Singular matrix\"\u001b[0m\u001b[0;34m)\u001b[0m\u001b[0;34m\u001b[0m\u001b[0;34m\u001b[0m\u001b[0m\n\u001b[0m\u001b[1;32m     98\u001b[0m \u001b[0;34m\u001b[0m\u001b[0m\n\u001b[1;32m     99\u001b[0m \u001b[0;32mdef\u001b[0m \u001b[0m_raise_linalgerror_nonposdef\u001b[0m\u001b[0;34m(\u001b[0m\u001b[0merr\u001b[0m\u001b[0;34m,\u001b[0m \u001b[0mflag\u001b[0m\u001b[0;34m)\u001b[0m\u001b[0;34m:\u001b[0m\u001b[0;34m\u001b[0m\u001b[0;34m\u001b[0m\u001b[0m\n",
            "\u001b[0;31mLinAlgError\u001b[0m: Singular matrix"
          ]
        }
      ]
    },
    {
      "cell_type": "markdown",
      "metadata": {
        "id": "VA_F7_7kccpn"
      },
      "source": [
        "Porque não temos a inversa de a_conjunto1?"
      ]
    },
    {
      "cell_type": "code",
      "metadata": {
        "id": "ANPBCnmVwOf4",
        "outputId": "bea278b5-3959-47c7-e76c-216cd2c7d5cd",
        "colab": {
          "base_uri": "https://localhost:8080/",
          "height": 68
        }
      },
      "source": [
        "np.linalg.inv(a_conjunto3)"
      ],
      "execution_count": 93,
      "outputs": [
        {
          "output_type": "execute_result",
          "data": {
            "text/plain": [
              "array([[-1.48,  0.36,  0.88],\n",
              "       [ 0.56,  0.08, -0.36],\n",
              "       [ 0.16, -0.12,  0.04]])"
            ]
          },
          "metadata": {
            "tags": []
          },
          "execution_count": 93
        }
      ]
    },
    {
      "cell_type": "markdown",
      "metadata": {
        "id": "XAf9k1egxcdF"
      },
      "source": [
        "# **Resolver sistemas de equações lineares**\n",
        "> Considere o sistema de euqações lineares abaixo:\n",
        "\n",
        "\\begin{equation}\n",
        "x + 3y + 5z = 10\\\\\n",
        "2x+ 5y + z = 8 \\\\\n",
        "2x + 3y + 8z= 3\n",
        "\\end{equation}\n",
        "\n",
        "Ou $Ax = b$. A solução deste sistema de equações é dada por $A^{-1}b$."
      ]
    },
    {
      "cell_type": "markdown",
      "metadata": {
        "id": "oNf5nqaLxhBY"
      },
      "source": [
        "Ou seja, basta encontrarmos a inversa de A e multiplicarmos por b."
      ]
    },
    {
      "cell_type": "code",
      "metadata": {
        "id": "omzC5dGA0btc",
        "outputId": "50af27a9-e578-4e39-882a-0d2a5e51ba8c",
        "colab": {
          "base_uri": "https://localhost:8080/",
          "height": 68
        }
      },
      "source": [
        "A= np.array([[1, 3, 5], [2, 5, 1], [2, 3, 8]])\n",
        "np.linalg.inv(A)"
      ],
      "execution_count": 94,
      "outputs": [
        {
          "output_type": "execute_result",
          "data": {
            "text/plain": [
              "array([[-1.48,  0.36,  0.88],\n",
              "       [ 0.56,  0.08, -0.36],\n",
              "       [ 0.16, -0.12,  0.04]])"
            ]
          },
          "metadata": {
            "tags": []
          },
          "execution_count": 94
        }
      ]
    },
    {
      "cell_type": "markdown",
      "metadata": {
        "id": "AiXI3oxB05iE"
      },
      "source": [
        "Agora basta multiplicar a matriz inversa $A^{-1}$ acima por b. "
      ]
    },
    {
      "cell_type": "code",
      "metadata": {
        "id": "XoGebKDa2Fcd"
      },
      "source": [
        "A_Inv = np.linalg.inv(A)"
      ],
      "execution_count": null,
      "outputs": []
    },
    {
      "cell_type": "code",
      "metadata": {
        "id": "sKaP0a1QZG-P"
      },
      "source": [
        "b= np.array([10, 8, 3]).reshape(3, -1)\n",
        "b"
      ],
      "execution_count": null,
      "outputs": []
    },
    {
      "cell_type": "code",
      "metadata": {
        "id": "3dAVq8dg19VI"
      },
      "source": [
        "A_Inv.dot(b)"
      ],
      "execution_count": null,
      "outputs": []
    },
    {
      "cell_type": "markdown",
      "metadata": {
        "id": "zso6hTnB17cm"
      },
      "source": [
        "Uma forma fácil de se fazer isso é utilizar a expressão abaixo:"
      ]
    },
    {
      "cell_type": "code",
      "metadata": {
        "id": "ptQHIVll1E4P"
      },
      "source": [
        "b= np.array([[10], [8], [3]])\n",
        "b"
      ],
      "execution_count": null,
      "outputs": []
    },
    {
      "cell_type": "code",
      "metadata": {
        "id": "X4VL8lyY1Xus"
      },
      "source": [
        "np.linalg.solve(A, b)"
      ],
      "execution_count": null,
      "outputs": []
    },
    {
      "cell_type": "markdown",
      "metadata": {
        "id": "fJKmwTS59-Bc"
      },
      "source": [
        "# **Empilhar arrays**\n",
        "\n",
        "## Exemplo 1\n",
        "\n",
        "![Empilhar1](https://github.com/MathMachado/Materials/blob/master/Empilhar1.PNG?raw=true)\n",
        "\n",
        "## Exemplo 2\n",
        "\n",
        "![Empilhar2](https://github.com/MathMachado/Materials/blob/master/Empilhar2.PNG?raw=true)\n",
        "\n"
      ]
    },
    {
      "cell_type": "markdown",
      "metadata": {
        "id": "rhPTt3EwXden"
      },
      "source": [
        "## Gerar os arrays do exemplo1"
      ]
    },
    {
      "cell_type": "code",
      "metadata": {
        "id": "zEI-yBy3-E46"
      },
      "source": [
        "np.random.seed(20111974)\n",
        "a_conjunto1 = np.random.randn(5, 8)\n",
        "\n",
        "np.random.seed(19741120)\n",
        "a_conjunto2 = np.random.randn(8, 8)"
      ],
      "execution_count": 95,
      "outputs": []
    },
    {
      "cell_type": "markdown",
      "metadata": {
        "id": "UYsAqBRp--79"
      },
      "source": [
        "## Método 1 - Concatenate([A, B])"
      ]
    },
    {
      "cell_type": "code",
      "metadata": {
        "id": "HgO1ujvhObyE",
        "outputId": "0aa2aa36-0468-434c-81fc-a9641932564a",
        "colab": {
          "base_uri": "https://localhost:8080/",
          "height": 102
        }
      },
      "source": [
        "a_conjunto1"
      ],
      "execution_count": 96,
      "outputs": [
        {
          "output_type": "execute_result",
          "data": {
            "text/plain": [
              "array([[ 2.51,  1.11,  2.06,  0.56,  0.3 ,  1.05, -0.13,  1.06],\n",
              "       [ 1.14,  1.38, -2.06,  0.67,  0.73, -0.34,  0.44,  0.59],\n",
              "       [-1.29,  1.18, -0.99, -1.79, -1.09, -0.91, -1.02, -1.36],\n",
              "       [-0.29,  0.06, -1.14, -0.51, -0.84, -1.41, -0.22, -1.17],\n",
              "       [-0.61, -0.62,  1.08,  0.5 ,  0.03,  1.83,  0.35, -1.15]])"
            ]
          },
          "metadata": {
            "tags": []
          },
          "execution_count": 96
        }
      ]
    },
    {
      "cell_type": "code",
      "metadata": {
        "id": "2aQY_klZOeg9",
        "outputId": "38317a5e-5d47-4570-af47-781f03a8dd5a",
        "colab": {
          "base_uri": "https://localhost:8080/",
          "height": 153
        }
      },
      "source": [
        "a_conjunto2"
      ],
      "execution_count": 97,
      "outputs": [
        {
          "output_type": "execute_result",
          "data": {
            "text/plain": [
              "array([[-0.77, -1.11,  0.1 , -1.15, -2.15, -0.75, -2.15, -0.33],\n",
              "       [-1.1 ,  0.33,  0.01, -1.33, -0.34, -0.01,  0.05, -0.19],\n",
              "       [ 0.39, -0.89, -0.51, -0.75,  1.84, -1.21,  1.2 ,  0.51],\n",
              "       [-0.57, -0.93, -0.25,  0.98,  1.19,  2.3 ,  0.17,  0.71],\n",
              "       [-0.45,  0.92,  0.73,  2.18, -0.06,  1.25, -0.37,  1.44],\n",
              "       [ 0.86, -0.11, -0.35,  0.94, -0.09, -1.49,  0.01,  0.87],\n",
              "       [ 1.63,  1.36, -0.02, -0.45, -0.37, -0.05, -2.27,  0.95],\n",
              "       [ 0.71, -0.8 , -0.32, -1.58, -0.38, -0.3 , -0.73, -0.56]])"
            ]
          },
          "metadata": {
            "tags": []
          },
          "execution_count": 97
        }
      ]
    },
    {
      "cell_type": "code",
      "metadata": {
        "id": "bK70vaq8_KMH",
        "outputId": "40e9b550-ba17-4896-ffb9-8a9b72ff6055",
        "colab": {
          "base_uri": "https://localhost:8080/",
          "height": 238
        }
      },
      "source": [
        "np.concatenate([a_conjunto1, a_conjunto2], axis = 0) # axis= 0 diz ao NumPy para empilhar as linhas"
      ],
      "execution_count": 98,
      "outputs": [
        {
          "output_type": "execute_result",
          "data": {
            "text/plain": [
              "array([[ 2.51,  1.11,  2.06,  0.56,  0.3 ,  1.05, -0.13,  1.06],\n",
              "       [ 1.14,  1.38, -2.06,  0.67,  0.73, -0.34,  0.44,  0.59],\n",
              "       [-1.29,  1.18, -0.99, -1.79, -1.09, -0.91, -1.02, -1.36],\n",
              "       [-0.29,  0.06, -1.14, -0.51, -0.84, -1.41, -0.22, -1.17],\n",
              "       [-0.61, -0.62,  1.08,  0.5 ,  0.03,  1.83,  0.35, -1.15],\n",
              "       [-0.77, -1.11,  0.1 , -1.15, -2.15, -0.75, -2.15, -0.33],\n",
              "       [-1.1 ,  0.33,  0.01, -1.33, -0.34, -0.01,  0.05, -0.19],\n",
              "       [ 0.39, -0.89, -0.51, -0.75,  1.84, -1.21,  1.2 ,  0.51],\n",
              "       [-0.57, -0.93, -0.25,  0.98,  1.19,  2.3 ,  0.17,  0.71],\n",
              "       [-0.45,  0.92,  0.73,  2.18, -0.06,  1.25, -0.37,  1.44],\n",
              "       [ 0.86, -0.11, -0.35,  0.94, -0.09, -1.49,  0.01,  0.87],\n",
              "       [ 1.63,  1.36, -0.02, -0.45, -0.37, -0.05, -2.27,  0.95],\n",
              "       [ 0.71, -0.8 , -0.32, -1.58, -0.38, -0.3 , -0.73, -0.56]])"
            ]
          },
          "metadata": {
            "tags": []
          },
          "execution_count": 98
        }
      ]
    },
    {
      "cell_type": "markdown",
      "metadata": {
        "id": "CpaXBkm8_BF8"
      },
      "source": [
        "## Método 2 - np.r_[A, B]"
      ]
    },
    {
      "cell_type": "code",
      "metadata": {
        "id": "3QnVUzAY_teZ",
        "outputId": "e8adfd85-e760-40f5-d9ac-48353d24ccd2",
        "colab": {
          "base_uri": "https://localhost:8080/",
          "height": 459
        }
      },
      "source": [
        "np.r_[a_conjunto1, a_conjunto2]"
      ],
      "execution_count": null,
      "outputs": [
        {
          "output_type": "execute_result",
          "data": {
            "text/plain": [
              "array([[ 2.5062768 ,  1.11440422,  2.05565501,  0.56482376,  0.29897276,\n",
              "         1.04930857, -0.12607366,  1.06227632],\n",
              "       [ 1.13807032,  1.37966044, -2.05995563,  0.67474814,  0.72722843,\n",
              "        -0.33923852,  0.43613107,  0.59135489],\n",
              "       [-1.29281877,  1.17712036, -0.98644163, -1.79034143, -1.08913605,\n",
              "        -0.90712825, -1.02291108, -1.36445713],\n",
              "       [-0.29429164,  0.06343709, -1.14196185, -0.50706079, -0.83539436,\n",
              "        -1.41492946, -0.2159062 , -1.16519474],\n",
              "       [-0.60767518, -0.61510925,  1.0771542 ,  0.5043687 ,  0.02674197,\n",
              "         1.83494644,  0.34728874, -1.14671885],\n",
              "       [-0.77337752, -1.10547465,  0.10062807, -1.14571729, -2.15266227,\n",
              "        -0.75255725, -2.1529949 , -0.33017773],\n",
              "       [-1.10465731,  0.32889675,  0.01010198, -1.33213633, -0.33945805,\n",
              "        -0.01299007,  0.05342823, -0.18641201],\n",
              "       [ 0.39473805, -0.89354231, -0.50667323, -0.74660913,  1.83586365,\n",
              "        -1.20536871,  1.20184886,  0.51160897],\n",
              "       [-0.56952286, -0.93343871, -0.24972528,  0.98487133,  1.19333367,\n",
              "         2.29956497,  0.16657022,  0.71357415],\n",
              "       [-0.45251078,  0.92163918,  0.73421263,  2.17811191, -0.05655212,\n",
              "         1.25326   , -0.37039248,  1.43855202],\n",
              "       [ 0.85646091, -0.11257239, -0.35400297,  0.94136671, -0.08696163,\n",
              "        -1.49000701,  0.00848666,  0.86705275],\n",
              "       [ 1.6340906 ,  1.36321063, -0.02175361, -0.45301645, -0.37111236,\n",
              "        -0.04716069, -2.27337435,  0.95318738],\n",
              "       [ 0.7100548 , -0.79883269, -0.3165779 , -1.58352824, -0.37751484,\n",
              "        -0.29760341, -0.73424207, -0.55703223]])"
            ]
          },
          "metadata": {
            "tags": []
          },
          "execution_count": 36
        }
      ]
    },
    {
      "cell_type": "markdown",
      "metadata": {
        "id": "XmSPbDP6_20W"
      },
      "source": [
        "**Obs**.: Eu prefiro este método!"
      ]
    },
    {
      "cell_type": "markdown",
      "metadata": {
        "id": "dzVKW_wX_Dzw"
      },
      "source": [
        "## Método 3 - np.vstack([A, B]) = np.r_[A, B]"
      ]
    },
    {
      "cell_type": "code",
      "metadata": {
        "id": "uL7lEN_mABID",
        "outputId": "d1ea4d86-2cc1-4e2d-af72-b3a292ef15fd",
        "colab": {
          "base_uri": "https://localhost:8080/",
          "height": 459
        }
      },
      "source": [
        "np.vstack([a_conjunto1, a_conjunto2])"
      ],
      "execution_count": null,
      "outputs": [
        {
          "output_type": "execute_result",
          "data": {
            "text/plain": [
              "array([[ 2.5062768 ,  1.11440422,  2.05565501,  0.56482376,  0.29897276,\n",
              "         1.04930857, -0.12607366,  1.06227632],\n",
              "       [ 1.13807032,  1.37966044, -2.05995563,  0.67474814,  0.72722843,\n",
              "        -0.33923852,  0.43613107,  0.59135489],\n",
              "       [-1.29281877,  1.17712036, -0.98644163, -1.79034143, -1.08913605,\n",
              "        -0.90712825, -1.02291108, -1.36445713],\n",
              "       [-0.29429164,  0.06343709, -1.14196185, -0.50706079, -0.83539436,\n",
              "        -1.41492946, -0.2159062 , -1.16519474],\n",
              "       [-0.60767518, -0.61510925,  1.0771542 ,  0.5043687 ,  0.02674197,\n",
              "         1.83494644,  0.34728874, -1.14671885],\n",
              "       [-0.77337752, -1.10547465,  0.10062807, -1.14571729, -2.15266227,\n",
              "        -0.75255725, -2.1529949 , -0.33017773],\n",
              "       [-1.10465731,  0.32889675,  0.01010198, -1.33213633, -0.33945805,\n",
              "        -0.01299007,  0.05342823, -0.18641201],\n",
              "       [ 0.39473805, -0.89354231, -0.50667323, -0.74660913,  1.83586365,\n",
              "        -1.20536871,  1.20184886,  0.51160897],\n",
              "       [-0.56952286, -0.93343871, -0.24972528,  0.98487133,  1.19333367,\n",
              "         2.29956497,  0.16657022,  0.71357415],\n",
              "       [-0.45251078,  0.92163918,  0.73421263,  2.17811191, -0.05655212,\n",
              "         1.25326   , -0.37039248,  1.43855202],\n",
              "       [ 0.85646091, -0.11257239, -0.35400297,  0.94136671, -0.08696163,\n",
              "        -1.49000701,  0.00848666,  0.86705275],\n",
              "       [ 1.6340906 ,  1.36321063, -0.02175361, -0.45301645, -0.37111236,\n",
              "        -0.04716069, -2.27337435,  0.95318738],\n",
              "       [ 0.7100548 , -0.79883269, -0.3165779 , -1.58352824, -0.37751484,\n",
              "        -0.29760341, -0.73424207, -0.55703223]])"
            ]
          },
          "metadata": {
            "tags": []
          },
          "execution_count": 37
        }
      ]
    },
    {
      "cell_type": "markdown",
      "metadata": {
        "id": "68icJ-2ZAdRj"
      },
      "source": [
        "# Concatenar arrays\n",
        "\n",
        "## Exemplo 1\n",
        "\n",
        "![Concatenar1](https://github.com/MathMachado/Materials/blob/master/Concatenar1.PNG?raw=true)\n",
        "\n",
        "# Exemplo 2\n",
        "\n",
        "![Concatenar2](https://github.com/MathMachado/Materials/blob/master/Concatenar2.PNG?raw=true)"
      ]
    },
    {
      "cell_type": "markdown",
      "metadata": {
        "id": "OplgK9YoQi9o"
      },
      "source": [
        "## Concatenar os elementos de dois arrays - np.c_[A, B]"
      ]
    },
    {
      "cell_type": "code",
      "metadata": {
        "id": "lpdsbTEKQ9EY"
      },
      "source": [
        "np.random.seed(20111974)\n",
        "a_conjunto1 = np.random.randint(0, 10, 100).reshape(-1, 10)\n",
        "a_conjunto2 = np.random.randint(0, 2, 10).reshape(-1, 1)"
      ],
      "execution_count": 99,
      "outputs": []
    },
    {
      "cell_type": "code",
      "metadata": {
        "id": "JPxhGsaSSMk2",
        "outputId": "d7e2784d-7896-48ce-f8d9-e81b8254102a",
        "colab": {
          "base_uri": "https://localhost:8080/",
          "height": 187
        }
      },
      "source": [
        "a_conjunto1"
      ],
      "execution_count": 100,
      "outputs": [
        {
          "output_type": "execute_result",
          "data": {
            "text/plain": [
              "array([[8, 8, 2, 8, 9, 1, 8, 0, 4, 2],\n",
              "       [0, 8, 9, 3, 7, 1, 3, 2, 9, 7],\n",
              "       [7, 9, 5, 6, 8, 7, 0, 9, 3, 9],\n",
              "       [3, 1, 8, 6, 3, 5, 4, 1, 2, 9],\n",
              "       [8, 6, 6, 1, 0, 9, 2, 0, 7, 5],\n",
              "       [5, 4, 4, 2, 7, 2, 7, 9, 3, 1],\n",
              "       [5, 0, 1, 2, 3, 8, 7, 5, 4, 0],\n",
              "       [5, 9, 6, 6, 1, 3, 6, 0, 4, 9],\n",
              "       [2, 1, 0, 9, 1, 4, 2, 9, 7, 9],\n",
              "       [5, 3, 7, 6, 3, 9, 8, 4, 3, 0]])"
            ]
          },
          "metadata": {
            "tags": []
          },
          "execution_count": 100
        }
      ]
    },
    {
      "cell_type": "code",
      "metadata": {
        "id": "9ZyUPfybTfej",
        "outputId": "9e66a78e-3fc1-4ba1-972d-8044325d7de5",
        "colab": {
          "base_uri": "https://localhost:8080/",
          "height": 187
        }
      },
      "source": [
        "a_conjunto2"
      ],
      "execution_count": 101,
      "outputs": [
        {
          "output_type": "execute_result",
          "data": {
            "text/plain": [
              "array([[1],\n",
              "       [0],\n",
              "       [0],\n",
              "       [0],\n",
              "       [0],\n",
              "       [1],\n",
              "       [0],\n",
              "       [0],\n",
              "       [0],\n",
              "       [1]])"
            ]
          },
          "metadata": {
            "tags": []
          },
          "execution_count": 101
        }
      ]
    },
    {
      "cell_type": "code",
      "metadata": {
        "id": "nS1cPG3aRug1",
        "outputId": "1758003d-b435-4fc2-b094-6870b64039b1",
        "colab": {
          "base_uri": "https://localhost:8080/",
          "height": 187
        }
      },
      "source": [
        "# colocando o array a_conjunto2 do lado de a_conjunto1.\n",
        "np.c_[a_conjunto1, a_conjunto2]"
      ],
      "execution_count": 102,
      "outputs": [
        {
          "output_type": "execute_result",
          "data": {
            "text/plain": [
              "array([[8, 8, 2, 8, 9, 1, 8, 0, 4, 2, 1],\n",
              "       [0, 8, 9, 3, 7, 1, 3, 2, 9, 7, 0],\n",
              "       [7, 9, 5, 6, 8, 7, 0, 9, 3, 9, 0],\n",
              "       [3, 1, 8, 6, 3, 5, 4, 1, 2, 9, 0],\n",
              "       [8, 6, 6, 1, 0, 9, 2, 0, 7, 5, 0],\n",
              "       [5, 4, 4, 2, 7, 2, 7, 9, 3, 1, 1],\n",
              "       [5, 0, 1, 2, 3, 8, 7, 5, 4, 0, 0],\n",
              "       [5, 9, 6, 6, 1, 3, 6, 0, 4, 9, 0],\n",
              "       [2, 1, 0, 9, 1, 4, 2, 9, 7, 9, 0],\n",
              "       [5, 3, 7, 6, 3, 9, 8, 4, 3, 0, 1]])"
            ]
          },
          "metadata": {
            "tags": []
          },
          "execution_count": 102
        }
      ]
    },
    {
      "cell_type": "markdown",
      "metadata": {
        "id": "kIgU1YBw0OeM"
      },
      "source": [
        "___\n",
        "# **Selecionar itens que satisfazem condições**\n",
        "> Considere o array a seguir:"
      ]
    },
    {
      "cell_type": "code",
      "metadata": {
        "id": "e2pL5anBV0DI",
        "outputId": "59325971-d3be-4eed-faf5-67991a242054",
        "colab": {
          "base_uri": "https://localhost:8080/",
          "height": 34
        }
      },
      "source": [
        "a_conjunto1 = np.arange(10, 0, -1)\n",
        "a_conjunto1"
      ],
      "execution_count": 103,
      "outputs": [
        {
          "output_type": "execute_result",
          "data": {
            "text/plain": [
              "array([10,  9,  8,  7,  6,  5,  4,  3,  2,  1])"
            ]
          },
          "metadata": {
            "tags": []
          },
          "execution_count": 103
        }
      ]
    },
    {
      "cell_type": "markdown",
      "metadata": {
        "id": "i9HuZZAfV302"
      },
      "source": [
        "Selecionar somente os itens > 7:"
      ]
    },
    {
      "cell_type": "markdown",
      "metadata": {
        "id": "ZCESvr7iXMkV"
      },
      "source": [
        "## Usando np.where()"
      ]
    },
    {
      "cell_type": "code",
      "metadata": {
        "id": "BdrAQLHkTS-v",
        "outputId": "af66ee9d-531e-415c-b019-71a548e0b741",
        "colab": {
          "base_uri": "https://localhost:8080/",
          "height": 34
        }
      },
      "source": [
        "a_conjunto1"
      ],
      "execution_count": 104,
      "outputs": [
        {
          "output_type": "execute_result",
          "data": {
            "text/plain": [
              "array([10,  9,  8,  7,  6,  5,  4,  3,  2,  1])"
            ]
          },
          "metadata": {
            "tags": []
          },
          "execution_count": 104
        }
      ]
    },
    {
      "cell_type": "code",
      "metadata": {
        "id": "O_ZBaWxfWA9o",
        "outputId": "3f6482f5-69b2-48a3-e21e-5300b2bd940e",
        "colab": {
          "base_uri": "https://localhost:8080/",
          "height": 34
        }
      },
      "source": [
        "# Índices do array que atendem a condição\n",
        "l_indices = np.where(a_conjunto1 > 7)\n",
        "l_indices"
      ],
      "execution_count": 105,
      "outputs": [
        {
          "output_type": "execute_result",
          "data": {
            "text/plain": [
              "(array([0, 1, 2]),)"
            ]
          },
          "metadata": {
            "tags": []
          },
          "execution_count": 105
        }
      ]
    },
    {
      "cell_type": "markdown",
      "metadata": {
        "id": "EdWlfPOZWPME"
      },
      "source": [
        "**Atenção**: Capturamos os índices. Para selecionar os itens, basta fazer:"
      ]
    },
    {
      "cell_type": "code",
      "metadata": {
        "id": "tOxs3iYQWWxu",
        "outputId": "8799d399-938f-4c69-fca8-dd355a41f42a",
        "colab": {
          "base_uri": "https://localhost:8080/",
          "height": 34
        }
      },
      "source": [
        "a_conjunto2 = a_conjunto1[l_indices]\n",
        "a_conjunto2"
      ],
      "execution_count": 106,
      "outputs": [
        {
          "output_type": "execute_result",
          "data": {
            "text/plain": [
              "array([10,  9,  8])"
            ]
          },
          "metadata": {
            "tags": []
          },
          "execution_count": 106
        }
      ]
    },
    {
      "cell_type": "markdown",
      "metadata": {
        "id": "PGsENqkaXRjh"
      },
      "source": [
        "## Alternativa: Usando []"
      ]
    },
    {
      "cell_type": "code",
      "metadata": {
        "id": "YbdRNk1WXTLT",
        "outputId": "370c4930-10f1-45cc-8214-a0684eb42312",
        "colab": {
          "base_uri": "https://localhost:8080/",
          "height": 34
        }
      },
      "source": [
        "a_conjunto1[a_conjunto1 > 7]"
      ],
      "execution_count": 107,
      "outputs": [
        {
          "output_type": "execute_result",
          "data": {
            "text/plain": [
              "array([10,  9,  8])"
            ]
          },
          "metadata": {
            "tags": []
          },
          "execution_count": 107
        }
      ]
    },
    {
      "cell_type": "markdown",
      "metadata": {
        "id": "jijpzFxcSQC8"
      },
      "source": [
        "Acho que vale a pena quebrar esta solução para entendermos melhor como as coisas funcionam:#"
      ]
    },
    {
      "cell_type": "code",
      "metadata": {
        "id": "rujhP2LQSWsq"
      },
      "source": [
        " # Primeiro, avalie o resultado de a_conjunto1 > 7:"
      ],
      "execution_count": 108,
      "outputs": []
    },
    {
      "cell_type": "code",
      "metadata": {
        "id": "FYZaBsasSb3N",
        "outputId": "c2b1a20f-b10e-4c5d-db31-ba6522a55ead",
        "colab": {
          "base_uri": "https://localhost:8080/",
          "height": 51
        }
      },
      "source": [
        "a_conjunto1 > 7"
      ],
      "execution_count": 109,
      "outputs": [
        {
          "output_type": "execute_result",
          "data": {
            "text/plain": [
              "array([ True,  True,  True, False, False, False, False, False, False,\n",
              "       False])"
            ]
          },
          "metadata": {
            "tags": []
          },
          "execution_count": 109
        }
      ]
    },
    {
      "cell_type": "code",
      "metadata": {
        "id": "mvEof-UKaaVG",
        "outputId": "4fcc225d-d235-4a9d-dcf2-ead48e241e00",
        "colab": {
          "base_uri": "https://localhost:8080/",
          "height": 34
        }
      },
      "source": [
        "a_conjunto1[a_conjunto1 > 7]"
      ],
      "execution_count": 110,
      "outputs": [
        {
          "output_type": "execute_result",
          "data": {
            "text/plain": [
              "array([10,  9,  8])"
            ]
          },
          "metadata": {
            "tags": []
          },
          "execution_count": 110
        }
      ]
    },
    {
      "cell_type": "code",
      "metadata": {
        "id": "nO4FiBmDUZOT",
        "outputId": "7eb0a17f-69f6-4041-a03a-561dab4fd525",
        "colab": {
          "base_uri": "https://localhost:8080/",
          "height": 34
        }
      },
      "source": [
        "a_conjunto1"
      ],
      "execution_count": 111,
      "outputs": [
        {
          "output_type": "execute_result",
          "data": {
            "text/plain": [
              "array([10,  9,  8,  7,  6,  5,  4,  3,  2,  1])"
            ]
          },
          "metadata": {
            "tags": []
          },
          "execution_count": 111
        }
      ]
    },
    {
      "cell_type": "markdown",
      "metadata": {
        "id": "Ci5lT9nmSfsX"
      },
      "source": [
        "Agora, com este resultado, fica fácil entender como o Python seleciona os elementos. Consegue explicar?"
      ]
    },
    {
      "cell_type": "markdown",
      "metadata": {
        "id": "1v5Lfin0GGKD"
      },
      "source": [
        "# Substituir itens baseado em condições\n",
        "> Substituir os valores negativos do array abaixo por 0."
      ]
    },
    {
      "cell_type": "markdown",
      "metadata": {
        "id": "CLY_u0ePWdN7"
      },
      "source": [
        "## Gerar o exemplo"
      ]
    },
    {
      "cell_type": "code",
      "metadata": {
        "id": "NUANFy-fNXf5",
        "outputId": "21a681f7-1fb6-4feb-bc24-565589292f1a",
        "colab": {
          "base_uri": "https://localhost:8080/",
          "height": 119
        }
      },
      "source": [
        "np.random.seed(20111974)\n",
        "a_conjunto1 = np.array(np.random.randint(0, 10, size = 100))\n",
        "\n",
        "# Lista aleatória de índices que vou alterar\n",
        "np.random.seed(20111974)\n",
        "l_indices= np.random.randint(0, 99, 9)\n",
        "\n",
        "for i in l_indices:\n",
        "    a_conjunto1[i] = -1*a_conjunto1[i]\n",
        "\n",
        "a_conjunto2 = a_conjunto1.copy()\n",
        "a_conjunto2"
      ],
      "execution_count": 112,
      "outputs": [
        {
          "output_type": "execute_result",
          "data": {
            "text/plain": [
              "array([ 8,  8, -2,  8,  9,  1,  8,  0, -4,  2,  0,  8,  9,  3,  7,  1,  3,\n",
              "        2,  9,  7,  7,  9,  5,  6,  8,  7,  0, -9,  3,  9,  3,  1,  8,  6,\n",
              "        3,  5,  4,  1,  2,  9, -8,  6, -6,  1,  0,  9, -2,  0,  7,  5,  5,\n",
              "        4,  4,  2,  7,  2,  7,  9,  3,  1, -5,  0,  1,  2,  3,  8,  7,  5,\n",
              "        4,  0,  5,  9,  6,  6,  1,  3,  6,  0,  4,  9,  2, -1,  0,  9,  1,\n",
              "        4,  2,  9, -7,  9,  5,  3,  7,  6,  3,  9,  8,  4,  3,  0])"
            ]
          },
          "metadata": {
            "tags": []
          },
          "execution_count": 112
        }
      ]
    },
    {
      "cell_type": "code",
      "metadata": {
        "id": "Bo44elZsWhBN",
        "outputId": "b2f38dac-a1a8-44d7-cae3-06e1a2e4a7ab",
        "colab": {
          "base_uri": "https://localhost:8080/",
          "height": 119
        }
      },
      "source": [
        "a_conjunto1"
      ],
      "execution_count": 117,
      "outputs": [
        {
          "output_type": "execute_result",
          "data": {
            "text/plain": [
              "array([ 8,  8, -2,  8,  9,  1,  8,  0, -4,  2,  0,  8,  9,  3,  7,  1,  3,\n",
              "        2,  9,  7,  7,  9,  5,  6,  8,  7,  0, -9,  3,  9,  3,  1,  8,  6,\n",
              "        3,  5,  4,  1,  2,  9, -8,  6, -6,  1,  0,  9, -2,  0,  7,  5,  5,\n",
              "        4,  4,  2,  7,  2,  7,  9,  3,  1, -5,  0,  1,  2,  3,  8,  7,  5,\n",
              "        4,  0,  5,  9,  6,  6,  1,  3,  6,  0,  4,  9,  2, -1,  0,  9,  1,\n",
              "        4,  2,  9, -7,  9,  5,  3,  7,  6,  3,  9,  8,  4,  3,  0])"
            ]
          },
          "metadata": {
            "tags": []
          },
          "execution_count": 117
        }
      ]
    },
    {
      "cell_type": "code",
      "metadata": {
        "id": "dWVyI40uN2d2",
        "outputId": "5d605357-c96e-471c-a870-b09616ffbb95",
        "colab": {
          "base_uri": "https://localhost:8080/",
          "height": 34
        }
      },
      "source": [
        "# Indices a serem multiplicados por -1:\n",
        "l_indices.sort()\n",
        "l_indices"
      ],
      "execution_count": 116,
      "outputs": [
        {
          "output_type": "execute_result",
          "data": {
            "text/plain": [
              "array([ 2,  8, 27, 40, 42, 46, 60, 81, 88])"
            ]
          },
          "metadata": {
            "tags": []
          },
          "execution_count": 116
        }
      ]
    },
    {
      "cell_type": "markdown",
      "metadata": {
        "id": "3Whuu854OJDZ"
      },
      "source": [
        "## Substituir os valores negativos por 0"
      ]
    },
    {
      "cell_type": "code",
      "metadata": {
        "id": "sr268Rp8b-Se",
        "outputId": "dfb6923e-2ff2-4e92-bcbf-bc81a38cc4b9",
        "colab": {
          "base_uri": "https://localhost:8080/",
          "height": 221
        }
      },
      "source": [
        "a_conjunto2 < 0"
      ],
      "execution_count": 118,
      "outputs": [
        {
          "output_type": "execute_result",
          "data": {
            "text/plain": [
              "array([False, False,  True, False, False, False, False, False,  True,\n",
              "       False, False, False, False, False, False, False, False, False,\n",
              "       False, False, False, False, False, False, False, False, False,\n",
              "        True, False, False, False, False, False, False, False, False,\n",
              "       False, False, False, False,  True, False,  True, False, False,\n",
              "       False,  True, False, False, False, False, False, False, False,\n",
              "       False, False, False, False, False, False,  True, False, False,\n",
              "       False, False, False, False, False, False, False, False, False,\n",
              "       False, False, False, False, False, False, False, False, False,\n",
              "        True, False, False, False, False, False, False,  True, False,\n",
              "       False, False, False, False, False, False, False, False, False,\n",
              "       False])"
            ]
          },
          "metadata": {
            "tags": []
          },
          "execution_count": 118
        }
      ]
    },
    {
      "cell_type": "code",
      "metadata": {
        "id": "iaFIC3JFWp0T",
        "outputId": "3927203e-9cc4-48ed-9c27-eb8f684cf48e",
        "colab": {
          "base_uri": "https://localhost:8080/",
          "height": 34
        }
      },
      "source": [
        "a_conjunto2[a_conjunto2 < 0]"
      ],
      "execution_count": 119,
      "outputs": [
        {
          "output_type": "execute_result",
          "data": {
            "text/plain": [
              "array([-2, -4, -9, -8, -6, -2, -5, -1, -7])"
            ]
          },
          "metadata": {
            "tags": []
          },
          "execution_count": 119
        }
      ]
    },
    {
      "cell_type": "code",
      "metadata": {
        "id": "C-eKqPrfOQF6",
        "outputId": "27239b4f-b921-4d35-f82e-a69caac4a362",
        "colab": {
          "base_uri": "https://localhost:8080/",
          "height": 102
        }
      },
      "source": [
        "a_conjunto2[a_conjunto2 < 0] = 0\n",
        "a_conjunto2"
      ],
      "execution_count": 120,
      "outputs": [
        {
          "output_type": "execute_result",
          "data": {
            "text/plain": [
              "array([8, 8, 0, 8, 9, 1, 8, 0, 0, 2, 0, 8, 9, 3, 7, 1, 3, 2, 9, 7, 7, 9,\n",
              "       5, 6, 8, 7, 0, 0, 3, 9, 3, 1, 8, 6, 3, 5, 4, 1, 2, 9, 0, 6, 0, 1,\n",
              "       0, 9, 0, 0, 7, 5, 5, 4, 4, 2, 7, 2, 7, 9, 3, 1, 0, 0, 1, 2, 3, 8,\n",
              "       7, 5, 4, 0, 5, 9, 6, 6, 1, 3, 6, 0, 4, 9, 2, 0, 0, 9, 1, 4, 2, 9,\n",
              "       0, 9, 5, 3, 7, 6, 3, 9, 8, 4, 3, 0])"
            ]
          },
          "metadata": {
            "tags": []
          },
          "execution_count": 120
        }
      ]
    },
    {
      "cell_type": "markdown",
      "metadata": {
        "id": "eDLM0_JSZlfB"
      },
      "source": [
        "Observe acima que os valores negativos foram substituídos por 0, como queríamos."
      ]
    },
    {
      "cell_type": "markdown",
      "metadata": {
        "id": "AEHJ0rA3dHHU"
      },
      "source": [
        "## Substituir os valores negativos por 0 e os positivos por 1"
      ]
    },
    {
      "cell_type": "code",
      "metadata": {
        "id": "y32J8SRNZwRF",
        "outputId": "ffeee753-67ba-4ccc-fa51-8c8df224b9f8",
        "colab": {
          "base_uri": "https://localhost:8080/",
          "height": 119
        }
      },
      "source": [
        "a_conjunto2 = a_conjunto1.copy()\n",
        "a_conjunto2"
      ],
      "execution_count": 121,
      "outputs": [
        {
          "output_type": "execute_result",
          "data": {
            "text/plain": [
              "array([ 8,  8, -2,  8,  9,  1,  8,  0, -4,  2,  0,  8,  9,  3,  7,  1,  3,\n",
              "        2,  9,  7,  7,  9,  5,  6,  8,  7,  0, -9,  3,  9,  3,  1,  8,  6,\n",
              "        3,  5,  4,  1,  2,  9, -8,  6, -6,  1,  0,  9, -2,  0,  7,  5,  5,\n",
              "        4,  4,  2,  7,  2,  7,  9,  3,  1, -5,  0,  1,  2,  3,  8,  7,  5,\n",
              "        4,  0,  5,  9,  6,  6,  1,  3,  6,  0,  4,  9,  2, -1,  0,  9,  1,\n",
              "        4,  2,  9, -7,  9,  5,  3,  7,  6,  3,  9,  8,  4,  3,  0])"
            ]
          },
          "metadata": {
            "tags": []
          },
          "execution_count": 121
        }
      ]
    },
    {
      "cell_type": "code",
      "metadata": {
        "id": "1bSD9Fs6P5wW",
        "outputId": "828e9490-2cd9-4e11-cd03-c26bee1562b5",
        "colab": {
          "base_uri": "https://localhost:8080/",
          "height": 102
        }
      },
      "source": [
        "a_conjunto2 = np.where(a_conjunto2 <= 0, 0, 1)\n",
        "a_conjunto2"
      ],
      "execution_count": 122,
      "outputs": [
        {
          "output_type": "execute_result",
          "data": {
            "text/plain": [
              "array([1, 1, 0, 1, 1, 1, 1, 0, 0, 1, 0, 1, 1, 1, 1, 1, 1, 1, 1, 1, 1, 1,\n",
              "       1, 1, 1, 1, 0, 0, 1, 1, 1, 1, 1, 1, 1, 1, 1, 1, 1, 1, 0, 1, 0, 1,\n",
              "       0, 1, 0, 0, 1, 1, 1, 1, 1, 1, 1, 1, 1, 1, 1, 1, 0, 0, 1, 1, 1, 1,\n",
              "       1, 1, 1, 0, 1, 1, 1, 1, 1, 1, 1, 0, 1, 1, 1, 0, 0, 1, 1, 1, 1, 1,\n",
              "       0, 1, 1, 1, 1, 1, 1, 1, 1, 1, 1, 0])"
            ]
          },
          "metadata": {
            "tags": []
          },
          "execution_count": 122
        }
      ]
    },
    {
      "cell_type": "markdown",
      "metadata": {
        "id": "i027scjl0qkm"
      },
      "source": [
        "___\n",
        "# Outliers\n",
        "> Qualquer ponto/observação que é incomum quando comparado com todos os outros pontos/observações."
      ]
    },
    {
      "cell_type": "markdown",
      "metadata": {
        "id": "UnDTqRnZHQ3W"
      },
      "source": [
        "## Z-Score\n",
        "\n",
        "* Z-Score pode ser utilizado para detectar Outliers.\n",
        "* É a diferença entre o valor e a média da amostra expressa como o número de desvios-padrão. \n",
        "* Se o escore z for menor que 2,5 ou maior que 2,5, o valor estará nos 5% do menor ou maior valor (2,5% dos valores em ambas as extremidades da distribuição). No entanto, é pratica comum utilizarmos 3 ao invés dos 2,5.\n",
        "\n",
        "![Z_Score](https://github.com/MathMachado/Materials/blob/master/Z_Score.png?raw=true)"
      ]
    },
    {
      "cell_type": "markdown",
      "metadata": {
        "id": "N7gb2zhtd0uM"
      },
      "source": [
        "## IQR Score\n",
        "\n",
        "* O Intervalo interquartil (IQR) é uma medida de dispersão estatística, sendo igual à diferença entre os percentis 75 (Q3) e 25 (Q1), ou entre quartis superiores e inferiores, IQR = Q3 - Q1."
      ]
    },
    {
      "cell_type": "markdown",
      "metadata": {
        "id": "lMmWOKNvghI7"
      },
      "source": [
        "![BoxPlot](https://github.com/MathMachado/Materials/blob/master/boxplot.png?raw=true)"
      ]
    },
    {
      "cell_type": "markdown",
      "metadata": {
        "id": "DUw_a-MjWvBc"
      },
      "source": [
        "### Desafio para resolverem\n",
        "> **Objetivo**: Simular aleatoriamente o salário de 1.000 pessoas com distribuição N(1.045; 100). \n",
        "* Identificar os _outliers_ da distribuição que acabamos de simular;\n",
        "* Qual a média da distribuição que simulamos?\n",
        "* Qual o desvio-padrão;\n",
        "* Plotar o Boxplot da distribuição dos dados;\n",
        "* Quantas pessoas > Q3 + 1.5*(Q3-Q1)\n",
        "* Substituir os outliers do array por:\n",
        "    * Q1-1.5*(Q3 - Q1), se ponto < Q1-1.5*(Q3-Q1)\n",
        "    * Q3+1.5*(Q3 - Q1), se ponto > Q3+1.5*(Q3-Q1)\n",
        "\n",
        "Obs.: Use np.random.seed(20111974)."
      ]
    },
    {
      "cell_type": "markdown",
      "metadata": {
        "id": "L9ntAdS_oOAh"
      },
      "source": [
        "### Geração aleatória do array a_salarios com distribuição $N(\\mu, \\sigma)$"
      ]
    },
    {
      "cell_type": "code",
      "metadata": {
        "id": "ZVexc7iwW-uz",
        "outputId": "9578d344-bd54-48d0-81b6-78be7642347c",
        "colab": {
          "base_uri": "https://localhost:8080/",
          "height": 102
        }
      },
      "source": [
        "import numpy as np\n",
        "np.random.seed(202020202)\n",
        "np.set_printoptions(precision = 2, suppress = True)\n",
        "\n",
        "i_media = 1045\n",
        "i_dp = 500\n",
        "i_size = 1000\n",
        "i_tamanho = 1000\n",
        "\n",
        "\n",
        "a_salarios = np.array(np.random.normal(i_media, i_dp, size=i_size))\n",
        "a_salarios[:30]"
      ],
      "execution_count": 132,
      "outputs": [
        {
          "output_type": "execute_result",
          "data": {
            "text/plain": [
              "array([ 488.91, 1227.09,  641.47,  575.7 , 1664.34, 1254.27,  931.62,\n",
              "       1550.25, 1242.86,  794.05,  924.31, 1184.53,  723.31,   46.76,\n",
              "       1336.84, 1323.31, 1480.29,  754.29, 1105.24, 1254.35,  930.3 ,\n",
              "        889.64,  954.45,  716.47,  848.33,  925.16, 1021.7 ,  978.52,\n",
              "        588.65, 1682.72])"
            ]
          },
          "metadata": {
            "tags": []
          },
          "execution_count": 132
        }
      ]
    },
    {
      "cell_type": "code",
      "metadata": {
        "id": "RL0Zb0fyDory",
        "outputId": "8f932586-43c2-427a-b445-7b377c8cdb93",
        "colab": {
          "base_uri": "https://localhost:8080/",
          "height": 104
        }
      },
      "source": [
        "import numpy as np\n",
        "np.random.seed(20111974)\n",
        "np.set_printoptions(precision = 2, suppress = True)\n",
        "\n",
        "media = 1045\n",
        "desvio_padrao = 100\n",
        "i_tamanho = 1000\n",
        "\n",
        "a_salarios = np.array(np.random.normal(media, desvio_padrao, size = i_tamanho))\n",
        "a_salarios[:30]"
      ],
      "execution_count": null,
      "outputs": [
        {
          "output_type": "execute_result",
          "data": {
            "text/plain": [
              "array([1295.63, 1156.44, 1250.57, 1101.48, 1074.9 , 1149.93, 1032.39,\n",
              "       1151.23, 1158.81, 1182.97,  839.  , 1112.47, 1117.72, 1011.08,\n",
              "       1088.61, 1104.14,  915.72, 1162.71,  946.36,  865.97,  936.09,\n",
              "        954.29,  942.71,  908.55, 1015.57, 1051.34,  930.8 ,  994.29,\n",
              "        961.46,  903.51])"
            ]
          },
          "metadata": {
            "tags": []
          },
          "execution_count": 5
        }
      ]
    },
    {
      "cell_type": "markdown",
      "metadata": {
        "id": "Fc3a-yhViCTs"
      },
      "source": [
        "### Geração aleatória dos índices que serão (manualmente) alterados"
      ]
    },
    {
      "cell_type": "code",
      "metadata": {
        "id": "Iakt6i1cgEcB",
        "outputId": "555936b6-9a67-4220-a78f-9abf464ad966",
        "colab": {
          "base_uri": "https://localhost:8080/",
          "height": 34
        }
      },
      "source": [
        "# Lista aleatória de índices que vou alterar\n",
        "np.random.seed(19741120)\n",
        "l_indices = np.random.randint(0, i_tamanho, 10)\n",
        "\n",
        "# Estas são as posições que serão alteradas (manualmente)\n",
        "np.sort(l_indices)"
      ],
      "execution_count": 133,
      "outputs": [
        {
          "output_type": "execute_result",
          "data": {
            "text/plain": [
              "array([ 14, 105, 208, 349, 484, 567, 615, 616, 622, 847])"
            ]
          },
          "metadata": {
            "tags": []
          },
          "execution_count": 133
        }
      ]
    },
    {
      "cell_type": "markdown",
      "metadata": {
        "id": "oXwME1rciHkw"
      },
      "source": [
        "### Cópia dos salários para compararmos o ANTES e DEPOIS"
      ]
    },
    {
      "cell_type": "code",
      "metadata": {
        "id": "BEtnua7sgp_y",
        "outputId": "e7e6f685-4d47-49ba-e04e-4571617bd07f",
        "colab": {
          "base_uri": "https://localhost:8080/",
          "height": 102
        }
      },
      "source": [
        "# cópia do array a_salarios\n",
        "a_salarios_copia = a_salarios.copy()\n",
        "a_salarios_copia2 = a_salarios.copy()\n",
        "\n",
        "a_salarios[:30]"
      ],
      "execution_count": 134,
      "outputs": [
        {
          "output_type": "execute_result",
          "data": {
            "text/plain": [
              "array([ 488.91, 1227.09,  641.47,  575.7 , 1664.34, 1254.27,  931.62,\n",
              "       1550.25, 1242.86,  794.05,  924.31, 1184.53,  723.31,   46.76,\n",
              "       1336.84, 1323.31, 1480.29,  754.29, 1105.24, 1254.35,  930.3 ,\n",
              "        889.64,  954.45,  716.47,  848.33,  925.16, 1021.7 ,  978.52,\n",
              "        588.65, 1682.72])"
            ]
          },
          "metadata": {
            "tags": []
          },
          "execution_count": 134
        }
      ]
    },
    {
      "cell_type": "markdown",
      "metadata": {
        "id": "So8qj3Yrh-Az"
      },
      "source": [
        "### Alteração (manual dos salários): 2 alternativas\n",
        "> Vamos medir o tempo para avaliarmos o que é mais rápido. Qual solução é mais rápida?"
      ]
    },
    {
      "cell_type": "code",
      "metadata": {
        "id": "Z0613on8z5VH"
      },
      "source": [
        "from timeit import default_timer as timer\n",
        "from datetime import timedelta"
      ],
      "execution_count": 135,
      "outputs": []
    },
    {
      "cell_type": "code",
      "metadata": {
        "id": "NpvvholVxMhs",
        "outputId": "2f23cbcd-2667-4ec7-a2b8-6d10480d2fde",
        "colab": {
          "base_uri": "https://localhost:8080/",
          "height": 34
        }
      },
      "source": [
        "# Índices a serem alterados\n",
        "l_indices"
      ],
      "execution_count": 136,
      "outputs": [
        {
          "output_type": "execute_result",
          "data": {
            "text/plain": [
              "array([567,  14, 616, 484, 208, 105, 349, 615, 622, 847])"
            ]
          },
          "metadata": {
            "tags": []
          },
          "execution_count": 136
        }
      ]
    },
    {
      "cell_type": "markdown",
      "metadata": {
        "id": "BqXsmMdm1yF-"
      },
      "source": [
        "#### Solução 1"
      ]
    },
    {
      "cell_type": "code",
      "metadata": {
        "id": "FiiOrlnbgKOD",
        "outputId": "9c77735d-8362-455c-830b-9f0c468d1f93",
        "colab": {
          "base_uri": "https://localhost:8080/",
          "height": 34
        }
      },
      "source": [
        "# Alteração dos salários dos índices propostos\n",
        "start = timer()\n",
        "for i_indice in l_indices:\n",
        "    a_salarios_copia[i_indice] = 2*a_salarios[i_indice] # Loop para os índices a serem alterados (manualmente)\n",
        "\n",
        "end = timer()\n",
        "a_salarios_copia[:30]\n",
        "print(timedelta(seconds=end-start))"
      ],
      "execution_count": 137,
      "outputs": [
        {
          "output_type": "stream",
          "text": [
            "0:00:00.000071\n"
          ],
          "name": "stdout"
        }
      ]
    },
    {
      "cell_type": "markdown",
      "metadata": {
        "id": "FgvKC-aFzWpZ"
      },
      "source": [
        "#### Solução 2"
      ]
    },
    {
      "cell_type": "code",
      "metadata": {
        "id": "XWlQC5Jazt26",
        "outputId": "8445dc45-c409-4681-de94-84a4e7ec4957",
        "colab": {
          "base_uri": "https://localhost:8080/",
          "height": 34
        }
      },
      "source": [
        "start = timer()\n",
        "a_salarios_copia2[l_indices] = 2*a_salarios_copia2[l_indices] # Loop para os índices a serem alterados (manualmente)\n",
        "end = timer()\n",
        "a_salarios_copia2[:30]\n",
        "\n",
        "print(timedelta(seconds=end-start))"
      ],
      "execution_count": 138,
      "outputs": [
        {
          "output_type": "stream",
          "text": [
            "0:00:00.000079\n"
          ],
          "name": "stdout"
        }
      ]
    },
    {
      "cell_type": "markdown",
      "metadata": {
        "id": "U92w03afhrmC"
      },
      "source": [
        "### Compare"
      ]
    },
    {
      "cell_type": "code",
      "metadata": {
        "id": "Ls-jCFCYhtD8",
        "outputId": "9cbfe609-9393-428f-94df-ffdae2064bda",
        "colab": {
          "base_uri": "https://localhost:8080/",
          "height": 51
        }
      },
      "source": [
        "# Antes\n",
        "a_salarios[l_indices]"
      ],
      "execution_count": 139,
      "outputs": [
        {
          "output_type": "execute_result",
          "data": {
            "text/plain": [
              "array([ 614.6 , 1336.84, 1365.54, 1112.75, 1086.39,  549.15, 2017.39,\n",
              "       1065.89,  917.95, 1085.65])"
            ]
          },
          "metadata": {
            "tags": []
          },
          "execution_count": 139
        }
      ]
    },
    {
      "cell_type": "code",
      "metadata": {
        "id": "nwwU06OahzD2",
        "outputId": "6ca35eba-5e8d-46b1-a8ae-0b34608bae3f",
        "colab": {
          "base_uri": "https://localhost:8080/",
          "height": 51
        }
      },
      "source": [
        "# Depois\n",
        "a_salarios_copia[l_indices]"
      ],
      "execution_count": 140,
      "outputs": [
        {
          "output_type": "execute_result",
          "data": {
            "text/plain": [
              "array([1229.19, 2673.67, 2731.07, 2225.51, 2172.78, 1098.31, 4034.79,\n",
              "       2131.78, 1835.91, 2171.3 ])"
            ]
          },
          "metadata": {
            "tags": []
          },
          "execution_count": 140
        }
      ]
    },
    {
      "cell_type": "code",
      "metadata": {
        "id": "qyUUdHmtisJS",
        "outputId": "3963e188-69cc-4550-e1bf-23d17167f5a2",
        "colab": {
          "base_uri": "https://localhost:8080/",
          "height": 102
        }
      },
      "source": [
        "# 30 primeiras elementos de a_salarios\n",
        "a_salarios[:30]"
      ],
      "execution_count": 141,
      "outputs": [
        {
          "output_type": "execute_result",
          "data": {
            "text/plain": [
              "array([ 488.91, 1227.09,  641.47,  575.7 , 1664.34, 1254.27,  931.62,\n",
              "       1550.25, 1242.86,  794.05,  924.31, 1184.53,  723.31,   46.76,\n",
              "       1336.84, 1323.31, 1480.29,  754.29, 1105.24, 1254.35,  930.3 ,\n",
              "        889.64,  954.45,  716.47,  848.33,  925.16, 1021.7 ,  978.52,\n",
              "        588.65, 1682.72])"
            ]
          },
          "metadata": {
            "tags": []
          },
          "execution_count": 141
        }
      ]
    },
    {
      "cell_type": "code",
      "metadata": {
        "id": "CJ1FEjlCi0-n",
        "outputId": "20177975-5f0f-4b66-cf42-aa7bb2c08148",
        "colab": {
          "base_uri": "https://localhost:8080/",
          "height": 102
        }
      },
      "source": [
        "# 30 primeiras posições de a_salarios_copia\n",
        "a_salarios_copia[:30]"
      ],
      "execution_count": 142,
      "outputs": [
        {
          "output_type": "execute_result",
          "data": {
            "text/plain": [
              "array([ 488.91, 1227.09,  641.47,  575.7 , 1664.34, 1254.27,  931.62,\n",
              "       1550.25, 1242.86,  794.05,  924.31, 1184.53,  723.31,   46.76,\n",
              "       2673.67, 1323.31, 1480.29,  754.29, 1105.24, 1254.35,  930.3 ,\n",
              "        889.64,  954.45,  716.47,  848.33,  925.16, 1021.7 ,  978.52,\n",
              "        588.65, 1682.72])"
            ]
          },
          "metadata": {
            "tags": []
          },
          "execution_count": 142
        }
      ]
    },
    {
      "cell_type": "markdown",
      "metadata": {
        "id": "wKbSUgxxiOUL"
      },
      "source": [
        "### Algumas Estatísticas Descritivas:\n",
        "#### Antes"
      ]
    },
    {
      "cell_type": "code",
      "metadata": {
        "id": "ZnmykyahLWX9",
        "outputId": "90196058-0220-45d8-d87e-ab7756131fb6",
        "colab": {
          "base_uri": "https://localhost:8080/",
          "height": 35
        }
      },
      "source": [
        "f'Amostra: {i_size} Média: {np.mean(a_salarios)}; Mediana: {np.median(a_salarios)}; STD: {np.std(a_salarios)}'"
      ],
      "execution_count": 144,
      "outputs": [
        {
          "output_type": "execute_result",
          "data": {
            "application/vnd.google.colaboratory.intrinsic+json": {
              "type": "string"
            },
            "text/plain": [
              "'Amostra: 1000 Média: 1044.877512524266; Mediana: 1032.846999013294; STD: 500.9747087649826'"
            ]
          },
          "metadata": {
            "tags": []
          },
          "execution_count": 144
        }
      ]
    },
    {
      "cell_type": "markdown",
      "metadata": {
        "id": "ow7MHjgmPIty"
      },
      "source": [
        "#### Depois"
      ]
    },
    {
      "cell_type": "code",
      "metadata": {
        "id": "5iO-BAikieHJ",
        "outputId": "2e04ed85-08be-44b6-b75b-5d4ce2f292b7",
        "colab": {
          "base_uri": "https://localhost:8080/",
          "height": 35
        }
      },
      "source": [
        "f'Amostra: {i_size} Média: {np.mean(a_salarios_copia)}; Mediana: {np.median(a_salarios_copia)}; STD: {np.std(a_salarios_copia)}'"
      ],
      "execution_count": 145,
      "outputs": [
        {
          "output_type": "execute_result",
          "data": {
            "application/vnd.google.colaboratory.intrinsic+json": {
              "type": "string"
            },
            "text/plain": [
              "'Amostra: 1000 Média: 1056.0296676634293; Mediana: 1035.8622742229763; STD: 519.1113559585269'"
            ]
          },
          "metadata": {
            "tags": []
          },
          "execution_count": 145
        }
      ]
    },
    {
      "cell_type": "markdown",
      "metadata": {
        "id": "ILhNe80xW5C6"
      },
      "source": [
        "### Solução do desafio"
      ]
    },
    {
      "cell_type": "code",
      "metadata": {
        "id": "OyFbWs-APowd",
        "outputId": "9dad8981-0c5b-415a-9712-b8c77f429248",
        "colab": {
          "base_uri": "https://localhost:8080/",
          "height": 270
        }
      },
      "source": [
        "# Import a biblioteca seaborn:\n",
        "import seaborn as sns\n",
        "\n",
        "# Boxplot antes dos \"outliers\"\n",
        "sns.boxplot(y = a_salarios)"
      ],
      "execution_count": 146,
      "outputs": [
        {
          "output_type": "execute_result",
          "data": {
            "text/plain": [
              "<matplotlib.axes._subplots.AxesSubplot at 0x7f2ac9ef52b0>"
            ]
          },
          "metadata": {
            "tags": []
          },
          "execution_count": 146
        },
        {
          "output_type": "display_data",
          "data": {
            "image/png": "[encoded data removed]",
            "text/plain": [
              "<Figure size 432x288 with 1 Axes>"
            ]
          },
          "metadata": {
            "tags": [],
            "needs_background": "light"
          }
        }
      ]
    },
    {
      "cell_type": "code",
      "metadata": {
        "id": "U993i1GJg2hk",
        "outputId": "ae9aa1c4-5054-40b2-9e53-54aeaeda95fe",
        "colab": {
          "base_uri": "https://localhost:8080/",
          "height": 269
        }
      },
      "source": [
        "# Boxplot do array a_salarios_copia depois dos \"outliers\"\n",
        "sns.boxplot(y = a_salarios_copia)"
      ],
      "execution_count": 147,
      "outputs": [
        {
          "output_type": "execute_result",
          "data": {
            "text/plain": [
              "<matplotlib.axes._subplots.AxesSubplot at 0x7f2ac9ea5240>"
            ]
          },
          "metadata": {
            "tags": []
          },
          "execution_count": 147
        },
        {
          "output_type": "display_data",
          "data": {
            "image/png": "[encoded data removed]",
            "text/plain": [
              "<Figure size 432x288 with 1 Axes>"
            ]
          },
          "metadata": {
            "tags": [],
            "needs_background": "light"
          }
        }
      ]
    },
    {
      "cell_type": "markdown",
      "metadata": {
        "id": "VtenLK1uK1Pi"
      },
      "source": [
        "Consegue identificar os outliers do array?"
      ]
    },
    {
      "cell_type": "markdown",
      "metadata": {
        "id": "e3sHuGVGFBdW"
      },
      "source": [
        "## Objetivo\n",
        "> Identificar e substituir os outliers pela mediana dos dados. \n",
        "\n",
        "* Como fazer isso?"
      ]
    },
    {
      "cell_type": "markdown",
      "metadata": {
        "id": "RSegPNKCI-dS"
      },
      "source": [
        "### Siga os passos a seguir\n",
        "1. Calcule estatísticas descritivas antes das transformações par avaliar o impacto;\n",
        "    * Calcule média, mediana e desvio-padrão dos dados originais;\n",
        "2. Calcule os valores a seguir:\n",
        "    * Q1, Q3\n",
        "    * IQR = Q3-Q1\n",
        "    * lim_inferior_outlier = Q1-1.5\\*IQR\n",
        "    * lim_superior_outlier = Q3+1.5\\*IQR\n",
        "3. Proceda à substituição:\n",
        "    * Se a_salarios_copia[i] < lim_inferior_outlier então a_salarios_copia[i]= Mediana\n",
        "    * Se a_salarios_copia[i] > lim_superior_outlier então a_salarios_copia[i]= Mediana\n",
        "4. Calcule as estatísticas descritivas após as substituições e compare com os valores antes das transformações."
      ]
    },
    {
      "cell_type": "markdown",
      "metadata": {
        "id": "9DQ7YnWaFn4v"
      },
      "source": [
        "### Minha solução\n"
      ]
    },
    {
      "cell_type": "markdown",
      "metadata": {
        "id": "RBXJbTeGLC7Q"
      },
      "source": [
        "1. Estatísticas Descritivas antes das transformações:"
      ]
    },
    {
      "cell_type": "code",
      "metadata": {
        "id": "QueKYn7MLG12",
        "outputId": "75489f71-3f1e-4819-b5fe-21f134bf2b1e",
        "colab": {
          "base_uri": "https://localhost:8080/",
          "height": 35
        }
      },
      "source": [
        "# Algumas estatísticas descritivas:\n",
        "f'Média: {np.mean(a_salarios_copia)}; Mediana: {np.median(a_salarios_copia)}; STD: {np.std(a_salarios_copia)}'"
      ],
      "execution_count": null,
      "outputs": [
        {
          "output_type": "execute_result",
          "data": {
            "application/vnd.google.colaboratory.intrinsic+json": {
              "type": "string"
            },
            "text/plain": [
              "'Média: 1057.4744151862524; Mediana: 1048.089607774499; STD: 144.64306489539533'"
            ]
          },
          "metadata": {
            "tags": []
          },
          "execution_count": 35
        }
      ]
    },
    {
      "cell_type": "markdown",
      "metadata": {
        "id": "oOBJ8INWL5fo"
      },
      "source": [
        "Observe o quanto nossos dados estão distorcidos dos valores originalmente utilizados."
      ]
    },
    {
      "cell_type": "markdown",
      "metadata": {
        "id": "MX-fJeh2MBTD"
      },
      "source": [
        "2. Calcular Q1, Q3 e IQR"
      ]
    },
    {
      "cell_type": "code",
      "metadata": {
        "id": "JlsPiQeGMGeU"
      },
      "source": [
        "Q1 = np.percentile(a_salarios_copia, q = [25])\n",
        "Q3 = np.percentile(a_salarios_copia, q = [75])\n",
        "Q2 = np.percentile(a_salarios_copia, q = [50])\n",
        "p99 = np.percentile(a_salarios_copia, q = [99])\n",
        "p95 = np.percentile(a_salarios_copia, q = [95])\n",
        "\n",
        "IQR = Q3-Q1 # Diferença interquartílica\n",
        "lim_inferior_outlier = Q1-1.5*IQR\n",
        "lim_superior_outlier = Q3+1.5*IQR"
      ],
      "execution_count": 148,
      "outputs": []
    },
    {
      "cell_type": "code",
      "metadata": {
        "id": "VF2NJ3rCeI1_",
        "outputId": "34a2097c-334f-472f-9fe0-7198ea827e47",
        "colab": {
          "base_uri": "https://localhost:8080/",
          "height": 35
        }
      },
      "source": [
        "f'Q1: {Q1}; Q3: {Q3}; lim_inferior_outlier: {lim_inferior_outlier}; lim_superior_outlier: {lim_superior_outlier}'"
      ],
      "execution_count": null,
      "outputs": [
        {
          "output_type": "execute_result",
          "data": {
            "application/vnd.google.colaboratory.intrinsic+json": {
              "type": "string"
            },
            "text/plain": [
              "'Q1: [974.41]; Q3: [1119.81]; lim_inferior: [756.33]; lim_superior: [1337.89]'"
            ]
          },
          "metadata": {
            "tags": []
          },
          "execution_count": 37
        }
      ]
    },
    {
      "cell_type": "markdown",
      "metadata": {
        "id": "JjnwJ7HwMxcl"
      },
      "source": [
        "3. Substituir\n",
        "* Se a_salarios[i] < lim_inferior_outlier --> a_salarios[i] = Mediana\n",
        "* Se a_salarios[i] > lim_superior_outlier --> a_salarios[i] = Mediana"
      ]
    },
    {
      "cell_type": "code",
      "metadata": {
        "id": "hcAn-IwVfbcI"
      },
      "source": [
        "a_salarios2 = a_salarios_copia.copy()"
      ],
      "execution_count": 149,
      "outputs": []
    },
    {
      "cell_type": "code",
      "metadata": {
        "id": "M4UJY4vbRics",
        "outputId": "eb6ac1e0-de5a-4545-f955-c4794c699de2",
        "colab": {
          "base_uri": "https://localhost:8080/",
          "height": 34
        }
      },
      "source": [
        "Q2[0]"
      ],
      "execution_count": 150,
      "outputs": [
        {
          "output_type": "execute_result",
          "data": {
            "text/plain": [
              "1035.8622742229763"
            ]
          },
          "metadata": {
            "tags": []
          },
          "execution_count": 150
        }
      ]
    },
    {
      "cell_type": "code",
      "metadata": {
        "id": "J3SSE45oM9oh",
        "outputId": "0396ad3e-13a7-4680-cc05-7c497fa8e754",
        "colab": {
          "base_uri": "https://localhost:8080/",
          "height": 102
        }
      },
      "source": [
        "a_salarios2[a_salarios2 < lim_inferior_outlier[0]] = Q2[0] # Atribuição da Mediana\n",
        "a_salarios2[a_salarios2 > lim_superior_outlier[0]] = Q2[0] # Atribuição da Mediana\n",
        "a_salarios2[:30]"
      ],
      "execution_count": 151,
      "outputs": [
        {
          "output_type": "execute_result",
          "data": {
            "text/plain": [
              "array([ 488.91, 1227.09,  641.47,  575.7 , 1664.34, 1254.27,  931.62,\n",
              "       1550.25, 1242.86,  794.05,  924.31, 1184.53,  723.31,   46.76,\n",
              "       1035.86, 1323.31, 1480.29,  754.29, 1105.24, 1254.35,  930.3 ,\n",
              "        889.64,  954.45,  716.47,  848.33,  925.16, 1021.7 ,  978.52,\n",
              "        588.65, 1682.72])"
            ]
          },
          "metadata": {
            "tags": []
          },
          "execution_count": 151
        }
      ]
    },
    {
      "cell_type": "markdown",
      "metadata": {
        "id": "VEGFio0Nfj7O"
      },
      "source": [
        "4. Estatísticas Descritivas para avaliarmos o impacto das alterações na amostra:"
      ]
    },
    {
      "cell_type": "code",
      "metadata": {
        "id": "gX1LZHFqfjFQ",
        "outputId": "5b72b7fc-d5ba-4692-c1a7-b3394004004e",
        "colab": {
          "base_uri": "https://localhost:8080/",
          "height": 35
        }
      },
      "source": [
        "# Algumas estatísticas descritivas - Depois do trtamento de OUtliers:\n",
        "f'Média: {np.mean(a_salarios2)}; Mediana: {np.median(a_salarios2)}; STD: {np.std(a_salarios2)}'"
      ],
      "execution_count": null,
      "outputs": [
        {
          "output_type": "execute_result",
          "data": {
            "application/vnd.google.colaboratory.intrinsic+json": {
              "type": "string"
            },
            "text/plain": [
              "'Média: 1047.3019702056902; Mediana: 1048.089607774499; STD: 98.3265929249586'"
            ]
          },
          "metadata": {
            "tags": []
          },
          "execution_count": 43
        }
      ]
    },
    {
      "cell_type": "code",
      "metadata": {
        "id": "cSXrg2PFSYKY",
        "outputId": "fbde7b45-c3b6-4533-cfa8-34ee1cbc40b7",
        "colab": {
          "base_uri": "https://localhost:8080/",
          "height": 35
        }
      },
      "source": [
        "# Algumas estatísticas descritivas - Antes do trtamento de OUtliers:\n",
        "f'Média: {np.mean(a_salarios)}; Mediana: {np.median(a_salarios)}; STD: {np.std(a_salarios)}'"
      ],
      "execution_count": null,
      "outputs": [
        {
          "output_type": "execute_result",
          "data": {
            "application/vnd.google.colaboratory.intrinsic+json": {
              "type": "string"
            },
            "text/plain": [
              "'Média: 1047.150212238584; Mediana: 1047.631166829137; STD: 101.18708333868835'"
            ]
          },
          "metadata": {
            "tags": []
          },
          "execution_count": 44
        }
      ]
    },
    {
      "cell_type": "markdown",
      "metadata": {
        "id": "ZVc6_nsGS_J2"
      },
      "source": [
        "### Exercício: Substituir e comentar com seus respectivos colegas de grupo quando substituimos:\n",
        "* Q2[0] pela média.\n",
        "* Q2[0] pelo valor do percentil 95 e 99."
      ]
    },
    {
      "cell_type": "code",
      "metadata": {
        "id": "-xnguZ7XgyvK",
        "outputId": "48e05f4e-1b0a-4b6f-97f6-de2d49205697",
        "colab": {
          "base_uri": "https://localhost:8080/",
          "height": 269
        }
      },
      "source": [
        "# Import a biblioteca seaborn:\n",
        "import seaborn as sns\n",
        "sns.boxplot(y = a_salarios2)"
      ],
      "execution_count": 152,
      "outputs": [
        {
          "output_type": "execute_result",
          "data": {
            "text/plain": [
              "<matplotlib.axes._subplots.AxesSubplot at 0x7f2ac9ddd2e8>"
            ]
          },
          "metadata": {
            "tags": []
          },
          "execution_count": 152
        },
        {
          "output_type": "display_data",
          "data": {
            "image/png": "[encoded data removed]",
            "text/plain": [
              "<Figure size 432x288 with 1 Axes>"
            ]
          },
          "metadata": {
            "tags": [],
            "needs_background": "light"
          }
        }
      ]
    },
    {
      "cell_type": "markdown",
      "metadata": {
        "id": "uEPFcBjFhETQ"
      },
      "source": [
        "Como podem ver, os outliers desapareceram, como queríamos."
      ]
    },
    {
      "cell_type": "markdown",
      "metadata": {
        "id": "tHfzjW_ymKuR"
      },
      "source": [
        "___\n",
        "# **Valores únicos**\n",
        "> Considere o array de a_idades a seguir:"
      ]
    },
    {
      "cell_type": "code",
      "metadata": {
        "id": "HzmQgWZVmUUD",
        "outputId": "1a594c37-8240-415c-ac4f-a578bee17113",
        "colab": {
          "base_uri": "https://localhost:8080/",
          "height": 119
        }
      },
      "source": [
        "np.random.seed(20111974)\n",
        "a_idades = np.random.randint(18, 100, 100)\n",
        "a_idades"
      ],
      "execution_count": 153,
      "outputs": [
        {
          "output_type": "execute_result",
          "data": {
            "text/plain": [
              "array([78, 60, 58, 26, 45, 20, 64, 99, 98, 31, 48, 81, 97, 90, 31, 85, 51,\n",
              "       91, 95, 60, 73, 63, 59, 39, 40, 26, 80, 28, 18, 33, 27, 85, 53, 60,\n",
              "       26, 44, 23, 86, 92, 75, 58, 40, 63, 24, 99, 18, 43, 68, 98, 94, 47,\n",
              "       25, 39, 23, 70, 49, 96, 79, 68, 68, 25, 59, 21, 51, 65, 23, 34, 51,\n",
              "       37, 78, 74, 73, 71, 46, 34, 45, 40, 56, 67, 31, 22, 43, 65, 64, 36,\n",
              "       76, 19, 82, 75, 35, 38, 68, 43, 73, 91, 92, 61, 37, 73, 72])"
            ]
          },
          "metadata": {
            "tags": []
          },
          "execution_count": 153
        }
      ]
    },
    {
      "cell_type": "markdown",
      "metadata": {
        "id": "Dm9ky1F1mrNA"
      },
      "source": [
        "Quem são os valores únicos do array?"
      ]
    },
    {
      "cell_type": "code",
      "metadata": {
        "id": "G-LPRqc-mS5j",
        "outputId": "6f8e357e-066d-42f3-a09c-8733ce7fa833",
        "colab": {
          "base_uri": "https://localhost:8080/",
          "height": 85
        }
      },
      "source": [
        "np.unique(a_idades)"
      ],
      "execution_count": 154,
      "outputs": [
        {
          "output_type": "execute_result",
          "data": {
            "text/plain": [
              "array([18, 19, 20, 21, 22, 23, 24, 25, 26, 27, 28, 31, 33, 34, 35, 36, 37,\n",
              "       38, 39, 40, 43, 44, 45, 46, 47, 48, 49, 51, 53, 56, 58, 59, 60, 61,\n",
              "       63, 64, 65, 67, 68, 70, 71, 72, 73, 74, 75, 76, 78, 79, 80, 81, 82,\n",
              "       85, 86, 90, 91, 92, 94, 95, 96, 97, 98, 99])"
            ]
          },
          "metadata": {
            "tags": []
          },
          "execution_count": 154
        }
      ]
    },
    {
      "cell_type": "markdown",
      "metadata": {
        "id": "uXZZoTd6nMuq"
      },
      "source": [
        "___\n",
        "# **Diferença entre dois arrays**\n",
        "> O resultado é um array com os **valores únicos de A que não estão em B**. Na teoria de conjuntos escrevemos $A - B = A - A \\cap B$.\n",
        "\n",
        "![Difference](https://github.com/MathMachado/Materials/blob/master/set_Difference.PNG?raw=true)\n",
        "\n",
        "Fonte: [Python Set](https://www.learnbyexample.org/python-set/)"
      ]
    },
    {
      "cell_type": "markdown",
      "metadata": {
        "id": "uW6i3m9q1ZNs"
      },
      "source": [
        "\n",
        "* Vamos ver como isso funciona na prática:"
      ]
    },
    {
      "cell_type": "markdown",
      "metadata": {
        "id": "vw05sfe22mfk"
      },
      "source": [
        "## Exemplo 1"
      ]
    },
    {
      "cell_type": "code",
      "metadata": {
        "id": "Qqw2do90nQ7k"
      },
      "source": [
        "a_conjunto1 = np.array([0, 1, 2, 4, 5, 7, 8, 8]) # array de valores que serão excluidos em a_conjunto1. Observe que '3' não pertence a a_conjunto1.\n",
        "a_conjunto2 = np.array([1, 6, 7, 3])"
      ],
      "execution_count": null,
      "outputs": []
    },
    {
      "cell_type": "code",
      "metadata": {
        "id": "zXJ00pOMorM-",
        "outputId": "c3108557-ad55-45cc-f707-3af35cf456c1",
        "colab": {
          "base_uri": "https://localhost:8080/",
          "height": 35
        }
      },
      "source": [
        "np.setdiff1d(a_conjunto1, a_conjunto2)"
      ],
      "execution_count": null,
      "outputs": [
        {
          "output_type": "execute_result",
          "data": {
            "text/plain": [
              "array([0, 2, 4, 5, 8])"
            ]
          },
          "metadata": {
            "tags": []
          },
          "execution_count": 50
        }
      ]
    },
    {
      "cell_type": "markdown",
      "metadata": {
        "id": "8GXZNgjfo8lO"
      },
      "source": [
        "Observe que o resultado são os elementos de a_conjunto1 que não pertencem a x_Y. Mas como fica o '3' nesta história?"
      ]
    },
    {
      "cell_type": "markdown",
      "metadata": {
        "id": "aJSu6VKb2oc_"
      },
      "source": [
        "## Exemplo 2"
      ]
    },
    {
      "cell_type": "code",
      "metadata": {
        "id": "N1wahElXTqoB"
      },
      "source": [
        "a_conjunto1 = np.arange(10)\n",
        "a_conjunto1"
      ],
      "execution_count": null,
      "outputs": []
    },
    {
      "cell_type": "code",
      "metadata": {
        "id": "nxDpCMg7T7Rj"
      },
      "source": [
        "a_conjunto2 = np.array([1, 5, 7])\n",
        "a_conjunto2"
      ],
      "execution_count": null,
      "outputs": []
    },
    {
      "cell_type": "code",
      "metadata": {
        "id": "3LU3qYyiUXqm"
      },
      "source": [
        "np.setdiff1d(a_conjunto1, a_conjunto2)"
      ],
      "execution_count": null,
      "outputs": []
    },
    {
      "cell_type": "markdown",
      "metadata": {
        "id": "mzZEytrRUioU"
      },
      "source": [
        "Observe que os elementos de a_conjunto2 foram deletados de a_conjunto1. Ok?"
      ]
    },
    {
      "cell_type": "markdown",
      "metadata": {
        "id": "gJRcoVRUnaY9"
      },
      "source": [
        "___\n",
        "# Diferença Simétrica\n",
        "* Em teoria de conjuntos, chamamos de Diferença Simétrica e escrevemos $(A \\cup B)- (A \\cap B)$.\n",
        "\n",
        "![DifferenceSymetric](https://github.com/MathMachado/Materials/blob/master/set_DifferenceSymetric.PNG?raw=true)\n",
        "\n",
        "Fonte: [Python Set](https://www.learnbyexample.org/python-set/)"
      ]
    },
    {
      "cell_type": "markdown",
      "metadata": {
        "id": "2Uzzm85Kup3H"
      },
      "source": [
        "* Vamos ver como isso funciona na prática:"
      ]
    },
    {
      "cell_type": "code",
      "metadata": {
        "id": "1z5wZ8VwpsWN"
      },
      "source": [
        "import numpy as np\n",
        "a_conjunto1 = np.array([0, 1, 2, 4, 5, 7, 8]) # Observe que [1, 4, 7] pertencem a a_conjunto1, mas 3, não. Portanto:\n",
        "a_conjunto2 = np.array([1, 4, 7, 3])"
      ],
      "execution_count": null,
      "outputs": []
    },
    {
      "cell_type": "code",
      "metadata": {
        "id": "Tqd_9XO5p7bo",
        "outputId": "d7670965-e38f-40a1-9864-8ec850143245",
        "colab": {
          "base_uri": "https://localhost:8080/",
          "height": 35
        }
      },
      "source": [
        "np.setxor1d(a_conjunto1, a_conjunto2)"
      ],
      "execution_count": null,
      "outputs": [
        {
          "output_type": "execute_result",
          "data": {
            "text/plain": [
              "array([0, 2, 3, 5, 8])"
            ]
          },
          "metadata": {
            "tags": []
          },
          "execution_count": 52
        }
      ]
    },
    {
      "cell_type": "markdown",
      "metadata": {
        "id": "_meurG3mqS5Y"
      },
      "source": [
        "Como explicamos ou interpretamos este resultado?"
      ]
    },
    {
      "cell_type": "markdown",
      "metadata": {
        "id": "Kc8JoKe2nj2n"
      },
      "source": [
        "___\n",
        "# **União de dois arrays**\n",
        "> Retorna os valores **únicos** dos dois arrays. Na teoria dos conjuntos, escrevemos:\n",
        "\n",
        "$$A \\cup B$$\n",
        "\n",
        "![Union](https://github.com/MathMachado/Materials/blob/master/set_Union.PNG?raw=true)\n",
        "\n",
        "Fonte: [Python Set](https://www.learnbyexample.org/python-set/)"
      ]
    },
    {
      "cell_type": "code",
      "metadata": {
        "id": "1LZxorw2p2mg"
      },
      "source": [
        "a_conjunto1 = np.array([0, 1, 2, 4, 5, 7, 8, 8])\n",
        "\n",
        "# Observe que [1, 4, 7] pertencem a a_conjunto1, mas 3, não. Portanto:\n",
        "a_conjunto2 = np.array([1, 4, 7, 3])"
      ],
      "execution_count": null,
      "outputs": []
    },
    {
      "cell_type": "code",
      "metadata": {
        "id": "COsZEmSwuY5L"
      },
      "source": [
        "np.union1d(a_conjunto1, a_conjunto2)"
      ],
      "execution_count": null,
      "outputs": []
    },
    {
      "cell_type": "markdown",
      "metadata": {
        "id": "b53bR-GYRu_3"
      },
      "source": [
        "___\n",
        "# **Selecionar itens comuns dos arrays X e Y**\n",
        "* Na teoria de conjuntos, chamamos de intersecção e escrevemos $X \\cap Y$.\n",
        "\n",
        "![Intersection](https://github.com/MathMachado/Materials/blob/master/set_Intersection.PNG?raw=true)\n",
        "\n",
        "Fonte: [Python Set](https://www.learnbyexample.org/python-set/)"
      ]
    },
    {
      "cell_type": "markdown",
      "metadata": {
        "id": "n2ec2tqqR1Gw"
      },
      "source": [
        "* Considere os arrays a seguir:"
      ]
    },
    {
      "cell_type": "code",
      "metadata": {
        "id": "rXVQQvBqR4J-",
        "outputId": "c1332edd-af01-45cb-d3e1-c6e3ba30e157",
        "colab": {
          "base_uri": "https://localhost:8080/",
          "height": 35
        }
      },
      "source": [
        "a_conjunto1 = np.arange(10)\n",
        "a_conjunto1"
      ],
      "execution_count": null,
      "outputs": [
        {
          "output_type": "execute_result",
          "data": {
            "text/plain": [
              "array([0, 1, 2, 3, 4, 5, 6, 7, 8, 9])"
            ]
          },
          "metadata": {
            "tags": []
          },
          "execution_count": 53
        }
      ]
    },
    {
      "cell_type": "code",
      "metadata": {
        "id": "pZTHhHxGSRfB",
        "outputId": "2c93501a-3ed8-4297-d58e-990c529a5a3d",
        "colab": {
          "base_uri": "https://localhost:8080/",
          "height": 35
        }
      },
      "source": [
        "a_conjunto2 = np.arange(8, 18)\n",
        "a_conjunto2"
      ],
      "execution_count": null,
      "outputs": [
        {
          "output_type": "execute_result",
          "data": {
            "text/plain": [
              "array([ 8,  9, 10, 11, 12, 13, 14, 15, 16, 17])"
            ]
          },
          "metadata": {
            "tags": []
          },
          "execution_count": 54
        }
      ]
    },
    {
      "cell_type": "markdown",
      "metadata": {
        "id": "MxB2_qHpScMB"
      },
      "source": [
        "Quais são os elementos comuns à X e Y?"
      ]
    },
    {
      "cell_type": "code",
      "metadata": {
        "id": "e-rncJHtSfw0",
        "outputId": "11f0b85d-c634-419a-cc62-e0899f9cef31",
        "colab": {
          "base_uri": "https://localhost:8080/",
          "height": 35
        }
      },
      "source": [
        "np.intersect1d(a_conjunto1, a_conjunto2)"
      ],
      "execution_count": null,
      "outputs": [
        {
          "output_type": "execute_result",
          "data": {
            "text/plain": [
              "array([8, 9])"
            ]
          },
          "metadata": {
            "tags": []
          },
          "execution_count": 55
        }
      ]
    },
    {
      "cell_type": "markdown",
      "metadata": {
        "id": "3Bb39sWdfqaF"
      },
      "source": [
        "___\n",
        "# **Autovalores e Autovetores**\n",
        "> Autovetor e Autovalor são um dos tópicos mais importantes em Machine Learning.\n",
        "\n",
        "Por definição, o escalar $\\lambda$ e o vetor $v$ são autovalor e autovetor da matriz $A$ se\n",
        "\n",
        "$$Av = \\lambda v$$\n",
        "\n",
        "## Leitura Adicional:\n",
        "\n",
        "* [Machine Learning & Linear Algebra — Eigenvalue and eigenvector](https://medium.com/@jonathan_hui/machine-learning-linear-algebra-eigenvalue-and-eigenvector-f8d0493564c9)"
      ]
    },
    {
      "cell_type": "markdown",
      "metadata": {
        "id": "XZBKq8nGCUbL"
      },
      "source": [
        "* O array a_conjunto2 tem a seguinte forma:"
      ]
    },
    {
      "cell_type": "code",
      "metadata": {
        "id": "iYlZGKFUfw-R"
      },
      "source": [
        "a_conjunto2"
      ],
      "execution_count": null,
      "outputs": []
    },
    {
      "cell_type": "code",
      "metadata": {
        "id": "6EfvIbBNf02Z"
      },
      "source": [
        "# Calcula autovalores e autovetores:\n",
        "a_autovalores, a_autovalores= np.linalg.eig(a_conjunto2)"
      ],
      "execution_count": null,
      "outputs": []
    },
    {
      "cell_type": "markdown",
      "metadata": {
        "id": "v3GtQQvAz9QU"
      },
      "source": [
        "Os autovalores do array a_conjunto2 são:"
      ]
    },
    {
      "cell_type": "code",
      "metadata": {
        "id": "WvZGyBR1f9vP"
      },
      "source": [
        "a_autovalores"
      ],
      "execution_count": null,
      "outputs": []
    },
    {
      "cell_type": "markdown",
      "metadata": {
        "id": "AuuDRJVh0FC8"
      },
      "source": [
        "Os autovetores do array a_conjunto2 são:"
      ]
    },
    {
      "cell_type": "code",
      "metadata": {
        "id": "6m4YFAwsf_rA"
      },
      "source": [
        "a_autovalores"
      ],
      "execution_count": null,
      "outputs": []
    },
    {
      "cell_type": "markdown",
      "metadata": {
        "id": "DASn2Un9ZNV-"
      },
      "source": [
        "___\n",
        "# **Encontrar Missing Values (NaN)**"
      ]
    },
    {
      "cell_type": "markdown",
      "metadata": {
        "id": "TKilWBsSXtR4"
      },
      "source": [
        "## Gerar o exemplo"
      ]
    },
    {
      "cell_type": "code",
      "metadata": {
        "id": "lqLI2ER_ZUMY"
      },
      "source": [
        "np.random.seed(20111974)\n",
        "a_conjunto1 = np.random.random(100)\n",
        "\n",
        "# Inserindo 15 NaN's no array:\n",
        "np.random.seed(20111974)\n",
        "l_indices_aleatorios= np.random.randint(0, 100, size = 15)\n",
        "\n",
        "for i_indices in l_indices_aleatorios:\n",
        "    #print(i_indices)\n",
        "    a_conjunto1[i_indices] = np.nan"
      ],
      "execution_count": 155,
      "outputs": []
    },
    {
      "cell_type": "code",
      "metadata": {
        "id": "gw--poMaadv3",
        "outputId": "115842f8-f789-4ab2-dda2-17eae01d7e70",
        "colab": {
          "base_uri": "https://localhost:8080/",
          "height": 34
        }
      },
      "source": [
        "l_indices_aleatorios.sort()\n",
        "l_indices_aleatorios"
      ],
      "execution_count": 158,
      "outputs": [
        {
          "output_type": "execute_result",
          "data": {
            "text/plain": [
              "array([ 2,  8, 13, 27, 30, 40, 42, 46, 60, 80, 81, 82, 88, 88, 96])"
            ]
          },
          "metadata": {
            "tags": []
          },
          "execution_count": 158
        }
      ]
    },
    {
      "cell_type": "code",
      "metadata": {
        "id": "2ZkbMPXMawYh",
        "outputId": "7dc30b68-52c8-474c-c070-da8be55f2bf3",
        "colab": {
          "base_uri": "https://localhost:8080/",
          "height": 187
        }
      },
      "source": [
        "a_conjunto1"
      ],
      "execution_count": 157,
      "outputs": [
        {
          "output_type": "execute_result",
          "data": {
            "text/plain": [
              "array([0.53, 0.57,  nan, 0.65, 0.86, 0.6 , 0.87, 0.46,  nan, 0.64, 0.55,\n",
              "       0.35, 0.32,  nan, 0.85, 0.76, 0.66, 0.33, 0.35, 0.42, 0.31, 0.27,\n",
              "       0.31, 0.36, 0.6 , 0.02, 0.36,  nan, 0.28, 0.37,  nan, 0.44, 0.2 ,\n",
              "       0.21, 0.65, 0.82, 0.72, 0.5 , 0.17, 0.6 ,  nan, 0.14,  nan, 0.71,\n",
              "       0.07, 0.56,  nan, 0.84, 0.21, 0.85, 0.63, 0.38, 0.91, 0.34, 0.07,\n",
              "       0.1 , 0.85, 0.12, 0.94, 0.16,  nan, 0.91, 0.59, 0.37, 0.72, 0.07,\n",
              "       0.48, 0.78, 0.97, 0.72, 0.29, 0.33, 0.95, 0.24, 0.98, 0.85, 0.63,\n",
              "       0.57, 0.67, 0.88,  nan,  nan,  nan, 0.68, 0.29, 0.33, 0.98, 0.17,\n",
              "        nan, 0.92, 0.98, 0.76, 0.31, 0.97, 0.08, 0.56,  nan, 0.49, 0.07,\n",
              "       0.11])"
            ]
          },
          "metadata": {
            "tags": []
          },
          "execution_count": 157
        }
      ]
    },
    {
      "cell_type": "markdown",
      "metadata": {
        "id": "Z7Bs75NvbSjx"
      },
      "source": [
        "Ok, inserimos aleatoriamente 14 NaN's no array a_conjunto1. Agora, vamos contar quantos NaN's (já sabemos a resposta!)."
      ]
    },
    {
      "cell_type": "markdown",
      "metadata": {
        "id": "hL1Wn0vdX8ur"
      },
      "source": [
        "## Identificar os NaN's"
      ]
    },
    {
      "cell_type": "code",
      "metadata": {
        "id": "5R-n3H0xbd6d",
        "outputId": "16f7be91-47f2-4c61-dca1-6b55619f7b17",
        "colab": {
          "base_uri": "https://localhost:8080/",
          "height": 34
        }
      },
      "source": [
        "np.isnan(a_conjunto1).sum()"
      ],
      "execution_count": 159,
      "outputs": [
        {
          "output_type": "execute_result",
          "data": {
            "text/plain": [
              "14"
            ]
          },
          "metadata": {
            "tags": []
          },
          "execution_count": 159
        }
      ]
    },
    {
      "cell_type": "markdown",
      "metadata": {
        "id": "Y7hh5uowoa3U"
      },
      "source": [
        "Ok, temos 14 NaN's em a_conjunto1."
      ]
    },
    {
      "cell_type": "markdown",
      "metadata": {
        "id": "iVLQf_bqbyNU"
      },
      "source": [
        "Ok, agora eu quero saber os índices desses NaN's."
      ]
    },
    {
      "cell_type": "code",
      "metadata": {
        "id": "kJHxjZiwb5HM",
        "outputId": "f9f26416-c184-4db9-b114-6521b5a28a8d",
        "colab": {
          "base_uri": "https://localhost:8080/",
          "height": 34
        }
      },
      "source": [
        "i_indices = np.where(np.isnan(a_conjunto1))\n",
        "i_indices"
      ],
      "execution_count": 160,
      "outputs": [
        {
          "output_type": "execute_result",
          "data": {
            "text/plain": [
              "(array([ 2,  8, 13, 27, 30, 40, 42, 46, 60, 80, 81, 82, 88, 96]),)"
            ]
          },
          "metadata": {
            "tags": []
          },
          "execution_count": 160
        }
      ]
    },
    {
      "cell_type": "code",
      "metadata": {
        "id": "W_jHGNImok7L",
        "outputId": "703ea6e2-0580-4cfa-9fd0-47531b686215",
        "colab": {
          "base_uri": "https://localhost:8080/",
          "height": 34
        }
      },
      "source": [
        "# Checando...\n",
        "a_conjunto1[2]"
      ],
      "execution_count": 161,
      "outputs": [
        {
          "output_type": "execute_result",
          "data": {
            "text/plain": [
              "nan"
            ]
          },
          "metadata": {
            "tags": []
          },
          "execution_count": 161
        }
      ]
    },
    {
      "cell_type": "markdown",
      "metadata": {
        "id": "iPhHAhDYcMWO"
      },
      "source": [
        "Vamos conferir se está correto? Para isso, basta comparar com l_indices_aleatorios:"
      ]
    },
    {
      "cell_type": "markdown",
      "metadata": {
        "id": "gxQYslRCe11G"
      },
      "source": [
        "___\n",
        "# **Deletar NaN's de um array**\n",
        "> Considere o mesmo array que acabamos de trabalhar. Agora eu quero excluir os NaN's identificados."
      ]
    },
    {
      "cell_type": "code",
      "metadata": {
        "id": "AeBARFqNfNnN",
        "outputId": "bc4f82a3-0212-452d-c149-10b119903d8b",
        "colab": {
          "base_uri": "https://localhost:8080/",
          "height": 191
        }
      },
      "source": [
        "a_conjunto1"
      ],
      "execution_count": null,
      "outputs": [
        {
          "output_type": "execute_result",
          "data": {
            "text/plain": [
              "array([0.53, 0.57,  nan, 0.65, 0.86, 0.6 , 0.87, 0.46,  nan, 0.64, 0.55,\n",
              "       0.35, 0.32,  nan, 0.85, 0.76, 0.66, 0.33, 0.35, 0.42, 0.31, 0.27,\n",
              "       0.31, 0.36, 0.6 , 0.02, 0.36,  nan, 0.28, 0.37,  nan, 0.44, 0.2 ,\n",
              "       0.21, 0.65, 0.82, 0.72, 0.5 , 0.17, 0.6 ,  nan, 0.14,  nan, 0.71,\n",
              "       0.07, 0.56,  nan, 0.84, 0.21, 0.85, 0.63, 0.38, 0.91, 0.34, 0.07,\n",
              "       0.1 , 0.85, 0.12, 0.94, 0.16,  nan, 0.91, 0.59, 0.37, 0.72, 0.07,\n",
              "       0.48, 0.78, 0.97, 0.72, 0.29, 0.33, 0.95, 0.24, 0.98, 0.85, 0.63,\n",
              "       0.57, 0.67, 0.88,  nan,  nan,  nan, 0.68, 0.29, 0.33, 0.98, 0.17,\n",
              "        nan, 0.92, 0.98, 0.76, 0.31, 0.97, 0.08, 0.56,  nan, 0.49, 0.07,\n",
              "       0.11])"
            ]
          },
          "metadata": {
            "tags": []
          },
          "execution_count": 66
        }
      ]
    },
    {
      "cell_type": "code",
      "metadata": {
        "id": "ck1w6_Tvb72M",
        "outputId": "c9f3469a-5fcb-4794-882b-9a882871061f",
        "colab": {
          "base_uri": "https://localhost:8080/",
          "height": 225
        }
      },
      "source": [
        "np.isnan(a_conjunto1)"
      ],
      "execution_count": null,
      "outputs": [
        {
          "output_type": "execute_result",
          "data": {
            "text/plain": [
              "array([False, False,  True, False, False, False, False, False,  True,\n",
              "       False, False, False, False,  True, False, False, False, False,\n",
              "       False, False, False, False, False, False, False, False, False,\n",
              "        True, False, False,  True, False, False, False, False, False,\n",
              "       False, False, False, False,  True, False,  True, False, False,\n",
              "       False,  True, False, False, False, False, False, False, False,\n",
              "       False, False, False, False, False, False,  True, False, False,\n",
              "       False, False, False, False, False, False, False, False, False,\n",
              "       False, False, False, False, False, False, False, False,  True,\n",
              "        True,  True, False, False, False, False, False,  True, False,\n",
              "       False, False, False, False, False, False,  True, False, False,\n",
              "       False])"
            ]
          },
          "metadata": {
            "tags": []
          },
          "execution_count": 67
        }
      ]
    },
    {
      "cell_type": "code",
      "metadata": {
        "id": "e497B492fFru",
        "outputId": "03020338-a360-4f1f-b025-838b0738509d",
        "colab": {
          "base_uri": "https://localhost:8080/",
          "height": 156
        }
      },
      "source": [
        "a_conjunto1[~np.isnan(a_conjunto1)]"
      ],
      "execution_count": null,
      "outputs": [
        {
          "output_type": "execute_result",
          "data": {
            "text/plain": [
              "array([0.53, 0.57, 0.65, 0.86, 0.6 , 0.87, 0.46, 0.64, 0.55, 0.35, 0.32,\n",
              "       0.85, 0.76, 0.66, 0.33, 0.35, 0.42, 0.31, 0.27, 0.31, 0.36, 0.6 ,\n",
              "       0.02, 0.36, 0.28, 0.37, 0.44, 0.2 , 0.21, 0.65, 0.82, 0.72, 0.5 ,\n",
              "       0.17, 0.6 , 0.14, 0.71, 0.07, 0.56, 0.84, 0.21, 0.85, 0.63, 0.38,\n",
              "       0.91, 0.34, 0.07, 0.1 , 0.85, 0.12, 0.94, 0.16, 0.91, 0.59, 0.37,\n",
              "       0.72, 0.07, 0.48, 0.78, 0.97, 0.72, 0.29, 0.33, 0.95, 0.24, 0.98,\n",
              "       0.85, 0.63, 0.57, 0.67, 0.88, 0.68, 0.29, 0.33, 0.98, 0.17, 0.92,\n",
              "       0.98, 0.76, 0.31, 0.97, 0.08, 0.56, 0.49, 0.07, 0.11])"
            ]
          },
          "metadata": {
            "tags": []
          },
          "execution_count": 68
        }
      ]
    },
    {
      "cell_type": "markdown",
      "metadata": {
        "id": "RpvKfJU_fmA6"
      },
      "source": [
        "Observe que os NaN's foram excluidos."
      ]
    },
    {
      "cell_type": "markdown",
      "metadata": {
        "id": "60-l91_ccJxt"
      },
      "source": [
        ""
      ]
    },
    {
      "cell_type": "markdown",
      "metadata": {
        "id": "kywe-SmtcLpF"
      },
      "source": [
        "### **Exercício**: Atribuir a mediana aos valores nan da amostra."
      ]
    },
    {
      "cell_type": "markdown",
      "metadata": {
        "id": "_Dv8MmNYg8zN"
      },
      "source": [
        "___\n",
        "# **Converter lista em array**\n",
        "> Considere a lista a seguir:"
      ]
    },
    {
      "cell_type": "code",
      "metadata": {
        "id": "but6T9dVhFYb"
      },
      "source": [
        "l_Lista = [np.random.randint(0, 10, 10)]\n",
        "l_Lista"
      ],
      "execution_count": null,
      "outputs": []
    },
    {
      "cell_type": "code",
      "metadata": {
        "id": "xytj4Eo4hTh9"
      },
      "source": [
        "type(l_Lista)"
      ],
      "execution_count": null,
      "outputs": []
    },
    {
      "cell_type": "markdown",
      "metadata": {
        "id": "qrINdcruhWcH"
      },
      "source": [
        "Convertendo a minha lista para array:"
      ]
    },
    {
      "cell_type": "code",
      "metadata": {
        "id": "RoSyaX0OhZSE"
      },
      "source": [
        "a_conjunto = np.asarray(l_Lista)\n",
        "a_conjunto"
      ],
      "execution_count": null,
      "outputs": []
    },
    {
      "cell_type": "code",
      "metadata": {
        "id": "dMjTdbBUhlrk"
      },
      "source": [
        "type(a_conjunto)"
      ],
      "execution_count": null,
      "outputs": []
    },
    {
      "cell_type": "markdown",
      "metadata": {
        "id": "Mbm3ZP9DhxDI"
      },
      "source": [
        "___\n",
        "# Converter tupla em array\n",
        "> Considere a tupla a seguir:"
      ]
    },
    {
      "cell_type": "code",
      "metadata": {
        "id": "cZxEFYLAh3S_",
        "outputId": "701203e5-2a45-4dd8-d9fd-ae4fe665ce7d",
        "colab": {
          "base_uri": "https://localhost:8080/",
          "height": 34
        }
      },
      "source": [
        "np.random.seed(20111974)\n",
        "t_numeros = ([np.random.randint(0, 10, 3)], [np.random.randint(0, 10, 3)], [np.random.randint(0, 10, 3)])\n",
        "t_numeros"
      ],
      "execution_count": 162,
      "outputs": [
        {
          "output_type": "execute_result",
          "data": {
            "text/plain": [
              "([array([8, 8, 2])], [array([8, 9, 1])], [array([8, 0, 4])])"
            ]
          },
          "metadata": {
            "tags": []
          },
          "execution_count": 162
        }
      ]
    },
    {
      "cell_type": "code",
      "metadata": {
        "id": "vlTXUJviiAml",
        "outputId": "77a7e854-37de-425e-9cd5-ccfe50702954",
        "colab": {
          "base_uri": "https://localhost:8080/",
          "height": 34
        }
      },
      "source": [
        "type(t_numeros)"
      ],
      "execution_count": 163,
      "outputs": [
        {
          "output_type": "execute_result",
          "data": {
            "text/plain": [
              "tuple"
            ]
          },
          "metadata": {
            "tags": []
          },
          "execution_count": 163
        }
      ]
    },
    {
      "cell_type": "code",
      "metadata": {
        "id": "yEaOlq8oh3oh",
        "outputId": "287e061f-2a9f-461b-831d-b3844e301e7a",
        "colab": {
          "base_uri": "https://localhost:8080/",
          "height": 102
        }
      },
      "source": [
        "a_conjunto = np.asarray(t_numeros)\n",
        "a_conjunto"
      ],
      "execution_count": 164,
      "outputs": [
        {
          "output_type": "execute_result",
          "data": {
            "text/plain": [
              "array([[[8, 8, 2]],\n",
              "\n",
              "       [[8, 9, 1]],\n",
              "\n",
              "       [[8, 0, 4]]])"
            ]
          },
          "metadata": {
            "tags": []
          },
          "execution_count": 164
        }
      ]
    },
    {
      "cell_type": "code",
      "metadata": {
        "id": "PSgQDmRWh3g5",
        "outputId": "bdcf61ef-a4f5-40b2-def3-e1affcc58446",
        "colab": {
          "base_uri": "https://localhost:8080/",
          "height": 34
        }
      },
      "source": [
        "type(a_conjunto)"
      ],
      "execution_count": 165,
      "outputs": [
        {
          "output_type": "execute_result",
          "data": {
            "text/plain": [
              "numpy.ndarray"
            ]
          },
          "metadata": {
            "tags": []
          },
          "execution_count": 165
        }
      ]
    },
    {
      "cell_type": "markdown",
      "metadata": {
        "id": "pH-Ht6yMiqJN"
      },
      "source": [
        "___\n",
        "# Acrescentar elementos à um array\n",
        "> Considere o array a seguir:"
      ]
    },
    {
      "cell_type": "code",
      "metadata": {
        "id": "dFaDZInZiwoo",
        "outputId": "58f1f504-476b-4641-d24a-4ababdc366c5",
        "colab": {
          "base_uri": "https://localhost:8080/",
          "height": 34
        }
      },
      "source": [
        "a_conjunto1 = np.arange(5)\n",
        "a_conjunto1"
      ],
      "execution_count": 166,
      "outputs": [
        {
          "output_type": "execute_result",
          "data": {
            "text/plain": [
              "array([0, 1, 2, 3, 4])"
            ]
          },
          "metadata": {
            "tags": []
          },
          "execution_count": 166
        }
      ]
    },
    {
      "cell_type": "code",
      "metadata": {
        "id": "d3zrlf_Ci73Z",
        "outputId": "0329a4e8-ad8e-4faa-b200-8382e7ecda3b",
        "colab": {
          "base_uri": "https://localhost:8080/",
          "height": 34
        }
      },
      "source": [
        "np.random.seed(20111974)\n",
        "a_conjunto1 = np.append(a_conjunto1, [np.random.randint(0, 10, 3), np.random.randint(0, 10, 3), np.random.randint(0, 10, 3)])\n",
        "a_conjunto1"
      ],
      "execution_count": 167,
      "outputs": [
        {
          "output_type": "execute_result",
          "data": {
            "text/plain": [
              "array([0, 1, 2, 3, 4, 8, 8, 2, 8, 9, 1, 8, 0, 4])"
            ]
          },
          "metadata": {
            "tags": []
          },
          "execution_count": 167
        }
      ]
    },
    {
      "cell_type": "markdown",
      "metadata": {
        "id": "eFRhtk13ojqA"
      },
      "source": [
        "___\n",
        "# **Converter array 1D num array 2D**\n",
        "> Considere os arrays a seguir:"
      ]
    },
    {
      "cell_type": "code",
      "metadata": {
        "id": "wYhBgW9Zu6ZP"
      },
      "source": [
        "np.random.seed(20111974)\n",
        "a_conjunto1 = np.array(np.random.randint(0, 10, 6))\n",
        "\n",
        "np.random.seed(19741120)\n",
        "a_conjunto2 = np.array(np.random.randint(0, 10, 6))"
      ],
      "execution_count": null,
      "outputs": []
    },
    {
      "cell_type": "code",
      "metadata": {
        "id": "febs9AUHvs6n"
      },
      "source": [
        "a_conjunto1"
      ],
      "execution_count": null,
      "outputs": []
    },
    {
      "cell_type": "code",
      "metadata": {
        "id": "C9OEd-iavvBm"
      },
      "source": [
        "a_conjunto2"
      ],
      "execution_count": null,
      "outputs": []
    },
    {
      "cell_type": "code",
      "metadata": {
        "id": "KJWjtaWKv0MJ"
      },
      "source": [
        "np.column_stack((a_conjunto1, a_conjunto2)) # Atenção aos parênteses em (a_conjunto1, a_conjunto2)."
      ],
      "execution_count": null,
      "outputs": []
    },
    {
      "cell_type": "markdown",
      "metadata": {
        "id": "xr_WZXJ7pi2D"
      },
      "source": [
        "___\n",
        "# **Excluir um elemento específico do array usando indices**\n",
        "> Considere os arrays a seguir:"
      ]
    },
    {
      "cell_type": "code",
      "metadata": {
        "id": "tS0ZzOs8w0dw",
        "outputId": "92cb94a2-f2ac-4717-a4fd-b6cd3cc86f74",
        "colab": {
          "base_uri": "https://localhost:8080/",
          "height": 34
        }
      },
      "source": [
        "np.random.seed(20111974)\n",
        "a_conjunto1 = np.array(np.random.randint(0, 10, 6))\n",
        "print(a_conjunto1)"
      ],
      "execution_count": 171,
      "outputs": [
        {
          "output_type": "stream",
          "text": [
            "[8 8 2 8 9 1]\n"
          ],
          "name": "stdout"
        }
      ]
    },
    {
      "cell_type": "markdown",
      "metadata": {
        "id": "7bOJiKDKxEsC"
      },
      "source": [
        "Suponha que eu queira excluir os valores '8' de a_conjunto1. Os índices dos valores '8' são: [0, 1, 3]. Portanto, temos:"
      ]
    },
    {
      "cell_type": "code",
      "metadata": {
        "id": "SSjueEvjxTJO"
      },
      "source": [
        "a_conjunto1 = np.delete(a_conjunto1, [0, 1, 3])\n",
        "a_conjunto1"
      ],
      "execution_count": null,
      "outputs": []
    },
    {
      "cell_type": "code",
      "metadata": {
        "id": "pfqzCfhHaxsL",
        "outputId": "17d563dd-3c04-40b2-cc4c-aa5f280bd690",
        "colab": {
          "base_uri": "https://localhost:8080/",
          "height": 51
        }
      },
      "source": [
        "##alternativa para exclusão do valor 8 do array\n",
        "np.random.seed(20113374)\n",
        "a_conjunto1 = np.array(np.random.randint(0, 10, 6))\n",
        "print(a_conjunto1)\n",
        "\n",
        "#armazena os índices que contém 8\n",
        "i_indice_excl = np.where(a_conjunto1==8)\n",
        "\n",
        "#elimina elementos do array que estejam no índice\n",
        "a_conjunto1= np.delete(a_conjunto1, i_indice_excl)\n",
        "a_conjunto1"
      ],
      "execution_count": 174,
      "outputs": [
        {
          "output_type": "stream",
          "text": [
            "[3 3 8 4 5 8]\n"
          ],
          "name": "stdout"
        },
        {
          "output_type": "execute_result",
          "data": {
            "text/plain": [
              "array([3, 3, 4, 5])"
            ]
          },
          "metadata": {
            "tags": []
          },
          "execution_count": 174
        }
      ]
    },
    {
      "cell_type": "markdown",
      "metadata": {
        "id": "mZkGZ2Rgp--5"
      },
      "source": [
        "___\n",
        "# **Frequência dos valores únicos de um array**\n",
        "> Considere o array a seguir:"
      ]
    },
    {
      "cell_type": "code",
      "metadata": {
        "id": "Z2BWKfH0xvQ8",
        "outputId": "169b34a0-56d6-48ea-cffe-fbd7a757372c",
        "colab": {
          "base_uri": "https://localhost:8080/",
          "height": 104
        }
      },
      "source": [
        "np.random.seed(20111974)\n",
        "a_conjunto1 = np.array(np.random.randint(0, 10, 100))\n",
        "a_conjunto1"
      ],
      "execution_count": null,
      "outputs": [
        {
          "output_type": "execute_result",
          "data": {
            "text/plain": [
              "array([8, 8, 2, 8, 9, 1, 8, 0, 4, 2, 0, 8, 9, 3, 7, 1, 3, 2, 9, 7, 7, 9,\n",
              "       5, 6, 8, 7, 0, 9, 3, 9, 3, 1, 8, 6, 3, 5, 4, 1, 2, 9, 8, 6, 6, 1,\n",
              "       0, 9, 2, 0, 7, 5, 5, 4, 4, 2, 7, 2, 7, 9, 3, 1, 5, 0, 1, 2, 3, 8,\n",
              "       7, 5, 4, 0, 5, 9, 6, 6, 1, 3, 6, 0, 4, 9, 2, 1, 0, 9, 1, 4, 2, 9,\n",
              "       7, 9, 5, 3, 7, 6, 3, 9, 8, 4, 3, 0])"
            ]
          },
          "metadata": {
            "tags": []
          },
          "execution_count": 69
        }
      ]
    },
    {
      "cell_type": "markdown",
      "metadata": {
        "id": "s_tdQBsax4rQ"
      },
      "source": [
        "Suponha que eu queira saber quantas vezes o número/elemento '2' aparece em a_conjunto1."
      ]
    },
    {
      "cell_type": "code",
      "metadata": {
        "id": "JhsN15T5cm55"
      },
      "source": [
        "a = np.unique()"
      ],
      "execution_count": null,
      "outputs": []
    },
    {
      "cell_type": "code",
      "metadata": {
        "id": "6yIlk7pWyAtf",
        "outputId": "31d8d842-d6c2-4955-a3ed-76ec3badac9a",
        "colab": {
          "base_uri": "https://localhost:8080/",
          "height": 35
        }
      },
      "source": [
        "l_itens_unicos, i_count = np.unique(a_conjunto1, return_counts = True)\n",
        "l_itens_unicos"
      ],
      "execution_count": null,
      "outputs": [
        {
          "output_type": "execute_result",
          "data": {
            "text/plain": [
              "array([0, 1, 2, 3, 4, 5, 6, 7, 8, 9])"
            ]
          },
          "metadata": {
            "tags": []
          },
          "execution_count": 70
        }
      ]
    },
    {
      "cell_type": "markdown",
      "metadata": {
        "id": "DyvrIwS9yZIR"
      },
      "source": [
        "O que significa o output acima?"
      ]
    },
    {
      "cell_type": "code",
      "metadata": {
        "id": "uO-MPMhXyV9H",
        "outputId": "0cb620a1-d0ac-46b5-f379-9b0b563fdd71",
        "colab": {
          "base_uri": "https://localhost:8080/",
          "height": 35
        }
      },
      "source": [
        "i_count"
      ],
      "execution_count": null,
      "outputs": [
        {
          "output_type": "execute_result",
          "data": {
            "text/plain": [
              "array([10, 10, 10, 11,  8,  8,  8, 10, 10, 15])"
            ]
          },
          "metadata": {
            "tags": []
          },
          "execution_count": 71
        }
      ]
    },
    {
      "cell_type": "markdown",
      "metadata": {
        "id": "zwoezXrPyofK"
      },
      "source": [
        "Qual a interpretação do output acima?"
      ]
    },
    {
      "cell_type": "code",
      "metadata": {
        "id": "HgYycSG7yr5e",
        "outputId": "2091104b-45db-4d13-d65e-80d8af3acd7f",
        "colab": {
          "base_uri": "https://localhost:8080/",
          "height": 52
        }
      },
      "source": [
        "np.asarray((l_itens_unicos, i_count))"
      ],
      "execution_count": null,
      "outputs": [
        {
          "output_type": "execute_result",
          "data": {
            "text/plain": [
              "array([[ 0,  1,  2,  3,  4,  5,  6,  7,  8,  9],\n",
              "       [10, 10, 10, 11,  8,  8,  8, 10, 10, 15]])"
            ]
          },
          "metadata": {
            "tags": []
          },
          "execution_count": 72
        }
      ]
    },
    {
      "cell_type": "markdown",
      "metadata": {
        "id": "SwIZiJAiy06T"
      },
      "source": [
        "Qual a interpretação do output acima?"
      ]
    },
    {
      "cell_type": "markdown",
      "metadata": {
        "id": "JpNRpN2Dql3N"
      },
      "source": [
        "___\n",
        "# **Combinações possíveis de outros arrays**\n",
        "> Considere o exemplo a seguir:\n"
      ]
    },
    {
      "cell_type": "code",
      "metadata": {
        "id": "BUr89dH4zLXD"
      },
      "source": [
        "a_conjunto1 = [2, 4, 6]\n",
        "a_conjunto2 = [0, 8]\n",
        "a_conjunto4 = [1, 5]"
      ],
      "execution_count": null,
      "outputs": []
    },
    {
      "cell_type": "code",
      "metadata": {
        "id": "cEZH6l-Czx7y"
      },
      "source": [
        "np.meshgrid(a_conjunto1, a_conjunto2, a_conjunto4)"
      ],
      "execution_count": null,
      "outputs": []
    },
    {
      "cell_type": "code",
      "metadata": {
        "id": "btvmDkEcz0tH"
      },
      "source": [
        "np.array(np.meshgrid(a_conjunto1, a_conjunto2, a_conjunto4))"
      ],
      "execution_count": null,
      "outputs": []
    },
    {
      "cell_type": "code",
      "metadata": {
        "id": "Z0xhO7rGz059"
      },
      "source": [
        "np.array(np.meshgrid(a_conjunto1, a_conjunto2, a_conjunto4)).T"
      ],
      "execution_count": null,
      "outputs": []
    },
    {
      "cell_type": "code",
      "metadata": {
        "id": "eMv4lFnD0Enn"
      },
      "source": [
        "# Resultado final\n",
        "a_conjunto3 = np.array(np.meshgrid(a_conjunto1, a_conjunto2, a_conjunto4)).T.reshape(-1,3)\n",
        "a_conjunto3"
      ],
      "execution_count": null,
      "outputs": []
    },
    {
      "cell_type": "markdown",
      "metadata": {
        "id": "Rz80YANfAh2k"
      },
      "source": [
        "___\n",
        "# **Wrap Up**"
      ]
    },
    {
      "cell_type": "markdown",
      "metadata": {
        "id": "_cyhMsAVXxGC"
      },
      "source": [
        "___\n",
        "# **Exercícios**"
      ]
    },
    {
      "cell_type": "markdown",
      "metadata": {
        "id": "kNjovMw3uJ3R"
      },
      "source": [
        "## Exercício 1 - Selecionar os números pares\n",
        "> Dado o 1D array abaixo, selecionar somente os números pares."
      ]
    },
    {
      "cell_type": "code",
      "metadata": {
        "id": "bRA8nKHBbPAD",
        "outputId": "849729a5-2223-4118-d34d-e2529f2bce9f",
        "colab": {
          "base_uri": "https://localhost:8080/",
          "height": 85
        }
      },
      "source": [
        "#criar array com 20 elementos variando de 2 a 100\n",
        "a_cj1 = np.random.randint(2,100,20)\n",
        "a_cj1.sort()\n",
        "print(a_cj1)\n",
        "#seleciona os índices pares\n",
        "i_ind_pares = np.where(a_cj1 % 2 ==0)\n",
        "print(i_ind_pares)\n",
        "#imprime elementos com índices pares\n",
        "print(a_cj1[i_ind_pares])\n",
        "#executando de modo direto\n",
        "print(a_cj1[np.where(a_cj1 % 2 ==0)])"
      ],
      "execution_count": 178,
      "outputs": [
        {
          "output_type": "stream",
          "text": [
            "[ 3  7  8 13 14 20 20 26 32 33 39 42 43 46 57 57 61 67 85 92]\n",
            "(array([ 2,  4,  5,  6,  7,  8, 11, 13, 19]),)\n",
            "[ 8 14 20 20 26 32 42 46 92]\n",
            "[ 8 14 20 20 26 32 42 46 92]\n"
          ],
          "name": "stdout"
        }
      ]
    },
    {
      "cell_type": "code",
      "metadata": {
        "id": "isDzQjwjBX3V"
      },
      "source": [
        "a_conjunto1 = np.array([0, 1, 2, 3, 4, 5, 6, 7, 8, 9])\n",
        "a_conjunto1"
      ],
      "execution_count": null,
      "outputs": []
    },
    {
      "cell_type": "markdown",
      "metadata": {
        "id": "Kq1zt-uO1HXv"
      },
      "source": [
        "### **Minha solução**"
      ]
    },
    {
      "cell_type": "code",
      "metadata": {
        "id": "YFmK_n2M1Ks9"
      },
      "source": [
        "a_conjunto1[a_conjunto1 % 2 == 0]"
      ],
      "execution_count": null,
      "outputs": []
    },
    {
      "cell_type": "markdown",
      "metadata": {
        "id": "sScYG0hp05vb"
      },
      "source": [
        "___\n",
        "## Exercício 2 - Substituir pela mediana\n",
        "> Dado o array 1D abaixo, substituir os números pares pela mediana de a_conjunto1."
      ]
    },
    {
      "cell_type": "code",
      "metadata": {
        "id": "g-Yq251IcQF9",
        "outputId": "2e0e249e-9b4b-4178-d092-47bf85ff9cb6",
        "colab": {
          "base_uri": "https://localhost:8080/",
          "height": 102
        }
      },
      "source": [
        "#criar array com 20 elementos variando de 2 a 100\n",
        "a_cj1 = np.random.randint(2,100,20)\n",
        "a_cj1.sort()\n",
        "print(a_cj1)\n",
        "#seleciona os índices pares\n",
        "i_ind_pares = np.where(a_cj1 % 2 ==0)\n",
        "print(i_ind_pares)\n",
        "\n",
        "#substituindo pares por mediana\n",
        "#i_mediana = np.median(a_cj1)\n",
        "print(f'Mediana {i_mediana}')\n",
        "\n",
        "#a_cj1[i_ind_pares] = i_mediana\n",
        "\n",
        "#imprime elementos com índices pares\n",
        "#print(a_cj1[i_ind_pares])\n",
        "#print(a_cj1)\n",
        "\n",
        "#executando de modo direto\n",
        "a_cj1[np.where(a_cj1 % 2 ==0)] = np.median(a_cj1)\n",
        "print(a_cj1[i_ind_pares])\n",
        "print(a_cj1)\n"
      ],
      "execution_count": 182,
      "outputs": [
        {
          "output_type": "stream",
          "text": [
            "[ 2 11 11 24 27 30 33 39 42 44 53 67 67 73 76 83 83 85 89 90]\n",
            "(array([ 0,  3,  5,  8,  9, 14, 19]),)\n",
            "Mediana 48.5\n",
            "[48 48 48 48 48 48 48]\n",
            "[48 11 11 48 27 48 33 39 48 48 53 67 67 73 48 83 83 85 89 48]\n"
          ],
          "name": "stdout"
        }
      ]
    },
    {
      "cell_type": "code",
      "metadata": {
        "id": "XLZ-DIWU1WFs"
      },
      "source": [
        "a_conjunto1 = np.array([0, 1, 2, 3, 4, 5, 6, 7, 8, 9])\n",
        "a_conjunto1"
      ],
      "execution_count": null,
      "outputs": []
    },
    {
      "cell_type": "markdown",
      "metadata": {
        "id": "9c4QWJno1WVB"
      },
      "source": [
        "### **Minha solução**\n",
        "* Primeiramente, precisamos calcular a mediana.\n",
        "* Depois, substituimos os valores pares de a_conjunto1 pela mediana encontrada anteriormente. Ok?"
      ]
    },
    {
      "cell_type": "code",
      "metadata": {
        "id": "rx7NGAO01Wfb"
      },
      "source": [
        "a_conjunto1[a_conjunto1 % 2 == 0] = np.median(a_conjunto1)\n",
        "a_conjunto1"
      ],
      "execution_count": null,
      "outputs": []
    },
    {
      "cell_type": "markdown",
      "metadata": {
        "id": "2c_AphX82qp8"
      },
      "source": [
        "Verificando..."
      ]
    },
    {
      "cell_type": "code",
      "metadata": {
        "id": "9kVta0Cr13Z9"
      },
      "source": [
        "f'A média de a_conjunto1 é: {np.median(a_conjunto1)}'"
      ],
      "execution_count": null,
      "outputs": []
    },
    {
      "cell_type": "markdown",
      "metadata": {
        "id": "L9O-Hf5x26TY"
      },
      "source": [
        "___\n",
        "## Exercício 3 - Reshape\n",
        "> Dado o array 1D abaixo, reshape para um array 2D com 3 colunas."
      ]
    },
    {
      "cell_type": "code",
      "metadata": {
        "id": "0_laUvtB4Wl-"
      },
      "source": [
        "# Define seed\n",
        "np.random.seed(20111974)\n",
        "a_conjunto1 = np.array(np.random.randint(1, 10, size = 15))\n",
        "a_conjunto1"
      ],
      "execution_count": null,
      "outputs": []
    },
    {
      "cell_type": "markdown",
      "metadata": {
        "id": "dKzEX8TK5b4Z"
      },
      "source": [
        "### **Minha solução**\n",
        "* O array 1D a_conjunto1 acima possui 15 elementos. Como queremos transformá-lo num array 2D com 3 colunas, então cada coluna terá 5 elementos."
      ]
    },
    {
      "cell_type": "code",
      "metadata": {
        "id": "I-j5yVD04249"
      },
      "source": [
        "a_conjunto1.reshape(5, 3) \n",
        "# Poderia ser a_conjunto1.reshape(-1, 3), onde \"-1\" pede para o NumPy calcular o número de linhas. "
      ],
      "execution_count": null,
      "outputs": []
    },
    {
      "cell_type": "markdown",
      "metadata": {
        "id": "F1vfS8jE6L0_"
      },
      "source": [
        "___\n",
        "## Exercício 4 - Reshape\n",
        "> Dado o array 1D abaixo, reshape para um array 3D com 2 colunas."
      ]
    },
    {
      "cell_type": "code",
      "metadata": {
        "id": "xcN-bez56L1D"
      },
      "source": [
        "# Define seed\n",
        "np.random.seed(20111974)\n",
        "a_conjunto1 = np.array(np.random.randint(1, 10, size = 16))\n",
        "a_conjunto1"
      ],
      "execution_count": null,
      "outputs": []
    },
    {
      "cell_type": "markdown",
      "metadata": {
        "id": "7iICnOyG6fcj"
      },
      "source": [
        "### **Minha solução**\n",
        "* O array 1D a_conjunto1 acima possui 16 elementos. Queremos transformá-lo num array 3D com 2 colunas."
      ]
    },
    {
      "cell_type": "code",
      "metadata": {
        "id": "vdq5ybuD6fcn"
      },
      "source": [
        "a_conjunto1.reshape(-1, 2) # O valor \"-1\" na posição das linhas pede ao NumPy para calcular o número de linhas automaticamente."
      ],
      "execution_count": null,
      "outputs": []
    },
    {
      "cell_type": "markdown",
      "metadata": {
        "id": "haQfWPcCs_H0"
      },
      "source": [
        "## Exercício 5\n",
        "Para mais exercícios envolvendo arrays, visite a página [Python: Array Exercises, Practice, Solution](https://www.w3resource.com/python-exercises/array/)."
      ]
    },
    {
      "cell_type": "markdown",
      "metadata": {
        "id": "LQQL0JS2tnc0"
      },
      "source": [
        "## Exercício 6\n",
        "Para mais exercícios envolvendo matemática, viste a página [Python Math: - Exercises, Practice, Solution](https://www.w3resource.com/python-exercises/math/index.php)."
      ]
    },
    {
      "cell_type": "markdown",
      "metadata": {
        "id": "qNskKFy9t4D5"
      },
      "source": [
        "## Exercício 7\n",
        "Para mais exercícios envolvendo NumPy em geral, visite a página [NumPy Exercises, Practice, Solution](https://www.w3resource.com/python-exercises/numpy/index.php)."
      ]
    },
    {
      "cell_type": "markdown",
      "metadata": {
        "id": "qqc1AiHXuKZ5"
      },
      "source": [
        "## Exercício 8\n"
      ]
    }
  ]
}