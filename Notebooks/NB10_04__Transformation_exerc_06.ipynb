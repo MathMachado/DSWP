{
  "nbformat": 4,
  "nbformat_minor": 0,
  "metadata": {
    "colab": {
      "name": "NB10_04__Transformation_exerc_06",
      "provenance": [],
      "mount_file_id": "1pTohphWptoQRHiBQUOXNixwqO7DbSR4E",
      "authorship_tag": "ABX9TyP+n2fWrUgumzu+U5iYVBI5",
      "include_colab_link": true
    },
    "kernelspec": {
      "name": "python3",
      "display_name": "Python 3"
    }
  },
  "cells": [
    {
      "cell_type": "markdown",
      "metadata": {
        "id": "view-in-github",
        "colab_type": "text"
      },
      "source": [
        "<a href=\"https://colab.research.google.com/github/cristianopoeta/DSWP/blob/master/Notebooks/NB10_04__Transformation_exerc_06.ipynb\" target=\"_parent\"><img src=\"https://colab.research.google.com/assets/colab-badge.svg\" alt=\"Open In Colab\"/></a>"
      ]
    },
    {
      "cell_type": "markdown",
      "metadata": {
        "id": "acidgJrDr7oT"
      },
      "source": [
        "# Exercícios 6 - 120 years of Olympic history: athletes and results\n",
        "* [120 years of Olympic history: athletes and results](https://www.kaggle.com/heesoo37/120-years-of-olympic-history-athletes-and-results)\n",
        "    * Trate adequadamente as variáveis 'sex', 'season', 'team', 'city', 'sport' e 'medal';\n",
        "    * Aplique as transformações que acabamos de estudar nos campos/colunas numéricas 'height' e 'weight'. Cuidado com os Missing Values contidos nas variáveis!\n",
        "    * Verifique/avalie o impacto dos outliers nestas colunas.\n",
        "    * Neste caso, qual transformação é mais adequado diante dos outliers?"
      ]
    },
    {
      "cell_type": "code",
      "metadata": {
        "id": "M5nY7KXR-YQq"
      },
      "source": [
        "import re\n",
        "import numpy as np\n",
        "import pandas as pd\n",
        "import seaborn as sns\n",
        "import matplotlib.pyplot as plt\n",
        "from IPython.display import Markdown"
      ],
      "execution_count": 2,
      "outputs": []
    },
    {
      "cell_type": "code",
      "metadata": {
        "id": "YZ5SscdcA9R2"
      },
      "source": [
        "pdod = pd.options.display    # atalho para opções de exibição\n",
        "pdod.max_rows = 100          # qtd máx de linhas exibidas\n",
        "pdod.max_columns = 100       # qtd máx de colunas exibidas\n",
        "pdod.width = 200             # larg máx total em modo texto"
      ],
      "execution_count": 3,
      "outputs": []
    },
    {
      "cell_type": "code",
      "metadata": {
        "id": "F9dci7f3Apdk"
      },
      "source": [
        "# retorna para cada coluna de `frame`: nome da coluna, valor de exemplo, \n",
        "#     dtype da coluna, classe do valor de exemplo\n",
        "# valor de exemplo é tomado na linha de `frame` indicada por `iloc`\n",
        "def exemplo_linha(frame, iloc=0):\n",
        "  df_info = pd.DataFrame(dict(valor_exemplo=frame.iloc[iloc].copy()))\n",
        "  df_info['dtype_coluna'] = frame.dtypes.map(lambda x: x.name)\n",
        "  df_info['classe_valor'] = df_info['valor_exemplo'].map(lambda x: x.__class__.__name__)\n",
        "  df_info.index.name = 'nome_coluna'\n",
        "  return df_info"
      ],
      "execution_count": 4,
      "outputs": []
    },
    {
      "cell_type": "code",
      "metadata": {
        "id": "QCsCgqV0_88W"
      },
      "source": [
        "# `obj` pode ser DataFrame ou Series.\n",
        "# se `filtros` for `None`, exibe primeiras `nh` posições, últimas `nt` posições \n",
        "#     e `shape` de `obj`.\n",
        "# se `filtros` não for `None`, deve ser um iterável com elemntos que possam ser \n",
        "#     utilizados em `obj.loc[]` (funções de filtragem são uma boa opção).\n",
        "def d_pd(obj, nh=1, nt=None, filtros=None):\n",
        "    if nt is None:\n",
        "        nt = nh\n",
        "    if filtros is None:\n",
        "        display(pd.concat([obj.head(nh), obj.tail(nt)]), obj.shape)\n",
        "    else:\n",
        "        for filtro in filtros:\n",
        "            display(obj.loc[filtro])\n",
        "        display(obj.shape)"
      ],
      "execution_count": 5,
      "outputs": []
    },
    {
      "cell_type": "code",
      "metadata": {
        "id": "pJrkHjtvrm7C",
        "outputId": "fbdb2159-bead-42ad-a9dc-89272961df47",
        "colab": {
          "base_uri": "https://localhost:8080/",
          "height": 34
        }
      },
      "source": [
        "from google.colab import drive\n",
        "drive.mount('/content/drive')"
      ],
      "execution_count": 6,
      "outputs": [
        {
          "output_type": "stream",
          "text": [
            "Drive already mounted at /content/drive; to attempt to forcibly remount, call drive.mount(\"/content/drive\", force_remount=True).\n"
          ],
          "name": "stdout"
        }
      ]
    },
    {
      "cell_type": "code",
      "metadata": {
        "id": "V69kPGlPrckM",
        "outputId": "f016a208-b993-44f2-f716-c31e48402138",
        "colab": {
          "base_uri": "https://localhost:8080/",
          "height": 158
        }
      },
      "source": [
        "df_olimp = pd.read_csv('/content/drive/My Drive/DSWP/athlete_events.csv')\n",
        "d_pd(df_olimp)"
      ],
      "execution_count": 7,
      "outputs": [
        {
          "output_type": "display_data",
          "data": {
            "text/html": [
              "<div>\n",
              "<style scoped>\n",
              "    .dataframe tbody tr th:only-of-type {\n",
              "        vertical-align: middle;\n",
              "    }\n",
              "\n",
              "    .dataframe tbody tr th {\n",
              "        vertical-align: top;\n",
              "    }\n",
              "\n",
              "    .dataframe thead th {\n",
              "        text-align: right;\n",
              "    }\n",
              "</style>\n",
              "<table border=\"1\" class=\"dataframe\">\n",
              "  <thead>\n",
              "    <tr style=\"text-align: right;\">\n",
              "      <th></th>\n",
              "      <th>ID</th>\n",
              "      <th>Name</th>\n",
              "      <th>Sex</th>\n",
              "      <th>Age</th>\n",
              "      <th>Height</th>\n",
              "      <th>Weight</th>\n",
              "      <th>Team</th>\n",
              "      <th>NOC</th>\n",
              "      <th>Games</th>\n",
              "      <th>Year</th>\n",
              "      <th>Season</th>\n",
              "      <th>City</th>\n",
              "      <th>Sport</th>\n",
              "      <th>Event</th>\n",
              "      <th>Medal</th>\n",
              "    </tr>\n",
              "  </thead>\n",
              "  <tbody>\n",
              "    <tr>\n",
              "      <th>0</th>\n",
              "      <td>1</td>\n",
              "      <td>A Dijiang</td>\n",
              "      <td>M</td>\n",
              "      <td>24.0</td>\n",
              "      <td>180.0</td>\n",
              "      <td>80.0</td>\n",
              "      <td>China</td>\n",
              "      <td>CHN</td>\n",
              "      <td>1992 Summer</td>\n",
              "      <td>1992</td>\n",
              "      <td>Summer</td>\n",
              "      <td>Barcelona</td>\n",
              "      <td>Basketball</td>\n",
              "      <td>Basketball Men's Basketball</td>\n",
              "      <td>NaN</td>\n",
              "    </tr>\n",
              "    <tr>\n",
              "      <th>271115</th>\n",
              "      <td>135571</td>\n",
              "      <td>Tomasz Ireneusz ya</td>\n",
              "      <td>M</td>\n",
              "      <td>34.0</td>\n",
              "      <td>185.0</td>\n",
              "      <td>96.0</td>\n",
              "      <td>Poland</td>\n",
              "      <td>POL</td>\n",
              "      <td>2002 Winter</td>\n",
              "      <td>2002</td>\n",
              "      <td>Winter</td>\n",
              "      <td>Salt Lake City</td>\n",
              "      <td>Bobsleigh</td>\n",
              "      <td>Bobsleigh Men's Four</td>\n",
              "      <td>NaN</td>\n",
              "    </tr>\n",
              "  </tbody>\n",
              "</table>\n",
              "</div>"
            ],
            "text/plain": [
              "            ID                Name Sex   Age  Height  Weight    Team  NOC        Games  Year  Season            City       Sport                        Event Medal\n",
              "0            1           A Dijiang   M  24.0   180.0    80.0   China  CHN  1992 Summer  1992  Summer       Barcelona  Basketball  Basketball Men's Basketball   NaN\n",
              "271115  135571  Tomasz Ireneusz ya   M  34.0   185.0    96.0  Poland  POL  2002 Winter  2002  Winter  Salt Lake City   Bobsleigh         Bobsleigh Men's Four   NaN"
            ]
          },
          "metadata": {
            "tags": []
          }
        },
        {
          "output_type": "display_data",
          "data": {
            "text/plain": [
              "(271116, 15)"
            ]
          },
          "metadata": {
            "tags": []
          }
        }
      ]
    },
    {
      "cell_type": "code",
      "metadata": {
        "id": "Si-UcTSqz_Rz",
        "outputId": "b995da1f-e65b-4249-aaea-7e038ba93f1b",
        "colab": {
          "base_uri": "https://localhost:8080/",
          "height": 154
        }
      },
      "source": [
        "exemplo_linha(df_olimp).T"
      ],
      "execution_count": 8,
      "outputs": [
        {
          "output_type": "execute_result",
          "data": {
            "text/html": [
              "<div>\n",
              "<style scoped>\n",
              "    .dataframe tbody tr th:only-of-type {\n",
              "        vertical-align: middle;\n",
              "    }\n",
              "\n",
              "    .dataframe tbody tr th {\n",
              "        vertical-align: top;\n",
              "    }\n",
              "\n",
              "    .dataframe thead th {\n",
              "        text-align: right;\n",
              "    }\n",
              "</style>\n",
              "<table border=\"1\" class=\"dataframe\">\n",
              "  <thead>\n",
              "    <tr style=\"text-align: right;\">\n",
              "      <th>nome_coluna</th>\n",
              "      <th>ID</th>\n",
              "      <th>Name</th>\n",
              "      <th>Sex</th>\n",
              "      <th>Age</th>\n",
              "      <th>Height</th>\n",
              "      <th>Weight</th>\n",
              "      <th>Team</th>\n",
              "      <th>NOC</th>\n",
              "      <th>Games</th>\n",
              "      <th>Year</th>\n",
              "      <th>Season</th>\n",
              "      <th>City</th>\n",
              "      <th>Sport</th>\n",
              "      <th>Event</th>\n",
              "      <th>Medal</th>\n",
              "    </tr>\n",
              "  </thead>\n",
              "  <tbody>\n",
              "    <tr>\n",
              "      <th>valor_exemplo</th>\n",
              "      <td>1</td>\n",
              "      <td>A Dijiang</td>\n",
              "      <td>M</td>\n",
              "      <td>24</td>\n",
              "      <td>180</td>\n",
              "      <td>80</td>\n",
              "      <td>China</td>\n",
              "      <td>CHN</td>\n",
              "      <td>1992 Summer</td>\n",
              "      <td>1992</td>\n",
              "      <td>Summer</td>\n",
              "      <td>Barcelona</td>\n",
              "      <td>Basketball</td>\n",
              "      <td>Basketball Men's Basketball</td>\n",
              "      <td>NaN</td>\n",
              "    </tr>\n",
              "    <tr>\n",
              "      <th>dtype_coluna</th>\n",
              "      <td>int64</td>\n",
              "      <td>object</td>\n",
              "      <td>object</td>\n",
              "      <td>float64</td>\n",
              "      <td>float64</td>\n",
              "      <td>float64</td>\n",
              "      <td>object</td>\n",
              "      <td>object</td>\n",
              "      <td>object</td>\n",
              "      <td>int64</td>\n",
              "      <td>object</td>\n",
              "      <td>object</td>\n",
              "      <td>object</td>\n",
              "      <td>object</td>\n",
              "      <td>object</td>\n",
              "    </tr>\n",
              "    <tr>\n",
              "      <th>classe_valor</th>\n",
              "      <td>int64</td>\n",
              "      <td>str</td>\n",
              "      <td>str</td>\n",
              "      <td>float64</td>\n",
              "      <td>float64</td>\n",
              "      <td>float64</td>\n",
              "      <td>str</td>\n",
              "      <td>str</td>\n",
              "      <td>str</td>\n",
              "      <td>int64</td>\n",
              "      <td>str</td>\n",
              "      <td>str</td>\n",
              "      <td>str</td>\n",
              "      <td>str</td>\n",
              "      <td>float</td>\n",
              "    </tr>\n",
              "  </tbody>\n",
              "</table>\n",
              "</div>"
            ],
            "text/plain": [
              "nome_coluna       ID       Name     Sex      Age   Height   Weight    Team     NOC        Games   Year  Season       City       Sport                        Event   Medal\n",
              "valor_exemplo      1  A Dijiang       M       24      180       80   China     CHN  1992 Summer   1992  Summer  Barcelona  Basketball  Basketball Men's Basketball     NaN\n",
              "dtype_coluna   int64     object  object  float64  float64  float64  object  object       object  int64  object     object      object                       object  object\n",
              "classe_valor   int64        str     str  float64  float64  float64     str     str          str  int64     str        str         str                          str   float"
            ]
          },
          "metadata": {
            "tags": []
          },
          "execution_count": 8
        }
      ]
    },
    {
      "cell_type": "code",
      "metadata": {
        "id": "cKnkjIkf0jVI"
      },
      "source": [
        "df_olimp.set_axis(df_olimp.columns.str.lower(), axis=1, inplace=True)"
      ],
      "execution_count": 9,
      "outputs": []
    },
    {
      "cell_type": "code",
      "metadata": {
        "id": "KLBdAuPg1CKR"
      },
      "source": [
        "df_vars = df_olimp[[ 'sex', 'season', 'team', 'city', 'sport', 'medal']]"
      ],
      "execution_count": 10,
      "outputs": []
    },
    {
      "cell_type": "code",
      "metadata": {
        "id": "mzQfJ53X0L_1",
        "outputId": "a180d20f-3f9f-4777-ad8b-0788f4dc08c5",
        "colab": {
          "base_uri": "https://localhost:8080/",
          "height": 245
        }
      },
      "source": [
        "d_pd(df_vars, 3)"
      ],
      "execution_count": 11,
      "outputs": [
        {
          "output_type": "display_data",
          "data": {
            "text/html": [
              "<div>\n",
              "<style scoped>\n",
              "    .dataframe tbody tr th:only-of-type {\n",
              "        vertical-align: middle;\n",
              "    }\n",
              "\n",
              "    .dataframe tbody tr th {\n",
              "        vertical-align: top;\n",
              "    }\n",
              "\n",
              "    .dataframe thead th {\n",
              "        text-align: right;\n",
              "    }\n",
              "</style>\n",
              "<table border=\"1\" class=\"dataframe\">\n",
              "  <thead>\n",
              "    <tr style=\"text-align: right;\">\n",
              "      <th></th>\n",
              "      <th>sex</th>\n",
              "      <th>season</th>\n",
              "      <th>team</th>\n",
              "      <th>city</th>\n",
              "      <th>sport</th>\n",
              "      <th>medal</th>\n",
              "    </tr>\n",
              "  </thead>\n",
              "  <tbody>\n",
              "    <tr>\n",
              "      <th>0</th>\n",
              "      <td>M</td>\n",
              "      <td>Summer</td>\n",
              "      <td>China</td>\n",
              "      <td>Barcelona</td>\n",
              "      <td>Basketball</td>\n",
              "      <td>NaN</td>\n",
              "    </tr>\n",
              "    <tr>\n",
              "      <th>1</th>\n",
              "      <td>M</td>\n",
              "      <td>Summer</td>\n",
              "      <td>China</td>\n",
              "      <td>London</td>\n",
              "      <td>Judo</td>\n",
              "      <td>NaN</td>\n",
              "    </tr>\n",
              "    <tr>\n",
              "      <th>2</th>\n",
              "      <td>M</td>\n",
              "      <td>Summer</td>\n",
              "      <td>Denmark</td>\n",
              "      <td>Antwerpen</td>\n",
              "      <td>Football</td>\n",
              "      <td>NaN</td>\n",
              "    </tr>\n",
              "    <tr>\n",
              "      <th>271113</th>\n",
              "      <td>M</td>\n",
              "      <td>Winter</td>\n",
              "      <td>Poland</td>\n",
              "      <td>Sochi</td>\n",
              "      <td>Ski Jumping</td>\n",
              "      <td>NaN</td>\n",
              "    </tr>\n",
              "    <tr>\n",
              "      <th>271114</th>\n",
              "      <td>M</td>\n",
              "      <td>Winter</td>\n",
              "      <td>Poland</td>\n",
              "      <td>Nagano</td>\n",
              "      <td>Bobsleigh</td>\n",
              "      <td>NaN</td>\n",
              "    </tr>\n",
              "    <tr>\n",
              "      <th>271115</th>\n",
              "      <td>M</td>\n",
              "      <td>Winter</td>\n",
              "      <td>Poland</td>\n",
              "      <td>Salt Lake City</td>\n",
              "      <td>Bobsleigh</td>\n",
              "      <td>NaN</td>\n",
              "    </tr>\n",
              "  </tbody>\n",
              "</table>\n",
              "</div>"
            ],
            "text/plain": [
              "       sex  season     team            city        sport medal\n",
              "0        M  Summer    China       Barcelona   Basketball   NaN\n",
              "1        M  Summer    China          London         Judo   NaN\n",
              "2        M  Summer  Denmark       Antwerpen     Football   NaN\n",
              "271113   M  Winter   Poland           Sochi  Ski Jumping   NaN\n",
              "271114   M  Winter   Poland          Nagano    Bobsleigh   NaN\n",
              "271115   M  Winter   Poland  Salt Lake City    Bobsleigh   NaN"
            ]
          },
          "metadata": {
            "tags": []
          }
        },
        {
          "output_type": "display_data",
          "data": {
            "text/plain": [
              "(271116, 6)"
            ]
          },
          "metadata": {
            "tags": []
          }
        }
      ]
    },
    {
      "cell_type": "code",
      "metadata": {
        "id": "gJ1UkRhc03GF",
        "outputId": "7372d50e-045b-4fe7-9b63-2382752708f7",
        "colab": {
          "base_uri": "https://localhost:8080/",
          "height": 137
        }
      },
      "source": [
        "exemplo_linha(df_vars).T"
      ],
      "execution_count": 12,
      "outputs": [
        {
          "output_type": "execute_result",
          "data": {
            "text/html": [
              "<div>\n",
              "<style scoped>\n",
              "    .dataframe tbody tr th:only-of-type {\n",
              "        vertical-align: middle;\n",
              "    }\n",
              "\n",
              "    .dataframe tbody tr th {\n",
              "        vertical-align: top;\n",
              "    }\n",
              "\n",
              "    .dataframe thead th {\n",
              "        text-align: right;\n",
              "    }\n",
              "</style>\n",
              "<table border=\"1\" class=\"dataframe\">\n",
              "  <thead>\n",
              "    <tr style=\"text-align: right;\">\n",
              "      <th>nome_coluna</th>\n",
              "      <th>sex</th>\n",
              "      <th>season</th>\n",
              "      <th>team</th>\n",
              "      <th>city</th>\n",
              "      <th>sport</th>\n",
              "      <th>medal</th>\n",
              "    </tr>\n",
              "  </thead>\n",
              "  <tbody>\n",
              "    <tr>\n",
              "      <th>valor_exemplo</th>\n",
              "      <td>M</td>\n",
              "      <td>Summer</td>\n",
              "      <td>China</td>\n",
              "      <td>Barcelona</td>\n",
              "      <td>Basketball</td>\n",
              "      <td>NaN</td>\n",
              "    </tr>\n",
              "    <tr>\n",
              "      <th>dtype_coluna</th>\n",
              "      <td>object</td>\n",
              "      <td>object</td>\n",
              "      <td>object</td>\n",
              "      <td>object</td>\n",
              "      <td>object</td>\n",
              "      <td>object</td>\n",
              "    </tr>\n",
              "    <tr>\n",
              "      <th>classe_valor</th>\n",
              "      <td>str</td>\n",
              "      <td>str</td>\n",
              "      <td>str</td>\n",
              "      <td>str</td>\n",
              "      <td>str</td>\n",
              "      <td>float</td>\n",
              "    </tr>\n",
              "  </tbody>\n",
              "</table>\n",
              "</div>"
            ],
            "text/plain": [
              "nome_coluna       sex  season    team       city       sport   medal\n",
              "valor_exemplo       M  Summer   China  Barcelona  Basketball     NaN\n",
              "dtype_coluna   object  object  object     object      object  object\n",
              "classe_valor      str     str     str        str         str   float"
            ]
          },
          "metadata": {
            "tags": []
          },
          "execution_count": 12
        }
      ]
    },
    {
      "cell_type": "code",
      "metadata": {
        "id": "Amx95Xd51TpT",
        "outputId": "b3e8508e-c03c-483d-9637-5f76af531356",
        "colab": {
          "base_uri": "https://localhost:8080/",
          "height": 105
        }
      },
      "source": [
        "df_vars.medal.value_counts(dropna=False)"
      ],
      "execution_count": 13,
      "outputs": [
        {
          "output_type": "execute_result",
          "data": {
            "text/plain": [
              "NaN       231333\n",
              "Gold       13372\n",
              "Bronze     13295\n",
              "Silver     13116\n",
              "Name: medal, dtype: int64"
            ]
          },
          "metadata": {
            "tags": []
          },
          "execution_count": 13
        }
      ]
    },
    {
      "cell_type": "markdown",
      "metadata": {
        "id": "EVWDsiv5_Kkc"
      },
      "source": [
        "### Exemplo de transformação do dataframe de correlações em uma série de correlações\n"
      ]
    },
    {
      "cell_type": "code",
      "metadata": {
        "id": "EC3MhQIA18F9",
        "outputId": "61c34baa-578c-4b2f-e455-0c16e9945132",
        "colab": {
          "base_uri": "https://localhost:8080/",
          "height": 167
        }
      },
      "source": [
        "# criação de um dataframe de correlações de exemplo\n",
        "df_corr = (\n",
        "    df_olimp\n",
        "    .select_dtypes('number')\n",
        "    .drop(columns='id')\n",
        "    .corr())\n",
        "df_corr"
      ],
      "execution_count": 30,
      "outputs": [
        {
          "output_type": "execute_result",
          "data": {
            "text/html": [
              "<div>\n",
              "<style scoped>\n",
              "    .dataframe tbody tr th:only-of-type {\n",
              "        vertical-align: middle;\n",
              "    }\n",
              "\n",
              "    .dataframe tbody tr th {\n",
              "        vertical-align: top;\n",
              "    }\n",
              "\n",
              "    .dataframe thead th {\n",
              "        text-align: right;\n",
              "    }\n",
              "</style>\n",
              "<table border=\"1\" class=\"dataframe\">\n",
              "  <thead>\n",
              "    <tr style=\"text-align: right;\">\n",
              "      <th></th>\n",
              "      <th>age</th>\n",
              "      <th>height</th>\n",
              "      <th>weight</th>\n",
              "      <th>year</th>\n",
              "    </tr>\n",
              "  </thead>\n",
              "  <tbody>\n",
              "    <tr>\n",
              "      <th>age</th>\n",
              "      <td>1.000000</td>\n",
              "      <td>0.138246</td>\n",
              "      <td>0.212069</td>\n",
              "      <td>-0.115137</td>\n",
              "    </tr>\n",
              "    <tr>\n",
              "      <th>height</th>\n",
              "      <td>0.138246</td>\n",
              "      <td>1.000000</td>\n",
              "      <td>0.796213</td>\n",
              "      <td>0.047578</td>\n",
              "    </tr>\n",
              "    <tr>\n",
              "      <th>weight</th>\n",
              "      <td>0.212069</td>\n",
              "      <td>0.796213</td>\n",
              "      <td>1.000000</td>\n",
              "      <td>0.019095</td>\n",
              "    </tr>\n",
              "    <tr>\n",
              "      <th>year</th>\n",
              "      <td>-0.115137</td>\n",
              "      <td>0.047578</td>\n",
              "      <td>0.019095</td>\n",
              "      <td>1.000000</td>\n",
              "    </tr>\n",
              "  </tbody>\n",
              "</table>\n",
              "</div>"
            ],
            "text/plain": [
              "             age    height    weight      year\n",
              "age     1.000000  0.138246  0.212069 -0.115137\n",
              "height  0.138246  1.000000  0.796213  0.047578\n",
              "weight  0.212069  0.796213  1.000000  0.019095\n",
              "year   -0.115137  0.047578  0.019095  1.000000"
            ]
          },
          "metadata": {
            "tags": []
          },
          "execution_count": 30
        }
      ]
    },
    {
      "cell_type": "code",
      "metadata": {
        "id": "Tp4a0QA-9aYR",
        "outputId": "b5cf453d-fbf6-405a-b879-ed90af92ada3",
        "colab": {
          "base_uri": "https://localhost:8080/",
          "height": 167
        }
      },
      "source": [
        "df_corr.loc[:] = (\n",
        "    np.where(np.triu(np.ones(df_corr.shape, dtype=int), k=1), df_corr, np.nan) )\n",
        "df_corr "
      ],
      "execution_count": 31,
      "outputs": [
        {
          "output_type": "execute_result",
          "data": {
            "text/html": [
              "<div>\n",
              "<style scoped>\n",
              "    .dataframe tbody tr th:only-of-type {\n",
              "        vertical-align: middle;\n",
              "    }\n",
              "\n",
              "    .dataframe tbody tr th {\n",
              "        vertical-align: top;\n",
              "    }\n",
              "\n",
              "    .dataframe thead th {\n",
              "        text-align: right;\n",
              "    }\n",
              "</style>\n",
              "<table border=\"1\" class=\"dataframe\">\n",
              "  <thead>\n",
              "    <tr style=\"text-align: right;\">\n",
              "      <th></th>\n",
              "      <th>age</th>\n",
              "      <th>height</th>\n",
              "      <th>weight</th>\n",
              "      <th>year</th>\n",
              "    </tr>\n",
              "  </thead>\n",
              "  <tbody>\n",
              "    <tr>\n",
              "      <th>age</th>\n",
              "      <td>NaN</td>\n",
              "      <td>0.138246</td>\n",
              "      <td>0.212069</td>\n",
              "      <td>-0.115137</td>\n",
              "    </tr>\n",
              "    <tr>\n",
              "      <th>height</th>\n",
              "      <td>NaN</td>\n",
              "      <td>NaN</td>\n",
              "      <td>0.796213</td>\n",
              "      <td>0.047578</td>\n",
              "    </tr>\n",
              "    <tr>\n",
              "      <th>weight</th>\n",
              "      <td>NaN</td>\n",
              "      <td>NaN</td>\n",
              "      <td>NaN</td>\n",
              "      <td>0.019095</td>\n",
              "    </tr>\n",
              "    <tr>\n",
              "      <th>year</th>\n",
              "      <td>NaN</td>\n",
              "      <td>NaN</td>\n",
              "      <td>NaN</td>\n",
              "      <td>NaN</td>\n",
              "    </tr>\n",
              "  </tbody>\n",
              "</table>\n",
              "</div>"
            ],
            "text/plain": [
              "        age    height    weight      year\n",
              "age     NaN  0.138246  0.212069 -0.115137\n",
              "height  NaN       NaN  0.796213  0.047578\n",
              "weight  NaN       NaN       NaN  0.019095\n",
              "year    NaN       NaN       NaN       NaN"
            ]
          },
          "metadata": {
            "tags": []
          },
          "execution_count": 31
        }
      ]
    },
    {
      "cell_type": "code",
      "metadata": {
        "id": "ycN3qQgdE7OF",
        "outputId": "63c3f066-ff45-44b9-9777-22f723e08990",
        "colab": {
          "base_uri": "https://localhost:8080/",
          "height": 141
        }
      },
      "source": [
        "df_corr.stack().dropna().sort_values(ascending=False, key=abs)"
      ],
      "execution_count": 32,
      "outputs": [
        {
          "output_type": "execute_result",
          "data": {
            "text/plain": [
              "height  weight    0.796213\n",
              "age     weight    0.212069\n",
              "        height    0.138246\n",
              "        year     -0.115137\n",
              "height  year      0.047578\n",
              "weight  year      0.019095\n",
              "dtype: float64"
            ]
          },
          "metadata": {
            "tags": []
          },
          "execution_count": 32
        }
      ]
    },
    {
      "cell_type": "code",
      "metadata": {
        "id": "eWIcOvFtAT8J"
      },
      "source": [
        ""
      ],
      "execution_count": null,
      "outputs": []
    }
  ]
}