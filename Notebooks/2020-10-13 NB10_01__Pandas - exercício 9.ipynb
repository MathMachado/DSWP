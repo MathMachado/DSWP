{
  "nbformat": 4,
  "nbformat_minor": 0,
  "metadata": {
    "colab": {
      "name": "2020-10-13 NB10_01__Pandas - exercício 9.ipynb",
      "provenance": [],
      "authorship_tag": "ABX9TyMo9rUSzAyquMeswmYFzgNL",
      "include_colab_link": true
    },
    "kernelspec": {
      "name": "python3",
      "display_name": "Python 3"
    }
  },
  "cells": [
    {
      "cell_type": "markdown",
      "metadata": {
        "id": "view-in-github",
        "colab_type": "text"
      },
      "source": [
        "<a href=\"https://colab.research.google.com/github/cristianopoeta/DSWP/blob/master/Notebooks/2020-10-13%20NB10_01__Pandas%20-%20exerc%C3%ADcio%209.ipynb\" target=\"_parent\"><img src=\"https://colab.research.google.com/assets/colab-badge.svg\" alt=\"Open In Colab\"/></a>"
      ]
    },
    {
      "cell_type": "markdown",
      "metadata": {
        "id": "d0rbUZk3-ZnI"
      },
      "source": [
        "# Exercício 9\n",
        "O arquivo FIFA.csv contem dados relacionados à última edição do FIFA 2018 (um dos jogos de video-game mais famosos) e traz os mais variados dados sobre os jogadores (exemplo): idade, nacionalidade, potencial, salário e etc. Faça o seguinte:\n",
        "\n",
        "1. Carregue o arquivo FIFA.csv (está na área de Dataframes do curso);\n",
        "2. Que colunas podem previamente ser eliminadas da análise? Porque identificar o que pode ser eliminado é importante?\n",
        "3. Qual o dtype de cada variável/atributo do dataframe?\n",
        "4. Se alguma variávável/atributo é do tipo string (object) e supostamente deveria ser numérica, como alteramos o tipo?\n",
        "5. Normalize os nomes das colunas, ou seja, renomeie o nome das colunas para minúsculo;\n",
        "6. Há Missing values nos dados? Se sim, o qual sua proposta (proposta do grupo) para tratar estes Missing values?\n",
        "7. Qual a distribuição do número de jogadores por países? Apresente uma tabela com a distribuição.\n",
        "8. Qual a média de idade dos jogadores por países (variável/atributo 'Nacionality');\n",
        "9. Qual a número de jogadores por idade?\n",
        "10. Quantos jogadores possuem cada clube?\n",
        "11. Qual a média de idade por clube?\n",
        "12. Qual a média de salário por país?\n",
        "13. Qual a média de salário por clube?\n",
        "14. Qual a média de salário por idade?\n",
        "15. Quanto cada clube gasta com pagamento de salários?\n",
        "16. Quais são os insight (o que você consegue descobrir) em relação à variável 'Potential' (mede o potencial dos jogadores)?\n",
        "17. Quais os insights em relação à variável overall (nota média do atleta) por idade, clube e país?\n",
        "18. Quais são os melhores clubes se levarmos em consideração as variáveis Potential e Overall?\n",
        "19. Apresente o ranking dos goleiros (use a variável/atributo 'Preferred Positions') por Potencial, Overall. Estamos à procura de 'GK'.\n",
        "20. Quem são os jogadores mais rápidos (variável/atributo 'Sprint speed'=?\n",
        "21. Quem são os 5 melhores jogadores em termos de chute (força para chutar) (use a variável/atributo 'Shot power')?\n",
        "22. Quem são os outliers em termos de salário?\n",
        "23. Quem são os outliers em termos de potência no chute?"
      ]
    },
    {
      "cell_type": "markdown",
      "metadata": {
        "id": "R5aF4Ixr8xU2"
      },
      "source": [
        "### Definições iniciais"
      ]
    },
    {
      "cell_type": "code",
      "metadata": {
        "id": "M5nY7KXR-YQq"
      },
      "source": [
        "import re\n",
        "import numpy as np\n",
        "import pandas as pd\n",
        "import seaborn as sns\n",
        "import matplotlib.pyplot as plt\n",
        "from IPython.display import Markdown"
      ],
      "execution_count": null,
      "outputs": []
    },
    {
      "cell_type": "code",
      "metadata": {
        "id": "YZ5SscdcA9R2"
      },
      "source": [
        "pdod = pd.options.display    # atalho para opções de exibição\n",
        "pdod.max_rows = 100          # qtd máx de linhas exibidas\n",
        "pdod.max_columns = 100       # qtd máx de colunas exibidas\n",
        "pdod.width = 200             # larg máx total em modo texto"
      ],
      "execution_count": null,
      "outputs": []
    },
    {
      "cell_type": "code",
      "metadata": {
        "id": "F9dci7f3Apdk"
      },
      "source": [
        "# retorna para cada coluna de `frame`: nome da coluna, valor de exemplo, \n",
        "#     dtype da coluna, classe do valor de exemplo\n",
        "# valor de exemplo é tomado na linha de `frame` indicada por `iloc`\n",
        "def exemplo_linha(frame, iloc=0):\n",
        "  df_info = pd.DataFrame(dict(valor_exemplo=frame.iloc[iloc].copy()))\n",
        "  df_info['dtype_coluna'] = frame.dtypes.map(lambda x: x.name)\n",
        "  df_info['classe_valor'] = df_info['valor_exemplo'].map(lambda x: x.__class__.__name__)\n",
        "  df_info.index.name = 'nome_coluna'\n",
        "  return df_info"
      ],
      "execution_count": null,
      "outputs": []
    },
    {
      "cell_type": "code",
      "metadata": {
        "id": "QCsCgqV0_88W"
      },
      "source": [
        "# `obj` pode ser DataFrame ou Series.\n",
        "# se `filtros` for `None`, exibe primeiras `nh` posições, últimas `nt` posições \n",
        "#     e `shape` de `obj`.\n",
        "# se `filtros` não for `None`, deve ser um iterável com elemntos que possam ser \n",
        "#     utilizados em `obj.loc[]` (funções de filtragem são uma boa opção).\n",
        "def d_pd(obj, nh=1, nt=None, filtros=None):\n",
        "    if nt is None:\n",
        "        nt = nh\n",
        "    if filtros is None:\n",
        "        display(pd.concat([obj.head(nh), obj.tail(nt)]), obj.shape)\n",
        "    else:\n",
        "        for filtro in filtros:\n",
        "            display(obj.loc[filtro])\n",
        "        display(obj.shape)"
      ],
      "execution_count": null,
      "outputs": []
    },
    {
      "cell_type": "markdown",
      "metadata": {
        "id": "gjPczaI79BVG"
      },
      "source": [
        "### Importação do dataset e alterações e verificações iniciais"
      ]
    },
    {
      "cell_type": "code",
      "metadata": {
        "id": "YMgE7HtL_DUw",
        "outputId": "21b4cddd-7088-4e88-df9c-0fa60b6d6a96",
        "colab": {
          "base_uri": "https://localhost:8080/"
        }
      },
      "source": [
        "# importação do dataset\n",
        "df_fifa = pd.read_csv('https://raw.githubusercontent.com/MathMachado/DSWP/master/Dataframes/FIFA.csv')\n",
        "d_pd(df_fifa)"
      ],
      "execution_count": null,
      "outputs": [
        {
          "output_type": "display_data",
          "data": {
            "text/html": [
              "<div>\n",
              "<style scoped>\n",
              "    .dataframe tbody tr th:only-of-type {\n",
              "        vertical-align: middle;\n",
              "    }\n",
              "\n",
              "    .dataframe tbody tr th {\n",
              "        vertical-align: top;\n",
              "    }\n",
              "\n",
              "    .dataframe thead th {\n",
              "        text-align: right;\n",
              "    }\n",
              "</style>\n",
              "<table border=\"1\" class=\"dataframe\">\n",
              "  <thead>\n",
              "    <tr style=\"text-align: right;\">\n",
              "      <th></th>\n",
              "      <th>Unnamed: 0</th>\n",
              "      <th>ID</th>\n",
              "      <th>Name</th>\n",
              "      <th>Age</th>\n",
              "      <th>Photo</th>\n",
              "      <th>Nationality</th>\n",
              "      <th>Flag</th>\n",
              "      <th>Overall</th>\n",
              "      <th>Potential</th>\n",
              "      <th>Club</th>\n",
              "      <th>Club Logo</th>\n",
              "      <th>Value</th>\n",
              "      <th>Wage</th>\n",
              "      <th>Special</th>\n",
              "      <th>Preferred Foot</th>\n",
              "      <th>International Reputation</th>\n",
              "      <th>Weak Foot</th>\n",
              "      <th>Skill Moves</th>\n",
              "      <th>Work Rate</th>\n",
              "      <th>Body Type</th>\n",
              "      <th>Real Face</th>\n",
              "      <th>Position</th>\n",
              "      <th>Jersey Number</th>\n",
              "      <th>Joined</th>\n",
              "      <th>Loaned From</th>\n",
              "      <th>Contract Valid Until</th>\n",
              "      <th>Height</th>\n",
              "      <th>Weight</th>\n",
              "      <th>LS</th>\n",
              "      <th>ST</th>\n",
              "      <th>RS</th>\n",
              "      <th>LW</th>\n",
              "      <th>LF</th>\n",
              "      <th>CF</th>\n",
              "      <th>RF</th>\n",
              "      <th>RW</th>\n",
              "      <th>LAM</th>\n",
              "      <th>CAM</th>\n",
              "      <th>RAM</th>\n",
              "      <th>LM</th>\n",
              "      <th>LCM</th>\n",
              "      <th>CM</th>\n",
              "      <th>RCM</th>\n",
              "      <th>RM</th>\n",
              "      <th>LWB</th>\n",
              "      <th>LDM</th>\n",
              "      <th>CDM</th>\n",
              "      <th>RDM</th>\n",
              "      <th>RWB</th>\n",
              "      <th>LB</th>\n",
              "      <th>LCB</th>\n",
              "      <th>CB</th>\n",
              "      <th>RCB</th>\n",
              "      <th>RB</th>\n",
              "      <th>Crossing</th>\n",
              "      <th>Finishing</th>\n",
              "      <th>HeadingAccuracy</th>\n",
              "      <th>ShortPassing</th>\n",
              "      <th>Volleys</th>\n",
              "      <th>Dribbling</th>\n",
              "      <th>Curve</th>\n",
              "      <th>FKAccuracy</th>\n",
              "      <th>LongPassing</th>\n",
              "      <th>BallControl</th>\n",
              "      <th>Acceleration</th>\n",
              "      <th>SprintSpeed</th>\n",
              "      <th>Agility</th>\n",
              "      <th>Reactions</th>\n",
              "      <th>Balance</th>\n",
              "      <th>ShotPower</th>\n",
              "      <th>Jumping</th>\n",
              "      <th>Stamina</th>\n",
              "      <th>Strength</th>\n",
              "      <th>LongShots</th>\n",
              "      <th>Aggression</th>\n",
              "      <th>Interceptions</th>\n",
              "      <th>Positioning</th>\n",
              "      <th>Vision</th>\n",
              "      <th>Penalties</th>\n",
              "      <th>Composure</th>\n",
              "      <th>Marking</th>\n",
              "      <th>StandingTackle</th>\n",
              "      <th>SlidingTackle</th>\n",
              "      <th>GKDiving</th>\n",
              "      <th>GKHandling</th>\n",
              "      <th>GKKicking</th>\n",
              "      <th>GKPositioning</th>\n",
              "      <th>GKReflexes</th>\n",
              "      <th>Release Clause</th>\n",
              "    </tr>\n",
              "  </thead>\n",
              "  <tbody>\n",
              "    <tr>\n",
              "      <th>0</th>\n",
              "      <td>0</td>\n",
              "      <td>158023</td>\n",
              "      <td>L. Messi</td>\n",
              "      <td>31</td>\n",
              "      <td>https://cdn.sofifa.org/players/4/19/158023.png</td>\n",
              "      <td>Argentina</td>\n",
              "      <td>https://cdn.sofifa.org/flags/52.png</td>\n",
              "      <td>94</td>\n",
              "      <td>94</td>\n",
              "      <td>FC Barcelona</td>\n",
              "      <td>https://cdn.sofifa.org/teams/2/light/241.png</td>\n",
              "      <td>€110.5M</td>\n",
              "      <td>€565K</td>\n",
              "      <td>2202</td>\n",
              "      <td>Left</td>\n",
              "      <td>5.0</td>\n",
              "      <td>4.0</td>\n",
              "      <td>4.0</td>\n",
              "      <td>Medium/ Medium</td>\n",
              "      <td>Messi</td>\n",
              "      <td>Yes</td>\n",
              "      <td>RF</td>\n",
              "      <td>10.0</td>\n",
              "      <td>Jul 1, 2004</td>\n",
              "      <td>NaN</td>\n",
              "      <td>2021</td>\n",
              "      <td>5'7</td>\n",
              "      <td>159lbs</td>\n",
              "      <td>88+2</td>\n",
              "      <td>88+2</td>\n",
              "      <td>88+2</td>\n",
              "      <td>92+2</td>\n",
              "      <td>93+2</td>\n",
              "      <td>93+2</td>\n",
              "      <td>93+2</td>\n",
              "      <td>92+2</td>\n",
              "      <td>93+2</td>\n",
              "      <td>93+2</td>\n",
              "      <td>93+2</td>\n",
              "      <td>91+2</td>\n",
              "      <td>84+2</td>\n",
              "      <td>84+2</td>\n",
              "      <td>84+2</td>\n",
              "      <td>91+2</td>\n",
              "      <td>64+2</td>\n",
              "      <td>61+2</td>\n",
              "      <td>61+2</td>\n",
              "      <td>61+2</td>\n",
              "      <td>64+2</td>\n",
              "      <td>59+2</td>\n",
              "      <td>47+2</td>\n",
              "      <td>47+2</td>\n",
              "      <td>47+2</td>\n",
              "      <td>59+2</td>\n",
              "      <td>84.0</td>\n",
              "      <td>95.0</td>\n",
              "      <td>70.0</td>\n",
              "      <td>90.0</td>\n",
              "      <td>86.0</td>\n",
              "      <td>97.0</td>\n",
              "      <td>93.0</td>\n",
              "      <td>94.0</td>\n",
              "      <td>87.0</td>\n",
              "      <td>96.0</td>\n",
              "      <td>91.0</td>\n",
              "      <td>86.0</td>\n",
              "      <td>91.0</td>\n",
              "      <td>95.0</td>\n",
              "      <td>95.0</td>\n",
              "      <td>85.0</td>\n",
              "      <td>68.0</td>\n",
              "      <td>72.0</td>\n",
              "      <td>59.0</td>\n",
              "      <td>94.0</td>\n",
              "      <td>48.0</td>\n",
              "      <td>22.0</td>\n",
              "      <td>94.0</td>\n",
              "      <td>94.0</td>\n",
              "      <td>75.0</td>\n",
              "      <td>96.0</td>\n",
              "      <td>33.0</td>\n",
              "      <td>28.0</td>\n",
              "      <td>26.0</td>\n",
              "      <td>6.0</td>\n",
              "      <td>11.0</td>\n",
              "      <td>15.0</td>\n",
              "      <td>14.0</td>\n",
              "      <td>8.0</td>\n",
              "      <td>€226.5M</td>\n",
              "    </tr>\n",
              "    <tr>\n",
              "      <th>18206</th>\n",
              "      <td>18206</td>\n",
              "      <td>246269</td>\n",
              "      <td>G. Nugent</td>\n",
              "      <td>16</td>\n",
              "      <td>https://cdn.sofifa.org/players/4/19/246269.png</td>\n",
              "      <td>England</td>\n",
              "      <td>https://cdn.sofifa.org/flags/14.png</td>\n",
              "      <td>46</td>\n",
              "      <td>66</td>\n",
              "      <td>Tranmere Rovers</td>\n",
              "      <td>https://cdn.sofifa.org/teams/2/light/15048.png</td>\n",
              "      <td>€60K</td>\n",
              "      <td>€1K</td>\n",
              "      <td>1321</td>\n",
              "      <td>Right</td>\n",
              "      <td>1.0</td>\n",
              "      <td>3.0</td>\n",
              "      <td>2.0</td>\n",
              "      <td>Medium/ Medium</td>\n",
              "      <td>Lean</td>\n",
              "      <td>No</td>\n",
              "      <td>CM</td>\n",
              "      <td>33.0</td>\n",
              "      <td>Oct 30, 2018</td>\n",
              "      <td>NaN</td>\n",
              "      <td>2019</td>\n",
              "      <td>5'10</td>\n",
              "      <td>176lbs</td>\n",
              "      <td>43+2</td>\n",
              "      <td>43+2</td>\n",
              "      <td>43+2</td>\n",
              "      <td>45+2</td>\n",
              "      <td>44+2</td>\n",
              "      <td>44+2</td>\n",
              "      <td>44+2</td>\n",
              "      <td>45+2</td>\n",
              "      <td>45+2</td>\n",
              "      <td>45+2</td>\n",
              "      <td>45+2</td>\n",
              "      <td>46+2</td>\n",
              "      <td>45+2</td>\n",
              "      <td>45+2</td>\n",
              "      <td>45+2</td>\n",
              "      <td>46+2</td>\n",
              "      <td>46+2</td>\n",
              "      <td>46+2</td>\n",
              "      <td>46+2</td>\n",
              "      <td>46+2</td>\n",
              "      <td>46+2</td>\n",
              "      <td>46+2</td>\n",
              "      <td>47+2</td>\n",
              "      <td>47+2</td>\n",
              "      <td>47+2</td>\n",
              "      <td>46+2</td>\n",
              "      <td>41.0</td>\n",
              "      <td>34.0</td>\n",
              "      <td>46.0</td>\n",
              "      <td>48.0</td>\n",
              "      <td>30.0</td>\n",
              "      <td>43.0</td>\n",
              "      <td>40.0</td>\n",
              "      <td>34.0</td>\n",
              "      <td>44.0</td>\n",
              "      <td>51.0</td>\n",
              "      <td>57.0</td>\n",
              "      <td>55.0</td>\n",
              "      <td>55.0</td>\n",
              "      <td>51.0</td>\n",
              "      <td>63.0</td>\n",
              "      <td>43.0</td>\n",
              "      <td>62.0</td>\n",
              "      <td>47.0</td>\n",
              "      <td>60.0</td>\n",
              "      <td>32.0</td>\n",
              "      <td>56.0</td>\n",
              "      <td>42.0</td>\n",
              "      <td>34.0</td>\n",
              "      <td>49.0</td>\n",
              "      <td>33.0</td>\n",
              "      <td>43.0</td>\n",
              "      <td>40.0</td>\n",
              "      <td>43.0</td>\n",
              "      <td>50.0</td>\n",
              "      <td>10.0</td>\n",
              "      <td>15.0</td>\n",
              "      <td>9.0</td>\n",
              "      <td>12.0</td>\n",
              "      <td>9.0</td>\n",
              "      <td>€165K</td>\n",
              "    </tr>\n",
              "  </tbody>\n",
              "</table>\n",
              "</div>"
            ],
            "text/plain": [
              "       Unnamed: 0      ID       Name  Age                                           Photo Nationality                                 Flag  Overall  Potential             Club  \\\n",
              "0               0  158023   L. Messi   31  https://cdn.sofifa.org/players/4/19/158023.png   Argentina  https://cdn.sofifa.org/flags/52.png       94         94     FC Barcelona   \n",
              "18206       18206  246269  G. Nugent   16  https://cdn.sofifa.org/players/4/19/246269.png     England  https://cdn.sofifa.org/flags/14.png       46         66  Tranmere Rovers   \n",
              "\n",
              "                                            Club Logo    Value   Wage  Special Preferred Foot  International Reputation  Weak Foot  Skill Moves       Work Rate Body Type Real Face Position  \\\n",
              "0        https://cdn.sofifa.org/teams/2/light/241.png  €110.5M  €565K     2202           Left                       5.0        4.0          4.0  Medium/ Medium     Messi       Yes       RF   \n",
              "18206  https://cdn.sofifa.org/teams/2/light/15048.png     €60K    €1K     1321          Right                       1.0        3.0          2.0  Medium/ Medium      Lean        No       CM   \n",
              "\n",
              "       Jersey Number        Joined Loaned From Contract Valid Until Height  Weight    LS    ST    RS    LW    LF    CF    RF    RW   LAM   CAM   RAM    LM   LCM    CM   RCM    RM   LWB   LDM   CDM  \\\n",
              "0               10.0   Jul 1, 2004         NaN                 2021    5'7  159lbs  88+2  88+2  88+2  92+2  93+2  93+2  93+2  92+2  93+2  93+2  93+2  91+2  84+2  84+2  84+2  91+2  64+2  61+2  61+2   \n",
              "18206           33.0  Oct 30, 2018         NaN                 2019   5'10  176lbs  43+2  43+2  43+2  45+2  44+2  44+2  44+2  45+2  45+2  45+2  45+2  46+2  45+2  45+2  45+2  46+2  46+2  46+2  46+2   \n",
              "\n",
              "        RDM   RWB    LB   LCB    CB   RCB    RB  Crossing  Finishing  HeadingAccuracy  ShortPassing  Volleys  Dribbling  Curve  FKAccuracy  LongPassing  BallControl  Acceleration  SprintSpeed  \\\n",
              "0      61+2  64+2  59+2  47+2  47+2  47+2  59+2      84.0       95.0             70.0          90.0     86.0       97.0   93.0        94.0         87.0         96.0          91.0         86.0   \n",
              "18206  46+2  46+2  46+2  47+2  47+2  47+2  46+2      41.0       34.0             46.0          48.0     30.0       43.0   40.0        34.0         44.0         51.0          57.0         55.0   \n",
              "\n",
              "       Agility  Reactions  Balance  ShotPower  Jumping  Stamina  Strength  LongShots  Aggression  Interceptions  Positioning  Vision  Penalties  Composure  Marking  StandingTackle  SlidingTackle  \\\n",
              "0         91.0       95.0     95.0       85.0     68.0     72.0      59.0       94.0        48.0           22.0         94.0    94.0       75.0       96.0     33.0            28.0           26.0   \n",
              "18206     55.0       51.0     63.0       43.0     62.0     47.0      60.0       32.0        56.0           42.0         34.0    49.0       33.0       43.0     40.0            43.0           50.0   \n",
              "\n",
              "       GKDiving  GKHandling  GKKicking  GKPositioning  GKReflexes Release Clause  \n",
              "0           6.0        11.0       15.0           14.0         8.0        €226.5M  \n",
              "18206      10.0        15.0        9.0           12.0         9.0          €165K  "
            ]
          },
          "metadata": {
            "tags": []
          }
        },
        {
          "output_type": "display_data",
          "data": {
            "text/plain": [
              "(18207, 89)"
            ]
          },
          "metadata": {
            "tags": []
          }
        }
      ]
    },
    {
      "cell_type": "code",
      "metadata": {
        "id": "c5muApSBNSxA",
        "outputId": "73824b0b-e70b-48ac-8571-c561feb1a576",
        "colab": {
          "base_uri": "https://localhost:8080/"
        }
      },
      "source": [
        "# redefinição dos nomes de colunas\n",
        "# de camel case para snake case\n",
        "df_fifa.columns = (df_fifa.columns\n",
        "                   .str.replace(' ', '_')\n",
        "                   .str.replace('(?<=[a-z])(?=[A-Z])', '_')\n",
        "                   .str.replace('^([A-Z]+)([A-Z])(?=[a-z])', r'\\1_\\2')\n",
        "                   .str.lower())\n",
        "df_fifa.columns"
      ],
      "execution_count": null,
      "outputs": [
        {
          "output_type": "execute_result",
          "data": {
            "text/plain": [
              "Index(['unnamed:_0', 'id', 'name', 'age', 'photo', 'nationality', 'flag', 'overall', 'potential', 'club', 'club_logo', 'value', 'wage', 'special', 'preferred_foot', 'international_reputation',\n",
              "       'weak_foot', 'skill_moves', 'work_rate', 'body_type', 'real_face', 'position', 'jersey_number', 'joined', 'loaned_from', 'contract_valid_until', 'height', 'weight', 'ls', 'st', 'rs', 'lw',\n",
              "       'lf', 'cf', 'rf', 'rw', 'lam', 'cam', 'ram', 'lm', 'lcm', 'cm', 'rcm', 'rm', 'lwb', 'ldm', 'cdm', 'rdm', 'rwb', 'lb', 'lcb', 'cb', 'rcb', 'rb', 'crossing', 'finishing', 'heading_accuracy',\n",
              "       'short_passing', 'volleys', 'dribbling', 'curve', 'fk_accuracy', 'long_passing', 'ball_control', 'acceleration', 'sprint_speed', 'agility', 'reactions', 'balance', 'shot_power', 'jumping',\n",
              "       'stamina', 'strength', 'long_shots', 'aggression', 'interceptions', 'positioning', 'vision', 'penalties', 'composure', 'marking', 'standing_tackle', 'sliding_tackle', 'gk_diving',\n",
              "       'gk_handling', 'gk_kicking', 'gk_positioning', 'gk_reflexes', 'release_clause'],\n",
              "      dtype='object')"
            ]
          },
          "metadata": {
            "tags": []
          },
          "execution_count": 6
        }
      ]
    },
    {
      "cell_type": "code",
      "metadata": {
        "id": "0Uc6-srVK-hs",
        "outputId": "7d1e3903-cd2b-4a97-976c-76a6eebb9220",
        "colab": {
          "base_uri": "https://localhost:8080/"
        }
      },
      "source": [
        "# eliminação de colunas e definição do índice de linhas\n",
        "lst_cols_keep = ['id', 'name', 'age', 'nationality', 'overall', 'potential', \n",
        "    'club', 'value', 'wage', 'release_clause', 'special', 'preferred_foot', \n",
        "    'international_reputation', 'weak_foot', 'skill_moves', 'work_rate', \n",
        "    'position', 'jersey_number', 'joined', 'loaned_from', \n",
        "    'contract_valid_until', 'height', 'weight', 'crossing', 'finishing', \n",
        "    'heading_accuracy', 'short_passing', 'volleys', 'dribbling', 'curve', \n",
        "    'fk_accuracy', 'long_passing', 'ball_control', 'acceleration', \n",
        "    'sprint_speed', 'agility', 'reactions', 'balance', 'shot_power', 'jumping',\n",
        "    'stamina', 'strength', 'long_shots', 'aggression', 'interceptions', \n",
        "    'positioning', 'vision', 'penalties', 'composure', 'marking', \n",
        "    'standing_tackle', 'sliding_tackle', 'gk_diving', 'gk_handling', \n",
        "    'gk_kicking', 'gk_positioning', 'gk_reflexes']\n",
        "col_indice = 'id'\n",
        "df_fifa = df_fifa[lst_cols_keep].set_index(col_indice)\n",
        "d_pd(df_fifa)"
      ],
      "execution_count": null,
      "outputs": [
        {
          "output_type": "display_data",
          "data": {
            "text/html": [
              "<div>\n",
              "<style scoped>\n",
              "    .dataframe tbody tr th:only-of-type {\n",
              "        vertical-align: middle;\n",
              "    }\n",
              "\n",
              "    .dataframe tbody tr th {\n",
              "        vertical-align: top;\n",
              "    }\n",
              "\n",
              "    .dataframe thead th {\n",
              "        text-align: right;\n",
              "    }\n",
              "</style>\n",
              "<table border=\"1\" class=\"dataframe\">\n",
              "  <thead>\n",
              "    <tr style=\"text-align: right;\">\n",
              "      <th></th>\n",
              "      <th>name</th>\n",
              "      <th>age</th>\n",
              "      <th>nationality</th>\n",
              "      <th>overall</th>\n",
              "      <th>potential</th>\n",
              "      <th>club</th>\n",
              "      <th>value</th>\n",
              "      <th>wage</th>\n",
              "      <th>release_clause</th>\n",
              "      <th>special</th>\n",
              "      <th>preferred_foot</th>\n",
              "      <th>international_reputation</th>\n",
              "      <th>weak_foot</th>\n",
              "      <th>skill_moves</th>\n",
              "      <th>work_rate</th>\n",
              "      <th>position</th>\n",
              "      <th>jersey_number</th>\n",
              "      <th>joined</th>\n",
              "      <th>loaned_from</th>\n",
              "      <th>contract_valid_until</th>\n",
              "      <th>height</th>\n",
              "      <th>weight</th>\n",
              "      <th>crossing</th>\n",
              "      <th>finishing</th>\n",
              "      <th>heading_accuracy</th>\n",
              "      <th>short_passing</th>\n",
              "      <th>volleys</th>\n",
              "      <th>dribbling</th>\n",
              "      <th>curve</th>\n",
              "      <th>fk_accuracy</th>\n",
              "      <th>long_passing</th>\n",
              "      <th>ball_control</th>\n",
              "      <th>acceleration</th>\n",
              "      <th>sprint_speed</th>\n",
              "      <th>agility</th>\n",
              "      <th>reactions</th>\n",
              "      <th>balance</th>\n",
              "      <th>shot_power</th>\n",
              "      <th>jumping</th>\n",
              "      <th>stamina</th>\n",
              "      <th>strength</th>\n",
              "      <th>long_shots</th>\n",
              "      <th>aggression</th>\n",
              "      <th>interceptions</th>\n",
              "      <th>positioning</th>\n",
              "      <th>vision</th>\n",
              "      <th>penalties</th>\n",
              "      <th>composure</th>\n",
              "      <th>marking</th>\n",
              "      <th>standing_tackle</th>\n",
              "      <th>sliding_tackle</th>\n",
              "      <th>gk_diving</th>\n",
              "      <th>gk_handling</th>\n",
              "      <th>gk_kicking</th>\n",
              "      <th>gk_positioning</th>\n",
              "      <th>gk_reflexes</th>\n",
              "    </tr>\n",
              "    <tr>\n",
              "      <th>id</th>\n",
              "      <th></th>\n",
              "      <th></th>\n",
              "      <th></th>\n",
              "      <th></th>\n",
              "      <th></th>\n",
              "      <th></th>\n",
              "      <th></th>\n",
              "      <th></th>\n",
              "      <th></th>\n",
              "      <th></th>\n",
              "      <th></th>\n",
              "      <th></th>\n",
              "      <th></th>\n",
              "      <th></th>\n",
              "      <th></th>\n",
              "      <th></th>\n",
              "      <th></th>\n",
              "      <th></th>\n",
              "      <th></th>\n",
              "      <th></th>\n",
              "      <th></th>\n",
              "      <th></th>\n",
              "      <th></th>\n",
              "      <th></th>\n",
              "      <th></th>\n",
              "      <th></th>\n",
              "      <th></th>\n",
              "      <th></th>\n",
              "      <th></th>\n",
              "      <th></th>\n",
              "      <th></th>\n",
              "      <th></th>\n",
              "      <th></th>\n",
              "      <th></th>\n",
              "      <th></th>\n",
              "      <th></th>\n",
              "      <th></th>\n",
              "      <th></th>\n",
              "      <th></th>\n",
              "      <th></th>\n",
              "      <th></th>\n",
              "      <th></th>\n",
              "      <th></th>\n",
              "      <th></th>\n",
              "      <th></th>\n",
              "      <th></th>\n",
              "      <th></th>\n",
              "      <th></th>\n",
              "      <th></th>\n",
              "      <th></th>\n",
              "      <th></th>\n",
              "      <th></th>\n",
              "      <th></th>\n",
              "      <th></th>\n",
              "      <th></th>\n",
              "      <th></th>\n",
              "    </tr>\n",
              "  </thead>\n",
              "  <tbody>\n",
              "    <tr>\n",
              "      <th>158023</th>\n",
              "      <td>L. Messi</td>\n",
              "      <td>31</td>\n",
              "      <td>Argentina</td>\n",
              "      <td>94</td>\n",
              "      <td>94</td>\n",
              "      <td>FC Barcelona</td>\n",
              "      <td>€110.5M</td>\n",
              "      <td>€565K</td>\n",
              "      <td>€226.5M</td>\n",
              "      <td>2202</td>\n",
              "      <td>Left</td>\n",
              "      <td>5.0</td>\n",
              "      <td>4.0</td>\n",
              "      <td>4.0</td>\n",
              "      <td>Medium/ Medium</td>\n",
              "      <td>RF</td>\n",
              "      <td>10.0</td>\n",
              "      <td>Jul 1, 2004</td>\n",
              "      <td>NaN</td>\n",
              "      <td>2021</td>\n",
              "      <td>5'7</td>\n",
              "      <td>159lbs</td>\n",
              "      <td>84.0</td>\n",
              "      <td>95.0</td>\n",
              "      <td>70.0</td>\n",
              "      <td>90.0</td>\n",
              "      <td>86.0</td>\n",
              "      <td>97.0</td>\n",
              "      <td>93.0</td>\n",
              "      <td>94.0</td>\n",
              "      <td>87.0</td>\n",
              "      <td>96.0</td>\n",
              "      <td>91.0</td>\n",
              "      <td>86.0</td>\n",
              "      <td>91.0</td>\n",
              "      <td>95.0</td>\n",
              "      <td>95.0</td>\n",
              "      <td>85.0</td>\n",
              "      <td>68.0</td>\n",
              "      <td>72.0</td>\n",
              "      <td>59.0</td>\n",
              "      <td>94.0</td>\n",
              "      <td>48.0</td>\n",
              "      <td>22.0</td>\n",
              "      <td>94.0</td>\n",
              "      <td>94.0</td>\n",
              "      <td>75.0</td>\n",
              "      <td>96.0</td>\n",
              "      <td>33.0</td>\n",
              "      <td>28.0</td>\n",
              "      <td>26.0</td>\n",
              "      <td>6.0</td>\n",
              "      <td>11.0</td>\n",
              "      <td>15.0</td>\n",
              "      <td>14.0</td>\n",
              "      <td>8.0</td>\n",
              "    </tr>\n",
              "    <tr>\n",
              "      <th>246269</th>\n",
              "      <td>G. Nugent</td>\n",
              "      <td>16</td>\n",
              "      <td>England</td>\n",
              "      <td>46</td>\n",
              "      <td>66</td>\n",
              "      <td>Tranmere Rovers</td>\n",
              "      <td>€60K</td>\n",
              "      <td>€1K</td>\n",
              "      <td>€165K</td>\n",
              "      <td>1321</td>\n",
              "      <td>Right</td>\n",
              "      <td>1.0</td>\n",
              "      <td>3.0</td>\n",
              "      <td>2.0</td>\n",
              "      <td>Medium/ Medium</td>\n",
              "      <td>CM</td>\n",
              "      <td>33.0</td>\n",
              "      <td>Oct 30, 2018</td>\n",
              "      <td>NaN</td>\n",
              "      <td>2019</td>\n",
              "      <td>5'10</td>\n",
              "      <td>176lbs</td>\n",
              "      <td>41.0</td>\n",
              "      <td>34.0</td>\n",
              "      <td>46.0</td>\n",
              "      <td>48.0</td>\n",
              "      <td>30.0</td>\n",
              "      <td>43.0</td>\n",
              "      <td>40.0</td>\n",
              "      <td>34.0</td>\n",
              "      <td>44.0</td>\n",
              "      <td>51.0</td>\n",
              "      <td>57.0</td>\n",
              "      <td>55.0</td>\n",
              "      <td>55.0</td>\n",
              "      <td>51.0</td>\n",
              "      <td>63.0</td>\n",
              "      <td>43.0</td>\n",
              "      <td>62.0</td>\n",
              "      <td>47.0</td>\n",
              "      <td>60.0</td>\n",
              "      <td>32.0</td>\n",
              "      <td>56.0</td>\n",
              "      <td>42.0</td>\n",
              "      <td>34.0</td>\n",
              "      <td>49.0</td>\n",
              "      <td>33.0</td>\n",
              "      <td>43.0</td>\n",
              "      <td>40.0</td>\n",
              "      <td>43.0</td>\n",
              "      <td>50.0</td>\n",
              "      <td>10.0</td>\n",
              "      <td>15.0</td>\n",
              "      <td>9.0</td>\n",
              "      <td>12.0</td>\n",
              "      <td>9.0</td>\n",
              "    </tr>\n",
              "  </tbody>\n",
              "</table>\n",
              "</div>"
            ],
            "text/plain": [
              "             name  age nationality  overall  potential             club    value   wage release_clause  special preferred_foot  international_reputation  weak_foot  skill_moves       work_rate  \\\n",
              "id                                                                                                                                                                                                 \n",
              "158023   L. Messi   31   Argentina       94         94     FC Barcelona  €110.5M  €565K        €226.5M     2202           Left                       5.0        4.0          4.0  Medium/ Medium   \n",
              "246269  G. Nugent   16     England       46         66  Tranmere Rovers     €60K    €1K          €165K     1321          Right                       1.0        3.0          2.0  Medium/ Medium   \n",
              "\n",
              "       position  jersey_number        joined loaned_from contract_valid_until height  weight  crossing  finishing  heading_accuracy  short_passing  volleys  dribbling  curve  fk_accuracy  \\\n",
              "id                                                                                                                                                                                           \n",
              "158023       RF           10.0   Jul 1, 2004         NaN                 2021    5'7  159lbs      84.0       95.0              70.0           90.0     86.0       97.0   93.0         94.0   \n",
              "246269       CM           33.0  Oct 30, 2018         NaN                 2019   5'10  176lbs      41.0       34.0              46.0           48.0     30.0       43.0   40.0         34.0   \n",
              "\n",
              "        long_passing  ball_control  acceleration  sprint_speed  agility  reactions  balance  shot_power  jumping  stamina  strength  long_shots  aggression  interceptions  positioning  vision  \\\n",
              "id                                                                                                                                                                                                \n",
              "158023          87.0          96.0          91.0          86.0     91.0       95.0     95.0        85.0     68.0     72.0      59.0        94.0        48.0           22.0         94.0    94.0   \n",
              "246269          44.0          51.0          57.0          55.0     55.0       51.0     63.0        43.0     62.0     47.0      60.0        32.0        56.0           42.0         34.0    49.0   \n",
              "\n",
              "        penalties  composure  marking  standing_tackle  sliding_tackle  gk_diving  gk_handling  gk_kicking  gk_positioning  gk_reflexes  \n",
              "id                                                                                                                                       \n",
              "158023       75.0       96.0     33.0             28.0            26.0        6.0         11.0        15.0            14.0          8.0  \n",
              "246269       33.0       43.0     40.0             43.0            50.0       10.0         15.0         9.0            12.0          9.0  "
            ]
          },
          "metadata": {
            "tags": []
          }
        },
        {
          "output_type": "display_data",
          "data": {
            "text/plain": [
              "(18207, 56)"
            ]
          },
          "metadata": {
            "tags": []
          }
        }
      ]
    },
    {
      "cell_type": "code",
      "metadata": {
        "id": "K1SanAzGAqUQ",
        "outputId": "caa0a29b-b558-4545-a58e-cfb62103d312",
        "colab": {
          "base_uri": "https://localhost:8080/"
        }
      },
      "source": [
        "# inspeção das colunas e dos valores das linhas inicial e final\n",
        "display(Markdown('### iloc = 0'), exemplo_linha(df_fifa, iloc=0).T, \n",
        "        Markdown('<br/>\\n\\n### iloc = -1'), exemplo_linha(df_fifa, iloc=-1).T)"
      ],
      "execution_count": null,
      "outputs": [
        {
          "output_type": "display_data",
          "data": {
            "text/markdown": "### iloc = 0",
            "text/plain": [
              "<IPython.core.display.Markdown object>"
            ]
          },
          "metadata": {
            "tags": []
          }
        },
        {
          "output_type": "display_data",
          "data": {
            "text/html": [
              "<div>\n",
              "<style scoped>\n",
              "    .dataframe tbody tr th:only-of-type {\n",
              "        vertical-align: middle;\n",
              "    }\n",
              "\n",
              "    .dataframe tbody tr th {\n",
              "        vertical-align: top;\n",
              "    }\n",
              "\n",
              "    .dataframe thead th {\n",
              "        text-align: right;\n",
              "    }\n",
              "</style>\n",
              "<table border=\"1\" class=\"dataframe\">\n",
              "  <thead>\n",
              "    <tr style=\"text-align: right;\">\n",
              "      <th>nome_coluna</th>\n",
              "      <th>name</th>\n",
              "      <th>age</th>\n",
              "      <th>nationality</th>\n",
              "      <th>overall</th>\n",
              "      <th>potential</th>\n",
              "      <th>club</th>\n",
              "      <th>value</th>\n",
              "      <th>wage</th>\n",
              "      <th>release_clause</th>\n",
              "      <th>special</th>\n",
              "      <th>preferred_foot</th>\n",
              "      <th>international_reputation</th>\n",
              "      <th>weak_foot</th>\n",
              "      <th>skill_moves</th>\n",
              "      <th>work_rate</th>\n",
              "      <th>position</th>\n",
              "      <th>jersey_number</th>\n",
              "      <th>joined</th>\n",
              "      <th>loaned_from</th>\n",
              "      <th>contract_valid_until</th>\n",
              "      <th>height</th>\n",
              "      <th>weight</th>\n",
              "      <th>crossing</th>\n",
              "      <th>finishing</th>\n",
              "      <th>heading_accuracy</th>\n",
              "      <th>short_passing</th>\n",
              "      <th>volleys</th>\n",
              "      <th>dribbling</th>\n",
              "      <th>curve</th>\n",
              "      <th>fk_accuracy</th>\n",
              "      <th>long_passing</th>\n",
              "      <th>ball_control</th>\n",
              "      <th>acceleration</th>\n",
              "      <th>sprint_speed</th>\n",
              "      <th>agility</th>\n",
              "      <th>reactions</th>\n",
              "      <th>balance</th>\n",
              "      <th>shot_power</th>\n",
              "      <th>jumping</th>\n",
              "      <th>stamina</th>\n",
              "      <th>strength</th>\n",
              "      <th>long_shots</th>\n",
              "      <th>aggression</th>\n",
              "      <th>interceptions</th>\n",
              "      <th>positioning</th>\n",
              "      <th>vision</th>\n",
              "      <th>penalties</th>\n",
              "      <th>composure</th>\n",
              "      <th>marking</th>\n",
              "      <th>standing_tackle</th>\n",
              "      <th>sliding_tackle</th>\n",
              "      <th>gk_diving</th>\n",
              "      <th>gk_handling</th>\n",
              "      <th>gk_kicking</th>\n",
              "      <th>gk_positioning</th>\n",
              "      <th>gk_reflexes</th>\n",
              "    </tr>\n",
              "  </thead>\n",
              "  <tbody>\n",
              "    <tr>\n",
              "      <th>valor_exemplo</th>\n",
              "      <td>L. Messi</td>\n",
              "      <td>31</td>\n",
              "      <td>Argentina</td>\n",
              "      <td>94</td>\n",
              "      <td>94</td>\n",
              "      <td>FC Barcelona</td>\n",
              "      <td>€110.5M</td>\n",
              "      <td>€565K</td>\n",
              "      <td>€226.5M</td>\n",
              "      <td>2202</td>\n",
              "      <td>Left</td>\n",
              "      <td>5</td>\n",
              "      <td>4</td>\n",
              "      <td>4</td>\n",
              "      <td>Medium/ Medium</td>\n",
              "      <td>RF</td>\n",
              "      <td>10</td>\n",
              "      <td>Jul 1, 2004</td>\n",
              "      <td>NaN</td>\n",
              "      <td>2021</td>\n",
              "      <td>5'7</td>\n",
              "      <td>159lbs</td>\n",
              "      <td>84</td>\n",
              "      <td>95</td>\n",
              "      <td>70</td>\n",
              "      <td>90</td>\n",
              "      <td>86</td>\n",
              "      <td>97</td>\n",
              "      <td>93</td>\n",
              "      <td>94</td>\n",
              "      <td>87</td>\n",
              "      <td>96</td>\n",
              "      <td>91</td>\n",
              "      <td>86</td>\n",
              "      <td>91</td>\n",
              "      <td>95</td>\n",
              "      <td>95</td>\n",
              "      <td>85</td>\n",
              "      <td>68</td>\n",
              "      <td>72</td>\n",
              "      <td>59</td>\n",
              "      <td>94</td>\n",
              "      <td>48</td>\n",
              "      <td>22</td>\n",
              "      <td>94</td>\n",
              "      <td>94</td>\n",
              "      <td>75</td>\n",
              "      <td>96</td>\n",
              "      <td>33</td>\n",
              "      <td>28</td>\n",
              "      <td>26</td>\n",
              "      <td>6</td>\n",
              "      <td>11</td>\n",
              "      <td>15</td>\n",
              "      <td>14</td>\n",
              "      <td>8</td>\n",
              "    </tr>\n",
              "    <tr>\n",
              "      <th>dtype_coluna</th>\n",
              "      <td>object</td>\n",
              "      <td>int64</td>\n",
              "      <td>object</td>\n",
              "      <td>int64</td>\n",
              "      <td>int64</td>\n",
              "      <td>object</td>\n",
              "      <td>object</td>\n",
              "      <td>object</td>\n",
              "      <td>object</td>\n",
              "      <td>int64</td>\n",
              "      <td>object</td>\n",
              "      <td>float64</td>\n",
              "      <td>float64</td>\n",
              "      <td>float64</td>\n",
              "      <td>object</td>\n",
              "      <td>object</td>\n",
              "      <td>float64</td>\n",
              "      <td>object</td>\n",
              "      <td>object</td>\n",
              "      <td>object</td>\n",
              "      <td>object</td>\n",
              "      <td>object</td>\n",
              "      <td>float64</td>\n",
              "      <td>float64</td>\n",
              "      <td>float64</td>\n",
              "      <td>float64</td>\n",
              "      <td>float64</td>\n",
              "      <td>float64</td>\n",
              "      <td>float64</td>\n",
              "      <td>float64</td>\n",
              "      <td>float64</td>\n",
              "      <td>float64</td>\n",
              "      <td>float64</td>\n",
              "      <td>float64</td>\n",
              "      <td>float64</td>\n",
              "      <td>float64</td>\n",
              "      <td>float64</td>\n",
              "      <td>float64</td>\n",
              "      <td>float64</td>\n",
              "      <td>float64</td>\n",
              "      <td>float64</td>\n",
              "      <td>float64</td>\n",
              "      <td>float64</td>\n",
              "      <td>float64</td>\n",
              "      <td>float64</td>\n",
              "      <td>float64</td>\n",
              "      <td>float64</td>\n",
              "      <td>float64</td>\n",
              "      <td>float64</td>\n",
              "      <td>float64</td>\n",
              "      <td>float64</td>\n",
              "      <td>float64</td>\n",
              "      <td>float64</td>\n",
              "      <td>float64</td>\n",
              "      <td>float64</td>\n",
              "      <td>float64</td>\n",
              "    </tr>\n",
              "    <tr>\n",
              "      <th>classe_valor</th>\n",
              "      <td>str</td>\n",
              "      <td>int64</td>\n",
              "      <td>str</td>\n",
              "      <td>int64</td>\n",
              "      <td>int64</td>\n",
              "      <td>str</td>\n",
              "      <td>str</td>\n",
              "      <td>str</td>\n",
              "      <td>str</td>\n",
              "      <td>int64</td>\n",
              "      <td>str</td>\n",
              "      <td>float64</td>\n",
              "      <td>float64</td>\n",
              "      <td>float64</td>\n",
              "      <td>str</td>\n",
              "      <td>str</td>\n",
              "      <td>float64</td>\n",
              "      <td>str</td>\n",
              "      <td>float</td>\n",
              "      <td>str</td>\n",
              "      <td>str</td>\n",
              "      <td>str</td>\n",
              "      <td>float64</td>\n",
              "      <td>float64</td>\n",
              "      <td>float64</td>\n",
              "      <td>float64</td>\n",
              "      <td>float64</td>\n",
              "      <td>float64</td>\n",
              "      <td>float64</td>\n",
              "      <td>float64</td>\n",
              "      <td>float64</td>\n",
              "      <td>float64</td>\n",
              "      <td>float64</td>\n",
              "      <td>float64</td>\n",
              "      <td>float64</td>\n",
              "      <td>float64</td>\n",
              "      <td>float64</td>\n",
              "      <td>float64</td>\n",
              "      <td>float64</td>\n",
              "      <td>float64</td>\n",
              "      <td>float64</td>\n",
              "      <td>float64</td>\n",
              "      <td>float64</td>\n",
              "      <td>float64</td>\n",
              "      <td>float64</td>\n",
              "      <td>float64</td>\n",
              "      <td>float64</td>\n",
              "      <td>float64</td>\n",
              "      <td>float64</td>\n",
              "      <td>float64</td>\n",
              "      <td>float64</td>\n",
              "      <td>float64</td>\n",
              "      <td>float64</td>\n",
              "      <td>float64</td>\n",
              "      <td>float64</td>\n",
              "      <td>float64</td>\n",
              "    </tr>\n",
              "  </tbody>\n",
              "</table>\n",
              "</div>"
            ],
            "text/plain": [
              "nome_coluna        name    age nationality overall potential          club    value    wage release_clause special preferred_foot international_reputation weak_foot skill_moves       work_rate  \\\n",
              "valor_exemplo  L. Messi     31   Argentina      94        94  FC Barcelona  €110.5M   €565K        €226.5M    2202           Left                        5         4           4  Medium/ Medium   \n",
              "dtype_coluna     object  int64      object   int64     int64        object   object  object         object   int64         object                  float64   float64     float64          object   \n",
              "classe_valor        str  int64         str   int64     int64           str      str     str            str   int64            str                  float64   float64     float64             str   \n",
              "\n",
              "nome_coluna   position jersey_number       joined loaned_from contract_valid_until  height  weight crossing finishing heading_accuracy short_passing  volleys dribbling    curve fk_accuracy  \\\n",
              "valor_exemplo       RF            10  Jul 1, 2004         NaN                 2021     5'7  159lbs       84        95               70            90       86        97       93          94   \n",
              "dtype_coluna    object       float64       object      object               object  object  object  float64   float64          float64       float64  float64   float64  float64     float64   \n",
              "classe_valor       str       float64          str       float                  str     str     str  float64   float64          float64       float64  float64   float64  float64     float64   \n",
              "\n",
              "nome_coluna   long_passing ball_control acceleration sprint_speed  agility reactions  balance shot_power  jumping  stamina strength long_shots aggression interceptions positioning   vision  \\\n",
              "valor_exemplo           87           96           91           86       91        95       95         85       68       72       59         94         48            22          94       94   \n",
              "dtype_coluna       float64      float64      float64      float64  float64   float64  float64    float64  float64  float64  float64    float64    float64       float64     float64  float64   \n",
              "classe_valor       float64      float64      float64      float64  float64   float64  float64    float64  float64  float64  float64    float64    float64       float64     float64  float64   \n",
              "\n",
              "nome_coluna   penalties composure  marking standing_tackle sliding_tackle gk_diving gk_handling gk_kicking gk_positioning gk_reflexes  \n",
              "valor_exemplo        75        96       33              28             26         6          11         15             14           8  \n",
              "dtype_coluna    float64   float64  float64         float64        float64   float64     float64    float64        float64     float64  \n",
              "classe_valor    float64   float64  float64         float64        float64   float64     float64    float64        float64     float64  "
            ]
          },
          "metadata": {
            "tags": []
          }
        },
        {
          "output_type": "display_data",
          "data": {
            "text/markdown": "<br/>\n\n### iloc = -1",
            "text/plain": [
              "<IPython.core.display.Markdown object>"
            ]
          },
          "metadata": {
            "tags": []
          }
        },
        {
          "output_type": "display_data",
          "data": {
            "text/html": [
              "<div>\n",
              "<style scoped>\n",
              "    .dataframe tbody tr th:only-of-type {\n",
              "        vertical-align: middle;\n",
              "    }\n",
              "\n",
              "    .dataframe tbody tr th {\n",
              "        vertical-align: top;\n",
              "    }\n",
              "\n",
              "    .dataframe thead th {\n",
              "        text-align: right;\n",
              "    }\n",
              "</style>\n",
              "<table border=\"1\" class=\"dataframe\">\n",
              "  <thead>\n",
              "    <tr style=\"text-align: right;\">\n",
              "      <th>nome_coluna</th>\n",
              "      <th>name</th>\n",
              "      <th>age</th>\n",
              "      <th>nationality</th>\n",
              "      <th>overall</th>\n",
              "      <th>potential</th>\n",
              "      <th>club</th>\n",
              "      <th>value</th>\n",
              "      <th>wage</th>\n",
              "      <th>release_clause</th>\n",
              "      <th>special</th>\n",
              "      <th>preferred_foot</th>\n",
              "      <th>international_reputation</th>\n",
              "      <th>weak_foot</th>\n",
              "      <th>skill_moves</th>\n",
              "      <th>work_rate</th>\n",
              "      <th>position</th>\n",
              "      <th>jersey_number</th>\n",
              "      <th>joined</th>\n",
              "      <th>loaned_from</th>\n",
              "      <th>contract_valid_until</th>\n",
              "      <th>height</th>\n",
              "      <th>weight</th>\n",
              "      <th>crossing</th>\n",
              "      <th>finishing</th>\n",
              "      <th>heading_accuracy</th>\n",
              "      <th>short_passing</th>\n",
              "      <th>volleys</th>\n",
              "      <th>dribbling</th>\n",
              "      <th>curve</th>\n",
              "      <th>fk_accuracy</th>\n",
              "      <th>long_passing</th>\n",
              "      <th>ball_control</th>\n",
              "      <th>acceleration</th>\n",
              "      <th>sprint_speed</th>\n",
              "      <th>agility</th>\n",
              "      <th>reactions</th>\n",
              "      <th>balance</th>\n",
              "      <th>shot_power</th>\n",
              "      <th>jumping</th>\n",
              "      <th>stamina</th>\n",
              "      <th>strength</th>\n",
              "      <th>long_shots</th>\n",
              "      <th>aggression</th>\n",
              "      <th>interceptions</th>\n",
              "      <th>positioning</th>\n",
              "      <th>vision</th>\n",
              "      <th>penalties</th>\n",
              "      <th>composure</th>\n",
              "      <th>marking</th>\n",
              "      <th>standing_tackle</th>\n",
              "      <th>sliding_tackle</th>\n",
              "      <th>gk_diving</th>\n",
              "      <th>gk_handling</th>\n",
              "      <th>gk_kicking</th>\n",
              "      <th>gk_positioning</th>\n",
              "      <th>gk_reflexes</th>\n",
              "    </tr>\n",
              "  </thead>\n",
              "  <tbody>\n",
              "    <tr>\n",
              "      <th>valor_exemplo</th>\n",
              "      <td>G. Nugent</td>\n",
              "      <td>16</td>\n",
              "      <td>England</td>\n",
              "      <td>46</td>\n",
              "      <td>66</td>\n",
              "      <td>Tranmere Rovers</td>\n",
              "      <td>€60K</td>\n",
              "      <td>€1K</td>\n",
              "      <td>€165K</td>\n",
              "      <td>1321</td>\n",
              "      <td>Right</td>\n",
              "      <td>1</td>\n",
              "      <td>3</td>\n",
              "      <td>2</td>\n",
              "      <td>Medium/ Medium</td>\n",
              "      <td>CM</td>\n",
              "      <td>33</td>\n",
              "      <td>Oct 30, 2018</td>\n",
              "      <td>NaN</td>\n",
              "      <td>2019</td>\n",
              "      <td>5'10</td>\n",
              "      <td>176lbs</td>\n",
              "      <td>41</td>\n",
              "      <td>34</td>\n",
              "      <td>46</td>\n",
              "      <td>48</td>\n",
              "      <td>30</td>\n",
              "      <td>43</td>\n",
              "      <td>40</td>\n",
              "      <td>34</td>\n",
              "      <td>44</td>\n",
              "      <td>51</td>\n",
              "      <td>57</td>\n",
              "      <td>55</td>\n",
              "      <td>55</td>\n",
              "      <td>51</td>\n",
              "      <td>63</td>\n",
              "      <td>43</td>\n",
              "      <td>62</td>\n",
              "      <td>47</td>\n",
              "      <td>60</td>\n",
              "      <td>32</td>\n",
              "      <td>56</td>\n",
              "      <td>42</td>\n",
              "      <td>34</td>\n",
              "      <td>49</td>\n",
              "      <td>33</td>\n",
              "      <td>43</td>\n",
              "      <td>40</td>\n",
              "      <td>43</td>\n",
              "      <td>50</td>\n",
              "      <td>10</td>\n",
              "      <td>15</td>\n",
              "      <td>9</td>\n",
              "      <td>12</td>\n",
              "      <td>9</td>\n",
              "    </tr>\n",
              "    <tr>\n",
              "      <th>dtype_coluna</th>\n",
              "      <td>object</td>\n",
              "      <td>int64</td>\n",
              "      <td>object</td>\n",
              "      <td>int64</td>\n",
              "      <td>int64</td>\n",
              "      <td>object</td>\n",
              "      <td>object</td>\n",
              "      <td>object</td>\n",
              "      <td>object</td>\n",
              "      <td>int64</td>\n",
              "      <td>object</td>\n",
              "      <td>float64</td>\n",
              "      <td>float64</td>\n",
              "      <td>float64</td>\n",
              "      <td>object</td>\n",
              "      <td>object</td>\n",
              "      <td>float64</td>\n",
              "      <td>object</td>\n",
              "      <td>object</td>\n",
              "      <td>object</td>\n",
              "      <td>object</td>\n",
              "      <td>object</td>\n",
              "      <td>float64</td>\n",
              "      <td>float64</td>\n",
              "      <td>float64</td>\n",
              "      <td>float64</td>\n",
              "      <td>float64</td>\n",
              "      <td>float64</td>\n",
              "      <td>float64</td>\n",
              "      <td>float64</td>\n",
              "      <td>float64</td>\n",
              "      <td>float64</td>\n",
              "      <td>float64</td>\n",
              "      <td>float64</td>\n",
              "      <td>float64</td>\n",
              "      <td>float64</td>\n",
              "      <td>float64</td>\n",
              "      <td>float64</td>\n",
              "      <td>float64</td>\n",
              "      <td>float64</td>\n",
              "      <td>float64</td>\n",
              "      <td>float64</td>\n",
              "      <td>float64</td>\n",
              "      <td>float64</td>\n",
              "      <td>float64</td>\n",
              "      <td>float64</td>\n",
              "      <td>float64</td>\n",
              "      <td>float64</td>\n",
              "      <td>float64</td>\n",
              "      <td>float64</td>\n",
              "      <td>float64</td>\n",
              "      <td>float64</td>\n",
              "      <td>float64</td>\n",
              "      <td>float64</td>\n",
              "      <td>float64</td>\n",
              "      <td>float64</td>\n",
              "    </tr>\n",
              "    <tr>\n",
              "      <th>classe_valor</th>\n",
              "      <td>str</td>\n",
              "      <td>int64</td>\n",
              "      <td>str</td>\n",
              "      <td>int64</td>\n",
              "      <td>int64</td>\n",
              "      <td>str</td>\n",
              "      <td>str</td>\n",
              "      <td>str</td>\n",
              "      <td>str</td>\n",
              "      <td>int64</td>\n",
              "      <td>str</td>\n",
              "      <td>float64</td>\n",
              "      <td>float64</td>\n",
              "      <td>float64</td>\n",
              "      <td>str</td>\n",
              "      <td>str</td>\n",
              "      <td>float64</td>\n",
              "      <td>str</td>\n",
              "      <td>float</td>\n",
              "      <td>str</td>\n",
              "      <td>str</td>\n",
              "      <td>str</td>\n",
              "      <td>float64</td>\n",
              "      <td>float64</td>\n",
              "      <td>float64</td>\n",
              "      <td>float64</td>\n",
              "      <td>float64</td>\n",
              "      <td>float64</td>\n",
              "      <td>float64</td>\n",
              "      <td>float64</td>\n",
              "      <td>float64</td>\n",
              "      <td>float64</td>\n",
              "      <td>float64</td>\n",
              "      <td>float64</td>\n",
              "      <td>float64</td>\n",
              "      <td>float64</td>\n",
              "      <td>float64</td>\n",
              "      <td>float64</td>\n",
              "      <td>float64</td>\n",
              "      <td>float64</td>\n",
              "      <td>float64</td>\n",
              "      <td>float64</td>\n",
              "      <td>float64</td>\n",
              "      <td>float64</td>\n",
              "      <td>float64</td>\n",
              "      <td>float64</td>\n",
              "      <td>float64</td>\n",
              "      <td>float64</td>\n",
              "      <td>float64</td>\n",
              "      <td>float64</td>\n",
              "      <td>float64</td>\n",
              "      <td>float64</td>\n",
              "      <td>float64</td>\n",
              "      <td>float64</td>\n",
              "      <td>float64</td>\n",
              "      <td>float64</td>\n",
              "    </tr>\n",
              "  </tbody>\n",
              "</table>\n",
              "</div>"
            ],
            "text/plain": [
              "nome_coluna         name    age nationality overall potential             club   value    wage release_clause special preferred_foot international_reputation weak_foot skill_moves       work_rate  \\\n",
              "valor_exemplo  G. Nugent     16     England      46        66  Tranmere Rovers    €60K     €1K          €165K    1321          Right                        1         3           2  Medium/ Medium   \n",
              "dtype_coluna      object  int64      object   int64     int64           object  object  object         object   int64         object                  float64   float64     float64          object   \n",
              "classe_valor         str  int64         str   int64     int64              str     str     str            str   int64            str                  float64   float64     float64             str   \n",
              "\n",
              "nome_coluna   position jersey_number        joined loaned_from contract_valid_until  height  weight crossing finishing heading_accuracy short_passing  volleys dribbling    curve fk_accuracy  \\\n",
              "valor_exemplo       CM            33  Oct 30, 2018         NaN                 2019    5'10  176lbs       41        34               46            48       30        43       40          34   \n",
              "dtype_coluna    object       float64        object      object               object  object  object  float64   float64          float64       float64  float64   float64  float64     float64   \n",
              "classe_valor       str       float64           str       float                  str     str     str  float64   float64          float64       float64  float64   float64  float64     float64   \n",
              "\n",
              "nome_coluna   long_passing ball_control acceleration sprint_speed  agility reactions  balance shot_power  jumping  stamina strength long_shots aggression interceptions positioning   vision  \\\n",
              "valor_exemplo           44           51           57           55       55        51       63         43       62       47       60         32         56            42          34       49   \n",
              "dtype_coluna       float64      float64      float64      float64  float64   float64  float64    float64  float64  float64  float64    float64    float64       float64     float64  float64   \n",
              "classe_valor       float64      float64      float64      float64  float64   float64  float64    float64  float64  float64  float64    float64    float64       float64     float64  float64   \n",
              "\n",
              "nome_coluna   penalties composure  marking standing_tackle sliding_tackle gk_diving gk_handling gk_kicking gk_positioning gk_reflexes  \n",
              "valor_exemplo        33        43       40              43             50        10          15          9             12           9  \n",
              "dtype_coluna    float64   float64  float64         float64        float64   float64     float64    float64        float64     float64  \n",
              "classe_valor    float64   float64  float64         float64        float64   float64     float64    float64        float64     float64  "
            ]
          },
          "metadata": {
            "tags": []
          }
        }
      ]
    },
    {
      "cell_type": "markdown",
      "metadata": {
        "id": "FFiKySk1_z0P"
      },
      "source": [
        "### Alterações nas colunas com valores financeiros"
      ]
    },
    {
      "cell_type": "code",
      "metadata": {
        "id": "fp_K9xlnBWJx",
        "outputId": "ff0a190f-bd33-471c-9f14-568985d99618",
        "colab": {
          "base_uri": "https://localhost:8080/"
        }
      },
      "source": [
        "# com base na linha inicial, identificação de colunas com valores financeiros\n",
        "sr_linha_0 = df_fifa.iloc[0]\n",
        "lst_cols_financ = ( sr_linha_0[ sr_linha_0.str.contains('€', na=False) ]\n",
        "                    .index.to_list() )\n",
        "lst_cols_financ"
      ],
      "execution_count": null,
      "outputs": [
        {
          "output_type": "execute_result",
          "data": {
            "text/plain": [
              "['value', 'wage', 'release_clause']"
            ]
          },
          "metadata": {
            "tags": []
          },
          "execution_count": 9
        }
      ]
    },
    {
      "cell_type": "code",
      "metadata": {
        "id": "YKMmoeTMSmB2",
        "outputId": "57fa90be-2d6c-4de7-d6b4-bdf8a582d8be",
        "colab": {
          "base_uri": "https://localhost:8080/"
        }
      },
      "source": [
        "# desdobramento das colunas de valores financeiros com expressão regular.\n",
        "# cada coluna vira 3 colunas de texto: moeda, quantidade, multiplicador.\n",
        "df_financ = pd.concat(\n",
        "     [  df_fifa[col].str.extract(r'^(\\D+)([\\d\\.]+)(\\D+)$')\n",
        "        .set_axis(\n",
        "            labels=[f'{col}_{obs}' for obs in  ('moeda', 'quant', 'multi')]\n",
        "            , axis=1)\n",
        "        for col in lst_cols_financ]\n",
        "    , axis=1)\n",
        "d_pd(df_financ)"
      ],
      "execution_count": null,
      "outputs": [
        {
          "output_type": "display_data",
          "data": {
            "text/html": [
              "<div>\n",
              "<style scoped>\n",
              "    .dataframe tbody tr th:only-of-type {\n",
              "        vertical-align: middle;\n",
              "    }\n",
              "\n",
              "    .dataframe tbody tr th {\n",
              "        vertical-align: top;\n",
              "    }\n",
              "\n",
              "    .dataframe thead th {\n",
              "        text-align: right;\n",
              "    }\n",
              "</style>\n",
              "<table border=\"1\" class=\"dataframe\">\n",
              "  <thead>\n",
              "    <tr style=\"text-align: right;\">\n",
              "      <th></th>\n",
              "      <th>value_moeda</th>\n",
              "      <th>value_quant</th>\n",
              "      <th>value_multi</th>\n",
              "      <th>wage_moeda</th>\n",
              "      <th>wage_quant</th>\n",
              "      <th>wage_multi</th>\n",
              "      <th>release_clause_moeda</th>\n",
              "      <th>release_clause_quant</th>\n",
              "      <th>release_clause_multi</th>\n",
              "    </tr>\n",
              "    <tr>\n",
              "      <th>id</th>\n",
              "      <th></th>\n",
              "      <th></th>\n",
              "      <th></th>\n",
              "      <th></th>\n",
              "      <th></th>\n",
              "      <th></th>\n",
              "      <th></th>\n",
              "      <th></th>\n",
              "      <th></th>\n",
              "    </tr>\n",
              "  </thead>\n",
              "  <tbody>\n",
              "    <tr>\n",
              "      <th>158023</th>\n",
              "      <td>€</td>\n",
              "      <td>110.5</td>\n",
              "      <td>M</td>\n",
              "      <td>€</td>\n",
              "      <td>565</td>\n",
              "      <td>K</td>\n",
              "      <td>€</td>\n",
              "      <td>226.5</td>\n",
              "      <td>M</td>\n",
              "    </tr>\n",
              "    <tr>\n",
              "      <th>246269</th>\n",
              "      <td>€</td>\n",
              "      <td>60</td>\n",
              "      <td>K</td>\n",
              "      <td>€</td>\n",
              "      <td>1</td>\n",
              "      <td>K</td>\n",
              "      <td>€</td>\n",
              "      <td>165</td>\n",
              "      <td>K</td>\n",
              "    </tr>\n",
              "  </tbody>\n",
              "</table>\n",
              "</div>"
            ],
            "text/plain": [
              "       value_moeda value_quant value_multi wage_moeda wage_quant wage_multi release_clause_moeda release_clause_quant release_clause_multi\n",
              "id                                                                                                                                        \n",
              "158023           €       110.5           M          €        565          K                    €                226.5                    M\n",
              "246269           €          60           K          €          1          K                    €                  165                    K"
            ]
          },
          "metadata": {
            "tags": []
          }
        },
        {
          "output_type": "display_data",
          "data": {
            "text/plain": [
              "(18207, 9)"
            ]
          },
          "metadata": {
            "tags": []
          }
        }
      ]
    },
    {
      "cell_type": "code",
      "metadata": {
        "id": "3-NMa5Y6U231",
        "outputId": "4d4f7dc7-e5a2-4d7a-e10a-62ddd03b432f",
        "colab": {
          "base_uri": "https://localhost:8080/"
        }
      },
      "source": [
        "# levantamento dos valores distintos nas colunas de moeda e de multiplicador\n",
        "lst_cols_texto = [nome for nome in df_financ.columns if not nome.endswith('quant')]\n",
        "pd.Series({col:list(df_financ[col].unique()) for col in lst_cols_texto})"
      ],
      "execution_count": null,
      "outputs": [
        {
          "output_type": "execute_result",
          "data": {
            "text/plain": [
              "value_moeda                [€, nan]\n",
              "value_multi             [M, nan, K]\n",
              "wage_moeda                 [€, nan]\n",
              "wage_multi                 [K, nan]\n",
              "release_clause_moeda       [€, nan]\n",
              "release_clause_multi    [M, nan, K]\n",
              "dtype: object"
            ]
          },
          "metadata": {
            "tags": []
          },
          "execution_count": 11
        }
      ]
    },
    {
      "cell_type": "code",
      "metadata": {
        "id": "9ehQBAakXGlz",
        "outputId": "4e553e4c-0f4c-4dc4-96d1-c46a1aeb8b56",
        "colab": {
          "base_uri": "https://localhost:8080/"
        }
      },
      "source": [
        "# conclusão: todos valores em euros e somente multiplicadores de milhar e milhão.\n",
        "# atualização das colunas originais dos valores financeiros com valores `float`\n",
        "# resultantes das quantidades multiplicadas pelos valores de K e M.\n",
        "lst_cols_quant = [nome for nome in df_financ.columns if nome.endswith('quant')]\n",
        "lst_cols_multi = [nome for nome in df_financ.columns if nome.endswith('multi')]\n",
        "display(lst_cols_financ, lst_cols_quant, lst_cols_multi)\n",
        "df_fifa.loc[:, lst_cols_financ] = (\n",
        "    df_financ[lst_cols_quant].astype(float).values \n",
        "    * \n",
        "    df_financ[lst_cols_multi].applymap({'K':1000.0, 'M':1000000.0}.get).values)"
      ],
      "execution_count": null,
      "outputs": [
        {
          "output_type": "display_data",
          "data": {
            "text/plain": [
              "['value', 'wage', 'release_clause']"
            ]
          },
          "metadata": {
            "tags": []
          }
        },
        {
          "output_type": "display_data",
          "data": {
            "text/plain": [
              "['value_quant', 'wage_quant', 'release_clause_quant']"
            ]
          },
          "metadata": {
            "tags": []
          }
        },
        {
          "output_type": "display_data",
          "data": {
            "text/plain": [
              "['value_multi', 'wage_multi', 'release_clause_multi']"
            ]
          },
          "metadata": {
            "tags": []
          }
        }
      ]
    },
    {
      "cell_type": "code",
      "metadata": {
        "id": "GU9nKwkwlQHS",
        "outputId": "08d73fdd-3536-4e9e-94e1-57e4fb90b43c",
        "colab": {
          "base_uri": "https://localhost:8080/"
        }
      },
      "source": [
        "# conferência: `dtypes` das colunas de valores financeiros\n",
        "display(  df_fifa[lst_cols_financ].dtypes  )\n",
        "print()\n",
        "display(  df_fifa[lst_cols_financ].sample(3)  )"
      ],
      "execution_count": null,
      "outputs": [
        {
          "output_type": "display_data",
          "data": {
            "text/plain": [
              "value             float64\n",
              "wage              float64\n",
              "release_clause    float64\n",
              "dtype: object"
            ]
          },
          "metadata": {
            "tags": []
          }
        },
        {
          "output_type": "stream",
          "text": [
            "\n"
          ],
          "name": "stdout"
        },
        {
          "output_type": "display_data",
          "data": {
            "text/html": [
              "<div>\n",
              "<style scoped>\n",
              "    .dataframe tbody tr th:only-of-type {\n",
              "        vertical-align: middle;\n",
              "    }\n",
              "\n",
              "    .dataframe tbody tr th {\n",
              "        vertical-align: top;\n",
              "    }\n",
              "\n",
              "    .dataframe thead th {\n",
              "        text-align: right;\n",
              "    }\n",
              "</style>\n",
              "<table border=\"1\" class=\"dataframe\">\n",
              "  <thead>\n",
              "    <tr style=\"text-align: right;\">\n",
              "      <th></th>\n",
              "      <th>value</th>\n",
              "      <th>wage</th>\n",
              "      <th>release_clause</th>\n",
              "    </tr>\n",
              "    <tr>\n",
              "      <th>id</th>\n",
              "      <th></th>\n",
              "      <th></th>\n",
              "      <th></th>\n",
              "    </tr>\n",
              "  </thead>\n",
              "  <tbody>\n",
              "    <tr>\n",
              "      <th>192231</th>\n",
              "      <td>775000.0</td>\n",
              "      <td>3000.0</td>\n",
              "      <td>1400000.0</td>\n",
              "    </tr>\n",
              "    <tr>\n",
              "      <th>235389</th>\n",
              "      <td>500000.0</td>\n",
              "      <td>6000.0</td>\n",
              "      <td>950000.0</td>\n",
              "    </tr>\n",
              "    <tr>\n",
              "      <th>244677</th>\n",
              "      <td>70000.0</td>\n",
              "      <td>1000.0</td>\n",
              "      <td>175000.0</td>\n",
              "    </tr>\n",
              "  </tbody>\n",
              "</table>\n",
              "</div>"
            ],
            "text/plain": [
              "           value    wage  release_clause\n",
              "id                                      \n",
              "192231  775000.0  3000.0       1400000.0\n",
              "235389  500000.0  6000.0        950000.0\n",
              "244677   70000.0  1000.0        175000.0"
            ]
          },
          "metadata": {
            "tags": []
          }
        }
      ]
    },
    {
      "cell_type": "code",
      "metadata": {
        "id": "76tZm8-2ESpv",
        "outputId": "86e415f0-6212-4d1e-900e-2b922e821c9d",
        "colab": {
          "base_uri": "https://localhost:8080/"
        }
      },
      "source": [
        "# sumários estatístico e técnico\n",
        "display(df_fifa[lst_cols_financ].describe())\n",
        "print()\n",
        "df_fifa[lst_cols_financ].info(memory_usage=False)"
      ],
      "execution_count": null,
      "outputs": [
        {
          "output_type": "display_data",
          "data": {
            "text/html": [
              "<div>\n",
              "<style scoped>\n",
              "    .dataframe tbody tr th:only-of-type {\n",
              "        vertical-align: middle;\n",
              "    }\n",
              "\n",
              "    .dataframe tbody tr th {\n",
              "        vertical-align: top;\n",
              "    }\n",
              "\n",
              "    .dataframe thead th {\n",
              "        text-align: right;\n",
              "    }\n",
              "</style>\n",
              "<table border=\"1\" class=\"dataframe\">\n",
              "  <thead>\n",
              "    <tr style=\"text-align: right;\">\n",
              "      <th></th>\n",
              "      <th>value</th>\n",
              "      <th>wage</th>\n",
              "      <th>release_clause</th>\n",
              "    </tr>\n",
              "  </thead>\n",
              "  <tbody>\n",
              "    <tr>\n",
              "      <th>count</th>\n",
              "      <td>1.795500e+04</td>\n",
              "      <td>17966.000000</td>\n",
              "      <td>1.664300e+04</td>\n",
              "    </tr>\n",
              "    <tr>\n",
              "      <th>mean</th>\n",
              "      <td>2.444530e+06</td>\n",
              "      <td>9861.850161</td>\n",
              "      <td>4.585061e+06</td>\n",
              "    </tr>\n",
              "    <tr>\n",
              "      <th>std</th>\n",
              "      <td>5.626715e+06</td>\n",
              "      <td>22117.273534</td>\n",
              "      <td>1.111872e+07</td>\n",
              "    </tr>\n",
              "    <tr>\n",
              "      <th>min</th>\n",
              "      <td>1.000000e+04</td>\n",
              "      <td>1000.000000</td>\n",
              "      <td>1.300000e+04</td>\n",
              "    </tr>\n",
              "    <tr>\n",
              "      <th>25%</th>\n",
              "      <td>3.250000e+05</td>\n",
              "      <td>1000.000000</td>\n",
              "      <td>5.250000e+05</td>\n",
              "    </tr>\n",
              "    <tr>\n",
              "      <th>50%</th>\n",
              "      <td>7.000000e+05</td>\n",
              "      <td>3000.000000</td>\n",
              "      <td>1.100000e+06</td>\n",
              "    </tr>\n",
              "    <tr>\n",
              "      <th>75%</th>\n",
              "      <td>2.100000e+06</td>\n",
              "      <td>9000.000000</td>\n",
              "      <td>3.500000e+06</td>\n",
              "    </tr>\n",
              "    <tr>\n",
              "      <th>max</th>\n",
              "      <td>1.185000e+08</td>\n",
              "      <td>565000.000000</td>\n",
              "      <td>2.281000e+08</td>\n",
              "    </tr>\n",
              "  </tbody>\n",
              "</table>\n",
              "</div>"
            ],
            "text/plain": [
              "              value           wage  release_clause\n",
              "count  1.795500e+04   17966.000000    1.664300e+04\n",
              "mean   2.444530e+06    9861.850161    4.585061e+06\n",
              "std    5.626715e+06   22117.273534    1.111872e+07\n",
              "min    1.000000e+04    1000.000000    1.300000e+04\n",
              "25%    3.250000e+05    1000.000000    5.250000e+05\n",
              "50%    7.000000e+05    3000.000000    1.100000e+06\n",
              "75%    2.100000e+06    9000.000000    3.500000e+06\n",
              "max    1.185000e+08  565000.000000    2.281000e+08"
            ]
          },
          "metadata": {
            "tags": []
          }
        },
        {
          "output_type": "stream",
          "text": [
            "\n",
            "<class 'pandas.core.frame.DataFrame'>\n",
            "Int64Index: 18207 entries, 158023 to 246269\n",
            "Data columns (total 3 columns):\n",
            " #   Column          Non-Null Count  Dtype  \n",
            "---  ------          --------------  -----  \n",
            " 0   value           17955 non-null  float64\n",
            " 1   wage            17966 non-null  float64\n",
            " 2   release_clause  16643 non-null  float64\n",
            "dtypes: float64(3)"
          ],
          "name": "stdout"
        }
      ]
    },
    {
      "cell_type": "markdown",
      "metadata": {
        "id": "ZjGG3Co9ANYB"
      },
      "source": [
        "### Alterações nas colunas de medidas corporais"
      ]
    },
    {
      "cell_type": "code",
      "metadata": {
        "id": "h5knIOSX3tG8",
        "outputId": "631f0a4d-296f-4e2a-9a6b-8502bd7d8b0d",
        "colab": {
          "base_uri": "https://localhost:8080/"
        }
      },
      "source": [
        "# inspeção dos formatos utilizados nas medidas\n",
        "lst_cols_medidas = ['height', 'weight']\n",
        "re_digito = re.compile(r'\\d+')\n",
        "pd.Series(\n",
        "    {col:list(df_fifa[col].str.replace(re_digito, '0').unique()) \n",
        "    for col in lst_cols_medidas})"
      ],
      "execution_count": null,
      "outputs": [
        {
          "output_type": "execute_result",
          "data": {
            "text/plain": [
              "height     [0'0, nan]\n",
              "weight    [0lbs, nan]\n",
              "dtype: object"
            ]
          },
          "metadata": {
            "tags": []
          },
          "execution_count": 15
        }
      ]
    },
    {
      "cell_type": "code",
      "metadata": {
        "id": "zRG8-XIb6xGw"
      },
      "source": [
        "# redefinição da altura com float em metros com duas casas decimais\n",
        "df_fifa['height'] = (\n",
        "    df_fifa.height\n",
        "    .str.split(\"'\", expand=True)\n",
        "    .astype(float) \n",
        "    * np.array([0.3048, 0.0254])\n",
        "    ).sum(axis=1).round(2)"
      ],
      "execution_count": null,
      "outputs": []
    },
    {
      "cell_type": "code",
      "metadata": {
        "id": "Rzi6mRLO86iT"
      },
      "source": [
        "# redefinição do peso com float em kg com uma casa decimal\n",
        "df_fifa['weight'] = (\n",
        "    df_fifa.weight\n",
        "    .str.replace('lbs', '', regex=False)\n",
        "    .astype(float) * 0.45359237\n",
        "    ).round(1)"
      ],
      "execution_count": null,
      "outputs": []
    },
    {
      "cell_type": "code",
      "metadata": {
        "id": "smywxLdu-lIv",
        "outputId": "d9f6d8e6-18ef-4ad4-f0d4-4ff811784a5e",
        "colab": {
          "base_uri": "https://localhost:8080/"
        }
      },
      "source": [
        "# conferência: `dtypes` das colunas de medidas\n",
        "display(  df_fifa[lst_cols_medidas].dtypes  )\n",
        "print()\n",
        "display(  df_fifa[lst_cols_medidas].sample(3)  )"
      ],
      "execution_count": null,
      "outputs": [
        {
          "output_type": "display_data",
          "data": {
            "text/plain": [
              "height    float64\n",
              "weight    float64\n",
              "dtype: object"
            ]
          },
          "metadata": {
            "tags": []
          }
        },
        {
          "output_type": "stream",
          "text": [
            "\n"
          ],
          "name": "stdout"
        },
        {
          "output_type": "display_data",
          "data": {
            "text/html": [
              "<div>\n",
              "<style scoped>\n",
              "    .dataframe tbody tr th:only-of-type {\n",
              "        vertical-align: middle;\n",
              "    }\n",
              "\n",
              "    .dataframe tbody tr th {\n",
              "        vertical-align: top;\n",
              "    }\n",
              "\n",
              "    .dataframe thead th {\n",
              "        text-align: right;\n",
              "    }\n",
              "</style>\n",
              "<table border=\"1\" class=\"dataframe\">\n",
              "  <thead>\n",
              "    <tr style=\"text-align: right;\">\n",
              "      <th></th>\n",
              "      <th>height</th>\n",
              "      <th>weight</th>\n",
              "    </tr>\n",
              "    <tr>\n",
              "      <th>id</th>\n",
              "      <th></th>\n",
              "      <th></th>\n",
              "    </tr>\n",
              "  </thead>\n",
              "  <tbody>\n",
              "    <tr>\n",
              "      <th>220915</th>\n",
              "      <td>1.83</td>\n",
              "      <td>74.8</td>\n",
              "    </tr>\n",
              "    <tr>\n",
              "      <th>221358</th>\n",
              "      <td>1.78</td>\n",
              "      <td>64.0</td>\n",
              "    </tr>\n",
              "    <tr>\n",
              "      <th>193601</th>\n",
              "      <td>1.85</td>\n",
              "      <td>81.2</td>\n",
              "    </tr>\n",
              "  </tbody>\n",
              "</table>\n",
              "</div>"
            ],
            "text/plain": [
              "        height  weight\n",
              "id                    \n",
              "220915    1.83    74.8\n",
              "221358    1.78    64.0\n",
              "193601    1.85    81.2"
            ]
          },
          "metadata": {
            "tags": []
          }
        }
      ]
    },
    {
      "cell_type": "code",
      "metadata": {
        "id": "OedKakEPFsl9",
        "outputId": "762021f3-1d68-4f80-df23-9f8effdfdfa1",
        "colab": {
          "base_uri": "https://localhost:8080/"
        }
      },
      "source": [
        "# sumários estatístico e técnico das medidas corporais\n",
        "display(df_fifa[lst_cols_medidas].describe())\n",
        "print()\n",
        "df_fifa[lst_cols_medidas].info(memory_usage=False)"
      ],
      "execution_count": null,
      "outputs": [
        {
          "output_type": "display_data",
          "data": {
            "text/html": [
              "<div>\n",
              "<style scoped>\n",
              "    .dataframe tbody tr th:only-of-type {\n",
              "        vertical-align: middle;\n",
              "    }\n",
              "\n",
              "    .dataframe tbody tr th {\n",
              "        vertical-align: top;\n",
              "    }\n",
              "\n",
              "    .dataframe thead th {\n",
              "        text-align: right;\n",
              "    }\n",
              "</style>\n",
              "<table border=\"1\" class=\"dataframe\">\n",
              "  <thead>\n",
              "    <tr style=\"text-align: right;\">\n",
              "      <th></th>\n",
              "      <th>height</th>\n",
              "      <th>weight</th>\n",
              "    </tr>\n",
              "  </thead>\n",
              "  <tbody>\n",
              "    <tr>\n",
              "      <th>count</th>\n",
              "      <td>18207.000000</td>\n",
              "      <td>18159.000000</td>\n",
              "    </tr>\n",
              "    <tr>\n",
              "      <th>mean</th>\n",
              "      <td>1.807566</td>\n",
              "      <td>75.274955</td>\n",
              "    </tr>\n",
              "    <tr>\n",
              "      <th>std</th>\n",
              "      <td>0.114910</td>\n",
              "      <td>7.071966</td>\n",
              "    </tr>\n",
              "    <tr>\n",
              "      <th>min</th>\n",
              "      <td>0.000000</td>\n",
              "      <td>49.900000</td>\n",
              "    </tr>\n",
              "    <tr>\n",
              "      <th>25%</th>\n",
              "      <td>1.750000</td>\n",
              "      <td>69.900000</td>\n",
              "    </tr>\n",
              "    <tr>\n",
              "      <th>50%</th>\n",
              "      <td>1.800000</td>\n",
              "      <td>74.800000</td>\n",
              "    </tr>\n",
              "    <tr>\n",
              "      <th>75%</th>\n",
              "      <td>1.850000</td>\n",
              "      <td>79.800000</td>\n",
              "    </tr>\n",
              "    <tr>\n",
              "      <th>max</th>\n",
              "      <td>2.060000</td>\n",
              "      <td>110.200000</td>\n",
              "    </tr>\n",
              "  </tbody>\n",
              "</table>\n",
              "</div>"
            ],
            "text/plain": [
              "             height        weight\n",
              "count  18207.000000  18159.000000\n",
              "mean       1.807566     75.274955\n",
              "std        0.114910      7.071966\n",
              "min        0.000000     49.900000\n",
              "25%        1.750000     69.900000\n",
              "50%        1.800000     74.800000\n",
              "75%        1.850000     79.800000\n",
              "max        2.060000    110.200000"
            ]
          },
          "metadata": {
            "tags": []
          }
        },
        {
          "output_type": "stream",
          "text": [
            "\n",
            "<class 'pandas.core.frame.DataFrame'>\n",
            "Int64Index: 18207 entries, 158023 to 246269\n",
            "Data columns (total 2 columns):\n",
            " #   Column  Non-Null Count  Dtype  \n",
            "---  ------  --------------  -----  \n",
            " 0   height  18207 non-null  float64\n",
            " 1   weight  18159 non-null  float64\n",
            "dtypes: float64(2)"
          ],
          "name": "stdout"
        }
      ]
    },
    {
      "cell_type": "code",
      "metadata": {
        "id": "8iDO708OF6fh",
        "outputId": "37f0b7d1-8cb9-44c3-8319-ae96f577d377",
        "colab": {
          "base_uri": "https://localhost:8080/"
        }
      },
      "source": [
        "# verificação altura menor do que 1 metro e alteração para NA\n",
        "pdod.max_colwidth = None\n",
        "display(\n",
        "    df_fifa[df_fifa.height < 1].groupby('height')['name'].agg(list).to_frame() )\n",
        "pdod.max_colwidth = 50\n",
        "df_fifa.loc[df_fifa.height < 1, 'height'] = np.nan"
      ],
      "execution_count": null,
      "outputs": [
        {
          "output_type": "display_data",
          "data": {
            "text/html": [
              "<div>\n",
              "<style scoped>\n",
              "    .dataframe tbody tr th:only-of-type {\n",
              "        vertical-align: middle;\n",
              "    }\n",
              "\n",
              "    .dataframe tbody tr th {\n",
              "        vertical-align: top;\n",
              "    }\n",
              "\n",
              "    .dataframe thead th {\n",
              "        text-align: right;\n",
              "    }\n",
              "</style>\n",
              "<table border=\"1\" class=\"dataframe\">\n",
              "  <thead>\n",
              "    <tr style=\"text-align: right;\">\n",
              "      <th></th>\n",
              "      <th>name</th>\n",
              "    </tr>\n",
              "    <tr>\n",
              "      <th>height</th>\n",
              "      <th></th>\n",
              "    </tr>\n",
              "  </thead>\n",
              "  <tbody>\n",
              "    <tr>\n",
              "      <th>0.0</th>\n",
              "      <td>[J. McNulty, J. Barrera, J. Stead, A. Semprini, R. Bingham, K. Dankowski, I. Colman, M. Feeney, R. Minor, Klauss, I. Sissoko, F. Hart, L. McCullough, Li Yunqiu, F. Garcia, R. Haemhouts, E. Binaku, G. Miller, A. Aidonis, L. Sowah, R. Deacon, Jang Hyun Soo, A. Al Malki, E. Guerrero, Hernáiz, H. Al Mansour, H. Paul, S. Bauer, M. Chergui, D. Gardner, L. Bengtsson, F. Jaramillo, L. Garguła, S. Rivera, Vinicius, F. Sepúlveda, L. Spence, B. Lepistu, A. Abruscia, E. González, M. Al Amri, J. Rebolledo, C. Mamengi, P. Mazzocchi, Y. Ammour, Jwa Joon Hyeop, O. Marrufo, Han Pengfei]</td>\n",
              "    </tr>\n",
              "  </tbody>\n",
              "</table>\n",
              "</div>"
            ],
            "text/plain": [
              "                                                                                                                                                                                                                                                                                                                                                                                                                                                                                                                                                                                                    name\n",
              "height                                                                                                                                                                                                                                                                                                                                                                                                                                                                                                                                                                                                  \n",
              "0.0     [J. McNulty, J. Barrera, J. Stead, A. Semprini, R. Bingham, K. Dankowski, I. Colman, M. Feeney, R. Minor, Klauss, I. Sissoko, F. Hart, L. McCullough, Li Yunqiu, F. Garcia, R. Haemhouts, E. Binaku, G. Miller, A. Aidonis, L. Sowah, R. Deacon, Jang Hyun Soo, A. Al Malki, E. Guerrero, Hernáiz, H. Al Mansour, H. Paul, S. Bauer, M. Chergui, D. Gardner, L. Bengtsson, F. Jaramillo, L. Garguła, S. Rivera, Vinicius, F. Sepúlveda, L. Spence, B. Lepistu, A. Abruscia, E. González, M. Al Amri, J. Rebolledo, C. Mamengi, P. Mazzocchi, Y. Ammour, Jwa Joon Hyeop, O. Marrufo, Han Pengfei]"
            ]
          },
          "metadata": {
            "tags": []
          }
        }
      ]
    },
    {
      "cell_type": "code",
      "metadata": {
        "id": "BjKeTqxfHpaX",
        "outputId": "7d23dba7-4a96-49fc-abfa-e9925f0eadf1",
        "colab": {
          "base_uri": "https://localhost:8080/"
        }
      },
      "source": [
        "# sumários estatístico e técnico da altura após correção de altura zerada\n",
        "display(df_fifa[['height']].describe())\n",
        "print()\n",
        "df_fifa[['height']].info(memory_usage=False)"
      ],
      "execution_count": null,
      "outputs": [
        {
          "output_type": "display_data",
          "data": {
            "text/html": [
              "<div>\n",
              "<style scoped>\n",
              "    .dataframe tbody tr th:only-of-type {\n",
              "        vertical-align: middle;\n",
              "    }\n",
              "\n",
              "    .dataframe tbody tr th {\n",
              "        vertical-align: top;\n",
              "    }\n",
              "\n",
              "    .dataframe thead th {\n",
              "        text-align: right;\n",
              "    }\n",
              "</style>\n",
              "<table border=\"1\" class=\"dataframe\">\n",
              "  <thead>\n",
              "    <tr style=\"text-align: right;\">\n",
              "      <th></th>\n",
              "      <th>height</th>\n",
              "    </tr>\n",
              "  </thead>\n",
              "  <tbody>\n",
              "    <tr>\n",
              "      <th>count</th>\n",
              "      <td>18159.000000</td>\n",
              "    </tr>\n",
              "    <tr>\n",
              "      <th>mean</th>\n",
              "      <td>1.812344</td>\n",
              "    </tr>\n",
              "    <tr>\n",
              "      <th>std</th>\n",
              "      <td>0.067672</td>\n",
              "    </tr>\n",
              "    <tr>\n",
              "      <th>min</th>\n",
              "      <td>1.550000</td>\n",
              "    </tr>\n",
              "    <tr>\n",
              "      <th>25%</th>\n",
              "      <td>1.750000</td>\n",
              "    </tr>\n",
              "    <tr>\n",
              "      <th>50%</th>\n",
              "      <td>1.800000</td>\n",
              "    </tr>\n",
              "    <tr>\n",
              "      <th>75%</th>\n",
              "      <td>1.850000</td>\n",
              "    </tr>\n",
              "    <tr>\n",
              "      <th>max</th>\n",
              "      <td>2.060000</td>\n",
              "    </tr>\n",
              "  </tbody>\n",
              "</table>\n",
              "</div>"
            ],
            "text/plain": [
              "             height\n",
              "count  18159.000000\n",
              "mean       1.812344\n",
              "std        0.067672\n",
              "min        1.550000\n",
              "25%        1.750000\n",
              "50%        1.800000\n",
              "75%        1.850000\n",
              "max        2.060000"
            ]
          },
          "metadata": {
            "tags": []
          }
        },
        {
          "output_type": "stream",
          "text": [
            "\n",
            "<class 'pandas.core.frame.DataFrame'>\n",
            "Int64Index: 18207 entries, 158023 to 246269\n",
            "Data columns (total 1 columns):\n",
            " #   Column  Non-Null Count  Dtype  \n",
            "---  ------  --------------  -----  \n",
            " 0   height  18159 non-null  float64\n",
            "dtypes: float64(1)"
          ],
          "name": "stdout"
        }
      ]
    },
    {
      "cell_type": "markdown",
      "metadata": {
        "id": "i1duI1Q7AXga"
      },
      "source": [
        "### Colunas `object` restantes e colunas com `NA`"
      ]
    },
    {
      "cell_type": "code",
      "metadata": {
        "id": "LC8dg1we-sAx",
        "outputId": "d7687ec2-a8a1-4035-e5d1-3f53f4965835",
        "colab": {
          "base_uri": "https://localhost:8080/"
        }
      },
      "source": [
        "# inspeção das colunas `object` de uma amostra aleatória.\n",
        "# poderiam ser convertidas e/ou expandidas, se necessário:\n",
        "# - colunas de datas (`joined`, `contract_valid_until`);\n",
        "# - colunas das notas em cada posição (de `ls` até `rb`,\n",
        "#       descartadas inicialmente).\n",
        "df_fifa.select_dtypes('O').sample(5)"
      ],
      "execution_count": null,
      "outputs": [
        {
          "output_type": "execute_result",
          "data": {
            "text/html": [
              "<div>\n",
              "<style scoped>\n",
              "    .dataframe tbody tr th:only-of-type {\n",
              "        vertical-align: middle;\n",
              "    }\n",
              "\n",
              "    .dataframe tbody tr th {\n",
              "        vertical-align: top;\n",
              "    }\n",
              "\n",
              "    .dataframe thead th {\n",
              "        text-align: right;\n",
              "    }\n",
              "</style>\n",
              "<table border=\"1\" class=\"dataframe\">\n",
              "  <thead>\n",
              "    <tr style=\"text-align: right;\">\n",
              "      <th></th>\n",
              "      <th>name</th>\n",
              "      <th>nationality</th>\n",
              "      <th>club</th>\n",
              "      <th>preferred_foot</th>\n",
              "      <th>work_rate</th>\n",
              "      <th>position</th>\n",
              "      <th>joined</th>\n",
              "      <th>loaned_from</th>\n",
              "      <th>contract_valid_until</th>\n",
              "    </tr>\n",
              "    <tr>\n",
              "      <th>id</th>\n",
              "      <th></th>\n",
              "      <th></th>\n",
              "      <th></th>\n",
              "      <th></th>\n",
              "      <th></th>\n",
              "      <th></th>\n",
              "      <th></th>\n",
              "      <th></th>\n",
              "      <th></th>\n",
              "    </tr>\n",
              "  </thead>\n",
              "  <tbody>\n",
              "    <tr>\n",
              "      <th>199394</th>\n",
              "      <td>Diego Maurício</td>\n",
              "      <td>Brazil</td>\n",
              "      <td>Gangwon FC</td>\n",
              "      <td>Right</td>\n",
              "      <td>High/ Medium</td>\n",
              "      <td>LM</td>\n",
              "      <td>Jan 18, 2017</td>\n",
              "      <td>NaN</td>\n",
              "      <td>2020</td>\n",
              "    </tr>\n",
              "    <tr>\n",
              "      <th>212643</th>\n",
              "      <td>P. Cibicki</td>\n",
              "      <td>Sweden</td>\n",
              "      <td>Molde FK</td>\n",
              "      <td>Right</td>\n",
              "      <td>High/ Medium</td>\n",
              "      <td>LW</td>\n",
              "      <td>NaN</td>\n",
              "      <td>Leeds United</td>\n",
              "      <td>Dec 31, 2018</td>\n",
              "    </tr>\n",
              "    <tr>\n",
              "      <th>229914</th>\n",
              "      <td>E. Osadebe</td>\n",
              "      <td>Republic of Ireland</td>\n",
              "      <td>Cambridge United</td>\n",
              "      <td>Right</td>\n",
              "      <td>Medium/ Medium</td>\n",
              "      <td>CM</td>\n",
              "      <td>Jul 1, 2017</td>\n",
              "      <td>NaN</td>\n",
              "      <td>2019</td>\n",
              "    </tr>\n",
              "    <tr>\n",
              "      <th>188600</th>\n",
              "      <td>M. Abeid</td>\n",
              "      <td>Algeria</td>\n",
              "      <td>Dijon FCO</td>\n",
              "      <td>Right</td>\n",
              "      <td>Medium/ Medium</td>\n",
              "      <td>CDM</td>\n",
              "      <td>Aug 31, 2016</td>\n",
              "      <td>NaN</td>\n",
              "      <td>2019</td>\n",
              "    </tr>\n",
              "    <tr>\n",
              "      <th>241159</th>\n",
              "      <td>M. Guehi</td>\n",
              "      <td>England</td>\n",
              "      <td>Chelsea</td>\n",
              "      <td>Right</td>\n",
              "      <td>Medium/ Medium</td>\n",
              "      <td>CB</td>\n",
              "      <td>Jul 13, 2017</td>\n",
              "      <td>NaN</td>\n",
              "      <td>2020</td>\n",
              "    </tr>\n",
              "  </tbody>\n",
              "</table>\n",
              "</div>"
            ],
            "text/plain": [
              "                  name          nationality              club preferred_foot       work_rate position        joined   loaned_from contract_valid_until\n",
              "id                                                                                                                                                    \n",
              "199394  Diego Maurício               Brazil        Gangwon FC          Right    High/ Medium       LM  Jan 18, 2017           NaN                 2020\n",
              "212643      P. Cibicki               Sweden          Molde FK          Right    High/ Medium       LW           NaN  Leeds United         Dec 31, 2018\n",
              "229914      E. Osadebe  Republic of Ireland  Cambridge United          Right  Medium/ Medium       CM   Jul 1, 2017           NaN                 2019\n",
              "188600        M. Abeid              Algeria         Dijon FCO          Right  Medium/ Medium      CDM  Aug 31, 2016           NaN                 2019\n",
              "241159        M. Guehi              England           Chelsea          Right  Medium/ Medium       CB  Jul 13, 2017           NaN                 2020"
            ]
          },
          "metadata": {
            "tags": []
          },
          "execution_count": 22
        }
      ]
    },
    {
      "cell_type": "code",
      "metadata": {
        "id": "juiPZuI8BWXN",
        "outputId": "ab802be4-a58e-4d7c-8bf2-76281b3a02ed",
        "colab": {
          "base_uri": "https://localhost:8080/"
        }
      },
      "source": [
        "# quantidade de NA por coluna com NA \n",
        "( df_fifa.isna().sum().sort_values(ascending=False).rename('qtd_na')\n",
        "  .to_frame().query('qtd_na > 0').T )"
      ],
      "execution_count": null,
      "outputs": [
        {
          "output_type": "execute_result",
          "data": {
            "text/html": [
              "<div>\n",
              "<style scoped>\n",
              "    .dataframe tbody tr th:only-of-type {\n",
              "        vertical-align: middle;\n",
              "    }\n",
              "\n",
              "    .dataframe tbody tr th {\n",
              "        vertical-align: top;\n",
              "    }\n",
              "\n",
              "    .dataframe thead th {\n",
              "        text-align: right;\n",
              "    }\n",
              "</style>\n",
              "<table border=\"1\" class=\"dataframe\">\n",
              "  <thead>\n",
              "    <tr style=\"text-align: right;\">\n",
              "      <th></th>\n",
              "      <th>loaned_from</th>\n",
              "      <th>release_clause</th>\n",
              "      <th>joined</th>\n",
              "      <th>contract_valid_until</th>\n",
              "      <th>value</th>\n",
              "      <th>club</th>\n",
              "      <th>wage</th>\n",
              "      <th>jersey_number</th>\n",
              "      <th>position</th>\n",
              "      <th>weight</th>\n",
              "      <th>gk_positioning</th>\n",
              "      <th>volleys</th>\n",
              "      <th>short_passing</th>\n",
              "      <th>heading_accuracy</th>\n",
              "      <th>finishing</th>\n",
              "      <th>crossing</th>\n",
              "      <th>gk_reflexes</th>\n",
              "      <th>height</th>\n",
              "      <th>fk_accuracy</th>\n",
              "      <th>work_rate</th>\n",
              "      <th>skill_moves</th>\n",
              "      <th>weak_foot</th>\n",
              "      <th>international_reputation</th>\n",
              "      <th>preferred_foot</th>\n",
              "      <th>curve</th>\n",
              "      <th>dribbling</th>\n",
              "      <th>long_passing</th>\n",
              "      <th>interceptions</th>\n",
              "      <th>gk_kicking</th>\n",
              "      <th>gk_handling</th>\n",
              "      <th>gk_diving</th>\n",
              "      <th>sliding_tackle</th>\n",
              "      <th>standing_tackle</th>\n",
              "      <th>marking</th>\n",
              "      <th>composure</th>\n",
              "      <th>penalties</th>\n",
              "      <th>ball_control</th>\n",
              "      <th>positioning</th>\n",
              "      <th>vision</th>\n",
              "      <th>aggression</th>\n",
              "      <th>balance</th>\n",
              "      <th>acceleration</th>\n",
              "      <th>sprint_speed</th>\n",
              "      <th>agility</th>\n",
              "      <th>long_shots</th>\n",
              "      <th>reactions</th>\n",
              "      <th>shot_power</th>\n",
              "      <th>jumping</th>\n",
              "      <th>stamina</th>\n",
              "      <th>strength</th>\n",
              "    </tr>\n",
              "  </thead>\n",
              "  <tbody>\n",
              "    <tr>\n",
              "      <th>qtd_na</th>\n",
              "      <td>16943</td>\n",
              "      <td>1564</td>\n",
              "      <td>1553</td>\n",
              "      <td>289</td>\n",
              "      <td>252</td>\n",
              "      <td>241</td>\n",
              "      <td>241</td>\n",
              "      <td>60</td>\n",
              "      <td>60</td>\n",
              "      <td>48</td>\n",
              "      <td>48</td>\n",
              "      <td>48</td>\n",
              "      <td>48</td>\n",
              "      <td>48</td>\n",
              "      <td>48</td>\n",
              "      <td>48</td>\n",
              "      <td>48</td>\n",
              "      <td>48</td>\n",
              "      <td>48</td>\n",
              "      <td>48</td>\n",
              "      <td>48</td>\n",
              "      <td>48</td>\n",
              "      <td>48</td>\n",
              "      <td>48</td>\n",
              "      <td>48</td>\n",
              "      <td>48</td>\n",
              "      <td>48</td>\n",
              "      <td>48</td>\n",
              "      <td>48</td>\n",
              "      <td>48</td>\n",
              "      <td>48</td>\n",
              "      <td>48</td>\n",
              "      <td>48</td>\n",
              "      <td>48</td>\n",
              "      <td>48</td>\n",
              "      <td>48</td>\n",
              "      <td>48</td>\n",
              "      <td>48</td>\n",
              "      <td>48</td>\n",
              "      <td>48</td>\n",
              "      <td>48</td>\n",
              "      <td>48</td>\n",
              "      <td>48</td>\n",
              "      <td>48</td>\n",
              "      <td>48</td>\n",
              "      <td>48</td>\n",
              "      <td>48</td>\n",
              "      <td>48</td>\n",
              "      <td>48</td>\n",
              "      <td>48</td>\n",
              "    </tr>\n",
              "  </tbody>\n",
              "</table>\n",
              "</div>"
            ],
            "text/plain": [
              "        loaned_from  release_clause  joined  contract_valid_until  value  club  wage  jersey_number  position  weight  gk_positioning  volleys  short_passing  heading_accuracy  finishing  crossing  \\\n",
              "qtd_na        16943            1564    1553                   289    252   241   241             60        60      48              48       48             48                48         48        48   \n",
              "\n",
              "        gk_reflexes  height  fk_accuracy  work_rate  skill_moves  weak_foot  international_reputation  preferred_foot  curve  dribbling  long_passing  interceptions  gk_kicking  gk_handling  \\\n",
              "qtd_na           48      48           48         48           48         48                        48              48     48         48            48             48          48           48   \n",
              "\n",
              "        gk_diving  sliding_tackle  standing_tackle  marking  composure  penalties  ball_control  positioning  vision  aggression  balance  acceleration  sprint_speed  agility  long_shots  reactions  \\\n",
              "qtd_na         48              48               48       48         48         48            48           48      48          48       48            48            48       48          48         48   \n",
              "\n",
              "        shot_power  jumping  stamina  strength  \n",
              "qtd_na          48       48       48        48  "
            ]
          },
          "metadata": {
            "tags": []
          },
          "execution_count": 23
        }
      ]
    },
    {
      "cell_type": "code",
      "metadata": {
        "id": "yfEIBqFoCcBH",
        "outputId": "4ff2c82b-6837-4e26-e5b2-10b00baa55d4",
        "colab": {
          "base_uri": "https://localhost:8080/"
        }
      },
      "source": [
        "# colunas sem NA \n",
        "df_fifa.isna().sum()[lambda x: x==0]"
      ],
      "execution_count": null,
      "outputs": [
        {
          "output_type": "execute_result",
          "data": {
            "text/plain": [
              "name           0\n",
              "age            0\n",
              "nationality    0\n",
              "overall        0\n",
              "potential      0\n",
              "special        0\n",
              "dtype: int64"
            ]
          },
          "metadata": {
            "tags": []
          },
          "execution_count": 24
        }
      ]
    },
    {
      "cell_type": "code",
      "metadata": {
        "id": "VNB5fkNtuqrU",
        "outputId": "169bb401-2243-4721-a46b-17437afd804d",
        "colab": {
          "base_uri": "https://localhost:8080/"
        }
      },
      "source": [
        "# colunas por quantidade de NA na coluna.\n",
        "pdod.max_colwidth = None\n",
        "display(  df_fifa.isna().sum().rename('qtd_na').reset_index()\n",
        "          .groupby('qtd_na').agg(list)  )\n",
        "pdod.max_colwidth = 50"
      ],
      "execution_count": null,
      "outputs": [
        {
          "output_type": "display_data",
          "data": {
            "text/html": [
              "<div>\n",
              "<style scoped>\n",
              "    .dataframe tbody tr th:only-of-type {\n",
              "        vertical-align: middle;\n",
              "    }\n",
              "\n",
              "    .dataframe tbody tr th {\n",
              "        vertical-align: top;\n",
              "    }\n",
              "\n",
              "    .dataframe thead th {\n",
              "        text-align: right;\n",
              "    }\n",
              "</style>\n",
              "<table border=\"1\" class=\"dataframe\">\n",
              "  <thead>\n",
              "    <tr style=\"text-align: right;\">\n",
              "      <th></th>\n",
              "      <th>index</th>\n",
              "    </tr>\n",
              "    <tr>\n",
              "      <th>qtd_na</th>\n",
              "      <th></th>\n",
              "    </tr>\n",
              "  </thead>\n",
              "  <tbody>\n",
              "    <tr>\n",
              "      <th>0</th>\n",
              "      <td>[name, age, nationality, overall, potential, special]</td>\n",
              "    </tr>\n",
              "    <tr>\n",
              "      <th>48</th>\n",
              "      <td>[preferred_foot, international_reputation, weak_foot, skill_moves, work_rate, height, weight, crossing, finishing, heading_accuracy, short_passing, volleys, dribbling, curve, fk_accuracy, long_passing, ball_control, acceleration, sprint_speed, agility, reactions, balance, shot_power, jumping, stamina, strength, long_shots, aggression, interceptions, positioning, vision, penalties, composure, marking, standing_tackle, sliding_tackle, gk_diving, gk_handling, gk_kicking, gk_positioning, gk_reflexes]</td>\n",
              "    </tr>\n",
              "    <tr>\n",
              "      <th>60</th>\n",
              "      <td>[position, jersey_number]</td>\n",
              "    </tr>\n",
              "    <tr>\n",
              "      <th>241</th>\n",
              "      <td>[club, wage]</td>\n",
              "    </tr>\n",
              "    <tr>\n",
              "      <th>252</th>\n",
              "      <td>[value]</td>\n",
              "    </tr>\n",
              "    <tr>\n",
              "      <th>289</th>\n",
              "      <td>[contract_valid_until]</td>\n",
              "    </tr>\n",
              "    <tr>\n",
              "      <th>1553</th>\n",
              "      <td>[joined]</td>\n",
              "    </tr>\n",
              "    <tr>\n",
              "      <th>1564</th>\n",
              "      <td>[release_clause]</td>\n",
              "    </tr>\n",
              "    <tr>\n",
              "      <th>16943</th>\n",
              "      <td>[loaned_from]</td>\n",
              "    </tr>\n",
              "  </tbody>\n",
              "</table>\n",
              "</div>"
            ],
            "text/plain": [
              "                                                                                                                                                                                                                                                                                                                                                                                                                                                                                                                        index\n",
              "qtd_na                                                                                                                                                                                                                                                                                                                                                                                                                                                                                                                       \n",
              "0                                                                                                                                                                                                                                                                                                                                                                                                                                                                       [name, age, nationality, overall, potential, special]\n",
              "48      [preferred_foot, international_reputation, weak_foot, skill_moves, work_rate, height, weight, crossing, finishing, heading_accuracy, short_passing, volleys, dribbling, curve, fk_accuracy, long_passing, ball_control, acceleration, sprint_speed, agility, reactions, balance, shot_power, jumping, stamina, strength, long_shots, aggression, interceptions, positioning, vision, penalties, composure, marking, standing_tackle, sliding_tackle, gk_diving, gk_handling, gk_kicking, gk_positioning, gk_reflexes]\n",
              "60                                                                                                                                                                                                                                                                                                                                                                                                                                                                                                  [position, jersey_number]\n",
              "241                                                                                                                                                                                                                                                                                                                                                                                                                                                                                                              [club, wage]\n",
              "252                                                                                                                                                                                                                                                                                                                                                                                                                                                                                                                   [value]\n",
              "289                                                                                                                                                                                                                                                                                                                                                                                                                                                                                                    [contract_valid_until]\n",
              "1553                                                                                                                                                                                                                                                                                                                                                                                                                                                                                                                 [joined]\n",
              "1564                                                                                                                                                                                                                                                                                                                                                                                                                                                                                                         [release_clause]\n",
              "16943                                                                                                                                                                                                                                                                                                                                                                                                                                                                                                           [loaned_from]"
            ]
          },
          "metadata": {
            "tags": []
          }
        }
      ]
    },
    {
      "cell_type": "markdown",
      "metadata": {
        "id": "k6n5P3LQA7JC"
      },
      "source": [
        "### Agregações por nacionalidade"
      ]
    },
    {
      "cell_type": "code",
      "metadata": {
        "id": "0A0YLnxpCvyh",
        "outputId": "08896bd4-b22d-4299-9efd-386f0e5a617e",
        "colab": {
          "base_uri": "https://localhost:8080/"
        }
      },
      "source": [
        "# dez nacionalidades com mais jogadores e suas quantidades.\n",
        "# nacionalidades com somente um jogador.\n",
        "sr = df_fifa.groupby('nationality')['name'].count().rename('qtd')\n",
        "pdod.max_colwidth = None\n",
        "display(  sr.nlargest(10), \n",
        "          sr[sr==1].reset_index().groupby('qtd').agg(list) )\n",
        "pdod.max_colwidth = 50"
      ],
      "execution_count": null,
      "outputs": [
        {
          "output_type": "display_data",
          "data": {
            "text/plain": [
              "nationality\n",
              "England        1662\n",
              "Germany        1198\n",
              "Spain          1072\n",
              "Argentina       937\n",
              "France          914\n",
              "Brazil          827\n",
              "Italy           702\n",
              "Colombia        618\n",
              "Japan           478\n",
              "Netherlands     453\n",
              "Name: qtd, dtype: int64"
            ]
          },
          "metadata": {
            "tags": []
          }
        },
        {
          "output_type": "display_data",
          "data": {
            "text/html": [
              "<div>\n",
              "<style scoped>\n",
              "    .dataframe tbody tr th:only-of-type {\n",
              "        vertical-align: middle;\n",
              "    }\n",
              "\n",
              "    .dataframe tbody tr th {\n",
              "        vertical-align: top;\n",
              "    }\n",
              "\n",
              "    .dataframe thead th {\n",
              "        text-align: right;\n",
              "    }\n",
              "</style>\n",
              "<table border=\"1\" class=\"dataframe\">\n",
              "  <thead>\n",
              "    <tr style=\"text-align: right;\">\n",
              "      <th></th>\n",
              "      <th>nationality</th>\n",
              "    </tr>\n",
              "    <tr>\n",
              "      <th>qtd</th>\n",
              "      <th></th>\n",
              "    </tr>\n",
              "  </thead>\n",
              "  <tbody>\n",
              "    <tr>\n",
              "      <th>1</th>\n",
              "      <td>[Andorra, Belize, Botswana, Ethiopia, Fiji, Grenada, Guam, Indonesia, Jordan, Kuwait, Lebanon, Liberia, Malta, Mauritius, New Caledonia, Oman, Palestine, Puerto Rico, Qatar, Rwanda, South Sudan, St Lucia, São Tomé &amp; Príncipe, United Arab Emirates]</td>\n",
              "    </tr>\n",
              "  </tbody>\n",
              "</table>\n",
              "</div>"
            ],
            "text/plain": [
              "                                                                                                                                                                                                                                                 nationality\n",
              "qtd                                                                                                                                                                                                                                                         \n",
              "1    [Andorra, Belize, Botswana, Ethiopia, Fiji, Grenada, Guam, Indonesia, Jordan, Kuwait, Lebanon, Liberia, Malta, Mauritius, New Caledonia, Oman, Palestine, Puerto Rico, Qatar, Rwanda, South Sudan, St Lucia, São Tomé & Príncipe, United Arab Emirates]"
            ]
          },
          "metadata": {
            "tags": []
          }
        }
      ]
    },
    {
      "cell_type": "code",
      "metadata": {
        "id": "dAeMWpOkEIMm",
        "outputId": "1b4a0887-b16d-4a89-d54b-f0ea69a8fa9e",
        "colab": {
          "base_uri": "https://localhost:8080/"
        }
      },
      "source": [
        "# menores e maiores médias de idade por nacionalidade\n",
        "sr = df_fifa.groupby('nationality')['age'].agg(lambda sr: round(sr.mean(), 1))\n",
        "display( sr.nlargest(5) , Markdown('<br/>'), sr.nsmallest(5) )"
      ],
      "execution_count": null,
      "outputs": [
        {
          "output_type": "display_data",
          "data": {
            "text/plain": [
              "nationality\n",
              "Oman                 36.0\n",
              "Puerto Rico          34.0\n",
              "Ethiopia             32.0\n",
              "Trinidad & Tobago    31.8\n",
              "Kuwait               31.0\n",
              "Name: age, dtype: float64"
            ]
          },
          "metadata": {
            "tags": []
          }
        },
        {
          "output_type": "display_data",
          "data": {
            "text/markdown": "<br/>",
            "text/plain": [
              "<IPython.core.display.Markdown object>"
            ]
          },
          "metadata": {
            "tags": []
          }
        },
        {
          "output_type": "display_data",
          "data": {
            "text/plain": [
              "nationality\n",
              "Indonesia    17.0\n",
              "Botswana     20.0\n",
              "Rwanda       21.0\n",
              "Tanzania     22.0\n",
              "Zambia       22.2\n",
              "Name: age, dtype: float64"
            ]
          },
          "metadata": {
            "tags": []
          }
        }
      ]
    },
    {
      "cell_type": "code",
      "metadata": {
        "id": "mJWWtk8Y6JOW",
        "outputId": "57fb6e9f-1e07-4e83-93cb-ccfbc554f27b",
        "colab": {
          "base_uri": "https://localhost:8080/"
        }
      },
      "source": [
        "# maiores e menores médias de salários por nacionalidade\n",
        "df = (\n",
        "  df_fifa.groupby('nationality')['wage']\n",
        "  .agg([  lambda sr: round(sr.mean(), 1),\n",
        "          'count',\n",
        "          lambda sr: int(sr.isna().sum()),\n",
        "          len ]) \n",
        "  .set_axis(['média', 'qtd não NA', 'qtd NA', 'qtd total'], axis=1)\n",
        "  .sort_values(['média','qtd não NA','qtd NA'], ascending=[False,False,True])\n",
        "  .astype({'qtd NA':int, 'qtd total':int})\n",
        ")\n",
        "display(df.head(6), Markdown('<br/>'), df[df['média'] < 1001])"
      ],
      "execution_count": null,
      "outputs": [
        {
          "output_type": "display_data",
          "data": {
            "text/html": [
              "<div>\n",
              "<style scoped>\n",
              "    .dataframe tbody tr th:only-of-type {\n",
              "        vertical-align: middle;\n",
              "    }\n",
              "\n",
              "    .dataframe tbody tr th {\n",
              "        vertical-align: top;\n",
              "    }\n",
              "\n",
              "    .dataframe thead th {\n",
              "        text-align: right;\n",
              "    }\n",
              "</style>\n",
              "<table border=\"1\" class=\"dataframe\">\n",
              "  <thead>\n",
              "    <tr style=\"text-align: right;\">\n",
              "      <th></th>\n",
              "      <th>média</th>\n",
              "      <th>qtd não NA</th>\n",
              "      <th>qtd NA</th>\n",
              "      <th>qtd total</th>\n",
              "    </tr>\n",
              "    <tr>\n",
              "      <th>nationality</th>\n",
              "      <th></th>\n",
              "      <th></th>\n",
              "      <th></th>\n",
              "      <th></th>\n",
              "    </tr>\n",
              "  </thead>\n",
              "  <tbody>\n",
              "    <tr>\n",
              "      <th>Dominican Republic</th>\n",
              "      <td>71000.0</td>\n",
              "      <td>2</td>\n",
              "      <td>0</td>\n",
              "      <td>2</td>\n",
              "    </tr>\n",
              "    <tr>\n",
              "      <th>United Arab Emirates</th>\n",
              "      <td>39000.0</td>\n",
              "      <td>1</td>\n",
              "      <td>0</td>\n",
              "      <td>1</td>\n",
              "    </tr>\n",
              "    <tr>\n",
              "      <th>Gabon</th>\n",
              "      <td>26933.3</td>\n",
              "      <td>15</td>\n",
              "      <td>0</td>\n",
              "      <td>15</td>\n",
              "    </tr>\n",
              "    <tr>\n",
              "      <th>Egypt</th>\n",
              "      <td>26150.0</td>\n",
              "      <td>20</td>\n",
              "      <td>11</td>\n",
              "      <td>31</td>\n",
              "    </tr>\n",
              "    <tr>\n",
              "      <th>Armenia</th>\n",
              "      <td>22000.0</td>\n",
              "      <td>10</td>\n",
              "      <td>0</td>\n",
              "      <td>10</td>\n",
              "    </tr>\n",
              "    <tr>\n",
              "      <th>Croatia</th>\n",
              "      <td>21682.5</td>\n",
              "      <td>126</td>\n",
              "      <td>0</td>\n",
              "      <td>126</td>\n",
              "    </tr>\n",
              "  </tbody>\n",
              "</table>\n",
              "</div>"
            ],
            "text/plain": [
              "                        média  qtd não NA  qtd NA  qtd total\n",
              "nationality                                                 \n",
              "Dominican Republic    71000.0           2       0          2\n",
              "United Arab Emirates  39000.0           1       0          1\n",
              "Gabon                 26933.3          15       0         15\n",
              "Egypt                 26150.0          20      11         31\n",
              "Armenia               22000.0          10       0         10\n",
              "Croatia               21682.5         126       0        126"
            ]
          },
          "metadata": {
            "tags": []
          }
        },
        {
          "output_type": "display_data",
          "data": {
            "text/markdown": "<br/>",
            "text/plain": [
              "<IPython.core.display.Markdown object>"
            ]
          },
          "metadata": {
            "tags": []
          }
        },
        {
          "output_type": "display_data",
          "data": {
            "text/html": [
              "<div>\n",
              "<style scoped>\n",
              "    .dataframe tbody tr th:only-of-type {\n",
              "        vertical-align: middle;\n",
              "    }\n",
              "\n",
              "    .dataframe tbody tr th {\n",
              "        vertical-align: top;\n",
              "    }\n",
              "\n",
              "    .dataframe thead th {\n",
              "        text-align: right;\n",
              "    }\n",
              "</style>\n",
              "<table border=\"1\" class=\"dataframe\">\n",
              "  <thead>\n",
              "    <tr style=\"text-align: right;\">\n",
              "      <th></th>\n",
              "      <th>média</th>\n",
              "      <th>qtd não NA</th>\n",
              "      <th>qtd NA</th>\n",
              "      <th>qtd total</th>\n",
              "    </tr>\n",
              "    <tr>\n",
              "      <th>nationality</th>\n",
              "      <th></th>\n",
              "      <th></th>\n",
              "      <th></th>\n",
              "      <th></th>\n",
              "    </tr>\n",
              "  </thead>\n",
              "  <tbody>\n",
              "    <tr>\n",
              "      <th>Nicaragua</th>\n",
              "      <td>1000.0</td>\n",
              "      <td>2</td>\n",
              "      <td>0</td>\n",
              "      <td>2</td>\n",
              "    </tr>\n",
              "    <tr>\n",
              "      <th>Andorra</th>\n",
              "      <td>1000.0</td>\n",
              "      <td>1</td>\n",
              "      <td>0</td>\n",
              "      <td>1</td>\n",
              "    </tr>\n",
              "    <tr>\n",
              "      <th>Belize</th>\n",
              "      <td>1000.0</td>\n",
              "      <td>1</td>\n",
              "      <td>0</td>\n",
              "      <td>1</td>\n",
              "    </tr>\n",
              "    <tr>\n",
              "      <th>Botswana</th>\n",
              "      <td>1000.0</td>\n",
              "      <td>1</td>\n",
              "      <td>0</td>\n",
              "      <td>1</td>\n",
              "    </tr>\n",
              "    <tr>\n",
              "      <th>Ethiopia</th>\n",
              "      <td>1000.0</td>\n",
              "      <td>1</td>\n",
              "      <td>0</td>\n",
              "      <td>1</td>\n",
              "    </tr>\n",
              "    <tr>\n",
              "      <th>Indonesia</th>\n",
              "      <td>1000.0</td>\n",
              "      <td>1</td>\n",
              "      <td>0</td>\n",
              "      <td>1</td>\n",
              "    </tr>\n",
              "    <tr>\n",
              "      <th>Jordan</th>\n",
              "      <td>1000.0</td>\n",
              "      <td>1</td>\n",
              "      <td>0</td>\n",
              "      <td>1</td>\n",
              "    </tr>\n",
              "    <tr>\n",
              "      <th>Qatar</th>\n",
              "      <td>1000.0</td>\n",
              "      <td>1</td>\n",
              "      <td>0</td>\n",
              "      <td>1</td>\n",
              "    </tr>\n",
              "    <tr>\n",
              "      <th>St Lucia</th>\n",
              "      <td>1000.0</td>\n",
              "      <td>1</td>\n",
              "      <td>0</td>\n",
              "      <td>1</td>\n",
              "    </tr>\n",
              "  </tbody>\n",
              "</table>\n",
              "</div>"
            ],
            "text/plain": [
              "              média  qtd não NA  qtd NA  qtd total\n",
              "nationality                                       \n",
              "Nicaragua    1000.0           2       0          2\n",
              "Andorra      1000.0           1       0          1\n",
              "Belize       1000.0           1       0          1\n",
              "Botswana     1000.0           1       0          1\n",
              "Ethiopia     1000.0           1       0          1\n",
              "Indonesia    1000.0           1       0          1\n",
              "Jordan       1000.0           1       0          1\n",
              "Qatar        1000.0           1       0          1\n",
              "St Lucia     1000.0           1       0          1"
            ]
          },
          "metadata": {
            "tags": []
          }
        }
      ]
    },
    {
      "cell_type": "code",
      "metadata": {
        "id": "VvmpMyuTMr9I",
        "outputId": "4363f47d-0d7d-438e-c306-1258e4e7bde0",
        "colab": {
          "base_uri": "https://localhost:8080/"
        }
      },
      "source": [
        "# todas agregações por nacionalidade juntas:\n",
        "# quantidade, média de idade, média de salário\n",
        "lst_funcs = [\n",
        "    lambda sr: round(sr.mean(), 1),\n",
        "    'count',\n",
        "    lambda sr: int(sr.isna().sum())]\n",
        "df = ( \n",
        "  df_fifa.groupby('nationality')\n",
        "  .agg(dict(name=['count'], age=lst_funcs , wage=lst_funcs)) \n",
        "  .set_axis(['count', 'age_mean', 'age_count', 'age_na',  \n",
        "             'wage_mean', 'wage_count', 'wage_na'], axis=1)\n",
        "  .astype({'wage_na':int})\n",
        ")\n",
        "df"
      ],
      "execution_count": null,
      "outputs": [
        {
          "output_type": "execute_result",
          "data": {
            "text/html": [
              "<div>\n",
              "<style scoped>\n",
              "    .dataframe tbody tr th:only-of-type {\n",
              "        vertical-align: middle;\n",
              "    }\n",
              "\n",
              "    .dataframe tbody tr th {\n",
              "        vertical-align: top;\n",
              "    }\n",
              "\n",
              "    .dataframe thead th {\n",
              "        text-align: right;\n",
              "    }\n",
              "</style>\n",
              "<table border=\"1\" class=\"dataframe\">\n",
              "  <thead>\n",
              "    <tr style=\"text-align: right;\">\n",
              "      <th></th>\n",
              "      <th>count</th>\n",
              "      <th>age_mean</th>\n",
              "      <th>age_count</th>\n",
              "      <th>age_na</th>\n",
              "      <th>wage_mean</th>\n",
              "      <th>wage_count</th>\n",
              "      <th>wage_na</th>\n",
              "    </tr>\n",
              "    <tr>\n",
              "      <th>nationality</th>\n",
              "      <th></th>\n",
              "      <th></th>\n",
              "      <th></th>\n",
              "      <th></th>\n",
              "      <th></th>\n",
              "      <th></th>\n",
              "      <th></th>\n",
              "    </tr>\n",
              "  </thead>\n",
              "  <tbody>\n",
              "    <tr>\n",
              "      <th>Afghanistan</th>\n",
              "      <td>4</td>\n",
              "      <td>22.5</td>\n",
              "      <td>4</td>\n",
              "      <td>0</td>\n",
              "      <td>1250.0</td>\n",
              "      <td>4</td>\n",
              "      <td>0</td>\n",
              "    </tr>\n",
              "    <tr>\n",
              "      <th>Albania</th>\n",
              "      <td>40</td>\n",
              "      <td>24.0</td>\n",
              "      <td>40</td>\n",
              "      <td>0</td>\n",
              "      <td>7100.0</td>\n",
              "      <td>40</td>\n",
              "      <td>0</td>\n",
              "    </tr>\n",
              "    <tr>\n",
              "      <th>Algeria</th>\n",
              "      <td>60</td>\n",
              "      <td>27.1</td>\n",
              "      <td>60</td>\n",
              "      <td>0</td>\n",
              "      <td>18083.3</td>\n",
              "      <td>60</td>\n",
              "      <td>0</td>\n",
              "    </tr>\n",
              "    <tr>\n",
              "      <th>Andorra</th>\n",
              "      <td>1</td>\n",
              "      <td>28.0</td>\n",
              "      <td>1</td>\n",
              "      <td>0</td>\n",
              "      <td>1000.0</td>\n",
              "      <td>1</td>\n",
              "      <td>0</td>\n",
              "    </tr>\n",
              "    <tr>\n",
              "      <th>Angola</th>\n",
              "      <td>15</td>\n",
              "      <td>25.9</td>\n",
              "      <td>15</td>\n",
              "      <td>0</td>\n",
              "      <td>7666.7</td>\n",
              "      <td>15</td>\n",
              "      <td>0</td>\n",
              "    </tr>\n",
              "    <tr>\n",
              "      <th>...</th>\n",
              "      <td>...</td>\n",
              "      <td>...</td>\n",
              "      <td>...</td>\n",
              "      <td>...</td>\n",
              "      <td>...</td>\n",
              "      <td>...</td>\n",
              "      <td>...</td>\n",
              "    </tr>\n",
              "    <tr>\n",
              "      <th>Uzbekistan</th>\n",
              "      <td>2</td>\n",
              "      <td>29.5</td>\n",
              "      <td>2</td>\n",
              "      <td>0</td>\n",
              "      <td>9000.0</td>\n",
              "      <td>2</td>\n",
              "      <td>0</td>\n",
              "    </tr>\n",
              "    <tr>\n",
              "      <th>Venezuela</th>\n",
              "      <td>67</td>\n",
              "      <td>24.3</td>\n",
              "      <td>67</td>\n",
              "      <td>0</td>\n",
              "      <td>6916.7</td>\n",
              "      <td>60</td>\n",
              "      <td>7</td>\n",
              "    </tr>\n",
              "    <tr>\n",
              "      <th>Wales</th>\n",
              "      <td>129</td>\n",
              "      <td>24.7</td>\n",
              "      <td>129</td>\n",
              "      <td>0</td>\n",
              "      <td>12187.5</td>\n",
              "      <td>128</td>\n",
              "      <td>1</td>\n",
              "    </tr>\n",
              "    <tr>\n",
              "      <th>Zambia</th>\n",
              "      <td>9</td>\n",
              "      <td>22.2</td>\n",
              "      <td>9</td>\n",
              "      <td>0</td>\n",
              "      <td>3444.4</td>\n",
              "      <td>9</td>\n",
              "      <td>0</td>\n",
              "    </tr>\n",
              "    <tr>\n",
              "      <th>Zimbabwe</th>\n",
              "      <td>13</td>\n",
              "      <td>26.8</td>\n",
              "      <td>13</td>\n",
              "      <td>0</td>\n",
              "      <td>6846.2</td>\n",
              "      <td>13</td>\n",
              "      <td>0</td>\n",
              "    </tr>\n",
              "  </tbody>\n",
              "</table>\n",
              "<p>164 rows × 7 columns</p>\n",
              "</div>"
            ],
            "text/plain": [
              "             count  age_mean  age_count  age_na  wage_mean  wage_count  wage_na\n",
              "nationality                                                                    \n",
              "Afghanistan      4      22.5          4       0     1250.0           4        0\n",
              "Albania         40      24.0         40       0     7100.0          40        0\n",
              "Algeria         60      27.1         60       0    18083.3          60        0\n",
              "Andorra          1      28.0          1       0     1000.0           1        0\n",
              "Angola          15      25.9         15       0     7666.7          15        0\n",
              "...            ...       ...        ...     ...        ...         ...      ...\n",
              "Uzbekistan       2      29.5          2       0     9000.0           2        0\n",
              "Venezuela       67      24.3         67       0     6916.7          60        7\n",
              "Wales          129      24.7        129       0    12187.5         128        1\n",
              "Zambia           9      22.2          9       0     3444.4           9        0\n",
              "Zimbabwe        13      26.8         13       0     6846.2          13        0\n",
              "\n",
              "[164 rows x 7 columns]"
            ]
          },
          "metadata": {
            "tags": []
          },
          "execution_count": 29
        }
      ]
    },
    {
      "cell_type": "markdown",
      "metadata": {
        "id": "6sfzjr_0BdON"
      },
      "source": [
        "### Agregações por idade"
      ]
    },
    {
      "cell_type": "code",
      "metadata": {
        "id": "_L5zkflkFT1S",
        "outputId": "965448b2-a3b3-44c7-caa5-16a9b268d489",
        "colab": {
          "base_uri": "https://localhost:8080/"
        }
      },
      "source": [
        "# quantidades de jogadores por idade\n",
        "df_fifa.groupby('age')['name'].count().rename('qtd').to_frame().T"
      ],
      "execution_count": null,
      "outputs": [
        {
          "output_type": "execute_result",
          "data": {
            "text/html": [
              "<div>\n",
              "<style scoped>\n",
              "    .dataframe tbody tr th:only-of-type {\n",
              "        vertical-align: middle;\n",
              "    }\n",
              "\n",
              "    .dataframe tbody tr th {\n",
              "        vertical-align: top;\n",
              "    }\n",
              "\n",
              "    .dataframe thead th {\n",
              "        text-align: right;\n",
              "    }\n",
              "</style>\n",
              "<table border=\"1\" class=\"dataframe\">\n",
              "  <thead>\n",
              "    <tr style=\"text-align: right;\">\n",
              "      <th>age</th>\n",
              "      <th>16</th>\n",
              "      <th>17</th>\n",
              "      <th>18</th>\n",
              "      <th>19</th>\n",
              "      <th>20</th>\n",
              "      <th>21</th>\n",
              "      <th>22</th>\n",
              "      <th>23</th>\n",
              "      <th>24</th>\n",
              "      <th>25</th>\n",
              "      <th>26</th>\n",
              "      <th>27</th>\n",
              "      <th>28</th>\n",
              "      <th>29</th>\n",
              "      <th>30</th>\n",
              "      <th>31</th>\n",
              "      <th>32</th>\n",
              "      <th>33</th>\n",
              "      <th>34</th>\n",
              "      <th>35</th>\n",
              "      <th>36</th>\n",
              "      <th>37</th>\n",
              "      <th>38</th>\n",
              "      <th>39</th>\n",
              "      <th>40</th>\n",
              "      <th>41</th>\n",
              "      <th>42</th>\n",
              "      <th>44</th>\n",
              "      <th>45</th>\n",
              "    </tr>\n",
              "  </thead>\n",
              "  <tbody>\n",
              "    <tr>\n",
              "      <th>qtd</th>\n",
              "      <td>42</td>\n",
              "      <td>289</td>\n",
              "      <td>732</td>\n",
              "      <td>1024</td>\n",
              "      <td>1240</td>\n",
              "      <td>1423</td>\n",
              "      <td>1340</td>\n",
              "      <td>1332</td>\n",
              "      <td>1358</td>\n",
              "      <td>1319</td>\n",
              "      <td>1387</td>\n",
              "      <td>1162</td>\n",
              "      <td>1101</td>\n",
              "      <td>959</td>\n",
              "      <td>917</td>\n",
              "      <td>707</td>\n",
              "      <td>574</td>\n",
              "      <td>408</td>\n",
              "      <td>404</td>\n",
              "      <td>196</td>\n",
              "      <td>127</td>\n",
              "      <td>82</td>\n",
              "      <td>37</td>\n",
              "      <td>25</td>\n",
              "      <td>13</td>\n",
              "      <td>5</td>\n",
              "      <td>1</td>\n",
              "      <td>2</td>\n",
              "      <td>1</td>\n",
              "    </tr>\n",
              "  </tbody>\n",
              "</table>\n",
              "</div>"
            ],
            "text/plain": [
              "age  16   17   18    19    20    21    22    23    24    25    26    27    28   29   30   31   32   33   34   35   36  37  38  39  40  41  42  44  45\n",
              "qtd  42  289  732  1024  1240  1423  1340  1332  1358  1319  1387  1162  1101  959  917  707  574  408  404  196  127  82  37  25  13   5   1   2   1"
            ]
          },
          "metadata": {
            "tags": []
          },
          "execution_count": 30
        }
      ]
    },
    {
      "cell_type": "code",
      "metadata": {
        "id": "cE3_PR0pQd8o",
        "outputId": "96a8828f-1597-4a4a-a8ae-d4b3a89bb4f5",
        "colab": {
          "base_uri": "https://localhost:8080/"
        }
      },
      "source": [
        "# quantidades de jogadores por idade\n",
        "df_fifa.age.plot.hist(bins=range(15, 47, 1))"
      ],
      "execution_count": null,
      "outputs": [
        {
          "output_type": "execute_result",
          "data": {
            "text/plain": [
              "<matplotlib.axes._subplots.AxesSubplot at 0x7f2ca49fde48>"
            ]
          },
          "metadata": {
            "tags": []
          },
          "execution_count": 31
        },
        {
          "output_type": "display_data",
          "data": {
            "image/png": "[encoded data removed]",
            "text/plain": [
              "<Figure size 432x288 with 1 Axes>"
            ]
          },
          "metadata": {
            "tags": [],
            "needs_background": "light"
          }
        }
      ]
    },
    {
      "cell_type": "code",
      "metadata": {
        "id": "V4AtOLcSuboj",
        "outputId": "c6094079-64d7-4911-e495-9e408acf1248",
        "colab": {
          "base_uri": "https://localhost:8080/"
        }
      },
      "source": [
        "# médias de salários por idade\n",
        "df = (\n",
        "  df_fifa.groupby('age')['wage']\n",
        "  .agg([  lambda sr: round(sr.mean(), 1),\n",
        "          'count',\n",
        "          lambda sr: int(sr.isna().sum()),\n",
        "          len ]) \n",
        "  .set_axis(['média', 'qtd não NA', 'qtd NA', 'qtd total'], axis=1)\n",
        " .astype({'média':int, 'qtd NA':int, 'qtd total':int})\n",
        ")\n",
        "display(df.T, Markdown('<br/>'))\n",
        "( df.reset_index()\n",
        "  .rename(columns={'média':'mean wage'})\n",
        "  .plot(x='age', y='mean wage') );"
      ],
      "execution_count": null,
      "outputs": [
        {
          "output_type": "display_data",
          "data": {
            "text/html": [
              "<div>\n",
              "<style scoped>\n",
              "    .dataframe tbody tr th:only-of-type {\n",
              "        vertical-align: middle;\n",
              "    }\n",
              "\n",
              "    .dataframe tbody tr th {\n",
              "        vertical-align: top;\n",
              "    }\n",
              "\n",
              "    .dataframe thead th {\n",
              "        text-align: right;\n",
              "    }\n",
              "</style>\n",
              "<table border=\"1\" class=\"dataframe\">\n",
              "  <thead>\n",
              "    <tr style=\"text-align: right;\">\n",
              "      <th>age</th>\n",
              "      <th>16</th>\n",
              "      <th>17</th>\n",
              "      <th>18</th>\n",
              "      <th>19</th>\n",
              "      <th>20</th>\n",
              "      <th>21</th>\n",
              "      <th>22</th>\n",
              "      <th>23</th>\n",
              "      <th>24</th>\n",
              "      <th>25</th>\n",
              "      <th>26</th>\n",
              "      <th>27</th>\n",
              "      <th>28</th>\n",
              "      <th>29</th>\n",
              "      <th>30</th>\n",
              "      <th>31</th>\n",
              "      <th>32</th>\n",
              "      <th>33</th>\n",
              "      <th>34</th>\n",
              "      <th>35</th>\n",
              "      <th>36</th>\n",
              "      <th>37</th>\n",
              "      <th>38</th>\n",
              "      <th>39</th>\n",
              "      <th>40</th>\n",
              "      <th>41</th>\n",
              "      <th>42</th>\n",
              "      <th>44</th>\n",
              "      <th>45</th>\n",
              "    </tr>\n",
              "  </thead>\n",
              "  <tbody>\n",
              "    <tr>\n",
              "      <th>média</th>\n",
              "      <td>1166</td>\n",
              "      <td>2141</td>\n",
              "      <td>2238</td>\n",
              "      <td>2767</td>\n",
              "      <td>4786</td>\n",
              "      <td>6210</td>\n",
              "      <td>8031</td>\n",
              "      <td>8741</td>\n",
              "      <td>10053</td>\n",
              "      <td>11411</td>\n",
              "      <td>13202</td>\n",
              "      <td>13745</td>\n",
              "      <td>14201</td>\n",
              "      <td>14295</td>\n",
              "      <td>13667</td>\n",
              "      <td>16253</td>\n",
              "      <td>14294</td>\n",
              "      <td>13423</td>\n",
              "      <td>10892</td>\n",
              "      <td>7046</td>\n",
              "      <td>5866</td>\n",
              "      <td>7185</td>\n",
              "      <td>5000</td>\n",
              "      <td>4520</td>\n",
              "      <td>9076</td>\n",
              "      <td>2500</td>\n",
              "      <td>1000</td>\n",
              "      <td>1000</td>\n",
              "      <td>8000</td>\n",
              "    </tr>\n",
              "    <tr>\n",
              "      <th>qtd não NA</th>\n",
              "      <td>42</td>\n",
              "      <td>289</td>\n",
              "      <td>729</td>\n",
              "      <td>1020</td>\n",
              "      <td>1232</td>\n",
              "      <td>1414</td>\n",
              "      <td>1317</td>\n",
              "      <td>1316</td>\n",
              "      <td>1337</td>\n",
              "      <td>1302</td>\n",
              "      <td>1353</td>\n",
              "      <td>1149</td>\n",
              "      <td>1079</td>\n",
              "      <td>943</td>\n",
              "      <td>903</td>\n",
              "      <td>695</td>\n",
              "      <td>564</td>\n",
              "      <td>399</td>\n",
              "      <td>401</td>\n",
              "      <td>192</td>\n",
              "      <td>127</td>\n",
              "      <td>81</td>\n",
              "      <td>36</td>\n",
              "      <td>25</td>\n",
              "      <td>13</td>\n",
              "      <td>4</td>\n",
              "      <td>1</td>\n",
              "      <td>2</td>\n",
              "      <td>1</td>\n",
              "    </tr>\n",
              "    <tr>\n",
              "      <th>qtd NA</th>\n",
              "      <td>0</td>\n",
              "      <td>0</td>\n",
              "      <td>3</td>\n",
              "      <td>4</td>\n",
              "      <td>8</td>\n",
              "      <td>9</td>\n",
              "      <td>23</td>\n",
              "      <td>16</td>\n",
              "      <td>21</td>\n",
              "      <td>17</td>\n",
              "      <td>34</td>\n",
              "      <td>13</td>\n",
              "      <td>22</td>\n",
              "      <td>16</td>\n",
              "      <td>14</td>\n",
              "      <td>12</td>\n",
              "      <td>10</td>\n",
              "      <td>9</td>\n",
              "      <td>3</td>\n",
              "      <td>4</td>\n",
              "      <td>0</td>\n",
              "      <td>1</td>\n",
              "      <td>1</td>\n",
              "      <td>0</td>\n",
              "      <td>0</td>\n",
              "      <td>1</td>\n",
              "      <td>0</td>\n",
              "      <td>0</td>\n",
              "      <td>0</td>\n",
              "    </tr>\n",
              "    <tr>\n",
              "      <th>qtd total</th>\n",
              "      <td>42</td>\n",
              "      <td>289</td>\n",
              "      <td>732</td>\n",
              "      <td>1024</td>\n",
              "      <td>1240</td>\n",
              "      <td>1423</td>\n",
              "      <td>1340</td>\n",
              "      <td>1332</td>\n",
              "      <td>1358</td>\n",
              "      <td>1319</td>\n",
              "      <td>1387</td>\n",
              "      <td>1162</td>\n",
              "      <td>1101</td>\n",
              "      <td>959</td>\n",
              "      <td>917</td>\n",
              "      <td>707</td>\n",
              "      <td>574</td>\n",
              "      <td>408</td>\n",
              "      <td>404</td>\n",
              "      <td>196</td>\n",
              "      <td>127</td>\n",
              "      <td>82</td>\n",
              "      <td>37</td>\n",
              "      <td>25</td>\n",
              "      <td>13</td>\n",
              "      <td>5</td>\n",
              "      <td>1</td>\n",
              "      <td>2</td>\n",
              "      <td>1</td>\n",
              "    </tr>\n",
              "  </tbody>\n",
              "</table>\n",
              "</div>"
            ],
            "text/plain": [
              "age           16    17    18    19    20    21    22    23     24     25     26     27     28     29     30     31     32     33     34    35    36    37    38    39    40    41    42    44    45\n",
              "média       1166  2141  2238  2767  4786  6210  8031  8741  10053  11411  13202  13745  14201  14295  13667  16253  14294  13423  10892  7046  5866  7185  5000  4520  9076  2500  1000  1000  8000\n",
              "qtd não NA    42   289   729  1020  1232  1414  1317  1316   1337   1302   1353   1149   1079    943    903    695    564    399    401   192   127    81    36    25    13     4     1     2     1\n",
              "qtd NA         0     0     3     4     8     9    23    16     21     17     34     13     22     16     14     12     10      9      3     4     0     1     1     0     0     1     0     0     0\n",
              "qtd total     42   289   732  1024  1240  1423  1340  1332   1358   1319   1387   1162   1101    959    917    707    574    408    404   196   127    82    37    25    13     5     1     2     1"
            ]
          },
          "metadata": {
            "tags": []
          }
        },
        {
          "output_type": "display_data",
          "data": {
            "text/markdown": "<br/>",
            "text/plain": [
              "<IPython.core.display.Markdown object>"
            ]
          },
          "metadata": {
            "tags": []
          }
        },
        {
          "output_type": "display_data",
          "data": {
            "image/png": "[encoded data removed]",
            "text/plain": [
              "<Figure size 432x288 with 1 Axes>"
            ]
          },
          "metadata": {
            "tags": [],
            "needs_background": "light"
          }
        }
      ]
    },
    {
      "cell_type": "markdown",
      "metadata": {
        "id": "9yMCQ7BzBdXL"
      },
      "source": [
        "### Agregações por clube"
      ]
    },
    {
      "cell_type": "code",
      "metadata": {
        "id": "WzTl3tL-KVCj",
        "outputId": "5fec9262-8d79-4be6-b75e-c161fbd5a751",
        "colab": {
          "base_uri": "https://localhost:8080/"
        }
      },
      "source": [
        "# menores e maiores quantidades de jogadores por clube\n",
        "# (com filtros booleanos)\n",
        "sr = df_fifa.groupby('club')['name'].count().rename('qtd').sort_values()\n",
        "pdod.max_colwidth = None\n",
        "display(sr[sr <= 20] , \n",
        "        sr[sr >= 33].reset_index().groupby('qtd').agg(list))\n",
        "pdod.max_colwidth = 50"
      ],
      "execution_count": null,
      "outputs": [
        {
          "output_type": "display_data",
          "data": {
            "text/plain": [
              "club\n",
              "Derry City                   18\n",
              "Sligo Rovers                 19\n",
              "Limerick FC                  19\n",
              "Bahia                        20\n",
              "Botafogo                     20\n",
              "Tromsø IL                    20\n",
              "Atlético Mineiro             20\n",
              "Internacional                20\n",
              "Grêmio                       20\n",
              "Ceará Sporting Club          20\n",
              "Chapecoense                  20\n",
              "Vitória                      20\n",
              "Cruzeiro                     20\n",
              "Sport Club do Recife         20\n",
              "Paraná                       20\n",
              "Fluminense                   20\n",
              "América FC (Minas Gerais)    20\n",
              "Atlético Paranaense          20\n",
              "Santos                       20\n",
              "Name: qtd, dtype: int64"
            ]
          },
          "metadata": {
            "tags": []
          }
        },
        {
          "output_type": "display_data",
          "data": {
            "text/html": [
              "<div>\n",
              "<style scoped>\n",
              "    .dataframe tbody tr th:only-of-type {\n",
              "        vertical-align: middle;\n",
              "    }\n",
              "\n",
              "    .dataframe tbody tr th {\n",
              "        vertical-align: top;\n",
              "    }\n",
              "\n",
              "    .dataframe thead th {\n",
              "        text-align: right;\n",
              "    }\n",
              "</style>\n",
              "<table border=\"1\" class=\"dataframe\">\n",
              "  <thead>\n",
              "    <tr style=\"text-align: right;\">\n",
              "      <th></th>\n",
              "      <th>club</th>\n",
              "    </tr>\n",
              "    <tr>\n",
              "      <th>qtd</th>\n",
              "      <th></th>\n",
              "    </tr>\n",
              "  </thead>\n",
              "  <tbody>\n",
              "    <tr>\n",
              "      <th>33</th>\n",
              "      <td>[Eintracht Frankfurt, Wolverhampton Wanderers, AS Monaco, Real Madrid, Empoli, CD Leganés, Atlético Madrid, Rayo Vallecano, Chelsea, Tottenham Hotspur, Arsenal, Valencia CF, TSG 1899 Hoffenheim, Manchester United, Newcastle United, Liverpool, Cardiff City, RC Celta, FC Barcelona, Fortuna Düsseldorf, Frosinone, Borussia Dortmund, Southampton, Everton, Manchester City, Burnley]</td>\n",
              "    </tr>\n",
              "  </tbody>\n",
              "</table>\n",
              "</div>"
            ],
            "text/plain": [
              "                                                                                                                                                                                                                                                                                                                                                                                           club\n",
              "qtd                                                                                                                                                                                                                                                                                                                                                                                            \n",
              "33   [Eintracht Frankfurt, Wolverhampton Wanderers, AS Monaco, Real Madrid, Empoli, CD Leganés, Atlético Madrid, Rayo Vallecano, Chelsea, Tottenham Hotspur, Arsenal, Valencia CF, TSG 1899 Hoffenheim, Manchester United, Newcastle United, Liverpool, Cardiff City, RC Celta, FC Barcelona, Fortuna Düsseldorf, Frosinone, Borussia Dortmund, Southampton, Everton, Manchester City, Burnley]"
            ]
          },
          "metadata": {
            "tags": []
          }
        }
      ]
    },
    {
      "cell_type": "code",
      "metadata": {
        "id": "h8YOBki6z97-",
        "outputId": "ae09e160-b768-4558-e1a4-00344826e04c",
        "colab": {
          "base_uri": "https://localhost:8080/"
        }
      },
      "source": [
        "# menores e maiores quantidades de jogadores por clube\n",
        "# (com filtros por funções, úteis em encadeamento de métodos)\n",
        "sr = df_fifa.groupby('club')['name'].count().rename('qtd').sort_values()\n",
        "pdod.max_colwidth = None\n",
        "display(sr[lambda x: x <= 20] ,  \n",
        "        sr[lambda x: x >= 33].reset_index().groupby('qtd').agg(list) )\n",
        "pdod.max_colwidth = 50"
      ],
      "execution_count": null,
      "outputs": [
        {
          "output_type": "display_data",
          "data": {
            "text/plain": [
              "club\n",
              "Derry City                   18\n",
              "Sligo Rovers                 19\n",
              "Limerick FC                  19\n",
              "Bahia                        20\n",
              "Botafogo                     20\n",
              "Tromsø IL                    20\n",
              "Atlético Mineiro             20\n",
              "Internacional                20\n",
              "Grêmio                       20\n",
              "Ceará Sporting Club          20\n",
              "Chapecoense                  20\n",
              "Vitória                      20\n",
              "Cruzeiro                     20\n",
              "Sport Club do Recife         20\n",
              "Paraná                       20\n",
              "Fluminense                   20\n",
              "América FC (Minas Gerais)    20\n",
              "Atlético Paranaense          20\n",
              "Santos                       20\n",
              "Name: qtd, dtype: int64"
            ]
          },
          "metadata": {
            "tags": []
          }
        },
        {
          "output_type": "display_data",
          "data": {
            "text/html": [
              "<div>\n",
              "<style scoped>\n",
              "    .dataframe tbody tr th:only-of-type {\n",
              "        vertical-align: middle;\n",
              "    }\n",
              "\n",
              "    .dataframe tbody tr th {\n",
              "        vertical-align: top;\n",
              "    }\n",
              "\n",
              "    .dataframe thead th {\n",
              "        text-align: right;\n",
              "    }\n",
              "</style>\n",
              "<table border=\"1\" class=\"dataframe\">\n",
              "  <thead>\n",
              "    <tr style=\"text-align: right;\">\n",
              "      <th></th>\n",
              "      <th>club</th>\n",
              "    </tr>\n",
              "    <tr>\n",
              "      <th>qtd</th>\n",
              "      <th></th>\n",
              "    </tr>\n",
              "  </thead>\n",
              "  <tbody>\n",
              "    <tr>\n",
              "      <th>33</th>\n",
              "      <td>[Eintracht Frankfurt, Wolverhampton Wanderers, AS Monaco, Real Madrid, Empoli, CD Leganés, Atlético Madrid, Rayo Vallecano, Chelsea, Tottenham Hotspur, Arsenal, Valencia CF, TSG 1899 Hoffenheim, Manchester United, Newcastle United, Liverpool, Cardiff City, RC Celta, FC Barcelona, Fortuna Düsseldorf, Frosinone, Borussia Dortmund, Southampton, Everton, Manchester City, Burnley]</td>\n",
              "    </tr>\n",
              "  </tbody>\n",
              "</table>\n",
              "</div>"
            ],
            "text/plain": [
              "                                                                                                                                                                                                                                                                                                                                                                                           club\n",
              "qtd                                                                                                                                                                                                                                                                                                                                                                                            \n",
              "33   [Eintracht Frankfurt, Wolverhampton Wanderers, AS Monaco, Real Madrid, Empoli, CD Leganés, Atlético Madrid, Rayo Vallecano, Chelsea, Tottenham Hotspur, Arsenal, Valencia CF, TSG 1899 Hoffenheim, Manchester United, Newcastle United, Liverpool, Cardiff City, RC Celta, FC Barcelona, Fortuna Düsseldorf, Frosinone, Borussia Dortmund, Southampton, Everton, Manchester City, Burnley]"
            ]
          },
          "metadata": {
            "tags": []
          }
        }
      ]
    },
    {
      "cell_type": "code",
      "metadata": {
        "id": "hx6vGcsg4JKN",
        "outputId": "d823ec12-68d5-4d77-ae44-e317505de6d3",
        "colab": {
          "base_uri": "https://localhost:8080/"
        }
      },
      "source": [
        "# clubes por quantidades de jogadores\n",
        "pdod.max_colwidth = None\n",
        "display( \n",
        "    df_fifa.groupby('club')['name'].count().rename('qtd').reset_index()\n",
        "    .groupby('qtd').agg(list) )\n",
        "pdod.max_colwidth = 50"
      ],
      "execution_count": null,
      "outputs": [
        {
          "output_type": "display_data",
          "data": {
            "text/html": [
              "<div>\n",
              "<style scoped>\n",
              "    .dataframe tbody tr th:only-of-type {\n",
              "        vertical-align: middle;\n",
              "    }\n",
              "\n",
              "    .dataframe tbody tr th {\n",
              "        vertical-align: top;\n",
              "    }\n",
              "\n",
              "    .dataframe thead th {\n",
              "        text-align: right;\n",
              "    }\n",
              "</style>\n",
              "<table border=\"1\" class=\"dataframe\">\n",
              "  <thead>\n",
              "    <tr style=\"text-align: right;\">\n",
              "      <th></th>\n",
              "      <th>club</th>\n",
              "    </tr>\n",
              "    <tr>\n",
              "      <th>qtd</th>\n",
              "      <th></th>\n",
              "    </tr>\n",
              "  </thead>\n",
              "  <tbody>\n",
              "    <tr>\n",
              "      <th>18</th>\n",
              "      <td>[Derry City]</td>\n",
              "    </tr>\n",
              "    <tr>\n",
              "      <th>19</th>\n",
              "      <td>[Limerick FC, Sligo Rovers]</td>\n",
              "    </tr>\n",
              "    <tr>\n",
              "      <th>20</th>\n",
              "      <td>[América FC (Minas Gerais), Atlético Mineiro, Atlético Paranaense, Bahia, Botafogo, Ceará Sporting Club, Chapecoense, Cruzeiro, Fluminense, Grêmio, Internacional, Paraná, Santos, Sport Club do Recife, Tromsø IL, Vitória]</td>\n",
              "    </tr>\n",
              "    <tr>\n",
              "      <th>21</th>\n",
              "      <td>[Dalkurd FF, Melbourne Victory, Wellington Phoenix]</td>\n",
              "    </tr>\n",
              "    <tr>\n",
              "      <th>22</th>\n",
              "      <td>[FK Haugesund, Shamrock Rovers, Östersunds FK]</td>\n",
              "    </tr>\n",
              "    <tr>\n",
              "      <th>23</th>\n",
              "      <td>[AC Ajaccio, Bray Wanderers, Brisbane Roar, Chicago Fire, Clube Sport Marítimo, Colorado Rapids, Dundalk, FC København, GFC Ajaccio, GIF Sundsvall, IFK Göteborg, Kasimpaşa SK, Odds BK, St. Patrick's Athletic]</td>\n",
              "    </tr>\n",
              "    <tr>\n",
              "      <th>24</th>\n",
              "      <td>[AS Saint-Étienne, Atalanta, BSC Young Boys, Cagliari, Cheltenham Town, Crawley Town, Crotone, Fiorentina, Forest Green Rovers, IFK Norrköping, IK Start, Inter, Kristiansund BK, LASK Linz, La Berrichonne de Châteauroux, Lillestrøm SK, Newcastle Jets, Os Belenenses, Ranheim Fotball, SG Sonnenhof Großaspach, SV Wehen Wiesbaden, Sandefjord Fotball, Strømsgodset IF, VfR Aalen, Viktoria Plzeň]</td>\n",
              "    </tr>\n",
              "    <tr>\n",
              "      <th>25</th>\n",
              "      <td>[AC Horsens, Adelaide United, BB Erzurumspor, Benevento, Bohemian FC, CA Osasuna, CD Tondela, Carlisle United, Central Coast Mariners, Clermont Foot 63, Cork City, Cruz Azul, Djurgårdens IF, En Avant de Guingamp, Esbjerg fB, FC Hansa Rostock, FC St. Gallen, FSV Zwickau, GD Chaves, Grimsby Town, Hallescher FC, Hibernian, Hobro IK, Juventus, KRC Genk, Kayserispor, LA Galaxy, LOSC Lille, Los Angeles FC, Luton Town, Melbourne City FC, Moreirense FC, Napoli, Ohod Club, Oldham Athletic, Paris FC, Perth Glory, Randers FC, River Plate, Royal Antwerp FC, SK Sturm Graz, Stade Brestois 29, Sydney FC, US Cremonese, US Orléans Loiret Football, Waterford FC, Western Sydney Wanderers, Wycombe Wanderers, Zagłębie Sosnowiec, Śląsk Wrocław]</td>\n",
              "    </tr>\n",
              "    <tr>\n",
              "      <th>26</th>\n",
              "      <td>[1. FC Kaiserslautern, 1. FC Magdeburg, AFC Wimbledon, AS Béziers, Akhisar Belediyespor, Bayer 04 Leverkusen, CD Feirense, CD Nacional, CF Rayo Majadahonda, Columbus Crew SC, Córdoba CF, Dijon FCO, Elche CF, Excelsior, FC Groningen, FC Metz, FC Thun, FC Utrecht, Grenoble Foot 38, HJK Helsinki, IF Brommapojkarna, KV Oostende, MSV Duisburg, Macclesfield Town, Molde FK, Monterrey, New York City FC, Newport County, Perugia, Peterborough United, Pogoń Szczecin, Port Vale, Roma, Rosenborg BK, Rotherham United, SC Fortuna Köln, SCR Altach, SV Zulte-Waregem, San Jose Earthquakes, Sanfrecce Hiroshima, Santa Clara, Santos Laguna, Sarpsborg 08 FF, SpVgg Unterhaching, Swindon Town, TSV Hartberg, Tianjin Quanjian FC, Torino, VVV-Venlo, VfL Bochum 1848, VfL Osnabrück, Vålerenga Fotball, Wisła Kraków, Wisła Płock, Wolfsberger AC]</td>\n",
              "    </tr>\n",
              "    <tr>\n",
              "      <th>27</th>\n",
              "      <td>[AIK, AJ Auxerre, Aalborg BK, Aarhus GF, Aberdeen, Arka Gdynia, Atiker Konyaspor, BK Häcken, Belgrano de Córdoba, Boavista FC, Boca Juniors, Brøndby IF, CD Everton de Viña del Mar, CD Huachipato, CD Universidad de Concepción, Club Atlético Banfield, Cracovia, Deportivo Alavés, Dundee FC, FC Admira Wacker Mödling, FC Basel 1893, FC Lugano, FC Luzern, FC Midtjylland, FC Nordsjælland, FC Red Bull Salzburg, FC Sion, FC Wacker Innsbruck, FC Würzburger Kickers, FC Zürich, FK Austria Wien, FK Bodø/Glimt, Foggia, Fortuna Sittard, Genoa, Grasshopper Club Zürich, Górnik Zabrze, Hammarby IF, Heart of Midlothian, IF Elfsborg, IK Sirius, Jagiellonia Białystok, Kaizer Chiefs, Kalmar FF, Korona Kielce, Lech Poznań, Lechia Gdańsk, Legia Warszawa, Lobos BUAP, Malmö FF, Miedź Legnica, Milan, Nagoya Grampus, Neuchâtel Xamax, New England Revolution, Nîmes Olympique, Odense Boldklub, PAOK, PEC Zwolle, Piast Gliwice, Pohang Steelers, Portimonense SC, Real Betis, SC Heerenveen, SC Preußen Münster, SK Brann, SK Rapid Wien, SKN St. Pölten, SPAL, SV Darmstadt 98, SV Mattersburg, Sampdoria, Sassuolo, Scunthorpe United, Seattle Sounders FC, Shandong Luneng TaiShan FC, Shrewsbury, Sivasspor, Spartak Moscow, Sporting Kansas City, St. Johnstone FC, St. Mirren, Stabæk Fotball, Stade Rennais FC, SønderjyskE, Trelleborgs FF, Unión La Calera, Urawa Red Diamonds, Vancouver Whitecaps FC, Vegalta Sendai, Vejle Boldklub, Vendsyssel FF, VfB Stuttgart, Walsall, Zagłębie Lubin, Örebro SK]</td>\n",
              "    </tr>\n",
              "    <tr>\n",
              "      <th>28</th>\n",
              "      <td>[1. FC Heidenheim 1846, 1. FC Köln, 1. FC Union Berlin, ADO Den Haag, AEK Athens, Accrington Stanley, Al Fateh, Al Fayha, Alianza Petrolera, América de Cali, Argentinos Juniors, Atlético Bucaramanga, Atlético Huila, Atlético Nacional, Atlético Tucumán, Audax Italiano, Barnsley, Beijing Renhe FC, Beijing Sinobo Guoan FC, Beşiktaş JK, Blackpool, Bologna, Boyacá Chicó FC, Bradford City, Bristol Rovers, Burton Albion, Bury, CD Antofagasta, CD Aves, CD Numancia, CD O'Higgins, CD Palestino, CF Reus Deportiu, Cambridge United, Celtic, Chamois Niortais Football Club, Changchun Yatai FC, Charlton Athletic, Chievo Verona, Chongqing Dangdai Lifan FC SWM Team, Club Atlético Aldosivi, Club Atlético Colón, Club Atlético Huracán, Club Atlético Lanús, Club Atlético Talleres, Club Atlético Tigre, Club Brugge KV, Club Deportes Temuco, Club Tijuana, Colchester United, Colo-Colo, Coventry City, Crewe Alexandra, Curicó Unido, DC United, DSC Arminia Bielefeld, Daegu FC, Dalian YiFang FC, Defensa y Justicia, Deportes Iquique, Deportes Tolima, Deportivo Cali, Deportivo Pasto, Deportivo Toluca, Dinamo Zagreb, Doncaster Rovers, Dynamo Kyiv, Eintracht Braunschweig, Envigado FC, Estudiantes de La Plata, Exeter City, FC Carl Zeiss Jena, FC Energie Cottbus, FC Porto, FC Seoul, FC Sochaux-Montbéliard, Feyenoord, Fleetwood Town, Gangwon FC, Getafe CF, Gillingham, Gimnasia y Esgrima La Plata, Godoy Cruz, Guangzhou Evergrande Taobao FC, Guangzhou R&amp;F; FC, Guizhou Hengfeng FC, Gyeongnam FC, Göztepe SK, Hamilton Academical FC, Hebei China Fortune FC, Henan Jianye FC, Incheon United FC, Independiente, Independiente Medellín, Independiente Santa Fe, Itagüí Leones FC, Jaguares de Córdoba, Jeju United FC, Jeonbuk Hyundai Motors, Jeonnam Dragons, ...]</td>\n",
              "    </tr>\n",
              "    <tr>\n",
              "      <th>29</th>\n",
              "      <td>[ SSV Jahn Regensburg, 1. FC Nürnberg, AD Alcorcón, Al Nassr, Al Taawoun, Amiens SC, Atlanta United, Cittadella, Club Atlas, FC Bayern München, FC Dallas, FC Erzgebirge Aue, FC Schalke 04, Girona FC, Granada CF, Guadalajara, Hannover 96, Hellas Verona, Heracles Almelo, Hokkaido Consadole Sapporo, Holstein Kiel, Lecce, MKE Ankaragücü, Montreal Impact, New York Red Bulls, Olympique Lyonnais, Olympique de Marseille, Pachuca, Parma, Philadelphia Union, Preston North End, RCD Espanyol, SD Eibar, SV Sandhausen, Stade de Reims, Tiburones Rojos de Veracruz, U.N.A.M., UD Las Palmas, Valenciennes FC, Watford]</td>\n",
              "    </tr>\n",
              "    <tr>\n",
              "      <th>30</th>\n",
              "      <td>[AS Nancy Lorraine, AZ Alkmaar, Ajax, Al Ahli, Al Batin, Al Faisaly, Al Hazem, Al Hilal, Al Ittihad, Al Qadisiyah, Al Raed, Al Shabab, Al Wehda, Alanyaspor, Albacete BP, Angers SCO, Antalyaspor, Ascoli, Aston Villa, Birmingham City, Blackburn Rovers, Bolton Wanderers, Borussia Mönchengladbach, Brentford, Brescia, Bristol City, Bursaspor, CD Lugo, CD Tenerife, Carpi, Cerezo Osaka, Club América, Club León, Club Necaxa, Cosenza, Cádiz CF, De Graafschap, Deportivo de La Coruña, Derby County, ESTAC Troyes, Ettifaq FC, Extremadura UD, FC Emmen, FC Ingolstadt 04, FC Lorient, FC St. Pauli, FC Tokyo, Fenerbahçe SK, Galatasaray SK, Gamba Osaka, Gimnàstic de Tarragona, Hamburger SV, Houston Dynamo, Hull City, Ipswich Town, Júbilo Iwata, Kashima Antlers, Kawasaki Frontale, Le Havre AC, Leeds United, Livorno, Middlesbrough, Millwall, Minnesota United FC, Málaga CF, NAC Breda, Norwich City, Nottingham Forest, Orlando City SC, PSV, Padova, Palermo, Paris Saint-Germain, Portland Timbers, Puebla FC, Queens Park Rangers, Querétaro, Racing Club de Lens, Reading, Real Oviedo, Real Salt Lake, Real Sporting de Gijón, Real Valladolid CF, Real Zaragoza, SC Freiburg, SC Paderborn 07, SD Huesca, Sagan Tosu, Sevilla FC, Sheffield United, Sheffield Wednesday, Shimizu S-Pulse, Shonan Bellmare, Sporting CP, Stoke City, Swansea City, Tigres U.A.N.L., UD Almería, Udinese, V-Varen Nagasaki, ...]</td>\n",
              "    </tr>\n",
              "    <tr>\n",
              "      <th>31</th>\n",
              "      <td>[Athletic Club de Bilbao, FC Augsburg, FC Girondins de Bordeaux, Real Sociedad, Toulouse Football Club]</td>\n",
              "    </tr>\n",
              "    <tr>\n",
              "      <th>32</th>\n",
              "      <td>[1. FSV Mainz 05, Bournemouth, Brighton &amp; Hove Albion, Crystal Palace, FC Nantes, Fulham, Hertha BSC, Huddersfield Town, Lazio, Leicester City, Levante UD, SV Werder Bremen, VfL Wolfsburg, Villarreal CF, West Ham United]</td>\n",
              "    </tr>\n",
              "    <tr>\n",
              "      <th>33</th>\n",
              "      <td>[AS Monaco, Arsenal, Atlético Madrid, Borussia Dortmund, Burnley, CD Leganés, Cardiff City, Chelsea, Eintracht Frankfurt, Empoli, Everton, FC Barcelona, Fortuna Düsseldorf, Frosinone, Liverpool, Manchester City, Manchester United, Newcastle United, RC Celta, Rayo Vallecano, Real Madrid, Southampton, TSG 1899 Hoffenheim, Tottenham Hotspur, Valencia CF, Wolverhampton Wanderers]</td>\n",
              "    </tr>\n",
              "  </tbody>\n",
              "</table>\n",
              "</div>"
            ],
            "text/plain": [
              "                                                                                                                                                                                                                                                                                                                                                                                                                                                                                                                                                                                                                                                                                                                                                                                                                                                                                                                                                                                                                                                                                                                                                                                                                                                                                                                                                                                                                                                                                                                                                                                                                                                                                                                                                                                                             club\n",
              "qtd                                                                                                                                                                                                                                                                                                                                                                                                                                                                                                                                                                                                                                                                                                                                                                                                                                                                                                                                                                                                                                                                                                                                                                                                                                                                                                                                                                                                                                                                                                                                                                                                                                                                                                                                                                                                              \n",
              "18                                                                                                                                                                                                                                                                                                                                                                                                                                                                                                                                                                                                                                                                                                                                                                                                                                                                                                                                                                                                                                                                                                                                                                                                                                                                                                                                                                                                                                                                                                                                                                                                                                                                                                                                                                                                   [Derry City]\n",
              "19                                                                                                                                                                                                                                                                                                                                                                                                                                                                                                                                                                                                                                                                                                                                                                                                                                                                                                                                                                                                                                                                                                                                                                                                                                                                                                                                                                                                                                                                                                                                                                                                                                                                                                                                                                                    [Limerick FC, Sligo Rovers]\n",
              "20                                                                                                                                                                                                                                                                                                                                                                                                                                                                                                                                                                                                                                                                                                                                                                                                                                                                                                                                                                                                                                                                                                                                                                                                                                                                                                                                                                                                                                                                                                                                                                                   [América FC (Minas Gerais), Atlético Mineiro, Atlético Paranaense, Bahia, Botafogo, Ceará Sporting Club, Chapecoense, Cruzeiro, Fluminense, Grêmio, Internacional, Paraná, Santos, Sport Club do Recife, Tromsø IL, Vitória]\n",
              "21                                                                                                                                                                                                                                                                                                                                                                                                                                                                                                                                                                                                                                                                                                                                                                                                                                                                                                                                                                                                                                                                                                                                                                                                                                                                                                                                                                                                                                                                                                                                                                                                                                                                                                                                                            [Dalkurd FF, Melbourne Victory, Wellington Phoenix]\n",
              "22                                                                                                                                                                                                                                                                                                                                                                                                                                                                                                                                                                                                                                                                                                                                                                                                                                                                                                                                                                                                                                                                                                                                                                                                                                                                                                                                                                                                                                                                                                                                                                                                                                                                                                                                                                 [FK Haugesund, Shamrock Rovers, Östersunds FK]\n",
              "23                                                                                                                                                                                                                                                                                                                                                                                                                                                                                                                                                                                                                                                                                                                                                                                                                                                                                                                                                                                                                                                                                                                                                                                                                                                                                                                                                                                                                                                                                                                                                                                               [AC Ajaccio, Bray Wanderers, Brisbane Roar, Chicago Fire, Clube Sport Marítimo, Colorado Rapids, Dundalk, FC København, GFC Ajaccio, GIF Sundsvall, IFK Göteborg, Kasimpaşa SK, Odds BK, St. Patrick's Athletic]\n",
              "24                                                                                                                                                                                                                                                                                                                                                                                                                                                                                                                                                                                                                                                                                                                                                                                                                                                                                                                                                                                                                                                                                                                                                                                                                                                                                                                                                                                                        [AS Saint-Étienne, Atalanta, BSC Young Boys, Cagliari, Cheltenham Town, Crawley Town, Crotone, Fiorentina, Forest Green Rovers, IFK Norrköping, IK Start, Inter, Kristiansund BK, LASK Linz, La Berrichonne de Châteauroux, Lillestrøm SK, Newcastle Jets, Os Belenenses, Ranheim Fotball, SG Sonnenhof Großaspach, SV Wehen Wiesbaden, Sandefjord Fotball, Strømsgodset IF, VfR Aalen, Viktoria Plzeň]\n",
              "25                                                                                                                                                                                                                                                                                                                                                                                                                                                                                                                                                                                                                                                                                                                                                                                                                                                                                                                                                                                                                                                   [AC Horsens, Adelaide United, BB Erzurumspor, Benevento, Bohemian FC, CA Osasuna, CD Tondela, Carlisle United, Central Coast Mariners, Clermont Foot 63, Cork City, Cruz Azul, Djurgårdens IF, En Avant de Guingamp, Esbjerg fB, FC Hansa Rostock, FC St. Gallen, FSV Zwickau, GD Chaves, Grimsby Town, Hallescher FC, Hibernian, Hobro IK, Juventus, KRC Genk, Kayserispor, LA Galaxy, LOSC Lille, Los Angeles FC, Luton Town, Melbourne City FC, Moreirense FC, Napoli, Ohod Club, Oldham Athletic, Paris FC, Perth Glory, Randers FC, River Plate, Royal Antwerp FC, SK Sturm Graz, Stade Brestois 29, Sydney FC, US Cremonese, US Orléans Loiret Football, Waterford FC, Western Sydney Wanderers, Wycombe Wanderers, Zagłębie Sosnowiec, Śląsk Wrocław]\n",
              "26                                                                                                                                                                                                                                                                                                                                                                                                                                                                                                                                                                                                                                                                                                                                                                                                                                                                                                                                                     [1. FC Kaiserslautern, 1. FC Magdeburg, AFC Wimbledon, AS Béziers, Akhisar Belediyespor, Bayer 04 Leverkusen, CD Feirense, CD Nacional, CF Rayo Majadahonda, Columbus Crew SC, Córdoba CF, Dijon FCO, Elche CF, Excelsior, FC Groningen, FC Metz, FC Thun, FC Utrecht, Grenoble Foot 38, HJK Helsinki, IF Brommapojkarna, KV Oostende, MSV Duisburg, Macclesfield Town, Molde FK, Monterrey, New York City FC, Newport County, Perugia, Peterborough United, Pogoń Szczecin, Port Vale, Roma, Rosenborg BK, Rotherham United, SC Fortuna Köln, SCR Altach, SV Zulte-Waregem, San Jose Earthquakes, Sanfrecce Hiroshima, Santa Clara, Santos Laguna, Sarpsborg 08 FF, SpVgg Unterhaching, Swindon Town, TSV Hartberg, Tianjin Quanjian FC, Torino, VVV-Venlo, VfL Bochum 1848, VfL Osnabrück, Vålerenga Fotball, Wisła Kraków, Wisła Płock, Wolfsberger AC]\n",
              "27                                                                                                                                                                                                                                                                                [AIK, AJ Auxerre, Aalborg BK, Aarhus GF, Aberdeen, Arka Gdynia, Atiker Konyaspor, BK Häcken, Belgrano de Córdoba, Boavista FC, Boca Juniors, Brøndby IF, CD Everton de Viña del Mar, CD Huachipato, CD Universidad de Concepción, Club Atlético Banfield, Cracovia, Deportivo Alavés, Dundee FC, FC Admira Wacker Mödling, FC Basel 1893, FC Lugano, FC Luzern, FC Midtjylland, FC Nordsjælland, FC Red Bull Salzburg, FC Sion, FC Wacker Innsbruck, FC Würzburger Kickers, FC Zürich, FK Austria Wien, FK Bodø/Glimt, Foggia, Fortuna Sittard, Genoa, Grasshopper Club Zürich, Górnik Zabrze, Hammarby IF, Heart of Midlothian, IF Elfsborg, IK Sirius, Jagiellonia Białystok, Kaizer Chiefs, Kalmar FF, Korona Kielce, Lech Poznań, Lechia Gdańsk, Legia Warszawa, Lobos BUAP, Malmö FF, Miedź Legnica, Milan, Nagoya Grampus, Neuchâtel Xamax, New England Revolution, Nîmes Olympique, Odense Boldklub, PAOK, PEC Zwolle, Piast Gliwice, Pohang Steelers, Portimonense SC, Real Betis, SC Heerenveen, SC Preußen Münster, SK Brann, SK Rapid Wien, SKN St. Pölten, SPAL, SV Darmstadt 98, SV Mattersburg, Sampdoria, Sassuolo, Scunthorpe United, Seattle Sounders FC, Shandong Luneng TaiShan FC, Shrewsbury, Sivasspor, Spartak Moscow, Sporting Kansas City, St. Johnstone FC, St. Mirren, Stabæk Fotball, Stade Rennais FC, SønderjyskE, Trelleborgs FF, Unión La Calera, Urawa Red Diamonds, Vancouver Whitecaps FC, Vegalta Sendai, Vejle Boldklub, Vendsyssel FF, VfB Stuttgart, Walsall, Zagłębie Lubin, Örebro SK]\n",
              "28   [1. FC Heidenheim 1846, 1. FC Köln, 1. FC Union Berlin, ADO Den Haag, AEK Athens, Accrington Stanley, Al Fateh, Al Fayha, Alianza Petrolera, América de Cali, Argentinos Juniors, Atlético Bucaramanga, Atlético Huila, Atlético Nacional, Atlético Tucumán, Audax Italiano, Barnsley, Beijing Renhe FC, Beijing Sinobo Guoan FC, Beşiktaş JK, Blackpool, Bologna, Boyacá Chicó FC, Bradford City, Bristol Rovers, Burton Albion, Bury, CD Antofagasta, CD Aves, CD Numancia, CD O'Higgins, CD Palestino, CF Reus Deportiu, Cambridge United, Celtic, Chamois Niortais Football Club, Changchun Yatai FC, Charlton Athletic, Chievo Verona, Chongqing Dangdai Lifan FC SWM Team, Club Atlético Aldosivi, Club Atlético Colón, Club Atlético Huracán, Club Atlético Lanús, Club Atlético Talleres, Club Atlético Tigre, Club Brugge KV, Club Deportes Temuco, Club Tijuana, Colchester United, Colo-Colo, Coventry City, Crewe Alexandra, Curicó Unido, DC United, DSC Arminia Bielefeld, Daegu FC, Dalian YiFang FC, Defensa y Justicia, Deportes Iquique, Deportes Tolima, Deportivo Cali, Deportivo Pasto, Deportivo Toluca, Dinamo Zagreb, Doncaster Rovers, Dynamo Kyiv, Eintracht Braunschweig, Envigado FC, Estudiantes de La Plata, Exeter City, FC Carl Zeiss Jena, FC Energie Cottbus, FC Porto, FC Seoul, FC Sochaux-Montbéliard, Feyenoord, Fleetwood Town, Gangwon FC, Getafe CF, Gillingham, Gimnasia y Esgrima La Plata, Godoy Cruz, Guangzhou Evergrande Taobao FC, Guangzhou R&F; FC, Guizhou Hengfeng FC, Gyeongnam FC, Göztepe SK, Hamilton Academical FC, Hebei China Fortune FC, Henan Jianye FC, Incheon United FC, Independiente, Independiente Medellín, Independiente Santa Fe, Itagüí Leones FC, Jaguares de Córdoba, Jeju United FC, Jeonbuk Hyundai Motors, Jeonnam Dragons, ...]\n",
              "29                                                                                                                                                                                                                                                                                                                                                                                                                                                                                                                                                                                                                                                                                                                                                                                                                                                                                                                                                                                                                                                                                                                                                                                 [ SSV Jahn Regensburg, 1. FC Nürnberg, AD Alcorcón, Al Nassr, Al Taawoun, Amiens SC, Atlanta United, Cittadella, Club Atlas, FC Bayern München, FC Dallas, FC Erzgebirge Aue, FC Schalke 04, Girona FC, Granada CF, Guadalajara, Hannover 96, Hellas Verona, Heracles Almelo, Hokkaido Consadole Sapporo, Holstein Kiel, Lecce, MKE Ankaragücü, Montreal Impact, New York Red Bulls, Olympique Lyonnais, Olympique de Marseille, Pachuca, Parma, Philadelphia Union, Preston North End, RCD Espanyol, SD Eibar, SV Sandhausen, Stade de Reims, Tiburones Rojos de Veracruz, U.N.A.M., UD Las Palmas, Valenciennes FC, Watford]\n",
              "30                                                                                                                                                                                                                                                                                                                                                                      [AS Nancy Lorraine, AZ Alkmaar, Ajax, Al Ahli, Al Batin, Al Faisaly, Al Hazem, Al Hilal, Al Ittihad, Al Qadisiyah, Al Raed, Al Shabab, Al Wehda, Alanyaspor, Albacete BP, Angers SCO, Antalyaspor, Ascoli, Aston Villa, Birmingham City, Blackburn Rovers, Bolton Wanderers, Borussia Mönchengladbach, Brentford, Brescia, Bristol City, Bursaspor, CD Lugo, CD Tenerife, Carpi, Cerezo Osaka, Club América, Club León, Club Necaxa, Cosenza, Cádiz CF, De Graafschap, Deportivo de La Coruña, Derby County, ESTAC Troyes, Ettifaq FC, Extremadura UD, FC Emmen, FC Ingolstadt 04, FC Lorient, FC St. Pauli, FC Tokyo, Fenerbahçe SK, Galatasaray SK, Gamba Osaka, Gimnàstic de Tarragona, Hamburger SV, Houston Dynamo, Hull City, Ipswich Town, Júbilo Iwata, Kashima Antlers, Kawasaki Frontale, Le Havre AC, Leeds United, Livorno, Middlesbrough, Millwall, Minnesota United FC, Málaga CF, NAC Breda, Norwich City, Nottingham Forest, Orlando City SC, PSV, Padova, Palermo, Paris Saint-Germain, Portland Timbers, Puebla FC, Queens Park Rangers, Querétaro, Racing Club de Lens, Reading, Real Oviedo, Real Salt Lake, Real Sporting de Gijón, Real Valladolid CF, Real Zaragoza, SC Freiburg, SC Paderborn 07, SD Huesca, Sagan Tosu, Sevilla FC, Sheffield United, Sheffield Wednesday, Shimizu S-Pulse, Shonan Bellmare, Sporting CP, Stoke City, Swansea City, Tigres U.A.N.L., UD Almería, Udinese, V-Varen Nagasaki, ...]\n",
              "31                                                                                                                                                                                                                                                                                                                                                                                                                                                                                                                                                                                                                                                                                                                                                                                                                                                                                                                                                                                                                                                                                                                                                                                                                                                                                                                                                                                                                                                                                                                                                                                                                                                                                                        [Athletic Club de Bilbao, FC Augsburg, FC Girondins de Bordeaux, Real Sociedad, Toulouse Football Club]\n",
              "32                                                                                                                                                                                                                                                                                                                                                                                                                                                                                                                                                                                                                                                                                                                                                                                                                                                                                                                                                                                                                                                                                                                                                                                                                                                                                                                                                                                                                                                                                                                                                                                   [1. FSV Mainz 05, Bournemouth, Brighton & Hove Albion, Crystal Palace, FC Nantes, Fulham, Hertha BSC, Huddersfield Town, Lazio, Leicester City, Levante UD, SV Werder Bremen, VfL Wolfsburg, Villarreal CF, West Ham United]\n",
              "33                                                                                                                                                                                                                                                                                                                                                                                                                                                                                                                                                                                                                                                                                                                                                                                                                                                                                                                                                                                                                                                                                                                                                                                                                                                                                                                                                                                                                     [AS Monaco, Arsenal, Atlético Madrid, Borussia Dortmund, Burnley, CD Leganés, Cardiff City, Chelsea, Eintracht Frankfurt, Empoli, Everton, FC Barcelona, Fortuna Düsseldorf, Frosinone, Liverpool, Manchester City, Manchester United, Newcastle United, RC Celta, Rayo Vallecano, Real Madrid, Southampton, TSG 1899 Hoffenheim, Tottenham Hotspur, Valencia CF, Wolverhampton Wanderers]"
            ]
          },
          "metadata": {
            "tags": []
          }
        }
      ]
    },
    {
      "cell_type": "code",
      "metadata": {
        "id": "5KdqIk3V41Q0",
        "outputId": "6edab861-529f-40fb-8f00-a76626454100",
        "colab": {
          "base_uri": "https://localhost:8080/"
        }
      },
      "source": [
        "# menores e maiores médias de idades de jogadores por clube\n",
        "sr = df_fifa.groupby('club')['age'].mean()\n",
        "display(sr.nsmallest(5) , Markdown('<br/>'), sr.nlargest(5))"
      ],
      "execution_count": null,
      "outputs": [
        {
          "output_type": "display_data",
          "data": {
            "text/plain": [
              "club\n",
              "FC Nordsjælland             20.259259\n",
              "FC Groningen                21.423077\n",
              "Bohemian FC                 21.480000\n",
              "FC Sochaux-Montbéliard      21.678571\n",
              "FC Admira Wacker Mödling    21.925926\n",
              "Name: age, dtype: float64"
            ]
          },
          "metadata": {
            "tags": []
          }
        },
        {
          "output_type": "display_data",
          "data": {
            "text/markdown": "<br/>",
            "text/plain": [
              "<IPython.core.display.Markdown object>"
            ]
          },
          "metadata": {
            "tags": []
          }
        },
        {
          "output_type": "display_data",
          "data": {
            "text/plain": [
              "club\n",
              "Paraná                 31.6\n",
              "Cruzeiro               30.6\n",
              "Atlético Paranaense    30.4\n",
              "Botafogo               30.4\n",
              "Chapecoense            30.4\n",
              "Name: age, dtype: float64"
            ]
          },
          "metadata": {
            "tags": []
          }
        }
      ]
    },
    {
      "cell_type": "code",
      "metadata": {
        "id": "49KDsr3kAx6I",
        "outputId": "281f082b-c680-4502-a8fc-894a3e15fe71",
        "colab": {
          "base_uri": "https://localhost:8080/"
        }
      },
      "source": [
        "# maiores e menores médias e somas de salários por clube\n",
        "df = (\n",
        "  df_fifa.groupby('club')['wage']\n",
        "  .agg([  lambda sr: round(sr.mean(), 1),\n",
        "          'sum',\n",
        "          'count',\n",
        "          lambda sr: int(sr.isna().sum()),\n",
        "          len ]) \n",
        "  .set_axis(['média', 'soma', 'qtd não NA', 'qtd NA', 'qtd total'], axis=1)\n",
        " .astype({'qtd NA':int, 'qtd total':int})\n",
        ")\n",
        "lst_nova_ordem = ['soma', 'média', 'qtd não NA', 'qtd NA', 'qtd total']\n",
        "pdod.max_colwidth = None\n",
        "display(\n",
        "    Markdown('### Maiores médias de salário'), \n",
        "      df.nlargest(5, columns='média'), \n",
        "    Markdown('<br/><br/>\\n\\n### Menores médias de salário'), \n",
        "      df[df['média'] < 1001].reset_index()\n",
        "      .groupby('média')['club'].agg(list).to_frame(),\n",
        "    Markdown('<br/>\\n\\n---\\n<br/><br/>\\n### Maiores somas de salário'), \n",
        "      df.nlargest(5, columns='soma')[lst_nova_ordem], \n",
        "    Markdown('<br/>\\n\\n### Menores somas de salário'), \n",
        "      df.nsmallest(5, columns='soma')[lst_nova_ordem],\n",
        "       )\n",
        "pdod.max_colwidth = 50"
      ],
      "execution_count": null,
      "outputs": [
        {
          "output_type": "display_data",
          "data": {
            "text/markdown": "### Maiores médias de salário",
            "text/plain": [
              "<IPython.core.display.Markdown object>"
            ]
          },
          "metadata": {
            "tags": []
          }
        },
        {
          "output_type": "display_data",
          "data": {
            "text/html": [
              "<div>\n",
              "<style scoped>\n",
              "    .dataframe tbody tr th:only-of-type {\n",
              "        vertical-align: middle;\n",
              "    }\n",
              "\n",
              "    .dataframe tbody tr th {\n",
              "        vertical-align: top;\n",
              "    }\n",
              "\n",
              "    .dataframe thead th {\n",
              "        text-align: right;\n",
              "    }\n",
              "</style>\n",
              "<table border=\"1\" class=\"dataframe\">\n",
              "  <thead>\n",
              "    <tr style=\"text-align: right;\">\n",
              "      <th></th>\n",
              "      <th>média</th>\n",
              "      <th>soma</th>\n",
              "      <th>qtd não NA</th>\n",
              "      <th>qtd NA</th>\n",
              "      <th>qtd total</th>\n",
              "    </tr>\n",
              "    <tr>\n",
              "      <th>club</th>\n",
              "      <th></th>\n",
              "      <th></th>\n",
              "      <th></th>\n",
              "      <th></th>\n",
              "      <th></th>\n",
              "    </tr>\n",
              "  </thead>\n",
              "  <tbody>\n",
              "    <tr>\n",
              "      <th>Real Madrid</th>\n",
              "      <td>152030.3</td>\n",
              "      <td>5017000.0</td>\n",
              "      <td>33</td>\n",
              "      <td>0</td>\n",
              "      <td>33</td>\n",
              "    </tr>\n",
              "    <tr>\n",
              "      <th>FC Barcelona</th>\n",
              "      <td>146575.8</td>\n",
              "      <td>4837000.0</td>\n",
              "      <td>33</td>\n",
              "      <td>0</td>\n",
              "      <td>33</td>\n",
              "    </tr>\n",
              "    <tr>\n",
              "      <th>Juventus</th>\n",
              "      <td>131680.0</td>\n",
              "      <td>3292000.0</td>\n",
              "      <td>25</td>\n",
              "      <td>0</td>\n",
              "      <td>25</td>\n",
              "    </tr>\n",
              "    <tr>\n",
              "      <th>Manchester City</th>\n",
              "      <td>113363.6</td>\n",
              "      <td>3741000.0</td>\n",
              "      <td>33</td>\n",
              "      <td>0</td>\n",
              "      <td>33</td>\n",
              "    </tr>\n",
              "    <tr>\n",
              "      <th>Manchester United</th>\n",
              "      <td>102757.6</td>\n",
              "      <td>3391000.0</td>\n",
              "      <td>33</td>\n",
              "      <td>0</td>\n",
              "      <td>33</td>\n",
              "    </tr>\n",
              "  </tbody>\n",
              "</table>\n",
              "</div>"
            ],
            "text/plain": [
              "                      média       soma  qtd não NA  qtd NA  qtd total\n",
              "club                                                                 \n",
              "Real Madrid        152030.3  5017000.0          33       0         33\n",
              "FC Barcelona       146575.8  4837000.0          33       0         33\n",
              "Juventus           131680.0  3292000.0          25       0         25\n",
              "Manchester City    113363.6  3741000.0          33       0         33\n",
              "Manchester United  102757.6  3391000.0          33       0         33"
            ]
          },
          "metadata": {
            "tags": []
          }
        },
        {
          "output_type": "display_data",
          "data": {
            "text/markdown": "<br/><br/>\n\n### Menores médias de salário",
            "text/plain": [
              "<IPython.core.display.Markdown object>"
            ]
          },
          "metadata": {
            "tags": []
          }
        },
        {
          "output_type": "display_data",
          "data": {
            "text/html": [
              "<div>\n",
              "<style scoped>\n",
              "    .dataframe tbody tr th:only-of-type {\n",
              "        vertical-align: middle;\n",
              "    }\n",
              "\n",
              "    .dataframe tbody tr th {\n",
              "        vertical-align: top;\n",
              "    }\n",
              "\n",
              "    .dataframe thead th {\n",
              "        text-align: right;\n",
              "    }\n",
              "</style>\n",
              "<table border=\"1\" class=\"dataframe\">\n",
              "  <thead>\n",
              "    <tr style=\"text-align: right;\">\n",
              "      <th></th>\n",
              "      <th>club</th>\n",
              "    </tr>\n",
              "    <tr>\n",
              "      <th>média</th>\n",
              "      <th></th>\n",
              "    </tr>\n",
              "  </thead>\n",
              "  <tbody>\n",
              "    <tr>\n",
              "      <th>1000.0</th>\n",
              "      <td>[AEK Athens, Bohemian FC, Boyacá Chicó FC, Bray Wanderers, Cork City, Deportivo Pasto, Dinamo Zagreb, Dynamo Kyiv, Envigado FC, FC Energie Cottbus, HJK Helsinki, IF Brommapojkarna, IK Sirius, Itagüí Leones FC, Jaguares de Córdoba, Kaizer Chiefs, Limerick FC, Lokomotiv Moscow, Olympiacos CFP, Orlando Pirates, PAOK, PFC CSKA Moscow, Panathinaikos FC, SK Slavia Praha, Shakhtar Donetsk, Shamrock Rovers, Sligo Rovers, Sparta Praha, Spartak Moscow, St. Patrick's Athletic, Trelleborgs FF, Viktoria Plzeň]</td>\n",
              "    </tr>\n",
              "  </tbody>\n",
              "</table>\n",
              "</div>"
            ],
            "text/plain": [
              "                                                                                                                                                                                                                                                                                                                                                                                                                                                                                                                          club\n",
              "média                                                                                                                                                                                                                                                                                                                                                                                                                                                                                                                         \n",
              "1000.0  [AEK Athens, Bohemian FC, Boyacá Chicó FC, Bray Wanderers, Cork City, Deportivo Pasto, Dinamo Zagreb, Dynamo Kyiv, Envigado FC, FC Energie Cottbus, HJK Helsinki, IF Brommapojkarna, IK Sirius, Itagüí Leones FC, Jaguares de Córdoba, Kaizer Chiefs, Limerick FC, Lokomotiv Moscow, Olympiacos CFP, Orlando Pirates, PAOK, PFC CSKA Moscow, Panathinaikos FC, SK Slavia Praha, Shakhtar Donetsk, Shamrock Rovers, Sligo Rovers, Sparta Praha, Spartak Moscow, St. Patrick's Athletic, Trelleborgs FF, Viktoria Plzeň]"
            ]
          },
          "metadata": {
            "tags": []
          }
        },
        {
          "output_type": "display_data",
          "data": {
            "text/markdown": "<br/>\n\n---\n<br/><br/>\n### Maiores somas de salário",
            "text/plain": [
              "<IPython.core.display.Markdown object>"
            ]
          },
          "metadata": {
            "tags": []
          }
        },
        {
          "output_type": "display_data",
          "data": {
            "text/html": [
              "<div>\n",
              "<style scoped>\n",
              "    .dataframe tbody tr th:only-of-type {\n",
              "        vertical-align: middle;\n",
              "    }\n",
              "\n",
              "    .dataframe tbody tr th {\n",
              "        vertical-align: top;\n",
              "    }\n",
              "\n",
              "    .dataframe thead th {\n",
              "        text-align: right;\n",
              "    }\n",
              "</style>\n",
              "<table border=\"1\" class=\"dataframe\">\n",
              "  <thead>\n",
              "    <tr style=\"text-align: right;\">\n",
              "      <th></th>\n",
              "      <th>soma</th>\n",
              "      <th>média</th>\n",
              "      <th>qtd não NA</th>\n",
              "      <th>qtd NA</th>\n",
              "      <th>qtd total</th>\n",
              "    </tr>\n",
              "    <tr>\n",
              "      <th>club</th>\n",
              "      <th></th>\n",
              "      <th></th>\n",
              "      <th></th>\n",
              "      <th></th>\n",
              "      <th></th>\n",
              "    </tr>\n",
              "  </thead>\n",
              "  <tbody>\n",
              "    <tr>\n",
              "      <th>Real Madrid</th>\n",
              "      <td>5017000.0</td>\n",
              "      <td>152030.3</td>\n",
              "      <td>33</td>\n",
              "      <td>0</td>\n",
              "      <td>33</td>\n",
              "    </tr>\n",
              "    <tr>\n",
              "      <th>FC Barcelona</th>\n",
              "      <td>4837000.0</td>\n",
              "      <td>146575.8</td>\n",
              "      <td>33</td>\n",
              "      <td>0</td>\n",
              "      <td>33</td>\n",
              "    </tr>\n",
              "    <tr>\n",
              "      <th>Manchester City</th>\n",
              "      <td>3741000.0</td>\n",
              "      <td>113363.6</td>\n",
              "      <td>33</td>\n",
              "      <td>0</td>\n",
              "      <td>33</td>\n",
              "    </tr>\n",
              "    <tr>\n",
              "      <th>Manchester United</th>\n",
              "      <td>3391000.0</td>\n",
              "      <td>102757.6</td>\n",
              "      <td>33</td>\n",
              "      <td>0</td>\n",
              "      <td>33</td>\n",
              "    </tr>\n",
              "    <tr>\n",
              "      <th>Juventus</th>\n",
              "      <td>3292000.0</td>\n",
              "      <td>131680.0</td>\n",
              "      <td>25</td>\n",
              "      <td>0</td>\n",
              "      <td>25</td>\n",
              "    </tr>\n",
              "  </tbody>\n",
              "</table>\n",
              "</div>"
            ],
            "text/plain": [
              "                        soma     média  qtd não NA  qtd NA  qtd total\n",
              "club                                                                 \n",
              "Real Madrid        5017000.0  152030.3          33       0         33\n",
              "FC Barcelona       4837000.0  146575.8          33       0         33\n",
              "Manchester City    3741000.0  113363.6          33       0         33\n",
              "Manchester United  3391000.0  102757.6          33       0         33\n",
              "Juventus           3292000.0  131680.0          25       0         25"
            ]
          },
          "metadata": {
            "tags": []
          }
        },
        {
          "output_type": "display_data",
          "data": {
            "text/markdown": "<br/>\n\n### Menores somas de salário",
            "text/plain": [
              "<IPython.core.display.Markdown object>"
            ]
          },
          "metadata": {
            "tags": []
          }
        },
        {
          "output_type": "display_data",
          "data": {
            "text/html": [
              "<div>\n",
              "<style scoped>\n",
              "    .dataframe tbody tr th:only-of-type {\n",
              "        vertical-align: middle;\n",
              "    }\n",
              "\n",
              "    .dataframe tbody tr th {\n",
              "        vertical-align: top;\n",
              "    }\n",
              "\n",
              "    .dataframe thead th {\n",
              "        text-align: right;\n",
              "    }\n",
              "</style>\n",
              "<table border=\"1\" class=\"dataframe\">\n",
              "  <thead>\n",
              "    <tr style=\"text-align: right;\">\n",
              "      <th></th>\n",
              "      <th>soma</th>\n",
              "      <th>média</th>\n",
              "      <th>qtd não NA</th>\n",
              "      <th>qtd NA</th>\n",
              "      <th>qtd total</th>\n",
              "    </tr>\n",
              "    <tr>\n",
              "      <th>club</th>\n",
              "      <th></th>\n",
              "      <th></th>\n",
              "      <th></th>\n",
              "      <th></th>\n",
              "      <th></th>\n",
              "    </tr>\n",
              "  </thead>\n",
              "  <tbody>\n",
              "    <tr>\n",
              "      <th>Derry City</th>\n",
              "      <td>19000.0</td>\n",
              "      <td>1055.6</td>\n",
              "      <td>18</td>\n",
              "      <td>0</td>\n",
              "      <td>18</td>\n",
              "    </tr>\n",
              "    <tr>\n",
              "      <th>Limerick FC</th>\n",
              "      <td>19000.0</td>\n",
              "      <td>1000.0</td>\n",
              "      <td>19</td>\n",
              "      <td>0</td>\n",
              "      <td>19</td>\n",
              "    </tr>\n",
              "    <tr>\n",
              "      <th>Sligo Rovers</th>\n",
              "      <td>19000.0</td>\n",
              "      <td>1000.0</td>\n",
              "      <td>19</td>\n",
              "      <td>0</td>\n",
              "      <td>19</td>\n",
              "    </tr>\n",
              "    <tr>\n",
              "      <th>Dalkurd FF</th>\n",
              "      <td>22000.0</td>\n",
              "      <td>1047.6</td>\n",
              "      <td>21</td>\n",
              "      <td>0</td>\n",
              "      <td>21</td>\n",
              "    </tr>\n",
              "    <tr>\n",
              "      <th>Shamrock Rovers</th>\n",
              "      <td>22000.0</td>\n",
              "      <td>1000.0</td>\n",
              "      <td>22</td>\n",
              "      <td>0</td>\n",
              "      <td>22</td>\n",
              "    </tr>\n",
              "  </tbody>\n",
              "</table>\n",
              "</div>"
            ],
            "text/plain": [
              "                    soma   média  qtd não NA  qtd NA  qtd total\n",
              "club                                                           \n",
              "Derry City       19000.0  1055.6          18       0         18\n",
              "Limerick FC      19000.0  1000.0          19       0         19\n",
              "Sligo Rovers     19000.0  1000.0          19       0         19\n",
              "Dalkurd FF       22000.0  1047.6          21       0         21\n",
              "Shamrock Rovers  22000.0  1000.0          22       0         22"
            ]
          },
          "metadata": {
            "tags": []
          }
        }
      ]
    },
    {
      "cell_type": "code",
      "metadata": {
        "id": "c0s7cH_Jxwej",
        "outputId": "ac88f7b4-32e6-4e42-b1d0-c27d68814fc9",
        "colab": {
          "base_uri": "https://localhost:8080/"
        }
      },
      "source": [
        "# todas agregações por clube\n",
        "\n",
        "def count_na(sr):\n",
        "  return int(sr.isna().sum())\n",
        "\n",
        "dct_agg = dict(\n",
        "    name=['count'],\n",
        "    age=['mean', 'count', count_na], \n",
        "    wage=['mean', 'sum', 'count', count_na]\n",
        ")\n",
        "df_agg_by_club = df_fifa.groupby('club').agg(dct_agg)\n",
        "df_agg_by_club"
      ],
      "execution_count": null,
      "outputs": [
        {
          "output_type": "execute_result",
          "data": {
            "text/html": [
              "<div>\n",
              "<style scoped>\n",
              "    .dataframe tbody tr th:only-of-type {\n",
              "        vertical-align: middle;\n",
              "    }\n",
              "\n",
              "    .dataframe tbody tr th {\n",
              "        vertical-align: top;\n",
              "    }\n",
              "\n",
              "    .dataframe thead tr th {\n",
              "        text-align: left;\n",
              "    }\n",
              "\n",
              "    .dataframe thead tr:last-of-type th {\n",
              "        text-align: right;\n",
              "    }\n",
              "</style>\n",
              "<table border=\"1\" class=\"dataframe\">\n",
              "  <thead>\n",
              "    <tr>\n",
              "      <th></th>\n",
              "      <th>name</th>\n",
              "      <th colspan=\"3\" halign=\"left\">age</th>\n",
              "      <th colspan=\"4\" halign=\"left\">wage</th>\n",
              "    </tr>\n",
              "    <tr>\n",
              "      <th></th>\n",
              "      <th>count</th>\n",
              "      <th>mean</th>\n",
              "      <th>count</th>\n",
              "      <th>count_na</th>\n",
              "      <th>mean</th>\n",
              "      <th>sum</th>\n",
              "      <th>count</th>\n",
              "      <th>count_na</th>\n",
              "    </tr>\n",
              "    <tr>\n",
              "      <th>club</th>\n",
              "      <th></th>\n",
              "      <th></th>\n",
              "      <th></th>\n",
              "      <th></th>\n",
              "      <th></th>\n",
              "      <th></th>\n",
              "      <th></th>\n",
              "      <th></th>\n",
              "    </tr>\n",
              "  </thead>\n",
              "  <tbody>\n",
              "    <tr>\n",
              "      <th>SSV Jahn Regensburg</th>\n",
              "      <td>29</td>\n",
              "      <td>25.655172</td>\n",
              "      <td>29</td>\n",
              "      <td>0</td>\n",
              "      <td>4241.379310</td>\n",
              "      <td>123000.0</td>\n",
              "      <td>29</td>\n",
              "      <td>0.0</td>\n",
              "    </tr>\n",
              "    <tr>\n",
              "      <th>1. FC Heidenheim 1846</th>\n",
              "      <td>28</td>\n",
              "      <td>24.000000</td>\n",
              "      <td>28</td>\n",
              "      <td>0</td>\n",
              "      <td>4464.285714</td>\n",
              "      <td>125000.0</td>\n",
              "      <td>28</td>\n",
              "      <td>0.0</td>\n",
              "    </tr>\n",
              "    <tr>\n",
              "      <th>1. FC Kaiserslautern</th>\n",
              "      <td>26</td>\n",
              "      <td>23.846154</td>\n",
              "      <td>26</td>\n",
              "      <td>0</td>\n",
              "      <td>1692.307692</td>\n",
              "      <td>44000.0</td>\n",
              "      <td>26</td>\n",
              "      <td>0.0</td>\n",
              "    </tr>\n",
              "    <tr>\n",
              "      <th>1. FC Köln</th>\n",
              "      <td>28</td>\n",
              "      <td>24.321429</td>\n",
              "      <td>28</td>\n",
              "      <td>0</td>\n",
              "      <td>13285.714286</td>\n",
              "      <td>372000.0</td>\n",
              "      <td>28</td>\n",
              "      <td>0.0</td>\n",
              "    </tr>\n",
              "    <tr>\n",
              "      <th>1. FC Magdeburg</th>\n",
              "      <td>26</td>\n",
              "      <td>24.692308</td>\n",
              "      <td>26</td>\n",
              "      <td>0</td>\n",
              "      <td>4884.615385</td>\n",
              "      <td>127000.0</td>\n",
              "      <td>26</td>\n",
              "      <td>0.0</td>\n",
              "    </tr>\n",
              "    <tr>\n",
              "      <th>...</th>\n",
              "      <td>...</td>\n",
              "      <td>...</td>\n",
              "      <td>...</td>\n",
              "      <td>...</td>\n",
              "      <td>...</td>\n",
              "      <td>...</td>\n",
              "      <td>...</td>\n",
              "      <td>...</td>\n",
              "    </tr>\n",
              "    <tr>\n",
              "      <th>Zagłębie Sosnowiec</th>\n",
              "      <td>25</td>\n",
              "      <td>26.240000</td>\n",
              "      <td>25</td>\n",
              "      <td>0</td>\n",
              "      <td>1080.000000</td>\n",
              "      <td>27000.0</td>\n",
              "      <td>25</td>\n",
              "      <td>0.0</td>\n",
              "    </tr>\n",
              "    <tr>\n",
              "      <th>Çaykur Rizespor</th>\n",
              "      <td>30</td>\n",
              "      <td>25.433333</td>\n",
              "      <td>30</td>\n",
              "      <td>0</td>\n",
              "      <td>6433.333333</td>\n",
              "      <td>193000.0</td>\n",
              "      <td>30</td>\n",
              "      <td>0.0</td>\n",
              "    </tr>\n",
              "    <tr>\n",
              "      <th>Örebro SK</th>\n",
              "      <td>27</td>\n",
              "      <td>24.037037</td>\n",
              "      <td>27</td>\n",
              "      <td>0</td>\n",
              "      <td>1481.481481</td>\n",
              "      <td>40000.0</td>\n",
              "      <td>27</td>\n",
              "      <td>0.0</td>\n",
              "    </tr>\n",
              "    <tr>\n",
              "      <th>Östersunds FK</th>\n",
              "      <td>22</td>\n",
              "      <td>23.863636</td>\n",
              "      <td>22</td>\n",
              "      <td>0</td>\n",
              "      <td>2045.454545</td>\n",
              "      <td>45000.0</td>\n",
              "      <td>22</td>\n",
              "      <td>0.0</td>\n",
              "    </tr>\n",
              "    <tr>\n",
              "      <th>Śląsk Wrocław</th>\n",
              "      <td>25</td>\n",
              "      <td>25.960000</td>\n",
              "      <td>25</td>\n",
              "      <td>0</td>\n",
              "      <td>2040.000000</td>\n",
              "      <td>51000.0</td>\n",
              "      <td>25</td>\n",
              "      <td>0.0</td>\n",
              "    </tr>\n",
              "  </tbody>\n",
              "</table>\n",
              "<p>651 rows × 8 columns</p>\n",
              "</div>"
            ],
            "text/plain": [
              "                       name        age                         wage                         \n",
              "                      count       mean count count_na          mean       sum count count_na\n",
              "club                                                                                        \n",
              " SSV Jahn Regensburg     29  25.655172    29        0   4241.379310  123000.0    29      0.0\n",
              "1. FC Heidenheim 1846    28  24.000000    28        0   4464.285714  125000.0    28      0.0\n",
              "1. FC Kaiserslautern     26  23.846154    26        0   1692.307692   44000.0    26      0.0\n",
              "1. FC Köln               28  24.321429    28        0  13285.714286  372000.0    28      0.0\n",
              "1. FC Magdeburg          26  24.692308    26        0   4884.615385  127000.0    26      0.0\n",
              "...                     ...        ...   ...      ...           ...       ...   ...      ...\n",
              "Zagłębie Sosnowiec       25  26.240000    25        0   1080.000000   27000.0    25      0.0\n",
              "Çaykur Rizespor          30  25.433333    30        0   6433.333333  193000.0    30      0.0\n",
              "Örebro SK                27  24.037037    27        0   1481.481481   40000.0    27      0.0\n",
              "Östersunds FK            22  23.863636    22        0   2045.454545   45000.0    22      0.0\n",
              "Śląsk Wrocław            25  25.960000    25        0   2040.000000   51000.0    25      0.0\n",
              "\n",
              "[651 rows x 8 columns]"
            ]
          },
          "metadata": {
            "tags": []
          },
          "execution_count": 38
        }
      ]
    },
    {
      "cell_type": "code",
      "metadata": {
        "id": "D9i3d5FvZutv",
        "outputId": "fd978991-4d07-4220-cf82-9bbb107b5f2c",
        "colab": {
          "base_uri": "https://localhost:8080/"
        }
      },
      "source": [
        "# nomes de colunas de `df_agg_by_club` achatados\n",
        "lst_novos_nomes = [\n",
        "    '_'.join(tupla) for tupla in df_agg_by_club.columns.to_list()] \n",
        "print( df_agg_by_club.columns , '\\n' )\n",
        "df_agg_by_club.columns = lst_novos_nomes\n",
        "df_agg_by_club"
      ],
      "execution_count": null,
      "outputs": [
        {
          "output_type": "stream",
          "text": [
            "MultiIndex([('name',    'count'),\n",
            "            ( 'age',     'mean'),\n",
            "            ( 'age',    'count'),\n",
            "            ( 'age', 'count_na'),\n",
            "            ('wage',     'mean'),\n",
            "            ('wage',      'sum'),\n",
            "            ('wage',    'count'),\n",
            "            ('wage', 'count_na')],\n",
            "           ) \n",
            "\n"
          ],
          "name": "stdout"
        },
        {
          "output_type": "execute_result",
          "data": {
            "text/html": [
              "<div>\n",
              "<style scoped>\n",
              "    .dataframe tbody tr th:only-of-type {\n",
              "        vertical-align: middle;\n",
              "    }\n",
              "\n",
              "    .dataframe tbody tr th {\n",
              "        vertical-align: top;\n",
              "    }\n",
              "\n",
              "    .dataframe thead th {\n",
              "        text-align: right;\n",
              "    }\n",
              "</style>\n",
              "<table border=\"1\" class=\"dataframe\">\n",
              "  <thead>\n",
              "    <tr style=\"text-align: right;\">\n",
              "      <th></th>\n",
              "      <th>name_count</th>\n",
              "      <th>age_mean</th>\n",
              "      <th>age_count</th>\n",
              "      <th>age_count_na</th>\n",
              "      <th>wage_mean</th>\n",
              "      <th>wage_sum</th>\n",
              "      <th>wage_count</th>\n",
              "      <th>wage_count_na</th>\n",
              "    </tr>\n",
              "    <tr>\n",
              "      <th>club</th>\n",
              "      <th></th>\n",
              "      <th></th>\n",
              "      <th></th>\n",
              "      <th></th>\n",
              "      <th></th>\n",
              "      <th></th>\n",
              "      <th></th>\n",
              "      <th></th>\n",
              "    </tr>\n",
              "  </thead>\n",
              "  <tbody>\n",
              "    <tr>\n",
              "      <th>SSV Jahn Regensburg</th>\n",
              "      <td>29</td>\n",
              "      <td>25.655172</td>\n",
              "      <td>29</td>\n",
              "      <td>0</td>\n",
              "      <td>4241.379310</td>\n",
              "      <td>123000.0</td>\n",
              "      <td>29</td>\n",
              "      <td>0.0</td>\n",
              "    </tr>\n",
              "    <tr>\n",
              "      <th>1. FC Heidenheim 1846</th>\n",
              "      <td>28</td>\n",
              "      <td>24.000000</td>\n",
              "      <td>28</td>\n",
              "      <td>0</td>\n",
              "      <td>4464.285714</td>\n",
              "      <td>125000.0</td>\n",
              "      <td>28</td>\n",
              "      <td>0.0</td>\n",
              "    </tr>\n",
              "    <tr>\n",
              "      <th>1. FC Kaiserslautern</th>\n",
              "      <td>26</td>\n",
              "      <td>23.846154</td>\n",
              "      <td>26</td>\n",
              "      <td>0</td>\n",
              "      <td>1692.307692</td>\n",
              "      <td>44000.0</td>\n",
              "      <td>26</td>\n",
              "      <td>0.0</td>\n",
              "    </tr>\n",
              "    <tr>\n",
              "      <th>1. FC Köln</th>\n",
              "      <td>28</td>\n",
              "      <td>24.321429</td>\n",
              "      <td>28</td>\n",
              "      <td>0</td>\n",
              "      <td>13285.714286</td>\n",
              "      <td>372000.0</td>\n",
              "      <td>28</td>\n",
              "      <td>0.0</td>\n",
              "    </tr>\n",
              "    <tr>\n",
              "      <th>1. FC Magdeburg</th>\n",
              "      <td>26</td>\n",
              "      <td>24.692308</td>\n",
              "      <td>26</td>\n",
              "      <td>0</td>\n",
              "      <td>4884.615385</td>\n",
              "      <td>127000.0</td>\n",
              "      <td>26</td>\n",
              "      <td>0.0</td>\n",
              "    </tr>\n",
              "    <tr>\n",
              "      <th>...</th>\n",
              "      <td>...</td>\n",
              "      <td>...</td>\n",
              "      <td>...</td>\n",
              "      <td>...</td>\n",
              "      <td>...</td>\n",
              "      <td>...</td>\n",
              "      <td>...</td>\n",
              "      <td>...</td>\n",
              "    </tr>\n",
              "    <tr>\n",
              "      <th>Zagłębie Sosnowiec</th>\n",
              "      <td>25</td>\n",
              "      <td>26.240000</td>\n",
              "      <td>25</td>\n",
              "      <td>0</td>\n",
              "      <td>1080.000000</td>\n",
              "      <td>27000.0</td>\n",
              "      <td>25</td>\n",
              "      <td>0.0</td>\n",
              "    </tr>\n",
              "    <tr>\n",
              "      <th>Çaykur Rizespor</th>\n",
              "      <td>30</td>\n",
              "      <td>25.433333</td>\n",
              "      <td>30</td>\n",
              "      <td>0</td>\n",
              "      <td>6433.333333</td>\n",
              "      <td>193000.0</td>\n",
              "      <td>30</td>\n",
              "      <td>0.0</td>\n",
              "    </tr>\n",
              "    <tr>\n",
              "      <th>Örebro SK</th>\n",
              "      <td>27</td>\n",
              "      <td>24.037037</td>\n",
              "      <td>27</td>\n",
              "      <td>0</td>\n",
              "      <td>1481.481481</td>\n",
              "      <td>40000.0</td>\n",
              "      <td>27</td>\n",
              "      <td>0.0</td>\n",
              "    </tr>\n",
              "    <tr>\n",
              "      <th>Östersunds FK</th>\n",
              "      <td>22</td>\n",
              "      <td>23.863636</td>\n",
              "      <td>22</td>\n",
              "      <td>0</td>\n",
              "      <td>2045.454545</td>\n",
              "      <td>45000.0</td>\n",
              "      <td>22</td>\n",
              "      <td>0.0</td>\n",
              "    </tr>\n",
              "    <tr>\n",
              "      <th>Śląsk Wrocław</th>\n",
              "      <td>25</td>\n",
              "      <td>25.960000</td>\n",
              "      <td>25</td>\n",
              "      <td>0</td>\n",
              "      <td>2040.000000</td>\n",
              "      <td>51000.0</td>\n",
              "      <td>25</td>\n",
              "      <td>0.0</td>\n",
              "    </tr>\n",
              "  </tbody>\n",
              "</table>\n",
              "<p>651 rows × 8 columns</p>\n",
              "</div>"
            ],
            "text/plain": [
              "                       name_count   age_mean  age_count  age_count_na     wage_mean  wage_sum  wage_count  wage_count_na\n",
              "club                                                                                                                    \n",
              " SSV Jahn Regensburg           29  25.655172         29             0   4241.379310  123000.0          29            0.0\n",
              "1. FC Heidenheim 1846          28  24.000000         28             0   4464.285714  125000.0          28            0.0\n",
              "1. FC Kaiserslautern           26  23.846154         26             0   1692.307692   44000.0          26            0.0\n",
              "1. FC Köln                     28  24.321429         28             0  13285.714286  372000.0          28            0.0\n",
              "1. FC Magdeburg                26  24.692308         26             0   4884.615385  127000.0          26            0.0\n",
              "...                           ...        ...        ...           ...           ...       ...         ...            ...\n",
              "Zagłębie Sosnowiec             25  26.240000         25             0   1080.000000   27000.0          25            0.0\n",
              "Çaykur Rizespor                30  25.433333         30             0   6433.333333  193000.0          30            0.0\n",
              "Örebro SK                      27  24.037037         27             0   1481.481481   40000.0          27            0.0\n",
              "Östersunds FK                  22  23.863636         22             0   2045.454545   45000.0          22            0.0\n",
              "Śląsk Wrocław                  25  25.960000         25             0   2040.000000   51000.0          25            0.0\n",
              "\n",
              "[651 rows x 8 columns]"
            ]
          },
          "metadata": {
            "tags": []
          },
          "execution_count": 39
        }
      ]
    },
    {
      "cell_type": "markdown",
      "metadata": {
        "id": "jkuFAHmoZiyz"
      },
      "source": [
        "### Rankings"
      ]
    },
    {
      "cell_type": "code",
      "metadata": {
        "id": "g9tuCS3AZmb4",
        "outputId": "f814b63d-2cc9-4a33-9d70-812a354aff72",
        "colab": {
          "base_uri": "https://localhost:8080/",
          "height": 420
        }
      },
      "source": [
        "# melhores clubes por potential e overall\n",
        "qtd = 5\n",
        "df = df_fifa.groupby('club')[['potential', 'overall']].mean()\n",
        "display(\n",
        "    df.nlargest(qtd, columns='potential')\n",
        "    .reset_index().set_index(pd.RangeIndex(1,qtd+1))  ,\n",
        "\n",
        "    Markdown('<br/>')  ,\n",
        "\n",
        "    df.nlargest(qtd, columns='overall').sort_index(axis=1)\n",
        "    .reset_index().set_index(pd.RangeIndex(1,qtd+1))  \n",
        ")"
      ],
      "execution_count": null,
      "outputs": [
        {
          "output_type": "display_data",
          "data": {
            "text/html": [
              "<div>\n",
              "<style scoped>\n",
              "    .dataframe tbody tr th:only-of-type {\n",
              "        vertical-align: middle;\n",
              "    }\n",
              "\n",
              "    .dataframe tbody tr th {\n",
              "        vertical-align: top;\n",
              "    }\n",
              "\n",
              "    .dataframe thead th {\n",
              "        text-align: right;\n",
              "    }\n",
              "</style>\n",
              "<table border=\"1\" class=\"dataframe\">\n",
              "  <thead>\n",
              "    <tr style=\"text-align: right;\">\n",
              "      <th></th>\n",
              "      <th>club</th>\n",
              "      <th>potential</th>\n",
              "      <th>overall</th>\n",
              "    </tr>\n",
              "  </thead>\n",
              "  <tbody>\n",
              "    <tr>\n",
              "      <th>1</th>\n",
              "      <td>Juventus</td>\n",
              "      <td>85.520000</td>\n",
              "      <td>82.280000</td>\n",
              "    </tr>\n",
              "    <tr>\n",
              "      <th>2</th>\n",
              "      <td>FC Barcelona</td>\n",
              "      <td>85.303030</td>\n",
              "      <td>78.030303</td>\n",
              "    </tr>\n",
              "    <tr>\n",
              "      <th>3</th>\n",
              "      <td>Real Madrid</td>\n",
              "      <td>84.636364</td>\n",
              "      <td>78.242424</td>\n",
              "    </tr>\n",
              "    <tr>\n",
              "      <th>4</th>\n",
              "      <td>Manchester City</td>\n",
              "      <td>83.909091</td>\n",
              "      <td>76.727273</td>\n",
              "    </tr>\n",
              "    <tr>\n",
              "      <th>5</th>\n",
              "      <td>FC Bayern München</td>\n",
              "      <td>83.655172</td>\n",
              "      <td>77.000000</td>\n",
              "    </tr>\n",
              "  </tbody>\n",
              "</table>\n",
              "</div>"
            ],
            "text/plain": [
              "                club  potential    overall\n",
              "1           Juventus  85.520000  82.280000\n",
              "2       FC Barcelona  85.303030  78.030303\n",
              "3        Real Madrid  84.636364  78.242424\n",
              "4    Manchester City  83.909091  76.727273\n",
              "5  FC Bayern München  83.655172  77.000000"
            ]
          },
          "metadata": {
            "tags": []
          }
        },
        {
          "output_type": "display_data",
          "data": {
            "text/markdown": "<br/>",
            "text/plain": [
              "<IPython.core.display.Markdown object>"
            ]
          },
          "metadata": {
            "tags": []
          }
        },
        {
          "output_type": "display_data",
          "data": {
            "text/html": [
              "<div>\n",
              "<style scoped>\n",
              "    .dataframe tbody tr th:only-of-type {\n",
              "        vertical-align: middle;\n",
              "    }\n",
              "\n",
              "    .dataframe tbody tr th {\n",
              "        vertical-align: top;\n",
              "    }\n",
              "\n",
              "    .dataframe thead th {\n",
              "        text-align: right;\n",
              "    }\n",
              "</style>\n",
              "<table border=\"1\" class=\"dataframe\">\n",
              "  <thead>\n",
              "    <tr style=\"text-align: right;\">\n",
              "      <th></th>\n",
              "      <th>club</th>\n",
              "      <th>overall</th>\n",
              "      <th>potential</th>\n",
              "    </tr>\n",
              "  </thead>\n",
              "  <tbody>\n",
              "    <tr>\n",
              "      <th>1</th>\n",
              "      <td>Juventus</td>\n",
              "      <td>82.280000</td>\n",
              "      <td>85.520000</td>\n",
              "    </tr>\n",
              "    <tr>\n",
              "      <th>2</th>\n",
              "      <td>Napoli</td>\n",
              "      <td>80.000000</td>\n",
              "      <td>83.440000</td>\n",
              "    </tr>\n",
              "    <tr>\n",
              "      <th>3</th>\n",
              "      <td>Inter</td>\n",
              "      <td>79.750000</td>\n",
              "      <td>81.750000</td>\n",
              "    </tr>\n",
              "    <tr>\n",
              "      <th>4</th>\n",
              "      <td>Real Madrid</td>\n",
              "      <td>78.242424</td>\n",
              "      <td>84.636364</td>\n",
              "    </tr>\n",
              "    <tr>\n",
              "      <th>5</th>\n",
              "      <td>Milan</td>\n",
              "      <td>78.074074</td>\n",
              "      <td>82.555556</td>\n",
              "    </tr>\n",
              "  </tbody>\n",
              "</table>\n",
              "</div>"
            ],
            "text/plain": [
              "          club    overall  potential\n",
              "1     Juventus  82.280000  85.520000\n",
              "2       Napoli  80.000000  83.440000\n",
              "3        Inter  79.750000  81.750000\n",
              "4  Real Madrid  78.242424  84.636364\n",
              "5        Milan  78.074074  82.555556"
            ]
          },
          "metadata": {
            "tags": []
          }
        }
      ]
    },
    {
      "cell_type": "code",
      "metadata": {
        "id": "pcTcIqx5b8Mm",
        "outputId": "27c4768f-d222-461a-bd87-90c28eb97b98",
        "colab": {
          "base_uri": "https://localhost:8080/",
          "height": 420
        }
      },
      "source": [
        "# melhores goleiros por potential e overall\n",
        "qtd = 5\n",
        "df = df_fifa.loc[df_fifa.position == 'GK', :'wage'].copy()\n",
        "display(\n",
        "    df.nlargest(qtd, columns='potential')\n",
        "    .set_index(pd.RangeIndex(1,qtd+1))\n",
        "    [['potential'] + [col for col in df.columns if col != 'potential']]  ,\n",
        "\n",
        "    Markdown('<br/>')  ,\n",
        "\n",
        "    df.nlargest(qtd, columns='overall')\n",
        "    .set_index(pd.RangeIndex(1,qtd+1))\n",
        "    [['overall'] + [col for col in df.columns if col != 'overall']]\n",
        ")"
      ],
      "execution_count": null,
      "outputs": [
        {
          "output_type": "display_data",
          "data": {
            "text/html": [
              "<div>\n",
              "<style scoped>\n",
              "    .dataframe tbody tr th:only-of-type {\n",
              "        vertical-align: middle;\n",
              "    }\n",
              "\n",
              "    .dataframe tbody tr th {\n",
              "        vertical-align: top;\n",
              "    }\n",
              "\n",
              "    .dataframe thead th {\n",
              "        text-align: right;\n",
              "    }\n",
              "</style>\n",
              "<table border=\"1\" class=\"dataframe\">\n",
              "  <thead>\n",
              "    <tr style=\"text-align: right;\">\n",
              "      <th></th>\n",
              "      <th>potential</th>\n",
              "      <th>name</th>\n",
              "      <th>age</th>\n",
              "      <th>nationality</th>\n",
              "      <th>overall</th>\n",
              "      <th>club</th>\n",
              "      <th>value</th>\n",
              "      <th>wage</th>\n",
              "    </tr>\n",
              "  </thead>\n",
              "  <tbody>\n",
              "    <tr>\n",
              "      <th>1</th>\n",
              "      <td>93</td>\n",
              "      <td>De Gea</td>\n",
              "      <td>27</td>\n",
              "      <td>Spain</td>\n",
              "      <td>91</td>\n",
              "      <td>Manchester United</td>\n",
              "      <td>72000000.0</td>\n",
              "      <td>260000.0</td>\n",
              "    </tr>\n",
              "    <tr>\n",
              "      <th>2</th>\n",
              "      <td>93</td>\n",
              "      <td>J. Oblak</td>\n",
              "      <td>25</td>\n",
              "      <td>Slovenia</td>\n",
              "      <td>90</td>\n",
              "      <td>Atlético Madrid</td>\n",
              "      <td>68000000.0</td>\n",
              "      <td>94000.0</td>\n",
              "    </tr>\n",
              "    <tr>\n",
              "      <th>3</th>\n",
              "      <td>93</td>\n",
              "      <td>G. Donnarumma</td>\n",
              "      <td>19</td>\n",
              "      <td>Italy</td>\n",
              "      <td>82</td>\n",
              "      <td>Milan</td>\n",
              "      <td>29000000.0</td>\n",
              "      <td>23000.0</td>\n",
              "    </tr>\n",
              "    <tr>\n",
              "      <th>4</th>\n",
              "      <td>92</td>\n",
              "      <td>M. ter Stegen</td>\n",
              "      <td>26</td>\n",
              "      <td>Germany</td>\n",
              "      <td>89</td>\n",
              "      <td>FC Barcelona</td>\n",
              "      <td>58000000.0</td>\n",
              "      <td>240000.0</td>\n",
              "    </tr>\n",
              "    <tr>\n",
              "      <th>5</th>\n",
              "      <td>91</td>\n",
              "      <td>Kepa</td>\n",
              "      <td>23</td>\n",
              "      <td>Spain</td>\n",
              "      <td>83</td>\n",
              "      <td>Chelsea</td>\n",
              "      <td>28500000.0</td>\n",
              "      <td>84000.0</td>\n",
              "    </tr>\n",
              "  </tbody>\n",
              "</table>\n",
              "</div>"
            ],
            "text/plain": [
              "   potential           name  age nationality  overall               club       value      wage\n",
              "1         93         De Gea   27       Spain       91  Manchester United  72000000.0  260000.0\n",
              "2         93       J. Oblak   25    Slovenia       90    Atlético Madrid  68000000.0   94000.0\n",
              "3         93  G. Donnarumma   19       Italy       82              Milan  29000000.0   23000.0\n",
              "4         92  M. ter Stegen   26     Germany       89       FC Barcelona  58000000.0  240000.0\n",
              "5         91           Kepa   23       Spain       83            Chelsea  28500000.0   84000.0"
            ]
          },
          "metadata": {
            "tags": []
          }
        },
        {
          "output_type": "display_data",
          "data": {
            "text/markdown": "<br/>",
            "text/plain": [
              "<IPython.core.display.Markdown object>"
            ]
          },
          "metadata": {
            "tags": []
          }
        },
        {
          "output_type": "display_data",
          "data": {
            "text/html": [
              "<div>\n",
              "<style scoped>\n",
              "    .dataframe tbody tr th:only-of-type {\n",
              "        vertical-align: middle;\n",
              "    }\n",
              "\n",
              "    .dataframe tbody tr th {\n",
              "        vertical-align: top;\n",
              "    }\n",
              "\n",
              "    .dataframe thead th {\n",
              "        text-align: right;\n",
              "    }\n",
              "</style>\n",
              "<table border=\"1\" class=\"dataframe\">\n",
              "  <thead>\n",
              "    <tr style=\"text-align: right;\">\n",
              "      <th></th>\n",
              "      <th>overall</th>\n",
              "      <th>name</th>\n",
              "      <th>age</th>\n",
              "      <th>nationality</th>\n",
              "      <th>potential</th>\n",
              "      <th>club</th>\n",
              "      <th>value</th>\n",
              "      <th>wage</th>\n",
              "    </tr>\n",
              "  </thead>\n",
              "  <tbody>\n",
              "    <tr>\n",
              "      <th>1</th>\n",
              "      <td>91</td>\n",
              "      <td>De Gea</td>\n",
              "      <td>27</td>\n",
              "      <td>Spain</td>\n",
              "      <td>93</td>\n",
              "      <td>Manchester United</td>\n",
              "      <td>72000000.0</td>\n",
              "      <td>260000.0</td>\n",
              "    </tr>\n",
              "    <tr>\n",
              "      <th>2</th>\n",
              "      <td>90</td>\n",
              "      <td>J. Oblak</td>\n",
              "      <td>25</td>\n",
              "      <td>Slovenia</td>\n",
              "      <td>93</td>\n",
              "      <td>Atlético Madrid</td>\n",
              "      <td>68000000.0</td>\n",
              "      <td>94000.0</td>\n",
              "    </tr>\n",
              "    <tr>\n",
              "      <th>3</th>\n",
              "      <td>89</td>\n",
              "      <td>M. ter Stegen</td>\n",
              "      <td>26</td>\n",
              "      <td>Germany</td>\n",
              "      <td>92</td>\n",
              "      <td>FC Barcelona</td>\n",
              "      <td>58000000.0</td>\n",
              "      <td>240000.0</td>\n",
              "    </tr>\n",
              "    <tr>\n",
              "      <th>4</th>\n",
              "      <td>89</td>\n",
              "      <td>T. Courtois</td>\n",
              "      <td>26</td>\n",
              "      <td>Belgium</td>\n",
              "      <td>90</td>\n",
              "      <td>Real Madrid</td>\n",
              "      <td>53500000.0</td>\n",
              "      <td>240000.0</td>\n",
              "    </tr>\n",
              "    <tr>\n",
              "      <th>5</th>\n",
              "      <td>89</td>\n",
              "      <td>M. Neuer</td>\n",
              "      <td>32</td>\n",
              "      <td>Germany</td>\n",
              "      <td>89</td>\n",
              "      <td>FC Bayern München</td>\n",
              "      <td>38000000.0</td>\n",
              "      <td>130000.0</td>\n",
              "    </tr>\n",
              "  </tbody>\n",
              "</table>\n",
              "</div>"
            ],
            "text/plain": [
              "   overall           name  age nationality  potential               club       value      wage\n",
              "1       91         De Gea   27       Spain         93  Manchester United  72000000.0  260000.0\n",
              "2       90       J. Oblak   25    Slovenia         93    Atlético Madrid  68000000.0   94000.0\n",
              "3       89  M. ter Stegen   26     Germany         92       FC Barcelona  58000000.0  240000.0\n",
              "4       89    T. Courtois   26     Belgium         90        Real Madrid  53500000.0  240000.0\n",
              "5       89       M. Neuer   32     Germany         89  FC Bayern München  38000000.0  130000.0"
            ]
          },
          "metadata": {
            "tags": []
          }
        }
      ]
    },
    {
      "cell_type": "code",
      "metadata": {
        "id": "NRhvXCthefSW",
        "outputId": "ad986674-6995-4bc7-dbea-be79a80e8063",
        "colab": {
          "base_uri": "https://localhost:8080/",
          "height": 204
        }
      },
      "source": [
        "# jogadores mais rápidos\n",
        "qtd = 5\n",
        "df = pd.concat([df_fifa[['sprint_speed']], df_fifa.loc[:, :'wage'].copy()],\n",
        "               axis=1)\n",
        "display(\n",
        "    df.nlargest(qtd, columns='sprint_speed')\n",
        "    .set_index(pd.RangeIndex(1,qtd+1))\n",
        ")"
      ],
      "execution_count": null,
      "outputs": [
        {
          "output_type": "display_data",
          "data": {
            "text/html": [
              "<div>\n",
              "<style scoped>\n",
              "    .dataframe tbody tr th:only-of-type {\n",
              "        vertical-align: middle;\n",
              "    }\n",
              "\n",
              "    .dataframe tbody tr th {\n",
              "        vertical-align: top;\n",
              "    }\n",
              "\n",
              "    .dataframe thead th {\n",
              "        text-align: right;\n",
              "    }\n",
              "</style>\n",
              "<table border=\"1\" class=\"dataframe\">\n",
              "  <thead>\n",
              "    <tr style=\"text-align: right;\">\n",
              "      <th></th>\n",
              "      <th>sprint_speed</th>\n",
              "      <th>name</th>\n",
              "      <th>age</th>\n",
              "      <th>nationality</th>\n",
              "      <th>overall</th>\n",
              "      <th>potential</th>\n",
              "      <th>club</th>\n",
              "      <th>value</th>\n",
              "      <th>wage</th>\n",
              "    </tr>\n",
              "  </thead>\n",
              "  <tbody>\n",
              "    <tr>\n",
              "      <th>1</th>\n",
              "      <td>96.0</td>\n",
              "      <td>K. Mbappé</td>\n",
              "      <td>19</td>\n",
              "      <td>France</td>\n",
              "      <td>88</td>\n",
              "      <td>95</td>\n",
              "      <td>Paris Saint-Germain</td>\n",
              "      <td>81000000.0</td>\n",
              "      <td>100000.0</td>\n",
              "    </tr>\n",
              "    <tr>\n",
              "      <th>2</th>\n",
              "      <td>96.0</td>\n",
              "      <td>L. Sané</td>\n",
              "      <td>22</td>\n",
              "      <td>Germany</td>\n",
              "      <td>86</td>\n",
              "      <td>92</td>\n",
              "      <td>Manchester City</td>\n",
              "      <td>61000000.0</td>\n",
              "      <td>195000.0</td>\n",
              "    </tr>\n",
              "    <tr>\n",
              "      <th>3</th>\n",
              "      <td>96.0</td>\n",
              "      <td>Adama</td>\n",
              "      <td>22</td>\n",
              "      <td>Spain</td>\n",
              "      <td>75</td>\n",
              "      <td>85</td>\n",
              "      <td>Wolverhampton Wanderers</td>\n",
              "      <td>10500000.0</td>\n",
              "      <td>54000.0</td>\n",
              "    </tr>\n",
              "    <tr>\n",
              "      <th>4</th>\n",
              "      <td>95.0</td>\n",
              "      <td>P. Aubameyang</td>\n",
              "      <td>29</td>\n",
              "      <td>Gabon</td>\n",
              "      <td>88</td>\n",
              "      <td>88</td>\n",
              "      <td>Arsenal</td>\n",
              "      <td>59000000.0</td>\n",
              "      <td>265000.0</td>\n",
              "    </tr>\n",
              "    <tr>\n",
              "      <th>5</th>\n",
              "      <td>95.0</td>\n",
              "      <td>G. Bale</td>\n",
              "      <td>28</td>\n",
              "      <td>Wales</td>\n",
              "      <td>88</td>\n",
              "      <td>88</td>\n",
              "      <td>Real Madrid</td>\n",
              "      <td>60000000.0</td>\n",
              "      <td>355000.0</td>\n",
              "    </tr>\n",
              "  </tbody>\n",
              "</table>\n",
              "</div>"
            ],
            "text/plain": [
              "   sprint_speed           name  age nationality  overall  potential                     club       value      wage\n",
              "1          96.0      K. Mbappé   19      France       88         95      Paris Saint-Germain  81000000.0  100000.0\n",
              "2          96.0        L. Sané   22     Germany       86         92          Manchester City  61000000.0  195000.0\n",
              "3          96.0          Adama   22       Spain       75         85  Wolverhampton Wanderers  10500000.0   54000.0\n",
              "4          95.0  P. Aubameyang   29       Gabon       88         88                  Arsenal  59000000.0  265000.0\n",
              "5          95.0        G. Bale   28       Wales       88         88              Real Madrid  60000000.0  355000.0"
            ]
          },
          "metadata": {
            "tags": []
          }
        }
      ]
    },
    {
      "cell_type": "code",
      "metadata": {
        "id": "3lVrv4CLhP9c",
        "outputId": "c4f76976-9e8c-4581-972f-4ccadfd461d2",
        "colab": {
          "base_uri": "https://localhost:8080/",
          "height": 204
        }
      },
      "source": [
        "# jogadores com chute mais forte\n",
        "qtd = 5\n",
        "df = pd.concat([df_fifa[['shot_power']], df_fifa.loc[:, :'wage'].copy()],\n",
        "               axis=1)\n",
        "display(\n",
        "    df.nlargest(qtd, columns='shot_power')\n",
        "    .set_index(pd.RangeIndex(1,qtd+1))\n",
        ")"
      ],
      "execution_count": null,
      "outputs": [
        {
          "output_type": "display_data",
          "data": {
            "text/html": [
              "<div>\n",
              "<style scoped>\n",
              "    .dataframe tbody tr th:only-of-type {\n",
              "        vertical-align: middle;\n",
              "    }\n",
              "\n",
              "    .dataframe tbody tr th {\n",
              "        vertical-align: top;\n",
              "    }\n",
              "\n",
              "    .dataframe thead th {\n",
              "        text-align: right;\n",
              "    }\n",
              "</style>\n",
              "<table border=\"1\" class=\"dataframe\">\n",
              "  <thead>\n",
              "    <tr style=\"text-align: right;\">\n",
              "      <th></th>\n",
              "      <th>shot_power</th>\n",
              "      <th>name</th>\n",
              "      <th>age</th>\n",
              "      <th>nationality</th>\n",
              "      <th>overall</th>\n",
              "      <th>potential</th>\n",
              "      <th>club</th>\n",
              "      <th>value</th>\n",
              "      <th>wage</th>\n",
              "    </tr>\n",
              "  </thead>\n",
              "  <tbody>\n",
              "    <tr>\n",
              "      <th>1</th>\n",
              "      <td>95.0</td>\n",
              "      <td>Cristiano Ronaldo</td>\n",
              "      <td>33</td>\n",
              "      <td>Portugal</td>\n",
              "      <td>94</td>\n",
              "      <td>94</td>\n",
              "      <td>Juventus</td>\n",
              "      <td>77000000.0</td>\n",
              "      <td>405000.0</td>\n",
              "    </tr>\n",
              "    <tr>\n",
              "      <th>2</th>\n",
              "      <td>94.0</td>\n",
              "      <td>Hulk</td>\n",
              "      <td>31</td>\n",
              "      <td>Brazil</td>\n",
              "      <td>81</td>\n",
              "      <td>81</td>\n",
              "      <td>Shanghai SIPG FC</td>\n",
              "      <td>15500000.0</td>\n",
              "      <td>25000.0</td>\n",
              "    </tr>\n",
              "    <tr>\n",
              "      <th>3</th>\n",
              "      <td>93.0</td>\n",
              "      <td>F. Guarín</td>\n",
              "      <td>32</td>\n",
              "      <td>Colombia</td>\n",
              "      <td>76</td>\n",
              "      <td>76</td>\n",
              "      <td>Shanghai Greenland Shenhua FC</td>\n",
              "      <td>6000000.0</td>\n",
              "      <td>16000.0</td>\n",
              "    </tr>\n",
              "    <tr>\n",
              "      <th>4</th>\n",
              "      <td>92.0</td>\n",
              "      <td>G. Bale</td>\n",
              "      <td>28</td>\n",
              "      <td>Wales</td>\n",
              "      <td>88</td>\n",
              "      <td>88</td>\n",
              "      <td>Real Madrid</td>\n",
              "      <td>60000000.0</td>\n",
              "      <td>355000.0</td>\n",
              "    </tr>\n",
              "    <tr>\n",
              "      <th>5</th>\n",
              "      <td>92.0</td>\n",
              "      <td>Naldo</td>\n",
              "      <td>35</td>\n",
              "      <td>Brazil</td>\n",
              "      <td>85</td>\n",
              "      <td>85</td>\n",
              "      <td>FC Schalke 04</td>\n",
              "      <td>9000000.0</td>\n",
              "      <td>38000.0</td>\n",
              "    </tr>\n",
              "  </tbody>\n",
              "</table>\n",
              "</div>"
            ],
            "text/plain": [
              "   shot_power               name  age nationality  overall  potential                           club       value      wage\n",
              "1        95.0  Cristiano Ronaldo   33    Portugal       94         94                       Juventus  77000000.0  405000.0\n",
              "2        94.0               Hulk   31      Brazil       81         81               Shanghai SIPG FC  15500000.0   25000.0\n",
              "3        93.0          F. Guarín   32    Colombia       76         76  Shanghai Greenland Shenhua FC   6000000.0   16000.0\n",
              "4        92.0            G. Bale   28       Wales       88         88                    Real Madrid  60000000.0  355000.0\n",
              "5        92.0              Naldo   35      Brazil       85         85                  FC Schalke 04   9000000.0   38000.0"
            ]
          },
          "metadata": {
            "tags": []
          }
        }
      ]
    },
    {
      "cell_type": "markdown",
      "metadata": {
        "id": "lMYyVdObGTyQ"
      },
      "source": [
        "### Outliers"
      ]
    },
    {
      "cell_type": "code",
      "metadata": {
        "id": "-ywJiw9WOb75"
      },
      "source": [
        "def lims_outliers(sr):\n",
        "  q1, q3 = sr.quantile([0.25, 0.75])\n",
        "  iqr = q3 - q1\n",
        "  return (q1 - 1.5 * iqr, q3 + 1.5 * iqr)"
      ],
      "execution_count": null,
      "outputs": []
    },
    {
      "cell_type": "markdown",
      "metadata": {
        "id": "BSulVYjkP1W7"
      },
      "source": [
        "##### Salários"
      ]
    },
    {
      "cell_type": "code",
      "metadata": {
        "id": "Zv15HP5hM5IO",
        "outputId": "6826c415-4fa7-4df5-d9ee-2b988e365b99",
        "colab": {
          "base_uri": "https://localhost:8080/"
        }
      },
      "source": [
        "# sumário de salários\n",
        "df_fifa.wage.describe()"
      ],
      "execution_count": null,
      "outputs": [
        {
          "output_type": "execute_result",
          "data": {
            "text/plain": [
              "count     17966.000000\n",
              "mean       9861.850161\n",
              "std       22117.273534\n",
              "min        1000.000000\n",
              "25%        1000.000000\n",
              "50%        3000.000000\n",
              "75%        9000.000000\n",
              "max      565000.000000\n",
              "Name: wage, dtype: float64"
            ]
          },
          "metadata": {
            "tags": []
          },
          "execution_count": 41
        }
      ]
    },
    {
      "cell_type": "code",
      "metadata": {
        "id": "HxmB4vZ0HQWZ",
        "outputId": "946461e0-3d9a-425d-8cef-1f10fa0ab39f",
        "colab": {
          "base_uri": "https://localhost:8080/"
        }
      },
      "source": [
        "sns.boxplot(data=df_fifa, y='wage').set_yscale('log')"
      ],
      "execution_count": null,
      "outputs": [
        {
          "output_type": "display_data",
          "data": {
            "image/png": "[encoded data removed]",
            "text/plain": [
              "<Figure size 432x288 with 1 Axes>"
            ]
          },
          "metadata": {
            "tags": [],
            "needs_background": "light"
          }
        }
      ]
    },
    {
      "cell_type": "code",
      "metadata": {
        "id": "j6kIWF2DJJi7",
        "outputId": "6b817955-cb02-46f6-f390-8a51e5765e29",
        "colab": {
          "base_uri": "https://localhost:8080/"
        }
      },
      "source": [
        "wage_lim_inf, wage_lim_sup = lims_outliers(df_fifa.wage)\n",
        "wage_lim_inf, wage_lim_sup"
      ],
      "execution_count": null,
      "outputs": [
        {
          "output_type": "execute_result",
          "data": {
            "text/plain": [
              "(-11000.0, 21000.0)"
            ]
          },
          "metadata": {
            "tags": []
          },
          "execution_count": 43
        }
      ]
    },
    {
      "cell_type": "code",
      "metadata": {
        "id": "o7soOgeBQLdi",
        "outputId": "1351de53-4c62-44d4-bdc8-26705f90e224",
        "colab": {
          "base_uri": "https://localhost:8080/"
        }
      },
      "source": [
        "sr_wage_sup = df_fifa.wage[lambda x: x > wage_lim_sup]\n",
        "sr_wage_sup.describe()"
      ],
      "execution_count": null,
      "outputs": [
        {
          "output_type": "execute_result",
          "data": {
            "text/plain": [
              "count      2031.000000\n",
              "mean      51529.788282\n",
              "std       46878.660831\n",
              "min       22000.000000\n",
              "25%       27000.000000\n",
              "50%       36000.000000\n",
              "75%       54000.000000\n",
              "max      565000.000000\n",
              "Name: wage, dtype: float64"
            ]
          },
          "metadata": {
            "tags": []
          },
          "execution_count": 44
        }
      ]
    },
    {
      "cell_type": "code",
      "metadata": {
        "id": "Td8WRCWSS3vQ",
        "outputId": "7819404d-fbbc-4609-8be0-9b946df2a4db",
        "colab": {
          "base_uri": "https://localhost:8080/"
        }
      },
      "source": [
        "fig, (ax1, ax2) = plt.subplots(1, 2)\n",
        "fig.set_size_inches(*(fig.get_size_inches() * (2, 1)))\n",
        "sns.histplot(sr_wage_sup, bins=20, ax=ax1)\n",
        "sns.histplot(sr_wage_sup, bins=20, ax=ax2, log_scale=True);"
      ],
      "execution_count": null,
      "outputs": [
        {
          "output_type": "display_data",
          "data": {
            "image/png": "[encoded data removed]",
            "text/plain": [
              "<Figure size 864x288 with 2 Axes>"
            ]
          },
          "metadata": {
            "tags": [],
            "needs_background": "light"
          }
        }
      ]
    },
    {
      "cell_type": "markdown",
      "metadata": {
        "id": "_Za1bYm5XEFc"
      },
      "source": [
        "##### Shot power"
      ]
    },
    {
      "cell_type": "code",
      "metadata": {
        "id": "gA7VfHSEXEFg",
        "outputId": "704cdb60-80c9-4602-c544-7e9603eec14e",
        "colab": {
          "base_uri": "https://localhost:8080/",
          "height": 170
        }
      },
      "source": [
        "# sumário de shot power\n",
        "df_fifa.shot_power.describe()"
      ],
      "execution_count": null,
      "outputs": [
        {
          "output_type": "execute_result",
          "data": {
            "text/plain": [
              "count    18159.000000\n",
              "mean        55.460047\n",
              "std         17.237958\n",
              "min          2.000000\n",
              "25%         45.000000\n",
              "50%         59.000000\n",
              "75%         68.000000\n",
              "max         95.000000\n",
              "Name: shot_power, dtype: float64"
            ]
          },
          "metadata": {
            "tags": []
          },
          "execution_count": 46
        }
      ]
    },
    {
      "cell_type": "code",
      "metadata": {
        "id": "bGPa9juyXEFm",
        "outputId": "b12da3dc-294c-4237-b76a-40d6e8ed2c75",
        "colab": {
          "base_uri": "https://localhost:8080/",
          "height": 252
        }
      },
      "source": [
        "sns.boxplot(data=df_fifa, y='shot_power');"
      ],
      "execution_count": null,
      "outputs": [
        {
          "output_type": "display_data",
          "data": {
            "image/png": "[encoded data removed]",
            "text/plain": [
              "<Figure size 432x288 with 1 Axes>"
            ]
          },
          "metadata": {
            "tags": [],
            "needs_background": "light"
          }
        }
      ]
    },
    {
      "cell_type": "code",
      "metadata": {
        "id": "wh_-r6BvXEFp",
        "outputId": "642e3d10-8944-4635-834f-74355f032d8d",
        "colab": {
          "base_uri": "https://localhost:8080/",
          "height": 34
        }
      },
      "source": [
        "shtpwr_lim_inf, shtpwr_lim_sup = lims_outliers(df_fifa.shot_power)\n",
        "shtpwr_lim_inf, shtpwr_lim_sup"
      ],
      "execution_count": null,
      "outputs": [
        {
          "output_type": "execute_result",
          "data": {
            "text/plain": [
              "(10.5, 102.5)"
            ]
          },
          "metadata": {
            "tags": []
          },
          "execution_count": 48
        }
      ]
    },
    {
      "cell_type": "code",
      "metadata": {
        "id": "UVIJxvyuXEFs",
        "outputId": "cff358db-9416-43a7-bb8c-92e3755a6004",
        "colab": {
          "base_uri": "https://localhost:8080/",
          "height": 170
        }
      },
      "source": [
        "sr_shtpwr_inf = df_fifa.shot_power[lambda x: x < shtpwr_lim_inf]\n",
        "sr_shtpwr_inf.describe()"
      ],
      "execution_count": null,
      "outputs": [
        {
          "output_type": "execute_result",
          "data": {
            "text/plain": [
              "count    15.000000\n",
              "mean      7.733333\n",
              "std       2.520393\n",
              "min       2.000000\n",
              "25%       6.500000\n",
              "50%       9.000000\n",
              "75%       9.500000\n",
              "max      10.000000\n",
              "Name: shot_power, dtype: float64"
            ]
          },
          "metadata": {
            "tags": []
          },
          "execution_count": 49
        }
      ]
    },
    {
      "cell_type": "code",
      "metadata": {
        "id": "2SouSl7BXEFv",
        "outputId": "77c5e4fb-5fb6-4780-dd86-7cc4c197298f",
        "colab": {
          "base_uri": "https://localhost:8080/",
          "height": 297
        }
      },
      "source": [
        "sns.histplot(sr_shtpwr_inf)"
      ],
      "execution_count": null,
      "outputs": [
        {
          "output_type": "execute_result",
          "data": {
            "text/plain": [
              "<matplotlib.axes._subplots.AxesSubplot at 0x7f2ca486a518>"
            ]
          },
          "metadata": {
            "tags": []
          },
          "execution_count": 50
        },
        {
          "output_type": "display_data",
          "data": {
            "image/png": "[encoded data removed]",
            "text/plain": [
              "<Figure size 432x288 with 1 Axes>"
            ]
          },
          "metadata": {
            "tags": [],
            "needs_background": "light"
          }
        }
      ]
    }
  ]
}