{
  "nbformat": 4,
  "nbformat_minor": 0,
  "metadata": {
    "colab": {
      "name": "NB18__TensorFlow.ipynb",
      "provenance": [],
      "include_colab_link": true
    },
    "kernelspec": {
      "name": "python3",
      "display_name": "Python 3"
    },
    "accelerator": "GPU"
  },
  "cells": [
    {
      "cell_type": "markdown",
      "metadata": {
        "id": "view-in-github",
        "colab_type": "text"
      },
      "source": [
        "<a href=\"https://colab.research.google.com/github/MathMachado/DSWP/blob/master/Notebooks/NB18__TensorFlow.ipynb\" target=\"_parent\"><img src=\"https://colab.research.google.com/assets/colab-badge.svg\" alt=\"Open In Colab\"/></a>"
      ]
    },
    {
      "cell_type": "markdown",
      "metadata": {
        "id": "j8MlHhJqytV6"
      },
      "source": [
        "<center><h1><b><i>TENSORFLOW E KERAS</i></b></h1></center>\n",
        "\n",
        "> TensorFlow é uma library Python desenvolvida pelo Google para computação rápida.\n",
        "\n",
        "> Keras é uma biblioteca Python para Deep Learning para TensorFlow.\n",
        "\n",
        "* Boa notícia: usar tensorflow é tão fácil quanto usar NumPy.\n"
      ]
    },
    {
      "cell_type": "markdown",
      "metadata": {
        "id": "QTmbXVMry1cq"
      },
      "source": [
        "# **AGENDA**:\n",
        "\n",
        "> Consulte a **Table of Contents**."
      ]
    },
    {
      "cell_type": "markdown",
      "metadata": {
        "id": "nGgc8h2uy2KE"
      },
      "source": [
        "# **REFERÊNCIAS**\n",
        "* [TensorFlow Tutorial For Beginners](https://www.datacamp.com/community/tutorials/tensorflow-tutorial?utm_source=adwords_ppc&utm_campaignid=898687156&utm_adgroupid=48947256715&utm_device=c&utm_keyword=&utm_matchtype=b&utm_network=g&utm_adpostion=1t3&utm_creative=255798340456&utm_targetid=aud-522010995285:dsa-498578051924&utm_loc_interest_ms=&utm_loc_physical_ms=1011742&gclid=CjwKCAiAis3vBRBdEiwAHXB29FRSmE6Qi9q8O_R6z9UYiIEJpOcMyUWfzBvTDugePiVumkGwbPhRdBoCiTMQAvD_BwE)\n",
        "* [Treine sua primeira rede neural: classificação básica](https://www.tensorflow.org/tutorials/keras/classification)\n",
        "* [Understanding Keras — Dense Layers](https://medium.com/@hunterheidenreich/understanding-keras-dense-layers-2abadff9b990)\n",
        "* [Keras documentation](https://keras.io/activations/)\n",
        "* [Introduction to Deep Learning with Keras](https://gilberttanner.com/blog/introduction-to-deep-learning-withkeras) - Ler\n",
        "* [Practical Machine Learning with Keras](https://towardsdatascience.com/practical-machine-learning-with-keras-19d0e5b2558) - Ler\n",
        "* [Using the Keras Flatten Operation in CNN Models with Code Examples](https://missinglink.ai/guides/keras/using-keras-flatten-operation-cnn-models-code-examples/) - Ler\n",
        "* [How to Perform Face Recognition With VGGFace2 in Keras](https://machinelearningmastery.com/how-to-perform-face-recognition-with-vggface2-convolutional-neural-network-in-keras/) - Ler\n",
        "* [Keras Tutorial: How to get started with Keras, Deep Learning, and Python](https://www.pyimagesearch.com/2018/09/10/keras-tutorial-how-to-get-started-with-keras-deep-learning-and-python/) - Ler\n",
        "* [Keras tutorial](https://elitedatascience.com/keras-tutorial-deep-learning-in-python) - Ler\n",
        "* [Your First Deep Learning Project in Python with Keras Step-By-Step](https://machinelearningmastery.com/tutorial-first-neural-network-python-keras/) - Ler\n",
        "* [Keras Tutorial for Beginners with Python: Deep Learning EXAMPLE](https://www.guru99.com/keras-tutorial.html) - Ler\n",
        "* [Keras Tutorial: Deep Learning in Python](https://www.datacamp.com/community/tutorials/deep-learning-python) - Ler\n",
        "* [Introduction to Deep Learning - Deep Learning basics with Python, TensorFlow and Keras p.1](https://pythonprogramming.net/introduction-deep-learning-python-tensorflow-keras/) - Ler\n",
        "* [Building A Deep Learning Model using Keras](https://towardsdatascience.com/building-a-deep-learning-model-using-keras-1548ca149d37) - Ler\n",
        "* [Deep Learning Tutorial](https://www.tutorialkart.com/deep-learning/) - Ler\n",
        "* [Convolutional Neural Networks: A Python Tutorial Using TensorFlow and Keras](https://www.kdnuggets.com/2019/07/convolutional-neural-networks-python-tutorial-tensorflow-keras.html) - Ler\n",
        "* [Keras for Beginners: Building Your First Neural Network](https://victorzhou.com/blog/keras-neural-network-tutorial/) - Ler\n",
        "* [TensorFlow and Keras. A Beginners Tutorial by a Beginner](https://medium.com/@cyrilivargarcia/tensorflow-and-keras-a-beginners-tutorial-by-a-beginner-abd4c90f814f) - Ler\n",
        "* [Convolutional Neural Networks for Beginners](https://towardsdatascience.com/convolutional-neural-networks-for-beginners-practical-guide-with-python-and-keras-dc688ea90dca) - Ler\n",
        "* [Image Classification with Convolutional Neural Networks](https://medium.com/@ksusorokina/image-classification-with-convolutional-neural-networks-496815db12a8) - Ler\n",
        "* [Build Your Own Convolution Neural Network in 5 mins](https://towardsdatascience.com/build-your-own-convolution-neural-network-in-5-mins-4217c2cf964f) - Ler\n",
        "* [Simple Introduction to Convolutional Neural Networks](https://towardsdatascience.com/simple-introduction-to-convolutional-neural-networks-cdf8d3077bac) - Ler\n",
        "* [Cheat Sheets for AI, Neural Networks, Machine Learning, Deep Learning & Big Data](https://becominghuman.ai/cheat-sheets-for-ai-neural-networks-machine-learning-deep-learning-big-data-678c51b4b463) - Ler\n",
        "* [Tensorflow tutorials](https://www.tensorflow.org/tutorials) - Ler\n",
        "* [Tensorflow 1.x to Tensorflow 2.0 — Coding changes](https://medium.com/red-buffer/tensorflow-1-0-to-tensorflow-2-0-coding-changes-636b49a604b) - Ler\n",
        "* []() - Ler\n",
        "* []() - Ler\n",
        "* []() - Ler\n",
        "* []() - Ler\n",
        "* []() - Ler"
      ]
    },
    {
      "cell_type": "markdown",
      "metadata": {
        "id": "w-EYiFqwFozU"
      },
      "source": [
        "# **KERAS CHEETSHEET**\n",
        "![Keras](https://github.com/MathMachado/Materials/blob/master/keras.jpeg?raw=true)"
      ]
    },
    {
      "cell_type": "markdown",
      "metadata": {
        "id": "EFT74Fx94lrm"
      },
      "source": [
        "# **ARQUITETURA**\n",
        "Objetivo do TensorFlow:\n",
        "* Data Preprocessing;\n",
        "* Desenvolvimento e treinamento de modelos preditivos;\n",
        "\n",
        "> O nome Tensorflow advém do fato de receber como input um array-multidimensional, também conhecido como tensores.\n"
      ]
    },
    {
      "cell_type": "markdown",
      "metadata": {
        "id": "OvFT5emJUy5r"
      },
      "source": [
        "# **ESCALAR, VETORES, MATRIZES E TENSORES**\n",
        "\n",
        "![Tensor](https://github.com/MathMachado/Materials/blob/master/tensor.png?raw=true)\n",
        "\n",
        "Source: [PyTorch for Deep Learning: A Quick Guide for Starters](https://towardsdatascience.com/pytorch-for-deep-learning-a-quick-guide-for-starters-5b60d2dbb564)"
      ]
    },
    {
      "cell_type": "markdown",
      "metadata": {
        "id": "rtflDc475hGr"
      },
      "source": [
        "# **IMPORTAR A BIBLIOTECA**\n"
      ]
    },
    {
      "cell_type": "code",
      "metadata": {
        "id": "zaVh2lsI68fs",
        "colab": {
          "base_uri": "https://localhost:8080/",
          "height": 34
        },
        "outputId": "e0bd6c4a-2a08-4982-d9e1-d8dffe9f82f7"
      },
      "source": [
        "# magic word para usar a versão mais recente do tensorflow\n",
        "%tensorflow_version 2.x"
      ],
      "execution_count": null,
      "outputs": [
        {
          "output_type": "stream",
          "text": [
            "TensorFlow 2.x selected.\n"
          ],
          "name": "stdout"
        }
      ]
    },
    {
      "cell_type": "code",
      "metadata": {
        "id": "_wMgHWkFlw3X"
      },
      "source": [
        "#!pip uninstall tensorflow\n",
        "#!pip install tensorflow"
      ],
      "execution_count": null,
      "outputs": []
    },
    {
      "cell_type": "code",
      "metadata": {
        "id": "fCv5O98c5uHX"
      },
      "source": [
        "import numpy as np\n",
        "import tensorflow as tf\n",
        "from tensorflow import keras\n",
        "import pandas as pd "
      ],
      "execution_count": null,
      "outputs": []
    },
    {
      "cell_type": "code",
      "metadata": {
        "id": "CrgnS69LktbT",
        "colab": {
          "base_uri": "https://localhost:8080/",
          "height": 34
        },
        "outputId": "9de363d9-4896-40d3-d7dc-8842c75d794e"
      },
      "source": [
        "# Versão do tensorflow. Assegure-se de estar usando a versão 2.x\n",
        "tf.__version__"
      ],
      "execution_count": null,
      "outputs": [
        {
          "output_type": "execute_result",
          "data": {
            "text/plain": [
              "'2.1.0'"
            ]
          },
          "metadata": {
            "tags": []
          },
          "execution_count": 3
        }
      ]
    },
    {
      "cell_type": "markdown",
      "metadata": {
        "id": "GMBsviugd6Yl"
      },
      "source": [
        "# **DEFINIR/CRIAR CONSTANTES NUMÉRICAS**\n",
        "> a seguir, vou definir os tensores (na verdade, estes tensores são constantes) $X_{1}$ e $X_{2}$ da seguinte forma:"
      ]
    },
    {
      "cell_type": "code",
      "metadata": {
        "id": "HbvQPRMxeMFl"
      },
      "source": [
        "tf_X1= tf.Variable(5)\n",
        "tf_X2= tf.Variable(2)"
      ],
      "execution_count": null,
      "outputs": []
    },
    {
      "cell_type": "code",
      "metadata": {
        "id": "xhRYEtY9eMDg",
        "colab": {
          "base_uri": "https://localhost:8080/",
          "height": 34
        },
        "outputId": "03c72016-24c8-4f6d-e8c8-ca0ba19b812b"
      },
      "source": [
        "tf_X1"
      ],
      "execution_count": null,
      "outputs": [
        {
          "output_type": "execute_result",
          "data": {
            "text/plain": [
              "<tf.Tensor: shape=(), dtype=int32, numpy=5>"
            ]
          },
          "metadata": {
            "tags": []
          },
          "execution_count": 5
        }
      ]
    },
    {
      "cell_type": "code",
      "metadata": {
        "id": "NxHV_0WMgQLr",
        "colab": {
          "base_uri": "https://localhost:8080/",
          "height": 34
        },
        "outputId": "f811cc9c-e50d-4729-f01f-4cf06c82b7b8"
      },
      "source": [
        "print(tf_X1)"
      ],
      "execution_count": null,
      "outputs": [
        {
          "output_type": "stream",
          "text": [
            "tf.Tensor(5, shape=(), dtype=int32)\n"
          ],
          "name": "stdout"
        }
      ]
    },
    {
      "cell_type": "markdown",
      "metadata": {
        "id": "JalxDp-vg9ar"
      },
      "source": [
        "As informações do objeto retornadas foram o tipo (tensor), dimensão e dtype."
      ]
    },
    {
      "cell_type": "markdown",
      "metadata": {
        "id": "S1Mg0mMRje9L"
      },
      "source": [
        "# **DEFINIR/CRIAR CONSTANTES STRING**"
      ]
    },
    {
      "cell_type": "code",
      "metadata": {
        "id": "W2OZV8ivjkcE"
      },
      "source": [
        "tf_A= tf.Variable('Primeira parte do texto ')\n",
        "tf_B= tf.Variable('somando com a segunda parte do texto')\n",
        "tf_C= tf_A+tf_B"
      ],
      "execution_count": null,
      "outputs": []
    },
    {
      "cell_type": "code",
      "metadata": {
        "id": "T_OvtZMxjvor",
        "colab": {
          "base_uri": "https://localhost:8080/",
          "height": 34
        },
        "outputId": "4e571c26-d23b-44da-aad0-7655b4f9f415"
      },
      "source": [
        "type(tf_A)"
      ],
      "execution_count": null,
      "outputs": [
        {
          "output_type": "execute_result",
          "data": {
            "text/plain": [
              "tensorflow.python.framework.ops.EagerTensor"
            ]
          },
          "metadata": {
            "tags": []
          },
          "execution_count": 9
        }
      ]
    },
    {
      "cell_type": "markdown",
      "metadata": {
        "id": "EDRLsinmtCCy"
      },
      "source": [
        "A função type nos retorna a informação que o objeto tf_A é um objeto do tipo Tensorflow."
      ]
    },
    {
      "cell_type": "code",
      "metadata": {
        "id": "FJGRcOnWj0x9",
        "colab": {
          "base_uri": "https://localhost:8080/",
          "height": 34
        },
        "outputId": "229bb9d4-e3a8-4917-cea9-2dd2d77242da"
      },
      "source": [
        "print(tf_A)"
      ],
      "execution_count": null,
      "outputs": [
        {
          "output_type": "stream",
          "text": [
            "tf.Tensor(b'Primeira parte do texto ', shape=(), dtype=string)\n"
          ],
          "name": "stdout"
        }
      ]
    },
    {
      "cell_type": "markdown",
      "metadata": {
        "id": "Yf_QZ2WQkJgN"
      },
      "source": [
        "Observe acima que o tensor tf_A é do tipo string. A seguir, o resultado da concatenação dos objetos tf_A e tf_B:"
      ]
    },
    {
      "cell_type": "code",
      "metadata": {
        "id": "sx4VcrfWrmWM",
        "colab": {
          "base_uri": "https://localhost:8080/",
          "height": 54
        },
        "outputId": "05f15e89-3e78-4aa0-e7da-15e1d7849285"
      },
      "source": [
        "tf_C"
      ],
      "execution_count": null,
      "outputs": [
        {
          "output_type": "execute_result",
          "data": {
            "text/plain": [
              "<tf.Tensor: shape=(), dtype=string, numpy=b'Primeira parte do texto somando com a segunda parte do texto'>"
            ]
          },
          "metadata": {
            "tags": []
          },
          "execution_count": 11
        }
      ]
    },
    {
      "cell_type": "markdown",
      "metadata": {
        "id": "AaeULHT098GI"
      },
      "source": [
        "# **DEFINIR/CRIAR ARRAYS MULTIDIMENSIONAIS**\n",
        "> A seguir, vamos criar os arrays (unidimensionais e multidimensionais) $X_{1}$ e $X_{2}$:"
      ]
    },
    {
      "cell_type": "code",
      "metadata": {
        "id": "hLBs1XES7OfN"
      },
      "source": [
        "np.random.seed(1)\n",
        "tf_X1= tf.Variable(np.random.randint(0, 10, 5), dtype= tf.int64)\n",
        "\n",
        "np.random.seed(2)\n",
        "tf_X2= tf.Variable(np.random.randint(0, 10, 5), dtype= tf.int64)\n",
        "\n",
        "tf_X3= tf.Variable(5, dtype= tf.int64)\n",
        "tf_X4= tf.Variable(2, dtype= tf.int64)"
      ],
      "execution_count": null,
      "outputs": []
    },
    {
      "cell_type": "code",
      "metadata": {
        "id": "it2oeGPh3wQa",
        "colab": {
          "base_uri": "https://localhost:8080/",
          "height": 34
        },
        "outputId": "39ae117c-5448-4d97-dba7-971b8dd82b86"
      },
      "source": [
        "# Tensor tf_X1: Tensor declarado com tf.Variable()\n",
        "tf_X1"
      ],
      "execution_count": null,
      "outputs": [
        {
          "output_type": "execute_result",
          "data": {
            "text/plain": [
              "<tf.Variable 'Variable:0' shape=(5,) dtype=int64, numpy=array([5, 8, 9, 5, 0])>"
            ]
          },
          "metadata": {
            "tags": []
          },
          "execution_count": 81
        }
      ]
    },
    {
      "cell_type": "code",
      "metadata": {
        "id": "BHPRonqW4pDZ",
        "colab": {
          "base_uri": "https://localhost:8080/",
          "height": 34
        },
        "outputId": "fe396364-2d85-4546-dc29-5e8423b16b85"
      },
      "source": [
        "# Tensor tf_X2: Tensor declarado com tf.Variable()\n",
        "tf_X2"
      ],
      "execution_count": null,
      "outputs": [
        {
          "output_type": "execute_result",
          "data": {
            "text/plain": [
              "<tf.Variable 'Variable:0' shape=(5,) dtype=int64, numpy=array([8, 8, 6, 2, 8])>"
            ]
          },
          "metadata": {
            "tags": []
          },
          "execution_count": 82
        }
      ]
    },
    {
      "cell_type": "code",
      "metadata": {
        "id": "A9sa9mxaxi3A",
        "colab": {
          "base_uri": "https://localhost:8080/",
          "height": 34
        },
        "outputId": "6625ff68-b94f-4129-f1f2-ece0b16789ea"
      },
      "source": [
        "# Tensor tf_X3: Tensor declarado com tf.Variable()\n",
        "tf_X3"
      ],
      "execution_count": null,
      "outputs": [
        {
          "output_type": "execute_result",
          "data": {
            "text/plain": [
              "<tf.Variable 'Variable:0' shape=() dtype=int64, numpy=5>"
            ]
          },
          "metadata": {
            "tags": []
          },
          "execution_count": 83
        }
      ]
    },
    {
      "cell_type": "code",
      "metadata": {
        "id": "OMenrIfvxnN3",
        "colab": {
          "base_uri": "https://localhost:8080/",
          "height": 34
        },
        "outputId": "89d80a2d-0347-4abf-f110-c40750d7b5f5"
      },
      "source": [
        "# Tensor tf_X4: Tensor declarado com tf.Variable()\n",
        "tf_X4"
      ],
      "execution_count": null,
      "outputs": [
        {
          "output_type": "execute_result",
          "data": {
            "text/plain": [
              "<tf.Variable 'Variable:0' shape=() dtype=int64, numpy=2>"
            ]
          },
          "metadata": {
            "tags": []
          },
          "execution_count": 84
        }
      ]
    },
    {
      "cell_type": "markdown",
      "metadata": {
        "id": "qK-7eD5h4Dl4"
      },
      "source": [
        "Note aqui que:\n",
        "* tf_X1 e tf_X2 são arrays multidimensionais;\n",
        "* tf_X3 e tf_X4 são arrays unidimensionais."
      ]
    },
    {
      "cell_type": "markdown",
      "metadata": {
        "id": "lkqxYb9_ua_X"
      },
      "source": [
        "## Operações Básicas com Tensores"
      ]
    },
    {
      "cell_type": "markdown",
      "metadata": {
        "id": "VxxKjotVufN0"
      },
      "source": [
        "### Adição/Subtração"
      ]
    },
    {
      "cell_type": "code",
      "metadata": {
        "id": "rFUU1HXVutd9",
        "colab": {
          "base_uri": "https://localhost:8080/",
          "height": 34
        },
        "outputId": "7f08bf22-4c9b-4c77-936e-921ac1d1ef30"
      },
      "source": [
        "tf_C1= tf_X1 + tf_X2\n",
        "tf_C1"
      ],
      "execution_count": null,
      "outputs": [
        {
          "output_type": "execute_result",
          "data": {
            "text/plain": [
              "<tf.Tensor: shape=(5,), dtype=int64, numpy=array([13, 16, 15,  7,  8])>"
            ]
          },
          "metadata": {
            "tags": []
          },
          "execution_count": 85
        }
      ]
    },
    {
      "cell_type": "code",
      "metadata": {
        "id": "FZIHzpqp4nhh",
        "colab": {
          "base_uri": "https://localhost:8080/",
          "height": 34
        },
        "outputId": "84ce040a-c645-4f0a-8059-53f201ce50ab"
      },
      "source": [
        "tf_C2= tf_X1 + tf_X3\n",
        "tf_C2"
      ],
      "execution_count": null,
      "outputs": [
        {
          "output_type": "execute_result",
          "data": {
            "text/plain": [
              "<tf.Tensor: shape=(5,), dtype=int64, numpy=array([10, 13, 14, 10,  5])>"
            ]
          },
          "metadata": {
            "tags": []
          },
          "execution_count": 86
        }
      ]
    },
    {
      "cell_type": "markdown",
      "metadata": {
        "id": "NN8FyXx6zub5"
      },
      "source": [
        "### Multiplicação/Divisão"
      ]
    },
    {
      "cell_type": "code",
      "metadata": {
        "id": "Po0quFpLzxFt",
        "colab": {
          "base_uri": "https://localhost:8080/",
          "height": 34
        },
        "outputId": "7ecb3b78-b2ce-4016-d0f2-522c7a53c1fe"
      },
      "source": [
        "tf_M1= tf_X1*tf_X2\n",
        "tf_M1"
      ],
      "execution_count": null,
      "outputs": [
        {
          "output_type": "execute_result",
          "data": {
            "text/plain": [
              "<tf.Tensor: shape=(5,), dtype=int64, numpy=array([40, 64, 54, 10,  0])>"
            ]
          },
          "metadata": {
            "tags": []
          },
          "execution_count": 87
        }
      ]
    },
    {
      "cell_type": "code",
      "metadata": {
        "id": "KlmwAtqc4Y8N",
        "colab": {
          "base_uri": "https://localhost:8080/",
          "height": 34
        },
        "outputId": "271fae9e-73b1-4ec0-a645-a72db595228f"
      },
      "source": [
        "tf_M2= tf_X1 * tf_X3\n",
        "tf_M2"
      ],
      "execution_count": null,
      "outputs": [
        {
          "output_type": "execute_result",
          "data": {
            "text/plain": [
              "<tf.Tensor: shape=(5,), dtype=int64, numpy=array([25, 40, 45, 25,  0])>"
            ]
          },
          "metadata": {
            "tags": []
          },
          "execution_count": 88
        }
      ]
    },
    {
      "cell_type": "markdown",
      "metadata": {
        "id": "UuAhvpI71j4S"
      },
      "source": [
        "Viu como as operações são semelhantes ao NumPy?"
      ]
    },
    {
      "cell_type": "markdown",
      "metadata": {
        "id": "QjSi3cv0lnqU"
      },
      "source": [
        "# **CONCATENAR (= EMPILHAR) ARRAYS**"
      ]
    },
    {
      "cell_type": "code",
      "metadata": {
        "id": "rGFA_FYulrf5"
      },
      "source": [
        "tf_A= tf.Variable([['A1','A2','A3'], ['A4','A5','A6']])\n",
        "tf_B= tf.Variable([['B1','B2','B3'], ['B4','B5','B6']])"
      ],
      "execution_count": null,
      "outputs": []
    },
    {
      "cell_type": "code",
      "metadata": {
        "id": "ytt4OHUZmKSx",
        "colab": {
          "base_uri": "https://localhost:8080/",
          "height": 68
        },
        "outputId": "7d8446d8-48de-47ca-dd3f-10687c026830"
      },
      "source": [
        "tf_A"
      ],
      "execution_count": null,
      "outputs": [
        {
          "output_type": "execute_result",
          "data": {
            "text/plain": [
              "<tf.Variable 'Variable:0' shape=(2, 3) dtype=string, numpy=\n",
              "array([[b'A1', b'A2', b'A3'],\n",
              "       [b'A4', b'A5', b'A6']], dtype=object)>"
            ]
          },
          "metadata": {
            "tags": []
          },
          "execution_count": 91
        }
      ]
    },
    {
      "cell_type": "code",
      "metadata": {
        "id": "cOl-vSX8mN4K",
        "colab": {
          "base_uri": "https://localhost:8080/",
          "height": 68
        },
        "outputId": "df69eba2-ffe8-4e01-9b23-58663cf11927"
      },
      "source": [
        "# Concatenar COLUNAS: axis= 1\n",
        "tf_Concat= tf.concat(values= [tf_A, tf_B], axis= 1)\n",
        "tf_Concat"
      ],
      "execution_count": null,
      "outputs": [
        {
          "output_type": "execute_result",
          "data": {
            "text/plain": [
              "<tf.Tensor: shape=(2, 6), dtype=string, numpy=\n",
              "array([[b'A1', b'A2', b'A3', b'B1', b'B2', b'B3'],\n",
              "       [b'A4', b'A5', b'A6', b'B4', b'B5', b'B6']], dtype=object)>"
            ]
          },
          "metadata": {
            "tags": []
          },
          "execution_count": 92
        }
      ]
    },
    {
      "cell_type": "code",
      "metadata": {
        "id": "jKZve3pumhFX",
        "colab": {
          "base_uri": "https://localhost:8080/",
          "height": 102
        },
        "outputId": "4290ed43-3625-4386-e4f1-6377537ba360"
      },
      "source": [
        "# Concatenar LINHAS: axis= 0\n",
        "tf_Concat= tf.concat(values= [tf_A, tf_B], axis= 0)\n",
        "tf_Concat"
      ],
      "execution_count": null,
      "outputs": [
        {
          "output_type": "execute_result",
          "data": {
            "text/plain": [
              "<tf.Tensor: shape=(4, 3), dtype=string, numpy=\n",
              "array([[b'A1', b'A2', b'A3'],\n",
              "       [b'A4', b'A5', b'A6'],\n",
              "       [b'B1', b'B2', b'B3'],\n",
              "       [b'B4', b'B5', b'B6']], dtype=object)>"
            ]
          },
          "metadata": {
            "tags": []
          },
          "execution_count": 93
        }
      ]
    },
    {
      "cell_type": "markdown",
      "metadata": {
        "id": "KXXA3_CImv_m"
      },
      "source": [
        "# **ARRAYS DE 0's E 1's**"
      ]
    },
    {
      "cell_type": "code",
      "metadata": {
        "id": "nPFM0p4LmzlK",
        "colab": {
          "base_uri": "https://localhost:8080/",
          "height": 102
        },
        "outputId": "430a1f8e-2a92-41cd-8b1a-82114dd976c3"
      },
      "source": [
        "tf_0= tf.zeros(shape= [4,6], dtype= 'float64')\n",
        "tf_0"
      ],
      "execution_count": null,
      "outputs": [
        {
          "output_type": "execute_result",
          "data": {
            "text/plain": [
              "<tf.Tensor: shape=(4, 6), dtype=float64, numpy=\n",
              "array([[0., 0., 0., 0., 0., 0.],\n",
              "       [0., 0., 0., 0., 0., 0.],\n",
              "       [0., 0., 0., 0., 0., 0.],\n",
              "       [0., 0., 0., 0., 0., 0.]])>"
            ]
          },
          "metadata": {
            "tags": []
          },
          "execution_count": 95
        }
      ]
    },
    {
      "cell_type": "code",
      "metadata": {
        "id": "IYFpww_VnF6u",
        "colab": {
          "base_uri": "https://localhost:8080/",
          "height": 85
        },
        "outputId": "4efaa3ba-0e98-447c-c917-859dc10143e9"
      },
      "source": [
        "tf_1= tf.ones(shape= [3,8], dtype= 'float64')\n",
        "tf_1"
      ],
      "execution_count": null,
      "outputs": [
        {
          "output_type": "execute_result",
          "data": {
            "text/plain": [
              "<tf.Tensor: shape=(3, 8), dtype=float64, numpy=\n",
              "array([[1., 1., 1., 1., 1., 1., 1., 1.],\n",
              "       [1., 1., 1., 1., 1., 1., 1., 1.],\n",
              "       [1., 1., 1., 1., 1., 1., 1., 1.]])>"
            ]
          },
          "metadata": {
            "tags": []
          },
          "execution_count": 96
        }
      ]
    },
    {
      "cell_type": "markdown",
      "metadata": {
        "id": "BKQzvWIgnZL4"
      },
      "source": [
        "# **RESHAPE TENSORES**"
      ]
    },
    {
      "cell_type": "code",
      "metadata": {
        "id": "TujqtVoPnbnh",
        "colab": {
          "base_uri": "https://localhost:8080/",
          "height": 238
        },
        "outputId": "12aa0ac9-636b-4dc7-ea9c-2ac235b1cba3"
      },
      "source": [
        "tf_1_reshaped= tf.reshape(tensor= tf_1, shape= [-1, 2])\n",
        "tf_1_reshaped"
      ],
      "execution_count": null,
      "outputs": [
        {
          "output_type": "execute_result",
          "data": {
            "text/plain": [
              "<tf.Tensor: shape=(12, 2), dtype=float64, numpy=\n",
              "array([[1., 1.],\n",
              "       [1., 1.],\n",
              "       [1., 1.],\n",
              "       [1., 1.],\n",
              "       [1., 1.],\n",
              "       [1., 1.],\n",
              "       [1., 1.],\n",
              "       [1., 1.],\n",
              "       [1., 1.],\n",
              "       [1., 1.],\n",
              "       [1., 1.],\n",
              "       [1., 1.]])>"
            ]
          },
          "metadata": {
            "tags": []
          },
          "execution_count": 97
        }
      ]
    },
    {
      "cell_type": "markdown",
      "metadata": {
        "id": "qWAozu-FpccC"
      },
      "source": [
        "# **ALTERAR TIPOS**\n",
        "> Acompanhe abaixo o tensor tf_A com tipo float."
      ]
    },
    {
      "cell_type": "code",
      "metadata": {
        "id": "anVic7o6piGx",
        "colab": {
          "base_uri": "https://localhost:8080/",
          "height": 85
        },
        "outputId": "c947c6e9-2d5c-441e-c31b-b06328c31e15"
      },
      "source": [
        "tf_A= tf.Variable([[1.3, 1.7, 1.9], [2.5, 1.5, 1.9], [2, 3.1, 3.2]], dtype= tf.float64)\n",
        "tf_A"
      ],
      "execution_count": null,
      "outputs": [
        {
          "output_type": "execute_result",
          "data": {
            "text/plain": [
              "<tf.Variable 'Variable:0' shape=(3, 3) dtype=float64, numpy=\n",
              "array([[1.3, 1.7, 1.9],\n",
              "       [2.5, 1.5, 1.9],\n",
              "       [2. , 3.1, 3.2]])>"
            ]
          },
          "metadata": {
            "tags": []
          },
          "execution_count": 100
        }
      ]
    },
    {
      "cell_type": "markdown",
      "metadata": {
        "id": "QBGKAzGWp_WU"
      },
      "source": [
        "Vamos alterar o tipo: de float64 para int64. Acompanhe:"
      ]
    },
    {
      "cell_type": "code",
      "metadata": {
        "id": "b4odn5zQqCqD",
        "colab": {
          "base_uri": "https://localhost:8080/",
          "height": 85
        },
        "outputId": "28f0fa7d-0f30-4f55-bbb9-2353c56d3815"
      },
      "source": [
        "tf_B= tf.cast(tf_A, tf.int64)\n",
        "tf_B"
      ],
      "execution_count": null,
      "outputs": [
        {
          "output_type": "execute_result",
          "data": {
            "text/plain": [
              "<tf.Tensor: shape=(3, 3), dtype=int64, numpy=\n",
              "array([[1, 1, 1],\n",
              "       [2, 1, 1],\n",
              "       [2, 3, 3]])>"
            ]
          },
          "metadata": {
            "tags": []
          },
          "execution_count": 101
        }
      ]
    },
    {
      "cell_type": "code",
      "metadata": {
        "id": "xbwmf-RDqXj-",
        "colab": {
          "base_uri": "https://localhost:8080/",
          "height": 68
        },
        "outputId": "628825a0-e049-4b41-f862-e8983bdca484"
      },
      "source": [
        "# Mostrar o conteúdo de tf_B no formato numpy()\n",
        "tf_B.numpy()"
      ],
      "execution_count": null,
      "outputs": [
        {
          "output_type": "execute_result",
          "data": {
            "text/plain": [
              "array([[1, 1, 1],\n",
              "       [2, 1, 1],\n",
              "       [2, 3, 3]])"
            ]
          },
          "metadata": {
            "tags": []
          },
          "execution_count": 102
        }
      ]
    },
    {
      "cell_type": "markdown",
      "metadata": {
        "id": "yy6LJrulqj6D"
      },
      "source": [
        "# **ÁLGEBRA LINEAR**\n",
        "\n",
        "| Função | Descritivo |\n",
        "|--------|------------|\n",
        "|tf.transpose | Transposta do array | \n",
        "|tf.transpose | Transposta do array | \n",
        "|tf.matmul | Multiplicação usual de matrizes | \n",
        "|tf.multiply | Multiplicação elemento por elemento do array | \n",
        "|tf.eye | Matriz identidade | \n",
        "|tf.zeros | Matriz de zeros | \n",
        "|tf.ones | Matriz de 1 | \n",
        "|tf.linalg.det | Determinante da matriz | \n",
        "|tf.tensordot | Dor Produto | \n",
        "|tf.reshape | Reshape a matriz | \n",
        "\n",
        "\n"
      ]
    },
    {
      "cell_type": "markdown",
      "metadata": {
        "id": "ETQP3gt3sIGl"
      },
      "source": [
        "## Matriz Transposta"
      ]
    },
    {
      "cell_type": "code",
      "metadata": {
        "id": "J-lBXUeQsMp0",
        "colab": {
          "base_uri": "https://localhost:8080/",
          "height": 51
        },
        "outputId": "d7d62d8f-d490-4458-9d10-e67a71ac252b"
      },
      "source": [
        "tf_A= tf.Variable([[1,3],[2,5]])\n",
        "tf_A.numpy()"
      ],
      "execution_count": null,
      "outputs": [
        {
          "output_type": "execute_result",
          "data": {
            "text/plain": [
              "array([[1, 3],\n",
              "       [2, 5]], dtype=int32)"
            ]
          },
          "metadata": {
            "tags": []
          },
          "execution_count": 104
        }
      ]
    },
    {
      "cell_type": "code",
      "metadata": {
        "id": "yrmUgN9DsXbV",
        "colab": {
          "base_uri": "https://localhost:8080/",
          "height": 68
        },
        "outputId": "44d28f8d-8644-4b21-a94c-57fe0894f434"
      },
      "source": [
        "# tf_A_t é a Matriz Transposta de tf_A\n",
        "tf_A_t= tf.transpose(tf_A)\n",
        "tf_A_t"
      ],
      "execution_count": null,
      "outputs": [
        {
          "output_type": "execute_result",
          "data": {
            "text/plain": [
              "<tf.Tensor: shape=(2, 2), dtype=int32, numpy=\n",
              "array([[1, 2],\n",
              "       [3, 5]], dtype=int32)>"
            ]
          },
          "metadata": {
            "tags": []
          },
          "execution_count": 107
        }
      ]
    },
    {
      "cell_type": "code",
      "metadata": {
        "id": "I43Ay7DX7G1X",
        "colab": {
          "base_uri": "https://localhost:8080/",
          "height": 51
        },
        "outputId": "a1276a1d-c86b-40ba-d15c-d7660de6669d"
      },
      "source": [
        "tf_A_t.numpy()"
      ],
      "execution_count": null,
      "outputs": [
        {
          "output_type": "execute_result",
          "data": {
            "text/plain": [
              "array([[1, 2],\n",
              "       [3, 5]], dtype=int32)"
            ]
          },
          "metadata": {
            "tags": []
          },
          "execution_count": 108
        }
      ]
    },
    {
      "cell_type": "markdown",
      "metadata": {
        "id": "vuDPrUiH-DdQ"
      },
      "source": [
        "## Determinante"
      ]
    },
    {
      "cell_type": "code",
      "metadata": {
        "id": "oTC8zW95sg7_",
        "colab": {
          "base_uri": "https://localhost:8080/",
          "height": 425
        },
        "outputId": "c35b76c8-7522-4948-e77c-2aa8ed3609cf"
      },
      "source": [
        "# tf_A_d é o Determinante da Matriz tf_A:\n",
        "tf_A_d= tf.linalg.det(tf_A)\n",
        "tf_A_d"
      ],
      "execution_count": null,
      "outputs": [
        {
          "output_type": "error",
          "ename": "NotFoundError",
          "evalue": "ignored",
          "traceback": [
            "\u001b[0;31m---------------------------------------------------------------------------\u001b[0m",
            "\u001b[0;31mNotFoundError\u001b[0m                             Traceback (most recent call last)",
            "\u001b[0;32m<ipython-input-116-d5a967439a6d>\u001b[0m in \u001b[0;36m<module>\u001b[0;34m()\u001b[0m\n\u001b[0;32m----> 1\u001b[0;31m \u001b[0mtf_A_d\u001b[0m\u001b[0;34m=\u001b[0m \u001b[0mtf\u001b[0m\u001b[0;34m.\u001b[0m\u001b[0mlinalg\u001b[0m\u001b[0;34m.\u001b[0m\u001b[0mdet\u001b[0m\u001b[0;34m(\u001b[0m\u001b[0mtf_A\u001b[0m\u001b[0;34m)\u001b[0m\u001b[0;34m\u001b[0m\u001b[0;34m\u001b[0m\u001b[0m\n\u001b[0m\u001b[1;32m      2\u001b[0m \u001b[0mtf_A_d\u001b[0m\u001b[0;34m\u001b[0m\u001b[0;34m\u001b[0m\u001b[0m\n",
            "\u001b[0;32m/tensorflow-2.1.0/python3.6/tensorflow_core/python/ops/gen_linalg_ops.py\u001b[0m in \u001b[0;36mmatrix_determinant\u001b[0;34m(input, name)\u001b[0m\n\u001b[1;32m   1263\u001b[0m         \u001b[0;32mraise\u001b[0m\u001b[0;34m\u001b[0m\u001b[0;34m\u001b[0m\u001b[0m\n\u001b[1;32m   1264\u001b[0m     \u001b[0;32mexcept\u001b[0m \u001b[0m_core\u001b[0m\u001b[0;34m.\u001b[0m\u001b[0m_NotOkStatusException\u001b[0m \u001b[0;32mas\u001b[0m \u001b[0me\u001b[0m\u001b[0;34m:\u001b[0m\u001b[0;34m\u001b[0m\u001b[0;34m\u001b[0m\u001b[0m\n\u001b[0;32m-> 1265\u001b[0;31m       \u001b[0m_ops\u001b[0m\u001b[0;34m.\u001b[0m\u001b[0mraise_from_not_ok_status\u001b[0m\u001b[0;34m(\u001b[0m\u001b[0me\u001b[0m\u001b[0;34m,\u001b[0m \u001b[0mname\u001b[0m\u001b[0;34m)\u001b[0m\u001b[0;34m\u001b[0m\u001b[0;34m\u001b[0m\u001b[0m\n\u001b[0m\u001b[1;32m   1266\u001b[0m   \u001b[0;31m# Add nodes to the TensorFlow graph.\u001b[0m\u001b[0;34m\u001b[0m\u001b[0;34m\u001b[0m\u001b[0;34m\u001b[0m\u001b[0m\n\u001b[1;32m   1267\u001b[0m   \u001b[0;32mtry\u001b[0m\u001b[0;34m:\u001b[0m\u001b[0;34m\u001b[0m\u001b[0;34m\u001b[0m\u001b[0m\n",
            "\u001b[0;32m/tensorflow-2.1.0/python3.6/tensorflow_core/python/framework/ops.py\u001b[0m in \u001b[0;36mraise_from_not_ok_status\u001b[0;34m(e, name)\u001b[0m\n\u001b[1;32m   6604\u001b[0m   \u001b[0mmessage\u001b[0m \u001b[0;34m=\u001b[0m \u001b[0me\u001b[0m\u001b[0;34m.\u001b[0m\u001b[0mmessage\u001b[0m \u001b[0;34m+\u001b[0m \u001b[0;34m(\u001b[0m\u001b[0;34m\" name: \"\u001b[0m \u001b[0;34m+\u001b[0m \u001b[0mname\u001b[0m \u001b[0;32mif\u001b[0m \u001b[0mname\u001b[0m \u001b[0;32mis\u001b[0m \u001b[0;32mnot\u001b[0m \u001b[0;32mNone\u001b[0m \u001b[0;32melse\u001b[0m \u001b[0;34m\"\"\u001b[0m\u001b[0;34m)\u001b[0m\u001b[0;34m\u001b[0m\u001b[0;34m\u001b[0m\u001b[0m\n\u001b[1;32m   6605\u001b[0m   \u001b[0;31m# pylint: disable=protected-access\u001b[0m\u001b[0;34m\u001b[0m\u001b[0;34m\u001b[0m\u001b[0;34m\u001b[0m\u001b[0m\n\u001b[0;32m-> 6606\u001b[0;31m   \u001b[0msix\u001b[0m\u001b[0;34m.\u001b[0m\u001b[0mraise_from\u001b[0m\u001b[0;34m(\u001b[0m\u001b[0mcore\u001b[0m\u001b[0;34m.\u001b[0m\u001b[0m_status_to_exception\u001b[0m\u001b[0;34m(\u001b[0m\u001b[0me\u001b[0m\u001b[0;34m.\u001b[0m\u001b[0mcode\u001b[0m\u001b[0;34m,\u001b[0m \u001b[0mmessage\u001b[0m\u001b[0;34m)\u001b[0m\u001b[0;34m,\u001b[0m \u001b[0;32mNone\u001b[0m\u001b[0;34m)\u001b[0m\u001b[0;34m\u001b[0m\u001b[0;34m\u001b[0m\u001b[0m\n\u001b[0m\u001b[1;32m   6607\u001b[0m   \u001b[0;31m# pylint: enable=protected-access\u001b[0m\u001b[0;34m\u001b[0m\u001b[0;34m\u001b[0m\u001b[0;34m\u001b[0m\u001b[0m\n\u001b[1;32m   6608\u001b[0m \u001b[0;34m\u001b[0m\u001b[0m\n",
            "\u001b[0;32m/usr/local/lib/python3.6/dist-packages/six.py\u001b[0m in \u001b[0;36mraise_from\u001b[0;34m(value, from_value)\u001b[0m\n",
            "\u001b[0;31mNotFoundError\u001b[0m: Could not find valid device for node.\nNode:{{node MatrixDeterminant}}\nAll kernels registered for op MatrixDeterminant :\n  device='CPU'; T in [DT_COMPLEX128]\n  device='CPU'; T in [DT_COMPLEX64]\n  device='CPU'; T in [DT_DOUBLE]\n  device='CPU'; T in [DT_FLOAT]\n  device='GPU'; T in [DT_COMPLEX128]\n  device='GPU'; T in [DT_COMPLEX64]\n  device='GPU'; T in [DT_DOUBLE]\n  device='GPU'; T in [DT_FLOAT]\n [Op:MatrixDeterminant]"
          ]
        }
      ]
    },
    {
      "cell_type": "markdown",
      "metadata": {
        "id": "YSWe8_8FuCl5"
      },
      "source": [
        "O erro acontece porque a matriz A tem elementos do tipo 'int'. Temos que primeiramente converter para 'float64':"
      ]
    },
    {
      "cell_type": "code",
      "metadata": {
        "id": "gxnChxgcuNlP",
        "colab": {
          "base_uri": "https://localhost:8080/",
          "height": 51
        },
        "outputId": "a96403cc-c516-4d24-f616-80ad37a7211f"
      },
      "source": [
        "tf_A2= tf.cast(tf_A, tf.float64)\n",
        "tf_A2.numpy()"
      ],
      "execution_count": null,
      "outputs": [
        {
          "output_type": "execute_result",
          "data": {
            "text/plain": [
              "array([[1., 3.],\n",
              "       [2., 5.]])"
            ]
          },
          "metadata": {
            "tags": []
          },
          "execution_count": 117
        }
      ]
    },
    {
      "cell_type": "code",
      "metadata": {
        "id": "NiRwVaWHubjb",
        "colab": {
          "base_uri": "https://localhost:8080/",
          "height": 34
        },
        "outputId": "aa731a2a-19f9-4af9-8cb5-a009d2b83384"
      },
      "source": [
        "tf_A_d= tf.linalg.det(tf_A2)\n",
        "tf_A_d.numpy()"
      ],
      "execution_count": null,
      "outputs": [
        {
          "output_type": "execute_result",
          "data": {
            "text/plain": [
              "-1.0000000000000004"
            ]
          },
          "metadata": {
            "tags": []
          },
          "execution_count": 118
        }
      ]
    },
    {
      "cell_type": "markdown",
      "metadata": {
        "id": "ihFimT7Mupy2"
      },
      "source": [
        "Seja tf_B uma matriz 3X3 da seguinte forma:"
      ]
    },
    {
      "cell_type": "code",
      "metadata": {
        "id": "5-gJWW4Ausbl",
        "colab": {
          "base_uri": "https://localhost:8080/",
          "height": 68
        },
        "outputId": "c47af496-e1bd-4067-bfc7-ebb1cb55248e"
      },
      "source": [
        "tf_B= tf.Variable([[1,3,0],[2,5,1],[2,1,3]], dtype= tf.float64)\n",
        "tf_B.numpy()"
      ],
      "execution_count": null,
      "outputs": [
        {
          "output_type": "execute_result",
          "data": {
            "text/plain": [
              "array([[1., 3., 0.],\n",
              "       [2., 5., 1.],\n",
              "       [2., 1., 3.]])"
            ]
          },
          "metadata": {
            "tags": []
          },
          "execution_count": 119
        }
      ]
    },
    {
      "cell_type": "code",
      "metadata": {
        "id": "LFe-xSOMu5Oj",
        "colab": {
          "base_uri": "https://localhost:8080/",
          "height": 34
        },
        "outputId": "0f0e116b-c8c6-4294-8577-f6712a32dda0"
      },
      "source": [
        "tf_B_d= tf.linalg.det(tf_B)\n",
        "tf_B_d.numpy()"
      ],
      "execution_count": null,
      "outputs": [
        {
          "output_type": "execute_result",
          "data": {
            "text/plain": [
              "1.9999999999999998"
            ]
          },
          "metadata": {
            "tags": []
          },
          "execution_count": 115
        }
      ]
    },
    {
      "cell_type": "markdown",
      "metadata": {
        "id": "WfaMSESUvJJg"
      },
      "source": [
        "Seja tf_C uma matriz 4X4 da seguinte forma:"
      ]
    },
    {
      "cell_type": "code",
      "metadata": {
        "id": "YAKD95WDvK7F",
        "colab": {
          "base_uri": "https://localhost:8080/",
          "height": 68
        },
        "outputId": "5b775149-bda8-4543-a663-25b532b54b9a"
      },
      "source": [
        "tf_C= tf.Variable([[1,0,2,0], [2,1,1,1],[2,3,0,1],[-1,1,2,2]], dtype= tf.float64)\n",
        "tf_C"
      ],
      "execution_count": null,
      "outputs": [
        {
          "output_type": "execute_result",
          "data": {
            "text/plain": [
              "<tf.Variable 'Variable:0' shape=(2, 2) dtype=float64, numpy=\n",
              "array([[1., 2.],\n",
              "       [3., 4.]])>"
            ]
          },
          "metadata": {
            "tags": []
          },
          "execution_count": 124
        }
      ]
    },
    {
      "cell_type": "code",
      "metadata": {
        "id": "Tr5RqEcdviA2",
        "colab": {
          "base_uri": "https://localhost:8080/",
          "height": 34
        },
        "outputId": "95f296a9-a1c8-43ce-82a0-6effc117f487"
      },
      "source": [
        "tf_C_d= tf.linalg.det(tf_C)\n",
        "tf_C_d.numpy()"
      ],
      "execution_count": null,
      "outputs": [
        {
          "output_type": "execute_result",
          "data": {
            "text/plain": [
              "18.999999999999996"
            ]
          },
          "metadata": {
            "tags": []
          },
          "execution_count": 121
        }
      ]
    },
    {
      "cell_type": "markdown",
      "metadata": {
        "id": "LHm5EB85-eg6"
      },
      "source": [
        "## Multiplicação Matricial\n",
        "O exemplo a seguir foi extraído do site somatematica: https://www.somatematica.com.br/emedio/matrizes/matrizes4.php. Os cálculos detalhados que envolvem multiplicação de matrizes podem ser encontrados lá.\n",
        "\n",
        "Considere as matrizes a seguir:"
      ]
    },
    {
      "cell_type": "markdown",
      "metadata": {
        "id": "UU4gOkArBMwQ"
      },
      "source": [
        "### Exemplo 1"
      ]
    },
    {
      "cell_type": "code",
      "metadata": {
        "id": "CD0r5y_K-17T",
        "colab": {
          "base_uri": "https://localhost:8080/",
          "height": 68
        },
        "outputId": "22eb8907-2661-4332-9a1e-09f8a05d1367"
      },
      "source": [
        "tf_D= tf.Variable([[1,2], [3,4]], dtype= tf.float64)\n",
        "tf_D"
      ],
      "execution_count": null,
      "outputs": [
        {
          "output_type": "execute_result",
          "data": {
            "text/plain": [
              "<tf.Variable 'Variable:0' shape=(2, 2) dtype=float64, numpy=\n",
              "array([[1., 2.],\n",
              "       [3., 4.]])>"
            ]
          },
          "metadata": {
            "tags": []
          },
          "execution_count": 127
        }
      ]
    },
    {
      "cell_type": "code",
      "metadata": {
        "id": "Cz2p-0jc--qX",
        "colab": {
          "base_uri": "https://localhost:8080/",
          "height": 68
        },
        "outputId": "b84a5680-def9-451d-f09b-9188244be5d6"
      },
      "source": [
        "tf_E= tf.Variable([[-1,3], [4,2]], dtype= tf.float64)\n",
        "tf_E"
      ],
      "execution_count": null,
      "outputs": [
        {
          "output_type": "execute_result",
          "data": {
            "text/plain": [
              "<tf.Variable 'Variable:0' shape=(2, 2) dtype=float64, numpy=\n",
              "array([[-1.,  3.],\n",
              "       [ 4.,  2.]])>"
            ]
          },
          "metadata": {
            "tags": []
          },
          "execution_count": 128
        }
      ]
    },
    {
      "cell_type": "code",
      "metadata": {
        "id": "tIzel30x_JBw",
        "colab": {
          "base_uri": "https://localhost:8080/",
          "height": 68
        },
        "outputId": "fac535b8-68b1-469a-87b8-e6941845f068"
      },
      "source": [
        "tf_F= tf.matmul(tf_D, tf_E)\n",
        "tf_F"
      ],
      "execution_count": null,
      "outputs": [
        {
          "output_type": "execute_result",
          "data": {
            "text/plain": [
              "<tf.Tensor: shape=(2, 2), dtype=float64, numpy=\n",
              "array([[ 7.,  7.],\n",
              "       [13., 17.]])>"
            ]
          },
          "metadata": {
            "tags": []
          },
          "execution_count": 129
        }
      ]
    },
    {
      "cell_type": "markdown",
      "metadata": {
        "id": "7tyU6BulBKfn"
      },
      "source": [
        "### Exemplo 2"
      ]
    },
    {
      "cell_type": "code",
      "metadata": {
        "id": "Eeef8GceBKfu"
      },
      "source": [
        "tf_X1= tf.Variable([[1, 2], [3, 4], [5, 6]])\n",
        "tf_X2= tf.Variable([[7, 8, 9], [0, 1, 2]])"
      ],
      "execution_count": null,
      "outputs": []
    },
    {
      "cell_type": "code",
      "metadata": {
        "id": "6QD0JVQ2BKfz",
        "colab": {
          "base_uri": "https://localhost:8080/",
          "height": 85
        },
        "outputId": "57d5031e-9d42-4dab-9525-137f79740cc9"
      },
      "source": [
        "tf_X1"
      ],
      "execution_count": null,
      "outputs": [
        {
          "output_type": "execute_result",
          "data": {
            "text/plain": [
              "<tf.Variable 'Variable:0' shape=(3, 2) dtype=int32, numpy=\n",
              "array([[1, 2],\n",
              "       [3, 4],\n",
              "       [5, 6]], dtype=int32)>"
            ]
          },
          "metadata": {
            "tags": []
          },
          "execution_count": 134
        }
      ]
    },
    {
      "cell_type": "code",
      "metadata": {
        "id": "L0v_Yi7pBKf2",
        "colab": {
          "base_uri": "https://localhost:8080/",
          "height": 68
        },
        "outputId": "e5fef290-1c07-4ab4-8da0-59a4f9b777e6"
      },
      "source": [
        "tf_X2"
      ],
      "execution_count": null,
      "outputs": [
        {
          "output_type": "execute_result",
          "data": {
            "text/plain": [
              "<tf.Variable 'Variable:0' shape=(2, 3) dtype=int32, numpy=\n",
              "array([[7, 8, 9],\n",
              "       [0, 1, 2]], dtype=int32)>"
            ]
          },
          "metadata": {
            "tags": []
          },
          "execution_count": 135
        }
      ]
    },
    {
      "cell_type": "code",
      "metadata": {
        "id": "MXW5r4AkBKf6"
      },
      "source": [
        "tf_M1= tf.matmul(tf_X1, tf_X2)\n",
        "tf_M2= tf.matmul(tf_X2, tf_X1)"
      ],
      "execution_count": null,
      "outputs": []
    },
    {
      "cell_type": "code",
      "metadata": {
        "id": "ZeNMcxZZBiV9",
        "colab": {
          "base_uri": "https://localhost:8080/",
          "height": 85
        },
        "outputId": "524a243d-a455-4f66-ebfc-8b28d945ea45"
      },
      "source": [
        "tf_M1"
      ],
      "execution_count": null,
      "outputs": [
        {
          "output_type": "execute_result",
          "data": {
            "text/plain": [
              "<tf.Tensor: shape=(3, 3), dtype=int32, numpy=\n",
              "array([[ 7, 10, 13],\n",
              "       [21, 28, 35],\n",
              "       [35, 46, 57]], dtype=int32)>"
            ]
          },
          "metadata": {
            "tags": []
          },
          "execution_count": 137
        }
      ]
    },
    {
      "cell_type": "code",
      "metadata": {
        "id": "WUfitYwXBkgI",
        "colab": {
          "base_uri": "https://localhost:8080/",
          "height": 68
        },
        "outputId": "58afc4bb-a16c-407c-ef61-8ebb4c44ca93"
      },
      "source": [
        "tf_M2"
      ],
      "execution_count": null,
      "outputs": [
        {
          "output_type": "execute_result",
          "data": {
            "text/plain": [
              "<tf.Tensor: shape=(2, 2), dtype=int32, numpy=\n",
              "array([[ 76, 100],\n",
              "       [ 13,  16]], dtype=int32)>"
            ]
          },
          "metadata": {
            "tags": []
          },
          "execution_count": 138
        }
      ]
    },
    {
      "cell_type": "markdown",
      "metadata": {
        "id": "XGeQzgwS87MH"
      },
      "source": [
        "## Produto Escalar\n",
        "> Produto escalar é um assunto muito importante e usado em redes Neurais e Deep Learning. Acompanhe:\n",
        "\n",
        "![NeuronioArtificial](https://github.com/MathMachado/Materials/blob/master/NeuronioArtificial.PNG?raw=true)"
      ]
    },
    {
      "cell_type": "markdown",
      "metadata": {
        "id": "Gq-ohUL8BnUe"
      },
      "source": [
        "$$S= 1(0.1)+(-3)(0.3)+2(0.2)+3(0.4)= 0.8$$"
      ]
    },
    {
      "cell_type": "markdown",
      "metadata": {
        "id": "_9yDXaL2Fqod"
      },
      "source": [
        "Vamos fazer isso (Produto Escalar) com TensorFlow. Acompanhe:"
      ]
    },
    {
      "cell_type": "code",
      "metadata": {
        "id": "FguuNyDzFp4b"
      },
      "source": [
        "tf_X= tf.Variable([[1, -3, 2, 3]])\n",
        "tf_W= tf.Variable([[0.1, 0.3, 0.2, 0.4]])"
      ],
      "execution_count": null,
      "outputs": []
    },
    {
      "cell_type": "code",
      "metadata": {
        "id": "GvOOkUCzGQXt",
        "colab": {
          "base_uri": "https://localhost:8080/",
          "height": 34
        },
        "outputId": "72c992af-66db-40e3-da9f-c2463b626caa"
      },
      "source": [
        "tf_X"
      ],
      "execution_count": null,
      "outputs": [
        {
          "output_type": "execute_result",
          "data": {
            "text/plain": [
              "<tf.Variable 'Variable:0' shape=(1, 4) dtype=int32, numpy=array([[ 1, -3,  2,  3]], dtype=int32)>"
            ]
          },
          "metadata": {
            "tags": []
          },
          "execution_count": 140
        }
      ]
    },
    {
      "cell_type": "code",
      "metadata": {
        "id": "XU2ZSmoPGRsC",
        "colab": {
          "base_uri": "https://localhost:8080/",
          "height": 54
        },
        "outputId": "7574e312-84ad-4195-b34b-80c3142a0c1d"
      },
      "source": [
        "tf_W"
      ],
      "execution_count": null,
      "outputs": [
        {
          "output_type": "execute_result",
          "data": {
            "text/plain": [
              "<tf.Variable 'Variable:0' shape=(1, 4) dtype=float32, numpy=array([[0.1, 0.3, 0.2, 0.4]], dtype=float32)>"
            ]
          },
          "metadata": {
            "tags": []
          },
          "execution_count": 141
        }
      ]
    },
    {
      "cell_type": "code",
      "metadata": {
        "id": "GIfxIef-GTdT",
        "colab": {
          "base_uri": "https://localhost:8080/",
          "height": 258
        },
        "outputId": "d39d1b07-096c-4a6a-a0ad-63741a00145c"
      },
      "source": [
        "tf_M1= tf.multiply(tf_X, tf_W)\n",
        "tf_M1"
      ],
      "execution_count": null,
      "outputs": [
        {
          "output_type": "error",
          "ename": "InvalidArgumentError",
          "evalue": "ignored",
          "traceback": [
            "\u001b[0;31m---------------------------------------------------------------------------\u001b[0m",
            "\u001b[0;31mInvalidArgumentError\u001b[0m                      Traceback (most recent call last)",
            "\u001b[0;32m<ipython-input-142-2a6093c559b3>\u001b[0m in \u001b[0;36m<module>\u001b[0;34m()\u001b[0m\n\u001b[0;32m----> 1\u001b[0;31m \u001b[0mtf_M1\u001b[0m\u001b[0;34m=\u001b[0m \u001b[0mtf\u001b[0m\u001b[0;34m.\u001b[0m\u001b[0mmultiply\u001b[0m\u001b[0;34m(\u001b[0m\u001b[0mtf_X\u001b[0m\u001b[0;34m,\u001b[0m \u001b[0mtf_W\u001b[0m\u001b[0;34m)\u001b[0m\u001b[0;34m\u001b[0m\u001b[0;34m\u001b[0m\u001b[0m\n\u001b[0m\u001b[1;32m      2\u001b[0m \u001b[0mtf_M1\u001b[0m\u001b[0;34m\u001b[0m\u001b[0;34m\u001b[0m\u001b[0m\n",
            "\u001b[0;32m/tensorflow-2.1.0/python3.6/tensorflow_core/python/util/dispatch.py\u001b[0m in \u001b[0;36mwrapper\u001b[0;34m(*args, **kwargs)\u001b[0m\n\u001b[1;32m    178\u001b[0m     \u001b[0;34m\"\"\"Call target, and fall back on dispatchers if there is a TypeError.\"\"\"\u001b[0m\u001b[0;34m\u001b[0m\u001b[0;34m\u001b[0m\u001b[0m\n\u001b[1;32m    179\u001b[0m     \u001b[0;32mtry\u001b[0m\u001b[0;34m:\u001b[0m\u001b[0;34m\u001b[0m\u001b[0;34m\u001b[0m\u001b[0m\n\u001b[0;32m--> 180\u001b[0;31m       \u001b[0;32mreturn\u001b[0m \u001b[0mtarget\u001b[0m\u001b[0;34m(\u001b[0m\u001b[0;34m*\u001b[0m\u001b[0margs\u001b[0m\u001b[0;34m,\u001b[0m \u001b[0;34m**\u001b[0m\u001b[0mkwargs\u001b[0m\u001b[0;34m)\u001b[0m\u001b[0;34m\u001b[0m\u001b[0;34m\u001b[0m\u001b[0m\n\u001b[0m\u001b[1;32m    181\u001b[0m     \u001b[0;32mexcept\u001b[0m \u001b[0;34m(\u001b[0m\u001b[0mTypeError\u001b[0m\u001b[0;34m,\u001b[0m \u001b[0mValueError\u001b[0m\u001b[0;34m)\u001b[0m\u001b[0;34m:\u001b[0m\u001b[0;34m\u001b[0m\u001b[0;34m\u001b[0m\u001b[0m\n\u001b[1;32m    182\u001b[0m       \u001b[0;31m# Note: convert_to_eager_tensor currently raises a ValueError, not a\u001b[0m\u001b[0;34m\u001b[0m\u001b[0;34m\u001b[0m\u001b[0;34m\u001b[0m\u001b[0m\n",
            "\u001b[0;32m/tensorflow-2.1.0/python3.6/tensorflow_core/python/ops/math_ops.py\u001b[0m in \u001b[0;36mmultiply\u001b[0;34m(x, y, name)\u001b[0m\n\u001b[1;32m    332\u001b[0m \u001b[0;34m@\u001b[0m\u001b[0mdispatch\u001b[0m\u001b[0;34m.\u001b[0m\u001b[0madd_dispatch_support\u001b[0m\u001b[0;34m\u001b[0m\u001b[0;34m\u001b[0m\u001b[0m\n\u001b[1;32m    333\u001b[0m \u001b[0;32mdef\u001b[0m \u001b[0mmultiply\u001b[0m\u001b[0;34m(\u001b[0m\u001b[0mx\u001b[0m\u001b[0;34m,\u001b[0m \u001b[0my\u001b[0m\u001b[0;34m,\u001b[0m \u001b[0mname\u001b[0m\u001b[0;34m=\u001b[0m\u001b[0;32mNone\u001b[0m\u001b[0;34m)\u001b[0m\u001b[0;34m:\u001b[0m\u001b[0;34m\u001b[0m\u001b[0;34m\u001b[0m\u001b[0m\n\u001b[0;32m--> 334\u001b[0;31m   \u001b[0;32mreturn\u001b[0m \u001b[0mgen_math_ops\u001b[0m\u001b[0;34m.\u001b[0m\u001b[0mmul\u001b[0m\u001b[0;34m(\u001b[0m\u001b[0mx\u001b[0m\u001b[0;34m,\u001b[0m \u001b[0my\u001b[0m\u001b[0;34m,\u001b[0m \u001b[0mname\u001b[0m\u001b[0;34m)\u001b[0m\u001b[0;34m\u001b[0m\u001b[0;34m\u001b[0m\u001b[0m\n\u001b[0m\u001b[1;32m    335\u001b[0m \u001b[0;34m\u001b[0m\u001b[0m\n\u001b[1;32m    336\u001b[0m \u001b[0;34m\u001b[0m\u001b[0m\n",
            "\u001b[0;32m/tensorflow-2.1.0/python3.6/tensorflow_core/python/ops/gen_math_ops.py\u001b[0m in \u001b[0;36mmul\u001b[0;34m(x, y, name)\u001b[0m\n\u001b[1;32m   6120\u001b[0m         \u001b[0;32mpass\u001b[0m  \u001b[0;31m# Add nodes to the TensorFlow graph.\u001b[0m\u001b[0;34m\u001b[0m\u001b[0;34m\u001b[0m\u001b[0m\n\u001b[1;32m   6121\u001b[0m     \u001b[0;32mexcept\u001b[0m \u001b[0m_core\u001b[0m\u001b[0;34m.\u001b[0m\u001b[0m_NotOkStatusException\u001b[0m \u001b[0;32mas\u001b[0m \u001b[0me\u001b[0m\u001b[0;34m:\u001b[0m\u001b[0;34m\u001b[0m\u001b[0;34m\u001b[0m\u001b[0m\n\u001b[0;32m-> 6122\u001b[0;31m       \u001b[0m_ops\u001b[0m\u001b[0;34m.\u001b[0m\u001b[0mraise_from_not_ok_status\u001b[0m\u001b[0;34m(\u001b[0m\u001b[0me\u001b[0m\u001b[0;34m,\u001b[0m \u001b[0mname\u001b[0m\u001b[0;34m)\u001b[0m\u001b[0;34m\u001b[0m\u001b[0;34m\u001b[0m\u001b[0m\n\u001b[0m\u001b[1;32m   6123\u001b[0m   \u001b[0;31m# Add nodes to the TensorFlow graph.\u001b[0m\u001b[0;34m\u001b[0m\u001b[0;34m\u001b[0m\u001b[0;34m\u001b[0m\u001b[0m\n\u001b[1;32m   6124\u001b[0m   _, _, _op, _outputs = _op_def_library._apply_op_helper(\n",
            "\u001b[0;32m/tensorflow-2.1.0/python3.6/tensorflow_core/python/framework/ops.py\u001b[0m in \u001b[0;36mraise_from_not_ok_status\u001b[0;34m(e, name)\u001b[0m\n\u001b[1;32m   6604\u001b[0m   \u001b[0mmessage\u001b[0m \u001b[0;34m=\u001b[0m \u001b[0me\u001b[0m\u001b[0;34m.\u001b[0m\u001b[0mmessage\u001b[0m \u001b[0;34m+\u001b[0m \u001b[0;34m(\u001b[0m\u001b[0;34m\" name: \"\u001b[0m \u001b[0;34m+\u001b[0m \u001b[0mname\u001b[0m \u001b[0;32mif\u001b[0m \u001b[0mname\u001b[0m \u001b[0;32mis\u001b[0m \u001b[0;32mnot\u001b[0m \u001b[0;32mNone\u001b[0m \u001b[0;32melse\u001b[0m \u001b[0;34m\"\"\u001b[0m\u001b[0;34m)\u001b[0m\u001b[0;34m\u001b[0m\u001b[0;34m\u001b[0m\u001b[0m\n\u001b[1;32m   6605\u001b[0m   \u001b[0;31m# pylint: disable=protected-access\u001b[0m\u001b[0;34m\u001b[0m\u001b[0;34m\u001b[0m\u001b[0;34m\u001b[0m\u001b[0m\n\u001b[0;32m-> 6606\u001b[0;31m   \u001b[0msix\u001b[0m\u001b[0;34m.\u001b[0m\u001b[0mraise_from\u001b[0m\u001b[0;34m(\u001b[0m\u001b[0mcore\u001b[0m\u001b[0;34m.\u001b[0m\u001b[0m_status_to_exception\u001b[0m\u001b[0;34m(\u001b[0m\u001b[0me\u001b[0m\u001b[0;34m.\u001b[0m\u001b[0mcode\u001b[0m\u001b[0;34m,\u001b[0m \u001b[0mmessage\u001b[0m\u001b[0;34m)\u001b[0m\u001b[0;34m,\u001b[0m \u001b[0;32mNone\u001b[0m\u001b[0;34m)\u001b[0m\u001b[0;34m\u001b[0m\u001b[0;34m\u001b[0m\u001b[0m\n\u001b[0m\u001b[1;32m   6607\u001b[0m   \u001b[0;31m# pylint: enable=protected-access\u001b[0m\u001b[0;34m\u001b[0m\u001b[0;34m\u001b[0m\u001b[0;34m\u001b[0m\u001b[0m\n\u001b[1;32m   6608\u001b[0m \u001b[0;34m\u001b[0m\u001b[0m\n",
            "\u001b[0;32m/usr/local/lib/python3.6/dist-packages/six.py\u001b[0m in \u001b[0;36mraise_from\u001b[0;34m(value, from_value)\u001b[0m\n",
            "\u001b[0;31mInvalidArgumentError\u001b[0m: cannot compute Mul as input #1(zero-based) was expected to be a int32 tensor but is a float tensor [Op:Mul]"
          ]
        }
      ]
    },
    {
      "cell_type": "markdown",
      "metadata": {
        "id": "flotyBPWGxfA"
      },
      "source": [
        "TensorFlow aponta um erro porque estamos tentando multiplicar o array tf_X contendo inteiros pelo array tf_W contendo floats. Vamos corrigir isso reescrevendo tf_X como float da seguinte forma:"
      ]
    },
    {
      "cell_type": "code",
      "metadata": {
        "id": "Tnrc_L1iG97G"
      },
      "source": [
        "tf_X= tf.Variable([[1.0, -3.0, 2.0, 3.0]])"
      ],
      "execution_count": null,
      "outputs": []
    },
    {
      "cell_type": "code",
      "metadata": {
        "id": "8KP9D_8bHHlN",
        "colab": {
          "base_uri": "https://localhost:8080/",
          "height": 68
        },
        "outputId": "69842620-21e7-478d-9007-c0eb2a83e82a"
      },
      "source": [
        "tf_M1= tf.multiply(tf_X, tf_W)\n",
        "tf_M1"
      ],
      "execution_count": null,
      "outputs": [
        {
          "output_type": "execute_result",
          "data": {
            "text/plain": [
              "<tf.Tensor: shape=(1, 4), dtype=float32, numpy=\n",
              "array([[ 0.1       , -0.90000004,  0.4       ,  1.2       ]],\n",
              "      dtype=float32)>"
            ]
          },
          "metadata": {
            "tags": []
          },
          "execution_count": 144
        }
      ]
    },
    {
      "cell_type": "code",
      "metadata": {
        "id": "smOYYqJ2HQ2x",
        "colab": {
          "base_uri": "https://localhost:8080/",
          "height": 34
        },
        "outputId": "0f22e868-bd6c-4bff-a35f-5423127e1da4"
      },
      "source": [
        "tf_S= tf.reduce_sum(tf_M1)\n",
        "tf_S"
      ],
      "execution_count": null,
      "outputs": [
        {
          "output_type": "execute_result",
          "data": {
            "text/plain": [
              "<tf.Tensor: shape=(), dtype=float32, numpy=0.8>"
            ]
          },
          "metadata": {
            "tags": []
          },
          "execution_count": 145
        }
      ]
    },
    {
      "cell_type": "markdown",
      "metadata": {
        "id": "9ohQIUWGHX4x"
      },
      "source": [
        "Como podemos ver, o resultado numpy= 0.8 é o resultado que estamos à procura."
      ]
    },
    {
      "cell_type": "markdown",
      "metadata": {
        "id": "TomvwRpkCgpy"
      },
      "source": [
        "Uma alternativa seria usar o método np.dot() do NumPy:"
      ]
    },
    {
      "cell_type": "code",
      "metadata": {
        "id": "YS9V53sbCl1v",
        "colab": {
          "base_uri": "https://localhost:8080/",
          "height": 68
        },
        "outputId": "a2e055a0-b26f-424e-896b-47f4610ad208"
      },
      "source": [
        "tf_M2= np.dot(tf_X, tf_W)\n",
        "tf_M2 "
      ],
      "execution_count": null,
      "outputs": [
        {
          "output_type": "execute_result",
          "data": {
            "text/plain": [
              "<tf.Tensor: shape=(1, 4), dtype=float32, numpy=\n",
              "array([[ 0.1       , -0.90000004,  0.4       ,  1.2       ]],\n",
              "      dtype=float32)>"
            ]
          },
          "metadata": {
            "tags": []
          },
          "execution_count": 146
        }
      ]
    },
    {
      "cell_type": "markdown",
      "metadata": {
        "id": "V91Aw7yICzCY"
      },
      "source": [
        "Portanto, podemos utilizar os métodos do NumPy no TensorFlow!"
      ]
    },
    {
      "cell_type": "markdown",
      "metadata": {
        "id": "Ujmd25cJG-fo"
      },
      "source": [
        "# **TFDV - TENSORFLOW DATA VALIDATION**\n",
        "\n",
        "TFDV pode ser usado para:\n",
        "* calcular estatísticas descritivas;\n",
        "* inferir um data schema (características/estrutura dos dados);\n",
        "    * Informações que devem estar presentes;\n",
        "    * tipo (numérica, string e etc) de cada coluna;\n",
        "    * Quais as colunas obrigatórias do dataframe;\n",
        "* detectar anomalias nos dados."
      ]
    },
    {
      "cell_type": "code",
      "metadata": {
        "id": "KazJYjkiI1Lj",
        "colab": {
          "base_uri": "https://localhost:8080/",
          "height": 734
        },
        "outputId": "dbb8affb-92fb-4e87-d7f4-aec62c78b203"
      },
      "source": [
        "!pip install -q tensorflow_data_validation"
      ],
      "execution_count": null,
      "outputs": [
        {
          "output_type": "stream",
          "text": [
            "\u001b[K     |████████████████████████████████| 2.4MB 82kB/s \n",
            "\u001b[K     |████████████████████████████████| 3.4MB 52.6MB/s \n",
            "\u001b[K     |████████████████████████████████| 6.7MB 22.0MB/s \n",
            "\u001b[K     |████████████████████████████████| 245kB 65.1MB/s \n",
            "\u001b[K     |████████████████████████████████| 63.2MB 93kB/s \n",
            "\u001b[K     |████████████████████████████████| 112kB 53.7MB/s \n",
            "\u001b[K     |████████████████████████████████| 1.9MB 61.9MB/s \n",
            "\u001b[K     |████████████████████████████████| 81kB 13.3MB/s \n",
            "\u001b[K     |████████████████████████████████| 1.2MB 66.5MB/s \n",
            "\u001b[K     |████████████████████████████████| 51kB 8.8MB/s \n",
            "\u001b[K     |████████████████████████████████| 61kB 7.7MB/s \n",
            "\u001b[K     |████████████████████████████████| 235kB 56.6MB/s \n",
            "\u001b[K     |████████████████████████████████| 235kB 71.8MB/s \n",
            "\u001b[K     |████████████████████████████████| 143kB 55.2MB/s \n",
            "\u001b[K     |████████████████████████████████| 122kB 77.8MB/s \n",
            "\u001b[K     |████████████████████████████████| 92kB 14.4MB/s \n",
            "\u001b[K     |████████████████████████████████| 174kB 66.3MB/s \n",
            "\u001b[K     |████████████████████████████████| 112kB 66.4MB/s \n",
            "\u001b[?25h  Building wheel for tensorflow-transform (setup.py) ... \u001b[?25l\u001b[?25hdone\n",
            "  Building wheel for avro-python3 (setup.py) ... \u001b[?25l\u001b[?25hdone\n",
            "  Building wheel for absl-py (setup.py) ... \u001b[?25l\u001b[?25hdone\n",
            "  Building wheel for oauth2client (setup.py) ... \u001b[?25l\u001b[?25hdone\n",
            "  Building wheel for hdfs (setup.py) ... \u001b[?25l\u001b[?25hdone\n",
            "  Building wheel for google-apitools (setup.py) ... \u001b[?25l\u001b[?25hdone\n",
            "  Building wheel for grpc-google-iam-v1 (setup.py) ... \u001b[?25l\u001b[?25hdone\n",
            "\u001b[31mERROR: tensorflow-federated 0.11.0 requires enum34~=1.1, which is not installed.\u001b[0m\n",
            "\u001b[31mERROR: tensorflow-federated 0.11.0 has requirement attrs~=18.2, but you'll have attrs 19.3.0 which is incompatible.\u001b[0m\n",
            "\u001b[31mERROR: tensorflow-federated 0.11.0 has requirement grpcio~=1.24.3, but you'll have grpcio 1.27.2 which is incompatible.\u001b[0m\n",
            "\u001b[31mERROR: tensorflow-federated 0.11.0 has requirement tensorflow~=2.0.0, but you'll have tensorflow 2.1.0 which is incompatible.\u001b[0m\n",
            "\u001b[31mERROR: tensorflow-federated 0.11.0 has requirement tensorflow-addons~=0.6.0, but you'll have tensorflow-addons 0.8.2 which is incompatible.\u001b[0m\n",
            "\u001b[31mERROR: tensor2tensor 1.14.1 has requirement tensorflow-probability==0.7.0, but you'll have tensorflow-probability 0.9.0 which is incompatible.\u001b[0m\n",
            "\u001b[31mERROR: pydrive 1.3.1 has requirement oauth2client>=4.0.0, but you'll have oauth2client 3.0.0 which is incompatible.\u001b[0m\n",
            "\u001b[31mERROR: kaggle 1.5.6 has requirement urllib3<1.25,>=1.21.1, but you'll have urllib3 1.25.8 which is incompatible.\u001b[0m\n",
            "\u001b[31mERROR: google-colab 1.0.0 has requirement google-auth~=1.7.2, but you'll have google-auth 1.11.2 which is incompatible.\u001b[0m\n",
            "\u001b[31mERROR: google-colab 1.0.0 has requirement requests~=2.21.0, but you'll have requests 2.22.0 which is incompatible.\u001b[0m\n",
            "\u001b[31mERROR: google-colab 1.0.0 has requirement six~=1.12.0, but you'll have six 1.14.0 which is incompatible.\u001b[0m\n",
            "\u001b[31mERROR: chainer 6.5.0 has requirement typing<=3.6.6, but you'll have typing 3.7.4.1 which is incompatible.\u001b[0m\n",
            "\u001b[31mERROR: chainer 6.5.0 has requirement typing-extensions<=3.6.6, but you'll have typing-extensions 3.7.4.1 which is incompatible.\u001b[0m\n",
            "\u001b[31mERROR: albumentations 0.1.12 has requirement imgaug<0.2.7,>=0.2.5, but you'll have imgaug 0.2.9 which is incompatible.\u001b[0m\n",
            "\u001b[31mERROR: apache-beam 2.19.0 has requirement pyarrow<0.16.0,>=0.15.1; python_version >= \"3.0\" or platform_system != \"Windows\", but you'll have pyarrow 0.16.0 which is incompatible.\u001b[0m\n",
            "\u001b[31mERROR: tfx-bsl 0.21.2 has requirement pyarrow<0.16.0,>=0.15.0, but you'll have pyarrow 0.16.0 which is incompatible.\u001b[0m\n"
          ],
          "name": "stdout"
        }
      ]
    },
    {
      "cell_type": "code",
      "metadata": {
        "id": "7RK3y4okJfnA"
      },
      "source": [
        ""
      ],
      "execution_count": null,
      "outputs": []
    },
    {
      "cell_type": "markdown",
      "metadata": {
        "id": "NzOm_jqkHLaT"
      },
      "source": [
        ""
      ]
    },
    {
      "cell_type": "markdown",
      "metadata": {
        "id": "Y8h0w1t4HLiB"
      },
      "source": [
        ""
      ]
    },
    {
      "cell_type": "markdown",
      "metadata": {
        "id": "VIxD5KYeHLre"
      },
      "source": [
        ""
      ]
    },
    {
      "cell_type": "markdown",
      "metadata": {
        "id": "9Mfigh3L_GSw"
      },
      "source": [
        "# **CARREGAR DADOS COM TENSORFLOW**\n",
        "> Há duas formas de carregar dados no tensorflow:\n",
        "\n",
        "* Carregar dados para a memória usando pandas: se seu dataframe não for muito grande, ou seja, possui menos de 10GB.\n",
        "* Carregar dados com **Tensorflow Pipeline**: para carregar dataframes grandes e seu computador tem menos de 16GB de memória."
      ]
    },
    {
      "cell_type": "markdown",
      "metadata": {
        "id": "99FLHTaZz3xd"
      },
      "source": [
        "# **MACHINE LEARNING COM KERAS/TENSORFLOW**\n",
        "\n",
        "A seguir, os passos para implementar sua primeira RNA:\n",
        "* Data preprocessing;\n",
        "* Adicionar input layer;\n",
        "* Adicionar $W$ (aleatoriamente gerado);\n",
        "* Adicionar Hidden Layers;\n",
        "* Selecionar o otimizador, Loss e métrica de performance;\n",
        "* Compilar o modelo;\n",
        "* Treinar o modelo: Use model.fit()\n",
        "* Avaliar o modelo usando a métrica de performance definida anteriormente;\n",
        "* Parameter tunning ou ajuste dos parâmetros, se necessário."
      ]
    },
    {
      "cell_type": "markdown",
      "metadata": {
        "id": "pQ0YEDGvtieF"
      },
      "source": [
        "## Exemplo\n",
        "Que exemplo é esse?"
      ]
    },
    {
      "cell_type": "code",
      "metadata": {
        "id": "OsgLlt8mUkQk",
        "colab": {
          "base_uri": "https://localhost:8080/",
          "height": 34
        },
        "outputId": "41df12c3-80d5-4111-ee8a-3629efd65f4f"
      },
      "source": [
        "# magic word para usar a versão mais recente do tensorflow\n",
        "%tensorflow_version 2.x\n",
        "\n",
        "import tensorflow as tf\n",
        "from tensorflow import keras\n",
        "from tensorflow.keras import Sequential\n",
        "from tensorflow.keras.layers import Flatten, Dense\n",
        "\n",
        "# Versão do tensorflow. Assegure-se de estar usando a versão 2.x\n",
        "tf.__version__"
      ],
      "execution_count": null,
      "outputs": [
        {
          "output_type": "execute_result",
          "data": {
            "text/plain": [
              "'2.1.0'"
            ]
          },
          "metadata": {
            "tags": []
          },
          "execution_count": 52
        }
      ]
    },
    {
      "cell_type": "code",
      "metadata": {
        "id": "OudUkftyrmgM"
      },
      "source": [
        "import numpy as np\n",
        "import pandas as pd\n",
        "from sklearn.model_selection import train_test_split"
      ],
      "execution_count": null,
      "outputs": []
    },
    {
      "cell_type": "code",
      "metadata": {
        "id": "9JcJiYBBrp-U",
        "colab": {
          "base_uri": "https://localhost:8080/",
          "height": 224
        },
        "outputId": "9cbe46bb-af75-47b7-9960-5076a0b90c40"
      },
      "source": [
        "df = pd.read_csv('https://raw.githubusercontent.com/MathMachado/DataFrames/master/Customer_Churn_Modelling.csv')\n",
        "df.head()"
      ],
      "execution_count": null,
      "outputs": [
        {
          "output_type": "execute_result",
          "data": {
            "text/html": [
              "<div>\n",
              "<style scoped>\n",
              "    .dataframe tbody tr th:only-of-type {\n",
              "        vertical-align: middle;\n",
              "    }\n",
              "\n",
              "    .dataframe tbody tr th {\n",
              "        vertical-align: top;\n",
              "    }\n",
              "\n",
              "    .dataframe thead th {\n",
              "        text-align: right;\n",
              "    }\n",
              "</style>\n",
              "<table border=\"1\" class=\"dataframe\">\n",
              "  <thead>\n",
              "    <tr style=\"text-align: right;\">\n",
              "      <th></th>\n",
              "      <th>RowNumber</th>\n",
              "      <th>CustomerId</th>\n",
              "      <th>Surname</th>\n",
              "      <th>CreditScore</th>\n",
              "      <th>Geography</th>\n",
              "      <th>Gender</th>\n",
              "      <th>Age</th>\n",
              "      <th>Tenure</th>\n",
              "      <th>Balance</th>\n",
              "      <th>NumOfProducts</th>\n",
              "      <th>HasCrCard</th>\n",
              "      <th>IsActiveMember</th>\n",
              "      <th>EstimatedSalary</th>\n",
              "      <th>Exited</th>\n",
              "    </tr>\n",
              "  </thead>\n",
              "  <tbody>\n",
              "    <tr>\n",
              "      <th>0</th>\n",
              "      <td>1</td>\n",
              "      <td>15634602</td>\n",
              "      <td>Hargrave</td>\n",
              "      <td>619</td>\n",
              "      <td>France</td>\n",
              "      <td>Female</td>\n",
              "      <td>42</td>\n",
              "      <td>2</td>\n",
              "      <td>0.00</td>\n",
              "      <td>1</td>\n",
              "      <td>1</td>\n",
              "      <td>1</td>\n",
              "      <td>101348.88</td>\n",
              "      <td>1</td>\n",
              "    </tr>\n",
              "    <tr>\n",
              "      <th>1</th>\n",
              "      <td>2</td>\n",
              "      <td>15647311</td>\n",
              "      <td>Hill</td>\n",
              "      <td>608</td>\n",
              "      <td>Spain</td>\n",
              "      <td>Female</td>\n",
              "      <td>41</td>\n",
              "      <td>1</td>\n",
              "      <td>83807.86</td>\n",
              "      <td>1</td>\n",
              "      <td>0</td>\n",
              "      <td>1</td>\n",
              "      <td>112542.58</td>\n",
              "      <td>0</td>\n",
              "    </tr>\n",
              "    <tr>\n",
              "      <th>2</th>\n",
              "      <td>3</td>\n",
              "      <td>15619304</td>\n",
              "      <td>Onio</td>\n",
              "      <td>502</td>\n",
              "      <td>France</td>\n",
              "      <td>Female</td>\n",
              "      <td>42</td>\n",
              "      <td>8</td>\n",
              "      <td>159660.80</td>\n",
              "      <td>3</td>\n",
              "      <td>1</td>\n",
              "      <td>0</td>\n",
              "      <td>113931.57</td>\n",
              "      <td>1</td>\n",
              "    </tr>\n",
              "    <tr>\n",
              "      <th>3</th>\n",
              "      <td>4</td>\n",
              "      <td>15701354</td>\n",
              "      <td>Boni</td>\n",
              "      <td>699</td>\n",
              "      <td>France</td>\n",
              "      <td>Female</td>\n",
              "      <td>39</td>\n",
              "      <td>1</td>\n",
              "      <td>0.00</td>\n",
              "      <td>2</td>\n",
              "      <td>0</td>\n",
              "      <td>0</td>\n",
              "      <td>93826.63</td>\n",
              "      <td>0</td>\n",
              "    </tr>\n",
              "    <tr>\n",
              "      <th>4</th>\n",
              "      <td>5</td>\n",
              "      <td>15737888</td>\n",
              "      <td>Mitchell</td>\n",
              "      <td>850</td>\n",
              "      <td>Spain</td>\n",
              "      <td>Female</td>\n",
              "      <td>43</td>\n",
              "      <td>2</td>\n",
              "      <td>125510.82</td>\n",
              "      <td>1</td>\n",
              "      <td>1</td>\n",
              "      <td>1</td>\n",
              "      <td>79084.10</td>\n",
              "      <td>0</td>\n",
              "    </tr>\n",
              "  </tbody>\n",
              "</table>\n",
              "</div>"
            ],
            "text/plain": [
              "   RowNumber  CustomerId   Surname  ...  IsActiveMember EstimatedSalary Exited\n",
              "0          1    15634602  Hargrave  ...               1       101348.88      1\n",
              "1          2    15647311      Hill  ...               1       112542.58      0\n",
              "2          3    15619304      Onio  ...               0       113931.57      1\n",
              "3          4    15701354      Boni  ...               0        93826.63      0\n",
              "4          5    15737888  Mitchell  ...               1        79084.10      0\n",
              "\n",
              "[5 rows x 14 columns]"
            ]
          },
          "metadata": {
            "tags": []
          },
          "execution_count": 54
        }
      ]
    },
    {
      "cell_type": "code",
      "metadata": {
        "id": "KcdByyucpwpj"
      },
      "source": [
        "X = df.drop(labels=['CustomerId', 'Surname', 'RowNumber', 'Exited'], axis = 1)\n",
        "y = df['Exited']"
      ],
      "execution_count": null,
      "outputs": []
    },
    {
      "cell_type": "code",
      "metadata": {
        "id": "pDZ_7yATr7Rr",
        "colab": {
          "base_uri": "https://localhost:8080/",
          "height": 204
        },
        "outputId": "b0fd150e-02c4-4e8b-a497-997b715ea6cb"
      },
      "source": [
        "X.head()"
      ],
      "execution_count": null,
      "outputs": [
        {
          "output_type": "execute_result",
          "data": {
            "text/html": [
              "<div>\n",
              "<style scoped>\n",
              "    .dataframe tbody tr th:only-of-type {\n",
              "        vertical-align: middle;\n",
              "    }\n",
              "\n",
              "    .dataframe tbody tr th {\n",
              "        vertical-align: top;\n",
              "    }\n",
              "\n",
              "    .dataframe thead th {\n",
              "        text-align: right;\n",
              "    }\n",
              "</style>\n",
              "<table border=\"1\" class=\"dataframe\">\n",
              "  <thead>\n",
              "    <tr style=\"text-align: right;\">\n",
              "      <th></th>\n",
              "      <th>CreditScore</th>\n",
              "      <th>Geography</th>\n",
              "      <th>Gender</th>\n",
              "      <th>Age</th>\n",
              "      <th>Tenure</th>\n",
              "      <th>Balance</th>\n",
              "      <th>NumOfProducts</th>\n",
              "      <th>HasCrCard</th>\n",
              "      <th>IsActiveMember</th>\n",
              "      <th>EstimatedSalary</th>\n",
              "    </tr>\n",
              "  </thead>\n",
              "  <tbody>\n",
              "    <tr>\n",
              "      <th>0</th>\n",
              "      <td>619</td>\n",
              "      <td>France</td>\n",
              "      <td>Female</td>\n",
              "      <td>42</td>\n",
              "      <td>2</td>\n",
              "      <td>0.00</td>\n",
              "      <td>1</td>\n",
              "      <td>1</td>\n",
              "      <td>1</td>\n",
              "      <td>101348.88</td>\n",
              "    </tr>\n",
              "    <tr>\n",
              "      <th>1</th>\n",
              "      <td>608</td>\n",
              "      <td>Spain</td>\n",
              "      <td>Female</td>\n",
              "      <td>41</td>\n",
              "      <td>1</td>\n",
              "      <td>83807.86</td>\n",
              "      <td>1</td>\n",
              "      <td>0</td>\n",
              "      <td>1</td>\n",
              "      <td>112542.58</td>\n",
              "    </tr>\n",
              "    <tr>\n",
              "      <th>2</th>\n",
              "      <td>502</td>\n",
              "      <td>France</td>\n",
              "      <td>Female</td>\n",
              "      <td>42</td>\n",
              "      <td>8</td>\n",
              "      <td>159660.80</td>\n",
              "      <td>3</td>\n",
              "      <td>1</td>\n",
              "      <td>0</td>\n",
              "      <td>113931.57</td>\n",
              "    </tr>\n",
              "    <tr>\n",
              "      <th>3</th>\n",
              "      <td>699</td>\n",
              "      <td>France</td>\n",
              "      <td>Female</td>\n",
              "      <td>39</td>\n",
              "      <td>1</td>\n",
              "      <td>0.00</td>\n",
              "      <td>2</td>\n",
              "      <td>0</td>\n",
              "      <td>0</td>\n",
              "      <td>93826.63</td>\n",
              "    </tr>\n",
              "    <tr>\n",
              "      <th>4</th>\n",
              "      <td>850</td>\n",
              "      <td>Spain</td>\n",
              "      <td>Female</td>\n",
              "      <td>43</td>\n",
              "      <td>2</td>\n",
              "      <td>125510.82</td>\n",
              "      <td>1</td>\n",
              "      <td>1</td>\n",
              "      <td>1</td>\n",
              "      <td>79084.10</td>\n",
              "    </tr>\n",
              "  </tbody>\n",
              "</table>\n",
              "</div>"
            ],
            "text/plain": [
              "   CreditScore Geography  Gender  ...  HasCrCard  IsActiveMember  EstimatedSalary\n",
              "0          619    France  Female  ...          1               1        101348.88\n",
              "1          608     Spain  Female  ...          0               1        112542.58\n",
              "2          502    France  Female  ...          1               0        113931.57\n",
              "3          699    France  Female  ...          0               0         93826.63\n",
              "4          850     Spain  Female  ...          1               1         79084.10\n",
              "\n",
              "[5 rows x 10 columns]"
            ]
          },
          "metadata": {
            "tags": []
          },
          "execution_count": 56
        }
      ]
    },
    {
      "cell_type": "code",
      "metadata": {
        "id": "Lk0PnuCSsAW4",
        "colab": {
          "base_uri": "https://localhost:8080/",
          "height": 204
        },
        "outputId": "273f4423-051d-45bf-f832-8dd421d01772"
      },
      "source": [
        "from sklearn.preprocessing import LabelEncoder\n",
        "\n",
        "le = LabelEncoder()\n",
        "X['Geography'] = le.fit_transform(X['Geography'])\n",
        "X.head()"
      ],
      "execution_count": null,
      "outputs": [
        {
          "output_type": "execute_result",
          "data": {
            "text/html": [
              "<div>\n",
              "<style scoped>\n",
              "    .dataframe tbody tr th:only-of-type {\n",
              "        vertical-align: middle;\n",
              "    }\n",
              "\n",
              "    .dataframe tbody tr th {\n",
              "        vertical-align: top;\n",
              "    }\n",
              "\n",
              "    .dataframe thead th {\n",
              "        text-align: right;\n",
              "    }\n",
              "</style>\n",
              "<table border=\"1\" class=\"dataframe\">\n",
              "  <thead>\n",
              "    <tr style=\"text-align: right;\">\n",
              "      <th></th>\n",
              "      <th>CreditScore</th>\n",
              "      <th>Geography</th>\n",
              "      <th>Gender</th>\n",
              "      <th>Age</th>\n",
              "      <th>Tenure</th>\n",
              "      <th>Balance</th>\n",
              "      <th>NumOfProducts</th>\n",
              "      <th>HasCrCard</th>\n",
              "      <th>IsActiveMember</th>\n",
              "      <th>EstimatedSalary</th>\n",
              "    </tr>\n",
              "  </thead>\n",
              "  <tbody>\n",
              "    <tr>\n",
              "      <th>0</th>\n",
              "      <td>619</td>\n",
              "      <td>0</td>\n",
              "      <td>Female</td>\n",
              "      <td>42</td>\n",
              "      <td>2</td>\n",
              "      <td>0.00</td>\n",
              "      <td>1</td>\n",
              "      <td>1</td>\n",
              "      <td>1</td>\n",
              "      <td>101348.88</td>\n",
              "    </tr>\n",
              "    <tr>\n",
              "      <th>1</th>\n",
              "      <td>608</td>\n",
              "      <td>2</td>\n",
              "      <td>Female</td>\n",
              "      <td>41</td>\n",
              "      <td>1</td>\n",
              "      <td>83807.86</td>\n",
              "      <td>1</td>\n",
              "      <td>0</td>\n",
              "      <td>1</td>\n",
              "      <td>112542.58</td>\n",
              "    </tr>\n",
              "    <tr>\n",
              "      <th>2</th>\n",
              "      <td>502</td>\n",
              "      <td>0</td>\n",
              "      <td>Female</td>\n",
              "      <td>42</td>\n",
              "      <td>8</td>\n",
              "      <td>159660.80</td>\n",
              "      <td>3</td>\n",
              "      <td>1</td>\n",
              "      <td>0</td>\n",
              "      <td>113931.57</td>\n",
              "    </tr>\n",
              "    <tr>\n",
              "      <th>3</th>\n",
              "      <td>699</td>\n",
              "      <td>0</td>\n",
              "      <td>Female</td>\n",
              "      <td>39</td>\n",
              "      <td>1</td>\n",
              "      <td>0.00</td>\n",
              "      <td>2</td>\n",
              "      <td>0</td>\n",
              "      <td>0</td>\n",
              "      <td>93826.63</td>\n",
              "    </tr>\n",
              "    <tr>\n",
              "      <th>4</th>\n",
              "      <td>850</td>\n",
              "      <td>2</td>\n",
              "      <td>Female</td>\n",
              "      <td>43</td>\n",
              "      <td>2</td>\n",
              "      <td>125510.82</td>\n",
              "      <td>1</td>\n",
              "      <td>1</td>\n",
              "      <td>1</td>\n",
              "      <td>79084.10</td>\n",
              "    </tr>\n",
              "  </tbody>\n",
              "</table>\n",
              "</div>"
            ],
            "text/plain": [
              "   CreditScore  Geography  Gender  ...  HasCrCard  IsActiveMember  EstimatedSalary\n",
              "0          619          0  Female  ...          1               1        101348.88\n",
              "1          608          2  Female  ...          0               1        112542.58\n",
              "2          502          0  Female  ...          1               0        113931.57\n",
              "3          699          0  Female  ...          0               0         93826.63\n",
              "4          850          2  Female  ...          1               1         79084.10\n",
              "\n",
              "[5 rows x 10 columns]"
            ]
          },
          "metadata": {
            "tags": []
          },
          "execution_count": 58
        }
      ]
    },
    {
      "cell_type": "code",
      "metadata": {
        "id": "3Ejk_RuLsJev",
        "colab": {
          "base_uri": "https://localhost:8080/",
          "height": 204
        },
        "outputId": "3a4922fb-119b-40dd-ca1c-60dfa5f749fa"
      },
      "source": [
        "X['Gender'] = le.fit_transform(X['Gender'])\n",
        "X.head()"
      ],
      "execution_count": null,
      "outputs": [
        {
          "output_type": "execute_result",
          "data": {
            "text/html": [
              "<div>\n",
              "<style scoped>\n",
              "    .dataframe tbody tr th:only-of-type {\n",
              "        vertical-align: middle;\n",
              "    }\n",
              "\n",
              "    .dataframe tbody tr th {\n",
              "        vertical-align: top;\n",
              "    }\n",
              "\n",
              "    .dataframe thead th {\n",
              "        text-align: right;\n",
              "    }\n",
              "</style>\n",
              "<table border=\"1\" class=\"dataframe\">\n",
              "  <thead>\n",
              "    <tr style=\"text-align: right;\">\n",
              "      <th></th>\n",
              "      <th>CreditScore</th>\n",
              "      <th>Geography</th>\n",
              "      <th>Gender</th>\n",
              "      <th>Age</th>\n",
              "      <th>Tenure</th>\n",
              "      <th>Balance</th>\n",
              "      <th>NumOfProducts</th>\n",
              "      <th>HasCrCard</th>\n",
              "      <th>IsActiveMember</th>\n",
              "      <th>EstimatedSalary</th>\n",
              "    </tr>\n",
              "  </thead>\n",
              "  <tbody>\n",
              "    <tr>\n",
              "      <th>0</th>\n",
              "      <td>619</td>\n",
              "      <td>0</td>\n",
              "      <td>0</td>\n",
              "      <td>42</td>\n",
              "      <td>2</td>\n",
              "      <td>0.00</td>\n",
              "      <td>1</td>\n",
              "      <td>1</td>\n",
              "      <td>1</td>\n",
              "      <td>101348.88</td>\n",
              "    </tr>\n",
              "    <tr>\n",
              "      <th>1</th>\n",
              "      <td>608</td>\n",
              "      <td>2</td>\n",
              "      <td>0</td>\n",
              "      <td>41</td>\n",
              "      <td>1</td>\n",
              "      <td>83807.86</td>\n",
              "      <td>1</td>\n",
              "      <td>0</td>\n",
              "      <td>1</td>\n",
              "      <td>112542.58</td>\n",
              "    </tr>\n",
              "    <tr>\n",
              "      <th>2</th>\n",
              "      <td>502</td>\n",
              "      <td>0</td>\n",
              "      <td>0</td>\n",
              "      <td>42</td>\n",
              "      <td>8</td>\n",
              "      <td>159660.80</td>\n",
              "      <td>3</td>\n",
              "      <td>1</td>\n",
              "      <td>0</td>\n",
              "      <td>113931.57</td>\n",
              "    </tr>\n",
              "    <tr>\n",
              "      <th>3</th>\n",
              "      <td>699</td>\n",
              "      <td>0</td>\n",
              "      <td>0</td>\n",
              "      <td>39</td>\n",
              "      <td>1</td>\n",
              "      <td>0.00</td>\n",
              "      <td>2</td>\n",
              "      <td>0</td>\n",
              "      <td>0</td>\n",
              "      <td>93826.63</td>\n",
              "    </tr>\n",
              "    <tr>\n",
              "      <th>4</th>\n",
              "      <td>850</td>\n",
              "      <td>2</td>\n",
              "      <td>0</td>\n",
              "      <td>43</td>\n",
              "      <td>2</td>\n",
              "      <td>125510.82</td>\n",
              "      <td>1</td>\n",
              "      <td>1</td>\n",
              "      <td>1</td>\n",
              "      <td>79084.10</td>\n",
              "    </tr>\n",
              "  </tbody>\n",
              "</table>\n",
              "</div>"
            ],
            "text/plain": [
              "   CreditScore  Geography  Gender  ...  HasCrCard  IsActiveMember  EstimatedSalary\n",
              "0          619          0       0  ...          1               1        101348.88\n",
              "1          608          2       0  ...          0               1        112542.58\n",
              "2          502          0       0  ...          1               0        113931.57\n",
              "3          699          0       0  ...          0               0         93826.63\n",
              "4          850          2       0  ...          1               1         79084.10\n",
              "\n",
              "[5 rows x 10 columns]"
            ]
          },
          "metadata": {
            "tags": []
          },
          "execution_count": 59
        }
      ]
    },
    {
      "cell_type": "code",
      "metadata": {
        "id": "_4Yl3ExBsQ1D",
        "colab": {
          "base_uri": "https://localhost:8080/",
          "height": 204
        },
        "outputId": "5f4f35a7-33fc-4bd2-f5cd-66427ecc3112"
      },
      "source": [
        "X = pd.get_dummies(X, drop_first=True, columns=['Geography'])\n",
        "X.head()"
      ],
      "execution_count": null,
      "outputs": [
        {
          "output_type": "execute_result",
          "data": {
            "text/html": [
              "<div>\n",
              "<style scoped>\n",
              "    .dataframe tbody tr th:only-of-type {\n",
              "        vertical-align: middle;\n",
              "    }\n",
              "\n",
              "    .dataframe tbody tr th {\n",
              "        vertical-align: top;\n",
              "    }\n",
              "\n",
              "    .dataframe thead th {\n",
              "        text-align: right;\n",
              "    }\n",
              "</style>\n",
              "<table border=\"1\" class=\"dataframe\">\n",
              "  <thead>\n",
              "    <tr style=\"text-align: right;\">\n",
              "      <th></th>\n",
              "      <th>CreditScore</th>\n",
              "      <th>Gender</th>\n",
              "      <th>Age</th>\n",
              "      <th>Tenure</th>\n",
              "      <th>Balance</th>\n",
              "      <th>NumOfProducts</th>\n",
              "      <th>HasCrCard</th>\n",
              "      <th>IsActiveMember</th>\n",
              "      <th>EstimatedSalary</th>\n",
              "      <th>Geography_1</th>\n",
              "      <th>Geography_2</th>\n",
              "    </tr>\n",
              "  </thead>\n",
              "  <tbody>\n",
              "    <tr>\n",
              "      <th>0</th>\n",
              "      <td>619</td>\n",
              "      <td>0</td>\n",
              "      <td>42</td>\n",
              "      <td>2</td>\n",
              "      <td>0.00</td>\n",
              "      <td>1</td>\n",
              "      <td>1</td>\n",
              "      <td>1</td>\n",
              "      <td>101348.88</td>\n",
              "      <td>0</td>\n",
              "      <td>0</td>\n",
              "    </tr>\n",
              "    <tr>\n",
              "      <th>1</th>\n",
              "      <td>608</td>\n",
              "      <td>0</td>\n",
              "      <td>41</td>\n",
              "      <td>1</td>\n",
              "      <td>83807.86</td>\n",
              "      <td>1</td>\n",
              "      <td>0</td>\n",
              "      <td>1</td>\n",
              "      <td>112542.58</td>\n",
              "      <td>0</td>\n",
              "      <td>1</td>\n",
              "    </tr>\n",
              "    <tr>\n",
              "      <th>2</th>\n",
              "      <td>502</td>\n",
              "      <td>0</td>\n",
              "      <td>42</td>\n",
              "      <td>8</td>\n",
              "      <td>159660.80</td>\n",
              "      <td>3</td>\n",
              "      <td>1</td>\n",
              "      <td>0</td>\n",
              "      <td>113931.57</td>\n",
              "      <td>0</td>\n",
              "      <td>0</td>\n",
              "    </tr>\n",
              "    <tr>\n",
              "      <th>3</th>\n",
              "      <td>699</td>\n",
              "      <td>0</td>\n",
              "      <td>39</td>\n",
              "      <td>1</td>\n",
              "      <td>0.00</td>\n",
              "      <td>2</td>\n",
              "      <td>0</td>\n",
              "      <td>0</td>\n",
              "      <td>93826.63</td>\n",
              "      <td>0</td>\n",
              "      <td>0</td>\n",
              "    </tr>\n",
              "    <tr>\n",
              "      <th>4</th>\n",
              "      <td>850</td>\n",
              "      <td>0</td>\n",
              "      <td>43</td>\n",
              "      <td>2</td>\n",
              "      <td>125510.82</td>\n",
              "      <td>1</td>\n",
              "      <td>1</td>\n",
              "      <td>1</td>\n",
              "      <td>79084.10</td>\n",
              "      <td>0</td>\n",
              "      <td>1</td>\n",
              "    </tr>\n",
              "  </tbody>\n",
              "</table>\n",
              "</div>"
            ],
            "text/plain": [
              "   CreditScore  Gender  Age  ...  EstimatedSalary  Geography_1  Geography_2\n",
              "0          619       0   42  ...        101348.88            0            0\n",
              "1          608       0   41  ...        112542.58            0            1\n",
              "2          502       0   42  ...        113931.57            0            0\n",
              "3          699       0   39  ...         93826.63            0            0\n",
              "4          850       0   43  ...         79084.10            0            1\n",
              "\n",
              "[5 rows x 11 columns]"
            ]
          },
          "metadata": {
            "tags": []
          },
          "execution_count": 60
        }
      ]
    },
    {
      "cell_type": "markdown",
      "metadata": {
        "id": "9bQZPM_VsWNB"
      },
      "source": [
        "### Feature Standardization"
      ]
    },
    {
      "cell_type": "code",
      "metadata": {
        "id": "Zc7utLWosacd"
      },
      "source": [
        "from sklearn.preprocessing import StandardScaler"
      ],
      "execution_count": null,
      "outputs": []
    },
    {
      "cell_type": "code",
      "metadata": {
        "id": "LqeZrXKosdcY"
      },
      "source": [
        "X_train, X_test, y_train, y_test = train_test_split(X, y, test_size = 0.2, random_state = 0, stratify = y)"
      ],
      "execution_count": null,
      "outputs": []
    },
    {
      "cell_type": "code",
      "metadata": {
        "id": "46csysaNshB1",
        "colab": {
          "base_uri": "https://localhost:8080/",
          "height": 238
        },
        "outputId": "2ab6529c-cb94-4771-e798-0ca16ad03697"
      },
      "source": [
        "ss = StandardScaler()\n",
        "X_train = ss.fit_transform(X_train)\n",
        "X_test = ss.transform(X_test)\n",
        "\n",
        "X_train"
      ],
      "execution_count": null,
      "outputs": [
        {
          "output_type": "execute_result",
          "data": {
            "text/plain": [
              "array([[-1.24021723, -1.09665089,  0.77986083, ...,  1.64099027,\n",
              "        -0.57812007, -0.57504086],\n",
              "       [ 0.75974873,  0.91186722, -0.27382717, ..., -1.55587522,\n",
              "         1.72974448, -0.57504086],\n",
              "       [-1.72725557, -1.09665089, -0.9443559 , ...,  1.1038111 ,\n",
              "        -0.57812007, -0.57504086],\n",
              "       ...,\n",
              "       [-0.51484098,  0.91186722,  0.87565065, ..., -1.01507508,\n",
              "         1.72974448, -0.57504086],\n",
              "       [ 0.73902369, -1.09665089, -0.36961699, ..., -1.47887193,\n",
              "        -0.57812007, -0.57504086],\n",
              "       [ 0.95663657,  0.91186722, -1.32751517, ...,  0.50945854,\n",
              "        -0.57812007,  1.73900686]])"
            ]
          },
          "metadata": {
            "tags": []
          },
          "execution_count": 63
        }
      ]
    },
    {
      "cell_type": "markdown",
      "metadata": {
        "id": "1nL-4zT9spud"
      },
      "source": [
        "### Construir RNA"
      ]
    },
    {
      "cell_type": "code",
      "metadata": {
        "id": "3XtMbI56shIp"
      },
      "source": [
        "model = Sequential()\n",
        "model.add(Dense(X.shape[1], activation='relu', input_dim = X.shape[1]))\n",
        "model.add(Dense(128, activation='relu'))\n",
        "model.add(Dense(1, activation = 'sigmoid'))"
      ],
      "execution_count": null,
      "outputs": []
    },
    {
      "cell_type": "code",
      "metadata": {
        "id": "3F1jm1joshGK",
        "colab": {
          "base_uri": "https://localhost:8080/",
          "height": 34
        },
        "outputId": "d5ad18bf-07e2-435a-d5d9-dcbcb05a6ae1"
      },
      "source": [
        "X.shape[1]"
      ],
      "execution_count": null,
      "outputs": [
        {
          "output_type": "execute_result",
          "data": {
            "text/plain": [
              "11"
            ]
          },
          "metadata": {
            "tags": []
          },
          "execution_count": 65
        }
      ]
    },
    {
      "cell_type": "code",
      "metadata": {
        "id": "Kf1pR83ds05e"
      },
      "source": [
        "model.compile(optimizer='adam', loss = 'binary_crossentropy', metrics=['accuracy'])"
      ],
      "execution_count": null,
      "outputs": []
    },
    {
      "cell_type": "code",
      "metadata": {
        "id": "xLQR7j-Is4Kw",
        "colab": {
          "base_uri": "https://localhost:8080/",
          "height": 391
        },
        "outputId": "e53253a7-dd47-47e4-d920-fcf530acc863"
      },
      "source": [
        "model.fit(X_train, y_train.to_numpy(), batch_size = 10, epochs = 10, verbose = 1)"
      ],
      "execution_count": null,
      "outputs": [
        {
          "output_type": "stream",
          "text": [
            "Train on 8000 samples\n",
            "Epoch 1/10\n",
            "8000/8000 [==============================] - 2s 262us/sample - loss: 0.4591 - accuracy: 0.7989\n",
            "Epoch 2/10\n",
            "8000/8000 [==============================] - 1s 182us/sample - loss: 0.4013 - accuracy: 0.8330\n",
            "Epoch 3/10\n",
            "8000/8000 [==============================] - 1s 183us/sample - loss: 0.3684 - accuracy: 0.8456\n",
            "Epoch 4/10\n",
            "8000/8000 [==============================] - 2s 194us/sample - loss: 0.3541 - accuracy: 0.8569\n",
            "Epoch 5/10\n",
            "8000/8000 [==============================] - 1s 182us/sample - loss: 0.3454 - accuracy: 0.8580\n",
            "Epoch 6/10\n",
            "8000/8000 [==============================] - 1s 187us/sample - loss: 0.3417 - accuracy: 0.8585\n",
            "Epoch 7/10\n",
            "8000/8000 [==============================] - 1s 183us/sample - loss: 0.3393 - accuracy: 0.8620\n",
            "Epoch 8/10\n",
            "8000/8000 [==============================] - 1s 187us/sample - loss: 0.3369 - accuracy: 0.8627\n",
            "Epoch 9/10\n",
            "8000/8000 [==============================] - 2s 189us/sample - loss: 0.3351 - accuracy: 0.8629\n",
            "Epoch 10/10\n",
            "8000/8000 [==============================] - 2s 189us/sample - loss: 0.3324 - accuracy: 0.8634\n"
          ],
          "name": "stdout"
        },
        {
          "output_type": "execute_result",
          "data": {
            "text/plain": [
              "<tensorflow.python.keras.callbacks.History at 0x7ff892d71048>"
            ]
          },
          "metadata": {
            "tags": []
          },
          "execution_count": 67
        }
      ]
    },
    {
      "cell_type": "code",
      "metadata": {
        "id": "8NdOfYMls8Pk",
        "colab": {
          "base_uri": "https://localhost:8080/",
          "height": 136
        },
        "outputId": "863c0ce1-f848-4e2a-ef2d-d713ddeeaa5e"
      },
      "source": [
        "y_pred = model.predict_classes(X_test)\n",
        "y_pred"
      ],
      "execution_count": null,
      "outputs": [
        {
          "output_type": "execute_result",
          "data": {
            "text/plain": [
              "array([[0],\n",
              "       [0],\n",
              "       [0],\n",
              "       ...,\n",
              "       [0],\n",
              "       [1],\n",
              "       [0]], dtype=int32)"
            ]
          },
          "metadata": {
            "tags": []
          },
          "execution_count": 68
        }
      ]
    },
    {
      "cell_type": "code",
      "metadata": {
        "id": "t85VV2Z6tDnr",
        "colab": {
          "base_uri": "https://localhost:8080/",
          "height": 51
        },
        "outputId": "393b59b5-f8a3-440e-a5b0-0af485d2667b"
      },
      "source": [
        "model.evaluate(X_test, y_test.to_numpy())"
      ],
      "execution_count": null,
      "outputs": [
        {
          "output_type": "stream",
          "text": [
            "2000/2000 [==============================] - 0s 80us/sample - loss: 0.3459 - accuracy: 0.8495\n"
          ],
          "name": "stdout"
        },
        {
          "output_type": "execute_result",
          "data": {
            "text/plain": [
              "[0.3458917052745819, 0.8495]"
            ]
          },
          "metadata": {
            "tags": []
          },
          "execution_count": 69
        }
      ]
    },
    {
      "cell_type": "code",
      "metadata": {
        "id": "pvEHp1BFtLiu",
        "colab": {
          "base_uri": "https://localhost:8080/",
          "height": 51
        },
        "outputId": "b8e2eb52-8d62-4cda-90f9-d12d00245ebe"
      },
      "source": [
        "from sklearn.metrics import confusion_matrix, accuracy_score\n",
        "\n",
        "confusion_matrix(y_test, y_pred)"
      ],
      "execution_count": null,
      "outputs": [
        {
          "output_type": "execute_result",
          "data": {
            "text/plain": [
              "array([[1504,   89],\n",
              "       [ 212,  195]])"
            ]
          },
          "metadata": {
            "tags": []
          },
          "execution_count": 70
        }
      ]
    },
    {
      "cell_type": "code",
      "metadata": {
        "id": "h_Q0N4c-tQiM",
        "colab": {
          "base_uri": "https://localhost:8080/",
          "height": 34
        },
        "outputId": "b8037ee4-9e0c-49ce-89f4-e8f517aeaf2e"
      },
      "source": [
        "accuracy_score(y_test, y_pred)"
      ],
      "execution_count": null,
      "outputs": [
        {
          "output_type": "execute_result",
          "data": {
            "text/plain": [
              "0.8495"
            ]
          },
          "metadata": {
            "tags": []
          },
          "execution_count": 71
        }
      ]
    },
    {
      "cell_type": "markdown",
      "metadata": {
        "id": "JpZXRoaI9Goy"
      },
      "source": [
        "___\n",
        "## Iris Flowers Classification Dataset\n",
        "\n",
        "n this tutorial we will use the standard machine learning problem called the iris flowers dataset.\n",
        "This dataset is well studied and is a good problem for practicing on neural networks because\n",
        "all of the 4 input variables are numeric and have the same scale in centimeters. Each instance\n",
        "describes the properties of an observed flower measurements and the output variable is specific\n",
        "iris species. The attributes for this dataset can be summarized as follows:\n",
        "1. Sepal length in centimeters.\n",
        "2. Sepal width in centimeters.\n",
        "3. Petal length in centimeters.\n",
        "4. Petal width in centimeters.\n",
        "5. Class.\n",
        "\n",
        "\n",
        "Página 59 do Livro Deep_Learning_With_Python.pdf do Jason."
      ]
    },
    {
      "cell_type": "markdown",
      "metadata": {
        "id": "9A_mAgTg-PdK"
      },
      "source": [
        "___\n",
        "## Boston House Prices\n",
        "\n",
        "Página 74 do Jason."
      ]
    },
    {
      "cell_type": "markdown",
      "metadata": {
        "id": "xOMij5CBa2Jy"
      },
      "source": [
        "___\n",
        "## Fashion MINIST\n",
        "> O exemplo a seguir treina uma rede neural para classificar imagens de roupas (tênis, sapatos, camisas, camisetas e etc) usando keras/tensorflow.\n",
        "\n",
        "## Os dados\n",
        "* Vamos usar o dataframe Fashion MNIST contendo 70.000 imagens;\n",
        "* As imagens são arrays NumPy de 28x28, com os valores dos pixels entre 0 e 255;\n",
        "* os dataframes y_train e y_test são arrays de inteiros com valores entre 0 e 9, que são as 10 categorias (target) que queremos estimar. A seguir, o significado de cada categoria:\n",
        "\n",
        "| Label | Significado |\n",
        "|---|---|\n",
        "| 0 | Camisetas, top (T-shirt) |\n",
        "| 1 | Calças (Trouser) |\n",
        "| 2 | Suéter (Pullover) |\n",
        "| 3 | Vestidos (Dress) |\n",
        "| 4\t| Casaco (Coat) |\n",
        "| 5\t| Sandálias (Sandal) |\n",
        "| 6\t| Camisas (Shirt) |\n",
        "| 7\t| Tênis (Sneaker) |\n",
        "| 8\t| Bolsa (Bag) |\n",
        "| 9\t| Botas (Ankle boot) |\n"
      ]
    },
    {
      "cell_type": "markdown",
      "metadata": {
        "id": "qLLns6dHbk1v"
      },
      "source": [
        "### Carregar os dados do dataframe Fashion MNIST"
      ]
    },
    {
      "cell_type": "code",
      "metadata": {
        "id": "peyjAEIjb9GY"
      },
      "source": [
        "# magic word para usar a versão mais recente do tensorflow\n",
        "%tensorflow_version 2.x"
      ],
      "execution_count": null,
      "outputs": []
    },
    {
      "cell_type": "code",
      "metadata": {
        "id": "vE65OlzZbwR0",
        "colab": {
          "base_uri": "https://localhost:8080/",
          "height": 34
        },
        "outputId": "2757d7bd-23ca-4cb2-d9b6-39513c55d81c"
      },
      "source": [
        "from __future__ import absolute_import, division, print_function, unicode_literals\n",
        "\n",
        "# TensorFlow e tf.keras\n",
        "import tensorflow as tf\n",
        "from tensorflow import keras\n",
        "\n",
        "# Libraries auxiliares\n",
        "import numpy as np\n",
        "import pandas as pd\n",
        "import matplotlib.pyplot as plt\n",
        "\n",
        "print(tf.__version__)"
      ],
      "execution_count": null,
      "outputs": [
        {
          "output_type": "stream",
          "text": [
            "2.1.0-rc1\n"
          ],
          "name": "stdout"
        }
      ]
    },
    {
      "cell_type": "markdown",
      "metadata": {
        "id": "vdZFcgFfiggR"
      },
      "source": [
        "Ok, agora estamos usando a versão mais recente do tensorflow!"
      ]
    },
    {
      "cell_type": "code",
      "metadata": {
        "id": "CAqoNwzdixND"
      },
      "source": [
        "# Libraries auxiliares\n",
        "import numpy as np\n",
        "import pandas as pd\n",
        "import matplotlib.pyplot as plt"
      ],
      "execution_count": null,
      "outputs": []
    },
    {
      "cell_type": "code",
      "metadata": {
        "id": "ScRfP3L8biRY",
        "colab": {
          "base_uri": "https://localhost:8080/",
          "height": 171
        },
        "outputId": "206b41ff-4940-4f53-c844-0f6df9debc37"
      },
      "source": [
        "Fashion_MNIST= keras.datasets.fashion_mnist\n",
        "(X_train, y_train), (X_test, y_test)= Fashion_MNIST.load_data()"
      ],
      "execution_count": null,
      "outputs": [
        {
          "output_type": "stream",
          "text": [
            "Downloading data from https://storage.googleapis.com/tensorflow/tf-keras-datasets/train-labels-idx1-ubyte.gz\n",
            "32768/29515 [=================================] - 0s 0us/step\n",
            "Downloading data from https://storage.googleapis.com/tensorflow/tf-keras-datasets/train-images-idx3-ubyte.gz\n",
            "26427392/26421880 [==============================] - 0s 0us/step\n",
            "Downloading data from https://storage.googleapis.com/tensorflow/tf-keras-datasets/t10k-labels-idx1-ubyte.gz\n",
            "8192/5148 [===============================================] - 0s 0us/step\n",
            "Downloading data from https://storage.googleapis.com/tensorflow/tf-keras-datasets/t10k-images-idx3-ubyte.gz\n",
            "4423680/4422102 [==============================] - 0s 0us/step\n"
          ],
          "name": "stdout"
        }
      ]
    },
    {
      "cell_type": "markdown",
      "metadata": {
        "id": "jwBV3Bb6jv_Y"
      },
      "source": [
        "Convem normalizarmos/padronizarmos os dados dos dataframes X_train e X_test para o intervalo 0 e 1. Acompanhe a seguir:"
      ]
    },
    {
      "cell_type": "code",
      "metadata": {
        "id": "rXuJZlgmkC5H"
      },
      "source": [
        "X_train_N= X_train/255\n",
        "X_test_N= X_test/255"
      ],
      "execution_count": null,
      "outputs": []
    },
    {
      "cell_type": "markdown",
      "metadata": {
        "id": "taNmYlwVeoBP"
      },
      "source": [
        "### EDA - Análise Exploratória de Dados"
      ]
    },
    {
      "cell_type": "code",
      "metadata": {
        "id": "Q-haJeMOcu2H",
        "colab": {
          "base_uri": "https://localhost:8080/",
          "height": 34
        },
        "outputId": "b723247a-7421-4901-dd82-c0f2ab0c09d6"
      },
      "source": [
        "(X_train.shape, y_train.shape)"
      ],
      "execution_count": null,
      "outputs": [
        {
          "output_type": "execute_result",
          "data": {
            "text/plain": [
              "((60000, 28, 28), (60000,))"
            ]
          },
          "metadata": {
            "tags": []
          },
          "execution_count": 38
        }
      ]
    },
    {
      "cell_type": "markdown",
      "metadata": {
        "id": "T90s0LExeyxd"
      },
      "source": [
        "Como podemos ver, o dataframe X_train possui 60k instâncias, de 28x28 pixels. Da mesma forma, o dataframe y_train possui 60k labels para treinamento."
      ]
    },
    {
      "cell_type": "code",
      "metadata": {
        "id": "hYWwM2WsfItA",
        "colab": {
          "base_uri": "https://localhost:8080/",
          "height": 185
        },
        "outputId": "01ac3f54-2659-41f4-b71c-6e343a2d1d6a"
      },
      "source": [
        "unique, counts = np.unique(y_train, return_counts=True)\n",
        "print(np.asarray((unique, counts)).T)"
      ],
      "execution_count": null,
      "outputs": [
        {
          "output_type": "stream",
          "text": [
            "[[   0 6000]\n",
            " [   1 6000]\n",
            " [   2 6000]\n",
            " [   3 6000]\n",
            " [   4 6000]\n",
            " [   5 6000]\n",
            " [   6 6000]\n",
            " [   7 6000]\n",
            " [   8 6000]\n",
            " [   9 6000]]\n"
          ],
          "name": "stdout"
        }
      ]
    },
    {
      "cell_type": "markdown",
      "metadata": {
        "id": "JsMxObXYgIAU"
      },
      "source": [
        "Como podemos ver, cada label (categoria ou classe) do dataframe y_train tem uma frequência de 6k instâncias."
      ]
    },
    {
      "cell_type": "markdown",
      "metadata": {
        "id": "u3wc-O5ogRYl"
      },
      "source": [
        "### Data Preprocessing\n",
        "> Compare as escalas da mesma figura a seguir. A primeira figura é a original e a segunda figura é uma transformação da primeira, ou seja, normalizamos (dividi por 255). O ideal é usarmos X_train_N para treinamento do modelo. Observe a diferença nas escalas da primeira e segunda figuras."
      ]
    },
    {
      "cell_type": "code",
      "metadata": {
        "id": "xPVYn9R0gV0W",
        "colab": {
          "base_uri": "https://localhost:8080/",
          "height": 265
        },
        "outputId": "ae4c4952-e02c-4377-f4bc-a2e7a7cac784"
      },
      "source": [
        "plt.figure()\n",
        "plt.imshow(X_train[0])\n",
        "plt.colorbar()\n",
        "plt.grid(False)\n",
        "plt.show()"
      ],
      "execution_count": null,
      "outputs": [
        {
          "output_type": "display_data",
          "data": {
            "image/png": "[encoded data removed]",
            "text/plain": [
              "<Figure size 432x288 with 2 Axes>"
            ]
          },
          "metadata": {
            "tags": []
          }
        }
      ]
    },
    {
      "cell_type": "code",
      "metadata": {
        "id": "BuyMLS3kkLyP",
        "colab": {
          "base_uri": "https://localhost:8080/",
          "height": 269
        },
        "outputId": "0f8207c7-3665-4e15-e377-01daa24fa643"
      },
      "source": [
        "plt.figure()\n",
        "plt.imshow(X_train_N[0])\n",
        "plt.colorbar()\n",
        "plt.grid(False)\n",
        "plt.show()"
      ],
      "execution_count": null,
      "outputs": [
        {
          "output_type": "display_data",
          "data": {
            "image/png": "[encoded data removed]",
            "text/plain": [
              "<Figure size 432x288 with 2 Axes>"
            ]
          },
          "metadata": {
            "tags": []
          }
        }
      ]
    },
    {
      "cell_type": "markdown",
      "metadata": {
        "id": "tGHi8pazpY79"
      },
      "source": [
        "A seguir, vamos visualizar algumas imagens do dataframe X_train_N:"
      ]
    },
    {
      "cell_type": "code",
      "metadata": {
        "id": "A3KXTVnCpokB"
      },
      "source": [
        "y_labels= ['T-shirt/top', 'Trouser', 'Pullover', 'Dress', 'Coat', 'Sandal', 'Shirt', 'Sneaker', 'Bag', 'Ankle boot']"
      ],
      "execution_count": null,
      "outputs": []
    },
    {
      "cell_type": "code",
      "metadata": {
        "id": "ubQrU1GSpdY1",
        "colab": {
          "base_uri": "https://localhost:8080/",
          "height": 554
        },
        "outputId": "ca56fe6b-8371-4307-f443-3d9f73133199"
      },
      "source": [
        "plt.figure(figsize=(10,10))\n",
        "for i in range(40):\n",
        "    plt.subplot(5, 8, i+1)\n",
        "    plt.xticks([])\n",
        "    plt.yticks([])\n",
        "    plt.grid(False)\n",
        "    plt.imshow(X_train_N[i], cmap=plt.cm.binary)\n",
        "    plt.xlabel(y_labels[y_train[i]])\n",
        "plt.show()"
      ],
      "execution_count": null,
      "outputs": [
        {
          "output_type": "display_data",
          "data": {
            "image/png": "[encoded data removed]",
            "text/plain": [
              "<Figure size 720x720 with 40 Axes>"
            ]
          },
          "metadata": {
            "tags": []
          }
        }
      ]
    },
    {
      "cell_type": "markdown",
      "metadata": {
        "id": "-npQ6fpTqZvG"
      },
      "source": [
        "### Construir o modelo preditivo\n",
        "> O principal bloco para construção de modelos de redes neurais é a camada (layer), pois são estas camadas que extraem padrões/representações dos dados inseridos na rede neural. Acompanhe a seguir:"
      ]
    },
    {
      "cell_type": "code",
      "metadata": {
        "id": "UIDK9Czxq6Jv"
      },
      "source": [
        "Model_RN= keras.Sequential([keras.layers.Flatten(input_shape=(28, 28)), \n",
        "                            keras.layers.Dense(128, activation='relu'), \n",
        "                            keras.layers.Dense(10, activation='softmax')])"
      ],
      "execution_count": null,
      "outputs": []
    },
    {
      "cell_type": "markdown",
      "metadata": {
        "id": "NwJYX6PBr_1U"
      },
      "source": [
        "* A primeira camada da rede neural (tf.keras.layers.Flatten) transforma o array com a imagem de duas dimensões (28x28 pixels) para um array de dimensão 28*28= 784 pixels. Isso equivale à operação de achatamento dos pixels. Para entender melhor, consulte [Using the Keras Flatten Operation in CNN Models with Code Examples](https://missinglink.ai/guides/keras/using-keras-flatten-operation-cnn-models-code-examples/).\n",
        "* Depois do achatamento dos pixels, temos duas camadas sequenciais chamadas Dense:\n",
        "    * tf.keras.layers.Dense(128, activation='relu'): definimos 128 neurônios.\n",
        "    * tf.keras.layers.Dense(10, activation='softmax'): definimos uma camada Dense softmax com 10 neurônios. Esse é o output, ao qual teremos como retorno um array de 10 probabilidades onde soma= 1. Ou seja, temos 10 categorias e esta camada nos retornará a probabilidade da imagem pertencer á categoria 0, 1, 2, e assim por diante."
      ]
    },
    {
      "cell_type": "markdown",
      "metadata": {
        "id": "nNMpB2FZu2Di"
      },
      "source": [
        "### Configurar o modelo\n",
        "> Precisamos definir:\n",
        "\n",
        "* **Função Loss**: função a ser minimizada que tem por objetivo medir a precisão do modelo durante a fase de treinamento. Ou seja, quanto menor a _Loss_, melhor é o modelo.\n",
        "* **Optimizer**: Forma como a Rede Neural se atualiza com base nos dados e a função Loss;\n",
        "* **Métricas**: Definir a métrica que será usada para monitoriar o treinamento e teste da Rede Neural."
      ]
    },
    {
      "cell_type": "code",
      "metadata": {
        "id": "jPCvYuRmvnam"
      },
      "source": [
        "Model_RN.compile(optimizer= 'adam', loss= 'sparse_categorical_crossentropy', metrics= ['accuracy'])"
      ],
      "execution_count": null,
      "outputs": []
    },
    {
      "cell_type": "markdown",
      "metadata": {
        "id": "o1tfmF3xv6o2"
      },
      "source": [
        "### Treinar a Rede Neural"
      ]
    },
    {
      "cell_type": "code",
      "metadata": {
        "id": "xTpexqpuwEo0",
        "colab": {
          "base_uri": "https://localhost:8080/",
          "height": 1000
        },
        "outputId": "23abc395-8c16-46db-f2b5-9ac885a7a30d"
      },
      "source": [
        "Model_RN.fit(X_train_N, y_train, epochs= 50)"
      ],
      "execution_count": null,
      "outputs": [
        {
          "output_type": "stream",
          "text": [
            "Train on 60000 samples\n",
            "Epoch 1/50\n",
            "60000/60000 [==============================] - 5s 86us/sample - loss: 0.5005 - accuracy: 0.8245\n",
            "Epoch 2/50\n",
            "60000/60000 [==============================] - 5s 76us/sample - loss: 0.3773 - accuracy: 0.8646\n",
            "Epoch 3/50\n",
            "60000/60000 [==============================] - 5s 76us/sample - loss: 0.3376 - accuracy: 0.8773\n",
            "Epoch 4/50\n",
            "60000/60000 [==============================] - 5s 77us/sample - loss: 0.3172 - accuracy: 0.8826\n",
            "Epoch 5/50\n",
            "60000/60000 [==============================] - 5s 78us/sample - loss: 0.2971 - accuracy: 0.8895\n",
            "Epoch 6/50\n",
            "60000/60000 [==============================] - 5s 77us/sample - loss: 0.2797 - accuracy: 0.8968\n",
            "Epoch 7/50\n",
            "60000/60000 [==============================] - 5s 78us/sample - loss: 0.2677 - accuracy: 0.9002\n",
            "Epoch 8/50\n",
            "60000/60000 [==============================] - 5s 76us/sample - loss: 0.2571 - accuracy: 0.9034\n",
            "Epoch 9/50\n",
            "60000/60000 [==============================] - 5s 84us/sample - loss: 0.2487 - accuracy: 0.9071\n",
            "Epoch 10/50\n",
            "60000/60000 [==============================] - 5s 88us/sample - loss: 0.2398 - accuracy: 0.9109\n",
            "Epoch 11/50\n",
            "60000/60000 [==============================] - 5s 80us/sample - loss: 0.2286 - accuracy: 0.9141\n",
            "Epoch 12/50\n",
            "60000/60000 [==============================] - 5s 76us/sample - loss: 0.2243 - accuracy: 0.9158\n",
            "Epoch 13/50\n",
            "60000/60000 [==============================] - 5s 77us/sample - loss: 0.2173 - accuracy: 0.9183\n",
            "Epoch 14/50\n",
            "60000/60000 [==============================] - 5s 77us/sample - loss: 0.2109 - accuracy: 0.9197\n",
            "Epoch 15/50\n",
            "60000/60000 [==============================] - 4s 74us/sample - loss: 0.2050 - accuracy: 0.9241\n",
            "Epoch 16/50\n",
            "60000/60000 [==============================] - 5s 75us/sample - loss: 0.1993 - accuracy: 0.9252\n",
            "Epoch 17/50\n",
            "60000/60000 [==============================] - 5s 76us/sample - loss: 0.1959 - accuracy: 0.9269\n",
            "Epoch 18/50\n",
            "60000/60000 [==============================] - 5s 77us/sample - loss: 0.1897 - accuracy: 0.9293\n",
            "Epoch 19/50\n",
            "60000/60000 [==============================] - 4s 75us/sample - loss: 0.1846 - accuracy: 0.9310\n",
            "Epoch 20/50\n",
            "60000/60000 [==============================] - 5s 75us/sample - loss: 0.1800 - accuracy: 0.9313\n",
            "Epoch 21/50\n",
            "60000/60000 [==============================] - 5s 77us/sample - loss: 0.1757 - accuracy: 0.9344\n",
            "Epoch 22/50\n",
            "60000/60000 [==============================] - 4s 75us/sample - loss: 0.1714 - accuracy: 0.9353\n",
            "Epoch 23/50\n",
            "60000/60000 [==============================] - 5s 75us/sample - loss: 0.1677 - accuracy: 0.9370\n",
            "Epoch 24/50\n",
            "60000/60000 [==============================] - 4s 74us/sample - loss: 0.1661 - accuracy: 0.9375\n",
            "Epoch 25/50\n",
            "60000/60000 [==============================] - 4s 75us/sample - loss: 0.1607 - accuracy: 0.9409\n",
            "Epoch 26/50\n",
            "60000/60000 [==============================] - 4s 75us/sample - loss: 0.1580 - accuracy: 0.9412\n",
            "Epoch 27/50\n",
            "60000/60000 [==============================] - 4s 74us/sample - loss: 0.1545 - accuracy: 0.9426\n",
            "Epoch 28/50\n",
            "60000/60000 [==============================] - 5s 76us/sample - loss: 0.1519 - accuracy: 0.9425\n",
            "Epoch 29/50\n",
            "60000/60000 [==============================] - 5s 75us/sample - loss: 0.1481 - accuracy: 0.9449\n",
            "Epoch 30/50\n",
            "60000/60000 [==============================] - 5s 77us/sample - loss: 0.1452 - accuracy: 0.9456\n",
            "Epoch 31/50\n",
            "60000/60000 [==============================] - 5s 77us/sample - loss: 0.1416 - accuracy: 0.9466\n",
            "Epoch 32/50\n",
            "60000/60000 [==============================] - 5s 76us/sample - loss: 0.1408 - accuracy: 0.9467\n",
            "Epoch 33/50\n",
            "60000/60000 [==============================] - 5s 76us/sample - loss: 0.1362 - accuracy: 0.9488\n",
            "Epoch 34/50\n",
            "60000/60000 [==============================] - 5s 77us/sample - loss: 0.1351 - accuracy: 0.9501\n",
            "Epoch 35/50\n",
            "60000/60000 [==============================] - 5s 77us/sample - loss: 0.1309 - accuracy: 0.9502\n",
            "Epoch 36/50\n",
            "60000/60000 [==============================] - 5s 76us/sample - loss: 0.1288 - accuracy: 0.9524\n",
            "Epoch 37/50\n",
            "60000/60000 [==============================] - 5s 77us/sample - loss: 0.1297 - accuracy: 0.9516\n",
            "Epoch 38/50\n",
            "60000/60000 [==============================] - 5s 77us/sample - loss: 0.1246 - accuracy: 0.9531\n",
            "Epoch 39/50\n",
            "60000/60000 [==============================] - 5s 76us/sample - loss: 0.1222 - accuracy: 0.9552\n",
            "Epoch 40/50\n",
            "60000/60000 [==============================] - 5s 77us/sample - loss: 0.1222 - accuracy: 0.9541\n",
            "Epoch 41/50\n",
            "60000/60000 [==============================] - 5s 76us/sample - loss: 0.1190 - accuracy: 0.9552\n",
            "Epoch 42/50\n",
            "60000/60000 [==============================] - 4s 73us/sample - loss: 0.1174 - accuracy: 0.9554\n",
            "Epoch 43/50\n",
            "60000/60000 [==============================] - 5s 77us/sample - loss: 0.1145 - accuracy: 0.9569\n",
            "Epoch 44/50\n",
            "60000/60000 [==============================] - 5s 76us/sample - loss: 0.1143 - accuracy: 0.9581\n",
            "Epoch 45/50\n",
            "60000/60000 [==============================] - 5s 75us/sample - loss: 0.1120 - accuracy: 0.9576\n",
            "Epoch 46/50\n",
            "60000/60000 [==============================] - 4s 74us/sample - loss: 0.1117 - accuracy: 0.9579\n",
            "Epoch 47/50\n",
            "60000/60000 [==============================] - 5s 75us/sample - loss: 0.1062 - accuracy: 0.9602\n",
            "Epoch 48/50\n",
            "60000/60000 [==============================] - 5s 76us/sample - loss: 0.1086 - accuracy: 0.9591\n",
            "Epoch 49/50\n",
            "60000/60000 [==============================] - 4s 74us/sample - loss: 0.1047 - accuracy: 0.9611\n",
            "Epoch 50/50\n",
            "60000/60000 [==============================] - 4s 75us/sample - loss: 0.1026 - accuracy: 0.9613\n"
          ],
          "name": "stdout"
        },
        {
          "output_type": "execute_result",
          "data": {
            "text/plain": [
              "<tensorflow.python.keras.callbacks.History at 0x7efb4eb950f0>"
            ]
          },
          "metadata": {
            "tags": []
          },
          "execution_count": 46
        }
      ]
    },
    {
      "cell_type": "markdown",
      "metadata": {
        "id": "SzeUs5uPwbpD"
      },
      "source": [
        "Após 50 épocas, obtivemos um modelo com acurácia de 98.34%. Muito bom!"
      ]
    },
    {
      "cell_type": "markdown",
      "metadata": {
        "id": "uIbVnLpnwxVa"
      },
      "source": [
        "### Medindo a Acurácia\n",
        "> A métrica que usamos para monitorar a Rede Neural foi Accuracy. Vamos verificar agora usar a mesma métrica para avaliar a acurácia do modelo no dataframe de teste."
      ]
    },
    {
      "cell_type": "code",
      "metadata": {
        "id": "qRIs-G0JxCwY",
        "colab": {
          "base_uri": "https://localhost:8080/",
          "height": 67
        },
        "outputId": "596025f1-461e-47a3-f467-535b1b0cf680"
      },
      "source": [
        "y_test_loss, y_test_acc= Model_RN.evaluate(X_test_N, y_test, verbose= 2)\n",
        "print('\\nTest accuracy:', y_test_acc)"
      ],
      "execution_count": null,
      "outputs": [
        {
          "output_type": "stream",
          "text": [
            "10000/1 - 1s - loss: 0.2711 - accuracy: 0.8904\n",
            "\n",
            "Test accuracy: 0.8904\n"
          ],
          "name": "stdout"
        }
      ]
    },
    {
      "cell_type": "markdown",
      "metadata": {
        "id": "O6Ay7VwBxpHR"
      },
      "source": [
        "**INTERPRETAÇÃO**: a acurácia no dataframe y_test (validação) é (muito) menor do que a acurácia de y_train (treinamento). Essa diferença entre as duas acurácias representa um overfitting. Overfitting surge quando o resultado em y_test (dados não utilizados para treinamento do modelo) é pior que o resultado de y_train."
      ]
    },
    {
      "cell_type": "markdown",
      "metadata": {
        "id": "Afd_UpsuyS8C"
      },
      "source": [
        "### Predições"
      ]
    },
    {
      "cell_type": "code",
      "metadata": {
        "id": "XOyfxXrSyWAd"
      },
      "source": [
        "y_pred= Model_RN.predict(X_test_N)"
      ],
      "execution_count": null,
      "outputs": []
    },
    {
      "cell_type": "markdown",
      "metadata": {
        "id": "Fo_ZpiHryqTY"
      },
      "source": [
        "Lembre-se que a y_pred é um array de 10 probabilidades. Vamos avaliar a primeira predição:"
      ]
    },
    {
      "cell_type": "code",
      "metadata": {
        "id": "n8edcCB0yzRF",
        "colab": {
          "base_uri": "https://localhost:8080/",
          "height": 67
        },
        "outputId": "6def4b2a-3b5f-4aa3-a9fa-4a281476e299"
      },
      "source": [
        "y_pred[0]"
      ],
      "execution_count": null,
      "outputs": [
        {
          "output_type": "execute_result",
          "data": {
            "text/plain": [
              "array([1.4271622e-34, 1.2993041e-31, 1.5284919e-31, 7.2490952e-38,\n",
              "       0.0000000e+00, 8.6461194e-18, 0.0000000e+00, 3.1409135e-12,\n",
              "       1.1627606e-26, 1.0000000e+00], dtype=float32)"
            ]
          },
          "metadata": {
            "tags": []
          },
          "execution_count": 75
        }
      ]
    },
    {
      "cell_type": "code",
      "metadata": {
        "id": "D41VQFUOyk0L",
        "colab": {
          "base_uri": "https://localhost:8080/",
          "height": 34
        },
        "outputId": "522a86b0-0d4a-4f39-b60c-a3c6673615ab"
      },
      "source": [
        "np.argmax(y_pred[0])"
      ],
      "execution_count": null,
      "outputs": [
        {
          "output_type": "execute_result",
          "data": {
            "text/plain": [
              "9"
            ]
          },
          "metadata": {
            "tags": []
          },
          "execution_count": 76
        }
      ]
    },
    {
      "cell_type": "markdown",
      "metadata": {
        "id": "w6ek042Zy_8W"
      },
      "source": [
        "A predição para a primeira imagem de X_test é categoria 9, ou seja, uma bota (ankle boot). Vamos ver se esta classificação está correta:"
      ]
    },
    {
      "cell_type": "code",
      "metadata": {
        "id": "zI9wb1p2zSJn",
        "colab": {
          "base_uri": "https://localhost:8080/",
          "height": 34
        },
        "outputId": "4029f83e-f3fb-46ce-cb50-f9366a05d22d"
      },
      "source": [
        "y_test[0]"
      ],
      "execution_count": null,
      "outputs": [
        {
          "output_type": "execute_result",
          "data": {
            "text/plain": [
              "9"
            ]
          },
          "metadata": {
            "tags": []
          },
          "execution_count": 77
        }
      ]
    },
    {
      "cell_type": "markdown",
      "metadata": {
        "id": "Z5DsDqNyzXbS"
      },
      "source": [
        "Então aqui temos um acerto, pois de fato a imagem original é uma bota."
      ]
    },
    {
      "cell_type": "markdown",
      "metadata": {
        "id": "teEcEiaHwhWO"
      },
      "source": [
        "___\n",
        "## Breast Cancer Detection Using CNN\n",
        "\n",
        "Fonte: https://www.youtube.com/watch?v=Y6UDeGRyNZk\n",
        "\n",
        "Notebook: https://github.com/laxmimerit/Breast-Cancer-Detection-Using-CNN-in-Python"
      ]
    },
    {
      "cell_type": "code",
      "metadata": {
        "id": "vpPxbM26xCi2",
        "colab": {
          "base_uri": "https://localhost:8080/",
          "height": 51
        },
        "outputId": "b5f54c2a-ef85-4cc7-8863-3ad4bf504086"
      },
      "source": [
        "# magic word para usar a versão mais recente do tensorflow\n",
        "%tensorflow_version 2.x\n",
        "\n",
        "import tensorflow as tf\n",
        "from tensorflow import keras\n",
        "from tensorflow.keras import Sequential\n",
        "from tensorflow.keras.layers import Flatten, Dense, Dropout, BatchNormalization\n",
        "from tensorflow.keras.layers import Conv1D, MaxPool1D\n",
        "\n",
        "from tensorflow.keras.optimizers import Adam\n",
        "\n",
        "print(tf.__version__)"
      ],
      "execution_count": null,
      "outputs": [
        {
          "output_type": "stream",
          "text": [
            "TensorFlow 2.x selected.\n",
            "2.1.0\n"
          ],
          "name": "stdout"
        }
      ]
    },
    {
      "cell_type": "code",
      "metadata": {
        "id": "ut0DUTO9xIUL"
      },
      "source": [
        "import pandas as pd\n",
        "import numpy as np\n",
        "import  seaborn as sns\n",
        "import matplotlib.pyplot as plt"
      ],
      "execution_count": null,
      "outputs": []
    },
    {
      "cell_type": "code",
      "metadata": {
        "id": "2d5uus5BxI38"
      },
      "source": [
        "from sklearn import datasets, metrics\n",
        "from sklearn.model_selection import train_test_split\n",
        "from sklearn.preprocessing import StandardScaler"
      ],
      "execution_count": null,
      "outputs": []
    },
    {
      "cell_type": "code",
      "metadata": {
        "id": "-SFZjlXexJVd"
      },
      "source": [
        "df_Cancer = datasets.load_breast_cancer()"
      ],
      "execution_count": null,
      "outputs": []
    },
    {
      "cell_type": "code",
      "metadata": {
        "id": "0VV3epkbxJfG",
        "colab": {
          "base_uri": "https://localhost:8080/",
          "height": 1000
        },
        "outputId": "f954cbfe-13fa-4df6-dd9d-ffd4279a8add"
      },
      "source": [
        "print(df_Cancer.DESCR)"
      ],
      "execution_count": null,
      "outputs": [
        {
          "output_type": "stream",
          "text": [
            ".. _breast_cancer_dataset:\n",
            "\n",
            "Breast cancer wisconsin (diagnostic) dataset\n",
            "--------------------------------------------\n",
            "\n",
            "**Data Set Characteristics:**\n",
            "\n",
            "    :Number of Instances: 569\n",
            "\n",
            "    :Number of Attributes: 30 numeric, predictive attributes and the class\n",
            "\n",
            "    :Attribute Information:\n",
            "        - radius (mean of distances from center to points on the perimeter)\n",
            "        - texture (standard deviation of gray-scale values)\n",
            "        - perimeter\n",
            "        - area\n",
            "        - smoothness (local variation in radius lengths)\n",
            "        - compactness (perimeter^2 / area - 1.0)\n",
            "        - concavity (severity of concave portions of the contour)\n",
            "        - concave points (number of concave portions of the contour)\n",
            "        - symmetry \n",
            "        - fractal dimension (\"coastline approximation\" - 1)\n",
            "\n",
            "        The mean, standard error, and \"worst\" or largest (mean of the three\n",
            "        largest values) of these features were computed for each image,\n",
            "        resulting in 30 features.  For instance, field 3 is Mean Radius, field\n",
            "        13 is Radius SE, field 23 is Worst Radius.\n",
            "\n",
            "        - class:\n",
            "                - WDBC-Malignant\n",
            "                - WDBC-Benign\n",
            "\n",
            "    :Summary Statistics:\n",
            "\n",
            "    ===================================== ====== ======\n",
            "                                           Min    Max\n",
            "    ===================================== ====== ======\n",
            "    radius (mean):                        6.981  28.11\n",
            "    texture (mean):                       9.71   39.28\n",
            "    perimeter (mean):                     43.79  188.5\n",
            "    area (mean):                          143.5  2501.0\n",
            "    smoothness (mean):                    0.053  0.163\n",
            "    compactness (mean):                   0.019  0.345\n",
            "    concavity (mean):                     0.0    0.427\n",
            "    concave points (mean):                0.0    0.201\n",
            "    symmetry (mean):                      0.106  0.304\n",
            "    fractal dimension (mean):             0.05   0.097\n",
            "    radius (standard error):              0.112  2.873\n",
            "    texture (standard error):             0.36   4.885\n",
            "    perimeter (standard error):           0.757  21.98\n",
            "    area (standard error):                6.802  542.2\n",
            "    smoothness (standard error):          0.002  0.031\n",
            "    compactness (standard error):         0.002  0.135\n",
            "    concavity (standard error):           0.0    0.396\n",
            "    concave points (standard error):      0.0    0.053\n",
            "    symmetry (standard error):            0.008  0.079\n",
            "    fractal dimension (standard error):   0.001  0.03\n",
            "    radius (worst):                       7.93   36.04\n",
            "    texture (worst):                      12.02  49.54\n",
            "    perimeter (worst):                    50.41  251.2\n",
            "    area (worst):                         185.2  4254.0\n",
            "    smoothness (worst):                   0.071  0.223\n",
            "    compactness (worst):                  0.027  1.058\n",
            "    concavity (worst):                    0.0    1.252\n",
            "    concave points (worst):               0.0    0.291\n",
            "    symmetry (worst):                     0.156  0.664\n",
            "    fractal dimension (worst):            0.055  0.208\n",
            "    ===================================== ====== ======\n",
            "\n",
            "    :Missing Attribute Values: None\n",
            "\n",
            "    :Class Distribution: 212 - Malignant, 357 - Benign\n",
            "\n",
            "    :Creator:  Dr. William H. Wolberg, W. Nick Street, Olvi L. Mangasarian\n",
            "\n",
            "    :Donor: Nick Street\n",
            "\n",
            "    :Date: November, 1995\n",
            "\n",
            "This is a copy of UCI ML Breast Cancer Wisconsin (Diagnostic) datasets.\n",
            "https://goo.gl/U2Uwz2\n",
            "\n",
            "Features are computed from a digitized image of a fine needle\n",
            "aspirate (FNA) of a breast mass.  They describe\n",
            "characteristics of the cell nuclei present in the image.\n",
            "\n",
            "Separating plane described above was obtained using\n",
            "Multisurface Method-Tree (MSM-T) [K. P. Bennett, \"Decision Tree\n",
            "Construction Via Linear Programming.\" Proceedings of the 4th\n",
            "Midwest Artificial Intelligence and Cognitive Science Society,\n",
            "pp. 97-101, 1992], a classification method which uses linear\n",
            "programming to construct a decision tree.  Relevant features\n",
            "were selected using an exhaustive search in the space of 1-4\n",
            "features and 1-3 separating planes.\n",
            "\n",
            "The actual linear program used to obtain the separating plane\n",
            "in the 3-dimensional space is that described in:\n",
            "[K. P. Bennett and O. L. Mangasarian: \"Robust Linear\n",
            "Programming Discrimination of Two Linearly Inseparable Sets\",\n",
            "Optimization Methods and Software 1, 1992, 23-34].\n",
            "\n",
            "This database is also available through the UW CS ftp server:\n",
            "\n",
            "ftp ftp.cs.wisc.edu\n",
            "cd math-prog/cpo-dataset/machine-learn/WDBC/\n",
            "\n",
            ".. topic:: References\n",
            "\n",
            "   - W.N. Street, W.H. Wolberg and O.L. Mangasarian. Nuclear feature extraction \n",
            "     for breast tumor diagnosis. IS&T/SPIE 1993 International Symposium on \n",
            "     Electronic Imaging: Science and Technology, volume 1905, pages 861-870,\n",
            "     San Jose, CA, 1993.\n",
            "   - O.L. Mangasarian, W.N. Street and W.H. Wolberg. Breast cancer diagnosis and \n",
            "     prognosis via linear programming. Operations Research, 43(4), pages 570-577, \n",
            "     July-August 1995.\n",
            "   - W.H. Wolberg, W.N. Street, and O.L. Mangasarian. Machine learning techniques\n",
            "     to diagnose breast cancer from fine-needle aspirates. Cancer Letters 77 (1994) \n",
            "     163-171.\n"
          ],
          "name": "stdout"
        }
      ]
    },
    {
      "cell_type": "code",
      "metadata": {
        "id": "6oBXMl2ExJa7",
        "colab": {
          "base_uri": "https://localhost:8080/",
          "height": 258
        },
        "outputId": "e084e45f-7c2b-4bee-b111-b58ce883cc67"
      },
      "source": [
        "X = pd.DataFrame(data = df_Cancer.data, columns= df_Cancer.feature_names)\n",
        "X.head()"
      ],
      "execution_count": null,
      "outputs": [
        {
          "output_type": "execute_result",
          "data": {
            "text/html": [
              "<div>\n",
              "<style scoped>\n",
              "    .dataframe tbody tr th:only-of-type {\n",
              "        vertical-align: middle;\n",
              "    }\n",
              "\n",
              "    .dataframe tbody tr th {\n",
              "        vertical-align: top;\n",
              "    }\n",
              "\n",
              "    .dataframe thead th {\n",
              "        text-align: right;\n",
              "    }\n",
              "</style>\n",
              "<table border=\"1\" class=\"dataframe\">\n",
              "  <thead>\n",
              "    <tr style=\"text-align: right;\">\n",
              "      <th></th>\n",
              "      <th>mean radius</th>\n",
              "      <th>mean texture</th>\n",
              "      <th>mean perimeter</th>\n",
              "      <th>mean area</th>\n",
              "      <th>mean smoothness</th>\n",
              "      <th>mean compactness</th>\n",
              "      <th>mean concavity</th>\n",
              "      <th>mean concave points</th>\n",
              "      <th>mean symmetry</th>\n",
              "      <th>mean fractal dimension</th>\n",
              "      <th>radius error</th>\n",
              "      <th>texture error</th>\n",
              "      <th>perimeter error</th>\n",
              "      <th>area error</th>\n",
              "      <th>smoothness error</th>\n",
              "      <th>compactness error</th>\n",
              "      <th>concavity error</th>\n",
              "      <th>concave points error</th>\n",
              "      <th>symmetry error</th>\n",
              "      <th>fractal dimension error</th>\n",
              "      <th>worst radius</th>\n",
              "      <th>worst texture</th>\n",
              "      <th>worst perimeter</th>\n",
              "      <th>worst area</th>\n",
              "      <th>worst smoothness</th>\n",
              "      <th>worst compactness</th>\n",
              "      <th>worst concavity</th>\n",
              "      <th>worst concave points</th>\n",
              "      <th>worst symmetry</th>\n",
              "      <th>worst fractal dimension</th>\n",
              "    </tr>\n",
              "  </thead>\n",
              "  <tbody>\n",
              "    <tr>\n",
              "      <th>0</th>\n",
              "      <td>17.99</td>\n",
              "      <td>10.38</td>\n",
              "      <td>122.80</td>\n",
              "      <td>1001.0</td>\n",
              "      <td>0.11840</td>\n",
              "      <td>0.27760</td>\n",
              "      <td>0.3001</td>\n",
              "      <td>0.14710</td>\n",
              "      <td>0.2419</td>\n",
              "      <td>0.07871</td>\n",
              "      <td>1.0950</td>\n",
              "      <td>0.9053</td>\n",
              "      <td>8.589</td>\n",
              "      <td>153.40</td>\n",
              "      <td>0.006399</td>\n",
              "      <td>0.04904</td>\n",
              "      <td>0.05373</td>\n",
              "      <td>0.01587</td>\n",
              "      <td>0.03003</td>\n",
              "      <td>0.006193</td>\n",
              "      <td>25.38</td>\n",
              "      <td>17.33</td>\n",
              "      <td>184.60</td>\n",
              "      <td>2019.0</td>\n",
              "      <td>0.1622</td>\n",
              "      <td>0.6656</td>\n",
              "      <td>0.7119</td>\n",
              "      <td>0.2654</td>\n",
              "      <td>0.4601</td>\n",
              "      <td>0.11890</td>\n",
              "    </tr>\n",
              "    <tr>\n",
              "      <th>1</th>\n",
              "      <td>20.57</td>\n",
              "      <td>17.77</td>\n",
              "      <td>132.90</td>\n",
              "      <td>1326.0</td>\n",
              "      <td>0.08474</td>\n",
              "      <td>0.07864</td>\n",
              "      <td>0.0869</td>\n",
              "      <td>0.07017</td>\n",
              "      <td>0.1812</td>\n",
              "      <td>0.05667</td>\n",
              "      <td>0.5435</td>\n",
              "      <td>0.7339</td>\n",
              "      <td>3.398</td>\n",
              "      <td>74.08</td>\n",
              "      <td>0.005225</td>\n",
              "      <td>0.01308</td>\n",
              "      <td>0.01860</td>\n",
              "      <td>0.01340</td>\n",
              "      <td>0.01389</td>\n",
              "      <td>0.003532</td>\n",
              "      <td>24.99</td>\n",
              "      <td>23.41</td>\n",
              "      <td>158.80</td>\n",
              "      <td>1956.0</td>\n",
              "      <td>0.1238</td>\n",
              "      <td>0.1866</td>\n",
              "      <td>0.2416</td>\n",
              "      <td>0.1860</td>\n",
              "      <td>0.2750</td>\n",
              "      <td>0.08902</td>\n",
              "    </tr>\n",
              "    <tr>\n",
              "      <th>2</th>\n",
              "      <td>19.69</td>\n",
              "      <td>21.25</td>\n",
              "      <td>130.00</td>\n",
              "      <td>1203.0</td>\n",
              "      <td>0.10960</td>\n",
              "      <td>0.15990</td>\n",
              "      <td>0.1974</td>\n",
              "      <td>0.12790</td>\n",
              "      <td>0.2069</td>\n",
              "      <td>0.05999</td>\n",
              "      <td>0.7456</td>\n",
              "      <td>0.7869</td>\n",
              "      <td>4.585</td>\n",
              "      <td>94.03</td>\n",
              "      <td>0.006150</td>\n",
              "      <td>0.04006</td>\n",
              "      <td>0.03832</td>\n",
              "      <td>0.02058</td>\n",
              "      <td>0.02250</td>\n",
              "      <td>0.004571</td>\n",
              "      <td>23.57</td>\n",
              "      <td>25.53</td>\n",
              "      <td>152.50</td>\n",
              "      <td>1709.0</td>\n",
              "      <td>0.1444</td>\n",
              "      <td>0.4245</td>\n",
              "      <td>0.4504</td>\n",
              "      <td>0.2430</td>\n",
              "      <td>0.3613</td>\n",
              "      <td>0.08758</td>\n",
              "    </tr>\n",
              "    <tr>\n",
              "      <th>3</th>\n",
              "      <td>11.42</td>\n",
              "      <td>20.38</td>\n",
              "      <td>77.58</td>\n",
              "      <td>386.1</td>\n",
              "      <td>0.14250</td>\n",
              "      <td>0.28390</td>\n",
              "      <td>0.2414</td>\n",
              "      <td>0.10520</td>\n",
              "      <td>0.2597</td>\n",
              "      <td>0.09744</td>\n",
              "      <td>0.4956</td>\n",
              "      <td>1.1560</td>\n",
              "      <td>3.445</td>\n",
              "      <td>27.23</td>\n",
              "      <td>0.009110</td>\n",
              "      <td>0.07458</td>\n",
              "      <td>0.05661</td>\n",
              "      <td>0.01867</td>\n",
              "      <td>0.05963</td>\n",
              "      <td>0.009208</td>\n",
              "      <td>14.91</td>\n",
              "      <td>26.50</td>\n",
              "      <td>98.87</td>\n",
              "      <td>567.7</td>\n",
              "      <td>0.2098</td>\n",
              "      <td>0.8663</td>\n",
              "      <td>0.6869</td>\n",
              "      <td>0.2575</td>\n",
              "      <td>0.6638</td>\n",
              "      <td>0.17300</td>\n",
              "    </tr>\n",
              "    <tr>\n",
              "      <th>4</th>\n",
              "      <td>20.29</td>\n",
              "      <td>14.34</td>\n",
              "      <td>135.10</td>\n",
              "      <td>1297.0</td>\n",
              "      <td>0.10030</td>\n",
              "      <td>0.13280</td>\n",
              "      <td>0.1980</td>\n",
              "      <td>0.10430</td>\n",
              "      <td>0.1809</td>\n",
              "      <td>0.05883</td>\n",
              "      <td>0.7572</td>\n",
              "      <td>0.7813</td>\n",
              "      <td>5.438</td>\n",
              "      <td>94.44</td>\n",
              "      <td>0.011490</td>\n",
              "      <td>0.02461</td>\n",
              "      <td>0.05688</td>\n",
              "      <td>0.01885</td>\n",
              "      <td>0.01756</td>\n",
              "      <td>0.005115</td>\n",
              "      <td>22.54</td>\n",
              "      <td>16.67</td>\n",
              "      <td>152.20</td>\n",
              "      <td>1575.0</td>\n",
              "      <td>0.1374</td>\n",
              "      <td>0.2050</td>\n",
              "      <td>0.4000</td>\n",
              "      <td>0.1625</td>\n",
              "      <td>0.2364</td>\n",
              "      <td>0.07678</td>\n",
              "    </tr>\n",
              "  </tbody>\n",
              "</table>\n",
              "</div>"
            ],
            "text/plain": [
              "   mean radius  mean texture  ...  worst symmetry  worst fractal dimension\n",
              "0        17.99         10.38  ...          0.4601                  0.11890\n",
              "1        20.57         17.77  ...          0.2750                  0.08902\n",
              "2        19.69         21.25  ...          0.3613                  0.08758\n",
              "3        11.42         20.38  ...          0.6638                  0.17300\n",
              "4        20.29         14.34  ...          0.2364                  0.07678\n",
              "\n",
              "[5 rows x 30 columns]"
            ]
          },
          "metadata": {
            "tags": []
          },
          "execution_count": 8
        }
      ]
    },
    {
      "cell_type": "code",
      "metadata": {
        "id": "xBsX1u-hxJSt",
        "colab": {
          "base_uri": "https://localhost:8080/",
          "height": 459
        },
        "outputId": "8807a4ef-4986-423e-b874-0aa6a49e4c9c"
      },
      "source": [
        "y = df_Cancer.target\n",
        "y"
      ],
      "execution_count": null,
      "outputs": [
        {
          "output_type": "execute_result",
          "data": {
            "text/plain": [
              "array([0, 0, 0, 0, 0, 0, 0, 0, 0, 0, 0, 0, 0, 0, 0, 0, 0, 0, 0, 1, 1, 1,\n",
              "       0, 0, 0, 0, 0, 0, 0, 0, 0, 0, 0, 0, 0, 0, 0, 1, 0, 0, 0, 0, 0, 0,\n",
              "       0, 0, 1, 0, 1, 1, 1, 1, 1, 0, 0, 1, 0, 0, 1, 1, 1, 1, 0, 1, 0, 0,\n",
              "       1, 1, 1, 1, 0, 1, 0, 0, 1, 0, 1, 0, 0, 1, 1, 1, 0, 0, 1, 0, 0, 0,\n",
              "       1, 1, 1, 0, 1, 1, 0, 0, 1, 1, 1, 0, 0, 1, 1, 1, 1, 0, 1, 1, 0, 1,\n",
              "       1, 1, 1, 1, 1, 1, 1, 0, 0, 0, 1, 0, 0, 1, 1, 1, 0, 0, 1, 0, 1, 0,\n",
              "       0, 1, 0, 0, 1, 1, 0, 1, 1, 0, 1, 1, 1, 1, 0, 1, 1, 1, 1, 1, 1, 1,\n",
              "       1, 1, 0, 1, 1, 1, 1, 0, 0, 1, 0, 1, 1, 0, 0, 1, 1, 0, 0, 1, 1, 1,\n",
              "       1, 0, 1, 1, 0, 0, 0, 1, 0, 1, 0, 1, 1, 1, 0, 1, 1, 0, 0, 1, 0, 0,\n",
              "       0, 0, 1, 0, 0, 0, 1, 0, 1, 0, 1, 1, 0, 1, 0, 0, 0, 0, 1, 1, 0, 0,\n",
              "       1, 1, 1, 0, 1, 1, 1, 1, 1, 0, 0, 1, 1, 0, 1, 1, 0, 0, 1, 0, 1, 1,\n",
              "       1, 1, 0, 1, 1, 1, 1, 1, 0, 1, 0, 0, 0, 0, 0, 0, 0, 0, 0, 0, 0, 0,\n",
              "       0, 0, 1, 1, 1, 1, 1, 1, 0, 1, 0, 1, 1, 0, 1, 1, 0, 1, 0, 0, 1, 1,\n",
              "       1, 1, 1, 1, 1, 1, 1, 1, 1, 1, 1, 0, 1, 1, 0, 1, 0, 1, 1, 1, 1, 1,\n",
              "       1, 1, 1, 1, 1, 1, 1, 1, 1, 0, 1, 1, 1, 0, 1, 0, 1, 1, 1, 1, 0, 0,\n",
              "       0, 1, 1, 1, 1, 0, 1, 0, 1, 0, 1, 1, 1, 0, 1, 1, 1, 1, 1, 1, 1, 0,\n",
              "       0, 0, 1, 1, 1, 1, 1, 1, 1, 1, 1, 1, 1, 0, 0, 1, 0, 0, 0, 1, 0, 0,\n",
              "       1, 1, 1, 1, 1, 0, 1, 1, 1, 1, 1, 0, 1, 1, 1, 0, 1, 1, 0, 0, 1, 1,\n",
              "       1, 1, 1, 1, 0, 1, 1, 1, 1, 1, 1, 1, 0, 1, 1, 1, 1, 1, 0, 1, 1, 0,\n",
              "       1, 1, 1, 1, 1, 1, 1, 1, 1, 1, 1, 1, 0, 1, 0, 0, 1, 0, 1, 1, 1, 1,\n",
              "       1, 0, 1, 1, 0, 1, 0, 1, 1, 0, 1, 0, 1, 1, 1, 1, 1, 1, 1, 1, 0, 0,\n",
              "       1, 1, 1, 1, 1, 1, 0, 1, 1, 1, 1, 1, 1, 1, 1, 1, 1, 0, 1, 1, 1, 1,\n",
              "       1, 1, 1, 0, 1, 0, 1, 1, 0, 1, 1, 1, 1, 1, 0, 0, 1, 0, 1, 0, 1, 1,\n",
              "       1, 1, 1, 0, 1, 1, 0, 1, 0, 1, 0, 0, 1, 1, 1, 0, 1, 1, 1, 1, 1, 1,\n",
              "       1, 1, 1, 1, 1, 0, 1, 0, 0, 1, 1, 1, 1, 1, 1, 1, 1, 1, 1, 1, 1, 1,\n",
              "       1, 1, 1, 1, 1, 1, 1, 1, 1, 1, 1, 1, 0, 0, 0, 0, 0, 0, 1])"
            ]
          },
          "metadata": {
            "tags": []
          },
          "execution_count": 9
        }
      ]
    },
    {
      "cell_type": "code",
      "metadata": {
        "id": "9J5feio3xJPH",
        "colab": {
          "base_uri": "https://localhost:8080/",
          "height": 34
        },
        "outputId": "aaf2767a-365c-4ed6-8dab-762622a552a7"
      },
      "source": [
        "df_Cancer.target_names"
      ],
      "execution_count": null,
      "outputs": [
        {
          "output_type": "execute_result",
          "data": {
            "text/plain": [
              "array(['malignant', 'benign'], dtype='<U9')"
            ]
          },
          "metadata": {
            "tags": []
          },
          "execution_count": 10
        }
      ]
    },
    {
      "cell_type": "code",
      "metadata": {
        "id": "Z3ZnKcyVxJMO",
        "colab": {
          "base_uri": "https://localhost:8080/",
          "height": 34
        },
        "outputId": "9df21e9e-3ac7-462b-b2af-59ec615cdefc"
      },
      "source": [
        "X.shape"
      ],
      "execution_count": null,
      "outputs": [
        {
          "output_type": "execute_result",
          "data": {
            "text/plain": [
              "(569, 30)"
            ]
          },
          "metadata": {
            "tags": []
          },
          "execution_count": 11
        }
      ]
    },
    {
      "cell_type": "code",
      "metadata": {
        "id": "7OEjilKxxJIu"
      },
      "source": [
        "X_train, X_test, y_train, y_test = train_test_split(X, y, test_size = 0.2, random_state = 0, stratify = y)"
      ],
      "execution_count": null,
      "outputs": []
    },
    {
      "cell_type": "code",
      "metadata": {
        "id": "DJDfQNrYxJF2",
        "colab": {
          "base_uri": "https://localhost:8080/",
          "height": 34
        },
        "outputId": "d7eaebd0-9f9d-4166-b916-4846ff1f07c0"
      },
      "source": [
        "X_train.shape"
      ],
      "execution_count": null,
      "outputs": [
        {
          "output_type": "execute_result",
          "data": {
            "text/plain": [
              "(455, 30)"
            ]
          },
          "metadata": {
            "tags": []
          },
          "execution_count": 13
        }
      ]
    },
    {
      "cell_type": "code",
      "metadata": {
        "id": "dDZ8MEZNxJD5",
        "colab": {
          "base_uri": "https://localhost:8080/",
          "height": 34
        },
        "outputId": "1b1754db-7caf-4c20-f132-202171b6bdb6"
      },
      "source": [
        "X_test.shape"
      ],
      "execution_count": null,
      "outputs": [
        {
          "output_type": "execute_result",
          "data": {
            "text/plain": [
              "(114, 30)"
            ]
          },
          "metadata": {
            "tags": []
          },
          "execution_count": 14
        }
      ]
    },
    {
      "cell_type": "code",
      "metadata": {
        "id": "A3-gC_CjxJA7"
      },
      "source": [
        "scaler = StandardScaler()\n",
        "X_train = scaler.fit_transform(X_train)\n",
        "X_test = scaler.transform(X_test)"
      ],
      "execution_count": null,
      "outputs": []
    },
    {
      "cell_type": "code",
      "metadata": {
        "id": "lkFT8t4qxI-D"
      },
      "source": [
        "X_train = X_train.reshape(455,30,1)\n",
        "X_test = X_test.reshape(114, 30, 1)"
      ],
      "execution_count": null,
      "outputs": []
    },
    {
      "cell_type": "code",
      "metadata": {
        "id": "WiRS6QncxI04"
      },
      "source": [
        "epochs = 50\n",
        "model = Sequential()\n",
        "model.add(Conv1D(filters=32, kernel_size=2, activation='relu', input_shape = (30,1)))\n",
        "model.add(BatchNormalization())\n",
        "model.add(Dropout(0.2))\n",
        "\n",
        "model.add(Conv1D(filters=64, kernel_size=2, activation='relu'))\n",
        "model.add(BatchNormalization())\n",
        "model.add(Dropout(0.5))\n",
        "\n",
        "model.add(Flatten())\n",
        "model.add(Dense(64, activation='relu'))\n",
        "model.add(Dropout(0.5))\n",
        "\n",
        "model.add(Dense(1, activation='sigmoid'))"
      ],
      "execution_count": null,
      "outputs": []
    },
    {
      "cell_type": "code",
      "metadata": {
        "id": "kpx1J5w8x60f",
        "colab": {
          "base_uri": "https://localhost:8080/",
          "height": 493
        },
        "outputId": "ac396e4e-c7cd-4fa5-8c37-0f1c99c64e71"
      },
      "source": [
        "model.summary()"
      ],
      "execution_count": null,
      "outputs": [
        {
          "output_type": "stream",
          "text": [
            "Model: \"sequential\"\n",
            "_________________________________________________________________\n",
            "Layer (type)                 Output Shape              Param #   \n",
            "=================================================================\n",
            "conv1d (Conv1D)              (None, 29, 32)            96        \n",
            "_________________________________________________________________\n",
            "batch_normalization (BatchNo (None, 29, 32)            128       \n",
            "_________________________________________________________________\n",
            "dropout (Dropout)            (None, 29, 32)            0         \n",
            "_________________________________________________________________\n",
            "conv1d_1 (Conv1D)            (None, 28, 64)            4160      \n",
            "_________________________________________________________________\n",
            "batch_normalization_1 (Batch (None, 28, 64)            256       \n",
            "_________________________________________________________________\n",
            "dropout_1 (Dropout)          (None, 28, 64)            0         \n",
            "_________________________________________________________________\n",
            "flatten (Flatten)            (None, 1792)              0         \n",
            "_________________________________________________________________\n",
            "dense (Dense)                (None, 64)                114752    \n",
            "_________________________________________________________________\n",
            "dropout_2 (Dropout)          (None, 64)                0         \n",
            "_________________________________________________________________\n",
            "dense_1 (Dense)              (None, 1)                 65        \n",
            "=================================================================\n",
            "Total params: 119,457\n",
            "Trainable params: 119,265\n",
            "Non-trainable params: 192\n",
            "_________________________________________________________________\n"
          ],
          "name": "stdout"
        }
      ]
    },
    {
      "cell_type": "code",
      "metadata": {
        "id": "koTaZX03x6-0"
      },
      "source": [
        "model.compile(optimizer=Adam(lr=0.00005), loss = 'binary_crossentropy', metrics=['accuracy'])"
      ],
      "execution_count": null,
      "outputs": []
    },
    {
      "cell_type": "code",
      "metadata": {
        "id": "Z_o267Qqx7GN",
        "colab": {
          "base_uri": "https://localhost:8080/",
          "height": 1000
        },
        "outputId": "ec453402-6492-4945-dbd2-d08ddd550f81"
      },
      "source": [
        "history = model.fit(X_train, y_train, epochs=epochs, validation_data=(X_test, y_test), verbose=1)"
      ],
      "execution_count": null,
      "outputs": [
        {
          "output_type": "stream",
          "text": [
            "Train on 455 samples, validate on 114 samples\n",
            "Epoch 1/50\n",
            "455/455 [==============================] - 8s 17ms/sample - loss: 1.0270 - accuracy: 0.5582 - val_loss: 0.6927 - val_accuracy: 0.5088\n",
            "Epoch 2/50\n",
            "455/455 [==============================] - 0s 168us/sample - loss: 0.7365 - accuracy: 0.6659 - val_loss: 0.6465 - val_accuracy: 0.8772\n",
            "Epoch 3/50\n",
            "455/455 [==============================] - 0s 188us/sample - loss: 0.5673 - accuracy: 0.7341 - val_loss: 0.6009 - val_accuracy: 0.8947\n",
            "Epoch 4/50\n",
            "455/455 [==============================] - 0s 172us/sample - loss: 0.4800 - accuracy: 0.8154 - val_loss: 0.5573 - val_accuracy: 0.8947\n",
            "Epoch 5/50\n",
            "455/455 [==============================] - 0s 183us/sample - loss: 0.3977 - accuracy: 0.8220 - val_loss: 0.5153 - val_accuracy: 0.9035\n",
            "Epoch 6/50\n",
            "455/455 [==============================] - 0s 185us/sample - loss: 0.3661 - accuracy: 0.8374 - val_loss: 0.4752 - val_accuracy: 0.9035\n",
            "Epoch 7/50\n",
            "455/455 [==============================] - 0s 180us/sample - loss: 0.3178 - accuracy: 0.8857 - val_loss: 0.4385 - val_accuracy: 0.9035\n",
            "Epoch 8/50\n",
            "455/455 [==============================] - 0s 188us/sample - loss: 0.3151 - accuracy: 0.8747 - val_loss: 0.4041 - val_accuracy: 0.9123\n",
            "Epoch 9/50\n",
            "455/455 [==============================] - 0s 185us/sample - loss: 0.2427 - accuracy: 0.9055 - val_loss: 0.3715 - val_accuracy: 0.9211\n",
            "Epoch 10/50\n",
            "455/455 [==============================] - 0s 179us/sample - loss: 0.2540 - accuracy: 0.8857 - val_loss: 0.3437 - val_accuracy: 0.9211\n",
            "Epoch 11/50\n",
            "455/455 [==============================] - 0s 175us/sample - loss: 0.2083 - accuracy: 0.9055 - val_loss: 0.3172 - val_accuracy: 0.9211\n",
            "Epoch 12/50\n",
            "455/455 [==============================] - 0s 167us/sample - loss: 0.1728 - accuracy: 0.9385 - val_loss: 0.2944 - val_accuracy: 0.9211\n",
            "Epoch 13/50\n",
            "455/455 [==============================] - 0s 185us/sample - loss: 0.2365 - accuracy: 0.9077 - val_loss: 0.2725 - val_accuracy: 0.9298\n",
            "Epoch 14/50\n",
            "455/455 [==============================] - 0s 178us/sample - loss: 0.2161 - accuracy: 0.9165 - val_loss: 0.2511 - val_accuracy: 0.9298\n",
            "Epoch 15/50\n",
            "455/455 [==============================] - 0s 182us/sample - loss: 0.1793 - accuracy: 0.9319 - val_loss: 0.2323 - val_accuracy: 0.9298\n",
            "Epoch 16/50\n",
            "455/455 [==============================] - 0s 179us/sample - loss: 0.1776 - accuracy: 0.9341 - val_loss: 0.2175 - val_accuracy: 0.9298\n",
            "Epoch 17/50\n",
            "455/455 [==============================] - 0s 184us/sample - loss: 0.1899 - accuracy: 0.9165 - val_loss: 0.2020 - val_accuracy: 0.9386\n",
            "Epoch 18/50\n",
            "455/455 [==============================] - 0s 176us/sample - loss: 0.1799 - accuracy: 0.9451 - val_loss: 0.1889 - val_accuracy: 0.9386\n",
            "Epoch 19/50\n",
            "455/455 [==============================] - 0s 273us/sample - loss: 0.1627 - accuracy: 0.9495 - val_loss: 0.1766 - val_accuracy: 0.9386\n",
            "Epoch 20/50\n",
            "455/455 [==============================] - 0s 298us/sample - loss: 0.1448 - accuracy: 0.9319 - val_loss: 0.1669 - val_accuracy: 0.9386\n",
            "Epoch 21/50\n",
            "455/455 [==============================] - 0s 266us/sample - loss: 0.1572 - accuracy: 0.9363 - val_loss: 0.1577 - val_accuracy: 0.9386\n",
            "Epoch 22/50\n",
            "455/455 [==============================] - 0s 253us/sample - loss: 0.1517 - accuracy: 0.9363 - val_loss: 0.1497 - val_accuracy: 0.9561\n",
            "Epoch 23/50\n",
            "455/455 [==============================] - 0s 251us/sample - loss: 0.1697 - accuracy: 0.9363 - val_loss: 0.1437 - val_accuracy: 0.9561\n",
            "Epoch 24/50\n",
            "455/455 [==============================] - 0s 256us/sample - loss: 0.1555 - accuracy: 0.9429 - val_loss: 0.1362 - val_accuracy: 0.9649\n",
            "Epoch 25/50\n",
            "455/455 [==============================] - 0s 225us/sample - loss: 0.1311 - accuracy: 0.9429 - val_loss: 0.1297 - val_accuracy: 0.9649\n",
            "Epoch 26/50\n",
            "455/455 [==============================] - 0s 216us/sample - loss: 0.1317 - accuracy: 0.9407 - val_loss: 0.1243 - val_accuracy: 0.9649\n",
            "Epoch 27/50\n",
            "455/455 [==============================] - 0s 198us/sample - loss: 0.1360 - accuracy: 0.9363 - val_loss: 0.1205 - val_accuracy: 0.9649\n",
            "Epoch 28/50\n",
            "455/455 [==============================] - 0s 180us/sample - loss: 0.1716 - accuracy: 0.9297 - val_loss: 0.1184 - val_accuracy: 0.9649\n",
            "Epoch 29/50\n",
            "455/455 [==============================] - 0s 179us/sample - loss: 0.1578 - accuracy: 0.9363 - val_loss: 0.1140 - val_accuracy: 0.9649\n",
            "Epoch 30/50\n",
            "455/455 [==============================] - 0s 178us/sample - loss: 0.1356 - accuracy: 0.9538 - val_loss: 0.1127 - val_accuracy: 0.9649\n",
            "Epoch 31/50\n",
            "455/455 [==============================] - 0s 181us/sample - loss: 0.1318 - accuracy: 0.9495 - val_loss: 0.1111 - val_accuracy: 0.9649\n",
            "Epoch 32/50\n",
            "455/455 [==============================] - 0s 175us/sample - loss: 0.1108 - accuracy: 0.9560 - val_loss: 0.1093 - val_accuracy: 0.9649\n",
            "Epoch 33/50\n",
            "455/455 [==============================] - 0s 175us/sample - loss: 0.1011 - accuracy: 0.9626 - val_loss: 0.1080 - val_accuracy: 0.9649\n",
            "Epoch 34/50\n",
            "455/455 [==============================] - 0s 220us/sample - loss: 0.1198 - accuracy: 0.9560 - val_loss: 0.1072 - val_accuracy: 0.9649\n",
            "Epoch 35/50\n",
            "455/455 [==============================] - 0s 223us/sample - loss: 0.1192 - accuracy: 0.9451 - val_loss: 0.1066 - val_accuracy: 0.9737\n",
            "Epoch 36/50\n",
            "455/455 [==============================] - 0s 219us/sample - loss: 0.1251 - accuracy: 0.9473 - val_loss: 0.1066 - val_accuracy: 0.9649\n",
            "Epoch 37/50\n",
            "455/455 [==============================] - 0s 201us/sample - loss: 0.1235 - accuracy: 0.9582 - val_loss: 0.1054 - val_accuracy: 0.9737\n",
            "Epoch 38/50\n",
            "455/455 [==============================] - 0s 209us/sample - loss: 0.1185 - accuracy: 0.9582 - val_loss: 0.1046 - val_accuracy: 0.9737\n",
            "Epoch 39/50\n",
            "455/455 [==============================] - 0s 201us/sample - loss: 0.0937 - accuracy: 0.9626 - val_loss: 0.1055 - val_accuracy: 0.9737\n",
            "Epoch 40/50\n",
            "455/455 [==============================] - 0s 221us/sample - loss: 0.1342 - accuracy: 0.9429 - val_loss: 0.1070 - val_accuracy: 0.9737\n",
            "Epoch 41/50\n",
            "455/455 [==============================] - 0s 218us/sample - loss: 0.1010 - accuracy: 0.9604 - val_loss: 0.1075 - val_accuracy: 0.9737\n",
            "Epoch 42/50\n",
            "455/455 [==============================] - 0s 207us/sample - loss: 0.1525 - accuracy: 0.9516 - val_loss: 0.1080 - val_accuracy: 0.9737\n",
            "Epoch 43/50\n",
            "455/455 [==============================] - 0s 189us/sample - loss: 0.1183 - accuracy: 0.9604 - val_loss: 0.1076 - val_accuracy: 0.9737\n",
            "Epoch 44/50\n",
            "455/455 [==============================] - 0s 170us/sample - loss: 0.1250 - accuracy: 0.9495 - val_loss: 0.1083 - val_accuracy: 0.9737\n",
            "Epoch 45/50\n",
            "455/455 [==============================] - 0s 215us/sample - loss: 0.1168 - accuracy: 0.9495 - val_loss: 0.1057 - val_accuracy: 0.9737\n",
            "Epoch 46/50\n",
            "455/455 [==============================] - 0s 234us/sample - loss: 0.0913 - accuracy: 0.9692 - val_loss: 0.1054 - val_accuracy: 0.9737\n",
            "Epoch 47/50\n",
            "455/455 [==============================] - 0s 237us/sample - loss: 0.0778 - accuracy: 0.9780 - val_loss: 0.1057 - val_accuracy: 0.9737\n",
            "Epoch 48/50\n",
            "455/455 [==============================] - 0s 182us/sample - loss: 0.1007 - accuracy: 0.9473 - val_loss: 0.1047 - val_accuracy: 0.9737\n",
            "Epoch 49/50\n",
            "455/455 [==============================] - 0s 184us/sample - loss: 0.0948 - accuracy: 0.9604 - val_loss: 0.1049 - val_accuracy: 0.9737\n",
            "Epoch 50/50\n",
            "455/455 [==============================] - 0s 166us/sample - loss: 0.0996 - accuracy: 0.9560 - val_loss: 0.1039 - val_accuracy: 0.9737\n"
          ],
          "name": "stdout"
        }
      ]
    },
    {
      "cell_type": "code",
      "metadata": {
        "id": "9PEKY9IYx7D_"
      },
      "source": [
        "def plot_learningCurve(history, epoch):\n",
        "  # Plot training & validation accuracy values\n",
        "  epoch_range = range(1, epoch+1)\n",
        "  plt.plot(epoch_range, history.history['accuracy'])\n",
        "  plt.plot(epoch_range, history.history['val_accuracy'])\n",
        "  plt.title('Model accuracy')\n",
        "  plt.ylabel('Accuracy')\n",
        "  plt.xlabel('Epoch')\n",
        "  plt.legend(['Train', 'Val'], loc='upper left')\n",
        "  plt.show()\n",
        "\n",
        "  # Plot training & validation loss values\n",
        "  plt.plot(epoch_range, history.history['loss'])\n",
        "  plt.plot(epoch_range, history.history['val_loss'])\n",
        "  plt.title('Model loss')\n",
        "  plt.ylabel('Loss')\n",
        "  plt.xlabel('Epoch')\n",
        "  plt.legend(['Train', 'Val'], loc='upper left')\n",
        "  plt.show()"
      ],
      "execution_count": null,
      "outputs": []
    },
    {
      "cell_type": "code",
      "metadata": {
        "id": "KLZGse56x68v",
        "colab": {
          "base_uri": "https://localhost:8080/",
          "height": 1000
        },
        "outputId": "1b26611b-93c8-4a00-8dc3-31e8e57b9a05"
      },
      "source": [
        "history.history"
      ],
      "execution_count": null,
      "outputs": [
        {
          "output_type": "execute_result",
          "data": {
            "text/plain": [
              "{'accuracy': [0.5582418,\n",
              "  0.6659341,\n",
              "  0.73406595,\n",
              "  0.8153846,\n",
              "  0.82197803,\n",
              "  0.83736265,\n",
              "  0.8857143,\n",
              "  0.8747253,\n",
              "  0.9054945,\n",
              "  0.8857143,\n",
              "  0.9054945,\n",
              "  0.93846154,\n",
              "  0.9076923,\n",
              "  0.9164835,\n",
              "  0.93186814,\n",
              "  0.93406594,\n",
              "  0.9164835,\n",
              "  0.94505495,\n",
              "  0.94945055,\n",
              "  0.93186814,\n",
              "  0.93626374,\n",
              "  0.93626374,\n",
              "  0.93626374,\n",
              "  0.94285715,\n",
              "  0.94285715,\n",
              "  0.94065934,\n",
              "  0.93626374,\n",
              "  0.92967033,\n",
              "  0.93626374,\n",
              "  0.95384616,\n",
              "  0.94945055,\n",
              "  0.95604396,\n",
              "  0.96263736,\n",
              "  0.95604396,\n",
              "  0.94505495,\n",
              "  0.94725275,\n",
              "  0.95824176,\n",
              "  0.95824176,\n",
              "  0.96263736,\n",
              "  0.94285715,\n",
              "  0.96043956,\n",
              "  0.95164835,\n",
              "  0.96043956,\n",
              "  0.94945055,\n",
              "  0.94945055,\n",
              "  0.9692308,\n",
              "  0.978022,\n",
              "  0.94725275,\n",
              "  0.96043956,\n",
              "  0.95604396],\n",
              " 'loss': [1.0270381725751436,\n",
              "  0.736521979544189,\n",
              "  0.5673083901405335,\n",
              "  0.48002192626942647,\n",
              "  0.3977098591380067,\n",
              "  0.3660527784745772,\n",
              "  0.3177660327281926,\n",
              "  0.3151112427423289,\n",
              "  0.24271262740040875,\n",
              "  0.2540399512746832,\n",
              "  0.2083195788847221,\n",
              "  0.17282647247334104,\n",
              "  0.23646402810956096,\n",
              "  0.2161132908948175,\n",
              "  0.1792613052077346,\n",
              "  0.17755403783950177,\n",
              "  0.18991895085507696,\n",
              "  0.17990508862249144,\n",
              "  0.16272745943003958,\n",
              "  0.14483246017288376,\n",
              "  0.1572012348489447,\n",
              "  0.15170123020371237,\n",
              "  0.1696581883089883,\n",
              "  0.15554441056408724,\n",
              "  0.131072073667259,\n",
              "  0.13166833735265573,\n",
              "  0.13597890948365024,\n",
              "  0.17160559335088993,\n",
              "  0.1578175303372708,\n",
              "  0.13564376778655,\n",
              "  0.1317594364449218,\n",
              "  0.11080377224505275,\n",
              "  0.10107458159327506,\n",
              "  0.11979456646316736,\n",
              "  0.11922761578481277,\n",
              "  0.12511536341447096,\n",
              "  0.123482774202149,\n",
              "  0.11853973393911844,\n",
              "  0.09373714216462858,\n",
              "  0.1341599553495973,\n",
              "  0.10096542214626794,\n",
              "  0.15247833859789503,\n",
              "  0.11825108056540018,\n",
              "  0.12498666876619989,\n",
              "  0.11680032430769323,\n",
              "  0.09128139228611203,\n",
              "  0.07775470706132742,\n",
              "  0.10070405631111218,\n",
              "  0.09482985610490317,\n",
              "  0.09957807146544967],\n",
              " 'val_accuracy': [0.50877196,\n",
              "  0.877193,\n",
              "  0.8947368,\n",
              "  0.8947368,\n",
              "  0.9035088,\n",
              "  0.9035088,\n",
              "  0.9035088,\n",
              "  0.9122807,\n",
              "  0.92105263,\n",
              "  0.92105263,\n",
              "  0.92105263,\n",
              "  0.92105263,\n",
              "  0.9298246,\n",
              "  0.9298246,\n",
              "  0.9298246,\n",
              "  0.9298246,\n",
              "  0.9385965,\n",
              "  0.9385965,\n",
              "  0.9385965,\n",
              "  0.9385965,\n",
              "  0.9385965,\n",
              "  0.95614034,\n",
              "  0.95614034,\n",
              "  0.9649123,\n",
              "  0.9649123,\n",
              "  0.9649123,\n",
              "  0.9649123,\n",
              "  0.9649123,\n",
              "  0.9649123,\n",
              "  0.9649123,\n",
              "  0.9649123,\n",
              "  0.9649123,\n",
              "  0.9649123,\n",
              "  0.9649123,\n",
              "  0.9736842,\n",
              "  0.9649123,\n",
              "  0.9736842,\n",
              "  0.9736842,\n",
              "  0.9736842,\n",
              "  0.9736842,\n",
              "  0.9736842,\n",
              "  0.9736842,\n",
              "  0.9736842,\n",
              "  0.9736842,\n",
              "  0.9736842,\n",
              "  0.9736842,\n",
              "  0.9736842,\n",
              "  0.9736842,\n",
              "  0.9736842,\n",
              "  0.9736842],\n",
              " 'val_loss': [0.6926888488886649,\n",
              "  0.6464863325420179,\n",
              "  0.600857210786719,\n",
              "  0.5572533973476343,\n",
              "  0.515325063153317,\n",
              "  0.47518533259107354,\n",
              "  0.438541288961444,\n",
              "  0.4040656168209879,\n",
              "  0.3715461560508661,\n",
              "  0.3437121578475885,\n",
              "  0.3172233951719184,\n",
              "  0.2943643786405262,\n",
              "  0.27249612933711004,\n",
              "  0.2510593909966318,\n",
              "  0.23225833815440797,\n",
              "  0.2175140893250181,\n",
              "  0.20196913940864697,\n",
              "  0.18890988748324544,\n",
              "  0.17657492767300523,\n",
              "  0.1668551896224942,\n",
              "  0.15771461265128955,\n",
              "  0.14966095905554921,\n",
              "  0.14369192588747592,\n",
              "  0.1362159712272778,\n",
              "  0.12970737668505886,\n",
              "  0.12430935640606963,\n",
              "  0.12050474833762437,\n",
              "  0.11840613774563137,\n",
              "  0.11397034687954083,\n",
              "  0.11267449837504771,\n",
              "  0.11107560972634115,\n",
              "  0.10929097575053834,\n",
              "  0.10801038949897415,\n",
              "  0.10721942168055919,\n",
              "  0.10662089699977323,\n",
              "  0.10655212042885914,\n",
              "  0.10535830357357075,\n",
              "  0.10456067663535737,\n",
              "  0.10550868720339056,\n",
              "  0.10697275635443236,\n",
              "  0.10753656348638367,\n",
              "  0.10799454394401166,\n",
              "  0.10759037223301436,\n",
              "  0.10826615021939863,\n",
              "  0.1057213693857193,\n",
              "  0.10539108403680618,\n",
              "  0.1057039107147016,\n",
              "  0.10466320080715313,\n",
              "  0.10485244699214634,\n",
              "  0.10393536273847546]}"
            ]
          },
          "metadata": {
            "tags": []
          },
          "execution_count": 22
        }
      ]
    },
    {
      "cell_type": "code",
      "metadata": {
        "id": "Kbm-gvBKx65y",
        "colab": {
          "base_uri": "https://localhost:8080/",
          "height": 573
        },
        "outputId": "bc3ea8f3-35ff-4241-9d18-79ae5dbd6139"
      },
      "source": [
        "plot_learningCurve(history, epochs)"
      ],
      "execution_count": null,
      "outputs": [
        {
          "output_type": "display_data",
          "data": {
            "image/png": "[encoded data removed]",
            "text/plain": [
              "<Figure size 432x288 with 1 Axes>"
            ]
          },
          "metadata": {
            "tags": []
          }
        },
        {
          "output_type": "display_data",
          "data": {
            "image/png": "[encoded data removed]",
            "text/plain": [
              "<Figure size 432x288 with 1 Axes>"
            ]
          },
          "metadata": {
            "tags": []
          }
        }
      ]
    },
    {
      "cell_type": "code",
      "metadata": {
        "id": "q4o51VKjx6xu"
      },
      "source": [
        ""
      ],
      "execution_count": null,
      "outputs": []
    },
    {
      "cell_type": "markdown",
      "metadata": {
        "id": "NrF6o1pV4t6d"
      },
      "source": [
        "## Pima Indians Onset of Diabetes Dataset\n",
        "\n",
        "This is a standard machine learning dataset available for free download from the UCI Machine Learning repository. It describes patient medical record data for Pima Indians and whether they had an onset of diabetes within five years. It is a binary classification problem (onset of diabetes as 1 or not as 0). The input variables that describe each patient are numerical and have varying scales. Below lists the eight attributes for the dataset:\n",
        "1. Number of times pregnant.\n",
        "2. Plasma glucose concentration a 2 hours in an oral glucose tolerance test.\n",
        "3. Diastolic blood pressure (mm Hg).\n",
        "4. Triceps skin fold thickness (mm).\n",
        "5. 2-Hour serum insulin (mu U/ml).\n",
        "6. Body mass index.\n",
        "7. Diabetes pedigree function.\n",
        "8. Age (years).\n",
        "9. Class, onset of diabetes within five years."
      ]
    },
    {
      "cell_type": "code",
      "metadata": {
        "id": "r05JhPfQ5KYA"
      },
      "source": [
        "# magic word para usar a versão mais recente do tensorflow\n",
        "%tensorflow_version 2.x"
      ],
      "execution_count": null,
      "outputs": []
    },
    {
      "cell_type": "code",
      "metadata": {
        "id": "UBhw8ZnVx6t5"
      },
      "source": [
        "from keras.models import Sequential\n",
        "from keras.layers import Dense\n",
        "import numpy as np\n",
        "\n",
        "# fix random seed for reproducibility\n",
        "np.random.seed(7)"
      ],
      "execution_count": null,
      "outputs": []
    },
    {
      "cell_type": "code",
      "metadata": {
        "id": "x_C9p71ex6qj"
      },
      "source": [
        "# load pima indians dataset\n",
        "df = numpy.loadtxt(\"https://raw.githubusercontent.com/MathMachado/DataFrames/master/Pima_Diabetes.csv\", delimiter=\",\")\n",
        "# split into input and output variables\n",
        "X = df[:,0:8]\n",
        "Y = df[:,8]"
      ],
      "execution_count": null,
      "outputs": []
    },
    {
      "cell_type": "markdown",
      "metadata": {
        "id": "yWpOuMxN5UaJ"
      },
      "source": [
        "### Define Model\n",
        "\n",
        "* Models in Keras are defined as a sequence of layers.\n",
        "\n",
        "We create a Sequential model and add\n",
        "layers one at a time until we are happy with our network topology. The first thing to get right\n",
        "is to ensure the input layer has the right number of inputs. This can be specified when creating\n",
        "the first layer with the input dim argument and setting it to 8 for the 8 input variables.\n",
        "How do we know the number of layers to use and their types? This is a very hard question.\n",
        "There are heuristics that we can use and often the best network structure is found through\n",
        "a process of trial and error experimentation. Generally, you need a network large enough to capture the structure of the problem if that helps at all. In this example we will use a\n",
        "fully-connected network structure with three layers."
      ]
    },
    {
      "cell_type": "markdown",
      "metadata": {
        "id": "5ObbP7Qm5pFS"
      },
      "source": [
        "Fully connected layers are defined using the Dense class. We can specify the number\n",
        "of neurons in the layer as the first argument and specify the activation function using the\n",
        "activation argument. We will use the rectifier (relu) activation function on the first two layers\n",
        "and the sigmoid activation function in the output layer. It used to be the case that sigmoid\n",
        "and tanh activation functions were preferred for all layers. These days, better performance is\n",
        "seen using the rectifier activation function. We use a sigmoid activation function on the output\n",
        "layer to ensure our network output is between 0 and 1 and easy to map to either a probability\n",
        "of class 1 or snap to a hard classification of either class with a default threshold of 0.5. We can\n",
        "piece it all together by adding each layer. The first hidden layer has 12 neurons and expects\n",
        "8 input variables (e.g. input dim=8). The second hidden layer has 8 neurons and finally the\n",
        "output layer has 1 neuron to predict the class (onset of diabetes or not)."
      ]
    },
    {
      "cell_type": "code",
      "metadata": {
        "id": "s-DLCE5v5RvH"
      },
      "source": [
        "# create model\n",
        "model = Sequential()\n",
        "model.add(Dense(12, input_dim=8, activation= ' relu ' ))\n",
        "model.add(Dense(8, activation= ' relu ' ))\n",
        "model.add(Dense(1, activation= ' sigmoid ' ))"
      ],
      "execution_count": null,
      "outputs": []
    },
    {
      "cell_type": "markdown",
      "metadata": {
        "id": "AqLmF86R5tuV"
      },
      "source": [
        "Veja a figura que está na página 44 do Livro do Jason \"Deep_Learning_With_Python.pdf\"."
      ]
    },
    {
      "cell_type": "markdown",
      "metadata": {
        "id": "KVw9mwDO6LeX"
      },
      "source": [
        "### Compile Model\n",
        "\n",
        "The backend automatically chooses the best way to represent the network for training and\n",
        "making predictions to run on your hardware. When compiling, we must specify some additional\n",
        "properties required when training the network. Remember training a network means finding the\n",
        "best set of weights to make predictions for this problem.\n",
        "We must specify the loss function to use to evaluate a set of weights, the optimizer used\n",
        "to search through different weights for the network and any optional metrics we would like\n",
        "to collect and report during training. In this case we will use logarithmic loss, which for a\n",
        "binary classification problem is defined in Keras as binary crossentropy. We will also use the\n",
        "efficient gradient descent algorithm adam for no other reason that it is an efficient default. Learn\n",
        "more about the Adam optimization algorithm in the paper Adam: A Method for Stochastic\n",
        "Optimization 4 . Finally, because it is a classification problem, we will collect and report the\n",
        "classification accuracy as the metric."
      ]
    },
    {
      "cell_type": "code",
      "metadata": {
        "id": "H-tnVLge5R6c"
      },
      "source": [
        "# Compile model\n",
        "model.compile(loss= ' binary_crossentropy ' , optimizer= ' adam ' , metrics=[ ' accuracy ' ])"
      ],
      "execution_count": null,
      "outputs": []
    },
    {
      "cell_type": "markdown",
      "metadata": {
        "id": "dew2_0376YML"
      },
      "source": [
        "### Fit Model\n",
        "\n",
        "We have defined our model and compiled it ready for efficient computation. Now it is time to\n",
        "execute the model on some data. We can train or fit our model on our loaded data by calling\n",
        "the fit() function on the model.\n",
        "The training process will run for a fixed number of iterations through the dataset called\n",
        "epochs, that we must specify using the epochs argument. We can also set the number of\n",
        "instances that are evaluated before a weight update in the network is performed called the\n",
        "batch size and set using the batch size argument. For this problem we will run for a small\n",
        "number of epochs (150) and use a relatively small batch size of 10. Again, these can be chosen\n",
        "experimentally by trial and error."
      ]
    },
    {
      "cell_type": "code",
      "metadata": {
        "id": "YFRUhv0d5SL-"
      },
      "source": [
        "# Fit the model\n",
        "model.fit(X, Y, epochs=150, batch_size=10)"
      ],
      "execution_count": null,
      "outputs": []
    },
    {
      "cell_type": "markdown",
      "metadata": {
        "id": "7RU0JaV96f5Y"
      },
      "source": [
        "### Evaluate Model"
      ]
    },
    {
      "cell_type": "code",
      "metadata": {
        "id": "wkXObUZ05Sr5"
      },
      "source": [
        "# evaluate the model\n",
        "scores = model.evaluate(X, Y)\n",
        "print(\"\\n%s: %.2f%%\" % (model.metrics_names[1], scores[1]*100))"
      ],
      "execution_count": null,
      "outputs": []
    },
    {
      "cell_type": "markdown",
      "metadata": {
        "id": "bhdXBbYU7WSb"
      },
      "source": [
        "### K-Fold\n",
        "\n",
        "Esta é a versão com k-fold."
      ]
    },
    {
      "cell_type": "code",
      "metadata": {
        "id": "OSaZ86kc7fFN"
      },
      "source": [
        "# magic word para usar a versão mais recente do tensorflow\n",
        "%tensorflow_version 2.x"
      ],
      "execution_count": null,
      "outputs": []
    },
    {
      "cell_type": "code",
      "metadata": {
        "id": "k17JsuE15Swn",
        "colab": {
          "base_uri": "https://localhost:8080/",
          "height": 411
        },
        "outputId": "45b8b196-c615-4d78-bf9a-7d66a92f60c1"
      },
      "source": [
        "# MLP for Pima Indians Dataset with 10-fold cross validation via sklearn\n",
        "from keras.models import Sequential\n",
        "from keras.layers import Dense\n",
        "from keras.wrappers.scikit_learn import KerasClassifier\n",
        "from sklearn.model_selection import StratifiedKFold\n",
        "from sklearn.model_selection import cross_val_score\n",
        "import numpy as np\n",
        "\n",
        "# Function to create model, required for KerasClassifier\n",
        "def create_model():\n",
        "    # create model\n",
        "    model = Sequential()\n",
        "    model.add(Dense(12, input_dim=8, activation= ' relu ' ))\n",
        "    model.add(Dense(8, activation= ' relu ' ))\n",
        "    model.add(Dense(1, activation= ' sigmoid ' ))\n",
        "\n",
        "    # Compile model\n",
        "    model.compile(loss= ' binary_crossentropy ' , optimizer= ' adam ' , metrics=[ ' accuracy ' ])\n",
        "    return model\n",
        "\n",
        "# fix random seed for reproducibility\n",
        "seed = 7\n",
        "np.random.seed(seed)\n",
        "\n",
        "# load pima indians dataset\n",
        "df = np.loadtxt(\"https://raw.githubusercontent.com/MathMachado/DataFrames/master/Pima_Diabetes.csv\", delimiter=\",\")\n",
        "\n",
        "# split into input (X) and output (Y) variables\n",
        "X = df[:,0:8]\n",
        "Y = df[:,8]\n",
        "\n",
        "# create model\n",
        "model = KerasClassifier(build_fn=create_model, epochs=150, batch_size=10, verbose=0)\n",
        "\n",
        "# evaluate using 10-fold cross validation\n",
        "kfold = StratifiedKFold(n_splits=10, shuffle=True, random_state=seed)\n",
        "results = cross_val_score(model, X, Y, cv=kfold)\n",
        "print(results.mean())"
      ],
      "execution_count": null,
      "outputs": [
        {
          "output_type": "stream",
          "text": [
            "Using TensorFlow backend.\n"
          ],
          "name": "stderr"
        },
        {
          "output_type": "error",
          "ename": "ValueError",
          "evalue": "ignored",
          "traceback": [
            "\u001b[0;31m---------------------------------------------------------------------------\u001b[0m",
            "\u001b[0;31mValueError\u001b[0m                                Traceback (most recent call last)",
            "\u001b[0;32m<ipython-input-3-a7893dc97991>\u001b[0m in \u001b[0;36m<module>\u001b[0;34m()\u001b[0m\n\u001b[1;32m     23\u001b[0m \u001b[0;34m\u001b[0m\u001b[0m\n\u001b[1;32m     24\u001b[0m \u001b[0;31m# load pima indians dataset\u001b[0m\u001b[0;34m\u001b[0m\u001b[0;34m\u001b[0m\u001b[0;34m\u001b[0m\u001b[0m\n\u001b[0;32m---> 25\u001b[0;31m \u001b[0mdf\u001b[0m \u001b[0;34m=\u001b[0m \u001b[0mnp\u001b[0m\u001b[0;34m.\u001b[0m\u001b[0mloadtxt\u001b[0m\u001b[0;34m(\u001b[0m\u001b[0;34m\"https://raw.githubusercontent.com/MathMachado/DataFrames/master/Pima_Diabetes.csv\"\u001b[0m\u001b[0;34m,\u001b[0m \u001b[0mdelimiter\u001b[0m\u001b[0;34m=\u001b[0m\u001b[0;34m\",\"\u001b[0m\u001b[0;34m)\u001b[0m\u001b[0;34m\u001b[0m\u001b[0;34m\u001b[0m\u001b[0m\n\u001b[0m\u001b[1;32m     26\u001b[0m \u001b[0;34m\u001b[0m\u001b[0m\n\u001b[1;32m     27\u001b[0m \u001b[0;31m# split into input (X) and output (Y) variables\u001b[0m\u001b[0;34m\u001b[0m\u001b[0;34m\u001b[0m\u001b[0;34m\u001b[0m\u001b[0m\n",
            "\u001b[0;32m/usr/local/lib/python3.6/dist-packages/numpy/lib/npyio.py\u001b[0m in \u001b[0;36mloadtxt\u001b[0;34m(fname, dtype, comments, delimiter, converters, skiprows, usecols, unpack, ndmin, encoding, max_rows)\u001b[0m\n\u001b[1;32m   1144\u001b[0m         \u001b[0;31m# converting the data\u001b[0m\u001b[0;34m\u001b[0m\u001b[0;34m\u001b[0m\u001b[0;34m\u001b[0m\u001b[0m\n\u001b[1;32m   1145\u001b[0m         \u001b[0mX\u001b[0m \u001b[0;34m=\u001b[0m \u001b[0;32mNone\u001b[0m\u001b[0;34m\u001b[0m\u001b[0;34m\u001b[0m\u001b[0m\n\u001b[0;32m-> 1146\u001b[0;31m         \u001b[0;32mfor\u001b[0m \u001b[0mx\u001b[0m \u001b[0;32min\u001b[0m \u001b[0mread_data\u001b[0m\u001b[0;34m(\u001b[0m\u001b[0m_loadtxt_chunksize\u001b[0m\u001b[0;34m)\u001b[0m\u001b[0;34m:\u001b[0m\u001b[0;34m\u001b[0m\u001b[0;34m\u001b[0m\u001b[0m\n\u001b[0m\u001b[1;32m   1147\u001b[0m             \u001b[0;32mif\u001b[0m \u001b[0mX\u001b[0m \u001b[0;32mis\u001b[0m \u001b[0;32mNone\u001b[0m\u001b[0;34m:\u001b[0m\u001b[0;34m\u001b[0m\u001b[0;34m\u001b[0m\u001b[0m\n\u001b[1;32m   1148\u001b[0m                 \u001b[0mX\u001b[0m \u001b[0;34m=\u001b[0m \u001b[0mnp\u001b[0m\u001b[0;34m.\u001b[0m\u001b[0marray\u001b[0m\u001b[0;34m(\u001b[0m\u001b[0mx\u001b[0m\u001b[0;34m,\u001b[0m \u001b[0mdtype\u001b[0m\u001b[0;34m)\u001b[0m\u001b[0;34m\u001b[0m\u001b[0;34m\u001b[0m\u001b[0m\n",
            "\u001b[0;32m/usr/local/lib/python3.6/dist-packages/numpy/lib/npyio.py\u001b[0m in \u001b[0;36mread_data\u001b[0;34m(chunk_size)\u001b[0m\n\u001b[1;32m   1072\u001b[0m \u001b[0;34m\u001b[0m\u001b[0m\n\u001b[1;32m   1073\u001b[0m             \u001b[0;31m# Convert each value according to its column and store\u001b[0m\u001b[0;34m\u001b[0m\u001b[0;34m\u001b[0m\u001b[0;34m\u001b[0m\u001b[0m\n\u001b[0;32m-> 1074\u001b[0;31m             \u001b[0mitems\u001b[0m \u001b[0;34m=\u001b[0m \u001b[0;34m[\u001b[0m\u001b[0mconv\u001b[0m\u001b[0;34m(\u001b[0m\u001b[0mval\u001b[0m\u001b[0;34m)\u001b[0m \u001b[0;32mfor\u001b[0m \u001b[0;34m(\u001b[0m\u001b[0mconv\u001b[0m\u001b[0;34m,\u001b[0m \u001b[0mval\u001b[0m\u001b[0;34m)\u001b[0m \u001b[0;32min\u001b[0m \u001b[0mzip\u001b[0m\u001b[0;34m(\u001b[0m\u001b[0mconverters\u001b[0m\u001b[0;34m,\u001b[0m \u001b[0mvals\u001b[0m\u001b[0;34m)\u001b[0m\u001b[0;34m]\u001b[0m\u001b[0;34m\u001b[0m\u001b[0;34m\u001b[0m\u001b[0m\n\u001b[0m\u001b[1;32m   1075\u001b[0m \u001b[0;34m\u001b[0m\u001b[0m\n\u001b[1;32m   1076\u001b[0m             \u001b[0;31m# Then pack it according to the dtype's nesting\u001b[0m\u001b[0;34m\u001b[0m\u001b[0;34m\u001b[0m\u001b[0;34m\u001b[0m\u001b[0m\n",
            "\u001b[0;32m/usr/local/lib/python3.6/dist-packages/numpy/lib/npyio.py\u001b[0m in \u001b[0;36m<listcomp>\u001b[0;34m(.0)\u001b[0m\n\u001b[1;32m   1072\u001b[0m \u001b[0;34m\u001b[0m\u001b[0m\n\u001b[1;32m   1073\u001b[0m             \u001b[0;31m# Convert each value according to its column and store\u001b[0m\u001b[0;34m\u001b[0m\u001b[0;34m\u001b[0m\u001b[0;34m\u001b[0m\u001b[0m\n\u001b[0;32m-> 1074\u001b[0;31m             \u001b[0mitems\u001b[0m \u001b[0;34m=\u001b[0m \u001b[0;34m[\u001b[0m\u001b[0mconv\u001b[0m\u001b[0;34m(\u001b[0m\u001b[0mval\u001b[0m\u001b[0;34m)\u001b[0m \u001b[0;32mfor\u001b[0m \u001b[0;34m(\u001b[0m\u001b[0mconv\u001b[0m\u001b[0;34m,\u001b[0m \u001b[0mval\u001b[0m\u001b[0;34m)\u001b[0m \u001b[0;32min\u001b[0m \u001b[0mzip\u001b[0m\u001b[0;34m(\u001b[0m\u001b[0mconverters\u001b[0m\u001b[0;34m,\u001b[0m \u001b[0mvals\u001b[0m\u001b[0;34m)\u001b[0m\u001b[0;34m]\u001b[0m\u001b[0;34m\u001b[0m\u001b[0;34m\u001b[0m\u001b[0m\n\u001b[0m\u001b[1;32m   1075\u001b[0m \u001b[0;34m\u001b[0m\u001b[0m\n\u001b[1;32m   1076\u001b[0m             \u001b[0;31m# Then pack it according to the dtype's nesting\u001b[0m\u001b[0;34m\u001b[0m\u001b[0;34m\u001b[0m\u001b[0;34m\u001b[0m\u001b[0m\n",
            "\u001b[0;32m/usr/local/lib/python3.6/dist-packages/numpy/lib/npyio.py\u001b[0m in \u001b[0;36mfloatconv\u001b[0;34m(x)\u001b[0m\n\u001b[1;32m    779\u001b[0m         \u001b[0;32mif\u001b[0m \u001b[0;34m'0x'\u001b[0m \u001b[0;32min\u001b[0m \u001b[0mx\u001b[0m\u001b[0;34m:\u001b[0m\u001b[0;34m\u001b[0m\u001b[0;34m\u001b[0m\u001b[0m\n\u001b[1;32m    780\u001b[0m             \u001b[0;32mreturn\u001b[0m \u001b[0mfloat\u001b[0m\u001b[0;34m.\u001b[0m\u001b[0mfromhex\u001b[0m\u001b[0;34m(\u001b[0m\u001b[0mx\u001b[0m\u001b[0;34m)\u001b[0m\u001b[0;34m\u001b[0m\u001b[0;34m\u001b[0m\u001b[0m\n\u001b[0;32m--> 781\u001b[0;31m         \u001b[0;32mreturn\u001b[0m \u001b[0mfloat\u001b[0m\u001b[0;34m(\u001b[0m\u001b[0mx\u001b[0m\u001b[0;34m)\u001b[0m\u001b[0;34m\u001b[0m\u001b[0;34m\u001b[0m\u001b[0m\n\u001b[0m\u001b[1;32m    782\u001b[0m \u001b[0;34m\u001b[0m\u001b[0m\n\u001b[1;32m    783\u001b[0m     \u001b[0mtyp\u001b[0m \u001b[0;34m=\u001b[0m \u001b[0mdtype\u001b[0m\u001b[0;34m.\u001b[0m\u001b[0mtype\u001b[0m\u001b[0;34m\u001b[0m\u001b[0;34m\u001b[0m\u001b[0m\n",
            "\u001b[0;31mValueError\u001b[0m: could not convert string to float: '\\ufeffnum_preg'"
          ]
        }
      ]
    },
    {
      "cell_type": "code",
      "metadata": {
        "id": "PXFkkCHD5SpX"
      },
      "source": [
        ""
      ],
      "execution_count": null,
      "outputs": []
    },
    {
      "cell_type": "code",
      "metadata": {
        "id": "4YDBZiBf5Smd"
      },
      "source": [
        ""
      ],
      "execution_count": null,
      "outputs": []
    },
    {
      "cell_type": "code",
      "metadata": {
        "id": "Y3ZcYvXc5Si8"
      },
      "source": [
        ""
      ],
      "execution_count": null,
      "outputs": []
    },
    {
      "cell_type": "code",
      "metadata": {
        "id": "jtyiPIvk5SgF"
      },
      "source": [
        ""
      ],
      "execution_count": null,
      "outputs": []
    },
    {
      "cell_type": "code",
      "metadata": {
        "id": "yLYUyvAx5SdD"
      },
      "source": [
        ""
      ],
      "execution_count": null,
      "outputs": []
    },
    {
      "cell_type": "code",
      "metadata": {
        "id": "eOjiM1U15SaN"
      },
      "source": [
        ""
      ],
      "execution_count": null,
      "outputs": []
    },
    {
      "cell_type": "code",
      "metadata": {
        "id": "PxSWIw_W5SJa"
      },
      "source": [
        ""
      ],
      "execution_count": null,
      "outputs": []
    },
    {
      "cell_type": "code",
      "metadata": {
        "id": "huq1tZ8L5SGm"
      },
      "source": [
        ""
      ],
      "execution_count": null,
      "outputs": []
    },
    {
      "cell_type": "code",
      "metadata": {
        "id": "28WSHaLB5SEm"
      },
      "source": [
        ""
      ],
      "execution_count": null,
      "outputs": []
    },
    {
      "cell_type": "code",
      "metadata": {
        "id": "7_a6cy1z5R3p"
      },
      "source": [
        ""
      ],
      "execution_count": null,
      "outputs": []
    },
    {
      "cell_type": "code",
      "metadata": {
        "id": "YTrJ_o7L5Rsb"
      },
      "source": [
        ""
      ],
      "execution_count": null,
      "outputs": []
    },
    {
      "cell_type": "markdown",
      "metadata": {
        "id": "FZoXMvOFw9EB"
      },
      "source": [
        "## Grid Search Deep Learning Model Parameters\n",
        "\n",
        "Página 56 do livro Deep_Learning_With_Python.pdf do Jason."
      ]
    },
    {
      "cell_type": "markdown",
      "metadata": {
        "id": "qe0ZOEGBzPDm"
      },
      "source": [
        "___\n",
        "# **EXERCÍCIOS**"
      ]
    },
    {
      "cell_type": "markdown",
      "metadata": {
        "id": "8q9MYFrd32OH"
      },
      "source": [
        "## Exercício 1\n",
        "> No exemplo 1 apresentado nesta sessão, experimente outros valores para a camada keras.layers.Dense();"
      ]
    },
    {
      "cell_type": "markdown",
      "metadata": {
        "id": "wjK6ZtW37Y-W"
      },
      "source": [
        "## Exercício 2\n",
        "> Na sessão \"Configurar o modelo\", temos o seguinte:\n",
        "```\n",
        "Model_RN.compile(optimizer= 'adam', loss= 'sparse_categorical_crossentropy', metrics= ['accuracy'])\n",
        "```\n",
        "\n",
        "Como exercício, experimente outros valores para os parâmetros optmizer e loss. Consulte a documentação do [Keras](https://keras.io/activations/) para conhecer outras funções de ativação e funções loss.\n",
        "\n"
      ]
    },
    {
      "cell_type": "code",
      "metadata": {
        "id": "MY28j_jwysi2"
      },
      "source": [
        ""
      ],
      "execution_count": null,
      "outputs": []
    }
  ]
}