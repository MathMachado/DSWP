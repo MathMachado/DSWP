{
  "nbformat": 4,
  "nbformat_minor": 0,
  "metadata": {
    "colab": {
      "name": "Untitled29.ipynb",
      "provenance": [],
      "private_outputs": true,
      "include_colab_link": true
    },
    "kernelspec": {
      "name": "python3",
      "display_name": "Python 3"
    }
  },
  "cells": [
    {
      "cell_type": "markdown",
      "metadata": {
        "id": "view-in-github",
        "colab_type": "text"
      },
      "source": [
        "<a href=\"https://colab.research.google.com/github/MathMachado/DSWP/blob/master/Notebooks/NB01_Intro_04__Loops.ipynb\" target=\"_parent\"><img src=\"https://colab.research.google.com/assets/colab-badge.svg\" alt=\"Open In Colab\"/></a>"
      ]
    },
    {
      "cell_type": "markdown",
      "metadata": {
        "id": "iNAbUzaH7lFv",
        "colab_type": "text"
      },
      "source": [
        "# Notas & observações\n",
        "* Não faz sentido \"else\" no while loop. Então, verificar se vale a pena tirar esse exemplo.\n",
        "\n",
        "\n"
      ]
    },
    {
      "cell_type": "markdown",
      "metadata": {
        "id": "xjDSAzb07p_-",
        "colab_type": "text"
      },
      "source": [
        "___\n",
        "# **Agenda**:\n",
        "> Nesta capítulo, vamos falar sobre:\n",
        "\n",
        "* Loops\n",
        "* Wrap Up\n",
        "* Exercícios"
      ]
    },
    {
      "cell_type": "markdown",
      "metadata": {
        "id": "rwh5e0oJd71R",
        "colab_type": "text"
      },
      "source": [
        "___\n",
        "# **Loops**\n",
        "> Usamos Loops quando desejamos que algumas instruções sejam executadas várias vezes."
      ]
    },
    {
      "cell_type": "markdown",
      "metadata": {
        "id": "Uh74PDx4Z7av",
        "colab_type": "text"
      },
      "source": [
        "# While loops\n",
        "> Executa [Bloco de instruções 1] enquanto condição for verdadeira. Do contrário, executa [Bloco de Instruções 2].\n",
        "\n",
        "## Sintaxe: while loop"
      ]
    },
    {
      "cell_type": "markdown",
      "metadata": {
        "id": "AaxOB5knbLQq",
        "colab_type": "text"
      },
      "source": [
        "## Exemplo 1"
      ]
    },
    {
      "cell_type": "code",
      "metadata": {
        "id": "SiKKCk35aRo_",
        "colab_type": "code",
        "colab": {}
      },
      "source": [
        "i_Numero= 10\n",
        "i_Soma= 0\n",
        "\n",
        "while i_Numero > 0:\n",
        "    i_Soma+= i_Numero\n",
        "    print(f'Número: {i_Numero} --> Soma: {i_Soma}')\n",
        "    i_Numero -= 1   "
      ],
      "execution_count": 0,
      "outputs": []
    },
    {
      "cell_type": "markdown",
      "metadata": {
        "id": "G__s_OwVbNf5",
        "colab_type": "text"
      },
      "source": [
        "## Exemplo 2"
      ]
    },
    {
      "cell_type": "code",
      "metadata": {
        "id": "DKPqbmFQbO-M",
        "colab_type": "code",
        "colab": {}
      },
      "source": [
        "i_Numero= 10\n",
        "i_Soma= 0\n",
        "\n",
        "while i_Numero > 0:\n",
        "    i_Soma+= i_Numero\n",
        "    print(f'Número: {i_Numero} --> Soma: {i_Soma}')\n",
        "    i_Numero -= 1\n",
        "else:\n",
        "    print(f'i_Numero <= 0 --> Chegamos ao fim do while loop!')  "
      ],
      "execution_count": 0,
      "outputs": []
    },
    {
      "cell_type": "markdown",
      "metadata": {
        "id": "kz8U_cPXcfWw",
        "colab_type": "text"
      },
      "source": [
        "## Exemplo 3"
      ]
    },
    {
      "cell_type": "code",
      "metadata": {
        "id": "DZoUN7wqchcx",
        "colab_type": "code",
        "colab": {}
      },
      "source": [
        "i_Numero= 10\n",
        "i_Soma= 0\n",
        "\n",
        "while i_Numero > 0:\n",
        "    i_Soma+= i_Numero\n",
        "    print(f'Número: {i_Numero} --> Soma: {i_Soma}')\n",
        "    i_Numero -= 1\n",
        "\n",
        "    if i_Numero < 5:\n",
        "        print(f'i_Numero < 5 --> Chegamos ao fim do while loop!')  \n",
        "        break"
      ],
      "execution_count": 0,
      "outputs": []
    },
    {
      "cell_type": "markdown",
      "metadata": {
        "id": "PwSN-ZModXPZ",
        "colab_type": "text"
      },
      "source": [
        "Observe que a instrução \"break\" força a saída do \"while loop\", mesmo se [condição] for verdadeira."
      ]
    },
    {
      "cell_type": "markdown",
      "metadata": {
        "id": "ovq2nlGddyux",
        "colab_type": "text"
      },
      "source": [
        "## Exemplo 4"
      ]
    },
    {
      "cell_type": "code",
      "metadata": {
        "id": "cdBWnAlQd0qU",
        "colab_type": "code",
        "colab": {}
      },
      "source": [
        "i_Numero= 10\n",
        "i_Soma= 0\n",
        "\n",
        "while i_Numero > 0:\n",
        "    i_Numero -= 1\n",
        "\n",
        "    if i_Numero == 5:\n",
        "        print(f'i_Numero == 5 --> Não faz nada!')  \n",
        "        continue # Esse statement força o início do while loop.\n",
        "    \n",
        "    i_Soma+= i_Numero\n",
        "    print(f'Número: {i_Numero} --> Soma: {i_Soma}')   "
      ],
      "execution_count": 0,
      "outputs": []
    },
    {
      "cell_type": "markdown",
      "metadata": {
        "id": "Lb_dRhGShPcP",
        "colab_type": "text"
      },
      "source": [
        "# **For loops**\n",
        "> Usado nos casos em que queremos iterar os elementos de uma sequência."
      ]
    },
    {
      "cell_type": "markdown",
      "metadata": {
        "id": "oS9smFVYiAr4",
        "colab_type": "text"
      },
      "source": [
        "## Exemplo 1"
      ]
    },
    {
      "cell_type": "code",
      "metadata": {
        "id": "UYyKXnbxhSdz",
        "colab_type": "code",
        "colab": {}
      },
      "source": [
        "# Definir nossa sequência - No nosso caso, a sequência é uma lista:\n",
        "l_Vogais= ['a', 'e', 'i', 'o', 'u']\n",
        "\n",
        "for l_Letra in l_Vogais:\n",
        "    print(f'Vogal: {l_Letra}')"
      ],
      "execution_count": 0,
      "outputs": []
    },
    {
      "cell_type": "markdown",
      "metadata": {
        "id": "LQa2cV3AiDG2",
        "colab_type": "text"
      },
      "source": [
        "## Exemplo 2"
      ]
    },
    {
      "cell_type": "code",
      "metadata": {
        "id": "lAYJLYYeiEgm",
        "colab_type": "code",
        "colab": {}
      },
      "source": [
        "# Definir nossa sequência - No nosso caso, a sequência é uma lista:\n",
        "s_Frase= 'Data Science é demais!'\n",
        "\n",
        "for l_Letra in s_Frase:\n",
        "    print(f'{l_Letra}')"
      ],
      "execution_count": 0,
      "outputs": []
    },
    {
      "cell_type": "markdown",
      "metadata": {
        "id": "yYT9p87Tkkap",
        "colab_type": "text"
      },
      "source": [
        "## Função range()\n",
        "> A função range(inicio, fim, step) gera uma sequência."
      ]
    },
    {
      "cell_type": "markdown",
      "metadata": {
        "id": "1gkp66dlkxPh",
        "colab_type": "text"
      },
      "source": [
        "Considere os exemplos a seguir:"
      ]
    },
    {
      "cell_type": "code",
      "metadata": {
        "id": "0bw4uvu1j7Ki",
        "colab_type": "code",
        "colab": {}
      },
      "source": [
        "list(range(10)) # range(k) gera a sequência 0, ..., k-1."
      ],
      "execution_count": 0,
      "outputs": []
    },
    {
      "cell_type": "code",
      "metadata": {
        "id": "kD9XhZ7xi-Bt",
        "colab_type": "code",
        "colab": {}
      },
      "source": [
        "list(range(2, 10))"
      ],
      "execution_count": 0,
      "outputs": []
    },
    {
      "cell_type": "code",
      "metadata": {
        "id": "xLANqziHjDLl",
        "colab_type": "code",
        "colab": {}
      },
      "source": [
        "list(range(0, 10, 2))"
      ],
      "execution_count": 0,
      "outputs": []
    },
    {
      "cell_type": "code",
      "metadata": {
        "id": "tvT0UsiojMdM",
        "colab_type": "code",
        "colab": {}
      },
      "source": [
        "list(range(10, 0, -1))"
      ],
      "execution_count": 0,
      "outputs": []
    },
    {
      "cell_type": "code",
      "metadata": {
        "id": "i4ZnFoCRjQ2y",
        "colab_type": "code",
        "colab": {}
      },
      "source": [
        "list(range(10, 0, -2))"
      ],
      "execution_count": 0,
      "outputs": []
    },
    {
      "cell_type": "code",
      "metadata": {
        "id": "l8i6HSq1kU1c",
        "colab_type": "code",
        "colab": {}
      },
      "source": [
        "list(range(10, 0))"
      ],
      "execution_count": 0,
      "outputs": []
    },
    {
      "cell_type": "code",
      "metadata": {
        "id": "c2BOO7U4jf0x",
        "colab_type": "code",
        "colab": {}
      },
      "source": [
        "list(range(10))"
      ],
      "execution_count": 0,
      "outputs": []
    },
    {
      "cell_type": "markdown",
      "metadata": {
        "id": "313SD1DWij5E",
        "colab_type": "text"
      },
      "source": [
        "## Exemplo 3"
      ]
    },
    {
      "cell_type": "markdown",
      "metadata": {
        "id": "SAVd_E1BjUDZ",
        "colab_type": "text"
      },
      "source": [
        "Ok, agora que entendemos como funciona a função range(), vamos ao For Loop:"
      ]
    },
    {
      "cell_type": "code",
      "metadata": {
        "id": "e9xJQ5WGilyS",
        "colab_type": "code",
        "colab": {}
      },
      "source": [
        "for i_Numero in range(10):\n",
        "    print(f'{i_Numero}')"
      ],
      "execution_count": 0,
      "outputs": []
    },
    {
      "cell_type": "markdown",
      "metadata": {
        "id": "lsB0SGPfk8vu",
        "colab_type": "text"
      },
      "source": [
        "## Exemplo 4"
      ]
    },
    {
      "cell_type": "code",
      "metadata": {
        "id": "M0dXvvbRk-by",
        "colab_type": "code",
        "colab": {}
      },
      "source": [
        "for i_Numero in [0,2,4,6,8,10]:\n",
        "    print(f'{i_Numero}')"
      ],
      "execution_count": 0,
      "outputs": []
    },
    {
      "cell_type": "markdown",
      "metadata": {
        "id": "_pVAcCrylV7S",
        "colab_type": "text"
      },
      "source": [
        "## Exemplo 5"
      ]
    },
    {
      "cell_type": "code",
      "metadata": {
        "id": "3EzKNonrlZOP",
        "colab_type": "code",
        "colab": {}
      },
      "source": [
        "l_Paises= ['Portugal', 'Brasil', 'EUA', 'Alemanha', 'Holanda']"
      ],
      "execution_count": 0,
      "outputs": []
    },
    {
      "cell_type": "code",
      "metadata": {
        "id": "jHMNlZtmliOT",
        "colab_type": "code",
        "colab": {}
      },
      "source": [
        "len(l_Paises)"
      ],
      "execution_count": 0,
      "outputs": []
    },
    {
      "cell_type": "code",
      "metadata": {
        "id": "zzZ2LoAWllCl",
        "colab_type": "code",
        "colab": {}
      },
      "source": [
        "range(len(l_Paises))"
      ],
      "execution_count": 0,
      "outputs": []
    },
    {
      "cell_type": "code",
      "metadata": {
        "id": "jhwCsF_0lsZB",
        "colab_type": "code",
        "colab": {}
      },
      "source": [
        "list(range(len(l_Paises)))"
      ],
      "execution_count": 0,
      "outputs": []
    },
    {
      "cell_type": "markdown",
      "metadata": {
        "id": "mAbQ_1xylvdK",
        "colab_type": "text"
      },
      "source": [
        "O que são esses números acima?"
      ]
    },
    {
      "cell_type": "code",
      "metadata": {
        "id": "Bwufxio6lyy8",
        "colab_type": "code",
        "colab": {}
      },
      "source": [
        "for i_Pais in range(len(l_Paises)):\n",
        "    print(f'{l_Paises[i_Pais]}')"
      ],
      "execution_count": 0,
      "outputs": []
    },
    {
      "cell_type": "markdown",
      "metadata": {
        "id": "DiQdDZE1mE6H",
        "colab_type": "text"
      },
      "source": [
        "Saberia explicar detalhadamente o processo acima?"
      ]
    },
    {
      "cell_type": "markdown",
      "metadata": {
        "id": "eFmSvx1GZLCI",
        "colab_type": "text"
      },
      "source": [
        "### Observação:\n",
        "* A ideia dos intervalos é:\n",
        "\n",
        "$$[inicio, fim) = [inicio, fim [$$\n",
        "\n",
        "Ou seja, fim não pertence ao intervalo."
      ]
    },
    {
      "cell_type": "markdown",
      "metadata": {
        "id": "ZpIfEmZPmPdI",
        "colab_type": "text"
      },
      "source": [
        "## Exemplo 6\n",
        "> Uso do break."
      ]
    },
    {
      "cell_type": "code",
      "metadata": {
        "id": "Fje2a_NImUC4",
        "colab_type": "code",
        "colab": {}
      },
      "source": [
        "for i_Pais in range(len(l_Paises)):\n",
        "    print(f'{l_Paises[i_Pais]}')\n",
        "    if l_Paises[i_Pais]== 'EUA':\n",
        "        break"
      ],
      "execution_count": 0,
      "outputs": []
    },
    {
      "cell_type": "markdown",
      "metadata": {
        "id": "FScchFY779nn",
        "colab_type": "text"
      },
      "source": [
        "___\n",
        "# **Wrap Up**"
      ]
    },
    {
      "cell_type": "markdown",
      "metadata": {
        "id": "IJfct-blOVXd",
        "colab_type": "text"
      },
      "source": [
        "___\n",
        "# Exercícios"
      ]
    }
  ]
}