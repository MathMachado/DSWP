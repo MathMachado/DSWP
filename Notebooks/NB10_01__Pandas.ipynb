{
  "nbformat": 4,
  "nbformat_minor": 0,
  "metadata": {
    "colab": {
      "name": "Untitled0.ipynb",
      "provenance": [],
      "private_outputs": true,
      "toc_visible": true,
      "include_colab_link": true
    },
    "kernelspec": {
      "name": "python3",
      "display_name": "Python 3"
    }
  },
  "cells": [
    {
      "cell_type": "markdown",
      "metadata": {
        "id": "view-in-github",
        "colab_type": "text"
      },
      "source": [
        "<a href=\"https://colab.research.google.com/github/MathMachado/DSWP/blob/master/Notebooks/NB10_01__Pandas.ipynb\" target=\"_parent\"><img src=\"https://colab.research.google.com/assets/colab-badge.svg\" alt=\"Open In Colab\"/></a>"
      ]
    },
    {
      "cell_type": "markdown",
      "metadata": {
        "id": "_eradxaM1Rp8",
        "colab_type": "text"
      },
      "source": [
        "# Melhorias da sessão\n",
        "* Explicar melhor a questão do .copy(). Veja os exemplos abaixo...\n",
        "* Desenvolver \"Querying a Dataframe\";\n",
        "* Usar os livros (estão no meu Dropbox): Python Data Analysis & Python Data Analysis Cookbook para conteúdos de Pandas.\n",
        "* Use isso: https://data-flair.training/blogs/data-wrangling-with-python/\n",
        "* Use isso: https://data-flair.training/blogs/python-data-cleansing/\n",
        "\n"
      ]
    },
    {
      "cell_type": "markdown",
      "metadata": {
        "id": "BUEbp88oD1Km",
        "colab_type": "text"
      },
      "source": [
        "___\n",
        "# **Análise de Dados Com Pandas**\n",
        "## Highlights\n",
        "\n",
        "* Rápida e eficiente library para data manipulation;\n",
        "* Ferramentas para ler e gravar todos os tipos de dados e formatos: CSV, txt, Microsoft Excel, SQL databases e HDF5 format;\n",
        "* Pandas é a library mais popular para análise de dados. As principais ações que faremos com Pandas são:\n",
        "    * Ler/gravar diferentes formatos de dados;\n",
        "    * Selecionar subconjuntos de dados;\n",
        "    * Cálculos variados por coluna ou por linha das tabelas;\n",
        "    * Encontrar e tratar Missing Values;\n",
        "    * Combinar múltiplos dataframes;"
      ]
    },
    {
      "cell_type": "markdown",
      "metadata": {
        "id": "wkxQFPPmeKLl",
        "colab_type": "text"
      },
      "source": [
        "![Pandas](https://github.com/MathMachado/Python_RFB/blob/master/Material/Pandas.jpeg?raw=true)"
      ]
    },
    {
      "cell_type": "markdown",
      "metadata": {
        "id": "eKawOG-neqaD",
        "colab_type": "text"
      },
      "source": [
        "![Pandas](https://github.com/MathMachado/Python_RFB/blob/master/Material/Pandas2.jpeg?raw=true)"
      ]
    },
    {
      "cell_type": "markdown",
      "metadata": {
        "id": "O7YKF5gB2x0K",
        "colab_type": "text"
      },
      "source": [
        "![RightToolForEachSize](https://github.com/MathMachado/Python_RFB/blob/DS_Python/Material/SizesAndTools.PNG?raw=true)\n",
        "\n",
        "Source: [Pandas, Dask or PySpark? What Should You Choose for Your Dataset?](https://medium.com/datadriveninvestor/pandas-dask-or-pyspark-what-should-you-choose-for-your-dataset-c0f67e1b1d36)"
      ]
    },
    {
      "cell_type": "markdown",
      "metadata": {
        "id": "yEyzjGUfG33-",
        "colab_type": "text"
      },
      "source": [
        "___\n",
        "# **Verificar a versão do Pandas**"
      ]
    },
    {
      "cell_type": "code",
      "metadata": {
        "id": "QrvaCtEXeX9l",
        "colab_type": "code",
        "colab": {}
      },
      "source": [
        "!pip install bamboolib"
      ],
      "execution_count": 0,
      "outputs": []
    },
    {
      "cell_type": "code",
      "metadata": {
        "id": "oVMjT3DrG97K",
        "colab_type": "code",
        "colab": {}
      },
      "source": [
        "# Carrega a library Pandas\n",
        "import pandas as pd\n",
        "import numpy as np\n",
        "import bamboolib\n",
        "print(f'Versão do Pandas: {pd.__version__}')\n",
        "print(f'Versão do NumPy.: {np.__version__}')"
      ],
      "execution_count": 0,
      "outputs": []
    },
    {
      "cell_type": "markdown",
      "metadata": {
        "id": "Paz-R-FOAJ7F",
        "colab_type": "text"
      },
      "source": [
        "___\n",
        "# **Criar um Dataframe a partir de um Dictionary**"
      ]
    },
    {
      "cell_type": "markdown",
      "metadata": {
        "id": "Sa5rKwq6Fscj",
        "colab_type": "text"
      },
      "source": [
        "## Exemplo 1"
      ]
    },
    {
      "cell_type": "code",
      "metadata": {
        "id": "0ofIGkiSSuYq",
        "colab_type": "code",
        "colab": {}
      },
      "source": [
        "d_Frutas= {'Apple': [5, 6, 6, 8, 10, 3, 2],\n",
        "          'Avocado': [6, 6, 3, 9, 3, 2, 1]}"
      ],
      "execution_count": 0,
      "outputs": []
    },
    {
      "cell_type": "code",
      "metadata": {
        "id": "iJCNvPlUTzTI",
        "colab_type": "code",
        "colab": {}
      },
      "source": [
        "d_Frutas"
      ],
      "execution_count": 0,
      "outputs": []
    },
    {
      "cell_type": "code",
      "metadata": {
        "id": "7Y_0O_tJTfm3",
        "colab_type": "code",
        "colab": {}
      },
      "source": [
        "# index=['Mon', 'Tue', 'Wed', 'Thu', 'Fri', 'Sat', 'Sun'] abaixo define os label.\n",
        "df_Frutas = pd.DataFrame(d_Frutas, index=['Mon', 'Tue', 'Wed', 'Thu', 'Fri', 'Sat', 'Sun'])\n",
        "df_Frutas"
      ],
      "execution_count": 0,
      "outputs": []
    },
    {
      "cell_type": "markdown",
      "metadata": {
        "id": "l2ll8ktfUKz2",
        "colab_type": "text"
      },
      "source": [
        "O que se comprou no Sexta?\n",
        "\n",
        "* Função df.loc[label] retorna o(s) valor(es) associados à label. Em nosso caso, os label são 'Mon', 'Tue', ..., 'Sun'."
      ]
    },
    {
      "cell_type": "code",
      "metadata": {
        "id": "9Voor8_PUJum",
        "colab_type": "code",
        "colab": {}
      },
      "source": [
        "df_Frutas.loc['Fri'] # Aqui, label= 'Fri'."
      ],
      "execution_count": 0,
      "outputs": []
    },
    {
      "cell_type": "markdown",
      "metadata": {
        "id": "LMh4DTfebwAr",
        "colab_type": "text"
      },
      "source": [
        "* Ou seja, o label= 'Fri', que ocupa a posição 4, tem os valores:\n",
        "    * Apple..: 10\n",
        "    * Avocado: 3\n",
        "\n",
        "Da mesma forma, poderíamos utilizar a função df.iloc[index] para retornar o conteúdo/informações de index."
      ]
    },
    {
      "cell_type": "code",
      "metadata": {
        "id": "GJxawdh6bvJN",
        "colab_type": "code",
        "colab": {}
      },
      "source": [
        "df_Frutas.iloc[4]"
      ],
      "execution_count": 0,
      "outputs": []
    },
    {
      "cell_type": "markdown",
      "metadata": {
        "id": "obJt9OPGcL-x",
        "colab_type": "text"
      },
      "source": [
        "Portanto, df.loc['Fri'] = df.iloc[4]. Correto?\n",
        "\n",
        "Para nos ajudar a memorizar, considere que:\n",
        "\n",
        "* pd.loc[label] --> loc começa com a letra **l**, o que remete à label.\n",
        "* pd.iloc[index] --> iloc começa com a letra **i**, o que remete à index."
      ]
    },
    {
      "cell_type": "markdown",
      "metadata": {
        "id": "EkjAtbrRF01h",
        "colab_type": "text"
      },
      "source": [
        "## Exemplo 2"
      ]
    },
    {
      "cell_type": "markdown",
      "metadata": {
        "id": "2EOX5MC4E1xL",
        "colab_type": "text"
      },
      "source": [
        "Na prática, lidamos com grandes bancos de dados e, nesses casos, não temos label das linhas definidos. Para exemplificar, considere o mesmo exemplo que acabamos de ver, com uma pequena alteração:"
      ]
    },
    {
      "cell_type": "code",
      "metadata": {
        "id": "D6FckgDPFFs0",
        "colab_type": "code",
        "colab": {}
      },
      "source": [
        "df_Frutas = pd.DataFrame(d_Frutas) # Observe que aqui não definimos os indíces\n",
        "df_Frutas"
      ],
      "execution_count": 0,
      "outputs": []
    },
    {
      "cell_type": "markdown",
      "metadata": {
        "id": "tkGc4JQcFPkp",
        "colab_type": "text"
      },
      "source": [
        "Veja agora que os label são números inteiros de 0 a N. Assim, temos que"
      ]
    },
    {
      "cell_type": "code",
      "metadata": {
        "id": "5YgWG_vlFVe_",
        "colab_type": "code",
        "colab": {}
      },
      "source": [
        "df_Frutas.loc[4]"
      ],
      "execution_count": 0,
      "outputs": []
    },
    {
      "cell_type": "code",
      "metadata": {
        "id": "xB1j4n6HFank",
        "colab_type": "code",
        "colab": {}
      },
      "source": [
        "df_Frutas.iloc[4]"
      ],
      "execution_count": 0,
      "outputs": []
    },
    {
      "cell_type": "markdown",
      "metadata": {
        "id": "jEbCke3TFf_q",
        "colab_type": "text"
      },
      "source": [
        "Ou seja, nesses casos, tanto faz usar pd.loc[] ou pd.iloc[]. Entendeu?"
      ]
    },
    {
      "cell_type": "markdown",
      "metadata": {
        "id": "bKHw_VBKjkoL",
        "colab_type": "text"
      },
      "source": [
        "## Exemplo 3 - Definir os indices\n",
        "* df.set_index()."
      ]
    },
    {
      "cell_type": "code",
      "metadata": {
        "id": "13ArWIhYju6s",
        "colab_type": "code",
        "colab": {}
      },
      "source": [
        "d_Frutas= {'Dia_Semana': ['Mon', 'Tue', 'Wed', 'Thu', 'Fri', 'Sat', 'Sun'],\n",
        "           'Apple': [5, 6, 6, 8, 10, 3, 2],\n",
        "          'Avocado': [6, 6, 3, 9, 3, 2, 1]}"
      ],
      "execution_count": 0,
      "outputs": []
    },
    {
      "cell_type": "code",
      "metadata": {
        "id": "Evw9w16gk5h0",
        "colab_type": "code",
        "colab": {}
      },
      "source": [
        "df_Frutas = pd.DataFrame(d_Frutas)\n",
        "df_Frutas"
      ],
      "execution_count": 0,
      "outputs": []
    },
    {
      "cell_type": "code",
      "metadata": {
        "id": "1aJLGapZlUFI",
        "colab_type": "code",
        "colab": {}
      },
      "source": [
        "# Definir Dia_Semana como índice/chave do dataframe\n",
        "df_Frutas.set_index('Dia_Semana', inplace= True)\n",
        "df_Frutas"
      ],
      "execution_count": 0,
      "outputs": []
    },
    {
      "cell_type": "markdown",
      "metadata": {
        "id": "L1-U_sD-jAoO",
        "colab_type": "text"
      },
      "source": [
        "A expressão acima é equivalente a:"
      ]
    },
    {
      "cell_type": "code",
      "metadata": {
        "id": "iaOrX_Iwixqb",
        "colab_type": "code",
        "colab": {}
      },
      "source": [
        "df_Frutas2= df_Frutas.set_index('Dia_Semana')\n",
        "df_Frutas2"
      ],
      "execution_count": 0,
      "outputs": []
    },
    {
      "cell_type": "markdown",
      "metadata": {
        "id": "2RmgCIC2HZFp",
        "colab_type": "text"
      },
      "source": [
        "## Exemplo 4"
      ]
    },
    {
      "cell_type": "code",
      "metadata": {
        "id": "kbHHuMzzAR1A",
        "colab_type": "code",
        "colab": {}
      },
      "source": [
        "d_Estudantes= {'name': ['Jack', 'Richard', 'Tommy', 'Ana'], \n",
        "            'Age': [25, 34, 18, 21],\n",
        "           'City': ['Sydney', 'Rio de Janeiro', 'Lisbon', 'New York'],\n",
        "           'Country': ['Australia', 'Brazil', 'Portugal', 'United States']}"
      ],
      "execution_count": 0,
      "outputs": []
    },
    {
      "cell_type": "code",
      "metadata": {
        "id": "ayKqLmHTANOu",
        "colab_type": "code",
        "colab": {}
      },
      "source": [
        "# Mostrar o conteúdo do dicionário d_Estudantes...\n",
        "d_Estudantes"
      ],
      "execution_count": 0,
      "outputs": []
    },
    {
      "cell_type": "code",
      "metadata": {
        "id": "0ONA8QsBBP6R",
        "colab_type": "code",
        "colab": {}
      },
      "source": [
        "# Keys associadas ao dicionário d_Estudantes\n",
        "d_Estudantes.keys()"
      ],
      "execution_count": 0,
      "outputs": []
    },
    {
      "cell_type": "code",
      "metadata": {
        "id": "k8mmvKQ_BjO6",
        "colab_type": "code",
        "colab": {}
      },
      "source": [
        "# Itens associados ao dicionário d_Estudantes\n",
        "d_Estudantes.items()"
      ],
      "execution_count": 0,
      "outputs": []
    },
    {
      "cell_type": "code",
      "metadata": {
        "id": "hcm8V_UmBr1Y",
        "colab_type": "code",
        "colab": {}
      },
      "source": [
        "# Valores associados ao dicionário d_Estudantes\n",
        "d_Estudantes.values()"
      ],
      "execution_count": 0,
      "outputs": []
    },
    {
      "cell_type": "markdown",
      "metadata": {
        "id": "KK7IejsPDkWC",
        "colab_type": "text"
      },
      "source": [
        "Temos uma key= 'name'. Qual o conteúdo desta key?"
      ]
    },
    {
      "cell_type": "code",
      "metadata": {
        "id": "eHvPpeiTBwoR",
        "colab_type": "code",
        "colab": {}
      },
      "source": [
        "d_Estudantes['name']"
      ],
      "execution_count": 0,
      "outputs": []
    },
    {
      "cell_type": "markdown",
      "metadata": {
        "id": "S1y7p8CcDsXl",
        "colab_type": "text"
      },
      "source": [
        "Qual o output da expressão a seguir:"
      ]
    },
    {
      "cell_type": "code",
      "metadata": {
        "id": "26WIDl-HB3Bq",
        "colab_type": "code",
        "colab": {}
      },
      "source": [
        "d_Estudantes['name'][0]"
      ],
      "execution_count": 0,
      "outputs": []
    },
    {
      "cell_type": "markdown",
      "metadata": {
        "id": "gV68kQ5HCIif",
        "colab_type": "text"
      },
      "source": [
        "Criando o dataframe df_Estudantes a partir do dicionário d_Estudantes:"
      ]
    },
    {
      "cell_type": "code",
      "metadata": {
        "id": "2oa808hkCSaq",
        "colab_type": "code",
        "colab": {}
      },
      "source": [
        "df_Estudantes= pd.DataFrame(d_Estudantes)"
      ],
      "execution_count": 0,
      "outputs": []
    },
    {
      "cell_type": "code",
      "metadata": {
        "id": "7HLp0FYpCiSc",
        "colab_type": "code",
        "colab": {}
      },
      "source": [
        "# Mostra o conteúdo do dataframe df_Estudantes...\n",
        "df_Estudantes"
      ],
      "execution_count": 0,
      "outputs": []
    },
    {
      "cell_type": "markdown",
      "metadata": {
        "id": "en06lfazciE0",
        "colab_type": "text"
      },
      "source": [
        "**Atenção**: Observe que nesse caso, não definimos labels para as linhas. Na prática, isso é o mais comum, ou seja, os label = index, que aqui são números inteiros de 0 a N."
      ]
    },
    {
      "cell_type": "markdown",
      "metadata": {
        "id": "gFaPp-S-cy1-",
        "colab_type": "text"
      },
      "source": [
        "Mais uma vez, vamos usar df.loc[] e df.iloc[]..."
      ]
    },
    {
      "cell_type": "code",
      "metadata": {
        "id": "mT9vwRBidGXX",
        "colab_type": "code",
        "colab": {}
      },
      "source": [
        "# Mostrando o conteúdo de da linha 3 usando df.loc[]\n",
        "df_Estudantes.loc[3]"
      ],
      "execution_count": 0,
      "outputs": []
    },
    {
      "cell_type": "markdown",
      "metadata": {
        "id": "Zj88AwHUdix0",
        "colab_type": "text"
      },
      "source": [
        "OU"
      ]
    },
    {
      "cell_type": "code",
      "metadata": {
        "id": "SP2mG8todkMe",
        "colab_type": "code",
        "colab": {}
      },
      "source": [
        "# Mostrando o conteúdo de da linha 3 usando df.iloc[]\n",
        "df_Estudantes.iloc[3]"
      ],
      "execution_count": 0,
      "outputs": []
    },
    {
      "cell_type": "markdown",
      "metadata": {
        "id": "hzbLO0EDGWTf",
        "colab_type": "text"
      },
      "source": [
        "Ok, já discutimos isso anteriormente. Quando não temos labels para as linhas, então iloc[] = loc[]"
      ]
    },
    {
      "cell_type": "markdown",
      "metadata": {
        "id": "VvzVg7SpeOOB",
        "colab_type": "text"
      },
      "source": [
        "___\n",
        "# **Criar um Dataframe a partir de uma lista**\n",
        "* Considere a lista de frutas a seguir:"
      ]
    },
    {
      "cell_type": "code",
      "metadata": {
        "id": "0_PY9OROeUiT",
        "colab_type": "code",
        "colab": {}
      },
      "source": [
        "l_Frutas = [('Melon', 6,8,5,4,6,2,8), ('Avocado', 6,6,3,8,9,3,1), ('Blueberry', 7,5,9,3,1,0,4)]\n",
        "l_Frutas"
      ],
      "execution_count": 0,
      "outputs": []
    },
    {
      "cell_type": "code",
      "metadata": {
        "id": "AfE_rHq5g4_P",
        "colab_type": "code",
        "colab": {}
      },
      "source": [
        "type(l_Frutas)"
      ],
      "execution_count": 0,
      "outputs": []
    },
    {
      "cell_type": "code",
      "metadata": {
        "id": "ZpdPSi7RgVjK",
        "colab_type": "code",
        "colab": {}
      },
      "source": [
        "l_Frutas[0]"
      ],
      "execution_count": 0,
      "outputs": []
    },
    {
      "cell_type": "code",
      "metadata": {
        "id": "NMyIpVW8gZTH",
        "colab_type": "code",
        "colab": {}
      },
      "source": [
        "l_Frutas[0][0]"
      ],
      "execution_count": 0,
      "outputs": []
    },
    {
      "cell_type": "code",
      "metadata": {
        "id": "-cyZVqQFhjjg",
        "colab_type": "code",
        "colab": {}
      },
      "source": [
        "# Lista contendo os nomes das colunas do dataframe:\n",
        "l_NomeColunas= ['Frutas', 'Sun', 'Mon', 'Tue', 'Wed', 'Thu', 'Fri', 'Sat']\n",
        "l_NomeColunas"
      ],
      "execution_count": 0,
      "outputs": []
    },
    {
      "cell_type": "code",
      "metadata": {
        "id": "wplKvgayfZm_",
        "colab_type": "code",
        "colab": {}
      },
      "source": [
        "# Convertendo as listas em dataframe\n",
        "df_Frutas = pd.DataFrame(l_Frutas, columns = l_NomeColunas) # Observe que aqui, o nome das colunas é uma lista.\n",
        "df_Frutas"
      ],
      "execution_count": 0,
      "outputs": []
    },
    {
      "cell_type": "markdown",
      "metadata": {
        "id": "GojgsAXTFZmB",
        "colab_type": "text"
      },
      "source": [
        "___\n",
        "# **Copiar o dataframe**"
      ]
    },
    {
      "cell_type": "markdown",
      "metadata": {
        "id": "g_Tda4ZwjWIW",
        "colab_type": "text"
      },
      "source": [
        "O dataframe df_Estudantes tem o seguinte conteúdo:"
      ]
    },
    {
      "cell_type": "code",
      "metadata": {
        "id": "P5y0aVkdkA8o",
        "colab_type": "code",
        "colab": {}
      },
      "source": [
        "df_Estudantes"
      ],
      "execution_count": 0,
      "outputs": []
    },
    {
      "cell_type": "markdown",
      "metadata": {
        "id": "Cp3bvPEqj5fS",
        "colab_type": "text"
      },
      "source": [
        "se fizermos..."
      ]
    },
    {
      "cell_type": "code",
      "metadata": {
        "id": "J2PT5L11j8O0",
        "colab_type": "code",
        "colab": {}
      },
      "source": [
        "df_Estudantes2= df_Estudantes"
      ],
      "execution_count": 0,
      "outputs": []
    },
    {
      "cell_type": "markdown",
      "metadata": {
        "id": "2D29pGuikBBK",
        "colab_type": "text"
      },
      "source": [
        "então df_Estudantes2 tem o mesmo conteúdo de df_Estudantes, ok?"
      ]
    },
    {
      "cell_type": "code",
      "metadata": {
        "id": "_IseZEpLkGS4",
        "colab_type": "code",
        "colab": {}
      },
      "source": [
        "df_Estudantes2"
      ],
      "execution_count": 0,
      "outputs": []
    },
    {
      "cell_type": "markdown",
      "metadata": {
        "id": "29MpozLrkI83",
        "colab_type": "text"
      },
      "source": [
        "Agora altere o valor 'Rio de Janeiro' para 'Sao Paulo' em df_Estudantes2."
      ]
    },
    {
      "cell_type": "code",
      "metadata": {
        "id": "TXCqFiGFkmyv",
        "colab_type": "code",
        "colab": {}
      },
      "source": [
        "df_Estudantes2['City']= df_Estudantes2['City'].replace({'Rio de Janeiro': 'Sao Paulo'})\n",
        "df_Estudantes2"
      ],
      "execution_count": 0,
      "outputs": []
    },
    {
      "cell_type": "markdown",
      "metadata": {
        "id": "BN8ZGu2Xk6vt",
        "colab_type": "text"
      },
      "source": [
        "Ok, alteramos o valor 'Rio de Janeiro' por 'Sao Paulo', como queríamos. Vamos ver o conteúdo de df_Estudantes (**que está intacto, pois fizemos a alteração no dataframe df_Estudantes2**)."
      ]
    },
    {
      "cell_type": "code",
      "metadata": {
        "id": "thNAWoDflRoQ",
        "colab_type": "code",
        "colab": {}
      },
      "source": [
        "df_Estudantes"
      ],
      "execution_count": 0,
      "outputs": []
    },
    {
      "cell_type": "markdown",
      "metadata": {
        "id": "VkIS8wVmlAyq",
        "colab_type": "text"
      },
      "source": [
        "Ooooops... df_Estudantes foi alterado? Como, se procedemos a alteração em df_Estudantes2 e NÃO em df_Estudantes???\n",
        "\n",
        "As operações que fizermos em df_Estudantes2 também serão aplicadas à df_Estudantes?"
      ]
    },
    {
      "cell_type": "markdown",
      "metadata": {
        "id": "e9u-Z9NMltC9",
        "colab_type": "text"
      },
      "source": [
        "**Resposta**: SIM, pois df_Estudantes2 é um ponteiro para df_Estudantes. Ou seja, **qualquer operação que fizermos em df_Estudantes2 será feita em df_Estudantes**."
      ]
    },
    {
      "cell_type": "markdown",
      "metadata": {
        "id": "IDwvsxhhmlE4",
        "colab_type": "text"
      },
      "source": [
        "Uma forma fácil de ver isso é através dos endereços de memória dos dois (**supostos diferentes**) dataframes:"
      ]
    },
    {
      "cell_type": "code",
      "metadata": {
        "id": "ePFwKua8mu7k",
        "colab_type": "code",
        "colab": {}
      },
      "source": [
        "id(df_Estudantes2)"
      ],
      "execution_count": 0,
      "outputs": []
    },
    {
      "cell_type": "code",
      "metadata": {
        "id": "bMvY_E0mmwQH",
        "colab_type": "code",
        "colab": {}
      },
      "source": [
        "id(df_Estudantes)"
      ],
      "execution_count": 0,
      "outputs": []
    },
    {
      "cell_type": "markdown",
      "metadata": {
        "id": "K5qC5BuzmyF0",
        "colab_type": "text"
      },
      "source": [
        "**Conclusão**: df_Estudantes2 é ponteiro para df_Estudantes."
      ]
    },
    {
      "cell_type": "markdown",
      "metadata": {
        "id": "ZZ50ejRImAQ8",
        "colab_type": "text"
      },
      "source": [
        "## Forma correta de fazer a cópia de um dataframe"
      ]
    },
    {
      "cell_type": "markdown",
      "metadata": {
        "id": "oTbzxNkDmQiJ",
        "colab_type": "text"
      },
      "source": [
        "Primeiramente, vamos reconstruir df_Estudantes:"
      ]
    },
    {
      "cell_type": "code",
      "metadata": {
        "id": "DmVq0vM0mTtQ",
        "colab_type": "code",
        "colab": {}
      },
      "source": [
        "df_Estudantes= pd.DataFrame(d_Estudantes)\n",
        "df_Estudantes"
      ],
      "execution_count": 0,
      "outputs": []
    },
    {
      "cell_type": "markdown",
      "metadata": {
        "id": "oZrlwtqJmYB_",
        "colab_type": "text"
      },
      "source": [
        "Fazendo a cópia do dataframe (**da forma correta**):"
      ]
    },
    {
      "cell_type": "code",
      "metadata": {
        "id": "No5A7nHDFbsy",
        "colab_type": "code",
        "colab": {}
      },
      "source": [
        "df_Estudantes_Copy= df_Estudantes.copy()"
      ],
      "execution_count": 0,
      "outputs": []
    },
    {
      "cell_type": "markdown",
      "metadata": {
        "id": "NvKNFr8RnEft",
        "colab_type": "text"
      },
      "source": [
        "Vamos verificar os endereços de memória dos dois dataframes:"
      ]
    },
    {
      "cell_type": "code",
      "metadata": {
        "id": "0_OO90SFki4f",
        "colab_type": "code",
        "colab": {}
      },
      "source": [
        "id(df_Estudantes_Copy)"
      ],
      "execution_count": 0,
      "outputs": []
    },
    {
      "cell_type": "code",
      "metadata": {
        "id": "T0BibX8rkes5",
        "colab_type": "code",
        "colab": {}
      },
      "source": [
        "id(df_Estudantes)"
      ],
      "execution_count": 0,
      "outputs": []
    },
    {
      "cell_type": "markdown",
      "metadata": {
        "id": "Fbm-8cCUFgJa",
        "colab_type": "text"
      },
      "source": [
        "Agora,  dataframe df_Estudantes_Copy é uma cópia do dataframe df_Estudantes"
      ]
    },
    {
      "cell_type": "markdown",
      "metadata": {
        "id": "SuL8WUxL-u6-",
        "colab_type": "text"
      },
      "source": [
        "___\n",
        "# **Renomear colunas do dataframe**\n",
        "> **Snippet**: \n",
        "\n",
        "    * df.rename(columns= {'Old_Name': 'New_Name'}, inplace= True)\n",
        "    * df= df.rename(columns= {'Old_Name': 'New_Name'})"
      ]
    },
    {
      "cell_type": "markdown",
      "metadata": {
        "id": "IvpCfmQnIZKl",
        "colab_type": "text"
      },
      "source": [
        "Suponha que quero renomear a coluna/variável 'name' para 'Client_Name', que é um nome mais sugestivo."
      ]
    },
    {
      "cell_type": "code",
      "metadata": {
        "id": "o54Fa-yxnmuz",
        "colab_type": "code",
        "colab": {}
      },
      "source": [
        "df_Estudantes"
      ],
      "execution_count": 0,
      "outputs": []
    },
    {
      "cell_type": "code",
      "metadata": {
        "id": "FwzXjYJgCvGk",
        "colab_type": "code",
        "colab": {}
      },
      "source": [
        "df_Estudantes= df_Estudantes.rename(columns= {'name': 'Client_Name'})"
      ],
      "execution_count": 0,
      "outputs": []
    },
    {
      "cell_type": "markdown",
      "metadata": {
        "id": "gOolGiWt4A18",
        "colab_type": "text"
      },
      "source": [
        "O comando abaixo produz o mesmo resultado que a linha anterior:"
      ]
    },
    {
      "cell_type": "markdown",
      "metadata": {
        "id": "Y6jjAFRd341e",
        "colab_type": "text"
      },
      "source": [
        "```\n",
        "df_Estudantes.rename(columns= {'name': 'Client_Name'}, inplace= True)\n",
        "```"
      ]
    },
    {
      "cell_type": "code",
      "metadata": {
        "id": "DwVMldKiF5gS",
        "colab_type": "code",
        "colab": {}
      },
      "source": [
        "# Mostrando o conteúdo de df_Estudantes após renomearmos a coluna/variável 'name' para 'Clien_Name'...\n",
        "df_Estudantes"
      ],
      "execution_count": 0,
      "outputs": []
    },
    {
      "cell_type": "markdown",
      "metadata": {
        "id": "m-WZBLWqELOv",
        "colab_type": "text"
      },
      "source": [
        "Agora, suponha que queremos renomear 'Age' para 'Client_Age', 'City' para 'Client_City' e 'Country' para 'Client_Country'..."
      ]
    },
    {
      "cell_type": "code",
      "metadata": {
        "id": "VS6ua4u1EX5g",
        "colab_type": "code",
        "colab": {}
      },
      "source": [
        "df_Estudantes.rename(columns= {'Age': 'Client_Age', 'City': 'Client_City', 'Country': 'Client_Country'}, inplace= True)"
      ],
      "execution_count": 0,
      "outputs": []
    },
    {
      "cell_type": "markdown",
      "metadata": {
        "id": "i_7LW07y4SvO",
        "colab_type": "text"
      },
      "source": [
        "O comando abaixo produz o mesmo resultado que a linha anterior:"
      ]
    },
    {
      "cell_type": "markdown",
      "metadata": {
        "id": "9X-cv9RL4WjV",
        "colab_type": "text"
      },
      "source": [
        "```\n",
        "df_Estudantes= df_Estudantes.rename(columns= {'Age': 'Client_Age', 'City': 'Client_City', 'Country': 'Client_Country'}, inplace= True)\n",
        "```"
      ]
    },
    {
      "cell_type": "code",
      "metadata": {
        "id": "EOb1-TEKGM9I",
        "colab_type": "code",
        "colab": {}
      },
      "source": [
        "# Mostrando o conteúdo de df_Estudantes após a múltipla operação de renomear...\n",
        "df_Estudantes"
      ],
      "execution_count": 0,
      "outputs": []
    },
    {
      "cell_type": "markdown",
      "metadata": {
        "id": "q0IZZjLRJlU6",
        "colab_type": "text"
      },
      "source": [
        "Alguma dúvida até aqui?\n",
        "Tudo bem até aqui?"
      ]
    },
    {
      "cell_type": "markdown",
      "metadata": {
        "id": "5LwL2m5KbLYz",
        "colab_type": "text"
      },
      "source": [
        "## Challenge\n",
        "* Aplicar lowercase() em todas as colunas do dataframe df_Estudantes. Como fazer isso?"
      ]
    },
    {
      "cell_type": "markdown",
      "metadata": {
        "id": "MURfzmeLbUzF",
        "colab_type": "text"
      },
      "source": [
        "### Minha solução:"
      ]
    },
    {
      "cell_type": "code",
      "metadata": {
        "id": "hlSlfcoub8gH",
        "colab_type": "code",
        "colab": {}
      },
      "source": [
        "# Colocar o nome das colunas numa lista:\n",
        "l_NomeColunas= df_Estudantes.columns\n",
        "l_NomeColunas"
      ],
      "execution_count": 0,
      "outputs": []
    },
    {
      "cell_type": "code",
      "metadata": {
        "id": "I_IGvEK4bdQP",
        "colab_type": "code",
        "colab": {}
      },
      "source": [
        "# Lowercase todas as colunas\n",
        "df_Estudantes.columns = [col.lower() for col in l_NomeColunas]"
      ],
      "execution_count": 0,
      "outputs": []
    },
    {
      "cell_type": "code",
      "metadata": {
        "id": "0qzzAa3ycKmF",
        "colab_type": "code",
        "colab": {}
      },
      "source": [
        "# Mostrando o conteúdo do dataframe df_Estudantes\n",
        "df_Estudantes"
      ],
      "execution_count": 0,
      "outputs": []
    },
    {
      "cell_type": "markdown",
      "metadata": {
        "id": "c-u-ndMPV_KX",
        "colab_type": "text"
      },
      "source": [
        "___\n",
        "# **Adicionar/Acrescentar novas LINHAS ao dataframe**"
      ]
    },
    {
      "cell_type": "markdown",
      "metadata": {
        "id": "MDkWbukBLhw7",
        "colab_type": "text"
      },
      "source": [
        "## Usando Dictionaries\n",
        "* É necessário informar {'Column_Name': value} para cada inserção. Por exemplo, vou adicionar o seguinte registro ao dataframe:\n",
        "    * client_name= 'Anderson';\n",
        "    * client_age= 22;\n",
        "    * client_city= 'Porto';\n",
        "    * client_country= 'Portugal'"
      ]
    },
    {
      "cell_type": "code",
      "metadata": {
        "id": "GECPO7iyK9UU",
        "colab_type": "code",
        "colab": {}
      },
      "source": [
        "df_Estudantes"
      ],
      "execution_count": 0,
      "outputs": []
    },
    {
      "cell_type": "code",
      "metadata": {
        "id": "XQKqqC93LoQ_",
        "colab_type": "code",
        "colab": {}
      },
      "source": [
        "df_Estudantes_Copia= df_Estudantes.copy()\n",
        "df_Estudantes.append({'Client_Name': 'Anderson', \n",
        "               'Client_Age': 22,\n",
        "               'Client_City': 'Porto',\n",
        "               'Client_Country': 'Portugal'}, ignore_index= True)"
      ],
      "execution_count": 0,
      "outputs": []
    },
    {
      "cell_type": "markdown",
      "metadata": {
        "id": "bdBttsHNLjd-",
        "colab_type": "text"
      },
      "source": [
        "Esse é o resultado que desejamos?\n",
        "Saberia explicar-nos o que houve de errado?"
      ]
    },
    {
      "cell_type": "markdown",
      "metadata": {
        "id": "6jDoq6CCMerp",
        "colab_type": "text"
      },
      "source": [
        "**DICA**: Lembre-se que no passo anterior, reescrevemos todos os nomes das colunas para lowercase."
      ]
    },
    {
      "cell_type": "code",
      "metadata": {
        "id": "ffReAaUHLvEF",
        "colab_type": "code",
        "colab": {}
      },
      "source": [
        "# Definindo df_Estudantes novamente usando a cópia df_Estudantes_Copia\n",
        "df_Estudantes= df_Estudantes_Copia.copy()\n",
        "df_Estudantes"
      ],
      "execution_count": 0,
      "outputs": []
    },
    {
      "cell_type": "markdown",
      "metadata": {
        "id": "EzTo-IvmM2Fg",
        "colab_type": "text"
      },
      "source": [
        "Ok, restabelecemos a cópia de df_Estudantes. Agora vamos à forma correta:"
      ]
    },
    {
      "cell_type": "code",
      "metadata": {
        "id": "IRhE76i4M6d6",
        "colab_type": "code",
        "colab": {}
      },
      "source": [
        "df_Estudantes= df_Estudantes.append({'client_name': 'Anderson', \n",
        "               'client_age': 22,\n",
        "               'client_city': 'Porto',\n",
        "               'client_country': 'Portugal'}, ignore_index= True)"
      ],
      "execution_count": 0,
      "outputs": []
    },
    {
      "cell_type": "markdown",
      "metadata": {
        "id": "jAojB2MMNDRJ",
        "colab_type": "text"
      },
      "source": [
        "Bom, esse é o resultado que estávamos à espera..."
      ]
    },
    {
      "cell_type": "markdown",
      "metadata": {
        "id": "5czZb-5wNp_F",
        "colab_type": "text"
      },
      "source": [
        "## Usando Series\n",
        "* Como exemplo, considere que queremos adicionar os seguintes dados:\n",
        "    * client_name= 'Bill';\n",
        "    * client_age= 30;\n",
        "    * client_city= 'São Paulo';\n",
        "    * client_country= 'Brazil'"
      ]
    },
    {
      "cell_type": "code",
      "metadata": {
        "id": "J3qCydqMNtGt",
        "colab_type": "code",
        "colab": {}
      },
      "source": [
        "New_Estudante= pd.Series(['Bill', 30, 'Sao Paulo', 'Brazil'], index= df_Estudantes.columns) # Olha que interessante: estamos a usar index= df_Estudantes.columns."
      ],
      "execution_count": 0,
      "outputs": []
    },
    {
      "cell_type": "markdown",
      "metadata": {
        "id": "g_DyMDrNPrmC",
        "colab_type": "text"
      },
      "source": [
        "Vamos ver o conteúdo de New_Estudante:"
      ]
    },
    {
      "cell_type": "code",
      "metadata": {
        "id": "jDQUl0RBPoLB",
        "colab_type": "code",
        "colab": {}
      },
      "source": [
        "New_Estudante"
      ],
      "execution_count": 0,
      "outputs": []
    },
    {
      "cell_type": "markdown",
      "metadata": {
        "id": "zMKRNQrsPvxp",
        "colab_type": "text"
      },
      "source": [
        "Por fim, adiciona/acrescenta New_Estudante ao dataframe df_Estudantes..."
      ]
    },
    {
      "cell_type": "code",
      "metadata": {
        "id": "5mEQg26iPw4A",
        "colab_type": "code",
        "colab": {}
      },
      "source": [
        "df_Estudantes= df_Estudantes.append(New_Estudante, ignore_index= True)\n",
        "df_Estudantes"
      ],
      "execution_count": 0,
      "outputs": []
    },
    {
      "cell_type": "markdown",
      "metadata": {
        "id": "Biwk2McAWW1Z",
        "colab_type": "text"
      },
      "source": [
        "___\n",
        "# **Adicionar/acrescentar novas COLUNAS ao Dataframe**"
      ]
    },
    {
      "cell_type": "markdown",
      "metadata": {
        "id": "EZFTH7A-Wpw5",
        "colab_type": "text"
      },
      "source": [
        "## Usando Lists\n",
        "* Suponha que queremos adicionar a coluna/variável 'Score'"
      ]
    },
    {
      "cell_type": "code",
      "metadata": {
        "id": "YzBKQo5epXP5",
        "colab_type": "code",
        "colab": {}
      },
      "source": [
        "df_Estudantes"
      ],
      "execution_count": 0,
      "outputs": []
    },
    {
      "cell_type": "code",
      "metadata": {
        "id": "pPoObAKJW6YF",
        "colab_type": "code",
        "colab": {}
      },
      "source": [
        "# Acrescentando ou criando a coluna/variável 'Score' ao dataframe usando um objeto list\n",
        "df_Estudantes['Score']= [500, 300, 200, 800, 700]"
      ],
      "execution_count": 0,
      "outputs": []
    },
    {
      "cell_type": "code",
      "metadata": {
        "id": "Ocbh8sZqWsoW",
        "colab_type": "code",
        "colab": {}
      },
      "source": [
        "# Show the contents of Estudantes...\n",
        "df_Estudantes"
      ],
      "execution_count": 0,
      "outputs": []
    },
    {
      "cell_type": "markdown",
      "metadata": {
        "id": "ZxfCMcVxYQgL",
        "colab_type": "text"
      },
      "source": [
        "> **Atenção**:\n",
        "\n",
        "* Se a quantidade de valores da lista forem menores que o número de linhas do dataframe, então o Python apresenta um erro.\n",
        "* Se a coluna/variável que queremos inserir já existe no dataframe, então os valores serão atualizados com os novos."
      ]
    },
    {
      "cell_type": "markdown",
      "metadata": {
        "id": "34ntllD_YbNa",
        "colab_type": "text"
      },
      "source": [
        "## Usando um valor default\n",
        "* Adicionar a coluna 'Total' com o mesmo valor para todas as linhas"
      ]
    },
    {
      "cell_type": "code",
      "metadata": {
        "id": "T7QSMJMQYous",
        "colab_type": "code",
        "colab": {}
      },
      "source": [
        "df_Estudantes['Total']= 500\n",
        "df_Estudantes"
      ],
      "execution_count": 0,
      "outputs": []
    },
    {
      "cell_type": "markdown",
      "metadata": {
        "id": "gll-gJt7as3C",
        "colab_type": "text"
      },
      "source": [
        "## Adicionar uma variável calculada a partir de outras colunas"
      ]
    },
    {
      "cell_type": "code",
      "metadata": {
        "id": "T_pB_isBaw-E",
        "colab_type": "code",
        "colab": {}
      },
      "source": [
        "df_Estudantes['Percentagem']= 100*(df_Estudantes['Score']/sum(df_Estudantes['Score']))\n",
        "df_Estudantes"
      ],
      "execution_count": 0,
      "outputs": []
    },
    {
      "cell_type": "markdown",
      "metadata": {
        "id": "D9TNylt84hle",
        "colab_type": "text"
      },
      "source": [
        "___\n",
        "# **Ler/carregar dados no Python**\n",
        "* Vários formatos de arquivos podem ser lidos:\n",
        "\n",
        "|Format Type | Data Description | Reader | Writer |\n",
        "|---|---|---|---|\n",
        "text | CSV | read_csv | to_csv |\n",
        "text | JSON | read_json | to_json |\n",
        "text | HTML | read_html | to_html |\n",
        "text | Local clipboard | read_clipboard | to_clipboard |\n",
        "binary | MS Excel | read_excel | to_excel |\n",
        "binary | HDF5 Format | read_hdf | to_hdf |\n",
        "binary | Stata | read_stata | to_stata |\n",
        "binary | SAS | read_sas \n",
        "binary | Python Pickle Format | read_pickle | to_pickle |\n",
        "SQL | SQL | read_sql | to_sql |\n",
        "SQL | Google Big Query | read_gbq | to_gbq |\n",
        "\n",
        "* Fonte: [IO tools (text, CSV, HDF5, …)](https://pandas.pydata.org/pandas-docs/stable/user_guide/io.html)"
      ]
    },
    {
      "cell_type": "markdown",
      "metadata": {
        "id": "Ss8jLEUSblDm",
        "colab_type": "text"
      },
      "source": [
        "___\n",
        "# **Ler/Carregar csv**"
      ]
    },
    {
      "cell_type": "code",
      "metadata": {
        "id": "n8e9aphab_oe",
        "colab_type": "code",
        "colab": {}
      },
      "source": [
        "# carregar a library Pandas\n",
        "import pandas as pd"
      ],
      "execution_count": 0,
      "outputs": []
    },
    {
      "cell_type": "markdown",
      "metadata": {
        "id": "R2fRd_MSQ2Xa",
        "colab_type": "text"
      },
      "source": [
        "A seguir, vamos:\n",
        "* Ler o dataframe Titanic.csv;\n",
        "* Definir 'PassengerId' como índice/chave da tabela através do comando index_col= 'PassengerId'."
      ]
    },
    {
      "cell_type": "code",
      "metadata": {
        "id": "1R9YoFJ02TR7",
        "colab_type": "code",
        "colab": {}
      },
      "source": [
        "df_Titanic = pd.read_csv('https://raw.githubusercontent.com/MathMachado/Python4DS/DS_Python/Dataframes/Titanic_With_MV.csv?token=AGDJQ672T4SNPH26JRBPZUS5WMA24', index_col= 'PassengerId')\n",
        "df_Titanic.head()"
      ],
      "execution_count": 0,
      "outputs": []
    },
    {
      "cell_type": "markdown",
      "metadata": {
        "id": "WJ9RlRDSkk0_",
        "colab_type": "text"
      },
      "source": [
        "* Segue o dicionário de dados do dataframe Titanic:\n",
        "    * PassengerID: ID do passageiro;\n",
        "    * Survived: Indicador, sendo 1= Passageiro sobreviveu e 0= Passageiro morreu;\n",
        "    * Pclass: Classe;\n",
        "    * Age: Idade do Passageiro;\n",
        "    * SibSp: Número de parentes a bordo (esposa, irmãos, pais e etc);\n",
        "    * Parch: Número de pais/crianças a bordo;\n",
        "    * Fare: Valor pago pelo Passageiro;\n",
        "    * Cabin: Cabine do Passageiro;\n",
        "    * Embarked: A porta pelo qual o Passageiro embarcou.\n",
        "    * Name: Nome do Passageiro;\n",
        "    * Sex: Sexo do Passageiro."
      ]
    },
    {
      "cell_type": "code",
      "metadata": {
        "id": "wz7Qd9mqMrfY",
        "colab_type": "code",
        "colab": {}
      },
      "source": [
        "# Show o dataframe df_Titanic:\n",
        "df_Titanic.head()"
      ],
      "execution_count": 0,
      "outputs": []
    },
    {
      "cell_type": "markdown",
      "metadata": {
        "id": "nDlANdnm4iod",
        "colab_type": "text"
      },
      "source": [
        "### DICA 1\n",
        "Suponha que o dataframe que queremos ler esteja localizado em:\n",
        "\n",
        "```\n",
        "/home/nsolucoes4ds/Dropbox/Data_Science/Python/Python_RFB/Python_RFB-DS_Python_020919_2244/Dataframes\n",
        "```\n",
        "\n",
        "Desta forma, para ler o dataframe (local), basta usar o comando a seguir:\n",
        "\n",
        "```\n",
        "url= '/home/nsolucoes4ds/Dropbox/Data_Science/Python/Python_RFB/Python_RFB-DS_Python_020919_2244/Dataframes/creditcard.csv'\n",
        "df_Titanic = pd.read_csv(url)\n",
        "```\n",
        "\n",
        "### Dica 2\n",
        "No Windows, o diretório aparece, por exemplo, da seguinte forma: \n",
        "```\n",
        "C:\\nsolucoes4ds\\Data_Science\n",
        "```\n",
        "Observe as '\\\\' (**barras invertidas**). Neste caso, use o comando a seguir:\n",
        "\n",
        "```\n",
        "url= r'C:\\nsolucoes4ds\\Data_Science\\creditcard.csv'\n",
        "df_Titanic = pd.read_csv(url)\n",
        "```\n",
        "\n",
        "Percebeu o r'diretorio'?"
      ]
    },
    {
      "cell_type": "markdown",
      "metadata": {
        "id": "HubfewY8NgUv",
        "colab_type": "text"
      },
      "source": [
        "___\n",
        "# **Corrigir nome das colunas**\n",
        "* Por exemplo, reescrever o nome das colunas usando lowercase()."
      ]
    },
    {
      "cell_type": "code",
      "metadata": {
        "id": "zSqQUgptNn4r",
        "colab_type": "code",
        "colab": {}
      },
      "source": [
        "df_Titanic.columns= [cols.lower() for cols in df_Titanic.columns]\n",
        "df_Titanic.head()"
      ],
      "execution_count": 0,
      "outputs": []
    },
    {
      "cell_type": "code",
      "metadata": {
        "id": "6z4FcyyAiTfF",
        "colab_type": "code",
        "colab": {}
      },
      "source": [
        "# Construindo uma variável mais intuitiva para nos ajudar nas análises:\n",
        "df_Titanic['survived2'] = df_Titanic['survived']\n",
        "df_Titanic.head(3)"
      ],
      "execution_count": 0,
      "outputs": []
    },
    {
      "cell_type": "code",
      "metadata": {
        "id": "mbrlz2zqs9nv",
        "colab_type": "code",
        "colab": {}
      },
      "source": [
        "df_Titanic['survived2']= df_Titanic['survived2'].map({0:'Died', 1:'Survived'})\n",
        "df_Titanic.head()"
      ],
      "execution_count": 0,
      "outputs": []
    },
    {
      "cell_type": "markdown",
      "metadata": {
        "id": "jwBWkaJOdhCv",
        "colab_type": "text"
      },
      "source": [
        "___\n",
        "# **Selecionar COLUNAS**\n",
        "* Suponha que queremos selecionar somente as colunas 'Survived', 'Sex' e 'Embarked':"
      ]
    },
    {
      "cell_type": "code",
      "metadata": {
        "id": "Ivvj8JU2pBTq",
        "colab_type": "code",
        "colab": {}
      },
      "source": [
        "df_Titanic2= df_Titanic[['survived', 'sex', 'embarked']]\n",
        "df_Titanic2.head()"
      ],
      "execution_count": 0,
      "outputs": []
    },
    {
      "cell_type": "markdown",
      "metadata": {
        "id": "Nf-Wnof_fdTR",
        "colab_type": "text"
      },
      "source": [
        "___\n",
        "# **Criar um Dicionário a partir de um pd.DataFrame()**\n",
        "> Suponha o dataframe-exemplo a seguir:"
      ]
    },
    {
      "cell_type": "code",
      "metadata": {
        "id": "lxf6Lgp4fit8",
        "colab_type": "code",
        "colab": {}
      },
      "source": [
        "df = pd.DataFrame({'a': ['red', 'yellow', 'blue'], 'b': [0.5, 0.25, 0.125]})\n",
        "df"
      ],
      "execution_count": 0,
      "outputs": []
    },
    {
      "cell_type": "markdown",
      "metadata": {
        "id": "l7yzJu1y5huV",
        "colab_type": "text"
      },
      "source": [
        "De Dataframe para Dicionário..."
      ]
    },
    {
      "cell_type": "code",
      "metadata": {
        "id": "_6V0qFZGhEoF",
        "colab_type": "code",
        "colab": {}
      },
      "source": [
        "df.to_dict('dict')"
      ],
      "execution_count": 0,
      "outputs": []
    },
    {
      "cell_type": "markdown",
      "metadata": {
        "id": "0GIe6xtqPA1Z",
        "colab_type": "text"
      },
      "source": [
        "___\n",
        "# **Criar uma Lista a partir de um pd.DataFrame()**\n",
        "> Suponha o dataframe-exemplo a seguir:"
      ]
    },
    {
      "cell_type": "code",
      "metadata": {
        "id": "fZxgejTtPLzX",
        "colab_type": "code",
        "colab": {}
      },
      "source": [
        "df = pd.DataFrame({'a': ['red', 'yellow', 'blue'], 'b': [0.5, 0.25, 0.125]})\n",
        "df"
      ],
      "execution_count": 0,
      "outputs": []
    },
    {
      "cell_type": "markdown",
      "metadata": {
        "id": "JoShm6oF5qLV",
        "colab_type": "text"
      },
      "source": [
        "De pd.DataFrame() para Lista..."
      ]
    },
    {
      "cell_type": "code",
      "metadata": {
        "id": "gigPpSH_hlXu",
        "colab_type": "code",
        "colab": {}
      },
      "source": [
        "df.to_dict('list')"
      ],
      "execution_count": 0,
      "outputs": []
    },
    {
      "cell_type": "markdown",
      "metadata": {
        "id": "GpJDX-5xUUC0",
        "colab_type": "text"
      },
      "source": [
        "___\n",
        "# **Mostrar as primeiras k LINHAS do pd.DataFrame()**\n",
        "> df.head(k), onde k é o número de linhas que queremos visualizar. Por default, k= 10."
      ]
    },
    {
      "cell_type": "code",
      "metadata": {
        "id": "RwC9j_OxUbIR",
        "colab_type": "code",
        "colab": {}
      },
      "source": [
        "df_Titanic.head()"
      ],
      "execution_count": 0,
      "outputs": []
    },
    {
      "cell_type": "markdown",
      "metadata": {
        "id": "G9cp2QrsA5M0",
        "colab_type": "text"
      },
      "source": [
        "___\n",
        "# **Mostrar as últimas k LINHAS do pd.DataFrame()**\n",
        "> df.tail(k), onde k é o número de linhas que queremos ver. Por default, k= 10."
      ]
    },
    {
      "cell_type": "code",
      "metadata": {
        "id": "9mPxyhqoA4Wc",
        "colab_type": "code",
        "colab": {}
      },
      "source": [
        "df_Titanic.tail()"
      ],
      "execution_count": 0,
      "outputs": []
    },
    {
      "cell_type": "markdown",
      "metadata": {
        "id": "Odwm2qSLA_Ro",
        "colab_type": "text"
      },
      "source": [
        "Por default, df.tail() mostra as últimas 5 linhas/instâncias do dataframe. Entretando, pode ser ver qualquer número de linhas k, como, por exemplo, k= 10 mostrado abaixo."
      ]
    },
    {
      "cell_type": "code",
      "metadata": {
        "id": "pUAnR00WA8ma",
        "colab_type": "code",
        "colab": {}
      },
      "source": [
        "df_Titanic.tail(10)"
      ],
      "execution_count": 0,
      "outputs": []
    },
    {
      "cell_type": "markdown",
      "metadata": {
        "id": "cZ64LfWv4zxo",
        "colab_type": "text"
      },
      "source": [
        "___\n",
        "# **Mostrar o nome das COLUNAS**\n",
        "* df.columns"
      ]
    },
    {
      "cell_type": "code",
      "metadata": {
        "id": "CKUUrX5n4zFW",
        "colab_type": "code",
        "colab": {}
      },
      "source": [
        "df_Titanic.columns"
      ],
      "execution_count": 0,
      "outputs": []
    },
    {
      "cell_type": "markdown",
      "metadata": {
        "id": "6m7ukrOu5Inv",
        "colab_type": "text"
      },
      "source": [
        "___\n",
        "# **Mostrar os tipos das COLUNAS**\n",
        "* df.dtypes"
      ]
    },
    {
      "cell_type": "code",
      "metadata": {
        "id": "rgGkT-TY-YuN",
        "colab_type": "code",
        "colab": {}
      },
      "source": [
        "df_Titanic.dtypes"
      ],
      "execution_count": 0,
      "outputs": []
    },
    {
      "cell_type": "markdown",
      "metadata": {
        "id": "DGc6m-UBdHlE",
        "colab_type": "text"
      },
      "source": [
        "___\n",
        "# **Selecionar automaticamente as COLUNAS pelo tipo**\n",
        "> snippet: df.select_dtypes(include=[tipo]).columns\n",
        "\n",
        "| Tipo | O que seleciona | Sintaxe |\n",
        "|------|-----------------|---------|\n",
        "| number | colunas do tipo numéricas | df.select_dtypes(include=['number]).columns |\n",
        "| float | colunas do tipo float | df.select_dtypes(include=['float']).columns |\n",
        "| bool | colunas do tipo booleanas | df.select_dtypes(include=['bool']).columns |\n",
        "| object | colunas do tipo categóricas/strings | df.select_dtypes(include=['object']).columns |\n",
        "\n",
        "* Se quisermos selecionar mais de um tipo, basta informar a lista de tipos. \n",
        "    * Exemplo: df.select_dtypes(include=['object', 'float']).columns\n"
      ]
    },
    {
      "cell_type": "markdown",
      "metadata": {
        "id": "O88YRCqIdYFL",
        "colab_type": "text"
      },
      "source": [
        "## Selecionar automaticamente as COLUNAS Numéricas"
      ]
    },
    {
      "cell_type": "markdown",
      "metadata": {
        "id": "xG4a9ZfRnxPW",
        "colab_type": "text"
      },
      "source": [
        "### Lista com as COLUNAS do tipo numéricas:"
      ]
    },
    {
      "cell_type": "code",
      "metadata": {
        "id": "C87uga35dKsF",
        "colab_type": "code",
        "colab": {}
      },
      "source": [
        "l_ColsNumeric= df_Titanic.select_dtypes(include=['number']).columns\n",
        "l_ColsNumeric"
      ],
      "execution_count": 0,
      "outputs": []
    },
    {
      "cell_type": "markdown",
      "metadata": {
        "id": "5W6kbIVNn2UA",
        "colab_type": "text"
      },
      "source": [
        "### DataFrame com as COLUNAS do tipo numéricas:"
      ]
    },
    {
      "cell_type": "code",
      "metadata": {
        "id": "iTieUd_-eDmW",
        "colab_type": "code",
        "colab": {}
      },
      "source": [
        "df_Num= df_Titanic.select_dtypes(include=['number']) # Atenção: aqui não temos .columns\n",
        "df_Num.head()"
      ],
      "execution_count": 0,
      "outputs": []
    },
    {
      "cell_type": "markdown",
      "metadata": {
        "id": "xh4BFs_lds80",
        "colab_type": "text"
      },
      "source": [
        "## Selecionar automaticamente as colunas float"
      ]
    },
    {
      "cell_type": "markdown",
      "metadata": {
        "id": "Tw3FD74MoC6q",
        "colab_type": "text"
      },
      "source": [
        "### Lista com as COLUNAS do tipo float:"
      ]
    },
    {
      "cell_type": "code",
      "metadata": {
        "id": "5clAUAIrd3UR",
        "colab_type": "code",
        "colab": {}
      },
      "source": [
        "l_ColsFloat= df_Titanic.select_dtypes(include=['float']).columns\n",
        "l_ColsFloat"
      ],
      "execution_count": 0,
      "outputs": []
    },
    {
      "cell_type": "markdown",
      "metadata": {
        "id": "IZPROG6IoHwy",
        "colab_type": "text"
      },
      "source": [
        "### DataFrame com as COLUNAS do tipo float:"
      ]
    },
    {
      "cell_type": "code",
      "metadata": {
        "colab_type": "code",
        "id": "osJDsyMHeXX4",
        "colab": {}
      },
      "source": [
        "df_Float= df_Titanic.select_dtypes(include=['float']) # Atenção: aqui não temos .columns\n",
        "df_Float.head()"
      ],
      "execution_count": 0,
      "outputs": []
    },
    {
      "cell_type": "markdown",
      "metadata": {
        "id": "5uObezIIfuJ4",
        "colab_type": "text"
      },
      "source": [
        "## Selecionar automaticamente as COLUNAS do tipo Booleanas"
      ]
    },
    {
      "cell_type": "markdown",
      "metadata": {
        "id": "xMKP5HhgoeMg",
        "colab_type": "text"
      },
      "source": [
        "### Lista com as COLUNAS do tipo Booleanas:"
      ]
    },
    {
      "cell_type": "code",
      "metadata": {
        "colab_type": "code",
        "id": "3Pn2IPBkf7k-",
        "colab": {}
      },
      "source": [
        "l_ColsBool= df_Titanic.select_dtypes(include=['bool']).columns\n",
        "l_ColsBool"
      ],
      "execution_count": 0,
      "outputs": []
    },
    {
      "cell_type": "markdown",
      "metadata": {
        "id": "k3sdiuXYokBE",
        "colab_type": "text"
      },
      "source": [
        "### DataFrame com as COLUNAS do tipo Booleanas:"
      ]
    },
    {
      "cell_type": "code",
      "metadata": {
        "colab_type": "code",
        "id": "Oem-M-17f7lG",
        "colab": {}
      },
      "source": [
        "df_Bool= df_Titanic.select_dtypes(include=['bool']) # Atenção: aqui não temos .columns\n",
        "df_Bool.head()"
      ],
      "execution_count": 0,
      "outputs": []
    },
    {
      "cell_type": "markdown",
      "metadata": {
        "colab_type": "text",
        "id": "ObHYW92-gOXz"
      },
      "source": [
        "## Selecionar automaticamente as COLUNAS do tipo string (object)"
      ]
    },
    {
      "cell_type": "markdown",
      "metadata": {
        "id": "IzM5CIKXoxHO",
        "colab_type": "text"
      },
      "source": [
        "### Lista com as COLUNAS do tipo object/string:"
      ]
    },
    {
      "cell_type": "code",
      "metadata": {
        "colab_type": "code",
        "id": "rdYThBingOX1",
        "colab": {}
      },
      "source": [
        "l_ColsObject= df_Titanic.select_dtypes(include=['object']).columns\n",
        "l_ColsObject"
      ],
      "execution_count": 0,
      "outputs": []
    },
    {
      "cell_type": "markdown",
      "metadata": {
        "id": "2ZGB5d36o21t",
        "colab_type": "text"
      },
      "source": [
        "### DataFrame com as COLUNAS do tipo Object/String:"
      ]
    },
    {
      "cell_type": "code",
      "metadata": {
        "colab_type": "code",
        "id": "kWTtxeU4gOX4",
        "colab": {}
      },
      "source": [
        "df_Object= df_Titanic.select_dtypes(include=['object']) # Atenção: aqui não temos .columns\n",
        "df_Object.head()"
      ],
      "execution_count": 0,
      "outputs": []
    },
    {
      "cell_type": "markdown",
      "metadata": {
        "id": "SEBKHKRLkbUK",
        "colab_type": "text"
      },
      "source": [
        "___\n",
        "# **Reordenar as COLUNAS do pd.DataFrame()**"
      ]
    },
    {
      "cell_type": "code",
      "metadata": {
        "id": "XRWfelWEkhae",
        "colab_type": "code",
        "colab": {}
      },
      "source": [
        "df_Titanic.head()"
      ],
      "execution_count": 0,
      "outputs": []
    },
    {
      "cell_type": "markdown",
      "metadata": {
        "id": "KBGDeR_JkyCc",
        "colab_type": "text"
      },
      "source": [
        "* Suponha que queremos reordenar as COLUNAS do dataframe df_Titanic em ordem alfabética, conforme abaixo:\n",
        "    * age;\n",
        "    * embarked;\n",
        "    * fare;\n",
        "    * parch;\n",
        "    * pclass;\n",
        "    * sex;\n",
        "    * sibsp;\n",
        "    * survived."
      ]
    },
    {
      "cell_type": "code",
      "metadata": {
        "id": "d9jJi6qllnq_",
        "colab_type": "code",
        "colab": {}
      },
      "source": [
        "df_Titanic = df_Titanic.reindex(sorted(df_Titanic.columns), axis=1)\n",
        "df_Titanic.head()"
      ],
      "execution_count": 0,
      "outputs": []
    },
    {
      "cell_type": "markdown",
      "metadata": {
        "id": "Cj4MREti-izC",
        "colab_type": "text"
      },
      "source": [
        "___\n",
        "# **Mostrar a dimensão do pd.DataFrame()**\n",
        "* Dimensão = Número de linhas e colunas"
      ]
    },
    {
      "cell_type": "code",
      "metadata": {
        "id": "50Tij93l-n7B",
        "colab_type": "code",
        "colab": {}
      },
      "source": [
        "df_Titanic.shape"
      ],
      "execution_count": 0,
      "outputs": []
    },
    {
      "cell_type": "markdown",
      "metadata": {
        "id": "ZQo4YeH_-qfL",
        "colab_type": "text"
      },
      "source": [
        "Qual a interpretação desta informação acima?"
      ]
    },
    {
      "cell_type": "markdown",
      "metadata": {
        "id": "klHcwpPEALP8",
        "colab_type": "text"
      },
      "source": [
        "## **Quebrando a dimensão**\n",
        "* Número de linhas do pd.DataFrame().: df_Titanic.shape[0]\n",
        "* Número de colunas do pd.DataFrame(): df_Titanic.shape[1]"
      ]
    },
    {
      "cell_type": "code",
      "metadata": {
        "id": "qjR8OEdDAOog",
        "colab_type": "code",
        "colab": {}
      },
      "source": [
        "f'O dataframe df_Titanic possui {df_Titanic.shape[0]} linhas e {df_Titanic.shape[1]} colunas.'"
      ],
      "execution_count": 0,
      "outputs": []
    },
    {
      "cell_type": "markdown",
      "metadata": {
        "id": "61DKxL79xm1H",
        "colab_type": "text"
      },
      "source": [
        "___\n",
        "# **Manipular Dados**\n",
        "* Consulte [Series](https://pandas.pydata.org/pandas-docs/version/0.24/reference/series.html) para aprender mais sobre os métodos str.<function>."
      ]
    },
    {
      "cell_type": "markdown",
      "metadata": {
        "id": "4f_pEEOjvwjk",
        "colab_type": "text"
      },
      "source": [
        "Para facilitar nossas análises, vamos aplicar o método lower() em todos os valores das colunas objects/strings. Para isso, considere a função abaixo:"
      ]
    },
    {
      "cell_type": "code",
      "metadata": {
        "id": "G-UlaHFPv7kp",
        "colab_type": "code",
        "colab": {}
      },
      "source": [
        "def Transf_Lower(df):\n",
        "    # Primeira transformação: Aplicar lower() nos nomes das colunas:\n",
        "    df.columns= [col.lower() for col in df.columns]\n",
        "\n",
        "    # Segunda transformação: Aplicar o método .str.lower() nos valores das colunas object/strings:\n",
        "    l_ColsObject= df.select_dtypes(include=['object']).columns\n",
        "    \n",
        "    for col in l_ColsObject:\n",
        "        df[col]= df[col].str.lower()"
      ],
      "execution_count": 0,
      "outputs": []
    },
    {
      "cell_type": "markdown",
      "metadata": {
        "id": "hNixsW8M7n1X",
        "colab_type": "text"
      },
      "source": [
        "Para saber mais sobre o método df[col].str.lower(), consulte [pandas.Series.str.lower](https://pandas.pydata.org/pandas-docs/stable/reference/api/pandas.Series.str.lower.html)."
      ]
    },
    {
      "cell_type": "markdown",
      "metadata": {
        "id": "co__tHzW7WjD",
        "colab_type": "text"
      },
      "source": [
        "## Dataframe df_Full_Info"
      ]
    },
    {
      "cell_type": "code",
      "metadata": {
        "id": "U0bI5vRYdS_Z",
        "colab_type": "code",
        "colab": {}
      },
      "source": [
        "import pandas as pd"
      ],
      "execution_count": 0,
      "outputs": []
    },
    {
      "cell_type": "code",
      "metadata": {
        "id": "PuIZGXULH4dy",
        "colab_type": "code",
        "colab": {}
      },
      "source": [
        "df_Full_Info= pd.DataFrame({'Sex': ['F','F','M','M','F','M','F','M','F','M','F','F','M'],\n",
        "                     'email': ['Pietra_Cardoso@hotmail.com','Laura_Mendes@hotmail.com','Pedro_Lucas_da_Mota@yahoo.com','Isaac_Jesus@bol.com.br','Clara_Souza@bol.com.br','Vitor_Gabriel_Melo@google.com','Elisa_Barbosa@bol.com.br','Nicolas_Melo@yahoo.com.br','Ana_Beatriz_Aragao@gmail.com','Nicolas_Silva@bol.com.br','Yasmin_Oliveira@google.com','Luna_Lima@yahoo.com.br','Murilo_Aragao@bol.com.br'],\n",
        "                     'ssn': ['48763512955','81970635401','31645298051','37164528900','49381206740','59140283615','56879130410','20457891360','82047693500','79618543200','81745930639','41978256337','48523071997'], \n",
        "                     'Birth_date': ['13/02/1978','24/01/1982','12/08/1977','16/12/1981','09/01/1993','20/02/1963','26/09/1983','13/10/1967','31/05/1997','12/03/1974','15/11/1996','11/12/1966','18/03/1965'], \n",
        "                     'start_date': ['6/02/2007','15/01/2018','05/08/2004','09/12/2008','04/01/2013','10/02/2002','19/09/2011','03/10/2007','26/05/2019','05/03/2003','10/11/2018','02/12/2003','09/03/2001'],\n",
        "                     'Job': ['Director','Manager','Engineer','Engineer','Engineer','Engineer','Programer','Diretor','programmer','Programmer','Programmer','Programmer','Manager'], \n",
        "                     'City': ['Seattle','Chicago','Austin','Austin','Seattle','Austin','NewYork','Seattle','NewYork','NewYork','NewYork','NewYork','Seattle'],\n",
        "                     'Department': ['Product','Devops','Platform','Devops','InternalTools','InternalTools','Sales','Product','Sales','Sales','Sales','Sales','Product'],\n",
        "                     'Years_Of_Experience': [13,14,5,1,2,17,16,14,17,8,11,16,19]})"
      ],
      "execution_count": 0,
      "outputs": []
    },
    {
      "cell_type": "code",
      "metadata": {
        "id": "drUUVmIfdW8B",
        "colab_type": "code",
        "colab": {}
      },
      "source": [
        "df_Full_Info.head()"
      ],
      "execution_count": 0,
      "outputs": []
    },
    {
      "cell_type": "markdown",
      "metadata": {
        "id": "fZZ5l7Gl6jrV",
        "colab_type": "text"
      },
      "source": [
        "* Percebeu a irregularidade em relação ao nome das colunas? Por exemplo:\n",
        "    * 'Sex' - primeira letra maiúscula;\n",
        "    * 'email' - em minúsculo;\n",
        "    * 'Birth_date' - com a primeira letra minúsculo e o restante do nome em minúsculo.\n",
        "\n",
        "Ou seja, precisamos uniformizar o nome das colunas. Vamos aplicar nossa função Transf_Lower: "
      ]
    },
    {
      "cell_type": "code",
      "metadata": {
        "id": "ToVoRzUP6VpJ",
        "colab_type": "code",
        "colab": {}
      },
      "source": [
        "Transf_Lower(df_Full_Info)\n",
        "df_Full_Info"
      ],
      "execution_count": 0,
      "outputs": []
    },
    {
      "cell_type": "markdown",
      "metadata": {
        "id": "gTqJOQZaxPBn",
        "colab_type": "text"
      },
      "source": [
        "**Observe atentamente**: \n",
        "* os nomes das colunas foram todos reescritos usando lower();\n",
        "* Os conteúdos das colunas object/string foram reescritos usando o método str.lower()."
      ]
    },
    {
      "cell_type": "markdown",
      "metadata": {
        "id": "Cn7n5hTCJCgB",
        "colab_type": "text"
      },
      "source": [
        "## Avaliar o preenchimento das COLUNAS"
      ]
    },
    {
      "cell_type": "markdown",
      "metadata": {
        "id": "1Zqxy9xEIohI",
        "colab_type": "text"
      },
      "source": [
        "### Avaliar 'sex'"
      ]
    },
    {
      "cell_type": "code",
      "metadata": {
        "id": "gcPre1TM71Sh",
        "colab_type": "code",
        "colab": {}
      },
      "source": [
        "df_Full_Info['sex'].value_counts()\n",
        "# Alternativa: set(df_Full_Info['sex'])"
      ],
      "execution_count": 0,
      "outputs": []
    },
    {
      "cell_type": "markdown",
      "metadata": {
        "id": "p91HgcFH8XHn",
        "colab_type": "text"
      },
      "source": [
        "Como podem ver, nenhum problema com a variável 'sex'. Vamos adiante..."
      ]
    },
    {
      "cell_type": "markdown",
      "metadata": {
        "id": "Hrklw0pyI9Iz",
        "colab_type": "text"
      },
      "source": [
        "### Avaliar 'job'"
      ]
    },
    {
      "cell_type": "code",
      "metadata": {
        "id": "WcV9xY7F84QJ",
        "colab_type": "code",
        "colab": {}
      },
      "source": [
        "s_Variavel= 'job'\n",
        "\n",
        "df_Full_Info[s_Variavel].value_counts()\n",
        "# Alternativa: set(df_Full_Info[s_Variavel])"
      ],
      "execution_count": 0,
      "outputs": []
    },
    {
      "cell_type": "markdown",
      "metadata": {
        "id": "hdDRsb5A8_bX",
        "colab_type": "text"
      },
      "source": [
        "**Problemas de inconsistência**: temos:\n",
        "* 'programmer' e 'programer' --> Neste caso, vou corrigir 'programer';\n",
        "* 'director' e 'diretor' --> Neste caso, vou corrigir 'diretor'"
      ]
    },
    {
      "cell_type": "markdown",
      "metadata": {
        "id": "dRnx2akjy8ma",
        "colab_type": "text"
      },
      "source": [
        "#### Alternativa 1: Usando df[coluna].replace()"
      ]
    },
    {
      "cell_type": "code",
      "metadata": {
        "id": "abB_pvtMC-bl",
        "colab_type": "code",
        "colab": {}
      },
      "source": [
        "# Biblioteca para avaliarmos o tempo de processamento de cada alternativa\n",
        "import time"
      ],
      "execution_count": 0,
      "outputs": []
    },
    {
      "cell_type": "code",
      "metadata": {
        "id": "9qEvr5D_0ky4",
        "colab_type": "code",
        "colab": {}
      },
      "source": [
        "# Correções a serem feitas:\n",
        "d_Correcao= {'programer': 'programmer',\n",
        "            'diretor': 'director'}"
      ],
      "execution_count": 0,
      "outputs": []
    },
    {
      "cell_type": "code",
      "metadata": {
        "id": "IrRoBBbd9NuJ",
        "colab_type": "code",
        "colab": {}
      },
      "source": [
        "t0 = time.time()\n",
        "df_Full_Info_replace= df_Full_Info.copy()\n",
        "df_Full_Info_replace[s_Variavel]= df_Full_Info_replace[s_Variavel].replace(d_Correcao)\n",
        "t1 = time.time()\n",
        "t_replace= t1-t0\n",
        "\n",
        "# Avaliar se a correção foi bem sucedida\n",
        "df_Full_Info_replace[s_Variavel].value_counts()"
      ],
      "execution_count": 0,
      "outputs": []
    },
    {
      "cell_type": "markdown",
      "metadata": {
        "id": "uBwoYVa4GQob",
        "colab_type": "text"
      },
      "source": [
        "A expressão a seguir também poderia ser utilizada em substituição ao df[coluna].replace():\n",
        "\n",
        "```\n",
        "df_Full_Info_replace[s_Variavel]= df_Full_Info_replace[s_Variavel].str.replace('programer', 'programmer')\n",
        "```\n",
        "\n",
        "Para mais detalhes, consulte: [pandas.Series.str.replace](https://pandas.pydata.org/pandas-docs/stable/reference/api/pandas.Series.str.replace.html)\n"
      ]
    },
    {
      "cell_type": "markdown",
      "metadata": {
        "id": "-Bry9Ps3_JXl",
        "colab_type": "text"
      },
      "source": [
        "Conforme esperado, corrigimos a inconsistência da variável 'job'. Acompanhe o tempo de processamento a seguir:"
      ]
    },
    {
      "cell_type": "code",
      "metadata": {
        "id": "-KLJTfZgEQxi",
        "colab_type": "code",
        "colab": {}
      },
      "source": [
        "f'Tempo de processamento usando replace(): {t_replace}'"
      ],
      "execution_count": 0,
      "outputs": []
    },
    {
      "cell_type": "markdown",
      "metadata": {
        "id": "UDzQM0J4zng2",
        "colab_type": "text"
      },
      "source": [
        "#### Alternativa 2: Usando df[coluna].map()\n",
        "> Esta alternativa é, em geral, mais rápido que df[coluna].replace()."
      ]
    },
    {
      "cell_type": "code",
      "metadata": {
        "id": "DJpqM6TL0n16",
        "colab_type": "code",
        "colab": {}
      },
      "source": [
        "# Correções a serem feitas:\n",
        "d_Correcao= {'programer': 'programmer',\n",
        "            'diretor': 'director',\n",
        "             'engineer': 'engineer',\n",
        "             'manager': 'manager'}"
      ],
      "execution_count": 0,
      "outputs": []
    },
    {
      "cell_type": "markdown",
      "metadata": {
        "id": "G7icTz7E03UZ",
        "colab_type": "text"
      },
      "source": [
        "**Atenção**: as palavras incorretas são 'programer' (que vamos corrigir para 'programmer') e 'diretor' (que vamos corrigir para 'director'). No entanto, no caso de map(), preciso informar inclusive os valores corretos.\n",
        "\n",
        "* Experimente usar d_Correcao2 no lugar de d_Correcao e reporte o que você entendeu:"
      ]
    },
    {
      "cell_type": "markdown",
      "metadata": {
        "id": "tqP5rqMl3mZz",
        "colab_type": "text"
      },
      "source": [
        "```\n",
        "# Correções a serem feitas:\n",
        "d_Correcao2= {'programer': 'programmer',\n",
        "            'diretor': 'director'}\n",
        "```"
      ]
    },
    {
      "cell_type": "code",
      "metadata": {
        "id": "bh7HEugO9Trl",
        "colab_type": "code",
        "colab": {}
      },
      "source": [
        "t0 = time.time()\n",
        "\n",
        "df_Full_Info_map= df_Full_Info.copy()\n",
        "df_Full_Info_map[s_Variavel]= df_Full_Info_map[s_Variavel].map(d_Correcao) # Uso d_Correcao ao inves de d_Correcao2.\n",
        "t1 = time.time()\n",
        "t_map= t1-t0\n",
        "\n",
        "# Avaliar se a correção foi bem sucedida\n",
        "df_Full_Info_map[s_Variavel].value_counts()"
      ],
      "execution_count": 0,
      "outputs": []
    },
    {
      "cell_type": "code",
      "metadata": {
        "id": "ZeYDGu9MIA2K",
        "colab_type": "code",
        "colab": {}
      },
      "source": [
        "f'Tempo de processamento usando replace(): {t_map}'"
      ],
      "execution_count": 0,
      "outputs": []
    },
    {
      "cell_type": "markdown",
      "metadata": {
        "id": "nqjRivvhHvqj",
        "colab_type": "text"
      },
      "source": [
        "Para prosseguirmos, vou ficar com a Alternativa 2, pois é mais rápido, ok?"
      ]
    },
    {
      "cell_type": "code",
      "metadata": {
        "id": "SEeea26rH4uA",
        "colab_type": "code",
        "colab": {}
      },
      "source": [
        "df_Full_Info= df_Full_Info_map.copy()\n",
        "\n",
        "# Avaliar se a correção foi bem sucedida\n",
        "df_Full_Info[s_Variavel].value_counts()"
      ],
      "execution_count": 0,
      "outputs": []
    },
    {
      "cell_type": "markdown",
      "metadata": {
        "id": "KgSqdAC7JNok",
        "colab_type": "text"
      },
      "source": [
        "### Avaliar 'city'"
      ]
    },
    {
      "cell_type": "code",
      "metadata": {
        "id": "oFpD1fmDJPV0",
        "colab_type": "code",
        "colab": {}
      },
      "source": [
        "s_Variavel= 'city'\n",
        "\n",
        "df_Full_Info[s_Variavel].value_counts()\n",
        "# Alternativa: set(df_Full_Info['s_Variavel])"
      ],
      "execution_count": 0,
      "outputs": []
    },
    {
      "cell_type": "markdown",
      "metadata": {
        "id": "VzL3HGkGJaT-",
        "colab_type": "text"
      },
      "source": [
        "A cidade 'newyork' está escrita incorretamente. Vamos corrigir este valor."
      ]
    },
    {
      "cell_type": "code",
      "metadata": {
        "id": "vgkBp3unJxDE",
        "colab_type": "code",
        "colab": {}
      },
      "source": [
        "# Apesar de map() ser mais rápido do que replace(), vou utilizar replace() aqui\n",
        "t0 = time.time()\n",
        "df_Full_Info[s_Variavel]= df_Full_Info[s_Variavel].replace({'newyork': 'new york'})\n",
        "t1 = time.time()\n",
        "t_replace= t1-t0\n",
        "\n",
        "# Avaliar se a correção foi bem sucedida\n",
        "df_Full_Info[s_Variavel].value_counts()"
      ],
      "execution_count": 0,
      "outputs": []
    },
    {
      "cell_type": "markdown",
      "metadata": {
        "id": "fImZvdXPLPWz",
        "colab_type": "text"
      },
      "source": [
        "Inconsistência resolvida. Vamos prosseguir..."
      ]
    },
    {
      "cell_type": "markdown",
      "metadata": {
        "id": "yx5qHlhYLT4l",
        "colab_type": "text"
      },
      "source": [
        "### Avaliar department"
      ]
    },
    {
      "cell_type": "code",
      "metadata": {
        "id": "IlcB_lrNLbwm",
        "colab_type": "code",
        "colab": {}
      },
      "source": [
        "s_Variavel= 'department'\n",
        "\n",
        "df_Full_Info[s_Variavel].value_counts()\n",
        "# Alternativa: set(df_Full_Info['s_Variavel])"
      ],
      "execution_count": 0,
      "outputs": []
    },
    {
      "cell_type": "markdown",
      "metadata": {
        "id": "pWJ40VtiLjj1",
        "colab_type": "text"
      },
      "source": [
        "Nada grave aqui. Vamos prosseguir..."
      ]
    },
    {
      "cell_type": "markdown",
      "metadata": {
        "id": "M3vH-6EYMFAk",
        "colab_type": "text"
      },
      "source": [
        "## Dataframe df_Boss_Info"
      ]
    },
    {
      "cell_type": "code",
      "metadata": {
        "id": "-3xKwSXEgbdl",
        "colab_type": "code",
        "colab": {}
      },
      "source": [
        "df_Boss_Info= pd.DataFrame({'Job': ['Director','Manager','Engineer','Programmer'], \n",
        "                     'Supervisor': ['CEO','Director','Manager','Engineer'],\n",
        "                     'Annual_salary': [159000,134000,98000,60000]})   "
      ],
      "execution_count": 0,
      "outputs": []
    },
    {
      "cell_type": "code",
      "metadata": {
        "id": "ld0mpbOiinDa",
        "colab_type": "code",
        "colab": {}
      },
      "source": [
        "df_Boss_Info.head()"
      ],
      "execution_count": 0,
      "outputs": []
    },
    {
      "cell_type": "markdown",
      "metadata": {
        "id": "8HURrqH_8fdL",
        "colab_type": "text"
      },
      "source": [
        "Da mesma forma, vamos aplicar a função Transf_Lower()."
      ]
    },
    {
      "cell_type": "code",
      "metadata": {
        "id": "ywPV2GT82YEc",
        "colab_type": "code",
        "colab": {}
      },
      "source": [
        "Transf_Lower(df_Boss_Info)\n",
        "df_Boss_Info"
      ],
      "execution_count": 0,
      "outputs": []
    },
    {
      "cell_type": "markdown",
      "metadata": {
        "id": "qk6lAG3NMNne",
        "colab_type": "text"
      },
      "source": [
        "## Avaliar o preenchimento das colunas"
      ]
    },
    {
      "cell_type": "markdown",
      "metadata": {
        "id": "rMMB7DHOMXhG",
        "colab_type": "text"
      },
      "source": [
        "### Avaliar 'job'"
      ]
    },
    {
      "cell_type": "code",
      "metadata": {
        "id": "87yfWoKlMbRE",
        "colab_type": "code",
        "colab": {}
      },
      "source": [
        "s_Variavel= 'job'\n",
        "\n",
        "df_Boss_Info[s_Variavel].value_counts()\n",
        "# Alternativa: set(df_Boss_Info[s_Variavel])"
      ],
      "execution_count": 0,
      "outputs": []
    },
    {
      "cell_type": "markdown",
      "metadata": {
        "id": "Koq-dHrKMwmr",
        "colab_type": "text"
      },
      "source": [
        "Nenhum problema. Vamos prosseguir..."
      ]
    },
    {
      "cell_type": "markdown",
      "metadata": {
        "id": "RkpzEP9YM0zh",
        "colab_type": "text"
      },
      "source": [
        "### Avaliar 'supervisor'"
      ]
    },
    {
      "cell_type": "code",
      "metadata": {
        "id": "Y3cPnkdRM-Q0",
        "colab_type": "code",
        "colab": {}
      },
      "source": [
        "s_Variavel= 'supervisor'\n",
        "\n",
        "df_Boss_Info[s_Variavel].value_counts()\n",
        "# Alternativa: set(df_Boss_Info[s_Variavel])"
      ],
      "execution_count": 0,
      "outputs": []
    },
    {
      "cell_type": "markdown",
      "metadata": {
        "id": "rd-YEtVcNJrd",
        "colab_type": "text"
      },
      "source": [
        "Nenhum problema. Vamos prosseguir..."
      ]
    },
    {
      "cell_type": "markdown",
      "metadata": {
        "id": "Eu9RrUcYNRf8",
        "colab_type": "text"
      },
      "source": [
        "## Dataframe df_MyData"
      ]
    },
    {
      "cell_type": "code",
      "metadata": {
        "id": "ns2t9eUMc29U",
        "colab_type": "code",
        "colab": {}
      },
      "source": [
        "df_MyData= pd.DataFrame({'First_Name': ['Pietra','Laura','Pedro Lucas','Isaac','Clara','Vitor Gabriel','Elisa','Nicolas','Ana Beatriz','Nicolas','Yasmin','Luna','Murilo'],\n",
        "                    'Second_Name': ['Cardoso','Mendes','da Mota','Jesus','Souza','Melo','Barbosa','Melo','Aragão','Silva','Oliveira','Lima','Aragão'], \n",
        "                     'ssn': ['48763512955','81970635401','31645298051','37164528900','49381206740','59140283615','56879130410','20457891360','82047693500','79618543200','81745930639','41978256337','48523071997'],\n",
        "                      'Job': ['Director','Manager','Engineer','Engineer','Engineer','Engineer','Programmer','Director','programmer','Programmer','Programmer','Programmer','Manager'],}) "
      ],
      "execution_count": 0,
      "outputs": []
    },
    {
      "cell_type": "code",
      "metadata": {
        "id": "JYPyQ6jtdc0h",
        "colab_type": "code",
        "colab": {}
      },
      "source": [
        "df_MyData.head()"
      ],
      "execution_count": 0,
      "outputs": []
    },
    {
      "cell_type": "markdown",
      "metadata": {
        "id": "rX2CPegFNiAe",
        "colab_type": "text"
      },
      "source": [
        "Da mesma forma, vamos aplicar a função Transf_Lower()."
      ]
    },
    {
      "cell_type": "code",
      "metadata": {
        "id": "jQWyxYC33BWl",
        "colab_type": "code",
        "colab": {}
      },
      "source": [
        "Transf_Lower(df_MyData)\n",
        "df_MyData"
      ],
      "execution_count": 0,
      "outputs": []
    },
    {
      "cell_type": "markdown",
      "metadata": {
        "id": "Qy-aLKSbNfD8",
        "colab_type": "text"
      },
      "source": [
        "## Avaliar as colunas"
      ]
    },
    {
      "cell_type": "markdown",
      "metadata": {
        "id": "X16-sEnONz5h",
        "colab_type": "text"
      },
      "source": [
        "### Avaliar 'job'"
      ]
    },
    {
      "cell_type": "code",
      "metadata": {
        "id": "gGqBU4roN3Lq",
        "colab_type": "code",
        "colab": {}
      },
      "source": [
        "s_Variavel= 'job'\n",
        "\n",
        "df_MyData[s_Variavel].value_counts()\n",
        "# Alternativa: set(df_MyData[s_Variavel])"
      ],
      "execution_count": 0,
      "outputs": []
    },
    {
      "cell_type": "markdown",
      "metadata": {
        "id": "JRzEg3vPOCOH",
        "colab_type": "text"
      },
      "source": [
        "Nenhum problema. Vamos adiante..."
      ]
    },
    {
      "cell_type": "markdown",
      "metadata": {
        "id": "YkGq-0fQzjpi",
        "colab_type": "text"
      },
      "source": [
        "___\n",
        "# **Missing Value Handling**\n",
        "* Fonte: [Working with missing data](https://pandas.pydata.org/pandas-docs/stable/user_guide/missing_data.html)"
      ]
    },
    {
      "cell_type": "markdown",
      "metadata": {
        "colab_type": "text",
        "id": "wsNxAOUPSmhC"
      },
      "source": [
        "## Missing Value Handling: df_Full_Info"
      ]
    },
    {
      "cell_type": "code",
      "metadata": {
        "colab_type": "code",
        "id": "PakAkvQOSmhF",
        "colab": {}
      },
      "source": [
        "df_Full_Info.isna().sum()"
      ],
      "execution_count": 0,
      "outputs": []
    },
    {
      "cell_type": "markdown",
      "metadata": {
        "colab_type": "text",
        "id": "atBw5--LSx1n"
      },
      "source": [
        "## Missing Value Handling: df_Boss_Info"
      ]
    },
    {
      "cell_type": "code",
      "metadata": {
        "colab_type": "code",
        "id": "hUrIcuhSSx1r",
        "colab": {}
      },
      "source": [
        "df_Boss_Info.isna().sum()"
      ],
      "execution_count": 0,
      "outputs": []
    },
    {
      "cell_type": "markdown",
      "metadata": {
        "id": "5jptYpp5SI1r",
        "colab_type": "text"
      },
      "source": [
        "## Missing Value Handling: df_MyData"
      ]
    },
    {
      "cell_type": "code",
      "metadata": {
        "colab_type": "code",
        "id": "jvlAWQFpSdoP",
        "colab": {}
      },
      "source": [
        "df_MyData.isna().sum()"
      ],
      "execution_count": 0,
      "outputs": []
    },
    {
      "cell_type": "markdown",
      "metadata": {
        "id": "0LRqPqJn0tjk",
        "colab_type": "text"
      },
      "source": [
        "## Exemplo\n",
        "* Considere os exemplos a seguir:"
      ]
    },
    {
      "cell_type": "code",
      "metadata": {
        "id": "7T6t9VUC0zqn",
        "colab_type": "code",
        "colab": {}
      },
      "source": [
        "import numpy as np\n",
        "import pandas as pd"
      ],
      "execution_count": 0,
      "outputs": []
    },
    {
      "cell_type": "code",
      "metadata": {
        "id": "LFHmwmOR05et",
        "colab_type": "code",
        "colab": {}
      },
      "source": [
        "df = pd.DataFrame({'A':[1,2,3,4,np.nan,6,7,8,np.nan],\n",
        "                  'B':[5,np.nan,np.nan,4,np.nan,6,np.nan, np.nan, 9],\n",
        "                  'C':[1,2,3,4,np.nan,6,7,8,9],\n",
        "                   'E': ['Engineer', np.nan, 'Engineer', 'Architect', 'Engineer', 'Programmer', 'Engineer', np.nan, 'Manager']})\n",
        "\n",
        "df"
      ],
      "execution_count": 0,
      "outputs": []
    },
    {
      "cell_type": "markdown",
      "metadata": {
        "id": "KCOS865y6wO-",
        "colab_type": "text"
      },
      "source": [
        "## dropna()\n",
        "> Exclui NaN's."
      ]
    },
    {
      "cell_type": "code",
      "metadata": {
        "id": "yahPpMqd1gRM",
        "colab_type": "code",
        "colab": {}
      },
      "source": [
        "df2= df.dropna()\n",
        "df2"
      ],
      "execution_count": 0,
      "outputs": []
    },
    {
      "cell_type": "markdown",
      "metadata": {
        "id": "TnhC3wwj2Rmp",
        "colab_type": "text"
      },
      "source": [
        "Qual a interpretação?"
      ]
    },
    {
      "cell_type": "code",
      "metadata": {
        "id": "z_oDj8uw1-nq",
        "colab_type": "code",
        "colab": {}
      },
      "source": [
        "df3= df.dropna(axis=1)\n",
        "df3"
      ],
      "execution_count": 0,
      "outputs": []
    },
    {
      "cell_type": "markdown",
      "metadata": {
        "id": "VU8aC9bf2F9j",
        "colab_type": "text"
      },
      "source": [
        "Qual a interpretação?"
      ]
    },
    {
      "cell_type": "code",
      "metadata": {
        "id": "_VWr5Kqk2sWZ",
        "colab_type": "code",
        "colab": {}
      },
      "source": [
        "# Remove todas as colunas onde os valores são NaN\n",
        "df4= df.dropna(axis=1, how='all')\n",
        "df4"
      ],
      "execution_count": 0,
      "outputs": []
    },
    {
      "cell_type": "markdown",
      "metadata": {
        "id": "y_GkBTNr3JDJ",
        "colab_type": "text"
      },
      "source": [
        "Qual a interpretação?"
      ]
    },
    {
      "cell_type": "code",
      "metadata": {
        "id": "OGZjLUsa3Loh",
        "colab_type": "code",
        "colab": {}
      },
      "source": [
        "# Remove todas as linhas onde todos os valores são NaN\n",
        "df5= df.dropna(axis=0, how='all')\n",
        "df5"
      ],
      "execution_count": 0,
      "outputs": []
    },
    {
      "cell_type": "code",
      "metadata": {
        "id": "I3DUDMij2IY_",
        "colab_type": "code",
        "colab": {}
      },
      "source": [
        "# Remove todas as linhas onde há algum NaN\n",
        "df6= df.dropna(axis=0, how='any') \n",
        "df6"
      ],
      "execution_count": 0,
      "outputs": []
    },
    {
      "cell_type": "markdown",
      "metadata": {
        "id": "nJWZOgb_1wJI",
        "colab_type": "text"
      },
      "source": [
        "Qual a interpretação?"
      ]
    },
    {
      "cell_type": "code",
      "metadata": {
        "id": "CAg692SU4hsX",
        "colab_type": "code",
        "colab": {}
      },
      "source": [
        "# Remove linhas se há NaN na column 'A'\n",
        "df7= df.dropna(axis=0, subset=['A'])\n",
        "df7"
      ],
      "execution_count": 0,
      "outputs": []
    },
    {
      "cell_type": "markdown",
      "metadata": {
        "id": "h3VBXSwM41Jp",
        "colab_type": "text"
      },
      "source": [
        "Qual a interpretação?"
      ]
    },
    {
      "cell_type": "code",
      "metadata": {
        "id": "XVLWwXou45OS",
        "colab_type": "code",
        "colab": {}
      },
      "source": [
        " # Remover a coluna se houver algum valor 'NaN' no índice é '1'\n",
        "df8= df.dropna(axis=1, subset=[1])\n",
        "df8"
      ],
      "execution_count": 0,
      "outputs": []
    },
    {
      "cell_type": "markdown",
      "metadata": {
        "id": "huLYUIwO64uZ",
        "colab_type": "text"
      },
      "source": [
        "## fillna()\n",
        "> Missing Value Imputation - Substituir NaN's."
      ]
    },
    {
      "cell_type": "markdown",
      "metadata": {
        "id": "yjHZ2MqNhl9N",
        "colab_type": "text"
      },
      "source": [
        "### COLUNAS Numéricas"
      ]
    },
    {
      "cell_type": "code",
      "metadata": {
        "id": "iwXS5q_T7C6X",
        "colab_type": "code",
        "colab": {}
      },
      "source": [
        "df"
      ],
      "execution_count": 0,
      "outputs": []
    },
    {
      "cell_type": "code",
      "metadata": {
        "id": "2kEGSJqF6-cn",
        "colab_type": "code",
        "colab": {}
      },
      "source": [
        "# Substituindo o NaN da colunha 'A' por 0\n",
        "df2= df.copy()\n",
        "df2[\"A\"].fillna(0, inplace= True) \n",
        "df2"
      ],
      "execution_count": 0,
      "outputs": []
    },
    {
      "cell_type": "code",
      "metadata": {
        "id": "b6BBNCnM7YjJ",
        "colab_type": "code",
        "colab": {}
      },
      "source": [
        "# Substituindo NaN da colunha 'A' pela média de A\n",
        "df2= df.copy()\n",
        "df2['A'].fillna(df2['A'].mean(), inplace= True)\n",
        "df2"
      ],
      "execution_count": 0,
      "outputs": []
    },
    {
      "cell_type": "code",
      "metadata": {
        "id": "pDkOYPwN9f5j",
        "colab_type": "code",
        "colab": {}
      },
      "source": [
        "# Substituindo os NaN da coluna 'A' pela média\n",
        "df2= df.copy()\n",
        "df2['A'] = df2['A'].fillna(df2['A'].mean())\n",
        "df2"
      ],
      "execution_count": 0,
      "outputs": []
    },
    {
      "cell_type": "code",
      "metadata": {
        "id": "HsXNb8dX-Nl-",
        "colab_type": "code",
        "colab": {}
      },
      "source": [
        "# Substituindo os NaN da coluna 'A' pela mediana\n",
        "df2= df.copy()\n",
        "df2['A'] = df2['A'].fillna(df2['A'].median())\n",
        "df2"
      ],
      "execution_count": 0,
      "outputs": []
    },
    {
      "cell_type": "code",
      "metadata": {
        "id": "cF0WXsMz-Ueg",
        "colab_type": "code",
        "colab": {}
      },
      "source": [
        "# Substituindo os NaN da coluna 'A' pela moda\n",
        "df2= df.copy()\n",
        "df2['A'] = df2['A'].fillna(df2['A'].mode()[0])\n",
        "df2"
      ],
      "execution_count": 0,
      "outputs": []
    },
    {
      "cell_type": "markdown",
      "metadata": {
        "id": "wXaDa8r8hrqU",
        "colab_type": "text"
      },
      "source": [
        "### COLUNAS Strings/Object"
      ]
    },
    {
      "cell_type": "code",
      "metadata": {
        "id": "wSNtYfiIiDKm",
        "colab_type": "code",
        "colab": {}
      },
      "source": [
        "df"
      ],
      "execution_count": 0,
      "outputs": []
    },
    {
      "cell_type": "code",
      "metadata": {
        "id": "jTxzkvZNhvTh",
        "colab_type": "code",
        "colab": {}
      },
      "source": [
        "# Substituindo os NaN da coluna 'E' pela moda\n",
        "df2= df.copy()\n",
        "df2['E'] = df2['E'].fillna(df2['E'].mode()[0])\n",
        "df2"
      ],
      "execution_count": 0,
      "outputs": []
    },
    {
      "cell_type": "markdown",
      "metadata": {
        "id": "pIsf_nDtyAvF",
        "colab_type": "text"
      },
      "source": [
        "___\n",
        "# **Combinar dataframes: Merge, Join & Concatenate**\n",
        "* Fonte: [Merge, join, and concatenate](https://pandas.pydata.org/pandas-docs/stable/user_guide/merging.html)"
      ]
    },
    {
      "cell_type": "markdown",
      "metadata": {
        "id": "s1fSplrlEMHK",
        "colab_type": "text"
      },
      "source": [
        "* A seguir, três formas para combinar dataframes:"
      ]
    },
    {
      "cell_type": "markdown",
      "metadata": {
        "id": "6DYtWxuIrdzF",
        "colab_type": "text"
      },
      "source": [
        "## Concatenate\n",
        "* Une/empilha dataframes\n",
        "* Fonte: https://github.com/aakankshaws/Pandas-exercises"
      ]
    },
    {
      "cell_type": "code",
      "metadata": {
        "id": "nnP5VuWkri_b",
        "colab_type": "code",
        "colab": {}
      },
      "source": [
        "import pandas as pd\n",
        "df1 = pd.DataFrame({'A': ['A0', 'A1', 'A2', 'A3'],\n",
        "                        'B': ['B0', 'B1', 'B2', 'B3'],\n",
        "                        'C': ['C0', 'C1', 'C2', 'C3'],\n",
        "                        'D': ['D0', 'D1', 'D2', 'D3']})"
      ],
      "execution_count": 0,
      "outputs": []
    },
    {
      "cell_type": "code",
      "metadata": {
        "id": "rkJvSGYSrm8b",
        "colab_type": "code",
        "colab": {}
      },
      "source": [
        "df2 = pd.DataFrame({'A': ['A4', 'A5', 'A6', 'A7'],\n",
        "                        'B': ['B4', 'B5', 'B6', 'B7'],\n",
        "                        'C': ['C4', 'C5', 'C6', 'C7'],\n",
        "                        'D': ['D4', 'D5', 'D6', 'D7']})"
      ],
      "execution_count": 0,
      "outputs": []
    },
    {
      "cell_type": "code",
      "metadata": {
        "id": "NCgdYvJIrqx1",
        "colab_type": "code",
        "colab": {}
      },
      "source": [
        "df3 = pd.DataFrame({'A': ['A8', 'A9', 'A10', 'A11'],\n",
        "                        'B': ['B8', 'B9', 'B10', 'B11'],\n",
        "                        'C': ['C8', 'C9', 'C10', 'C11'],\n",
        "                        'D': ['D8', 'D9', 'D10', 'D11']})"
      ],
      "execution_count": 0,
      "outputs": []
    },
    {
      "cell_type": "code",
      "metadata": {
        "id": "gUoyjyjur5Zn",
        "colab_type": "code",
        "colab": {}
      },
      "source": [
        "df1"
      ],
      "execution_count": 0,
      "outputs": []
    },
    {
      "cell_type": "code",
      "metadata": {
        "id": "xU6Rh10Gr7NA",
        "colab_type": "code",
        "colab": {}
      },
      "source": [
        "df2"
      ],
      "execution_count": 0,
      "outputs": []
    },
    {
      "cell_type": "code",
      "metadata": {
        "id": "qKwmOWsQr9wA",
        "colab_type": "code",
        "colab": {}
      },
      "source": [
        "df3"
      ],
      "execution_count": 0,
      "outputs": []
    },
    {
      "cell_type": "code",
      "metadata": {
        "id": "-MNn-XdlsjJS",
        "colab_type": "code",
        "colab": {}
      },
      "source": [
        "df= pd.concat([df1, df2, df3])\n",
        "df"
      ],
      "execution_count": 0,
      "outputs": []
    },
    {
      "cell_type": "markdown",
      "metadata": {
        "id": "BV6HgxSYtG6Z",
        "colab_type": "text"
      },
      "source": [
        "Veja que basicamente empilhamos os dataframes. No entanto, se fizermos..."
      ]
    },
    {
      "cell_type": "code",
      "metadata": {
        "id": "Dp-oh-7ftLo5",
        "colab_type": "code",
        "colab": {}
      },
      "source": [
        "df= pd.concat([df1, df2, df3], axis= 1)\n",
        "df"
      ],
      "execution_count": 0,
      "outputs": []
    },
    {
      "cell_type": "markdown",
      "metadata": {
        "id": "iyDZt2XEtmVs",
        "colab_type": "text"
      },
      "source": [
        "Se, no entanto, tivermos:"
      ]
    },
    {
      "cell_type": "code",
      "metadata": {
        "id": "5PAhjjVZtpP5",
        "colab_type": "code",
        "colab": {}
      },
      "source": [
        "df1 = pd.DataFrame({'A': ['A0', 'A1', 'A2', 'A3'],\n",
        "                        'B': ['B0', 'B1', 'B2', 'B3'],\n",
        "                        'C': ['C0', 'C1', 'C2', 'C3'],\n",
        "                        'D': ['D0', 'D1', 'D2', 'D3']},\n",
        "                        index=[0, 1, 2, 3])\n",
        "\n",
        "df2 = pd.DataFrame({'A': ['A4', 'A5', 'A6', 'A7'],\n",
        "                        'B': ['B4', 'B5', 'B6', 'B7'],\n",
        "                        'C': ['C4', 'C5', 'C6', 'C7'],\n",
        "                        'D': ['D4', 'D5', 'D6', 'D7']},\n",
        "                         index=[4, 5, 6, 7])\n",
        "\n",
        "df3 = pd.DataFrame({'A': ['A8', 'A9', 'A10', 'A11'],\n",
        "                        'B': ['B8', 'B9', 'B10', 'B11'],\n",
        "                        'C': ['C8', 'C9', 'C10', 'C11'],\n",
        "                        'D': ['D8', 'D9', 'D10', 'D11']},\n",
        "                        index=[8, 9, 10, 11])"
      ],
      "execution_count": 0,
      "outputs": []
    },
    {
      "cell_type": "markdown",
      "metadata": {
        "id": "zGDHd-kPt3-T",
        "colab_type": "text"
      },
      "source": [
        "Então..."
      ]
    },
    {
      "cell_type": "code",
      "metadata": {
        "id": "3bTl2Nr2t5WM",
        "colab_type": "code",
        "colab": {}
      },
      "source": [
        "df= pd.concat([df1, df2, df3], axis= 1)\n",
        "df"
      ],
      "execution_count": 0,
      "outputs": []
    },
    {
      "cell_type": "markdown",
      "metadata": {
        "id": "sUXjlp_Jt925",
        "colab_type": "text"
      },
      "source": [
        "Porque isso acontece?"
      ]
    },
    {
      "cell_type": "markdown",
      "metadata": {
        "id": "JdKXY873HrYt",
        "colab_type": "text"
      },
      "source": [
        "## Merge"
      ]
    },
    {
      "cell_type": "markdown",
      "metadata": {
        "id": "rMxAwZOLdsCr",
        "colab_type": "text"
      },
      "source": [
        "### Join (One-to-one joins)\n",
        "\n",
        "* One-to-one joins significa que temos uma única chave para cada linha do dataframe;\n",
        "* Observe que a chave comum entre o dataframe Full_Info e MyData é ssn (Social Security Number). Com esta chave comum, fazemos o merge dos dois dataframes."
      ]
    },
    {
      "cell_type": "code",
      "metadata": {
        "id": "cvh68fyzdtW5",
        "colab_type": "code",
        "colab": {}
      },
      "source": [
        "df_Merged = pd.merge(df_MyData, df_Full_Info, on='ssn', how='left')\n",
        "df_Merged.head()"
      ],
      "execution_count": 0,
      "outputs": []
    },
    {
      "cell_type": "markdown",
      "metadata": {
        "id": "LFfu9XSelCV4",
        "colab_type": "text"
      },
      "source": [
        "**Temos aqui um problema**: Observe que temos uma coluna em comum nos dois dataframes: 'job'. Portanto, é informação redundante que precisa ser excluída."
      ]
    },
    {
      "cell_type": "markdown",
      "metadata": {
        "id": "MxWjPrnQ85NR",
        "colab_type": "text"
      },
      "source": [
        "O comando a seguir aplica o drop na coluna redundante 'job_y' e renomeia 'job_x' para 'job'"
      ]
    },
    {
      "cell_type": "code",
      "metadata": {
        "id": "k7MmmQwx89iA",
        "colab_type": "code",
        "colab": {}
      },
      "source": [
        "df_Merged = pd.merge(df_MyData, df_Full_Info, on='ssn', how='left').drop('job_y', axis=1).rename(columns= {'job_x': 'job'})\n",
        "df_Merged.head()"
      ],
      "execution_count": 0,
      "outputs": []
    },
    {
      "cell_type": "markdown",
      "metadata": {
        "colab_type": "text",
        "id": "lZdJY05mTHpw"
      },
      "source": [
        "#### Missing Value Handling: df_Merged"
      ]
    },
    {
      "cell_type": "code",
      "metadata": {
        "colab_type": "code",
        "id": "fEXJUgI3THpz",
        "colab": {}
      },
      "source": [
        "df_Merged.isna().sum()"
      ],
      "execution_count": 0,
      "outputs": []
    },
    {
      "cell_type": "markdown",
      "metadata": {
        "id": "0O87Dxnxi7Tg",
        "colab_type": "text"
      },
      "source": [
        "### Join (Many-to-one joins)"
      ]
    },
    {
      "cell_type": "code",
      "metadata": {
        "id": "ON6zVLqIi_Ln",
        "colab_type": "code",
        "colab": {}
      },
      "source": [
        "df_Merged2 = pd.merge(df_MyData, df_Boss_Info, on='job', how='left')\n",
        "df_Merged2.head()"
      ],
      "execution_count": 0,
      "outputs": []
    },
    {
      "cell_type": "markdown",
      "metadata": {
        "colab_type": "text",
        "id": "R_Sgs-SyTRjJ"
      },
      "source": [
        "#### Missing Value Handling: df_Merged2"
      ]
    },
    {
      "cell_type": "code",
      "metadata": {
        "colab_type": "code",
        "id": "de4-fszrTRjK",
        "colab": {}
      },
      "source": [
        "df_Merged2.isna().sum()"
      ],
      "execution_count": 0,
      "outputs": []
    },
    {
      "cell_type": "markdown",
      "metadata": {
        "id": "5jrIkOANpXhY",
        "colab_type": "text"
      },
      "source": [
        "### Join (Many-to-many joins)\n",
        "\n",
        "* Considere o dataframe de skills abaixo:"
      ]
    },
    {
      "cell_type": "code",
      "metadata": {
        "id": "FM48pf-jpsQf",
        "colab_type": "code",
        "colab": {}
      },
      "source": [
        "df_Skills= pd.DataFrame({'Job': ['Director','Director','Director','Director','Manager','manager','Manager','Engineer','Engineer','Engineer','Engineer','Engineer','Engineer','Programmer','Programmer','Programmer','Programmer','Programmer','Programmer'], \n",
        "                     'skills': ['Negotiation','Decision Making','Leadership','Strategic Thinking','Decision Making','Leadership','Communication','The ability to work under pressure','Problem-solving','Creativity','Interpersonal skills','Teamworking skills','Problem-solving','Creativity','Python','Coding', 'Strategic Thinking', 'The ability to work under pressure', 'Resourcefulness']})   "
      ],
      "execution_count": 0,
      "outputs": []
    },
    {
      "cell_type": "code",
      "metadata": {
        "id": "Q8MJ1ZWJTjVN",
        "colab_type": "code",
        "colab": {}
      },
      "source": [
        "df_Skills.head()"
      ],
      "execution_count": 0,
      "outputs": []
    },
    {
      "cell_type": "markdown",
      "metadata": {
        "id": "G2B9pBLOswrW",
        "colab_type": "text"
      },
      "source": [
        "Então temos a tabela de skills abaixo. No entanto, observe que há mais de 1 skill para o mesmo Job. Por exemplo, 'Director' possui 4 skills."
      ]
    },
    {
      "cell_type": "markdown",
      "metadata": {
        "id": "2Nt1enEuTrKN",
        "colab_type": "text"
      },
      "source": [
        "A seguir, uniformização do nome das colunas:"
      ]
    },
    {
      "cell_type": "code",
      "metadata": {
        "id": "tfWJbRxZTvpV",
        "colab_type": "code",
        "colab": {}
      },
      "source": [
        "# Corrigir o nome das colunas\n",
        "df_Skills.columns= [col.lower() for col in df_Skills.columns]\n",
        "df_Skills.head()"
      ],
      "execution_count": 0,
      "outputs": []
    },
    {
      "cell_type": "markdown",
      "metadata": {
        "id": "bUUa9LRkT_Gd",
        "colab_type": "text"
      },
      "source": [
        "**Próximo Passo**: Avaliar as colunas."
      ]
    },
    {
      "cell_type": "markdown",
      "metadata": {
        "id": "NpKGsEC_UFFu",
        "colab_type": "text"
      },
      "source": [
        "#### Avaliar 'job'"
      ]
    },
    {
      "cell_type": "code",
      "metadata": {
        "id": "V6s9aB8uTvlP",
        "colab_type": "code",
        "colab": {}
      },
      "source": [
        "# Avaliar variável 'job'\n",
        "s_Variavel= 'job'\n",
        "\n",
        "df_Skills[s_Variavel].value_counts()\n",
        "# Alternativa: set(df_Skills[s_Variavel])"
      ],
      "execution_count": 0,
      "outputs": []
    },
    {
      "cell_type": "markdown",
      "metadata": {
        "id": "KOZvvbdgUXm4",
        "colab_type": "text"
      },
      "source": [
        "Aqui, temos uma inconsistência com o valor 'manager', pois, conforme o padrão, deveríamos ter 'Manager'. Vamos corrigir este valor:"
      ]
    },
    {
      "cell_type": "code",
      "metadata": {
        "id": "5402wgJ8TvhS",
        "colab_type": "code",
        "colab": {}
      },
      "source": [
        "# Apesar de map() ser mais rápido do que replace(), vou utilizar replace() aqui\n",
        "df_Skills[s_Variavel]= df_Skills[s_Variavel].replace({'manager': 'Manager'})\n",
        "\n",
        "# Avaliar se a correção foi bem sucedida\n",
        "df_Skills[s_Variavel].value_counts()"
      ],
      "execution_count": 0,
      "outputs": []
    },
    {
      "cell_type": "markdown",
      "metadata": {
        "id": "cUoo-UhPU-02",
        "colab_type": "text"
      },
      "source": [
        "Ok, inconsistência corrigida. Vamos prosseguir..."
      ]
    },
    {
      "cell_type": "code",
      "metadata": {
        "id": "WEiBMLPetA4C",
        "colab_type": "code",
        "colab": {}
      },
      "source": [
        "df_Merged3 = pd.merge(df_Merged2, df_Skills, on='job', how='left')\n",
        "df_Merged3.head()"
      ],
      "execution_count": 0,
      "outputs": []
    },
    {
      "cell_type": "markdown",
      "metadata": {
        "colab_type": "text",
        "id": "48Mwrd696IGn"
      },
      "source": [
        "#### Missing Value Handling: df_Merged3"
      ]
    },
    {
      "cell_type": "code",
      "metadata": {
        "colab_type": "code",
        "id": "Jle_W8IQ6IGe",
        "colab": {}
      },
      "source": [
        "df_Merged3.isna().sum()"
      ],
      "execution_count": 0,
      "outputs": []
    },
    {
      "cell_type": "markdown",
      "metadata": {
        "colab_type": "text",
        "id": "c6fH8i5z6IGa"
      },
      "source": [
        "**Conclusão**: aplicamos transformações nas colunas e nas linhas/instâncias dos dataframes."
      ]
    },
    {
      "cell_type": "markdown",
      "metadata": {
        "id": "SkCbLsoktgKl",
        "colab_type": "text"
      },
      "source": [
        "### Observações:\n",
        "\n",
        "* Em alguns casos a variável chave nos dois dataframes que se quer fazer o join possui nomes diferentes. Neste caso, use 'left_on' e 'right_on' para definir o nome das colunas chaves no dataframe da esquerda e direita:\n",
        "    * pd.merge(df1, df2, left_on=\"employee\", right_on=\"name\")\n",
        "        * No exemplo acima, o dataframe df1 (dataframe da esquerda) possui chave 'employee' enquanto que o dataframe df2 (dataframe da direita), possui chave 'name'. Usando as 'left_on' e 'right_on' fica claro o nome das chaves de ligação de cada dataframe."
      ]
    },
    {
      "cell_type": "markdown",
      "metadata": {
        "id": "6Obc0fHUwIpu",
        "colab_type": "text"
      },
      "source": [
        "## Joining"
      ]
    },
    {
      "cell_type": "code",
      "metadata": {
        "id": "DQOa89_cwLyd",
        "colab_type": "code",
        "colab": {}
      },
      "source": [
        "df_Left = pd.DataFrame({'A': ['A0', 'A1', 'A2'],\n",
        "                     'B': ['B0', 'B1', 'B2']},\n",
        "                      index=['K0', 'K1', 'K2']) \n",
        "\n",
        "df_Right = pd.DataFrame({'C': ['C0', 'C2', 'C3'],\n",
        "                    'D': ['D0', 'D2', 'D3']},\n",
        "                      index=['K0', 'K2', 'K3'])"
      ],
      "execution_count": 0,
      "outputs": []
    },
    {
      "cell_type": "code",
      "metadata": {
        "id": "UHnX9rxzwMmx",
        "colab_type": "code",
        "colab": {}
      },
      "source": [
        "df_Left"
      ],
      "execution_count": 0,
      "outputs": []
    },
    {
      "cell_type": "code",
      "metadata": {
        "id": "GBc1Mr0Qwff3",
        "colab_type": "code",
        "colab": {}
      },
      "source": [
        "df_Right"
      ],
      "execution_count": 0,
      "outputs": []
    },
    {
      "cell_type": "code",
      "metadata": {
        "id": "TmIk3Kjlwg-7",
        "colab_type": "code",
        "colab": {}
      },
      "source": [
        "df_Left.join(df_Right)"
      ],
      "execution_count": 0,
      "outputs": []
    },
    {
      "cell_type": "code",
      "metadata": {
        "id": "h609fbjjwoZ3",
        "colab_type": "code",
        "colab": {}
      },
      "source": [
        "df_Left.join(df_Right, how='outer')"
      ],
      "execution_count": 0,
      "outputs": []
    },
    {
      "cell_type": "markdown",
      "metadata": {
        "id": "9j146UF2gzxl",
        "colab_type": "text"
      },
      "source": [
        "___\n",
        "# **map()**\n",
        "> artificio fácil para lidar com a transformação de dados. Como vimos anteriormente, definimos um dicionário {'key': valor}."
      ]
    },
    {
      "cell_type": "markdown",
      "metadata": {
        "id": "xQaSn6mmhSkU",
        "colab_type": "text"
      },
      "source": [
        "Veja o dataframe df_Merged3 a seguir:"
      ]
    },
    {
      "cell_type": "code",
      "metadata": {
        "id": "-GS2lxU6hRto",
        "colab_type": "code",
        "colab": {}
      },
      "source": [
        "df_Merged3.head()"
      ],
      "execution_count": 0,
      "outputs": []
    },
    {
      "cell_type": "markdown",
      "metadata": {
        "id": "BWKYNxKEhegb",
        "colab_type": "text"
      },
      "source": [
        "Vamos verificar o preenchimento da variável 'job':"
      ]
    },
    {
      "cell_type": "code",
      "metadata": {
        "id": "sWOVfMi4hnRE",
        "colab_type": "code",
        "colab": {}
      },
      "source": [
        "# Avaliar variável 'supervisor'\n",
        "s_Variavel= 'supervisor'\n",
        "\n",
        "df_Merged3[s_Variavel].value_counts()\n",
        "# Alternativa: set(df_Merged3[s_Variavel])"
      ],
      "execution_count": 0,
      "outputs": []
    },
    {
      "cell_type": "markdown",
      "metadata": {
        "id": "82H2CBDFhzvk",
        "colab_type": "text"
      },
      "source": [
        "Como exemplo, suponha que queiramos criar a variável 'level' da seguinte forma:\n",
        "\n",
        "| job | level |\n",
        "|-----|-----------|\n",
        "| CEO | 1         |\n",
        "| Director | 2         |\n",
        "| Manager | 3         |\n",
        "| Engineer | 4         |\n",
        "| Programmer | 5         |\n"
      ]
    },
    {
      "cell_type": "markdown",
      "metadata": {
        "id": "jpr2ISbTi2AB",
        "colab_type": "text"
      },
      "source": [
        "Portanto, o objetivo é criar a variável 'level', conforme apresentada acima."
      ]
    },
    {
      "cell_type": "code",
      "metadata": {
        "id": "P8tGbbTDi_VA",
        "colab_type": "code",
        "colab": {}
      },
      "source": [
        "# Mapeando...\n",
        "level_map = {'CEO': 1, 'Director': 2, 'Manager': 3, 'Engineer': 4, 'Programmer': 5}"
      ],
      "execution_count": 0,
      "outputs": []
    },
    {
      "cell_type": "code",
      "metadata": {
        "id": "QmHNn4hajjXx",
        "colab_type": "code",
        "colab": {}
      },
      "source": [
        "# Aplicar map() para construir a variável 'level'\n",
        "df_Merged3['level'] = df_Merged3['supervisor'].map(level_map)\n",
        "df_Merged3.head()"
      ],
      "execution_count": 0,
      "outputs": []
    },
    {
      "cell_type": "markdown",
      "metadata": {
        "id": "Y8W2kP-VCB3E",
        "colab_type": "text"
      },
      "source": [
        "___\n",
        "# **Selecionar linhas do pd.DataFrame() baseado nos índices**\n",
        "### Leitura Adicional\n",
        "* [pandas loc vs. iloc vs. ix vs. at vs. iat?\n",
        "](https://stackoverflow.com/questions/28757389/pandas-loc-vs-iloc-vs-ix-vs-at-vs-iat/47098873#47098873)\n",
        "* [Indexing and selecting data](https://pandas.pydata.org/pandas-docs/stable/user_guide/indexing.html)"
      ]
    },
    {
      "cell_type": "markdown",
      "metadata": {
        "id": "NN1R1ngAG61x",
        "colab_type": "text"
      },
      "source": [
        "## 1st Approach - pd.loc[]\n",
        "* Para capturar o conteúdo da linha k, use df.loc[row_indexer,column_indexer]."
      ]
    },
    {
      "cell_type": "code",
      "metadata": {
        "id": "oduXMUtIUvkN",
        "colab_type": "code",
        "colab": {}
      },
      "source": [
        "df_Titanic.head()"
      ],
      "execution_count": 0,
      "outputs": []
    },
    {
      "cell_type": "markdown",
      "metadata": {
        "id": "JX9nGPWcVLgE",
        "colab_type": "text"
      },
      "source": [
        "\n",
        "Por exemlo, o comando a seguir mostra o conteúdo da linha 0, todas as colunas(:)"
      ]
    },
    {
      "cell_type": "code",
      "metadata": {
        "id": "U5-I2NgYC2fD",
        "colab_type": "code",
        "colab": {}
      },
      "source": [
        "df2= df_Titanic.loc[1,:]\n",
        "df2.head()"
      ],
      "execution_count": 0,
      "outputs": []
    },
    {
      "cell_type": "markdown",
      "metadata": {
        "id": "tDSJcQLTDyJw",
        "colab_type": "text"
      },
      "source": [
        "Mostrando o conteúdo das linhas k= 1:2 (ou seja, linhas 1 e 2), todas as colunas(:)"
      ]
    },
    {
      "cell_type": "code",
      "metadata": {
        "id": "JD1TDTqAD_5r",
        "colab_type": "code",
        "colab": {}
      },
      "source": [
        "df_Titanic.loc[1:2, :]"
      ],
      "execution_count": 0,
      "outputs": []
    },
    {
      "cell_type": "markdown",
      "metadata": {
        "id": "EoAmcdfnEIho",
        "colab_type": "text"
      },
      "source": [
        "Mostrar os conteúdos da linha k= 1, coluna 'pclass':"
      ]
    },
    {
      "cell_type": "code",
      "metadata": {
        "id": "8vjc5z3_EQfY",
        "colab_type": "code",
        "colab": {}
      },
      "source": [
        "df_Titanic.loc[1, ['pclass']]"
      ],
      "execution_count": 0,
      "outputs": []
    },
    {
      "cell_type": "markdown",
      "metadata": {
        "id": "7bC8-H-QFLgd",
        "colab_type": "text"
      },
      "source": [
        "Mostrar os conteúdos da linha k= 1 e colunas ['pclass', 'sex']:"
      ]
    },
    {
      "cell_type": "code",
      "metadata": {
        "id": "LYFTrZr_FR5g",
        "colab_type": "code",
        "colab": {}
      },
      "source": [
        "df_Titanic.loc[0, ['pclass', 'sex']]"
      ],
      "execution_count": 0,
      "outputs": []
    },
    {
      "cell_type": "markdown",
      "metadata": {
        "id": "UtUsmU8sXYTU",
        "colab_type": "text"
      },
      "source": [
        "Porque temos um erro aqui?"
      ]
    },
    {
      "cell_type": "markdown",
      "metadata": {
        "id": "CRy5sDx-XbBL",
        "colab_type": "text"
      },
      "source": [
        "Versão correta abaixo:"
      ]
    },
    {
      "cell_type": "code",
      "metadata": {
        "id": "5Lfw0HEnXdn0",
        "colab_type": "code",
        "colab": {}
      },
      "source": [
        "df_Titanic.loc[1, ['pclass', 'sex']]"
      ],
      "execution_count": 0,
      "outputs": []
    },
    {
      "cell_type": "markdown",
      "metadata": {
        "id": "Tjw3vjkDZg1Z",
        "colab_type": "text"
      },
      "source": [
        "Mostrar os conteúdos da linha k= 1:5 e colunas ['pclass', 'sex']:"
      ]
    },
    {
      "cell_type": "code",
      "metadata": {
        "id": "4GuAE5MSZjNb",
        "colab_type": "code",
        "colab": {}
      },
      "source": [
        "df_Titanic.loc[1:5, ['pclass', 'sex']]"
      ],
      "execution_count": 0,
      "outputs": []
    },
    {
      "cell_type": "markdown",
      "metadata": {
        "id": "xRZxqE6RFnJI",
        "colab_type": "text"
      },
      "source": [
        "Agora suponha que queremos selecionar toda a 'sex'. Como fazer isso?"
      ]
    },
    {
      "cell_type": "code",
      "metadata": {
        "id": "JdeD_uzfFrp5",
        "colab_type": "code",
        "colab": {}
      },
      "source": [
        "df_Sex= df_Titanic.loc[:, 'sex']\n",
        "df_Sex.head()"
      ],
      "execution_count": 0,
      "outputs": []
    },
    {
      "cell_type": "markdown",
      "metadata": {
        "id": "z_WUjYxsX-Av",
        "colab_type": "text"
      },
      "source": [
        "Fácil selecionarmos o que queremos usando .loc() e iloc(), certo?"
      ]
    },
    {
      "cell_type": "markdown",
      "metadata": {
        "id": "RKk0zollHFbp",
        "colab_type": "text"
      },
      "source": [
        "## 2nd Approach - Usando lists\n",
        "\n",
        "\n",
        "\n"
      ]
    },
    {
      "cell_type": "code",
      "metadata": {
        "id": "jhwoY6LmGzC0",
        "colab_type": "code",
        "colab": {}
      },
      "source": [
        "df_Titanic[0:2] # Mostrar os conteúdos das linhas 0:2"
      ],
      "execution_count": 0,
      "outputs": []
    },
    {
      "cell_type": "code",
      "metadata": {
        "id": "I6EOVIDxGiy-",
        "colab_type": "code",
        "colab": {}
      },
      "source": [
        "df_Titanic[:3] # Mostrar os conteúdos até a linha 3"
      ],
      "execution_count": 0,
      "outputs": []
    },
    {
      "cell_type": "code",
      "metadata": {
        "id": "VOHp77F8H9t1",
        "colab_type": "code",
        "colab": {}
      },
      "source": [
        "df_Titanic['sex'].head() # Mostrar o conteúdo inteiro da variável 'sex'"
      ],
      "execution_count": 0,
      "outputs": []
    },
    {
      "cell_type": "code",
      "metadata": {
        "id": "8nvHNdhPZ040",
        "colab_type": "code",
        "colab": {}
      },
      "source": [
        "df_Titanic[0:5]['sex'].head() # Mostrar as linhas 0 a 5 da variável 'sex'"
      ],
      "execution_count": 0,
      "outputs": []
    },
    {
      "cell_type": "markdown",
      "metadata": {
        "id": "GMFso1jaYXgN",
        "colab_type": "text"
      },
      "source": [
        "___\n",
        "# **Selecionar/Filtrar linhas do pd.DataFrame() baseado em condições**\n",
        "> Aproveitando o exemplo anterior, queremos selecionar do dataframe somente os passageiros do sexo 'male'."
      ]
    },
    {
      "cell_type": "markdown",
      "metadata": {
        "id": "jek8Ru3Aam23",
        "colab_type": "text"
      },
      "source": [
        "## Exemplo 1: df.loc() e df.iloc()"
      ]
    },
    {
      "cell_type": "code",
      "metadata": {
        "id": "eysZoBX2YKb-",
        "colab_type": "code",
        "colab": {}
      },
      "source": [
        "df_Sex_male= df_Titanic.loc[df_Titanic['sex']== 'male', 'sex']\n",
        "df_Sex_male.head()"
      ],
      "execution_count": 0,
      "outputs": []
    },
    {
      "cell_type": "markdown",
      "metadata": {
        "id": "uLDOHKGfaq-Z",
        "colab_type": "text"
      },
      "source": [
        "## Exemplo 2: Uso do []"
      ]
    },
    {
      "cell_type": "code",
      "metadata": {
        "id": "QncrZwHkasiu",
        "colab_type": "code",
        "colab": {}
      },
      "source": [
        "df_Sex_male= df_Titanic[df_Titanic['sex']== 'male']['sex']\n",
        "df_Sex_male.head()"
      ],
      "execution_count": 0,
      "outputs": []
    },
    {
      "cell_type": "markdown",
      "metadata": {
        "id": "7UedpTeEcMkz",
        "colab_type": "text"
      },
      "source": [
        "## Exemplo 3: Duas condições"
      ]
    },
    {
      "cell_type": "code",
      "metadata": {
        "id": "Sh0DDj1xcPaI",
        "colab_type": "code",
        "colab": {}
      },
      "source": [
        "# Selecionar todas as linhas onde Pclass= 1 & Embarked = 'S':\n",
        "df2= df_Titanic[((df_Titanic['pclass'] == 1) & (df_Titanic['embarked'] == 'S'))]\n",
        "df2.head()"
      ],
      "execution_count": 0,
      "outputs": []
    },
    {
      "cell_type": "markdown",
      "metadata": {
        "id": "wZ3MOXyHDkFz",
        "colab_type": "text"
      },
      "source": [
        "## Exemplo 4: df.query()\n",
        "Fonte: //pandas.pydata.org/pandas-docs/stable/user_guide/indexing.html#the-query-method"
      ]
    },
    {
      "cell_type": "markdown",
      "metadata": {
        "id": "ot6UBTYJF-AJ",
        "colab_type": "text"
      },
      "source": [
        "## Exemplo 5: df.isin()\n"
      ]
    },
    {
      "cell_type": "code",
      "metadata": {
        "id": "X0wW9iV5JKUF",
        "colab_type": "code",
        "colab": {}
      },
      "source": [
        "df_Titanic.head()"
      ],
      "execution_count": 0,
      "outputs": []
    },
    {
      "cell_type": "code",
      "metadata": {
        "id": "LeTDiGICGOzb",
        "colab_type": "code",
        "colab": {}
      },
      "source": [
        "df2= df_Titanic['Sex'].isin(['male'])\n",
        "df2.head()"
      ],
      "execution_count": 0,
      "outputs": []
    },
    {
      "cell_type": "markdown",
      "metadata": {
        "id": "Q6emu30nGmpt",
        "colab_type": "text"
      },
      "source": [
        "### Criar filtros com df.isin()"
      ]
    },
    {
      "cell_type": "code",
      "metadata": {
        "id": "TRaiCYMRGpgl",
        "colab_type": "code",
        "colab": {}
      },
      "source": [
        "# Filtros usando df.isin() \n",
        "Filtro1 = df_Titanic[\"Sex\"].isin([\"male\"]) \n",
        "Filtro2 = df_Titanic[\"Pclass\"].isin([1]) \n",
        "  \n",
        "# Mostra os resutados  \n",
        "df_Titanic[Filtro1 & Filtro2].head()"
      ],
      "execution_count": 0,
      "outputs": []
    },
    {
      "cell_type": "markdown",
      "metadata": {
        "id": "KVSAYeU0KA2V",
        "colab_type": "text"
      },
      "source": [
        "___\n",
        "# **Selecionar Amostras Aleatórias**"
      ]
    },
    {
      "cell_type": "markdown",
      "metadata": {
        "id": "U502dAs3OfOH",
        "colab_type": "text"
      },
      "source": [
        "Vimos que o dataframe df_Titanic é muito grande. Então, vamos selecionar aleatoriamente 100 linhas."
      ]
    },
    {
      "cell_type": "code",
      "metadata": {
        "id": "0BrKUnAiPcAy",
        "colab_type": "code",
        "colab": {}
      },
      "source": [
        "import random  \n",
        "\n",
        "# Biblioteca para avaliarmos o tempo de processamento de cada alternativa\n",
        "import time"
      ],
      "execution_count": 0,
      "outputs": []
    },
    {
      "cell_type": "code",
      "metadata": {
        "id": "iJ1G8lYgKGsc",
        "colab_type": "code",
        "colab": {}
      },
      "source": [
        "# Usando sample\n",
        "t0= time.time()\n",
        "df_Titanic_sample100= df_Titanic.sample(100, replace= False, random_state= 20111974)\n",
        "t1= time.time()\n",
        "t= t1-t0\n",
        "df_Titanic_sample100.head()"
      ],
      "execution_count": 0,
      "outputs": []
    },
    {
      "cell_type": "code",
      "metadata": {
        "id": "8DvWOKizZQr8",
        "colab_type": "code",
        "colab": {}
      },
      "source": [
        "f'Tempo de processamento: {t}'"
      ],
      "execution_count": 0,
      "outputs": []
    },
    {
      "cell_type": "code",
      "metadata": {
        "id": "nAHLTjpvYKPS",
        "colab_type": "code",
        "colab": {}
      },
      "source": [
        "# Usando NumPy\n",
        "import numpy as np\n",
        "\n",
        "t0= time.time()\n",
        "np.random.seed(20111974)\n",
        "indices = np.random.choice(df_Titanic.shape[0], replace=False, size=100)\n",
        "df_Titanic_sample100_V2 = df_Titanic.iloc[indices]\n",
        "t1= time.time()\n",
        "t= t1-t0\n",
        "df_Titanic_sample100_V2.head()"
      ],
      "execution_count": 0,
      "outputs": []
    },
    {
      "cell_type": "code",
      "metadata": {
        "id": "U8PEDMJ4a52P",
        "colab_type": "code",
        "colab": {}
      },
      "source": [
        "f'Tempo de processamento: {t}'"
      ],
      "execution_count": 0,
      "outputs": []
    },
    {
      "cell_type": "code",
      "metadata": {
        "id": "wYeuJWdEdMPd",
        "colab_type": "code",
        "colab": {}
      },
      "source": [
        "df_Titanic_sample100_V2.shape"
      ],
      "execution_count": 0,
      "outputs": []
    },
    {
      "cell_type": "markdown",
      "metadata": {
        "id": "vNMiRkjCQ9Mu",
        "colab_type": "text"
      },
      "source": [
        "___\n",
        "# **Descrever o Dataframe**"
      ]
    },
    {
      "cell_type": "code",
      "metadata": {
        "id": "GllUFj56RHuD",
        "colab_type": "code",
        "colab": {}
      },
      "source": [
        "df_Titanic_sample100.describe()"
      ],
      "execution_count": 0,
      "outputs": []
    },
    {
      "cell_type": "code",
      "metadata": {
        "id": "izbpIEi1d1sx",
        "colab_type": "code",
        "colab": {}
      },
      "source": [
        "df_Titanic_sample100_V2.describe()"
      ],
      "execution_count": 0,
      "outputs": []
    },
    {
      "cell_type": "markdown",
      "metadata": {
        "id": "H40G3QzWbG9N",
        "colab_type": "text"
      },
      "source": [
        "___\n",
        "# **Identificar e lidar com linhas duplicadas**"
      ]
    },
    {
      "cell_type": "markdown",
      "metadata": {
        "id": "_OoM_HS5ZgxG",
        "colab_type": "text"
      },
      "source": [
        "## Exemplo 1\n",
        "* considera as duplicatas em todas as colunas do dataframe."
      ]
    },
    {
      "cell_type": "code",
      "metadata": {
        "id": "5XOOdOZBbLc_",
        "colab_type": "code",
        "colab": {}
      },
      "source": [
        "df = pd.DataFrame({'A':[1,1,3,4,5,1], 'B':[1,1,3,7,8,1], 'C':[3,1,1,6,7,1]})\n",
        "df"
      ],
      "execution_count": 0,
      "outputs": []
    },
    {
      "cell_type": "code",
      "metadata": {
        "id": "Gio08BkTbTOp",
        "colab_type": "code",
        "colab": {}
      },
      "source": [
        "# Lista as duplicações em forma booleana\n",
        "df.duplicated()"
      ],
      "execution_count": 0,
      "outputs": []
    },
    {
      "cell_type": "markdown",
      "metadata": {
        "id": "obgbM4d_hJ_J",
        "colab_type": "text"
      },
      "source": [
        "Observe a linha 5, onde temos a informação que esta linha está duplicada. Na verdade, a linha 5 é igual à linha 1"
      ]
    },
    {
      "cell_type": "code",
      "metadata": {
        "id": "LHhOIb-EbWfn",
        "colab_type": "code",
        "colab": {}
      },
      "source": [
        "# Mostra as linhas duplicadas\n",
        "df[df.duplicated()]"
      ],
      "execution_count": 0,
      "outputs": []
    },
    {
      "cell_type": "code",
      "metadata": {
        "id": "IyJS70_kZ-Jk",
        "colab_type": "code",
        "colab": {}
      },
      "source": [
        "# Deleta a linha 5 que, como vimos, estava duplicada (uma cópia da linha 1).\n",
        "df= df.drop_duplicates()\n",
        "df"
      ],
      "execution_count": 0,
      "outputs": []
    },
    {
      "cell_type": "markdown",
      "metadata": {
        "id": "3Q05mxOSaEjX",
        "colab_type": "text"
      },
      "source": [
        "## Exemplo 2\n",
        "* Considera somente algumas colunas"
      ]
    },
    {
      "cell_type": "code",
      "metadata": {
        "id": "jiqyjcqdaQ1y",
        "colab_type": "code",
        "colab": {}
      },
      "source": [
        "df = pd.DataFrame({'A':[1,1,3,4,5,1], 'B':[1,1,3,7,8,1], 'C':[3,1,1,6,7,1]})\n",
        "df"
      ],
      "execution_count": 0,
      "outputs": []
    },
    {
      "cell_type": "code",
      "metadata": {
        "id": "F_118d7vbZ9Y",
        "colab_type": "code",
        "colab": {}
      },
      "source": [
        "# Mostra as linhas duplicadas usando as colunas 'A' e 'B'\n",
        "df[df.duplicated(subset=['A','B'])]"
      ],
      "execution_count": 0,
      "outputs": []
    },
    {
      "cell_type": "code",
      "metadata": {
        "id": "_1w_ZZO4vF3A",
        "colab_type": "code",
        "colab": {}
      },
      "source": [
        "# Deleta as linhas 1 e 5, pois como podemos ver, são duplicatas da linha 0\n",
        "df= df.drop_duplicates(subset = ['A', 'B'])\n",
        "df"
      ],
      "execution_count": 0,
      "outputs": []
    },
    {
      "cell_type": "markdown",
      "metadata": {
        "id": "ujrYHyOsfW7n",
        "colab_type": "text"
      },
      "source": [
        "___\n",
        "# **Mostrar linhas do dataframe baseado em condições**"
      ]
    },
    {
      "cell_type": "code",
      "metadata": {
        "id": "gntbfHgTfanx",
        "colab_type": "code",
        "colab": {}
      },
      "source": [
        "# Mostrar todas as linhas onde a string 'Mr' aparece no nome do passageiro:\n",
        "df2= df_Titanic[df_Titanic['Name'].str.contains('Mr')]\n",
        "df2.head()"
      ],
      "execution_count": 0,
      "outputs": []
    },
    {
      "cell_type": "markdown",
      "metadata": {
        "id": "eaRtQ8Ja8MOH",
        "colab_type": "text"
      },
      "source": [
        "Para saber mais sobre o método df[col].str.contais(), consulte https://pandas.pydata.org/pandas-docs/stable/reference/api/pandas.Series.str.contains.html."
      ]
    },
    {
      "cell_type": "markdown",
      "metadata": {
        "id": "qVx6p8u36jhD",
        "colab_type": "text"
      },
      "source": [
        "___\n",
        "# **Trabalhar com dados do tipo texto**\n",
        "* Fonte: [Working with text data](https://pandas.pydata.org/pandas-docs/stable/user_guide/text.html)"
      ]
    },
    {
      "cell_type": "markdown",
      "metadata": {
        "id": "JLG3cVA1e8-B",
        "colab_type": "text"
      },
      "source": [
        "Preparando os dados para o exemplo:"
      ]
    },
    {
      "cell_type": "code",
      "metadata": {
        "id": "G_CEULoyeP8C",
        "colab_type": "code",
        "colab": {}
      },
      "source": [
        "# Define um dicionário com os dados: \n",
        "import numpy as np\n",
        "\n",
        "l_Idade= []\n",
        "for i in range(6):\n",
        "    np.random.seed(i)    \n",
        "    l_Idade.append(np.random.randint(10, 40))\n",
        "    \n",
        "\n",
        "d_Exemplo = {'Nome':['Mr. Antonio dos Santos', 'Mr. Joao Pedro', 'Miss. Priscila Alvarenga', 'Mr. fagner NoVAES', 'Miss. Danielle Aparecida', 'Mr. Paullo Amarantes'], \n",
        "        'Idade': l_Idade, \n",
        "        'Cidade':['lisboa', 'Sintra', 'Braga', 'Guimaraes', 'Mafra', 'Nazare']} \n",
        "   \n",
        "# Converte o dicionário num dataframe\n",
        "df = pd.DataFrame(d_Exemplo) \n",
        "df"
      ],
      "execution_count": 0,
      "outputs": []
    },
    {
      "cell_type": "markdown",
      "metadata": {
        "id": "or-Kzaqmdn2b",
        "colab_type": "text"
      },
      "source": [
        "Algumas coisas que podemos fazer com relação á variável nome do dataframe df:\n",
        "\n",
        "    * Extrair o cumprimento do nome: Mr., Miss e etc.\n",
        "    * Construir as colunas PrimeiroNome e SegundoNome.\n",
        "    * Criar a variável Idade_Class."
      ]
    },
    {
      "cell_type": "markdown",
      "metadata": {
        "id": "Vd99ksvcg7uy",
        "colab_type": "text"
      },
      "source": [
        "## Extrair o cumprimento do nome"
      ]
    },
    {
      "cell_type": "code",
      "metadata": {
        "id": "rNsANzFAg_Kn",
        "colab_type": "code",
        "colab": {}
      },
      "source": [
        "df_Nome= df['Nome'].str.split(' ', n = 2, expand = True) \n",
        "df_Nome"
      ],
      "execution_count": 0,
      "outputs": []
    },
    {
      "cell_type": "markdown",
      "metadata": {
        "id": "ianqsxLol008",
        "colab_type": "text"
      },
      "source": [
        "Altere o valor de n para 3 e explique como as coisas funcionam..."
      ]
    },
    {
      "cell_type": "code",
      "metadata": {
        "id": "5NDAkEqCl6H5",
        "colab_type": "code",
        "colab": {}
      },
      "source": [
        "# Capturando o cumprimento do nome:\n",
        "df['Cumprimento']= df['Nome'].str.split(' ', n = 2, expand = True)[0]\n",
        "df"
      ],
      "execution_count": 0,
      "outputs": []
    },
    {
      "cell_type": "markdown",
      "metadata": {
        "id": "B1QoH4LyrpVI",
        "colab_type": "text"
      },
      "source": [
        "## Construir as colunas Primeiro_Nome e Segundo_Nome"
      ]
    },
    {
      "cell_type": "code",
      "metadata": {
        "id": "cbi4eRN2mOu9",
        "colab_type": "code",
        "colab": {}
      },
      "source": [
        "# Capturando o primeiro nome:\n",
        "df['Primeiro_Nome']= df['Nome'].str.split(' ', n = 2, expand = True)[1]\n",
        "df['Ultimo_Nome']= df['Nome'].str.split(' ', n = 2, expand = True)[2]\n",
        "df"
      ],
      "execution_count": 0,
      "outputs": []
    },
    {
      "cell_type": "markdown",
      "metadata": {
        "id": "7eagWhgZrwOh",
        "colab_type": "text"
      },
      "source": [
        "### Construir a variável Idade_Class\n",
        "\n",
        " | Limite Inferior | Limite Superior | Classe |\n",
        "    |-----------------|-----------------|--------|\n",
        "    | Inf | 15 | Inf_15 |\n",
        "    | 15 | 20 | 15_20 |\n",
        "    | 20 | 30 | 25_30 |\n",
        "    | 30 | 40 | 30_40 |\n",
        "    | 40 | 50 | 40_50 |\n",
        "    | 50 | Sup | 50_Sup |"
      ]
    },
    {
      "cell_type": "code",
      "metadata": {
        "id": "lBjRBGBWr2AH",
        "colab_type": "code",
        "colab": {}
      },
      "source": [
        "def Idade_Class):\n",
        "    if (Idade <= 15):\n",
        "        return 'Inf_15'\n",
        "    if (15 < Idade <= 20):\n",
        "        return '15_20'\n",
        "    elif(20 < Idade <= 30):\n",
        "        return '20_30'\n",
        "    elif (30 < Idade <= 40):\n",
        "        return '30_40'\n",
        "    elif (40 < Idade <= 50):\n",
        "        return '40_50'\n",
        "    elif (Idade > 50):\n",
        "        return '50_Sup'\n",
        "    else:\n",
        "        return 'Outros'"
      ],
      "execution_count": 0,
      "outputs": []
    },
    {
      "cell_type": "code",
      "metadata": {
        "id": "OogrvjCrsdoh",
        "colab_type": "code",
        "colab": {}
      },
      "source": [
        "df['Idade_Class'] = df['Idade'].map(Idade_Class)"
      ],
      "execution_count": 0,
      "outputs": []
    },
    {
      "cell_type": "markdown",
      "metadata": {
        "id": "bMwPLgWclWBq",
        "colab_type": "text"
      },
      "source": [
        "___\n",
        "# **Exercício dirigido**\n",
        "* Carregue o dataframe Titanic_With_MV na pasta Dataframes e analise o dataframe em busca de inconsistências e Missing Values (NaN)."
      ]
    },
    {
      "cell_type": "code",
      "metadata": {
        "id": "V7KUGAX6lilP",
        "colab_type": "code",
        "colab": {}
      },
      "source": [
        "import pandas as pd\n",
        "df_Titanic = pd.read_csv('https://raw.githubusercontent.com/MathMachado/DSWP/master/Dataframes/Titanic_With_MV.csv')\n",
        "df_Titanic.head()"
      ],
      "execution_count": 0,
      "outputs": []
    },
    {
      "cell_type": "markdown",
      "metadata": {
        "id": "m3UnAPJakCLR",
        "colab_type": "text"
      },
      "source": [
        "* Segue o dicionário de dados do dataframe Titanic:\n",
        "    * PassengerID: ID do passageiro;\n",
        "    * Survived: Indicador, sendo 1= Passageiro sobreviveu e 0= Passageiro morreu;\n",
        "    * Pclass: Classe;\n",
        "    * Age: Idade do Passageiro;\n",
        "    * SibSp: Número de parentes a bordo (esposa, irmãos, pais e etc);\n",
        "    * Parch: Número de pais/crianças a bordo;\n",
        "    * Fare: Valor pago pelo Passageiro;\n",
        "    * Cabin: Cabine do Passageiro;\n",
        "    * Embarked: A porta pelo qual o Passageiro embarcou.\n",
        "    * Name: Nome do Passageiro;\n",
        "    * Sex: Sexo do Passageiro\n",
        "    "
      ]
    },
    {
      "cell_type": "markdown",
      "metadata": {
        "id": "8RYK1UZvmeia",
        "colab_type": "text"
      },
      "source": [
        "Vamos dar uma olhada nos campos categóricos para verificarmos como estão preenchidos."
      ]
    },
    {
      "cell_type": "code",
      "metadata": {
        "id": "zXfWxjk1mlRB",
        "colab_type": "code",
        "colab": {}
      },
      "source": [
        "import seaborn as sns\n",
        "\n",
        "sns.countplot(x='Survived', hue='Pclass', data=df_Titanic)"
      ],
      "execution_count": 0,
      "outputs": []
    },
    {
      "cell_type": "code",
      "metadata": {
        "id": "wUk0YNlxsgvf",
        "colab_type": "code",
        "colab": {}
      },
      "source": [
        "df_Titanic['Pclass'].value_counts()"
      ],
      "execution_count": 0,
      "outputs": []
    },
    {
      "cell_type": "markdown",
      "metadata": {
        "id": "2n8s9Ad1m7od",
        "colab_type": "text"
      },
      "source": [
        "Não me parece nada estranho com a variável 'Pclass'. Ou você identifica alguma coisa estranho?\n",
        "\n",
        "Vamos olhar a variável 'Sex'"
      ]
    },
    {
      "cell_type": "code",
      "metadata": {
        "id": "BRRgcLtinIRz",
        "colab_type": "code",
        "colab": {}
      },
      "source": [
        "sns.countplot(x='Survived', hue='Sex', data=df_Titanic)"
      ],
      "execution_count": 0,
      "outputs": []
    },
    {
      "cell_type": "code",
      "metadata": {
        "id": "8SQ8v2Wnspfb",
        "colab_type": "code",
        "colab": {}
      },
      "source": [
        "df_Titanic['Sex'].value_counts()"
      ],
      "execution_count": 0,
      "outputs": []
    },
    {
      "cell_type": "markdown",
      "metadata": {
        "id": "jxx06kJFnNrP",
        "colab_type": "text"
      },
      "source": [
        "Oops... Aqui temos vários problemas... Olhando para estes resultados, você concorda que 'male', 'm', 'MALE', M', 'mALE' e 'Men' se trata da mesma informação?\n",
        "\n",
        "Da mesma forma, 'female', 'f', 'F', 'Female', 'fEMALE', 'Woman', 'w' e 'W' também se trata da mesma informação?\n",
        "\n",
        "Então, vamos fazer o seguinte:\n",
        "\n",
        "* Toda vez que eu encontrar um desses valores: ['m', 'MALE', 'M', 'mALE', 'Men'], vou substituir por 'male';\n",
        "* Toda vez que eu encontrar um desses valores: ['f', 'F', 'Female', 'fEMALE', 'Woman', 'w', 'W'], vou substituit por 'female'.\n",
        "\n",
        "O comando a seguir faz estas substituições:"
      ]
    },
    {
      "cell_type": "code",
      "metadata": {
        "id": "CwoyLBK9oME5",
        "colab_type": "code",
        "colab": {}
      },
      "source": [
        "df_Titanic['Sex2'] = df_Titanic['Sex'].replace(['m', 'MALE', 'M', 'mALE', 'Men'], 'male')\n",
        "df_Titanic['Sex3'] = df_Titanic['Sex2'].replace(['f', 'F', 'Female', 'fEMALE', 'Woman', 'w', 'W'], 'female')  "
      ],
      "execution_count": 0,
      "outputs": []
    },
    {
      "cell_type": "markdown",
      "metadata": {
        "id": "RC35I-Njp4vh",
        "colab_type": "text"
      },
      "source": [
        "Vamos ver a distribuição dos dados novamente no gráfico:"
      ]
    },
    {
      "cell_type": "code",
      "metadata": {
        "id": "1eGvEhA9qAN6",
        "colab_type": "code",
        "colab": {}
      },
      "source": [
        "sns.countplot(x='Survived', hue='Sex3', data=df_Titanic)"
      ],
      "execution_count": 0,
      "outputs": []
    },
    {
      "cell_type": "code",
      "metadata": {
        "id": "IY3TaKUcszTQ",
        "colab_type": "code",
        "colab": {}
      },
      "source": [
        "df_Titanic['Sex3'].value_counts()"
      ],
      "execution_count": 0,
      "outputs": []
    },
    {
      "cell_type": "markdown",
      "metadata": {
        "id": "2nOAcv3iqEaK",
        "colab_type": "text"
      },
      "source": [
        "Ok, de fato corrigimos os problemas de preenchimento da variável 'Sex'."
      ]
    },
    {
      "cell_type": "markdown",
      "metadata": {
        "id": "JDtxz_eaRcmi",
        "colab_type": "text"
      },
      "source": [
        "___\n",
        "# **Agrupar Informações: pd.groupby()**\n",
        "* Fonte: [Group By: split-apply-combine](https://pandas.pydata.org/pandas-docs/stable/user_guide/groupby.html)\n",
        "\n",
        "* Os componentes do comando Groupby()\n",
        "    * **Grouping_Column** - Variável Categórica pelo qual os dados serão agrupados;\n",
        "    * **Aggregating_Column** - Variável numérica cujos valores serão agrupados;\n",
        "    * **Aggregating_Function** - Função agregadora, ou seja: sum, min, max, mean, median, etc...\n",
        "\n",
        "> Sintaxe: \n",
        "\n",
        "```df.groupby('Grouping_Column').agg({'Aggregating_Column': 'Aggregating_Function'})```"
      ]
    },
    {
      "cell_type": "code",
      "metadata": {
        "id": "wteEveUsd36C",
        "colab_type": "code",
        "colab": {}
      },
      "source": [
        "df_Titanic.head()"
      ],
      "execution_count": 0,
      "outputs": []
    },
    {
      "cell_type": "code",
      "metadata": {
        "id": "buF5DhkFfqVA",
        "colab_type": "code",
        "colab": {}
      },
      "source": [
        "# Agrupando df_Titanic por 'Sex3'\n",
        "df_Titanic.groupby(['Sex3']).agg({'Fare': ['max', 'min']})"
      ],
      "execution_count": 0,
      "outputs": []
    },
    {
      "cell_type": "code",
      "metadata": {
        "id": "YP3GDwq0gR_V",
        "colab_type": "code",
        "colab": {}
      },
      "source": [
        "# Agrupando df_Titanic por 'Sex3' e 'Pclass'\n",
        "df_Titanic.groupby(['Sex3','Pclass']).agg({'Fare': ['max', 'min']}).round(0)"
      ],
      "execution_count": 0,
      "outputs": []
    },
    {
      "cell_type": "code",
      "metadata": {
        "id": "se4tQ3ETeUfv",
        "colab_type": "code",
        "colab": {}
      },
      "source": [
        "df_Titanic.groupby(['Sex3']).agg({'Age': ['mean','min','max']}).round(0)"
      ],
      "execution_count": 0,
      "outputs": []
    },
    {
      "cell_type": "code",
      "metadata": {
        "id": "zUj82I7Cm220",
        "colab_type": "code",
        "colab": {}
      },
      "source": [
        "df_Titanic.head()"
      ],
      "execution_count": 0,
      "outputs": []
    },
    {
      "cell_type": "markdown",
      "metadata": {
        "id": "RNsR0NsS5iIU",
        "colab_type": "text"
      },
      "source": [
        "___\n",
        "# **Reshaping & Pivot Tables**\n",
        "* Fonte: [Reshaping and pivot tables](https://pandas.pydata.org/pandas-docs/stable/user_guide/reshaping.html)"
      ]
    },
    {
      "cell_type": "markdown",
      "metadata": {
        "id": "bHth6KSv7k0G",
        "colab_type": "text"
      },
      "source": [
        "___\n",
        "# **Dados Categóricos**\n",
        "* Fonte: [Categorical data](https://pandas.pydata.org/pandas-docs/stable/user_guide/categorical.html)"
      ]
    },
    {
      "cell_type": "markdown",
      "metadata": {
        "id": "P6Ni_Wkd2xBa",
        "colab_type": "text"
      },
      "source": [
        "___\n",
        "# **Dados Numéricos**"
      ]
    },
    {
      "cell_type": "markdown",
      "metadata": {
        "id": "b8uB5Hdj73Ym",
        "colab_type": "text"
      },
      "source": [
        "___\n",
        "# **Ferramentas Úteis**\n",
        "* Fonte: [Computational tools](https://pandas.pydata.org/pandas-docs/stable/user_guide/computation.html)"
      ]
    },
    {
      "cell_type": "markdown",
      "metadata": {
        "id": "Kxu16VHO8LOK",
        "colab_type": "text"
      },
      "source": [
        "___\n",
        "# **EDA - Análise Exploratória de Dados**\n",
        "* Fonte: [Exploratory Data Analysis](http://www.stat.cmu.edu/~hseltman/309/Book/chapter4.pdf)"
      ]
    },
    {
      "cell_type": "markdown",
      "metadata": {
        "id": "iwd1lhq9mrD3",
        "colab_type": "text"
      },
      "source": [
        "___\n",
        "# **Exercícios**"
      ]
    },
    {
      "cell_type": "markdown",
      "metadata": {
        "id": "o_cl0kFgQfFh",
        "colab_type": "text"
      },
      "source": [
        "## Exercício 1\n",
        "* A partir dos dataframes USA_Abbrev, USA_Area e USA_Population, construa o Dataframe USA contendo as colunas state, abbreviation, area, ages, year, population.\n"
      ]
    },
    {
      "cell_type": "markdown",
      "metadata": {
        "id": "s8rQUo7yHKJ1",
        "colab_type": "text"
      },
      "source": [
        "* Observação: A forma mais fácil de ler um arquivo CSV (a partir do Excell por exemplo) a partir do GitHub é clicar no arquivo csv no seu repositório do GitHub e em seguida clicar em 'raw'. Depois, copie o endereço apresentado no browser e cole na variável 'url'. Qualquer dúvida, leia o documento a seguir: https://towardsdatascience.com/3-ways-to-load-csv-files-into-colab-7c14fcbdcb92."
      ]
    },
    {
      "cell_type": "markdown",
      "metadata": {
        "id": "KTun1uSLuJ-A",
        "colab_type": "text"
      },
      "source": [
        "## Exercício 2\n",
        "Source: https://github.com/aakankshaws/Pandas-exercises\n",
        "\n",
        "* Considere os dataframes a seguir e faça o merge do dataframe df_Left com o dataframe df_Right:"
      ]
    },
    {
      "cell_type": "code",
      "metadata": {
        "id": "Soq7GVZnuREq",
        "colab_type": "code",
        "colab": {}
      },
      "source": [
        "df_Left = pd.DataFrame({'key': ['K0', 'K1', 'K2', 'K3'],\n",
        "                     'A': ['A0', 'A1', 'A2', 'A3'],\n",
        "                     'B': ['B0', 'B1', 'B2', 'B3']})\n",
        "   \n",
        "df_Right = pd.DataFrame({'key': ['K0', 'K1', 'K2', 'K3'],\n",
        "                          'C': ['C0', 'C1', 'C2', 'C3'],\n",
        "                          'D': ['D0', 'D1', 'D2', 'D3']})"
      ],
      "execution_count": 0,
      "outputs": []
    },
    {
      "cell_type": "markdown",
      "metadata": {
        "id": "6KEsTARfvM1C",
        "colab_type": "text"
      },
      "source": [
        "## Exercício 3\n",
        "Source: https://github.com/aakankshaws/Pandas-exercises\n",
        "\n",
        "* Considere os dataframes a seguir:"
      ]
    },
    {
      "cell_type": "code",
      "metadata": {
        "id": "hgxE5gZ9vMEg",
        "colab_type": "code",
        "colab": {}
      },
      "source": [
        "df_Left = pd.DataFrame({'key1': ['K0', 'K0', 'K1', 'K2'],\n",
        "                     'key2': ['K0', 'K1', 'K0', 'K1'],\n",
        "                        'A': ['A0', 'A1', 'A2', 'A3'],\n",
        "                        'B': ['B0', 'B1', 'B2', 'B3']})\n",
        "    \n",
        "df_Right = pd.DataFrame({'key1': ['K0', 'K1', 'K1', 'K2'],\n",
        "                               'key2': ['K0', 'K0', 'K0', 'K0'],\n",
        "                                  'C': ['C0', 'C1', 'C2', 'C3'],\n",
        "                                  'D': ['D0', 'D1', 'D2', 'D3']})"
      ],
      "execution_count": 0,
      "outputs": []
    },
    {
      "cell_type": "markdown",
      "metadata": {
        "id": "iv7AmZ1ivm8R",
        "colab_type": "text"
      },
      "source": [
        "### Perguntas\n",
        "* Qual o output e a interpretação dos comandos a seguir:"
      ]
    },
    {
      "cell_type": "code",
      "metadata": {
        "id": "TWAW_1tuvvSO",
        "colab_type": "code",
        "colab": {}
      },
      "source": [
        "pd.merge(df_Left, df_Right, on=['key1', 'key2'])"
      ],
      "execution_count": 0,
      "outputs": []
    },
    {
      "cell_type": "code",
      "metadata": {
        "id": "QjM7pBONvzCJ",
        "colab_type": "code",
        "colab": {}
      },
      "source": [
        "pd.merge(df_Left, df_Rright, how='outer', on=['key1', 'key2'])"
      ],
      "execution_count": 0,
      "outputs": []
    },
    {
      "cell_type": "code",
      "metadata": {
        "id": "D1Rr3Ghsv2iS",
        "colab_type": "code",
        "colab": {}
      },
      "source": [
        "pd.merge(df_Left, df_Rright, how='right', on=['key1', 'key2'])"
      ],
      "execution_count": 0,
      "outputs": []
    },
    {
      "cell_type": "code",
      "metadata": {
        "id": "vXQwLjT-v3Iu",
        "colab_type": "code",
        "colab": {}
      },
      "source": [
        "pd.merge(df_Left, df_Right, how='left', on=['key1', 'key2'])"
      ],
      "execution_count": 0,
      "outputs": []
    }
  ]
}