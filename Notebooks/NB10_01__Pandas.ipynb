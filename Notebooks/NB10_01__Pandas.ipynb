{
  "nbformat": 4,
  "nbformat_minor": 0,
  "metadata": {
    "colab": {
      "name": "Untitled0.ipynb",
      "provenance": [],
      "private_outputs": true,
      "toc_visible": true,
      "include_colab_link": true
    },
    "kernelspec": {
      "name": "python3",
      "display_name": "Python 3"
    }
  },
  "cells": [
    {
      "cell_type": "markdown",
      "metadata": {
        "id": "view-in-github",
        "colab_type": "text"
      },
      "source": [
        "<a href=\"https://colab.research.google.com/github/massaoHigaskino/DSWP/blob/2019_10_26_lecture/Notebooks/NB10_01__Pandas.ipynb\" target=\"_parent\"><img src=\"https://colab.research.google.com/assets/colab-badge.svg\" alt=\"Open In Colab\"/></a>"
      ]
    },
    {
      "cell_type": "markdown",
      "metadata": {
        "id": "_eradxaM1Rp8",
        "colab_type": "text"
      },
      "source": [
        "# **Melhorias da sessão**\n",
        "\n"
      ]
    },
    {
      "cell_type": "markdown",
      "metadata": {
        "id": "vo7mtiNSr_Wk",
        "colab_type": "text"
      },
      "source": [
        "___\n",
        "# **Referências**\n",
        "* [Learn Aggregation and Data Wrangling with Python](https://data-flair.training/blogs/data-wrangling-with-python/)\n",
        "* [Python Data Cleansing by Pandas & Numpy | Python Data Operations](https://data-flair.training/blogs/python-data-cleansing/)\n",
        "* [Pandas from basic to advanced for Data Scientists](https://towardsdatascience.com/pandas-from-basic-to-advanced-for-data-scientists-aee4eed19cfe)\n",
        "* [Exploratory Data Analysis Tutorial in Python](https://towardsdatascience.com/exploratory-data-analysis-tutorial-in-python-15602b417445)\n",
        "* [Exploring the data using python](https://towardsdatascience.com/exploring-the-data-using-python-47c4bc7b8fa2)\n",
        "* [A better EDA with Pandas-profiling](https://towardsdatascience.com/a-better-eda-with-pandas-profiling-e842a00e1136)\n",
        "* [Exploratory Data Analysis: Haberman’s Cancer Survival Dataset](https://towardsdatascience.com/exploratory-data-analysis-habermans-cancer-survival-dataset-c511255d62cb)\n",
        "* [Exploring Exploratory Data Analysis](https://towardsdatascience.com/exploring-exploratory-data-analysis-1aa72908a5df)\n",
        "* [Getting started with Data Analysis with Python Pandas](https://towardsdatascience.com/getting-started-to-data-analysis-with-python-pandas-with-titanic-dataset-a195ab043c77)\n",
        "* [A Gentle Introduction to Exploratory Data Analysis](https://towardsdatascience.com/a-gentle-introduction-to-exploratory-data-analysis-f11d843b8184)\n",
        "* [Exploratory Data Analysis (EDA) techniques for Kaggle competition beginners](https://towardsdatascience.com/exploratory-data-analysis-eda-techniques-for-kaggle-competition-beginners-be4237c3c3a9)\n",
        "* [What is Exploratory Data Analysis?](https://towardsdatascience.com/exploratory-data-analysis-8fc1cb20fd15)\n",
        "* [Exploring real estate investment opportunity in Boston and Seattle](https://towardsdatascience.com/exploring-real-estate-investment-opportunity-in-boston-and-seattle-9d89d0c9bed2)"
      ]
    },
    {
      "cell_type": "markdown",
      "metadata": {
        "id": "BUEbp88oD1Km",
        "colab_type": "text"
      },
      "source": [
        "___\n",
        "# **Análise de dados com Pandas**\n",
        "## Highlights\n",
        "\n",
        "* Rápida e eficiente library para data manipulation;\n",
        "* Ferramentas para ler e gravar todos os tipos de dados e formatos: CSV, txt, Microsoft Excel, SQL databases e HDF5 format;\n",
        "* Pandas é a library mais popular para análise de dados. As principais ações que faremos com Pandas são:\n",
        "    * Ler/gravar diferentes formatos de dados;\n",
        "    * Selecionar subconjuntos de dados;\n",
        "    * Cálculos variados por coluna ou por linha das tabelas;\n",
        "    * Encontrar e tratar Missing Values;\n",
        "    * Combinar múltiplos dataframes;"
      ]
    },
    {
      "cell_type": "markdown",
      "metadata": {
        "id": "wkxQFPPmeKLl",
        "colab_type": "text"
      },
      "source": [
        "![Pandas](https://github.com/MathMachado/Materials/blob/master/Pandas.jpeg?raw=true)"
      ]
    },
    {
      "cell_type": "markdown",
      "metadata": {
        "id": "eKawOG-neqaD",
        "colab_type": "text"
      },
      "source": [
        "![Pandas](https://github.com/MathMachado/Materials/blob/master/Pandas2.jpeg?raw=true)"
      ]
    },
    {
      "cell_type": "markdown",
      "metadata": {
        "id": "TLdSmsJZwlcQ",
        "colab_type": "text"
      },
      "source": [
        "___\n",
        "# **Até quando usar Pandas?**"
      ]
    },
    {
      "cell_type": "markdown",
      "metadata": {
        "id": "O7YKF5gB2x0K",
        "colab_type": "text"
      },
      "source": [
        "![RightToolForEachSize](https://github.com/MathMachado/Materials/blob/master/SizesAndTools.PNG?raw=true)\n",
        "\n",
        "## Sources\n",
        "### Dask\n",
        "* [Pandas, Dask or PySpark? What Should You Choose for Your Dataset?](https://medium.com/datadriveninvestor/pandas-dask-or-pyspark-what-should-you-choose-for-your-dataset-c0f67e1b1d36)\n",
        "* [Processing Data with Dask](https://medium.com/when-i-work-data/processing-data-with-dask-47e4233cf165)\n",
        "* [Pandas, Fast and Slow](https://medium.com/when-i-work-data/pandas-fast-and-slow-b6d8dde6862e)\n",
        "* [Por que Parquet](https://medium.com/when-i-work-data/por-que-parquet-2a3ec42141c6)\n",
        "* [How to Run Parallel Data Analysis in Python using Dask Dataframes](https://towardsdatascience.com/trying-out-dask-dataframes-in-python-for-fast-data-analysis-in-parallel-aa960c18a915)\n",
        "* [Why every Data Scientist should use Dask?](https://towardsdatascience.com/why-every-data-scientist-should-use-dask-81b2b850e15b)\n",
        "\n",
        "### Spark, Koalas\n",
        "* [Databricks Koalas-Python Pandas for Spark](https://medium.com/future-vision/databricks-koalas-python-pandas-for-spark-ce20fc8a7d08)\n",
        "* [Bye Pandas, Meet Koalas: Pandas APIs on Apache Spark (Ep. 4)](https://medium.com/@kyleake/bye-pandas-meet-koalas-pandas-apis-on-apache-spark-ep-4-aedcd363cf4e)\n",
        "* [Koalas: Easy Transition from pandas to Apache Spark](https://databricks.com/blog/2019/04/24/koalas-easy-transition-from-pandas-to-apache-spark.html?source=post_page-----aedcd363cf4e----------------------)\n",
        "* [Use PySpark for Your Next Big Problem](https://medium.com/swlh/use-pyspark-for-your-next-big-problem-8aa288d5ecfa)\n",
        "* [A Neanderthal’s Guide to Apache Spark in Python](https://towardsdatascience.com/a-neanderthals-guide-to-apache-spark-in-python-9ef1f156d427)\n",
        "* [From Pandas to PySpark with Koalas](https://towardsdatascience.com/from-pandas-to-pyspark-with-koalas-e40f293be7c8)\n",
        "\n",
        "# O que Dask?\n",
        "\n",
        "\"Dask is designed to extend the numpy and pandas packages to work on data processing problems that are too large to be kept in memory. It breaks the larger processing job into many smaller tasks that are handled by numpy or pandas and then it reassembles the results into a coherent whole.\" - Eric Ness ([Processing Data with Dask](https://medium.com/when-i-work-data/processing-data-with-dask-47e4233cf165))\n",
        "\n"
      ]
    },
    {
      "cell_type": "markdown",
      "metadata": {
        "id": "yEyzjGUfG33-",
        "colab_type": "text"
      },
      "source": [
        "___\n",
        "# **Carregar a library Pandas e verificar a versão**"
      ]
    },
    {
      "cell_type": "code",
      "metadata": {
        "id": "QrvaCtEXeX9l",
        "colab_type": "code",
        "colab": {}
      },
      "source": [
        "!pip install bamboolib"
      ],
      "execution_count": 0,
      "outputs": []
    },
    {
      "cell_type": "code",
      "metadata": {
        "id": "oVMjT3DrG97K",
        "colab_type": "code",
        "colab": {}
      },
      "source": [
        "# Carrega a library Pandas\n",
        "import pandas as pd\n",
        "import numpy as np\n",
        "import bamboolib\n",
        "import matplotlib.pyplot as plt\n",
        "%matplotlib inline\n",
        "\n",
        "print(f'Versão do Pandas: {pd.__version__}')\n",
        "print(f'Versão do NumPy.: {np.__version__}')"
      ],
      "execution_count": 0,
      "outputs": []
    },
    {
      "cell_type": "markdown",
      "metadata": {
        "id": "OxoDsaKUVHdH",
        "colab_type": "text"
      },
      "source": [
        "# Configurações\n",
        "> Podemos configurar o pandas de forma a tornar nosso trabalho mais produtivo. Podemos configurar, por exemplo, o número de LINHAS e COLUNAS a ser mostrado, precisão dos números float. Vamos ver com mais detalhes a seguir.\n",
        "\n",
        "Fonte: [5 Advanced Features of Pandas and How to Use Them](https://www.kdnuggets.com/2019/10/5-advanced-features-pandas.html)."
      ]
    },
    {
      "cell_type": "code",
      "metadata": {
        "id": "IOdqrf7uVlhC",
        "colab_type": "code",
        "colab": {}
      },
      "source": [
        "d_Config = {'max_columns': 1000,\n",
        "            'expand_frame_repr': True,\n",
        "            'max_rows': 10,\n",
        "            'precision': 2,\n",
        "            'show_dimensions': True}\n",
        "\n",
        "for op, value in d_Config.items():\n",
        "    pd.set_option(\"display.{}\".format(op), value)"
      ],
      "execution_count": 0,
      "outputs": []
    },
    {
      "cell_type": "markdown",
      "metadata": {
        "id": "Paz-R-FOAJ7F",
        "colab_type": "text"
      },
      "source": [
        "___\n",
        "# **Criar um dataframe a partir de outros objetos**"
      ]
    },
    {
      "cell_type": "markdown",
      "metadata": {
        "id": "L4Jc0C2qPAQz",
        "colab_type": "text"
      },
      "source": [
        "## Criar dataframe a partir de dicionários"
      ]
    },
    {
      "cell_type": "markdown",
      "metadata": {
        "id": "Sa5rKwq6Fscj",
        "colab_type": "text"
      },
      "source": [
        "### Exemplo 1"
      ]
    },
    {
      "cell_type": "code",
      "metadata": {
        "id": "0ofIGkiSSuYq",
        "colab_type": "code",
        "colab": {}
      },
      "source": [
        "d_Frutas= {'Apple': [5, 6, 6, 8, 10, 3, 2],\n",
        "          'Avocado': [6, 6, 3, 9, 3, 2, 1]}"
      ],
      "execution_count": 0,
      "outputs": []
    },
    {
      "cell_type": "code",
      "metadata": {
        "id": "iJCNvPlUTzTI",
        "colab_type": "code",
        "colab": {}
      },
      "source": [
        "d_Frutas"
      ],
      "execution_count": 0,
      "outputs": []
    },
    {
      "cell_type": "code",
      "metadata": {
        "id": "7Y_0O_tJTfm3",
        "colab_type": "code",
        "colab": {}
      },
      "source": [
        "# index=['Seg', 'Ter', 'Qua', 'Qui', 'Fri', 'Sab', 'Dom'] abaixo define os label.\n",
        "df_Frutas = pd.DataFrame(d_Frutas, index=['Seg', 'Ter', 'Qua', 'Qui', 'Fri', 'Sab', 'Dom'])\n",
        "df_Frutas"
      ],
      "execution_count": 0,
      "outputs": []
    },
    {
      "cell_type": "markdown",
      "metadata": {
        "id": "l2ll8ktfUKz2",
        "colab_type": "text"
      },
      "source": [
        "O que se comprou na sexta?\n",
        "\n",
        "* Função df.loc[label] retorna o(s) valor(es) associados à label. Em nosso caso, os label são 'Seg', 'Ter', ..., 'Dom'."
      ]
    },
    {
      "cell_type": "code",
      "metadata": {
        "id": "9Voor8_PUJum",
        "colab_type": "code",
        "colab": {}
      },
      "source": [
        "df_Frutas.loc['Fri'] # Aqui, label= 'Fri'."
      ],
      "execution_count": 0,
      "outputs": []
    },
    {
      "cell_type": "markdown",
      "metadata": {
        "id": "LMh4DTfebwAr",
        "colab_type": "text"
      },
      "source": [
        "* Ou seja, o label= 'Fri', que ocupa a posição 4, tem os valores:\n",
        "    * Apple..: 10\n",
        "    * Avocado: 3\n",
        "\n",
        "Da mesma forma, poderíamos utilizar a função df.iloc[index] para retornar o conteúdo/informações de index."
      ]
    },
    {
      "cell_type": "code",
      "metadata": {
        "id": "GJxawdh6bvJN",
        "colab_type": "code",
        "colab": {}
      },
      "source": [
        "df_Frutas.iloc[4]"
      ],
      "execution_count": 0,
      "outputs": []
    },
    {
      "cell_type": "markdown",
      "metadata": {
        "id": "obJt9OPGcL-x",
        "colab_type": "text"
      },
      "source": [
        "Portanto, df.loc['Fri'] = df.iloc[4]. Correto?\n",
        "\n",
        "Para nos ajudar a memorizar, considere que:\n",
        "\n",
        "* pd.loc[label] --> loc começa com a letra **l**, o que remete à label.\n",
        "* pd.iloc[index] --> iloc começa com a letra **i**, o que remete à index."
      ]
    },
    {
      "cell_type": "markdown",
      "metadata": {
        "id": "EkjAtbrRF01h",
        "colab_type": "text"
      },
      "source": [
        "### Exemplo 2"
      ]
    },
    {
      "cell_type": "markdown",
      "metadata": {
        "id": "2EOX5MC4E1xL",
        "colab_type": "text"
      },
      "source": [
        "Na prática, lidamos com grandes bancos de dados e, nesses casos, não temos label das LINHAS definidos. Para exemplificar, considere o mesmo exemplo que acabamos de ver, com uma pequena alteração:"
      ]
    },
    {
      "cell_type": "code",
      "metadata": {
        "id": "D6FckgDPFFs0",
        "colab_type": "code",
        "colab": {}
      },
      "source": [
        "df_Frutas = pd.DataFrame(d_Frutas) # Observe que aqui não definimos os indíces\n",
        "df_Frutas"
      ],
      "execution_count": 0,
      "outputs": []
    },
    {
      "cell_type": "markdown",
      "metadata": {
        "id": "tkGc4JQcFPkp",
        "colab_type": "text"
      },
      "source": [
        "Veja agora que os label são números inteiros de 0 a N. Assim, temos que"
      ]
    },
    {
      "cell_type": "code",
      "metadata": {
        "id": "5YgWG_vlFVe_",
        "colab_type": "code",
        "colab": {}
      },
      "source": [
        "df_Frutas.loc[4]"
      ],
      "execution_count": 0,
      "outputs": []
    },
    {
      "cell_type": "code",
      "metadata": {
        "id": "xB1j4n6HFank",
        "colab_type": "code",
        "colab": {}
      },
      "source": [
        "df_Frutas.iloc[4]"
      ],
      "execution_count": 0,
      "outputs": []
    },
    {
      "cell_type": "markdown",
      "metadata": {
        "id": "jEbCke3TFf_q",
        "colab_type": "text"
      },
      "source": [
        "Ou seja, nesses casos, tanto faz usar pd.loc[] ou pd.iloc[]. Entendeu?"
      ]
    },
    {
      "cell_type": "markdown",
      "metadata": {
        "id": "bKHw_VBKjkoL",
        "colab_type": "text"
      },
      "source": [
        "### Exemplo 3 - Definir os indices usando df.set_index()"
      ]
    },
    {
      "cell_type": "code",
      "metadata": {
        "id": "13ArWIhYju6s",
        "colab_type": "code",
        "colab": {}
      },
      "source": [
        "d_Frutas= {'Dia_Semana': ['Seg', 'Ter', 'Qua', 'Qui', 'Fri', 'Sab', 'Dom'],\n",
        "           'Apple': [5, 6, 6, 8, 10, 3, 2],\n",
        "          'Avocado': [6, 6, 3, 9, 3, 2, 1]}"
      ],
      "execution_count": 0,
      "outputs": []
    },
    {
      "cell_type": "code",
      "metadata": {
        "id": "Evw9w16gk5h0",
        "colab_type": "code",
        "colab": {}
      },
      "source": [
        "df_Frutas = pd.DataFrame(d_Frutas)\n",
        "df_Frutas"
      ],
      "execution_count": 0,
      "outputs": []
    },
    {
      "cell_type": "code",
      "metadata": {
        "id": "1aJLGapZlUFI",
        "colab_type": "code",
        "colab": {}
      },
      "source": [
        "# Definir Dia_Semana como índice/chave do dataframe\n",
        "df_Frutas.set_index('Dia_Semana', inplace= True)\n",
        "df_Frutas"
      ],
      "execution_count": 0,
      "outputs": []
    },
    {
      "cell_type": "markdown",
      "metadata": {
        "id": "L1-U_sD-jAoO",
        "colab_type": "text"
      },
      "source": [
        "A expressão acima é equivalente a:"
      ]
    },
    {
      "cell_type": "code",
      "metadata": {
        "id": "iaOrX_Iwixqb",
        "colab_type": "code",
        "colab": {}
      },
      "source": [
        "df_Frutas = pd.DataFrame(d_Frutas)\n",
        "df_Frutas2= df_Frutas.set_index('Dia_Semana')\n",
        "df_Frutas2"
      ],
      "execution_count": 0,
      "outputs": []
    },
    {
      "cell_type": "markdown",
      "metadata": {
        "id": "2RmgCIC2HZFp",
        "colab_type": "text"
      },
      "source": [
        "### Exemplo 4"
      ]
    },
    {
      "cell_type": "code",
      "metadata": {
        "id": "kbHHuMzzAR1A",
        "colab_type": "code",
        "colab": {}
      },
      "source": [
        "d_Estudantes= {'name': ['Jack', 'Richard', 'Tommy', 'Ana'], \n",
        "            'age': [25, 34, 18, 21],\n",
        "           'city': ['Sydney', 'Rio de Janeiro', 'Lisbon', 'New York'],\n",
        "           'country': ['Australia', 'Brazil', 'Portugal', 'United States']}"
      ],
      "execution_count": 0,
      "outputs": []
    },
    {
      "cell_type": "code",
      "metadata": {
        "id": "ayKqLmHTANOu",
        "colab_type": "code",
        "colab": {}
      },
      "source": [
        "# Mostrar o conteúdo do dicionário d_Estudantes...\n",
        "d_Estudantes"
      ],
      "execution_count": 0,
      "outputs": []
    },
    {
      "cell_type": "code",
      "metadata": {
        "id": "0ONA8QsBBP6R",
        "colab_type": "code",
        "colab": {}
      },
      "source": [
        "# Keys associadas ao dicionário d_Estudantes\n",
        "d_Estudantes.keys()"
      ],
      "execution_count": 0,
      "outputs": []
    },
    {
      "cell_type": "code",
      "metadata": {
        "id": "k8mmvKQ_BjO6",
        "colab_type": "code",
        "colab": {}
      },
      "source": [
        "# Itens associados ao dicionário d_Estudantes\n",
        "d_Estudantes.items()"
      ],
      "execution_count": 0,
      "outputs": []
    },
    {
      "cell_type": "code",
      "metadata": {
        "id": "hcm8V_UmBr1Y",
        "colab_type": "code",
        "colab": {}
      },
      "source": [
        "# Valores associados ao dicionário d_Estudantes\n",
        "d_Estudantes.values()"
      ],
      "execution_count": 0,
      "outputs": []
    },
    {
      "cell_type": "markdown",
      "metadata": {
        "id": "KK7IejsPDkWC",
        "colab_type": "text"
      },
      "source": [
        "Temos uma key= 'name'. Qual o conteúdo desta key?"
      ]
    },
    {
      "cell_type": "code",
      "metadata": {
        "id": "eHvPpeiTBwoR",
        "colab_type": "code",
        "colab": {}
      },
      "source": [
        "d_Estudantes['name']"
      ],
      "execution_count": 0,
      "outputs": []
    },
    {
      "cell_type": "markdown",
      "metadata": {
        "id": "S1y7p8CcDsXl",
        "colab_type": "text"
      },
      "source": [
        "Qual o output da expressão a seguir:"
      ]
    },
    {
      "cell_type": "code",
      "metadata": {
        "id": "26WIDl-HB3Bq",
        "colab_type": "code",
        "colab": {}
      },
      "source": [
        "d_Estudantes['name'][0]"
      ],
      "execution_count": 0,
      "outputs": []
    },
    {
      "cell_type": "markdown",
      "metadata": {
        "id": "gV68kQ5HCIif",
        "colab_type": "text"
      },
      "source": [
        "Criando o dataframe df_Estudantes a partir do dicionário d_Estudantes:"
      ]
    },
    {
      "cell_type": "code",
      "metadata": {
        "id": "2oa808hkCSaq",
        "colab_type": "code",
        "colab": {}
      },
      "source": [
        "df_Estudantes= pd.DataFrame(d_Estudantes)"
      ],
      "execution_count": 0,
      "outputs": []
    },
    {
      "cell_type": "code",
      "metadata": {
        "id": "7HLp0FYpCiSc",
        "colab_type": "code",
        "colab": {}
      },
      "source": [
        "# Mostra o conteúdo do dataframe df_Estudantes...\n",
        "df_Estudantes"
      ],
      "execution_count": 0,
      "outputs": []
    },
    {
      "cell_type": "markdown",
      "metadata": {
        "id": "en06lfazciE0",
        "colab_type": "text"
      },
      "source": [
        "**Atenção**: Observe que nesse caso, não definimos labels para as LINHAS. Na prática, isso é o mais comum, ou seja, os label = index, que aqui são números inteiros de 0 a N."
      ]
    },
    {
      "cell_type": "markdown",
      "metadata": {
        "id": "gFaPp-S-cy1-",
        "colab_type": "text"
      },
      "source": [
        "Mais uma vez, vamos usar df.loc[] e df.iloc[]..."
      ]
    },
    {
      "cell_type": "code",
      "metadata": {
        "id": "mT9vwRBidGXX",
        "colab_type": "code",
        "colab": {}
      },
      "source": [
        "# Mostrando o conteúdo de da linha 3 usando df.loc[]\n",
        "df_Estudantes.loc[3]"
      ],
      "execution_count": 0,
      "outputs": []
    },
    {
      "cell_type": "markdown",
      "metadata": {
        "id": "Zj88AwHUdix0",
        "colab_type": "text"
      },
      "source": [
        "OU"
      ]
    },
    {
      "cell_type": "code",
      "metadata": {
        "id": "SP2mG8todkMe",
        "colab_type": "code",
        "colab": {}
      },
      "source": [
        "# Mostrando o conteúdo de da linha 3 usando df.iloc[]\n",
        "df_Estudantes.iloc[3]"
      ],
      "execution_count": 0,
      "outputs": []
    },
    {
      "cell_type": "markdown",
      "metadata": {
        "id": "hzbLO0EDGWTf",
        "colab_type": "text"
      },
      "source": [
        "Ok, já discutimos isso anteriormente. Quando não temos labels para as LINHAS, então iloc[] = loc[]"
      ]
    },
    {
      "cell_type": "markdown",
      "metadata": {
        "id": "VvzVg7SpeOOB",
        "colab_type": "text"
      },
      "source": [
        "___\n",
        "## Criar dataframes a partir de listas\n",
        "* Considere a lista de frutas a seguir:"
      ]
    },
    {
      "cell_type": "code",
      "metadata": {
        "id": "0_PY9OROeUiT",
        "colab_type": "code",
        "colab": {}
      },
      "source": [
        "l_Frutas = [('Melon', 6,8,5,4,6,2,8), ('Avocado', 6,6,3,8,9,3,1), ('Blueberry', 7,5,9,3,1,0,4)]\n",
        "l_Frutas"
      ],
      "execution_count": 0,
      "outputs": []
    },
    {
      "cell_type": "code",
      "metadata": {
        "id": "AfE_rHq5g4_P",
        "colab_type": "code",
        "colab": {}
      },
      "source": [
        "type(l_Frutas)"
      ],
      "execution_count": 0,
      "outputs": []
    },
    {
      "cell_type": "code",
      "metadata": {
        "id": "ZpdPSi7RgVjK",
        "colab_type": "code",
        "colab": {}
      },
      "source": [
        "l_Frutas[0]"
      ],
      "execution_count": 0,
      "outputs": []
    },
    {
      "cell_type": "code",
      "metadata": {
        "id": "NMyIpVW8gZTH",
        "colab_type": "code",
        "colab": {}
      },
      "source": [
        "l_Frutas[0][0]"
      ],
      "execution_count": 0,
      "outputs": []
    },
    {
      "cell_type": "code",
      "metadata": {
        "id": "-cyZVqQFhjjg",
        "colab_type": "code",
        "colab": {}
      },
      "source": [
        "# Lista contendo os nomes das COLUNAS do dataframe:\n",
        "l_NomeColunas= ['Frutas', 'Dom', 'Seg', 'Ter', 'Qua', 'Qui', 'Fri', 'Sab']\n",
        "l_NomeColunas"
      ],
      "execution_count": 0,
      "outputs": []
    },
    {
      "cell_type": "code",
      "metadata": {
        "id": "wplKvgayfZm_",
        "colab_type": "code",
        "colab": {}
      },
      "source": [
        "# Convertendo as listas em dataframe\n",
        "df_Frutas = pd.DataFrame(l_Frutas, columns = l_NomeColunas) # Observe que aqui, o nome das COLUNAS é uma lista.\n",
        "df_Frutas"
      ],
      "execution_count": 0,
      "outputs": []
    },
    {
      "cell_type": "markdown",
      "metadata": {
        "id": "GojgsAXTFZmB",
        "colab_type": "text"
      },
      "source": [
        "___\n",
        "# **Copiar dataframes**"
      ]
    },
    {
      "cell_type": "markdown",
      "metadata": {
        "id": "g_Tda4ZwjWIW",
        "colab_type": "text"
      },
      "source": [
        "O dataframe df_Estudantes tem o seguinte conteúdo:"
      ]
    },
    {
      "cell_type": "code",
      "metadata": {
        "id": "P5y0aVkdkA8o",
        "colab_type": "code",
        "colab": {}
      },
      "source": [
        "df_Estudantes"
      ],
      "execution_count": 0,
      "outputs": []
    },
    {
      "cell_type": "markdown",
      "metadata": {
        "id": "Cp3bvPEqj5fS",
        "colab_type": "text"
      },
      "source": [
        "se fizermos..."
      ]
    },
    {
      "cell_type": "code",
      "metadata": {
        "id": "J2PT5L11j8O0",
        "colab_type": "code",
        "colab": {}
      },
      "source": [
        "df_Estudantes2= df_Estudantes"
      ],
      "execution_count": 0,
      "outputs": []
    },
    {
      "cell_type": "markdown",
      "metadata": {
        "id": "2D29pGuikBBK",
        "colab_type": "text"
      },
      "source": [
        "então df_Estudantes2 tem o mesmo conteúdo de df_Estudantes, ok?"
      ]
    },
    {
      "cell_type": "code",
      "metadata": {
        "id": "_IseZEpLkGS4",
        "colab_type": "code",
        "colab": {}
      },
      "source": [
        "df_Estudantes2"
      ],
      "execution_count": 0,
      "outputs": []
    },
    {
      "cell_type": "markdown",
      "metadata": {
        "id": "29MpozLrkI83",
        "colab_type": "text"
      },
      "source": [
        "Agora altere o valor 'Rio de Janeiro' para 'Sao Paulo' em df_Estudantes2."
      ]
    },
    {
      "cell_type": "code",
      "metadata": {
        "id": "TXCqFiGFkmyv",
        "colab_type": "code",
        "colab": {}
      },
      "source": [
        "df_Estudantes2['City']= df_Estudantes2['City'].replace({'Rio de Janeiro': 'Sao Paulo'})\n",
        "df_Estudantes2"
      ],
      "execution_count": 0,
      "outputs": []
    },
    {
      "cell_type": "markdown",
      "metadata": {
        "id": "BN8ZGu2Xk6vt",
        "colab_type": "text"
      },
      "source": [
        "Ok, alteramos o valor 'Rio de Janeiro' por 'Sao Paulo', como queríamos. Vamos ver o conteúdo de df_Estudantes (**que está intacto, pois fizemos a alteração no dataframe df_Estudantes2**)."
      ]
    },
    {
      "cell_type": "code",
      "metadata": {
        "id": "thNAWoDflRoQ",
        "colab_type": "code",
        "colab": {}
      },
      "source": [
        "df_Estudantes"
      ],
      "execution_count": 0,
      "outputs": []
    },
    {
      "cell_type": "markdown",
      "metadata": {
        "id": "VkIS8wVmlAyq",
        "colab_type": "text"
      },
      "source": [
        "Ooooops... df_Estudantes foi alterado? Como, se procedemos a alteração em df_Estudantes2 e NÃO em df_Estudantes???\n",
        "\n",
        "As operações que fizermos em df_Estudantes2 também serão aplicadas à df_Estudantes?"
      ]
    },
    {
      "cell_type": "markdown",
      "metadata": {
        "id": "e9u-Z9NMltC9",
        "colab_type": "text"
      },
      "source": [
        "**Resposta**: SIM, pois df_Estudantes2 é um ponteiro para df_Estudantes. Ou seja, **qualquer operação que fizermos em df_Estudantes2 será feita em df_Estudantes**."
      ]
    },
    {
      "cell_type": "markdown",
      "metadata": {
        "id": "IDwvsxhhmlE4",
        "colab_type": "text"
      },
      "source": [
        "Uma forma fácil de ver isso é através dos endereços de memória dos dois (**supostos diferentes**) dataframes:"
      ]
    },
    {
      "cell_type": "code",
      "metadata": {
        "id": "ePFwKua8mu7k",
        "colab_type": "code",
        "colab": {}
      },
      "source": [
        "id(df_Estudantes2)"
      ],
      "execution_count": 0,
      "outputs": []
    },
    {
      "cell_type": "code",
      "metadata": {
        "id": "bMvY_E0mmwQH",
        "colab_type": "code",
        "colab": {}
      },
      "source": [
        "id(df_Estudantes)"
      ],
      "execution_count": 0,
      "outputs": []
    },
    {
      "cell_type": "markdown",
      "metadata": {
        "id": "K5qC5BuzmyF0",
        "colab_type": "text"
      },
      "source": [
        "**Conclusão**: df_Estudantes2 é ponteiro para df_Estudantes."
      ]
    },
    {
      "cell_type": "markdown",
      "metadata": {
        "id": "ZZ50ejRImAQ8",
        "colab_type": "text"
      },
      "source": [
        "## Forma correta de fazer a cópia de um dataframe"
      ]
    },
    {
      "cell_type": "markdown",
      "metadata": {
        "id": "oTbzxNkDmQiJ",
        "colab_type": "text"
      },
      "source": [
        "Primeiramente, vamos reconstruir df_Estudantes:"
      ]
    },
    {
      "cell_type": "code",
      "metadata": {
        "id": "DmVq0vM0mTtQ",
        "colab_type": "code",
        "colab": {}
      },
      "source": [
        "df_Estudantes= pd.DataFrame(d_Estudantes)\n",
        "df_Estudantes"
      ],
      "execution_count": 0,
      "outputs": []
    },
    {
      "cell_type": "markdown",
      "metadata": {
        "id": "oZrlwtqJmYB_",
        "colab_type": "text"
      },
      "source": [
        "Fazendo a cópia do dataframe (**da forma correta**):"
      ]
    },
    {
      "cell_type": "code",
      "metadata": {
        "id": "No5A7nHDFbsy",
        "colab_type": "code",
        "colab": {}
      },
      "source": [
        "df_Estudantes_Copy= df_Estudantes.copy()"
      ],
      "execution_count": 0,
      "outputs": []
    },
    {
      "cell_type": "markdown",
      "metadata": {
        "id": "NvKNFr8RnEft",
        "colab_type": "text"
      },
      "source": [
        "Vamos verificar os endereços de memória dos dois dataframes:"
      ]
    },
    {
      "cell_type": "code",
      "metadata": {
        "id": "0_OO90SFki4f",
        "colab_type": "code",
        "colab": {}
      },
      "source": [
        "id(df_Estudantes_Copy)"
      ],
      "execution_count": 0,
      "outputs": []
    },
    {
      "cell_type": "code",
      "metadata": {
        "id": "T0BibX8rkes5",
        "colab_type": "code",
        "colab": {}
      },
      "source": [
        "id(df_Estudantes)"
      ],
      "execution_count": 0,
      "outputs": []
    },
    {
      "cell_type": "markdown",
      "metadata": {
        "id": "Fbm-8cCUFgJa",
        "colab_type": "text"
      },
      "source": [
        "Agora,  dataframe df_Estudantes_Copy é uma cópia do dataframe df_Estudantes"
      ]
    },
    {
      "cell_type": "markdown",
      "metadata": {
        "id": "SuL8WUxL-u6-",
        "colab_type": "text"
      },
      "source": [
        "___\n",
        "# **Renomear COLUNAS do dataframe**\n",
        "> **Snippet**: \n",
        "\n",
        "    * df.rename(columns= {'Old_Name': 'New_Name'}, inplace= True)\n",
        "    * df= df.rename(columns= {'Old_Name': 'New_Name'})"
      ]
    },
    {
      "cell_type": "markdown",
      "metadata": {
        "id": "IvpCfmQnIZKl",
        "colab_type": "text"
      },
      "source": [
        "Suponha que quero renomear a COLUNA 'name' para 'client_name', que é um nome mais sugestivo."
      ]
    },
    {
      "cell_type": "code",
      "metadata": {
        "id": "o54Fa-yxnmuz",
        "colab_type": "code",
        "colab": {}
      },
      "source": [
        "df_Estudantes"
      ],
      "execution_count": 0,
      "outputs": []
    },
    {
      "cell_type": "code",
      "metadata": {
        "id": "FwzXjYJgCvGk",
        "colab_type": "code",
        "colab": {}
      },
      "source": [
        "df_Estudantes= df_Estudantes.rename(columns= {'name': 'client_name'})"
      ],
      "execution_count": 0,
      "outputs": []
    },
    {
      "cell_type": "markdown",
      "metadata": {
        "id": "gOolGiWt4A18",
        "colab_type": "text"
      },
      "source": [
        "O comando abaixo produz o mesmo resultado que a linha anterior:"
      ]
    },
    {
      "cell_type": "markdown",
      "metadata": {
        "id": "Y6jjAFRd341e",
        "colab_type": "text"
      },
      "source": [
        "```\n",
        "df_Estudantes.rename(columns= {'name': 'client_name'}, inplace= True)\n",
        "```"
      ]
    },
    {
      "cell_type": "code",
      "metadata": {
        "id": "DwVMldKiF5gS",
        "colab_type": "code",
        "colab": {}
      },
      "source": [
        "# Mostrando o conteúdo de df_Estudantes após renomearmos a coluna/variável 'name' para 'Clien_Name'...\n",
        "df_Estudantes"
      ],
      "execution_count": 0,
      "outputs": []
    },
    {
      "cell_type": "markdown",
      "metadata": {
        "id": "m-WZBLWqELOv",
        "colab_type": "text"
      },
      "source": [
        "Agora, suponha que queremos renomear 'age' para 'client_age', 'city' para 'client_city' e 'country' para 'client_country'..."
      ]
    },
    {
      "cell_type": "code",
      "metadata": {
        "id": "VS6ua4u1EX5g",
        "colab_type": "code",
        "colab": {}
      },
      "source": [
        "df_Estudantes.rename(columns= {'age': 'client_age', 'city': 'client_city', 'country': 'client_country'}, inplace= True)"
      ],
      "execution_count": 0,
      "outputs": []
    },
    {
      "cell_type": "markdown",
      "metadata": {
        "id": "i_7LW07y4SvO",
        "colab_type": "text"
      },
      "source": [
        "O comando abaixo produz o mesmo resultado que a linha anterior:"
      ]
    },
    {
      "cell_type": "markdown",
      "metadata": {
        "id": "9X-cv9RL4WjV",
        "colab_type": "text"
      },
      "source": [
        "```\n",
        "df_Estudantes= df_Estudantes.rename(columns= {'Age': 'client_age', 'City': 'client_city', 'Country': 'client_country'}, inplace= True)\n",
        "```"
      ]
    },
    {
      "cell_type": "code",
      "metadata": {
        "id": "EOb1-TEKGM9I",
        "colab_type": "code",
        "colab": {}
      },
      "source": [
        "# Mostrando o conteúdo de df_Estudantes após a múltipla operação de renomear...\n",
        "df_Estudantes"
      ],
      "execution_count": 0,
      "outputs": []
    },
    {
      "cell_type": "markdown",
      "metadata": {
        "id": "q0IZZjLRJlU6",
        "colab_type": "text"
      },
      "source": [
        "Alguma dúvida até aqui?\n",
        "Tudo bem até aqui?"
      ]
    },
    {
      "cell_type": "markdown",
      "metadata": {
        "id": "5LwL2m5KbLYz",
        "colab_type": "text"
      },
      "source": [
        "## Challenge\n",
        "* Aplicar lowercase() em todas as COLUNAS do dataframe df_Estudantes. Como fazer isso?"
      ]
    },
    {
      "cell_type": "markdown",
      "metadata": {
        "id": "MURfzmeLbUzF",
        "colab_type": "text"
      },
      "source": [
        "### Minha solução:"
      ]
    },
    {
      "cell_type": "code",
      "metadata": {
        "id": "hlSlfcoub8gH",
        "colab_type": "code",
        "colab": {}
      },
      "source": [
        "# Colocar o nome das COLUNAS numa lista:\n",
        "l_NomeColunas= df_Estudantes.columns\n",
        "l_NomeColunas"
      ],
      "execution_count": 0,
      "outputs": []
    },
    {
      "cell_type": "code",
      "metadata": {
        "id": "I_IGvEK4bdQP",
        "colab_type": "code",
        "colab": {}
      },
      "source": [
        "# Lowercase todas as COLUNAS\n",
        "df_Estudantes.columns = [col.lower() for col in l_NomeColunas]"
      ],
      "execution_count": 0,
      "outputs": []
    },
    {
      "cell_type": "code",
      "metadata": {
        "id": "0qzzAa3ycKmF",
        "colab_type": "code",
        "colab": {}
      },
      "source": [
        "# Mostrando o conteúdo do dataframe df_Estudantes\n",
        "df_Estudantes"
      ],
      "execution_count": 0,
      "outputs": []
    },
    {
      "cell_type": "markdown",
      "metadata": {
        "id": "c-u-ndMPV_KX",
        "colab_type": "text"
      },
      "source": [
        "___\n",
        "# **Adicionar/Acrescentar novas LINHAS ao dataframe**"
      ]
    },
    {
      "cell_type": "markdown",
      "metadata": {
        "id": "MDkWbukBLhw7",
        "colab_type": "text"
      },
      "source": [
        "## Usando dicionários\n",
        "* É necessário informar {'Column_Name': value} para cada inserção. Por exemplo, vou adicionar o seguinte registro ao dataframe:\n",
        "    * client_name= 'Anderson';\n",
        "    * client_age= 22;\n",
        "    * client_city= 'Porto';\n",
        "    * client_country= 'Portugal'"
      ]
    },
    {
      "cell_type": "code",
      "metadata": {
        "id": "GECPO7iyK9UU",
        "colab_type": "code",
        "colab": {}
      },
      "source": [
        "df_Estudantes"
      ],
      "execution_count": 0,
      "outputs": []
    },
    {
      "cell_type": "code",
      "metadata": {
        "id": "XQKqqC93LoQ_",
        "colab_type": "code",
        "colab": {}
      },
      "source": [
        "df_Estudantes_Copia= df_Estudantes.copy()\n",
        "df_Estudantes.append({'client_name': 'Anderson', \n",
        "               'client_age': 22,\n",
        "               'client_city': 'Porto',\n",
        "               'client_country': 'Portugal'}, ignore_index= True)"
      ],
      "execution_count": 0,
      "outputs": []
    },
    {
      "cell_type": "markdown",
      "metadata": {
        "id": "bdBttsHNLjd-",
        "colab_type": "text"
      },
      "source": [
        "Esse é o resultado que desejamos?\n",
        "Saberia explicar-nos o que houve de errado?"
      ]
    },
    {
      "cell_type": "markdown",
      "metadata": {
        "id": "6jDoq6CCMerp",
        "colab_type": "text"
      },
      "source": [
        "**DICA**: Lembre-se que no passo anterior, reescrevemos os nomes das COLUNAS usando o método lower()."
      ]
    },
    {
      "cell_type": "code",
      "metadata": {
        "id": "ffReAaUHLvEF",
        "colab_type": "code",
        "colab": {}
      },
      "source": [
        "# Definindo df_Estudantes novamente usando a cópia df_Estudantes_Copia\n",
        "df_Estudantes= df_Estudantes_Copia.copy()\n",
        "df_Estudantes"
      ],
      "execution_count": 0,
      "outputs": []
    },
    {
      "cell_type": "markdown",
      "metadata": {
        "id": "EzTo-IvmM2Fg",
        "colab_type": "text"
      },
      "source": [
        "Ok, restabelecemos a cópia de df_Estudantes. Agora vamos à forma correta:"
      ]
    },
    {
      "cell_type": "code",
      "metadata": {
        "id": "IRhE76i4M6d6",
        "colab_type": "code",
        "colab": {}
      },
      "source": [
        "df_Estudantes= df_Estudantes.append({'client_name': 'Anderson', \n",
        "               'client_age': 22,\n",
        "               'client_city': 'Porto',\n",
        "               'client_country': 'Portugal'}, ignore_index= True)"
      ],
      "execution_count": 0,
      "outputs": []
    },
    {
      "cell_type": "markdown",
      "metadata": {
        "id": "jAojB2MMNDRJ",
        "colab_type": "text"
      },
      "source": [
        "Bom, esse é o resultado que estávamos à espera..."
      ]
    },
    {
      "cell_type": "markdown",
      "metadata": {
        "id": "5czZb-5wNp_F",
        "colab_type": "text"
      },
      "source": [
        "## Usando Series\n",
        "* Como exemplo, considere que queremos adicionar os seguintes dados:\n",
        "    * client_name= 'Bill';\n",
        "    * client_age= 30;\n",
        "    * client_city= 'São Paulo';\n",
        "    * client_country= 'Brazil'"
      ]
    },
    {
      "cell_type": "code",
      "metadata": {
        "id": "J3qCydqMNtGt",
        "colab_type": "code",
        "colab": {}
      },
      "source": [
        "New_Estudante= pd.Series(['Bill', 30, 'Sao Paulo', 'Brazil'], index= df_Estudantes.columns) # Olha que interessante: estamos a usar index= df_Estudantes.columns."
      ],
      "execution_count": 0,
      "outputs": []
    },
    {
      "cell_type": "markdown",
      "metadata": {
        "id": "g_DyMDrNPrmC",
        "colab_type": "text"
      },
      "source": [
        "Vamos ver o conteúdo de New_Estudante:"
      ]
    },
    {
      "cell_type": "code",
      "metadata": {
        "id": "jDQUl0RBPoLB",
        "colab_type": "code",
        "colab": {}
      },
      "source": [
        "New_Estudante"
      ],
      "execution_count": 0,
      "outputs": []
    },
    {
      "cell_type": "markdown",
      "metadata": {
        "id": "zMKRNQrsPvxp",
        "colab_type": "text"
      },
      "source": [
        "Por fim, adiciona/acrescenta New_Estudante ao dataframe df_Estudantes..."
      ]
    },
    {
      "cell_type": "code",
      "metadata": {
        "id": "5mEQg26iPw4A",
        "colab_type": "code",
        "colab": {}
      },
      "source": [
        "df_Estudantes= df_Estudantes.append(New_Estudante, ignore_index= True)\n",
        "df_Estudantes"
      ],
      "execution_count": 0,
      "outputs": []
    },
    {
      "cell_type": "markdown",
      "metadata": {
        "id": "Biwk2McAWW1Z",
        "colab_type": "text"
      },
      "source": [
        "___\n",
        "# **Adicionar/acrescentar novas COLUNAS ao Dataframe**"
      ]
    },
    {
      "cell_type": "markdown",
      "metadata": {
        "id": "EZFTH7A-Wpw5",
        "colab_type": "text"
      },
      "source": [
        "## Usando Lists\n",
        "* Suponha que queremos adicionar a coluna/variável 'Score'"
      ]
    },
    {
      "cell_type": "code",
      "metadata": {
        "id": "YzBKQo5epXP5",
        "colab_type": "code",
        "colab": {}
      },
      "source": [
        "df_Estudantes"
      ],
      "execution_count": 0,
      "outputs": []
    },
    {
      "cell_type": "code",
      "metadata": {
        "id": "pPoObAKJW6YF",
        "colab_type": "code",
        "colab": {}
      },
      "source": [
        "# Acrescentando ou criando a coluna/variável 'score' ao dataframe usando um objeto list\n",
        "df_Estudantes['score']= [500, 300, 200, 800, 700]"
      ],
      "execution_count": 0,
      "outputs": []
    },
    {
      "cell_type": "code",
      "metadata": {
        "id": "Ocbh8sZqWsoW",
        "colab_type": "code",
        "colab": {}
      },
      "source": [
        "# Show the contents of Estudantes...\n",
        "df_Estudantes"
      ],
      "execution_count": 0,
      "outputs": []
    },
    {
      "cell_type": "markdown",
      "metadata": {
        "id": "ZxfCMcVxYQgL",
        "colab_type": "text"
      },
      "source": [
        "> **Atenção**:\n",
        "\n",
        "* Se a quantidade de valores da lista forem menores que o número de LINHAS do dataframe, então o Python apresenta um erro.\n",
        "* Se a coluna/variável que queremos inserir já existe no dataframe, então os valores serão atualizados com os novos."
      ]
    },
    {
      "cell_type": "markdown",
      "metadata": {
        "id": "34ntllD_YbNa",
        "colab_type": "text"
      },
      "source": [
        "## Usando um valor default\n",
        "* Adicionar a coluna 'total' com o mesmo valor para todas as LINHAS"
      ]
    },
    {
      "cell_type": "code",
      "metadata": {
        "id": "T7QSMJMQYous",
        "colab_type": "code",
        "colab": {}
      },
      "source": [
        "df_Estudantes['total']= 500\n",
        "df_Estudantes"
      ],
      "execution_count": 0,
      "outputs": []
    },
    {
      "cell_type": "markdown",
      "metadata": {
        "id": "gll-gJt7as3C",
        "colab_type": "text"
      },
      "source": [
        "## Adicionar uma COLUNA calculada a partir de outras COLUNAS"
      ]
    },
    {
      "cell_type": "code",
      "metadata": {
        "id": "T_pB_isBaw-E",
        "colab_type": "code",
        "colab": {}
      },
      "source": [
        "df_Estudantes['percentagem']= 100*(df_Estudantes['score']/sum(df_Estudantes['score']))\n",
        "df_Estudantes"
      ],
      "execution_count": 0,
      "outputs": []
    },
    {
      "cell_type": "markdown",
      "metadata": {
        "id": "D9TNylt84hle",
        "colab_type": "text"
      },
      "source": [
        "___\n",
        "# **Ler/carregar dados no Python**\n",
        "* Vários formatos de arquivos podem ser lidos:\n",
        "\n",
        "|Format Type | Data Description | Reader | Writer |\n",
        "|---|---|---|---|\n",
        "text | CSV | read_csv | to_csv |\n",
        "text | JSON | read_json | to_json |\n",
        "text | HTML | read_html | to_html |\n",
        "text | Local clipboard | read_clipboard | to_clipboard |\n",
        "binary | MS Excel | read_excel | to_excel |\n",
        "binary | HDF5 Format | read_hdf | to_hdf |\n",
        "binary | Stata | read_stata | to_stata |\n",
        "binary | SAS | read_sas \n",
        "binary | Python Pickle Format | read_pickle | to_pickle |\n",
        "SQL | SQL | read_sql | to_sql |\n",
        "SQL | Google Big Query | read_gbq | to_gbq |\n",
        "\n",
        "* Fonte: [IO tools (text, CSV, HDF5, …)](https://pandas.pydata.org/pandas-docs/stable/user_guide/io.html)"
      ]
    },
    {
      "cell_type": "markdown",
      "metadata": {
        "id": "Ss8jLEUSblDm",
        "colab_type": "text"
      },
      "source": [
        "___\n",
        "# **Ler/Carregar csv**"
      ]
    },
    {
      "cell_type": "code",
      "metadata": {
        "id": "n8e9aphab_oe",
        "colab_type": "code",
        "colab": {}
      },
      "source": [
        "# carregar a library Pandas\n",
        "import pandas as pd"
      ],
      "execution_count": 0,
      "outputs": []
    },
    {
      "cell_type": "markdown",
      "metadata": {
        "id": "R2fRd_MSQ2Xa",
        "colab_type": "text"
      },
      "source": [
        "A seguir, vamos:\n",
        "* Ler o dataframe Titanic.csv;\n",
        "* Definir 'PassengerId' como índice/chave da tabela através do comando index_col= 'PassengerId'."
      ]
    },
    {
      "cell_type": "code",
      "metadata": {
        "id": "1R9YoFJ02TR7",
        "colab_type": "code",
        "colab": {}
      },
      "source": [
        "df_Titanic = pd.read_csv('https://raw.githubusercontent.com/massaoHigaskino/DSWP/master/Dataframes/Titanic_With_MV.csv', index_col= 'PassengerId')\n",
        "df_Titanic.head()"
      ],
      "execution_count": 0,
      "outputs": []
    },
    {
      "cell_type": "markdown",
      "metadata": {
        "id": "WJ9RlRDSkk0_",
        "colab_type": "text"
      },
      "source": [
        "* Segue o dicionário de dados do dataframe df_Titanic:\n",
        "    * PassengerID: ID do passageiro;\n",
        "    * survived: Indicador, sendo 1= Passageiro sobreviveu e 0= Passageiro morreu;\n",
        "    * Pclass: Classe;\n",
        "    * Age: Idade do Passageiro;\n",
        "    * SibSp: Número de parentes a bordo (esposa, irmãos, pais e etc);\n",
        "    * Parch: Número de pais/crianças a bordo;\n",
        "    * Fare: Valor pago pelo Passageiro;\n",
        "    * Cabin: Cabine do Passageiro;\n",
        "    * Embarked: A porta pelo qual o Passageiro embarcou.\n",
        "    * Name: Nome do Passageiro;\n",
        "    * sex: sexo do Passageiro."
      ]
    },
    {
      "cell_type": "code",
      "metadata": {
        "id": "wz7Qd9mqMrfY",
        "colab_type": "code",
        "colab": {}
      },
      "source": [
        "# Show o dataframe df_Titanic:\n",
        "df_Titanic.head()"
      ],
      "execution_count": 0,
      "outputs": []
    },
    {
      "cell_type": "markdown",
      "metadata": {
        "id": "nDlANdnm4iod",
        "colab_type": "text"
      },
      "source": [
        "### DICA 1\n",
        "Suponha que o dataframe que queremos ler esteja localizado em:\n",
        "\n",
        "```\n",
        "/home/nsolucoes4ds/Dropbox/Data_Science/Python/Python_RFB/Python_RFB-DS_Python_020919_2244/Dataframes\n",
        "```\n",
        "\n",
        "Desta forma, para ler o dataframe (local), basta usar o comando a seguir:\n",
        "\n",
        "```\n",
        "url= '/home/nsolucoes4ds/Dropbox/Data_Science/Python/Python_RFB/Python_RFB-DS_Python_020919_2244/Dataframes/creditcard.csv'\n",
        "df_Titanic = pd.read_csv(url)\n",
        "```\n",
        "\n",
        "### Dica 2\n",
        "No Windows, o diretório aparece, por exemplo, da seguinte forma: \n",
        "```\n",
        "C:\\nsolucoes4ds\\Data_Science\n",
        "```\n",
        "Observe as '\\\\' (**barras invertidas**). Neste caso, use o comando a seguir:\n",
        "\n",
        "```\n",
        "url= r'C:\\nsolucoes4ds\\Data_Science\\creditcard.csv'\n",
        "df_Titanic = pd.read_csv(url)\n",
        "```\n",
        "\n",
        "Percebeu o r'diretorio'?"
      ]
    },
    {
      "cell_type": "markdown",
      "metadata": {
        "id": "HubfewY8NgUv",
        "colab_type": "text"
      },
      "source": [
        "___\n",
        "# **Corrigir (ou uniformizar) nome das COLUNAS**\n",
        "* Por exemplo, reescrever o nome das COLUNAS usando lowercase()."
      ]
    },
    {
      "cell_type": "markdown",
      "metadata": {
        "id": "4f_pEEOjvwjk",
        "colab_type": "text"
      },
      "source": [
        "Para facilitar nossas análises, vamos aplicar o método lower() em todos os valores das COLUNAS objects/strings. Para isso, considere a função abaixo:"
      ]
    },
    {
      "cell_type": "code",
      "metadata": {
        "id": "G-UlaHFPv7kp",
        "colab_type": "code",
        "colab": {}
      },
      "source": [
        "def Transf_Lower(df):\n",
        "    # Primeira transformação: Aplicar lower() nos nomes das COLUNAS:\n",
        "    df.columns= [col.lower() for col in df.columns]\n",
        "\n",
        "    # Segunda transformação: Aplicar o método .str.lower() nos valores das COLUNAS object/strings:\n",
        "    l_ColsObject= df.select_dtypes(include=['object']).columns\n",
        "    \n",
        "    for col in l_ColsObject:\n",
        "        df[col]= df[col].str.lower()"
      ],
      "execution_count": 0,
      "outputs": []
    },
    {
      "cell_type": "markdown",
      "metadata": {
        "id": "hNixsW8M7n1X",
        "colab_type": "text"
      },
      "source": [
        "Para saber mais sobre o método df[col].str.lower(), consulte [pandas.Series.str.lower](https://pandas.pydata.org/pandas-docs/stable/reference/api/pandas.Series.str.lower.html)."
      ]
    },
    {
      "cell_type": "code",
      "metadata": {
        "id": "hz90zejtbxYj",
        "colab_type": "code",
        "colab": {}
      },
      "source": [
        "Transf_Lower(df_Titanic)\n",
        "df_Titanic.head()"
      ],
      "execution_count": 0,
      "outputs": []
    },
    {
      "cell_type": "markdown",
      "metadata": {
        "id": "PyNsYTilnL2r",
        "colab_type": "text"
      },
      "source": [
        "# map()\n",
        "> Artificio para lidar com a transformação de dados utilizando um dicionário: {'key': valor}."
      ]
    },
    {
      "cell_type": "code",
      "metadata": {
        "id": "6z4FcyyAiTfF",
        "colab_type": "code",
        "colab": {}
      },
      "source": [
        "# Construindo uma variável mais intuitiva para nos ajudar nas análises:\n",
        "df_Titanic['survived2'] = df_Titanic['survived']\n",
        "df_Titanic['survived2']= df_Titanic['survived2'].map({0:'died', 1:'survived'})\n",
        "df_Titanic[['survived', 'survived2']].head(3)"
      ],
      "execution_count": 0,
      "outputs": []
    },
    {
      "cell_type": "markdown",
      "metadata": {
        "id": "jwBWkaJOdhCv",
        "colab_type": "text"
      },
      "source": [
        "___\n",
        "# **Selecionar COLUNAS do dataframe**\n",
        "* Suponha que queremos selecionar somente as COLUNAS 'survived', 'sex' e 'embarked':"
      ]
    },
    {
      "cell_type": "code",
      "metadata": {
        "id": "Ivvj8JU2pBTq",
        "colab_type": "code",
        "colab": {}
      },
      "source": [
        "df_Titanic2= df_Titanic[['survived', 'sex', 'embarked']]\n",
        "df_Titanic2.head()"
      ],
      "execution_count": 0,
      "outputs": []
    },
    {
      "cell_type": "markdown",
      "metadata": {
        "id": "Nf-Wnof_fdTR",
        "colab_type": "text"
      },
      "source": [
        "___\n",
        "# **Criar um dicionário a partir de um dataframe**\n",
        "> Suponha o dataframe-exemplo a seguir:"
      ]
    },
    {
      "cell_type": "code",
      "metadata": {
        "id": "lxf6Lgp4fit8",
        "colab_type": "code",
        "colab": {}
      },
      "source": [
        "df = pd.DataFrame({'a': ['red', 'yellow', 'blue'], 'b': [0.5, 0.25, 0.125]})\n",
        "df"
      ],
      "execution_count": 0,
      "outputs": []
    },
    {
      "cell_type": "markdown",
      "metadata": {
        "id": "l7yzJu1y5huV",
        "colab_type": "text"
      },
      "source": [
        "De dataframe para Dicionário..."
      ]
    },
    {
      "cell_type": "code",
      "metadata": {
        "id": "_6V0qFZGhEoF",
        "colab_type": "code",
        "colab": {}
      },
      "source": [
        "df.to_dict('dict')"
      ],
      "execution_count": 0,
      "outputs": []
    },
    {
      "cell_type": "markdown",
      "metadata": {
        "id": "0GIe6xtqPA1Z",
        "colab_type": "text"
      },
      "source": [
        "___\n",
        "# **Criar uma lista a partir de um dataframe**\n",
        "> Suponha o dataframe-exemplo a seguir:"
      ]
    },
    {
      "cell_type": "code",
      "metadata": {
        "id": "fZxgejTtPLzX",
        "colab_type": "code",
        "colab": {}
      },
      "source": [
        "df = pd.DataFrame({'a': ['red', 'yellow', 'blue'], 'b': [0.5, 0.25, 0.125]})\n",
        "df"
      ],
      "execution_count": 0,
      "outputs": []
    },
    {
      "cell_type": "markdown",
      "metadata": {
        "id": "JoShm6oF5qLV",
        "colab_type": "text"
      },
      "source": [
        "De dataframe para Lista..."
      ]
    },
    {
      "cell_type": "code",
      "metadata": {
        "id": "gigPpSH_hlXu",
        "colab_type": "code",
        "colab": {}
      },
      "source": [
        "df.to_dict('list')"
      ],
      "execution_count": 0,
      "outputs": []
    },
    {
      "cell_type": "markdown",
      "metadata": {
        "id": "GpJDX-5xUUC0",
        "colab_type": "text"
      },
      "source": [
        "___\n",
        "# **Mostrar as primeiras k LINHAS do dataframe**\n",
        "> df.head(k), onde k é o número de LINHAS que queremos visualizar. Por default, k= 10."
      ]
    },
    {
      "cell_type": "code",
      "metadata": {
        "id": "RwC9j_OxUbIR",
        "colab_type": "code",
        "colab": {}
      },
      "source": [
        "df_Titanic.head()"
      ],
      "execution_count": 0,
      "outputs": []
    },
    {
      "cell_type": "markdown",
      "metadata": {
        "id": "G9cp2QrsA5M0",
        "colab_type": "text"
      },
      "source": [
        "___\n",
        "# **Mostrar as últimas k LINHAS do dataframe**\n",
        "> df.tail(k), onde k é o número de LINHAS que queremos ver. Por default, k= 10."
      ]
    },
    {
      "cell_type": "code",
      "metadata": {
        "id": "9mPxyhqoA4Wc",
        "colab_type": "code",
        "colab": {}
      },
      "source": [
        "df_Titanic.tail()"
      ],
      "execution_count": 0,
      "outputs": []
    },
    {
      "cell_type": "markdown",
      "metadata": {
        "id": "Odwm2qSLA_Ro",
        "colab_type": "text"
      },
      "source": [
        "Por default, df.tail() mostra as últimas 5 LINHAS/instâncias do dataframe. Entretando, pode ser ver qualquer número de LINHAS k, como, por exemplo, k= 10 mostrado abaixo."
      ]
    },
    {
      "cell_type": "code",
      "metadata": {
        "id": "pUAnR00WA8ma",
        "colab_type": "code",
        "colab": {}
      },
      "source": [
        "df_Titanic.tail(10)"
      ],
      "execution_count": 0,
      "outputs": []
    },
    {
      "cell_type": "markdown",
      "metadata": {
        "id": "cZ64LfWv4zxo",
        "colab_type": "text"
      },
      "source": [
        "___\n",
        "# **Mostrar o nome das COLUNAS do dataframe**\n",
        "* df.columns"
      ]
    },
    {
      "cell_type": "code",
      "metadata": {
        "id": "CKUUrX5n4zFW",
        "colab_type": "code",
        "colab": {}
      },
      "source": [
        "df_Titanic.columns"
      ],
      "execution_count": 0,
      "outputs": []
    },
    {
      "cell_type": "markdown",
      "metadata": {
        "id": "6m7ukrOu5Inv",
        "colab_type": "text"
      },
      "source": [
        "___\n",
        "# **Mostrar os tipos das COLUNAS do dataframe**\n",
        "* df.dtypes"
      ]
    },
    {
      "cell_type": "code",
      "metadata": {
        "id": "rgGkT-TY-YuN",
        "colab_type": "code",
        "colab": {}
      },
      "source": [
        "df_Titanic.dtypes"
      ],
      "execution_count": 0,
      "outputs": []
    },
    {
      "cell_type": "markdown",
      "metadata": {
        "id": "DGc6m-UBdHlE",
        "colab_type": "text"
      },
      "source": [
        "___\n",
        "# **Selecionar automaticamente as COLUNAS do dataframe pelo tipo**\n",
        "> snippet: df.select_dtypes(include=[tipo]).columns\n",
        "\n",
        "| Tipo | O que seleciona | Sintaxe |\n",
        "|------|-----------------|---------|\n",
        "| number | colunas do tipo numéricas | df.select_dtypes(include=['number]).columns |\n",
        "| float | colunas do tipo float | df.select_dtypes(include=['float']).columns |\n",
        "| bool | colunas do tipo booleanas | df.select_dtypes(include=['bool']).columns |\n",
        "| object | colunas do tipo categóricas/strings | df.select_dtypes(include=['object']).columns |\n",
        "\n",
        "* Se quisermos selecionar mais de um tipo, basta informar a lista de tipos. \n",
        "    * Exemplo: df.select_dtypes(include=['object', 'float']).columns\n"
      ]
    },
    {
      "cell_type": "markdown",
      "metadata": {
        "id": "O88YRCqIdYFL",
        "colab_type": "text"
      },
      "source": [
        "## Selecionar automaticamente as COLUNAS Numéricas do dataframe"
      ]
    },
    {
      "cell_type": "markdown",
      "metadata": {
        "id": "xG4a9ZfRnxPW",
        "colab_type": "text"
      },
      "source": [
        "### Lista com as COLUNAS numéricas do dataframe:"
      ]
    },
    {
      "cell_type": "code",
      "metadata": {
        "id": "C87uga35dKsF",
        "colab_type": "code",
        "colab": {}
      },
      "source": [
        "l_ColsNumeric= df_Titanic.select_dtypes(include=['number']).columns\n",
        "l_ColsNumeric"
      ],
      "execution_count": 0,
      "outputs": []
    },
    {
      "cell_type": "markdown",
      "metadata": {
        "id": "5W6kbIVNn2UA",
        "colab_type": "text"
      },
      "source": [
        "### DataFrame com as COLUNAS numéricas:"
      ]
    },
    {
      "cell_type": "code",
      "metadata": {
        "id": "iTieUd_-eDmW",
        "colab_type": "code",
        "colab": {}
      },
      "source": [
        "df_Num= df_Titanic.select_dtypes(include=['number']) # Atenção: aqui não temos .columns\n",
        "df_Num.head()"
      ],
      "execution_count": 0,
      "outputs": []
    },
    {
      "cell_type": "markdown",
      "metadata": {
        "id": "xh4BFs_lds80",
        "colab_type": "text"
      },
      "source": [
        "## Selecionar automaticamente as COLUNAS float do dataframe"
      ]
    },
    {
      "cell_type": "markdown",
      "metadata": {
        "id": "Tw3FD74MoC6q",
        "colab_type": "text"
      },
      "source": [
        "### Lista com as COLUNAS float:"
      ]
    },
    {
      "cell_type": "code",
      "metadata": {
        "id": "5clAUAIrd3UR",
        "colab_type": "code",
        "colab": {}
      },
      "source": [
        "l_ColsFloat= df_Titanic.select_dtypes(include=['float']).columns\n",
        "l_ColsFloat"
      ],
      "execution_count": 0,
      "outputs": []
    },
    {
      "cell_type": "markdown",
      "metadata": {
        "id": "IZPROG6IoHwy",
        "colab_type": "text"
      },
      "source": [
        "### DataFrame com as COLUNAS float:"
      ]
    },
    {
      "cell_type": "code",
      "metadata": {
        "colab_type": "code",
        "id": "osJDsyMHeXX4",
        "colab": {}
      },
      "source": [
        "df_Float= df_Titanic.select_dtypes(include=['float']) # Atenção: aqui não temos .columns\n",
        "df_Float.head()"
      ],
      "execution_count": 0,
      "outputs": []
    },
    {
      "cell_type": "markdown",
      "metadata": {
        "id": "5uObezIIfuJ4",
        "colab_type": "text"
      },
      "source": [
        "## Selecionar automaticamente as COLUNAS Booleanas do dataframe"
      ]
    },
    {
      "cell_type": "markdown",
      "metadata": {
        "id": "xMKP5HhgoeMg",
        "colab_type": "text"
      },
      "source": [
        "### Lista com as COLUNAS Booleanas:"
      ]
    },
    {
      "cell_type": "code",
      "metadata": {
        "colab_type": "code",
        "id": "3Pn2IPBkf7k-",
        "colab": {}
      },
      "source": [
        "l_ColsBool= df_Titanic.select_dtypes(include=['bool']).columns\n",
        "l_ColsBool"
      ],
      "execution_count": 0,
      "outputs": []
    },
    {
      "cell_type": "markdown",
      "metadata": {
        "id": "k3sdiuXYokBE",
        "colab_type": "text"
      },
      "source": [
        "### DataFrame com as COLUNAS Booleanas:"
      ]
    },
    {
      "cell_type": "code",
      "metadata": {
        "colab_type": "code",
        "id": "Oem-M-17f7lG",
        "colab": {}
      },
      "source": [
        "df_Bool= df_Titanic.select_dtypes(include=['bool']) # Atenção: aqui não temos .columns\n",
        "df_Bool.head()"
      ],
      "execution_count": 0,
      "outputs": []
    },
    {
      "cell_type": "markdown",
      "metadata": {
        "colab_type": "text",
        "id": "ObHYW92-gOXz"
      },
      "source": [
        "## Selecionar automaticamente as COLUNAS do tipo string (object)"
      ]
    },
    {
      "cell_type": "markdown",
      "metadata": {
        "id": "IzM5CIKXoxHO",
        "colab_type": "text"
      },
      "source": [
        "### Lista com as COLUNAS do tipo object/string:"
      ]
    },
    {
      "cell_type": "code",
      "metadata": {
        "colab_type": "code",
        "id": "rdYThBingOX1",
        "colab": {}
      },
      "source": [
        "l_ColsObject= df_Titanic.select_dtypes(include=['object']).columns\n",
        "l_ColsObject"
      ],
      "execution_count": 0,
      "outputs": []
    },
    {
      "cell_type": "markdown",
      "metadata": {
        "id": "2ZGB5d36o21t",
        "colab_type": "text"
      },
      "source": [
        "### DataFrame com as COLUNAS do tipo Object/String:"
      ]
    },
    {
      "cell_type": "code",
      "metadata": {
        "colab_type": "code",
        "id": "kWTtxeU4gOX4",
        "colab": {}
      },
      "source": [
        "df_Object= df_Titanic.select_dtypes(include=['object']) # Atenção: aqui não temos .columns\n",
        "df_Object.head()"
      ],
      "execution_count": 0,
      "outputs": []
    },
    {
      "cell_type": "markdown",
      "metadata": {
        "id": "SEBKHKRLkbUK",
        "colab_type": "text"
      },
      "source": [
        "___\n",
        "# **Reordenar as COLUNAS do dataframe**"
      ]
    },
    {
      "cell_type": "code",
      "metadata": {
        "id": "XRWfelWEkhae",
        "colab_type": "code",
        "colab": {}
      },
      "source": [
        "df_Titanic.head()"
      ],
      "execution_count": 0,
      "outputs": []
    },
    {
      "cell_type": "markdown",
      "metadata": {
        "id": "KBGDeR_JkyCc",
        "colab_type": "text"
      },
      "source": [
        "* Suponha que queremos reordenar as COLUNAS do dataframe df_Titanic em ordem alfabética, conforme abaixo:\n",
        "    * age;\n",
        "    * embarked;\n",
        "    * fare;\n",
        "    * parch;\n",
        "    * pclass;\n",
        "    * sex;\n",
        "    * sibsp;\n",
        "    * survived."
      ]
    },
    {
      "cell_type": "code",
      "metadata": {
        "id": "d9jJi6qllnq_",
        "colab_type": "code",
        "colab": {}
      },
      "source": [
        "df_Titanic = df_Titanic.reindex(sorted(df_Titanic.columns), axis=1)\n",
        "df_Titanic.head()"
      ],
      "execution_count": 0,
      "outputs": []
    },
    {
      "cell_type": "markdown",
      "metadata": {
        "id": "Cj4MREti-izC",
        "colab_type": "text"
      },
      "source": [
        "___\n",
        "# **Mostrar a dimensão do dataframe**\n",
        "* Dimensão = Número de LINHAS e COLUNAS"
      ]
    },
    {
      "cell_type": "code",
      "metadata": {
        "id": "50Tij93l-n7B",
        "colab_type": "code",
        "colab": {}
      },
      "source": [
        "df_Titanic.shape"
      ],
      "execution_count": 0,
      "outputs": []
    },
    {
      "cell_type": "markdown",
      "metadata": {
        "id": "ZQo4YeH_-qfL",
        "colab_type": "text"
      },
      "source": [
        "Qual a interpretação desta informação acima?"
      ]
    },
    {
      "cell_type": "markdown",
      "metadata": {
        "id": "klHcwpPEALP8",
        "colab_type": "text"
      },
      "source": [
        "## **Quebrar a dimensão em duas partes: número de LINHAS e COLUNAS**\n",
        "* Número de linhas do dataframe.: df_Titanic.shape[0]\n",
        "* Número de colunas do dataframe: df_Titanic.shape[1]"
      ]
    },
    {
      "cell_type": "code",
      "metadata": {
        "id": "qjR8OEdDAOog",
        "colab_type": "code",
        "colab": {}
      },
      "source": [
        "f'O dataframe df_Titanic possui {df_Titanic.shape[0]} linhas e {df_Titanic.shape[1]} colunas.'"
      ],
      "execution_count": 0,
      "outputs": []
    },
    {
      "cell_type": "markdown",
      "metadata": {
        "id": "pIsf_nDtyAvF",
        "colab_type": "text"
      },
      "source": [
        "___\n",
        "# **Combinar dataframes: Merge, Join & Concatenate**\n",
        "* Fonte: [Merge, join, and concatenate](https://pandas.pydata.org/pandas-docs/stable/user_guide/merging.html)"
      ]
    },
    {
      "cell_type": "markdown",
      "metadata": {
        "id": "s1fSplrlEMHK",
        "colab_type": "text"
      },
      "source": [
        "* A seguir, três formas para combinar dataframes:"
      ]
    },
    {
      "cell_type": "markdown",
      "metadata": {
        "id": "6DYtWxuIrdzF",
        "colab_type": "text"
      },
      "source": [
        "## Concatenate\n",
        "* Une/empilha dataframes\n",
        "* Fonte: https://github.com/aakankshaws/Pandas-exercises"
      ]
    },
    {
      "cell_type": "code",
      "metadata": {
        "id": "nnP5VuWkri_b",
        "colab_type": "code",
        "colab": {}
      },
      "source": [
        "import pandas as pd\n",
        "df1 = pd.DataFrame({'A': ['A0', 'A1', 'A2', 'A3'],\n",
        "                        'B': ['B0', 'B1', 'B2', 'B3'],\n",
        "                        'C': ['C0', 'C1', 'C2', 'C3'],\n",
        "                        'D': ['D0', 'D1', 'D2', 'D3']})"
      ],
      "execution_count": 0,
      "outputs": []
    },
    {
      "cell_type": "code",
      "metadata": {
        "id": "rkJvSGYSrm8b",
        "colab_type": "code",
        "colab": {}
      },
      "source": [
        "df2 = pd.DataFrame({'A': ['A4', 'A5', 'A6', 'A7'],\n",
        "                        'B': ['B4', 'B5', 'B6', 'B7'],\n",
        "                        'C': ['C4', 'C5', 'C6', 'C7'],\n",
        "                        'D': ['D4', 'D5', 'D6', 'D7']})"
      ],
      "execution_count": 0,
      "outputs": []
    },
    {
      "cell_type": "code",
      "metadata": {
        "id": "NCgdYvJIrqx1",
        "colab_type": "code",
        "colab": {}
      },
      "source": [
        "df3 = pd.DataFrame({'A': ['A8', 'A9', 'A10', 'A11'],\n",
        "                        'B': ['B8', 'B9', 'B10', 'B11'],\n",
        "                        'C': ['C8', 'C9', 'C10', 'C11'],\n",
        "                        'D': ['D8', 'D9', 'D10', 'D11']})"
      ],
      "execution_count": 0,
      "outputs": []
    },
    {
      "cell_type": "code",
      "metadata": {
        "id": "gUoyjyjur5Zn",
        "colab_type": "code",
        "colab": {}
      },
      "source": [
        "df1"
      ],
      "execution_count": 0,
      "outputs": []
    },
    {
      "cell_type": "code",
      "metadata": {
        "id": "xU6Rh10Gr7NA",
        "colab_type": "code",
        "colab": {}
      },
      "source": [
        "df2"
      ],
      "execution_count": 0,
      "outputs": []
    },
    {
      "cell_type": "code",
      "metadata": {
        "id": "qKwmOWsQr9wA",
        "colab_type": "code",
        "colab": {}
      },
      "source": [
        "df3"
      ],
      "execution_count": 0,
      "outputs": []
    },
    {
      "cell_type": "code",
      "metadata": {
        "id": "-MNn-XdlsjJS",
        "colab_type": "code",
        "colab": {}
      },
      "source": [
        "df= pd.concat([df1, df2, df3])\n",
        "df"
      ],
      "execution_count": 0,
      "outputs": []
    },
    {
      "cell_type": "markdown",
      "metadata": {
        "id": "BV6HgxSYtG6Z",
        "colab_type": "text"
      },
      "source": [
        "Veja que basicamente empilhamos os dataframes. No entanto, se fizermos..."
      ]
    },
    {
      "cell_type": "code",
      "metadata": {
        "id": "Dp-oh-7ftLo5",
        "colab_type": "code",
        "colab": {}
      },
      "source": [
        "df= pd.concat([df1, df2, df3], axis= 1) # axis= 1 é uma operação de coluna\n",
        "df"
      ],
      "execution_count": 0,
      "outputs": []
    },
    {
      "cell_type": "markdown",
      "metadata": {
        "id": "iyDZt2XEtmVs",
        "colab_type": "text"
      },
      "source": [
        "Se, no entanto, tivermos:"
      ]
    },
    {
      "cell_type": "code",
      "metadata": {
        "id": "5PAhjjVZtpP5",
        "colab_type": "code",
        "colab": {}
      },
      "source": [
        "df1 = pd.DataFrame({'A': ['A0', 'A1', 'A2', 'A3'],\n",
        "                        'B': ['B0', 'B1', 'B2', 'B3'],\n",
        "                        'C': ['C0', 'C1', 'C2', 'C3'],\n",
        "                        'D': ['D0', 'D1', 'D2', 'D3']},\n",
        "                        index=[0, 1, 2, 3])\n",
        "\n",
        "df2 = pd.DataFrame({'A': ['A4', 'A5', 'A6', 'A7'],\n",
        "                        'B': ['B4', 'B5', 'B6', 'B7'],\n",
        "                        'C': ['C4', 'C5', 'C6', 'C7'],\n",
        "                        'D': ['D4', 'D5', 'D6', 'D7']},\n",
        "                         index=[4, 5, 6, 7])\n",
        "\n",
        "df3 = pd.DataFrame({'A': ['A8', 'A9', 'A10', 'A11'],\n",
        "                        'B': ['B8', 'B9', 'B10', 'B11'],\n",
        "                        'C': ['C8', 'C9', 'C10', 'C11'],\n",
        "                        'D': ['D8', 'D9', 'D10', 'D11']},\n",
        "                        index=[8, 9, 10, 11])"
      ],
      "execution_count": 0,
      "outputs": []
    },
    {
      "cell_type": "markdown",
      "metadata": {
        "id": "zGDHd-kPt3-T",
        "colab_type": "text"
      },
      "source": [
        "Então..."
      ]
    },
    {
      "cell_type": "code",
      "metadata": {
        "id": "3bTl2Nr2t5WM",
        "colab_type": "code",
        "colab": {}
      },
      "source": [
        "df= pd.concat([df1, df2, df3], axis= 1)\n",
        "df"
      ],
      "execution_count": 0,
      "outputs": []
    },
    {
      "cell_type": "markdown",
      "metadata": {
        "id": "sUXjlp_Jt925",
        "colab_type": "text"
      },
      "source": [
        "Porque isso acontece?"
      ]
    },
    {
      "cell_type": "markdown",
      "metadata": {
        "id": "JdKXY873HrYt",
        "colab_type": "text"
      },
      "source": [
        "## Merge\n",
        "> Primeiramente, vamos ver todos os casos possíveis de joins.\n",
        "\n",
        "### Exemplo\n",
        "> O exemplo a seguir foi inspirado no exemplo apresentado em [Visual Representation of SQL Joins](https://www.codeproject.com/Articles/33052/Visual-Representation-of-SQL-Joins). Considere os dataframes a seguir"
      ]
    },
    {
      "cell_type": "code",
      "metadata": {
        "id": "g4pmhk2t3x8s",
        "colab_type": "code",
        "colab": {}
      },
      "source": [
        "import pandas as pd\n",
        "\n",
        "d_Tabela_A= {'indices': [1,2,3,6,7,5,4,10], 'valores': ['A','B','C','D','E','F','G','H']}\n",
        "d_Tabela_B= {'indices': [1,2,3,6,7,8,9,11], 'valores': ['AA', 'BB','CC','DD','EE','FF','GG','HH']}"
      ],
      "execution_count": 0,
      "outputs": []
    },
    {
      "cell_type": "code",
      "metadata": {
        "id": "XxfUULxY52ns",
        "colab_type": "code",
        "colab": {}
      },
      "source": [
        "df_Tabela_A= pd.DataFrame(d_Tabela_A).set_index('indices')\n",
        "df_Tabela_B= pd.DataFrame(d_Tabela_B).set_index('indices')"
      ],
      "execution_count": 0,
      "outputs": []
    },
    {
      "cell_type": "markdown",
      "metadata": {
        "id": "gGdU36Vi0Yso",
        "colab_type": "text"
      },
      "source": [
        "![SQL_inner_join](https://github.com/MathMachado/Materials/blob/master/SQL_inner_join.png?raw=true)\n",
        "\n",
        "Source: [Visual Representation of SQL Joins](https://www.codeproject.com/Articles/33052/Visual-Representation-of-SQL-Joins)."
      ]
    },
    {
      "cell_type": "code",
      "metadata": {
        "id": "5w7ox7LV9cuG",
        "colab_type": "code",
        "colab": {}
      },
      "source": [
        "df_Tabela_A"
      ],
      "execution_count": 0,
      "outputs": []
    },
    {
      "cell_type": "code",
      "metadata": {
        "id": "TPhmKw-F9fWX",
        "colab_type": "code",
        "colab": {}
      },
      "source": [
        "df_Tabela_B"
      ],
      "execution_count": 0,
      "outputs": []
    },
    {
      "cell_type": "code",
      "metadata": {
        "id": "5AaTlCPy9FBZ",
        "colab_type": "code",
        "colab": {}
      },
      "source": [
        "df_inner_join= pd.merge(df_Tabela_A, df_Tabela_B, on= 'indices', how= 'inner')\n",
        "df_inner_join"
      ],
      "execution_count": 0,
      "outputs": []
    },
    {
      "cell_type": "markdown",
      "metadata": {
        "id": "U3OjFM0E0af-",
        "colab_type": "text"
      },
      "source": [
        "![SQL_left_join](https://github.com/MathMachado/Materials/blob/master/SQL_left_join.png?raw=true)\n",
        "\n",
        "Source: [Visual Representation of SQL Joins](https://www.codeproject.com/Articles/33052/Visual-Representation-of-SQL-Joins).\n"
      ]
    },
    {
      "cell_type": "code",
      "metadata": {
        "colab_type": "code",
        "id": "-efYd9c69k4L",
        "colab": {}
      },
      "source": [
        "df_Tabela_A"
      ],
      "execution_count": 0,
      "outputs": []
    },
    {
      "cell_type": "code",
      "metadata": {
        "colab_type": "code",
        "id": "SqFbNStz9k4S",
        "colab": {}
      },
      "source": [
        "df_Tabela_B"
      ],
      "execution_count": 0,
      "outputs": []
    },
    {
      "cell_type": "code",
      "metadata": {
        "id": "rUpc2k729KA-",
        "colab_type": "code",
        "colab": {}
      },
      "source": [
        "df_left_join= pd.merge(df_Tabela_A, df_Tabela_B, on= 'indices', how= 'left')\n",
        "df_left_join"
      ],
      "execution_count": 0,
      "outputs": []
    },
    {
      "cell_type": "markdown",
      "metadata": {
        "id": "WioSBHjW06Hg",
        "colab_type": "text"
      },
      "source": [
        "![SQL_right_join](https://github.com/MathMachado/Materials/blob/master/SQL_right_join.png?raw=true)\n",
        "\n",
        "Source: [Visual Representation of SQL Joins](https://www.codeproject.com/Articles/33052/Visual-Representation-of-SQL-Joins)."
      ]
    },
    {
      "cell_type": "code",
      "metadata": {
        "colab_type": "code",
        "id": "IrzPjGNp9o2n",
        "colab": {}
      },
      "source": [
        "df_Tabela_A"
      ],
      "execution_count": 0,
      "outputs": []
    },
    {
      "cell_type": "code",
      "metadata": {
        "colab_type": "code",
        "id": "tFFTp_yG9o2s",
        "colab": {}
      },
      "source": [
        "df_Tabela_B"
      ],
      "execution_count": 0,
      "outputs": []
    },
    {
      "cell_type": "code",
      "metadata": {
        "id": "_D4tF7E-9PCx",
        "colab_type": "code",
        "colab": {}
      },
      "source": [
        "df_right_join= pd.merge(df_Tabela_A, df_Tabela_B, on= 'indices', how= 'right')\n",
        "df_right_join"
      ],
      "execution_count": 0,
      "outputs": []
    },
    {
      "cell_type": "markdown",
      "metadata": {
        "id": "E9xFrurZ0ksg",
        "colab_type": "text"
      },
      "source": [
        "![SQL_outer_join](https://github.com/MathMachado/Materials/blob/master/SQL_outer_join.png?raw=true)\n",
        "\n",
        "Source: [Visual Representation of SQL Joins](https://www.codeproject.com/Articles/33052/Visual-Representation-of-SQL-Joins)."
      ]
    },
    {
      "cell_type": "code",
      "metadata": {
        "colab_type": "code",
        "id": "kQCBAfj_9rO_",
        "colab": {}
      },
      "source": [
        "df_Tabela_A"
      ],
      "execution_count": 0,
      "outputs": []
    },
    {
      "cell_type": "code",
      "metadata": {
        "colab_type": "code",
        "id": "FTDHYsgc9rP0",
        "colab": {}
      },
      "source": [
        "df_Tabela_B"
      ],
      "execution_count": 0,
      "outputs": []
    },
    {
      "cell_type": "code",
      "metadata": {
        "id": "hJqyAs0U9XwO",
        "colab_type": "code",
        "colab": {}
      },
      "source": [
        "df_outer_join= pd.merge(df_Tabela_A, df_Tabela_B, on= 'indices', how= 'outer')\n",
        "df_outer_join"
      ],
      "execution_count": 0,
      "outputs": []
    },
    {
      "cell_type": "markdown",
      "metadata": {
        "id": "fHEgLynu0vve",
        "colab_type": "text"
      },
      "source": [
        "![SQL_left_excluding_join](https://github.com/MathMachado/Materials/blob/master/SQL_left_excluding_join.png?raw=true)\n",
        "\n",
        "Source: [Visual Representation of SQL Joins](https://www.codeproject.com/Articles/33052/Visual-Representation-of-SQL-Joins).\n"
      ]
    },
    {
      "cell_type": "code",
      "metadata": {
        "id": "ZA8CcERE-RRS",
        "colab_type": "code",
        "colab": {}
      },
      "source": [
        "df_Tabela_A"
      ],
      "execution_count": 0,
      "outputs": []
    },
    {
      "cell_type": "code",
      "metadata": {
        "id": "IZiAa9X6-UL0",
        "colab_type": "code",
        "colab": {}
      },
      "source": [
        "df_Tabela_B"
      ],
      "execution_count": 0,
      "outputs": []
    },
    {
      "cell_type": "code",
      "metadata": {
        "id": "jdUt63rA-Vjo",
        "colab_type": "code",
        "colab": {}
      },
      "source": [
        "df_left_excluding_join = pd.merge(df_Tabela_A, df_Tabela_B, on= 'indices', how=\"outer\", indicator=True).query('_merge==\"left_only\"')\n",
        "df_left_excluding_join"
      ],
      "execution_count": 0,
      "outputs": []
    },
    {
      "cell_type": "markdown",
      "metadata": {
        "id": "CShcqL-h1MqK",
        "colab_type": "text"
      },
      "source": [
        "![SQL_right_excluding_join](https://github.com/MathMachado/Materials/blob/master/SQL_right_excluding_join.png?raw=true)\n",
        "\n",
        "Source: [Visual Representation of SQL Joins](https://www.codeproject.com/Articles/33052/Visual-Representation-of-SQL-Joins).\n"
      ]
    },
    {
      "cell_type": "code",
      "metadata": {
        "id": "ECjUDoYf_C9x",
        "colab_type": "code",
        "colab": {}
      },
      "source": [
        "df_Tabela_A"
      ],
      "execution_count": 0,
      "outputs": []
    },
    {
      "cell_type": "code",
      "metadata": {
        "id": "xym7VsXi_FXa",
        "colab_type": "code",
        "colab": {}
      },
      "source": [
        "df_Tabela_B"
      ],
      "execution_count": 0,
      "outputs": []
    },
    {
      "cell_type": "code",
      "metadata": {
        "id": "-zFalmly_HJ7",
        "colab_type": "code",
        "colab": {}
      },
      "source": [
        "df_right_excluding_join = pd.merge(df_Tabela_A, df_Tabela_B, on= 'indices', how=\"outer\", indicator=True).query('_merge==\"right_only\"')\n",
        "df_right_excluding_join"
      ],
      "execution_count": 0,
      "outputs": []
    },
    {
      "cell_type": "markdown",
      "metadata": {
        "id": "T8v4-zUt1WQz",
        "colab_type": "text"
      },
      "source": [
        "![SQL_outer_excluding_join](https://github.com/MathMachado/Materials/blob/master/SQL_outer_excluding_join.png?raw=true)\n",
        "\n",
        "Source: [Visual Representation of SQL Joins](https://www.codeproject.com/Articles/33052/Visual-Representation-of-SQL-Joins).\n"
      ]
    },
    {
      "cell_type": "markdown",
      "metadata": {
        "id": "8HeMgBqyAYjW",
        "colab_type": "text"
      },
      "source": [
        "### Desafio: Como resolver este?"
      ]
    },
    {
      "cell_type": "markdown",
      "metadata": {
        "id": "SkCbLsoktgKl",
        "colab_type": "text"
      },
      "source": [
        "### Observações:\n",
        "\n",
        "* Em alguns casos a variável chave nos dois dataframes que se quer fazer o join possui nomes diferentes. Neste caso, use 'left_on' e 'right_on' para definir o nome das COLUNAS chaves no dataframe da esquerda e direita:\n",
        "    * pd.merge(df1, df2, left_on=\"employee\", right_on=\"name\")\n",
        "        * No exemplo acima, o dataframe df1 (dataframe da esquerda) possui chave 'employee' enquanto que o dataframe df2 (dataframe da direita), possui chave 'name'. Usando as 'left_on' e 'right_on' fica claro o nome das chaves de ligação de cada dataframe."
      ]
    },
    {
      "cell_type": "markdown",
      "metadata": {
        "id": "6Obc0fHUwIpu",
        "colab_type": "text"
      },
      "source": [
        "## Joining"
      ]
    },
    {
      "cell_type": "code",
      "metadata": {
        "id": "DQOa89_cwLyd",
        "colab_type": "code",
        "colab": {}
      },
      "source": [
        "df_Left = pd.DataFrame({'A': ['A0', 'A1', 'A2'],\n",
        "                     'B': ['B0', 'B1', 'B2']},\n",
        "                      index=['K0', 'K1', 'K2']) \n",
        "\n",
        "df_Right = pd.DataFrame({'C': ['C0', 'C2', 'C3'],\n",
        "                    'D': ['D0', 'D2', 'D3']},\n",
        "                      index=['K0', 'K2', 'K3'])"
      ],
      "execution_count": 0,
      "outputs": []
    },
    {
      "cell_type": "code",
      "metadata": {
        "id": "UHnX9rxzwMmx",
        "colab_type": "code",
        "colab": {}
      },
      "source": [
        "df_Left"
      ],
      "execution_count": 0,
      "outputs": []
    },
    {
      "cell_type": "code",
      "metadata": {
        "id": "GBc1Mr0Qwff3",
        "colab_type": "code",
        "colab": {}
      },
      "source": [
        "df_Right"
      ],
      "execution_count": 0,
      "outputs": []
    },
    {
      "cell_type": "code",
      "metadata": {
        "id": "TmIk3Kjlwg-7",
        "colab_type": "code",
        "colab": {}
      },
      "source": [
        "df_Left.join(df_Right)"
      ],
      "execution_count": 0,
      "outputs": []
    },
    {
      "cell_type": "code",
      "metadata": {
        "id": "h609fbjjwoZ3",
        "colab_type": "code",
        "colab": {}
      },
      "source": [
        "df_Left.join(df_Right, how='outer')"
      ],
      "execution_count": 0,
      "outputs": []
    },
    {
      "cell_type": "markdown",
      "metadata": {
        "id": "Y8W2kP-VCB3E",
        "colab_type": "text"
      },
      "source": [
        "___\n",
        "# **Selecionar LINHAS do dataframe baseado nos índices**\n",
        "### Leitura Adicional\n",
        "* [pandas loc vs. iloc vs. ix vs. at vs. iat?\n",
        "](https://stackoverflow.com/questions/28757389/pandas-loc-vs-iloc-vs-ix-vs-at-vs-iat/47098873#47098873)\n",
        "* [Indexing and selecting data](https://pandas.pydata.org/pandas-docs/stable/user_guide/indexing.html)"
      ]
    },
    {
      "cell_type": "markdown",
      "metadata": {
        "id": "NN1R1ngAG61x",
        "colab_type": "text"
      },
      "source": [
        "## 1st Approach - pd.loc[]\n",
        "* Para capturar o conteúdo da linha k, use df.loc[row_indexer,column_indexer]."
      ]
    },
    {
      "cell_type": "code",
      "metadata": {
        "id": "oduXMUtIUvkN",
        "colab_type": "code",
        "colab": {}
      },
      "source": [
        "df_Titanic.head()"
      ],
      "execution_count": 0,
      "outputs": []
    },
    {
      "cell_type": "markdown",
      "metadata": {
        "id": "JX9nGPWcVLgE",
        "colab_type": "text"
      },
      "source": [
        "\n",
        "Por exemlo, o comando a seguir mostra o conteúdo da linha 0, todas as COLUNAS(:)"
      ]
    },
    {
      "cell_type": "code",
      "metadata": {
        "id": "U5-I2NgYC2fD",
        "colab_type": "code",
        "colab": {}
      },
      "source": [
        "df2= df_Titanic.loc[1,:]\n",
        "df2.head()"
      ],
      "execution_count": 0,
      "outputs": []
    },
    {
      "cell_type": "markdown",
      "metadata": {
        "id": "tDSJcQLTDyJw",
        "colab_type": "text"
      },
      "source": [
        "Mostrando o conteúdo das LINHAS k= 1:2 (ou seja, LINHAS 1 e 2), todas as COLUNAS(:)"
      ]
    },
    {
      "cell_type": "code",
      "metadata": {
        "id": "JD1TDTqAD_5r",
        "colab_type": "code",
        "colab": {}
      },
      "source": [
        "df_Titanic.loc[1:2, :]"
      ],
      "execution_count": 0,
      "outputs": []
    },
    {
      "cell_type": "markdown",
      "metadata": {
        "id": "EoAmcdfnEIho",
        "colab_type": "text"
      },
      "source": [
        "Mostrar os conteúdos da linha k= 1, coluna 'pclass':"
      ]
    },
    {
      "cell_type": "code",
      "metadata": {
        "id": "8vjc5z3_EQfY",
        "colab_type": "code",
        "colab": {}
      },
      "source": [
        "df_Titanic.loc[1, ['pclass']]"
      ],
      "execution_count": 0,
      "outputs": []
    },
    {
      "cell_type": "markdown",
      "metadata": {
        "id": "7bC8-H-QFLgd",
        "colab_type": "text"
      },
      "source": [
        "Mostrar os conteúdos da linha k= 1 e COLUNAS ['pclass', 'sex']:"
      ]
    },
    {
      "cell_type": "code",
      "metadata": {
        "id": "LYFTrZr_FR5g",
        "colab_type": "code",
        "colab": {}
      },
      "source": [
        "df_Titanic.loc[0, ['pclass', 'sex']]"
      ],
      "execution_count": 0,
      "outputs": []
    },
    {
      "cell_type": "markdown",
      "metadata": {
        "id": "UtUsmU8sXYTU",
        "colab_type": "text"
      },
      "source": [
        "Porque temos um erro aqui?"
      ]
    },
    {
      "cell_type": "markdown",
      "metadata": {
        "id": "CRy5sDx-XbBL",
        "colab_type": "text"
      },
      "source": [
        "Versão correta abaixo:"
      ]
    },
    {
      "cell_type": "code",
      "metadata": {
        "id": "5Lfw0HEnXdn0",
        "colab_type": "code",
        "colab": {}
      },
      "source": [
        "df_Titanic.loc[1, ['pclass', 'sex']]"
      ],
      "execution_count": 0,
      "outputs": []
    },
    {
      "cell_type": "markdown",
      "metadata": {
        "id": "Tjw3vjkDZg1Z",
        "colab_type": "text"
      },
      "source": [
        "Mostrar os conteúdos da linha k= 1:5 e COLUNAS ['pclass', 'sex']:"
      ]
    },
    {
      "cell_type": "code",
      "metadata": {
        "id": "4GuAE5MSZjNb",
        "colab_type": "code",
        "colab": {}
      },
      "source": [
        "df_Titanic.loc[1:5, ['pclass', 'sex']]"
      ],
      "execution_count": 0,
      "outputs": []
    },
    {
      "cell_type": "markdown",
      "metadata": {
        "id": "xRZxqE6RFnJI",
        "colab_type": "text"
      },
      "source": [
        "Agora suponha que queremos selecionar toda a 'sex'. Como fazer isso?"
      ]
    },
    {
      "cell_type": "code",
      "metadata": {
        "id": "JdeD_uzfFrp5",
        "colab_type": "code",
        "colab": {}
      },
      "source": [
        "df_sex= df_Titanic.loc[:, 'sex']\n",
        "df_sex.head()"
      ],
      "execution_count": 0,
      "outputs": []
    },
    {
      "cell_type": "markdown",
      "metadata": {
        "id": "z_WUjYxsX-Av",
        "colab_type": "text"
      },
      "source": [
        "Fácil selecionarmos o que queremos usando .loc() e iloc(), certo?"
      ]
    },
    {
      "cell_type": "markdown",
      "metadata": {
        "id": "RKk0zollHFbp",
        "colab_type": "text"
      },
      "source": [
        "## 2nd Approach - Usando lists\n",
        "\n",
        "\n",
        "\n"
      ]
    },
    {
      "cell_type": "code",
      "metadata": {
        "id": "jhwoY6LmGzC0",
        "colab_type": "code",
        "colab": {}
      },
      "source": [
        "df_Titanic[0:2] # Mostrar os conteúdos das LINHAS 0:2"
      ],
      "execution_count": 0,
      "outputs": []
    },
    {
      "cell_type": "code",
      "metadata": {
        "id": "I6EOVIDxGiy-",
        "colab_type": "code",
        "colab": {}
      },
      "source": [
        "df_Titanic[:3] # Mostrar os conteúdos até a linha 3"
      ],
      "execution_count": 0,
      "outputs": []
    },
    {
      "cell_type": "code",
      "metadata": {
        "id": "VOHp77F8H9t1",
        "colab_type": "code",
        "colab": {}
      },
      "source": [
        "df_Titanic['sex'].head() # Mostrar o conteúdo inteiro da variável 'sex'"
      ],
      "execution_count": 0,
      "outputs": []
    },
    {
      "cell_type": "code",
      "metadata": {
        "id": "8nvHNdhPZ040",
        "colab_type": "code",
        "colab": {}
      },
      "source": [
        "df_Titanic[0:5]['sex'].head() # Mostrar as LINHAS 0 a 5 da variável 'sex'"
      ],
      "execution_count": 0,
      "outputs": []
    },
    {
      "cell_type": "markdown",
      "metadata": {
        "id": "GMFso1jaYXgN",
        "colab_type": "text"
      },
      "source": [
        "___\n",
        "# **Selecionar/Filtrar LINHAS do dataframe baseado em condições**"
      ]
    },
    {
      "cell_type": "markdown",
      "metadata": {
        "id": "BKljSpS5ou-i",
        "colab_type": "text"
      },
      "source": [
        "## Exemplo 1\n",
        "> Aproveitando o exemplo anterior, queremos selecionar do dataframe somente os passageiros do sexo 'male'."
      ]
    },
    {
      "cell_type": "markdown",
      "metadata": {
        "id": "jek8Ru3Aam23",
        "colab_type": "text"
      },
      "source": [
        "### Approach 1: df.loc() e df.iloc()"
      ]
    },
    {
      "cell_type": "code",
      "metadata": {
        "id": "eysZoBX2YKb-",
        "colab_type": "code",
        "colab": {}
      },
      "source": [
        "df_sexo_male1= df_Titanic.loc[df_Titanic['sex']== 'male', 'sex']\n",
        "df_sexo_male1.head()"
      ],
      "execution_count": 0,
      "outputs": []
    },
    {
      "cell_type": "markdown",
      "metadata": {
        "id": "uLDOHKGfaq-Z",
        "colab_type": "text"
      },
      "source": [
        "### Approach 2: Uso do []"
      ]
    },
    {
      "cell_type": "code",
      "metadata": {
        "id": "QncrZwHkasiu",
        "colab_type": "code",
        "colab": {}
      },
      "source": [
        "df_sexo_male2= df_Titanic[df_Titanic['sex']== 'male']['sex']\n",
        "df_sexo_male2.head()"
      ],
      "execution_count": 0,
      "outputs": []
    },
    {
      "cell_type": "markdown",
      "metadata": {
        "id": "ot6UBTYJF-AJ",
        "colab_type": "text"
      },
      "source": [
        "### Approach 3: df.isin()\n"
      ]
    },
    {
      "cell_type": "markdown",
      "metadata": {
        "id": "OBRF0be3VuTi",
        "colab_type": "text"
      },
      "source": [
        "#### Exemplo 1 - Filtro simples"
      ]
    },
    {
      "cell_type": "code",
      "metadata": {
        "id": "LeTDiGICGOzb",
        "colab_type": "code",
        "colab": {}
      },
      "source": [
        "df_sexo_male3= df_Titanic['sex'].isin(['male'])\n",
        "df_sexo_male3.head()"
      ],
      "execution_count": 0,
      "outputs": []
    },
    {
      "cell_type": "markdown",
      "metadata": {
        "id": "Q6emu30nGmpt",
        "colab_type": "text"
      },
      "source": [
        "#### Exemplo 2 - Filtro duplo"
      ]
    },
    {
      "cell_type": "code",
      "metadata": {
        "id": "TRaiCYMRGpgl",
        "colab_type": "code",
        "colab": {}
      },
      "source": [
        "# Filtros usando df.isin() \n",
        "Filtro1 = df_Titanic[\"sex\"].isin([\"male\"]) \n",
        "Filtro2 = df_Titanic[\"Pclass\"].isin([1]) \n",
        "  \n",
        "# Mostra os resutados  \n",
        "df_Titanic[Filtro1 & Filtro2].head()"
      ],
      "execution_count": 0,
      "outputs": []
    },
    {
      "cell_type": "markdown",
      "metadata": {
        "id": "ujrYHyOsfW7n",
        "colab_type": "text"
      },
      "source": [
        "### Approach 4 - Filtrar com df.str.contains('s_substr')"
      ]
    },
    {
      "cell_type": "code",
      "metadata": {
        "id": "gntbfHgTfanx",
        "colab_type": "code",
        "colab": {}
      },
      "source": [
        "# Mostrar todas as LINHAS onde a string 'Mr' aparece no nome do passageiro:\n",
        "df2= df_Titanic[df_Titanic['Name'].str.contains('Mr')]\n",
        "df2.head()"
      ],
      "execution_count": 0,
      "outputs": []
    },
    {
      "cell_type": "markdown",
      "metadata": {
        "id": "eaRtQ8Ja8MOH",
        "colab_type": "text"
      },
      "source": [
        "Para saber mais sobre o método df[col].str.contais(), consulte https://pandas.pydata.org/pandas-docs/stable/reference/api/pandas.Series.str.contains.html."
      ]
    },
    {
      "cell_type": "markdown",
      "metadata": {
        "id": "7UedpTeEcMkz",
        "colab_type": "text"
      },
      "source": [
        "## Exemplo 2: Duas condições\n",
        "> Selecionar todas as LINHAS onde sexo= 'male' e Embarked= 'S'."
      ]
    },
    {
      "cell_type": "code",
      "metadata": {
        "id": "Sh0DDj1xcPaI",
        "colab_type": "code",
        "colab": {}
      },
      "source": [
        "df_sexo_male_S= df_Titanic[((df_Titanic['sex'] == 'male') & (df_Titanic['embarked'] == 'S'))]\n",
        "df_sexo_male_S.head()"
      ],
      "execution_count": 0,
      "outputs": []
    },
    {
      "cell_type": "markdown",
      "metadata": {
        "id": "wZ3MOXyHDkFz",
        "colab_type": "text"
      },
      "source": [
        "## Exemplo 4: df.query()\n",
        "Fonte: //pandas.pydata.org/pandas-docs/stable/user_guide/indexing.html#the-query-method"
      ]
    },
    {
      "cell_type": "code",
      "metadata": {
        "id": "TRaiCYMRGpgl",
        "colab_type": "code",
        "colab": {}
      },
      "source": [
        "# Filtros usando df.isin() \n",
        "Filtro1 = df_Titanic[\"sex\"].isin([\"male\"]) \n",
        "Filtro2 = df_Titanic[\"pclass\"].isin([1]) \n",
        "  \n",
        "# Mostra os resutados  \n",
        "df_Titanic[Filtro1 & Filtro2].head()"
      ],
      "execution_count": 0,
      "outputs": []
    },
    {
      "cell_type": "markdown",
      "metadata": {
        "id": "KVSAYeU0KA2V",
        "colab_type": "text"
      },
      "source": [
        "___\n",
        "# **Selecionar amostras aleatórias do dataframe**"
      ]
    },
    {
      "cell_type": "markdown",
      "metadata": {
        "id": "U502dAs3OfOH",
        "colab_type": "text"
      },
      "source": [
        "Vimos que o dataframe df_Titanic é muito grande. Então, vamos selecionar aleatoriamente 100 LINHAS."
      ]
    },
    {
      "cell_type": "code",
      "metadata": {
        "id": "0BrKUnAiPcAy",
        "colab_type": "code",
        "colab": {}
      },
      "source": [
        "import random  \n",
        "\n",
        "# Biblioteca para avaliarmos o tempo de processamento de cada alternativa\n",
        "import time"
      ],
      "execution_count": 0,
      "outputs": []
    },
    {
      "cell_type": "code",
      "metadata": {
        "id": "iJ1G8lYgKGsc",
        "colab_type": "code",
        "colab": {}
      },
      "source": [
        "# Usando sample\n",
        "t0= time.time()\n",
        "df_Titanic_sample100= df_Titanic.sample(100, replace= False, random_state= 20111974)\n",
        "t1= time.time()\n",
        "t= t1-t0\n",
        "df_Titanic_sample100.head()"
      ],
      "execution_count": 0,
      "outputs": []
    },
    {
      "cell_type": "code",
      "metadata": {
        "id": "8DvWOKizZQr8",
        "colab_type": "code",
        "colab": {}
      },
      "source": [
        "f'Tempo de processamento: {t}'"
      ],
      "execution_count": 0,
      "outputs": []
    },
    {
      "cell_type": "code",
      "metadata": {
        "id": "nAHLTjpvYKPS",
        "colab_type": "code",
        "colab": {}
      },
      "source": [
        "# Usando NumPy\n",
        "import numpy as np\n",
        "\n",
        "t0= time.time()\n",
        "np.random.seed(20111974)\n",
        "indices = np.random.choice(df_Titanic.shape[0], replace=False, size=100)\n",
        "df_Titanic_sample100_V2 = df_Titanic.iloc[indices]\n",
        "t1= time.time()\n",
        "t= t1-t0\n",
        "df_Titanic_sample100_V2.head()"
      ],
      "execution_count": 0,
      "outputs": []
    },
    {
      "cell_type": "code",
      "metadata": {
        "id": "U8PEDMJ4a52P",
        "colab_type": "code",
        "colab": {}
      },
      "source": [
        "f'Tempo de processamento: {t}'"
      ],
      "execution_count": 0,
      "outputs": []
    },
    {
      "cell_type": "code",
      "metadata": {
        "id": "wYeuJWdEdMPd",
        "colab_type": "code",
        "colab": {}
      },
      "source": [
        "df_Titanic_sample100_V2.shape"
      ],
      "execution_count": 0,
      "outputs": []
    },
    {
      "cell_type": "markdown",
      "metadata": {
        "id": "vNMiRkjCQ9Mu",
        "colab_type": "text"
      },
      "source": [
        "___\n",
        "# **Descrever o Dataframe**"
      ]
    },
    {
      "cell_type": "code",
      "metadata": {
        "id": "GllUFj56RHuD",
        "colab_type": "code",
        "colab": {}
      },
      "source": [
        "df_Titanic_sample100.describe()"
      ],
      "execution_count": 0,
      "outputs": []
    },
    {
      "cell_type": "code",
      "metadata": {
        "id": "izbpIEi1d1sx",
        "colab_type": "code",
        "colab": {}
      },
      "source": [
        "df_Titanic_sample100_V2.describe()"
      ],
      "execution_count": 0,
      "outputs": []
    },
    {
      "cell_type": "markdown",
      "metadata": {
        "id": "H40G3QzWbG9N",
        "colab_type": "text"
      },
      "source": [
        "___\n",
        "# **Identificar e lidar com LINHAS duplicadas**"
      ]
    },
    {
      "cell_type": "markdown",
      "metadata": {
        "id": "_OoM_HS5ZgxG",
        "colab_type": "text"
      },
      "source": [
        "## Exemplo 1\n",
        "* considera as duplicatas em todas as COLUNAS do dataframe."
      ]
    },
    {
      "cell_type": "code",
      "metadata": {
        "id": "5XOOdOZBbLc_",
        "colab_type": "code",
        "colab": {}
      },
      "source": [
        "df = pd.DataFrame({'A':[1,1,3,4,5,1], 'B':[1,1,3,7,8,1], 'C':[3,1,1,6,7,1]})\n",
        "df"
      ],
      "execution_count": 0,
      "outputs": []
    },
    {
      "cell_type": "code",
      "metadata": {
        "id": "Gio08BkTbTOp",
        "colab_type": "code",
        "colab": {}
      },
      "source": [
        "# Lista as duplicações em forma booleana\n",
        "df.duplicated()"
      ],
      "execution_count": 0,
      "outputs": []
    },
    {
      "cell_type": "markdown",
      "metadata": {
        "id": "obgbM4d_hJ_J",
        "colab_type": "text"
      },
      "source": [
        "Observe a linha 5, onde temos a informação que esta linha está duplicada. Na verdade, a linha 5 é igual à linha 1"
      ]
    },
    {
      "cell_type": "code",
      "metadata": {
        "id": "LHhOIb-EbWfn",
        "colab_type": "code",
        "colab": {}
      },
      "source": [
        "# Mostra as LINHAS duplicadas\n",
        "df[df.duplicated()]"
      ],
      "execution_count": 0,
      "outputs": []
    },
    {
      "cell_type": "code",
      "metadata": {
        "id": "IyJS70_kZ-Jk",
        "colab_type": "code",
        "colab": {}
      },
      "source": [
        "# Deleta a linha 5 que, como vimos, estava duplicada (uma cópia da linha 1).\n",
        "df= df.drop_duplicates()\n",
        "df"
      ],
      "execution_count": 0,
      "outputs": []
    },
    {
      "cell_type": "markdown",
      "metadata": {
        "id": "3Q05mxOSaEjX",
        "colab_type": "text"
      },
      "source": [
        "## Exemplo 2\n",
        "* Considera somente algumas COLUNAS"
      ]
    },
    {
      "cell_type": "code",
      "metadata": {
        "id": "jiqyjcqdaQ1y",
        "colab_type": "code",
        "colab": {}
      },
      "source": [
        "df = pd.DataFrame({'A':[1,1,3,4,5,1], 'B':[1,1,3,7,8,1], 'C':[3,1,1,6,7,1]})\n",
        "df"
      ],
      "execution_count": 0,
      "outputs": []
    },
    {
      "cell_type": "code",
      "metadata": {
        "id": "F_118d7vbZ9Y",
        "colab_type": "code",
        "colab": {}
      },
      "source": [
        "# Mostra as LINHAS duplicadas usando as COLUNAS 'A' e 'B'\n",
        "df[df.duplicated(subset=['A','B'])]"
      ],
      "execution_count": 0,
      "outputs": []
    },
    {
      "cell_type": "code",
      "metadata": {
        "id": "_1w_ZZO4vF3A",
        "colab_type": "code",
        "colab": {}
      },
      "source": [
        "# Deleta as LINHAS 1 e 5, pois como podemos ver, são duplicatas da linha 0\n",
        "df= df.drop_duplicates(subset = ['A', 'B'])\n",
        "df"
      ],
      "execution_count": 0,
      "outputs": []
    },
    {
      "cell_type": "markdown",
      "metadata": {
        "id": "ujrYHyOsfW7n",
        "colab_type": "text"
      },
      "source": [
        "___\n",
        "# **Mostrar linhas do dataframe baseado em condições**"
      ]
    },
    {
      "cell_type": "code",
      "metadata": {
        "id": "gntbfHgTfanx",
        "colab_type": "code",
        "colab": {}
      },
      "source": [
        "# Mostrar todas as linhas onde a string 'Mr' aparece no nome do passageiro:\n",
        "df2= df_Titanic[df_Titanic['name'].str.contains('Mr')]\n",
        "df2.head()"
      ],
      "execution_count": 0,
      "outputs": []
    },
    {
      "cell_type": "markdown",
      "metadata": {
        "id": "eaRtQ8Ja8MOH",
        "colab_type": "text"
      },
      "source": [
        "Para saber mais sobre o método df[col].str.contais(), consulte https://pandas.pydata.org/pandas-docs/stable/reference/api/pandas.Series.str.contains.html."
      ]
    },
    {
      "cell_type": "markdown",
      "metadata": {
        "id": "qVx6p8u36jhD",
        "colab_type": "text"
      },
      "source": [
        "___\n",
        "# **Trabalhar com dados do tipo texto**\n",
        "* Fontes:\n",
        "    * [Working with text data](https://pandas.pydata.org/pandas-docs/stable/user_guide/text.html)\n",
        "    * [Using String Methods](https://www.ritchieng.com/pandas-string-methods/)."
      ]
    },
    {
      "cell_type": "markdown",
      "metadata": {
        "id": "JLG3cVA1e8-B",
        "colab_type": "text"
      },
      "source": [
        "Preparando os dados para o exemplo:"
      ]
    },
    {
      "cell_type": "code",
      "metadata": {
        "id": "G_CEULoyeP8C",
        "colab_type": "code",
        "colab": {}
      },
      "source": [
        "# Define um dicionário com os dados: \n",
        "import numpy as np\n",
        "\n",
        "l_Idade= []\n",
        "for i in range(6):\n",
        "    np.random.seed(i)    \n",
        "    l_Idade.append(np.random.randint(10, 40))\n",
        "    \n",
        "\n",
        "d_Exemplo = {'Nome':['Mr. Antonio dos Santos', 'Mr. Joao Pedro', 'Miss. Priscila Alvarenga', 'Mr. fagner NoVAES', 'Miss. Danielle Aparecida', 'Mr. Paullo Amarantes'], \n",
        "        'Idade': l_Idade, \n",
        "        'Cidade':['lisboa', 'Sintra', 'Braga', 'Guimaraes', 'Mafra', 'Nazare']} \n",
        "   \n",
        "# Converte o dicionário num dataframe\n",
        "df = pd.DataFrame(d_Exemplo) \n",
        "df"
      ],
      "execution_count": 0,
      "outputs": []
    },
    {
      "cell_type": "markdown",
      "metadata": {
        "id": "or-Kzaqmdn2b",
        "colab_type": "text"
      },
      "source": [
        "* Sugestões do que podemos fazer com relação á coluna 'nome' do dataframe df:\n",
        "    * Extrair o cumprimento do nome: Mr., Miss e etc.\n",
        "    * Construir as COLUNAS PrimeiroNome e SegundoNome.\n",
        "    * Criar a variável Idade_Class."
      ]
    },
    {
      "cell_type": "markdown",
      "metadata": {
        "id": "Vd99ksvcg7uy",
        "colab_type": "text"
      },
      "source": [
        "## Extrair o cumprimento do nome"
      ]
    },
    {
      "cell_type": "code",
      "metadata": {
        "id": "rNsANzFAg_Kn",
        "colab_type": "code",
        "colab": {}
      },
      "source": [
        "df_Nome= df['Nome'].str.split(' ', n = 2, expand = True) \n",
        "df_Nome"
      ],
      "execution_count": 0,
      "outputs": []
    },
    {
      "cell_type": "markdown",
      "metadata": {
        "id": "ianqsxLol008",
        "colab_type": "text"
      },
      "source": [
        "Altere o valor de n para 3 e explique como as coisas funcionam..."
      ]
    },
    {
      "cell_type": "code",
      "metadata": {
        "id": "5NDAkEqCl6H5",
        "colab_type": "code",
        "colab": {}
      },
      "source": [
        "# Capturando o cumprimento do nome:\n",
        "df['Cumprimento']= df['Nome'].str.split(' ', n = 2, expand = True)[0]\n",
        "df"
      ],
      "execution_count": 0,
      "outputs": []
    },
    {
      "cell_type": "markdown",
      "metadata": {
        "id": "B1QoH4LyrpVI",
        "colab_type": "text"
      },
      "source": [
        "## Construir as COLUNAS Primeiro_Nome e Segundo_Nome"
      ]
    },
    {
      "cell_type": "code",
      "metadata": {
        "id": "cbi4eRN2mOu9",
        "colab_type": "code",
        "colab": {}
      },
      "source": [
        "# Capturando o primeiro nome:\n",
        "df['Primeiro_Nome']= df['Nome'].str.split(' ', n = 2, expand = True)[1]\n",
        "df['Ultimo_Nome']= df['Nome'].str.split(' ', n = 2, expand = True)[2]\n",
        "df"
      ],
      "execution_count": 0,
      "outputs": []
    },
    {
      "cell_type": "markdown",
      "metadata": {
        "id": "7eagWhgZrwOh",
        "colab_type": "text"
      },
      "source": [
        "### Construir a variável Idade_Class\n",
        "\n",
        " | Limite Inferior | Limite Superior | Classe |\n",
        "    |-----------------|-----------------|--------|\n",
        "    | Inf | 15 | Inf_15 |\n",
        "    | 15 | 20 | 15_20 |\n",
        "    | 20 | 30 | 25_30 |\n",
        "    | 30 | 40 | 30_40 |\n",
        "    | 40 | 50 | 40_50 |\n",
        "    | 50 | Sup | 50_Sup |"
      ]
    },
    {
      "cell_type": "code",
      "metadata": {
        "id": "lBjRBGBWr2AH",
        "colab_type": "code",
        "colab": {}
      },
      "source": [
        "def Idade_Class(Idade):\n",
        "    if (Idade <= 15):\n",
        "        return 'Inf_15'\n",
        "    if (15 < Idade <= 20):\n",
        "        return '15_20'\n",
        "    elif(20 < Idade <= 30):\n",
        "        return '20_30'\n",
        "    elif (30 < Idade <= 40):\n",
        "        return '30_40'\n",
        "    elif (40 < Idade <= 50):\n",
        "        return '40_50'\n",
        "    elif (Idade > 50):\n",
        "        return '50_Sup'\n",
        "    else:\n",
        "        return 'Outros'"
      ],
      "execution_count": 0,
      "outputs": []
    },
    {
      "cell_type": "code",
      "metadata": {
        "id": "OogrvjCrsdoh",
        "colab_type": "code",
        "colab": {}
      },
      "source": [
        "df['Idade_Class'] = df['Idade'].map(Idade_Class)\n",
        "df"
      ],
      "execution_count": 0,
      "outputs": []
    },
    {
      "cell_type": "markdown",
      "metadata": {
        "id": "JDtxz_eaRcmi",
        "colab_type": "text"
      },
      "source": [
        "___\n",
        "# **Agrupar Informações: pd.groupby()**\n",
        "* Fonte: [Group By: split-apply-combine](https://pandas.pydata.org/pandas-docs/stable/user_guide/groupby.html)\n",
        "\n",
        "* Os componentes do comando Groupby()\n",
        "    * **Grouping_Column** - Coluna Categórica pelo qual os dados serão agrupados;\n",
        "    * **Aggregating_Column** - Coluna numérica cujos valores serão agrupados;\n",
        "    * **Aggregating_Function** - Função agregadora, ou seja: sum, min, max, mean, median, etc...\n",
        "\n",
        "> Sintaxe: \n",
        "\n",
        "```\n",
        "df.groupby('Grouping_Column').agg({'Aggregating_Column': 'Aggregating_Function'})\n",
        "\n",
        "OU\n",
        "\n",
        "df['Aggregating_Column'].groupby(df['Grouping_Column']).Function()\n",
        "```"
      ]
    },
    {
      "cell_type": "markdown",
      "metadata": {
        "id": "bmFf-273XPXj",
        "colab_type": "text"
      },
      "source": [
        "## Exemplo 1"
      ]
    },
    {
      "cell_type": "code",
      "metadata": {
        "id": "wteEveUsd36C",
        "colab_type": "code",
        "colab": {}
      },
      "source": [
        "Transf_Lower(df_Titanic)\n",
        "df_Titanic.head()"
      ],
      "execution_count": 0,
      "outputs": []
    },
    {
      "cell_type": "code",
      "metadata": {
        "id": "buF5DhkFfqVA",
        "colab_type": "code",
        "colab": {}
      },
      "source": [
        "# Agrupando df_Titanic por 'sex3'\n",
        "df_Titanic.groupby(['sex', 'pclass']).agg({'fare': ['min', 'median', 'mean','max'], 'age': ['count', 'mean','max']})"
      ],
      "execution_count": 0,
      "outputs": []
    },
    {
      "cell_type": "code",
      "metadata": {
        "id": "YP3GDwq0gR_V",
        "colab_type": "code",
        "colab": {}
      },
      "source": [
        "# Agrupando df_Titanic por 'sex3' e 'Pclass'\n",
        "df_Titanic.groupby(['sex3','Pclass']).agg({'Fare': ['max', 'min']}).round(0)"
      ],
      "execution_count": 0,
      "outputs": []
    },
    {
      "cell_type": "code",
      "metadata": {
        "id": "se4tQ3ETeUfv",
        "colab_type": "code",
        "colab": {}
      },
      "source": [
        "df_Titanic.groupby(['sex3']).agg({'Age': ['mean','min','max']}).round(0)"
      ],
      "execution_count": 0,
      "outputs": []
    },
    {
      "cell_type": "code",
      "metadata": {
        "id": "zUj82I7Cm220",
        "colab_type": "code",
        "colab": {}
      },
      "source": [
        "df_Titanic.head()"
      ],
      "execution_count": 0,
      "outputs": []
    },
    {
      "cell_type": "markdown",
      "metadata": {
        "id": "OrLZjm9bXTOr",
        "colab_type": "text"
      },
      "source": [
        "## Exemplo 2"
      ]
    },
    {
      "cell_type": "markdown",
      "metadata": {
        "id": "x8aPZPT6XZVP",
        "colab_type": "text"
      },
      "source": [
        "### Preparando o exemplo"
      ]
    },
    {
      "cell_type": "code",
      "metadata": {
        "id": "KrCe6RgOXaFx",
        "colab_type": "code",
        "colab": {}
      },
      "source": [
        "l_Coluna= []\n",
        "\n",
        "for i in range(1,6):\n",
        "    np.random.seed(i)\n",
        "    l_Coluna.append(np.random.randint(0, 10, 10))\n",
        "    \n",
        "np.random.seed(6)\n",
        "l_Coluna.append(np.random.rand(10))\n",
        "\n",
        "l_Coluna"
      ],
      "execution_count": 0,
      "outputs": []
    },
    {
      "cell_type": "code",
      "metadata": {
        "id": "tXaHjmfSXeCw",
        "colab_type": "code",
        "colab": {}
      },
      "source": [
        "l_Coluna[0]"
      ],
      "execution_count": 0,
      "outputs": []
    },
    {
      "cell_type": "code",
      "metadata": {
        "id": "U_aEVMTHq6ee",
        "colab_type": "code",
        "colab": {}
      },
      "source": [
        "df = pd.DataFrame({'coluna6' : ['a', 'a', 'b', 'b', 'a', 'b', 'b', 'b', 'a', 'a'],\n",
        "                'coluna7' : ['um', 'dois', 'um', 'dois', 'um', 'dois', 'dois', 'um', 'um', 'dois'],\n",
        "                'coluna1' : l_Coluna[0],\n",
        "                'coluna2' : l_Coluna[1],\n",
        "                'coluna3' : l_Coluna[2],\n",
        "                'coluna4' : l_Coluna[3],\n",
        "                'coluna5' : l_Coluna[4],\n",
        "                'coluna8' : l_Coluna[5],\n",
        "                'Pessoas' : ['Jose','Maria','Pedro','Carlos','Joao','Ana','Manoel','Mafalda','Antonio','Ricardo'],\n",
        "                'sexo'    : ['m','f','m','m','m','f','m','f','m','m']})\n",
        "df"
      ],
      "execution_count": 0,
      "outputs": []
    },
    {
      "cell_type": "markdown",
      "metadata": {
        "id": "Ok4a28lGlVC5",
        "colab_type": "text"
      },
      "source": [
        "Agrupando por 'coluna6':"
      ]
    },
    {
      "cell_type": "code",
      "metadata": {
        "id": "Vx77lyzlZIFW",
        "colab_type": "code",
        "colab": {}
      },
      "source": [
        "df.groupby('coluna6').agg({'coluna1': ['min','mean','median','max']})"
      ],
      "execution_count": 0,
      "outputs": []
    },
    {
      "cell_type": "markdown",
      "metadata": {
        "id": "T6i-R2KemadE",
        "colab_type": "text"
      },
      "source": [
        "Agora, vamos repetir o processo usando duas COLUNAS-chaves 'coluna6' e 'coluna7':"
      ]
    },
    {
      "cell_type": "code",
      "metadata": {
        "id": "WxmHQnQSZrXA",
        "colab_type": "code",
        "colab": {}
      },
      "source": [
        "Estatisticas_Descr= df.groupby(['coluna6','coluna7']).agg({'coluna1': ['min','mean','median','max']})\n",
        "Estatisticas_Descr"
      ],
      "execution_count": 0,
      "outputs": []
    },
    {
      "cell_type": "markdown",
      "metadata": {
        "id": "Ipw5EROwaaCX",
        "colab_type": "text"
      },
      "source": [
        "Observe que Estatisticas_Descr é um dataframe. Portanto, podemos selecionar LINHAS e/ou COLUNAS deste dataframe da forma que quisermos."
      ]
    },
    {
      "cell_type": "code",
      "metadata": {
        "id": "qk5uSdVwb7dH",
        "colab_type": "code",
        "colab": {}
      },
      "source": [
        "# Índices do dataframe:\n",
        "Estatisticas_Descr.index"
      ],
      "execution_count": 0,
      "outputs": []
    },
    {
      "cell_type": "code",
      "metadata": {
        "id": "brIgUFlkalix",
        "colab_type": "code",
        "colab": {}
      },
      "source": [
        "# Selecionando o conteúdo de coluna6= 'a' e coluna7= 'um':\n",
        "Estatisticas_Descr.loc[('a', 'um')]"
      ],
      "execution_count": 0,
      "outputs": []
    },
    {
      "cell_type": "code",
      "metadata": {
        "id": "fQUs2PVHc6iR",
        "colab_type": "code",
        "colab": {}
      },
      "source": [
        "# Selecionando o conteúdo de coluna6= 'a' e coluna7= 'um', primeiro valor:\n",
        "Estatisticas_Descr.loc[('a', 'um')][0] # ou seja, selecionamos min"
      ],
      "execution_count": 0,
      "outputs": []
    },
    {
      "cell_type": "code",
      "metadata": {
        "id": "zT0xiee6dDpK",
        "colab_type": "code",
        "colab": {}
      },
      "source": [
        "# Selecionando o conteúdo de coluna6= 'a' e coluna7= 'um', segundo valor:\n",
        "Estatisticas_Descr.loc[('a', 'um')][1] # ou seja, selecionamos mean"
      ],
      "execution_count": 0,
      "outputs": []
    },
    {
      "cell_type": "markdown",
      "metadata": {
        "id": "vXlcjPM6dQKi",
        "colab_type": "text"
      },
      "source": [
        "E daí por diante..."
      ]
    },
    {
      "cell_type": "markdown",
      "metadata": {
        "id": "EMxFMqn9dm3g",
        "colab_type": "text"
      },
      "source": [
        "Para aprender mais sobre como trabalhar com dois índices em um dataframe, consulte [Hierarchical indices, groupby and pandas](https://www.datacamp.com/community/tutorials/pandas-multi-index)."
      ]
    },
    {
      "cell_type": "markdown",
      "metadata": {
        "id": "gNHyH7M0pGDy",
        "colab_type": "text"
      },
      "source": [
        "___\n",
        "## Exemplo 3\n",
        "### Operações e transformações em grupo"
      ]
    },
    {
      "cell_type": "code",
      "metadata": {
        "id": "ywl3k_l8pGD0",
        "colab_type": "code",
        "colab": {}
      },
      "source": [
        "# Mostra o dataframe-exemplo:\n",
        "df"
      ],
      "execution_count": 0,
      "outputs": []
    },
    {
      "cell_type": "code",
      "metadata": {
        "id": "AF8cbNsjpGD5",
        "colab_type": "code",
        "colab": {}
      },
      "source": [
        "# Constroi dataframe df_Medias\n",
        "df_Medias = df.groupby('coluna6').mean().add_prefix('mean_')\n",
        "df_Medias"
      ],
      "execution_count": 0,
      "outputs": []
    },
    {
      "cell_type": "code",
      "metadata": {
        "id": "JGlA6ufLpGD9",
        "colab_type": "code",
        "colab": {}
      },
      "source": [
        "# Combina (merge) com o dataframe df:\n",
        "pd.merge(df, df_Medias, left_on='coluna6', right_index=True)"
      ],
      "execution_count": 0,
      "outputs": []
    },
    {
      "cell_type": "markdown",
      "metadata": {
        "id": "1MjZu3sVpGEd",
        "colab_type": "text"
      },
      "source": [
        "___\n",
        "# **Discretizar COLUNAS numéricas**\n",
        "* pd.cut() - classes com base em valores;\n",
        "* pd.qcut() - classes com base em quantis da amostra, ou seja teremos a mesma quantidade de itens em cada classe.\n",
        "\n",
        "> Este artifício é muito utilizado em Machine Learning quando queremos construir classes para variáveis numéricas (integer ou float). Acompanhe a seguir:"
      ]
    },
    {
      "cell_type": "code",
      "metadata": {
        "id": "yK772hiSfZaE",
        "colab_type": "code",
        "colab": {}
      },
      "source": [
        "df"
      ],
      "execution_count": 0,
      "outputs": []
    },
    {
      "cell_type": "markdown",
      "metadata": {
        "id": "wi-nv6fshKIX",
        "colab_type": "text"
      },
      "source": [
        "## pd.cut()"
      ]
    },
    {
      "cell_type": "code",
      "metadata": {
        "id": "SVExQmzDpGEe",
        "colab_type": "code",
        "colab": {}
      },
      "source": [
        "# Construir 4 classes para a variável float 'coluna8':\n",
        "Bucket_cut = pd.cut(df['coluna8'], 4) # aqui, estamos construindo 4 buckets\n",
        "Bucket_cut"
      ],
      "execution_count": 0,
      "outputs": []
    },
    {
      "cell_type": "code",
      "metadata": {
        "id": "OOD38I6ug1AY",
        "colab_type": "code",
        "colab": {}
      },
      "source": [
        "# Quem são os Bucket's que construimos:\n",
        "Bucket_cut.value_counts()"
      ],
      "execution_count": 0,
      "outputs": []
    },
    {
      "cell_type": "markdown",
      "metadata": {
        "id": "9s2eaZGtfsxu",
        "colab_type": "text"
      },
      "source": [
        "Como podem ver, de fato construimos 4 bucket's. **Observe que não temos a mesma quantidade de itens em cada classe!!!**"
      ]
    },
    {
      "cell_type": "markdown",
      "metadata": {
        "id": "T7u0pS64hPHC",
        "colab_type": "text"
      },
      "source": [
        "## pd.qcut()"
      ]
    },
    {
      "cell_type": "code",
      "metadata": {
        "id": "cJTQTHA6pGEm",
        "colab_type": "code",
        "colab": {}
      },
      "source": [
        "Bucket_qcut = pd.qcut(df['coluna8'], 4, labels=False)\n",
        "Bucket_qcut"
      ],
      "execution_count": 0,
      "outputs": []
    },
    {
      "cell_type": "code",
      "metadata": {
        "id": "vM30Td_8hZre",
        "colab_type": "code",
        "colab": {}
      },
      "source": [
        "# Quem são os Bucket's que construimos:\n",
        "Bucket_qcut.value_counts()"
      ],
      "execution_count": 0,
      "outputs": []
    },
    {
      "cell_type": "markdown",
      "metadata": {
        "id": "jhf6V5LTh4G7",
        "colab_type": "text"
      },
      "source": [
        "## Comentários\n",
        "* pd.qcut() garante uma distribuição mais uniforme dos valores em cada classe. Isso significa que é menos provável que você tenha uma classe com muitos dados e outra com poucos dados.\n",
        "* Eu prefiro usar pd.qcut()."
      ]
    },
    {
      "cell_type": "markdown",
      "metadata": {
        "id": "RNsR0NsS5iIU",
        "colab_type": "text"
      },
      "source": [
        "___\n",
        "# **Distribuição conjunta - crosstabs**\n",
        "> Suponha que queremos analisar o número de sobreviventes em relação à COLUNA embarked."
      ]
    },
    {
      "cell_type": "code",
      "metadata": {
        "id": "LKQv6YtSfGSU",
        "colab_type": "code",
        "colab": {}
      },
      "source": [
        "df_Titanic2.head()"
      ],
      "execution_count": 0,
      "outputs": []
    },
    {
      "cell_type": "code",
      "metadata": {
        "id": "ANhb5rBffTh6",
        "colab_type": "code",
        "colab": {}
      },
      "source": [
        "pd.crosstab(df_Titanic2['survived'], df_Titanic2['embarked'])"
      ],
      "execution_count": 0,
      "outputs": []
    },
    {
      "cell_type": "markdown",
      "metadata": {
        "id": "WIlHAYEVqSjT",
        "colab_type": "text"
      },
      "source": [
        "___\n",
        "# **Deletar COLUNAS do dataframe**\n",
        "> Deletar as COLUNAS 'coluna2' e 'coluna5' do dataframe."
      ]
    },
    {
      "cell_type": "code",
      "metadata": {
        "id": "YssOMF_Vqso5",
        "colab_type": "code",
        "colab": {}
      },
      "source": [
        "df"
      ],
      "execution_count": 0,
      "outputs": []
    },
    {
      "cell_type": "markdown",
      "metadata": {
        "id": "rVF_1p0Gq3gZ",
        "colab_type": "text"
      },
      "source": [
        "## Usando inplace= True"
      ]
    },
    {
      "cell_type": "code",
      "metadata": {
        "id": "7BjRIX1jqWQT",
        "colab_type": "code",
        "colab": {}
      },
      "source": [
        "df.drop(['coluna2','coluna5'], axis=1, inplace=True)\n",
        "df"
      ],
      "execution_count": 0,
      "outputs": []
    },
    {
      "cell_type": "markdown",
      "metadata": {
        "id": "POC2fnTlq8mK",
        "colab_type": "text"
      },
      "source": [
        "## Usando atribuição"
      ]
    },
    {
      "cell_type": "code",
      "metadata": {
        "id": "YRSwEbnfq7s_",
        "colab_type": "code",
        "colab": {}
      },
      "source": [
        "df= df.drop(['coluna2','coluna5'], axis=1)\n",
        "df"
      ],
      "execution_count": 0,
      "outputs": []
    },
    {
      "cell_type": "markdown",
      "metadata": {
        "id": "bHth6KSv7k0G",
        "colab_type": "text"
      },
      "source": [
        "___\n",
        "# **Criar COLUNAS dummies para dados categóricos**\n",
        "> Nosso objetivo é construir variáveis dummies para nossas COLUNAS categóricas.\n",
        "\n",
        "* Fontes: \n",
        "    * [Categorical data](https://pandas.pydata.org/pandas-docs/stable/user_guide/categorical.html)\n",
        "    * [Creating Dummy Variables](https://www.ritchieng.com/pandas-creating-dummy-variables/)"
      ]
    },
    {
      "cell_type": "code",
      "metadata": {
        "id": "GOqcARHqjMr_",
        "colab_type": "code",
        "colab": {}
      },
      "source": [
        "df"
      ],
      "execution_count": 0,
      "outputs": []
    },
    {
      "cell_type": "markdown",
      "metadata": {
        "id": "yNqvwEu9jbuW",
        "colab_type": "text"
      },
      "source": [
        "Vamos construir variáveis dummies para as COLUNAS 'coluna6' e 'coluna7', da seguinte forma:"
      ]
    },
    {
      "cell_type": "code",
      "metadata": {
        "id": "16osZsMEjmDh",
        "colab_type": "code",
        "colab": {}
      },
      "source": [
        "pd.get_dummies(df['coluna6'])"
      ],
      "execution_count": 0,
      "outputs": []
    },
    {
      "cell_type": "markdown",
      "metadata": {
        "id": "Cb1gp_Y1jxz2",
        "colab_type": "text"
      },
      "source": [
        "Qual a interpretação do resultado acima?"
      ]
    },
    {
      "cell_type": "code",
      "metadata": {
        "id": "Cic19l-Mj39q",
        "colab_type": "code",
        "colab": {}
      },
      "source": [
        "pd.get_dummies(df['coluna7'])"
      ],
      "execution_count": 0,
      "outputs": []
    },
    {
      "cell_type": "markdown",
      "metadata": {
        "id": "44FDXcoyj-tT",
        "colab_type": "text"
      },
      "source": [
        "Qual a interpretação do resultado acima?"
      ]
    },
    {
      "cell_type": "code",
      "metadata": {
        "id": "cxHc6BvDkCWl",
        "colab_type": "code",
        "colab": {}
      },
      "source": [
        "df = pd.get_dummies(df, columns=['coluna6','coluna7','sexo'])\n",
        "df"
      ],
      "execution_count": 0,
      "outputs": []
    },
    {
      "cell_type": "code",
      "metadata": {
        "id": "A2m25N4znZ2O",
        "colab_type": "code",
        "colab": {}
      },
      "source": [
        "df.columns"
      ],
      "execution_count": 0,
      "outputs": []
    },
    {
      "cell_type": "markdown",
      "metadata": {
        "id": "x0uXu0RRlB2a",
        "colab_type": "text"
      },
      "source": [
        "___\n",
        "# **Calcular correlação**\n",
        "> A correlação pode ser calculada usando o método df.corr(). Para mais detalhes sobre os tipos de correlação existentes bem como a aplicação de cada uma delas, consulte os links a seguir:\n",
        "\n",
        "* [Pearson correlation coefficient](https://en.wikipedia.org/wiki/Pearson_correlation_coefficient)\n",
        "* [Kendall rank correlation coefficient](https://en.wikipedia.org/wiki/Kendall_rank_correlation_coefficient)\n",
        "* [Spearman's rank correlation coefficient](https://en.wikipedia.org/wiki/Spearman%27s_rank_correlation_coefficient).\n",
        "\n",
        "Para aprender mais sobre a geração de heatmap, consulte [Seaborn Heatmap Tutorial (Python Data Visualization)](https://likegeeks.com/seaborn-heatmap-tutorial/)"
      ]
    },
    {
      "cell_type": "markdown",
      "metadata": {
        "id": "AgoigF8AnYG0",
        "colab_type": "text"
      },
      "source": [
        "## Gerando o dataframe-exemplo:"
      ]
    },
    {
      "cell_type": "code",
      "metadata": {
        "id": "6scRm8kNnbby",
        "colab_type": "code",
        "colab": {}
      },
      "source": [
        "import pandas as pd\n",
        "import numpy as np\n",
        "import seaborn as sns\n",
        "import matplotlib.pyplot as plt\n",
        "%matplotlib inline\n",
        "\n",
        "# Gerando um dataframe com 15 colunas, sendo 9 informativas e 6 redundantes:\n",
        "from sklearn.datasets import make_classification\n",
        "X, y = make_classification(n_samples=1000, n_features=15, n_informative=9,\n",
        "    n_redundant=6, n_repeated=0, n_classes=2, n_clusters_per_class=1,\n",
        "    random_state=20111974)\n",
        "\n",
        "df_X= pd.DataFrame(X, columns= ['v1', 'v2', 'v3', 'v4', 'v5', 'v6', 'v7', 'v8', 'v9', 'v10', 'v11', 'v12', 'v13', 'v14', 'v15'])\n",
        "df_y= pd.DataFrame(y, columns= ['target'])"
      ],
      "execution_count": 0,
      "outputs": []
    },
    {
      "cell_type": "code",
      "metadata": {
        "id": "NsuhsZCTmqEm",
        "colab_type": "code",
        "colab": {}
      },
      "source": [
        "# Visualizar os dados\n",
        "df_X.head()"
      ],
      "execution_count": 0,
      "outputs": []
    },
    {
      "cell_type": "code",
      "metadata": {
        "id": "D0JNMHqYoSMs",
        "colab_type": "code",
        "colab": {}
      },
      "source": [
        "# Mostra a matriz de correlação usando a correlação de Pearson\n",
        "set_Colunas_Correlacionadas = set()\n",
        "Matrix_Corr = df_X.corr().where(np.triu(np.ones(df_X.corr().shape), k=1).astype(np.bool))\n",
        "Matrix_Corr"
      ],
      "execution_count": 0,
      "outputs": []
    },
    {
      "cell_type": "markdown",
      "metadata": {
        "id": "Vnj6A8z6r7nM",
        "colab_type": "text"
      },
      "source": [
        "### Quem são as colunas altamente correlacionadas?"
      ]
    },
    {
      "cell_type": "code",
      "metadata": {
        "id": "a_YUD-dOr_p-",
        "colab_type": "code",
        "colab": {}
      },
      "source": [
        "for i in range(len(Matrix_Corr.columns)):\n",
        "    for j in range(i):\n",
        "        if abs(Matrix_Corr.iloc[i, j]) > 0.8:\n",
        "            colname = Matrix_Corr.columns[i]\n",
        "            set_Colunas_Correlacionadas.add(colname)\n",
        "\n",
        "set_Colunas_Correlacionadas"
      ],
      "execution_count": 0,
      "outputs": []
    },
    {
      "cell_type": "markdown",
      "metadata": {
        "id": "3-0Xe6GdozYT",
        "colab_type": "text"
      },
      "source": [
        "A seguir, a correlação mais visual:"
      ]
    },
    {
      "cell_type": "code",
      "metadata": {
        "id": "5-_Qadx1o1U9",
        "colab_type": "code",
        "colab": {}
      },
      "source": [
        "fig, ax = plt.subplots(figsize=(12, 12)) \n",
        "mask = np.zeros_like(df_X.corr().abs())\n",
        "mask[np.triu_indices_from(mask)] = 1\n",
        "sns.heatmap(df_X.corr().abs(), mask= mask, ax= ax, cmap='coolwarm', annot= True, fmt= '.2f', center= 0)"
      ],
      "execution_count": 0,
      "outputs": []
    },
    {
      "cell_type": "markdown",
      "metadata": {
        "id": "5ZOp9ZGgtqFQ",
        "colab_type": "text"
      },
      "source": [
        "# **Scatterplot**"
      ]
    },
    {
      "cell_type": "markdown",
      "metadata": {
        "id": "eReJJjG8tuKV",
        "colab_type": "text"
      },
      "source": [
        "## Com regressão"
      ]
    },
    {
      "cell_type": "code",
      "metadata": {
        "id": "tVmdSo6ztruA",
        "colab_type": "code",
        "colab": {}
      },
      "source": [
        "sns.pairplot(df_X, kind=\"reg\")\n",
        "plt.show()"
      ],
      "execution_count": 0,
      "outputs": []
    },
    {
      "cell_type": "markdown",
      "metadata": {
        "id": "xG9A6b32twv-",
        "colab_type": "text"
      },
      "source": [
        "## Sem regressão"
      ]
    },
    {
      "cell_type": "code",
      "metadata": {
        "id": "fyTOS3zVtz-O",
        "colab_type": "code",
        "colab": {}
      },
      "source": [
        "sns.pairplot(df_X, kind=\"scatter\")\n",
        "plt.show()"
      ],
      "execution_count": 0,
      "outputs": []
    },
    {
      "cell_type": "markdown",
      "metadata": {
        "id": "f-1bpipc6bMh",
        "colab_type": "text"
      },
      "source": [
        "___\n",
        "# **Salvar dataframe como csv**"
      ]
    },
    {
      "cell_type": "code",
      "metadata": {
        "id": "64CoM1aY6gf6",
        "colab_type": "code",
        "colab": {}
      },
      "source": [
        "df_X.to_csv('example.csv')"
      ],
      "execution_count": 0,
      "outputs": []
    },
    {
      "cell_type": "markdown",
      "metadata": {
        "id": "iwd1lhq9mrD3",
        "colab_type": "text"
      },
      "source": [
        "___\n",
        "# **Exercícios**"
      ]
    },
    {
      "cell_type": "markdown",
      "metadata": {
        "id": "o_cl0kFgQfFh",
        "colab_type": "text"
      },
      "source": [
        "## Exercício 1\n",
        "* A partir dos dataframes USA_Abbrev, USA_Area e USA_Population, construa o Dataframe USA contendo as COLUNAS state, abbreviation, area, ages, year, population.\n"
      ]
    },
    {
      "cell_type": "markdown",
      "metadata": {
        "id": "s8rQUo7yHKJ1",
        "colab_type": "text"
      },
      "source": [
        "* Observação: A forma mais fácil de ler um arquivo CSV (a partir do Excell por exemplo) a partir do GitHub é clicar no arquivo csv no seu repositório do GitHub e em seguida clicar em 'raw'. Depois, copie o endereço apresentado no browser e cole na variável 'url'. Qualquer dúvida, leia o documento a seguir: https://towardsdatascience.com/3-ways-to-load-csv-files-into-colab-7c14fcbdcb92."
      ]
    },
    {
      "cell_type": "code",
      "metadata": {
        "id": "Zd1Mj3p8UpLt",
        "colab_type": "code",
        "colab": {}
      },
      "source": [
        "pd_usa_abrev = pd.read_csv('https://raw.githubusercontent.com/massaoHigaskino/DSWP/master/Dataframes/USA_Abbrev.csv')\n",
        "pd_usa_abrev.head()"
      ],
      "execution_count": 0,
      "outputs": []
    },
    {
      "cell_type": "code",
      "metadata": {
        "id": "ln1F4mltVXPN",
        "colab_type": "code",
        "colab": {}
      },
      "source": [
        "pd_usa_area = pd.read_csv('https://raw.githubusercontent.com/massaoHigaskino/DSWP/master/Dataframes/USA_Area.csv')\n",
        "pd_usa_area.head()"
      ],
      "execution_count": 0,
      "outputs": []
    },
    {
      "cell_type": "code",
      "metadata": {
        "id": "drT06BPkVZcv",
        "colab_type": "code",
        "colab": {}
      },
      "source": [
        "pd_usa_population = pd.read_csv('https://raw.githubusercontent.com/massaoHigaskino/DSWP/master/Dataframes/USA_Population.csv')\n",
        "pd_usa_population.head()"
      ],
      "execution_count": 0,
      "outputs": []
    },
    {
      "cell_type": "code",
      "metadata": {
        "id": "9Ls-coEiVpG5",
        "colab_type": "code",
        "colab": {}
      },
      "source": [
        "pd_usa_population_with_state_name = pd.merge(pd_usa_population, pd_usa_abrev, how='left', left_on='state_region', right_on='abbreviation')\n",
        "pd_usa_population_with_state_name"
      ],
      "execution_count": 0,
      "outputs": []
    },
    {
      "cell_type": "code",
      "metadata": {
        "id": "i7wxoV0jZH02",
        "colab_type": "code",
        "colab": {}
      },
      "source": [
        "pd_usa = pd_usa_population_with_state_name.merge(pd_usa_area, how='left', on='state')\n",
        "pd_usa"
      ],
      "execution_count": 0,
      "outputs": []
    },
    {
      "cell_type": "code",
      "metadata": {
        "id": "CAZ1vMszZo7b",
        "colab_type": "code",
        "colab": {}
      },
      "source": [
        "pd_usa[['state', 'abbreviation', 'area', 'ages', 'year', 'population']]"
      ],
      "execution_count": 0,
      "outputs": []
    },
    {
      "cell_type": "markdown",
      "metadata": {
        "id": "KTun1uSLuJ-A",
        "colab_type": "text"
      },
      "source": [
        "## Exercício 2\n",
        "Source: https://github.com/aakankshaws/Pandas-exercises\n",
        "\n",
        "* Considere os dataframes a seguir e faça o merge do dataframe df_Left com o dataframe df_Right:"
      ]
    },
    {
      "cell_type": "code",
      "metadata": {
        "id": "Soq7GVZnuREq",
        "colab_type": "code",
        "colab": {}
      },
      "source": [
        "df_Left = pd.DataFrame({'key': ['K0', 'K1', 'K2', 'K3'],\n",
        "                     'A': ['A0', 'A1', 'A2', 'A3'],\n",
        "                     'B': ['B0', 'B1', 'B2', 'B3']})\n",
        "   \n",
        "df_Right = pd.DataFrame({'key': ['K0', 'K1', 'K2', 'K3'],\n",
        "                          'C': ['C0', 'C1', 'C2', 'C3'],\n",
        "                          'D': ['D0', 'D1', 'D2', 'D3']})"
      ],
      "execution_count": 0,
      "outputs": []
    },
    {
      "cell_type": "markdown",
      "metadata": {
        "id": "6KEsTARfvM1C",
        "colab_type": "text"
      },
      "source": [
        "## Exercício 3\n",
        "Source: https://github.com/aakankshaws/Pandas-exercises\n",
        "\n",
        "* Considere os dataframes a seguir:"
      ]
    },
    {
      "cell_type": "code",
      "metadata": {
        "id": "hgxE5gZ9vMEg",
        "colab_type": "code",
        "colab": {}
      },
      "source": [
        "df_Left = pd.DataFrame({'key1': ['K0', 'K0', 'K1', 'K2'],\n",
        "                     'key2': ['K0', 'K1', 'K0', 'K1'],\n",
        "                        'A': ['A0', 'A1', 'A2', 'A3'],\n",
        "                        'B': ['B0', 'B1', 'B2', 'B3']})\n",
        "    \n",
        "df_Right = pd.DataFrame({'key1': ['K0', 'K1', 'K1', 'K2'],\n",
        "                               'key2': ['K0', 'K0', 'K0', 'K0'],\n",
        "                                  'C': ['C0', 'C1', 'C2', 'C3'],\n",
        "                                  'D': ['D0', 'D1', 'D2', 'D3']})"
      ],
      "execution_count": 0,
      "outputs": []
    },
    {
      "cell_type": "markdown",
      "metadata": {
        "id": "iv7AmZ1ivm8R",
        "colab_type": "text"
      },
      "source": [
        "### Perguntas\n",
        "* Qual o output e a interpretação dos comandos a seguir:"
      ]
    },
    {
      "cell_type": "code",
      "metadata": {
        "id": "TWAW_1tuvvSO",
        "colab_type": "code",
        "colab": {}
      },
      "source": [
        "pd.merge(df_Left, df_Right, on=['key1', 'key2'])"
      ],
      "execution_count": 0,
      "outputs": []
    },
    {
      "cell_type": "code",
      "metadata": {
        "id": "QjM7pBONvzCJ",
        "colab_type": "code",
        "colab": {}
      },
      "source": [
        "pd.merge(df_Left, df_Rright, how='outer', on=['key1', 'key2'])"
      ],
      "execution_count": 0,
      "outputs": []
    },
    {
      "cell_type": "code",
      "metadata": {
        "id": "D1Rr3Ghsv2iS",
        "colab_type": "code",
        "colab": {}
      },
      "source": [
        "pd.merge(df_Left, df_Rright, how='right', on=['key1', 'key2'])"
      ],
      "execution_count": 0,
      "outputs": []
    },
    {
      "cell_type": "code",
      "metadata": {
        "id": "vXQwLjT-v3Iu",
        "colab_type": "code",
        "colab": {}
      },
      "source": [
        "pd.merge(df_Left, df_Right, how='left', on=['key1', 'key2'])"
      ],
      "execution_count": 0,
      "outputs": []
    },
    {
      "cell_type": "markdown",
      "metadata": {
        "id": "EIdltTC-t_lF",
        "colab_type": "text"
      },
      "source": [
        "## Exercício 5\n",
        "5.1. Identifique e delete os atributos do dataframe df_Titanic que podem ser excluídos inicialmente no início da análise de dados."
      ]
    },
    {
      "cell_type": "markdown",
      "metadata": {
        "id": "bMwPLgWclWBq",
        "colab_type": "text"
      },
      "source": [
        "___\n",
        "## Exercício 6 - Resolvido\n",
        "* Carregue o dataframe Titanic_With_MV.csv e analise o dataframe em busca de inconsistências e Missing Values (NaN)."
      ]
    },
    {
      "cell_type": "code",
      "metadata": {
        "id": "V7KUGAX6lilP",
        "colab_type": "code",
        "colab": {}
      },
      "source": [
        "import pandas as pd\n",
        "df_Titanic = pd.read_csv('https://raw.githubusercontent.com/MathMachado/Python4DS/DS_Python/Dataframes/Titanic_With_MV.csv?token=AGDJQ63MNPPPROFNSO2BZW25XSR72', index_col= 'PassengerId')\n",
        "df_Titanic.head()"
      ],
      "execution_count": 0,
      "outputs": []
    },
    {
      "cell_type": "markdown",
      "metadata": {
        "id": "m3UnAPJakCLR",
        "colab_type": "text"
      },
      "source": [
        "* Segue o dicionário de dados do dataframe Titanic:\n",
        "    * PassengerID: ID do passageiro;\n",
        "    * survived: Indicador, sendo 1= Passageiro sobreviveu e 0= Passageiro morreu;\n",
        "    * Pclass: Classe;\n",
        "    * Age: Idade do Passageiro;\n",
        "    * SibSp: Número de parentes a bordo (esposa, irmãos, pais e etc);\n",
        "    * Parch: Número de pais/crianças a bordo;\n",
        "    * Fare: Valor pago pelo Passageiro;\n",
        "    * Cabin: Cabine do Passageiro;\n",
        "    * Embarked: A porta pelo qual o Passageiro embarcou.\n",
        "    * Name: Nome do Passageiro;\n",
        "    * sex: sexo do Passageiro\n",
        "    "
      ]
    },
    {
      "cell_type": "markdown",
      "metadata": {
        "id": "_6RvRCXgwomw",
        "colab_type": "text"
      },
      "source": [
        "### Avaliando inconsistências nas COLUNAS"
      ]
    },
    {
      "cell_type": "code",
      "metadata": {
        "id": "PToomnfRxxI5",
        "colab_type": "code",
        "colab": {}
      },
      "source": [
        "import seaborn as sns\n",
        "import pandas as pd\n",
        "import numpy as np"
      ],
      "execution_count": 0,
      "outputs": []
    },
    {
      "cell_type": "code",
      "metadata": {
        "id": "3nc_iuRR1Tju",
        "colab_type": "code",
        "colab": {}
      },
      "source": [
        "# Uniformizando o nome das COLUNAS\n",
        "df_Titanic.columns= [cols.lower() for cols in df_Titanic.columns]\n",
        "df_Titanic.head()"
      ],
      "execution_count": 0,
      "outputs": []
    },
    {
      "cell_type": "markdown",
      "metadata": {
        "id": "G9jteCnAxdnK",
        "colab_type": "text"
      },
      "source": [
        "### Coluna 'pclass'"
      ]
    },
    {
      "cell_type": "code",
      "metadata": {
        "id": "wUk0YNlxsgvf",
        "colab_type": "code",
        "colab": {}
      },
      "source": [
        "df_Titanic['pclass'].value_counts()"
      ],
      "execution_count": 0,
      "outputs": []
    },
    {
      "cell_type": "code",
      "metadata": {
        "id": "9vPrB3AAx0Ym",
        "colab_type": "code",
        "colab": {}
      },
      "source": [
        "sns.countplot(x='survived', hue='pclass', data=df_Titanic)"
      ],
      "execution_count": 0,
      "outputs": []
    },
    {
      "cell_type": "markdown",
      "metadata": {
        "id": "2n8s9Ad1m7od",
        "colab_type": "text"
      },
      "source": [
        "Não me parece nada estranho com a variável 'pclass'. Ou você identifica alguma coisa estranho?"
      ]
    },
    {
      "cell_type": "markdown",
      "metadata": {
        "id": "m8EGM6gSxrzS",
        "colab_type": "text"
      },
      "source": [
        "### Coluna 'sex'"
      ]
    },
    {
      "cell_type": "code",
      "metadata": {
        "id": "BRRgcLtinIRz",
        "colab_type": "code",
        "colab": {}
      },
      "source": [
        "sns.countplot(x='survived', hue='sex', data=df_Titanic)"
      ],
      "execution_count": 0,
      "outputs": []
    },
    {
      "cell_type": "code",
      "metadata": {
        "id": "8SQ8v2Wnspfb",
        "colab_type": "code",
        "colab": {}
      },
      "source": [
        "df_Titanic['sex'].value_counts()"
      ],
      "execution_count": 0,
      "outputs": []
    },
    {
      "cell_type": "markdown",
      "metadata": {
        "id": "wpp0iL0kyGTl",
        "colab_type": "text"
      },
      "source": [
        "Qual sua opinião sobre esse preenchimento?\n",
        "\n",
        "Algum problema?"
      ]
    },
    {
      "cell_type": "markdown",
      "metadata": {
        "id": "jxx06kJFnNrP",
        "colab_type": "text"
      },
      "source": [
        "Oops... Aqui temos vários problemas... Olhando para estes resultados, você concorda que 'male', 'm', 'MALE', M', 'mALE' e 'Men' se trata da mesma informação?\n",
        "\n",
        "Da mesma forma, 'female', 'f', 'F', 'Female', 'fEMALE', 'Woman', 'w' e 'W' também se trata da mesma informação?\n",
        "\n",
        "Então, vamos fazer o seguinte:\n",
        "\n",
        "* Toda vez que eu encontrar um desses valores: ['m', 'MALE', 'M', 'mALE', 'Men'], vou substituir por 'male';\n",
        "* Toda vez que eu encontrar um desses valores: ['f', 'F', 'Female', 'fEMALE', 'Woman', 'w', 'W'], vou substituit por 'female'."
      ]
    },
    {
      "cell_type": "code",
      "metadata": {
        "id": "oQbEVi1t2tfR",
        "colab_type": "code",
        "colab": {}
      },
      "source": [
        "df_Titanic2= df_Titanic.copy()"
      ],
      "execution_count": 0,
      "outputs": []
    },
    {
      "cell_type": "markdown",
      "metadata": {
        "id": "apc-ccODyZ-d",
        "colab_type": "text"
      },
      "source": [
        "#### Corrigir com df.replace()"
      ]
    },
    {
      "cell_type": "code",
      "metadata": {
        "id": "CwoyLBK9oME5",
        "colab_type": "code",
        "colab": {}
      },
      "source": [
        "df_Titanic['sex2'] = df_Titanic['sex'].replace(['m', 'MALE', 'M', 'mALE', 'Men'], 'male')\n",
        "df_Titanic['sex3'] = df_Titanic['sex2'].replace(['f', 'F', 'Female', 'fEMALE', 'Woman', 'w', 'W'], 'female')  "
      ],
      "execution_count": 0,
      "outputs": []
    },
    {
      "cell_type": "markdown",
      "metadata": {
        "id": "RC35I-Njp4vh",
        "colab_type": "text"
      },
      "source": [
        "Vamos ver a distribuição dos dados novamente no gráfico:"
      ]
    },
    {
      "cell_type": "code",
      "metadata": {
        "id": "1eGvEhA9qAN6",
        "colab_type": "code",
        "colab": {}
      },
      "source": [
        "sns.countplot(x='survived', hue='sex3', data=df_Titanic)"
      ],
      "execution_count": 0,
      "outputs": []
    },
    {
      "cell_type": "code",
      "metadata": {
        "id": "IY3TaKUcszTQ",
        "colab_type": "code",
        "colab": {}
      },
      "source": [
        "df_Titanic['sex3'].value_counts()"
      ],
      "execution_count": 0,
      "outputs": []
    },
    {
      "cell_type": "markdown",
      "metadata": {
        "id": "2nOAcv3iqEaK",
        "colab_type": "text"
      },
      "source": [
        "Ok, de fato corrigimos os problemas de preenchimento da variável 'sex'."
      ]
    },
    {
      "cell_type": "markdown",
      "metadata": {
        "id": "dqLqmrTWylY3",
        "colab_type": "text"
      },
      "source": [
        "#### Corrigir com df.map()"
      ]
    },
    {
      "cell_type": "code",
      "metadata": {
        "id": "dRvuNo4E3Ewx",
        "colab_type": "code",
        "colab": {}
      },
      "source": [
        "df_Titanic= df_Titanic2.copy()"
      ],
      "execution_count": 0,
      "outputs": []
    },
    {
      "cell_type": "code",
      "metadata": {
        "id": "3X0_ZdwCyquk",
        "colab_type": "code",
        "colab": {}
      },
      "source": [
        "d_sexo= {}\n",
        "d_sexo.update(dict.fromkeys(['m', 'MALE', 'M', 'mALE', 'Men', 'male'], 'male'))\n",
        "d_sexo.update(dict.fromkeys(['f', 'F', 'Female', 'fEMALE', 'Woman', 'w', 'W', 'female'], 'female'))\n",
        "d_sexo"
      ],
      "execution_count": 0,
      "outputs": []
    },
    {
      "cell_type": "markdown",
      "metadata": {
        "id": "YQ3lwKRKbsx0",
        "colab_type": "text"
      },
      "source": [
        "Aplica a transformação:"
      ]
    },
    {
      "cell_type": "code",
      "metadata": {
        "id": "idBwRNI7bvCC",
        "colab_type": "code",
        "colab": {}
      },
      "source": [
        "df_Titanic['sex2']= df_Titanic['sex'].map(d_sexo)\n",
        "df_Titanic['sex2'].value_counts()"
      ],
      "execution_count": 0,
      "outputs": []
    },
    {
      "cell_type": "markdown",
      "metadata": {
        "id": "FzDl78rfb3p5",
        "colab_type": "text"
      },
      "source": [
        "Qual a conclusão? Este preenchimento faz mais sentido que o anterior?"
      ]
    },
    {
      "cell_type": "code",
      "metadata": {
        "id": "SvrZtKRpzIDc",
        "colab_type": "code",
        "colab": {}
      },
      "source": [
        "# Deleta as variáveis 'sex':\n",
        "df_Titanic= df_Titanic.drop(columns= ['sex'], axis= 1).rename(columns= {'sex2': 'sex'})\n",
        "\n",
        "# Mostra os dados:\n",
        "df_Titanic.head()"
      ],
      "execution_count": 0,
      "outputs": []
    },
    {
      "cell_type": "code",
      "metadata": {
        "id": "6URC6h8xzfc5",
        "colab_type": "code",
        "colab": {}
      },
      "source": [
        "sns.catplot(x=\"sex\", kind=\"count\", data=df_Titanic)"
      ],
      "execution_count": 0,
      "outputs": []
    },
    {
      "cell_type": "code",
      "metadata": {
        "id": "k_spkJbmqdRW",
        "colab_type": "code",
        "colab": {}
      },
      "source": [
        "sns.countplot(x='survived', hue='sex', data=df_Titanic)"
      ],
      "execution_count": 0,
      "outputs": []
    },
    {
      "cell_type": "markdown",
      "metadata": {
        "id": "bgBNoXUNzoWZ",
        "colab_type": "text"
      },
      "source": [
        "### Feature Engineering\n",
        "#### Coluna 'cabin'\n",
        "* Construir as COLUNAS:\n",
        "    * deck - Letra de Cabin;\n",
        "    * seat - Número de Cabin"
      ]
    },
    {
      "cell_type": "markdown",
      "metadata": {
        "id": "8fHsLrnut6mk",
        "colab_type": "text"
      },
      "source": [
        "Sugestões:\n",
        "1) Não descartar nenhuma informação (Fábio);\n",
        "2) Coluna com número de cabines reservadas (Thomaz)."
      ]
    },
    {
      "cell_type": "code",
      "metadata": {
        "id": "p0NFFxx8z-vq",
        "colab_type": "code",
        "colab": {}
      },
      "source": [
        "set(df_Titanic['cabin'])"
      ],
      "execution_count": 0,
      "outputs": []
    },
    {
      "cell_type": "markdown",
      "metadata": {
        "id": "7E6yje89u7KF",
        "colab_type": "text"
      },
      "source": [
        "Como podemos ver, trata-se de uma variável categórica com vários níveis. Portanto, vamos capturar somente a primeira letra da variável 'cabin'. Para tal, vamos utilizar a função slice().\n",
        "\n",
        "> str.slice() - Captura (slice) partes de s_Str."
      ]
    },
    {
      "cell_type": "markdown",
      "metadata": {
        "id": "wmZLlSaArR6F",
        "colab_type": "text"
      },
      "source": [
        "A seguir, capturamos a primeira letra da variável 'cabin':"
      ]
    },
    {
      "cell_type": "code",
      "metadata": {
        "id": "hUZTJU0MvVxP",
        "colab_type": "code",
        "colab": {}
      },
      "source": [
        "# definindo a variável 'deck' que representará a primeira letra da variável 'cabin'\n",
        "df_Titanic[\"deck\"] = df_Titanic[\"cabin\"].str.slice(0, 1) # slice(inicio, tamanho_da_string)\n",
        "df_Titanic['deck'].value_counts()"
      ],
      "execution_count": 0,
      "outputs": []
    },
    {
      "cell_type": "markdown",
      "metadata": {
        "id": "6myhrth0rZ6t",
        "colab_type": "text"
      },
      "source": [
        "A seguir, vamos extrair a parte numérica da variável 'cabin' usando Expressões Regulares:\n",
        "\n"
      ]
    },
    {
      "cell_type": "code",
      "metadata": {
        "id": "8UXkACPmsfwN",
        "colab_type": "code",
        "colab": {}
      },
      "source": [
        "# Importar a biblioiteca para Expressões Regulares\n",
        "import re"
      ],
      "execution_count": 0,
      "outputs": []
    },
    {
      "cell_type": "code",
      "metadata": {
        "id": "QKk-fnW4rf4o",
        "colab_type": "code",
        "colab": {}
      },
      "source": [
        "# Primeiramente, usamos a função split() para separar o conteúdo da variável em COLUNAS: \n",
        "new = df_Titanic[\"cabin\"].str.split(\" \", n= 3, expand = True) \n",
        "new.head(5)"
      ],
      "execution_count": 0,
      "outputs": []
    },
    {
      "cell_type": "markdown",
      "metadata": {
        "id": "dFqoR-Xew9gX",
        "colab_type": "text"
      },
      "source": [
        "Observe acima que o comando gera quantos splits da variável eu quiser. No entanto, por simplicidade, me interessa somente o primeiro split."
      ]
    },
    {
      "cell_type": "markdown",
      "metadata": {
        "id": "_M7vA6WoVG05",
        "colab_type": "text"
      },
      "source": [
        "Agora, vou extrair o número do assento do passageiro usando Expressões Regulares:"
      ]
    },
    {
      "cell_type": "code",
      "metadata": {
        "id": "rVH5o9KT_IH3",
        "colab_type": "code",
        "colab": {}
      },
      "source": [
        "# Aqui está o conteúdo de new[0]:\n",
        "new[0].head()"
      ],
      "execution_count": 0,
      "outputs": []
    },
    {
      "cell_type": "code",
      "metadata": {
        "id": "P7NTcsGOxxSX",
        "colab_type": "code",
        "colab": {}
      },
      "source": [
        "new2= new[0].str.extract('(\\d+)')\n",
        "new2.head()"
      ],
      "execution_count": 0,
      "outputs": []
    },
    {
      "cell_type": "markdown",
      "metadata": {
        "id": "bf8vw2Mc18bQ",
        "colab_type": "text"
      },
      "source": [
        "Por fim, vou carregar esta informação ao dataframe df:"
      ]
    },
    {
      "cell_type": "code",
      "metadata": {
        "id": "6l6EoRvsxRXn",
        "colab_type": "code",
        "colab": {}
      },
      "source": [
        "df_Titanic[\"seat\"]= new2\n",
        "df_Titanic.head()"
      ],
      "execution_count": 0,
      "outputs": []
    },
    {
      "cell_type": "markdown",
      "metadata": {
        "id": "LK4V61uy3N9s",
        "colab_type": "text"
      },
      "source": [
        "Por fim, excluir a variável 'cabin':"
      ]
    },
    {
      "cell_type": "code",
      "metadata": {
        "id": "4uAr55J43NY7",
        "colab_type": "code",
        "colab": {}
      },
      "source": [
        "df_Titanic= df_Titanic.drop(columns= [\"cabin\"], axis=1, errors=\"ignore\")"
      ],
      "execution_count": 0,
      "outputs": []
    },
    {
      "cell_type": "markdown",
      "metadata": {
        "id": "qZuH7YJXZCgY",
        "colab_type": "text"
      },
      "source": [
        "### Coluna 'embarked'"
      ]
    },
    {
      "cell_type": "code",
      "metadata": {
        "id": "nTPikhrIZGya",
        "colab_type": "code",
        "colab": {}
      },
      "source": [
        "df_Titanic['embarked'].value_counts()"
      ],
      "execution_count": 0,
      "outputs": []
    },
    {
      "cell_type": "code",
      "metadata": {
        "id": "ixbZsuqOZsOc",
        "colab_type": "code",
        "colab": {}
      },
      "source": [
        "sns.catplot(x=\"embarked\", kind=\"count\", data=df_Titanic)"
      ],
      "execution_count": 0,
      "outputs": []
    },
    {
      "cell_type": "markdown",
      "metadata": {
        "id": "VvdU8aAwZNvG",
        "colab_type": "text"
      },
      "source": [
        "Não vejo problemas com esta variável. Vamos em frente..."
      ]
    },
    {
      "cell_type": "code",
      "metadata": {
        "id": "k2SLRAhrub_B",
        "colab_type": "code",
        "colab": {}
      },
      "source": [
        "sns.countplot(x='survived', hue='embarked', data=df_Titanic)"
      ],
      "execution_count": 0,
      "outputs": []
    },
    {
      "cell_type": "code",
      "metadata": {
        "id": "YRJcWaYkuxK4",
        "colab_type": "code",
        "colab": {}
      },
      "source": [
        "sns.countplot(x='pclass', hue='embarked', data=df_Titanic)"
      ],
      "execution_count": 0,
      "outputs": []
    },
    {
      "cell_type": "code",
      "metadata": {
        "id": "rzrOUULUu6-P",
        "colab_type": "code",
        "colab": {}
      },
      "source": [
        "sns.countplot(x='sex', hue='embarked', data=df_Titanic)"
      ],
      "execution_count": 0,
      "outputs": []
    },
    {
      "cell_type": "markdown",
      "metadata": {
        "colab_type": "text",
        "id": "DfSMcYYZ5yLV"
      },
      "source": [
        "### Variável 'pclass'"
      ]
    },
    {
      "cell_type": "code",
      "metadata": {
        "colab_type": "code",
        "id": "Q2uU0k-G5yLN",
        "colab": {}
      },
      "source": [
        "df_Titanic['pclass'].value_counts()"
      ],
      "execution_count": 0,
      "outputs": []
    },
    {
      "cell_type": "markdown",
      "metadata": {
        "colab_type": "text",
        "id": "Gue26Y3A5yLL"
      },
      "source": [
        "Algum problema com esta variável?"
      ]
    },
    {
      "cell_type": "code",
      "metadata": {
        "colab_type": "code",
        "id": "q3P82wPp5yK8",
        "colab": {}
      },
      "source": [
        "sns.catplot(x=\"pclass\", kind=\"count\", data=df)"
      ],
      "execution_count": 0,
      "outputs": []
    },
    {
      "cell_type": "markdown",
      "metadata": {
        "id": "Qrnc6VUKSTNp",
        "colab_type": "text"
      },
      "source": [
        "### Coluna 'parch'"
      ]
    },
    {
      "cell_type": "code",
      "metadata": {
        "id": "2i4ed-0zSvJc",
        "colab_type": "code",
        "colab": {}
      },
      "source": [
        "df_Titanic['parch'].value_counts()"
      ],
      "execution_count": 0,
      "outputs": []
    },
    {
      "cell_type": "code",
      "metadata": {
        "id": "qd7u__6KZ6DM",
        "colab_type": "code",
        "colab": {}
      },
      "source": [
        "sns.catplot(x=\"parch\", kind=\"count\", data=df_Titanic)"
      ],
      "execution_count": 0,
      "outputs": []
    },
    {
      "cell_type": "markdown",
      "metadata": {
        "id": "Z9vM3vktC7BG",
        "colab_type": "text"
      },
      "source": [
        "### Feature Engineering\n",
        "* Criar o atributo 'sozinho_parch', onde sozinho_parch= 1 significa que o passageiro viaja sozinho e 0, caso contrário."
      ]
    },
    {
      "cell_type": "code",
      "metadata": {
        "id": "Nd4TyOYjs-HW",
        "colab_type": "code",
        "colab": {}
      },
      "source": [
        "# Função para retornar 0 ou 1 em função dos valores de variavel\n",
        "def sozinho(variavel):\n",
        "    if (variavel == 0):\n",
        "        return 1\n",
        "    else:\n",
        "        return 0"
      ],
      "execution_count": 0,
      "outputs": []
    },
    {
      "cell_type": "code",
      "metadata": {
        "id": "5oByiBuos_B3",
        "colab_type": "code",
        "colab": {}
      },
      "source": [
        "df_Titanic['sozinho_parch'] = df['parch'].map(sozinho)\n",
        "df_Titanic.head()"
      ],
      "execution_count": 0,
      "outputs": []
    },
    {
      "cell_type": "markdown",
      "metadata": {
        "id": "C1ICby1oSd41",
        "colab_type": "text"
      },
      "source": [
        "### Coluna 'sibsp'"
      ]
    },
    {
      "cell_type": "code",
      "metadata": {
        "id": "5n7JNEQqTNjz",
        "colab_type": "code",
        "colab": {}
      },
      "source": [
        "df_Titanic['sibsp'].value_counts()"
      ],
      "execution_count": 0,
      "outputs": []
    },
    {
      "cell_type": "markdown",
      "metadata": {
        "id": "NLfMhiy0x4u5",
        "colab_type": "text"
      },
      "source": [
        "* Algum problema?"
      ]
    },
    {
      "cell_type": "code",
      "metadata": {
        "id": "nayYFRK9g8iV",
        "colab_type": "code",
        "colab": {}
      },
      "source": [
        "sns.catplot(x=\"sibsp\", kind=\"count\", data=df_Titanic)"
      ],
      "execution_count": 0,
      "outputs": []
    },
    {
      "cell_type": "markdown",
      "metadata": {
        "id": "_58rZqMaDzf-",
        "colab_type": "text"
      },
      "source": [
        "### Feature Engineering:\n",
        "* Criar o atributo 'sozinho_sibsp', onde sozinho= 1 significa que o passageiro viaja sozinho e 0, caso contrário."
      ]
    },
    {
      "cell_type": "code",
      "metadata": {
        "id": "HUrJ4IywrEoA",
        "colab_type": "code",
        "colab": {}
      },
      "source": [
        "df_Titanic['sozinho_sibsp'] = df_Titanic['sibsp'].map(sozinho)\n",
        "df_Titanic.head()"
      ],
      "execution_count": 0,
      "outputs": []
    },
    {
      "cell_type": "markdown",
      "metadata": {
        "id": "0MO9jj2NvGp_",
        "colab_type": "text"
      },
      "source": [
        "### Coluna 'fare'\n",
        "> Discretizar a coluna 'fare' em 10 buckets."
      ]
    },
    {
      "cell_type": "code",
      "metadata": {
        "id": "4-qO2Xk76Buz",
        "colab_type": "code",
        "colab": {}
      },
      "source": [
        "df_Titanic['fare_class'] = pd.qcut(df_Titanic['fare'], 10, labels=False)\n",
        "df_Titanic['fare_class'].value_counts()"
      ],
      "execution_count": 0,
      "outputs": []
    },
    {
      "cell_type": "code",
      "metadata": {
        "colab_type": "code",
        "id": "boAj64RHvQHu",
        "colab": {}
      },
      "source": [
        "sns.catplot(x=\"fare_class\", kind=\"count\", data=df_Titanic)"
      ],
      "execution_count": 0,
      "outputs": []
    },
    {
      "cell_type": "markdown",
      "metadata": {
        "id": "3CIqHUJpvcPa",
        "colab_type": "text"
      },
      "source": [
        "### Coluna 'age'\n",
        "> Discretizar a coluna 'age' em 10 buckets."
      ]
    },
    {
      "cell_type": "code",
      "metadata": {
        "colab_type": "code",
        "id": "rCRnbKX57VN-",
        "colab": {}
      },
      "source": [
        "df_Titanic['age_class'] = pd.qcut(df_Titanic['age'], 10, labels=False)\n",
        "df_Titanic['age_class'].value_counts()"
      ],
      "execution_count": 0,
      "outputs": []
    },
    {
      "cell_type": "code",
      "metadata": {
        "colab_type": "code",
        "id": "uFsZLYDi7VOH",
        "colab": {}
      },
      "source": [
        "sns.catplot(x=\"age_class\", kind=\"count\", data=df_Titanic)"
      ],
      "execution_count": 0,
      "outputs": []
    },
    {
      "cell_type": "markdown",
      "metadata": {
        "id": "DIY-sL337uje",
        "colab_type": "text"
      },
      "source": [
        "#### Alternativa para discretizar 'age'"
      ]
    },
    {
      "cell_type": "code",
      "metadata": {
        "id": "W66GkyuKkhFe",
        "colab_type": "code",
        "colab": {}
      },
      "source": [
        "def Age_Category(age):\n",
        "    if (age <= 1):\n",
        "        return 1\n",
        "    elif (age <= 5):\n",
        "        return 2\n",
        "    elif(age <= 10):\n",
        "        return 3\n",
        "    elif (age <= 15):\n",
        "        return 4\n",
        "    elif (age <= 20):\n",
        "        return 5\n",
        "    elif (age <= 25):\n",
        "        return 6\n",
        "    elif(age < 30):\n",
        "        return 7\n",
        "    elif(age < 35):\n",
        "        return 8\n",
        "    elif(age < 40):\n",
        "        return 9\n",
        "    elif(age < 45):\n",
        "        return 10\n",
        "    elif(age < 50):\n",
        "        return 11\n",
        "    elif(age < 60):\n",
        "        return 12\n",
        "    elif(age < 70):\n",
        "        return 13\n",
        "    elif(age < 80):\n",
        "        return 14\n",
        "    else:\n",
        "        return 15"
      ],
      "execution_count": 0,
      "outputs": []
    },
    {
      "cell_type": "code",
      "metadata": {
        "id": "TnLzC6hCkuBL",
        "colab_type": "code",
        "colab": {}
      },
      "source": [
        "df_Titanic['age_class2'] = df['age'].map(Age_Category)"
      ],
      "execution_count": 0,
      "outputs": []
    },
    {
      "cell_type": "code",
      "metadata": {
        "colab_type": "code",
        "id": "kG8td6HPsNlP",
        "colab": {}
      },
      "source": [
        "set(df_Titanic['age_category']) # Esse comando mostra os NaN's da coluna, se houver."
      ],
      "execution_count": 0,
      "outputs": []
    },
    {
      "cell_type": "markdown",
      "metadata": {
        "id": "B_3s5cgxfNKQ",
        "colab_type": "text"
      },
      "source": [
        "### Coluna 'title'\n",
        "\n",
        "* Para fins de Data Manipulation, vamos capturar o tratamento dos passageiros contido na variável 'name'. Ou seja, 'Mr.', 'Mrs.', 'Miss' e etc...\n",
        "\n",
        "> Fonte: As funções get_title e title_map foram extraídas de https://www.kaggle.com/tjsauer/titanic-survival-python-solution"
      ]
    },
    {
      "cell_type": "code",
      "metadata": {
        "id": "gslSjRdDoJFY",
        "colab_type": "code",
        "colab": {}
      },
      "source": [
        "df.head()"
      ],
      "execution_count": 0,
      "outputs": []
    },
    {
      "cell_type": "markdown",
      "metadata": {
        "id": "XjqEVVnr8R4d",
        "colab_type": "text"
      },
      "source": [
        "Primeiramente, vamos entender como funciona, step by step..."
      ]
    },
    {
      "cell_type": "code",
      "metadata": {
        "id": "D6gjWc3XozK7",
        "colab_type": "code",
        "colab": {}
      },
      "source": [
        "'Allen, Mr. William Henry'.split(',')[1].split('.')[0].strip()"
      ],
      "execution_count": 0,
      "outputs": []
    },
    {
      "cell_type": "code",
      "metadata": {
        "id": "nfIG6toGfhd5",
        "colab_type": "code",
        "colab": {}
      },
      "source": [
        "def get_title(name):\n",
        "    if '.' in name:\n",
        "        return name.split(',')[1].split('.')[0].strip()\n",
        "    else:\n",
        "        return 'Unknown'\n",
        "\n",
        "def title_map(title):\n",
        "    if title in ['Mr', 'Ms']:\n",
        "        return 1\n",
        "    elif title in ['Master']:\n",
        "        return 2\n",
        "    elif title in ['Ms','Mlle','Miss']:\n",
        "        return 3\n",
        "    elif title in [\"Mme\", \"Ms\", \"Mrs\"]:\n",
        "        return 4\n",
        "    elif title in [\"Jonkheer\", \"Don\", \"Sir\", \"the Countess\", \"Dona\", \"Lady\"]:\n",
        "        return 5\n",
        "    elif title in [\"Capt\", \"Col\", \"Major\", \"Dr\", \"Rev\"]:\n",
        "        return 6\n",
        "    else:\n",
        "        return 7"
      ],
      "execution_count": 0,
      "outputs": []
    },
    {
      "cell_type": "markdown",
      "metadata": {
        "id": "HLQoJwf0rjrf",
        "colab_type": "text"
      },
      "source": [
        "Exercícios\n",
        "* Melhorar a função title_map."
      ]
    },
    {
      "cell_type": "markdown",
      "metadata": {
        "id": "7qNUwnCepe_x",
        "colab_type": "text"
      },
      "source": [
        "Captura o tratamento dos passageiros:"
      ]
    },
    {
      "cell_type": "code",
      "metadata": {
        "id": "r-Ltf33vgJ6Q",
        "colab_type": "code",
        "colab": {}
      },
      "source": [
        "df_Titanic['title'] = df_Titanic['name'].apply(get_title).apply(title_map)  \n",
        "set(df_Titanic['title']) # Esse comando mostra os NaN's da variável"
      ],
      "execution_count": 0,
      "outputs": []
    },
    {
      "cell_type": "markdown",
      "metadata": {
        "id": "D3hY0WVhpRYK",
        "colab_type": "text"
      },
      "source": [
        "Drop a coluna 'name', pois não vamos mais precisar dela em nossas análises:"
      ]
    },
    {
      "cell_type": "code",
      "metadata": {
        "id": "Y8i3xKCes5WF",
        "colab_type": "code",
        "colab": {}
      },
      "source": [
        "df_Titanic= df_Titanic.drop(columns= [\"name\"], axis=1)"
      ],
      "execution_count": 0,
      "outputs": []
    },
    {
      "cell_type": "markdown",
      "metadata": {
        "id": "7Sl1uFdwpW3y",
        "colab_type": "text"
      },
      "source": [
        "Apresenta o conteúdo do dataframe:"
      ]
    },
    {
      "cell_type": "code",
      "metadata": {
        "id": "2uFnw-pZpan-",
        "colab_type": "code",
        "colab": {}
      },
      "source": [
        "df_Titanic.head(10)"
      ],
      "execution_count": 0,
      "outputs": []
    },
    {
      "cell_type": "markdown",
      "metadata": {
        "id": "B0fZMKKpdHIl",
        "colab_type": "text"
      },
      "source": [
        "## Missing Value\n",
        "> Faça o devido tratamento de NaN's das COLUNAS do dataframe df_Titanic."
      ]
    },
    {
      "cell_type": "code",
      "metadata": {
        "colab_type": "code",
        "id": "UHzKFytXsNkh",
        "colab": {}
      },
      "source": [
        "df_Titanic['age'].isna().sum()"
      ],
      "execution_count": 0,
      "outputs": []
    },
    {
      "cell_type": "markdown",
      "metadata": {
        "id": "ZC1ULWd883t2",
        "colab_type": "text"
      },
      "source": [
        "## Relação causa --> efeito"
      ]
    },
    {
      "cell_type": "markdown",
      "metadata": {
        "id": "_WCbklv0bDlp",
        "colab_type": "text"
      },
      "source": [
        "A função a seguir nos ajudará com o Data Visualization, cruzando a variável-resposta 'survived' com qualquer outra passada à função:"
      ]
    },
    {
      "cell_type": "code",
      "metadata": {
        "id": "epxI-F2UbGGS",
        "colab_type": "code",
        "colab": {}
      },
      "source": [
        "def Avalia_Taxa_Sobrevivencia(df, column):\n",
        "    title_xt = pd.crosstab(df[column], df['survived'])\n",
        "    print(pd.crosstab(df[column], df['survived'], margins=True))\n",
        "    title_xt_pct = title_xt.div(title_xt.sum(1).astype(float), axis=0)\n",
        "    \n",
        "    title_xt_pct.plot(kind='bar', stacked=True, title='Taxa de Sobrevivência dos Passageiros', \n",
        "                      color= ['r', 'g'])\n",
        "    plt.xlabel(column)\n",
        "    plt.ylabel('Taxa de Sobrevivência')\n",
        "    plt.legend(loc='upper center', bbox_to_anchor=(0.5, -0.05),shadow=True, ncol=2)\n",
        "    plt.show()\n",
        "\n",
        "def Catplot_Graph(x, y, hue= 'survived', col= None):\n",
        "    plt.rcdefaults()\n",
        "    g= sns.catplot(x= x, y= y, hue= hue, palette={'Died':'red','Survived':'blue'}, col= col, data=df, kind= 'bar', height=4, aspect=.7)\n",
        "    plt.show()"
      ],
      "execution_count": 0,
      "outputs": []
    },
    {
      "cell_type": "markdown",
      "metadata": {
        "colab_type": "text",
        "id": "34-Qbd_QrC8W"
      },
      "source": [
        "Qual a relação entre a variável 'sex' e a variável-resposta?"
      ]
    },
    {
      "cell_type": "code",
      "metadata": {
        "colab_type": "code",
        "id": "bhY8-UjyrC8Z",
        "colab": {}
      },
      "source": [
        "Avalia_Taxa_Sobrevivencia(df_Titanic, 'sex')"
      ],
      "execution_count": 0,
      "outputs": []
    },
    {
      "cell_type": "markdown",
      "metadata": {
        "id": "v-AguYPZn60Z",
        "colab_type": "text"
      },
      "source": [
        "## Exercício 7\n",
        "> Algumas equipes estão a participar de um hackaton e estão a submeter seus respectivos resultados num repositório onde um script Python deveria ler automaticamente o nome dos arquivos, medir o resultado e publicar as equipes e seus respectivos resultados.\n",
        "\n",
        "1. Coloque os arquivos csv XPTO_team1.csv, XPTO_team2.csv, XPTO_team3.csv, \n",
        "XPTO_team4.csv, XPTO_team5.csv, XPTO_team6.csv e Resultado.csv num repositorio/pasta intitulada '.../hackaton/resultados/\n",
        "2. Desenvolva um script Python para ler os resultados e o nome das equipes e publique o placar.\n"
      ]
    },
    {
      "cell_type": "markdown",
      "metadata": {
        "id": "UbexhGtayV4X",
        "colab_type": "text"
      },
      "source": [
        "## Exercício 8\n",
        "Consulte a página [Pandas Exercises, Practice, Solution](https://www.w3resource.com/python-exercises/pandas/index.php) para mais exercícios relacionados á este tópico."
      ]
    },
    {
      "cell_type": "code",
      "metadata": {
        "id": "Du7Y8E4uFmiu",
        "colab_type": "code",
        "colab": {}
      },
      "source": [
        ""
      ],
      "execution_count": 0,
      "outputs": []
    }
  ]
}