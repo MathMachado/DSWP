{
  "nbformat": 4,
  "nbformat_minor": 0,
  "metadata": {
    "kernelspec": {
      "name": "python3",
      "display_name": "Python 3"
    },
    "colab": {
      "name": "NB15_00__Machine_Learning.ipynb",
      "provenance": [],
      "include_colab_link": true
    },
    "accelerator": "TPU"
  },
  "cells": [
    {
      "cell_type": "markdown",
      "metadata": {
        "id": "view-in-github",
        "colab_type": "text"
      },
      "source": [
        "<a href=\"https://colab.research.google.com/github/MathMachado/DSWP/blob/master/Notebooks/NB15_00__Machine_Learning.ipynb\" target=\"_parent\"><img src=\"https://colab.research.google.com/assets/colab-badge.svg\" alt=\"Open In Colab\"/></a>"
      ]
    },
    {
      "cell_type": "markdown",
      "metadata": {
        "id": "ShVXyGj9wkgN"
      },
      "source": [
        "<center><h1><b><i>MACHINE LEARNING WITH PYTHON</i></b></h1></center>"
      ]
    },
    {
      "cell_type": "markdown",
      "metadata": {
        "id": "e-VOopTKxrMs"
      },
      "source": [
        "A seguir, sugestão de problemas para resolver com Regressão Linear\n",
        "* https://lionbridge.ai/datasets/10-open-datasets-for-linear-regression/"
      ]
    },
    {
      "cell_type": "code",
      "metadata": {
        "id": "iTAGmmHouqQd"
      },
      "source": [
        "#!pip install azureml\n",
        "#!pip install azureml-opendatasets\n",
        "#!pip install azureml-dataset-runtime"
      ],
      "execution_count": null,
      "outputs": []
    },
    {
      "cell_type": "code",
      "metadata": {
        "id": "74DHjOrSuOwd"
      },
      "source": [
        "#from azureml import Datasets"
      ],
      "execution_count": null,
      "outputs": []
    },
    {
      "cell_type": "code",
      "metadata": {
        "id": "uIMB3a9EuQ9h"
      },
      "source": [
        "#from azureml.core import Dataset\n",
        "#from azureml.opendatasets import NycTlcYellow, NycTlcGreen\n",
        "#from dateutil import parser\n",
        "#from datetime import datetime\n",
        "#from dateutil.relativedelta import relativedelta"
      ],
      "execution_count": null,
      "outputs": []
    },
    {
      "cell_type": "code",
      "metadata": {
        "id": "oV-ETadXvsuG"
      },
      "source": [
        "#end_date = parser.parse('2018-06-06')\n",
        "#start_date = parser.parse('2018-05-01')\n",
        "#nyc_tlc = NycTlcYellow(start_date=start_date, end_date=end_date)\n",
        "#nyc_tlc_df = nyc_tlc.to_pandas_dataframe()  "
      ],
      "execution_count": null,
      "outputs": []
    },
    {
      "cell_type": "markdown",
      "metadata": {
        "id": "H-zwPxoLxVgp"
      },
      "source": [
        "Link: https://docs.microsoft.com/pt-pt/azure/machine-learning/tutorial-auto-train-models"
      ]
    },
    {
      "cell_type": "code",
      "metadata": {
        "id": "tUwpNHtbwn41"
      },
      "source": [
        "#nyc_tlc_df.head()"
      ],
      "execution_count": null,
      "outputs": []
    },
    {
      "cell_type": "code",
      "metadata": {
        "id": "oflehhy7wtde"
      },
      "source": [
        "#nyc_tlc_df.shape"
      ],
      "execution_count": null,
      "outputs": []
    },
    {
      "cell_type": "code",
      "metadata": {
        "id": "C1-G9EajxFbJ"
      },
      "source": [
        ""
      ],
      "execution_count": null,
      "outputs": []
    },
    {
      "cell_type": "markdown",
      "metadata": {
        "id": "aYQ4cDfcPu4e"
      },
      "source": [
        "___\n",
        "# **NOTAS E OBSERVAÇÕES**\n",
        "* Abordar o impacto do desbalanceamento da amostra;\n",
        "* Colocar AUROC no material e mostrar o cut off para classificação entre 0 e 1;\n",
        "* Conceitos estatísticos de bias & variance;\n",
        "* Ver Sklearn.optimize: https://web.telegram.org/#/im?p=g497957288;\n",
        "* Construir a package para conter todas as funções definidas e colocar estas funções na package --> Manutenção rápida, fácil e centralizada! Desta forma, o tópico (\"Funções usadas neste tutorial\") vai totalmente para o package."
      ]
    },
    {
      "cell_type": "markdown",
      "metadata": {
        "id": "5YvhLC_uf4_G"
      },
      "source": [
        "___\n",
        "# **AGENDA**\n"
      ]
    },
    {
      "cell_type": "markdown",
      "metadata": {
        "id": "QgX6n2VDyY1O"
      },
      "source": [
        "___\n",
        "# **REFERÊNCIAS**\n",
        "* [scikit-learn - Machine Learning With Python](https://scikit-learn.org/stable/);\n",
        "* [An Introduction to Machine Learning Theory and Its Applications: A Visual Tutorial with Examples](https://www.toptal.com/machine-learning/machine-learning-theory-an-introductory-primer)\n",
        "* [The Difference Between Artificial Intelligence, Machine Learning, and Deep Learning](https://medium.com/iotforall/the-difference-between-artificial-intelligence-machine-learning-and-deep-learning-3aa67bff5991)\n",
        "* [A Gentle Guide to Machine Learning](https://blog.monkeylearn.com/a-gentle-guide-to-machine-learning/)\n",
        "* [A Visual Introduction to Machine Learning](http://www.r2d3.us/visual-intro-to-machine-learning-part-1/)\n",
        "* [Introduction to Machine Learning](http://alex.smola.org/drafts/thebook.pdf)\n",
        "* [The 10 Statistical Techniques Data Scientists Need to Master](https://medium.com/cracking-the-data-science-interview/the-10-statistical-techniques-data-scientists-need-to-master-1ef6dbd531f7)\n",
        "* [Tune: a library for fast hyperparameter tuning at any scale](https://towardsdatascience.com/fast-hyperparameter-tuning-at-scale-d428223b081c)\n",
        "* [How to lie with Data Science](https://towardsdatascience.com/how-to-lie-with-data-science-5090f3891d9c)\n",
        "* [5 Reasons “Logistic Regression” should be the first thing you learn when becoming a Data Scientist](https://towardsdatascience.com/5-reasons-logistic-regression-should-be-the-first-thing-you-learn-when-become-a-data-scientist-fcaae46605c4)\n",
        "* [Machine learning on categorical variables](https://towardsdatascience.com/machine-learning-on-categorical-variables-3b76ffe4a7cb)\n",
        "\n",
        "## Deep Learning & Neural Networks\n",
        "\n",
        "- [An Introduction to Neural Networks](http://www.cs.stir.ac.uk/~lss/NNIntro/InvSlides.html)\n",
        "- [An Introduction to Image Recognition with Deep Learning](https://medium.com/@ageitgey/machine-learning-is-fun-part-3-deep-learning-and-convolutional-neural-networks-f40359318721)\n",
        "- [Neural Networks and Deep Learning](http://neuralnetworksanddeeplearning.com/index.html)"
      ]
    },
    {
      "cell_type": "markdown",
      "metadata": {
        "id": "TsCbZd2epfxo"
      },
      "source": [
        "___\n",
        "# **INTRODUÇÃO**\n",
        "\n",
        "* \"__Information is the oil of the 21st century, and analytics is the combustion engine__.\" - Peter Sondergaard, SVP, Garner Research;\n",
        "\n",
        "\n",
        ">O foco deste capítulo será:\n",
        "* Linear, Logistic Regression, Decision Tree, Random Forest, Support Vector Machine and XGBoost algorithms for building Machine Learning models;\n",
        "* Entender como resolver problemas de classificação e Regressão;\n",
        "* Aplicar técnicas de Ensemble como Bagging e Boosting;\n",
        "* Como medir a acurácia dos modelos de Machine Learning;\n",
        "* Aprender os principais algoritmos de Machine Learning tanto das técnicas de aprendizagem supervisionada quanto da não-supervisionada.\n",
        "\n"
      ]
    },
    {
      "cell_type": "markdown",
      "metadata": {
        "id": "HqqB2vaHXMGt"
      },
      "source": [
        "___\n",
        "# **ARTIFICIAL INTELLIGENCE VS MACHINE LEARNING VS DEEP LEARNING**\n",
        "* **Machine Learning** - dá aos computadores a capacidade de aprender sem serem explicitamente programados. Os computadores podem melhorar sua capacidade de aprendizagem através da prática de uma tarefa, geralmente usando grandes conjuntos de dados.\n",
        "* **Deep Learning** - é um método de Machine Learning que depende de redes neurais artificiais, permitindo que os sistemas de computadores aprendam pelo exemplo, assim como nós humanos aprendemos."
      ]
    },
    {
      "cell_type": "markdown",
      "metadata": {
        "id": "P961GcguXFFA"
      },
      "source": [
        "![EvolutionOfAI](https://github.com/MathMachado/Materials/blob/master/Evolution%20of%20AI.PNG?raw=true)\n",
        "\n",
        "Source: [Artificial Intelligence vs. Machine Learning vs. Deep Learning](https://github.com/MathMachado/P4ML/blob/DS_Python/Material/Evolution%20of%20AI.PNG)"
      ]
    },
    {
      "cell_type": "markdown",
      "metadata": {
        "id": "lkqGtO88ZkPr"
      },
      "source": [
        "![AI_vs_ML_vs_DL](https://github.com/MathMachado/Materials/blob/master/AI_vs_ML_vs_DL.PNG?raw=true)\n",
        "\n",
        "Source: [Artificial Intelligence vs. Machine Learning vs. Deep Learning](https://towardsdatascience.com/artificial-intelligence-vs-machine-learning-vs-deep-learning-2210ba8cc4ac)"
      ]
    },
    {
      "cell_type": "markdown",
      "metadata": {
        "id": "xesQpzfmaqj6"
      },
      "source": [
        "![ML_vs_DL](https://github.com/MathMachado/Materials/blob/master/ML_vs_DL.PNG?raw=true)\n",
        "\n",
        "Source: [Artificial Intelligence vs. Machine Learning vs. Deep Learning](https://towardsdatascience.com/artificial-intelligence-vs-machine-learning-vs-deep-learning-2210ba8cc4ac)"
      ]
    },
    {
      "cell_type": "markdown",
      "metadata": {
        "id": "KeIVR59IIS7f"
      },
      "source": [
        "___\n",
        "# **MACHINE LEARNING - TECHNIQUES**\n",
        "\n",
        "* Supervised Learning\n",
        "* Unsupervised Learning\n",
        "\n",
        "![MachineLearning](https://github.com/MathMachado/Materials/blob/master/MachineLearningTechniques.jpg?raw=true)\n",
        "\n",
        "Source: [Machine Learning for Everyone](https://vas3k.com/blog/machine_learning/?source=post_page-----885aa35db58b----------------------)"
      ]
    },
    {
      "cell_type": "markdown",
      "metadata": {
        "id": "rvwp5UHdBiup"
      },
      "source": [
        "___\n",
        "# **NOSSO FOCO AQUI SERÁ...**\n",
        "\n",
        "![ClassicalML](https://github.com/MathMachado/Materials/blob/master/ClassicalML.jpg?raw=true)\n",
        "\n",
        "Source: [Machine Learning for Everyone](https://vas3k.com/blog/machine_learning/?source=post_page-----885aa35db58b----------------------)"
      ]
    },
    {
      "cell_type": "markdown",
      "metadata": {
        "id": "cBLSvJTXHBjK"
      },
      "source": [
        "___\n",
        "# **CHEETSHEET**"
      ]
    },
    {
      "cell_type": "markdown",
      "metadata": {
        "id": "ZdjR3nahUuKq"
      },
      "source": [
        "\n",
        "![Scikit-Learn](https://github.com/MathMachado/Materials/blob/master/scikit-learn-1.png?raw=true)\n",
        "\n"
      ]
    },
    {
      "cell_type": "markdown",
      "metadata": {
        "id": "XRukccWQSklx"
      },
      "source": [
        "## Medidas para avaliarmos a variabilidade presente nos dados\n",
        "* As principais medidas para medirmos a variabilidade dos dados são amplitude, variância, desvio padrão e coeficiente de variação;\n",
        "* Estas medidas nos permite concluir se os dados são homogêneos (menor dispersão/variabilidade) ou heterogêneos (maior variabilidade/dispersão).\n",
        "\n",
        "* **Na próxima versão, trazer estes conceitos para o Notebook e usar o Python para calcular estas medidas**."
      ]
    },
    {
      "cell_type": "markdown",
      "metadata": {
        "id": "yBR8tWV_lhQq"
      },
      "source": [
        "___\n",
        "# **ENSEMBLE METHODS** (= Combinar modelos preditivos)\n",
        "* Métodos\n",
        "    * **Bagging** (Bootstrap AGGregatING)\n",
        "    * **Boosting**\n",
        "    * Stacking --> Não é muito utilizado\n",
        "* Evita overfitting (Overfitting é quando o modelo/função se ajusta muito bem ao dados de treinamento, sendo ineficiente para generalizar para outras amostras/população).\n",
        "* Constroi meta-classificadores: combinar os resultados de vários algoritmos para produzir previsões mais precisas e robustas do que as previsões de cada classificador individual.\n",
        "* Ensemble reduz/minimiza os efeitos das principais causas de erros nos modelos de Machine Learning:\n",
        "    * ruído;\n",
        "    * bias (viés);\n",
        "    * variância --> Principal medida para medir a variabilidade presente nos dados.\n",
        "\n",
        "# Referências\n",
        "* [Simple guide for ensemble learning methods](https://towardsdatascience.com/simple-guide-for-ensemble-learning-methods-d87cc68705a2) - Explica didaticamente como funcionam ensembes."
      ]
    },
    {
      "cell_type": "markdown",
      "metadata": {
        "id": "25RW8u-Sj780"
      },
      "source": [
        "### Leitura Adicional\n",
        "* [Ensemble methods: bagging, boosting and stacking](https://towardsdatascience.com/ensemble-methods-bagging-boosting-and-stacking-c9214a10a205)\n",
        "* [Ensemble Methods in Machine Learning: What are They and Why Use Them?](https://towardsdatascience.com/ensemble-methods-in-machine-learning-what-are-they-and-why-use-them-68ec3f9fef5f)\n",
        "* [Ensemble Learning Using Scikit-learn](https://towardsdatascience.com/ensemble-learning-using-scikit-learn-85c4531ff86a)\n",
        "* [Let’s Talk About Machine Learning Ensemble Learning In Python](https://medium.com/fintechexplained/lets-talk-about-machine-learning-ensemble-learning-in-python-382747e5fba8)\n",
        "* [Boosting, Bagging, and Stacking — Ensemble Methods with sklearn and mlens](https://medium.com/@rrfd/boosting-bagging-and-stacking-ensemble-methods-with-sklearn-and-mlens-a455c0c982de)"
      ]
    },
    {
      "cell_type": "markdown",
      "metadata": {
        "id": "FugME1HSl4jJ"
      },
      "source": [
        "___\n",
        "# **PARAMETER TUNNING** (= Hiperparâmetros ótimos dos modelos de Machine Learning)"
      ]
    },
    {
      "cell_type": "markdown",
      "metadata": {
        "id": "u_147cIRl9F1"
      },
      "source": [
        "## GridSearch (Ferramenta ou meio que vamos utilizar para otimização dos hiperparâmetros dos modelos de ML)\n",
        "* Encontra os hiperparâmetros ótimos (hyperparameter tunning) que melhoram a acurácia dos modelos.\n",
        "* Necessita dos seguintes inputs:\n",
        "    * A matrix $X_{p}$ com as $p$ COLUNAS (variáveis ou atributos) do dataframe;\n",
        "    * A matriz $y_{p}$ com a COLUNA-target (vaiável resposta);\n",
        "    * Exemplo: DecisionTree, RandomForestClassifier, XGBoostClassificer e etc;\n",
        "    * Um dicionário com os hiperparâmetros a serem otimizados;\n",
        "    * O número de folds para o método de Cross-validation."
      ]
    },
    {
      "cell_type": "markdown",
      "metadata": {
        "id": "39Sg77fbTWCO"
      },
      "source": [
        "___\n",
        "# **MODEL SELECTION & EVALUATION**\n",
        "> Nesta fase identificamos e aplicamos as melhores métricas (Accuracy, Sensitivity, Specificity, F-Score, AUC, R-Sq, Adj R-SQ, RMSE (Root Mean Square Error)) para avaliar o desempenho/acurácia/performance dos modelos de ML.\n",
        ">> Treinamos os modelos de ML usando a amostra de treinamento e avaliamos o desempenho/acurácia/performance na amostra de teste/validação.\n",
        "\n",
        "* Leitura Adicional\n",
        "    * [The 5 Classification Evaluation metrics every Data Scientist must know](https://towardsdatascience.com/the-5-classification-evaluation-metrics-you-must-know-aa97784ff226)\n",
        "    * [Confusion matrix and other metrics in machine learning](https://medium.com/hugo-ferreiras-blog/confusion-matrix-and-other-metrics-in-machine-learning-894688cb1c0a)"
      ]
    },
    {
      "cell_type": "markdown",
      "metadata": {
        "id": "oQQVzZ2ZTYrB"
      },
      "source": [
        "## Confusion Matrix\n",
        "* Termos associados à Confusion Matrix:\n",
        "    * **Verdadeiro Positivo** (TP = True Positive): Quando o valor observado é True e o modelo estima como True. Ou seja, o modelo acertou na estimativa.\n",
        "        * Exemplo: **Observado**: Fraude (Positive); **Modelo**: Fraude (Positive) --> Modelo acertou!\n",
        "    * **Verdadeiro Negativo** (TN = True Negative): Quando o valor observado é False e o modelo estima como False. Ou seja, o modelo acertou na estimativa;\n",
        "        * Exemplo: **Observado**: NÃO-Fraude (Negative); **Modelo**: NÃO-Fraude (Negative) --> Modelo acertou!\n",
        "    * **Falso Positivo** (FP = False Positive): Quando o valor observado é False e o modelo estima como True. Ou seja, o modelo errou na estimativa. \n",
        "        * Exemplo: **Observado**: NÃO-Fraude (Negative); **Modelo**: Fraude (Positive) --> Modelo errou!\n",
        "    * **Falso Negativo** (FN = False Negative): Quando o valor observado é True e o modelo estima como False.\n",
        "        * Exemplo: **Observado**: Fraude (Positive); **Modelo**: NÃO-Fraude (Negative) --> Modelo errou!\n",
        "\n",
        "* Consulte [Confusion matrix](https://scikit-learn.org/stable/auto_examples/model_selection/plot_confusion_matrix.html#sphx-glr-auto-examples-model-selection-plot-confusion-matrix-py)\n",
        "\n",
        "![ConfusionMatrix](https://github.com/MathMachado/Materials/blob/master/ConfusionMatrix.PNG?raw=true)\n",
        "\n",
        "Source: [Confusion Matrix](https://subscription.packtpub.com/book/big_data_and_business_intelligence/9781838555078/6/ch06lvl1sec34/confusion-matrix)\n",
        "\n"
      ]
    },
    {
      "cell_type": "markdown",
      "metadata": {
        "id": "ci-6eiqBTgbL"
      },
      "source": [
        "## Accuracy\n",
        "> Accuracy - é o número de previsões corretas feitas pelo modelo.\n",
        "\n",
        "Responde à seguinte pergunta:\n",
        "\n",
        "```\n",
        "Com que frequência o classificador (modelo preditivo) classifica corretamente?\n",
        "```\n",
        "\n",
        "$$Accuracy= \\frac{TP+TN}{TP+TN+FP+FN}$$"
      ]
    },
    {
      "cell_type": "markdown",
      "metadata": {
        "id": "F7YI8X5TRx-R"
      },
      "source": [
        "## Precision (ou Specificity)\n",
        "> **Precision** - fornece informações sobre o desempenho em relação a Falsos Positivos (quantos capturamos).\n",
        "\n",
        "Responde à seguinte pergunta:\n",
        "\n",
        "```\n",
        "Com relação ao resultado Positivo, com que frequência o classificador está correto?\n",
        "```\n",
        "\n",
        "\n",
        "$$Precision= \\frac{TP}{TP+FP}$$\n",
        "\n",
        "**Exemplo**: Precison nos dirá a proporção de clientes que o modelo estimou como sendo Fraude quando, na verdade, são fraude.\n",
        "\n",
        "**Comentário**: Se nosso foco é minimizar Falso Negativos (FN), então precisamos nos esforçar para termos Recall próximo de 100%."
      ]
    },
    {
      "cell_type": "markdown",
      "metadata": {
        "id": "zO39n8x_Sz3L"
      },
      "source": [
        "## Recall (ou Sensitivity)\n",
        "> **Recall** - nos fornece informações sobre o desempenho de um classificador em relação a Falsos Negativos (quantos perdemos).\n",
        "\n",
        "Responde à seguinte pergunta:\n",
        "\n",
        "```\n",
        "Quando o valor observado é Positivo, com que frequência o classificador está correto?\n",
        "```\n",
        "\n",
        "$$Recall = Sensitivity = \\frac{TP}{TP+FN}$$\n",
        "\n",
        "**Exemplo**: Recall é a proporção de clientes observados como Fraude e que o modelo estima como Fraude.\n",
        "\n",
        "**Comentário**: Se nosso foco for minimizar Falso Positivos (FP), então precisamos nos esforçar para fazer Precision mais próximo de 100% possível."
      ]
    },
    {
      "cell_type": "markdown",
      "metadata": {
        "id": "htS6rdHVVXRG"
      },
      "source": [
        "## Specificity\n",
        "> **Specificity** - proporção de TN por TN+FP.\n",
        "\n",
        "Responde à seguinte pergunta:\n",
        "\n",
        "```\n",
        "Quando o valor observado é Negativo, com que frequência o classificador está correto?\n",
        "```\n",
        "\n",
        "**Exemplo**: Specificity é a proporção de clientes NÃO-Fraude que o modelo estima como NÃO-Fraude.\n",
        "\n",
        "$$Specificity= \\frac{TN}{TN+FP}$$\n"
      ]
    },
    {
      "cell_type": "markdown",
      "metadata": {
        "id": "mNn0twadTacc"
      },
      "source": [
        "## F1-Score\n",
        "> F1-Score é a média harmônica entre Recall e Precision e é um número entre 0 e 1. Quanto mais próximo de 1, melhor. Quanto mais próximo de 0, pior. Ou seja, é um equilíbrio entre Recall e Precision.\n",
        "\n",
        "$$F1\\_Score= 2\\left(\\frac{Recall*Precision}{Recall+Precision}\\right)$$"
      ]
    },
    {
      "cell_type": "markdown",
      "metadata": {
        "id": "gkCubyUCP_hn"
      },
      "source": [
        "### Funções usadas neste tutorial"
      ]
    },
    {
      "cell_type": "markdown",
      "metadata": {
        "id": "ZD2pH9hfTnZv"
      },
      "source": [
        "#### Função para Cross-Validation"
      ]
    },
    {
      "cell_type": "code",
      "metadata": {
        "id": "hr8LczrSQB0x"
      },
      "source": [
        "def funcao_cross_val_score(modelo, X_treinamento, y_treinamento, CV):\n",
        "    # versão com sklearn.model_selection.cross_validate:\n",
        "    #a_scores_CV = cross_validate(modelo, X_treinamento, y_treinamento, cv = CV, scoring = metodo)\n",
        "    #print(f'Média das Acurácias calculadas pelo CV....: {100*round(a_scores_CV.mean(),4)}')\n",
        "    #print(f'std médio das Acurácias calculadas pelo CV: {100*round(a_scores_CV.std(),4)}')\n",
        "    #return a_scores_CV\n",
        "\n",
        "    #versão com cross_val_score::\n",
        "    a_scores_CV = cross_val_score(modelo, X_treinamento, y_treinamento, cv = CV)\n",
        "    print(f'Média das Acurácias calculadas pelo CV....: {100*round(a_scores_CV.mean(),4)}')\n",
        "    print(f'std médio das Acurácias calculadas pelo CV: {100*round(a_scores_CV.std(),4)}')\n",
        "    return a_scores_CV"
      ],
      "execution_count": null,
      "outputs": []
    },
    {
      "cell_type": "markdown",
      "metadata": {
        "id": "9ROlyvgij2yl"
      },
      "source": [
        "#### Função para plotar a Confusion Matrix\n",
        "* Extraído de [Confusion Matrix Visualization](https://medium.com/@dtuk81/confusion-matrix-visualization-fc31e3f30fea)"
      ]
    },
    {
      "cell_type": "code",
      "metadata": {
        "id": "klQ0FLOIgeX1"
      },
      "source": [
        "def mostra_confusion_matrix(cf, \n",
        "                            group_names = None, \n",
        "                            categories = 'auto', \n",
        "                            count = True, \n",
        "                            percent = True, \n",
        "                            cbar = True, \n",
        "                            xyticks = False, \n",
        "                            xyplotlabels = True, \n",
        "                            sum_stats = True, \n",
        "                            figsize = (8, 8), \n",
        "                            cmap = 'Blues'):\n",
        "    '''\n",
        "    This function will make a pretty plot of an sklearn Confusion Matrix cm using a Seaborn heatmap visualization.\n",
        "    Arguments\n",
        "    ---------\n",
        "    cf:            confusion matrix to be passed in\n",
        "    group_names:   List of strings that represent the labels row by row to be shown in each square.\n",
        "    categories:    List of strings containing the categories to be displayed on the x,y axis. Default is 'auto'\n",
        "    count:         If True, show the raw number in the confusion matrix. Default is True.\n",
        "    normalize:     If True, show the proportions for each category. Default is True.\n",
        "    cbar:          If True, show the color bar. The cbar values are based off the values in the confusion matrix.\n",
        "                   Default is True.\n",
        "    xyticks:       If True, show x and y ticks. Default is True.\n",
        "    xyplotlabels:  If True, show 'True Label' and 'Predicted Label' on the figure. Default is True.\n",
        "    sum_stats:     If True, display summary statistics below the figure. Default is True.\n",
        "    figsize:       Tuple representing the figure size. Default will be the matplotlib rcParams value.\n",
        "    cmap:          Colormap of the values displayed from matplotlib.pyplot.cm. Default is 'Blues'\n",
        "                   See http://matplotlib.org/examples/color/colormaps_reference.html\n",
        "    '''\n",
        "\n",
        "    # CODE TO GENERATE TEXT INSIDE EACH SQUARE\n",
        "    blanks = ['' for i in range(cf.size)]\n",
        "\n",
        "    if group_names and len(group_names)==cf.size:\n",
        "        group_labels = [\"{}\\n\".format(value) for value in group_names]\n",
        "    else:\n",
        "        group_labels = blanks\n",
        "\n",
        "    if count:\n",
        "        group_counts = [\"{0:0.0f}\\n\".format(value) for value in cf.flatten()]\n",
        "    else:\n",
        "        group_counts = blanks\n",
        "\n",
        "    if percent:\n",
        "        group_percentages = [\"{0:.2%}\".format(value) for value in cf.flatten()/np.sum(cf)]\n",
        "    else:\n",
        "        group_percentages = blanks\n",
        "\n",
        "    box_labels = [f\"{v1}{v2}{v3}\".strip() for v1, v2, v3 in zip(group_labels,group_counts,group_percentages)]\n",
        "    box_labels = np.asarray(box_labels).reshape(cf.shape[0],cf.shape[1])\n",
        "\n",
        "    # CODE TO GENERATE SUMMARY STATISTICS & TEXT FOR SUMMARY STATS\n",
        "    if sum_stats:\n",
        "        #Accuracy is sum of diagonal divided by total observations\n",
        "        accuracy  = np.trace(cf) / float(np.sum(cf))\n",
        "\n",
        "        #if it is a binary confusion matrix, show some more stats\n",
        "        if len(cf)==2:\n",
        "            #Metrics for Binary Confusion Matrices\n",
        "            precision = cf[1,1] / sum(cf[:,1])\n",
        "            recall    = cf[1,1] / sum(cf[1,:])\n",
        "            f1_score  = 2*precision*recall / (precision + recall)\n",
        "            stats_text = \"\\n\\nAccuracy={:0.3f}\\nPrecision={:0.3f}\\nRecall={:0.3f}\\nF1 Score={:0.3f}\".format(accuracy,precision,recall,f1_score)\n",
        "        else:\n",
        "            stats_text = \"\\n\\nAccuracy={:0.3f}\".format(accuracy)\n",
        "    else:\n",
        "        stats_text = \"\"\n",
        "\n",
        "    # SET FIGURE PARAMETERS ACCORDING TO OTHER ARGUMENTS\n",
        "    if figsize==None:\n",
        "        #Get default figure size if not set\n",
        "        figsize = plt.rcParams.get('figure.figsize')\n",
        "\n",
        "    if xyticks==False:\n",
        "        #Do not show categories if xyticks is False\n",
        "        categories=False\n",
        "\n",
        "    # MAKE THE HEATMAP VISUALIZATION\n",
        "    plt.figure(figsize=figsize)\n",
        "    sns.heatmap(cf,annot=box_labels,fmt=\"\",cmap=cmap,cbar=cbar,xticklabels=categories,yticklabels=categories)\n",
        "\n",
        "    if xyplotlabels:\n",
        "        plt.ylabel('True label')\n",
        "        plt.xlabel('Predicted label' + stats_text)\n",
        "    else:\n",
        "        plt.xlabel(stats_text)"
      ],
      "execution_count": null,
      "outputs": []
    },
    {
      "cell_type": "markdown",
      "metadata": {
        "id": "8J-sTUfTTdLi"
      },
      "source": [
        "#### Função para o GridSearchCV"
      ]
    },
    {
      "cell_type": "code",
      "metadata": {
        "id": "ap3WMXqDthu9"
      },
      "source": [
        "def GridSearchOptimizer(modelo, ml_Opt, d_hiperparametros, X_treinamento, y_treinamento, X_teste, y_teste, i_CV, l_colunas):\n",
        "    ml_GridSearchCV = GridSearchCV(modelo, d_hiperparametros, cv = i_CV, n_jobs = -1, verbose= 10, scoring = 'accuracy')\n",
        "    start = time()\n",
        "    ml_GridSearchCV.fit(X_treinamento, y_treinamento)\n",
        "    tempo_elapsed = time()-start\n",
        "    print(f\"\\nGridSearchCV levou {tempo_elapsed:.2f} segundos.\")\n",
        "\n",
        "    # Hiperparâmetros que otimizam a classificação:\n",
        "    print(f'\\nHiperparâmetros otimizados: {ml_GridSearchCV.best_params_}')\n",
        "    \n",
        "    if ml_Opt == 'ml_DT2':\n",
        "        print(f'\\nDecisionTreeClassifier *********************************************************************************************************')\n",
        "        ml_Opt = DecisionTreeClassifier(criterion= ml_GridSearchCV.best_params_['criterion'], \n",
        "                                        max_depth= ml_GridSearchCV.best_params_['max_depth'],\n",
        "                                        max_leaf_nodes= ml_GridSearchCV.best_params_['max_leaf_nodes'],\n",
        "                                        min_samples_split= ml_GridSearchCV.best_params_['min_samples_leaf'],\n",
        "                                        min_samples_leaf= ml_GridSearchCV.best_params_['min_samples_split'], \n",
        "                                        random_state= i_Seed)\n",
        "        \n",
        "    elif ml_Opt == 'ml_RF2':\n",
        "        print(f'\\nRandomForestClassifier *********************************************************************************************************')\n",
        "        ml_Opt = RandomForestClassifier(bootstrap= ml_GridSearchCV.best_params_['bootstrap'], \n",
        "                                        max_depth= ml_GridSearchCV.best_params_['max_depth'],\n",
        "                                        max_features= ml_GridSearchCV.best_params_['max_features'],\n",
        "                                        min_samples_leaf= ml_GridSearchCV.best_params_['min_samples_leaf'],\n",
        "                                        min_samples_split= ml_GridSearchCV.best_params_['min_samples_split'],\n",
        "                                        n_estimators= ml_GridSearchCV.best_params_['n_estimators'],\n",
        "                                        random_state= i_Seed)\n",
        "        \n",
        "    elif ml_Opt == 'ml_AB2':\n",
        "        print(f'\\nAdaBoostClassifier *********************************************************************************************************')\n",
        "        ml_Opt = AdaBoostClassifier(algorithm='SAMME.R', \n",
        "                                    base_estimator=RandomForestClassifier(bootstrap = False, \n",
        "                                                                          max_depth = 10, \n",
        "                                                                          max_features = 'auto', \n",
        "                                                                          min_samples_leaf = 1, \n",
        "                                                                          min_samples_split = 2, \n",
        "                                                                          n_estimators = 400), \n",
        "                                    learning_rate = ml_GridSearchCV.best_params_['learning_rate'], \n",
        "                                    n_estimators = ml_GridSearchCV.best_params_['n_estimators'], \n",
        "                                    random_state = i_Seed)\n",
        "        \n",
        "    elif ml_Opt == 'ml_GB2':\n",
        "        print(f'\\nGradientBoostingClassifier *********************************************************************************************************')\n",
        "        ml_Opt = GradientBoostingClassifier(learning_rate = ml_GridSearchCV.best_params_['learning_rate'], \n",
        "                                            n_estimators = ml_GridSearchCV.best_params_['n_estimators'], \n",
        "                                            max_depth = ml_GridSearchCV.best_params_['max_depth'], \n",
        "                                            min_samples_split = ml_GridSearchCV.best_params_['min_samples_split'], \n",
        "                                            min_samples_leaf = ml_GridSearchCV.best_params_['min_samples_leaf'], \n",
        "                                            max_features = ml_GridSearchCV.best_params_['max_features'])\n",
        "        \n",
        "    elif ml_Opt == 'ml_XGB2':\n",
        "        print(f'\\nXGBoostingClassifier *********************************************************************************************************')\n",
        "        ml_Opt = XGBoostingClassifier(learning_rate= ml_GridSearchCV.best_params_['learning_rate'], \n",
        "                                      max_depth= ml_GridSearchCV.best_params_['max_depth'], \n",
        "                                      colsample_bytree= ml_GridSearchCV.best_params_['colsample_bytree'], \n",
        "                                      subsample= ml_GridSearchCV.best_params_['subsample'], \n",
        "                                      gamma= ml_GridSearchCV.best_params_['gamma'], \n",
        "                                      min_child_weight= ml_GridSearchCV.best_params_['min_child_weight'])\n",
        "        \n",
        "    # Treina novamente usando os hiperparâmetros otimizados...\n",
        "    ml_Opt.fit(X_treinamento, y_treinamento)\n",
        "\n",
        "    # Cross-Validation com 10 folds\n",
        "    print(f'\\n********* CROSS-VALIDATION ***********')\n",
        "    a_scores_CV = funcao_cross_val_score(ml_Opt, X_treinamento, y_treinamento, i_CV)\n",
        "\n",
        "    # Faz predições com os hiperparâmetros otimizados...\n",
        "    y_pred = ml_Opt.predict(X_teste)\n",
        "  \n",
        "    # Importância das COLUNAS\n",
        "    print(f'\\n********* IMPORTÂNCIA DAS COLUNAS ***********')\n",
        "    df_importancia_variaveis = pd.DataFrame(zip(l_colunas, ml_Opt.feature_importances_), columns= ['coluna', 'importancia'])\n",
        "    df_importancia_variaveis = df_importancia_variaveis.sort_values(by= ['importancia'], ascending=False)\n",
        "    print(df_importancia_variaveis)\n",
        "\n",
        "    # Matriz de Confusão\n",
        "    print(f'\\n********* CONFUSION MATRIX - PARAMETER TUNNING ***********')\n",
        "    cf_matrix = confusion_matrix(y_teste, y_pred)\n",
        "    cf_labels = ['True_Negative', 'False_Positive', 'False_Negative', 'True_Positive']\n",
        "    cf_categories = ['Zero', 'One']\n",
        "    mostra_confusion_matrix(cf_matrix, group_names = cf_labels, categories = cf_categories)\n",
        "\n",
        "    return ml_Opt, ml_GridSearchCV.best_params_"
      ],
      "execution_count": null,
      "outputs": []
    },
    {
      "cell_type": "markdown",
      "metadata": {
        "id": "YMnQn2XgT7Mg"
      },
      "source": [
        "#### Função para selecionar COLUNAS relevantes dos dataframes"
      ]
    },
    {
      "cell_type": "code",
      "metadata": {
        "id": "fsnHcaeLUDFS"
      },
      "source": [
        "from sklearn.feature_selection import SelectFromModel\n",
        "\n",
        "def seleciona_colunas_relevantes(modelo, X_treinamento, X_teste, threshold = 0.05):\n",
        "    # Cria um seletor para selecionar as COLUNAS com importância > threshold\n",
        "    sfm = SelectFromModel(modelo, threshold)\n",
        "    \n",
        "    # Treina o seletor\n",
        "    sfm.fit(X_treinamento, y_treinamento)\n",
        "\n",
        "    # Mostra o indice das COLUNAS mais importantes\n",
        "    print(f'\\n********** COLUNAS Relevantes ******')\n",
        "    print(sfm.get_support(indices=True))\n",
        "\n",
        "    # Seleciona somente as COLUNAS relevantes\n",
        "    X_treinamento_I = sfm.transform(X_treinamento)\n",
        "    X_teste_I = sfm.transform(X_teste)\n",
        "    return X_treinamento_I, X_teste_I   "
      ],
      "execution_count": null,
      "outputs": []
    },
    {
      "cell_type": "markdown",
      "metadata": {
        "id": "gd98JFSGUV5n"
      },
      "source": [
        ""
      ]
    },
    {
      "cell_type": "markdown",
      "metadata": {
        "id": "3e0m7lEnYOV9"
      },
      "source": [
        "### Função para calcular a importância das colunas/variáveis/atributos\n",
        "* Source: [Plotting Feature Importances](https://www.kaggle.com/grfiv4/plotting-feature-importances)"
      ]
    },
    {
      "cell_type": "code",
      "metadata": {
        "id": "fjco0HnNYr-N"
      },
      "source": [
        "def mostra_feature_importances(clf, X_treinamento, y_treinamento=None, \n",
        "                             top_n=10, figsize=(8,8), print_table=False, title=\"Feature Importances\"):\n",
        "    '''\n",
        "    plot feature importances of a tree-based sklearn estimator\n",
        "    \n",
        "    Note: X_treinamento and y_treinamento are pandas DataFrames\n",
        "    \n",
        "    Note: Scikit-plot is a lovely package but I sometimes have issues\n",
        "              1. flexibility/extendibility\n",
        "              2. complicated models/datasets\n",
        "          But for many situations Scikit-plot is the way to go\n",
        "          see https://scikit-plot.readthedocs.io/en/latest/Quickstart.html\n",
        "    \n",
        "    Parameters\n",
        "    ----------\n",
        "        clf         (sklearn estimator) if not fitted, this routine will fit it\n",
        "        \n",
        "        X_treinamento     (pandas DataFrame)\n",
        "        \n",
        "        y_treinamento     (pandas DataFrame)  optional\n",
        "                                        required only if clf has not already been fitted \n",
        "        \n",
        "        top_n       (int)               Plot the top_n most-important features\n",
        "                                        Default: 10\n",
        "                                        \n",
        "        figsize     ((int,int))         The physical size of the plot\n",
        "                                        Default: (8,8)\n",
        "        \n",
        "        print_table (boolean)           If True, print out the table of feature importances\n",
        "                                        Default: False\n",
        "        \n",
        "    Returns\n",
        "    -------\n",
        "        the pandas dataframe with the features and their importance\n",
        "        \n",
        "    Author\n",
        "    ------\n",
        "        George Fisher\n",
        "    '''\n",
        "    \n",
        "    __name__ = \"mostra_feature_importances\"\n",
        "    \n",
        "    import pandas as pd\n",
        "    import numpy  as np\n",
        "    import matplotlib.pyplot as plt\n",
        "    \n",
        "    from xgboost.core     import XGBoostError\n",
        "    from lightgbm.sklearn import LightGBMError\n",
        "    \n",
        "    try: \n",
        "        if not hasattr(clf, 'feature_importances_'):\n",
        "            clf.fit(X_treinamento.values, y_treinamento.values.ravel())\n",
        "\n",
        "            if not hasattr(clf, 'feature_importances_'):\n",
        "                raise AttributeError(\"{} does not have feature_importances_ attribute\".\n",
        "                                    format(clf.__class__.__name__))\n",
        "                \n",
        "    except (XGBoostError, LightGBMError, ValueError):\n",
        "        clf.fit(X_treinamento.values, y_treinamento.values.ravel())\n",
        "            \n",
        "    feat_imp = pd.DataFrame({'importance':clf.feature_importances_})    \n",
        "    feat_imp['feature'] = X_treinamento.columns\n",
        "    feat_imp.sort_values(by ='importance', ascending = False, inplace = True)\n",
        "    feat_imp = feat_imp.iloc[:top_n]\n",
        "    \n",
        "    feat_imp.sort_values(by='importance', inplace = True)\n",
        "    feat_imp = feat_imp.set_index('feature', drop = True)\n",
        "    feat_imp.plot.barh(title=title, figsize=figsize)\n",
        "    plt.xlabel('Feature Importance Score')\n",
        "    plt.show()\n",
        "    \n",
        "    if print_table:\n",
        "        from IPython.display import display\n",
        "        print(\"Top {} features in descending order of importance\".format(top_n))\n",
        "        display(feat_imp.sort_values(by = 'importance', ascending = False))\n",
        "        \n",
        "    return feat_imp"
      ],
      "execution_count": null,
      "outputs": []
    },
    {
      "cell_type": "markdown",
      "metadata": {
        "id": "rsH9dMxazWCg"
      },
      "source": [
        "# **DATAFRAME-EXEMPLO USADO NESTE TUTORIAL**\n",
        "> Gerar um dataframe com 18 colunas, sendo 9 informativas, 6 redundantes e 3 repetidas:\n",
        "\n",
        "Para saber mais sobre a geração de dataframes-exemplo (toy), consulte [Synthetic data generation — a must-have skill for new data scientists](https://towardsdatascience.com/synthetic-data-generation-a-must-have-skill-for-new-data-scientists-915896c0c1ae)"
      ]
    },
    {
      "cell_type": "markdown",
      "metadata": {
        "id": "GEyDo_EIV_jV"
      },
      "source": [
        "## Definir variáveis globais"
      ]
    },
    {
      "cell_type": "code",
      "metadata": {
        "id": "TdwgpZ76WFaT"
      },
      "source": [
        "i_CV = 10 # Número de Cross-Validations\n",
        "i_Seed = 20111974 # semente por questões de reproducibilidade\n",
        "f_Test_Size = 0.3 # Proporção do dataframe de validação (outros valores poderiam ser 0.15, 0.20 ou 0.25)"
      ],
      "execution_count": null,
      "outputs": []
    },
    {
      "cell_type": "code",
      "metadata": {
        "id": "gJTJfpwWzykS"
      },
      "source": [
        "from sklearn.datasets import make_classification\n",
        "\n",
        "X, y = make_classification(n_samples = 1000, \n",
        "                           n_features = 18, \n",
        "                           n_informative = 9, \n",
        "                           n_redundant = 6, \n",
        "                           n_repeated = 3, \n",
        "                           n_classes = 2, \n",
        "                           n_clusters_per_class = 1, \n",
        "                           random_state=i_Seed)"
      ],
      "execution_count": null,
      "outputs": []
    },
    {
      "cell_type": "code",
      "metadata": {
        "id": "gWy2IZh3s-o3",
        "outputId": "e72d1b18-fca3-4352-9ea3-0009377505b3",
        "colab": {
          "base_uri": "https://localhost:8080/"
        }
      },
      "source": [
        "X"
      ],
      "execution_count": null,
      "outputs": [
        {
          "output_type": "execute_result",
          "data": {
            "text/plain": [
              "array([[ 0.06844089,  4.21184154, -2.5583024 , ..., -0.63061895,\n",
              "        -0.97831983, -0.88826977],\n",
              "       [-4.8240213 ,  0.17950903, -2.98447332, ...,  0.33992045,\n",
              "         1.89153784, -6.10967565],\n",
              "       [ 1.38953042, -0.226476  ,  1.8774004 , ..., -1.47784549,\n",
              "         0.96052606,  2.06020368],\n",
              "       ...,\n",
              "       [ 1.62548685,  0.43377848,  4.93537285, ..., -4.61990917,\n",
              "         0.18310709,  6.16040231],\n",
              "       [-2.40619087, -1.65474635,  2.64196493, ..., -1.21427845,\n",
              "         0.83745861,  0.8254619 ],\n",
              "       [-4.00041881,  2.52475556, -4.15290177, ..., -0.51680266,\n",
              "         1.72224835, -5.59558306]])"
            ]
          },
          "metadata": {
            "tags": []
          },
          "execution_count": 14
        }
      ]
    },
    {
      "cell_type": "code",
      "metadata": {
        "id": "ccjhGnzxtAaV",
        "outputId": "82144bbd-78c7-4bc5-b0e1-9457ca30f421",
        "colab": {
          "base_uri": "https://localhost:8080/"
        }
      },
      "source": [
        "y[0:30] # Semelhante aos casos de fraude: {0, 1}"
      ],
      "execution_count": null,
      "outputs": [
        {
          "output_type": "execute_result",
          "data": {
            "text/plain": [
              "array([1, 1, 1, 1, 1, 0, 0, 1, 0, 1, 0, 0, 0, 1, 1, 1, 0, 0, 0, 0, 0, 1,\n",
              "       1, 1, 0, 1, 0, 1, 0, 1])"
            ]
          },
          "metadata": {
            "tags": []
          },
          "execution_count": 15
        }
      ]
    },
    {
      "cell_type": "markdown",
      "metadata": {
        "id": "OHO2befKJxR3"
      },
      "source": [
        "___\n",
        "# **DECISION TREE**\n",
        "> Decision Trees possuem estrutura em forma de árvores.\n",
        "\n",
        "![DecisionTree](https://github.com/MathMachado/Materials/blob/master/DecisionTree.PNG?raw=true)\n",
        "\n",
        "Fonte: [Um tutorial completo sobre modelagem baseada em árvores de decisão (códigos R e Python)](https://www.vooo.pro/insights/um-tutorial-completo-sobre-a-modelagem-baseada-em-tree-arvore-do-zero-em-r-python/)\n",
        "\n"
      ]
    },
    {
      "cell_type": "markdown",
      "metadata": {
        "id": "J4fRargyX_1M"
      },
      "source": [
        "* **Principais Vantagens**:\n",
        "    * São algoritmos fáceis de entender, visualizar e interpretar;\n",
        "    * Captura facilmente padrões não-lineares presentes nos dados;\n",
        "    * Requer pouco poder computacional --> Treinar Decision Trees não requer tanto recurso computacional!\n",
        "    * Lida bem com COLUNAS numéricas ou categóricas;\n",
        "    * Não requer os dados sejam normalizados;\n",
        "    * Pode ser utilizado como Feature Engineering ao lidar com Missing Values;\n",
        "    * Pode ser utilizado como Feature Selection;\n",
        "    * Não requer suposições sobre a distribuição dos dados por causa da natureza não-paramétrica do algoritmo\n",
        "\n",
        "* **Principais desvantagens**\n",
        "    * Propenso a Overfitting, pois Decision Trees podem construir árvores complexas que não sejam capazes de generalizar bem os dados. As coisas complicam muito se a amostra de treinamento possuir outliers. Portanto, **recomenda-se fortemente a tratar os outliers previamente**.\n",
        "    * Pode criar árvores viesadas se tivermos um dataframe não-balanceado ou que alguma classe seja dominante. Por conta disso, **recomenda-se balancear o dataframe previamente para se evitar esse problema**.\n",
        "\n",
        "* **Principais Hiperparâmetros**\n",
        "    * **Gini Index** - é uma métrica que mede a frequência com que um ponto/observação aleatoriamente selecionado seria incorretamente identificado.\n",
        "        * Portanto, quanto menor o valor de Gini Index, melhor a COLUNA;\n",
        "    * **Entropy** - é uma métrica que mede aleatoriedade da informação presente nos dados.\n",
        "        * Portanto, quanto maior a entropia da COLUNA, pior ela se torna para nos ajudar a tomar uma conclusão (classificar, por exemplo).\n",
        "\n",
        "## **Referências**:\n",
        "* [1.10. Decision Trees](https://scikit-learn.org/stable/modules/tree.html).\n",
        "* [Decision Tree Algorithm With Hands On Example](https://medium.com/datadriveninvestor/decision-tree-algorithm-with-hands-on-example-e6c2afb40d38) - ótimo tutorial para aprender, entender, interpretar e calcular os índices de Gini e entropia.\n",
        "* [Intuitive Guide to Understanding Decision Trees](https://towardsdatascience.com/light-on-math-machine-learning-intuitive-guide-to-understanding-decision-trees-adb2165ccab7) - ótimo tutorial para aprender, entender, interpretar e calcular os índices de Gini e entropia.\n",
        "* [The Complete Guide to Decision Trees](https://towardsdatascience.com/the-complete-guide-to-decision-trees-28a4e3c7be14)\n",
        "* [Creating and Visualizing Decision Tree Algorithm in Machine Learning Using Sklearn](https://intellipaat.com/blog/decision-tree-algorithm-in-machine-learning/) - Muito didático!\n",
        "* [Decision Trees in Machine Learning](https://towardsdatascience.com/decision-trees-in-machine-learning-641b9c4e8052)\n"
      ]
    },
    {
      "cell_type": "markdown",
      "metadata": {
        "id": "FrMkPN5aLp0Y"
      },
      "source": [
        "## Carregar as bibliotecas"
      ]
    },
    {
      "cell_type": "code",
      "metadata": {
        "id": "FVU1CM0PKgO4"
      },
      "source": [
        "import numpy as np\n",
        "import pandas as pd\n",
        "import seaborn as sns\n",
        "import matplotlib.pyplot as plt\n",
        "\n",
        "import warnings\n",
        "warnings.filterwarnings(\"ignore\")"
      ],
      "execution_count": null,
      "outputs": []
    },
    {
      "cell_type": "markdown",
      "metadata": {
        "id": "15clh4XrISpz"
      },
      "source": [
        "## Carregar/Ler os dados"
      ]
    },
    {
      "cell_type": "code",
      "metadata": {
        "id": "UMPL46w2IWJw"
      },
      "source": [
        "l_colunas = ['v1', 'v2', 'v3', 'v4', 'v5', 'v6', 'v7', 'v8', 'v9', 'v10', 'v11', 'v12', 'v13', 'v14', 'v15', 'v16', 'v17', 'v18']\n",
        "\n",
        "df_X = pd.DataFrame(X, columns = l_colunas)\n",
        "df_y = pd.DataFrame(y, columns = ['target'])"
      ],
      "execution_count": null,
      "outputs": []
    },
    {
      "cell_type": "code",
      "metadata": {
        "id": "MFaQF2MGFl_M",
        "outputId": "8fbd0af4-559f-49fc-d9cf-4e39a64b9b30",
        "colab": {
          "base_uri": "https://localhost:8080/",
          "height": 195
        }
      },
      "source": [
        "df_X.head()"
      ],
      "execution_count": null,
      "outputs": [
        {
          "output_type": "execute_result",
          "data": {
            "text/html": [
              "<div>\n",
              "<style scoped>\n",
              "    .dataframe tbody tr th:only-of-type {\n",
              "        vertical-align: middle;\n",
              "    }\n",
              "\n",
              "    .dataframe tbody tr th {\n",
              "        vertical-align: top;\n",
              "    }\n",
              "\n",
              "    .dataframe thead th {\n",
              "        text-align: right;\n",
              "    }\n",
              "</style>\n",
              "<table border=\"1\" class=\"dataframe\">\n",
              "  <thead>\n",
              "    <tr style=\"text-align: right;\">\n",
              "      <th></th>\n",
              "      <th>v1</th>\n",
              "      <th>v2</th>\n",
              "      <th>v3</th>\n",
              "      <th>v4</th>\n",
              "      <th>v5</th>\n",
              "      <th>v6</th>\n",
              "      <th>v7</th>\n",
              "      <th>v8</th>\n",
              "      <th>v9</th>\n",
              "      <th>v10</th>\n",
              "      <th>v11</th>\n",
              "      <th>v12</th>\n",
              "      <th>v13</th>\n",
              "      <th>v14</th>\n",
              "      <th>v15</th>\n",
              "      <th>v16</th>\n",
              "      <th>v17</th>\n",
              "      <th>v18</th>\n",
              "    </tr>\n",
              "  </thead>\n",
              "  <tbody>\n",
              "    <tr>\n",
              "      <th>0</th>\n",
              "      <td>0.068441</td>\n",
              "      <td>4.211842</td>\n",
              "      <td>-2.558302</td>\n",
              "      <td>3.665482</td>\n",
              "      <td>-3.835158</td>\n",
              "      <td>3.499851</td>\n",
              "      <td>2.490856</td>\n",
              "      <td>3.665482</td>\n",
              "      <td>0.245117</td>\n",
              "      <td>0.867172</td>\n",
              "      <td>2.865546</td>\n",
              "      <td>0.493956</td>\n",
              "      <td>-5.148596</td>\n",
              "      <td>2.865546</td>\n",
              "      <td>3.499851</td>\n",
              "      <td>-0.630619</td>\n",
              "      <td>-0.978320</td>\n",
              "      <td>-0.888270</td>\n",
              "    </tr>\n",
              "    <tr>\n",
              "      <th>1</th>\n",
              "      <td>-4.824021</td>\n",
              "      <td>0.179509</td>\n",
              "      <td>-2.984473</td>\n",
              "      <td>1.033618</td>\n",
              "      <td>-3.893426</td>\n",
              "      <td>3.428734</td>\n",
              "      <td>-3.334605</td>\n",
              "      <td>1.033618</td>\n",
              "      <td>-0.882780</td>\n",
              "      <td>-0.753281</td>\n",
              "      <td>1.441522</td>\n",
              "      <td>-1.395514</td>\n",
              "      <td>-4.002880</td>\n",
              "      <td>1.441522</td>\n",
              "      <td>3.428734</td>\n",
              "      <td>0.339920</td>\n",
              "      <td>1.891538</td>\n",
              "      <td>-6.109676</td>\n",
              "    </tr>\n",
              "    <tr>\n",
              "      <th>2</th>\n",
              "      <td>1.389530</td>\n",
              "      <td>-0.226476</td>\n",
              "      <td>1.877400</td>\n",
              "      <td>2.713426</td>\n",
              "      <td>4.630257</td>\n",
              "      <td>0.516455</td>\n",
              "      <td>-3.743027</td>\n",
              "      <td>2.713426</td>\n",
              "      <td>1.284039</td>\n",
              "      <td>2.030797</td>\n",
              "      <td>-1.095536</td>\n",
              "      <td>1.560159</td>\n",
              "      <td>-1.014211</td>\n",
              "      <td>-1.095536</td>\n",
              "      <td>0.516455</td>\n",
              "      <td>-1.477845</td>\n",
              "      <td>0.960526</td>\n",
              "      <td>2.060204</td>\n",
              "    </tr>\n",
              "    <tr>\n",
              "      <th>3</th>\n",
              "      <td>1.145809</td>\n",
              "      <td>2.255946</td>\n",
              "      <td>0.207364</td>\n",
              "      <td>4.665817</td>\n",
              "      <td>2.294678</td>\n",
              "      <td>6.501306</td>\n",
              "      <td>0.964770</td>\n",
              "      <td>4.665817</td>\n",
              "      <td>0.119410</td>\n",
              "      <td>3.196354</td>\n",
              "      <td>1.894787</td>\n",
              "      <td>3.519138</td>\n",
              "      <td>-4.757807</td>\n",
              "      <td>1.894787</td>\n",
              "      <td>6.501306</td>\n",
              "      <td>-3.789029</td>\n",
              "      <td>0.579491</td>\n",
              "      <td>1.397106</td>\n",
              "    </tr>\n",
              "    <tr>\n",
              "      <th>4</th>\n",
              "      <td>-0.936646</td>\n",
              "      <td>3.697163</td>\n",
              "      <td>-3.363617</td>\n",
              "      <td>3.805126</td>\n",
              "      <td>-1.754430</td>\n",
              "      <td>4.954346</td>\n",
              "      <td>0.406605</td>\n",
              "      <td>3.805126</td>\n",
              "      <td>-0.824738</td>\n",
              "      <td>1.382591</td>\n",
              "      <td>1.665704</td>\n",
              "      <td>-0.649758</td>\n",
              "      <td>-3.513036</td>\n",
              "      <td>1.665704</td>\n",
              "      <td>4.954346</td>\n",
              "      <td>0.257052</td>\n",
              "      <td>0.904244</td>\n",
              "      <td>-3.071354</td>\n",
              "    </tr>\n",
              "  </tbody>\n",
              "</table>\n",
              "</div>"
            ],
            "text/plain": [
              "         v1        v2        v3  ...       v16       v17       v18\n",
              "0  0.068441  4.211842 -2.558302  ... -0.630619 -0.978320 -0.888270\n",
              "1 -4.824021  0.179509 -2.984473  ...  0.339920  1.891538 -6.109676\n",
              "2  1.389530 -0.226476  1.877400  ... -1.477845  0.960526  2.060204\n",
              "3  1.145809  2.255946  0.207364  ... -3.789029  0.579491  1.397106\n",
              "4 -0.936646  3.697163 -3.363617  ...  0.257052  0.904244 -3.071354\n",
              "\n",
              "[5 rows x 18 columns]"
            ]
          },
          "metadata": {
            "tags": []
          },
          "execution_count": 18
        }
      ]
    },
    {
      "cell_type": "code",
      "metadata": {
        "id": "s-ibdD2ZG7tm",
        "outputId": "f85b02f9-1289-4347-ecf5-d0b2ba73a845",
        "colab": {
          "base_uri": "https://localhost:8080/"
        }
      },
      "source": [
        "df_X.shape"
      ],
      "execution_count": null,
      "outputs": [
        {
          "output_type": "execute_result",
          "data": {
            "text/plain": [
              "(1000, 18)"
            ]
          },
          "metadata": {
            "tags": []
          },
          "execution_count": 19
        }
      ]
    },
    {
      "cell_type": "code",
      "metadata": {
        "id": "f9cqRaywa_TR",
        "outputId": "db612d0d-7ec6-495c-ed69-4b48d653fd84",
        "colab": {
          "base_uri": "https://localhost:8080/"
        }
      },
      "source": [
        "set(df_y['target'])"
      ],
      "execution_count": null,
      "outputs": [
        {
          "output_type": "execute_result",
          "data": {
            "text/plain": [
              "{0, 1}"
            ]
          },
          "metadata": {
            "tags": []
          },
          "execution_count": 20
        }
      ]
    },
    {
      "cell_type": "markdown",
      "metadata": {
        "id": "BN6jbpn6Iwmu"
      },
      "source": [
        "## Estatísticas Descritivas básicas do dataframe - df.describe()"
      ]
    },
    {
      "cell_type": "code",
      "metadata": {
        "id": "KlwhxxUNIyYs",
        "outputId": "8d06dab9-86f2-447a-ad02-4e03a714cad1",
        "colab": {
          "base_uri": "https://localhost:8080/",
          "height": 304
        }
      },
      "source": [
        "df_X.describe()"
      ],
      "execution_count": null,
      "outputs": [
        {
          "output_type": "execute_result",
          "data": {
            "text/html": [
              "<div>\n",
              "<style scoped>\n",
              "    .dataframe tbody tr th:only-of-type {\n",
              "        vertical-align: middle;\n",
              "    }\n",
              "\n",
              "    .dataframe tbody tr th {\n",
              "        vertical-align: top;\n",
              "    }\n",
              "\n",
              "    .dataframe thead th {\n",
              "        text-align: right;\n",
              "    }\n",
              "</style>\n",
              "<table border=\"1\" class=\"dataframe\">\n",
              "  <thead>\n",
              "    <tr style=\"text-align: right;\">\n",
              "      <th></th>\n",
              "      <th>v1</th>\n",
              "      <th>v2</th>\n",
              "      <th>v3</th>\n",
              "      <th>v4</th>\n",
              "      <th>v5</th>\n",
              "      <th>v6</th>\n",
              "      <th>v7</th>\n",
              "      <th>v8</th>\n",
              "      <th>v9</th>\n",
              "      <th>v10</th>\n",
              "      <th>v11</th>\n",
              "      <th>v12</th>\n",
              "      <th>v13</th>\n",
              "      <th>v14</th>\n",
              "      <th>v15</th>\n",
              "      <th>v16</th>\n",
              "      <th>v17</th>\n",
              "      <th>v18</th>\n",
              "    </tr>\n",
              "  </thead>\n",
              "  <tbody>\n",
              "    <tr>\n",
              "      <th>count</th>\n",
              "      <td>1000.000000</td>\n",
              "      <td>1000.000000</td>\n",
              "      <td>1000.000000</td>\n",
              "      <td>1000.000000</td>\n",
              "      <td>1000.000000</td>\n",
              "      <td>1000.000000</td>\n",
              "      <td>1000.000000</td>\n",
              "      <td>1000.000000</td>\n",
              "      <td>1000.000000</td>\n",
              "      <td>1000.000000</td>\n",
              "      <td>1000.000000</td>\n",
              "      <td>1000.000000</td>\n",
              "      <td>1000.000000</td>\n",
              "      <td>1000.000000</td>\n",
              "      <td>1000.000000</td>\n",
              "      <td>1000.000000</td>\n",
              "      <td>1000.000000</td>\n",
              "      <td>1000.000000</td>\n",
              "    </tr>\n",
              "    <tr>\n",
              "      <th>mean</th>\n",
              "      <td>-0.085159</td>\n",
              "      <td>1.034227</td>\n",
              "      <td>0.657408</td>\n",
              "      <td>1.405317</td>\n",
              "      <td>0.687279</td>\n",
              "      <td>1.131560</td>\n",
              "      <td>0.108053</td>\n",
              "      <td>1.405317</td>\n",
              "      <td>1.007023</td>\n",
              "      <td>1.048801</td>\n",
              "      <td>0.079248</td>\n",
              "      <td>0.001650</td>\n",
              "      <td>-0.365438</td>\n",
              "      <td>0.079248</td>\n",
              "      <td>1.131560</td>\n",
              "      <td>-0.027751</td>\n",
              "      <td>0.984606</td>\n",
              "      <td>0.633624</td>\n",
              "    </tr>\n",
              "    <tr>\n",
              "      <th>std</th>\n",
              "      <td>2.002247</td>\n",
              "      <td>1.631507</td>\n",
              "      <td>3.608772</td>\n",
              "      <td>2.256857</td>\n",
              "      <td>4.019598</td>\n",
              "      <td>4.481832</td>\n",
              "      <td>1.981307</td>\n",
              "      <td>2.256857</td>\n",
              "      <td>1.863288</td>\n",
              "      <td>1.643900</td>\n",
              "      <td>1.949273</td>\n",
              "      <td>1.932641</td>\n",
              "      <td>4.160668</td>\n",
              "      <td>1.949273</td>\n",
              "      <td>4.481832</td>\n",
              "      <td>2.065455</td>\n",
              "      <td>1.850593</td>\n",
              "      <td>3.552991</td>\n",
              "    </tr>\n",
              "    <tr>\n",
              "      <th>min</th>\n",
              "      <td>-6.944169</td>\n",
              "      <td>-4.620754</td>\n",
              "      <td>-16.300139</td>\n",
              "      <td>-6.235192</td>\n",
              "      <td>-12.454256</td>\n",
              "      <td>-14.305401</td>\n",
              "      <td>-6.152747</td>\n",
              "      <td>-6.235192</td>\n",
              "      <td>-5.484992</td>\n",
              "      <td>-3.293216</td>\n",
              "      <td>-7.135349</td>\n",
              "      <td>-5.705500</td>\n",
              "      <td>-9.120941</td>\n",
              "      <td>-7.135349</td>\n",
              "      <td>-14.305401</td>\n",
              "      <td>-6.009023</td>\n",
              "      <td>-5.035184</td>\n",
              "      <td>-11.439074</td>\n",
              "    </tr>\n",
              "    <tr>\n",
              "      <th>25%</th>\n",
              "      <td>-1.305566</td>\n",
              "      <td>-0.089052</td>\n",
              "      <td>-1.623657</td>\n",
              "      <td>-0.152888</td>\n",
              "      <td>-1.854645</td>\n",
              "      <td>-1.684751</td>\n",
              "      <td>-1.216983</td>\n",
              "      <td>-0.152888</td>\n",
              "      <td>-0.240908</td>\n",
              "      <td>-0.012710</td>\n",
              "      <td>-1.209675</td>\n",
              "      <td>-1.292162</td>\n",
              "      <td>-3.555363</td>\n",
              "      <td>-1.209675</td>\n",
              "      <td>-1.684751</td>\n",
              "      <td>-1.436673</td>\n",
              "      <td>-0.261610</td>\n",
              "      <td>-1.691346</td>\n",
              "    </tr>\n",
              "    <tr>\n",
              "      <th>50%</th>\n",
              "      <td>0.052523</td>\n",
              "      <td>0.994150</td>\n",
              "      <td>0.573849</td>\n",
              "      <td>1.449931</td>\n",
              "      <td>0.812364</td>\n",
              "      <td>1.281504</td>\n",
              "      <td>0.167091</td>\n",
              "      <td>1.449931</td>\n",
              "      <td>1.066125</td>\n",
              "      <td>1.012899</td>\n",
              "      <td>0.180344</td>\n",
              "      <td>0.035237</td>\n",
              "      <td>-0.966638</td>\n",
              "      <td>0.180344</td>\n",
              "      <td>1.281504</td>\n",
              "      <td>-0.000190</td>\n",
              "      <td>0.975793</td>\n",
              "      <td>0.844784</td>\n",
              "    </tr>\n",
              "    <tr>\n",
              "      <th>75%</th>\n",
              "      <td>1.383853</td>\n",
              "      <td>2.071995</td>\n",
              "      <td>3.038586</td>\n",
              "      <td>2.887141</td>\n",
              "      <td>3.413952</td>\n",
              "      <td>4.008103</td>\n",
              "      <td>1.438719</td>\n",
              "      <td>2.887141</td>\n",
              "      <td>2.288188</td>\n",
              "      <td>2.187202</td>\n",
              "      <td>1.439199</td>\n",
              "      <td>1.315342</td>\n",
              "      <td>2.745806</td>\n",
              "      <td>1.439199</td>\n",
              "      <td>4.008103</td>\n",
              "      <td>1.365369</td>\n",
              "      <td>2.256504</td>\n",
              "      <td>3.109330</td>\n",
              "    </tr>\n",
              "    <tr>\n",
              "      <th>max</th>\n",
              "      <td>4.997172</td>\n",
              "      <td>7.354860</td>\n",
              "      <td>11.720165</td>\n",
              "      <td>8.494566</td>\n",
              "      <td>12.844418</td>\n",
              "      <td>15.999803</td>\n",
              "      <td>6.293550</td>\n",
              "      <td>8.494566</td>\n",
              "      <td>8.146559</td>\n",
              "      <td>6.523180</td>\n",
              "      <td>6.252448</td>\n",
              "      <td>5.538216</td>\n",
              "      <td>11.259350</td>\n",
              "      <td>6.252448</td>\n",
              "      <td>15.999803</td>\n",
              "      <td>6.531561</td>\n",
              "      <td>7.646802</td>\n",
              "      <td>12.090528</td>\n",
              "    </tr>\n",
              "  </tbody>\n",
              "</table>\n",
              "</div>"
            ],
            "text/plain": [
              "                v1           v2  ...          v17          v18\n",
              "count  1000.000000  1000.000000  ...  1000.000000  1000.000000\n",
              "mean     -0.085159     1.034227  ...     0.984606     0.633624\n",
              "std       2.002247     1.631507  ...     1.850593     3.552991\n",
              "min      -6.944169    -4.620754  ...    -5.035184   -11.439074\n",
              "25%      -1.305566    -0.089052  ...    -0.261610    -1.691346\n",
              "50%       0.052523     0.994150  ...     0.975793     0.844784\n",
              "75%       1.383853     2.071995  ...     2.256504     3.109330\n",
              "max       4.997172     7.354860  ...     7.646802    12.090528\n",
              "\n",
              "[8 rows x 18 columns]"
            ]
          },
          "metadata": {
            "tags": []
          },
          "execution_count": 21
        }
      ]
    },
    {
      "cell_type": "markdown",
      "metadata": {
        "id": "N_QhFqyZOKFB"
      },
      "source": [
        "## Selecionar as amostras de treinamento e validação\n",
        "\n",
        "* Dividir os dados/amostras em:\n",
        "    * **Amostra de treinamento**: usado para treinar o modelo e otimizar os hiperparâmetros;\n",
        "    * **Amostra de teste**: usado para verificar se o modelo otimizado funciona em dados totalmente desconhecidos. É nesta amostra de teste que avaliamos a performance do modelo em termos de generalização (trabalhar com dados que não lhe foi apresentado);\n",
        "* **Técnica de Hold-Out**: Separar/dividir os dados em amostra de treinamento e teste. Geralmente usamos 70% da amostra para treinamento e 30% validação. Outras opções são usar os percentuais 80/20 ou 75/25 (default).\n",
        "    * **Desvatangem do Hold-Out**: Variância nos dados pode comprometer performance do modelo quando, por exemplo, amostra de treinamento é semelhante amostra de teste. \n",
        "* Consulte [sklearn.model_selection.train_test_split](https://scikit-learn.org/stable/modules/generated/sklearn.model_selection.train_test_split.html) para mais detalhes.\n"
      ]
    },
    {
      "cell_type": "code",
      "metadata": {
        "id": "8sKBgs-QOOfn"
      },
      "source": [
        "from sklearn.model_selection import train_test_split\n",
        "X_treinamento, X_teste, y_treinamento, y_teste = train_test_split(df_X, df_y, test_size = f_Test_Size, random_state = i_Seed)"
      ],
      "execution_count": null,
      "outputs": []
    },
    {
      "cell_type": "code",
      "metadata": {
        "id": "TPTKBBHgOpoA",
        "outputId": "2948cf55-c38b-499e-f584-ba102fb84d5c",
        "colab": {
          "base_uri": "https://localhost:8080/"
        }
      },
      "source": [
        "X_treinamento.shape"
      ],
      "execution_count": null,
      "outputs": [
        {
          "output_type": "execute_result",
          "data": {
            "text/plain": [
              "(700, 18)"
            ]
          },
          "metadata": {
            "tags": []
          },
          "execution_count": 23
        }
      ]
    },
    {
      "cell_type": "code",
      "metadata": {
        "id": "lEn_LLs2OtRI",
        "outputId": "98cf2d71-40b5-474c-e30d-cfe7468f8920",
        "colab": {
          "base_uri": "https://localhost:8080/"
        }
      },
      "source": [
        "y_treinamento.shape"
      ],
      "execution_count": null,
      "outputs": [
        {
          "output_type": "execute_result",
          "data": {
            "text/plain": [
              "(700, 1)"
            ]
          },
          "metadata": {
            "tags": []
          },
          "execution_count": 24
        }
      ]
    },
    {
      "cell_type": "code",
      "metadata": {
        "id": "_uAw8EcyOvrG",
        "outputId": "ada5d946-e73d-4fcd-e4da-5287b463a875",
        "colab": {
          "base_uri": "https://localhost:8080/"
        }
      },
      "source": [
        "X_teste.shape"
      ],
      "execution_count": null,
      "outputs": [
        {
          "output_type": "execute_result",
          "data": {
            "text/plain": [
              "(300, 18)"
            ]
          },
          "metadata": {
            "tags": []
          },
          "execution_count": 25
        }
      ]
    },
    {
      "cell_type": "code",
      "metadata": {
        "id": "A2LYI-9hOyXI",
        "outputId": "06ef3a8f-929f-42cf-d538-bcefa254fac0",
        "colab": {
          "base_uri": "https://localhost:8080/"
        }
      },
      "source": [
        "y_teste.shape"
      ],
      "execution_count": null,
      "outputs": [
        {
          "output_type": "execute_result",
          "data": {
            "text/plain": [
              "(300, 1)"
            ]
          },
          "metadata": {
            "tags": []
          },
          "execution_count": 26
        }
      ]
    },
    {
      "cell_type": "markdown",
      "metadata": {
        "id": "npgoBSX2dd4l"
      },
      "source": [
        "## Treinar o algoritmo com os dados de treinamento\n",
        "### Carregar os algoritmos/libraries"
      ]
    },
    {
      "cell_type": "code",
      "metadata": {
        "id": "hcvzrtolGfnQ",
        "outputId": "7994c7f4-c644-4ffe-ea58-d27f522e9576",
        "colab": {
          "base_uri": "https://localhost:8080/"
        }
      },
      "source": [
        "!pip install graphviz\n",
        "!pip install pydotplus"
      ],
      "execution_count": null,
      "outputs": [
        {
          "output_type": "stream",
          "text": [
            "Requirement already satisfied: graphviz in /usr/local/lib/python3.6/dist-packages (0.10.1)\n",
            "Requirement already satisfied: pydotplus in /usr/local/lib/python3.6/dist-packages (2.0.2)\n",
            "Requirement already satisfied: pyparsing>=2.0.1 in /usr/local/lib/python3.6/dist-packages (from pydotplus) (2.4.7)\n"
          ],
          "name": "stdout"
        }
      ]
    },
    {
      "cell_type": "code",
      "metadata": {
        "id": "v_pF-HH3JKL2"
      },
      "source": [
        "from sklearn.metrics import accuracy_score # para medir a acurácia do modelo preditivo\n",
        "#from sklearn.model_selection import train_test_split\n",
        "#from sklearn.metrics import classification_report\n",
        "from sklearn.metrics import confusion_matrix # para plotar a confusion matrix\n",
        "\n",
        "from sklearn.model_selection import GridSearchCV # para otimizar os hiperparâmetros dos modelos preditivos\n",
        "from sklearn.model_selection import cross_val_score # Para o CV (Cross-Validation)\n",
        "from sklearn.model_selection import cross_validate\n",
        "\n",
        "from time import time\n",
        "from operator import itemgetter\n",
        "from scipy.stats import randint\n",
        "\n",
        "from sklearn.tree import export_graphviz\n",
        "from sklearn.externals.six import StringIO  \n",
        "from IPython.display import Image  \n",
        "import pydotplus\n",
        "\n",
        "np.set_printoptions(suppress=True)"
      ],
      "execution_count": null,
      "outputs": []
    },
    {
      "cell_type": "markdown",
      "metadata": {
        "id": "YJMS9ePQ6B6t"
      },
      "source": [
        "**Atenção**: Para evitar overfitting nos algoritmos DecisionTreeClassifier, considere min_samples_split = 2 como default."
      ]
    },
    {
      "cell_type": "code",
      "metadata": {
        "id": "nNeRHYePJc-r"
      },
      "source": [
        "from sklearn.tree import DecisionTreeClassifier # Library para Decision Tree (Classificação)\n",
        "\n",
        "# Instancia (configuração do Decision Trees) com os hiperparâmetros sugeridos para se evitar overfitting:\n",
        "ml_DT = DecisionTreeClassifier(criterion = 'gini', \n",
        "                               splitter = 'best', \n",
        "                               max_depth = None, \n",
        "                               min_samples_split = 2, \n",
        "                               min_samples_leaf = 1, \n",
        "                               min_weight_fraction_leaf = 0.0, \n",
        "                               max_features = None, \n",
        "                               random_state = i_Seed, \n",
        "                               max_leaf_nodes = None, \n",
        "                               min_impurity_decrease = 0.0, \n",
        "                               min_impurity_split = None, \n",
        "                               class_weight = None, \n",
        "                               presort = False)"
      ],
      "execution_count": null,
      "outputs": []
    },
    {
      "cell_type": "code",
      "metadata": {
        "id": "gVLZznprx2YX",
        "outputId": "6266f184-5949-4f2d-eb76-7215f87f1b3a",
        "colab": {
          "base_uri": "https://localhost:8080/"
        }
      },
      "source": [
        "# Objeto/classificador configurado\n",
        "ml_DT"
      ],
      "execution_count": null,
      "outputs": [
        {
          "output_type": "execute_result",
          "data": {
            "text/plain": [
              "DecisionTreeClassifier(ccp_alpha=0.0, class_weight=None, criterion='gini',\n",
              "                       max_depth=None, max_features=None, max_leaf_nodes=None,\n",
              "                       min_impurity_decrease=0.0, min_impurity_split=None,\n",
              "                       min_samples_leaf=1, min_samples_split=2,\n",
              "                       min_weight_fraction_leaf=0.0, presort=False,\n",
              "                       random_state=20111974, splitter='best')"
            ]
          },
          "metadata": {
            "tags": []
          },
          "execution_count": 30
        }
      ]
    },
    {
      "cell_type": "markdown",
      "metadata": {
        "id": "8CC24H-JHhlj"
      },
      "source": [
        "### Treina o algoritmo: fit(df)"
      ]
    },
    {
      "cell_type": "code",
      "metadata": {
        "id": "OgAHfXVo-Nw8",
        "outputId": "a2c20323-1ef2-4491-fb19-4b96c370e04b",
        "colab": {
          "base_uri": "https://localhost:8080/"
        }
      },
      "source": [
        "ml_DT.fit(X_treinamento, y_treinamento)"
      ],
      "execution_count": null,
      "outputs": [
        {
          "output_type": "execute_result",
          "data": {
            "text/plain": [
              "DecisionTreeClassifier(ccp_alpha=0.0, class_weight=None, criterion='gini',\n",
              "                       max_depth=None, max_features=None, max_leaf_nodes=None,\n",
              "                       min_impurity_decrease=0.0, min_impurity_split=None,\n",
              "                       min_samples_leaf=1, min_samples_split=2,\n",
              "                       min_weight_fraction_leaf=0.0, presort=False,\n",
              "                       random_state=20111974, splitter='best')"
            ]
          },
          "metadata": {
            "tags": []
          },
          "execution_count": 31
        }
      ]
    },
    {
      "cell_type": "markdown",
      "metadata": {
        "id": "CNiRjmrRHVnx"
      },
      "source": [
        "### Valida o modelo com a amostra de treinamento"
      ]
    },
    {
      "cell_type": "code",
      "metadata": {
        "id": "2GMCSs89HquJ",
        "outputId": "cde08303-2def-4401-ecf7-dd3c45c393c1",
        "colab": {
          "base_uri": "https://localhost:8080/"
        }
      },
      "source": [
        "ml_DT.score(X_teste, y_teste)"
      ],
      "execution_count": null,
      "outputs": [
        {
          "output_type": "execute_result",
          "data": {
            "text/plain": [
              "0.94"
            ]
          },
          "metadata": {
            "tags": []
          },
          "execution_count": 32
        }
      ]
    },
    {
      "cell_type": "markdown",
      "metadata": {
        "id": "Bmv9YZobIer4"
      },
      "source": [
        "### Calcula as predições usando o modelo"
      ]
    },
    {
      "cell_type": "code",
      "metadata": {
        "id": "2YufZaRNIkFL"
      },
      "source": [
        "y_pred = ml_DT.predict(X_teste)"
      ],
      "execution_count": null,
      "outputs": []
    },
    {
      "cell_type": "markdown",
      "metadata": {
        "id": "fYvMN-tvIX-p"
      },
      "source": [
        "### Matriz de Confusão"
      ]
    },
    {
      "cell_type": "code",
      "metadata": {
        "id": "9iTK6pBwIZ3F",
        "outputId": "9345ea23-6691-446f-dead-d5c893bcc6c8",
        "colab": {
          "base_uri": "https://localhost:8080/",
          "height": 538
        }
      },
      "source": [
        "cf_matrix = confusion_matrix(y_teste, y_pred)\n",
        "cf_labels = ['True_Negative', 'False_Positive', 'False_Negative', 'True_Positive']\n",
        "cf_categories = ['Zero', 'One']\n",
        "mostra_confusion_matrix(cf_matrix, group_names= cf_labels, categories= cf_categories)"
      ],
      "execution_count": null,
      "outputs": [
        {
          "output_type": "display_data",
          "data": {
            "image/png": "[encoded data removed]",
            "text/plain": [
              "<Figure size 576x576 with 2 Axes>"
            ]
          },
          "metadata": {
            "tags": [],
            "needs_background": "light"
          }
        }
      ]
    },
    {
      "cell_type": "markdown",
      "metadata": {
        "id": "jOnkFBcEIVAb"
      },
      "source": [
        "### Volte ao início, extraia nova amostra e calcule a acurácia\n",
        "* Observou que a acurácia mudou? Isso acontece porque extraimos uma nova amostra de treinamento.\n",
        "* Quais os inconvenientes de termos uma métrica diferente para cada amostra do modelo preditivo?\n",
        "* Como reportar os resultados do seu modelo?\n",
        "* Como se assegurar acerca do valor mais ideal da métrica?\n",
        "    * use a Estatística a seu favor! --> Use Cross-Validation."
      ]
    },
    {
      "cell_type": "markdown",
      "metadata": {
        "id": "MkBSvyorGXQz"
      },
      "source": [
        "___\n",
        "# **CROSS-VALIDATION**\n",
        "* K-fold é o método de Cross-Validation (CV) mais conhecido e utilizado;\n",
        "* Como funciona: divide o dataframe de treinamento em k partes (cada parte é um fold);\n",
        "    * Usa k-1 partes para treinar o modelo e o restante para validar o modelo;\n",
        "    * O processo é repetido k vezes, sendo que em cada iteração calcula as métricas desejadas (exemplo: acurácia);\n",
        "    * Desta forma o modelo é treinado e testado com todas as partes dos dados;\n",
        "    * Ao final das k iterações, teremos k métricas das quais calculamos média e desvio-padrão.\n",
        "\n",
        " A figura abaixo nos ajuda a entender como funciona CV:\n",
        "\n",
        "![Cross-Validation](https://github.com/MathMachado/Materials/blob/master/CV2.PNG?raw=true)\n",
        "\n",
        "Source: [5 Reasons why you should use Cross-Validation in your Data Science Projects](https://towardsdatascience.com/5-reasons-why-you-should-use-cross-validation-in-your-data-science-project-8163311a1e79)\n",
        "\n",
        "* **valor de k**:\n",
        "    * valor de k (folds): entre 5 e 10 --> Não há regra geral para a escolha de k;\n",
        "    * Quanto maior o valor de k --> menor o viés do CV --> Experimento Estatístico para mostrar o efeito.\n",
        "\n",
        "[Applied Predictive Modeling, 2013](https://www.amazon.com/Applied-Predictive-Modeling-Max-Kuhn/dp/1461468485/ref=as_li_ss_tl?ie=UTF8&qid=1520380699&sr=8-1&keywords=applied+predictive+modeling&linkCode=sl1&tag=inspiredalgor-20&linkId=1af1f3de89c11e4a7fd49de2b05e5ebf)."
      ]
    },
    {
      "cell_type": "markdown",
      "metadata": {
        "id": "HscfN-a1V043"
      },
      "source": [
        "* **Vantagens do uso de CV**:\n",
        "    * Modelos com melhor acurácia;\n",
        "    * Melhor uso dos dados, pois todos os dados são utilizados como treinamento e validação. Portanto, qualquer problema com os dados serão encontrados nesta fase.\n",
        "\n",
        "* **Leitura Adicional**\n",
        "    * [Cross-Validation in Machine Learning](https://towardsdatascience.com/cross-validation-in-machine-learning-72924a69872f)\n",
        "    * [5 Reasons why you should use Cross-Validation in your Data Science Projects](https://towardsdatascience.com/5-reasons-why-you-should-use-cross-validation-in-your-data-science-project-8163311a1e79)\n",
        "    * [Cross-validation: evaluating estimator performance](https://scikit-learn.org/stable/modules/cross_validation.html)"
      ]
    },
    {
      "cell_type": "code",
      "metadata": {
        "id": "8x2UPwOYQPcI",
        "outputId": "7b9c4045-2257-4795-a54f-3305d2e97ab2",
        "colab": {
          "base_uri": "https://localhost:8080/"
        }
      },
      "source": [
        "# Cross-Validation com k = 10 folds (= 10 partes)\n",
        "a_scores_CV = funcao_cross_val_score(ml_DT, X_treinamento, y_treinamento, i_CV)"
      ],
      "execution_count": null,
      "outputs": [
        {
          "output_type": "stream",
          "text": [
            "Média das Acurácias calculadas pelo CV....: 91.43\n",
            "std médio das Acurácias calculadas pelo CV: 3.44\n"
          ],
          "name": "stdout"
        }
      ]
    },
    {
      "cell_type": "code",
      "metadata": {
        "id": "Uxoplcea0byV",
        "outputId": "0acecb3b-565d-4356-c46b-4c48da8268fb",
        "colab": {
          "base_uri": "https://localhost:8080/"
        }
      },
      "source": [
        "a_scores_CV # array com os scores a cada iteração do CV"
      ],
      "execution_count": null,
      "outputs": [
        {
          "output_type": "execute_result",
          "data": {
            "text/plain": [
              "array([0.9       , 0.98571429, 0.85714286, 0.92857143, 0.88571429,\n",
              "       0.94285714, 0.92857143, 0.9       , 0.88571429, 0.92857143])"
            ]
          },
          "metadata": {
            "tags": []
          },
          "execution_count": 36
        }
      ]
    },
    {
      "cell_type": "code",
      "metadata": {
        "id": "y3k-PcbN0o_i",
        "outputId": "0d4222a7-dee5-4468-8e58-9e3dccd8def1",
        "colab": {
          "base_uri": "https://localhost:8080/"
        }
      },
      "source": [
        "a_scores_CV.mean()"
      ],
      "execution_count": null,
      "outputs": [
        {
          "output_type": "execute_result",
          "data": {
            "text/plain": [
              "0.9142857142857144"
            ]
          },
          "metadata": {
            "tags": []
          },
          "execution_count": 37
        }
      ]
    },
    {
      "cell_type": "markdown",
      "metadata": {
        "id": "6_rYker2gzeG"
      },
      "source": [
        "**Interpretação**: Nosso classificador (DecisionTreeClassifier) tem uma acurácia média de 91,43% (base de treinamento). Além disso, o std é da ordem de 3,66%, ou seja, pequena. Vamos tentar melhorar a acurácia do classificador usando parameter tunning (GridSearchCV)."
      ]
    },
    {
      "cell_type": "code",
      "metadata": {
        "id": "tkwchmkP3p_A",
        "outputId": "11804dfc-d593-4d00-8b6b-b37d162d0bd6",
        "colab": {
          "base_uri": "https://localhost:8080/"
        }
      },
      "source": [
        "print(f'Acurácias: {a_scores_CV}')"
      ],
      "execution_count": null,
      "outputs": [
        {
          "output_type": "stream",
          "text": [
            "Acurácias: [0.9        0.98571429 0.85714286 0.92857143 0.88571429 0.94285714\n",
            " 0.92857143 0.9        0.88571429 0.92857143]\n"
          ],
          "name": "stdout"
        }
      ]
    },
    {
      "cell_type": "markdown",
      "metadata": {
        "id": "lQNyqHCiKRUh"
      },
      "source": [
        "### Valida o modelo com a amostra de treinamento"
      ]
    },
    {
      "cell_type": "code",
      "metadata": {
        "id": "Qb0ZPyvKKRUp",
        "outputId": "1785679f-fa54-4fe9-82f4-e9847374f950",
        "colab": {
          "base_uri": "https://localhost:8080/"
        }
      },
      "source": [
        "ml_DT.score(X_teste, y_teste)"
      ],
      "execution_count": null,
      "outputs": [
        {
          "output_type": "execute_result",
          "data": {
            "text/plain": [
              "0.94"
            ]
          },
          "metadata": {
            "tags": []
          },
          "execution_count": 39
        }
      ]
    },
    {
      "cell_type": "markdown",
      "metadata": {
        "id": "iL2tEdbqKY5P"
      },
      "source": [
        "### Predições com o modelo treinado\n",
        "* Faz predições usando o classificador (Decision Trees) para inferir na amostra de teste:"
      ]
    },
    {
      "cell_type": "code",
      "metadata": {
        "id": "sI31WkZs2ht_"
      },
      "source": [
        "y_pred = ml_DT.predict(X_teste)"
      ],
      "execution_count": null,
      "outputs": []
    },
    {
      "cell_type": "code",
      "metadata": {
        "id": "rfapj3OG13PG",
        "outputId": "367c435b-c3b9-49a5-b78f-7c03042e7da0",
        "colab": {
          "base_uri": "https://localhost:8080/"
        }
      },
      "source": [
        "y_pred[0:30]"
      ],
      "execution_count": null,
      "outputs": [
        {
          "output_type": "execute_result",
          "data": {
            "text/plain": [
              "array([1, 1, 0, 0, 0, 1, 1, 0, 0, 0, 1, 0, 1, 0, 0, 1, 1, 1, 0, 0, 0, 0,\n",
              "       1, 0, 0, 1, 1, 0, 1, 1])"
            ]
          },
          "metadata": {
            "tags": []
          },
          "execution_count": 41
        }
      ]
    },
    {
      "cell_type": "code",
      "metadata": {
        "id": "sc88ofqh16RT",
        "outputId": "05a0fb74-4512-445b-9d76-0f6589d18541",
        "colab": {
          "base_uri": "https://localhost:8080/"
        }
      },
      "source": [
        "y[0:30]"
      ],
      "execution_count": null,
      "outputs": [
        {
          "output_type": "execute_result",
          "data": {
            "text/plain": [
              "array([1, 1, 1, 1, 1, 0, 0, 1, 0, 1, 0, 0, 0, 1, 1, 1, 0, 0, 0, 0, 0, 1,\n",
              "       1, 1, 0, 1, 0, 1, 0, 1])"
            ]
          },
          "metadata": {
            "tags": []
          },
          "execution_count": 42
        }
      ]
    },
    {
      "cell_type": "markdown",
      "metadata": {
        "id": "Cecv-51TKgz-"
      },
      "source": [
        "### Matriz de Confusão"
      ]
    },
    {
      "cell_type": "code",
      "metadata": {
        "id": "fSaVzJ9xFpwW",
        "outputId": "053c1abb-ef0b-479e-a770-738d4691538f",
        "colab": {
          "base_uri": "https://localhost:8080/",
          "height": 538
        }
      },
      "source": [
        "cf_matrix = confusion_matrix(y_teste, y_pred)\n",
        "cf_labels = ['True_Negative', 'False_Positive', 'False_Negative', 'True_Positive']\n",
        "cf_categories = ['Zero', 'One']\n",
        "mostra_confusion_matrix(cf_matrix, group_names= cf_labels, categories= cf_categories)"
      ],
      "execution_count": null,
      "outputs": [
        {
          "output_type": "display_data",
          "data": {
            "image/png": "[encoded data removed]",
            "text/plain": [
              "<Figure size 576x576 with 2 Axes>"
            ]
          },
          "metadata": {
            "tags": [],
            "needs_background": "light"
          }
        }
      ]
    },
    {
      "cell_type": "markdown",
      "metadata": {
        "id": "p8D975NqsGtj"
      },
      "source": [
        "## Parameter tunning\n",
        "### Referência\n",
        "* [Hyperparameter Tuning the Random Forest in Python](https://towardsdatascience.com/hyperparameter-tuning-the-random-forest-in-python-using-scikit-learn-28d2aa77dd74)\n",
        "* [Decision Tree Adventures 2 — Explanation of Decision Tree Classifier Parameters](https://medium.com/datadriveninvestor/decision-tree-adventures-2-explanation-of-decision-tree-classifier-parameters-84776f39a28) - Explica didaticamente e step by step como fazer parameter tunning."
      ]
    },
    {
      "cell_type": "code",
      "metadata": {
        "id": "Bfdq5zEhlVsk"
      },
      "source": [
        "# Dicionário com hiperparâmetros para o parameter tunning:\n",
        "d_hiperparametros_DT = {\"criterion\": [\"gini\", \"entropy\"], \n",
        "                   \"min_samples_split\": [2, 5, 10, 270, 350, 400], \n",
        "                   \"max_depth\": [None, 2, 5, 9, 15], \n",
        "                   \"min_samples_leaf\": [20, 40, 100], \n",
        "                   \"max_leaf_nodes\": [None, 2, 3, 15]}"
      ],
      "execution_count": null,
      "outputs": []
    },
    {
      "cell_type": "code",
      "metadata": {
        "id": "BtajXuuUpGwq",
        "outputId": "020d97bf-4940-406e-8fb3-23c8b09018a5",
        "colab": {
          "base_uri": "https://localhost:8080/"
        }
      },
      "source": [
        "d_hiperparametros_DT"
      ],
      "execution_count": null,
      "outputs": [
        {
          "output_type": "execute_result",
          "data": {
            "text/plain": [
              "{'criterion': ['gini', 'entropy'],\n",
              " 'max_depth': [None, 2, 5, 9, 15],\n",
              " 'max_leaf_nodes': [None, 2, 3, 15],\n",
              " 'min_samples_leaf': [20, 40, 100],\n",
              " 'min_samples_split': [2, 5, 10, 270, 350, 400]}"
            ]
          },
          "metadata": {
            "tags": []
          },
          "execution_count": 45
        }
      ]
    },
    {
      "cell_type": "markdown",
      "metadata": {
        "id": "H8gNSs0G0A-L"
      },
      "source": [
        "```\n",
        "grid_search = GridSearchCV(ml_DT, param_grid= d_hiperparametros_DT, cv = i_CV, n_jobs= -1)\n",
        "start = time()\n",
        "grid_search.fit(X_treinamento, y_treinamento)\n",
        "tempo_elapsed= time()-start\n",
        "print(f\"\\nGridSearchCV levou {tempo_elapsed:.2f} segundos para estimar {len(grid_search.cv_results_)} modelos candidatos\")\n",
        "\n",
        "GridSearchCV levou 1999.12 segundos para estimar 23 modelos candidatos\n",
        "```\n",
        "\n"
      ]
    },
    {
      "cell_type": "code",
      "metadata": {
        "id": "44-BRnNjBT25",
        "outputId": "e8547d4f-1eff-42e2-aa2a-9e8735f2a997",
        "colab": {
          "base_uri": "https://localhost:8080/",
          "height": 1000
        }
      },
      "source": [
        "# Invoca a função com o modelo baseline\n",
        "ml_DT2, best_params = GridSearchOptimizer(ml_DT, 'ml_DT2', d_hiperparametros_DT, X_treinamento, y_treinamento, X_teste, y_teste, i_CV, l_colunas)"
      ],
      "execution_count": null,
      "outputs": [
        {
          "output_type": "stream",
          "text": [
            "Fitting 10 folds for each of 720 candidates, totalling 7200 fits\n"
          ],
          "name": "stdout"
        },
        {
          "output_type": "stream",
          "text": [
            "[Parallel(n_jobs=-1)]: Using backend LokyBackend with 2 concurrent workers.\n",
            "[Parallel(n_jobs=-1)]: Done   1 tasks      | elapsed:    1.5s\n",
            "[Parallel(n_jobs=-1)]: Done   4 tasks      | elapsed:    1.6s\n",
            "[Parallel(n_jobs=-1)]: Done   9 tasks      | elapsed:    1.6s\n",
            "[Parallel(n_jobs=-1)]: Done  14 tasks      | elapsed:    1.7s\n",
            "[Parallel(n_jobs=-1)]: Batch computation too fast (0.1995s.) Setting batch_size=2.\n",
            "[Parallel(n_jobs=-1)]: Batch computation too fast (0.0662s.) Setting batch_size=4.\n",
            "[Parallel(n_jobs=-1)]: Done  24 tasks      | elapsed:    1.8s\n",
            "[Parallel(n_jobs=-1)]: Batch computation too fast (0.0940s.) Setting batch_size=8.\n",
            "[Parallel(n_jobs=-1)]: Batch computation too fast (0.1391s.) Setting batch_size=16.\n",
            "[Parallel(n_jobs=-1)]: Done  58 tasks      | elapsed:    2.0s\n",
            "[Parallel(n_jobs=-1)]: Done 186 tasks      | elapsed:    2.9s\n",
            "[Parallel(n_jobs=-1)]: Done 330 tasks      | elapsed:    3.8s\n",
            "[Parallel(n_jobs=-1)]: Done 506 tasks      | elapsed:    4.9s\n",
            "[Parallel(n_jobs=-1)]: Done 682 tasks      | elapsed:    6.0s\n",
            "[Parallel(n_jobs=-1)]: Done 890 tasks      | elapsed:    7.3s\n",
            "[Parallel(n_jobs=-1)]: Done 1098 tasks      | elapsed:    8.5s\n",
            "[Parallel(n_jobs=-1)]: Done 1338 tasks      | elapsed:   10.0s\n",
            "[Parallel(n_jobs=-1)]: Done 1578 tasks      | elapsed:   11.5s\n",
            "[Parallel(n_jobs=-1)]: Done 1850 tasks      | elapsed:   13.2s\n",
            "[Parallel(n_jobs=-1)]: Done 2122 tasks      | elapsed:   15.0s\n",
            "[Parallel(n_jobs=-1)]: Done 2426 tasks      | elapsed:   16.7s\n",
            "[Parallel(n_jobs=-1)]: Done 2730 tasks      | elapsed:   18.5s\n",
            "[Parallel(n_jobs=-1)]: Done 3066 tasks      | elapsed:   20.4s\n",
            "[Parallel(n_jobs=-1)]: Done 3402 tasks      | elapsed:   22.3s\n",
            "[Parallel(n_jobs=-1)]: Done 3770 tasks      | elapsed:   24.8s\n",
            "[Parallel(n_jobs=-1)]: Done 4138 tasks      | elapsed:   27.4s\n",
            "[Parallel(n_jobs=-1)]: Done 4538 tasks      | elapsed:   30.2s\n",
            "[Parallel(n_jobs=-1)]: Done 4938 tasks      | elapsed:   32.9s\n",
            "[Parallel(n_jobs=-1)]: Done 5370 tasks      | elapsed:   35.8s\n",
            "[Parallel(n_jobs=-1)]: Done 5802 tasks      | elapsed:   38.9s\n",
            "[Parallel(n_jobs=-1)]: Done 6266 tasks      | elapsed:   42.2s\n",
            "[Parallel(n_jobs=-1)]: Done 6730 tasks      | elapsed:   45.5s\n",
            "[Parallel(n_jobs=-1)]: Done 7181 tasks      | elapsed:   48.8s\n",
            "[Parallel(n_jobs=-1)]: Done 7200 out of 7200 | elapsed:   49.0s finished\n"
          ],
          "name": "stderr"
        },
        {
          "output_type": "stream",
          "text": [
            "\n",
            "GridSearchCV levou 49.12 segundos.\n",
            "\n",
            "Hiperparâmetros otimizados: {'criterion': 'entropy', 'max_depth': 5, 'max_leaf_nodes': None, 'min_samples_leaf': 20, 'min_samples_split': 2}\n",
            "\n",
            "DecisionTreeClassifier *********************************************************************************************************\n",
            "\n",
            "********* CROSS-VALIDATION ***********\n",
            "Média das Acurácias calculadas pelo CV....: 91.14\n",
            "std médio das Acurácias calculadas pelo CV: 3.25\n",
            "\n",
            "********* IMPORTÂNCIA DAS COLUNAS ***********\n",
            "   coluna  importancia\n",
            "12    v13     0.552335\n",
            "0      v1     0.116321\n",
            "6      v7     0.074047\n",
            "9     v10     0.069885\n",
            "11    v12     0.058293\n",
            "1      v2     0.040086\n",
            "8      v9     0.028917\n",
            "16    v17     0.020542\n",
            "2      v3     0.017079\n",
            "7      v8     0.011940\n",
            "13    v14     0.010556\n",
            "4      v5     0.000000\n",
            "5      v6     0.000000\n",
            "3      v4     0.000000\n",
            "10    v11     0.000000\n",
            "14    v15     0.000000\n",
            "15    v16     0.000000\n",
            "17    v18     0.000000\n",
            "\n",
            "********* CONFUSION MATRIX - PARAMETER TUNNING ***********\n"
          ],
          "name": "stdout"
        },
        {
          "output_type": "display_data",
          "data": {
            "image/png": "[encoded data removed]",
            "text/plain": [
              "<Figure size 576x576 with 2 Axes>"
            ]
          },
          "metadata": {
            "tags": [],
            "needs_background": "light"
          }
        }
      ]
    },
    {
      "cell_type": "markdown",
      "metadata": {
        "id": "gmCkjGjPJMLr"
      },
      "source": [
        "### Visualizar o resultado"
      ]
    },
    {
      "cell_type": "code",
      "metadata": {
        "id": "cIc3ZgaISEd0",
        "outputId": "2e2b5d3c-2aea-4c2f-ec7a-1d37b4f41eb7",
        "colab": {
          "base_uri": "https://localhost:8080/",
          "height": 623
        }
      },
      "source": [
        "from sklearn.tree import export_graphviz\n",
        "from sklearn.externals.six import StringIO  \n",
        "from IPython.display import Image  \n",
        "import pydotplus\n",
        "\n",
        "dot_data = StringIO()\n",
        "export_graphviz(ml_DT2, out_file = dot_data, filled = True, rounded = True, special_characters = True, feature_names = l_colunas, class_names = ['0','1'])\n",
        "\n",
        "graph = pydotplus.graph_from_dot_data(dot_data.getvalue())  \n",
        "graph.write_png('DecisionTree.png')\n",
        "Image(graph.create_png())"
      ],
      "execution_count": null,
      "outputs": [
        {
          "output_type": "execute_result",
          "data": {
            "image/png": "[encoded data removed]",
            "text/plain": [
              "<IPython.core.display.Image object>"
            ]
          },
          "metadata": {
            "tags": []
          },
          "execution_count": 47
        }
      ]
    },
    {
      "cell_type": "markdown",
      "metadata": {
        "id": "e1R2GBkbnV37"
      },
      "source": [
        "## Selecionar as COLUNAS importantes/relevantes"
      ]
    },
    {
      "cell_type": "code",
      "metadata": {
        "id": "ukMLoEr7nbUf",
        "outputId": "4fc221e2-0c35-4669-ddf4-7cba982106c7",
        "colab": {
          "base_uri": "https://localhost:8080/"
        }
      },
      "source": [
        "X_treinamento_DT, X_teste_DT = seleciona_colunas_relevantes(ml_DT2, X_treinamento, X_teste)"
      ],
      "execution_count": null,
      "outputs": [
        {
          "output_type": "stream",
          "text": [
            "\n",
            "********** COLUNAS Relevantes ******\n",
            "[ 0  6  9 11 12]\n"
          ],
          "name": "stdout"
        }
      ]
    },
    {
      "cell_type": "markdown",
      "metadata": {
        "id": "xSDB20yWOrH1"
      },
      "source": [
        "### Importância das variáveis pelo modelo.feature_importances_"
      ]
    },
    {
      "cell_type": "code",
      "metadata": {
        "id": "WJbGcEeqOFRQ",
        "outputId": "ce97e5d9-f6ec-48f0-f214-e01f5b24c471",
        "colab": {
          "base_uri": "https://localhost:8080/",
          "height": 162
        }
      },
      "source": [
        "ml_RF3.feature_importances_"
      ],
      "execution_count": null,
      "outputs": [
        {
          "output_type": "error",
          "ename": "NameError",
          "evalue": "ignored",
          "traceback": [
            "\u001b[0;31m---------------------------------------------------------------------------\u001b[0m",
            "\u001b[0;31mNameError\u001b[0m                                 Traceback (most recent call last)",
            "\u001b[0;32m<ipython-input-49-78c56e8b5aa3>\u001b[0m in \u001b[0;36m<module>\u001b[0;34m()\u001b[0m\n\u001b[0;32m----> 1\u001b[0;31m \u001b[0mml_RF3\u001b[0m\u001b[0;34m.\u001b[0m\u001b[0mfeature_importances_\u001b[0m\u001b[0;34m\u001b[0m\u001b[0;34m\u001b[0m\u001b[0m\n\u001b[0m",
            "\u001b[0;31mNameError\u001b[0m: name 'ml_RF3' is not defined"
          ]
        }
      ]
    },
    {
      "cell_type": "markdown",
      "metadata": {
        "id": "8JjePRQAoqkk"
      },
      "source": [
        "## Treina o classificador com as COLUNAS relevantes"
      ]
    },
    {
      "cell_type": "code",
      "metadata": {
        "id": "Gt3aCPpfKRxm"
      },
      "source": [
        "best_params"
      ],
      "execution_count": null,
      "outputs": []
    },
    {
      "cell_type": "code",
      "metadata": {
        "id": "zq6uCVtzovMt"
      },
      "source": [
        "# Treina usando as COLUNAS relevantes...\n",
        "ml_DT2.fit(X_treinamento_DT, y_treinamento)"
      ],
      "execution_count": null,
      "outputs": []
    },
    {
      "cell_type": "code",
      "metadata": {
        "id": "M2h3EpinRD5Q"
      },
      "source": [
        "# Cross-Validation com 10 folds\n",
        "a_scores_CV = funcao_cross_val_score(ml_DT2, X_treinamento, y_treinamento, i_CV)"
      ],
      "execution_count": null,
      "outputs": []
    },
    {
      "cell_type": "code",
      "metadata": {
        "id": "znWy3LE1q-Z3"
      },
      "source": [
        "ml_DT3, best_params2 = GridSearchOptimizer(ml_DT2, 'ml_DT2', d_hiperparametros_DT, X_treinamento_DT, y_treinamento, X_teste_DT, y_teste, i_CV, l_colunas)"
      ],
      "execution_count": null,
      "outputs": []
    },
    {
      "cell_type": "code",
      "metadata": {
        "id": "6IhCC6pfq-jL"
      },
      "source": [
        "best_params"
      ],
      "execution_count": null,
      "outputs": []
    },
    {
      "cell_type": "code",
      "metadata": {
        "id": "qw6Dk3kesT0q"
      },
      "source": [
        "best_params2"
      ],
      "execution_count": null,
      "outputs": []
    },
    {
      "cell_type": "code",
      "metadata": {
        "id": "YFoK1ZGrRHf3"
      },
      "source": [
        "# Cross-Validation com 10 folds\n",
        "a_scores_CV = funcao_cross_val_score(ml_DT3, X_treinamento_DT, y_treinamento, i_CV)"
      ],
      "execution_count": null,
      "outputs": []
    },
    {
      "cell_type": "markdown",
      "metadata": {
        "id": "MZ1-vGRcxJoN"
      },
      "source": [
        "## Valida o modelo usando o dataframe X_teste"
      ]
    },
    {
      "cell_type": "code",
      "metadata": {
        "id": "ig9GiUAEw9jr"
      },
      "source": [
        "y_pred_DT = ml_DT2.predict(X_teste_DT)"
      ],
      "execution_count": null,
      "outputs": []
    },
    {
      "cell_type": "code",
      "metadata": {
        "id": "7UZz4UzHDqae"
      },
      "source": [
        "# Calcula acurácia\n",
        "accuracy_score(y_teste, y_pred_DT)"
      ],
      "execution_count": null,
      "outputs": []
    },
    {
      "cell_type": "markdown",
      "metadata": {
        "id": "K3EUMAxxKBur"
      },
      "source": [
        "___\n",
        "# **RANDOM FOREST**\n",
        "* Decision Trees possuem estrutura em forma de árvores.\n",
        "* Random Forest pode ser utilizado tanto para classificação (RandomForestClassifier) quanto para Regressão (RandomForestRegressor);\n",
        "* Os nós da árvore são criados a partir das variáveis do dataframe;\n",
        "\n",
        "* **Vantagens**:\n",
        "    * Não requer tanto data preprocessing;\n",
        "    * Lida bem com COLUNAS categóricas e numéricas;\n",
        "    * Apresenta bons resultados em diversos tipos de problema;\n",
        "    * Estes modelos aprendem com os próprios erros e ajustam as árvores de modo a fazer melhores classificações;\n",
        "        * Ensemble é a combinação de diferentes modelos preditivos;\n",
        "        * Torna os algoritmos/resultados mais robustos e complexos, levando a um maior custo computacional que costuma ser acompanhando de melhores resultados.\n",
        "    * Mais robusta que uma simples Decision Tree. **Porque?**\n",
        "    * Controla automaticamente overfitting (**porque?**) e frequentemente produz modelos muito robustos e de alta-performance.\n",
        "    * Pode ser utilizado como **Feature Selection**, pois gera a matriz de importância dos atributos (importance sample). \n",
        "        * A soma das importâncias das variáveis soma 100;\n",
        "    * Assim como as Decision Trees, esses modelos capturam facilmente padrões não-lineares presentes nos dados;\n",
        "    * Não requer dados normalizados;\n",
        "    * Lida bem com Missing Values;\n",
        "    * Não requer suposições (assumptions) sobre a distribuição dos dados por causa da natureza não-paramétrica do algoritmo;\n",
        "\n",
        "* **Desvantagens/Cuidados**\n",
        "    * **Recomenda-se balancear o dataframe previamente**.\n",
        "\n",
        "* **Principais Hiperparâmetros**\n",
        "\n",
        "## **Referências**:\n",
        "* [Running Random Forests? Inspect the feature importances with this code](https://towardsdatascience.com/running-random-forests-inspect-the-feature-importances-with-this-code-2b00dd72b92e)\n",
        "* [Feature importances with forests of trees](https://scikit-learn.org/stable/auto_examples/ensemble/plot_forest_importances.html)\n",
        "* [Understanding Random Forests Classifiers in Python](https://www.datacamp.com/community/tutorials/random-forests-classifier-python)\n",
        "* [Understanding Random Forest](https://towardsdatascience.com/understanding-random-forest-58381e0602d2)\n",
        "* [An Implementation and Explanation of the Random Forest in Python](https://towardsdatascience.com/an-implementation-and-explanation-of-the-random-forest-in-python-77bf308a9b76)\n",
        "* [Random Forest Simple Explanation](https://medium.com/@williamkoehrsen/random-forest-simple-explanation-377895a60d2d)\n",
        "* [Random Forest Explained](https://www.youtube.com/watch?v=eM4uJ6XGnSM)\n",
        "* [Hyperparameter Tuning the Random Forest in Python](https://towardsdatascience.com/hyperparameter-tuning-the-random-forest-in-python-using-scikit-learn-28d2aa77dd74) - Explica os principais hiperparâmetros do Random Forest."
      ]
    },
    {
      "cell_type": "markdown",
      "metadata": {
        "id": "CMQt5wiw1tt8"
      },
      "source": [
        "### Como funciona?\n",
        "\n",
        "O algoritmo possui 4 passos:\n",
        "1. Seleção aleatória de algumas features;\n",
        "2. Seleção da feature mais adequada para a posição de nó raiz;\n",
        "3. Geração dos nós filhos\n",
        "4. Repete os passos acima até que se atinja a quantidade de árvores desejada.\n",
        "\n",
        "**Observação**: Depois que o modelo é gerado, as previsões são feitas a partir de “votações” das várias árvores. A decisão mais votada é a resposta do algoritmo."
      ]
    },
    {
      "cell_type": "markdown",
      "metadata": {
        "id": "VLGqtjs42zkN"
      },
      "source": [
        "![DecisionTree](https://github.com/MathMachado/Materials/blob/master/DecisionTree.PNG?raw=true)\n",
        "\n",
        "Fonte: [Um tutorial completo sobre modelagem baseada em árvores de decisão (códigos R e Python)](https://www.vooo.pro/insights/um-tutorial-completo-sobre-a-modelagem-baseada-em-tree-arvore-do-zero-em-r-python/)"
      ]
    },
    {
      "cell_type": "markdown",
      "metadata": {
        "id": "HaUjVgEd2rzU"
      },
      "source": [
        "![](![image.png](data:image/png;base64,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))"
      ]
    },
    {
      "cell_type": "markdown",
      "metadata": {
        "id": "r0s2vixBzFAR"
      },
      "source": [
        "### Principais hiperparâmetros\n",
        "* [Hyperparameter Tuning the Random Forest in Python](https://towardsdatascience.com/hyperparameter-tuning-the-random-forest-in-python-using-scikit-learn-28d2aa77dd74) - Explica os principais hiperparâmetros do Random Forest.\n",
        "\n",
        "    * n_estimators: especifica o número de árvores. O valor default é 10, o que significa que 10 diferentes modelos de DecisionTrees serão ajustadas;\n",
        "    * max_depth: especifica a profundidade máxima de cada árvore. O valor default é None, o que significa que cada árvore se expandirá até que cada folha esteja pura. Uma folha pura é aquela em que todos os dados da folha vêm da mesma classe;\n",
        "    * min_samples_split: especifica o número mínimo de amostras necessárias para dividir um nó filho. O valor default é 2, o que significa que um nó filho deve ter pelo menos duas amostras antes de ser dividido;\n",
        "    * min_samples_leaf: especifica o número mínimo de amostras necessárias para estar em um nó folha. O valor default é 1, o que significa que cada folha deve ter pelo menos 1 amostra para classificar."
      ]
    },
    {
      "cell_type": "code",
      "metadata": {
        "id": "rp1e0atD_gXN"
      },
      "source": [
        "X_treinamento.shape"
      ],
      "execution_count": null,
      "outputs": []
    },
    {
      "cell_type": "code",
      "metadata": {
        "id": "KxIGuaRZ_ivJ"
      },
      "source": [
        "X_treinamento.head()"
      ],
      "execution_count": null,
      "outputs": []
    },
    {
      "cell_type": "code",
      "metadata": {
        "id": "cnfDw_GEKBuu"
      },
      "source": [
        "# Carregamento da library:\n",
        "from sklearn.ensemble import RandomForestClassifier # Para resolver problemas de classificação\n",
        "\n",
        "# Instancia...\n",
        "ml_RF = RandomForestClassifier(n_estimators = 100, min_samples_split = 2, max_features = \"auto\", random_state = i_Seed)\n",
        "\n",
        "# Treina...\n",
        "ml_RF.fit(X_treinamento, y_treinamento)"
      ],
      "execution_count": null,
      "outputs": []
    },
    {
      "cell_type": "code",
      "metadata": {
        "id": "E25BIxM0RTzs"
      },
      "source": [
        "# Cross-Validation com 10 folds\n",
        "a_scores_CV = funcao_cross_val_score(ml_RF, X_treinamento, y_treinamento, i_CV)"
      ],
      "execution_count": null,
      "outputs": []
    },
    {
      "cell_type": "markdown",
      "metadata": {
        "id": "FDsj9bJ0BCk6"
      },
      "source": [
        "### Avaliar a distribuição da variável-resposta: $y$\n",
        "* A classe minoritária é muito abaixo da classe majoritária?"
      ]
    },
    {
      "cell_type": "code",
      "metadata": {
        "id": "SSDy4vwoBx8H"
      },
      "source": [
        "X_treinamento.shape[0]"
      ],
      "execution_count": null,
      "outputs": []
    },
    {
      "cell_type": "code",
      "metadata": {
        "id": "68-p5HaHARqY"
      },
      "source": [
        "y_treinamento['target'].value_counts() # Apresentar em forma %"
      ],
      "execution_count": null,
      "outputs": []
    },
    {
      "cell_type": "markdown",
      "metadata": {
        "id": "23Zv-Oc-CQIj"
      },
      "source": [
        "### Avaliar quantas linhas para cada preditora"
      ]
    },
    {
      "cell_type": "code",
      "metadata": {
        "id": "8F2ELvqdCXAR"
      },
      "source": [
        "X_treinamento.shape[0]/X_treinamento.shape[1]"
      ],
      "execution_count": null,
      "outputs": []
    },
    {
      "cell_type": "markdown",
      "metadata": {
        "id": "x7Ql5N4gCm5u"
      },
      "source": [
        "Temos 38 linhas para cada preditora do X_treinamento. O ideal são 50 linhas/observações para cada preditora."
      ]
    },
    {
      "cell_type": "markdown",
      "metadata": {
        "id": "AouWUu8vANdb"
      },
      "source": [
        "**Interpretação**: Nosso classificador (RandomForestClassifier) tem uma acurácia média de 96,44% (base de treinamento). Além disso, o std é da ordem de 2,77%, ou seja, pequena. Vamos tentar melhorar a acurácia do classificador usando parameter tunning (GridSearchCV)."
      ]
    },
    {
      "cell_type": "code",
      "metadata": {
        "id": "vbducxlgAa85"
      },
      "source": [
        "print(f'Acurácias: {a_scores_CV}')"
      ],
      "execution_count": null,
      "outputs": []
    },
    {
      "cell_type": "code",
      "metadata": {
        "id": "_lxx-LUw_5sd"
      },
      "source": [
        "# Faz predições...\n",
        "y_pred = ml_RF.predict(X_teste)"
      ],
      "execution_count": null,
      "outputs": []
    },
    {
      "cell_type": "code",
      "metadata": {
        "id": "pQIRO_LpGAkw"
      },
      "source": [
        "# Confusion Matrix\n",
        "cf_matrix = confusion_matrix(y_teste, y_pred)\n",
        "cf_labels = ['True_Negative','False_Positive','False_Negative','True_Positive']\n",
        "cf_categories = ['Zero', 'One']\n",
        "mostra_confusion_matrix(cf_matrix, group_names= cf_labels, categories= cf_categories)"
      ],
      "execution_count": null,
      "outputs": []
    },
    {
      "cell_type": "markdown",
      "metadata": {
        "id": "yKLHZ5_C6FJ8"
      },
      "source": [
        "## Parameter tunning\n",
        "### Referência\n",
        "* [Hyperparameter Tuning the Random Forest in Python](https://towardsdatascience.com/hyperparameter-tuning-the-random-forest-in-python-using-scikit-learn-28d2aa77dd74)\n",
        "* [Decision Tree Adventures 2 — Explanation of Decision Tree Classifier Parameters](https://medium.com/datadriveninvestor/decision-tree-adventures-2-explanation-of-decision-tree-classifier-parameters-84776f39a28) - Explica didaticamente e step by step como fazer parameter tunning.\n",
        "* [Optimizing Hyperparameters in Random Forest Classification](https://towardsdatascience.com/optimizing-hyperparameters-in-random-forest-classification-ec7741f9d3f6) - Outro approach para entender parameter tunning. Recomendo fortemente a leitura!\n",
        "* [A Beginner’s Guide to Random Forest Hyperparameter Tuning](https://www.analyticsvidhya.com/blog/2020/03/beginners-guide-random-forest-hyperparameter-tuning/) "
      ]
    },
    {
      "cell_type": "code",
      "metadata": {
        "id": "XOa9naju6FKA"
      },
      "source": [
        "# Dicionário de Hiperparâmetros para o parameter tunning.\n",
        "d_hiperparametros_RF= {'bootstrap': [True, False],\n",
        "                       'max_depth': [10, 20, 30, 40, 50, 70, 90, 100, None],\n",
        "                       'max_features': ['auto', 'sqrt'],\n",
        "                       'min_samples_leaf': [1, 2, 4],\n",
        "                       'min_samples_split': [2, 5, 10],\n",
        "                       'n_estimators': [200, 400, 600, 800, 1000, 1500, 2000]}"
      ],
      "execution_count": null,
      "outputs": []
    },
    {
      "cell_type": "code",
      "metadata": {
        "id": "KP5oHFGjF3ii"
      },
      "source": [
        "d_hiperparametros_RF"
      ],
      "execution_count": null,
      "outputs": []
    },
    {
      "cell_type": "code",
      "metadata": {
        "id": "6__f2jZaTQat"
      },
      "source": [
        "# Invoca a função\n",
        "ml_RF2, best_params = GridSearchOptimizer(ml_RF, 'ml_RF2', d_hiperparametros_RF, X_treinamento, y_treinamento, X_teste, y_teste, i_CV, l_colunas)"
      ],
      "execution_count": null,
      "outputs": []
    },
    {
      "cell_type": "markdown",
      "metadata": {
        "id": "crfn-n--KG4n"
      },
      "source": [
        "### Resultado da execução do Random Forest\n",
        "\n",
        "```\n",
        "[Parallel(n_jobs=-1)]: Done 7920 out of 7920 | elapsed: 194.0min finished\n",
        "best_params= {'bootstrap': False, 'max_depth': 10, 'max_features': 'auto', 'min_samples_leaf': 1, 'min_samples_split': 2, 'n_estimators': 400}\n",
        "```"
      ]
    },
    {
      "cell_type": "code",
      "metadata": {
        "id": "SGTOe5PaRw59"
      },
      "source": [
        "# Como o procedimento acima levou 194 minutos para executar, então vou estimar ml_RF2 abaixo usando os parâmetros acima estimados\n",
        "best_params= {'bootstrap': False, 'max_depth': 10, 'max_features': 'auto', 'min_samples_leaf': 1, 'min_samples_split': 2, 'n_estimators': 400}\n",
        "\n",
        "ml_RF3= RandomForestClassifier(bootstrap= best_params['bootstrap'], \n",
        "                               max_depth= best_params['max_depth'], \n",
        "                               max_features= best_params['max_features'], \n",
        "                               min_samples_leaf= best_params['min_samples_leaf'], \n",
        "                               min_samples_split= best_params['min_samples_split'], \n",
        "                               n_estimators= best_params['n_estimators'], \n",
        "                               random_state= i_Seed)"
      ],
      "execution_count": null,
      "outputs": []
    },
    {
      "cell_type": "code",
      "metadata": {
        "id": "2HwM8hbuRSx_"
      },
      "source": [
        "ml_RF3.fit(X_treinamento, y_treinamento)"
      ],
      "execution_count": null,
      "outputs": []
    },
    {
      "cell_type": "markdown",
      "metadata": {
        "id": "WWNiy7Z0TQa3"
      },
      "source": [
        "## Selecionar as COLUNAS importantes/relevantes\n",
        "* 2 formas:\n",
        "    * Usando a função seleciona_colunas_relevantes() que seleciona baseado no threshold;\n",
        "    * Usando modelo.feature_importances_"
      ]
    },
    {
      "cell_type": "markdown",
      "metadata": {
        "id": "qqXvO7wePWRg"
      },
      "source": [
        "### Preditoras mais importantes pelo modelo.feature_importances_"
      ]
    },
    {
      "cell_type": "code",
      "metadata": {
        "id": "l3m6QfTiQ0E8"
      },
      "source": [
        "sum(ml_RF3.feature_importances_) # Soma das importâncias das colunas = 100%"
      ],
      "execution_count": null,
      "outputs": []
    },
    {
      "cell_type": "code",
      "metadata": {
        "id": "mczpm2-NRmAr"
      },
      "source": [
        "ml_RF3.feature_importances_"
      ],
      "execution_count": null,
      "outputs": []
    },
    {
      "cell_type": "code",
      "metadata": {
        "id": "fRPuq2g3PtmN"
      },
      "source": [
        "df_importantes = pd.DataFrame(zip(X_treinamento.columns, ml_RF3.feature_importances_), columns = ['coluna', 'importancia'])\n",
        "df_importantes.sort_values(by = 'importancia', ascending = False)"
      ],
      "execution_count": null,
      "outputs": []
    },
    {
      "cell_type": "markdown",
      "metadata": {
        "id": "vgxPCnphc6r_"
      },
      "source": [
        "Vamos selecionar as 7 preditoras mais importantes: v13, v11, v7, v12, v14, v16 e v1."
      ]
    },
    {
      "cell_type": "code",
      "metadata": {
        "id": "kOi11YOKTQa4"
      },
      "source": [
        "# Deletar as preditoras que não são importantes:\n",
        "X_treinamento_RF = X_treinamento.drop(columns = ['v5', 'v2', 'v15', 'v3', 'v17', 'v9', 'v10', 'v6', 'v8', 'v4', 'v18'], axis = 1)\n",
        "X_teste_RF = X_teste.drop(columns = ['v5', 'v2', 'v15', 'v3', 'v17', 'v9', 'v10', 'v6', 'v8', 'v4', 'v18'], axis = 1)\n",
        "X_treinamento_RF.head()"
      ],
      "execution_count": null,
      "outputs": []
    },
    {
      "cell_type": "markdown",
      "metadata": {
        "id": "Zn_O7c_DTQbE"
      },
      "source": [
        "## Treina o classificador com as COLUNAS relevantes"
      ]
    },
    {
      "cell_type": "code",
      "metadata": {
        "id": "UwEOwzSGTQbF"
      },
      "source": [
        "best_params"
      ],
      "execution_count": null,
      "outputs": []
    },
    {
      "cell_type": "code",
      "metadata": {
        "id": "Rr8qDrgvTQbL"
      },
      "source": [
        "# Treina com as COLUNAS relevantes...\n",
        "ml_RF3.fit(X_treinamento_RF, y_treinamento)\n",
        "\n",
        "# Cross-Validation com 10 folds\n",
        "a_scores_CV = funcao_cross_val_score(ml_RF3, X_treinamento_RF, y_treinamento, i_CV)"
      ],
      "execution_count": null,
      "outputs": []
    },
    {
      "cell_type": "markdown",
      "metadata": {
        "id": "-mYfQLlsTQbQ"
      },
      "source": [
        "## Valida o modelo usando o dataframe X_teste"
      ]
    },
    {
      "cell_type": "code",
      "metadata": {
        "id": "sSD5o1JQTQbR"
      },
      "source": [
        "y_pred_RF = ml_RF3.predict(X_teste_RF)"
      ],
      "execution_count": null,
      "outputs": []
    },
    {
      "cell_type": "code",
      "metadata": {
        "id": "wywF6LymDzKr"
      },
      "source": [
        "# Calcula acurácia\n",
        "accuracy_score(y_teste, y_pred_RF)"
      ],
      "execution_count": null,
      "outputs": []
    },
    {
      "cell_type": "markdown",
      "metadata": {
        "id": "hJJsL0IJb6iO"
      },
      "source": [
        "## Estudo do comportamento dos hiperparâmetros do algoritmo\n",
        "> Consulte [Optimizing Hyperparameters in Random Forest Classification](https://towardsdatascience.com/optimizing-hyperparameters-in-random-forest-classification-ec7741f9d3f6) para mais detalhes."
      ]
    },
    {
      "cell_type": "code",
      "metadata": {
        "id": "ytRCEWjrjEQd"
      },
      "source": [
        "from sklearn.model_selection import validation_curve"
      ],
      "execution_count": null,
      "outputs": []
    },
    {
      "cell_type": "markdown",
      "metadata": {
        "id": "YhY94cKcjnny"
      },
      "source": [
        "### Efeito em n_estimators"
      ]
    },
    {
      "cell_type": "code",
      "metadata": {
        "id": "_1--fbI7fQR_"
      },
      "source": [
        "param_range = np.arange(1, 250, 2)\n",
        "\n",
        "# Calculate accuracy on training and test set using range of parameter values\n",
        "train_a_scores_CV, test_a_scores_CV = validation_curve(RandomForestClassifier(), \n",
        "                                                       X_treinamento, \n",
        "                                                       y_treinamento, \n",
        "                                                       param_name = \"n_estimators\", \n",
        "                                                       param_range = param_range, \n",
        "                                                       cv = i_CV, \n",
        "                                                       scoring = \"accuracy\", \n",
        "                                                       n_jobs = -1)\n",
        "\n",
        "# Calculate mean and standard deviation for training set a_scores_CV\n",
        "train_mean = np.mean(train_a_scores_CV, axis = 1)\n",
        "train_std = np.std(train_a_scores_CV, axis = 1)\n",
        "\n",
        "# Calculate mean and standard deviation for test set a_scores_CV\n",
        "test_mean = np.mean(test_a_scores_CV, axis = 1)\n",
        "test_std = np.std(test_a_scores_CV, axis = 1)\n",
        "\n",
        "# Plot mean accuracy a_scores_CV for training and test sets\n",
        "plt.plot(param_range, train_mean, label = \"Training score\", color = \"black\")\n",
        "plt.plot(param_range, test_mean, label = \"Cross-validation score\", color = \"dimgrey\")\n",
        "\n",
        "# Plot accurancy bands for training and test sets\n",
        "plt.fill_between(param_range, train_mean - train_std, train_mean + train_std, color = \"gray\")\n",
        "plt.fill_between(param_range, test_mean - test_std, test_mean + test_std, color = \"gainsboro\")\n",
        "\n",
        "# Create plot\n",
        "plt.title(\"Validation Curve With Random Forest\")\n",
        "plt.xlabel(\"Number Of Trees\")\n",
        "plt.ylabel(\"Accuracy Score\")\n",
        "plt.tight_layout()\n",
        "plt.legend(loc = \"best\")\n",
        "plt.show()"
      ],
      "execution_count": null,
      "outputs": []
    },
    {
      "cell_type": "markdown",
      "metadata": {
        "id": "U60YOyRLjYsE"
      },
      "source": [
        "#### Efeito de max_depth"
      ]
    },
    {
      "cell_type": "code",
      "metadata": {
        "id": "rv7TIM9kjsud"
      },
      "source": [
        "param_range = np.arange(1, 250, 2)\n",
        "\n",
        "# Calculate accuracy on training and test set using range of parameter values\n",
        "train_a_scores_CV, test_a_scores_CV = validation_curve(RandomForestClassifier(), \n",
        "                                                       X_treinamento, \n",
        "                                                       y_treinamento, \n",
        "                                                       param_name = \"max_depth\", \n",
        "                                                       param_range = param_range, \n",
        "                                                       cv = i_CV, \n",
        "                                                       scoring = \"accuracy\", \n",
        "                                                       n_jobs = -1)\n",
        "\n",
        "# Calculate mean and standard deviation for training set a_scores_CV\n",
        "train_mean = np.mean(train_a_scores_CV, axis = 1)\n",
        "train_std = np.std(train_a_scores_CV, axis = 1)\n",
        "\n",
        "# Calculate mean and standard deviation for test set a_scores_CV\n",
        "test_mean = np.mean(test_a_scores_CV, axis = 1)\n",
        "test_std = np.std(test_a_scores_CV, axis = 1)\n",
        "\n",
        "# Plot mean accuracy a_scores_CV for training and test sets\n",
        "plt.plot(param_range, train_mean, label=\"Training score\", color=\"black\")\n",
        "plt.plot(param_range, test_mean, label=\"Cross-validation score\", color=\"dimgrey\")\n",
        "\n",
        "# Plot accurancy bands for training and test sets\n",
        "plt.fill_between(param_range, train_mean - train_std, train_mean + train_std, color=\"gray\")\n",
        "plt.fill_between(param_range, test_mean - test_std, test_mean + test_std, color=\"gainsboro\")\n",
        "\n",
        "# Create plot\n",
        "plt.title(\"Validation Curve With Random Forest\")\n",
        "plt.xlabel(\"Number Of Trees\")\n",
        "plt.ylabel(\"Accuracy Score\")\n",
        "plt.tight_layout()\n",
        "plt.legend(loc=\"best\")\n",
        "plt.show()"
      ],
      "execution_count": null,
      "outputs": []
    },
    {
      "cell_type": "markdown",
      "metadata": {
        "id": "hyqgm6GzjUd5"
      },
      "source": [
        "#### Efeito de min_samples_leaf"
      ]
    },
    {
      "cell_type": "code",
      "metadata": {
        "id": "lm_fPGYwkJYc"
      },
      "source": [
        "param_range = np.arange(1, 250, 2)\n",
        "\n",
        "# Calculate accuracy on training and test set using range of parameter values\n",
        "train_a_scores_CV, test_a_scores_CV = validation_curve(RandomForestClassifier(), \n",
        "                                             X_treinamento, \n",
        "                                             y_treinamento, \n",
        "                                             param_name='min_samples_leaf', \n",
        "                                             param_range=param_range,\n",
        "                                             cv = i_CV, \n",
        "                                             scoring=\"accuracy\", \n",
        "                                             n_jobs=-1)\n",
        "\n",
        "\n",
        "# Calculate mean and standard deviation for training set a_scores_CV\n",
        "train_mean = np.mean(train_a_scores_CV, axis = 1)\n",
        "train_std = np.std(train_a_scores_CV, axis = 1)\n",
        "\n",
        "# Calculate mean and standard deviation for test set a_scores_CV\n",
        "test_mean = np.mean(test_a_scores_CV, axis = 1)\n",
        "test_std = np.std(test_a_scores_CV, axis = 1)\n",
        "\n",
        "# Plot mean accuracy a_scores_CV for training and test sets\n",
        "plt.plot(param_range, train_mean, label=\"Training score\", color=\"black\")\n",
        "plt.plot(param_range, test_mean, label=\"Cross-validation score\", color=\"dimgrey\")\n",
        "\n",
        "# Plot accurancy bands for training and test sets\n",
        "plt.fill_between(param_range, train_mean - train_std, train_mean + train_std, color=\"gray\")\n",
        "plt.fill_between(param_range, test_mean - test_std, test_mean + test_std, color=\"gainsboro\")\n",
        "\n",
        "# Create plot\n",
        "plt.title(\"Validation Curve With Random Forest\")\n",
        "plt.xlabel(\"Number Of Trees\")\n",
        "plt.ylabel(\"Accuracy Score\")\n",
        "plt.tight_layout()\n",
        "plt.legend(loc=\"best\")\n",
        "plt.show()"
      ],
      "execution_count": null,
      "outputs": []
    },
    {
      "cell_type": "markdown",
      "metadata": {
        "id": "7Ox_t7NljNmq"
      },
      "source": [
        "#### Efeito de min_samples_split"
      ]
    },
    {
      "cell_type": "code",
      "metadata": {
        "id": "CAqdiSaVlAB8"
      },
      "source": [
        "param_range = np.arange(0.05, 1, 0.05)\n",
        "\n",
        "# Calculate accuracy on training and test set using range of parameter values\n",
        "train_a_scores_CV, test_a_scores_CV = validation_curve(RandomForestClassifier(), \n",
        "                                             X_treinamento, \n",
        "                                             y_treinamento, \n",
        "                                             param_name='min_samples_split', \n",
        "                                             param_range=param_range,\n",
        "                                             cv = i_CV, \n",
        "                                             scoring=\"accuracy\", \n",
        "                                             n_jobs=-1)\n",
        "\n",
        "\n",
        "# Calculate mean and standard deviation for training set a_scores_CV\n",
        "train_mean = np.mean(train_a_scores_CV, axis = 1)\n",
        "train_std = np.std(train_a_scores_CV, axis = 1)\n",
        "\n",
        "# Calculate mean and standard deviation for test set a_scores_CV\n",
        "test_mean = np.mean(test_a_scores_CV, axis = 1)\n",
        "test_std = np.std(test_a_scores_CV, axis = 1)\n",
        "\n",
        "# Plot mean accuracy a_scores_CV for training and test sets\n",
        "plt.plot(param_range, train_mean, label=\"Training score\", color=\"black\")\n",
        "plt.plot(param_range, test_mean, label=\"Cross-validation score\", color=\"dimgrey\")\n",
        "\n",
        "# Plot accurancy bands for training and test sets\n",
        "plt.fill_between(param_range, train_mean - train_std, train_mean + train_std, color=\"gray\")\n",
        "plt.fill_between(param_range, test_mean - test_std, test_mean + test_std, color=\"gainsboro\")\n",
        "\n",
        "# Create plot\n",
        "plt.title(\"Validation Curve With Random Forest\")\n",
        "plt.xlabel(\"Number Of Trees\")\n",
        "plt.ylabel(\"Accuracy Score\")\n",
        "plt.tight_layout()\n",
        "plt.legend(loc=\"best\")\n",
        "plt.show()"
      ],
      "execution_count": null,
      "outputs": []
    },
    {
      "cell_type": "markdown",
      "metadata": {
        "id": "y1q5cOJHV3HI"
      },
      "source": [
        "### Exercício: LabData\n",
        "* https://www.kaggle.com/c/labdata-churn-challenge-2020"
      ]
    },
    {
      "cell_type": "code",
      "metadata": {
        "id": "NeCCAwqVVmKA"
      },
      "source": [
        ""
      ],
      "execution_count": null,
      "outputs": []
    },
    {
      "cell_type": "markdown",
      "metadata": {
        "id": "N_1A6lC9SF53"
      },
      "source": [
        "# **BOOTSTRAPPING METHODS**\n",
        "> Antes de falarmos de Boosting ou Bagging, precisamos entender primeiro o que é Bootstrap, pois ambos (Boosting e Bagging) são baseados em Bootstrap.\n",
        "\n",
        "* Em Estatística (e em Machine Learning), Bootstrap se refere à extrair amostras aleatórias COM reposição da população X."
      ]
    },
    {
      "cell_type": "markdown",
      "metadata": {
        "id": "cX_gfsbQSdNd"
      },
      "source": [
        "___\n",
        "# **BOOSTING MODELS**\n",
        "* São algoritmos muito utilizados nas competições do Kaggle;\n",
        "* São algoritmos utilizados para melhorar a performance dos algoritmos de Machine Learning;\n",
        "* Modelos:\n",
        "    - [X] AdaBoost\n",
        "    - [X] XGBoost\n",
        "    - [X] LightGBM\n",
        "    - [X] GradientBoosting\n",
        "    - [X] CatBoost\n",
        "\n",
        "## Bagging vs Boosting\n",
        "### **Bagging**\n",
        "* **Objetivo**: é reduzir a variância;\n",
        "* **Vantagens**:\n",
        "    * Reduz overfitting;\n",
        "    * Lida bem com dataframes com muitas COLUNAS (high dimensionality);\n",
        "    * Lida automaticamente com Missing Values;\n",
        "* **Desvantagens**:\n",
        "        * A predição final é baseada na média das K Decision Trees, o que pode comprometer a acurácia final.\n",
        "\n",
        "### **Boosting**\n",
        "* **Objetivo**: é melhorar acurácia;\n",
        "* **Vantagens**:\n",
        "    * Lida bem com dataframes com muitas COLUNAS (high dimensionality);\n",
        "    * Lida automaticamente com Missing Values;\n",
        "* **Desvantagens**:\n",
        "    * Propenso a overfitting. Recomenda-se tratar outliers previamente.\n",
        "    * Requer ajuste cuidadoso dos hyperparameters;"
      ]
    },
    {
      "cell_type": "markdown",
      "metadata": {
        "id": "FqJV-QGFQx90"
      },
      "source": [
        "#### **Bagging**: Como funciona\n",
        "* Seleciona várias amostras **COM REPOSIÇÃO** do dataframe de treinamento. Cada amostra é usada para treinar um modelo usando Decision Trees. Como resultado, temos um ensemble de muitas e diferentes modelos (Decision Trees). A média de desses muitos e diferentes modelos (Decision Trees) são usados para produzir o resultado final;\n",
        "* O resultado final é mais robusto do que usarmos uma simples Decision Tree.\n",
        "\n",
        "![Bagging](https://github.com/MathMachado/Materials/blob/master/Bagging.png?raw=true)\n",
        "\n",
        "Souce: [Boosting and Bagging: How To Develop A Robust Machine Learning Algorithm](https://hackernoon.com/how-to-develop-a-robust-algorithm-c38e08f32201).\n",
        "\n",
        "#### Steps\n",
        "* Suponha um dataframe X_treinamento (dataframe de treinamento) contendo N observações (instâncias, pontos, linhas) e M COLUNAS (features, atributos).\n",
        "    1. Bagging seleciona aleatoriamente uma amostra **COM REPOSIÇÃO** de X_treinamento;\n",
        "    2. Bagging seleciona aleatoriamente M2 (M2 < M) COLUNAS do dataframe extraído do passo (1);\n",
        "    3. Constroi uma Decision Tree com as M2 COLUNAS do passo (2) e o dataframe obtido no passo (1) e as COLUNAS são avaliadas pela sua habilidade de classificar as observações;\n",
        "    4. Os passos (1)--> (2)-- (3) são repetidos K vezes (ou seja, K Decision Trees), de forma que as COLUNAS são ranqueadas pelo seu poder preditivo e o resultado final (acurácia, por exemplo) é obtido pela agregação das predições dos K Decision Trees."
      ]
    },
    {
      "cell_type": "markdown",
      "metadata": {
        "id": "EysHMsU9Q6nQ"
      },
      "source": [
        "___\n",
        "#### **Boosting**: Como funciona\n",
        "* Os classificadores são usados sequencialmente, de forma que o classificador no passo N aprende com os erros do classificador do passo N-1. Ou seja, o objetivo é melhorar a precisão/acurácia à cada passo aprendendo com o passado.\n",
        "\n",
        "![Boosting](https://github.com/MathMachado/Materials/blob/master/Boosting.png?raw=true)\n",
        "\n",
        "Source: [Ensemble methods: bagging, boosting and stacking](https://towardsdatascience.com/ensemble-methods-bagging-boosting-and-stacking-c9214a10a205), Joseph Rocca\n",
        ".\n",
        "\n",
        "#### Steps\n",
        "* Suponha um dataframe X_treinamento (dataframe de treinamento) contendo N observações (instâncias, pontos, linhas) e M COLUNAS (features, atributos).\n",
        "    1. Boosting seleciona aleatoriamente uma amostra D1 SEM reposição de X_treinamento;\n",
        "    2. Boosting treina o classificador C1;\n",
        "    3. Boosting seleciona aleatoriamente a SEGUNDA amostra D2 SEM reposição de X_treinamento e acrescenta à D2 50% das observações que foram classificadas incorretamente para treinar o classificador C2;\n",
        "    4. Boosting encontra em X_treinamento a amostra D3 que os classificadores C1 e C2 discordam em classificar e treina C3;\n",
        "    5. Combina (voto) as predições de C1, C2 e C3 para produzir o resultado final."
      ]
    },
    {
      "cell_type": "markdown",
      "metadata": {
        "id": "SyqazmUuifkE"
      },
      "source": [
        "___\n",
        "# **ADABOOST(Adaptive Boosting)**\n",
        "* Foi um dos primeiros algoritmos de Boosting (1995);\n",
        "* AdaBoost pode ser utilizado tanto para classificação (AdaBoostClassifier) quanto para Regressão (AdaBoostRegressor);\n",
        "* AdaBoost usam algoritmos DecisionTree como base_estimator;\n",
        "* É um dos classificadores do tipo ensemble (combina vários classificadores para aumentar a precisão).\n",
        "    * AdaBoost é um classificador iterativo e forte que combina (ensemble) vários classificadores fracos para melhorar a precisão.\n",
        "* Qualquer algoritmo de aprendizado de máquina pode ser usado como um classificador de base (parâmetro base_estimator);\n"
      ]
    },
    {
      "cell_type": "markdown",
      "metadata": {
        "id": "RU-vzkXqrFVw"
      },
      "source": [
        "## Referências\n",
        "* [AdaBoost Classifier Example In Python](https://towardsdatascience.com/machine-learning-part-17-boosting-algorithms-adaboost-in-python-d00faac6c464) - Didático e explica exatamente como o AdaBoost funciona.\n",
        "* [Adaboost for Dummies: Breaking Down the Math (and its Equations) into Simple Terms](https://towardsdatascience.com/adaboost-for-dummies-breaking-down-the-math-and-its-equations-into-simple-terms-87f439757dcf) - Para quem quer entender a matemática por trás do algoritmo.\n",
        "* [Gradient Boosting and XGBoost](https://medium.com/hackernoon/gradient-boosting-and-xgboost-90862daa6c77)\n",
        "* [Understanding AdaBoost](https://towardsdatascience.com/understanding-adaboost-2f94f22d5bfe), Akash Desarda.\n",
        "* [AdaBoost Classifier Example In Python](https://towardsdatascience.com/machine-learning-part-17-boosting-algorithms-adaboost-in-python-d00faac6c464)"
      ]
    },
    {
      "cell_type": "markdown",
      "metadata": {
        "id": "6EMrjQDZIMl_"
      },
      "source": [
        "## Hiperparâmetros mais importantes do AdaBoost:\n",
        "* base_estimator - É um classificador usado para treinar o modelo. Como default, AdaBoost usa o DecisionTreeClassifier. Pode-se utilizar diferentes algoritmos para esse fim.\n",
        "* n_estimators - Número de base_estimator para treinar iterativamente.\n",
        "* learning_rate - Controla a contribuição do base_estimator na solução/combinação final;"
      ]
    },
    {
      "cell_type": "markdown",
      "metadata": {
        "id": "TzLtHzWNJBix"
      },
      "source": [
        "## Usando diferentes algoritmos para base_estimator\n",
        "> Como dito anteriormente, pode-se utilizar vários tipos de base_estimator em AdaBoost. Por exemplo, se quisermos usar SVM (Support Vector Machines), devemos proceder da seguinte forma:\n",
        "\n",
        "\n",
        "```\n",
        "# Importar a biblioteca base_estimator\n",
        "from sklearn.svm import SVC\n",
        "\n",
        "# Treina o classificador (algoritmo)\n",
        "ml_SVC= SVC(probability=True, kernel='linear')\n",
        "\n",
        "# Constroi o modelo AdaBoost\n",
        "ml_AB = AdaBoostClassifier(n_estimators= 50, base_estimator=ml_SVC, learning_rate=1)\n",
        "```\n",
        "\n"
      ]
    },
    {
      "cell_type": "markdown",
      "metadata": {
        "id": "hrj4a4s6hMMB"
      },
      "source": [
        "## Vantagens\n",
        "* AdaBoost é fácil de implementar;\n",
        "* AdaBoost corrige os erros do base_estimator iterativamente e melhora a acurácia;\n",
        "* Faz o Feature Selection automaticamente (**Porque**?);\n",
        "* Pode-se usar muitos algoritos como base_estimator ;\n",
        "* Como é um método ensemble, então o modelo final é pouco propenso à overfitting.\n",
        "\n",
        "## Desvantagens\n",
        "* AdaBoost é sensível a ruídos nos dados;\n",
        "* Altamente impactado por outliers (contribui para overfitting), pois o algoritmo tenta se ajustr a cada ponto da mehor forma possível;\n",
        "* AdaBoost é mais lento que XGBoost;"
      ]
    },
    {
      "cell_type": "markdown",
      "metadata": {
        "id": "bgJmu7YLiyv7"
      },
      "source": [
        "O exemplo a seguir usa RandomForestClassifier com os hiperparâmetros otimizados, ou seja:\n",
        "\n",
        "```\n",
        "best_params= {'bootstrap': False, 'max_depth': 10, 'max_features': 'auto', 'min_samples_leaf': 1, 'min_samples_split': 2, 'n_estimators': 400}\n",
        "```\n",
        "\n"
      ]
    },
    {
      "cell_type": "code",
      "metadata": {
        "id": "5VCRNyZT3qvc"
      },
      "source": [
        "best_params= {'bootstrap': False, 'max_depth': 10, 'max_features': 'auto', 'min_samples_leaf': 1, 'min_samples_split': 2, 'n_estimators': 400}"
      ],
      "execution_count": null,
      "outputs": []
    },
    {
      "cell_type": "code",
      "metadata": {
        "id": "1gIboJdriq61"
      },
      "source": [
        "from sklearn.ensemble import AdaBoostClassifier\n",
        "from sklearn.ensemble import RandomForestClassifier\n",
        "\n",
        "# Instancia RandomForestClassifier - Hiperparâmetros otimizados!\n",
        "ml_RF4 = RandomForestClassifier(bootstrap= best_params['bootstrap'], \n",
        "                                max_depth= best_params['max_depth'], \n",
        "                                max_features= best_params['max_features'], \n",
        "                                min_samples_leaf= best_params['min_samples_leaf'], \n",
        "                                min_samples_split= best_params['min_samples_split'], \n",
        "                                n_estimators= best_params['n_estimators'], \n",
        "                                random_state= i_Seed)"
      ],
      "execution_count": null,
      "outputs": []
    },
    {
      "cell_type": "code",
      "metadata": {
        "id": "2v9F-N2STPes"
      },
      "source": [
        "# Instancia AdaBoostClassifier\n",
        "ml_AB = AdaBoostClassifier(n_estimators=100, base_estimator= ml_RF4, random_state = i_Seed)"
      ],
      "execution_count": null,
      "outputs": []
    },
    {
      "cell_type": "code",
      "metadata": {
        "id": "sdvkTlxkTRS_"
      },
      "source": [
        "# Treina...\n",
        "ml_AB.fit(X_treinamento, y_treinamento)"
      ],
      "execution_count": null,
      "outputs": []
    },
    {
      "cell_type": "code",
      "metadata": {
        "id": "tBOuTywWRm91"
      },
      "source": [
        "# Cross-Validation com 10 folds\n",
        "a_scores_CV = funcao_cross_val_score(ml_AB, X_treinamento, y_treinamento, i_CV)"
      ],
      "execution_count": null,
      "outputs": []
    },
    {
      "cell_type": "markdown",
      "metadata": {
        "id": "F7Ce5L38ECoC"
      },
      "source": [
        "**Interpretação**: Nosso classificador (AdaBoostClassifier) tem uma acurácia média de 96,72% (base de treinamento) com std na ordem dos 2,54%. A seguir, tentativa de melhorar o modelo com GridSearch."
      ]
    },
    {
      "cell_type": "code",
      "metadata": {
        "id": "t5GfnBwEifkO"
      },
      "source": [
        "print(f'Acurácias: {a_scores_CV}')"
      ],
      "execution_count": null,
      "outputs": []
    },
    {
      "cell_type": "code",
      "metadata": {
        "id": "Q9rSpuXyEPA5"
      },
      "source": [
        "# Faz predições com os hiperparâmetros otimizados...\n",
        "y_pred = ml_AB.predict(X_teste)"
      ],
      "execution_count": null,
      "outputs": []
    },
    {
      "cell_type": "code",
      "metadata": {
        "id": "2F9k-_eXGDLa"
      },
      "source": [
        "# Confusion Matrix\n",
        "cf_matrix = confusion_matrix(y_teste, y_pred)\n",
        "cf_labels = ['True_Negative', 'False_Positive', 'False_Negative', 'True_Positive']\n",
        "cf_categories = ['Zero', 'One']\n",
        "mostra_confusion_matrix(cf_matrix, group_names= cf_labels, categories= cf_categories)"
      ],
      "execution_count": null,
      "outputs": []
    },
    {
      "cell_type": "markdown",
      "metadata": {
        "id": "XweWTjQ9EXLw"
      },
      "source": [
        "## Parameter tunning"
      ]
    },
    {
      "cell_type": "code",
      "metadata": {
        "id": "fcrKzse9EbL_"
      },
      "source": [
        "# Dicionário de hiperparâmetros para o parameter tunning.\n",
        "d_hiperparametros_AB = {'n_estimators': [50, 100, 200], 'learning_rate': [.001, 0.01, 0.05, 0.1, 0.3,1]}"
      ],
      "execution_count": null,
      "outputs": []
    },
    {
      "cell_type": "code",
      "metadata": {
        "id": "Susc3I7mFDQX"
      },
      "source": [
        "# Invoca a função\n",
        "ml_AB2, best_params= GridSearchOptimizer(ml_AB, 'ml_AB2', d_hiperparametros_AB, X_treinamento, y_treinamento, X_teste, y_teste, i_CV, l_colunas)"
      ],
      "execution_count": null,
      "outputs": []
    },
    {
      "cell_type": "markdown",
      "metadata": {
        "id": "w4JjWsusjNS8"
      },
      "source": [
        "___\n",
        "# **GRADIENT BOOSTING**\n",
        "* Gradient boosting pode ser usado para resolver problemas de classificação (GradientBoostingClassifier) e Regressão (GradientBoostingRegressor);\n",
        "* Gradient boosting são um refinamento do AdaBoost (lembra que AdaBoost foi um dos primeiros métodos de Boosting - criado em 1995). O que Gradient Boosting faz adicionalmente ao AdaBoost é minimizar a loss (função perda), ie, minimizar a diferença entre os valores observados de y e os valores preditos.\n",
        "* Usa Gradient Descent para encontrar as deficiências nas previsões do passo anterior. \n",
        "    * Gradient Descent é um algoritmo popular e poderoso e usado em Redes Neurais;\n",
        "    * O objetivo do Gradient Boosting é minimizar 'loss function'. Portanto, Gradient Boosting depende da \"loss function\".\n",
        "    * Gradient boosting usam algoritmos DecisionTree como base_estimator;\n",
        "\n",
        "## Vantagens\n",
        "* Não há necessidade de pre-processing;\n",
        "* Trabalha normalmente com COLUNAS numéricas ou categóricas;\n",
        "* Trata automaticamente os Missing Values. Ou seja, não é necessário aplicar métodos de Missing Value Imputation;\n",
        "\n",
        "## Desvantagens\n",
        "* Como Gradient Boosting tenta continuamente minimizar os erros à cada iteração, isso pode enfatizar os outliers e causar overfitting. Portanto, deve-se:\n",
        "    * Tratar os outliers previamente OU\n",
        "    * Usar Cross-Validation para neutralizar os efeitos dos outliers (**Eu prefiro este método, pois toma menos tempo**);\n",
        "* Computacionalmene caro: geralmente são necessários muitas árvores (> 1000) para se obter bons resultados;\n",
        "* Devido à flexibilidade (muitos hiperparâmetros para ajustar), então é necessário usar GridSearchCV para encontrar a combinação ótima dos hiperparâmetros;\n",
        "\n",
        "## Referências\n",
        "* [Gradient Boosting Decision Tree Algorithm Explained](https://towardsdatascience.com/machine-learning-part-18-boosting-algorithms-gradient-boosting-in-python-ef5ae6965be4) - Didático e detalhista.\n",
        "* [Predicting Wine Quality with Gradient Boosting Machines](https://towardsdatascience.com/predicting-wine-quality-with-gradient-boosting-machines-a-gmb-tutorial-d950b1542065)\n",
        "* [Parameter Tuning in Gradient Boosting (GBM) with Python](https://www.datacareer.de/blog/parameter-tuning-in-gradient-boosting-gbm/)\n",
        "* [Tune Learning Rate for Gradient Boosting with XGBoost in Python](https://machinelearningmastery.com/tune-learning-rate-for-gradient-boosting-with-xgboost-in-python/)\n",
        "* [In Depth: Parameter tuning for Gradient Boosting](https://medium.com/all-things-ai/in-depth-parameter-tuning-for-gradient-boosting-3363992e9bae) - Muito bom\n",
        "* [Complete Machine Learning Guide to Parameter Tuning in Gradient Boosting (GBM) in Python](https://www.analyticsvidhya.com/blog/2016/02/complete-guide-parameter-tuning-gradient-boosting-gbm-python/)"
      ]
    },
    {
      "cell_type": "code",
      "metadata": {
        "id": "Q4bUCZs2jNTA"
      },
      "source": [
        "from sklearn.ensemble import GradientBoostingClassifier\n",
        "\n",
        "# Instancia...\n",
        "ml_GB = GradientBoostingClassifier(n_estimators = 100, min_samples_split = 2)\n",
        "\n",
        "# Treina... \n",
        "ml_GB.fit(X_treinamento, y_treinamento)"
      ],
      "execution_count": null,
      "outputs": []
    },
    {
      "cell_type": "code",
      "metadata": {
        "id": "PKOG1ugSRvLM"
      },
      "source": [
        "# Cross-Validation com 10 folds\n",
        "a_scores_CV = funcao_cross_val_score(ml_GB, X_treinamento, y_treinamento, i_CV)"
      ],
      "execution_count": null,
      "outputs": []
    },
    {
      "cell_type": "code",
      "metadata": {
        "id": "VlC3y3M5YaGG"
      },
      "source": [
        "print(f'Acurácias: {a_scores_CV}')"
      ],
      "execution_count": null,
      "outputs": []
    },
    {
      "cell_type": "markdown",
      "metadata": {
        "id": "vnLvQ0ZDYNjB"
      },
      "source": [
        "**Interpretação**: Nosso classificador (GradientBoostingClassifier) tem uma acurácia média de 96,86% (base de treinamento) e std na ordem dos 2,52%. A seguir, tentativa de melhorar a acurácia do classificador usando parameter tunning (GridSearchCV)."
      ]
    },
    {
      "cell_type": "code",
      "metadata": {
        "id": "D2n1RKZuXq3D"
      },
      "source": [
        "# Faz precições...\n",
        "y_pred = ml_GB.predict(X_teste)"
      ],
      "execution_count": null,
      "outputs": []
    },
    {
      "cell_type": "code",
      "metadata": {
        "id": "8r6JCzQRGFa0"
      },
      "source": [
        "# Confusion Matrix\n",
        "cf_matrix = confusion_matrix(y_teste, y_pred)\n",
        "cf_labels = ['True_Negative','False_Positive','False_Negative','True_Positive']\n",
        "cf_categories = ['Zero', 'One']\n",
        "mostra_confusion_matrix(cf_matrix, group_names = cf_labels, categories = cf_categories)"
      ],
      "execution_count": null,
      "outputs": []
    },
    {
      "cell_type": "markdown",
      "metadata": {
        "id": "KFv-Q2AD5uCk"
      },
      "source": [
        "## Parameter tunning\n",
        "> Consulte [Complete Machine Learning Guide to Parameter Tuning in Gradient Boosting (GBM) in Python](https://www.analyticsvidhya.com/blog/2016/02/complete-guide-parameter-tuning-gradient-boosting-gbm-python/) para detalhes sobre os hiperparâmetros, significado e etc."
      ]
    },
    {
      "cell_type": "code",
      "metadata": {
        "id": "wgU040AcjNTF"
      },
      "source": [
        "# Dicionário de hiperparâmetros para o parameter tunning.\n",
        "d_hiperparametros_GB= {'learning_rate': [1, 0.5, 0.25, 0.1, 0.05, 0.01]} #,\n",
        "#                  'n_estimators': [1, 2, 4, 8, 16, 32, 64, 100, 200],\n",
        "#                  'max_depth': [5, 10, 15, 20, 25, 30],\n",
        "#                  'min_samples_split': [0.1, 0.3, 0.5, 0.7, 0.9],\n",
        "#                  'min_samples_leaf': [0.1, 0.2, 0.3, 0.4, 0.5],\n",
        "#                  'max_features': list(range(1, X_treinamento.shape[1]))}"
      ],
      "execution_count": null,
      "outputs": []
    },
    {
      "cell_type": "code",
      "metadata": {
        "id": "v5KLFlpTjNTH"
      },
      "source": [
        "# Invoca a função\n",
        "ml_GB2, best_params= GridSearchOptimizer(ml_GB, 'ml_GB2', d_hiperparametros_GB, X_treinamento, y_treinamento, X_teste, y_teste, i_CV, l_colunas)"
      ],
      "execution_count": null,
      "outputs": []
    },
    {
      "cell_type": "markdown",
      "metadata": {
        "id": "YQ6ERz3fi9i2"
      },
      "source": [
        "### Resultado da execução do Gradient Boosting"
      ]
    },
    {
      "cell_type": "markdown",
      "metadata": {
        "id": "RSa7uKw13mKG"
      },
      "source": [
        "```\n",
        "[Parallel(n_jobs=-1)]: Done 275400 out of 275400 | elapsed: 93.7min finished\n",
        "\n",
        "Hiperparâmetros otimizados: {'learning_rate': 1, 'max_depth': 30, 'max_features': 11, 'min_samples_leaf': 0.1, 'min_samples_split': 0.1, 'n_estimators': 100}\n",
        "```\n",
        "\n"
      ]
    },
    {
      "cell_type": "code",
      "metadata": {
        "id": "wiJpA2PyjDjR"
      },
      "source": [
        "# Como o procedimento acima levou 93 minutos para executar, então vou estimar ml_GB2 abaixo usando os parâmetros acima estimados\n",
        "best_params= {'learning_rate': 1, 'max_depth': 30, 'max_features': 11, 'min_samples_leaf': 0.1, 'min_samples_split': 0.1, 'n_estimators': 100}\n",
        "\n",
        "#ml_GB2= GradientBoostingClassifier(learning_rate= best_params['learning_rate'], \n",
        "#                                      max_depth= best_params['max_depth'],\n",
        "#                                      max_features= best_params['max_features'],\n",
        "#                                      min_samples_leaf= best_params['min_samples_leaf'],\n",
        "#                                      min_samples_split= best_params['min_samples_split'],\n",
        "#                                      n_estimators= best_params['n_estimators'],\n",
        "#                                      random_state= i_Seed)\n",
        "\n",
        "ml_GB2= GradientBoostingClassifier(learning_rate= best_params['learning_rate'], \n",
        "                                      max_depth= best_params['max_depth'],\n",
        "                                      min_samples_leaf= best_params['min_samples_leaf'],\n",
        "                                      min_samples_split= best_params['min_samples_split'],\n",
        "                                      n_estimators= best_params['n_estimators'],\n",
        "                                      random_state= i_Seed)"
      ],
      "execution_count": null,
      "outputs": []
    },
    {
      "cell_type": "markdown",
      "metadata": {
        "id": "mb14gJ7-jbVM"
      },
      "source": [
        "## Selecionar as COLUNAS importantes/relevantes"
      ]
    },
    {
      "cell_type": "code",
      "metadata": {
        "id": "TAqGZIFYm2sU"
      },
      "source": [
        "X_treinamento_GB, X_teste_GB = seleciona_colunas_relevantes(ml_GB2, X_treinamento, X_teste)"
      ],
      "execution_count": null,
      "outputs": []
    },
    {
      "cell_type": "markdown",
      "metadata": {
        "id": "6yiu6dahnBvC"
      },
      "source": [
        "## Treina o classificador com as COLUNAS relevantes "
      ]
    },
    {
      "cell_type": "code",
      "metadata": {
        "id": "APrtWN18nc4t"
      },
      "source": [
        "best_params"
      ],
      "execution_count": null,
      "outputs": []
    },
    {
      "cell_type": "code",
      "metadata": {
        "id": "VS0mLdOmnXAY"
      },
      "source": [
        "# Treina com as COLUNAS relevantes\n",
        "ml_GB2.fit(X_treinamento_GB, y_treinamento)\n",
        "\n",
        "# Cross-Validation com 10 folds\n",
        "a_scores_CV = funcao_cross_val_score(ml_GB2, X_treinamento_GB, y_treinamento, i_CV)"
      ],
      "execution_count": null,
      "outputs": []
    },
    {
      "cell_type": "markdown",
      "metadata": {
        "id": "vmc9PP_Rn1TN"
      },
      "source": [
        "## Valida o modelo usando o dataframe X_teste"
      ]
    },
    {
      "cell_type": "code",
      "metadata": {
        "id": "e3mnIALvnzP2"
      },
      "source": [
        "y_pred_GB = ml_GB2.predict(X_teste_GB)\n",
        "\n",
        "# Calcula acurácia\n",
        "accuracy_score(y_teste, y_pred_GB)"
      ],
      "execution_count": null,
      "outputs": []
    },
    {
      "cell_type": "markdown",
      "metadata": {
        "id": "kwP9Z2GnkV7r"
      },
      "source": [
        "___\n",
        "# **XGBOOST (eXtreme Gradient Boosting)**\n",
        "* XGBoost é uma melhoria de Gradient Boosting. \n",
        "    * As melhorias são em velocidade e performace, além de corrigir as ineficiências do GradientBoosting.\n",
        "* Um dos algoritmo preferido pelos Kaggle Grandmasters;\n",
        "* Paralelizável;\n",
        "* Estado-da-arte em termos de Machine Learning;\n",
        "\n",
        "## Hiperparâmetros relevantes e seus valores iniciais\n",
        "Consulte [Complete Guide to Parameter Tuning in XGBoost with codes in Python](https://www.analyticsvidhya.com/blog/2016/03/complete-guide-parameter-tuning-xgboost-with-codes-python/) para detalhes completos sobre os hiperparâmetros, significado e etc.\n",
        "\n",
        "* n_estimators = 100 (100 caso o dataframe for grande. Se o dataframe for médio/pequeno, então 1000) - É o número de árvores desejamos construir;\n",
        "* max_depth= 3 - Determina quão profundo cada árvore pode crescer durante qualquer round de treinamento. Valores típicos no intervalo [3, 10];\n",
        "* learning rate= 0.01 - Usado para evitar overfitting, intervalo: [0, 1];\n",
        "* alpha (somente para problemas de Regressão) - L1 regularization nos pesos. Valores altos resulta em mais regularization;\n",
        "* lambda (somente para problemas de Regressão) - L2 regularization nos pesos.\n",
        "* colsample_bytree: 1 - porcentagem de COLUNAS usados por cada árvore. Alto valor pode causar overfitting;\n",
        "* subsample: 0.8 - porcentagem de amostras usadas por árvore. Um valor baixo pode levar a overfitting;\n",
        "* gamma: 1 - Controla se um determinado nó será dividido com base na redução esperada na perda após a divisão. Um valor mais alto leva a menos divisões.\n",
        "* objective: Define a \"loss function\". As opções são:\n",
        "    * reg:linear - Para resolver problemas de regressão;\n",
        "    * reg:logistic - Para resolver problemas de classificação;\n",
        "    * binary:logistic - Para resolver problemas de classificação com cálculo de probabilidades;\n",
        "\n",
        "# Referências\n",
        "* [How exactly XGBoost Works?](https://medium.com/@pushkarmandot/how-exactly-xgboost-works-a320d9b8aeef)\n",
        "* [Fine-tuning XGBoost in Python like a boss](https://towardsdatascience.com/fine-tuning-xgboost-in-python-like-a-boss-b4543ed8b1e)\n",
        "* [Gentle Introduction of XGBoost Library](https://medium.com/@imoisharma/gentle-introduction-of-xgboost-library-2b1ac2669680)\n",
        "* [A Beginner’s guide to XGBoost](https://towardsdatascience.com/a-beginners-guide-to-xgboost-87f5d4c30ed7)\n",
        "* [Exploring XGBoost](https://towardsdatascience.com/exploring-xgboost-4baf9ace0cf6)\n",
        "* [Feature Importance and Feature Selection With XGBoost in Python](https://machinelearningmastery.com/feature-importance-and-feature-selection-with-xgboost-in-python/)\n",
        "* [Ensemble Learning case study: Running XGBoost on Google Colab free GPU](https://towardsdatascience.com/running-xgboost-on-google-colab-free-gpu-a-case-study-841c90fef101) - Recomendo\n",
        "* [Predicting movie revenue with AdaBoost, XGBoost and LightGBM](https://towardsdatascience.com/predicting-movie-revenue-with-adaboost-xgboost-and-lightgbm-262eadee6daa)\n",
        "* [Tuning XGBoost Hyperparameters with Scikit Optimize](https://towardsdatascience.com/how-to-improve-the-performance-of-xgboost-models-1af3995df8ad)\n",
        "* [An Example of Hyperparameter Optimization on XGBoost, LightGBM and CatBoost using Hyperopt](https://towardsdatascience.com/an-example-of-hyperparameter-optimization-on-xgboost-lightgbm-and-catboost-using-hyperopt-12bc41a271e) - Interessante\n",
        "* [XGBOOST vs LightGBM: Which algorithm wins the race !!!](https://towardsdatascience.com/lightgbm-vs-xgboost-which-algorithm-win-the-race-1ff7dd4917d) - LightGBM tem se mostrado interessante.\n",
        "* [From Zero to Hero in XGBoost Tuning](https://towardsdatascience.com/from-zero-to-hero-in-xgboost-tuning-e48b59bfaf58) - Gostei\n",
        "* [Build XGBoost / LightGBM models on large datasets — what are the possible solutions?](https://towardsdatascience.com/build-xgboost-lightgbm-models-on-large-datasets-what-are-the-possible-solutions-bf882da2c27d)\n",
        "* [Selecting Optimal Parameters for XGBoost Model Training](https://towardsdatascience.com/selecting-optimal-parameters-for-xgboost-model-training-c7cd9ed5e45e) - Muito bom!\n",
        "* [CatBoost vs. Light GBM vs. XGBoost](https://towardsdatascience.com/catboost-vs-light-gbm-vs-xgboost-5f93620723db)\n"
      ]
    },
    {
      "cell_type": "code",
      "metadata": {
        "id": "iMM_R4_ukV7x"
      },
      "source": [
        "from xgboost import XGBClassifier\n",
        "import xgboost as xgb\n",
        "\n",
        "# Instancia...\n",
        "ml_XGB = XGBClassifier(silent = False, \n",
        "                       scale_pos_weight=1,\n",
        "                       learning_rate=0.01,  \n",
        "                       colsample_bytree = 1,\n",
        "                       subsample = 0.8,\n",
        "                       objective='binary:logistic', \n",
        "                       n_estimators=1000, \n",
        "                       reg_alpha = 0.3,\n",
        "                       max_depth= 3, \n",
        "                       gamma=1, \n",
        "                       max_delta_step=5)"
      ],
      "execution_count": null,
      "outputs": []
    },
    {
      "cell_type": "code",
      "metadata": {
        "id": "E4wQMlDEFINR"
      },
      "source": [
        "# Treina...\n",
        "ml_XGB.fit(X_treinamento, y_treinamento)"
      ],
      "execution_count": null,
      "outputs": []
    },
    {
      "cell_type": "code",
      "metadata": {
        "id": "S77LljiQR_16"
      },
      "source": [
        "# Cross-Validation com 10 folds\n",
        "a_scores_CV = funcao_cross_val_score(ml_XGB, X_treinamento, y_treinamento, i_CV)"
      ],
      "execution_count": null,
      "outputs": []
    },
    {
      "cell_type": "markdown",
      "metadata": {
        "id": "JNyKX6PkrXOk"
      },
      "source": [
        "**Interpretação**: Nosso classificador (XGBClassifier) tem uma acurácia média de 96,72% (base de treinamento) e std na ordem dos 2,02%. Na sequência, tentativa de melhorar a acurácia do classificador usando parameter tunning (GridSearchCV)."
      ]
    },
    {
      "cell_type": "code",
      "metadata": {
        "id": "_h0QYv3FkV73"
      },
      "source": [
        "print(f'Acurácias: {a_scores_CV}')"
      ],
      "execution_count": null,
      "outputs": []
    },
    {
      "cell_type": "code",
      "metadata": {
        "id": "AKhhAZLjkV76"
      },
      "source": [
        "# Faz predições...\n",
        "y_pred = ml_XGB.predict(X_teste)"
      ],
      "execution_count": null,
      "outputs": []
    },
    {
      "cell_type": "code",
      "metadata": {
        "id": "Ir2Kd1PqGHgz"
      },
      "source": [
        "# Confusion Matrix\n",
        "cf_matrix = confusion_matrix(y_teste, y_pred)\n",
        "cf_labels = ['True_Negative','False_Positive','False_Negative','True_Positive']\n",
        "cf_categories = ['Zero', 'One']\n",
        "mostra_confusion_matrix(cf_matrix, group_names= cf_labels, categories= cf_categories)"
      ],
      "execution_count": null,
      "outputs": []
    },
    {
      "cell_type": "markdown",
      "metadata": {
        "id": "jEC7gW4qYpWw"
      },
      "source": [
        "## Parameter tunning\n",
        "### Leitura Adicional:\n",
        "* [Fine-tuning XGBoost in Python like a boss](https://towardsdatascience.com/fine-tuning-xgboost-in-python-like-a-boss-b4543ed8b1e)\n",
        "* [Complete Guide to Parameter Tuning in XGBoost with codes in Python](https://www.analyticsvidhya.com/blog/2016/03/complete-guide-parameter-tuning-xgboost-with-codes-python/)\n",
        "\n",
        "> Olhando para os resultados acima, qual o melhor modelo?\n",
        "\n",
        "XGBoost? Supondo que sim, agora vamos fazer o fine-tuning dos hiperparâmetros do modelo."
      ]
    },
    {
      "cell_type": "code",
      "metadata": {
        "id": "n3MsUONPwIV9"
      },
      "source": [
        "# Dicionário de Hiperparâmetros para XGBoost:\n",
        "d_hiperparametros_XGB = {'min_child_weight': [i for i in np.arange(1, 13)]} #,\n",
        "#                'gamma': [i for i in np.arange(0, 5, 0.5)],\n",
        "#                'subsample': [0.6, 0.8, 1.0],\n",
        "#                'colsample_bytree': [0.6, 0.8, 1.0],\n",
        "#                'max_depth': [3, 4, 5, 7, 9],\n",
        "#                'learning_rate': [i for i in np.arange(0.01, 1, 0.1)]}"
      ],
      "execution_count": null,
      "outputs": []
    },
    {
      "cell_type": "code",
      "metadata": {
        "id": "CX27FCKmwSni"
      },
      "source": [
        "# Invoca a função\n",
        "ml_XGB, best_params= GridSearchOptimizer(ml_XGB, 'ml_XGB2', d_hiperparametros_XGB, X_treinamento, y_treinamento, X_teste, y_teste, i_CV, l_colunas)"
      ],
      "execution_count": null,
      "outputs": []
    },
    {
      "cell_type": "markdown",
      "metadata": {
        "id": "9b7uCuF74Hjv"
      },
      "source": [
        "### Resultado da execução do XGBoostClassifier\n",
        "\n",
        "```\n",
        "[Parallel(n_jobs=-1)]: Done 108000 out of 108000 | elapsed: 372.0min finished\n",
        "\n",
        "Hiperparâmetros otimizados: {'colsample_bytree': 0.8, 'gamma': 0.5, 'learning_rate': 0.51, 'max_depth': 5, 'min_child_weight': 1, 'subsample': 0.6}\n",
        "```\n",
        "\n"
      ]
    },
    {
      "cell_type": "code",
      "metadata": {
        "id": "n7E0oyxEtbGi"
      },
      "source": [
        "# Como o procedimento acima levou 372 minutos para executar, então vou estimar ml_XGB2 abaixo usando os parâmetros acima estimados\n",
        "best_params= {'colsample_bytree': 0.8, 'gamma': 0.5, 'learning_rate': 0.51, 'max_depth': 5, 'min_child_weight': 1, 'subsample': 0.6}\n",
        "\n",
        "ml_XGB2= XGBClassifier(min_child_weight= best_params['min_child_weight'], \n",
        "                       gamma= best_params['gamma'], \n",
        "                       subsample= best_params['subsample'], \n",
        "                       colsample_bytree= best_params['colsample_bytree'], \n",
        "                       max_depth= best_params['max_depth'], \n",
        "                       learning_rate= best_params['learning_rate'], \n",
        "                       random_state= i_Seed)"
      ],
      "execution_count": null,
      "outputs": []
    },
    {
      "cell_type": "markdown",
      "metadata": {
        "id": "CuqyLHTU5Z-j"
      },
      "source": [
        "## Selecionar as COLUNAS importantes/relevantes\n",
        "* [The Multiple faces of ‘Feature importance’ in XGBoost](https://towardsdatascience.com/be-careful-when-interpreting-your-features-importance-in-xgboost-6e16132588e7)"
      ]
    },
    {
      "cell_type": "code",
      "metadata": {
        "id": "QPG3JZIpRZ-T"
      },
      "source": [
        "# plot feature importance\n",
        "from xgboost import plot_importance\n",
        "\n",
        "xgb.plot_importance(ml_XGB2, color = 'red')\n",
        "plt.title('importance', fontsize = 20)\n",
        "plt.yticks(fontsize = 10)\n",
        "plt.ylabel('features', fontsize = 20)"
      ],
      "execution_count": null,
      "outputs": []
    },
    {
      "cell_type": "code",
      "metadata": {
        "id": "EmpRC2lHW-KP"
      },
      "source": [
        "ml_XGB2"
      ],
      "execution_count": null,
      "outputs": []
    },
    {
      "cell_type": "code",
      "metadata": {
        "id": "4f9MIEBiyq-5"
      },
      "source": [
        "X_treinamento_XGB, X_teste_XGB= seleciona_colunas_relevantes(ml_XGB2, X_treinamento, X_teste)"
      ],
      "execution_count": null,
      "outputs": []
    },
    {
      "cell_type": "markdown",
      "metadata": {
        "id": "F6EayWaY5nMm"
      },
      "source": [
        "## Treina o classificador com as COLUNAS relevantes"
      ]
    },
    {
      "cell_type": "code",
      "metadata": {
        "id": "Huy18gKI5qad"
      },
      "source": [
        "best_params"
      ],
      "execution_count": null,
      "outputs": []
    },
    {
      "cell_type": "code",
      "metadata": {
        "id": "E3-PaTdc5vZk"
      },
      "source": [
        "# Treina com as COLUNAS relevantes...\n",
        "ml_XGB2.fit(X_treinamento_XGB, y_treinamento)\n",
        "\n",
        "# Cross-Validation com 10 folds\n",
        "a_scores_CV = funcao_cross_val_score(ml_XGB2, X_treinamento_XGB, y_treinamento, i_CV)"
      ],
      "execution_count": null,
      "outputs": []
    },
    {
      "cell_type": "markdown",
      "metadata": {
        "id": "tBdYikDU6NhD"
      },
      "source": [
        "## Valida o modelo usando o dataframe X_teste"
      ]
    },
    {
      "cell_type": "code",
      "metadata": {
        "id": "GcvY-VdL6VIZ"
      },
      "source": [
        "y_pred_XGB = ml_XGB2.predict(X_teste_XGB)\n",
        "\n",
        "# Calcula acurácia\n",
        "accuracy_score(y_teste, y_pred_XGB)"
      ],
      "execution_count": null,
      "outputs": []
    },
    {
      "cell_type": "code",
      "metadata": {
        "id": "8oLtdH-vTSbC"
      },
      "source": [
        "xgb.to_graphviz(ml_XGB2)"
      ],
      "execution_count": null,
      "outputs": []
    },
    {
      "cell_type": "markdown",
      "metadata": {
        "id": "czXQG3MCHfHM"
      },
      "source": [
        "# KNN - KNEIGHBORSCLASSIFIER"
      ]
    },
    {
      "cell_type": "markdown",
      "metadata": {
        "id": "llTTXNeyHiwx"
      },
      "source": [
        "# BAGGINGCLASSIFIER"
      ]
    },
    {
      "cell_type": "markdown",
      "metadata": {
        "id": "Fbkekd4QHoZO"
      },
      "source": [
        "# EXTRATREESCLASSIFIER"
      ]
    },
    {
      "cell_type": "markdown",
      "metadata": {
        "id": "widavwR4HzwE"
      },
      "source": [
        "# SVM"
      ]
    },
    {
      "cell_type": "markdown",
      "metadata": {
        "id": "id_Ubulns6We"
      },
      "source": [
        "# NAIVE BAYES"
      ]
    },
    {
      "cell_type": "markdown",
      "metadata": {
        "id": "EwWkjfC8KEZH"
      },
      "source": [
        "# ENSEMBLE METHODS\n",
        "https://towardsdatascience.com/using-bagging-and-boosting-to-improve-classification-tree-accuracy-6d3bb6c95e5b\n",
        "\n",
        "![Ensemble](https://github.com/MathMachado/Materials/blob/master/Ensemble.png?raw=true)"
      ]
    },
    {
      "cell_type": "code",
      "metadata": {
        "id": "ycu_EIGlYUYn"
      },
      "source": [
        "import pandas as pd\n",
        "\n",
        "from xgboost              import XGBClassifier\n",
        "from sklearn.ensemble     import ExtraTreesClassifier\n",
        "from sklearn.tree         import ExtraTreeClassifier\n",
        "from sklearn.tree         import DecisionTreeClassifier\n",
        "from sklearn.ensemble     import GradientBoostingClassifier\n",
        "from sklearn.ensemble     import BaggingClassifier\n",
        "from sklearn.ensemble     import AdaBoostClassifier\n",
        "from sklearn.ensemble     import RandomForestClassifier\n",
        "from sklearn.linear_model import LogisticRegression\n",
        "from lightgbm             import LGBMClassifier\n",
        "\n",
        "clfs = [XGBClassifier(),              LGBMClassifier(), \n",
        "        ExtraTreesClassifier(),       ExtraTreeClassifier(),\n",
        "        BaggingClassifier(),          DecisionTreeClassifier(),\n",
        "        GradientBoostingClassifier(), LogisticRegression(),\n",
        "        AdaBoostClassifier(),         RandomForestClassifier()]\n",
        "\n",
        "for clf in clfs:\n",
        "    try:\n",
        "        _ = mostra_feature_importances(clf, X_treinamento, y_treinamento, top_n = X_treinamento.shape[1], title=clf.__class__.__name__)\n",
        "    except AttributeError as e:\n",
        "        print(e)"
      ],
      "execution_count": null,
      "outputs": []
    },
    {
      "cell_type": "markdown",
      "metadata": {
        "id": "qtoJVI4Pyx3I"
      },
      "source": [
        "# **IMBALANCED SAMPLE**\n",
        "> Alguns objetivos como detectar fraude em transações bancárias ou detecção de intrusão em network tem em comum o fato que a classe de interesse (o que queremos detectar), geralmente é um evento raro\n",
        "\n",
        "## Exemplo: Detectar fraude\n",
        "A proporção de fraudes diante de NÃO-FRAUDES são mais ou menos 1%/99%. Neste caso, ao desenvovermos um modelo para detectar fraudes e o modelo classificar todas as instâncias como NÃO-FRAUDE, então o modelo terá uma acurácia de 99%. No entanto, este modelo não nos ajudará em nada.\n",
        "\n",
        "## Necessidade de se usar outras métricas \n",
        "> Recomenda-se utilizar outras métricas (na verdade, é boa prática usar mais de 1 métrica para medir a performance dos modelos) como, por exemplo, F1-Score, Precision/Specificity, Recall/Sensitivity e AUROC.\n",
        "\n",
        "## Como lidar com a amostra desbalanceada?\n",
        "* Under-sampling\n",
        "> Seleciona aleatoriamente a classe MAJORITÁRIA (em nosso exemplo, NÃO-FRAUDE) até o número de instâncias da classe MINORITÁRIA (FRAUDE);\n",
        "\n",
        "* Over-sampling\n",
        "> Resample aleatoriamente a classe MINORITÁRIA (em nosso exemplo, FRAUDE) até o número de instâncias da classe MAJORITÁRIA (NÃO-FRAUDE), ou uma proporção da classe MAJORITÁRIA. Veja a bibliotea SMOTE (Synthetic Minority Over-Sampling Techniques);\n",
        "\n",
        "\n"
      ]
    },
    {
      "cell_type": "markdown",
      "metadata": {
        "id": "2o45zx8zw-aB"
      },
      "source": [
        "## EFEITOS DA AMOSTRA DESBALANCEADA"
      ]
    },
    {
      "cell_type": "markdown",
      "metadata": {
        "id": "cCVTPCB-Xkbd"
      },
      "source": [
        "# TPOT\n",
        "https://towardsdatascience.com/tpot-automated-machine-learning-in-python-4c063b3e5de9"
      ]
    },
    {
      "cell_type": "code",
      "metadata": {
        "id": "2ulXii6JXpWd"
      },
      "source": [
        ""
      ],
      "execution_count": null,
      "outputs": []
    },
    {
      "cell_type": "markdown",
      "metadata": {
        "id": "_TWUq-z4X4yZ"
      },
      "source": [
        "___\n",
        "# FEATURETOOLS\n",
        "https://medium.com/@rrfd/simple-automatic-feature-engineering-using-featuretools-in-python-for-classification-b1308040e183\n",
        "\n",
        "https://www.analyticsvidhya.com/blog/2018/08/guide-automated-feature-engineering-featuretools-python/\n",
        "\n",
        "https://mlwhiz.com/blog/2019/05/19/feature_extraction/\n",
        "\n"
      ]
    },
    {
      "cell_type": "markdown",
      "metadata": {
        "id": "igHfzeA1Y90p"
      },
      "source": [
        "# Picaret"
      ]
    },
    {
      "cell_type": "markdown",
      "metadata": {
        "id": "aWiahwKe2d6U"
      },
      "source": [
        "# **EXERCÍCIOS**\n",
        "> Encontre algoritmos adequados para ser aplicados aos seguintes problemas:"
      ]
    },
    {
      "cell_type": "markdown",
      "metadata": {
        "id": "XbSLkbDB2mzK"
      },
      "source": [
        "## Exercício 1 - Credit Card Fraud Detection\n",
        "Source: [Credit Card Fraud Detection](https://www.kaggle.com/mlg-ulb/creditcardfraud)\n",
        "\n",
        "### Leitura suporte\n",
        "* [Detecting Credit Card Fraud Using Machine Learning](https://towardsdatascience.com/detecting-credit-card-fraud-using-machine-learning-a3d83423d3b8)\n",
        "* [Credit Card Fraud Detection](https://towardsdatascience.com/credit-card-fraud-detection-a1c7e1b75f59)\n",
        "\n",
        "### Dataframe\n",
        "* [Creditcard.csv](https://raw.githubusercontent.com/MathMachado/DSWP/master/Dataframes/creditcard.csv)"
      ]
    },
    {
      "cell_type": "code",
      "metadata": {
        "id": "lAl9ZwP_0-d0"
      },
      "source": [
        "url = 'https://raw.githubusercontent.com/MathMachado/DSWP/master/Dataframes/creditcard.csv'\n",
        "df_cc = pd.read_csv(url)"
      ],
      "execution_count": null,
      "outputs": []
    },
    {
      "cell_type": "markdown",
      "metadata": {
        "id": "oYgK6JXd3MgA"
      },
      "source": [
        "## Exercício 2 - Predicting species on IRIS dataset\n"
      ]
    },
    {
      "cell_type": "code",
      "metadata": {
        "id": "si0rsJvu3O6O"
      },
      "source": [
        "from sklearn import datasets\n",
        "import xgboost as xgb\n",
        "\n",
        "iris = datasets.load_iris()\n",
        "X_iris = iris.data\n",
        "y_iris = iris.target"
      ],
      "execution_count": null,
      "outputs": []
    },
    {
      "cell_type": "markdown",
      "metadata": {
        "id": "zom8t4yWC_UC"
      },
      "source": [
        "## Exercício 3 - Predict Wine Quality\n",
        "> Estimar a qualidade dos vinhos, numa scala de 0–100. A seguir, a qualidade em função da escala:\n",
        "\n",
        "* 95–100 Classic: a great wine\n",
        "* 90–94 Outstanding: a wine of superior character and style\n",
        "* 85–89 Very good: a wine with special qualities\n",
        "* 80–84 Good: a solid, well-made wine\n",
        "* 75–79 Mediocre: a drinkable wine that may have minor flaws\n",
        "* 50–74 Not recommended\n",
        "\n",
        "Source: [Wine Reviews](https://www.kaggle.com/zynicide/wine-reviews)"
      ]
    },
    {
      "cell_type": "code",
      "metadata": {
        "id": "klL2Q9Ria96n"
      },
      "source": [
        "import numpy as np\n",
        "import pandas as pd\n",
        "from sklearn import datasets\n",
        "\n",
        "Wine = datasets.load_wine()\n",
        "X_vinho = Wine.data\n",
        "y_vinho = Wine.target"
      ],
      "execution_count": null,
      "outputs": []
    },
    {
      "cell_type": "markdown",
      "metadata": {
        "id": "lhVhSWBgGijq"
      },
      "source": [
        "## Exercício 4 - Predict Parkinson\n",
        "Source: https://archive.ics.uci.edu/ml/machine-learning-databases/parkinsons/"
      ]
    },
    {
      "cell_type": "markdown",
      "metadata": {
        "id": "SVCxHqv0VBJn"
      },
      "source": [
        "## Exercício 5 - Predict survivors from Titanic tragedy\n"
      ]
    },
    {
      "cell_type": "code",
      "metadata": {
        "id": "CwvB8us4eKNi"
      },
      "source": [
        "import numpy as np\n",
        "import pandas as pd\n",
        "import seaborn as sns\n",
        "\n",
        "df_titanic = sns.load_dataset('titanic')"
      ],
      "execution_count": null,
      "outputs": []
    },
    {
      "cell_type": "markdown",
      "metadata": {
        "id": "ZJrT9YIXVdtx"
      },
      "source": [
        "## Exercício 6 - Predict Loan\n",
        "> Os dados devem ser obtidos diretamente da fonte: [Loan Default Prediction - Imperial College London](https://www.kaggle.com/c/loan-default-prediction/data)\n",
        "\n",
        "* [Bank Loan Default Prediction](https://medium.com/@wutianhao910/bank-loan-default-prediction-94d4902db740)"
      ]
    },
    {
      "cell_type": "markdown",
      "metadata": {
        "id": "R8-GVu7ZWeA8"
      },
      "source": [
        "## Exercício 7 - Predict the sales of a store.\n",
        "* [Predicting expected sales for Bigmart’s stores](https://medium.com/diogo-menezes-borges/project-1-bigmart-sale-prediction-fdc04f07dc1e)\n",
        "* Dataframes\n",
        "    * [Treinamento](https://raw.githubusercontent.com/MathMachado/DataFrames/master/Big_Mart_Sales_III_train.txt)\n",
        "    * [Validação](https://raw.githubusercontent.com/MathMachado/DataFrames/master/Big_Mart_Sales_III_test.txt)\n"
      ]
    },
    {
      "cell_type": "markdown",
      "metadata": {
        "id": "fv9w86j4Wnwj"
      },
      "source": [
        "## Exercício 8 - [The Boston Housing Dataset](https://www.cs.toronto.edu/~delve/data/boston/bostonDetail.html)\n",
        "> Predict the median value of owner occupied homes."
      ]
    },
    {
      "cell_type": "code",
      "metadata": {
        "id": "5HYRt8-ug1BT"
      },
      "source": [
        "import numpy as np\n",
        "import pandas as pd\n",
        "from sklearn import datasets\n",
        "\n",
        "Boston = datasets.load_boston()\n",
        "X_boston = Boston.data\n",
        "y_boston = Boston.target"
      ],
      "execution_count": null,
      "outputs": []
    },
    {
      "cell_type": "markdown",
      "metadata": {
        "id": "1UDIaqmtXQ0T"
      },
      "source": [
        "## Exercício 9 - Predict the height or weight of a person.\n",
        "\n",
        "http://wiki.stat.ucla.edu/socr/index.php/SOCR_Data_Dinov_020108_HeightsWeights"
      ]
    },
    {
      "cell_type": "markdown",
      "metadata": {
        "id": "-7R146nIXmMT"
      },
      "source": [
        "## Exercício 10 - Black Friday Sales Prediction - Predict purchase amount.\n",
        "\n",
        "This dataset comprises of sales transactions captured at a retail store. It’s a classic dataset to explore and expand your feature engineering skills and day to day understanding from multiple shopping experiences. This is a regression problem. The dataset has 550,069 rows and 12 columns.\n",
        "\n",
        "https://github.com/MathMachado/DataFrames/blob/master/blackfriday.zip\n",
        "\n"
      ]
    },
    {
      "cell_type": "markdown",
      "metadata": {
        "id": "mQ8FPbuLZlIh"
      },
      "source": [
        "## Exercício 11 - Predict the income class of US population.\n",
        "\n",
        "http://archive.ics.uci.edu/ml/machine-learning-databases/census-income-mld/"
      ]
    },
    {
      "cell_type": "markdown",
      "metadata": {
        "id": "Af4NRrchgPlM"
      },
      "source": [
        "## Exercício 12 - Predicting Cancer\n"
      ]
    },
    {
      "cell_type": "code",
      "metadata": {
        "id": "c4LOlgZW3P40"
      },
      "source": [
        "from sklearn import datasets\n",
        "cancer = datasets.load_breast_cancer()\n",
        "X_cancer = cancer.data\n",
        "y_cancer = cancer.target"
      ],
      "execution_count": null,
      "outputs": []
    },
    {
      "cell_type": "markdown",
      "metadata": {
        "id": "74PmpT8Ix0tD"
      },
      "source": [
        "## Exercício 13\n",
        "Source: [Complete Machine Learning Guide to Parameter Tuning in Gradient Boosting (GBM) in Python](https://www.analyticsvidhya.com/blog/2016/02/complete-guide-parameter-tuning-gradient-boosting-gbm-python/).\n",
        "\n"
      ]
    },
    {
      "cell_type": "markdown",
      "metadata": {
        "id": "WY8GZMixZ9W9"
      },
      "source": [
        "## Exercício 14 - Predict Diabetes"
      ]
    },
    {
      "cell_type": "code",
      "metadata": {
        "id": "y92t6tbOge0S"
      },
      "source": [
        "from sklearn import datasets\n",
        "Diabetes= datasets.load_diabetes()\n",
        "\n",
        "X_diabetes = Diabetes.data\n",
        "y_diabetes = Diabetes.target"
      ],
      "execution_count": null,
      "outputs": []
    }
  ]
}