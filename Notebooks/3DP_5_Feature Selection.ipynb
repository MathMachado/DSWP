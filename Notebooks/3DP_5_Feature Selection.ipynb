{
  "nbformat": 4,
  "nbformat_minor": 0,
  "metadata": {
    "kernelspec": {
      "display_name": "Python 3",
      "language": "python",
      "name": "python3"
    },
    "language_info": {
      "codemirror_mode": {
        "name": "ipython",
        "version": 3
      },
      "file_extension": ".py",
      "mimetype": "text/x-python",
      "name": "python",
      "nbconvert_exporter": "python",
      "pygments_lexer": "ipython3",
      "version": "3.6.4"
    },
    "colab": {
      "name": "Copy of 10. Feature Selection Techniques.ipynb",
      "version": "0.3.2",
      "provenance": [],
      "toc_visible": true,
      "include_colab_link": true
    }
  },
  "cells": [
    {
      "cell_type": "markdown",
      "metadata": {
        "id": "view-in-github",
        "colab_type": "text"
      },
      "source": [
        "<a href=\"https://colab.research.google.com/github/MathMachado/DSWP/blob/master/Notebooks/3DP_5_Feature%20Selection.ipynb\" target=\"_parent\"><img src=\"https://colab.research.google.com/assets/colab-badge.svg\" alt=\"Open In Colab\"/></a>"
      ]
    },
    {
      "cell_type": "markdown",
      "metadata": {
        "id": "ngLc7b9XiKxN",
        "colab_type": "text"
      },
      "source": [
        "# 3DP_FEATURE SELECTION\n",
        "\n",
        "![FeatureSelection](https://github.com/MathMachado/Python_RFB/blob/master/Material/FeatureSelection.png?raw=true)\n",
        "\n",
        "[Fonte](https://medium.com/@sundarstyles89/weight-of-evidence-and-information-value-using-python-6f05072e83eb)"
      ]
    },
    {
      "cell_type": "markdown",
      "metadata": {
        "id": "lkbjOcGPYoSQ",
        "colab_type": "text"
      },
      "source": [
        "\n",
        "<hr>\n",
        "\n",
        "# Agenda\n",
        "* Introduction to Feature Selection\n",
        "* VarianceThreshold\n",
        "* Chi-squared stats\n",
        "* ANOVA using f_classif\n",
        "* Univariate Linear Regression Tests using f_regression\n",
        "* F-score vs Mutual Information\n",
        "* Mutual Information for regression using mutual_info_regression\n",
        "* SelectFromModel\n",
        "* Recursive Feature Elemination\n",
        "* Feature Selection With Random Forest\n",
        "* Feature Selection With XGBoost\n",
        "* Feature Selection using PCA (Principal Components Analysis)\n",
        "\n",
        "<hr>"
      ]
    },
    {
      "cell_type": "markdown",
      "metadata": {
        "id": "7AswFofBiKxQ",
        "colab_type": "text"
      },
      "source": [
        "## Introdução à Feature Selection\n",
        "* Selecionar features/variáveis para Machine Learnig;\n",
        "* Melhorar a acurácia;\n",
        "* Melhora a performance diante de grandes volumes de dados;\n",
        "* Abaixo, vamos abordar os métodos de seleção univariados de features;\n",
        "* Também, vamos discutir alguns métodos de eliminação de featurs;"
      ]
    },
    {
      "cell_type": "code",
      "metadata": {
        "id": "IYynpp4GZert",
        "colab_type": "code",
        "outputId": "f3204135-4ac9-4a7f-a6e8-767e62e61177",
        "colab": {
          "base_uri": "https://localhost:8080/",
          "height": 193
        }
      },
      "source": [
        "!pip install bamboolib"
      ],
      "execution_count": 0,
      "outputs": [
        {
          "output_type": "stream",
          "text": [
            "Collecting bamboolib\n",
            "  Downloading https://files.pythonhosted.org/packages/2d/08/8da483f27d11b8601716138bf2d4b4a54c42be90b962596a1fde6c3f5a0c/bamboolib-0.0.0.tar.gz\n",
            "Building wheels for collected packages: bamboolib\n",
            "  Building wheel for bamboolib (setup.py) ... \u001b[?25l\u001b[?25hdone\n",
            "  Created wheel for bamboolib: filename=bamboolib-0.0.0-cp36-none-any.whl size=1251 sha256=c4b921df3c41bb9cf93c105a60748e88e138b4233bfaf40d4cb1cfa0305f45f0\n",
            "  Stored in directory: /root/.cache/pip/wheels/3a/d4/20/5f7ee98e67d8820e1a0b61d119c9a1858b874eda9ab3cc3128\n",
            "Successfully built bamboolib\n",
            "Installing collected packages: bamboolib\n",
            "Successfully installed bamboolib-0.0.0\n"
          ],
          "name": "stdout"
        }
      ]
    },
    {
      "cell_type": "code",
      "metadata": {
        "id": "T9JCQatsiKxR",
        "colab_type": "code",
        "outputId": "eaabcdd6-dc20-4cc7-e7c8-11ec76368a19",
        "colab": {
          "base_uri": "https://localhost:8080/",
          "height": 394
        }
      },
      "source": [
        "from sklearn import feature_selection\n",
        "import pandas as pd\n",
        "import numpy as np\n",
        "import seaborn as sns\n",
        "import bamboolib\n",
        "import matplotlib.pyplot as plt\n",
        "%matplotlib inline"
      ],
      "execution_count": 0,
      "outputs": [
        {
          "output_type": "error",
          "ename": "ModuleNotFoundError",
          "evalue": "ignored",
          "traceback": [
            "\u001b[0;31m---------------------------------------------------------------------------\u001b[0m",
            "\u001b[0;31mModuleNotFoundError\u001b[0m                       Traceback (most recent call last)",
            "\u001b[0;32m<ipython-input-2-2895a981eab0>\u001b[0m in \u001b[0;36m<module>\u001b[0;34m()\u001b[0m\n\u001b[1;32m      3\u001b[0m \u001b[0;32mimport\u001b[0m \u001b[0mnumpy\u001b[0m \u001b[0;32mas\u001b[0m \u001b[0mnp\u001b[0m\u001b[0;34m\u001b[0m\u001b[0;34m\u001b[0m\u001b[0m\n\u001b[1;32m      4\u001b[0m \u001b[0;32mimport\u001b[0m \u001b[0mseaborn\u001b[0m \u001b[0;32mas\u001b[0m \u001b[0msns\u001b[0m\u001b[0;34m\u001b[0m\u001b[0;34m\u001b[0m\u001b[0m\n\u001b[0;32m----> 5\u001b[0;31m \u001b[0;32mimport\u001b[0m \u001b[0mbamboolib\u001b[0m\u001b[0;34m\u001b[0m\u001b[0;34m\u001b[0m\u001b[0m\n\u001b[0m\u001b[1;32m      6\u001b[0m \u001b[0;32mimport\u001b[0m \u001b[0mmatplotlib\u001b[0m\u001b[0;34m.\u001b[0m\u001b[0mpyplot\u001b[0m \u001b[0;32mas\u001b[0m \u001b[0mplt\u001b[0m\u001b[0;34m\u001b[0m\u001b[0;34m\u001b[0m\u001b[0m\n\u001b[1;32m      7\u001b[0m \u001b[0mget_ipython\u001b[0m\u001b[0;34m(\u001b[0m\u001b[0;34m)\u001b[0m\u001b[0;34m.\u001b[0m\u001b[0mmagic\u001b[0m\u001b[0;34m(\u001b[0m\u001b[0;34m'matplotlib inline'\u001b[0m\u001b[0;34m)\u001b[0m\u001b[0;34m\u001b[0m\u001b[0;34m\u001b[0m\u001b[0m\n",
            "\u001b[0;31mModuleNotFoundError\u001b[0m: No module named 'bamboolib'",
            "",
            "\u001b[0;31m---------------------------------------------------------------------------\u001b[0;32m\nNOTE: If your import is failing due to a missing package, you can\nmanually install dependencies using either !pip or !apt.\n\nTo view examples of installing some common dependencies, click the\n\"Open Examples\" button below.\n\u001b[0;31m---------------------------------------------------------------------------\u001b[0m\n"
          ]
        }
      ]
    },
    {
      "cell_type": "markdown",
      "metadata": {
        "id": "9U6Az5qpiKxU",
        "colab_type": "text"
      },
      "source": [
        "## VarianceThreshold\n",
        "* Drop variáveis/features cuja variância seja inferior a um determinado threshold;\n",
        "* Este é um método unsupervisionado, isto é, a variável rotulada (variável-resposta ou variável target) não entra e ação;\n",
        "* Intuição: \n",
        "    * Features/variáveis com baixa variância contem baixa informação;\n",
        "* Como funciona:\n",
        "    * Calcula a variância para cada feature/variável e então deleta a coluna/variável com baixa variância\n",
        "* Cuidados:\n",
        "    * Assegure-se que as features/variáveis tenham a mesma escala. Ou seja, use StandardScaler() ou MinMaxScaler() para colocar as variáveis na mesma escala."
      ]
    },
    {
      "cell_type": "code",
      "metadata": {
        "id": "euWJlVAViKxV",
        "colab_type": "code",
        "outputId": "dab04888-ed5b-4687-f104-e7af498b298f",
        "colab": {
          "base_uri": "https://localhost:8080/",
          "height": 294
        }
      },
      "source": [
        "df = pd.DataFrame({'A':['m','f','m','m','m','m','m','m'], \n",
        "              'B':[1,2,3,1,2,1,1,1], \n",
        "              'C':[1,2,3,1,2,1,1,1]})\n",
        "df"
      ],
      "execution_count": 0,
      "outputs": [
        {
          "output_type": "execute_result",
          "data": {
            "text/html": [
              "<div>\n",
              "<style scoped>\n",
              "    .dataframe tbody tr th:only-of-type {\n",
              "        vertical-align: middle;\n",
              "    }\n",
              "\n",
              "    .dataframe tbody tr th {\n",
              "        vertical-align: top;\n",
              "    }\n",
              "\n",
              "    .dataframe thead th {\n",
              "        text-align: right;\n",
              "    }\n",
              "</style>\n",
              "<table border=\"1\" class=\"dataframe\">\n",
              "  <thead>\n",
              "    <tr style=\"text-align: right;\">\n",
              "      <th></th>\n",
              "      <th>A</th>\n",
              "      <th>B</th>\n",
              "      <th>C</th>\n",
              "    </tr>\n",
              "  </thead>\n",
              "  <tbody>\n",
              "    <tr>\n",
              "      <th>0</th>\n",
              "      <td>m</td>\n",
              "      <td>1</td>\n",
              "      <td>1</td>\n",
              "    </tr>\n",
              "    <tr>\n",
              "      <th>1</th>\n",
              "      <td>f</td>\n",
              "      <td>2</td>\n",
              "      <td>2</td>\n",
              "    </tr>\n",
              "    <tr>\n",
              "      <th>2</th>\n",
              "      <td>m</td>\n",
              "      <td>3</td>\n",
              "      <td>3</td>\n",
              "    </tr>\n",
              "    <tr>\n",
              "      <th>3</th>\n",
              "      <td>m</td>\n",
              "      <td>1</td>\n",
              "      <td>1</td>\n",
              "    </tr>\n",
              "    <tr>\n",
              "      <th>4</th>\n",
              "      <td>m</td>\n",
              "      <td>2</td>\n",
              "      <td>2</td>\n",
              "    </tr>\n",
              "    <tr>\n",
              "      <th>5</th>\n",
              "      <td>m</td>\n",
              "      <td>1</td>\n",
              "      <td>1</td>\n",
              "    </tr>\n",
              "    <tr>\n",
              "      <th>6</th>\n",
              "      <td>m</td>\n",
              "      <td>1</td>\n",
              "      <td>1</td>\n",
              "    </tr>\n",
              "    <tr>\n",
              "      <th>7</th>\n",
              "      <td>m</td>\n",
              "      <td>1</td>\n",
              "      <td>1</td>\n",
              "    </tr>\n",
              "  </tbody>\n",
              "</table>\n",
              "</div>"
            ],
            "text/plain": [
              "   A  B  C\n",
              "0  m  1  1\n",
              "1  f  2  2\n",
              "2  m  3  3\n",
              "3  m  1  1\n",
              "4  m  2  2\n",
              "5  m  1  1\n",
              "6  m  1  1\n",
              "7  m  1  1"
            ]
          },
          "metadata": {
            "tags": []
          },
          "execution_count": 3
        }
      ]
    },
    {
      "cell_type": "code",
      "metadata": {
        "colab_type": "code",
        "id": "I6L5L_wtTSUe",
        "colab": {}
      },
      "source": [
        "from sklearn.preprocessing import LabelEncoder\n",
        "le = LabelEncoder()"
      ],
      "execution_count": 0,
      "outputs": []
    },
    {
      "cell_type": "code",
      "metadata": {
        "id": "VS2v_GnbiKxi",
        "colab_type": "code",
        "outputId": "61f106f7-edab-430a-b021-9c7d426b497b",
        "colab": {
          "base_uri": "https://localhost:8080/",
          "height": 294
        }
      },
      "source": [
        "# Aplica o LabelEncoder à coluna 'A':\n",
        "df['A'] = le.fit_transform(df['A'])\n",
        "df"
      ],
      "execution_count": 0,
      "outputs": [
        {
          "output_type": "execute_result",
          "data": {
            "text/html": [
              "<div>\n",
              "<style scoped>\n",
              "    .dataframe tbody tr th:only-of-type {\n",
              "        vertical-align: middle;\n",
              "    }\n",
              "\n",
              "    .dataframe tbody tr th {\n",
              "        vertical-align: top;\n",
              "    }\n",
              "\n",
              "    .dataframe thead th {\n",
              "        text-align: right;\n",
              "    }\n",
              "</style>\n",
              "<table border=\"1\" class=\"dataframe\">\n",
              "  <thead>\n",
              "    <tr style=\"text-align: right;\">\n",
              "      <th></th>\n",
              "      <th>A</th>\n",
              "      <th>B</th>\n",
              "      <th>C</th>\n",
              "    </tr>\n",
              "  </thead>\n",
              "  <tbody>\n",
              "    <tr>\n",
              "      <th>0</th>\n",
              "      <td>1</td>\n",
              "      <td>1</td>\n",
              "      <td>1</td>\n",
              "    </tr>\n",
              "    <tr>\n",
              "      <th>1</th>\n",
              "      <td>0</td>\n",
              "      <td>2</td>\n",
              "      <td>2</td>\n",
              "    </tr>\n",
              "    <tr>\n",
              "      <th>2</th>\n",
              "      <td>1</td>\n",
              "      <td>3</td>\n",
              "      <td>3</td>\n",
              "    </tr>\n",
              "    <tr>\n",
              "      <th>3</th>\n",
              "      <td>1</td>\n",
              "      <td>1</td>\n",
              "      <td>1</td>\n",
              "    </tr>\n",
              "    <tr>\n",
              "      <th>4</th>\n",
              "      <td>1</td>\n",
              "      <td>2</td>\n",
              "      <td>2</td>\n",
              "    </tr>\n",
              "    <tr>\n",
              "      <th>5</th>\n",
              "      <td>1</td>\n",
              "      <td>1</td>\n",
              "      <td>1</td>\n",
              "    </tr>\n",
              "    <tr>\n",
              "      <th>6</th>\n",
              "      <td>1</td>\n",
              "      <td>1</td>\n",
              "      <td>1</td>\n",
              "    </tr>\n",
              "    <tr>\n",
              "      <th>7</th>\n",
              "      <td>1</td>\n",
              "      <td>1</td>\n",
              "      <td>1</td>\n",
              "    </tr>\n",
              "  </tbody>\n",
              "</table>\n",
              "</div>"
            ],
            "text/plain": [
              "   A  B  C\n",
              "0  1  1  1\n",
              "1  0  2  2\n",
              "2  1  3  3\n",
              "3  1  1  1\n",
              "4  1  2  2\n",
              "5  1  1  1\n",
              "6  1  1  1\n",
              "7  1  1  1"
            ]
          },
          "metadata": {
            "tags": []
          },
          "execution_count": 7
        }
      ]
    },
    {
      "cell_type": "code",
      "metadata": {
        "id": "1w-_VsJuWVHN",
        "colab_type": "code",
        "outputId": "6a13ec91-cff7-4cf6-b378-a1575eee1c83",
        "colab": {
          "base_uri": "https://localhost:8080/",
          "height": 69
        }
      },
      "source": [
        "# Calculando as variâncias de cada Feature/variável:\n",
        "l_Variaveis= ['A', 'B', 'C']\n",
        "for s_Var in l_Variaveis:\n",
        "    print(f'{s_Var}: {round(df[s_Var].var(),2)}')"
      ],
      "execution_count": 0,
      "outputs": [
        {
          "output_type": "stream",
          "text": [
            "A: 0.12\n",
            "B: 0.57\n",
            "C: 0.57\n"
          ],
          "name": "stdout"
        }
      ]
    },
    {
      "cell_type": "code",
      "metadata": {
        "id": "3IITDmqUiKxo",
        "colab_type": "code",
        "outputId": "9dbdf977-2275-4f72-a9a7-2165cd10008e",
        "colab": {
          "base_uri": "https://localhost:8080/",
          "height": 156
        }
      },
      "source": [
        "# Selecionar atributos cuja variância seja maior que 0.2:\n",
        "vt = feature_selection.VarianceThreshold(threshold= .2)\n",
        "vt.fit_transform(df)"
      ],
      "execution_count": 0,
      "outputs": [
        {
          "output_type": "execute_result",
          "data": {
            "text/plain": [
              "array([[1, 1],\n",
              "       [2, 2],\n",
              "       [3, 3],\n",
              "       [1, 1],\n",
              "       [2, 2],\n",
              "       [1, 1],\n",
              "       [1, 1],\n",
              "       [1, 1]])"
            ]
          },
          "metadata": {
            "tags": []
          },
          "execution_count": 14
        }
      ]
    },
    {
      "cell_type": "code",
      "metadata": {
        "id": "tAOL215MiKxu",
        "colab_type": "code",
        "outputId": "50ef6044-3196-4123-ed5f-5f59ade7382a",
        "colab": {
          "base_uri": "https://localhost:8080/",
          "height": 35
        }
      },
      "source": [
        "# Variância calculada pela VarianceThreshold()\n",
        "vt.variances_"
      ],
      "execution_count": 0,
      "outputs": [
        {
          "output_type": "execute_result",
          "data": {
            "text/plain": [
              "array([0.109375, 0.5     , 0.5     ])"
            ]
          },
          "metadata": {
            "tags": []
          },
          "execution_count": 26
        }
      ]
    },
    {
      "cell_type": "markdown",
      "metadata": {
        "id": "FXyfpmWtiKyB",
        "colab_type": "text"
      },
      "source": [
        "## ANOVA com f_classif\n",
        "* Aplica-se a features/variáveis numéricas por natureza e a variável-target seja discreta por natureza;"
      ]
    },
    {
      "cell_type": "code",
      "metadata": {
        "id": "yB7TC9VKiKyC",
        "colab_type": "code",
        "colab": {}
      },
      "source": [
        "from sklearn.datasets import load_breast_cancer\n",
        "df_Cancer = load_breast_cancer()"
      ],
      "execution_count": 0,
      "outputs": []
    },
    {
      "cell_type": "code",
      "metadata": {
        "id": "vBa2C4LKiKyH",
        "colab_type": "code",
        "colab": {}
      },
      "source": [
        "X = df_Cancer.data\n",
        "Y = df_Cancer.target"
      ],
      "execution_count": 0,
      "outputs": []
    },
    {
      "cell_type": "code",
      "metadata": {
        "id": "t0QYORbSiKyL",
        "colab_type": "code",
        "colab": {}
      },
      "source": [
        "chi2, pval = feature_selection.f_classif(X,Y)"
      ],
      "execution_count": 0,
      "outputs": []
    },
    {
      "cell_type": "code",
      "metadata": {
        "id": "7BC6y7etiKyP",
        "colab_type": "code",
        "outputId": "57746639-b152-4e4a-900b-9a3623bd9551",
        "colab": {
          "base_uri": "https://localhost:8080/",
          "height": 89
        }
      },
      "source": [
        "np.round(chi2)"
      ],
      "execution_count": 0,
      "outputs": [
        {
          "output_type": "execute_result",
          "data": {
            "text/plain": [
              "array([647., 118., 697., 573.,  84., 313., 534., 862.,  70.,   0., 269.,\n",
              "         0., 254., 244.,   3.,  53.,  39., 113.,   0.,   3., 861., 150.,\n",
              "       898., 662., 122., 304., 437., 964., 119.,  66.])"
            ]
          },
          "metadata": {
            "tags": []
          },
          "execution_count": 31
        }
      ]
    },
    {
      "cell_type": "markdown",
      "metadata": {
        "id": "aYSOfeH4iKyW",
        "colab_type": "text"
      },
      "source": [
        "* Acima, cada valor representa a importância de uma feature/coluna."
      ]
    },
    {
      "cell_type": "code",
      "metadata": {
        "id": "dHFjiCAeZK3g",
        "colab_type": "code",
        "outputId": "f6e96ba3-6df9-4043-f17d-58a6accf91d9",
        "colab": {
          "base_uri": "https://localhost:8080/",
          "height": 35
        }
      },
      "source": [
        "len(chi2)"
      ],
      "execution_count": 0,
      "outputs": [
        {
          "output_type": "execute_result",
          "data": {
            "text/plain": [
              "30"
            ]
          },
          "metadata": {
            "tags": []
          },
          "execution_count": 32
        }
      ]
    },
    {
      "cell_type": "code",
      "metadata": {
        "id": "Pb4U8S1KZNs7",
        "colab_type": "code",
        "outputId": "cac78417-ffa9-4953-b64e-8b3ceb1c602a",
        "colab": {
          "base_uri": "https://localhost:8080/",
          "height": 35
        }
      },
      "source": [
        "X.shape[1]"
      ],
      "execution_count": 0,
      "outputs": [
        {
          "output_type": "execute_result",
          "data": {
            "text/plain": [
              "30"
            ]
          },
          "metadata": {
            "tags": []
          },
          "execution_count": 48
        }
      ]
    },
    {
      "cell_type": "markdown",
      "metadata": {
        "id": "r29_gmCgiKyY",
        "colab_type": "text"
      },
      "source": [
        "## Univariate Regression Test using f_regression\n",
        "* Modelo Linear para testar o efeito individual de cada uma das variáveis regressoras;\n",
        "* **Como funciona**:\n",
        "    * Usa a correlação entre cada variável e variável-target;\n",
        "    * F-test calcula a dependência linear;"
      ]
    },
    {
      "cell_type": "code",
      "metadata": {
        "id": "6IDzu3kCiKyZ",
        "colab_type": "code",
        "outputId": "fc76e256-baed-43c0-91eb-afb58578bce1",
        "colab": {
          "base_uri": "https://localhost:8080/",
          "height": 55
        }
      },
      "source": [
        "from sklearn.datasets import california_housing\n",
        "house_data = california_housing.fetch_california_housing()\n",
        "X,Y = house_data.data, house_data.target"
      ],
      "execution_count": 0,
      "outputs": [
        {
          "output_type": "stream",
          "text": [
            "Downloading Cal. housing from https://ndownloader.figshare.com/files/5976036 to /root/scikit_learn_data\n"
          ],
          "name": "stderr"
        }
      ]
    },
    {
      "cell_type": "code",
      "metadata": {
        "id": "uKYhjpEViKyl",
        "colab_type": "code",
        "colab": {}
      },
      "source": [
        "F, pval = feature_selection.f_regression(X,Y)"
      ],
      "execution_count": 0,
      "outputs": []
    },
    {
      "cell_type": "code",
      "metadata": {
        "id": "NEqZ3I4jiKyp",
        "colab_type": "code",
        "outputId": "5ebe196b-68e5-4831-f5c0-8a8693ebd647",
        "colab": {
          "base_uri": "https://localhost:8080/",
          "height": 52
        }
      },
      "source": [
        "F"
      ],
      "execution_count": 0,
      "outputs": [
        {
          "output_type": "execute_result",
          "data": {
            "text/plain": [
              "array([1.85565716e+04, 2.32841479e+02, 4.87757462e+02, 4.51085756e+01,\n",
              "       1.25474103e+01, 1.16353421e+01, 4.38005453e+02, 4.36989761e+01])"
            ]
          },
          "metadata": {
            "tags": []
          },
          "execution_count": 52
        }
      ]
    },
    {
      "cell_type": "markdown",
      "metadata": {
        "id": "Rsaf7y8MiKyt",
        "colab_type": "text"
      },
      "source": [
        "* Variáveis com alto F-values tem maior poder preditivo."
      ]
    },
    {
      "cell_type": "markdown",
      "metadata": {
        "id": "xvIXLHK9iKz8",
        "colab_type": "text"
      },
      "source": [
        "## SelectFromModel"
      ]
    },
    {
      "cell_type": "code",
      "metadata": {
        "id": "p0mtUVnjiKz8",
        "colab_type": "code",
        "colab": {}
      },
      "source": [
        "from sklearn.datasets import load_boston\n",
        "boston = load_boston()"
      ],
      "execution_count": 0,
      "outputs": []
    },
    {
      "cell_type": "code",
      "metadata": {
        "id": "WY1c2U10iK0A",
        "colab_type": "code",
        "colab": {}
      },
      "source": [
        "from sklearn.linear_model import LinearRegression"
      ],
      "execution_count": 0,
      "outputs": []
    },
    {
      "cell_type": "code",
      "metadata": {
        "id": "3SJDM-Bxc_UF",
        "colab_type": "code",
        "outputId": "4cc94fed-239b-4331-ef25-282caed773cf",
        "colab": {
          "base_uri": "https://localhost:8080/",
          "height": 835
        }
      },
      "source": [
        "# Observe abaixo que a variável-target é float. Portanto, é um problema de regressão\n",
        "boston['target']"
      ],
      "execution_count": 0,
      "outputs": [
        {
          "output_type": "execute_result",
          "data": {
            "text/plain": [
              "array([24. , 21.6, 34.7, 33.4, 36.2, 28.7, 22.9, 27.1, 16.5, 18.9, 15. ,\n",
              "       18.9, 21.7, 20.4, 18.2, 19.9, 23.1, 17.5, 20.2, 18.2, 13.6, 19.6,\n",
              "       15.2, 14.5, 15.6, 13.9, 16.6, 14.8, 18.4, 21. , 12.7, 14.5, 13.2,\n",
              "       13.1, 13.5, 18.9, 20. , 21. , 24.7, 30.8, 34.9, 26.6, 25.3, 24.7,\n",
              "       21.2, 19.3, 20. , 16.6, 14.4, 19.4, 19.7, 20.5, 25. , 23.4, 18.9,\n",
              "       35.4, 24.7, 31.6, 23.3, 19.6, 18.7, 16. , 22.2, 25. , 33. , 23.5,\n",
              "       19.4, 22. , 17.4, 20.9, 24.2, 21.7, 22.8, 23.4, 24.1, 21.4, 20. ,\n",
              "       20.8, 21.2, 20.3, 28. , 23.9, 24.8, 22.9, 23.9, 26.6, 22.5, 22.2,\n",
              "       23.6, 28.7, 22.6, 22. , 22.9, 25. , 20.6, 28.4, 21.4, 38.7, 43.8,\n",
              "       33.2, 27.5, 26.5, 18.6, 19.3, 20.1, 19.5, 19.5, 20.4, 19.8, 19.4,\n",
              "       21.7, 22.8, 18.8, 18.7, 18.5, 18.3, 21.2, 19.2, 20.4, 19.3, 22. ,\n",
              "       20.3, 20.5, 17.3, 18.8, 21.4, 15.7, 16.2, 18. , 14.3, 19.2, 19.6,\n",
              "       23. , 18.4, 15.6, 18.1, 17.4, 17.1, 13.3, 17.8, 14. , 14.4, 13.4,\n",
              "       15.6, 11.8, 13.8, 15.6, 14.6, 17.8, 15.4, 21.5, 19.6, 15.3, 19.4,\n",
              "       17. , 15.6, 13.1, 41.3, 24.3, 23.3, 27. , 50. , 50. , 50. , 22.7,\n",
              "       25. , 50. , 23.8, 23.8, 22.3, 17.4, 19.1, 23.1, 23.6, 22.6, 29.4,\n",
              "       23.2, 24.6, 29.9, 37.2, 39.8, 36.2, 37.9, 32.5, 26.4, 29.6, 50. ,\n",
              "       32. , 29.8, 34.9, 37. , 30.5, 36.4, 31.1, 29.1, 50. , 33.3, 30.3,\n",
              "       34.6, 34.9, 32.9, 24.1, 42.3, 48.5, 50. , 22.6, 24.4, 22.5, 24.4,\n",
              "       20. , 21.7, 19.3, 22.4, 28.1, 23.7, 25. , 23.3, 28.7, 21.5, 23. ,\n",
              "       26.7, 21.7, 27.5, 30.1, 44.8, 50. , 37.6, 31.6, 46.7, 31.5, 24.3,\n",
              "       31.7, 41.7, 48.3, 29. , 24. , 25.1, 31.5, 23.7, 23.3, 22. , 20.1,\n",
              "       22.2, 23.7, 17.6, 18.5, 24.3, 20.5, 24.5, 26.2, 24.4, 24.8, 29.6,\n",
              "       42.8, 21.9, 20.9, 44. , 50. , 36. , 30.1, 33.8, 43.1, 48.8, 31. ,\n",
              "       36.5, 22.8, 30.7, 50. , 43.5, 20.7, 21.1, 25.2, 24.4, 35.2, 32.4,\n",
              "       32. , 33.2, 33.1, 29.1, 35.1, 45.4, 35.4, 46. , 50. , 32.2, 22. ,\n",
              "       20.1, 23.2, 22.3, 24.8, 28.5, 37.3, 27.9, 23.9, 21.7, 28.6, 27.1,\n",
              "       20.3, 22.5, 29. , 24.8, 22. , 26.4, 33.1, 36.1, 28.4, 33.4, 28.2,\n",
              "       22.8, 20.3, 16.1, 22.1, 19.4, 21.6, 23.8, 16.2, 17.8, 19.8, 23.1,\n",
              "       21. , 23.8, 23.1, 20.4, 18.5, 25. , 24.6, 23. , 22.2, 19.3, 22.6,\n",
              "       19.8, 17.1, 19.4, 22.2, 20.7, 21.1, 19.5, 18.5, 20.6, 19. , 18.7,\n",
              "       32.7, 16.5, 23.9, 31.2, 17.5, 17.2, 23.1, 24.5, 26.6, 22.9, 24.1,\n",
              "       18.6, 30.1, 18.2, 20.6, 17.8, 21.7, 22.7, 22.6, 25. , 19.9, 20.8,\n",
              "       16.8, 21.9, 27.5, 21.9, 23.1, 50. , 50. , 50. , 50. , 50. , 13.8,\n",
              "       13.8, 15. , 13.9, 13.3, 13.1, 10.2, 10.4, 10.9, 11.3, 12.3,  8.8,\n",
              "        7.2, 10.5,  7.4, 10.2, 11.5, 15.1, 23.2,  9.7, 13.8, 12.7, 13.1,\n",
              "       12.5,  8.5,  5. ,  6.3,  5.6,  7.2, 12.1,  8.3,  8.5,  5. , 11.9,\n",
              "       27.9, 17.2, 27.5, 15. , 17.2, 17.9, 16.3,  7. ,  7.2,  7.5, 10.4,\n",
              "        8.8,  8.4, 16.7, 14.2, 20.8, 13.4, 11.7,  8.3, 10.2, 10.9, 11. ,\n",
              "        9.5, 14.5, 14.1, 16.1, 14.3, 11.7, 13.4,  9.6,  8.7,  8.4, 12.8,\n",
              "       10.5, 17.1, 18.4, 15.4, 10.8, 11.8, 14.9, 12.6, 14.1, 13. , 13.4,\n",
              "       15.2, 16.1, 17.8, 14.9, 14.1, 12.7, 13.5, 14.9, 20. , 16.4, 17.7,\n",
              "       19.5, 20.2, 21.4, 19.9, 19. , 19.1, 19.1, 20.1, 19.9, 19.6, 23.2,\n",
              "       29.8, 13.8, 13.3, 16.7, 12. , 14.6, 21.4, 23. , 23.7, 25. , 21.8,\n",
              "       20.6, 21.2, 19.1, 20.6, 15.2,  7. ,  8.1, 13.6, 20.1, 21.8, 24.5,\n",
              "       23.1, 19.7, 18.3, 21.2, 17.5, 16.8, 22.4, 20.6, 23.9, 22. , 11.9])"
            ]
          },
          "metadata": {
            "tags": []
          },
          "execution_count": 64
        }
      ]
    },
    {
      "cell_type": "code",
      "metadata": {
        "id": "2zNpau9HiK0C",
        "colab_type": "code",
        "colab": {}
      },
      "source": [
        "clf = LinearRegression()\n",
        "sfm = feature_selection.SelectFromModel(clf, threshold=0.25)"
      ],
      "execution_count": 0,
      "outputs": []
    },
    {
      "cell_type": "code",
      "metadata": {
        "id": "62vOFTVViK0D",
        "colab_type": "code",
        "outputId": "3869ee9f-e61e-455b-a194-d8cff2762fbd",
        "colab": {
          "base_uri": "https://localhost:8080/",
          "height": 35
        }
      },
      "source": [
        "sfm.fit_transform(boston.data, boston.target).shape"
      ],
      "execution_count": 0,
      "outputs": [
        {
          "output_type": "execute_result",
          "data": {
            "text/plain": [
              "(506, 7)"
            ]
          },
          "metadata": {
            "tags": []
          },
          "execution_count": 57
        }
      ]
    },
    {
      "cell_type": "code",
      "metadata": {
        "id": "Y8_j7HRZiK0J",
        "colab_type": "code",
        "outputId": "244d73db-19b9-4f1a-d5d1-6feaaeafc0e7",
        "colab": {
          "base_uri": "https://localhost:8080/",
          "height": 35
        }
      },
      "source": [
        "boston.data.shape"
      ],
      "execution_count": 0,
      "outputs": [
        {
          "output_type": "execute_result",
          "data": {
            "text/plain": [
              "(506, 13)"
            ]
          },
          "metadata": {
            "tags": []
          },
          "execution_count": 58
        }
      ]
    },
    {
      "cell_type": "markdown",
      "metadata": {
        "id": "yX5oufYkcrH7",
        "colab_type": "text"
      },
      "source": [
        "Observe acima que houve uma redução de 13 para 7 features."
      ]
    },
    {
      "cell_type": "markdown",
      "metadata": {
        "id": "avZ12nHqiK0M",
        "colab_type": "text"
      },
      "source": [
        "## RFE - Recursive Feature Elimination\n"
      ]
    },
    {
      "cell_type": "code",
      "metadata": {
        "id": "sqsK1bGmiK0O",
        "colab_type": "code",
        "colab": {}
      },
      "source": [
        "from sklearn.datasets import make_regression\n",
        "from sklearn.feature_selection import RFE\n",
        "from sklearn.svm import SVR\n",
        "X, y = make_regression(n_samples=50, n_features=10, random_state=0)\n",
        "estimator = SVR(kernel=\"linear\")\n",
        "selector = RFE(estimator, 5, step=1)\n",
        "data = selector.fit_transform(X, y)"
      ],
      "execution_count": 0,
      "outputs": []
    },
    {
      "cell_type": "code",
      "metadata": {
        "id": "f-dKku9IiK0V",
        "colab_type": "code",
        "outputId": "9ca9ad8a-3253-4267-a278-fff1181c69a7",
        "colab": {
          "base_uri": "https://localhost:8080/",
          "height": 35
        }
      },
      "source": [
        "X.shape"
      ],
      "execution_count": 0,
      "outputs": [
        {
          "output_type": "execute_result",
          "data": {
            "text/plain": [
              "(50, 10)"
            ]
          },
          "metadata": {
            "tags": []
          },
          "execution_count": 66
        }
      ]
    },
    {
      "cell_type": "code",
      "metadata": {
        "id": "TUoMb40-iK0Y",
        "colab_type": "code",
        "outputId": "ea41eada-2626-4e99-b0ef-536ac1492410",
        "colab": {
          "base_uri": "https://localhost:8080/",
          "height": 35
        }
      },
      "source": [
        "data.shape"
      ],
      "execution_count": 0,
      "outputs": [
        {
          "output_type": "execute_result",
          "data": {
            "text/plain": [
              "(50, 5)"
            ]
          },
          "metadata": {
            "tags": []
          },
          "execution_count": 67
        }
      ]
    },
    {
      "cell_type": "markdown",
      "metadata": {
        "id": "RG16C-2QdhUx",
        "colab_type": "text"
      },
      "source": [
        "Observe acima que houve uma redução de 10 para 5 features."
      ]
    },
    {
      "cell_type": "code",
      "metadata": {
        "id": "sk6Dcq3KiK0a",
        "colab_type": "code",
        "outputId": "991b1b30-6f85-4d07-841a-03d7dcf004b7",
        "colab": {
          "base_uri": "https://localhost:8080/",
          "height": 35
        }
      },
      "source": [
        "selector.ranking_"
      ],
      "execution_count": 0,
      "outputs": [
        {
          "output_type": "execute_result",
          "data": {
            "text/plain": [
              "array([1, 1, 4, 3, 1, 6, 1, 2, 5, 1])"
            ]
          },
          "metadata": {
            "tags": []
          },
          "execution_count": 68
        }
      ]
    },
    {
      "cell_type": "markdown",
      "metadata": {
        "id": "FEfmeic37hvw",
        "colab_type": "text"
      },
      "source": [
        "## Feature Selection With Random Forest\n",
        "* Para demonstrar este método, vou utilizar o Boston Housing Price dataframe."
      ]
    },
    {
      "cell_type": "markdown",
      "metadata": {
        "id": "0F2BdrZgKzV5",
        "colab_type": "text"
      },
      "source": [
        "### Carregar o dataframe\n",
        "* [Aqui](https://en.wikipedia.org/wiki/Iris_flower_data_set) você obterá mais informações sobre o dataframe iris. Confira."
      ]
    },
    {
      "cell_type": "code",
      "metadata": {
        "id": "6H31U15q7kIO",
        "colab_type": "code",
        "outputId": "4d9817d7-7f59-4e80-b38c-99a180c5b4ce",
        "colab": {
          "base_uri": "https://localhost:8080/",
          "height": 219
        }
      },
      "source": [
        "from sklearn.datasets import load_iris\n",
        "\n",
        "iris = load_iris()\n",
        "X= iris['data']\n",
        "y= iris['target']\n",
        "\n",
        "df_iris = pd.DataFrame(np.c_[X, y], columns= np.append(iris['feature_names'], ['target']))\n",
        "df_iris['target2']= df_iris['target']\n",
        "# Create a list of feature names\n",
        "lIris_labels = ['Sepal Length','Sepal Width','Petal Length','Petal Width']\n",
        "\n",
        "df_iris['target'] = df_iris['target'].map({0: 'setosa', 1: 'versicolor', 2: 'virginica'})\n",
        "df_iris= df_iris.rename(columns={'sepal length (cm)': 'Sepal Length', 'sepal width (cm)': 'sepal width', 'petal length (cm)': 'petal length', 'petal width (cm)': 'petal width'})\n",
        "\n",
        "df_iris.head()"
      ],
      "execution_count": 0,
      "outputs": [
        {
          "output_type": "execute_result",
          "data": {
            "text/html": [
              "<div>\n",
              "<style scoped>\n",
              "    .dataframe tbody tr th:only-of-type {\n",
              "        vertical-align: middle;\n",
              "    }\n",
              "\n",
              "    .dataframe tbody tr th {\n",
              "        vertical-align: top;\n",
              "    }\n",
              "\n",
              "    .dataframe thead th {\n",
              "        text-align: right;\n",
              "    }\n",
              "</style>\n",
              "<table border=\"1\" class=\"dataframe\">\n",
              "  <thead>\n",
              "    <tr style=\"text-align: right;\">\n",
              "      <th></th>\n",
              "      <th>Sepal Length</th>\n",
              "      <th>sepal width</th>\n",
              "      <th>petal length</th>\n",
              "      <th>petal width</th>\n",
              "      <th>target</th>\n",
              "      <th>target2</th>\n",
              "    </tr>\n",
              "  </thead>\n",
              "  <tbody>\n",
              "    <tr>\n",
              "      <th>0</th>\n",
              "      <td>5.1</td>\n",
              "      <td>3.5</td>\n",
              "      <td>1.4</td>\n",
              "      <td>0.2</td>\n",
              "      <td>setosa</td>\n",
              "      <td>0.0</td>\n",
              "    </tr>\n",
              "    <tr>\n",
              "      <th>1</th>\n",
              "      <td>4.9</td>\n",
              "      <td>3.0</td>\n",
              "      <td>1.4</td>\n",
              "      <td>0.2</td>\n",
              "      <td>setosa</td>\n",
              "      <td>0.0</td>\n",
              "    </tr>\n",
              "    <tr>\n",
              "      <th>2</th>\n",
              "      <td>4.7</td>\n",
              "      <td>3.2</td>\n",
              "      <td>1.3</td>\n",
              "      <td>0.2</td>\n",
              "      <td>setosa</td>\n",
              "      <td>0.0</td>\n",
              "    </tr>\n",
              "    <tr>\n",
              "      <th>3</th>\n",
              "      <td>4.6</td>\n",
              "      <td>3.1</td>\n",
              "      <td>1.5</td>\n",
              "      <td>0.2</td>\n",
              "      <td>setosa</td>\n",
              "      <td>0.0</td>\n",
              "    </tr>\n",
              "    <tr>\n",
              "      <th>4</th>\n",
              "      <td>5.0</td>\n",
              "      <td>3.6</td>\n",
              "      <td>1.4</td>\n",
              "      <td>0.2</td>\n",
              "      <td>setosa</td>\n",
              "      <td>0.0</td>\n",
              "    </tr>\n",
              "  </tbody>\n",
              "</table>\n",
              "</div>"
            ],
            "text/plain": [
              "   Sepal Length  sepal width  petal length  petal width  target  target2\n",
              "0           5.1          3.5           1.4          0.2  setosa      0.0\n",
              "1           4.9          3.0           1.4          0.2  setosa      0.0\n",
              "2           4.7          3.2           1.3          0.2  setosa      0.0\n",
              "3           4.6          3.1           1.5          0.2  setosa      0.0\n",
              "4           5.0          3.6           1.4          0.2  setosa      0.0"
            ]
          },
          "metadata": {
            "tags": []
          },
          "execution_count": 69
        }
      ]
    },
    {
      "cell_type": "markdown",
      "metadata": {
        "id": "jVQuRHYhM4fD",
        "colab_type": "text"
      },
      "source": [
        "* A variável-resposta que estamos tentando prever/explicar é categórica. Portanto, vamos usar um método de Classificação.\n",
        "\n",
        "* SelectFromModel selecionará os atributos cuja importância seja maior do que a importância média de todos os recursos por padrão, mas podemos alterar esse limite se quisermos."
      ]
    },
    {
      "cell_type": "code",
      "metadata": {
        "id": "1pPpC7GXLgpC",
        "colab_type": "code",
        "colab": {}
      },
      "source": [
        "from sklearn.ensemble import RandomForestClassifier\n",
        "from sklearn.feature_selection import SelectFromModel\n",
        "from sklearn.model_selection import train_test_split"
      ],
      "execution_count": 0,
      "outputs": []
    },
    {
      "cell_type": "code",
      "metadata": {
        "id": "dfSfuUlHQOSt",
        "colab_type": "code",
        "colab": {}
      },
      "source": [
        "# Split the data into 40% test and 60% training\n",
        "X_train, X_test, y_train, y_test = train_test_split(X, y, test_size=0.4, random_state=0)"
      ],
      "execution_count": 0,
      "outputs": []
    },
    {
      "cell_type": "code",
      "metadata": {
        "id": "YQ270kclOFeK",
        "colab_type": "code",
        "outputId": "4e2df8a5-3e56-4be4-88e2-5cbf3bb7c3bb",
        "colab": {
          "base_uri": "https://localhost:8080/",
          "height": 159
        }
      },
      "source": [
        "# Create a random forest Regressor\n",
        "clf = RandomForestClassifier(n_estimators=10000, random_state=0, n_jobs=-1)\n",
        "\n",
        "# Train the classifier\n",
        "clf.fit(X_train, y_train)"
      ],
      "execution_count": 0,
      "outputs": [
        {
          "output_type": "execute_result",
          "data": {
            "text/plain": [
              "RandomForestClassifier(bootstrap=True, class_weight=None, criterion='gini',\n",
              "                       max_depth=None, max_features='auto', max_leaf_nodes=None,\n",
              "                       min_impurity_decrease=0.0, min_impurity_split=None,\n",
              "                       min_samples_leaf=1, min_samples_split=2,\n",
              "                       min_weight_fraction_leaf=0.0, n_estimators=10000,\n",
              "                       n_jobs=-1, oob_score=False, random_state=0, verbose=0,\n",
              "                       warm_start=False)"
            ]
          },
          "metadata": {
            "tags": []
          },
          "execution_count": 72
        }
      ]
    },
    {
      "cell_type": "markdown",
      "metadata": {
        "id": "VfdKeUkgS6ul",
        "colab_type": "text"
      },
      "source": [
        "Os atributos mais importantes são:"
      ]
    },
    {
      "cell_type": "code",
      "metadata": {
        "id": "tnrwVLPKSNxr",
        "colab_type": "code",
        "outputId": "78928c00-6fde-499e-e7bc-b4c9724b6a54",
        "colab": {
          "base_uri": "https://localhost:8080/",
          "height": 87
        }
      },
      "source": [
        "# Print the name and gini importance of each feature\n",
        "for feature in zip(lIris_labels, clf.feature_importances_):\n",
        "    print(feature)"
      ],
      "execution_count": 0,
      "outputs": [
        {
          "output_type": "stream",
          "text": [
            "('Sepal Length', 0.11024282328064558)\n",
            "('Sepal Width', 0.016255033655398383)\n",
            "('Petal Length', 0.45028123999239505)\n",
            "('Petal Width', 0.42322090307156096)\n"
          ],
          "name": "stdout"
        }
      ]
    },
    {
      "cell_type": "markdown",
      "metadata": {
        "id": "x8FHRHlDWTn4",
        "colab_type": "text"
      },
      "source": [
        "* Os scores acima representam a importância de cada variável.\n",
        "    * A soma dos scores resulta em 100%;\n",
        "    * Os atributos 'Petal Length' (Score= 0.45) e 'Petal Width' (Score= 0.42) são os mais importantes.\n",
        "    * Combinados, as duas variáveis mais importantes somam ~0.86."
      ]
    },
    {
      "cell_type": "markdown",
      "metadata": {
        "id": "wbMnS_gIVBA8",
        "colab_type": "text"
      },
      "source": [
        "Como regra geral, selecione os atributos que tenha importância de no mínimo 0.15. "
      ]
    },
    {
      "cell_type": "markdown",
      "metadata": {
        "id": "M3TnDYRVeMEs",
        "colab_type": "text"
      },
      "source": [
        "Algo mais visual:"
      ]
    },
    {
      "cell_type": "code",
      "metadata": {
        "id": "o8QkARWpeI_e",
        "colab_type": "code",
        "outputId": "7bafbe8b-a86a-45f6-a9e6-8df5a55cc87c",
        "colab": {
          "base_uri": "https://localhost:8080/",
          "height": 304
        }
      },
      "source": [
        "# Calculate feature importances\n",
        "importances = clf.feature_importances_\n",
        "\n",
        "# Sort feature importances in descending order\n",
        "indices = np.argsort(importances)[::-1]\n",
        "\n",
        "# Rearrange feature names so they match the sorted feature importances\n",
        "names = [iris.feature_names[i] for i in indices]\n",
        "\n",
        "# Barplot: Add bars\n",
        "plt.bar(range(X_train.shape[1]), importances[indices])\n",
        "\n",
        "# Add feature names as x-axis labels\n",
        "plt.xticks(range(X_train.shape[1]), names, rotation=20, fontsize = 8)\n",
        "\n",
        "# Create plot title\n",
        "plt.title(\"Importância Preditiva das variáveis do dataframe\")\n",
        "# Show plot\n",
        "plt.show()"
      ],
      "execution_count": 0,
      "outputs": [
        {
          "output_type": "display_data",
          "data": {
            "image/png": "[encoded data removed]",
            "text/plain": [
              "<Figure size 432x288 with 1 Axes>"
            ]
          },
          "metadata": {
            "tags": []
          }
        }
      ]
    },
    {
      "cell_type": "markdown",
      "metadata": {
        "id": "owVs6pvJ8F8B",
        "colab_type": "text"
      },
      "source": [
        "## Análise de Correlação"
      ]
    },
    {
      "cell_type": "code",
      "metadata": {
        "colab_type": "code",
        "outputId": "2f59c712-69af-47a4-b829-eff915d84b11",
        "id": "RISO1Ury8EEH",
        "colab": {
          "base_uri": "https://localhost:8080/",
          "height": 237
        }
      },
      "source": [
        "# calcula a correlação entre as colunas/variáveis do dataframe\n",
        "correlacao= df_iris.corr().abs()\n",
        "\n",
        "# Seleciona o triângulo superior da matriz de correlação\n",
        "correlacao = correlacao.where(np.triu(np.ones(correlacao.shape), k=1).astype(np.bool))\n",
        "correlacao"
      ],
      "execution_count": 0,
      "outputs": [
        {
          "output_type": "execute_result",
          "data": {
            "text/html": [
              "<div>\n",
              "<style scoped>\n",
              "    .dataframe tbody tr th:only-of-type {\n",
              "        vertical-align: middle;\n",
              "    }\n",
              "\n",
              "    .dataframe tbody tr th {\n",
              "        vertical-align: top;\n",
              "    }\n",
              "\n",
              "    .dataframe thead th {\n",
              "        text-align: right;\n",
              "    }\n",
              "</style>\n",
              "<table border=\"1\" class=\"dataframe\">\n",
              "  <thead>\n",
              "    <tr style=\"text-align: right;\">\n",
              "      <th></th>\n",
              "      <th>Sepal Length</th>\n",
              "      <th>sepal width</th>\n",
              "      <th>petal length</th>\n",
              "      <th>petal width</th>\n",
              "      <th>target2</th>\n",
              "    </tr>\n",
              "  </thead>\n",
              "  <tbody>\n",
              "    <tr>\n",
              "      <th>Sepal Length</th>\n",
              "      <td>NaN</td>\n",
              "      <td>0.11757</td>\n",
              "      <td>0.871754</td>\n",
              "      <td>0.817941</td>\n",
              "      <td>0.782561</td>\n",
              "    </tr>\n",
              "    <tr>\n",
              "      <th>sepal width</th>\n",
              "      <td>NaN</td>\n",
              "      <td>NaN</td>\n",
              "      <td>0.428440</td>\n",
              "      <td>0.366126</td>\n",
              "      <td>0.426658</td>\n",
              "    </tr>\n",
              "    <tr>\n",
              "      <th>petal length</th>\n",
              "      <td>NaN</td>\n",
              "      <td>NaN</td>\n",
              "      <td>NaN</td>\n",
              "      <td>0.962865</td>\n",
              "      <td>0.949035</td>\n",
              "    </tr>\n",
              "    <tr>\n",
              "      <th>petal width</th>\n",
              "      <td>NaN</td>\n",
              "      <td>NaN</td>\n",
              "      <td>NaN</td>\n",
              "      <td>NaN</td>\n",
              "      <td>0.956547</td>\n",
              "    </tr>\n",
              "    <tr>\n",
              "      <th>target2</th>\n",
              "      <td>NaN</td>\n",
              "      <td>NaN</td>\n",
              "      <td>NaN</td>\n",
              "      <td>NaN</td>\n",
              "      <td>NaN</td>\n",
              "    </tr>\n",
              "  </tbody>\n",
              "</table>\n",
              "</div>"
            ],
            "text/plain": [
              "              Sepal Length  sepal width  petal length  petal width   target2\n",
              "Sepal Length           NaN      0.11757      0.871754     0.817941  0.782561\n",
              "sepal width            NaN          NaN      0.428440     0.366126  0.426658\n",
              "petal length           NaN          NaN           NaN     0.962865  0.949035\n",
              "petal width            NaN          NaN           NaN          NaN  0.956547\n",
              "target2                NaN          NaN           NaN          NaN       NaN"
            ]
          },
          "metadata": {
            "tags": []
          },
          "execution_count": 76
        }
      ]
    },
    {
      "cell_type": "code",
      "metadata": {
        "colab_type": "code",
        "outputId": "f4df8290-b12c-4ae9-a617-3343f8cbc83d",
        "id": "lieB7hDg8EEM",
        "colab": {
          "base_uri": "https://localhost:8080/",
          "height": 503
        }
      },
      "source": [
        "fig, ax = plt.subplots(figsize=(8, 8)) \n",
        "mask = np.zeros_like(df_iris.corr().abs())\n",
        "mask[np.triu_indices_from(mask)] = 1\n",
        "sns.heatmap(df_iris.corr().abs(), mask= mask, ax= ax, cmap='coolwarm', annot= True)"
      ],
      "execution_count": 0,
      "outputs": [
        {
          "output_type": "execute_result",
          "data": {
            "text/plain": [
              "<matplotlib.axes._subplots.AxesSubplot at 0x7fdf6498bef0>"
            ]
          },
          "metadata": {
            "tags": []
          },
          "execution_count": 77
        },
        {
          "output_type": "display_data",
          "data": {
            "image/png": "[encoded data removed]",
            "text/plain": [
              "<Figure size 576x576 with 2 Axes>"
            ]
          },
          "metadata": {
            "tags": []
          }
        }
      ]
    },
    {
      "cell_type": "markdown",
      "metadata": {
        "colab_type": "text",
        "id": "A_FXdDMr8EEQ"
      },
      "source": [
        "Pela Análise de Correlação, vemos duas variáveis altamente correlacionadas com a variável-resposta, que são: 'Peta Width' e 'Petal Length', que são as duas variáveis mais importantes no dataframe. Lembram-se?"
      ]
    },
    {
      "cell_type": "markdown",
      "metadata": {
        "id": "crBoaUITfj7p",
        "colab_type": "text"
      },
      "source": [
        "Visualmente fica mais fácil entender a magnitude da importância das duas mais importantes features."
      ]
    },
    {
      "cell_type": "markdown",
      "metadata": {
        "id": "taei2KXSTmZ0",
        "colab_type": "text"
      },
      "source": [
        "### Usando SelectFromModel()"
      ]
    },
    {
      "cell_type": "code",
      "metadata": {
        "id": "JLwboa9tTpBq",
        "colab_type": "code",
        "outputId": "69764fdd-2a63-4303-eb90-807fd02ed63b",
        "colab": {
          "base_uri": "https://localhost:8080/",
          "height": 315
        }
      },
      "source": [
        "# A partir do Random Forest, seleciona features cuja importância seja maior que 0.15\n",
        "sfm = SelectFromModel(clf, threshold=0.15)\n",
        "\n",
        "# Train the selector\n",
        "sfm.fit(X_train, y_train)"
      ],
      "execution_count": 0,
      "outputs": [
        {
          "output_type": "execute_result",
          "data": {
            "text/plain": [
              "SelectFromModel(estimator=RandomForestClassifier(bootstrap=True,\n",
              "                                                 class_weight=None,\n",
              "                                                 criterion='gini',\n",
              "                                                 max_depth=None,\n",
              "                                                 max_features='auto',\n",
              "                                                 max_leaf_nodes=None,\n",
              "                                                 min_impurity_decrease=0.0,\n",
              "                                                 min_impurity_split=None,\n",
              "                                                 min_samples_leaf=1,\n",
              "                                                 min_samples_split=2,\n",
              "                                                 min_weight_fraction_leaf=0.0,\n",
              "                                                 n_estimators=10000, n_jobs=-1,\n",
              "                                                 oob_score=False,\n",
              "                                                 random_state=0, verbose=0,\n",
              "                                                 warm_start=False),\n",
              "                max_features=None, norm_order=1, prefit=False, threshold=0.15)"
            ]
          },
          "metadata": {
            "tags": []
          },
          "execution_count": 79
        }
      ]
    },
    {
      "cell_type": "code",
      "metadata": {
        "id": "2MiZrU56VzUW",
        "colab_type": "code",
        "outputId": "7814a30e-484c-46eb-9326-a9d3eeeb512c",
        "colab": {
          "base_uri": "https://localhost:8080/",
          "height": 52
        }
      },
      "source": [
        "# Mostra as duas features mais importantes\n",
        "for feature_list_index in sfm.get_support(indices=True):\n",
        "    print(lIris_labels[feature_list_index])"
      ],
      "execution_count": 0,
      "outputs": [
        {
          "output_type": "stream",
          "text": [
            "Petal Length\n",
            "Petal Width\n"
          ],
          "name": "stdout"
        }
      ]
    },
    {
      "cell_type": "markdown",
      "metadata": {
        "id": "neMolQ0gYtp7",
        "colab_type": "text"
      },
      "source": [
        "Selecionando somente os atributos mais importantes:"
      ]
    },
    {
      "cell_type": "code",
      "metadata": {
        "id": "dXRWZgDeYxHS",
        "colab_type": "code",
        "colab": {}
      },
      "source": [
        "# Constroi um dataset contendo somente as variáveis mais importantes\n",
        "# Nota: Neste caso, estamos a aplicar a transformação tanto na base de treinamento quanto de validação\n",
        "X_important_train = sfm.transform(X_train)\n",
        "X_important_test = sfm.transform(X_test)"
      ],
      "execution_count": 0,
      "outputs": []
    },
    {
      "cell_type": "markdown",
      "metadata": {
        "id": "xlJAtt8RZBJc",
        "colab_type": "text"
      },
      "source": [
        "Quando tiver que treinar um modelo usando somente os atributos mais importantes, use:"
      ]
    },
    {
      "cell_type": "code",
      "metadata": {
        "id": "1tmpt3YvZFvW",
        "colab_type": "code",
        "outputId": "354d61b3-ddfc-4070-f981-bc42f7754203",
        "colab": {
          "base_uri": "https://localhost:8080/",
          "height": 159
        }
      },
      "source": [
        "# Criar um classificador Random Forest somente com as features mais importantes\n",
        "clf_important = RandomForestClassifier(n_estimators=10000, random_state=0, n_jobs=-1)\n",
        "\n",
        "# Treina o modelo com as features mais importantes\n",
        "clf_important.fit(X_important_train, y_train)"
      ],
      "execution_count": 0,
      "outputs": [
        {
          "output_type": "execute_result",
          "data": {
            "text/plain": [
              "RandomForestClassifier(bootstrap=True, class_weight=None, criterion='gini',\n",
              "                       max_depth=None, max_features='auto', max_leaf_nodes=None,\n",
              "                       min_impurity_decrease=0.0, min_impurity_split=None,\n",
              "                       min_samples_leaf=1, min_samples_split=2,\n",
              "                       min_weight_fraction_leaf=0.0, n_estimators=10000,\n",
              "                       n_jobs=-1, oob_score=False, random_state=0, verbose=0,\n",
              "                       warm_start=False)"
            ]
          },
          "metadata": {
            "tags": []
          },
          "execution_count": 83
        }
      ]
    },
    {
      "cell_type": "code",
      "metadata": {
        "id": "epVwhUeYZM7v",
        "colab_type": "code",
        "outputId": "d81bbcb6-9654-4c63-ece5-a408c7e3ed86",
        "colab": {
          "base_uri": "https://localhost:8080/",
          "height": 35
        }
      },
      "source": [
        "from sklearn.metrics import accuracy_score\n",
        "\n",
        "# Aplica o Classificador no dataframe teste\n",
        "y_pred = clf.predict(X_test)\n",
        "\n",
        "# Verifica acurácia\n",
        "accuracy_score(y_test, y_pred)"
      ],
      "execution_count": 0,
      "outputs": [
        {
          "output_type": "execute_result",
          "data": {
            "text/plain": [
              "0.9333333333333333"
            ]
          },
          "metadata": {
            "tags": []
          },
          "execution_count": 85
        }
      ]
    },
    {
      "cell_type": "code",
      "metadata": {
        "id": "CA_rhTMiZbLN",
        "colab_type": "code",
        "outputId": "f2b31827-74bb-48ed-a37a-27997521ce40",
        "colab": {
          "base_uri": "https://localhost:8080/",
          "height": 35
        }
      },
      "source": [
        "# Aplica o classificador na base de teste\n",
        "y_important_pred = clf_important.predict(X_important_test)\n",
        "\n",
        "# Avalia acurácia\n",
        "accuracy_score(y_test, y_important_pred)"
      ],
      "execution_count": 0,
      "outputs": [
        {
          "output_type": "execute_result",
          "data": {
            "text/plain": [
              "0.9"
            ]
          },
          "metadata": {
            "tags": []
          },
          "execution_count": 86
        }
      ]
    },
    {
      "cell_type": "markdown",
      "metadata": {
        "id": "uWdAUMQoZtaV",
        "colab_type": "text"
      },
      "source": [
        "Como vocês podem ver pela acurácia do score, nosso modelo original apresenta acurácia de 93.3% (com 4 atributos) enquanto que a acurácia do modelo reduzido apresenta acurácia 90% (com 2 atributos)."
      ]
    },
    {
      "cell_type": "markdown",
      "metadata": {
        "id": "BMfxK3UCbjfc",
        "colab_type": "text"
      },
      "source": [
        "## Feature Selection With XGBoost"
      ]
    },
    {
      "cell_type": "code",
      "metadata": {
        "id": "--vKKHVWbwGv",
        "colab_type": "code",
        "outputId": "85a9dcc4-3148-4d20-a4e9-43c93c16d53f",
        "colab": {
          "base_uri": "https://localhost:8080/",
          "height": 219
        }
      },
      "source": [
        "from xgboost import XGBClassifier\n",
        "from matplotlib import pyplot\n",
        "from sklearn.datasets import load_iris\n",
        "\n",
        "iris = load_iris()\n",
        "X= iris['data']\n",
        "y= iris['target']\n",
        "\n",
        "df_iris = pd.DataFrame(np.c_[X, y], columns= np.append(iris['feature_names'], ['target']))\n",
        "df_iris['target2']= df_iris['target']\n",
        "# Create a list of feature names\n",
        "lIris_labels = ['Sepal Length','Sepal Width','Petal Length','Petal Width']\n",
        "\n",
        "df_iris['target'] = df_iris['target'].map({0: 'setosa', 1: 'versicolor', 2: 'virginica'})\n",
        "df_iris= df_iris.rename(columns={'sepal length (cm)': 'Sepal Length', 'sepal width (cm)': 'sepal width', 'petal length (cm)': 'petal length', 'petal width (cm)': 'petal width'})\n",
        "\n",
        "df_iris.head()"
      ],
      "execution_count": 0,
      "outputs": [
        {
          "output_type": "execute_result",
          "data": {
            "text/html": [
              "<div>\n",
              "<style scoped>\n",
              "    .dataframe tbody tr th:only-of-type {\n",
              "        vertical-align: middle;\n",
              "    }\n",
              "\n",
              "    .dataframe tbody tr th {\n",
              "        vertical-align: top;\n",
              "    }\n",
              "\n",
              "    .dataframe thead th {\n",
              "        text-align: right;\n",
              "    }\n",
              "</style>\n",
              "<table border=\"1\" class=\"dataframe\">\n",
              "  <thead>\n",
              "    <tr style=\"text-align: right;\">\n",
              "      <th></th>\n",
              "      <th>Sepal Length</th>\n",
              "      <th>sepal width</th>\n",
              "      <th>petal length</th>\n",
              "      <th>petal width</th>\n",
              "      <th>target</th>\n",
              "      <th>target2</th>\n",
              "    </tr>\n",
              "  </thead>\n",
              "  <tbody>\n",
              "    <tr>\n",
              "      <th>0</th>\n",
              "      <td>5.1</td>\n",
              "      <td>3.5</td>\n",
              "      <td>1.4</td>\n",
              "      <td>0.2</td>\n",
              "      <td>setosa</td>\n",
              "      <td>0.0</td>\n",
              "    </tr>\n",
              "    <tr>\n",
              "      <th>1</th>\n",
              "      <td>4.9</td>\n",
              "      <td>3.0</td>\n",
              "      <td>1.4</td>\n",
              "      <td>0.2</td>\n",
              "      <td>setosa</td>\n",
              "      <td>0.0</td>\n",
              "    </tr>\n",
              "    <tr>\n",
              "      <th>2</th>\n",
              "      <td>4.7</td>\n",
              "      <td>3.2</td>\n",
              "      <td>1.3</td>\n",
              "      <td>0.2</td>\n",
              "      <td>setosa</td>\n",
              "      <td>0.0</td>\n",
              "    </tr>\n",
              "    <tr>\n",
              "      <th>3</th>\n",
              "      <td>4.6</td>\n",
              "      <td>3.1</td>\n",
              "      <td>1.5</td>\n",
              "      <td>0.2</td>\n",
              "      <td>setosa</td>\n",
              "      <td>0.0</td>\n",
              "    </tr>\n",
              "    <tr>\n",
              "      <th>4</th>\n",
              "      <td>5.0</td>\n",
              "      <td>3.6</td>\n",
              "      <td>1.4</td>\n",
              "      <td>0.2</td>\n",
              "      <td>setosa</td>\n",
              "      <td>0.0</td>\n",
              "    </tr>\n",
              "  </tbody>\n",
              "</table>\n",
              "</div>"
            ],
            "text/plain": [
              "   Sepal Length  sepal width  petal length  petal width  target  target2\n",
              "0           5.1          3.5           1.4          0.2  setosa      0.0\n",
              "1           4.9          3.0           1.4          0.2  setosa      0.0\n",
              "2           4.7          3.2           1.3          0.2  setosa      0.0\n",
              "3           4.6          3.1           1.5          0.2  setosa      0.0\n",
              "4           5.0          3.6           1.4          0.2  setosa      0.0"
            ]
          },
          "metadata": {
            "tags": []
          },
          "execution_count": 87
        }
      ]
    },
    {
      "cell_type": "code",
      "metadata": {
        "id": "_d5qWQmXgPIH",
        "colab_type": "code",
        "outputId": "5b7e1372-2281-4474-de13-49689e7febbe",
        "colab": {
          "base_uri": "https://localhost:8080/",
          "height": 159
        }
      },
      "source": [
        "# Cria um clasificador XGBoost\n",
        "clf = XGBClassifier(n_estimators=10000, random_state=0, n_jobs=-1)\n",
        "\n",
        "# Treina o classificador\n",
        "clf.fit(X_train, y_train)"
      ],
      "execution_count": 0,
      "outputs": [
        {
          "output_type": "execute_result",
          "data": {
            "text/plain": [
              "XGBClassifier(base_score=0.5, booster='gbtree', colsample_bylevel=1,\n",
              "              colsample_bynode=1, colsample_bytree=1, gamma=0,\n",
              "              learning_rate=0.1, max_delta_step=0, max_depth=3,\n",
              "              min_child_weight=1, missing=None, n_estimators=10000, n_jobs=-1,\n",
              "              nthread=None, objective='multi:softprob', random_state=0,\n",
              "              reg_alpha=0, reg_lambda=1, scale_pos_weight=1, seed=None,\n",
              "              silent=None, subsample=1, verbosity=1)"
            ]
          },
          "metadata": {
            "tags": []
          },
          "execution_count": 88
        }
      ]
    },
    {
      "cell_type": "code",
      "metadata": {
        "id": "zv2gbuc5glFJ",
        "colab_type": "code",
        "outputId": "84633514-1d1b-47e6-bc18-3e964b98247d",
        "colab": {
          "base_uri": "https://localhost:8080/",
          "height": 304
        }
      },
      "source": [
        "# Calcula a importância das features\n",
        "importances = clf.feature_importances_\n",
        "\n",
        "# Ordena as importâncias por ordem descendente\n",
        "indices = np.argsort(importances)[::-1]\n",
        "\n",
        "# Organiza...\n",
        "names = [iris.feature_names[i] for i in indices]\n",
        "\n",
        "# Barplot\n",
        "plt.bar(range(X_train.shape[1]), importances[indices])\n",
        "\n",
        "# Coloca o nome dos labels no eixo X\n",
        "plt.xticks(range(X_train.shape[1]), names, rotation=20, fontsize = 8)\n",
        "\n",
        "# Constroi o gráfico\n",
        "plt.title(\"Feature Importance\")\n",
        "\n",
        "# Mostra o gráfico\n",
        "plt.show()"
      ],
      "execution_count": 0,
      "outputs": [
        {
          "output_type": "display_data",
          "data": {
            "image/png": "[encoded data removed]",
            "text/plain": [
              "<Figure size 432x288 with 1 Axes>"
            ]
          },
          "metadata": {
            "tags": []
          }
        }
      ]
    },
    {
      "cell_type": "markdown",
      "metadata": {
        "id": "dyV84X_67txP",
        "colab_type": "text"
      },
      "source": [
        "### Análise de Correlação"
      ]
    },
    {
      "cell_type": "code",
      "metadata": {
        "colab_type": "code",
        "outputId": "506a8d2b-856a-4b50-f402-bc3921393711",
        "id": "xmK7pYls7uJ_",
        "colab": {
          "base_uri": "https://localhost:8080/",
          "height": 204
        }
      },
      "source": [
        "# calcula a correlação entre as colunas/variáveis do dataframe\n",
        "correlacao= df_iris.corr().abs()\n",
        "\n",
        "# Seleciona o triângulo superior da matriz de correlação\n",
        "correlacao = correlacao.where(np.triu(np.ones(correlacao.shape), k=1).astype(np.bool))\n",
        "correlacao"
      ],
      "execution_count": 0,
      "outputs": [
        {
          "output_type": "execute_result",
          "data": {
            "text/html": [
              "<div>\n",
              "<style scoped>\n",
              "    .dataframe tbody tr th:only-of-type {\n",
              "        vertical-align: middle;\n",
              "    }\n",
              "\n",
              "    .dataframe tbody tr th {\n",
              "        vertical-align: top;\n",
              "    }\n",
              "\n",
              "    .dataframe thead th {\n",
              "        text-align: right;\n",
              "    }\n",
              "</style>\n",
              "<table border=\"1\" class=\"dataframe\">\n",
              "  <thead>\n",
              "    <tr style=\"text-align: right;\">\n",
              "      <th></th>\n",
              "      <th>Sepal Length</th>\n",
              "      <th>sepal width</th>\n",
              "      <th>petal length</th>\n",
              "      <th>petal width</th>\n",
              "      <th>target2</th>\n",
              "    </tr>\n",
              "  </thead>\n",
              "  <tbody>\n",
              "    <tr>\n",
              "      <th>Sepal Length</th>\n",
              "      <td>NaN</td>\n",
              "      <td>0.11757</td>\n",
              "      <td>0.871754</td>\n",
              "      <td>0.817941</td>\n",
              "      <td>0.782561</td>\n",
              "    </tr>\n",
              "    <tr>\n",
              "      <th>sepal width</th>\n",
              "      <td>NaN</td>\n",
              "      <td>NaN</td>\n",
              "      <td>0.428440</td>\n",
              "      <td>0.366126</td>\n",
              "      <td>0.426658</td>\n",
              "    </tr>\n",
              "    <tr>\n",
              "      <th>petal length</th>\n",
              "      <td>NaN</td>\n",
              "      <td>NaN</td>\n",
              "      <td>NaN</td>\n",
              "      <td>0.962865</td>\n",
              "      <td>0.949035</td>\n",
              "    </tr>\n",
              "    <tr>\n",
              "      <th>petal width</th>\n",
              "      <td>NaN</td>\n",
              "      <td>NaN</td>\n",
              "      <td>NaN</td>\n",
              "      <td>NaN</td>\n",
              "      <td>0.956547</td>\n",
              "    </tr>\n",
              "    <tr>\n",
              "      <th>target2</th>\n",
              "      <td>NaN</td>\n",
              "      <td>NaN</td>\n",
              "      <td>NaN</td>\n",
              "      <td>NaN</td>\n",
              "      <td>NaN</td>\n",
              "    </tr>\n",
              "  </tbody>\n",
              "</table>\n",
              "</div>"
            ],
            "text/plain": [
              "              Sepal Length  sepal width  petal length  petal width   target2\n",
              "Sepal Length           NaN      0.11757      0.871754     0.817941  0.782561\n",
              "sepal width            NaN          NaN      0.428440     0.366126  0.426658\n",
              "petal length           NaN          NaN           NaN     0.962865  0.949035\n",
              "petal width            NaN          NaN           NaN          NaN  0.956547\n",
              "target2                NaN          NaN           NaN          NaN       NaN"
            ]
          },
          "metadata": {
            "tags": []
          },
          "execution_count": 202
        }
      ]
    },
    {
      "cell_type": "code",
      "metadata": {
        "colab_type": "code",
        "outputId": "eec2de8b-5d47-44b0-c755-f309549014de",
        "id": "T9LGvjr-7uKG",
        "colab": {
          "base_uri": "https://localhost:8080/",
          "height": 503
        }
      },
      "source": [
        "fig, ax = plt.subplots(figsize=(8, 8)) \n",
        "mask = np.zeros_like(df_iris.corr().abs())\n",
        "mask[np.triu_indices_from(mask)] = 1\n",
        "sns.heatmap(df_iris.corr().abs(), mask= mask, ax= ax, cmap='coolwarm', annot= True)"
      ],
      "execution_count": 0,
      "outputs": [
        {
          "output_type": "execute_result",
          "data": {
            "text/plain": [
              "<matplotlib.axes._subplots.AxesSubplot at 0x7f4ade867a20>"
            ]
          },
          "metadata": {
            "tags": []
          },
          "execution_count": 203
        },
        {
          "output_type": "display_data",
          "data": {
            "image/png": "[encoded data removed]",
            "text/plain": [
              "<Figure size 576x576 with 2 Axes>"
            ]
          },
          "metadata": {
            "tags": []
          }
        }
      ]
    },
    {
      "cell_type": "markdown",
      "metadata": {
        "colab_type": "text",
        "id": "tdtX51Cn7uKJ"
      },
      "source": [
        "Pela Análise de Correlação, vemos duas variáveis altamente correlacionadas com a variável-resposta, que são: 'Peta Width' e 'Petal Length', que são as duas variáveis mais importantes no dataframe."
      ]
    },
    {
      "cell_type": "markdown",
      "metadata": {
        "id": "_ebv3nAzU2ac",
        "colab_type": "text"
      },
      "source": [
        "## Feature Selection using PCA (Principal Components Analysis)"
      ]
    },
    {
      "cell_type": "code",
      "metadata": {
        "id": "8M5uO9r-Vtze",
        "colab_type": "code",
        "outputId": "b11148af-f06d-45bf-aa0d-034fe648f6a7",
        "colab": {
          "base_uri": "https://localhost:8080/",
          "height": 204
        }
      },
      "source": [
        "from sklearn.datasets import load_iris\n",
        "\n",
        "iris = load_iris()\n",
        "X= iris['data']\n",
        "y= iris['target']\n",
        "\n",
        "df_iris = pd.DataFrame(np.c_[X, y], columns= np.append(iris['feature_names'], ['target']))\n",
        "df_iris['target2']= df_iris['target']\n",
        "# Create a list of feature names\n",
        "lIris_labels = ['Sepal Length','Sepal Width','Petal Length','Petal Width']\n",
        "\n",
        "df_iris['target'] = df_iris['target'].map({0: 'setosa', 1: 'versicolor', 2: 'virginica'})\n",
        "df_iris= df_iris.rename(columns={'sepal length (cm)': 'Sepal Length', 'sepal width (cm)': 'sepal width', 'petal length (cm)': 'petal length', 'petal width (cm)': 'petal width'})\n",
        "\n",
        "df_iris.head()"
      ],
      "execution_count": 0,
      "outputs": [
        {
          "output_type": "execute_result",
          "data": {
            "text/html": [
              "<div>\n",
              "<style scoped>\n",
              "    .dataframe tbody tr th:only-of-type {\n",
              "        vertical-align: middle;\n",
              "    }\n",
              "\n",
              "    .dataframe tbody tr th {\n",
              "        vertical-align: top;\n",
              "    }\n",
              "\n",
              "    .dataframe thead th {\n",
              "        text-align: right;\n",
              "    }\n",
              "</style>\n",
              "<table border=\"1\" class=\"dataframe\">\n",
              "  <thead>\n",
              "    <tr style=\"text-align: right;\">\n",
              "      <th></th>\n",
              "      <th>Sepal Length</th>\n",
              "      <th>sepal width</th>\n",
              "      <th>petal length</th>\n",
              "      <th>petal width</th>\n",
              "      <th>target</th>\n",
              "      <th>target2</th>\n",
              "    </tr>\n",
              "  </thead>\n",
              "  <tbody>\n",
              "    <tr>\n",
              "      <th>0</th>\n",
              "      <td>5.1</td>\n",
              "      <td>3.5</td>\n",
              "      <td>1.4</td>\n",
              "      <td>0.2</td>\n",
              "      <td>setosa</td>\n",
              "      <td>0.0</td>\n",
              "    </tr>\n",
              "    <tr>\n",
              "      <th>1</th>\n",
              "      <td>4.9</td>\n",
              "      <td>3.0</td>\n",
              "      <td>1.4</td>\n",
              "      <td>0.2</td>\n",
              "      <td>setosa</td>\n",
              "      <td>0.0</td>\n",
              "    </tr>\n",
              "    <tr>\n",
              "      <th>2</th>\n",
              "      <td>4.7</td>\n",
              "      <td>3.2</td>\n",
              "      <td>1.3</td>\n",
              "      <td>0.2</td>\n",
              "      <td>setosa</td>\n",
              "      <td>0.0</td>\n",
              "    </tr>\n",
              "    <tr>\n",
              "      <th>3</th>\n",
              "      <td>4.6</td>\n",
              "      <td>3.1</td>\n",
              "      <td>1.5</td>\n",
              "      <td>0.2</td>\n",
              "      <td>setosa</td>\n",
              "      <td>0.0</td>\n",
              "    </tr>\n",
              "    <tr>\n",
              "      <th>4</th>\n",
              "      <td>5.0</td>\n",
              "      <td>3.6</td>\n",
              "      <td>1.4</td>\n",
              "      <td>0.2</td>\n",
              "      <td>setosa</td>\n",
              "      <td>0.0</td>\n",
              "    </tr>\n",
              "  </tbody>\n",
              "</table>\n",
              "</div>"
            ],
            "text/plain": [
              "   Sepal Length  sepal width  petal length  petal width  target  target2\n",
              "0           5.1          3.5           1.4          0.2  setosa      0.0\n",
              "1           4.9          3.0           1.4          0.2  setosa      0.0\n",
              "2           4.7          3.2           1.3          0.2  setosa      0.0\n",
              "3           4.6          3.1           1.5          0.2  setosa      0.0\n",
              "4           5.0          3.6           1.4          0.2  setosa      0.0"
            ]
          },
          "metadata": {
            "tags": []
          },
          "execution_count": 204
        }
      ]
    },
    {
      "cell_type": "markdown",
      "metadata": {
        "id": "wWS8bvXzX4Fg",
        "colab_type": "text"
      },
      "source": [
        "### Standardize the Data\n",
        "* O PCA é afetado por escala, portanto, é necessário dimensionar as features/atributos antes de aplicar o PCA.\n",
        "* Use o StandardScaler para padronizar os features/atributos usando com média = 0 e variância = 1.\n",
        "* A propósito, esta é a principal transformação para muitos algoritmos de Machine Learning."
      ]
    },
    {
      "cell_type": "code",
      "metadata": {
        "id": "2oVG8_1HXweo",
        "colab_type": "code",
        "colab": {}
      },
      "source": [
        "from sklearn.preprocessing import StandardScaler\n",
        "from sklearn.decomposition import PCA"
      ],
      "execution_count": 0,
      "outputs": []
    },
    {
      "cell_type": "markdown",
      "metadata": {
        "id": "xYXnYebxclya",
        "colab_type": "text"
      },
      "source": [
        "Standardizing as features de X:"
      ]
    },
    {
      "cell_type": "code",
      "metadata": {
        "id": "iDMzHm3mcpbs",
        "colab_type": "code",
        "colab": {}
      },
      "source": [
        "X_STD= StandardScaler().fit_transform(X)"
      ],
      "execution_count": 0,
      "outputs": []
    },
    {
      "cell_type": "code",
      "metadata": {
        "id": "MmKMCuvMc63E",
        "colab_type": "code",
        "colab": {}
      },
      "source": [
        "pca_2c = PCA(n_components=2)\n",
        "pca_3c= PCA(n_components=3)\n",
        "\n",
        "X_PCA_2c = pca_2c.fit_transform(X_STD)\n",
        "X_PCA_3c = pca_3c.fit_transform(X_STD)\n",
        "df_PCA_2c = pd.DataFrame(data = X_PCA_2c, columns = ['principal component 1', 'principal component 2'])"
      ],
      "execution_count": 0,
      "outputs": []
    },
    {
      "cell_type": "markdown",
      "metadata": {
        "id": "0Yfvb02JdV8B",
        "colab_type": "text"
      },
      "source": [
        "Vamos entender o que está acontecendo:"
      ]
    },
    {
      "cell_type": "markdown",
      "metadata": {
        "id": "-PVc1vJ8d_w6",
        "colab_type": "text"
      },
      "source": [
        "Primeiramente, observe nosso array X abaixo. Cada coluna desse array representa uma coluna do dataframe df_iris. Por exemplo, a primeira coluna são os dados da variável 'Sepal Length'. Identificou?"
      ]
    },
    {
      "cell_type": "code",
      "metadata": {
        "id": "BEp1JD0Odd3L",
        "colab_type": "code",
        "outputId": "82f95bfd-0a8b-4279-a0d5-6bbf06f8339f",
        "colab": {
          "base_uri": "https://localhost:8080/",
          "height": 102
        }
      },
      "source": [
        "# Listando as primeiras 5 linhas de X\n",
        "X[0:5]"
      ],
      "execution_count": 0,
      "outputs": [
        {
          "output_type": "execute_result",
          "data": {
            "text/plain": [
              "array([[5.1, 3.5, 1.4, 0.2],\n",
              "       [4.9, 3. , 1.4, 0.2],\n",
              "       [4.7, 3.2, 1.3, 0.2],\n",
              "       [4.6, 3.1, 1.5, 0.2],\n",
              "       [5. , 3.6, 1.4, 0.2]])"
            ]
          },
          "metadata": {
            "tags": []
          },
          "execution_count": 208
        }
      ]
    },
    {
      "cell_type": "markdown",
      "metadata": {
        "id": "41-KcSTneURx",
        "colab_type": "text"
      },
      "source": [
        "Segundo, com a standardização, construimos o array X_STD, que mostramos abaixo:"
      ]
    },
    {
      "cell_type": "code",
      "metadata": {
        "id": "igBQNHS5eaND",
        "colab_type": "code",
        "outputId": "a42a05b9-769a-4236-edc5-7a124cf4a4d0",
        "colab": {
          "base_uri": "https://localhost:8080/",
          "height": 102
        }
      },
      "source": [
        "X_STD[0:5]"
      ],
      "execution_count": 0,
      "outputs": [
        {
          "output_type": "execute_result",
          "data": {
            "text/plain": [
              "array([[-0.90068117,  1.01900435, -1.34022653, -1.3154443 ],\n",
              "       [-1.14301691, -0.13197948, -1.34022653, -1.3154443 ],\n",
              "       [-1.38535265,  0.32841405, -1.39706395, -1.3154443 ],\n",
              "       [-1.50652052,  0.09821729, -1.2833891 , -1.3154443 ],\n",
              "       [-1.02184904,  1.24920112, -1.34022653, -1.3154443 ]])"
            ]
          },
          "metadata": {
            "tags": []
          },
          "execution_count": 209
        }
      ]
    },
    {
      "cell_type": "markdown",
      "metadata": {
        "id": "F8Do1XEvjgg0",
        "colab_type": "text"
      },
      "source": [
        ""
      ]
    },
    {
      "cell_type": "markdown",
      "metadata": {
        "id": "TgRD7-qPjg29",
        "colab_type": "text"
      },
      "source": [
        "Veja abaixo a média e desvio-padrão do array X_STD:"
      ]
    },
    {
      "cell_type": "code",
      "metadata": {
        "id": "M0VL4ilZjliL",
        "colab_type": "code",
        "outputId": "e5274fce-7fe9-4e21-9d3d-39a1b0c1211c",
        "colab": {
          "base_uri": "https://localhost:8080/",
          "height": 34
        }
      },
      "source": [
        "np.mean(X_STD),np.std(X_STD)"
      ],
      "execution_count": 0,
      "outputs": [
        {
          "output_type": "execute_result",
          "data": {
            "text/plain": [
              "(-1.4684549872375404e-15, 1.0)"
            ]
          },
          "metadata": {
            "tags": []
          },
          "execution_count": 210
        }
      ]
    },
    {
      "cell_type": "markdown",
      "metadata": {
        "id": "pyDJwNCgju0O",
        "colab_type": "text"
      },
      "source": [
        "Temos média 0 e desvio-padrão 1, certo? É isso que queríamos."
      ]
    },
    {
      "cell_type": "markdown",
      "metadata": {
        "id": "KB7R7OXQemze",
        "colab_type": "text"
      },
      "source": [
        "Por fim, a partir de X_STD, construimos o array X_PCA, mostrado abaixo:"
      ]
    },
    {
      "cell_type": "code",
      "metadata": {
        "id": "lNmAskXWerqG",
        "colab_type": "code",
        "outputId": "03fdb3cb-363f-467b-87c5-7dbcdd050057",
        "colab": {
          "base_uri": "https://localhost:8080/",
          "height": 102
        }
      },
      "source": [
        "X_PCA_2c[0:5]"
      ],
      "execution_count": 0,
      "outputs": [
        {
          "output_type": "execute_result",
          "data": {
            "text/plain": [
              "array([[-2.26470281,  0.4800266 ],\n",
              "       [-2.08096115, -0.67413356],\n",
              "       [-2.36422905, -0.34190802],\n",
              "       [-2.29938422, -0.59739451],\n",
              "       [-2.38984217,  0.64683538]])"
            ]
          },
          "metadata": {
            "tags": []
          },
          "execution_count": 211
        }
      ]
    },
    {
      "cell_type": "markdown",
      "metadata": {
        "id": "fT2N6Ym7fBt-",
        "colab_type": "text"
      },
      "source": [
        "Portanto, reduzimos (ou resumimos) o array X_STD de 5 dimensões para um array de 2 dimensões."
      ]
    },
    {
      "cell_type": "markdown",
      "metadata": {
        "id": "cA54fhYgfQuC",
        "colab_type": "text"
      },
      "source": [
        "Finalmente, o dataframe final é mostrado abaixo:"
      ]
    },
    {
      "cell_type": "code",
      "metadata": {
        "id": "kAQ4O9EBfUlN",
        "colab_type": "code",
        "outputId": "20cff434-6bdc-459f-d737-9ba8ef0b227e",
        "colab": {
          "base_uri": "https://localhost:8080/",
          "height": 204
        }
      },
      "source": [
        "df_PCA_final_2c= pd.concat([df_PCA_2c, df_iris[['target']]], axis= 1)\n",
        "df_PCA_final_2c.head()"
      ],
      "execution_count": 0,
      "outputs": [
        {
          "output_type": "execute_result",
          "data": {
            "text/html": [
              "<div>\n",
              "<style scoped>\n",
              "    .dataframe tbody tr th:only-of-type {\n",
              "        vertical-align: middle;\n",
              "    }\n",
              "\n",
              "    .dataframe tbody tr th {\n",
              "        vertical-align: top;\n",
              "    }\n",
              "\n",
              "    .dataframe thead th {\n",
              "        text-align: right;\n",
              "    }\n",
              "</style>\n",
              "<table border=\"1\" class=\"dataframe\">\n",
              "  <thead>\n",
              "    <tr style=\"text-align: right;\">\n",
              "      <th></th>\n",
              "      <th>principal component 1</th>\n",
              "      <th>principal component 2</th>\n",
              "      <th>target</th>\n",
              "    </tr>\n",
              "  </thead>\n",
              "  <tbody>\n",
              "    <tr>\n",
              "      <th>0</th>\n",
              "      <td>-2.264703</td>\n",
              "      <td>0.480027</td>\n",
              "      <td>setosa</td>\n",
              "    </tr>\n",
              "    <tr>\n",
              "      <th>1</th>\n",
              "      <td>-2.080961</td>\n",
              "      <td>-0.674134</td>\n",
              "      <td>setosa</td>\n",
              "    </tr>\n",
              "    <tr>\n",
              "      <th>2</th>\n",
              "      <td>-2.364229</td>\n",
              "      <td>-0.341908</td>\n",
              "      <td>setosa</td>\n",
              "    </tr>\n",
              "    <tr>\n",
              "      <th>3</th>\n",
              "      <td>-2.299384</td>\n",
              "      <td>-0.597395</td>\n",
              "      <td>setosa</td>\n",
              "    </tr>\n",
              "    <tr>\n",
              "      <th>4</th>\n",
              "      <td>-2.389842</td>\n",
              "      <td>0.646835</td>\n",
              "      <td>setosa</td>\n",
              "    </tr>\n",
              "  </tbody>\n",
              "</table>\n",
              "</div>"
            ],
            "text/plain": [
              "   principal component 1  principal component 2  target\n",
              "0              -2.264703               0.480027  setosa\n",
              "1              -2.080961              -0.674134  setosa\n",
              "2              -2.364229              -0.341908  setosa\n",
              "3              -2.299384              -0.597395  setosa\n",
              "4              -2.389842               0.646835  setosa"
            ]
          },
          "metadata": {
            "tags": []
          },
          "execution_count": 212
        }
      ]
    },
    {
      "cell_type": "markdown",
      "metadata": {
        "id": "MEbvp3RFf-zs",
        "colab_type": "text"
      },
      "source": [
        "### Visualizar reultados"
      ]
    },
    {
      "cell_type": "code",
      "metadata": {
        "id": "GEqP-NVngBO1",
        "colab_type": "code",
        "outputId": "aab174c1-86c0-4b85-dc3a-8fd02b5808b0",
        "colab": {
          "base_uri": "https://localhost:8080/",
          "height": 523
        }
      },
      "source": [
        "fig = plt.figure(figsize = (8,8))\n",
        "ax = fig.add_subplot(1,1,1) \n",
        "ax.set_xlabel('Principal Component 1', fontsize = 15)\n",
        "ax.set_ylabel('Principal Component 2', fontsize = 15)\n",
        "ax.set_title('2 component PCA', fontsize = 20)\n",
        "targets = ['setosa', 'versicolor', 'virginica']\n",
        "colors = ['r', 'g', 'b']\n",
        "for target, color in zip(targets,colors):\n",
        "    indicesToKeep = df_PCA_final_2c['target'] == target\n",
        "    ax.scatter(df_PCA_final_2c.loc[indicesToKeep, 'principal component 1']\n",
        "               , df_PCA_final_2c.loc[indicesToKeep, 'principal component 2']\n",
        "               , c = color\n",
        "               , s = 50)\n",
        "ax.legend(targets)\n",
        "ax.grid()"
      ],
      "execution_count": 0,
      "outputs": [
        {
          "output_type": "display_data",
          "data": {
            "image/png": "[encoded data removed]",
            "text/plain": [
              "<Figure size 576x576 with 1 Axes>"
            ]
          },
          "metadata": {
            "tags": []
          }
        }
      ]
    },
    {
      "cell_type": "markdown",
      "metadata": {
        "id": "pZaGiGnUl6ER",
        "colab_type": "text"
      },
      "source": [
        "O que significa reduzir para 2 dimensões um array com 4 dimensões?"
      ]
    },
    {
      "cell_type": "code",
      "metadata": {
        "id": "xF-whgBmlHN1",
        "colab_type": "code",
        "outputId": "18b8e3cd-5f4f-44a9-dcfb-e22eddf7632e",
        "colab": {
          "base_uri": "https://localhost:8080/",
          "height": 658
        }
      },
      "source": [
        "X_new = pca_2c.inverse_transform(X_PCA_2c)\n",
        "plt.figure(figsize=(10, 10), dpi=80)\n",
        "plt.scatter(X_STD[:, 0], X_STD[:, 1], alpha=0.2)\n",
        "plt.scatter(X_new[:, 0], X_new[:, 1], alpha=0.9)\n",
        "plt.axis('equal');"
      ],
      "execution_count": 0,
      "outputs": [
        {
          "output_type": "display_data",
          "data": {
            "image/png": "[encoded data removed]",
            "text/plain": [
              "<Figure size 800x800 with 1 Axes>"
            ]
          },
          "metadata": {
            "tags": []
          }
        }
      ]
    },
    {
      "cell_type": "markdown",
      "metadata": {
        "id": "XvLDQ2JF5NP8",
        "colab_type": "text"
      },
      "source": [
        "### Análise de Correlação"
      ]
    },
    {
      "cell_type": "code",
      "metadata": {
        "id": "DK3R415_5RzY",
        "colab_type": "code",
        "outputId": "4fedae5d-4c2c-4603-c92d-52d585a1d02c",
        "colab": {
          "base_uri": "https://localhost:8080/",
          "height": 204
        }
      },
      "source": [
        "# calcula a correlação entre as colunas/variáveis do dataframe\n",
        "correlacao= df_iris.corr().abs()\n",
        "\n",
        "# Seleciona o triângulo superior da matriz de correlação\n",
        "correlacao = correlacao.where(np.triu(np.ones(correlacao.shape), k=1).astype(np.bool))\n",
        "correlacao"
      ],
      "execution_count": 0,
      "outputs": [
        {
          "output_type": "execute_result",
          "data": {
            "text/html": [
              "<div>\n",
              "<style scoped>\n",
              "    .dataframe tbody tr th:only-of-type {\n",
              "        vertical-align: middle;\n",
              "    }\n",
              "\n",
              "    .dataframe tbody tr th {\n",
              "        vertical-align: top;\n",
              "    }\n",
              "\n",
              "    .dataframe thead th {\n",
              "        text-align: right;\n",
              "    }\n",
              "</style>\n",
              "<table border=\"1\" class=\"dataframe\">\n",
              "  <thead>\n",
              "    <tr style=\"text-align: right;\">\n",
              "      <th></th>\n",
              "      <th>Sepal Length</th>\n",
              "      <th>sepal width</th>\n",
              "      <th>petal length</th>\n",
              "      <th>petal width</th>\n",
              "      <th>target2</th>\n",
              "    </tr>\n",
              "  </thead>\n",
              "  <tbody>\n",
              "    <tr>\n",
              "      <th>Sepal Length</th>\n",
              "      <td>NaN</td>\n",
              "      <td>0.11757</td>\n",
              "      <td>0.871754</td>\n",
              "      <td>0.817941</td>\n",
              "      <td>0.782561</td>\n",
              "    </tr>\n",
              "    <tr>\n",
              "      <th>sepal width</th>\n",
              "      <td>NaN</td>\n",
              "      <td>NaN</td>\n",
              "      <td>0.428440</td>\n",
              "      <td>0.366126</td>\n",
              "      <td>0.426658</td>\n",
              "    </tr>\n",
              "    <tr>\n",
              "      <th>petal length</th>\n",
              "      <td>NaN</td>\n",
              "      <td>NaN</td>\n",
              "      <td>NaN</td>\n",
              "      <td>0.962865</td>\n",
              "      <td>0.949035</td>\n",
              "    </tr>\n",
              "    <tr>\n",
              "      <th>petal width</th>\n",
              "      <td>NaN</td>\n",
              "      <td>NaN</td>\n",
              "      <td>NaN</td>\n",
              "      <td>NaN</td>\n",
              "      <td>0.956547</td>\n",
              "    </tr>\n",
              "    <tr>\n",
              "      <th>target2</th>\n",
              "      <td>NaN</td>\n",
              "      <td>NaN</td>\n",
              "      <td>NaN</td>\n",
              "      <td>NaN</td>\n",
              "      <td>NaN</td>\n",
              "    </tr>\n",
              "  </tbody>\n",
              "</table>\n",
              "</div>"
            ],
            "text/plain": [
              "              Sepal Length  sepal width  petal length  petal width   target2\n",
              "Sepal Length           NaN      0.11757      0.871754     0.817941  0.782561\n",
              "sepal width            NaN          NaN      0.428440     0.366126  0.426658\n",
              "petal length           NaN          NaN           NaN     0.962865  0.949035\n",
              "petal width            NaN          NaN           NaN          NaN  0.956547\n",
              "target2                NaN          NaN           NaN          NaN       NaN"
            ]
          },
          "metadata": {
            "tags": []
          },
          "execution_count": 215
        }
      ]
    },
    {
      "cell_type": "code",
      "metadata": {
        "id": "uLvvzpvl5Zy9",
        "colab_type": "code",
        "outputId": "69eef260-c803-481e-fc24-d64c3e2d8f9c",
        "colab": {
          "base_uri": "https://localhost:8080/",
          "height": 503
        }
      },
      "source": [
        "fig, ax = plt.subplots(figsize=(8, 8)) \n",
        "mask = np.zeros_like(df_iris.corr().abs())\n",
        "mask[np.triu_indices_from(mask)] = 1\n",
        "sns.heatmap(df_iris.corr().abs(), mask= mask, ax= ax, cmap='coolwarm', annot= True)"
      ],
      "execution_count": 0,
      "outputs": [
        {
          "output_type": "execute_result",
          "data": {
            "text/plain": [
              "<matplotlib.axes._subplots.AxesSubplot at 0x7f4adf764908>"
            ]
          },
          "metadata": {
            "tags": []
          },
          "execution_count": 216
        },
        {
          "output_type": "display_data",
          "data": {
            "image/png": "[encoded data removed]",
            "text/plain": [
              "<Figure size 576x576 with 2 Axes>"
            ]
          },
          "metadata": {
            "tags": []
          }
        }
      ]
    },
    {
      "cell_type": "markdown",
      "metadata": {
        "id": "xo-llZpb7JfO",
        "colab_type": "text"
      },
      "source": [
        "Pela Análise de Correlação, vemos duas variáveis altamente correlacionadas com a variável-resposta, que são: 'Peta Width' e 'Petal Length', que são as duas variáveis mais importantes no dataframe. Lembram-se?"
      ]
    },
    {
      "cell_type": "markdown",
      "metadata": {
        "id": "kjPawS_dgSKU",
        "colab_type": "text"
      },
      "source": [
        "### Variância explicada\n",
        "* Como vimos, reduzimos um array de informações de 4 dimensões para um array com 2 dimensões. Com isso, perde-se alguma informação relativa à variância. Mas quanto perdemos?\n",
        "\n",
        "* A Variância Explicada (ou Explained Variance, em inglês), mede o quanto de informação (variação) foi atribuída a cada um dos componentes principais. Usando o atributo explain_variance_ratio_, é possível ver que o primeiro componente principal contém 72,77% da variação e o segundo componente principal contém 23,03% da variação. Juntos, os dois componentes contêm 95,80% das informações. Portanto, perdemos quase nada em termos de informação e o modelo não é prejudicado por esta redução.\n",
        "\n",
        "\n",
        "A resposta à essa pergunta é:"
      ]
    },
    {
      "cell_type": "code",
      "metadata": {
        "id": "i6gcdvtYgwpX",
        "colab_type": "code",
        "outputId": "2025c30a-1667-47ca-9ed6-12266827ff1d",
        "colab": {
          "base_uri": "https://localhost:8080/",
          "height": 34
        }
      },
      "source": [
        "pca_2c.explained_variance_ratio_"
      ],
      "execution_count": 0,
      "outputs": [
        {
          "output_type": "execute_result",
          "data": {
            "text/plain": [
              "array([0.72962445, 0.22850762])"
            ]
          },
          "metadata": {
            "tags": []
          },
          "execution_count": 217
        }
      ]
    },
    {
      "cell_type": "markdown",
      "metadata": {
        "id": "m_4TqauJvIvX",
        "colab_type": "text"
      },
      "source": [
        "### Quantos componentes escolher"
      ]
    },
    {
      "cell_type": "code",
      "metadata": {
        "id": "O2NRgjCjvUli",
        "colab_type": "code",
        "outputId": "5793cc78-bad2-4583-a4c6-70cedafba8a9",
        "colab": {
          "base_uri": "https://localhost:8080/",
          "height": 283
        }
      },
      "source": [
        "pca = PCA().fit(X_STD)\n",
        "plt.plot(np.cumsum(pca.explained_variance_ratio_))\n",
        "plt.xlabel('number of components')\n",
        "plt.ylabel('cumulative explained variance');"
      ],
      "execution_count": 0,
      "outputs": [
        {
          "output_type": "display_data",
          "data": {
            "image/png": "[encoded data removed]",
            "text/plain": [
              "<Figure size 432x288 with 1 Axes>"
            ]
          },
          "metadata": {
            "tags": []
          }
        }
      ]
    },
    {
      "cell_type": "markdown",
      "metadata": {
        "id": "AvQ6KwQdwAdC",
        "colab_type": "text"
      },
      "source": [
        "**Interpretação**: Esta curva quantifica quanto da variância total de 4 dimensões está contida nos primeiros N componentes. Por exemplo, a primeira componente principal tem aproximadamente 95% da variação, enquanto que 2 componentes (os dois primeiros) explicam quase 100% da variabilidade. Portanto, em nosso caso, 2 componentes principais são suficientes para captar grande parte da variabilidade dos dados."
      ]
    },
    {
      "cell_type": "code",
      "metadata": {
        "id": "S151TcjQw6vc",
        "colab_type": "code",
        "outputId": "bd1fffad-ea77-4137-ffd8-9d659d99e9fe",
        "colab": {
          "base_uri": "https://localhost:8080/",
          "height": 34
        }
      },
      "source": [
        "pca.explained_variance_ratio_"
      ],
      "execution_count": 0,
      "outputs": [
        {
          "output_type": "execute_result",
          "data": {
            "text/plain": [
              "array([0.72962445, 0.22850762, 0.03668922, 0.00517871])"
            ]
          },
          "metadata": {
            "tags": []
          },
          "execution_count": 219
        }
      ]
    },
    {
      "cell_type": "markdown",
      "metadata": {
        "id": "2dNWrsMCyUUE",
        "colab_type": "text"
      },
      "source": [
        "### Medindo o impacto"
      ]
    },
    {
      "cell_type": "markdown",
      "metadata": {
        "id": "ueFuNN47zMd6",
        "colab_type": "text"
      },
      "source": [
        "#### Treinar o modelo com X_PCA"
      ]
    },
    {
      "cell_type": "code",
      "metadata": {
        "id": "yb4dpTHPyYlU",
        "colab_type": "code",
        "colab": {}
      },
      "source": [
        "from sklearn.ensemble import RandomForestClassifier"
      ],
      "execution_count": 0,
      "outputs": []
    },
    {
      "cell_type": "code",
      "metadata": {
        "id": "IzCZCBSmylwZ",
        "colab_type": "code",
        "outputId": "54aee328-3814-4ea5-c998-ff169f51c8f8",
        "colab": {
          "base_uri": "https://localhost:8080/",
          "height": 204
        }
      },
      "source": [
        "classifier_2c = RandomForestClassifier(max_depth=2, random_state=0)\n",
        "classifier_2c.fit(X_PCA_2c, y)\n",
        "\n",
        "classifier_3c = RandomForestClassifier(max_depth=2, random_state=0)\n",
        "classifier_3c.fit(X_PCA_3c, y)"
      ],
      "execution_count": 0,
      "outputs": [
        {
          "output_type": "stream",
          "text": [
            "/usr/local/lib/python3.6/dist-packages/sklearn/ensemble/forest.py:245: FutureWarning: The default value of n_estimators will change from 10 in version 0.20 to 100 in 0.22.\n",
            "  \"10 in version 0.20 to 100 in 0.22.\", FutureWarning)\n",
            "/usr/local/lib/python3.6/dist-packages/sklearn/ensemble/forest.py:245: FutureWarning: The default value of n_estimators will change from 10 in version 0.20 to 100 in 0.22.\n",
            "  \"10 in version 0.20 to 100 in 0.22.\", FutureWarning)\n"
          ],
          "name": "stderr"
        },
        {
          "output_type": "execute_result",
          "data": {
            "text/plain": [
              "RandomForestClassifier(bootstrap=True, class_weight=None, criterion='gini',\n",
              "                       max_depth=2, max_features='auto', max_leaf_nodes=None,\n",
              "                       min_impurity_decrease=0.0, min_impurity_split=None,\n",
              "                       min_samples_leaf=1, min_samples_split=2,\n",
              "                       min_weight_fraction_leaf=0.0, n_estimators=10,\n",
              "                       n_jobs=None, oob_score=False, random_state=0, verbose=0,\n",
              "                       warm_start=False)"
            ]
          },
          "metadata": {
            "tags": []
          },
          "execution_count": 221
        }
      ]
    },
    {
      "cell_type": "markdown",
      "metadata": {
        "id": "BiDgWh2PzYEY",
        "colab_type": "text"
      },
      "source": [
        "#### Fazer as predições"
      ]
    },
    {
      "cell_type": "code",
      "metadata": {
        "id": "A7V8DWW4zVPs",
        "colab_type": "code",
        "colab": {}
      },
      "source": [
        "y_pred_2c = classifier_2c.predict(X_PCA_2c)\n",
        "y_pred_3c = classifier_3c.predict(X_PCA_3c)"
      ],
      "execution_count": 0,
      "outputs": []
    },
    {
      "cell_type": "markdown",
      "metadata": {
        "id": "pkrmgAK_zcnA",
        "colab_type": "text"
      },
      "source": [
        "#### Medindo a performance"
      ]
    },
    {
      "cell_type": "code",
      "metadata": {
        "id": "xqBmBV5MzgB-",
        "colab_type": "code",
        "outputId": "ec24ad37-f89a-42e3-ecf8-a456981ce81f",
        "colab": {
          "base_uri": "https://localhost:8080/",
          "height": 136
        }
      },
      "source": [
        "from sklearn.metrics import confusion_matrix\n",
        "from sklearn.metrics import accuracy_score\n",
        "\n",
        "cm_2c = confusion_matrix(y, y_pred_2c)\n",
        "cm_3c = confusion_matrix(y, y_pred_3c)\n",
        "\n",
        "print(cm_2c)\n",
        "print('*****')\n",
        "print(cm_3c)"
      ],
      "execution_count": 0,
      "outputs": [
        {
          "output_type": "stream",
          "text": [
            "[[50  0  0]\n",
            " [ 0 38 12]\n",
            " [ 0 10 40]]\n",
            "*****\n",
            "[[50  0  0]\n",
            " [ 0 43  7]\n",
            " [ 0  8 42]]\n"
          ],
          "name": "stdout"
        }
      ]
    },
    {
      "cell_type": "code",
      "metadata": {
        "id": "i2tWusd30I_x",
        "colab_type": "code",
        "outputId": "e0d62469-e4df-451c-d78d-dd275c1cc748",
        "colab": {
          "base_uri": "https://localhost:8080/",
          "height": 51
        }
      },
      "source": [
        "print('Accuracy (2 componentes)', accuracy_score(y, y_pred_2c))\n",
        "print('Accuracy (3 componentes)', accuracy_score(y, y_pred_3c))"
      ],
      "execution_count": 0,
      "outputs": [
        {
          "output_type": "stream",
          "text": [
            "Accuracy (2 componentes) 0.8533333333333334\n",
            "Accuracy (3 componentes) 0.9\n"
          ],
          "name": "stdout"
        }
      ]
    },
    {
      "cell_type": "markdown",
      "metadata": {
        "id": "-VFpqq2Fiavk",
        "colab_type": "text"
      },
      "source": [
        "### Comentários\n",
        "> Se quisermos um PCA que retenha 99% da variância, usamos:\n",
        "pca = PCA(n_components=0.99, whiten=True)\n",
        "\n",
        "> Se quisermos saber quantos atributos foram selecionados para se obter os 99% da variância, use:\n",
        "pca.n_components_\n",
        "\n"
      ]
    },
    {
      "cell_type": "markdown",
      "metadata": {
        "id": "JTm4msQy2ezQ",
        "colab_type": "text"
      },
      "source": [
        "# Exercícios\n",
        "* Para cada dataframe a seguir, selecione os melhores atributos utilizando as técnicas:\n",
        "    * PCA\n",
        "    * Random Forest"
      ]
    },
    {
      "cell_type": "markdown",
      "metadata": {
        "id": "caFkC6oCmUKK",
        "colab_type": "text"
      },
      "source": [
        "## Exercício 1 - Breast Cancer"
      ]
    },
    {
      "cell_type": "code",
      "metadata": {
        "id": "vhOM-Z9zmf-f",
        "colab_type": "code",
        "outputId": "7c6b02a0-3bf9-4722-d0bd-e5b0007346bf",
        "colab": {
          "base_uri": "https://localhost:8080/",
          "height": 258
        }
      },
      "source": [
        "import pandas as pd\n",
        "import numpy as np\n",
        "from sklearn.datasets import load_breast_cancer\n",
        "\n",
        "from sklearn.datasets import load_breast_cancer\n",
        "\n",
        "cancer = load_breast_cancer()\n",
        "X= cancer['data']\n",
        "y= cancer['target']\n",
        "\n",
        "df_cancer = pd.DataFrame(np.c_[X, y], columns= np.append(cancer['feature_names'], ['target']))\n",
        "df_cancer['target'] = df_cancer['target'].map({0: 'malign', 1: 'benign'})\n",
        "df_cancer.head()"
      ],
      "execution_count": 0,
      "outputs": [
        {
          "output_type": "execute_result",
          "data": {
            "text/html": [
              "<div>\n",
              "<style scoped>\n",
              "    .dataframe tbody tr th:only-of-type {\n",
              "        vertical-align: middle;\n",
              "    }\n",
              "\n",
              "    .dataframe tbody tr th {\n",
              "        vertical-align: top;\n",
              "    }\n",
              "\n",
              "    .dataframe thead th {\n",
              "        text-align: right;\n",
              "    }\n",
              "</style>\n",
              "<table border=\"1\" class=\"dataframe\">\n",
              "  <thead>\n",
              "    <tr style=\"text-align: right;\">\n",
              "      <th></th>\n",
              "      <th>mean radius</th>\n",
              "      <th>mean texture</th>\n",
              "      <th>mean perimeter</th>\n",
              "      <th>mean area</th>\n",
              "      <th>mean smoothness</th>\n",
              "      <th>mean compactness</th>\n",
              "      <th>mean concavity</th>\n",
              "      <th>mean concave points</th>\n",
              "      <th>mean symmetry</th>\n",
              "      <th>mean fractal dimension</th>\n",
              "      <th>radius error</th>\n",
              "      <th>texture error</th>\n",
              "      <th>perimeter error</th>\n",
              "      <th>area error</th>\n",
              "      <th>smoothness error</th>\n",
              "      <th>compactness error</th>\n",
              "      <th>concavity error</th>\n",
              "      <th>concave points error</th>\n",
              "      <th>symmetry error</th>\n",
              "      <th>fractal dimension error</th>\n",
              "      <th>worst radius</th>\n",
              "      <th>worst texture</th>\n",
              "      <th>worst perimeter</th>\n",
              "      <th>worst area</th>\n",
              "      <th>worst smoothness</th>\n",
              "      <th>worst compactness</th>\n",
              "      <th>worst concavity</th>\n",
              "      <th>worst concave points</th>\n",
              "      <th>worst symmetry</th>\n",
              "      <th>worst fractal dimension</th>\n",
              "      <th>target</th>\n",
              "    </tr>\n",
              "  </thead>\n",
              "  <tbody>\n",
              "    <tr>\n",
              "      <th>0</th>\n",
              "      <td>17.99</td>\n",
              "      <td>10.38</td>\n",
              "      <td>122.80</td>\n",
              "      <td>1001.0</td>\n",
              "      <td>0.11840</td>\n",
              "      <td>0.27760</td>\n",
              "      <td>0.3001</td>\n",
              "      <td>0.14710</td>\n",
              "      <td>0.2419</td>\n",
              "      <td>0.07871</td>\n",
              "      <td>1.0950</td>\n",
              "      <td>0.9053</td>\n",
              "      <td>8.589</td>\n",
              "      <td>153.40</td>\n",
              "      <td>0.006399</td>\n",
              "      <td>0.04904</td>\n",
              "      <td>0.05373</td>\n",
              "      <td>0.01587</td>\n",
              "      <td>0.03003</td>\n",
              "      <td>0.006193</td>\n",
              "      <td>25.38</td>\n",
              "      <td>17.33</td>\n",
              "      <td>184.60</td>\n",
              "      <td>2019.0</td>\n",
              "      <td>0.1622</td>\n",
              "      <td>0.6656</td>\n",
              "      <td>0.7119</td>\n",
              "      <td>0.2654</td>\n",
              "      <td>0.4601</td>\n",
              "      <td>0.11890</td>\n",
              "      <td>malign</td>\n",
              "    </tr>\n",
              "    <tr>\n",
              "      <th>1</th>\n",
              "      <td>20.57</td>\n",
              "      <td>17.77</td>\n",
              "      <td>132.90</td>\n",
              "      <td>1326.0</td>\n",
              "      <td>0.08474</td>\n",
              "      <td>0.07864</td>\n",
              "      <td>0.0869</td>\n",
              "      <td>0.07017</td>\n",
              "      <td>0.1812</td>\n",
              "      <td>0.05667</td>\n",
              "      <td>0.5435</td>\n",
              "      <td>0.7339</td>\n",
              "      <td>3.398</td>\n",
              "      <td>74.08</td>\n",
              "      <td>0.005225</td>\n",
              "      <td>0.01308</td>\n",
              "      <td>0.01860</td>\n",
              "      <td>0.01340</td>\n",
              "      <td>0.01389</td>\n",
              "      <td>0.003532</td>\n",
              "      <td>24.99</td>\n",
              "      <td>23.41</td>\n",
              "      <td>158.80</td>\n",
              "      <td>1956.0</td>\n",
              "      <td>0.1238</td>\n",
              "      <td>0.1866</td>\n",
              "      <td>0.2416</td>\n",
              "      <td>0.1860</td>\n",
              "      <td>0.2750</td>\n",
              "      <td>0.08902</td>\n",
              "      <td>malign</td>\n",
              "    </tr>\n",
              "    <tr>\n",
              "      <th>2</th>\n",
              "      <td>19.69</td>\n",
              "      <td>21.25</td>\n",
              "      <td>130.00</td>\n",
              "      <td>1203.0</td>\n",
              "      <td>0.10960</td>\n",
              "      <td>0.15990</td>\n",
              "      <td>0.1974</td>\n",
              "      <td>0.12790</td>\n",
              "      <td>0.2069</td>\n",
              "      <td>0.05999</td>\n",
              "      <td>0.7456</td>\n",
              "      <td>0.7869</td>\n",
              "      <td>4.585</td>\n",
              "      <td>94.03</td>\n",
              "      <td>0.006150</td>\n",
              "      <td>0.04006</td>\n",
              "      <td>0.03832</td>\n",
              "      <td>0.02058</td>\n",
              "      <td>0.02250</td>\n",
              "      <td>0.004571</td>\n",
              "      <td>23.57</td>\n",
              "      <td>25.53</td>\n",
              "      <td>152.50</td>\n",
              "      <td>1709.0</td>\n",
              "      <td>0.1444</td>\n",
              "      <td>0.4245</td>\n",
              "      <td>0.4504</td>\n",
              "      <td>0.2430</td>\n",
              "      <td>0.3613</td>\n",
              "      <td>0.08758</td>\n",
              "      <td>malign</td>\n",
              "    </tr>\n",
              "    <tr>\n",
              "      <th>3</th>\n",
              "      <td>11.42</td>\n",
              "      <td>20.38</td>\n",
              "      <td>77.58</td>\n",
              "      <td>386.1</td>\n",
              "      <td>0.14250</td>\n",
              "      <td>0.28390</td>\n",
              "      <td>0.2414</td>\n",
              "      <td>0.10520</td>\n",
              "      <td>0.2597</td>\n",
              "      <td>0.09744</td>\n",
              "      <td>0.4956</td>\n",
              "      <td>1.1560</td>\n",
              "      <td>3.445</td>\n",
              "      <td>27.23</td>\n",
              "      <td>0.009110</td>\n",
              "      <td>0.07458</td>\n",
              "      <td>0.05661</td>\n",
              "      <td>0.01867</td>\n",
              "      <td>0.05963</td>\n",
              "      <td>0.009208</td>\n",
              "      <td>14.91</td>\n",
              "      <td>26.50</td>\n",
              "      <td>98.87</td>\n",
              "      <td>567.7</td>\n",
              "      <td>0.2098</td>\n",
              "      <td>0.8663</td>\n",
              "      <td>0.6869</td>\n",
              "      <td>0.2575</td>\n",
              "      <td>0.6638</td>\n",
              "      <td>0.17300</td>\n",
              "      <td>malign</td>\n",
              "    </tr>\n",
              "    <tr>\n",
              "      <th>4</th>\n",
              "      <td>20.29</td>\n",
              "      <td>14.34</td>\n",
              "      <td>135.10</td>\n",
              "      <td>1297.0</td>\n",
              "      <td>0.10030</td>\n",
              "      <td>0.13280</td>\n",
              "      <td>0.1980</td>\n",
              "      <td>0.10430</td>\n",
              "      <td>0.1809</td>\n",
              "      <td>0.05883</td>\n",
              "      <td>0.7572</td>\n",
              "      <td>0.7813</td>\n",
              "      <td>5.438</td>\n",
              "      <td>94.44</td>\n",
              "      <td>0.011490</td>\n",
              "      <td>0.02461</td>\n",
              "      <td>0.05688</td>\n",
              "      <td>0.01885</td>\n",
              "      <td>0.01756</td>\n",
              "      <td>0.005115</td>\n",
              "      <td>22.54</td>\n",
              "      <td>16.67</td>\n",
              "      <td>152.20</td>\n",
              "      <td>1575.0</td>\n",
              "      <td>0.1374</td>\n",
              "      <td>0.2050</td>\n",
              "      <td>0.4000</td>\n",
              "      <td>0.1625</td>\n",
              "      <td>0.2364</td>\n",
              "      <td>0.07678</td>\n",
              "      <td>malign</td>\n",
              "    </tr>\n",
              "  </tbody>\n",
              "</table>\n",
              "</div>"
            ],
            "text/plain": [
              "   mean radius  mean texture  ...  worst fractal dimension  target\n",
              "0        17.99         10.38  ...                  0.11890  malign\n",
              "1        20.57         17.77  ...                  0.08902  malign\n",
              "2        19.69         21.25  ...                  0.08758  malign\n",
              "3        11.42         20.38  ...                  0.17300  malign\n",
              "4        20.29         14.34  ...                  0.07678  malign\n",
              "\n",
              "[5 rows x 31 columns]"
            ]
          },
          "metadata": {
            "tags": []
          },
          "execution_count": 225
        }
      ]
    },
    {
      "cell_type": "code",
      "metadata": {
        "id": "IDZHB00Sf0S-",
        "colab_type": "code",
        "colab": {}
      },
      "source": [
        ""
      ],
      "execution_count": 0,
      "outputs": []
    },
    {
      "cell_type": "markdown",
      "metadata": {
        "id": "1qruqUDqnvMc",
        "colab_type": "text"
      },
      "source": [
        "## Exercício 2 - Boston Housing Price"
      ]
    },
    {
      "cell_type": "code",
      "metadata": {
        "id": "trxK8YXNnsam",
        "colab_type": "code",
        "outputId": "ed820dcd-2965-4959-f6fa-b3eed19f59cb",
        "colab": {
          "base_uri": "https://localhost:8080/",
          "height": 204
        }
      },
      "source": [
        "from sklearn.datasets import load_boston\n",
        "\n",
        "boston = load_boston()\n",
        "X= boston['data']\n",
        "y= boston['target']\n",
        "\n",
        "df_boston = pd.DataFrame(np.c_[X, y], columns= np.append(boston['feature_names'], ['target']))\n",
        "df_boston.head()"
      ],
      "execution_count": 0,
      "outputs": [
        {
          "output_type": "execute_result",
          "data": {
            "text/html": [
              "<div>\n",
              "<style scoped>\n",
              "    .dataframe tbody tr th:only-of-type {\n",
              "        vertical-align: middle;\n",
              "    }\n",
              "\n",
              "    .dataframe tbody tr th {\n",
              "        vertical-align: top;\n",
              "    }\n",
              "\n",
              "    .dataframe thead th {\n",
              "        text-align: right;\n",
              "    }\n",
              "</style>\n",
              "<table border=\"1\" class=\"dataframe\">\n",
              "  <thead>\n",
              "    <tr style=\"text-align: right;\">\n",
              "      <th></th>\n",
              "      <th>CRIM</th>\n",
              "      <th>ZN</th>\n",
              "      <th>INDUS</th>\n",
              "      <th>CHAS</th>\n",
              "      <th>NOX</th>\n",
              "      <th>RM</th>\n",
              "      <th>AGE</th>\n",
              "      <th>DIS</th>\n",
              "      <th>RAD</th>\n",
              "      <th>TAX</th>\n",
              "      <th>PTRATIO</th>\n",
              "      <th>B</th>\n",
              "      <th>LSTAT</th>\n",
              "      <th>target</th>\n",
              "    </tr>\n",
              "  </thead>\n",
              "  <tbody>\n",
              "    <tr>\n",
              "      <th>0</th>\n",
              "      <td>0.00632</td>\n",
              "      <td>18.0</td>\n",
              "      <td>2.31</td>\n",
              "      <td>0.0</td>\n",
              "      <td>0.538</td>\n",
              "      <td>6.575</td>\n",
              "      <td>65.2</td>\n",
              "      <td>4.0900</td>\n",
              "      <td>1.0</td>\n",
              "      <td>296.0</td>\n",
              "      <td>15.3</td>\n",
              "      <td>396.90</td>\n",
              "      <td>4.98</td>\n",
              "      <td>24.0</td>\n",
              "    </tr>\n",
              "    <tr>\n",
              "      <th>1</th>\n",
              "      <td>0.02731</td>\n",
              "      <td>0.0</td>\n",
              "      <td>7.07</td>\n",
              "      <td>0.0</td>\n",
              "      <td>0.469</td>\n",
              "      <td>6.421</td>\n",
              "      <td>78.9</td>\n",
              "      <td>4.9671</td>\n",
              "      <td>2.0</td>\n",
              "      <td>242.0</td>\n",
              "      <td>17.8</td>\n",
              "      <td>396.90</td>\n",
              "      <td>9.14</td>\n",
              "      <td>21.6</td>\n",
              "    </tr>\n",
              "    <tr>\n",
              "      <th>2</th>\n",
              "      <td>0.02729</td>\n",
              "      <td>0.0</td>\n",
              "      <td>7.07</td>\n",
              "      <td>0.0</td>\n",
              "      <td>0.469</td>\n",
              "      <td>7.185</td>\n",
              "      <td>61.1</td>\n",
              "      <td>4.9671</td>\n",
              "      <td>2.0</td>\n",
              "      <td>242.0</td>\n",
              "      <td>17.8</td>\n",
              "      <td>392.83</td>\n",
              "      <td>4.03</td>\n",
              "      <td>34.7</td>\n",
              "    </tr>\n",
              "    <tr>\n",
              "      <th>3</th>\n",
              "      <td>0.03237</td>\n",
              "      <td>0.0</td>\n",
              "      <td>2.18</td>\n",
              "      <td>0.0</td>\n",
              "      <td>0.458</td>\n",
              "      <td>6.998</td>\n",
              "      <td>45.8</td>\n",
              "      <td>6.0622</td>\n",
              "      <td>3.0</td>\n",
              "      <td>222.0</td>\n",
              "      <td>18.7</td>\n",
              "      <td>394.63</td>\n",
              "      <td>2.94</td>\n",
              "      <td>33.4</td>\n",
              "    </tr>\n",
              "    <tr>\n",
              "      <th>4</th>\n",
              "      <td>0.06905</td>\n",
              "      <td>0.0</td>\n",
              "      <td>2.18</td>\n",
              "      <td>0.0</td>\n",
              "      <td>0.458</td>\n",
              "      <td>7.147</td>\n",
              "      <td>54.2</td>\n",
              "      <td>6.0622</td>\n",
              "      <td>3.0</td>\n",
              "      <td>222.0</td>\n",
              "      <td>18.7</td>\n",
              "      <td>396.90</td>\n",
              "      <td>5.33</td>\n",
              "      <td>36.2</td>\n",
              "    </tr>\n",
              "  </tbody>\n",
              "</table>\n",
              "</div>"
            ],
            "text/plain": [
              "      CRIM    ZN  INDUS  CHAS    NOX  ...    TAX  PTRATIO       B  LSTAT  target\n",
              "0  0.00632  18.0   2.31   0.0  0.538  ...  296.0     15.3  396.90   4.98    24.0\n",
              "1  0.02731   0.0   7.07   0.0  0.469  ...  242.0     17.8  396.90   9.14    21.6\n",
              "2  0.02729   0.0   7.07   0.0  0.469  ...  242.0     17.8  392.83   4.03    34.7\n",
              "3  0.03237   0.0   2.18   0.0  0.458  ...  222.0     18.7  394.63   2.94    33.4\n",
              "4  0.06905   0.0   2.18   0.0  0.458  ...  222.0     18.7  396.90   5.33    36.2\n",
              "\n",
              "[5 rows x 14 columns]"
            ]
          },
          "metadata": {
            "tags": []
          },
          "execution_count": 226
        }
      ]
    },
    {
      "cell_type": "markdown",
      "metadata": {
        "id": "-CawPH2nb5cl",
        "colab_type": "text"
      },
      "source": [
        "## Exercícios 3 - Diabetes\n"
      ]
    },
    {
      "cell_type": "code",
      "metadata": {
        "id": "_lVjBS7QcZuT",
        "colab_type": "code",
        "outputId": "07c62d61-5b3d-4540-e291-c4dea007d39d",
        "colab": {
          "base_uri": "https://localhost:8080/",
          "height": 204
        }
      },
      "source": [
        "from sklearn.datasets import load_diabetes\n",
        "\n",
        "diabetes = load_diabetes()\n",
        "X= diabetes['data']\n",
        "y= diabetes['target']\n",
        "\n",
        "df_diabetes = pd.DataFrame(np.c_[X, y], columns= np.append(diabetes['feature_names'], ['target']))\n",
        "df_diabetes.head()"
      ],
      "execution_count": 0,
      "outputs": [
        {
          "output_type": "execute_result",
          "data": {
            "text/html": [
              "<div>\n",
              "<style scoped>\n",
              "    .dataframe tbody tr th:only-of-type {\n",
              "        vertical-align: middle;\n",
              "    }\n",
              "\n",
              "    .dataframe tbody tr th {\n",
              "        vertical-align: top;\n",
              "    }\n",
              "\n",
              "    .dataframe thead th {\n",
              "        text-align: right;\n",
              "    }\n",
              "</style>\n",
              "<table border=\"1\" class=\"dataframe\">\n",
              "  <thead>\n",
              "    <tr style=\"text-align: right;\">\n",
              "      <th></th>\n",
              "      <th>age</th>\n",
              "      <th>sex</th>\n",
              "      <th>bmi</th>\n",
              "      <th>bp</th>\n",
              "      <th>s1</th>\n",
              "      <th>s2</th>\n",
              "      <th>s3</th>\n",
              "      <th>s4</th>\n",
              "      <th>s5</th>\n",
              "      <th>s6</th>\n",
              "      <th>target</th>\n",
              "    </tr>\n",
              "  </thead>\n",
              "  <tbody>\n",
              "    <tr>\n",
              "      <th>0</th>\n",
              "      <td>0.038076</td>\n",
              "      <td>0.050680</td>\n",
              "      <td>0.061696</td>\n",
              "      <td>0.021872</td>\n",
              "      <td>-0.044223</td>\n",
              "      <td>-0.034821</td>\n",
              "      <td>-0.043401</td>\n",
              "      <td>-0.002592</td>\n",
              "      <td>0.019908</td>\n",
              "      <td>-0.017646</td>\n",
              "      <td>151.0</td>\n",
              "    </tr>\n",
              "    <tr>\n",
              "      <th>1</th>\n",
              "      <td>-0.001882</td>\n",
              "      <td>-0.044642</td>\n",
              "      <td>-0.051474</td>\n",
              "      <td>-0.026328</td>\n",
              "      <td>-0.008449</td>\n",
              "      <td>-0.019163</td>\n",
              "      <td>0.074412</td>\n",
              "      <td>-0.039493</td>\n",
              "      <td>-0.068330</td>\n",
              "      <td>-0.092204</td>\n",
              "      <td>75.0</td>\n",
              "    </tr>\n",
              "    <tr>\n",
              "      <th>2</th>\n",
              "      <td>0.085299</td>\n",
              "      <td>0.050680</td>\n",
              "      <td>0.044451</td>\n",
              "      <td>-0.005671</td>\n",
              "      <td>-0.045599</td>\n",
              "      <td>-0.034194</td>\n",
              "      <td>-0.032356</td>\n",
              "      <td>-0.002592</td>\n",
              "      <td>0.002864</td>\n",
              "      <td>-0.025930</td>\n",
              "      <td>141.0</td>\n",
              "    </tr>\n",
              "    <tr>\n",
              "      <th>3</th>\n",
              "      <td>-0.089063</td>\n",
              "      <td>-0.044642</td>\n",
              "      <td>-0.011595</td>\n",
              "      <td>-0.036656</td>\n",
              "      <td>0.012191</td>\n",
              "      <td>0.024991</td>\n",
              "      <td>-0.036038</td>\n",
              "      <td>0.034309</td>\n",
              "      <td>0.022692</td>\n",
              "      <td>-0.009362</td>\n",
              "      <td>206.0</td>\n",
              "    </tr>\n",
              "    <tr>\n",
              "      <th>4</th>\n",
              "      <td>0.005383</td>\n",
              "      <td>-0.044642</td>\n",
              "      <td>-0.036385</td>\n",
              "      <td>0.021872</td>\n",
              "      <td>0.003935</td>\n",
              "      <td>0.015596</td>\n",
              "      <td>0.008142</td>\n",
              "      <td>-0.002592</td>\n",
              "      <td>-0.031991</td>\n",
              "      <td>-0.046641</td>\n",
              "      <td>135.0</td>\n",
              "    </tr>\n",
              "  </tbody>\n",
              "</table>\n",
              "</div>"
            ],
            "text/plain": [
              "        age       sex       bmi        bp  ...        s4        s5        s6  target\n",
              "0  0.038076  0.050680  0.061696  0.021872  ... -0.002592  0.019908 -0.017646   151.0\n",
              "1 -0.001882 -0.044642 -0.051474 -0.026328  ... -0.039493 -0.068330 -0.092204    75.0\n",
              "2  0.085299  0.050680  0.044451 -0.005671  ... -0.002592  0.002864 -0.025930   141.0\n",
              "3 -0.089063 -0.044642 -0.011595 -0.036656  ...  0.034309  0.022692 -0.009362   206.0\n",
              "4  0.005383 -0.044642 -0.036385  0.021872  ... -0.002592 -0.031991 -0.046641   135.0\n",
              "\n",
              "[5 rows x 11 columns]"
            ]
          },
          "metadata": {
            "tags": []
          },
          "execution_count": 227
        }
      ]
    },
    {
      "cell_type": "markdown",
      "metadata": {
        "id": "qP1vjDdylyHr",
        "colab_type": "text"
      },
      "source": [
        "### Exercícios 4"
      ]
    },
    {
      "cell_type": "code",
      "metadata": {
        "id": "fqLHDXbOl0Sf",
        "colab_type": "code",
        "outputId": "e2821ca8-0a90-460e-807c-bd552eb49f4f",
        "colab": {
          "base_uri": "https://localhost:8080/",
          "height": 89
        }
      },
      "source": [
        "url= 'https://raw.githubusercontent.com/MathMachado/Python_RFB/DS_Python/Dataframes/Crime.txt?token=AGDJQ665WUIWIEKDPK6WO625P3QUQ'\n",
        "df_Crime = pd.read_table(url, sep=',', na_values='?')\n",
        "df_Crime.shape"
      ],
      "execution_count": 0,
      "outputs": [
        {
          "output_type": "stream",
          "text": [
            "/usr/local/lib/python3.6/dist-packages/ipykernel_launcher.py:2: FutureWarning: read_table is deprecated, use read_csv instead.\n",
            "  \n"
          ],
          "name": "stderr"
        },
        {
          "output_type": "execute_result",
          "data": {
            "text/plain": [
              "(2215, 147)"
            ]
          },
          "metadata": {
            "tags": []
          },
          "execution_count": 5
        }
      ]
    },
    {
      "cell_type": "code",
      "metadata": {
        "id": "fxhTXj6Ll7wB",
        "colab_type": "code",
        "outputId": "e023806c-a074-494b-c67a-aed6783ebc34",
        "colab": {
          "base_uri": "https://localhost:8080/",
          "height": 251
        }
      },
      "source": [
        "df_Crime.head()"
      ],
      "execution_count": 0,
      "outputs": [
        {
          "output_type": "execute_result",
          "data": {
            "text/html": [
              "<div>\n",
              "<style scoped>\n",
              "    .dataframe tbody tr th:only-of-type {\n",
              "        vertical-align: middle;\n",
              "    }\n",
              "\n",
              "    .dataframe tbody tr th {\n",
              "        vertical-align: top;\n",
              "    }\n",
              "\n",
              "    .dataframe thead th {\n",
              "        text-align: right;\n",
              "    }\n",
              "</style>\n",
              "<table border=\"1\" class=\"dataframe\">\n",
              "  <thead>\n",
              "    <tr style=\"text-align: right;\">\n",
              "      <th></th>\n",
              "      <th>communityname</th>\n",
              "      <th>state</th>\n",
              "      <th>countyCode</th>\n",
              "      <th>communityCode</th>\n",
              "      <th>fold</th>\n",
              "      <th>population</th>\n",
              "      <th>householdsize</th>\n",
              "      <th>racepctblack</th>\n",
              "      <th>racePctWhite</th>\n",
              "      <th>racePctAsian</th>\n",
              "      <th>racePctHisp</th>\n",
              "      <th>agePct12t21</th>\n",
              "      <th>agePct12t29</th>\n",
              "      <th>agePct16t24</th>\n",
              "      <th>agePct65up</th>\n",
              "      <th>numbUrban</th>\n",
              "      <th>pctUrban</th>\n",
              "      <th>medIncome</th>\n",
              "      <th>pctWWage</th>\n",
              "      <th>pctWFarmSelf</th>\n",
              "      <th>pctWInvInc</th>\n",
              "      <th>pctWSocSec</th>\n",
              "      <th>pctWPubAsst</th>\n",
              "      <th>pctWRetire</th>\n",
              "      <th>medFamInc</th>\n",
              "      <th>perCapInc</th>\n",
              "      <th>whitePerCap</th>\n",
              "      <th>blackPerCap</th>\n",
              "      <th>indianPerCap</th>\n",
              "      <th>AsianPerCap</th>\n",
              "      <th>OtherPerCap</th>\n",
              "      <th>HispPerCap</th>\n",
              "      <th>NumUnderPov</th>\n",
              "      <th>PctPopUnderPov</th>\n",
              "      <th>PctLess9thGrade</th>\n",
              "      <th>PctNotHSGrad</th>\n",
              "      <th>PctBSorMore</th>\n",
              "      <th>PctUnemployed</th>\n",
              "      <th>PctEmploy</th>\n",
              "      <th>PctEmplManu</th>\n",
              "      <th>...</th>\n",
              "      <th>LemasTotalReq</th>\n",
              "      <th>LemasTotReqPerPop</th>\n",
              "      <th>PolicReqPerOffic</th>\n",
              "      <th>PolicPerPop</th>\n",
              "      <th>RacialMatchCommPol</th>\n",
              "      <th>PctPolicWhite</th>\n",
              "      <th>PctPolicBlack</th>\n",
              "      <th>PctPolicHisp</th>\n",
              "      <th>PctPolicAsian</th>\n",
              "      <th>PctPolicMinor</th>\n",
              "      <th>OfficAssgnDrugUnits</th>\n",
              "      <th>NumKindsDrugsSeiz</th>\n",
              "      <th>PolicAveOTWorked</th>\n",
              "      <th>LandArea</th>\n",
              "      <th>PopDens</th>\n",
              "      <th>PctUsePubTrans</th>\n",
              "      <th>PolicCars</th>\n",
              "      <th>PolicOperBudg</th>\n",
              "      <th>LemasPctPolicOnPatr</th>\n",
              "      <th>LemasGangUnitDeploy</th>\n",
              "      <th>LemasPctOfficDrugUn</th>\n",
              "      <th>PolicBudgPerPop</th>\n",
              "      <th>murders</th>\n",
              "      <th>murdPerPop</th>\n",
              "      <th>rapes</th>\n",
              "      <th>rapesPerPop</th>\n",
              "      <th>robberies</th>\n",
              "      <th>robbbPerPop</th>\n",
              "      <th>assaults</th>\n",
              "      <th>assaultPerPop</th>\n",
              "      <th>burglaries</th>\n",
              "      <th>burglPerPop</th>\n",
              "      <th>larcenies</th>\n",
              "      <th>larcPerPop</th>\n",
              "      <th>autoTheft</th>\n",
              "      <th>autoTheftPerPop</th>\n",
              "      <th>arsons</th>\n",
              "      <th>arsonsPerPop</th>\n",
              "      <th>ViolentCrimesPerPop</th>\n",
              "      <th>nonViolPerPop</th>\n",
              "    </tr>\n",
              "  </thead>\n",
              "  <tbody>\n",
              "    <tr>\n",
              "      <th>0</th>\n",
              "      <td>BerkeleyHeightstownship</td>\n",
              "      <td>NJ</td>\n",
              "      <td>39.0</td>\n",
              "      <td>5320.0</td>\n",
              "      <td>1</td>\n",
              "      <td>11980</td>\n",
              "      <td>3.10</td>\n",
              "      <td>1.37</td>\n",
              "      <td>91.78</td>\n",
              "      <td>6.50</td>\n",
              "      <td>1.88</td>\n",
              "      <td>12.47</td>\n",
              "      <td>21.44</td>\n",
              "      <td>10.93</td>\n",
              "      <td>11.33</td>\n",
              "      <td>11980</td>\n",
              "      <td>100.0</td>\n",
              "      <td>75122</td>\n",
              "      <td>89.24</td>\n",
              "      <td>1.55</td>\n",
              "      <td>70.20</td>\n",
              "      <td>23.62</td>\n",
              "      <td>1.03</td>\n",
              "      <td>18.39</td>\n",
              "      <td>79584</td>\n",
              "      <td>29711</td>\n",
              "      <td>30233</td>\n",
              "      <td>13600</td>\n",
              "      <td>5725</td>\n",
              "      <td>27101</td>\n",
              "      <td>5115.0</td>\n",
              "      <td>22838</td>\n",
              "      <td>227</td>\n",
              "      <td>1.96</td>\n",
              "      <td>5.81</td>\n",
              "      <td>9.90</td>\n",
              "      <td>48.18</td>\n",
              "      <td>2.70</td>\n",
              "      <td>64.55</td>\n",
              "      <td>14.65</td>\n",
              "      <td>...</td>\n",
              "      <td>NaN</td>\n",
              "      <td>NaN</td>\n",
              "      <td>NaN</td>\n",
              "      <td>NaN</td>\n",
              "      <td>NaN</td>\n",
              "      <td>NaN</td>\n",
              "      <td>NaN</td>\n",
              "      <td>NaN</td>\n",
              "      <td>NaN</td>\n",
              "      <td>NaN</td>\n",
              "      <td>NaN</td>\n",
              "      <td>NaN</td>\n",
              "      <td>NaN</td>\n",
              "      <td>6.5</td>\n",
              "      <td>1845.9</td>\n",
              "      <td>9.63</td>\n",
              "      <td>NaN</td>\n",
              "      <td>NaN</td>\n",
              "      <td>NaN</td>\n",
              "      <td>NaN</td>\n",
              "      <td>0.0</td>\n",
              "      <td>NaN</td>\n",
              "      <td>0</td>\n",
              "      <td>0.0</td>\n",
              "      <td>0.0</td>\n",
              "      <td>0.00</td>\n",
              "      <td>1.0</td>\n",
              "      <td>8.20</td>\n",
              "      <td>4.0</td>\n",
              "      <td>32.81</td>\n",
              "      <td>14.0</td>\n",
              "      <td>114.85</td>\n",
              "      <td>138.0</td>\n",
              "      <td>1132.08</td>\n",
              "      <td>16.0</td>\n",
              "      <td>131.26</td>\n",
              "      <td>2.0</td>\n",
              "      <td>16.41</td>\n",
              "      <td>41.02</td>\n",
              "      <td>1394.59</td>\n",
              "    </tr>\n",
              "    <tr>\n",
              "      <th>1</th>\n",
              "      <td>Marpletownship</td>\n",
              "      <td>PA</td>\n",
              "      <td>45.0</td>\n",
              "      <td>47616.0</td>\n",
              "      <td>1</td>\n",
              "      <td>23123</td>\n",
              "      <td>2.82</td>\n",
              "      <td>0.80</td>\n",
              "      <td>95.57</td>\n",
              "      <td>3.44</td>\n",
              "      <td>0.85</td>\n",
              "      <td>11.01</td>\n",
              "      <td>21.30</td>\n",
              "      <td>10.48</td>\n",
              "      <td>17.18</td>\n",
              "      <td>23123</td>\n",
              "      <td>100.0</td>\n",
              "      <td>47917</td>\n",
              "      <td>78.99</td>\n",
              "      <td>1.11</td>\n",
              "      <td>64.11</td>\n",
              "      <td>35.50</td>\n",
              "      <td>2.75</td>\n",
              "      <td>22.85</td>\n",
              "      <td>55323</td>\n",
              "      <td>20148</td>\n",
              "      <td>20191</td>\n",
              "      <td>18137</td>\n",
              "      <td>0</td>\n",
              "      <td>20074</td>\n",
              "      <td>5250.0</td>\n",
              "      <td>12222</td>\n",
              "      <td>885</td>\n",
              "      <td>3.98</td>\n",
              "      <td>5.61</td>\n",
              "      <td>13.72</td>\n",
              "      <td>29.89</td>\n",
              "      <td>2.43</td>\n",
              "      <td>61.96</td>\n",
              "      <td>12.26</td>\n",
              "      <td>...</td>\n",
              "      <td>NaN</td>\n",
              "      <td>NaN</td>\n",
              "      <td>NaN</td>\n",
              "      <td>NaN</td>\n",
              "      <td>NaN</td>\n",
              "      <td>NaN</td>\n",
              "      <td>NaN</td>\n",
              "      <td>NaN</td>\n",
              "      <td>NaN</td>\n",
              "      <td>NaN</td>\n",
              "      <td>NaN</td>\n",
              "      <td>NaN</td>\n",
              "      <td>NaN</td>\n",
              "      <td>10.6</td>\n",
              "      <td>2186.7</td>\n",
              "      <td>3.84</td>\n",
              "      <td>NaN</td>\n",
              "      <td>NaN</td>\n",
              "      <td>NaN</td>\n",
              "      <td>NaN</td>\n",
              "      <td>0.0</td>\n",
              "      <td>NaN</td>\n",
              "      <td>0</td>\n",
              "      <td>0.0</td>\n",
              "      <td>1.0</td>\n",
              "      <td>4.25</td>\n",
              "      <td>5.0</td>\n",
              "      <td>21.26</td>\n",
              "      <td>24.0</td>\n",
              "      <td>102.05</td>\n",
              "      <td>57.0</td>\n",
              "      <td>242.37</td>\n",
              "      <td>376.0</td>\n",
              "      <td>1598.78</td>\n",
              "      <td>26.0</td>\n",
              "      <td>110.55</td>\n",
              "      <td>1.0</td>\n",
              "      <td>4.25</td>\n",
              "      <td>127.56</td>\n",
              "      <td>1955.95</td>\n",
              "    </tr>\n",
              "    <tr>\n",
              "      <th>2</th>\n",
              "      <td>Tigardcity</td>\n",
              "      <td>OR</td>\n",
              "      <td>NaN</td>\n",
              "      <td>NaN</td>\n",
              "      <td>1</td>\n",
              "      <td>29344</td>\n",
              "      <td>2.43</td>\n",
              "      <td>0.74</td>\n",
              "      <td>94.33</td>\n",
              "      <td>3.43</td>\n",
              "      <td>2.35</td>\n",
              "      <td>11.36</td>\n",
              "      <td>25.88</td>\n",
              "      <td>11.01</td>\n",
              "      <td>10.28</td>\n",
              "      <td>29344</td>\n",
              "      <td>100.0</td>\n",
              "      <td>35669</td>\n",
              "      <td>82.00</td>\n",
              "      <td>1.15</td>\n",
              "      <td>55.73</td>\n",
              "      <td>22.25</td>\n",
              "      <td>2.94</td>\n",
              "      <td>14.56</td>\n",
              "      <td>42112</td>\n",
              "      <td>16946</td>\n",
              "      <td>17103</td>\n",
              "      <td>16644</td>\n",
              "      <td>21606</td>\n",
              "      <td>15528</td>\n",
              "      <td>5954.0</td>\n",
              "      <td>8405</td>\n",
              "      <td>1389</td>\n",
              "      <td>4.75</td>\n",
              "      <td>2.80</td>\n",
              "      <td>9.09</td>\n",
              "      <td>30.13</td>\n",
              "      <td>4.01</td>\n",
              "      <td>69.80</td>\n",
              "      <td>15.95</td>\n",
              "      <td>...</td>\n",
              "      <td>NaN</td>\n",
              "      <td>NaN</td>\n",
              "      <td>NaN</td>\n",
              "      <td>NaN</td>\n",
              "      <td>NaN</td>\n",
              "      <td>NaN</td>\n",
              "      <td>NaN</td>\n",
              "      <td>NaN</td>\n",
              "      <td>NaN</td>\n",
              "      <td>NaN</td>\n",
              "      <td>NaN</td>\n",
              "      <td>NaN</td>\n",
              "      <td>NaN</td>\n",
              "      <td>10.6</td>\n",
              "      <td>2780.9</td>\n",
              "      <td>4.37</td>\n",
              "      <td>NaN</td>\n",
              "      <td>NaN</td>\n",
              "      <td>NaN</td>\n",
              "      <td>NaN</td>\n",
              "      <td>0.0</td>\n",
              "      <td>NaN</td>\n",
              "      <td>3</td>\n",
              "      <td>8.3</td>\n",
              "      <td>6.0</td>\n",
              "      <td>16.60</td>\n",
              "      <td>56.0</td>\n",
              "      <td>154.95</td>\n",
              "      <td>14.0</td>\n",
              "      <td>38.74</td>\n",
              "      <td>274.0</td>\n",
              "      <td>758.14</td>\n",
              "      <td>1797.0</td>\n",
              "      <td>4972.19</td>\n",
              "      <td>136.0</td>\n",
              "      <td>376.30</td>\n",
              "      <td>22.0</td>\n",
              "      <td>60.87</td>\n",
              "      <td>218.59</td>\n",
              "      <td>6167.51</td>\n",
              "    </tr>\n",
              "    <tr>\n",
              "      <th>3</th>\n",
              "      <td>Gloversvillecity</td>\n",
              "      <td>NY</td>\n",
              "      <td>35.0</td>\n",
              "      <td>29443.0</td>\n",
              "      <td>1</td>\n",
              "      <td>16656</td>\n",
              "      <td>2.40</td>\n",
              "      <td>1.70</td>\n",
              "      <td>97.35</td>\n",
              "      <td>0.50</td>\n",
              "      <td>0.70</td>\n",
              "      <td>12.55</td>\n",
              "      <td>25.20</td>\n",
              "      <td>12.19</td>\n",
              "      <td>17.57</td>\n",
              "      <td>0</td>\n",
              "      <td>0.0</td>\n",
              "      <td>20580</td>\n",
              "      <td>68.15</td>\n",
              "      <td>0.24</td>\n",
              "      <td>38.95</td>\n",
              "      <td>39.48</td>\n",
              "      <td>11.71</td>\n",
              "      <td>18.33</td>\n",
              "      <td>26501</td>\n",
              "      <td>10810</td>\n",
              "      <td>10909</td>\n",
              "      <td>9984</td>\n",
              "      <td>4941</td>\n",
              "      <td>3541</td>\n",
              "      <td>2451.0</td>\n",
              "      <td>4391</td>\n",
              "      <td>2831</td>\n",
              "      <td>17.23</td>\n",
              "      <td>11.05</td>\n",
              "      <td>33.68</td>\n",
              "      <td>10.81</td>\n",
              "      <td>9.86</td>\n",
              "      <td>54.74</td>\n",
              "      <td>31.22</td>\n",
              "      <td>...</td>\n",
              "      <td>NaN</td>\n",
              "      <td>NaN</td>\n",
              "      <td>NaN</td>\n",
              "      <td>NaN</td>\n",
              "      <td>NaN</td>\n",
              "      <td>NaN</td>\n",
              "      <td>NaN</td>\n",
              "      <td>NaN</td>\n",
              "      <td>NaN</td>\n",
              "      <td>NaN</td>\n",
              "      <td>NaN</td>\n",
              "      <td>NaN</td>\n",
              "      <td>NaN</td>\n",
              "      <td>5.2</td>\n",
              "      <td>3217.7</td>\n",
              "      <td>3.31</td>\n",
              "      <td>NaN</td>\n",
              "      <td>NaN</td>\n",
              "      <td>NaN</td>\n",
              "      <td>NaN</td>\n",
              "      <td>0.0</td>\n",
              "      <td>NaN</td>\n",
              "      <td>0</td>\n",
              "      <td>0.0</td>\n",
              "      <td>10.0</td>\n",
              "      <td>57.86</td>\n",
              "      <td>10.0</td>\n",
              "      <td>57.86</td>\n",
              "      <td>33.0</td>\n",
              "      <td>190.93</td>\n",
              "      <td>225.0</td>\n",
              "      <td>1301.78</td>\n",
              "      <td>716.0</td>\n",
              "      <td>4142.56</td>\n",
              "      <td>47.0</td>\n",
              "      <td>271.93</td>\n",
              "      <td>NaN</td>\n",
              "      <td>NaN</td>\n",
              "      <td>306.64</td>\n",
              "      <td>NaN</td>\n",
              "    </tr>\n",
              "    <tr>\n",
              "      <th>4</th>\n",
              "      <td>Bemidjicity</td>\n",
              "      <td>MN</td>\n",
              "      <td>7.0</td>\n",
              "      <td>5068.0</td>\n",
              "      <td>1</td>\n",
              "      <td>11245</td>\n",
              "      <td>2.76</td>\n",
              "      <td>0.53</td>\n",
              "      <td>89.16</td>\n",
              "      <td>1.17</td>\n",
              "      <td>0.52</td>\n",
              "      <td>24.46</td>\n",
              "      <td>40.53</td>\n",
              "      <td>28.69</td>\n",
              "      <td>12.65</td>\n",
              "      <td>0</td>\n",
              "      <td>0.0</td>\n",
              "      <td>17390</td>\n",
              "      <td>69.33</td>\n",
              "      <td>0.55</td>\n",
              "      <td>42.82</td>\n",
              "      <td>32.16</td>\n",
              "      <td>11.21</td>\n",
              "      <td>14.43</td>\n",
              "      <td>24018</td>\n",
              "      <td>8483</td>\n",
              "      <td>9009</td>\n",
              "      <td>887</td>\n",
              "      <td>4425</td>\n",
              "      <td>3352</td>\n",
              "      <td>3000.0</td>\n",
              "      <td>1328</td>\n",
              "      <td>2855</td>\n",
              "      <td>29.99</td>\n",
              "      <td>12.15</td>\n",
              "      <td>23.06</td>\n",
              "      <td>25.28</td>\n",
              "      <td>9.08</td>\n",
              "      <td>52.44</td>\n",
              "      <td>6.89</td>\n",
              "      <td>...</td>\n",
              "      <td>NaN</td>\n",
              "      <td>NaN</td>\n",
              "      <td>NaN</td>\n",
              "      <td>NaN</td>\n",
              "      <td>NaN</td>\n",
              "      <td>NaN</td>\n",
              "      <td>NaN</td>\n",
              "      <td>NaN</td>\n",
              "      <td>NaN</td>\n",
              "      <td>NaN</td>\n",
              "      <td>NaN</td>\n",
              "      <td>NaN</td>\n",
              "      <td>NaN</td>\n",
              "      <td>11.5</td>\n",
              "      <td>974.2</td>\n",
              "      <td>0.38</td>\n",
              "      <td>NaN</td>\n",
              "      <td>NaN</td>\n",
              "      <td>NaN</td>\n",
              "      <td>NaN</td>\n",
              "      <td>0.0</td>\n",
              "      <td>NaN</td>\n",
              "      <td>0</td>\n",
              "      <td>0.0</td>\n",
              "      <td>NaN</td>\n",
              "      <td>NaN</td>\n",
              "      <td>4.0</td>\n",
              "      <td>32.04</td>\n",
              "      <td>14.0</td>\n",
              "      <td>112.14</td>\n",
              "      <td>91.0</td>\n",
              "      <td>728.93</td>\n",
              "      <td>1060.0</td>\n",
              "      <td>8490.87</td>\n",
              "      <td>91.0</td>\n",
              "      <td>728.93</td>\n",
              "      <td>5.0</td>\n",
              "      <td>40.05</td>\n",
              "      <td>NaN</td>\n",
              "      <td>9988.79</td>\n",
              "    </tr>\n",
              "  </tbody>\n",
              "</table>\n",
              "<p>5 rows × 147 columns</p>\n",
              "</div>"
            ],
            "text/plain": [
              "             communityname state  ...  ViolentCrimesPerPop  nonViolPerPop\n",
              "0  BerkeleyHeightstownship    NJ  ...                41.02        1394.59\n",
              "1           Marpletownship    PA  ...               127.56        1955.95\n",
              "2               Tigardcity    OR  ...               218.59        6167.51\n",
              "3         Gloversvillecity    NY  ...               306.64            NaN\n",
              "4              Bemidjicity    MN  ...                  NaN        9988.79\n",
              "\n",
              "[5 rows x 147 columns]"
            ]
          },
          "metadata": {
            "tags": []
          },
          "execution_count": 6
        }
      ]
    },
    {
      "cell_type": "code",
      "metadata": {
        "id": "g4LfLTzFmT5H",
        "colab_type": "code",
        "colab": {}
      },
      "source": [
        ""
      ],
      "execution_count": 0,
      "outputs": []
    }
  ]
}