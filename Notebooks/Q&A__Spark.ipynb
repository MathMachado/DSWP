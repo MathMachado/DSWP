{
  "nbformat": 4,
  "nbformat_minor": 0,
  "metadata": {
    "colab": {
      "name": "Untitled5.ipynb",
      "provenance": [],
      "private_outputs": true,
      "authorship_tag": "ABX9TyM98vxbqo5dw5DcVo7gvDms",
      "include_colab_link": true
    },
    "kernelspec": {
      "name": "python3",
      "display_name": "Python 3"
    }
  },
  "cells": [
    {
      "cell_type": "markdown",
      "metadata": {
        "id": "view-in-github",
        "colab_type": "text"
      },
      "source": [
        "<a href=\"https://colab.research.google.com/github/MathMachado/DSWP/blob/master/Notebooks/Q%26A__Spark.ipynb\" target=\"_parent\"><img src=\"https://colab.research.google.com/assets/colab-badge.svg\" alt=\"Open In Colab\"/></a>"
      ]
    },
    {
      "cell_type": "markdown",
      "metadata": {
        "id": "N_qKZs116kYO",
        "colab_type": "text"
      },
      "source": [
        "# REPOSITÓRIO DE PERGUNTAS E RESPOSTAS - SPARK"
      ]
    },
    {
      "cell_type": "markdown",
      "metadata": {
        "id": "IMPtsvIj7AU4",
        "colab_type": "text"
      },
      "source": [
        "# **PROBLEMA**:\n",
        "* Carreguei um dataframe usando SparkSQL e os missing values aparecem pra mim como \"?\"."
      ]
    },
    {
      "cell_type": "markdown",
      "metadata": {
        "id": "WVlcSDpp7bt7",
        "colab_type": "text"
      },
      "source": [
        "## **O QUE EU JÁ TENTEI**"
      ]
    },
    {
      "cell_type": "code",
      "metadata": {
        "id": "q1lD6MOC6izO",
        "colab_type": "code",
        "colab": {}
      },
      "source": [
        "df.filter(col(\"coluna\") == \"?\")\n",
        "df.na.drop()\n",
        "df.filter(col(\"coluna\").isNull)"
      ],
      "execution_count": null,
      "outputs": []
    },
    {
      "cell_type": "markdown",
      "metadata": {
        "id": "-b1oIqNM7jXo",
        "colab_type": "text"
      },
      "source": [
        "## **SOLUÇÃO1**: Usando PySpark"
      ]
    },
    {
      "cell_type": "code",
      "metadata": {
        "id": "vUDRYh0C7ouX",
        "colab_type": "code",
        "colab": {}
      },
      "source": [
        "%python\n",
        "df = (spark.read\n",
        "      .csv(\"/databricks-datasets/adult/dados.data\", \n",
        "           header = False, \n",
        "           nullValue = '?', \n",
        "           ignoreLeadingWhiteSpace = True,\n",
        "           ignoreTrailingWhiteSpace = True, \n",
        "           inferSchema = True)\n",
        "     )"
      ],
      "execution_count": null,
      "outputs": []
    },
    {
      "cell_type": "markdown",
      "metadata": {
        "id": "i7DFapp_78vS",
        "colab_type": "text"
      },
      "source": [
        "## **SOLUÇÃO2**: Usando Spark SQL"
      ]
    },
    {
      "cell_type": "code",
      "metadata": {
        "id": "OTmKGuqk73XQ",
        "colab_type": "code",
        "colab": {}
      },
      "source": [
        "%sql\n",
        "CREATE TABLE Tabela\n",
        "(\n",
        "\tColuna1 Tipo1,\n",
        "\tColuna2 Tipo2,\n",
        "\tColuna3 Tipo3,\n",
        "\t...,\n",
        "\tColunaN TipoN\t\n",
        ")\n",
        "USING CSV\n",
        "OPTIONS (path \"/databricks-datasets/adult/dados.data\",\n",
        "header \"true\",\n",
        "nullValue= \"?\",\n",
        "ignoreLeadingWhiteSpace = True,\n",
        "ignoreTrailingWhiteSpace = True,\n",
        "inferSchema = True)"
      ],
      "execution_count": null,
      "outputs": []
    }
  ]
}