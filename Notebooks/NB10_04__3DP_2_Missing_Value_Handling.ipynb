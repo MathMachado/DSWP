{
  "nbformat": 4,
  "nbformat_minor": 0,
  "metadata": {
    "colab": {
      "name": "NB10_04__3DP_2_Missing_Value_Handling.ipynb",
      "provenance": [],
      "collapsed_sections": [],
      "include_colab_link": true
    },
    "kernelspec": {
      "display_name": "Python 3",
      "language": "python",
      "name": "python3"
    }
  },
  "cells": [
    {
      "cell_type": "markdown",
      "metadata": {
        "id": "view-in-github",
        "colab_type": "text"
      },
      "source": [
        "<a href=\"https://colab.research.google.com/github/MathMachado/DSWP/blob/master/Notebooks/NB10_04__3DP_2_Missing_Value_Handling.ipynb\" target=\"_parent\"><img src=\"https://colab.research.google.com/assets/colab-badge.svg\" alt=\"Open In Colab\"/></a>"
      ]
    },
    {
      "cell_type": "markdown",
      "metadata": {
        "id": "rGVp396DAlIW"
      },
      "source": [
        "<center><h1><b><i>3DP_2 - MISSING VALUES HANDLING</i></b></h1></center>\n"
      ]
    },
    {
      "cell_type": "markdown",
      "metadata": {
        "id": "Ii1Mci_PxQdJ"
      },
      "source": [
        "# **AGENDA**:\n",
        "\n",
        "> Consulte **Table of contents**.\n"
      ]
    },
    {
      "cell_type": "markdown",
      "metadata": {
        "id": "slSYEvDtArHO"
      },
      "source": [
        "___\n",
        "# **REFERÊNCIAS**\n",
        "* [Working with missing data](https://pandas.pydata.org/pandas-docs/stable/user_guide/missing_data.html)\n",
        "* [Handling Missing Data for a Beginner](https://towardsdatascience.com/handling-missing-data-for-a-beginner-6d6f5ea53436)"
      ]
    },
    {
      "cell_type": "markdown",
      "metadata": {
        "id": "UGJtCSbTwraG"
      },
      "source": [
        "___\n",
        "# **3DP_MISSING VALUES HANDLING**\n",
        "\n",
        "> Lidar com Missing Values é um dos piores pesadelos de um Cientista de dados. Especialmente, se o número de MV for grande o suficiente (geralmente acima de 5%). Nesse caso, os valores não podem ser descartados e um Cientista de Dados inteligente deve \"imputar\" os valores ausentes.\n",
        "\n",
        "* Nesta sessão, vamos identificar, analisar e tratar Missing Values (MV).\n",
        "* Como MV são gerados?\n",
        "    * Usuário se esqueceu de preencher ou preencheu errado o campo;\n",
        "    * Os dados foram perdidos durante a transferência manual de um banco de dados legado;\n",
        "    * Erro de programação;\n",
        "    * Os usuários optaram por não preencher um campo vinculado a suas crenças sobre como os resultados seriam usados ou interpretados.\n",
        "* As funções df.isnull() e df.isna() são apropriadas para nos indicar quantas observações são MV no dataframe.\n",
        "\n",
        "* Na prática:\n",
        "    * Variáveis Contínuas/Numéricas - Podemos substituir os NaN por Média/Mediana/Moda;\n",
        "\t* Variáveis Categóricas - Uma alternativa é atribuir uma categoria inexistente como, por exemplo \"MV\" para indicar o NaN.\n"
      ]
    },
    {
      "cell_type": "markdown",
      "metadata": {
        "id": "4mFlY2iIHDaV"
      },
      "source": [
        "___\n",
        "# **MACHINE LEARNING COM PYTHON (Scikit-Learn)**\n",
        "\n",
        "![Scikit-Learn](https://github.com/MathMachado/Materials/blob/master/scikit-learn-1.png?raw=true)"
      ]
    },
    {
      "cell_type": "markdown",
      "metadata": {
        "id": "CA-GboEcP4zY"
      },
      "source": [
        "## Carregar as biliotecas"
      ]
    },
    {
      "cell_type": "code",
      "metadata": {
        "id": "x0fq_2HoP7OE"
      },
      "source": [
        "import pandas as pd\n",
        "from pandas import Series, DataFrame\n",
        "\n",
        "import numpy as np\n",
        "from sklearn import preprocessing\n",
        "import matplotlib\n",
        "import matplotlib.pyplot as plt\n",
        "import seaborn as sns\n",
        "%matplotlib inline\n",
        "matplotlib.style.use('ggplot')\n",
        "\n",
        "# remove warnings to keep notebook clean\n",
        "import warnings\n",
        "warnings.filterwarnings('ignore')"
      ],
      "execution_count": null,
      "outputs": []
    },
    {
      "cell_type": "markdown",
      "metadata": {
        "id": "P4_7D_4NA7KJ"
      },
      "source": [
        "## Dataframes\n",
        "* O dataframe abaixo foi gerado aleatoriamente para entendermos como lidar com os NaN's."
      ]
    },
    {
      "cell_type": "code",
      "metadata": {
        "id": "CwyndikLOld0",
        "outputId": "c8a71b76-e743-42ef-c482-be2e4872123e",
        "colab": {
          "base_uri": "https://localhost:8080/",
          "height": 355
        }
      },
      "source": [
        "df= pd.DataFrame({\n",
        "    'idade': [32,38,np.nan,37,np.nan,36,38,32,0,np.nan],\n",
        "    'salario': ['High', 'High', 'High', 'Low', 'Low', 'High', np.nan, 'Medium', 'Medium', 'High'],\n",
        "    'pais': ['Spain', 'France', 'France', np.nan, 'Germany', 'France', 'Spain', 'France', np.nan, 'Spain']})\n",
        "\n",
        "df"
      ],
      "execution_count": null,
      "outputs": [
        {
          "output_type": "execute_result",
          "data": {
            "text/html": [
              "<div>\n",
              "<style scoped>\n",
              "    .dataframe tbody tr th:only-of-type {\n",
              "        vertical-align: middle;\n",
              "    }\n",
              "\n",
              "    .dataframe tbody tr th {\n",
              "        vertical-align: top;\n",
              "    }\n",
              "\n",
              "    .dataframe thead th {\n",
              "        text-align: right;\n",
              "    }\n",
              "</style>\n",
              "<table border=\"1\" class=\"dataframe\">\n",
              "  <thead>\n",
              "    <tr style=\"text-align: right;\">\n",
              "      <th></th>\n",
              "      <th>idade</th>\n",
              "      <th>salario</th>\n",
              "      <th>pais</th>\n",
              "    </tr>\n",
              "  </thead>\n",
              "  <tbody>\n",
              "    <tr>\n",
              "      <th>0</th>\n",
              "      <td>32.0</td>\n",
              "      <td>High</td>\n",
              "      <td>Spain</td>\n",
              "    </tr>\n",
              "    <tr>\n",
              "      <th>1</th>\n",
              "      <td>38.0</td>\n",
              "      <td>High</td>\n",
              "      <td>France</td>\n",
              "    </tr>\n",
              "    <tr>\n",
              "      <th>2</th>\n",
              "      <td>NaN</td>\n",
              "      <td>High</td>\n",
              "      <td>France</td>\n",
              "    </tr>\n",
              "    <tr>\n",
              "      <th>3</th>\n",
              "      <td>37.0</td>\n",
              "      <td>Low</td>\n",
              "      <td>NaN</td>\n",
              "    </tr>\n",
              "    <tr>\n",
              "      <th>4</th>\n",
              "      <td>NaN</td>\n",
              "      <td>Low</td>\n",
              "      <td>Germany</td>\n",
              "    </tr>\n",
              "    <tr>\n",
              "      <th>5</th>\n",
              "      <td>36.0</td>\n",
              "      <td>High</td>\n",
              "      <td>France</td>\n",
              "    </tr>\n",
              "    <tr>\n",
              "      <th>6</th>\n",
              "      <td>38.0</td>\n",
              "      <td>NaN</td>\n",
              "      <td>Spain</td>\n",
              "    </tr>\n",
              "    <tr>\n",
              "      <th>7</th>\n",
              "      <td>32.0</td>\n",
              "      <td>Medium</td>\n",
              "      <td>France</td>\n",
              "    </tr>\n",
              "    <tr>\n",
              "      <th>8</th>\n",
              "      <td>0.0</td>\n",
              "      <td>Medium</td>\n",
              "      <td>NaN</td>\n",
              "    </tr>\n",
              "    <tr>\n",
              "      <th>9</th>\n",
              "      <td>NaN</td>\n",
              "      <td>High</td>\n",
              "      <td>Spain</td>\n",
              "    </tr>\n",
              "  </tbody>\n",
              "</table>\n",
              "</div>"
            ],
            "text/plain": [
              "   idade salario     pais\n",
              "0   32.0    High    Spain\n",
              "1   38.0    High   France\n",
              "2    NaN    High   France\n",
              "3   37.0     Low      NaN\n",
              "4    NaN     Low  Germany\n",
              "5   36.0    High   France\n",
              "6   38.0     NaN    Spain\n",
              "7   32.0  Medium   France\n",
              "8    0.0  Medium      NaN\n",
              "9    NaN    High    Spain"
            ]
          },
          "metadata": {
            "tags": []
          },
          "execution_count": 3
        }
      ]
    },
    {
      "cell_type": "markdown",
      "metadata": {
        "id": "nnJDArN0Thcs"
      },
      "source": [
        "## Identificar os NaN's"
      ]
    },
    {
      "cell_type": "markdown",
      "metadata": {
        "id": "OuWnwsrWUOwJ"
      },
      "source": [
        "A função df.isna() será usada para identificarmos os NaN's nos dataframes. Por exemplo:"
      ]
    },
    {
      "cell_type": "code",
      "metadata": {
        "id": "MbpVaEz0Vrhv",
        "outputId": "5f0e80df-6612-4870-dcf7-85dfe1a76af4",
        "colab": {
          "base_uri": "https://localhost:8080/",
          "height": 359
        }
      },
      "source": [
        "df.isna()"
      ],
      "execution_count": null,
      "outputs": [
        {
          "output_type": "execute_result",
          "data": {
            "text/html": [
              "<div>\n",
              "<style scoped>\n",
              "    .dataframe tbody tr th:only-of-type {\n",
              "        vertical-align: middle;\n",
              "    }\n",
              "\n",
              "    .dataframe tbody tr th {\n",
              "        vertical-align: top;\n",
              "    }\n",
              "\n",
              "    .dataframe thead th {\n",
              "        text-align: right;\n",
              "    }\n",
              "</style>\n",
              "<table border=\"1\" class=\"dataframe\">\n",
              "  <thead>\n",
              "    <tr style=\"text-align: right;\">\n",
              "      <th></th>\n",
              "      <th>Idade</th>\n",
              "      <th>Salario</th>\n",
              "      <th>Pais</th>\n",
              "    </tr>\n",
              "  </thead>\n",
              "  <tbody>\n",
              "    <tr>\n",
              "      <th>0</th>\n",
              "      <td>False</td>\n",
              "      <td>False</td>\n",
              "      <td>False</td>\n",
              "    </tr>\n",
              "    <tr>\n",
              "      <th>1</th>\n",
              "      <td>False</td>\n",
              "      <td>False</td>\n",
              "      <td>False</td>\n",
              "    </tr>\n",
              "    <tr>\n",
              "      <th>2</th>\n",
              "      <td>True</td>\n",
              "      <td>False</td>\n",
              "      <td>False</td>\n",
              "    </tr>\n",
              "    <tr>\n",
              "      <th>3</th>\n",
              "      <td>False</td>\n",
              "      <td>False</td>\n",
              "      <td>True</td>\n",
              "    </tr>\n",
              "    <tr>\n",
              "      <th>4</th>\n",
              "      <td>True</td>\n",
              "      <td>False</td>\n",
              "      <td>False</td>\n",
              "    </tr>\n",
              "    <tr>\n",
              "      <th>5</th>\n",
              "      <td>False</td>\n",
              "      <td>False</td>\n",
              "      <td>False</td>\n",
              "    </tr>\n",
              "    <tr>\n",
              "      <th>6</th>\n",
              "      <td>False</td>\n",
              "      <td>True</td>\n",
              "      <td>False</td>\n",
              "    </tr>\n",
              "    <tr>\n",
              "      <th>7</th>\n",
              "      <td>False</td>\n",
              "      <td>False</td>\n",
              "      <td>False</td>\n",
              "    </tr>\n",
              "    <tr>\n",
              "      <th>8</th>\n",
              "      <td>False</td>\n",
              "      <td>False</td>\n",
              "      <td>True</td>\n",
              "    </tr>\n",
              "    <tr>\n",
              "      <th>9</th>\n",
              "      <td>True</td>\n",
              "      <td>False</td>\n",
              "      <td>False</td>\n",
              "    </tr>\n",
              "  </tbody>\n",
              "</table>\n",
              "</div>"
            ],
            "text/plain": [
              "   Idade  Salario   Pais\n",
              "0  False    False  False\n",
              "1  False    False  False\n",
              "2   True    False  False\n",
              "3  False    False   True\n",
              "4   True    False  False\n",
              "5  False    False  False\n",
              "6  False     True  False\n",
              "7  False    False  False\n",
              "8  False    False   True\n",
              "9   True    False  False"
            ]
          },
          "metadata": {
            "tags": []
          },
          "execution_count": 64
        }
      ]
    },
    {
      "cell_type": "markdown",
      "metadata": {
        "id": "yNTQr1HIYmfj"
      },
      "source": [
        "Qual a interpretação deste output?"
      ]
    },
    {
      "cell_type": "markdown",
      "metadata": {
        "id": "4j_sDA9UYwfy"
      },
      "source": [
        "Para um dataframe muito grande, vamos usar a expressão abaixo:"
      ]
    },
    {
      "cell_type": "code",
      "metadata": {
        "id": "_I9Rmip5Y0q1",
        "outputId": "e308f7b0-385b-4060-e7cb-50c8b453a032",
        "colab": {
          "base_uri": "https://localhost:8080/",
          "height": 85
        }
      },
      "source": [
        "df.isna().sum()"
      ],
      "execution_count": null,
      "outputs": [
        {
          "output_type": "execute_result",
          "data": {
            "text/plain": [
              "Idade      3\n",
              "Salario    1\n",
              "Pais       2\n",
              "dtype: int64"
            ]
          },
          "metadata": {
            "tags": []
          },
          "execution_count": 65
        }
      ]
    },
    {
      "cell_type": "markdown",
      "metadata": {
        "id": "iylkpQhWY6Fb"
      },
      "source": [
        "Mais prático não é? No entanto, vamos utilizar a função abaixo, que nos ajudará mais com os NaN's:"
      ]
    },
    {
      "cell_type": "code",
      "metadata": {
        "id": "9CP1CsHPeeUQ"
      },
      "source": [
        "def mostra_missing_value(df):\n",
        "    total = df.isnull().sum().sort_values(ascending = False)\n",
        "    percent = 100*round((df.isnull().sum()/df.isnull().count()).sort_values(ascending = False), 2)\n",
        "    missing_data = pd.concat([total, percent], axis = 1, keys=['Total', 'Percentual'])\n",
        "    print(missing_data.head(10))"
      ],
      "execution_count": null,
      "outputs": []
    },
    {
      "cell_type": "code",
      "metadata": {
        "id": "nHB8ND2iefp4",
        "outputId": "d9168eb0-b962-47dc-d07e-28b7e6462ff6",
        "colab": {
          "base_uri": "https://localhost:8080/",
          "height": 87
        }
      },
      "source": [
        "mostra_missing_value(df)"
      ],
      "execution_count": null,
      "outputs": [
        {
          "output_type": "stream",
          "text": [
            "         Total  Percentual\n",
            "idade        3        30.0\n",
            "pais         2        20.0\n",
            "salario      1        10.0\n"
          ],
          "name": "stdout"
        }
      ]
    },
    {
      "cell_type": "markdown",
      "metadata": {
        "id": "qaKpKXBVZBeu"
      },
      "source": [
        "## A função df.dropna()\n",
        "* Esta função deleta as instâncias (linhas do dataframes) onde há pelo menos 1 NaN."
      ]
    },
    {
      "cell_type": "code",
      "metadata": {
        "id": "xhw5fJKFZGPn",
        "outputId": "038d7b73-478d-4d1d-f488-237c7da6bf7a",
        "colab": {
          "base_uri": "https://localhost:8080/",
          "height": 173
        }
      },
      "source": [
        "df2 = df.dropna()\n",
        "df2"
      ],
      "execution_count": null,
      "outputs": [
        {
          "output_type": "execute_result",
          "data": {
            "text/html": [
              "<div>\n",
              "<style scoped>\n",
              "    .dataframe tbody tr th:only-of-type {\n",
              "        vertical-align: middle;\n",
              "    }\n",
              "\n",
              "    .dataframe tbody tr th {\n",
              "        vertical-align: top;\n",
              "    }\n",
              "\n",
              "    .dataframe thead th {\n",
              "        text-align: right;\n",
              "    }\n",
              "</style>\n",
              "<table border=\"1\" class=\"dataframe\">\n",
              "  <thead>\n",
              "    <tr style=\"text-align: right;\">\n",
              "      <th></th>\n",
              "      <th>Idade</th>\n",
              "      <th>Salario</th>\n",
              "      <th>Pais</th>\n",
              "    </tr>\n",
              "  </thead>\n",
              "  <tbody>\n",
              "    <tr>\n",
              "      <th>0</th>\n",
              "      <td>32.0</td>\n",
              "      <td>High</td>\n",
              "      <td>Spain</td>\n",
              "    </tr>\n",
              "    <tr>\n",
              "      <th>1</th>\n",
              "      <td>38.0</td>\n",
              "      <td>High</td>\n",
              "      <td>France</td>\n",
              "    </tr>\n",
              "    <tr>\n",
              "      <th>5</th>\n",
              "      <td>36.0</td>\n",
              "      <td>High</td>\n",
              "      <td>France</td>\n",
              "    </tr>\n",
              "    <tr>\n",
              "      <th>7</th>\n",
              "      <td>32.0</td>\n",
              "      <td>Medium</td>\n",
              "      <td>France</td>\n",
              "    </tr>\n",
              "  </tbody>\n",
              "</table>\n",
              "</div>"
            ],
            "text/plain": [
              "   Idade Salario    Pais\n",
              "0   32.0    High   Spain\n",
              "1   38.0    High  France\n",
              "5   36.0    High  France\n",
              "7   32.0  Medium  France"
            ]
          },
          "metadata": {
            "tags": []
          },
          "execution_count": 66
        }
      ]
    },
    {
      "cell_type": "markdown",
      "metadata": {
        "id": "BqWoQZ5fZeVk"
      },
      "source": [
        "Como podemos ver, somente as instâncias 0, 1, 5 e 7 tem atributos não NaN's."
      ]
    },
    {
      "cell_type": "markdown",
      "metadata": {
        "id": "lc7lmP7hikBT"
      },
      "source": [
        "Uma forma menos severa seria:"
      ]
    },
    {
      "cell_type": "code",
      "metadata": {
        "id": "h1qLnkFoimU5",
        "outputId": "7ee00406-e4df-42bb-d8e9-a156db0ec3dd",
        "colab": {
          "base_uri": "https://localhost:8080/",
          "height": 297
        }
      },
      "source": [
        "df3 = df.dropna(axis = 0, subset = ['pais'])\n",
        "df3"
      ],
      "execution_count": null,
      "outputs": [
        {
          "output_type": "execute_result",
          "data": {
            "text/html": [
              "<div>\n",
              "<style scoped>\n",
              "    .dataframe tbody tr th:only-of-type {\n",
              "        vertical-align: middle;\n",
              "    }\n",
              "\n",
              "    .dataframe tbody tr th {\n",
              "        vertical-align: top;\n",
              "    }\n",
              "\n",
              "    .dataframe thead th {\n",
              "        text-align: right;\n",
              "    }\n",
              "</style>\n",
              "<table border=\"1\" class=\"dataframe\">\n",
              "  <thead>\n",
              "    <tr style=\"text-align: right;\">\n",
              "      <th></th>\n",
              "      <th>Idade</th>\n",
              "      <th>Salario</th>\n",
              "      <th>Pais</th>\n",
              "      <th>Idade2</th>\n",
              "      <th>Idade3</th>\n",
              "      <th>Pais2</th>\n",
              "    </tr>\n",
              "  </thead>\n",
              "  <tbody>\n",
              "    <tr>\n",
              "      <th>0</th>\n",
              "      <td>32.0</td>\n",
              "      <td>High</td>\n",
              "      <td>Spain</td>\n",
              "      <td>32.0</td>\n",
              "      <td>32.0</td>\n",
              "      <td>Spain</td>\n",
              "    </tr>\n",
              "    <tr>\n",
              "      <th>1</th>\n",
              "      <td>38.0</td>\n",
              "      <td>High</td>\n",
              "      <td>France</td>\n",
              "      <td>38.0</td>\n",
              "      <td>38.0</td>\n",
              "      <td>France</td>\n",
              "    </tr>\n",
              "    <tr>\n",
              "      <th>2</th>\n",
              "      <td>NaN</td>\n",
              "      <td>High</td>\n",
              "      <td>France</td>\n",
              "      <td>NaN</td>\n",
              "      <td>36.0</td>\n",
              "      <td>France</td>\n",
              "    </tr>\n",
              "    <tr>\n",
              "      <th>4</th>\n",
              "      <td>NaN</td>\n",
              "      <td>Low</td>\n",
              "      <td>Germany</td>\n",
              "      <td>NaN</td>\n",
              "      <td>36.0</td>\n",
              "      <td>Germany</td>\n",
              "    </tr>\n",
              "    <tr>\n",
              "      <th>5</th>\n",
              "      <td>36.0</td>\n",
              "      <td>High</td>\n",
              "      <td>France</td>\n",
              "      <td>36.0</td>\n",
              "      <td>36.0</td>\n",
              "      <td>France</td>\n",
              "    </tr>\n",
              "    <tr>\n",
              "      <th>6</th>\n",
              "      <td>38.0</td>\n",
              "      <td>NaN</td>\n",
              "      <td>Spain</td>\n",
              "      <td>38.0</td>\n",
              "      <td>38.0</td>\n",
              "      <td>Spain</td>\n",
              "    </tr>\n",
              "    <tr>\n",
              "      <th>7</th>\n",
              "      <td>32.0</td>\n",
              "      <td>Medium</td>\n",
              "      <td>France</td>\n",
              "      <td>32.0</td>\n",
              "      <td>32.0</td>\n",
              "      <td>France</td>\n",
              "    </tr>\n",
              "    <tr>\n",
              "      <th>9</th>\n",
              "      <td>NaN</td>\n",
              "      <td>High</td>\n",
              "      <td>Spain</td>\n",
              "      <td>NaN</td>\n",
              "      <td>36.0</td>\n",
              "      <td>Spain</td>\n",
              "    </tr>\n",
              "  </tbody>\n",
              "</table>\n",
              "</div>"
            ],
            "text/plain": [
              "   Idade Salario     Pais  Idade2  Idade3    Pais2\n",
              "0   32.0    High    Spain    32.0    32.0    Spain\n",
              "1   38.0    High   France    38.0    38.0   France\n",
              "2    NaN    High   France     NaN    36.0   France\n",
              "4    NaN     Low  Germany     NaN    36.0  Germany\n",
              "5   36.0    High   France    36.0    36.0   France\n",
              "6   38.0     NaN    Spain    38.0    38.0    Spain\n",
              "7   32.0  Medium   France    32.0    32.0   France\n",
              "9    NaN    High    Spain     NaN    36.0    Spain"
            ]
          },
          "metadata": {
            "tags": []
          },
          "execution_count": 91
        }
      ]
    },
    {
      "cell_type": "markdown",
      "metadata": {
        "id": "bbQC69pjizWO"
      },
      "source": [
        "* Saberias explicar o que o comando acima fez?"
      ]
    },
    {
      "cell_type": "markdown",
      "metadata": {
        "id": "z52kmtrSS_2J"
      },
      "source": [
        "## Tratar os NaN's de Variáveis Numéricas\n",
        "* Neste exemplo, vou substituir os NaN's da variável 'idade' pela mediana. No entanto, responda a seguinte perfunta:\n",
        "    * Faz sendido idade= 0?"
      ]
    },
    {
      "cell_type": "markdown",
      "metadata": {
        "id": "TNadcxzRe5r3"
      },
      "source": [
        "Acho que a resposta é não. Então, neste caso, 0 é um NaN. Vamos substituído pela mediana da variável:"
      ]
    },
    {
      "cell_type": "code",
      "metadata": {
        "id": "O8SOOYbFfBtQ",
        "outputId": "06afc715-c122-444a-891b-29ca9493efb0",
        "colab": {
          "base_uri": "https://localhost:8080/",
          "height": 359
        }
      },
      "source": [
        "df['idade2'] = df['idade'].replace({0: df['idade'].median()})\n",
        "df"
      ],
      "execution_count": null,
      "outputs": [
        {
          "output_type": "execute_result",
          "data": {
            "text/html": [
              "<div>\n",
              "<style scoped>\n",
              "    .dataframe tbody tr th:only-of-type {\n",
              "        vertical-align: middle;\n",
              "    }\n",
              "\n",
              "    .dataframe tbody tr th {\n",
              "        vertical-align: top;\n",
              "    }\n",
              "\n",
              "    .dataframe thead th {\n",
              "        text-align: right;\n",
              "    }\n",
              "</style>\n",
              "<table border=\"1\" class=\"dataframe\">\n",
              "  <thead>\n",
              "    <tr style=\"text-align: right;\">\n",
              "      <th></th>\n",
              "      <th>Idade</th>\n",
              "      <th>Salario</th>\n",
              "      <th>Pais</th>\n",
              "      <th>Idade2</th>\n",
              "    </tr>\n",
              "  </thead>\n",
              "  <tbody>\n",
              "    <tr>\n",
              "      <th>0</th>\n",
              "      <td>32.0</td>\n",
              "      <td>High</td>\n",
              "      <td>Spain</td>\n",
              "      <td>32.0</td>\n",
              "    </tr>\n",
              "    <tr>\n",
              "      <th>1</th>\n",
              "      <td>38.0</td>\n",
              "      <td>High</td>\n",
              "      <td>France</td>\n",
              "      <td>38.0</td>\n",
              "    </tr>\n",
              "    <tr>\n",
              "      <th>2</th>\n",
              "      <td>NaN</td>\n",
              "      <td>High</td>\n",
              "      <td>France</td>\n",
              "      <td>NaN</td>\n",
              "    </tr>\n",
              "    <tr>\n",
              "      <th>3</th>\n",
              "      <td>37.0</td>\n",
              "      <td>Low</td>\n",
              "      <td>NaN</td>\n",
              "      <td>37.0</td>\n",
              "    </tr>\n",
              "    <tr>\n",
              "      <th>4</th>\n",
              "      <td>NaN</td>\n",
              "      <td>Low</td>\n",
              "      <td>Germany</td>\n",
              "      <td>NaN</td>\n",
              "    </tr>\n",
              "    <tr>\n",
              "      <th>5</th>\n",
              "      <td>36.0</td>\n",
              "      <td>High</td>\n",
              "      <td>France</td>\n",
              "      <td>36.0</td>\n",
              "    </tr>\n",
              "    <tr>\n",
              "      <th>6</th>\n",
              "      <td>38.0</td>\n",
              "      <td>NaN</td>\n",
              "      <td>Spain</td>\n",
              "      <td>38.0</td>\n",
              "    </tr>\n",
              "    <tr>\n",
              "      <th>7</th>\n",
              "      <td>32.0</td>\n",
              "      <td>Medium</td>\n",
              "      <td>France</td>\n",
              "      <td>32.0</td>\n",
              "    </tr>\n",
              "    <tr>\n",
              "      <th>8</th>\n",
              "      <td>0.0</td>\n",
              "      <td>Medium</td>\n",
              "      <td>NaN</td>\n",
              "      <td>36.0</td>\n",
              "    </tr>\n",
              "    <tr>\n",
              "      <th>9</th>\n",
              "      <td>NaN</td>\n",
              "      <td>High</td>\n",
              "      <td>Spain</td>\n",
              "      <td>NaN</td>\n",
              "    </tr>\n",
              "  </tbody>\n",
              "</table>\n",
              "</div>"
            ],
            "text/plain": [
              "   Idade Salario     Pais  Idade2\n",
              "0   32.0    High    Spain    32.0\n",
              "1   38.0    High   France    38.0\n",
              "2    NaN    High   France     NaN\n",
              "3   37.0     Low      NaN    37.0\n",
              "4    NaN     Low  Germany     NaN\n",
              "5   36.0    High   France    36.0\n",
              "6   38.0     NaN    Spain    38.0\n",
              "7   32.0  Medium   France    32.0\n",
              "8    0.0  Medium      NaN    36.0\n",
              "9    NaN    High    Spain     NaN"
            ]
          },
          "metadata": {
            "tags": []
          },
          "execution_count": 80
        }
      ]
    },
    {
      "cell_type": "markdown",
      "metadata": {
        "id": "YzpEHNXffRyC"
      },
      "source": [
        "Como podemos verificar acima na variável 'idade2', o valor 0 foi substituído pela mediana da variável 'idade'."
      ]
    },
    {
      "cell_type": "markdown",
      "metadata": {
        "id": "jlBNhkUtb60L"
      },
      "source": [
        "Vamos verificar a média da variável antes da operação:"
      ]
    },
    {
      "cell_type": "code",
      "metadata": {
        "id": "ix4ioHTHcCAJ",
        "outputId": "43bbd457-d06f-4d40-aa4e-2861bd624340",
        "colab": {
          "base_uri": "https://localhost:8080/",
          "height": 34
        }
      },
      "source": [
        "df['idade2'].mean()"
      ],
      "execution_count": null,
      "outputs": [
        {
          "output_type": "execute_result",
          "data": {
            "text/plain": [
              "35.57142857142857"
            ]
          },
          "metadata": {
            "tags": []
          },
          "execution_count": 82
        }
      ]
    },
    {
      "cell_type": "code",
      "metadata": {
        "id": "WefKW3WaTFdQ",
        "outputId": "26c1c9f4-59e8-4f84-e0e7-5a29c8326711",
        "colab": {
          "base_uri": "https://localhost:8080/",
          "height": 359
        }
      },
      "source": [
        "df['idade3'] = df['idade2']\n",
        "df"
      ],
      "execution_count": null,
      "outputs": [
        {
          "output_type": "execute_result",
          "data": {
            "text/html": [
              "<div>\n",
              "<style scoped>\n",
              "    .dataframe tbody tr th:only-of-type {\n",
              "        vertical-align: middle;\n",
              "    }\n",
              "\n",
              "    .dataframe tbody tr th {\n",
              "        vertical-align: top;\n",
              "    }\n",
              "\n",
              "    .dataframe thead th {\n",
              "        text-align: right;\n",
              "    }\n",
              "</style>\n",
              "<table border=\"1\" class=\"dataframe\">\n",
              "  <thead>\n",
              "    <tr style=\"text-align: right;\">\n",
              "      <th></th>\n",
              "      <th>Idade</th>\n",
              "      <th>Salario</th>\n",
              "      <th>Pais</th>\n",
              "      <th>Idade2</th>\n",
              "      <th>Idade3</th>\n",
              "    </tr>\n",
              "  </thead>\n",
              "  <tbody>\n",
              "    <tr>\n",
              "      <th>0</th>\n",
              "      <td>32.0</td>\n",
              "      <td>High</td>\n",
              "      <td>Spain</td>\n",
              "      <td>32.0</td>\n",
              "      <td>32.0</td>\n",
              "    </tr>\n",
              "    <tr>\n",
              "      <th>1</th>\n",
              "      <td>38.0</td>\n",
              "      <td>High</td>\n",
              "      <td>France</td>\n",
              "      <td>38.0</td>\n",
              "      <td>38.0</td>\n",
              "    </tr>\n",
              "    <tr>\n",
              "      <th>2</th>\n",
              "      <td>NaN</td>\n",
              "      <td>High</td>\n",
              "      <td>France</td>\n",
              "      <td>NaN</td>\n",
              "      <td>NaN</td>\n",
              "    </tr>\n",
              "    <tr>\n",
              "      <th>3</th>\n",
              "      <td>37.0</td>\n",
              "      <td>Low</td>\n",
              "      <td>NaN</td>\n",
              "      <td>37.0</td>\n",
              "      <td>37.0</td>\n",
              "    </tr>\n",
              "    <tr>\n",
              "      <th>4</th>\n",
              "      <td>NaN</td>\n",
              "      <td>Low</td>\n",
              "      <td>Germany</td>\n",
              "      <td>NaN</td>\n",
              "      <td>NaN</td>\n",
              "    </tr>\n",
              "    <tr>\n",
              "      <th>5</th>\n",
              "      <td>36.0</td>\n",
              "      <td>High</td>\n",
              "      <td>France</td>\n",
              "      <td>36.0</td>\n",
              "      <td>36.0</td>\n",
              "    </tr>\n",
              "    <tr>\n",
              "      <th>6</th>\n",
              "      <td>38.0</td>\n",
              "      <td>NaN</td>\n",
              "      <td>Spain</td>\n",
              "      <td>38.0</td>\n",
              "      <td>38.0</td>\n",
              "    </tr>\n",
              "    <tr>\n",
              "      <th>7</th>\n",
              "      <td>32.0</td>\n",
              "      <td>Medium</td>\n",
              "      <td>France</td>\n",
              "      <td>32.0</td>\n",
              "      <td>32.0</td>\n",
              "    </tr>\n",
              "    <tr>\n",
              "      <th>8</th>\n",
              "      <td>0.0</td>\n",
              "      <td>Medium</td>\n",
              "      <td>NaN</td>\n",
              "      <td>36.0</td>\n",
              "      <td>36.0</td>\n",
              "    </tr>\n",
              "    <tr>\n",
              "      <th>9</th>\n",
              "      <td>NaN</td>\n",
              "      <td>High</td>\n",
              "      <td>Spain</td>\n",
              "      <td>NaN</td>\n",
              "      <td>NaN</td>\n",
              "    </tr>\n",
              "  </tbody>\n",
              "</table>\n",
              "</div>"
            ],
            "text/plain": [
              "   Idade Salario     Pais  Idade2  Idade3\n",
              "0   32.0    High    Spain    32.0    32.0\n",
              "1   38.0    High   France    38.0    38.0\n",
              "2    NaN    High   France     NaN     NaN\n",
              "3   37.0     Low      NaN    37.0    37.0\n",
              "4    NaN     Low  Germany     NaN     NaN\n",
              "5   36.0    High   France    36.0    36.0\n",
              "6   38.0     NaN    Spain    38.0    38.0\n",
              "7   32.0  Medium   France    32.0    32.0\n",
              "8    0.0  Medium      NaN    36.0    36.0\n",
              "9    NaN    High    Spain     NaN     NaN"
            ]
          },
          "metadata": {
            "tags": []
          },
          "execution_count": 83
        }
      ]
    },
    {
      "cell_type": "markdown",
      "metadata": {
        "id": "AOWQOGmEcIfi"
      },
      "source": [
        "Aplicamos a operação:"
      ]
    },
    {
      "cell_type": "code",
      "metadata": {
        "id": "gAzxEchhdOXJ",
        "outputId": "b17cafc9-eea2-4ce7-e2c5-de3b646a3c74",
        "colab": {
          "base_uri": "https://localhost:8080/",
          "height": 359
        }
      },
      "source": [
        "df['idade3'].fillna(df['idade3'].median(), inplace = True)\n",
        "df"
      ],
      "execution_count": null,
      "outputs": [
        {
          "output_type": "execute_result",
          "data": {
            "text/html": [
              "<div>\n",
              "<style scoped>\n",
              "    .dataframe tbody tr th:only-of-type {\n",
              "        vertical-align: middle;\n",
              "    }\n",
              "\n",
              "    .dataframe tbody tr th {\n",
              "        vertical-align: top;\n",
              "    }\n",
              "\n",
              "    .dataframe thead th {\n",
              "        text-align: right;\n",
              "    }\n",
              "</style>\n",
              "<table border=\"1\" class=\"dataframe\">\n",
              "  <thead>\n",
              "    <tr style=\"text-align: right;\">\n",
              "      <th></th>\n",
              "      <th>Idade</th>\n",
              "      <th>Salario</th>\n",
              "      <th>Pais</th>\n",
              "      <th>Idade2</th>\n",
              "      <th>Idade3</th>\n",
              "    </tr>\n",
              "  </thead>\n",
              "  <tbody>\n",
              "    <tr>\n",
              "      <th>0</th>\n",
              "      <td>32.0</td>\n",
              "      <td>High</td>\n",
              "      <td>Spain</td>\n",
              "      <td>32.0</td>\n",
              "      <td>32.0</td>\n",
              "    </tr>\n",
              "    <tr>\n",
              "      <th>1</th>\n",
              "      <td>38.0</td>\n",
              "      <td>High</td>\n",
              "      <td>France</td>\n",
              "      <td>38.0</td>\n",
              "      <td>38.0</td>\n",
              "    </tr>\n",
              "    <tr>\n",
              "      <th>2</th>\n",
              "      <td>NaN</td>\n",
              "      <td>High</td>\n",
              "      <td>France</td>\n",
              "      <td>NaN</td>\n",
              "      <td>36.0</td>\n",
              "    </tr>\n",
              "    <tr>\n",
              "      <th>3</th>\n",
              "      <td>37.0</td>\n",
              "      <td>Low</td>\n",
              "      <td>NaN</td>\n",
              "      <td>37.0</td>\n",
              "      <td>37.0</td>\n",
              "    </tr>\n",
              "    <tr>\n",
              "      <th>4</th>\n",
              "      <td>NaN</td>\n",
              "      <td>Low</td>\n",
              "      <td>Germany</td>\n",
              "      <td>NaN</td>\n",
              "      <td>36.0</td>\n",
              "    </tr>\n",
              "    <tr>\n",
              "      <th>5</th>\n",
              "      <td>36.0</td>\n",
              "      <td>High</td>\n",
              "      <td>France</td>\n",
              "      <td>36.0</td>\n",
              "      <td>36.0</td>\n",
              "    </tr>\n",
              "    <tr>\n",
              "      <th>6</th>\n",
              "      <td>38.0</td>\n",
              "      <td>NaN</td>\n",
              "      <td>Spain</td>\n",
              "      <td>38.0</td>\n",
              "      <td>38.0</td>\n",
              "    </tr>\n",
              "    <tr>\n",
              "      <th>7</th>\n",
              "      <td>32.0</td>\n",
              "      <td>Medium</td>\n",
              "      <td>France</td>\n",
              "      <td>32.0</td>\n",
              "      <td>32.0</td>\n",
              "    </tr>\n",
              "    <tr>\n",
              "      <th>8</th>\n",
              "      <td>0.0</td>\n",
              "      <td>Medium</td>\n",
              "      <td>NaN</td>\n",
              "      <td>36.0</td>\n",
              "      <td>36.0</td>\n",
              "    </tr>\n",
              "    <tr>\n",
              "      <th>9</th>\n",
              "      <td>NaN</td>\n",
              "      <td>High</td>\n",
              "      <td>Spain</td>\n",
              "      <td>NaN</td>\n",
              "      <td>36.0</td>\n",
              "    </tr>\n",
              "  </tbody>\n",
              "</table>\n",
              "</div>"
            ],
            "text/plain": [
              "   Idade Salario     Pais  Idade2  Idade3\n",
              "0   32.0    High    Spain    32.0    32.0\n",
              "1   38.0    High   France    38.0    38.0\n",
              "2    NaN    High   France     NaN    36.0\n",
              "3   37.0     Low      NaN    37.0    37.0\n",
              "4    NaN     Low  Germany     NaN    36.0\n",
              "5   36.0    High   France    36.0    36.0\n",
              "6   38.0     NaN    Spain    38.0    38.0\n",
              "7   32.0  Medium   France    32.0    32.0\n",
              "8    0.0  Medium      NaN    36.0    36.0\n",
              "9    NaN    High    Spain     NaN    36.0"
            ]
          },
          "metadata": {
            "tags": []
          },
          "execution_count": 84
        }
      ]
    },
    {
      "cell_type": "markdown",
      "metadata": {
        "id": "eeKi5thjd5cn"
      },
      "source": [
        "Podemos observar que os valores NaN's do atributo 'idade3' foi substituído pelo valor 36."
      ]
    },
    {
      "cell_type": "markdown",
      "metadata": {
        "id": "YhhlVz2ddkbm"
      },
      "source": [
        "E agora, a média após a operação:"
      ]
    },
    {
      "cell_type": "code",
      "metadata": {
        "id": "z2EsBMugdnCJ",
        "outputId": "1e3e9566-3acb-4909-b433-c953deb5e589",
        "colab": {
          "base_uri": "https://localhost:8080/",
          "height": 34
        }
      },
      "source": [
        "df['idade3'].mean()"
      ],
      "execution_count": null,
      "outputs": [
        {
          "output_type": "execute_result",
          "data": {
            "text/plain": [
              "35.7"
            ]
          },
          "metadata": {
            "tags": []
          },
          "execution_count": 85
        }
      ]
    },
    {
      "cell_type": "markdown",
      "metadata": {
        "id": "kD-bY7Vlf6pH"
      },
      "source": [
        "* Qual a conclusão?\n",
        "    * Houve muito impacto na distribuição da variável 'idade'?"
      ]
    },
    {
      "cell_type": "markdown",
      "metadata": {
        "id": "3oE1ZuB4TFlr"
      },
      "source": [
        "## Tratar NaN's de Variáveis Categóricas\n",
        "* Observe a variável 'pais'. Temos alguns NaN's. As alternativas que temos são:\n",
        "    * substituir os NaN's desta variável pela moda (valor mais frequente) da distribuição.\n",
        "    * substiruir os NaN's por 'Undefined'."
      ]
    },
    {
      "cell_type": "markdown",
      "metadata": {
        "id": "KNUkV4x2hLeV"
      },
      "source": [
        "Qual o valor (no caso, País) mais frequente ?"
      ]
    },
    {
      "cell_type": "code",
      "metadata": {
        "id": "OzuJ5p9UKa4v",
        "outputId": "02a2b4d1-87ca-4af3-f7cc-60ae42b91930",
        "colab": {
          "base_uri": "https://localhost:8080/",
          "height": 85
        }
      },
      "source": [
        "df.pais.value_counts()"
      ],
      "execution_count": null,
      "outputs": [
        {
          "output_type": "execute_result",
          "data": {
            "text/plain": [
              "France     4\n",
              "Spain      3\n",
              "Germany    1\n",
              "Name: Pais, dtype: int64"
            ]
          },
          "metadata": {
            "tags": []
          },
          "execution_count": 87
        }
      ]
    },
    {
      "cell_type": "markdown",
      "metadata": {
        "id": "GGmqsEflhYV3"
      },
      "source": [
        "Ok, a instância 'France' é o mais frequente. Então vamos substituir os NaN's por 'France'. De forma automática, temos:"
      ]
    },
    {
      "cell_type": "code",
      "metadata": {
        "id": "Ms1EBykBh3Ic",
        "outputId": "ddfe280e-8ceb-4bf9-81e3-4b2411d98046",
        "colab": {
          "base_uri": "https://localhost:8080/",
          "height": 52
        }
      },
      "source": [
        "s_pais_mais_frequente = df['pais'].mode()[0]\n",
        "s_pais_mais_frequente"
      ],
      "execution_count": null,
      "outputs": [
        {
          "output_type": "execute_result",
          "data": {
            "text/plain": [
              "0    France\n",
              "dtype: object"
            ]
          },
          "metadata": {
            "tags": []
          },
          "execution_count": 11
        }
      ]
    },
    {
      "cell_type": "code",
      "metadata": {
        "id": "XhsTLndlhk6W",
        "outputId": "64fcc5ac-d9fe-44c4-b370-8ca63861a286",
        "colab": {
          "base_uri": "https://localhost:8080/",
          "height": 359
        }
      },
      "source": [
        "df[\"pais2\"] = df[\"pais\"]\n",
        "df[\"pais2\"] = df[\"pais2\"].fillna(s_pais_mais_frequente)\n",
        "df"
      ],
      "execution_count": null,
      "outputs": [
        {
          "output_type": "execute_result",
          "data": {
            "text/html": [
              "<div>\n",
              "<style scoped>\n",
              "    .dataframe tbody tr th:only-of-type {\n",
              "        vertical-align: middle;\n",
              "    }\n",
              "\n",
              "    .dataframe tbody tr th {\n",
              "        vertical-align: top;\n",
              "    }\n",
              "\n",
              "    .dataframe thead th {\n",
              "        text-align: right;\n",
              "    }\n",
              "</style>\n",
              "<table border=\"1\" class=\"dataframe\">\n",
              "  <thead>\n",
              "    <tr style=\"text-align: right;\">\n",
              "      <th></th>\n",
              "      <th>Idade</th>\n",
              "      <th>Salario</th>\n",
              "      <th>Pais</th>\n",
              "      <th>Idade2</th>\n",
              "      <th>Idade3</th>\n",
              "      <th>Pais2</th>\n",
              "    </tr>\n",
              "  </thead>\n",
              "  <tbody>\n",
              "    <tr>\n",
              "      <th>0</th>\n",
              "      <td>32.0</td>\n",
              "      <td>High</td>\n",
              "      <td>Spain</td>\n",
              "      <td>32.0</td>\n",
              "      <td>32.0</td>\n",
              "      <td>Spain</td>\n",
              "    </tr>\n",
              "    <tr>\n",
              "      <th>1</th>\n",
              "      <td>38.0</td>\n",
              "      <td>High</td>\n",
              "      <td>France</td>\n",
              "      <td>38.0</td>\n",
              "      <td>38.0</td>\n",
              "      <td>France</td>\n",
              "    </tr>\n",
              "    <tr>\n",
              "      <th>2</th>\n",
              "      <td>NaN</td>\n",
              "      <td>High</td>\n",
              "      <td>France</td>\n",
              "      <td>NaN</td>\n",
              "      <td>36.0</td>\n",
              "      <td>France</td>\n",
              "    </tr>\n",
              "    <tr>\n",
              "      <th>3</th>\n",
              "      <td>37.0</td>\n",
              "      <td>Low</td>\n",
              "      <td>NaN</td>\n",
              "      <td>37.0</td>\n",
              "      <td>37.0</td>\n",
              "      <td>France</td>\n",
              "    </tr>\n",
              "    <tr>\n",
              "      <th>4</th>\n",
              "      <td>NaN</td>\n",
              "      <td>Low</td>\n",
              "      <td>Germany</td>\n",
              "      <td>NaN</td>\n",
              "      <td>36.0</td>\n",
              "      <td>Germany</td>\n",
              "    </tr>\n",
              "    <tr>\n",
              "      <th>5</th>\n",
              "      <td>36.0</td>\n",
              "      <td>High</td>\n",
              "      <td>France</td>\n",
              "      <td>36.0</td>\n",
              "      <td>36.0</td>\n",
              "      <td>France</td>\n",
              "    </tr>\n",
              "    <tr>\n",
              "      <th>6</th>\n",
              "      <td>38.0</td>\n",
              "      <td>NaN</td>\n",
              "      <td>Spain</td>\n",
              "      <td>38.0</td>\n",
              "      <td>38.0</td>\n",
              "      <td>Spain</td>\n",
              "    </tr>\n",
              "    <tr>\n",
              "      <th>7</th>\n",
              "      <td>32.0</td>\n",
              "      <td>Medium</td>\n",
              "      <td>France</td>\n",
              "      <td>32.0</td>\n",
              "      <td>32.0</td>\n",
              "      <td>France</td>\n",
              "    </tr>\n",
              "    <tr>\n",
              "      <th>8</th>\n",
              "      <td>0.0</td>\n",
              "      <td>Medium</td>\n",
              "      <td>NaN</td>\n",
              "      <td>36.0</td>\n",
              "      <td>36.0</td>\n",
              "      <td>France</td>\n",
              "    </tr>\n",
              "    <tr>\n",
              "      <th>9</th>\n",
              "      <td>NaN</td>\n",
              "      <td>High</td>\n",
              "      <td>Spain</td>\n",
              "      <td>NaN</td>\n",
              "      <td>36.0</td>\n",
              "      <td>Spain</td>\n",
              "    </tr>\n",
              "  </tbody>\n",
              "</table>\n",
              "</div>"
            ],
            "text/plain": [
              "   Idade Salario     Pais  Idade2  Idade3    Pais2\n",
              "0   32.0    High    Spain    32.0    32.0    Spain\n",
              "1   38.0    High   France    38.0    38.0   France\n",
              "2    NaN    High   France     NaN    36.0   France\n",
              "3   37.0     Low      NaN    37.0    37.0   France\n",
              "4    NaN     Low  Germany     NaN    36.0  Germany\n",
              "5   36.0    High   France    36.0    36.0   France\n",
              "6   38.0     NaN    Spain    38.0    38.0    Spain\n",
              "7   32.0  Medium   France    32.0    32.0   France\n",
              "8    0.0  Medium      NaN    36.0    36.0   France\n",
              "9    NaN    High    Spain     NaN    36.0    Spain"
            ]
          },
          "metadata": {
            "tags": []
          },
          "execution_count": 90
        }
      ]
    },
    {
      "cell_type": "code",
      "metadata": {
        "id": "vdv--JyTj2s8"
      },
      "source": [
        "df[\"pais3\"] = df[\"pais\"].fillna('pais_mv')"
      ],
      "execution_count": null,
      "outputs": []
    },
    {
      "cell_type": "code",
      "metadata": {
        "id": "AU7mwDcSkeSz",
        "outputId": "a072a642-00ff-465d-a9c5-a2cb45b07e0f",
        "colab": {
          "base_uri": "https://localhost:8080/",
          "height": 355
        }
      },
      "source": [
        "df"
      ],
      "execution_count": null,
      "outputs": [
        {
          "output_type": "execute_result",
          "data": {
            "text/html": [
              "<div>\n",
              "<style scoped>\n",
              "    .dataframe tbody tr th:only-of-type {\n",
              "        vertical-align: middle;\n",
              "    }\n",
              "\n",
              "    .dataframe tbody tr th {\n",
              "        vertical-align: top;\n",
              "    }\n",
              "\n",
              "    .dataframe thead th {\n",
              "        text-align: right;\n",
              "    }\n",
              "</style>\n",
              "<table border=\"1\" class=\"dataframe\">\n",
              "  <thead>\n",
              "    <tr style=\"text-align: right;\">\n",
              "      <th></th>\n",
              "      <th>idade</th>\n",
              "      <th>salario</th>\n",
              "      <th>pais</th>\n",
              "      <th>pais3</th>\n",
              "    </tr>\n",
              "  </thead>\n",
              "  <tbody>\n",
              "    <tr>\n",
              "      <th>0</th>\n",
              "      <td>32.0</td>\n",
              "      <td>High</td>\n",
              "      <td>Spain</td>\n",
              "      <td>Spain</td>\n",
              "    </tr>\n",
              "    <tr>\n",
              "      <th>1</th>\n",
              "      <td>38.0</td>\n",
              "      <td>High</td>\n",
              "      <td>France</td>\n",
              "      <td>France</td>\n",
              "    </tr>\n",
              "    <tr>\n",
              "      <th>2</th>\n",
              "      <td>NaN</td>\n",
              "      <td>High</td>\n",
              "      <td>France</td>\n",
              "      <td>France</td>\n",
              "    </tr>\n",
              "    <tr>\n",
              "      <th>3</th>\n",
              "      <td>37.0</td>\n",
              "      <td>Low</td>\n",
              "      <td>NaN</td>\n",
              "      <td>Pais_MV</td>\n",
              "    </tr>\n",
              "    <tr>\n",
              "      <th>4</th>\n",
              "      <td>NaN</td>\n",
              "      <td>Low</td>\n",
              "      <td>Germany</td>\n",
              "      <td>Germany</td>\n",
              "    </tr>\n",
              "    <tr>\n",
              "      <th>5</th>\n",
              "      <td>36.0</td>\n",
              "      <td>High</td>\n",
              "      <td>France</td>\n",
              "      <td>France</td>\n",
              "    </tr>\n",
              "    <tr>\n",
              "      <th>6</th>\n",
              "      <td>38.0</td>\n",
              "      <td>NaN</td>\n",
              "      <td>Spain</td>\n",
              "      <td>Spain</td>\n",
              "    </tr>\n",
              "    <tr>\n",
              "      <th>7</th>\n",
              "      <td>32.0</td>\n",
              "      <td>Medium</td>\n",
              "      <td>France</td>\n",
              "      <td>France</td>\n",
              "    </tr>\n",
              "    <tr>\n",
              "      <th>8</th>\n",
              "      <td>0.0</td>\n",
              "      <td>Medium</td>\n",
              "      <td>NaN</td>\n",
              "      <td>Pais_MV</td>\n",
              "    </tr>\n",
              "    <tr>\n",
              "      <th>9</th>\n",
              "      <td>NaN</td>\n",
              "      <td>High</td>\n",
              "      <td>Spain</td>\n",
              "      <td>Spain</td>\n",
              "    </tr>\n",
              "  </tbody>\n",
              "</table>\n",
              "</div>"
            ],
            "text/plain": [
              "   idade salario     pais    pais3\n",
              "0   32.0    High    Spain    Spain\n",
              "1   38.0    High   France   France\n",
              "2    NaN    High   France   France\n",
              "3   37.0     Low      NaN  Pais_MV\n",
              "4    NaN     Low  Germany  Germany\n",
              "5   36.0    High   France   France\n",
              "6   38.0     NaN    Spain    Spain\n",
              "7   32.0  Medium   France   France\n",
              "8    0.0  Medium      NaN  Pais_MV\n",
              "9    NaN    High    Spain    Spain"
            ]
          },
          "metadata": {
            "tags": []
          },
          "execution_count": 10
        }
      ]
    },
    {
      "cell_type": "markdown",
      "metadata": {
        "id": "lTtkurTY8ttj"
      },
      "source": [
        "# **EXERCÍCIOS**\n"
      ]
    },
    {
      "cell_type": "markdown",
      "metadata": {
        "id": "uGQqvlYhiQ56"
      },
      "source": [
        "## Exercício 1\n",
        "* Trate os NaN's da variável 'salario'."
      ]
    },
    {
      "cell_type": "markdown",
      "metadata": {
        "id": "5Nv2-w7t824J"
      },
      "source": [
        "## Exercício 2 - Diabetes\n",
        "* Carregue o dataframe diabeletes.csv e trate os NaN's."
      ]
    },
    {
      "cell_type": "markdown",
      "metadata": {
        "id": "48KUsFSe9wwj"
      },
      "source": [
        "### Carregar o dataframe"
      ]
    },
    {
      "cell_type": "code",
      "metadata": {
        "id": "I8RUE_aj9zND"
      },
      "source": [
        "url_df= ''\n",
        "df = pd.read_csv(url_df)\n",
        "df.head()"
      ],
      "execution_count": null,
      "outputs": []
    },
    {
      "cell_type": "markdown",
      "metadata": {
        "id": "jgFm2aJL-EaL"
      },
      "source": [
        "**Dica**: Algumas medidas não fazem sentido seram nulas (0). Portanto, os NaN's aqui neste dataframe são o valor 0. Portanto, substitua os NaN's (no caso, 0)das variáveis Glucose, BloodPressure, SkinThickness, Insulin e BMI por alguma medida como, por exemplo, média, mediana, moda e etc."
      ]
    },
    {
      "cell_type": "markdown",
      "metadata": {
        "id": "tK0YWKti_znY"
      },
      "source": [
        "## Exercício 3 - Titanic\n",
        "> Trate os NaN's do dataframe Titanic_With_MV.csv."
      ]
    },
    {
      "cell_type": "code",
      "metadata": {
        "id": "aMZzx7iFAFXH"
      },
      "source": [
        ""
      ],
      "execution_count": null,
      "outputs": []
    }
  ]
}