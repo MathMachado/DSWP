{
  "nbformat": 4,
  "nbformat_minor": 0,
  "metadata": {
    "kernelspec": {
      "display_name": "Python 3",
      "language": "python",
      "name": "python3"
    },
    "language_info": {
      "codemirror_mode": {
        "name": "ipython",
        "version": 3
      },
      "file_extension": ".py",
      "mimetype": "text/x-python",
      "name": "python",
      "nbconvert_exporter": "python",
      "pygments_lexer": "ipython3",
      "version": "3.6.4"
    },
    "colab": {
      "name": "NB10_04__3DP_5_Feature_Selection.ipynb",
      "provenance": [],
      "include_colab_link": true
    }
  },
  "cells": [
    {
      "cell_type": "markdown",
      "metadata": {
        "id": "view-in-github",
        "colab_type": "text"
      },
      "source": [
        "<a href=\"https://colab.research.google.com/github/MathMachado/DSWP/blob/master/Notebooks/NB10_04__3DP_5_Feature_Selection.ipynb\" target=\"_parent\"><img src=\"https://colab.research.google.com/assets/colab-badge.svg\" alt=\"Open In Colab\"/></a>"
      ]
    },
    {
      "cell_type": "markdown",
      "metadata": {
        "id": "Cka1jqOwy6KT"
      },
      "source": [
        "<center><h1><b><i>3DP_5 - FEATURE SELECTION</i></b></h1></center>\n",
        "\n"
      ]
    },
    {
      "cell_type": "markdown",
      "metadata": {
        "id": "3aYp_plmy17y"
      },
      "source": [
        "# **AGENDA**:\n",
        "\n",
        "> Consulte **Table of contents**.\n",
        "\n"
      ]
    },
    {
      "cell_type": "markdown",
      "metadata": {
        "id": "rSFnHHQUKDX5"
      },
      "source": [
        "# **Melhorias da sessão**\n",
        "* Desenvolver t-SNE.\n",
        "* https://towardsdatascience.com/feature-engineering-for-machine-learning-3a5e293a5114"
      ]
    },
    {
      "cell_type": "markdown",
      "metadata": {
        "id": "arSNhd_2KHL6"
      },
      "source": [
        "___\n",
        "# **Referências**\n",
        "* [Feature Selection in Python — Recursive Feature Elimination](https://towardsdatascience.com/feature-selection-in-python-recursive-feature-elimination-19f1c39b8d15)\n",
        "* [Feature Selection with sklearn and Pandas](https://towardsdatascience.com/feature-selection-with-pandas-e3690ad8504b)"
      ]
    },
    {
      "cell_type": "markdown",
      "metadata": {
        "id": "cBLSvJTXHBjK"
      },
      "source": [
        "___\n",
        "# **CHEETSHEET**"
      ]
    },
    {
      "cell_type": "markdown",
      "metadata": {
        "id": "ZdjR3nahUuKq"
      },
      "source": [
        "\n",
        "![Scikit-Learn](https://github.com/MathMachado/Materials/blob/master/scikit-learn-1.png?raw=true)\n",
        "\n"
      ]
    },
    {
      "cell_type": "markdown",
      "metadata": {
        "id": "ngLc7b9XiKxN"
      },
      "source": [
        "___\n",
        "# **3DP_FEATURE SELECTION**\n",
        "## Introdução à Feature Selection\n",
        "> Nosso objetivo com Feature Engineering será:\n",
        "* Deletar colunas irrelevantes;\n",
        "* Deletar colunas com baixa correlação com a variável-target;\n",
        "* Deletar colunas com baixa variância;\n",
        "* Deletar colunas com muitos NaN's.\n",
        "\n",
        "* Sugestões:\n",
        "    * Normalize colunas numéricas;\n",
        "    * Aplique LabelEncoding (colunas numéricas) ou One Hot Encoding (colunas categóricas).\n",
        "\n",
        "![FeatureSelection](https://github.com/MathMachado/Materials/blob/master/FeatureSelection.png?raw=true)\n",
        "\n",
        "[Fonte](https://medium.com/@sundarstyles89/weight-of-evidence-and-information-value-using-python-6f05072e83eb)"
      ]
    },
    {
      "cell_type": "code",
      "metadata": {
        "id": "T9JCQatsiKxR"
      },
      "source": [
        "from sklearn import feature_selection # Library para seleção de features\n",
        "import pandas as pd\n",
        "import numpy as np\n",
        "import seaborn as sns\n",
        "import matplotlib.pyplot as plt\n",
        "%matplotlib inline"
      ],
      "execution_count": 155,
      "outputs": []
    },
    {
      "cell_type": "markdown",
      "metadata": {
        "id": "9U6Az5qpiKxU"
      },
      "source": [
        "___\n",
        "# **VarianceThreshold**\n",
        "* Drop variáveis/features cuja variância seja inferior a um determinado threshold;\n",
        "* Este é um método não-supervisionado, isto é, a variável rotulada (variável-resposta ou variável target) não entra e ação;\n",
        "* **Intuição**:\n",
        "    * Features/variáveis com baixa variância contem baixa informação;\n",
        "* **Como funciona**:\n",
        "    * Calcula a variância para cada feature/variável e então deleta a coluna/variável com baixa variância\n",
        "* **Cuidados**:\n",
        "    * Assegure-se que as features/variáveis tenham a mesma escala. Ou seja, use StandardScaler() ou MinMaxScaler() para colocar as variáveis na mesma escala."
      ]
    },
    {
      "cell_type": "code",
      "metadata": {
        "id": "VnQySWoCUWZY",
        "outputId": "3e744d0b-ce87-4de0-9060-070bef08adad",
        "colab": {
          "base_uri": "https://localhost:8080/",
          "height": 206
        }
      },
      "source": [
        "np.random.seed(20111974)\n",
        "\n",
        "l_dia_semana = ['seg', 'ter', 'qua', 'qui', 'sex']\n",
        "d_simulacao = {'produto_a': np.round(np.random.normal(100, 10, size = 100), 4),\n",
        "               'produto_b': np.round(np.random.normal(10, 1.0, size = 100), 4),\n",
        "               'produto_c': np.round(np.random.normal(50, 0.5, size = 100), 4),\n",
        "               'dia_semana': np.random.choice(l_dia_semana, 100)}\n",
        "\n",
        "df = pd.DataFrame(d_simulacao)\n",
        "df.head()"
      ],
      "execution_count": 156,
      "outputs": [
        {
          "output_type": "execute_result",
          "data": {
            "text/plain": [
              "   produto_a  produto_b  produto_c dia_semana\n",
              "0   125.0628     9.7991    50.9660        qui\n",
              "1   111.1440     8.7281    50.2374        ter\n",
              "2   120.5566    10.1573    49.8809        seg\n",
              "3   105.6482     8.8778    49.8930        qua\n",
              "4   102.9897    10.1549    50.1266        ter"
            ],
            "text/html": [
              "\n",
              "  <div id=\"df-c7e0c76f-d53d-4b89-ab22-cd6e55375142\" class=\"colab-df-container\">\n",
              "    <div>\n",
              "<style scoped>\n",
              "    .dataframe tbody tr th:only-of-type {\n",
              "        vertical-align: middle;\n",
              "    }\n",
              "\n",
              "    .dataframe tbody tr th {\n",
              "        vertical-align: top;\n",
              "    }\n",
              "\n",
              "    .dataframe thead th {\n",
              "        text-align: right;\n",
              "    }\n",
              "</style>\n",
              "<table border=\"1\" class=\"dataframe\">\n",
              "  <thead>\n",
              "    <tr style=\"text-align: right;\">\n",
              "      <th></th>\n",
              "      <th>produto_a</th>\n",
              "      <th>produto_b</th>\n",
              "      <th>produto_c</th>\n",
              "      <th>dia_semana</th>\n",
              "    </tr>\n",
              "  </thead>\n",
              "  <tbody>\n",
              "    <tr>\n",
              "      <th>0</th>\n",
              "      <td>125.0628</td>\n",
              "      <td>9.7991</td>\n",
              "      <td>50.9660</td>\n",
              "      <td>qui</td>\n",
              "    </tr>\n",
              "    <tr>\n",
              "      <th>1</th>\n",
              "      <td>111.1440</td>\n",
              "      <td>8.7281</td>\n",
              "      <td>50.2374</td>\n",
              "      <td>ter</td>\n",
              "    </tr>\n",
              "    <tr>\n",
              "      <th>2</th>\n",
              "      <td>120.5566</td>\n",
              "      <td>10.1573</td>\n",
              "      <td>49.8809</td>\n",
              "      <td>seg</td>\n",
              "    </tr>\n",
              "    <tr>\n",
              "      <th>3</th>\n",
              "      <td>105.6482</td>\n",
              "      <td>8.8778</td>\n",
              "      <td>49.8930</td>\n",
              "      <td>qua</td>\n",
              "    </tr>\n",
              "    <tr>\n",
              "      <th>4</th>\n",
              "      <td>102.9897</td>\n",
              "      <td>10.1549</td>\n",
              "      <td>50.1266</td>\n",
              "      <td>ter</td>\n",
              "    </tr>\n",
              "  </tbody>\n",
              "</table>\n",
              "</div>\n",
              "    <div class=\"colab-df-buttons\">\n",
              "\n",
              "  <div class=\"colab-df-container\">\n",
              "    <button class=\"colab-df-convert\" onclick=\"convertToInteractive('df-c7e0c76f-d53d-4b89-ab22-cd6e55375142')\"\n",
              "            title=\"Convert this dataframe to an interactive table.\"\n",
              "            style=\"display:none;\">\n",
              "\n",
              "  <svg xmlns=\"http://www.w3.org/2000/svg\" height=\"24px\" viewBox=\"0 -960 960 960\">\n",
              "    <path d=\"M120-120v-720h720v720H120Zm60-500h600v-160H180v160Zm220 220h160v-160H400v160Zm0 220h160v-160H400v160ZM180-400h160v-160H180v160Zm440 0h160v-160H620v160ZM180-180h160v-160H180v160Zm440 0h160v-160H620v160Z\"/>\n",
              "  </svg>\n",
              "    </button>\n",
              "\n",
              "  <style>\n",
              "    .colab-df-container {\n",
              "      display:flex;\n",
              "      gap: 12px;\n",
              "    }\n",
              "\n",
              "    .colab-df-convert {\n",
              "      background-color: #E8F0FE;\n",
              "      border: none;\n",
              "      border-radius: 50%;\n",
              "      cursor: pointer;\n",
              "      display: none;\n",
              "      fill: #1967D2;\n",
              "      height: 32px;\n",
              "      padding: 0 0 0 0;\n",
              "      width: 32px;\n",
              "    }\n",
              "\n",
              "    .colab-df-convert:hover {\n",
              "      background-color: #E2EBFA;\n",
              "      box-shadow: 0px 1px 2px rgba(60, 64, 67, 0.3), 0px 1px 3px 1px rgba(60, 64, 67, 0.15);\n",
              "      fill: #174EA6;\n",
              "    }\n",
              "\n",
              "    .colab-df-buttons div {\n",
              "      margin-bottom: 4px;\n",
              "    }\n",
              "\n",
              "    [theme=dark] .colab-df-convert {\n",
              "      background-color: #3B4455;\n",
              "      fill: #D2E3FC;\n",
              "    }\n",
              "\n",
              "    [theme=dark] .colab-df-convert:hover {\n",
              "      background-color: #434B5C;\n",
              "      box-shadow: 0px 1px 3px 1px rgba(0, 0, 0, 0.15);\n",
              "      filter: drop-shadow(0px 1px 2px rgba(0, 0, 0, 0.3));\n",
              "      fill: #FFFFFF;\n",
              "    }\n",
              "  </style>\n",
              "\n",
              "    <script>\n",
              "      const buttonEl =\n",
              "        document.querySelector('#df-c7e0c76f-d53d-4b89-ab22-cd6e55375142 button.colab-df-convert');\n",
              "      buttonEl.style.display =\n",
              "        google.colab.kernel.accessAllowed ? 'block' : 'none';\n",
              "\n",
              "      async function convertToInteractive(key) {\n",
              "        const element = document.querySelector('#df-c7e0c76f-d53d-4b89-ab22-cd6e55375142');\n",
              "        const dataTable =\n",
              "          await google.colab.kernel.invokeFunction('convertToInteractive',\n",
              "                                                    [key], {});\n",
              "        if (!dataTable) return;\n",
              "\n",
              "        const docLinkHtml = 'Like what you see? Visit the ' +\n",
              "          '<a target=\"_blank\" href=https://colab.research.google.com/notebooks/data_table.ipynb>data table notebook</a>'\n",
              "          + ' to learn more about interactive tables.';\n",
              "        element.innerHTML = '';\n",
              "        dataTable['output_type'] = 'display_data';\n",
              "        await google.colab.output.renderOutput(dataTable, element);\n",
              "        const docLink = document.createElement('div');\n",
              "        docLink.innerHTML = docLinkHtml;\n",
              "        element.appendChild(docLink);\n",
              "      }\n",
              "    </script>\n",
              "  </div>\n",
              "\n",
              "\n",
              "<div id=\"df-c941a0ae-25f5-4d49-875a-b720ad188d66\">\n",
              "  <button class=\"colab-df-quickchart\" onclick=\"quickchart('df-c941a0ae-25f5-4d49-875a-b720ad188d66')\"\n",
              "            title=\"Suggest charts\"\n",
              "            style=\"display:none;\">\n",
              "\n",
              "<svg xmlns=\"http://www.w3.org/2000/svg\" height=\"24px\"viewBox=\"0 0 24 24\"\n",
              "     width=\"24px\">\n",
              "    <g>\n",
              "        <path d=\"M19 3H5c-1.1 0-2 .9-2 2v14c0 1.1.9 2 2 2h14c1.1 0 2-.9 2-2V5c0-1.1-.9-2-2-2zM9 17H7v-7h2v7zm4 0h-2V7h2v10zm4 0h-2v-4h2v4z\"/>\n",
              "    </g>\n",
              "</svg>\n",
              "  </button>\n",
              "\n",
              "<style>\n",
              "  .colab-df-quickchart {\n",
              "      --bg-color: #E8F0FE;\n",
              "      --fill-color: #1967D2;\n",
              "      --hover-bg-color: #E2EBFA;\n",
              "      --hover-fill-color: #174EA6;\n",
              "      --disabled-fill-color: #AAA;\n",
              "      --disabled-bg-color: #DDD;\n",
              "  }\n",
              "\n",
              "  [theme=dark] .colab-df-quickchart {\n",
              "      --bg-color: #3B4455;\n",
              "      --fill-color: #D2E3FC;\n",
              "      --hover-bg-color: #434B5C;\n",
              "      --hover-fill-color: #FFFFFF;\n",
              "      --disabled-bg-color: #3B4455;\n",
              "      --disabled-fill-color: #666;\n",
              "  }\n",
              "\n",
              "  .colab-df-quickchart {\n",
              "    background-color: var(--bg-color);\n",
              "    border: none;\n",
              "    border-radius: 50%;\n",
              "    cursor: pointer;\n",
              "    display: none;\n",
              "    fill: var(--fill-color);\n",
              "    height: 32px;\n",
              "    padding: 0;\n",
              "    width: 32px;\n",
              "  }\n",
              "\n",
              "  .colab-df-quickchart:hover {\n",
              "    background-color: var(--hover-bg-color);\n",
              "    box-shadow: 0 1px 2px rgba(60, 64, 67, 0.3), 0 1px 3px 1px rgba(60, 64, 67, 0.15);\n",
              "    fill: var(--button-hover-fill-color);\n",
              "  }\n",
              "\n",
              "  .colab-df-quickchart-complete:disabled,\n",
              "  .colab-df-quickchart-complete:disabled:hover {\n",
              "    background-color: var(--disabled-bg-color);\n",
              "    fill: var(--disabled-fill-color);\n",
              "    box-shadow: none;\n",
              "  }\n",
              "\n",
              "  .colab-df-spinner {\n",
              "    border: 2px solid var(--fill-color);\n",
              "    border-color: transparent;\n",
              "    border-bottom-color: var(--fill-color);\n",
              "    animation:\n",
              "      spin 1s steps(1) infinite;\n",
              "  }\n",
              "\n",
              "  @keyframes spin {\n",
              "    0% {\n",
              "      border-color: transparent;\n",
              "      border-bottom-color: var(--fill-color);\n",
              "      border-left-color: var(--fill-color);\n",
              "    }\n",
              "    20% {\n",
              "      border-color: transparent;\n",
              "      border-left-color: var(--fill-color);\n",
              "      border-top-color: var(--fill-color);\n",
              "    }\n",
              "    30% {\n",
              "      border-color: transparent;\n",
              "      border-left-color: var(--fill-color);\n",
              "      border-top-color: var(--fill-color);\n",
              "      border-right-color: var(--fill-color);\n",
              "    }\n",
              "    40% {\n",
              "      border-color: transparent;\n",
              "      border-right-color: var(--fill-color);\n",
              "      border-top-color: var(--fill-color);\n",
              "    }\n",
              "    60% {\n",
              "      border-color: transparent;\n",
              "      border-right-color: var(--fill-color);\n",
              "    }\n",
              "    80% {\n",
              "      border-color: transparent;\n",
              "      border-right-color: var(--fill-color);\n",
              "      border-bottom-color: var(--fill-color);\n",
              "    }\n",
              "    90% {\n",
              "      border-color: transparent;\n",
              "      border-bottom-color: var(--fill-color);\n",
              "    }\n",
              "  }\n",
              "</style>\n",
              "\n",
              "  <script>\n",
              "    async function quickchart(key) {\n",
              "      const quickchartButtonEl =\n",
              "        document.querySelector('#' + key + ' button');\n",
              "      quickchartButtonEl.disabled = true;  // To prevent multiple clicks.\n",
              "      quickchartButtonEl.classList.add('colab-df-spinner');\n",
              "      try {\n",
              "        const charts = await google.colab.kernel.invokeFunction(\n",
              "            'suggestCharts', [key], {});\n",
              "      } catch (error) {\n",
              "        console.error('Error during call to suggestCharts:', error);\n",
              "      }\n",
              "      quickchartButtonEl.classList.remove('colab-df-spinner');\n",
              "      quickchartButtonEl.classList.add('colab-df-quickchart-complete');\n",
              "    }\n",
              "    (() => {\n",
              "      let quickchartButtonEl =\n",
              "        document.querySelector('#df-c941a0ae-25f5-4d49-875a-b720ad188d66 button');\n",
              "      quickchartButtonEl.style.display =\n",
              "        google.colab.kernel.accessAllowed ? 'block' : 'none';\n",
              "    })();\n",
              "  </script>\n",
              "</div>\n",
              "\n",
              "    </div>\n",
              "  </div>\n"
            ],
            "application/vnd.google.colaboratory.intrinsic+json": {
              "type": "dataframe",
              "variable_name": "df",
              "summary": "{\n  \"name\": \"df\",\n  \"rows\": 100,\n  \"fields\": [\n    {\n      \"column\": \"produto_a\",\n      \"properties\": {\n        \"dtype\": \"number\",\n        \"std\": 10.106275084476282,\n        \"min\": 79.4004,\n        \"max\": 125.0628,\n        \"num_unique_values\": 100,\n        \"samples\": [\n          92.999,\n          111.6996,\n          107.4366\n        ],\n        \"semantic_type\": \"\",\n        \"description\": \"\"\n      }\n    },\n    {\n      \"column\": \"produto_b\",\n      \"properties\": {\n        \"dtype\": \"number\",\n        \"std\": 0.9749142649334389,\n        \"min\": 7.1676,\n        \"max\": 12.8765,\n        \"num_unique_values\": 100,\n        \"samples\": [\n          11.5054,\n          9.7176,\n          8.1981\n        ],\n        \"semantic_type\": \"\",\n        \"description\": \"\"\n      }\n    },\n    {\n      \"column\": \"produto_c\",\n      \"properties\": {\n        \"dtype\": \"number\",\n        \"std\": 0.49423626427473194,\n        \"min\": 48.8263,\n        \"max\": 51.3724,\n        \"num_unique_values\": 100,\n        \"samples\": [\n          49.8266,\n          49.486,\n          49.8622\n        ],\n        \"semantic_type\": \"\",\n        \"description\": \"\"\n      }\n    },\n    {\n      \"column\": \"dia_semana\",\n      \"properties\": {\n        \"dtype\": \"category\",\n        \"num_unique_values\": 5,\n        \"samples\": [\n          \"ter\",\n          \"sex\",\n          \"seg\"\n        ],\n        \"semantic_type\": \"\",\n        \"description\": \"\"\n      }\n    }\n  ]\n}"
            }
          },
          "metadata": {},
          "execution_count": 156
        }
      ]
    },
    {
      "cell_type": "code",
      "metadata": {
        "id": "Z_pisdDRWHv_",
        "outputId": "23cc7752-3199-4e3e-cbee-f8c3a9606008",
        "colab": {
          "base_uri": "https://localhost:8080/",
          "height": 300
        }
      },
      "source": [
        "df.describe()"
      ],
      "execution_count": 157,
      "outputs": [
        {
          "output_type": "execute_result",
          "data": {
            "text/plain": [
              "        produto_a   produto_b   produto_c\n",
              "count  100.000000  100.000000  100.000000\n",
              "mean    99.830035    9.909787   50.057685\n",
              "std     10.106275    0.974914    0.494236\n",
              "min     79.400400    7.167600   48.826300\n",
              "25%     92.163850    9.187350   49.755925\n",
              "50%     98.779500    9.849950   50.093600\n",
              "75%    107.194750   10.528925   50.398950\n",
              "max    125.062800   12.876500   51.372400"
            ],
            "text/html": [
              "\n",
              "  <div id=\"df-09aab653-a895-42b6-bbde-d0c8a85bf07e\" class=\"colab-df-container\">\n",
              "    <div>\n",
              "<style scoped>\n",
              "    .dataframe tbody tr th:only-of-type {\n",
              "        vertical-align: middle;\n",
              "    }\n",
              "\n",
              "    .dataframe tbody tr th {\n",
              "        vertical-align: top;\n",
              "    }\n",
              "\n",
              "    .dataframe thead th {\n",
              "        text-align: right;\n",
              "    }\n",
              "</style>\n",
              "<table border=\"1\" class=\"dataframe\">\n",
              "  <thead>\n",
              "    <tr style=\"text-align: right;\">\n",
              "      <th></th>\n",
              "      <th>produto_a</th>\n",
              "      <th>produto_b</th>\n",
              "      <th>produto_c</th>\n",
              "    </tr>\n",
              "  </thead>\n",
              "  <tbody>\n",
              "    <tr>\n",
              "      <th>count</th>\n",
              "      <td>100.000000</td>\n",
              "      <td>100.000000</td>\n",
              "      <td>100.000000</td>\n",
              "    </tr>\n",
              "    <tr>\n",
              "      <th>mean</th>\n",
              "      <td>99.830035</td>\n",
              "      <td>9.909787</td>\n",
              "      <td>50.057685</td>\n",
              "    </tr>\n",
              "    <tr>\n",
              "      <th>std</th>\n",
              "      <td>10.106275</td>\n",
              "      <td>0.974914</td>\n",
              "      <td>0.494236</td>\n",
              "    </tr>\n",
              "    <tr>\n",
              "      <th>min</th>\n",
              "      <td>79.400400</td>\n",
              "      <td>7.167600</td>\n",
              "      <td>48.826300</td>\n",
              "    </tr>\n",
              "    <tr>\n",
              "      <th>25%</th>\n",
              "      <td>92.163850</td>\n",
              "      <td>9.187350</td>\n",
              "      <td>49.755925</td>\n",
              "    </tr>\n",
              "    <tr>\n",
              "      <th>50%</th>\n",
              "      <td>98.779500</td>\n",
              "      <td>9.849950</td>\n",
              "      <td>50.093600</td>\n",
              "    </tr>\n",
              "    <tr>\n",
              "      <th>75%</th>\n",
              "      <td>107.194750</td>\n",
              "      <td>10.528925</td>\n",
              "      <td>50.398950</td>\n",
              "    </tr>\n",
              "    <tr>\n",
              "      <th>max</th>\n",
              "      <td>125.062800</td>\n",
              "      <td>12.876500</td>\n",
              "      <td>51.372400</td>\n",
              "    </tr>\n",
              "  </tbody>\n",
              "</table>\n",
              "</div>\n",
              "    <div class=\"colab-df-buttons\">\n",
              "\n",
              "  <div class=\"colab-df-container\">\n",
              "    <button class=\"colab-df-convert\" onclick=\"convertToInteractive('df-09aab653-a895-42b6-bbde-d0c8a85bf07e')\"\n",
              "            title=\"Convert this dataframe to an interactive table.\"\n",
              "            style=\"display:none;\">\n",
              "\n",
              "  <svg xmlns=\"http://www.w3.org/2000/svg\" height=\"24px\" viewBox=\"0 -960 960 960\">\n",
              "    <path d=\"M120-120v-720h720v720H120Zm60-500h600v-160H180v160Zm220 220h160v-160H400v160Zm0 220h160v-160H400v160ZM180-400h160v-160H180v160Zm440 0h160v-160H620v160ZM180-180h160v-160H180v160Zm440 0h160v-160H620v160Z\"/>\n",
              "  </svg>\n",
              "    </button>\n",
              "\n",
              "  <style>\n",
              "    .colab-df-container {\n",
              "      display:flex;\n",
              "      gap: 12px;\n",
              "    }\n",
              "\n",
              "    .colab-df-convert {\n",
              "      background-color: #E8F0FE;\n",
              "      border: none;\n",
              "      border-radius: 50%;\n",
              "      cursor: pointer;\n",
              "      display: none;\n",
              "      fill: #1967D2;\n",
              "      height: 32px;\n",
              "      padding: 0 0 0 0;\n",
              "      width: 32px;\n",
              "    }\n",
              "\n",
              "    .colab-df-convert:hover {\n",
              "      background-color: #E2EBFA;\n",
              "      box-shadow: 0px 1px 2px rgba(60, 64, 67, 0.3), 0px 1px 3px 1px rgba(60, 64, 67, 0.15);\n",
              "      fill: #174EA6;\n",
              "    }\n",
              "\n",
              "    .colab-df-buttons div {\n",
              "      margin-bottom: 4px;\n",
              "    }\n",
              "\n",
              "    [theme=dark] .colab-df-convert {\n",
              "      background-color: #3B4455;\n",
              "      fill: #D2E3FC;\n",
              "    }\n",
              "\n",
              "    [theme=dark] .colab-df-convert:hover {\n",
              "      background-color: #434B5C;\n",
              "      box-shadow: 0px 1px 3px 1px rgba(0, 0, 0, 0.15);\n",
              "      filter: drop-shadow(0px 1px 2px rgba(0, 0, 0, 0.3));\n",
              "      fill: #FFFFFF;\n",
              "    }\n",
              "  </style>\n",
              "\n",
              "    <script>\n",
              "      const buttonEl =\n",
              "        document.querySelector('#df-09aab653-a895-42b6-bbde-d0c8a85bf07e button.colab-df-convert');\n",
              "      buttonEl.style.display =\n",
              "        google.colab.kernel.accessAllowed ? 'block' : 'none';\n",
              "\n",
              "      async function convertToInteractive(key) {\n",
              "        const element = document.querySelector('#df-09aab653-a895-42b6-bbde-d0c8a85bf07e');\n",
              "        const dataTable =\n",
              "          await google.colab.kernel.invokeFunction('convertToInteractive',\n",
              "                                                    [key], {});\n",
              "        if (!dataTable) return;\n",
              "\n",
              "        const docLinkHtml = 'Like what you see? Visit the ' +\n",
              "          '<a target=\"_blank\" href=https://colab.research.google.com/notebooks/data_table.ipynb>data table notebook</a>'\n",
              "          + ' to learn more about interactive tables.';\n",
              "        element.innerHTML = '';\n",
              "        dataTable['output_type'] = 'display_data';\n",
              "        await google.colab.output.renderOutput(dataTable, element);\n",
              "        const docLink = document.createElement('div');\n",
              "        docLink.innerHTML = docLinkHtml;\n",
              "        element.appendChild(docLink);\n",
              "      }\n",
              "    </script>\n",
              "  </div>\n",
              "\n",
              "\n",
              "<div id=\"df-e4ff74ac-1377-4d9c-9005-d8023f9b5d24\">\n",
              "  <button class=\"colab-df-quickchart\" onclick=\"quickchart('df-e4ff74ac-1377-4d9c-9005-d8023f9b5d24')\"\n",
              "            title=\"Suggest charts\"\n",
              "            style=\"display:none;\">\n",
              "\n",
              "<svg xmlns=\"http://www.w3.org/2000/svg\" height=\"24px\"viewBox=\"0 0 24 24\"\n",
              "     width=\"24px\">\n",
              "    <g>\n",
              "        <path d=\"M19 3H5c-1.1 0-2 .9-2 2v14c0 1.1.9 2 2 2h14c1.1 0 2-.9 2-2V5c0-1.1-.9-2-2-2zM9 17H7v-7h2v7zm4 0h-2V7h2v10zm4 0h-2v-4h2v4z\"/>\n",
              "    </g>\n",
              "</svg>\n",
              "  </button>\n",
              "\n",
              "<style>\n",
              "  .colab-df-quickchart {\n",
              "      --bg-color: #E8F0FE;\n",
              "      --fill-color: #1967D2;\n",
              "      --hover-bg-color: #E2EBFA;\n",
              "      --hover-fill-color: #174EA6;\n",
              "      --disabled-fill-color: #AAA;\n",
              "      --disabled-bg-color: #DDD;\n",
              "  }\n",
              "\n",
              "  [theme=dark] .colab-df-quickchart {\n",
              "      --bg-color: #3B4455;\n",
              "      --fill-color: #D2E3FC;\n",
              "      --hover-bg-color: #434B5C;\n",
              "      --hover-fill-color: #FFFFFF;\n",
              "      --disabled-bg-color: #3B4455;\n",
              "      --disabled-fill-color: #666;\n",
              "  }\n",
              "\n",
              "  .colab-df-quickchart {\n",
              "    background-color: var(--bg-color);\n",
              "    border: none;\n",
              "    border-radius: 50%;\n",
              "    cursor: pointer;\n",
              "    display: none;\n",
              "    fill: var(--fill-color);\n",
              "    height: 32px;\n",
              "    padding: 0;\n",
              "    width: 32px;\n",
              "  }\n",
              "\n",
              "  .colab-df-quickchart:hover {\n",
              "    background-color: var(--hover-bg-color);\n",
              "    box-shadow: 0 1px 2px rgba(60, 64, 67, 0.3), 0 1px 3px 1px rgba(60, 64, 67, 0.15);\n",
              "    fill: var(--button-hover-fill-color);\n",
              "  }\n",
              "\n",
              "  .colab-df-quickchart-complete:disabled,\n",
              "  .colab-df-quickchart-complete:disabled:hover {\n",
              "    background-color: var(--disabled-bg-color);\n",
              "    fill: var(--disabled-fill-color);\n",
              "    box-shadow: none;\n",
              "  }\n",
              "\n",
              "  .colab-df-spinner {\n",
              "    border: 2px solid var(--fill-color);\n",
              "    border-color: transparent;\n",
              "    border-bottom-color: var(--fill-color);\n",
              "    animation:\n",
              "      spin 1s steps(1) infinite;\n",
              "  }\n",
              "\n",
              "  @keyframes spin {\n",
              "    0% {\n",
              "      border-color: transparent;\n",
              "      border-bottom-color: var(--fill-color);\n",
              "      border-left-color: var(--fill-color);\n",
              "    }\n",
              "    20% {\n",
              "      border-color: transparent;\n",
              "      border-left-color: var(--fill-color);\n",
              "      border-top-color: var(--fill-color);\n",
              "    }\n",
              "    30% {\n",
              "      border-color: transparent;\n",
              "      border-left-color: var(--fill-color);\n",
              "      border-top-color: var(--fill-color);\n",
              "      border-right-color: var(--fill-color);\n",
              "    }\n",
              "    40% {\n",
              "      border-color: transparent;\n",
              "      border-right-color: var(--fill-color);\n",
              "      border-top-color: var(--fill-color);\n",
              "    }\n",
              "    60% {\n",
              "      border-color: transparent;\n",
              "      border-right-color: var(--fill-color);\n",
              "    }\n",
              "    80% {\n",
              "      border-color: transparent;\n",
              "      border-right-color: var(--fill-color);\n",
              "      border-bottom-color: var(--fill-color);\n",
              "    }\n",
              "    90% {\n",
              "      border-color: transparent;\n",
              "      border-bottom-color: var(--fill-color);\n",
              "    }\n",
              "  }\n",
              "</style>\n",
              "\n",
              "  <script>\n",
              "    async function quickchart(key) {\n",
              "      const quickchartButtonEl =\n",
              "        document.querySelector('#' + key + ' button');\n",
              "      quickchartButtonEl.disabled = true;  // To prevent multiple clicks.\n",
              "      quickchartButtonEl.classList.add('colab-df-spinner');\n",
              "      try {\n",
              "        const charts = await google.colab.kernel.invokeFunction(\n",
              "            'suggestCharts', [key], {});\n",
              "      } catch (error) {\n",
              "        console.error('Error during call to suggestCharts:', error);\n",
              "      }\n",
              "      quickchartButtonEl.classList.remove('colab-df-spinner');\n",
              "      quickchartButtonEl.classList.add('colab-df-quickchart-complete');\n",
              "    }\n",
              "    (() => {\n",
              "      let quickchartButtonEl =\n",
              "        document.querySelector('#df-e4ff74ac-1377-4d9c-9005-d8023f9b5d24 button');\n",
              "      quickchartButtonEl.style.display =\n",
              "        google.colab.kernel.accessAllowed ? 'block' : 'none';\n",
              "    })();\n",
              "  </script>\n",
              "</div>\n",
              "\n",
              "    </div>\n",
              "  </div>\n"
            ],
            "application/vnd.google.colaboratory.intrinsic+json": {
              "type": "dataframe",
              "summary": "{\n  \"name\": \"df\",\n  \"rows\": 8,\n  \"fields\": [\n    {\n      \"column\": \"produto_a\",\n      \"properties\": {\n        \"dtype\": \"number\",\n        \"std\": 34.41728950834197,\n        \"min\": 10.106275084476282,\n        \"max\": 125.0628,\n        \"num_unique_values\": 8,\n        \"samples\": [\n          99.830035,\n          98.7795,\n          100.0\n        ],\n        \"semantic_type\": \"\",\n        \"description\": \"\"\n      }\n    },\n    {\n      \"column\": \"produto_b\",\n      \"properties\": {\n        \"dtype\": \"number\",\n        \"std\": 32.48909393479439,\n        \"min\": 0.9749142649334389,\n        \"max\": 100.0,\n        \"num_unique_values\": 8,\n        \"samples\": [\n          9.909787,\n          9.84995,\n          100.0\n        ],\n        \"semantic_type\": \"\",\n        \"description\": \"\"\n      }\n    },\n    {\n      \"column\": \"produto_c\",\n      \"properties\": {\n        \"dtype\": \"number\",\n        \"std\": 26.603404037202885,\n        \"min\": 0.49423626427473194,\n        \"max\": 100.0,\n        \"num_unique_values\": 8,\n        \"samples\": [\n          50.057685,\n          50.093599999999995,\n          100.0\n        ],\n        \"semantic_type\": \"\",\n        \"description\": \"\"\n      }\n    }\n  ]\n}"
            }
          },
          "metadata": {},
          "execution_count": 157
        }
      ]
    },
    {
      "cell_type": "code",
      "metadata": {
        "id": "QabqzcVtagBi",
        "outputId": "3e2dbc5a-057e-4ed3-e2a5-76d78a75fc3e",
        "colab": {
          "base_uri": "https://localhost:8080/",
          "height": 554
        }
      },
      "source": [
        "import seaborn as sns\n",
        "\n",
        "# Boxplot para produto_a\n",
        "sns.boxplot(x = \"dia_semana\", y = \"produto_a\", data = df, palette = \"Set1\")"
      ],
      "execution_count": 158,
      "outputs": [
        {
          "output_type": "stream",
          "name": "stderr",
          "text": [
            "<ipython-input-158-7e265170107d>:4: FutureWarning: \n",
            "\n",
            "Passing `palette` without assigning `hue` is deprecated and will be removed in v0.14.0. Assign the `x` variable to `hue` and set `legend=False` for the same effect.\n",
            "\n",
            "  sns.boxplot(x = \"dia_semana\", y = \"produto_a\", data = df, palette = \"Set1\")\n"
          ]
        },
        {
          "output_type": "execute_result",
          "data": {
            "text/plain": [
              "<Axes: xlabel='dia_semana', ylabel='produto_a'>"
            ]
          },
          "metadata": {},
          "execution_count": 158
        },
        {
          "output_type": "display_data",
          "data": {
            "text/plain": [
              "<Figure size 640x480 with 1 Axes>"
            ],
            "image/png": "[encoded data removed]"
          },
          "metadata": {}
        }
      ]
    },
    {
      "cell_type": "code",
      "metadata": {
        "id": "7UMyLmC9cYqD",
        "outputId": "2d8c10ce-6633-4f9b-d70a-f4a882c9bac3",
        "colab": {
          "base_uri": "https://localhost:8080/",
          "height": 554
        }
      },
      "source": [
        "# Boxplot para produto_b\n",
        "sns.boxplot(x = \"dia_semana\", y = \"produto_b\", data = df, palette = \"Set1\")"
      ],
      "execution_count": 159,
      "outputs": [
        {
          "output_type": "stream",
          "name": "stderr",
          "text": [
            "<ipython-input-159-163e4ff36944>:2: FutureWarning: \n",
            "\n",
            "Passing `palette` without assigning `hue` is deprecated and will be removed in v0.14.0. Assign the `x` variable to `hue` and set `legend=False` for the same effect.\n",
            "\n",
            "  sns.boxplot(x = \"dia_semana\", y = \"produto_b\", data = df, palette = \"Set1\")\n"
          ]
        },
        {
          "output_type": "execute_result",
          "data": {
            "text/plain": [
              "<Axes: xlabel='dia_semana', ylabel='produto_b'>"
            ]
          },
          "metadata": {},
          "execution_count": 159
        },
        {
          "output_type": "display_data",
          "data": {
            "text/plain": [
              "<Figure size 640x480 with 1 Axes>"
            ],
            "image/png": "[encoded data removed]"
          },
          "metadata": {}
        }
      ]
    },
    {
      "cell_type": "code",
      "metadata": {
        "id": "y9JFrfNhcgy5",
        "outputId": "68dddbd2-bdc4-4d18-fc8d-ca80968f6482",
        "colab": {
          "base_uri": "https://localhost:8080/",
          "height": 554
        }
      },
      "source": [
        "# Boxplot para produto_c\n",
        "sns.boxplot(x = \"dia_semana\", y = \"produto_c\", data = df, palette = \"Set1\")"
      ],
      "execution_count": 160,
      "outputs": [
        {
          "output_type": "stream",
          "name": "stderr",
          "text": [
            "<ipython-input-160-dc31b214dd1d>:2: FutureWarning: \n",
            "\n",
            "Passing `palette` without assigning `hue` is deprecated and will be removed in v0.14.0. Assign the `x` variable to `hue` and set `legend=False` for the same effect.\n",
            "\n",
            "  sns.boxplot(x = \"dia_semana\", y = \"produto_c\", data = df, palette = \"Set1\")\n"
          ]
        },
        {
          "output_type": "execute_result",
          "data": {
            "text/plain": [
              "<Axes: xlabel='dia_semana', ylabel='produto_c'>"
            ]
          },
          "metadata": {},
          "execution_count": 160
        },
        {
          "output_type": "display_data",
          "data": {
            "text/plain": [
              "<Figure size 640x480 with 1 Axes>"
            ],
            "image/png": "[encoded data removed]"
          },
          "metadata": {}
        }
      ]
    },
    {
      "cell_type": "code",
      "metadata": {
        "id": "1w-_VsJuWVHN",
        "outputId": "c28fba1a-28e6-47f4-f3db-2a6658fae849",
        "colab": {
          "base_uri": "https://localhost:8080/"
        }
      },
      "source": [
        "# Calculando as variâncias de cada Feature/variável:\n",
        "l_variaveis= ['produto_a', 'produto_b', 'produto_c']\n",
        "print(f'Variância das variáveis do dataframe df:')\n",
        "for coluna in l_variaveis:\n",
        "    print(f'{coluna}: {round(df[coluna].var(), 2)}')"
      ],
      "execution_count": 161,
      "outputs": [
        {
          "output_type": "stream",
          "name": "stdout",
          "text": [
            "Variância das variáveis do dataframe df:\n",
            "produto_a: 102.14\n",
            "produto_b: 0.95\n",
            "produto_c: 0.24\n"
          ]
        }
      ]
    },
    {
      "cell_type": "code",
      "metadata": {
        "id": "3IITDmqUiKxo",
        "outputId": "3aa6a397-3994-49c0-abc5-9c16876f9302",
        "colab": {
          "base_uri": "https://localhost:8080/"
        }
      },
      "source": [
        "# Selecionar atributos cuja variância seja maior que 0.25:\n",
        "vt = feature_selection.VarianceThreshold(threshold = .25)\n",
        "vt.fit_transform(df[['produto_a', 'produto_b', 'produto_c']])"
      ],
      "execution_count": 162,
      "outputs": [
        {
          "output_type": "execute_result",
          "data": {
            "text/plain": [
              "array([[125.0628,   9.7991],\n",
              "       [111.144 ,   8.7281],\n",
              "       [120.5566,  10.1573],\n",
              "       [105.6482,   8.8778],\n",
              "       [102.9897,  10.1549],\n",
              "       [110.4931,  10.3613],\n",
              "       [ 98.7393,  10.5335],\n",
              "       [110.6228,  10.1884],\n",
              "       [111.3807,   9.3947],\n",
              "       [113.7966,  10.5274],\n",
              "       [ 79.4004,   9.4973],\n",
              "       [106.7475,   9.8465],\n",
              "       [107.2723,   9.1916],\n",
              "       [ 96.6076,  10.8666],\n",
              "       [104.3613,  11.1262],\n",
              "       [105.9135,  10.8768],\n",
              "       [ 87.0718,   9.0921],\n",
              "       [111.7712,  11.37  ],\n",
              "       [ 90.1356,  10.1296],\n",
              "       [ 82.0966,   9.477 ],\n",
              "       [ 89.1086,  10.242 ],\n",
              "       [ 90.9287,  11.3869],\n",
              "       [ 89.7709,   9.9663],\n",
              "       [ 86.3554,   9.2274],\n",
              "       [ 97.0571,  11.51  ],\n",
              "       [100.6344,   8.9578],\n",
              "       [ 88.5804,  10.4898],\n",
              "       [ 94.9294,  10.3248],\n",
              "       [ 91.6461,   8.9788],\n",
              "       [ 85.8507,   8.7534],\n",
              "       [ 97.8409,  11.2866],\n",
              "       [ 88.3481,  10.2776],\n",
              "       [ 93.9232,   8.4584],\n",
              "       [ 93.8489,   9.2714],\n",
              "       [110.7715,  10.8236],\n",
              "       [105.0437,  10.503 ],\n",
              "       [100.2674,   8.9232],\n",
              "       [118.3495,   9.7811],\n",
              "       [103.4729,  10.6732],\n",
              "       [ 88.5328,  10.0936],\n",
              "       [ 94.0159,   8.739 ],\n",
              "       [ 95.7302,   8.8704],\n",
              "       [101.0902,   9.5631],\n",
              "       [ 92.4832,   9.9853],\n",
              "       [107.1689,  10.7541],\n",
              "       [ 94.919 ,   9.8534],\n",
              "       [104.7524,   9.1048],\n",
              "       [ 96.1751,  12.1324],\n",
              "       [ 86.2508,  10.1858],\n",
              "       [115.3557,   9.2972],\n",
              "       [ 97.2644,   9.6438],\n",
              "       [106.8073,  11.5358],\n",
              "       [ 81.9545,  11.3139],\n",
              "       [111.6996,   9.7176],\n",
              "       [ 96.2011,  10.8067],\n",
              "       [101.9306,   9.6563],\n",
              "       [115.3792,   9.7841],\n",
              "       [ 98.8197,  10.3086],\n",
              "       [ 90.2379,   9.1127],\n",
              "       [ 87.6536,   9.352 ],\n",
              "       [110.5044,  11.0443],\n",
              "       [119.1481,   9.2562],\n",
              "       [108.0359,   9.9123],\n",
              "       [103.587 ,  10.8096],\n",
              "       [110.341 ,   9.2541],\n",
              "       [ 96.2799,   8.6092],\n",
              "       [103.2948,   8.8904],\n",
              "       [107.0039,  10.2115],\n",
              "       [ 90.1914,   9.5531],\n",
              "       [ 87.8928,  10.4569],\n",
              "       [107.4366,   8.1981],\n",
              "       [101.8372,  11.9623],\n",
              "       [101.043 ,   8.816 ],\n",
              "       [ 92.1839,  11.567 ],\n",
              "       [ 99.5761,   9.7945],\n",
              "       [116.7094,  10.6174],\n",
              "       [ 89.2744,  10.6437],\n",
              "       [ 94.5063,   8.7238],\n",
              "       [ 81.6917,   9.6475],\n",
              "       [101.1511,  10.4062],\n",
              "       [113.9114,   9.409 ],\n",
              "       [ 97.1059,   9.9084],\n",
              "       [103.1905,   9.6039],\n",
              "       [ 92.999 ,  11.5054],\n",
              "       [ 95.6464,   9.1353],\n",
              "       [ 79.6987,   7.1676],\n",
              "       [ 98.5794,   8.8273],\n",
              "       [116.6293,  10.5835],\n",
              "       [ 94.2309,   9.8834],\n",
              "       [ 92.1037,  12.8765],\n",
              "       [ 91.9339,  10.5516],\n",
              "       [100.5581,   8.8724],\n",
              "       [108.7157,  10.4616],\n",
              "       [ 96.5005,   8.7618],\n",
              "       [113.7367,   8.4538],\n",
              "       [108.8028,   9.1746],\n",
              "       [ 85.2074,   9.6231],\n",
              "       [ 95.9343,   8.1564],\n",
              "       [ 98.121 ,  10.3363],\n",
              "       [104.7475,   9.4706]])"
            ]
          },
          "metadata": {},
          "execution_count": 162
        }
      ]
    },
    {
      "cell_type": "code",
      "metadata": {
        "id": "tAOL215MiKxu",
        "outputId": "08b937b0-ebbb-4359-ab05-e01503bc691e",
        "colab": {
          "base_uri": "https://localhost:8080/"
        }
      },
      "source": [
        "# Variância calculada pela VarianceThreshold()\n",
        "vt.variances_"
      ],
      "execution_count": 163,
      "outputs": [
        {
          "output_type": "execute_result",
          "data": {
            "text/plain": [
              "array([101.11542812,   0.94095325,   0.24182679])"
            ]
          },
          "metadata": {},
          "execution_count": 163
        }
      ]
    },
    {
      "cell_type": "markdown",
      "metadata": {
        "id": "yntaZtd98boc"
      },
      "source": [
        "### O que aconteceu aqui? Qual a conclusão?"
      ]
    },
    {
      "cell_type": "markdown",
      "metadata": {
        "id": "FXyfpmWtiKyB"
      },
      "source": [
        "___\n",
        "# **ANOVA (Analysis Of Variance) com f_classif**\n",
        "* Aplica-se aos casos em que as colunas a serem testadas sejam numéricas por natureza e a variável-target seja discreta por natureza;\n",
        "* ANOVA é um teste que visa medir diferença entre grupos/experimentos. Aqui, **o propósito da ANOVA é testar se as colunas numéricas testadas são diferentes**. Obviamente que ao identificarmos colunas semelhantes, então podemos reduzir o número de colunas para evitarmos multicolinearidade, overfitting."
      ]
    },
    {
      "cell_type": "code",
      "metadata": {
        "id": "yB7TC9VKiKyC"
      },
      "source": [
        "from sklearn.datasets import load_breast_cancer\n",
        "\n",
        "cancer = load_breast_cancer()\n",
        "X_cancer = cancer.data\n",
        "y_cancer = cancer.target"
      ],
      "execution_count": 164,
      "outputs": []
    },
    {
      "cell_type": "code",
      "metadata": {
        "id": "N2_mE0Z5xxvL",
        "outputId": "c1f5b61f-43cc-4499-c69d-17d9e38fd854",
        "colab": {
          "base_uri": "https://localhost:8080/"
        }
      },
      "source": [
        "X_cancer"
      ],
      "execution_count": 165,
      "outputs": [
        {
          "output_type": "execute_result",
          "data": {
            "text/plain": [
              "array([[1.799e+01, 1.038e+01, 1.228e+02, ..., 2.654e-01, 4.601e-01,\n",
              "        1.189e-01],\n",
              "       [2.057e+01, 1.777e+01, 1.329e+02, ..., 1.860e-01, 2.750e-01,\n",
              "        8.902e-02],\n",
              "       [1.969e+01, 2.125e+01, 1.300e+02, ..., 2.430e-01, 3.613e-01,\n",
              "        8.758e-02],\n",
              "       ...,\n",
              "       [1.660e+01, 2.808e+01, 1.083e+02, ..., 1.418e-01, 2.218e-01,\n",
              "        7.820e-02],\n",
              "       [2.060e+01, 2.933e+01, 1.401e+02, ..., 2.650e-01, 4.087e-01,\n",
              "        1.240e-01],\n",
              "       [7.760e+00, 2.454e+01, 4.792e+01, ..., 0.000e+00, 2.871e-01,\n",
              "        7.039e-02]])"
            ]
          },
          "metadata": {},
          "execution_count": 165
        }
      ]
    },
    {
      "cell_type": "code",
      "metadata": {
        "id": "xrAbeoAQFeq-",
        "outputId": "7cbe00ed-9207-4e78-c5c1-e39238cef441",
        "colab": {
          "base_uri": "https://localhost:8080/"
        }
      },
      "source": [
        "y_cancer # A variável-resposta é do tipo binária --> Este é um problema de CLASSIFICAÇÃO!"
      ],
      "execution_count": 166,
      "outputs": [
        {
          "output_type": "execute_result",
          "data": {
            "text/plain": [
              "array([0, 0, 0, 0, 0, 0, 0, 0, 0, 0, 0, 0, 0, 0, 0, 0, 0, 0, 0, 1, 1, 1,\n",
              "       0, 0, 0, 0, 0, 0, 0, 0, 0, 0, 0, 0, 0, 0, 0, 1, 0, 0, 0, 0, 0, 0,\n",
              "       0, 0, 1, 0, 1, 1, 1, 1, 1, 0, 0, 1, 0, 0, 1, 1, 1, 1, 0, 1, 0, 0,\n",
              "       1, 1, 1, 1, 0, 1, 0, 0, 1, 0, 1, 0, 0, 1, 1, 1, 0, 0, 1, 0, 0, 0,\n",
              "       1, 1, 1, 0, 1, 1, 0, 0, 1, 1, 1, 0, 0, 1, 1, 1, 1, 0, 1, 1, 0, 1,\n",
              "       1, 1, 1, 1, 1, 1, 1, 0, 0, 0, 1, 0, 0, 1, 1, 1, 0, 0, 1, 0, 1, 0,\n",
              "       0, 1, 0, 0, 1, 1, 0, 1, 1, 0, 1, 1, 1, 1, 0, 1, 1, 1, 1, 1, 1, 1,\n",
              "       1, 1, 0, 1, 1, 1, 1, 0, 0, 1, 0, 1, 1, 0, 0, 1, 1, 0, 0, 1, 1, 1,\n",
              "       1, 0, 1, 1, 0, 0, 0, 1, 0, 1, 0, 1, 1, 1, 0, 1, 1, 0, 0, 1, 0, 0,\n",
              "       0, 0, 1, 0, 0, 0, 1, 0, 1, 0, 1, 1, 0, 1, 0, 0, 0, 0, 1, 1, 0, 0,\n",
              "       1, 1, 1, 0, 1, 1, 1, 1, 1, 0, 0, 1, 1, 0, 1, 1, 0, 0, 1, 0, 1, 1,\n",
              "       1, 1, 0, 1, 1, 1, 1, 1, 0, 1, 0, 0, 0, 0, 0, 0, 0, 0, 0, 0, 0, 0,\n",
              "       0, 0, 1, 1, 1, 1, 1, 1, 0, 1, 0, 1, 1, 0, 1, 1, 0, 1, 0, 0, 1, 1,\n",
              "       1, 1, 1, 1, 1, 1, 1, 1, 1, 1, 1, 0, 1, 1, 0, 1, 0, 1, 1, 1, 1, 1,\n",
              "       1, 1, 1, 1, 1, 1, 1, 1, 1, 0, 1, 1, 1, 0, 1, 0, 1, 1, 1, 1, 0, 0,\n",
              "       0, 1, 1, 1, 1, 0, 1, 0, 1, 0, 1, 1, 1, 0, 1, 1, 1, 1, 1, 1, 1, 0,\n",
              "       0, 0, 1, 1, 1, 1, 1, 1, 1, 1, 1, 1, 1, 0, 0, 1, 0, 0, 0, 1, 0, 0,\n",
              "       1, 1, 1, 1, 1, 0, 1, 1, 1, 1, 1, 0, 1, 1, 1, 0, 1, 1, 0, 0, 1, 1,\n",
              "       1, 1, 1, 1, 0, 1, 1, 1, 1, 1, 1, 1, 0, 1, 1, 1, 1, 1, 0, 1, 1, 0,\n",
              "       1, 1, 1, 1, 1, 1, 1, 1, 1, 1, 1, 1, 0, 1, 0, 0, 1, 0, 1, 1, 1, 1,\n",
              "       1, 0, 1, 1, 0, 1, 0, 1, 1, 0, 1, 0, 1, 1, 1, 1, 1, 1, 1, 1, 0, 0,\n",
              "       1, 1, 1, 1, 1, 1, 0, 1, 1, 1, 1, 1, 1, 1, 1, 1, 1, 0, 1, 1, 1, 1,\n",
              "       1, 1, 1, 0, 1, 0, 1, 1, 0, 1, 1, 1, 1, 1, 0, 0, 1, 0, 1, 0, 1, 1,\n",
              "       1, 1, 1, 0, 1, 1, 0, 1, 0, 1, 0, 0, 1, 1, 1, 0, 1, 1, 1, 1, 1, 1,\n",
              "       1, 1, 1, 1, 1, 0, 1, 0, 0, 1, 1, 1, 1, 1, 1, 1, 1, 1, 1, 1, 1, 1,\n",
              "       1, 1, 1, 1, 1, 1, 1, 1, 1, 1, 1, 1, 0, 0, 0, 0, 0, 0, 1])"
            ]
          },
          "metadata": {},
          "execution_count": 166
        }
      ]
    },
    {
      "cell_type": "code",
      "metadata": {
        "id": "t0QYORbSiKyL"
      },
      "source": [
        "# f_classif() para problemas de CLASSIFICAÇÃO\n",
        "chi2, p_value = feature_selection.f_classif(X_cancer, y_cancer)"
      ],
      "execution_count": 167,
      "outputs": []
    },
    {
      "cell_type": "code",
      "metadata": {
        "id": "7BC6y7etiKyP",
        "outputId": "6ae932f5-44d0-40d0-a35a-6fd4089b0439",
        "colab": {
          "base_uri": "https://localhost:8080/"
        }
      },
      "source": [
        "np.round(chi2)"
      ],
      "execution_count": 168,
      "outputs": [
        {
          "output_type": "execute_result",
          "data": {
            "text/plain": [
              "array([647., 118., 697., 573.,  84., 313., 534., 862.,  70.,   0., 269.,\n",
              "         0., 254., 244.,   3.,  53.,  39., 113.,   0.,   3., 861., 150.,\n",
              "       898., 662., 122., 304., 437., 964., 119.,  66.])"
            ]
          },
          "metadata": {},
          "execution_count": 168
        }
      ]
    },
    {
      "cell_type": "markdown",
      "metadata": {
        "id": "aYSOfeH4iKyW"
      },
      "source": [
        "* **Comentário**: Acima, cada valor representa a importância de uma feature/coluna ==> **Quanto maior, melhor!**"
      ]
    },
    {
      "cell_type": "code",
      "metadata": {
        "id": "k1fHrPM4upex",
        "outputId": "6efdfdff-061e-463b-9482-ba871ce6288f",
        "colab": {
          "base_uri": "https://localhost:8080/"
        }
      },
      "source": [
        "list(zip(cancer.feature_names, np.round(p_value, 2)))"
      ],
      "execution_count": 169,
      "outputs": [
        {
          "output_type": "execute_result",
          "data": {
            "text/plain": [
              "[('mean radius', 0.0),\n",
              " ('mean texture', 0.0),\n",
              " ('mean perimeter', 0.0),\n",
              " ('mean area', 0.0),\n",
              " ('mean smoothness', 0.0),\n",
              " ('mean compactness', 0.0),\n",
              " ('mean concavity', 0.0),\n",
              " ('mean concave points', 0.0),\n",
              " ('mean symmetry', 0.0),\n",
              " ('mean fractal dimension', 0.76),\n",
              " ('radius error', 0.0),\n",
              " ('texture error', 0.84),\n",
              " ('perimeter error', 0.0),\n",
              " ('area error', 0.0),\n",
              " ('smoothness error', 0.11),\n",
              " ('compactness error', 0.0),\n",
              " ('concavity error', 0.0),\n",
              " ('concave points error', 0.0),\n",
              " ('symmetry error', 0.88),\n",
              " ('fractal dimension error', 0.06),\n",
              " ('worst radius', 0.0),\n",
              " ('worst texture', 0.0),\n",
              " ('worst perimeter', 0.0),\n",
              " ('worst area', 0.0),\n",
              " ('worst smoothness', 0.0),\n",
              " ('worst compactness', 0.0),\n",
              " ('worst concavity', 0.0),\n",
              " ('worst concave points', 0.0),\n",
              " ('worst symmetry', 0.0),\n",
              " ('worst fractal dimension', 0.0)]"
            ]
          },
          "metadata": {},
          "execution_count": 169
        }
      ]
    },
    {
      "cell_type": "markdown",
      "metadata": {
        "id": "1JYciSVkMW8f"
      },
      "source": [
        "* **Comentário**: Acima, os p_value's associados à cada valor de chi2 ==> **Quanto menor, melhor!**"
      ]
    },
    {
      "cell_type": "markdown",
      "metadata": {
        "id": "1YVBLc7eu6_H"
      },
      "source": [
        "## **Conclusão**: **Foco no p_value**. Se p_value < 0.05 ==> variável significativa/relevante para o modelo."
      ]
    },
    {
      "cell_type": "markdown",
      "metadata": {
        "id": "r29_gmCgiKyY"
      },
      "source": [
        "___\n",
        "# **Univariate Regression Test using f_regression**\n",
        "* Modelo Linear para testar o efeito individual de cada uma das variáveis regressoras;\n",
        "* **Como funciona**:\n",
        "    * Usa a correlação entre cada variável e variável-target;\n",
        "    * F-test calcula a dependência linear;"
      ]
    },
    {
      "cell_type": "code",
      "metadata": {
        "id": "6IDzu3kCiKyZ",
        "outputId": "55052664-58a2-4162-eb5a-097344e67b0a",
        "colab": {
          "base_uri": "https://localhost:8080/"
        }
      },
      "source": [
        "from sklearn.datasets import fetch_california_housing\n",
        "\n",
        "house_data = fetch_california_housing() # Call fetch_california_housing to load the dataset\n",
        "X_house, y_house = house_data.data, house_data.target\n",
        "\n",
        "X_house"
      ],
      "execution_count": 170,
      "outputs": [
        {
          "output_type": "execute_result",
          "data": {
            "text/plain": [
              "array([[   8.3252    ,   41.        ,    6.98412698, ...,    2.55555556,\n",
              "          37.88      , -122.23      ],\n",
              "       [   8.3014    ,   21.        ,    6.23813708, ...,    2.10984183,\n",
              "          37.86      , -122.22      ],\n",
              "       [   7.2574    ,   52.        ,    8.28813559, ...,    2.80225989,\n",
              "          37.85      , -122.24      ],\n",
              "       ...,\n",
              "       [   1.7       ,   17.        ,    5.20554273, ...,    2.3256351 ,\n",
              "          39.43      , -121.22      ],\n",
              "       [   1.8672    ,   18.        ,    5.32951289, ...,    2.12320917,\n",
              "          39.43      , -121.32      ],\n",
              "       [   2.3886    ,   16.        ,    5.25471698, ...,    2.61698113,\n",
              "          39.37      , -121.24      ]])"
            ]
          },
          "metadata": {},
          "execution_count": 170
        }
      ]
    },
    {
      "cell_type": "code",
      "metadata": {
        "id": "1DS9T6WXw8qN",
        "outputId": "28c06a74-35d4-49b9-b66b-885afbeff665",
        "colab": {
          "base_uri": "https://localhost:8080/"
        }
      },
      "source": [
        "y_house # Variável-target é contínua --> Este é um problema de REGRESSÃO"
      ],
      "execution_count": 171,
      "outputs": [
        {
          "output_type": "execute_result",
          "data": {
            "text/plain": [
              "array([4.526, 3.585, 3.521, ..., 0.923, 0.847, 0.894])"
            ]
          },
          "metadata": {},
          "execution_count": 171
        }
      ]
    },
    {
      "cell_type": "code",
      "metadata": {
        "id": "uKYhjpEViKyl"
      },
      "source": [
        "# f_regression() para problemas de REGRESSÃO:\n",
        "F, p_value = feature_selection.f_regression(X_house, y_house)"
      ],
      "execution_count": 172,
      "outputs": []
    },
    {
      "cell_type": "code",
      "metadata": {
        "id": "NEqZ3I4jiKyp",
        "outputId": "8a1bc581-a3ff-4ced-de2e-1c25fbaad74a",
        "colab": {
          "base_uri": "https://localhost:8080/"
        }
      },
      "source": [
        "np.round(F, 2)"
      ],
      "execution_count": 173,
      "outputs": [
        {
          "output_type": "execute_result",
          "data": {
            "text/plain": [
              "array([1.855657e+04, 2.328400e+02, 4.877600e+02, 4.511000e+01,\n",
              "       1.255000e+01, 1.164000e+01, 4.380100e+02, 4.370000e+01])"
            ]
          },
          "metadata": {},
          "execution_count": 173
        }
      ]
    },
    {
      "cell_type": "markdown",
      "metadata": {
        "id": "Rsaf7y8MiKyt"
      },
      "source": [
        "### **Comentários**: Colunas com alto F-values tem maior poder preditivo. Portanto, **quanto maior, melhor**."
      ]
    },
    {
      "cell_type": "code",
      "metadata": {
        "id": "Fh80Xf8KG-Vj",
        "outputId": "2c943dc9-3beb-4644-8d82-131e7aaf667f",
        "colab": {
          "base_uri": "https://localhost:8080/"
        }
      },
      "source": [
        "np.round(p_value, 2)"
      ],
      "execution_count": 174,
      "outputs": [
        {
          "output_type": "execute_result",
          "data": {
            "text/plain": [
              "array([0., 0., 0., 0., 0., 0., 0., 0.])"
            ]
          },
          "metadata": {},
          "execution_count": 174
        }
      ]
    },
    {
      "cell_type": "markdown",
      "metadata": {
        "id": "DD-JKUQ1xjR8"
      },
      "source": [
        "### **Conclusão**: **Foco no p_value**. Se p_value < 0.05 ==> variável significativa/relevante para o modelo."
      ]
    },
    {
      "cell_type": "markdown",
      "metadata": {
        "id": "xvIXLHK9iKz8"
      },
      "source": [
        "___\n",
        "# **SelectFromModel**\n",
        "* **Objetivo**: Prever os preços das casas baseado nos atributos/variáveis do dataframe."
      ]
    },
    {
      "cell_type": "code",
      "metadata": {
        "id": "p0mtUVnjiKz8",
        "outputId": "374f25b2-e872-44b6-eef9-017b4c88c53e",
        "colab": {
          "base_uri": "https://localhost:8080/"
        }
      },
      "source": [
        "from sklearn.datasets import fetch_california_housing # importing the california california dataset\n",
        "\n",
        "california = fetch_california_housing() # Loading the dataset\n",
        "X_california, y_california = california.data, california.target # Assigning data and target to variables\n",
        "X_california # Display the data"
      ],
      "execution_count": 175,
      "outputs": [
        {
          "output_type": "execute_result",
          "data": {
            "text/plain": [
              "array([[   8.3252    ,   41.        ,    6.98412698, ...,    2.55555556,\n",
              "          37.88      , -122.23      ],\n",
              "       [   8.3014    ,   21.        ,    6.23813708, ...,    2.10984183,\n",
              "          37.86      , -122.22      ],\n",
              "       [   7.2574    ,   52.        ,    8.28813559, ...,    2.80225989,\n",
              "          37.85      , -122.24      ],\n",
              "       ...,\n",
              "       [   1.7       ,   17.        ,    5.20554273, ...,    2.3256351 ,\n",
              "          39.43      , -121.22      ],\n",
              "       [   1.8672    ,   18.        ,    5.32951289, ...,    2.12320917,\n",
              "          39.43      , -121.32      ],\n",
              "       [   2.3886    ,   16.        ,    5.25471698, ...,    2.61698113,\n",
              "          39.37      , -121.24      ]])"
            ]
          },
          "metadata": {},
          "execution_count": 175
        }
      ]
    },
    {
      "cell_type": "markdown",
      "metadata": {
        "id": "NjXroetjISB5"
      },
      "source": [
        "Observe abaixo que o dataframe X_boston possui 13 colunas/variáveis/preditoras:"
      ]
    },
    {
      "cell_type": "code",
      "metadata": {
        "id": "W-Z6ukA_ILMq",
        "outputId": "8b4c9c6d-6b8c-49bd-da09-6877025fbf00",
        "colab": {
          "base_uri": "https://localhost:8080/"
        }
      },
      "source": [
        "# Dados originais\n",
        "X_california.shape"
      ],
      "execution_count": 176,
      "outputs": [
        {
          "output_type": "execute_result",
          "data": {
            "text/plain": [
              "(20640, 8)"
            ]
          },
          "metadata": {},
          "execution_count": 176
        }
      ]
    },
    {
      "cell_type": "code",
      "metadata": {
        "id": "TEjKNsKAHeX_",
        "outputId": "1159084d-7f0a-4e06-9487-eb7888d4e80e",
        "colab": {
          "base_uri": "https://localhost:8080/"
        }
      },
      "source": [
        "# Observe abaixo que a variável-target é float/contínua ==> Portanto, é um problema de REGRESSÃO!\n",
        "y_california"
      ],
      "execution_count": 177,
      "outputs": [
        {
          "output_type": "execute_result",
          "data": {
            "text/plain": [
              "array([4.526, 3.585, 3.521, ..., 0.923, 0.847, 0.894])"
            ]
          },
          "metadata": {},
          "execution_count": 177
        }
      ]
    },
    {
      "cell_type": "markdown",
      "metadata": {
        "id": "pG90GtvyHvUG"
      },
      "source": [
        "Abaixo, carregamos a library para resolver o problema de REGRESSÃO:"
      ]
    },
    {
      "cell_type": "code",
      "metadata": {
        "id": "WY1c2U10iK0A"
      },
      "source": [
        "from sklearn.linear_model import LinearRegression"
      ],
      "execution_count": 178,
      "outputs": []
    },
    {
      "cell_type": "code",
      "metadata": {
        "id": "2zNpau9HiK0C"
      },
      "source": [
        "ml_lr = LinearRegression()\n",
        "sfm = feature_selection.SelectFromModel(ml_lr, threshold = 0.25)"
      ],
      "execution_count": 179,
      "outputs": []
    },
    {
      "cell_type": "code",
      "metadata": {
        "id": "62vOFTVViK0D",
        "outputId": "7d5b67ad-c468-4cde-8016-aeffed3f99c6",
        "colab": {
          "base_uri": "https://localhost:8080/"
        }
      },
      "source": [
        "# Dataframe com as colunas mais relevantes\n",
        "sfm.fit_transform(X_california, y_california).shape"
      ],
      "execution_count": 180,
      "outputs": [
        {
          "output_type": "execute_result",
          "data": {
            "text/plain": [
              "(20640, 4)"
            ]
          },
          "metadata": {},
          "execution_count": 180
        }
      ]
    },
    {
      "cell_type": "markdown",
      "metadata": {
        "id": "yX5oufYkcrH7"
      },
      "source": [
        "### **Conclusão**: Houve uma redução no número de colunas."
      ]
    },
    {
      "cell_type": "markdown",
      "metadata": {
        "id": "FaGrKVl0Re2A"
      },
      "source": [
        "Abaixo, o indicador das colunas que foram selecionadas:"
      ]
    },
    {
      "cell_type": "code",
      "metadata": {
        "id": "hYVIANETRE2p"
      },
      "source": [
        "l_variaveis_selecionadas = sfm.get_support()\n",
        "list(zip(california.feature_names, l_variaveis_selecionadas))"
      ],
      "execution_count": null,
      "outputs": []
    },
    {
      "cell_type": "markdown",
      "metadata": {
        "id": "ol88OWzaVpJi"
      },
      "source": [
        "___\n",
        "# **Análise de Correlação**\n",
        "* É sempre uma boa ideia eliminar colunas altamente correlacionadas do dataframe, pois colunas altamente correlacionadas fornecem a mesma informação.\n",
        "\n",
        "Fonte: [Better Heatmaps and Correlation Matrix Plots in Python](https://towardsdatascience.com/better-heatmaps-and-correlation-matrix-plots-in-python-41445d0f2bec)"
      ]
    },
    {
      "cell_type": "code",
      "metadata": {
        "id": "KWBe1v_6V5HB"
      },
      "source": [
        "import seaborn as sns\n",
        "import matplotlib.pyplot as plt\n",
        "%matplotlib inline\n",
        "\n",
        "from sklearn.datasets import load_breast_cancer\n",
        "df_cancer = load_breast_cancer()"
      ],
      "execution_count": 181,
      "outputs": []
    },
    {
      "cell_type": "code",
      "metadata": {
        "id": "vDz4Byzk8yA9"
      },
      "source": [
        "X_cancer = pd.DataFrame(df_cancer.data)\n",
        "y_cancer = df_cancer.target"
      ],
      "execution_count": 182,
      "outputs": []
    },
    {
      "cell_type": "markdown",
      "metadata": {
        "id": "XIPITCn4cgjs"
      },
      "source": [
        "Usando a correlação de Pearson:"
      ]
    },
    {
      "cell_type": "code",
      "metadata": {
        "id": "0vHleiMlxuCG",
        "outputId": "09886c3e-47eb-454d-9418-759615264064",
        "colab": {
          "base_uri": "https://localhost:8080/",
          "height": 1000
        }
      },
      "source": [
        "# calcula a correlação entre as colunas/variáveis do dataframe\n",
        "correlacao = X_cancer.corr().abs()\n",
        "\n",
        "# Seleciona o triângulo superior da matriz de correlação\n",
        "# Use bool instead of the deprecated np.bool\n",
        "correlacao = correlacao.where(np.triu(np.ones(correlacao.shape), k=1).astype(bool))\n",
        "correlacao"
      ],
      "execution_count": 183,
      "outputs": [
        {
          "output_type": "execute_result",
          "data": {
            "text/plain": [
              "    0         1         2         3         4         5         6         7   \\\n",
              "0  NaN  0.323782  0.997855  0.987357  0.170581  0.506124  0.676764  0.822529   \n",
              "1  NaN       NaN  0.329533  0.321086  0.023389  0.236702  0.302418  0.293464   \n",
              "2  NaN       NaN       NaN  0.986507  0.207278  0.556936  0.716136  0.850977   \n",
              "3  NaN       NaN       NaN       NaN  0.177028  0.498502  0.685983  0.823269   \n",
              "4  NaN       NaN       NaN       NaN       NaN  0.659123  0.521984  0.553695   \n",
              "5  NaN       NaN       NaN       NaN       NaN       NaN  0.883121  0.831135   \n",
              "6  NaN       NaN       NaN       NaN       NaN       NaN       NaN  0.921391   \n",
              "7  NaN       NaN       NaN       NaN       NaN       NaN       NaN       NaN   \n",
              "8  NaN       NaN       NaN       NaN       NaN       NaN       NaN       NaN   \n",
              "9  NaN       NaN       NaN       NaN       NaN       NaN       NaN       NaN   \n",
              "10 NaN       NaN       NaN       NaN       NaN       NaN       NaN       NaN   \n",
              "11 NaN       NaN       NaN       NaN       NaN       NaN       NaN       NaN   \n",
              "12 NaN       NaN       NaN       NaN       NaN       NaN       NaN       NaN   \n",
              "13 NaN       NaN       NaN       NaN       NaN       NaN       NaN       NaN   \n",
              "14 NaN       NaN       NaN       NaN       NaN       NaN       NaN       NaN   \n",
              "15 NaN       NaN       NaN       NaN       NaN       NaN       NaN       NaN   \n",
              "16 NaN       NaN       NaN       NaN       NaN       NaN       NaN       NaN   \n",
              "17 NaN       NaN       NaN       NaN       NaN       NaN       NaN       NaN   \n",
              "18 NaN       NaN       NaN       NaN       NaN       NaN       NaN       NaN   \n",
              "19 NaN       NaN       NaN       NaN       NaN       NaN       NaN       NaN   \n",
              "20 NaN       NaN       NaN       NaN       NaN       NaN       NaN       NaN   \n",
              "21 NaN       NaN       NaN       NaN       NaN       NaN       NaN       NaN   \n",
              "22 NaN       NaN       NaN       NaN       NaN       NaN       NaN       NaN   \n",
              "23 NaN       NaN       NaN       NaN       NaN       NaN       NaN       NaN   \n",
              "24 NaN       NaN       NaN       NaN       NaN       NaN       NaN       NaN   \n",
              "25 NaN       NaN       NaN       NaN       NaN       NaN       NaN       NaN   \n",
              "26 NaN       NaN       NaN       NaN       NaN       NaN       NaN       NaN   \n",
              "27 NaN       NaN       NaN       NaN       NaN       NaN       NaN       NaN   \n",
              "28 NaN       NaN       NaN       NaN       NaN       NaN       NaN       NaN   \n",
              "29 NaN       NaN       NaN       NaN       NaN       NaN       NaN       NaN   \n",
              "\n",
              "          8         9   ...        20        21        22        23        24  \\\n",
              "0   0.147741  0.311631  ...  0.969539  0.297008  0.965137  0.941082  0.119616   \n",
              "1   0.071401  0.076437  ...  0.352573  0.912045  0.358040  0.343546  0.077503   \n",
              "2   0.183027  0.261477  ...  0.969476  0.303038  0.970387  0.941550  0.150549   \n",
              "3   0.151293  0.283110  ...  0.962746  0.287489  0.959120  0.959213  0.123523   \n",
              "4   0.557775  0.584792  ...  0.213120  0.036072  0.238853  0.206718  0.805324   \n",
              "5   0.602641  0.565369  ...  0.535315  0.248133  0.590210  0.509604  0.565541   \n",
              "6   0.500667  0.336783  ...  0.688236  0.299879  0.729565  0.675987  0.448822   \n",
              "7   0.462497  0.166917  ...  0.830318  0.292752  0.855923  0.809630  0.452753   \n",
              "8        NaN  0.479921  ...  0.185728  0.090651  0.219169  0.177193  0.426675   \n",
              "9        NaN       NaN  ...  0.253691  0.051269  0.205151  0.231854  0.504942   \n",
              "10       NaN       NaN  ...  0.715065  0.194799  0.719684  0.751548  0.141919   \n",
              "11       NaN       NaN  ...  0.111690  0.409003  0.102242  0.083195  0.073658   \n",
              "12       NaN       NaN  ...  0.697201  0.200371  0.721031  0.730713  0.130054   \n",
              "13       NaN       NaN  ...  0.757373  0.196497  0.761213  0.811408  0.125389   \n",
              "14       NaN       NaN  ...  0.230691  0.074743  0.217304  0.182195  0.314457   \n",
              "15       NaN       NaN  ...  0.204607  0.143003  0.260516  0.199371  0.227394   \n",
              "16       NaN       NaN  ...  0.186904  0.100241  0.226680  0.188353  0.168481   \n",
              "17       NaN       NaN  ...  0.358127  0.086741  0.394999  0.342271  0.215351   \n",
              "18       NaN       NaN  ...  0.128121  0.077473  0.103753  0.110343  0.012662   \n",
              "19       NaN       NaN  ...  0.037488  0.003195  0.001000  0.022736  0.170568   \n",
              "20       NaN       NaN  ...       NaN  0.359921  0.993708  0.984015  0.216574   \n",
              "21       NaN       NaN  ...       NaN       NaN  0.365098  0.345842  0.225429   \n",
              "22       NaN       NaN  ...       NaN       NaN       NaN  0.977578  0.236775   \n",
              "23       NaN       NaN  ...       NaN       NaN       NaN       NaN  0.209145   \n",
              "24       NaN       NaN  ...       NaN       NaN       NaN       NaN       NaN   \n",
              "25       NaN       NaN  ...       NaN       NaN       NaN       NaN       NaN   \n",
              "26       NaN       NaN  ...       NaN       NaN       NaN       NaN       NaN   \n",
              "27       NaN       NaN  ...       NaN       NaN       NaN       NaN       NaN   \n",
              "28       NaN       NaN  ...       NaN       NaN       NaN       NaN       NaN   \n",
              "29       NaN       NaN  ...       NaN       NaN       NaN       NaN       NaN   \n",
              "\n",
              "          25        26        27        28        29  \n",
              "0   0.413463  0.526911  0.744214  0.163953  0.007066  \n",
              "1   0.277830  0.301025  0.295316  0.105008  0.119205  \n",
              "2   0.455774  0.563879  0.771241  0.189115  0.051019  \n",
              "3   0.390410  0.512606  0.722017  0.143570  0.003738  \n",
              "4   0.472468  0.434926  0.503053  0.394309  0.499316  \n",
              "5   0.865809  0.816275  0.815573  0.510223  0.687382  \n",
              "6   0.754968  0.884103  0.861323  0.409464  0.514930  \n",
              "7   0.667454  0.752399  0.910155  0.375744  0.368661  \n",
              "8   0.473200  0.433721  0.430297  0.699826  0.438413  \n",
              "9   0.458798  0.346234  0.175325  0.334019  0.767297  \n",
              "10  0.287103  0.380585  0.531062  0.094543  0.049559  \n",
              "11  0.092439  0.068956  0.119638  0.128215  0.045655  \n",
              "12  0.341919  0.418899  0.554897  0.109930  0.085433  \n",
              "13  0.283257  0.385100  0.538166  0.074126  0.017539  \n",
              "14  0.055558  0.058298  0.102007  0.107342  0.101480  \n",
              "15  0.678780  0.639147  0.483208  0.277878  0.590973  \n",
              "16  0.484858  0.662564  0.440472  0.197788  0.439329  \n",
              "17  0.452888  0.549592  0.602450  0.143116  0.310655  \n",
              "18  0.060255  0.037119  0.030413  0.389402  0.078079  \n",
              "19  0.390159  0.379975  0.215204  0.111094  0.591328  \n",
              "20  0.475820  0.573975  0.787424  0.243529  0.093492  \n",
              "21  0.360832  0.368366  0.359755  0.233027  0.219122  \n",
              "22  0.529408  0.618344  0.816322  0.269493  0.138957  \n",
              "23  0.438296  0.543331  0.747419  0.209146  0.079647  \n",
              "24  0.568187  0.518523  0.547691  0.493838  0.617624  \n",
              "25       NaN  0.892261  0.801080  0.614441  0.810455  \n",
              "26       NaN       NaN  0.855434  0.532520  0.686511  \n",
              "27       NaN       NaN       NaN  0.502528  0.511114  \n",
              "28       NaN       NaN       NaN       NaN  0.537848  \n",
              "29       NaN       NaN       NaN       NaN       NaN  \n",
              "\n",
              "[30 rows x 30 columns]"
            ],
            "text/html": [
              "\n",
              "  <div id=\"df-107b98cb-12d7-4a0c-a955-21b6a7bfe60a\" class=\"colab-df-container\">\n",
              "    <div>\n",
              "<style scoped>\n",
              "    .dataframe tbody tr th:only-of-type {\n",
              "        vertical-align: middle;\n",
              "    }\n",
              "\n",
              "    .dataframe tbody tr th {\n",
              "        vertical-align: top;\n",
              "    }\n",
              "\n",
              "    .dataframe thead th {\n",
              "        text-align: right;\n",
              "    }\n",
              "</style>\n",
              "<table border=\"1\" class=\"dataframe\">\n",
              "  <thead>\n",
              "    <tr style=\"text-align: right;\">\n",
              "      <th></th>\n",
              "      <th>0</th>\n",
              "      <th>1</th>\n",
              "      <th>2</th>\n",
              "      <th>3</th>\n",
              "      <th>4</th>\n",
              "      <th>5</th>\n",
              "      <th>6</th>\n",
              "      <th>7</th>\n",
              "      <th>8</th>\n",
              "      <th>9</th>\n",
              "      <th>...</th>\n",
              "      <th>20</th>\n",
              "      <th>21</th>\n",
              "      <th>22</th>\n",
              "      <th>23</th>\n",
              "      <th>24</th>\n",
              "      <th>25</th>\n",
              "      <th>26</th>\n",
              "      <th>27</th>\n",
              "      <th>28</th>\n",
              "      <th>29</th>\n",
              "    </tr>\n",
              "  </thead>\n",
              "  <tbody>\n",
              "    <tr>\n",
              "      <th>0</th>\n",
              "      <td>NaN</td>\n",
              "      <td>0.323782</td>\n",
              "      <td>0.997855</td>\n",
              "      <td>0.987357</td>\n",
              "      <td>0.170581</td>\n",
              "      <td>0.506124</td>\n",
              "      <td>0.676764</td>\n",
              "      <td>0.822529</td>\n",
              "      <td>0.147741</td>\n",
              "      <td>0.311631</td>\n",
              "      <td>...</td>\n",
              "      <td>0.969539</td>\n",
              "      <td>0.297008</td>\n",
              "      <td>0.965137</td>\n",
              "      <td>0.941082</td>\n",
              "      <td>0.119616</td>\n",
              "      <td>0.413463</td>\n",
              "      <td>0.526911</td>\n",
              "      <td>0.744214</td>\n",
              "      <td>0.163953</td>\n",
              "      <td>0.007066</td>\n",
              "    </tr>\n",
              "    <tr>\n",
              "      <th>1</th>\n",
              "      <td>NaN</td>\n",
              "      <td>NaN</td>\n",
              "      <td>0.329533</td>\n",
              "      <td>0.321086</td>\n",
              "      <td>0.023389</td>\n",
              "      <td>0.236702</td>\n",
              "      <td>0.302418</td>\n",
              "      <td>0.293464</td>\n",
              "      <td>0.071401</td>\n",
              "      <td>0.076437</td>\n",
              "      <td>...</td>\n",
              "      <td>0.352573</td>\n",
              "      <td>0.912045</td>\n",
              "      <td>0.358040</td>\n",
              "      <td>0.343546</td>\n",
              "      <td>0.077503</td>\n",
              "      <td>0.277830</td>\n",
              "      <td>0.301025</td>\n",
              "      <td>0.295316</td>\n",
              "      <td>0.105008</td>\n",
              "      <td>0.119205</td>\n",
              "    </tr>\n",
              "    <tr>\n",
              "      <th>2</th>\n",
              "      <td>NaN</td>\n",
              "      <td>NaN</td>\n",
              "      <td>NaN</td>\n",
              "      <td>0.986507</td>\n",
              "      <td>0.207278</td>\n",
              "      <td>0.556936</td>\n",
              "      <td>0.716136</td>\n",
              "      <td>0.850977</td>\n",
              "      <td>0.183027</td>\n",
              "      <td>0.261477</td>\n",
              "      <td>...</td>\n",
              "      <td>0.969476</td>\n",
              "      <td>0.303038</td>\n",
              "      <td>0.970387</td>\n",
              "      <td>0.941550</td>\n",
              "      <td>0.150549</td>\n",
              "      <td>0.455774</td>\n",
              "      <td>0.563879</td>\n",
              "      <td>0.771241</td>\n",
              "      <td>0.189115</td>\n",
              "      <td>0.051019</td>\n",
              "    </tr>\n",
              "    <tr>\n",
              "      <th>3</th>\n",
              "      <td>NaN</td>\n",
              "      <td>NaN</td>\n",
              "      <td>NaN</td>\n",
              "      <td>NaN</td>\n",
              "      <td>0.177028</td>\n",
              "      <td>0.498502</td>\n",
              "      <td>0.685983</td>\n",
              "      <td>0.823269</td>\n",
              "      <td>0.151293</td>\n",
              "      <td>0.283110</td>\n",
              "      <td>...</td>\n",
              "      <td>0.962746</td>\n",
              "      <td>0.287489</td>\n",
              "      <td>0.959120</td>\n",
              "      <td>0.959213</td>\n",
              "      <td>0.123523</td>\n",
              "      <td>0.390410</td>\n",
              "      <td>0.512606</td>\n",
              "      <td>0.722017</td>\n",
              "      <td>0.143570</td>\n",
              "      <td>0.003738</td>\n",
              "    </tr>\n",
              "    <tr>\n",
              "      <th>4</th>\n",
              "      <td>NaN</td>\n",
              "      <td>NaN</td>\n",
              "      <td>NaN</td>\n",
              "      <td>NaN</td>\n",
              "      <td>NaN</td>\n",
              "      <td>0.659123</td>\n",
              "      <td>0.521984</td>\n",
              "      <td>0.553695</td>\n",
              "      <td>0.557775</td>\n",
              "      <td>0.584792</td>\n",
              "      <td>...</td>\n",
              "      <td>0.213120</td>\n",
              "      <td>0.036072</td>\n",
              "      <td>0.238853</td>\n",
              "      <td>0.206718</td>\n",
              "      <td>0.805324</td>\n",
              "      <td>0.472468</td>\n",
              "      <td>0.434926</td>\n",
              "      <td>0.503053</td>\n",
              "      <td>0.394309</td>\n",
              "      <td>0.499316</td>\n",
              "    </tr>\n",
              "    <tr>\n",
              "      <th>5</th>\n",
              "      <td>NaN</td>\n",
              "      <td>NaN</td>\n",
              "      <td>NaN</td>\n",
              "      <td>NaN</td>\n",
              "      <td>NaN</td>\n",
              "      <td>NaN</td>\n",
              "      <td>0.883121</td>\n",
              "      <td>0.831135</td>\n",
              "      <td>0.602641</td>\n",
              "      <td>0.565369</td>\n",
              "      <td>...</td>\n",
              "      <td>0.535315</td>\n",
              "      <td>0.248133</td>\n",
              "      <td>0.590210</td>\n",
              "      <td>0.509604</td>\n",
              "      <td>0.565541</td>\n",
              "      <td>0.865809</td>\n",
              "      <td>0.816275</td>\n",
              "      <td>0.815573</td>\n",
              "      <td>0.510223</td>\n",
              "      <td>0.687382</td>\n",
              "    </tr>\n",
              "    <tr>\n",
              "      <th>6</th>\n",
              "      <td>NaN</td>\n",
              "      <td>NaN</td>\n",
              "      <td>NaN</td>\n",
              "      <td>NaN</td>\n",
              "      <td>NaN</td>\n",
              "      <td>NaN</td>\n",
              "      <td>NaN</td>\n",
              "      <td>0.921391</td>\n",
              "      <td>0.500667</td>\n",
              "      <td>0.336783</td>\n",
              "      <td>...</td>\n",
              "      <td>0.688236</td>\n",
              "      <td>0.299879</td>\n",
              "      <td>0.729565</td>\n",
              "      <td>0.675987</td>\n",
              "      <td>0.448822</td>\n",
              "      <td>0.754968</td>\n",
              "      <td>0.884103</td>\n",
              "      <td>0.861323</td>\n",
              "      <td>0.409464</td>\n",
              "      <td>0.514930</td>\n",
              "    </tr>\n",
              "    <tr>\n",
              "      <th>7</th>\n",
              "      <td>NaN</td>\n",
              "      <td>NaN</td>\n",
              "      <td>NaN</td>\n",
              "      <td>NaN</td>\n",
              "      <td>NaN</td>\n",
              "      <td>NaN</td>\n",
              "      <td>NaN</td>\n",
              "      <td>NaN</td>\n",
              "      <td>0.462497</td>\n",
              "      <td>0.166917</td>\n",
              "      <td>...</td>\n",
              "      <td>0.830318</td>\n",
              "      <td>0.292752</td>\n",
              "      <td>0.855923</td>\n",
              "      <td>0.809630</td>\n",
              "      <td>0.452753</td>\n",
              "      <td>0.667454</td>\n",
              "      <td>0.752399</td>\n",
              "      <td>0.910155</td>\n",
              "      <td>0.375744</td>\n",
              "      <td>0.368661</td>\n",
              "    </tr>\n",
              "    <tr>\n",
              "      <th>8</th>\n",
              "      <td>NaN</td>\n",
              "      <td>NaN</td>\n",
              "      <td>NaN</td>\n",
              "      <td>NaN</td>\n",
              "      <td>NaN</td>\n",
              "      <td>NaN</td>\n",
              "      <td>NaN</td>\n",
              "      <td>NaN</td>\n",
              "      <td>NaN</td>\n",
              "      <td>0.479921</td>\n",
              "      <td>...</td>\n",
              "      <td>0.185728</td>\n",
              "      <td>0.090651</td>\n",
              "      <td>0.219169</td>\n",
              "      <td>0.177193</td>\n",
              "      <td>0.426675</td>\n",
              "      <td>0.473200</td>\n",
              "      <td>0.433721</td>\n",
              "      <td>0.430297</td>\n",
              "      <td>0.699826</td>\n",
              "      <td>0.438413</td>\n",
              "    </tr>\n",
              "    <tr>\n",
              "      <th>9</th>\n",
              "      <td>NaN</td>\n",
              "      <td>NaN</td>\n",
              "      <td>NaN</td>\n",
              "      <td>NaN</td>\n",
              "      <td>NaN</td>\n",
              "      <td>NaN</td>\n",
              "      <td>NaN</td>\n",
              "      <td>NaN</td>\n",
              "      <td>NaN</td>\n",
              "      <td>NaN</td>\n",
              "      <td>...</td>\n",
              "      <td>0.253691</td>\n",
              "      <td>0.051269</td>\n",
              "      <td>0.205151</td>\n",
              "      <td>0.231854</td>\n",
              "      <td>0.504942</td>\n",
              "      <td>0.458798</td>\n",
              "      <td>0.346234</td>\n",
              "      <td>0.175325</td>\n",
              "      <td>0.334019</td>\n",
              "      <td>0.767297</td>\n",
              "    </tr>\n",
              "    <tr>\n",
              "      <th>10</th>\n",
              "      <td>NaN</td>\n",
              "      <td>NaN</td>\n",
              "      <td>NaN</td>\n",
              "      <td>NaN</td>\n",
              "      <td>NaN</td>\n",
              "      <td>NaN</td>\n",
              "      <td>NaN</td>\n",
              "      <td>NaN</td>\n",
              "      <td>NaN</td>\n",
              "      <td>NaN</td>\n",
              "      <td>...</td>\n",
              "      <td>0.715065</td>\n",
              "      <td>0.194799</td>\n",
              "      <td>0.719684</td>\n",
              "      <td>0.751548</td>\n",
              "      <td>0.141919</td>\n",
              "      <td>0.287103</td>\n",
              "      <td>0.380585</td>\n",
              "      <td>0.531062</td>\n",
              "      <td>0.094543</td>\n",
              "      <td>0.049559</td>\n",
              "    </tr>\n",
              "    <tr>\n",
              "      <th>11</th>\n",
              "      <td>NaN</td>\n",
              "      <td>NaN</td>\n",
              "      <td>NaN</td>\n",
              "      <td>NaN</td>\n",
              "      <td>NaN</td>\n",
              "      <td>NaN</td>\n",
              "      <td>NaN</td>\n",
              "      <td>NaN</td>\n",
              "      <td>NaN</td>\n",
              "      <td>NaN</td>\n",
              "      <td>...</td>\n",
              "      <td>0.111690</td>\n",
              "      <td>0.409003</td>\n",
              "      <td>0.102242</td>\n",
              "      <td>0.083195</td>\n",
              "      <td>0.073658</td>\n",
              "      <td>0.092439</td>\n",
              "      <td>0.068956</td>\n",
              "      <td>0.119638</td>\n",
              "      <td>0.128215</td>\n",
              "      <td>0.045655</td>\n",
              "    </tr>\n",
              "    <tr>\n",
              "      <th>12</th>\n",
              "      <td>NaN</td>\n",
              "      <td>NaN</td>\n",
              "      <td>NaN</td>\n",
              "      <td>NaN</td>\n",
              "      <td>NaN</td>\n",
              "      <td>NaN</td>\n",
              "      <td>NaN</td>\n",
              "      <td>NaN</td>\n",
              "      <td>NaN</td>\n",
              "      <td>NaN</td>\n",
              "      <td>...</td>\n",
              "      <td>0.697201</td>\n",
              "      <td>0.200371</td>\n",
              "      <td>0.721031</td>\n",
              "      <td>0.730713</td>\n",
              "      <td>0.130054</td>\n",
              "      <td>0.341919</td>\n",
              "      <td>0.418899</td>\n",
              "      <td>0.554897</td>\n",
              "      <td>0.109930</td>\n",
              "      <td>0.085433</td>\n",
              "    </tr>\n",
              "    <tr>\n",
              "      <th>13</th>\n",
              "      <td>NaN</td>\n",
              "      <td>NaN</td>\n",
              "      <td>NaN</td>\n",
              "      <td>NaN</td>\n",
              "      <td>NaN</td>\n",
              "      <td>NaN</td>\n",
              "      <td>NaN</td>\n",
              "      <td>NaN</td>\n",
              "      <td>NaN</td>\n",
              "      <td>NaN</td>\n",
              "      <td>...</td>\n",
              "      <td>0.757373</td>\n",
              "      <td>0.196497</td>\n",
              "      <td>0.761213</td>\n",
              "      <td>0.811408</td>\n",
              "      <td>0.125389</td>\n",
              "      <td>0.283257</td>\n",
              "      <td>0.385100</td>\n",
              "      <td>0.538166</td>\n",
              "      <td>0.074126</td>\n",
              "      <td>0.017539</td>\n",
              "    </tr>\n",
              "    <tr>\n",
              "      <th>14</th>\n",
              "      <td>NaN</td>\n",
              "      <td>NaN</td>\n",
              "      <td>NaN</td>\n",
              "      <td>NaN</td>\n",
              "      <td>NaN</td>\n",
              "      <td>NaN</td>\n",
              "      <td>NaN</td>\n",
              "      <td>NaN</td>\n",
              "      <td>NaN</td>\n",
              "      <td>NaN</td>\n",
              "      <td>...</td>\n",
              "      <td>0.230691</td>\n",
              "      <td>0.074743</td>\n",
              "      <td>0.217304</td>\n",
              "      <td>0.182195</td>\n",
              "      <td>0.314457</td>\n",
              "      <td>0.055558</td>\n",
              "      <td>0.058298</td>\n",
              "      <td>0.102007</td>\n",
              "      <td>0.107342</td>\n",
              "      <td>0.101480</td>\n",
              "    </tr>\n",
              "    <tr>\n",
              "      <th>15</th>\n",
              "      <td>NaN</td>\n",
              "      <td>NaN</td>\n",
              "      <td>NaN</td>\n",
              "      <td>NaN</td>\n",
              "      <td>NaN</td>\n",
              "      <td>NaN</td>\n",
              "      <td>NaN</td>\n",
              "      <td>NaN</td>\n",
              "      <td>NaN</td>\n",
              "      <td>NaN</td>\n",
              "      <td>...</td>\n",
              "      <td>0.204607</td>\n",
              "      <td>0.143003</td>\n",
              "      <td>0.260516</td>\n",
              "      <td>0.199371</td>\n",
              "      <td>0.227394</td>\n",
              "      <td>0.678780</td>\n",
              "      <td>0.639147</td>\n",
              "      <td>0.483208</td>\n",
              "      <td>0.277878</td>\n",
              "      <td>0.590973</td>\n",
              "    </tr>\n",
              "    <tr>\n",
              "      <th>16</th>\n",
              "      <td>NaN</td>\n",
              "      <td>NaN</td>\n",
              "      <td>NaN</td>\n",
              "      <td>NaN</td>\n",
              "      <td>NaN</td>\n",
              "      <td>NaN</td>\n",
              "      <td>NaN</td>\n",
              "      <td>NaN</td>\n",
              "      <td>NaN</td>\n",
              "      <td>NaN</td>\n",
              "      <td>...</td>\n",
              "      <td>0.186904</td>\n",
              "      <td>0.100241</td>\n",
              "      <td>0.226680</td>\n",
              "      <td>0.188353</td>\n",
              "      <td>0.168481</td>\n",
              "      <td>0.484858</td>\n",
              "      <td>0.662564</td>\n",
              "      <td>0.440472</td>\n",
              "      <td>0.197788</td>\n",
              "      <td>0.439329</td>\n",
              "    </tr>\n",
              "    <tr>\n",
              "      <th>17</th>\n",
              "      <td>NaN</td>\n",
              "      <td>NaN</td>\n",
              "      <td>NaN</td>\n",
              "      <td>NaN</td>\n",
              "      <td>NaN</td>\n",
              "      <td>NaN</td>\n",
              "      <td>NaN</td>\n",
              "      <td>NaN</td>\n",
              "      <td>NaN</td>\n",
              "      <td>NaN</td>\n",
              "      <td>...</td>\n",
              "      <td>0.358127</td>\n",
              "      <td>0.086741</td>\n",
              "      <td>0.394999</td>\n",
              "      <td>0.342271</td>\n",
              "      <td>0.215351</td>\n",
              "      <td>0.452888</td>\n",
              "      <td>0.549592</td>\n",
              "      <td>0.602450</td>\n",
              "      <td>0.143116</td>\n",
              "      <td>0.310655</td>\n",
              "    </tr>\n",
              "    <tr>\n",
              "      <th>18</th>\n",
              "      <td>NaN</td>\n",
              "      <td>NaN</td>\n",
              "      <td>NaN</td>\n",
              "      <td>NaN</td>\n",
              "      <td>NaN</td>\n",
              "      <td>NaN</td>\n",
              "      <td>NaN</td>\n",
              "      <td>NaN</td>\n",
              "      <td>NaN</td>\n",
              "      <td>NaN</td>\n",
              "      <td>...</td>\n",
              "      <td>0.128121</td>\n",
              "      <td>0.077473</td>\n",
              "      <td>0.103753</td>\n",
              "      <td>0.110343</td>\n",
              "      <td>0.012662</td>\n",
              "      <td>0.060255</td>\n",
              "      <td>0.037119</td>\n",
              "      <td>0.030413</td>\n",
              "      <td>0.389402</td>\n",
              "      <td>0.078079</td>\n",
              "    </tr>\n",
              "    <tr>\n",
              "      <th>19</th>\n",
              "      <td>NaN</td>\n",
              "      <td>NaN</td>\n",
              "      <td>NaN</td>\n",
              "      <td>NaN</td>\n",
              "      <td>NaN</td>\n",
              "      <td>NaN</td>\n",
              "      <td>NaN</td>\n",
              "      <td>NaN</td>\n",
              "      <td>NaN</td>\n",
              "      <td>NaN</td>\n",
              "      <td>...</td>\n",
              "      <td>0.037488</td>\n",
              "      <td>0.003195</td>\n",
              "      <td>0.001000</td>\n",
              "      <td>0.022736</td>\n",
              "      <td>0.170568</td>\n",
              "      <td>0.390159</td>\n",
              "      <td>0.379975</td>\n",
              "      <td>0.215204</td>\n",
              "      <td>0.111094</td>\n",
              "      <td>0.591328</td>\n",
              "    </tr>\n",
              "    <tr>\n",
              "      <th>20</th>\n",
              "      <td>NaN</td>\n",
              "      <td>NaN</td>\n",
              "      <td>NaN</td>\n",
              "      <td>NaN</td>\n",
              "      <td>NaN</td>\n",
              "      <td>NaN</td>\n",
              "      <td>NaN</td>\n",
              "      <td>NaN</td>\n",
              "      <td>NaN</td>\n",
              "      <td>NaN</td>\n",
              "      <td>...</td>\n",
              "      <td>NaN</td>\n",
              "      <td>0.359921</td>\n",
              "      <td>0.993708</td>\n",
              "      <td>0.984015</td>\n",
              "      <td>0.216574</td>\n",
              "      <td>0.475820</td>\n",
              "      <td>0.573975</td>\n",
              "      <td>0.787424</td>\n",
              "      <td>0.243529</td>\n",
              "      <td>0.093492</td>\n",
              "    </tr>\n",
              "    <tr>\n",
              "      <th>21</th>\n",
              "      <td>NaN</td>\n",
              "      <td>NaN</td>\n",
              "      <td>NaN</td>\n",
              "      <td>NaN</td>\n",
              "      <td>NaN</td>\n",
              "      <td>NaN</td>\n",
              "      <td>NaN</td>\n",
              "      <td>NaN</td>\n",
              "      <td>NaN</td>\n",
              "      <td>NaN</td>\n",
              "      <td>...</td>\n",
              "      <td>NaN</td>\n",
              "      <td>NaN</td>\n",
              "      <td>0.365098</td>\n",
              "      <td>0.345842</td>\n",
              "      <td>0.225429</td>\n",
              "      <td>0.360832</td>\n",
              "      <td>0.368366</td>\n",
              "      <td>0.359755</td>\n",
              "      <td>0.233027</td>\n",
              "      <td>0.219122</td>\n",
              "    </tr>\n",
              "    <tr>\n",
              "      <th>22</th>\n",
              "      <td>NaN</td>\n",
              "      <td>NaN</td>\n",
              "      <td>NaN</td>\n",
              "      <td>NaN</td>\n",
              "      <td>NaN</td>\n",
              "      <td>NaN</td>\n",
              "      <td>NaN</td>\n",
              "      <td>NaN</td>\n",
              "      <td>NaN</td>\n",
              "      <td>NaN</td>\n",
              "      <td>...</td>\n",
              "      <td>NaN</td>\n",
              "      <td>NaN</td>\n",
              "      <td>NaN</td>\n",
              "      <td>0.977578</td>\n",
              "      <td>0.236775</td>\n",
              "      <td>0.529408</td>\n",
              "      <td>0.618344</td>\n",
              "      <td>0.816322</td>\n",
              "      <td>0.269493</td>\n",
              "      <td>0.138957</td>\n",
              "    </tr>\n",
              "    <tr>\n",
              "      <th>23</th>\n",
              "      <td>NaN</td>\n",
              "      <td>NaN</td>\n",
              "      <td>NaN</td>\n",
              "      <td>NaN</td>\n",
              "      <td>NaN</td>\n",
              "      <td>NaN</td>\n",
              "      <td>NaN</td>\n",
              "      <td>NaN</td>\n",
              "      <td>NaN</td>\n",
              "      <td>NaN</td>\n",
              "      <td>...</td>\n",
              "      <td>NaN</td>\n",
              "      <td>NaN</td>\n",
              "      <td>NaN</td>\n",
              "      <td>NaN</td>\n",
              "      <td>0.209145</td>\n",
              "      <td>0.438296</td>\n",
              "      <td>0.543331</td>\n",
              "      <td>0.747419</td>\n",
              "      <td>0.209146</td>\n",
              "      <td>0.079647</td>\n",
              "    </tr>\n",
              "    <tr>\n",
              "      <th>24</th>\n",
              "      <td>NaN</td>\n",
              "      <td>NaN</td>\n",
              "      <td>NaN</td>\n",
              "      <td>NaN</td>\n",
              "      <td>NaN</td>\n",
              "      <td>NaN</td>\n",
              "      <td>NaN</td>\n",
              "      <td>NaN</td>\n",
              "      <td>NaN</td>\n",
              "      <td>NaN</td>\n",
              "      <td>...</td>\n",
              "      <td>NaN</td>\n",
              "      <td>NaN</td>\n",
              "      <td>NaN</td>\n",
              "      <td>NaN</td>\n",
              "      <td>NaN</td>\n",
              "      <td>0.568187</td>\n",
              "      <td>0.518523</td>\n",
              "      <td>0.547691</td>\n",
              "      <td>0.493838</td>\n",
              "      <td>0.617624</td>\n",
              "    </tr>\n",
              "    <tr>\n",
              "      <th>25</th>\n",
              "      <td>NaN</td>\n",
              "      <td>NaN</td>\n",
              "      <td>NaN</td>\n",
              "      <td>NaN</td>\n",
              "      <td>NaN</td>\n",
              "      <td>NaN</td>\n",
              "      <td>NaN</td>\n",
              "      <td>NaN</td>\n",
              "      <td>NaN</td>\n",
              "      <td>NaN</td>\n",
              "      <td>...</td>\n",
              "      <td>NaN</td>\n",
              "      <td>NaN</td>\n",
              "      <td>NaN</td>\n",
              "      <td>NaN</td>\n",
              "      <td>NaN</td>\n",
              "      <td>NaN</td>\n",
              "      <td>0.892261</td>\n",
              "      <td>0.801080</td>\n",
              "      <td>0.614441</td>\n",
              "      <td>0.810455</td>\n",
              "    </tr>\n",
              "    <tr>\n",
              "      <th>26</th>\n",
              "      <td>NaN</td>\n",
              "      <td>NaN</td>\n",
              "      <td>NaN</td>\n",
              "      <td>NaN</td>\n",
              "      <td>NaN</td>\n",
              "      <td>NaN</td>\n",
              "      <td>NaN</td>\n",
              "      <td>NaN</td>\n",
              "      <td>NaN</td>\n",
              "      <td>NaN</td>\n",
              "      <td>...</td>\n",
              "      <td>NaN</td>\n",
              "      <td>NaN</td>\n",
              "      <td>NaN</td>\n",
              "      <td>NaN</td>\n",
              "      <td>NaN</td>\n",
              "      <td>NaN</td>\n",
              "      <td>NaN</td>\n",
              "      <td>0.855434</td>\n",
              "      <td>0.532520</td>\n",
              "      <td>0.686511</td>\n",
              "    </tr>\n",
              "    <tr>\n",
              "      <th>27</th>\n",
              "      <td>NaN</td>\n",
              "      <td>NaN</td>\n",
              "      <td>NaN</td>\n",
              "      <td>NaN</td>\n",
              "      <td>NaN</td>\n",
              "      <td>NaN</td>\n",
              "      <td>NaN</td>\n",
              "      <td>NaN</td>\n",
              "      <td>NaN</td>\n",
              "      <td>NaN</td>\n",
              "      <td>...</td>\n",
              "      <td>NaN</td>\n",
              "      <td>NaN</td>\n",
              "      <td>NaN</td>\n",
              "      <td>NaN</td>\n",
              "      <td>NaN</td>\n",
              "      <td>NaN</td>\n",
              "      <td>NaN</td>\n",
              "      <td>NaN</td>\n",
              "      <td>0.502528</td>\n",
              "      <td>0.511114</td>\n",
              "    </tr>\n",
              "    <tr>\n",
              "      <th>28</th>\n",
              "      <td>NaN</td>\n",
              "      <td>NaN</td>\n",
              "      <td>NaN</td>\n",
              "      <td>NaN</td>\n",
              "      <td>NaN</td>\n",
              "      <td>NaN</td>\n",
              "      <td>NaN</td>\n",
              "      <td>NaN</td>\n",
              "      <td>NaN</td>\n",
              "      <td>NaN</td>\n",
              "      <td>...</td>\n",
              "      <td>NaN</td>\n",
              "      <td>NaN</td>\n",
              "      <td>NaN</td>\n",
              "      <td>NaN</td>\n",
              "      <td>NaN</td>\n",
              "      <td>NaN</td>\n",
              "      <td>NaN</td>\n",
              "      <td>NaN</td>\n",
              "      <td>NaN</td>\n",
              "      <td>0.537848</td>\n",
              "    </tr>\n",
              "    <tr>\n",
              "      <th>29</th>\n",
              "      <td>NaN</td>\n",
              "      <td>NaN</td>\n",
              "      <td>NaN</td>\n",
              "      <td>NaN</td>\n",
              "      <td>NaN</td>\n",
              "      <td>NaN</td>\n",
              "      <td>NaN</td>\n",
              "      <td>NaN</td>\n",
              "      <td>NaN</td>\n",
              "      <td>NaN</td>\n",
              "      <td>...</td>\n",
              "      <td>NaN</td>\n",
              "      <td>NaN</td>\n",
              "      <td>NaN</td>\n",
              "      <td>NaN</td>\n",
              "      <td>NaN</td>\n",
              "      <td>NaN</td>\n",
              "      <td>NaN</td>\n",
              "      <td>NaN</td>\n",
              "      <td>NaN</td>\n",
              "      <td>NaN</td>\n",
              "    </tr>\n",
              "  </tbody>\n",
              "</table>\n",
              "<p>30 rows × 30 columns</p>\n",
              "</div>\n",
              "    <div class=\"colab-df-buttons\">\n",
              "\n",
              "  <div class=\"colab-df-container\">\n",
              "    <button class=\"colab-df-convert\" onclick=\"convertToInteractive('df-107b98cb-12d7-4a0c-a955-21b6a7bfe60a')\"\n",
              "            title=\"Convert this dataframe to an interactive table.\"\n",
              "            style=\"display:none;\">\n",
              "\n",
              "  <svg xmlns=\"http://www.w3.org/2000/svg\" height=\"24px\" viewBox=\"0 -960 960 960\">\n",
              "    <path d=\"M120-120v-720h720v720H120Zm60-500h600v-160H180v160Zm220 220h160v-160H400v160Zm0 220h160v-160H400v160ZM180-400h160v-160H180v160Zm440 0h160v-160H620v160ZM180-180h160v-160H180v160Zm440 0h160v-160H620v160Z\"/>\n",
              "  </svg>\n",
              "    </button>\n",
              "\n",
              "  <style>\n",
              "    .colab-df-container {\n",
              "      display:flex;\n",
              "      gap: 12px;\n",
              "    }\n",
              "\n",
              "    .colab-df-convert {\n",
              "      background-color: #E8F0FE;\n",
              "      border: none;\n",
              "      border-radius: 50%;\n",
              "      cursor: pointer;\n",
              "      display: none;\n",
              "      fill: #1967D2;\n",
              "      height: 32px;\n",
              "      padding: 0 0 0 0;\n",
              "      width: 32px;\n",
              "    }\n",
              "\n",
              "    .colab-df-convert:hover {\n",
              "      background-color: #E2EBFA;\n",
              "      box-shadow: 0px 1px 2px rgba(60, 64, 67, 0.3), 0px 1px 3px 1px rgba(60, 64, 67, 0.15);\n",
              "      fill: #174EA6;\n",
              "    }\n",
              "\n",
              "    .colab-df-buttons div {\n",
              "      margin-bottom: 4px;\n",
              "    }\n",
              "\n",
              "    [theme=dark] .colab-df-convert {\n",
              "      background-color: #3B4455;\n",
              "      fill: #D2E3FC;\n",
              "    }\n",
              "\n",
              "    [theme=dark] .colab-df-convert:hover {\n",
              "      background-color: #434B5C;\n",
              "      box-shadow: 0px 1px 3px 1px rgba(0, 0, 0, 0.15);\n",
              "      filter: drop-shadow(0px 1px 2px rgba(0, 0, 0, 0.3));\n",
              "      fill: #FFFFFF;\n",
              "    }\n",
              "  </style>\n",
              "\n",
              "    <script>\n",
              "      const buttonEl =\n",
              "        document.querySelector('#df-107b98cb-12d7-4a0c-a955-21b6a7bfe60a button.colab-df-convert');\n",
              "      buttonEl.style.display =\n",
              "        google.colab.kernel.accessAllowed ? 'block' : 'none';\n",
              "\n",
              "      async function convertToInteractive(key) {\n",
              "        const element = document.querySelector('#df-107b98cb-12d7-4a0c-a955-21b6a7bfe60a');\n",
              "        const dataTable =\n",
              "          await google.colab.kernel.invokeFunction('convertToInteractive',\n",
              "                                                    [key], {});\n",
              "        if (!dataTable) return;\n",
              "\n",
              "        const docLinkHtml = 'Like what you see? Visit the ' +\n",
              "          '<a target=\"_blank\" href=https://colab.research.google.com/notebooks/data_table.ipynb>data table notebook</a>'\n",
              "          + ' to learn more about interactive tables.';\n",
              "        element.innerHTML = '';\n",
              "        dataTable['output_type'] = 'display_data';\n",
              "        await google.colab.output.renderOutput(dataTable, element);\n",
              "        const docLink = document.createElement('div');\n",
              "        docLink.innerHTML = docLinkHtml;\n",
              "        element.appendChild(docLink);\n",
              "      }\n",
              "    </script>\n",
              "  </div>\n",
              "\n",
              "\n",
              "<div id=\"df-504a3476-993c-45b2-83e8-8bc427987d1e\">\n",
              "  <button class=\"colab-df-quickchart\" onclick=\"quickchart('df-504a3476-993c-45b2-83e8-8bc427987d1e')\"\n",
              "            title=\"Suggest charts\"\n",
              "            style=\"display:none;\">\n",
              "\n",
              "<svg xmlns=\"http://www.w3.org/2000/svg\" height=\"24px\"viewBox=\"0 0 24 24\"\n",
              "     width=\"24px\">\n",
              "    <g>\n",
              "        <path d=\"M19 3H5c-1.1 0-2 .9-2 2v14c0 1.1.9 2 2 2h14c1.1 0 2-.9 2-2V5c0-1.1-.9-2-2-2zM9 17H7v-7h2v7zm4 0h-2V7h2v10zm4 0h-2v-4h2v4z\"/>\n",
              "    </g>\n",
              "</svg>\n",
              "  </button>\n",
              "\n",
              "<style>\n",
              "  .colab-df-quickchart {\n",
              "      --bg-color: #E8F0FE;\n",
              "      --fill-color: #1967D2;\n",
              "      --hover-bg-color: #E2EBFA;\n",
              "      --hover-fill-color: #174EA6;\n",
              "      --disabled-fill-color: #AAA;\n",
              "      --disabled-bg-color: #DDD;\n",
              "  }\n",
              "\n",
              "  [theme=dark] .colab-df-quickchart {\n",
              "      --bg-color: #3B4455;\n",
              "      --fill-color: #D2E3FC;\n",
              "      --hover-bg-color: #434B5C;\n",
              "      --hover-fill-color: #FFFFFF;\n",
              "      --disabled-bg-color: #3B4455;\n",
              "      --disabled-fill-color: #666;\n",
              "  }\n",
              "\n",
              "  .colab-df-quickchart {\n",
              "    background-color: var(--bg-color);\n",
              "    border: none;\n",
              "    border-radius: 50%;\n",
              "    cursor: pointer;\n",
              "    display: none;\n",
              "    fill: var(--fill-color);\n",
              "    height: 32px;\n",
              "    padding: 0;\n",
              "    width: 32px;\n",
              "  }\n",
              "\n",
              "  .colab-df-quickchart:hover {\n",
              "    background-color: var(--hover-bg-color);\n",
              "    box-shadow: 0 1px 2px rgba(60, 64, 67, 0.3), 0 1px 3px 1px rgba(60, 64, 67, 0.15);\n",
              "    fill: var(--button-hover-fill-color);\n",
              "  }\n",
              "\n",
              "  .colab-df-quickchart-complete:disabled,\n",
              "  .colab-df-quickchart-complete:disabled:hover {\n",
              "    background-color: var(--disabled-bg-color);\n",
              "    fill: var(--disabled-fill-color);\n",
              "    box-shadow: none;\n",
              "  }\n",
              "\n",
              "  .colab-df-spinner {\n",
              "    border: 2px solid var(--fill-color);\n",
              "    border-color: transparent;\n",
              "    border-bottom-color: var(--fill-color);\n",
              "    animation:\n",
              "      spin 1s steps(1) infinite;\n",
              "  }\n",
              "\n",
              "  @keyframes spin {\n",
              "    0% {\n",
              "      border-color: transparent;\n",
              "      border-bottom-color: var(--fill-color);\n",
              "      border-left-color: var(--fill-color);\n",
              "    }\n",
              "    20% {\n",
              "      border-color: transparent;\n",
              "      border-left-color: var(--fill-color);\n",
              "      border-top-color: var(--fill-color);\n",
              "    }\n",
              "    30% {\n",
              "      border-color: transparent;\n",
              "      border-left-color: var(--fill-color);\n",
              "      border-top-color: var(--fill-color);\n",
              "      border-right-color: var(--fill-color);\n",
              "    }\n",
              "    40% {\n",
              "      border-color: transparent;\n",
              "      border-right-color: var(--fill-color);\n",
              "      border-top-color: var(--fill-color);\n",
              "    }\n",
              "    60% {\n",
              "      border-color: transparent;\n",
              "      border-right-color: var(--fill-color);\n",
              "    }\n",
              "    80% {\n",
              "      border-color: transparent;\n",
              "      border-right-color: var(--fill-color);\n",
              "      border-bottom-color: var(--fill-color);\n",
              "    }\n",
              "    90% {\n",
              "      border-color: transparent;\n",
              "      border-bottom-color: var(--fill-color);\n",
              "    }\n",
              "  }\n",
              "</style>\n",
              "\n",
              "  <script>\n",
              "    async function quickchart(key) {\n",
              "      const quickchartButtonEl =\n",
              "        document.querySelector('#' + key + ' button');\n",
              "      quickchartButtonEl.disabled = true;  // To prevent multiple clicks.\n",
              "      quickchartButtonEl.classList.add('colab-df-spinner');\n",
              "      try {\n",
              "        const charts = await google.colab.kernel.invokeFunction(\n",
              "            'suggestCharts', [key], {});\n",
              "      } catch (error) {\n",
              "        console.error('Error during call to suggestCharts:', error);\n",
              "      }\n",
              "      quickchartButtonEl.classList.remove('colab-df-spinner');\n",
              "      quickchartButtonEl.classList.add('colab-df-quickchart-complete');\n",
              "    }\n",
              "    (() => {\n",
              "      let quickchartButtonEl =\n",
              "        document.querySelector('#df-504a3476-993c-45b2-83e8-8bc427987d1e button');\n",
              "      quickchartButtonEl.style.display =\n",
              "        google.colab.kernel.accessAllowed ? 'block' : 'none';\n",
              "    })();\n",
              "  </script>\n",
              "</div>\n",
              "\n",
              "  <div id=\"id_6f56de23-3d8c-4745-bccf-5e023aed3cf1\">\n",
              "    <style>\n",
              "      .colab-df-generate {\n",
              "        background-color: #E8F0FE;\n",
              "        border: none;\n",
              "        border-radius: 50%;\n",
              "        cursor: pointer;\n",
              "        display: none;\n",
              "        fill: #1967D2;\n",
              "        height: 32px;\n",
              "        padding: 0 0 0 0;\n",
              "        width: 32px;\n",
              "      }\n",
              "\n",
              "      .colab-df-generate:hover {\n",
              "        background-color: #E2EBFA;\n",
              "        box-shadow: 0px 1px 2px rgba(60, 64, 67, 0.3), 0px 1px 3px 1px rgba(60, 64, 67, 0.15);\n",
              "        fill: #174EA6;\n",
              "      }\n",
              "\n",
              "      [theme=dark] .colab-df-generate {\n",
              "        background-color: #3B4455;\n",
              "        fill: #D2E3FC;\n",
              "      }\n",
              "\n",
              "      [theme=dark] .colab-df-generate:hover {\n",
              "        background-color: #434B5C;\n",
              "        box-shadow: 0px 1px 3px 1px rgba(0, 0, 0, 0.15);\n",
              "        filter: drop-shadow(0px 1px 2px rgba(0, 0, 0, 0.3));\n",
              "        fill: #FFFFFF;\n",
              "      }\n",
              "    </style>\n",
              "    <button class=\"colab-df-generate\" onclick=\"generateWithVariable('correlacao')\"\n",
              "            title=\"Generate code using this dataframe.\"\n",
              "            style=\"display:none;\">\n",
              "\n",
              "  <svg xmlns=\"http://www.w3.org/2000/svg\" height=\"24px\"viewBox=\"0 0 24 24\"\n",
              "       width=\"24px\">\n",
              "    <path d=\"M7,19H8.4L18.45,9,17,7.55,7,17.6ZM5,21V16.75L18.45,3.32a2,2,0,0,1,2.83,0l1.4,1.43a1.91,1.91,0,0,1,.58,1.4,1.91,1.91,0,0,1-.58,1.4L9.25,21ZM18.45,9,17,7.55Zm-12,3A5.31,5.31,0,0,0,4.9,8.1,5.31,5.31,0,0,0,1,6.5,5.31,5.31,0,0,0,4.9,4.9,5.31,5.31,0,0,0,6.5,1,5.31,5.31,0,0,0,8.1,4.9,5.31,5.31,0,0,0,12,6.5,5.46,5.46,0,0,0,6.5,12Z\"/>\n",
              "  </svg>\n",
              "    </button>\n",
              "    <script>\n",
              "      (() => {\n",
              "      const buttonEl =\n",
              "        document.querySelector('#id_6f56de23-3d8c-4745-bccf-5e023aed3cf1 button.colab-df-generate');\n",
              "      buttonEl.style.display =\n",
              "        google.colab.kernel.accessAllowed ? 'block' : 'none';\n",
              "\n",
              "      buttonEl.onclick = () => {\n",
              "        google.colab.notebook.generateWithVariable('correlacao');\n",
              "      }\n",
              "      })();\n",
              "    </script>\n",
              "  </div>\n",
              "\n",
              "    </div>\n",
              "  </div>\n"
            ],
            "application/vnd.google.colaboratory.intrinsic+json": {
              "type": "dataframe",
              "variable_name": "correlacao"
            }
          },
          "metadata": {},
          "execution_count": 183
        }
      ]
    },
    {
      "cell_type": "code",
      "metadata": {
        "id": "gDxrqpPXxuCM",
        "outputId": "414b4dc5-3512-4072-f1e3-dcd3edfd0c24",
        "colab": {
          "base_uri": "https://localhost:8080/",
          "height": 1000
        }
      },
      "source": [
        "fig, ax = plt.subplots(figsize = (20, 17))\n",
        "mask = np.zeros_like(X_cancer.corr().abs())\n",
        "mask[np.triu_indices_from(mask)] = 1\n",
        "sns.heatmap(X_cancer.corr().abs(), mask = mask, ax = ax, cmap ='coolwarm', annot = True, fmt = '.2f')"
      ],
      "execution_count": 184,
      "outputs": [
        {
          "output_type": "execute_result",
          "data": {
            "text/plain": [
              "<Axes: >"
            ]
          },
          "metadata": {},
          "execution_count": 184
        },
        {
          "output_type": "display_data",
          "data": {
            "text/plain": [
              "<Figure size 2000x1700 with 2 Axes>"
            ],
            "image/png": "[encoded data removed]"
          },
          "metadata": {}
        }
      ]
    },
    {
      "cell_type": "markdown",
      "metadata": {
        "id": "2p0kgfS-ao5o"
      },
      "source": [
        "Como podemos ver, há várias colunas altamente correlacionados no dataframe. Vamos excluir (automaticamente!) as colunas altamente correlacionadas da seguinte forma:"
      ]
    },
    {
      "cell_type": "code",
      "metadata": {
        "id": "C7mUtTlFaoFx",
        "outputId": "d6d8106f-0968-4f73-8810-16eeb40fb424",
        "colab": {
          "base_uri": "https://localhost:8080/",
          "height": 1000
        }
      },
      "source": [
        "set_variaveis_corr = set()\n",
        "matrix_corr = X_cancer.corr()\n",
        "matrix_corr"
      ],
      "execution_count": 185,
      "outputs": [
        {
          "output_type": "execute_result",
          "data": {
            "text/plain": [
              "          0         1         2         3         4         5         6   \\\n",
              "0   1.000000  0.323782  0.997855  0.987357  0.170581  0.506124  0.676764   \n",
              "1   0.323782  1.000000  0.329533  0.321086 -0.023389  0.236702  0.302418   \n",
              "2   0.997855  0.329533  1.000000  0.986507  0.207278  0.556936  0.716136   \n",
              "3   0.987357  0.321086  0.986507  1.000000  0.177028  0.498502  0.685983   \n",
              "4   0.170581 -0.023389  0.207278  0.177028  1.000000  0.659123  0.521984   \n",
              "5   0.506124  0.236702  0.556936  0.498502  0.659123  1.000000  0.883121   \n",
              "6   0.676764  0.302418  0.716136  0.685983  0.521984  0.883121  1.000000   \n",
              "7   0.822529  0.293464  0.850977  0.823269  0.553695  0.831135  0.921391   \n",
              "8   0.147741  0.071401  0.183027  0.151293  0.557775  0.602641  0.500667   \n",
              "9  -0.311631 -0.076437 -0.261477 -0.283110  0.584792  0.565369  0.336783   \n",
              "10  0.679090  0.275869  0.691765  0.732562  0.301467  0.497473  0.631925   \n",
              "11 -0.097317  0.386358 -0.086761 -0.066280  0.068406  0.046205  0.076218   \n",
              "12  0.674172  0.281673  0.693135  0.726628  0.296092  0.548905  0.660391   \n",
              "13  0.735864  0.259845  0.744983  0.800086  0.246552  0.455653  0.617427   \n",
              "14 -0.222600  0.006614 -0.202694 -0.166777  0.332375  0.135299  0.098564   \n",
              "15  0.206000  0.191975  0.250744  0.212583  0.318943  0.738722  0.670279   \n",
              "16  0.194204  0.143293  0.228082  0.207660  0.248396  0.570517  0.691270   \n",
              "17  0.376169  0.163851  0.407217  0.372320  0.380676  0.642262  0.683260   \n",
              "18 -0.104321  0.009127 -0.081629 -0.072497  0.200774  0.229977  0.178009   \n",
              "19 -0.042641  0.054458 -0.005523 -0.019887  0.283607  0.507318  0.449301   \n",
              "20  0.969539  0.352573  0.969476  0.962746  0.213120  0.535315  0.688236   \n",
              "21  0.297008  0.912045  0.303038  0.287489  0.036072  0.248133  0.299879   \n",
              "22  0.965137  0.358040  0.970387  0.959120  0.238853  0.590210  0.729565   \n",
              "23  0.941082  0.343546  0.941550  0.959213  0.206718  0.509604  0.675987   \n",
              "24  0.119616  0.077503  0.150549  0.123523  0.805324  0.565541  0.448822   \n",
              "25  0.413463  0.277830  0.455774  0.390410  0.472468  0.865809  0.754968   \n",
              "26  0.526911  0.301025  0.563879  0.512606  0.434926  0.816275  0.884103   \n",
              "27  0.744214  0.295316  0.771241  0.722017  0.503053  0.815573  0.861323   \n",
              "28  0.163953  0.105008  0.189115  0.143570  0.394309  0.510223  0.409464   \n",
              "29  0.007066  0.119205  0.051019  0.003738  0.499316  0.687382  0.514930   \n",
              "\n",
              "          7         8         9   ...        20        21        22        23  \\\n",
              "0   0.822529  0.147741 -0.311631  ...  0.969539  0.297008  0.965137  0.941082   \n",
              "1   0.293464  0.071401 -0.076437  ...  0.352573  0.912045  0.358040  0.343546   \n",
              "2   0.850977  0.183027 -0.261477  ...  0.969476  0.303038  0.970387  0.941550   \n",
              "3   0.823269  0.151293 -0.283110  ...  0.962746  0.287489  0.959120  0.959213   \n",
              "4   0.553695  0.557775  0.584792  ...  0.213120  0.036072  0.238853  0.206718   \n",
              "5   0.831135  0.602641  0.565369  ...  0.535315  0.248133  0.590210  0.509604   \n",
              "6   0.921391  0.500667  0.336783  ...  0.688236  0.299879  0.729565  0.675987   \n",
              "7   1.000000  0.462497  0.166917  ...  0.830318  0.292752  0.855923  0.809630   \n",
              "8   0.462497  1.000000  0.479921  ...  0.185728  0.090651  0.219169  0.177193   \n",
              "9   0.166917  0.479921  1.000000  ... -0.253691 -0.051269 -0.205151 -0.231854   \n",
              "10  0.698050  0.303379  0.000111  ...  0.715065  0.194799  0.719684  0.751548   \n",
              "11  0.021480  0.128053  0.164174  ... -0.111690  0.409003 -0.102242 -0.083195   \n",
              "12  0.710650  0.313893  0.039830  ...  0.697201  0.200371  0.721031  0.730713   \n",
              "13  0.690299  0.223970 -0.090170  ...  0.757373  0.196497  0.761213  0.811408   \n",
              "14  0.027653  0.187321  0.401964  ... -0.230691 -0.074743 -0.217304 -0.182195   \n",
              "15  0.490424  0.421659  0.559837  ...  0.204607  0.143003  0.260516  0.199371   \n",
              "16  0.439167  0.342627  0.446630  ...  0.186904  0.100241  0.226680  0.188353   \n",
              "17  0.615634  0.393298  0.341198  ...  0.358127  0.086741  0.394999  0.342271   \n",
              "18  0.095351  0.449137  0.345007  ... -0.128121 -0.077473 -0.103753 -0.110343   \n",
              "19  0.257584  0.331786  0.688132  ... -0.037488 -0.003195 -0.001000 -0.022736   \n",
              "20  0.830318  0.185728 -0.253691  ...  1.000000  0.359921  0.993708  0.984015   \n",
              "21  0.292752  0.090651 -0.051269  ...  0.359921  1.000000  0.365098  0.345842   \n",
              "22  0.855923  0.219169 -0.205151  ...  0.993708  0.365098  1.000000  0.977578   \n",
              "23  0.809630  0.177193 -0.231854  ...  0.984015  0.345842  0.977578  1.000000   \n",
              "24  0.452753  0.426675  0.504942  ...  0.216574  0.225429  0.236775  0.209145   \n",
              "25  0.667454  0.473200  0.458798  ...  0.475820  0.360832  0.529408  0.438296   \n",
              "26  0.752399  0.433721  0.346234  ...  0.573975  0.368366  0.618344  0.543331   \n",
              "27  0.910155  0.430297  0.175325  ...  0.787424  0.359755  0.816322  0.747419   \n",
              "28  0.375744  0.699826  0.334019  ...  0.243529  0.233027  0.269493  0.209146   \n",
              "29  0.368661  0.438413  0.767297  ...  0.093492  0.219122  0.138957  0.079647   \n",
              "\n",
              "          24        25        26        27        28        29  \n",
              "0   0.119616  0.413463  0.526911  0.744214  0.163953  0.007066  \n",
              "1   0.077503  0.277830  0.301025  0.295316  0.105008  0.119205  \n",
              "2   0.150549  0.455774  0.563879  0.771241  0.189115  0.051019  \n",
              "3   0.123523  0.390410  0.512606  0.722017  0.143570  0.003738  \n",
              "4   0.805324  0.472468  0.434926  0.503053  0.394309  0.499316  \n",
              "5   0.565541  0.865809  0.816275  0.815573  0.510223  0.687382  \n",
              "6   0.448822  0.754968  0.884103  0.861323  0.409464  0.514930  \n",
              "7   0.452753  0.667454  0.752399  0.910155  0.375744  0.368661  \n",
              "8   0.426675  0.473200  0.433721  0.430297  0.699826  0.438413  \n",
              "9   0.504942  0.458798  0.346234  0.175325  0.334019  0.767297  \n",
              "10  0.141919  0.287103  0.380585  0.531062  0.094543  0.049559  \n",
              "11 -0.073658 -0.092439 -0.068956 -0.119638 -0.128215 -0.045655  \n",
              "12  0.130054  0.341919  0.418899  0.554897  0.109930  0.085433  \n",
              "13  0.125389  0.283257  0.385100  0.538166  0.074126  0.017539  \n",
              "14  0.314457 -0.055558 -0.058298 -0.102007 -0.107342  0.101480  \n",
              "15  0.227394  0.678780  0.639147  0.483208  0.277878  0.590973  \n",
              "16  0.168481  0.484858  0.662564  0.440472  0.197788  0.439329  \n",
              "17  0.215351  0.452888  0.549592  0.602450  0.143116  0.310655  \n",
              "18 -0.012662  0.060255  0.037119 -0.030413  0.389402  0.078079  \n",
              "19  0.170568  0.390159  0.379975  0.215204  0.111094  0.591328  \n",
              "20  0.216574  0.475820  0.573975  0.787424  0.243529  0.093492  \n",
              "21  0.225429  0.360832  0.368366  0.359755  0.233027  0.219122  \n",
              "22  0.236775  0.529408  0.618344  0.816322  0.269493  0.138957  \n",
              "23  0.209145  0.438296  0.543331  0.747419  0.209146  0.079647  \n",
              "24  1.000000  0.568187  0.518523  0.547691  0.493838  0.617624  \n",
              "25  0.568187  1.000000  0.892261  0.801080  0.614441  0.810455  \n",
              "26  0.518523  0.892261  1.000000  0.855434  0.532520  0.686511  \n",
              "27  0.547691  0.801080  0.855434  1.000000  0.502528  0.511114  \n",
              "28  0.493838  0.614441  0.532520  0.502528  1.000000  0.537848  \n",
              "29  0.617624  0.810455  0.686511  0.511114  0.537848  1.000000  \n",
              "\n",
              "[30 rows x 30 columns]"
            ],
            "text/html": [
              "\n",
              "  <div id=\"df-4a6e82b1-569f-43ec-ba8f-25dbb25394a1\" class=\"colab-df-container\">\n",
              "    <div>\n",
              "<style scoped>\n",
              "    .dataframe tbody tr th:only-of-type {\n",
              "        vertical-align: middle;\n",
              "    }\n",
              "\n",
              "    .dataframe tbody tr th {\n",
              "        vertical-align: top;\n",
              "    }\n",
              "\n",
              "    .dataframe thead th {\n",
              "        text-align: right;\n",
              "    }\n",
              "</style>\n",
              "<table border=\"1\" class=\"dataframe\">\n",
              "  <thead>\n",
              "    <tr style=\"text-align: right;\">\n",
              "      <th></th>\n",
              "      <th>0</th>\n",
              "      <th>1</th>\n",
              "      <th>2</th>\n",
              "      <th>3</th>\n",
              "      <th>4</th>\n",
              "      <th>5</th>\n",
              "      <th>6</th>\n",
              "      <th>7</th>\n",
              "      <th>8</th>\n",
              "      <th>9</th>\n",
              "      <th>...</th>\n",
              "      <th>20</th>\n",
              "      <th>21</th>\n",
              "      <th>22</th>\n",
              "      <th>23</th>\n",
              "      <th>24</th>\n",
              "      <th>25</th>\n",
              "      <th>26</th>\n",
              "      <th>27</th>\n",
              "      <th>28</th>\n",
              "      <th>29</th>\n",
              "    </tr>\n",
              "  </thead>\n",
              "  <tbody>\n",
              "    <tr>\n",
              "      <th>0</th>\n",
              "      <td>1.000000</td>\n",
              "      <td>0.323782</td>\n",
              "      <td>0.997855</td>\n",
              "      <td>0.987357</td>\n",
              "      <td>0.170581</td>\n",
              "      <td>0.506124</td>\n",
              "      <td>0.676764</td>\n",
              "      <td>0.822529</td>\n",
              "      <td>0.147741</td>\n",
              "      <td>-0.311631</td>\n",
              "      <td>...</td>\n",
              "      <td>0.969539</td>\n",
              "      <td>0.297008</td>\n",
              "      <td>0.965137</td>\n",
              "      <td>0.941082</td>\n",
              "      <td>0.119616</td>\n",
              "      <td>0.413463</td>\n",
              "      <td>0.526911</td>\n",
              "      <td>0.744214</td>\n",
              "      <td>0.163953</td>\n",
              "      <td>0.007066</td>\n",
              "    </tr>\n",
              "    <tr>\n",
              "      <th>1</th>\n",
              "      <td>0.323782</td>\n",
              "      <td>1.000000</td>\n",
              "      <td>0.329533</td>\n",
              "      <td>0.321086</td>\n",
              "      <td>-0.023389</td>\n",
              "      <td>0.236702</td>\n",
              "      <td>0.302418</td>\n",
              "      <td>0.293464</td>\n",
              "      <td>0.071401</td>\n",
              "      <td>-0.076437</td>\n",
              "      <td>...</td>\n",
              "      <td>0.352573</td>\n",
              "      <td>0.912045</td>\n",
              "      <td>0.358040</td>\n",
              "      <td>0.343546</td>\n",
              "      <td>0.077503</td>\n",
              "      <td>0.277830</td>\n",
              "      <td>0.301025</td>\n",
              "      <td>0.295316</td>\n",
              "      <td>0.105008</td>\n",
              "      <td>0.119205</td>\n",
              "    </tr>\n",
              "    <tr>\n",
              "      <th>2</th>\n",
              "      <td>0.997855</td>\n",
              "      <td>0.329533</td>\n",
              "      <td>1.000000</td>\n",
              "      <td>0.986507</td>\n",
              "      <td>0.207278</td>\n",
              "      <td>0.556936</td>\n",
              "      <td>0.716136</td>\n",
              "      <td>0.850977</td>\n",
              "      <td>0.183027</td>\n",
              "      <td>-0.261477</td>\n",
              "      <td>...</td>\n",
              "      <td>0.969476</td>\n",
              "      <td>0.303038</td>\n",
              "      <td>0.970387</td>\n",
              "      <td>0.941550</td>\n",
              "      <td>0.150549</td>\n",
              "      <td>0.455774</td>\n",
              "      <td>0.563879</td>\n",
              "      <td>0.771241</td>\n",
              "      <td>0.189115</td>\n",
              "      <td>0.051019</td>\n",
              "    </tr>\n",
              "    <tr>\n",
              "      <th>3</th>\n",
              "      <td>0.987357</td>\n",
              "      <td>0.321086</td>\n",
              "      <td>0.986507</td>\n",
              "      <td>1.000000</td>\n",
              "      <td>0.177028</td>\n",
              "      <td>0.498502</td>\n",
              "      <td>0.685983</td>\n",
              "      <td>0.823269</td>\n",
              "      <td>0.151293</td>\n",
              "      <td>-0.283110</td>\n",
              "      <td>...</td>\n",
              "      <td>0.962746</td>\n",
              "      <td>0.287489</td>\n",
              "      <td>0.959120</td>\n",
              "      <td>0.959213</td>\n",
              "      <td>0.123523</td>\n",
              "      <td>0.390410</td>\n",
              "      <td>0.512606</td>\n",
              "      <td>0.722017</td>\n",
              "      <td>0.143570</td>\n",
              "      <td>0.003738</td>\n",
              "    </tr>\n",
              "    <tr>\n",
              "      <th>4</th>\n",
              "      <td>0.170581</td>\n",
              "      <td>-0.023389</td>\n",
              "      <td>0.207278</td>\n",
              "      <td>0.177028</td>\n",
              "      <td>1.000000</td>\n",
              "      <td>0.659123</td>\n",
              "      <td>0.521984</td>\n",
              "      <td>0.553695</td>\n",
              "      <td>0.557775</td>\n",
              "      <td>0.584792</td>\n",
              "      <td>...</td>\n",
              "      <td>0.213120</td>\n",
              "      <td>0.036072</td>\n",
              "      <td>0.238853</td>\n",
              "      <td>0.206718</td>\n",
              "      <td>0.805324</td>\n",
              "      <td>0.472468</td>\n",
              "      <td>0.434926</td>\n",
              "      <td>0.503053</td>\n",
              "      <td>0.394309</td>\n",
              "      <td>0.499316</td>\n",
              "    </tr>\n",
              "    <tr>\n",
              "      <th>5</th>\n",
              "      <td>0.506124</td>\n",
              "      <td>0.236702</td>\n",
              "      <td>0.556936</td>\n",
              "      <td>0.498502</td>\n",
              "      <td>0.659123</td>\n",
              "      <td>1.000000</td>\n",
              "      <td>0.883121</td>\n",
              "      <td>0.831135</td>\n",
              "      <td>0.602641</td>\n",
              "      <td>0.565369</td>\n",
              "      <td>...</td>\n",
              "      <td>0.535315</td>\n",
              "      <td>0.248133</td>\n",
              "      <td>0.590210</td>\n",
              "      <td>0.509604</td>\n",
              "      <td>0.565541</td>\n",
              "      <td>0.865809</td>\n",
              "      <td>0.816275</td>\n",
              "      <td>0.815573</td>\n",
              "      <td>0.510223</td>\n",
              "      <td>0.687382</td>\n",
              "    </tr>\n",
              "    <tr>\n",
              "      <th>6</th>\n",
              "      <td>0.676764</td>\n",
              "      <td>0.302418</td>\n",
              "      <td>0.716136</td>\n",
              "      <td>0.685983</td>\n",
              "      <td>0.521984</td>\n",
              "      <td>0.883121</td>\n",
              "      <td>1.000000</td>\n",
              "      <td>0.921391</td>\n",
              "      <td>0.500667</td>\n",
              "      <td>0.336783</td>\n",
              "      <td>...</td>\n",
              "      <td>0.688236</td>\n",
              "      <td>0.299879</td>\n",
              "      <td>0.729565</td>\n",
              "      <td>0.675987</td>\n",
              "      <td>0.448822</td>\n",
              "      <td>0.754968</td>\n",
              "      <td>0.884103</td>\n",
              "      <td>0.861323</td>\n",
              "      <td>0.409464</td>\n",
              "      <td>0.514930</td>\n",
              "    </tr>\n",
              "    <tr>\n",
              "      <th>7</th>\n",
              "      <td>0.822529</td>\n",
              "      <td>0.293464</td>\n",
              "      <td>0.850977</td>\n",
              "      <td>0.823269</td>\n",
              "      <td>0.553695</td>\n",
              "      <td>0.831135</td>\n",
              "      <td>0.921391</td>\n",
              "      <td>1.000000</td>\n",
              "      <td>0.462497</td>\n",
              "      <td>0.166917</td>\n",
              "      <td>...</td>\n",
              "      <td>0.830318</td>\n",
              "      <td>0.292752</td>\n",
              "      <td>0.855923</td>\n",
              "      <td>0.809630</td>\n",
              "      <td>0.452753</td>\n",
              "      <td>0.667454</td>\n",
              "      <td>0.752399</td>\n",
              "      <td>0.910155</td>\n",
              "      <td>0.375744</td>\n",
              "      <td>0.368661</td>\n",
              "    </tr>\n",
              "    <tr>\n",
              "      <th>8</th>\n",
              "      <td>0.147741</td>\n",
              "      <td>0.071401</td>\n",
              "      <td>0.183027</td>\n",
              "      <td>0.151293</td>\n",
              "      <td>0.557775</td>\n",
              "      <td>0.602641</td>\n",
              "      <td>0.500667</td>\n",
              "      <td>0.462497</td>\n",
              "      <td>1.000000</td>\n",
              "      <td>0.479921</td>\n",
              "      <td>...</td>\n",
              "      <td>0.185728</td>\n",
              "      <td>0.090651</td>\n",
              "      <td>0.219169</td>\n",
              "      <td>0.177193</td>\n",
              "      <td>0.426675</td>\n",
              "      <td>0.473200</td>\n",
              "      <td>0.433721</td>\n",
              "      <td>0.430297</td>\n",
              "      <td>0.699826</td>\n",
              "      <td>0.438413</td>\n",
              "    </tr>\n",
              "    <tr>\n",
              "      <th>9</th>\n",
              "      <td>-0.311631</td>\n",
              "      <td>-0.076437</td>\n",
              "      <td>-0.261477</td>\n",
              "      <td>-0.283110</td>\n",
              "      <td>0.584792</td>\n",
              "      <td>0.565369</td>\n",
              "      <td>0.336783</td>\n",
              "      <td>0.166917</td>\n",
              "      <td>0.479921</td>\n",
              "      <td>1.000000</td>\n",
              "      <td>...</td>\n",
              "      <td>-0.253691</td>\n",
              "      <td>-0.051269</td>\n",
              "      <td>-0.205151</td>\n",
              "      <td>-0.231854</td>\n",
              "      <td>0.504942</td>\n",
              "      <td>0.458798</td>\n",
              "      <td>0.346234</td>\n",
              "      <td>0.175325</td>\n",
              "      <td>0.334019</td>\n",
              "      <td>0.767297</td>\n",
              "    </tr>\n",
              "    <tr>\n",
              "      <th>10</th>\n",
              "      <td>0.679090</td>\n",
              "      <td>0.275869</td>\n",
              "      <td>0.691765</td>\n",
              "      <td>0.732562</td>\n",
              "      <td>0.301467</td>\n",
              "      <td>0.497473</td>\n",
              "      <td>0.631925</td>\n",
              "      <td>0.698050</td>\n",
              "      <td>0.303379</td>\n",
              "      <td>0.000111</td>\n",
              "      <td>...</td>\n",
              "      <td>0.715065</td>\n",
              "      <td>0.194799</td>\n",
              "      <td>0.719684</td>\n",
              "      <td>0.751548</td>\n",
              "      <td>0.141919</td>\n",
              "      <td>0.287103</td>\n",
              "      <td>0.380585</td>\n",
              "      <td>0.531062</td>\n",
              "      <td>0.094543</td>\n",
              "      <td>0.049559</td>\n",
              "    </tr>\n",
              "    <tr>\n",
              "      <th>11</th>\n",
              "      <td>-0.097317</td>\n",
              "      <td>0.386358</td>\n",
              "      <td>-0.086761</td>\n",
              "      <td>-0.066280</td>\n",
              "      <td>0.068406</td>\n",
              "      <td>0.046205</td>\n",
              "      <td>0.076218</td>\n",
              "      <td>0.021480</td>\n",
              "      <td>0.128053</td>\n",
              "      <td>0.164174</td>\n",
              "      <td>...</td>\n",
              "      <td>-0.111690</td>\n",
              "      <td>0.409003</td>\n",
              "      <td>-0.102242</td>\n",
              "      <td>-0.083195</td>\n",
              "      <td>-0.073658</td>\n",
              "      <td>-0.092439</td>\n",
              "      <td>-0.068956</td>\n",
              "      <td>-0.119638</td>\n",
              "      <td>-0.128215</td>\n",
              "      <td>-0.045655</td>\n",
              "    </tr>\n",
              "    <tr>\n",
              "      <th>12</th>\n",
              "      <td>0.674172</td>\n",
              "      <td>0.281673</td>\n",
              "      <td>0.693135</td>\n",
              "      <td>0.726628</td>\n",
              "      <td>0.296092</td>\n",
              "      <td>0.548905</td>\n",
              "      <td>0.660391</td>\n",
              "      <td>0.710650</td>\n",
              "      <td>0.313893</td>\n",
              "      <td>0.039830</td>\n",
              "      <td>...</td>\n",
              "      <td>0.697201</td>\n",
              "      <td>0.200371</td>\n",
              "      <td>0.721031</td>\n",
              "      <td>0.730713</td>\n",
              "      <td>0.130054</td>\n",
              "      <td>0.341919</td>\n",
              "      <td>0.418899</td>\n",
              "      <td>0.554897</td>\n",
              "      <td>0.109930</td>\n",
              "      <td>0.085433</td>\n",
              "    </tr>\n",
              "    <tr>\n",
              "      <th>13</th>\n",
              "      <td>0.735864</td>\n",
              "      <td>0.259845</td>\n",
              "      <td>0.744983</td>\n",
              "      <td>0.800086</td>\n",
              "      <td>0.246552</td>\n",
              "      <td>0.455653</td>\n",
              "      <td>0.617427</td>\n",
              "      <td>0.690299</td>\n",
              "      <td>0.223970</td>\n",
              "      <td>-0.090170</td>\n",
              "      <td>...</td>\n",
              "      <td>0.757373</td>\n",
              "      <td>0.196497</td>\n",
              "      <td>0.761213</td>\n",
              "      <td>0.811408</td>\n",
              "      <td>0.125389</td>\n",
              "      <td>0.283257</td>\n",
              "      <td>0.385100</td>\n",
              "      <td>0.538166</td>\n",
              "      <td>0.074126</td>\n",
              "      <td>0.017539</td>\n",
              "    </tr>\n",
              "    <tr>\n",
              "      <th>14</th>\n",
              "      <td>-0.222600</td>\n",
              "      <td>0.006614</td>\n",
              "      <td>-0.202694</td>\n",
              "      <td>-0.166777</td>\n",
              "      <td>0.332375</td>\n",
              "      <td>0.135299</td>\n",
              "      <td>0.098564</td>\n",
              "      <td>0.027653</td>\n",
              "      <td>0.187321</td>\n",
              "      <td>0.401964</td>\n",
              "      <td>...</td>\n",
              "      <td>-0.230691</td>\n",
              "      <td>-0.074743</td>\n",
              "      <td>-0.217304</td>\n",
              "      <td>-0.182195</td>\n",
              "      <td>0.314457</td>\n",
              "      <td>-0.055558</td>\n",
              "      <td>-0.058298</td>\n",
              "      <td>-0.102007</td>\n",
              "      <td>-0.107342</td>\n",
              "      <td>0.101480</td>\n",
              "    </tr>\n",
              "    <tr>\n",
              "      <th>15</th>\n",
              "      <td>0.206000</td>\n",
              "      <td>0.191975</td>\n",
              "      <td>0.250744</td>\n",
              "      <td>0.212583</td>\n",
              "      <td>0.318943</td>\n",
              "      <td>0.738722</td>\n",
              "      <td>0.670279</td>\n",
              "      <td>0.490424</td>\n",
              "      <td>0.421659</td>\n",
              "      <td>0.559837</td>\n",
              "      <td>...</td>\n",
              "      <td>0.204607</td>\n",
              "      <td>0.143003</td>\n",
              "      <td>0.260516</td>\n",
              "      <td>0.199371</td>\n",
              "      <td>0.227394</td>\n",
              "      <td>0.678780</td>\n",
              "      <td>0.639147</td>\n",
              "      <td>0.483208</td>\n",
              "      <td>0.277878</td>\n",
              "      <td>0.590973</td>\n",
              "    </tr>\n",
              "    <tr>\n",
              "      <th>16</th>\n",
              "      <td>0.194204</td>\n",
              "      <td>0.143293</td>\n",
              "      <td>0.228082</td>\n",
              "      <td>0.207660</td>\n",
              "      <td>0.248396</td>\n",
              "      <td>0.570517</td>\n",
              "      <td>0.691270</td>\n",
              "      <td>0.439167</td>\n",
              "      <td>0.342627</td>\n",
              "      <td>0.446630</td>\n",
              "      <td>...</td>\n",
              "      <td>0.186904</td>\n",
              "      <td>0.100241</td>\n",
              "      <td>0.226680</td>\n",
              "      <td>0.188353</td>\n",
              "      <td>0.168481</td>\n",
              "      <td>0.484858</td>\n",
              "      <td>0.662564</td>\n",
              "      <td>0.440472</td>\n",
              "      <td>0.197788</td>\n",
              "      <td>0.439329</td>\n",
              "    </tr>\n",
              "    <tr>\n",
              "      <th>17</th>\n",
              "      <td>0.376169</td>\n",
              "      <td>0.163851</td>\n",
              "      <td>0.407217</td>\n",
              "      <td>0.372320</td>\n",
              "      <td>0.380676</td>\n",
              "      <td>0.642262</td>\n",
              "      <td>0.683260</td>\n",
              "      <td>0.615634</td>\n",
              "      <td>0.393298</td>\n",
              "      <td>0.341198</td>\n",
              "      <td>...</td>\n",
              "      <td>0.358127</td>\n",
              "      <td>0.086741</td>\n",
              "      <td>0.394999</td>\n",
              "      <td>0.342271</td>\n",
              "      <td>0.215351</td>\n",
              "      <td>0.452888</td>\n",
              "      <td>0.549592</td>\n",
              "      <td>0.602450</td>\n",
              "      <td>0.143116</td>\n",
              "      <td>0.310655</td>\n",
              "    </tr>\n",
              "    <tr>\n",
              "      <th>18</th>\n",
              "      <td>-0.104321</td>\n",
              "      <td>0.009127</td>\n",
              "      <td>-0.081629</td>\n",
              "      <td>-0.072497</td>\n",
              "      <td>0.200774</td>\n",
              "      <td>0.229977</td>\n",
              "      <td>0.178009</td>\n",
              "      <td>0.095351</td>\n",
              "      <td>0.449137</td>\n",
              "      <td>0.345007</td>\n",
              "      <td>...</td>\n",
              "      <td>-0.128121</td>\n",
              "      <td>-0.077473</td>\n",
              "      <td>-0.103753</td>\n",
              "      <td>-0.110343</td>\n",
              "      <td>-0.012662</td>\n",
              "      <td>0.060255</td>\n",
              "      <td>0.037119</td>\n",
              "      <td>-0.030413</td>\n",
              "      <td>0.389402</td>\n",
              "      <td>0.078079</td>\n",
              "    </tr>\n",
              "    <tr>\n",
              "      <th>19</th>\n",
              "      <td>-0.042641</td>\n",
              "      <td>0.054458</td>\n",
              "      <td>-0.005523</td>\n",
              "      <td>-0.019887</td>\n",
              "      <td>0.283607</td>\n",
              "      <td>0.507318</td>\n",
              "      <td>0.449301</td>\n",
              "      <td>0.257584</td>\n",
              "      <td>0.331786</td>\n",
              "      <td>0.688132</td>\n",
              "      <td>...</td>\n",
              "      <td>-0.037488</td>\n",
              "      <td>-0.003195</td>\n",
              "      <td>-0.001000</td>\n",
              "      <td>-0.022736</td>\n",
              "      <td>0.170568</td>\n",
              "      <td>0.390159</td>\n",
              "      <td>0.379975</td>\n",
              "      <td>0.215204</td>\n",
              "      <td>0.111094</td>\n",
              "      <td>0.591328</td>\n",
              "    </tr>\n",
              "    <tr>\n",
              "      <th>20</th>\n",
              "      <td>0.969539</td>\n",
              "      <td>0.352573</td>\n",
              "      <td>0.969476</td>\n",
              "      <td>0.962746</td>\n",
              "      <td>0.213120</td>\n",
              "      <td>0.535315</td>\n",
              "      <td>0.688236</td>\n",
              "      <td>0.830318</td>\n",
              "      <td>0.185728</td>\n",
              "      <td>-0.253691</td>\n",
              "      <td>...</td>\n",
              "      <td>1.000000</td>\n",
              "      <td>0.359921</td>\n",
              "      <td>0.993708</td>\n",
              "      <td>0.984015</td>\n",
              "      <td>0.216574</td>\n",
              "      <td>0.475820</td>\n",
              "      <td>0.573975</td>\n",
              "      <td>0.787424</td>\n",
              "      <td>0.243529</td>\n",
              "      <td>0.093492</td>\n",
              "    </tr>\n",
              "    <tr>\n",
              "      <th>21</th>\n",
              "      <td>0.297008</td>\n",
              "      <td>0.912045</td>\n",
              "      <td>0.303038</td>\n",
              "      <td>0.287489</td>\n",
              "      <td>0.036072</td>\n",
              "      <td>0.248133</td>\n",
              "      <td>0.299879</td>\n",
              "      <td>0.292752</td>\n",
              "      <td>0.090651</td>\n",
              "      <td>-0.051269</td>\n",
              "      <td>...</td>\n",
              "      <td>0.359921</td>\n",
              "      <td>1.000000</td>\n",
              "      <td>0.365098</td>\n",
              "      <td>0.345842</td>\n",
              "      <td>0.225429</td>\n",
              "      <td>0.360832</td>\n",
              "      <td>0.368366</td>\n",
              "      <td>0.359755</td>\n",
              "      <td>0.233027</td>\n",
              "      <td>0.219122</td>\n",
              "    </tr>\n",
              "    <tr>\n",
              "      <th>22</th>\n",
              "      <td>0.965137</td>\n",
              "      <td>0.358040</td>\n",
              "      <td>0.970387</td>\n",
              "      <td>0.959120</td>\n",
              "      <td>0.238853</td>\n",
              "      <td>0.590210</td>\n",
              "      <td>0.729565</td>\n",
              "      <td>0.855923</td>\n",
              "      <td>0.219169</td>\n",
              "      <td>-0.205151</td>\n",
              "      <td>...</td>\n",
              "      <td>0.993708</td>\n",
              "      <td>0.365098</td>\n",
              "      <td>1.000000</td>\n",
              "      <td>0.977578</td>\n",
              "      <td>0.236775</td>\n",
              "      <td>0.529408</td>\n",
              "      <td>0.618344</td>\n",
              "      <td>0.816322</td>\n",
              "      <td>0.269493</td>\n",
              "      <td>0.138957</td>\n",
              "    </tr>\n",
              "    <tr>\n",
              "      <th>23</th>\n",
              "      <td>0.941082</td>\n",
              "      <td>0.343546</td>\n",
              "      <td>0.941550</td>\n",
              "      <td>0.959213</td>\n",
              "      <td>0.206718</td>\n",
              "      <td>0.509604</td>\n",
              "      <td>0.675987</td>\n",
              "      <td>0.809630</td>\n",
              "      <td>0.177193</td>\n",
              "      <td>-0.231854</td>\n",
              "      <td>...</td>\n",
              "      <td>0.984015</td>\n",
              "      <td>0.345842</td>\n",
              "      <td>0.977578</td>\n",
              "      <td>1.000000</td>\n",
              "      <td>0.209145</td>\n",
              "      <td>0.438296</td>\n",
              "      <td>0.543331</td>\n",
              "      <td>0.747419</td>\n",
              "      <td>0.209146</td>\n",
              "      <td>0.079647</td>\n",
              "    </tr>\n",
              "    <tr>\n",
              "      <th>24</th>\n",
              "      <td>0.119616</td>\n",
              "      <td>0.077503</td>\n",
              "      <td>0.150549</td>\n",
              "      <td>0.123523</td>\n",
              "      <td>0.805324</td>\n",
              "      <td>0.565541</td>\n",
              "      <td>0.448822</td>\n",
              "      <td>0.452753</td>\n",
              "      <td>0.426675</td>\n",
              "      <td>0.504942</td>\n",
              "      <td>...</td>\n",
              "      <td>0.216574</td>\n",
              "      <td>0.225429</td>\n",
              "      <td>0.236775</td>\n",
              "      <td>0.209145</td>\n",
              "      <td>1.000000</td>\n",
              "      <td>0.568187</td>\n",
              "      <td>0.518523</td>\n",
              "      <td>0.547691</td>\n",
              "      <td>0.493838</td>\n",
              "      <td>0.617624</td>\n",
              "    </tr>\n",
              "    <tr>\n",
              "      <th>25</th>\n",
              "      <td>0.413463</td>\n",
              "      <td>0.277830</td>\n",
              "      <td>0.455774</td>\n",
              "      <td>0.390410</td>\n",
              "      <td>0.472468</td>\n",
              "      <td>0.865809</td>\n",
              "      <td>0.754968</td>\n",
              "      <td>0.667454</td>\n",
              "      <td>0.473200</td>\n",
              "      <td>0.458798</td>\n",
              "      <td>...</td>\n",
              "      <td>0.475820</td>\n",
              "      <td>0.360832</td>\n",
              "      <td>0.529408</td>\n",
              "      <td>0.438296</td>\n",
              "      <td>0.568187</td>\n",
              "      <td>1.000000</td>\n",
              "      <td>0.892261</td>\n",
              "      <td>0.801080</td>\n",
              "      <td>0.614441</td>\n",
              "      <td>0.810455</td>\n",
              "    </tr>\n",
              "    <tr>\n",
              "      <th>26</th>\n",
              "      <td>0.526911</td>\n",
              "      <td>0.301025</td>\n",
              "      <td>0.563879</td>\n",
              "      <td>0.512606</td>\n",
              "      <td>0.434926</td>\n",
              "      <td>0.816275</td>\n",
              "      <td>0.884103</td>\n",
              "      <td>0.752399</td>\n",
              "      <td>0.433721</td>\n",
              "      <td>0.346234</td>\n",
              "      <td>...</td>\n",
              "      <td>0.573975</td>\n",
              "      <td>0.368366</td>\n",
              "      <td>0.618344</td>\n",
              "      <td>0.543331</td>\n",
              "      <td>0.518523</td>\n",
              "      <td>0.892261</td>\n",
              "      <td>1.000000</td>\n",
              "      <td>0.855434</td>\n",
              "      <td>0.532520</td>\n",
              "      <td>0.686511</td>\n",
              "    </tr>\n",
              "    <tr>\n",
              "      <th>27</th>\n",
              "      <td>0.744214</td>\n",
              "      <td>0.295316</td>\n",
              "      <td>0.771241</td>\n",
              "      <td>0.722017</td>\n",
              "      <td>0.503053</td>\n",
              "      <td>0.815573</td>\n",
              "      <td>0.861323</td>\n",
              "      <td>0.910155</td>\n",
              "      <td>0.430297</td>\n",
              "      <td>0.175325</td>\n",
              "      <td>...</td>\n",
              "      <td>0.787424</td>\n",
              "      <td>0.359755</td>\n",
              "      <td>0.816322</td>\n",
              "      <td>0.747419</td>\n",
              "      <td>0.547691</td>\n",
              "      <td>0.801080</td>\n",
              "      <td>0.855434</td>\n",
              "      <td>1.000000</td>\n",
              "      <td>0.502528</td>\n",
              "      <td>0.511114</td>\n",
              "    </tr>\n",
              "    <tr>\n",
              "      <th>28</th>\n",
              "      <td>0.163953</td>\n",
              "      <td>0.105008</td>\n",
              "      <td>0.189115</td>\n",
              "      <td>0.143570</td>\n",
              "      <td>0.394309</td>\n",
              "      <td>0.510223</td>\n",
              "      <td>0.409464</td>\n",
              "      <td>0.375744</td>\n",
              "      <td>0.699826</td>\n",
              "      <td>0.334019</td>\n",
              "      <td>...</td>\n",
              "      <td>0.243529</td>\n",
              "      <td>0.233027</td>\n",
              "      <td>0.269493</td>\n",
              "      <td>0.209146</td>\n",
              "      <td>0.493838</td>\n",
              "      <td>0.614441</td>\n",
              "      <td>0.532520</td>\n",
              "      <td>0.502528</td>\n",
              "      <td>1.000000</td>\n",
              "      <td>0.537848</td>\n",
              "    </tr>\n",
              "    <tr>\n",
              "      <th>29</th>\n",
              "      <td>0.007066</td>\n",
              "      <td>0.119205</td>\n",
              "      <td>0.051019</td>\n",
              "      <td>0.003738</td>\n",
              "      <td>0.499316</td>\n",
              "      <td>0.687382</td>\n",
              "      <td>0.514930</td>\n",
              "      <td>0.368661</td>\n",
              "      <td>0.438413</td>\n",
              "      <td>0.767297</td>\n",
              "      <td>...</td>\n",
              "      <td>0.093492</td>\n",
              "      <td>0.219122</td>\n",
              "      <td>0.138957</td>\n",
              "      <td>0.079647</td>\n",
              "      <td>0.617624</td>\n",
              "      <td>0.810455</td>\n",
              "      <td>0.686511</td>\n",
              "      <td>0.511114</td>\n",
              "      <td>0.537848</td>\n",
              "      <td>1.000000</td>\n",
              "    </tr>\n",
              "  </tbody>\n",
              "</table>\n",
              "<p>30 rows × 30 columns</p>\n",
              "</div>\n",
              "    <div class=\"colab-df-buttons\">\n",
              "\n",
              "  <div class=\"colab-df-container\">\n",
              "    <button class=\"colab-df-convert\" onclick=\"convertToInteractive('df-4a6e82b1-569f-43ec-ba8f-25dbb25394a1')\"\n",
              "            title=\"Convert this dataframe to an interactive table.\"\n",
              "            style=\"display:none;\">\n",
              "\n",
              "  <svg xmlns=\"http://www.w3.org/2000/svg\" height=\"24px\" viewBox=\"0 -960 960 960\">\n",
              "    <path d=\"M120-120v-720h720v720H120Zm60-500h600v-160H180v160Zm220 220h160v-160H400v160Zm0 220h160v-160H400v160ZM180-400h160v-160H180v160Zm440 0h160v-160H620v160ZM180-180h160v-160H180v160Zm440 0h160v-160H620v160Z\"/>\n",
              "  </svg>\n",
              "    </button>\n",
              "\n",
              "  <style>\n",
              "    .colab-df-container {\n",
              "      display:flex;\n",
              "      gap: 12px;\n",
              "    }\n",
              "\n",
              "    .colab-df-convert {\n",
              "      background-color: #E8F0FE;\n",
              "      border: none;\n",
              "      border-radius: 50%;\n",
              "      cursor: pointer;\n",
              "      display: none;\n",
              "      fill: #1967D2;\n",
              "      height: 32px;\n",
              "      padding: 0 0 0 0;\n",
              "      width: 32px;\n",
              "    }\n",
              "\n",
              "    .colab-df-convert:hover {\n",
              "      background-color: #E2EBFA;\n",
              "      box-shadow: 0px 1px 2px rgba(60, 64, 67, 0.3), 0px 1px 3px 1px rgba(60, 64, 67, 0.15);\n",
              "      fill: #174EA6;\n",
              "    }\n",
              "\n",
              "    .colab-df-buttons div {\n",
              "      margin-bottom: 4px;\n",
              "    }\n",
              "\n",
              "    [theme=dark] .colab-df-convert {\n",
              "      background-color: #3B4455;\n",
              "      fill: #D2E3FC;\n",
              "    }\n",
              "\n",
              "    [theme=dark] .colab-df-convert:hover {\n",
              "      background-color: #434B5C;\n",
              "      box-shadow: 0px 1px 3px 1px rgba(0, 0, 0, 0.15);\n",
              "      filter: drop-shadow(0px 1px 2px rgba(0, 0, 0, 0.3));\n",
              "      fill: #FFFFFF;\n",
              "    }\n",
              "  </style>\n",
              "\n",
              "    <script>\n",
              "      const buttonEl =\n",
              "        document.querySelector('#df-4a6e82b1-569f-43ec-ba8f-25dbb25394a1 button.colab-df-convert');\n",
              "      buttonEl.style.display =\n",
              "        google.colab.kernel.accessAllowed ? 'block' : 'none';\n",
              "\n",
              "      async function convertToInteractive(key) {\n",
              "        const element = document.querySelector('#df-4a6e82b1-569f-43ec-ba8f-25dbb25394a1');\n",
              "        const dataTable =\n",
              "          await google.colab.kernel.invokeFunction('convertToInteractive',\n",
              "                                                    [key], {});\n",
              "        if (!dataTable) return;\n",
              "\n",
              "        const docLinkHtml = 'Like what you see? Visit the ' +\n",
              "          '<a target=\"_blank\" href=https://colab.research.google.com/notebooks/data_table.ipynb>data table notebook</a>'\n",
              "          + ' to learn more about interactive tables.';\n",
              "        element.innerHTML = '';\n",
              "        dataTable['output_type'] = 'display_data';\n",
              "        await google.colab.output.renderOutput(dataTable, element);\n",
              "        const docLink = document.createElement('div');\n",
              "        docLink.innerHTML = docLinkHtml;\n",
              "        element.appendChild(docLink);\n",
              "      }\n",
              "    </script>\n",
              "  </div>\n",
              "\n",
              "\n",
              "<div id=\"df-adaaa857-adbe-4327-b0a8-9577de56219e\">\n",
              "  <button class=\"colab-df-quickchart\" onclick=\"quickchart('df-adaaa857-adbe-4327-b0a8-9577de56219e')\"\n",
              "            title=\"Suggest charts\"\n",
              "            style=\"display:none;\">\n",
              "\n",
              "<svg xmlns=\"http://www.w3.org/2000/svg\" height=\"24px\"viewBox=\"0 0 24 24\"\n",
              "     width=\"24px\">\n",
              "    <g>\n",
              "        <path d=\"M19 3H5c-1.1 0-2 .9-2 2v14c0 1.1.9 2 2 2h14c1.1 0 2-.9 2-2V5c0-1.1-.9-2-2-2zM9 17H7v-7h2v7zm4 0h-2V7h2v10zm4 0h-2v-4h2v4z\"/>\n",
              "    </g>\n",
              "</svg>\n",
              "  </button>\n",
              "\n",
              "<style>\n",
              "  .colab-df-quickchart {\n",
              "      --bg-color: #E8F0FE;\n",
              "      --fill-color: #1967D2;\n",
              "      --hover-bg-color: #E2EBFA;\n",
              "      --hover-fill-color: #174EA6;\n",
              "      --disabled-fill-color: #AAA;\n",
              "      --disabled-bg-color: #DDD;\n",
              "  }\n",
              "\n",
              "  [theme=dark] .colab-df-quickchart {\n",
              "      --bg-color: #3B4455;\n",
              "      --fill-color: #D2E3FC;\n",
              "      --hover-bg-color: #434B5C;\n",
              "      --hover-fill-color: #FFFFFF;\n",
              "      --disabled-bg-color: #3B4455;\n",
              "      --disabled-fill-color: #666;\n",
              "  }\n",
              "\n",
              "  .colab-df-quickchart {\n",
              "    background-color: var(--bg-color);\n",
              "    border: none;\n",
              "    border-radius: 50%;\n",
              "    cursor: pointer;\n",
              "    display: none;\n",
              "    fill: var(--fill-color);\n",
              "    height: 32px;\n",
              "    padding: 0;\n",
              "    width: 32px;\n",
              "  }\n",
              "\n",
              "  .colab-df-quickchart:hover {\n",
              "    background-color: var(--hover-bg-color);\n",
              "    box-shadow: 0 1px 2px rgba(60, 64, 67, 0.3), 0 1px 3px 1px rgba(60, 64, 67, 0.15);\n",
              "    fill: var(--button-hover-fill-color);\n",
              "  }\n",
              "\n",
              "  .colab-df-quickchart-complete:disabled,\n",
              "  .colab-df-quickchart-complete:disabled:hover {\n",
              "    background-color: var(--disabled-bg-color);\n",
              "    fill: var(--disabled-fill-color);\n",
              "    box-shadow: none;\n",
              "  }\n",
              "\n",
              "  .colab-df-spinner {\n",
              "    border: 2px solid var(--fill-color);\n",
              "    border-color: transparent;\n",
              "    border-bottom-color: var(--fill-color);\n",
              "    animation:\n",
              "      spin 1s steps(1) infinite;\n",
              "  }\n",
              "\n",
              "  @keyframes spin {\n",
              "    0% {\n",
              "      border-color: transparent;\n",
              "      border-bottom-color: var(--fill-color);\n",
              "      border-left-color: var(--fill-color);\n",
              "    }\n",
              "    20% {\n",
              "      border-color: transparent;\n",
              "      border-left-color: var(--fill-color);\n",
              "      border-top-color: var(--fill-color);\n",
              "    }\n",
              "    30% {\n",
              "      border-color: transparent;\n",
              "      border-left-color: var(--fill-color);\n",
              "      border-top-color: var(--fill-color);\n",
              "      border-right-color: var(--fill-color);\n",
              "    }\n",
              "    40% {\n",
              "      border-color: transparent;\n",
              "      border-right-color: var(--fill-color);\n",
              "      border-top-color: var(--fill-color);\n",
              "    }\n",
              "    60% {\n",
              "      border-color: transparent;\n",
              "      border-right-color: var(--fill-color);\n",
              "    }\n",
              "    80% {\n",
              "      border-color: transparent;\n",
              "      border-right-color: var(--fill-color);\n",
              "      border-bottom-color: var(--fill-color);\n",
              "    }\n",
              "    90% {\n",
              "      border-color: transparent;\n",
              "      border-bottom-color: var(--fill-color);\n",
              "    }\n",
              "  }\n",
              "</style>\n",
              "\n",
              "  <script>\n",
              "    async function quickchart(key) {\n",
              "      const quickchartButtonEl =\n",
              "        document.querySelector('#' + key + ' button');\n",
              "      quickchartButtonEl.disabled = true;  // To prevent multiple clicks.\n",
              "      quickchartButtonEl.classList.add('colab-df-spinner');\n",
              "      try {\n",
              "        const charts = await google.colab.kernel.invokeFunction(\n",
              "            'suggestCharts', [key], {});\n",
              "      } catch (error) {\n",
              "        console.error('Error during call to suggestCharts:', error);\n",
              "      }\n",
              "      quickchartButtonEl.classList.remove('colab-df-spinner');\n",
              "      quickchartButtonEl.classList.add('colab-df-quickchart-complete');\n",
              "    }\n",
              "    (() => {\n",
              "      let quickchartButtonEl =\n",
              "        document.querySelector('#df-adaaa857-adbe-4327-b0a8-9577de56219e button');\n",
              "      quickchartButtonEl.style.display =\n",
              "        google.colab.kernel.accessAllowed ? 'block' : 'none';\n",
              "    })();\n",
              "  </script>\n",
              "</div>\n",
              "\n",
              "  <div id=\"id_d1301eb3-730e-48a8-8533-93258f8eba9a\">\n",
              "    <style>\n",
              "      .colab-df-generate {\n",
              "        background-color: #E8F0FE;\n",
              "        border: none;\n",
              "        border-radius: 50%;\n",
              "        cursor: pointer;\n",
              "        display: none;\n",
              "        fill: #1967D2;\n",
              "        height: 32px;\n",
              "        padding: 0 0 0 0;\n",
              "        width: 32px;\n",
              "      }\n",
              "\n",
              "      .colab-df-generate:hover {\n",
              "        background-color: #E2EBFA;\n",
              "        box-shadow: 0px 1px 2px rgba(60, 64, 67, 0.3), 0px 1px 3px 1px rgba(60, 64, 67, 0.15);\n",
              "        fill: #174EA6;\n",
              "      }\n",
              "\n",
              "      [theme=dark] .colab-df-generate {\n",
              "        background-color: #3B4455;\n",
              "        fill: #D2E3FC;\n",
              "      }\n",
              "\n",
              "      [theme=dark] .colab-df-generate:hover {\n",
              "        background-color: #434B5C;\n",
              "        box-shadow: 0px 1px 3px 1px rgba(0, 0, 0, 0.15);\n",
              "        filter: drop-shadow(0px 1px 2px rgba(0, 0, 0, 0.3));\n",
              "        fill: #FFFFFF;\n",
              "      }\n",
              "    </style>\n",
              "    <button class=\"colab-df-generate\" onclick=\"generateWithVariable('matrix_corr')\"\n",
              "            title=\"Generate code using this dataframe.\"\n",
              "            style=\"display:none;\">\n",
              "\n",
              "  <svg xmlns=\"http://www.w3.org/2000/svg\" height=\"24px\"viewBox=\"0 0 24 24\"\n",
              "       width=\"24px\">\n",
              "    <path d=\"M7,19H8.4L18.45,9,17,7.55,7,17.6ZM5,21V16.75L18.45,3.32a2,2,0,0,1,2.83,0l1.4,1.43a1.91,1.91,0,0,1,.58,1.4,1.91,1.91,0,0,1-.58,1.4L9.25,21ZM18.45,9,17,7.55Zm-12,3A5.31,5.31,0,0,0,4.9,8.1,5.31,5.31,0,0,0,1,6.5,5.31,5.31,0,0,0,4.9,4.9,5.31,5.31,0,0,0,6.5,1,5.31,5.31,0,0,0,8.1,4.9,5.31,5.31,0,0,0,12,6.5,5.46,5.46,0,0,0,6.5,12Z\"/>\n",
              "  </svg>\n",
              "    </button>\n",
              "    <script>\n",
              "      (() => {\n",
              "      const buttonEl =\n",
              "        document.querySelector('#id_d1301eb3-730e-48a8-8533-93258f8eba9a button.colab-df-generate');\n",
              "      buttonEl.style.display =\n",
              "        google.colab.kernel.accessAllowed ? 'block' : 'none';\n",
              "\n",
              "      buttonEl.onclick = () => {\n",
              "        google.colab.notebook.generateWithVariable('matrix_corr');\n",
              "      }\n",
              "      })();\n",
              "    </script>\n",
              "  </div>\n",
              "\n",
              "    </div>\n",
              "  </div>\n"
            ],
            "application/vnd.google.colaboratory.intrinsic+json": {
              "type": "dataframe",
              "variable_name": "matrix_corr"
            }
          },
          "metadata": {},
          "execution_count": 185
        }
      ]
    },
    {
      "cell_type": "code",
      "metadata": {
        "id": "9lvLldX5eWVW",
        "outputId": "07a933aa-78c8-4cf2-c694-b705a90e0084",
        "colab": {
          "base_uri": "https://localhost:8080/"
        }
      },
      "source": [
        "for i in range(len(matrix_corr.columns)):\n",
        "    for j in range(i):\n",
        "        if abs(matrix_corr.iloc[i, j]) > 0.8:\n",
        "            colname = matrix_corr.columns[i]\n",
        "            set_variaveis_corr.add(colname)\n",
        "\n",
        "set_variaveis_corr"
      ],
      "execution_count": 186,
      "outputs": [
        {
          "output_type": "execute_result",
          "data": {
            "text/plain": [
              "{2, 3, 6, 7, 12, 13, 16, 19, 20, 21, 22, 23, 24, 25, 26, 27, 29}"
            ]
          },
          "metadata": {},
          "execution_count": 186
        }
      ]
    },
    {
      "cell_type": "markdown",
      "metadata": {
        "id": "R4YC3Kl5erhc"
      },
      "source": [
        "Deletando as colunas altamente correlacionadas do dataframe e calculando a correlação novamente:"
      ]
    },
    {
      "cell_type": "code",
      "metadata": {
        "id": "psDDQlrSevG5",
        "outputId": "6fc9a6e4-ad0e-4606-d871-4359a3861394",
        "colab": {
          "base_uri": "https://localhost:8080/",
          "height": 1000
        }
      },
      "source": [
        "X_cancer = X_cancer.drop(set_variaveis_corr, axis = 1)\n",
        "\n",
        "fig, ax = plt.subplots(figsize = (20, 17))\n",
        "mask = np.zeros_like(X_cancer.corr().abs())\n",
        "mask[np.triu_indices_from(mask)] = 1\n",
        "sns.heatmap(X_cancer.corr().abs(), mask = mask, ax = ax, cmap='coolwarm', annot = True, fmt = '.2f')"
      ],
      "execution_count": 187,
      "outputs": [
        {
          "output_type": "execute_result",
          "data": {
            "text/plain": [
              "<Axes: >"
            ]
          },
          "metadata": {},
          "execution_count": 187
        },
        {
          "output_type": "display_data",
          "data": {
            "text/plain": [
              "<Figure size 2000x1700 with 2 Axes>"
            ],
            "image/png": "[encoded data removed]"
          },
          "metadata": {}
        }
      ]
    },
    {
      "cell_type": "markdown",
      "metadata": {
        "id": "1oDecB_8fGwM"
      },
      "source": [
        "### **Conclusão**: Qual a conclusão podemos tirar esta análise?\n",
        "* Reduzimos de 29 para 13 variáveis."
      ]
    },
    {
      "cell_type": "markdown",
      "metadata": {
        "id": "avZ12nHqiK0M"
      },
      "source": [
        "___\n",
        "# **RFE - Recursive Feature Elimination** (continuação da Análise de Correlação)\n",
        "* Muito tempo de processamento! Portanto, exclua as colunas altamente correlacionadas do dataframe previamente.\n",
        "* A matriz X e target deste tópico vem do tópico anterior \"Análise de Correlação\";\n",
        "\n",
        "* Leitura recomendada: [Feature Selection in Python — Recursive Feature Elimination](https://towardsdatascience.com/feature-selection-in-python-recursive-feature-elimination-19f1c39b8d15)\n"
      ]
    },
    {
      "cell_type": "code",
      "metadata": {
        "id": "MCGTzI59R3G7"
      },
      "source": [
        "from sklearn.feature_selection import RFECV\n",
        "from sklearn.ensemble import RandomForestRegressor\n",
        "from sklearn.model_selection import StratifiedKFold"
      ],
      "execution_count": 188,
      "outputs": []
    },
    {
      "cell_type": "code",
      "metadata": {
        "id": "sqsK1bGmiK0O"
      },
      "source": [
        "rf = RandomForestRegressor(random_state = 20111974)\n",
        "filtro_rfe = RFECV(estimator = rf, step = 1, cv = StratifiedKFold(10))"
      ],
      "execution_count": 189,
      "outputs": []
    },
    {
      "cell_type": "markdown",
      "metadata": {
        "id": "RfpbyerjQDlk"
      },
      "source": [
        "Ajustamos o modelo com o filtro aplicado anteriormente:"
      ]
    },
    {
      "cell_type": "code",
      "metadata": {
        "id": "u4xUqjbxQCvS",
        "outputId": "303d184c-08f4-46a1-bce2-574a86343e4d",
        "colab": {
          "base_uri": "https://localhost:8080/",
          "height": 136
        }
      },
      "source": [
        "filtro_rfe.fit(X_cancer, y_cancer)"
      ],
      "execution_count": 190,
      "outputs": [
        {
          "output_type": "execute_result",
          "data": {
            "text/plain": [
              "RFECV(cv=StratifiedKFold(n_splits=10, random_state=None, shuffle=False),\n",
              "      estimator=RandomForestRegressor(random_state=20111974))"
            ],
            "text/html": [
              "<style>#sk-container-id-9 {\n",
              "  /* Definition of color scheme common for light and dark mode */\n",
              "  --sklearn-color-text: black;\n",
              "  --sklearn-color-line: gray;\n",
              "  /* Definition of color scheme for unfitted estimators */\n",
              "  --sklearn-color-unfitted-level-0: #fff5e6;\n",
              "  --sklearn-color-unfitted-level-1: #f6e4d2;\n",
              "  --sklearn-color-unfitted-level-2: #ffe0b3;\n",
              "  --sklearn-color-unfitted-level-3: chocolate;\n",
              "  /* Definition of color scheme for fitted estimators */\n",
              "  --sklearn-color-fitted-level-0: #f0f8ff;\n",
              "  --sklearn-color-fitted-level-1: #d4ebff;\n",
              "  --sklearn-color-fitted-level-2: #b3dbfd;\n",
              "  --sklearn-color-fitted-level-3: cornflowerblue;\n",
              "\n",
              "  /* Specific color for light theme */\n",
              "  --sklearn-color-text-on-default-background: var(--sg-text-color, var(--theme-code-foreground, var(--jp-content-font-color1, black)));\n",
              "  --sklearn-color-background: var(--sg-background-color, var(--theme-background, var(--jp-layout-color0, white)));\n",
              "  --sklearn-color-border-box: var(--sg-text-color, var(--theme-code-foreground, var(--jp-content-font-color1, black)));\n",
              "  --sklearn-color-icon: #696969;\n",
              "\n",
              "  @media (prefers-color-scheme: dark) {\n",
              "    /* Redefinition of color scheme for dark theme */\n",
              "    --sklearn-color-text-on-default-background: var(--sg-text-color, var(--theme-code-foreground, var(--jp-content-font-color1, white)));\n",
              "    --sklearn-color-background: var(--sg-background-color, var(--theme-background, var(--jp-layout-color0, #111)));\n",
              "    --sklearn-color-border-box: var(--sg-text-color, var(--theme-code-foreground, var(--jp-content-font-color1, white)));\n",
              "    --sklearn-color-icon: #878787;\n",
              "  }\n",
              "}\n",
              "\n",
              "#sk-container-id-9 {\n",
              "  color: var(--sklearn-color-text);\n",
              "}\n",
              "\n",
              "#sk-container-id-9 pre {\n",
              "  padding: 0;\n",
              "}\n",
              "\n",
              "#sk-container-id-9 input.sk-hidden--visually {\n",
              "  border: 0;\n",
              "  clip: rect(1px 1px 1px 1px);\n",
              "  clip: rect(1px, 1px, 1px, 1px);\n",
              "  height: 1px;\n",
              "  margin: -1px;\n",
              "  overflow: hidden;\n",
              "  padding: 0;\n",
              "  position: absolute;\n",
              "  width: 1px;\n",
              "}\n",
              "\n",
              "#sk-container-id-9 div.sk-dashed-wrapped {\n",
              "  border: 1px dashed var(--sklearn-color-line);\n",
              "  margin: 0 0.4em 0.5em 0.4em;\n",
              "  box-sizing: border-box;\n",
              "  padding-bottom: 0.4em;\n",
              "  background-color: var(--sklearn-color-background);\n",
              "}\n",
              "\n",
              "#sk-container-id-9 div.sk-container {\n",
              "  /* jupyter's `normalize.less` sets `[hidden] { display: none; }`\n",
              "     but bootstrap.min.css set `[hidden] { display: none !important; }`\n",
              "     so we also need the `!important` here to be able to override the\n",
              "     default hidden behavior on the sphinx rendered scikit-learn.org.\n",
              "     See: https://github.com/scikit-learn/scikit-learn/issues/21755 */\n",
              "  display: inline-block !important;\n",
              "  position: relative;\n",
              "}\n",
              "\n",
              "#sk-container-id-9 div.sk-text-repr-fallback {\n",
              "  display: none;\n",
              "}\n",
              "\n",
              "div.sk-parallel-item,\n",
              "div.sk-serial,\n",
              "div.sk-item {\n",
              "  /* draw centered vertical line to link estimators */\n",
              "  background-image: linear-gradient(var(--sklearn-color-text-on-default-background), var(--sklearn-color-text-on-default-background));\n",
              "  background-size: 2px 100%;\n",
              "  background-repeat: no-repeat;\n",
              "  background-position: center center;\n",
              "}\n",
              "\n",
              "/* Parallel-specific style estimator block */\n",
              "\n",
              "#sk-container-id-9 div.sk-parallel-item::after {\n",
              "  content: \"\";\n",
              "  width: 100%;\n",
              "  border-bottom: 2px solid var(--sklearn-color-text-on-default-background);\n",
              "  flex-grow: 1;\n",
              "}\n",
              "\n",
              "#sk-container-id-9 div.sk-parallel {\n",
              "  display: flex;\n",
              "  align-items: stretch;\n",
              "  justify-content: center;\n",
              "  background-color: var(--sklearn-color-background);\n",
              "  position: relative;\n",
              "}\n",
              "\n",
              "#sk-container-id-9 div.sk-parallel-item {\n",
              "  display: flex;\n",
              "  flex-direction: column;\n",
              "}\n",
              "\n",
              "#sk-container-id-9 div.sk-parallel-item:first-child::after {\n",
              "  align-self: flex-end;\n",
              "  width: 50%;\n",
              "}\n",
              "\n",
              "#sk-container-id-9 div.sk-parallel-item:last-child::after {\n",
              "  align-self: flex-start;\n",
              "  width: 50%;\n",
              "}\n",
              "\n",
              "#sk-container-id-9 div.sk-parallel-item:only-child::after {\n",
              "  width: 0;\n",
              "}\n",
              "\n",
              "/* Serial-specific style estimator block */\n",
              "\n",
              "#sk-container-id-9 div.sk-serial {\n",
              "  display: flex;\n",
              "  flex-direction: column;\n",
              "  align-items: center;\n",
              "  background-color: var(--sklearn-color-background);\n",
              "  padding-right: 1em;\n",
              "  padding-left: 1em;\n",
              "}\n",
              "\n",
              "\n",
              "/* Toggleable style: style used for estimator/Pipeline/ColumnTransformer box that is\n",
              "clickable and can be expanded/collapsed.\n",
              "- Pipeline and ColumnTransformer use this feature and define the default style\n",
              "- Estimators will overwrite some part of the style using the `sk-estimator` class\n",
              "*/\n",
              "\n",
              "/* Pipeline and ColumnTransformer style (default) */\n",
              "\n",
              "#sk-container-id-9 div.sk-toggleable {\n",
              "  /* Default theme specific background. It is overwritten whether we have a\n",
              "  specific estimator or a Pipeline/ColumnTransformer */\n",
              "  background-color: var(--sklearn-color-background);\n",
              "}\n",
              "\n",
              "/* Toggleable label */\n",
              "#sk-container-id-9 label.sk-toggleable__label {\n",
              "  cursor: pointer;\n",
              "  display: block;\n",
              "  width: 100%;\n",
              "  margin-bottom: 0;\n",
              "  padding: 0.5em;\n",
              "  box-sizing: border-box;\n",
              "  text-align: center;\n",
              "}\n",
              "\n",
              "#sk-container-id-9 label.sk-toggleable__label-arrow:before {\n",
              "  /* Arrow on the left of the label */\n",
              "  content: \"▸\";\n",
              "  float: left;\n",
              "  margin-right: 0.25em;\n",
              "  color: var(--sklearn-color-icon);\n",
              "}\n",
              "\n",
              "#sk-container-id-9 label.sk-toggleable__label-arrow:hover:before {\n",
              "  color: var(--sklearn-color-text);\n",
              "}\n",
              "\n",
              "/* Toggleable content - dropdown */\n",
              "\n",
              "#sk-container-id-9 div.sk-toggleable__content {\n",
              "  max-height: 0;\n",
              "  max-width: 0;\n",
              "  overflow: hidden;\n",
              "  text-align: left;\n",
              "  /* unfitted */\n",
              "  background-color: var(--sklearn-color-unfitted-level-0);\n",
              "}\n",
              "\n",
              "#sk-container-id-9 div.sk-toggleable__content.fitted {\n",
              "  /* fitted */\n",
              "  background-color: var(--sklearn-color-fitted-level-0);\n",
              "}\n",
              "\n",
              "#sk-container-id-9 div.sk-toggleable__content pre {\n",
              "  margin: 0.2em;\n",
              "  border-radius: 0.25em;\n",
              "  color: var(--sklearn-color-text);\n",
              "  /* unfitted */\n",
              "  background-color: var(--sklearn-color-unfitted-level-0);\n",
              "}\n",
              "\n",
              "#sk-container-id-9 div.sk-toggleable__content.fitted pre {\n",
              "  /* unfitted */\n",
              "  background-color: var(--sklearn-color-fitted-level-0);\n",
              "}\n",
              "\n",
              "#sk-container-id-9 input.sk-toggleable__control:checked~div.sk-toggleable__content {\n",
              "  /* Expand drop-down */\n",
              "  max-height: 200px;\n",
              "  max-width: 100%;\n",
              "  overflow: auto;\n",
              "}\n",
              "\n",
              "#sk-container-id-9 input.sk-toggleable__control:checked~label.sk-toggleable__label-arrow:before {\n",
              "  content: \"▾\";\n",
              "}\n",
              "\n",
              "/* Pipeline/ColumnTransformer-specific style */\n",
              "\n",
              "#sk-container-id-9 div.sk-label input.sk-toggleable__control:checked~label.sk-toggleable__label {\n",
              "  color: var(--sklearn-color-text);\n",
              "  background-color: var(--sklearn-color-unfitted-level-2);\n",
              "}\n",
              "\n",
              "#sk-container-id-9 div.sk-label.fitted input.sk-toggleable__control:checked~label.sk-toggleable__label {\n",
              "  background-color: var(--sklearn-color-fitted-level-2);\n",
              "}\n",
              "\n",
              "/* Estimator-specific style */\n",
              "\n",
              "/* Colorize estimator box */\n",
              "#sk-container-id-9 div.sk-estimator input.sk-toggleable__control:checked~label.sk-toggleable__label {\n",
              "  /* unfitted */\n",
              "  background-color: var(--sklearn-color-unfitted-level-2);\n",
              "}\n",
              "\n",
              "#sk-container-id-9 div.sk-estimator.fitted input.sk-toggleable__control:checked~label.sk-toggleable__label {\n",
              "  /* fitted */\n",
              "  background-color: var(--sklearn-color-fitted-level-2);\n",
              "}\n",
              "\n",
              "#sk-container-id-9 div.sk-label label.sk-toggleable__label,\n",
              "#sk-container-id-9 div.sk-label label {\n",
              "  /* The background is the default theme color */\n",
              "  color: var(--sklearn-color-text-on-default-background);\n",
              "}\n",
              "\n",
              "/* On hover, darken the color of the background */\n",
              "#sk-container-id-9 div.sk-label:hover label.sk-toggleable__label {\n",
              "  color: var(--sklearn-color-text);\n",
              "  background-color: var(--sklearn-color-unfitted-level-2);\n",
              "}\n",
              "\n",
              "/* Label box, darken color on hover, fitted */\n",
              "#sk-container-id-9 div.sk-label.fitted:hover label.sk-toggleable__label.fitted {\n",
              "  color: var(--sklearn-color-text);\n",
              "  background-color: var(--sklearn-color-fitted-level-2);\n",
              "}\n",
              "\n",
              "/* Estimator label */\n",
              "\n",
              "#sk-container-id-9 div.sk-label label {\n",
              "  font-family: monospace;\n",
              "  font-weight: bold;\n",
              "  display: inline-block;\n",
              "  line-height: 1.2em;\n",
              "}\n",
              "\n",
              "#sk-container-id-9 div.sk-label-container {\n",
              "  text-align: center;\n",
              "}\n",
              "\n",
              "/* Estimator-specific */\n",
              "#sk-container-id-9 div.sk-estimator {\n",
              "  font-family: monospace;\n",
              "  border: 1px dotted var(--sklearn-color-border-box);\n",
              "  border-radius: 0.25em;\n",
              "  box-sizing: border-box;\n",
              "  margin-bottom: 0.5em;\n",
              "  /* unfitted */\n",
              "  background-color: var(--sklearn-color-unfitted-level-0);\n",
              "}\n",
              "\n",
              "#sk-container-id-9 div.sk-estimator.fitted {\n",
              "  /* fitted */\n",
              "  background-color: var(--sklearn-color-fitted-level-0);\n",
              "}\n",
              "\n",
              "/* on hover */\n",
              "#sk-container-id-9 div.sk-estimator:hover {\n",
              "  /* unfitted */\n",
              "  background-color: var(--sklearn-color-unfitted-level-2);\n",
              "}\n",
              "\n",
              "#sk-container-id-9 div.sk-estimator.fitted:hover {\n",
              "  /* fitted */\n",
              "  background-color: var(--sklearn-color-fitted-level-2);\n",
              "}\n",
              "\n",
              "/* Specification for estimator info (e.g. \"i\" and \"?\") */\n",
              "\n",
              "/* Common style for \"i\" and \"?\" */\n",
              "\n",
              ".sk-estimator-doc-link,\n",
              "a:link.sk-estimator-doc-link,\n",
              "a:visited.sk-estimator-doc-link {\n",
              "  float: right;\n",
              "  font-size: smaller;\n",
              "  line-height: 1em;\n",
              "  font-family: monospace;\n",
              "  background-color: var(--sklearn-color-background);\n",
              "  border-radius: 1em;\n",
              "  height: 1em;\n",
              "  width: 1em;\n",
              "  text-decoration: none !important;\n",
              "  margin-left: 1ex;\n",
              "  /* unfitted */\n",
              "  border: var(--sklearn-color-unfitted-level-1) 1pt solid;\n",
              "  color: var(--sklearn-color-unfitted-level-1);\n",
              "}\n",
              "\n",
              ".sk-estimator-doc-link.fitted,\n",
              "a:link.sk-estimator-doc-link.fitted,\n",
              "a:visited.sk-estimator-doc-link.fitted {\n",
              "  /* fitted */\n",
              "  border: var(--sklearn-color-fitted-level-1) 1pt solid;\n",
              "  color: var(--sklearn-color-fitted-level-1);\n",
              "}\n",
              "\n",
              "/* On hover */\n",
              "div.sk-estimator:hover .sk-estimator-doc-link:hover,\n",
              ".sk-estimator-doc-link:hover,\n",
              "div.sk-label-container:hover .sk-estimator-doc-link:hover,\n",
              ".sk-estimator-doc-link:hover {\n",
              "  /* unfitted */\n",
              "  background-color: var(--sklearn-color-unfitted-level-3);\n",
              "  color: var(--sklearn-color-background);\n",
              "  text-decoration: none;\n",
              "}\n",
              "\n",
              "div.sk-estimator.fitted:hover .sk-estimator-doc-link.fitted:hover,\n",
              ".sk-estimator-doc-link.fitted:hover,\n",
              "div.sk-label-container:hover .sk-estimator-doc-link.fitted:hover,\n",
              ".sk-estimator-doc-link.fitted:hover {\n",
              "  /* fitted */\n",
              "  background-color: var(--sklearn-color-fitted-level-3);\n",
              "  color: var(--sklearn-color-background);\n",
              "  text-decoration: none;\n",
              "}\n",
              "\n",
              "/* Span, style for the box shown on hovering the info icon */\n",
              ".sk-estimator-doc-link span {\n",
              "  display: none;\n",
              "  z-index: 9999;\n",
              "  position: relative;\n",
              "  font-weight: normal;\n",
              "  right: .2ex;\n",
              "  padding: .5ex;\n",
              "  margin: .5ex;\n",
              "  width: min-content;\n",
              "  min-width: 20ex;\n",
              "  max-width: 50ex;\n",
              "  color: var(--sklearn-color-text);\n",
              "  box-shadow: 2pt 2pt 4pt #999;\n",
              "  /* unfitted */\n",
              "  background: var(--sklearn-color-unfitted-level-0);\n",
              "  border: .5pt solid var(--sklearn-color-unfitted-level-3);\n",
              "}\n",
              "\n",
              ".sk-estimator-doc-link.fitted span {\n",
              "  /* fitted */\n",
              "  background: var(--sklearn-color-fitted-level-0);\n",
              "  border: var(--sklearn-color-fitted-level-3);\n",
              "}\n",
              "\n",
              ".sk-estimator-doc-link:hover span {\n",
              "  display: block;\n",
              "}\n",
              "\n",
              "/* \"?\"-specific style due to the `<a>` HTML tag */\n",
              "\n",
              "#sk-container-id-9 a.estimator_doc_link {\n",
              "  float: right;\n",
              "  font-size: 1rem;\n",
              "  line-height: 1em;\n",
              "  font-family: monospace;\n",
              "  background-color: var(--sklearn-color-background);\n",
              "  border-radius: 1rem;\n",
              "  height: 1rem;\n",
              "  width: 1rem;\n",
              "  text-decoration: none;\n",
              "  /* unfitted */\n",
              "  color: var(--sklearn-color-unfitted-level-1);\n",
              "  border: var(--sklearn-color-unfitted-level-1) 1pt solid;\n",
              "}\n",
              "\n",
              "#sk-container-id-9 a.estimator_doc_link.fitted {\n",
              "  /* fitted */\n",
              "  border: var(--sklearn-color-fitted-level-1) 1pt solid;\n",
              "  color: var(--sklearn-color-fitted-level-1);\n",
              "}\n",
              "\n",
              "/* On hover */\n",
              "#sk-container-id-9 a.estimator_doc_link:hover {\n",
              "  /* unfitted */\n",
              "  background-color: var(--sklearn-color-unfitted-level-3);\n",
              "  color: var(--sklearn-color-background);\n",
              "  text-decoration: none;\n",
              "}\n",
              "\n",
              "#sk-container-id-9 a.estimator_doc_link.fitted:hover {\n",
              "  /* fitted */\n",
              "  background-color: var(--sklearn-color-fitted-level-3);\n",
              "}\n",
              "</style><div id=\"sk-container-id-9\" class=\"sk-top-container\"><div class=\"sk-text-repr-fallback\"><pre>RFECV(cv=StratifiedKFold(n_splits=10, random_state=None, shuffle=False),\n",
              "      estimator=RandomForestRegressor(random_state=20111974))</pre><b>In a Jupyter environment, please rerun this cell to show the HTML representation or trust the notebook. <br />On GitHub, the HTML representation is unable to render, please try loading this page with nbviewer.org.</b></div><div class=\"sk-container\" hidden><div class=\"sk-item sk-dashed-wrapped\"><div class=\"sk-label-container\"><div class=\"sk-label fitted sk-toggleable\"><input class=\"sk-toggleable__control sk-hidden--visually\" id=\"sk-estimator-id-17\" type=\"checkbox\" ><label for=\"sk-estimator-id-17\" class=\"sk-toggleable__label fitted sk-toggleable__label-arrow fitted\">&nbsp;&nbsp;RFECV<a class=\"sk-estimator-doc-link fitted\" rel=\"noreferrer\" target=\"_blank\" href=\"https://scikit-learn.org/1.5/modules/generated/sklearn.feature_selection.RFECV.html\">?<span>Documentation for RFECV</span></a><span class=\"sk-estimator-doc-link fitted\">i<span>Fitted</span></span></label><div class=\"sk-toggleable__content fitted\"><pre>RFECV(cv=StratifiedKFold(n_splits=10, random_state=None, shuffle=False),\n",
              "      estimator=RandomForestRegressor(random_state=20111974))</pre></div> </div></div><div class=\"sk-parallel\"><div class=\"sk-parallel-item\"><div class=\"sk-item\"><div class=\"sk-label-container\"><div class=\"sk-label fitted sk-toggleable\"><input class=\"sk-toggleable__control sk-hidden--visually\" id=\"sk-estimator-id-18\" type=\"checkbox\" ><label for=\"sk-estimator-id-18\" class=\"sk-toggleable__label fitted sk-toggleable__label-arrow fitted\">estimator: RandomForestRegressor</label><div class=\"sk-toggleable__content fitted\"><pre>RandomForestRegressor(random_state=20111974)</pre></div> </div></div><div class=\"sk-serial\"><div class=\"sk-item\"><div class=\"sk-estimator fitted sk-toggleable\"><input class=\"sk-toggleable__control sk-hidden--visually\" id=\"sk-estimator-id-19\" type=\"checkbox\" ><label for=\"sk-estimator-id-19\" class=\"sk-toggleable__label fitted sk-toggleable__label-arrow fitted\">&nbsp;RandomForestRegressor<a class=\"sk-estimator-doc-link fitted\" rel=\"noreferrer\" target=\"_blank\" href=\"https://scikit-learn.org/1.5/modules/generated/sklearn.ensemble.RandomForestRegressor.html\">?<span>Documentation for RandomForestRegressor</span></a></label><div class=\"sk-toggleable__content fitted\"><pre>RandomForestRegressor(random_state=20111974)</pre></div> </div></div></div></div></div></div></div></div></div>"
            ]
          },
          "metadata": {},
          "execution_count": 190
        }
      ]
    },
    {
      "cell_type": "markdown",
      "metadata": {
        "id": "Yoqp1sdTQ4HE"
      },
      "source": [
        "Dataframe original com 30 features:"
      ]
    },
    {
      "cell_type": "code",
      "metadata": {
        "id": "MBnSFtWiDvOd",
        "outputId": "b7d67c06-172e-4856-baf1-855b362869cc",
        "colab": {
          "base_uri": "https://localhost:8080/"
        }
      },
      "source": [
        "X_cancer.shape"
      ],
      "execution_count": 191,
      "outputs": [
        {
          "output_type": "execute_result",
          "data": {
            "text/plain": [
              "(569, 13)"
            ]
          },
          "metadata": {},
          "execution_count": 191
        }
      ]
    },
    {
      "cell_type": "markdown",
      "metadata": {
        "id": "3s_PQ-huQ9MQ"
      },
      "source": [
        "Dataframe depois do filtro RFE:"
      ]
    },
    {
      "cell_type": "code",
      "metadata": {
        "id": "f-dKku9IiK0V",
        "outputId": "7502c3b0-4538-4d30-de45-f1210760318e",
        "colab": {
          "base_uri": "https://localhost:8080/"
        }
      },
      "source": [
        "# Número ótimo de colunas:\n",
        "filtro_rfe.n_features_"
      ],
      "execution_count": 193,
      "outputs": [
        {
          "output_type": "execute_result",
          "data": {
            "text/plain": [
              "8"
            ]
          },
          "metadata": {},
          "execution_count": 193
        }
      ]
    },
    {
      "cell_type": "code",
      "metadata": {
        "id": "FU4sLy8WUe2v"
      },
      "source": [
        "filtro_rfe.ranking_"
      ],
      "execution_count": null,
      "outputs": []
    },
    {
      "cell_type": "code",
      "metadata": {
        "id": "TUoMb40-iK0Y",
        "outputId": "46e985ca-ac6f-4d89-bdfa-d2f3f1852b42",
        "colab": {
          "base_uri": "https://localhost:8080/",
          "height": 539
        }
      },
      "source": [
        "import matplotlib.pyplot as plt\n",
        "\n",
        "plt.figure(figsize=(10, 5))\n",
        "plt.title('Recursive Feature Elimination (rfe) com Cross-Validation', fontsize=18, fontweight='bold', pad=20)\n",
        "plt.xlabel('Número de colunas selecionadas', fontsize=14, labelpad=20)\n",
        "plt.ylabel('% Acurácia do Modelo', fontsize=14, labelpad=20)\n",
        "# Access the mean test scores from cv_results_\n",
        "plt.plot(range(1, len(filtro_rfe.cv_results_['mean_test_score']) + 1),\n",
        "         filtro_rfe.cv_results_['mean_test_score'],\n",
        "         color='#303F9F', linewidth=3)\n",
        "plt.show()"
      ],
      "execution_count": 194,
      "outputs": [
        {
          "output_type": "display_data",
          "data": {
            "text/plain": [
              "<Figure size 1000x500 with 1 Axes>"
            ],
            "image/png": "[encoded data removed]"
          },
          "metadata": {}
        }
      ]
    },
    {
      "cell_type": "markdown",
      "metadata": {
        "id": "RG16C-2QdhUx"
      },
      "source": [
        "### **Conclusão**: Houve uma redução para 7 colunas."
      ]
    },
    {
      "cell_type": "code",
      "metadata": {
        "id": "M8lpuOjti6Fw"
      },
      "source": [
        "X_cancer.drop(X_cancer.columns[np.where(filtro_rfe.support_ == False)[0]], axis = 1)\n",
        "X_cancer.head()"
      ],
      "execution_count": null,
      "outputs": []
    },
    {
      "cell_type": "code",
      "metadata": {
        "id": "s7S87LApdESo"
      },
      "source": [
        "filtro_rfe.estimator_.feature_importances_"
      ],
      "execution_count": null,
      "outputs": []
    },
    {
      "cell_type": "markdown",
      "metadata": {
        "id": "FEfmeic37hvw"
      },
      "source": [
        "___\n",
        "# **Feature Selection com Random Forest**\n",
        "* Para demonstrar este método, vou utilizar o Boston california Price dataframe.\n",
        "\n",
        "![Supervised_X_Unsupervised](https://github.com/MathMachado/Materials/blob/master/Supervised_X_Unsupervised.jpeg?raw=true)"
      ]
    },
    {
      "cell_type": "markdown",
      "metadata": {
        "id": "0F2BdrZgKzV5"
      },
      "source": [
        "### Carregar o dataframe\n",
        "* [Aqui](https://en.wikipedia.org/wiki/Iris_flower_data_set) você obterá mais informações sobre o dataframe iris. Confira."
      ]
    },
    {
      "cell_type": "code",
      "metadata": {
        "id": "6H31U15q7kIO"
      },
      "source": [
        "from sklearn.datasets import load_iris\n",
        "\n",
        "# Função para carregar as informações do dataframe Iris\n",
        "def carrega_df_iris():\n",
        "    global df_iris, l_iris_labels, X_iris, y_iris, iris\n",
        "\n",
        "    iris = load_iris()\n",
        "    X_iris = iris['data']\n",
        "    y_iris= iris['target']\n",
        "\n",
        "    df_iris = pd.DataFrame(np.c_[X_iris, y_iris], columns= np.append(iris['feature_names'], ['target']))\n",
        "    df_iris['target2']= df_iris['target']\n",
        "    df_iris= df_iris.rename(columns={'sepal length (cm)': 'Sepal Length', 'sepal width (cm)': 'sepal width', 'petal length (cm)': 'petal length', 'petal width (cm)': 'petal width'})\n",
        "    df_iris['target'] = df_iris['target'].map({0: 'setosa', 1: 'versicolor', 2: 'virginica'})\n",
        "\n",
        "    # Criar a lista de nomes das variáveis\n",
        "    l_iris_labels = ['Sepal Length','Sepal Width','Petal Length','Petal Width']"
      ],
      "execution_count": null,
      "outputs": []
    },
    {
      "cell_type": "code",
      "metadata": {
        "id": "rD2DmkpNXkFy"
      },
      "source": [
        "# Carregar as informações do dataframe Iris\n",
        "carrega_df_iris()"
      ],
      "execution_count": null,
      "outputs": []
    },
    {
      "cell_type": "markdown",
      "metadata": {
        "id": "jVQuRHYhM4fD"
      },
      "source": [
        "> A variável-resposta que estamos tentando prever/explicar é categórica. Portanto, vamos usar um algoritmo da classe supervisionado para Classificação.\n",
        "\n",
        "* SelectFromModel selecionará os atributos cuja importância seja maior do que a importância média de todos os recursos por padrão, mas podemos alterar esse limite se quisermos."
      ]
    },
    {
      "cell_type": "code",
      "metadata": {
        "id": "1pPpC7GXLgpC"
      },
      "source": [
        "from sklearn.ensemble import RandomForestClassifier\n",
        "from sklearn.feature_selection import SelectFromModel"
      ],
      "execution_count": null,
      "outputs": []
    },
    {
      "cell_type": "code",
      "metadata": {
        "id": "dfSfuUlHQOSt"
      },
      "source": [
        "# Particionar base de treinamento (80%) e validação (20%)\n",
        "from sklearn.model_selection import train_test_split\n",
        "\n",
        "X_treinamento, X_teste, y_treinamento, y_teste = train_test_split(X_iris, y_iris, test_size = 0.2, random_state = 20111974)"
      ],
      "execution_count": null,
      "outputs": []
    },
    {
      "cell_type": "code",
      "metadata": {
        "id": "0JDsdjsZ0M4F"
      },
      "source": [
        "X_treinamento.shape"
      ],
      "execution_count": null,
      "outputs": []
    },
    {
      "cell_type": "code",
      "metadata": {
        "id": "SH_B3C1u0Qkl"
      },
      "source": [
        "X_teste.shape"
      ],
      "execution_count": null,
      "outputs": []
    },
    {
      "cell_type": "code",
      "metadata": {
        "id": "YQ270kclOFeK"
      },
      "source": [
        "# Create a random forest Regressor\n",
        "ml_rf = RandomForestClassifier(n_estimators = 10000, random_state = 20111974, n_jobs = -1)"
      ],
      "execution_count": null,
      "outputs": []
    },
    {
      "cell_type": "code",
      "metadata": {
        "id": "vFSCt8uaeKFN"
      },
      "source": [
        "# Treina o classificador\n",
        "ml_rf.fit(X_treinamento, y_treinamento)"
      ],
      "execution_count": null,
      "outputs": []
    },
    {
      "cell_type": "markdown",
      "metadata": {
        "id": "VfdKeUkgS6ul"
      },
      "source": [
        "Os atributos mais importantes são:"
      ]
    },
    {
      "cell_type": "code",
      "metadata": {
        "id": "tnrwVLPKSNxr"
      },
      "source": [
        "# Imprime o nome do atributo associado à importância usando índice de Gini\n",
        "for feature in zip(l_iris_labels, ml_rf.feature_importances_):\n",
        "    print(feature)"
      ],
      "execution_count": null,
      "outputs": []
    },
    {
      "cell_type": "markdown",
      "metadata": {
        "id": "x8FHRHlDWTn4"
      },
      "source": [
        "* Os scores acima representam a importância de cada variável.\n",
        "    * A soma dos scores resulta em 100%;\n",
        "    * Os atributos 'Petal Length' (Score= 0.45) e 'Petal Width' (Score= 0.42) são os mais importantes.\n",
        "    * Combinados, as duas variáveis mais importantes somam ~0.86."
      ]
    },
    {
      "cell_type": "markdown",
      "metadata": {
        "id": "wbMnS_gIVBA8"
      },
      "source": [
        "Como regra geral, selecione os atributos que tenha importância de no mínimo 0.15.\n",
        "\n",
        "Citar autor/Referência!!!"
      ]
    },
    {
      "cell_type": "markdown",
      "metadata": {
        "id": "M3TnDYRVeMEs"
      },
      "source": [
        "Algo mais visual:"
      ]
    },
    {
      "cell_type": "code",
      "metadata": {
        "id": "o8QkARWpeI_e"
      },
      "source": [
        "def importancia_variaveis():\n",
        "    # Calcula a importância das features\n",
        "    importances = ml_rf.feature_importances_\n",
        "\n",
        "    # Ordena as features por importância\n",
        "    indices = np.argsort(importances)[::-1]\n",
        "\n",
        "    # Associa a feature name com a feature importance\n",
        "    names = [iris.feature_names[i] for i in indices]\n",
        "\n",
        "    # Barplot\n",
        "    plt.bar(range(X_treinamento.shape[1]), importances[indices])\n",
        "\n",
        "    # Adiciona as feature names no eixo x-axis\n",
        "    plt.xticks(range(X_treinamento.shape[1]), names, rotation = 20, fontsize = 8)\n",
        "\n",
        "    # Define o título do gráfico\n",
        "    plt.title(\"Importância Preditiva das variáveis\")\n",
        "    plt.show()"
      ],
      "execution_count": null,
      "outputs": []
    },
    {
      "cell_type": "code",
      "metadata": {
        "id": "ahZdlCBE6h_e"
      },
      "source": [
        "importancia_variaveis()"
      ],
      "execution_count": null,
      "outputs": []
    },
    {
      "cell_type": "markdown",
      "metadata": {
        "id": "owVs6pvJ8F8B"
      },
      "source": [
        "## Análise de Correlação"
      ]
    },
    {
      "cell_type": "code",
      "metadata": {
        "id": "RISO1Ury8EEH"
      },
      "source": [
        "import numpy as np\n",
        "\n",
        "# calcula a correlação entre as colunas/variáveis do dataframe,\n",
        "# ignorando colunas não numéricas.\n",
        "correlacao = df_iris.corr(numeric_only=True).abs()\n",
        "\n",
        "# Seleciona o triângulo superior da matriz de correlação\n",
        "# Change np.bool to bool\n",
        "correlacao = correlacao.where(np.triu(np.ones(correlacao.shape), k = 1).astype(bool))\n",
        "correlacao"
      ],
      "execution_count": null,
      "outputs": []
    },
    {
      "cell_type": "code",
      "metadata": {
        "id": "lieB7hDg8EEM"
      },
      "source": [
        "fig, ax = plt.subplots(figsize = (8, 8))\n",
        "# Select only numeric columns for correlation calculation\n",
        "numeric_df = df_iris.select_dtypes(include=np.number)\n",
        "mask = np.zeros_like(numeric_df.corr().abs())\n",
        "mask[np.triu_indices_from(mask)] = 1\n",
        "sns.heatmap(numeric_df.corr().abs(), mask = mask, ax = ax, cmap ='coolwarm', annot = True, fmt = '.2f')"
      ],
      "execution_count": null,
      "outputs": []
    },
    {
      "cell_type": "markdown",
      "metadata": {
        "id": "A_FXdDMr8EEQ"
      },
      "source": [
        "> Pela Análise de Correlação, vemos duas variáveis altamente correlacionadas com a variável-resposta, que são: 'Petal Width' e 'Petal Length', que são as duas variáveis mais importantes no dataframe. Lembram-se?\n",
        ">> No entanto, confira a correlação entre 'Petal Width' e 'Petal Length'. Observou que a correlação entre elas é de 0.96? Estas variáveis são altamente correlacionadas..."
      ]
    },
    {
      "cell_type": "markdown",
      "metadata": {
        "id": "taei2KXSTmZ0"
      },
      "source": [
        "### Usando SelectFromModel()"
      ]
    },
    {
      "cell_type": "code",
      "metadata": {
        "id": "JLwboa9tTpBq"
      },
      "source": [
        "# A partir do Random Forest, seleciona features cuja importância seja maior que 0.15 e 0.45\n",
        "sfm = SelectFromModel(rf, threshold = 0.15)\n",
        "sfm_2 = SelectFromModel(rf, threshold = 0.45)\n",
        "\n",
        "# Treina o seletor\n",
        "sfm.fit(X_treinamento, y_treinamento)\n",
        "sfm_2.fit(X_treinamento, y_treinamento)"
      ],
      "execution_count": null,
      "outputs": []
    },
    {
      "cell_type": "markdown",
      "metadata": {
        "id": "YfdkwZz1WzKE"
      },
      "source": [
        "Se usarmos o corte de 0.15:"
      ]
    },
    {
      "cell_type": "code",
      "metadata": {
        "id": "2MiZrU56VzUW"
      },
      "source": [
        "# Mostra as duas features mais importantes para sfm\n",
        "for feature_list_index in sfm.get_support(indices = True):\n",
        "    print(l_iris_labels[feature_list_index])"
      ],
      "execution_count": null,
      "outputs": []
    },
    {
      "cell_type": "markdown",
      "metadata": {
        "id": "FwRi251EWv4t"
      },
      "source": [
        "Se usarmos o corte de 0.45:"
      ]
    },
    {
      "cell_type": "code",
      "metadata": {
        "id": "M0junBxr79Th"
      },
      "source": [
        "# Mostra as duas features mais importantes para sfm_2\n",
        "for feature_list_index in sfm_2.get_support(indices = True):\n",
        "    print(l_iris_labels[feature_list_index])"
      ],
      "execution_count": null,
      "outputs": []
    },
    {
      "cell_type": "markdown",
      "metadata": {
        "id": "neMolQ0gYtp7"
      },
      "source": [
        "Selecionando somente os atributos mais importantes:"
      ]
    },
    {
      "cell_type": "code",
      "metadata": {
        "id": "dXRWZgDeYxHS"
      },
      "source": [
        "# Constroi um dataset contendo somente as variáveis mais importantes\n",
        "# Nota: Neste caso, estamos a aplicar a transformação tanto na base de treinamento quanto de validação\n",
        "X_treinamento_rfi = sfm.transform(X_treinamento)\n",
        "X_teste_rfi = sfm.transform(X_teste)\n",
        "\n",
        "X_treinamento_rfi_2 = sfm_2.transform(X_treinamento)\n",
        "X_teste_rfi_2 = sfm_2.transform(X_teste)"
      ],
      "execution_count": null,
      "outputs": []
    },
    {
      "cell_type": "code",
      "metadata": {
        "id": "1tmpt3YvZFvW"
      },
      "source": [
        "# Criar um classificador Random Forest somente com as features mais importantes\n",
        "clf_rfi = RandomForestClassifier(n_estimators = 10000, random_state = 20111974, n_jobs = 50)\n",
        "clf_rfi_2 = RandomForestClassifier(n_estimators = 10000, random_state = 20111974, n_jobs = 50)\n",
        "\n",
        "# Treina o modelo com as features mais importantes\n",
        "clf_rfi.fit(X_treinamento_rfi, y_treinamento)\n",
        "clf_rfi_2.fit(X_treinamento_rfi_2, y_treinamento)"
      ],
      "execution_count": null,
      "outputs": []
    },
    {
      "cell_type": "code",
      "metadata": {
        "id": "epVwhUeYZM7v"
      },
      "source": [
        "from sklearn.metrics import accuracy_score\n",
        "from sklearn.metrics import confusion_matrix as cm\n",
        "\n",
        "# Aplica o Classificador no dataframe teste\n",
        "y_pred = clf_rfi.predict(X_teste_rfi)\n",
        "\n",
        "# Verifica acurácia\n",
        "accuracy_score(y_teste, y_pred)\n",
        "\n",
        "# Matriz de Confusão\n",
        "from sklearn.metrics import confusion_matrix as cm\n",
        "cm = cm(y_teste, y_pred)\n",
        "index = ['setosa', 'versicolor', 'virginica']\n",
        "columns = ['setosa','versicolor', 'virginica']\n",
        "cm_df = pd.DataFrame(cm, columns, index)\n",
        "plt.figure(figsize = (10, 6))\n",
        "cm_df.index.name = 'Actual'\n",
        "cm_df.columns.name = 'Predicted'\n",
        "sns.heatmap(cm_df, annot = True)"
      ],
      "execution_count": null,
      "outputs": []
    },
    {
      "cell_type": "code",
      "metadata": {
        "id": "lIYvP0Bq8ST_"
      },
      "source": [
        "# Aplica o classificador na base de teste depois da análise de correlação\n",
        "y_pred_rfi_2 = clf_rfi_2.predict(X_teste_rfi_2)\n",
        "\n",
        "# Avalia acurácia\n",
        "accuracy_score(y_teste, y_pred_rfi_2)\n",
        "\n",
        "# Matriz de Confusão\n",
        "from sklearn.metrics import confusion_matrix as cm\n",
        "cm = cm(y_teste, y_pred_rfi_2)\n",
        "index = ['setosa','versicolor', 'virginica']\n",
        "columns = ['setosa','versicolor', 'virginica']\n",
        "cm_df = pd.DataFrame(cm,columns, index)\n",
        "plt.figure(figsize = (10, 6))\n",
        "cm_df.index.name = 'Actual'\n",
        "cm_df.columns.name = 'Predicted'\n",
        "sns.heatmap(cm_df, annot = True)"
      ],
      "execution_count": null,
      "outputs": []
    },
    {
      "cell_type": "markdown",
      "metadata": {
        "id": "uWdAUMQoZtaV"
      },
      "source": [
        "> Como podemos ver:\n",
        "* Modelo original (com 4 atributos) presenta acurácia de 93.3%;\n",
        "* Modelo reduzido (com 2 atributos e ponto de corte de 0.15) apresenta acurácia de 93%;\n",
        "* Modelo reduzido 2 (com 1 atributo e ponto de corte de 0.45) apresenta acurácia de 93%.\n",
        "\n",
        ">> Ou seja, reduzimos o modelo de 4 para 1 atributo/variável e a acurária continua a mesma."
      ]
    },
    {
      "cell_type": "code",
      "metadata": {
        "id": "OfCq7UGIpSYg"
      },
      "source": [
        "# Correlação dois a dois...\n",
        "df_iris[['petal length', 'petal width']].corr()"
      ],
      "execution_count": null,
      "outputs": []
    },
    {
      "cell_type": "markdown",
      "metadata": {
        "id": "BMfxK3UCbjfc"
      },
      "source": [
        "## Feature Selection With XGBoost (Extreme Gradient Boosting)\n",
        "> XGBoost, em geral, fornece melhores soluções do que outros algoritmos de Machine Learning."
      ]
    },
    {
      "cell_type": "code",
      "metadata": {
        "id": "8ZYGjr0Su4y-"
      },
      "source": [
        "!pip install xgboost"
      ],
      "execution_count": null,
      "outputs": []
    },
    {
      "cell_type": "code",
      "metadata": {
        "id": "--vKKHVWbwGv"
      },
      "source": [
        "from xgboost import XGBClassifier\n",
        "\n",
        "# Carregar as informações do dataframe Iris\n",
        "carrega_df_iris()"
      ],
      "execution_count": null,
      "outputs": []
    },
    {
      "cell_type": "code",
      "metadata": {
        "id": "_d5qWQmXgPIH"
      },
      "source": [
        "# Cria um clasificador XGBoost\n",
        "clf = XGBClassifier(n_estimators = 10000, random_state = 20111974, n_jobs = 50, max_depth = 5, learning_rate = 0.05)\n",
        "\n",
        "# Treina o classificador\n",
        "clf.fit(X_treinamento, y_treinamento)\n",
        "\n",
        "# Calcula o y_pred e avalia a qualidade do ajuste\n",
        "y_pred = clf.predict(X_teste)\n",
        "predictions = [round(value) for value in y_pred]\n",
        "accuracy = accuracy_score(y_teste, predictions)\n",
        "print(f\"Acurácia: {accuracy}\")"
      ],
      "execution_count": null,
      "outputs": []
    },
    {
      "cell_type": "code",
      "metadata": {
        "id": "fTdKMOKdC2UA"
      },
      "source": [
        "# Adaptado de https://machinelearningmastery.com/feature-importance-and-feature-selection-with-xgboost-in-python/\n",
        "# Ajusta o ML usando cada importância calculada como threshold\n",
        "\n",
        "thresholds = sorted(clf.feature_importances_)\n",
        "for thresh in thresholds:\n",
        "\t# seleciona as features usando threshold\n",
        "\tselection = SelectFromModel(clf, threshold=thresh, prefit=True)\n",
        "\tselect_X_treinamento = selection.transform(X_treinamento)\n",
        "\n",
        "    # treina o ML\n",
        "\tselection_clf = XGBClassifier()\n",
        "\tselection_clf.fit(select_X_treinamento, y_treinamento)\n",
        "\n",
        "    # Avalia o ML\n",
        "\tselect_X_teste = selection.transform(X_teste)\n",
        "\ty_pred = selection_clf.predict(select_X_teste)\n",
        "\tpredictions = [round(value) for value in y_pred]\n",
        "\taccuracy = accuracy_score(y_teste, predictions)\n",
        "\tprint(f\"Threshold= {round(thresh,2)}, n= {select_X_treinamento.shape[1]}, Acurácia: {round(accuracy*100.0,2)}\")"
      ],
      "execution_count": null,
      "outputs": []
    },
    {
      "cell_type": "code",
      "metadata": {
        "id": "zv2gbuc5glFJ"
      },
      "source": [
        "# Calcula a importância das features\n",
        "importances = clf.feature_importances_\n",
        "\n",
        "# Ordena as importâncias por ordem descendente\n",
        "indices = np.argsort(importances)[::-1]\n",
        "\n",
        "# Organiza...\n",
        "names = [iris.feature_names[i] for i in indices]\n",
        "\n",
        "# Barplot\n",
        "plt.bar(range(X_treinamento.shape[1]), importances[indices])\n",
        "\n",
        "# Coloca o nome dos labels no eixo X\n",
        "plt.xticks(range(X_treinamento.shape[1]), names, rotation=20, fontsize = 8)\n",
        "\n",
        "# Constroi o gráfico\n",
        "plt.title(\"Feature Importance\")\n",
        "\n",
        "# Mostra o gráfico\n",
        "plt.show()"
      ],
      "execution_count": null,
      "outputs": []
    },
    {
      "cell_type": "code",
      "metadata": {
        "id": "cXTwXiB_LVB3"
      },
      "source": [
        "# Matriz de Confusão\n",
        "from sklearn.metrics import confusion_matrix as cm\n",
        "cm = cm(y_teste, y_pred)\n",
        "index = ['setosa','versicolor','virginica']\n",
        "columns = ['setosa','versicolor','virginica']\n",
        "cm_df = pd.DataFrame(cm,columns,index)\n",
        "plt.figure(figsize = (10, 6))\n",
        "cm_df.index.name = 'Actual'\n",
        "cm_df.columns.name = 'Predicted'\n",
        "sns.heatmap(cm_df, annot=True)"
      ],
      "execution_count": null,
      "outputs": []
    },
    {
      "cell_type": "markdown",
      "metadata": {
        "id": "_ebv3nAzU2ac"
      },
      "source": [
        "## Feature Selection using PCA (Principal Components Analysis)"
      ]
    },
    {
      "cell_type": "code",
      "metadata": {
        "id": "8M5uO9r-Vtze"
      },
      "source": [
        "from sklearn.datasets import load_iris\n",
        "\n",
        "# Carregar as informações do dataframe Iris\n",
        "carrega_df_iris()"
      ],
      "execution_count": null,
      "outputs": []
    },
    {
      "cell_type": "markdown",
      "metadata": {
        "id": "wWS8bvXzX4Fg"
      },
      "source": [
        "### Standardize the Data\n",
        "* O PCA é afetado por escala, portanto, é necessário dimensionar as features/atributos antes de aplicar o PCA.\n",
        "* Use o StandardScaler para padronizar os features/atributos usando com média = 0 e variância = 1."
      ]
    },
    {
      "cell_type": "code",
      "metadata": {
        "id": "2oVG8_1HXweo"
      },
      "source": [
        "from sklearn.preprocessing import StandardScaler\n",
        "from sklearn.decomposition import PCA"
      ],
      "execution_count": null,
      "outputs": []
    },
    {
      "cell_type": "markdown",
      "metadata": {
        "id": "xYXnYebxclya"
      },
      "source": [
        "Standardizing as features de X:"
      ]
    },
    {
      "cell_type": "code",
      "metadata": {
        "id": "iDMzHm3mcpbs"
      },
      "source": [
        "X_STD = StandardScaler().fit_transform(X_iris)"
      ],
      "execution_count": null,
      "outputs": []
    },
    {
      "cell_type": "code",
      "metadata": {
        "id": "MmKMCuvMc63E"
      },
      "source": [
        "pca_2c = PCA(n_components = 2)\n",
        "X_PCA_2c = pca_2c.fit_transform(X_STD)\n",
        "df_PCA_2c = pd.DataFrame(data = X_PCA_2c, columns = ['PCA1', 'PCA2'])"
      ],
      "execution_count": null,
      "outputs": []
    },
    {
      "cell_type": "markdown",
      "metadata": {
        "id": "0Yfvb02JdV8B"
      },
      "source": [
        "Vamos entender o que está acontecendo:"
      ]
    },
    {
      "cell_type": "markdown",
      "metadata": {
        "id": "-PVc1vJ8d_w6"
      },
      "source": [
        "Primeiramente, observe nosso array X abaixo. Cada coluna desse array representa uma coluna do dataframe df_iris. Por exemplo, a primeira coluna são os dados da variável 'Sepal Length'. Identificou?"
      ]
    },
    {
      "cell_type": "code",
      "metadata": {
        "id": "BEp1JD0Odd3L"
      },
      "source": [
        "# Listando as primeiras 5 linhas de X\n",
        "X_iris[0:5]"
      ],
      "execution_count": null,
      "outputs": []
    },
    {
      "cell_type": "markdown",
      "metadata": {
        "id": "41-KcSTneURx"
      },
      "source": [
        "Segundo, com a standardização, construimos o array X_STD, que mostramos abaixo:"
      ]
    },
    {
      "cell_type": "code",
      "metadata": {
        "id": "igBQNHS5eaND"
      },
      "source": [
        "X_STD[0:5]"
      ],
      "execution_count": null,
      "outputs": []
    },
    {
      "cell_type": "markdown",
      "metadata": {
        "id": "TgRD7-qPjg29"
      },
      "source": [
        "Veja abaixo a média e desvio-padrão do array X_STD:"
      ]
    },
    {
      "cell_type": "code",
      "metadata": {
        "id": "M0VL4ilZjliL"
      },
      "source": [
        "np.mean(X_STD),np.std(X_STD)"
      ],
      "execution_count": null,
      "outputs": []
    },
    {
      "cell_type": "markdown",
      "metadata": {
        "id": "pyDJwNCgju0O"
      },
      "source": [
        "Temos média 0 e desvio-padrão 1, certo? É isso que queríamos."
      ]
    },
    {
      "cell_type": "markdown",
      "metadata": {
        "id": "KB7R7OXQemze"
      },
      "source": [
        "Por fim, a partir de X_STD, construimos o array X_PCA_2c, mostrado abaixo:"
      ]
    },
    {
      "cell_type": "code",
      "metadata": {
        "id": "lNmAskXWerqG"
      },
      "source": [
        "X_PCA_2c[0:5]"
      ],
      "execution_count": null,
      "outputs": []
    },
    {
      "cell_type": "markdown",
      "metadata": {
        "id": "fT2N6Ym7fBt-"
      },
      "source": [
        "Portanto, reduzimos (ou resumimos) o array X_STD de 4 dimensões para um array de 2 dimensões."
      ]
    },
    {
      "cell_type": "markdown",
      "metadata": {
        "id": "cA54fhYgfQuC"
      },
      "source": [
        "Finalmente, o dataframe final é mostrado abaixo:"
      ]
    },
    {
      "cell_type": "code",
      "metadata": {
        "id": "kAQ4O9EBfUlN"
      },
      "source": [
        "df_PCA_final_2c = pd.concat([df_PCA_2c, df_iris[['target']]], axis= 1)"
      ],
      "execution_count": null,
      "outputs": []
    },
    {
      "cell_type": "code",
      "metadata": {
        "id": "JXrOdfSZPBS_"
      },
      "source": [
        "df_PCA_final_2c.head()"
      ],
      "execution_count": null,
      "outputs": []
    },
    {
      "cell_type": "markdown",
      "metadata": {
        "id": "MEbvp3RFf-zs"
      },
      "source": [
        "### Visualizar reultados"
      ]
    },
    {
      "cell_type": "code",
      "metadata": {
        "id": "GEqP-NVngBO1"
      },
      "source": [
        "fig = plt.figure(figsize = (8,8))\n",
        "ax = fig.add_subplot(1,1,1)\n",
        "ax.set_xlabel('PCA1', fontsize = 15)\n",
        "ax.set_ylabel('PCA2', fontsize = 15)\n",
        "ax.set_title('2 componentes PCA', fontsize = 20)\n",
        "targets = ['setosa', 'versicolor', 'virginica']\n",
        "colors = ['r', 'g', 'b']\n",
        "for target, color in zip(targets,colors):\n",
        "    indicesToKeep = df_PCA_final_2c['target'] == target\n",
        "    ax.scatter(df_PCA_final_2c.loc[indicesToKeep, 'PCA1']\n",
        "               , df_PCA_final_2c.loc[indicesToKeep, 'PCA2']\n",
        "               , c = color\n",
        "               , s = 50)\n",
        "ax.legend(targets)\n",
        "ax.grid()"
      ],
      "execution_count": null,
      "outputs": []
    },
    {
      "cell_type": "markdown",
      "metadata": {
        "id": "pZaGiGnUl6ER"
      },
      "source": [
        "O que significa reduzir para 2 dimensões um array com 4 dimensões?"
      ]
    },
    {
      "cell_type": "code",
      "metadata": {
        "id": "xF-whgBmlHN1"
      },
      "source": [
        "X_new = pca_2c.inverse_transform(X_PCA_2c)\n",
        "plt.figure(figsize=(10, 10), dpi=80)\n",
        "plt.scatter(X_STD[:, 0], X_STD[:, 1], alpha=0.2)\n",
        "plt.scatter(X_new[:, 0], X_new[:, 1], alpha=0.9)\n",
        "plt.axis('equal');"
      ],
      "execution_count": null,
      "outputs": []
    },
    {
      "cell_type": "markdown",
      "metadata": {
        "id": "XvLDQ2JF5NP8"
      },
      "source": [
        "### Análise de Correlação"
      ]
    },
    {
      "cell_type": "code",
      "metadata": {
        "id": "DK3R415_5RzY"
      },
      "source": [
        "# calcula a correlação entre as colunas/variáveis do dataframe,\n",
        "# excluindo a coluna 'target' que contém strings\n",
        "correlacao= df_iris.drop(columns=['target']).corr().abs()\n",
        "\n",
        "# Seleciona o triângulo superior da matriz de correlação\n",
        "# Changed np.bool to bool\n",
        "correlacao = correlacao.where(np.triu(np.ones(correlacao.shape), k=1).astype(bool))\n",
        "correlacao"
      ],
      "execution_count": null,
      "outputs": []
    },
    {
      "cell_type": "code",
      "metadata": {
        "id": "uLvvzpvl5Zy9"
      },
      "source": [
        "fig, ax = plt.subplots(figsize=(8, 8))\n",
        "# Exclude the 'target' column before calculating correlation\n",
        "mask = np.zeros_like(df_iris.drop(columns=['target']).corr().abs())\n",
        "mask[np.triu_indices_from(mask)] = 1\n",
        "sns.heatmap(df_iris.drop(columns=['target']).corr().abs(), mask=mask, ax=ax, cmap='coolwarm', annot=True, fmt='.2f')"
      ],
      "execution_count": null,
      "outputs": []
    },
    {
      "cell_type": "markdown",
      "metadata": {
        "id": "xo-llZpb7JfO"
      },
      "source": [
        "Pela Análise de Correlação, vemos duas variáveis altamente correlacionadas com a variável-resposta, que são: 'Peta Width' e 'Petal Length', que são as duas variáveis mais importantes no dataframe. Lembram-se?"
      ]
    },
    {
      "cell_type": "markdown",
      "metadata": {
        "id": "kjPawS_dgSKU"
      },
      "source": [
        "### Variância explicada\n",
        "* Como vimos, reduzimos um array de informações de 4 dimensões para um array com 2 dimensões. Com isso, perde-se alguma informação relativa à variância. Mas quanto perdemos?\n",
        "\n",
        "* A Variância Explicada (ou Explained Variance, em inglês), mede o quanto de informação (variação) foi atribuída a cada um dos componentes principais. Usando o atributo explain_variance_ratio_, é possível ver que o primeiro componente principal contém 72,77% da variação e o segundo componente principal contém 23,03% da variação. Juntos, os dois componentes contêm 95,80% das informações. Portanto, perdemos quase nada em termos de informação e o modelo não é prejudicado por esta redução.\n",
        "\n",
        "\n",
        "A resposta à essa pergunta é:"
      ]
    },
    {
      "cell_type": "code",
      "metadata": {
        "id": "i6gcdvtYgwpX"
      },
      "source": [
        "pca_2c.explained_variance_ratio_"
      ],
      "execution_count": null,
      "outputs": []
    },
    {
      "cell_type": "markdown",
      "metadata": {
        "id": "71ubjjflQEUf"
      },
      "source": [
        "Observe que o terceiro e quarto valores são muito baixo. Ou seja, baixa variabilidade explicada... Portanto, daqui já conseguimos ver que o número ideal de componentes são 2."
      ]
    },
    {
      "cell_type": "markdown",
      "metadata": {
        "id": "m_4TqauJvIvX"
      },
      "source": [
        "### Quantos componentes escolher"
      ]
    },
    {
      "cell_type": "code",
      "metadata": {
        "id": "O2NRgjCjvUli"
      },
      "source": [
        "pca = PCA().fit(X_STD)\n",
        "plt.plot(np.cumsum(pca.explained_variance_ratio_))\n",
        "plt.xlabel('number of components')\n",
        "plt.ylabel('cumulative explained variance');"
      ],
      "execution_count": null,
      "outputs": []
    },
    {
      "cell_type": "markdown",
      "metadata": {
        "id": "AvQ6KwQdwAdC"
      },
      "source": [
        "**Interpretação**: Esta curva quantifica quanto da variância total de 4 dimensões está contida nos primeiros N componentes. Por exemplo, a primeira componente principal tem aproximadamente 95% da variação, enquanto que 2 componentes (os dois primeiros) explicam quase 100% da variabilidade. Portanto, em nosso caso, 2 componentes principais são suficientes para captar grande parte da variabilidade dos dados."
      ]
    },
    {
      "cell_type": "code",
      "metadata": {
        "id": "S151TcjQw6vc"
      },
      "source": [
        "pca.explained_variance_ratio_"
      ],
      "execution_count": null,
      "outputs": []
    },
    {
      "cell_type": "markdown",
      "metadata": {
        "id": "2dNWrsMCyUUE"
      },
      "source": [
        "### Medindo o impacto"
      ]
    },
    {
      "cell_type": "markdown",
      "metadata": {
        "id": "ueFuNN47zMd6"
      },
      "source": [
        "#### Treinar o modelo com X_PCA"
      ]
    },
    {
      "cell_type": "code",
      "metadata": {
        "id": "yb4dpTHPyYlU"
      },
      "source": [
        "from sklearn.ensemble import RandomForestClassifier"
      ],
      "execution_count": null,
      "outputs": []
    },
    {
      "cell_type": "code",
      "metadata": {
        "id": "Mr3tAGbjTET8"
      },
      "source": [
        "from sklearn.model_selection import train_test_split\n",
        "X_treinamento, X_teste, y_treinamento, y_teste = train_test_split(X_PCA_2c, y_iris, test_size = 0.2, random_state = 20111974)"
      ],
      "execution_count": null,
      "outputs": []
    },
    {
      "cell_type": "code",
      "metadata": {
        "id": "IzCZCBSmylwZ"
      },
      "source": [
        "# Optamos por 2 componentes principais\n",
        "classifier_2c = RandomForestClassifier(max_depth = 2, random_state = 0)\n",
        "classifier_2c.fit(X_treinamento, y_treinamento)"
      ],
      "execution_count": null,
      "outputs": []
    },
    {
      "cell_type": "markdown",
      "metadata": {
        "id": "BiDgWh2PzYEY"
      },
      "source": [
        "#### Fazer as predições"
      ]
    },
    {
      "cell_type": "code",
      "metadata": {
        "id": "A7V8DWW4zVPs"
      },
      "source": [
        "y_pred_2c = classifier_2c.predict(X_teste)"
      ],
      "execution_count": null,
      "outputs": []
    },
    {
      "cell_type": "markdown",
      "metadata": {
        "id": "JTm4msQy2ezQ"
      },
      "source": [
        "___\n",
        "# **Exercícios**\n",
        "* Para cada um dos dataframes a seguir, selecione os melhores atributos utilizando as seguintes técnicas técnicas:\n",
        "    * Random Forest\n",
        "    * XGBoost\n",
        "    * RFE"
      ]
    },
    {
      "cell_type": "markdown",
      "metadata": {
        "id": "caFkC6oCmUKK"
      },
      "source": [
        "## Exercício 1 - Breast Cancer"
      ]
    },
    {
      "cell_type": "code",
      "metadata": {
        "id": "vhOM-Z9zmf-f"
      },
      "source": [
        "import pandas as pd\n",
        "import numpy as np\n",
        "from sklearn.datasets import load_breast_cancer\n",
        "\n",
        "cancer = load_breast_cancer()\n",
        "X= cancer['data']\n",
        "y= cancer['target']\n",
        "\n",
        "df_cancer = pd.DataFrame(np.c_[X, y], columns= np.append(cancer['feature_names'], ['target']))\n",
        "df_cancer['target'] = df_cancer['target'].map({0: 'malign', 1: 'benign'})\n",
        "df_cancer.head()"
      ],
      "execution_count": null,
      "outputs": []
    },
    {
      "cell_type": "markdown",
      "metadata": {
        "id": "zA395jtOfGEl"
      },
      "source": [
        "## Exercício 2 - Fraud Detection"
      ]
    },
    {
      "cell_type": "code",
      "metadata": {
        "id": "14fV0gz0flb8"
      },
      "source": [
        "import pandas as pd\n",
        "import numpy as np\n",
        "\n",
        "url= 'https://raw.githubusercontent.com/MathMachado/Python_RFB/DS_Python/Dataframes/creditcard.csv?token=AGDJQ63IAZCFP7GTSZTOMAK5QBSP6'\n",
        "df_CC= pd.read_csv(url)\n",
        "df_CC.head()"
      ],
      "execution_count": null,
      "outputs": []
    },
    {
      "cell_type": "markdown",
      "metadata": {
        "id": "1qruqUDqnvMc"
      },
      "source": [
        "## Exercício 3 - Boston california Price"
      ]
    },
    {
      "cell_type": "code",
      "metadata": {
        "id": "trxK8YXNnsam"
      },
      "source": [
        "from sklearn.datasets import load_boston\n",
        "\n",
        "boston = load_boston()\n",
        "X= boston['data']\n",
        "y= boston['target']\n",
        "\n",
        "df_boston = pd.DataFrame(np.c_[X, y], columns= np.append(boston['feature_names'], ['target']))\n",
        "df_boston.head()"
      ],
      "execution_count": null,
      "outputs": []
    },
    {
      "cell_type": "markdown",
      "metadata": {
        "id": "-CawPH2nb5cl"
      },
      "source": [
        "## Exercício 4 - Diabetes\n"
      ]
    },
    {
      "cell_type": "code",
      "metadata": {
        "id": "_lVjBS7QcZuT"
      },
      "source": [
        "from sklearn.datasets import load_diabetes\n",
        "\n",
        "diabetes = load_diabetes()\n",
        "X= diabetes['data']\n",
        "y= diabetes['target']\n",
        "\n",
        "df_diabetes = pd.DataFrame(np.c_[X, y], columns= np.append(diabetes['feature_names'], ['target']))\n",
        "df_diabetes.head()"
      ],
      "execution_count": null,
      "outputs": []
    },
    {
      "cell_type": "markdown",
      "metadata": {
        "id": "qP1vjDdylyHr"
      },
      "source": [
        "## Exercício 5 - Crimes"
      ]
    },
    {
      "cell_type": "code",
      "metadata": {
        "id": "fqLHDXbOl0Sf"
      },
      "source": [
        "url= 'https://raw.githubusercontent.com/MathMachado/Python_RFB/DS_Python/Dataframes/Crime.txt?token=AGDJQ665WUIWIEKDPK6WO625P3QUQ'\n",
        "df_Crime = pd.read_table(url, sep=',', na_values='?')\n",
        "df_Crime.shape"
      ],
      "execution_count": null,
      "outputs": []
    },
    {
      "cell_type": "code",
      "metadata": {
        "id": "fxhTXj6Ll7wB"
      },
      "source": [
        "df_Crime.head()"
      ],
      "execution_count": null,
      "outputs": []
    },
    {
      "cell_type": "markdown",
      "metadata": {
        "id": "d3b-Yv2HUmoI"
      },
      "source": [
        "## Exercício 6\n",
        "O dataframe sintético a seguir foi gerado de forma conveniente para que você possa praticar os conhecimentos adquiridos neste vídeo. Vamos gerar o dataframe conforme script a seguir usando a library Fake."
      ]
    },
    {
      "cell_type": "code",
      "source": [
        "!pip install tools"
      ],
      "metadata": {
        "id": "8ihIJuzrbgHc"
      },
      "execution_count": null,
      "outputs": []
    },
    {
      "cell_type": "code",
      "source": [
        "# Re-import necessary libraries and re-initialize the synthetic dataset after reset\n",
        "\n",
        "import pandas as pd\n",
        "import numpy as np\n",
        "from sklearn.datasets import make_classification\n",
        "\n",
        "# Generate a synthetic dataset with 5,000 rows and 15 features (including redundant ones)\n",
        "X, y = make_classification(\n",
        "    n_samples=5000,\n",
        "    n_features=15,\n",
        "    n_informative=10,\n",
        "    n_redundant=3,\n",
        "    n_classes=2,\n",
        "    random_state=42\n",
        ")\n",
        "\n",
        "# Convert to DataFrame\n",
        "df_feature_selection = pd.DataFrame(X, columns=[f'Feature_{i+1}' for i in range(15)])\n",
        "df_feature_selection['Target'] = y\n",
        "\n",
        "# Display the generated dataset to the user\n",
        "df_feature_selection.head()\n"
      ],
      "metadata": {
        "id": "VEZ6FKZ7an1v"
      },
      "execution_count": null,
      "outputs": []
    },
    {
      "cell_type": "markdown",
      "source": [
        "6a. Estatísticas Descritivas\n",
        "- Calcule a variância de cada coluna no dataset. Quais colunas possuem variância próxima de zero? Essas colunas devem ser removidas?\n",
        "\n",
        "6b. VarianceThreshold\n",
        "- Aplique o método `VarianceThreshold` com um limite de variância igual a 0.01 para remover colunas com baixa variância. Quantas colunas foram eliminadas?\n",
        "\n",
        "6c. Correlação entre Features\n",
        "- Calcule a matriz de correlação para todas as features. Identifique pares de colunas com correlação maior que 0.85. Essas colunas devem ser removidas? Explique o motivo.\n",
        "\n",
        "6d. Análise de Correlação com a Variável Target\n",
        "- Calcule a correlação de cada feature com a variável target. Liste as cinco features mais correlacionadas e discuta sua importância para o modelo.\n",
        "\n",
        "6e. ANOVA (f_classif)\n",
        "- Aplique a técnica de ANOVA usando `f_classif` para identificar as features mais relevantes para prever a variável target. Quais são as três features mais significativas?\n",
        "\n",
        "6f. Univariate Regression Test (f_regression)\n",
        "- Use o método `f_regression` para calcular a dependência linear entre cada feature e a variável target. Quais features têm maior influência na variável target?\n",
        "\n",
        "6g. SelectFromModel\n",
        "- Aplique `SelectFromModel` utilizando uma árvore de decisão como modelo base. Quais features foram selecionadas como mais importantes?\n",
        "\n",
        "6h. Recursive Feature Elimination (RFE)\n",
        "- Use o método RFE com um modelo de regressão logística para selecionar as cinco features mais importantes. Quais são essas features?\n",
        "\n",
        "6i. Pipeline de Feature Selection\n",
        "- Crie um pipeline que combine o `VarianceThreshold`, a análise de correlação e o `SelectFromModel` para realizar Feature Selection automaticamente. Quantas features permanecem após aplicar o pipeline?\n",
        "\n",
        "6j. Comparação de Resultados\n",
        "- Compare as features selecionadas por três métodos diferentes: ANOVA, SelectFromModel e RFE. Quais são as features comuns entre os três métodos? Quais são exclusivas de cada método?\n"
      ],
      "metadata": {
        "id": "ad5BMw1Icbo7"
      }
    },
    {
      "cell_type": "code",
      "source": [],
      "metadata": {
        "id": "EHSXyzsbcXDK"
      },
      "execution_count": null,
      "outputs": []
    }
  ]
}