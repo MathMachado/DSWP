{
  "nbformat": 4,
  "nbformat_minor": 0,
  "metadata": {
    "colab": {
      "name": "NB03__Numeros.ipynb",
      "provenance": [],
      "collapsed_sections": [
        "n8BIbzQbNWUo",
        "7eS94uQ4NhVR",
        "SYOgJpGYVLUu",
        "CaHFxk98W5if",
        "ReWUyWiHXCnc",
        "CqszHxaKHr2h",
        "tXgF1Wl9gHKY",
        "Fotx7XUquAo8",
        "36kmLUYDvsUI",
        "SWO2GdNovxAp",
        "vpN54l4vxze5",
        "u4HOf9SNytSq",
        "6BQ9oZiD9hg5",
        "tz5-QdrX9vct",
        "p1muBgMX8NK4",
        "FxTC2-U88ajk",
        "z8EYn0pP25Rh"
      ],
      "include_colab_link": true
    },
    "kernelspec": {
      "name": "python3",
      "display_name": "Python 3"
    },
    "accelerator": "GPU"
  },
  "cells": [
    {
      "cell_type": "markdown",
      "metadata": {
        "id": "view-in-github",
        "colab_type": "text"
      },
      "source": [
        "<a href=\"https://colab.research.google.com/github/MathMachado/DSWP/blob/master/Notebooks/NB03__Operadores%20e%20Fun%C3%A7%C3%B5es%20Matem%C3%A1ticas%20essenciais%20no%20Python.ipynb\" target=\"_parent\"><img src=\"https://colab.research.google.com/assets/colab-badge.svg\" alt=\"Open In Colab\"/></a>"
      ]
    },
    {
      "cell_type": "markdown",
      "metadata": {
        "id": "CpRVRA3RmApU"
      },
      "source": [
        "<center><h1><b><i>Operadores e Funções Matemáticas essenciais no Python\n",
        "</i></b></h1></center>\n",
        "\n"
      ]
    },
    {
      "cell_type": "markdown",
      "metadata": {
        "id": "dpGiKzFGsqEE"
      },
      "source": [
        "# **AGENDA**:\n",
        "> Neste capítulo você irá aprofundar seu conhecimento nos operadores e funções matemáticas fundamentais do Python, ferramentas indispensáveis para qualquer programador. Abordaremos os seguintes tópicos:\n",
        "\n",
        "* Operadores aritméticos: Entenda como utilizar operadores básicos como adição (+), subtração (-), multiplicação (*), divisão (/), módulo (%), exponenciação (**) e divisão inteira (//).\n",
        "* Funções matemáticas: Aprenda a aplicar funções como round(), floor(), ceil() e trunc() para manipular números e controlar o arredondamento em suas operações.\n",
        "* Operadores de comparação: Descubra como comparar valores utilizando operadores como igual a (==), diferente de (!=), maior que (>), menor que (<), maior ou igual a (>=) e menor ou igual a (<=).\n",
        "* Operadores de atribuição: Veja como simplificar atribuições e atualizações de valores em variáveis com operadores como =, +=, -=, *=, /=, entre outros.\n",
        "\n",
        "Finalizaremos com um wrap-up para revisar os conceitos aprendidos, garantindo que você esteja pronto para aplicar esses conhecimentos em seus projetos. Além disso, disponibilizaremos exercícios práticos para você consolidar seu aprendizado.\n",
        "\n",
        "Este vídeo é perfeito para iniciantes e para quem deseja reforçar suas habilidades em operações matemáticas e lógicas no Python, tornando seu código mais eficiente e eficaz.\n"
      ]
    },
    {
      "cell_type": "markdown",
      "metadata": {
        "id": "Gbziy0R0PRtA"
      },
      "source": [
        "___\n",
        "# **NOTAS E OBSERVAÇÕES**"
      ]
    },
    {
      "cell_type": "markdown",
      "metadata": {
        "id": "7VtuARnPZ7Hw"
      },
      "source": [
        "___\n",
        "# **NÚMEROS**\n",
        "> Basicamente, há dois tipos de números em Python:\n",
        "\n",
        "* float point\n",
        "    * Exemplo: temperatura, altura, etc\n",
        "    \n",
        "* Integer\n",
        "    * Exemplo: idade, dia do mês, etc...\n"
      ]
    },
    {
      "cell_type": "markdown",
      "metadata": {
        "id": "n8BIbzQbNWUo"
      },
      "source": [
        "___\n",
        "# **OPERADORES ARITMÉTICOS**\n",
        "> Considere as variáveis i_numero1 = 7 e i_numero2 = 3 abaixo, então:\n",
        "\n",
        "| Operador | Descrição | Exemplo | Operação | Resultado |\n",
        "|---|---|---|---|---|\n",
        "| +  | Adição | resultado = numero1 + numero2 | resultado = 7 + 3 | resultado = 10 |\n",
        "| -  | Subtração | resultado = numero1 - numero2 | resultado = 7 - 3 | resultado = 4|\n",
        "| /  | Divisão | resultado = numero1 / numero2 | resultado = 7 / 3 | resultado = 2.333... |\n",
        "| %  | Resto da Divisão | resultado = numero1 % numero2 | resultado = 7%3 | resultado = 1 |\n",
        "| *  | Multiplicação | resultado = numero1 * numero2 | resultado = 7 * 3 | resultado = 21 |\n",
        "| //  | Quociente da Divisão | resultado = numero1 // numero2 | resultado = 7 // 3 | resultado = 2 |\n",
        "| **  | Potência | resultado = numero1 ** numero2 | resultado = 7\\*7\\*7 | resultado = 343|\n",
        "\n",
        "> Nas operações matemáticas de divisão, chamamos:\n",
        "\n",
        "    * 7 de dividendo (o número que se quer dividir);\n",
        "    * 3 de divisor;\n",
        "    * 2 é o quociente ou resultado, dado por 7 // 3;\n",
        "    * 1 é o resto, dado por 7 % 3\n",
        "\n",
        "Confirma na imagem a seguir os elementos da Divisão:\n",
        "\n",
        "![Divisao](https://github.com/MathMachado/Materials/blob/master/Divisao.png?raw=true)"
      ]
    },
    {
      "cell_type": "markdown",
      "metadata": {
        "id": "EPI5rEFmTCCr"
      },
      "source": [
        "Conforme vimos acima, temos que numero1 = 7 e numero2 = 3. Vamos aplicar os conhecimentos que acabamos de aprender:"
      ]
    },
    {
      "cell_type": "code",
      "metadata": {
        "id": "x1M4D-GKTotm"
      },
      "source": [
        "numero1 = 7\n",
        "numero2 = 3"
      ],
      "execution_count": 1,
      "outputs": []
    },
    {
      "cell_type": "markdown",
      "metadata": {
        "id": "_2c7o4-1lapI"
      },
      "source": [
        "Qual o valor de C nas expressões abaixo?"
      ]
    },
    {
      "cell_type": "code",
      "metadata": {
        "id": "qBC_Qo_NTI_k",
        "outputId": "3d98b5a2-4c1b-4a4f-876b-b2770a137af7",
        "colab": {
          "base_uri": "https://localhost:8080/",
          "height": 35
        }
      },
      "source": [
        "resultado = numero1 + numero2\n",
        "f'O valor de resultado é: {resultado}'"
      ],
      "execution_count": 2,
      "outputs": [
        {
          "output_type": "execute_result",
          "data": {
            "text/plain": [
              "'O valor de resultado é: 10'"
            ],
            "application/vnd.google.colaboratory.intrinsic+json": {
              "type": "string"
            }
          },
          "metadata": {},
          "execution_count": 2
        }
      ]
    },
    {
      "cell_type": "code",
      "metadata": {
        "id": "PT0AQX57TKcF",
        "outputId": "c9c93b8b-cdf0-4d1c-cf7c-bd5a08d87fc5",
        "colab": {
          "base_uri": "https://localhost:8080/",
          "height": 34
        }
      },
      "source": [
        "resultado = numero1 - numero2\n",
        "f'O valor de resultado é: {resultado}'"
      ],
      "execution_count": null,
      "outputs": [
        {
          "output_type": "execute_result",
          "data": {
            "text/plain": [
              "'O valor de C é: 4'"
            ]
          },
          "metadata": {
            "tags": []
          },
          "execution_count": 40
        }
      ]
    },
    {
      "cell_type": "code",
      "metadata": {
        "id": "CBxB4hZ3TL4d",
        "outputId": "32236983-5b26-4818-a96d-59ccbc3d2380",
        "colab": {
          "base_uri": "https://localhost:8080/",
          "height": 34
        }
      },
      "source": [
        "resultado = numero1 * numero2\n",
        "f'O valor de resultado é: {resultado}'"
      ],
      "execution_count": null,
      "outputs": [
        {
          "output_type": "execute_result",
          "data": {
            "text/plain": [
              "'O valor de C é: 21'"
            ]
          },
          "metadata": {
            "tags": []
          },
          "execution_count": 41
        }
      ]
    },
    {
      "cell_type": "markdown",
      "metadata": {
        "id": "uURQ02PQXniH"
      },
      "source": [
        "## Funções round(), floor(), ceil() e trunc()"
      ]
    },
    {
      "cell_type": "markdown",
      "metadata": {
        "id": "-7h2lUnIX_pc"
      },
      "source": [
        "### Exemplo 1"
      ]
    },
    {
      "cell_type": "code",
      "metadata": {
        "id": "u3c2_zmZTdur"
      },
      "source": [
        "resultado = numero2/numero1\n",
        "\n",
        "# Importa a biblioteca math\n",
        "import math\n",
        "\n",
        "resultado_round2 = round(resultado, 2) # Arredonda resultado para 2 casas decimais.\n",
        "resultado_round4 = round(resultado, 4) # Arredonda resultado para 4 casas decimais.\n",
        "resultado_floor = math.floor(resultado) # Retorna o maior valor inteiro menor ou igual a resultado.\n",
        "resultado_ceil = math.ceil(resultado) # Retorna o menor valor inteiro maior ou igual a resultado.\n",
        "resultado_trunc = math.trunc(resultado) # Retorna resultado truncado para um inteiro"
      ],
      "execution_count": 3,
      "outputs": []
    },
    {
      "cell_type": "code",
      "metadata": {
        "id": "Wc2mULT3YH18",
        "outputId": "db30aace-a0fc-45be-ec23-11ced658649f",
        "colab": {
          "base_uri": "https://localhost:8080/",
          "height": 35
        }
      },
      "source": [
        "# Valor de resultado com 17 casas decimais:\n",
        "f'{resultado}'"
      ],
      "execution_count": 4,
      "outputs": [
        {
          "output_type": "execute_result",
          "data": {
            "text/plain": [
              "'0.42857142857142855'"
            ],
            "application/vnd.google.colaboratory.intrinsic+json": {
              "type": "string"
            }
          },
          "metadata": {},
          "execution_count": 4
        }
      ]
    },
    {
      "cell_type": "code",
      "metadata": {
        "id": "xenFBPeFYWoR",
        "outputId": "3f2b9bc9-e0b2-4b5a-a66f-455e1b64090d",
        "colab": {
          "base_uri": "https://localhost:8080/",
          "height": 35
        }
      },
      "source": [
        "# Valor de resultado com 2 casas decimais:\n",
        "f'{resultado_round2}'"
      ],
      "execution_count": 5,
      "outputs": [
        {
          "output_type": "execute_result",
          "data": {
            "text/plain": [
              "'0.43'"
            ],
            "application/vnd.google.colaboratory.intrinsic+json": {
              "type": "string"
            }
          },
          "metadata": {},
          "execution_count": 5
        }
      ]
    },
    {
      "cell_type": "code",
      "metadata": {
        "id": "HW8dJ4UMZBp5",
        "outputId": "60daed0e-9119-49a3-af01-3402288bec50",
        "colab": {
          "base_uri": "https://localhost:8080/",
          "height": 35
        }
      },
      "source": [
        "# Valor de resultado com 4 casas decimais:\n",
        "f'{resultado_round4}'"
      ],
      "execution_count": 6,
      "outputs": [
        {
          "output_type": "execute_result",
          "data": {
            "text/plain": [
              "'0.4286'"
            ],
            "application/vnd.google.colaboratory.intrinsic+json": {
              "type": "string"
            }
          },
          "metadata": {},
          "execution_count": 6
        }
      ]
    },
    {
      "cell_type": "code",
      "metadata": {
        "id": "Vyyfj4ALYXNp",
        "outputId": "b8763bc0-3468-4a72-beb2-e3d3cc3a094c",
        "colab": {
          "base_uri": "https://localhost:8080/",
          "height": 35
        }
      },
      "source": [
        "# Retorna o maior valor inteiro menor ou igual a resultado:\n",
        "f'{resultado_floor}'"
      ],
      "execution_count": 7,
      "outputs": [
        {
          "output_type": "execute_result",
          "data": {
            "text/plain": [
              "'0'"
            ],
            "application/vnd.google.colaboratory.intrinsic+json": {
              "type": "string"
            }
          },
          "metadata": {},
          "execution_count": 7
        }
      ]
    },
    {
      "cell_type": "code",
      "metadata": {
        "id": "fwBCv0tWZP5C",
        "outputId": "1061017a-0354-4321-c273-cf5d03250632",
        "colab": {
          "base_uri": "https://localhost:8080/",
          "height": 35
        }
      },
      "source": [
        "# Retorna o menor valor inteiro maior ou igual a resultado:\n",
        "f'{resultado_ceil}'"
      ],
      "execution_count": 8,
      "outputs": [
        {
          "output_type": "execute_result",
          "data": {
            "text/plain": [
              "'1'"
            ],
            "application/vnd.google.colaboratory.intrinsic+json": {
              "type": "string"
            }
          },
          "metadata": {},
          "execution_count": 8
        }
      ]
    },
    {
      "cell_type": "code",
      "metadata": {
        "id": "EFNL0YIzZP2H",
        "outputId": "0cdcb326-d610-4be3-ff20-377dd809d5e3",
        "colab": {
          "base_uri": "https://localhost:8080/",
          "height": 35
        }
      },
      "source": [
        "# Retorna a parte inteira de resultado:\n",
        "f'{resultado_trunc}'"
      ],
      "execution_count": 9,
      "outputs": [
        {
          "output_type": "execute_result",
          "data": {
            "text/plain": [
              "'0'"
            ],
            "application/vnd.google.colaboratory.intrinsic+json": {
              "type": "string"
            }
          },
          "metadata": {},
          "execution_count": 9
        }
      ]
    },
    {
      "cell_type": "markdown",
      "metadata": {
        "id": "7sVd5e2zX6zD"
      },
      "source": [
        "### Exemplo 2"
      ]
    },
    {
      "cell_type": "code",
      "metadata": {
        "id": "vja58gRJXBda"
      },
      "source": [
        "resultado = 13 / 3\n",
        "\n",
        "# Importa a biblioteca math\n",
        "import math\n",
        "\n",
        "resultado_round2 = round(resultado, 2) # Arredonda resultado para 2 casas decimais.\n",
        "resultado_round4 = round(resultado, 4) # Arredonda resultado para 4 casas decimais.\n",
        "resultado_floor = math.floor(resultado) # Retorna o maior valor inteiro menor ou igual a resultado.\n",
        "resultado_ceil = math.ceil(resultado) # Retorna o menor valor inteiro maior ou igual a resultado.\n",
        "resultado_trunc = math.trunc(resultado) # Retorna resultado truncado para um inteiro"
      ],
      "execution_count": 11,
      "outputs": []
    },
    {
      "cell_type": "markdown",
      "metadata": {
        "id": "bSLDyRMYVXTB"
      },
      "source": [
        "... Novamente, mas desta vez, definindo 2 casas decimais:"
      ]
    },
    {
      "cell_type": "code",
      "metadata": {
        "id": "gDNJOp2nVcr4",
        "outputId": "0423af57-1b6c-4727-b1c9-82c08aa3de6b",
        "colab": {
          "base_uri": "https://localhost:8080/",
          "height": 35
        }
      },
      "source": [
        "f'O valor de resultado é: {resultado:{8}.{2}}'"
      ],
      "execution_count": 13,
      "outputs": [
        {
          "output_type": "execute_result",
          "data": {
            "text/plain": [
              "'O valor de resultado é:      4.3'"
            ],
            "application/vnd.google.colaboratory.intrinsic+json": {
              "type": "string"
            }
          },
          "metadata": {},
          "execution_count": 13
        }
      ]
    },
    {
      "cell_type": "code",
      "metadata": {
        "id": "87seYsQIbsHt",
        "outputId": "ab9dae05-5507-4a99-eb73-da1c622a7dae",
        "colab": {
          "base_uri": "https://localhost:8080/",
          "height": 35
        }
      },
      "source": [
        "# Valor de reultado com 2 casas decimais:\n",
        "f'{resultado_round2}'"
      ],
      "execution_count": 14,
      "outputs": [
        {
          "output_type": "execute_result",
          "data": {
            "text/plain": [
              "'4.33'"
            ],
            "application/vnd.google.colaboratory.intrinsic+json": {
              "type": "string"
            }
          },
          "metadata": {},
          "execution_count": 14
        }
      ]
    },
    {
      "cell_type": "code",
      "metadata": {
        "id": "_4kTZ4J3bsH0",
        "outputId": "7197acc3-2e3e-4903-bd21-960950bb99b3",
        "colab": {
          "base_uri": "https://localhost:8080/",
          "height": 35
        }
      },
      "source": [
        "# Valor de reultado com 4 casas decimais:\n",
        "f'{resultado_round4}'"
      ],
      "execution_count": 15,
      "outputs": [
        {
          "output_type": "execute_result",
          "data": {
            "text/plain": [
              "'4.3333'"
            ],
            "application/vnd.google.colaboratory.intrinsic+json": {
              "type": "string"
            }
          },
          "metadata": {},
          "execution_count": 15
        }
      ]
    },
    {
      "cell_type": "code",
      "metadata": {
        "id": "9_TP9Rc5bsH2",
        "outputId": "0fa34042-9e2e-4704-d94f-4c2445438101",
        "colab": {
          "base_uri": "https://localhost:8080/",
          "height": 35
        }
      },
      "source": [
        "# Retorna o maior valor inteiro menor ou igual a reultado:\n",
        "f'{resultado_floor}'"
      ],
      "execution_count": 17,
      "outputs": [
        {
          "output_type": "execute_result",
          "data": {
            "text/plain": [
              "'4'"
            ],
            "application/vnd.google.colaboratory.intrinsic+json": {
              "type": "string"
            }
          },
          "metadata": {},
          "execution_count": 17
        }
      ]
    },
    {
      "cell_type": "code",
      "metadata": {
        "id": "Xq7cw8fJbsH6",
        "outputId": "b49a778b-1a4e-4874-eaf4-c6943073d8bb",
        "colab": {
          "base_uri": "https://localhost:8080/",
          "height": 35
        }
      },
      "source": [
        "# Retorna o menor valor inteiro maior ou igual a reultado:\n",
        "f'{resultado_ceil}'"
      ],
      "execution_count": 18,
      "outputs": [
        {
          "output_type": "execute_result",
          "data": {
            "text/plain": [
              "'5'"
            ],
            "application/vnd.google.colaboratory.intrinsic+json": {
              "type": "string"
            }
          },
          "metadata": {},
          "execution_count": 18
        }
      ]
    },
    {
      "cell_type": "code",
      "metadata": {
        "id": "-6CtvSC8bsH8",
        "outputId": "524a8fef-2c35-4abf-eebc-4b11e3e8f774",
        "colab": {
          "base_uri": "https://localhost:8080/",
          "height": 35
        }
      },
      "source": [
        "# Retorna a parte inteira de reultado:\n",
        "f'{resultado_trunc}'"
      ],
      "execution_count": 19,
      "outputs": [
        {
          "output_type": "execute_result",
          "data": {
            "text/plain": [
              "'4'"
            ],
            "application/vnd.google.colaboratory.intrinsic+json": {
              "type": "string"
            }
          },
          "metadata": {},
          "execution_count": 19
        }
      ]
    },
    {
      "cell_type": "markdown",
      "metadata": {
        "id": "7eS94uQ4NhVR"
      },
      "source": [
        "___\n",
        "# **OPERADORES PARA COMPARAÇÃO**\n",
        "\n",
        "* Considere as variáveis numero1 = 7, numero2 = 3 e o vetor x abaixo, então:\n",
        "\n",
        "| Operador | Exemplo | Descrição | Resultado |\n",
        "|---|---|---|---|\n",
        "| == | numero1 == numero2 | 7 é igual a 3? | False |\n",
        "| != | numero1 != numero2 | 7 é diferente de 3? | True |\n",
        "| >  | numero1 > numero2 | 7 é maior que 3? | True |\n",
        "| < | numero1 < numero2 | 7 é menor que 3? | False |\n",
        "| >= | numero1 >= numero2 | 7 é maior ou igual a 3? | True |\n",
        "| <= | numero1 <= numero2 | 7 é menor ou igual a 3? | False |"
      ]
    },
    {
      "cell_type": "markdown",
      "metadata": {
        "id": "SYOgJpGYVLUu"
      },
      "source": [
        "Vamos aplicar os conhecimentos que acabamos de aprender:"
      ]
    },
    {
      "cell_type": "code",
      "metadata": {
        "id": "D5i-yvZEVMjg"
      },
      "source": [
        "numero1 = 7\n",
        "numero2 = 3"
      ],
      "execution_count": null,
      "outputs": []
    },
    {
      "cell_type": "markdown",
      "metadata": {
        "id": "ZW_uNE897iSA"
      },
      "source": [
        "Array x:"
      ]
    },
    {
      "cell_type": "code",
      "metadata": {
        "id": "XoSKTMQ77jrA"
      },
      "source": [
        "import numpy as np\n",
        "x = np.array([0, 1, 2, 3, 4, 5, 6, 7, 8, 9])"
      ],
      "execution_count": null,
      "outputs": []
    },
    {
      "cell_type": "markdown",
      "metadata": {
        "id": "yye84Ha8lzs0"
      },
      "source": [
        "Qual o resultadodas expressões a seguir:"
      ]
    },
    {
      "cell_type": "code",
      "metadata": {
        "id": "5ZW2QYfzVQWA"
      },
      "source": [
        "numero1 == numero2"
      ],
      "execution_count": null,
      "outputs": []
    },
    {
      "cell_type": "code",
      "metadata": {
        "id": "YamNIizkVYnt"
      },
      "source": [
        "numero1 != numero2"
      ],
      "execution_count": null,
      "outputs": []
    },
    {
      "cell_type": "code",
      "metadata": {
        "id": "2kZvSb41Vfst"
      },
      "source": [
        "numero1 > numero2"
      ],
      "execution_count": null,
      "outputs": []
    },
    {
      "cell_type": "code",
      "metadata": {
        "id": "WVS6z01mWZ8O"
      },
      "source": [
        "numero1 < numero2"
      ],
      "execution_count": null,
      "outputs": []
    },
    {
      "cell_type": "code",
      "metadata": {
        "id": "gtuxz2JDWb4r"
      },
      "source": [
        "numero1 >= numero2"
      ],
      "execution_count": null,
      "outputs": []
    },
    {
      "cell_type": "code",
      "metadata": {
        "id": "CV1aZWYuWgW-"
      },
      "source": [
        "numero1 <= numero2"
      ],
      "execution_count": null,
      "outputs": []
    },
    {
      "cell_type": "markdown",
      "metadata": {
        "id": "UtW06b327ug4"
      },
      "source": [
        "Qual o resultado das expressões a seguir:"
      ]
    },
    {
      "cell_type": "code",
      "metadata": {
        "id": "x5s3iF_Q7vPN",
        "outputId": "e572b2e1-5277-42a5-fb18-1e716dc3d83c",
        "colab": {
          "base_uri": "https://localhost:8080/",
          "height": 51
        }
      },
      "source": [
        "x == 3"
      ],
      "execution_count": null,
      "outputs": [
        {
          "output_type": "execute_result",
          "data": {
            "text/plain": [
              "array([False, False, False,  True, False, False, False, False, False,\n",
              "       False])"
            ]
          },
          "metadata": {
            "tags": []
          },
          "execution_count": 3
        }
      ]
    },
    {
      "cell_type": "code",
      "metadata": {
        "id": "a_zuUmbT7-dh",
        "outputId": "6cc52067-7cbb-4552-80bb-f144496aa4a8",
        "colab": {
          "base_uri": "https://localhost:8080/",
          "height": 51
        }
      },
      "source": [
        "x != 3"
      ],
      "execution_count": null,
      "outputs": [
        {
          "output_type": "execute_result",
          "data": {
            "text/plain": [
              "array([ True,  True,  True, False,  True,  True,  True,  True,  True,\n",
              "        True])"
            ]
          },
          "metadata": {
            "tags": []
          },
          "execution_count": 4
        }
      ]
    },
    {
      "cell_type": "code",
      "metadata": {
        "id": "V6gC-Lt17vV0",
        "outputId": "45895647-2e59-47cc-f702-d48b9e032306",
        "colab": {
          "base_uri": "https://localhost:8080/",
          "height": 51
        }
      },
      "source": [
        "x < 3"
      ],
      "execution_count": null,
      "outputs": [
        {
          "output_type": "execute_result",
          "data": {
            "text/plain": [
              "array([ True,  True,  True, False, False, False, False, False, False,\n",
              "       False])"
            ]
          },
          "metadata": {
            "tags": []
          },
          "execution_count": 5
        }
      ]
    },
    {
      "cell_type": "code",
      "metadata": {
        "id": "AMvGmH7z7vbZ",
        "outputId": "aeb2cd64-f08e-4dca-f656-8d5eb6bcfe87",
        "colab": {
          "base_uri": "https://localhost:8080/",
          "height": 51
        }
      },
      "source": [
        "x > 3"
      ],
      "execution_count": null,
      "outputs": [
        {
          "output_type": "execute_result",
          "data": {
            "text/plain": [
              "array([False, False, False, False,  True,  True,  True,  True,  True,\n",
              "        True])"
            ]
          },
          "metadata": {
            "tags": []
          },
          "execution_count": 6
        }
      ]
    },
    {
      "cell_type": "markdown",
      "metadata": {
        "id": "ArlOmX1D8MZ1"
      },
      "source": [
        "Da mesma forma, se tivermos a matrix abaixo:"
      ]
    },
    {
      "cell_type": "code",
      "metadata": {
        "id": "hEFamTx38Pd2",
        "outputId": "b77cf053-f040-460c-bd16-26384e27958d",
        "colab": {
          "base_uri": "https://localhost:8080/",
          "height": 68
        }
      },
      "source": [
        "r = np.random.RandomState(20111974)\n",
        "x = r.randint(10, size= (3, 4))\n",
        "x"
      ],
      "execution_count": null,
      "outputs": [
        {
          "output_type": "execute_result",
          "data": {
            "text/plain": [
              "array([[8, 8, 2, 8],\n",
              "       [9, 1, 8, 0],\n",
              "       [4, 2, 0, 8]])"
            ]
          },
          "metadata": {
            "tags": []
          },
          "execution_count": 8
        }
      ]
    },
    {
      "cell_type": "markdown",
      "metadata": {
        "id": "xZo43Abr8kU6"
      },
      "source": [
        "Qual o resultado das expressões a seguir:"
      ]
    },
    {
      "cell_type": "code",
      "metadata": {
        "id": "DqXXJhbp8jAK",
        "outputId": "9cc1b25c-e83b-49a3-e9f6-0f43021c8001",
        "colab": {
          "base_uri": "https://localhost:8080/",
          "height": 68
        }
      },
      "source": [
        "x == 3"
      ],
      "execution_count": null,
      "outputs": [
        {
          "output_type": "execute_result",
          "data": {
            "text/plain": [
              "array([[False, False, False, False],\n",
              "       [False, False, False, False],\n",
              "       [False, False, False, False]])"
            ]
          },
          "metadata": {
            "tags": []
          },
          "execution_count": 9
        }
      ]
    },
    {
      "cell_type": "code",
      "metadata": {
        "id": "FfZnfg_V8uEs",
        "outputId": "7fa25b18-a80c-44c8-9456-39feb06efba1",
        "colab": {
          "base_uri": "https://localhost:8080/",
          "height": 68
        }
      },
      "source": [
        "x != 3"
      ],
      "execution_count": null,
      "outputs": [
        {
          "output_type": "execute_result",
          "data": {
            "text/plain": [
              "array([[ True,  True,  True,  True],\n",
              "       [ True,  True,  True,  True],\n",
              "       [ True,  True,  True,  True]])"
            ]
          },
          "metadata": {
            "tags": []
          },
          "execution_count": 10
        }
      ]
    },
    {
      "cell_type": "code",
      "metadata": {
        "id": "GmjUVH_d8uIA",
        "outputId": "5fd61448-9ba0-424c-8ae8-5575f9520ce3",
        "colab": {
          "base_uri": "https://localhost:8080/",
          "height": 68
        }
      },
      "source": [
        "x < 3"
      ],
      "execution_count": null,
      "outputs": [
        {
          "output_type": "execute_result",
          "data": {
            "text/plain": [
              "array([[False, False,  True, False],\n",
              "       [False,  True, False,  True],\n",
              "       [False,  True,  True, False]])"
            ]
          },
          "metadata": {
            "tags": []
          },
          "execution_count": 11
        }
      ]
    },
    {
      "cell_type": "code",
      "metadata": {
        "id": "KV2w6vfh8uLK",
        "outputId": "000aeaa9-7692-408b-ea91-a17113529eff",
        "colab": {
          "base_uri": "https://localhost:8080/",
          "height": 68
        }
      },
      "source": [
        "x > 3"
      ],
      "execution_count": null,
      "outputs": [
        {
          "output_type": "execute_result",
          "data": {
            "text/plain": [
              "array([[ True,  True, False,  True],\n",
              "       [ True, False,  True, False],\n",
              "       [ True, False, False,  True]])"
            ]
          },
          "metadata": {
            "tags": []
          },
          "execution_count": 12
        }
      ]
    },
    {
      "cell_type": "markdown",
      "metadata": {
        "id": "CaHFxk98W5if"
      },
      "source": [
        "___\n",
        "# **OPERADORES DE ATRIBUIÇÃO**\n",
        "\n",
        "| Operador | Exemplo | Operação Equivalente |\n",
        "|---|---|---|\n",
        "| = | resultado = numero1 + numero2 |\n",
        "| += | resultado += numero2 | resultado = resultado + numero2 |\n",
        "| -= | resultado -= numero2 | resultado = resultado - numero2 |\n",
        "| *= | resultado *= numero2 | resultado = resultado * numero2 |\n",
        "| /= | resultado /= numero2 | resultado = resultado / numero2 |\n",
        "| %= | resultado %= numero2 | resultado = resultado % numero2 |\n",
        "| **= | resultado *= numero2 | resultado = resultado ** numero2 |\n",
        "| //= | resultado // = numero2 | resultado = resultado // numero2 |"
      ]
    },
    {
      "cell_type": "markdown",
      "metadata": {
        "id": "ReWUyWiHXCnc"
      },
      "source": [
        "Considere numero1 = 7 e numero2 = 3 e vamos praticar os conhecimentos que acabamos de aprender:"
      ]
    },
    {
      "cell_type": "code",
      "metadata": {
        "id": "9cc6h3IEXA91"
      },
      "source": [
        "numero1 = 7\n",
        "numero2 = 3"
      ],
      "execution_count": null,
      "outputs": []
    },
    {
      "cell_type": "markdown",
      "metadata": {
        "id": "gmvx14IYl8gT"
      },
      "source": [
        "Qual o valor de C nas expressões a seguir:"
      ]
    },
    {
      "cell_type": "code",
      "metadata": {
        "id": "ipA_sFLHXWfy"
      },
      "source": [
        "resultado = numero1 + numero2\n",
        "f'O valor de resultado é: {resultado}'"
      ],
      "execution_count": null,
      "outputs": []
    },
    {
      "cell_type": "code",
      "metadata": {
        "id": "IkshGLnMXb_P"
      },
      "source": [
        "resultado += numero1\n",
        "f'O valor de resultado é: {resultado}'"
      ],
      "execution_count": null,
      "outputs": []
    },
    {
      "cell_type": "code",
      "metadata": {
        "id": "R5AUHwAwXgW-"
      },
      "source": [
        "resultado -= numero1\n",
        "f'O valor de resultado é: {resultado}'"
      ],
      "execution_count": null,
      "outputs": []
    },
    {
      "cell_type": "code",
      "metadata": {
        "id": "Cx3Pk_-IYBfX"
      },
      "source": [
        "resultado *= numero1\n",
        "f'O valor de resultado é: {resultado}'"
      ],
      "execution_count": null,
      "outputs": []
    },
    {
      "cell_type": "code",
      "metadata": {
        "id": "3cmr8Xi_YEX_"
      },
      "source": [
        "resultado /= numero1\n",
        "f'O valor de resultado é: {resultado}'"
      ],
      "execution_count": null,
      "outputs": []
    },
    {
      "cell_type": "code",
      "metadata": {
        "id": "oBNsw_TcYHXk"
      },
      "source": [
        "resultado %= numero1\n",
        "f'O valor de resultado é: {resultado}'"
      ],
      "execution_count": null,
      "outputs": []
    },
    {
      "cell_type": "code",
      "metadata": {
        "id": "EMmTl4jqYK6z"
      },
      "source": [
        "resultado **= numero1\n",
        "f'O valor de resultado é: {resultado}'"
      ],
      "execution_count": null,
      "outputs": []
    },
    {
      "cell_type": "code",
      "metadata": {
        "id": "sdIw4e8FYOIX"
      },
      "source": [
        "resultado //= numero1\n",
        "f'O valor de resultado é: {resultado}'"
      ],
      "execution_count": null,
      "outputs": []
    },
    {
      "cell_type": "markdown",
      "metadata": {
        "id": "w8LhoYF-tyb4"
      },
      "source": [
        "___\n",
        "# **WRAP UP**"
      ]
    },
    {
      "cell_type": "markdown",
      "metadata": {
        "id": "TJ8Lx1yXMoSF"
      },
      "source": [
        "___\n",
        "# **EXERCÍCIOS**\n",
        "\n",
        "## **1. Operadores Aritméticos Básicos**\n",
        "\n",
        "**Descrição:**  \n",
        "Escreva um programa que solicite ao usuário dois números e, em seguida, calcule e exiba a **soma**, **subtração**, **multiplicação**, **divisão**, **divisão inteira**, **resto da divisão** e **exponenciação** desses números.\n",
        "\n",
        "**Dicas:**\n",
        "- Utilize os operadores `+`, `-`, `*`, `/`, `//`, `%` e `**`.\n",
        "- Certifique-se de tratar a divisão por zero.\n",
        "\n",
        "---\n",
        "\n",
        "## **2. Uso das Funções `round()`, `floor()`, `ceil()` e `trunc()`**\n",
        "\n",
        "**Descrição:**  \n",
        "Com base no número `7.5678`, aplique as funções `round()`, `floor()`, `ceil()` e `trunc()` e exiba os resultados. Explique as diferenças entre cada função nos comentários do código.\n",
        "\n",
        "**Dicas:**\n",
        "- Importe o módulo `math` para usar `floor()`, `ceil()` e `trunc()`.\n",
        "- Observe como cada função trata a parte decimal do número.\n",
        "\n",
        "---\n",
        "\n",
        "## **3. Calculadora de Gorjeta**\n",
        "\n",
        "**Descrição:**  \n",
        "Crie um programa que peça ao usuário o valor total de uma conta em um restaurante e a porcentagem da gorjeta que ele deseja dar. Use operadores aritméticos para calcular o valor da gorjeta e o total a pagar.\n",
        "\n",
        "**Dicas:**\n",
        "- Converta a porcentagem de gorjeta em um valor decimal (por exemplo, 10% = 0.10).\n",
        "- Exiba os valores com duas casas decimais usando a função `round()` ou formatando a saída.\n",
        "\n",
        "---\n",
        "\n",
        "## **4. Conversão de Temperatura**\n",
        "\n",
        "**Descrição:**  \n",
        "Escreva um programa que converta uma temperatura dada em **Celsius** para **Fahrenheit** e **Kelvin**. Utilize operadores aritméticos nas fórmulas de conversão.\n",
        "\n",
        "**Fórmulas:**\n",
        "- Fahrenheit = (Celsius × 9/5) + 32\n",
        "- Kelvin = Celsius + 273.15\n",
        "\n",
        "**Dicas:**\n",
        "- Peça ao usuário para inserir a temperatura em Celsius.\n",
        "- Exiba os resultados das conversões.\n",
        "\n",
        "---\n",
        "\n",
        "## **5. Comparação de Números**\n",
        "\n",
        "**Descrição:**  \n",
        "Peça ao usuário que insira dois números e use **operadores de comparação** para determinar se o primeiro número é maior, menor ou igual ao segundo número. Exiba mensagens apropriadas para cada caso.\n",
        "\n",
        "**Dicas:**\n",
        "- Utilize os operadores `>`, `<` e `==`.\n",
        "- Use estruturas condicionais (`if`, `elif`, `else`) para exibir as mensagens.\n",
        "\n",
        "---\n",
        "\n",
        "## **6. Verificação de Par ou Ímpar**\n",
        "\n",
        "**Descrição:**  \n",
        "Escreva um programa que peça um número inteiro ao usuário e use o operador **módulo** (`%`) para determinar se o número é **par** ou **ímpar**. Exiba o resultado.\n",
        "\n",
        "**Dicas:**\n",
        "- Um número é par se o resto da divisão por 2 é zero.\n",
        "- Utilize uma estrutura condicional para verificar o resultado.\n",
        "\n",
        "---\n",
        "\n",
        "## **7. Atualização de Valor com Operadores de Atribuição**\n",
        "\n",
        "**Descrição:**  \n",
        "Inicie uma variável com o valor `100`. Em seguida, use **operadores de atribuição compostos** para:\n",
        "\n",
        "- Adicionar 50\n",
        "- Subtrair 25\n",
        "- Multiplicar por 2\n",
        "- Dividir por 5\n",
        "\n",
        "Exiba o valor da variável após **cada operação**.\n",
        "\n",
        "**Dicas:**\n",
        "- Utilize os operadores `+=`, `-=`, `*=`, `/=`.\n",
        "- Certifique-se de converter para o tipo adequado se necessário (por exemplo, int ou float).\n",
        "\n",
        "---\n",
        "\n",
        "## **8. Cálculo de Juros Simples**\n",
        "\n",
        "**Descrição:**  \n",
        "Crie um programa que calcule o montante final de uma aplicação financeira de acordo com a fórmula:\n",
        "\n",
        "```\n",
        "Montante = Capital + (Capital × Taxa × Tempo)\n",
        "```\n",
        "\n",
        "Peça ao usuário para inserir o **capital inicial**, a **taxa de juros** (em decimal) e o **tempo** (em anos). Use operadores aritméticos para realizar o cálculo.\n",
        "\n",
        "**Dicas:**\n",
        "- Certifique-se de que a taxa esteja em formato decimal (por exemplo, 5% = 0.05).\n",
        "- Exiba o montante final formatado com duas casas decimais.\n",
        "\n",
        "---\n",
        "\n",
        "## **9. Arredondamento de Notas**\n",
        "\n",
        "**Descrição:**  \n",
        "Suponha que um aluno obteve as seguintes notas: `8.6`, `7.4`, `9.1` e `6.8`. Use a função `round()` para **arredondar cada nota** para o inteiro mais próximo e calcule a **média** das notas arredondadas.\n",
        "\n",
        "**Dicas:**\n",
        "- Armazene as notas em uma lista.\n",
        "- Após arredondar, some as notas e divida pelo número de notas para obter a média.\n",
        "\n",
        "---\n",
        "\n",
        "## **10. Calculadora de IMC (Índice de Massa Corporal)**\n",
        "\n",
        "**Descrição:**  \n",
        "Escreva um programa que solicite ao usuário seu **peso** (em kg) e **altura** (em metros), calcule o **IMC** usando a fórmula:\n",
        "\n",
        "```\n",
        "IMC = peso / (altura ** 2)\n",
        "```\n",
        "\n",
        "Use **operadores de comparação** para informar se o usuário está **abaixo do peso**, **peso normal**, **sobrepeso** ou **obeso**, de acordo com a tabela abaixo:\n",
        "\n",
        "- Abaixo de 18.5: Abaixo do peso\n",
        "- Entre 18.5 e 24.9: Peso normal\n",
        "- Entre 25.0 e 29.9: Sobrepeso\n",
        "- Acima de 30.0: Obeso\n",
        "\n",
        "**Dicas:**\n",
        "- Utilize estruturas condicionais para verificar em qual faixa o IMC calculado se enquadra.\n",
        "- Exiba o IMC com uma casa decimal."
      ]
    },
    {
      "cell_type": "code",
      "metadata": {
        "id": "WHbHr7cyMpxB"
      },
      "source": [],
      "execution_count": null,
      "outputs": []
    }
  ]
}