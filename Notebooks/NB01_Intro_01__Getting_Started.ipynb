{
  "nbformat": 4,
  "nbformat_minor": 0,
  "metadata": {
    "colab": {
      "name": "PythonLab.ipynb",
      "provenance": [],
      "collapsed_sections": [
        "n8BIbzQbNWUo",
        "7eS94uQ4NhVR",
        "SYOgJpGYVLUu",
        "CaHFxk98W5if",
        "ReWUyWiHXCnc",
        "CqszHxaKHr2h",
        "tXgF1Wl9gHKY",
        "Fotx7XUquAo8",
        "36kmLUYDvsUI",
        "SWO2GdNovxAp",
        "vpN54l4vxze5",
        "u4HOf9SNytSq",
        "6BQ9oZiD9hg5",
        "tz5-QdrX9vct",
        "p1muBgMX8NK4",
        "FxTC2-U88ajk",
        "z8EYn0pP25Rh"
      ],
      "include_colab_link": true
    },
    "kernelspec": {
      "name": "python3",
      "display_name": "Python 3"
    },
    "accelerator": "GPU"
  },
  "cells": [
    {
      "cell_type": "markdown",
      "metadata": {
        "id": "view-in-github",
        "colab_type": "text"
      },
      "source": [
        "<a href=\"https://colab.research.google.com/github/MathMachado/DSWP/blob/master/Notebooks/NB01_Intro_01__Getting_Started.ipynb\" target=\"_parent\"><img src=\"https://colab.research.google.com/assets/colab-badge.svg\" alt=\"Open In Colab\"/></a>"
      ]
    },
    {
      "cell_type": "markdown",
      "metadata": {
        "id": "Gbziy0R0PRtA",
        "colab_type": "text"
      },
      "source": [
        "# Notas & observações\n"
      ]
    },
    {
      "cell_type": "markdown",
      "metadata": {
        "id": "028LGV5O8mY6",
        "colab_type": "text"
      },
      "source": [
        "___\n",
        "# **SEJAM MUITO BEM VINDOS AO CURSO DE DATA SCIENCE COM PYTHON**\n",
        "\n",
        "> Eu sou o Nelio MACHADO (https://www.linkedin.com/in/neliomachado/).\n",
        "\n",
        "Vamos começar a trabalhar, **pois o tempo não pára!**\n",
        "\n",
        "___\n",
        "1. **Breve apresentação**\n",
        "\n",
        "    1.1. Nome;\n",
        "    \n",
        "    1.2. O que faz?\n",
        "    \n",
        "    1.3. Porque quer aprender Data Science ou Python?\n",
        "\n",
        "___\n",
        "2. **Equipas de Data Scientists**\n",
        "\n",
        "    2.1. Distribuir folhas/papel A4 numerada de 1 a 4.\n",
        "\n",
        "    2.2. Por favor, ponham vossos nomes nestas folhas de forma, legível e quanto maior, melhor;\n",
        "\n",
        "    2.3. O número nesta folha que você vai receber representa a equipa ao qual você pertence;\n",
        "\n",
        "___\n",
        "3. **Projetos**\n",
        "> Como Cientistas de Dados, apresente as soluções para os seguintes problemas:\n",
        "\n",
        "    3.1. [O problema da mala](https://github.com/MathMachado/Python4DS/blob/DS_Python/Material/Test_Data%20Scientist_eDreams%20ODIGEO.pdf);\n",
        "\n",
        "    3.2. [O problema Banking_AWS](https://raw.githubusercontent.com/MathMachado/DSWP/master/Dataframes/banking_AWS.csv);\n",
        "\n",
        "    3.3. [Estimar se alguém receberá >50k por ano](https://github.com/MathMachado/DSWP/blob/master/Dataframes/adult.names)\n",
        "    \n",
        "    [Base de treinamento](https://raw.githubusercontent.com/MathMachado/DSWP/master/Dataframes/adult.data)\n",
        "    \n",
        "    [Base de teste](https://raw.githubusercontent.com/MathMachado/DSWP/master/Dataframes/adult.test)"
      ]
    },
    {
      "cell_type": "markdown",
      "metadata": {
        "id": "NidpT1Ywq-Wq",
        "colab_type": "text"
      },
      "source": [
        "___\n",
        "# **Agenda**:\n",
        "> Nesta capítulo, vamos falar sobre:\n",
        "\n",
        "* Comentários no Python;\n",
        "* Regras gerais para nomes de variáveis no Python;\n",
        "* Como deletar variáveis;\n",
        "* Wrap Up;"
      ]
    },
    {
      "cell_type": "markdown",
      "metadata": {
        "id": "qG0cPxziGcJj",
        "colab_type": "text"
      },
      "source": [
        "___\n",
        "# **Comentários no Python**\n",
        "> Basicamente, há duas formas de se fazer comentários e documentar seus codes no Python. Confira os exemplos a seguir:"
      ]
    },
    {
      "cell_type": "markdown",
      "metadata": {
        "id": "K1mmf41HG1cu",
        "colab_type": "text"
      },
      "source": [
        "## Exemplo 1"
      ]
    },
    {
      "cell_type": "code",
      "metadata": {
        "id": "B56PtqQ4G2xq",
        "colab_type": "code",
        "colab": {}
      },
      "source": [
        "# Isso é um comentário"
      ],
      "execution_count": 0,
      "outputs": []
    },
    {
      "cell_type": "markdown",
      "metadata": {
        "id": "vLyc-A93G_6G",
        "colab_type": "text"
      },
      "source": [
        "## Exemplo 2"
      ]
    },
    {
      "cell_type": "code",
      "metadata": {
        "id": "1y8BBOxoG-sd",
        "colab_type": "code",
        "outputId": "a1e0e638-d815-406c-a25c-a749e86eb574",
        "colab": {
          "base_uri": "https://localhost:8080/",
          "height": 35
        }
      },
      "source": [
        "print(\"Como fazer comentários nos seus codes Python.\")  # Isso é um comentário"
      ],
      "execution_count": 0,
      "outputs": [
        {
          "output_type": "stream",
          "text": [
            "Como fazer comentários nos seus codes Python.\n"
          ],
          "name": "stdout"
        }
      ]
    },
    {
      "cell_type": "markdown",
      "metadata": {
        "id": "PHqYXcK4HQkK",
        "colab_type": "text"
      },
      "source": [
        "## Exemplo 3 - Comentários em múltiplas linhas usando '''"
      ]
    },
    {
      "cell_type": "code",
      "metadata": {
        "id": "2FxBPFZGGDLs",
        "colab_type": "code",
        "outputId": "1f1a9cc9-ca0a-4281-d767-d13aabbfd4ee",
        "colab": {
          "base_uri": "https://localhost:8080/",
          "height": 34
        }
      },
      "source": [
        "'''\n",
        "Aqui você pode colocar seus comentários.\n",
        "Linha 1\n",
        "Linha 2\n",
        "...\n",
        "Linha k\n",
        "'''\n",
        "\n",
        "print('Este é um exemplo de como se fazer comentários no Python usando mais de uma linha.')"
      ],
      "execution_count": 0,
      "outputs": [
        {
          "output_type": "stream",
          "text": [
            "Este é um exemplo de como se fazer comentários no Python usando mais de uma linha.\n"
          ],
          "name": "stdout"
        }
      ]
    },
    {
      "cell_type": "markdown",
      "metadata": {
        "id": "kpNXncpbKdg1",
        "colab_type": "text"
      },
      "source": [
        "## Exemplo 4 - Comentários em múltiplas linhas usando #"
      ]
    },
    {
      "cell_type": "code",
      "metadata": {
        "id": "DhIy_LnHHR1v",
        "colab_type": "code",
        "colab": {}
      },
      "source": [
        "# Usando esta alternativa, podemos escrever múltiplas linhas de comentários para documentar os codes Python.\n",
        "# Por acaso, achei essa frase ontem e achei muito interessante. Segue:\n",
        "#\n",
        "# \"The secret of life is to fall 7 times and to get up 8 times\". [Paulo Coelho]\n",
        "#\n",
        "# Ok, chega de comentários."
      ],
      "execution_count": 0,
      "outputs": []
    },
    {
      "cell_type": "markdown",
      "metadata": {
        "id": "7S1TJR_roLnY",
        "colab_type": "text"
      },
      "source": [
        "## Exemplo 5 - Docstring = Comentários em funções"
      ]
    },
    {
      "cell_type": "code",
      "metadata": {
        "id": "gvUbWOf_oT7a",
        "colab_type": "code",
        "colab": {}
      },
      "source": [
        "def HelloWorld():\n",
        "    '''\n",
        "    Quando evocada, esta função retorna a frase \"Hello World!\"\n",
        "    \n",
        "    '''\n",
        "    print(\"Hello World!\")"
      ],
      "execution_count": 0,
      "outputs": []
    },
    {
      "cell_type": "code",
      "metadata": {
        "id": "a-urq9YFonpX",
        "colab_type": "code",
        "outputId": "903d6812-2557-44f8-ac06-83f735566260",
        "colab": {
          "base_uri": "https://localhost:8080/",
          "height": 34
        }
      },
      "source": [
        "# Evocamos a função HelloWorld()\n",
        "HelloWorld()"
      ],
      "execution_count": 0,
      "outputs": [
        {
          "output_type": "stream",
          "text": [
            "Hello World!\n"
          ],
          "name": "stdout"
        }
      ]
    },
    {
      "cell_type": "markdown",
      "metadata": {
        "id": "_TPdDJjxo7Vs",
        "colab_type": "text"
      },
      "source": [
        "Quando eu quiser ler o docString de uma função, use:"
      ]
    },
    {
      "cell_type": "code",
      "metadata": {
        "id": "acOWubUaozEe",
        "colab_type": "code",
        "outputId": "9889289b-507c-437c-d33b-c5ce6a149345",
        "colab": {
          "base_uri": "https://localhost:8080/",
          "height": 34
        }
      },
      "source": [
        "HelloWorld.__doc__"
      ],
      "execution_count": 0,
      "outputs": [
        {
          "output_type": "execute_result",
          "data": {
            "text/plain": [
              "'\\n    Quando evocada, esta função retorna a frase \"Hello World!\"\\n    '"
            ]
          },
          "metadata": {
            "tags": []
          },
          "execution_count": 5
        }
      ]
    },
    {
      "cell_type": "markdown",
      "metadata": {
        "id": "MM3jZ47z7Qyl",
        "colab_type": "text"
      },
      "source": [
        "___\n",
        "# **Regras gerais para nomes de variáveis no Python**\n",
        "* As variáveis no Python devem começar com letras (A-Z/a-z) ou underscore(_)\n",
        "* As variáveis Python não devem conter símbolos especiais como, por exemplo, !, @, #, $, %, .\n",
        "* Palavras reservadas do Python não podem ser usadas como nomes de variáveis\n",
        "* **Observação**: Python é case-sensitive. Portanto, a variável \"nome\" e \"Nome\" são variáveis distintas."
      ]
    },
    {
      "cell_type": "markdown",
      "metadata": {
        "id": "WncC-2EhM_FX",
        "colab_type": "text"
      },
      "source": [
        "## Convenção para nomes de variáveis no Python\n",
        "> A convenção a seguir (sugerida e adotada neste treinamento) identifica o tipo de variável pelo seu prefixo, conforme podemos acompanhar abaixo:\n",
        "\n",
        "| Prefixo da Variável | Tipo da variável | Exemplo |\n",
        "|---------------------|------------------|---------|\n",
        "| s_ | String | s_Nome |\n",
        "| t_ | Tupla | t_MesesDoAno |\n",
        "| d_ | Dicionário | d_MesesDoAno |\n",
        "| i_ | Inteiro | i_Idade |\n",
        "| f_ | Float | f_Valor |\n",
        "| l_ | Lista | l_Nomes |\n",
        "\n"
      ]
    },
    {
      "cell_type": "code",
      "metadata": {
        "id": "UNqHLJpfqOT8",
        "colab_type": "code",
        "colab": {}
      },
      "source": [
        ""
      ],
      "execution_count": 0,
      "outputs": []
    },
    {
      "cell_type": "markdown",
      "metadata": {
        "id": "MGfE6lc4MTP0",
        "colab_type": "text"
      },
      "source": [
        "## Palavras reservadas do Python"
      ]
    },
    {
      "cell_type": "markdown",
      "metadata": {
        "id": "QtWLaT0l8LbO",
        "colab_type": "text"
      },
      "source": [
        "Como verificar se um determinado nome de variável é uma palavra reservada do Python?"
      ]
    },
    {
      "cell_type": "code",
      "metadata": {
        "id": "-GIb1gXA9J5T",
        "colab_type": "code",
        "colab": {}
      },
      "source": [
        "# Library Python para verificar palavras reservadas\n",
        "import keyword"
      ],
      "execution_count": 0,
      "outputs": []
    },
    {
      "cell_type": "markdown",
      "metadata": {
        "id": "Zs5PI50jnM2y",
        "colab_type": "text"
      },
      "source": [
        "Vamos verificar se 'return' é uma palavra reservada do Python:"
      ]
    },
    {
      "cell_type": "code",
      "metadata": {
        "id": "0aXY4kWV9jX3",
        "colab_type": "code",
        "outputId": "9fe45f6d-2715-4de7-f714-a00656f06a95",
        "colab": {
          "base_uri": "https://localhost:8080/",
          "height": 35
        }
      },
      "source": [
        "keyword.iskeyword('return')"
      ],
      "execution_count": 0,
      "outputs": [
        {
          "output_type": "execute_result",
          "data": {
            "text/plain": [
              "True"
            ]
          },
          "metadata": {
            "tags": []
          },
          "execution_count": 37
        }
      ]
    },
    {
      "cell_type": "markdown",
      "metadata": {
        "id": "oOEnWzx1nXTp",
        "colab_type": "text"
      },
      "source": [
        "Sim, 'return' é uma palavra reservada do Python."
      ]
    },
    {
      "cell_type": "markdown",
      "metadata": {
        "id": "tP2UQbU39q48",
        "colab_type": "text"
      },
      "source": [
        "E 'flag'? É uma palavra reservada do Python?"
      ]
    },
    {
      "cell_type": "code",
      "metadata": {
        "id": "sk33aEjP9s61",
        "colab_type": "code",
        "outputId": "b69e85ae-2745-4f58-e4d2-ece70a88b2c5",
        "colab": {
          "base_uri": "https://localhost:8080/",
          "height": 35
        }
      },
      "source": [
        "keyword.iskeyword('flag')"
      ],
      "execution_count": 0,
      "outputs": [
        {
          "output_type": "execute_result",
          "data": {
            "text/plain": [
              "False"
            ]
          },
          "metadata": {
            "tags": []
          },
          "execution_count": 38
        }
      ]
    },
    {
      "cell_type": "markdown",
      "metadata": {
        "id": "Jn86gWSQ90xi",
        "colab_type": "text"
      },
      "source": [
        "E 'lambda'? É uma palavra reservada do Python?"
      ]
    },
    {
      "cell_type": "code",
      "metadata": {
        "id": "fSR9X1dI93ed",
        "colab_type": "code",
        "outputId": "50868c61-4f30-489d-d4c1-6b3bd6ab6f40",
        "colab": {
          "base_uri": "https://localhost:8080/",
          "height": 35
        }
      },
      "source": [
        "keyword.iskeyword('lambda')"
      ],
      "execution_count": 0,
      "outputs": [
        {
          "output_type": "execute_result",
          "data": {
            "text/plain": [
              "True"
            ]
          },
          "metadata": {
            "tags": []
          },
          "execution_count": 39
        }
      ]
    },
    {
      "cell_type": "markdown",
      "metadata": {
        "id": "8LS69KLH9_NI",
        "colab_type": "text"
      },
      "source": [
        "E 'global'? é uma palavra reservada do Python?"
      ]
    },
    {
      "cell_type": "code",
      "metadata": {
        "id": "UDYDPDeG9_q_",
        "colab_type": "code",
        "outputId": "f3475afd-df56-4a3a-fa46-40706cdb01cc",
        "colab": {
          "base_uri": "https://localhost:8080/",
          "height": 35
        }
      },
      "source": [
        "keyword.iskeyword('global')"
      ],
      "execution_count": 0,
      "outputs": [
        {
          "output_type": "execute_result",
          "data": {
            "text/plain": [
              "True"
            ]
          },
          "metadata": {
            "tags": []
          },
          "execution_count": 40
        }
      ]
    },
    {
      "cell_type": "markdown",
      "metadata": {
        "id": "nsQgPP2B-463",
        "colab_type": "text"
      },
      "source": [
        "___\n",
        "# **Como deletar variáveis**\n",
        "* del var - Deleta a variável var."
      ]
    },
    {
      "cell_type": "markdown",
      "metadata": {
        "id": "xAR0S3FPj2GD",
        "colab_type": "text"
      },
      "source": [
        "Suponha a variável definida abaixo:"
      ]
    },
    {
      "cell_type": "code",
      "metadata": {
        "id": "F9k7QkTF_AEv",
        "colab_type": "code",
        "colab": {}
      },
      "source": [
        "s_Cor= 'red'\n",
        "i_Ano= 1974"
      ],
      "execution_count": 0,
      "outputs": []
    },
    {
      "cell_type": "code",
      "metadata": {
        "id": "5wx4RsCq_TkM",
        "colab_type": "code",
        "outputId": "821a9799-942b-429b-ae57-77a5a7b584b3",
        "colab": {
          "base_uri": "https://localhost:8080/",
          "height": 163
        }
      },
      "source": [
        "del s_Cor"
      ],
      "execution_count": 0,
      "outputs": [
        {
          "output_type": "error",
          "ename": "NameError",
          "evalue": "ignored",
          "traceback": [
            "\u001b[0;31m---------------------------------------------------------------------------\u001b[0m",
            "\u001b[0;31mNameError\u001b[0m                                 Traceback (most recent call last)",
            "\u001b[0;32m<ipython-input-74-ce448156e95f>\u001b[0m in \u001b[0;36m<module>\u001b[0;34m()\u001b[0m\n\u001b[0;32m----> 1\u001b[0;31m \u001b[0;32mdel\u001b[0m \u001b[0ms_Cor\u001b[0m\u001b[0;34m\u001b[0m\u001b[0;34m\u001b[0m\u001b[0m\n\u001b[0m",
            "\u001b[0;31mNameError\u001b[0m: name 's_Cor' is not defined"
          ]
        }
      ]
    },
    {
      "cell_type": "code",
      "metadata": {
        "id": "pZPm8CmN_XKW",
        "colab_type": "code",
        "colab": {}
      },
      "source": [
        "del i_Idade"
      ],
      "execution_count": 0,
      "outputs": []
    },
    {
      "cell_type": "markdown",
      "metadata": {
        "id": "ILDCavhc_ZUO",
        "colab_type": "text"
      },
      "source": [
        "Verifique se as variáveis s_Cor e/ou i_Idade existem. Como?"
      ]
    },
    {
      "cell_type": "code",
      "metadata": {
        "id": "5bYZFe9S_mJt",
        "colab_type": "code",
        "outputId": "7ad90ba5-3777-40ff-e3f7-b6669a205fb1",
        "colab": {
          "base_uri": "https://localhost:8080/",
          "height": 166
        }
      },
      "source": [
        "s_Cor"
      ],
      "execution_count": 0,
      "outputs": [
        {
          "output_type": "error",
          "ename": "NameError",
          "evalue": "ignored",
          "traceback": [
            "\u001b[0;31m---------------------------------------------------------------------------\u001b[0m",
            "\u001b[0;31mNameError\u001b[0m                                 Traceback (most recent call last)",
            "\u001b[0;32m<ipython-input-30-2cc4e924c4f1>\u001b[0m in \u001b[0;36m<module>\u001b[0;34m()\u001b[0m\n\u001b[0;32m----> 1\u001b[0;31m \u001b[0msCor\u001b[0m\u001b[0;34m\u001b[0m\u001b[0;34m\u001b[0m\u001b[0m\n\u001b[0m",
            "\u001b[0;31mNameError\u001b[0m: name 'sCor' is not defined"
          ]
        }
      ]
    },
    {
      "cell_type": "markdown",
      "metadata": {
        "id": "uxT2XgGG_oYA",
        "colab_type": "text"
      },
      "source": [
        "Como esperado, a variável s_Cor não existe mais."
      ]
    },
    {
      "cell_type": "markdown",
      "metadata": {
        "id": "wp-UjGtZues4",
        "colab_type": "text"
      },
      "source": [
        "___\n",
        "# **Wrap Up**"
      ]
    },
    {
      "cell_type": "markdown",
      "metadata": {
        "id": "qKtyt7GfKpK4",
        "colab_type": "text"
      },
      "source": [
        "___\n",
        "# Exercícios"
      ]
    },
    {
      "cell_type": "code",
      "metadata": {
        "id": "rbR-MShJKq5S",
        "colab_type": "code",
        "colab": {}
      },
      "source": [
        ""
      ],
      "execution_count": 0,
      "outputs": []
    }
  ]
}