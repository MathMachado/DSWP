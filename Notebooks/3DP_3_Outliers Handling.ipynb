{
  "nbformat": 4,
  "nbformat_minor": 0,
  "metadata": {
    "colab": {
      "name": "Copy of Untitled0.ipynb",
      "version": "0.3.2",
      "provenance": [],
      "private_outputs": true,
      "include_colab_link": true
    },
    "kernelspec": {
      "name": "python3",
      "display_name": "Python 3"
    },
    "accelerator": "GPU"
  },
  "cells": [
    {
      "cell_type": "markdown",
      "metadata": {
        "id": "view-in-github",
        "colab_type": "text"
      },
      "source": [
        "<a href=\"https://colab.research.google.com/github/MathMachado/DSWP/blob/master/Notebooks/3DP_3_Outliers%20Handling.ipynb\" target=\"_parent\"><img src=\"https://colab.research.google.com/assets/colab-badge.svg\" alt=\"Open In Colab\"/></a>"
      ]
    },
    {
      "cell_type": "markdown",
      "metadata": {
        "id": "pxo5UjpNDw_r",
        "colab_type": "text"
      },
      "source": [
        "# 3DP - Outliers Handling\n",
        "\n",
        "> __In statistics, an outlier is an observation point that is distant from other observations.__ - Wikipedia"
      ]
    },
    {
      "cell_type": "markdown",
      "metadata": {
        "id": "l9DGifbWSmW3",
        "colab_type": "text"
      },
      "source": [
        "# Machine Learning com Python (Scikit-Learn)\n",
        "\n",
        "![Scikit-Learn](https://github.com/MathMachado/Python_RFB/blob/master/Material/scikit-learn-1.png?raw=true)"
      ]
    },
    {
      "cell_type": "markdown",
      "metadata": {
        "id": "BcT2SAot69cZ",
        "colab_type": "text"
      },
      "source": [
        "# O que é Anomaly Detection?\n",
        "> Qualquer ponto/observação que é incomum quando comparado com todos os outros pontos/observações.\n"
      ]
    },
    {
      "cell_type": "markdown",
      "metadata": {
        "id": "xYbr8BQS2xH1",
        "colab_type": "text"
      },
      "source": [
        "# Principais Algoritmos e Estratégias para lidar com Anomaly Detection"
      ]
    },
    {
      "cell_type": "markdown",
      "metadata": {
        "id": "M8H2HySn2_ku",
        "colab_type": "text"
      },
      "source": [
        "* Density-based Approaches:\n",
        "    * RKDE - Robust Kernel Density Estimation (Kim & Scot, 2008);\n",
        "    * EGMM - Ensemble Gaussian Mixture Model;\n",
        "* Quantile-based Methods:\n",
        "    * OCSVM - One-class SVM (Schoelkopf, et all., 1999);\n",
        "    * SVDD - Support Vector Data Description (Tax & Duin, 2004);\n",
        "* Neighbor-based Methods:\n",
        "    * LOF: Local Outlier Factor (Breuning, et all., 2000);\n",
        "    * ABOD: K-NN Angle-based Outlier Detection (Kriegel, et al., 2008);\n",
        "* Projection-based Methods:\n",
        "    * IFOR: Isolation Forest (Liu, et al., 2008);\n",
        "    * LODA: Lightweight Online Detection of Anomalies (Pevny, 2016)"
      ]
    },
    {
      "cell_type": "markdown",
      "metadata": {
        "id": "UIg58vcn-5t6",
        "colab_type": "text"
      },
      "source": [
        "# Onde encontrar mais informações sobre Anomaly Detection?\n",
        "[anomaly-detection-resources](https://github.com/MathMachado/anomaly-detection-resources)"
      ]
    },
    {
      "cell_type": "markdown",
      "metadata": {
        "id": "q-chlATnKSza",
        "colab_type": "text"
      },
      "source": [
        "# Carregar as bibliotecas (genéricas) Python"
      ]
    },
    {
      "cell_type": "code",
      "metadata": {
        "id": "B0S2S2yKpdfq",
        "colab_type": "code",
        "colab": {}
      },
      "source": [
        "!pip install bamboolib"
      ],
      "execution_count": 0,
      "outputs": []
    },
    {
      "cell_type": "code",
      "metadata": {
        "id": "7FJxrZckYxk6",
        "colab_type": "code",
        "colab": {}
      },
      "source": [
        "import numpy as np\n",
        "import pandas as pd\n",
        "import seaborn as sns\n",
        "import bamboolib\n",
        "import matplotlib.pyplot as plt\n",
        "\n",
        "# remove warnings to keep notebook clean\n",
        "import warnings\n",
        "warnings.filterwarnings('ignore')"
      ],
      "execution_count": 0,
      "outputs": []
    },
    {
      "cell_type": "markdown",
      "metadata": {
        "id": "0Wq6Y3eFZCTE",
        "colab_type": "text"
      },
      "source": [
        "# Carregar Dados"
      ]
    },
    {
      "cell_type": "markdown",
      "metadata": {
        "id": "08MdJA9jZSJw",
        "colab_type": "text"
      },
      "source": [
        "## Titanic"
      ]
    },
    {
      "cell_type": "code",
      "metadata": {
        "id": "t9QWCCrLZFfW",
        "colab_type": "code",
        "colab": {}
      },
      "source": [
        "import seaborn as sns\n",
        "import pandas as pd\n",
        "import seaborn as sns\n",
        "\n",
        "df_Titanic = sns.load_dataset('titanic')\n",
        "df_Titanic= df_Titanic[['age','fare']]\n",
        "df_Titanic = df_Titanic.dropna()\n",
        "df_Titanic.head()"
      ],
      "execution_count": 0,
      "outputs": []
    },
    {
      "cell_type": "code",
      "metadata": {
        "id": "sQtLFQOuS5bW",
        "colab_type": "code",
        "colab": {}
      },
      "source": [
        "# Importar biblioteca para transformação dos dados\n",
        "from sklearn.preprocessing import StandardScaler\n",
        "\n",
        "df_Age_Fare = StandardScaler().fit_transform(df_Titanic)\n",
        "df_Age_Fare"
      ],
      "execution_count": 0,
      "outputs": []
    },
    {
      "cell_type": "markdown",
      "metadata": {
        "id": "etjp6o8d8Ggn",
        "colab_type": "text"
      },
      "source": [
        "# Boxplot"
      ]
    },
    {
      "cell_type": "markdown",
      "metadata": {
        "id": "p7S01n579g6b",
        "colab_type": "text"
      },
      "source": [
        "![BoxPlot](https://github.com/MathMachado/Python_RFB/blob/master/Material/boxplot.png?raw=true)"
      ]
    },
    {
      "cell_type": "code",
      "metadata": {
        "id": "LCWg7wll8LfU",
        "colab_type": "code",
        "colab": {}
      },
      "source": [
        "def PlotaBoxPlot_Survived(df, column):\n",
        "    plt.rcdefaults()\n",
        "    # make boxplot with Catplot\n",
        "    sns.catplot(x='survived', y= column, kind=\"box\", data=df, height=4,aspect=1.5)\n",
        "    \n",
        "    # add data points to boxplot with stripplot\n",
        "    sns.stripplot(x='survived', y= column, data=df, alpha=0.3,jitter=0.2,color='k');\n",
        "    plt.show()"
      ],
      "execution_count": 0,
      "outputs": []
    },
    {
      "cell_type": "code",
      "metadata": {
        "id": "PJ3HQ7yEMYdR",
        "colab_type": "code",
        "colab": {}
      },
      "source": [
        "PlotaBoxPlot_Survived(df_Titanic, 'fare')"
      ],
      "execution_count": 0,
      "outputs": []
    },
    {
      "cell_type": "code",
      "metadata": {
        "id": "QBu2RU00My4Z",
        "colab_type": "code",
        "colab": {}
      },
      "source": [
        "PlotaBoxPlot_Survived(df_Titanic, 'age')"
      ],
      "execution_count": 0,
      "outputs": []
    },
    {
      "cell_type": "markdown",
      "metadata": {
        "id": "I41mLCY1VRtX",
        "colab_type": "text"
      },
      "source": [
        "# Z-Score\n",
        "\n",
        "* Z-Score pode ser utilizado para detectar Outliers.\n",
        "* É a diferença entre o valor e a média da amostra expressa como o número de desvios-padrão. \n",
        "* Se o escore z for menor que 2,5 ou maior que 2,5, o valor estará nos 5% do menor ou maior valor (2,5% dos valores em ambas as extremidades da distribuição). No entanto, é pratica comum utilizarmos 3 ao invés dos 2,5."
      ]
    },
    {
      "cell_type": "markdown",
      "metadata": {
        "id": "VW6tBs6QgTNn",
        "colab_type": "text"
      },
      "source": [
        "![Z_Score](https://github.com/MathMachado/Python_RFB/blob/master/Material/Z_Score.png?raw=true)"
      ]
    },
    {
      "cell_type": "markdown",
      "metadata": {
        "id": "oMHoJmMBdStF",
        "colab_type": "text"
      },
      "source": [
        "Abaixo, definimos a função para detectar os outliers baseados no Z-Score:"
      ]
    },
    {
      "cell_type": "code",
      "metadata": {
        "id": "xpKXBfNyVop7",
        "colab_type": "code",
        "colab": {}
      },
      "source": [
        "from scipy.stats import zscore\n",
        "\n",
        "def ZScore_Outlier_Detect(df, column):\n",
        "    df[column+'_ZS'] = zscore(df[column])\n",
        "    df[column+'__is_outlier_ZS'] = df[column+'_ZS'].apply(lambda x: x <= -2.5 or x >= 2.5)\n",
        "    df_AUX= df[df[column+'__is_outlier_ZS']== False]\n",
        "    min_vlr= df_AUX[column].min()\n",
        "    max_vlr= df_AUX[column].max()    \n",
        "    df[column+'_Outlier_ZS']= df[column]\n",
        "    \n",
        "    df.loc[df[column+'_Outlier_ZS'] < min_vlr, column+'_Outlier_ZS'] = min_vlr\n",
        "    df.loc[df[column+'_Outlier_ZS'] > max_vlr, column+'_Outlier_ZS'] = max_vlr\n",
        " \n",
        "    #df.drop(columns= [column+'_ZS', column+'__is_outlier_ZS'], axis=1, inplace= True)\n",
        "    df.drop(columns= [column+'_ZS'], axis=1, inplace= True)"
      ],
      "execution_count": 0,
      "outputs": []
    },
    {
      "cell_type": "markdown",
      "metadata": {
        "id": "ThjOPA84wijH",
        "colab_type": "text"
      },
      "source": [
        "Avaliando Outlier pelo critério do Z-Score:"
      ]
    },
    {
      "cell_type": "code",
      "metadata": {
        "id": "drZV3FrzuoB7",
        "colab_type": "code",
        "colab": {}
      },
      "source": [
        "lFeatures= ['age', 'fare']\t\n",
        "for Features in lFeatures:\n",
        "    ZScore_Outlier_Detect(df_Titanic, Features)"
      ],
      "execution_count": 0,
      "outputs": []
    },
    {
      "cell_type": "code",
      "metadata": {
        "id": "7XVt3etuu3uZ",
        "colab_type": "code",
        "colab": {}
      },
      "source": [
        "df_Titanic.head(100)"
      ],
      "execution_count": 0,
      "outputs": []
    },
    {
      "cell_type": "markdown",
      "metadata": {
        "id": "N7gb2zhtd0uM",
        "colab_type": "text"
      },
      "source": [
        "# IQR Score\n",
        "\n",
        "* O Intervalo interquartil (IQR) é uma medida de dispersão estatística, sendo igual à diferença entre os percentis 75 e 25, ou entre quartis superiores e inferiores, IQR = Q3 - Q1."
      ]
    },
    {
      "cell_type": "markdown",
      "metadata": {
        "id": "lMmWOKNvghI7",
        "colab_type": "text"
      },
      "source": [
        "![BoxPlot](https://github.com/MathMachado/Python_RFB/blob/master/Material/boxplot.png?raw=true)"
      ]
    },
    {
      "cell_type": "code",
      "metadata": {
        "id": "KuP90g3eecgQ",
        "colab_type": "code",
        "colab": {}
      },
      "source": [
        "def IQR_Score_Outlier_Detect(df, column):\n",
        "    Q1 = df[column].quantile(0.25)\n",
        "    Q3 = df[column].quantile(0.75)\n",
        "    IQR = Q3 - Q1\n",
        "    Lim_Inf= Q1-1.5*IQR\n",
        "    Lim_Sup= Q3+1.5*IQR\n",
        "    df[column+'__is_outlier_IQR'] = df[column].apply(lambda x: x <= Lim_Inf or x >= Lim_Sup)\n",
        "    \n",
        "    df_AUX= df[df[column+'__is_outlier_IQR']== False]\n",
        "    min_vlr= df_AUX[column].min()\n",
        "    max_vlr= df_AUX[column].max()    \n",
        "    df[column+'_Outlier_IQR']= df[column]\n",
        "    \n",
        "    df.loc[df[column+'_Outlier_IQR'] < min_vlr, column+'_Outlier_IQR'] = min_vlr\n",
        "    df.loc[df[column+'_Outlier_IQR'] > max_vlr, column+'_Outlier_IQR'] = max_vlr\n",
        " \n",
        "    #df.drop(columns= [column+'__is_outlier_IQR'], axis=1, inplace= True)"
      ],
      "execution_count": 0,
      "outputs": []
    },
    {
      "cell_type": "markdown",
      "metadata": {
        "id": "8VwvqIxWeXX8",
        "colab_type": "text"
      },
      "source": [
        "Abaixo, a função para detectar outliers baseados no IQR Score:"
      ]
    },
    {
      "cell_type": "code",
      "metadata": {
        "id": "6Wx831TsZ6kg",
        "colab_type": "code",
        "colab": {}
      },
      "source": [
        "for Features in lFeatures:\n",
        "    IQR_Score_Outlier_Detect(df_Titanic, Features)"
      ],
      "execution_count": 0,
      "outputs": []
    },
    {
      "cell_type": "code",
      "metadata": {
        "id": "34yEybOdKQTw",
        "colab_type": "code",
        "colab": {}
      },
      "source": [
        " #IQR_Score_Outlier_Detect(df_Titanic, 'fare')"
      ],
      "execution_count": 0,
      "outputs": []
    },
    {
      "cell_type": "code",
      "metadata": {
        "id": "gqu42Sj-w2Zk",
        "colab_type": "code",
        "colab": {}
      },
      "source": [
        "df_Titanic.head(100)"
      ],
      "execution_count": 0,
      "outputs": []
    },
    {
      "cell_type": "markdown",
      "metadata": {
        "id": "MjTgC8XsqmGS",
        "colab_type": "text"
      },
      "source": [
        "# Métodos Bivariados\n",
        "\n",
        "![MetodosBivariados](https://github.com/MathMachado/Python_RFB/blob/master/Material/Clusters.png?raw=true)\n",
        "\n",
        "[Fonte](https://scikit-learn.org/stable/auto_examples/cluster/plot_dbscan.html)"
      ]
    },
    {
      "cell_type": "markdown",
      "metadata": {
        "id": "5e8WtIKZzJZu",
        "colab_type": "text"
      },
      "source": [
        "O objetivo destes métodos é construir clusters de dados, considerando atributos dois a dois. A ideia é que pontos que não estão grupados (como os pontos pretos na figura acima) podem ser considerados outliers."
      ]
    },
    {
      "cell_type": "markdown",
      "metadata": {
        "id": "7qQgJxi4QZTH",
        "colab_type": "text"
      },
      "source": [
        "# Comparação de Resultados\n",
        "\n",
        "![CompararAnomalyDetection](https://github.com/MathMachado/Python_RFB/blob/master/Material/ComparingAnomalyDetection.png?raw=true)\n",
        "\n",
        "[Fonte](https://scikit-learn.org/0.20/auto_examples/plot_anomaly_comparison.html)"
      ]
    },
    {
      "cell_type": "markdown",
      "metadata": {
        "id": "ZvnObnVgxj7N",
        "colab_type": "text"
      },
      "source": [
        "# DBSCAN — Density-Based Spatial Clustering of Applications with Noise\n",
        "* DBSCAN é uma forma de clustering baseado em densidade;"
      ]
    },
    {
      "cell_type": "code",
      "metadata": {
        "id": "YN1AdW5ZPfIw",
        "colab_type": "code",
        "colab": {}
      },
      "source": [
        "from sklearn.preprocessing import StandardScaler\n",
        "df_Age_Fare = StandardScaler().fit_transform(df_Titanic)\n",
        "df_Age_Fare"
      ],
      "execution_count": 0,
      "outputs": []
    },
    {
      "cell_type": "code",
      "metadata": {
        "id": "ONEXwkAxh4MC",
        "colab_type": "code",
        "colab": {}
      },
      "source": [
        "from sklearn.cluster import DBSCAN\n",
        "Outlier_Detection = DBSCAN(eps=0.5, metric='euclidean', min_samples=5)\n",
        "clusters = Outlier_Detection.fit_predict(df_Age_Fare)\n",
        "lFeature= ['age', 'fare']\n",
        "print(f'Clusters: {set(clusters)}')"
      ],
      "execution_count": 0,
      "outputs": []
    },
    {
      "cell_type": "code",
      "metadata": {
        "id": "CGraT7Wta-El",
        "colab_type": "code",
        "colab": {}
      },
      "source": [
        "# Gráfico dos clusters\n",
        "plt.scatter(df_Age_Fare[:, 0], df_Age_Fare[:, 1], c=clusters, cmap=\"plasma\")\n",
        "plt.xlabel('Age')\n",
        "plt.ylabel('Fare')"
      ],
      "execution_count": 0,
      "outputs": []
    },
    {
      "cell_type": "markdown",
      "metadata": {
        "id": "DaHSDmvi35mY",
        "colab_type": "text"
      },
      "source": [
        "Portanto, use esta técnica para identificar outliers multivariada (dois a dois)."
      ]
    },
    {
      "cell_type": "markdown",
      "metadata": {
        "id": "8_YPiFrJRvmB",
        "colab_type": "text"
      },
      "source": [
        "# OneClassSVM With Kernel RBF (Radial Basis Function)"
      ]
    },
    {
      "cell_type": "code",
      "metadata": {
        "id": "OeY3v8VfTglZ",
        "colab_type": "code",
        "colab": {}
      },
      "source": [
        "from sklearn import svm\n",
        "\n",
        "# cluster the data into five clusters\n",
        "Outlier_detection = svm.OneClassSVM(kernel='linear', gamma=0.001, nu=0.95)\n",
        "clusters = Outlier_detection.fit_predict(df_Age_Fare)\n",
        "lFeature= ['Age', 'Fare']\n",
        "print(f'Clusters: {set(clusters)}')"
      ],
      "execution_count": 0,
      "outputs": []
    },
    {
      "cell_type": "code",
      "metadata": {
        "id": "WGsFrYLlOIbj",
        "colab_type": "code",
        "colab": {}
      },
      "source": [
        "# plot the cluster assignments\n",
        "plt.scatter(df_Age_Fare[:, 0], df_Age_Fare[:, 1], c=clusters, cmap=\"plasma\")\n",
        "plt.xlabel('Age')\n",
        "plt.ylabel('Fare')"
      ],
      "execution_count": 0,
      "outputs": []
    },
    {
      "cell_type": "markdown",
      "metadata": {
        "id": "Rgxi2KZw3kl_",
        "colab_type": "text"
      },
      "source": [
        "# Isolation Forests (*)\n",
        "* Based on RandomForest\n",
        "* Useful in detecting outliers in high dimension datasets.\n",
        "* This algorithm randomly selects a feature & splits further.\n",
        "* Random partitioning produces shorter part for anomolies.\n",
        "* When a forest of random trees collectively produce shorter path lengths for particular samples, they are highly likely to be anomalies."
      ]
    },
    {
      "cell_type": "code",
      "metadata": {
        "id": "J0RpFx4pJeDO",
        "colab_type": "code",
        "colab": {}
      },
      "source": [
        "from sklearn.ensemble import IsolationForest\n",
        "\n",
        "# cluster the data into five clusters\n",
        "Outlier_detection = IsolationForest(max_samples=100,random_state= 20111974, contamination=.1)\n",
        "clusters = Outlier_detection.fit_predict(df_Age_Fare)\n",
        "print(f'Clusters: {set(clusters)}')"
      ],
      "execution_count": 0,
      "outputs": []
    },
    {
      "cell_type": "code",
      "metadata": {
        "id": "MtBxqEKiOTaQ",
        "colab_type": "code",
        "colab": {}
      },
      "source": [
        "# plot the cluster assignments\n",
        "plt.scatter(df_Age_Fare[:, 0], df_Age_Fare[:, 1], c=clusters, cmap=\"plasma\")\n",
        "plt.xlabel('Age')\n",
        "plt.ylabel('Fare')"
      ],
      "execution_count": 0,
      "outputs": []
    },
    {
      "cell_type": "markdown",
      "metadata": {
        "id": "OBvHmjyqGjFC",
        "colab_type": "text"
      },
      "source": [
        "# Local Oulier Factor - LOF\n",
        "\n",
        "* Based on nearest neighbours;\n",
        "* Suited for moderately high dimension datasets;\n",
        "* LOF computes a score reflecting degree of abnormility of a data.\n",
        "* An abnormal data is expected to have smaller local density.\n",
        "LOF tells you not only how outlier the data is but how outlier is it with respect to all data."
      ]
    },
    {
      "cell_type": "code",
      "metadata": {
        "id": "bz1fo1ZIGzkD",
        "colab_type": "code",
        "colab": {}
      },
      "source": [
        "from sklearn.neighbors import LocalOutlierFactor\n",
        "\n",
        "Outlier_detection = LocalOutlierFactor(n_neighbors= 10, contamination=.1)\n",
        "clusters = Outlier_detection.fit_predict(df_Age_Fare)\n",
        "print(f'Clusters: {set(clusters)}')"
      ],
      "execution_count": 0,
      "outputs": []
    },
    {
      "cell_type": "code",
      "metadata": {
        "id": "tXMohzrYOXRk",
        "colab_type": "code",
        "colab": {}
      },
      "source": [
        "# plot the cluster assignments\n",
        "plt.scatter(df_Age_Fare[:, 0], df_Age_Fare[:, 1], c=clusters, cmap=\"plasma\")\n",
        "plt.xlabel('Age')\n",
        "plt.ylabel('Fare')"
      ],
      "execution_count": 0,
      "outputs": []
    },
    {
      "cell_type": "markdown",
      "metadata": {
        "id": "l_uBMs4_LJlb",
        "colab_type": "text"
      },
      "source": [
        "# Eliptic Envelope\n",
        "* The assumption here is, regular data comes from known distribution ( Gaussion distribution )\n",
        "* Inliner location & variance will be calculated using Mahalanobis distances which is less impacted by outliers.\n",
        "* Calculate robust covariance fit of the data.\n",
        "* Detecta outliers através da \"Robust Covariance\" que vimos na figura do início desta sessão."
      ]
    },
    {
      "cell_type": "code",
      "metadata": {
        "id": "i4jRcsQWLMTD",
        "colab_type": "code",
        "colab": {}
      },
      "source": [
        "from sklearn.covariance import EllipticEnvelope\n",
        "\n",
        "Outlier_detection = EllipticEnvelope(contamination=.1,random_state= 201119740)\n",
        "clusters = Outlier_detection.fit_predict(df_Age_Fare)\n",
        "print(f'Clusters: {set(clusters)}')"
      ],
      "execution_count": 0,
      "outputs": []
    },
    {
      "cell_type": "code",
      "metadata": {
        "id": "kCuszqleOZ82",
        "colab_type": "code",
        "colab": {}
      },
      "source": [
        "# plot the cluster assignments\n",
        "plt.scatter(df_Age_Fare[:, 0], df_Age_Fare[:, 1], c=clusters, cmap=\"plasma\")\n",
        "plt.xlabel('Age')\n",
        "plt.ylabel('Fare')"
      ],
      "execution_count": 0,
      "outputs": []
    },
    {
      "cell_type": "markdown",
      "metadata": {
        "id": "4hzlRLzH1Omo",
        "colab_type": "text"
      },
      "source": [
        "# Using Gaussian Mixture Models - GMM\n",
        "* Data might contain more than one peaks in the distribution of data.\n",
        "* Trying to fit such multi-model data with unimodel won't give a good fit.\n",
        "* GMM allows to fit such multi-model data.\n",
        "* We will see how GMM can be used to find outliers."
      ]
    },
    {
      "cell_type": "code",
      "metadata": {
        "id": "J9yRPoi31oZJ",
        "colab_type": "code",
        "colab": {}
      },
      "source": [
        "from sklearn.mixture import GaussianMixture"
      ],
      "execution_count": 0,
      "outputs": []
    },
    {
      "cell_type": "code",
      "metadata": {
        "id": "XSNhe4Vc2i6j",
        "colab_type": "code",
        "colab": {}
      },
      "source": [
        "plt.scatter(df_Titanic['age'], df_Titanic['fare'], s=10)"
      ],
      "execution_count": 0,
      "outputs": []
    },
    {
      "cell_type": "code",
      "metadata": {
        "id": "njE5S6iq1rI2",
        "colab_type": "code",
        "colab": {}
      },
      "source": [
        "gmm = GaussianMixture(n_components=3)\n",
        "gmm.fit(df_Titanic)\n",
        "pred = gmm.predict(df_Titanic)"
      ],
      "execution_count": 0,
      "outputs": []
    },
    {
      "cell_type": "code",
      "metadata": {
        "id": "nw1PaTon2T5c",
        "colab_type": "code",
        "colab": {}
      },
      "source": [
        "plt.scatter(df_Titanic['age'], df_Titanic['fare'],s=10,c=pred)"
      ],
      "execution_count": 0,
      "outputs": []
    },
    {
      "cell_type": "markdown",
      "metadata": {
        "id": "igzjMfP6WvHS",
        "colab_type": "text"
      },
      "source": [
        "# Library PyOD - k-NN Classification Method"
      ]
    },
    {
      "cell_type": "code",
      "metadata": {
        "id": "fJFacYgwWuIb",
        "colab_type": "code",
        "colab": {}
      },
      "source": [
        "from pyod.models.knn import KNN\n",
        "\n",
        "Outlier_detection = KNN(contamination= .021, n_neighbors= 5)\n",
        "clusters = Outlier_detection.fit_predict(df_Age_Fare)\n",
        "print(f'Clusters: {set(clusters)}')"
      ],
      "execution_count": 0,
      "outputs": []
    },
    {
      "cell_type": "code",
      "metadata": {
        "id": "aeRw7Jq3Oinj",
        "colab_type": "code",
        "colab": {}
      },
      "source": [
        "# plot the cluster assignments\n",
        "plt.scatter(df_Age_Fare[:, 0], df_Age_Fare[:, 1], c=clusters, cmap=\"plasma\")\n",
        "plt.xlabel('Age')\n",
        "plt.ylabel('Fare')"
      ],
      "execution_count": 0,
      "outputs": []
    },
    {
      "cell_type": "markdown",
      "metadata": {
        "id": "6sBiJ7-5YIHF",
        "colab_type": "text"
      },
      "source": [
        "# Detecção Multivariada: Library PyOD - PCA"
      ]
    },
    {
      "cell_type": "code",
      "metadata": {
        "id": "lDhnutZqSktV",
        "colab_type": "code",
        "colab": {}
      },
      "source": [
        "from pyod.models.pca import PCA\n",
        "\n",
        "Outlier_detection = PCA()\n",
        "clusters = Outlier_detection.fit_predict(df_Age_Fare)\n",
        "print(f'Clusters: {set(clusters)}')"
      ],
      "execution_count": 0,
      "outputs": []
    },
    {
      "cell_type": "code",
      "metadata": {
        "id": "-p3k-sZRblZo",
        "colab_type": "code",
        "colab": {}
      },
      "source": [
        "# plot the cluster assignments\n",
        "plt.scatter(df_Age_Fare[:, 0], df_Age_Fare[:, 1], c=clusters, cmap=\"plasma\")\n",
        "plt.xlabel('Age')\n",
        "plt.ylabel('Fare')"
      ],
      "execution_count": 0,
      "outputs": []
    },
    {
      "cell_type": "markdown",
      "metadata": {
        "id": "cto9w4PjfU5o",
        "colab_type": "text"
      },
      "source": [
        "### ABOD (Angle Based Outlier Detection\n",
        "* Considera a relação entre o ponto e seus vizinhos; \n",
        "* A biblioteca PyOD oferece 2 versões do ABOD:\n",
        "    * Fast ABOD: Usa k-NN para aproximar;\n",
        "    * Original ABOD"
      ]
    },
    {
      "cell_type": "code",
      "metadata": {
        "id": "8sNsHWZafZQT",
        "colab_type": "code",
        "colab": {}
      },
      "source": [
        "from pyod.models.abod import ABOD\n",
        "from pyod.utils.data import evaluate_print\n",
        "from pyod.utils.example import visualize"
      ],
      "execution_count": 0,
      "outputs": []
    },
    {
      "cell_type": "code",
      "metadata": {
        "id": "FOqZWXAzijka",
        "colab_type": "code",
        "colab": {}
      },
      "source": [
        "Outlier_detection = ABOD(method= 'fast', contamination= 0.1, n_neighbors= 5)\n",
        "clusters = Outlier_detection.fit_predict(df_Age_Fare)\n",
        "print(f'Clusters: {set(clusters)}')"
      ],
      "execution_count": 0,
      "outputs": []
    },
    {
      "cell_type": "code",
      "metadata": {
        "id": "Pz6GAFFLO2zN",
        "colab_type": "code",
        "colab": {}
      },
      "source": [
        "# plot the cluster assignments\n",
        "plt.scatter(df_Age_Fare[:, 0], df_Age_Fare[:, 1], c=clusters, cmap=\"plasma\")\n",
        "plt.xlabel('Age')\n",
        "plt.ylabel('Fare')"
      ],
      "execution_count": 0,
      "outputs": []
    },
    {
      "cell_type": "markdown",
      "metadata": {
        "id": "93g7P736yaIR",
        "colab_type": "text"
      },
      "source": [
        "# Exercicios\n",
        "* Aplique estas transformações nos seguintes dataframes:"
      ]
    },
    {
      "cell_type": "markdown",
      "metadata": {
        "id": "GDx7GXFH4hZN",
        "colab_type": "text"
      },
      "source": [
        "Exercício 1 - Predict Breast Cancer"
      ]
    },
    {
      "cell_type": "code",
      "metadata": {
        "id": "-5YtIfqR4xqH",
        "colab_type": "code",
        "colab": {}
      },
      "source": [
        "import pandas as pd\n",
        "import numpy as np\n",
        "from sklearn.datasets import load_breast_cancer\n",
        "\n",
        "cancer = load_breast_cancer()\n",
        "X= cancer['data']\n",
        "y= cancer['target']\n",
        "\n",
        "df_cancer = pd.DataFrame(np.c_[X, y], columns= np.append(cancer['feature_names'], ['target']))\n",
        "df_cancer['target'] = df_cancer['target'].map({0: 'malign', 1: 'benign'})\n",
        "df_cancer.head()"
      ],
      "execution_count": 0,
      "outputs": []
    },
    {
      "cell_type": "markdown",
      "metadata": {
        "id": "YiNY4b8q44g3",
        "colab_type": "text"
      },
      "source": [
        "## Exercício 1 - Boston Housing Price"
      ]
    },
    {
      "cell_type": "code",
      "metadata": {
        "id": "8PjuTNiT470p",
        "colab_type": "code",
        "colab": {}
      },
      "source": [
        "from sklearn.datasets import load_boston\n",
        "\n",
        "boston = load_boston()\n",
        "X= boston['data']\n",
        "y= boston['target']\n",
        "\n",
        "df_boston = pd.DataFrame(np.c_[X, y], columns= np.append(boston['feature_names'], ['target']))\n",
        "df_boston.head()"
      ],
      "execution_count": 0,
      "outputs": []
    },
    {
      "cell_type": "markdown",
      "metadata": {
        "id": "WOUFB9vM5AEV",
        "colab_type": "text"
      },
      "source": [
        "## Exercício 2 - Iris\n",
        "* [Aqui](https://en.wikipedia.org/wiki/Iris_flower_data_set) você obterá mais informações sobre o dataframe iris. Confira."
      ]
    },
    {
      "cell_type": "code",
      "metadata": {
        "id": "8A2dfsLk5AuL",
        "colab_type": "code",
        "colab": {}
      },
      "source": [
        "from sklearn.datasets import load_iris\n",
        "\n",
        "iris = load_iris()\n",
        "X= iris['data']\n",
        "y= iris['target']\n",
        "\n",
        "df_iris = pd.DataFrame(np.c_[X, y], columns= np.append(iris['feature_names'], ['target']))\n",
        "df_iris['target'] = df_iris['target'].map({0: 'setosa', 1: 'versicolor', 2: 'virginica'})\n",
        "df_iris.head()"
      ],
      "execution_count": 0,
      "outputs": []
    },
    {
      "cell_type": "markdown",
      "metadata": {
        "id": "5cCROaQB5C_f",
        "colab_type": "text"
      },
      "source": [
        "## Exercícios 3 - Diabetes"
      ]
    },
    {
      "cell_type": "code",
      "metadata": {
        "id": "UrGSyybf5I7O",
        "colab_type": "code",
        "colab": {}
      },
      "source": [
        "from sklearn.datasets import load_diabetes\n",
        "\n",
        "diabetes = load_diabetes()\n",
        "X= diabetes['data']\n",
        "y= diabetes['target']\n",
        "\n",
        "df_diabetes = pd.DataFrame(np.c_[X, y], columns= np.append(diabetes['feature_names'], ['target']))\n",
        "df_diabetes.head()"
      ],
      "execution_count": 0,
      "outputs": []
    }
  ]
}