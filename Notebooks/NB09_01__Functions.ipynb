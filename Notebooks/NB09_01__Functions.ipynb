{
  "nbformat": 4,
  "nbformat_minor": 0,
  "metadata": {
    "colab": {
      "name": "Functions.ipynb",
      "provenance": [],
      "private_outputs": true,
      "include_colab_link": true
    },
    "kernelspec": {
      "name": "python3",
      "display_name": "Python 3"
    }
  },
  "cells": [
    {
      "cell_type": "markdown",
      "metadata": {
        "id": "view-in-github",
        "colab_type": "text"
      },
      "source": [
        "<a href=\"https://colab.research.google.com/github/MathMachado/DSWP/blob/master/Notebooks/NB09_01__Functions.ipynb\" target=\"_parent\"><img src=\"https://colab.research.google.com/assets/colab-badge.svg\" alt=\"Open In Colab\"/></a>"
      ]
    },
    {
      "cell_type": "markdown",
      "metadata": {
        "id": "J7p-ar1vWFQA",
        "colab_type": "text"
      },
      "source": [
        "# Melhorias da sessão"
      ]
    },
    {
      "cell_type": "markdown",
      "metadata": {
        "id": "e0UKAZQvJ_c2",
        "colab_type": "text"
      },
      "source": [
        "___\n",
        "# **Funções em Python**\n",
        "> Funções são uma sequência de comandos para executar uma tarefa. Usamos a palavra reservada 'def' para declarar uma função em Python."
      ]
    },
    {
      "cell_type": "code",
      "metadata": {
        "id": "etxNlyRYo39A",
        "colab_type": "code",
        "colab": {}
      },
      "source": [
        "def Show_Hello_World():\n",
        "    print('Hello World!')"
      ],
      "execution_count": 0,
      "outputs": []
    },
    {
      "cell_type": "code",
      "metadata": {
        "id": "G6I9PFvZpBgR",
        "colab_type": "code",
        "colab": {}
      },
      "source": [
        "type(Show_Hello_World)"
      ],
      "execution_count": 0,
      "outputs": []
    },
    {
      "cell_type": "code",
      "metadata": {
        "id": "_meNdNygpIbv",
        "colab_type": "code",
        "colab": {}
      },
      "source": [
        "Show_Hello_World()"
      ],
      "execution_count": 0,
      "outputs": []
    },
    {
      "cell_type": "markdown",
      "metadata": {
        "id": "6zfLd8HwpPpg",
        "colab_type": "text"
      },
      "source": [
        "___\n",
        "# **Documentar funções com comments/docstring**"
      ]
    },
    {
      "cell_type": "code",
      "metadata": {
        "id": "3yzgBxtNpRi_",
        "colab_type": "code",
        "colab": {}
      },
      "source": [
        "def Show_Hello_World():\n",
        "    '''\n",
        "    Esta função faz um cumprimento: 'Hello World!'\n",
        "    Inputs: \n",
        "    param1: djdjdjdjdj\n",
        "    param2: fjrjirjjirjir\n",
        "    '''\n",
        "    print('Hello World!')"
      ],
      "execution_count": 0,
      "outputs": []
    },
    {
      "cell_type": "code",
      "metadata": {
        "id": "0rBaxjpmpbm1",
        "colab_type": "code",
        "colab": {}
      },
      "source": [
        "Show_Hello_World()"
      ],
      "execution_count": 0,
      "outputs": []
    },
    {
      "cell_type": "code",
      "metadata": {
        "id": "6ThOwDQp4TfR",
        "colab_type": "code",
        "colab": {}
      },
      "source": [
        "# Se quisermos ver a documentação da função, basta invocar o statement __doc__ da seguinte forma:\n",
        "Show_Hello_World.__doc__"
      ],
      "execution_count": 0,
      "outputs": []
    },
    {
      "cell_type": "markdown",
      "metadata": {
        "id": "9YZ2afpNA4st",
        "colab_type": "text"
      },
      "source": [
        "OU..."
      ]
    },
    {
      "cell_type": "code",
      "metadata": {
        "id": "uSnwA4BVA5_t",
        "colab_type": "code",
        "colab": {}
      },
      "source": [
        "help(Show_Hello_World)"
      ],
      "execution_count": 0,
      "outputs": []
    },
    {
      "cell_type": "markdown",
      "metadata": {
        "id": "whbnnMA5p1Jw",
        "colab_type": "text"
      },
      "source": [
        "___\n",
        "# **Funções com argumentos**"
      ]
    },
    {
      "cell_type": "markdown",
      "metadata": {
        "id": "O3bSjLA_qTTc",
        "colab_type": "text"
      },
      "source": [
        "Definir a função ShowName com dois argumentos: s_PrimeiroNome e Lastname:"
      ]
    },
    {
      "cell_type": "code",
      "metadata": {
        "id": "9jWyCCPPp4yS",
        "colab_type": "code",
        "colab": {}
      },
      "source": [
        "def ShowName(s_PrimeiroNome, s_UltimoNome):\n",
        "    print(f'Olá, meu nome é {s_PrimeiroNome} {s_UltimoNome}')"
      ],
      "execution_count": 0,
      "outputs": []
    },
    {
      "cell_type": "code",
      "metadata": {
        "id": "VOB3Ip63qIzr",
        "colab_type": "code",
        "colab": {}
      },
      "source": [
        "ShowName('Dom', 'Pedro I')"
      ],
      "execution_count": 0,
      "outputs": []
    },
    {
      "cell_type": "markdown",
      "metadata": {
        "id": "Oi0c_GuesfcL",
        "colab_type": "text"
      },
      "source": [
        "Neste caso, o primeiro argumento da função (s_PrimeiroNome) vai receber o valor 'Fulano' e o segundo argumento da função (s_UltimoNome) vai receber 'de Tal'."
      ]
    },
    {
      "cell_type": "markdown",
      "metadata": {
        "id": "qkMblpnLsITO",
        "colab_type": "text"
      },
      "source": [
        "No entanto, também podemos invocar a função da seguinte forma:"
      ]
    },
    {
      "cell_type": "code",
      "metadata": {
        "id": "TTli7e6xsMCo",
        "colab_type": "code",
        "colab": {}
      },
      "source": [
        "ShowName(s_UltimoNome= 'Pedro I', s_PrimeiroNome= 'Dom')"
      ],
      "execution_count": 0,
      "outputs": []
    },
    {
      "cell_type": "markdown",
      "metadata": {
        "id": "rmatMmhTsaVc",
        "colab_type": "text"
      },
      "source": [
        "Observe que o resultado é o mesmo. No entanto, desta forma, estamos dizendo o valor específico que cada parâmetro irá receber."
      ]
    },
    {
      "cell_type": "markdown",
      "metadata": {
        "id": "rSnrtFNtXrbN",
        "colab_type": "text"
      },
      "source": [
        "# **\\*args**\n",
        "> \\*args permite que você passe mais argumentos do que o número de argumentos formais que você definiu anteriormente."
      ]
    },
    {
      "cell_type": "markdown",
      "metadata": {
        "id": "aT0_PeuEvXiP",
        "colab_type": "text"
      },
      "source": [
        "## Exemplo 1\n",
        "> Considere a função (simples) para imprimir o nome completo de um cliente."
      ]
    },
    {
      "cell_type": "code",
      "metadata": {
        "id": "Npbi_Hy0bUec",
        "colab_type": "code",
        "colab": {}
      },
      "source": [
        "# definimos a função MyFunction2 da seguinte forma:\n",
        "def MyFunction2(*args):\n",
        "    nome =  ' '.join(args)\n",
        "    print(f'Olá, meu nome é {nome}.')"
      ],
      "execution_count": 0,
      "outputs": []
    },
    {
      "cell_type": "code",
      "metadata": {
        "id": "dFzM0gA3_9za",
        "colab_type": "code",
        "colab": {}
      },
      "source": [
        "MyFunction2('Dom', 'Pedro I')"
      ],
      "execution_count": 0,
      "outputs": []
    },
    {
      "cell_type": "markdown",
      "metadata": {
        "id": "370bpgaSvDbJ",
        "colab_type": "text"
      },
      "source": [
        "E agora, a função recebe qualquer quantidade de parâmetros."
      ]
    },
    {
      "cell_type": "code",
      "metadata": {
        "id": "4kYcu6PEX-Nz",
        "colab_type": "code",
        "colab": {}
      },
      "source": [
        "MyFunction2('Pedro', 'de', 'Alcantara', 'Francisco', 'Antonio', 'Joao', 'Carlos', 'Xavier', 'de', 'Paula', 'Miguel', 'Rafael', 'Joaquim', 'Jose', 'Gonzaga', 'Pascoal', 'Cipriano', 'Serafim')"
      ],
      "execution_count": 0,
      "outputs": []
    },
    {
      "cell_type": "markdown",
      "metadata": {
        "id": "KMgngPmFimxb",
        "colab_type": "text"
      },
      "source": [
        "Observe que desta forma pouco importa a quantidade de parâmetros que passamos á função."
      ]
    },
    {
      "cell_type": "markdown",
      "metadata": {
        "id": "Y9pDa6ZRjo0U",
        "colab_type": "text"
      },
      "source": [
        "## Exemplo 2\n",
        "* suponha que estamos insteressados em desenvolver uma função que multiplica dois números passados como parâmetros."
      ]
    },
    {
      "cell_type": "markdown",
      "metadata": {
        "id": "1A-vhsHxv1YE",
        "colab_type": "text"
      },
      "source": [
        "Antes de vermos a solução usando \\*args, vamos ver como seria nossa função se \\*args não existisse."
      ]
    },
    {
      "cell_type": "markdown",
      "metadata": {
        "id": "cCDwruF8j5i5",
        "colab_type": "text"
      },
      "source": [
        "### Forma \"Normal\""
      ]
    },
    {
      "cell_type": "code",
      "metadata": {
        "id": "_R03BiwLjtwB",
        "colab_type": "code",
        "colab": {}
      },
      "source": [
        "# Definição da função\n",
        "def Multiplica(x1, x2):\n",
        "    return x1*x2"
      ],
      "execution_count": 0,
      "outputs": []
    },
    {
      "cell_type": "code",
      "metadata": {
        "id": "0eVm1Qj9kDtd",
        "colab_type": "code",
        "colab": {}
      },
      "source": [
        "print(Multiplica(3, 4))"
      ],
      "execution_count": 0,
      "outputs": []
    },
    {
      "cell_type": "markdown",
      "metadata": {
        "id": "4h9Nhkickf_8",
        "colab_type": "text"
      },
      "source": [
        "### Usando \\*args"
      ]
    },
    {
      "cell_type": "code",
      "metadata": {
        "id": "9Kf89meJkjw8",
        "colab_type": "code",
        "colab": {}
      },
      "source": [
        "def Multiplica2(*args):\n",
        "    print(args)\n",
        "    print(type(args))\n",
        "    x= 1\n",
        "    for N in args:\n",
        "        x*= N\n",
        "    \n",
        "    return x"
      ],
      "execution_count": 0,
      "outputs": []
    },
    {
      "cell_type": "code",
      "metadata": {
        "id": "ZuIzwitWk7by",
        "colab_type": "code",
        "colab": {}
      },
      "source": [
        "print(Multiplica2(1,2,3,4,5))"
      ],
      "execution_count": 0,
      "outputs": []
    },
    {
      "cell_type": "markdown",
      "metadata": {
        "id": "U5kyPu792gMN",
        "colab_type": "text"
      },
      "source": [
        "Eu também posso fazer da seguinte forma:"
      ]
    },
    {
      "cell_type": "code",
      "metadata": {
        "id": "oc2NJmJf2s7X",
        "colab_type": "code",
        "colab": {}
      },
      "source": [
        "args= (1,2,3,4,5)\n",
        "print(Multiplica2(*args))"
      ],
      "execution_count": 0,
      "outputs": []
    },
    {
      "cell_type": "markdown",
      "metadata": {
        "id": "38jVie_IjMXI",
        "colab_type": "text"
      },
      "source": [
        "# \\**kwargs\n",
        "\n",
        "* \\**kwargs é usado para passar um dicionário de comprimento variável para uma função.\n",
        "* Argumento do tipo {chave: valor};\n",
        "\n",
        "* Para exemplificar o uso de \\**kwargs, vou usar parte do dicionário dFruits que definimos na sessão [Dictionaries](Dictionaries.ipynb). Qualquer dúvida, volte áquele capítulo para relembrar os principais conceitos."
      ]
    },
    {
      "cell_type": "code",
      "metadata": {
        "id": "yAntQ724nMbv",
        "colab_type": "code",
        "colab": {}
      },
      "source": [
        "# Definindo a função para receber parâmetros em forma de dicionário:\n",
        "def PrintFruits(**kwargs):\n",
        "    for key, value in kwargs.items():\n",
        "        print(f'O valor de {key} é {value}')"
      ],
      "execution_count": 0,
      "outputs": []
    },
    {
      "cell_type": "markdown",
      "metadata": {
        "id": "jpmSk9mfxww3",
        "colab_type": "text"
      },
      "source": [
        "Atenção à forma como os itens são passados à função!"
      ]
    },
    {
      "cell_type": "code",
      "metadata": {
        "id": "88-1lStInaVs",
        "colab_type": "code",
        "colab": {}
      },
      "source": [
        "PrintFruits(Avocado= 0.35, Apple= 0.4, Apricot= 0.25, Banana= 0.30)"
      ],
      "execution_count": 0,
      "outputs": []
    },
    {
      "cell_type": "markdown",
      "metadata": {
        "id": "-jb_kkLiyQt8",
        "colab_type": "text"
      },
      "source": [
        "No entanto, posso passar um dicionário na forma como estamos acostumados, da seguinte forma:"
      ]
    },
    {
      "cell_type": "code",
      "metadata": {
        "id": "JZJNiLz7wgCy",
        "colab_type": "code",
        "colab": {}
      },
      "source": [
        "d_Frutas={'Apple': 0.4, 'Avocado': 0.3, 'Orange': 0.5, 'Lemon': 0.25}"
      ],
      "execution_count": 0,
      "outputs": []
    },
    {
      "cell_type": "code",
      "metadata": {
        "id": "eUCum4JPEcxD",
        "colab_type": "code",
        "colab": {}
      },
      "source": [
        "PrintFruits(**d_Frutas)"
      ],
      "execution_count": 0,
      "outputs": []
    },
    {
      "cell_type": "markdown",
      "metadata": {
        "id": "iK8-e7a1sXmn",
        "colab_type": "text"
      },
      "source": [
        "___\n",
        "# **Python return**\n",
        "> Uma função Python pode ou não retornar um valor."
      ]
    },
    {
      "cell_type": "code",
      "metadata": {
        "id": "HS0dGA55siWw",
        "colab_type": "code",
        "colab": {}
      },
      "source": [
        "def Par_OU_Impar(i_Num1, i_Num2):\n",
        "    '''\n",
        "    Esta função somente avalia se a soma de dois números é par ou impar. \n",
        "    A função retorna odd ou even.\n",
        "    '''\n",
        "    i_Soma= i_Num1+i_Num2\n",
        "    i_Modulo= i_Soma % 2\n",
        "    print(f'A soma é {i_Soma}')\n",
        "    if i_Modulo > 0:\n",
        "        return 'Odd'\n",
        "    else:\n",
        "        return 'Even'   "
      ],
      "execution_count": 0,
      "outputs": []
    },
    {
      "cell_type": "code",
      "metadata": {
        "id": "mZTG2tDJuIZQ",
        "colab_type": "code",
        "colab": {}
      },
      "source": [
        "i_Num1= int(input('Por favor, informe o primeiro número: '))\n",
        "i_Num2= int(input('Por favor, informe o segundo número.: '))"
      ],
      "execution_count": 0,
      "outputs": []
    },
    {
      "cell_type": "code",
      "metadata": {
        "id": "7p_9pq3Du18a",
        "colab_type": "code",
        "colab": {}
      },
      "source": [
        "type(i_Num1)"
      ],
      "execution_count": 0,
      "outputs": []
    },
    {
      "cell_type": "code",
      "metadata": {
        "id": "4oO7aAjcvCAe",
        "colab_type": "code",
        "colab": {}
      },
      "source": [
        "type(i_Num2)"
      ],
      "execution_count": 0,
      "outputs": []
    },
    {
      "cell_type": "code",
      "metadata": {
        "id": "Br7yT8UHuKYY",
        "colab_type": "code",
        "colab": {}
      },
      "source": [
        "s_Resultado= Par_OU_Impar(i_Num1, i_Num2)"
      ],
      "execution_count": 0,
      "outputs": []
    },
    {
      "cell_type": "code",
      "metadata": {
        "id": "601QnggJuhf-",
        "colab_type": "code",
        "colab": {}
      },
      "source": [
        "print(f'O resultado é {s_Resultado}')"
      ],
      "execution_count": 0,
      "outputs": []
    },
    {
      "cell_type": "markdown",
      "metadata": {
        "id": "t6HNf9j9yKcT",
        "colab_type": "text"
      },
      "source": [
        "Mostra o valor de i_Modulo ou i_Soma:"
      ]
    },
    {
      "cell_type": "code",
      "metadata": {
        "id": "Yu8RsyDAyXne",
        "colab_type": "code",
        "colab": {}
      },
      "source": [
        "i_Modulo"
      ],
      "execution_count": 0,
      "outputs": []
    },
    {
      "cell_type": "markdown",
      "metadata": {
        "id": "nx3twrLRyaeJ",
        "colab_type": "text"
      },
      "source": [
        "Python reporta que i_Modulo não existe.\n",
        "Está correta esta informação?"
      ]
    },
    {
      "cell_type": "markdown",
      "metadata": {
        "id": "imkyRO4kyvgV",
        "colab_type": "text"
      },
      "source": [
        "Considere o exemplo a seguir:"
      ]
    },
    {
      "cell_type": "code",
      "metadata": {
        "id": "kwRiXDA5y19h",
        "colab_type": "code",
        "colab": {}
      },
      "source": [
        "i_Modulo= 0\n",
        "def Par_OU_Impar_V2(i_Num1, i_Num2):\n",
        "    '''\n",
        "    Esta função somente avalia se a soma de dois números é par ou impar. \n",
        "    A função retorna odd ou even.\n",
        "    '''\n",
        "    i_Soma= i_Num1+i_Num2\n",
        "    i_Modulo= i_Soma % 2\n",
        "    print(f'A soma é {i_Soma}')\n",
        "    if i_Modulo > 0:\n",
        "        return 'Odd'\n",
        "    else:\n",
        "        return 'Even'   "
      ],
      "execution_count": 0,
      "outputs": []
    },
    {
      "cell_type": "code",
      "metadata": {
        "id": "GYxLSGQLy_Ai",
        "colab_type": "code",
        "colab": {}
      },
      "source": [
        "i_Num1= int(input('Por favor, informe o primeiro número: '))\n",
        "i_Num2= int(input('Por favor, informe o segundo número.: '))"
      ],
      "execution_count": 0,
      "outputs": []
    },
    {
      "cell_type": "code",
      "metadata": {
        "id": "NMtv99fjzHGs",
        "colab_type": "code",
        "colab": {}
      },
      "source": [
        "s_Resultado= Par_OU_Impar_V2(i_Num1, i_Num2)"
      ],
      "execution_count": 0,
      "outputs": []
    },
    {
      "cell_type": "code",
      "metadata": {
        "id": "qjOHnYDVzNGK",
        "colab_type": "code",
        "colab": {}
      },
      "source": [
        "print(f'O resultado é {s_Resultado}')"
      ],
      "execution_count": 0,
      "outputs": []
    },
    {
      "cell_type": "markdown",
      "metadata": {
        "id": "pPTecxRfzQUc",
        "colab_type": "text"
      },
      "source": [
        "Agora, vamos checar o valor de i_Modulo..."
      ]
    },
    {
      "cell_type": "code",
      "metadata": {
        "id": "jkQb2mQzzTEo",
        "colab_type": "code",
        "colab": {}
      },
      "source": [
        "i_Modulo"
      ],
      "execution_count": 0,
      "outputs": []
    },
    {
      "cell_type": "markdown",
      "metadata": {
        "id": "oOlyGxBAzjE3",
        "colab_type": "text"
      },
      "source": [
        "Porque agora o Python reconhece a variável i_Modulo?"
      ]
    },
    {
      "cell_type": "markdown",
      "metadata": {
        "id": "dceSkt9Z0BZh",
        "colab_type": "text"
      },
      "source": [
        "___\n",
        "# **Escopo de variáveis: Local & Global**\n",
        "* **Local** - Variável declarada dentro da função. Em outras palavras, é uma variável local/uso da função.\n",
        "\n",
        "* **Global** - Variável declarada fora da função. Neste caso, a variável é visível à todo o programa. Entretanto, não se pode alterar o valor da variável dentro da função. Caso queira alterar o valor da variável dentro da função, então é necesário declarar a variável usando a palavra reservada 'global’."
      ]
    },
    {
      "cell_type": "markdown",
      "metadata": {
        "id": "0tIjI9GScPxu",
        "colab_type": "text"
      },
      "source": [
        "## Exemplo 1"
      ]
    },
    {
      "cell_type": "code",
      "metadata": {
        "id": "QRojHHJ20iTY",
        "colab_type": "code",
        "colab": {}
      },
      "source": [
        "def Exemplo1():\n",
        "    i_Valor= 20\n",
        "    i_Valor+=1\n",
        "    print(i_Valor)"
      ],
      "execution_count": 0,
      "outputs": []
    },
    {
      "cell_type": "code",
      "metadata": {
        "id": "RdhElmTs0y1c",
        "colab_type": "code",
        "colab": {}
      },
      "source": [
        "Exemplo1()"
      ],
      "execution_count": 0,
      "outputs": []
    },
    {
      "cell_type": "markdown",
      "metadata": {
        "id": "Tytq7PnH08pz",
        "colab_type": "text"
      },
      "source": [
        "O escopo da variável 'i_Valor' é local, ou seja, de uso/restrito à função. "
      ]
    },
    {
      "cell_type": "code",
      "metadata": {
        "id": "299AK0PA1lIg",
        "colab_type": "code",
        "colab": {}
      },
      "source": [
        "i_Valor"
      ],
      "execution_count": 0,
      "outputs": []
    },
    {
      "cell_type": "markdown",
      "metadata": {
        "id": "gGP4cx17y8EZ",
        "colab_type": "text"
      },
      "source": [
        "Portanto, o erro acima faz sentido, pois a variável i_Valor é restrito á função. Ou seja, fora da função o Python não conhece este valor."
      ]
    },
    {
      "cell_type": "markdown",
      "metadata": {
        "id": "KTV_6Gzxfvpc",
        "colab_type": "text"
      },
      "source": [
        "## Exemplo 2"
      ]
    },
    {
      "cell_type": "code",
      "metadata": {
        "id": "zyi9AyJwfxTm",
        "colab_type": "code",
        "colab": {}
      },
      "source": [
        "i_Valor= 100\n",
        "\n",
        "def Exemplo2():\n",
        "    i_Valor= 20\n",
        "    i_Valor+=1\n",
        "    print(i_Valor)"
      ],
      "execution_count": 0,
      "outputs": []
    },
    {
      "cell_type": "code",
      "metadata": {
        "id": "iEWrboG6gBSs",
        "colab_type": "code",
        "colab": {}
      },
      "source": [
        "Exemplo2()"
      ],
      "execution_count": 0,
      "outputs": []
    },
    {
      "cell_type": "markdown",
      "metadata": {
        "id": "JPvT0BHG-vxE",
        "colab_type": "text"
      },
      "source": [
        "Isso é um tanto estranho! Definimos, fora da função, i_Valor= 100 e, dentro da função, redefinimos i_Valor= 20. Entretanto, como vimos, Exemplo2() retorna 21 como resultado."
      ]
    },
    {
      "cell_type": "markdown",
      "metadata": {
        "id": "N_t8tIDC-149",
        "colab_type": "text"
      },
      "source": [
        "Agora, a seguir, fora da função, pedimos para ver o valor de i_Valor e temos, como resposta, o valor 100."
      ]
    },
    {
      "cell_type": "code",
      "metadata": {
        "id": "I46Bn4FlgJLu",
        "colab_type": "code",
        "colab": {}
      },
      "source": [
        "i_Valor"
      ],
      "execution_count": 0,
      "outputs": []
    },
    {
      "cell_type": "markdown",
      "metadata": {
        "id": "IQlP5nbngL6E",
        "colab_type": "text"
      },
      "source": [
        "Saberia nos explicar o que está acontecendo?"
      ]
    },
    {
      "cell_type": "markdown",
      "metadata": {
        "id": "h8PHd6rLgtwK",
        "colab_type": "text"
      },
      "source": [
        "## Exemplo 3"
      ]
    },
    {
      "cell_type": "code",
      "metadata": {
        "id": "qB7_zPQVgvVT",
        "colab_type": "code",
        "colab": {}
      },
      "source": [
        "i_Valor= 100\n",
        "\n",
        "def Exemplo3():\n",
        "    global i_Valor\n",
        "    i_Valor= 20\n",
        "    i_Valor+=1\n",
        "    print(i_Valor)"
      ],
      "execution_count": 0,
      "outputs": []
    },
    {
      "cell_type": "code",
      "metadata": {
        "id": "2KgQSbYCg8Eq",
        "colab_type": "code",
        "colab": {}
      },
      "source": [
        "Exemplo3()"
      ],
      "execution_count": 0,
      "outputs": []
    },
    {
      "cell_type": "code",
      "metadata": {
        "id": "Y7yWoojrg_9Z",
        "colab_type": "code",
        "colab": {}
      },
      "source": [
        "i_Valor"
      ],
      "execution_count": 0,
      "outputs": []
    },
    {
      "cell_type": "markdown",
      "metadata": {
        "id": "cGlmbIJGzWG6",
        "colab_type": "text"
      },
      "source": [
        "Saberia explicar o que acontece neste exemplo?"
      ]
    },
    {
      "cell_type": "markdown",
      "metadata": {
        "id": "X8qFfIoxhFOp",
        "colab_type": "text"
      },
      "source": [
        "## Exemplo 4"
      ]
    },
    {
      "cell_type": "code",
      "metadata": {
        "id": "ZM-yTLuO1bFh",
        "colab_type": "code",
        "colab": {}
      },
      "source": [
        "i_Valor= 20\n",
        "\n",
        "def Exemplo4():\n",
        "    i_Valor+= 1\n",
        "    print(i_Valor)"
      ],
      "execution_count": 0,
      "outputs": []
    },
    {
      "cell_type": "code",
      "metadata": {
        "id": "oLvfPO8w1zwL",
        "colab_type": "code",
        "colab": {}
      },
      "source": [
        "Exemplo4()"
      ],
      "execution_count": 0,
      "outputs": []
    },
    {
      "cell_type": "markdown",
      "metadata": {
        "id": "2V7QzpZp2QcM",
        "colab_type": "text"
      },
      "source": [
        "Qual a razão deste erro?"
      ]
    },
    {
      "cell_type": "code",
      "metadata": {
        "id": "w9qI8kln1_C7",
        "colab_type": "code",
        "colab": {}
      },
      "source": [
        "i_Valor"
      ],
      "execution_count": 0,
      "outputs": []
    },
    {
      "cell_type": "markdown",
      "metadata": {
        "id": "AQFFGqLI1FWn",
        "colab_type": "text"
      },
      "source": [
        "___\n",
        "# **Argumentos default**\n",
        "> Considere o exemplo a seguir: toda vez que vai ao supermercado compra 1 pack de leite (contendo 4 garrafas) e 1 garrafão de água de 5L. Portanto, de forma simples, podemos definir nossa função da seguinte forma:"
      ]
    },
    {
      "cell_type": "code",
      "metadata": {
        "id": "HbcSTiBI4nOj",
        "colab_type": "code",
        "colab": {}
      },
      "source": [
        "# Define a função para receber os parâmetros arroz, feijao, leite e água.\n",
        "def Lista_de_Compras(arroz, feijao, leite= 1, agua= 1):\n",
        "    print('Lista de Compras:')\n",
        "    print(f'Quantidade de arroz.: {arroz} kilos.')    \n",
        "    print(f'Quantidade de feijão: {feijao} kilos.')    \n",
        "    print(f'Quantidade de leite.: {leite} pack com 4.')    \n",
        "    print(f'Quantidade de água..: {agua} garrafa de 5 litros.')    "
      ],
      "execution_count": 0,
      "outputs": []
    },
    {
      "cell_type": "code",
      "metadata": {
        "id": "vwZnDgoq5pgB",
        "colab_type": "code",
        "colab": {}
      },
      "source": [
        "Lista_de_Compras(5, 3)"
      ],
      "execution_count": 0,
      "outputs": []
    },
    {
      "cell_type": "markdown",
      "metadata": {
        "id": "l7bY5BSO7eJF",
        "colab_type": "text"
      },
      "source": [
        "Como leite= 1 e agua= 1 são valores default's, não precisamos passar esses parâmetros, desde que informamos ao Python o valor default. No entanto, se numa determinada semana precisarmos de 2 pack's de leite, ao invés de 1, devemos informar ao Python o novo valor:"
      ]
    },
    {
      "cell_type": "code",
      "metadata": {
        "id": "YY4OrFuH7yXi",
        "colab_type": "code",
        "colab": {}
      },
      "source": [
        "Lista_de_Compras(5, 3, 2)"
      ],
      "execution_count": 0,
      "outputs": []
    },
    {
      "cell_type": "markdown",
      "metadata": {
        "id": "-nfrZAvN73YT",
        "colab_type": "text"
      },
      "source": [
        "Da mesma forma, se numa outra semana precisarmos de 2 garrafões de água ao invés de 1, informamos ao Python da seguinte forma:"
      ]
    },
    {
      "cell_type": "code",
      "metadata": {
        "id": "Vpoh6TdM7_xb",
        "colab_type": "code",
        "colab": {}
      },
      "source": [
        "Lista_de_Compras(5, 3, 2, 2)"
      ],
      "execution_count": 0,
      "outputs": []
    },
    {
      "cell_type": "markdown",
      "metadata": {
        "id": "q3qZn9FuVQly",
        "colab_type": "text"
      },
      "source": [
        "___\n",
        "# **map()**"
      ]
    },
    {
      "cell_type": "markdown",
      "metadata": {
        "id": "Dav8k0JYWi4B",
        "colab_type": "text"
      },
      "source": [
        "## Exemplo 1\n",
        "> Suponha que queremos o quadrado de cada número passado à uma função."
      ]
    },
    {
      "cell_type": "code",
      "metadata": {
        "id": "R6NC0i2OVktM",
        "colab_type": "code",
        "colab": {}
      },
      "source": [
        "l_Numeros= [0,1,2,3,4,5]"
      ],
      "execution_count": 0,
      "outputs": []
    },
    {
      "cell_type": "code",
      "metadata": {
        "id": "AVjYlN44Vw2k",
        "colab_type": "code",
        "colab": {}
      },
      "source": [
        "def Quadrado(i_Num):\n",
        "    return i_Num**2"
      ],
      "execution_count": 0,
      "outputs": []
    },
    {
      "cell_type": "code",
      "metadata": {
        "id": "i_4CHiehV7lD",
        "colab_type": "code",
        "colab": {}
      },
      "source": [
        "list(map(Quadrado, l_Numeros))"
      ],
      "execution_count": 0,
      "outputs": []
    },
    {
      "cell_type": "markdown",
      "metadata": {
        "id": "5tq8QDSPWNf6",
        "colab_type": "text"
      },
      "source": [
        "OU..."
      ]
    },
    {
      "cell_type": "code",
      "metadata": {
        "id": "ZAfkybybWOcG",
        "colab_type": "code",
        "colab": {}
      },
      "source": [
        "for i in map(Quadrado, l_Numeros):\n",
        "    print(i)"
      ],
      "execution_count": 0,
      "outputs": []
    },
    {
      "cell_type": "markdown",
      "metadata": {
        "id": "c01V5CEzWlGF",
        "colab_type": "text"
      },
      "source": [
        "## Exemplo 2\n",
        "> Substituir todos os valores True da lista abaixo por 1 e False por 0."
      ]
    },
    {
      "cell_type": "code",
      "metadata": {
        "id": "qH1ackDZWvKp",
        "colab_type": "code",
        "colab": {}
      },
      "source": [
        "import random\n",
        "\n",
        "l_Dados= []\n",
        "for i in range(50):\n",
        "    random.seed(i)\n",
        "    l_Dados.append(random.choice([True, False]))\n",
        "    \n",
        "l_Dados"
      ],
      "execution_count": 0,
      "outputs": []
    },
    {
      "cell_type": "code",
      "metadata": {
        "id": "Dt2UKC-WXsxr",
        "colab_type": "code",
        "colab": {}
      },
      "source": [
        "def Substitui(s_String):\n",
        "    if s_String== True:\n",
        "        return 1\n",
        "    else:\n",
        "        return 0"
      ],
      "execution_count": 0,
      "outputs": []
    },
    {
      "cell_type": "code",
      "metadata": {
        "id": "BIIkPuDEXaM0",
        "colab_type": "code",
        "colab": {}
      },
      "source": [
        "list(map(Substitui, l_Dados))"
      ],
      "execution_count": 0,
      "outputs": []
    },
    {
      "cell_type": "markdown",
      "metadata": {
        "id": "TzkLIH1gYpFQ",
        "colab_type": "text"
      },
      "source": [
        "___\n",
        "# **Filter()**\n",
        "* Filtra elementos baseado em condições."
      ]
    },
    {
      "cell_type": "markdown",
      "metadata": {
        "id": "cjU8YznfZai1",
        "colab_type": "text"
      },
      "source": [
        "Suponha que agora eu quero filtrar os itens True da lista l_Dados."
      ]
    },
    {
      "cell_type": "code",
      "metadata": {
        "id": "a3SeaKJgZlAZ",
        "colab_type": "code",
        "colab": {}
      },
      "source": [
        "def Filtrar_True(item):\n",
        "    if item == True:\n",
        "        return True\n",
        "    else:\n",
        "        return False"
      ],
      "execution_count": 0,
      "outputs": []
    },
    {
      "cell_type": "code",
      "metadata": {
        "id": "1Z1APDQtZyXs",
        "colab_type": "code",
        "colab": {}
      },
      "source": [
        "list(filter(Filtrar_True, l_Dados))"
      ],
      "execution_count": 0,
      "outputs": []
    },
    {
      "cell_type": "markdown",
      "metadata": {
        "id": "xPpFqVUnKEH7",
        "colab_type": "text"
      },
      "source": [
        "___\n",
        "# **Exercícios**"
      ]
    },
    {
      "cell_type": "markdown",
      "metadata": {
        "id": "RDgCRPRs0W6C",
        "colab_type": "text"
      },
      "source": [
        "## Exercício 1\n",
        "Construa uma função para retornar o dia da semana a partir de um número, sendo:\n",
        "\n",
        "* 1 - Dom\n",
        "* 2 - Seg\n",
        "* 3 - Ter\n",
        "* 4 - Qua\n",
        "* 5 - Qui\n",
        "* 6 - Sex\n",
        "* 7 - Sab"
      ]
    },
    {
      "cell_type": "markdown",
      "metadata": {
        "id": "H17JO6sLOrG7",
        "colab_type": "text"
      },
      "source": [
        "### Minha solução"
      ]
    },
    {
      "cell_type": "code",
      "metadata": {
        "id": "wX_7XDyB0XSy",
        "colab_type": "code",
        "colab": {}
      },
      "source": [
        "def Dia_Semana(dia):\n",
        "    d_Semana= {1:'Segunda',\n",
        "              2:'Terça',\n",
        "              3:'Quarta',\n",
        "              4:'Quinta',\n",
        "              5:'Sexta',\n",
        "              6:'Sabado',\n",
        "              7:'Domingo'             }\n",
        "    return d_Semana.get(dia,\"Dia da semana inválido. Informe um número de 1 a 7\")"
      ],
      "execution_count": 0,
      "outputs": []
    },
    {
      "cell_type": "code",
      "metadata": {
        "id": "39toyCRU1Q5T",
        "colab_type": "code",
        "colab": {}
      },
      "source": [
        "Dia_Semana(1)"
      ],
      "execution_count": 0,
      "outputs": []
    },
    {
      "cell_type": "code",
      "metadata": {
        "id": "wt5hQq__1UEd",
        "colab_type": "code",
        "colab": {}
      },
      "source": [
        "Dia_Semana(0)"
      ],
      "execution_count": 0,
      "outputs": []
    },
    {
      "cell_type": "markdown",
      "metadata": {
        "id": "N53NOsZjOv9m",
        "colab_type": "text"
      },
      "source": [
        "## Exercício 2\n",
        "* Desenvolver uma função que retorna True se s_Palavra pertence à uma string e False caso contrário."
      ]
    },
    {
      "cell_type": "markdown",
      "metadata": {
        "id": "vrBZ_68-PBWl",
        "colab_type": "text"
      },
      "source": [
        "### Minha solução:"
      ]
    },
    {
      "cell_type": "code",
      "metadata": {
        "id": "m4Pi4S8hPC_u",
        "colab_type": "code",
        "colab": {}
      },
      "source": [
        "def CheckPalavra(s_Frase, s_Palavra):\n",
        "    if s_Palavra in s_Frase:\n",
        "        return True\n",
        "    else:\n",
        "        return False"
      ],
      "execution_count": 0,
      "outputs": []
    },
    {
      "cell_type": "markdown",
      "metadata": {
        "id": "NJeqwxDjPxub",
        "colab_type": "text"
      },
      "source": [
        "A frase abaixo foi extraída de [+ Bíblia + Camões + Legião Urbana - (Guerra) = Monte Castelo](http://compondoletras.blogspot.com/2013/11/biblia-camoes-legiao-urbana-guerra.html)"
      ]
    },
    {
      "cell_type": "code",
      "metadata": {
        "id": "Dj_n_beIPRBN",
        "colab_type": "code",
        "colab": {}
      },
      "source": [
        "s_Frase= 'O amor é o fogo que arde sem se ver. É ferida que dói e não se sente. É um contentamento descontente. É dor que desatina sem doer'\n",
        "s_Frase"
      ],
      "execution_count": 0,
      "outputs": []
    },
    {
      "cell_type": "code",
      "metadata": {
        "id": "s40FJ9iCPPY0",
        "colab_type": "code",
        "colab": {}
      },
      "source": [
        "s_Palavra= 'fogo'"
      ],
      "execution_count": 0,
      "outputs": []
    },
    {
      "cell_type": "markdown",
      "metadata": {
        "id": "tzc2eaM7QUFE",
        "colab_type": "text"
      },
      "source": [
        "A palavra s_Palavra está em s_Frase?"
      ]
    },
    {
      "cell_type": "code",
      "metadata": {
        "id": "2tlravrMQXn2",
        "colab_type": "code",
        "colab": {}
      },
      "source": [
        "CheckPalavra(s_Frase, s_Palavra)"
      ],
      "execution_count": 0,
      "outputs": []
    },
    {
      "cell_type": "markdown",
      "metadata": {
        "id": "pMx9E0xMu1lc",
        "colab_type": "text"
      },
      "source": [
        "## Exercício 3\n",
        "Para mais exercícios envolvendo funções, consulte [Python functions - Exercises, Practice, Solution](https://www.w3resource.com/python-exercises/python-functions-exercises.php)."
      ]
    },
    {
      "cell_type": "code",
      "metadata": {
        "id": "Mw6Wg5hFvFMR",
        "colab_type": "code",
        "colab": {}
      },
      "source": [
        ""
      ],
      "execution_count": 0,
      "outputs": []
    }
  ]
}