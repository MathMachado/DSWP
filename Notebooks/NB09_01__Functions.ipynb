{
  "nbformat": 4,
  "nbformat_minor": 0,
  "metadata": {
    "colab": {
      "name": "NB09_01__Functions.ipynb",
      "provenance": [],
      "private_outputs": true,
      "include_colab_link": true
    },
    "kernelspec": {
      "name": "python3",
      "display_name": "Python 3"
    }
  },
  "cells": [
    {
      "cell_type": "markdown",
      "metadata": {
        "id": "view-in-github",
        "colab_type": "text"
      },
      "source": [
        "<a href=\"https://colab.research.google.com/github/MathMachado/DSWP/blob/master/Notebooks/NB09_01__Functions.ipynb\" target=\"_parent\"><img src=\"https://colab.research.google.com/assets/colab-badge.svg\" alt=\"Open In Colab\"/></a>"
      ]
    },
    {
      "cell_type": "markdown",
      "metadata": {
        "id": "d_YndS20uqkK"
      },
      "source": [
        "<center><h1><b><i>FUNÇÕES</i></b></h1></center>\n",
        "\n",
        "\n",
        "\n",
        "# **AGENDA**:\n",
        "\n",
        "> Veja o **índice** dos itens que serão abordados neste capítulo.\n",
        "\n",
        "\n"
      ]
    },
    {
      "cell_type": "markdown",
      "metadata": {
        "id": "e0UKAZQvJ_c2"
      },
      "source": [
        "___\n",
        "# **INTRODUÇÃO ÀS FUNÇÕES**\n",
        "> Funções são uma sequência de comandos para executar uma tarefa.\n",
        ">> Atenção ao que recomenda o PEP8 sobre como escrever funções."
      ]
    },
    {
      "cell_type": "code",
      "metadata": {
        "id": "Z4-gPTjZUP50"
      },
      "source": [
        "# Não executar este codigo!\n",
        "def funcao(arg1, arg2, ..., argN):\n",
        "    <Bloco de código da função>"
      ],
      "execution_count": null,
      "outputs": []
    },
    {
      "cell_type": "code",
      "metadata": {
        "id": "etxNlyRYo39A"
      },
      "source": [
        "def show_hello_world():\n",
        "    print('Hello World!')"
      ],
      "execution_count": null,
      "outputs": []
    },
    {
      "cell_type": "code",
      "metadata": {
        "id": "G6I9PFvZpBgR"
      },
      "source": [
        "type(show_hello_world)"
      ],
      "execution_count": null,
      "outputs": []
    },
    {
      "cell_type": "code",
      "metadata": {
        "id": "_meNdNygpIbv"
      },
      "source": [
        "show_hello_world()"
      ],
      "execution_count": null,
      "outputs": []
    },
    {
      "cell_type": "markdown",
      "metadata": {
        "id": "6zfLd8HwpPpg"
      },
      "source": [
        "___\n",
        "# **DOCUMENTAR FUNÇÕES COM COMMENTS/DOCSTRING**"
      ]
    },
    {
      "cell_type": "code",
      "metadata": {
        "id": "3yzgBxtNpRi_"
      },
      "source": [
        "def show_hello_world():\n",
        "    '''\n",
        "    Esta função faz um cumprimento: 'Hello World!'\n",
        "    Inputs: \n",
        "    param1: djdjdjdjdj\n",
        "    param2: fjrjirjjirjir\n",
        "    '''\n",
        "    print('Hello World!')"
      ],
      "execution_count": null,
      "outputs": []
    },
    {
      "cell_type": "code",
      "metadata": {
        "id": "0rBaxjpmpbm1"
      },
      "source": [
        "show_hello_world()"
      ],
      "execution_count": null,
      "outputs": []
    },
    {
      "cell_type": "code",
      "metadata": {
        "id": "6ThOwDQp4TfR"
      },
      "source": [
        "# Se quisermos ver a documentação da função, basta invocar o statement __doc__ da seguinte forma:\n",
        "show_hello_world.__doc__"
      ],
      "execution_count": null,
      "outputs": []
    },
    {
      "cell_type": "markdown",
      "metadata": {
        "id": "9YZ2afpNA4st"
      },
      "source": [
        "OU..."
      ]
    },
    {
      "cell_type": "code",
      "metadata": {
        "id": "uSnwA4BVA5_t"
      },
      "source": [
        "help(show_hello_world)"
      ],
      "execution_count": null,
      "outputs": []
    },
    {
      "cell_type": "markdown",
      "metadata": {
        "id": "whbnnMA5p1Jw"
      },
      "source": [
        "___\n",
        "# **FUNÇÕES COM ARGUMENTOS**"
      ]
    },
    {
      "cell_type": "markdown",
      "metadata": {
        "id": "O3bSjLA_qTTc"
      },
      "source": [
        "Definir a função mostra_nome com dois argumentos: s_primeiro_nome e s_ultimo_nome:"
      ]
    },
    {
      "cell_type": "code",
      "metadata": {
        "id": "9jWyCCPPp4yS"
      },
      "source": [
        "def mostra_nome(s_primeiro_nome, s_ultimo_nome):\n",
        "    print(f'Olá, meu nome é {s_primeiro_nome} {s_ultimo_nome}')"
      ],
      "execution_count": null,
      "outputs": []
    },
    {
      "cell_type": "code",
      "metadata": {
        "id": "VOB3Ip63qIzr"
      },
      "source": [
        "mostra_nome('Nelio', 'Machado')"
      ],
      "execution_count": null,
      "outputs": []
    },
    {
      "cell_type": "markdown",
      "metadata": {
        "id": "Oi0c_GuesfcL"
      },
      "source": [
        "Neste caso, o primeiro argumento da função (s_primeiro_nome) vai receber o valor 'Nelio' e o segundo argumento da função (s_ultimo_nome) vai receber 'Machado'."
      ]
    },
    {
      "cell_type": "markdown",
      "metadata": {
        "id": "qkMblpnLsITO"
      },
      "source": [
        "No entanto, também podemos invocar a função da seguinte forma:"
      ]
    },
    {
      "cell_type": "code",
      "metadata": {
        "id": "TTli7e6xsMCo"
      },
      "source": [
        "mostra_nome(s_ultimo_nome = 'Machado', s_primeiro_nome = 'Nelio')"
      ],
      "execution_count": null,
      "outputs": []
    },
    {
      "cell_type": "markdown",
      "metadata": {
        "id": "rmatMmhTsaVc"
      },
      "source": [
        "Observe que o resultado é o mesmo. No entanto, desta forma, estamos dizendo o valor específico que cada parâmetro irá receber."
      ]
    },
    {
      "cell_type": "markdown",
      "metadata": {
        "id": "PnNYrgJ6VQo9"
      },
      "source": [
        "## PEP8 + Annotations = Códigos mais fáceis de entender e atualizar\n",
        "\n",
        "> Observe abaixo quando combinamos PEP8 + Annotations para tornar o código Python ainda mais detalhado. O objetivo de _Annotations_ é deixar o código mais claro, sem mudar o comportamento da função. No exemplo abaixo, os argumentos da função s_primeiro_nome e s_ultimo_nome são argumentos do tipo _str_ e a função retorna um _output_ do tipo _str_."
      ]
    },
    {
      "cell_type": "code",
      "metadata": {
        "id": "aU2Sob37VVmi"
      },
      "source": [
        "def mostra_nome2(s_primeiro_nome: str, s_ultimo_nome: str) -> str:\n",
        "    print(f'Olá, meu nome é {s_primeiro_nome} {s_ultimo_nome}')"
      ],
      "execution_count": null,
      "outputs": []
    },
    {
      "cell_type": "code",
      "metadata": {
        "id": "iIvqS73mXNam"
      },
      "source": [
        "mostra_nome2(s_ultimo_nome = 'Machado', s_primeiro_nome = 'Nelio')"
      ],
      "execution_count": null,
      "outputs": []
    },
    {
      "cell_type": "markdown",
      "metadata": {
        "id": "rSnrtFNtXrbN"
      },
      "source": [
        "# **\\*args**\n",
        "> \\*args permite que você passe mais argumentos do que o número de argumentos formais que você definiu anteriormente."
      ]
    },
    {
      "cell_type": "markdown",
      "metadata": {
        "id": "x2rsiSseqHcX"
      },
      "source": [
        "O que acontece quando evocamos a função mostra_nome2('Nelio', 'Pereira', 'Machado')?"
      ]
    },
    {
      "cell_type": "code",
      "metadata": {
        "id": "8ap7pqmOqUnP"
      },
      "source": [
        "mostra_nome2('Nelio', 'Pereira', 'Machado')"
      ],
      "execution_count": null,
      "outputs": []
    },
    {
      "cell_type": "markdown",
      "metadata": {
        "id": "aT0_PeuEvXiP"
      },
      "source": [
        "## Exemplo 1\n",
        "> Considere a função (simples) para imprimir o nome completo de um cliente."
      ]
    },
    {
      "cell_type": "code",
      "metadata": {
        "id": "Npbi_Hy0bUec"
      },
      "source": [
        "# definimos a função mostra_nome3 da seguinte forma:\n",
        "def mostra_nome3(*args):\n",
        "    nome =  ' '.join(args)\n",
        "    print(f'Olá, meu nome é {nome}.')"
      ],
      "execution_count": null,
      "outputs": []
    },
    {
      "cell_type": "code",
      "metadata": {
        "id": "dFzM0gA3_9za"
      },
      "source": [
        "mostra_nome3('Nelio', 'Machado')"
      ],
      "execution_count": null,
      "outputs": []
    },
    {
      "cell_type": "markdown",
      "metadata": {
        "id": "370bpgaSvDbJ"
      },
      "source": [
        "E agora, a função recebe qualquer quantidade de parâmetros."
      ]
    },
    {
      "cell_type": "code",
      "metadata": {
        "id": "DQcRFHu4qnc5"
      },
      "source": [
        "mostra_nome3('Nelio', 'Pereira', 'Machado')"
      ],
      "execution_count": null,
      "outputs": []
    },
    {
      "cell_type": "code",
      "metadata": {
        "id": "4kYcu6PEX-Nz"
      },
      "source": [
        "mostra_nome3('Pedro', 'de', 'Alcantara', 'Francisco', 'Antonio', 'Joao', 'Carlos', 'Xavier', 'de', 'Paula', 'Miguel', 'Rafael', 'Joaquim', 'Jose', 'Gonzaga', 'Pascoal', 'Cipriano', 'Serafim')"
      ],
      "execution_count": null,
      "outputs": []
    },
    {
      "cell_type": "markdown",
      "metadata": {
        "id": "KMgngPmFimxb"
      },
      "source": [
        "Observe que desta forma pouco importa a quantidade de parâmetros que passamos á função."
      ]
    },
    {
      "cell_type": "markdown",
      "metadata": {
        "id": "Y9pDa6ZRjo0U"
      },
      "source": [
        "## Exemplo 2\n",
        "* Suponha que estamos insteressados em desenvolver uma função que multiplica dois números (passados como parâmetros)."
      ]
    },
    {
      "cell_type": "markdown",
      "metadata": {
        "id": "1A-vhsHxv1YE"
      },
      "source": [
        "Antes de vermos a solução usando \\*args, vamos ver como seria nossa função se \\*args não existisse."
      ]
    },
    {
      "cell_type": "markdown",
      "metadata": {
        "id": "cCDwruF8j5i5"
      },
      "source": [
        "### Forma \"Normal\""
      ]
    },
    {
      "cell_type": "code",
      "metadata": {
        "id": "_R03BiwLjtwB"
      },
      "source": [
        "# Definição da função\n",
        "def multiplicar_numeros(x1, x2):\n",
        "    '''\n",
        "    Objetivo: Esta função multiplica DOIS números passados como argumentos.\n",
        "    Autor: Nelio Machado\n",
        "    Data: 04/10/2020\n",
        "    '''\n",
        "    return (x1 * x2)"
      ],
      "execution_count": null,
      "outputs": []
    },
    {
      "cell_type": "code",
      "metadata": {
        "id": "0eVm1Qj9kDtd"
      },
      "source": [
        "print(multiplicar_numeros(3, 4))"
      ],
      "execution_count": null,
      "outputs": []
    },
    {
      "cell_type": "markdown",
      "metadata": {
        "id": "4h9Nhkickf_8"
      },
      "source": [
        "### Usando \\*args"
      ]
    },
    {
      "cell_type": "code",
      "metadata": {
        "id": "9Kf89meJkjw8"
      },
      "source": [
        "def multiplicar_numeros2(*args):\n",
        "    '''\n",
        "    Objetivo: Esta função multiplica vários números passados como argumentos.\n",
        "    Autor: Nelio Machado\n",
        "    Data: 04/10/2020\n",
        "    '''\n",
        "    print(args)\n",
        "    print(type(args))\n",
        "    x = 1\n",
        "    for N in args:\n",
        "        x *= N # Isso é a mesma coisa que: x = x * N\n",
        "    \n",
        "    return x"
      ],
      "execution_count": null,
      "outputs": []
    },
    {
      "cell_type": "code",
      "metadata": {
        "id": "ZuIzwitWk7by"
      },
      "source": [
        "print(multiplicar_numeros2(1, 2, 3, 4, 5)) # Isso é a mesma coisa que 5! (cinco fatorial)"
      ],
      "execution_count": null,
      "outputs": []
    },
    {
      "cell_type": "markdown",
      "metadata": {
        "id": "U5kyPu792gMN"
      },
      "source": [
        "Eu também posso fazer da seguinte forma:"
      ]
    },
    {
      "cell_type": "code",
      "metadata": {
        "id": "oc2NJmJf2s7X"
      },
      "source": [
        "args = (1, 2, 3, 4, 5)\n",
        "print(multiplicar_numeros2(*args))"
      ],
      "execution_count": null,
      "outputs": []
    },
    {
      "cell_type": "code",
      "metadata": {
        "id": "GM5NVX3fsaKv"
      },
      "source": [
        "# Para conferirmos o resultado da função\n",
        "import math\n",
        "math.factorial(5)"
      ],
      "execution_count": null,
      "outputs": []
    },
    {
      "cell_type": "markdown",
      "metadata": {
        "id": "38jVie_IjMXI"
      },
      "source": [
        "# \\**kwargs\n",
        "\n",
        "* \\**kwargs é usado para passar um dicionário de comprimento variável para uma função.\n",
        "* Argumento do tipo {chave: valor};\n",
        "\n",
        "* Para exemplificar o uso de \\**kwargs, vou usar parte do dicionário dFruits que definimos na sessão [Dictionaries](Dictionaries.ipynb). Qualquer dúvida, volte áquele capítulo para relembrar os principais conceitos."
      ]
    },
    {
      "cell_type": "code",
      "metadata": {
        "id": "yAntQ724nMbv"
      },
      "source": [
        "# Definindo a função para receber parâmetros em forma de dicionário:\n",
        "def imprime_frutas(**kwargs):\n",
        "    '''\n",
        "    Objetivo: Esta função imprime as frutas contidas em kwargs.\n",
        "    Autor: Nelio Machado\n",
        "    Data: 04/10/2020\n",
        "    '''\n",
        "    for key, value in kwargs.items():\n",
        "        print(f'O valor de {key} é {value}')"
      ],
      "execution_count": null,
      "outputs": []
    },
    {
      "cell_type": "markdown",
      "metadata": {
        "id": "jpmSk9mfxww3"
      },
      "source": [
        "Atenção à forma como os itens são passados à função!"
      ]
    },
    {
      "cell_type": "code",
      "metadata": {
        "id": "88-1lStInaVs"
      },
      "source": [
        "imprime_frutas(Avocado = 0.35, Apple = 0.4, Apricot = 0.25, Banana = 0.30)"
      ],
      "execution_count": null,
      "outputs": []
    },
    {
      "cell_type": "markdown",
      "metadata": {
        "id": "-jb_kkLiyQt8"
      },
      "source": [
        "No entanto, posso passar um dicionário na forma como estamos acostumados, da seguinte forma:"
      ]
    },
    {
      "cell_type": "code",
      "metadata": {
        "id": "JZJNiLz7wgCy"
      },
      "source": [
        "d_frutas = {'Apple': 0.4, 'Avocado': 0.3, 'Orange': 0.5, 'Lemon': 0.25}"
      ],
      "execution_count": null,
      "outputs": []
    },
    {
      "cell_type": "code",
      "metadata": {
        "id": "Emjm6xP7cjmV"
      },
      "source": [
        "# De forma geral, atribuimos/adicionamos/update dos itens do dicionário da seguinte forma:\n",
        "d_frutas[chave] = valor"
      ],
      "execution_count": null,
      "outputs": []
    },
    {
      "cell_type": "code",
      "metadata": {
        "id": "7WMsKxh0cPpN"
      },
      "source": [
        "# Lembre-se que d_frutas \n",
        "d_frutas.items()"
      ],
      "execution_count": null,
      "outputs": []
    },
    {
      "cell_type": "code",
      "metadata": {
        "id": "eUCum4JPEcxD"
      },
      "source": [
        "imprime_frutas(**d_frutas) # Atenção à forma como passamos o dicionário para a função: **dicionario."
      ],
      "execution_count": null,
      "outputs": []
    },
    {
      "cell_type": "markdown",
      "metadata": {
        "id": "iK8-e7a1sXmn"
      },
      "source": [
        "___\n",
        "# **Python return**\n",
        "> Uma função Python pode ou não retornar um valor."
      ]
    },
    {
      "cell_type": "code",
      "metadata": {
        "id": "HS0dGA55siWw"
      },
      "source": [
        "def par_ou_impar(i_numero1, i_numero2):\n",
        "    '''\n",
        "    Esta função somente avalia se a soma de dois números é par ou impar. \n",
        "    A função retorna odd ou even.\n",
        "    '''\n",
        "    i_soma = i_numero1+i_numero2\n",
        "    i_modulo = i_soma % 2\n",
        "    print(f'A soma é {i_soma}')\n",
        "    if i_modulo > 0:\n",
        "        return 'Odd'\n",
        "    else:\n",
        "        return 'Even'   "
      ],
      "execution_count": null,
      "outputs": []
    },
    {
      "cell_type": "code",
      "metadata": {
        "id": "mZTG2tDJuIZQ"
      },
      "source": [
        "i_numero1 = int(input('Por favor, informe o primeiro número: '))\n",
        "i_numero2 = int(input('Por favor, informe o segundo número.: '))"
      ],
      "execution_count": null,
      "outputs": []
    },
    {
      "cell_type": "code",
      "metadata": {
        "id": "7p_9pq3Du18a"
      },
      "source": [
        "type(i_numero1)"
      ],
      "execution_count": null,
      "outputs": []
    },
    {
      "cell_type": "code",
      "metadata": {
        "id": "4oO7aAjcvCAe"
      },
      "source": [
        "type(i_numero2)"
      ],
      "execution_count": null,
      "outputs": []
    },
    {
      "cell_type": "code",
      "metadata": {
        "id": "Br7yT8UHuKYY"
      },
      "source": [
        "s_resultado = par_ou_impar(i_numero1, i_numero2)"
      ],
      "execution_count": null,
      "outputs": []
    },
    {
      "cell_type": "code",
      "metadata": {
        "id": "601QnggJuhf-"
      },
      "source": [
        "print(f'O resultado é {s_resultado}')"
      ],
      "execution_count": null,
      "outputs": []
    },
    {
      "cell_type": "markdown",
      "metadata": {
        "id": "t6HNf9j9yKcT"
      },
      "source": [
        "Mostra o valor de i_modulo ou i_soma:"
      ]
    },
    {
      "cell_type": "code",
      "metadata": {
        "id": "Yu8RsyDAyXne"
      },
      "source": [
        "i_modulo"
      ],
      "execution_count": null,
      "outputs": []
    },
    {
      "cell_type": "markdown",
      "metadata": {
        "id": "nx3twrLRyaeJ"
      },
      "source": [
        "Python reporta que i_modulo não existe.\n",
        "Está correta esta informação?"
      ]
    },
    {
      "cell_type": "markdown",
      "metadata": {
        "id": "imkyRO4kyvgV"
      },
      "source": [
        "Considere o exemplo a seguir:"
      ]
    },
    {
      "cell_type": "code",
      "metadata": {
        "id": "kwRiXDA5y19h"
      },
      "source": [
        "i_modulo = 0\n",
        "\n",
        "def par_ou_impar_v2(i_numero1, i_numero2):\n",
        "    '''\n",
        "    Esta função somente avalia se a soma de dois números é par ou impar. \n",
        "    A função retorna odd ou even.\n",
        "    '''\n",
        "    i_soma = i_numero1+i_numero2\n",
        "    i_modulo = i_soma % 2\n",
        "    print(f'A soma é {i_soma}')\n",
        "    if i_modulo > 0:\n",
        "        return 'Odd'\n",
        "    else:\n",
        "        return 'Even'   "
      ],
      "execution_count": null,
      "outputs": []
    },
    {
      "cell_type": "code",
      "metadata": {
        "id": "GYxLSGQLy_Ai"
      },
      "source": [
        "i_numero1 = int(input('Por favor, informe o primeiro número: '))\n",
        "i_numero2 = int(input('Por favor, informe o segundo número.: '))"
      ],
      "execution_count": null,
      "outputs": []
    },
    {
      "cell_type": "code",
      "metadata": {
        "id": "NMtv99fjzHGs"
      },
      "source": [
        "s_resultado = par_ou_impar_v2(i_numero1, i_numero2)"
      ],
      "execution_count": null,
      "outputs": []
    },
    {
      "cell_type": "code",
      "metadata": {
        "id": "qjOHnYDVzNGK"
      },
      "source": [
        "print(f'O resultado é {s_resultado}')"
      ],
      "execution_count": null,
      "outputs": []
    },
    {
      "cell_type": "markdown",
      "metadata": {
        "id": "pPTecxRfzQUc"
      },
      "source": [
        "Agora, vamos checar o valor de i_modulo..."
      ]
    },
    {
      "cell_type": "code",
      "metadata": {
        "id": "jkQb2mQzzTEo"
      },
      "source": [
        "i_modulo"
      ],
      "execution_count": null,
      "outputs": []
    },
    {
      "cell_type": "markdown",
      "metadata": {
        "id": "oOlyGxBAzjE3"
      },
      "source": [
        "Porque agora o Python reconhece a variável i_modulo?"
      ]
    },
    {
      "cell_type": "markdown",
      "metadata": {
        "id": "dceSkt9Z0BZh"
      },
      "source": [
        "___\n",
        "# **ESCOPO DE VARIÁVEIS: LOCAL & GLOBAL**\n",
        "* **Local** - Variável declarada dentro da função. Em outras palavras, é uma variável local/uso da função.\n",
        "\n",
        "* **Global** - Variável declarada fora da função. Neste caso, a variável é visível à todo o programa. Entretanto, não se pode alterar o valor da variável dentro da função. Caso queira alterar o valor da variável dentro da função, então é necesário declarar a variável usando a palavra reservada 'global’."
      ]
    },
    {
      "cell_type": "markdown",
      "metadata": {
        "id": "0tIjI9GScPxu"
      },
      "source": [
        "## Exemplo 1"
      ]
    },
    {
      "cell_type": "code",
      "metadata": {
        "id": "QRojHHJ20iTY"
      },
      "source": [
        "def exemplo1():\n",
        "    i_valor = 20\n",
        "    i_valor += 1\n",
        "    print(i_valor)"
      ],
      "execution_count": null,
      "outputs": []
    },
    {
      "cell_type": "code",
      "metadata": {
        "id": "RdhElmTs0y1c"
      },
      "source": [
        "exemplo1()"
      ],
      "execution_count": null,
      "outputs": []
    },
    {
      "cell_type": "markdown",
      "metadata": {
        "id": "Tytq7PnH08pz"
      },
      "source": [
        "O escopo da variável 'i_valor' é local, ou seja, de uso/restrito à função. "
      ]
    },
    {
      "cell_type": "code",
      "metadata": {
        "id": "299AK0PA1lIg"
      },
      "source": [
        "i_valor"
      ],
      "execution_count": null,
      "outputs": []
    },
    {
      "cell_type": "markdown",
      "metadata": {
        "id": "gGP4cx17y8EZ"
      },
      "source": [
        "Portanto, o erro acima faz sentido, pois a variável i_valor é restrito á função. Ou seja, fora da função o Python não conhece este valor."
      ]
    },
    {
      "cell_type": "markdown",
      "metadata": {
        "id": "KTV_6Gzxfvpc"
      },
      "source": [
        "## Exemplo 2"
      ]
    },
    {
      "cell_type": "code",
      "metadata": {
        "id": "zyi9AyJwfxTm"
      },
      "source": [
        "i_valor = 100\n",
        "\n",
        "def exemplo2():\n",
        "    i_valor = 20\n",
        "    i_valor += 1\n",
        "    print(i_valor)"
      ],
      "execution_count": null,
      "outputs": []
    },
    {
      "cell_type": "code",
      "metadata": {
        "id": "iEWrboG6gBSs"
      },
      "source": [
        "exemplo2()"
      ],
      "execution_count": null,
      "outputs": []
    },
    {
      "cell_type": "markdown",
      "metadata": {
        "id": "JPvT0BHG-vxE"
      },
      "source": [
        "Isso é um tanto estranho! Definimos, fora da função, i_valor= 100 e, dentro da função, redefinimos i_valor= 20. Entretanto, como vimos, exemplo2() retorna 21 como resultado."
      ]
    },
    {
      "cell_type": "markdown",
      "metadata": {
        "id": "N_t8tIDC-149"
      },
      "source": [
        "Agora, a seguir, fora da função, pedimos para ver o valor de i_valor e temos, como resposta, o valor 100."
      ]
    },
    {
      "cell_type": "code",
      "metadata": {
        "id": "I46Bn4FlgJLu"
      },
      "source": [
        "i_valor"
      ],
      "execution_count": null,
      "outputs": []
    },
    {
      "cell_type": "markdown",
      "metadata": {
        "id": "IQlP5nbngL6E"
      },
      "source": [
        "Saberia nos explicar o que está acontecendo?"
      ]
    },
    {
      "cell_type": "markdown",
      "metadata": {
        "id": "h8PHd6rLgtwK"
      },
      "source": [
        "## Exemplo 3"
      ]
    },
    {
      "cell_type": "code",
      "metadata": {
        "id": "qB7_zPQVgvVT"
      },
      "source": [
        "i_valor = 100\n",
        "\n",
        "def exemplo3():\n",
        "    global i_valor\n",
        "    i_valor = 20\n",
        "    i_valor += 1\n",
        "    print(i_valor)"
      ],
      "execution_count": null,
      "outputs": []
    },
    {
      "cell_type": "code",
      "metadata": {
        "id": "2KgQSbYCg8Eq"
      },
      "source": [
        "exemplo3()"
      ],
      "execution_count": null,
      "outputs": []
    },
    {
      "cell_type": "code",
      "metadata": {
        "id": "Y7yWoojrg_9Z"
      },
      "source": [
        "i_valor"
      ],
      "execution_count": null,
      "outputs": []
    },
    {
      "cell_type": "markdown",
      "metadata": {
        "id": "cGlmbIJGzWG6"
      },
      "source": [
        "Saberia explicar o que acontece neste exemplo?"
      ]
    },
    {
      "cell_type": "markdown",
      "metadata": {
        "id": "X8qFfIoxhFOp"
      },
      "source": [
        "## Exemplo 4"
      ]
    },
    {
      "cell_type": "code",
      "metadata": {
        "id": "ZM-yTLuO1bFh"
      },
      "source": [
        "i_valor = 20\n",
        "\n",
        "def exemplo4():\n",
        "    i_valor += 1\n",
        "    print(i_valor)"
      ],
      "execution_count": null,
      "outputs": []
    },
    {
      "cell_type": "code",
      "metadata": {
        "id": "oLvfPO8w1zwL"
      },
      "source": [
        "exemplo4()"
      ],
      "execution_count": null,
      "outputs": []
    },
    {
      "cell_type": "markdown",
      "metadata": {
        "id": "2V7QzpZp2QcM"
      },
      "source": [
        "Qual a razão deste erro?"
      ]
    },
    {
      "cell_type": "code",
      "metadata": {
        "id": "w9qI8kln1_C7"
      },
      "source": [
        "i_valor"
      ],
      "execution_count": null,
      "outputs": []
    },
    {
      "cell_type": "markdown",
      "metadata": {
        "id": "AQFFGqLI1FWn"
      },
      "source": [
        "___\n",
        "# **ARGUMENTOS DEFAULT**\n",
        "> Considere o exemplo a seguir: toda vez que vai ao supermercado compra 1 pack de leite (contendo 4 garrafas) e 1 garrafão de água de 5L. Portanto, de forma simples, podemos definir nossa função da seguinte forma:"
      ]
    },
    {
      "cell_type": "code",
      "metadata": {
        "id": "HbcSTiBI4nOj"
      },
      "source": [
        "# Define a função para receber os parâmetros arroz, feijao, leite e água.\n",
        "def lista_de_compras(arroz, feijao, leite= 1, agua= 1):\n",
        "    '''\n",
        "    Documentação da função: objetivos, autor e data.\n",
        "    '''\n",
        "    print('Lista de Compras:')\n",
        "    print(f'Quantidade de arroz.: {arroz} kilos.')    \n",
        "    print(f'Quantidade de feijão: {feijao} kilos.')    \n",
        "    print(f'Quantidade de leite.: {leite} pack com 4.')    \n",
        "    print(f'Quantidade de água..: {agua} garrafa de 5 litros.')    "
      ],
      "execution_count": null,
      "outputs": []
    },
    {
      "cell_type": "code",
      "metadata": {
        "id": "vwZnDgoq5pgB"
      },
      "source": [
        "lista_de_compras(5, 3)"
      ],
      "execution_count": null,
      "outputs": []
    },
    {
      "cell_type": "markdown",
      "metadata": {
        "id": "l7bY5BSO7eJF"
      },
      "source": [
        "Como leite= 1 e agua= 1 são valores default's, não precisamos passar esses parâmetros, desde que informamos ao Python o valor default. No entanto, se numa determinada semana precisarmos de 2 pack's de leite, ao invés de 1, devemos informar ao Python o novo valor:"
      ]
    },
    {
      "cell_type": "code",
      "metadata": {
        "id": "YY4OrFuH7yXi"
      },
      "source": [
        "lista_de_compras(5, 3, 2)"
      ],
      "execution_count": null,
      "outputs": []
    },
    {
      "cell_type": "markdown",
      "metadata": {
        "id": "-nfrZAvN73YT"
      },
      "source": [
        "Da mesma forma, se numa outra semana precisarmos de 2 garrafões de água ao invés de 1, informamos ao Python da seguinte forma:"
      ]
    },
    {
      "cell_type": "code",
      "metadata": {
        "id": "Vpoh6TdM7_xb"
      },
      "source": [
        "lista_de_compras(5, 3, 2, 2)"
      ],
      "execution_count": null,
      "outputs": []
    },
    {
      "cell_type": "markdown",
      "metadata": {
        "id": "q3qZn9FuVQly"
      },
      "source": [
        "___\n",
        "# **map()**"
      ]
    },
    {
      "cell_type": "markdown",
      "metadata": {
        "id": "Dav8k0JYWi4B"
      },
      "source": [
        "## Exemplo 1\n",
        "> Suponha que queremos o quadrado de cada número passado à uma função."
      ]
    },
    {
      "cell_type": "code",
      "metadata": {
        "id": "R6NC0i2OVktM"
      },
      "source": [
        "l_numeros = [0, 1, 2, 3, 4, 5]\n",
        "l_numeros"
      ],
      "execution_count": null,
      "outputs": []
    },
    {
      "cell_type": "code",
      "metadata": {
        "id": "AVjYlN44Vw2k"
      },
      "source": [
        "def quadrado_do_numero(i_numero):\n",
        "    return (i_numero**2)"
      ],
      "execution_count": null,
      "outputs": []
    },
    {
      "cell_type": "code",
      "metadata": {
        "id": "i_4CHiehV7lD"
      },
      "source": [
        "list(map(quadrado_do_numero, l_numeros))"
      ],
      "execution_count": null,
      "outputs": []
    },
    {
      "cell_type": "markdown",
      "metadata": {
        "id": "5tq8QDSPWNf6"
      },
      "source": [
        "OU..."
      ]
    },
    {
      "cell_type": "code",
      "metadata": {
        "id": "ZAfkybybWOcG"
      },
      "source": [
        "for i in map(quadrado_do_numero, l_numeros):\n",
        "    print(i)"
      ],
      "execution_count": null,
      "outputs": []
    },
    {
      "cell_type": "markdown",
      "metadata": {
        "id": "c01V5CEzWlGF"
      },
      "source": [
        "## Exemplo 2\n",
        "> substituir_truer todos os valores True da lista abaixo por 1 e False por 0."
      ]
    },
    {
      "cell_type": "code",
      "metadata": {
        "id": "qH1ackDZWvKp"
      },
      "source": [
        "import random\n",
        "\n",
        "l_dados = []\n",
        "for i in range(50):\n",
        "    random.seed(i)\n",
        "    l_dados.append(random.choice([True, False]))\n",
        "    \n",
        "l_dados"
      ],
      "execution_count": null,
      "outputs": []
    },
    {
      "cell_type": "code",
      "metadata": {
        "id": "Dt2UKC-WXsxr"
      },
      "source": [
        "def substituir_true(s_String):\n",
        "    if s_String == True:\n",
        "        return 1\n",
        "    else:\n",
        "        return 0"
      ],
      "execution_count": null,
      "outputs": []
    },
    {
      "cell_type": "code",
      "metadata": {
        "id": "BIIkPuDEXaM0"
      },
      "source": [
        "list(map(substituir_true, l_dados))"
      ],
      "execution_count": null,
      "outputs": []
    },
    {
      "cell_type": "markdown",
      "metadata": {
        "id": "TzkLIH1gYpFQ"
      },
      "source": [
        "___\n",
        "# **Filter()**\n",
        "* Filtra elementos baseado em condições."
      ]
    },
    {
      "cell_type": "markdown",
      "metadata": {
        "id": "cjU8YznfZai1"
      },
      "source": [
        "Suponha que agora eu quero filtrar os itens True da lista l_dados."
      ]
    },
    {
      "cell_type": "code",
      "metadata": {
        "id": "a3SeaKJgZlAZ"
      },
      "source": [
        "def filtrar_true(item):\n",
        "    if item == True:\n",
        "        return True\n",
        "    else:\n",
        "        return False"
      ],
      "execution_count": null,
      "outputs": []
    },
    {
      "cell_type": "code",
      "metadata": {
        "id": "1Z1APDQtZyXs"
      },
      "source": [
        "list(filter(filtrar_true, l_dados))"
      ],
      "execution_count": null,
      "outputs": []
    },
    {
      "cell_type": "markdown",
      "metadata": {
        "id": "xPpFqVUnKEH7"
      },
      "source": [
        "___\n",
        "# **EXERCÍCIOS**"
      ]
    },
    {
      "cell_type": "markdown",
      "metadata": {
        "id": "RDgCRPRs0W6C"
      },
      "source": [
        "## Exercício 1\n",
        "Construa uma função para retornar o dia da semana a partir de um número, sendo:\n",
        "\n",
        "* 1 - Dom\n",
        "* 2 - Seg\n",
        "* 3 - Ter\n",
        "* 4 - Qua\n",
        "* 5 - Qui\n",
        "* 6 - Sex\n",
        "* 7 - Sab"
      ]
    },
    {
      "cell_type": "markdown",
      "metadata": {
        "id": "N53NOsZjOv9m"
      },
      "source": [
        "## Exercício 2\n",
        "* Desenvolver uma função que retorna True se s_palavra pertence à uma string e False caso contrário. Se pertencer, retornar a posição da palavra."
      ]
    },
    {
      "cell_type": "markdown",
      "metadata": {
        "id": "NJeqwxDjPxub"
      },
      "source": [
        "A frase abaixo foi extraída de [+ Bíblia + Camões + Legião Urbana - (Guerra) = Monte Castelo](http://compondoletras.blogspot.com/2013/11/biblia-camoes-legiao-urbana-guerra.html)"
      ]
    },
    {
      "cell_type": "code",
      "metadata": {
        "id": "Dj_n_beIPRBN"
      },
      "source": [
        "s_frase = 'O amor é o fogo que arde sem se ver. É ferida que dói e não se sente. É um contentamento descontente. É dor que desatina sem doer'\n",
        "s_frase"
      ],
      "execution_count": null,
      "outputs": []
    },
    {
      "cell_type": "code",
      "metadata": {
        "id": "s40FJ9iCPPY0"
      },
      "source": [
        "s_palavra = 'fogo'"
      ],
      "execution_count": null,
      "outputs": []
    },
    {
      "cell_type": "markdown",
      "metadata": {
        "id": "tzc2eaM7QUFE"
      },
      "source": [
        "A palavra s_palavra está em s_frase?"
      ]
    },
    {
      "cell_type": "markdown",
      "metadata": {
        "id": "pMx9E0xMu1lc"
      },
      "source": [
        "## Exercício 3\n",
        "Para mais exercícios envolvendo funções, consulte [Python functions - Exercises, Practice, Solution](https://www.w3resource.com/python-exercises/python-functions-exercises.php)."
      ]
    },
    {
      "cell_type": "code",
      "metadata": {
        "id": "Mw6Wg5hFvFMR"
      },
      "source": [
        ""
      ],
      "execution_count": null,
      "outputs": []
    }
  ]
}