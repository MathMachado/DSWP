{
  "nbformat": 4,
  "nbformat_minor": 0,
  "metadata": {
    "colab": {
      "name": "PythonLab.ipynb",
      "version": "0.3.2",
      "provenance": [],
      "collapsed_sections": [
        "n8BIbzQbNWUo",
        "7eS94uQ4NhVR",
        "SYOgJpGYVLUu",
        "CaHFxk98W5if",
        "ReWUyWiHXCnc",
        "CqszHxaKHr2h",
        "tXgF1Wl9gHKY",
        "Fotx7XUquAo8",
        "36kmLUYDvsUI",
        "SWO2GdNovxAp",
        "vpN54l4vxze5",
        "u4HOf9SNytSq",
        "6BQ9oZiD9hg5",
        "tz5-QdrX9vct",
        "p1muBgMX8NK4",
        "FxTC2-U88ajk",
        "z8EYn0pP25Rh"
      ],
      "toc_visible": true,
      "include_colab_link": true
    },
    "kernelspec": {
      "name": "python3",
      "display_name": "Python 3"
    },
    "accelerator": "GPU"
  },
  "cells": [
    {
      "cell_type": "markdown",
      "metadata": {
        "id": "view-in-github",
        "colab_type": "text"
      },
      "source": [
        "<a href=\"https://colab.research.google.com/github/MathMachado/Python_RFB/blob/DS_Python/Notebooks/Python%20Lists.ipynb\" target=\"_parent\"><img src=\"https://colab.research.google.com/assets/colab-badge.svg\" alt=\"Open In Colab\"/></a>"
      ]
    },
    {
      "cell_type": "markdown",
      "metadata": {
        "id": "N4_El-IiZHAF",
        "colab_type": "text"
      },
      "source": [
        "# Melhorias desta sessão:\n",
        "* Apresentar mais exemplos do uso de List Comprehensions;"
      ]
    },
    {
      "cell_type": "markdown",
      "metadata": {
        "id": "7SSGTGbqDc_Z",
        "colab_type": "text"
      },
      "source": [
        "# Python Lists\n",
        "\n",
        "* List - Coleção ordenada e mutável de itens. \n",
        "* Permite itens duplicados;\n",
        "* List são representados por \"[ ]\".\n",
        "\n",
        "> Se você tem alguma dúvida sobre como gerar números aleatórios, sugiro voltar ao capítulo [Statistics and Probability](./Statistics%20and%20Probability.ipynb)."
      ]
    },
    {
      "cell_type": "markdown",
      "metadata": {
        "id": "ZEy4k9MZJZQ8",
        "colab_type": "text"
      },
      "source": [
        "![PythonDataStructures](https://github.com/MathMachado/Python_RFB/blob/master/Material/PythonDataStructures.png?raw=true)"
      ]
    },
    {
      "cell_type": "markdown",
      "metadata": {
        "id": "w--XlJB6RaEl",
        "colab_type": "text"
      },
      "source": [
        "# Exemplos"
      ]
    },
    {
      "cell_type": "markdown",
      "metadata": {
        "id": "Z8aYXsvvHVAH",
        "colab_type": "text"
      },
      "source": [
        "* Foco na forma como atribuimos itens às listas."
      ]
    },
    {
      "cell_type": "code",
      "metadata": {
        "id": "QJyUgeSERSqf",
        "colab_type": "code",
        "colab": {}
      },
      "source": [
        "lMyFruits= ['Apple', 'Avocado', 'Orange', 'Lemon']\n",
        "lMyNumbers= [1, 4, 8, 3, 6, 7]"
      ],
      "execution_count": 0,
      "outputs": []
    },
    {
      "cell_type": "markdown",
      "metadata": {
        "id": "nrF5J8JwZbJR",
        "colab_type": "text"
      },
      "source": [
        "Verificando o tipo da variável lMyNumbers:"
      ]
    },
    {
      "cell_type": "code",
      "metadata": {
        "id": "hhGkjqEsSXlA",
        "colab_type": "code",
        "outputId": "0137c246-44ee-45ce-ff6f-994b5f5aaf19",
        "colab": {
          "base_uri": "https://localhost:8080/",
          "height": 34
        }
      },
      "source": [
        "type(lMyNumbers)"
      ],
      "execution_count": 0,
      "outputs": [
        {
          "output_type": "execute_result",
          "data": {
            "text/plain": [
              "list"
            ]
          },
          "metadata": {
            "tags": []
          },
          "execution_count": 23
        }
      ]
    },
    {
      "cell_type": "markdown",
      "metadata": {
        "id": "ZZVrHUA0ZiYp",
        "colab_type": "text"
      },
      "source": [
        "Verificando o tipo da variável lMyFruits:"
      ]
    },
    {
      "cell_type": "code",
      "metadata": {
        "id": "xof2zWZjSdTy",
        "colab_type": "code",
        "outputId": "2f00dd33-a074-49f2-c15a-27569a3e50e1",
        "colab": {
          "base_uri": "https://localhost:8080/",
          "height": 34
        }
      },
      "source": [
        "type(lMyFruits)"
      ],
      "execution_count": 0,
      "outputs": [
        {
          "output_type": "execute_result",
          "data": {
            "text/plain": [
              "list"
            ]
          },
          "metadata": {
            "tags": []
          },
          "execution_count": 24
        }
      ]
    },
    {
      "cell_type": "markdown",
      "metadata": {
        "id": "GmFuisZiS8qM",
        "colab_type": "text"
      },
      "source": [
        "## Exemplo 1: Atribuindo números aleatórios inteiros à lista"
      ]
    },
    {
      "cell_type": "code",
      "metadata": {
        "id": "3CJMYEzLR2x3",
        "colab_type": "code",
        "colab": {
          "base_uri": "https://localhost:8080/",
          "height": 51
        },
        "outputId": "74eeef4b-2882-4b5e-c92e-911e653e9eeb"
      },
      "source": [
        "import random\n",
        "\n",
        "# seed random number generator\n",
        "random.seed(20111974)\n",
        "\n",
        "# Cria um objeto do tipo list vazia...\n",
        "lMyNumbers2= []\n",
        "\n",
        "# Loop para gerar 10 números aleatórios inteiros...\n",
        "for _ in range(10):\n",
        "    lMyNumbers2.append(random.randint(1,101))"
      ],
      "execution_count": 9,
      "outputs": [
        {
          "output_type": "stream",
          "text": [
            "CPU times: user 10 µs, sys: 0 ns, total: 10 µs\n",
            "Wall time: 13.6 µs\n"
          ],
          "name": "stdout"
        }
      ]
    },
    {
      "cell_type": "code",
      "metadata": {
        "id": "Kl6jZbJzSShm",
        "colab_type": "code",
        "outputId": "6b5fb250-42d6-4bfb-a5b2-d1538bf35dc8",
        "colab": {
          "base_uri": "https://localhost:8080/",
          "height": 35
        }
      },
      "source": [
        "# Verificando o tipo da variável lMyNumbers2\n",
        "type(lMyNumbers2)"
      ],
      "execution_count": 0,
      "outputs": [
        {
          "output_type": "execute_result",
          "data": {
            "text/plain": [
              "list"
            ]
          },
          "metadata": {
            "tags": []
          },
          "execution_count": 2
        }
      ]
    },
    {
      "cell_type": "code",
      "metadata": {
        "id": "oAoOqwZGSkbN",
        "colab_type": "code",
        "outputId": "dbdc61e0-0e60-4e51-987e-7039437182b6",
        "colab": {
          "base_uri": "https://localhost:8080/",
          "height": 35
        }
      },
      "source": [
        "# Mostrando os itens de lMyNumbers2...\n",
        "lMyNumbers2"
      ],
      "execution_count": 0,
      "outputs": [
        {
          "output_type": "execute_result",
          "data": {
            "text/plain": [
              "[26, 81, 22, 50, 71, 52, 54, 27, 26, 31]"
            ]
          },
          "metadata": {
            "tags": []
          },
          "execution_count": 5
        }
      ]
    },
    {
      "cell_type": "markdown",
      "metadata": {
        "id": "Qms11EWLTDoj",
        "colab_type": "text"
      },
      "source": [
        "## Exemplo 2 - Atribuindo números aleatórios (float) à lista"
      ]
    },
    {
      "cell_type": "code",
      "metadata": {
        "id": "O7FntLf5TF-r",
        "colab_type": "code",
        "colab": {}
      },
      "source": [
        "import random\n",
        "\n",
        "# seed random number generator\n",
        "random.seed(20111974)\n",
        "\n",
        "# Define um objeto do tipo list vazio...\n",
        "lMyNumbers2= []\n",
        "\n",
        "# Loop para gerar 10 números aleatórios do tipo float...\n",
        "for _ in range(10):\n",
        "    lMyNumbers2.append(random.random())"
      ],
      "execution_count": 0,
      "outputs": []
    },
    {
      "cell_type": "markdown",
      "metadata": {
        "id": "bsRanZkCTqLw",
        "colab_type": "text"
      },
      "source": [
        "Mostrar os itens de lMyNumbers2..."
      ]
    },
    {
      "cell_type": "code",
      "metadata": {
        "id": "A-LGywmxTtOM",
        "colab_type": "code",
        "outputId": "0d73356d-a8c1-4529-f708-d679765480d7",
        "colab": {
          "base_uri": "https://localhost:8080/",
          "height": 191
        }
      },
      "source": [
        "lMyNumbers2"
      ],
      "execution_count": 0,
      "outputs": [
        {
          "output_type": "execute_result",
          "data": {
            "text/plain": [
              "[0.13436424411240122,\n",
              " 0.8474337369372327,\n",
              " 0.763774618976614,\n",
              " 0.2550690257394217,\n",
              " 0.49543508709194095,\n",
              " 0.4494910647887381,\n",
              " 0.651592972722763,\n",
              " 0.7887233511355132,\n",
              " 0.0938595867742349,\n",
              " 0.02834747652200631]"
            ]
          },
          "metadata": {
            "tags": []
          },
          "execution_count": 8
        }
      ]
    },
    {
      "cell_type": "markdown",
      "metadata": {
        "id": "4qKc7t8UHuYC",
        "colab_type": "text"
      },
      "source": [
        "# Substituir itens da lista\n",
        "> **Lembre-se**: Um objeto do tipo list é mutável e ordenado.\n",
        "\n",
        "* Considerando a lista lMyFruits list, suponha que queremos substituir o item 'Avocado' por 'Banana'. Para fazermos esta operação, trabalhe com os índices da lista.\n",
        "    * em nosso caso, o item 'Avocado' tem índice 1."
      ]
    },
    {
      "cell_type": "code",
      "metadata": {
        "id": "urEZxUiEIZqP",
        "colab_type": "code",
        "outputId": "04a968c8-0ed0-46af-d155-ee772679e6c6",
        "colab": {
          "base_uri": "https://localhost:8080/",
          "height": 35
        }
      },
      "source": [
        "lMyFruits= ['Apple', 'Avocado', 'Orange', 'Lemon']\n",
        "lMyFruits"
      ],
      "execution_count": 0,
      "outputs": [
        {
          "output_type": "execute_result",
          "data": {
            "text/plain": [
              "['Apple', 'Avocado', 'Orange', 'Lemon']"
            ]
          },
          "metadata": {
            "tags": []
          },
          "execution_count": 8
        }
      ]
    },
    {
      "cell_type": "code",
      "metadata": {
        "id": "A5Isn-TBInVm",
        "colab_type": "code",
        "outputId": "3248a529-54b6-4f02-f931-9bd505637ad0",
        "colab": {
          "base_uri": "https://localhost:8080/",
          "height": 35
        }
      },
      "source": [
        "lMyFruits[1]= 'Banana'\n",
        "lMyFruits"
      ],
      "execution_count": 0,
      "outputs": [
        {
          "output_type": "execute_result",
          "data": {
            "text/plain": [
              "['Apple', 'Banana', 'Orange', 'Lemon']"
            ]
          },
          "metadata": {
            "tags": []
          },
          "execution_count": 9
        }
      ]
    },
    {
      "cell_type": "markdown",
      "metadata": {
        "id": "cPU0PAPwJPeO",
        "colab_type": "text"
      },
      "source": [
        "Observe que o valor 'Avocado' de índice 1 foi substituído pelo valor 'Banana'."
      ]
    },
    {
      "cell_type": "markdown",
      "metadata": {
        "id": "sy0Zb8U6Jvkg",
        "colab_type": "text"
      },
      "source": [
        "## Solução alternativa 1\n",
        "> No exemplo anterior, precisávamos saber o índice para fazermos a substituição. Neste caso, não precisamos saber qual é o índice.\n",
        "    \n",
        "* função list.index(item)."
      ]
    },
    {
      "cell_type": "code",
      "metadata": {
        "id": "R4M1VX4zJ4jF",
        "colab_type": "code",
        "outputId": "2550186f-6557-4e33-ebc2-be0d066c972f",
        "colab": {
          "base_uri": "https://localhost:8080/",
          "height": 35
        }
      },
      "source": [
        "lMyFruits= ['Apple', 'Avocado', 'Orange', 'Lemon']\n",
        "lMyFruits"
      ],
      "execution_count": 0,
      "outputs": [
        {
          "output_type": "execute_result",
          "data": {
            "text/plain": [
              "['Apple', 'Avocado', 'Orange', 'Lemon']"
            ]
          },
          "metadata": {
            "tags": []
          },
          "execution_count": 10
        }
      ]
    },
    {
      "cell_type": "markdown",
      "metadata": {
        "id": "GXruhsvgUFJ0",
        "colab_type": "text"
      },
      "source": [
        "A função list.index(item) busca pelo item e retorna o índice associado ao item. \n",
        "\n",
        "> **Atenção**: A função retorna ValueError se o item não pertencer á lista. Para evitar esse erro, use \"in\" para previamente verificar se o item pertence à lista."
      ]
    },
    {
      "cell_type": "code",
      "metadata": {
        "id": "SFaiLPf5MJ69",
        "colab_type": "code",
        "outputId": "f366f3e4-8e1a-4b8f-d259-b6d3a39ba723",
        "colab": {
          "base_uri": "https://localhost:8080/",
          "height": 35
        }
      },
      "source": [
        "# Captura o índice do item 'Avocado'...\n",
        "iIndex= lMyFruits.index('Avocado')\n",
        "iIndex"
      ],
      "execution_count": 0,
      "outputs": [
        {
          "output_type": "execute_result",
          "data": {
            "text/plain": [
              "1"
            ]
          },
          "metadata": {
            "tags": []
          },
          "execution_count": 11
        }
      ]
    },
    {
      "cell_type": "code",
      "metadata": {
        "id": "UuVFidYbK-5A",
        "colab_type": "code",
        "outputId": "c29c9699-a4c9-4bab-ab6b-d2074bc435c5",
        "colab": {
          "base_uri": "https://localhost:8080/",
          "height": 35
        }
      },
      "source": [
        "# Substitui...\n",
        "lMyFruits[iIndex]= 'Banana'\n",
        "lMyFruits"
      ],
      "execution_count": 0,
      "outputs": [
        {
          "output_type": "execute_result",
          "data": {
            "text/plain": [
              "['Apple', 'Banana', 'Orange', 'Lemon']"
            ]
          },
          "metadata": {
            "tags": []
          },
          "execution_count": 12
        }
      ]
    },
    {
      "cell_type": "markdown",
      "metadata": {
        "id": "_bJxttTyL2cF",
        "colab_type": "text"
      },
      "source": [
        "Como podeos ver acima, o item 'Avocado', de índice iIndex, foi substituído pelo item 'Banana'."
      ]
    },
    {
      "cell_type": "markdown",
      "metadata": {
        "id": "zHrDYcYsLy6w",
        "colab_type": "text"
      },
      "source": [
        "## Solução alternativa 2\n",
        "* Considere o exemplo a seguir. Note agora que nossa nova lista contem itens repetidos."
      ]
    },
    {
      "cell_type": "code",
      "metadata": {
        "id": "u6KYpWinMGEE",
        "colab_type": "code",
        "outputId": "92a84b08-e3c8-4e54-e524-29b2c706aba3",
        "colab": {
          "base_uri": "https://localhost:8080/",
          "height": 34
        }
      },
      "source": [
        "lMyFruits= ['Apple', 'Avocado', 'Avocado', 'Orange', 'Lemon']\n",
        "lMyFruits"
      ],
      "execution_count": 1,
      "outputs": [
        {
          "output_type": "execute_result",
          "data": {
            "text/plain": [
              "['Apple', 'Avocado', 'Avocado', 'Orange', 'Lemon']"
            ]
          },
          "metadata": {
            "tags": []
          },
          "execution_count": 1
        }
      ]
    },
    {
      "cell_type": "markdown",
      "metadata": {
        "id": "tgaKqejQMP8k",
        "colab_type": "text"
      },
      "source": [
        "Desta vez, vamos substituir todas as ocorrências do item 'Avocado' por 'Banana'. Como vimos, lMyFruits.index('Avocado') retorna somente a primeira ocorrência de 'Avocado'."
      ]
    },
    {
      "cell_type": "markdown",
      "metadata": {
        "id": "rJb4b0gno_wg",
        "colab_type": "text"
      },
      "source": [
        "Quantos itens 'Avocado' temos na lista lMyFruits?"
      ]
    },
    {
      "cell_type": "code",
      "metadata": {
        "id": "X-hSFKWGpAXa",
        "colab_type": "code",
        "outputId": "11451009-d1ef-4d60-e84b-0be74c675977",
        "colab": {
          "base_uri": "https://localhost:8080/",
          "height": 35
        }
      },
      "source": [
        "lMyFruits.count('Avocado')"
      ],
      "execution_count": 0,
      "outputs": [
        {
          "output_type": "execute_result",
          "data": {
            "text/plain": [
              "2"
            ]
          },
          "metadata": {
            "tags": []
          },
          "execution_count": 32
        }
      ]
    },
    {
      "cell_type": "markdown",
      "metadata": {
        "id": "ijq9WULbNVm5",
        "colab_type": "text"
      },
      "source": [
        "### 1st Approach - Usar Loop (For)"
      ]
    },
    {
      "cell_type": "code",
      "metadata": {
        "id": "229o7tVeLTJ8",
        "colab_type": "code",
        "colab": {
          "base_uri": "https://localhost:8080/",
          "height": 34
        },
        "outputId": "0001bbb4-342e-4c67-ad26-37c6d058de18"
      },
      "source": [
        "# Library para medirmos o tempo de processamento\n",
        "import time\n",
        "time.clock()\n",
        "for f in lMyFruits:\n",
        "    if f== 'Avocado':\n",
        "        iIndex= lMyFruits.index('Avocado')\n",
        "        lMyFruits[iIndex]= 'Banana'\n",
        "time.clock()"
      ],
      "execution_count": 3,
      "outputs": [
        {
          "output_type": "execute_result",
          "data": {
            "text/plain": [
              "1.832526"
            ]
          },
          "metadata": {
            "tags": []
          },
          "execution_count": 3
        }
      ]
    },
    {
      "cell_type": "code",
      "metadata": {
        "id": "8UmfbcW4Nk06",
        "colab_type": "code",
        "outputId": "f8c1f779-fbfb-4b87-891f-a7aa907527f8",
        "colab": {
          "base_uri": "https://localhost:8080/",
          "height": 35
        }
      },
      "source": [
        "lMyFruits"
      ],
      "execution_count": 0,
      "outputs": [
        {
          "output_type": "execute_result",
          "data": {
            "text/plain": [
              "['Apple', 'Banana', 'Banana', 'Orange', 'Lemon']"
            ]
          },
          "metadata": {
            "tags": []
          },
          "execution_count": 22
        }
      ]
    },
    {
      "cell_type": "markdown",
      "metadata": {
        "id": "fqjYj4xNNt7Z",
        "colab_type": "text"
      },
      "source": [
        "**Missão cumprida**: todas as ocorrência do item 'Avocado' foi substituído pelo item 'Banana'."
      ]
    },
    {
      "cell_type": "markdown",
      "metadata": {
        "id": "D6Bep-NKpQHv",
        "colab_type": "text"
      },
      "source": [
        "Quantos itens 'Banana' temos na lista?"
      ]
    },
    {
      "cell_type": "code",
      "metadata": {
        "id": "QEUdwOn1pTM4",
        "colab_type": "code",
        "colab": {}
      },
      "source": [
        "lMyFruits.count('Avocado')"
      ],
      "execution_count": 0,
      "outputs": []
    },
    {
      "cell_type": "markdown",
      "metadata": {
        "id": "Tz9zcAgvRlXl",
        "colab_type": "text"
      },
      "source": [
        "### 2nd Approach - Usar Loop (While)"
      ]
    },
    {
      "cell_type": "code",
      "metadata": {
        "id": "jUHQgkFTR5le",
        "colab_type": "code",
        "outputId": "b987b0e3-92fe-451a-a1ad-475c2b910d53",
        "colab": {
          "base_uri": "https://localhost:8080/",
          "height": 35
        }
      },
      "source": [
        "lMyFruits= ['Apple', 'Avocado', 'Avocado', 'Orange', 'Lemon']\n",
        "lMyFruits"
      ],
      "execution_count": 0,
      "outputs": [
        {
          "output_type": "execute_result",
          "data": {
            "text/plain": [
              "['Apple', 'Avocado', 'Avocado', 'Orange', 'Lemon']"
            ]
          },
          "metadata": {
            "tags": []
          },
          "execution_count": 6
        }
      ]
    },
    {
      "cell_type": "code",
      "metadata": {
        "id": "VnX49H04Ryoh",
        "colab_type": "code",
        "colab": {
          "base_uri": "https://localhost:8080/",
          "height": 34
        },
        "outputId": "4884db93-b0e6-4cdd-8442-a21935a1a27b"
      },
      "source": [
        "# Library para medirmos o tempo de processamento\n",
        "import time\n",
        "time.clock()\n",
        "while 'Avocado' in lMyFruits:\n",
        "        iIndex= lMyFruits.index('Avocado')\n",
        "        lMyFruits[iIndex]= 'Banana'\n",
        "time.clock()"
      ],
      "execution_count": 4,
      "outputs": [
        {
          "output_type": "execute_result",
          "data": {
            "text/plain": [
              "1.908875"
            ]
          },
          "metadata": {
            "tags": []
          },
          "execution_count": 4
        }
      ]
    },
    {
      "cell_type": "markdown",
      "metadata": {
        "id": "GK_AcJwTjtVr",
        "colab_type": "text"
      },
      "source": [
        "Mostrando os resultados..."
      ]
    },
    {
      "cell_type": "code",
      "metadata": {
        "id": "iaVHNPCHR_iG",
        "colab_type": "code",
        "outputId": "15331545-c516-4997-ebdc-e9764f127bab",
        "colab": {
          "base_uri": "https://localhost:8080/",
          "height": 35
        }
      },
      "source": [
        "lMyFruits"
      ],
      "execution_count": 0,
      "outputs": [
        {
          "output_type": "execute_result",
          "data": {
            "text/plain": [
              "['Apple', 'Banana', 'Banana', 'Orange', 'Lemon']"
            ]
          },
          "metadata": {
            "tags": []
          },
          "execution_count": 8
        }
      ]
    },
    {
      "cell_type": "markdown",
      "metadata": {
        "id": "hfnI1P6Tj0sN",
        "colab_type": "text"
      },
      "source": [
        "**Missão cumprida**: todas as ocorrência do item 'Avocado' foi substituído pelo item 'Banana'."
      ]
    },
    {
      "cell_type": "markdown",
      "metadata": {
        "id": "9BC50R2bpYyK",
        "colab_type": "text"
      },
      "source": [
        "Mostrando quantos itens 'Banana' temos na lista:"
      ]
    },
    {
      "cell_type": "code",
      "metadata": {
        "id": "10pIy2lFpdMH",
        "colab_type": "code",
        "colab": {}
      },
      "source": [
        "lMyFruits.count('Avocado')"
      ],
      "execution_count": 0,
      "outputs": []
    },
    {
      "cell_type": "markdown",
      "metadata": {
        "id": "8_eYk9Y7NQ_8",
        "colab_type": "text"
      },
      "source": [
        "### 3rd Approach - Usar List Comprehension"
      ]
    },
    {
      "cell_type": "code",
      "metadata": {
        "id": "V0Pq9nc9OC4V",
        "colab_type": "code",
        "outputId": "d0ef3b74-6fa0-4ef7-8833-f2f38c265625",
        "colab": {
          "base_uri": "https://localhost:8080/",
          "height": 35
        }
      },
      "source": [
        "lMyFruits= ['Apple', 'Avocado', 'Avocado', 'Orange', 'Lemon']\n",
        "lMyFruits"
      ],
      "execution_count": 0,
      "outputs": [
        {
          "output_type": "execute_result",
          "data": {
            "text/plain": [
              "['Apple', 'Avocado', 'Avocado', 'Orange', 'Lemon']"
            ]
          },
          "metadata": {
            "tags": []
          },
          "execution_count": 9
        }
      ]
    },
    {
      "cell_type": "code",
      "metadata": {
        "id": "XCjXxLItN9R-",
        "colab_type": "code",
        "outputId": "706f90c9-55d3-42eb-8071-4f861f0baa9d",
        "colab": {
          "base_uri": "https://localhost:8080/",
          "height": 35
        }
      },
      "source": [
        "iIndices = [i for i, x in enumerate(lMyFruits) if x == \"Avocado\"]\n",
        "iIndices"
      ],
      "execution_count": 0,
      "outputs": [
        {
          "output_type": "execute_result",
          "data": {
            "text/plain": [
              "[1, 2]"
            ]
          },
          "metadata": {
            "tags": []
          },
          "execution_count": 11
        }
      ]
    },
    {
      "cell_type": "markdown",
      "metadata": {
        "id": "JZWUxNaeOMam",
        "colab_type": "text"
      },
      "source": [
        "Agora que temos os índices, vamos às substituições..."
      ]
    },
    {
      "cell_type": "code",
      "metadata": {
        "id": "QAj58zQOOR4n",
        "colab_type": "code",
        "colab": {}
      },
      "source": [
        "for i in iIndices:\n",
        "    lMyFruits[i]= 'Banana'\n",
        "    \n",
        "lMyFruits"
      ],
      "execution_count": 0,
      "outputs": []
    },
    {
      "cell_type": "markdown",
      "metadata": {
        "id": "Y_iPcauiO-Ay",
        "colab_type": "text"
      },
      "source": [
        "**Missão cumprida**: todas as ocorrência do item 'Avocado' foi substituído pelo item 'Banana'."
      ]
    },
    {
      "cell_type": "markdown",
      "metadata": {
        "id": "lbnV8sGopfLx",
        "colab_type": "text"
      },
      "source": [
        "Mostrando quantos itens 'Banana' temos na lista:"
      ]
    },
    {
      "cell_type": "code",
      "metadata": {
        "id": "UQVmdJJYpiKk",
        "colab_type": "code",
        "colab": {}
      },
      "source": [
        "lMyFruits.count('Banana')"
      ],
      "execution_count": 0,
      "outputs": []
    },
    {
      "cell_type": "markdown",
      "metadata": {
        "id": "vnT-VvRhP0y1",
        "colab_type": "text"
      },
      "source": [
        "> Como eu disse anteriormente, o Python é muito versátil. Há várias formas de se resolver o mesmo problema!\n",
        "\n",
        "Portanto:\n",
        "\n",
        "> Resolva o problema. Depois, quando tiver tempo, otimize o processo!"
      ]
    },
    {
      "cell_type": "markdown",
      "metadata": {
        "id": "8mie8qFIQ3vi",
        "colab_type": "text"
      },
      "source": [
        "# Verificando se o item pertence à lista"
      ]
    },
    {
      "cell_type": "code",
      "metadata": {
        "id": "xUP_XQqXRD2j",
        "colab_type": "code",
        "outputId": "93eef8d4-786d-40d0-bf1c-93564cf58e8b",
        "colab": {
          "base_uri": "https://localhost:8080/",
          "height": 35
        }
      },
      "source": [
        "lMyFruits= ['Apple', 'Avocado', 'Avocado', 'Orange', 'Lemon']\n",
        "lMyFruits"
      ],
      "execution_count": 0,
      "outputs": [
        {
          "output_type": "execute_result",
          "data": {
            "text/plain": [
              "['Apple', 'Avocado', 'Avocado', 'Orange', 'Lemon']"
            ]
          },
          "metadata": {
            "tags": []
          },
          "execution_count": 13
        }
      ]
    },
    {
      "cell_type": "code",
      "metadata": {
        "id": "OwE-XASRRJub",
        "colab_type": "code",
        "outputId": "e436c16b-7068-482e-f2f0-7ebb902df24d",
        "colab": {
          "base_uri": "https://localhost:8080/",
          "height": 35
        }
      },
      "source": [
        "'Avocado' in MyFruits"
      ],
      "execution_count": 0,
      "outputs": [
        {
          "output_type": "execute_result",
          "data": {
            "text/plain": [
              "True"
            ]
          },
          "metadata": {
            "tags": []
          },
          "execution_count": 32
        }
      ]
    },
    {
      "cell_type": "code",
      "metadata": {
        "id": "xQKD0pw8RM6x",
        "colab_type": "code",
        "outputId": "2b86bd57-840d-459d-b69e-c41b1119b7f0",
        "colab": {
          "base_uri": "https://localhost:8080/",
          "height": 35
        }
      },
      "source": [
        "'Blueberry' in MyFruits"
      ],
      "execution_count": 0,
      "outputs": [
        {
          "output_type": "execute_result",
          "data": {
            "text/plain": [
              "False"
            ]
          },
          "metadata": {
            "tags": []
          },
          "execution_count": 33
        }
      ]
    },
    {
      "cell_type": "markdown",
      "metadata": {
        "id": "JCDICiEfFzLt",
        "colab_type": "text"
      },
      "source": [
        "# Adicionando itens à lista"
      ]
    },
    {
      "cell_type": "markdown",
      "metadata": {
        "id": "Xt3BB3c07OuX",
        "colab_type": "text"
      },
      "source": [
        "### Operador '+'"
      ]
    },
    {
      "cell_type": "code",
      "metadata": {
        "id": "sgexobFL7S-O",
        "colab_type": "code",
        "outputId": "0b272fe2-55a9-4a20-da09-6988ae7934fc",
        "colab": {
          "base_uri": "https://localhost:8080/",
          "height": 35
        }
      },
      "source": [
        "lMyFruits= ['Apple', 'Avocado', 'Orange', 'Lemon']\n",
        "lFruitsToAdd= ['Apple', 'Blueberry', 'Kiwi']\n",
        "lMyFruits= lMyFruits+lFruitsToAdd\n",
        "lMyFruits"
      ],
      "execution_count": 0,
      "outputs": [
        {
          "output_type": "execute_result",
          "data": {
            "text/plain": [
              "['Apple', 'Avocado', 'Orange', 'Lemon', 'Apple', 'Blueberry', 'Kiwi']"
            ]
          },
          "metadata": {
            "tags": []
          },
          "execution_count": 2
        }
      ]
    },
    {
      "cell_type": "markdown",
      "metadata": {
        "id": "zgu0lFrB7vZN",
        "colab_type": "text"
      },
      "source": [
        "Observe que acrescentamos (facilmente) a lista lFruitsToAdd ao final de lMyFruits."
      ]
    },
    {
      "cell_type": "markdown",
      "metadata": {
        "id": "AZPQS_wlJiwd",
        "colab_type": "text"
      },
      "source": [
        "## Método list.append(New_item)"
      ]
    },
    {
      "cell_type": "code",
      "metadata": {
        "id": "2MgjNl_klPzQ",
        "colab_type": "code",
        "outputId": "bcd9dd2d-d51a-4a56-b15a-7f9b903c61eb",
        "colab": {
          "base_uri": "https://localhost:8080/",
          "height": 35
        }
      },
      "source": [
        "lMyFruits= ['Apple', 'Avocado', 'Orange', 'Lemon']\n",
        "lMyFruits"
      ],
      "execution_count": 0,
      "outputs": [
        {
          "output_type": "execute_result",
          "data": {
            "text/plain": [
              "['Apple', 'Avocado', 'Orange', 'Lemon']"
            ]
          },
          "metadata": {
            "tags": []
          },
          "execution_count": 14
        }
      ]
    },
    {
      "cell_type": "code",
      "metadata": {
        "id": "2w7h0h2_T5nN",
        "colab_type": "code",
        "outputId": "ff3f22f6-6ad8-46da-d2b6-365db471d3dc",
        "colab": {
          "base_uri": "https://localhost:8080/",
          "height": 35
        }
      },
      "source": [
        "# Vamos adicionar mais uma ocorrência de 'Avocado' á nossa lista...\n",
        "lMyFruits.append('Avocado')\n",
        "lMyFruits"
      ],
      "execution_count": 0,
      "outputs": [
        {
          "output_type": "execute_result",
          "data": {
            "text/plain": [
              "['Apple', 'Avocado', 'Orange', 'Lemon', 'Avocado']"
            ]
          },
          "metadata": {
            "tags": []
          },
          "execution_count": 16
        }
      ]
    },
    {
      "cell_type": "markdown",
      "metadata": {
        "id": "HTdjnd0dUFo3",
        "colab_type": "text"
      },
      "source": [
        "Agora temos 2 ocorrências para o item 'Avocado'. Observe que o novo item foi acrescentado ao final da lista lMyFruits."
      ]
    },
    {
      "cell_type": "code",
      "metadata": {
        "id": "-GMZYKhKpoTB",
        "colab_type": "code",
        "colab": {}
      },
      "source": [
        "lMyFruits.count('Avocado')"
      ],
      "execution_count": 0,
      "outputs": []
    },
    {
      "cell_type": "markdown",
      "metadata": {
        "id": "h1bwFpBQHe8_",
        "colab_type": "text"
      },
      "source": [
        "# Adicionando muitos itens na lista\n",
        "* Desta vez, vamos adicionar/acrescentar mais de 1 item à nossa lista. vamos acrescentar:\n",
        "    * More 2 Coconuts;\n",
        "    * More 3 Melons;\n",
        "    * More 4 Mandarin;\n",
        "    * More 6 Mango;\n",
        "    * More 10 Oranges;"
      ]
    },
    {
      "cell_type": "markdown",
      "metadata": {
        "id": "ja0eK11YMIb8",
        "colab_type": "text"
      },
      "source": [
        "### Método list.extend()"
      ]
    },
    {
      "cell_type": "code",
      "metadata": {
        "id": "ncmK6kzmyMnO",
        "colab_type": "code",
        "colab": {}
      },
      "source": [
        "lMyFruits= ['Apple', 'Avocado', 'Orange', 'Lemon']\n",
        "lMyFruits"
      ],
      "execution_count": 0,
      "outputs": []
    },
    {
      "cell_type": "code",
      "metadata": {
        "id": "tRGQa_sWMQ_w",
        "colab_type": "code",
        "outputId": "750fe317-b918-41a6-d442-bb866b640d27",
        "colab": {
          "base_uri": "https://localhost:8080/",
          "height": 173
        }
      },
      "source": [
        "lMyFruits.extend(['Blueberry', 'Kiwi'])\n",
        "lMyFruits"
      ],
      "execution_count": 0,
      "outputs": [
        {
          "output_type": "execute_result",
          "data": {
            "text/plain": [
              "['Apple',\n",
              " 'Avocado',\n",
              " 'Avocado',\n",
              " 'Orange',\n",
              " 'Lemon',\n",
              " 'Blueberry',\n",
              " 'Kiwi',\n",
              " 'Blueberry',\n",
              " 'Kiwi']"
            ]
          },
          "metadata": {
            "tags": []
          },
          "execution_count": 96
        }
      ]
    },
    {
      "cell_type": "markdown",
      "metadata": {
        "id": "26XCYWvaN9tl",
        "colab_type": "text"
      },
      "source": [
        "Note que os novos itens 'Blueberry' e 'Kiwi' foram adicionados á lista."
      ]
    },
    {
      "cell_type": "markdown",
      "metadata": {
        "id": "dOA7n9_i6oc0",
        "colab_type": "text"
      },
      "source": [
        "## Diferença entre append() e extend()\n",
        "* Considere o exemplo a seguir:"
      ]
    },
    {
      "cell_type": "code",
      "metadata": {
        "id": "vESZVTVi7CJm",
        "colab_type": "code",
        "outputId": "3ca7ce49-69c3-4e9b-fcd5-7e5a1bf59fe3",
        "colab": {
          "base_uri": "https://localhost:8080/",
          "height": 34
        }
      },
      "source": [
        "# Exemplo 1: append()\n",
        "letras_1= ['a','b']\n",
        "letras_1.append('c')\n",
        "letras_1"
      ],
      "execution_count": 0,
      "outputs": [
        {
          "output_type": "execute_result",
          "data": {
            "text/plain": [
              "['a', 'b', 'c']"
            ]
          },
          "metadata": {
            "tags": []
          },
          "execution_count": 2
        }
      ]
    },
    {
      "cell_type": "code",
      "metadata": {
        "id": "0ZqkRlf47hn6",
        "colab_type": "code",
        "outputId": "bba47e63-a472-4512-98e9-6a5921f4a964",
        "colab": {
          "base_uri": "https://localhost:8080/",
          "height": 34
        }
      },
      "source": [
        "# Exemplo 2: append()\n",
        "letras_1= ['a','b']\n",
        "letras_1.append(['c'])\n",
        "letras_1"
      ],
      "execution_count": 0,
      "outputs": [
        {
          "output_type": "execute_result",
          "data": {
            "text/plain": [
              "['a', 'b', ['c']]"
            ]
          },
          "metadata": {
            "tags": []
          },
          "execution_count": 3
        }
      ]
    },
    {
      "cell_type": "code",
      "metadata": {
        "id": "MWqtNr8T7wMi",
        "colab_type": "code",
        "outputId": "a69886cc-b472-4b07-c856-ffaa571cfb84",
        "colab": {
          "base_uri": "https://localhost:8080/",
          "height": 34
        }
      },
      "source": [
        "# Exemplo 3: extend()\n",
        "letras_1= ['a','b']\n",
        "letras_1.extend('c')\n",
        "letras_1"
      ],
      "execution_count": 0,
      "outputs": [
        {
          "output_type": "execute_result",
          "data": {
            "text/plain": [
              "['a', 'b', 'c']"
            ]
          },
          "metadata": {
            "tags": []
          },
          "execution_count": 4
        }
      ]
    },
    {
      "cell_type": "code",
      "metadata": {
        "id": "4qQym2GM76ou",
        "colab_type": "code",
        "outputId": "7eec7237-0a19-4c1b-86c6-2c3b18b70175",
        "colab": {
          "base_uri": "https://localhost:8080/",
          "height": 34
        }
      },
      "source": [
        "# Exemplo 4: extend()\n",
        "letras_1= ['a','b']\n",
        "letras_1.extend(['c'])\n",
        "letras_1"
      ],
      "execution_count": 0,
      "outputs": [
        {
          "output_type": "execute_result",
          "data": {
            "text/plain": [
              "['a', 'b', 'c']"
            ]
          },
          "metadata": {
            "tags": []
          },
          "execution_count": 5
        }
      ]
    },
    {
      "cell_type": "markdown",
      "metadata": {
        "id": "7CpjGgpv8DO4",
        "colab_type": "text"
      },
      "source": [
        "Compare os exemplos 1 com 3 e 2 com 4. Qual a diferença?"
      ]
    },
    {
      "cell_type": "markdown",
      "metadata": {
        "id": "8-qaJkh-UoFX",
        "colab_type": "text"
      },
      "source": [
        "# Removendo itens da lista\n",
        "* list.remove(item) procura pela primeira ocorrência de item e então o remove. \n",
        "\n",
        "> **Atenção**: A função retorna ValueError caso o elemento não pertença à lista. Portanto, primeiro verifique se o item pertence á lista usando \"in\"."
      ]
    },
    {
      "cell_type": "code",
      "metadata": {
        "id": "1d2oL5AWVdqo",
        "colab_type": "code",
        "outputId": "b47a86a4-84b9-4d5f-ee33-ec2fce45ce03",
        "colab": {
          "base_uri": "https://localhost:8080/",
          "height": 35
        }
      },
      "source": [
        "lMyFruits= ['Apple', 'Avocado', 'Avocado', 'Orange', 'Lemon']\n",
        "lMyFruits"
      ],
      "execution_count": 0,
      "outputs": [
        {
          "output_type": "execute_result",
          "data": {
            "text/plain": [
              "['Apple', 'Avocado', 'Avocado', 'Orange', 'Lemon']"
            ]
          },
          "metadata": {
            "tags": []
          },
          "execution_count": 34
        }
      ]
    },
    {
      "cell_type": "markdown",
      "metadata": {
        "id": "8fHgLVWIVhHz",
        "colab_type": "text"
      },
      "source": [
        "Suponha que queremos remover o item 'Avocado'..."
      ]
    },
    {
      "cell_type": "code",
      "metadata": {
        "id": "gka71cYTVljB",
        "colab_type": "code",
        "outputId": "842e22ca-68b0-412c-f7d2-b432b01d2afd",
        "colab": {
          "base_uri": "https://localhost:8080/",
          "height": 35
        }
      },
      "source": [
        "lMyFruits.remove('Avocado')\n",
        "lMyFruits"
      ],
      "execution_count": 0,
      "outputs": [
        {
          "output_type": "execute_result",
          "data": {
            "text/plain": [
              "['Apple', 'Avocado', 'Orange', 'Lemon']"
            ]
          },
          "metadata": {
            "tags": []
          },
          "execution_count": 35
        }
      ]
    },
    {
      "cell_type": "markdown",
      "metadata": {
        "id": "bZz77jK1Vszw",
        "colab_type": "text"
      },
      "source": [
        "dado que temos 2 ocorrências para o item 'Avocado', a função removeu a primeira ocorrência."
      ]
    },
    {
      "cell_type": "markdown",
      "metadata": {
        "id": "LipQNt0PW7_-",
        "colab_type": "text"
      },
      "source": [
        "# Contando itens de uma lista"
      ]
    },
    {
      "cell_type": "code",
      "metadata": {
        "id": "lnJehXcEXQ6-",
        "colab_type": "code",
        "colab": {}
      },
      "source": [
        "# Lista de frutas:\n",
        "lMyFruits= ['Apple','Watermelon','Orange','Pear','Cherry','Strawberry','Nectarine','Grape',\n",
        "'Mango','Blueberry','Pomegranate','Carambola','Plum','Banana','Raspberry','Mandarin','Jackfruit',\n",
        "'Papaya','Kiwi','Pineapple','Lime','Lemon','Apricot','Grapefruit','Melon','Coconut','Avocado','Peach']"
      ],
      "execution_count": 0,
      "outputs": []
    },
    {
      "cell_type": "markdown",
      "metadata": {
        "id": "KBzYhShRXPcS",
        "colab_type": "text"
      },
      "source": [
        "Agora, vamos adicionar novos itens à lista::\n",
        "* 2 Coconuts;\n",
        "* 3 Melons;\n",
        "* 4 Mandarin;\n",
        "* 6 Mango;\n",
        "* 10 Oranges;\n",
        "\n",
        "> Se quisermos adicionar muitos elementos à lista, então usamos a função list.extend()."
      ]
    },
    {
      "cell_type": "code",
      "metadata": {
        "id": "S7cRGk0wXqnP",
        "colab_type": "code",
        "outputId": "d763228b-f00e-46c1-889a-d3aaddc0026e",
        "colab": {
          "base_uri": "https://localhost:8080/",
          "height": 918
        }
      },
      "source": [
        "lMyFruits.extend(('Coconut','Coconut','Melon','Melon','Melon','Mandarin','Mandarin','Mandarin','Mandarin','Mango','Mango','Mango','Mango','Mango','Mango','Orange','Orange','Orange','Orange','Orange','Orange','Orange','Orange','Orange','Orange'))\n",
        "lMyFruits"
      ],
      "execution_count": 0,
      "outputs": [
        {
          "output_type": "execute_result",
          "data": {
            "text/plain": [
              "['Apple',\n",
              " 'Watermelon',\n",
              " 'Orange',\n",
              " 'Pear',\n",
              " 'Cherry',\n",
              " 'Strawberry',\n",
              " 'Nectarine',\n",
              " 'Grape',\n",
              " 'Mango',\n",
              " 'Blueberry',\n",
              " 'Pomegranate',\n",
              " 'Carambola',\n",
              " 'Plum',\n",
              " 'Banana',\n",
              " 'Raspberry',\n",
              " 'Mandarin',\n",
              " 'Jackfruit',\n",
              " 'Papaya',\n",
              " 'Kiwi',\n",
              " 'Pineapple',\n",
              " 'Lime',\n",
              " 'Lemon',\n",
              " 'Apricot',\n",
              " 'Grapefruit',\n",
              " 'Melon',\n",
              " 'Coconut',\n",
              " 'Avocado',\n",
              " 'Peach',\n",
              " 'Coconut',\n",
              " 'Coconut',\n",
              " 'Melon',\n",
              " 'Melon',\n",
              " 'Melon',\n",
              " 'Mandarin',\n",
              " 'Mandarin',\n",
              " 'Mandarin',\n",
              " 'Mandarin',\n",
              " 'Mango',\n",
              " 'Mango',\n",
              " 'Mango',\n",
              " 'Mango',\n",
              " 'Mango',\n",
              " 'Mango',\n",
              " 'Orange',\n",
              " 'Orange',\n",
              " 'Orange',\n",
              " 'Orange',\n",
              " 'Orange',\n",
              " 'Orange',\n",
              " 'Orange',\n",
              " 'Orange',\n",
              " 'Orange',\n",
              " 'Orange']"
            ]
          },
          "metadata": {
            "tags": []
          },
          "execution_count": 3
        }
      ]
    },
    {
      "cell_type": "markdown",
      "metadata": {
        "id": "LdvyHRDQX4bW",
        "colab_type": "text"
      },
      "source": [
        "Quantas 'Orange' temos na lista lMyFruits?"
      ]
    },
    {
      "cell_type": "code",
      "metadata": {
        "id": "RrPVP92MX5pa",
        "colab_type": "code",
        "outputId": "db637c65-540b-41e3-c1d7-1ea2e692e92e",
        "colab": {
          "base_uri": "https://localhost:8080/",
          "height": 34
        }
      },
      "source": [
        "lMyFruits.count('Orange')"
      ],
      "execution_count": 0,
      "outputs": [
        {
          "output_type": "execute_result",
          "data": {
            "text/plain": [
              "11"
            ]
          },
          "metadata": {
            "tags": []
          },
          "execution_count": 4
        }
      ]
    },
    {
      "cell_type": "markdown",
      "metadata": {
        "id": "k4swOzdQYDq2",
        "colab_type": "text"
      },
      "source": [
        "## Challenge:\n",
        "* desenvolver uma função que retorne a frequência de um dado item."
      ]
    },
    {
      "cell_type": "code",
      "metadata": {
        "id": "CX8M7yz9rfTK",
        "colab_type": "code",
        "outputId": "d984799f-4f08-4f4e-ddf5-d8fb32ec40f8",
        "colab": {
          "base_uri": "https://localhost:8080/",
          "height": 35
        }
      },
      "source": [
        "lMyFruits= ['Apple', 'Avocado', 'Avocado', 'Orange', 'Lemon']\n",
        "lMyFruits"
      ],
      "execution_count": 0,
      "outputs": [
        {
          "output_type": "execute_result",
          "data": {
            "text/plain": [
              "['Apple', 'Avocado', 'Avocado', 'Orange', 'Lemon']"
            ]
          },
          "metadata": {
            "tags": []
          },
          "execution_count": 41
        }
      ]
    },
    {
      "cell_type": "code",
      "metadata": {
        "id": "gTYHoZNdYZKV",
        "colab_type": "code",
        "colab": {}
      },
      "source": [
        "def ReturnFreq(element, lList):\n",
        "    if element not in lList:\n",
        "        print(\"Esta fruta não está na lista\")\n",
        "    else:\n",
        "        return lList.count(element)       "
      ],
      "execution_count": 0,
      "outputs": []
    },
    {
      "cell_type": "code",
      "metadata": {
        "id": "w976P6ZNY5Gh",
        "colab_type": "code",
        "outputId": "5f1a9e9b-372a-4e03-8f2b-196d71bbdbd7",
        "colab": {
          "base_uri": "https://localhost:8080/",
          "height": 35
        }
      },
      "source": [
        "ReturnFreq('Orange', lMyFruits)"
      ],
      "execution_count": 0,
      "outputs": [
        {
          "output_type": "execute_result",
          "data": {
            "text/plain": [
              "1"
            ]
          },
          "metadata": {
            "tags": []
          },
          "execution_count": 43
        }
      ]
    },
    {
      "cell_type": "code",
      "metadata": {
        "id": "mRO7iGgfZEsP",
        "colab_type": "code",
        "outputId": "2e8ee5a6-9e41-4da1-ef5e-8b0f4bbf6670",
        "colab": {
          "base_uri": "https://localhost:8080/",
          "height": 35
        }
      },
      "source": [
        "ReturnFreq('Abracadabra', lMyFruits)"
      ],
      "execution_count": 0,
      "outputs": [
        {
          "output_type": "stream",
          "text": [
            "Esta fruta não está na lista\n"
          ],
          "name": "stdout"
        }
      ]
    },
    {
      "cell_type": "markdown",
      "metadata": {
        "id": "iJcKp8cVsGFV",
        "colab_type": "text"
      },
      "source": [
        "## Frequência dos itens de uma lista"
      ]
    },
    {
      "cell_type": "code",
      "metadata": {
        "id": "M_GRKmjPsJLg",
        "colab_type": "code",
        "colab": {}
      },
      "source": [
        "# Função para calcular a frequência dos itens\n",
        "def FruitsFreq(my_list):    \n",
        "    MySetOfFruits= set(my_list)    \n",
        "    for item in MySetOfFruits: \n",
        "        freq= my_list.count(item)\n",
        "        print(f'{item}: {freq}')"
      ],
      "execution_count": 0,
      "outputs": []
    },
    {
      "cell_type": "code",
      "metadata": {
        "id": "OO6RIJNFsyQm",
        "colab_type": "code",
        "outputId": "1988af1c-c8d2-4714-d0b1-278fb808d8af",
        "colab": {
          "base_uri": "https://localhost:8080/",
          "height": 35
        }
      },
      "source": [
        "lMyFruits= ['Apple', 'Avocado', 'Avocado', 'Orange', 'Lemon']\n",
        "lMyFruits"
      ],
      "execution_count": 0,
      "outputs": [
        {
          "output_type": "execute_result",
          "data": {
            "text/plain": [
              "['Apple', 'Avocado', 'Avocado', 'Orange', 'Lemon']"
            ]
          },
          "metadata": {
            "tags": []
          },
          "execution_count": 69
        }
      ]
    },
    {
      "cell_type": "code",
      "metadata": {
        "id": "j2D3_7iWs4tF",
        "colab_type": "code",
        "outputId": "c981dd1b-217b-4dd7-f74d-3cde08427fdc",
        "colab": {
          "base_uri": "https://localhost:8080/",
          "height": 87
        }
      },
      "source": [
        "FruitsFreq(lMyFruits) "
      ],
      "execution_count": 0,
      "outputs": [
        {
          "output_type": "stream",
          "text": [
            "Apple: 1\n",
            "Avocado: 2\n",
            "Orange: 1\n",
            "Lemon: 1\n"
          ],
          "name": "stdout"
        }
      ]
    },
    {
      "cell_type": "markdown",
      "metadata": {
        "id": "proySjx4V_vV",
        "colab_type": "text"
      },
      "source": [
        "# Ordenando itens\n",
        "> Para ordenar itens, prefira a função sorted()."
      ]
    },
    {
      "cell_type": "code",
      "metadata": {
        "id": "FezitqAfWTV_",
        "colab_type": "code",
        "outputId": "6de28789-9a12-4548-863b-c41290900418",
        "colab": {
          "base_uri": "https://localhost:8080/",
          "height": 35
        }
      },
      "source": [
        "lMyFruits= ['Apple', 'Avocado', 'Avocado', 'Orange', 'Lemon']\n",
        "lMyFruits"
      ],
      "execution_count": 0,
      "outputs": [
        {
          "output_type": "execute_result",
          "data": {
            "text/plain": [
              "['Apple', 'Avocado', 'Avocado', 'Orange', 'Lemon']"
            ]
          },
          "metadata": {
            "tags": []
          },
          "execution_count": 71
        }
      ]
    },
    {
      "cell_type": "markdown",
      "metadata": {
        "id": "y3X6DegiWrtt",
        "colab_type": "text"
      },
      "source": [
        "## Ordem ascendente"
      ]
    },
    {
      "cell_type": "code",
      "metadata": {
        "id": "qoBIdA0kWhJg",
        "colab_type": "code",
        "outputId": "b092b792-f2b5-4f51-a074-24742632650c",
        "colab": {
          "base_uri": "https://localhost:8080/",
          "height": 35
        }
      },
      "source": [
        "sorted(lMyFruits)"
      ],
      "execution_count": 0,
      "outputs": [
        {
          "output_type": "execute_result",
          "data": {
            "text/plain": [
              "['Apple', 'Avocado', 'Avocado', 'Lemon', 'Orange']"
            ]
          },
          "metadata": {
            "tags": []
          },
          "execution_count": 72
        }
      ]
    },
    {
      "cell_type": "markdown",
      "metadata": {
        "id": "CYlBRb0PWwW4",
        "colab_type": "text"
      },
      "source": [
        "## Ordem descendente"
      ]
    },
    {
      "cell_type": "code",
      "metadata": {
        "id": "V2ZSxvsgWzSG",
        "colab_type": "code",
        "outputId": "7bfd19d1-1345-474c-daa0-ff6d0056e1d1",
        "colab": {
          "base_uri": "https://localhost:8080/",
          "height": 35
        }
      },
      "source": [
        "sorted(lMyFruits, reverse= True)"
      ],
      "execution_count": 0,
      "outputs": [
        {
          "output_type": "execute_result",
          "data": {
            "text/plain": [
              "['Orange', 'Lemon', 'Avocado', 'Avocado', 'Apple']"
            ]
          },
          "metadata": {
            "tags": []
          },
          "execution_count": 73
        }
      ]
    },
    {
      "cell_type": "markdown",
      "metadata": {
        "id": "iDzA-iCmB_ft",
        "colab_type": "text"
      },
      "source": [
        "# Python Lists Comprehension\n",
        "\n",
        "Sintaxe básica:\n",
        "\n",
        "[ expression for item in list if conditional ]\n",
        "\n",
        "que é equivalente a:\n",
        "\n",
        "for item in list:\n",
        "    if conditional:\n",
        "        expression"
      ]
    },
    {
      "cell_type": "markdown",
      "metadata": {
        "id": "uXhcbFzvPi92",
        "colab_type": "text"
      },
      "source": [
        "## Exemplo 1\n",
        "* Gerar números aleatórios usando List Comprehension."
      ]
    },
    {
      "cell_type": "code",
      "metadata": {
        "id": "cnB2eYigFq3o",
        "colab_type": "code",
        "colab": {}
      },
      "source": [
        "import random\n",
        "random.seed(20111974)\n",
        "x= [random.random() for _ in range(5)]"
      ],
      "execution_count": 0,
      "outputs": []
    },
    {
      "cell_type": "code",
      "metadata": {
        "id": "giOtZF37MeIv",
        "colab_type": "code",
        "outputId": "7bb75450-e4b6-4053-c6ab-b3a15c13bfba",
        "colab": {
          "base_uri": "https://localhost:8080/",
          "height": 104
        }
      },
      "source": [
        "x"
      ],
      "execution_count": 0,
      "outputs": [
        {
          "output_type": "execute_result",
          "data": {
            "text/plain": [
              "[0.19610373666228842,\n",
              " 0.6284677547909708,\n",
              " 0.8852157439737881,\n",
              " 0.3845591988503412,\n",
              " 0.5520050481393948]"
            ]
          },
          "metadata": {
            "tags": []
          },
          "execution_count": 79
        }
      ]
    },
    {
      "cell_type": "markdown",
      "metadata": {
        "id": "YM8RdnC_PsDy",
        "colab_type": "text"
      },
      "source": [
        "## Exemplo 2"
      ]
    },
    {
      "cell_type": "code",
      "metadata": {
        "id": "tANHZTvzP0JT",
        "colab_type": "code",
        "outputId": "881d1234-bc88-464b-a7e6-2ba084f63899",
        "colab": {
          "base_uri": "https://localhost:8080/",
          "height": 35
        }
      },
      "source": [
        "lList= [1, 2, 3, 4]\n",
        "lSquares = []\n",
        "\n",
        "for n in lList:\n",
        "    lSquares.append(n**2)\n",
        "\n",
        "print(lSquares)"
      ],
      "execution_count": 0,
      "outputs": [
        {
          "output_type": "stream",
          "text": [
            "[1, 4, 9, 16]\n"
          ],
          "name": "stdout"
        }
      ]
    },
    {
      "cell_type": "markdown",
      "metadata": {
        "id": "pzbO6CtYQC7a",
        "colab_type": "text"
      },
      "source": [
        "Solução usando List Comprehension:"
      ]
    },
    {
      "cell_type": "code",
      "metadata": {
        "id": "V-tyEngVP8wn",
        "colab_type": "code",
        "outputId": "ed91e963-13f8-43a0-d9d8-3e71110dd71b",
        "colab": {
          "base_uri": "https://localhost:8080/",
          "height": 35
        }
      },
      "source": [
        "lList= [1, 2, 3, 4]\n",
        "lSquares = [n**2 for n in lList]\n",
        "\n",
        "print(lSquares)"
      ],
      "execution_count": 0,
      "outputs": [
        {
          "output_type": "stream",
          "text": [
            "[1, 4, 9, 16]\n"
          ],
          "name": "stdout"
        }
      ]
    },
    {
      "cell_type": "markdown",
      "metadata": {
        "id": "u4VBevzNQlGU",
        "colab_type": "text"
      },
      "source": [
        "## Exemplo 3\n",
        "* Encontrar númros comuns em duas listas."
      ]
    },
    {
      "cell_type": "code",
      "metadata": {
        "id": "0BnX7yZGQv-O",
        "colab_type": "code",
        "outputId": "158ebf79-8f07-4935-9e21-e5b7c93980bb",
        "colab": {
          "base_uri": "https://localhost:8080/",
          "height": 34
        }
      },
      "source": [
        "lList_A = [1, 2, 3, 4]\n",
        "lList_B = [2, 3, 4, 5]\n",
        "\n",
        "lCommon_Num = []\n",
        "\n",
        "for a in lList_A:\n",
        "    for b in lList_B:\n",
        "        if a == b:\n",
        "            lCommon_Num.append(a)\n",
        "      \n",
        "print(lCommon_Num)"
      ],
      "execution_count": 0,
      "outputs": [
        {
          "output_type": "stream",
          "text": [
            "[2, 3, 4]\n"
          ],
          "name": "stdout"
        }
      ]
    },
    {
      "cell_type": "markdown",
      "metadata": {
        "id": "VFewu6qrQw_a",
        "colab_type": "text"
      },
      "source": [
        "Solução usando List Comprehension..."
      ]
    },
    {
      "cell_type": "code",
      "metadata": {
        "id": "mNt-OixCQ1Bg",
        "colab_type": "code",
        "outputId": "a3d03f1e-d4e7-490c-ffc5-eced4a97879f",
        "colab": {
          "base_uri": "https://localhost:8080/",
          "height": 35
        }
      },
      "source": [
        "lList_A = [1, 2, 3, 4]\n",
        "lList_B = [2, 3, 4, 5]\n",
        "\n",
        "lCommon_Num = [a for a in lList_A for b in lList_B if a == b]\n",
        "\n",
        "print(lCommon_Num)"
      ],
      "execution_count": 0,
      "outputs": [
        {
          "output_type": "stream",
          "text": [
            "[2, 3, 4]\n"
          ],
          "name": "stdout"
        }
      ]
    },
    {
      "cell_type": "markdown",
      "metadata": {
        "id": "_U6f_xLXkjus",
        "colab_type": "text"
      },
      "source": [
        "## Exemplo 4: A série de Fibonacci"
      ]
    },
    {
      "cell_type": "markdown",
      "metadata": {
        "id": "5YcA-c9csxnJ",
        "colab_type": "text"
      },
      "source": [
        "Antes de mostrarmos o resultado da série de Fibonacci, vamos ver como funciona o **yield**."
      ]
    },
    {
      "cell_type": "code",
      "metadata": {
        "id": "IUENXZIbs5cD",
        "colab_type": "code",
        "outputId": "c15970e8-fc34-4528-db53-8311e7138d6c",
        "colab": {
          "base_uri": "https://localhost:8080/",
          "height": 187
        }
      },
      "source": [
        "def nextSquare(): \n",
        "    i = 1; \n",
        "  \n",
        "    while True: \n",
        "        yield i*i                 \n",
        "        i += 1\n",
        "\n",
        "for num in nextSquare(): \n",
        "    if num > 100: \n",
        "         break    \n",
        "    print(num) "
      ],
      "execution_count": 0,
      "outputs": [
        {
          "output_type": "stream",
          "text": [
            "1\n",
            "4\n",
            "9\n",
            "16\n",
            "25\n",
            "36\n",
            "49\n",
            "64\n",
            "81\n",
            "100\n"
          ],
          "name": "stdout"
        }
      ]
    },
    {
      "cell_type": "markdown",
      "metadata": {
        "id": "jB-mfQ7FtBns",
        "colab_type": "text"
      },
      "source": [
        "Agora, vamos ver a aplicação do **yield** na série de Fibonacci a seguir:"
      ]
    },
    {
      "cell_type": "code",
      "metadata": {
        "id": "CShmfn03koqy",
        "colab_type": "code",
        "outputId": "72d9c464-d090-4339-c126-3176ecfaa259",
        "colab": {
          "base_uri": "https://localhost:8080/",
          "height": 221
        }
      },
      "source": [
        "# Primeira versão Fibonacci\n",
        "def fibonacci():\n",
        "    a = 0\n",
        "    b = 1\n",
        "    while True:\n",
        "        yield a\n",
        "        old_a = a\n",
        "        a = b\n",
        "        b = old_a + b\n",
        "\n",
        "for each in fibonacci():\n",
        "    print(each)\n",
        "    if each > 60:\n",
        "        break"
      ],
      "execution_count": 0,
      "outputs": [
        {
          "output_type": "stream",
          "text": [
            "0\n",
            "1\n",
            "1\n",
            "2\n",
            "3\n",
            "5\n",
            "8\n",
            "13\n",
            "21\n",
            "34\n",
            "55\n",
            "89\n"
          ],
          "name": "stdout"
        }
      ]
    },
    {
      "cell_type": "code",
      "metadata": {
        "id": "-U-QPMsnwJvj",
        "colab_type": "code",
        "outputId": "4a442273-4a02-4e7b-a2f3-c288d4b283ba",
        "colab": {
          "base_uri": "https://localhost:8080/",
          "height": 34
        }
      },
      "source": [
        "# Segunda versão Fibonacci\n",
        "def Fibonacci(max):\n",
        "    a, b = 0, 1\n",
        "    while a < max:\n",
        "        yield a\n",
        "        a, b = b, a+b\n",
        "\n",
        "print([x for x in Fibonacci(100)])"
      ],
      "execution_count": 0,
      "outputs": [
        {
          "output_type": "stream",
          "text": [
            "[0, 1, 1, 2, 3, 5, 8, 13, 21, 34, 55, 89]\n"
          ],
          "name": "stdout"
        }
      ]
    },
    {
      "cell_type": "markdown",
      "metadata": {
        "id": "b6IrLxSyGsIy",
        "colab_type": "text"
      },
      "source": [
        "# Filtrando itens com filter()\n",
        "* Função para filtrar as vogais."
      ]
    },
    {
      "cell_type": "code",
      "metadata": {
        "id": "pcZjQe6eG3U9",
        "colab_type": "code",
        "outputId": "4999e568-a4f8-414e-e8ab-c6fbc481ffde",
        "colab": {
          "base_uri": "https://localhost:8080/",
          "height": 104
        }
      },
      "source": [
        "alphabets = ['a', 'b', 'd', 'e', 'i', 'j', 'o']\n",
        "\n",
        "# function that filters vowels\n",
        "def filterVowels(alphabet):\n",
        "    vowels = ['a', 'e', 'i', 'o', 'u']\n",
        "\n",
        "    if(alphabet in vowels):\n",
        "        return True\n",
        "    else:\n",
        "        return False\n",
        "\n",
        "filteredVowels = filter(filterVowels, alphabets)\n",
        "\n",
        "print('As vogais filtradas são:')\n",
        "for vowel in filteredVowels:\n",
        "    print(vowel)"
      ],
      "execution_count": 0,
      "outputs": [
        {
          "output_type": "stream",
          "text": [
            "The filtered vowels are:\n",
            "a\n",
            "e\n",
            "i\n",
            "o\n"
          ],
          "name": "stdout"
        }
      ]
    },
    {
      "cell_type": "markdown",
      "metadata": {
        "id": "RZZgSc7ulecy",
        "colab_type": "text"
      },
      "source": [
        "# Usando Itertools"
      ]
    },
    {
      "cell_type": "markdown",
      "metadata": {
        "id": "WkoAguVKmnxX",
        "colab_type": "text"
      },
      "source": [
        "## Determinar o item mais frequente de uma lista\n",
        "* O objetivo é retornar o item mais frequente da lista."
      ]
    },
    {
      "cell_type": "code",
      "metadata": {
        "id": "aWBNRZxhlvTY",
        "colab_type": "code",
        "colab": {}
      },
      "source": [
        "words= ['look', 'into', 'my', 'eyes', 'look', 'into', 'my', 'eyes',\n",
        "'the', 'eyes', 'the', 'eyes', 'the', 'eyes', 'not', 'around', 'the',\n",
        "'eyes', \"don't\", 'look', 'around', 'the', 'eyes', 'look', 'into',\n",
        "'my', 'eyes', \"you're\", 'under']"
      ],
      "execution_count": 0,
      "outputs": []
    },
    {
      "cell_type": "code",
      "metadata": {
        "id": "UtS9e6b9l1J3",
        "colab_type": "code",
        "colab": {}
      },
      "source": [
        "# Library do Python que lida com conagens:\n",
        "from collections import Counter"
      ],
      "execution_count": 0,
      "outputs": []
    },
    {
      "cell_type": "code",
      "metadata": {
        "id": "qp-6RNmVmAWu",
        "colab_type": "code",
        "outputId": "5a57c22f-7626-4c42-cfff-0b8dd10df78c",
        "colab": {
          "base_uri": "https://localhost:8080/",
          "height": 191
        }
      },
      "source": [
        "word_counts= Counter(words)\n",
        "word_counts"
      ],
      "execution_count": 0,
      "outputs": [
        {
          "output_type": "execute_result",
          "data": {
            "text/plain": [
              "Counter({'around': 2,\n",
              "         \"don't\": 1,\n",
              "         'eyes': 8,\n",
              "         'into': 3,\n",
              "         'look': 4,\n",
              "         'my': 3,\n",
              "         'not': 1,\n",
              "         'the': 5,\n",
              "         'under': 1,\n",
              "         \"you're\": 1})"
            ]
          },
          "metadata": {
            "tags": []
          },
          "execution_count": 88
        }
      ]
    },
    {
      "cell_type": "code",
      "metadata": {
        "id": "uOIbMW0zmF8u",
        "colab_type": "code",
        "outputId": "ed23b03b-4e1f-469e-de55-6d0637544604",
        "colab": {
          "base_uri": "https://localhost:8080/",
          "height": 35
        }
      },
      "source": [
        "top_three= word_counts.most_common(3)\n",
        "print(top_three)"
      ],
      "execution_count": 0,
      "outputs": [
        {
          "output_type": "stream",
          "text": [
            "[('eyes', 8), ('the', 5), ('look', 4)]\n"
          ],
          "name": "stdout"
        }
      ]
    },
    {
      "cell_type": "markdown",
      "metadata": {
        "id": "MWiuq4r-mL0h",
        "colab_type": "text"
      },
      "source": [
        "Agora suponha acrescentar novas palavras á nossa lista:"
      ]
    },
    {
      "cell_type": "code",
      "metadata": {
        "id": "tXvTwDSimMk0",
        "colab_type": "code",
        "colab": {}
      },
      "source": [
        "morewords = ['why','are','you','not','looking','in','my','eyes']"
      ],
      "execution_count": 0,
      "outputs": []
    },
    {
      "cell_type": "code",
      "metadata": {
        "id": "dbl1tcs7mVXO",
        "colab_type": "code",
        "colab": {}
      },
      "source": [
        "word_counts.update(morewords)"
      ],
      "execution_count": 0,
      "outputs": []
    },
    {
      "cell_type": "code",
      "metadata": {
        "id": "xUFc2lP1mYX2",
        "colab_type": "code",
        "outputId": "d1b60376-55ea-419f-f1da-25d87628c37b",
        "colab": {
          "base_uri": "https://localhost:8080/",
          "height": 277
        }
      },
      "source": [
        "word_counts"
      ],
      "execution_count": 0,
      "outputs": [
        {
          "output_type": "execute_result",
          "data": {
            "text/plain": [
              "Counter({'are': 1,\n",
              "         'around': 2,\n",
              "         \"don't\": 1,\n",
              "         'eyes': 9,\n",
              "         'in': 1,\n",
              "         'into': 3,\n",
              "         'look': 4,\n",
              "         'looking': 1,\n",
              "         'my': 4,\n",
              "         'not': 2,\n",
              "         'the': 5,\n",
              "         'under': 1,\n",
              "         'why': 1,\n",
              "         'you': 1,\n",
              "         \"you're\": 1})"
            ]
          },
          "metadata": {
            "tags": []
          },
          "execution_count": 92
        }
      ]
    },
    {
      "cell_type": "code",
      "metadata": {
        "id": "HVe7WOPQmfr5",
        "colab_type": "code",
        "outputId": "8d9d8965-9251-479f-9359-6f9c06d19ae3",
        "colab": {
          "base_uri": "https://localhost:8080/",
          "height": 35
        }
      },
      "source": [
        "top_three= word_counts.most_common(3)\n",
        "print(top_three)"
      ],
      "execution_count": 0,
      "outputs": [
        {
          "output_type": "stream",
          "text": [
            "[('eyes', 9), ('the', 5), ('look', 4)]\n"
          ],
          "name": "stdout"
        }
      ]
    },
    {
      "cell_type": "markdown",
      "metadata": {
        "id": "vvTFdWnl6nWE",
        "colab_type": "text"
      },
      "source": [
        "# Exercícios"
      ]
    },
    {
      "cell_type": "markdown",
      "metadata": {
        "id": "x7YlsfgF15Do",
        "colab_type": "text"
      },
      "source": [
        "## Exercício 1\n",
        "* Gerar aleatoriamente 6 números aleatorios inteiros e sem repetição entre 1 e 61."
      ]
    },
    {
      "cell_type": "markdown",
      "metadata": {
        "id": "as9o3sQy7PCm",
        "colab_type": "text"
      },
      "source": [
        "### Minha solução"
      ]
    },
    {
      "cell_type": "code",
      "metadata": {
        "id": "WrJr2G9_2waG",
        "colab_type": "code",
        "outputId": "98a48c02-d9a6-412e-aa2f-aff06c0747d6",
        "colab": {
          "base_uri": "https://localhost:8080/",
          "height": 54
        }
      },
      "source": [
        "MyList= range(1,61)\n",
        "print(list(MyList))"
      ],
      "execution_count": 0,
      "outputs": [
        {
          "output_type": "stream",
          "text": [
            "[1, 2, 3, 4, 5, 6, 7, 8, 9, 10, 11, 12, 13, 14, 15, 16, 17, 18, 19, 20, 21, 22, 23, 24, 25, 26, 27, 28, 29, 30, 31, 32, 33, 34, 35, 36, 37, 38, 39, 40, 41, 42, 43, 44, 45, 46, 47, 48, 49, 50, 51, 52, 53, 54, 55, 56, 57, 58, 59, 60]\n"
          ],
          "name": "stdout"
        }
      ]
    },
    {
      "cell_type": "markdown",
      "metadata": {
        "id": "I8c1vvkS2_tz",
        "colab_type": "text"
      },
      "source": [
        "E agora, queremos selecionar 6 números aleatoriamente dessa lista. Como fazemos isso?"
      ]
    },
    {
      "cell_type": "markdown",
      "metadata": {
        "id": "25E8_Q_A80lS",
        "colab_type": "text"
      },
      "source": [
        "#### random.choice()\n",
        "* Versão do Python < 3.6."
      ]
    },
    {
      "cell_type": "code",
      "metadata": {
        "id": "qBVnmRpP3Fi6",
        "colab_type": "code",
        "colab": {}
      },
      "source": [
        "import random"
      ],
      "execution_count": 0,
      "outputs": []
    },
    {
      "cell_type": "code",
      "metadata": {
        "id": "glIJwrBp3UsC",
        "colab_type": "code",
        "colab": {}
      },
      "source": [
        "MyNumbers= []\n",
        "\n",
        "random.seed(20111974)\n",
        "# selecionando números aleatórios a partir de MyList\n",
        "while len(MyNumbers) <= 5:\n",
        "\tMyNumbers.append(random.choice(MyList))\n",
        "    \n",
        "print(MyNumbers)"
      ],
      "execution_count": 0,
      "outputs": []
    },
    {
      "cell_type": "markdown",
      "metadata": {
        "id": "1_x60bfb88IL",
        "colab_type": "text"
      },
      "source": [
        "#### random.choices()\n",
        "> Versão do Python > 3.6."
      ]
    },
    {
      "cell_type": "code",
      "metadata": {
        "id": "JPJjQb4u7zSZ",
        "colab_type": "code",
        "colab": {}
      },
      "source": [
        "random.seed(20111974)\n",
        "MyNumbers= random.choices(MyList, k= 6)\n",
        "print(MyNumbers)"
      ],
      "execution_count": 0,
      "outputs": []
    },
    {
      "cell_type": "markdown",
      "metadata": {
        "id": "yAWxw3OZ8u64",
        "colab_type": "text"
      },
      "source": [
        "#### random.sample()"
      ]
    },
    {
      "cell_type": "code",
      "metadata": {
        "id": "rQCVpEp35ieW",
        "colab_type": "code",
        "colab": {}
      },
      "source": [
        "random.seed(20111974)\n",
        "MyNumbers= random.sample(MyList, 6)\n",
        "print(MyNumbers)"
      ],
      "execution_count": 0,
      "outputs": []
    },
    {
      "cell_type": "markdown",
      "metadata": {
        "id": "WgbdAhek7fGV",
        "colab_type": "text"
      },
      "source": [
        "#### Usando a Library numpy"
      ]
    },
    {
      "cell_type": "code",
      "metadata": {
        "id": "PAHF4Ddh7qh2",
        "colab_type": "code",
        "colab": {}
      },
      "source": [
        "import numpy as np\n",
        "\n",
        "np.random.seed(20111974)\n",
        "MyNumbers= np.random.choice(MyList, 6)\n",
        "print(MyNumbers)"
      ],
      "execution_count": 0,
      "outputs": []
    },
    {
      "cell_type": "markdown",
      "metadata": {
        "id": "jLBsEkW34qBX",
        "colab_type": "text"
      },
      "source": [
        "... E assim, desenvolvemos nosso gerador de números aleatórios para a Mega sena. Se alguém ganhar, por favor me paguem meus 10% de direitos autorais, ok?"
      ]
    },
    {
      "cell_type": "markdown",
      "metadata": {
        "id": "k3ItsO_qDooN",
        "colab_type": "text"
      },
      "source": [
        "## Exercícios 2 - Selecionar itens baseados em frequência\n",
        "* Uma urna contem 10 frutas, com as respectivas chances de serem selecionadas:\n",
        "\n",
        "| Fruit | Prob |\n",
        "|-------|------|\n",
        "| Apple | 4/10 |\n",
        "| Orange | 3/10 |\n",
        "| Avocado | 2/10 |\n",
        "| Lemon | 1/10 |\n",
        "\n",
        "* O Experimento é retirar 3 frutas aleatoriamente da urna."
      ]
    },
    {
      "cell_type": "markdown",
      "metadata": {
        "id": "k4rS2h_gKbg6",
        "colab_type": "text"
      },
      "source": [
        "### 1st Approach\n",
        "* Replicar os itens pelo número de vezes em que ele aparece."
      ]
    },
    {
      "cell_type": "markdown",
      "metadata": {
        "id": "ap_MHD_sDxIJ",
        "colab_type": "text"
      },
      "source": [
        "Considere o seguinte exemplo:"
      ]
    },
    {
      "cell_type": "code",
      "metadata": {
        "id": "xxhJdheOD_2C",
        "colab_type": "code",
        "outputId": "8646be71-6269-477a-f2c6-6cd7197bd5a0",
        "colab": {
          "base_uri": "https://localhost:8080/",
          "height": 187
        }
      },
      "source": [
        "lFruitsList= ['Apple', 'Apple', 'Apple', 'Apple', 'Orange', 'Orange', 'Orange', 'Avocado', 'Avocado', 'Lemon']\n",
        "lFruitsList"
      ],
      "execution_count": 0,
      "outputs": [
        {
          "output_type": "execute_result",
          "data": {
            "text/plain": [
              "['Apple',\n",
              " 'Apple',\n",
              " 'Apple',\n",
              " 'Apple',\n",
              " 'Orange',\n",
              " 'Orange',\n",
              " 'Orange',\n",
              " 'Avocado',\n",
              " 'Avocado',\n",
              " 'Lemon']"
            ]
          },
          "metadata": {
            "tags": []
          },
          "execution_count": 2
        }
      ]
    },
    {
      "cell_type": "code",
      "metadata": {
        "id": "5Np_N2XlElDQ",
        "colab_type": "code",
        "outputId": "68a572fd-eb8e-42b9-9fc5-e906be6a8dd8",
        "colab": {
          "base_uri": "https://localhost:8080/",
          "height": 34
        }
      },
      "source": [
        "# Selecionar aleatoriamente 3 frutas da lista - usando numpy\n",
        "import numpy as np\n",
        "\n",
        "np.random.seed(20111974)\n",
        "lMyFruits= np.random.choice(lFruitsList, 3)\n",
        "lMyFruits"
      ],
      "execution_count": 0,
      "outputs": [
        {
          "output_type": "execute_result",
          "data": {
            "text/plain": [
              "array(['Avocado', 'Avocado', 'Apple'], dtype='<U7')"
            ]
          },
          "metadata": {
            "tags": []
          },
          "execution_count": 6
        }
      ]
    },
    {
      "cell_type": "markdown",
      "metadata": {
        "id": "26ScdeE5Kx8E",
        "colab_type": "text"
      },
      "source": [
        "### 2nd Approach\n",
        "* Use a frequência dos itens (esse é o jeito mais fácil)"
      ]
    },
    {
      "cell_type": "code",
      "metadata": {
        "id": "tZXMJga7K4bZ",
        "colab_type": "code",
        "outputId": "a060b80b-42f1-479a-c25f-6f7ebb84dc39",
        "colab": {
          "base_uri": "https://localhost:8080/",
          "height": 34
        }
      },
      "source": [
        "# Solução usando random.sample\n",
        "import random\n",
        "\n",
        "SetOfFruits= list(set(lFruitsList))\n",
        "lFruitsWeights = [4/10, 3/10, 2/10, 1/10]\n",
        "\n",
        "lMyFruits = random.choices(population= SetOfFruits, k=3, weights= lFruitsWeights)\n",
        "lMyFruits"
      ],
      "execution_count": 0,
      "outputs": [
        {
          "output_type": "execute_result",
          "data": {
            "text/plain": [
              "['Apple', 'Apple', 'Lemon']"
            ]
          },
          "metadata": {
            "tags": []
          },
          "execution_count": 15
        }
      ]
    }
  ]
}