{
  "nbformat": 4,
  "nbformat_minor": 0,
  "metadata": {
    "colab": {
      "name": "Untitled31.ipynb",
      "provenance": [],
      "private_outputs": true,
      "include_colab_link": true
    },
    "kernelspec": {
      "name": "python3",
      "display_name": "Python 3"
    }
  },
  "cells": [
    {
      "cell_type": "markdown",
      "metadata": {
        "id": "view-in-github",
        "colab_type": "text"
      },
      "source": [
        "<a href=\"https://colab.research.google.com/github/MathMachado/DSWP/blob/master/Notebooks/NB11__DataViz_Matplotlib%20%26%20Seaborn.ipynb\" target=\"_parent\"><img src=\"https://colab.research.google.com/assets/colab-badge.svg\" alt=\"Open In Colab\"/></a>"
      ]
    },
    {
      "cell_type": "markdown",
      "metadata": {
        "id": "oRokSLxEMgDN"
      },
      "source": [
        "## Referência\n",
        "* [Visualization](https://pandas.pydata.org/pandas-docs/stable/user_guide/visualization.html)"
      ]
    },
    {
      "cell_type": "code",
      "metadata": {
        "id": "IFiAWdKnFS5A"
      },
      "source": [
        "import numpy as np\n",
        "import pandas as pd\n",
        "import matplotlib.pyplot as plt\n",
        "import seaborn as sns\n",
        "\n",
        "plt.rcParams[\"figure.figsize\"] = [15, 12]\n",
        "%matplotlib inline"
      ],
      "execution_count": null,
      "outputs": []
    },
    {
      "cell_type": "markdown",
      "metadata": {
        "id": "UfrAHnWpJTwD"
      },
      "source": [
        "## Séries temporais simples"
      ]
    },
    {
      "cell_type": "markdown",
      "metadata": {
        "id": "_PV_kTGRMq4B"
      },
      "source": [
        "#### Série/Dados simulados"
      ]
    },
    {
      "cell_type": "code",
      "metadata": {
        "id": "_yVTB9v0KQxp"
      },
      "source": [
        "from datetime import datetime\n",
        "\n",
        "dt_hoje = datetime.strptime('2020-10-14', '%Y-%m-%d')\n",
        "dt_inicio = datetime.strptime('2020-01-01', '%Y-%m-%d')"
      ],
      "execution_count": null,
      "outputs": []
    },
    {
      "cell_type": "code",
      "metadata": {
        "id": "gMQx3JSlJz0R"
      },
      "source": [
        "# Quantos dias desde a data inicial?\n",
        "i_quantidade_dias = abs((dt_hoje - dt_inicio).days)\n",
        "i_quantidade_dias"
      ],
      "execution_count": null,
      "outputs": []
    },
    {
      "cell_type": "code",
      "metadata": {
        "id": "Tb70ycS_JWvQ"
      },
      "source": [
        "np.random.seed(20111974)\n",
        "\n",
        "i_qtd_ativos = 4\n",
        "df_series_temporais = pd.DataFrame(np.random.randn(i_quantidade_dias, i_qtd_ativos), index = pd.date_range(dt_inicio, periods = i_quantidade_dias)) #, columns = list('ABCD'))\n",
        "df_series_temporais.columns = ['Ativo1', 'Ativo2', 'Ativo3', 'Ativo4']\n",
        "\n",
        "#serie_temporal = pd.Series(np.random.randn(i_quantidade_dias), index = pd.date_range(dt_inicio, periods = i_quantidade_dias))\n",
        "df_series_temporais.head()"
      ],
      "execution_count": null,
      "outputs": []
    },
    {
      "cell_type": "markdown",
      "metadata": {
        "id": "hPq0XtirNMhm"
      },
      "source": [
        "## Gráfico de séries temporais"
      ]
    },
    {
      "cell_type": "code",
      "metadata": {
        "id": "kEu3wDl9L92i"
      },
      "source": [
        "df_series_temporais2 = df_series_temporais.cumsum()\n",
        "plt.figure()\n",
        "df_series_temporais2.plot()"
      ],
      "execution_count": null,
      "outputs": []
    },
    {
      "cell_type": "markdown",
      "metadata": {
        "id": "oEQQHUG8KtAv"
      },
      "source": [
        "Gráfico de 1 única série temporal"
      ]
    },
    {
      "cell_type": "code",
      "metadata": {
        "id": "xqNCkZdIKh3L"
      },
      "source": [
        "df_series_temporais3 = df_series_temporais['Ativo1']\n",
        "plt.figure()\n",
        "df_series_temporais3.plot()"
      ],
      "execution_count": null,
      "outputs": []
    },
    {
      "cell_type": "code",
      "metadata": {
        "id": "m5rMpulVKrSe"
      },
      "source": [
        "df_series_temporais3 = df_series_temporais['Ativo1'].cumsum()\n",
        "plt.figure()\n",
        "df_series_temporais3.plot()"
      ],
      "execution_count": null,
      "outputs": []
    },
    {
      "cell_type": "markdown",
      "metadata": {
        "id": "Wa4sXjcMNkzS"
      },
      "source": [
        "Experimente kind = {'line', 'box', 'hist', 'kde'}"
      ]
    },
    {
      "cell_type": "markdown",
      "metadata": {
        "id": "8eAETzNARsxo"
      },
      "source": [
        "### Se quisermos comparar horizontalmente\n",
        "* No caso abaixo, estou a comparar as colunas 'Ativo1', 'Ativo2', 'Ativo3' e 'Ativo4' quanto ao conteúdo da linha 3 --> iloc[3]."
      ]
    },
    {
      "cell_type": "code",
      "metadata": {
        "id": "6a0FB-SPReD9"
      },
      "source": [
        "plt.figure()\n",
        "df_series_temporais2.iloc[3].plot(kind ='bar')"
      ],
      "execution_count": null,
      "outputs": []
    },
    {
      "cell_type": "code",
      "metadata": {
        "id": "ov7fKVO3So9v"
      },
      "source": [
        "df_series_temporais2.head()"
      ],
      "execution_count": null,
      "outputs": []
    },
    {
      "cell_type": "code",
      "metadata": {
        "id": "rM32swu3S046"
      },
      "source": [
        "df_series_temporais2.iloc[3]"
      ],
      "execution_count": null,
      "outputs": []
    },
    {
      "cell_type": "markdown",
      "metadata": {
        "id": "qJ8SBoT6SSu0"
      },
      "source": [
        "### Comparar grupos\n",
        "* Neste caso, vou selecionar (ou dar um zoom) somente em alguns dias do dataframe."
      ]
    },
    {
      "cell_type": "code",
      "metadata": {
        "id": "kKeby_vwTB5j"
      },
      "source": [
        "df_series_temporais2_zoom = df_series_temporais2[0:10]\n",
        "df_series_temporais2_zoom"
      ],
      "execution_count": null,
      "outputs": []
    },
    {
      "cell_type": "code",
      "metadata": {
        "id": "I_XBwdn_Sa8h"
      },
      "source": [
        "df_series_temporais2_zoom.plot(kind = 'bar')"
      ],
      "execution_count": null,
      "outputs": []
    },
    {
      "cell_type": "markdown",
      "metadata": {
        "id": "Zru6GuoYTuzd"
      },
      "source": [
        "#### Outra forma de visualizar o mesmo resultado:\n",
        "* stacked bar plot --> Basta usar o parâmetro stacked = True"
      ]
    },
    {
      "cell_type": "code",
      "metadata": {
        "id": "lHY7A1RLTzaT"
      },
      "source": [
        "df_series_temporais2_zoom.plot(kind = 'bar', stacked = True)"
      ],
      "execution_count": null,
      "outputs": []
    },
    {
      "cell_type": "markdown",
      "metadata": {
        "id": "UWP6hLn8US1M"
      },
      "source": [
        "### Se quiser visualizar o gráfico na horizontal..."
      ]
    },
    {
      "cell_type": "code",
      "metadata": {
        "id": "7dtzx-vOUWNG"
      },
      "source": [
        "df_series_temporais2_zoom.plot(kind = 'barh', stacked = True)"
      ],
      "execution_count": null,
      "outputs": []
    },
    {
      "cell_type": "code",
      "metadata": {
        "id": "IqAIybxdUbOH"
      },
      "source": [
        "df_series_temporais2_zoom.plot(kind = 'barh', stacked = True)"
      ],
      "execution_count": null,
      "outputs": []
    },
    {
      "cell_type": "markdown",
      "metadata": {
        "id": "Z22k7IOyU6la"
      },
      "source": [
        "### Histogramas"
      ]
    },
    {
      "cell_type": "code",
      "metadata": {
        "id": "LKLWYWYeU8UV"
      },
      "source": [
        "df_series_temporais2.plot(kind = 'hist', bins = 100) # O que são bins?"
      ],
      "execution_count": null,
      "outputs": []
    },
    {
      "cell_type": "markdown",
      "metadata": {
        "id": "dG4zhQExVbY1"
      },
      "source": [
        "#### Histograma individual"
      ]
    },
    {
      "cell_type": "code",
      "metadata": {
        "id": "ZNGWjh9LVdb7"
      },
      "source": [
        "plt.figure()\n",
        "df_series_temporais2['Ativo3'].diff().hist() # Veja abaixo melhores explicações sobre o método diff(axis, periods) "
      ],
      "execution_count": null,
      "outputs": []
    },
    {
      "cell_type": "code",
      "metadata": {
        "id": "3LQlM_qjWd7g"
      },
      "source": [
        "df_series_temporais2.head()"
      ],
      "execution_count": null,
      "outputs": []
    },
    {
      "cell_type": "code",
      "metadata": {
        "id": "x3N6q_fTWl60"
      },
      "source": [
        "df_series_temporais2.diff(axis = 0, periods= 1).head()"
      ],
      "execution_count": null,
      "outputs": []
    },
    {
      "cell_type": "code",
      "metadata": {
        "id": "LGknpyFaWqcZ"
      },
      "source": [
        "df_series_temporais2.iloc[1][0] - df_series_temporais2.iloc[0][0]"
      ],
      "execution_count": null,
      "outputs": []
    },
    {
      "cell_type": "markdown",
      "metadata": {
        "id": "Yq6TtAU2XAHL"
      },
      "source": [
        "#### diff(axis = 1, periods = 1) aplica a diferença nas colunas! Veja abaixo:\n",
        "\n"
      ]
    },
    {
      "cell_type": "code",
      "metadata": {
        "id": "6QRBLyBQXKq8"
      },
      "source": [
        "df_series_temporais2.diff(axis = 1, periods = 1).head()"
      ],
      "execution_count": null,
      "outputs": []
    },
    {
      "cell_type": "markdown",
      "metadata": {
        "id": "niDjEkSpYgAj"
      },
      "source": [
        "### Histogramas em múltiplos gráficos"
      ]
    },
    {
      "cell_type": "code",
      "metadata": {
        "id": "4ie8toFUYlF-"
      },
      "source": [
        "plt.figure()\n",
        "df_series_temporais2.diff(axis = 0, periods = 1).hist(color ='k', alpha = 0.5, bins = 50)"
      ],
      "execution_count": null,
      "outputs": []
    },
    {
      "cell_type": "markdown",
      "metadata": {
        "id": "r7W97FztGTMl"
      },
      "source": [
        "## Boxplot"
      ]
    },
    {
      "cell_type": "code",
      "metadata": {
        "id": "Q-19pTLZZKVj"
      },
      "source": [
        "plt.figure()\n",
        "boxplot = df_series_temporais2.boxplot(vert = True) # Observe o parâmetro vert = True"
      ],
      "execution_count": null,
      "outputs": []
    },
    {
      "cell_type": "code",
      "metadata": {
        "id": "aQ2qQetiGU8f"
      },
      "source": [
        "plt.figure()\n",
        "boxplot = df_series_temporais2.boxplot(vert = False) # Observe o parâmetro vert = False"
      ],
      "execution_count": null,
      "outputs": []
    },
    {
      "cell_type": "markdown",
      "metadata": {
        "id": "Wo6AFzOPMvMf"
      },
      "source": [
        "#### Dados sobre a qualidade de vinhos - White vs Red\n",
        "\n",
        "* O objetivo é avaliar a qualidade dos vinhos (tinto vs branco), numa scala de 0–100. A seguir, a qualidade em função da escala:\n",
        "\n",
        "* 95–100 Classic: a great wine\n",
        "* 90–94 Outstanding: a wine of superior character and style\n",
        "* 85–89 Very good: a wine with special qualities\n",
        "* 80–84 Good: a solid, well-made wine\n",
        "* 75–79 Mediocre: a drinkable wine that may have minor flaws\n",
        "* 50–74 Not recommended"
      ]
    },
    {
      "cell_type": "code",
      "metadata": {
        "id": "aO9K8R9Qa9Uj"
      },
      "source": [
        "url_tinto = 'https://raw.githubusercontent.com/MathMachado/DataFrames/master/Wine_red.csv?token=AGDJQ64FIW7QA6DNJTVT6JC7SACV6'\n",
        "url_branco = 'https://raw.githubusercontent.com/MathMachado/DataFrames/master/Wine_white.csv?token=AGDJQ67RPQDN45RZYZHV5SK7SACXY'\n",
        "df_vinho_tinto = pd.read_csv(url_tinto)\n",
        "df_vinho_tinto[\"color\"] = 1 # --> Vinho Tinto\n",
        "\n",
        "df_vinho_branco = pd.read_csv(url_branco)\n",
        "df_vinho_branco[\"color\"] = 0 # --> Vinho Branco"
      ],
      "execution_count": null,
      "outputs": []
    },
    {
      "cell_type": "code",
      "metadata": {
        "id": "owdOjksbg7Dc"
      },
      "source": [
        "df_vinhos = pd.concat([df_vinho_tinto, df_vinho_branco], axis = 0)\n",
        "df_vinhos.shape"
      ],
      "execution_count": null,
      "outputs": []
    },
    {
      "cell_type": "code",
      "metadata": {
        "id": "zYniNn5PfGx9"
      },
      "source": [
        "df_vinho_tinto.columns"
      ],
      "execution_count": null,
      "outputs": []
    },
    {
      "cell_type": "code",
      "metadata": {
        "id": "KL7iW5mtgCre"
      },
      "source": [
        "df_vinhos['quality'].value_counts()"
      ],
      "execution_count": null,
      "outputs": []
    },
    {
      "cell_type": "code",
      "metadata": {
        "id": "G_yOZ-Gqmscv"
      },
      "source": [
        "df_vinhos['color'].value_counts()"
      ],
      "execution_count": null,
      "outputs": []
    },
    {
      "cell_type": "markdown",
      "metadata": {
        "id": "IKTEbTW2jMVv"
      },
      "source": [
        "#### Tratamento do nome das colunas"
      ]
    },
    {
      "cell_type": "code",
      "metadata": {
        "id": "1Oo-6k2jh3bx"
      },
      "source": [
        "df_vinhos.columns = [col.lower() for col in df_vinhos.columns]\n",
        "\n",
        "# substituir ' ' por '_' no nome das colunas:\n",
        "df_vinhos.columns = [col.replace(' ', '_') for col in df_vinhos.columns]\n",
        "df_vinhos.head()"
      ],
      "execution_count": null,
      "outputs": []
    },
    {
      "cell_type": "code",
      "metadata": {
        "id": "eiMHK6aJjoZl"
      },
      "source": [
        "df_vinhos.describe()"
      ],
      "execution_count": null,
      "outputs": []
    },
    {
      "cell_type": "code",
      "metadata": {
        "id": "sUNEzoC7j0PV"
      },
      "source": [
        "print(f\"Média do vinho Branco: {df_vinho_branco['quality'].mean()}\")\n",
        "print(f\"Média do vinho Tinto.: {df_vinho_tinto['quality'].mean()}\")\n",
        "print(f\"Média Geral..........: {df_vinhos['quality'].mean()}\")"
      ],
      "execution_count": null,
      "outputs": []
    },
    {
      "cell_type": "markdown",
      "metadata": {
        "id": "tIBDUBI4n78b"
      },
      "source": [
        "Abaixo, o mesmo cálculo, porém usando o artificio de procurar/selecionar o tipo que queremos no dataframe:"
      ]
    },
    {
      "cell_type": "code",
      "metadata": {
        "id": "X1Nllwpxl228"
      },
      "source": [
        "print(f\"Média do vinho Branco: {df_vinhos[df_vinhos['color'] == 0]['quality'].mean()}\")\n",
        "print(f\"Média do vinho Tinto.: {df_vinhos[df_vinhos['color'] == 1]['quality'].mean()}\")\n",
        "print(f\"Média Geral..........: {df_vinhos['quality'].mean()}\")"
      ],
      "execution_count": null,
      "outputs": []
    },
    {
      "cell_type": "code",
      "metadata": {
        "id": "GHjfSmExmg0u"
      },
      "source": [
        "df_vinhos.columns"
      ],
      "execution_count": null,
      "outputs": []
    },
    {
      "cell_type": "code",
      "metadata": {
        "id": "J3ZsHlrWmLDQ"
      },
      "source": [
        "df_vinhos[df_vinhos['color'] == 1]['quality']"
      ],
      "execution_count": null,
      "outputs": []
    },
    {
      "cell_type": "markdown",
      "metadata": {
        "id": "7HjKZ6Z1bkct"
      },
      "source": [
        "A seguir, algo mais sofisticado, contendo título do gráfico, annotations e etc"
      ]
    },
    {
      "cell_type": "code",
      "metadata": {
        "id": "jB9BTwBOa7UA"
      },
      "source": [
        "fig, ax = plt.subplots(figsize=(12, 8))\n",
        "df_vinhos['quality'].value_counts().plot(kind = 'bar')\n",
        "\n",
        "# Título e label dos eixos X e Y\n",
        "plt.title('Avaliação da qualidade do vinho', fontsize = 25)\n",
        "plt.xlabel('Atributo: quality', fontsize = 10)\n",
        "plt.ylabel('Quantidade', fontsize = 10)\n",
        "\n",
        "# Colocar grid no gráfico\n",
        "ax.grid(True)\n",
        "\n",
        "# Configurar a legenda\n",
        "plt.legend()\n",
        "\n",
        "# Configurar limites do eixo Y\n",
        "plt.ylim(0, 3000)\n",
        "\n",
        "# Configurar limites do eixo X\n",
        "#plt.xlim(0, 3000)\n",
        " \n",
        "# Show graphic\n",
        "plt.show()"
      ],
      "execution_count": null,
      "outputs": []
    },
    {
      "cell_type": "code",
      "metadata": {
        "id": "w1CyCXVkmrFV"
      },
      "source": [
        "df_vinhos['color'].value_counts().plot(kind = 'bar')"
      ],
      "execution_count": null,
      "outputs": []
    },
    {
      "cell_type": "code",
      "metadata": {
        "id": "jU1AY-_wpU2h"
      },
      "source": [
        "df_vinhos.head()"
      ],
      "execution_count": null,
      "outputs": []
    },
    {
      "cell_type": "code",
      "metadata": {
        "id": "e0ayzbRanNDq"
      },
      "source": [
        "df_vinhos['fixed_acidity'].value_counts().sort_index().plot(kind = 'area')"
      ],
      "execution_count": null,
      "outputs": []
    },
    {
      "cell_type": "code",
      "metadata": {
        "id": "RjzkMuPTn0yI"
      },
      "source": [
        "l_colunas = ['fixed_acidity', 'volatile_acidity', 'citric_acid', 'residual_sugar', 'chlorides', 'free_sulfur_dioxide', 'total_sulfur_dioxide', 'density', 'ph', 'sulphates', 'alcohol']\n",
        "for caracteristica in l_colunas:\n",
        "    plt.figure() # Tire esta linha e veja o resultado\n",
        "    df_vinhos[caracteristica].value_counts().sort_index().plot(kind = 'area')"
      ],
      "execution_count": null,
      "outputs": []
    },
    {
      "cell_type": "markdown",
      "metadata": {
        "id": "PYIjyMkVnWnr"
      },
      "source": [
        "### Correlações"
      ]
    },
    {
      "cell_type": "code",
      "metadata": {
        "id": "IOCk4vhpnYn9"
      },
      "source": [
        "correlacoes = df_vinhos.corr()\n",
        "\n",
        "top_correlacoes_cols = correlacoes.color.sort_values(ascending=False).keys()\n",
        "top_correlacoes = correlacoes.loc[top_correlacoes_cols, top_correlacoes_cols]\n",
        "dropSelf = np.zeros_like(top_correlacoes)\n",
        "dropSelf[np.triu_indices_from(dropSelf)] = True\n",
        "plt.figure(figsize=(18, 10))\n",
        "sns.heatmap(top_correlacoes, cmap=sns.diverging_palette(220, 10, as_cmap=True), annot=True, fmt=\".2f\", mask=dropSelf)\n",
        "sns.set(font_scale=1.5)\n",
        "plt.show()\n",
        "del correlacoes, dropSelf, top_correlacoes"
      ],
      "execution_count": null,
      "outputs": []
    },
    {
      "cell_type": "code",
      "metadata": {
        "id": "SFqklDJf-8le"
      },
      "source": [
        "df_vinhos.head()"
      ],
      "execution_count": null,
      "outputs": []
    },
    {
      "cell_type": "markdown",
      "metadata": {
        "id": "H7hKbxfdBV8w"
      },
      "source": [
        "### Avaliar o comportamento bivariado ou a relação entre a variável-target e a variável preditora"
      ]
    },
    {
      "cell_type": "code",
      "metadata": {
        "id": "LllKqLx3_IIG"
      },
      "source": [
        "sns.jointplot(df_vinhos['alcohol'], df_vinhos['fixed_acidity'], kind = \"kde\")\n",
        "plt.savefig('minha_figura.png')\n",
        "plt.show()"
      ],
      "execution_count": null,
      "outputs": []
    },
    {
      "cell_type": "markdown",
      "metadata": {
        "id": "4ixcDmeXIFQ1"
      },
      "source": [
        "### Pairplot\n",
        "* Verificar relacionamentos entre pares no dataframe."
      ]
    },
    {
      "cell_type": "code",
      "metadata": {
        "id": "lWqwaZ_lArji"
      },
      "source": [
        "#sns.pairplot(df_vinhos, hue = \"color\") # Compare os gráficos com e sem a opção hue\n",
        "sns.pairplot(df_vinhos)\n",
        "plt.show()"
      ],
      "execution_count": null,
      "outputs": []
    },
    {
      "cell_type": "code",
      "metadata": {
        "id": "vtOH-mTHLGC-"
      },
      "source": [
        "df_vinhos.head()"
      ],
      "execution_count": null,
      "outputs": []
    },
    {
      "cell_type": "code",
      "metadata": {
        "id": "dcaQ8aPaHwBB"
      },
      "source": [
        "sns.lmplot(\"alcohol\", \"sulphates\", df_vinhos, hue = \"color\", fit_reg = False)"
      ],
      "execution_count": null,
      "outputs": []
    },
    {
      "cell_type": "code",
      "metadata": {
        "id": "pWsCs585LPyn"
      },
      "source": [
        "sns.lmplot(\"alcohol\", \"sulphates\", df_vinhos, hue = \"quality\", fit_reg = False)"
      ],
      "execution_count": null,
      "outputs": []
    },
    {
      "cell_type": "markdown",
      "metadata": {
        "id": "5RwOiYi3OfD5"
      },
      "source": [
        "### Boxplot"
      ]
    },
    {
      "cell_type": "code",
      "metadata": {
        "id": "ZqIP5xUOMAqL"
      },
      "source": [
        "df_vinhos.boxplot(column = 'alcohol', by = 'quality', figsize = (12, 8))\n",
        "plt.xlabel('Quality', fontsize = 10, color= 'blue')\n",
        "plt.ylabel('alcohol', fontsize = 10, color= 'blue')\n",
        "plt.show()"
      ],
      "execution_count": null,
      "outputs": []
    }
  ]
}