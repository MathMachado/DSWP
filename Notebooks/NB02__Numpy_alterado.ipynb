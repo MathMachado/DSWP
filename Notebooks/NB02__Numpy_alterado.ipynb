{
  "nbformat": 4,
  "nbformat_minor": 0,
  "metadata": {
    "colab": {
      "name": "NB02__Numpy.ipynb",
      "provenance": [],
      "collapsed_sections": [
        "n8BIbzQbNWUo",
        "7eS94uQ4NhVR",
        "SYOgJpGYVLUu",
        "CaHFxk98W5if",
        "ReWUyWiHXCnc",
        "CqszHxaKHr2h",
        "tXgF1Wl9gHKY",
        "Fotx7XUquAo8",
        "36kmLUYDvsUI",
        "SWO2GdNovxAp",
        "vpN54l4vxze5",
        "u4HOf9SNytSq",
        "6BQ9oZiD9hg5",
        "tz5-QdrX9vct",
        "p1muBgMX8NK4",
        "FxTC2-U88ajk",
        "z8EYn0pP25Rh"
      ],
      "include_colab_link": true
    },
    "kernelspec": {
      "name": "python3",
      "display_name": "Python 3"
    },
    "accelerator": "GPU"
  },
  "cells": [
    {
      "cell_type": "markdown",
      "metadata": {
        "id": "view-in-github",
        "colab_type": "text"
      },
      "source": [
        "<a href=\"https://colab.research.google.com/github/MariaJacobs70/DSWP/blob/master/Notebooks/NB02__Numpy_alterado.ipynb\" target=\"_parent\"><img src=\"https://colab.research.google.com/assets/colab-badge.svg\" alt=\"Open In Colab\"/></a>"
      ]
    },
    {
      "cell_type": "markdown",
      "metadata": {
        "id": "6QhLXoatkvKR"
      },
      "source": [
        "<center><h1><b><i>NUMPY</i></b></h1></center>\n",
        "\n",
        "> NumPy é um pacote para computação científica e álgebra linear para Python.\n",
        "\n"
      ]
    },
    {
      "cell_type": "markdown",
      "metadata": {
        "id": "b8EZupp68vW8"
      },
      "source": [
        "# **AGENDA**:\n",
        "> Neste capítulo, vamos abordar os seguintes assuntos:\n",
        "\n",
        "* NumPy\n",
        "* Criar arrays\n",
        "* Criar Arrays Multidimensionais\n",
        "* Selecionar itens\n",
        "* Aplicar funções como max(), min() e etc\n",
        "* Calcular Estatísticas Descritivas: média e variância\n",
        "* Reshaping\n",
        "* Tansposta de um array\n",
        "* Autovalores e Autovetores\n",
        "* Wrap Up\n",
        "* Exercícios"
      ]
    },
    {
      "cell_type": "markdown",
      "metadata": {
        "id": "cO5t3xCO8kyK"
      },
      "source": [
        "___\n",
        "# **NOTAS E OBSERVAÇÕES**\n",
        "\n",
        "* Nosso foco com o NumPy é facilitar o uso do Pandas;"
      ]
    },
    {
      "cell_type": "markdown",
      "metadata": {
        "id": "z2IFUG4GSB0Z"
      },
      "source": [
        "___\n",
        "# **CHEETSHEET**"
      ]
    },
    {
      "cell_type": "markdown",
      "metadata": {
        "id": "jYLeDVH-SNCg"
      },
      "source": [
        "![Numpy](https://github.com/MathMachado/Materials/blob/master/numpy_basics-1.png?raw=true)"
      ]
    },
    {
      "cell_type": "markdown",
      "metadata": {
        "id": "0mKvExmgUFOk"
      },
      "source": [
        "# **ESCALAR, VETORES, MATRIZES E TENSORES**\n",
        "\n",
        "![Tensor](https://github.com/MathMachado/Materials/blob/master/tensor.png?raw=true)\n",
        "\n",
        "Source: [PyTorch for Deep Learning: A Quick Guide for Starters](https://towardsdatascience.com/pytorch-for-deep-learning-a-quick-guide-for-starters-5b60d2dbb564)"
      ]
    },
    {
      "cell_type": "markdown",
      "metadata": {
        "id": "o00pYRIkXiAU"
      },
      "source": [
        "## Import Statement - Primeiros exemplos\n",
        "> Como exemplo, considere gerar uma amostra aleatória de tamanho 10 da Distribuição Normal(0, 1):"
      ]
    },
    {
      "cell_type": "markdown",
      "metadata": {
        "id": "l_XuvcUDWNDk"
      },
      "source": [
        "## Importar a library NumPy"
      ]
    },
    {
      "cell_type": "markdown",
      "metadata": {
        "id": "am_ZTIGaapCo"
      },
      "source": [
        "### **Opção 1**: Importar a biblioteca NumPy COM alias"
      ]
    },
    {
      "cell_type": "code",
      "metadata": {
        "id": "b4irLw6BWVVZ"
      },
      "source": [
        "import numpy as np # NM incluiu um comentário nesta linha!"
      ],
      "execution_count": null,
      "outputs": []
    },
    {
      "cell_type": "code",
      "metadata": {
        "id": "JK54ga7dXnJu",
        "outputId": "1a31527c-f8b6-44d5-ecbd-9f08abc5f8d6",
        "colab": {
          "base_uri": "https://localhost:8080/",
          "height": 50
        }
      },
      "source": [
        "# Set up o número de casas decimais para o NumPy:\n",
        "np.set_printoptions(precision = 2, suppress = True)\n",
        "\n",
        "'''\n",
        "Define seed por questões de reproducibilidade, ou seja, \n",
        "garante que todos vamos gerar os mesmos números aleatórios\n",
        "'''\n",
        "np.random.seed(seed = 20111974)\n",
        "\n",
        "# Gera 10 números aleatórios a partir da Distribuição Normal(media, desvio_padrao)\n",
        "media = 0\n",
        "desvio_padrao = 1\n",
        "a_conjunto1 = np.random.normal(media, desvio_padrao, size = 10) # Array 1D de size = 10\n",
        "a_conjunto1"
      ],
      "execution_count": null,
      "outputs": [
        {
          "output_type": "execute_result",
          "data": {
            "text/plain": [
              "array([ 2.51,  1.11,  2.06,  0.56,  0.3 ,  1.05, -0.13,  1.06,  1.14,\n",
              "        1.38])"
            ]
          },
          "metadata": {
            "tags": []
          },
          "execution_count": 2
        }
      ]
    },
    {
      "cell_type": "markdown",
      "metadata": {
        "id": "3-0934isZUm6"
      },
      "source": [
        "**Observação**: Altere o valor de [precision] para 4, 2 e 0 e observe o que acontece."
      ]
    },
    {
      "cell_type": "markdown",
      "metadata": {
        "id": "9ob_8S_bYYa2"
      },
      "source": [
        "### **Opção 2**: Importar a biblioteca NumPy SEM alias"
      ]
    },
    {
      "cell_type": "code",
      "metadata": {
        "id": "NcGd1ho_XDXU"
      },
      "source": [
        "import numpy"
      ],
      "execution_count": null,
      "outputs": []
    },
    {
      "cell_type": "code",
      "metadata": {
        "id": "zFYH6J5-Ydjl"
      },
      "source": [
        "# Set up o número de casas decimais para o NumPy:\n",
        "numpy.set_printoptions(precision = 2, suppress = True)\n",
        "\n",
        "'''\n",
        "Define seed por questões de reproducibilidade, ou seja, \n",
        "garante que todos vamos gerar os mesmos números aleatórios\n",
        "'''\n",
        "numpy.random.seed(seed = 20111974)\n",
        "\n",
        "# Gera 10 números aleatórios a partir da Distribuição Normal(mu, desvio_padrao)\n",
        "media = 0\n",
        "desvio_padrao = 1\n",
        "numpy.random.normal(size = 10)"
      ],
      "execution_count": null,
      "outputs": []
    },
    {
      "cell_type": "markdown",
      "metadata": {
        "id": "AwWSzYrZWfvA"
      },
      "source": [
        "### **Opção 3**: Importar funções específicas da biblioteca NumPy"
      ]
    },
    {
      "cell_type": "code",
      "metadata": {
        "id": "bfYJzcqRa5eu"
      },
      "source": [
        "from numpy import set_printoptions\n",
        "from numpy.random import seed, normal"
      ],
      "execution_count": null,
      "outputs": []
    },
    {
      "cell_type": "code",
      "metadata": {
        "id": "Xj6fbpvubH_p"
      },
      "source": [
        "# Set up o número de casas decimais para o NumPy:\n",
        "set_printoptions(precision = 2, suppress = True)\n",
        "\n",
        "'''\n",
        "Define seed por questões de reproducibilidade, ou seja, \n",
        "garante que todos vamos gerar os mesmos números aleatórios\n",
        "'''\n",
        "seed(seed = 20111974)\n",
        "\n",
        "# Gera 10 números aleatórios a partir da Distribuição Normal(mu, desvio_padrao)\n",
        "media = 0\n",
        "desvio_padrao = 1 \n",
        "np.random.normal(size = 10)"
      ],
      "execution_count": null,
      "outputs": []
    },
    {
      "cell_type": "markdown",
      "metadata": {
        "id": "00RerJPChnuP"
      },
      "source": [
        "___\n",
        "# **Estatísticas Descriticas com NumPy**"
      ]
    },
    {
      "cell_type": "markdown",
      "metadata": {
        "id": "Qa6ro1VJlShd"
      },
      "source": [
        "## Exemplo 1\n",
        "> Vamos voltar ao mesmo exemplo anterior, mas desta vez, usando a opção 1 (com alias):\n",
        "\n",
        "* Gerar uma amostra aleatória de tamanho 10 da Distribuiçao Normal(0, 1)."
      ]
    },
    {
      "cell_type": "code",
      "metadata": {
        "id": "31dSBU8khvFk"
      },
      "source": [
        "# Set up o número de casas decimais para o NumPy:\n",
        "np.set_printoptions(precision = 2, suppress = True)\n",
        "\n",
        "# Define seed\n",
        "np.random.seed(seed = 20111974)\n",
        "\n",
        "# Gera 10 números aleatórios a partir da Distribuição Normal(media, desvio_padrao)\n",
        "media = 0\n",
        "desvio_padrao = 1\n",
        "\n",
        "np.random\n",
        "a_conjunto1 = np.random.normal(media, desvio_padrao, size = 10) # Array 1D de size = 10\n",
        "a_conjunto1"
      ],
      "execution_count": null,
      "outputs": []
    },
    {
      "cell_type": "markdown",
      "metadata": {
        "id": "wa2t0P3nevTh"
      },
      "source": [
        "Conferindo a média e desvio-padrão do array gerado:"
      ]
    },
    {
      "cell_type": "code",
      "metadata": {
        "id": "drUyk3f5ekDq"
      },
      "source": [
        "f'Distribuição N({np.mean(a_conjunto1)}, {np.std(a_conjunto1)})'"
      ],
      "execution_count": null,
      "outputs": []
    },
    {
      "cell_type": "markdown",
      "metadata": {
        "id": "XSp7Hd-Gib67"
      },
      "source": [
        "Estávamos à espera de media = 0 e sigma = 1. Certo? Porque isso não aconteceu?"
      ]
    },
    {
      "cell_type": "markdown",
      "metadata": {
        "id": "HP_8VSgygXOF"
      },
      "source": [
        "## **Laboratório 1**\n",
        "> Altere os valores de [size] para 100, 1.000, 10.000, 100.000 e 1.000.000 e relate o que acontece com a média e desvio padrão."
      ]
    },
    {
      "cell_type": "markdown",
      "metadata": {
        "id": "4TbmVbdcg6iU"
      },
      "source": [
        "## **Minha solução**"
      ]
    },
    {
      "cell_type": "code",
      "metadata": {
        "id": "-qdiqBVHg-gd"
      },
      "source": [
        "# Define a média e o desvio-padrão\n",
        "media = 0\n",
        "desvio_padrao = 1\n",
        "\n",
        "# Define seed\n",
        "np.random.seed(seed = 20111974)\n",
        "l_lista_conjunto = [10, 100, 1000, 10000, 100000, 1000000, 10000000, 100000000, 1000000000]\n",
        "\n",
        "for i_size in l_lista_conjunto:\n",
        "    a_conjunto1 = np.random.normal(media, desvio_padrao, size = i_size)\n",
        "    print(f'Size: {i_size}--> Distribuição: N({np.mean(a_conjunto1)}, {np.std(a_conjunto1)})')"
      ],
      "execution_count": null,
      "outputs": []
    },
    {
      "cell_type": "markdown",
      "metadata": {
        "id": "bp-YuviQwWqE"
      },
      "source": [
        "Com relação à Distribuição Normal($\\mu, \\sigma$), temos que:\n",
        "\n",
        "![NormalDistribution](https://github.com/MathMachado/Materials/blob/master/NormalDistribution.PNG?raw=true)\n",
        "\n",
        "Fonte: [Normal Distribution](https://towardsdatascience.com/understanding-the-68-95-99-7-rule-for-a-normal-distribution-b7b7cbf760c2)"
      ]
    },
    {
      "cell_type": "markdown",
      "metadata": {
        "id": "KwHBY3Enk04N"
      },
      "source": [
        "## Lei Forte dos Grandes Números - LFGN\n",
        "> Por favor, leia o que diz a [Law of large numbers](https://en.wikipedia.org/wiki/Law_of_large_numbers). --> 3 minutos.\n",
        "\n",
        "* O que você aprendeu com isso?"
      ]
    },
    {
      "cell_type": "markdown",
      "metadata": {
        "id": "BhwmSkAjlszT"
      },
      "source": [
        "## Exemplo 2\n",
        "> Vamos nos aprofundar um pouco mais no que diz a LFGN. Para isso, vamos simular o lançamento de dados. Como sabemos, os dados possuem 6 lados numerados de 1 a 6, com igual probabilidade. Certo?\n",
        "\n",
        "A LFGN nos diz que à medida que N (o tamanho da amostra ou número de dados) cresce, então a média dos dados converge para o valor esperado. Isso quer dizer que:\n",
        "\n",
        "$$\\frac{1+2+3+4+5+6}{6}= \\frac{21}{6}= 3,5$$\n",
        "\n",
        "Ou seja, à medida que N (o tamanho da amostra) cresce, espera-se que a média dos dados se aproxime de 3,5. Ok?\n",
        "\n",
        "Vamos ver se isso é verdade..."
      ]
    },
    {
      "cell_type": "markdown",
      "metadata": {
        "id": "-QcJXf6roj0D"
      },
      "source": [
        "Vamos usar o método np.random.randint (= função randint definido na classe np.random), a seguir:"
      ]
    },
    {
      "cell_type": "markdown",
      "metadata": {
        "id": "A2u0RzLOrRE2"
      },
      "source": [
        "O que significa ou qual é a interpretação do resultado abaixo?"
      ]
    },
    {
      "cell_type": "code",
      "metadata": {
        "id": "B3-X_VBerUfa"
      },
      "source": [
        "# Define seed\n",
        "import numpy as np\n",
        "np.random.seed(seed = 20111974)\n",
        "\n",
        "# Simular 100 lançamentos de um dado:\n",
        "a_dados_simulados = np.random.randint(1, 7, size = 100)\n",
        "a_dados_simulados"
      ],
      "execution_count": null,
      "outputs": []
    },
    {
      "cell_type": "code",
      "metadata": {
        "id": "m8Of2MMIrbF3"
      },
      "source": [
        "# Importar o pandas, pois vamos precisar do método pd.value_counts():\n",
        "import pandas as pd\n",
        "pd.value_counts(a_dados_simulados)"
      ],
      "execution_count": null,
      "outputs": []
    },
    {
      "cell_type": "markdown",
      "metadata": {
        "id": "54VwED8Br8rx"
      },
      "source": [
        "**Interpretação**: Isso quer dizer que fizemos a simulação de lançamento de um dado 100 vezes. Acima, a frequência com que cada lado do dado aparece.\n",
        "\n",
        "Eu estava à espera de frequência igual para cada um dos lados, isto é, por volta dos 16 ou 17. Ou seja:\n",
        "\n",
        "$$\\frac{100}{6}= 16,66$$\n",
        "\n",
        "Mas ok, vamos continuar com nosso experimento..."
      ]
    },
    {
      "cell_type": "code",
      "metadata": {
        "id": "HT_Dak-umC6I"
      },
      "source": [
        "# Definir a semente\n",
        "np.random.seed(20111974)\n",
        "\n",
        "for i_size in [10, 30, 50, 75, 100, 1000, 10000, 100000, 1000000]:\n",
        "    a_dados_simulados = np.random.randint(1, 7, size = i_size)\n",
        "    print(f'Size: {i_size} --> Média: {np.mean(a_dados_simulados)}')"
      ],
      "execution_count": null,
      "outputs": []
    },
    {
      "cell_type": "markdown",
      "metadata": {
        "id": "edWNNOnXtbtd"
      },
      "source": [
        "E agora, como você interpreta esses resultados?"
      ]
    },
    {
      "cell_type": "markdown",
      "metadata": {
        "id": "eL6gXThkYcSf"
      },
      "source": [
        "## Calcular percentis\n",
        "> Boxplot"
      ]
    },
    {
      "cell_type": "markdown",
      "metadata": {
        "id": "jlGOQfXfPf0D"
      },
      "source": [
        "![BoxPlot](https://github.com/MathMachado/Materials/blob/master/boxplot.png?raw=true)"
      ]
    },
    {
      "cell_type": "markdown",
      "metadata": {
        "id": "grtEXG2BoNRt"
      },
      "source": [
        "Considere o array de retornos (simulados) a seguir:"
      ]
    },
    {
      "cell_type": "code",
      "metadata": {
        "id": "DjPKKq01YjF9"
      },
      "source": [
        "import numpy as np\n",
        "np.random.seed(20111974)\n",
        "\n",
        "# Simulando Retornos de ativos financeiros com a distribuição Normal(0, 1):\n",
        "a_retornos = np.random.normal(0, 1, 100)\n",
        "print(f'Média: {np.mean(a_retornos)}')"
      ],
      "execution_count": null,
      "outputs": []
    },
    {
      "cell_type": "code",
      "metadata": {
        "id": "ajjlfqgssLVO"
      },
      "source": [
        "a_retornos"
      ],
      "execution_count": null,
      "outputs": []
    },
    {
      "cell_type": "markdown",
      "metadata": {
        "id": "XZ3m06gv9lei"
      },
      "source": [
        "A seguir, o boxplot do array a_retornos:"
      ]
    },
    {
      "cell_type": "code",
      "metadata": {
        "id": "QtuwJP449tBQ"
      },
      "source": [
        "# Import da biblioteca seaborn: Uma das principais libraries para Data Visualization (outras: matplotlib)\n",
        "import seaborn as sns\n",
        "\n",
        "sns.boxplot(y = a_retornos)"
      ],
      "execution_count": null,
      "outputs": []
    },
    {
      "cell_type": "code",
      "metadata": {
        "id": "o9ujdjxNY6qE"
      },
      "source": [
        "# Vamos usar o método np.percentile(array, q = [p1, p2, p3, ..., p99])\n",
        "percentis = np.percentile(a_retornos, q = [1, 5, 25, 50, 55, 75, 99])\n",
        "\n",
        "# Primeiro Quartil\n",
        "q1 = percentis[2]"
      ],
      "execution_count": null,
      "outputs": []
    },
    {
      "cell_type": "markdown",
      "metadata": {
        "id": "c75g2Egco2lc"
      },
      "source": [
        "Em qual posição do array a_retornos se encontra Q3?"
      ]
    },
    {
      "cell_type": "code",
      "metadata": {
        "id": "nZr-A82Zo8Kb"
      },
      "source": [
        "q3 = percentis[5]\n",
        "\n",
        "# ou de trás para a frente do conteúdo da lista:\n",
        "q3_2 = percentis[-2]\n",
        "print(q3, q3_2)"
      ],
      "execution_count": null,
      "outputs": []
    },
    {
      "cell_type": "code",
      "metadata": {
        "id": "sWrnESPQT4JM"
      },
      "source": [
        "# lim_inferior e lim_superior para detecção de outliers\n",
        "lim_inferior = q1 - 1.5 * (q3 - q1)\n",
        "lim_superior = q3 + 1.5 * (q3 - q1)"
      ],
      "execution_count": null,
      "outputs": []
    },
    {
      "cell_type": "code",
      "metadata": {
        "id": "Yb4-ZJlUUYsi"
      },
      "source": [
        "f'Limite Inferior: {lim_inferior}; Limite Superior: {lim_superior}'"
      ],
      "execution_count": null,
      "outputs": []
    },
    {
      "cell_type": "code",
      "metadata": {
        "id": "Jr6oXIHlUxOe"
      },
      "source": [
        "np.min(a_retornos)"
      ],
      "execution_count": null,
      "outputs": []
    },
    {
      "cell_type": "code",
      "metadata": {
        "id": "UxE47cN0U54X"
      },
      "source": [
        "np.max(a_retornos)"
      ],
      "execution_count": null,
      "outputs": []
    },
    {
      "cell_type": "markdown",
      "metadata": {
        "id": "OTB9HnIac499"
      },
      "source": [
        "___\n",
        "# **Ordenar itens de um array**\n",
        "> Considere o array a seguir:"
      ]
    },
    {
      "cell_type": "code",
      "metadata": {
        "id": "Jgj8Yw46dBMx"
      },
      "source": [
        "np.random.seed(20111974)\n",
        "a_conjunto1 = np.random.random(10)\n",
        "a_conjunto1"
      ],
      "execution_count": null,
      "outputs": []
    },
    {
      "cell_type": "markdown",
      "metadata": {
        "id": "cC9272GFdRln"
      },
      "source": [
        "Ordenando os itens de a_conjunto1..."
      ]
    },
    {
      "cell_type": "code",
      "metadata": {
        "id": "YUP90nBVdUeF"
      },
      "source": [
        "np.sort(a_conjunto1)"
      ],
      "execution_count": null,
      "outputs": []
    },
    {
      "cell_type": "markdown",
      "metadata": {
        "id": "lG763cDGj-yB"
      },
      "source": [
        "___\n",
        "# **Obter ajuda**"
      ]
    },
    {
      "cell_type": "code",
      "metadata": {
        "id": "ehxPlD3EkEYL"
      },
      "source": [
        "help(np.random.normal)"
      ],
      "execution_count": null,
      "outputs": []
    },
    {
      "cell_type": "markdown",
      "metadata": {
        "id": "1Q_konJVaBsV"
      },
      "source": [
        "___\n",
        "# **Criar arrays 1D**"
      ]
    },
    {
      "cell_type": "code",
      "metadata": {
        "id": "DddZT5kadYJ7"
      },
      "source": [
        "import numpy as np\n",
        "np.set_printoptions(precision = 2, suppress = True)\n",
        "np.random.seed(seed = 20111974)"
      ],
      "execution_count": null,
      "outputs": []
    },
    {
      "cell_type": "markdown",
      "metadata": {
        "id": "jaqd-VnF3yIt"
      },
      "source": [
        "Criar o array 1D a_conjunto1, com os seguintes números:"
      ]
    },
    {
      "cell_type": "code",
      "metadata": {
        "id": "E3niz_zHaF3e"
      },
      "source": [
        "a_conjunto1 = np.array([0, 1, 2, 3, 4, 5, 6, 7, 8, 9])\n",
        "a_conjunto1"
      ],
      "execution_count": null,
      "outputs": []
    },
    {
      "cell_type": "markdown",
      "metadata": {
        "id": "DyfXbW_ZKJBS"
      },
      "source": [
        "Qual a dimensão de a_conjunto1?"
      ]
    },
    {
      "cell_type": "code",
      "metadata": {
        "id": "gbHlydALKB3R"
      },
      "source": [
        "# Dimensão do array\n",
        "a_conjunto1.ndim"
      ],
      "execution_count": null,
      "outputs": []
    },
    {
      "cell_type": "markdown",
      "metadata": {
        "id": "am9otElpKNPa"
      },
      "source": [
        "Qual o shape (dimensão) do array a_conjunto1?"
      ]
    },
    {
      "cell_type": "code",
      "metadata": {
        "id": "juJJ74d2wale"
      },
      "source": [
        "# Números de itens no array\n",
        "a_conjunto1.shape"
      ],
      "execution_count": null,
      "outputs": []
    },
    {
      "cell_type": "markdown",
      "metadata": {
        "id": "BHg4Rre3GwPy"
      },
      "source": [
        "O array a_conjunto1 poderia ter sido criado usando a função np.arange(inicio, fim, step):"
      ]
    },
    {
      "cell_type": "code",
      "metadata": {
        "id": "I3fyusN7G5Zn"
      },
      "source": [
        "# Lembre-se que o número 10 é exclusive.\n",
        "a_conjunto2 = np.arange(start = 0, stop = 10, step = 1)"
      ],
      "execution_count": null,
      "outputs": []
    },
    {
      "cell_type": "markdown",
      "metadata": {
        "id": "IHCEpmUxXsaK"
      },
      "source": [
        "Outra alternativa seria usar np.linspace(start = 0, stop = 10, num = 9). Acompanhe a seguir:"
      ]
    },
    {
      "cell_type": "code",
      "metadata": {
        "id": "JB9Y_x3RX1GX"
      },
      "source": [
        "# Com np.linspace, o valor 9 é inclusive.\n",
        "a_conjunto3 = np.linspace(0, 9, 10)"
      ],
      "execution_count": null,
      "outputs": []
    },
    {
      "cell_type": "markdown",
      "metadata": {
        "id": "P6MR8MPeYOZm"
      },
      "source": [
        "Compare os resultados de a_conjunto1, a_conjunto2 e a_conjunto3 a seguir:"
      ]
    },
    {
      "cell_type": "code",
      "metadata": {
        "id": "tWEzge6HYSFu"
      },
      "source": [
        "a_conjunto1"
      ],
      "execution_count": null,
      "outputs": []
    },
    {
      "cell_type": "code",
      "metadata": {
        "id": "lUNlFVKYYT9f"
      },
      "source": [
        "a_conjunto2"
      ],
      "execution_count": null,
      "outputs": []
    },
    {
      "cell_type": "code",
      "metadata": {
        "id": "Xo8Lid5fYVPW"
      },
      "source": [
        "a_conjunto3"
      ],
      "execution_count": null,
      "outputs": []
    },
    {
      "cell_type": "markdown",
      "metadata": {
        "id": "V9aW7C4vHAcF"
      },
      "source": [
        "Ou seja, a_conjunto1 é igual a a_conjunto2 que também é igual a a_conjunto3. Ok?\n",
        "\n",
        "**ATENÇÃO**: Observe que a sintaxe para criar a_conjunto3 é ligeiramente diferente da sintaxe usada para criar a_conjunto1 e a_conjunto2. Abaixo, a sintaxe do comando np.linspace:\n",
        "\n",
        "![](https://github.com/MathMachado/Materials/blob/master/linspace_sintaxe.PNG?raw=true)\n",
        "\n",
        "Source: [HOW TO USE THE NUMPY LINSPACE FUNCTION](https://www.sharpsightlabs.com/blog/numpy-linspace/)"
      ]
    },
    {
      "cell_type": "markdown",
      "metadata": {
        "id": "KNnwZa3uvYqE"
      },
      "source": [
        "Soma 2 à cada item de a_conjunto1:"
      ]
    },
    {
      "cell_type": "code",
      "metadata": {
        "id": "Jt2KVyviw0bp"
      },
      "source": [
        "a_conjunto1"
      ],
      "execution_count": null,
      "outputs": []
    },
    {
      "cell_type": "code",
      "metadata": {
        "id": "arROkhWXbdTW"
      },
      "source": [
        "a_conjunto2 = a_conjunto1 + 2\n",
        "a_conjunto2"
      ],
      "execution_count": null,
      "outputs": []
    },
    {
      "cell_type": "markdown",
      "metadata": {
        "id": "ZJx2vG86vdVi"
      },
      "source": [
        "Multiplicar por 10 cada item de a_conjunto1:"
      ]
    },
    {
      "cell_type": "code",
      "metadata": {
        "id": "Vm7abO6Ebkun"
      },
      "source": [
        "a_conjunto1 = a_conjunto1*10\n",
        "a_conjunto1"
      ],
      "execution_count": null,
      "outputs": []
    },
    {
      "cell_type": "markdown",
      "metadata": {
        "id": "0Ev1xnBwaYJG"
      },
      "source": [
        "___\n",
        "# **Criar Arrays Multidimensionais**\n",
        "> Ao criarmos, por exemplo, um array 2D, então a chamamos de matriz."
      ]
    },
    {
      "cell_type": "markdown",
      "metadata": {
        "id": "gHaeAug5vjjd"
      },
      "source": [
        "Criar o array com 2 linhas e 3 colunas usando números aleatórios:"
      ]
    },
    {
      "cell_type": "code",
      "metadata": {
        "id": "VDi0vIPSYR4F"
      },
      "source": [
        "np.random.seed(20111974)\n",
        "a_conjunto1 = np.random.randn(2, 3)\n",
        "a_conjunto1"
      ],
      "execution_count": null,
      "outputs": []
    },
    {
      "cell_type": "markdown",
      "metadata": {
        "id": "DIdd-nA3tJjV"
      },
      "source": [
        "## Dimensão de um array\n",
        "> Dimensão é o número de linhas e colunas da matriz."
      ]
    },
    {
      "cell_type": "code",
      "metadata": {
        "id": "pKvjjnkrK-v7"
      },
      "source": [
        "a_conjunto1.shape"
      ],
      "execution_count": null,
      "outputs": []
    },
    {
      "cell_type": "markdown",
      "metadata": {
        "id": "-DHS5jXELCfa"
      },
      "source": [
        "a_conjunto1 é um array 2D (ou matriz), ou seja, 2 linhas, onde cada linha tem 3 elementos."
      ]
    },
    {
      "cell_type": "markdown",
      "metadata": {
        "id": "HJI6X1wvv4Bg"
      },
      "source": [
        "Criar um array com 3 linhas e 3 colunas:"
      ]
    },
    {
      "cell_type": "code",
      "metadata": {
        "id": "hXPbWh3Tv26T"
      },
      "source": [
        "a_conjunto2 = np.array([[1, 2, 3],[4, 5, 6],[7, 8, 9]])\n",
        "a_conjunto2"
      ],
      "execution_count": null,
      "outputs": []
    },
    {
      "cell_type": "code",
      "metadata": {
        "id": "we6ZJOICc7bQ"
      },
      "source": [
        "# Número de linhas e colunas de a_conjunto1:\n",
        "a_conjunto1.shape"
      ],
      "execution_count": null,
      "outputs": []
    },
    {
      "cell_type": "code",
      "metadata": {
        "id": "f0ocwuI1dED6"
      },
      "source": [
        "# Número de linhas e colunas de a_conjunto2\n",
        "a_conjunto2.shape"
      ],
      "execution_count": null,
      "outputs": []
    },
    {
      "cell_type": "code",
      "metadata": {
        "id": "CApPtnW0YuRP"
      },
      "source": [
        "# Somar 2 à cada elemento de a_conjunto2\n",
        "a_conjunto2 = a_conjunto2+2\n",
        "a_conjunto2"
      ],
      "execution_count": null,
      "outputs": []
    },
    {
      "cell_type": "code",
      "metadata": {
        "id": "M87aGmxRY3RW"
      },
      "source": [
        "# Multiplicar por 10 cada elemento de a_conjunto2\n",
        "a_conjunto2 = a_conjunto2*10\n",
        "a_conjunto2"
      ],
      "execution_count": null,
      "outputs": []
    },
    {
      "cell_type": "markdown",
      "metadata": {
        "id": "qZt93y1IL_v7"
      },
      "source": [
        "___\n",
        "# **Copiar arrays**\n",
        "> Considere o array abaixo:"
      ]
    },
    {
      "cell_type": "code",
      "metadata": {
        "id": "sH2FTXj5MRRC"
      },
      "source": [
        "np.random.seed(20111974)\n",
        "a_conjunto1 = np.random.randn(2, 3)\n",
        "a_conjunto1"
      ],
      "execution_count": null,
      "outputs": []
    },
    {
      "cell_type": "markdown",
      "metadata": {
        "id": "VtgKeMt6MYrr"
      },
      "source": [
        "Fazendo a cópia de a_conjunto1..."
      ]
    },
    {
      "cell_type": "code",
      "metadata": {
        "id": "K0hOHR3IMa-o"
      },
      "source": [
        "a_salarios_copia = a_conjunto1.copy()\n",
        "a_salarios_copia"
      ],
      "execution_count": null,
      "outputs": []
    },
    {
      "cell_type": "markdown",
      "metadata": {
        "id": "lFpmcR0HkCar"
      },
      "source": [
        "___\n",
        "# **Operações com arrays**\n",
        "> Considere um array com temperaturas em Farenheit dado por:"
      ]
    },
    {
      "cell_type": "code",
      "metadata": {
        "id": "VnagcUqVkLhW"
      },
      "source": [
        "# Define a seed\n",
        "np.random.seed(20111974)\n",
        "\n",
        "a_temperatura_farenheit = np.array(np.random.randint(0, 100, 10))\n",
        "a_temperatura_farenheit                                        "
      ],
      "execution_count": null,
      "outputs": []
    },
    {
      "cell_type": "code",
      "metadata": {
        "id": "VrjNKfXxk1yv"
      },
      "source": [
        "type(a_temperatura_farenheit)"
      ],
      "execution_count": null,
      "outputs": []
    },
    {
      "cell_type": "markdown",
      "metadata": {
        "id": "o1STejhrk0kZ"
      },
      "source": [
        "Transformando a temperatura Fahrenheit em Celsius..."
      ]
    },
    {
      "cell_type": "code",
      "metadata": {
        "id": "E_jXflR_lNy3"
      },
      "source": [
        "a_temperatura_celsius = 5*a_temperatura_farenheit/9 - 5*32/9\n",
        "a_temperatura_celsius"
      ],
      "execution_count": null,
      "outputs": []
    },
    {
      "cell_type": "code",
      "metadata": {
        "id": "U4pCv0pNqPZI"
      },
      "source": [
        "# O mesmo resultado, porém, escrito de forma diferente:\n",
        "a_temperatura_celsius = (5/9)*a_temperatura_farenheit - (160/9)\n",
        "a_temperatura_celsius"
      ],
      "execution_count": null,
      "outputs": []
    },
    {
      "cell_type": "markdown",
      "metadata": {
        "id": "1UT4YD2FawUA"
      },
      "source": [
        "___\n",
        "# **Selecionar itens**"
      ]
    },
    {
      "cell_type": "code",
      "metadata": {
        "id": "pqOv8P1za1m8"
      },
      "source": [
        "# Selecionar o segundo item de a_conjunto1 (lembre-se que no Python arrays começam com indice = 0)\n",
        "a_conjunto1[1]"
      ],
      "execution_count": null,
      "outputs": []
    },
    {
      "cell_type": "markdown",
      "metadata": {
        "id": "TIwVKk6AyRv6"
      },
      "source": [
        "Dado a_conjunto2 abaixo:"
      ]
    },
    {
      "cell_type": "code",
      "metadata": {
        "id": "zoDmbXo6bCeu"
      },
      "source": [
        "a_conjunto2"
      ],
      "execution_count": null,
      "outputs": []
    },
    {
      "cell_type": "markdown",
      "metadata": {
        "id": "iJXSPp-0yb4w"
      },
      "source": [
        "... selecionar o item da linha 2, coluna 3 do array a_conjunto2:"
      ]
    },
    {
      "cell_type": "code",
      "metadata": {
        "id": "sJiVfnlzcjRv"
      },
      "source": [
        "a_conjunto2[1, 2]"
      ],
      "execution_count": null,
      "outputs": []
    },
    {
      "cell_type": "code",
      "metadata": {
        "id": "Xl5HwJIMcv2e"
      },
      "source": [
        "# Selecionar o último elemento de a_conjunto1 --> Lembre-se que a_conjunto1 é um array. Desta forma, teremos o último elemento do array!\n",
        "a_conjunto1[-1]"
      ],
      "execution_count": null,
      "outputs": []
    },
    {
      "cell_type": "markdown",
      "metadata": {
        "id": "ezTH0HsyrnAl"
      },
      "source": [
        "Veja..."
      ]
    },
    {
      "cell_type": "code",
      "metadata": {
        "id": "OBv9EM54rYX3"
      },
      "source": [
        "a_conjunto1"
      ],
      "execution_count": null,
      "outputs": []
    },
    {
      "cell_type": "code",
      "metadata": {
        "id": "Po3WLFC-rod8"
      },
      "source": [
        "a_temperatura_celsius[-1]"
      ],
      "execution_count": null,
      "outputs": []
    },
    {
      "cell_type": "markdown",
      "metadata": {
        "id": "4qJJ2HCedW4h"
      },
      "source": [
        "___\n",
        "# **Aplicar funções como max(), min() e etc**"
      ]
    },
    {
      "cell_type": "code",
      "metadata": {
        "id": "_meTJdUsda4e"
      },
      "source": [
        "f'O máximo de a_conjunto1 é: {np.max(a_conjunto1)}'"
      ],
      "execution_count": null,
      "outputs": []
    },
    {
      "cell_type": "code",
      "metadata": {
        "id": "m-wiBkAidnhN"
      },
      "source": [
        "f'O mínimo de a_conjunto1 é: {np.min(a_conjunto1)}'"
      ],
      "execution_count": null,
      "outputs": []
    },
    {
      "cell_type": "code",
      "metadata": {
        "id": "lmupnRHQdtwh"
      },
      "source": [
        "f'O máximo de a_conjunto2 é: {np.max(a_conjunto2)}'"
      ],
      "execution_count": null,
      "outputs": []
    },
    {
      "cell_type": "code",
      "metadata": {
        "id": "H2z7oB6Bd786"
      },
      "source": [
        "f'O máximo de cada LINHA de a_conjunto2 é: {np.max(a_conjunto2, axis = 1)}' # Aqui, axis = 1 é que diz ao numpy que estamos interessados nas linhas"
      ],
      "execution_count": null,
      "outputs": []
    },
    {
      "cell_type": "code",
      "metadata": {
        "id": "gj2ZBDsWeMyk"
      },
      "source": [
        "f'O máximo de cada COLUNA de a_conjunto2 é: {np.max(a_conjunto2, axis = 0)}' # axis = 0, diz ao numpy que estamos interessados nas colunas."
      ],
      "execution_count": null,
      "outputs": []
    },
    {
      "cell_type": "markdown",
      "metadata": {
        "id": "7_tEfm2IecIU"
      },
      "source": [
        "___\n",
        "# **Calcular Estatísticas Descritivas: média e variância**"
      ]
    },
    {
      "cell_type": "code",
      "metadata": {
        "id": "lIY5jx3ueh7q"
      },
      "source": [
        "f'A média de a_conjunto1 é: {np.mean(a_conjunto1)}'"
      ],
      "execution_count": null,
      "outputs": []
    },
    {
      "cell_type": "code",
      "metadata": {
        "id": "VmqSELRReuAW"
      },
      "source": [
        "f'A média de a_conjunto2 é: {np.mean(a_conjunto2)}'"
      ],
      "execution_count": null,
      "outputs": []
    },
    {
      "cell_type": "code",
      "metadata": {
        "id": "Gxap-Wg5e2_H"
      },
      "source": [
        "f'O Desvio Padrão de a_conjunto2 é: {np.std(a_conjunto2)}'"
      ],
      "execution_count": null,
      "outputs": []
    },
    {
      "cell_type": "markdown",
      "metadata": {
        "id": "R0GcljGtfBvP"
      },
      "source": [
        "___\n",
        "# **Reshaping**\n",
        "> Muito útil em Machine Learning."
      ]
    },
    {
      "cell_type": "markdown",
      "metadata": {
        "id": "vfEmw01j8zux"
      },
      "source": [
        "## Exemplo 1\n",
        "* O array a_conjunto2 tem a seguinte forma:"
      ]
    },
    {
      "cell_type": "code",
      "metadata": {
        "id": "-Lb3VZCCfK_a"
      },
      "source": [
        "a_conjunto2"
      ],
      "execution_count": null,
      "outputs": []
    },
    {
      "cell_type": "code",
      "metadata": {
        "id": "YWN_nN-4fD7u"
      },
      "source": [
        "# reshaping para 9 linhas e 1 coluna:\n",
        "a_conjunto2.reshape(9, 1) # a_conjunto2.reshape(9,-1) produz o mesmo resultado."
      ],
      "execution_count": null,
      "outputs": []
    },
    {
      "cell_type": "markdown",
      "metadata": {
        "id": "id9ILRRt7SwY"
      },
      "source": [
        "## Mais um exemplo de Reshape\n",
        "> Dado o array 1D abaixo, reshape para um array 3D com 2 colunas."
      ]
    },
    {
      "cell_type": "code",
      "metadata": {
        "id": "9RA9Ht2b7Swd",
        "outputId": "eadedfd5-fd6c-49c8-db5c-6f8f30d45f36",
        "colab": {
          "base_uri": "https://localhost:8080/",
          "height": 34
        }
      },
      "source": [
        "# Define seed\n",
        "np.random.seed(20111974)\n",
        "a_conjunto1 = np.array(np.random.randint(1, 10, size = 15))\n",
        "a_conjunto1"
      ],
      "execution_count": null,
      "outputs": [
        {
          "output_type": "execute_result",
          "data": {
            "text/plain": [
              "array([9, 9, 3, 9, 2, 9, 1, 5, 3, 1, 9, 4, 8, 2, 4])"
            ]
          },
          "metadata": {
            "tags": []
          },
          "execution_count": 19
        }
      ]
    },
    {
      "cell_type": "markdown",
      "metadata": {
        "id": "8KxR4xZT7cRv"
      },
      "source": [
        "### Solução\n",
        "> Temos 15 elementos em a_conjunto1 para construir (\"reshape\") um array 3D com 2 colunas.\n",
        "\n",
        "A princípio, a solução seria..."
      ]
    },
    {
      "cell_type": "code",
      "metadata": {
        "id": "VMdHl1Il7wLw",
        "outputId": "d51c7263-f523-4af8-9606-ee93cab66f1c",
        "colab": {
          "base_uri": "https://localhost:8080/",
          "height": 163
        }
      },
      "source": [
        "a_conjunto1.reshape(-1, 2) # O valor \"-1\" na posição das linhas pede ao NumPy para calcular o número de linhas automaticamente."
      ],
      "execution_count": null,
      "outputs": [
        {
          "output_type": "error",
          "ename": "ValueError",
          "evalue": "ignored",
          "traceback": [
            "\u001b[0;31m---------------------------------------------------------------------------\u001b[0m",
            "\u001b[0;31mValueError\u001b[0m                                Traceback (most recent call last)",
            "\u001b[0;32m<ipython-input-20-5c1eeb799b8d>\u001b[0m in \u001b[0;36m<module>\u001b[0;34m()\u001b[0m\n\u001b[0;32m----> 1\u001b[0;31m \u001b[0ma_numeros1\u001b[0m\u001b[0;34m.\u001b[0m\u001b[0mreshape\u001b[0m\u001b[0;34m(\u001b[0m\u001b[0;34m-\u001b[0m\u001b[0;36m1\u001b[0m\u001b[0;34m,\u001b[0m \u001b[0;36m2\u001b[0m\u001b[0;34m)\u001b[0m \u001b[0;31m# O valor \"-1\" na posição das linhas pede ao NumPy para calcular o número de linhas automaticamente.\u001b[0m\u001b[0;34m\u001b[0m\u001b[0;34m\u001b[0m\u001b[0m\n\u001b[0m",
            "\u001b[0;31mValueError\u001b[0m: cannot reshape array of size 15 into shape (2)"
          ]
        }
      ]
    },
    {
      "cell_type": "markdown",
      "metadata": {
        "id": "pZS4b4-y708q"
      },
      "source": [
        "Porque temos esse erro?"
      ]
    },
    {
      "cell_type": "markdown",
      "metadata": {
        "id": "4disywvR8HeH"
      },
      "source": [
        "E se fizermos..."
      ]
    },
    {
      "cell_type": "code",
      "metadata": {
        "id": "3oEAAXTp8I7Z",
        "outputId": "e8c8a90f-c34a-4304-d9b4-fd7f04ce224f",
        "colab": {
          "base_uri": "https://localhost:8080/",
          "height": 34
        }
      },
      "source": [
        "# Define seed\n",
        "np.random.seed(20111974)\n",
        "a_conjunto1 = np.array(np.random.randint(1, 10, size = 16)) # Observe que agora temos 16 elementos\n",
        "a_conjunto1"
      ],
      "execution_count": null,
      "outputs": [
        {
          "output_type": "execute_result",
          "data": {
            "text/plain": [
              "array([9, 9, 3, 9, 2, 9, 1, 5, 3, 1, 9, 4, 8, 2, 4, 3])"
            ]
          },
          "metadata": {
            "tags": []
          },
          "execution_count": 21
        }
      ]
    },
    {
      "cell_type": "markdown",
      "metadata": {
        "id": "iUhth0QV8Rpt"
      },
      "source": [
        "Reshapping..."
      ]
    },
    {
      "cell_type": "code",
      "metadata": {
        "id": "9D1y7uD88Qip",
        "outputId": "e7d22bcd-c10f-4ea3-e41b-03f6f98a054f",
        "colab": {
          "base_uri": "https://localhost:8080/",
          "height": 153
        }
      },
      "source": [
        "a_conjunto1.reshape(-1, 2) # O valor \"-1\" na posição das linhas pede ao NumPy para calcular o número de linhas automaticamente."
      ],
      "execution_count": null,
      "outputs": [
        {
          "output_type": "execute_result",
          "data": {
            "text/plain": [
              "array([[9, 9],\n",
              "       [3, 9],\n",
              "       [2, 9],\n",
              "       [1, 5],\n",
              "       [3, 1],\n",
              "       [9, 4],\n",
              "       [8, 2],\n",
              "       [4, 3]])"
            ]
          },
          "metadata": {
            "tags": []
          },
          "execution_count": 22
        }
      ]
    },
    {
      "cell_type": "code",
      "metadata": {
        "id": "ALh-sq7DMnN5",
        "outputId": "db373349-7910-4f1f-93f3-8ac8f67da8b8",
        "colab": {
          "base_uri": "https://localhost:8080/",
          "height": 153
        }
      },
      "source": [
        "# OU --> Neste caso, estamos reshaping o array em 8 linhas e 2 colunas\n",
        "a_conjunto1.reshape(8, -1)"
      ],
      "execution_count": null,
      "outputs": [
        {
          "output_type": "execute_result",
          "data": {
            "text/plain": [
              "array([[9, 9],\n",
              "       [3, 9],\n",
              "       [2, 9],\n",
              "       [1, 5],\n",
              "       [3, 1],\n",
              "       [9, 4],\n",
              "       [8, 2],\n",
              "       [4, 3]])"
            ]
          },
          "metadata": {
            "tags": []
          },
          "execution_count": 26
        }
      ]
    },
    {
      "cell_type": "markdown",
      "metadata": {
        "id": "yvTnrszn8Yk0"
      },
      "source": [
        "Porque agora deu certo?"
      ]
    },
    {
      "cell_type": "markdown",
      "metadata": {
        "id": "LeQ9LqIE8baG"
      },
      "source": [
        "## Último exemplo com reshape\n",
        "> Considere o array a seguir:"
      ]
    },
    {
      "cell_type": "code",
      "metadata": {
        "id": "OQOC9iiN8hZT"
      },
      "source": [
        "np.random.seed(20111974)\n",
        "a_conjunto1 = np.random.randn(2, 3)\n",
        "a_conjunto1"
      ],
      "execution_count": null,
      "outputs": []
    },
    {
      "cell_type": "markdown",
      "metadata": {
        "id": "Cvce8qBl9Cvq"
      },
      "source": [
        "Queremos agora transformá-la num array de 3 linhas e 2 colunas."
      ]
    },
    {
      "cell_type": "code",
      "metadata": {
        "id": "QDDsYoVt9Klz"
      },
      "source": [
        "a_conjunto1.reshape(-1, 2)"
      ],
      "execution_count": null,
      "outputs": []
    },
    {
      "cell_type": "markdown",
      "metadata": {
        "id": "AdwU5ygt9Svq"
      },
      "source": [
        "Poderia ser..."
      ]
    },
    {
      "cell_type": "code",
      "metadata": {
        "id": "5uBeokKc9Uo-"
      },
      "source": [
        "a_conjunto1.reshape(3, -1)"
      ],
      "execution_count": null,
      "outputs": []
    },
    {
      "cell_type": "markdown",
      "metadata": {
        "id": "OeRBsobc9aKj"
      },
      "source": [
        "E por fim, também poderia ser..."
      ]
    },
    {
      "cell_type": "code",
      "metadata": {
        "id": "MDt8UYYH9dBw"
      },
      "source": [
        "a_conjunto1.reshape(3, 2)"
      ],
      "execution_count": null,
      "outputs": []
    },
    {
      "cell_type": "markdown",
      "metadata": {
        "id": "91o5vycQfdKW"
      },
      "source": [
        "___\n",
        "# **Transposta**\n",
        "* O array a_conjunto2 tem a seguinte forma:"
      ]
    },
    {
      "cell_type": "code",
      "metadata": {
        "id": "RsZwyuhoffjb"
      },
      "source": [
        "a_conjunto2"
      ],
      "execution_count": null,
      "outputs": []
    },
    {
      "cell_type": "code",
      "metadata": {
        "id": "A3MzTVoGfiyO"
      },
      "source": [
        "# Transposta do array a_conjunto2 é dado por:\n",
        "a_conjunto2.T"
      ],
      "execution_count": null,
      "outputs": []
    },
    {
      "cell_type": "markdown",
      "metadata": {
        "id": "Ij-ZW5IyzXIb"
      },
      "source": [
        "Ou seja, linha virou coluna. Ok?"
      ]
    },
    {
      "cell_type": "markdown",
      "metadata": {
        "id": "qLy6ajgpt3lU"
      },
      "source": [
        "# **Inversa da matriz quadrada**\n",
        "> Se uma matriz é não-singular, então sua inversa existe.\n",
        "\n",
        "* Se o determinante de uma matriz  is not equal to zero, then the matrix isé diferente de 0, então a matriz é não-singular."
      ]
    },
    {
      "cell_type": "code",
      "metadata": {
        "id": "-u7jRq34t9_x"
      },
      "source": [
        "import numpy as np\n",
        "\n",
        "a_conjunto1 = np.array([[1, 2, 3],[4, 5, 6],[7, 8, 9]])\n",
        "a_conjunto2 = np.array([[6, 2], [5, 3]])\n",
        "a_conjunto3 = np.array([[1, 3, 5],[2, 5, 1],[2, 3, 8]])"
      ],
      "execution_count": null,
      "outputs": []
    },
    {
      "cell_type": "code",
      "metadata": {
        "id": "7zmHHWWlvaYB"
      },
      "source": [
        "a_conjunto1"
      ],
      "execution_count": null,
      "outputs": []
    },
    {
      "cell_type": "code",
      "metadata": {
        "id": "3fHKyhOJvcak"
      },
      "source": [
        "a_conjunto2"
      ],
      "execution_count": null,
      "outputs": []
    },
    {
      "cell_type": "code",
      "metadata": {
        "id": "vQG7yyfjwLg9"
      },
      "source": [
        "a_conjunto3"
      ],
      "execution_count": null,
      "outputs": []
    },
    {
      "cell_type": "markdown",
      "metadata": {
        "id": "qa2Yre2rwgRk"
      },
      "source": [
        "## Determinantes da matriz quadrada"
      ]
    },
    {
      "cell_type": "code",
      "metadata": {
        "id": "N6jwuC6twkyc"
      },
      "source": [
        "np.linalg.det(a_conjunto1)"
      ],
      "execution_count": null,
      "outputs": []
    },
    {
      "cell_type": "code",
      "metadata": {
        "id": "QSvViNwzwnhI"
      },
      "source": [
        "np.linalg.det(a_conjunto2)"
      ],
      "execution_count": null,
      "outputs": []
    },
    {
      "cell_type": "code",
      "metadata": {
        "id": "o8jwsnccw5id"
      },
      "source": [
        "np.linalg.det(a_conjunto3)"
      ],
      "execution_count": null,
      "outputs": []
    },
    {
      "cell_type": "markdown",
      "metadata": {
        "id": "kkVaTgzgw_XJ"
      },
      "source": [
        "A seguir, calculamos as inversas das matrizes acima definidas..."
      ]
    },
    {
      "cell_type": "code",
      "metadata": {
        "id": "b9FgWvTYvpik"
      },
      "source": [
        "np.linalg.inv(a_conjunto2)"
      ],
      "execution_count": null,
      "outputs": []
    },
    {
      "cell_type": "code",
      "metadata": {
        "id": "KsdEt1kIvsM_"
      },
      "source": [
        "np.linalg.inv(a_conjunto1)"
      ],
      "execution_count": null,
      "outputs": []
    },
    {
      "cell_type": "markdown",
      "metadata": {
        "id": "VA_F7_7kccpn"
      },
      "source": [
        "Porque não temos a inversa de a_conjunto1?"
      ]
    },
    {
      "cell_type": "code",
      "metadata": {
        "id": "ANPBCnmVwOf4"
      },
      "source": [
        "np.linalg.inv(a_conjunto3)"
      ],
      "execution_count": null,
      "outputs": []
    },
    {
      "cell_type": "markdown",
      "metadata": {
        "id": "XAf9k1egxcdF"
      },
      "source": [
        "# **Resolver sistemas de equações lineares**\n",
        "> Considere o sistema de euqações lineares abaixo:\n",
        "\n",
        "\\begin{equation}\n",
        "x + 3y + 5z = 10\\\\\n",
        "2x+ 5y + z = 8 \\\\\n",
        "2x + 3y + 8z= 3\n",
        "\\end{equation}\n",
        "\n",
        "Ou $Ax = b$. A solução deste sistema de equações é dada por $A^{-1}b$."
      ]
    },
    {
      "cell_type": "markdown",
      "metadata": {
        "id": "oNf5nqaLxhBY"
      },
      "source": [
        "Ou seja, basta encontrarmos a inversa de A e multiplicarmos por b."
      ]
    },
    {
      "cell_type": "code",
      "metadata": {
        "id": "omzC5dGA0btc"
      },
      "source": [
        "A= np.array([[1, 3, 5], [2, 5, 1], [2, 3, 8]])\n",
        "np.linalg.inv(A)"
      ],
      "execution_count": null,
      "outputs": []
    },
    {
      "cell_type": "markdown",
      "metadata": {
        "id": "AiXI3oxB05iE"
      },
      "source": [
        "Agora basta multiplicar a matriz inversa $A^{-1}$ acima por b. "
      ]
    },
    {
      "cell_type": "code",
      "metadata": {
        "id": "XoGebKDa2Fcd"
      },
      "source": [
        "A_Inv = np.linalg.inv(A)"
      ],
      "execution_count": null,
      "outputs": []
    },
    {
      "cell_type": "code",
      "metadata": {
        "id": "sKaP0a1QZG-P"
      },
      "source": [
        "b= np.array([10, 8, 3]).reshape(3, -1)\n",
        "b"
      ],
      "execution_count": null,
      "outputs": []
    },
    {
      "cell_type": "code",
      "metadata": {
        "id": "3dAVq8dg19VI"
      },
      "source": [
        "A_Inv.dot(b)"
      ],
      "execution_count": null,
      "outputs": []
    },
    {
      "cell_type": "markdown",
      "metadata": {
        "id": "zso6hTnB17cm"
      },
      "source": [
        "Uma forma fácil de se fazer isso é utilizar a expressão abaixo:"
      ]
    },
    {
      "cell_type": "code",
      "metadata": {
        "id": "ptQHIVll1E4P"
      },
      "source": [
        "b= np.array([[10], [8], [3]])\n",
        "b"
      ],
      "execution_count": null,
      "outputs": []
    },
    {
      "cell_type": "code",
      "metadata": {
        "id": "X4VL8lyY1Xus"
      },
      "source": [
        "np.linalg.solve(A, b)"
      ],
      "execution_count": null,
      "outputs": []
    },
    {
      "cell_type": "markdown",
      "metadata": {
        "id": "fJKmwTS59-Bc"
      },
      "source": [
        "# **Empilhar arrays**\n",
        "\n",
        "## Exemplo 1\n",
        "\n",
        "![Empilhar1](https://github.com/MathMachado/Materials/blob/master/Empilhar1.PNG?raw=true)\n",
        "\n",
        "## Exemplo 2\n",
        "\n",
        "![Empilhar2](https://github.com/MathMachado/Materials/blob/master/Empilhar2.PNG?raw=true)\n",
        "\n"
      ]
    },
    {
      "cell_type": "markdown",
      "metadata": {
        "id": "rhPTt3EwXden"
      },
      "source": [
        "## Gerar os arrays do exemplo1"
      ]
    },
    {
      "cell_type": "code",
      "metadata": {
        "id": "zEI-yBy3-E46"
      },
      "source": [
        "np.random.seed(20111974)\n",
        "a_conjunto1 = np.random.randn(5, 8)\n",
        "\n",
        "np.random.seed(19741120)\n",
        "a_conjunto2 = np.random.randn(8, 8)"
      ],
      "execution_count": null,
      "outputs": []
    },
    {
      "cell_type": "markdown",
      "metadata": {
        "id": "UYsAqBRp--79"
      },
      "source": [
        "## Método 1 - Concatenate([A, B])"
      ]
    },
    {
      "cell_type": "code",
      "metadata": {
        "id": "HgO1ujvhObyE",
        "outputId": "c40e7ed9-255b-4886-dddf-3b17f2b1be2f",
        "colab": {
          "base_uri": "https://localhost:8080/",
          "height": 187
        }
      },
      "source": [
        "a_conjunto1"
      ],
      "execution_count": null,
      "outputs": [
        {
          "output_type": "execute_result",
          "data": {
            "text/plain": [
              "array([[ 2.5062768 ,  1.11440422,  2.05565501,  0.56482376,  0.29897276,\n",
              "         1.04930857, -0.12607366,  1.06227632],\n",
              "       [ 1.13807032,  1.37966044, -2.05995563,  0.67474814,  0.72722843,\n",
              "        -0.33923852,  0.43613107,  0.59135489],\n",
              "       [-1.29281877,  1.17712036, -0.98644163, -1.79034143, -1.08913605,\n",
              "        -0.90712825, -1.02291108, -1.36445713],\n",
              "       [-0.29429164,  0.06343709, -1.14196185, -0.50706079, -0.83539436,\n",
              "        -1.41492946, -0.2159062 , -1.16519474],\n",
              "       [-0.60767518, -0.61510925,  1.0771542 ,  0.5043687 ,  0.02674197,\n",
              "         1.83494644,  0.34728874, -1.14671885]])"
            ]
          },
          "metadata": {
            "tags": []
          },
          "execution_count": 33
        }
      ]
    },
    {
      "cell_type": "code",
      "metadata": {
        "id": "2aQY_klZOeg9",
        "outputId": "14eb3d9c-d0fc-4b6a-fe19-1790695c838f",
        "colab": {
          "base_uri": "https://localhost:8080/",
          "height": 289
        }
      },
      "source": [
        "a_conjunto2"
      ],
      "execution_count": null,
      "outputs": [
        {
          "output_type": "execute_result",
          "data": {
            "text/plain": [
              "array([[-0.77337752, -1.10547465,  0.10062807, -1.14571729, -2.15266227,\n",
              "        -0.75255725, -2.1529949 , -0.33017773],\n",
              "       [-1.10465731,  0.32889675,  0.01010198, -1.33213633, -0.33945805,\n",
              "        -0.01299007,  0.05342823, -0.18641201],\n",
              "       [ 0.39473805, -0.89354231, -0.50667323, -0.74660913,  1.83586365,\n",
              "        -1.20536871,  1.20184886,  0.51160897],\n",
              "       [-0.56952286, -0.93343871, -0.24972528,  0.98487133,  1.19333367,\n",
              "         2.29956497,  0.16657022,  0.71357415],\n",
              "       [-0.45251078,  0.92163918,  0.73421263,  2.17811191, -0.05655212,\n",
              "         1.25326   , -0.37039248,  1.43855202],\n",
              "       [ 0.85646091, -0.11257239, -0.35400297,  0.94136671, -0.08696163,\n",
              "        -1.49000701,  0.00848666,  0.86705275],\n",
              "       [ 1.6340906 ,  1.36321063, -0.02175361, -0.45301645, -0.37111236,\n",
              "        -0.04716069, -2.27337435,  0.95318738],\n",
              "       [ 0.7100548 , -0.79883269, -0.3165779 , -1.58352824, -0.37751484,\n",
              "        -0.29760341, -0.73424207, -0.55703223]])"
            ]
          },
          "metadata": {
            "tags": []
          },
          "execution_count": 34
        }
      ]
    },
    {
      "cell_type": "code",
      "metadata": {
        "id": "bK70vaq8_KMH",
        "outputId": "f6d400cf-4b54-4990-815b-052f5224aadd",
        "colab": {
          "base_uri": "https://localhost:8080/",
          "height": 459
        }
      },
      "source": [
        "np.concatenate([a_conjunto1, a_conjunto2], axis = 0) # axis= 0 diz ao NumPy para empilhar as linhas"
      ],
      "execution_count": null,
      "outputs": [
        {
          "output_type": "execute_result",
          "data": {
            "text/plain": [
              "array([[ 2.5062768 ,  1.11440422,  2.05565501,  0.56482376,  0.29897276,\n",
              "         1.04930857, -0.12607366,  1.06227632],\n",
              "       [ 1.13807032,  1.37966044, -2.05995563,  0.67474814,  0.72722843,\n",
              "        -0.33923852,  0.43613107,  0.59135489],\n",
              "       [-1.29281877,  1.17712036, -0.98644163, -1.79034143, -1.08913605,\n",
              "        -0.90712825, -1.02291108, -1.36445713],\n",
              "       [-0.29429164,  0.06343709, -1.14196185, -0.50706079, -0.83539436,\n",
              "        -1.41492946, -0.2159062 , -1.16519474],\n",
              "       [-0.60767518, -0.61510925,  1.0771542 ,  0.5043687 ,  0.02674197,\n",
              "         1.83494644,  0.34728874, -1.14671885],\n",
              "       [-0.77337752, -1.10547465,  0.10062807, -1.14571729, -2.15266227,\n",
              "        -0.75255725, -2.1529949 , -0.33017773],\n",
              "       [-1.10465731,  0.32889675,  0.01010198, -1.33213633, -0.33945805,\n",
              "        -0.01299007,  0.05342823, -0.18641201],\n",
              "       [ 0.39473805, -0.89354231, -0.50667323, -0.74660913,  1.83586365,\n",
              "        -1.20536871,  1.20184886,  0.51160897],\n",
              "       [-0.56952286, -0.93343871, -0.24972528,  0.98487133,  1.19333367,\n",
              "         2.29956497,  0.16657022,  0.71357415],\n",
              "       [-0.45251078,  0.92163918,  0.73421263,  2.17811191, -0.05655212,\n",
              "         1.25326   , -0.37039248,  1.43855202],\n",
              "       [ 0.85646091, -0.11257239, -0.35400297,  0.94136671, -0.08696163,\n",
              "        -1.49000701,  0.00848666,  0.86705275],\n",
              "       [ 1.6340906 ,  1.36321063, -0.02175361, -0.45301645, -0.37111236,\n",
              "        -0.04716069, -2.27337435,  0.95318738],\n",
              "       [ 0.7100548 , -0.79883269, -0.3165779 , -1.58352824, -0.37751484,\n",
              "        -0.29760341, -0.73424207, -0.55703223]])"
            ]
          },
          "metadata": {
            "tags": []
          },
          "execution_count": 35
        }
      ]
    },
    {
      "cell_type": "markdown",
      "metadata": {
        "id": "CpaXBkm8_BF8"
      },
      "source": [
        "## Método 2 - np.r_[A, B]"
      ]
    },
    {
      "cell_type": "code",
      "metadata": {
        "id": "3QnVUzAY_teZ",
        "outputId": "e8adfd85-e760-40f5-d9ac-48353d24ccd2",
        "colab": {
          "base_uri": "https://localhost:8080/",
          "height": 459
        }
      },
      "source": [
        "np.r_[a_conjunto1, a_conjunto2]"
      ],
      "execution_count": null,
      "outputs": [
        {
          "output_type": "execute_result",
          "data": {
            "text/plain": [
              "array([[ 2.5062768 ,  1.11440422,  2.05565501,  0.56482376,  0.29897276,\n",
              "         1.04930857, -0.12607366,  1.06227632],\n",
              "       [ 1.13807032,  1.37966044, -2.05995563,  0.67474814,  0.72722843,\n",
              "        -0.33923852,  0.43613107,  0.59135489],\n",
              "       [-1.29281877,  1.17712036, -0.98644163, -1.79034143, -1.08913605,\n",
              "        -0.90712825, -1.02291108, -1.36445713],\n",
              "       [-0.29429164,  0.06343709, -1.14196185, -0.50706079, -0.83539436,\n",
              "        -1.41492946, -0.2159062 , -1.16519474],\n",
              "       [-0.60767518, -0.61510925,  1.0771542 ,  0.5043687 ,  0.02674197,\n",
              "         1.83494644,  0.34728874, -1.14671885],\n",
              "       [-0.77337752, -1.10547465,  0.10062807, -1.14571729, -2.15266227,\n",
              "        -0.75255725, -2.1529949 , -0.33017773],\n",
              "       [-1.10465731,  0.32889675,  0.01010198, -1.33213633, -0.33945805,\n",
              "        -0.01299007,  0.05342823, -0.18641201],\n",
              "       [ 0.39473805, -0.89354231, -0.50667323, -0.74660913,  1.83586365,\n",
              "        -1.20536871,  1.20184886,  0.51160897],\n",
              "       [-0.56952286, -0.93343871, -0.24972528,  0.98487133,  1.19333367,\n",
              "         2.29956497,  0.16657022,  0.71357415],\n",
              "       [-0.45251078,  0.92163918,  0.73421263,  2.17811191, -0.05655212,\n",
              "         1.25326   , -0.37039248,  1.43855202],\n",
              "       [ 0.85646091, -0.11257239, -0.35400297,  0.94136671, -0.08696163,\n",
              "        -1.49000701,  0.00848666,  0.86705275],\n",
              "       [ 1.6340906 ,  1.36321063, -0.02175361, -0.45301645, -0.37111236,\n",
              "        -0.04716069, -2.27337435,  0.95318738],\n",
              "       [ 0.7100548 , -0.79883269, -0.3165779 , -1.58352824, -0.37751484,\n",
              "        -0.29760341, -0.73424207, -0.55703223]])"
            ]
          },
          "metadata": {
            "tags": []
          },
          "execution_count": 36
        }
      ]
    },
    {
      "cell_type": "markdown",
      "metadata": {
        "id": "XmSPbDP6_20W"
      },
      "source": [
        "**Obs**.: Eu prefiro este método!"
      ]
    },
    {
      "cell_type": "markdown",
      "metadata": {
        "id": "dzVKW_wX_Dzw"
      },
      "source": [
        "## Método 3 - np.vstack([A, B]) = np.r_[A, B]"
      ]
    },
    {
      "cell_type": "code",
      "metadata": {
        "id": "uL7lEN_mABID",
        "outputId": "d1ea4d86-2cc1-4e2d-af72-b3a292ef15fd",
        "colab": {
          "base_uri": "https://localhost:8080/",
          "height": 459
        }
      },
      "source": [
        "np.vstack([a_conjunto1, a_conjunto2])"
      ],
      "execution_count": null,
      "outputs": [
        {
          "output_type": "execute_result",
          "data": {
            "text/plain": [
              "array([[ 2.5062768 ,  1.11440422,  2.05565501,  0.56482376,  0.29897276,\n",
              "         1.04930857, -0.12607366,  1.06227632],\n",
              "       [ 1.13807032,  1.37966044, -2.05995563,  0.67474814,  0.72722843,\n",
              "        -0.33923852,  0.43613107,  0.59135489],\n",
              "       [-1.29281877,  1.17712036, -0.98644163, -1.79034143, -1.08913605,\n",
              "        -0.90712825, -1.02291108, -1.36445713],\n",
              "       [-0.29429164,  0.06343709, -1.14196185, -0.50706079, -0.83539436,\n",
              "        -1.41492946, -0.2159062 , -1.16519474],\n",
              "       [-0.60767518, -0.61510925,  1.0771542 ,  0.5043687 ,  0.02674197,\n",
              "         1.83494644,  0.34728874, -1.14671885],\n",
              "       [-0.77337752, -1.10547465,  0.10062807, -1.14571729, -2.15266227,\n",
              "        -0.75255725, -2.1529949 , -0.33017773],\n",
              "       [-1.10465731,  0.32889675,  0.01010198, -1.33213633, -0.33945805,\n",
              "        -0.01299007,  0.05342823, -0.18641201],\n",
              "       [ 0.39473805, -0.89354231, -0.50667323, -0.74660913,  1.83586365,\n",
              "        -1.20536871,  1.20184886,  0.51160897],\n",
              "       [-0.56952286, -0.93343871, -0.24972528,  0.98487133,  1.19333367,\n",
              "         2.29956497,  0.16657022,  0.71357415],\n",
              "       [-0.45251078,  0.92163918,  0.73421263,  2.17811191, -0.05655212,\n",
              "         1.25326   , -0.37039248,  1.43855202],\n",
              "       [ 0.85646091, -0.11257239, -0.35400297,  0.94136671, -0.08696163,\n",
              "        -1.49000701,  0.00848666,  0.86705275],\n",
              "       [ 1.6340906 ,  1.36321063, -0.02175361, -0.45301645, -0.37111236,\n",
              "        -0.04716069, -2.27337435,  0.95318738],\n",
              "       [ 0.7100548 , -0.79883269, -0.3165779 , -1.58352824, -0.37751484,\n",
              "        -0.29760341, -0.73424207, -0.55703223]])"
            ]
          },
          "metadata": {
            "tags": []
          },
          "execution_count": 37
        }
      ]
    },
    {
      "cell_type": "markdown",
      "metadata": {
        "id": "68icJ-2ZAdRj"
      },
      "source": [
        "# Concatenar arrays\n",
        "\n",
        "## Exemplo 1\n",
        "\n",
        "![Concatenar1](https://github.com/MathMachado/Materials/blob/master/Concatenar1.PNG?raw=true)\n",
        "\n",
        "# Exemplo 2\n",
        "\n",
        "![Concatenar2](https://github.com/MathMachado/Materials/blob/master/Concatenar2.PNG?raw=true)"
      ]
    },
    {
      "cell_type": "markdown",
      "metadata": {
        "id": "OplgK9YoQi9o"
      },
      "source": [
        "## Concatenar os elementos de dois arrays - np.c_[A, B]"
      ]
    },
    {
      "cell_type": "code",
      "metadata": {
        "id": "lpdsbTEKQ9EY"
      },
      "source": [
        "np.random.seed(20111974)\n",
        "a_conjunto1 = np.random.randint(0, 10, 100).reshape(-1, 10)\n",
        "a_conjunto2 = np.random.randint(0, 2, 10).reshape(-1, 1)"
      ],
      "execution_count": null,
      "outputs": []
    },
    {
      "cell_type": "code",
      "metadata": {
        "id": "JPxhGsaSSMk2",
        "outputId": "47727fe9-05f1-4ff7-ec0a-04579120cf78",
        "colab": {
          "base_uri": "https://localhost:8080/",
          "height": 187
        }
      },
      "source": [
        "a_conjunto1"
      ],
      "execution_count": null,
      "outputs": [
        {
          "output_type": "execute_result",
          "data": {
            "text/plain": [
              "array([[8, 8, 2, 8, 9, 1, 8, 0, 4, 2],\n",
              "       [0, 8, 9, 3, 7, 1, 3, 2, 9, 7],\n",
              "       [7, 9, 5, 6, 8, 7, 0, 9, 3, 9],\n",
              "       [3, 1, 8, 6, 3, 5, 4, 1, 2, 9],\n",
              "       [8, 6, 6, 1, 0, 9, 2, 0, 7, 5],\n",
              "       [5, 4, 4, 2, 7, 2, 7, 9, 3, 1],\n",
              "       [5, 0, 1, 2, 3, 8, 7, 5, 4, 0],\n",
              "       [5, 9, 6, 6, 1, 3, 6, 0, 4, 9],\n",
              "       [2, 1, 0, 9, 1, 4, 2, 9, 7, 9],\n",
              "       [5, 3, 7, 6, 3, 9, 8, 4, 3, 0]])"
            ]
          },
          "metadata": {
            "tags": []
          },
          "execution_count": 39
        }
      ]
    },
    {
      "cell_type": "code",
      "metadata": {
        "id": "9ZyUPfybTfej",
        "outputId": "ac27a20e-1622-4cb9-d6f6-74ee467bdb72",
        "colab": {
          "base_uri": "https://localhost:8080/",
          "height": 187
        }
      },
      "source": [
        "a_conjunto2"
      ],
      "execution_count": null,
      "outputs": [
        {
          "output_type": "execute_result",
          "data": {
            "text/plain": [
              "array([[1],\n",
              "       [0],\n",
              "       [0],\n",
              "       [0],\n",
              "       [0],\n",
              "       [1],\n",
              "       [0],\n",
              "       [0],\n",
              "       [0],\n",
              "       [1]])"
            ]
          },
          "metadata": {
            "tags": []
          },
          "execution_count": 40
        }
      ]
    },
    {
      "cell_type": "code",
      "metadata": {
        "id": "nS1cPG3aRug1",
        "outputId": "c70cf891-ae8f-445d-c271-c6b7f7da1738",
        "colab": {
          "base_uri": "https://localhost:8080/",
          "height": 187
        }
      },
      "source": [
        "# colocando o array a_conjunto2 do lado de a_conjunto1.\n",
        "np.c_[a_conjunto1, a_conjunto2]"
      ],
      "execution_count": null,
      "outputs": [
        {
          "output_type": "execute_result",
          "data": {
            "text/plain": [
              "array([[8, 8, 2, 8, 9, 1, 8, 0, 4, 2, 1],\n",
              "       [0, 8, 9, 3, 7, 1, 3, 2, 9, 7, 0],\n",
              "       [7, 9, 5, 6, 8, 7, 0, 9, 3, 9, 0],\n",
              "       [3, 1, 8, 6, 3, 5, 4, 1, 2, 9, 0],\n",
              "       [8, 6, 6, 1, 0, 9, 2, 0, 7, 5, 0],\n",
              "       [5, 4, 4, 2, 7, 2, 7, 9, 3, 1, 1],\n",
              "       [5, 0, 1, 2, 3, 8, 7, 5, 4, 0, 0],\n",
              "       [5, 9, 6, 6, 1, 3, 6, 0, 4, 9, 0],\n",
              "       [2, 1, 0, 9, 1, 4, 2, 9, 7, 9, 0],\n",
              "       [5, 3, 7, 6, 3, 9, 8, 4, 3, 0, 1]])"
            ]
          },
          "metadata": {
            "tags": []
          },
          "execution_count": 41
        }
      ]
    },
    {
      "cell_type": "markdown",
      "metadata": {
        "id": "kIgU1YBw0OeM"
      },
      "source": [
        "___\n",
        "# **Selecionar itens que satisfazem condições**\n",
        "> Considere o array a seguir:"
      ]
    },
    {
      "cell_type": "code",
      "metadata": {
        "id": "e2pL5anBV0DI",
        "outputId": "f37cd827-ee00-49ba-994d-77cab3a24421",
        "colab": {
          "base_uri": "https://localhost:8080/",
          "height": 34
        }
      },
      "source": [
        "a_conjunto1 = np.arange(10, 0, -1)\n",
        "a_conjunto1"
      ],
      "execution_count": null,
      "outputs": [
        {
          "output_type": "execute_result",
          "data": {
            "text/plain": [
              "array([10,  9,  8,  7,  6,  5,  4,  3,  2,  1])"
            ]
          },
          "metadata": {
            "tags": []
          },
          "execution_count": 42
        }
      ]
    },
    {
      "cell_type": "markdown",
      "metadata": {
        "id": "i9HuZZAfV302"
      },
      "source": [
        "Selecionar somente os itens > 7:"
      ]
    },
    {
      "cell_type": "markdown",
      "metadata": {
        "id": "ZCESvr7iXMkV"
      },
      "source": [
        "## Usando np.where()"
      ]
    },
    {
      "cell_type": "code",
      "metadata": {
        "id": "BdrAQLHkTS-v",
        "outputId": "44a6e480-1b6c-4dad-ee29-2fcb4ada5097",
        "colab": {
          "base_uri": "https://localhost:8080/",
          "height": 34
        }
      },
      "source": [
        "a_conjunto1"
      ],
      "execution_count": null,
      "outputs": [
        {
          "output_type": "execute_result",
          "data": {
            "text/plain": [
              "array([10,  9,  8,  7,  6,  5,  4,  3,  2,  1])"
            ]
          },
          "metadata": {
            "tags": []
          },
          "execution_count": 45
        }
      ]
    },
    {
      "cell_type": "code",
      "metadata": {
        "id": "O_ZBaWxfWA9o",
        "outputId": "fae44244-ff29-4b04-cd2d-a4c768487e75",
        "colab": {
          "base_uri": "https://localhost:8080/",
          "height": 34
        }
      },
      "source": [
        "# Índices do array que atendem a condição\n",
        "l_indices = np.where(a_conjunto1 > 7)\n",
        "l_indices"
      ],
      "execution_count": null,
      "outputs": [
        {
          "output_type": "execute_result",
          "data": {
            "text/plain": [
              "(array([0, 1, 2]),)"
            ]
          },
          "metadata": {
            "tags": []
          },
          "execution_count": 44
        }
      ]
    },
    {
      "cell_type": "markdown",
      "metadata": {
        "id": "EdWlfPOZWPME"
      },
      "source": [
        "**Atenção**: Capturamos os índices. Para selecionar os itens, basta fazer:"
      ]
    },
    {
      "cell_type": "code",
      "metadata": {
        "id": "tOxs3iYQWWxu",
        "outputId": "b402fdfd-c6e0-4170-b35c-c7c5cd2ca85e",
        "colab": {
          "base_uri": "https://localhost:8080/",
          "height": 34
        }
      },
      "source": [
        "a_conjunto2 = a_conjunto1[l_indices]\n",
        "a_conjunto2"
      ],
      "execution_count": null,
      "outputs": [
        {
          "output_type": "execute_result",
          "data": {
            "text/plain": [
              "array([10,  9,  8])"
            ]
          },
          "metadata": {
            "tags": []
          },
          "execution_count": 46
        }
      ]
    },
    {
      "cell_type": "markdown",
      "metadata": {
        "id": "PGsENqkaXRjh"
      },
      "source": [
        "## Alternativa: Usando []"
      ]
    },
    {
      "cell_type": "code",
      "metadata": {
        "id": "YbdRNk1WXTLT",
        "outputId": "062b157c-00fb-4f8f-d207-a0c8e9871e48",
        "colab": {
          "base_uri": "https://localhost:8080/",
          "height": 34
        }
      },
      "source": [
        "a_conjunto1[a_conjunto1 > 7]"
      ],
      "execution_count": null,
      "outputs": [
        {
          "output_type": "execute_result",
          "data": {
            "text/plain": [
              "array([10,  9,  8])"
            ]
          },
          "metadata": {
            "tags": []
          },
          "execution_count": 47
        }
      ]
    },
    {
      "cell_type": "markdown",
      "metadata": {
        "id": "jijpzFxcSQC8"
      },
      "source": [
        "Acho que vale a pena quebrar esta solução para entendermos melhor como as coisas funcionam:#"
      ]
    },
    {
      "cell_type": "code",
      "metadata": {
        "id": "rujhP2LQSWsq"
      },
      "source": [
        " # Primeiro, avalie o resultado de a_conjunto1 > 7:"
      ],
      "execution_count": null,
      "outputs": []
    },
    {
      "cell_type": "code",
      "metadata": {
        "id": "FYZaBsasSb3N",
        "outputId": "0a190896-249c-4d7c-ea0d-a20a53536446",
        "colab": {
          "base_uri": "https://localhost:8080/",
          "height": 51
        }
      },
      "source": [
        "a_conjunto1 > 7"
      ],
      "execution_count": null,
      "outputs": [
        {
          "output_type": "execute_result",
          "data": {
            "text/plain": [
              "array([ True,  True,  True, False, False, False, False, False, False,\n",
              "       False])"
            ]
          },
          "metadata": {
            "tags": []
          },
          "execution_count": 48
        }
      ]
    },
    {
      "cell_type": "code",
      "metadata": {
        "id": "mvEof-UKaaVG"
      },
      "source": [
        "a_conjunto1[a_conjunto1 > 7]"
      ],
      "execution_count": null,
      "outputs": []
    },
    {
      "cell_type": "code",
      "metadata": {
        "id": "nO4FiBmDUZOT",
        "outputId": "9f54e601-d95a-444c-bd59-28947e332248",
        "colab": {
          "base_uri": "https://localhost:8080/",
          "height": 34
        }
      },
      "source": [
        "a_conjunto1"
      ],
      "execution_count": null,
      "outputs": [
        {
          "output_type": "execute_result",
          "data": {
            "text/plain": [
              "array([-1, -1, -1,  7,  6,  5,  4,  3,  2,  1])"
            ]
          },
          "metadata": {
            "tags": []
          },
          "execution_count": 52
        }
      ]
    },
    {
      "cell_type": "markdown",
      "metadata": {
        "id": "Ci5lT9nmSfsX"
      },
      "source": [
        "Agora, com este resultado, fica fácil entender como o Python seleciona os elementos. Consegue explicar?"
      ]
    },
    {
      "cell_type": "markdown",
      "metadata": {
        "id": "1v5Lfin0GGKD"
      },
      "source": [
        "# Substituir itens baseado em condições\n",
        "> Substituir os valores negativos do array abaixo por 0."
      ]
    },
    {
      "cell_type": "markdown",
      "metadata": {
        "id": "CLY_u0ePWdN7"
      },
      "source": [
        "## Gerar o exemplo"
      ]
    },
    {
      "cell_type": "code",
      "metadata": {
        "id": "NUANFy-fNXf5"
      },
      "source": [
        "np.random.seed(20111974)\n",
        "a_conjunto1 = np.array(np.random.randint(0, 10, size = 100))\n",
        "\n",
        "# Lista aleatória de índices que vou alterar\n",
        "np.random.seed(20111974)\n",
        "l_indices= np.random.randint(0, 99, 9)\n",
        "\n",
        "for i in l_indices:\n",
        "    a_conjunto1[i] = -1*a_conjunto1[i]\n",
        "\n",
        "a_conjunto2 = a_conjunto1.copy()\n",
        "a_conjunto2"
      ],
      "execution_count": null,
      "outputs": []
    },
    {
      "cell_type": "code",
      "metadata": {
        "id": "dWVyI40uN2d2"
      },
      "source": [
        "# Indices a serem multiplicados por -1:\n",
        "l_indices"
      ],
      "execution_count": null,
      "outputs": []
    },
    {
      "cell_type": "markdown",
      "metadata": {
        "id": "3Whuu854OJDZ"
      },
      "source": [
        "## Substituir os valores negativos por 0"
      ]
    },
    {
      "cell_type": "code",
      "metadata": {
        "id": "sr268Rp8b-Se",
        "outputId": "82514805-b350-45c4-a3fc-7cb24c847b7f",
        "colab": {
          "base_uri": "https://localhost:8080/",
          "height": 34
        }
      },
      "source": [
        "a_conjunto2 < 0"
      ],
      "execution_count": null,
      "outputs": [
        {
          "output_type": "execute_result",
          "data": {
            "text/plain": [
              "array([False, False, False])"
            ]
          },
          "metadata": {
            "tags": []
          },
          "execution_count": 50
        }
      ]
    },
    {
      "cell_type": "code",
      "metadata": {
        "id": "C-eKqPrfOQF6"
      },
      "source": [
        "a_conjunto2[a_conjunto2 < 0] = 0\n",
        "a_conjunto2"
      ],
      "execution_count": null,
      "outputs": []
    },
    {
      "cell_type": "markdown",
      "metadata": {
        "id": "eDLM0_JSZlfB"
      },
      "source": [
        "Observe acima que os valores negativos foram substituídos por 0, como queríamos."
      ]
    },
    {
      "cell_type": "markdown",
      "metadata": {
        "id": "AEHJ0rA3dHHU"
      },
      "source": [
        "## Substituir os valores negativos por 0 e os positivos por 1"
      ]
    },
    {
      "cell_type": "code",
      "metadata": {
        "id": "y32J8SRNZwRF"
      },
      "source": [
        "a_conjunto2 = a_conjunto1.copy()\n",
        "a_conjunto2"
      ],
      "execution_count": null,
      "outputs": []
    },
    {
      "cell_type": "code",
      "metadata": {
        "id": "1bSD9Fs6P5wW"
      },
      "source": [
        "a_conjunto2 = np.where(a_conjunto2 <= 0, 0, 1)\n",
        "a_conjunto2"
      ],
      "execution_count": null,
      "outputs": []
    },
    {
      "cell_type": "markdown",
      "metadata": {
        "id": "i027scjl0qkm"
      },
      "source": [
        "___\n",
        "# Outliers\n",
        "> Qualquer ponto/observação que é incomum quando comparado com todos os outros pontos/observações."
      ]
    },
    {
      "cell_type": "markdown",
      "metadata": {
        "id": "UnDTqRnZHQ3W"
      },
      "source": [
        "## Z-Score\n",
        "\n",
        "* Z-Score pode ser utilizado para detectar Outliers.\n",
        "* É a diferença entre o valor e a média da amostra expressa como o número de desvios-padrão. \n",
        "* Se o escore z for menor que 2,5 ou maior que 2,5, o valor estará nos 5% do menor ou maior valor (2,5% dos valores em ambas as extremidades da distribuição). No entanto, é pratica comum utilizarmos 3 ao invés dos 2,5.\n",
        "\n",
        "![Z_Score](https://github.com/MathMachado/Materials/blob/master/Z_Score.png?raw=true)"
      ]
    },
    {
      "cell_type": "markdown",
      "metadata": {
        "id": "N7gb2zhtd0uM"
      },
      "source": [
        "## IQR Score\n",
        "\n",
        "* O Intervalo interquartil (IQR) é uma medida de dispersão estatística, sendo igual à diferença entre os percentis 75 (Q3) e 25 (Q1), ou entre quartis superiores e inferiores, IQR = Q3 - Q1."
      ]
    },
    {
      "cell_type": "markdown",
      "metadata": {
        "id": "lMmWOKNvghI7"
      },
      "source": [
        "![BoxPlot](https://github.com/MathMachado/Materials/blob/master/boxplot.png?raw=true)"
      ]
    },
    {
      "cell_type": "markdown",
      "metadata": {
        "id": "DUw_a-MjWvBc"
      },
      "source": [
        "### Desafio para resolverem\n",
        "> **Objetivo**: Simular aleatoriamente o salário de 1.000 pessoas com distribuição N(1.045; 100). \n",
        "* Identificar os _outliers_ da distribuição que acabamos de simular;\n",
        "* Qual a média da distribuição que simulamos?\n",
        "* Qual o desvio-padrão;\n",
        "* Plotar o Boxplot da distribuição dos dados;\n",
        "* Quantas pessoas > Q3 + 1.5*(Q3-Q1)\n",
        "* Substituir os outliers do array por:\n",
        "    * Q1-1.5*(Q3 - Q1), se ponto < Q1-1.5*(Q3-Q1)\n",
        "    * Q3+1.5*(Q3 - Q1), se ponto > Q3+1.5*(Q3-Q1)\n",
        "\n",
        "Obs.: Use np.random.seed(20111974)."
      ]
    },
    {
      "cell_type": "markdown",
      "metadata": {
        "id": "L9ntAdS_oOAh"
      },
      "source": [
        "### Geração aleatória do array a_salarios com distribuição $N(\\mu, \\sigma)$"
      ]
    },
    {
      "cell_type": "code",
      "metadata": {
        "id": "RL0Zb0fyDory",
        "outputId": "2a3d2b33-579c-406d-d662-da4458f164e6",
        "colab": {
          "base_uri": "https://localhost:8080/",
          "height": 102
        }
      },
      "source": [
        "import numpy as np\n",
        "np.random.seed(20111974)\n",
        "np.set_printoptions(precision = 2, suppress = True)\n",
        "\n",
        "media = 1045\n",
        "desvio_padrao = 100\n",
        "i_tamanho = 1000\n",
        "\n",
        "a_salarios = np.array(np.random.normal(media, desvio_padrao, size = i_tamanho))\n",
        "a_salarios[:30]"
      ],
      "execution_count": 5,
      "outputs": [
        {
          "output_type": "execute_result",
          "data": {
            "text/plain": [
              "array([1295.63, 1156.44, 1250.57, 1101.48, 1074.9 , 1149.93, 1032.39,\n",
              "       1151.23, 1158.81, 1182.97,  839.  , 1112.47, 1117.72, 1011.08,\n",
              "       1088.61, 1104.14,  915.72, 1162.71,  946.36,  865.97,  936.09,\n",
              "        954.29,  942.71,  908.55, 1015.57, 1051.34,  930.8 ,  994.29,\n",
              "        961.46,  903.51])"
            ]
          },
          "metadata": {
            "tags": []
          },
          "execution_count": 5
        }
      ]
    },
    {
      "cell_type": "markdown",
      "metadata": {
        "id": "Fc3a-yhViCTs"
      },
      "source": [
        "### Geração aleatória dos índices que serão (manualmente) alterados"
      ]
    },
    {
      "cell_type": "code",
      "metadata": {
        "id": "Iakt6i1cgEcB",
        "outputId": "9cc09094-5420-4078-a387-e22a58c13f7a",
        "colab": {
          "base_uri": "https://localhost:8080/",
          "height": 34
        }
      },
      "source": [
        "# Lista aleatória de índices que vou alterar\n",
        "np.random.seed(19741120)\n",
        "l_indices = np.random.randint(0, 999, 10)\n",
        "\n",
        "# Estas são as posições que serão alteradas\n",
        "np.sort(l_indices)"
      ],
      "execution_count": 6,
      "outputs": [
        {
          "output_type": "execute_result",
          "data": {
            "text/plain": [
              "array([ 14, 105, 208, 349, 484, 567, 615, 616, 622, 847])"
            ]
          },
          "metadata": {
            "tags": []
          },
          "execution_count": 6
        }
      ]
    },
    {
      "cell_type": "markdown",
      "metadata": {
        "id": "oXwME1rciHkw"
      },
      "source": [
        "### Cópia dos salários para compararmos o ANTES e DEPOIS"
      ]
    },
    {
      "cell_type": "code",
      "metadata": {
        "id": "BEtnua7sgp_y",
        "outputId": "85b67195-c61a-4f05-ea8f-fc5b05d8973b",
        "colab": {
          "base_uri": "https://localhost:8080/",
          "height": 102
        }
      },
      "source": [
        "# cópia do array a_salarios\n",
        "a_salarios_copia = a_salarios.copy()\n",
        "a_salarios_copia2 = a_salarios.copy()\n",
        "\n",
        "a_salarios[:30]"
      ],
      "execution_count": 7,
      "outputs": [
        {
          "output_type": "execute_result",
          "data": {
            "text/plain": [
              "array([1295.63, 1156.44, 1250.57, 1101.48, 1074.9 , 1149.93, 1032.39,\n",
              "       1151.23, 1158.81, 1182.97,  839.  , 1112.47, 1117.72, 1011.08,\n",
              "       1088.61, 1104.14,  915.72, 1162.71,  946.36,  865.97,  936.09,\n",
              "        954.29,  942.71,  908.55, 1015.57, 1051.34,  930.8 ,  994.29,\n",
              "        961.46,  903.51])"
            ]
          },
          "metadata": {
            "tags": []
          },
          "execution_count": 7
        }
      ]
    },
    {
      "cell_type": "markdown",
      "metadata": {
        "id": "So8qj3Yrh-Az"
      },
      "source": [
        "### Alteração (manual dos salários): 2 alternativas\n",
        "> Vamos medir o tempo para avaliarmos o que é mais rápido. Qual solução é mais rápida?"
      ]
    },
    {
      "cell_type": "code",
      "metadata": {
        "id": "Z0613on8z5VH"
      },
      "source": [
        "from timeit import default_timer as timer\n",
        "from datetime import timedelta"
      ],
      "execution_count": 8,
      "outputs": []
    },
    {
      "cell_type": "code",
      "metadata": {
        "id": "NpvvholVxMhs",
        "outputId": "2dbfff71-3249-4fd8-fd48-c9e1356dde34",
        "colab": {
          "base_uri": "https://localhost:8080/",
          "height": 34
        }
      },
      "source": [
        "# Índices a serem alterados\n",
        "l_indices"
      ],
      "execution_count": 9,
      "outputs": [
        {
          "output_type": "execute_result",
          "data": {
            "text/plain": [
              "array([567,  14, 616, 484, 208, 105, 349, 615, 622, 847])"
            ]
          },
          "metadata": {
            "tags": []
          },
          "execution_count": 9
        }
      ]
    },
    {
      "cell_type": "markdown",
      "metadata": {
        "id": "BqXsmMdm1yF-"
      },
      "source": [
        "#### Solução 1"
      ]
    },
    {
      "cell_type": "code",
      "metadata": {
        "id": "FiiOrlnbgKOD",
        "outputId": "82a3c137-568d-4776-d952-11d00b1e40e7",
        "colab": {
          "base_uri": "https://localhost:8080/",
          "height": 34
        }
      },
      "source": [
        "# Alteração dos salários dos índices propostos\n",
        "start = timer()\n",
        "for i_indice in l_indices:\n",
        "    a_salarios_copia[i_indice] = 2*a_salarios[i_indice] # Loop para os índices a serem alterados (manualmente)\n",
        "\n",
        "a_salarios_copia[:30]\n",
        "end = timer()\n",
        "print(timedelta(seconds=end-start))"
      ],
      "execution_count": 10,
      "outputs": [
        {
          "output_type": "stream",
          "text": [
            "0:00:00.000094\n"
          ],
          "name": "stdout"
        }
      ]
    },
    {
      "cell_type": "markdown",
      "metadata": {
        "id": "FgvKC-aFzWpZ"
      },
      "source": [
        "#### Solução 2"
      ]
    },
    {
      "cell_type": "code",
      "metadata": {
        "id": "XWlQC5Jazt26",
        "outputId": "8640d081-99ae-4235-e2de-620d6152193b",
        "colab": {
          "base_uri": "https://localhost:8080/",
          "height": 34
        }
      },
      "source": [
        "start = timer()\n",
        "a_salarios_copia2[l_indices] = 2*a_salarios_copia2[l_indices]\n",
        "a_salarios_copia2[:30]\n",
        "end = timer()\n",
        "print(timedelta(seconds=end-start))"
      ],
      "execution_count": 11,
      "outputs": [
        {
          "output_type": "stream",
          "text": [
            "0:00:00.000090\n"
          ],
          "name": "stdout"
        }
      ]
    },
    {
      "cell_type": "markdown",
      "metadata": {
        "id": "U92w03afhrmC"
      },
      "source": [
        "### Compare"
      ]
    },
    {
      "cell_type": "code",
      "metadata": {
        "id": "Ls-jCFCYhtD8",
        "outputId": "04b7eff2-67d0-4f8f-8812-0b4be9bb7cb7",
        "colab": {
          "base_uri": "https://localhost:8080/",
          "height": 51
        }
      },
      "source": [
        "# Antes\n",
        "a_salarios[l_indices]"
      ],
      "execution_count": 12,
      "outputs": [
        {
          "output_type": "execute_result",
          "data": {
            "text/plain": [
              "array([ 826.43, 1088.61, 1121.95,  833.96, 1165.97, 1081.13, 1078.51,\n",
              "       1094.67,  904.32, 1128.66])"
            ]
          },
          "metadata": {
            "tags": []
          },
          "execution_count": 12
        }
      ]
    },
    {
      "cell_type": "code",
      "metadata": {
        "id": "nwwU06OahzD2",
        "outputId": "e18448a4-97f4-452c-da95-3d1db69b1033",
        "colab": {
          "base_uri": "https://localhost:8080/",
          "height": 51
        }
      },
      "source": [
        "# Depois\n",
        "a_salarios_copia[l_indices]"
      ],
      "execution_count": 13,
      "outputs": [
        {
          "output_type": "execute_result",
          "data": {
            "text/plain": [
              "array([1652.85, 2177.23, 2243.89, 1667.93, 2331.93, 2162.26, 2157.02,\n",
              "       2189.34, 1808.63, 2257.32])"
            ]
          },
          "metadata": {
            "tags": []
          },
          "execution_count": 13
        }
      ]
    },
    {
      "cell_type": "code",
      "metadata": {
        "id": "qyUUdHmtisJS",
        "outputId": "779e41e6-cb77-4966-b5d5-fe4d5b4f2ab2",
        "colab": {
          "base_uri": "https://localhost:8080/",
          "height": 102
        }
      },
      "source": [
        "# 30 primeiras elementos de a_salarios\n",
        "a_salarios[:30]"
      ],
      "execution_count": 14,
      "outputs": [
        {
          "output_type": "execute_result",
          "data": {
            "text/plain": [
              "array([1295.63, 1156.44, 1250.57, 1101.48, 1074.9 , 1149.93, 1032.39,\n",
              "       1151.23, 1158.81, 1182.97,  839.  , 1112.47, 1117.72, 1011.08,\n",
              "       1088.61, 1104.14,  915.72, 1162.71,  946.36,  865.97,  936.09,\n",
              "        954.29,  942.71,  908.55, 1015.57, 1051.34,  930.8 ,  994.29,\n",
              "        961.46,  903.51])"
            ]
          },
          "metadata": {
            "tags": []
          },
          "execution_count": 14
        }
      ]
    },
    {
      "cell_type": "code",
      "metadata": {
        "id": "CJ1FEjlCi0-n",
        "outputId": "5c6c8845-8f83-4047-9f4f-3034d2ec2af7",
        "colab": {
          "base_uri": "https://localhost:8080/",
          "height": 102
        }
      },
      "source": [
        "# 30 primeiras posições de a_salarios_copia\n",
        "a_salarios_copia[:30]"
      ],
      "execution_count": 15,
      "outputs": [
        {
          "output_type": "execute_result",
          "data": {
            "text/plain": [
              "array([1295.63, 1156.44, 1250.57, 1101.48, 1074.9 , 1149.93, 1032.39,\n",
              "       1151.23, 1158.81, 1182.97,  839.  , 1112.47, 1117.72, 1011.08,\n",
              "       2177.23, 1104.14,  915.72, 1162.71,  946.36,  865.97,  936.09,\n",
              "        954.29,  942.71,  908.55, 1015.57, 1051.34,  930.8 ,  994.29,\n",
              "        961.46,  903.51])"
            ]
          },
          "metadata": {
            "tags": []
          },
          "execution_count": 15
        }
      ]
    },
    {
      "cell_type": "markdown",
      "metadata": {
        "id": "wKbSUgxxiOUL"
      },
      "source": [
        "### Algumas Estatísticas descritivas:\n",
        "#### Antes"
      ]
    },
    {
      "cell_type": "code",
      "metadata": {
        "id": "ZnmykyahLWX9",
        "outputId": "b2c70db1-2870-48e7-c031-94f122415bc8",
        "colab": {
          "base_uri": "https://localhost:8080/",
          "height": 35
        }
      },
      "source": [
        "f'Média: {np.mean(a_salarios)}; Mediana: {np.median(a_salarios)}; STD: {np.std(a_salarios)}'"
      ],
      "execution_count": 16,
      "outputs": [
        {
          "output_type": "execute_result",
          "data": {
            "application/vnd.google.colaboratory.intrinsic+json": {
              "type": "string"
            },
            "text/plain": [
              "'Média: 1047.150212238584; Mediana: 1047.631166829137; STD: 101.18708333868835'"
            ]
          },
          "metadata": {
            "tags": []
          },
          "execution_count": 16
        }
      ]
    },
    {
      "cell_type": "code",
      "metadata": {
        "id": "80H92CIjibYJ"
      },
      "source": [
        "#### Depois"
      ],
      "execution_count": 17,
      "outputs": []
    },
    {
      "cell_type": "code",
      "metadata": {
        "id": "5iO-BAikieHJ",
        "outputId": "ea72b3f5-5682-4971-e1f5-26aec68bc43c",
        "colab": {
          "base_uri": "https://localhost:8080/",
          "height": 35
        }
      },
      "source": [
        "f'Média: {np.mean(a_salarios_copia)}; Mediana: {np.median(a_salarios_copia)}; STD: {np.std(a_salarios_copia)}'"
      ],
      "execution_count": 18,
      "outputs": [
        {
          "output_type": "execute_result",
          "data": {
            "application/vnd.google.colaboratory.intrinsic+json": {
              "type": "string"
            },
            "text/plain": [
              "'Média: 1057.4744151862524; Mediana: 1048.089607774499; STD: 144.64306489539533'"
            ]
          },
          "metadata": {
            "tags": []
          },
          "execution_count": 18
        }
      ]
    },
    {
      "cell_type": "markdown",
      "metadata": {
        "id": "ILhNe80xW5C6"
      },
      "source": [
        "### Solução do desafio"
      ]
    },
    {
      "cell_type": "code",
      "metadata": {
        "id": "U993i1GJg2hk",
        "outputId": "bf91af51-aac7-4008-8cc3-342573752205",
        "colab": {
          "base_uri": "https://localhost:8080/",
          "height": 271
        }
      },
      "source": [
        "# Import a biblioteca seaborn:\n",
        "import seaborn as sns\n",
        "sns.boxplot(y = a_salarios_copia)"
      ],
      "execution_count": 19,
      "outputs": [
        {
          "output_type": "execute_result",
          "data": {
            "text/plain": [
              "<matplotlib.axes._subplots.AxesSubplot at 0x7fc0057c1cf8>"
            ]
          },
          "metadata": {
            "tags": []
          },
          "execution_count": 19
        },
        {
          "output_type": "display_data",
          "data": {
            "image/png": "[encoded data removed]",
            "text/plain": [
              "<Figure size 432x288 with 1 Axes>"
            ]
          },
          "metadata": {
            "tags": [],
            "needs_background": "light"
          }
        }
      ]
    },
    {
      "cell_type": "markdown",
      "metadata": {
        "id": "VtenLK1uK1Pi"
      },
      "source": [
        "Consegue identificar os outliers do array?"
      ]
    },
    {
      "cell_type": "markdown",
      "metadata": {
        "id": "e3sHuGVGFBdW"
      },
      "source": [
        "## Objetivo\n",
        "> Substituir os outliers por mediana. \n",
        "\n",
        "* Como fazer isso?"
      ]
    },
    {
      "cell_type": "markdown",
      "metadata": {
        "id": "RSegPNKCI-dS"
      },
      "source": [
        "### Siga os passos a seguir\n",
        "1. Calcule estatísticas descritivas antes das transformações par avaliar o impacto;\n",
        "    * Calcule média, mediana e desvio-padrão dos dados originais;\n",
        "2. Calcule os valores a seguir:\n",
        "    * Q1, Q3\n",
        "    * IQR = Q3-Q1\n",
        "    * lim_inferior = Q1-1.5\\*IQR\n",
        "    * lim_superior = Q3+1.5\\*IQR\n",
        "3. Proceda à substituição:\n",
        "    * Se a_salarios_copia[i] < lim_inferior então a_salarios_copia[i]= Mediana\n",
        "    * Se a_salarios_copia[i] > lim_superior então a_salarios_copia[i]= Mediana\n",
        "4. Calcule as estatísticas descritivas após as substituições e compare com os valores antes das transformações."
      ]
    },
    {
      "cell_type": "markdown",
      "metadata": {
        "id": "9DQ7YnWaFn4v"
      },
      "source": [
        "### Minha solução\n"
      ]
    },
    {
      "cell_type": "markdown",
      "metadata": {
        "id": "RBXJbTeGLC7Q"
      },
      "source": [
        "1. Estatísticas Descritivas antes das transformações:"
      ]
    },
    {
      "cell_type": "code",
      "metadata": {
        "id": "QueKYn7MLG12",
        "outputId": "11daf3fe-c4c9-446e-cb46-cf6378c02779",
        "colab": {
          "base_uri": "https://localhost:8080/",
          "height": 35
        }
      },
      "source": [
        "# Algumas estatísticas descritivas:\n",
        "f'Média: {np.mean(a_salarios_copia)}; Mediana: {np.median(a_salarios_copia)}; STD: {np.std(a_salarios_copia)}'"
      ],
      "execution_count": 20,
      "outputs": [
        {
          "output_type": "execute_result",
          "data": {
            "application/vnd.google.colaboratory.intrinsic+json": {
              "type": "string"
            },
            "text/plain": [
              "'Média: 1057.4744151862524; Mediana: 1048.089607774499; STD: 144.64306489539533'"
            ]
          },
          "metadata": {
            "tags": []
          },
          "execution_count": 20
        }
      ]
    },
    {
      "cell_type": "markdown",
      "metadata": {
        "id": "oOBJ8INWL5fo"
      },
      "source": [
        "Observe o quanto nossos dados estão distorcidos dos valores originalmente utilizados."
      ]
    },
    {
      "cell_type": "markdown",
      "metadata": {
        "id": "MX-fJeh2MBTD"
      },
      "source": [
        "2. Calcular Q1, Q3 e IQR"
      ]
    },
    {
      "cell_type": "code",
      "metadata": {
        "id": "JlsPiQeGMGeU"
      },
      "source": [
        "Q1 = np.percentile(a_salarios_copia, q = [25])\n",
        "Q3 = np.percentile(a_salarios_copia, q = [75])\n",
        "Q2 = np.percentile(a_salarios_copia, q = [50])\n",
        "IQR = Q3-Q1\n",
        "lim_inferior = Q1-1.5*IQR\n",
        "lim_superior = Q3+1.5*IQR"
      ],
      "execution_count": 21,
      "outputs": []
    },
    {
      "cell_type": "code",
      "metadata": {
        "id": "VF2NJ3rCeI1_",
        "outputId": "e8e38919-ee69-4d21-db00-1abb7bd4fb9b",
        "colab": {
          "base_uri": "https://localhost:8080/",
          "height": 35
        }
      },
      "source": [
        "f'Q1: {Q1}; Q3: {Q3}; lim_inferior: {lim_inferior}; lim_superior: {lim_superior}'"
      ],
      "execution_count": 22,
      "outputs": [
        {
          "output_type": "execute_result",
          "data": {
            "application/vnd.google.colaboratory.intrinsic+json": {
              "type": "string"
            },
            "text/plain": [
              "'Q1: [974.41]; Q3: [1119.81]; lim_inferior: [756.33]; lim_superior: [1337.89]'"
            ]
          },
          "metadata": {
            "tags": []
          },
          "execution_count": 22
        }
      ]
    },
    {
      "cell_type": "markdown",
      "metadata": {
        "id": "JjnwJ7HwMxcl"
      },
      "source": [
        "3. Substituir\n",
        "* Se a_conjunto1[i] < lim_inferior então a_conjunto1[i] = Mediana\n",
        "* Se a_conjunto1[i] > Lia_Sup então a_conjunto1[i] = Mediana"
      ]
    },
    {
      "cell_type": "code",
      "metadata": {
        "id": "hcAn-IwVfbcI"
      },
      "source": [
        "a_salarios2 = a_salarios_copia.copy()"
      ],
      "execution_count": 23,
      "outputs": []
    },
    {
      "cell_type": "code",
      "metadata": {
        "id": "J3SSE45oM9oh",
        "outputId": "53db1a1d-8483-40f9-8cbc-196b79e449ff",
        "colab": {
          "base_uri": "https://localhost:8080/",
          "height": 102
        }
      },
      "source": [
        "a_salarios2[a_salarios2 < lim_inferior[0]] = Q2[0]\n",
        "#para todos que atendam essa condição ele vai receber o valor da mediana\n",
        "a_salarios2[a_salarios2 > lim_superior[0]] = Q2[0]\n",
        "a_salarios2[:30]"
      ],
      "execution_count": 24,
      "outputs": [
        {
          "output_type": "execute_result",
          "data": {
            "text/plain": [
              "array([1295.63, 1156.44, 1250.57, 1101.48, 1074.9 , 1149.93, 1032.39,\n",
              "       1151.23, 1158.81, 1182.97,  839.  , 1112.47, 1117.72, 1011.08,\n",
              "       1048.09, 1104.14,  915.72, 1162.71,  946.36,  865.97,  936.09,\n",
              "        954.29,  942.71,  908.55, 1015.57, 1051.34,  930.8 ,  994.29,\n",
              "        961.46,  903.51])"
            ]
          },
          "metadata": {
            "tags": []
          },
          "execution_count": 24
        }
      ]
    },
    {
      "cell_type": "markdown",
      "metadata": {
        "id": "VEGFio0Nfj7O"
      },
      "source": [
        "4. Estatísticas Descritivas para avaliarmos o impacto:"
      ]
    },
    {
      "cell_type": "code",
      "metadata": {
        "id": "gX1LZHFqfjFQ",
        "outputId": "31a986a8-79bd-4c04-daf2-3fa1e8ca9f44",
        "colab": {
          "base_uri": "https://localhost:8080/",
          "height": 35
        }
      },
      "source": [
        "# Algumas estatísticas descritivas:\n",
        "f'Média: {np.mean(a_salarios2)}; Mediana: {np.median(a_salarios2)}; STD: {np.std(a_salarios2)}'"
      ],
      "execution_count": 25,
      "outputs": [
        {
          "output_type": "execute_result",
          "data": {
            "application/vnd.google.colaboratory.intrinsic+json": {
              "type": "string"
            },
            "text/plain": [
              "'Média: 1047.3019702056902; Mediana: 1048.089607774499; STD: 98.3265929249586'"
            ]
          },
          "metadata": {
            "tags": []
          },
          "execution_count": 25
        }
      ]
    },
    {
      "cell_type": "code",
      "metadata": {
        "id": "-xnguZ7XgyvK",
        "outputId": "98be8554-e55a-4d5b-e418-4712377c627e",
        "colab": {
          "base_uri": "https://localhost:8080/",
          "height": 269
        }
      },
      "source": [
        "# Import a biblioteca seaborn:\n",
        "import seaborn as sns\n",
        "sns.boxplot(y = a_salarios2)"
      ],
      "execution_count": 26,
      "outputs": [
        {
          "output_type": "execute_result",
          "data": {
            "text/plain": [
              "<matplotlib.axes._subplots.AxesSubplot at 0x7fc0056fc0f0>"
            ]
          },
          "metadata": {
            "tags": []
          },
          "execution_count": 26
        },
        {
          "output_type": "display_data",
          "data": {
            "image/png": "[encoded data removed]",
            "text/plain": [
              "<Figure size 432x288 with 1 Axes>"
            ]
          },
          "metadata": {
            "tags": [],
            "needs_background": "light"
          }
        }
      ]
    },
    {
      "cell_type": "markdown",
      "metadata": {
        "id": "uEPFcBjFhETQ"
      },
      "source": [
        "Como podem ver, os outliers desapareceram, como queríamos."
      ]
    },
    {
      "cell_type": "markdown",
      "metadata": {
        "id": "tHfzjW_ymKuR"
      },
      "source": [
        "___\n",
        "# **Valores únicos**\n",
        "> Considere o array a seguir:"
      ]
    },
    {
      "cell_type": "code",
      "metadata": {
        "id": "HzmQgWZVmUUD"
      },
      "source": [
        "np.random.seed(20111974)\n",
        "a_conjunto1 = np.random.randint(0, 100, 100)\n",
        "a_conjunto1"
      ],
      "execution_count": null,
      "outputs": []
    },
    {
      "cell_type": "markdown",
      "metadata": {
        "id": "Dm9ky1F1mrNA"
      },
      "source": [
        "Quem são os valores únicos do array?"
      ]
    },
    {
      "cell_type": "code",
      "metadata": {
        "id": "G-LPRqc-mS5j"
      },
      "source": [
        "np.unique(a_conjunto1)"
      ],
      "execution_count": null,
      "outputs": []
    },
    {
      "cell_type": "markdown",
      "metadata": {
        "id": "uXZZoTd6nMuq"
      },
      "source": [
        "___\n",
        "# **Diferença entre dois arrays**\n",
        "> O resultado é um array com os **valores únicos de A que não estão em B**. Na teoria de conjuntos escrevemos $A - B = A - A \\cap B$.\n",
        "\n",
        "![Difference](https://github.com/MathMachado/Materials/blob/master/set_Difference.PNG?raw=true)\n",
        "\n",
        "Fonte: [Python Set](https://www.learnbyexample.org/python-set/)"
      ]
    },
    {
      "cell_type": "markdown",
      "metadata": {
        "id": "uW6i3m9q1ZNs"
      },
      "source": [
        "\n",
        "* Vamos ver como isso funciona na prática:"
      ]
    },
    {
      "cell_type": "markdown",
      "metadata": {
        "id": "vw05sfe22mfk"
      },
      "source": [
        "## Exemplo 1"
      ]
    },
    {
      "cell_type": "code",
      "metadata": {
        "id": "Qqw2do90nQ7k"
      },
      "source": [
        "a_conjunto1 = np.array([0, 1, 2, 4, 5, 7, 8, 8]) # array de valores que serão excluidos em a_conjunto1. Observe que '3' não pertence a a_conjunto1.\n",
        "a_conjunto2 = np.array([1, 6, 7, 3])"
      ],
      "execution_count": null,
      "outputs": []
    },
    {
      "cell_type": "code",
      "metadata": {
        "id": "zXJ00pOMorM-"
      },
      "source": [
        "np.setdiff1d(a_conjunto1, a_conjunto2)"
      ],
      "execution_count": null,
      "outputs": []
    },
    {
      "cell_type": "markdown",
      "metadata": {
        "id": "8GXZNgjfo8lO"
      },
      "source": [
        "Observe que o resultado são os elementos de a_conjunto1 que não pertencem a x_Y. Mas como fica o '3' nesta história?"
      ]
    },
    {
      "cell_type": "markdown",
      "metadata": {
        "id": "aJSu6VKb2oc_"
      },
      "source": [
        "## Exemplo 2"
      ]
    },
    {
      "cell_type": "code",
      "metadata": {
        "id": "N1wahElXTqoB"
      },
      "source": [
        "a_conjunto1 = np.arange(10)\n",
        "a_conjunto1"
      ],
      "execution_count": null,
      "outputs": []
    },
    {
      "cell_type": "code",
      "metadata": {
        "id": "nxDpCMg7T7Rj"
      },
      "source": [
        "a_conjunto2 = np.array([1, 5, 7])\n",
        "a_conjunto2"
      ],
      "execution_count": null,
      "outputs": []
    },
    {
      "cell_type": "code",
      "metadata": {
        "id": "3LU3qYyiUXqm"
      },
      "source": [
        "np.setdiff1d(a_conjunto1, a_conjunto2)"
      ],
      "execution_count": null,
      "outputs": []
    },
    {
      "cell_type": "markdown",
      "metadata": {
        "id": "mzZEytrRUioU"
      },
      "source": [
        "Observe que os elementos de a_conjunto2 foram deletados de a_conjunto1. Ok?"
      ]
    },
    {
      "cell_type": "markdown",
      "metadata": {
        "id": "gJRcoVRUnaY9"
      },
      "source": [
        "___\n",
        "# Diferença Simétrica\n",
        "* Em teoria de conjuntos, chamamos de Diferença Simétrica e escrevemos $(A \\cup B)- (A \\cap B)$.\n",
        "\n",
        "![DifferenceSymetric](https://github.com/MathMachado/Materials/blob/master/set_DifferenceSymetric.PNG?raw=true)\n",
        "\n",
        "Fonte: [Python Set](https://www.learnbyexample.org/python-set/)"
      ]
    },
    {
      "cell_type": "markdown",
      "metadata": {
        "id": "2Uzzm85Kup3H"
      },
      "source": [
        "* Vamos ver como isso funciona na prática:"
      ]
    },
    {
      "cell_type": "code",
      "metadata": {
        "id": "1z5wZ8VwpsWN"
      },
      "source": [
        "import numpy as np\n",
        "a_conjunto1 = np.array([0, 1, 2, 4, 5, 7, 8]) # Observe que [1, 4, 7] pertencem a a_conjunto1, mas 3, não. Portanto:\n",
        "a_conjunto2 = np.array([1, 4, 7, 3])"
      ],
      "execution_count": null,
      "outputs": []
    },
    {
      "cell_type": "code",
      "metadata": {
        "id": "Tqd_9XO5p7bo"
      },
      "source": [
        "np.setxor1d(a_conjunto1, a_conjunto2)"
      ],
      "execution_count": null,
      "outputs": []
    },
    {
      "cell_type": "markdown",
      "metadata": {
        "id": "_meurG3mqS5Y"
      },
      "source": [
        "Como explicamos ou interpretamos este resultado?"
      ]
    },
    {
      "cell_type": "markdown",
      "metadata": {
        "id": "Kc8JoKe2nj2n"
      },
      "source": [
        "___\n",
        "# **União de dois arrays**\n",
        "> Retorna os valores **únicos** dos dois arrays. Na teoria dos conjuntos, escrevemos:\n",
        "\n",
        "$$A \\cup B$$\n",
        "\n",
        "![Union](https://github.com/MathMachado/Materials/blob/master/set_Union.PNG?raw=true)\n",
        "\n",
        "Fonte: [Python Set](https://www.learnbyexample.org/python-set/)"
      ]
    },
    {
      "cell_type": "code",
      "metadata": {
        "id": "1LZxorw2p2mg"
      },
      "source": [
        "a_conjunto1 = np.array([0, 1, 2, 4, 5, 7, 8, 8])\n",
        "\n",
        "# Observe que [1, 4, 7] pertencem a a_conjunto1, mas 3, não. Portanto:\n",
        "a_conjunto2 = np.array([1, 4, 7, 3])"
      ],
      "execution_count": null,
      "outputs": []
    },
    {
      "cell_type": "code",
      "metadata": {
        "id": "COsZEmSwuY5L"
      },
      "source": [
        "np.union1d(a_conjunto1, a_conjunto2)"
      ],
      "execution_count": null,
      "outputs": []
    },
    {
      "cell_type": "markdown",
      "metadata": {
        "id": "b53bR-GYRu_3"
      },
      "source": [
        "___\n",
        "# **Selecionar itens comuns dos arrays X e Y**\n",
        "* Na teoria de conjuntos, chamamos de intersecção e escrevemos $X \\cap Y$.\n",
        "\n",
        "![Intersection](https://github.com/MathMachado/Materials/blob/master/set_Intersection.PNG?raw=true)\n",
        "\n",
        "Fonte: [Python Set](https://www.learnbyexample.org/python-set/)"
      ]
    },
    {
      "cell_type": "markdown",
      "metadata": {
        "id": "n2ec2tqqR1Gw"
      },
      "source": [
        "* Considere os arrays a seguir:"
      ]
    },
    {
      "cell_type": "code",
      "metadata": {
        "id": "rXVQQvBqR4J-"
      },
      "source": [
        "a_conjunto1 = np.arange(10)\n",
        "a_conjunto1"
      ],
      "execution_count": null,
      "outputs": []
    },
    {
      "cell_type": "code",
      "metadata": {
        "id": "pZTHhHxGSRfB"
      },
      "source": [
        "a_conjunto2 = np.arange(8, 18)\n",
        "a_conjunto2"
      ],
      "execution_count": null,
      "outputs": []
    },
    {
      "cell_type": "markdown",
      "metadata": {
        "id": "MxB2_qHpScMB"
      },
      "source": [
        "Quais são os elementos comuns à X e Y?"
      ]
    },
    {
      "cell_type": "code",
      "metadata": {
        "id": "e-rncJHtSfw0"
      },
      "source": [
        "np.intersect1d(a_conjunto1, a_conjunto2)"
      ],
      "execution_count": null,
      "outputs": []
    },
    {
      "cell_type": "markdown",
      "metadata": {
        "id": "3Bb39sWdfqaF"
      },
      "source": [
        "___\n",
        "# **Autovalores e Autovetores**\n",
        "> Autovetor e Autovalor são um dos tópicos mais importantes em Machine Learning.\n",
        "\n",
        "Por definição, o escalar $\\lambda$ e o vetor $v$ são autovalor e autovetor da matriz $A$ se\n",
        "\n",
        "$$Av = \\lambda v$$\n",
        "\n",
        "## Leitura Adicional:\n",
        "\n",
        "* [Machine Learning & Linear Algebra — Eigenvalue and eigenvector](https://medium.com/@jonathan_hui/machine-learning-linear-algebra-eigenvalue-and-eigenvector-f8d0493564c9)"
      ]
    },
    {
      "cell_type": "markdown",
      "metadata": {
        "id": "XZBKq8nGCUbL"
      },
      "source": [
        "* O array a_conjunto2 tem a seguinte forma:"
      ]
    },
    {
      "cell_type": "code",
      "metadata": {
        "id": "iYlZGKFUfw-R"
      },
      "source": [
        "a_conjunto2"
      ],
      "execution_count": null,
      "outputs": []
    },
    {
      "cell_type": "code",
      "metadata": {
        "id": "6EfvIbBNf02Z"
      },
      "source": [
        "# Calcula autovalores e autovetores:\n",
        "a_autovalores, a_autovalores= np.linalg.eig(a_conjunto2)"
      ],
      "execution_count": null,
      "outputs": []
    },
    {
      "cell_type": "markdown",
      "metadata": {
        "id": "v3GtQQvAz9QU"
      },
      "source": [
        "Os autovalores do array a_conjunto2 são:"
      ]
    },
    {
      "cell_type": "code",
      "metadata": {
        "id": "WvZGyBR1f9vP"
      },
      "source": [
        "a_autovalores"
      ],
      "execution_count": null,
      "outputs": []
    },
    {
      "cell_type": "markdown",
      "metadata": {
        "id": "AuuDRJVh0FC8"
      },
      "source": [
        "Os autovetores do array a_conjunto2 são:"
      ]
    },
    {
      "cell_type": "code",
      "metadata": {
        "id": "6m4YFAwsf_rA"
      },
      "source": [
        "a_autovalores"
      ],
      "execution_count": null,
      "outputs": []
    },
    {
      "cell_type": "markdown",
      "metadata": {
        "id": "DASn2Un9ZNV-"
      },
      "source": [
        "___\n",
        "# **Encontrar Missing Values (NaN)**"
      ]
    },
    {
      "cell_type": "markdown",
      "metadata": {
        "id": "TKilWBsSXtR4"
      },
      "source": [
        "## Gerar o exemplo"
      ]
    },
    {
      "cell_type": "code",
      "metadata": {
        "id": "lqLI2ER_ZUMY"
      },
      "source": [
        "np.random.seed(20111974)\n",
        "a_conjunto1 = np.random.random(100)\n",
        "\n",
        "# Inserindo 15 NaN's no array:\n",
        "np.random.seed(20111974)\n",
        "l_indices_aleatorios= np.random.randint(0, 100, size = 15)\n",
        "\n",
        "for i_indices in l_indices_aleatorios:\n",
        "    #print(i_indices)\n",
        "    a_conjunto1[i_indices] = np.nan"
      ],
      "execution_count": 27,
      "outputs": []
    },
    {
      "cell_type": "code",
      "metadata": {
        "id": "2ZkbMPXMawYh",
        "outputId": "af5865c5-95fe-4df1-8712-b77543e860c5",
        "colab": {
          "base_uri": "https://localhost:8080/",
          "height": 187
        }
      },
      "source": [
        "a_conjunto1"
      ],
      "execution_count": 28,
      "outputs": [
        {
          "output_type": "execute_result",
          "data": {
            "text/plain": [
              "array([0.53, 0.57,  nan, 0.65, 0.86, 0.6 , 0.87, 0.46,  nan, 0.64, 0.55,\n",
              "       0.35, 0.32,  nan, 0.85, 0.76, 0.66, 0.33, 0.35, 0.42, 0.31, 0.27,\n",
              "       0.31, 0.36, 0.6 , 0.02, 0.36,  nan, 0.28, 0.37,  nan, 0.44, 0.2 ,\n",
              "       0.21, 0.65, 0.82, 0.72, 0.5 , 0.17, 0.6 ,  nan, 0.14,  nan, 0.71,\n",
              "       0.07, 0.56,  nan, 0.84, 0.21, 0.85, 0.63, 0.38, 0.91, 0.34, 0.07,\n",
              "       0.1 , 0.85, 0.12, 0.94, 0.16,  nan, 0.91, 0.59, 0.37, 0.72, 0.07,\n",
              "       0.48, 0.78, 0.97, 0.72, 0.29, 0.33, 0.95, 0.24, 0.98, 0.85, 0.63,\n",
              "       0.57, 0.67, 0.88,  nan,  nan,  nan, 0.68, 0.29, 0.33, 0.98, 0.17,\n",
              "        nan, 0.92, 0.98, 0.76, 0.31, 0.97, 0.08, 0.56,  nan, 0.49, 0.07,\n",
              "       0.11])"
            ]
          },
          "metadata": {
            "tags": []
          },
          "execution_count": 28
        }
      ]
    },
    {
      "cell_type": "markdown",
      "metadata": {
        "id": "Z7Bs75NvbSjx"
      },
      "source": [
        "Ok, inserimos aleatoriamente 14 NaN's no array a_conjunto1. Agora, vamos contar quantos NaN's (já sabemos a resposta!)."
      ]
    },
    {
      "cell_type": "markdown",
      "metadata": {
        "id": "hL1Wn0vdX8ur"
      },
      "source": [
        "## Identificar os NaN's"
      ]
    },
    {
      "cell_type": "code",
      "metadata": {
        "id": "5R-n3H0xbd6d",
        "outputId": "9dc32bc4-bb41-4c02-bc64-c98461f3cefd",
        "colab": {
          "base_uri": "https://localhost:8080/",
          "height": 34
        }
      },
      "source": [
        "np.isnan(a_conjunto1).sum()\n",
        "## isnan retorna um valor boleano se é nulo ou não"
      ],
      "execution_count": 29,
      "outputs": [
        {
          "output_type": "execute_result",
          "data": {
            "text/plain": [
              "14"
            ]
          },
          "metadata": {
            "tags": []
          },
          "execution_count": 29
        }
      ]
    },
    {
      "cell_type": "code",
      "metadata": {
        "id": "81IoQ-EVbI5X",
        "outputId": "fcddc325-8c6c-4545-cf1c-349af38ca954",
        "colab": {
          "base_uri": "https://localhost:8080/",
          "height": 34
        }
      },
      "source": [
        "np.isnan\n",
        "## é uma função"
      ],
      "execution_count": 31,
      "outputs": [
        {
          "output_type": "execute_result",
          "data": {
            "text/plain": [
              "<ufunc 'isnan'>"
            ]
          },
          "metadata": {
            "tags": []
          },
          "execution_count": 31
        }
      ]
    },
    {
      "cell_type": "code",
      "metadata": {
        "id": "PB-GAJ71bc7i",
        "outputId": "0a9a431e-986d-40da-c841-544d25727b38",
        "colab": {
          "base_uri": "https://localhost:8080/",
          "height": 221
        }
      },
      "source": [
        "array_nulos = np.isnan(a_conjunto1)\n",
        "array_nulos"
      ],
      "execution_count": 32,
      "outputs": [
        {
          "output_type": "execute_result",
          "data": {
            "text/plain": [
              "array([False, False,  True, False, False, False, False, False,  True,\n",
              "       False, False, False, False,  True, False, False, False, False,\n",
              "       False, False, False, False, False, False, False, False, False,\n",
              "        True, False, False,  True, False, False, False, False, False,\n",
              "       False, False, False, False,  True, False,  True, False, False,\n",
              "       False,  True, False, False, False, False, False, False, False,\n",
              "       False, False, False, False, False, False,  True, False, False,\n",
              "       False, False, False, False, False, False, False, False, False,\n",
              "       False, False, False, False, False, False, False, False,  True,\n",
              "        True,  True, False, False, False, False, False,  True, False,\n",
              "       False, False, False, False, False, False,  True, False, False,\n",
              "       False])"
            ]
          },
          "metadata": {
            "tags": []
          },
          "execution_count": 32
        }
      ]
    },
    {
      "cell_type": "markdown",
      "metadata": {
        "id": "Y7hh5uowoa3U"
      },
      "source": [
        "Ok, temos 14 NaN's em a_conjunto1."
      ]
    },
    {
      "cell_type": "markdown",
      "metadata": {
        "id": "iVLQf_bqbyNU"
      },
      "source": [
        "Ok, agora eu quero saber os índices desses NaN's."
      ]
    },
    {
      "cell_type": "code",
      "metadata": {
        "id": "kJHxjZiwb5HM",
        "outputId": "57d4bf56-64bd-4969-9281-d311ac926119",
        "colab": {
          "base_uri": "https://localhost:8080/",
          "height": 34
        }
      },
      "source": [
        "i_indices= np.where(np.isnan(a_conjunto1))\n",
        "## o where retorna a posiçao do array que é true\n",
        "i_indices"
      ],
      "execution_count": 30,
      "outputs": [
        {
          "output_type": "execute_result",
          "data": {
            "text/plain": [
              "(array([ 2,  8, 13, 27, 30, 40, 42, 46, 60, 80, 81, 82, 88, 96]),)"
            ]
          },
          "metadata": {
            "tags": []
          },
          "execution_count": 30
        }
      ]
    },
    {
      "cell_type": "code",
      "metadata": {
        "id": "W_jHGNImok7L",
        "outputId": "cbdcf2d2-3edf-4b8a-9a42-29aa20cbcd94",
        "colab": {
          "base_uri": "https://localhost:8080/",
          "height": 34
        }
      },
      "source": [
        "# Checando... que a posição 2 é nan\n",
        "a_conjunto1[2]"
      ],
      "execution_count": 33,
      "outputs": [
        {
          "output_type": "execute_result",
          "data": {
            "text/plain": [
              "nan"
            ]
          },
          "metadata": {
            "tags": []
          },
          "execution_count": 33
        }
      ]
    },
    {
      "cell_type": "markdown",
      "metadata": {
        "id": "iPhHAhDYcMWO"
      },
      "source": [
        "Vamos conferir se está correto? Para isso, basta comparar com l_indices_aleatorios:"
      ]
    },
    {
      "cell_type": "markdown",
      "metadata": {
        "id": "gxQYslRCe11G"
      },
      "source": [
        "___\n",
        "# **Deletar NaN's de um array**\n",
        "> Considere o mesmo array que acabamos de trabalhar. Agora eu quero excluir os NaN's identificados."
      ]
    },
    {
      "cell_type": "code",
      "metadata": {
        "id": "AeBARFqNfNnN",
        "outputId": "eb361064-326a-451c-c4fe-0d14b861fbe8",
        "colab": {
          "base_uri": "https://localhost:8080/",
          "height": 187
        }
      },
      "source": [
        "a_conjunto1"
      ],
      "execution_count": 34,
      "outputs": [
        {
          "output_type": "execute_result",
          "data": {
            "text/plain": [
              "array([0.53, 0.57,  nan, 0.65, 0.86, 0.6 , 0.87, 0.46,  nan, 0.64, 0.55,\n",
              "       0.35, 0.32,  nan, 0.85, 0.76, 0.66, 0.33, 0.35, 0.42, 0.31, 0.27,\n",
              "       0.31, 0.36, 0.6 , 0.02, 0.36,  nan, 0.28, 0.37,  nan, 0.44, 0.2 ,\n",
              "       0.21, 0.65, 0.82, 0.72, 0.5 , 0.17, 0.6 ,  nan, 0.14,  nan, 0.71,\n",
              "       0.07, 0.56,  nan, 0.84, 0.21, 0.85, 0.63, 0.38, 0.91, 0.34, 0.07,\n",
              "       0.1 , 0.85, 0.12, 0.94, 0.16,  nan, 0.91, 0.59, 0.37, 0.72, 0.07,\n",
              "       0.48, 0.78, 0.97, 0.72, 0.29, 0.33, 0.95, 0.24, 0.98, 0.85, 0.63,\n",
              "       0.57, 0.67, 0.88,  nan,  nan,  nan, 0.68, 0.29, 0.33, 0.98, 0.17,\n",
              "        nan, 0.92, 0.98, 0.76, 0.31, 0.97, 0.08, 0.56,  nan, 0.49, 0.07,\n",
              "       0.11])"
            ]
          },
          "metadata": {
            "tags": []
          },
          "execution_count": 34
        }
      ]
    },
    {
      "cell_type": "code",
      "metadata": {
        "id": "e497B492fFru",
        "outputId": "68f697f4-4778-43e9-9b4f-87d930eccc46",
        "colab": {
          "base_uri": "https://localhost:8080/",
          "height": 153
        }
      },
      "source": [
        "a_conjunto1[~np.isnan(a_conjunto1)]\n",
        "## o til nega a condição e retorna tudo que é falso\n",
        "## colo o np.isnan gera o arrau com true e false, se eu falo que quero a negação e peço as posições com o falso\n",
        "## eu estou retirando os nan"
      ],
      "execution_count": 36,
      "outputs": [
        {
          "output_type": "execute_result",
          "data": {
            "text/plain": [
              "array([0.53, 0.57, 0.65, 0.86, 0.6 , 0.87, 0.46, 0.64, 0.55, 0.35, 0.32,\n",
              "       0.85, 0.76, 0.66, 0.33, 0.35, 0.42, 0.31, 0.27, 0.31, 0.36, 0.6 ,\n",
              "       0.02, 0.36, 0.28, 0.37, 0.44, 0.2 , 0.21, 0.65, 0.82, 0.72, 0.5 ,\n",
              "       0.17, 0.6 , 0.14, 0.71, 0.07, 0.56, 0.84, 0.21, 0.85, 0.63, 0.38,\n",
              "       0.91, 0.34, 0.07, 0.1 , 0.85, 0.12, 0.94, 0.16, 0.91, 0.59, 0.37,\n",
              "       0.72, 0.07, 0.48, 0.78, 0.97, 0.72, 0.29, 0.33, 0.95, 0.24, 0.98,\n",
              "       0.85, 0.63, 0.57, 0.67, 0.88, 0.68, 0.29, 0.33, 0.98, 0.17, 0.92,\n",
              "       0.98, 0.76, 0.31, 0.97, 0.08, 0.56, 0.49, 0.07, 0.11])"
            ]
          },
          "metadata": {
            "tags": []
          },
          "execution_count": 36
        }
      ]
    },
    {
      "cell_type": "markdown",
      "metadata": {
        "id": "RpvKfJU_fmA6"
      },
      "source": [
        "Observe que os NaN's foram excluidos."
      ]
    },
    {
      "cell_type": "markdown",
      "metadata": {
        "id": "7ereghZPcdh4"
      },
      "source": [
        "EXERCÍCIO - ATRIBUIR A MEDIANA AOS VALORES DA AMOSTRA\n"
      ]
    },
    {
      "cell_type": "markdown",
      "metadata": {
        "id": "_Dv8MmNYg8zN"
      },
      "source": [
        "___\n",
        "# **Converter lista em array**\n",
        "> Considere a lista a seguir:"
      ]
    },
    {
      "cell_type": "code",
      "metadata": {
        "id": "but6T9dVhFYb",
        "outputId": "001bc55c-fe58-40ab-ff3c-3ea90d4e71d7",
        "colab": {
          "base_uri": "https://localhost:8080/",
          "height": 34
        }
      },
      "source": [
        "l_Lista = [np.random.randint(0, 10, 10)]\n",
        "l_Lista"
      ],
      "execution_count": 37,
      "outputs": [
        {
          "output_type": "execute_result",
          "data": {
            "text/plain": [
              "[array([8, 9, 3, 7, 1, 3, 2, 9, 7, 7])]"
            ]
          },
          "metadata": {
            "tags": []
          },
          "execution_count": 37
        }
      ]
    },
    {
      "cell_type": "code",
      "metadata": {
        "id": "xytj4Eo4hTh9",
        "outputId": "4c2d1778-13ec-4717-a3a8-d538cfcf896a",
        "colab": {
          "base_uri": "https://localhost:8080/",
          "height": 34
        }
      },
      "source": [
        "type(l_Lista)"
      ],
      "execution_count": 38,
      "outputs": [
        {
          "output_type": "execute_result",
          "data": {
            "text/plain": [
              "list"
            ]
          },
          "metadata": {
            "tags": []
          },
          "execution_count": 38
        }
      ]
    },
    {
      "cell_type": "markdown",
      "metadata": {
        "id": "qrINdcruhWcH"
      },
      "source": [
        "Convertendo a minha lista para array:"
      ]
    },
    {
      "cell_type": "code",
      "metadata": {
        "id": "RoSyaX0OhZSE",
        "outputId": "8b194262-97d5-45ee-9336-3a5c0a5ad802",
        "colab": {
          "base_uri": "https://localhost:8080/",
          "height": 34
        }
      },
      "source": [
        "a_conjunto = np.asarray(l_Lista)\n",
        "a_conjunto"
      ],
      "execution_count": 39,
      "outputs": [
        {
          "output_type": "execute_result",
          "data": {
            "text/plain": [
              "array([[8, 9, 3, 7, 1, 3, 2, 9, 7, 7]])"
            ]
          },
          "metadata": {
            "tags": []
          },
          "execution_count": 39
        }
      ]
    },
    {
      "cell_type": "code",
      "metadata": {
        "id": "dMjTdbBUhlrk",
        "outputId": "4d140e4f-2e4c-4aa7-8e99-481cb4d1cdc3",
        "colab": {
          "base_uri": "https://localhost:8080/",
          "height": 34
        }
      },
      "source": [
        "type(a_conjunto)"
      ],
      "execution_count": 40,
      "outputs": [
        {
          "output_type": "execute_result",
          "data": {
            "text/plain": [
              "numpy.ndarray"
            ]
          },
          "metadata": {
            "tags": []
          },
          "execution_count": 40
        }
      ]
    },
    {
      "cell_type": "markdown",
      "metadata": {
        "id": "Mbm3ZP9DhxDI"
      },
      "source": [
        "___\n",
        "# Converter tupla em array\n",
        "> Considere a tupla a seguir:"
      ]
    },
    {
      "cell_type": "code",
      "metadata": {
        "id": "cZxEFYLAh3S_"
      },
      "source": [
        "np.random.seed(20111974)\n",
        "t_numeros = ([np.random.randint(0, 10, 3)], [np.random.randint(0, 10, 3)], [np.random.randint(0, 10, 3)])\n",
        "t_numeros"
      ],
      "execution_count": null,
      "outputs": []
    },
    {
      "cell_type": "code",
      "metadata": {
        "id": "vlTXUJviiAml"
      },
      "source": [
        "type(t_numeros)"
      ],
      "execution_count": null,
      "outputs": []
    },
    {
      "cell_type": "code",
      "metadata": {
        "id": "yEaOlq8oh3oh"
      },
      "source": [
        "a_conjunto = np.asarray(t_numeros)\n",
        "a_conjunto"
      ],
      "execution_count": null,
      "outputs": []
    },
    {
      "cell_type": "code",
      "metadata": {
        "id": "PSgQDmRWh3g5"
      },
      "source": [
        "type(a_conjunto)"
      ],
      "execution_count": null,
      "outputs": []
    },
    {
      "cell_type": "markdown",
      "metadata": {
        "id": "pH-Ht6yMiqJN"
      },
      "source": [
        "___\n",
        "# Acrescentar elementos à um array\n",
        "> Considere o array a seguir:"
      ]
    },
    {
      "cell_type": "code",
      "metadata": {
        "id": "dFaDZInZiwoo"
      },
      "source": [
        "a_conjunto1 = np.arange(5)\n",
        "a_conjunto1"
      ],
      "execution_count": null,
      "outputs": []
    },
    {
      "cell_type": "code",
      "metadata": {
        "id": "d3zrlf_Ci73Z"
      },
      "source": [
        "np.random.seed(20111974)\n",
        "a_conjunto1 = np.append(a_conjunto1, [np.random.randint(0, 10, 3), np.random.randint(0, 10, 3), np.random.randint(0, 10, 3)])\n",
        "a_conjunto1"
      ],
      "execution_count": null,
      "outputs": []
    },
    {
      "cell_type": "markdown",
      "metadata": {
        "id": "eFRhtk13ojqA"
      },
      "source": [
        "___\n",
        "# **Converter array 1D num array 2D**\n",
        "> Considere os arrays a seguir:"
      ]
    },
    {
      "cell_type": "code",
      "metadata": {
        "id": "wYhBgW9Zu6ZP"
      },
      "source": [
        "np.random.seed(20111974)\n",
        "a_conjunto1 = np.array(np.random.randint(0, 10, 6))\n",
        "\n",
        "np.random.seed(19741120)\n",
        "a_conjunto2 = np.array(np.random.randint(0, 10, 6))"
      ],
      "execution_count": null,
      "outputs": []
    },
    {
      "cell_type": "code",
      "metadata": {
        "id": "febs9AUHvs6n"
      },
      "source": [
        "a_conjunto1"
      ],
      "execution_count": null,
      "outputs": []
    },
    {
      "cell_type": "code",
      "metadata": {
        "id": "C9OEd-iavvBm"
      },
      "source": [
        "a_conjunto2"
      ],
      "execution_count": null,
      "outputs": []
    },
    {
      "cell_type": "code",
      "metadata": {
        "id": "KJWjtaWKv0MJ"
      },
      "source": [
        "np.column_stack((a_conjunto1, a_conjunto2)) # Atenção aos parênteses em (a_conjunto1, a_conjunto2)."
      ],
      "execution_count": null,
      "outputs": []
    },
    {
      "cell_type": "markdown",
      "metadata": {
        "id": "xr_WZXJ7pi2D"
      },
      "source": [
        "___\n",
        "# **Excluir um elemento específico do array usando indices**\n",
        "> Considere os arrays a seguir:"
      ]
    },
    {
      "cell_type": "code",
      "metadata": {
        "id": "tS0ZzOs8w0dw"
      },
      "source": [
        "np.random.seed(20111974)\n",
        "a_conjunto1 = np.array(np.random.randint(0, 10, 6))\n",
        "a_conjunto1"
      ],
      "execution_count": null,
      "outputs": []
    },
    {
      "cell_type": "markdown",
      "metadata": {
        "id": "7bOJiKDKxEsC"
      },
      "source": [
        "Suponha que eu queira excluir os valores '8' de a_conjunto1. Os índices dos valores '8' são: [0, 1, 3]. Portanto, temos:"
      ]
    },
    {
      "cell_type": "code",
      "metadata": {
        "id": "SSjueEvjxTJO"
      },
      "source": [
        "a_conjunto1 = np.delete(a_conjunto1, [0, 1, 3])\n",
        "a_conjunto1"
      ],
      "execution_count": null,
      "outputs": []
    },
    {
      "cell_type": "markdown",
      "metadata": {
        "id": "mZkGZ2Rgp--5"
      },
      "source": [
        "___\n",
        "# **Frequência dos valores únicos de um array**\n",
        "> Considere o array a seguir:"
      ]
    },
    {
      "cell_type": "code",
      "metadata": {
        "id": "Z2BWKfH0xvQ8",
        "outputId": "0405171f-5590-434a-87be-39d44e18ce17",
        "colab": {
          "base_uri": "https://localhost:8080/",
          "height": 102
        }
      },
      "source": [
        "np.random.seed(20111974)\n",
        "a_conjunto1 = np.array(np.random.randint(0, 10, 100))\n",
        "a_conjunto1"
      ],
      "execution_count": 41,
      "outputs": [
        {
          "output_type": "execute_result",
          "data": {
            "text/plain": [
              "array([8, 8, 2, 8, 9, 1, 8, 0, 4, 2, 0, 8, 9, 3, 7, 1, 3, 2, 9, 7, 7, 9,\n",
              "       5, 6, 8, 7, 0, 9, 3, 9, 3, 1, 8, 6, 3, 5, 4, 1, 2, 9, 8, 6, 6, 1,\n",
              "       0, 9, 2, 0, 7, 5, 5, 4, 4, 2, 7, 2, 7, 9, 3, 1, 5, 0, 1, 2, 3, 8,\n",
              "       7, 5, 4, 0, 5, 9, 6, 6, 1, 3, 6, 0, 4, 9, 2, 1, 0, 9, 1, 4, 2, 9,\n",
              "       7, 9, 5, 3, 7, 6, 3, 9, 8, 4, 3, 0])"
            ]
          },
          "metadata": {
            "tags": []
          },
          "execution_count": 41
        }
      ]
    },
    {
      "cell_type": "markdown",
      "metadata": {
        "id": "s_tdQBsax4rQ"
      },
      "source": [
        "Suponha que eu queira saber quantas vezes o número/elemento '2' aparece em a_conjunto1."
      ]
    },
    {
      "cell_type": "code",
      "metadata": {
        "id": "6yIlk7pWyAtf",
        "outputId": "01f739af-34ea-448c-992f-ee587482c359",
        "colab": {
          "base_uri": "https://localhost:8080/",
          "height": 34
        }
      },
      "source": [
        "l_itens_unicos, i_count = np.unique(a_conjunto1, return_counts=True)\n",
        "## é uma função que retorna os itens unicos e a quantidade que aparecem\n",
        "l_itens_unicos"
      ],
      "execution_count": 42,
      "outputs": [
        {
          "output_type": "execute_result",
          "data": {
            "text/plain": [
              "array([0, 1, 2, 3, 4, 5, 6, 7, 8, 9])"
            ]
          },
          "metadata": {
            "tags": []
          },
          "execution_count": 42
        }
      ]
    },
    {
      "cell_type": "markdown",
      "metadata": {
        "id": "DyvrIwS9yZIR"
      },
      "source": [
        "O que significa o output acima?"
      ]
    },
    {
      "cell_type": "code",
      "metadata": {
        "id": "uO-MPMhXyV9H",
        "outputId": "4f477738-6362-4177-a6ec-dd559dc9dc71",
        "colab": {
          "base_uri": "https://localhost:8080/",
          "height": 34
        }
      },
      "source": [
        "i_count"
      ],
      "execution_count": 43,
      "outputs": [
        {
          "output_type": "execute_result",
          "data": {
            "text/plain": [
              "array([10, 10, 10, 11,  8,  8,  8, 10, 10, 15])"
            ]
          },
          "metadata": {
            "tags": []
          },
          "execution_count": 43
        }
      ]
    },
    {
      "cell_type": "markdown",
      "metadata": {
        "id": "zwoezXrPyofK"
      },
      "source": [
        "Qual a interpretação do output acima?"
      ]
    },
    {
      "cell_type": "code",
      "metadata": {
        "id": "HgYycSG7yr5e",
        "outputId": "02fe1140-2976-4715-e211-20d27baf3c87",
        "colab": {
          "base_uri": "https://localhost:8080/",
          "height": 51
        }
      },
      "source": [
        "np.asarray((l_itens_unicos, i_count))"
      ],
      "execution_count": 44,
      "outputs": [
        {
          "output_type": "execute_result",
          "data": {
            "text/plain": [
              "array([[ 0,  1,  2,  3,  4,  5,  6,  7,  8,  9],\n",
              "       [10, 10, 10, 11,  8,  8,  8, 10, 10, 15]])"
            ]
          },
          "metadata": {
            "tags": []
          },
          "execution_count": 44
        }
      ]
    },
    {
      "cell_type": "markdown",
      "metadata": {
        "id": "SwIZiJAiy06T"
      },
      "source": [
        "Qual a interpretação do output acima?"
      ]
    },
    {
      "cell_type": "markdown",
      "metadata": {
        "id": "Wy_tqAPgdchD"
      },
      "source": [
        "é a frequencia com que cada um aparece"
      ]
    },
    {
      "cell_type": "markdown",
      "metadata": {
        "id": "JpNRpN2Dql3N"
      },
      "source": [
        "___\n",
        "# **Combinações possíveis de outros arrays**\n",
        "> Considere o exemplo a seguir:\n"
      ]
    },
    {
      "cell_type": "code",
      "metadata": {
        "id": "BUr89dH4zLXD"
      },
      "source": [
        "a_conjunto1 = [2, 4, 6]\n",
        "a_conjunto2 = [0, 8]\n",
        "a_conjunto4 = [1, 5]"
      ],
      "execution_count": null,
      "outputs": []
    },
    {
      "cell_type": "code",
      "metadata": {
        "id": "cEZH6l-Czx7y"
      },
      "source": [
        "np.meshgrid(a_conjunto1, a_conjunto2, a_conjunto4)"
      ],
      "execution_count": null,
      "outputs": []
    },
    {
      "cell_type": "code",
      "metadata": {
        "id": "btvmDkEcz0tH"
      },
      "source": [
        "np.array(np.meshgrid(a_conjunto1, a_conjunto2, a_conjunto4))"
      ],
      "execution_count": null,
      "outputs": []
    },
    {
      "cell_type": "code",
      "metadata": {
        "id": "Z0xhO7rGz059"
      },
      "source": [
        "np.array(np.meshgrid(a_conjunto1, a_conjunto2, a_conjunto4)).T"
      ],
      "execution_count": null,
      "outputs": []
    },
    {
      "cell_type": "code",
      "metadata": {
        "id": "eMv4lFnD0Enn"
      },
      "source": [
        "# Resultado final\n",
        "a_conjunto3 = np.array(np.meshgrid(a_conjunto1, a_conjunto2, a_conjunto4)).T.reshape(-1,3)\n",
        "a_conjunto3"
      ],
      "execution_count": null,
      "outputs": []
    },
    {
      "cell_type": "markdown",
      "metadata": {
        "id": "Rz80YANfAh2k"
      },
      "source": [
        "___\n",
        "# **Wrap Up**"
      ]
    },
    {
      "cell_type": "markdown",
      "metadata": {
        "id": "_cyhMsAVXxGC"
      },
      "source": [
        "___\n",
        "# **Exercícios**"
      ]
    },
    {
      "cell_type": "markdown",
      "metadata": {
        "id": "kNjovMw3uJ3R"
      },
      "source": [
        "## Exercício 1 - Selecionar os números pares\n",
        "> Dado o 1D array abaixo, selecionar somente os números pares."
      ]
    },
    {
      "cell_type": "code",
      "metadata": {
        "id": "isDzQjwjBX3V",
        "outputId": "ad54cd80-fa6e-4772-a869-1b7f98b09725",
        "colab": {
          "base_uri": "https://localhost:8080/",
          "height": 34
        }
      },
      "source": [
        "a_conjunto1 = np.array([0, 1, 2, 3, 4, 5, 6, 7, 8, 9])\n",
        "a_conjunto1"
      ],
      "execution_count": 45,
      "outputs": [
        {
          "output_type": "execute_result",
          "data": {
            "text/plain": [
              "array([0, 1, 2, 3, 4, 5, 6, 7, 8, 9])"
            ]
          },
          "metadata": {
            "tags": []
          },
          "execution_count": 45
        }
      ]
    },
    {
      "cell_type": "markdown",
      "metadata": {
        "id": "Kq1zt-uO1HXv"
      },
      "source": [
        "### **Minha solução**"
      ]
    },
    {
      "cell_type": "code",
      "metadata": {
        "id": "YFmK_n2M1Ks9",
        "outputId": "496556f7-9ff2-40f7-8cbf-2a1588793e40",
        "colab": {
          "base_uri": "https://localhost:8080/",
          "height": 34
        }
      },
      "source": [
        "a_conjunto1[a_conjunto1 % 2 == 0]"
      ],
      "execution_count": 46,
      "outputs": [
        {
          "output_type": "execute_result",
          "data": {
            "text/plain": [
              "array([0, 2, 4, 6, 8])"
            ]
          },
          "metadata": {
            "tags": []
          },
          "execution_count": 46
        }
      ]
    },
    {
      "cell_type": "markdown",
      "metadata": {
        "id": "sScYG0hp05vb"
      },
      "source": [
        "___\n",
        "## Exercício 2 - Substituir pela mediana\n",
        "> Dado o array 1D abaixo, substituir os números pares pela mediana de a_conjunto1."
      ]
    },
    {
      "cell_type": "code",
      "metadata": {
        "id": "XLZ-DIWU1WFs",
        "outputId": "aebcdfd3-b244-4cb2-f33b-a8083d241d17",
        "colab": {
          "base_uri": "https://localhost:8080/",
          "height": 34
        }
      },
      "source": [
        "a_conjunto1 = np.array([0, 1, 2, 3, 4, 5, 6, 7, 8, 9])\n",
        "a_conjunto1"
      ],
      "execution_count": 47,
      "outputs": [
        {
          "output_type": "execute_result",
          "data": {
            "text/plain": [
              "array([0, 1, 2, 3, 4, 5, 6, 7, 8, 9])"
            ]
          },
          "metadata": {
            "tags": []
          },
          "execution_count": 47
        }
      ]
    },
    {
      "cell_type": "markdown",
      "metadata": {
        "id": "9c4QWJno1WVB"
      },
      "source": [
        "### **Minha solução**\n",
        "* Primeiramente, precisamos calcular a mediana.\n",
        "* Depois, substituimos os valores pares de a_conjunto1 pela mediana encontrada anteriormente. Ok?"
      ]
    },
    {
      "cell_type": "code",
      "metadata": {
        "id": "rx7NGAO01Wfb",
        "outputId": "575c869f-1a28-49db-9516-47c84cecacc2",
        "colab": {
          "base_uri": "https://localhost:8080/",
          "height": 34
        }
      },
      "source": [
        "a_conjunto1[a_conjunto1 % 2 == 0] = np.median(a_conjunto1)\n",
        "a_conjunto1"
      ],
      "execution_count": 48,
      "outputs": [
        {
          "output_type": "execute_result",
          "data": {
            "text/plain": [
              "array([4, 1, 4, 3, 4, 5, 4, 7, 4, 9])"
            ]
          },
          "metadata": {
            "tags": []
          },
          "execution_count": 48
        }
      ]
    },
    {
      "cell_type": "markdown",
      "metadata": {
        "id": "2c_AphX82qp8"
      },
      "source": [
        "Verificando..."
      ]
    },
    {
      "cell_type": "code",
      "metadata": {
        "id": "9kVta0Cr13Z9",
        "outputId": "cb8af387-8353-49f1-cf9e-37ee7c77b607",
        "colab": {
          "base_uri": "https://localhost:8080/",
          "height": 35
        }
      },
      "source": [
        "f'A média de a_conjunto1 é: {np.median(a_conjunto1)}'"
      ],
      "execution_count": 49,
      "outputs": [
        {
          "output_type": "execute_result",
          "data": {
            "application/vnd.google.colaboratory.intrinsic+json": {
              "type": "string"
            },
            "text/plain": [
              "'A média de a_conjunto1 é: 4.0'"
            ]
          },
          "metadata": {
            "tags": []
          },
          "execution_count": 49
        }
      ]
    },
    {
      "cell_type": "markdown",
      "metadata": {
        "id": "L9O-Hf5x26TY"
      },
      "source": [
        "___\n",
        "## Exercício 3 - Reshape\n",
        "> Dado o array 1D abaixo, reshape para um array 2D com 3 colunas."
      ]
    },
    {
      "cell_type": "code",
      "metadata": {
        "id": "0_laUvtB4Wl-",
        "outputId": "34954fdf-6e28-477c-ac93-03b510461a21",
        "colab": {
          "base_uri": "https://localhost:8080/",
          "height": 34
        }
      },
      "source": [
        "# Define seed\n",
        "np.random.seed(20111974)\n",
        "a_conjunto1 = np.array(np.random.randint(1, 10, size = 15))\n",
        "a_conjunto1"
      ],
      "execution_count": 50,
      "outputs": [
        {
          "output_type": "execute_result",
          "data": {
            "text/plain": [
              "array([9, 9, 3, 9, 2, 9, 1, 5, 3, 1, 9, 4, 8, 2, 4])"
            ]
          },
          "metadata": {
            "tags": []
          },
          "execution_count": 50
        }
      ]
    },
    {
      "cell_type": "markdown",
      "metadata": {
        "id": "dKzEX8TK5b4Z"
      },
      "source": [
        "### **Minha solução**\n",
        "* O array 1D a_conjunto1 acima possui 15 elementos. Como queremos transformá-lo num array 2D com 3 colunas, então cada coluna terá 5 elementos."
      ]
    },
    {
      "cell_type": "code",
      "metadata": {
        "id": "r5hJ-wMwjXPR",
        "outputId": "2eadc741-755c-46d2-bd8c-ad0d3cc8ad8e",
        "colab": {
          "base_uri": "https://localhost:8080/",
          "height": 102
        }
      },
      "source": [
        "a_conjunto1.reshape(-1,3)"
      ],
      "execution_count": 51,
      "outputs": [
        {
          "output_type": "execute_result",
          "data": {
            "text/plain": [
              "array([[9, 9, 3],\n",
              "       [9, 2, 9],\n",
              "       [1, 5, 3],\n",
              "       [1, 9, 4],\n",
              "       [8, 2, 4]])"
            ]
          },
          "metadata": {
            "tags": []
          },
          "execution_count": 51
        }
      ]
    },
    {
      "cell_type": "code",
      "metadata": {
        "id": "I-j5yVD04249"
      },
      "source": [
        "a_conjunto1.reshape(5, 3) \n",
        "# Poderia ser a_conjunto1.reshape(-1, 3), onde \"-1\" pede para o NumPy calcular o número de linhas. "
      ],
      "execution_count": null,
      "outputs": []
    },
    {
      "cell_type": "markdown",
      "metadata": {
        "id": "F1vfS8jE6L0_"
      },
      "source": [
        "___\n",
        "## Exercício 4 - Reshape\n",
        "> Dado o array 1D abaixo, reshape para um array 3D com 2 colunas."
      ]
    },
    {
      "cell_type": "code",
      "metadata": {
        "id": "xcN-bez56L1D"
      },
      "source": [
        "# Define seed\n",
        "np.random.seed(20111974)\n",
        "a_conjunto1 = np.array(np.random.randint(1, 10, size = 16))\n",
        "a_conjunto1"
      ],
      "execution_count": null,
      "outputs": []
    },
    {
      "cell_type": "markdown",
      "metadata": {
        "id": "7iICnOyG6fcj"
      },
      "source": [
        "### **Minha solução**\n",
        "* O array 1D a_conjunto1 acima possui 16 elementos. Queremos transformá-lo num array 3D com 2 colunas."
      ]
    },
    {
      "cell_type": "code",
      "metadata": {
        "id": "vdq5ybuD6fcn"
      },
      "source": [
        "a_conjunto1.reshape(-1, 2) # O valor \"-1\" na posição das linhas pede ao NumPy para calcular o número de linhas automaticamente."
      ],
      "execution_count": null,
      "outputs": []
    },
    {
      "cell_type": "markdown",
      "metadata": {
        "id": "haQfWPcCs_H0"
      },
      "source": [
        "## Exercício 5\n",
        "Para mais exercícios envolvendo arrays, visite a página [Python: Array Exercises, Practice, Solution](https://www.w3resource.com/python-exercises/array/)."
      ]
    },
    {
      "cell_type": "markdown",
      "metadata": {
        "id": "LQQL0JS2tnc0"
      },
      "source": [
        "## Exercício 6\n",
        "Para mais exercícios envolvendo matemática, viste a página [Python Math: - Exercises, Practice, Solution](https://www.w3resource.com/python-exercises/math/index.php)."
      ]
    },
    {
      "cell_type": "markdown",
      "metadata": {
        "id": "qNskKFy9t4D5"
      },
      "source": [
        "## Exercício 7\n",
        "Para mais exercícios envolvendo NumPy em geral, visite a página [NumPy Exercises, Practice, Solution](https://www.w3resource.com/python-exercises/numpy/index.php)."
      ]
    },
    {
      "cell_type": "markdown",
      "metadata": {
        "id": "qqc1AiHXuKZ5"
      },
      "source": [
        "## Exercício 8\n"
      ]
    },
    {
      "cell_type": "code",
      "metadata": {
        "id": "jYrgc3KvtmLy"
      },
      "source": [
        ""
      ],
      "execution_count": null,
      "outputs": []
    }
  ]
}