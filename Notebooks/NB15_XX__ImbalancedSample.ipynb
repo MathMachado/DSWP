{
  "nbformat": 4,
  "nbformat_minor": 0,
  "metadata": {
    "colab": {
      "name": "Untitled9.ipynb",
      "provenance": [],
      "private_outputs": true,
      "mount_file_id": "1xih06gjKP9psqbq9jlY0DMcdhflzqqZy",
      "authorship_tag": "ABX9TyO/CQ8eyE9M7fv0HaiKVU8w",
      "include_colab_link": true
    },
    "kernelspec": {
      "name": "python3",
      "display_name": "Python 3"
    }
  },
  "cells": [
    {
      "cell_type": "markdown",
      "metadata": {
        "id": "view-in-github",
        "colab_type": "text"
      },
      "source": [
        "<a href=\"https://colab.research.google.com/github/MathMachado/DSWP/blob/master/Notebooks/NB15_XX__ImbalancedSample.ipynb\" target=\"_parent\"><img src=\"https://colab.research.google.com/assets/colab-badge.svg\" alt=\"Open In Colab\"/></a>"
      ]
    },
    {
      "cell_type": "markdown",
      "metadata": {
        "id": "rq9Q5HxFWLBW"
      },
      "source": [
        "# Referências"
      ]
    },
    {
      "cell_type": "markdown",
      "metadata": {
        "id": "vdzGi1KTxnI2"
      },
      "source": [
        "https://www.kaggle.com/saurav9786/feature-engineering-up-and-down-sampling\n",
        "\n",
        "https://towardsdatascience.com/dealing-with-imbalanced-data-in-churn-analysis-6ea1afba8b5e\n",
        "\n",
        "https://www.kdnuggets.com/2019/05/fix-unbalanced-dataset.html\n",
        "\n",
        "https://towardsdatascience.com/having-an-imbalanced-dataset-here-is-how-you-can-solve-it-1640568947eb\n",
        "\n",
        "https://medium.com/analytics-vidhya/balance-your-data-using-smote-98e4d79fcddb\n",
        "\n",
        "https://www.geeksforgeeks.org/ml-handling-imbalanced-data-with-smote-and-near-miss-algorithm-in-python/"
      ]
    },
    {
      "cell_type": "markdown",
      "metadata": {
        "id": "eN3pXeN9ae-D"
      },
      "source": [
        "## Reamostragem da classe minoritária\n",
        "* Up-sampling é o processo de reamostrar observações aleatoriamente da classe minoritária."
      ]
    },
    {
      "cell_type": "markdown",
      "metadata": {
        "id": "sq0Z9FPwb2Z8"
      },
      "source": [
        "#### Carregar as libraries:"
      ]
    },
    {
      "cell_type": "code",
      "metadata": {
        "id": "YLIGeXQYj3Qn"
      },
      "source": [
        "import pandas as pd\n",
        "import numpy as np\n",
        "\n",
        "import matplotlib.pyplot as plt # importing ploting libraries\n",
        "import seaborn as sns # importing seaborn for statistical plots\n",
        "from collections import Counter\n",
        "\n",
        "from sklearn.metrics import accuracy_score, f1_score, confusion_matrix, classification_report, recall_score # calculate accuracy measures and confusion matrix\n",
        "\n",
        "from imblearn.over_sampling import SMOTE"
      ],
      "execution_count": null,
      "outputs": []
    },
    {
      "cell_type": "code",
      "metadata": {
        "id": "EXOPkNK-jAwe"
      },
      "source": [
        "!pip install imbalanced-learn"
      ],
      "execution_count": null,
      "outputs": []
    },
    {
      "cell_type": "code",
      "metadata": {
        "id": "qBeEcJ4lbrHi"
      },
      "source": [
        "%matplotlib inline\n",
        "\n",
        "plt.rcParams['figure.figsize'] = [20.0, 7.0]\n",
        "plt.rcParams.update({'font.size': 22,})\n",
        "\n",
        "sns.set_palette('viridis')\n",
        "sns.set_style('white')\n",
        "sns.set_context('talk', font_scale = 0.8)"
      ],
      "execution_count": null,
      "outputs": []
    },
    {
      "cell_type": "markdown",
      "metadata": {
        "id": "PJLK5dVEb0Oe"
      },
      "source": [
        "#### Carregar os dados\n",
        "* Dataframe Credit Card: https://www.kaggle.com/mlg-ulb/creditcardfraud"
      ]
    },
    {
      "cell_type": "markdown",
      "metadata": {
        "id": "nZQwzb_wqFEs"
      },
      "source": [
        ""
      ]
    },
    {
      "cell_type": "code",
      "metadata": {
        "id": "DkObFs6Wdxy4"
      },
      "source": [
        "from google.colab import drive\n",
        "drive.mount('/content/drive')"
      ],
      "execution_count": null,
      "outputs": []
    },
    {
      "cell_type": "code",
      "metadata": {
        "id": "0KV_cPVDbxUa"
      },
      "source": [
        "url = '/content/drive/My Drive/Datasets4ML/creditcard.csv'\n",
        "df_cc = pd.read_csv(url)\n",
        "\n",
        "df_cc.columns = [colunas.lower() for colunas in df_cc.columns]\n",
        "\n",
        "df_cc.drop(columns = 'time', axis = 1, inplace = True)\n",
        "df_cc.head()"
      ],
      "execution_count": null,
      "outputs": []
    },
    {
      "cell_type": "markdown",
      "metadata": {
        "id": "s5me2fqPqgfq"
      },
      "source": [
        "### Tratamento dos Missing Values"
      ]
    },
    {
      "cell_type": "code",
      "metadata": {
        "id": "Y98jCK55qjyR"
      },
      "source": [
        "df_cc.isna().sum()"
      ],
      "execution_count": null,
      "outputs": []
    },
    {
      "cell_type": "markdown",
      "metadata": {
        "id": "QY5R8MmkdBsy"
      },
      "source": [
        "### Qual a proporção de fraudes e não-fraudes?"
      ]
    },
    {
      "cell_type": "code",
      "metadata": {
        "id": "0fNYOL_PLMMQ"
      },
      "source": [
        "qtd = Counter(df_cc['class'])\n",
        "qtd"
      ],
      "execution_count": null,
      "outputs": []
    },
    {
      "cell_type": "code",
      "metadata": {
        "id": "S9SLjncvizFs"
      },
      "source": [
        "np.round(100*qtd[1]/qtd[0], 4)"
      ],
      "execution_count": null,
      "outputs": []
    },
    {
      "cell_type": "markdown",
      "metadata": {
        "id": "CELJp_aZy_RB"
      },
      "source": [
        "### Normalização"
      ]
    },
    {
      "cell_type": "code",
      "metadata": {
        "id": "_2L-7fyaz0so"
      },
      "source": [
        "df_cc2 = df_cc.copy()"
      ],
      "execution_count": null,
      "outputs": []
    },
    {
      "cell_type": "code",
      "metadata": {
        "id": "JLwFSuLtzA9H"
      },
      "source": [
        "from sklearn.preprocessing import StandardScaler, MinMaxScaler\n",
        "\n",
        "l_colunas = df_cc.columns\n",
        "l_colunas = l_colunas.drop('class')\n",
        "l_colunas"
      ],
      "execution_count": null,
      "outputs": []
    },
    {
      "cell_type": "code",
      "metadata": {
        "id": "htApfx0h2Rr_"
      },
      "source": [
        "for coluna in l_colunas:\n",
        "    df_cc2[coluna+'_2'] = StandardScaler().fit_transform(np.array(df_cc2[coluna]).reshape(-1, 1))\n",
        "    df_cc2 = df_cc2.drop(columns = coluna, axis = 1) \n",
        "\n",
        "df_cc2.head()"
      ],
      "execution_count": null,
      "outputs": []
    },
    {
      "cell_type": "markdown",
      "metadata": {
        "id": "HMnKnqif0wDp"
      },
      "source": [
        "### Amostra de treinamento e validação"
      ]
    },
    {
      "cell_type": "code",
      "metadata": {
        "id": "zoivyfcs0ye3"
      },
      "source": [
        "from sklearn.model_selection import train_test_split\n",
        "from sklearn.linear_model import LogisticRegression\n",
        "\n",
        "X_treinamento, X_teste, y_treinamento, y_teste = train_test_split(X_cc, y_cc, test_size = 0.3, random_state = 20111974) "
      ],
      "execution_count": null,
      "outputs": []
    },
    {
      "cell_type": "markdown",
      "metadata": {
        "id": "lceXISCC3kbC"
      },
      "source": [
        "### Treinamento do modelo"
      ]
    },
    {
      "cell_type": "code",
      "metadata": {
        "id": "ikoTEk-W048P"
      },
      "source": [
        "# Instancia:\n",
        "lr = LogisticRegression() "
      ],
      "execution_count": null,
      "outputs": []
    },
    {
      "cell_type": "code",
      "metadata": {
        "id": "tj4vD_qlMVkN"
      },
      "source": [
        "# Treina o modelo usando a amostra de treinamento: \n",
        "lr.fit(X_treinamento, y_treinamento.ravel()) "
      ],
      "execution_count": null,
      "outputs": []
    },
    {
      "cell_type": "markdown",
      "metadata": {
        "id": "G_APl0QY3rfY"
      },
      "source": [
        "### Previsão do modelo"
      ]
    },
    {
      "cell_type": "code",
      "metadata": {
        "id": "SJPiVCzJ3qbg"
      },
      "source": [
        "y_pred = lr.predict(X_teste) \n",
        "  \n",
        "# print classification report \n",
        "print(classification_report(y_teste, y_pred)) "
      ],
      "execution_count": null,
      "outputs": []
    },
    {
      "cell_type": "markdown",
      "metadata": {
        "id": "oBXTrmmN4IYq"
      },
      "source": [
        "**Conclusão**: Temos acurácia de 100%.\n",
        "\n",
        "Observe o recall da classe minoritária: 0.57 ==> Isso mostra que estamos diante de uma amostra desbalanceada e que, neste caso, o modelo está inclinado/viesado pela classe majoritária."
      ]
    },
    {
      "cell_type": "markdown",
      "metadata": {
        "id": "7aEemta6lSTO"
      },
      "source": [
        "## Reamostragem da classe Majoritária\n",
        "* Up-sampling é o processo de reamostrar observações aleatoriamente da classe minoritária."
      ]
    },
    {
      "cell_type": "code",
      "metadata": {
        "id": "26W4RzWG1Tco"
      },
      "source": [
        "X_cc = df_cc2.copy()\n",
        "X_cc = X_cc.drop(columns = 'class', axis = 1)\n",
        "\n",
        "y_cc = df_cc2['class']"
      ],
      "execution_count": null,
      "outputs": []
    },
    {
      "cell_type": "markdown",
      "metadata": {
        "id": "sZRcM4qqllDo"
      },
      "source": [
        "### Processo\n",
        "1. Separar as observações de cada classe em diferentes dataframes;\n",
        "2. Reamostrar a classe minoritária COM REPOSIÇÃO;\n",
        "3. Combinar os dois dataframes com as classes minoritárias e majoritárias."
      ]
    },
    {
      "cell_type": "markdown",
      "metadata": {
        "id": "WB-v_VjHmH9M"
      },
      "source": [
        "Abaixo, seleção das instâncias/linhas em que [class] = 0 ==> Classe Majoritária"
      ]
    },
    {
      "cell_type": "code",
      "metadata": {
        "id": "mcLiKkpAl30d"
      },
      "source": [
        "df_cc_majo = df_cc2[df_cc2['class'] == 0]\n",
        "df_cc_majo.shape"
      ],
      "execution_count": null,
      "outputs": []
    },
    {
      "cell_type": "markdown",
      "metadata": {
        "id": "qc-VXhlYmcyi"
      },
      "source": [
        "Abaixo, seleção das instâncias/linhas em que [class] = 1 ==> Classe Minoritária"
      ]
    },
    {
      "cell_type": "code",
      "metadata": {
        "id": "tbk1OrUzmcyj"
      },
      "source": [
        "df_cc_mino = df_cc2[df_cc2['class'] == 1]\n",
        "df_cc_mino.shape"
      ],
      "execution_count": null,
      "outputs": []
    },
    {
      "cell_type": "markdown",
      "metadata": {
        "id": "UeCniZsBlYMc"
      },
      "source": [
        "## Reamostragem da classe majoritária (COM REPOSIÇÃO)"
      ]
    },
    {
      "cell_type": "code",
      "metadata": {
        "id": "TJ_I9bceqGYd"
      },
      "source": [
        "np.random.seed(20111974)\n",
        "df_cc_majo_s = df_cc_majo.sample(n = df_cc_mino.shape[0]+300, replace = True)\n",
        "df_cc_majo_s.shape"
      ],
      "execution_count": null,
      "outputs": []
    },
    {
      "cell_type": "markdown",
      "metadata": {
        "id": "1LzjX3dJqzmY"
      },
      "source": [
        "#### Combinar os dois dataframes"
      ]
    },
    {
      "cell_type": "code",
      "metadata": {
        "id": "0xNGGK-5q3Pd"
      },
      "source": [
        "df_cc_s1 = pd.concat([df_cc_majo_s, df_cc_mino])\n",
        "Counter(df_cc_s1['class'])"
      ],
      "execution_count": null,
      "outputs": []
    },
    {
      "cell_type": "code",
      "metadata": {
        "id": "EYhxJSfT56F2"
      },
      "source": [
        "df_cc_s1.head()"
      ],
      "execution_count": null,
      "outputs": []
    },
    {
      "cell_type": "markdown",
      "metadata": {
        "id": "8q7zxWK6ZE_B"
      },
      "source": [
        "Portanto, o dataframe df_cc_s1 é uma das amostras em que tratamos o desbalanceamento."
      ]
    },
    {
      "cell_type": "markdown",
      "metadata": {
        "id": "IeGBIu_X6Pel"
      },
      "source": [
        "### Amostra de treinamento e validação"
      ]
    },
    {
      "cell_type": "code",
      "metadata": {
        "id": "Q6TqvmQC6Peq"
      },
      "source": [
        "X = df_cc_s1.copy()\n",
        "X = X.drop(columns = 'class', axis = 1)\n",
        "\n",
        "y = df_cc_s1['class']"
      ],
      "execution_count": null,
      "outputs": []
    },
    {
      "cell_type": "code",
      "metadata": {
        "id": "_dO-ASMH6Peu"
      },
      "source": [
        "from sklearn.model_selection import train_test_split\n",
        "\n",
        "X_treinamento, X_teste, y_treinamento, y_teste = train_test_split(X, y, test_size = 0.3, random_state = 20111974) "
      ],
      "execution_count": null,
      "outputs": []
    },
    {
      "cell_type": "markdown",
      "metadata": {
        "id": "qn8K_6mQ6Pew"
      },
      "source": [
        "### Treinamento do modelo"
      ]
    },
    {
      "cell_type": "code",
      "metadata": {
        "id": "kDHE-bz46Pex"
      },
      "source": [
        "# Instancia\n",
        "from sklearn.linear_model import  LogisticRegression\n",
        "\n",
        "lr = LogisticRegression() "
      ],
      "execution_count": null,
      "outputs": []
    },
    {
      "cell_type": "code",
      "metadata": {
        "id": "42NW2MKzMt8v"
      },
      "source": [
        "# treina o modelo na amostra de treinamento \n",
        "lr.fit(X_treinamento, y_treinamento.ravel()) "
      ],
      "execution_count": null,
      "outputs": []
    },
    {
      "cell_type": "markdown",
      "metadata": {
        "id": "6bMFgHcO6Pez"
      },
      "source": [
        "### Previsão do modelo"
      ]
    },
    {
      "cell_type": "code",
      "metadata": {
        "id": "xp5Fb3yk6Pez"
      },
      "source": [
        "y_pred = lr.predict(X_teste) \n",
        "  \n",
        "# print classification report \n",
        "print(classification_report(y_teste, y_pred)) "
      ],
      "execution_count": null,
      "outputs": []
    },
    {
      "cell_type": "markdown",
      "metadata": {
        "id": "1DyzKGSu6Pe1"
      },
      "source": [
        "**Conclusão**: Temos acurácia de 94%.\n",
        "\n",
        "Observe o recall da classe minoritária: 0.92 ==> Isso mostra que estamos diante de uma amostra balanceada."
      ]
    },
    {
      "cell_type": "markdown",
      "metadata": {
        "id": "1Q2-7aJTmSWJ"
      },
      "source": [
        "### Verificar a quantidade de instâncias por preditoras"
      ]
    },
    {
      "cell_type": "code",
      "metadata": {
        "id": "SYnnu-lWmYUo"
      },
      "source": [
        "X.shape[0]/X.shape[1]"
      ],
      "execution_count": null,
      "outputs": []
    },
    {
      "cell_type": "markdown",
      "metadata": {
        "id": "TQ_eu8Jyqwe7"
      },
      "source": [
        "Temos 44 linhas para cada coluna/variável do dataframe."
      ]
    },
    {
      "cell_type": "markdown",
      "metadata": {
        "id": "e2tY6Xks6vOM"
      },
      "source": [
        "## SMOTE (Synthetic Minority Oversampling Technique)\n",
        "* Uma forma de se resolver o problema das amostras desbalanceadas é simplesmente reamostrando a classe minoritária e isso pode ser obtido através da duplicação da classe minoritária. Isso resolve o problema do desbalanceamento, mas não traz nenhuma informação adicional ao modelo.\n",
        "* Uma alternativa é criar amostras sintéticas da classe minoritária e pode ser efetivo para resolver o problema do desbalanceamento.\n",
        "* A estratégia mais utilizada é o SMOTE.\n",
        "    * Seleciona aleatoriamente amostras que estão próximos (amostras sintéticas). "
      ]
    },
    {
      "cell_type": "markdown",
      "metadata": {
        "id": "g9hW8lTGO4S_"
      },
      "source": [
        "SMOTE first selects a minority class instance a at random and finds its k nearest minority class neighbors. The synthetic instance is then created by choosing one of the k nearest neighbors b at random and connecting a and b to form a line segment in the feature space. The synthetic instances are generated as a convex combination of the two chosen instances a and b.\n",
        "\n",
        "**Imbalanced Learning: Foundations, Algorithms, and Applications, 2013**\n",
        "\n",
        "\n"
      ]
    },
    {
      "cell_type": "code",
      "metadata": {
        "id": "bXKn7na75I_5"
      },
      "source": [
        "from imblearn.over_sampling import SMOTE \n",
        "sm = SMOTE(random_state = 20111974) # por questões de reproducibilidade"
      ],
      "execution_count": null,
      "outputs": []
    },
    {
      "cell_type": "markdown",
      "metadata": {
        "id": "no2QQgd66-qy"
      },
      "source": [
        "### Amostra de treinamento e validação"
      ]
    },
    {
      "cell_type": "code",
      "metadata": {
        "id": "NKHz8aWl6-qz"
      },
      "source": [
        "X_cc = df_cc2.copy()\n",
        "X_cc = X_cc.drop(columns = 'class', axis = 1)\n",
        "\n",
        "y_cc = df_cc2['class']"
      ],
      "execution_count": null,
      "outputs": []
    },
    {
      "cell_type": "code",
      "metadata": {
        "id": "7Mq3x4Ej6-q3"
      },
      "source": [
        "from imblearn.over_sampling import SMOTE \n",
        "sm = SMOTE(random_state = 20111974) \n",
        "\n",
        "X, y = sm.fit_sample(X_cc, y_cc) "
      ],
      "execution_count": null,
      "outputs": []
    },
    {
      "cell_type": "code",
      "metadata": {
        "id": "OBVGbDEeKaK_"
      },
      "source": [
        "def antes_depois(y_cc, y):\n",
        "    qtd_a = Counter(y_cc)\n",
        "    qtd_d = Counter(y)\n",
        "    print(qtd_a)\n",
        "    print(qtd_d)\n",
        "\n",
        "    # scatter plot: antes\n",
        "    for label, _ in qtd_a.items():\n",
        "\t    row_ix = np.where(y_cc == label)[0]\n",
        "\t    plt.scatter(X[row_ix, 0], X[row_ix, 1], label=str(label))\n",
        "    plt.legend()\n",
        "    plt.show()\n",
        "\n",
        "    # scatter plot: depois\n",
        "    for label, _ in qtd_d.items():\n",
        "\t    row_ix = np.where(y == label)[0]\n",
        "\t    plt.scatter(X[row_ix, 0], X[row_ix, 1], label=str(label))\n",
        "    plt.legend()\n",
        "    plt.show()\n",
        "\n"
      ],
      "execution_count": null,
      "outputs": []
    },
    {
      "cell_type": "code",
      "metadata": {
        "id": "GkvkEEteKsUT"
      },
      "source": [
        "antes_depois(y_cc, y)"
      ],
      "execution_count": null,
      "outputs": []
    },
    {
      "cell_type": "code",
      "metadata": {
        "id": "CqqwdtDRtXFu"
      },
      "source": [
        "sum(y)/sum(y_cc)"
      ],
      "execution_count": null,
      "outputs": []
    },
    {
      "cell_type": "markdown",
      "metadata": {
        "id": "6It3vQq1-qdn"
      },
      "source": [
        "## Estratégia 2"
      ]
    },
    {
      "cell_type": "code",
      "metadata": {
        "id": "kbQDKCyo_RTs"
      },
      "source": [
        "from imblearn.under_sampling import RandomUnderSampler"
      ],
      "execution_count": null,
      "outputs": []
    },
    {
      "cell_type": "code",
      "metadata": {
        "id": "dLuoImU9-sGx"
      },
      "source": [
        "over = SMOTE(sampling_strategy = 0.1) # Reamostrar a classe minoritária para ter 10% da classe majoritária\n",
        "under = RandomUnderSampler(sampling_strategy = 0.5) # Seleciona a classe majoritária para ter 50%"
      ],
      "execution_count": null,
      "outputs": []
    },
    {
      "cell_type": "markdown",
      "metadata": {
        "id": "o4WdMzQ6-iV1"
      },
      "source": [
        "Usando um Pileline"
      ]
    },
    {
      "cell_type": "code",
      "metadata": {
        "id": "8Hr38-lR_WaG"
      },
      "source": [
        "from imblearn.pipeline import Pipeline"
      ],
      "execution_count": null,
      "outputs": []
    },
    {
      "cell_type": "code",
      "metadata": {
        "id": "NY0quIhW5bGe"
      },
      "source": [
        "steps = [('over', over), ('under', under)]\n",
        "pipeline = Pipeline(steps = steps)"
      ],
      "execution_count": null,
      "outputs": []
    },
    {
      "cell_type": "markdown",
      "metadata": {
        "id": "E57PQ3isuGGM"
      },
      "source": [
        "X_cc e y_cc são nossos dataframes originais."
      ]
    },
    {
      "cell_type": "code",
      "metadata": {
        "id": "0viVAtDs5bKs"
      },
      "source": [
        "# Aplica o pipeline\n",
        "X, y = pipeline.fit_resample(X_cc, y_cc)"
      ],
      "execution_count": null,
      "outputs": []
    },
    {
      "cell_type": "markdown",
      "metadata": {
        "id": "IjqfnKY3uYeU"
      },
      "source": [
        "Antes:"
      ]
    },
    {
      "cell_type": "code",
      "metadata": {
        "id": "iIMZ9UgGQEq0"
      },
      "source": [
        "Counter(y_cc)"
      ],
      "execution_count": null,
      "outputs": []
    },
    {
      "cell_type": "markdown",
      "metadata": {
        "id": "hNpOBtw5ucEh"
      },
      "source": [
        "Depois:"
      ]
    },
    {
      "cell_type": "code",
      "metadata": {
        "id": "TYMLs88_QI9k"
      },
      "source": [
        "qtd_d = Counter(y)\n",
        "qtd_d"
      ],
      "execution_count": null,
      "outputs": []
    },
    {
      "cell_type": "code",
      "metadata": {
        "id": "2WHEPLGeSuJL"
      },
      "source": [
        "# scatter plot\n",
        "for label, _ in qtd_d.items():\n",
        "\trow_ix = np.where(y == label)[0]\n",
        "\tplt.scatter(X[row_ix, 0], X[row_ix, 1], label=str(label))\n",
        "plt.legend()\n",
        "plt.show()"
      ],
      "execution_count": null,
      "outputs": []
    },
    {
      "cell_type": "code",
      "metadata": {
        "id": "xl2O2ChzBuoX"
      },
      "source": [
        "# Instancia o modelo\n",
        "lr = LogisticRegression()\n",
        "\n",
        "# acrescenta o modelo ao pipeline:\n",
        "steps = [('over', over), ('under', under), ('model', lr)]\n",
        "pipeline = Pipeline(steps = steps)"
      ],
      "execution_count": null,
      "outputs": []
    },
    {
      "cell_type": "code",
      "metadata": {
        "id": "JgbhWi-mRMkH"
      },
      "source": [
        "from sklearn.model_selection import RepeatedStratifiedKFold\n",
        "from sklearn.model_selection import cross_val_score"
      ],
      "execution_count": null,
      "outputs": []
    },
    {
      "cell_type": "code",
      "metadata": {
        "id": "fez37c3qB-JP"
      },
      "source": [
        "# evaluate pipeline\n",
        "cv = RepeatedStratifiedKFold(n_splits = 10, n_repeats = 3, random_state = 20111974)\n",
        "scores = cross_val_score(pipeline, X, y, scoring = 'roc_auc', cv = cv, n_jobs = -1)\n",
        "scores"
      ],
      "execution_count": null,
      "outputs": []
    },
    {
      "cell_type": "markdown",
      "metadata": {
        "id": "-1hRfhf6CJpj"
      },
      "source": [
        "Avalia o Pipeline"
      ]
    },
    {
      "cell_type": "code",
      "metadata": {
        "id": "WKAz2D8VCI96"
      },
      "source": [
        "print(f'Mean ROC AUC: {np.mean(scores)}')"
      ],
      "execution_count": null,
      "outputs": []
    },
    {
      "cell_type": "markdown",
      "metadata": {
        "id": "7W9arWK0AUVJ"
      },
      "source": [
        "## SMOTE para Classificação"
      ]
    },
    {
      "cell_type": "code",
      "metadata": {
        "id": "N2a-d3SBAfCq"
      },
      "source": [
        "# define pipeline\n",
        "steps = [('over', SMOTE()), ('model', LogisticRegression())]\n",
        "pipeline = Pipeline(steps = steps)"
      ],
      "execution_count": null,
      "outputs": []
    },
    {
      "cell_type": "code",
      "metadata": {
        "id": "lGGZ-oReARUp"
      },
      "source": [
        "# evaluate pipeline\n",
        "from sklearn.model_selection import RepeatedStratifiedKFold\n",
        "from sklearn.model_selection import cross_val_score\n",
        "\n",
        "cv = RepeatedStratifiedKFold(n_splits = 10, n_repeats = 3, random_state = 20111974)\n",
        "scores = cross_val_score(pipeline, X, y, scoring = 'roc_auc', cv = cv, n_jobs = -1)"
      ],
      "execution_count": null,
      "outputs": []
    },
    {
      "cell_type": "code",
      "metadata": {
        "id": "q2V9qNCnvkF8"
      },
      "source": [
        "scores"
      ],
      "execution_count": null,
      "outputs": []
    },
    {
      "cell_type": "code",
      "metadata": {
        "id": "Ixo5dDksvmFk"
      },
      "source": [
        "np.std(scores)"
      ],
      "execution_count": null,
      "outputs": []
    },
    {
      "cell_type": "markdown",
      "metadata": {
        "id": "N5n1lGndCA02"
      },
      "source": [
        "Avalia o Pipeline:"
      ]
    },
    {
      "cell_type": "code",
      "metadata": {
        "id": "1UlycCSeBd5L"
      },
      "source": [
        "print(f'Mean ROC AUC: {np.mean(scores)}')"
      ],
      "execution_count": null,
      "outputs": []
    },
    {
      "cell_type": "markdown",
      "metadata": {
        "id": "R7vgx9MUCg7F"
      },
      "source": [
        "## Questões interessantes\n",
        "* Qual o percentual adequado da classe minoritária e da classe majoritária com melhor performance?\n",
        "* Qual o valor de k ótimo para o SMOTE (default: 5)?\n",
        "```\n",
        "for k in [1, 2, 3, 4, 5, 6, 7, 8, 9, 10]:\n",
        "    # Defina o pipeline\n",
        "```"
      ]
    },
    {
      "cell_type": "code",
      "metadata": {
        "id": "a7NO3Pb9DVrK"
      },
      "source": [
        "l_knn = [1, 2, 3, 4, 5, 6, 7, 8, 9, 10]\n",
        "\n",
        "for k in l_knn:\n",
        "\t# Pipeline\n",
        "\tmodel = LogisticRegression()\n",
        "\tover = SMOTE(sampling_strategy = 0.1, k_neighbors = k)\n",
        "\tunder = RandomUnderSampler(sampling_strategy = 0.5)\n",
        "\tsteps = [('over', over), ('under', under), ('model', model)]\n",
        "\tpipeline = Pipeline(steps = steps)\n",
        " \n",
        "\t# Avalia o pipeline\n",
        "\tcv = RepeatedStratifiedKFold(n_splits = 10, n_repeats = 3, random_state = 20111974)\n",
        "\tscores = cross_val_score(pipeline, X_cc, y_cc, scoring = 'roc_auc', cv = cv, n_jobs = -1)\n",
        " \n",
        " \ty_pred = model.predict(X_teste) \n",
        "  \n",
        "\t# print classification report \n",
        "\tprint(classification_report(y_teste, y_pred)) \n",
        "\tprint(f'Valor de k: {k}; Mean ROC AUC: {np.mean(scores)}')"
      ],
      "execution_count": null,
      "outputs": []
    },
    {
      "cell_type": "markdown",
      "metadata": {
        "id": "YJt1bxijE58v"
      },
      "source": [
        "## Borderline+SMOTE\n",
        "* Uma extensão popular para SMOTE envolve a seleção de instâncias da classe minoritária que foram classificadas incorretamente, como com um modelo de classificação de k-vizinho mais próximo."
      ]
    },
    {
      "cell_type": "code",
      "metadata": {
        "id": "bp9xDm39E9Ru"
      },
      "source": [
        "from imblearn.over_sampling import BorderlineSMOTE"
      ],
      "execution_count": null,
      "outputs": []
    },
    {
      "cell_type": "code",
      "metadata": {
        "id": "8ea3z02PGSly"
      },
      "source": [
        "# transform the dataset\n",
        "oversample = BorderlineSMOTE()\n",
        "X, y = oversample.fit_resample(X_cc, y_cc)"
      ],
      "execution_count": null,
      "outputs": []
    },
    {
      "cell_type": "code",
      "metadata": {
        "id": "VsYz3KUgVGa1"
      },
      "source": [
        "qtd_a = Counter(y_cc)\n",
        "print(qtd_a)"
      ],
      "execution_count": null,
      "outputs": []
    },
    {
      "cell_type": "code",
      "metadata": {
        "id": "WxSoOawzGzzS"
      },
      "source": [
        "qtd_d = Counter(y)\n",
        "print(qtd_d)"
      ],
      "execution_count": null,
      "outputs": []
    },
    {
      "cell_type": "code",
      "metadata": {
        "id": "k3mnOqs4GcUM"
      },
      "source": [
        "# scatter plot\n",
        "for label, _ in qtd_d.items():\n",
        "\trow_ix = np.where(y == label)[0]\n",
        "\tplt.scatter(X[row_ix, 0], X[row_ix, 1], label=str(label))\n",
        "plt.legend()\n",
        "plt.show()"
      ],
      "execution_count": null,
      "outputs": []
    },
    {
      "cell_type": "markdown",
      "metadata": {
        "id": "zHT2IVGyCTSs"
      },
      "source": [
        "### BORDERLINE+SVM\n",
        "* Usa SVM (ao invés do KNN);."
      ]
    },
    {
      "cell_type": "code",
      "metadata": {
        "id": "OTnPb0uFCbhD"
      },
      "source": [
        "# Carrega a library:\n",
        "from imblearn.over_sampling import SVMSMOTE\n",
        "\n",
        "oversample = SVMSMOTE()\n",
        "X, y = oversample.fit_resample(X_cc, y_cc)\n",
        "\n",
        "# summarize the new class distribution\n",
        "qtd_d = Counter(y)\n",
        "print(qtd_d)"
      ],
      "execution_count": null,
      "outputs": []
    },
    {
      "cell_type": "code",
      "metadata": {
        "id": "ltfp7_XgKCnd"
      },
      "source": [
        "# scatter plot\n",
        "for label, _ in qtd_d.items():\n",
        "\trow_ix = np.where(y == label)[0]\n",
        "\tplt.scatter(X[row_ix, 0], X[row_ix, 1], label=str(label))\n",
        "plt.legend()\n",
        "plt.show()"
      ],
      "execution_count": null,
      "outputs": []
    },
    {
      "cell_type": "markdown",
      "metadata": {
        "id": "O4G71LLTJTpS"
      },
      "source": [
        "### Adaptive Synthetic Sampling (ADASYN)\n",
        "* Gera mais amostras sintéticas nas regiões onde a densidade da classe minoritária é baixa e MENOS (ou nenhuma) onde a densidade da classe minoritária é alta."
      ]
    },
    {
      "cell_type": "code",
      "metadata": {
        "id": "wdepfj4HA6wd"
      },
      "source": [
        "# Carrega a library:\n",
        "from imblearn.over_sampling import ADASYN\n",
        "\n",
        "oversample = ADASYN()\n",
        "X, y = oversample.fit_resample(X_cc, y_cc)"
      ],
      "execution_count": null,
      "outputs": []
    },
    {
      "cell_type": "code",
      "metadata": {
        "id": "QUHQblBuWBJw"
      },
      "source": [
        "qtd_d = Counter(y)\n",
        "print(qtd_d)"
      ],
      "execution_count": null,
      "outputs": []
    },
    {
      "cell_type": "code",
      "metadata": {
        "id": "RJzg9YRdJrLO"
      },
      "source": [
        "# scatter plot\n",
        "for label, _ in qtd_d.items():\n",
        "\trow_ix = np.where(y == label)[0]\n",
        "\tplt.scatter(X[row_ix, 0], X[row_ix, 1], label=str(label))\n",
        "plt.legend()\n",
        "plt.show()"
      ],
      "execution_count": null,
      "outputs": []
    },
    {
      "cell_type": "code",
      "metadata": {
        "id": "8bypBo3jJxHR"
      },
      "source": [
        ""
      ],
      "execution_count": null,
      "outputs": []
    },
    {
      "cell_type": "code",
      "metadata": {
        "id": "mhavlcftJxFU"
      },
      "source": [
        ""
      ],
      "execution_count": null,
      "outputs": []
    },
    {
      "cell_type": "code",
      "metadata": {
        "id": "y8L-a-lbJw8x"
      },
      "source": [
        ""
      ],
      "execution_count": null,
      "outputs": []
    },
    {
      "cell_type": "code",
      "metadata": {
        "id": "08ZqlICmfGQq"
      },
      "source": [
        "clf = setup(data = df_cc,             \n",
        "            target = 'class',\n",
        "            session_id = 20111974,\n",
        "            silent = False,\n",
        "            fix_imbalance = False,\n",
        "            fix_imbalance_method = None,\n",
        "            ignore_features = ['time'])"
      ],
      "execution_count": null,
      "outputs": []
    },
    {
      "cell_type": "code",
      "metadata": {
        "id": "32yWqmXkfsya"
      },
      "source": [
        "compare_models()"
      ],
      "execution_count": null,
      "outputs": []
    },
    {
      "cell_type": "code",
      "metadata": {
        "id": "BdZk0nnZl6cb"
      },
      "source": [
        "evaluate_model(dt)"
      ],
      "execution_count": null,
      "outputs": []
    },
    {
      "cell_type": "markdown",
      "metadata": {
        "id": "qhCV7eMLl0Bs"
      },
      "source": [
        ""
      ]
    },
    {
      "cell_type": "markdown",
      "metadata": {
        "id": "7iUqgofnl0QE"
      },
      "source": [
        ""
      ]
    },
    {
      "cell_type": "markdown",
      "metadata": {
        "id": "c-n7LuT0l0Sy"
      },
      "source": [
        ""
      ]
    },
    {
      "cell_type": "markdown",
      "metadata": {
        "id": "bGMEnl0IktNz"
      },
      "source": [
        "### O melhor modelo"
      ]
    },
    {
      "cell_type": "code",
      "metadata": {
        "id": "VeMJ11_Jkoq8"
      },
      "source": [
        "dt  = create_model('dt')"
      ],
      "execution_count": null,
      "outputs": []
    },
    {
      "cell_type": "code",
      "metadata": {
        "id": "LXTGruYkkfk7"
      },
      "source": [
        "evaluate_model(dt)"
      ],
      "execution_count": null,
      "outputs": []
    },
    {
      "cell_type": "markdown",
      "metadata": {
        "id": "U9xYILH2ajfe"
      },
      "source": [
        "## Reamostragem da classe majoritária"
      ]
    },
    {
      "cell_type": "code",
      "metadata": {
        "id": "oS4R_nAcaHl1"
      },
      "source": [
        "clf = setup(data = df_credit_card, target = 'Class')"
      ],
      "execution_count": null,
      "outputs": []
    }
  ]
}