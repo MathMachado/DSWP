{
  "nbformat": 4,
  "nbformat_minor": 0,
  "metadata": {
    "colab": {
      "name": "NB01_01__Getting_Started.ipynb",
      "provenance": [],
      "collapsed_sections": [
        "n8BIbzQbNWUo",
        "7eS94uQ4NhVR",
        "SYOgJpGYVLUu",
        "CaHFxk98W5if",
        "ReWUyWiHXCnc",
        "CqszHxaKHr2h",
        "tXgF1Wl9gHKY",
        "Fotx7XUquAo8",
        "36kmLUYDvsUI",
        "SWO2GdNovxAp",
        "vpN54l4vxze5",
        "u4HOf9SNytSq",
        "6BQ9oZiD9hg5",
        "tz5-QdrX9vct",
        "p1muBgMX8NK4",
        "FxTC2-U88ajk",
        "z8EYn0pP25Rh"
      ],
      "include_colab_link": true
    },
    "kernelspec": {
      "name": "python3",
      "display_name": "Python 3"
    },
    "accelerator": "GPU"
  },
  "cells": [
    {
      "cell_type": "markdown",
      "metadata": {
        "id": "view-in-github",
        "colab_type": "text"
      },
      "source": [
        "<a href=\"https://colab.research.google.com/github/MathMachado/DSWP/blob/master/Notebooks/NB01_01__Getting_Started.ipynb\" target=\"_parent\"><img src=\"https://colab.research.google.com/assets/colab-badge.svg\" alt=\"Open In Colab\"/></a>"
      ]
    },
    {
      "cell_type": "markdown",
      "metadata": {
        "id": "qFdz_KELivnU"
      },
      "source": [
        "<center><h1><b><i>INTRODUÇÃO AO PYTHON</i></b></h1></center>"
      ]
    },
    {
      "cell_type": "markdown",
      "metadata": {
        "id": "Ap5LL_oIhXmI"
      },
      "source": [
        "# **AGENDA**:\n",
        "> Nesta sessão, vamos abordar os seguintes assuntos:\n",
        "\n",
        "* Comentários no Python;\n",
        "* Regras gerais para nomes de variáveis no Python;\n",
        "* Como descobrir as palavras reservadas do Python;\n",
        "* Como deletar variáveis;\n",
        "* Wrap Up;"
      ]
    },
    {
      "cell_type": "markdown",
      "metadata": {
        "id": "Xu5bZARihbPv"
      },
      "source": [
        "___\n",
        "# **REFERÊNCIAS**"
      ]
    },
    {
      "cell_type": "markdown",
      "metadata": {
        "id": "qG0cPxziGcJj"
      },
      "source": [
        "___\n",
        "# **Comentários no Python**\n",
        "> Basicamente, há duas formas de se fazer comentários e documentar seus codes no Python. Confira os exemplos a seguir:"
      ]
    },
    {
      "cell_type": "markdown",
      "metadata": {
        "id": "K1mmf41HG1cu"
      },
      "source": [
        "## Exemplo 1 - Comentários com o símbolo padrão \"#\""
      ]
    },
    {
      "cell_type": "code",
      "metadata": {
        "id": "B56PtqQ4G2xq"
      },
      "source": [
        "# Isso é um comentário para o Python."
      ],
      "execution_count": null,
      "outputs": []
    },
    {
      "cell_type": "markdown",
      "metadata": {
        "id": "vLyc-A93G_6G"
      },
      "source": [
        "## Exemplo 2"
      ]
    },
    {
      "cell_type": "code",
      "metadata": {
        "id": "1y8BBOxoG-sd"
      },
      "source": [
        "print('Olá parceiros do curso de Python para Machine Learning') # A partir daqui, o Python considera tudo como comentários."
      ],
      "execution_count": null,
      "outputs": []
    },
    {
      "cell_type": "markdown",
      "metadata": {
        "id": "PHqYXcK4HQkK"
      },
      "source": [
        "## Exemplo 3a - Comentários em múltiplas linhas usando docstring \n",
        "> Docstring são três apóstrofos sequenciais. Acompanhe o exemplo a seguir:"
      ]
    },
    {
      "cell_type": "code",
      "metadata": {
        "id": "2FxBPFZGGDLs"
      },
      "source": [
        "'''\n",
        "Tudo que eu escrever entre esses apóstrofos são comentários para o Python.\n",
        "\n",
        "Bla bla bla\n",
        "Bla bla bla\n",
        "Bla bla\n",
        "...\n",
        "Bla bla bla\n",
        "\n",
        "Chega de comentários\n",
        "'''"
      ],
      "execution_count": null,
      "outputs": []
    },
    {
      "cell_type": "markdown",
      "metadata": {
        "id": "7S1TJR_roLnY"
      },
      "source": [
        "## Exemplo 3b - Docstring para documentar funções"
      ]
    },
    {
      "cell_type": "code",
      "metadata": {
        "id": "gvUbWOf_oT7a"
      },
      "source": [
        "def OlaMundo():\n",
        "    '''\n",
        "    Objetivo: Esta função tem por objetivo imprimir/mostrar a frase \"Olá mundo!!!\".\n",
        "    Input: nenhum\n",
        "    Output: frase \"Olá mundo!!!\"\n",
        "    '''\n",
        "    print('Olá mundo!!!')"
      ],
      "execution_count": null,
      "outputs": []
    },
    {
      "cell_type": "code",
      "metadata": {
        "id": "a-urq9YFonpX"
      },
      "source": [
        "OlaMundo()"
      ],
      "execution_count": null,
      "outputs": []
    },
    {
      "cell_type": "markdown",
      "metadata": {
        "id": "_TPdDJjxo7Vs"
      },
      "source": [
        "Quando eu quiser ler o docString de uma função, use:\n",
        "```\n",
        "nome_da_funcao.__doc__.\n",
        "```"
      ]
    },
    {
      "cell_type": "code",
      "metadata": {
        "id": "acOWubUaozEe"
      },
      "source": [
        "OlaMundo.__doc__"
      ],
      "execution_count": null,
      "outputs": []
    },
    {
      "cell_type": "markdown",
      "metadata": {
        "id": "kpNXncpbKdg1"
      },
      "source": [
        "## Exemplo 4 - Comentários em múltiplas linhas usando o símbolo padrão \"#\""
      ]
    },
    {
      "cell_type": "code",
      "metadata": {
        "id": "DhIy_LnHHR1v"
      },
      "source": [
        "# Primeira linha de comentários\n",
        "# Segunda linha de comentários\n",
        "# ...\n",
        "# Última linha de comentários"
      ],
      "execution_count": null,
      "outputs": []
    },
    {
      "cell_type": "markdown",
      "metadata": {
        "id": "MM3jZ47z7Qyl"
      },
      "source": [
        "___\n",
        "# **Regras gerais para nomes de variáveis no Python**\n",
        "* As variáveis no Python devem começar com letras (A-Z/a-z) ou underscore(_)\n",
        "* As variáveis Python não devem conter símbolos especiais como, por exemplo, !, @, #, $, %, .\n",
        "* Palavras reservadas do Python não podem ser usadas como nomes de variáveis;\n",
        "* **Observação**: Python é case-sensitive. Portanto, a variável \"nome\" e \"Nome\" são variáveis distintas."
      ]
    },
    {
      "cell_type": "code",
      "metadata": {
        "id": "BViYCn1AVahs"
      },
      "source": [
        "# Case-sensitive: Diferentes resultados, supostamente a mesma variável.\n",
        "nome = \"Alex\"\n",
        "Nome = \"Bernardo\"\n",
        "\n",
        "print(nome)\n",
        "print(Nome)"
      ],
      "execution_count": null,
      "outputs": []
    },
    {
      "cell_type": "markdown",
      "metadata": {
        "id": "1FPJOv0ZWkgB"
      },
      "source": [
        "___\n",
        "# [PEP - Style Guide for Python Code](https://www.python.org/dev/peps/pep-0008/)\n",
        "> Guia ou melhores práticas para se escrever códigos mais claros em Python. Em outras palavras, é uma forma de (tentar) padronizar a forma de se escrever Python codes.\n",
        ">> Eu recomendo fortemente a investirem um tempo a ler este guia.\n"
      ]
    },
    {
      "cell_type": "markdown",
      "metadata": {
        "id": "WncC-2EhM_FX"
      },
      "source": [
        "## Convenção (particular) para nomes de variáveis no Python --> Convenção adotada pelo Nelio\n",
        "> A convenção a seguir identifica o tipo de variável pelo seu prefixo, conforme podemos acompanhar abaixo:\n",
        "\n",
        "| Prefixo da Variável | Tipo da variável | Exemplo |\n",
        "|---------------------|------------------|---------|\n",
        "| s_ | String | s_nome= \"Isto é uma string\" |\n",
        "| set_ | Set | set_dias_da_semana= {'Seg', 'Ter', 'Qua', 'Qui', 'Sex', 'Sab', 'Dom'} |\n",
        "| t_ | Tupla | t_vogais= ('a', 'e', 'i', 'o', 'u')  |\n",
        "| d_ | Dicionário | d_meses_do_ano= {'Jan': 1, 'Fev': 2, ..., 'Dez': 12} |\n",
        "| i_ | Inteiro | i_idade= 44 |\n",
        "| f_ | Float | f_valor= 44.5 |\n",
        "| l_ | Lista | l_nomes= ['Joao', 'Alfredo', ..., 'Manoel'] |\n",
        "| a_ | Array | Array, vetor, matriz |\n",
        "\n"
      ]
    },
    {
      "cell_type": "markdown",
      "metadata": {
        "id": "JsOrzfuK7thV"
      },
      "source": [
        "## Exemplo 1: variáveis e estrutura usando PEP8\n",
        "\n",
        "Que tal a documentação do código abaixo?\n",
        "\n"
      ]
    },
    {
      "cell_type": "code",
      "metadata": {
        "id": "xbxl9YO27ysk"
      },
      "source": [
        "x = 'Pedro Alvares Cabral'\n",
        "a, b, c = x.split()\n",
        "print(a)\n",
        "print(b)\n",
        "print(c)"
      ],
      "execution_count": null,
      "outputs": []
    },
    {
      "cell_type": "markdown",
      "metadata": {
        "id": "nM5RQzKI8ShN"
      },
      "source": [
        "Que tal esta versão?"
      ]
    },
    {
      "cell_type": "code",
      "metadata": {
        "id": "mTC6Or-S8U6H"
      },
      "source": [
        "s_descobridor_Brasil = 'Pedro Alvares Cabral'\n",
        "s_primeiro_nome, s_segundo_nome, s_terceiro_nome = s_descobridor_Brasil.split()\n",
        "print(s_primeiro_nome)\n",
        "print(s_segundo_nome)\n",
        "print(s_terceiro_nome)"
      ],
      "execution_count": null,
      "outputs": []
    },
    {
      "cell_type": "markdown",
      "metadata": {
        "id": "a0wh9yYxDRsy"
      },
      "source": [
        "#### Qual versão é mais fácil de ler e entender?"
      ]
    },
    {
      "cell_type": "markdown",
      "metadata": {
        "id": "uDyQbftjDLRb"
      },
      "source": [
        "## Exemplo 2: variáveis e estrutura usando PEP8"
      ]
    },
    {
      "cell_type": "code",
      "metadata": {
        "id": "pKnL_50cDNVt"
      },
      "source": [
        "def s(a, b):\n",
        "    return a+b"
      ],
      "execution_count": null,
      "outputs": []
    },
    {
      "cell_type": "code",
      "metadata": {
        "id": "IPFKf9PNDcc7"
      },
      "source": [
        "z= s(5, 6)\n",
        "print(z)"
      ],
      "execution_count": null,
      "outputs": []
    },
    {
      "cell_type": "markdown",
      "metadata": {
        "id": "T875m9_8DjFA"
      },
      "source": [
        "Que tal a versão a seguir?"
      ]
    },
    {
      "cell_type": "code",
      "metadata": {
        "id": "eD9mjemdDkvG"
      },
      "source": [
        "def soma(i_numero1, i_numero2):\n",
        "    return (i_numero1+i_numero2)"
      ],
      "execution_count": null,
      "outputs": []
    },
    {
      "cell_type": "code",
      "metadata": {
        "id": "OXb0iZVPDx5Y"
      },
      "source": [
        "i_soma = soma(5, 6)\n",
        "print(i_soma)"
      ],
      "execution_count": null,
      "outputs": []
    },
    {
      "cell_type": "markdown",
      "metadata": {
        "id": "3o9_mZ73EGgc"
      },
      "source": [
        "## Classes e funções\n",
        "* Coloque 2 linhas em branco depois da definição das classes e métodos;\n",
        "* Coloque 1 linha em branco depois da definição das funções.\n"
      ]
    },
    {
      "cell_type": "code",
      "metadata": {
        "id": "Xk_o3ga1Eng8"
      },
      "source": [
        "class MinhaClasse1:\n",
        "    def minha_funcao1(self):\n",
        "        return None\n",
        "\n",
        "    def minha_funcao2(self):\n",
        "        return None\n",
        "\n",
        "\n",
        "class MinhaClasse2:\n",
        "    pass\n",
        "\n",
        "\n",
        "class MinhaClasse3:\n",
        "    pass"
      ],
      "execution_count": null,
      "outputs": []
    },
    {
      "cell_type": "markdown",
      "metadata": {
        "id": "MGfE6lc4MTP0"
      },
      "source": [
        "## Palavras reservadas do Python"
      ]
    },
    {
      "cell_type": "markdown",
      "metadata": {
        "id": "QtWLaT0l8LbO"
      },
      "source": [
        "Como verificar se um determinado nome de variável é uma palavra reservada do Python?"
      ]
    },
    {
      "cell_type": "code",
      "metadata": {
        "id": "-GIb1gXA9J5T"
      },
      "source": [
        "import keyword"
      ],
      "execution_count": null,
      "outputs": []
    },
    {
      "cell_type": "markdown",
      "metadata": {
        "id": "Zs5PI50jnM2y"
      },
      "source": [
        "Vamos verificar se 'return' é uma palavra reservada do Python:"
      ]
    },
    {
      "cell_type": "code",
      "metadata": {
        "id": "wfkA9LIwx5Xh"
      },
      "source": [
        "keyword.iskeyword('return')"
      ],
      "execution_count": null,
      "outputs": []
    },
    {
      "cell_type": "markdown",
      "metadata": {
        "id": "tP2UQbU39q48"
      },
      "source": [
        "E 'flag'? É uma palavra reservada do Python?"
      ]
    },
    {
      "cell_type": "code",
      "metadata": {
        "id": "sk33aEjP9s61",
        "outputId": "0f3d9297-4ca7-448a-cb3f-d3fe9a119b15",
        "colab": {
          "base_uri": "https://localhost:8080/",
          "height": 34
        }
      },
      "source": [
        "keyword.iskeyword('flag')"
      ],
      "execution_count": 3,
      "outputs": [
        {
          "output_type": "execute_result",
          "data": {
            "text/plain": [
              "False"
            ]
          },
          "metadata": {
            "tags": []
          },
          "execution_count": 3
        }
      ]
    },
    {
      "cell_type": "markdown",
      "metadata": {
        "id": "Jn86gWSQ90xi"
      },
      "source": [
        "E 'lambda'? É uma palavra reservada do Python?"
      ]
    },
    {
      "cell_type": "code",
      "metadata": {
        "id": "fSR9X1dI93ed",
        "outputId": "b5f7ff58-998c-4dba-81ef-bc699337dd4d",
        "colab": {
          "base_uri": "https://localhost:8080/",
          "height": 34
        }
      },
      "source": [
        "keyword.iskeyword('lambda')"
      ],
      "execution_count": 4,
      "outputs": [
        {
          "output_type": "execute_result",
          "data": {
            "text/plain": [
              "True"
            ]
          },
          "metadata": {
            "tags": []
          },
          "execution_count": 4
        }
      ]
    },
    {
      "cell_type": "markdown",
      "metadata": {
        "id": "8LS69KLH9_NI"
      },
      "source": [
        "E 'global'? é uma palavra reservada do Python?"
      ]
    },
    {
      "cell_type": "code",
      "metadata": {
        "id": "UDYDPDeG9_q_",
        "outputId": "5d11a2cd-7273-4581-e7a7-4a3e95ff61ae",
        "colab": {
          "base_uri": "https://localhost:8080/",
          "height": 34
        }
      },
      "source": [
        "keyword.iskeyword('global')"
      ],
      "execution_count": 5,
      "outputs": [
        {
          "output_type": "execute_result",
          "data": {
            "text/plain": [
              "True"
            ]
          },
          "metadata": {
            "tags": []
          },
          "execution_count": 5
        }
      ]
    },
    {
      "cell_type": "markdown",
      "metadata": {
        "id": "nsQgPP2B-463"
      },
      "source": [
        "___\n",
        "# **Deletar variáveis**\n",
        "* del var - Deleta a variável var."
      ]
    },
    {
      "cell_type": "markdown",
      "metadata": {
        "id": "xAR0S3FPj2GD"
      },
      "source": [
        "Suponha a variável definida abaixo:"
      ]
    },
    {
      "cell_type": "code",
      "metadata": {
        "id": "F9k7QkTF_AEv"
      },
      "source": [
        "s_cor= 'vermelho'\n",
        "i_idade= 45"
      ],
      "execution_count": null,
      "outputs": []
    },
    {
      "cell_type": "code",
      "metadata": {
        "id": "5wx4RsCq_TkM"
      },
      "source": [
        "s_cor"
      ],
      "execution_count": null,
      "outputs": []
    },
    {
      "cell_type": "code",
      "metadata": {
        "id": "pZPm8CmN_XKW"
      },
      "source": [
        "i_idade"
      ],
      "execution_count": null,
      "outputs": []
    },
    {
      "cell_type": "code",
      "metadata": {
        "id": "5bYZFe9S_mJt"
      },
      "source": [
        "del s_cor"
      ],
      "execution_count": null,
      "outputs": []
    },
    {
      "cell_type": "code",
      "metadata": {
        "id": "-ncQWNIJz5pg"
      },
      "source": [
        "s_cor"
      ],
      "execution_count": null,
      "outputs": []
    },
    {
      "cell_type": "markdown",
      "metadata": {
        "id": "wp-UjGtZues4"
      },
      "source": [
        "___\n",
        "# **Wrap Up**\n",
        "## Leitura recomendada:\n",
        "* [How to Write Beautiful Python Code With PEP 8](https://realpython.com/python-pep8/)."
      ]
    }
  ]
}