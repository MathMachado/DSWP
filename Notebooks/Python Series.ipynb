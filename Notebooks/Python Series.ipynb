{
  "nbformat": 4,
  "nbformat_minor": 0,
  "metadata": {
    "colab": {
      "name": "Untitled0.ipynb",
      "version": "0.3.2",
      "provenance": [],
      "private_outputs": true,
      "toc_visible": true,
      "include_colab_link": true
    },
    "kernelspec": {
      "name": "python3",
      "display_name": "Python 3"
    }
  },
  "cells": [
    {
      "cell_type": "markdown",
      "metadata": {
        "id": "view-in-github",
        "colab_type": "text"
      },
      "source": [
        "<a href=\"https://colab.research.google.com/github/MathMachado/DSWP/blob/master/Notebooks/Python%20Series.ipynb\" target=\"_parent\"><img src=\"https://colab.research.google.com/assets/colab-badge.svg\" alt=\"Open In Colab\"/></a>"
      ]
    },
    {
      "cell_type": "markdown",
      "metadata": {
        "id": "_eradxaM1Rp8",
        "colab_type": "text"
      },
      "source": [
        "# Melhorias da sessão\n",
        "* Propor mais exercícios.\n"
      ]
    },
    {
      "cell_type": "markdown",
      "metadata": {
        "id": "i1W8acNGn8nP",
        "colab_type": "text"
      },
      "source": [
        "# Pandas Series\n",
        "\n",
        "> Pandas Series é um **array uni-dimensional** indexado capaz de armazenar dados de qualquer tipo (integer, string, float, python objects, etc.). The axis labels are collectively called index.\n",
        "\n",
        "* Revisão sobre geração de números aleatórios: [Statistics and Probability](https://github.com/MathMachado/Python_RFB/blob/DS_Python/Statistics%20and%20Probability.ipynb)"
      ]
    },
    {
      "cell_type": "markdown",
      "metadata": {
        "id": "M1y6HtrVyQTX",
        "colab_type": "text"
      },
      "source": [
        "## Criar objetos series a partir de objetos lists"
      ]
    },
    {
      "cell_type": "markdown",
      "metadata": {
        "id": "mKwobxIw1vvr",
        "colab_type": "text"
      },
      "source": [
        "### Exemplo\n",
        "* Geramos uma lista com números aleatória."
      ]
    },
    {
      "cell_type": "code",
      "metadata": {
        "id": "4-Q7rox9oXZn",
        "colab_type": "code",
        "colab": {}
      },
      "source": [
        "# Import Pandas Library\n",
        "import pandas as pd\n",
        "\n",
        "# Import random Library to generate random numbers\n",
        "import random as random"
      ],
      "execution_count": 0,
      "outputs": []
    },
    {
      "cell_type": "code",
      "metadata": {
        "id": "a9KQj67DpyNW",
        "colab_type": "code",
        "colab": {}
      },
      "source": [
        "# set the seed\n",
        "random.seed(20111974)\n",
        "\n",
        "MyList= []\n",
        "\n",
        "# Gerando números aleatórios inteiros entre 0 e 100:\n",
        "for _ in range(10):\n",
        "\tMyList.append(random.randint(0,100)) "
      ],
      "execution_count": 0,
      "outputs": []
    },
    {
      "cell_type": "code",
      "metadata": {
        "id": "VL-SjmXSwql_",
        "colab_type": "code",
        "colab": {}
      },
      "source": [
        "print(MyList)"
      ],
      "execution_count": 0,
      "outputs": []
    },
    {
      "cell_type": "code",
      "metadata": {
        "id": "u-8La2QExh9I",
        "colab_type": "code",
        "colab": {}
      },
      "source": [
        "type(MyList)"
      ],
      "execution_count": 0,
      "outputs": []
    },
    {
      "cell_type": "markdown",
      "metadata": {
        "id": "Cb0s5FGNxF3u",
        "colab_type": "text"
      },
      "source": [
        "a função pandas.Series() transforma a lista MyList num objeto series."
      ]
    },
    {
      "cell_type": "code",
      "metadata": {
        "id": "aMxls482xEvj",
        "colab_type": "code",
        "colab": {}
      },
      "source": [
        "MySerie= pd.Series(MyList)\n",
        "print(MySerie)"
      ],
      "execution_count": 0,
      "outputs": []
    },
    {
      "cell_type": "markdown",
      "metadata": {
        "id": "qlE9s6UKK1-b",
        "colab_type": "text"
      },
      "source": [
        "\n",
        "\n",
        "\n",
        "> **Comentário**: \n",
        "    \n",
        "    * Pandas Series é essencialmente uma coluna (unidimensional). Veremos mais tarde que um pandas.DataFrame() é uma tabela multi-dimensional ou coleção de objetos series.\n",
        "    * Assim como as listas, usamos \"[]\" e acessamos os itens do objeto Series através dos índices."
      ]
    },
    {
      "cell_type": "code",
      "metadata": {
        "id": "_tma_reAxlLF",
        "colab_type": "code",
        "colab": {}
      },
      "source": [
        "type(MySerie)"
      ],
      "execution_count": 0,
      "outputs": []
    },
    {
      "cell_type": "markdown",
      "metadata": {
        "id": "FnCdHVZP1A3F",
        "colab_type": "text"
      },
      "source": [
        "Podemos acessar os itens do objeto Series usando os índices:"
      ]
    },
    {
      "cell_type": "code",
      "metadata": {
        "id": "bZXvJJkX05_T",
        "colab_type": "code",
        "colab": {}
      },
      "source": [
        "MySerie[0]"
      ],
      "execution_count": 0,
      "outputs": []
    },
    {
      "cell_type": "markdown",
      "metadata": {
        "id": "djdcf8NRy3SN",
        "colab_type": "text"
      },
      "source": [
        "## Criar Pandas Series usando numpy.array()"
      ]
    },
    {
      "cell_type": "code",
      "metadata": {
        "id": "Ig40D-M9zLZ0",
        "colab_type": "code",
        "colab": {}
      },
      "source": [
        "# Importar Libraries\n",
        "import pandas as pd\n",
        "import numpy as np"
      ],
      "execution_count": 0,
      "outputs": []
    },
    {
      "cell_type": "code",
      "metadata": {
        "id": "QKhAj8eDzSyg",
        "colab_type": "code",
        "colab": {}
      },
      "source": [
        "MyObjects= ['a', 'e', 'i', 'o', 'u']\n",
        "MyArray= np.array(MyObjects)"
      ],
      "execution_count": 0,
      "outputs": []
    },
    {
      "cell_type": "code",
      "metadata": {
        "id": "KG7MQ6szzxb7",
        "colab_type": "code",
        "colab": {}
      },
      "source": [
        "type(MyObjects)"
      ],
      "execution_count": 0,
      "outputs": []
    },
    {
      "cell_type": "code",
      "metadata": {
        "id": "y1UYRJfhz61j",
        "colab_type": "code",
        "colab": {}
      },
      "source": [
        "type(MyArray)"
      ],
      "execution_count": 0,
      "outputs": []
    },
    {
      "cell_type": "code",
      "metadata": {
        "id": "W8f6twYSz_RS",
        "colab_type": "code",
        "colab": {}
      },
      "source": [
        "MySerie= pd.Series(MyArray)\n",
        "print(MySerie)"
      ],
      "execution_count": 0,
      "outputs": []
    },
    {
      "cell_type": "code",
      "metadata": {
        "id": "O3oVLNg50PXt",
        "colab_type": "code",
        "colab": {}
      },
      "source": [
        "type(MySerie)"
      ],
      "execution_count": 0,
      "outputs": []
    },
    {
      "cell_type": "markdown",
      "metadata": {
        "id": "FZiDBEMW0i99",
        "colab_type": "text"
      },
      "source": [
        "## Criar objetos Pandas Series usando Dictionaries"
      ]
    },
    {
      "cell_type": "code",
      "metadata": {
        "id": "srV2yC8Q0xdt",
        "colab_type": "code",
        "colab": {}
      },
      "source": [
        "# Definição do dicionário:\n",
        "dFruits= {'Avocado': 0.35, \n",
        "         'Apple': 0.40, \n",
        "         'Apricot': 0.25, \n",
        "         'Banana': 0.30, \n",
        "         'Blackcurrant': 0.70, \n",
        "         'Blackberry': 0.55, \n",
        "         'Blueberry': 0.45, \n",
        "         'Cherry': 0.50, \n",
        "         'Coconut': 0.75, \n",
        "         'Fig': 0.60, \n",
        "         'Grape': 0.65, \n",
        "         'Kiwi': 0.20, \n",
        "         'Lemon': 0.15, \n",
        "         'Mango': 0.80, \n",
        "         'Nectarine': 0.75, \n",
        "         'Orange': 0.25, \n",
        "         'Papaya': 0.30,\n",
        "         'Passion Fruit': 0.45,\n",
        "         'Peach': 0.55,\n",
        "         'Pineapple': 0.55,\n",
        "         'Plum': 0.60,\n",
        "         'Raspberry': 0.40,\n",
        "         'Strawberry': 0.50,\n",
        "         'Watermelon': 0.45}"
      ],
      "execution_count": 0,
      "outputs": []
    },
    {
      "cell_type": "code",
      "metadata": {
        "id": "GGg4QKiN1F0G",
        "colab_type": "code",
        "colab": {}
      },
      "source": [
        "MySerie= pd.Series(dFruits)\n",
        "MySerie"
      ],
      "execution_count": 0,
      "outputs": []
    },
    {
      "cell_type": "markdown",
      "metadata": {
        "id": "msPr64fe1Sxe",
        "colab_type": "text"
      },
      "source": [
        "Se quisermos acessar o valor para o índice 'Banana', basta fazer:"
      ]
    },
    {
      "cell_type": "code",
      "metadata": {
        "id": "9KBNUCrY1hgm",
        "colab_type": "code",
        "colab": {}
      },
      "source": [
        "MySerie['Banana']"
      ],
      "execution_count": 0,
      "outputs": []
    },
    {
      "cell_type": "markdown",
      "metadata": {
        "id": "ibmDVpbf1m0e",
        "colab_type": "text"
      },
      "source": [
        "**Atenção**: Nete exemplo, nossos itens são alfanuméricos, ou seja, o nome das frutas."
      ]
    },
    {
      "cell_type": "markdown",
      "metadata": {
        "id": "S830xmjB2AID",
        "colab_type": "text"
      },
      "source": [
        "## Recuperar valores do Pandas Series\n",
        "* SerieName[Index]."
      ]
    },
    {
      "cell_type": "markdown",
      "metadata": {
        "id": "mHwP4mnc2p2Y",
        "colab_type": "text"
      },
      "source": [
        "### Exemplo: Clima\n",
        "* Source: [Climatempo](https://www.climatempo.com.br/climatologia/558/saopaulo-sp)"
      ]
    },
    {
      "cell_type": "code",
      "metadata": {
        "id": "EsDzzsAk2uHy",
        "colab_type": "code",
        "colab": {}
      },
      "source": [
        "lMinima= [19, 19, 18, 16, 14, 12, 12, 13, 14, 15, 17, 18]\n",
        "lMaxima= [27, 28, 27, 25, 23, 22, 22, 23, 24, 25, 26, 26]\n",
        "lPrecipitacao= [237, 222, 161, 82, 78, 50, 48, 36, 85, 127, 137, 201]"
      ],
      "execution_count": 0,
      "outputs": []
    },
    {
      "cell_type": "markdown",
      "metadata": {
        "id": "TMy-vzC55UDS",
        "colab_type": "text"
      },
      "source": [
        "Nosso objetivo é organizar estas 3 séries num dataframe. Lembre-se de que um pd.DataFrame() é uma coleção de Pandas series?"
      ]
    },
    {
      "cell_type": "markdown",
      "metadata": {
        "id": "5y558mzp6yPY",
        "colab_type": "text"
      },
      "source": [
        "#### Usando Dictionaries"
      ]
    },
    {
      "cell_type": "code",
      "metadata": {
        "id": "OXZK3izZ62QC",
        "colab_type": "code",
        "colab": {}
      },
      "source": [
        "lMesesDoAno= ['Jan', 'Fev', 'Mar', 'Apr', 'Mai', 'Jun', 'Jul', 'Aug', 'Sep', 'Oct', 'Nov', 'Dec']"
      ],
      "execution_count": 0,
      "outputs": []
    },
    {
      "cell_type": "code",
      "metadata": {
        "id": "f96H6ZXK-32-",
        "colab_type": "code",
        "colab": {}
      },
      "source": [
        "lJan= [lMinima[0], lMaxima[0], lPrecipitacao[0]]\n",
        "lFev= [lMinima[1], lMaxima[1], lPrecipitacao[1]]\n",
        "lMar= [lMinima[2], lMaxima[2], lPrecipitacao[2]]\n",
        "lApr= [lMinima[3], lMaxima[3], lPrecipitacao[3]]\n",
        "lMai= [lMinima[4], lMaxima[4], lPrecipitacao[4]]\n",
        "lJun= [lMinima[5], lMaxima[5], lPrecipitacao[5]]\n",
        "lJul= [lMinima[6], lMaxima[6], lPrecipitacao[6]]\n",
        "lAug= [lMinima[7], lMaxima[7], lPrecipitacao[7]]\n",
        "lSep= [lMinima[8], lMaxima[8], lPrecipitacao[8]]\n",
        "lOct= [lMinima[9], lMaxima[9], lPrecipitacao[9]]\n",
        "lNov= [lMinima[10], lMaxima[10], lPrecipitacao[10]]\n",
        "lDec= [lMinima[11], lMaxima[11], lPrecipitacao[11]]\n",
        "\n",
        "lValores= [lJan, lFev, lMar, lApr, lMai, lJun, lJul, lAug, lSep, lOct, lNov, lDec]"
      ],
      "execution_count": 0,
      "outputs": []
    },
    {
      "cell_type": "code",
      "metadata": {
        "id": "9IqqIBct_n0t",
        "colab_type": "code",
        "colab": {}
      },
      "source": [
        "# Criar um objeto zip a partir das listas:\n",
        "lMedidas= zip(lMesesDoAno, lValores)"
      ],
      "execution_count": 0,
      "outputs": []
    },
    {
      "cell_type": "code",
      "metadata": {
        "id": "29FpZJgL6Q78",
        "colab_type": "code",
        "colab": {}
      },
      "source": [
        "# Criar um dicionário a partir do objeto zip:\n",
        "dMedidas = dict(lMedidas)\n",
        "dMedidas"
      ],
      "execution_count": 0,
      "outputs": []
    },
    {
      "cell_type": "markdown",
      "metadata": {
        "id": "jkTXpDWHAYa2",
        "colab_type": "text"
      },
      "source": [
        "#### Alternativa (código otimizado):"
      ]
    },
    {
      "cell_type": "code",
      "metadata": {
        "id": "wzpETV0dAgkY",
        "colab_type": "code",
        "colab": {}
      },
      "source": [
        "lValores= []\n",
        "for i in range(0,len(lMesesDoAno)):\n",
        "    lValores.append([lMinima[i], lMaxima[i], lPrecipitacao[i]])\n",
        "    \n",
        "lValores"
      ],
      "execution_count": 0,
      "outputs": []
    },
    {
      "cell_type": "code",
      "metadata": {
        "id": "BU9Z_24dA0su",
        "colab_type": "code",
        "colab": {}
      },
      "source": [
        "# Criar o objeto zip com as listas\n",
        "lMedidas= zip(lMesesDoAno, lValores)"
      ],
      "execution_count": 0,
      "outputs": []
    },
    {
      "cell_type": "code",
      "metadata": {
        "id": "mExaWqqnCVKa",
        "colab_type": "code",
        "colab": {}
      },
      "source": [
        "# Cria o dicionário a partir do objeto zip\n",
        "dMedidas = dict(lMedidas)\n",
        "dMedidas"
      ],
      "execution_count": 0,
      "outputs": []
    },
    {
      "cell_type": "markdown",
      "metadata": {
        "id": "o_cl0kFgQfFh",
        "colab_type": "text"
      },
      "source": [
        "# Exercícios"
      ]
    },
    {
      "cell_type": "markdown",
      "metadata": {
        "id": "4ZUU-r7YRocO",
        "colab_type": "text"
      },
      "source": [
        "## Exercício 1\n",
        "* Adicionar as informações a seguir ao dicionário Students.\n",
        "\n",
        "| Nome | Idade | Cidade | País |\n",
        "|------|-------|--------|------|\n",
        "| John | 36 | Las Vegas | EUA |\n",
        "| Jack | 27 | Bangalore | India |\n",
        "| Nicolas | 29 | Nice | France |"
      ]
    }
  ]
}