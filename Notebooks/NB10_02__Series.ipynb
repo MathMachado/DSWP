{
  "nbformat": 4,
  "nbformat_minor": 0,
  "metadata": {
    "colab": {
      "name": "Untitled0.ipynb",
      "provenance": [],
      "private_outputs": true,
      "toc_visible": true,
      "include_colab_link": true
    },
    "kernelspec": {
      "name": "python3",
      "display_name": "Python 3"
    }
  },
  "cells": [
    {
      "cell_type": "markdown",
      "metadata": {
        "id": "view-in-github",
        "colab_type": "text"
      },
      "source": [
        "<a href=\"https://colab.research.google.com/github/MathMachado/DSWP/blob/master/Notebooks/NB10_02__Series.ipynb\" target=\"_parent\"><img src=\"https://colab.research.google.com/assets/colab-badge.svg\" alt=\"Open In Colab\"/></a>"
      ]
    },
    {
      "cell_type": "markdown",
      "metadata": {
        "id": "_eradxaM1Rp8",
        "colab_type": "text"
      },
      "source": [
        "# Melhorias da sessão\n",
        "* Propor mais exercícios.\n"
      ]
    },
    {
      "cell_type": "markdown",
      "metadata": {
        "id": "pydkXvTyrvZy",
        "colab_type": "text"
      },
      "source": [
        "___\n",
        "# Agenda\n"
      ]
    },
    {
      "cell_type": "markdown",
      "metadata": {
        "id": "i1W8acNGn8nP",
        "colab_type": "text"
      },
      "source": [
        "___\n",
        "# **Series**\n",
        "\n",
        "* Series é um **array uni-dimensional** indexado capaz de armazenar dados de qualquer tipo (integer, string, float, python objects, etc.). The axis labels are collectively called index.\n",
        "* Series é essencialmente uma coluna (unidimensional). Veremos mais tarde que um pandas.DataFrame() é uma tabela multi-dimensional ou coleção de objetos do tipo Series.\n",
        "* Assim como as listas, usamos \"[]\" e acessamos os itens do objeto Series através dos índices."
      ]
    },
    {
      "cell_type": "markdown",
      "metadata": {
        "id": "M1y6HtrVyQTX",
        "colab_type": "text"
      },
      "source": [
        "___\n",
        "# **Criar Series a partir de lists**"
      ]
    },
    {
      "cell_type": "markdown",
      "metadata": {
        "id": "mKwobxIw1vvr",
        "colab_type": "text"
      },
      "source": [
        "### Exemplo\n",
        "* Geramos uma lista com números aleatória."
      ]
    },
    {
      "cell_type": "code",
      "metadata": {
        "id": "4-Q7rox9oXZn",
        "colab_type": "code",
        "colab": {}
      },
      "source": [
        "# Importar a biblioteca Pandas\n",
        "import pandas as pd\n",
        "\n",
        "# Importar a biblioteca para geração de números aleatórios\n",
        "import numpy as np"
      ],
      "execution_count": 0,
      "outputs": []
    },
    {
      "cell_type": "code",
      "metadata": {
        "id": "a9KQj67DpyNW",
        "colab_type": "code",
        "colab": {}
      },
      "source": [
        "# Define a seed\n",
        "np.random.seed(20111974)\n",
        "\n",
        "l_Numeros= []\n",
        "\n",
        "# Gerando números aleatórios inteiros entre 0 e 100:\n",
        "for _ in range(10):\n",
        "\tl_Numeros.append(np.random.randint(0,100)) "
      ],
      "execution_count": 0,
      "outputs": []
    },
    {
      "cell_type": "code",
      "metadata": {
        "id": "VL-SjmXSwql_",
        "colab_type": "code",
        "colab": {}
      },
      "source": [
        "print(l_Numeros)"
      ],
      "execution_count": 0,
      "outputs": []
    },
    {
      "cell_type": "code",
      "metadata": {
        "id": "u-8La2QExh9I",
        "colab_type": "code",
        "colab": {}
      },
      "source": [
        "type(l_Numeros)"
      ],
      "execution_count": 0,
      "outputs": []
    },
    {
      "cell_type": "markdown",
      "metadata": {
        "id": "Cb0s5FGNxF3u",
        "colab_type": "text"
      },
      "source": [
        "a função pandas.Series() transforma a lista l_Numeros num objeto series."
      ]
    },
    {
      "cell_type": "code",
      "metadata": {
        "id": "aMxls482xEvj",
        "colab_type": "code",
        "colab": {}
      },
      "source": [
        "MySerie= pd.Series(l_Numeros)\n",
        "print(MySerie)"
      ],
      "execution_count": 0,
      "outputs": []
    },
    {
      "cell_type": "code",
      "metadata": {
        "id": "_tma_reAxlLF",
        "colab_type": "code",
        "colab": {}
      },
      "source": [
        "type(MySerie)"
      ],
      "execution_count": 0,
      "outputs": []
    },
    {
      "cell_type": "markdown",
      "metadata": {
        "id": "FnCdHVZP1A3F",
        "colab_type": "text"
      },
      "source": [
        "Podemos acessar os itens do objeto Series usando os índices:"
      ]
    },
    {
      "cell_type": "code",
      "metadata": {
        "id": "bZXvJJkX05_T",
        "colab_type": "code",
        "colab": {}
      },
      "source": [
        "MySerie[0]"
      ],
      "execution_count": 0,
      "outputs": []
    },
    {
      "cell_type": "code",
      "metadata": {
        "id": "Yo0faQwxtal3",
        "colab_type": "code",
        "colab": {}
      },
      "source": [
        "MySerie[0:5]"
      ],
      "execution_count": 0,
      "outputs": []
    },
    {
      "cell_type": "code",
      "metadata": {
        "id": "x9Q8GWFote6N",
        "colab_type": "code",
        "colab": {}
      },
      "source": [
        "MySerie[0:20:3]"
      ],
      "execution_count": 0,
      "outputs": []
    },
    {
      "cell_type": "markdown",
      "metadata": {
        "id": "djdcf8NRy3SN",
        "colab_type": "text"
      },
      "source": [
        "___\n",
        "# **Criar Series usando numpy.array()**"
      ]
    },
    {
      "cell_type": "code",
      "metadata": {
        "id": "Ig40D-M9zLZ0",
        "colab_type": "code",
        "colab": {}
      },
      "source": [
        "# Importar Libraries\n",
        "import pandas as pd\n",
        "import numpy as np"
      ],
      "execution_count": 0,
      "outputs": []
    },
    {
      "cell_type": "code",
      "metadata": {
        "id": "QKhAj8eDzSyg",
        "colab_type": "code",
        "colab": {}
      },
      "source": [
        "l_Vogais= ['a', 'e', 'i', 'o', 'u']\n",
        "a_Vogais= np.array(l_Vogais)"
      ],
      "execution_count": 0,
      "outputs": []
    },
    {
      "cell_type": "code",
      "metadata": {
        "id": "KG7MQ6szzxb7",
        "colab_type": "code",
        "colab": {}
      },
      "source": [
        "type(l_Vogais)"
      ],
      "execution_count": 0,
      "outputs": []
    },
    {
      "cell_type": "code",
      "metadata": {
        "id": "y1UYRJfhz61j",
        "colab_type": "code",
        "colab": {}
      },
      "source": [
        "type(a_Vogais)"
      ],
      "execution_count": 0,
      "outputs": []
    },
    {
      "cell_type": "code",
      "metadata": {
        "id": "W8f6twYSz_RS",
        "colab_type": "code",
        "colab": {}
      },
      "source": [
        "MySerie= pd.Series(a_Vogais)\n",
        "print(MySerie)"
      ],
      "execution_count": 0,
      "outputs": []
    },
    {
      "cell_type": "code",
      "metadata": {
        "id": "O3oVLNg50PXt",
        "colab_type": "code",
        "colab": {}
      },
      "source": [
        "type(MySerie)"
      ],
      "execution_count": 0,
      "outputs": []
    },
    {
      "cell_type": "markdown",
      "metadata": {
        "id": "FZiDBEMW0i99",
        "colab_type": "text"
      },
      "source": [
        "___\n",
        "# **Criar Series usando Dictionaries**"
      ]
    },
    {
      "cell_type": "code",
      "metadata": {
        "id": "srV2yC8Q0xdt",
        "colab_type": "code",
        "colab": {}
      },
      "source": [
        "# Definir dicionário:\n",
        "d_Frutas= {'Avocado': 0.35, \n",
        "         'Apple': 0.40, \n",
        "         'Apricot': 0.25, \n",
        "         'Banana': 0.30, \n",
        "         'Blackcurrant': 0.70, \n",
        "         'Blackberry': 0.55, \n",
        "         'Blueberry': 0.45, \n",
        "         'Cherry': 0.50, \n",
        "         'Coconut': 0.75, \n",
        "         'Fig': 0.60, \n",
        "         'Grape': 0.65, \n",
        "         'Kiwi': 0.20, \n",
        "         'Lemon': 0.15, \n",
        "         'Mango': 0.80, \n",
        "         'Nectarine': 0.75, \n",
        "         'Orange': 0.25, \n",
        "         'Papaya': 0.30,\n",
        "         'Passion Fruit': 0.45,\n",
        "         'Peach': 0.55,\n",
        "         'Pineapple': 0.55,\n",
        "         'Plum': 0.60,\n",
        "         'Raspberry': 0.40,\n",
        "         'Strawberry': 0.50,\n",
        "         'Watermelon': 0.45}"
      ],
      "execution_count": 0,
      "outputs": []
    },
    {
      "cell_type": "code",
      "metadata": {
        "id": "GGg4QKiN1F0G",
        "colab_type": "code",
        "colab": {}
      },
      "source": [
        "MySerie= pd.Series(d_Frutas)\n",
        "MySerie"
      ],
      "execution_count": 0,
      "outputs": []
    },
    {
      "cell_type": "markdown",
      "metadata": {
        "id": "msPr64fe1Sxe",
        "colab_type": "text"
      },
      "source": [
        "Se quisermos acessar o valor para o índice 'Banana', basta fazer:"
      ]
    },
    {
      "cell_type": "code",
      "metadata": {
        "id": "9KBNUCrY1hgm",
        "colab_type": "code",
        "colab": {}
      },
      "source": [
        "MySerie['Banana']"
      ],
      "execution_count": 0,
      "outputs": []
    },
    {
      "cell_type": "markdown",
      "metadata": {
        "id": "ibmDVpbf1m0e",
        "colab_type": "text"
      },
      "source": [
        "**Atenção**: Nete exemplo, nossos itens são alfanuméricos, ou seja, o nome das frutas."
      ]
    },
    {
      "cell_type": "markdown",
      "metadata": {
        "id": "S830xmjB2AID",
        "colab_type": "text"
      },
      "source": [
        "___\n",
        "# **Recuperar valores de uma Series**\n",
        "* SerieName[Index]."
      ]
    },
    {
      "cell_type": "markdown",
      "metadata": {
        "id": "mHwP4mnc2p2Y",
        "colab_type": "text"
      },
      "source": [
        "### Exemplo: Clima\n",
        "* Source: [Climatempo](https://www.climatempo.com.br/climatologia/558/saopaulo-sp)"
      ]
    },
    {
      "cell_type": "code",
      "metadata": {
        "id": "EsDzzsAk2uHy",
        "colab_type": "code",
        "colab": {}
      },
      "source": [
        "l_Minima= [19, 19, 18, 16, 14, 12, 12, 13, 14, 15, 17, 18]\n",
        "l_Maxima= [27, 28, 27, 25, 23, 22, 22, 23, 24, 25, 26, 26]\n",
        "l_Precipitacao= [237, 222, 161, 82, 78, 50, 48, 36, 85, 127, 137, 201]"
      ],
      "execution_count": 0,
      "outputs": []
    },
    {
      "cell_type": "markdown",
      "metadata": {
        "id": "TMy-vzC55UDS",
        "colab_type": "text"
      },
      "source": [
        "Nosso objetivo é organizar estas 3 séries num dataframe. Lembre-se de que um pd.DataFrame() é uma coleção de Pandas series?"
      ]
    },
    {
      "cell_type": "markdown",
      "metadata": {
        "id": "5y558mzp6yPY",
        "colab_type": "text"
      },
      "source": [
        "## Usando Dictionaries"
      ]
    },
    {
      "cell_type": "code",
      "metadata": {
        "id": "OXZK3izZ62QC",
        "colab_type": "code",
        "colab": {}
      },
      "source": [
        "l_MesesDoAno= ['Jan', 'Fev', 'Mar', 'Apr', 'Mai', 'Jun', 'Jul', 'Aug', 'Sep', 'Oct', 'Nov', 'Dec']"
      ],
      "execution_count": 0,
      "outputs": []
    },
    {
      "cell_type": "code",
      "metadata": {
        "id": "f96H6ZXK-32-",
        "colab_type": "code",
        "colab": {}
      },
      "source": [
        "l_Jan= [l_Minima[0], l_Maxima[0], l_Precipitacao[0]]\n",
        "lFev= [l_Minima[1], l_Maxima[1], l_Precipitacao[1]]\n",
        "lMar= [l_Minima[2], l_Maxima[2], l_Precipitacao[2]]\n",
        "lApr= [l_Minima[3], l_Maxima[3], l_Precipitacao[3]]\n",
        "lMai= [l_Minima[4], l_Maxima[4], l_Precipitacao[4]]\n",
        "lJun= [l_Minima[5], l_Maxima[5], l_Precipitacao[5]]\n",
        "lJul= [l_Minima[6], l_Maxima[6], l_Precipitacao[6]]\n",
        "lAug= [l_Minima[7], l_Maxima[7], l_Precipitacao[7]]\n",
        "lSep= [l_Minima[8], l_Maxima[8], l_Precipitacao[8]]\n",
        "lOct= [l_Minima[9], l_Maxima[9], l_Precipitacao[9]]\n",
        "lNov= [l_Minima[10], l_Maxima[10], l_Precipitacao[10]]\n",
        "lDec= [l_Minima[11], l_Maxima[11], l_Precipitacao[11]]\n",
        "\n",
        "l_Valores= [l_Jan, l_Fev, l_Mar, l_Apr, l_Mai, l_Jun, l_Jul, l_Aug, l_Sep, l_Oct, l_Nov, l_Dec]"
      ],
      "execution_count": 0,
      "outputs": []
    },
    {
      "cell_type": "code",
      "metadata": {
        "id": "9IqqIBct_n0t",
        "colab_type": "code",
        "colab": {}
      },
      "source": [
        "# Criar um objeto zip a partir das listas:\n",
        "l_Medidas= zip(l_MesesDoAno, l_Valores)"
      ],
      "execution_count": 0,
      "outputs": []
    },
    {
      "cell_type": "code",
      "metadata": {
        "id": "29FpZJgL6Q78",
        "colab_type": "code",
        "colab": {}
      },
      "source": [
        "# Criar um dicionário a partir do objeto zip:\n",
        "d_Medidas = dict(l_Medidas)\n",
        "d_Medidas"
      ],
      "execution_count": 0,
      "outputs": []
    },
    {
      "cell_type": "markdown",
      "metadata": {
        "id": "jkTXpDWHAYa2",
        "colab_type": "text"
      },
      "source": [
        "## Alternativa (código otimizado):"
      ]
    },
    {
      "cell_type": "code",
      "metadata": {
        "id": "wzpETV0dAgkY",
        "colab_type": "code",
        "colab": {}
      },
      "source": [
        "l_Valores= []\n",
        "for i in range(0,len(l_MesesDoAno)):\n",
        "    l_Valores.append([l_Minima[i], l_Maxima[i], l_Precipitacao[i]])\n",
        "    \n",
        "l_Valores"
      ],
      "execution_count": 0,
      "outputs": []
    },
    {
      "cell_type": "code",
      "metadata": {
        "id": "BU9Z_24dA0su",
        "colab_type": "code",
        "colab": {}
      },
      "source": [
        "# Criar o objeto zip com as listas\n",
        "l_Medidas= zip(l_MesesDoAno, l_Valores)"
      ],
      "execution_count": 0,
      "outputs": []
    },
    {
      "cell_type": "code",
      "metadata": {
        "id": "mExaWqqnCVKa",
        "colab_type": "code",
        "colab": {}
      },
      "source": [
        "# Cria o dicionário a partir do objeto zip\n",
        "d_Medidas = dict(l_Medidas)\n",
        "d_Medidas"
      ],
      "execution_count": 0,
      "outputs": []
    },
    {
      "cell_type": "markdown",
      "metadata": {
        "id": "o_cl0kFgQfFh",
        "colab_type": "text"
      },
      "source": [
        "___\n",
        "# **Exercícios**"
      ]
    },
    {
      "cell_type": "markdown",
      "metadata": {
        "id": "4ZUU-r7YRocO",
        "colab_type": "text"
      },
      "source": [
        "## Exercício 1\n",
        "* Adicionar as informações a seguir ao dicionário Students.\n",
        "\n",
        "| Nome | Idade | Cidade | País |\n",
        "|------|-------|--------|------|\n",
        "| John | 36 | Las Vegas | EUA |\n",
        "| Jack | 27 | Bangalore | India |\n",
        "| Nicolas | 29 | Nice | France |"
      ]
    }
  ]
}