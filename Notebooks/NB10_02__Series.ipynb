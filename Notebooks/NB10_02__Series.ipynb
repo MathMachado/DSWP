{
  "nbformat": 4,
  "nbformat_minor": 0,
  "metadata": {
    "colab": {
      "name": "NB10_02__Series.ipynb",
      "provenance": [],
      "private_outputs": true,
      "include_colab_link": true
    },
    "kernelspec": {
      "name": "python3",
      "display_name": "Python 3"
    }
  },
  "cells": [
    {
      "cell_type": "markdown",
      "metadata": {
        "id": "view-in-github",
        "colab_type": "text"
      },
      "source": [
        "<a href=\"https://colab.research.google.com/github/MathMachado/DSWP/blob/master/Notebooks/NB10_02__Series.ipynb\" target=\"_parent\"><img src=\"https://colab.research.google.com/assets/colab-badge.svg\" alt=\"Open In Colab\"/></a>"
      ]
    },
    {
      "cell_type": "markdown",
      "metadata": {
        "id": "mQNIJf99wg4P"
      },
      "source": [
        "<center><h1><b><i>SERIES</i></b></h1></center>"
      ]
    },
    {
      "cell_type": "markdown",
      "metadata": {
        "id": "-uu1HxDOo6KD"
      },
      "source": [
        "# **AGENDA**:\n",
        "\n",
        "> Consulte a 'Table of contents' para saber mais sobre a agenda deste notebook.\n",
        "\n"
      ]
    },
    {
      "cell_type": "markdown",
      "metadata": {
        "id": "i1W8acNGn8nP"
      },
      "source": [
        "___\n",
        "# **Series**\n",
        "\n",
        "* Series é um **array uni-dimensional** indexado capaz de armazenar dados de qualquer tipo (integer, string, float, python objects, etc.). The axis labels are collectively called index.\n",
        "* Series é essencialmente uma coluna (unidimensional). Veremos mais tarde que um pandas.DataFrame() é uma tabela multi-dimensional ou coleção de objetos do tipo Series.\n",
        "* Assim como as listas, usamos \"[]\" e acessamos os itens do objeto Series através dos índices."
      ]
    },
    {
      "cell_type": "markdown",
      "metadata": {
        "id": "M1y6HtrVyQTX"
      },
      "source": [
        "___\n",
        "# **Criar Series a partir de lists**"
      ]
    },
    {
      "cell_type": "markdown",
      "metadata": {
        "id": "mKwobxIw1vvr"
      },
      "source": [
        "### Exemplo\n",
        "* Geramos uma lista com números aleatória."
      ]
    },
    {
      "cell_type": "code",
      "metadata": {
        "id": "4-Q7rox9oXZn"
      },
      "source": [
        "# Importar a biblioteca Pandas\n",
        "import pandas as pd\n",
        "\n",
        "# Importar a biblioteca para geração de números aleatórios\n",
        "import numpy as np"
      ],
      "execution_count": null,
      "outputs": []
    },
    {
      "cell_type": "code",
      "metadata": {
        "id": "a9KQj67DpyNW"
      },
      "source": [
        "# Define a seed\n",
        "np.random.seed(20111974)\n",
        "\n",
        "n_numeros= []\n",
        "\n",
        "# Gerando números aleatórios inteiros entre 0 e 100:\n",
        "for _ in range(10):\n",
        "\tn_numeros.append(np.random.randint(0,100)) "
      ],
      "execution_count": null,
      "outputs": []
    },
    {
      "cell_type": "code",
      "metadata": {
        "id": "VL-SjmXSwql_"
      },
      "source": [
        "print(n_numeros)"
      ],
      "execution_count": null,
      "outputs": []
    },
    {
      "cell_type": "code",
      "metadata": {
        "id": "u-8La2QExh9I"
      },
      "source": [
        "type(n_numeros)"
      ],
      "execution_count": null,
      "outputs": []
    },
    {
      "cell_type": "markdown",
      "metadata": {
        "id": "Cb0s5FGNxF3u"
      },
      "source": [
        "a função pandas.Series() transforma a lista n_numeros num objeto series."
      ]
    },
    {
      "cell_type": "code",
      "metadata": {
        "id": "aMxls482xEvj"
      },
      "source": [
        "serie = pd.Series(n_numeros)\n",
        "print(serie)"
      ],
      "execution_count": null,
      "outputs": []
    },
    {
      "cell_type": "code",
      "metadata": {
        "id": "_tma_reAxlLF"
      },
      "source": [
        "type(serie)"
      ],
      "execution_count": null,
      "outputs": []
    },
    {
      "cell_type": "markdown",
      "metadata": {
        "id": "FnCdHVZP1A3F"
      },
      "source": [
        "Podemos acessar os itens do objeto Series usando os índices:"
      ]
    },
    {
      "cell_type": "code",
      "metadata": {
        "id": "bZXvJJkX05_T"
      },
      "source": [
        "serie[0]"
      ],
      "execution_count": null,
      "outputs": []
    },
    {
      "cell_type": "code",
      "metadata": {
        "id": "Yo0faQwxtal3"
      },
      "source": [
        "serie[0:5]"
      ],
      "execution_count": null,
      "outputs": []
    },
    {
      "cell_type": "code",
      "metadata": {
        "id": "x9Q8GWFote6N"
      },
      "source": [
        "serie[0:20:3]"
      ],
      "execution_count": null,
      "outputs": []
    },
    {
      "cell_type": "markdown",
      "metadata": {
        "id": "djdcf8NRy3SN"
      },
      "source": [
        "___\n",
        "# **Criar Series usando numpy.array()**"
      ]
    },
    {
      "cell_type": "code",
      "metadata": {
        "id": "Ig40D-M9zLZ0"
      },
      "source": [
        "# Importar Libraries\n",
        "import pandas as pd\n",
        "import numpy as np"
      ],
      "execution_count": null,
      "outputs": []
    },
    {
      "cell_type": "code",
      "metadata": {
        "id": "QKhAj8eDzSyg"
      },
      "source": [
        "l_Vogais= ['a', 'e', 'i', 'o', 'u']\n",
        "a_Vogais= np.array(l_Vogais)"
      ],
      "execution_count": null,
      "outputs": []
    },
    {
      "cell_type": "code",
      "metadata": {
        "id": "KG7MQ6szzxb7"
      },
      "source": [
        "type(l_Vogais)"
      ],
      "execution_count": null,
      "outputs": []
    },
    {
      "cell_type": "code",
      "metadata": {
        "id": "y1UYRJfhz61j"
      },
      "source": [
        "type(a_Vogais)"
      ],
      "execution_count": null,
      "outputs": []
    },
    {
      "cell_type": "code",
      "metadata": {
        "id": "W8f6twYSz_RS"
      },
      "source": [
        "serie= pd.Series(a_Vogais)\n",
        "print(serie)"
      ],
      "execution_count": null,
      "outputs": []
    },
    {
      "cell_type": "code",
      "metadata": {
        "id": "O3oVLNg50PXt"
      },
      "source": [
        "type(serie)"
      ],
      "execution_count": null,
      "outputs": []
    },
    {
      "cell_type": "markdown",
      "metadata": {
        "id": "FZiDBEMW0i99"
      },
      "source": [
        "___\n",
        "# **Criar Series usando Dictionaries**"
      ]
    },
    {
      "cell_type": "code",
      "metadata": {
        "id": "srV2yC8Q0xdt"
      },
      "source": [
        "# Definir dicionário:\n",
        "d_frutas= {'Avocado': 0.35, \n",
        "         'Apple': 0.40, \n",
        "         'Apricot': 0.25, \n",
        "         'Banana': 0.30, \n",
        "         'Blackcurrant': 0.70, \n",
        "         'Blackberry': 0.55, \n",
        "         'Blueberry': 0.45, \n",
        "         'Cherry': 0.50, \n",
        "         'Coconut': 0.75, \n",
        "         'Fig': 0.60, \n",
        "         'Grape': 0.65, \n",
        "         'Kiwi': 0.20, \n",
        "         'Lemon': 0.15, \n",
        "         'Mango': 0.80, \n",
        "         'Nectarine': 0.75, \n",
        "         'Orange': 0.25, \n",
        "         'Papaya': 0.30,\n",
        "         'Passion Fruit': 0.45,\n",
        "         'Peach': 0.55,\n",
        "         'Pineapple': 0.55,\n",
        "         'Plum': 0.60,\n",
        "         'Raspberry': 0.40,\n",
        "         'Strawberry': 0.50,\n",
        "         'Watermelon': 0.45}"
      ],
      "execution_count": null,
      "outputs": []
    },
    {
      "cell_type": "code",
      "metadata": {
        "id": "GGg4QKiN1F0G"
      },
      "source": [
        "serie = pd.Series(d_frutas)\n",
        "serie"
      ],
      "execution_count": null,
      "outputs": []
    },
    {
      "cell_type": "markdown",
      "metadata": {
        "id": "msPr64fe1Sxe"
      },
      "source": [
        "Se quisermos acessar o valor para o índice 'Banana', basta fazer:"
      ]
    },
    {
      "cell_type": "code",
      "metadata": {
        "id": "9KBNUCrY1hgm"
      },
      "source": [
        "serie['Banana']"
      ],
      "execution_count": null,
      "outputs": []
    },
    {
      "cell_type": "markdown",
      "metadata": {
        "id": "ibmDVpbf1m0e"
      },
      "source": [
        "**Atenção**: Nete exemplo, nossos itens são alfanuméricos, ou seja, o nome das frutas."
      ]
    },
    {
      "cell_type": "markdown",
      "metadata": {
        "id": "S830xmjB2AID"
      },
      "source": [
        "___\n",
        "# **Recuperar valores de uma Series**\n",
        "* nome_serie[Index]."
      ]
    },
    {
      "cell_type": "markdown",
      "metadata": {
        "id": "mHwP4mnc2p2Y"
      },
      "source": [
        "### Exemplo: Clima\n",
        "* Source: [Climatempo](https://www.climatempo.com.br/climatologia/558/saopaulo-sp)"
      ]
    },
    {
      "cell_type": "code",
      "metadata": {
        "id": "EsDzzsAk2uHy"
      },
      "source": [
        "l_minima= [19, 19, 18, 16, 14, 12, 12, 13, 14, 15, 17, 18]\n",
        "l_maxima= [27, 28, 27, 25, 23, 22, 22, 23, 24, 25, 26, 26]\n",
        "l_precipitacao= [237, 222, 161, 82, 78, 50, 48, 36, 85, 127, 137, 201]"
      ],
      "execution_count": null,
      "outputs": []
    },
    {
      "cell_type": "markdown",
      "metadata": {
        "id": "TMy-vzC55UDS"
      },
      "source": [
        "Nosso objetivo é organizar estas 3 séries num dataframe. Lembre-se de que um pd.DataFrame() é uma coleção de Pandas series?"
      ]
    },
    {
      "cell_type": "markdown",
      "metadata": {
        "id": "5y558mzp6yPY"
      },
      "source": [
        "## Usando Dictionaries"
      ]
    },
    {
      "cell_type": "code",
      "metadata": {
        "id": "OXZK3izZ62QC"
      },
      "source": [
        "l_meses_do_ano= ['Jan', 'Fev', 'Mar', 'Apr', 'Mai', 'Jun', 'Jul', 'Aug', 'Sep', 'Oct', 'Nov', 'Dec']"
      ],
      "execution_count": null,
      "outputs": []
    },
    {
      "cell_type": "code",
      "metadata": {
        "id": "f96H6ZXK-32-"
      },
      "source": [
        "l_janeiro = [l_minima[0], l_maxima[0], l_precipitacao[0]]\n",
        "l_fevereiro = [l_minima[1], l_maxima[1], l_precipitacao[1]]\n",
        "l_marco = [l_minima[2], l_maxima[2], l_precipitacao[2]]\n",
        "l_abril= [l_minima[3], l_maxima[3], l_precipitacao[3]]\n",
        "l_maio = [l_minima[4], l_maxima[4], l_precipitacao[4]]\n",
        "l_junho = [l_minima[5], l_maxima[5], l_precipitacao[5]]\n",
        "l_julho = [l_minima[6], l_maxima[6], l_precipitacao[6]]\n",
        "l_agosto = [l_minima[7], l_maxima[7], l_precipitacao[7]]\n",
        "l_setembro = [l_minima[8], l_maxima[8], l_precipitacao[8]]\n",
        "l_outubro = [l_minima[9], l_maxima[9], l_precipitacao[9]]\n",
        "l_novembro = [l_minima[10], l_maxima[10], l_precipitacao[10]]\n",
        "l_dezembro = [l_minima[11], l_maxima[11], l_precipitacao[11]]\n",
        "\n",
        "l_valores = [l_janeiro, l_fevereiro, l_marco, l_abril, l_maio, l_junho, l_julho, l_agosto, l_setembro, l_outubro, l_novembro, l_dezembro]"
      ],
      "execution_count": null,
      "outputs": []
    },
    {
      "cell_type": "code",
      "metadata": {
        "id": "9IqqIBct_n0t"
      },
      "source": [
        "# Criar um objeto zip a partir das listas:\n",
        "l_medidas = zip(l_meses_do_ano, l_valores)"
      ],
      "execution_count": null,
      "outputs": []
    },
    {
      "cell_type": "code",
      "metadata": {
        "id": "29FpZJgL6Q78"
      },
      "source": [
        "# Criar um dicionário a partir do objeto zip:\n",
        "d_medidas = dict(l_medidas)\n",
        "d_medidas"
      ],
      "execution_count": null,
      "outputs": []
    },
    {
      "cell_type": "markdown",
      "metadata": {
        "id": "jkTXpDWHAYa2"
      },
      "source": [
        "## Alternativa (código otimizado):"
      ]
    },
    {
      "cell_type": "code",
      "metadata": {
        "id": "wzpETV0dAgkY"
      },
      "source": [
        "l_valores= []\n",
        "for i in range(0,len(l_meses_do_ano)):\n",
        "    l_valores.append([l_minima[i], l_maxima[i], l_precipitacao[i]])\n",
        "    \n",
        "l_valores"
      ],
      "execution_count": null,
      "outputs": []
    },
    {
      "cell_type": "code",
      "metadata": {
        "id": "BU9Z_24dA0su"
      },
      "source": [
        "# Criar o objeto zip com as listas\n",
        "l_medidas = zip(l_meses_do_ano, l_valores)"
      ],
      "execution_count": null,
      "outputs": []
    },
    {
      "cell_type": "code",
      "metadata": {
        "id": "mExaWqqnCVKa"
      },
      "source": [
        "# Cria o dicionário a partir do objeto zip\n",
        "d_medidas = dict(l_medidas)\n",
        "d_medidas"
      ],
      "execution_count": null,
      "outputs": []
    },
    {
      "cell_type": "markdown",
      "metadata": {
        "id": "o_cl0kFgQfFh"
      },
      "source": [
        "___\n",
        "# **EXERCÍCIOS**"
      ]
    },
    {
      "cell_type": "markdown",
      "metadata": {
        "id": "4ZUU-r7YRocO"
      },
      "source": [
        "## Exercício 1\n",
        "* Adicionar as informações a seguir ao dicionário Students.\n",
        "\n",
        "| Nome | Idade | Cidade | País |\n",
        "|------|-------|--------|------|\n",
        "| John | 36 | Las Vegas | EUA |\n",
        "| Jack | 27 | Bangalore | India |\n",
        "| Nicolas | 29 | Nice | France |"
      ]
    }
  ]
}