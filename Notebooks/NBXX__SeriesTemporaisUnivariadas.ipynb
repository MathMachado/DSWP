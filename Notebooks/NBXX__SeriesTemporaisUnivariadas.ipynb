{
  "nbformat": 4,
  "nbformat_minor": 0,
  "metadata": {
    "colab": {
      "name": "NBXX__SeriesTemporaisUnivariadas.ipynb",
      "private_outputs": true,
      "provenance": [],
      "authorship_tag": "ABX9TyN9g0sMFFRD4cGSPNx2ieDe",
      "include_colab_link": true
    },
    "kernelspec": {
      "name": "python3",
      "display_name": "Python 3"
    }
  },
  "cells": [
    {
      "cell_type": "markdown",
      "metadata": {
        "id": "view-in-github",
        "colab_type": "text"
      },
      "source": [
        "<a href=\"https://colab.research.google.com/github/MathMachado/DSWP/blob/master/Notebooks/NBXX__SeriesTemporaisUnivariadas.ipynb\" target=\"_parent\"><img src=\"https://colab.research.google.com/assets/colab-badge.svg\" alt=\"Open In Colab\"/></a>"
      ]
    },
    {
      "cell_type": "markdown",
      "metadata": {
        "id": "StSKtGa8iO6A"
      },
      "source": [
        "## Referências\r\n",
        "* [Time Series Forecasting With Prophet in Python](https://machinelearningmastery.com/time-series-forecasting-with-prophet-in-python/);\r\n",
        "* [Time Series in Driverless AI](http://docs.h2o.ai/driverless-ai/latest-stable/docs/userguide/time-series.html) --> Pegar um exemplo daqui!!!"
      ]
    },
    {
      "cell_type": "markdown",
      "metadata": {
        "id": "dWlBNZrTCbDm"
      },
      "source": [
        "## Relato do uso de AutoML nas competições do Kaggle\r\n",
        "https://ai.googleblog.com/2020/12/using-automl-for-time-series-forecasting.html?m=1"
      ]
    },
    {
      "cell_type": "markdown",
      "metadata": {
        "id": "1f4u0WkpNmV8"
      },
      "source": [
        "## Outras alternativas\r\n",
        "* H2O - http://docs.h2o.ai/driverless-ai/latest-stable/docs/userguide/time-series.html\r\n",
        "* auto_ts"
      ]
    },
    {
      "cell_type": "markdown",
      "metadata": {
        "id": "RD1Xvi0qN0AZ"
      },
      "source": [
        "## Prophet\r\n",
        "* Prophet ou \"Facebook Prophet\" é uma library desenvolvida pelo Facebook para lidar com séries temporais univariadas (1 única variável).\r\n",
        "* Suporte para:\r\n",
        "    * Tendência;\r\n",
        "    * Sazonalidade;\r\n",
        "    * Periodicidade;\r\n",
        "    * Estacionariedade;"
      ]
    },
    {
      "cell_type": "markdown",
      "metadata": {
        "id": "lRzb8w9QOaS_"
      },
      "source": [
        "## Instalar a library Prophet"
      ]
    },
    {
      "cell_type": "code",
      "metadata": {
        "id": "kIKW02oNOde2"
      },
      "source": [
        "!pip install fbprophet"
      ],
      "execution_count": null,
      "outputs": []
    },
    {
      "cell_type": "markdown",
      "metadata": {
        "id": "dmstku-PO0tN"
      },
      "source": [
        "## Carregar a library Prophet"
      ]
    },
    {
      "cell_type": "code",
      "metadata": {
        "id": "1paVbgUxOlWB"
      },
      "source": [
        "import fbprophet\r\n",
        "print(f'versão da library FBProphet: {fbprophet.__version__}')"
      ],
      "execution_count": null,
      "outputs": []
    },
    {
      "cell_type": "markdown",
      "metadata": {
        "id": "FREF386RPCa3"
      },
      "source": [
        "## Carregar as libraries necessárias"
      ]
    },
    {
      "cell_type": "code",
      "metadata": {
        "id": "2EVjjn9SPEph"
      },
      "source": [
        "import pandas as pd\r\n",
        "import numpy as np\r\n",
        "from matplotlib import pyplot as plt\r\n",
        "import seaborn as sns\r\n",
        "%matplotlib inline"
      ],
      "execution_count": null,
      "outputs": []
    },
    {
      "cell_type": "markdown",
      "metadata": {
        "id": "AKxn14E7zxw_"
      },
      "source": [
        "## Exemplo 1"
      ]
    },
    {
      "cell_type": "markdown",
      "metadata": {
        "id": "cYS-WR7FOU6E"
      },
      "source": [
        "### Carregar os dados para análise de Séries Temporais"
      ]
    },
    {
      "cell_type": "code",
      "metadata": {
        "id": "VCoPGOMIO6YS"
      },
      "source": [
        "path = 'https://raw.githubusercontent.com/jbrownlee/Datasets/master/monthly-car-sales.csv'\r\n",
        "df = pd.read_csv(path, heade = 0)\r\n",
        "df.head()"
      ],
      "execution_count": null,
      "outputs": []
    },
    {
      "cell_type": "code",
      "metadata": {
        "id": "r7bGJDLYPn4L"
      },
      "source": [
        "print(df.shape)"
      ],
      "execution_count": null,
      "outputs": []
    },
    {
      "cell_type": "markdown",
      "metadata": {
        "id": "5yUasiySP7p0"
      },
      "source": [
        "### Gráfico da série temporal"
      ]
    },
    {
      "cell_type": "code",
      "metadata": {
        "id": "lCpkXZFcJ5H8"
      },
      "source": [
        "df.plot()\r\n",
        "plt.show()"
      ],
      "execution_count": null,
      "outputs": []
    },
    {
      "cell_type": "markdown",
      "metadata": {
        "id": "1j_Fnv4nQTks"
      },
      "source": [
        "### Características da série temporal\r\n",
        "* Percebe-se claramente que a série temporal apresenta **tendência** e **sazonalidade**.\r\n",
        "\r\n",
        "* Como podemos ver a **tendência** e a **sazonalidade**?"
      ]
    },
    {
      "cell_type": "markdown",
      "metadata": {
        "id": "ZmDAfoW9Q2HU"
      },
      "source": [
        "### Como usar a library Prophet\r\n",
        "* Os dados (o dataframe) precisam estar num formato definido:\r\n",
        "    * A 1ª coluna do dataframe tem que ter o nome **ds** e possuir as datas/tempos da série temporal;\r\n",
        "    * A 2 coluna do dataframe tem que ter o nome **y** e deve conter as observações da série temporal.\r\n",
        "\r\n",
        "> Portanto, precisamos aplicar algumas transformações ao nosso dataframe para obedecer estes requisitos."
      ]
    },
    {
      "cell_type": "code",
      "metadata": {
        "id": "3Gp5m8g1Ryz0"
      },
      "source": [
        "df.dtypes"
      ],
      "execution_count": null,
      "outputs": []
    },
    {
      "cell_type": "markdown",
      "metadata": {
        "id": "92JKz2tbR2XW"
      },
      "source": [
        "As transformações a serem feitas são:\r\n",
        "* A coluna **Month** será renomeada para **ds** (para atender os requisitos da library Prophe) e, na sequência, a transformaremos para o tipo datetime, pois ela originalmente é do tipo object;\r\n",
        "* A coluna **Sales** será renomeada para **y**."
      ]
    },
    {
      "cell_type": "code",
      "metadata": {
        "id": "iPOEL4PhQeUj"
      },
      "source": [
        "df.columns = ['ds', 'y']\r\n",
        "df['ds'] = pd.to_datetime(df['ds']) # Transformando ds para datetime."
      ],
      "execution_count": null,
      "outputs": []
    },
    {
      "cell_type": "code",
      "metadata": {
        "id": "9gxTqUI2SSWT"
      },
      "source": [
        "df.head()"
      ],
      "execution_count": null,
      "outputs": []
    },
    {
      "cell_type": "code",
      "metadata": {
        "id": "dXHSCgjLBdzx"
      },
      "source": [
        "df.dtypes"
      ],
      "execution_count": null,
      "outputs": []
    },
    {
      "cell_type": "markdown",
      "metadata": {
        "id": "SVBRPoc4SeuU"
      },
      "source": [
        "### Definição do modelo para a série temporal"
      ]
    },
    {
      "cell_type": "code",
      "metadata": {
        "id": "73vxgzhTSMp7"
      },
      "source": [
        "from fbprophet import Prophet\r\n",
        "st_ml = Prophet() # instanciamento do objeto"
      ],
      "execution_count": null,
      "outputs": []
    },
    {
      "cell_type": "markdown",
      "metadata": {
        "id": "mFW9kZIFS0Ei"
      },
      "source": [
        "#### Ajuste do modelo de série temporal"
      ]
    },
    {
      "cell_type": "code",
      "metadata": {
        "id": "Wfo9MludBsQG"
      },
      "source": [
        "df.head()"
      ],
      "execution_count": null,
      "outputs": []
    },
    {
      "cell_type": "code",
      "metadata": {
        "id": "a1QqB55USt8I"
      },
      "source": [
        "st_ml.fit(df)"
      ],
      "execution_count": null,
      "outputs": []
    },
    {
      "cell_type": "markdown",
      "metadata": {
        "id": "2Fhnad_-TFV5"
      },
      "source": [
        "### Validação do modelo de série temporal"
      ]
    },
    {
      "cell_type": "code",
      "metadata": {
        "id": "wLhBMUjmB69V"
      },
      "source": [
        "df.tail()"
      ],
      "execution_count": null,
      "outputs": []
    },
    {
      "cell_type": "code",
      "metadata": {
        "id": "0c_PR4xTTLX1"
      },
      "source": [
        "# define the period for which we want a prediction\r\n",
        "future = list()\r\n",
        "for i in range(1, 13):\r\n",
        "\tdate = '1968-%02d' % i\r\n",
        "\tfuture.append([date])\r\n",
        "future = pd.DataFrame(future)\r\n",
        "future.columns = ['ds']\r\n",
        "future['ds']= pd.to_datetime(future['ds'])"
      ],
      "execution_count": null,
      "outputs": []
    },
    {
      "cell_type": "code",
      "metadata": {
        "id": "3GwTFwNkTW9F"
      },
      "source": [
        "# use the model to make a forecast\r\n",
        "forecast = st_ml.predict(future)\r\n",
        "#forecast\r\n",
        "print(forecast[['ds', 'yhat', 'yhat_lower', 'yhat_upper']].head())"
      ],
      "execution_count": null,
      "outputs": []
    },
    {
      "cell_type": "code",
      "metadata": {
        "id": "uRMr_UbNUEM-"
      },
      "source": [
        "st_ml.plot(forecast)\r\n",
        "plt.show()"
      ],
      "execution_count": null,
      "outputs": []
    },
    {
      "cell_type": "markdown",
      "metadata": {
        "id": "Nk1waXMKfHhL"
      },
      "source": [
        "### Forecast com a série temporal modelada"
      ]
    },
    {
      "cell_type": "code",
      "metadata": {
        "id": "YyRaoFvKg3bl"
      },
      "source": [
        "# define the period for which we want a prediction\r\n",
        "future = list()\r\n",
        "for i in range(1, 13):\r\n",
        "\tdate = '1969-%02d' % i\r\n",
        "\tfuture.append([date])\r\n",
        "future = pd.DataFrame(future)\r\n",
        "future.columns = ['ds']\r\n",
        "future['ds']= pd.to_datetime(future['ds'])"
      ],
      "execution_count": null,
      "outputs": []
    },
    {
      "cell_type": "code",
      "metadata": {
        "id": "xdeguNmlfhta"
      },
      "source": [
        "forecast2 = st_ml.predict(future)\r\n",
        "print(forecast2[['ds', 'yhat', 'yhat_lower', 'yhat_upper']].head())"
      ],
      "execution_count": null,
      "outputs": []
    },
    {
      "cell_type": "code",
      "metadata": {
        "id": "LivztW5Xfu6V"
      },
      "source": [
        "# plot forecast\r\n",
        "st_ml.plot(forecast2)\r\n",
        "plt.show()"
      ],
      "execution_count": null,
      "outputs": []
    },
    {
      "cell_type": "markdown",
      "metadata": {
        "id": "nY_EX2z3hNaL"
      },
      "source": [
        "### Validação com MAE"
      ]
    },
    {
      "cell_type": "code",
      "metadata": {
        "id": "i5UqeOS-hPQ6"
      },
      "source": [
        "# calculate MAE between expected and predicted values for december\r\n",
        "from sklearn.metrics import mean_absolute_error\r\n",
        "from sklearn.metrics import mean_squared_error\r\n",
        "y_true = df['y'][-12:].values\r\n",
        "y_pred = forecast['yhat'].values\r\n",
        "mae = mean_absolute_error(y_true, y_pred)\r\n",
        "mse = mean_squared_error(y_true, y_pred)\r\n",
        "print('MAE: %.3f' % mae)\r\n",
        "print('MSE: %.3f' % mse)"
      ],
      "execution_count": null,
      "outputs": []
    },
    {
      "cell_type": "code",
      "metadata": {
        "id": "kTK78ht3hXqU"
      },
      "source": [
        "# plot expected vs actual\r\n",
        "plt.plot(y_true, label='Actual')\r\n",
        "plt.plot(y_pred, label='Predicted')\r\n",
        "plt.legend()\r\n",
        "plt.show()"
      ],
      "execution_count": null,
      "outputs": []
    },
    {
      "cell_type": "markdown",
      "metadata": {
        "id": "KCagEiOQhGzy"
      },
      "source": [
        "## Exemplo 2"
      ]
    },
    {
      "cell_type": "code",
      "metadata": {
        "id": "o-BqX0RX1QcU"
      },
      "source": [
        "url = 'https://raw.githubusercontent.com/MathMachado/DataFrames/master/multiTimeline.csv'\r\n",
        "df = pd.read_csv(url)\r\n",
        "df.head()"
      ],
      "execution_count": null,
      "outputs": []
    },
    {
      "cell_type": "markdown",
      "metadata": {
        "id": "sdQ99We01wvT"
      },
      "source": [
        "#### Renomear o nome das colunas\r\n",
        "* A coluna"
      ]
    },
    {
      "cell_type": "code",
      "metadata": {
        "id": "tSor7bVW1hUh"
      },
      "source": [
        "df.columns = ['ds', 'diet', 'gym', 'finance']\r\n",
        "df.head()"
      ],
      "execution_count": null,
      "outputs": []
    },
    {
      "cell_type": "markdown",
      "metadata": {
        "id": "2uHpUPG41zRN"
      },
      "source": [
        "#### Transformar a coluna **ds** para o tipo datetime e que apontá-la como sendo o índice da série temporal"
      ]
    },
    {
      "cell_type": "code",
      "metadata": {
        "id": "aZzWggTd1WQa"
      },
      "source": [
        "df.ds = pd.to_datetime(df.ds) # transforma ds num objeto do tipo datetime.\r\n",
        "df.set_index('ds', inplace = True)\r\n",
        "df.head()"
      ],
      "execution_count": null,
      "outputs": []
    },
    {
      "cell_type": "markdown",
      "metadata": {
        "id": "u9qG2hCG2GWe"
      },
      "source": [
        "### Gráficos - EDA (Análise Exploratória de Dados)\r\n",
        "* na figura abaixo, o gráfico das três séries temporais juntas no mesmo gráfico."
      ]
    },
    {
      "cell_type": "code",
      "metadata": {
        "id": "tzbe5nG7_yXe"
      },
      "source": [
        "df.plot(figsize = (20, 10), linewidth = 5, fontsize = 20)\r\n",
        "plt.xlabel('Year', fontsize = 20);"
      ],
      "execution_count": null,
      "outputs": []
    },
    {
      "cell_type": "markdown",
      "metadata": {
        "id": "2i3jEy-hAD7D"
      },
      "source": [
        "* A seguir, o gráfico somente da série temporal **diet**.\r\n",
        "    * Quais os padrões (patterns) que vocês conseguem identificar nesse gráfico?\r\n",
        "        * Padrões presentes na série temporal: tendência (trends) e componentes sazonais."
      ]
    },
    {
      "cell_type": "code",
      "metadata": {
        "id": "yKxPitRVAIJU"
      },
      "source": [
        "df[['diet']].plot(figsize = (20, 10), linewidth = 5, fontsize = 20)\r\n",
        "plt.xlabel('Year', fontsize = 20)"
      ],
      "execution_count": null,
      "outputs": []
    },
    {
      "cell_type": "markdown",
      "metadata": {
        "id": "BOa142HPAr9L"
      },
      "source": [
        "### Análise da Tendência\r\n",
        "* Há várias formas para se avaliar tendência nas séries temporais. Talvez a maneira mais popular seja fazer médias móveis.\r\n",
        "    * Médias Móveis significa que, para cada ponto no tempo, você tira a média dos pontos de cada lado dele (o número de pontos é especificado por um tamanho de janela, que você precisa escolher)."
      ]
    },
    {
      "cell_type": "markdown",
      "metadata": {
        "id": "-slLAplbDwdJ"
      },
      "source": [
        "A seguir, função para nos ajudar com o DataViz:"
      ]
    },
    {
      "cell_type": "code",
      "metadata": {
        "id": "9giNiuyGLIBp"
      },
      "source": [
        "def grafico_ts(df, coluna):\r\n",
        "    df2 = df[[coluna]]\r\n",
        "    \r\n",
        "    df3 = pd.concat([df2.rolling(24).mean(), \r\n",
        "                     df2.rolling(18).mean(), \r\n",
        "                     df2.rolling(12).mean(), \r\n",
        "                     df2.rolling(6).mean(), \r\n",
        "                     df2.rolling(3).mean()\r\n",
        "                     ], axis=1)\r\n",
        "\r\n",
        "    df3.plot(figsize = (20, 10), linewidth = 5, fontsize = 20)\r\n",
        "    plt.xlabel('Year', fontsize = 20)"
      ],
      "execution_count": null,
      "outputs": []
    },
    {
      "cell_type": "markdown",
      "metadata": {
        "id": "z3a0RfItBQ7Q"
      },
      "source": [
        "A seguir, o gráfico de médias para a série temporal **diet**:"
      ]
    },
    {
      "cell_type": "code",
      "metadata": {
        "id": "y8Vh5x7FDpcl"
      },
      "source": [
        "grafico_ts(df, 'diet')"
      ],
      "execution_count": null,
      "outputs": []
    },
    {
      "cell_type": "markdown",
      "metadata": {
        "id": "yTpD7PeQBbCz"
      },
      "source": [
        "A seguir, o gráfico de médias móveis para a série temporal **gym**:"
      ]
    },
    {
      "cell_type": "code",
      "metadata": {
        "id": "fh3TlFunD50j"
      },
      "source": [
        "grafico_ts(df, 'gym')"
      ],
      "execution_count": null,
      "outputs": []
    },
    {
      "cell_type": "markdown",
      "metadata": {
        "id": "gE5qPa2nEK8g"
      },
      "source": [
        "A seguir, função para nos ajudar com o DataViz nos casos em que as séries temporais são distintas:"
      ]
    },
    {
      "cell_type": "code",
      "metadata": {
        "id": "0aaiDQ9KEGIG"
      },
      "source": [
        "def grafico_ts_distintas(df, coluna1, coluna2, mm):\r\n",
        "    df1 = df[[coluna1]]\r\n",
        "    df2 = df[[coluna2]]\r\n",
        "\r\n",
        "    df3 = pd.concat([df1.rolling(mm).mean(), \r\n",
        "                     df2.rolling(mm).mean()\r\n",
        "                     ], axis=1)\r\n",
        "\r\n",
        "    df3.plot(figsize = (20, 10), linewidth = 5, fontsize = 20)\r\n",
        "    plt.xlabel('Year', fontsize = 20)"
      ],
      "execution_count": null,
      "outputs": []
    },
    {
      "cell_type": "markdown",
      "metadata": {
        "id": "fWKqFCq1Fjl3"
      },
      "source": [
        "A seguir, o gráfico conjunto das séries temporais **diet** e **gym**:"
      ]
    },
    {
      "cell_type": "code",
      "metadata": {
        "id": "bJim-KlGN5BX"
      },
      "source": [
        "df.head()"
      ],
      "execution_count": null,
      "outputs": []
    },
    {
      "cell_type": "code",
      "metadata": {
        "id": "a-OpBzu5BbC1"
      },
      "source": [
        "grafico_ts_distintas(df, 'diet', 'gym', 6)"
      ],
      "execution_count": null,
      "outputs": []
    },
    {
      "cell_type": "code",
      "metadata": {
        "id": "OFL39RvZFyap"
      },
      "source": [
        "grafico_ts_distintas(df, 'diet', 'gym', 6)"
      ],
      "execution_count": null,
      "outputs": []
    },
    {
      "cell_type": "markdown",
      "metadata": {
        "id": "ZefaWaHwF568"
      },
      "source": [
        "### Padrões/Componentes sazonais\r\n",
        "* Podemos remover a tendência de uma série temporal para investigar a sazonalidade;\r\n",
        "* Para remover a tendência, você pode subtrair a tendência calculada acima (média móvel) do sinal original. Isso, no entanto, dependerá de quantos pontos de dados você calculou.\r\n",
        "* Outra maneira de remover a tendência é chamada de **diferenciação**."
      ]
    },
    {
      "cell_type": "markdown",
      "metadata": {
        "id": "9qPbjSmOGNvi"
      },
      "source": [
        "#### Diferenciação de 1ª Ordem"
      ]
    },
    {
      "cell_type": "code",
      "metadata": {
        "id": "w9aG3c8JGXLb"
      },
      "source": [
        "df_diet = df[['diet']].copy()\r\n",
        "df_diet_diff = df[['diet']].copy()\r\n",
        "\r\n",
        "df4 = pd.concat([df_diet, df_diet_diff.diff()], axis = 1)\r\n",
        "\r\n",
        "df4.plot(figsize = (20, 10), linewidth = 5, fontsize = 20)\r\n",
        "plt.xlabel('Year', fontsize = 20)"
      ],
      "execution_count": null,
      "outputs": []
    },
    {
      "cell_type": "markdown",
      "metadata": {
        "id": "g16v-Z2DHZgc"
      },
      "source": [
        "**Comentários:** Observe que foi removida grande parte da tendência da série temporal original (em azul). Desta forma, podemos observar claramente os picos em janeiro de cada ano. \r\n",
        "* Caso a tendência ainda não tenha sido removida, podemos usar a diferenciação de 2ª ordem. Entretanto, na prática, as diferenciações de 1ª e 2ª ordem são suficientes para remover a tendência das séries temporais.\r\n",
        "* **Séries temporais estacionárias**: O operador **diferença** é muito útil para transformar a série temporal original em uma série temporal **estacionária**.\r\n",
        "    * **Séries temporias estacionárias possuem propriedades estatísticas como média e variância que NÃO VARIAM COM O TEMPO**. \r\n",
        "    * **As séries temporais estacionárias são úteis porque muitos métodos de previsão de séries temporais são baseados na suposição de que a série temporal é aproximadamente estacionária**."
      ]
    },
    {
      "cell_type": "markdown",
      "metadata": {
        "id": "eGNUa6YTIkFg"
      },
      "source": [
        "### Periodicidade e autocorrelação\r\n",
        "* Uma série temporal é periódica se ela se repetir em intervalos igualmente espaçados, digamos, a cada 12 meses. \r\n",
        "* Outra maneira de se observar a periodicidade é avaliar os picos em épocas específicas da série. Por exemplo, no Natal podemos observar picos de vendas.\r\n",
        "* Outra forma é avaliar a autocorrelação serial. Ou seja, avaliar a correlação da série temporal com ela mesma no passado."
      ]
    },
    {
      "cell_type": "markdown",
      "metadata": {
        "id": "6M7-027yJHO5"
      },
      "source": [
        "#### Correlação\r\n",
        "* O coeficiente de correlação de duas variáveis captura o quão linearmente relacionadas estão as duas variáveis"
      ]
    },
    {
      "cell_type": "code",
      "metadata": {
        "id": "MzUkL2qaJXGF"
      },
      "source": [
        "from sklearn import datasets\r\n",
        "iris = datasets.load_iris()\r\n",
        "df_iris = pd.DataFrame(data= np.c_[iris['data'], iris['target']],\r\n",
        "                     columns= iris['feature_names'] + ['target'])\r\n",
        "df_iris.head()"
      ],
      "execution_count": null,
      "outputs": []
    },
    {
      "cell_type": "code",
      "metadata": {
        "id": "wK8hSYmPBzJC"
      },
      "source": [
        "sns.lmplot(x='sepal length (cm)', y='sepal width (cm)', fit_reg=False, data=df_iris);"
      ],
      "execution_count": null,
      "outputs": []
    },
    {
      "cell_type": "code",
      "metadata": {
        "id": "5c72qys0Jd9u"
      },
      "source": [
        "sns.lmplot(x='sepal length (cm)', y='sepal width (cm)', fit_reg=False, data=df_iris, hue='target');"
      ],
      "execution_count": null,
      "outputs": []
    },
    {
      "cell_type": "markdown",
      "metadata": {
        "id": "a7uFkSOCJpXa"
      },
      "source": [
        "**Pergunta**: **sepal length** e **width** estão positiva ou negativamente correlacionados?\r\n",
        "\r\n",
        "* Vamos calcular o coeficiente de correlação:"
      ]
    },
    {
      "cell_type": "code",
      "metadata": {
        "id": "3HWbGMr-J_Nh"
      },
      "source": [
        "df_iris.corr()"
      ],
      "execution_count": null,
      "outputs": []
    },
    {
      "cell_type": "markdown",
      "metadata": {
        "id": "xqu9HUPoKH3s"
      },
      "source": [
        "Observe que 'sepal length (cm)' e 'sepal width (cm)' parecem estar negativamente correlacionados!"
      ]
    },
    {
      "cell_type": "markdown",
      "metadata": {
        "id": "vtRu_z4uKaEt"
      },
      "source": [
        "### Análise de Correlação de Séries Temporais"
      ]
    },
    {
      "cell_type": "code",
      "metadata": {
        "id": "cgfZa_EmKYGY"
      },
      "source": [
        "df.plot(figsize = (20, 10), linewidth = 5, fontsize = 20)\r\n",
        "plt.xlabel('Year', fontsize = 20);"
      ],
      "execution_count": null,
      "outputs": []
    },
    {
      "cell_type": "markdown",
      "metadata": {
        "id": "njSt4IHEKkaC"
      },
      "source": [
        "A seguir, o Coeficiente de Correlação entre as séries temporais:"
      ]
    },
    {
      "cell_type": "code",
      "metadata": {
        "id": "o-otK6VBKqad"
      },
      "source": [
        "df.corr()"
      ],
      "execution_count": null,
      "outputs": []
    },
    {
      "cell_type": "markdown",
      "metadata": {
        "id": "JkXyA5j4Kv6c"
      },
      "source": [
        "A seguir, o gráfico usando as diferenças de 1ª ordem dessas séries temporais (a remoção da tendência pode revelar correlação na sazonalidade):"
      ]
    },
    {
      "cell_type": "code",
      "metadata": {
        "id": "WIL2wTzRK23q"
      },
      "source": [
        "df.diff().plot(figsize = (20, 10), linewidth = 5, fontsize = 20)\r\n",
        "plt.xlabel('Year', fontsize = 20);"
      ],
      "execution_count": null,
      "outputs": []
    },
    {
      "cell_type": "markdown",
      "metadata": {
        "id": "0jMlUCisK9kI"
      },
      "source": [
        "A seguir, os Coeficientes de Correlação das diferenças de 1ª Ordem dessas séries temporais (a remoção da tendência pode revelar correlação na sazonalidade):"
      ]
    },
    {
      "cell_type": "code",
      "metadata": {
        "id": "3y65hEgzLD6m"
      },
      "source": [
        "df.diff().corr()"
      ],
      "execution_count": null,
      "outputs": []
    },
    {
      "cell_type": "markdown",
      "metadata": {
        "id": "f94jkNMZLITN"
      },
      "source": [
        "### Autocorrelação\r\n",
        "* Entendemos como funciona a correlação entre variáveis e séries temporais. Agora vamos entender e plotar os gráficos de autocorrelação da série temporal **dieta**.\r\n",
        "    * Se a série temporal original se repete a cada dois dias, você esperaria ver um pico na função de autocorrelação em 2 dias."
      ]
    },
    {
      "cell_type": "code",
      "metadata": {
        "id": "63tMVVswV56i"
      },
      "source": [
        "pd.plotting.autocorrelation_plot(diet)"
      ],
      "execution_count": null,
      "outputs": []
    },
    {
      "cell_type": "markdown",
      "metadata": {
        "id": "_Z4_obeJWkwU"
      },
      "source": [
        "## Modelos ARIMA (**A**uto**R**egressive **I**ntegrated **M**oving **A**verage Model)\r\n",
        "* Modelos estatísticos clássicos para analisar e prever dados de séries temporais;\r\n",
        "* Resumidamente, temos:\r\n",
        "    * AR: **Autorregressão** - Modelo que usa a relação dependente entre uma observação e algum número de observações defasadas;\r\n",
        "    * I: **Integrado** - Diz respeito às diferenciações necessárias para tornar a série temporal **estacionária**;\r\n",
        "    * MA: **Média móvel** - Modelo que usa a dependência entre uma observação e um erro residual de um modelo de média móvel aplicado a observações defasadas."
      ]
    },
    {
      "cell_type": "markdown",
      "metadata": {
        "id": "fz50iiM-Yf1j"
      },
      "source": [
        "Os parâmetros do modelo ARIMA são definidos da seguinte forma:\r\n",
        "\r\n",
        "* **p**: número de observações de defasagem incluídas no modelo;\r\n",
        "* **d**: número de diferenciações para tornar a série temporal estacionária;\r\n",
        "* **q**: O tamanho da janela da média móvel, também chamada de ordem da média móvel."
      ]
    },
    {
      "cell_type": "code",
      "metadata": {
        "id": "vOKVdL-nWmZ2"
      },
      "source": [
        "from statsmodels.tsa.ar_model import AR\r\n",
        "from statsmodels.tsa.arima_model import ARMA, ARIMA\r\n",
        "import itertools\r\n",
        "\r\n",
        "# ARCH, GARCH, TGARCH e etc\r\n",
        "# LSTM --> Redes Neurais"
      ],
      "execution_count": null,
      "outputs": []
    },
    {
      "cell_type": "code",
      "metadata": {
        "id": "FAslB259fbjn"
      },
      "source": [
        "df.head()"
      ],
      "execution_count": null,
      "outputs": []
    },
    {
      "cell_type": "code",
      "metadata": {
        "id": "oq5_scUEbvI4"
      },
      "source": [
        "# Grid Search\r\n",
        "p = d = q = range(0, 5) # p, d, e q podem ser 0, 1, 2, 3 ou 4\r\n",
        "pdq = list(itertools.product(p, d, q)) # Todas as combinações possiveis de p, d, and q"
      ],
      "execution_count": null,
      "outputs": []
    },
    {
      "cell_type": "code",
      "metadata": {
        "id": "y2ABAWs1ywHc"
      },
      "source": [
        "X_treinamento, X_teste = df.iloc[:162, :].copy(), df.iloc[162:, :]\r\n",
        "X_treinamento.shape, X_teste.shape"
      ],
      "execution_count": null,
      "outputs": []
    },
    {
      "cell_type": "code",
      "metadata": {
        "id": "CJxE5FzVzsn-"
      },
      "source": [
        "df.tail()"
      ],
      "execution_count": null,
      "outputs": []
    },
    {
      "cell_type": "markdown",
      "metadata": {
        "id": "lCtFomT3y6ve"
      },
      "source": [
        "### Modelo de Séries Temporais usando Prophet"
      ]
    },
    {
      "cell_type": "code",
      "metadata": {
        "id": "Hs9WMScY3wDU"
      },
      "source": [
        "X_treinamento = X_treinamento.drop(columns = ['gym', 'finance'], axis = 1)\r\n",
        "X_teste = X_teste.drop(columns = ['gym', 'finance'], axis = 1)"
      ],
      "execution_count": null,
      "outputs": []
    },
    {
      "cell_type": "code",
      "metadata": {
        "id": "pKSMTN5C6FUJ"
      },
      "source": [
        "X_treinamento = X_treinamento.rename({'diet': 'y'}, axis = 1)\r\n",
        "X_teste.rename({'diet': 'y'}, axis = 1)"
      ],
      "execution_count": null,
      "outputs": []
    },
    {
      "cell_type": "code",
      "metadata": {
        "id": "2QlJMTKlzN0D"
      },
      "source": [
        "ts = Prophet()"
      ],
      "execution_count": null,
      "outputs": []
    },
    {
      "cell_type": "code",
      "metadata": {
        "id": "ZLv5Pks93VMh"
      },
      "source": [
        "ts.fit(X_treinamento)"
      ],
      "execution_count": null,
      "outputs": []
    }
  ]
}