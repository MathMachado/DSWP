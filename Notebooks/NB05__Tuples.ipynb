{
  "nbformat": 4,
  "nbformat_minor": 0,
  "metadata": {
    "colab": {
      "name": "PythonLab.ipynb",
      "provenance": [],
      "collapsed_sections": [
        "n8BIbzQbNWUo",
        "7eS94uQ4NhVR",
        "SYOgJpGYVLUu",
        "CaHFxk98W5if",
        "ReWUyWiHXCnc",
        "CqszHxaKHr2h",
        "tXgF1Wl9gHKY",
        "Fotx7XUquAo8",
        "36kmLUYDvsUI",
        "SWO2GdNovxAp",
        "vpN54l4vxze5",
        "u4HOf9SNytSq",
        "6BQ9oZiD9hg5",
        "tz5-QdrX9vct",
        "p1muBgMX8NK4",
        "FxTC2-U88ajk",
        "z8EYn0pP25Rh"
      ],
      "toc_visible": true,
      "include_colab_link": true
    },
    "kernelspec": {
      "name": "python3",
      "display_name": "Python 3"
    },
    "accelerator": "GPU"
  },
  "cells": [
    {
      "cell_type": "markdown",
      "metadata": {
        "id": "view-in-github",
        "colab_type": "text"
      },
      "source": [
        "<a href=\"https://colab.research.google.com/github/MathMachado/DSWP/blob/master/Notebooks/NB05__Tuples.ipynb\" target=\"_parent\"><img src=\"https://colab.research.google.com/assets/colab-badge.svg\" alt=\"Open In Colab\"/></a>"
      ]
    },
    {
      "cell_type": "markdown",
      "metadata": {
        "id": "pLFA7GlRYrXi",
        "colab_type": "text"
      },
      "source": [
        "# Melhorias desta sessão\n"
      ]
    },
    {
      "cell_type": "markdown",
      "metadata": {
        "id": "_PdrVJKo9sNb",
        "colab_type": "text"
      },
      "source": [
        "# ***Python Tuples***\n",
        "\n",
        "* Tuples são uma coleção ordenada e imutável. Imutável significa que os itens não podem ser adicionados, removidos ou substituídos; \n",
        "* Tuples permite itens duplicados;\n",
        "\n",
        "* Os itens pertencentes às tuples estão envovidas por \"()\".\n",
        "\n",
        "* Qual a diferença entre tuples e listas?\n",
        "    * A principal diferença entre tuples e listas é que tuples são imutáveis.\n",
        "    \n",
        "* E qual a vantagem de se utilizar tuples?\n",
        "    * Se precisarmos de uma lista de itens que não podem ser alterados, então utilize tuples. Exemplo: dias da semana ou meses do ano."
      ]
    },
    {
      "cell_type": "markdown",
      "metadata": {
        "id": "co-8eezbJDhj",
        "colab_type": "text"
      },
      "source": [
        "![PythonDataStructures](https://github.com/MathMachado/Materials/blob/master/PythonDataStructures.png?raw=true)"
      ]
    },
    {
      "cell_type": "markdown",
      "metadata": {
        "id": "eK1ivPVrDynM",
        "colab_type": "text"
      },
      "source": [
        "## Exemplo 1"
      ]
    },
    {
      "cell_type": "code",
      "metadata": {
        "id": "k5cLE0vf__vS",
        "colab_type": "code",
        "outputId": "64c610fb-a5d0-4981-d60d-6507b8ff0471",
        "colab": {
          "base_uri": "https://localhost:8080/",
          "height": 35
        }
      },
      "source": [
        "t_DiasDaSemana = ('Seg', 'Ter', 'Qua', 'Qui', 'Sex', 'Sab', 'Dom')"
      ],
      "execution_count": 0,
      "outputs": [
        {
          "output_type": "execute_result",
          "data": {
            "text/plain": [
              "('Seg', 'Ter', 'Qua', 'Qui', 'Sex', 'Sab', 'Dom')"
            ]
          },
          "metadata": {
            "tags": []
          },
          "execution_count": 1
        }
      ]
    },
    {
      "cell_type": "markdown",
      "metadata": {
        "id": "defsyAgfEudf",
        "colab_type": "text"
      },
      "source": [
        "Mostra a tupla:"
      ]
    },
    {
      "cell_type": "code",
      "metadata": {
        "id": "otJasSywEwHE",
        "colab_type": "code",
        "outputId": "8eae9ec5-ce77-4333-f496-96972fa84f20",
        "colab": {
          "base_uri": "https://localhost:8080/",
          "height": 35
        }
      },
      "source": [
        "t_DiasDaSemana"
      ],
      "execution_count": 0,
      "outputs": [
        {
          "output_type": "execute_result",
          "data": {
            "text/plain": [
              "('Seg', 'Ter', 'Qua', 'Qui', 'Sex', 'Sab', 'Dom')"
            ]
          },
          "metadata": {
            "tags": []
          },
          "execution_count": 3
        }
      ]
    },
    {
      "cell_type": "markdown",
      "metadata": {
        "id": "Ep8NqxPhEHSg",
        "colab_type": "text"
      },
      "source": [
        "* Qual o tamanho da tupla t_DiasDaSemana?"
      ]
    },
    {
      "cell_type": "code",
      "metadata": {
        "id": "cnGZnYkW__vW",
        "colab_type": "code",
        "outputId": "44ee2070-5729-4174-c41d-a09e1e26c404",
        "colab": {
          "base_uri": "https://localhost:8080/",
          "height": 35
        }
      },
      "source": [
        "len(t_DiasDaSemana)"
      ],
      "execution_count": 0,
      "outputs": [
        {
          "output_type": "execute_result",
          "data": {
            "text/plain": [
              "7"
            ]
          },
          "metadata": {
            "tags": []
          },
          "execution_count": 2
        }
      ]
    },
    {
      "cell_type": "markdown",
      "metadata": {
        "id": "acJurJ2gHgBm",
        "colab_type": "text"
      },
      "source": [
        "### Índices da tupla t_DiasDaSemana:"
      ]
    },
    {
      "cell_type": "markdown",
      "metadata": {
        "id": "iZSg_cGZGntA",
        "colab_type": "text"
      },
      "source": [
        "| Seg | Ter | Qua | Qui | Sex | Sab | Dom |\n",
        "|:----|:----|:----|:----|:----|:----|:----|\n",
        "| 0   | 1   | 2   | 3   | 4   | 5   | 6   |\n",
        "\n",
        "OU\n",
        "\n",
        "| Seg | Ter | Qua | Qui | Sex | Sab | Dom |\n",
        "|:----|:----|:----|:----|:----|:----|:----|\n",
        "| -7   | -6   | -5   | -4   | -3   | -2   | -1   |\n",
        "\n",
        "\n",
        "\n",
        "\n"
      ]
    },
    {
      "cell_type": "code",
      "metadata": {
        "id": "OgSW7cyyI0UQ",
        "colab_type": "code",
        "outputId": "18451ed7-8026-471c-a610-92051f4e829d",
        "colab": {
          "base_uri": "https://localhost:8080/",
          "height": 35
        }
      },
      "source": [
        "t_DiasDaSemana[0]"
      ],
      "execution_count": 0,
      "outputs": [
        {
          "output_type": "execute_result",
          "data": {
            "text/plain": [
              "'Seg'"
            ]
          },
          "metadata": {
            "tags": []
          },
          "execution_count": 12
        }
      ]
    },
    {
      "cell_type": "code",
      "metadata": {
        "id": "rgzKFtbcI4Ju",
        "colab_type": "code",
        "outputId": "f9a6d152-babc-40ce-8c8f-0f8b8bfb6994",
        "colab": {
          "base_uri": "https://localhost:8080/",
          "height": 35
        }
      },
      "source": [
        "t_DiasDaSemana[-7]"
      ],
      "execution_count": 0,
      "outputs": [
        {
          "output_type": "execute_result",
          "data": {
            "text/plain": [
              "'Seg'"
            ]
          },
          "metadata": {
            "tags": []
          },
          "execution_count": 13
        }
      ]
    },
    {
      "cell_type": "markdown",
      "metadata": {
        "id": "UrDSDMifERD6",
        "colab_type": "text"
      },
      "source": [
        "## Exemplo 2\n",
        "* A tupla pode ser 2-dimensões, assim como as listas."
      ]
    },
    {
      "cell_type": "code",
      "metadata": {
        "id": "wjru8E0H__vb",
        "colab_type": "code",
        "colab": {}
      },
      "source": [
        "t_DiasDaSemana2 = (('Seg', 1), ('Ter', 2), ('Qua', 3), ('Qui', 4), ('Sex', 5), ('Sab', 6), ('Dom', 7))"
      ],
      "execution_count": 0,
      "outputs": []
    },
    {
      "cell_type": "markdown",
      "metadata": {
        "id": "AmlYITKjEy-f",
        "colab_type": "text"
      },
      "source": [
        "Mostra a tupla:"
      ]
    },
    {
      "cell_type": "code",
      "metadata": {
        "id": "FQHX_-dqE0w8",
        "colab_type": "code",
        "outputId": "2dadbc6d-dd1d-4602-8db6-47cc8f68c41a",
        "colab": {
          "base_uri": "https://localhost:8080/",
          "height": 139
        }
      },
      "source": [
        "t_DiasDaSemana2"
      ],
      "execution_count": 0,
      "outputs": [
        {
          "output_type": "execute_result",
          "data": {
            "text/plain": [
              "(('Seg', 1),\n",
              " ('Ter', 2),\n",
              " ('Qua', 3),\n",
              " ('Qui', 4),\n",
              " ('Sex', 5),\n",
              " ('Sab', 6),\n",
              " ('Dom', 7))"
            ]
          },
          "metadata": {
            "tags": []
          },
          "execution_count": 5
        }
      ]
    },
    {
      "cell_type": "markdown",
      "metadata": {
        "id": "FXn43WkNE3WI",
        "colab_type": "text"
      },
      "source": [
        "Qual o tamanho da tupla t_DiasDaSemana?"
      ]
    },
    {
      "cell_type": "code",
      "metadata": {
        "id": "XyHIz22DE6-H",
        "colab_type": "code",
        "outputId": "a06b3448-297c-4038-c9d6-20cbedd056c6",
        "colab": {
          "base_uri": "https://localhost:8080/",
          "height": 35
        }
      },
      "source": [
        "len(t_DiasDaSemana2)"
      ],
      "execution_count": 0,
      "outputs": [
        {
          "output_type": "execute_result",
          "data": {
            "text/plain": [
              "7"
            ]
          },
          "metadata": {
            "tags": []
          },
          "execution_count": 6
        }
      ]
    },
    {
      "cell_type": "markdown",
      "metadata": {
        "id": "4GKfdPgcE-Yp",
        "colab_type": "text"
      },
      "source": [
        "Você esperava que a tupla t_DiasDaSemana2 tivesse mais itens?\n",
        "\n",
        "Se sim, basta ver, por exemplo, que ('Seg', 1) é um item da tupla. Desta forma, ('Ter', 2) é outro item da tupla e assim por diante."
      ]
    },
    {
      "cell_type": "markdown",
      "metadata": {
        "id": "xpVuVzDlHzkS",
        "colab_type": "text"
      },
      "source": [
        "### Índices da tupla t_DiasDaSemana2:"
      ]
    },
    {
      "cell_type": "markdown",
      "metadata": {
        "id": "jYTNBIXqH2gp",
        "colab_type": "text"
      },
      "source": [
        "| ('Seg', 1) | ('Ter', 2) | ('Qua', 3) | ('Qui', 4) | ('Sex', 5) | ('Sab', 6) | ('Dom', 7) |\n",
        "|:----|:----|:----|:----|:----|:----|:----|\n",
        "| 0   | 1   | 2   | 3   | 4   | 5   | 6   |"
      ]
    },
    {
      "cell_type": "markdown",
      "metadata": {
        "id": "Drc8q_QRFVri",
        "colab_type": "text"
      },
      "source": [
        "Qual o conteúdo da posição 0?"
      ]
    },
    {
      "cell_type": "code",
      "metadata": {
        "id": "Nub63NkcFayt",
        "colab_type": "code",
        "outputId": "ace9285f-1053-424c-c468-954248760f97",
        "colab": {
          "base_uri": "https://localhost:8080/",
          "height": 35
        }
      },
      "source": [
        "t_DiasDaSemana2[0]"
      ],
      "execution_count": 0,
      "outputs": [
        {
          "output_type": "execute_result",
          "data": {
            "text/plain": [
              "('Seg', 1)"
            ]
          },
          "metadata": {
            "tags": []
          },
          "execution_count": 8
        }
      ]
    },
    {
      "cell_type": "markdown",
      "metadata": {
        "id": "wLvjF26KFhAB",
        "colab_type": "text"
      },
      "source": [
        "Portanto, use o índice para acessar os itens. Lembre-se, entretanto, que os índices em Python começam em 0."
      ]
    },
    {
      "cell_type": "markdown",
      "metadata": {
        "id": "4WsBRODC__vn",
        "colab_type": "text"
      },
      "source": [
        "# Métodos básicos para tuplas"
      ]
    },
    {
      "cell_type": "markdown",
      "metadata": {
        "id": "cgpYmDbhF-wy",
        "colab_type": "text"
      },
      "source": [
        "## t_Tupla.index()"
      ]
    },
    {
      "cell_type": "markdown",
      "metadata": {
        "id": "NBFpLUpKJ0et",
        "colab_type": "text"
      },
      "source": [
        "O item 'Seg' da tupla t_DiasDaSemana está na posição:"
      ]
    },
    {
      "cell_type": "code",
      "metadata": {
        "id": "YiETF2NR__vn",
        "colab_type": "code",
        "outputId": "690b161c-ddaf-4718-b068-d84f16936d2a",
        "colab": {
          "base_uri": "https://localhost:8080/",
          "height": 35
        }
      },
      "source": [
        "t_DiasDaSemana.index('Seg')"
      ],
      "execution_count": 0,
      "outputs": [
        {
          "output_type": "execute_result",
          "data": {
            "text/plain": [
              "0"
            ]
          },
          "metadata": {
            "tags": []
          },
          "execution_count": 17
        }
      ]
    },
    {
      "cell_type": "markdown",
      "metadata": {
        "id": "xk48TX0ZJ6VM",
        "colab_type": "text"
      },
      "source": [
        "Da mesma forma, o item 'Dom' está na posição:"
      ]
    },
    {
      "cell_type": "code",
      "metadata": {
        "id": "TROs5CtUKDo3",
        "colab_type": "code",
        "outputId": "0a716c06-2afb-4166-9d6c-6396551f399c",
        "colab": {
          "base_uri": "https://localhost:8080/",
          "height": 35
        }
      },
      "source": [
        "t_DiasDaSemana.index('Dom')"
      ],
      "execution_count": 0,
      "outputs": [
        {
          "output_type": "execute_result",
          "data": {
            "text/plain": [
              "6"
            ]
          },
          "metadata": {
            "tags": []
          },
          "execution_count": 18
        }
      ]
    },
    {
      "cell_type": "markdown",
      "metadata": {
        "id": "6_sT6VEC__vx",
        "colab_type": "text"
      },
      "source": [
        "## Imutabilidade\n",
        "* Para demonstrar esta propriedade, vamos atribuir ao index 0 o item 'XPTO':"
      ]
    },
    {
      "cell_type": "code",
      "metadata": {
        "id": "z2t7mXkHKVyM",
        "colab_type": "code",
        "outputId": "d1ea3d8a-3b98-4b98-a326-c379ae61e4b1",
        "colab": {
          "base_uri": "https://localhost:8080/",
          "height": 166
        }
      },
      "source": [
        "t_DiasDaSemana[0]= 'XPTO'"
      ],
      "execution_count": 0,
      "outputs": [
        {
          "output_type": "error",
          "ename": "TypeError",
          "evalue": "ignored",
          "traceback": [
            "\u001b[0;31m---------------------------------------------------------------------------\u001b[0m",
            "\u001b[0;31mTypeError\u001b[0m                                 Traceback (most recent call last)",
            "\u001b[0;32m<ipython-input-19-7580464e2614>\u001b[0m in \u001b[0;36m<module>\u001b[0;34m()\u001b[0m\n\u001b[0;32m----> 1\u001b[0;31m \u001b[0mtDiasDaSemana\u001b[0m\u001b[0;34m[\u001b[0m\u001b[0;36m0\u001b[0m\u001b[0;34m]\u001b[0m\u001b[0;34m=\u001b[0m \u001b[0;34m'XPTO'\u001b[0m\u001b[0;34m\u001b[0m\u001b[0;34m\u001b[0m\u001b[0m\n\u001b[0m",
            "\u001b[0;31mTypeError\u001b[0m: 'tuple' object does not support item assignment"
          ]
        }
      ]
    },
    {
      "cell_type": "markdown",
      "metadata": {
        "id": "fsfkVUrkKbhl",
        "colab_type": "text"
      },
      "source": [
        "Erro! Estávamos a espera desse erro, pois, como dissemos, tuples são imutáveis!"
      ]
    },
    {
      "cell_type": "markdown",
      "metadata": {
        "id": "hsMfF2ew__v1",
        "colab_type": "text"
      },
      "source": [
        "Por causa da propriedade da Imutabilidade, tente acrescentar mais itens á tupla."
      ]
    },
    {
      "cell_type": "code",
      "metadata": {
        "id": "p5568lTK__v2",
        "colab_type": "code",
        "outputId": "f1cc2525-b119-49e2-f474-f3d7e9d3493b",
        "colab": {
          "base_uri": "https://localhost:8080/",
          "height": 166
        }
      },
      "source": [
        "t_DiasDaSemana.append('XPTO')"
      ],
      "execution_count": 0,
      "outputs": [
        {
          "output_type": "error",
          "ename": "AttributeError",
          "evalue": "ignored",
          "traceback": [
            "\u001b[0;31m---------------------------------------------------------------------------\u001b[0m",
            "\u001b[0;31mAttributeError\u001b[0m                            Traceback (most recent call last)",
            "\u001b[0;32m<ipython-input-20-a8acf1c7d57b>\u001b[0m in \u001b[0;36m<module>\u001b[0;34m()\u001b[0m\n\u001b[0;32m----> 1\u001b[0;31m \u001b[0mtDiasDaSemana\u001b[0m\u001b[0;34m.\u001b[0m\u001b[0mappend\u001b[0m\u001b[0;34m(\u001b[0m\u001b[0;34m'XPTO'\u001b[0m\u001b[0;34m)\u001b[0m\u001b[0;34m\u001b[0m\u001b[0;34m\u001b[0m\u001b[0m\n\u001b[0m",
            "\u001b[0;31mAttributeError\u001b[0m: 'tuple' object has no attribute 'append'"
          ]
        }
      ]
    },
    {
      "cell_type": "markdown",
      "metadata": {
        "id": "qGTHM6SMhCQr",
        "colab_type": "text"
      },
      "source": [
        "# **Exercícios**"
      ]
    },
    {
      "cell_type": "markdown",
      "metadata": {
        "id": "fWRzu5HIhE3w",
        "colab_type": "text"
      },
      "source": [
        "## Exercício 1\n",
        "* É possível sortear os itens de uma tupla? Explique sua resposta."
      ]
    },
    {
      "cell_type": "markdown",
      "metadata": {
        "id": "-lfXWurbvq30",
        "colab_type": "text"
      },
      "source": [
        "## Exercício 2\n",
        "Consulte a página [Python Data Types: Tuple - Exercises, Practice, Solution](https://www.w3resource.com/python-exercises/tuple/) para mais exercícios relacionados á tuples."
      ]
    },
    {
      "cell_type": "code",
      "metadata": {
        "id": "Rc2IxuhQv0z-",
        "colab_type": "code",
        "colab": {}
      },
      "source": [
        ""
      ],
      "execution_count": 0,
      "outputs": []
    }
  ]
}