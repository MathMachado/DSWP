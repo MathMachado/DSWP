{
  "nbformat": 4,
  "nbformat_minor": 0,
  "metadata": {
    "colab": {
      "name": "NB04__Strings.ipynb",
      "provenance": [],
      "collapsed_sections": [
        "n8BIbzQbNWUo",
        "7eS94uQ4NhVR",
        "SYOgJpGYVLUu",
        "CaHFxk98W5if",
        "ReWUyWiHXCnc",
        "CqszHxaKHr2h",
        "tXgF1Wl9gHKY",
        "Fotx7XUquAo8",
        "36kmLUYDvsUI",
        "SWO2GdNovxAp",
        "vpN54l4vxze5",
        "u4HOf9SNytSq",
        "6BQ9oZiD9hg5",
        "tz5-QdrX9vct",
        "p1muBgMX8NK4",
        "FxTC2-U88ajk",
        "z8EYn0pP25Rh"
      ],
      "include_colab_link": true
    },
    "kernelspec": {
      "name": "python3",
      "display_name": "Python 3"
    },
    "accelerator": "GPU"
  },
  "cells": [
    {
      "cell_type": "markdown",
      "metadata": {
        "id": "view-in-github",
        "colab_type": "text"
      },
      "source": [
        "<a href=\"https://colab.research.google.com/github/MathMachado/DSWP/blob/master/Notebooks/NB04__Dominando%20Strings%20no%20Python%3A%20Formata%C3%A7%C3%A3o%20e%20Manipula%C3%A7%C3%A3o.ipynb\" target=\"_parent\"><img src=\"https://colab.research.google.com/assets/colab-badge.svg\" alt=\"Open In Colab\"/></a>"
      ]
    },
    {
      "cell_type": "markdown",
      "metadata": {
        "id": "caaDTO_ym1Nf"
      },
      "source": [
        "<center><h1><b><i>Dominando Strings no Python: Formatação e Manipulação</i></b></h1></center>"
      ]
    },
    {
      "cell_type": "markdown",
      "metadata": {
        "id": "sjF60sU5RJrw"
      },
      "source": [
        "___\n",
        "# **AGENDA**:\n",
        "> Neste vídeo, você irá aprofundar seus conhecimentos sobre strings em Python, um dos tipos de dados mais fundamentais e versáteis na programação. Vamos explorar os seguintes tópicos:\n",
        "\n",
        "* Strings: Compreenda o que são strings, como declará-las e as particularidades desse tipo de dado em Python.\n",
        "\n",
        "* Formatar Strings: Aprenda diferentes métodos para formatar strings, incluindo:\n",
        "\n",
        "* Concatenação de strings usando o operador +.\n",
        "* Uso do operador % para inserção de valores.\n",
        "* O método .format() para formatação avançada.\n",
        "* F-strings (formatação literal de strings) para uma sintaxe mais elegante e eficiente.\n",
        "* Manipular Strings: Descubra como manipular strings utilizando funções e métodos incorporados, tais como:\n",
        "\n",
        "* Alterar o caso das letras com upper(), lower(), title(), etc.\n",
        "* Fatiamento (slicing) e indexação para acessar substrings específicas.\n",
        "* Substituir e remover caracteres ou sequências com replace(), strip(), lstrip(), rstrip().\n",
        "* Dividir e juntar strings com split() e join().\n",
        "* Encontrar substrings e verificar conteúdos com find(), startswith(), endswith().\n",
        "* Wrap Up: Faremos uma revisão dos principais conceitos aprendidos, reforçando as técnicas essenciais para trabalhar eficientemente com strings em Python.\n",
        "\n",
        "* Exercícios: Coloque em prática o que aprendeu com exercícios desafiadores que irão testar e consolidar suas habilidades em formatação e manipulação de strings.\n",
        "\n",
        "Este vídeo é ideal para iniciantes e programadores que desejam dominar o uso de strings em Python, aprimorando suas habilidades para projetos que envolvem manipulação de texto, processamento de dados e desenvolvimento de aplicações mais complexas."
      ]
    },
    {
      "cell_type": "markdown",
      "metadata": {
        "id": "pKC1CJJggtQC"
      },
      "source": [
        "___\n",
        "# **STRINGS**\n",
        "* Strings são sequência de caracteres entre aspas (duplas ou simples);\n",
        "* Variáveis strings são imutáveis. Isso quer dizer que o valor de uma variável string não pode ser modificada ao longo do código."
      ]
    },
    {
      "cell_type": "code",
      "metadata": {
        "id": "pEm76z8IxFHt"
      },
      "source": [
        "s_frase = 'Strings são imutaveis.'"
      ],
      "execution_count": 2,
      "outputs": []
    },
    {
      "cell_type": "code",
      "metadata": {
        "id": "duPYy_N6xO_4",
        "outputId": "f9d69674-5fcc-4c68-b312-63f0dbcc270f",
        "colab": {
          "base_uri": "https://localhost:8080/"
        }
      },
      "source": [
        "# Endereço de memória da string s_frase:\n",
        "id(s_frase)"
      ],
      "execution_count": 3,
      "outputs": [
        {
          "output_type": "execute_result",
          "data": {
            "text/plain": [
              "132144292513712"
            ]
          },
          "metadata": {},
          "execution_count": 3
        }
      ]
    },
    {
      "cell_type": "code",
      "metadata": {
        "id": "Um4nNkaJxoSH",
        "outputId": "c8e529aa-4afe-49f9-b00e-6a62f9dc6169",
        "colab": {
          "base_uri": "https://localhost:8080/",
          "height": 35
        }
      },
      "source": [
        "# Mostrando partes da string s_frase:\n",
        "s_frase[21]"
      ],
      "execution_count": 4,
      "outputs": [
        {
          "output_type": "execute_result",
          "data": {
            "text/plain": [
              "'.'"
            ],
            "application/vnd.google.colaboratory.intrinsic+json": {
              "type": "string"
            }
          },
          "metadata": {},
          "execution_count": 4
        }
      ]
    },
    {
      "cell_type": "markdown",
      "metadata": {
        "id": "9wOJBaWnyB8z"
      },
      "source": [
        "Vamos tentar alterar o conteúdo de s_frase[21] para \"!\"..."
      ]
    },
    {
      "cell_type": "code",
      "metadata": {
        "id": "jHXDVlACxr3O",
        "outputId": "6cbd2a0e-04c9-4966-ee41-ce5f6f6a24c4",
        "colab": {
          "base_uri": "https://localhost:8080/",
          "height": 144
        }
      },
      "source": [
        "s_frase[21] = '!'"
      ],
      "execution_count": 5,
      "outputs": [
        {
          "output_type": "error",
          "ename": "TypeError",
          "evalue": "'str' object does not support item assignment",
          "traceback": [
            "\u001b[0;31m---------------------------------------------------------------------------\u001b[0m",
            "\u001b[0;31mTypeError\u001b[0m                                 Traceback (most recent call last)",
            "\u001b[0;32m<ipython-input-5-f339582c7936>\u001b[0m in \u001b[0;36m<cell line: 1>\u001b[0;34m()\u001b[0m\n\u001b[0;32m----> 1\u001b[0;31m \u001b[0ms_frase\u001b[0m\u001b[0;34m[\u001b[0m\u001b[0;36m21\u001b[0m\u001b[0;34m]\u001b[0m \u001b[0;34m=\u001b[0m \u001b[0;34m'!'\u001b[0m\u001b[0;34m\u001b[0m\u001b[0;34m\u001b[0m\u001b[0m\n\u001b[0m",
            "\u001b[0;31mTypeError\u001b[0m: 'str' object does not support item assignment"
          ]
        }
      ]
    },
    {
      "cell_type": "markdown",
      "metadata": {
        "id": "nIa76RSCyN4x"
      },
      "source": [
        "Ou seja, não podemos alterar o valor de s_frase."
      ]
    },
    {
      "cell_type": "code",
      "metadata": {
        "id": "aXzrRV37x8om",
        "outputId": "a0d928d5-e483-4657-a830-89a8ffda7cc4",
        "colab": {
          "base_uri": "https://localhost:8080/",
          "height": 35
        }
      },
      "source": [
        "s_frase"
      ],
      "execution_count": 6,
      "outputs": [
        {
          "output_type": "execute_result",
          "data": {
            "text/plain": [
              "'Strings são imutaveis.'"
            ],
            "application/vnd.google.colaboratory.intrinsic+json": {
              "type": "string"
            }
          },
          "metadata": {},
          "execution_count": 6
        }
      ]
    },
    {
      "cell_type": "code",
      "metadata": {
        "id": "z7rsW-bvxSzY",
        "outputId": "0959ca4f-57d2-4a40-ceb3-c3d0e789aba0",
        "colab": {
          "base_uri": "https://localhost:8080/",
          "height": 35
        }
      },
      "source": [
        "# Mas se fizermos...\n",
        "s_frase = s_frase + ' Portanto, não podemos alterar o valor ao longo do programa.'\n",
        "s_frase"
      ],
      "execution_count": 7,
      "outputs": [
        {
          "output_type": "execute_result",
          "data": {
            "text/plain": [
              "'Strings são imutaveis. Portanto, não podemos alterar o valor ao longo do programa.'"
            ],
            "application/vnd.google.colaboratory.intrinsic+json": {
              "type": "string"
            }
          },
          "metadata": {},
          "execution_count": 7
        }
      ]
    },
    {
      "cell_type": "code",
      "metadata": {
        "id": "Tg0ilTyLxg9h",
        "outputId": "d0df169b-8e54-4013-c10b-7e3366c3c2b5",
        "colab": {
          "base_uri": "https://localhost:8080/"
        }
      },
      "source": [
        "# Endereço de memória da string s_frase:\n",
        "id(s_frase)"
      ],
      "execution_count": 8,
      "outputs": [
        {
          "output_type": "execute_result",
          "data": {
            "text/plain": [
              "132144268693136"
            ]
          },
          "metadata": {},
          "execution_count": 8
        }
      ]
    },
    {
      "cell_type": "markdown",
      "metadata": {
        "id": "81eenNJdydbz"
      },
      "source": [
        "Observe que agora temos outro endereço para a variável s_frase. Ou seja, esta é outra variável pois atribuimos s_frase = s_frase + '...'"
      ]
    },
    {
      "cell_type": "markdown",
      "metadata": {
        "id": "CqszHxaKHr2h"
      },
      "source": [
        "___\n",
        "# **FORMATAR STRINGS**\n",
        "* f-strings"
      ]
    },
    {
      "cell_type": "markdown",
      "metadata": {
        "id": "3DCs26n_ga62"
      },
      "source": [
        "Considere as variáveis a seguir:"
      ]
    },
    {
      "cell_type": "code",
      "metadata": {
        "id": "XSSN1lttbX39"
      },
      "source": [
        "s_nome = 'Nelio Machado'\n",
        "s_profissao = 'Cientista de Dados'\n",
        "i_idade = 44\n",
        "s_cidade = 'Lisboa'"
      ],
      "execution_count": 9,
      "outputs": []
    },
    {
      "cell_type": "code",
      "metadata": {
        "id": "xSHrkxPsckl4",
        "outputId": "6cdc5341-4ea0-46cb-ccd7-014a99d23001",
        "colab": {
          "base_uri": "https://localhost:8080/"
        }
      },
      "source": [
        "print(f'O Senhor {s_nome} é {s_profissao}, tem {i_idade} anos de idade e mora em {s_cidade}.')"
      ],
      "execution_count": 10,
      "outputs": [
        {
          "output_type": "stream",
          "name": "stdout",
          "text": [
            "O Senhor Nelio Machado é Cientista de Dados, tem 44 anos de idade e mora em Lisboa.\n"
          ]
        }
      ]
    },
    {
      "cell_type": "markdown",
      "metadata": {
        "id": "5IiolSZKr7qr"
      },
      "source": [
        "Qual o valor de resultado?"
      ]
    },
    {
      "cell_type": "code",
      "metadata": {
        "id": "Yelq-zVPHwZp"
      },
      "source": [
        "i_numero1 = 7\n",
        "i_numero2 = 3"
      ],
      "execution_count": 11,
      "outputs": []
    },
    {
      "cell_type": "code",
      "metadata": {
        "id": "k_EKv-nQsBEX"
      },
      "source": [
        "resultado = i_numero1 / i_numero2"
      ],
      "execution_count": 12,
      "outputs": []
    },
    {
      "cell_type": "code",
      "metadata": {
        "id": "NEFO8lQq67Fq",
        "outputId": "f6dbed20-5989-409f-8069-185f0b3af06a",
        "colab": {
          "base_uri": "https://localhost:8080/"
        }
      },
      "source": [
        "resultado"
      ],
      "execution_count": 13,
      "outputs": [
        {
          "output_type": "execute_result",
          "data": {
            "text/plain": [
              "2.3333333333333335"
            ]
          },
          "metadata": {},
          "execution_count": 13
        }
      ]
    },
    {
      "cell_type": "markdown",
      "metadata": {
        "id": "oHM1rNXOPQQ8"
      },
      "source": [
        "Mostrar o valor de resultado usando 6 casas decimais:"
      ]
    },
    {
      "cell_type": "code",
      "metadata": {
        "id": "Z7Z-qu6XXCwz",
        "outputId": "a02fe82d-b76e-4691-ae84-67aee8f8a250",
        "colab": {
          "base_uri": "https://localhost:8080/"
        }
      },
      "source": [
        "print(f'O valor de resultado é {resultado:{10}.{6}}')"
      ],
      "execution_count": 14,
      "outputs": [
        {
          "output_type": "stream",
          "name": "stdout",
          "text": [
            "O valor de resultado é    2.33333\n"
          ]
        }
      ]
    },
    {
      "cell_type": "markdown",
      "metadata": {
        "id": "0lRQ26dzekb0"
      },
      "source": [
        "Veja que interessante e intuitivo: nome_var:{parte_inteira}.{casas_decimais}. Veja novamente:"
      ]
    },
    {
      "cell_type": "code",
      "metadata": {
        "id": "YQ8TcN3tezZ1",
        "outputId": "ec491074-1368-4eb4-dc38-8b86c6f9c1ab",
        "colab": {
          "base_uri": "https://localhost:8080/"
        }
      },
      "source": [
        "print(f'O valor de resultado é {resultado:{10}.{2}}')"
      ],
      "execution_count": 15,
      "outputs": [
        {
          "output_type": "stream",
          "name": "stdout",
          "text": [
            "O valor de resultado é        2.3\n"
          ]
        }
      ]
    },
    {
      "cell_type": "markdown",
      "metadata": {
        "id": "cWAqmY3xqiig"
      },
      "source": [
        "Podemos aplicar funções às f-strings. Por exemplo:"
      ]
    },
    {
      "cell_type": "code",
      "metadata": {
        "id": "1c1xg2noqmyr"
      },
      "source": [
        "s_pais = 'Brasil'"
      ],
      "execution_count": 16,
      "outputs": []
    },
    {
      "cell_type": "code",
      "metadata": {
        "id": "mSn0hHQnq_6X",
        "outputId": "b264593f-3863-49e5-df7d-c380249031ae",
        "colab": {
          "base_uri": "https://localhost:8080/",
          "height": 35
        }
      },
      "source": [
        "# Sem aplicarmos a função upper():\n",
        "f'Eu nasci no {s_pais}'"
      ],
      "execution_count": 17,
      "outputs": [
        {
          "output_type": "execute_result",
          "data": {
            "text/plain": [
              "'Eu nasci no Brasil'"
            ],
            "application/vnd.google.colaboratory.intrinsic+json": {
              "type": "string"
            }
          },
          "metadata": {},
          "execution_count": 17
        }
      ]
    },
    {
      "cell_type": "code",
      "metadata": {
        "id": "w76dcLUkrHer",
        "outputId": "277e3a83-251b-4c1f-d5d0-68febcce1e61",
        "colab": {
          "base_uri": "https://localhost:8080/",
          "height": 35
        }
      },
      "source": [
        "# Aplicando a função upper():\n",
        "f'Eu nasci no {s_pais.upper()}'"
      ],
      "execution_count": 18,
      "outputs": [
        {
          "output_type": "execute_result",
          "data": {
            "text/plain": [
              "'Eu nasci no BRASIL'"
            ],
            "application/vnd.google.colaboratory.intrinsic+json": {
              "type": "string"
            }
          },
          "metadata": {},
          "execution_count": 18
        }
      ]
    },
    {
      "cell_type": "code",
      "source": [
        "# Aplicando a função lower():\n",
        "f'Eu nasci no {s_pais.lower()}'"
      ],
      "metadata": {
        "id": "O--CQDo6RotU",
        "outputId": "c20f19be-8b25-46ec-9a12-ff8b14ad0baf",
        "colab": {
          "base_uri": "https://localhost:8080/",
          "height": 35
        }
      },
      "execution_count": 19,
      "outputs": [
        {
          "output_type": "execute_result",
          "data": {
            "text/plain": [
              "'Eu nasci no brasil'"
            ],
            "application/vnd.google.colaboratory.intrinsic+json": {
              "type": "string"
            }
          },
          "metadata": {},
          "execution_count": 19
        }
      ]
    },
    {
      "cell_type": "markdown",
      "metadata": {
        "id": "2nMtUdre08dE"
      },
      "source": [
        "___\n",
        "# **MANIPULAR STRINGS**"
      ]
    },
    {
      "cell_type": "markdown",
      "metadata": {
        "id": "UqlDK-4Oorif"
      },
      "source": [
        "Suponha a string a seguir:\n",
        "\n",
        "Source: Read more at https://www.brainyquote.com/topics/beauty-quotes\""
      ]
    },
    {
      "cell_type": "code",
      "metadata": {
        "id": "noNBsutFoN9w"
      },
      "source": [
        "s_frase = \"Beauty has so many forms, and I think the most beautiful thing is confidence and loving yourself.\""
      ],
      "execution_count": 20,
      "outputs": []
    },
    {
      "cell_type": "markdown",
      "metadata": {
        "id": "numMjHgzpEfn"
      },
      "source": [
        "Verificando o tipo da variável s_frase:"
      ]
    },
    {
      "cell_type": "code",
      "metadata": {
        "id": "unGvjFaRpMpr",
        "outputId": "53d22f0a-1a18-4bb9-80fc-a24602f09951",
        "colab": {
          "base_uri": "https://localhost:8080/"
        }
      },
      "source": [
        "type(s_frase)"
      ],
      "execution_count": 21,
      "outputs": [
        {
          "output_type": "execute_result",
          "data": {
            "text/plain": [
              "str"
            ]
          },
          "metadata": {},
          "execution_count": 21
        }
      ]
    },
    {
      "cell_type": "markdown",
      "metadata": {
        "id": "dgDJhf30t6wR"
      },
      "source": [
        "Qual o tamanho da variável s_frase?"
      ]
    },
    {
      "cell_type": "code",
      "metadata": {
        "id": "YP9Jl3zQuF8B",
        "outputId": "e1049ba4-ca92-4def-91c5-cc2d209f9432",
        "colab": {
          "base_uri": "https://localhost:8080/"
        }
      },
      "source": [
        "len(s_frase)"
      ],
      "execution_count": 22,
      "outputs": [
        {
          "output_type": "execute_result",
          "data": {
            "text/plain": [
              "97"
            ]
          },
          "metadata": {},
          "execution_count": 22
        }
      ]
    },
    {
      "cell_type": "markdown",
      "metadata": {
        "id": "VtrNZcilx59p"
      },
      "source": [
        "O conteúdo da variável s_frase pode ser visto como um array. Portanto, podemos acessar cada caractere da frase da seguinte forma:"
      ]
    },
    {
      "cell_type": "code",
      "metadata": {
        "id": "KtshlZ5OptHy",
        "outputId": "9fa039cf-973f-44a2-c4c4-e1eab13307a0",
        "colab": {
          "base_uri": "https://localhost:8080/",
          "height": 35
        }
      },
      "source": [
        "s_frase[0]"
      ],
      "execution_count": 23,
      "outputs": [
        {
          "output_type": "execute_result",
          "data": {
            "text/plain": [
              "'B'"
            ],
            "application/vnd.google.colaboratory.intrinsic+json": {
              "type": "string"
            }
          },
          "metadata": {},
          "execution_count": 23
        }
      ]
    },
    {
      "cell_type": "code",
      "metadata": {
        "id": "G5XDmNMKtQMl",
        "outputId": "cef304ab-9550-4b2f-fb25-89ee337f91b9",
        "colab": {
          "base_uri": "https://localhost:8080/",
          "height": 35
        }
      },
      "source": [
        "s_frase[6]"
      ],
      "execution_count": 24,
      "outputs": [
        {
          "output_type": "execute_result",
          "data": {
            "text/plain": [
              "' '"
            ],
            "application/vnd.google.colaboratory.intrinsic+json": {
              "type": "string"
            }
          },
          "metadata": {},
          "execution_count": 24
        }
      ]
    },
    {
      "cell_type": "code",
      "metadata": {
        "id": "IEUxkaqoqDMR"
      },
      "source": [
        "s_frase[7]"
      ],
      "execution_count": null,
      "outputs": []
    },
    {
      "cell_type": "markdown",
      "metadata": {
        "id": "7r20rZ5JttEn"
      },
      "source": [
        "E o que há na posição 28?"
      ]
    },
    {
      "cell_type": "code",
      "metadata": {
        "id": "FEDrIYzgsja0",
        "outputId": "e9498c78-6883-43bb-c409-ac964192bfcc",
        "colab": {
          "base_uri": "https://localhost:8080/",
          "height": 35
        }
      },
      "source": [
        "s_frase[28]"
      ],
      "execution_count": 25,
      "outputs": [
        {
          "output_type": "execute_result",
          "data": {
            "text/plain": [
              "'d'"
            ],
            "application/vnd.google.colaboratory.intrinsic+json": {
              "type": "string"
            }
          },
          "metadata": {},
          "execution_count": 25
        }
      ]
    },
    {
      "cell_type": "markdown",
      "metadata": {
        "id": "-qH30_RNnlAF"
      },
      "source": [
        "E qual o caractere/conteúdo da posição 97?"
      ]
    },
    {
      "cell_type": "code",
      "metadata": {
        "id": "zROKPKyLnqde",
        "outputId": "f4103334-5e20-4ace-a0ef-55dbeb2677ba",
        "colab": {
          "base_uri": "https://localhost:8080/",
          "height": 144
        }
      },
      "source": [
        "s_frase[97]"
      ],
      "execution_count": 26,
      "outputs": [
        {
          "output_type": "error",
          "ename": "IndexError",
          "evalue": "string index out of range",
          "traceback": [
            "\u001b[0;31m---------------------------------------------------------------------------\u001b[0m",
            "\u001b[0;31mIndexError\u001b[0m                                Traceback (most recent call last)",
            "\u001b[0;32m<ipython-input-26-ec0b63044a6b>\u001b[0m in \u001b[0;36m<cell line: 1>\u001b[0;34m()\u001b[0m\n\u001b[0;32m----> 1\u001b[0;31m \u001b[0ms_frase\u001b[0m\u001b[0;34m[\u001b[0m\u001b[0;36m97\u001b[0m\u001b[0;34m]\u001b[0m\u001b[0;34m\u001b[0m\u001b[0;34m\u001b[0m\u001b[0m\n\u001b[0m",
            "\u001b[0;31mIndexError\u001b[0m: string index out of range"
          ]
        }
      ]
    },
    {
      "cell_type": "markdown",
      "metadata": {
        "id": "1DIaG36XuOvK"
      },
      "source": [
        "Como esperando, Python aponta erro. Porque?\n",
        "\n",
        "* Lembre-se que len(s_frase) = 96, ok?"
      ]
    },
    {
      "cell_type": "markdown",
      "metadata": {
        "id": "v6X_L5leuW-M"
      },
      "source": [
        "... Mas s_frase[-1] parece estranho pra você? Vamos ver se há conteúdo para s_frase[-1]:"
      ]
    },
    {
      "cell_type": "code",
      "metadata": {
        "id": "MGfENyy-7rPw",
        "outputId": "82550de5-0514-4567-c5d3-ee10593cbb61",
        "colab": {
          "base_uri": "https://localhost:8080/",
          "height": 35
        }
      },
      "source": [
        "s_frase"
      ],
      "execution_count": 27,
      "outputs": [
        {
          "output_type": "execute_result",
          "data": {
            "text/plain": [
              "'Beauty has so many forms, and I think the most beautiful thing is confidence and loving yourself.'"
            ],
            "application/vnd.google.colaboratory.intrinsic+json": {
              "type": "string"
            }
          },
          "metadata": {},
          "execution_count": 27
        }
      ]
    },
    {
      "cell_type": "code",
      "metadata": {
        "id": "GrJWvSBzubUp",
        "outputId": "57d8d017-866f-45ad-993e-adc3a41b16f4",
        "colab": {
          "base_uri": "https://localhost:8080/",
          "height": 35
        }
      },
      "source": [
        "s_frase[-1]"
      ],
      "execution_count": 28,
      "outputs": [
        {
          "output_type": "execute_result",
          "data": {
            "text/plain": [
              "'.'"
            ],
            "application/vnd.google.colaboratory.intrinsic+json": {
              "type": "string"
            }
          },
          "metadata": {},
          "execution_count": 28
        }
      ]
    },
    {
      "cell_type": "markdown",
      "metadata": {
        "id": "l7YCDSoyujja"
      },
      "source": [
        "E qual o conteúdo da posição -2?"
      ]
    },
    {
      "cell_type": "code",
      "metadata": {
        "id": "ugAlE8L5uzhT",
        "outputId": "51291a3f-6214-4bf3-ef2c-87f7a451b46e",
        "colab": {
          "base_uri": "https://localhost:8080/",
          "height": 35
        }
      },
      "source": [
        "s_frase[-2]"
      ],
      "execution_count": 29,
      "outputs": [
        {
          "output_type": "execute_result",
          "data": {
            "text/plain": [
              "'f'"
            ],
            "application/vnd.google.colaboratory.intrinsic+json": {
              "type": "string"
            }
          },
          "metadata": {},
          "execution_count": 29
        }
      ]
    },
    {
      "cell_type": "markdown",
      "metadata": {
        "id": "f2ZTguXjumoS"
      },
      "source": [
        "Saberia explicar o que acontece?"
      ]
    },
    {
      "cell_type": "markdown",
      "source": [
        "Saberia explicar o resultado a seguir?"
      ],
      "metadata": {
        "id": "MT20Y3AoSQ8k"
      }
    },
    {
      "cell_type": "code",
      "source": [
        "s_frase[0:10]"
      ],
      "metadata": {
        "id": "m9C9SA6hSVKz",
        "outputId": "66439bb4-c403-4c2b-da98-72cc363eec0e",
        "colab": {
          "base_uri": "https://localhost:8080/",
          "height": 35
        }
      },
      "execution_count": 32,
      "outputs": [
        {
          "output_type": "execute_result",
          "data": {
            "text/plain": [
              "'Beauty has'"
            ],
            "application/vnd.google.colaboratory.intrinsic+json": {
              "type": "string"
            }
          },
          "metadata": {},
          "execution_count": 32
        }
      ]
    },
    {
      "cell_type": "markdown",
      "metadata": {
        "id": "llMrN_idzT7F"
      },
      "source": [
        "## Concatenar strings\n",
        "* Considere as strings a seguir:"
      ]
    },
    {
      "cell_type": "code",
      "metadata": {
        "id": "tfYrq8auzcaT"
      },
      "source": [
        "s_frase1 = 'Strings são imutáveis!'\n",
        "s_frase2 = ' Portanto, não podemos alterar o valor.'"
      ],
      "execution_count": 33,
      "outputs": []
    },
    {
      "cell_type": "code",
      "metadata": {
        "id": "N0qNvZJUzqvh",
        "outputId": "c89918bf-5ee9-40d9-b568-6766ca89bd1b",
        "colab": {
          "base_uri": "https://localhost:8080/",
          "height": 35
        }
      },
      "source": [
        "s_frase1 + s_frase2"
      ],
      "execution_count": 34,
      "outputs": [
        {
          "output_type": "execute_result",
          "data": {
            "text/plain": [
              "'Strings são imutáveis! Portanto, não podemos alterar o valor.'"
            ],
            "application/vnd.google.colaboratory.intrinsic+json": {
              "type": "string"
            }
          },
          "metadata": {},
          "execution_count": 34
        }
      ]
    },
    {
      "cell_type": "markdown",
      "metadata": {
        "id": "uzlTo9dXwjh7"
      },
      "source": [
        "## Cortar Strings\n",
        "* Algumas vezes precisamos de parte da string."
      ]
    },
    {
      "cell_type": "markdown",
      "metadata": {
        "id": "EDJk_u2fxgEs"
      },
      "source": [
        "Parte da string, com começo e fim..."
      ]
    },
    {
      "cell_type": "code",
      "metadata": {
        "id": "4y-DLj9MsxDm"
      },
      "source": [
        "# Nossa string:\n",
        "s_frase"
      ],
      "execution_count": null,
      "outputs": []
    },
    {
      "cell_type": "code",
      "metadata": {
        "id": "MTX25_yOwdfW",
        "outputId": "03582ca1-1d35-4ec7-a5e8-922c4082a1e5",
        "colab": {
          "base_uri": "https://localhost:8080/",
          "height": 35
        }
      },
      "source": [
        "s_frase[0:24]"
      ],
      "execution_count": 35,
      "outputs": [
        {
          "output_type": "execute_result",
          "data": {
            "text/plain": [
              "'Beauty has so many forms'"
            ],
            "application/vnd.google.colaboratory.intrinsic+json": {
              "type": "string"
            }
          },
          "metadata": {},
          "execution_count": 35
        }
      ]
    },
    {
      "cell_type": "markdown",
      "metadata": {
        "id": "kuWpwOCIenPm"
      },
      "source": [
        "Obs.: s_frase[0: 24] é equivalente a s_frase[:24]. Veja abaixo:"
      ]
    },
    {
      "cell_type": "code",
      "metadata": {
        "id": "dSAEiWWYewKs",
        "outputId": "ca591ba2-8db0-443a-cb61-90a255ac3fd5",
        "colab": {
          "base_uri": "https://localhost:8080/",
          "height": 35
        }
      },
      "source": [
        "s_frase[:24]"
      ],
      "execution_count": 38,
      "outputs": [
        {
          "output_type": "execute_result",
          "data": {
            "text/plain": [
              "'Beauty has so many forms'"
            ],
            "application/vnd.google.colaboratory.intrinsic+json": {
              "type": "string"
            }
          },
          "metadata": {},
          "execution_count": 38
        }
      ]
    },
    {
      "cell_type": "markdown",
      "metadata": {
        "id": "vQwK-9Hwohfs"
      },
      "source": [
        "... Começa na posição 26 em diante..."
      ]
    },
    {
      "cell_type": "code",
      "metadata": {
        "id": "CJTBBmJ51Qhk",
        "outputId": "9cd8b022-efe9-4234-8e0f-a27ed766200a",
        "colab": {
          "base_uri": "https://localhost:8080/",
          "height": 35
        }
      },
      "source": [
        "s_frase[26:]"
      ],
      "execution_count": 36,
      "outputs": [
        {
          "output_type": "execute_result",
          "data": {
            "text/plain": [
              "'and I think the most beautiful thing is confidence and loving yourself.'"
            ],
            "application/vnd.google.colaboratory.intrinsic+json": {
              "type": "string"
            }
          },
          "metadata": {},
          "execution_count": 36
        }
      ]
    },
    {
      "cell_type": "markdown",
      "metadata": {
        "id": "AMwm33py2Bpq"
      },
      "source": [
        "... Conteúdo de toda a string:"
      ]
    },
    {
      "cell_type": "code",
      "metadata": {
        "id": "Gz5TPx1G2GLN",
        "outputId": "bd426575-9f42-493e-c66a-f178f0ab17e5",
        "colab": {
          "base_uri": "https://localhost:8080/",
          "height": 35
        }
      },
      "source": [
        "s_frase[:] # Intuitivo não? se não definirmos o início e fim, então o Python retorna toda a string."
      ],
      "execution_count": 37,
      "outputs": [
        {
          "output_type": "execute_result",
          "data": {
            "text/plain": [
              "'Beauty has so many forms, and I think the most beautiful thing is confidence and loving yourself.'"
            ],
            "application/vnd.google.colaboratory.intrinsic+json": {
              "type": "string"
            }
          },
          "metadata": {},
          "execution_count": 37
        }
      ]
    },
    {
      "cell_type": "markdown",
      "metadata": {
        "id": "ze0w1N3I2OrO"
      },
      "source": [
        "... Conteúdo da string começando em -9 em diante:"
      ]
    },
    {
      "cell_type": "code",
      "metadata": {
        "id": "xxVVx-uUs62P"
      },
      "source": [
        "s_frase"
      ],
      "execution_count": null,
      "outputs": []
    },
    {
      "cell_type": "code",
      "metadata": {
        "id": "RDspRsKB2Sv9",
        "outputId": "5473553f-a1dd-4ce4-854e-a981d8e57004",
        "colab": {
          "base_uri": "https://localhost:8080/",
          "height": 35
        }
      },
      "source": [
        "s_frase[-9:]"
      ],
      "execution_count": 39,
      "outputs": [
        {
          "output_type": "execute_result",
          "data": {
            "text/plain": [
              "'yourself.'"
            ],
            "application/vnd.google.colaboratory.intrinsic+json": {
              "type": "string"
            }
          },
          "metadata": {},
          "execution_count": 39
        }
      ]
    },
    {
      "cell_type": "markdown",
      "metadata": {
        "id": "69LEpRHwe4W_"
      },
      "source": [
        "... Uso do step: s_frase[inicio:fim:step]. Vimos como selecionar partes da string usando inicio e fim. Agora vamos ver como usar step:"
      ]
    },
    {
      "cell_type": "code",
      "metadata": {
        "id": "X2ydaRNg8GzS"
      },
      "source": [
        "s_frase"
      ],
      "execution_count": null,
      "outputs": []
    },
    {
      "cell_type": "code",
      "metadata": {
        "id": "KaCtXKx8fI2q",
        "outputId": "c6610769-d837-4e78-f49e-a6e6db6db8fe",
        "colab": {
          "base_uri": "https://localhost:8080/",
          "height": 35
        }
      },
      "source": [
        "s_frase[::2]"
      ],
      "execution_count": 40,
      "outputs": [
        {
          "output_type": "execute_result",
          "data": {
            "text/plain": [
              "'Bat a omn om,adItiktems euiu hn scniec n oigyusl.'"
            ],
            "application/vnd.google.colaboratory.intrinsic+json": {
              "type": "string"
            }
          },
          "metadata": {},
          "execution_count": 40
        }
      ]
    },
    {
      "cell_type": "markdown",
      "metadata": {
        "id": "77A_dBynfM1T"
      },
      "source": [
        "Alguém saberia explicar o resultado da expressão acima?"
      ]
    },
    {
      "cell_type": "markdown",
      "metadata": {
        "id": "C7jQjrTYfSyc"
      },
      "source": [
        "E da expressão a seguir:"
      ]
    },
    {
      "cell_type": "code",
      "metadata": {
        "id": "Bep0HF1zfUcF"
      },
      "source": [
        "s_frase[2::2]"
      ],
      "execution_count": null,
      "outputs": []
    },
    {
      "cell_type": "markdown",
      "metadata": {
        "id": "4psqkz9ZfcDG"
      },
      "source": [
        "E a explicação para a expressão a seguir:"
      ]
    },
    {
      "cell_type": "code",
      "metadata": {
        "id": "QLZ-TeyEfe_b"
      },
      "source": [
        "s_frase[:10:3]"
      ],
      "execution_count": null,
      "outputs": []
    },
    {
      "cell_type": "markdown",
      "metadata": {
        "id": "DdLGIGjEft6i"
      },
      "source": [
        "Por fim, quem saberia explicar o resultado a seguir:"
      ]
    },
    {
      "cell_type": "code",
      "metadata": {
        "id": "3MSTykjifxjV"
      },
      "source": [
        "s_frase[::-1]"
      ],
      "execution_count": null,
      "outputs": []
    },
    {
      "cell_type": "markdown",
      "metadata": {
        "id": "ikg8ME172wKS"
      },
      "source": [
        "## Funções Especiais para Strings\n",
        "\n",
        "* Na tabela abaixo, 'i' significa início e 'f' significa fim,\n",
        "\n",
        "| Sintaxe | Descrição ou Ação |\n",
        "|---------|-------------------|\n",
        "s_string.count(s_substring[, i[, f]]) | Conta ocorrências de 's_substring' em s_string |\n",
        "s_string.endswith(s_substring[, i[, f]]) | 'True' se s_string termina com 's_substring' |\n",
        "s_string.find(s_substring [,i[, f]]) | Encontra a primeira ocorrência de 's_substring' em s_string e retorna o índice ou -1 se não encontrar |\n",
        "s_string.index(s_substring [,i[, f]]) | Encontra a primeira ocorrência de 's_substring' em s_string e retorna o índice ou erro se não encontrar |\n",
        "s_string.isalnum() | 'True' se s_string tem somente caracteres alfanuméricos |\n",
        "s_string.isalpha() | 'True' se s_string tem somente caracteres alfabéticos |\n",
        "s_string.isdigit() | 'True' se s_string tem somente dígitos |\n",
        "s_string.isspace() | 'True' se s_string tem somente espaços em branco |\n",
        "s_string.lower() | Converte s_string para lowercase |\n",
        "s_string.lstrip([chars]) | Remove espaços em branco do lado esquerdo de s_string |\n",
        "s_string.replace (old, new[, count]) | Substitui a string 'old' pela string 'new' |\n",
        "s_string.rfind(s_substring [, i[, f]]) | Encontra a última ocorrência de 's_substring' em s_string e retorna o índice ou -1 se não encontrar |\n",
        "s_string.rindex(s_substring [, i[, f]]) | Encontra a última ocorrência de 's_substring' em s_string e retorna seu índice ou erro se não encontrar |\n",
        "s_string.rstrip([chars]) |Remove espaços em branco à direita de s_string |\n",
        "s_string.split('sep') | Split s_string usando 'sep' e retorna a lista de substrings |\n",
        "s_string.startswith(s_substring[, i[, f]]) | 'True' se s_string começa com 's_substring' |\n",
        "s_string.strip([chars]) | Remove 'chars' do lado esquerdo e direito de s_string. O default é chars= ' ' |\n",
        "s_string.upper() | Converte s_string para uppercase |"
      ]
    },
    {
      "cell_type": "markdown",
      "metadata": {
        "id": "JgjsFY014Hqw"
      },
      "source": [
        "## Tamanho da String s_string\n",
        "* len(s_string)"
      ]
    },
    {
      "cell_type": "code",
      "metadata": {
        "id": "A8kFtNzxCFuN"
      },
      "source": [
        "s_frase"
      ],
      "execution_count": null,
      "outputs": []
    },
    {
      "cell_type": "code",
      "metadata": {
        "id": "A8DMhMnx_Gec",
        "outputId": "89db068e-09d6-4250-d932-ceb03116711c",
        "colab": {
          "base_uri": "https://localhost:8080/"
        }
      },
      "source": [
        "len(s_frase)"
      ],
      "execution_count": 41,
      "outputs": [
        {
          "output_type": "execute_result",
          "data": {
            "text/plain": [
              "97"
            ]
          },
          "metadata": {},
          "execution_count": 41
        }
      ]
    },
    {
      "cell_type": "markdown",
      "metadata": {
        "id": "FhSlJQkwBb_e"
      },
      "source": [
        "## Frequência com que s_Character aparece em s_string\n",
        "* s_string.count('s_Character')"
      ]
    },
    {
      "cell_type": "code",
      "metadata": {
        "id": "rmvBVIzjCLSt"
      },
      "source": [
        "s_frase"
      ],
      "execution_count": null,
      "outputs": []
    },
    {
      "cell_type": "markdown",
      "metadata": {
        "id": "u51gdjMEpR6G"
      },
      "source": [
        "Quantas vezes o caractere 'a' aparece em s_frase?"
      ]
    },
    {
      "cell_type": "code",
      "metadata": {
        "id": "_albEvNaBrh0",
        "outputId": "66064134-dad9-499c-e0a6-006071187d79",
        "colab": {
          "base_uri": "https://localhost:8080/"
        }
      },
      "source": [
        "s_frase.count('a')"
      ],
      "execution_count": 42,
      "outputs": [
        {
          "output_type": "execute_result",
          "data": {
            "text/plain": [
              "6"
            ]
          },
          "metadata": {},
          "execution_count": 42
        }
      ]
    },
    {
      "cell_type": "markdown",
      "metadata": {
        "id": "l3Gzk_WmpXiW"
      },
      "source": [
        "Quantas vezes o caractere ',' aparece em s_frase?"
      ]
    },
    {
      "cell_type": "code",
      "metadata": {
        "id": "tBjRzqvjpcJG",
        "outputId": "b7ad4428-60ea-4a72-b281-150d925c113c",
        "colab": {
          "base_uri": "https://localhost:8080/"
        }
      },
      "source": [
        "s_frase.count(',')"
      ],
      "execution_count": 43,
      "outputs": [
        {
          "output_type": "execute_result",
          "data": {
            "text/plain": [
              "1"
            ]
          },
          "metadata": {},
          "execution_count": 43
        }
      ]
    },
    {
      "cell_type": "markdown",
      "metadata": {
        "id": "ECvPPzT9CnCZ"
      },
      "source": [
        "## Encontrar todas as ocorrências de s_substring em s_string usando List Comprehension\n",
        "* Suponha que queremos contar quantas vezes s_substring= 'a' aparece em s_frase. No entanto, veja o conteúdo a seguir:"
      ]
    },
    {
      "cell_type": "code",
      "metadata": {
        "id": "K1Uj8KhhGwAQ"
      },
      "source": [
        "# Cria uma array bidimensional do tipo (indice, valor).\n",
        "list(enumerate(s_frase))"
      ],
      "execution_count": null,
      "outputs": []
    },
    {
      "cell_type": "markdown",
      "metadata": {
        "id": "HBoUJfssZ_hd"
      },
      "source": [
        "A seguir, encontrar todas as ocorrências de s_substring em s_string:"
      ]
    },
    {
      "cell_type": "code",
      "metadata": {
        "id": "2635PM1xC4v5",
        "outputId": "a57ad80e-8b1c-4539-ab4b-f2324dff68bf",
        "colab": {
          "base_uri": "https://localhost:8080/",
          "height": 35
        }
      },
      "source": [
        "s_substring = 'a'\n",
        "l_Indices = [indice for indice, valor in enumerate(s_frase) if valor == s_substring]\n",
        "l_Indices"
      ],
      "execution_count": null,
      "outputs": [
        {
          "output_type": "execute_result",
          "data": {
            "text/plain": [
              "[2, 8, 15, 26, 49, 77]"
            ]
          },
          "metadata": {
            "tags": []
          },
          "execution_count": 28
        }
      ]
    },
    {
      "cell_type": "markdown",
      "metadata": {
        "id": "xtVIZAsXEBC3"
      },
      "source": [
        "## Encontrar todas as ocorrências de s_substring em s_string usando Expressões Regulares"
      ]
    },
    {
      "cell_type": "code",
      "metadata": {
        "id": "lCsSl3MZEKu8",
        "outputId": "4873c3c3-34e7-4b2a-fcbb-90cbb7f22429",
        "colab": {
          "base_uri": "https://localhost:8080/",
          "height": 35
        }
      },
      "source": [
        "import re\n",
        "\n",
        "s_substring = 'a'\n",
        "l_Indices = [i.start() for i in re.finditer(s_substring, s_frase)]\n",
        "l_Indices"
      ],
      "execution_count": null,
      "outputs": [
        {
          "output_type": "execute_result",
          "data": {
            "text/plain": [
              "[2, 8, 15, 26, 49, 77]"
            ]
          },
          "metadata": {
            "tags": []
          },
          "execution_count": 25
        }
      ]
    },
    {
      "cell_type": "markdown",
      "metadata": {
        "id": "x4uWzHqo2y5J"
      },
      "source": [
        "## s_string.lower()"
      ]
    },
    {
      "cell_type": "code",
      "metadata": {
        "id": "i96RNCQyCPBm"
      },
      "source": [
        "s_frase"
      ],
      "execution_count": null,
      "outputs": []
    },
    {
      "cell_type": "code",
      "metadata": {
        "id": "h7QVh6nW_Wr3"
      },
      "source": [
        "s_frase.lower()"
      ],
      "execution_count": null,
      "outputs": []
    },
    {
      "cell_type": "markdown",
      "metadata": {
        "id": "YWjMKj9B4UTS"
      },
      "source": [
        "## s_string.upper()"
      ]
    },
    {
      "cell_type": "code",
      "metadata": {
        "id": "JWLXql2uCQVt"
      },
      "source": [
        "s_frase"
      ],
      "execution_count": null,
      "outputs": []
    },
    {
      "cell_type": "code",
      "metadata": {
        "id": "80zNvZxD_cd3"
      },
      "source": [
        "s_frase.upper()"
      ],
      "execution_count": null,
      "outputs": []
    },
    {
      "cell_type": "markdown",
      "metadata": {
        "id": "orwwTq7A4Zl1"
      },
      "source": [
        "## s_str.strip()"
      ]
    },
    {
      "cell_type": "code",
      "metadata": {
        "id": "QbbCGcg1_m9t"
      },
      "source": [
        "s_frase2 = '  Brasil: Ordem e Progresso!  '"
      ],
      "execution_count": null,
      "outputs": []
    },
    {
      "cell_type": "code",
      "metadata": {
        "id": "ehLGkpUC_h0A"
      },
      "source": [
        "s_frase2.strip()"
      ],
      "execution_count": null,
      "outputs": []
    },
    {
      "cell_type": "markdown",
      "metadata": {
        "id": "AC0VIn1Mqeyb"
      },
      "source": [
        "Observe acima que os espaços antes e depois da string foram excluídos."
      ]
    },
    {
      "cell_type": "markdown",
      "metadata": {
        "id": "xFTubPhW4e_c"
      },
      "source": [
        "## s_str.isdigit()"
      ]
    },
    {
      "cell_type": "code",
      "metadata": {
        "id": "1xK9VoBR_7-C",
        "outputId": "47d00ea8-23ec-484a-933f-02eb16d3f31c",
        "colab": {
          "base_uri": "https://localhost:8080/"
        }
      },
      "source": [
        "s_frase.isdigit()"
      ],
      "execution_count": 44,
      "outputs": [
        {
          "output_type": "execute_result",
          "data": {
            "text/plain": [
              "False"
            ]
          },
          "metadata": {},
          "execution_count": 44
        }
      ]
    },
    {
      "cell_type": "code",
      "metadata": {
        "id": "J2o9UAkT__vY",
        "outputId": "977d632e-93b6-4bd8-e876-bba8148b251e",
        "colab": {
          "base_uri": "https://localhost:8080/"
        }
      },
      "source": [
        "'1234567a'.isdigit()"
      ],
      "execution_count": 45,
      "outputs": [
        {
          "output_type": "execute_result",
          "data": {
            "text/plain": [
              "False"
            ]
          },
          "metadata": {},
          "execution_count": 45
        }
      ]
    },
    {
      "cell_type": "code",
      "metadata": {
        "id": "Ll_nLgOpAFC2",
        "outputId": "22d3b15f-4e54-4d8d-9ba7-e68b399cdc33",
        "colab": {
          "base_uri": "https://localhost:8080/"
        }
      },
      "source": [
        "'1234567'.isdigit()"
      ],
      "execution_count": 46,
      "outputs": [
        {
          "output_type": "execute_result",
          "data": {
            "text/plain": [
              "True"
            ]
          },
          "metadata": {},
          "execution_count": 46
        }
      ]
    },
    {
      "cell_type": "markdown",
      "metadata": {
        "id": "NYN11jnx4l1z"
      },
      "source": [
        "## s_string.isspace()"
      ]
    },
    {
      "cell_type": "code",
      "metadata": {
        "id": "imww41-C1XXK",
        "outputId": "ce1ccbfd-81b4-4e50-b7a5-8bb44e73ef41",
        "colab": {
          "base_uri": "https://localhost:8080/"
        }
      },
      "source": [
        "s_frase[6:7].isspace()"
      ],
      "execution_count": 47,
      "outputs": [
        {
          "output_type": "execute_result",
          "data": {
            "text/plain": [
              "True"
            ]
          },
          "metadata": {},
          "execution_count": 47
        }
      ]
    },
    {
      "cell_type": "markdown",
      "metadata": {
        "id": "yft3MA264ot7"
      },
      "source": [
        "## s_string.startswith('s_Character')"
      ]
    },
    {
      "cell_type": "code",
      "metadata": {
        "id": "SB4SoJxuCTlY"
      },
      "source": [
        "s_frase"
      ],
      "execution_count": null,
      "outputs": []
    },
    {
      "cell_type": "code",
      "metadata": {
        "id": "L1hY57TW4tL5",
        "outputId": "b56ce7f6-90e5-49cc-f589-0e962c949bd2",
        "colab": {
          "base_uri": "https://localhost:8080/"
        }
      },
      "source": [
        "s_frase.startswith('Beauty')"
      ],
      "execution_count": 48,
      "outputs": [
        {
          "output_type": "execute_result",
          "data": {
            "text/plain": [
              "True"
            ]
          },
          "metadata": {},
          "execution_count": 48
        }
      ]
    },
    {
      "cell_type": "code",
      "metadata": {
        "id": "HdAJPhAH40C6",
        "outputId": "bb826a5e-6153-40c0-d7fb-5581f10277e4",
        "colab": {
          "base_uri": "https://localhost:8080/"
        }
      },
      "source": [
        "s_frase.startswith('Beautiful')"
      ],
      "execution_count": 49,
      "outputs": [
        {
          "output_type": "execute_result",
          "data": {
            "text/plain": [
              "False"
            ]
          },
          "metadata": {},
          "execution_count": 49
        }
      ]
    },
    {
      "cell_type": "markdown",
      "metadata": {
        "id": "aJ0XLdMN45kW"
      },
      "source": [
        "## s_string.endswith('s_Character')"
      ]
    },
    {
      "cell_type": "code",
      "metadata": {
        "id": "lIbh8oBICU3M"
      },
      "source": [
        "s_frase"
      ],
      "execution_count": null,
      "outputs": []
    },
    {
      "cell_type": "markdown",
      "metadata": {
        "id": "fST0sCs6q3Se"
      },
      "source": [
        "A string s_frase termina com '!'?"
      ]
    },
    {
      "cell_type": "code",
      "metadata": {
        "id": "1oy9r22A5J2g",
        "outputId": "2c5a5388-a4bb-488b-f157-73cd4ee9446d",
        "colab": {
          "base_uri": "https://localhost:8080/"
        }
      },
      "source": [
        "s_frase.endswith('!')"
      ],
      "execution_count": 50,
      "outputs": [
        {
          "output_type": "execute_result",
          "data": {
            "text/plain": [
              "False"
            ]
          },
          "metadata": {},
          "execution_count": 50
        }
      ]
    },
    {
      "cell_type": "markdown",
      "metadata": {
        "id": "wVAE2jyDq8lB"
      },
      "source": [
        "A string s_frase termina com '.'?"
      ]
    },
    {
      "cell_type": "code",
      "metadata": {
        "id": "1v332nD7qzga",
        "outputId": "50b46d84-f4a1-4a85-be2f-f6889a73d4d4",
        "colab": {
          "base_uri": "https://localhost:8080/"
        }
      },
      "source": [
        "s_frase.endswith('.')"
      ],
      "execution_count": 51,
      "outputs": [
        {
          "output_type": "execute_result",
          "data": {
            "text/plain": [
              "True"
            ]
          },
          "metadata": {},
          "execution_count": 51
        }
      ]
    },
    {
      "cell_type": "markdown",
      "metadata": {
        "id": "g4T-n_Vq5kje"
      },
      "source": [
        "## s_string.find('s_Charactere')"
      ]
    },
    {
      "cell_type": "code",
      "metadata": {
        "id": "fpYCC-pACWPb",
        "outputId": "dc76f97f-9a72-4a15-c07a-530a0ef91891",
        "colab": {
          "base_uri": "https://localhost:8080/",
          "height": 35
        }
      },
      "source": [
        "s_frase"
      ],
      "execution_count": 53,
      "outputs": [
        {
          "output_type": "execute_result",
          "data": {
            "text/plain": [
              "'Beauty has so many forms, and I think the most beautiful thing is confidence and loving yourself.'"
            ],
            "application/vnd.google.colaboratory.intrinsic+json": {
              "type": "string"
            }
          },
          "metadata": {},
          "execution_count": 53
        }
      ]
    },
    {
      "cell_type": "code",
      "metadata": {
        "id": "NRIG8n0259yW",
        "outputId": "4bac0dff-ffa0-4a24-aefa-db0a6430307c",
        "colab": {
          "base_uri": "https://localhost:8080/"
        }
      },
      "source": [
        "# Primeira ocorrência de ',':\n",
        "s_frase.find(',')"
      ],
      "execution_count": 52,
      "outputs": [
        {
          "output_type": "execute_result",
          "data": {
            "text/plain": [
              "24"
            ]
          },
          "metadata": {},
          "execution_count": 52
        }
      ]
    },
    {
      "cell_type": "markdown",
      "metadata": {
        "id": "x1RDdI6x6YD8"
      },
      "source": [
        "Como esperado, substr= ',' faz parte de s_frase."
      ]
    },
    {
      "cell_type": "markdown",
      "metadata": {
        "id": "wXnNRYW46vhX"
      },
      "source": [
        "Se 's_Character' não faz parte de s_frase, Python retorna -1, como abaixo:"
      ]
    },
    {
      "cell_type": "code",
      "metadata": {
        "id": "k2Ok8__-654p",
        "outputId": "983503d0-0b30-4782-c131-17281e58ccba",
        "colab": {
          "base_uri": "https://localhost:8080/"
        }
      },
      "source": [
        "s_frase.find('Beauti') # 'i' ao invés de 'y'"
      ],
      "execution_count": 54,
      "outputs": [
        {
          "output_type": "execute_result",
          "data": {
            "text/plain": [
              "-1"
            ]
          },
          "metadata": {},
          "execution_count": 54
        }
      ]
    },
    {
      "cell_type": "markdown",
      "metadata": {
        "id": "p5jNHCDQ7Bl6"
      },
      "source": [
        "## s_string.replace(old, new)"
      ]
    },
    {
      "cell_type": "markdown",
      "metadata": {
        "id": "UUM3cnlDaqPs"
      },
      "source": [
        "### Exemplo 1"
      ]
    },
    {
      "cell_type": "code",
      "metadata": {
        "id": "Vi7TBVoXr0Uk",
        "outputId": "7b85784f-c430-45d8-8c0c-4778c3b7fc27",
        "colab": {
          "base_uri": "https://localhost:8080/",
          "height": 35
        }
      },
      "source": [
        "s_frase"
      ],
      "execution_count": 55,
      "outputs": [
        {
          "output_type": "execute_result",
          "data": {
            "text/plain": [
              "'Beauty has so many forms, and I think the most beautiful thing is confidence and loving yourself.'"
            ],
            "application/vnd.google.colaboratory.intrinsic+json": {
              "type": "string"
            }
          },
          "metadata": {},
          "execution_count": 55
        }
      ]
    },
    {
      "cell_type": "code",
      "metadata": {
        "id": "MWFiLutR6cRR",
        "outputId": "d55d7fb1-e716-41b4-f2fb-604b6cf48725",
        "colab": {
          "base_uri": "https://localhost:8080/",
          "height": 35
        }
      },
      "source": [
        "s_frase.replace('most', 'MOST')"
      ],
      "execution_count": 56,
      "outputs": [
        {
          "output_type": "execute_result",
          "data": {
            "text/plain": [
              "'Beauty has so many forms, and I think the MOST beautiful thing is confidence and loving yourself.'"
            ],
            "application/vnd.google.colaboratory.intrinsic+json": {
              "type": "string"
            }
          },
          "metadata": {},
          "execution_count": 56
        }
      ]
    },
    {
      "cell_type": "markdown",
      "metadata": {
        "id": "RT46g3S0awnf"
      },
      "source": [
        "### Exemplo 2\n",
        "* Remover o caractere ' ' por ''."
      ]
    },
    {
      "cell_type": "code",
      "metadata": {
        "id": "UTKsbNIz9lnX",
        "outputId": "01bffe76-48e9-42f6-d0e6-74cf1b91b944",
        "colab": {
          "base_uri": "https://localhost:8080/",
          "height": 35
        }
      },
      "source": [
        "s_frase.replace(' ', '')"
      ],
      "execution_count": 57,
      "outputs": [
        {
          "output_type": "execute_result",
          "data": {
            "text/plain": [
              "'Beautyhassomanyforms,andIthinkthemostbeautifulthingisconfidenceandlovingyourself.'"
            ],
            "application/vnd.google.colaboratory.intrinsic+json": {
              "type": "string"
            }
          },
          "metadata": {},
          "execution_count": 57
        }
      ]
    },
    {
      "cell_type": "markdown",
      "metadata": {
        "id": "TzPrEftNa69C"
      },
      "source": [
        "### Exemplo 3\n",
        "* Vamos tentar substituir o caracter '?' por '!'"
      ]
    },
    {
      "cell_type": "code",
      "metadata": {
        "id": "E0FTeY_lsNke",
        "outputId": "976e489d-43e1-4a37-e998-97e080a71312",
        "colab": {
          "base_uri": "https://localhost:8080/",
          "height": 35
        }
      },
      "source": [
        "s_frase.replace('?', '!')"
      ],
      "execution_count": 58,
      "outputs": [
        {
          "output_type": "execute_result",
          "data": {
            "text/plain": [
              "'Beauty has so many forms, and I think the most beautiful thing is confidence and loving yourself.'"
            ],
            "application/vnd.google.colaboratory.intrinsic+json": {
              "type": "string"
            }
          },
          "metadata": {},
          "execution_count": 58
        }
      ]
    },
    {
      "cell_type": "markdown",
      "metadata": {
        "id": "mgzh1KQG7bx6"
      },
      "source": [
        "O que aconteceu? Não substituiu... Porque?\n",
        "\n",
        "Saberia explicar porque o Python não substituiu?"
      ]
    },
    {
      "cell_type": "markdown",
      "metadata": {
        "id": "DudTwJSX7ltC"
      },
      "source": [
        "E agora?"
      ]
    },
    {
      "cell_type": "code",
      "metadata": {
        "id": "-2BZQ6mG7hh6",
        "outputId": "bee59b90-5bf6-4cc6-8e9e-eabcbd6700e1",
        "colab": {
          "base_uri": "https://localhost:8080/",
          "height": 35
        }
      },
      "source": [
        "s_frase.replace('.', '!')"
      ],
      "execution_count": 59,
      "outputs": [
        {
          "output_type": "execute_result",
          "data": {
            "text/plain": [
              "'Beauty has so many forms, and I think the most beautiful thing is confidence and loving yourself!'"
            ],
            "application/vnd.google.colaboratory.intrinsic+json": {
              "type": "string"
            }
          },
          "metadata": {},
          "execution_count": 59
        }
      ]
    },
    {
      "cell_type": "markdown",
      "metadata": {
        "id": "42v6zRUO8DlQ"
      },
      "source": [
        "... Entretanto, qual o conteúdo de s_frase?"
      ]
    },
    {
      "cell_type": "code",
      "metadata": {
        "id": "Lmo4aiol7qUF"
      },
      "source": [
        "s_frase"
      ],
      "execution_count": null,
      "outputs": []
    },
    {
      "cell_type": "markdown",
      "metadata": {
        "id": "ap9nFc2E8MAG"
      },
      "source": [
        "**DICA**: Strings are imutáveis! A forma correta seria:"
      ]
    },
    {
      "cell_type": "code",
      "metadata": {
        "id": "eH8yHJik8U0N"
      },
      "source": [
        "s_frase= s_frase.replace('.', '!')"
      ],
      "execution_count": null,
      "outputs": []
    },
    {
      "cell_type": "markdown",
      "metadata": {
        "id": "nHCudHwJ8eSf"
      },
      "source": [
        "Desta forma, redefinimos uma nova variável chamada s_frase. Mas é a mesma variável que anteriormente, certo?"
      ]
    },
    {
      "cell_type": "code",
      "metadata": {
        "id": "WRFcfuzH8cBL"
      },
      "source": [
        "s_frase"
      ],
      "execution_count": null,
      "outputs": []
    },
    {
      "cell_type": "markdown",
      "metadata": {
        "id": "aL2UZp9T8lAk"
      },
      "source": [
        "## s_string.split('sep')"
      ]
    },
    {
      "cell_type": "markdown",
      "metadata": {
        "id": "pCPa0pBqbHdK"
      },
      "source": [
        "### Exemplo 1"
      ]
    },
    {
      "cell_type": "code",
      "metadata": {
        "id": "7y0ieQQm9Anx"
      },
      "source": [
        "s_frase.split(':')"
      ],
      "execution_count": null,
      "outputs": []
    },
    {
      "cell_type": "markdown",
      "metadata": {
        "id": "aS-DYJAyshwc"
      },
      "source": [
        "Não separou nada! Correto, pois o Python separa somente quando enconra o separador ':'"
      ]
    },
    {
      "cell_type": "markdown",
      "metadata": {
        "id": "f3YeNvTDss_X"
      },
      "source": [
        "Vamos tentar o separador ','..."
      ]
    },
    {
      "cell_type": "code",
      "metadata": {
        "id": "1kNciI7f92_n"
      },
      "source": [
        "s_frase"
      ],
      "execution_count": null,
      "outputs": []
    },
    {
      "cell_type": "code",
      "metadata": {
        "id": "E3QlgKQYsv3k"
      },
      "source": [
        "s_frase.split(',')"
      ],
      "execution_count": null,
      "outputs": []
    },
    {
      "cell_type": "markdown",
      "metadata": {
        "id": "AA-z6jcQbKtq"
      },
      "source": [
        "### Exemplo 2"
      ]
    },
    {
      "cell_type": "code",
      "metadata": {
        "id": "2ATukxpd9kij"
      },
      "source": [
        "s_frase3 = '73540877412968744629867535897645310956547894653240984764'"
      ],
      "execution_count": 60,
      "outputs": []
    },
    {
      "cell_type": "markdown",
      "metadata": {
        "id": "506UkCh39xFS"
      },
      "source": [
        "Qual o output do code abaixo:"
      ]
    },
    {
      "cell_type": "code",
      "metadata": {
        "id": "C2G9vyGt91Ir",
        "outputId": "fa73ba9e-bd02-4554-dbd8-a13a467e2e50",
        "colab": {
          "base_uri": "https://localhost:8080/"
        }
      },
      "source": [
        "s_frase3.split('6')"
      ],
      "execution_count": 61,
      "outputs": [
        {
          "output_type": "execute_result",
          "data": {
            "text/plain": [
              "['735408774129',\n",
              " '8744',\n",
              " '298',\n",
              " '7535897',\n",
              " '4531095',\n",
              " '547894',\n",
              " '532409847',\n",
              " '4']"
            ]
          },
          "metadata": {},
          "execution_count": 61
        }
      ]
    },
    {
      "cell_type": "code",
      "metadata": {
        "id": "OiVCdu04-GwZ"
      },
      "source": [
        "s_frase3.split('6')[0]"
      ],
      "execution_count": null,
      "outputs": []
    },
    {
      "cell_type": "markdown",
      "metadata": {
        "id": "S3gX9y-tz9ZE"
      },
      "source": [
        "## s_string.join()"
      ]
    },
    {
      "cell_type": "code",
      "metadata": {
        "id": "6jwpWDWb0NFO"
      },
      "source": [
        "''.join(['Strings','são','imutáveis']) # Observe que os elementos a serem concatenados estão entre []."
      ],
      "execution_count": null,
      "outputs": []
    },
    {
      "cell_type": "code",
      "metadata": {
        "id": "ueCpTzdH0XeJ"
      },
      "source": [
        "s_frase4 = ' '.join(['Strings','são','imutáveis'])\n",
        "s_frase4"
      ],
      "execution_count": null,
      "outputs": []
    },
    {
      "cell_type": "markdown",
      "metadata": {
        "id": "5bW0K_5q-Ud2"
      },
      "source": [
        "## Membership 'in' e 'not in'\n",
        "* Este operador testa se um valor é ou não membro de uma sequência (list, string, ou  dictionary)."
      ]
    },
    {
      "cell_type": "code",
      "metadata": {
        "id": "7e0_9IfEtSf8"
      },
      "source": [
        "s_frase"
      ],
      "execution_count": null,
      "outputs": []
    },
    {
      "cell_type": "code",
      "metadata": {
        "id": "NKhMZwTG-XZA"
      },
      "source": [
        "'Beauti' in s_frase # Com 'i' ao invés de 'y'"
      ],
      "execution_count": null,
      "outputs": []
    },
    {
      "cell_type": "code",
      "metadata": {
        "id": "brLjaj1B-b9Q"
      },
      "source": [
        "'beauty' in s_frase"
      ],
      "execution_count": null,
      "outputs": []
    },
    {
      "cell_type": "code",
      "metadata": {
        "id": "0cccmPea-gkw"
      },
      "source": [
        "'Beautiful' not in s_frase"
      ],
      "execution_count": null,
      "outputs": []
    },
    {
      "cell_type": "code",
      "metadata": {
        "id": "AD7GIeAptVZM"
      },
      "source": [
        "'beautiful' not in s_frase"
      ],
      "execution_count": null,
      "outputs": []
    },
    {
      "cell_type": "markdown",
      "metadata": {
        "id": "mVU0GxfUf9H1"
      },
      "source": [
        "___\n",
        "# **WRAP UP**"
      ]
    },
    {
      "cell_type": "markdown",
      "metadata": {
        "id": "lbj-kA95gAzI"
      },
      "source": [
        "___\n",
        "# **EXERCÍCIOS**\n",
        "\n",
        "Esses exercícios irão ajudá-lo a praticar a **formatação** e **manipulação de strings** em Python, consolidando os conceitos apresentados no vídeo. Boa prática!\n",
        "\n",
        "---\n",
        "\n",
        "## **1. Concatenando Strings**\n",
        "\n",
        "**Descrição:**\n",
        "\n",
        "Crie duas variáveis, `nome` e `sobrenome`, que armazenem seu nome e sobrenome, respectivamente. Em seguida, concatene as duas variáveis para exibir seu **nome completo**.\n",
        "\n",
        "**Dicas:**\n",
        "\n",
        "- Utilize o operador `+` para concatenar strings.\n",
        "- Lembre-se de adicionar um espaço entre o nome e o sobrenome.\n",
        "\n",
        "---\n",
        "\n",
        "## **2. Formatação de Strings com `format()`**\n",
        "\n",
        "**Descrição:**\n",
        "\n",
        "Escreva um programa que receba o nome de uma pessoa e sua idade, e exiba uma mensagem usando o método `format()`, como:\n",
        "\n",
        "```\n",
        "\"Olá, meu nome é [nome] e tenho [idade] anos.\"\n",
        "```\n",
        "\n",
        "**Dicas:**\n",
        "\n",
        "- Utilize placeholders `{}` na string e substitua-os com o método `.format(nome, idade)`.\n",
        "\n",
        "---\n",
        "\n",
        "## **3. Utilizando F-Strings**\n",
        "\n",
        "**Descrição:**\n",
        "\n",
        "Reescreva o programa do exercício anterior, mas desta vez utilizando **f-strings** para formatar a mensagem.\n",
        "\n",
        "**Dicas:**\n",
        "\n",
        "- Coloque o `f` antes das aspas da string.\n",
        "- Use `{variavel}` dentro da string para inserir valores.\n",
        "\n",
        "---\n",
        "\n",
        "## **4. Manipulando o Caso das Letras**\n",
        "\n",
        "**Descrição:**\n",
        "\n",
        "Peça ao usuário para inserir uma frase. Em seguida, exiba:\n",
        "\n",
        "- A frase em **letras maiúsculas**.\n",
        "- A frase em **letras minúsculas**.\n",
        "- A frase com a **primeira letra de cada palavra em maiúscula**.\n",
        "\n",
        "**Dicas:**\n",
        "\n",
        "- Utilize os métodos `upper()`, `lower()` e `title()`.\n",
        "\n",
        "---\n",
        "\n",
        "## **5. Verificando Palíndromos**\n",
        "\n",
        "**Descrição:**\n",
        "\n",
        "Escreva um programa que verifica se uma palavra é um **palíndromo** (palavra que se lê da mesma forma de trás para frente).\n",
        "\n",
        "**Dicas:**\n",
        "\n",
        "- Obtenha a palavra do usuário.\n",
        "- Compare a palavra com sua versão invertida usando fatiamento `[:: -1]`.\n",
        "\n",
        "---\n",
        "\n",
        "## **6. Contando Caracteres e Palavras**\n",
        "\n",
        "**Descrição:**\n",
        "\n",
        "Peça ao usuário para inserir uma frase e informe:\n",
        "\n",
        "- O **número total de caracteres** (incluindo espaços).\n",
        "- O **número total de caracteres** (sem contar espaços).\n",
        "- O **número de palavras** na frase.\n",
        "\n",
        "**Dicas:**\n",
        "\n",
        "- Utilize `len(string)` para contar caracteres.\n",
        "- Remova espaços com `replace(\" \", \"\")` para contar caracteres sem espaços.\n",
        "- Divida a frase em palavras com `split()` e conte com `len()`.\n",
        "\n",
        "---\n",
        "\n",
        "## **7. Substituindo Caracteres**\n",
        "\n",
        "**Descrição:**\n",
        "\n",
        "Crie um programa que substitua todas as **vogais** em uma frase por asteriscos `*`.\n",
        "\n",
        "**Dicas:**\n",
        "\n",
        "- Utilize o método `replace()` em um loop para cada vogal.\n",
        "- Alternativamente, use expressões regulares com o módulo `re`.\n",
        "\n",
        "---\n",
        "\n",
        "## **8. Extraindo Substrings**\n",
        "\n",
        "**Descrição:**\n",
        "\n",
        "Peça ao usuário para inserir um **endereço de e-mail** e extraia o **nome de usuário** (parte antes do `@`) e o **domínio** (parte após o `@`).\n",
        "\n",
        "**Dicas:**\n",
        "\n",
        "- Utilize o método `split(\"@\")` para dividir o e-mail.\n",
        "- Armazene as partes em variáveis separadas.\n",
        "\n",
        "---\n",
        "\n",
        "## **9. Invertendo a Ordem das Palavras**\n",
        "\n",
        "**Descrição:**\n",
        "\n",
        "Solicite ao usuário uma frase e exiba a frase com a **ordem das palavras invertida**.\n",
        "\n",
        "**Exemplo:**\n",
        "\n",
        "- **Entrada:** \"Eu amo Python\"\n",
        "- **Saída:** \"Python amo Eu\"\n",
        "\n",
        "**Dicas:**\n",
        "\n",
        "- Use `split()` para separar as palavras em uma lista.\n",
        "- Inverta a lista com `[::-1]` ou o método `.reverse()`.\n",
        "- Use `join()` para recombinar as palavras em uma string.\n",
        "\n",
        "---\n",
        "\n",
        "## **10. Verificando Prefixos e Sufixos**\n",
        "\n",
        "**Descrição:**\n",
        "\n",
        "Peça ao usuário para inserir uma palavra e verifique:\n",
        "\n",
        "- Se a palavra **começa** com a letra **\"a\"** (maiúscula ou minúscula).\n",
        "- Se a palavra **termina** com **\"z\"** (maiúscula ou minúscula).\n",
        "\n",
        "Exiba mensagens apropriadas para cada caso.\n",
        "\n",
        "**Dicas:**\n",
        "\n",
        "- Utilize os métodos `lower()` ou `casefold()` para normalizar a palavra.\n",
        "- Use `startswith()` e `endswith()` para verificar o prefixo e sufixo.\n"
      ]
    },
    {
      "cell_type": "markdown",
      "metadata": {
        "id": "x1TlgKY0xWB1"
      },
      "source": [
        "## Exercício 11\n",
        "Consulte a página [Python Data Type: String - Exercises, Practice, Solution](https://www.w3resource.com/python-exercises/string/) para mais exercícios relacionados á este tópico."
      ]
    },
    {
      "cell_type": "code",
      "source": [],
      "metadata": {
        "id": "EJ2gM6hCf0MR"
      },
      "execution_count": null,
      "outputs": []
    }
  ]
}