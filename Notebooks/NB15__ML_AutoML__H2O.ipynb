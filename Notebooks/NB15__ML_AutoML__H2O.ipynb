{
  "nbformat": 4,
  "nbformat_minor": 0,
  "metadata": {
    "colab": {
      "name": "NB15__ML_AutoML__H2O.ipynb",
      "private_outputs": true,
      "provenance": [],
      "authorship_tag": "ABX9TyMx7ANf2+lkx/oTryn1YmTc",
      "include_colab_link": true
    },
    "kernelspec": {
      "name": "python3",
      "display_name": "Python 3"
    },
    "accelerator": "TPU"
  },
  "cells": [
    {
      "cell_type": "markdown",
      "metadata": {
        "id": "view-in-github",
        "colab_type": "text"
      },
      "source": [
        "<a href=\"https://colab.research.google.com/github/MathMachado/DSWP/blob/master/Notebooks/NB15__ML_AutoML__H2O.ipynb\" target=\"_parent\"><img src=\"https://colab.research.google.com/assets/colab-badge.svg\" alt=\"Open In Colab\"/></a>"
      ]
    },
    {
      "cell_type": "markdown",
      "metadata": {
        "id": "iHqUNbLYRPFf"
      },
      "source": [
        "<center><h1><b><i>AUTOML - H2O</i></b></h1></center>\n"
      ]
    },
    {
      "cell_type": "markdown",
      "metadata": {
        "id": "fEVZxFVcXEWl"
      },
      "source": [
        "# O QUE É AUTOML?\n",
        "\n",
        "> AUTOML significa _Automated Machine Learning_, referenciando-se ao processo de automatizar o desenvolvimento dos modelos de _Machine Learning_. Como sabemos, desenvolver modelos preditivos de _Machine Learning_ envolve conhecimentos avançados dos algoritmos, linguagem de programação, Estatística e etc, além do considerável tempo para desenvolvimento. Com AutoML é possível acelerar o processo de desenvolvimento dos projetos relacionados à _Machine Learning_.\n",
        "\n",
        "A seguir, algumas características do AutoML:\n",
        "* Implementar soluções de _Machine Learning_ sem extensivo conhecimento de programação em linguagens como Python, GO, Spark e etc.;\n",
        "* Economia de tempo e recursos;\n",
        "* Desenvolvimento rápido;\n",
        "* Fácil de usar, pois a sintaxe dos comandos é muito parecida com o Pandas;\n",
        "* Muitos [algoritmos](http://docs.h2o.ai/h2o/latest-stable/h2o-docs/data-science.html)."
      ]
    },
    {
      "cell_type": "markdown",
      "metadata": {
        "id": "XL2ZP700CWo3"
      },
      "source": [
        "![AutoML](https://raw.githubusercontent.com/MathMachado/Materials/master/AutoML_Cycle.png)"
      ]
    },
    {
      "cell_type": "markdown",
      "metadata": {
        "id": "tMIRbRjraqPW"
      },
      "source": [
        "# O QUE É H2O?\n",
        "\n",
        "> H2O é um AutoML produzido pela H2O.ai, empresa que tem por objetivo tornar _Machine Learning_ acessível à todos. A seguir, algumas razões para considerar h2o:\n",
        "\n",
        "1. A empresa tem hoje uma comunidade de Cientistas de Dados que conta com mais de 129.000 membros e atende mais da metade das empresas da Fortune 500;\n",
        "2. A empresa divulgou que houve um aumento de usuários na ordem dos 330% nos últimos 2 anos!\n",
        "3. O AutoML H2O suporta os algoritmos de Machine Learning mais usados para AutoML.\n",
        "4. Há Kaggle Grandmaster usando H2O nas competições do [Kaggle](https://www.kaggle.com/) e o melhor de tudo é que as soluções usando H2O estão bem ranqueadas no _leaderboard_. Isso significa que o H2O fornece ótimos resultados/modelos!\n",
        "5. A empresa H2O.ai está no quadrante visionário do Garther para Ciência de Dados e Machine Learning, como você pode ver na figura adiante:\n",
        "\n",
        "![](https://raw.githubusercontent.com/MathMachado/Materials/master/Gartner_DataScienceTools.png)\n",
        "\n",
        "Fonte: [Gartner’s 2020 Magic Quadrant For Data Science And Machine Learning Platforms Has Many Surprises](https://www.forbes.com/sites/janakirammsv/2020/02/20/gartners-2020-magic-quadrant-for-data-science-and-machine-learning-platforms-has-many-surprises/#3d8e24e03f55)."
      ]
    },
    {
      "cell_type": "markdown",
      "metadata": {
        "id": "q03FBYrmWgn4"
      },
      "source": [
        "# REFERÊNCIAS\n",
        "\n",
        "* [A Deep dive into H2O’s AutoML](https://towardsdatascience.com/a-deep-dive-into-h2os-automl-4b1fe51d3f3e);\n",
        "* [Gentle Introduction to AutoML from H2O.ai](https://medium.com/analytics-vidhya/gentle-introduction-to-automl-from-h2o-ai-a42b393b4ba2)\n",
        "* [Introduction to H2O.ai](https://medium.com/@jamal.robinson/introduction-to-h2o-ai-1ba51a884f02);\n",
        "* [Democratising Machine learning with H2O](https://towardsdatascience.com/democratising-machine-learning-with-h2o-7f2f79e10e3f)."
      ]
    },
    {
      "cell_type": "markdown",
      "metadata": {
        "id": "Sm7Ryi4lRW6V"
      },
      "source": [
        "[**Python**] - Instalar o h2o:"
      ]
    },
    {
      "cell_type": "code",
      "metadata": {
        "id": "u4muzZcXsxw8"
      },
      "source": [
        "!pip install h2o"
      ],
      "execution_count": null,
      "outputs": []
    },
    {
      "cell_type": "markdown",
      "metadata": {
        "id": "GeOOKrRddaY8"
      },
      "source": [
        "# **EXEMPLO 1 - Estimar o tipo do vinho**\n",
        "\n",
        "> Nesta aplicação, vamos usar o dataframe [wine quality](https://archive.ics.uci.edu/ml/datasets/wine+quality) extraído do repositório da UCI Machine Learning Repository. Nosso objetivo é prever o tipo do vinho baseado nas suas propriedades químicas do produto.\n",
        "\n"
      ]
    },
    {
      "cell_type": "markdown",
      "metadata": {
        "id": "aJelwz0YRgWE"
      },
      "source": [
        "[**Python**] - Carregar h2o:"
      ]
    },
    {
      "cell_type": "code",
      "metadata": {
        "id": "rx7V_aNhtztC"
      },
      "source": [
        "import h2o\n",
        "from h2o.automl import H2OAutoML\n",
        "\n",
        "from h2o.estimators.glm import H2OGeneralizedLinearEstimator\n",
        "from h2o.estimators.gbm import H2OGradientBoostingEstimator\n",
        "from h2o.estimators.random_forest import H2ORandomForestEstimator"
      ],
      "execution_count": null,
      "outputs": []
    },
    {
      "cell_type": "markdown",
      "metadata": {
        "id": "lW2lITwsSHiI"
      },
      "source": [
        "[**Python**] - Inicializar o h2o:"
      ]
    },
    {
      "cell_type": "code",
      "metadata": {
        "id": "7HehiDKLSKRF"
      },
      "source": [
        "h2o.init()"
      ],
      "execution_count": null,
      "outputs": []
    },
    {
      "cell_type": "markdown",
      "metadata": {
        "id": "1JM13ee6eaiY"
      },
      "source": [
        "[**Python**] - Carregar os dados\n",
        "\n",
        "> Observe abaixo que a forma de carregar os dados é semelhante ao Pandas. No entanto, vale lembrar que os dados estão armazenados na memória como um H2OFrame."
      ]
    },
    {
      "cell_type": "markdown",
      "metadata": {
        "id": "VuG8zbYS4jyx"
      },
      "source": [
        "### 0. Carregar bibliotecas do Python"
      ]
    },
    {
      "cell_type": "markdown",
      "metadata": {
        "id": "O3XD4otFd9Ht"
      },
      "source": [
        "[**Python**] - Importar as bibliotecas necessárias:"
      ]
    },
    {
      "cell_type": "code",
      "metadata": {
        "id": "I5Ok5fhid9Hv"
      },
      "source": [
        "import numpy as np\n",
        "import pandas as pd\n",
        "import matplotlib.pyplot as plt\n",
        "import seaborn as sns\n",
        "from sklearn.metrics import confusion_matrix\n",
        "import tensorflow as tf\n",
        "\n",
        "from tensorflow import keras"
      ],
      "execution_count": null,
      "outputs": []
    },
    {
      "cell_type": "markdown",
      "metadata": {
        "id": "cGxW2zn6q8xY"
      },
      "source": [
        "[**Python**] - Verificar a versão do Tensorflow\n",
        "> Assegurar que está a utilizar a versão 2.x."
      ]
    },
    {
      "cell_type": "code",
      "metadata": {
        "id": "C36Z6vGD4jy8"
      },
      "source": [
        "tf.__version__"
      ],
      "execution_count": null,
      "outputs": []
    },
    {
      "cell_type": "markdown",
      "metadata": {
        "id": "ZBXRTgnCd9Hz"
      },
      "source": [
        "[**Python**] - Definir o número de casas decimais"
      ]
    },
    {
      "cell_type": "code",
      "metadata": {
        "id": "NFrOyNUgd9Hz"
      },
      "source": [
        "np.set_printoptions(precision= 3)"
      ],
      "execution_count": null,
      "outputs": []
    },
    {
      "cell_type": "markdown",
      "metadata": {
        "id": "kWJXP5diof5G"
      },
      "source": [
        "### 1. Carregar os dados"
      ]
    },
    {
      "cell_type": "markdown",
      "metadata": {
        "id": "IJJe4r_ITDzv"
      },
      "source": [
        "[**Python**] - Carregar os dados:"
      ]
    },
    {
      "cell_type": "code",
      "metadata": {
        "id": "5iU33wKQGrFb"
      },
      "source": [
        "df_Red= pd.read_table(\"http://archive.ics.uci.edu/ml/machine-learning-databases/wine-quality/winequality-red.csv\", sep=';')\n",
        "df_Red.head()"
      ],
      "execution_count": null,
      "outputs": []
    },
    {
      "cell_type": "code",
      "metadata": {
        "id": "Liy2KSr6HJUX"
      },
      "source": [
        "df_White= pd.read_table('http://archive.ics.uci.edu/ml/machine-learning-databases/wine-quality/winequality-white.csv', sep= ';')\n",
        "df_White.head()"
      ],
      "execution_count": null,
      "outputs": []
    },
    {
      "cell_type": "markdown",
      "metadata": {
        "id": "4TzUnuM4TMmJ"
      },
      "source": [
        "[**Python**] - Mostrar o número de linhas e colunas de cada dataframe:"
      ]
    },
    {
      "cell_type": "code",
      "metadata": {
        "id": "pHNwVRQyIwdv"
      },
      "source": [
        "print(f'Dimensão de df_Red: {df_Red.shape}; Dimensão de df_White: {df_White.shape}')"
      ],
      "execution_count": null,
      "outputs": []
    },
    {
      "cell_type": "markdown",
      "metadata": {
        "id": "tBWzMsUHJjTU"
      },
      "source": [
        "[**Python**] - Construir a variável 'type_wine' (tipo do vinho):"
      ]
    },
    {
      "cell_type": "code",
      "metadata": {
        "id": "B0WmX3FYJqMR"
      },
      "source": [
        "df_Red['type_wine']= 0\n",
        "df_White['type_wine']= 1"
      ],
      "execution_count": null,
      "outputs": []
    },
    {
      "cell_type": "markdown",
      "metadata": {
        "id": "Y2YOVjAOjd_K"
      },
      "source": [
        "[**Python**] - Empilhar os dois dataframes: df_Red e df_White:"
      ]
    },
    {
      "cell_type": "code",
      "metadata": {
        "id": "m6QirCd9jd_L"
      },
      "source": [
        "df_Wine= pd.concat([df_Red, df_White], ignore_index=True)\n",
        "df_Wine.head()"
      ],
      "execution_count": null,
      "outputs": []
    },
    {
      "cell_type": "code",
      "metadata": {
        "id": "dM19HHENKMtq"
      },
      "source": [
        "df_Wine.tail()"
      ],
      "execution_count": null,
      "outputs": []
    },
    {
      "cell_type": "markdown",
      "metadata": {
        "id": "mpoNmcqpeQxO"
      },
      "source": [
        "[**Python**] - Mostrar o número de linhas e colunas do dataframe df_Wine:"
      ]
    },
    {
      "cell_type": "code",
      "metadata": {
        "id": "YJDazoMMeMet"
      },
      "source": [
        "df_Wine.shape"
      ],
      "execution_count": null,
      "outputs": []
    },
    {
      "cell_type": "markdown",
      "metadata": {
        "id": "tNyjXmFzo7oe"
      },
      "source": [
        "### 2. Pré-processamento e transformação dos dados"
      ]
    },
    {
      "cell_type": "markdown",
      "metadata": {
        "id": "xcV_dlHsTpiP"
      },
      "source": [
        "[**Python**] - Renomear o nome das colunas usando letras minúsculas:"
      ]
    },
    {
      "cell_type": "code",
      "metadata": {
        "id": "Jau2OybudGc0"
      },
      "source": [
        "df_Wine.columns = df_Wine.columns.str.strip().str.lower().str.replace(' ', '_')"
      ],
      "execution_count": null,
      "outputs": []
    },
    {
      "cell_type": "code",
      "metadata": {
        "id": "EzOWiaCFdq_C"
      },
      "source": [
        "df_Wine.head()"
      ],
      "execution_count": null,
      "outputs": []
    },
    {
      "cell_type": "markdown",
      "metadata": {
        "id": "magY-unPj1X1"
      },
      "source": [
        "[**Python**] - Passar o dataframe df_Wine ao H2O:"
      ]
    },
    {
      "cell_type": "code",
      "metadata": {
        "id": "F4WCj5DfjqSR"
      },
      "source": [
        "Wine= h2o.H2OFrame(df_Wine)\n",
        "Wine.head()"
      ],
      "execution_count": null,
      "outputs": []
    },
    {
      "cell_type": "markdown",
      "metadata": {
        "id": "fIw4ojXOPYja"
      },
      "source": [
        "Este é um problema de classificação. Portanto, devemos definir a variável-target como uma classe.\n",
        "\n",
        "[**Python**] - Definir a variável-target como classe:"
      ]
    },
    {
      "cell_type": "code",
      "metadata": {
        "id": "0ChwVaTgPYje"
      },
      "source": [
        "Wine['type_wine']= Wine['type_wine'].asfactor()"
      ],
      "execution_count": null,
      "outputs": []
    },
    {
      "cell_type": "markdown",
      "metadata": {
        "id": "blzHcdNRjmev"
      },
      "source": [
        "[**Python**] - Definir as amostras de treinamento e validação:"
      ]
    },
    {
      "cell_type": "code",
      "metadata": {
        "id": "vBCUR1KckgBb"
      },
      "source": [
        "# Selecionar aleatoriamente 90% dos dados para a amostra de treinamento e 10% para a amostra de validação:\n",
        "Wine_Treinamento, Wine_Teste= Wine.split_frame(ratios=[0.9], seed= 20111974)"
      ],
      "execution_count": null,
      "outputs": []
    },
    {
      "cell_type": "markdown",
      "metadata": {
        "id": "gcdpoURXlL1u"
      },
      "source": [
        "[**Python**] - Mostrar os tamanhos das amostras de validação e treinamento:"
      ]
    },
    {
      "cell_type": "code",
      "metadata": {
        "id": "FN2Tg6J1lPu_"
      },
      "source": [
        "print(Wine_Treinamento.shape, Wine_Teste.shape)"
      ],
      "execution_count": null,
      "outputs": []
    },
    {
      "cell_type": "markdown",
      "metadata": {
        "id": "H2YMz8ThlxFi"
      },
      "source": [
        "[**Python**] - Definir as variáveis preditoras:"
      ]
    },
    {
      "cell_type": "code",
      "metadata": {
        "id": "ZBqFnZV3l0RP"
      },
      "source": [
        "preditoras= list(Wine_Treinamento.columns)\n",
        "target= \"type_wine\" \n",
        "preditoras.remove(target)\n",
        "preditoras"
      ],
      "execution_count": null,
      "outputs": []
    },
    {
      "cell_type": "markdown",
      "metadata": {
        "id": "RkadiLEr7YKk"
      },
      "source": [
        "[**Python**] - Vamos começar com o modelo queridinho dos Kaggle Grandmasters: GBM (Gradient Boosting Machines):"
      ]
    },
    {
      "cell_type": "code",
      "metadata": {
        "id": "0WNnP4gq7g7N"
      },
      "source": [
        "gbm= H2OGradientBoostingEstimator()\n",
        "gbm.train(x= preditoras, y= target, training_frame= Wine_Treinamento)"
      ],
      "execution_count": null,
      "outputs": []
    },
    {
      "cell_type": "markdown",
      "metadata": {
        "id": "YahLuvpf7s7f"
      },
      "source": [
        "[**Python**] - Vamos ver o resultado (que modelo o algoritmo nos recomenda):"
      ]
    },
    {
      "cell_type": "code",
      "metadata": {
        "id": "JDaD-Y7M7z66"
      },
      "source": [
        "print(gbm)"
      ],
      "execution_count": null,
      "outputs": []
    },
    {
      "cell_type": "markdown",
      "metadata": {
        "id": "Cuk0oo8m8ONd"
      },
      "source": [
        "Muitas métricas para avaliarmos a performance do modelo. Foco nas métricas a seguir:\n",
        "\n",
        "[**Python**] - Métricas para avaliar a performance do GBM:"
      ]
    },
    {
      "cell_type": "code",
      "metadata": {
        "id": "uh_U0mp18Zr_"
      },
      "source": [
        "perf= gbm.model_performance(Wine_Teste)\n",
        "print(perf)"
      ],
      "execution_count": null,
      "outputs": []
    },
    {
      "cell_type": "markdown",
      "metadata": {
        "id": "aXP93EERnR9O"
      },
      "source": [
        "[**Python**] - Configurar o AutoML:"
      ]
    },
    {
      "cell_type": "code",
      "metadata": {
        "id": "hiMhQEyNnUgV"
      },
      "source": [
        "h2o_Wine= H2OAutoML(max_models= 10, max_runtime_secs = 300, seed = 20111974)\n",
        "h2o_Wine.train(x= preditoras, y= target, training_frame= Wine_Treinamento)"
      ],
      "execution_count": null,
      "outputs": []
    },
    {
      "cell_type": "markdown",
      "metadata": {
        "id": "KSsnFD5XswQP"
      },
      "source": [
        "[**Python**] - Mostrar o leaderborder, que é a tabela com os modelos ajustados ao dataframe:"
      ]
    },
    {
      "cell_type": "code",
      "metadata": {
        "id": "IkXSqafossPj"
      },
      "source": [
        "Leader_Board= h2o_Wine.leaderboard\n",
        "Leader_Board.head()"
      ],
      "execution_count": null,
      "outputs": []
    },
    {
      "cell_type": "markdown",
      "metadata": {
        "id": "s74fNlPL_Mn4"
      },
      "source": [
        "Como você pode ver no Leaderboarder, o AutoML ajustou vários modelos, incluindo GBM e XGBoost. De fato, GBM é o melhor modelo para este dataframe."
      ]
    },
    {
      "cell_type": "markdown",
      "metadata": {
        "id": "q2sllwINs-69"
      },
      "source": [
        "[**Python**] - Mostrar a performance do modelo na amostra de validação:"
      ]
    },
    {
      "cell_type": "code",
      "metadata": {
        "id": "gIkQ4FaNtF-m"
      },
      "source": [
        "h2o_Wine.leader.model_performance(Wine_Teste)"
      ],
      "execution_count": null,
      "outputs": []
    },
    {
      "cell_type": "markdown",
      "metadata": {
        "id": "kyd2GH1itMrA"
      },
      "source": [
        "[**Python**] - Predições com o modelo vencedor"
      ]
    },
    {
      "cell_type": "code",
      "metadata": {
        "id": "-eOxuzcRtYkb"
      },
      "source": [
        "Y_Predito= h2o_Wine.leader.predict(Wine_Teste)\n",
        "Y_Predito"
      ],
      "execution_count": null,
      "outputs": []
    },
    {
      "cell_type": "markdown",
      "metadata": {
        "id": "H_mrjGYmSEb7"
      },
      "source": [
        "[**Python**] - Compare os resultados:"
      ]
    },
    {
      "cell_type": "code",
      "metadata": {
        "id": "1HWbOdQ1R-MD"
      },
      "source": [
        "Wine_Teste"
      ],
      "execution_count": null,
      "outputs": []
    },
    {
      "cell_type": "markdown",
      "metadata": {
        "id": "fkILYwWB4ktg"
      },
      "source": [
        "[**Python**] - Mostrar todos os parâmetros do modelo campeão:"
      ]
    },
    {
      "cell_type": "code",
      "metadata": {
        "id": "o_GQ6lu24ktm"
      },
      "source": [
        "ID_Modelo_Campeao= h2o_Wine.leader.model_id\n",
        "ID_Modelo_Campeao"
      ],
      "execution_count": null,
      "outputs": []
    },
    {
      "cell_type": "code",
      "metadata": {
        "id": "NnmfKazJ4ktz"
      },
      "source": [
        "Modelo_Parametros= h2o.get_model(ID_Modelo_Campeao)\n",
        "Modelo_Parametros.params"
      ],
      "execution_count": null,
      "outputs": []
    },
    {
      "cell_type": "markdown",
      "metadata": {
        "id": "dR-1Uo7o0kcR"
      },
      "source": [
        "[**Python**] - Desligar o cluster h2o:"
      ]
    },
    {
      "cell_type": "code",
      "metadata": {
        "id": "qj29qM8l0olO"
      },
      "source": [
        "h2o.cluster().shutdown()"
      ],
      "execution_count": null,
      "outputs": []
    },
    {
      "cell_type": "markdown",
      "metadata": {
        "id": "FolUDeUNwCcY"
      },
      "source": [
        "# **EXEMPLO 2: Distinguir cédulas verdadeiras das falsas**\n",
        "\n",
        "O exemplo a seguir foi extraído do site [OpenML](https://www.openml.org/home). Este é um problema interessante, que é o de distinguir cédulas verdadeiras de notas falsas. Os dados foram extraídos de imagens tiradas de cédulas verdadeiras e falsas. Para digitalização, foi usada uma câmera industrial normalmente usada para inspeção de impressão. As imagens finais têm 400x 400 pixels. Devido à lente do objeto e à distância do objeto investigado, foram obtidas imagens em escala de cinza com uma resolução de cerca de 660 dpi. Uma ferramenta Wavelet Transform foi usada para extrair recursos dessas imagens.\n",
        "\n",
        "* Este é o endereço do dataframe: https://www.openml.org/d/1462;\n",
        "* Descrição das variáveis - [banknote authentication Data Set](https://archive.ics.uci.edu/ml/datasets/banknote+authentication).\n"
      ]
    },
    {
      "cell_type": "markdown",
      "metadata": {
        "id": "Czv3-40S0fuG"
      },
      "source": [
        "[**Python**] - Carregar h2o:"
      ]
    },
    {
      "cell_type": "code",
      "metadata": {
        "id": "r6qLEzcj0fuQ"
      },
      "source": [
        "import h2o\n",
        "from h2o.automl import H2OAutoML"
      ],
      "execution_count": null,
      "outputs": []
    },
    {
      "cell_type": "markdown",
      "metadata": {
        "id": "pL7XgKEK0fue"
      },
      "source": [
        "[**Python**] - Inicializar o h2o:"
      ]
    },
    {
      "cell_type": "code",
      "metadata": {
        "id": "Jsv-5E1H0fug"
      },
      "source": [
        "h2o.init()"
      ],
      "execution_count": null,
      "outputs": []
    },
    {
      "cell_type": "markdown",
      "metadata": {
        "id": "gfqY4twKRbNd"
      },
      "source": [
        "[**Python**] - Carregar os dados"
      ]
    },
    {
      "cell_type": "code",
      "metadata": {
        "id": "xtsw4-Ait5Or"
      },
      "source": [
        "Notas= h2o.import_file('https://raw.githubusercontent.com/MathMachado/DataFrames/master/Banknote-authentication-dataset.csv')\n",
        "Notas.summary()"
      ],
      "execution_count": null,
      "outputs": []
    },
    {
      "cell_type": "markdown",
      "metadata": {
        "id": "5CtdKYMbwO7e"
      },
      "source": [
        "Este é um problema de classificação. Portanto, devemos definir a variável-target como uma classe.\n",
        "\n",
        "[**Python**] - Definir a variável-target como classe:"
      ]
    },
    {
      "cell_type": "code",
      "metadata": {
        "id": "E-02F3gFuHBT"
      },
      "source": [
        "Notas['Class']= Notas['Class'].asfactor()"
      ],
      "execution_count": null,
      "outputs": []
    },
    {
      "cell_type": "markdown",
      "metadata": {
        "id": "zJldxaU1RlL9"
      },
      "source": [
        "[**Python**] - Definir as amostras de treinamento e validação dos modelos preditivos:"
      ]
    },
    {
      "cell_type": "code",
      "metadata": {
        "id": "6vKbYB9euHuc"
      },
      "source": [
        "Notas_Treinamento, Notas_Teste= Notas.split_frame(ratios=[0.9], seed= 20111974)"
      ],
      "execution_count": null,
      "outputs": []
    },
    {
      "cell_type": "markdown",
      "metadata": {
        "id": "qkmDAT5-04rL"
      },
      "source": [
        "[**Python**] - Mostrar os tamanhos das amostras de validação e treinamento:"
      ]
    },
    {
      "cell_type": "code",
      "metadata": {
        "id": "2y3c7U6T04rS"
      },
      "source": [
        "print(Notas_Treinamento.shape, Notas_Teste.shape)"
      ],
      "execution_count": null,
      "outputs": []
    },
    {
      "cell_type": "markdown",
      "metadata": {
        "id": "BjkkriuJw7Yi"
      },
      "source": [
        "[**Python**] - Definir as variáveis preditoras e target:"
      ]
    },
    {
      "cell_type": "code",
      "metadata": {
        "id": "6iSAanoruH10"
      },
      "source": [
        "preditoras= list(Notas_Treinamento.columns)\n",
        "target= \"Class\"\n",
        "preditoras.remove(target)\n",
        "preditoras"
      ],
      "execution_count": null,
      "outputs": []
    },
    {
      "cell_type": "markdown",
      "metadata": {
        "id": "5-PCDczPxLl5"
      },
      "source": [
        "[**Python**] - Configuração do AutoML:"
      ]
    },
    {
      "cell_type": "code",
      "metadata": {
        "id": "r3W5RhQ0uH99"
      },
      "source": [
        "h2o_Notas = H2OAutoML(max_models= 10, max_runtime_secs = 300, seed= 20111974)\n",
        "h2o_Notas.train(x= preditoras, y= target, training_frame= Notas_Treinamento)"
      ],
      "execution_count": null,
      "outputs": []
    },
    {
      "cell_type": "markdown",
      "metadata": {
        "id": "EcZTHTcCxXi4"
      },
      "source": [
        "[**Python**] - Listar os modelos candidatos:"
      ]
    },
    {
      "cell_type": "code",
      "metadata": {
        "id": "RU8R1HVvuH7w"
      },
      "source": [
        "Leader_Board= h2o_Notas.leaderboard\n",
        "Leader_Board.head()"
      ],
      "execution_count": null,
      "outputs": []
    },
    {
      "cell_type": "markdown",
      "metadata": {
        "id": "EGxUYYur_9yj"
      },
      "source": [
        "[**Python**] - Mostrar a performance do modelo na amostra de treinamento:"
      ]
    },
    {
      "cell_type": "code",
      "metadata": {
        "id": "6wRc8TI4ABkB"
      },
      "source": [
        "h2o_Notas.leader.model_performance(Notas_Treinamento)"
      ],
      "execution_count": null,
      "outputs": []
    },
    {
      "cell_type": "markdown",
      "metadata": {
        "id": "x_Iwtf0yxanA"
      },
      "source": [
        "[**Python**] - Mostrar a performance do modelo na amostra de validação"
      ]
    },
    {
      "cell_type": "code",
      "metadata": {
        "id": "Gd4uiMCuuHzt"
      },
      "source": [
        "h2o_Notas.leader.model_performance(Notas_Teste)"
      ],
      "execution_count": null,
      "outputs": []
    },
    {
      "cell_type": "markdown",
      "metadata": {
        "id": "1jtGLKKXxfGZ"
      },
      "source": [
        "[**Python**] - Fazer predições/estimativas com o modelo campeão:"
      ]
    },
    {
      "cell_type": "code",
      "metadata": {
        "id": "T_FN1WNcxiIW"
      },
      "source": [
        "Y_Predito= h2o_Notas.leader.predict(Notas_Teste)\n",
        "Y_Predito"
      ],
      "execution_count": null,
      "outputs": []
    },
    {
      "cell_type": "markdown",
      "metadata": {
        "id": "VuErjPCK4aBF"
      },
      "source": [
        "[**Python**] - Mostrar todos os parâmetros do modelo campeão:"
      ]
    },
    {
      "cell_type": "code",
      "metadata": {
        "id": "4myn5vaXuokH"
      },
      "source": [
        "ID_Modelo_Campeao= h2o_Notas.leader.model_id\n",
        "ID_Modelo_Campeao"
      ],
      "execution_count": null,
      "outputs": []
    },
    {
      "cell_type": "code",
      "metadata": {
        "id": "U9csfFqcvBla"
      },
      "source": [
        "Modelo_Parametros= h2o.get_model(ID_Modelo_Campeao)\n",
        "Modelo_Parametros.params"
      ],
      "execution_count": null,
      "outputs": []
    },
    {
      "cell_type": "markdown",
      "metadata": {
        "id": "2m_lzt-T4pM5"
      },
      "source": [
        "[**Python**] - Desligar o cluster h2o:"
      ]
    },
    {
      "cell_type": "code",
      "metadata": {
        "id": "-EPBfN_BvF-U"
      },
      "source": [
        "h2o.cluster().shutdown()"
      ],
      "execution_count": null,
      "outputs": []
    },
    {
      "cell_type": "markdown",
      "metadata": {
        "id": "TSeoBa4n1gIl"
      },
      "source": [
        "# **EXEMPLO 3 - Estimar a espécie de flores (Iris dataframe)**\n",
        "\n",
        "![Iris](https://raw.githubusercontent.com/MathMachado/Materials/master/Iris.png)\n",
        "\n",
        "Fonte: [Data Science Example - Iris dataset](http://www.lac.inpe.br/~rafael.santos/Docs/CAP394/WholeStory-Iris.html).\n",
        "\n",
        "Fonte dos dados: [Iris Data Set](http://archive.ics.uci.edu/ml/datasets/Iris)\n",
        "\n",
        "* Atributos:\n",
        "    1. sepal length in cm (comprimento da sepal);\n",
        "    2. sepal width in cm (largura da sepal);\n",
        "    3. petal length in cm (comprimento da pétala);\n",
        "    4. petal width in cm  (largura da pétala)."
      ]
    },
    {
      "cell_type": "markdown",
      "metadata": {
        "id": "ye8EeAiu40CK"
      },
      "source": [
        "[**Python**] - Carregar h2o:"
      ]
    },
    {
      "cell_type": "code",
      "metadata": {
        "id": "9Q19bI-w40CP"
      },
      "source": [
        "import h2o\n",
        "from h2o.automl import H2OAutoML"
      ],
      "execution_count": null,
      "outputs": []
    },
    {
      "cell_type": "markdown",
      "metadata": {
        "id": "rT9hbAnB40Cb"
      },
      "source": [
        "[**Python**] - Inicializar o h2o:"
      ]
    },
    {
      "cell_type": "code",
      "metadata": {
        "id": "Dq9RxgEs40Cc"
      },
      "source": [
        "h2o.init()"
      ],
      "execution_count": null,
      "outputs": []
    },
    {
      "cell_type": "markdown",
      "metadata": {
        "id": "ov4p-g6_40Cl"
      },
      "source": [
        "[**Python**] - Carregar os dados"
      ]
    },
    {
      "cell_type": "code",
      "metadata": {
        "id": "JkbDXYkd40Co"
      },
      "source": [
        "Iris= h2o.import_file('https://raw.githubusercontent.com/MathMachado/DataFrames/master/Iris.csv')\n",
        "Iris.summary()"
      ],
      "execution_count": null,
      "outputs": []
    },
    {
      "cell_type": "markdown",
      "metadata": {
        "id": "A-4vzIOD40Cv"
      },
      "source": [
        "Este é um problema de classificação. Portanto, devemos definir a variável-target como uma classe.\n",
        "\n",
        "[**Python**] - Definir a variável-target como classe:"
      ]
    },
    {
      "cell_type": "code",
      "metadata": {
        "id": "DpKXhVmL40Cw"
      },
      "source": [
        "Iris['Species']= Iris['Species'].asfactor()"
      ],
      "execution_count": null,
      "outputs": []
    },
    {
      "cell_type": "markdown",
      "metadata": {
        "id": "PkBxjtBD40C4"
      },
      "source": [
        "[**Python**] - Definir as amostras de treinamento e validação dos modelos preditivos:"
      ]
    },
    {
      "cell_type": "code",
      "metadata": {
        "id": "sDtlv3l840C5"
      },
      "source": [
        "Iris_Treinamento, Iris_Teste= Iris.split_frame(ratios=[0.9])"
      ],
      "execution_count": null,
      "outputs": []
    },
    {
      "cell_type": "markdown",
      "metadata": {
        "id": "4KrJMUv740DA"
      },
      "source": [
        "[**Python**] - Mostrar os tamanhos das amostras de validação e treinamento:"
      ]
    },
    {
      "cell_type": "code",
      "metadata": {
        "id": "BTlHgwQr40DC"
      },
      "source": [
        "print(Iris_Treinamento.shape, Iris_Teste.shape)"
      ],
      "execution_count": null,
      "outputs": []
    },
    {
      "cell_type": "markdown",
      "metadata": {
        "id": "WOmCBA5U40DH"
      },
      "source": [
        "[**Python**] - Definir as variáveis preditoras e target:"
      ]
    },
    {
      "cell_type": "code",
      "metadata": {
        "id": "u6udLSV740DJ"
      },
      "source": [
        "preditoras= list(Iris_Treinamento.columns)\n",
        "target= \"Species\"\n",
        "preditoras.remove(target)\n",
        "preditoras.remove('\\ufeffId')\n",
        "preditoras"
      ],
      "execution_count": null,
      "outputs": []
    },
    {
      "cell_type": "markdown",
      "metadata": {
        "id": "dgyC7OL_40DP"
      },
      "source": [
        "[**Python**] - Configuração do AutoML:"
      ]
    },
    {
      "cell_type": "code",
      "metadata": {
        "id": "T3t0TLg640DR"
      },
      "source": [
        "h2o_Iris= H2OAutoML(max_models= 10, max_runtime_secs = 300, seed= 20111974)\n",
        "h2o_Iris.train(x= preditoras, y= target, training_frame= Iris_Treinamento)"
      ],
      "execution_count": null,
      "outputs": []
    },
    {
      "cell_type": "markdown",
      "metadata": {
        "id": "UlRUW_FN40DX"
      },
      "source": [
        "[**Python**] - Listar os modelos candidatos:"
      ]
    },
    {
      "cell_type": "code",
      "metadata": {
        "id": "jeBhxGkU40DZ"
      },
      "source": [
        "Leader_Board= h2o_Iris.leaderboard\n",
        "Leader_Board.head()"
      ],
      "execution_count": null,
      "outputs": []
    },
    {
      "cell_type": "markdown",
      "metadata": {
        "id": "f3f7Lodr_pA8"
      },
      "source": [
        "[**Python**] - Mostrar a performance do modelo na amostra de validação"
      ]
    },
    {
      "cell_type": "code",
      "metadata": {
        "id": "HymDXeCt40Dh"
      },
      "source": [
        "h2o_Iris.leader"
      ],
      "execution_count": null,
      "outputs": []
    },
    {
      "cell_type": "markdown",
      "metadata": {
        "id": "qSBV_lS440Dn"
      },
      "source": [
        "[**Python**] - Fazer predições/estimativas com o modelo campeão:"
      ]
    },
    {
      "cell_type": "code",
      "metadata": {
        "id": "JT6keIG840Do"
      },
      "source": [
        "Y_Predito= h2o_Iris.leader.predict(Iris_Teste)\n",
        "Y_Predito"
      ],
      "execution_count": null,
      "outputs": []
    },
    {
      "cell_type": "markdown",
      "metadata": {
        "id": "O9GBC-SAA9lr"
      },
      "source": [
        "[**Python**] - Compare os resultados acima com os valores reais do dataframe:"
      ]
    },
    {
      "cell_type": "code",
      "metadata": {
        "id": "nIGOfyB7BB8b"
      },
      "source": [
        "Iris_Teste"
      ],
      "execution_count": null,
      "outputs": []
    },
    {
      "cell_type": "markdown",
      "metadata": {
        "id": "NdyJKVhA40Dt"
      },
      "source": [
        "[**Python**] - Mostrar todos os parâmetros do modelo campeão:"
      ]
    },
    {
      "cell_type": "code",
      "metadata": {
        "id": "8lj7onuh40Du"
      },
      "source": [
        "ID_Modelo_Campeao= h2o_Iris.leader.model_id\n",
        "ID_Modelo_Campeao"
      ],
      "execution_count": null,
      "outputs": []
    },
    {
      "cell_type": "code",
      "metadata": {
        "id": "tv1JJ44w40Dz"
      },
      "source": [
        "Modelo_Parametros= h2o.get_model(ID_Modelo_Campeao)\n",
        "Modelo_Parametros.params"
      ],
      "execution_count": null,
      "outputs": []
    },
    {
      "cell_type": "markdown",
      "metadata": {
        "id": "wXnkzj_B40EC"
      },
      "source": [
        "[**Python**] - Desligar o cluster h2o:"
      ]
    },
    {
      "cell_type": "code",
      "metadata": {
        "id": "NoxRrRrU40EE"
      },
      "source": [
        "h2o.cluster().shutdown()"
      ],
      "execution_count": null,
      "outputs": []
    }
  ]
}