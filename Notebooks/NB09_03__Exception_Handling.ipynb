{
  "nbformat": 4,
  "nbformat_minor": 0,
  "metadata": {
    "colab": {
      "name": "NB09_03__Exception_Handling.ipynb",
      "provenance": [],
      "private_outputs": true,
      "include_colab_link": true
    },
    "kernelspec": {
      "name": "python3",
      "display_name": "Python 3"
    }
  },
  "cells": [
    {
      "cell_type": "markdown",
      "metadata": {
        "id": "view-in-github",
        "colab_type": "text"
      },
      "source": [
        "<a href=\"https://colab.research.google.com/github/MathMachado/DSWP/blob/master/Notebooks/NB09_03__Exception_Handling.ipynb\" target=\"_parent\"><img src=\"https://colab.research.google.com/assets/colab-badge.svg\" alt=\"Open In Colab\"/></a>"
      ]
    },
    {
      "cell_type": "markdown",
      "metadata": {
        "id": "490ccieDvpBz"
      },
      "source": [
        "<center><h1><b><i>EXCEPTION HANDLING</i></b></h1></center>\n",
        "\n",
        "\n",
        "\n",
        "# **AGENDA**:\n",
        "\n",
        "> Consulte **Table of contents**.\n",
        "\n"
      ]
    },
    {
      "cell_type": "markdown",
      "metadata": {
        "id": "7RJpaOxnGcgS"
      },
      "source": [
        "# **Notas & observações**\n",
        "* Mais exercícios."
      ]
    },
    {
      "cell_type": "markdown",
      "metadata": {
        "id": "G1TJ09R0j5Li"
      },
      "source": [
        "___\n",
        "# **Exception Handling**\n",
        "* Lidar com erros e exceções.\n"
      ]
    },
    {
      "cell_type": "markdown",
      "metadata": {
        "id": "qjH9F02rgjrG"
      },
      "source": [
        "___\n",
        "# Exemplo 1\n",
        "> Suponha que queremos somar dois números."
      ]
    },
    {
      "cell_type": "code",
      "metadata": {
        "id": "2XjnnaIWg1-h"
      },
      "source": [
        "def soma(numero1, numero2):\n",
        "    return numero1 + numero2"
      ],
      "execution_count": null,
      "outputs": []
    },
    {
      "cell_type": "code",
      "metadata": {
        "id": "Xfd5m5zlgq5c"
      },
      "source": [
        "i_numero1 = input(\"Por favor, informe o primeiro número: \")\n",
        "i_numero2 = input(\"Por favor, informe o segundo número.: \")"
      ],
      "execution_count": null,
      "outputs": []
    },
    {
      "cell_type": "code",
      "metadata": {
        "id": "eCDThdr3g8Ge"
      },
      "source": [
        "soma(i_numero1, i_numero2)"
      ],
      "execution_count": null,
      "outputs": []
    },
    {
      "cell_type": "markdown",
      "metadata": {
        "id": "4ZGimSYBhGhU"
      },
      "source": [
        "* Era esse resultado que estávamos à espera?\n",
        "* Porque isso acontece?"
      ]
    },
    {
      "cell_type": "markdown",
      "metadata": {
        "id": "9LZv6mPkhXmP"
      },
      "source": [
        "___\n",
        "# Exemplo 2\n"
      ]
    },
    {
      "cell_type": "code",
      "metadata": {
        "id": "hgpNKWIthc-D"
      },
      "source": [
        "i_numero1 = 1\n",
        "i_numero2 = '5' # Isso acontece, por exemplo, quando usamos input() para receber o número do teclado."
      ],
      "execution_count": null,
      "outputs": []
    },
    {
      "cell_type": "code",
      "metadata": {
        "id": "Qp1M0-21cJD8"
      },
      "source": [
        "type(i_numero1)"
      ],
      "execution_count": null,
      "outputs": []
    },
    {
      "cell_type": "code",
      "metadata": {
        "id": "JTKHfy-ScLYm"
      },
      "source": [
        "type(i_numero2)"
      ],
      "execution_count": null,
      "outputs": []
    },
    {
      "cell_type": "code",
      "metadata": {
        "id": "xSubYGO6hjFt"
      },
      "source": [
        "soma(i_numero1, i_numero2)"
      ],
      "execution_count": null,
      "outputs": []
    },
    {
      "cell_type": "markdown",
      "metadata": {
        "id": "vfsM9VDShsl5"
      },
      "source": [
        "Ok, agora, como esperado, temos um erro, pois estamos tentando somar um número com uma string. Como sabemos, isso não é possível."
      ]
    },
    {
      "cell_type": "markdown",
      "metadata": {
        "id": "KxZGS-r_iEFC"
      },
      "source": [
        "try:\n",
        "    # Bloco de código.\n",
        "    # Pode conter um erro.\n",
        "    \n",
        "except:\n",
        "    # O que fazer em caso de erro no bloco try\n",
        "\n",
        "else:\n",
        "    # Caso esteja tudo correto no bloco try"
      ]
    },
    {
      "cell_type": "markdown",
      "metadata": {
        "id": "aghiX2VHik2j"
      },
      "source": [
        "Vamos aplicar estes conhecimentos exatamente na função que deu erro:"
      ]
    },
    {
      "cell_type": "code",
      "metadata": {
        "id": "LVCl8N31glX2"
      },
      "source": [
        "try:\n",
        "    print(soma(i_numero1, i_numero2))\n",
        "\n",
        "except:\n",
        "    print('ERRO: Talvez você esteja somando um número com uma string!')\n",
        "\n",
        "else:\n",
        "    print('Soma realizada com sucesso!')"
      ],
      "execution_count": null,
      "outputs": []
    },
    {
      "cell_type": "code",
      "metadata": {
        "id": "CFgaXVe8i9be"
      },
      "source": [
        "i_numero1 = 2\n",
        "i_numero2 = 3"
      ],
      "execution_count": null,
      "outputs": []
    },
    {
      "cell_type": "code",
      "metadata": {
        "id": "cOslTXUwjDrH"
      },
      "source": [
        "try:\n",
        "    print(soma(i_numero1, i_numero2))\n",
        "\n",
        "except:\n",
        "    print('ERRO: Talvez você esteja somando um número com uma string!')\n",
        "    \n",
        "else:\n",
        "    print('Soma realizada com sucesso!')"
      ],
      "execution_count": null,
      "outputs": []
    },
    {
      "cell_type": "markdown",
      "metadata": {
        "id": "JUI4p9lCjYcC"
      },
      "source": [
        "___\n",
        "# Exemplo 3"
      ]
    },
    {
      "cell_type": "code",
      "metadata": {
        "id": "RiTe2eyMjaBp"
      },
      "source": [
        "i_numero1 = 1\n",
        "i_numero2 = '5' # Isso acontece, por exemplo, quando usamos input() para receber o número do teclado."
      ],
      "execution_count": null,
      "outputs": []
    },
    {
      "cell_type": "code",
      "metadata": {
        "id": "ajz1nbejjiZ2"
      },
      "source": [
        "soma(i_numero1, i_numero2)"
      ],
      "execution_count": null,
      "outputs": []
    },
    {
      "cell_type": "code",
      "metadata": {
        "id": "i1itxxkgjeM_"
      },
      "source": [
        "try:\n",
        "    print(soma(i_numero1, i_numero2))\n",
        "\n",
        "except TypeError:\n",
        "    print('ERRO: Talvez você esteja somando um número com uma string!')\n",
        "    \n",
        "else:\n",
        "    print('Soma realizada com sucesso!')"
      ],
      "execution_count": null,
      "outputs": []
    },
    {
      "cell_type": "markdown",
      "metadata": {
        "id": "bWEKewDkjoNB"
      },
      "source": [
        "* Verifique em [Built-in Exceptions](https://docs.python.org/3/library/exceptions.html#bltin-exceptions) os tipos de exceções.\n",
        "\n",
        "* Consulte o a documentação para: _exception_ TypeError."
      ]
    },
    {
      "cell_type": "markdown",
      "metadata": {
        "id": "w7M5DhRKlcwM"
      },
      "source": [
        "Ok, diante destas explicações, a melhor forma de escrever a função soma() é:"
      ]
    },
    {
      "cell_type": "code",
      "metadata": {
        "id": "eAU3UjdnliZK"
      },
      "source": [
        "def soma(numero1, numero2):\n",
        "    try:\n",
        "        return numero1 + numero2\n",
        "    except:\n",
        "        print('Algo errado com pelo menos um dos números.')"
      ],
      "execution_count": null,
      "outputs": []
    },
    {
      "cell_type": "code",
      "metadata": {
        "id": "FRZCXm7flxvo"
      },
      "source": [
        "i_numero1 = 1\n",
        "i_numero2 = '5' # Isso acontece, por exemplo, quando usamos input() para receber o número do teclado.\n",
        "soma(i_numero1, i_numero2)"
      ],
      "execution_count": null,
      "outputs": []
    },
    {
      "cell_type": "code",
      "metadata": {
        "id": "iWTAkva8l6If"
      },
      "source": [
        "i_numero1 = 1\n",
        "i_numero2 = 5\n",
        "soma(i_numero1, i_numero2)"
      ],
      "execution_count": null,
      "outputs": []
    },
    {
      "cell_type": "markdown",
      "metadata": {
        "id": "EtfhAHWikJpf"
      },
      "source": [
        "___\n",
        "# **Referências**\n",
        "* [Errors and Exceptions](https://docs.python.org/3/tutorial/errors.html)"
      ]
    },
    {
      "cell_type": "markdown",
      "metadata": {
        "id": "INHemULsQtwY"
      },
      "source": [
        "___\n",
        "# **EXERCÍCIOS**"
      ]
    },
    {
      "cell_type": "markdown",
      "metadata": {
        "id": "atMplpXAgZmo"
      },
      "source": [
        "## Exercício 1\n",
        "> Explique o que são Exception Handling."
      ]
    },
    {
      "cell_type": "markdown",
      "metadata": {
        "id": "Rfm_5NDdn1oo"
      },
      "source": [
        "## Exercício 2\n",
        "* Construa uma função que divida 100 pelo número passado para a função. Pense em todas as possibilidades de erro que podem surgir em se tratando de uma divisão.\n",
        "\n",
        "**Dica**: Use except ZeroDivisionError para o caso de a função receber o número 0, pois desta forma estaremos dividindo 100 por 0 e, como sabemos, isso causa um erro, correto?"
      ]
    },
    {
      "cell_type": "markdown",
      "metadata": {
        "id": "oKqPgdHEeeSD"
      },
      "source": [
        "### Minha solução"
      ]
    },
    {
      "cell_type": "code",
      "metadata": {
        "id": "VjV8m0Zcj4La"
      },
      "source": [
        "def dividir(numero1):\n",
        "    try:\n",
        "        return 100 / numero1\n",
        "        \n",
        "    except ZeroDivisionError:\n",
        "        print('Divisão por 0!!!')\n",
        "\n",
        "    except TypeError:\n",
        "        print('Operação envolvendo tipos não numéricos')"
      ],
      "execution_count": null,
      "outputs": []
    },
    {
      "cell_type": "code",
      "metadata": {
        "id": "ILq3cyDzdZck"
      },
      "source": [
        "dividir(10)"
      ],
      "execution_count": null,
      "outputs": []
    },
    {
      "cell_type": "code",
      "metadata": {
        "id": "e9tly3oHdb-U"
      },
      "source": [
        "dividir(0)"
      ],
      "execution_count": null,
      "outputs": []
    },
    {
      "cell_type": "code",
      "metadata": {
        "id": "RTGjHoQvdevO"
      },
      "source": [
        "dividir('0')"
      ],
      "execution_count": null,
      "outputs": []
    },
    {
      "cell_type": "code",
      "metadata": {
        "id": "PlTD6WDheQJB"
      },
      "source": [
        ""
      ],
      "execution_count": null,
      "outputs": []
    }
  ]
}