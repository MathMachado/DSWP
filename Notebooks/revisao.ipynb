{
  "nbformat": 4,
  "nbformat_minor": 0,
  "metadata": {
    "colab": {
      "name": "Untitled16.ipynb",
      "private_outputs": true,
      "provenance": [],
      "authorship_tag": "ABX9TyOTd36ZZ8+RN5yE8jhxMfOo",
      "include_colab_link": true
    },
    "kernelspec": {
      "name": "python3",
      "display_name": "Python 3"
    }
  },
  "cells": [
    {
      "cell_type": "markdown",
      "metadata": {
        "id": "view-in-github",
        "colab_type": "text"
      },
      "source": [
        "<a href=\"https://colab.research.google.com/github/MathMachado/DSWP/blob/master/Notebooks/revisao.ipynb\" target=\"_parent\"><img src=\"https://colab.research.google.com/assets/colab-badge.svg\" alt=\"Open In Colab\"/></a>"
      ]
    },
    {
      "cell_type": "markdown",
      "metadata": {
        "id": "LwWm7NFmgHF3"
      },
      "source": [
        "## Install as libraries necessárias"
      ]
    },
    {
      "cell_type": "code",
      "metadata": {
        "id": "6aH1Z8wOf5ns"
      },
      "source": [
        "!pip install pycaret"
      ],
      "execution_count": null,
      "outputs": []
    },
    {
      "cell_type": "code",
      "metadata": {
        "id": "kBx0zASAgnMA"
      },
      "source": [
        "!pip install shap"
      ],
      "execution_count": null,
      "outputs": []
    },
    {
      "cell_type": "markdown",
      "metadata": {
        "id": "8RX_u5IGg5EE"
      },
      "source": [
        "### Carregar as libraries"
      ]
    },
    {
      "cell_type": "code",
      "metadata": {
        "id": "d3Izu8Eag9IJ"
      },
      "source": [
        "import pandas as pd\n",
        "import numpy as np\n",
        "\n",
        "from matplotlib import pyplot as plt # Gráficos\n",
        "\n",
        "import seaborn as sns\n",
        "sns.set_theme(style = 'ticks', palette = 'pastel')\n",
        "\n",
        "from pycaret import regression, classification # Canivete suiço para Machine Learning\n",
        "import shap\n",
        "\n",
        "from collections import Counter\n",
        "\n",
        "import tensorflow as tf\n",
        "tf.__version__"
      ],
      "execution_count": null,
      "outputs": []
    },
    {
      "cell_type": "code",
      "metadata": {
        "id": "jKys4jDCihrN"
      },
      "source": [
        "from pycaret.utils import enable_colab\n",
        "enable_colab()"
      ],
      "execution_count": null,
      "outputs": []
    },
    {
      "cell_type": "markdown",
      "metadata": {
        "id": "j5SNs2jTjL_N"
      },
      "source": [
        "### Configurações de ambiente"
      ]
    },
    {
      "cell_type": "code",
      "metadata": {
        "id": "5ltPzwF0j7En"
      },
      "source": [
        "pd_options = pd.options.display # Objeto para configuração do ambiente: número de linhas, colunas, precisão e etc"
      ],
      "execution_count": null,
      "outputs": []
    },
    {
      "cell_type": "code",
      "metadata": {
        "id": "3QvPhiL0kBu6"
      },
      "source": [
        "pd_options.max_columns = 50 # número máximo de colunas\n",
        "pd_options.max_rows = 50 # número máximo de linhas\n",
        "pd_options.precision = 3 # número de casas decimais"
      ],
      "execution_count": null,
      "outputs": []
    },
    {
      "cell_type": "markdown",
      "metadata": {
        "id": "dhPoNfDhkngE"
      },
      "source": [
        "### Facets - DataViz"
      ]
    },
    {
      "cell_type": "code",
      "metadata": {
        "id": "74bLOSbljsAz"
      },
      "source": [
        "from IPython.core.display import display, HTML\n",
        "import base64"
      ],
      "execution_count": null,
      "outputs": []
    },
    {
      "cell_type": "code",
      "metadata": {
        "id": "vIizX-TDk1gy"
      },
      "source": [
        "!pip install facets-overview==1.0.0"
      ],
      "execution_count": null,
      "outputs": []
    },
    {
      "cell_type": "code",
      "metadata": {
        "id": "MggKPK9xlEaR"
      },
      "source": [
        "from facets_overview.feature_statistics_generator import FeatureStatisticsGenerator"
      ],
      "execution_count": null,
      "outputs": []
    },
    {
      "cell_type": "markdown",
      "metadata": {
        "id": "K4FRtW9zlU8l"
      },
      "source": [
        "### Carregar os dados de treinamento e teste"
      ]
    },
    {
      "cell_type": "code",
      "metadata": {
        "id": "sbtJZwi-lXrj"
      },
      "source": [
        "url_T = ''\n",
        "url_V = ''"
      ],
      "execution_count": null,
      "outputs": []
    }
  ]
}