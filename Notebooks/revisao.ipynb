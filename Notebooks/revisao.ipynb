{
  "nbformat": 4,
  "nbformat_minor": 0,
  "metadata": {
    "colab": {
      "name": "Untitled16.ipynb",
      "private_outputs": true,
      "provenance": [],
      "authorship_tag": "ABX9TyOiq4q2EsMzjGVxMGI147ax",
      "include_colab_link": true
    },
    "kernelspec": {
      "name": "python3",
      "display_name": "Python 3"
    }
  },
  "cells": [
    {
      "cell_type": "markdown",
      "metadata": {
        "id": "view-in-github",
        "colab_type": "text"
      },
      "source": [
        "<a href=\"https://colab.research.google.com/github/MathMachado/DSWP/blob/master/Notebooks/revisao.ipynb\" target=\"_parent\"><img src=\"https://colab.research.google.com/assets/colab-badge.svg\" alt=\"Open In Colab\"/></a>"
      ]
    },
    {
      "cell_type": "markdown",
      "metadata": {
        "id": "LwWm7NFmgHF3"
      },
      "source": [
        "## Install as libraries necessárias"
      ]
    },
    {
      "cell_type": "code",
      "metadata": {
        "id": "6aH1Z8wOf5ns"
      },
      "source": [
        "!pip install pycaret"
      ],
      "execution_count": null,
      "outputs": []
    },
    {
      "cell_type": "code",
      "metadata": {
        "id": "kBx0zASAgnMA"
      },
      "source": [
        "!pip install shap"
      ],
      "execution_count": null,
      "outputs": []
    },
    {
      "cell_type": "markdown",
      "metadata": {
        "id": "8RX_u5IGg5EE"
      },
      "source": [
        "### Carregar as libraries"
      ]
    },
    {
      "cell_type": "code",
      "metadata": {
        "id": "d3Izu8Eag9IJ"
      },
      "source": [
        "import pandas as pd\n",
        "import numpy as np\n",
        "\n",
        "from matplotlib import pyplot as plt # Gráficos\n",
        "\n",
        "import seaborn as sns\n",
        "sns.set_theme(style = 'ticks', palette = 'pastel')\n",
        "\n",
        "from pycaret import regression, classification # Canivete suiço para Machine Learning\n",
        "import shap\n",
        "\n",
        "from collections import Counter\n",
        "\n",
        "import tensorflow as tf\n",
        "tf.__version__"
      ],
      "execution_count": null,
      "outputs": []
    },
    {
      "cell_type": "code",
      "metadata": {
        "id": "jKys4jDCihrN"
      },
      "source": [
        "from pycaret.utils import enable_colab\n",
        "enable_colab()"
      ],
      "execution_count": null,
      "outputs": []
    },
    {
      "cell_type": "markdown",
      "metadata": {
        "id": "j5SNs2jTjL_N"
      },
      "source": [
        "### Configurações de ambiente"
      ]
    },
    {
      "cell_type": "code",
      "metadata": {
        "id": "5ltPzwF0j7En"
      },
      "source": [
        "pd_options = pd.options.display # Objeto para configuração do ambiente: número de linhas, colunas, precisão e etc"
      ],
      "execution_count": null,
      "outputs": []
    },
    {
      "cell_type": "code",
      "metadata": {
        "id": "3QvPhiL0kBu6"
      },
      "source": [
        "pd_options.max_columns = 50 # número máximo de colunas\n",
        "pd_options.max_rows = 50 # número máximo de linhas\n",
        "pd_options.precision = 3 # número de casas decimais"
      ],
      "execution_count": null,
      "outputs": []
    },
    {
      "cell_type": "markdown",
      "metadata": {
        "id": "dhPoNfDhkngE"
      },
      "source": [
        "### Facets - DataViz"
      ]
    },
    {
      "cell_type": "code",
      "metadata": {
        "id": "74bLOSbljsAz"
      },
      "source": [
        "from IPython.core.display import display, HTML\n",
        "import base64"
      ],
      "execution_count": null,
      "outputs": []
    },
    {
      "cell_type": "code",
      "metadata": {
        "id": "vIizX-TDk1gy"
      },
      "source": [
        "!pip install facets-overview==1.0.0"
      ],
      "execution_count": null,
      "outputs": []
    },
    {
      "cell_type": "code",
      "metadata": {
        "id": "MggKPK9xlEaR"
      },
      "source": [
        "from facets_overview.feature_statistics_generator import FeatureStatisticsGenerator"
      ],
      "execution_count": null,
      "outputs": []
    },
    {
      "cell_type": "markdown",
      "metadata": {
        "id": "K4FRtW9zlU8l"
      },
      "source": [
        "### Carregar os dados de treinamento e teste"
      ]
    },
    {
      "cell_type": "code",
      "metadata": {
        "id": "sbtJZwi-lXrj"
      },
      "source": [
        "url_T = 'https://raw.githubusercontent.com/MathMachado/DataFrames/master/train_LABDATA.csv';\n",
        "url_V = 'https://raw.githubusercontent.com/MathMachado/DataFrames/master/test_LABDATA.csv';"
      ],
      "execution_count": null,
      "outputs": []
    },
    {
      "cell_type": "code",
      "metadata": {
        "id": "BEtK3q2UmJ0v"
      },
      "source": [
        "df_T = pd.read_csv(url_T, index_col = 'id');\n",
        "df_V = pd.read_csv(url_V, index_col = 'id');"
      ],
      "execution_count": null,
      "outputs": []
    },
    {
      "cell_type": "code",
      "metadata": {
        "id": "8plDnbsHmWR3"
      },
      "source": [
        "df_T.head()"
      ],
      "execution_count": null,
      "outputs": []
    },
    {
      "cell_type": "markdown",
      "metadata": {
        "id": "1kUh_IJGmiDY"
      },
      "source": [
        "### Tipos dos dados"
      ]
    },
    {
      "cell_type": "code",
      "metadata": {
        "id": "errn8PNRmXer"
      },
      "source": [
        "df_T.dtypes"
      ],
      "execution_count": null,
      "outputs": []
    },
    {
      "cell_type": "markdown",
      "metadata": {
        "id": "DBNxyZaDm-6c"
      },
      "source": [
        "### Conversão de tipos\n",
        "#### TotalCharges\n",
        "* A variável TotalCharges é do tipo 'object'. Entretanto, esta variável deveria ser do tipo 'float'.         "
      ]
    },
    {
      "cell_type": "code",
      "metadata": {
        "id": "MY_s7Jq9ovco"
      },
      "source": [
        "df_T['TotalCharges3'] = pd.to_numeric(df_T['TotalCharges'])"
      ],
      "execution_count": null,
      "outputs": []
    },
    {
      "cell_type": "markdown",
      "metadata": {
        "id": "DqAf0l_Lpase"
      },
      "source": [
        "dado que temos valores ' ' na variável TotalCharges, então precisamos usar errors = 'coerce'. Vamos olhar para a linha 161 que inviabiliza o uso do pd.astype(np.float):"
      ]
    },
    {
      "cell_type": "code",
      "metadata": {
        "id": "G31IfYdQpnny"
      },
      "source": [
        "df_T.iloc[161]"
      ],
      "execution_count": null,
      "outputs": []
    },
    {
      "cell_type": "code",
      "metadata": {
        "id": "K7sKj6-wmsUr"
      },
      "source": [
        "df_T['TotalCharges2'] = pd.to_numeric(df_T['TotalCharges'], errors = 'coerce')\n",
        "df_T.dtypes"
      ],
      "execution_count": null,
      "outputs": []
    },
    {
      "cell_type": "code",
      "metadata": {
        "id": "VFiyUXCBnnDn"
      },
      "source": [
        "df_T[['TotalCharges2', 'TotalCharges']].head(50)"
      ],
      "execution_count": null,
      "outputs": []
    },
    {
      "cell_type": "code",
      "metadata": {
        "id": "esaFT7RZqDwq"
      },
      "source": [
        "df_T.iloc[161]"
      ],
      "execution_count": null,
      "outputs": []
    },
    {
      "cell_type": "markdown",
      "metadata": {
        "id": "HEYKcctTn8GH"
      },
      "source": [
        "Me parece que a conversão foi bem-sucedida.\n",
        "\n",
        "Next: deletar a variável original."
      ]
    },
    {
      "cell_type": "code",
      "metadata": {
        "id": "oHvWX7JNn_Um"
      },
      "source": [
        "df_T = df_T.drop(columns = ['TotalCharges'], axis = 1)"
      ],
      "execution_count": null,
      "outputs": []
    },
    {
      "cell_type": "code",
      "metadata": {
        "id": "EmRD-LPyrdd7"
      },
      "source": [
        "df_T.dtypes"
      ],
      "execution_count": null,
      "outputs": []
    },
    {
      "cell_type": "markdown",
      "metadata": {
        "id": "lJ6inVXJrL1d"
      },
      "source": [
        "#### SeniorCitizen\n",
        "* A variável SeniorCitizen é do tipo 'int64'. Entretanto, esta variável deveria ser do tipo categórica."
      ]
    },
    {
      "cell_type": "code",
      "metadata": {
        "id": "27BtL-7MroKA"
      },
      "source": [
        "Counter(df_T['SeniorCitizen'])"
      ],
      "execution_count": null,
      "outputs": []
    },
    {
      "cell_type": "code",
      "metadata": {
        "id": "A5fD-FeJruXA"
      },
      "source": [
        "d_SeniorCitizen = {0 : 'No', 1: 'Yes'}"
      ],
      "execution_count": null,
      "outputs": []
    },
    {
      "cell_type": "code",
      "metadata": {
        "id": "kXMoAK78sA_r"
      },
      "source": [
        "df_T['SeniorCitizen2'] = df_T['SeniorCitizen'].map(d_SeniorCitizen)\n",
        "Counter(df_T['SeniorCitizen2'])"
      ],
      "execution_count": null,
      "outputs": []
    },
    {
      "cell_type": "markdown",
      "metadata": {
        "id": "rFv-Gw8ItyrQ"
      },
      "source": [
        "Alternativamente, poderíamos ter usado objeto.value_counts():"
      ]
    },
    {
      "cell_type": "code",
      "metadata": {
        "id": "45QjTskNsi2T"
      },
      "source": [
        "df_T['SeniorCitizen2'].value_counts()"
      ],
      "execution_count": null,
      "outputs": []
    },
    {
      "cell_type": "code",
      "metadata": {
        "id": "dY0eXfEEtX-5"
      },
      "source": [
        "df_T = df_T.drop(columns = ['SeniorCitizen'], axis = 1)"
      ],
      "execution_count": null,
      "outputs": []
    },
    {
      "cell_type": "markdown",
      "metadata": {
        "id": "sPqfAn3LqYMW"
      },
      "source": [
        "A seguir, listas por tipos de variáveis:"
      ]
    },
    {
      "cell_type": "code",
      "metadata": {
        "id": "HiizRR_5n2JY"
      },
      "source": [
        "l_features_numericas = list(df_T.select_dtypes([np.float64, np.int64]))\n",
        "l_features_numericas.remove('Churn')\n",
        "l_features_numericas"
      ],
      "execution_count": null,
      "outputs": []
    },
    {
      "cell_type": "code",
      "metadata": {
        "id": "yAH1mSmzqmk0"
      },
      "source": [
        "l_features_categoricas = list(df_T.select_dtypes(np.object))\n",
        "l_features_categoricas"
      ],
      "execution_count": null,
      "outputs": []
    },
    {
      "cell_type": "markdown",
      "metadata": {
        "id": "SLxEw5z2wdTh"
      },
      "source": [
        "### DataViz com Facets"
      ]
    },
    {
      "cell_type": "code",
      "metadata": {
        "id": "-5Yn5ykCwflG"
      },
      "source": [
        "def mostra_dados(df):\n",
        "    fsg = FeatureStatisticsGenerator()\n",
        "    dataframes = [{'table': df, 'name': 'dados de treinamento'}]\n",
        "\n",
        "    censusProto = fsg.ProtoFromDataFrames(dataframes)\n",
        "    protostr = base64.b64encode(censusProto.SerializeToString()).decode(\"utf-8\")\n",
        "\n",
        "    HTML_TEMPLATE = \"\"\"<script src=\"https://cdnjs.cloudflare.com/ajax/libs/webcomponentsjs/1.3.3/webcomponents-lite.js\"></script>\n",
        "        <link rel=\"import\" href=\"https://raw.githubusercontent.com/PAIR-code/facets/1.0.0/facets-dist/facets-jupyter.html\">\n",
        "        <facets-overview id=\"elem\"></facets-overview>\n",
        "        <script>\n",
        "          document.querySelector(\"#elem\").protoInput = \"{protostr}\";\n",
        "        </script>\"\"\"\n",
        "    html = HTML_TEMPLATE.format(protostr=protostr)\n",
        "    display(HTML(html))"
      ],
      "execution_count": null,
      "outputs": []
    },
    {
      "cell_type": "code",
      "metadata": {
        "id": "cif7OZLFw8GG"
      },
      "source": [
        "mostra_dados(df_T)"
      ],
      "execution_count": null,
      "outputs": []
    },
    {
      "cell_type": "markdown",
      "metadata": {
        "id": "pUVWvERKxtBN"
      },
      "source": [
        "### Tratamento dos Missing Values\n",
        "* Como vamos tratar os missing values?\n",
        "    * **Proposição**: Construir modelos preditivos para estimar os valores missing em função das demais variáveis que NÃO SÃO missing.\n",
        "    * Variáveis:\n",
        "        * **Numéricas**:\n",
        "            * TotalCharges2 (0.14% de missing values);\n",
        "            * tenure (8.18% de missing values).\n",
        "        * **Categóricas**:\n",
        "            * PaymentMethod (1.76% de missing values);\n",
        "            * Dependents (3.87% de missing values);"
      ]
    },
    {
      "cell_type": "markdown",
      "metadata": {
        "id": "Hr2xqs3MznBi"
      },
      "source": [
        "A seguir, funções para nos ajudar a construir os modelos de Machine Learning para estimar os missing values:"
      ]
    },
    {
      "cell_type": "code",
      "metadata": {
        "id": "UGPTQ4KszvdP"
      },
      "source": [
        "def prepara_dataframes(df, target, l_colunas_mv):\n",
        "    df2 = 'df' + '_' + target + '_sem_mv'\n",
        "    #print(df2)\n",
        "\n",
        "    l_colunas_mv.remove(target)\n",
        "    print(f'Features ignoradas: {l_colunas_mv}')\n",
        "    df2 = df.copy()\n",
        "    df3 = df.copy()\n",
        "\n",
        "    df2 = df2.dropna() # Excluir todas as linhas com missing values\n",
        "    df2 = df2.drop(columns = ['Churn'], axis = 1)\n",
        "\n",
        "    # Para reduzir o viés, vamos dropar/deletar as features que são missing values\n",
        "    df2 = df2.drop(columns = l_colunas_mv, axis = 1)\n",
        "    #print(df2.isna().sum())\n",
        "\n",
        "    # Apontar os missing values no dataframe original:\n",
        "    df3[target+'_mv'] = np.where(df3[target].isna(), 1, 0)\n",
        "\n",
        "    return df2, df3"
      ],
      "execution_count": null,
      "outputs": []
    },
    {
      "cell_type": "code",
      "metadata": {
        "id": "opMgZbm31eUd"
      },
      "source": [
        "l_colunas_mv = ['TotalCharges2', 'tenure', 'PaymentMethod', 'Dependents']"
      ],
      "execution_count": null,
      "outputs": []
    },
    {
      "cell_type": "code",
      "metadata": {
        "id": "gLBgm8pa3QC8"
      },
      "source": [
        "df_T_copia = df_T.copy()"
      ],
      "execution_count": null,
      "outputs": []
    },
    {
      "cell_type": "code",
      "metadata": {
        "id": "PbJH8fgO8pfW"
      },
      "source": [
        ""
      ],
      "execution_count": null,
      "outputs": []
    },
    {
      "cell_type": "code",
      "metadata": {
        "id": "uGsnCQzpw908"
      },
      "source": [
        "df_TotalCharges2_sem_mv, df_T = prepara_dataframes(df_T, 'TotalCharges2', l_colunas_mv)"
      ],
      "execution_count": null,
      "outputs": []
    },
    {
      "cell_type": "code",
      "metadata": {
        "id": "0CklKITH8rbE"
      },
      "source": [
        "df_T.head()"
      ],
      "execution_count": null,
      "outputs": []
    },
    {
      "cell_type": "code",
      "metadata": {
        "id": "B6buBUpi3xm2"
      },
      "source": [
        "l_colunas_mv = ['TotalCharges2', 'tenure', 'PaymentMethod', 'Dependents']\n",
        "\n",
        "for target in l_colunas_mv:\n",
        "    l_colunas_mv_2 = ['TotalCharges2', 'tenure', 'PaymentMethod', 'Dependents']\n",
        "    exec(f\"df_{target}_sem_mv, df_T = prepara_dataframes(df_T, target, l_colunas_mv_2)\")"
      ],
      "execution_count": null,
      "outputs": []
    },
    {
      "cell_type": "code",
      "metadata": {
        "id": "eMMn6dHs5TYF"
      },
      "source": [
        "df_tenure_sem_mv.head()"
      ],
      "execution_count": null,
      "outputs": []
    },
    {
      "cell_type": "code",
      "metadata": {
        "id": "HWALt61M_Dxc"
      },
      "source": [
        "df_temp.head()"
      ],
      "execution_count": null,
      "outputs": []
    },
    {
      "cell_type": "code",
      "metadata": {
        "id": "I-CaRpN148Vy"
      },
      "source": [
        "df_TotalCharges2_sem_mv\n",
        "df_tenure_sem_mv\n",
        "df_PaymentMethod_sem_mv\n",
        "df_Dependents_sem_mv"
      ],
      "execution_count": null,
      "outputs": []
    },
    {
      "cell_type": "code",
      "metadata": {
        "id": "jNY40VYK4dAh"
      },
      "source": [
        "df_tenure_sem_mv, df_T = prepara_dataframes(df_T, 'tenure', l_colunas_mv)"
      ],
      "execution_count": null,
      "outputs": []
    }
  ]
}