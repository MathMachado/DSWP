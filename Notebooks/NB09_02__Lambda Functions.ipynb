{
  "nbformat": 4,
  "nbformat_minor": 0,
  "metadata": {
    "colab": {
      "name": "Functions.ipynb",
      "provenance": [],
      "private_outputs": true,
      "include_colab_link": true
    },
    "kernelspec": {
      "name": "python3",
      "display_name": "Python 3"
    }
  },
  "cells": [
    {
      "cell_type": "markdown",
      "metadata": {
        "id": "view-in-github",
        "colab_type": "text"
      },
      "source": [
        "<a href=\"https://colab.research.google.com/github/MathMachado/DSWP/blob/master/Notebooks/NB09_02__Lambda%20Functions.ipynb\" target=\"_parent\"><img src=\"https://colab.research.google.com/assets/colab-badge.svg\" alt=\"Open In Colab\"/></a>"
      ]
    },
    {
      "cell_type": "markdown",
      "metadata": {
        "id": "J7p-ar1vWFQA",
        "colab_type": "text"
      },
      "source": [
        "# Melhorias da sessão"
      ]
    },
    {
      "cell_type": "markdown",
      "metadata": {
        "id": "QeG3z7aWLdYk",
        "colab_type": "text"
      },
      "source": [
        "___\n",
        "# **Lambda Functions**\n",
        "\n",
        "* Em Python, podemos criar pequenas funções anônimas.\n",
        "* A função anônima começa com a palavra reservada 'lambda';\n",
        "* Fonte: [Lambda Expressions](https://docs.python.org/3/tutorial/controlflow.html#function-examples)"
      ]
    },
    {
      "cell_type": "markdown",
      "metadata": {
        "id": "9ySnTQCqDzhB",
        "colab_type": "text"
      },
      "source": [
        "___\n",
        "# Exemplo 1\n",
        "* Considere a lista abaixo:"
      ]
    },
    {
      "cell_type": "code",
      "metadata": {
        "id": "0m2qpRrOD4j8",
        "colab_type": "code",
        "colab": {}
      },
      "source": [
        "l_Lista= [('Seg', 1), ('Ter', 2), ('Quar', 3), ('Qui', 4), ('Sex', 5), ('Sab', 6), ('Dom', 7)]\n",
        "l_Lista"
      ],
      "execution_count": 0,
      "outputs": []
    },
    {
      "cell_type": "markdown",
      "metadata": {
        "id": "IHPR_fwiEGCn",
        "colab_type": "text"
      },
      "source": [
        "Queremos ordená-la pela primeira posição da lista:"
      ]
    },
    {
      "cell_type": "code",
      "metadata": {
        "id": "_YqImJguFGOb",
        "colab_type": "code",
        "colab": {}
      },
      "source": [
        "l_Lista.sort(key= lambda l_Lista: l_Lista[0])\n",
        "l_Lista"
      ],
      "execution_count": 0,
      "outputs": []
    },
    {
      "cell_type": "markdown",
      "metadata": {
        "id": "DQntnBYsFJrF",
        "colab_type": "text"
      },
      "source": [
        "Mas esse resultado não faz muito sentido, correto?\n",
        "Então, vamos ordená-la pela segunda posição da lista:"
      ]
    },
    {
      "cell_type": "code",
      "metadata": {
        "id": "k-DX4EutEs9G",
        "colab_type": "code",
        "colab": {}
      },
      "source": [
        "# Ordem desejada\n",
        "l_Lista.sort(key= lambda l_Lista: l_Lista[1])\n",
        "l_Lista"
      ],
      "execution_count": 0,
      "outputs": []
    },
    {
      "cell_type": "markdown",
      "metadata": {
        "id": "2Sizi9-UFudE",
        "colab_type": "text"
      },
      "source": [
        "___\n",
        "# Exemplo 2\n",
        "> Desenvolver uma função que transforme uma temperatura em Fahrenheit para Celsius.\n",
        "\n",
        "Fonte: [Fahrenheit to Celsius formula](https://www.rapidtables.com/convert/temperature/how-fahrenheit-to-celsius.html)"
      ]
    },
    {
      "cell_type": "code",
      "metadata": {
        "id": "X6bkpYWGGA2P",
        "colab_type": "code",
        "colab": {}
      },
      "source": [
        "x = lambda a: (a-32)*(5/9)"
      ],
      "execution_count": 0,
      "outputs": []
    },
    {
      "cell_type": "code",
      "metadata": {
        "id": "jOC-vFWpGl2h",
        "colab_type": "code",
        "colab": {}
      },
      "source": [
        "f'68 graus Fahrenheit corresponde a {x(68)} graus Celsius.'"
      ],
      "execution_count": 0,
      "outputs": []
    },
    {
      "cell_type": "code",
      "metadata": {
        "id": "MSWkv-bhaW-1",
        "colab_type": "code",
        "colab": {}
      },
      "source": [
        "type(x)"
      ],
      "execution_count": 0,
      "outputs": []
    },
    {
      "cell_type": "markdown",
      "metadata": {
        "id": "Mj8bIIo4G5Gy",
        "colab_type": "text"
      },
      "source": [
        "___\n",
        "# Exemplo 3\n",
        "> Suponha que queremos uma função para multiplicar dois números."
      ]
    },
    {
      "cell_type": "code",
      "metadata": {
        "id": "YZhfeU91G_NS",
        "colab_type": "code",
        "colab": {}
      },
      "source": [
        "Mult= lambda x, y: x*y"
      ],
      "execution_count": 0,
      "outputs": []
    },
    {
      "cell_type": "code",
      "metadata": {
        "id": "IMtLBeV3HMz_",
        "colab_type": "code",
        "colab": {}
      },
      "source": [
        "f'O resultado da multiplicação de 2 por 6 é {Mult(2, 6)}.'"
      ],
      "execution_count": 0,
      "outputs": []
    },
    {
      "cell_type": "markdown",
      "metadata": {
        "id": "Smme8dC1HYdp",
        "colab_type": "text"
      },
      "source": [
        "___\n",
        "# Exemplo 4\n",
        "> Suponha que queremos multiplicar três números."
      ]
    },
    {
      "cell_type": "code",
      "metadata": {
        "id": "2d3lkQfvHp0d",
        "colab_type": "code",
        "colab": {}
      },
      "source": [
        "Mult3= lambda x, y, z: x*y*z"
      ],
      "execution_count": 0,
      "outputs": []
    },
    {
      "cell_type": "code",
      "metadata": {
        "id": "8_Fz6PUOHt5L",
        "colab_type": "code",
        "colab": {}
      },
      "source": [
        "f'O resultado da multiplicação de 2 por 6 por 3 é {Mult3(2, 6, 3)}.'"
      ],
      "execution_count": 0,
      "outputs": []
    },
    {
      "cell_type": "markdown",
      "metadata": {
        "id": "xPpFqVUnKEH7",
        "colab_type": "text"
      },
      "source": [
        "___\n",
        "# **Exercícios**"
      ]
    },
    {
      "cell_type": "markdown",
      "metadata": {
        "id": "-OTY7MsKIAZs",
        "colab_type": "text"
      },
      "source": [
        "## Exercicio 1\n",
        "Qual a vantagem de se utilizar Lambda Functions?"
      ]
    },
    {
      "cell_type": "markdown",
      "metadata": {
        "id": "5MI2hu3-IbXf",
        "colab_type": "text"
      },
      "source": [
        "## Exercício 2\n",
        "Desenvolva uma Lambda Function para verificar se um número é par ímpar."
      ]
    },
    {
      "cell_type": "code",
      "metadata": {
        "id": "hV4nlZduIEnO",
        "colab_type": "code",
        "colab": {}
      },
      "source": [
        ""
      ],
      "execution_count": 0,
      "outputs": []
    }
  ]
}