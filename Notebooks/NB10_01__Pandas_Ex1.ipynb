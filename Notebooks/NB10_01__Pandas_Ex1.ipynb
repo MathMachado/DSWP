{
 "cells": [
  {
   "cell_type": "markdown",
   "metadata": {
    "colab_type": "text",
    "id": "view-in-github"
   },
   "source": [
    "<a href=\"https://colab.research.google.com/github/MathMachado/DSWP/blob/master/Notebooks/NB10_01__Pandas.ipynb\" target=\"_parent\"><img src=\"https://colab.research.google.com/assets/colab-badge.svg\" alt=\"Open In Colab\"/></a>"
   ]
  },
  {
   "cell_type": "markdown",
   "metadata": {
    "id": "8fpUiw8PwC7_"
   },
   "source": [
    "<center><h1><b><i>PANDAS PARA DATA ANALYSIS</i></b></h1></center>\n",
    "\n",
    "\n",
    "\n",
    "# **AGENDA**:\n",
    "\n",
    "> Veja o **índice** dos itens que serão abordados neste capítulo.\n"
   ]
  },
  {
   "cell_type": "markdown",
   "metadata": {
    "id": "vo7mtiNSr_Wk"
   },
   "source": [
    "___\n",
    "# **REFERÊNCIAS**\n",
    "* [Learn Aggregation and Data Wrangling with Python](https://data-flair.training/blogs/data-wrangling-with-python/)\n",
    "* [Python Data Cleansing by Pandas & Numpy | Python Data Operations](https://data-flair.training/blogs/python-data-cleansing/)\n",
    "* [Pandas from basic to advanced for Data Scientists](https://towardsdatascience.com/pandas-from-basic-to-advanced-for-data-scientists-aee4eed19cfe)\n",
    "* [Feature engineering and ensembled models for the top 10 in Kaggle “Housing Prices Competition”](https://towardsdatascience.com/feature-engineering-and-ensembled-models-for-the-top-10-in-kaggle-housing-prices-competition-efb35828eef0)\n",
    "* [Pandas.Series Methods for Machine Learning](https://towardsdatascience.com/pandas-series-methods-for-machine-learning-fd83709368ff)\n",
    "* [Pandas.Series Methods for Machine Learning](https://towardsdatascience.com/pandas-series-methods-for-machine-learning-fd83709368ff)\n",
    "* [Gaining a solid understanding of Pandas series](https://towardsdatascience.com/gaining-a-solid-understanding-of-pandas-series-893fb8f785aa)\n",
    "* [ariáveis Dummy: o que é? Quando usar? E como usar?](https://medium.com/data-hackers/vari%C3%A1veis-dummy-o-que-%C3%A9-quando-usar-e-como-usar-78de66cfcca9)\n",
    "* [Exploratory Data Analysis Made Easy Using Pandas Profiling](https://towardsdatascience.com/exploratory-data-analysis-made-easy-using-pandas-profiling-86e347ef5b65)\n",
    "* [Data Handling using Pandas; Machine Learning in Real Life](https://towardsdatascience.com/data-handling-using-pandas-machine-learning-in-real-life-be76a697418c)\n",
    "* [Exploratory Data Analysis Tutorial in Python](https://towardsdatascience.com/exploratory-data-analysis-tutorial-in-python-15602b417445)\n",
    "* [Exploring the data using python](https://towardsdatascience.com/exploring-the-data-using-python-47c4bc7b8fa2)\n",
    "* [A better EDA with Pandas-profiling](https://towardsdatascience.com/a-better-eda-with-pandas-profiling-e842a00e1136)\n",
    "* [Exploratory Data Analysis: Haberman’s Cancer Survival Dataset](https://towardsdatascience.com/exploratory-data-analysis-habermans-cancer-survival-dataset-c511255d62cb)\n",
    "* [Exploring Exploratory Data Analysis](https://towardsdatascience.com/exploring-exploratory-data-analysis-1aa72908a5df)\n",
    "* [Getting started with Data Analysis with Python Pandas](https://towardsdatascience.com/getting-started-to-data-analysis-with-python-pandas-with-titanic-dataset-a195ab043c77)\n",
    "* [A Gentle Introduction to Exploratory Data Analysis](https://towardsdatascience.com/a-gentle-introduction-to-exploratory-data-analysis-f11d843b8184)\n",
    "* [Exploratory Data Analysis (EDA) techniques for Kaggle competition beginners](https://towardsdatascience.com/exploratory-data-analysis-eda-techniques-for-kaggle-competition-beginners-be4237c3c3a9)\n",
    "* [What is Exploratory Data Analysis?](https://towardsdatascience.com/exploratory-data-analysis-8fc1cb20fd15)\n",
    "* [Exploring real estate investment opportunity in Boston and Seattle](https://towardsdatascience.com/exploring-real-estate-investment-opportunity-in-boston-and-seattle-9d89d0c9bed2)"
   ]
  },
  {
   "cell_type": "markdown",
   "metadata": {
    "id": "BUEbp88oD1Km"
   },
   "source": [
    "___\n",
    "# **ANÁLISE DE DADOS COM PANDAS**\n",
    "## Highlights\n",
    "\n",
    "* Rápida e eficiente library para data manipulation;\n",
    "* Ferramentas para ler e gravar todos os tipos de dados e formatos: CSV, txt, Microsoft Excel, SQL databases, JSON e HDF5 format;\n",
    "* Pandas é a library mais popular para análise de dados. As principais ações que faremos com Pandas são:\n",
    "    * Ler/gravar diferentes formatos de dados;\n",
    "    * Selecionar subconjuntos de dados;\n",
    "    * Cálculos variados por coluna ou por linha das tabelas;\n",
    "    * Encontrar e tratar Missing Values;\n",
    "    * Combinar múltiplos dataframes;"
   ]
  },
  {
   "cell_type": "markdown",
   "metadata": {
    "id": "wkxQFPPmeKLl"
   },
   "source": [
    "![Pandas](https://github.com/MathMachado/Materials/blob/master/Pandas.jpeg?raw=true)"
   ]
  },
  {
   "cell_type": "markdown",
   "metadata": {
    "id": "eKawOG-neqaD"
   },
   "source": [
    "![Pandas](https://github.com/MathMachado/Materials/blob/master/Pandas2.jpeg?raw=true)"
   ]
  },
  {
   "cell_type": "markdown",
   "metadata": {
    "id": "TLdSmsJZwlcQ"
   },
   "source": [
    "___\n",
    "# **ATÉ QUE VOLUME DE DADOS PODEMOS USAR PANDAS?**"
   ]
  },
  {
   "cell_type": "markdown",
   "metadata": {
    "id": "O7YKF5gB2x0K"
   },
   "source": [
    "![RightToolForEachSize](https://github.com/MathMachado/Materials/blob/master/SizesAndTools.PNG?raw=true)\n",
    "\n",
    "## Sources\n",
    "### Dask\n",
    "* [Pandas, Dask or PySpark? What Should You Choose for Your Dataset?](https://medium.com/datadriveninvestor/pandas-dask-or-pyspark-what-should-you-choose-for-your-dataset-c0f67e1b1d36)\n",
    "* [Processing Data with Dask](https://medium.com/when-i-work-data/processing-data-with-dask-47e4233cf165)\n",
    "* [Pandas, Fast and Slow](https://medium.com/when-i-work-data/pandas-fast-and-slow-b6d8dde6862e)\n",
    "* [Por que Parquet](https://medium.com/when-i-work-data/por-que-parquet-2a3ec42141c6)\n",
    "* [How to Run Parallel Data Analysis in Python using Dask Dataframes](https://towardsdatascience.com/trying-out-dask-dataframes-in-python-for-fast-data-analysis-in-parallel-aa960c18a915)\n",
    "* [Why every Data Scientist should use Dask?](https://towardsdatascience.com/why-every-data-scientist-should-use-dask-81b2b850e15b)\n",
    "\n",
    "### Spark, Koalas\n",
    "* [Databricks Koalas-Python Pandas for Spark](https://medium.com/future-vision/databricks-koalas-python-pandas-for-spark-ce20fc8a7d08)\n",
    "* [Bye Pandas, Meet Koalas: Pandas APIs on Apache Spark (Ep. 4)](https://medium.com/@kyleake/bye-pandas-meet-koalas-pandas-apis-on-apache-spark-ep-4-aedcd363cf4e)\n",
    "* [Koalas: Easy Transition from pandas to Apache Spark](https://databricks.com/blog/2019/04/24/koalas-easy-transition-from-pandas-to-apache-spark.html?source=post_page-----aedcd363cf4e----------------------)\n",
    "* [Use PySpark for Your Next Big Problem](https://medium.com/swlh/use-pyspark-for-your-next-big-problem-8aa288d5ecfa)\n",
    "* [A Neanderthal’s Guide to Apache Spark in Python](https://towardsdatascience.com/a-neanderthals-guide-to-apache-spark-in-python-9ef1f156d427)\n",
    "* [The Jungle of Koalas, Pandas, Optimus and Spark](https://towardsdatascience.com/the-jungle-of-koalas-pandas-optimus-and-spark-dd486f873aa4)\n",
    "* [From Pandas to PySpark with Koalas](https://towardsdatascience.com/from-pandas-to-pyspark-with-koalas-e40f293be7c8)\n",
    "\n",
    "# O que Dask?\n",
    "\n",
    "\"Dask is designed to extend the numpy and pandas packages to work on data processing problems that are too large to be kept in memory. It breaks the larger processing job into many smaller tasks that are handled by numpy or pandas and then it reassembles the results into a coherent whole.\" - Eric Ness ([Processing Data with Dask](https://medium.com/when-i-work-data/processing-data-with-dask-47e4233cf165))\n",
    "\n"
   ]
  },
  {
   "cell_type": "markdown",
   "metadata": {
    "id": "yEyzjGUfG33-"
   },
   "source": [
    "___\n",
    "# **Carregar a library Pandas e verificar a versão**"
   ]
  },
  {
   "cell_type": "code",
   "execution_count": null,
   "metadata": {
    "id": "oVMjT3DrG97K"
   },
   "outputs": [],
   "source": [
    "# Carrega a library Pandas\n",
    "import pandas as pd\n",
    "import numpy as np\n",
    "import matplotlib.pyplot as plt\n",
    "%matplotlib inline\n",
    "\n",
    "print(f'Versão do Pandas: {pd.__version__}')\n",
    "print(f'Versão do NumPy.: {np.__version__}')"
   ]
  },
  {
   "cell_type": "markdown",
   "metadata": {
    "id": "OxoDsaKUVHdH"
   },
   "source": [
    "# Configurações\n",
    "> Podemos configurar o pandas de forma a tornar nosso trabalho mais produtivo. Podemos configurar, por exemplo, o número de LINHAS e COLUNAS a ser mostrado, precisão dos números float. Vamos ver com mais detalhes a seguir.\n",
    "\n",
    "Fonte: [5 Advanced Features of Pandas and How to Use Them](https://www.kdnuggets.com/2019/10/5-advanced-features-pandas.html)."
   ]
  },
  {
   "cell_type": "code",
   "execution_count": null,
   "metadata": {
    "id": "IOdqrf7uVlhC"
   },
   "outputs": [],
   "source": [
    "d_configuracao = {\n",
    "    'display.max_columns': 1000,\n",
    "    'display.expand_frame_repr': True,\n",
    "    'display.max_rows': 10,\n",
    "    'display.precision': 2,\n",
    "    'display.show_dimensions': True,\n",
    "    'display.float_format': (lambda x: '%.2f' % x)\n",
    "                  }\n",
    "\n",
    "for op, value in d_configuracao.items():\n",
    "    pd.set_option(op, value)\n",
    "    print(op, value)"
   ]
  },
  {
   "cell_type": "markdown",
   "metadata": {
    "id": "Paz-R-FOAJ7F"
   },
   "source": [
    "___\n",
    "# **Criar um dataframe a partir de outros objetos**"
   ]
  },
  {
   "cell_type": "markdown",
   "metadata": {
    "id": "L4Jc0C2qPAQz"
   },
   "source": [
    "## Criar dataframe a partir de dicionários"
   ]
  },
  {
   "cell_type": "markdown",
   "metadata": {
    "id": "Sa5rKwq6Fscj"
   },
   "source": [
    "### Exemplo 1"
   ]
  },
  {
   "cell_type": "code",
   "execution_count": null,
   "metadata": {
    "id": "0ofIGkiSSuYq"
   },
   "outputs": [],
   "source": [
    "d_frutas = {'Apple': [5, 6, 6, 8, 10, 3, 2],\n",
    "          'Avocado': [6, 6, 3, 9, 3, 2., 1]}"
   ]
  },
  {
   "cell_type": "code",
   "execution_count": null,
   "metadata": {
    "id": "iJCNvPlUTzTI"
   },
   "outputs": [],
   "source": [
    "d_frutas"
   ]
  },
  {
   "cell_type": "code",
   "execution_count": null,
   "metadata": {
    "id": "7Y_0O_tJTfm3"
   },
   "outputs": [],
   "source": [
    "# index=['Seg', 'Ter', 'Qua', 'Qui', 'Sex', 'Sab', 'Dom'] abaixo define os label.\n",
    "df_frutas = pd.DataFrame(d_frutas, index = ['Seg', 'Ter', 'Qua', 'Qui', 'Sex', 'Sab', 'Dom'])\n",
    "df_frutas"
   ]
  },
  {
   "cell_type": "markdown",
   "metadata": {
    "id": "l2ll8ktfUKz2"
   },
   "source": [
    "O que se comprou na sexta?\n",
    "\n",
    "* Função df.loc[label] retorna o(s) valor(es) associados à label. Em nosso caso, os label (chaves do dicionário) são 'Seg', 'Ter', ..., 'Dom'."
   ]
  },
  {
   "cell_type": "code",
   "execution_count": null,
   "metadata": {
    "id": "9Voor8_PUJum"
   },
   "outputs": [],
   "source": [
    "df_frutas.loc['Sex'] # Aqui, label= 'Sex'."
   ]
  },
  {
   "cell_type": "markdown",
   "metadata": {
    "id": "LMh4DTfebwAr"
   },
   "source": [
    "* Ou seja, o label = 'Sex', que ocupa a posição 4, tem os valores:\n",
    "    * Apple..: 10\n",
    "    * Avocado: 3\n",
    "\n",
    "Da mesma forma, poderíamos utilizar a função df.iloc[index] para retornar o conteúdo/informações de index."
   ]
  },
  {
   "cell_type": "code",
   "execution_count": null,
   "metadata": {
    "id": "GJxawdh6bvJN"
   },
   "outputs": [],
   "source": [
    "df_frutas.iloc[4]"
   ]
  },
  {
   "cell_type": "markdown",
   "metadata": {
    "id": "obJt9OPGcL-x"
   },
   "source": [
    "Portanto, df.loc['Sex'] = df.iloc[4]. Correto?\n",
    "\n",
    "Para nos ajudar a memorizar, considere que:\n",
    "\n",
    "* pd.loc[label] --> loc começa com a letra **l**, o que remete à label da linha.\n",
    "* pd.iloc[indice] --> iloc começa com a letra **i**, o que remete ao índice (inteiro) da linha."
   ]
  },
  {
   "cell_type": "markdown",
   "metadata": {
    "id": "v7QlCcEorEIX"
   },
   "source": [
    "#### Qual é o output do code abaixo?"
   ]
  },
  {
   "cell_type": "code",
   "execution_count": null,
   "metadata": {
    "id": "kRRdQShrrKHk"
   },
   "outputs": [],
   "source": [
    "df_frutas.loc[4]"
   ]
  },
  {
   "cell_type": "markdown",
   "metadata": {
    "id": "EkjAtbrRF01h"
   },
   "source": [
    "### Exemplo 2"
   ]
  },
  {
   "cell_type": "markdown",
   "metadata": {
    "id": "2EOX5MC4E1xL"
   },
   "source": [
    "Na prática, lidamos com grandes bancos de dados e, nesses casos, não temos label das LINHAS definidos. Para exemplificar, considere o mesmo exemplo que acabamos de ver, com uma pequena alteração:"
   ]
  },
  {
   "cell_type": "code",
   "execution_count": null,
   "metadata": {
    "id": "RC_OXmdjrkQm"
   },
   "outputs": [],
   "source": [
    "d_frutas"
   ]
  },
  {
   "cell_type": "code",
   "execution_count": null,
   "metadata": {
    "id": "D6FckgDPFFs0"
   },
   "outputs": [],
   "source": [
    "df_frutas = pd.DataFrame(d_frutas) # Observe que aqui não definimos os indíces\n",
    "df_frutas"
   ]
  },
  {
   "cell_type": "markdown",
   "metadata": {
    "id": "tkGc4JQcFPkp"
   },
   "source": [
    "Veja agora que os label são números inteiros de 0 a N."
   ]
  },
  {
   "cell_type": "markdown",
   "metadata": {
    "id": "Ri-EdUYAovLG"
   },
   "source": [
    "#### Qual o conteúdo da linha cujo label é 4?"
   ]
  },
  {
   "cell_type": "code",
   "execution_count": null,
   "metadata": {
    "id": "5YgWG_vlFVe_"
   },
   "outputs": [],
   "source": [
    "df_frutas.loc[4]"
   ]
  },
  {
   "cell_type": "markdown",
   "metadata": {
    "id": "rFQxcAcVo2KD"
   },
   "source": [
    "#### Qual o conteúdo da linha cujo índice é 4?"
   ]
  },
  {
   "cell_type": "code",
   "execution_count": null,
   "metadata": {
    "id": "xB1j4n6HFank"
   },
   "outputs": [],
   "source": [
    "df_frutas.iloc[4]"
   ]
  },
  {
   "cell_type": "markdown",
   "metadata": {
    "id": "jEbCke3TFf_q"
   },
   "source": [
    "Ou seja, nesses casos, tanto faz usar pd.loc[] ou pd.iloc[]. Entendeu?"
   ]
  },
  {
   "cell_type": "markdown",
   "metadata": {
    "id": "bKHw_VBKjkoL"
   },
   "source": [
    "### Exemplo 3 - Definir os indices do dataframe usando df.set_index()"
   ]
  },
  {
   "cell_type": "code",
   "execution_count": null,
   "metadata": {
    "id": "13ArWIhYju6s"
   },
   "outputs": [],
   "source": [
    "d_frutas= {'Dia_Semana': ['Seg', 'Ter', 'Qua', 'Qui', 'Sex', 'Sab', 'Dom'],\n",
    "           'Apple': [5, 6, 6, 8, 10, 3, 2],\n",
    "          'Avocado': [6, 6, 3, 9, 3, 2, 1]}\n",
    "\n",
    "d_frutas"
   ]
  },
  {
   "cell_type": "code",
   "execution_count": null,
   "metadata": {
    "id": "Evw9w16gk5h0"
   },
   "outputs": [],
   "source": [
    "# Cria o dataframe df_frutas:\n",
    "df_frutas = pd.DataFrame(d_frutas) # Não apontamos o índice do dataframe. Portanto, o índice é criado automaticamente de 0.. N.\n",
    "df_frutas"
   ]
  },
  {
   "cell_type": "markdown",
   "metadata": {
    "id": "NLbbRrdYoclw"
   },
   "source": [
    "#### Qual o conteúdo da linha 4?"
   ]
  },
  {
   "cell_type": "code",
   "execution_count": null,
   "metadata": {
    "id": "lB-ngbutl_0c"
   },
   "outputs": [],
   "source": [
    "df_frutas.iloc[4]"
   ]
  },
  {
   "cell_type": "code",
   "execution_count": null,
   "metadata": {
    "id": "1aJLGapZlUFI"
   },
   "outputs": [],
   "source": [
    "# Definir 'Dia_Semana' como índice (label das linhas) do dataframe df_frutas\n",
    "df_frutas.set_index('Dia_Semana', inplace = True)\n",
    "df_frutas"
   ]
  },
  {
   "cell_type": "markdown",
   "metadata": {
    "id": "L1-U_sD-jAoO"
   },
   "source": [
    "A expressão acima é equivalente a:\n",
    "\n",
    "```\n",
    "df_frutas2 = df_frutas.set_index('Dia_Semana') # Observe que aqui não há 'inplace'\n",
    "df_frutas2\n",
    "```\n",
    "\n",
    "* Então, qual a função do 'inplace =True' na primeira opção?"
   ]
  },
  {
   "cell_type": "markdown",
   "metadata": {
    "id": "oXeFjJonpQfB"
   },
   "source": [
    "#### Qual o conteúdo da linha 4?"
   ]
  },
  {
   "cell_type": "code",
   "execution_count": null,
   "metadata": {
    "id": "MMXg3vVQpUhh"
   },
   "outputs": [],
   "source": [
    "df_frutas.iloc[4]"
   ]
  },
  {
   "cell_type": "markdown",
   "metadata": {
    "id": "fhoYuGMlpVFj"
   },
   "source": [
    "#### Qual o conteúdo da linha cujo label é 'Sex'?"
   ]
  },
  {
   "cell_type": "code",
   "execution_count": null,
   "metadata": {
    "id": "fmcWbrEspdYW"
   },
   "outputs": [],
   "source": [
    "df_frutas.loc['Sex']"
   ]
  },
  {
   "cell_type": "markdown",
   "metadata": {
    "id": "bobggpoCTRkj"
   },
   "source": [
    "### Qual a diferença entre as duas próximas linhas?"
   ]
  },
  {
   "cell_type": "code",
   "execution_count": null,
   "metadata": {
    "id": "SjiYgbNrsvpl"
   },
   "outputs": [],
   "source": [
    "df_frutas"
   ]
  },
  {
   "cell_type": "code",
   "execution_count": null,
   "metadata": {
    "id": "OFhzE7hgTD0a"
   },
   "outputs": [],
   "source": [
    "df_frutas.mean()"
   ]
  },
  {
   "cell_type": "code",
   "execution_count": null,
   "metadata": {
    "id": "V42I3807TNte"
   },
   "outputs": [],
   "source": [
    "df_frutas.mean(1)"
   ]
  },
  {
   "cell_type": "code",
   "execution_count": null,
   "metadata": {
    "id": "6iUCthsbtLV8"
   },
   "outputs": [],
   "source": [
    "df_frutas.describe()"
   ]
  },
  {
   "cell_type": "code",
   "execution_count": null,
   "metadata": {
    "id": "YdkmYePYtcON"
   },
   "outputs": [],
   "source": [
    "df_frutas.dtypes"
   ]
  },
  {
   "cell_type": "markdown",
   "metadata": {
    "id": "2RmgCIC2HZFp"
   },
   "source": [
    "### Exemplo 4"
   ]
  },
  {
   "cell_type": "code",
   "execution_count": null,
   "metadata": {
    "id": "kbHHuMzzAR1A"
   },
   "outputs": [],
   "source": [
    "d_estudantes = {'Nome': ['Jack', 'Richard', 'Tommy', 'Ana'], \n",
    "            'Age': [25, 34, 18, 21],\n",
    "           'City': ['Sydney', 'Rio de Janeiro', 'Lisbon', 'New York'],\n",
    "           'Country': ['Australia', 'Brazil', 'Portugal', 'United States']}"
   ]
  },
  {
   "cell_type": "code",
   "execution_count": null,
   "metadata": {
    "id": "ayKqLmHTANOu"
   },
   "outputs": [],
   "source": [
    "# Mostrar o conteúdo do dicionário d_estudantes...\n",
    "d_estudantes"
   ]
  },
  {
   "cell_type": "code",
   "execution_count": null,
   "metadata": {
    "id": "0ONA8QsBBP6R"
   },
   "outputs": [],
   "source": [
    "# Keys associadas ao dicionário d_estudantes\n",
    "d_estudantes.keys()"
   ]
  },
  {
   "cell_type": "code",
   "execution_count": null,
   "metadata": {
    "id": "k8mmvKQ_BjO6"
   },
   "outputs": [],
   "source": [
    "# Itens associados ao dicionário d_estudantes\n",
    "d_estudantes.items()"
   ]
  },
  {
   "cell_type": "code",
   "execution_count": null,
   "metadata": {
    "id": "hcm8V_UmBr1Y"
   },
   "outputs": [],
   "source": [
    "# Valores associados ao dicionário d_estudantes\n",
    "d_estudantes.values()"
   ]
  },
  {
   "cell_type": "markdown",
   "metadata": {
    "id": "KK7IejsPDkWC"
   },
   "source": [
    "Temos uma key = 'nome'. Qual o conteúdo desta key?"
   ]
  },
  {
   "cell_type": "code",
   "execution_count": null,
   "metadata": {
    "id": "eHvPpeiTBwoR"
   },
   "outputs": [],
   "source": [
    "d_estudantes['nome']"
   ]
  },
  {
   "cell_type": "markdown",
   "metadata": {
    "id": "S1y7p8CcDsXl"
   },
   "source": [
    "Qual o output da expressão a seguir:"
   ]
  },
  {
   "cell_type": "code",
   "execution_count": null,
   "metadata": {
    "id": "26WIDl-HB3Bq"
   },
   "outputs": [],
   "source": [
    "d_estudantes['nome'][0]"
   ]
  },
  {
   "cell_type": "markdown",
   "metadata": {
    "id": "gV68kQ5HCIif"
   },
   "source": [
    "Criando o dataframe df_estudantes a partir do dicionário d_estudantes:"
   ]
  },
  {
   "cell_type": "code",
   "execution_count": null,
   "metadata": {
    "id": "2oa808hkCSaq"
   },
   "outputs": [],
   "source": [
    "df_estudantes = pd.DataFrame(d_estudantes)"
   ]
  },
  {
   "cell_type": "code",
   "execution_count": null,
   "metadata": {
    "id": "7HLp0FYpCiSc"
   },
   "outputs": [],
   "source": [
    "# Mostra o conteúdo do dataframe df_estudantes...\n",
    "df_estudantes"
   ]
  },
  {
   "cell_type": "markdown",
   "metadata": {
    "id": "en06lfazciE0"
   },
   "source": [
    "**Atenção**: Observe que nesse caso, não definimos labels para as LINHAS. Na prática, isso é o mais comum, ou seja, os label = index, que aqui são números inteiros de 0 a N."
   ]
  },
  {
   "cell_type": "markdown",
   "metadata": {
    "id": "gFaPp-S-cy1-"
   },
   "source": [
    "Mais uma vez, vamos usar df.loc[] e df.iloc[]..."
   ]
  },
  {
   "cell_type": "code",
   "execution_count": null,
   "metadata": {
    "id": "mT9vwRBidGXX"
   },
   "outputs": [],
   "source": [
    "# Mostrando o conteúdo de da linha 3 usando df.loc[]\n",
    "df_estudantes.loc[3]"
   ]
  },
  {
   "cell_type": "markdown",
   "metadata": {
    "id": "Zj88AwHUdix0"
   },
   "source": [
    "OU"
   ]
  },
  {
   "cell_type": "code",
   "execution_count": null,
   "metadata": {
    "id": "SP2mG8todkMe"
   },
   "outputs": [],
   "source": [
    "# Mostrando o conteúdo de da linha 3 usando df.iloc[]\n",
    "df_estudantes.iloc[3]"
   ]
  },
  {
   "cell_type": "markdown",
   "metadata": {
    "id": "hzbLO0EDGWTf"
   },
   "source": [
    "Ok, já discutimos isso anteriormente. Quando não temos labels para as LINHAS, então iloc[] = loc[]"
   ]
  },
  {
   "cell_type": "markdown",
   "metadata": {
    "id": "VvzVg7SpeOOB"
   },
   "source": [
    "___\n",
    "## Criar dataframes a partir de listas\n",
    "* Considere a lista de frutas a seguir:"
   ]
  },
  {
   "cell_type": "code",
   "execution_count": null,
   "metadata": {
    "id": "0_PY9OROeUiT"
   },
   "outputs": [],
   "source": [
    "l_frutas = [('Melon', 6, 8, 5, 4 ,6, 2, 8), ('Avocado', 6, 6, 3, 8, 9, 3, 1), ('Blueberry', 7, 5, 9, 3, 1, 0, 4)]\n",
    "l_frutas"
   ]
  },
  {
   "cell_type": "code",
   "execution_count": null,
   "metadata": {
    "id": "AfE_rHq5g4_P"
   },
   "outputs": [],
   "source": [
    "type(l_frutas)"
   ]
  },
  {
   "cell_type": "code",
   "execution_count": null,
   "metadata": {
    "id": "ZpdPSi7RgVjK"
   },
   "outputs": [],
   "source": [
    "l_frutas[0]"
   ]
  },
  {
   "cell_type": "code",
   "execution_count": null,
   "metadata": {
    "id": "NMyIpVW8gZTH"
   },
   "outputs": [],
   "source": [
    "l_frutas[0][0]"
   ]
  },
  {
   "cell_type": "code",
   "execution_count": null,
   "metadata": {
    "id": "-cyZVqQFhjjg"
   },
   "outputs": [],
   "source": [
    "# Lista contendo os nomes das COLUNAS do dataframe:\n",
    "l_colunas = ['Frutas', 'Dom', 'Seg', 'Ter', 'Qua', 'Qui', 'Sex', 'Sab']\n",
    "l_colunas"
   ]
  },
  {
   "cell_type": "code",
   "execution_count": null,
   "metadata": {
    "id": "wplKvgayfZm_"
   },
   "outputs": [],
   "source": [
    "# Convertendo as listas em dataframe\n",
    "df_frutas = pd.DataFrame(l_frutas, columns = l_colunas) # Observe que aqui, o nome das COLUNAS é uma lista.\n",
    "df_frutas"
   ]
  },
  {
   "cell_type": "markdown",
   "metadata": {
    "id": "GojgsAXTFZmB"
   },
   "source": [
    "___\n",
    "# **Copiar dataframes**"
   ]
  },
  {
   "cell_type": "markdown",
   "metadata": {
    "id": "g_Tda4ZwjWIW"
   },
   "source": [
    "O dataframe df_estudantes tem o seguinte conteúdo:"
   ]
  },
  {
   "cell_type": "code",
   "execution_count": null,
   "metadata": {
    "id": "P5y0aVkdkA8o"
   },
   "outputs": [],
   "source": [
    "df_estudantes"
   ]
  },
  {
   "cell_type": "markdown",
   "metadata": {
    "id": "Cp3bvPEqj5fS"
   },
   "source": [
    "se fizermos..."
   ]
  },
  {
   "cell_type": "code",
   "execution_count": null,
   "metadata": {
    "id": "J2PT5L11j8O0"
   },
   "outputs": [],
   "source": [
    "df_estudantes2 = df_estudantes"
   ]
  },
  {
   "cell_type": "markdown",
   "metadata": {
    "id": "2D29pGuikBBK"
   },
   "source": [
    "então df_estudantes2 tem o mesmo conteúdo de df_estudantes, ok?"
   ]
  },
  {
   "cell_type": "code",
   "execution_count": null,
   "metadata": {
    "id": "_IseZEpLkGS4"
   },
   "outputs": [],
   "source": [
    "df_estudantes2"
   ]
  },
  {
   "cell_type": "markdown",
   "metadata": {
    "id": "29MpozLrkI83"
   },
   "source": [
    "Agora altere o valor 'Rio de Janeiro' para 'Sao Paulo' no dataframe df_estudantes2."
   ]
  },
  {
   "cell_type": "code",
   "execution_count": null,
   "metadata": {
    "id": "TXCqFiGFkmyv"
   },
   "outputs": [],
   "source": [
    "df_estudantes2['city'] = df_estudantes2['city'].replace({'Rio de Janeiro': 'Sao Paulo'})\n",
    "df_estudantes2"
   ]
  },
  {
   "cell_type": "code",
   "execution_count": null,
   "metadata": {
    "id": "I_0mgT7-8Fsl"
   },
   "outputs": [],
   "source": [
    "# OU\n",
    "alteracoes = {'Rio de Janeiro': 'Sao Paulo'}\n",
    "df_estudantes2['city'] = df_estudantes2['city'].replace(alteracoes)\n",
    "df_estudantes2"
   ]
  },
  {
   "cell_type": "markdown",
   "metadata": {
    "id": "BN8ZGu2Xk6vt"
   },
   "source": [
    "Ok, alteramos o valor 'Rio de Janeiro' por 'Sao Paulo', como queríamos. Vamos ver o conteúdo de df_estudantes (**que está intacto, pois fizemos a alteração no dataframe df_estudantes2**)."
   ]
  },
  {
   "cell_type": "code",
   "execution_count": null,
   "metadata": {
    "id": "thNAWoDflRoQ"
   },
   "outputs": [],
   "source": [
    "df_estudantes"
   ]
  },
  {
   "cell_type": "markdown",
   "metadata": {
    "id": "VkIS8wVmlAyq"
   },
   "source": [
    "Ooooops... df_estudantes foi alterado? Como, se procedemos a alteração em df_estudantes2 e NÃO em df_estudantes???\n",
    "\n",
    "* **As operações que fizermos em df_estudantes2 também serão aplicadas à df_estudantes**?"
   ]
  },
  {
   "cell_type": "markdown",
   "metadata": {
    "id": "e9u-Z9NMltC9"
   },
   "source": [
    "**Resposta**: SIM, pois df_estudantes2 é um ponteiro para df_estudantes. Ou seja, **qualquer operação que fizermos em df_estudantes2 será feita em df_estudantes**."
   ]
  },
  {
   "cell_type": "markdown",
   "metadata": {
    "id": "IDwvsxhhmlE4"
   },
   "source": [
    "Uma forma fácil de ver isso é através dos endereços de memória dos dois (**supostos diferentes**) dataframes:"
   ]
  },
  {
   "cell_type": "code",
   "execution_count": null,
   "metadata": {
    "id": "ePFwKua8mu7k"
   },
   "outputs": [],
   "source": [
    "id(df_estudantes2)"
   ]
  },
  {
   "cell_type": "code",
   "execution_count": null,
   "metadata": {
    "id": "bMvY_E0mmwQH"
   },
   "outputs": [],
   "source": [
    "id(df_estudantes)"
   ]
  },
  {
   "cell_type": "markdown",
   "metadata": {
    "id": "K5qC5BuzmyF0"
   },
   "source": [
    "**Conclusão**: df_estudantes2 é ponteiro para df_estudantes."
   ]
  },
  {
   "cell_type": "markdown",
   "metadata": {
    "id": "ZZ50ejRImAQ8"
   },
   "source": [
    "## Forma correta de fazer a cópia de um dataframe"
   ]
  },
  {
   "cell_type": "markdown",
   "metadata": {
    "id": "oTbzxNkDmQiJ"
   },
   "source": [
    "Primeiramente, vamos reconstruir df_estudantes:"
   ]
  },
  {
   "cell_type": "code",
   "execution_count": null,
   "metadata": {
    "id": "DmVq0vM0mTtQ"
   },
   "outputs": [],
   "source": [
    "df_estudantes = pd.DataFrame(d_estudantes)\n",
    "df_estudantes"
   ]
  },
  {
   "cell_type": "markdown",
   "metadata": {
    "id": "oZrlwtqJmYB_"
   },
   "source": [
    "Fazendo a cópia do dataframe (**da forma correta**):"
   ]
  },
  {
   "cell_type": "code",
   "execution_count": null,
   "metadata": {
    "id": "No5A7nHDFbsy"
   },
   "outputs": [],
   "source": [
    "df_estudantes_Copy = df_estudantes.copy()"
   ]
  },
  {
   "cell_type": "markdown",
   "metadata": {
    "id": "NvKNFr8RnEft"
   },
   "source": [
    "Vamos verificar os endereços de memória dos dois dataframes:"
   ]
  },
  {
   "cell_type": "code",
   "execution_count": null,
   "metadata": {
    "id": "0_OO90SFki4f"
   },
   "outputs": [],
   "source": [
    "id(df_estudantes_Copy)"
   ]
  },
  {
   "cell_type": "code",
   "execution_count": null,
   "metadata": {
    "id": "T0BibX8rkes5"
   },
   "outputs": [],
   "source": [
    "id(df_estudantes)"
   ]
  },
  {
   "cell_type": "markdown",
   "metadata": {
    "id": "Fbm-8cCUFgJa"
   },
   "source": [
    "Agora,  dataframe df_estudantes_Copy é uma cópia do dataframe df_estudantes"
   ]
  },
  {
   "cell_type": "markdown",
   "metadata": {
    "id": "SuL8WUxL-u6-"
   },
   "source": [
    "___\n",
    "# **Renomear COLUNAS do dataframe**\n",
    "> **Snippet**: \n",
    "\n",
    "    * df.rename(columns = {'Old_Name': 'New_Name'}, inplace = True)\n",
    "    * OU df = df.rename(columns = {'Old_Name': 'New_Name'})"
   ]
  },
  {
   "cell_type": "markdown",
   "metadata": {
    "id": "IvpCfmQnIZKl"
   },
   "source": [
    "Suponha que quero renamear a COLUNA 'nome' para 'nome_cliente', que é um nome mais sugestivo."
   ]
  },
  {
   "cell_type": "code",
   "execution_count": null,
   "metadata": {
    "id": "o54Fa-yxnmuz"
   },
   "outputs": [],
   "source": [
    "df_estudantes"
   ]
  },
  {
   "cell_type": "code",
   "execution_count": null,
   "metadata": {
    "id": "FwzXjYJgCvGk"
   },
   "outputs": [],
   "source": [
    "df_estudantes= df_estudantes.rename(columns = {'nome': 'nome_cliente'})"
   ]
  },
  {
   "cell_type": "markdown",
   "metadata": {
    "id": "gOolGiWt4A18"
   },
   "source": [
    "O comando abaixo produz o mesmo resultado que a linha anterior:"
   ]
  },
  {
   "cell_type": "markdown",
   "metadata": {
    "id": "Y6jjAFRd341e"
   },
   "source": [
    "```\n",
    "df_estudantes.rename(columns= {'nome': 'nome_cliente'}, inplace = True)\n",
    "```"
   ]
  },
  {
   "cell_type": "code",
   "execution_count": null,
   "metadata": {
    "id": "DwVMldKiF5gS"
   },
   "outputs": [],
   "source": [
    "# Mostrando o conteúdo de df_estudantes após renamearmos a coluna/variável 'nome' para 'Clien_Name'...\n",
    "df_estudantes"
   ]
  },
  {
   "cell_type": "markdown",
   "metadata": {
    "id": "m-WZBLWqELOv"
   },
   "source": [
    "Agora, suponha que queremos renamear 'age' para 'idade_cliente', 'city' para 'cidade_cliente' e 'country' para 'pais_cliente'..."
   ]
  },
  {
   "cell_type": "code",
   "execution_count": null,
   "metadata": {
    "id": "VS6ua4u1EX5g"
   },
   "outputs": [],
   "source": [
    "df_estudantes.rename(columns = {'age': 'idade_cliente', 'city': 'cidade_cliente', 'country': 'pais_cliente'}, inplace = True)"
   ]
  },
  {
   "cell_type": "markdown",
   "metadata": {
    "id": "i_7LW07y4SvO"
   },
   "source": [
    "O comando abaixo produz o mesmo resultado que a linha anterior:"
   ]
  },
  {
   "cell_type": "markdown",
   "metadata": {
    "id": "9X-cv9RL4WjV"
   },
   "source": [
    "```\n",
    "df_estudante = df_estudantes.rename(columns= {'Age': 'idade_cliente', 'City': 'cidade_cliente', 'Country': 'pais_cliente'}, inplace = True)\n",
    "```"
   ]
  },
  {
   "cell_type": "code",
   "execution_count": null,
   "metadata": {
    "id": "EOb1-TEKGM9I"
   },
   "outputs": [],
   "source": [
    "# Mostrando o conteúdo de df_estudantes após a múltipla operação de renamear...\n",
    "df_estudantes"
   ]
  },
  {
   "cell_type": "markdown",
   "metadata": {
    "id": "q0IZZjLRJlU6"
   },
   "source": [
    "Alguma dúvida até aqui?\n",
    "Tudo bem até aqui?"
   ]
  },
  {
   "cell_type": "markdown",
   "metadata": {
    "id": "5LwL2m5KbLYz"
   },
   "source": [
    "## Challenge\n",
    "* Aplicar lowercase() em todas as COLUNAS do dataframe df_estudantes. Como fazer isso?"
   ]
  },
  {
   "cell_type": "markdown",
   "metadata": {
    "id": "MURfzmeLbUzF"
   },
   "source": [
    "### Minha solução:"
   ]
  },
  {
   "cell_type": "code",
   "execution_count": null,
   "metadata": {
    "id": "r-FgBY-3xBi9"
   },
   "outputs": [],
   "source": [
    "df_estudantes2 = df_estudantes.copy()"
   ]
  },
  {
   "cell_type": "code",
   "execution_count": null,
   "metadata": {
    "id": "hlSlfcoub8gH"
   },
   "outputs": [],
   "source": [
    "# Colocar o nome das COLUNAS numa lista:\n",
    "l_colunas = df_estudantes2.columns\n",
    "l_colunas"
   ]
  },
  {
   "cell_type": "code",
   "execution_count": null,
   "metadata": {
    "id": "I_IGvEK4bdQP"
   },
   "outputs": [],
   "source": [
    "# Lowercase todas as COLUNAS\n",
    "df_estudantes2.columns = [col.lower() for col in l_colunas]"
   ]
  },
  {
   "cell_type": "code",
   "execution_count": null,
   "metadata": {
    "id": "0qzzAa3ycKmF"
   },
   "outputs": [],
   "source": [
    "# Mostrando o conteúdo do dataframe df_estudantes\n",
    "df_estudantes2"
   ]
  },
  {
   "cell_type": "markdown",
   "metadata": {
    "id": "c-u-ndMPV_KX"
   },
   "source": [
    "___\n",
    "# **Adicionar/Acrescentar novas LINHAS ao dataframe**"
   ]
  },
  {
   "cell_type": "markdown",
   "metadata": {
    "id": "MDkWbukBLhw7"
   },
   "source": [
    "## Usando dicionários\n",
    "* É necessário informar {'Column_Name': value} para cada inserção. Por exemplo, vou adicionar o seguinte registro ao dataframe:\n",
    "    * nome_cliente= 'Anderson';\n",
    "    * idade_cliente= 22;\n",
    "    * cidade_cliente= 'Porto';\n",
    "    * pais_cliente= 'Portugal'"
   ]
  },
  {
   "cell_type": "code",
   "execution_count": null,
   "metadata": {
    "id": "GECPO7iyK9UU"
   },
   "outputs": [],
   "source": [
    "df_estudantes"
   ]
  },
  {
   "cell_type": "code",
   "execution_count": null,
   "metadata": {
    "id": "XQKqqC93LoQ_"
   },
   "outputs": [],
   "source": [
    "df_estudantes_Copia= df_estudantes.copy()\n",
    "df_estudantes.append({'nome_cliente': 'Anderson', \n",
    "               'idade_cliente': 22,\n",
    "               'cidade_cliente': 'Porto',\n",
    "               'pais_cliente': 'Portugal'}, ignore_index = True)"
   ]
  },
  {
   "cell_type": "markdown",
   "metadata": {
    "id": "bdBttsHNLjd-"
   },
   "source": [
    "Esse é o resultado que desejamos?\n",
    "Saberia explicar-nos o que houve de errado?"
   ]
  },
  {
   "cell_type": "markdown",
   "metadata": {
    "id": "6jDoq6CCMerp"
   },
   "source": [
    "**DICA**: Lembre-se que no passo anterior, reescrevemos os nomes das COLUNAS usando o método lower()."
   ]
  },
  {
   "cell_type": "code",
   "execution_count": null,
   "metadata": {
    "id": "ffReAaUHLvEF"
   },
   "outputs": [],
   "source": [
    "# Definindo df_estudantes novamente usando a cópia df_estudantes_Copia\n",
    "df_estudantes = df_estudantes_Copia.copy()\n",
    "df_estudantes"
   ]
  },
  {
   "cell_type": "markdown",
   "metadata": {
    "id": "EzTo-IvmM2Fg"
   },
   "source": [
    "Ok, restabelecemos a cópia de df_estudantes. Agora vamos à forma correta:"
   ]
  },
  {
   "cell_type": "code",
   "execution_count": null,
   "metadata": {
    "id": "IRhE76i4M6d6"
   },
   "outputs": [],
   "source": [
    "df_estudantes = df_estudantes.append({'nome_cliente': 'Anderson', \n",
    "               'idade_cliente': 22,\n",
    "               'cidade_cliente': 'Porto',\n",
    "               'pais_cliente': 'Portugal'}, ignore_index= True)"
   ]
  },
  {
   "cell_type": "markdown",
   "metadata": {
    "id": "jAojB2MMNDRJ"
   },
   "source": [
    "Bom, esse é o resultado que estávamos à espera..."
   ]
  },
  {
   "cell_type": "markdown",
   "metadata": {
    "id": "5czZb-5wNp_F"
   },
   "source": [
    "## Usando Series\n",
    "* Como exemplo, considere que queremos adicionar os seguintes dados:\n",
    "    * nome_cliente= 'Bill';\n",
    "    * idade_cliente= 30;\n",
    "    * cidade_cliente= 'São Paulo';\n",
    "    * pais_cliente= 'Brazil'"
   ]
  },
  {
   "cell_type": "code",
   "execution_count": null,
   "metadata": {
    "id": "J3qCydqMNtGt"
   },
   "outputs": [],
   "source": [
    "novo_estudante = pd.Series(['Bill', 30, 'Sao Paulo', 'Brazil'], index= df_estudantes2.columns) # Olha que interessante: estamos a usar index= df_estudantes.columns."
   ]
  },
  {
   "cell_type": "markdown",
   "metadata": {
    "id": "g_DyMDrNPrmC"
   },
   "source": [
    "Vamos ver o conteúdo de novo_estudante:"
   ]
  },
  {
   "cell_type": "code",
   "execution_count": null,
   "metadata": {
    "id": "jDQUl0RBPoLB"
   },
   "outputs": [],
   "source": [
    "novo_estudante"
   ]
  },
  {
   "cell_type": "markdown",
   "metadata": {
    "id": "zMKRNQrsPvxp"
   },
   "source": [
    "Por fim, adiciona/acrescenta novo_estudante ao dataframe df_estudantes..."
   ]
  },
  {
   "cell_type": "code",
   "execution_count": null,
   "metadata": {
    "id": "5mEQg26iPw4A"
   },
   "outputs": [],
   "source": [
    "df_estudantes2 = df_estudantes2.append(novo_estudante, ignore_index= True)\n",
    "df_estudantes2"
   ]
  },
  {
   "cell_type": "markdown",
   "metadata": {
    "id": "Biwk2McAWW1Z"
   },
   "source": [
    "___\n",
    "# **Adicionar/acrescentar novas COLUNAS ao Dataframe**"
   ]
  },
  {
   "cell_type": "markdown",
   "metadata": {
    "id": "EZFTH7A-Wpw5"
   },
   "source": [
    "## Usando Lists\n",
    "* Suponha que queremos adicionar a coluna/variável 'Score'"
   ]
  },
  {
   "cell_type": "code",
   "execution_count": null,
   "metadata": {
    "id": "YzBKQo5epXP5"
   },
   "outputs": [],
   "source": [
    "df_estudantes2"
   ]
  },
  {
   "cell_type": "code",
   "execution_count": null,
   "metadata": {
    "id": "pPoObAKJW6YF"
   },
   "outputs": [],
   "source": [
    "# Acrescentando ou criando a coluna/variável 'score' ao dataframe usando um objeto list\n",
    "df_estudantes2['score'] = [500, 300, 200, 800, 700, 100]"
   ]
  },
  {
   "cell_type": "code",
   "execution_count": null,
   "metadata": {
    "id": "Ocbh8sZqWsoW"
   },
   "outputs": [],
   "source": [
    "# Mostra o conteúdo do dataframe df_estudantes...\n",
    "df_estudantes2"
   ]
  },
  {
   "cell_type": "markdown",
   "metadata": {
    "id": "ZxfCMcVxYQgL"
   },
   "source": [
    "> **Atenção**:\n",
    "\n",
    "* Se a quantidade de valores da lista forem menores que o número de LINHAS do dataframe, então o Python apresenta um erro.\n",
    "* Se a coluna/variável que queremos inserir já existe no dataframe, então os valores serão atualizados com os novos."
   ]
  },
  {
   "cell_type": "markdown",
   "metadata": {
    "id": "34ntllD_YbNa"
   },
   "source": [
    "## Usando um valor default\n",
    "* Adicionar a coluna 'total' com o mesmo valor para todas as LINHAS"
   ]
  },
  {
   "cell_type": "code",
   "execution_count": null,
   "metadata": {
    "id": "T7QSMJMQYous"
   },
   "outputs": [],
   "source": [
    "df_estudantes['total'] = 500\n",
    "df_estudantes"
   ]
  },
  {
   "cell_type": "markdown",
   "metadata": {
    "id": "gll-gJt7as3C"
   },
   "source": [
    "## Adicionar uma COLUNA calculada a partir de outras COLUNAS"
   ]
  },
  {
   "cell_type": "code",
   "execution_count": null,
   "metadata": {
    "id": "T_pB_isBaw-E"
   },
   "outputs": [],
   "source": [
    "df_estudantes['percentagem'] = 100*(df_estudantes['score']/sum(df_estudantes['score']))\n",
    "df_estudantes"
   ]
  },
  {
   "cell_type": "markdown",
   "metadata": {
    "id": "D9TNylt84hle"
   },
   "source": [
    "___\n",
    "# **Ler/carregar dados no Python**\n",
    "* Vários formatos de arquivos podem ser lidos:\n",
    "\n",
    "|Format Type | Data Description | Reader | Writer |\n",
    "|---|---|---|---|\n",
    "text | CSV | read_csv | to_csv |\n",
    "text | JSON | read_json | to_json |\n",
    "text | HTML | read_html | to_html |\n",
    "text | Local clipboard | read_clipboard | to_clipboard |\n",
    "binary | MS Excel | read_excel | to_excel |\n",
    "binary | HDF5 Format | read_hdf | to_hdf |\n",
    "binary | Stata | read_stata | to_stata |\n",
    "binary | SAS | read_sas \n",
    "binary | Python Pickle Format | read_pickle | to_pickle |\n",
    "SQL | SQL | read_sql | to_sql |\n",
    "SQL | Google Big Query | read_gbq | to_gbq |\n",
    "\n",
    "* Fonte: [IO tools (text, CSV, HDF5, …)](https://pandas.pydata.org/pandas-docs/stable/user_guide/io.html)"
   ]
  },
  {
   "cell_type": "markdown",
   "metadata": {
    "id": "Ss8jLEUSblDm"
   },
   "source": [
    "___\n",
    "# **Ler/Carregar csv**"
   ]
  },
  {
   "cell_type": "code",
   "execution_count": null,
   "metadata": {
    "id": "n8e9aphab_oe"
   },
   "outputs": [],
   "source": [
    "# carregar a library Pandas\n",
    "import pandas as pd"
   ]
  },
  {
   "cell_type": "markdown",
   "metadata": {
    "id": "R2fRd_MSQ2Xa"
   },
   "source": [
    "A seguir, vamos:\n",
    "* Ler o dataframe Titanic.csv;\n",
    "* Definir 'PassengerId' como índice/chave da tabela através do comando index_col= 'PassengerId'."
   ]
  },
  {
   "cell_type": "code",
   "execution_count": null,
   "metadata": {
    "id": "1R9YoFJ02TR7"
   },
   "outputs": [],
   "source": [
    "url = 'https://raw.githubusercontent.com/MathMachado/DataFrames/master/Titanic_With_MV.csv?token=AGDJQ67OZ36XJUJPE77Z7LC7RBCAU'\n",
    "df_Titanic = pd.read_csv(url, index_col = 'PassengerId')\n",
    "df_Titanic.head()"
   ]
  },
  {
   "cell_type": "code",
   "execution_count": null,
   "metadata": {
    "id": "VS7_V15u0MgR"
   },
   "outputs": [],
   "source": [
    "df_Titanic.iloc[4] # NÃO É A MESMA COISA QUE df_Titanic.loc[4]!!!"
   ]
  },
  {
   "cell_type": "markdown",
   "metadata": {
    "id": "WJ9RlRDSkk0_"
   },
   "source": [
    "* Segue o dicionário de dados do dataframe df_Titanic:\n",
    "    * PassengerID: ID do passageiro;\n",
    "    * survived: Indicador, sendo 1= Passageiro sobreviveu e 0= Passageiro morreu;\n",
    "    * Pclass: Classe;\n",
    "    * Age: Idade do Passageiro;\n",
    "    * SibSp: Número de parentes a bordo (esposa, irmãos, pais e etc);\n",
    "    * Parch: Número de pais/crianças a bordo;\n",
    "    * Fare: Valor pago pelo Passageiro;\n",
    "    * Cabin: Cabine do Passageiro;\n",
    "    * Embarked: A porta pelo qual o Passageiro embarcou.\n",
    "    * Name: Nome do Passageiro;\n",
    "    * sex: sexo do Passageiro."
   ]
  },
  {
   "cell_type": "code",
   "execution_count": null,
   "metadata": {
    "id": "wz7Qd9mqMrfY"
   },
   "outputs": [],
   "source": [
    "# Show o dataframe df_Titanic:\n",
    "df_Titanic.head()"
   ]
  },
  {
   "cell_type": "markdown",
   "metadata": {
    "id": "nDlANdnm4iod"
   },
   "source": [
    "### DICA 1\n",
    "Suponha que o dataframe que queremos ler esteja localizado em:\n",
    "\n",
    "```\n",
    "/home/nsolucoes4ds/Dropbox/Data_Science/Python/Python_RFB/Python_RFB-DS_Python_020919_2244/Dataframes\n",
    "```\n",
    "\n",
    "Desta forma, para ler o dataframe (local), basta usar o comando a seguir:\n",
    "\n",
    "```\n",
    "url = '/home/nsolucoes4ds/Dropbox/Data_Science/Python/Python_RFB/Python_RFB-DS_Python_020919_2244/Dataframes/creditcard.csv'\n",
    "df_Titanic = pd.read_csv(url)\n",
    "```\n",
    "\n",
    "### Dica 2\n",
    "No Windows, o diretório aparece, por exemplo, da seguinte forma: \n",
    "```\n",
    "C:\\nsolucoes4ds\\Data_Science\n",
    "```\n",
    "Observe as '\\\\' (**barras invertidas**). Neste caso, use o comando a seguir:\n",
    "\n",
    "```\n",
    "url= r'C:\\nsolucoes4ds\\Data_Science\\creditcard.csv'\n",
    "df_Titanic = pd.read_csv(url)\n",
    "```\n",
    "\n",
    "Percebeu o r'diretorio'?"
   ]
  },
  {
   "cell_type": "markdown",
   "metadata": {
    "id": "HubfewY8NgUv"
   },
   "source": [
    "___\n",
    "# **Corrigir (ou uniformizar) nome das COLUNAS**\n",
    "* Por exemplo, reescrever o nome das COLUNAS usando lowercase()."
   ]
  },
  {
   "cell_type": "markdown",
   "metadata": {
    "id": "4f_pEEOjvwjk"
   },
   "source": [
    "Para facilitar nossas análises, vamos aplicar o método lower() em todos os valores das COLUNAS objects/strings. Para isso, considere a função abaixo:"
   ]
  },
  {
   "cell_type": "code",
   "execution_count": null,
   "metadata": {
    "id": "Ft13IahH1kVX"
   },
   "outputs": [],
   "source": [
    "df_Titanic.head()"
   ]
  },
  {
   "cell_type": "code",
   "execution_count": null,
   "metadata": {
    "id": "G-UlaHFPv7kp"
   },
   "outputs": [],
   "source": [
    "def transformacao_lower(df):\n",
    "    # Primeira transformação: Aplicar lower() nos nomes das COLUNAS:\n",
    "    df.columns = [col.lower() for col in df.columns]\n",
    "\n",
    "    # Segunda transformação: Aplicar o método .str.lower() nos valores das COLUNAS object/strings:\n",
    "    l_cols_objeto = df.select_dtypes(include = ['object']).columns\n",
    "    \n",
    "    for col in l_cols_objeto:\n",
    "        df[col] = df[col].str.lower()"
   ]
  },
  {
   "cell_type": "markdown",
   "metadata": {
    "id": "hNixsW8M7n1X"
   },
   "source": [
    "Para saber mais sobre o método df[col].str.lower(), consulte [pandas.Series.str.lower](https://pandas.pydata.org/pandas-docs/stable/reference/api/pandas.Series.str.lower.html)."
   ]
  },
  {
   "cell_type": "code",
   "execution_count": null,
   "metadata": {
    "id": "hz90zejtbxYj"
   },
   "outputs": [],
   "source": [
    "transformacao_lower(df_Titanic)\n",
    "df_Titanic.head()"
   ]
  },
  {
   "cell_type": "markdown",
   "metadata": {
    "id": "UE5P1W-CPePM"
   },
   "source": [
    "# **Selecionar um subconjunto de colunas**\n",
    "Suponha que eu queira selecionar somente as colunas 'Name' e 'Sex'."
   ]
  },
  {
   "cell_type": "code",
   "execution_count": null,
   "metadata": {
    "id": "P7HJa4x7P0bQ"
   },
   "outputs": [],
   "source": [
    "df_Titanic.head()"
   ]
  },
  {
   "cell_type": "code",
   "execution_count": null,
   "metadata": {
    "id": "3jLZUCfePsBs"
   },
   "outputs": [],
   "source": [
    "df_Titanic2 = df_Titanic[['Name', 'Sex']]\n",
    "df_Titanic2.head()"
   ]
  },
  {
   "cell_type": "markdown",
   "metadata": {
    "id": "PyNsYTilnL2r"
   },
   "source": [
    "# map()\n",
    "> Artificio para lidar com a transformação de dados utilizando um dicionário: {'key': valor}."
   ]
  },
  {
   "cell_type": "code",
   "execution_count": null,
   "metadata": {
    "id": "6z4FcyyAiTfF"
   },
   "outputs": [],
   "source": [
    "# Construindo uma variável mais intuitiva para nos ajudar nas análises:\n",
    "df_Titanic['survived2'] = df_Titanic['survived']\n",
    "df_Titanic['survived2'] = df_Titanic['survived2'].map({0:'died', 1:'survived'})\n",
    "df_Titanic[['survived', 'survived2']].head(3)"
   ]
  },
  {
   "cell_type": "markdown",
   "metadata": {
    "id": "jwBWkaJOdhCv"
   },
   "source": [
    "___\n",
    "# **Selecionar COLUNAS do dataframe**\n",
    "* Suponha que queremos selecionar somente as COLUNAS 'survived', 'sex' e 'embarked':"
   ]
  },
  {
   "cell_type": "code",
   "execution_count": null,
   "metadata": {
    "id": "Ivvj8JU2pBTq"
   },
   "outputs": [],
   "source": [
    "df_Titanic2 = df_Titanic[['survived', 'sex', 'embarked']]\n",
    "df_Titanic2.head()"
   ]
  },
  {
   "cell_type": "markdown",
   "metadata": {
    "id": "Nf-Wnof_fdTR"
   },
   "source": [
    "___\n",
    "# **Criar um dicionário a partir de um dataframe**\n",
    "> Suponha o dataframe-exemplo a seguir:"
   ]
  },
  {
   "cell_type": "code",
   "execution_count": null,
   "metadata": {
    "id": "lxf6Lgp4fit8"
   },
   "outputs": [],
   "source": [
    "df = pd.DataFrame({'a': ['red', 'yellow', 'blue'], 'b': [0.5, 0.25, 0.125]})\n",
    "df"
   ]
  },
  {
   "cell_type": "markdown",
   "metadata": {
    "id": "l7yzJu1y5huV"
   },
   "source": [
    "De dataframe para Dicionário..."
   ]
  },
  {
   "cell_type": "code",
   "execution_count": null,
   "metadata": {
    "id": "_6V0qFZGhEoF"
   },
   "outputs": [],
   "source": [
    "df.to_dict('dict')"
   ]
  },
  {
   "cell_type": "markdown",
   "metadata": {
    "id": "0GIe6xtqPA1Z"
   },
   "source": [
    "___\n",
    "# **Criar uma lista a partir de um dataframe**\n",
    "> Suponha o dataframe-exemplo a seguir:"
   ]
  },
  {
   "cell_type": "code",
   "execution_count": null,
   "metadata": {
    "id": "fZxgejTtPLzX"
   },
   "outputs": [],
   "source": [
    "df = pd.DataFrame({'a': ['red', 'yellow', 'blue'], 'b': [0.5, 0.25, 0.125]})\n",
    "df"
   ]
  },
  {
   "cell_type": "markdown",
   "metadata": {
    "id": "JoShm6oF5qLV"
   },
   "source": [
    "De dataframe para Lista..."
   ]
  },
  {
   "cell_type": "code",
   "execution_count": null,
   "metadata": {
    "id": "gigPpSH_hlXu"
   },
   "outputs": [],
   "source": [
    "df.to_dict('list')"
   ]
  },
  {
   "cell_type": "markdown",
   "metadata": {
    "id": "GpJDX-5xUUC0"
   },
   "source": [
    "___\n",
    "# **Mostrar as primeiras k LINHAS do dataframe**\n",
    "> df.head(k), onde k é o número de LINHAS que queremos visualizar. Por default, k= 10."
   ]
  },
  {
   "cell_type": "code",
   "execution_count": null,
   "metadata": {
    "id": "RwC9j_OxUbIR"
   },
   "outputs": [],
   "source": [
    "df_Titanic.head()"
   ]
  },
  {
   "cell_type": "markdown",
   "metadata": {
    "id": "G9cp2QrsA5M0"
   },
   "source": [
    "___\n",
    "# **Mostrar as últimas k LINHAS do dataframe**\n",
    "> df.tail(k), onde k é o número de LINHAS que queremos ver. Por default, k= 10."
   ]
  },
  {
   "cell_type": "code",
   "execution_count": null,
   "metadata": {
    "id": "9mPxyhqoA4Wc"
   },
   "outputs": [],
   "source": [
    "df_Titanic.tail()"
   ]
  },
  {
   "cell_type": "markdown",
   "metadata": {
    "id": "Odwm2qSLA_Ro"
   },
   "source": [
    "Por default, df.tail() mostra as últimas 5 LINHAS/instâncias do dataframe. Entretando, pode ser ver qualquer número de LINHAS k, como, por exemplo, k= 10 mostrado abaixo."
   ]
  },
  {
   "cell_type": "code",
   "execution_count": null,
   "metadata": {
    "id": "pUAnR00WA8ma"
   },
   "outputs": [],
   "source": [
    "df_Titanic.tail(10)"
   ]
  },
  {
   "cell_type": "markdown",
   "metadata": {
    "id": "cZ64LfWv4zxo"
   },
   "source": [
    "___\n",
    "# **Mostrar o nome das COLUNAS do dataframe**\n",
    "* df.columns"
   ]
  },
  {
   "cell_type": "code",
   "execution_count": null,
   "metadata": {
    "id": "CKUUrX5n4zFW"
   },
   "outputs": [],
   "source": [
    "df_Titanic.columns"
   ]
  },
  {
   "cell_type": "markdown",
   "metadata": {
    "id": "6m7ukrOu5Inv"
   },
   "source": [
    "___\n",
    "# **Mostrar os tipos das COLUNAS do dataframe**\n",
    "* Propriedade: df.dtypes --> Não há parênteses!"
   ]
  },
  {
   "cell_type": "code",
   "execution_count": null,
   "metadata": {
    "id": "S4NIHAPPl9lc"
   },
   "outputs": [],
   "source": [
    "df_Titanic.dtypes # dtypes é uma propriedade, portanto não requer \"()\". Os métodos, por outro lado, requerem \"(arg1, arg2, ..., argN)\""
   ]
  },
  {
   "cell_type": "markdown",
   "metadata": {
    "id": "DGc6m-UBdHlE"
   },
   "source": [
    "___\n",
    "# **Selecionar automaticamente as COLUNAS do dataframe pelo tipo**\n",
    "> snippet: df.select_dtypes(include=[tipo]).columns\n",
    "\n",
    "| Tipo | O que seleciona | Sintaxe |\n",
    "|------|-----------------|---------|\n",
    "| number | colunas do tipo numéricas | df.select_dtypes(include=['number]).columns |\n",
    "| float | colunas do tipo float | df.select_dtypes(include=['float']).columns |\n",
    "| bool | colunas do tipo booleanas | df.select_dtypes(include=['bool']).columns |\n",
    "| object | colunas do tipo categóricas/strings | df.select_dtypes(include=['object']).columns |\n",
    "\n",
    "* Se quisermos selecionar mais de um tipo, basta informar a lista de tipos. \n",
    "    * Exemplo: df.select_dtypes(include=['object', 'float']).columns\n"
   ]
  },
  {
   "cell_type": "markdown",
   "metadata": {
    "id": "O88YRCqIdYFL"
   },
   "source": [
    "## Selecionar automaticamente as COLUNAS Numéricas do dataframe"
   ]
  },
  {
   "cell_type": "markdown",
   "metadata": {
    "id": "xG4a9ZfRnxPW"
   },
   "source": [
    "### Lista com as COLUNAS numéricas do dataframe:"
   ]
  },
  {
   "cell_type": "code",
   "execution_count": null,
   "metadata": {
    "id": "C87uga35dKsF"
   },
   "outputs": [],
   "source": [
    "l_cols_numericas = df_Titanic.select_dtypes(include = ['number']).columns # \".columns\" retorna a lista de colunas numéricas\n",
    "l_cols_numericas"
   ]
  },
  {
   "cell_type": "markdown",
   "metadata": {
    "id": "5W6kbIVNn2UA"
   },
   "source": [
    "### DataFrame com as COLUNAS numéricas:"
   ]
  },
  {
   "cell_type": "code",
   "execution_count": null,
   "metadata": {
    "id": "iTieUd_-eDmW"
   },
   "outputs": [],
   "source": [
    "df_numericas = df_Titanic.select_dtypes(include = ['number']) # Atenção: aqui não temos .columns --> Neste caso, o retorno será o dataframe.\n",
    "df_numericas.head()"
   ]
  },
  {
   "cell_type": "markdown",
   "metadata": {
    "id": "xh4BFs_lds80"
   },
   "source": [
    "## Selecionar automaticamente as COLUNAS float do dataframe"
   ]
  },
  {
   "cell_type": "markdown",
   "metadata": {
    "id": "Tw3FD74MoC6q"
   },
   "source": [
    "### Lista com as COLUNAS float:"
   ]
  },
  {
   "cell_type": "code",
   "execution_count": null,
   "metadata": {
    "id": "5clAUAIrd3UR"
   },
   "outputs": [],
   "source": [
    "l_cols_float = df_Titanic.select_dtypes(include = ['float']).columns\n",
    "l_cols_float"
   ]
  },
  {
   "cell_type": "markdown",
   "metadata": {
    "id": "IZPROG6IoHwy"
   },
   "source": [
    "### DataFrame com as COLUNAS float:"
   ]
  },
  {
   "cell_type": "code",
   "execution_count": null,
   "metadata": {
    "id": "osJDsyMHeXX4"
   },
   "outputs": [],
   "source": [
    "df_float = df_Titanic.select_dtypes(include = ['float']) # Atenção: aqui não temos .columns\n",
    "df_float.head()"
   ]
  },
  {
   "cell_type": "markdown",
   "metadata": {
    "id": "5uObezIIfuJ4"
   },
   "source": [
    "## Selecionar automaticamente as COLUNAS Booleanas do dataframe"
   ]
  },
  {
   "cell_type": "markdown",
   "metadata": {
    "id": "xMKP5HhgoeMg"
   },
   "source": [
    "### Lista com as COLUNAS Booleanas:"
   ]
  },
  {
   "cell_type": "code",
   "execution_count": null,
   "metadata": {
    "id": "3Pn2IPBkf7k-"
   },
   "outputs": [],
   "source": [
    "l_cols_booleanas = df_Titanic.select_dtypes(include = ['bool']).columns\n",
    "l_cols_booleanas"
   ]
  },
  {
   "cell_type": "markdown",
   "metadata": {
    "id": "k3sdiuXYokBE"
   },
   "source": [
    "### DataFrame com as COLUNAS Booleanas:"
   ]
  },
  {
   "cell_type": "code",
   "execution_count": null,
   "metadata": {
    "id": "Oem-M-17f7lG"
   },
   "outputs": [],
   "source": [
    "df_booleanas = df_Titanic.select_dtypes(include=['bool']) # Atenção: aqui não temos .columns\n",
    "df_booleanas.head()"
   ]
  },
  {
   "cell_type": "markdown",
   "metadata": {
    "id": "ObHYW92-gOXz"
   },
   "source": [
    "## Selecionar automaticamente as COLUNAS do tipo string (object)"
   ]
  },
  {
   "cell_type": "markdown",
   "metadata": {
    "id": "IzM5CIKXoxHO"
   },
   "source": [
    "### Lista com as COLUNAS do tipo object/string:"
   ]
  },
  {
   "cell_type": "code",
   "execution_count": null,
   "metadata": {
    "id": "rdYThBingOX1"
   },
   "outputs": [],
   "source": [
    "l_cols_objeto = df_Titanic.select_dtypes(include=['object']).columns\n",
    "l_cols_objeto"
   ]
  },
  {
   "cell_type": "markdown",
   "metadata": {
    "id": "2ZGB5d36o21t"
   },
   "source": [
    "### DataFrame com as COLUNAS do tipo Object/String:"
   ]
  },
  {
   "cell_type": "code",
   "execution_count": null,
   "metadata": {
    "id": "kWTtxeU4gOX4"
   },
   "outputs": [],
   "source": [
    "df_cols_obs = df_Titanic.select_dtypes(include=['object']) # Atenção: aqui não temos .columns\n",
    "df_cols_obs.head()"
   ]
  },
  {
   "cell_type": "markdown",
   "metadata": {
    "id": "SEBKHKRLkbUK"
   },
   "source": [
    "___\n",
    "# **Reordenar as COLUNAS do dataframe**"
   ]
  },
  {
   "cell_type": "code",
   "execution_count": null,
   "metadata": {
    "id": "XRWfelWEkhae"
   },
   "outputs": [],
   "source": [
    "df_Titanic.head()"
   ]
  },
  {
   "cell_type": "markdown",
   "metadata": {
    "id": "KBGDeR_JkyCc"
   },
   "source": [
    "* Suponha que queremos reordenar as COLUNAS do dataframe df_Titanic em ordem alfabética, conforme abaixo:\n",
    "    * age;\n",
    "    * embarked;\n",
    "    * fare;\n",
    "    * parch;\n",
    "    * pclass;\n",
    "    * sex;\n",
    "    * sibsp;\n",
    "    * survived."
   ]
  },
  {
   "cell_type": "code",
   "execution_count": null,
   "metadata": {
    "id": "d9jJi6qllnq_"
   },
   "outputs": [],
   "source": [
    "# Dataframe ordenado\n",
    "df_Titanic = df_Titanic.reindex(sorted(df_Titanic.columns), axis = 1)\n",
    "df_Titanic.head()"
   ]
  },
  {
   "cell_type": "markdown",
   "metadata": {
    "id": "Cj4MREti-izC"
   },
   "source": [
    "___\n",
    "# **Mostrar a dimensão do dataframe**\n",
    "* Dimensão = Número de LINHAS e COLUNAS"
   ]
  },
  {
   "cell_type": "code",
   "execution_count": null,
   "metadata": {
    "id": "50Tij93l-n7B"
   },
   "outputs": [],
   "source": [
    "df_Titanic.shape"
   ]
  },
  {
   "cell_type": "markdown",
   "metadata": {
    "id": "ZQo4YeH_-qfL"
   },
   "source": [
    "Qual a interpretação?"
   ]
  },
  {
   "cell_type": "markdown",
   "metadata": {
    "id": "klHcwpPEALP8"
   },
   "source": [
    "## **Quebrar a dimensão em duas partes: número de LINHAS e COLUNAS**\n",
    "* Número de linhas do dataframe.: df_Titanic.shape[0]\n",
    "* Número de colunas do dataframe: df_Titanic.shape[1]"
   ]
  },
  {
   "cell_type": "code",
   "execution_count": null,
   "metadata": {
    "id": "qjR8OEdDAOog"
   },
   "outputs": [],
   "source": [
    "f'O dataframe df_Titanic possui {df_Titanic.shape[0]} linhas e {df_Titanic.shape[1]} colunas.'"
   ]
  },
  {
   "cell_type": "markdown",
   "metadata": {
    "id": "pIsf_nDtyAvF"
   },
   "source": [
    "___\n",
    "# **Combinar dataframes: Merge, Join & Concatenate**\n",
    "* Fonte: [Merge, join, and concatenate](https://pandas.pydata.org/pandas-docs/stable/user_guide/merging.html)"
   ]
  },
  {
   "cell_type": "markdown",
   "metadata": {
    "id": "s1fSplrlEMHK"
   },
   "source": [
    "* A seguir, três formas para combinar dataframes:"
   ]
  },
  {
   "cell_type": "markdown",
   "metadata": {
    "id": "6DYtWxuIrdzF"
   },
   "source": [
    "## Concatenate\n",
    "* Une/empilha dataframes\n",
    "* Fonte: https://github.com/aakankshaws/Pandas-exercises"
   ]
  },
  {
   "cell_type": "code",
   "execution_count": null,
   "metadata": {
    "id": "nnP5VuWkri_b"
   },
   "outputs": [],
   "source": [
    "import pandas as pd\n",
    "df1 = pd.DataFrame({'A': ['A0', 'A1', 'A2', 'A3'],\n",
    "                        'B': ['B0', 'B1', 'B2', 'B3'],\n",
    "                        'C': ['C0', 'C1', 'C2', 'C3'],\n",
    "                        'D': ['D0', 'D1', 'D2', 'D3']})"
   ]
  },
  {
   "cell_type": "code",
   "execution_count": null,
   "metadata": {
    "id": "rkJvSGYSrm8b"
   },
   "outputs": [],
   "source": [
    "df2 = pd.DataFrame({'A': ['A4', 'A5', 'A6', 'A7'],\n",
    "                        'B': ['B4', 'B5', 'B6', 'B7'],\n",
    "                        'C': ['C4', 'C5', 'C6', 'C7'],\n",
    "                        'D': ['D4', 'D5', 'D6', 'D7']})"
   ]
  },
  {
   "cell_type": "code",
   "execution_count": null,
   "metadata": {
    "id": "NCgdYvJIrqx1"
   },
   "outputs": [],
   "source": [
    "df3 = pd.DataFrame({'A': ['A8', 'A9', 'A10', 'A11'],\n",
    "                        'B': ['B8', 'B9', 'B10', 'B11'],\n",
    "                        'C': ['C8', 'C9', 'C10', 'C11'],\n",
    "                        'D': ['D8', 'D9', 'D10', 'D11']})"
   ]
  },
  {
   "cell_type": "code",
   "execution_count": null,
   "metadata": {
    "id": "gUoyjyjur5Zn"
   },
   "outputs": [],
   "source": [
    "df1"
   ]
  },
  {
   "cell_type": "code",
   "execution_count": null,
   "metadata": {
    "id": "xU6Rh10Gr7NA"
   },
   "outputs": [],
   "source": [
    "df2"
   ]
  },
  {
   "cell_type": "code",
   "execution_count": null,
   "metadata": {
    "id": "qKwmOWsQr9wA"
   },
   "outputs": [],
   "source": [
    "df3"
   ]
  },
  {
   "cell_type": "code",
   "execution_count": null,
   "metadata": {
    "id": "-MNn-XdlsjJS"
   },
   "outputs": [],
   "source": [
    "df= pd.concat([df1, df2, df3])\n",
    "df"
   ]
  },
  {
   "cell_type": "markdown",
   "metadata": {
    "id": "BV6HgxSYtG6Z"
   },
   "source": [
    "Veja que basicamente empilhamos os dataframes. No entanto, se fizermos..."
   ]
  },
  {
   "cell_type": "code",
   "execution_count": null,
   "metadata": {
    "id": "Dp-oh-7ftLo5"
   },
   "outputs": [],
   "source": [
    "df = pd.concat([df1, df2, df3], axis = 1) # axis = 1 é uma operação de coluna\n",
    "df"
   ]
  },
  {
   "cell_type": "markdown",
   "metadata": {
    "id": "iyDZt2XEtmVs"
   },
   "source": [
    "Se, no entanto, tivermos:"
   ]
  },
  {
   "cell_type": "code",
   "execution_count": null,
   "metadata": {
    "id": "5PAhjjVZtpP5"
   },
   "outputs": [],
   "source": [
    "df1 = pd.DataFrame({'A': ['A0', 'A1', 'A2', 'A3'],\n",
    "                        'B': ['B0', 'B1', 'B2', 'B3'],\n",
    "                        'C': ['C0', 'C1', 'C2', 'C3'],\n",
    "                        'D': ['D0', 'D1', 'D2', 'D3']},\n",
    "                        index=[0, 1, 2, 3])\n",
    "\n",
    "df2 = pd.DataFrame({'A': ['A4', 'A5', 'A6', 'A7'],\n",
    "                        'B': ['B4', 'B5', 'B6', 'B7'],\n",
    "                        'C': ['C4', 'C5', 'C6', 'C7'],\n",
    "                        'D': ['D4', 'D5', 'D6', 'D7']},\n",
    "                         index=[4, 5, 6, 7])\n",
    "\n",
    "df3 = pd.DataFrame({'A': ['A8', 'A9', 'A10', 'A11'],\n",
    "                        'B': ['B8', 'B9', 'B10', 'B11'],\n",
    "                        'C': ['C8', 'C9', 'C10', 'C11'],\n",
    "                        'D': ['D8', 'D9', 'D10', 'D11']},\n",
    "                        index=[8, 9, 10, 11])"
   ]
  },
  {
   "cell_type": "markdown",
   "metadata": {
    "id": "zGDHd-kPt3-T"
   },
   "source": [
    "Então..."
   ]
  },
  {
   "cell_type": "code",
   "execution_count": null,
   "metadata": {
    "id": "3bTl2Nr2t5WM"
   },
   "outputs": [],
   "source": [
    "df = pd.concat([df1, df2, df3], axis = 1)\n",
    "df"
   ]
  },
  {
   "cell_type": "markdown",
   "metadata": {
    "id": "sUXjlp_Jt925"
   },
   "source": [
    "Porque isso acontece?"
   ]
  },
  {
   "cell_type": "markdown",
   "metadata": {
    "id": "JdKXY873HrYt"
   },
   "source": [
    "## Merge\n",
    "> Primeiramente, vamos ver todos os casos possíveis de joins.\n",
    "\n",
    "### Exemplo\n",
    "> O exemplo a seguir foi inspirado no exemplo apresentado em [Visual Representation of SQL Joins](https://www.codeproject.com/Articles/33052/Visual-Representation-of-SQL-Joins). Considere os dataframes a seguir"
   ]
  },
  {
   "cell_type": "code",
   "execution_count": null,
   "metadata": {
    "id": "g4pmhk2t3x8s"
   },
   "outputs": [],
   "source": [
    "import pandas as pd\n",
    "\n",
    "d_Tabela_A = {'indices': [1,2,3,6,7,5,4,10], 'valores': ['A','B','C','D','E','F','G','H']}\n",
    "d_Tabela_B = {'indices': [1,2,3,6,7,8,9,11], 'valores': ['AA', 'BB','CC','DD','EE','FF','GG','HH']}"
   ]
  },
  {
   "cell_type": "code",
   "execution_count": null,
   "metadata": {
    "id": "XxfUULxY52ns"
   },
   "outputs": [],
   "source": [
    "df_conjunto_A = pd.DataFrame(d_Tabela_A).set_index('indices')\n",
    "df_conjunto_B = pd.DataFrame(d_Tabela_B).set_index('indices')"
   ]
  },
  {
   "cell_type": "markdown",
   "metadata": {
    "id": "gGdU36Vi0Yso"
   },
   "source": [
    "![SQL_inner_join](https://github.com/MathMachado/Materials/blob/master/SQL_inner_join.png?raw=true)\n",
    "\n",
    "Source: [Visual Representation of SQL Joins](https://www.codeproject.com/Articles/33052/Visual-Representation-of-SQL-Joins)."
   ]
  },
  {
   "cell_type": "code",
   "execution_count": null,
   "metadata": {
    "id": "5w7ox7LV9cuG"
   },
   "outputs": [],
   "source": [
    "df_conjunto_A"
   ]
  },
  {
   "cell_type": "code",
   "execution_count": null,
   "metadata": {
    "id": "TPhmKw-F9fWX"
   },
   "outputs": [],
   "source": [
    "df_conjunto_B"
   ]
  },
  {
   "cell_type": "code",
   "execution_count": null,
   "metadata": {
    "id": "5AaTlCPy9FBZ"
   },
   "outputs": [],
   "source": [
    "df_inner_join = pd.merge(df_conjunto_A, df_conjunto_B, on = 'indices', how = 'inner')\n",
    "df_inner_join"
   ]
  },
  {
   "cell_type": "markdown",
   "metadata": {
    "id": "U3OjFM0E0af-"
   },
   "source": [
    "![SQL_left_join](https://github.com/MathMachado/Materials/blob/master/SQL_left_join.png?raw=true)\n",
    "\n",
    "Source: [Visual Representation of SQL Joins](https://www.codeproject.com/Articles/33052/Visual-Representation-of-SQL-Joins).\n"
   ]
  },
  {
   "cell_type": "code",
   "execution_count": null,
   "metadata": {
    "id": "-efYd9c69k4L"
   },
   "outputs": [],
   "source": [
    "df_conjunto_A"
   ]
  },
  {
   "cell_type": "code",
   "execution_count": null,
   "metadata": {
    "id": "SqFbNStz9k4S"
   },
   "outputs": [],
   "source": [
    "df_conjunto_B"
   ]
  },
  {
   "cell_type": "code",
   "execution_count": null,
   "metadata": {
    "id": "rUpc2k729KA-"
   },
   "outputs": [],
   "source": [
    "df_left_join = pd.merge(df_conjunto_A, df_conjunto_B, on = 'indices', how = 'left')\n",
    "df_left_join"
   ]
  },
  {
   "cell_type": "markdown",
   "metadata": {
    "id": "WioSBHjW06Hg"
   },
   "source": [
    "![SQL_right_join](https://github.com/MathMachado/Materials/blob/master/SQL_right_join.png?raw=true)\n",
    "\n",
    "Source: [Visual Representation of SQL Joins](https://www.codeproject.com/Articles/33052/Visual-Representation-of-SQL-Joins)."
   ]
  },
  {
   "cell_type": "code",
   "execution_count": null,
   "metadata": {
    "id": "IrzPjGNp9o2n"
   },
   "outputs": [],
   "source": [
    "df_conjunto_A"
   ]
  },
  {
   "cell_type": "code",
   "execution_count": null,
   "metadata": {
    "id": "tFFTp_yG9o2s"
   },
   "outputs": [],
   "source": [
    "df_conjunto_B"
   ]
  },
  {
   "cell_type": "code",
   "execution_count": null,
   "metadata": {
    "id": "_D4tF7E-9PCx"
   },
   "outputs": [],
   "source": [
    "df_right_join = pd.merge(df_conjunto_A, df_conjunto_B, on = 'indices', how = 'right')\n",
    "df_right_join"
   ]
  },
  {
   "cell_type": "markdown",
   "metadata": {
    "id": "E9xFrurZ0ksg"
   },
   "source": [
    "![SQL_outer_join](https://github.com/MathMachado/Materials/blob/master/SQL_outer_join.png?raw=true)\n",
    "\n",
    "Source: [Visual Representation of SQL Joins](https://www.codeproject.com/Articles/33052/Visual-Representation-of-SQL-Joins)."
   ]
  },
  {
   "cell_type": "code",
   "execution_count": null,
   "metadata": {
    "id": "kQCBAfj_9rO_"
   },
   "outputs": [],
   "source": [
    "df_conjunto_A"
   ]
  },
  {
   "cell_type": "code",
   "execution_count": null,
   "metadata": {
    "id": "FTDHYsgc9rP0"
   },
   "outputs": [],
   "source": [
    "df_conjunto_B"
   ]
  },
  {
   "cell_type": "code",
   "execution_count": null,
   "metadata": {
    "id": "hJqyAs0U9XwO"
   },
   "outputs": [],
   "source": [
    "df_outer_join = pd.merge(df_conjunto_A, df_conjunto_B, on = 'indices', how = 'outer')\n",
    "df_outer_join"
   ]
  },
  {
   "cell_type": "markdown",
   "metadata": {
    "id": "fHEgLynu0vve"
   },
   "source": [
    "![SQL_left_excluding_join](https://github.com/MathMachado/Materials/blob/master/SQL_left_excluding_join.png?raw=true)\n",
    "\n",
    "Source: [Visual Representation of SQL Joins](https://www.codeproject.com/Articles/33052/Visual-Representation-of-SQL-Joins).\n"
   ]
  },
  {
   "cell_type": "code",
   "execution_count": null,
   "metadata": {
    "id": "ZA8CcERE-RRS"
   },
   "outputs": [],
   "source": [
    "df_conjunto_A"
   ]
  },
  {
   "cell_type": "code",
   "execution_count": null,
   "metadata": {
    "id": "IZiAa9X6-UL0"
   },
   "outputs": [],
   "source": [
    "df_conjunto_B"
   ]
  },
  {
   "cell_type": "code",
   "execution_count": null,
   "metadata": {
    "id": "jdUt63rA-Vjo"
   },
   "outputs": [],
   "source": [
    "df_left_excluding_join = pd.merge(df_conjunto_A, df_conjunto_B, on = 'indices', how =\"outer\", indicator=True).query('_merge==\"left_only\"')\n",
    "df_left_excluding_join"
   ]
  },
  {
   "cell_type": "markdown",
   "metadata": {
    "id": "CShcqL-h1MqK"
   },
   "source": [
    "![SQL_right_excluding_join](https://github.com/MathMachado/Materials/blob/master/SQL_right_excluding_join.png?raw=true)\n",
    "\n",
    "Source: [Visual Representation of SQL Joins](https://www.codeproject.com/Articles/33052/Visual-Representation-of-SQL-Joins).\n"
   ]
  },
  {
   "cell_type": "code",
   "execution_count": null,
   "metadata": {
    "id": "ECjUDoYf_C9x"
   },
   "outputs": [],
   "source": [
    "df_conjunto_A"
   ]
  },
  {
   "cell_type": "code",
   "execution_count": null,
   "metadata": {
    "id": "xym7VsXi_FXa"
   },
   "outputs": [],
   "source": [
    "df_conjunto_B"
   ]
  },
  {
   "cell_type": "code",
   "execution_count": null,
   "metadata": {
    "id": "-zFalmly_HJ7"
   },
   "outputs": [],
   "source": [
    "df_right_excluding_join = pd.merge(df_conjunto_A, df_conjunto_B, on = 'indices', how =\"outer\", indicator=True).query('_merge==\"right_only\"')\n",
    "df_right_excluding_join"
   ]
  },
  {
   "cell_type": "markdown",
   "metadata": {
    "id": "T8v4-zUt1WQz"
   },
   "source": [
    "![SQL_outer_excluding_join](https://github.com/MathMachado/Materials/blob/master/SQL_outer_excluding_join.png?raw=true)\n",
    "\n",
    "Source: [Visual Representation of SQL Joins](https://www.codeproject.com/Articles/33052/Visual-Representation-of-SQL-Joins).\n"
   ]
  },
  {
   "cell_type": "markdown",
   "metadata": {
    "id": "8HeMgBqyAYjW"
   },
   "source": [
    "### Desafio: Como resolver este?"
   ]
  },
  {
   "cell_type": "markdown",
   "metadata": {
    "id": "SkCbLsoktgKl"
   },
   "source": [
    "### Observações:\n",
    "\n",
    "* Em alguns casos a variável chave nos dois dataframes que se quer fazer o join possui nomes diferentes. Neste caso, use 'left_on' e 'right_on' para definir o nome das COLUNAS chaves no dataframe da esquerda e direita:\n",
    "    * pd.merge(df1, df2, left_on =\"employee\", right_on =\"nome\")\n",
    "        * No exemplo acima, o dataframe df1 (dataframe da esquerda) possui chave 'employee' enquanto que o dataframe df2 (dataframe da direita), possui chave 'nome'. Usando as 'left_on' e 'right_on' fica claro o nome das chaves de ligação de cada dataframe."
   ]
  },
  {
   "cell_type": "markdown",
   "metadata": {
    "id": "6Obc0fHUwIpu"
   },
   "source": [
    "## Joining"
   ]
  },
  {
   "cell_type": "code",
   "execution_count": null,
   "metadata": {
    "id": "DQOa89_cwLyd"
   },
   "outputs": [],
   "source": [
    "df_esquerdo = pd.DataFrame({'A': ['A0', 'A1', 'A2'],\n",
    "                     'B': ['B0', 'B1', 'B2']},\n",
    "                      index=['K0', 'K1', 'K2']) \n",
    "\n",
    "df_direito = pd.DataFrame({'C': ['C0', 'C2', 'C3'],\n",
    "                    'D': ['D0', 'D2', 'D3']},\n",
    "                      index=['K0', 'K2', 'K3'])"
   ]
  },
  {
   "cell_type": "code",
   "execution_count": null,
   "metadata": {
    "id": "UHnX9rxzwMmx"
   },
   "outputs": [],
   "source": [
    "df_esquerdo"
   ]
  },
  {
   "cell_type": "code",
   "execution_count": null,
   "metadata": {
    "id": "GBc1Mr0Qwff3"
   },
   "outputs": [],
   "source": [
    "df_direito"
   ]
  },
  {
   "cell_type": "code",
   "execution_count": null,
   "metadata": {
    "id": "TmIk3Kjlwg-7"
   },
   "outputs": [],
   "source": [
    "df_esquerdo.join(df_direito)"
   ]
  },
  {
   "cell_type": "code",
   "execution_count": null,
   "metadata": {
    "id": "h609fbjjwoZ3"
   },
   "outputs": [],
   "source": [
    "df_esquerdo.join(df_direito, how ='outer')"
   ]
  },
  {
   "cell_type": "markdown",
   "metadata": {
    "id": "Y8W2kP-VCB3E"
   },
   "source": [
    "___\n",
    "# **Selecionar LINHAS do dataframe baseado nos índices**\n",
    "### Leitura Adicional\n",
    "* [pandas loc vs. iloc vs. ix vs. at vs. iat?\n",
    "](https://stackoverflow.com/questions/28757389/pandas-loc-vs-iloc-vs-ix-vs-at-vs-iat/47098873#47098873)\n",
    "* [Indexing and selecting data](https://pandas.pydata.org/pandas-docs/stable/user_guide/indexing.html)"
   ]
  },
  {
   "cell_type": "markdown",
   "metadata": {
    "id": "NN1R1ngAG61x"
   },
   "source": [
    "## 1st Approach - pd.loc[]\n",
    "* Para capturar o conteúdo da linha k, use df.loc[row_indexer,column_indexer]."
   ]
  },
  {
   "cell_type": "code",
   "execution_count": null,
   "metadata": {
    "id": "oduXMUtIUvkN"
   },
   "outputs": [],
   "source": [
    "df_Titanic.head()"
   ]
  },
  {
   "cell_type": "markdown",
   "metadata": {
    "id": "JX9nGPWcVLgE"
   },
   "source": [
    "\n",
    "Por exemlo, o comando a seguir mostra o conteúdo da linha 0, todas as COLUNAS(:)"
   ]
  },
  {
   "cell_type": "code",
   "execution_count": null,
   "metadata": {
    "id": "U5-I2NgYC2fD"
   },
   "outputs": [],
   "source": [
    "df2= df_Titanic.loc[1,:]\n",
    "df2.head()"
   ]
  },
  {
   "cell_type": "markdown",
   "metadata": {
    "id": "tDSJcQLTDyJw"
   },
   "source": [
    "Mostrando o conteúdo das LINHAS k= 1:2 (ou seja, LINHAS 1 e 2), todas as COLUNAS(:)"
   ]
  },
  {
   "cell_type": "code",
   "execution_count": null,
   "metadata": {
    "id": "JD1TDTqAD_5r"
   },
   "outputs": [],
   "source": [
    "df_Titanic.loc[1:2, :]"
   ]
  },
  {
   "cell_type": "markdown",
   "metadata": {
    "id": "EoAmcdfnEIho"
   },
   "source": [
    "Mostrar os conteúdos da linha k= 1, coluna 'pclass':"
   ]
  },
  {
   "cell_type": "code",
   "execution_count": null,
   "metadata": {
    "id": "8vjc5z3_EQfY"
   },
   "outputs": [],
   "source": [
    "df_Titanic.loc[1, ['pclass']]"
   ]
  },
  {
   "cell_type": "markdown",
   "metadata": {
    "id": "7bC8-H-QFLgd"
   },
   "source": [
    "Mostrar os conteúdos da linha k= 1 e COLUNAS ['pclass', 'sex']:"
   ]
  },
  {
   "cell_type": "code",
   "execution_count": null,
   "metadata": {
    "id": "LYFTrZr_FR5g"
   },
   "outputs": [],
   "source": [
    "df_Titanic.loc[0, ['pclass', 'sex']]"
   ]
  },
  {
   "cell_type": "markdown",
   "metadata": {
    "id": "UtUsmU8sXYTU"
   },
   "source": [
    "Porque temos um erro aqui?"
   ]
  },
  {
   "cell_type": "markdown",
   "metadata": {
    "id": "CRy5sDx-XbBL"
   },
   "source": [
    "Versão correta abaixo:"
   ]
  },
  {
   "cell_type": "code",
   "execution_count": null,
   "metadata": {
    "id": "5Lfw0HEnXdn0"
   },
   "outputs": [],
   "source": [
    "df_Titanic.loc[1, ['pclass', 'sex']]"
   ]
  },
  {
   "cell_type": "markdown",
   "metadata": {
    "id": "Tjw3vjkDZg1Z"
   },
   "source": [
    "Mostrar os conteúdos da linha k= 1:5 e COLUNAS ['pclass', 'sex']:"
   ]
  },
  {
   "cell_type": "code",
   "execution_count": null,
   "metadata": {
    "id": "4GuAE5MSZjNb"
   },
   "outputs": [],
   "source": [
    "df_Titanic.loc[1:5, ['pclass', 'sex']]"
   ]
  },
  {
   "cell_type": "markdown",
   "metadata": {
    "id": "xRZxqE6RFnJI"
   },
   "source": [
    "Agora suponha que queremos selecionar toda a 'sex'. Como fazer isso?"
   ]
  },
  {
   "cell_type": "code",
   "execution_count": null,
   "metadata": {
    "id": "JdeD_uzfFrp5"
   },
   "outputs": [],
   "source": [
    "df_sex= df_Titanic.loc[:, 'sex']\n",
    "df_sex.head()"
   ]
  },
  {
   "cell_type": "markdown",
   "metadata": {
    "id": "z_WUjYxsX-Av"
   },
   "source": [
    "Fácil selecionarmos o que queremos usando .loc() e iloc(), certo?"
   ]
  },
  {
   "cell_type": "markdown",
   "metadata": {
    "id": "RKk0zollHFbp"
   },
   "source": [
    "## 2nd Approach - Usando lists\n",
    "\n",
    "\n",
    "\n"
   ]
  },
  {
   "cell_type": "code",
   "execution_count": null,
   "metadata": {
    "id": "jhwoY6LmGzC0"
   },
   "outputs": [],
   "source": [
    "df_Titanic[0:2] # Mostrar os conteúdos das LINHAS 0:2"
   ]
  },
  {
   "cell_type": "code",
   "execution_count": null,
   "metadata": {
    "id": "I6EOVIDxGiy-"
   },
   "outputs": [],
   "source": [
    "df_Titanic[:3] # Mostrar os conteúdos até a linha 3"
   ]
  },
  {
   "cell_type": "code",
   "execution_count": null,
   "metadata": {
    "id": "VOHp77F8H9t1"
   },
   "outputs": [],
   "source": [
    "df_Titanic['sex'].head() # Mostrar o conteúdo inteiro da variável 'sex'"
   ]
  },
  {
   "cell_type": "code",
   "execution_count": null,
   "metadata": {
    "id": "8nvHNdhPZ040"
   },
   "outputs": [],
   "source": [
    "df_Titanic[0:5]['sex'].head() # Mostrar as LINHAS 0 a 5 da variável 'sex'"
   ]
  },
  {
   "cell_type": "markdown",
   "metadata": {
    "id": "GMFso1jaYXgN"
   },
   "source": [
    "___\n",
    "# **Selecionar/Filtrar/Substituir LINHAS do dataframe baseado em condições**"
   ]
  },
  {
   "cell_type": "markdown",
   "metadata": {
    "id": "BKljSpS5ou-i"
   },
   "source": [
    "## Exemplo 1\n",
    "> Aproveitando o exemplo anterior, queremos selecionar do dataframe somente os passageiros do sexo 'male'."
   ]
  },
  {
   "cell_type": "markdown",
   "metadata": {
    "id": "jek8Ru3Aam23"
   },
   "source": [
    "### Approach 1: df.loc() e df.iloc()"
   ]
  },
  {
   "cell_type": "code",
   "execution_count": null,
   "metadata": {
    "id": "eysZoBX2YKb-"
   },
   "outputs": [],
   "source": [
    "df_sexo_m_1 = df_Titanic.loc[df_Titanic['sex'] == 'male', 'sex']\n",
    "df_sexo_m_1.head() "
   ]
  },
  {
   "cell_type": "markdown",
   "metadata": {
    "id": "uLDOHKGfaq-Z"
   },
   "source": [
    "### Approach 2: Uso do []"
   ]
  },
  {
   "cell_type": "code",
   "execution_count": null,
   "metadata": {
    "id": "QncrZwHkasiu"
   },
   "outputs": [],
   "source": [
    "df_sexo_m_2 = df_Titanic[df_Titanic['sex'] == 'male']['sex']\n",
    "df_sexo_m_2.head()"
   ]
  },
  {
   "cell_type": "markdown",
   "metadata": {
    "id": "ot6UBTYJF-AJ"
   },
   "source": [
    "### Approach 3: df.isin()\n"
   ]
  },
  {
   "cell_type": "markdown",
   "metadata": {
    "id": "OBRF0be3VuTi"
   },
   "source": [
    "#### Exemplo 1 - Filtro simples"
   ]
  },
  {
   "cell_type": "code",
   "execution_count": null,
   "metadata": {
    "id": "LeTDiGICGOzb"
   },
   "outputs": [],
   "source": [
    "df_sexo_m_3 = df_Titanic['sex'].isin(['male'])\n",
    "df_sexo_m_3.head()"
   ]
  },
  {
   "cell_type": "markdown",
   "metadata": {
    "id": "Q6emu30nGmpt"
   },
   "source": [
    "#### Exemplo 2 - Filtro duplo = Duas condições\n",
    "> Selecionar todas as LINHAS onde sexo = 'male' e Pclass = 1."
   ]
  },
  {
   "cell_type": "code",
   "execution_count": null,
   "metadata": {
    "id": "TRaiCYMRGpgl"
   },
   "outputs": [],
   "source": [
    "# Filtros usando df.isin() \n",
    "filtro_m = df_Titanic[\"sex\"].isin([\"male\"]) \n",
    "filtro_class1 = df_Titanic[\"Pclass\"].isin([1]) \n",
    "  \n",
    "# Mostra os resutados  \n",
    "df_Titanic[filtro_m & filtro_class1].head()"
   ]
  },
  {
   "cell_type": "code",
   "execution_count": null,
   "metadata": {
    "id": "Sh0DDj1xcPaI"
   },
   "outputs": [],
   "source": [
    "df_sexo_m_class = df_Titanic[((df_Titanic['sex'] == 'male') & (df_Titanic['Pclass'] == 1))]\n",
    "df_sexo_m_class.head()"
   ]
  },
  {
   "cell_type": "markdown",
   "metadata": {
    "id": "ujrYHyOsfW7n"
   },
   "source": [
    "### Approach 4 - Filtrar com df.str.contains('s_substr')"
   ]
  },
  {
   "cell_type": "code",
   "execution_count": null,
   "metadata": {
    "id": "gntbfHgTfanx"
   },
   "outputs": [],
   "source": [
    "# Mostrar todas as LINHAS onde a string 'Mr' aparece no nome do passageiro:\n",
    "df2 = df_Titanic[df_Titanic['Name'].str.contains('Mr')]\n",
    "df2.head()"
   ]
  },
  {
   "cell_type": "markdown",
   "metadata": {
    "id": "eaRtQ8Ja8MOH"
   },
   "source": [
    "Para saber mais sobre o método df[col].str.contais(), consulte https://pandas.pydata.org/pandas-docs/stable/reference/api/pandas.Series.str.contains.html."
   ]
  },
  {
   "cell_type": "markdown",
   "metadata": {
    "id": "FyJ-gEjzQI2Y"
   },
   "source": [
    "## Substituir valores do dataframe\n",
    "> Suponha que queremos substituir todos os valores de pclass da seguinte forma:\n",
    "* Se pclass = 1 --> pclass2 = 'Classe1';\n",
    "* Se pclass = 2 --> pclass2 = 'Classe2';\n",
    "* Se pclass = 3 --> pclass2 = 'Classe3';\n",
    "\n",
    "Como fazer isso?"
   ]
  },
  {
   "cell_type": "code",
   "execution_count": null,
   "metadata": {
    "id": "Pi8MFiUPQQb7"
   },
   "outputs": [],
   "source": [
    "df_Titanic.head()"
   ]
  },
  {
   "cell_type": "code",
   "execution_count": null,
   "metadata": {
    "id": "19mynzdfQqVf"
   },
   "outputs": [],
   "source": [
    "df_Titanic['pclass2'] = df_Titanic['pclass']\n",
    "df_Titanic['pclass2'][df_Titanic['pclass'] == 1] = 'Classe1'\n",
    "df_Titanic['pclass2'][df_Titanic['pclass'] == 2] = 'Classe2'\n",
    "df_Titanic['pclass2'][df_Titanic['pclass'] == 3] = 'Classe3'\n",
    "df_Titanic['pclass2'].head()"
   ]
  },
  {
   "cell_type": "markdown",
   "metadata": {
    "id": "KVSAYeU0KA2V"
   },
   "source": [
    "___\n",
    "# **Selecionar amostras aleatórias do dataframe**"
   ]
  },
  {
   "cell_type": "markdown",
   "metadata": {
    "id": "U502dAs3OfOH"
   },
   "source": [
    "Vimos que o dataframe df_Titanic é muito grande. Então, vamos selecionar aleatoriamente 100 LINHAS."
   ]
  },
  {
   "cell_type": "code",
   "execution_count": null,
   "metadata": {
    "id": "0BrKUnAiPcAy"
   },
   "outputs": [],
   "source": [
    "import random  \n",
    "\n",
    "# Biblioteca para avaliarmos o tempo de processamento de cada alternativa\n",
    "import time"
   ]
  },
  {
   "cell_type": "code",
   "execution_count": null,
   "metadata": {
    "id": "iJ1G8lYgKGsc"
   },
   "outputs": [],
   "source": [
    "# Usando sample\n",
    "t0= time.time()\n",
    "df_Titanic_a100= df_Titanic.sample(100, replace= False, random_state= 20111974)\n",
    "t1= time.time()\n",
    "t= t1-t0\n",
    "df_Titanic_a100.head()"
   ]
  },
  {
   "cell_type": "code",
   "execution_count": null,
   "metadata": {
    "id": "8DvWOKizZQr8"
   },
   "outputs": [],
   "source": [
    "f'Tempo de processamento: {t}'"
   ]
  },
  {
   "cell_type": "code",
   "execution_count": null,
   "metadata": {
    "id": "nAHLTjpvYKPS"
   },
   "outputs": [],
   "source": [
    "# Usando NumPy\n",
    "import numpy as np\n",
    "\n",
    "t0 = time.time()\n",
    "np.random.seed(20111974)\n",
    "indices = np.random.choice(df_Titanic.shape[0], replace = False, size=100)\n",
    "df_Titanic_a100_2 = df_Titanic.iloc[indices]\n",
    "t1 = time.time()\n",
    "t = t1-t0\n",
    "df_Titanic_a100_2.head()"
   ]
  },
  {
   "cell_type": "code",
   "execution_count": null,
   "metadata": {
    "id": "U8PEDMJ4a52P"
   },
   "outputs": [],
   "source": [
    "f'Tempo de processamento: {t}'"
   ]
  },
  {
   "cell_type": "code",
   "execution_count": null,
   "metadata": {
    "id": "wYeuJWdEdMPd"
   },
   "outputs": [],
   "source": [
    "df_Titanic_a100_2.shape"
   ]
  },
  {
   "cell_type": "markdown",
   "metadata": {
    "id": "vNMiRkjCQ9Mu"
   },
   "source": [
    "___\n",
    "# **Descrever o Dataframe**"
   ]
  },
  {
   "cell_type": "code",
   "execution_count": null,
   "metadata": {
    "id": "GllUFj56RHuD"
   },
   "outputs": [],
   "source": [
    "df_Titanic_a100.describe()"
   ]
  },
  {
   "cell_type": "code",
   "execution_count": null,
   "metadata": {
    "id": "izbpIEi1d1sx"
   },
   "outputs": [],
   "source": [
    "df_Titanic_a100_2.describe()"
   ]
  },
  {
   "cell_type": "markdown",
   "metadata": {
    "id": "H40G3QzWbG9N"
   },
   "source": [
    "___\n",
    "# **Identificar e lidar com LINHAS duplicadas**"
   ]
  },
  {
   "cell_type": "markdown",
   "metadata": {
    "id": "_OoM_HS5ZgxG"
   },
   "source": [
    "## Exemplo 1\n",
    "* considera as duplicatas em todas as COLUNAS do dataframe."
   ]
  },
  {
   "cell_type": "code",
   "execution_count": null,
   "metadata": {
    "id": "5XOOdOZBbLc_"
   },
   "outputs": [],
   "source": [
    "df = pd.DataFrame({'A':[1,1,3,4,5,1], 'B':[1,1,3,7,8,1], 'C':[3,1,1,6,7,1]})\n",
    "df"
   ]
  },
  {
   "cell_type": "code",
   "execution_count": null,
   "metadata": {
    "id": "Gio08BkTbTOp"
   },
   "outputs": [],
   "source": [
    "# Lista as duplicações em forma booleana\n",
    "df.duplicated()"
   ]
  },
  {
   "cell_type": "markdown",
   "metadata": {
    "id": "obgbM4d_hJ_J"
   },
   "source": [
    "Observe a linha 5, onde temos a informação que esta linha está duplicada. Na verdade, a linha 5 é igual à linha 1"
   ]
  },
  {
   "cell_type": "code",
   "execution_count": null,
   "metadata": {
    "id": "LHhOIb-EbWfn"
   },
   "outputs": [],
   "source": [
    "# Mostra as LINHAS duplicadas\n",
    "df[df.duplicated()]"
   ]
  },
  {
   "cell_type": "code",
   "execution_count": null,
   "metadata": {
    "id": "IyJS70_kZ-Jk"
   },
   "outputs": [],
   "source": [
    "# Deleta a linha 5 que, como vimos, estava duplicada (uma cópia da linha 1).\n",
    "df= df.drop_duplicates()\n",
    "df"
   ]
  },
  {
   "cell_type": "markdown",
   "metadata": {
    "id": "3Q05mxOSaEjX"
   },
   "source": [
    "## Exemplo 2\n",
    "* Considera somente algumas COLUNAS"
   ]
  },
  {
   "cell_type": "code",
   "execution_count": null,
   "metadata": {
    "id": "jiqyjcqdaQ1y"
   },
   "outputs": [],
   "source": [
    "df = pd.DataFrame({'A':[1,1,3,4,5,1], 'B':[1,1,3,7,8,1], 'C':[3,1,1,6,7,1]})\n",
    "df"
   ]
  },
  {
   "cell_type": "code",
   "execution_count": null,
   "metadata": {
    "id": "F_118d7vbZ9Y"
   },
   "outputs": [],
   "source": [
    "# Mostra as LINHAS duplicadas usando as COLUNAS 'A' e 'B'\n",
    "df[df.duplicated(subset=['A','B'])]"
   ]
  },
  {
   "cell_type": "code",
   "execution_count": null,
   "metadata": {
    "id": "_1w_ZZO4vF3A"
   },
   "outputs": [],
   "source": [
    "# Deleta as LINHAS 1 e 5, pois como podemos ver, são duplicatas da linha 0\n",
    "df= df.drop_duplicates(subset = ['A', 'B'])\n",
    "df"
   ]
  },
  {
   "cell_type": "markdown",
   "metadata": {
    "id": "qVx6p8u36jhD"
   },
   "source": [
    "___\n",
    "# **Trabalhar com dados do tipo texto**\n",
    "* Fontes:\n",
    "    * [Working with text data](https://pandas.pydata.org/pandas-docs/stable/user_guide/text.html)\n",
    "    * [Using String Methods](https://www.ritchieng.com/pandas-string-methods/)."
   ]
  },
  {
   "cell_type": "markdown",
   "metadata": {
    "id": "JLG3cVA1e8-B"
   },
   "source": [
    "Preparando os dados para o exemplo:"
   ]
  },
  {
   "cell_type": "code",
   "execution_count": null,
   "metadata": {
    "id": "G_CEULoyeP8C"
   },
   "outputs": [],
   "source": [
    "# Definir um dicionário com os dados: \n",
    "import numpy as np\n",
    "\n",
    "l_idade = []\n",
    "for i in range(6):\n",
    "    np.random.seed(i)    \n",
    "    l_idade.append(np.random.randint(10, 40))\n",
    "    \n",
    "\n",
    "d_exemplo = {'Nome':['Mr. Antonio dos Santos', 'Mr. Joao Pedro', 'Miss. Priscila Alvarenga', 'Mr. fagner NoVAES', 'Miss. Danielle Aparecida', 'Mr. Paullo Amarantes'], \n",
    "        'Idade': l_idade, \n",
    "        'Cidade':['lisboa', 'Sintra', 'Braga', 'Guimaraes', 'Mafra', 'Nazare']} \n",
    "   \n",
    "# Converte o dicionário num dataframe\n",
    "df = pd.DataFrame(d_exemplo) \n",
    "df"
   ]
  },
  {
   "cell_type": "markdown",
   "metadata": {
    "id": "or-Kzaqmdn2b"
   },
   "source": [
    "* Sugestões do que podemos fazer com relação á coluna 'nome' do dataframe df:\n",
    "    * Extrair o cumprimento do nome: Mr., Miss e etc.\n",
    "    * Construir as COLUNAS PrimeiroNome e SegundoNome.\n",
    "    * Criar a variável classe_idade."
   ]
  },
  {
   "cell_type": "markdown",
   "metadata": {
    "id": "Vd99ksvcg7uy"
   },
   "source": [
    "## Extrair o cumprimento do nome"
   ]
  },
  {
   "cell_type": "code",
   "execution_count": null,
   "metadata": {
    "id": "rNsANzFAg_Kn"
   },
   "outputs": [],
   "source": [
    "df_Nome= df['Nome'].str.split(' ', n = 2, expand = True) \n",
    "df_Nome"
   ]
  },
  {
   "cell_type": "markdown",
   "metadata": {
    "id": "ianqsxLol008"
   },
   "source": [
    "Altere o valor de n para 3 e explique como as coisas funcionam..."
   ]
  },
  {
   "cell_type": "code",
   "execution_count": null,
   "metadata": {
    "id": "5NDAkEqCl6H5"
   },
   "outputs": [],
   "source": [
    "# Capturando o cumprimento do nome:\n",
    "df['tamanho_nome'] = df['Nome'].str.split(' ', n = 2, expand = True)[0]\n",
    "df"
   ]
  },
  {
   "cell_type": "markdown",
   "metadata": {
    "id": "B1QoH4LyrpVI"
   },
   "source": [
    "## Construir as COLUNAS primeiro_nome e Segundo_Nome"
   ]
  },
  {
   "cell_type": "code",
   "execution_count": null,
   "metadata": {
    "id": "cbi4eRN2mOu9"
   },
   "outputs": [],
   "source": [
    "# Capturando o primeiro nome:\n",
    "df['primeiro_nome'] = df['Nome'].str.split(' ', n = 2, expand = True)[1]\n",
    "df['ultimo_nome'] = df['Nome'].str.split(' ', n = 2, expand = True)[2]\n",
    "df"
   ]
  },
  {
   "cell_type": "markdown",
   "metadata": {
    "id": "7eagWhgZrwOh"
   },
   "source": [
    "### Construir a variável classe_idade\n",
    "\n",
    " | Limite Inferior | Limite Superior | Classe |\n",
    "    |-----------------|-----------------|--------|\n",
    "    | Inf | 15 | Inf_15 |\n",
    "    | 15 | 20 | 15_20 |\n",
    "    | 20 | 30 | 25_30 |\n",
    "    | 30 | 40 | 30_40 |\n",
    "    | 40 | 50 | 40_50 |\n",
    "    | 50 | Sup | 50_Sup |"
   ]
  },
  {
   "cell_type": "code",
   "execution_count": null,
   "metadata": {
    "id": "lBjRBGBWr2AH"
   },
   "outputs": [],
   "source": [
    "def classe_idade):\n",
    "    if (Idade <= 15):\n",
    "        return 'Inf_15'\n",
    "    if (15 < Idade <= 20):\n",
    "        return '15_20'\n",
    "    elif(20 < Idade <= 30):\n",
    "        return '20_30'\n",
    "    elif (30 < Idade <= 40):\n",
    "        return '30_40'\n",
    "    elif (40 < Idade <= 50):\n",
    "        return '40_50'\n",
    "    elif (Idade > 50):\n",
    "        return '50_Sup'\n",
    "    else:\n",
    "        return 'Outros'"
   ]
  },
  {
   "cell_type": "code",
   "execution_count": null,
   "metadata": {
    "id": "OogrvjCrsdoh"
   },
   "outputs": [],
   "source": [
    "df['classe_idade'] = df['Idade'].map(classe_idade)"
   ]
  },
  {
   "cell_type": "markdown",
   "metadata": {
    "id": "JDtxz_eaRcmi"
   },
   "source": [
    "___\n",
    "# **Agrupar Informações: pd.groupby()**\n",
    "* Fonte: [Group By: split-apply-combine](https://pandas.pydata.org/pandas-docs/stable/user_guide/groupby.html)\n",
    "\n",
    "* Os componentes do comando Groupby()\n",
    "    * **Grouping_Column** - Coluna Categórica pelo qual os dados serão agrupados;\n",
    "    * **Aggregating_Column** - Coluna numérica cujos valores serão agrupados;\n",
    "    * **Aggregating_Function** - Função agregadora, ou seja: sum, min, max, mean, median, etc...\n",
    "\n",
    "> Sintaxe: \n",
    "\n",
    "```\n",
    "df.groupby('Grouping_Column').agg({'Aggregating_Column': 'Aggregating_Function'})\n",
    "\n",
    "OU\n",
    "\n",
    "df['Aggregating_Column'].groupby(df['Grouping_Column']).Function()\n",
    "```"
   ]
  },
  {
   "cell_type": "markdown",
   "metadata": {
    "id": "bmFf-273XPXj"
   },
   "source": [
    "## Exemplo 1"
   ]
  },
  {
   "cell_type": "code",
   "execution_count": null,
   "metadata": {
    "id": "wteEveUsd36C"
   },
   "outputs": [],
   "source": [
    "transformacao_lower(df_Titanic)\n",
    "df_Titanic.head()"
   ]
  },
  {
   "cell_type": "code",
   "execution_count": null,
   "metadata": {
    "id": "buF5DhkFfqVA"
   },
   "outputs": [],
   "source": [
    "# Agrupando df_Titanic por 'sex3'\n",
    "df_Titanic.groupby(['sex', 'pclass']).agg({'fare': ['min', 'median', 'mean','max'], 'age': ['count', 'mean','max']})"
   ]
  },
  {
   "cell_type": "code",
   "execution_count": null,
   "metadata": {
    "id": "YP3GDwq0gR_V"
   },
   "outputs": [],
   "source": [
    "# Agrupando df_Titanic por 'sex3' e 'Pclass'\n",
    "df_Titanic.groupby(['sex3','Pclass']).agg({'Fare': ['max', 'min']}).round(0)"
   ]
  },
  {
   "cell_type": "code",
   "execution_count": null,
   "metadata": {
    "id": "se4tQ3ETeUfv"
   },
   "outputs": [],
   "source": [
    "df_Titanic.groupby(['sex3']).agg({'Age': ['mean','min','max']}).round(0)"
   ]
  },
  {
   "cell_type": "code",
   "execution_count": null,
   "metadata": {
    "id": "zUj82I7Cm220"
   },
   "outputs": [],
   "source": [
    "df_Titanic.head()"
   ]
  },
  {
   "cell_type": "markdown",
   "metadata": {
    "id": "OrLZjm9bXTOr"
   },
   "source": [
    "## Exemplo 2"
   ]
  },
  {
   "cell_type": "markdown",
   "metadata": {
    "id": "x8aPZPT6XZVP"
   },
   "source": [
    "### Preparando o exemplo"
   ]
  },
  {
   "cell_type": "code",
   "execution_count": null,
   "metadata": {
    "id": "KrCe6RgOXaFx"
   },
   "outputs": [],
   "source": [
    "l_coluna = []\n",
    "\n",
    "for i in range(1,6):\n",
    "    np.random.seed(i)\n",
    "    l_coluna.append(np.random.randint(0, 10, 10))\n",
    "    \n",
    "np.random.seed(6)\n",
    "l_coluna.append(np.random.rand(10))\n",
    "\n",
    "l_coluna"
   ]
  },
  {
   "cell_type": "code",
   "execution_count": null,
   "metadata": {
    "id": "tXaHjmfSXeCw"
   },
   "outputs": [],
   "source": [
    "l_coluna[0]"
   ]
  },
  {
   "cell_type": "code",
   "execution_count": null,
   "metadata": {
    "id": "U_aEVMTHq6ee"
   },
   "outputs": [],
   "source": [
    "df = pd.DataFrame({'coluna6' : ['a', 'a', 'b', 'b', 'a', 'b', 'b', 'b', 'a', 'a'],\n",
    "                'coluna7' : ['um', 'dois', 'um', 'dois', 'um', 'dois', 'dois', 'um', 'um', 'dois'],\n",
    "                'coluna1' : l_coluna[0],\n",
    "                'coluna2' : l_coluna[1],\n",
    "                'coluna3' : l_coluna[2],\n",
    "                'coluna4' : l_coluna[3],\n",
    "                'coluna5' : l_coluna[4],\n",
    "                'coluna8' : l_coluna[5],\n",
    "                'Pessoas' : ['Jose','Maria','Pedro','Carlos','Joao','Ana','Manoel','Mafalda','Antonio','Ricardo'],\n",
    "                'sexo'    : ['m','f','m','m','m','f','m','f','m','m']})\n",
    "df"
   ]
  },
  {
   "cell_type": "markdown",
   "metadata": {
    "id": "Ok4a28lGlVC5"
   },
   "source": [
    "Agrupando por 'coluna6':"
   ]
  },
  {
   "cell_type": "code",
   "execution_count": null,
   "metadata": {
    "id": "Vx77lyzlZIFW"
   },
   "outputs": [],
   "source": [
    "df.groupby('coluna6').agg({'coluna1': ['min','mean','median','max']})"
   ]
  },
  {
   "cell_type": "markdown",
   "metadata": {
    "id": "T6i-R2KemadE"
   },
   "source": [
    "Agora, vamos repetir o processo usando duas COLUNAS-chaves 'coluna6' e 'coluna7':"
   ]
  },
  {
   "cell_type": "code",
   "execution_count": null,
   "metadata": {
    "id": "WxmHQnQSZrXA"
   },
   "outputs": [],
   "source": [
    "df_estatisticas_descritivas = df.groupby(['coluna6','coluna7']).agg({'coluna1': ['min','mean','median','max']})\n",
    "df_estatisticas_descritivas"
   ]
  },
  {
   "cell_type": "markdown",
   "metadata": {
    "id": "Ipw5EROwaaCX"
   },
   "source": [
    "Observe que df_estatisticas_descritivas é um dataframe. Portanto, podemos selecionar LINHAS e/ou COLUNAS deste dataframe da forma que quisermos."
   ]
  },
  {
   "cell_type": "code",
   "execution_count": null,
   "metadata": {
    "id": "qk5uSdVwb7dH"
   },
   "outputs": [],
   "source": [
    "# Índices do dataframe:\n",
    "df_estatisticas_descritivas.index"
   ]
  },
  {
   "cell_type": "code",
   "execution_count": null,
   "metadata": {
    "id": "brIgUFlkalix"
   },
   "outputs": [],
   "source": [
    "# Selecionando o conteúdo de coluna6= 'a' e coluna7= 'um':\n",
    "df_estatisticas_descritivas.loc[('a', 'um')]"
   ]
  },
  {
   "cell_type": "code",
   "execution_count": null,
   "metadata": {
    "id": "fQUs2PVHc6iR"
   },
   "outputs": [],
   "source": [
    "# Selecionando o conteúdo de coluna6= 'a' e coluna7= 'um', primeiro valor:\n",
    "df_estatisticas_descritivas.loc[('a', 'um')][0] # ou seja, selecionamos min"
   ]
  },
  {
   "cell_type": "code",
   "execution_count": null,
   "metadata": {
    "id": "zT0xiee6dDpK"
   },
   "outputs": [],
   "source": [
    "# Selecionando o conteúdo de coluna6= 'a' e coluna7= 'um', segundo valor:\n",
    "df_estatisticas_descritivas.loc[('a', 'um')][1] # ou seja, selecionamos mean"
   ]
  },
  {
   "cell_type": "markdown",
   "metadata": {
    "id": "vXlcjPM6dQKi"
   },
   "source": [
    "E daí por diante..."
   ]
  },
  {
   "cell_type": "markdown",
   "metadata": {
    "id": "EMxFMqn9dm3g"
   },
   "source": [
    "Para aprender mais sobre como trabalhar com dois índices em um dataframe, consulte [Hierarchical indices, groupby and pandas](https://www.datacamp.com/community/tutorials/pandas-multi-index)."
   ]
  },
  {
   "cell_type": "markdown",
   "metadata": {
    "id": "gNHyH7M0pGDy"
   },
   "source": [
    "___\n",
    "## Exemplo 3\n",
    "### Operações e transformações em grupo"
   ]
  },
  {
   "cell_type": "code",
   "execution_count": null,
   "metadata": {
    "id": "ywl3k_l8pGD0"
   },
   "outputs": [],
   "source": [
    "# Mostra o dataframe-exemplo:\n",
    "df"
   ]
  },
  {
   "cell_type": "code",
   "execution_count": null,
   "metadata": {
    "id": "AF8cbNsjpGD5"
   },
   "outputs": [],
   "source": [
    "# Constroi dataframe df_Medias\n",
    "df_Medias = df.groupby('coluna6').mean().add_prefix('mean_')\n",
    "df_Medias"
   ]
  },
  {
   "cell_type": "code",
   "execution_count": null,
   "metadata": {
    "id": "JGlA6ufLpGD9"
   },
   "outputs": [],
   "source": [
    "# Combina (merge) com o dataframe df:\n",
    "pd.merge(df, df_Medias, left_on ='coluna6', right_index=True)"
   ]
  },
  {
   "cell_type": "markdown",
   "metadata": {
    "id": "1MjZu3sVpGEd"
   },
   "source": [
    "___\n",
    "# **Discretizar COLUNAS numéricas**\n",
    "* pd.cut() - classes com base em valores;\n",
    "* pd.qcut() - classes com base em quantis da amostra, ou seja teremos a mesma quantidade de itens em cada classe.\n",
    "\n",
    "> Este artifício é muito utilizado em Machine Learning quando queremos construir classes para variáveis numéricas (integer ou float). Acompanhe a seguir:"
   ]
  },
  {
   "cell_type": "code",
   "execution_count": null,
   "metadata": {
    "id": "yK772hiSfZaE"
   },
   "outputs": [],
   "source": [
    "df"
   ]
  },
  {
   "cell_type": "markdown",
   "metadata": {
    "id": "wi-nv6fshKIX"
   },
   "source": [
    "## pd.cut()"
   ]
  },
  {
   "cell_type": "code",
   "execution_count": null,
   "metadata": {
    "id": "SVExQmzDpGEe"
   },
   "outputs": [],
   "source": [
    "# Construir 4 classes para a variável float 'coluna8':\n",
    "Bucket_cut = pd.cut(df['coluna8'], 4) # aqui, estamos construindo 4 buckets\n",
    "Bucket_cut"
   ]
  },
  {
   "cell_type": "code",
   "execution_count": null,
   "metadata": {
    "id": "OOD38I6ug1AY"
   },
   "outputs": [],
   "source": [
    "# Quem são os Bucket's que construimos:\n",
    "Bucket_cut.value_counts()"
   ]
  },
  {
   "cell_type": "markdown",
   "metadata": {
    "id": "9s2eaZGtfsxu"
   },
   "source": [
    "Como podem ver, de fato construimos 4 bucket's. **Observe que não temos a mesma quantidade de itens em cada classe!!!**"
   ]
  },
  {
   "cell_type": "markdown",
   "metadata": {
    "id": "T7u0pS64hPHC"
   },
   "source": [
    "## pd.qcut()"
   ]
  },
  {
   "cell_type": "code",
   "execution_count": null,
   "metadata": {
    "id": "cJTQTHA6pGEm"
   },
   "outputs": [],
   "source": [
    "Bucket_qcut = pd.qcut(df['coluna8'], 4, labels=False)\n",
    "Bucket_qcut"
   ]
  },
  {
   "cell_type": "code",
   "execution_count": null,
   "metadata": {
    "id": "vM30Td_8hZre"
   },
   "outputs": [],
   "source": [
    "# Quem são os Bucket's que construimos:\n",
    "Bucket_qcut.value_counts()"
   ]
  },
  {
   "cell_type": "markdown",
   "metadata": {
    "id": "jhf6V5LTh4G7"
   },
   "source": [
    "## Comentários\n",
    "* pd.qcut() garante uma distribuição mais uniforme dos valores em cada classe. Isso significa que é menos provável que você tenha uma classe com muitos dados e outra com poucos dados.\n",
    "* Eu prefiro usar pd.qcut()."
   ]
  },
  {
   "cell_type": "markdown",
   "metadata": {
    "id": "RNsR0NsS5iIU"
   },
   "source": [
    "___\n",
    "# **Distribuição conjunta - crosstabs**\n",
    "> Suponha que queremos analisar o número de sobreviventes em relação à COLUNA embarked."
   ]
  },
  {
   "cell_type": "code",
   "execution_count": null,
   "metadata": {
    "id": "LKQv6YtSfGSU"
   },
   "outputs": [],
   "source": [
    "df_Titanic2.head()"
   ]
  },
  {
   "cell_type": "code",
   "execution_count": null,
   "metadata": {
    "id": "ANhb5rBffTh6"
   },
   "outputs": [],
   "source": [
    "pd.crosstab(df_Titanic2['survived'], df_Titanic2['embarked'])"
   ]
  },
  {
   "cell_type": "markdown",
   "metadata": {
    "id": "WIlHAYEVqSjT"
   },
   "source": [
    "___\n",
    "# **Deletar COLUNAS do dataframe**\n",
    "> Deletar as COLUNAS 'coluna2' e 'coluna5' do dataframe."
   ]
  },
  {
   "cell_type": "code",
   "execution_count": null,
   "metadata": {
    "id": "YssOMF_Vqso5"
   },
   "outputs": [],
   "source": [
    "df"
   ]
  },
  {
   "cell_type": "markdown",
   "metadata": {
    "id": "rVF_1p0Gq3gZ"
   },
   "source": [
    "## Usando inplace = True"
   ]
  },
  {
   "cell_type": "code",
   "execution_count": null,
   "metadata": {
    "id": "7BjRIX1jqWQT"
   },
   "outputs": [],
   "source": [
    "df.drop(['coluna2','coluna5'], axis =1, inplace =True)\n",
    "df"
   ]
  },
  {
   "cell_type": "markdown",
   "metadata": {
    "id": "POC2fnTlq8mK"
   },
   "source": [
    "## Usando atribuição"
   ]
  },
  {
   "cell_type": "code",
   "execution_count": null,
   "metadata": {
    "id": "YRSwEbnfq7s_"
   },
   "outputs": [],
   "source": [
    "df= df.drop(['coluna2','coluna5'], axis =1)\n",
    "df"
   ]
  },
  {
   "cell_type": "markdown",
   "metadata": {
    "id": "bHth6KSv7k0G"
   },
   "source": [
    "___\n",
    "# **Criar COLUNAS dummies para dados categóricos**\n",
    "> Nosso objetivo é construir variáveis dummies para nossas COLUNAS categóricas.\n",
    "\n",
    "* Fontes: \n",
    "    * [Categorical data](https://pandas.pydata.org/pandas-docs/stable/user_guide/categorical.html)\n",
    "    * [Creating Dummy Variables](https://www.ritchieng.com/pandas-creating-dummy-variables/)"
   ]
  },
  {
   "cell_type": "code",
   "execution_count": null,
   "metadata": {
    "id": "GOqcARHqjMr_"
   },
   "outputs": [],
   "source": [
    "df"
   ]
  },
  {
   "cell_type": "markdown",
   "metadata": {
    "id": "yNqvwEu9jbuW"
   },
   "source": [
    "Vamos construir variáveis dummies para as COLUNAS 'coluna6' e 'coluna7', da seguinte forma:"
   ]
  },
  {
   "cell_type": "code",
   "execution_count": null,
   "metadata": {
    "id": "16osZsMEjmDh"
   },
   "outputs": [],
   "source": [
    "pd.get_dummies(df['coluna6'])"
   ]
  },
  {
   "cell_type": "markdown",
   "metadata": {
    "id": "Cb1gp_Y1jxz2"
   },
   "source": [
    "Qual a interpretação do resultado acima?"
   ]
  },
  {
   "cell_type": "code",
   "execution_count": null,
   "metadata": {
    "id": "Cic19l-Mj39q"
   },
   "outputs": [],
   "source": [
    "pd.get_dummies(df['coluna7'])"
   ]
  },
  {
   "cell_type": "markdown",
   "metadata": {
    "id": "44FDXcoyj-tT"
   },
   "source": [
    "Qual a interpretação do resultado acima?"
   ]
  },
  {
   "cell_type": "code",
   "execution_count": null,
   "metadata": {
    "id": "cxHc6BvDkCWl"
   },
   "outputs": [],
   "source": [
    "df = pd.get_dummies(df, columns =['coluna6', 'coluna7', 'sexo'])\n",
    "df"
   ]
  },
  {
   "cell_type": "code",
   "execution_count": null,
   "metadata": {
    "id": "A2m25N4znZ2O"
   },
   "outputs": [],
   "source": [
    "df.columns"
   ]
  },
  {
   "cell_type": "markdown",
   "metadata": {
    "id": "x0uXu0RRlB2a"
   },
   "source": [
    "___\n",
    "# **Calcular correlação (Análise de Correlação)**\n",
    "> A correlação pode ser calculada usando o método df.corr(). Para mais detalhes sobre os tipos de correlação existentes bem como a aplicação de cada uma delas, consulte os links a seguir:\n",
    "\n",
    "* [Pearson correlation coefficient](https://en.wikipedia.org/wiki/Pearson_correlation_coefficient)\n",
    "* [Kendall rank correlation coefficient](https://en.wikipedia.org/wiki/Kendall_rank_correlation_coefficient)\n",
    "* [Spearman's rank correlation coefficient](https://en.wikipedia.org/wiki/Spearman%27s_rank_correlation_coefficient).\n",
    "\n",
    "Para aprender mais sobre a geração de heatmap, consulte [Seaborn Heatmap Tutorial (Python Data Visualization)](https://likegeeks.com/seaborn-heatmap-tutorial/)"
   ]
  },
  {
   "cell_type": "markdown",
   "metadata": {
    "id": "AgoigF8AnYG0"
   },
   "source": [
    "## Gerando o dataframe-exemplo:"
   ]
  },
  {
   "cell_type": "code",
   "execution_count": null,
   "metadata": {
    "id": "NsuhsZCTmqEm"
   },
   "outputs": [],
   "source": [
    "# Visualizar os dados\n",
    "df_X.head()"
   ]
  },
  {
   "cell_type": "code",
   "execution_count": null,
   "metadata": {
    "id": "D0JNMHqYoSMs"
   },
   "outputs": [],
   "source": [
    "# Mostra a matriz de correlação usando a correlação de Pearson\n",
    "set_Colunas_Correlacionadas = set()\n",
    "matriz_correlacao = df_X.corr().where(np.triu(np.ones(df_X.corr().shape), k = 1).astype(np.bool))\n",
    "matriz_correlacao"
   ]
  },
  {
   "cell_type": "code",
   "execution_count": null,
   "metadata": {
    "id": "6scRm8kNnbby"
   },
   "outputs": [],
   "source": [
    "import pandas as pd\n",
    "import numpy as np\n",
    "import seaborn as sns\n",
    "import matplotlib.pyplot as plt\n",
    "%matplotlib inline\n",
    "\n",
    "# Gerando um dataframe com 15 colunas, sendo 9 informativas e 6 redundantes:\n",
    "from sklearn.datasets import make_classification\n",
    "X, y = make_classification(n_samples=1000, n_features=15, n_informative=9,\n",
    "    n_redundant=6, n_repeated=0, n_classes=2, n_clusters_per_class=1,\n",
    "    random_state=20111974)\n",
    "\n",
    "df_X = pd.DataFrame(X, columns= ['v1', 'v2', 'v3', 'v4', 'v5', 'v6', 'v7', 'v8', 'v9', 'v10', 'v11', 'v12', 'v13', 'v14', 'v15'])\n",
    "df_y = pd.DataFrame(y, columns= ['target'])"
   ]
  },
  {
   "cell_type": "markdown",
   "metadata": {
    "id": "Vnj6A8z6r7nM"
   },
   "source": [
    "### Quem são as colunas altamente correlacionadas?"
   ]
  },
  {
   "cell_type": "code",
   "execution_count": null,
   "metadata": {
    "id": "a_YUD-dOr_p-"
   },
   "outputs": [],
   "source": [
    "for i in range(len(matriz_correlacao.columns)):\n",
    "    for j in range(i):\n",
    "        if abs(matriz_correlacao.iloc[i, j]) > 0.8:\n",
    "            colnome = matriz_correlacao.columns[i]\n",
    "            set_Colunas_Correlacionadas.add(colnome)\n",
    "\n",
    "set_Colunas_Correlacionadas"
   ]
  },
  {
   "cell_type": "markdown",
   "metadata": {
    "id": "3-0Xe6GdozYT"
   },
   "source": [
    "A seguir, a correlação mais visual:"
   ]
  },
  {
   "cell_type": "code",
   "execution_count": null,
   "metadata": {
    "id": "5-_Qadx1o1U9"
   },
   "outputs": [],
   "source": [
    "fig, ax = plt.subplots(figsize = (12, 12)) \n",
    "mask = np.zeros_like(df_X.corr().abs())\n",
    "mask[np.triu_indices_from(mask)] = 1\n",
    "sns.heatmap(df_X.corr().abs(), mask= mask, ax= ax, cmap='coolwarm', annot= True, fmt= '.2f', center= 0)"
   ]
  },
  {
   "cell_type": "markdown",
   "metadata": {
    "id": "5ZOp9ZGgtqFQ"
   },
   "source": [
    "# **Scatterplot**"
   ]
  },
  {
   "cell_type": "markdown",
   "metadata": {
    "id": "eReJJjG8tuKV"
   },
   "source": [
    "## Com regressão"
   ]
  },
  {
   "cell_type": "code",
   "execution_count": null,
   "metadata": {
    "id": "tVmdSo6ztruA"
   },
   "outputs": [],
   "source": [
    "sns.pairplot(df_X, kind = \"reg\")\n",
    "plt.show()"
   ]
  },
  {
   "cell_type": "markdown",
   "metadata": {
    "id": "xG9A6b32twv-"
   },
   "source": [
    "## Sem regressão"
   ]
  },
  {
   "cell_type": "code",
   "execution_count": null,
   "metadata": {
    "id": "fyTOS3zVtz-O"
   },
   "outputs": [],
   "source": [
    "sns.pairplot(df_X, kind = \"scatter\")\n",
    "plt.show()"
   ]
  },
  {
   "cell_type": "markdown",
   "metadata": {
    "id": "f-1bpipc6bMh"
   },
   "source": [
    "___\n",
    "# **Salvar dataframe como csv**"
   ]
  },
  {
   "cell_type": "code",
   "execution_count": null,
   "metadata": {
    "id": "64CoM1aY6gf6"
   },
   "outputs": [],
   "source": [
    "df_X.to_csv('example.csv')"
   ]
  },
  {
   "cell_type": "markdown",
   "metadata": {
    "id": "oy646p33DJV0"
   },
   "source": [
    "# **Dicionário de palavras**\n",
    "> Muito utilizado em NLP e Machine Learning.\n",
    "* Caso de Uso: Seguradoras --> Quando um segurado aciona a Seguradora para descrever um acidente (por exemplo), há um algorítmo que transforma o áudio em texto para mineração de textos."
   ]
  },
  {
   "cell_type": "code",
   "execution_count": null,
   "metadata": {
    "id": "DQR906rVD1V-"
   },
   "outputs": [],
   "source": [
    "df_Titanic.head()"
   ]
  },
  {
   "cell_type": "code",
   "execution_count": null,
   "metadata": {
    "id": "sHvDaztJDPP7"
   },
   "outputs": [],
   "source": [
    "from sklearn.feature_extraction.text import CountVectorizer\n",
    "CountVectorizer = CountVectorizer()\n",
    "matriz_contagens = CountVectorizer.fit_transform(df_Titanic['name']) # Informe a coluna do tipo texto/string que queremos analisar/avaliar\n",
    "print(matriz_contagens)"
   ]
  },
  {
   "cell_type": "code",
   "execution_count": null,
   "metadata": {
    "id": "jwT-56dED8VJ"
   },
   "outputs": [],
   "source": [
    "df_dicionario_palavras = pd.DataFrame(CountVectorizer.get_feature_names(), columns = ['palavra'])\n",
    "df_dicionario_palavras[\"vezes_que_aparece\"] = matriz_contagens.sum(axis = 0).tolist()[0]\n",
    "df_dicionario_palavras = df_dicionario_palavras.sort_values(\"vezes_que_aparece\", ascending = False) #.reset_index(drop = True) # Sorte ordena as linhas do dataframe\n",
    "df_dicionario_palavras.head(10)"
   ]
  },
  {
   "cell_type": "markdown",
   "metadata": {
    "id": "nx65RmEAGTvd"
   },
   "source": [
    "# Desafio\n",
    "> Transforme o code Python da sessão **Dicionário de palavras** em função para usarmos futuramente."
   ]
  },
  {
   "cell_type": "markdown",
   "metadata": {
    "id": "iwd1lhq9mrD3"
   },
   "source": [
    "___\n",
    "# **Exercícios**"
   ]
  },
  {
   "cell_type": "markdown",
   "metadata": {
    "id": "o_cl0kFgQfFh"
   },
   "source": [
    "## Exercício 1\n",
    "* A partir dos dataframes USA_Abbrev, USA_Area e USA_Population, construa o Dataframe USA contendo as COLUNAS state, abbreviation, area, ages, year, population.\n"
   ]
  },
  {
   "cell_type": "markdown",
   "metadata": {
    "id": "s8rQUo7yHKJ1"
   },
   "source": [
    "* Observação: A forma mais fácil de ler um arquivo CSV (a partir do Excell por exemplo) a partir do GitHub é clicar no arquivo csv no seu repositório do GitHub e em seguida clicar em 'raw'. Depois, copie o endereço apresentado no browser e cole na variável 'url'. Qualquer dúvida, leia o documento a seguir: https://towardsdatascience.com/3-ways-to-load-csv-files-into-colab-7c14fcbdcb92."
   ]
  },
  {
   "cell_type": "markdown",
   "metadata": {
    "id": "KTun1uSLuJ-A"
   },
   "source": [
    "## Exercício 2\n",
    "Source: https://github.com/aakankshaws/Pandas-exercises\n",
    "\n",
    "* Considere os dataframes a seguir e faça o merge do dataframe df_esquerdo com o dataframe df_direito:"
   ]
  },
  {
   "cell_type": "code",
   "execution_count": null,
   "metadata": {
    "id": "Soq7GVZnuREq"
   },
   "outputs": [],
   "source": [
    "df_esquerdo = pd.DataFrame({'key': ['K0', 'K1', 'K2', 'K3'],\n",
    "                     'A': ['A0', 'A1', 'A2', 'A3'],\n",
    "                     'B': ['B0', 'B1', 'B2', 'B3']})\n",
    "   \n",
    "df_direito = pd.DataFrame({'key': ['K0', 'K1', 'K2', 'K3'],\n",
    "                          'C': ['C0', 'C1', 'C2', 'C3'],\n",
    "                          'D': ['D0', 'D1', 'D2', 'D3']})"
   ]
  },
  {
   "cell_type": "markdown",
   "metadata": {
    "id": "6KEsTARfvM1C"
   },
   "source": [
    "## Exercício 3\n",
    "Source: https://github.com/aakankshaws/Pandas-exercises\n",
    "\n",
    "* Considere os dataframes a seguir:"
   ]
  },
  {
   "cell_type": "code",
   "execution_count": null,
   "metadata": {
    "id": "hgxE5gZ9vMEg"
   },
   "outputs": [],
   "source": [
    "df_esquerdo = pd.DataFrame({'key1': ['K0', 'K0', 'K1', 'K2'],\n",
    "                     'key2': ['K0', 'K1', 'K0', 'K1'],\n",
    "                        'A': ['A0', 'A1', 'A2', 'A3'],\n",
    "                        'B': ['B0', 'B1', 'B2', 'B3']})\n",
    "    \n",
    "df_direito = pd.DataFrame({'key1': ['K0', 'K1', 'K1', 'K2'],\n",
    "                               'key2': ['K0', 'K0', 'K0', 'K0'],\n",
    "                                  'C': ['C0', 'C1', 'C2', 'C3'],\n",
    "                                  'D': ['D0', 'D1', 'D2', 'D3']})"
   ]
  },
  {
   "cell_type": "markdown",
   "metadata": {
    "id": "iv7AmZ1ivm8R"
   },
   "source": [
    "### Perguntas\n",
    "* Qual o output e a interpretação dos comandos a seguir:"
   ]
  },
  {
   "cell_type": "code",
   "execution_count": null,
   "metadata": {
    "id": "TWAW_1tuvvSO"
   },
   "outputs": [],
   "source": [
    "pd.merge(df_esquerdo, df_direito, on = ['key1', 'key2'])"
   ]
  },
  {
   "cell_type": "code",
   "execution_count": null,
   "metadata": {
    "id": "QjM7pBONvzCJ"
   },
   "outputs": [],
   "source": [
    "pd.merge(df_esquerdo, df_direito, how = 'outer', on = ['key1', 'key2'])"
   ]
  },
  {
   "cell_type": "code",
   "execution_count": null,
   "metadata": {
    "id": "D1Rr3Ghsv2iS"
   },
   "outputs": [],
   "source": [
    "pd.merge(df_esquerdo, df_direito, how = 'right', on = ['key1', 'key2'])"
   ]
  },
  {
   "cell_type": "code",
   "execution_count": null,
   "metadata": {
    "id": "vXQwLjT-v3Iu"
   },
   "outputs": [],
   "source": [
    "pd.merge(df_esquerdo, df_direito, how = 'left', on = ['key1', 'key2'])"
   ]
  },
  {
   "cell_type": "markdown",
   "metadata": {
    "id": "EIdltTC-t_lF"
   },
   "source": [
    "## Exercício 5\n",
    "5.1. Identifique e delete os atributos do dataframe df_Titanic que podem ser excluídos inicialmente no início da análise de dados."
   ]
  },
  {
   "cell_type": "markdown",
   "metadata": {
    "id": "bMwPLgWclWBq"
   },
   "source": [
    "___\n",
    "## Exercício 6\n",
    "* (a) Carregue o dataframe Titanic_With_MV.csv e analise o dataframe em busca de inconsistências e Missing Values (NaN).\n",
    "\n",
    "### Feature Engineering\n",
    "* (b) Com a coluna 'cabin', construir as colunas:\n",
    "    * deck - Letra de Cabin;\n",
    "    * seat - Número de Cabin\n",
    "* (c) Criar a coluna 'sozinho_parch', onde sozinho_parch= 1 significa que o passageiro viaja sozinho e 0, caso contrário.\n",
    "* (d) Criar o atributo 'sozinho_sibsp', onde sozinho= 1 significa que o passageiro viaja sozinho e 0, caso contrário.\n",
    "* (e) Discretizar a coluna 'fare' em 10 buckets.\n",
    "* (f) Discretizar a coluna 'age'.\n",
    "* (g) Capturar os títulos 'Ms', 'Mr' e etc contidos na coluna 'Title';\n",
    "* (h) Qual a relação entre as variáveis e a variável-target?"
   ]
  },
  {
   "cell_type": "code",
   "execution_count": null,
   "metadata": {
    "id": "V7KUGAX6lilP"
   },
   "outputs": [],
   "source": [
    "import pandas as pd\n",
    "df_Titanic = pd.read_csv('https://raw.githubusercontent.com/MathMachado/Python4DS/DS_Python/Dataframes/Titanic_With_MV.csv?token =AGDJQ63MNPPPROFNSO2BZW25XSR72', index_col= 'PassengerId')\n",
    "df_Titanic.head()"
   ]
  },
  {
   "cell_type": "markdown",
   "metadata": {
    "id": "m3UnAPJakCLR"
   },
   "source": [
    "* Segue o dicionário de dados do dataframe Titanic:\n",
    "    * PassengerID: ID do passageiro;\n",
    "    * survived: Indicador, sendo 1= Passageiro sobreviveu e 0= Passageiro morreu;\n",
    "    * Pclass: Classe;\n",
    "    * Age: Idade do Passageiro;\n",
    "    * SibSp: Número de parentes a bordo (esposa, irmãos, pais e etc);\n",
    "    * Parch: Número de pais/crianças a bordo;\n",
    "    * Fare: Valor pago pelo Passageiro;\n",
    "    * Cabin: Cabine do Passageiro;\n",
    "    * Embarked: A porta pelo qual o Passageiro embarcou.\n",
    "    * Name: Nome do Passageiro;\n",
    "    * sex: sexo do Passageiro\n",
    "    "
   ]
  },
  {
   "cell_type": "markdown",
   "metadata": {
    "id": "B_3s5cgxfNKQ"
   },
   "source": [
    "## Resposta do item (a)\n",
    "### Coluna XPTO\n",
    "\n",
    "\n",
    "### Coluna XPTO2"
   ]
  },
  {
   "cell_type": "markdown",
   "metadata": {
    "id": "q3oLgyhdL6xd"
   },
   "source": [
    "## Resposta do item (b)"
   ]
  },
  {
   "cell_type": "markdown",
   "metadata": {
    "id": "UbexhGtayV4X"
   },
   "source": [
    "## Exercício 7\n",
    "Consulte a página [Pandas Exercises, Practice, Solution](https://www.w3resource.com/python-exercises/pandas/index.php) para mais exercícios relacionados á este tópico."
   ]
  },
  {
   "cell_type": "markdown",
   "metadata": {
    "id": "Iia0ikd_KBtH"
   },
   "source": [
    "## Exercício 8\n",
    "Crie a coluna 'aleatorio' no dataframe df_Titanic em que cada linha recebe um valor aleatório usando o método np.random.random()."
   ]
  },
  {
   "cell_type": "code",
   "execution_count": null,
   "metadata": {
    "id": "HPiLKUkWNYs3"
   },
   "outputs": [],
   "source": [
    "df_Titanic.head()"
   ]
  },
  {
   "cell_type": "markdown",
   "metadata": {
    "id": "TUVTlE9WYW8C"
   },
   "source": [
    "## Exercício 9\n",
    "O arquivo FIFA.csv contem dados relacionados à última edição do FIFA 2018 (um dos jogos de video-game mais famosos) e traz os mais variados dados sobre os jogadores (exemplo): idade, nacionalidade, potencial, salário e etc. Faça o seguinte:\n",
    "\n",
    "1. Carregue o arquivo FIFA.csv (está na área de Dataframes do curso);\n",
    "2. Que colunas podem previamente ser eliminadas da análise? Porque identificar o que pode ser eliminado é importante?\n",
    "3. Qual o dtype de cada variável/atributo do dataframe?\n",
    "4. Se alguma variávável/atributo é do tipo string (object) e supostamente deveria ser numérica, como alteramos o tipo?\n",
    "5. Normalize os nomes das colunas, ou seja, renomeie o nome das colunas para minúsculo;\n",
    "6. Há Missing values nos dados? Se sim, o qual sua proposta (proposta do grupo) para tratar estes Missing values?\n",
    "7. Qual a distribuição do número de jogadores por países? Apresente uma tabela com a distribuição.\n",
    "8. Qual a média de idade dos jogadores por países (variável/atributo 'Nacionality');\n",
    "9. Qual a número de jogadores por idade?\n",
    "10. Quantos jogadores possuem cada clube?\n",
    "11. Qual a média de idade por clube?\n",
    "12. Qual a média de salário por país?\n",
    "13. Qual a média de salário por clube?\n",
    "14. Qual a média de salário por idade?\n",
    "15. Quanto cada clube gasta com pagamento de salários?\n",
    "16. Quais são os insight (o que você consegue descobrir) em relação à variável 'Potential' (mede o potencial dos jogadores)?\n",
    "17. Quais os insights em relação à variável overall (nota média do atleta) por idade, clube e país?\n",
    "18. Quais são os melhores clubes se levarmos em consideração as variáveis Potential e Overall?\n",
    "19. Apresente o ranking dos goleiros (use a variável/atributo 'Preferred Positions') por Potencial, Overall. Estamos à procura de 'GK'.\n",
    "20. Quem são os jogadores mais rápidos (variável/atributo 'Sprint speed'=?\n",
    "21. Quem são os 5 melhores jogadores em termos de chute (força para chutar) (use a variável/atributo 'Shot power')?\n",
    "22. Quem são os outliers em termos de salário?\n",
    "23. Quem são os outliers em termos de potência no chute?\n",
    "\n",
    "\n",
    "\n"
   ]
  },
  {
   "cell_type": "code",
   "execution_count": 1,
   "metadata": {
    "id": "ldWQd9j4NhPS"
   },
   "outputs": [],
   "source": [
    "import pandas as pd\n",
    "import numpy as np"
   ]
  },
  {
   "cell_type": "code",
   "execution_count": 2,
   "metadata": {},
   "outputs": [
    {
     "name": "stdout",
     "output_type": "stream",
     "text": [
      "display.max_columns 1000\n",
      "display.expand_frame_repr True\n",
      "display.max_rows 10\n",
      "display.precision 2\n",
      "display.show_dimensions True\n",
      "display.float_format <function <lambda> at 0x00000188DA1B39D8>\n"
     ]
    }
   ],
   "source": [
    "d_configuracao = {\n",
    "    'display.max_columns': 1000,\n",
    "    'display.expand_frame_repr': True,\n",
    "    'display.max_rows': 10,\n",
    "    'display.precision': 2,\n",
    "    'display.show_dimensions': True,\n",
    "    'display.float_format': (lambda x: '%.2f' % x)\n",
    "                  }\n",
    "\n",
    "for op, value in d_configuracao.items():\n",
    "    pd.set_option(op, value)\n",
    "    print(op, value)\n"
   ]
  },
  {
   "cell_type": "code",
   "execution_count": 3,
   "metadata": {},
   "outputs": [
    {
     "data": {
      "text/html": [
       "<div>\n",
       "<style scoped>\n",
       "    .dataframe tbody tr th:only-of-type {\n",
       "        vertical-align: middle;\n",
       "    }\n",
       "\n",
       "    .dataframe tbody tr th {\n",
       "        vertical-align: top;\n",
       "    }\n",
       "\n",
       "    .dataframe thead th {\n",
       "        text-align: right;\n",
       "    }\n",
       "</style>\n",
       "<table border=\"1\" class=\"dataframe\">\n",
       "  <thead>\n",
       "    <tr style=\"text-align: right;\">\n",
       "      <th></th>\n",
       "      <th>Unnamed: 0</th>\n",
       "      <th>ID</th>\n",
       "      <th>Name</th>\n",
       "      <th>Age</th>\n",
       "      <th>Photo</th>\n",
       "      <th>Nationality</th>\n",
       "      <th>Flag</th>\n",
       "      <th>Overall</th>\n",
       "      <th>Potential</th>\n",
       "      <th>Club</th>\n",
       "      <th>Club Logo</th>\n",
       "      <th>Value</th>\n",
       "      <th>Wage</th>\n",
       "      <th>Special</th>\n",
       "      <th>Preferred Foot</th>\n",
       "      <th>International Reputation</th>\n",
       "      <th>Weak Foot</th>\n",
       "      <th>Skill Moves</th>\n",
       "      <th>Work Rate</th>\n",
       "      <th>Body Type</th>\n",
       "      <th>Real Face</th>\n",
       "      <th>Position</th>\n",
       "      <th>Jersey Number</th>\n",
       "      <th>Joined</th>\n",
       "      <th>Loaned From</th>\n",
       "      <th>Contract Valid Until</th>\n",
       "      <th>Height</th>\n",
       "      <th>Weight</th>\n",
       "      <th>LS</th>\n",
       "      <th>ST</th>\n",
       "      <th>RS</th>\n",
       "      <th>LW</th>\n",
       "      <th>LF</th>\n",
       "      <th>CF</th>\n",
       "      <th>RF</th>\n",
       "      <th>RW</th>\n",
       "      <th>LAM</th>\n",
       "      <th>CAM</th>\n",
       "      <th>RAM</th>\n",
       "      <th>LM</th>\n",
       "      <th>LCM</th>\n",
       "      <th>CM</th>\n",
       "      <th>RCM</th>\n",
       "      <th>RM</th>\n",
       "      <th>LWB</th>\n",
       "      <th>LDM</th>\n",
       "      <th>CDM</th>\n",
       "      <th>RDM</th>\n",
       "      <th>RWB</th>\n",
       "      <th>LB</th>\n",
       "      <th>LCB</th>\n",
       "      <th>CB</th>\n",
       "      <th>RCB</th>\n",
       "      <th>RB</th>\n",
       "      <th>Crossing</th>\n",
       "      <th>Finishing</th>\n",
       "      <th>HeadingAccuracy</th>\n",
       "      <th>ShortPassing</th>\n",
       "      <th>Volleys</th>\n",
       "      <th>Dribbling</th>\n",
       "      <th>Curve</th>\n",
       "      <th>FKAccuracy</th>\n",
       "      <th>LongPassing</th>\n",
       "      <th>BallControl</th>\n",
       "      <th>Acceleration</th>\n",
       "      <th>SprintSpeed</th>\n",
       "      <th>Agility</th>\n",
       "      <th>Reactions</th>\n",
       "      <th>Balance</th>\n",
       "      <th>ShotPower</th>\n",
       "      <th>Jumping</th>\n",
       "      <th>Stamina</th>\n",
       "      <th>Strength</th>\n",
       "      <th>LongShots</th>\n",
       "      <th>Aggression</th>\n",
       "      <th>Interceptions</th>\n",
       "      <th>Positioning</th>\n",
       "      <th>Vision</th>\n",
       "      <th>Penalties</th>\n",
       "      <th>Composure</th>\n",
       "      <th>Marking</th>\n",
       "      <th>StandingTackle</th>\n",
       "      <th>SlidingTackle</th>\n",
       "      <th>GKDiving</th>\n",
       "      <th>GKHandling</th>\n",
       "      <th>GKKicking</th>\n",
       "      <th>GKPositioning</th>\n",
       "      <th>GKReflexes</th>\n",
       "      <th>Release Clause</th>\n",
       "    </tr>\n",
       "  </thead>\n",
       "  <tbody>\n",
       "    <tr>\n",
       "      <th>0</th>\n",
       "      <td>0</td>\n",
       "      <td>158023</td>\n",
       "      <td>L. Messi</td>\n",
       "      <td>31</td>\n",
       "      <td>https://cdn.sofifa.org/players/4/19/158023.png</td>\n",
       "      <td>Argentina</td>\n",
       "      <td>https://cdn.sofifa.org/flags/52.png</td>\n",
       "      <td>94</td>\n",
       "      <td>94</td>\n",
       "      <td>FC Barcelona</td>\n",
       "      <td>https://cdn.sofifa.org/teams/2/light/241.png</td>\n",
       "      <td>€110.5M</td>\n",
       "      <td>€565K</td>\n",
       "      <td>2202</td>\n",
       "      <td>Left</td>\n",
       "      <td>5.00</td>\n",
       "      <td>4.00</td>\n",
       "      <td>4.00</td>\n",
       "      <td>Medium/ Medium</td>\n",
       "      <td>Messi</td>\n",
       "      <td>Yes</td>\n",
       "      <td>RF</td>\n",
       "      <td>10.00</td>\n",
       "      <td>Jul 1, 2004</td>\n",
       "      <td>NaN</td>\n",
       "      <td>2021</td>\n",
       "      <td>5'7</td>\n",
       "      <td>159lbs</td>\n",
       "      <td>88+2</td>\n",
       "      <td>88+2</td>\n",
       "      <td>88+2</td>\n",
       "      <td>92+2</td>\n",
       "      <td>93+2</td>\n",
       "      <td>93+2</td>\n",
       "      <td>93+2</td>\n",
       "      <td>92+2</td>\n",
       "      <td>93+2</td>\n",
       "      <td>93+2</td>\n",
       "      <td>93+2</td>\n",
       "      <td>91+2</td>\n",
       "      <td>84+2</td>\n",
       "      <td>84+2</td>\n",
       "      <td>84+2</td>\n",
       "      <td>91+2</td>\n",
       "      <td>64+2</td>\n",
       "      <td>61+2</td>\n",
       "      <td>61+2</td>\n",
       "      <td>61+2</td>\n",
       "      <td>64+2</td>\n",
       "      <td>59+2</td>\n",
       "      <td>47+2</td>\n",
       "      <td>47+2</td>\n",
       "      <td>47+2</td>\n",
       "      <td>59+2</td>\n",
       "      <td>84.00</td>\n",
       "      <td>95.00</td>\n",
       "      <td>70.00</td>\n",
       "      <td>90.00</td>\n",
       "      <td>86.00</td>\n",
       "      <td>97.00</td>\n",
       "      <td>93.00</td>\n",
       "      <td>94.00</td>\n",
       "      <td>87.00</td>\n",
       "      <td>96.00</td>\n",
       "      <td>91.00</td>\n",
       "      <td>86.00</td>\n",
       "      <td>91.00</td>\n",
       "      <td>95.00</td>\n",
       "      <td>95.00</td>\n",
       "      <td>85.00</td>\n",
       "      <td>68.00</td>\n",
       "      <td>72.00</td>\n",
       "      <td>59.00</td>\n",
       "      <td>94.00</td>\n",
       "      <td>48.00</td>\n",
       "      <td>22.00</td>\n",
       "      <td>94.00</td>\n",
       "      <td>94.00</td>\n",
       "      <td>75.00</td>\n",
       "      <td>96.00</td>\n",
       "      <td>33.00</td>\n",
       "      <td>28.00</td>\n",
       "      <td>26.00</td>\n",
       "      <td>6.00</td>\n",
       "      <td>11.00</td>\n",
       "      <td>15.00</td>\n",
       "      <td>14.00</td>\n",
       "      <td>8.00</td>\n",
       "      <td>€226.5M</td>\n",
       "    </tr>\n",
       "    <tr>\n",
       "      <th>1</th>\n",
       "      <td>1</td>\n",
       "      <td>20801</td>\n",
       "      <td>Cristiano Ronaldo</td>\n",
       "      <td>33</td>\n",
       "      <td>https://cdn.sofifa.org/players/4/19/20801.png</td>\n",
       "      <td>Portugal</td>\n",
       "      <td>https://cdn.sofifa.org/flags/38.png</td>\n",
       "      <td>94</td>\n",
       "      <td>94</td>\n",
       "      <td>Juventus</td>\n",
       "      <td>https://cdn.sofifa.org/teams/2/light/45.png</td>\n",
       "      <td>€77M</td>\n",
       "      <td>€405K</td>\n",
       "      <td>2228</td>\n",
       "      <td>Right</td>\n",
       "      <td>5.00</td>\n",
       "      <td>4.00</td>\n",
       "      <td>5.00</td>\n",
       "      <td>High/ Low</td>\n",
       "      <td>C. Ronaldo</td>\n",
       "      <td>Yes</td>\n",
       "      <td>ST</td>\n",
       "      <td>7.00</td>\n",
       "      <td>Jul 10, 2018</td>\n",
       "      <td>NaN</td>\n",
       "      <td>2022</td>\n",
       "      <td>6'2</td>\n",
       "      <td>183lbs</td>\n",
       "      <td>91+3</td>\n",
       "      <td>91+3</td>\n",
       "      <td>91+3</td>\n",
       "      <td>89+3</td>\n",
       "      <td>90+3</td>\n",
       "      <td>90+3</td>\n",
       "      <td>90+3</td>\n",
       "      <td>89+3</td>\n",
       "      <td>88+3</td>\n",
       "      <td>88+3</td>\n",
       "      <td>88+3</td>\n",
       "      <td>88+3</td>\n",
       "      <td>81+3</td>\n",
       "      <td>81+3</td>\n",
       "      <td>81+3</td>\n",
       "      <td>88+3</td>\n",
       "      <td>65+3</td>\n",
       "      <td>61+3</td>\n",
       "      <td>61+3</td>\n",
       "      <td>61+3</td>\n",
       "      <td>65+3</td>\n",
       "      <td>61+3</td>\n",
       "      <td>53+3</td>\n",
       "      <td>53+3</td>\n",
       "      <td>53+3</td>\n",
       "      <td>61+3</td>\n",
       "      <td>84.00</td>\n",
       "      <td>94.00</td>\n",
       "      <td>89.00</td>\n",
       "      <td>81.00</td>\n",
       "      <td>87.00</td>\n",
       "      <td>88.00</td>\n",
       "      <td>81.00</td>\n",
       "      <td>76.00</td>\n",
       "      <td>77.00</td>\n",
       "      <td>94.00</td>\n",
       "      <td>89.00</td>\n",
       "      <td>91.00</td>\n",
       "      <td>87.00</td>\n",
       "      <td>96.00</td>\n",
       "      <td>70.00</td>\n",
       "      <td>95.00</td>\n",
       "      <td>95.00</td>\n",
       "      <td>88.00</td>\n",
       "      <td>79.00</td>\n",
       "      <td>93.00</td>\n",
       "      <td>63.00</td>\n",
       "      <td>29.00</td>\n",
       "      <td>95.00</td>\n",
       "      <td>82.00</td>\n",
       "      <td>85.00</td>\n",
       "      <td>95.00</td>\n",
       "      <td>28.00</td>\n",
       "      <td>31.00</td>\n",
       "      <td>23.00</td>\n",
       "      <td>7.00</td>\n",
       "      <td>11.00</td>\n",
       "      <td>15.00</td>\n",
       "      <td>14.00</td>\n",
       "      <td>11.00</td>\n",
       "      <td>€127.1M</td>\n",
       "    </tr>\n",
       "    <tr>\n",
       "      <th>2</th>\n",
       "      <td>2</td>\n",
       "      <td>190871</td>\n",
       "      <td>Neymar Jr</td>\n",
       "      <td>26</td>\n",
       "      <td>https://cdn.sofifa.org/players/4/19/190871.png</td>\n",
       "      <td>Brazil</td>\n",
       "      <td>https://cdn.sofifa.org/flags/54.png</td>\n",
       "      <td>92</td>\n",
       "      <td>93</td>\n",
       "      <td>Paris Saint-Germain</td>\n",
       "      <td>https://cdn.sofifa.org/teams/2/light/73.png</td>\n",
       "      <td>€118.5M</td>\n",
       "      <td>€290K</td>\n",
       "      <td>2143</td>\n",
       "      <td>Right</td>\n",
       "      <td>5.00</td>\n",
       "      <td>5.00</td>\n",
       "      <td>5.00</td>\n",
       "      <td>High/ Medium</td>\n",
       "      <td>Neymar</td>\n",
       "      <td>Yes</td>\n",
       "      <td>LW</td>\n",
       "      <td>10.00</td>\n",
       "      <td>Aug 3, 2017</td>\n",
       "      <td>NaN</td>\n",
       "      <td>2022</td>\n",
       "      <td>5'9</td>\n",
       "      <td>150lbs</td>\n",
       "      <td>84+3</td>\n",
       "      <td>84+3</td>\n",
       "      <td>84+3</td>\n",
       "      <td>89+3</td>\n",
       "      <td>89+3</td>\n",
       "      <td>89+3</td>\n",
       "      <td>89+3</td>\n",
       "      <td>89+3</td>\n",
       "      <td>89+3</td>\n",
       "      <td>89+3</td>\n",
       "      <td>89+3</td>\n",
       "      <td>88+3</td>\n",
       "      <td>81+3</td>\n",
       "      <td>81+3</td>\n",
       "      <td>81+3</td>\n",
       "      <td>88+3</td>\n",
       "      <td>65+3</td>\n",
       "      <td>60+3</td>\n",
       "      <td>60+3</td>\n",
       "      <td>60+3</td>\n",
       "      <td>65+3</td>\n",
       "      <td>60+3</td>\n",
       "      <td>47+3</td>\n",
       "      <td>47+3</td>\n",
       "      <td>47+3</td>\n",
       "      <td>60+3</td>\n",
       "      <td>79.00</td>\n",
       "      <td>87.00</td>\n",
       "      <td>62.00</td>\n",
       "      <td>84.00</td>\n",
       "      <td>84.00</td>\n",
       "      <td>96.00</td>\n",
       "      <td>88.00</td>\n",
       "      <td>87.00</td>\n",
       "      <td>78.00</td>\n",
       "      <td>95.00</td>\n",
       "      <td>94.00</td>\n",
       "      <td>90.00</td>\n",
       "      <td>96.00</td>\n",
       "      <td>94.00</td>\n",
       "      <td>84.00</td>\n",
       "      <td>80.00</td>\n",
       "      <td>61.00</td>\n",
       "      <td>81.00</td>\n",
       "      <td>49.00</td>\n",
       "      <td>82.00</td>\n",
       "      <td>56.00</td>\n",
       "      <td>36.00</td>\n",
       "      <td>89.00</td>\n",
       "      <td>87.00</td>\n",
       "      <td>81.00</td>\n",
       "      <td>94.00</td>\n",
       "      <td>27.00</td>\n",
       "      <td>24.00</td>\n",
       "      <td>33.00</td>\n",
       "      <td>9.00</td>\n",
       "      <td>9.00</td>\n",
       "      <td>15.00</td>\n",
       "      <td>15.00</td>\n",
       "      <td>11.00</td>\n",
       "      <td>€228.1M</td>\n",
       "    </tr>\n",
       "    <tr>\n",
       "      <th>3</th>\n",
       "      <td>3</td>\n",
       "      <td>193080</td>\n",
       "      <td>De Gea</td>\n",
       "      <td>27</td>\n",
       "      <td>https://cdn.sofifa.org/players/4/19/193080.png</td>\n",
       "      <td>Spain</td>\n",
       "      <td>https://cdn.sofifa.org/flags/45.png</td>\n",
       "      <td>91</td>\n",
       "      <td>93</td>\n",
       "      <td>Manchester United</td>\n",
       "      <td>https://cdn.sofifa.org/teams/2/light/11.png</td>\n",
       "      <td>€72M</td>\n",
       "      <td>€260K</td>\n",
       "      <td>1471</td>\n",
       "      <td>Right</td>\n",
       "      <td>4.00</td>\n",
       "      <td>3.00</td>\n",
       "      <td>1.00</td>\n",
       "      <td>Medium/ Medium</td>\n",
       "      <td>Lean</td>\n",
       "      <td>Yes</td>\n",
       "      <td>GK</td>\n",
       "      <td>1.00</td>\n",
       "      <td>Jul 1, 2011</td>\n",
       "      <td>NaN</td>\n",
       "      <td>2020</td>\n",
       "      <td>6'4</td>\n",
       "      <td>168lbs</td>\n",
       "      <td>NaN</td>\n",
       "      <td>NaN</td>\n",
       "      <td>NaN</td>\n",
       "      <td>NaN</td>\n",
       "      <td>NaN</td>\n",
       "      <td>NaN</td>\n",
       "      <td>NaN</td>\n",
       "      <td>NaN</td>\n",
       "      <td>NaN</td>\n",
       "      <td>NaN</td>\n",
       "      <td>NaN</td>\n",
       "      <td>NaN</td>\n",
       "      <td>NaN</td>\n",
       "      <td>NaN</td>\n",
       "      <td>NaN</td>\n",
       "      <td>NaN</td>\n",
       "      <td>NaN</td>\n",
       "      <td>NaN</td>\n",
       "      <td>NaN</td>\n",
       "      <td>NaN</td>\n",
       "      <td>NaN</td>\n",
       "      <td>NaN</td>\n",
       "      <td>NaN</td>\n",
       "      <td>NaN</td>\n",
       "      <td>NaN</td>\n",
       "      <td>NaN</td>\n",
       "      <td>17.00</td>\n",
       "      <td>13.00</td>\n",
       "      <td>21.00</td>\n",
       "      <td>50.00</td>\n",
       "      <td>13.00</td>\n",
       "      <td>18.00</td>\n",
       "      <td>21.00</td>\n",
       "      <td>19.00</td>\n",
       "      <td>51.00</td>\n",
       "      <td>42.00</td>\n",
       "      <td>57.00</td>\n",
       "      <td>58.00</td>\n",
       "      <td>60.00</td>\n",
       "      <td>90.00</td>\n",
       "      <td>43.00</td>\n",
       "      <td>31.00</td>\n",
       "      <td>67.00</td>\n",
       "      <td>43.00</td>\n",
       "      <td>64.00</td>\n",
       "      <td>12.00</td>\n",
       "      <td>38.00</td>\n",
       "      <td>30.00</td>\n",
       "      <td>12.00</td>\n",
       "      <td>68.00</td>\n",
       "      <td>40.00</td>\n",
       "      <td>68.00</td>\n",
       "      <td>15.00</td>\n",
       "      <td>21.00</td>\n",
       "      <td>13.00</td>\n",
       "      <td>90.00</td>\n",
       "      <td>85.00</td>\n",
       "      <td>87.00</td>\n",
       "      <td>88.00</td>\n",
       "      <td>94.00</td>\n",
       "      <td>€138.6M</td>\n",
       "    </tr>\n",
       "    <tr>\n",
       "      <th>4</th>\n",
       "      <td>4</td>\n",
       "      <td>192985</td>\n",
       "      <td>K. De Bruyne</td>\n",
       "      <td>27</td>\n",
       "      <td>https://cdn.sofifa.org/players/4/19/192985.png</td>\n",
       "      <td>Belgium</td>\n",
       "      <td>https://cdn.sofifa.org/flags/7.png</td>\n",
       "      <td>91</td>\n",
       "      <td>92</td>\n",
       "      <td>Manchester City</td>\n",
       "      <td>https://cdn.sofifa.org/teams/2/light/10.png</td>\n",
       "      <td>€102M</td>\n",
       "      <td>€355K</td>\n",
       "      <td>2281</td>\n",
       "      <td>Right</td>\n",
       "      <td>4.00</td>\n",
       "      <td>5.00</td>\n",
       "      <td>4.00</td>\n",
       "      <td>High/ High</td>\n",
       "      <td>Normal</td>\n",
       "      <td>Yes</td>\n",
       "      <td>RCM</td>\n",
       "      <td>7.00</td>\n",
       "      <td>Aug 30, 2015</td>\n",
       "      <td>NaN</td>\n",
       "      <td>2023</td>\n",
       "      <td>5'11</td>\n",
       "      <td>154lbs</td>\n",
       "      <td>82+3</td>\n",
       "      <td>82+3</td>\n",
       "      <td>82+3</td>\n",
       "      <td>87+3</td>\n",
       "      <td>87+3</td>\n",
       "      <td>87+3</td>\n",
       "      <td>87+3</td>\n",
       "      <td>87+3</td>\n",
       "      <td>88+3</td>\n",
       "      <td>88+3</td>\n",
       "      <td>88+3</td>\n",
       "      <td>88+3</td>\n",
       "      <td>87+3</td>\n",
       "      <td>87+3</td>\n",
       "      <td>87+3</td>\n",
       "      <td>88+3</td>\n",
       "      <td>77+3</td>\n",
       "      <td>77+3</td>\n",
       "      <td>77+3</td>\n",
       "      <td>77+3</td>\n",
       "      <td>77+3</td>\n",
       "      <td>73+3</td>\n",
       "      <td>66+3</td>\n",
       "      <td>66+3</td>\n",
       "      <td>66+3</td>\n",
       "      <td>73+3</td>\n",
       "      <td>93.00</td>\n",
       "      <td>82.00</td>\n",
       "      <td>55.00</td>\n",
       "      <td>92.00</td>\n",
       "      <td>82.00</td>\n",
       "      <td>86.00</td>\n",
       "      <td>85.00</td>\n",
       "      <td>83.00</td>\n",
       "      <td>91.00</td>\n",
       "      <td>91.00</td>\n",
       "      <td>78.00</td>\n",
       "      <td>76.00</td>\n",
       "      <td>79.00</td>\n",
       "      <td>91.00</td>\n",
       "      <td>77.00</td>\n",
       "      <td>91.00</td>\n",
       "      <td>63.00</td>\n",
       "      <td>90.00</td>\n",
       "      <td>75.00</td>\n",
       "      <td>91.00</td>\n",
       "      <td>76.00</td>\n",
       "      <td>61.00</td>\n",
       "      <td>87.00</td>\n",
       "      <td>94.00</td>\n",
       "      <td>79.00</td>\n",
       "      <td>88.00</td>\n",
       "      <td>68.00</td>\n",
       "      <td>58.00</td>\n",
       "      <td>51.00</td>\n",
       "      <td>15.00</td>\n",
       "      <td>13.00</td>\n",
       "      <td>5.00</td>\n",
       "      <td>10.00</td>\n",
       "      <td>13.00</td>\n",
       "      <td>€196.4M</td>\n",
       "    </tr>\n",
       "  </tbody>\n",
       "</table>\n",
       "<p>5 rows × 89 columns</p>\n",
       "</div>"
      ],
      "text/plain": [
       "   Unnamed: 0      ID               Name  Age  \\\n",
       "0           0  158023           L. Messi   31   \n",
       "1           1   20801  Cristiano Ronaldo   33   \n",
       "2           2  190871          Neymar Jr   26   \n",
       "3           3  193080             De Gea   27   \n",
       "4           4  192985       K. De Bruyne   27   \n",
       "\n",
       "                                            Photo Nationality  \\\n",
       "0  https://cdn.sofifa.org/players/4/19/158023.png   Argentina   \n",
       "1   https://cdn.sofifa.org/players/4/19/20801.png    Portugal   \n",
       "2  https://cdn.sofifa.org/players/4/19/190871.png      Brazil   \n",
       "3  https://cdn.sofifa.org/players/4/19/193080.png       Spain   \n",
       "4  https://cdn.sofifa.org/players/4/19/192985.png     Belgium   \n",
       "\n",
       "                                  Flag  Overall  Potential  \\\n",
       "0  https://cdn.sofifa.org/flags/52.png       94         94   \n",
       "1  https://cdn.sofifa.org/flags/38.png       94         94   \n",
       "2  https://cdn.sofifa.org/flags/54.png       92         93   \n",
       "3  https://cdn.sofifa.org/flags/45.png       91         93   \n",
       "4   https://cdn.sofifa.org/flags/7.png       91         92   \n",
       "\n",
       "                  Club                                     Club Logo    Value  \\\n",
       "0         FC Barcelona  https://cdn.sofifa.org/teams/2/light/241.png  €110.5M   \n",
       "1             Juventus   https://cdn.sofifa.org/teams/2/light/45.png     €77M   \n",
       "2  Paris Saint-Germain   https://cdn.sofifa.org/teams/2/light/73.png  €118.5M   \n",
       "3    Manchester United   https://cdn.sofifa.org/teams/2/light/11.png     €72M   \n",
       "4      Manchester City   https://cdn.sofifa.org/teams/2/light/10.png    €102M   \n",
       "\n",
       "    Wage  Special Preferred Foot  International Reputation  Weak Foot  \\\n",
       "0  €565K     2202           Left                      5.00       4.00   \n",
       "1  €405K     2228          Right                      5.00       4.00   \n",
       "2  €290K     2143          Right                      5.00       5.00   \n",
       "3  €260K     1471          Right                      4.00       3.00   \n",
       "4  €355K     2281          Right                      4.00       5.00   \n",
       "\n",
       "   Skill Moves       Work Rate   Body Type Real Face Position  Jersey Number  \\\n",
       "0         4.00  Medium/ Medium       Messi       Yes       RF          10.00   \n",
       "1         5.00       High/ Low  C. Ronaldo       Yes       ST           7.00   \n",
       "2         5.00    High/ Medium      Neymar       Yes       LW          10.00   \n",
       "3         1.00  Medium/ Medium        Lean       Yes       GK           1.00   \n",
       "4         4.00      High/ High      Normal       Yes      RCM           7.00   \n",
       "\n",
       "         Joined Loaned From Contract Valid Until Height  Weight    LS    ST  \\\n",
       "0   Jul 1, 2004         NaN                 2021    5'7  159lbs  88+2  88+2   \n",
       "1  Jul 10, 2018         NaN                 2022    6'2  183lbs  91+3  91+3   \n",
       "2   Aug 3, 2017         NaN                 2022    5'9  150lbs  84+3  84+3   \n",
       "3   Jul 1, 2011         NaN                 2020    6'4  168lbs   NaN   NaN   \n",
       "4  Aug 30, 2015         NaN                 2023   5'11  154lbs  82+3  82+3   \n",
       "\n",
       "     RS    LW    LF    CF    RF    RW   LAM   CAM   RAM    LM   LCM    CM  \\\n",
       "0  88+2  92+2  93+2  93+2  93+2  92+2  93+2  93+2  93+2  91+2  84+2  84+2   \n",
       "1  91+3  89+3  90+3  90+3  90+3  89+3  88+3  88+3  88+3  88+3  81+3  81+3   \n",
       "2  84+3  89+3  89+3  89+3  89+3  89+3  89+3  89+3  89+3  88+3  81+3  81+3   \n",
       "3   NaN   NaN   NaN   NaN   NaN   NaN   NaN   NaN   NaN   NaN   NaN   NaN   \n",
       "4  82+3  87+3  87+3  87+3  87+3  87+3  88+3  88+3  88+3  88+3  87+3  87+3   \n",
       "\n",
       "    RCM    RM   LWB   LDM   CDM   RDM   RWB    LB   LCB    CB   RCB    RB  \\\n",
       "0  84+2  91+2  64+2  61+2  61+2  61+2  64+2  59+2  47+2  47+2  47+2  59+2   \n",
       "1  81+3  88+3  65+3  61+3  61+3  61+3  65+3  61+3  53+3  53+3  53+3  61+3   \n",
       "2  81+3  88+3  65+3  60+3  60+3  60+3  65+3  60+3  47+3  47+3  47+3  60+3   \n",
       "3   NaN   NaN   NaN   NaN   NaN   NaN   NaN   NaN   NaN   NaN   NaN   NaN   \n",
       "4  87+3  88+3  77+3  77+3  77+3  77+3  77+3  73+3  66+3  66+3  66+3  73+3   \n",
       "\n",
       "   Crossing  Finishing  HeadingAccuracy  ShortPassing  Volleys  Dribbling  \\\n",
       "0     84.00      95.00            70.00         90.00    86.00      97.00   \n",
       "1     84.00      94.00            89.00         81.00    87.00      88.00   \n",
       "2     79.00      87.00            62.00         84.00    84.00      96.00   \n",
       "3     17.00      13.00            21.00         50.00    13.00      18.00   \n",
       "4     93.00      82.00            55.00         92.00    82.00      86.00   \n",
       "\n",
       "   Curve  FKAccuracy  LongPassing  BallControl  Acceleration  SprintSpeed  \\\n",
       "0  93.00       94.00        87.00        96.00         91.00        86.00   \n",
       "1  81.00       76.00        77.00        94.00         89.00        91.00   \n",
       "2  88.00       87.00        78.00        95.00         94.00        90.00   \n",
       "3  21.00       19.00        51.00        42.00         57.00        58.00   \n",
       "4  85.00       83.00        91.00        91.00         78.00        76.00   \n",
       "\n",
       "   Agility  Reactions  Balance  ShotPower  Jumping  Stamina  Strength  \\\n",
       "0    91.00      95.00    95.00      85.00    68.00    72.00     59.00   \n",
       "1    87.00      96.00    70.00      95.00    95.00    88.00     79.00   \n",
       "2    96.00      94.00    84.00      80.00    61.00    81.00     49.00   \n",
       "3    60.00      90.00    43.00      31.00    67.00    43.00     64.00   \n",
       "4    79.00      91.00    77.00      91.00    63.00    90.00     75.00   \n",
       "\n",
       "   LongShots  Aggression  Interceptions  Positioning  Vision  Penalties  \\\n",
       "0      94.00       48.00          22.00        94.00   94.00      75.00   \n",
       "1      93.00       63.00          29.00        95.00   82.00      85.00   \n",
       "2      82.00       56.00          36.00        89.00   87.00      81.00   \n",
       "3      12.00       38.00          30.00        12.00   68.00      40.00   \n",
       "4      91.00       76.00          61.00        87.00   94.00      79.00   \n",
       "\n",
       "   Composure  Marking  StandingTackle  SlidingTackle  GKDiving  GKHandling  \\\n",
       "0      96.00    33.00           28.00          26.00      6.00       11.00   \n",
       "1      95.00    28.00           31.00          23.00      7.00       11.00   \n",
       "2      94.00    27.00           24.00          33.00      9.00        9.00   \n",
       "3      68.00    15.00           21.00          13.00     90.00       85.00   \n",
       "4      88.00    68.00           58.00          51.00     15.00       13.00   \n",
       "\n",
       "   GKKicking  GKPositioning  GKReflexes Release Clause  \n",
       "0      15.00          14.00        8.00        €226.5M  \n",
       "1      15.00          14.00       11.00        €127.1M  \n",
       "2      15.00          15.00       11.00        €228.1M  \n",
       "3      87.00          88.00       94.00        €138.6M  \n",
       "4       5.00          10.00       13.00        €196.4M  \n",
       "\n",
       "[5 rows x 89 columns]"
      ]
     },
     "execution_count": 3,
     "metadata": {},
     "output_type": "execute_result"
    }
   ],
   "source": [
    "# 1. Carregue o arquivo FIFA.csv (está na área de Dataframes do curso);\n",
    "\n",
    "df_fifa = pd.read_csv('https://raw.githubusercontent.com/MathMachado/DSWP/master/Dataframes/FIFA.csv')\n",
    "df_fifa.head()"
   ]
  },
  {
   "cell_type": "code",
   "execution_count": 4,
   "metadata": {},
   "outputs": [
    {
     "data": {
      "text/plain": [
       "Index(['Unnamed: 0', 'ID', 'Name', 'Age', 'Photo', 'Nationality', 'Flag',\n",
       "       'Overall', 'Potential', 'Club', 'Club Logo', 'Value', 'Wage', 'Special',\n",
       "       'Preferred Foot', 'International Reputation', 'Weak Foot',\n",
       "       'Skill Moves', 'Work Rate', 'Body Type', 'Real Face', 'Position',\n",
       "       'Jersey Number', 'Joined', 'Loaned From', 'Contract Valid Until',\n",
       "       'Height', 'Weight', 'LS', 'ST', 'RS', 'LW', 'LF', 'CF', 'RF', 'RW',\n",
       "       'LAM', 'CAM', 'RAM', 'LM', 'LCM', 'CM', 'RCM', 'RM', 'LWB', 'LDM',\n",
       "       'CDM', 'RDM', 'RWB', 'LB', 'LCB', 'CB', 'RCB', 'RB', 'Crossing',\n",
       "       'Finishing', 'HeadingAccuracy', 'ShortPassing', 'Volleys', 'Dribbling',\n",
       "       'Curve', 'FKAccuracy', 'LongPassing', 'BallControl', 'Acceleration',\n",
       "       'SprintSpeed', 'Agility', 'Reactions', 'Balance', 'ShotPower',\n",
       "       'Jumping', 'Stamina', 'Strength', 'LongShots', 'Aggression',\n",
       "       'Interceptions', 'Positioning', 'Vision', 'Penalties', 'Composure',\n",
       "       'Marking', 'StandingTackle', 'SlidingTackle', 'GKDiving', 'GKHandling',\n",
       "       'GKKicking', 'GKPositioning', 'GKReflexes', 'Release Clause'],\n",
       "      dtype='object')"
      ]
     },
     "execution_count": 4,
     "metadata": {},
     "output_type": "execute_result"
    }
   ],
   "source": [
    "# 2. Que colunas podem previamente ser eliminadas da análise? Porque identificar o que pode ser eliminado é importante?\n",
    "# Print columns to evaluate which the ones to drop\n",
    "df_fifa.columns"
   ]
  },
  {
   "cell_type": "code",
   "execution_count": 5,
   "metadata": {},
   "outputs": [
    {
     "data": {
      "text/html": [
       "<div>\n",
       "<style scoped>\n",
       "    .dataframe tbody tr th:only-of-type {\n",
       "        vertical-align: middle;\n",
       "    }\n",
       "\n",
       "    .dataframe tbody tr th {\n",
       "        vertical-align: top;\n",
       "    }\n",
       "\n",
       "    .dataframe thead th {\n",
       "        text-align: right;\n",
       "    }\n",
       "</style>\n",
       "<table border=\"1\" class=\"dataframe\">\n",
       "  <thead>\n",
       "    <tr style=\"text-align: right;\">\n",
       "      <th></th>\n",
       "      <th>Real Face</th>\n",
       "      <th>Release Clause</th>\n",
       "      <th>Work Rate</th>\n",
       "      <th>LS</th>\n",
       "      <th>ST</th>\n",
       "      <th>RS</th>\n",
       "      <th>Height</th>\n",
       "      <th>Weight</th>\n",
       "    </tr>\n",
       "  </thead>\n",
       "  <tbody>\n",
       "    <tr>\n",
       "      <th>0</th>\n",
       "      <td>Yes</td>\n",
       "      <td>€226.5M</td>\n",
       "      <td>Medium/ Medium</td>\n",
       "      <td>88+2</td>\n",
       "      <td>88+2</td>\n",
       "      <td>88+2</td>\n",
       "      <td>5'7</td>\n",
       "      <td>159lbs</td>\n",
       "    </tr>\n",
       "    <tr>\n",
       "      <th>1</th>\n",
       "      <td>Yes</td>\n",
       "      <td>€127.1M</td>\n",
       "      <td>High/ Low</td>\n",
       "      <td>91+3</td>\n",
       "      <td>91+3</td>\n",
       "      <td>91+3</td>\n",
       "      <td>6'2</td>\n",
       "      <td>183lbs</td>\n",
       "    </tr>\n",
       "    <tr>\n",
       "      <th>2</th>\n",
       "      <td>Yes</td>\n",
       "      <td>€228.1M</td>\n",
       "      <td>High/ Medium</td>\n",
       "      <td>84+3</td>\n",
       "      <td>84+3</td>\n",
       "      <td>84+3</td>\n",
       "      <td>5'9</td>\n",
       "      <td>150lbs</td>\n",
       "    </tr>\n",
       "  </tbody>\n",
       "</table>\n",
       "<p>3 rows × 8 columns</p>\n",
       "</div>"
      ],
      "text/plain": [
       "  Real Face Release Clause       Work Rate    LS    ST    RS Height  Weight\n",
       "0       Yes        €226.5M  Medium/ Medium  88+2  88+2  88+2    5'7  159lbs\n",
       "1       Yes        €127.1M       High/ Low  91+3  91+3  91+3    6'2  183lbs\n",
       "2       Yes        €228.1M    High/ Medium  84+3  84+3  84+3    5'9  150lbs\n",
       "\n",
       "[3 rows x 8 columns]"
      ]
     },
     "execution_count": 5,
     "metadata": {},
     "output_type": "execute_result"
    }
   ],
   "source": [
    "# check some columns values\n",
    "df_fifa[['Real Face', 'Release Clause', 'Work Rate', 'LS', 'ST', 'RS', 'Height', 'Weight']].head(3)"
   ]
  },
  {
   "cell_type": "code",
   "execution_count": 6,
   "metadata": {},
   "outputs": [
    {
     "data": {
      "text/html": [
       "<div>\n",
       "<style scoped>\n",
       "    .dataframe tbody tr th:only-of-type {\n",
       "        vertical-align: middle;\n",
       "    }\n",
       "\n",
       "    .dataframe tbody tr th {\n",
       "        vertical-align: top;\n",
       "    }\n",
       "\n",
       "    .dataframe thead th {\n",
       "        text-align: right;\n",
       "    }\n",
       "</style>\n",
       "<table border=\"1\" class=\"dataframe\">\n",
       "  <thead>\n",
       "    <tr style=\"text-align: right;\">\n",
       "      <th></th>\n",
       "      <th>Name</th>\n",
       "      <th>Age</th>\n",
       "      <th>Nationality</th>\n",
       "      <th>Overall</th>\n",
       "      <th>Potential</th>\n",
       "      <th>Club</th>\n",
       "      <th>Value</th>\n",
       "      <th>Wage</th>\n",
       "      <th>Special</th>\n",
       "      <th>Preferred Foot</th>\n",
       "      <th>International Reputation</th>\n",
       "      <th>Weak Foot</th>\n",
       "      <th>Skill Moves</th>\n",
       "      <th>Work Rate</th>\n",
       "      <th>Body Type</th>\n",
       "      <th>Position</th>\n",
       "      <th>Jersey Number</th>\n",
       "      <th>Joined</th>\n",
       "      <th>Loaned From</th>\n",
       "      <th>Contract Valid Until</th>\n",
       "      <th>Height</th>\n",
       "      <th>Weight</th>\n",
       "      <th>LS</th>\n",
       "      <th>ST</th>\n",
       "      <th>RS</th>\n",
       "      <th>LW</th>\n",
       "      <th>LF</th>\n",
       "      <th>CF</th>\n",
       "      <th>RF</th>\n",
       "      <th>RW</th>\n",
       "      <th>LAM</th>\n",
       "      <th>CAM</th>\n",
       "      <th>RAM</th>\n",
       "      <th>LM</th>\n",
       "      <th>LCM</th>\n",
       "      <th>CM</th>\n",
       "      <th>RCM</th>\n",
       "      <th>RM</th>\n",
       "      <th>LWB</th>\n",
       "      <th>LDM</th>\n",
       "      <th>CDM</th>\n",
       "      <th>RDM</th>\n",
       "      <th>RWB</th>\n",
       "      <th>LB</th>\n",
       "      <th>LCB</th>\n",
       "      <th>CB</th>\n",
       "      <th>RCB</th>\n",
       "      <th>RB</th>\n",
       "      <th>Crossing</th>\n",
       "      <th>Finishing</th>\n",
       "      <th>HeadingAccuracy</th>\n",
       "      <th>ShortPassing</th>\n",
       "      <th>Volleys</th>\n",
       "      <th>Dribbling</th>\n",
       "      <th>Curve</th>\n",
       "      <th>FKAccuracy</th>\n",
       "      <th>LongPassing</th>\n",
       "      <th>BallControl</th>\n",
       "      <th>Acceleration</th>\n",
       "      <th>SprintSpeed</th>\n",
       "      <th>Agility</th>\n",
       "      <th>Reactions</th>\n",
       "      <th>Balance</th>\n",
       "      <th>ShotPower</th>\n",
       "      <th>Jumping</th>\n",
       "      <th>Stamina</th>\n",
       "      <th>Strength</th>\n",
       "      <th>LongShots</th>\n",
       "      <th>Aggression</th>\n",
       "      <th>Interceptions</th>\n",
       "      <th>Positioning</th>\n",
       "      <th>Vision</th>\n",
       "      <th>Penalties</th>\n",
       "      <th>Composure</th>\n",
       "      <th>Marking</th>\n",
       "      <th>StandingTackle</th>\n",
       "      <th>SlidingTackle</th>\n",
       "      <th>GKDiving</th>\n",
       "      <th>GKHandling</th>\n",
       "      <th>GKKicking</th>\n",
       "      <th>GKPositioning</th>\n",
       "      <th>GKReflexes</th>\n",
       "      <th>Release Clause</th>\n",
       "    </tr>\n",
       "    <tr>\n",
       "      <th>ID</th>\n",
       "      <th></th>\n",
       "      <th></th>\n",
       "      <th></th>\n",
       "      <th></th>\n",
       "      <th></th>\n",
       "      <th></th>\n",
       "      <th></th>\n",
       "      <th></th>\n",
       "      <th></th>\n",
       "      <th></th>\n",
       "      <th></th>\n",
       "      <th></th>\n",
       "      <th></th>\n",
       "      <th></th>\n",
       "      <th></th>\n",
       "      <th></th>\n",
       "      <th></th>\n",
       "      <th></th>\n",
       "      <th></th>\n",
       "      <th></th>\n",
       "      <th></th>\n",
       "      <th></th>\n",
       "      <th></th>\n",
       "      <th></th>\n",
       "      <th></th>\n",
       "      <th></th>\n",
       "      <th></th>\n",
       "      <th></th>\n",
       "      <th></th>\n",
       "      <th></th>\n",
       "      <th></th>\n",
       "      <th></th>\n",
       "      <th></th>\n",
       "      <th></th>\n",
       "      <th></th>\n",
       "      <th></th>\n",
       "      <th></th>\n",
       "      <th></th>\n",
       "      <th></th>\n",
       "      <th></th>\n",
       "      <th></th>\n",
       "      <th></th>\n",
       "      <th></th>\n",
       "      <th></th>\n",
       "      <th></th>\n",
       "      <th></th>\n",
       "      <th></th>\n",
       "      <th></th>\n",
       "      <th></th>\n",
       "      <th></th>\n",
       "      <th></th>\n",
       "      <th></th>\n",
       "      <th></th>\n",
       "      <th></th>\n",
       "      <th></th>\n",
       "      <th></th>\n",
       "      <th></th>\n",
       "      <th></th>\n",
       "      <th></th>\n",
       "      <th></th>\n",
       "      <th></th>\n",
       "      <th></th>\n",
       "      <th></th>\n",
       "      <th></th>\n",
       "      <th></th>\n",
       "      <th></th>\n",
       "      <th></th>\n",
       "      <th></th>\n",
       "      <th></th>\n",
       "      <th></th>\n",
       "      <th></th>\n",
       "      <th></th>\n",
       "      <th></th>\n",
       "      <th></th>\n",
       "      <th></th>\n",
       "      <th></th>\n",
       "      <th></th>\n",
       "      <th></th>\n",
       "      <th></th>\n",
       "      <th></th>\n",
       "      <th></th>\n",
       "      <th></th>\n",
       "      <th></th>\n",
       "    </tr>\n",
       "  </thead>\n",
       "  <tbody>\n",
       "    <tr>\n",
       "      <th>238813</th>\n",
       "      <td>J. Lundstram</td>\n",
       "      <td>19</td>\n",
       "      <td>England</td>\n",
       "      <td>47</td>\n",
       "      <td>65</td>\n",
       "      <td>Crewe Alexandra</td>\n",
       "      <td>€60K</td>\n",
       "      <td>€1K</td>\n",
       "      <td>1307</td>\n",
       "      <td>Right</td>\n",
       "      <td>1.00</td>\n",
       "      <td>2.00</td>\n",
       "      <td>2.00</td>\n",
       "      <td>Medium/ Medium</td>\n",
       "      <td>Lean</td>\n",
       "      <td>CM</td>\n",
       "      <td>22.00</td>\n",
       "      <td>May 3, 2017</td>\n",
       "      <td>NaN</td>\n",
       "      <td>2019</td>\n",
       "      <td>5'9</td>\n",
       "      <td>134lbs</td>\n",
       "      <td>42+2</td>\n",
       "      <td>42+2</td>\n",
       "      <td>42+2</td>\n",
       "      <td>44+2</td>\n",
       "      <td>44+2</td>\n",
       "      <td>44+2</td>\n",
       "      <td>44+2</td>\n",
       "      <td>44+2</td>\n",
       "      <td>45+2</td>\n",
       "      <td>45+2</td>\n",
       "      <td>45+2</td>\n",
       "      <td>44+2</td>\n",
       "      <td>45+2</td>\n",
       "      <td>45+2</td>\n",
       "      <td>45+2</td>\n",
       "      <td>44+2</td>\n",
       "      <td>44+2</td>\n",
       "      <td>45+2</td>\n",
       "      <td>45+2</td>\n",
       "      <td>45+2</td>\n",
       "      <td>44+2</td>\n",
       "      <td>45+2</td>\n",
       "      <td>45+2</td>\n",
       "      <td>45+2</td>\n",
       "      <td>45+2</td>\n",
       "      <td>45+2</td>\n",
       "      <td>34.00</td>\n",
       "      <td>38.00</td>\n",
       "      <td>40.00</td>\n",
       "      <td>49.00</td>\n",
       "      <td>25.00</td>\n",
       "      <td>42.00</td>\n",
       "      <td>30.00</td>\n",
       "      <td>34.00</td>\n",
       "      <td>45.00</td>\n",
       "      <td>43.00</td>\n",
       "      <td>54.00</td>\n",
       "      <td>57.00</td>\n",
       "      <td>60.00</td>\n",
       "      <td>49.00</td>\n",
       "      <td>76.00</td>\n",
       "      <td>43.00</td>\n",
       "      <td>55.00</td>\n",
       "      <td>40.00</td>\n",
       "      <td>47.00</td>\n",
       "      <td>38.00</td>\n",
       "      <td>46.00</td>\n",
       "      <td>46.00</td>\n",
       "      <td>39.00</td>\n",
       "      <td>52.00</td>\n",
       "      <td>43.00</td>\n",
       "      <td>45.00</td>\n",
       "      <td>40.00</td>\n",
       "      <td>48.00</td>\n",
       "      <td>47.00</td>\n",
       "      <td>10.00</td>\n",
       "      <td>13.00</td>\n",
       "      <td>7.00</td>\n",
       "      <td>8.00</td>\n",
       "      <td>9.00</td>\n",
       "      <td>€143K</td>\n",
       "    </tr>\n",
       "    <tr>\n",
       "      <th>243165</th>\n",
       "      <td>N. Christoffersson</td>\n",
       "      <td>19</td>\n",
       "      <td>Sweden</td>\n",
       "      <td>47</td>\n",
       "      <td>63</td>\n",
       "      <td>Trelleborgs FF</td>\n",
       "      <td>€60K</td>\n",
       "      <td>€1K</td>\n",
       "      <td>1098</td>\n",
       "      <td>Right</td>\n",
       "      <td>1.00</td>\n",
       "      <td>2.00</td>\n",
       "      <td>2.00</td>\n",
       "      <td>Medium/ Medium</td>\n",
       "      <td>Normal</td>\n",
       "      <td>ST</td>\n",
       "      <td>21.00</td>\n",
       "      <td>Mar 19, 2018</td>\n",
       "      <td>NaN</td>\n",
       "      <td>2020</td>\n",
       "      <td>6'3</td>\n",
       "      <td>170lbs</td>\n",
       "      <td>45+2</td>\n",
       "      <td>45+2</td>\n",
       "      <td>45+2</td>\n",
       "      <td>39+2</td>\n",
       "      <td>42+2</td>\n",
       "      <td>42+2</td>\n",
       "      <td>42+2</td>\n",
       "      <td>39+2</td>\n",
       "      <td>40+2</td>\n",
       "      <td>40+2</td>\n",
       "      <td>40+2</td>\n",
       "      <td>38+2</td>\n",
       "      <td>35+2</td>\n",
       "      <td>35+2</td>\n",
       "      <td>35+2</td>\n",
       "      <td>38+2</td>\n",
       "      <td>30+2</td>\n",
       "      <td>31+2</td>\n",
       "      <td>31+2</td>\n",
       "      <td>31+2</td>\n",
       "      <td>30+2</td>\n",
       "      <td>29+2</td>\n",
       "      <td>32+2</td>\n",
       "      <td>32+2</td>\n",
       "      <td>32+2</td>\n",
       "      <td>29+2</td>\n",
       "      <td>23.00</td>\n",
       "      <td>52.00</td>\n",
       "      <td>52.00</td>\n",
       "      <td>43.00</td>\n",
       "      <td>36.00</td>\n",
       "      <td>39.00</td>\n",
       "      <td>32.00</td>\n",
       "      <td>20.00</td>\n",
       "      <td>25.00</td>\n",
       "      <td>40.00</td>\n",
       "      <td>41.00</td>\n",
       "      <td>39.00</td>\n",
       "      <td>38.00</td>\n",
       "      <td>40.00</td>\n",
       "      <td>52.00</td>\n",
       "      <td>41.00</td>\n",
       "      <td>47.00</td>\n",
       "      <td>43.00</td>\n",
       "      <td>67.00</td>\n",
       "      <td>42.00</td>\n",
       "      <td>47.00</td>\n",
       "      <td>16.00</td>\n",
       "      <td>46.00</td>\n",
       "      <td>33.00</td>\n",
       "      <td>43.00</td>\n",
       "      <td>42.00</td>\n",
       "      <td>22.00</td>\n",
       "      <td>15.00</td>\n",
       "      <td>19.00</td>\n",
       "      <td>10.00</td>\n",
       "      <td>9.00</td>\n",
       "      <td>9.00</td>\n",
       "      <td>5.00</td>\n",
       "      <td>12.00</td>\n",
       "      <td>€113K</td>\n",
       "    </tr>\n",
       "    <tr>\n",
       "      <th>241638</th>\n",
       "      <td>B. Worman</td>\n",
       "      <td>16</td>\n",
       "      <td>England</td>\n",
       "      <td>47</td>\n",
       "      <td>67</td>\n",
       "      <td>Cambridge United</td>\n",
       "      <td>€60K</td>\n",
       "      <td>€1K</td>\n",
       "      <td>1189</td>\n",
       "      <td>Right</td>\n",
       "      <td>1.00</td>\n",
       "      <td>3.00</td>\n",
       "      <td>2.00</td>\n",
       "      <td>Medium/ Medium</td>\n",
       "      <td>Normal</td>\n",
       "      <td>ST</td>\n",
       "      <td>33.00</td>\n",
       "      <td>Jul 1, 2017</td>\n",
       "      <td>NaN</td>\n",
       "      <td>2021</td>\n",
       "      <td>5'8</td>\n",
       "      <td>148lbs</td>\n",
       "      <td>45+2</td>\n",
       "      <td>45+2</td>\n",
       "      <td>45+2</td>\n",
       "      <td>45+2</td>\n",
       "      <td>46+2</td>\n",
       "      <td>46+2</td>\n",
       "      <td>46+2</td>\n",
       "      <td>45+2</td>\n",
       "      <td>44+2</td>\n",
       "      <td>44+2</td>\n",
       "      <td>44+2</td>\n",
       "      <td>44+2</td>\n",
       "      <td>38+2</td>\n",
       "      <td>38+2</td>\n",
       "      <td>38+2</td>\n",
       "      <td>44+2</td>\n",
       "      <td>34+2</td>\n",
       "      <td>30+2</td>\n",
       "      <td>30+2</td>\n",
       "      <td>30+2</td>\n",
       "      <td>34+2</td>\n",
       "      <td>33+2</td>\n",
       "      <td>28+2</td>\n",
       "      <td>28+2</td>\n",
       "      <td>28+2</td>\n",
       "      <td>33+2</td>\n",
       "      <td>25.00</td>\n",
       "      <td>40.00</td>\n",
       "      <td>46.00</td>\n",
       "      <td>38.00</td>\n",
       "      <td>38.00</td>\n",
       "      <td>45.00</td>\n",
       "      <td>38.00</td>\n",
       "      <td>27.00</td>\n",
       "      <td>28.00</td>\n",
       "      <td>44.00</td>\n",
       "      <td>70.00</td>\n",
       "      <td>69.00</td>\n",
       "      <td>50.00</td>\n",
       "      <td>47.00</td>\n",
       "      <td>58.00</td>\n",
       "      <td>45.00</td>\n",
       "      <td>60.00</td>\n",
       "      <td>55.00</td>\n",
       "      <td>32.00</td>\n",
       "      <td>45.00</td>\n",
       "      <td>32.00</td>\n",
       "      <td>15.00</td>\n",
       "      <td>48.00</td>\n",
       "      <td>43.00</td>\n",
       "      <td>55.00</td>\n",
       "      <td>41.00</td>\n",
       "      <td>32.00</td>\n",
       "      <td>13.00</td>\n",
       "      <td>11.00</td>\n",
       "      <td>6.00</td>\n",
       "      <td>5.00</td>\n",
       "      <td>10.00</td>\n",
       "      <td>6.00</td>\n",
       "      <td>13.00</td>\n",
       "      <td>€165K</td>\n",
       "    </tr>\n",
       "    <tr>\n",
       "      <th>246268</th>\n",
       "      <td>D. Walker-Rice</td>\n",
       "      <td>17</td>\n",
       "      <td>England</td>\n",
       "      <td>47</td>\n",
       "      <td>66</td>\n",
       "      <td>Tranmere Rovers</td>\n",
       "      <td>€60K</td>\n",
       "      <td>€1K</td>\n",
       "      <td>1228</td>\n",
       "      <td>Right</td>\n",
       "      <td>1.00</td>\n",
       "      <td>3.00</td>\n",
       "      <td>2.00</td>\n",
       "      <td>Medium/ Medium</td>\n",
       "      <td>Lean</td>\n",
       "      <td>RW</td>\n",
       "      <td>34.00</td>\n",
       "      <td>Apr 24, 2018</td>\n",
       "      <td>NaN</td>\n",
       "      <td>2019</td>\n",
       "      <td>5'10</td>\n",
       "      <td>154lbs</td>\n",
       "      <td>47+2</td>\n",
       "      <td>47+2</td>\n",
       "      <td>47+2</td>\n",
       "      <td>47+2</td>\n",
       "      <td>46+2</td>\n",
       "      <td>46+2</td>\n",
       "      <td>46+2</td>\n",
       "      <td>47+2</td>\n",
       "      <td>45+2</td>\n",
       "      <td>45+2</td>\n",
       "      <td>45+2</td>\n",
       "      <td>46+2</td>\n",
       "      <td>39+2</td>\n",
       "      <td>39+2</td>\n",
       "      <td>39+2</td>\n",
       "      <td>46+2</td>\n",
       "      <td>36+2</td>\n",
       "      <td>32+2</td>\n",
       "      <td>32+2</td>\n",
       "      <td>32+2</td>\n",
       "      <td>36+2</td>\n",
       "      <td>35+2</td>\n",
       "      <td>31+2</td>\n",
       "      <td>31+2</td>\n",
       "      <td>31+2</td>\n",
       "      <td>35+2</td>\n",
       "      <td>44.00</td>\n",
       "      <td>50.00</td>\n",
       "      <td>39.00</td>\n",
       "      <td>42.00</td>\n",
       "      <td>40.00</td>\n",
       "      <td>51.00</td>\n",
       "      <td>34.00</td>\n",
       "      <td>32.00</td>\n",
       "      <td>32.00</td>\n",
       "      <td>52.00</td>\n",
       "      <td>61.00</td>\n",
       "      <td>60.00</td>\n",
       "      <td>52.00</td>\n",
       "      <td>21.00</td>\n",
       "      <td>71.00</td>\n",
       "      <td>64.00</td>\n",
       "      <td>42.00</td>\n",
       "      <td>40.00</td>\n",
       "      <td>48.00</td>\n",
       "      <td>34.00</td>\n",
       "      <td>33.00</td>\n",
       "      <td>22.00</td>\n",
       "      <td>44.00</td>\n",
       "      <td>47.00</td>\n",
       "      <td>50.00</td>\n",
       "      <td>46.00</td>\n",
       "      <td>20.00</td>\n",
       "      <td>25.00</td>\n",
       "      <td>27.00</td>\n",
       "      <td>14.00</td>\n",
       "      <td>6.00</td>\n",
       "      <td>14.00</td>\n",
       "      <td>8.00</td>\n",
       "      <td>9.00</td>\n",
       "      <td>€143K</td>\n",
       "    </tr>\n",
       "    <tr>\n",
       "      <th>246269</th>\n",
       "      <td>G. Nugent</td>\n",
       "      <td>16</td>\n",
       "      <td>England</td>\n",
       "      <td>46</td>\n",
       "      <td>66</td>\n",
       "      <td>Tranmere Rovers</td>\n",
       "      <td>€60K</td>\n",
       "      <td>€1K</td>\n",
       "      <td>1321</td>\n",
       "      <td>Right</td>\n",
       "      <td>1.00</td>\n",
       "      <td>3.00</td>\n",
       "      <td>2.00</td>\n",
       "      <td>Medium/ Medium</td>\n",
       "      <td>Lean</td>\n",
       "      <td>CM</td>\n",
       "      <td>33.00</td>\n",
       "      <td>Oct 30, 2018</td>\n",
       "      <td>NaN</td>\n",
       "      <td>2019</td>\n",
       "      <td>5'10</td>\n",
       "      <td>176lbs</td>\n",
       "      <td>43+2</td>\n",
       "      <td>43+2</td>\n",
       "      <td>43+2</td>\n",
       "      <td>45+2</td>\n",
       "      <td>44+2</td>\n",
       "      <td>44+2</td>\n",
       "      <td>44+2</td>\n",
       "      <td>45+2</td>\n",
       "      <td>45+2</td>\n",
       "      <td>45+2</td>\n",
       "      <td>45+2</td>\n",
       "      <td>46+2</td>\n",
       "      <td>45+2</td>\n",
       "      <td>45+2</td>\n",
       "      <td>45+2</td>\n",
       "      <td>46+2</td>\n",
       "      <td>46+2</td>\n",
       "      <td>46+2</td>\n",
       "      <td>46+2</td>\n",
       "      <td>46+2</td>\n",
       "      <td>46+2</td>\n",
       "      <td>46+2</td>\n",
       "      <td>47+2</td>\n",
       "      <td>47+2</td>\n",
       "      <td>47+2</td>\n",
       "      <td>46+2</td>\n",
       "      <td>41.00</td>\n",
       "      <td>34.00</td>\n",
       "      <td>46.00</td>\n",
       "      <td>48.00</td>\n",
       "      <td>30.00</td>\n",
       "      <td>43.00</td>\n",
       "      <td>40.00</td>\n",
       "      <td>34.00</td>\n",
       "      <td>44.00</td>\n",
       "      <td>51.00</td>\n",
       "      <td>57.00</td>\n",
       "      <td>55.00</td>\n",
       "      <td>55.00</td>\n",
       "      <td>51.00</td>\n",
       "      <td>63.00</td>\n",
       "      <td>43.00</td>\n",
       "      <td>62.00</td>\n",
       "      <td>47.00</td>\n",
       "      <td>60.00</td>\n",
       "      <td>32.00</td>\n",
       "      <td>56.00</td>\n",
       "      <td>42.00</td>\n",
       "      <td>34.00</td>\n",
       "      <td>49.00</td>\n",
       "      <td>33.00</td>\n",
       "      <td>43.00</td>\n",
       "      <td>40.00</td>\n",
       "      <td>43.00</td>\n",
       "      <td>50.00</td>\n",
       "      <td>10.00</td>\n",
       "      <td>15.00</td>\n",
       "      <td>9.00</td>\n",
       "      <td>12.00</td>\n",
       "      <td>9.00</td>\n",
       "      <td>€165K</td>\n",
       "    </tr>\n",
       "  </tbody>\n",
       "</table>\n",
       "<p>5 rows × 83 columns</p>\n",
       "</div>"
      ],
      "text/plain": [
       "                      Name  Age Nationality  Overall  Potential  \\\n",
       "ID                                                                \n",
       "238813        J. Lundstram   19     England       47         65   \n",
       "243165  N. Christoffersson   19      Sweden       47         63   \n",
       "241638           B. Worman   16     England       47         67   \n",
       "246268      D. Walker-Rice   17     England       47         66   \n",
       "246269           G. Nugent   16     England       46         66   \n",
       "\n",
       "                    Club Value Wage  Special Preferred Foot  \\\n",
       "ID                                                            \n",
       "238813   Crewe Alexandra  €60K  €1K     1307          Right   \n",
       "243165    Trelleborgs FF  €60K  €1K     1098          Right   \n",
       "241638  Cambridge United  €60K  €1K     1189          Right   \n",
       "246268   Tranmere Rovers  €60K  €1K     1228          Right   \n",
       "246269   Tranmere Rovers  €60K  €1K     1321          Right   \n",
       "\n",
       "        International Reputation  Weak Foot  Skill Moves       Work Rate  \\\n",
       "ID                                                                         \n",
       "238813                      1.00       2.00         2.00  Medium/ Medium   \n",
       "243165                      1.00       2.00         2.00  Medium/ Medium   \n",
       "241638                      1.00       3.00         2.00  Medium/ Medium   \n",
       "246268                      1.00       3.00         2.00  Medium/ Medium   \n",
       "246269                      1.00       3.00         2.00  Medium/ Medium   \n",
       "\n",
       "       Body Type Position  Jersey Number        Joined Loaned From  \\\n",
       "ID                                                                   \n",
       "238813      Lean       CM          22.00   May 3, 2017         NaN   \n",
       "243165    Normal       ST          21.00  Mar 19, 2018         NaN   \n",
       "241638    Normal       ST          33.00   Jul 1, 2017         NaN   \n",
       "246268      Lean       RW          34.00  Apr 24, 2018         NaN   \n",
       "246269      Lean       CM          33.00  Oct 30, 2018         NaN   \n",
       "\n",
       "       Contract Valid Until Height  Weight    LS    ST    RS    LW    LF  \\\n",
       "ID                                                                         \n",
       "238813                 2019    5'9  134lbs  42+2  42+2  42+2  44+2  44+2   \n",
       "243165                 2020    6'3  170lbs  45+2  45+2  45+2  39+2  42+2   \n",
       "241638                 2021    5'8  148lbs  45+2  45+2  45+2  45+2  46+2   \n",
       "246268                 2019   5'10  154lbs  47+2  47+2  47+2  47+2  46+2   \n",
       "246269                 2019   5'10  176lbs  43+2  43+2  43+2  45+2  44+2   \n",
       "\n",
       "          CF    RF    RW   LAM   CAM   RAM    LM   LCM    CM   RCM    RM  \\\n",
       "ID                                                                         \n",
       "238813  44+2  44+2  44+2  45+2  45+2  45+2  44+2  45+2  45+2  45+2  44+2   \n",
       "243165  42+2  42+2  39+2  40+2  40+2  40+2  38+2  35+2  35+2  35+2  38+2   \n",
       "241638  46+2  46+2  45+2  44+2  44+2  44+2  44+2  38+2  38+2  38+2  44+2   \n",
       "246268  46+2  46+2  47+2  45+2  45+2  45+2  46+2  39+2  39+2  39+2  46+2   \n",
       "246269  44+2  44+2  45+2  45+2  45+2  45+2  46+2  45+2  45+2  45+2  46+2   \n",
       "\n",
       "         LWB   LDM   CDM   RDM   RWB    LB   LCB    CB   RCB    RB  Crossing  \\\n",
       "ID                                                                             \n",
       "238813  44+2  45+2  45+2  45+2  44+2  45+2  45+2  45+2  45+2  45+2     34.00   \n",
       "243165  30+2  31+2  31+2  31+2  30+2  29+2  32+2  32+2  32+2  29+2     23.00   \n",
       "241638  34+2  30+2  30+2  30+2  34+2  33+2  28+2  28+2  28+2  33+2     25.00   \n",
       "246268  36+2  32+2  32+2  32+2  36+2  35+2  31+2  31+2  31+2  35+2     44.00   \n",
       "246269  46+2  46+2  46+2  46+2  46+2  46+2  47+2  47+2  47+2  46+2     41.00   \n",
       "\n",
       "        Finishing  HeadingAccuracy  ShortPassing  Volleys  Dribbling  Curve  \\\n",
       "ID                                                                            \n",
       "238813      38.00            40.00         49.00    25.00      42.00  30.00   \n",
       "243165      52.00            52.00         43.00    36.00      39.00  32.00   \n",
       "241638      40.00            46.00         38.00    38.00      45.00  38.00   \n",
       "246268      50.00            39.00         42.00    40.00      51.00  34.00   \n",
       "246269      34.00            46.00         48.00    30.00      43.00  40.00   \n",
       "\n",
       "        FKAccuracy  LongPassing  BallControl  Acceleration  SprintSpeed  \\\n",
       "ID                                                                        \n",
       "238813       34.00        45.00        43.00         54.00        57.00   \n",
       "243165       20.00        25.00        40.00         41.00        39.00   \n",
       "241638       27.00        28.00        44.00         70.00        69.00   \n",
       "246268       32.00        32.00        52.00         61.00        60.00   \n",
       "246269       34.00        44.00        51.00         57.00        55.00   \n",
       "\n",
       "        Agility  Reactions  Balance  ShotPower  Jumping  Stamina  Strength  \\\n",
       "ID                                                                           \n",
       "238813    60.00      49.00    76.00      43.00    55.00    40.00     47.00   \n",
       "243165    38.00      40.00    52.00      41.00    47.00    43.00     67.00   \n",
       "241638    50.00      47.00    58.00      45.00    60.00    55.00     32.00   \n",
       "246268    52.00      21.00    71.00      64.00    42.00    40.00     48.00   \n",
       "246269    55.00      51.00    63.00      43.00    62.00    47.00     60.00   \n",
       "\n",
       "        LongShots  Aggression  Interceptions  Positioning  Vision  Penalties  \\\n",
       "ID                                                                             \n",
       "238813      38.00       46.00          46.00        39.00   52.00      43.00   \n",
       "243165      42.00       47.00          16.00        46.00   33.00      43.00   \n",
       "241638      45.00       32.00          15.00        48.00   43.00      55.00   \n",
       "246268      34.00       33.00          22.00        44.00   47.00      50.00   \n",
       "246269      32.00       56.00          42.00        34.00   49.00      33.00   \n",
       "\n",
       "        Composure  Marking  StandingTackle  SlidingTackle  GKDiving  \\\n",
       "ID                                                                    \n",
       "238813      45.00    40.00           48.00          47.00     10.00   \n",
       "243165      42.00    22.00           15.00          19.00     10.00   \n",
       "241638      41.00    32.00           13.00          11.00      6.00   \n",
       "246268      46.00    20.00           25.00          27.00     14.00   \n",
       "246269      43.00    40.00           43.00          50.00     10.00   \n",
       "\n",
       "        GKHandling  GKKicking  GKPositioning  GKReflexes Release Clause  \n",
       "ID                                                                       \n",
       "238813       13.00       7.00           8.00        9.00          €143K  \n",
       "243165        9.00       9.00           5.00       12.00          €113K  \n",
       "241638        5.00      10.00           6.00       13.00          €165K  \n",
       "246268        6.00      14.00           8.00        9.00          €143K  \n",
       "246269       15.00       9.00          12.00        9.00          €165K  \n",
       "\n",
       "[5 rows x 83 columns]"
      ]
     },
     "execution_count": 6,
     "metadata": {},
     "output_type": "execute_result"
    }
   ],
   "source": [
    "# Remove useless columns\n",
    "df_fifa.drop(['Unnamed: 0', 'Photo', 'Flag', 'Club Logo', 'Real Face'], axis=1, inplace=True)\n",
    "df_fifa.set_index('ID', inplace=True)\n",
    "df_fifa.tail()"
   ]
  },
  {
   "cell_type": "code",
   "execution_count": 7,
   "metadata": {},
   "outputs": [
    {
     "name": "stdout",
     "output_type": "stream",
     "text": [
      "<class 'pandas.core.frame.DataFrame'>\n",
      "Int64Index: 18207 entries, 158023 to 246269\n",
      "Data columns (total 83 columns):\n",
      " #   Column                    Non-Null Count  Dtype  \n",
      "---  ------                    --------------  -----  \n",
      " 0   Name                      18207 non-null  object \n",
      " 1   Age                       18207 non-null  int64  \n",
      " 2   Nationality               18207 non-null  object \n",
      " 3   Overall                   18207 non-null  int64  \n",
      " 4   Potential                 18207 non-null  int64  \n",
      " 5   Club                      17966 non-null  object \n",
      " 6   Value                     18207 non-null  object \n",
      " 7   Wage                      18207 non-null  object \n",
      " 8   Special                   18207 non-null  int64  \n",
      " 9   Preferred Foot            18159 non-null  object \n",
      " 10  International Reputation  18159 non-null  float64\n",
      " 11  Weak Foot                 18159 non-null  float64\n",
      " 12  Skill Moves               18159 non-null  float64\n",
      " 13  Work Rate                 18159 non-null  object \n",
      " 14  Body Type                 18159 non-null  object \n",
      " 15  Position                  18147 non-null  object \n",
      " 16  Jersey Number             18147 non-null  float64\n",
      " 17  Joined                    16654 non-null  object \n",
      " 18  Loaned From               1264 non-null   object \n",
      " 19  Contract Valid Until      17918 non-null  object \n",
      " 20  Height                    18159 non-null  object \n",
      " 21  Weight                    18159 non-null  object \n",
      " 22  LS                        16122 non-null  object \n",
      " 23  ST                        16122 non-null  object \n",
      " 24  RS                        16122 non-null  object \n",
      " 25  LW                        16122 non-null  object \n",
      " 26  LF                        16122 non-null  object \n",
      " 27  CF                        16122 non-null  object \n",
      " 28  RF                        16122 non-null  object \n",
      " 29  RW                        16122 non-null  object \n",
      " 30  LAM                       16122 non-null  object \n",
      " 31  CAM                       16122 non-null  object \n",
      " 32  RAM                       16122 non-null  object \n",
      " 33  LM                        16122 non-null  object \n",
      " 34  LCM                       16122 non-null  object \n",
      " 35  CM                        16122 non-null  object \n",
      " 36  RCM                       16122 non-null  object \n",
      " 37  RM                        16122 non-null  object \n",
      " 38  LWB                       16122 non-null  object \n",
      " 39  LDM                       16122 non-null  object \n",
      " 40  CDM                       16122 non-null  object \n",
      " 41  RDM                       16122 non-null  object \n",
      " 42  RWB                       16122 non-null  object \n",
      " 43  LB                        16122 non-null  object \n",
      " 44  LCB                       16122 non-null  object \n",
      " 45  CB                        16122 non-null  object \n",
      " 46  RCB                       16122 non-null  object \n",
      " 47  RB                        16122 non-null  object \n",
      " 48  Crossing                  18159 non-null  float64\n",
      " 49  Finishing                 18159 non-null  float64\n",
      " 50  HeadingAccuracy           18159 non-null  float64\n",
      " 51  ShortPassing              18159 non-null  float64\n",
      " 52  Volleys                   18159 non-null  float64\n",
      " 53  Dribbling                 18159 non-null  float64\n",
      " 54  Curve                     18159 non-null  float64\n",
      " 55  FKAccuracy                18159 non-null  float64\n",
      " 56  LongPassing               18159 non-null  float64\n",
      " 57  BallControl               18159 non-null  float64\n",
      " 58  Acceleration              18159 non-null  float64\n",
      " 59  SprintSpeed               18159 non-null  float64\n",
      " 60  Agility                   18159 non-null  float64\n",
      " 61  Reactions                 18159 non-null  float64\n",
      " 62  Balance                   18159 non-null  float64\n",
      " 63  ShotPower                 18159 non-null  float64\n",
      " 64  Jumping                   18159 non-null  float64\n",
      " 65  Stamina                   18159 non-null  float64\n",
      " 66  Strength                  18159 non-null  float64\n",
      " 67  LongShots                 18159 non-null  float64\n",
      " 68  Aggression                18159 non-null  float64\n",
      " 69  Interceptions             18159 non-null  float64\n",
      " 70  Positioning               18159 non-null  float64\n",
      " 71  Vision                    18159 non-null  float64\n",
      " 72  Penalties                 18159 non-null  float64\n",
      " 73  Composure                 18159 non-null  float64\n",
      " 74  Marking                   18159 non-null  float64\n",
      " 75  StandingTackle            18159 non-null  float64\n",
      " 76  SlidingTackle             18159 non-null  float64\n",
      " 77  GKDiving                  18159 non-null  float64\n",
      " 78  GKHandling                18159 non-null  float64\n",
      " 79  GKKicking                 18159 non-null  float64\n",
      " 80  GKPositioning             18159 non-null  float64\n",
      " 81  GKReflexes                18159 non-null  float64\n",
      " 82  Release Clause            16643 non-null  object \n",
      "dtypes: float64(38), int64(4), object(41)\n",
      "memory usage: 11.7+ MB\n"
     ]
    }
   ],
   "source": [
    "# 3. Qual o dtype de cada variável/atributo do dataframe?\n",
    "# Printing column types\n",
    "\n",
    "df_fifa.info()"
   ]
  },
  {
   "cell_type": "code",
   "execution_count": 8,
   "metadata": {},
   "outputs": [],
   "source": [
    "# 4. Se alguma variávável/atributo é do tipo string (object) e supostamente deveria ser numérica, como alteramos o tipo?\n",
    "# Converting value and wage to numeric\n",
    "\n",
    "def monetary_to_float(monetary_value):\n",
    "    if monetary_value[-1].isnumeric():\n",
    "        return float(monetary_value[1:])\n",
    "       \n",
    "    else:\n",
    "        multiplier = 10**6 if monetary_value[-1] == 'M' else 10**3\n",
    "        float_monetary_value = float(monetary_value[1:-1]) * multiplier\n",
    "\n",
    "        return float_monetary_value\n",
    "    \n"
   ]
  },
  {
   "cell_type": "code",
   "execution_count": 9,
   "metadata": {},
   "outputs": [
    {
     "data": {
      "text/html": [
       "<div>\n",
       "<style scoped>\n",
       "    .dataframe tbody tr th:only-of-type {\n",
       "        vertical-align: middle;\n",
       "    }\n",
       "\n",
       "    .dataframe tbody tr th {\n",
       "        vertical-align: top;\n",
       "    }\n",
       "\n",
       "    .dataframe thead th {\n",
       "        text-align: right;\n",
       "    }\n",
       "</style>\n",
       "<table border=\"1\" class=\"dataframe\">\n",
       "  <thead>\n",
       "    <tr style=\"text-align: right;\">\n",
       "      <th></th>\n",
       "      <th>Name</th>\n",
       "      <th>Value</th>\n",
       "    </tr>\n",
       "    <tr>\n",
       "      <th>ID</th>\n",
       "      <th></th>\n",
       "      <th></th>\n",
       "    </tr>\n",
       "  </thead>\n",
       "  <tbody>\n",
       "    <tr>\n",
       "      <th>158023</th>\n",
       "      <td>L. Messi</td>\n",
       "      <td>110500000.00</td>\n",
       "    </tr>\n",
       "    <tr>\n",
       "      <th>20801</th>\n",
       "      <td>Cristiano Ronaldo</td>\n",
       "      <td>77000000.00</td>\n",
       "    </tr>\n",
       "    <tr>\n",
       "      <th>190871</th>\n",
       "      <td>Neymar Jr</td>\n",
       "      <td>118500000.00</td>\n",
       "    </tr>\n",
       "    <tr>\n",
       "      <th>193080</th>\n",
       "      <td>De Gea</td>\n",
       "      <td>72000000.00</td>\n",
       "    </tr>\n",
       "    <tr>\n",
       "      <th>192985</th>\n",
       "      <td>K. De Bruyne</td>\n",
       "      <td>102000000.00</td>\n",
       "    </tr>\n",
       "    <tr>\n",
       "      <th>183277</th>\n",
       "      <td>E. Hazard</td>\n",
       "      <td>93000000.00</td>\n",
       "    </tr>\n",
       "    <tr>\n",
       "      <th>177003</th>\n",
       "      <td>L. Modrić</td>\n",
       "      <td>67000000.00</td>\n",
       "    </tr>\n",
       "    <tr>\n",
       "      <th>176580</th>\n",
       "      <td>L. Suárez</td>\n",
       "      <td>80000000.00</td>\n",
       "    </tr>\n",
       "    <tr>\n",
       "      <th>155862</th>\n",
       "      <td>Sergio Ramos</td>\n",
       "      <td>51000000.00</td>\n",
       "    </tr>\n",
       "    <tr>\n",
       "      <th>200389</th>\n",
       "      <td>J. Oblak</td>\n",
       "      <td>68000000.00</td>\n",
       "    </tr>\n",
       "  </tbody>\n",
       "</table>\n",
       "<p>10 rows × 2 columns</p>\n",
       "</div>"
      ],
      "text/plain": [
       "                     Name        Value\n",
       "ID                                    \n",
       "158023           L. Messi 110500000.00\n",
       "20801   Cristiano Ronaldo  77000000.00\n",
       "190871          Neymar Jr 118500000.00\n",
       "193080             De Gea  72000000.00\n",
       "192985       K. De Bruyne 102000000.00\n",
       "183277          E. Hazard  93000000.00\n",
       "177003          L. Modrić  67000000.00\n",
       "176580          L. Suárez  80000000.00\n",
       "155862       Sergio Ramos  51000000.00\n",
       "200389           J. Oblak  68000000.00\n",
       "\n",
       "[10 rows x 2 columns]"
      ]
     },
     "metadata": {},
     "output_type": "display_data"
    },
    {
     "data": {
      "text/html": [
       "<div>\n",
       "<style scoped>\n",
       "    .dataframe tbody tr th:only-of-type {\n",
       "        vertical-align: middle;\n",
       "    }\n",
       "\n",
       "    .dataframe tbody tr th {\n",
       "        vertical-align: top;\n",
       "    }\n",
       "\n",
       "    .dataframe thead th {\n",
       "        text-align: right;\n",
       "    }\n",
       "</style>\n",
       "<table border=\"1\" class=\"dataframe\">\n",
       "  <thead>\n",
       "    <tr style=\"text-align: right;\">\n",
       "      <th></th>\n",
       "      <th>Name</th>\n",
       "      <th>Wage</th>\n",
       "    </tr>\n",
       "    <tr>\n",
       "      <th>ID</th>\n",
       "      <th></th>\n",
       "      <th></th>\n",
       "    </tr>\n",
       "  </thead>\n",
       "  <tbody>\n",
       "    <tr>\n",
       "      <th>158023</th>\n",
       "      <td>L. Messi</td>\n",
       "      <td>565000.00</td>\n",
       "    </tr>\n",
       "    <tr>\n",
       "      <th>20801</th>\n",
       "      <td>Cristiano Ronaldo</td>\n",
       "      <td>405000.00</td>\n",
       "    </tr>\n",
       "    <tr>\n",
       "      <th>190871</th>\n",
       "      <td>Neymar Jr</td>\n",
       "      <td>290000.00</td>\n",
       "    </tr>\n",
       "    <tr>\n",
       "      <th>193080</th>\n",
       "      <td>De Gea</td>\n",
       "      <td>260000.00</td>\n",
       "    </tr>\n",
       "    <tr>\n",
       "      <th>192985</th>\n",
       "      <td>K. De Bruyne</td>\n",
       "      <td>355000.00</td>\n",
       "    </tr>\n",
       "    <tr>\n",
       "      <th>183277</th>\n",
       "      <td>E. Hazard</td>\n",
       "      <td>340000.00</td>\n",
       "    </tr>\n",
       "    <tr>\n",
       "      <th>177003</th>\n",
       "      <td>L. Modrić</td>\n",
       "      <td>420000.00</td>\n",
       "    </tr>\n",
       "    <tr>\n",
       "      <th>176580</th>\n",
       "      <td>L. Suárez</td>\n",
       "      <td>455000.00</td>\n",
       "    </tr>\n",
       "    <tr>\n",
       "      <th>155862</th>\n",
       "      <td>Sergio Ramos</td>\n",
       "      <td>380000.00</td>\n",
       "    </tr>\n",
       "    <tr>\n",
       "      <th>200389</th>\n",
       "      <td>J. Oblak</td>\n",
       "      <td>94000.00</td>\n",
       "    </tr>\n",
       "  </tbody>\n",
       "</table>\n",
       "<p>10 rows × 2 columns</p>\n",
       "</div>"
      ],
      "text/plain": [
       "                     Name      Wage\n",
       "ID                                 \n",
       "158023           L. Messi 565000.00\n",
       "20801   Cristiano Ronaldo 405000.00\n",
       "190871          Neymar Jr 290000.00\n",
       "193080             De Gea 260000.00\n",
       "192985       K. De Bruyne 355000.00\n",
       "183277          E. Hazard 340000.00\n",
       "177003          L. Modrić 420000.00\n",
       "176580          L. Suárez 455000.00\n",
       "155862       Sergio Ramos 380000.00\n",
       "200389           J. Oblak  94000.00\n",
       "\n",
       "[10 rows x 2 columns]"
      ]
     },
     "metadata": {},
     "output_type": "display_data"
    }
   ],
   "source": [
    "# 4. Se alguma variávável/atributo é do tipo string (object) e supostamente deveria ser numérica, como alteramos o tipo?\n",
    "# Converting value and wage to numeric\n",
    "# Convert value and wage to numeric\n",
    "\n",
    "# Replacing empty values with Nan\n",
    "df_fifa['Value'] = df_fifa['Value'].replace('^\\s*$', np.nan, regex=True)\n",
    "df_fifa['Wage'] = df_fifa['Wage'].replace(r'^\\s*$', np.nan, regex=True)\n",
    "\n",
    "df_fifa['Value'] = df_fifa['Value'].fillna('€0')\n",
    "df_fifa['Value'] = df_fifa['Value'].map(monetary_to_float)\n",
    "display(df_fifa[['Name', 'Value']].head(10))\n",
    "\n",
    "df_fifa['Wage'] = df_fifa['Wage'].fillna('€0')\n",
    "df_fifa['Wage'] = df_fifa['Wage'].map(monetary_to_float)\n",
    "display(df_fifa[['Name', 'Wage']].head(10))"
   ]
  },
  {
   "cell_type": "code",
   "execution_count": 10,
   "metadata": {},
   "outputs": [
    {
     "data": {
      "text/html": [
       "<div>\n",
       "<style scoped>\n",
       "    .dataframe tbody tr th:only-of-type {\n",
       "        vertical-align: middle;\n",
       "    }\n",
       "\n",
       "    .dataframe tbody tr th {\n",
       "        vertical-align: top;\n",
       "    }\n",
       "\n",
       "    .dataframe thead th {\n",
       "        text-align: right;\n",
       "    }\n",
       "</style>\n",
       "<table border=\"1\" class=\"dataframe\">\n",
       "  <thead>\n",
       "    <tr style=\"text-align: right;\">\n",
       "      <th></th>\n",
       "      <th>Name</th>\n",
       "      <th>Height</th>\n",
       "    </tr>\n",
       "    <tr>\n",
       "      <th>ID</th>\n",
       "      <th></th>\n",
       "      <th></th>\n",
       "    </tr>\n",
       "  </thead>\n",
       "  <tbody>\n",
       "    <tr>\n",
       "      <th>158023</th>\n",
       "      <td>L. Messi</td>\n",
       "      <td>1.70</td>\n",
       "    </tr>\n",
       "    <tr>\n",
       "      <th>20801</th>\n",
       "      <td>Cristiano Ronaldo</td>\n",
       "      <td>1.88</td>\n",
       "    </tr>\n",
       "    <tr>\n",
       "      <th>190871</th>\n",
       "      <td>Neymar Jr</td>\n",
       "      <td>1.75</td>\n",
       "    </tr>\n",
       "    <tr>\n",
       "      <th>193080</th>\n",
       "      <td>De Gea</td>\n",
       "      <td>1.93</td>\n",
       "    </tr>\n",
       "    <tr>\n",
       "      <th>192985</th>\n",
       "      <td>K. De Bruyne</td>\n",
       "      <td>1.80</td>\n",
       "    </tr>\n",
       "    <tr>\n",
       "      <th>183277</th>\n",
       "      <td>E. Hazard</td>\n",
       "      <td>1.73</td>\n",
       "    </tr>\n",
       "    <tr>\n",
       "      <th>177003</th>\n",
       "      <td>L. Modrić</td>\n",
       "      <td>1.73</td>\n",
       "    </tr>\n",
       "    <tr>\n",
       "      <th>176580</th>\n",
       "      <td>L. Suárez</td>\n",
       "      <td>1.83</td>\n",
       "    </tr>\n",
       "    <tr>\n",
       "      <th>155862</th>\n",
       "      <td>Sergio Ramos</td>\n",
       "      <td>1.83</td>\n",
       "    </tr>\n",
       "    <tr>\n",
       "      <th>200389</th>\n",
       "      <td>J. Oblak</td>\n",
       "      <td>1.88</td>\n",
       "    </tr>\n",
       "  </tbody>\n",
       "</table>\n",
       "<p>10 rows × 2 columns</p>\n",
       "</div>"
      ],
      "text/plain": [
       "                     Name  Height\n",
       "ID                               \n",
       "158023           L. Messi    1.70\n",
       "20801   Cristiano Ronaldo    1.88\n",
       "190871          Neymar Jr    1.75\n",
       "193080             De Gea    1.93\n",
       "192985       K. De Bruyne    1.80\n",
       "183277          E. Hazard    1.73\n",
       "177003          L. Modrić    1.73\n",
       "176580          L. Suárez    1.83\n",
       "155862       Sergio Ramos    1.83\n",
       "200389           J. Oblak    1.88\n",
       "\n",
       "[10 rows x 2 columns]"
      ]
     },
     "metadata": {},
     "output_type": "display_data"
    },
    {
     "data": {
      "text/html": [
       "<div>\n",
       "<style scoped>\n",
       "    .dataframe tbody tr th:only-of-type {\n",
       "        vertical-align: middle;\n",
       "    }\n",
       "\n",
       "    .dataframe tbody tr th {\n",
       "        vertical-align: top;\n",
       "    }\n",
       "\n",
       "    .dataframe thead th {\n",
       "        text-align: right;\n",
       "    }\n",
       "</style>\n",
       "<table border=\"1\" class=\"dataframe\">\n",
       "  <thead>\n",
       "    <tr style=\"text-align: right;\">\n",
       "      <th></th>\n",
       "      <th>Name</th>\n",
       "      <th>Weight</th>\n",
       "    </tr>\n",
       "    <tr>\n",
       "      <th>ID</th>\n",
       "      <th></th>\n",
       "      <th></th>\n",
       "    </tr>\n",
       "  </thead>\n",
       "  <tbody>\n",
       "    <tr>\n",
       "      <th>158023</th>\n",
       "      <td>L. Messi</td>\n",
       "      <td>72.12</td>\n",
       "    </tr>\n",
       "    <tr>\n",
       "      <th>20801</th>\n",
       "      <td>Cristiano Ronaldo</td>\n",
       "      <td>83.01</td>\n",
       "    </tr>\n",
       "    <tr>\n",
       "      <th>190871</th>\n",
       "      <td>Neymar Jr</td>\n",
       "      <td>68.04</td>\n",
       "    </tr>\n",
       "    <tr>\n",
       "      <th>193080</th>\n",
       "      <td>De Gea</td>\n",
       "      <td>76.20</td>\n",
       "    </tr>\n",
       "    <tr>\n",
       "      <th>192985</th>\n",
       "      <td>K. De Bruyne</td>\n",
       "      <td>69.85</td>\n",
       "    </tr>\n",
       "    <tr>\n",
       "      <th>183277</th>\n",
       "      <td>E. Hazard</td>\n",
       "      <td>73.94</td>\n",
       "    </tr>\n",
       "    <tr>\n",
       "      <th>177003</th>\n",
       "      <td>L. Modrić</td>\n",
       "      <td>66.22</td>\n",
       "    </tr>\n",
       "    <tr>\n",
       "      <th>176580</th>\n",
       "      <td>L. Suárez</td>\n",
       "      <td>86.18</td>\n",
       "    </tr>\n",
       "    <tr>\n",
       "      <th>155862</th>\n",
       "      <td>Sergio Ramos</td>\n",
       "      <td>82.10</td>\n",
       "    </tr>\n",
       "    <tr>\n",
       "      <th>200389</th>\n",
       "      <td>J. Oblak</td>\n",
       "      <td>87.09</td>\n",
       "    </tr>\n",
       "  </tbody>\n",
       "</table>\n",
       "<p>10 rows × 2 columns</p>\n",
       "</div>"
      ],
      "text/plain": [
       "                     Name  Weight\n",
       "ID                               \n",
       "158023           L. Messi   72.12\n",
       "20801   Cristiano Ronaldo   83.01\n",
       "190871          Neymar Jr   68.04\n",
       "193080             De Gea   76.20\n",
       "192985       K. De Bruyne   69.85\n",
       "183277          E. Hazard   73.94\n",
       "177003          L. Modrić   66.22\n",
       "176580          L. Suárez   86.18\n",
       "155862       Sergio Ramos   82.10\n",
       "200389           J. Oblak   87.09\n",
       "\n",
       "[10 rows x 2 columns]"
      ]
     },
     "execution_count": 10,
     "metadata": {},
     "output_type": "execute_result"
    }
   ],
   "source": [
    "# 4. Se alguma variávável/atributo é do tipo string (object) e supostamente deveria ser numérica, como alteramos o tipo?\n",
    "# Converting value and wage to numeric\n",
    "\n",
    "# Converting height from feet'inches to meters (1 inch = 0.083333 foot and 0.3048 foot is 1 meter)\n",
    "df_fifa['Height'] = df_fifa['Height'].fillna(\"0'0\")\n",
    "df_fifa['Height'] = df_fifa['Height'].map(lambda h: (int(h.split(\"'\")[0]) + int(h.split(\"'\")[1]) * 0.0833333) * 0.3048)\n",
    "display(df_fifa[['Name', 'Height']].head(10))\n",
    "\n",
    "# Converting weight from lbs to kgs (remove trailing lbs and multiplying to 0.453592)\n",
    "df_fifa['Weight'] = df_fifa['Weight'].fillna(\"0lbs\")\n",
    "df_fifa['Weight'] = df_fifa['Weight'].map(lambda h: (int(h[:-3])) * 0.453592)\n",
    "df_fifa[['Name', 'Weight']].head(10)\n"
   ]
  },
  {
   "cell_type": "code",
   "execution_count": 11,
   "metadata": {},
   "outputs": [
    {
     "data": {
      "text/plain": [
       "Index(['name', 'age', 'nationality', 'overall', 'potential', 'club', 'value',\n",
       "       'wage', 'special', 'preferred foot', 'international reputation',\n",
       "       'weak foot', 'skill moves', 'work rate', 'body type', 'position',\n",
       "       'jersey number', 'joined', 'loaned from', 'contract valid until',\n",
       "       'height', 'weight', 'ls', 'st', 'rs', 'lw', 'lf', 'cf', 'rf', 'rw',\n",
       "       'lam', 'cam', 'ram', 'lm', 'lcm', 'cm', 'rcm', 'rm', 'lwb', 'ldm',\n",
       "       'cdm', 'rdm', 'rwb', 'lb', 'lcb', 'cb', 'rcb', 'rb', 'crossing',\n",
       "       'finishing', 'headingaccuracy', 'shortpassing', 'volleys', 'dribbling',\n",
       "       'curve', 'fkaccuracy', 'longpassing', 'ballcontrol', 'acceleration',\n",
       "       'sprintspeed', 'agility', 'reactions', 'balance', 'shotpower',\n",
       "       'jumping', 'stamina', 'strength', 'longshots', 'aggression',\n",
       "       'interceptions', 'positioning', 'vision', 'penalties', 'composure',\n",
       "       'marking', 'standingtackle', 'slidingtackle', 'gkdiving', 'gkhandling',\n",
       "       'gkkicking', 'gkpositioning', 'gkreflexes', 'release clause'],\n",
       "      dtype='object')"
      ]
     },
     "execution_count": 11,
     "metadata": {},
     "output_type": "execute_result"
    }
   ],
   "source": [
    "# 5. Normalize os nomes das colunas, ou seja, renomeie o nome das colunas para minúsculo;\n",
    "df_fifa.columns = df_fifa.columns.str.lower()\n",
    "df_fifa.columns"
   ]
  },
  {
   "cell_type": "code",
   "execution_count": 12,
   "metadata": {},
   "outputs": [],
   "source": [
    "# 6. Há Missing values nos dados? Se sim, o qual sua proposta (proposta do grupo) para tratar estes Missing values?\n",
    "# Para missing values vamos substituir todos pela mediana para não influenciar nas analises e não perder \n",
    "# outras informações que podem ser importantes\n",
    "\n",
    "def replace_by_median(df):\n",
    "    numeric_columns = df.select_dtypes(include=np.number).columns.tolist()\n",
    "    \n",
    "    for numeric_column in numeric_columns:\n",
    "        df[numeric_column].fillna(df[numeric_column].median())\n",
    "    "
   ]
  },
  {
   "cell_type": "code",
   "execution_count": 13,
   "metadata": {},
   "outputs": [
    {
     "name": "stderr",
     "output_type": "stream",
     "text": [
      "f:\\leon\\venvs\\ml\\lib\\site-packages\\ipykernel_launcher.py:5: SettingWithCopyWarning: \n",
      "A value is trying to be set on a copy of a slice from a DataFrame.\n",
      "Try using .loc[row_indexer,col_indexer] = value instead\n",
      "\n",
      "See the caveats in the documentation: https://pandas.pydata.org/pandas-docs/stable/user_guide/indexing.html#returning-a-view-versus-a-copy\n",
      "  \"\"\"\n"
     ]
    },
    {
     "data": {
      "text/html": [
       "<div>\n",
       "<style scoped>\n",
       "    .dataframe tbody tr th:only-of-type {\n",
       "        vertical-align: middle;\n",
       "    }\n",
       "\n",
       "    .dataframe tbody tr th {\n",
       "        vertical-align: top;\n",
       "    }\n",
       "\n",
       "    .dataframe thead th {\n",
       "        text-align: right;\n",
       "    }\n",
       "</style>\n",
       "<table border=\"1\" class=\"dataframe\">\n",
       "  <thead>\n",
       "    <tr style=\"text-align: right;\">\n",
       "      <th></th>\n",
       "      <th>name</th>\n",
       "      <th>age</th>\n",
       "      <th>nationality</th>\n",
       "      <th>overall</th>\n",
       "      <th>potential</th>\n",
       "      <th>club</th>\n",
       "      <th>value</th>\n",
       "      <th>wage</th>\n",
       "      <th>special</th>\n",
       "      <th>preferred foot</th>\n",
       "      <th>international reputation</th>\n",
       "      <th>weak foot</th>\n",
       "      <th>skill moves</th>\n",
       "      <th>work rate</th>\n",
       "      <th>body type</th>\n",
       "      <th>position</th>\n",
       "      <th>jersey number</th>\n",
       "      <th>joined</th>\n",
       "      <th>loaned from</th>\n",
       "      <th>contract valid until</th>\n",
       "      <th>height</th>\n",
       "      <th>weight</th>\n",
       "      <th>ls</th>\n",
       "      <th>st</th>\n",
       "      <th>rs</th>\n",
       "      <th>lw</th>\n",
       "      <th>lf</th>\n",
       "      <th>cf</th>\n",
       "      <th>rf</th>\n",
       "      <th>rw</th>\n",
       "      <th>lam</th>\n",
       "      <th>cam</th>\n",
       "      <th>ram</th>\n",
       "      <th>lm</th>\n",
       "      <th>lcm</th>\n",
       "      <th>cm</th>\n",
       "      <th>rcm</th>\n",
       "      <th>rm</th>\n",
       "      <th>lwb</th>\n",
       "      <th>ldm</th>\n",
       "      <th>cdm</th>\n",
       "      <th>rdm</th>\n",
       "      <th>rwb</th>\n",
       "      <th>lb</th>\n",
       "      <th>lcb</th>\n",
       "      <th>cb</th>\n",
       "      <th>rcb</th>\n",
       "      <th>rb</th>\n",
       "      <th>crossing</th>\n",
       "      <th>finishing</th>\n",
       "      <th>headingaccuracy</th>\n",
       "      <th>shortpassing</th>\n",
       "      <th>volleys</th>\n",
       "      <th>dribbling</th>\n",
       "      <th>curve</th>\n",
       "      <th>fkaccuracy</th>\n",
       "      <th>longpassing</th>\n",
       "      <th>ballcontrol</th>\n",
       "      <th>acceleration</th>\n",
       "      <th>sprintspeed</th>\n",
       "      <th>agility</th>\n",
       "      <th>reactions</th>\n",
       "      <th>balance</th>\n",
       "      <th>shotpower</th>\n",
       "      <th>jumping</th>\n",
       "      <th>stamina</th>\n",
       "      <th>strength</th>\n",
       "      <th>longshots</th>\n",
       "      <th>aggression</th>\n",
       "      <th>interceptions</th>\n",
       "      <th>positioning</th>\n",
       "      <th>vision</th>\n",
       "      <th>penalties</th>\n",
       "      <th>composure</th>\n",
       "      <th>marking</th>\n",
       "      <th>standingtackle</th>\n",
       "      <th>slidingtackle</th>\n",
       "      <th>gkdiving</th>\n",
       "      <th>gkhandling</th>\n",
       "      <th>gkkicking</th>\n",
       "      <th>gkpositioning</th>\n",
       "      <th>gkreflexes</th>\n",
       "      <th>release clause</th>\n",
       "    </tr>\n",
       "    <tr>\n",
       "      <th>ID</th>\n",
       "      <th></th>\n",
       "      <th></th>\n",
       "      <th></th>\n",
       "      <th></th>\n",
       "      <th></th>\n",
       "      <th></th>\n",
       "      <th></th>\n",
       "      <th></th>\n",
       "      <th></th>\n",
       "      <th></th>\n",
       "      <th></th>\n",
       "      <th></th>\n",
       "      <th></th>\n",
       "      <th></th>\n",
       "      <th></th>\n",
       "      <th></th>\n",
       "      <th></th>\n",
       "      <th></th>\n",
       "      <th></th>\n",
       "      <th></th>\n",
       "      <th></th>\n",
       "      <th></th>\n",
       "      <th></th>\n",
       "      <th></th>\n",
       "      <th></th>\n",
       "      <th></th>\n",
       "      <th></th>\n",
       "      <th></th>\n",
       "      <th></th>\n",
       "      <th></th>\n",
       "      <th></th>\n",
       "      <th></th>\n",
       "      <th></th>\n",
       "      <th></th>\n",
       "      <th></th>\n",
       "      <th></th>\n",
       "      <th></th>\n",
       "      <th></th>\n",
       "      <th></th>\n",
       "      <th></th>\n",
       "      <th></th>\n",
       "      <th></th>\n",
       "      <th></th>\n",
       "      <th></th>\n",
       "      <th></th>\n",
       "      <th></th>\n",
       "      <th></th>\n",
       "      <th></th>\n",
       "      <th></th>\n",
       "      <th></th>\n",
       "      <th></th>\n",
       "      <th></th>\n",
       "      <th></th>\n",
       "      <th></th>\n",
       "      <th></th>\n",
       "      <th></th>\n",
       "      <th></th>\n",
       "      <th></th>\n",
       "      <th></th>\n",
       "      <th></th>\n",
       "      <th></th>\n",
       "      <th></th>\n",
       "      <th></th>\n",
       "      <th></th>\n",
       "      <th></th>\n",
       "      <th></th>\n",
       "      <th></th>\n",
       "      <th></th>\n",
       "      <th></th>\n",
       "      <th></th>\n",
       "      <th></th>\n",
       "      <th></th>\n",
       "      <th></th>\n",
       "      <th></th>\n",
       "      <th></th>\n",
       "      <th></th>\n",
       "      <th></th>\n",
       "      <th></th>\n",
       "      <th></th>\n",
       "      <th></th>\n",
       "      <th></th>\n",
       "      <th></th>\n",
       "      <th></th>\n",
       "    </tr>\n",
       "  </thead>\n",
       "  <tbody>\n",
       "    <tr>\n",
       "      <th>158023</th>\n",
       "      <td>L. Messi</td>\n",
       "      <td>31</td>\n",
       "      <td>Argentina</td>\n",
       "      <td>94</td>\n",
       "      <td>94</td>\n",
       "      <td>FC Barcelona</td>\n",
       "      <td>110500000.00</td>\n",
       "      <td>565000.00</td>\n",
       "      <td>2202</td>\n",
       "      <td>Left</td>\n",
       "      <td>5.00</td>\n",
       "      <td>4.00</td>\n",
       "      <td>4.00</td>\n",
       "      <td>Medium/ Medium</td>\n",
       "      <td>Messi</td>\n",
       "      <td>RF</td>\n",
       "      <td>10.00</td>\n",
       "      <td>Jul 1, 2004</td>\n",
       "      <td>NaN</td>\n",
       "      <td>2021</td>\n",
       "      <td>1.70</td>\n",
       "      <td>72.12</td>\n",
       "      <td>88+2</td>\n",
       "      <td>88+2</td>\n",
       "      <td>88+2</td>\n",
       "      <td>92+2</td>\n",
       "      <td>93+2</td>\n",
       "      <td>93+2</td>\n",
       "      <td>93+2</td>\n",
       "      <td>92+2</td>\n",
       "      <td>93+2</td>\n",
       "      <td>93+2</td>\n",
       "      <td>93+2</td>\n",
       "      <td>91+2</td>\n",
       "      <td>84+2</td>\n",
       "      <td>84+2</td>\n",
       "      <td>84+2</td>\n",
       "      <td>91+2</td>\n",
       "      <td>64+2</td>\n",
       "      <td>61+2</td>\n",
       "      <td>61+2</td>\n",
       "      <td>61+2</td>\n",
       "      <td>64+2</td>\n",
       "      <td>59+2</td>\n",
       "      <td>47+2</td>\n",
       "      <td>47+2</td>\n",
       "      <td>47+2</td>\n",
       "      <td>59+2</td>\n",
       "      <td>84.00</td>\n",
       "      <td>95.00</td>\n",
       "      <td>70.00</td>\n",
       "      <td>90.00</td>\n",
       "      <td>86.00</td>\n",
       "      <td>97.00</td>\n",
       "      <td>93.00</td>\n",
       "      <td>94.00</td>\n",
       "      <td>87.00</td>\n",
       "      <td>96.00</td>\n",
       "      <td>91.00</td>\n",
       "      <td>86.00</td>\n",
       "      <td>91.00</td>\n",
       "      <td>95.00</td>\n",
       "      <td>95.00</td>\n",
       "      <td>85.00</td>\n",
       "      <td>68.00</td>\n",
       "      <td>72.00</td>\n",
       "      <td>59.00</td>\n",
       "      <td>94.00</td>\n",
       "      <td>48.00</td>\n",
       "      <td>22.00</td>\n",
       "      <td>94.00</td>\n",
       "      <td>94.00</td>\n",
       "      <td>75.00</td>\n",
       "      <td>96.00</td>\n",
       "      <td>33.00</td>\n",
       "      <td>28.00</td>\n",
       "      <td>26.00</td>\n",
       "      <td>6.00</td>\n",
       "      <td>11.00</td>\n",
       "      <td>15.00</td>\n",
       "      <td>14.00</td>\n",
       "      <td>8.00</td>\n",
       "      <td>€226.5M</td>\n",
       "    </tr>\n",
       "    <tr>\n",
       "      <th>20801</th>\n",
       "      <td>Cristiano Ronaldo</td>\n",
       "      <td>33</td>\n",
       "      <td>Portugal</td>\n",
       "      <td>94</td>\n",
       "      <td>94</td>\n",
       "      <td>Juventus</td>\n",
       "      <td>77000000.00</td>\n",
       "      <td>405000.00</td>\n",
       "      <td>2228</td>\n",
       "      <td>Right</td>\n",
       "      <td>5.00</td>\n",
       "      <td>4.00</td>\n",
       "      <td>5.00</td>\n",
       "      <td>High/ Low</td>\n",
       "      <td>C. Ronaldo</td>\n",
       "      <td>ST</td>\n",
       "      <td>7.00</td>\n",
       "      <td>Jul 10, 2018</td>\n",
       "      <td>NaN</td>\n",
       "      <td>2022</td>\n",
       "      <td>1.88</td>\n",
       "      <td>83.01</td>\n",
       "      <td>91+3</td>\n",
       "      <td>91+3</td>\n",
       "      <td>91+3</td>\n",
       "      <td>89+3</td>\n",
       "      <td>90+3</td>\n",
       "      <td>90+3</td>\n",
       "      <td>90+3</td>\n",
       "      <td>89+3</td>\n",
       "      <td>88+3</td>\n",
       "      <td>88+3</td>\n",
       "      <td>88+3</td>\n",
       "      <td>88+3</td>\n",
       "      <td>81+3</td>\n",
       "      <td>81+3</td>\n",
       "      <td>81+3</td>\n",
       "      <td>88+3</td>\n",
       "      <td>65+3</td>\n",
       "      <td>61+3</td>\n",
       "      <td>61+3</td>\n",
       "      <td>61+3</td>\n",
       "      <td>65+3</td>\n",
       "      <td>61+3</td>\n",
       "      <td>53+3</td>\n",
       "      <td>53+3</td>\n",
       "      <td>53+3</td>\n",
       "      <td>61+3</td>\n",
       "      <td>84.00</td>\n",
       "      <td>94.00</td>\n",
       "      <td>89.00</td>\n",
       "      <td>81.00</td>\n",
       "      <td>87.00</td>\n",
       "      <td>88.00</td>\n",
       "      <td>81.00</td>\n",
       "      <td>76.00</td>\n",
       "      <td>77.00</td>\n",
       "      <td>94.00</td>\n",
       "      <td>89.00</td>\n",
       "      <td>91.00</td>\n",
       "      <td>87.00</td>\n",
       "      <td>96.00</td>\n",
       "      <td>70.00</td>\n",
       "      <td>95.00</td>\n",
       "      <td>95.00</td>\n",
       "      <td>88.00</td>\n",
       "      <td>79.00</td>\n",
       "      <td>93.00</td>\n",
       "      <td>63.00</td>\n",
       "      <td>29.00</td>\n",
       "      <td>95.00</td>\n",
       "      <td>82.00</td>\n",
       "      <td>85.00</td>\n",
       "      <td>95.00</td>\n",
       "      <td>28.00</td>\n",
       "      <td>31.00</td>\n",
       "      <td>23.00</td>\n",
       "      <td>7.00</td>\n",
       "      <td>11.00</td>\n",
       "      <td>15.00</td>\n",
       "      <td>14.00</td>\n",
       "      <td>11.00</td>\n",
       "      <td>€127.1M</td>\n",
       "    </tr>\n",
       "    <tr>\n",
       "      <th>190871</th>\n",
       "      <td>Neymar Jr</td>\n",
       "      <td>26</td>\n",
       "      <td>Brazil</td>\n",
       "      <td>92</td>\n",
       "      <td>93</td>\n",
       "      <td>Paris Saint-Germain</td>\n",
       "      <td>118500000.00</td>\n",
       "      <td>290000.00</td>\n",
       "      <td>2143</td>\n",
       "      <td>Right</td>\n",
       "      <td>5.00</td>\n",
       "      <td>5.00</td>\n",
       "      <td>5.00</td>\n",
       "      <td>High/ Medium</td>\n",
       "      <td>Neymar</td>\n",
       "      <td>LW</td>\n",
       "      <td>10.00</td>\n",
       "      <td>Aug 3, 2017</td>\n",
       "      <td>NaN</td>\n",
       "      <td>2022</td>\n",
       "      <td>1.75</td>\n",
       "      <td>68.04</td>\n",
       "      <td>84+3</td>\n",
       "      <td>84+3</td>\n",
       "      <td>84+3</td>\n",
       "      <td>89+3</td>\n",
       "      <td>89+3</td>\n",
       "      <td>89+3</td>\n",
       "      <td>89+3</td>\n",
       "      <td>89+3</td>\n",
       "      <td>89+3</td>\n",
       "      <td>89+3</td>\n",
       "      <td>89+3</td>\n",
       "      <td>88+3</td>\n",
       "      <td>81+3</td>\n",
       "      <td>81+3</td>\n",
       "      <td>81+3</td>\n",
       "      <td>88+3</td>\n",
       "      <td>65+3</td>\n",
       "      <td>60+3</td>\n",
       "      <td>60+3</td>\n",
       "      <td>60+3</td>\n",
       "      <td>65+3</td>\n",
       "      <td>60+3</td>\n",
       "      <td>47+3</td>\n",
       "      <td>47+3</td>\n",
       "      <td>47+3</td>\n",
       "      <td>60+3</td>\n",
       "      <td>79.00</td>\n",
       "      <td>87.00</td>\n",
       "      <td>62.00</td>\n",
       "      <td>84.00</td>\n",
       "      <td>84.00</td>\n",
       "      <td>96.00</td>\n",
       "      <td>88.00</td>\n",
       "      <td>87.00</td>\n",
       "      <td>78.00</td>\n",
       "      <td>95.00</td>\n",
       "      <td>94.00</td>\n",
       "      <td>90.00</td>\n",
       "      <td>96.00</td>\n",
       "      <td>94.00</td>\n",
       "      <td>84.00</td>\n",
       "      <td>80.00</td>\n",
       "      <td>61.00</td>\n",
       "      <td>81.00</td>\n",
       "      <td>49.00</td>\n",
       "      <td>82.00</td>\n",
       "      <td>56.00</td>\n",
       "      <td>36.00</td>\n",
       "      <td>89.00</td>\n",
       "      <td>87.00</td>\n",
       "      <td>81.00</td>\n",
       "      <td>94.00</td>\n",
       "      <td>27.00</td>\n",
       "      <td>24.00</td>\n",
       "      <td>33.00</td>\n",
       "      <td>9.00</td>\n",
       "      <td>9.00</td>\n",
       "      <td>15.00</td>\n",
       "      <td>15.00</td>\n",
       "      <td>11.00</td>\n",
       "      <td>€228.1M</td>\n",
       "    </tr>\n",
       "    <tr>\n",
       "      <th>193080</th>\n",
       "      <td>De Gea</td>\n",
       "      <td>27</td>\n",
       "      <td>Spain</td>\n",
       "      <td>91</td>\n",
       "      <td>93</td>\n",
       "      <td>Manchester United</td>\n",
       "      <td>72000000.00</td>\n",
       "      <td>260000.00</td>\n",
       "      <td>1471</td>\n",
       "      <td>Right</td>\n",
       "      <td>4.00</td>\n",
       "      <td>3.00</td>\n",
       "      <td>1.00</td>\n",
       "      <td>Medium/ Medium</td>\n",
       "      <td>Lean</td>\n",
       "      <td>GK</td>\n",
       "      <td>1.00</td>\n",
       "      <td>Jul 1, 2011</td>\n",
       "      <td>NaN</td>\n",
       "      <td>2020</td>\n",
       "      <td>1.93</td>\n",
       "      <td>76.20</td>\n",
       "      <td>NaN</td>\n",
       "      <td>NaN</td>\n",
       "      <td>NaN</td>\n",
       "      <td>NaN</td>\n",
       "      <td>NaN</td>\n",
       "      <td>NaN</td>\n",
       "      <td>NaN</td>\n",
       "      <td>NaN</td>\n",
       "      <td>NaN</td>\n",
       "      <td>NaN</td>\n",
       "      <td>NaN</td>\n",
       "      <td>NaN</td>\n",
       "      <td>NaN</td>\n",
       "      <td>NaN</td>\n",
       "      <td>NaN</td>\n",
       "      <td>NaN</td>\n",
       "      <td>NaN</td>\n",
       "      <td>NaN</td>\n",
       "      <td>NaN</td>\n",
       "      <td>NaN</td>\n",
       "      <td>NaN</td>\n",
       "      <td>NaN</td>\n",
       "      <td>NaN</td>\n",
       "      <td>NaN</td>\n",
       "      <td>NaN</td>\n",
       "      <td>NaN</td>\n",
       "      <td>17.00</td>\n",
       "      <td>13.00</td>\n",
       "      <td>21.00</td>\n",
       "      <td>50.00</td>\n",
       "      <td>13.00</td>\n",
       "      <td>18.00</td>\n",
       "      <td>21.00</td>\n",
       "      <td>19.00</td>\n",
       "      <td>51.00</td>\n",
       "      <td>42.00</td>\n",
       "      <td>57.00</td>\n",
       "      <td>58.00</td>\n",
       "      <td>60.00</td>\n",
       "      <td>90.00</td>\n",
       "      <td>43.00</td>\n",
       "      <td>31.00</td>\n",
       "      <td>67.00</td>\n",
       "      <td>43.00</td>\n",
       "      <td>64.00</td>\n",
       "      <td>12.00</td>\n",
       "      <td>38.00</td>\n",
       "      <td>30.00</td>\n",
       "      <td>12.00</td>\n",
       "      <td>68.00</td>\n",
       "      <td>40.00</td>\n",
       "      <td>68.00</td>\n",
       "      <td>15.00</td>\n",
       "      <td>21.00</td>\n",
       "      <td>13.00</td>\n",
       "      <td>90.00</td>\n",
       "      <td>85.00</td>\n",
       "      <td>87.00</td>\n",
       "      <td>88.00</td>\n",
       "      <td>94.00</td>\n",
       "      <td>€138.6M</td>\n",
       "    </tr>\n",
       "    <tr>\n",
       "      <th>192985</th>\n",
       "      <td>K. De Bruyne</td>\n",
       "      <td>27</td>\n",
       "      <td>Belgium</td>\n",
       "      <td>91</td>\n",
       "      <td>92</td>\n",
       "      <td>Manchester City</td>\n",
       "      <td>102000000.00</td>\n",
       "      <td>355000.00</td>\n",
       "      <td>2281</td>\n",
       "      <td>Right</td>\n",
       "      <td>4.00</td>\n",
       "      <td>5.00</td>\n",
       "      <td>4.00</td>\n",
       "      <td>High/ High</td>\n",
       "      <td>Normal</td>\n",
       "      <td>RCM</td>\n",
       "      <td>7.00</td>\n",
       "      <td>Aug 30, 2015</td>\n",
       "      <td>NaN</td>\n",
       "      <td>2023</td>\n",
       "      <td>1.80</td>\n",
       "      <td>69.85</td>\n",
       "      <td>82+3</td>\n",
       "      <td>82+3</td>\n",
       "      <td>82+3</td>\n",
       "      <td>87+3</td>\n",
       "      <td>87+3</td>\n",
       "      <td>87+3</td>\n",
       "      <td>87+3</td>\n",
       "      <td>87+3</td>\n",
       "      <td>88+3</td>\n",
       "      <td>88+3</td>\n",
       "      <td>88+3</td>\n",
       "      <td>88+3</td>\n",
       "      <td>87+3</td>\n",
       "      <td>87+3</td>\n",
       "      <td>87+3</td>\n",
       "      <td>88+3</td>\n",
       "      <td>77+3</td>\n",
       "      <td>77+3</td>\n",
       "      <td>77+3</td>\n",
       "      <td>77+3</td>\n",
       "      <td>77+3</td>\n",
       "      <td>73+3</td>\n",
       "      <td>66+3</td>\n",
       "      <td>66+3</td>\n",
       "      <td>66+3</td>\n",
       "      <td>73+3</td>\n",
       "      <td>93.00</td>\n",
       "      <td>82.00</td>\n",
       "      <td>55.00</td>\n",
       "      <td>92.00</td>\n",
       "      <td>82.00</td>\n",
       "      <td>86.00</td>\n",
       "      <td>85.00</td>\n",
       "      <td>83.00</td>\n",
       "      <td>91.00</td>\n",
       "      <td>91.00</td>\n",
       "      <td>78.00</td>\n",
       "      <td>76.00</td>\n",
       "      <td>79.00</td>\n",
       "      <td>91.00</td>\n",
       "      <td>77.00</td>\n",
       "      <td>91.00</td>\n",
       "      <td>63.00</td>\n",
       "      <td>90.00</td>\n",
       "      <td>75.00</td>\n",
       "      <td>91.00</td>\n",
       "      <td>76.00</td>\n",
       "      <td>61.00</td>\n",
       "      <td>87.00</td>\n",
       "      <td>94.00</td>\n",
       "      <td>79.00</td>\n",
       "      <td>88.00</td>\n",
       "      <td>68.00</td>\n",
       "      <td>58.00</td>\n",
       "      <td>51.00</td>\n",
       "      <td>15.00</td>\n",
       "      <td>13.00</td>\n",
       "      <td>5.00</td>\n",
       "      <td>10.00</td>\n",
       "      <td>13.00</td>\n",
       "      <td>€196.4M</td>\n",
       "    </tr>\n",
       "  </tbody>\n",
       "</table>\n",
       "<p>5 rows × 83 columns</p>\n",
       "</div>"
      ],
      "text/plain": [
       "                     name  age nationality  overall  potential  \\\n",
       "ID                                                               \n",
       "158023           L. Messi   31   Argentina       94         94   \n",
       "20801   Cristiano Ronaldo   33    Portugal       94         94   \n",
       "190871          Neymar Jr   26      Brazil       92         93   \n",
       "193080             De Gea   27       Spain       91         93   \n",
       "192985       K. De Bruyne   27     Belgium       91         92   \n",
       "\n",
       "                       club        value      wage  special preferred foot  \\\n",
       "ID                                                                           \n",
       "158023         FC Barcelona 110500000.00 565000.00     2202           Left   \n",
       "20801              Juventus  77000000.00 405000.00     2228          Right   \n",
       "190871  Paris Saint-Germain 118500000.00 290000.00     2143          Right   \n",
       "193080    Manchester United  72000000.00 260000.00     1471          Right   \n",
       "192985      Manchester City 102000000.00 355000.00     2281          Right   \n",
       "\n",
       "        international reputation  weak foot  skill moves       work rate  \\\n",
       "ID                                                                         \n",
       "158023                      5.00       4.00         4.00  Medium/ Medium   \n",
       "20801                       5.00       4.00         5.00       High/ Low   \n",
       "190871                      5.00       5.00         5.00    High/ Medium   \n",
       "193080                      4.00       3.00         1.00  Medium/ Medium   \n",
       "192985                      4.00       5.00         4.00      High/ High   \n",
       "\n",
       "         body type position  jersey number        joined loaned from  \\\n",
       "ID                                                                     \n",
       "158023       Messi       RF          10.00   Jul 1, 2004         NaN   \n",
       "20801   C. Ronaldo       ST           7.00  Jul 10, 2018         NaN   \n",
       "190871      Neymar       LW          10.00   Aug 3, 2017         NaN   \n",
       "193080        Lean       GK           1.00   Jul 1, 2011         NaN   \n",
       "192985      Normal      RCM           7.00  Aug 30, 2015         NaN   \n",
       "\n",
       "       contract valid until  height  weight    ls    st    rs    lw    lf  \\\n",
       "ID                                                                          \n",
       "158023                 2021    1.70   72.12  88+2  88+2  88+2  92+2  93+2   \n",
       "20801                  2022    1.88   83.01  91+3  91+3  91+3  89+3  90+3   \n",
       "190871                 2022    1.75   68.04  84+3  84+3  84+3  89+3  89+3   \n",
       "193080                 2020    1.93   76.20   NaN   NaN   NaN   NaN   NaN   \n",
       "192985                 2023    1.80   69.85  82+3  82+3  82+3  87+3  87+3   \n",
       "\n",
       "          cf    rf    rw   lam   cam   ram    lm   lcm    cm   rcm    rm  \\\n",
       "ID                                                                         \n",
       "158023  93+2  93+2  92+2  93+2  93+2  93+2  91+2  84+2  84+2  84+2  91+2   \n",
       "20801   90+3  90+3  89+3  88+3  88+3  88+3  88+3  81+3  81+3  81+3  88+3   \n",
       "190871  89+3  89+3  89+3  89+3  89+3  89+3  88+3  81+3  81+3  81+3  88+3   \n",
       "193080   NaN   NaN   NaN   NaN   NaN   NaN   NaN   NaN   NaN   NaN   NaN   \n",
       "192985  87+3  87+3  87+3  88+3  88+3  88+3  88+3  87+3  87+3  87+3  88+3   \n",
       "\n",
       "         lwb   ldm   cdm   rdm   rwb    lb   lcb    cb   rcb    rb  crossing  \\\n",
       "ID                                                                             \n",
       "158023  64+2  61+2  61+2  61+2  64+2  59+2  47+2  47+2  47+2  59+2     84.00   \n",
       "20801   65+3  61+3  61+3  61+3  65+3  61+3  53+3  53+3  53+3  61+3     84.00   \n",
       "190871  65+3  60+3  60+3  60+3  65+3  60+3  47+3  47+3  47+3  60+3     79.00   \n",
       "193080   NaN   NaN   NaN   NaN   NaN   NaN   NaN   NaN   NaN   NaN     17.00   \n",
       "192985  77+3  77+3  77+3  77+3  77+3  73+3  66+3  66+3  66+3  73+3     93.00   \n",
       "\n",
       "        finishing  headingaccuracy  shortpassing  volleys  dribbling  curve  \\\n",
       "ID                                                                            \n",
       "158023      95.00            70.00         90.00    86.00      97.00  93.00   \n",
       "20801       94.00            89.00         81.00    87.00      88.00  81.00   \n",
       "190871      87.00            62.00         84.00    84.00      96.00  88.00   \n",
       "193080      13.00            21.00         50.00    13.00      18.00  21.00   \n",
       "192985      82.00            55.00         92.00    82.00      86.00  85.00   \n",
       "\n",
       "        fkaccuracy  longpassing  ballcontrol  acceleration  sprintspeed  \\\n",
       "ID                                                                        \n",
       "158023       94.00        87.00        96.00         91.00        86.00   \n",
       "20801        76.00        77.00        94.00         89.00        91.00   \n",
       "190871       87.00        78.00        95.00         94.00        90.00   \n",
       "193080       19.00        51.00        42.00         57.00        58.00   \n",
       "192985       83.00        91.00        91.00         78.00        76.00   \n",
       "\n",
       "        agility  reactions  balance  shotpower  jumping  stamina  strength  \\\n",
       "ID                                                                           \n",
       "158023    91.00      95.00    95.00      85.00    68.00    72.00     59.00   \n",
       "20801     87.00      96.00    70.00      95.00    95.00    88.00     79.00   \n",
       "190871    96.00      94.00    84.00      80.00    61.00    81.00     49.00   \n",
       "193080    60.00      90.00    43.00      31.00    67.00    43.00     64.00   \n",
       "192985    79.00      91.00    77.00      91.00    63.00    90.00     75.00   \n",
       "\n",
       "        longshots  aggression  interceptions  positioning  vision  penalties  \\\n",
       "ID                                                                             \n",
       "158023      94.00       48.00          22.00        94.00   94.00      75.00   \n",
       "20801       93.00       63.00          29.00        95.00   82.00      85.00   \n",
       "190871      82.00       56.00          36.00        89.00   87.00      81.00   \n",
       "193080      12.00       38.00          30.00        12.00   68.00      40.00   \n",
       "192985      91.00       76.00          61.00        87.00   94.00      79.00   \n",
       "\n",
       "        composure  marking  standingtackle  slidingtackle  gkdiving  \\\n",
       "ID                                                                    \n",
       "158023      96.00    33.00           28.00          26.00      6.00   \n",
       "20801       95.00    28.00           31.00          23.00      7.00   \n",
       "190871      94.00    27.00           24.00          33.00      9.00   \n",
       "193080      68.00    15.00           21.00          13.00     90.00   \n",
       "192985      88.00    68.00           58.00          51.00     15.00   \n",
       "\n",
       "        gkhandling  gkkicking  gkpositioning  gkreflexes release clause  \n",
       "ID                                                                       \n",
       "158023       11.00      15.00          14.00        8.00        €226.5M  \n",
       "20801        11.00      15.00          14.00       11.00        €127.1M  \n",
       "190871        9.00      15.00          15.00       11.00        €228.1M  \n",
       "193080       85.00      87.00          88.00       94.00        €138.6M  \n",
       "192985       13.00       5.00          10.00       13.00        €196.4M  \n",
       "\n",
       "[5 rows x 83 columns]"
      ]
     },
     "execution_count": 13,
     "metadata": {},
     "output_type": "execute_result"
    }
   ],
   "source": [
    "replace_by_median(df_fifa)\n",
    "\n",
    "# replace zeroed values with median\n",
    "df_fifa[df_fifa['age'] < 10]['age'] = df_fifa['age'].median()\n",
    "df_fifa[df_fifa['height'] == 0]['height'] = df_fifa['height'].median()\n",
    "df_fifa[df_fifa['weight'] == 10]['weight'] = df_fifa['weight'].median()\n",
    "\n",
    "df_fifa.head()"
   ]
  },
  {
   "cell_type": "code",
   "execution_count": 14,
   "metadata": {},
   "outputs": [
    {
     "data": {
      "text/html": [
       "<div>\n",
       "<style scoped>\n",
       "    .dataframe tbody tr th:only-of-type {\n",
       "        vertical-align: middle;\n",
       "    }\n",
       "\n",
       "    .dataframe tbody tr th {\n",
       "        vertical-align: top;\n",
       "    }\n",
       "\n",
       "    .dataframe thead th {\n",
       "        text-align: right;\n",
       "    }\n",
       "</style>\n",
       "<table border=\"1\" class=\"dataframe\">\n",
       "  <thead>\n",
       "    <tr style=\"text-align: right;\">\n",
       "      <th></th>\n",
       "      <th>nationality</th>\n",
       "      <th>players</th>\n",
       "    </tr>\n",
       "  </thead>\n",
       "  <tbody>\n",
       "    <tr>\n",
       "      <th>0</th>\n",
       "      <td>England</td>\n",
       "      <td>1662</td>\n",
       "    </tr>\n",
       "    <tr>\n",
       "      <th>1</th>\n",
       "      <td>Germany</td>\n",
       "      <td>1198</td>\n",
       "    </tr>\n",
       "    <tr>\n",
       "      <th>2</th>\n",
       "      <td>Spain</td>\n",
       "      <td>1072</td>\n",
       "    </tr>\n",
       "    <tr>\n",
       "      <th>3</th>\n",
       "      <td>Argentina</td>\n",
       "      <td>937</td>\n",
       "    </tr>\n",
       "    <tr>\n",
       "      <th>4</th>\n",
       "      <td>France</td>\n",
       "      <td>914</td>\n",
       "    </tr>\n",
       "    <tr>\n",
       "      <th>...</th>\n",
       "      <td>...</td>\n",
       "      <td>...</td>\n",
       "    </tr>\n",
       "    <tr>\n",
       "      <th>159</th>\n",
       "      <td>Indonesia</td>\n",
       "      <td>1</td>\n",
       "    </tr>\n",
       "    <tr>\n",
       "      <th>160</th>\n",
       "      <td>Guam</td>\n",
       "      <td>1</td>\n",
       "    </tr>\n",
       "    <tr>\n",
       "      <th>161</th>\n",
       "      <td>St Lucia</td>\n",
       "      <td>1</td>\n",
       "    </tr>\n",
       "    <tr>\n",
       "      <th>162</th>\n",
       "      <td>Grenada</td>\n",
       "      <td>1</td>\n",
       "    </tr>\n",
       "    <tr>\n",
       "      <th>163</th>\n",
       "      <td>Jordan</td>\n",
       "      <td>1</td>\n",
       "    </tr>\n",
       "  </tbody>\n",
       "</table>\n",
       "<p>164 rows × 2 columns</p>\n",
       "</div>"
      ],
      "text/plain": [
       "    nationality  players\n",
       "0       England     1662\n",
       "1       Germany     1198\n",
       "2         Spain     1072\n",
       "3     Argentina      937\n",
       "4        France      914\n",
       "..          ...      ...\n",
       "159   Indonesia        1\n",
       "160        Guam        1\n",
       "161    St Lucia        1\n",
       "162     Grenada        1\n",
       "163      Jordan        1\n",
       "\n",
       "[164 rows x 2 columns]"
      ]
     },
     "execution_count": 14,
     "metadata": {},
     "output_type": "execute_result"
    }
   ],
   "source": [
    "# 7. Qual a distribuição do número de jogadores por países? Apresente uma tabela com a distribuição.\n",
    "\n",
    "pd.DataFrame(df_fifa.groupby(by=['nationality']).size(), columns=['players'] ).sort_values(by='players', ascending=False).reset_index()"
   ]
  },
  {
   "cell_type": "code",
   "execution_count": 15,
   "metadata": {},
   "outputs": [
    {
     "data": {
      "text/html": [
       "<div>\n",
       "<style scoped>\n",
       "    .dataframe tbody tr th:only-of-type {\n",
       "        vertical-align: middle;\n",
       "    }\n",
       "\n",
       "    .dataframe tbody tr th {\n",
       "        vertical-align: top;\n",
       "    }\n",
       "\n",
       "    .dataframe thead th {\n",
       "        text-align: right;\n",
       "    }\n",
       "</style>\n",
       "<table border=\"1\" class=\"dataframe\">\n",
       "  <thead>\n",
       "    <tr style=\"text-align: right;\">\n",
       "      <th></th>\n",
       "      <th>nationality</th>\n",
       "      <th>age</th>\n",
       "    </tr>\n",
       "  </thead>\n",
       "  <tbody>\n",
       "    <tr>\n",
       "      <th>0</th>\n",
       "      <td>Oman</td>\n",
       "      <td>36.00</td>\n",
       "    </tr>\n",
       "    <tr>\n",
       "      <th>1</th>\n",
       "      <td>Puerto Rico</td>\n",
       "      <td>34.00</td>\n",
       "    </tr>\n",
       "    <tr>\n",
       "      <th>2</th>\n",
       "      <td>Ethiopia</td>\n",
       "      <td>32.00</td>\n",
       "    </tr>\n",
       "    <tr>\n",
       "      <th>3</th>\n",
       "      <td>Trinidad &amp; Tobago</td>\n",
       "      <td>31.75</td>\n",
       "    </tr>\n",
       "    <tr>\n",
       "      <th>4</th>\n",
       "      <td>Kuwait</td>\n",
       "      <td>31.00</td>\n",
       "    </tr>\n",
       "    <tr>\n",
       "      <th>...</th>\n",
       "      <td>...</td>\n",
       "      <td>...</td>\n",
       "    </tr>\n",
       "    <tr>\n",
       "      <th>159</th>\n",
       "      <td>Zambia</td>\n",
       "      <td>22.22</td>\n",
       "    </tr>\n",
       "    <tr>\n",
       "      <th>160</th>\n",
       "      <td>Tanzania</td>\n",
       "      <td>22.00</td>\n",
       "    </tr>\n",
       "    <tr>\n",
       "      <th>161</th>\n",
       "      <td>Rwanda</td>\n",
       "      <td>21.00</td>\n",
       "    </tr>\n",
       "    <tr>\n",
       "      <th>162</th>\n",
       "      <td>Botswana</td>\n",
       "      <td>20.00</td>\n",
       "    </tr>\n",
       "    <tr>\n",
       "      <th>163</th>\n",
       "      <td>Indonesia</td>\n",
       "      <td>17.00</td>\n",
       "    </tr>\n",
       "  </tbody>\n",
       "</table>\n",
       "<p>164 rows × 2 columns</p>\n",
       "</div>"
      ],
      "text/plain": [
       "           nationality   age\n",
       "0                 Oman 36.00\n",
       "1          Puerto Rico 34.00\n",
       "2             Ethiopia 32.00\n",
       "3    Trinidad & Tobago 31.75\n",
       "4               Kuwait 31.00\n",
       "..                 ...   ...\n",
       "159             Zambia 22.22\n",
       "160           Tanzania 22.00\n",
       "161             Rwanda 21.00\n",
       "162           Botswana 20.00\n",
       "163          Indonesia 17.00\n",
       "\n",
       "[164 rows x 2 columns]"
      ]
     },
     "execution_count": 15,
     "metadata": {},
     "output_type": "execute_result"
    }
   ],
   "source": [
    "# 8. Qual a média de idade dos jogadores por países (variável/atributo 'Nacionality');\n",
    "\n",
    "pd.DataFrame(df_fifa.groupby(by=['nationality'])['age'].mean(), columns=['age'] ).sort_values(by='age', ascending=False).reset_index()"
   ]
  },
  {
   "cell_type": "code",
   "execution_count": 16,
   "metadata": {},
   "outputs": [
    {
     "data": {
      "text/html": [
       "<div>\n",
       "<style scoped>\n",
       "    .dataframe tbody tr th:only-of-type {\n",
       "        vertical-align: middle;\n",
       "    }\n",
       "\n",
       "    .dataframe tbody tr th {\n",
       "        vertical-align: top;\n",
       "    }\n",
       "\n",
       "    .dataframe thead th {\n",
       "        text-align: right;\n",
       "    }\n",
       "</style>\n",
       "<table border=\"1\" class=\"dataframe\">\n",
       "  <thead>\n",
       "    <tr style=\"text-align: right;\">\n",
       "      <th></th>\n",
       "      <th>age</th>\n",
       "      <th>players</th>\n",
       "    </tr>\n",
       "  </thead>\n",
       "  <tbody>\n",
       "    <tr>\n",
       "      <th>5</th>\n",
       "      <td>21</td>\n",
       "      <td>1423</td>\n",
       "    </tr>\n",
       "    <tr>\n",
       "      <th>10</th>\n",
       "      <td>26</td>\n",
       "      <td>1387</td>\n",
       "    </tr>\n",
       "    <tr>\n",
       "      <th>8</th>\n",
       "      <td>24</td>\n",
       "      <td>1358</td>\n",
       "    </tr>\n",
       "    <tr>\n",
       "      <th>6</th>\n",
       "      <td>22</td>\n",
       "      <td>1340</td>\n",
       "    </tr>\n",
       "    <tr>\n",
       "      <th>7</th>\n",
       "      <td>23</td>\n",
       "      <td>1332</td>\n",
       "    </tr>\n",
       "    <tr>\n",
       "      <th>...</th>\n",
       "      <td>...</td>\n",
       "      <td>...</td>\n",
       "    </tr>\n",
       "    <tr>\n",
       "      <th>24</th>\n",
       "      <td>40</td>\n",
       "      <td>13</td>\n",
       "    </tr>\n",
       "    <tr>\n",
       "      <th>25</th>\n",
       "      <td>41</td>\n",
       "      <td>5</td>\n",
       "    </tr>\n",
       "    <tr>\n",
       "      <th>27</th>\n",
       "      <td>44</td>\n",
       "      <td>2</td>\n",
       "    </tr>\n",
       "    <tr>\n",
       "      <th>26</th>\n",
       "      <td>42</td>\n",
       "      <td>1</td>\n",
       "    </tr>\n",
       "    <tr>\n",
       "      <th>28</th>\n",
       "      <td>45</td>\n",
       "      <td>1</td>\n",
       "    </tr>\n",
       "  </tbody>\n",
       "</table>\n",
       "<p>29 rows × 2 columns</p>\n",
       "</div>"
      ],
      "text/plain": [
       "    age  players\n",
       "5    21     1423\n",
       "10   26     1387\n",
       "8    24     1358\n",
       "6    22     1340\n",
       "7    23     1332\n",
       "..  ...      ...\n",
       "24   40       13\n",
       "25   41        5\n",
       "27   44        2\n",
       "26   42        1\n",
       "28   45        1\n",
       "\n",
       "[29 rows x 2 columns]"
      ]
     },
     "execution_count": 16,
     "metadata": {},
     "output_type": "execute_result"
    }
   ],
   "source": [
    "# 9. Qual a número de jogadores por idade?\n",
    "\n",
    "pd.DataFrame(df_fifa.groupby(by=['age']).size(), columns=['players'] ).reset_index().sort_values(by='players', ascending=False)"
   ]
  },
  {
   "cell_type": "code",
   "execution_count": 17,
   "metadata": {},
   "outputs": [
    {
     "data": {
      "text/html": [
       "<div>\n",
       "<style scoped>\n",
       "    .dataframe tbody tr th:only-of-type {\n",
       "        vertical-align: middle;\n",
       "    }\n",
       "\n",
       "    .dataframe tbody tr th {\n",
       "        vertical-align: top;\n",
       "    }\n",
       "\n",
       "    .dataframe thead th {\n",
       "        text-align: right;\n",
       "    }\n",
       "</style>\n",
       "<table border=\"1\" class=\"dataframe\">\n",
       "  <thead>\n",
       "    <tr style=\"text-align: right;\">\n",
       "      <th></th>\n",
       "      <th>club</th>\n",
       "      <th>players</th>\n",
       "    </tr>\n",
       "  </thead>\n",
       "  <tbody>\n",
       "    <tr>\n",
       "      <th>86</th>\n",
       "      <td>Borussia Dortmund</td>\n",
       "      <td>33</td>\n",
       "    </tr>\n",
       "    <tr>\n",
       "      <th>583</th>\n",
       "      <td>Tottenham Hotspur</td>\n",
       "      <td>33</td>\n",
       "    </tr>\n",
       "    <tr>\n",
       "      <th>134</th>\n",
       "      <td>Chelsea</td>\n",
       "      <td>33</td>\n",
       "    </tr>\n",
       "    <tr>\n",
       "      <th>605</th>\n",
       "      <td>Valencia CF</td>\n",
       "      <td>33</td>\n",
       "    </tr>\n",
       "    <tr>\n",
       "      <th>206</th>\n",
       "      <td>Everton</td>\n",
       "      <td>33</td>\n",
       "    </tr>\n",
       "    <tr>\n",
       "      <th>...</th>\n",
       "      <td>...</td>\n",
       "      <td>...</td>\n",
       "    </tr>\n",
       "    <tr>\n",
       "      <th>254</th>\n",
       "      <td>Fluminense</td>\n",
       "      <td>20</td>\n",
       "    </tr>\n",
       "    <tr>\n",
       "      <th>88</th>\n",
       "      <td>Botafogo</td>\n",
       "      <td>20</td>\n",
       "    </tr>\n",
       "    <tr>\n",
       "      <th>361</th>\n",
       "      <td>Limerick FC</td>\n",
       "      <td>19</td>\n",
       "    </tr>\n",
       "    <tr>\n",
       "      <th>543</th>\n",
       "      <td>Sligo Rovers</td>\n",
       "      <td>19</td>\n",
       "    </tr>\n",
       "    <tr>\n",
       "      <th>188</th>\n",
       "      <td>Derry City</td>\n",
       "      <td>18</td>\n",
       "    </tr>\n",
       "  </tbody>\n",
       "</table>\n",
       "<p>651 rows × 2 columns</p>\n",
       "</div>"
      ],
      "text/plain": [
       "                  club  players\n",
       "86   Borussia Dortmund       33\n",
       "583  Tottenham Hotspur       33\n",
       "134            Chelsea       33\n",
       "605        Valencia CF       33\n",
       "206            Everton       33\n",
       "..                 ...      ...\n",
       "254         Fluminense       20\n",
       "88            Botafogo       20\n",
       "361        Limerick FC       19\n",
       "543       Sligo Rovers       19\n",
       "188         Derry City       18\n",
       "\n",
       "[651 rows x 2 columns]"
      ]
     },
     "execution_count": 17,
     "metadata": {},
     "output_type": "execute_result"
    }
   ],
   "source": [
    "# 10. Quantos jogadores possuem cada clube?\n",
    "\n",
    "pd.DataFrame(df_fifa.groupby(by=['club']).size(), columns=['players'] ).reset_index().sort_values(by='players', ascending=False)"
   ]
  },
  {
   "cell_type": "code",
   "execution_count": 18,
   "metadata": {},
   "outputs": [
    {
     "data": {
      "text/html": [
       "<div>\n",
       "<style scoped>\n",
       "    .dataframe tbody tr th:only-of-type {\n",
       "        vertical-align: middle;\n",
       "    }\n",
       "\n",
       "    .dataframe tbody tr th {\n",
       "        vertical-align: top;\n",
       "    }\n",
       "\n",
       "    .dataframe thead th {\n",
       "        text-align: right;\n",
       "    }\n",
       "</style>\n",
       "<table border=\"1\" class=\"dataframe\">\n",
       "  <thead>\n",
       "    <tr style=\"text-align: right;\">\n",
       "      <th></th>\n",
       "      <th>club</th>\n",
       "      <th>age</th>\n",
       "    </tr>\n",
       "  </thead>\n",
       "  <tbody>\n",
       "    <tr>\n",
       "      <th>433</th>\n",
       "      <td>Paraná</td>\n",
       "      <td>31.60</td>\n",
       "    </tr>\n",
       "    <tr>\n",
       "      <th>168</th>\n",
       "      <td>Cruzeiro</td>\n",
       "      <td>30.60</td>\n",
       "    </tr>\n",
       "    <tr>\n",
       "      <th>64</th>\n",
       "      <td>Atlético Paranaense</td>\n",
       "      <td>30.40</td>\n",
       "    </tr>\n",
       "    <tr>\n",
       "      <th>88</th>\n",
       "      <td>Botafogo</td>\n",
       "      <td>30.40</td>\n",
       "    </tr>\n",
       "    <tr>\n",
       "      <th>132</th>\n",
       "      <td>Chapecoense</td>\n",
       "      <td>30.40</td>\n",
       "    </tr>\n",
       "    <tr>\n",
       "      <th>...</th>\n",
       "      <td>...</td>\n",
       "      <td>...</td>\n",
       "    </tr>\n",
       "    <tr>\n",
       "      <th>210</th>\n",
       "      <td>FC Admira Wacker Mödling</td>\n",
       "      <td>21.93</td>\n",
       "    </tr>\n",
       "    <tr>\n",
       "      <th>237</th>\n",
       "      <td>FC Sochaux-Montbéliard</td>\n",
       "      <td>21.68</td>\n",
       "    </tr>\n",
       "    <tr>\n",
       "      <th>83</th>\n",
       "      <td>Bohemian FC</td>\n",
       "      <td>21.48</td>\n",
       "    </tr>\n",
       "    <tr>\n",
       "      <th>221</th>\n",
       "      <td>FC Groningen</td>\n",
       "      <td>21.42</td>\n",
       "    </tr>\n",
       "    <tr>\n",
       "      <th>231</th>\n",
       "      <td>FC Nordsjælland</td>\n",
       "      <td>20.26</td>\n",
       "    </tr>\n",
       "  </tbody>\n",
       "</table>\n",
       "<p>651 rows × 2 columns</p>\n",
       "</div>"
      ],
      "text/plain": [
       "                         club   age\n",
       "433                    Paraná 31.60\n",
       "168                  Cruzeiro 30.60\n",
       "64        Atlético Paranaense 30.40\n",
       "88                   Botafogo 30.40\n",
       "132               Chapecoense 30.40\n",
       "..                        ...   ...\n",
       "210  FC Admira Wacker Mödling 21.93\n",
       "237    FC Sochaux-Montbéliard 21.68\n",
       "83                Bohemian FC 21.48\n",
       "221              FC Groningen 21.42\n",
       "231           FC Nordsjælland 20.26\n",
       "\n",
       "[651 rows x 2 columns]"
      ]
     },
     "execution_count": 18,
     "metadata": {},
     "output_type": "execute_result"
    }
   ],
   "source": [
    "# 11. Qual a média de idade por clube?\n",
    "\n",
    "pd.DataFrame(df_fifa.groupby(by=['club'])['age'].mean(), columns=['age'] ).reset_index().sort_values(by='age', ascending=False)"
   ]
  },
  {
   "cell_type": "code",
   "execution_count": 19,
   "metadata": {},
   "outputs": [
    {
     "data": {
      "text/html": [
       "<div>\n",
       "<style scoped>\n",
       "    .dataframe tbody tr th:only-of-type {\n",
       "        vertical-align: middle;\n",
       "    }\n",
       "\n",
       "    .dataframe tbody tr th {\n",
       "        vertical-align: top;\n",
       "    }\n",
       "\n",
       "    .dataframe thead th {\n",
       "        text-align: right;\n",
       "    }\n",
       "</style>\n",
       "<table border=\"1\" class=\"dataframe\">\n",
       "  <thead>\n",
       "    <tr style=\"text-align: right;\">\n",
       "      <th></th>\n",
       "      <th>nationality</th>\n",
       "      <th>wage</th>\n",
       "    </tr>\n",
       "  </thead>\n",
       "  <tbody>\n",
       "    <tr>\n",
       "      <th>0</th>\n",
       "      <td>Dominican Republic</td>\n",
       "      <td>71000.00</td>\n",
       "    </tr>\n",
       "    <tr>\n",
       "      <th>1</th>\n",
       "      <td>United Arab Emirates</td>\n",
       "      <td>39000.00</td>\n",
       "    </tr>\n",
       "    <tr>\n",
       "      <th>2</th>\n",
       "      <td>Gabon</td>\n",
       "      <td>26933.33</td>\n",
       "    </tr>\n",
       "    <tr>\n",
       "      <th>3</th>\n",
       "      <td>Armenia</td>\n",
       "      <td>22000.00</td>\n",
       "    </tr>\n",
       "    <tr>\n",
       "      <th>4</th>\n",
       "      <td>Croatia</td>\n",
       "      <td>21682.54</td>\n",
       "    </tr>\n",
       "    <tr>\n",
       "      <th>...</th>\n",
       "      <td>...</td>\n",
       "      <td>...</td>\n",
       "    </tr>\n",
       "    <tr>\n",
       "      <th>45</th>\n",
       "      <td>Cameroon</td>\n",
       "      <td>10966.67</td>\n",
       "    </tr>\n",
       "    <tr>\n",
       "      <th>46</th>\n",
       "      <td>Mali</td>\n",
       "      <td>10674.42</td>\n",
       "    </tr>\n",
       "    <tr>\n",
       "      <th>47</th>\n",
       "      <td>Burundi</td>\n",
       "      <td>10666.67</td>\n",
       "    </tr>\n",
       "    <tr>\n",
       "      <th>48</th>\n",
       "      <td>Turkey</td>\n",
       "      <td>10442.24</td>\n",
       "    </tr>\n",
       "    <tr>\n",
       "      <th>49</th>\n",
       "      <td>Switzerland</td>\n",
       "      <td>10154.55</td>\n",
       "    </tr>\n",
       "  </tbody>\n",
       "</table>\n",
       "<p>50 rows × 2 columns</p>\n",
       "</div>"
      ],
      "text/plain": [
       "             nationality     wage\n",
       "0     Dominican Republic 71000.00\n",
       "1   United Arab Emirates 39000.00\n",
       "2                  Gabon 26933.33\n",
       "3                Armenia 22000.00\n",
       "4                Croatia 21682.54\n",
       "..                   ...      ...\n",
       "45              Cameroon 10966.67\n",
       "46                  Mali 10674.42\n",
       "47               Burundi 10666.67\n",
       "48                Turkey 10442.24\n",
       "49           Switzerland 10154.55\n",
       "\n",
       "[50 rows x 2 columns]"
      ]
     },
     "execution_count": 19,
     "metadata": {},
     "output_type": "execute_result"
    }
   ],
   "source": [
    "# 12. Qual a média de salário por país?\n",
    "\n",
    "pd.DataFrame(df_fifa.groupby(by=['nationality'])['wage'].mean(), columns=['wage'] ).sort_values(by='wage', ascending=False).reset_index().head(50)"
   ]
  },
  {
   "cell_type": "code",
   "execution_count": 20,
   "metadata": {},
   "outputs": [
    {
     "data": {
      "text/html": [
       "<div>\n",
       "<style scoped>\n",
       "    .dataframe tbody tr th:only-of-type {\n",
       "        vertical-align: middle;\n",
       "    }\n",
       "\n",
       "    .dataframe tbody tr th {\n",
       "        vertical-align: top;\n",
       "    }\n",
       "\n",
       "    .dataframe thead th {\n",
       "        text-align: right;\n",
       "    }\n",
       "</style>\n",
       "<table border=\"1\" class=\"dataframe\">\n",
       "  <thead>\n",
       "    <tr style=\"text-align: right;\">\n",
       "      <th></th>\n",
       "      <th>club</th>\n",
       "      <th>wage</th>\n",
       "    </tr>\n",
       "  </thead>\n",
       "  <tbody>\n",
       "    <tr>\n",
       "      <th>0</th>\n",
       "      <td>Real Madrid</td>\n",
       "      <td>152030.30</td>\n",
       "    </tr>\n",
       "    <tr>\n",
       "      <th>1</th>\n",
       "      <td>FC Barcelona</td>\n",
       "      <td>146575.76</td>\n",
       "    </tr>\n",
       "    <tr>\n",
       "      <th>2</th>\n",
       "      <td>Juventus</td>\n",
       "      <td>131680.00</td>\n",
       "    </tr>\n",
       "    <tr>\n",
       "      <th>3</th>\n",
       "      <td>Manchester City</td>\n",
       "      <td>113363.64</td>\n",
       "    </tr>\n",
       "    <tr>\n",
       "      <th>4</th>\n",
       "      <td>Manchester United</td>\n",
       "      <td>102757.58</td>\n",
       "    </tr>\n",
       "    <tr>\n",
       "      <th>...</th>\n",
       "      <td>...</td>\n",
       "      <td>...</td>\n",
       "    </tr>\n",
       "    <tr>\n",
       "      <th>646</th>\n",
       "      <td>PFC CSKA Moscow</td>\n",
       "      <td>1000.00</td>\n",
       "    </tr>\n",
       "    <tr>\n",
       "      <th>647</th>\n",
       "      <td>Bray Wanderers</td>\n",
       "      <td>1000.00</td>\n",
       "    </tr>\n",
       "    <tr>\n",
       "      <th>648</th>\n",
       "      <td>IF Brommapojkarna</td>\n",
       "      <td>1000.00</td>\n",
       "    </tr>\n",
       "    <tr>\n",
       "      <th>649</th>\n",
       "      <td>Boyacá Chicó FC</td>\n",
       "      <td>1000.00</td>\n",
       "    </tr>\n",
       "    <tr>\n",
       "      <th>650</th>\n",
       "      <td>SK Slavia Praha</td>\n",
       "      <td>1000.00</td>\n",
       "    </tr>\n",
       "  </tbody>\n",
       "</table>\n",
       "<p>651 rows × 2 columns</p>\n",
       "</div>"
      ],
      "text/plain": [
       "                  club      wage\n",
       "0          Real Madrid 152030.30\n",
       "1         FC Barcelona 146575.76\n",
       "2             Juventus 131680.00\n",
       "3      Manchester City 113363.64\n",
       "4    Manchester United 102757.58\n",
       "..                 ...       ...\n",
       "646    PFC CSKA Moscow   1000.00\n",
       "647     Bray Wanderers   1000.00\n",
       "648  IF Brommapojkarna   1000.00\n",
       "649    Boyacá Chicó FC   1000.00\n",
       "650    SK Slavia Praha   1000.00\n",
       "\n",
       "[651 rows x 2 columns]"
      ]
     },
     "execution_count": 20,
     "metadata": {},
     "output_type": "execute_result"
    }
   ],
   "source": [
    "# 13. Qual a média de salário por clube?\n",
    "\n",
    "pd.DataFrame(df_fifa.groupby(by=['club'])['wage'].mean(), columns=['wage']).sort_values(by='wage', ascending=False).reset_index()"
   ]
  },
  {
   "cell_type": "code",
   "execution_count": 21,
   "metadata": {},
   "outputs": [
    {
     "data": {
      "text/html": [
       "<div>\n",
       "<style scoped>\n",
       "    .dataframe tbody tr th:only-of-type {\n",
       "        vertical-align: middle;\n",
       "    }\n",
       "\n",
       "    .dataframe tbody tr th {\n",
       "        vertical-align: top;\n",
       "    }\n",
       "\n",
       "    .dataframe thead th {\n",
       "        text-align: right;\n",
       "    }\n",
       "</style>\n",
       "<table border=\"1\" class=\"dataframe\">\n",
       "  <thead>\n",
       "    <tr style=\"text-align: right;\">\n",
       "      <th></th>\n",
       "      <th>age</th>\n",
       "      <th>wage</th>\n",
       "    </tr>\n",
       "  </thead>\n",
       "  <tbody>\n",
       "    <tr>\n",
       "      <th>0</th>\n",
       "      <td>31</td>\n",
       "      <td>15977.37</td>\n",
       "    </tr>\n",
       "    <tr>\n",
       "      <th>1</th>\n",
       "      <td>29</td>\n",
       "      <td>14057.35</td>\n",
       "    </tr>\n",
       "    <tr>\n",
       "      <th>2</th>\n",
       "      <td>32</td>\n",
       "      <td>14045.30</td>\n",
       "    </tr>\n",
       "    <tr>\n",
       "      <th>3</th>\n",
       "      <td>28</td>\n",
       "      <td>13917.35</td>\n",
       "    </tr>\n",
       "    <tr>\n",
       "      <th>4</th>\n",
       "      <td>27</td>\n",
       "      <td>13591.22</td>\n",
       "    </tr>\n",
       "    <tr>\n",
       "      <th>...</th>\n",
       "      <td>...</td>\n",
       "      <td>...</td>\n",
       "    </tr>\n",
       "    <tr>\n",
       "      <th>24</th>\n",
       "      <td>17</td>\n",
       "      <td>2141.87</td>\n",
       "    </tr>\n",
       "    <tr>\n",
       "      <th>25</th>\n",
       "      <td>41</td>\n",
       "      <td>2000.00</td>\n",
       "    </tr>\n",
       "    <tr>\n",
       "      <th>26</th>\n",
       "      <td>16</td>\n",
       "      <td>1166.67</td>\n",
       "    </tr>\n",
       "    <tr>\n",
       "      <th>27</th>\n",
       "      <td>42</td>\n",
       "      <td>1000.00</td>\n",
       "    </tr>\n",
       "    <tr>\n",
       "      <th>28</th>\n",
       "      <td>44</td>\n",
       "      <td>1000.00</td>\n",
       "    </tr>\n",
       "  </tbody>\n",
       "</table>\n",
       "<p>29 rows × 2 columns</p>\n",
       "</div>"
      ],
      "text/plain": [
       "    age     wage\n",
       "0    31 15977.37\n",
       "1    29 14057.35\n",
       "2    32 14045.30\n",
       "3    28 13917.35\n",
       "4    27 13591.22\n",
       "..  ...      ...\n",
       "24   17  2141.87\n",
       "25   41  2000.00\n",
       "26   16  1166.67\n",
       "27   42  1000.00\n",
       "28   44  1000.00\n",
       "\n",
       "[29 rows x 2 columns]"
      ]
     },
     "execution_count": 21,
     "metadata": {},
     "output_type": "execute_result"
    }
   ],
   "source": [
    "# 14. Qual a média de salário por idade?\n",
    "\n",
    "pd.DataFrame(df_fifa.groupby(by=['age'])['wage'].mean(), columns=['wage'] ).sort_values(by='wage', ascending=False).reset_index()"
   ]
  },
  {
   "cell_type": "code",
   "execution_count": 22,
   "metadata": {},
   "outputs": [
    {
     "data": {
      "text/html": [
       "<div>\n",
       "<style scoped>\n",
       "    .dataframe tbody tr th:only-of-type {\n",
       "        vertical-align: middle;\n",
       "    }\n",
       "\n",
       "    .dataframe tbody tr th {\n",
       "        vertical-align: top;\n",
       "    }\n",
       "\n",
       "    .dataframe thead th {\n",
       "        text-align: right;\n",
       "    }\n",
       "</style>\n",
       "<table border=\"1\" class=\"dataframe\">\n",
       "  <thead>\n",
       "    <tr style=\"text-align: right;\">\n",
       "      <th></th>\n",
       "      <th>club</th>\n",
       "      <th>wage</th>\n",
       "    </tr>\n",
       "  </thead>\n",
       "  <tbody>\n",
       "    <tr>\n",
       "      <th>0</th>\n",
       "      <td>Real Madrid</td>\n",
       "      <td>5017000.00</td>\n",
       "    </tr>\n",
       "    <tr>\n",
       "      <th>1</th>\n",
       "      <td>FC Barcelona</td>\n",
       "      <td>4837000.00</td>\n",
       "    </tr>\n",
       "    <tr>\n",
       "      <th>2</th>\n",
       "      <td>Manchester City</td>\n",
       "      <td>3741000.00</td>\n",
       "    </tr>\n",
       "    <tr>\n",
       "      <th>3</th>\n",
       "      <td>Manchester United</td>\n",
       "      <td>3391000.00</td>\n",
       "    </tr>\n",
       "    <tr>\n",
       "      <th>4</th>\n",
       "      <td>Juventus</td>\n",
       "      <td>3292000.00</td>\n",
       "    </tr>\n",
       "    <tr>\n",
       "      <th>...</th>\n",
       "      <td>...</td>\n",
       "      <td>...</td>\n",
       "    </tr>\n",
       "    <tr>\n",
       "      <th>646</th>\n",
       "      <td>Shamrock Rovers</td>\n",
       "      <td>22000.00</td>\n",
       "    </tr>\n",
       "    <tr>\n",
       "      <th>647</th>\n",
       "      <td>Dalkurd FF</td>\n",
       "      <td>22000.00</td>\n",
       "    </tr>\n",
       "    <tr>\n",
       "      <th>648</th>\n",
       "      <td>Limerick FC</td>\n",
       "      <td>19000.00</td>\n",
       "    </tr>\n",
       "    <tr>\n",
       "      <th>649</th>\n",
       "      <td>Derry City</td>\n",
       "      <td>19000.00</td>\n",
       "    </tr>\n",
       "    <tr>\n",
       "      <th>650</th>\n",
       "      <td>Sligo Rovers</td>\n",
       "      <td>19000.00</td>\n",
       "    </tr>\n",
       "  </tbody>\n",
       "</table>\n",
       "<p>651 rows × 2 columns</p>\n",
       "</div>"
      ],
      "text/plain": [
       "                  club       wage\n",
       "0          Real Madrid 5017000.00\n",
       "1         FC Barcelona 4837000.00\n",
       "2      Manchester City 3741000.00\n",
       "3    Manchester United 3391000.00\n",
       "4             Juventus 3292000.00\n",
       "..                 ...        ...\n",
       "646    Shamrock Rovers   22000.00\n",
       "647         Dalkurd FF   22000.00\n",
       "648        Limerick FC   19000.00\n",
       "649         Derry City   19000.00\n",
       "650       Sligo Rovers   19000.00\n",
       "\n",
       "[651 rows x 2 columns]"
      ]
     },
     "execution_count": 22,
     "metadata": {},
     "output_type": "execute_result"
    }
   ],
   "source": [
    "# 15. Quanto cada clube gasta com pagamento de salários?\n",
    "\n",
    "pd.DataFrame(df_fifa.groupby(by=['club'])['wage'].sum(), columns=['wage'] ).sort_values(by='wage', ascending=False).reset_index()"
   ]
  },
  {
   "cell_type": "code",
   "execution_count": 23,
   "metadata": {},
   "outputs": [
    {
     "data": {
      "text/plain": [
       "<AxesSubplot:>"
      ]
     },
     "execution_count": 23,
     "metadata": {},
     "output_type": "execute_result"
    },
    {
     "data": {
      "image/png": "[encoded data removed]",
      "text/plain": [
       "<Figure size 432x288 with 2 Axes>"
      ]
     },
     "metadata": {
      "needs_background": "light"
     },
     "output_type": "display_data"
    }
   ],
   "source": [
    "# 16. Quais são os insight (o que você consegue descobrir) em relação à variável 'Potential' (mede o potencial dos jogadores)?\n",
    "\n",
    "import seaborn as sns\n",
    "\n",
    "correlation_matrix = df_fifa[['potential', 'overall', 'wage', 'value']].corr()\n",
    "\n",
    "sns.heatmap(correlation_matrix, \n",
    "            xticklabels=correlation_matrix.columns.values,\n",
    "            yticklabels=correlation_matrix.columns.values)"
   ]
  },
  {
   "cell_type": "code",
   "execution_count": 24,
   "metadata": {},
   "outputs": [],
   "source": [
    "# 17. Quais os insights em relação à variável overall (nota média do atleta) por idade, clube e país?\n",
    "\n"
   ]
  },
  {
   "cell_type": "code",
   "execution_count": 25,
   "metadata": {},
   "outputs": [
    {
     "data": {
      "text/html": [
       "<div>\n",
       "<style scoped>\n",
       "    .dataframe tbody tr th:only-of-type {\n",
       "        vertical-align: middle;\n",
       "    }\n",
       "\n",
       "    .dataframe tbody tr th {\n",
       "        vertical-align: top;\n",
       "    }\n",
       "\n",
       "    .dataframe thead th {\n",
       "        text-align: right;\n",
       "    }\n",
       "</style>\n",
       "<table border=\"1\" class=\"dataframe\">\n",
       "  <thead>\n",
       "    <tr style=\"text-align: right;\">\n",
       "      <th></th>\n",
       "      <th>club</th>\n",
       "      <th>total_score</th>\n",
       "    </tr>\n",
       "  </thead>\n",
       "  <tbody>\n",
       "    <tr>\n",
       "      <th>0</th>\n",
       "      <td>FC Barcelona</td>\n",
       "      <td>5390</td>\n",
       "    </tr>\n",
       "    <tr>\n",
       "      <th>1</th>\n",
       "      <td>Real Madrid</td>\n",
       "      <td>5375</td>\n",
       "    </tr>\n",
       "    <tr>\n",
       "      <th>2</th>\n",
       "      <td>Manchester City</td>\n",
       "      <td>5301</td>\n",
       "    </tr>\n",
       "    <tr>\n",
       "      <th>3</th>\n",
       "      <td>Manchester United</td>\n",
       "      <td>5277</td>\n",
       "    </tr>\n",
       "    <tr>\n",
       "      <th>4</th>\n",
       "      <td>Chelsea</td>\n",
       "      <td>5261</td>\n",
       "    </tr>\n",
       "    <tr>\n",
       "      <th>5</th>\n",
       "      <td>Tottenham Hotspur</td>\n",
       "      <td>5239</td>\n",
       "    </tr>\n",
       "    <tr>\n",
       "      <th>6</th>\n",
       "      <td>Liverpool</td>\n",
       "      <td>5227</td>\n",
       "    </tr>\n",
       "    <tr>\n",
       "      <th>7</th>\n",
       "      <td>Borussia Dortmund</td>\n",
       "      <td>5205</td>\n",
       "    </tr>\n",
       "    <tr>\n",
       "      <th>8</th>\n",
       "      <td>Atlético Madrid</td>\n",
       "      <td>5198</td>\n",
       "    </tr>\n",
       "    <tr>\n",
       "      <th>9</th>\n",
       "      <td>Arsenal</td>\n",
       "      <td>5167</td>\n",
       "    </tr>\n",
       "  </tbody>\n",
       "</table>\n",
       "<p>10 rows × 2 columns</p>\n",
       "</div>"
      ],
      "text/plain": [
       "                club  total_score\n",
       "0       FC Barcelona         5390\n",
       "1        Real Madrid         5375\n",
       "2    Manchester City         5301\n",
       "3  Manchester United         5277\n",
       "4            Chelsea         5261\n",
       "5  Tottenham Hotspur         5239\n",
       "6          Liverpool         5227\n",
       "7  Borussia Dortmund         5205\n",
       "8    Atlético Madrid         5198\n",
       "9            Arsenal         5167\n",
       "\n",
       "[10 rows x 2 columns]"
      ]
     },
     "execution_count": 25,
     "metadata": {},
     "output_type": "execute_result"
    }
   ],
   "source": [
    "# 18. Quais são os melhores clubes se levarmos em consideração as variáveis Potential e Overall?\n",
    "\n",
    "df_fifa['total_score'] = df_fifa['potential'] + df_fifa['overall']\n",
    "\n",
    "pd.DataFrame(df_fifa.groupby(by=['club'])['total_score'].sum(), columns=['total_score'] ).sort_values(by='total_score', ascending=False).reset_index().head(10)"
   ]
  },
  {
   "cell_type": "code",
   "execution_count": 26,
   "metadata": {},
   "outputs": [
    {
     "name": "stderr",
     "output_type": "stream",
     "text": [
      "f:\\leon\\venvs\\ml\\lib\\site-packages\\ipykernel_launcher.py:4: SettingWithCopyWarning: \n",
      "A value is trying to be set on a copy of a slice from a DataFrame.\n",
      "Try using .loc[row_indexer,col_indexer] = value instead\n",
      "\n",
      "See the caveats in the documentation: https://pandas.pydata.org/pandas-docs/stable/user_guide/indexing.html#returning-a-view-versus-a-copy\n",
      "  after removing the cwd from sys.path.\n"
     ]
    },
    {
     "data": {
      "text/html": [
       "<div>\n",
       "<style scoped>\n",
       "    .dataframe tbody tr th:only-of-type {\n",
       "        vertical-align: middle;\n",
       "    }\n",
       "\n",
       "    .dataframe tbody tr th {\n",
       "        vertical-align: top;\n",
       "    }\n",
       "\n",
       "    .dataframe thead th {\n",
       "        text-align: right;\n",
       "    }\n",
       "</style>\n",
       "<table border=\"1\" class=\"dataframe\">\n",
       "  <thead>\n",
       "    <tr style=\"text-align: right;\">\n",
       "      <th></th>\n",
       "      <th>name</th>\n",
       "      <th>age</th>\n",
       "      <th>nationality</th>\n",
       "      <th>overall</th>\n",
       "      <th>potential</th>\n",
       "      <th>club</th>\n",
       "      <th>value</th>\n",
       "      <th>wage</th>\n",
       "      <th>special</th>\n",
       "      <th>preferred foot</th>\n",
       "      <th>international reputation</th>\n",
       "      <th>weak foot</th>\n",
       "      <th>skill moves</th>\n",
       "      <th>work rate</th>\n",
       "      <th>body type</th>\n",
       "      <th>position</th>\n",
       "      <th>jersey number</th>\n",
       "      <th>joined</th>\n",
       "      <th>loaned from</th>\n",
       "      <th>contract valid until</th>\n",
       "      <th>height</th>\n",
       "      <th>weight</th>\n",
       "      <th>ls</th>\n",
       "      <th>st</th>\n",
       "      <th>rs</th>\n",
       "      <th>lw</th>\n",
       "      <th>lf</th>\n",
       "      <th>cf</th>\n",
       "      <th>rf</th>\n",
       "      <th>rw</th>\n",
       "      <th>lam</th>\n",
       "      <th>cam</th>\n",
       "      <th>ram</th>\n",
       "      <th>lm</th>\n",
       "      <th>lcm</th>\n",
       "      <th>cm</th>\n",
       "      <th>rcm</th>\n",
       "      <th>rm</th>\n",
       "      <th>lwb</th>\n",
       "      <th>ldm</th>\n",
       "      <th>cdm</th>\n",
       "      <th>rdm</th>\n",
       "      <th>rwb</th>\n",
       "      <th>lb</th>\n",
       "      <th>lcb</th>\n",
       "      <th>cb</th>\n",
       "      <th>rcb</th>\n",
       "      <th>rb</th>\n",
       "      <th>crossing</th>\n",
       "      <th>finishing</th>\n",
       "      <th>headingaccuracy</th>\n",
       "      <th>shortpassing</th>\n",
       "      <th>volleys</th>\n",
       "      <th>dribbling</th>\n",
       "      <th>curve</th>\n",
       "      <th>fkaccuracy</th>\n",
       "      <th>longpassing</th>\n",
       "      <th>ballcontrol</th>\n",
       "      <th>acceleration</th>\n",
       "      <th>sprintspeed</th>\n",
       "      <th>agility</th>\n",
       "      <th>reactions</th>\n",
       "      <th>balance</th>\n",
       "      <th>shotpower</th>\n",
       "      <th>jumping</th>\n",
       "      <th>stamina</th>\n",
       "      <th>strength</th>\n",
       "      <th>longshots</th>\n",
       "      <th>aggression</th>\n",
       "      <th>interceptions</th>\n",
       "      <th>positioning</th>\n",
       "      <th>vision</th>\n",
       "      <th>penalties</th>\n",
       "      <th>composure</th>\n",
       "      <th>marking</th>\n",
       "      <th>standingtackle</th>\n",
       "      <th>slidingtackle</th>\n",
       "      <th>gkdiving</th>\n",
       "      <th>gkhandling</th>\n",
       "      <th>gkkicking</th>\n",
       "      <th>gkpositioning</th>\n",
       "      <th>gkreflexes</th>\n",
       "      <th>release clause</th>\n",
       "      <th>total_score</th>\n",
       "    </tr>\n",
       "    <tr>\n",
       "      <th>ID</th>\n",
       "      <th></th>\n",
       "      <th></th>\n",
       "      <th></th>\n",
       "      <th></th>\n",
       "      <th></th>\n",
       "      <th></th>\n",
       "      <th></th>\n",
       "      <th></th>\n",
       "      <th></th>\n",
       "      <th></th>\n",
       "      <th></th>\n",
       "      <th></th>\n",
       "      <th></th>\n",
       "      <th></th>\n",
       "      <th></th>\n",
       "      <th></th>\n",
       "      <th></th>\n",
       "      <th></th>\n",
       "      <th></th>\n",
       "      <th></th>\n",
       "      <th></th>\n",
       "      <th></th>\n",
       "      <th></th>\n",
       "      <th></th>\n",
       "      <th></th>\n",
       "      <th></th>\n",
       "      <th></th>\n",
       "      <th></th>\n",
       "      <th></th>\n",
       "      <th></th>\n",
       "      <th></th>\n",
       "      <th></th>\n",
       "      <th></th>\n",
       "      <th></th>\n",
       "      <th></th>\n",
       "      <th></th>\n",
       "      <th></th>\n",
       "      <th></th>\n",
       "      <th></th>\n",
       "      <th></th>\n",
       "      <th></th>\n",
       "      <th></th>\n",
       "      <th></th>\n",
       "      <th></th>\n",
       "      <th></th>\n",
       "      <th></th>\n",
       "      <th></th>\n",
       "      <th></th>\n",
       "      <th></th>\n",
       "      <th></th>\n",
       "      <th></th>\n",
       "      <th></th>\n",
       "      <th></th>\n",
       "      <th></th>\n",
       "      <th></th>\n",
       "      <th></th>\n",
       "      <th></th>\n",
       "      <th></th>\n",
       "      <th></th>\n",
       "      <th></th>\n",
       "      <th></th>\n",
       "      <th></th>\n",
       "      <th></th>\n",
       "      <th></th>\n",
       "      <th></th>\n",
       "      <th></th>\n",
       "      <th></th>\n",
       "      <th></th>\n",
       "      <th></th>\n",
       "      <th></th>\n",
       "      <th></th>\n",
       "      <th></th>\n",
       "      <th></th>\n",
       "      <th></th>\n",
       "      <th></th>\n",
       "      <th></th>\n",
       "      <th></th>\n",
       "      <th></th>\n",
       "      <th></th>\n",
       "      <th></th>\n",
       "      <th></th>\n",
       "      <th></th>\n",
       "      <th></th>\n",
       "      <th></th>\n",
       "    </tr>\n",
       "  </thead>\n",
       "  <tbody>\n",
       "    <tr>\n",
       "      <th>193080</th>\n",
       "      <td>De Gea</td>\n",
       "      <td>27</td>\n",
       "      <td>Spain</td>\n",
       "      <td>91</td>\n",
       "      <td>93</td>\n",
       "      <td>Manchester United</td>\n",
       "      <td>72000000.00</td>\n",
       "      <td>260000.00</td>\n",
       "      <td>1471</td>\n",
       "      <td>Right</td>\n",
       "      <td>4.00</td>\n",
       "      <td>3.00</td>\n",
       "      <td>1.00</td>\n",
       "      <td>Medium/ Medium</td>\n",
       "      <td>Lean</td>\n",
       "      <td>GK</td>\n",
       "      <td>1.00</td>\n",
       "      <td>Jul 1, 2011</td>\n",
       "      <td>NaN</td>\n",
       "      <td>2020</td>\n",
       "      <td>1.93</td>\n",
       "      <td>76.20</td>\n",
       "      <td>NaN</td>\n",
       "      <td>NaN</td>\n",
       "      <td>NaN</td>\n",
       "      <td>NaN</td>\n",
       "      <td>NaN</td>\n",
       "      <td>NaN</td>\n",
       "      <td>NaN</td>\n",
       "      <td>NaN</td>\n",
       "      <td>NaN</td>\n",
       "      <td>NaN</td>\n",
       "      <td>NaN</td>\n",
       "      <td>NaN</td>\n",
       "      <td>NaN</td>\n",
       "      <td>NaN</td>\n",
       "      <td>NaN</td>\n",
       "      <td>NaN</td>\n",
       "      <td>NaN</td>\n",
       "      <td>NaN</td>\n",
       "      <td>NaN</td>\n",
       "      <td>NaN</td>\n",
       "      <td>NaN</td>\n",
       "      <td>NaN</td>\n",
       "      <td>NaN</td>\n",
       "      <td>NaN</td>\n",
       "      <td>NaN</td>\n",
       "      <td>NaN</td>\n",
       "      <td>17.00</td>\n",
       "      <td>13.00</td>\n",
       "      <td>21.00</td>\n",
       "      <td>50.00</td>\n",
       "      <td>13.00</td>\n",
       "      <td>18.00</td>\n",
       "      <td>21.00</td>\n",
       "      <td>19.00</td>\n",
       "      <td>51.00</td>\n",
       "      <td>42.00</td>\n",
       "      <td>57.00</td>\n",
       "      <td>58.00</td>\n",
       "      <td>60.00</td>\n",
       "      <td>90.00</td>\n",
       "      <td>43.00</td>\n",
       "      <td>31.00</td>\n",
       "      <td>67.00</td>\n",
       "      <td>43.00</td>\n",
       "      <td>64.00</td>\n",
       "      <td>12.00</td>\n",
       "      <td>38.00</td>\n",
       "      <td>30.00</td>\n",
       "      <td>12.00</td>\n",
       "      <td>68.00</td>\n",
       "      <td>40.00</td>\n",
       "      <td>68.00</td>\n",
       "      <td>15.00</td>\n",
       "      <td>21.00</td>\n",
       "      <td>13.00</td>\n",
       "      <td>90.00</td>\n",
       "      <td>85.00</td>\n",
       "      <td>87.00</td>\n",
       "      <td>88.00</td>\n",
       "      <td>94.00</td>\n",
       "      <td>€138.6M</td>\n",
       "      <td>184</td>\n",
       "    </tr>\n",
       "    <tr>\n",
       "      <th>200389</th>\n",
       "      <td>J. Oblak</td>\n",
       "      <td>25</td>\n",
       "      <td>Slovenia</td>\n",
       "      <td>90</td>\n",
       "      <td>93</td>\n",
       "      <td>Atlético Madrid</td>\n",
       "      <td>68000000.00</td>\n",
       "      <td>94000.00</td>\n",
       "      <td>1331</td>\n",
       "      <td>Right</td>\n",
       "      <td>3.00</td>\n",
       "      <td>3.00</td>\n",
       "      <td>1.00</td>\n",
       "      <td>Medium/ Medium</td>\n",
       "      <td>Normal</td>\n",
       "      <td>GK</td>\n",
       "      <td>1.00</td>\n",
       "      <td>Jul 16, 2014</td>\n",
       "      <td>NaN</td>\n",
       "      <td>2021</td>\n",
       "      <td>1.88</td>\n",
       "      <td>87.09</td>\n",
       "      <td>NaN</td>\n",
       "      <td>NaN</td>\n",
       "      <td>NaN</td>\n",
       "      <td>NaN</td>\n",
       "      <td>NaN</td>\n",
       "      <td>NaN</td>\n",
       "      <td>NaN</td>\n",
       "      <td>NaN</td>\n",
       "      <td>NaN</td>\n",
       "      <td>NaN</td>\n",
       "      <td>NaN</td>\n",
       "      <td>NaN</td>\n",
       "      <td>NaN</td>\n",
       "      <td>NaN</td>\n",
       "      <td>NaN</td>\n",
       "      <td>NaN</td>\n",
       "      <td>NaN</td>\n",
       "      <td>NaN</td>\n",
       "      <td>NaN</td>\n",
       "      <td>NaN</td>\n",
       "      <td>NaN</td>\n",
       "      <td>NaN</td>\n",
       "      <td>NaN</td>\n",
       "      <td>NaN</td>\n",
       "      <td>NaN</td>\n",
       "      <td>NaN</td>\n",
       "      <td>13.00</td>\n",
       "      <td>11.00</td>\n",
       "      <td>15.00</td>\n",
       "      <td>29.00</td>\n",
       "      <td>13.00</td>\n",
       "      <td>12.00</td>\n",
       "      <td>13.00</td>\n",
       "      <td>14.00</td>\n",
       "      <td>26.00</td>\n",
       "      <td>16.00</td>\n",
       "      <td>43.00</td>\n",
       "      <td>60.00</td>\n",
       "      <td>67.00</td>\n",
       "      <td>86.00</td>\n",
       "      <td>49.00</td>\n",
       "      <td>22.00</td>\n",
       "      <td>76.00</td>\n",
       "      <td>41.00</td>\n",
       "      <td>78.00</td>\n",
       "      <td>12.00</td>\n",
       "      <td>34.00</td>\n",
       "      <td>19.00</td>\n",
       "      <td>11.00</td>\n",
       "      <td>70.00</td>\n",
       "      <td>11.00</td>\n",
       "      <td>70.00</td>\n",
       "      <td>27.00</td>\n",
       "      <td>12.00</td>\n",
       "      <td>18.00</td>\n",
       "      <td>86.00</td>\n",
       "      <td>92.00</td>\n",
       "      <td>78.00</td>\n",
       "      <td>88.00</td>\n",
       "      <td>89.00</td>\n",
       "      <td>€144.5M</td>\n",
       "      <td>183</td>\n",
       "    </tr>\n",
       "    <tr>\n",
       "      <th>192448</th>\n",
       "      <td>M. ter Stegen</td>\n",
       "      <td>26</td>\n",
       "      <td>Germany</td>\n",
       "      <td>89</td>\n",
       "      <td>92</td>\n",
       "      <td>FC Barcelona</td>\n",
       "      <td>58000000.00</td>\n",
       "      <td>240000.00</td>\n",
       "      <td>1328</td>\n",
       "      <td>Right</td>\n",
       "      <td>3.00</td>\n",
       "      <td>4.00</td>\n",
       "      <td>1.00</td>\n",
       "      <td>Medium/ Medium</td>\n",
       "      <td>Normal</td>\n",
       "      <td>GK</td>\n",
       "      <td>22.00</td>\n",
       "      <td>Jul 1, 2014</td>\n",
       "      <td>NaN</td>\n",
       "      <td>2022</td>\n",
       "      <td>1.88</td>\n",
       "      <td>84.82</td>\n",
       "      <td>NaN</td>\n",
       "      <td>NaN</td>\n",
       "      <td>NaN</td>\n",
       "      <td>NaN</td>\n",
       "      <td>NaN</td>\n",
       "      <td>NaN</td>\n",
       "      <td>NaN</td>\n",
       "      <td>NaN</td>\n",
       "      <td>NaN</td>\n",
       "      <td>NaN</td>\n",
       "      <td>NaN</td>\n",
       "      <td>NaN</td>\n",
       "      <td>NaN</td>\n",
       "      <td>NaN</td>\n",
       "      <td>NaN</td>\n",
       "      <td>NaN</td>\n",
       "      <td>NaN</td>\n",
       "      <td>NaN</td>\n",
       "      <td>NaN</td>\n",
       "      <td>NaN</td>\n",
       "      <td>NaN</td>\n",
       "      <td>NaN</td>\n",
       "      <td>NaN</td>\n",
       "      <td>NaN</td>\n",
       "      <td>NaN</td>\n",
       "      <td>NaN</td>\n",
       "      <td>15.00</td>\n",
       "      <td>14.00</td>\n",
       "      <td>11.00</td>\n",
       "      <td>36.00</td>\n",
       "      <td>14.00</td>\n",
       "      <td>17.00</td>\n",
       "      <td>18.00</td>\n",
       "      <td>12.00</td>\n",
       "      <td>42.00</td>\n",
       "      <td>18.00</td>\n",
       "      <td>38.00</td>\n",
       "      <td>50.00</td>\n",
       "      <td>37.00</td>\n",
       "      <td>85.00</td>\n",
       "      <td>43.00</td>\n",
       "      <td>22.00</td>\n",
       "      <td>79.00</td>\n",
       "      <td>35.00</td>\n",
       "      <td>79.00</td>\n",
       "      <td>10.00</td>\n",
       "      <td>43.00</td>\n",
       "      <td>22.00</td>\n",
       "      <td>11.00</td>\n",
       "      <td>69.00</td>\n",
       "      <td>25.00</td>\n",
       "      <td>69.00</td>\n",
       "      <td>25.00</td>\n",
       "      <td>13.00</td>\n",
       "      <td>10.00</td>\n",
       "      <td>87.00</td>\n",
       "      <td>85.00</td>\n",
       "      <td>88.00</td>\n",
       "      <td>85.00</td>\n",
       "      <td>90.00</td>\n",
       "      <td>€123.3M</td>\n",
       "      <td>181</td>\n",
       "    </tr>\n",
       "    <tr>\n",
       "      <th>192119</th>\n",
       "      <td>T. Courtois</td>\n",
       "      <td>26</td>\n",
       "      <td>Belgium</td>\n",
       "      <td>89</td>\n",
       "      <td>90</td>\n",
       "      <td>Real Madrid</td>\n",
       "      <td>53500000.00</td>\n",
       "      <td>240000.00</td>\n",
       "      <td>1311</td>\n",
       "      <td>Left</td>\n",
       "      <td>4.00</td>\n",
       "      <td>2.00</td>\n",
       "      <td>1.00</td>\n",
       "      <td>Medium/ Medium</td>\n",
       "      <td>Courtois</td>\n",
       "      <td>GK</td>\n",
       "      <td>1.00</td>\n",
       "      <td>Aug 9, 2018</td>\n",
       "      <td>NaN</td>\n",
       "      <td>2024</td>\n",
       "      <td>1.98</td>\n",
       "      <td>96.16</td>\n",
       "      <td>NaN</td>\n",
       "      <td>NaN</td>\n",
       "      <td>NaN</td>\n",
       "      <td>NaN</td>\n",
       "      <td>NaN</td>\n",
       "      <td>NaN</td>\n",
       "      <td>NaN</td>\n",
       "      <td>NaN</td>\n",
       "      <td>NaN</td>\n",
       "      <td>NaN</td>\n",
       "      <td>NaN</td>\n",
       "      <td>NaN</td>\n",
       "      <td>NaN</td>\n",
       "      <td>NaN</td>\n",
       "      <td>NaN</td>\n",
       "      <td>NaN</td>\n",
       "      <td>NaN</td>\n",
       "      <td>NaN</td>\n",
       "      <td>NaN</td>\n",
       "      <td>NaN</td>\n",
       "      <td>NaN</td>\n",
       "      <td>NaN</td>\n",
       "      <td>NaN</td>\n",
       "      <td>NaN</td>\n",
       "      <td>NaN</td>\n",
       "      <td>NaN</td>\n",
       "      <td>14.00</td>\n",
       "      <td>14.00</td>\n",
       "      <td>13.00</td>\n",
       "      <td>33.00</td>\n",
       "      <td>12.00</td>\n",
       "      <td>13.00</td>\n",
       "      <td>19.00</td>\n",
       "      <td>20.00</td>\n",
       "      <td>35.00</td>\n",
       "      <td>23.00</td>\n",
       "      <td>46.00</td>\n",
       "      <td>52.00</td>\n",
       "      <td>61.00</td>\n",
       "      <td>84.00</td>\n",
       "      <td>45.00</td>\n",
       "      <td>36.00</td>\n",
       "      <td>68.00</td>\n",
       "      <td>38.00</td>\n",
       "      <td>70.00</td>\n",
       "      <td>17.00</td>\n",
       "      <td>23.00</td>\n",
       "      <td>15.00</td>\n",
       "      <td>13.00</td>\n",
       "      <td>44.00</td>\n",
       "      <td>27.00</td>\n",
       "      <td>66.00</td>\n",
       "      <td>20.00</td>\n",
       "      <td>18.00</td>\n",
       "      <td>16.00</td>\n",
       "      <td>85.00</td>\n",
       "      <td>91.00</td>\n",
       "      <td>72.00</td>\n",
       "      <td>86.00</td>\n",
       "      <td>88.00</td>\n",
       "      <td>€113.7M</td>\n",
       "      <td>179</td>\n",
       "    </tr>\n",
       "    <tr>\n",
       "      <th>167495</th>\n",
       "      <td>M. Neuer</td>\n",
       "      <td>32</td>\n",
       "      <td>Germany</td>\n",
       "      <td>89</td>\n",
       "      <td>89</td>\n",
       "      <td>FC Bayern München</td>\n",
       "      <td>38000000.00</td>\n",
       "      <td>130000.00</td>\n",
       "      <td>1473</td>\n",
       "      <td>Right</td>\n",
       "      <td>5.00</td>\n",
       "      <td>4.00</td>\n",
       "      <td>1.00</td>\n",
       "      <td>Medium/ Medium</td>\n",
       "      <td>Normal</td>\n",
       "      <td>GK</td>\n",
       "      <td>1.00</td>\n",
       "      <td>Jul 1, 2011</td>\n",
       "      <td>NaN</td>\n",
       "      <td>2021</td>\n",
       "      <td>1.93</td>\n",
       "      <td>92.08</td>\n",
       "      <td>NaN</td>\n",
       "      <td>NaN</td>\n",
       "      <td>NaN</td>\n",
       "      <td>NaN</td>\n",
       "      <td>NaN</td>\n",
       "      <td>NaN</td>\n",
       "      <td>NaN</td>\n",
       "      <td>NaN</td>\n",
       "      <td>NaN</td>\n",
       "      <td>NaN</td>\n",
       "      <td>NaN</td>\n",
       "      <td>NaN</td>\n",
       "      <td>NaN</td>\n",
       "      <td>NaN</td>\n",
       "      <td>NaN</td>\n",
       "      <td>NaN</td>\n",
       "      <td>NaN</td>\n",
       "      <td>NaN</td>\n",
       "      <td>NaN</td>\n",
       "      <td>NaN</td>\n",
       "      <td>NaN</td>\n",
       "      <td>NaN</td>\n",
       "      <td>NaN</td>\n",
       "      <td>NaN</td>\n",
       "      <td>NaN</td>\n",
       "      <td>NaN</td>\n",
       "      <td>15.00</td>\n",
       "      <td>13.00</td>\n",
       "      <td>25.00</td>\n",
       "      <td>55.00</td>\n",
       "      <td>11.00</td>\n",
       "      <td>30.00</td>\n",
       "      <td>14.00</td>\n",
       "      <td>11.00</td>\n",
       "      <td>59.00</td>\n",
       "      <td>48.00</td>\n",
       "      <td>54.00</td>\n",
       "      <td>60.00</td>\n",
       "      <td>51.00</td>\n",
       "      <td>84.00</td>\n",
       "      <td>35.00</td>\n",
       "      <td>25.00</td>\n",
       "      <td>77.00</td>\n",
       "      <td>43.00</td>\n",
       "      <td>80.00</td>\n",
       "      <td>16.00</td>\n",
       "      <td>29.00</td>\n",
       "      <td>30.00</td>\n",
       "      <td>12.00</td>\n",
       "      <td>70.00</td>\n",
       "      <td>47.00</td>\n",
       "      <td>70.00</td>\n",
       "      <td>17.00</td>\n",
       "      <td>10.00</td>\n",
       "      <td>11.00</td>\n",
       "      <td>90.00</td>\n",
       "      <td>86.00</td>\n",
       "      <td>91.00</td>\n",
       "      <td>87.00</td>\n",
       "      <td>87.00</td>\n",
       "      <td>€62.7M</td>\n",
       "      <td>178</td>\n",
       "    </tr>\n",
       "    <tr>\n",
       "      <th>167948</th>\n",
       "      <td>H. Lloris</td>\n",
       "      <td>31</td>\n",
       "      <td>France</td>\n",
       "      <td>88</td>\n",
       "      <td>88</td>\n",
       "      <td>Tottenham Hotspur</td>\n",
       "      <td>36000000.00</td>\n",
       "      <td>150000.00</td>\n",
       "      <td>1335</td>\n",
       "      <td>Left</td>\n",
       "      <td>4.00</td>\n",
       "      <td>1.00</td>\n",
       "      <td>1.00</td>\n",
       "      <td>Medium/ Medium</td>\n",
       "      <td>Lean</td>\n",
       "      <td>GK</td>\n",
       "      <td>1.00</td>\n",
       "      <td>Aug 1, 2012</td>\n",
       "      <td>NaN</td>\n",
       "      <td>2022</td>\n",
       "      <td>1.88</td>\n",
       "      <td>82.10</td>\n",
       "      <td>NaN</td>\n",
       "      <td>NaN</td>\n",
       "      <td>NaN</td>\n",
       "      <td>NaN</td>\n",
       "      <td>NaN</td>\n",
       "      <td>NaN</td>\n",
       "      <td>NaN</td>\n",
       "      <td>NaN</td>\n",
       "      <td>NaN</td>\n",
       "      <td>NaN</td>\n",
       "      <td>NaN</td>\n",
       "      <td>NaN</td>\n",
       "      <td>NaN</td>\n",
       "      <td>NaN</td>\n",
       "      <td>NaN</td>\n",
       "      <td>NaN</td>\n",
       "      <td>NaN</td>\n",
       "      <td>NaN</td>\n",
       "      <td>NaN</td>\n",
       "      <td>NaN</td>\n",
       "      <td>NaN</td>\n",
       "      <td>NaN</td>\n",
       "      <td>NaN</td>\n",
       "      <td>NaN</td>\n",
       "      <td>NaN</td>\n",
       "      <td>NaN</td>\n",
       "      <td>13.00</td>\n",
       "      <td>10.00</td>\n",
       "      <td>10.00</td>\n",
       "      <td>50.00</td>\n",
       "      <td>11.00</td>\n",
       "      <td>10.00</td>\n",
       "      <td>11.00</td>\n",
       "      <td>10.00</td>\n",
       "      <td>50.00</td>\n",
       "      <td>34.00</td>\n",
       "      <td>65.00</td>\n",
       "      <td>62.00</td>\n",
       "      <td>55.00</td>\n",
       "      <td>85.00</td>\n",
       "      <td>54.00</td>\n",
       "      <td>23.00</td>\n",
       "      <td>74.00</td>\n",
       "      <td>41.00</td>\n",
       "      <td>43.00</td>\n",
       "      <td>14.00</td>\n",
       "      <td>31.00</td>\n",
       "      <td>27.00</td>\n",
       "      <td>10.00</td>\n",
       "      <td>30.00</td>\n",
       "      <td>40.00</td>\n",
       "      <td>65.00</td>\n",
       "      <td>29.00</td>\n",
       "      <td>10.00</td>\n",
       "      <td>18.00</td>\n",
       "      <td>88.00</td>\n",
       "      <td>84.00</td>\n",
       "      <td>68.00</td>\n",
       "      <td>83.00</td>\n",
       "      <td>92.00</td>\n",
       "      <td>€66.6M</td>\n",
       "      <td>176</td>\n",
       "    </tr>\n",
       "    <tr>\n",
       "      <th>162835</th>\n",
       "      <td>S. Handanovič</td>\n",
       "      <td>33</td>\n",
       "      <td>Slovenia</td>\n",
       "      <td>88</td>\n",
       "      <td>88</td>\n",
       "      <td>Inter</td>\n",
       "      <td>30000000.00</td>\n",
       "      <td>110000.00</td>\n",
       "      <td>1262</td>\n",
       "      <td>Right</td>\n",
       "      <td>3.00</td>\n",
       "      <td>2.00</td>\n",
       "      <td>1.00</td>\n",
       "      <td>Medium/ Medium</td>\n",
       "      <td>Normal</td>\n",
       "      <td>GK</td>\n",
       "      <td>1.00</td>\n",
       "      <td>Jul 1, 2012</td>\n",
       "      <td>NaN</td>\n",
       "      <td>2021</td>\n",
       "      <td>1.93</td>\n",
       "      <td>92.08</td>\n",
       "      <td>NaN</td>\n",
       "      <td>NaN</td>\n",
       "      <td>NaN</td>\n",
       "      <td>NaN</td>\n",
       "      <td>NaN</td>\n",
       "      <td>NaN</td>\n",
       "      <td>NaN</td>\n",
       "      <td>NaN</td>\n",
       "      <td>NaN</td>\n",
       "      <td>NaN</td>\n",
       "      <td>NaN</td>\n",
       "      <td>NaN</td>\n",
       "      <td>NaN</td>\n",
       "      <td>NaN</td>\n",
       "      <td>NaN</td>\n",
       "      <td>NaN</td>\n",
       "      <td>NaN</td>\n",
       "      <td>NaN</td>\n",
       "      <td>NaN</td>\n",
       "      <td>NaN</td>\n",
       "      <td>NaN</td>\n",
       "      <td>NaN</td>\n",
       "      <td>NaN</td>\n",
       "      <td>NaN</td>\n",
       "      <td>NaN</td>\n",
       "      <td>NaN</td>\n",
       "      <td>12.00</td>\n",
       "      <td>10.00</td>\n",
       "      <td>10.00</td>\n",
       "      <td>36.00</td>\n",
       "      <td>12.00</td>\n",
       "      <td>12.00</td>\n",
       "      <td>12.00</td>\n",
       "      <td>14.00</td>\n",
       "      <td>34.00</td>\n",
       "      <td>16.00</td>\n",
       "      <td>51.00</td>\n",
       "      <td>55.00</td>\n",
       "      <td>47.00</td>\n",
       "      <td>83.00</td>\n",
       "      <td>36.00</td>\n",
       "      <td>22.00</td>\n",
       "      <td>78.00</td>\n",
       "      <td>41.00</td>\n",
       "      <td>71.00</td>\n",
       "      <td>19.00</td>\n",
       "      <td>25.00</td>\n",
       "      <td>22.00</td>\n",
       "      <td>12.00</td>\n",
       "      <td>41.00</td>\n",
       "      <td>23.00</td>\n",
       "      <td>69.00</td>\n",
       "      <td>25.00</td>\n",
       "      <td>10.00</td>\n",
       "      <td>13.00</td>\n",
       "      <td>87.00</td>\n",
       "      <td>86.00</td>\n",
       "      <td>69.00</td>\n",
       "      <td>89.00</td>\n",
       "      <td>89.00</td>\n",
       "      <td>€51M</td>\n",
       "      <td>176</td>\n",
       "    </tr>\n",
       "    <tr>\n",
       "      <th>1179</th>\n",
       "      <td>G. Buffon</td>\n",
       "      <td>40</td>\n",
       "      <td>Italy</td>\n",
       "      <td>88</td>\n",
       "      <td>88</td>\n",
       "      <td>Paris Saint-Germain</td>\n",
       "      <td>4000000.00</td>\n",
       "      <td>77000.00</td>\n",
       "      <td>1334</td>\n",
       "      <td>Right</td>\n",
       "      <td>4.00</td>\n",
       "      <td>2.00</td>\n",
       "      <td>1.00</td>\n",
       "      <td>Medium/ Medium</td>\n",
       "      <td>Normal</td>\n",
       "      <td>GK</td>\n",
       "      <td>1.00</td>\n",
       "      <td>Jul 6, 2018</td>\n",
       "      <td>NaN</td>\n",
       "      <td>2019</td>\n",
       "      <td>1.93</td>\n",
       "      <td>92.08</td>\n",
       "      <td>NaN</td>\n",
       "      <td>NaN</td>\n",
       "      <td>NaN</td>\n",
       "      <td>NaN</td>\n",
       "      <td>NaN</td>\n",
       "      <td>NaN</td>\n",
       "      <td>NaN</td>\n",
       "      <td>NaN</td>\n",
       "      <td>NaN</td>\n",
       "      <td>NaN</td>\n",
       "      <td>NaN</td>\n",
       "      <td>NaN</td>\n",
       "      <td>NaN</td>\n",
       "      <td>NaN</td>\n",
       "      <td>NaN</td>\n",
       "      <td>NaN</td>\n",
       "      <td>NaN</td>\n",
       "      <td>NaN</td>\n",
       "      <td>NaN</td>\n",
       "      <td>NaN</td>\n",
       "      <td>NaN</td>\n",
       "      <td>NaN</td>\n",
       "      <td>NaN</td>\n",
       "      <td>NaN</td>\n",
       "      <td>NaN</td>\n",
       "      <td>NaN</td>\n",
       "      <td>13.00</td>\n",
       "      <td>15.00</td>\n",
       "      <td>13.00</td>\n",
       "      <td>37.00</td>\n",
       "      <td>17.00</td>\n",
       "      <td>26.00</td>\n",
       "      <td>20.00</td>\n",
       "      <td>13.00</td>\n",
       "      <td>35.00</td>\n",
       "      <td>28.00</td>\n",
       "      <td>49.00</td>\n",
       "      <td>43.00</td>\n",
       "      <td>55.00</td>\n",
       "      <td>79.00</td>\n",
       "      <td>49.00</td>\n",
       "      <td>39.00</td>\n",
       "      <td>75.00</td>\n",
       "      <td>39.00</td>\n",
       "      <td>69.00</td>\n",
       "      <td>13.00</td>\n",
       "      <td>38.00</td>\n",
       "      <td>28.00</td>\n",
       "      <td>12.00</td>\n",
       "      <td>50.00</td>\n",
       "      <td>22.00</td>\n",
       "      <td>70.00</td>\n",
       "      <td>13.00</td>\n",
       "      <td>11.00</td>\n",
       "      <td>11.00</td>\n",
       "      <td>88.00</td>\n",
       "      <td>87.00</td>\n",
       "      <td>74.00</td>\n",
       "      <td>90.00</td>\n",
       "      <td>83.00</td>\n",
       "      <td>€7.4M</td>\n",
       "      <td>176</td>\n",
       "    </tr>\n",
       "    <tr>\n",
       "      <th>210257</th>\n",
       "      <td>Ederson</td>\n",
       "      <td>24</td>\n",
       "      <td>Brazil</td>\n",
       "      <td>86</td>\n",
       "      <td>90</td>\n",
       "      <td>Manchester City</td>\n",
       "      <td>41500000.00</td>\n",
       "      <td>125000.00</td>\n",
       "      <td>1463</td>\n",
       "      <td>Left</td>\n",
       "      <td>2.00</td>\n",
       "      <td>3.00</td>\n",
       "      <td>1.00</td>\n",
       "      <td>Medium/ Medium</td>\n",
       "      <td>Normal</td>\n",
       "      <td>GK</td>\n",
       "      <td>31.00</td>\n",
       "      <td>Jul 1, 2017</td>\n",
       "      <td>NaN</td>\n",
       "      <td>2025</td>\n",
       "      <td>1.88</td>\n",
       "      <td>86.18</td>\n",
       "      <td>NaN</td>\n",
       "      <td>NaN</td>\n",
       "      <td>NaN</td>\n",
       "      <td>NaN</td>\n",
       "      <td>NaN</td>\n",
       "      <td>NaN</td>\n",
       "      <td>NaN</td>\n",
       "      <td>NaN</td>\n",
       "      <td>NaN</td>\n",
       "      <td>NaN</td>\n",
       "      <td>NaN</td>\n",
       "      <td>NaN</td>\n",
       "      <td>NaN</td>\n",
       "      <td>NaN</td>\n",
       "      <td>NaN</td>\n",
       "      <td>NaN</td>\n",
       "      <td>NaN</td>\n",
       "      <td>NaN</td>\n",
       "      <td>NaN</td>\n",
       "      <td>NaN</td>\n",
       "      <td>NaN</td>\n",
       "      <td>NaN</td>\n",
       "      <td>NaN</td>\n",
       "      <td>NaN</td>\n",
       "      <td>NaN</td>\n",
       "      <td>NaN</td>\n",
       "      <td>20.00</td>\n",
       "      <td>14.00</td>\n",
       "      <td>14.00</td>\n",
       "      <td>56.00</td>\n",
       "      <td>18.00</td>\n",
       "      <td>23.00</td>\n",
       "      <td>15.00</td>\n",
       "      <td>20.00</td>\n",
       "      <td>58.00</td>\n",
       "      <td>37.00</td>\n",
       "      <td>64.00</td>\n",
       "      <td>63.00</td>\n",
       "      <td>60.00</td>\n",
       "      <td>86.00</td>\n",
       "      <td>48.00</td>\n",
       "      <td>42.00</td>\n",
       "      <td>58.00</td>\n",
       "      <td>41.00</td>\n",
       "      <td>68.00</td>\n",
       "      <td>18.00</td>\n",
       "      <td>35.00</td>\n",
       "      <td>25.00</td>\n",
       "      <td>20.00</td>\n",
       "      <td>67.00</td>\n",
       "      <td>17.00</td>\n",
       "      <td>70.00</td>\n",
       "      <td>28.00</td>\n",
       "      <td>15.00</td>\n",
       "      <td>8.00</td>\n",
       "      <td>85.00</td>\n",
       "      <td>80.00</td>\n",
       "      <td>91.00</td>\n",
       "      <td>82.00</td>\n",
       "      <td>87.00</td>\n",
       "      <td>€79.9M</td>\n",
       "      <td>176</td>\n",
       "    </tr>\n",
       "    <tr>\n",
       "      <th>212831</th>\n",
       "      <td>Alisson</td>\n",
       "      <td>25</td>\n",
       "      <td>Brazil</td>\n",
       "      <td>85</td>\n",
       "      <td>90</td>\n",
       "      <td>Liverpool</td>\n",
       "      <td>36500000.00</td>\n",
       "      <td>115000.00</td>\n",
       "      <td>1320</td>\n",
       "      <td>Right</td>\n",
       "      <td>3.00</td>\n",
       "      <td>3.00</td>\n",
       "      <td>1.00</td>\n",
       "      <td>Medium/ Medium</td>\n",
       "      <td>Normal</td>\n",
       "      <td>GK</td>\n",
       "      <td>13.00</td>\n",
       "      <td>Jul 19, 2018</td>\n",
       "      <td>NaN</td>\n",
       "      <td>2024</td>\n",
       "      <td>1.90</td>\n",
       "      <td>91.17</td>\n",
       "      <td>NaN</td>\n",
       "      <td>NaN</td>\n",
       "      <td>NaN</td>\n",
       "      <td>NaN</td>\n",
       "      <td>NaN</td>\n",
       "      <td>NaN</td>\n",
       "      <td>NaN</td>\n",
       "      <td>NaN</td>\n",
       "      <td>NaN</td>\n",
       "      <td>NaN</td>\n",
       "      <td>NaN</td>\n",
       "      <td>NaN</td>\n",
       "      <td>NaN</td>\n",
       "      <td>NaN</td>\n",
       "      <td>NaN</td>\n",
       "      <td>NaN</td>\n",
       "      <td>NaN</td>\n",
       "      <td>NaN</td>\n",
       "      <td>NaN</td>\n",
       "      <td>NaN</td>\n",
       "      <td>NaN</td>\n",
       "      <td>NaN</td>\n",
       "      <td>NaN</td>\n",
       "      <td>NaN</td>\n",
       "      <td>NaN</td>\n",
       "      <td>NaN</td>\n",
       "      <td>17.00</td>\n",
       "      <td>13.00</td>\n",
       "      <td>19.00</td>\n",
       "      <td>45.00</td>\n",
       "      <td>20.00</td>\n",
       "      <td>27.00</td>\n",
       "      <td>19.00</td>\n",
       "      <td>18.00</td>\n",
       "      <td>44.00</td>\n",
       "      <td>30.00</td>\n",
       "      <td>54.00</td>\n",
       "      <td>45.00</td>\n",
       "      <td>40.00</td>\n",
       "      <td>84.00</td>\n",
       "      <td>37.00</td>\n",
       "      <td>21.00</td>\n",
       "      <td>52.00</td>\n",
       "      <td>32.00</td>\n",
       "      <td>78.00</td>\n",
       "      <td>14.00</td>\n",
       "      <td>27.00</td>\n",
       "      <td>11.00</td>\n",
       "      <td>13.00</td>\n",
       "      <td>66.00</td>\n",
       "      <td>23.00</td>\n",
       "      <td>65.00</td>\n",
       "      <td>15.00</td>\n",
       "      <td>19.00</td>\n",
       "      <td>16.00</td>\n",
       "      <td>83.00</td>\n",
       "      <td>81.00</td>\n",
       "      <td>85.00</td>\n",
       "      <td>84.00</td>\n",
       "      <td>88.00</td>\n",
       "      <td>€72.1M</td>\n",
       "      <td>175</td>\n",
       "    </tr>\n",
       "  </tbody>\n",
       "</table>\n",
       "<p>10 rows × 84 columns</p>\n",
       "</div>"
      ],
      "text/plain": [
       "                 name  age nationality  overall  potential  \\\n",
       "ID                                                           \n",
       "193080         De Gea   27       Spain       91         93   \n",
       "200389       J. Oblak   25    Slovenia       90         93   \n",
       "192448  M. ter Stegen   26     Germany       89         92   \n",
       "192119    T. Courtois   26     Belgium       89         90   \n",
       "167495       M. Neuer   32     Germany       89         89   \n",
       "167948      H. Lloris   31      France       88         88   \n",
       "162835  S. Handanovič   33    Slovenia       88         88   \n",
       "1179        G. Buffon   40       Italy       88         88   \n",
       "210257        Ederson   24      Brazil       86         90   \n",
       "212831        Alisson   25      Brazil       85         90   \n",
       "\n",
       "                       club       value      wage  special preferred foot  \\\n",
       "ID                                                                          \n",
       "193080    Manchester United 72000000.00 260000.00     1471          Right   \n",
       "200389      Atlético Madrid 68000000.00  94000.00     1331          Right   \n",
       "192448         FC Barcelona 58000000.00 240000.00     1328          Right   \n",
       "192119          Real Madrid 53500000.00 240000.00     1311           Left   \n",
       "167495    FC Bayern München 38000000.00 130000.00     1473          Right   \n",
       "167948    Tottenham Hotspur 36000000.00 150000.00     1335           Left   \n",
       "162835                Inter 30000000.00 110000.00     1262          Right   \n",
       "1179    Paris Saint-Germain  4000000.00  77000.00     1334          Right   \n",
       "210257      Manchester City 41500000.00 125000.00     1463           Left   \n",
       "212831            Liverpool 36500000.00 115000.00     1320          Right   \n",
       "\n",
       "        international reputation  weak foot  skill moves       work rate  \\\n",
       "ID                                                                         \n",
       "193080                      4.00       3.00         1.00  Medium/ Medium   \n",
       "200389                      3.00       3.00         1.00  Medium/ Medium   \n",
       "192448                      3.00       4.00         1.00  Medium/ Medium   \n",
       "192119                      4.00       2.00         1.00  Medium/ Medium   \n",
       "167495                      5.00       4.00         1.00  Medium/ Medium   \n",
       "167948                      4.00       1.00         1.00  Medium/ Medium   \n",
       "162835                      3.00       2.00         1.00  Medium/ Medium   \n",
       "1179                        4.00       2.00         1.00  Medium/ Medium   \n",
       "210257                      2.00       3.00         1.00  Medium/ Medium   \n",
       "212831                      3.00       3.00         1.00  Medium/ Medium   \n",
       "\n",
       "       body type position  jersey number        joined loaned from  \\\n",
       "ID                                                                   \n",
       "193080      Lean       GK           1.00   Jul 1, 2011         NaN   \n",
       "200389    Normal       GK           1.00  Jul 16, 2014         NaN   \n",
       "192448    Normal       GK          22.00   Jul 1, 2014         NaN   \n",
       "192119  Courtois       GK           1.00   Aug 9, 2018         NaN   \n",
       "167495    Normal       GK           1.00   Jul 1, 2011         NaN   \n",
       "167948      Lean       GK           1.00   Aug 1, 2012         NaN   \n",
       "162835    Normal       GK           1.00   Jul 1, 2012         NaN   \n",
       "1179      Normal       GK           1.00   Jul 6, 2018         NaN   \n",
       "210257    Normal       GK          31.00   Jul 1, 2017         NaN   \n",
       "212831    Normal       GK          13.00  Jul 19, 2018         NaN   \n",
       "\n",
       "       contract valid until  height  weight   ls   st   rs   lw   lf   cf  \\\n",
       "ID                                                                          \n",
       "193080                 2020    1.93   76.20  NaN  NaN  NaN  NaN  NaN  NaN   \n",
       "200389                 2021    1.88   87.09  NaN  NaN  NaN  NaN  NaN  NaN   \n",
       "192448                 2022    1.88   84.82  NaN  NaN  NaN  NaN  NaN  NaN   \n",
       "192119                 2024    1.98   96.16  NaN  NaN  NaN  NaN  NaN  NaN   \n",
       "167495                 2021    1.93   92.08  NaN  NaN  NaN  NaN  NaN  NaN   \n",
       "167948                 2022    1.88   82.10  NaN  NaN  NaN  NaN  NaN  NaN   \n",
       "162835                 2021    1.93   92.08  NaN  NaN  NaN  NaN  NaN  NaN   \n",
       "1179                   2019    1.93   92.08  NaN  NaN  NaN  NaN  NaN  NaN   \n",
       "210257                 2025    1.88   86.18  NaN  NaN  NaN  NaN  NaN  NaN   \n",
       "212831                 2024    1.90   91.17  NaN  NaN  NaN  NaN  NaN  NaN   \n",
       "\n",
       "         rf   rw  lam  cam  ram   lm  lcm   cm  rcm   rm  lwb  ldm  cdm  rdm  \\\n",
       "ID                                                                             \n",
       "193080  NaN  NaN  NaN  NaN  NaN  NaN  NaN  NaN  NaN  NaN  NaN  NaN  NaN  NaN   \n",
       "200389  NaN  NaN  NaN  NaN  NaN  NaN  NaN  NaN  NaN  NaN  NaN  NaN  NaN  NaN   \n",
       "192448  NaN  NaN  NaN  NaN  NaN  NaN  NaN  NaN  NaN  NaN  NaN  NaN  NaN  NaN   \n",
       "192119  NaN  NaN  NaN  NaN  NaN  NaN  NaN  NaN  NaN  NaN  NaN  NaN  NaN  NaN   \n",
       "167495  NaN  NaN  NaN  NaN  NaN  NaN  NaN  NaN  NaN  NaN  NaN  NaN  NaN  NaN   \n",
       "167948  NaN  NaN  NaN  NaN  NaN  NaN  NaN  NaN  NaN  NaN  NaN  NaN  NaN  NaN   \n",
       "162835  NaN  NaN  NaN  NaN  NaN  NaN  NaN  NaN  NaN  NaN  NaN  NaN  NaN  NaN   \n",
       "1179    NaN  NaN  NaN  NaN  NaN  NaN  NaN  NaN  NaN  NaN  NaN  NaN  NaN  NaN   \n",
       "210257  NaN  NaN  NaN  NaN  NaN  NaN  NaN  NaN  NaN  NaN  NaN  NaN  NaN  NaN   \n",
       "212831  NaN  NaN  NaN  NaN  NaN  NaN  NaN  NaN  NaN  NaN  NaN  NaN  NaN  NaN   \n",
       "\n",
       "        rwb   lb  lcb   cb  rcb   rb  crossing  finishing  headingaccuracy  \\\n",
       "ID                                                                           \n",
       "193080  NaN  NaN  NaN  NaN  NaN  NaN     17.00      13.00            21.00   \n",
       "200389  NaN  NaN  NaN  NaN  NaN  NaN     13.00      11.00            15.00   \n",
       "192448  NaN  NaN  NaN  NaN  NaN  NaN     15.00      14.00            11.00   \n",
       "192119  NaN  NaN  NaN  NaN  NaN  NaN     14.00      14.00            13.00   \n",
       "167495  NaN  NaN  NaN  NaN  NaN  NaN     15.00      13.00            25.00   \n",
       "167948  NaN  NaN  NaN  NaN  NaN  NaN     13.00      10.00            10.00   \n",
       "162835  NaN  NaN  NaN  NaN  NaN  NaN     12.00      10.00            10.00   \n",
       "1179    NaN  NaN  NaN  NaN  NaN  NaN     13.00      15.00            13.00   \n",
       "210257  NaN  NaN  NaN  NaN  NaN  NaN     20.00      14.00            14.00   \n",
       "212831  NaN  NaN  NaN  NaN  NaN  NaN     17.00      13.00            19.00   \n",
       "\n",
       "        shortpassing  volleys  dribbling  curve  fkaccuracy  longpassing  \\\n",
       "ID                                                                         \n",
       "193080         50.00    13.00      18.00  21.00       19.00        51.00   \n",
       "200389         29.00    13.00      12.00  13.00       14.00        26.00   \n",
       "192448         36.00    14.00      17.00  18.00       12.00        42.00   \n",
       "192119         33.00    12.00      13.00  19.00       20.00        35.00   \n",
       "167495         55.00    11.00      30.00  14.00       11.00        59.00   \n",
       "167948         50.00    11.00      10.00  11.00       10.00        50.00   \n",
       "162835         36.00    12.00      12.00  12.00       14.00        34.00   \n",
       "1179           37.00    17.00      26.00  20.00       13.00        35.00   \n",
       "210257         56.00    18.00      23.00  15.00       20.00        58.00   \n",
       "212831         45.00    20.00      27.00  19.00       18.00        44.00   \n",
       "\n",
       "        ballcontrol  acceleration  sprintspeed  agility  reactions  balance  \\\n",
       "ID                                                                            \n",
       "193080        42.00         57.00        58.00    60.00      90.00    43.00   \n",
       "200389        16.00         43.00        60.00    67.00      86.00    49.00   \n",
       "192448        18.00         38.00        50.00    37.00      85.00    43.00   \n",
       "192119        23.00         46.00        52.00    61.00      84.00    45.00   \n",
       "167495        48.00         54.00        60.00    51.00      84.00    35.00   \n",
       "167948        34.00         65.00        62.00    55.00      85.00    54.00   \n",
       "162835        16.00         51.00        55.00    47.00      83.00    36.00   \n",
       "1179          28.00         49.00        43.00    55.00      79.00    49.00   \n",
       "210257        37.00         64.00        63.00    60.00      86.00    48.00   \n",
       "212831        30.00         54.00        45.00    40.00      84.00    37.00   \n",
       "\n",
       "        shotpower  jumping  stamina  strength  longshots  aggression  \\\n",
       "ID                                                                     \n",
       "193080      31.00    67.00    43.00     64.00      12.00       38.00   \n",
       "200389      22.00    76.00    41.00     78.00      12.00       34.00   \n",
       "192448      22.00    79.00    35.00     79.00      10.00       43.00   \n",
       "192119      36.00    68.00    38.00     70.00      17.00       23.00   \n",
       "167495      25.00    77.00    43.00     80.00      16.00       29.00   \n",
       "167948      23.00    74.00    41.00     43.00      14.00       31.00   \n",
       "162835      22.00    78.00    41.00     71.00      19.00       25.00   \n",
       "1179        39.00    75.00    39.00     69.00      13.00       38.00   \n",
       "210257      42.00    58.00    41.00     68.00      18.00       35.00   \n",
       "212831      21.00    52.00    32.00     78.00      14.00       27.00   \n",
       "\n",
       "        interceptions  positioning  vision  penalties  composure  marking  \\\n",
       "ID                                                                          \n",
       "193080          30.00        12.00   68.00      40.00      68.00    15.00   \n",
       "200389          19.00        11.00   70.00      11.00      70.00    27.00   \n",
       "192448          22.00        11.00   69.00      25.00      69.00    25.00   \n",
       "192119          15.00        13.00   44.00      27.00      66.00    20.00   \n",
       "167495          30.00        12.00   70.00      47.00      70.00    17.00   \n",
       "167948          27.00        10.00   30.00      40.00      65.00    29.00   \n",
       "162835          22.00        12.00   41.00      23.00      69.00    25.00   \n",
       "1179            28.00        12.00   50.00      22.00      70.00    13.00   \n",
       "210257          25.00        20.00   67.00      17.00      70.00    28.00   \n",
       "212831          11.00        13.00   66.00      23.00      65.00    15.00   \n",
       "\n",
       "        standingtackle  slidingtackle  gkdiving  gkhandling  gkkicking  \\\n",
       "ID                                                                       \n",
       "193080           21.00          13.00     90.00       85.00      87.00   \n",
       "200389           12.00          18.00     86.00       92.00      78.00   \n",
       "192448           13.00          10.00     87.00       85.00      88.00   \n",
       "192119           18.00          16.00     85.00       91.00      72.00   \n",
       "167495           10.00          11.00     90.00       86.00      91.00   \n",
       "167948           10.00          18.00     88.00       84.00      68.00   \n",
       "162835           10.00          13.00     87.00       86.00      69.00   \n",
       "1179             11.00          11.00     88.00       87.00      74.00   \n",
       "210257           15.00           8.00     85.00       80.00      91.00   \n",
       "212831           19.00          16.00     83.00       81.00      85.00   \n",
       "\n",
       "        gkpositioning  gkreflexes release clause  total_score  \n",
       "ID                                                             \n",
       "193080          88.00       94.00        €138.6M          184  \n",
       "200389          88.00       89.00        €144.5M          183  \n",
       "192448          85.00       90.00        €123.3M          181  \n",
       "192119          86.00       88.00        €113.7M          179  \n",
       "167495          87.00       87.00         €62.7M          178  \n",
       "167948          83.00       92.00         €66.6M          176  \n",
       "162835          89.00       89.00           €51M          176  \n",
       "1179            90.00       83.00          €7.4M          176  \n",
       "210257          82.00       87.00         €79.9M          176  \n",
       "212831          84.00       88.00         €72.1M          175  \n",
       "\n",
       "[10 rows x 84 columns]"
      ]
     },
     "execution_count": 26,
     "metadata": {},
     "output_type": "execute_result"
    }
   ],
   "source": [
    "# 19. Apresente o ranking dos goleiros (use a variável/atributo 'Preferred Positions') por Potencial, Overall. Estamos à procura de 'GK'.\n",
    "\n",
    "df_goalkeepers = df_fifa[df_fifa['position'] == 'GK']\n",
    "df_goalkeepers['total_score'] = df_goalkeepers['potential'] + df_goalkeepers['overall']\n",
    "df_goalkeepers.sort_values(by='total_score', ascending=False).head(10)"
   ]
  },
  {
   "cell_type": "code",
   "execution_count": 27,
   "metadata": {},
   "outputs": [
    {
     "data": {
      "text/html": [
       "<div>\n",
       "<style scoped>\n",
       "    .dataframe tbody tr th:only-of-type {\n",
       "        vertical-align: middle;\n",
       "    }\n",
       "\n",
       "    .dataframe tbody tr th {\n",
       "        vertical-align: top;\n",
       "    }\n",
       "\n",
       "    .dataframe thead th {\n",
       "        text-align: right;\n",
       "    }\n",
       "</style>\n",
       "<table border=\"1\" class=\"dataframe\">\n",
       "  <thead>\n",
       "    <tr style=\"text-align: right;\">\n",
       "      <th></th>\n",
       "      <th>name</th>\n",
       "      <th>age</th>\n",
       "      <th>nationality</th>\n",
       "      <th>overall</th>\n",
       "      <th>potential</th>\n",
       "      <th>club</th>\n",
       "      <th>value</th>\n",
       "      <th>wage</th>\n",
       "      <th>special</th>\n",
       "      <th>preferred foot</th>\n",
       "      <th>international reputation</th>\n",
       "      <th>weak foot</th>\n",
       "      <th>skill moves</th>\n",
       "      <th>work rate</th>\n",
       "      <th>body type</th>\n",
       "      <th>position</th>\n",
       "      <th>jersey number</th>\n",
       "      <th>joined</th>\n",
       "      <th>loaned from</th>\n",
       "      <th>contract valid until</th>\n",
       "      <th>height</th>\n",
       "      <th>weight</th>\n",
       "      <th>ls</th>\n",
       "      <th>st</th>\n",
       "      <th>rs</th>\n",
       "      <th>lw</th>\n",
       "      <th>lf</th>\n",
       "      <th>cf</th>\n",
       "      <th>rf</th>\n",
       "      <th>rw</th>\n",
       "      <th>lam</th>\n",
       "      <th>cam</th>\n",
       "      <th>ram</th>\n",
       "      <th>lm</th>\n",
       "      <th>lcm</th>\n",
       "      <th>cm</th>\n",
       "      <th>rcm</th>\n",
       "      <th>rm</th>\n",
       "      <th>lwb</th>\n",
       "      <th>ldm</th>\n",
       "      <th>cdm</th>\n",
       "      <th>rdm</th>\n",
       "      <th>rwb</th>\n",
       "      <th>lb</th>\n",
       "      <th>lcb</th>\n",
       "      <th>cb</th>\n",
       "      <th>rcb</th>\n",
       "      <th>rb</th>\n",
       "      <th>crossing</th>\n",
       "      <th>finishing</th>\n",
       "      <th>headingaccuracy</th>\n",
       "      <th>shortpassing</th>\n",
       "      <th>volleys</th>\n",
       "      <th>dribbling</th>\n",
       "      <th>curve</th>\n",
       "      <th>fkaccuracy</th>\n",
       "      <th>longpassing</th>\n",
       "      <th>ballcontrol</th>\n",
       "      <th>acceleration</th>\n",
       "      <th>sprintspeed</th>\n",
       "      <th>agility</th>\n",
       "      <th>reactions</th>\n",
       "      <th>balance</th>\n",
       "      <th>shotpower</th>\n",
       "      <th>jumping</th>\n",
       "      <th>stamina</th>\n",
       "      <th>strength</th>\n",
       "      <th>longshots</th>\n",
       "      <th>aggression</th>\n",
       "      <th>interceptions</th>\n",
       "      <th>positioning</th>\n",
       "      <th>vision</th>\n",
       "      <th>penalties</th>\n",
       "      <th>composure</th>\n",
       "      <th>marking</th>\n",
       "      <th>standingtackle</th>\n",
       "      <th>slidingtackle</th>\n",
       "      <th>gkdiving</th>\n",
       "      <th>gkhandling</th>\n",
       "      <th>gkkicking</th>\n",
       "      <th>gkpositioning</th>\n",
       "      <th>gkreflexes</th>\n",
       "      <th>release clause</th>\n",
       "      <th>total_score</th>\n",
       "    </tr>\n",
       "    <tr>\n",
       "      <th>ID</th>\n",
       "      <th></th>\n",
       "      <th></th>\n",
       "      <th></th>\n",
       "      <th></th>\n",
       "      <th></th>\n",
       "      <th></th>\n",
       "      <th></th>\n",
       "      <th></th>\n",
       "      <th></th>\n",
       "      <th></th>\n",
       "      <th></th>\n",
       "      <th></th>\n",
       "      <th></th>\n",
       "      <th></th>\n",
       "      <th></th>\n",
       "      <th></th>\n",
       "      <th></th>\n",
       "      <th></th>\n",
       "      <th></th>\n",
       "      <th></th>\n",
       "      <th></th>\n",
       "      <th></th>\n",
       "      <th></th>\n",
       "      <th></th>\n",
       "      <th></th>\n",
       "      <th></th>\n",
       "      <th></th>\n",
       "      <th></th>\n",
       "      <th></th>\n",
       "      <th></th>\n",
       "      <th></th>\n",
       "      <th></th>\n",
       "      <th></th>\n",
       "      <th></th>\n",
       "      <th></th>\n",
       "      <th></th>\n",
       "      <th></th>\n",
       "      <th></th>\n",
       "      <th></th>\n",
       "      <th></th>\n",
       "      <th></th>\n",
       "      <th></th>\n",
       "      <th></th>\n",
       "      <th></th>\n",
       "      <th></th>\n",
       "      <th></th>\n",
       "      <th></th>\n",
       "      <th></th>\n",
       "      <th></th>\n",
       "      <th></th>\n",
       "      <th></th>\n",
       "      <th></th>\n",
       "      <th></th>\n",
       "      <th></th>\n",
       "      <th></th>\n",
       "      <th></th>\n",
       "      <th></th>\n",
       "      <th></th>\n",
       "      <th></th>\n",
       "      <th></th>\n",
       "      <th></th>\n",
       "      <th></th>\n",
       "      <th></th>\n",
       "      <th></th>\n",
       "      <th></th>\n",
       "      <th></th>\n",
       "      <th></th>\n",
       "      <th></th>\n",
       "      <th></th>\n",
       "      <th></th>\n",
       "      <th></th>\n",
       "      <th></th>\n",
       "      <th></th>\n",
       "      <th></th>\n",
       "      <th></th>\n",
       "      <th></th>\n",
       "      <th></th>\n",
       "      <th></th>\n",
       "      <th></th>\n",
       "      <th></th>\n",
       "      <th></th>\n",
       "      <th></th>\n",
       "      <th></th>\n",
       "      <th></th>\n",
       "    </tr>\n",
       "  </thead>\n",
       "  <tbody>\n",
       "    <tr>\n",
       "      <th>213956</th>\n",
       "      <td>Adama</td>\n",
       "      <td>22</td>\n",
       "      <td>Spain</td>\n",
       "      <td>75</td>\n",
       "      <td>85</td>\n",
       "      <td>Wolverhampton Wanderers</td>\n",
       "      <td>10500000.00</td>\n",
       "      <td>54000.00</td>\n",
       "      <td>1772</td>\n",
       "      <td>Right</td>\n",
       "      <td>1.00</td>\n",
       "      <td>2.00</td>\n",
       "      <td>3.00</td>\n",
       "      <td>High/ Low</td>\n",
       "      <td>Stocky</td>\n",
       "      <td>RW</td>\n",
       "      <td>37.00</td>\n",
       "      <td>Aug 8, 2018</td>\n",
       "      <td>NaN</td>\n",
       "      <td>2023</td>\n",
       "      <td>1.78</td>\n",
       "      <td>76.20</td>\n",
       "      <td>68+2</td>\n",
       "      <td>68+2</td>\n",
       "      <td>68+2</td>\n",
       "      <td>74+2</td>\n",
       "      <td>72+2</td>\n",
       "      <td>72+2</td>\n",
       "      <td>72+2</td>\n",
       "      <td>74+2</td>\n",
       "      <td>71+2</td>\n",
       "      <td>71+2</td>\n",
       "      <td>71+2</td>\n",
       "      <td>74+2</td>\n",
       "      <td>63+2</td>\n",
       "      <td>63+2</td>\n",
       "      <td>63+2</td>\n",
       "      <td>74+2</td>\n",
       "      <td>56+2</td>\n",
       "      <td>50+2</td>\n",
       "      <td>50+2</td>\n",
       "      <td>50+2</td>\n",
       "      <td>56+2</td>\n",
       "      <td>51+2</td>\n",
       "      <td>42+2</td>\n",
       "      <td>42+2</td>\n",
       "      <td>42+2</td>\n",
       "      <td>51+2</td>\n",
       "      <td>72.00</td>\n",
       "      <td>61.00</td>\n",
       "      <td>40.00</td>\n",
       "      <td>66.00</td>\n",
       "      <td>52.00</td>\n",
       "      <td>89.00</td>\n",
       "      <td>65.00</td>\n",
       "      <td>42.00</td>\n",
       "      <td>56.00</td>\n",
       "      <td>83.00</td>\n",
       "      <td>97.00</td>\n",
       "      <td>96.00</td>\n",
       "      <td>81.00</td>\n",
       "      <td>63.00</td>\n",
       "      <td>83.00</td>\n",
       "      <td>74.00</td>\n",
       "      <td>73.00</td>\n",
       "      <td>75.00</td>\n",
       "      <td>83.00</td>\n",
       "      <td>55.00</td>\n",
       "      <td>54.00</td>\n",
       "      <td>29.00</td>\n",
       "      <td>62.00</td>\n",
       "      <td>57.00</td>\n",
       "      <td>47.00</td>\n",
       "      <td>70.00</td>\n",
       "      <td>16.00</td>\n",
       "      <td>26.00</td>\n",
       "      <td>23.00</td>\n",
       "      <td>13.00</td>\n",
       "      <td>9.00</td>\n",
       "      <td>11.00</td>\n",
       "      <td>12.00</td>\n",
       "      <td>7.00</td>\n",
       "      <td>€22.1M</td>\n",
       "      <td>160</td>\n",
       "    </tr>\n",
       "    <tr>\n",
       "      <th>222492</th>\n",
       "      <td>L. Sané</td>\n",
       "      <td>22</td>\n",
       "      <td>Germany</td>\n",
       "      <td>86</td>\n",
       "      <td>92</td>\n",
       "      <td>Manchester City</td>\n",
       "      <td>61000000.00</td>\n",
       "      <td>195000.00</td>\n",
       "      <td>2090</td>\n",
       "      <td>Left</td>\n",
       "      <td>2.00</td>\n",
       "      <td>3.00</td>\n",
       "      <td>4.00</td>\n",
       "      <td>High/ Medium</td>\n",
       "      <td>Lean</td>\n",
       "      <td>LW</td>\n",
       "      <td>19.00</td>\n",
       "      <td>Aug 2, 2016</td>\n",
       "      <td>NaN</td>\n",
       "      <td>2021</td>\n",
       "      <td>1.83</td>\n",
       "      <td>74.84</td>\n",
       "      <td>82+2</td>\n",
       "      <td>82+2</td>\n",
       "      <td>82+2</td>\n",
       "      <td>84+2</td>\n",
       "      <td>84+2</td>\n",
       "      <td>84+2</td>\n",
       "      <td>84+2</td>\n",
       "      <td>84+2</td>\n",
       "      <td>82+2</td>\n",
       "      <td>82+2</td>\n",
       "      <td>82+2</td>\n",
       "      <td>83+2</td>\n",
       "      <td>74+2</td>\n",
       "      <td>74+2</td>\n",
       "      <td>74+2</td>\n",
       "      <td>83+2</td>\n",
       "      <td>65+2</td>\n",
       "      <td>59+2</td>\n",
       "      <td>59+2</td>\n",
       "      <td>59+2</td>\n",
       "      <td>65+2</td>\n",
       "      <td>61+2</td>\n",
       "      <td>52+2</td>\n",
       "      <td>52+2</td>\n",
       "      <td>52+2</td>\n",
       "      <td>61+2</td>\n",
       "      <td>83.00</td>\n",
       "      <td>81.00</td>\n",
       "      <td>72.00</td>\n",
       "      <td>79.00</td>\n",
       "      <td>85.00</td>\n",
       "      <td>88.00</td>\n",
       "      <td>82.00</td>\n",
       "      <td>68.00</td>\n",
       "      <td>64.00</td>\n",
       "      <td>85.00</td>\n",
       "      <td>93.00</td>\n",
       "      <td>96.00</td>\n",
       "      <td>88.00</td>\n",
       "      <td>81.00</td>\n",
       "      <td>81.00</td>\n",
       "      <td>86.00</td>\n",
       "      <td>64.00</td>\n",
       "      <td>79.00</td>\n",
       "      <td>70.00</td>\n",
       "      <td>78.00</td>\n",
       "      <td>61.00</td>\n",
       "      <td>34.00</td>\n",
       "      <td>84.00</td>\n",
       "      <td>82.00</td>\n",
       "      <td>71.00</td>\n",
       "      <td>78.00</td>\n",
       "      <td>36.00</td>\n",
       "      <td>32.00</td>\n",
       "      <td>35.00</td>\n",
       "      <td>8.00</td>\n",
       "      <td>12.00</td>\n",
       "      <td>9.00</td>\n",
       "      <td>9.00</td>\n",
       "      <td>14.00</td>\n",
       "      <td>€125.1M</td>\n",
       "      <td>178</td>\n",
       "    </tr>\n",
       "    <tr>\n",
       "      <th>231747</th>\n",
       "      <td>K. Mbappé</td>\n",
       "      <td>19</td>\n",
       "      <td>France</td>\n",
       "      <td>88</td>\n",
       "      <td>95</td>\n",
       "      <td>Paris Saint-Germain</td>\n",
       "      <td>81000000.00</td>\n",
       "      <td>100000.00</td>\n",
       "      <td>2118</td>\n",
       "      <td>Right</td>\n",
       "      <td>3.00</td>\n",
       "      <td>4.00</td>\n",
       "      <td>5.00</td>\n",
       "      <td>High/ Medium</td>\n",
       "      <td>Lean</td>\n",
       "      <td>RM</td>\n",
       "      <td>10.00</td>\n",
       "      <td>Jul 1, 2018</td>\n",
       "      <td>NaN</td>\n",
       "      <td>2022</td>\n",
       "      <td>1.78</td>\n",
       "      <td>73.03</td>\n",
       "      <td>85+3</td>\n",
       "      <td>85+3</td>\n",
       "      <td>85+3</td>\n",
       "      <td>87+3</td>\n",
       "      <td>87+3</td>\n",
       "      <td>87+3</td>\n",
       "      <td>87+3</td>\n",
       "      <td>87+3</td>\n",
       "      <td>86+3</td>\n",
       "      <td>86+3</td>\n",
       "      <td>86+3</td>\n",
       "      <td>86+3</td>\n",
       "      <td>78+3</td>\n",
       "      <td>78+3</td>\n",
       "      <td>78+3</td>\n",
       "      <td>86+3</td>\n",
       "      <td>66+3</td>\n",
       "      <td>62+3</td>\n",
       "      <td>62+3</td>\n",
       "      <td>62+3</td>\n",
       "      <td>66+3</td>\n",
       "      <td>62+3</td>\n",
       "      <td>54+3</td>\n",
       "      <td>54+3</td>\n",
       "      <td>54+3</td>\n",
       "      <td>62+3</td>\n",
       "      <td>77.00</td>\n",
       "      <td>88.00</td>\n",
       "      <td>77.00</td>\n",
       "      <td>82.00</td>\n",
       "      <td>78.00</td>\n",
       "      <td>90.00</td>\n",
       "      <td>77.00</td>\n",
       "      <td>63.00</td>\n",
       "      <td>73.00</td>\n",
       "      <td>91.00</td>\n",
       "      <td>96.00</td>\n",
       "      <td>96.00</td>\n",
       "      <td>92.00</td>\n",
       "      <td>87.00</td>\n",
       "      <td>83.00</td>\n",
       "      <td>79.00</td>\n",
       "      <td>75.00</td>\n",
       "      <td>83.00</td>\n",
       "      <td>71.00</td>\n",
       "      <td>78.00</td>\n",
       "      <td>62.00</td>\n",
       "      <td>38.00</td>\n",
       "      <td>88.00</td>\n",
       "      <td>82.00</td>\n",
       "      <td>70.00</td>\n",
       "      <td>86.00</td>\n",
       "      <td>34.00</td>\n",
       "      <td>34.00</td>\n",
       "      <td>32.00</td>\n",
       "      <td>13.00</td>\n",
       "      <td>5.00</td>\n",
       "      <td>7.00</td>\n",
       "      <td>11.00</td>\n",
       "      <td>6.00</td>\n",
       "      <td>€166.1M</td>\n",
       "      <td>183</td>\n",
       "    </tr>\n",
       "    <tr>\n",
       "      <th>216258</th>\n",
       "      <td>I. Bebou</td>\n",
       "      <td>24</td>\n",
       "      <td>Togo</td>\n",
       "      <td>76</td>\n",
       "      <td>81</td>\n",
       "      <td>Hannover 96</td>\n",
       "      <td>10500000.00</td>\n",
       "      <td>28000.00</td>\n",
       "      <td>1832</td>\n",
       "      <td>Right</td>\n",
       "      <td>1.00</td>\n",
       "      <td>3.00</td>\n",
       "      <td>4.00</td>\n",
       "      <td>High/ Medium</td>\n",
       "      <td>Lean</td>\n",
       "      <td>RM</td>\n",
       "      <td>13.00</td>\n",
       "      <td>Aug 31, 2017</td>\n",
       "      <td>NaN</td>\n",
       "      <td>2021</td>\n",
       "      <td>1.83</td>\n",
       "      <td>77.11</td>\n",
       "      <td>72+2</td>\n",
       "      <td>72+2</td>\n",
       "      <td>72+2</td>\n",
       "      <td>76+2</td>\n",
       "      <td>74+2</td>\n",
       "      <td>74+2</td>\n",
       "      <td>74+2</td>\n",
       "      <td>76+2</td>\n",
       "      <td>73+2</td>\n",
       "      <td>73+2</td>\n",
       "      <td>73+2</td>\n",
       "      <td>75+2</td>\n",
       "      <td>66+2</td>\n",
       "      <td>66+2</td>\n",
       "      <td>66+2</td>\n",
       "      <td>75+2</td>\n",
       "      <td>59+2</td>\n",
       "      <td>52+2</td>\n",
       "      <td>52+2</td>\n",
       "      <td>52+2</td>\n",
       "      <td>59+2</td>\n",
       "      <td>56+2</td>\n",
       "      <td>45+2</td>\n",
       "      <td>45+2</td>\n",
       "      <td>45+2</td>\n",
       "      <td>56+2</td>\n",
       "      <td>66.00</td>\n",
       "      <td>74.00</td>\n",
       "      <td>55.00</td>\n",
       "      <td>72.00</td>\n",
       "      <td>63.00</td>\n",
       "      <td>81.00</td>\n",
       "      <td>63.00</td>\n",
       "      <td>46.00</td>\n",
       "      <td>53.00</td>\n",
       "      <td>77.00</td>\n",
       "      <td>91.00</td>\n",
       "      <td>95.00</td>\n",
       "      <td>84.00</td>\n",
       "      <td>73.00</td>\n",
       "      <td>75.00</td>\n",
       "      <td>66.00</td>\n",
       "      <td>69.00</td>\n",
       "      <td>79.00</td>\n",
       "      <td>60.00</td>\n",
       "      <td>64.00</td>\n",
       "      <td>43.00</td>\n",
       "      <td>31.00</td>\n",
       "      <td>71.00</td>\n",
       "      <td>65.00</td>\n",
       "      <td>67.00</td>\n",
       "      <td>66.00</td>\n",
       "      <td>26.00</td>\n",
       "      <td>35.00</td>\n",
       "      <td>33.00</td>\n",
       "      <td>10.00</td>\n",
       "      <td>11.00</td>\n",
       "      <td>12.00</td>\n",
       "      <td>11.00</td>\n",
       "      <td>11.00</td>\n",
       "      <td>€19.7M</td>\n",
       "      <td>157</td>\n",
       "    </tr>\n",
       "    <tr>\n",
       "      <th>173731</th>\n",
       "      <td>G. Bale</td>\n",
       "      <td>28</td>\n",
       "      <td>Wales</td>\n",
       "      <td>88</td>\n",
       "      <td>88</td>\n",
       "      <td>Real Madrid</td>\n",
       "      <td>60000000.00</td>\n",
       "      <td>355000.00</td>\n",
       "      <td>2279</td>\n",
       "      <td>Left</td>\n",
       "      <td>4.00</td>\n",
       "      <td>3.00</td>\n",
       "      <td>4.00</td>\n",
       "      <td>High/ Medium</td>\n",
       "      <td>Lean</td>\n",
       "      <td>ST</td>\n",
       "      <td>11.00</td>\n",
       "      <td>Sep 2, 2013</td>\n",
       "      <td>NaN</td>\n",
       "      <td>2022</td>\n",
       "      <td>1.85</td>\n",
       "      <td>82.10</td>\n",
       "      <td>86+3</td>\n",
       "      <td>86+3</td>\n",
       "      <td>86+3</td>\n",
       "      <td>86+3</td>\n",
       "      <td>86+3</td>\n",
       "      <td>86+3</td>\n",
       "      <td>86+3</td>\n",
       "      <td>86+3</td>\n",
       "      <td>85+3</td>\n",
       "      <td>85+3</td>\n",
       "      <td>85+3</td>\n",
       "      <td>85+3</td>\n",
       "      <td>80+3</td>\n",
       "      <td>80+3</td>\n",
       "      <td>80+3</td>\n",
       "      <td>85+3</td>\n",
       "      <td>73+3</td>\n",
       "      <td>70+3</td>\n",
       "      <td>70+3</td>\n",
       "      <td>70+3</td>\n",
       "      <td>73+3</td>\n",
       "      <td>71+3</td>\n",
       "      <td>67+3</td>\n",
       "      <td>67+3</td>\n",
       "      <td>67+3</td>\n",
       "      <td>71+3</td>\n",
       "      <td>87.00</td>\n",
       "      <td>86.00</td>\n",
       "      <td>84.00</td>\n",
       "      <td>85.00</td>\n",
       "      <td>85.00</td>\n",
       "      <td>87.00</td>\n",
       "      <td>90.00</td>\n",
       "      <td>87.00</td>\n",
       "      <td>80.00</td>\n",
       "      <td>85.00</td>\n",
       "      <td>94.00</td>\n",
       "      <td>95.00</td>\n",
       "      <td>82.00</td>\n",
       "      <td>85.00</td>\n",
       "      <td>65.00</td>\n",
       "      <td>92.00</td>\n",
       "      <td>87.00</td>\n",
       "      <td>75.00</td>\n",
       "      <td>80.00</td>\n",
       "      <td>91.00</td>\n",
       "      <td>65.00</td>\n",
       "      <td>59.00</td>\n",
       "      <td>85.00</td>\n",
       "      <td>79.00</td>\n",
       "      <td>76.00</td>\n",
       "      <td>86.00</td>\n",
       "      <td>54.00</td>\n",
       "      <td>55.00</td>\n",
       "      <td>52.00</td>\n",
       "      <td>15.00</td>\n",
       "      <td>15.00</td>\n",
       "      <td>11.00</td>\n",
       "      <td>5.00</td>\n",
       "      <td>6.00</td>\n",
       "      <td>€123M</td>\n",
       "      <td>176</td>\n",
       "    </tr>\n",
       "  </tbody>\n",
       "</table>\n",
       "<p>5 rows × 84 columns</p>\n",
       "</div>"
      ],
      "text/plain": [
       "             name  age nationality  overall  potential  \\\n",
       "ID                                                       \n",
       "213956      Adama   22       Spain       75         85   \n",
       "222492    L. Sané   22     Germany       86         92   \n",
       "231747  K. Mbappé   19      France       88         95   \n",
       "216258   I. Bebou   24        Togo       76         81   \n",
       "173731    G. Bale   28       Wales       88         88   \n",
       "\n",
       "                           club       value      wage  special preferred foot  \\\n",
       "ID                                                                              \n",
       "213956  Wolverhampton Wanderers 10500000.00  54000.00     1772          Right   \n",
       "222492          Manchester City 61000000.00 195000.00     2090           Left   \n",
       "231747      Paris Saint-Germain 81000000.00 100000.00     2118          Right   \n",
       "216258              Hannover 96 10500000.00  28000.00     1832          Right   \n",
       "173731              Real Madrid 60000000.00 355000.00     2279           Left   \n",
       "\n",
       "        international reputation  weak foot  skill moves     work rate  \\\n",
       "ID                                                                       \n",
       "213956                      1.00       2.00         3.00     High/ Low   \n",
       "222492                      2.00       3.00         4.00  High/ Medium   \n",
       "231747                      3.00       4.00         5.00  High/ Medium   \n",
       "216258                      1.00       3.00         4.00  High/ Medium   \n",
       "173731                      4.00       3.00         4.00  High/ Medium   \n",
       "\n",
       "       body type position  jersey number        joined loaned from  \\\n",
       "ID                                                                   \n",
       "213956    Stocky       RW          37.00   Aug 8, 2018         NaN   \n",
       "222492      Lean       LW          19.00   Aug 2, 2016         NaN   \n",
       "231747      Lean       RM          10.00   Jul 1, 2018         NaN   \n",
       "216258      Lean       RM          13.00  Aug 31, 2017         NaN   \n",
       "173731      Lean       ST          11.00   Sep 2, 2013         NaN   \n",
       "\n",
       "       contract valid until  height  weight    ls    st    rs    lw    lf  \\\n",
       "ID                                                                          \n",
       "213956                 2023    1.78   76.20  68+2  68+2  68+2  74+2  72+2   \n",
       "222492                 2021    1.83   74.84  82+2  82+2  82+2  84+2  84+2   \n",
       "231747                 2022    1.78   73.03  85+3  85+3  85+3  87+3  87+3   \n",
       "216258                 2021    1.83   77.11  72+2  72+2  72+2  76+2  74+2   \n",
       "173731                 2022    1.85   82.10  86+3  86+3  86+3  86+3  86+3   \n",
       "\n",
       "          cf    rf    rw   lam   cam   ram    lm   lcm    cm   rcm    rm  \\\n",
       "ID                                                                         \n",
       "213956  72+2  72+2  74+2  71+2  71+2  71+2  74+2  63+2  63+2  63+2  74+2   \n",
       "222492  84+2  84+2  84+2  82+2  82+2  82+2  83+2  74+2  74+2  74+2  83+2   \n",
       "231747  87+3  87+3  87+3  86+3  86+3  86+3  86+3  78+3  78+3  78+3  86+3   \n",
       "216258  74+2  74+2  76+2  73+2  73+2  73+2  75+2  66+2  66+2  66+2  75+2   \n",
       "173731  86+3  86+3  86+3  85+3  85+3  85+3  85+3  80+3  80+3  80+3  85+3   \n",
       "\n",
       "         lwb   ldm   cdm   rdm   rwb    lb   lcb    cb   rcb    rb  crossing  \\\n",
       "ID                                                                             \n",
       "213956  56+2  50+2  50+2  50+2  56+2  51+2  42+2  42+2  42+2  51+2     72.00   \n",
       "222492  65+2  59+2  59+2  59+2  65+2  61+2  52+2  52+2  52+2  61+2     83.00   \n",
       "231747  66+3  62+3  62+3  62+3  66+3  62+3  54+3  54+3  54+3  62+3     77.00   \n",
       "216258  59+2  52+2  52+2  52+2  59+2  56+2  45+2  45+2  45+2  56+2     66.00   \n",
       "173731  73+3  70+3  70+3  70+3  73+3  71+3  67+3  67+3  67+3  71+3     87.00   \n",
       "\n",
       "        finishing  headingaccuracy  shortpassing  volleys  dribbling  curve  \\\n",
       "ID                                                                            \n",
       "213956      61.00            40.00         66.00    52.00      89.00  65.00   \n",
       "222492      81.00            72.00         79.00    85.00      88.00  82.00   \n",
       "231747      88.00            77.00         82.00    78.00      90.00  77.00   \n",
       "216258      74.00            55.00         72.00    63.00      81.00  63.00   \n",
       "173731      86.00            84.00         85.00    85.00      87.00  90.00   \n",
       "\n",
       "        fkaccuracy  longpassing  ballcontrol  acceleration  sprintspeed  \\\n",
       "ID                                                                        \n",
       "213956       42.00        56.00        83.00         97.00        96.00   \n",
       "222492       68.00        64.00        85.00         93.00        96.00   \n",
       "231747       63.00        73.00        91.00         96.00        96.00   \n",
       "216258       46.00        53.00        77.00         91.00        95.00   \n",
       "173731       87.00        80.00        85.00         94.00        95.00   \n",
       "\n",
       "        agility  reactions  balance  shotpower  jumping  stamina  strength  \\\n",
       "ID                                                                           \n",
       "213956    81.00      63.00    83.00      74.00    73.00    75.00     83.00   \n",
       "222492    88.00      81.00    81.00      86.00    64.00    79.00     70.00   \n",
       "231747    92.00      87.00    83.00      79.00    75.00    83.00     71.00   \n",
       "216258    84.00      73.00    75.00      66.00    69.00    79.00     60.00   \n",
       "173731    82.00      85.00    65.00      92.00    87.00    75.00     80.00   \n",
       "\n",
       "        longshots  aggression  interceptions  positioning  vision  penalties  \\\n",
       "ID                                                                             \n",
       "213956      55.00       54.00          29.00        62.00   57.00      47.00   \n",
       "222492      78.00       61.00          34.00        84.00   82.00      71.00   \n",
       "231747      78.00       62.00          38.00        88.00   82.00      70.00   \n",
       "216258      64.00       43.00          31.00        71.00   65.00      67.00   \n",
       "173731      91.00       65.00          59.00        85.00   79.00      76.00   \n",
       "\n",
       "        composure  marking  standingtackle  slidingtackle  gkdiving  \\\n",
       "ID                                                                    \n",
       "213956      70.00    16.00           26.00          23.00     13.00   \n",
       "222492      78.00    36.00           32.00          35.00      8.00   \n",
       "231747      86.00    34.00           34.00          32.00     13.00   \n",
       "216258      66.00    26.00           35.00          33.00     10.00   \n",
       "173731      86.00    54.00           55.00          52.00     15.00   \n",
       "\n",
       "        gkhandling  gkkicking  gkpositioning  gkreflexes release clause  \\\n",
       "ID                                                                        \n",
       "213956        9.00      11.00          12.00        7.00         €22.1M   \n",
       "222492       12.00       9.00           9.00       14.00        €125.1M   \n",
       "231747        5.00       7.00          11.00        6.00        €166.1M   \n",
       "216258       11.00      12.00          11.00       11.00         €19.7M   \n",
       "173731       15.00      11.00           5.00        6.00          €123M   \n",
       "\n",
       "        total_score  \n",
       "ID                   \n",
       "213956          160  \n",
       "222492          178  \n",
       "231747          183  \n",
       "216258          157  \n",
       "173731          176  \n",
       "\n",
       "[5 rows x 84 columns]"
      ]
     },
     "execution_count": 27,
     "metadata": {},
     "output_type": "execute_result"
    }
   ],
   "source": [
    "# 20. Quem são os jogadores mais rápidos (variável/atributo 'Sprint speed'=?\n",
    "\n",
    "df_fifa.sort_values(by='sprintspeed', ascending=False).head(5)"
   ]
  },
  {
   "cell_type": "code",
   "execution_count": 28,
   "metadata": {},
   "outputs": [
    {
     "data": {
      "text/html": [
       "<div>\n",
       "<style scoped>\n",
       "    .dataframe tbody tr th:only-of-type {\n",
       "        vertical-align: middle;\n",
       "    }\n",
       "\n",
       "    .dataframe tbody tr th {\n",
       "        vertical-align: top;\n",
       "    }\n",
       "\n",
       "    .dataframe thead th {\n",
       "        text-align: right;\n",
       "    }\n",
       "</style>\n",
       "<table border=\"1\" class=\"dataframe\">\n",
       "  <thead>\n",
       "    <tr style=\"text-align: right;\">\n",
       "      <th></th>\n",
       "      <th>name</th>\n",
       "      <th>age</th>\n",
       "      <th>nationality</th>\n",
       "      <th>overall</th>\n",
       "      <th>potential</th>\n",
       "      <th>club</th>\n",
       "      <th>value</th>\n",
       "      <th>wage</th>\n",
       "      <th>special</th>\n",
       "      <th>preferred foot</th>\n",
       "      <th>international reputation</th>\n",
       "      <th>weak foot</th>\n",
       "      <th>skill moves</th>\n",
       "      <th>work rate</th>\n",
       "      <th>body type</th>\n",
       "      <th>position</th>\n",
       "      <th>jersey number</th>\n",
       "      <th>joined</th>\n",
       "      <th>loaned from</th>\n",
       "      <th>contract valid until</th>\n",
       "      <th>height</th>\n",
       "      <th>weight</th>\n",
       "      <th>ls</th>\n",
       "      <th>st</th>\n",
       "      <th>rs</th>\n",
       "      <th>lw</th>\n",
       "      <th>lf</th>\n",
       "      <th>cf</th>\n",
       "      <th>rf</th>\n",
       "      <th>rw</th>\n",
       "      <th>lam</th>\n",
       "      <th>cam</th>\n",
       "      <th>ram</th>\n",
       "      <th>lm</th>\n",
       "      <th>lcm</th>\n",
       "      <th>cm</th>\n",
       "      <th>rcm</th>\n",
       "      <th>rm</th>\n",
       "      <th>lwb</th>\n",
       "      <th>ldm</th>\n",
       "      <th>cdm</th>\n",
       "      <th>rdm</th>\n",
       "      <th>rwb</th>\n",
       "      <th>lb</th>\n",
       "      <th>lcb</th>\n",
       "      <th>cb</th>\n",
       "      <th>rcb</th>\n",
       "      <th>rb</th>\n",
       "      <th>crossing</th>\n",
       "      <th>finishing</th>\n",
       "      <th>headingaccuracy</th>\n",
       "      <th>shortpassing</th>\n",
       "      <th>volleys</th>\n",
       "      <th>dribbling</th>\n",
       "      <th>curve</th>\n",
       "      <th>fkaccuracy</th>\n",
       "      <th>longpassing</th>\n",
       "      <th>ballcontrol</th>\n",
       "      <th>acceleration</th>\n",
       "      <th>sprintspeed</th>\n",
       "      <th>agility</th>\n",
       "      <th>reactions</th>\n",
       "      <th>balance</th>\n",
       "      <th>shotpower</th>\n",
       "      <th>jumping</th>\n",
       "      <th>stamina</th>\n",
       "      <th>strength</th>\n",
       "      <th>longshots</th>\n",
       "      <th>aggression</th>\n",
       "      <th>interceptions</th>\n",
       "      <th>positioning</th>\n",
       "      <th>vision</th>\n",
       "      <th>penalties</th>\n",
       "      <th>composure</th>\n",
       "      <th>marking</th>\n",
       "      <th>standingtackle</th>\n",
       "      <th>slidingtackle</th>\n",
       "      <th>gkdiving</th>\n",
       "      <th>gkhandling</th>\n",
       "      <th>gkkicking</th>\n",
       "      <th>gkpositioning</th>\n",
       "      <th>gkreflexes</th>\n",
       "      <th>release clause</th>\n",
       "      <th>total_score</th>\n",
       "    </tr>\n",
       "    <tr>\n",
       "      <th>ID</th>\n",
       "      <th></th>\n",
       "      <th></th>\n",
       "      <th></th>\n",
       "      <th></th>\n",
       "      <th></th>\n",
       "      <th></th>\n",
       "      <th></th>\n",
       "      <th></th>\n",
       "      <th></th>\n",
       "      <th></th>\n",
       "      <th></th>\n",
       "      <th></th>\n",
       "      <th></th>\n",
       "      <th></th>\n",
       "      <th></th>\n",
       "      <th></th>\n",
       "      <th></th>\n",
       "      <th></th>\n",
       "      <th></th>\n",
       "      <th></th>\n",
       "      <th></th>\n",
       "      <th></th>\n",
       "      <th></th>\n",
       "      <th></th>\n",
       "      <th></th>\n",
       "      <th></th>\n",
       "      <th></th>\n",
       "      <th></th>\n",
       "      <th></th>\n",
       "      <th></th>\n",
       "      <th></th>\n",
       "      <th></th>\n",
       "      <th></th>\n",
       "      <th></th>\n",
       "      <th></th>\n",
       "      <th></th>\n",
       "      <th></th>\n",
       "      <th></th>\n",
       "      <th></th>\n",
       "      <th></th>\n",
       "      <th></th>\n",
       "      <th></th>\n",
       "      <th></th>\n",
       "      <th></th>\n",
       "      <th></th>\n",
       "      <th></th>\n",
       "      <th></th>\n",
       "      <th></th>\n",
       "      <th></th>\n",
       "      <th></th>\n",
       "      <th></th>\n",
       "      <th></th>\n",
       "      <th></th>\n",
       "      <th></th>\n",
       "      <th></th>\n",
       "      <th></th>\n",
       "      <th></th>\n",
       "      <th></th>\n",
       "      <th></th>\n",
       "      <th></th>\n",
       "      <th></th>\n",
       "      <th></th>\n",
       "      <th></th>\n",
       "      <th></th>\n",
       "      <th></th>\n",
       "      <th></th>\n",
       "      <th></th>\n",
       "      <th></th>\n",
       "      <th></th>\n",
       "      <th></th>\n",
       "      <th></th>\n",
       "      <th></th>\n",
       "      <th></th>\n",
       "      <th></th>\n",
       "      <th></th>\n",
       "      <th></th>\n",
       "      <th></th>\n",
       "      <th></th>\n",
       "      <th></th>\n",
       "      <th></th>\n",
       "      <th></th>\n",
       "      <th></th>\n",
       "      <th></th>\n",
       "      <th></th>\n",
       "    </tr>\n",
       "  </thead>\n",
       "  <tbody>\n",
       "    <tr>\n",
       "      <th>20801</th>\n",
       "      <td>Cristiano Ronaldo</td>\n",
       "      <td>33</td>\n",
       "      <td>Portugal</td>\n",
       "      <td>94</td>\n",
       "      <td>94</td>\n",
       "      <td>Juventus</td>\n",
       "      <td>77000000.00</td>\n",
       "      <td>405000.00</td>\n",
       "      <td>2228</td>\n",
       "      <td>Right</td>\n",
       "      <td>5.00</td>\n",
       "      <td>4.00</td>\n",
       "      <td>5.00</td>\n",
       "      <td>High/ Low</td>\n",
       "      <td>C. Ronaldo</td>\n",
       "      <td>ST</td>\n",
       "      <td>7.00</td>\n",
       "      <td>Jul 10, 2018</td>\n",
       "      <td>NaN</td>\n",
       "      <td>2022</td>\n",
       "      <td>1.88</td>\n",
       "      <td>83.01</td>\n",
       "      <td>91+3</td>\n",
       "      <td>91+3</td>\n",
       "      <td>91+3</td>\n",
       "      <td>89+3</td>\n",
       "      <td>90+3</td>\n",
       "      <td>90+3</td>\n",
       "      <td>90+3</td>\n",
       "      <td>89+3</td>\n",
       "      <td>88+3</td>\n",
       "      <td>88+3</td>\n",
       "      <td>88+3</td>\n",
       "      <td>88+3</td>\n",
       "      <td>81+3</td>\n",
       "      <td>81+3</td>\n",
       "      <td>81+3</td>\n",
       "      <td>88+3</td>\n",
       "      <td>65+3</td>\n",
       "      <td>61+3</td>\n",
       "      <td>61+3</td>\n",
       "      <td>61+3</td>\n",
       "      <td>65+3</td>\n",
       "      <td>61+3</td>\n",
       "      <td>53+3</td>\n",
       "      <td>53+3</td>\n",
       "      <td>53+3</td>\n",
       "      <td>61+3</td>\n",
       "      <td>84.00</td>\n",
       "      <td>94.00</td>\n",
       "      <td>89.00</td>\n",
       "      <td>81.00</td>\n",
       "      <td>87.00</td>\n",
       "      <td>88.00</td>\n",
       "      <td>81.00</td>\n",
       "      <td>76.00</td>\n",
       "      <td>77.00</td>\n",
       "      <td>94.00</td>\n",
       "      <td>89.00</td>\n",
       "      <td>91.00</td>\n",
       "      <td>87.00</td>\n",
       "      <td>96.00</td>\n",
       "      <td>70.00</td>\n",
       "      <td>95.00</td>\n",
       "      <td>95.00</td>\n",
       "      <td>88.00</td>\n",
       "      <td>79.00</td>\n",
       "      <td>93.00</td>\n",
       "      <td>63.00</td>\n",
       "      <td>29.00</td>\n",
       "      <td>95.00</td>\n",
       "      <td>82.00</td>\n",
       "      <td>85.00</td>\n",
       "      <td>95.00</td>\n",
       "      <td>28.00</td>\n",
       "      <td>31.00</td>\n",
       "      <td>23.00</td>\n",
       "      <td>7.00</td>\n",
       "      <td>11.00</td>\n",
       "      <td>15.00</td>\n",
       "      <td>14.00</td>\n",
       "      <td>11.00</td>\n",
       "      <td>€127.1M</td>\n",
       "      <td>188</td>\n",
       "    </tr>\n",
       "    <tr>\n",
       "      <th>189362</th>\n",
       "      <td>Hulk</td>\n",
       "      <td>31</td>\n",
       "      <td>Brazil</td>\n",
       "      <td>81</td>\n",
       "      <td>81</td>\n",
       "      <td>Shanghai SIPG FC</td>\n",
       "      <td>15500000.00</td>\n",
       "      <td>25000.00</td>\n",
       "      <td>2102</td>\n",
       "      <td>Left</td>\n",
       "      <td>4.00</td>\n",
       "      <td>3.00</td>\n",
       "      <td>4.00</td>\n",
       "      <td>High/ Medium</td>\n",
       "      <td>Stocky</td>\n",
       "      <td>RCM</td>\n",
       "      <td>10.00</td>\n",
       "      <td>Jul 1, 2017</td>\n",
       "      <td>NaN</td>\n",
       "      <td>2020</td>\n",
       "      <td>1.80</td>\n",
       "      <td>84.82</td>\n",
       "      <td>81+3</td>\n",
       "      <td>81+3</td>\n",
       "      <td>81+3</td>\n",
       "      <td>79+3</td>\n",
       "      <td>81+3</td>\n",
       "      <td>81+3</td>\n",
       "      <td>81+3</td>\n",
       "      <td>79+3</td>\n",
       "      <td>79+3</td>\n",
       "      <td>79+3</td>\n",
       "      <td>79+3</td>\n",
       "      <td>79+3</td>\n",
       "      <td>75+3</td>\n",
       "      <td>75+3</td>\n",
       "      <td>75+3</td>\n",
       "      <td>79+3</td>\n",
       "      <td>65+3</td>\n",
       "      <td>65+3</td>\n",
       "      <td>65+3</td>\n",
       "      <td>65+3</td>\n",
       "      <td>65+3</td>\n",
       "      <td>61+3</td>\n",
       "      <td>59+3</td>\n",
       "      <td>59+3</td>\n",
       "      <td>59+3</td>\n",
       "      <td>61+3</td>\n",
       "      <td>76.00</td>\n",
       "      <td>81.00</td>\n",
       "      <td>69.00</td>\n",
       "      <td>78.00</td>\n",
       "      <td>73.00</td>\n",
       "      <td>82.00</td>\n",
       "      <td>78.00</td>\n",
       "      <td>81.00</td>\n",
       "      <td>72.00</td>\n",
       "      <td>79.00</td>\n",
       "      <td>81.00</td>\n",
       "      <td>80.00</td>\n",
       "      <td>69.00</td>\n",
       "      <td>82.00</td>\n",
       "      <td>59.00</td>\n",
       "      <td>94.00</td>\n",
       "      <td>69.00</td>\n",
       "      <td>86.00</td>\n",
       "      <td>92.00</td>\n",
       "      <td>90.00</td>\n",
       "      <td>83.00</td>\n",
       "      <td>48.00</td>\n",
       "      <td>82.00</td>\n",
       "      <td>75.00</td>\n",
       "      <td>78.00</td>\n",
       "      <td>75.00</td>\n",
       "      <td>50.00</td>\n",
       "      <td>41.00</td>\n",
       "      <td>28.00</td>\n",
       "      <td>6.00</td>\n",
       "      <td>10.00</td>\n",
       "      <td>7.00</td>\n",
       "      <td>11.00</td>\n",
       "      <td>12.00</td>\n",
       "      <td>€34.1M</td>\n",
       "      <td>162</td>\n",
       "    </tr>\n",
       "    <tr>\n",
       "      <th>169051</th>\n",
       "      <td>F. Guarín</td>\n",
       "      <td>32</td>\n",
       "      <td>Colombia</td>\n",
       "      <td>76</td>\n",
       "      <td>76</td>\n",
       "      <td>Shanghai Greenland Shenhua FC</td>\n",
       "      <td>6000000.00</td>\n",
       "      <td>16000.00</td>\n",
       "      <td>2102</td>\n",
       "      <td>Right</td>\n",
       "      <td>3.00</td>\n",
       "      <td>4.00</td>\n",
       "      <td>4.00</td>\n",
       "      <td>High/ Medium</td>\n",
       "      <td>Stocky</td>\n",
       "      <td>LDM</td>\n",
       "      <td>13.00</td>\n",
       "      <td>Jan 27, 2016</td>\n",
       "      <td>NaN</td>\n",
       "      <td>2019</td>\n",
       "      <td>1.83</td>\n",
       "      <td>79.83</td>\n",
       "      <td>73+3</td>\n",
       "      <td>73+3</td>\n",
       "      <td>73+3</td>\n",
       "      <td>72+3</td>\n",
       "      <td>73+3</td>\n",
       "      <td>73+3</td>\n",
       "      <td>73+3</td>\n",
       "      <td>72+3</td>\n",
       "      <td>73+3</td>\n",
       "      <td>73+3</td>\n",
       "      <td>73+3</td>\n",
       "      <td>72+3</td>\n",
       "      <td>74+3</td>\n",
       "      <td>74+3</td>\n",
       "      <td>74+3</td>\n",
       "      <td>72+3</td>\n",
       "      <td>69+3</td>\n",
       "      <td>71+3</td>\n",
       "      <td>71+3</td>\n",
       "      <td>71+3</td>\n",
       "      <td>69+3</td>\n",
       "      <td>67+3</td>\n",
       "      <td>68+3</td>\n",
       "      <td>68+3</td>\n",
       "      <td>68+3</td>\n",
       "      <td>67+3</td>\n",
       "      <td>70.00</td>\n",
       "      <td>70.00</td>\n",
       "      <td>63.00</td>\n",
       "      <td>74.00</td>\n",
       "      <td>67.00</td>\n",
       "      <td>75.00</td>\n",
       "      <td>68.00</td>\n",
       "      <td>84.00</td>\n",
       "      <td>76.00</td>\n",
       "      <td>78.00</td>\n",
       "      <td>68.00</td>\n",
       "      <td>63.00</td>\n",
       "      <td>65.00</td>\n",
       "      <td>70.00</td>\n",
       "      <td>77.00</td>\n",
       "      <td>93.00</td>\n",
       "      <td>70.00</td>\n",
       "      <td>79.00</td>\n",
       "      <td>90.00</td>\n",
       "      <td>84.00</td>\n",
       "      <td>77.00</td>\n",
       "      <td>68.00</td>\n",
       "      <td>70.00</td>\n",
       "      <td>75.00</td>\n",
       "      <td>76.00</td>\n",
       "      <td>76.00</td>\n",
       "      <td>60.00</td>\n",
       "      <td>66.00</td>\n",
       "      <td>60.00</td>\n",
       "      <td>12.00</td>\n",
       "      <td>13.00</td>\n",
       "      <td>13.00</td>\n",
       "      <td>15.00</td>\n",
       "      <td>13.00</td>\n",
       "      <td>€12.9M</td>\n",
       "      <td>152</td>\n",
       "    </tr>\n",
       "    <tr>\n",
       "      <th>150516</th>\n",
       "      <td>L. Podolski</td>\n",
       "      <td>33</td>\n",
       "      <td>Germany</td>\n",
       "      <td>78</td>\n",
       "      <td>78</td>\n",
       "      <td>Vissel Kobe</td>\n",
       "      <td>6500000.00</td>\n",
       "      <td>11000.00</td>\n",
       "      <td>2048</td>\n",
       "      <td>Left</td>\n",
       "      <td>3.00</td>\n",
       "      <td>3.00</td>\n",
       "      <td>4.00</td>\n",
       "      <td>Medium/ Low</td>\n",
       "      <td>Normal</td>\n",
       "      <td>RF</td>\n",
       "      <td>10.00</td>\n",
       "      <td>Jul 1, 2017</td>\n",
       "      <td>NaN</td>\n",
       "      <td>2019</td>\n",
       "      <td>1.83</td>\n",
       "      <td>83.01</td>\n",
       "      <td>77+3</td>\n",
       "      <td>77+3</td>\n",
       "      <td>77+3</td>\n",
       "      <td>76+3</td>\n",
       "      <td>77+3</td>\n",
       "      <td>77+3</td>\n",
       "      <td>77+3</td>\n",
       "      <td>76+3</td>\n",
       "      <td>76+3</td>\n",
       "      <td>76+3</td>\n",
       "      <td>76+3</td>\n",
       "      <td>75+3</td>\n",
       "      <td>71+3</td>\n",
       "      <td>71+3</td>\n",
       "      <td>71+3</td>\n",
       "      <td>75+3</td>\n",
       "      <td>62+3</td>\n",
       "      <td>61+3</td>\n",
       "      <td>61+3</td>\n",
       "      <td>61+3</td>\n",
       "      <td>62+3</td>\n",
       "      <td>59+3</td>\n",
       "      <td>56+3</td>\n",
       "      <td>56+3</td>\n",
       "      <td>56+3</td>\n",
       "      <td>59+3</td>\n",
       "      <td>75.00</td>\n",
       "      <td>77.00</td>\n",
       "      <td>66.00</td>\n",
       "      <td>76.00</td>\n",
       "      <td>88.00</td>\n",
       "      <td>78.00</td>\n",
       "      <td>80.00</td>\n",
       "      <td>75.00</td>\n",
       "      <td>67.00</td>\n",
       "      <td>78.00</td>\n",
       "      <td>76.00</td>\n",
       "      <td>75.00</td>\n",
       "      <td>67.00</td>\n",
       "      <td>76.00</td>\n",
       "      <td>70.00</td>\n",
       "      <td>92.00</td>\n",
       "      <td>71.00</td>\n",
       "      <td>70.00</td>\n",
       "      <td>83.00</td>\n",
       "      <td>80.00</td>\n",
       "      <td>70.00</td>\n",
       "      <td>36.00</td>\n",
       "      <td>75.00</td>\n",
       "      <td>79.00</td>\n",
       "      <td>83.00</td>\n",
       "      <td>79.00</td>\n",
       "      <td>54.00</td>\n",
       "      <td>39.00</td>\n",
       "      <td>39.00</td>\n",
       "      <td>10.00</td>\n",
       "      <td>9.00</td>\n",
       "      <td>16.00</td>\n",
       "      <td>9.00</td>\n",
       "      <td>9.00</td>\n",
       "      <td>€8.1M</td>\n",
       "      <td>156</td>\n",
       "    </tr>\n",
       "    <tr>\n",
       "      <th>173731</th>\n",
       "      <td>G. Bale</td>\n",
       "      <td>28</td>\n",
       "      <td>Wales</td>\n",
       "      <td>88</td>\n",
       "      <td>88</td>\n",
       "      <td>Real Madrid</td>\n",
       "      <td>60000000.00</td>\n",
       "      <td>355000.00</td>\n",
       "      <td>2279</td>\n",
       "      <td>Left</td>\n",
       "      <td>4.00</td>\n",
       "      <td>3.00</td>\n",
       "      <td>4.00</td>\n",
       "      <td>High/ Medium</td>\n",
       "      <td>Lean</td>\n",
       "      <td>ST</td>\n",
       "      <td>11.00</td>\n",
       "      <td>Sep 2, 2013</td>\n",
       "      <td>NaN</td>\n",
       "      <td>2022</td>\n",
       "      <td>1.85</td>\n",
       "      <td>82.10</td>\n",
       "      <td>86+3</td>\n",
       "      <td>86+3</td>\n",
       "      <td>86+3</td>\n",
       "      <td>86+3</td>\n",
       "      <td>86+3</td>\n",
       "      <td>86+3</td>\n",
       "      <td>86+3</td>\n",
       "      <td>86+3</td>\n",
       "      <td>85+3</td>\n",
       "      <td>85+3</td>\n",
       "      <td>85+3</td>\n",
       "      <td>85+3</td>\n",
       "      <td>80+3</td>\n",
       "      <td>80+3</td>\n",
       "      <td>80+3</td>\n",
       "      <td>85+3</td>\n",
       "      <td>73+3</td>\n",
       "      <td>70+3</td>\n",
       "      <td>70+3</td>\n",
       "      <td>70+3</td>\n",
       "      <td>73+3</td>\n",
       "      <td>71+3</td>\n",
       "      <td>67+3</td>\n",
       "      <td>67+3</td>\n",
       "      <td>67+3</td>\n",
       "      <td>71+3</td>\n",
       "      <td>87.00</td>\n",
       "      <td>86.00</td>\n",
       "      <td>84.00</td>\n",
       "      <td>85.00</td>\n",
       "      <td>85.00</td>\n",
       "      <td>87.00</td>\n",
       "      <td>90.00</td>\n",
       "      <td>87.00</td>\n",
       "      <td>80.00</td>\n",
       "      <td>85.00</td>\n",
       "      <td>94.00</td>\n",
       "      <td>95.00</td>\n",
       "      <td>82.00</td>\n",
       "      <td>85.00</td>\n",
       "      <td>65.00</td>\n",
       "      <td>92.00</td>\n",
       "      <td>87.00</td>\n",
       "      <td>75.00</td>\n",
       "      <td>80.00</td>\n",
       "      <td>91.00</td>\n",
       "      <td>65.00</td>\n",
       "      <td>59.00</td>\n",
       "      <td>85.00</td>\n",
       "      <td>79.00</td>\n",
       "      <td>76.00</td>\n",
       "      <td>86.00</td>\n",
       "      <td>54.00</td>\n",
       "      <td>55.00</td>\n",
       "      <td>52.00</td>\n",
       "      <td>15.00</td>\n",
       "      <td>15.00</td>\n",
       "      <td>11.00</td>\n",
       "      <td>5.00</td>\n",
       "      <td>6.00</td>\n",
       "      <td>€123M</td>\n",
       "      <td>176</td>\n",
       "    </tr>\n",
       "  </tbody>\n",
       "</table>\n",
       "<p>5 rows × 84 columns</p>\n",
       "</div>"
      ],
      "text/plain": [
       "                     name  age nationality  overall  potential  \\\n",
       "ID                                                               \n",
       "20801   Cristiano Ronaldo   33    Portugal       94         94   \n",
       "189362               Hulk   31      Brazil       81         81   \n",
       "169051          F. Guarín   32    Colombia       76         76   \n",
       "150516        L. Podolski   33     Germany       78         78   \n",
       "173731            G. Bale   28       Wales       88         88   \n",
       "\n",
       "                                 club       value      wage  special  \\\n",
       "ID                                                                     \n",
       "20801                        Juventus 77000000.00 405000.00     2228   \n",
       "189362               Shanghai SIPG FC 15500000.00  25000.00     2102   \n",
       "169051  Shanghai Greenland Shenhua FC  6000000.00  16000.00     2102   \n",
       "150516                    Vissel Kobe  6500000.00  11000.00     2048   \n",
       "173731                    Real Madrid 60000000.00 355000.00     2279   \n",
       "\n",
       "       preferred foot  international reputation  weak foot  skill moves  \\\n",
       "ID                                                                        \n",
       "20801           Right                      5.00       4.00         5.00   \n",
       "189362           Left                      4.00       3.00         4.00   \n",
       "169051          Right                      3.00       4.00         4.00   \n",
       "150516           Left                      3.00       3.00         4.00   \n",
       "173731           Left                      4.00       3.00         4.00   \n",
       "\n",
       "           work rate   body type position  jersey number        joined  \\\n",
       "ID                                                                       \n",
       "20801      High/ Low  C. Ronaldo       ST           7.00  Jul 10, 2018   \n",
       "189362  High/ Medium      Stocky      RCM          10.00   Jul 1, 2017   \n",
       "169051  High/ Medium      Stocky      LDM          13.00  Jan 27, 2016   \n",
       "150516   Medium/ Low      Normal       RF          10.00   Jul 1, 2017   \n",
       "173731  High/ Medium        Lean       ST          11.00   Sep 2, 2013   \n",
       "\n",
       "       loaned from contract valid until  height  weight    ls    st    rs  \\\n",
       "ID                                                                          \n",
       "20801          NaN                 2022    1.88   83.01  91+3  91+3  91+3   \n",
       "189362         NaN                 2020    1.80   84.82  81+3  81+3  81+3   \n",
       "169051         NaN                 2019    1.83   79.83  73+3  73+3  73+3   \n",
       "150516         NaN                 2019    1.83   83.01  77+3  77+3  77+3   \n",
       "173731         NaN                 2022    1.85   82.10  86+3  86+3  86+3   \n",
       "\n",
       "          lw    lf    cf    rf    rw   lam   cam   ram    lm   lcm    cm  \\\n",
       "ID                                                                         \n",
       "20801   89+3  90+3  90+3  90+3  89+3  88+3  88+3  88+3  88+3  81+3  81+3   \n",
       "189362  79+3  81+3  81+3  81+3  79+3  79+3  79+3  79+3  79+3  75+3  75+3   \n",
       "169051  72+3  73+3  73+3  73+3  72+3  73+3  73+3  73+3  72+3  74+3  74+3   \n",
       "150516  76+3  77+3  77+3  77+3  76+3  76+3  76+3  76+3  75+3  71+3  71+3   \n",
       "173731  86+3  86+3  86+3  86+3  86+3  85+3  85+3  85+3  85+3  80+3  80+3   \n",
       "\n",
       "         rcm    rm   lwb   ldm   cdm   rdm   rwb    lb   lcb    cb   rcb  \\\n",
       "ID                                                                         \n",
       "20801   81+3  88+3  65+3  61+3  61+3  61+3  65+3  61+3  53+3  53+3  53+3   \n",
       "189362  75+3  79+3  65+3  65+3  65+3  65+3  65+3  61+3  59+3  59+3  59+3   \n",
       "169051  74+3  72+3  69+3  71+3  71+3  71+3  69+3  67+3  68+3  68+3  68+3   \n",
       "150516  71+3  75+3  62+3  61+3  61+3  61+3  62+3  59+3  56+3  56+3  56+3   \n",
       "173731  80+3  85+3  73+3  70+3  70+3  70+3  73+3  71+3  67+3  67+3  67+3   \n",
       "\n",
       "          rb  crossing  finishing  headingaccuracy  shortpassing  volleys  \\\n",
       "ID                                                                          \n",
       "20801   61+3     84.00      94.00            89.00         81.00    87.00   \n",
       "189362  61+3     76.00      81.00            69.00         78.00    73.00   \n",
       "169051  67+3     70.00      70.00            63.00         74.00    67.00   \n",
       "150516  59+3     75.00      77.00            66.00         76.00    88.00   \n",
       "173731  71+3     87.00      86.00            84.00         85.00    85.00   \n",
       "\n",
       "        dribbling  curve  fkaccuracy  longpassing  ballcontrol  acceleration  \\\n",
       "ID                                                                             \n",
       "20801       88.00  81.00       76.00        77.00        94.00         89.00   \n",
       "189362      82.00  78.00       81.00        72.00        79.00         81.00   \n",
       "169051      75.00  68.00       84.00        76.00        78.00         68.00   \n",
       "150516      78.00  80.00       75.00        67.00        78.00         76.00   \n",
       "173731      87.00  90.00       87.00        80.00        85.00         94.00   \n",
       "\n",
       "        sprintspeed  agility  reactions  balance  shotpower  jumping  stamina  \\\n",
       "ID                                                                              \n",
       "20801         91.00    87.00      96.00    70.00      95.00    95.00    88.00   \n",
       "189362        80.00    69.00      82.00    59.00      94.00    69.00    86.00   \n",
       "169051        63.00    65.00      70.00    77.00      93.00    70.00    79.00   \n",
       "150516        75.00    67.00      76.00    70.00      92.00    71.00    70.00   \n",
       "173731        95.00    82.00      85.00    65.00      92.00    87.00    75.00   \n",
       "\n",
       "        strength  longshots  aggression  interceptions  positioning  vision  \\\n",
       "ID                                                                            \n",
       "20801      79.00      93.00       63.00          29.00        95.00   82.00   \n",
       "189362     92.00      90.00       83.00          48.00        82.00   75.00   \n",
       "169051     90.00      84.00       77.00          68.00        70.00   75.00   \n",
       "150516     83.00      80.00       70.00          36.00        75.00   79.00   \n",
       "173731     80.00      91.00       65.00          59.00        85.00   79.00   \n",
       "\n",
       "        penalties  composure  marking  standingtackle  slidingtackle  \\\n",
       "ID                                                                     \n",
       "20801       85.00      95.00    28.00           31.00          23.00   \n",
       "189362      78.00      75.00    50.00           41.00          28.00   \n",
       "169051      76.00      76.00    60.00           66.00          60.00   \n",
       "150516      83.00      79.00    54.00           39.00          39.00   \n",
       "173731      76.00      86.00    54.00           55.00          52.00   \n",
       "\n",
       "        gkdiving  gkhandling  gkkicking  gkpositioning  gkreflexes  \\\n",
       "ID                                                                   \n",
       "20801       7.00       11.00      15.00          14.00       11.00   \n",
       "189362      6.00       10.00       7.00          11.00       12.00   \n",
       "169051     12.00       13.00      13.00          15.00       13.00   \n",
       "150516     10.00        9.00      16.00           9.00        9.00   \n",
       "173731     15.00       15.00      11.00           5.00        6.00   \n",
       "\n",
       "       release clause  total_score  \n",
       "ID                                  \n",
       "20801         €127.1M          188  \n",
       "189362         €34.1M          162  \n",
       "169051         €12.9M          152  \n",
       "150516          €8.1M          156  \n",
       "173731          €123M          176  \n",
       "\n",
       "[5 rows x 84 columns]"
      ]
     },
     "execution_count": 28,
     "metadata": {},
     "output_type": "execute_result"
    }
   ],
   "source": [
    "# 21. Quem são os 5 melhores jogadores em termos de chute (força para chutar) (use a variável/atributo 'Shot power')?\n",
    "\n",
    "df_fifa.sort_values(by='shotpower', ascending=False).head(5)"
   ]
  },
  {
   "cell_type": "code",
   "execution_count": 29,
   "metadata": {},
   "outputs": [
    {
     "data": {
      "text/html": [
       "<div>\n",
       "<style scoped>\n",
       "    .dataframe tbody tr th:only-of-type {\n",
       "        vertical-align: middle;\n",
       "    }\n",
       "\n",
       "    .dataframe tbody tr th {\n",
       "        vertical-align: top;\n",
       "    }\n",
       "\n",
       "    .dataframe thead th {\n",
       "        text-align: right;\n",
       "    }\n",
       "</style>\n",
       "<table border=\"1\" class=\"dataframe\">\n",
       "  <thead>\n",
       "    <tr style=\"text-align: right;\">\n",
       "      <th></th>\n",
       "      <th>name</th>\n",
       "      <th>age</th>\n",
       "      <th>nationality</th>\n",
       "      <th>overall</th>\n",
       "      <th>potential</th>\n",
       "      <th>club</th>\n",
       "      <th>value</th>\n",
       "      <th>wage</th>\n",
       "      <th>special</th>\n",
       "      <th>preferred foot</th>\n",
       "      <th>international reputation</th>\n",
       "      <th>weak foot</th>\n",
       "      <th>skill moves</th>\n",
       "      <th>work rate</th>\n",
       "      <th>body type</th>\n",
       "      <th>position</th>\n",
       "      <th>jersey number</th>\n",
       "      <th>joined</th>\n",
       "      <th>loaned from</th>\n",
       "      <th>contract valid until</th>\n",
       "      <th>height</th>\n",
       "      <th>weight</th>\n",
       "      <th>ls</th>\n",
       "      <th>st</th>\n",
       "      <th>rs</th>\n",
       "      <th>lw</th>\n",
       "      <th>lf</th>\n",
       "      <th>cf</th>\n",
       "      <th>rf</th>\n",
       "      <th>rw</th>\n",
       "      <th>lam</th>\n",
       "      <th>cam</th>\n",
       "      <th>ram</th>\n",
       "      <th>lm</th>\n",
       "      <th>lcm</th>\n",
       "      <th>cm</th>\n",
       "      <th>rcm</th>\n",
       "      <th>rm</th>\n",
       "      <th>lwb</th>\n",
       "      <th>ldm</th>\n",
       "      <th>cdm</th>\n",
       "      <th>rdm</th>\n",
       "      <th>rwb</th>\n",
       "      <th>lb</th>\n",
       "      <th>lcb</th>\n",
       "      <th>cb</th>\n",
       "      <th>rcb</th>\n",
       "      <th>rb</th>\n",
       "      <th>crossing</th>\n",
       "      <th>finishing</th>\n",
       "      <th>headingaccuracy</th>\n",
       "      <th>shortpassing</th>\n",
       "      <th>volleys</th>\n",
       "      <th>dribbling</th>\n",
       "      <th>curve</th>\n",
       "      <th>fkaccuracy</th>\n",
       "      <th>longpassing</th>\n",
       "      <th>ballcontrol</th>\n",
       "      <th>acceleration</th>\n",
       "      <th>sprintspeed</th>\n",
       "      <th>agility</th>\n",
       "      <th>reactions</th>\n",
       "      <th>balance</th>\n",
       "      <th>shotpower</th>\n",
       "      <th>jumping</th>\n",
       "      <th>stamina</th>\n",
       "      <th>strength</th>\n",
       "      <th>longshots</th>\n",
       "      <th>aggression</th>\n",
       "      <th>interceptions</th>\n",
       "      <th>positioning</th>\n",
       "      <th>vision</th>\n",
       "      <th>penalties</th>\n",
       "      <th>composure</th>\n",
       "      <th>marking</th>\n",
       "      <th>standingtackle</th>\n",
       "      <th>slidingtackle</th>\n",
       "      <th>gkdiving</th>\n",
       "      <th>gkhandling</th>\n",
       "      <th>gkkicking</th>\n",
       "      <th>gkpositioning</th>\n",
       "      <th>gkreflexes</th>\n",
       "      <th>release clause</th>\n",
       "      <th>total_score</th>\n",
       "    </tr>\n",
       "    <tr>\n",
       "      <th>ID</th>\n",
       "      <th></th>\n",
       "      <th></th>\n",
       "      <th></th>\n",
       "      <th></th>\n",
       "      <th></th>\n",
       "      <th></th>\n",
       "      <th></th>\n",
       "      <th></th>\n",
       "      <th></th>\n",
       "      <th></th>\n",
       "      <th></th>\n",
       "      <th></th>\n",
       "      <th></th>\n",
       "      <th></th>\n",
       "      <th></th>\n",
       "      <th></th>\n",
       "      <th></th>\n",
       "      <th></th>\n",
       "      <th></th>\n",
       "      <th></th>\n",
       "      <th></th>\n",
       "      <th></th>\n",
       "      <th></th>\n",
       "      <th></th>\n",
       "      <th></th>\n",
       "      <th></th>\n",
       "      <th></th>\n",
       "      <th></th>\n",
       "      <th></th>\n",
       "      <th></th>\n",
       "      <th></th>\n",
       "      <th></th>\n",
       "      <th></th>\n",
       "      <th></th>\n",
       "      <th></th>\n",
       "      <th></th>\n",
       "      <th></th>\n",
       "      <th></th>\n",
       "      <th></th>\n",
       "      <th></th>\n",
       "      <th></th>\n",
       "      <th></th>\n",
       "      <th></th>\n",
       "      <th></th>\n",
       "      <th></th>\n",
       "      <th></th>\n",
       "      <th></th>\n",
       "      <th></th>\n",
       "      <th></th>\n",
       "      <th></th>\n",
       "      <th></th>\n",
       "      <th></th>\n",
       "      <th></th>\n",
       "      <th></th>\n",
       "      <th></th>\n",
       "      <th></th>\n",
       "      <th></th>\n",
       "      <th></th>\n",
       "      <th></th>\n",
       "      <th></th>\n",
       "      <th></th>\n",
       "      <th></th>\n",
       "      <th></th>\n",
       "      <th></th>\n",
       "      <th></th>\n",
       "      <th></th>\n",
       "      <th></th>\n",
       "      <th></th>\n",
       "      <th></th>\n",
       "      <th></th>\n",
       "      <th></th>\n",
       "      <th></th>\n",
       "      <th></th>\n",
       "      <th></th>\n",
       "      <th></th>\n",
       "      <th></th>\n",
       "      <th></th>\n",
       "      <th></th>\n",
       "      <th></th>\n",
       "      <th></th>\n",
       "      <th></th>\n",
       "      <th></th>\n",
       "      <th></th>\n",
       "      <th></th>\n",
       "    </tr>\n",
       "  </thead>\n",
       "  <tbody>\n",
       "    <tr>\n",
       "      <th>158023</th>\n",
       "      <td>L. Messi</td>\n",
       "      <td>31</td>\n",
       "      <td>Argentina</td>\n",
       "      <td>94</td>\n",
       "      <td>94</td>\n",
       "      <td>FC Barcelona</td>\n",
       "      <td>110500000.00</td>\n",
       "      <td>565000.00</td>\n",
       "      <td>2202</td>\n",
       "      <td>Left</td>\n",
       "      <td>5.00</td>\n",
       "      <td>4.00</td>\n",
       "      <td>4.00</td>\n",
       "      <td>Medium/ Medium</td>\n",
       "      <td>Messi</td>\n",
       "      <td>RF</td>\n",
       "      <td>10.00</td>\n",
       "      <td>Jul 1, 2004</td>\n",
       "      <td>NaN</td>\n",
       "      <td>2021</td>\n",
       "      <td>1.70</td>\n",
       "      <td>72.12</td>\n",
       "      <td>88+2</td>\n",
       "      <td>88+2</td>\n",
       "      <td>88+2</td>\n",
       "      <td>92+2</td>\n",
       "      <td>93+2</td>\n",
       "      <td>93+2</td>\n",
       "      <td>93+2</td>\n",
       "      <td>92+2</td>\n",
       "      <td>93+2</td>\n",
       "      <td>93+2</td>\n",
       "      <td>93+2</td>\n",
       "      <td>91+2</td>\n",
       "      <td>84+2</td>\n",
       "      <td>84+2</td>\n",
       "      <td>84+2</td>\n",
       "      <td>91+2</td>\n",
       "      <td>64+2</td>\n",
       "      <td>61+2</td>\n",
       "      <td>61+2</td>\n",
       "      <td>61+2</td>\n",
       "      <td>64+2</td>\n",
       "      <td>59+2</td>\n",
       "      <td>47+2</td>\n",
       "      <td>47+2</td>\n",
       "      <td>47+2</td>\n",
       "      <td>59+2</td>\n",
       "      <td>84.00</td>\n",
       "      <td>95.00</td>\n",
       "      <td>70.00</td>\n",
       "      <td>90.00</td>\n",
       "      <td>86.00</td>\n",
       "      <td>97.00</td>\n",
       "      <td>93.00</td>\n",
       "      <td>94.00</td>\n",
       "      <td>87.00</td>\n",
       "      <td>96.00</td>\n",
       "      <td>91.00</td>\n",
       "      <td>86.00</td>\n",
       "      <td>91.00</td>\n",
       "      <td>95.00</td>\n",
       "      <td>95.00</td>\n",
       "      <td>85.00</td>\n",
       "      <td>68.00</td>\n",
       "      <td>72.00</td>\n",
       "      <td>59.00</td>\n",
       "      <td>94.00</td>\n",
       "      <td>48.00</td>\n",
       "      <td>22.00</td>\n",
       "      <td>94.00</td>\n",
       "      <td>94.00</td>\n",
       "      <td>75.00</td>\n",
       "      <td>96.00</td>\n",
       "      <td>33.00</td>\n",
       "      <td>28.00</td>\n",
       "      <td>26.00</td>\n",
       "      <td>6.00</td>\n",
       "      <td>11.00</td>\n",
       "      <td>15.00</td>\n",
       "      <td>14.00</td>\n",
       "      <td>8.00</td>\n",
       "      <td>€226.5M</td>\n",
       "      <td>188</td>\n",
       "    </tr>\n",
       "    <tr>\n",
       "      <th>176580</th>\n",
       "      <td>L. Suárez</td>\n",
       "      <td>31</td>\n",
       "      <td>Uruguay</td>\n",
       "      <td>91</td>\n",
       "      <td>91</td>\n",
       "      <td>FC Barcelona</td>\n",
       "      <td>80000000.00</td>\n",
       "      <td>455000.00</td>\n",
       "      <td>2346</td>\n",
       "      <td>Right</td>\n",
       "      <td>5.00</td>\n",
       "      <td>4.00</td>\n",
       "      <td>3.00</td>\n",
       "      <td>High/ Medium</td>\n",
       "      <td>Normal</td>\n",
       "      <td>RS</td>\n",
       "      <td>9.00</td>\n",
       "      <td>Jul 11, 2014</td>\n",
       "      <td>NaN</td>\n",
       "      <td>2021</td>\n",
       "      <td>1.83</td>\n",
       "      <td>86.18</td>\n",
       "      <td>87+5</td>\n",
       "      <td>87+5</td>\n",
       "      <td>87+5</td>\n",
       "      <td>86+5</td>\n",
       "      <td>87+5</td>\n",
       "      <td>87+5</td>\n",
       "      <td>87+5</td>\n",
       "      <td>86+5</td>\n",
       "      <td>85+5</td>\n",
       "      <td>85+5</td>\n",
       "      <td>85+5</td>\n",
       "      <td>84+5</td>\n",
       "      <td>79+5</td>\n",
       "      <td>79+5</td>\n",
       "      <td>79+5</td>\n",
       "      <td>84+5</td>\n",
       "      <td>69+5</td>\n",
       "      <td>68+5</td>\n",
       "      <td>68+5</td>\n",
       "      <td>68+5</td>\n",
       "      <td>69+5</td>\n",
       "      <td>66+5</td>\n",
       "      <td>63+5</td>\n",
       "      <td>63+5</td>\n",
       "      <td>63+5</td>\n",
       "      <td>66+5</td>\n",
       "      <td>77.00</td>\n",
       "      <td>93.00</td>\n",
       "      <td>77.00</td>\n",
       "      <td>82.00</td>\n",
       "      <td>88.00</td>\n",
       "      <td>87.00</td>\n",
       "      <td>86.00</td>\n",
       "      <td>84.00</td>\n",
       "      <td>64.00</td>\n",
       "      <td>90.00</td>\n",
       "      <td>86.00</td>\n",
       "      <td>75.00</td>\n",
       "      <td>82.00</td>\n",
       "      <td>92.00</td>\n",
       "      <td>83.00</td>\n",
       "      <td>86.00</td>\n",
       "      <td>69.00</td>\n",
       "      <td>90.00</td>\n",
       "      <td>83.00</td>\n",
       "      <td>85.00</td>\n",
       "      <td>87.00</td>\n",
       "      <td>41.00</td>\n",
       "      <td>92.00</td>\n",
       "      <td>84.00</td>\n",
       "      <td>85.00</td>\n",
       "      <td>85.00</td>\n",
       "      <td>62.00</td>\n",
       "      <td>45.00</td>\n",
       "      <td>38.00</td>\n",
       "      <td>27.00</td>\n",
       "      <td>25.00</td>\n",
       "      <td>31.00</td>\n",
       "      <td>33.00</td>\n",
       "      <td>37.00</td>\n",
       "      <td>€164M</td>\n",
       "      <td>182</td>\n",
       "    </tr>\n",
       "    <tr>\n",
       "      <th>177003</th>\n",
       "      <td>L. Modrić</td>\n",
       "      <td>32</td>\n",
       "      <td>Croatia</td>\n",
       "      <td>91</td>\n",
       "      <td>91</td>\n",
       "      <td>Real Madrid</td>\n",
       "      <td>67000000.00</td>\n",
       "      <td>420000.00</td>\n",
       "      <td>2280</td>\n",
       "      <td>Right</td>\n",
       "      <td>4.00</td>\n",
       "      <td>4.00</td>\n",
       "      <td>4.00</td>\n",
       "      <td>High/ High</td>\n",
       "      <td>Lean</td>\n",
       "      <td>RCM</td>\n",
       "      <td>10.00</td>\n",
       "      <td>Aug 1, 2012</td>\n",
       "      <td>NaN</td>\n",
       "      <td>2020</td>\n",
       "      <td>1.73</td>\n",
       "      <td>66.22</td>\n",
       "      <td>77+3</td>\n",
       "      <td>77+3</td>\n",
       "      <td>77+3</td>\n",
       "      <td>85+3</td>\n",
       "      <td>84+3</td>\n",
       "      <td>84+3</td>\n",
       "      <td>84+3</td>\n",
       "      <td>85+3</td>\n",
       "      <td>87+3</td>\n",
       "      <td>87+3</td>\n",
       "      <td>87+3</td>\n",
       "      <td>86+3</td>\n",
       "      <td>88+3</td>\n",
       "      <td>88+3</td>\n",
       "      <td>88+3</td>\n",
       "      <td>86+3</td>\n",
       "      <td>82+3</td>\n",
       "      <td>81+3</td>\n",
       "      <td>81+3</td>\n",
       "      <td>81+3</td>\n",
       "      <td>82+3</td>\n",
       "      <td>79+3</td>\n",
       "      <td>71+3</td>\n",
       "      <td>71+3</td>\n",
       "      <td>71+3</td>\n",
       "      <td>79+3</td>\n",
       "      <td>86.00</td>\n",
       "      <td>72.00</td>\n",
       "      <td>55.00</td>\n",
       "      <td>93.00</td>\n",
       "      <td>76.00</td>\n",
       "      <td>90.00</td>\n",
       "      <td>85.00</td>\n",
       "      <td>78.00</td>\n",
       "      <td>88.00</td>\n",
       "      <td>93.00</td>\n",
       "      <td>80.00</td>\n",
       "      <td>72.00</td>\n",
       "      <td>93.00</td>\n",
       "      <td>90.00</td>\n",
       "      <td>94.00</td>\n",
       "      <td>79.00</td>\n",
       "      <td>68.00</td>\n",
       "      <td>89.00</td>\n",
       "      <td>58.00</td>\n",
       "      <td>82.00</td>\n",
       "      <td>62.00</td>\n",
       "      <td>83.00</td>\n",
       "      <td>79.00</td>\n",
       "      <td>92.00</td>\n",
       "      <td>82.00</td>\n",
       "      <td>84.00</td>\n",
       "      <td>60.00</td>\n",
       "      <td>76.00</td>\n",
       "      <td>73.00</td>\n",
       "      <td>13.00</td>\n",
       "      <td>9.00</td>\n",
       "      <td>7.00</td>\n",
       "      <td>14.00</td>\n",
       "      <td>9.00</td>\n",
       "      <td>€137.4M</td>\n",
       "      <td>182</td>\n",
       "    </tr>\n",
       "    <tr>\n",
       "      <th>20801</th>\n",
       "      <td>Cristiano Ronaldo</td>\n",
       "      <td>33</td>\n",
       "      <td>Portugal</td>\n",
       "      <td>94</td>\n",
       "      <td>94</td>\n",
       "      <td>Juventus</td>\n",
       "      <td>77000000.00</td>\n",
       "      <td>405000.00</td>\n",
       "      <td>2228</td>\n",
       "      <td>Right</td>\n",
       "      <td>5.00</td>\n",
       "      <td>4.00</td>\n",
       "      <td>5.00</td>\n",
       "      <td>High/ Low</td>\n",
       "      <td>C. Ronaldo</td>\n",
       "      <td>ST</td>\n",
       "      <td>7.00</td>\n",
       "      <td>Jul 10, 2018</td>\n",
       "      <td>NaN</td>\n",
       "      <td>2022</td>\n",
       "      <td>1.88</td>\n",
       "      <td>83.01</td>\n",
       "      <td>91+3</td>\n",
       "      <td>91+3</td>\n",
       "      <td>91+3</td>\n",
       "      <td>89+3</td>\n",
       "      <td>90+3</td>\n",
       "      <td>90+3</td>\n",
       "      <td>90+3</td>\n",
       "      <td>89+3</td>\n",
       "      <td>88+3</td>\n",
       "      <td>88+3</td>\n",
       "      <td>88+3</td>\n",
       "      <td>88+3</td>\n",
       "      <td>81+3</td>\n",
       "      <td>81+3</td>\n",
       "      <td>81+3</td>\n",
       "      <td>88+3</td>\n",
       "      <td>65+3</td>\n",
       "      <td>61+3</td>\n",
       "      <td>61+3</td>\n",
       "      <td>61+3</td>\n",
       "      <td>65+3</td>\n",
       "      <td>61+3</td>\n",
       "      <td>53+3</td>\n",
       "      <td>53+3</td>\n",
       "      <td>53+3</td>\n",
       "      <td>61+3</td>\n",
       "      <td>84.00</td>\n",
       "      <td>94.00</td>\n",
       "      <td>89.00</td>\n",
       "      <td>81.00</td>\n",
       "      <td>87.00</td>\n",
       "      <td>88.00</td>\n",
       "      <td>81.00</td>\n",
       "      <td>76.00</td>\n",
       "      <td>77.00</td>\n",
       "      <td>94.00</td>\n",
       "      <td>89.00</td>\n",
       "      <td>91.00</td>\n",
       "      <td>87.00</td>\n",
       "      <td>96.00</td>\n",
       "      <td>70.00</td>\n",
       "      <td>95.00</td>\n",
       "      <td>95.00</td>\n",
       "      <td>88.00</td>\n",
       "      <td>79.00</td>\n",
       "      <td>93.00</td>\n",
       "      <td>63.00</td>\n",
       "      <td>29.00</td>\n",
       "      <td>95.00</td>\n",
       "      <td>82.00</td>\n",
       "      <td>85.00</td>\n",
       "      <td>95.00</td>\n",
       "      <td>28.00</td>\n",
       "      <td>31.00</td>\n",
       "      <td>23.00</td>\n",
       "      <td>7.00</td>\n",
       "      <td>11.00</td>\n",
       "      <td>15.00</td>\n",
       "      <td>14.00</td>\n",
       "      <td>11.00</td>\n",
       "      <td>€127.1M</td>\n",
       "      <td>188</td>\n",
       "    </tr>\n",
       "    <tr>\n",
       "      <th>155862</th>\n",
       "      <td>Sergio Ramos</td>\n",
       "      <td>32</td>\n",
       "      <td>Spain</td>\n",
       "      <td>91</td>\n",
       "      <td>91</td>\n",
       "      <td>Real Madrid</td>\n",
       "      <td>51000000.00</td>\n",
       "      <td>380000.00</td>\n",
       "      <td>2201</td>\n",
       "      <td>Right</td>\n",
       "      <td>4.00</td>\n",
       "      <td>3.00</td>\n",
       "      <td>3.00</td>\n",
       "      <td>High/ Medium</td>\n",
       "      <td>Normal</td>\n",
       "      <td>RCB</td>\n",
       "      <td>15.00</td>\n",
       "      <td>Aug 1, 2005</td>\n",
       "      <td>NaN</td>\n",
       "      <td>2020</td>\n",
       "      <td>1.83</td>\n",
       "      <td>82.10</td>\n",
       "      <td>73+3</td>\n",
       "      <td>73+3</td>\n",
       "      <td>73+3</td>\n",
       "      <td>70+3</td>\n",
       "      <td>71+3</td>\n",
       "      <td>71+3</td>\n",
       "      <td>71+3</td>\n",
       "      <td>70+3</td>\n",
       "      <td>71+3</td>\n",
       "      <td>71+3</td>\n",
       "      <td>71+3</td>\n",
       "      <td>72+3</td>\n",
       "      <td>75+3</td>\n",
       "      <td>75+3</td>\n",
       "      <td>75+3</td>\n",
       "      <td>72+3</td>\n",
       "      <td>81+3</td>\n",
       "      <td>84+3</td>\n",
       "      <td>84+3</td>\n",
       "      <td>84+3</td>\n",
       "      <td>81+3</td>\n",
       "      <td>84+3</td>\n",
       "      <td>87+3</td>\n",
       "      <td>87+3</td>\n",
       "      <td>87+3</td>\n",
       "      <td>84+3</td>\n",
       "      <td>66.00</td>\n",
       "      <td>60.00</td>\n",
       "      <td>91.00</td>\n",
       "      <td>78.00</td>\n",
       "      <td>66.00</td>\n",
       "      <td>63.00</td>\n",
       "      <td>74.00</td>\n",
       "      <td>72.00</td>\n",
       "      <td>77.00</td>\n",
       "      <td>84.00</td>\n",
       "      <td>76.00</td>\n",
       "      <td>75.00</td>\n",
       "      <td>78.00</td>\n",
       "      <td>85.00</td>\n",
       "      <td>66.00</td>\n",
       "      <td>79.00</td>\n",
       "      <td>93.00</td>\n",
       "      <td>84.00</td>\n",
       "      <td>83.00</td>\n",
       "      <td>59.00</td>\n",
       "      <td>88.00</td>\n",
       "      <td>90.00</td>\n",
       "      <td>60.00</td>\n",
       "      <td>63.00</td>\n",
       "      <td>75.00</td>\n",
       "      <td>82.00</td>\n",
       "      <td>87.00</td>\n",
       "      <td>92.00</td>\n",
       "      <td>91.00</td>\n",
       "      <td>11.00</td>\n",
       "      <td>8.00</td>\n",
       "      <td>9.00</td>\n",
       "      <td>7.00</td>\n",
       "      <td>11.00</td>\n",
       "      <td>€104.6M</td>\n",
       "      <td>182</td>\n",
       "    </tr>\n",
       "  </tbody>\n",
       "</table>\n",
       "<p>5 rows × 84 columns</p>\n",
       "</div>"
      ],
      "text/plain": [
       "                     name  age nationality  overall  potential          club  \\\n",
       "ID                                                                             \n",
       "158023           L. Messi   31   Argentina       94         94  FC Barcelona   \n",
       "176580          L. Suárez   31     Uruguay       91         91  FC Barcelona   \n",
       "177003          L. Modrić   32     Croatia       91         91   Real Madrid   \n",
       "20801   Cristiano Ronaldo   33    Portugal       94         94      Juventus   \n",
       "155862       Sergio Ramos   32       Spain       91         91   Real Madrid   \n",
       "\n",
       "              value      wage  special preferred foot  \\\n",
       "ID                                                      \n",
       "158023 110500000.00 565000.00     2202           Left   \n",
       "176580  80000000.00 455000.00     2346          Right   \n",
       "177003  67000000.00 420000.00     2280          Right   \n",
       "20801   77000000.00 405000.00     2228          Right   \n",
       "155862  51000000.00 380000.00     2201          Right   \n",
       "\n",
       "        international reputation  weak foot  skill moves       work rate  \\\n",
       "ID                                                                         \n",
       "158023                      5.00       4.00         4.00  Medium/ Medium   \n",
       "176580                      5.00       4.00         3.00    High/ Medium   \n",
       "177003                      4.00       4.00         4.00      High/ High   \n",
       "20801                       5.00       4.00         5.00       High/ Low   \n",
       "155862                      4.00       3.00         3.00    High/ Medium   \n",
       "\n",
       "         body type position  jersey number        joined loaned from  \\\n",
       "ID                                                                     \n",
       "158023       Messi       RF          10.00   Jul 1, 2004         NaN   \n",
       "176580      Normal       RS           9.00  Jul 11, 2014         NaN   \n",
       "177003        Lean      RCM          10.00   Aug 1, 2012         NaN   \n",
       "20801   C. Ronaldo       ST           7.00  Jul 10, 2018         NaN   \n",
       "155862      Normal      RCB          15.00   Aug 1, 2005         NaN   \n",
       "\n",
       "       contract valid until  height  weight    ls    st    rs    lw    lf  \\\n",
       "ID                                                                          \n",
       "158023                 2021    1.70   72.12  88+2  88+2  88+2  92+2  93+2   \n",
       "176580                 2021    1.83   86.18  87+5  87+5  87+5  86+5  87+5   \n",
       "177003                 2020    1.73   66.22  77+3  77+3  77+3  85+3  84+3   \n",
       "20801                  2022    1.88   83.01  91+3  91+3  91+3  89+3  90+3   \n",
       "155862                 2020    1.83   82.10  73+3  73+3  73+3  70+3  71+3   \n",
       "\n",
       "          cf    rf    rw   lam   cam   ram    lm   lcm    cm   rcm    rm  \\\n",
       "ID                                                                         \n",
       "158023  93+2  93+2  92+2  93+2  93+2  93+2  91+2  84+2  84+2  84+2  91+2   \n",
       "176580  87+5  87+5  86+5  85+5  85+5  85+5  84+5  79+5  79+5  79+5  84+5   \n",
       "177003  84+3  84+3  85+3  87+3  87+3  87+3  86+3  88+3  88+3  88+3  86+3   \n",
       "20801   90+3  90+3  89+3  88+3  88+3  88+3  88+3  81+3  81+3  81+3  88+3   \n",
       "155862  71+3  71+3  70+3  71+3  71+3  71+3  72+3  75+3  75+3  75+3  72+3   \n",
       "\n",
       "         lwb   ldm   cdm   rdm   rwb    lb   lcb    cb   rcb    rb  crossing  \\\n",
       "ID                                                                             \n",
       "158023  64+2  61+2  61+2  61+2  64+2  59+2  47+2  47+2  47+2  59+2     84.00   \n",
       "176580  69+5  68+5  68+5  68+5  69+5  66+5  63+5  63+5  63+5  66+5     77.00   \n",
       "177003  82+3  81+3  81+3  81+3  82+3  79+3  71+3  71+3  71+3  79+3     86.00   \n",
       "20801   65+3  61+3  61+3  61+3  65+3  61+3  53+3  53+3  53+3  61+3     84.00   \n",
       "155862  81+3  84+3  84+3  84+3  81+3  84+3  87+3  87+3  87+3  84+3     66.00   \n",
       "\n",
       "        finishing  headingaccuracy  shortpassing  volleys  dribbling  curve  \\\n",
       "ID                                                                            \n",
       "158023      95.00            70.00         90.00    86.00      97.00  93.00   \n",
       "176580      93.00            77.00         82.00    88.00      87.00  86.00   \n",
       "177003      72.00            55.00         93.00    76.00      90.00  85.00   \n",
       "20801       94.00            89.00         81.00    87.00      88.00  81.00   \n",
       "155862      60.00            91.00         78.00    66.00      63.00  74.00   \n",
       "\n",
       "        fkaccuracy  longpassing  ballcontrol  acceleration  sprintspeed  \\\n",
       "ID                                                                        \n",
       "158023       94.00        87.00        96.00         91.00        86.00   \n",
       "176580       84.00        64.00        90.00         86.00        75.00   \n",
       "177003       78.00        88.00        93.00         80.00        72.00   \n",
       "20801        76.00        77.00        94.00         89.00        91.00   \n",
       "155862       72.00        77.00        84.00         76.00        75.00   \n",
       "\n",
       "        agility  reactions  balance  shotpower  jumping  stamina  strength  \\\n",
       "ID                                                                           \n",
       "158023    91.00      95.00    95.00      85.00    68.00    72.00     59.00   \n",
       "176580    82.00      92.00    83.00      86.00    69.00    90.00     83.00   \n",
       "177003    93.00      90.00    94.00      79.00    68.00    89.00     58.00   \n",
       "20801     87.00      96.00    70.00      95.00    95.00    88.00     79.00   \n",
       "155862    78.00      85.00    66.00      79.00    93.00    84.00     83.00   \n",
       "\n",
       "        longshots  aggression  interceptions  positioning  vision  penalties  \\\n",
       "ID                                                                             \n",
       "158023      94.00       48.00          22.00        94.00   94.00      75.00   \n",
       "176580      85.00       87.00          41.00        92.00   84.00      85.00   \n",
       "177003      82.00       62.00          83.00        79.00   92.00      82.00   \n",
       "20801       93.00       63.00          29.00        95.00   82.00      85.00   \n",
       "155862      59.00       88.00          90.00        60.00   63.00      75.00   \n",
       "\n",
       "        composure  marking  standingtackle  slidingtackle  gkdiving  \\\n",
       "ID                                                                    \n",
       "158023      96.00    33.00           28.00          26.00      6.00   \n",
       "176580      85.00    62.00           45.00          38.00     27.00   \n",
       "177003      84.00    60.00           76.00          73.00     13.00   \n",
       "20801       95.00    28.00           31.00          23.00      7.00   \n",
       "155862      82.00    87.00           92.00          91.00     11.00   \n",
       "\n",
       "        gkhandling  gkkicking  gkpositioning  gkreflexes release clause  \\\n",
       "ID                                                                        \n",
       "158023       11.00      15.00          14.00        8.00        €226.5M   \n",
       "176580       25.00      31.00          33.00       37.00          €164M   \n",
       "177003        9.00       7.00          14.00        9.00        €137.4M   \n",
       "20801        11.00      15.00          14.00       11.00        €127.1M   \n",
       "155862        8.00       9.00           7.00       11.00        €104.6M   \n",
       "\n",
       "        total_score  \n",
       "ID                   \n",
       "158023          188  \n",
       "176580          182  \n",
       "177003          182  \n",
       "20801           188  \n",
       "155862          182  \n",
       "\n",
       "[5 rows x 84 columns]"
      ]
     },
     "execution_count": 29,
     "metadata": {},
     "output_type": "execute_result"
    }
   ],
   "source": [
    "# 22. Quem são os outliers em termos de salário?\n",
    "quartiles_wage = df_fifa['wage'].quantile([0.25,0.75]).to_list()\n",
    "\n",
    "q1_wage = quartiles_wage[0]\n",
    "q3_wage = quartiles_wage[1]\n",
    "\n",
    "outlier_wage = q3_wage + (q3_wage - q1_wage) * 1.5\n",
    "\n",
    "# ouliers superiores\n",
    "df_fifa[df_fifa['wage'] > outlier_wage].sort_values(by='wage', ascending=False).head(5)"
   ]
  },
  {
   "cell_type": "code",
   "execution_count": 30,
   "metadata": {},
   "outputs": [
    {
     "data": {
      "text/html": [
       "<div>\n",
       "<style scoped>\n",
       "    .dataframe tbody tr th:only-of-type {\n",
       "        vertical-align: middle;\n",
       "    }\n",
       "\n",
       "    .dataframe tbody tr th {\n",
       "        vertical-align: top;\n",
       "    }\n",
       "\n",
       "    .dataframe thead th {\n",
       "        text-align: right;\n",
       "    }\n",
       "</style>\n",
       "<table border=\"1\" class=\"dataframe\">\n",
       "  <thead>\n",
       "    <tr style=\"text-align: right;\">\n",
       "      <th></th>\n",
       "      <th>name</th>\n",
       "      <th>age</th>\n",
       "      <th>nationality</th>\n",
       "      <th>overall</th>\n",
       "      <th>potential</th>\n",
       "      <th>club</th>\n",
       "      <th>value</th>\n",
       "      <th>wage</th>\n",
       "      <th>special</th>\n",
       "      <th>preferred foot</th>\n",
       "      <th>international reputation</th>\n",
       "      <th>weak foot</th>\n",
       "      <th>skill moves</th>\n",
       "      <th>work rate</th>\n",
       "      <th>body type</th>\n",
       "      <th>position</th>\n",
       "      <th>jersey number</th>\n",
       "      <th>joined</th>\n",
       "      <th>loaned from</th>\n",
       "      <th>contract valid until</th>\n",
       "      <th>height</th>\n",
       "      <th>weight</th>\n",
       "      <th>ls</th>\n",
       "      <th>st</th>\n",
       "      <th>rs</th>\n",
       "      <th>lw</th>\n",
       "      <th>lf</th>\n",
       "      <th>cf</th>\n",
       "      <th>rf</th>\n",
       "      <th>rw</th>\n",
       "      <th>lam</th>\n",
       "      <th>cam</th>\n",
       "      <th>ram</th>\n",
       "      <th>lm</th>\n",
       "      <th>lcm</th>\n",
       "      <th>cm</th>\n",
       "      <th>rcm</th>\n",
       "      <th>rm</th>\n",
       "      <th>lwb</th>\n",
       "      <th>ldm</th>\n",
       "      <th>cdm</th>\n",
       "      <th>rdm</th>\n",
       "      <th>rwb</th>\n",
       "      <th>lb</th>\n",
       "      <th>lcb</th>\n",
       "      <th>cb</th>\n",
       "      <th>rcb</th>\n",
       "      <th>rb</th>\n",
       "      <th>crossing</th>\n",
       "      <th>finishing</th>\n",
       "      <th>headingaccuracy</th>\n",
       "      <th>shortpassing</th>\n",
       "      <th>volleys</th>\n",
       "      <th>dribbling</th>\n",
       "      <th>curve</th>\n",
       "      <th>fkaccuracy</th>\n",
       "      <th>longpassing</th>\n",
       "      <th>ballcontrol</th>\n",
       "      <th>acceleration</th>\n",
       "      <th>sprintspeed</th>\n",
       "      <th>agility</th>\n",
       "      <th>reactions</th>\n",
       "      <th>balance</th>\n",
       "      <th>shotpower</th>\n",
       "      <th>jumping</th>\n",
       "      <th>stamina</th>\n",
       "      <th>strength</th>\n",
       "      <th>longshots</th>\n",
       "      <th>aggression</th>\n",
       "      <th>interceptions</th>\n",
       "      <th>positioning</th>\n",
       "      <th>vision</th>\n",
       "      <th>penalties</th>\n",
       "      <th>composure</th>\n",
       "      <th>marking</th>\n",
       "      <th>standingtackle</th>\n",
       "      <th>slidingtackle</th>\n",
       "      <th>gkdiving</th>\n",
       "      <th>gkhandling</th>\n",
       "      <th>gkkicking</th>\n",
       "      <th>gkpositioning</th>\n",
       "      <th>gkreflexes</th>\n",
       "      <th>release clause</th>\n",
       "      <th>total_score</th>\n",
       "    </tr>\n",
       "    <tr>\n",
       "      <th>ID</th>\n",
       "      <th></th>\n",
       "      <th></th>\n",
       "      <th></th>\n",
       "      <th></th>\n",
       "      <th></th>\n",
       "      <th></th>\n",
       "      <th></th>\n",
       "      <th></th>\n",
       "      <th></th>\n",
       "      <th></th>\n",
       "      <th></th>\n",
       "      <th></th>\n",
       "      <th></th>\n",
       "      <th></th>\n",
       "      <th></th>\n",
       "      <th></th>\n",
       "      <th></th>\n",
       "      <th></th>\n",
       "      <th></th>\n",
       "      <th></th>\n",
       "      <th></th>\n",
       "      <th></th>\n",
       "      <th></th>\n",
       "      <th></th>\n",
       "      <th></th>\n",
       "      <th></th>\n",
       "      <th></th>\n",
       "      <th></th>\n",
       "      <th></th>\n",
       "      <th></th>\n",
       "      <th></th>\n",
       "      <th></th>\n",
       "      <th></th>\n",
       "      <th></th>\n",
       "      <th></th>\n",
       "      <th></th>\n",
       "      <th></th>\n",
       "      <th></th>\n",
       "      <th></th>\n",
       "      <th></th>\n",
       "      <th></th>\n",
       "      <th></th>\n",
       "      <th></th>\n",
       "      <th></th>\n",
       "      <th></th>\n",
       "      <th></th>\n",
       "      <th></th>\n",
       "      <th></th>\n",
       "      <th></th>\n",
       "      <th></th>\n",
       "      <th></th>\n",
       "      <th></th>\n",
       "      <th></th>\n",
       "      <th></th>\n",
       "      <th></th>\n",
       "      <th></th>\n",
       "      <th></th>\n",
       "      <th></th>\n",
       "      <th></th>\n",
       "      <th></th>\n",
       "      <th></th>\n",
       "      <th></th>\n",
       "      <th></th>\n",
       "      <th></th>\n",
       "      <th></th>\n",
       "      <th></th>\n",
       "      <th></th>\n",
       "      <th></th>\n",
       "      <th></th>\n",
       "      <th></th>\n",
       "      <th></th>\n",
       "      <th></th>\n",
       "      <th></th>\n",
       "      <th></th>\n",
       "      <th></th>\n",
       "      <th></th>\n",
       "      <th></th>\n",
       "      <th></th>\n",
       "      <th></th>\n",
       "      <th></th>\n",
       "      <th></th>\n",
       "      <th></th>\n",
       "      <th></th>\n",
       "      <th></th>\n",
       "    </tr>\n",
       "  </thead>\n",
       "  <tbody>\n",
       "  </tbody>\n",
       "</table>\n",
       "<p>0 rows × 84 columns</p>\n",
       "</div>"
      ],
      "text/plain": [
       "Empty DataFrame\n",
       "Columns: [name, age, nationality, overall, potential, club, value, wage, special, preferred foot, international reputation, weak foot, skill moves, work rate, body type, position, jersey number, joined, loaned from, contract valid until, height, weight, ls, st, rs, lw, lf, cf, rf, rw, lam, cam, ram, lm, lcm, cm, rcm, rm, lwb, ldm, cdm, rdm, rwb, lb, lcb, cb, rcb, rb, crossing, finishing, headingaccuracy, shortpassing, volleys, dribbling, curve, fkaccuracy, longpassing, ballcontrol, acceleration, sprintspeed, agility, reactions, balance, shotpower, jumping, stamina, strength, longshots, aggression, interceptions, positioning, vision, penalties, composure, marking, standingtackle, slidingtackle, gkdiving, gkhandling, gkkicking, gkpositioning, gkreflexes, release clause, total_score]\n",
       "Index: []\n",
       "\n",
       "[0 rows x 84 columns]"
      ]
     },
     "execution_count": 30,
     "metadata": {},
     "output_type": "execute_result"
    }
   ],
   "source": [
    "# Lower Outliers \n",
    "lower_outlier_wage = q1_wage - (q3_wage - q1_wage) * 1.5\n",
    "\n",
    "# ouliers superiores\n",
    "df_fifa[df_fifa['wage'] < lower_outlier_wage].sort_values(by='wage').head(5)"
   ]
  },
  {
   "cell_type": "code",
   "execution_count": 32,
   "metadata": {},
   "outputs": [
    {
     "data": {
      "text/plain": [
       "[45.0, 68.0]"
      ]
     },
     "metadata": {},
     "output_type": "display_data"
    },
    {
     "data": {
      "text/html": [
       "<div>\n",
       "<style scoped>\n",
       "    .dataframe tbody tr th:only-of-type {\n",
       "        vertical-align: middle;\n",
       "    }\n",
       "\n",
       "    .dataframe tbody tr th {\n",
       "        vertical-align: top;\n",
       "    }\n",
       "\n",
       "    .dataframe thead th {\n",
       "        text-align: right;\n",
       "    }\n",
       "</style>\n",
       "<table border=\"1\" class=\"dataframe\">\n",
       "  <thead>\n",
       "    <tr style=\"text-align: right;\">\n",
       "      <th></th>\n",
       "      <th>name</th>\n",
       "      <th>age</th>\n",
       "      <th>nationality</th>\n",
       "      <th>overall</th>\n",
       "      <th>potential</th>\n",
       "      <th>club</th>\n",
       "      <th>value</th>\n",
       "      <th>wage</th>\n",
       "      <th>special</th>\n",
       "      <th>preferred foot</th>\n",
       "      <th>international reputation</th>\n",
       "      <th>weak foot</th>\n",
       "      <th>skill moves</th>\n",
       "      <th>work rate</th>\n",
       "      <th>body type</th>\n",
       "      <th>position</th>\n",
       "      <th>jersey number</th>\n",
       "      <th>joined</th>\n",
       "      <th>loaned from</th>\n",
       "      <th>contract valid until</th>\n",
       "      <th>height</th>\n",
       "      <th>weight</th>\n",
       "      <th>ls</th>\n",
       "      <th>st</th>\n",
       "      <th>rs</th>\n",
       "      <th>lw</th>\n",
       "      <th>lf</th>\n",
       "      <th>cf</th>\n",
       "      <th>rf</th>\n",
       "      <th>rw</th>\n",
       "      <th>lam</th>\n",
       "      <th>cam</th>\n",
       "      <th>ram</th>\n",
       "      <th>lm</th>\n",
       "      <th>lcm</th>\n",
       "      <th>cm</th>\n",
       "      <th>rcm</th>\n",
       "      <th>rm</th>\n",
       "      <th>lwb</th>\n",
       "      <th>ldm</th>\n",
       "      <th>cdm</th>\n",
       "      <th>rdm</th>\n",
       "      <th>rwb</th>\n",
       "      <th>lb</th>\n",
       "      <th>lcb</th>\n",
       "      <th>cb</th>\n",
       "      <th>rcb</th>\n",
       "      <th>rb</th>\n",
       "      <th>crossing</th>\n",
       "      <th>finishing</th>\n",
       "      <th>headingaccuracy</th>\n",
       "      <th>shortpassing</th>\n",
       "      <th>volleys</th>\n",
       "      <th>dribbling</th>\n",
       "      <th>curve</th>\n",
       "      <th>fkaccuracy</th>\n",
       "      <th>longpassing</th>\n",
       "      <th>ballcontrol</th>\n",
       "      <th>acceleration</th>\n",
       "      <th>sprintspeed</th>\n",
       "      <th>agility</th>\n",
       "      <th>reactions</th>\n",
       "      <th>balance</th>\n",
       "      <th>shotpower</th>\n",
       "      <th>jumping</th>\n",
       "      <th>stamina</th>\n",
       "      <th>strength</th>\n",
       "      <th>longshots</th>\n",
       "      <th>aggression</th>\n",
       "      <th>interceptions</th>\n",
       "      <th>positioning</th>\n",
       "      <th>vision</th>\n",
       "      <th>penalties</th>\n",
       "      <th>composure</th>\n",
       "      <th>marking</th>\n",
       "      <th>standingtackle</th>\n",
       "      <th>slidingtackle</th>\n",
       "      <th>gkdiving</th>\n",
       "      <th>gkhandling</th>\n",
       "      <th>gkkicking</th>\n",
       "      <th>gkpositioning</th>\n",
       "      <th>gkreflexes</th>\n",
       "      <th>release clause</th>\n",
       "      <th>total_score</th>\n",
       "    </tr>\n",
       "    <tr>\n",
       "      <th>ID</th>\n",
       "      <th></th>\n",
       "      <th></th>\n",
       "      <th></th>\n",
       "      <th></th>\n",
       "      <th></th>\n",
       "      <th></th>\n",
       "      <th></th>\n",
       "      <th></th>\n",
       "      <th></th>\n",
       "      <th></th>\n",
       "      <th></th>\n",
       "      <th></th>\n",
       "      <th></th>\n",
       "      <th></th>\n",
       "      <th></th>\n",
       "      <th></th>\n",
       "      <th></th>\n",
       "      <th></th>\n",
       "      <th></th>\n",
       "      <th></th>\n",
       "      <th></th>\n",
       "      <th></th>\n",
       "      <th></th>\n",
       "      <th></th>\n",
       "      <th></th>\n",
       "      <th></th>\n",
       "      <th></th>\n",
       "      <th></th>\n",
       "      <th></th>\n",
       "      <th></th>\n",
       "      <th></th>\n",
       "      <th></th>\n",
       "      <th></th>\n",
       "      <th></th>\n",
       "      <th></th>\n",
       "      <th></th>\n",
       "      <th></th>\n",
       "      <th></th>\n",
       "      <th></th>\n",
       "      <th></th>\n",
       "      <th></th>\n",
       "      <th></th>\n",
       "      <th></th>\n",
       "      <th></th>\n",
       "      <th></th>\n",
       "      <th></th>\n",
       "      <th></th>\n",
       "      <th></th>\n",
       "      <th></th>\n",
       "      <th></th>\n",
       "      <th></th>\n",
       "      <th></th>\n",
       "      <th></th>\n",
       "      <th></th>\n",
       "      <th></th>\n",
       "      <th></th>\n",
       "      <th></th>\n",
       "      <th></th>\n",
       "      <th></th>\n",
       "      <th></th>\n",
       "      <th></th>\n",
       "      <th></th>\n",
       "      <th></th>\n",
       "      <th></th>\n",
       "      <th></th>\n",
       "      <th></th>\n",
       "      <th></th>\n",
       "      <th></th>\n",
       "      <th></th>\n",
       "      <th></th>\n",
       "      <th></th>\n",
       "      <th></th>\n",
       "      <th></th>\n",
       "      <th></th>\n",
       "      <th></th>\n",
       "      <th></th>\n",
       "      <th></th>\n",
       "      <th></th>\n",
       "      <th></th>\n",
       "      <th></th>\n",
       "      <th></th>\n",
       "      <th></th>\n",
       "      <th></th>\n",
       "      <th></th>\n",
       "    </tr>\n",
       "  </thead>\n",
       "  <tbody>\n",
       "  </tbody>\n",
       "</table>\n",
       "<p>0 rows × 84 columns</p>\n",
       "</div>"
      ],
      "text/plain": [
       "Empty DataFrame\n",
       "Columns: [name, age, nationality, overall, potential, club, value, wage, special, preferred foot, international reputation, weak foot, skill moves, work rate, body type, position, jersey number, joined, loaned from, contract valid until, height, weight, ls, st, rs, lw, lf, cf, rf, rw, lam, cam, ram, lm, lcm, cm, rcm, rm, lwb, ldm, cdm, rdm, rwb, lb, lcb, cb, rcb, rb, crossing, finishing, headingaccuracy, shortpassing, volleys, dribbling, curve, fkaccuracy, longpassing, ballcontrol, acceleration, sprintspeed, agility, reactions, balance, shotpower, jumping, stamina, strength, longshots, aggression, interceptions, positioning, vision, penalties, composure, marking, standingtackle, slidingtackle, gkdiving, gkhandling, gkkicking, gkpositioning, gkreflexes, release clause, total_score]\n",
       "Index: []\n",
       "\n",
       "[0 rows x 84 columns]"
      ]
     },
     "execution_count": 32,
     "metadata": {},
     "output_type": "execute_result"
    }
   ],
   "source": [
    "# 23. Quem são os outliers em termos de potência no chute?\n",
    "quartiles_shotpower = df_fifa['shotpower'].quantile([0.25,0.75]).to_list()\n",
    "\n",
    "display(quartiles_shotpower)\n",
    "\n",
    "q1_shotpower = quartiles_shotpower[0]\n",
    "q3_shotpower = quartiles_shotpower[1]\n",
    "\n",
    "outlier_shotpower = q3_shotpower + (q3_shotpower - q1_shotpower) * 1.5\n",
    "\n",
    "\n",
    "df_fifa[df_fifa['shotpower'] > outlier_shotpower].sort_values(by='shotpower', ascending=False).head(10)"
   ]
  },
  {
   "cell_type": "code",
   "execution_count": 34,
   "metadata": {},
   "outputs": [
    {
     "data": {
      "text/html": [
       "<div>\n",
       "<style scoped>\n",
       "    .dataframe tbody tr th:only-of-type {\n",
       "        vertical-align: middle;\n",
       "    }\n",
       "\n",
       "    .dataframe tbody tr th {\n",
       "        vertical-align: top;\n",
       "    }\n",
       "\n",
       "    .dataframe thead th {\n",
       "        text-align: right;\n",
       "    }\n",
       "</style>\n",
       "<table border=\"1\" class=\"dataframe\">\n",
       "  <thead>\n",
       "    <tr style=\"text-align: right;\">\n",
       "      <th></th>\n",
       "      <th>name</th>\n",
       "      <th>age</th>\n",
       "      <th>nationality</th>\n",
       "      <th>overall</th>\n",
       "      <th>potential</th>\n",
       "      <th>club</th>\n",
       "      <th>value</th>\n",
       "      <th>wage</th>\n",
       "      <th>special</th>\n",
       "      <th>preferred foot</th>\n",
       "      <th>international reputation</th>\n",
       "      <th>weak foot</th>\n",
       "      <th>skill moves</th>\n",
       "      <th>work rate</th>\n",
       "      <th>body type</th>\n",
       "      <th>position</th>\n",
       "      <th>jersey number</th>\n",
       "      <th>joined</th>\n",
       "      <th>loaned from</th>\n",
       "      <th>contract valid until</th>\n",
       "      <th>height</th>\n",
       "      <th>weight</th>\n",
       "      <th>ls</th>\n",
       "      <th>st</th>\n",
       "      <th>rs</th>\n",
       "      <th>lw</th>\n",
       "      <th>lf</th>\n",
       "      <th>cf</th>\n",
       "      <th>rf</th>\n",
       "      <th>rw</th>\n",
       "      <th>lam</th>\n",
       "      <th>cam</th>\n",
       "      <th>ram</th>\n",
       "      <th>lm</th>\n",
       "      <th>lcm</th>\n",
       "      <th>cm</th>\n",
       "      <th>rcm</th>\n",
       "      <th>rm</th>\n",
       "      <th>lwb</th>\n",
       "      <th>ldm</th>\n",
       "      <th>cdm</th>\n",
       "      <th>rdm</th>\n",
       "      <th>rwb</th>\n",
       "      <th>lb</th>\n",
       "      <th>lcb</th>\n",
       "      <th>cb</th>\n",
       "      <th>rcb</th>\n",
       "      <th>rb</th>\n",
       "      <th>crossing</th>\n",
       "      <th>finishing</th>\n",
       "      <th>headingaccuracy</th>\n",
       "      <th>shortpassing</th>\n",
       "      <th>volleys</th>\n",
       "      <th>dribbling</th>\n",
       "      <th>curve</th>\n",
       "      <th>fkaccuracy</th>\n",
       "      <th>longpassing</th>\n",
       "      <th>ballcontrol</th>\n",
       "      <th>acceleration</th>\n",
       "      <th>sprintspeed</th>\n",
       "      <th>agility</th>\n",
       "      <th>reactions</th>\n",
       "      <th>balance</th>\n",
       "      <th>shotpower</th>\n",
       "      <th>jumping</th>\n",
       "      <th>stamina</th>\n",
       "      <th>strength</th>\n",
       "      <th>longshots</th>\n",
       "      <th>aggression</th>\n",
       "      <th>interceptions</th>\n",
       "      <th>positioning</th>\n",
       "      <th>vision</th>\n",
       "      <th>penalties</th>\n",
       "      <th>composure</th>\n",
       "      <th>marking</th>\n",
       "      <th>standingtackle</th>\n",
       "      <th>slidingtackle</th>\n",
       "      <th>gkdiving</th>\n",
       "      <th>gkhandling</th>\n",
       "      <th>gkkicking</th>\n",
       "      <th>gkpositioning</th>\n",
       "      <th>gkreflexes</th>\n",
       "      <th>release clause</th>\n",
       "      <th>total_score</th>\n",
       "    </tr>\n",
       "    <tr>\n",
       "      <th>ID</th>\n",
       "      <th></th>\n",
       "      <th></th>\n",
       "      <th></th>\n",
       "      <th></th>\n",
       "      <th></th>\n",
       "      <th></th>\n",
       "      <th></th>\n",
       "      <th></th>\n",
       "      <th></th>\n",
       "      <th></th>\n",
       "      <th></th>\n",
       "      <th></th>\n",
       "      <th></th>\n",
       "      <th></th>\n",
       "      <th></th>\n",
       "      <th></th>\n",
       "      <th></th>\n",
       "      <th></th>\n",
       "      <th></th>\n",
       "      <th></th>\n",
       "      <th></th>\n",
       "      <th></th>\n",
       "      <th></th>\n",
       "      <th></th>\n",
       "      <th></th>\n",
       "      <th></th>\n",
       "      <th></th>\n",
       "      <th></th>\n",
       "      <th></th>\n",
       "      <th></th>\n",
       "      <th></th>\n",
       "      <th></th>\n",
       "      <th></th>\n",
       "      <th></th>\n",
       "      <th></th>\n",
       "      <th></th>\n",
       "      <th></th>\n",
       "      <th></th>\n",
       "      <th></th>\n",
       "      <th></th>\n",
       "      <th></th>\n",
       "      <th></th>\n",
       "      <th></th>\n",
       "      <th></th>\n",
       "      <th></th>\n",
       "      <th></th>\n",
       "      <th></th>\n",
       "      <th></th>\n",
       "      <th></th>\n",
       "      <th></th>\n",
       "      <th></th>\n",
       "      <th></th>\n",
       "      <th></th>\n",
       "      <th></th>\n",
       "      <th></th>\n",
       "      <th></th>\n",
       "      <th></th>\n",
       "      <th></th>\n",
       "      <th></th>\n",
       "      <th></th>\n",
       "      <th></th>\n",
       "      <th></th>\n",
       "      <th></th>\n",
       "      <th></th>\n",
       "      <th></th>\n",
       "      <th></th>\n",
       "      <th></th>\n",
       "      <th></th>\n",
       "      <th></th>\n",
       "      <th></th>\n",
       "      <th></th>\n",
       "      <th></th>\n",
       "      <th></th>\n",
       "      <th></th>\n",
       "      <th></th>\n",
       "      <th></th>\n",
       "      <th></th>\n",
       "      <th></th>\n",
       "      <th></th>\n",
       "      <th></th>\n",
       "      <th></th>\n",
       "      <th></th>\n",
       "      <th></th>\n",
       "      <th></th>\n",
       "    </tr>\n",
       "  </thead>\n",
       "  <tbody>\n",
       "    <tr>\n",
       "      <th>204349</th>\n",
       "      <td>I. Šehić</td>\n",
       "      <td>29</td>\n",
       "      <td>Bosnia Herzegovina</td>\n",
       "      <td>65</td>\n",
       "      <td>66</td>\n",
       "      <td>BB Erzurumspor</td>\n",
       "      <td>425000.00</td>\n",
       "      <td>3000.00</td>\n",
       "      <td>872</td>\n",
       "      <td>Right</td>\n",
       "      <td>1.00</td>\n",
       "      <td>1.00</td>\n",
       "      <td>1.00</td>\n",
       "      <td>Medium/ Medium</td>\n",
       "      <td>Normal</td>\n",
       "      <td>GK</td>\n",
       "      <td>13.00</td>\n",
       "      <td>Jul 6, 2018</td>\n",
       "      <td>NaN</td>\n",
       "      <td>2020</td>\n",
       "      <td>1.90</td>\n",
       "      <td>78.93</td>\n",
       "      <td>NaN</td>\n",
       "      <td>NaN</td>\n",
       "      <td>NaN</td>\n",
       "      <td>NaN</td>\n",
       "      <td>NaN</td>\n",
       "      <td>NaN</td>\n",
       "      <td>NaN</td>\n",
       "      <td>NaN</td>\n",
       "      <td>NaN</td>\n",
       "      <td>NaN</td>\n",
       "      <td>NaN</td>\n",
       "      <td>NaN</td>\n",
       "      <td>NaN</td>\n",
       "      <td>NaN</td>\n",
       "      <td>NaN</td>\n",
       "      <td>NaN</td>\n",
       "      <td>NaN</td>\n",
       "      <td>NaN</td>\n",
       "      <td>NaN</td>\n",
       "      <td>NaN</td>\n",
       "      <td>NaN</td>\n",
       "      <td>NaN</td>\n",
       "      <td>NaN</td>\n",
       "      <td>NaN</td>\n",
       "      <td>NaN</td>\n",
       "      <td>NaN</td>\n",
       "      <td>22.00</td>\n",
       "      <td>7.00</td>\n",
       "      <td>4.00</td>\n",
       "      <td>16.00</td>\n",
       "      <td>8.00</td>\n",
       "      <td>5.00</td>\n",
       "      <td>14.00</td>\n",
       "      <td>11.00</td>\n",
       "      <td>14.00</td>\n",
       "      <td>21.00</td>\n",
       "      <td>30.00</td>\n",
       "      <td>35.00</td>\n",
       "      <td>26.00</td>\n",
       "      <td>48.00</td>\n",
       "      <td>26.00</td>\n",
       "      <td>2.00</td>\n",
       "      <td>30.00</td>\n",
       "      <td>32.00</td>\n",
       "      <td>35.00</td>\n",
       "      <td>5.00</td>\n",
       "      <td>34.00</td>\n",
       "      <td>30.00</td>\n",
       "      <td>14.00</td>\n",
       "      <td>44.00</td>\n",
       "      <td>13.00</td>\n",
       "      <td>41.00</td>\n",
       "      <td>9.00</td>\n",
       "      <td>2.00</td>\n",
       "      <td>4.00</td>\n",
       "      <td>61.00</td>\n",
       "      <td>66.00</td>\n",
       "      <td>66.00</td>\n",
       "      <td>71.00</td>\n",
       "      <td>67.00</td>\n",
       "      <td>€861K</td>\n",
       "      <td>131</td>\n",
       "    </tr>\n",
       "    <tr>\n",
       "      <th>201847</th>\n",
       "      <td>L. Bostyn</td>\n",
       "      <td>24</td>\n",
       "      <td>Belgium</td>\n",
       "      <td>67</td>\n",
       "      <td>71</td>\n",
       "      <td>SV Zulte-Waregem</td>\n",
       "      <td>700000.00</td>\n",
       "      <td>3000.00</td>\n",
       "      <td>964</td>\n",
       "      <td>Right</td>\n",
       "      <td>1.00</td>\n",
       "      <td>3.00</td>\n",
       "      <td>1.00</td>\n",
       "      <td>Medium/ Medium</td>\n",
       "      <td>Normal</td>\n",
       "      <td>GK</td>\n",
       "      <td>25.00</td>\n",
       "      <td>Jul 1, 2014</td>\n",
       "      <td>NaN</td>\n",
       "      <td>2021</td>\n",
       "      <td>1.96</td>\n",
       "      <td>83.91</td>\n",
       "      <td>NaN</td>\n",
       "      <td>NaN</td>\n",
       "      <td>NaN</td>\n",
       "      <td>NaN</td>\n",
       "      <td>NaN</td>\n",
       "      <td>NaN</td>\n",
       "      <td>NaN</td>\n",
       "      <td>NaN</td>\n",
       "      <td>NaN</td>\n",
       "      <td>NaN</td>\n",
       "      <td>NaN</td>\n",
       "      <td>NaN</td>\n",
       "      <td>NaN</td>\n",
       "      <td>NaN</td>\n",
       "      <td>NaN</td>\n",
       "      <td>NaN</td>\n",
       "      <td>NaN</td>\n",
       "      <td>NaN</td>\n",
       "      <td>NaN</td>\n",
       "      <td>NaN</td>\n",
       "      <td>NaN</td>\n",
       "      <td>NaN</td>\n",
       "      <td>NaN</td>\n",
       "      <td>NaN</td>\n",
       "      <td>NaN</td>\n",
       "      <td>NaN</td>\n",
       "      <td>19.00</td>\n",
       "      <td>2.00</td>\n",
       "      <td>5.00</td>\n",
       "      <td>20.00</td>\n",
       "      <td>8.00</td>\n",
       "      <td>4.00</td>\n",
       "      <td>20.00</td>\n",
       "      <td>21.00</td>\n",
       "      <td>19.00</td>\n",
       "      <td>13.00</td>\n",
       "      <td>34.00</td>\n",
       "      <td>38.00</td>\n",
       "      <td>37.00</td>\n",
       "      <td>59.00</td>\n",
       "      <td>32.00</td>\n",
       "      <td>3.00</td>\n",
       "      <td>55.00</td>\n",
       "      <td>24.00</td>\n",
       "      <td>65.00</td>\n",
       "      <td>10.00</td>\n",
       "      <td>36.00</td>\n",
       "      <td>13.00</td>\n",
       "      <td>13.00</td>\n",
       "      <td>32.00</td>\n",
       "      <td>24.00</td>\n",
       "      <td>35.00</td>\n",
       "      <td>13.00</td>\n",
       "      <td>8.00</td>\n",
       "      <td>7.00</td>\n",
       "      <td>72.00</td>\n",
       "      <td>66.00</td>\n",
       "      <td>59.00</td>\n",
       "      <td>67.00</td>\n",
       "      <td>66.00</td>\n",
       "      <td>€1.1M</td>\n",
       "      <td>138</td>\n",
       "    </tr>\n",
       "    <tr>\n",
       "      <th>181831</th>\n",
       "      <td>Yang Cheng</td>\n",
       "      <td>32</td>\n",
       "      <td>China PR</td>\n",
       "      <td>66</td>\n",
       "      <td>66</td>\n",
       "      <td>Hebei China Fortune FC</td>\n",
       "      <td>375000.00</td>\n",
       "      <td>3000.00</td>\n",
       "      <td>1027</td>\n",
       "      <td>Right</td>\n",
       "      <td>1.00</td>\n",
       "      <td>3.00</td>\n",
       "      <td>1.00</td>\n",
       "      <td>Medium/ Medium</td>\n",
       "      <td>Normal</td>\n",
       "      <td>GK</td>\n",
       "      <td>19.00</td>\n",
       "      <td>Feb 27, 2015</td>\n",
       "      <td>NaN</td>\n",
       "      <td>2019</td>\n",
       "      <td>1.85</td>\n",
       "      <td>77.11</td>\n",
       "      <td>NaN</td>\n",
       "      <td>NaN</td>\n",
       "      <td>NaN</td>\n",
       "      <td>NaN</td>\n",
       "      <td>NaN</td>\n",
       "      <td>NaN</td>\n",
       "      <td>NaN</td>\n",
       "      <td>NaN</td>\n",
       "      <td>NaN</td>\n",
       "      <td>NaN</td>\n",
       "      <td>NaN</td>\n",
       "      <td>NaN</td>\n",
       "      <td>NaN</td>\n",
       "      <td>NaN</td>\n",
       "      <td>NaN</td>\n",
       "      <td>NaN</td>\n",
       "      <td>NaN</td>\n",
       "      <td>NaN</td>\n",
       "      <td>NaN</td>\n",
       "      <td>NaN</td>\n",
       "      <td>NaN</td>\n",
       "      <td>NaN</td>\n",
       "      <td>NaN</td>\n",
       "      <td>NaN</td>\n",
       "      <td>NaN</td>\n",
       "      <td>NaN</td>\n",
       "      <td>19.00</td>\n",
       "      <td>5.00</td>\n",
       "      <td>8.00</td>\n",
       "      <td>23.00</td>\n",
       "      <td>10.00</td>\n",
       "      <td>7.00</td>\n",
       "      <td>24.00</td>\n",
       "      <td>23.00</td>\n",
       "      <td>18.00</td>\n",
       "      <td>16.00</td>\n",
       "      <td>36.00</td>\n",
       "      <td>28.00</td>\n",
       "      <td>37.00</td>\n",
       "      <td>65.00</td>\n",
       "      <td>46.00</td>\n",
       "      <td>6.00</td>\n",
       "      <td>54.00</td>\n",
       "      <td>50.00</td>\n",
       "      <td>66.00</td>\n",
       "      <td>5.00</td>\n",
       "      <td>27.00</td>\n",
       "      <td>24.00</td>\n",
       "      <td>12.00</td>\n",
       "      <td>50.00</td>\n",
       "      <td>13.00</td>\n",
       "      <td>57.00</td>\n",
       "      <td>17.00</td>\n",
       "      <td>8.00</td>\n",
       "      <td>4.00</td>\n",
       "      <td>64.00</td>\n",
       "      <td>64.00</td>\n",
       "      <td>67.00</td>\n",
       "      <td>66.00</td>\n",
       "      <td>65.00</td>\n",
       "      <td>€806K</td>\n",
       "      <td>132</td>\n",
       "    </tr>\n",
       "    <tr>\n",
       "      <th>182470</th>\n",
       "      <td>Yu Ziqian</td>\n",
       "      <td>33</td>\n",
       "      <td>China PR</td>\n",
       "      <td>63</td>\n",
       "      <td>63</td>\n",
       "      <td>Dalian YiFang FC</td>\n",
       "      <td>190000.00</td>\n",
       "      <td>2000.00</td>\n",
       "      <td>1149</td>\n",
       "      <td>Right</td>\n",
       "      <td>1.00</td>\n",
       "      <td>1.00</td>\n",
       "      <td>1.00</td>\n",
       "      <td>Medium/ Medium</td>\n",
       "      <td>Normal</td>\n",
       "      <td>GK</td>\n",
       "      <td>19.00</td>\n",
       "      <td>Jan 31, 2015</td>\n",
       "      <td>NaN</td>\n",
       "      <td>2018</td>\n",
       "      <td>1.93</td>\n",
       "      <td>76.20</td>\n",
       "      <td>NaN</td>\n",
       "      <td>NaN</td>\n",
       "      <td>NaN</td>\n",
       "      <td>NaN</td>\n",
       "      <td>NaN</td>\n",
       "      <td>NaN</td>\n",
       "      <td>NaN</td>\n",
       "      <td>NaN</td>\n",
       "      <td>NaN</td>\n",
       "      <td>NaN</td>\n",
       "      <td>NaN</td>\n",
       "      <td>NaN</td>\n",
       "      <td>NaN</td>\n",
       "      <td>NaN</td>\n",
       "      <td>NaN</td>\n",
       "      <td>NaN</td>\n",
       "      <td>NaN</td>\n",
       "      <td>NaN</td>\n",
       "      <td>NaN</td>\n",
       "      <td>NaN</td>\n",
       "      <td>NaN</td>\n",
       "      <td>NaN</td>\n",
       "      <td>NaN</td>\n",
       "      <td>NaN</td>\n",
       "      <td>NaN</td>\n",
       "      <td>NaN</td>\n",
       "      <td>27.00</td>\n",
       "      <td>8.00</td>\n",
       "      <td>7.00</td>\n",
       "      <td>31.00</td>\n",
       "      <td>4.00</td>\n",
       "      <td>8.00</td>\n",
       "      <td>40.00</td>\n",
       "      <td>37.00</td>\n",
       "      <td>31.00</td>\n",
       "      <td>32.00</td>\n",
       "      <td>30.00</td>\n",
       "      <td>26.00</td>\n",
       "      <td>38.00</td>\n",
       "      <td>62.00</td>\n",
       "      <td>63.00</td>\n",
       "      <td>6.00</td>\n",
       "      <td>69.00</td>\n",
       "      <td>44.00</td>\n",
       "      <td>66.00</td>\n",
       "      <td>10.00</td>\n",
       "      <td>37.00</td>\n",
       "      <td>12.00</td>\n",
       "      <td>12.00</td>\n",
       "      <td>36.00</td>\n",
       "      <td>37.00</td>\n",
       "      <td>57.00</td>\n",
       "      <td>17.00</td>\n",
       "      <td>22.00</td>\n",
       "      <td>22.00</td>\n",
       "      <td>61.00</td>\n",
       "      <td>63.00</td>\n",
       "      <td>66.00</td>\n",
       "      <td>60.00</td>\n",
       "      <td>65.00</td>\n",
       "      <td>€409K</td>\n",
       "      <td>126</td>\n",
       "    </tr>\n",
       "    <tr>\n",
       "      <th>182312</th>\n",
       "      <td>Yang Jun</td>\n",
       "      <td>37</td>\n",
       "      <td>China PR</td>\n",
       "      <td>60</td>\n",
       "      <td>60</td>\n",
       "      <td>Tianjin Quanjian FC</td>\n",
       "      <td>10000.00</td>\n",
       "      <td>2000.00</td>\n",
       "      <td>970</td>\n",
       "      <td>Right</td>\n",
       "      <td>1.00</td>\n",
       "      <td>3.00</td>\n",
       "      <td>1.00</td>\n",
       "      <td>Medium/ Medium</td>\n",
       "      <td>Lean</td>\n",
       "      <td>GK</td>\n",
       "      <td>22.00</td>\n",
       "      <td>Mar 1, 2015</td>\n",
       "      <td>NaN</td>\n",
       "      <td>2019</td>\n",
       "      <td>1.88</td>\n",
       "      <td>78.02</td>\n",
       "      <td>NaN</td>\n",
       "      <td>NaN</td>\n",
       "      <td>NaN</td>\n",
       "      <td>NaN</td>\n",
       "      <td>NaN</td>\n",
       "      <td>NaN</td>\n",
       "      <td>NaN</td>\n",
       "      <td>NaN</td>\n",
       "      <td>NaN</td>\n",
       "      <td>NaN</td>\n",
       "      <td>NaN</td>\n",
       "      <td>NaN</td>\n",
       "      <td>NaN</td>\n",
       "      <td>NaN</td>\n",
       "      <td>NaN</td>\n",
       "      <td>NaN</td>\n",
       "      <td>NaN</td>\n",
       "      <td>NaN</td>\n",
       "      <td>NaN</td>\n",
       "      <td>NaN</td>\n",
       "      <td>NaN</td>\n",
       "      <td>NaN</td>\n",
       "      <td>NaN</td>\n",
       "      <td>NaN</td>\n",
       "      <td>NaN</td>\n",
       "      <td>NaN</td>\n",
       "      <td>25.00</td>\n",
       "      <td>6.00</td>\n",
       "      <td>9.00</td>\n",
       "      <td>12.00</td>\n",
       "      <td>6.00</td>\n",
       "      <td>7.00</td>\n",
       "      <td>24.00</td>\n",
       "      <td>18.00</td>\n",
       "      <td>16.00</td>\n",
       "      <td>25.00</td>\n",
       "      <td>37.00</td>\n",
       "      <td>36.00</td>\n",
       "      <td>34.00</td>\n",
       "      <td>55.00</td>\n",
       "      <td>40.00</td>\n",
       "      <td>7.00</td>\n",
       "      <td>69.00</td>\n",
       "      <td>23.00</td>\n",
       "      <td>69.00</td>\n",
       "      <td>6.00</td>\n",
       "      <td>28.00</td>\n",
       "      <td>25.00</td>\n",
       "      <td>18.00</td>\n",
       "      <td>32.00</td>\n",
       "      <td>18.00</td>\n",
       "      <td>56.00</td>\n",
       "      <td>14.00</td>\n",
       "      <td>6.00</td>\n",
       "      <td>9.00</td>\n",
       "      <td>61.00</td>\n",
       "      <td>59.00</td>\n",
       "      <td>60.00</td>\n",
       "      <td>59.00</td>\n",
       "      <td>57.00</td>\n",
       "      <td>€22K</td>\n",
       "      <td>120</td>\n",
       "    </tr>\n",
       "  </tbody>\n",
       "</table>\n",
       "<p>5 rows × 84 columns</p>\n",
       "</div>"
      ],
      "text/plain": [
       "              name  age         nationality  overall  potential  \\\n",
       "ID                                                                \n",
       "204349    I. Šehić   29  Bosnia Herzegovina       65         66   \n",
       "201847   L. Bostyn   24             Belgium       67         71   \n",
       "181831  Yang Cheng   32            China PR       66         66   \n",
       "182470   Yu Ziqian   33            China PR       63         63   \n",
       "182312    Yang Jun   37            China PR       60         60   \n",
       "\n",
       "                          club     value    wage  special preferred foot  \\\n",
       "ID                                                                         \n",
       "204349          BB Erzurumspor 425000.00 3000.00      872          Right   \n",
       "201847        SV Zulte-Waregem 700000.00 3000.00      964          Right   \n",
       "181831  Hebei China Fortune FC 375000.00 3000.00     1027          Right   \n",
       "182470        Dalian YiFang FC 190000.00 2000.00     1149          Right   \n",
       "182312     Tianjin Quanjian FC  10000.00 2000.00      970          Right   \n",
       "\n",
       "        international reputation  weak foot  skill moves       work rate  \\\n",
       "ID                                                                         \n",
       "204349                      1.00       1.00         1.00  Medium/ Medium   \n",
       "201847                      1.00       3.00         1.00  Medium/ Medium   \n",
       "181831                      1.00       3.00         1.00  Medium/ Medium   \n",
       "182470                      1.00       1.00         1.00  Medium/ Medium   \n",
       "182312                      1.00       3.00         1.00  Medium/ Medium   \n",
       "\n",
       "       body type position  jersey number        joined loaned from  \\\n",
       "ID                                                                   \n",
       "204349    Normal       GK          13.00   Jul 6, 2018         NaN   \n",
       "201847    Normal       GK          25.00   Jul 1, 2014         NaN   \n",
       "181831    Normal       GK          19.00  Feb 27, 2015         NaN   \n",
       "182470    Normal       GK          19.00  Jan 31, 2015         NaN   \n",
       "182312      Lean       GK          22.00   Mar 1, 2015         NaN   \n",
       "\n",
       "       contract valid until  height  weight   ls   st   rs   lw   lf   cf  \\\n",
       "ID                                                                          \n",
       "204349                 2020    1.90   78.93  NaN  NaN  NaN  NaN  NaN  NaN   \n",
       "201847                 2021    1.96   83.91  NaN  NaN  NaN  NaN  NaN  NaN   \n",
       "181831                 2019    1.85   77.11  NaN  NaN  NaN  NaN  NaN  NaN   \n",
       "182470                 2018    1.93   76.20  NaN  NaN  NaN  NaN  NaN  NaN   \n",
       "182312                 2019    1.88   78.02  NaN  NaN  NaN  NaN  NaN  NaN   \n",
       "\n",
       "         rf   rw  lam  cam  ram   lm  lcm   cm  rcm   rm  lwb  ldm  cdm  rdm  \\\n",
       "ID                                                                             \n",
       "204349  NaN  NaN  NaN  NaN  NaN  NaN  NaN  NaN  NaN  NaN  NaN  NaN  NaN  NaN   \n",
       "201847  NaN  NaN  NaN  NaN  NaN  NaN  NaN  NaN  NaN  NaN  NaN  NaN  NaN  NaN   \n",
       "181831  NaN  NaN  NaN  NaN  NaN  NaN  NaN  NaN  NaN  NaN  NaN  NaN  NaN  NaN   \n",
       "182470  NaN  NaN  NaN  NaN  NaN  NaN  NaN  NaN  NaN  NaN  NaN  NaN  NaN  NaN   \n",
       "182312  NaN  NaN  NaN  NaN  NaN  NaN  NaN  NaN  NaN  NaN  NaN  NaN  NaN  NaN   \n",
       "\n",
       "        rwb   lb  lcb   cb  rcb   rb  crossing  finishing  headingaccuracy  \\\n",
       "ID                                                                           \n",
       "204349  NaN  NaN  NaN  NaN  NaN  NaN     22.00       7.00             4.00   \n",
       "201847  NaN  NaN  NaN  NaN  NaN  NaN     19.00       2.00             5.00   \n",
       "181831  NaN  NaN  NaN  NaN  NaN  NaN     19.00       5.00             8.00   \n",
       "182470  NaN  NaN  NaN  NaN  NaN  NaN     27.00       8.00             7.00   \n",
       "182312  NaN  NaN  NaN  NaN  NaN  NaN     25.00       6.00             9.00   \n",
       "\n",
       "        shortpassing  volleys  dribbling  curve  fkaccuracy  longpassing  \\\n",
       "ID                                                                         \n",
       "204349         16.00     8.00       5.00  14.00       11.00        14.00   \n",
       "201847         20.00     8.00       4.00  20.00       21.00        19.00   \n",
       "181831         23.00    10.00       7.00  24.00       23.00        18.00   \n",
       "182470         31.00     4.00       8.00  40.00       37.00        31.00   \n",
       "182312         12.00     6.00       7.00  24.00       18.00        16.00   \n",
       "\n",
       "        ballcontrol  acceleration  sprintspeed  agility  reactions  balance  \\\n",
       "ID                                                                            \n",
       "204349        21.00         30.00        35.00    26.00      48.00    26.00   \n",
       "201847        13.00         34.00        38.00    37.00      59.00    32.00   \n",
       "181831        16.00         36.00        28.00    37.00      65.00    46.00   \n",
       "182470        32.00         30.00        26.00    38.00      62.00    63.00   \n",
       "182312        25.00         37.00        36.00    34.00      55.00    40.00   \n",
       "\n",
       "        shotpower  jumping  stamina  strength  longshots  aggression  \\\n",
       "ID                                                                     \n",
       "204349       2.00    30.00    32.00     35.00       5.00       34.00   \n",
       "201847       3.00    55.00    24.00     65.00      10.00       36.00   \n",
       "181831       6.00    54.00    50.00     66.00       5.00       27.00   \n",
       "182470       6.00    69.00    44.00     66.00      10.00       37.00   \n",
       "182312       7.00    69.00    23.00     69.00       6.00       28.00   \n",
       "\n",
       "        interceptions  positioning  vision  penalties  composure  marking  \\\n",
       "ID                                                                          \n",
       "204349          30.00        14.00   44.00      13.00      41.00     9.00   \n",
       "201847          13.00        13.00   32.00      24.00      35.00    13.00   \n",
       "181831          24.00        12.00   50.00      13.00      57.00    17.00   \n",
       "182470          12.00        12.00   36.00      37.00      57.00    17.00   \n",
       "182312          25.00        18.00   32.00      18.00      56.00    14.00   \n",
       "\n",
       "        standingtackle  slidingtackle  gkdiving  gkhandling  gkkicking  \\\n",
       "ID                                                                       \n",
       "204349            2.00           4.00     61.00       66.00      66.00   \n",
       "201847            8.00           7.00     72.00       66.00      59.00   \n",
       "181831            8.00           4.00     64.00       64.00      67.00   \n",
       "182470           22.00          22.00     61.00       63.00      66.00   \n",
       "182312            6.00           9.00     61.00       59.00      60.00   \n",
       "\n",
       "        gkpositioning  gkreflexes release clause  total_score  \n",
       "ID                                                             \n",
       "204349          71.00       67.00          €861K          131  \n",
       "201847          67.00       66.00          €1.1M          138  \n",
       "181831          66.00       65.00          €806K          132  \n",
       "182470          60.00       65.00          €409K          126  \n",
       "182312          59.00       57.00           €22K          120  \n",
       "\n",
       "[5 rows x 84 columns]"
      ]
     },
     "execution_count": 34,
     "metadata": {},
     "output_type": "execute_result"
    }
   ],
   "source": [
    "# lower outliers \n",
    "lower_outlier_shotpower = q1_shotpower - (q3_shotpower - q1_shotpower) * 1.5\n",
    "\n",
    "\n",
    "df_fifa[df_fifa['shotpower'] < lower_outlier_shotpower].sort_values(by='shotpower').head()\n",
    "\n"
   ]
  },
  {
   "cell_type": "code",
   "execution_count": null,
   "metadata": {},
   "outputs": [],
   "source": []
  }
 ],
 "metadata": {
  "colab": {
   "include_colab_link": true,
   "name": "Copy of NB10_01__Pandas.ipynb",
   "private_outputs": true,
   "provenance": []
  },
  "kernelspec": {
   "display_name": "Python 3",
   "language": "python",
   "name": "python3"
  },
  "language_info": {
   "codemirror_mode": {
    "name": "ipython",
    "version": 3
   },
   "file_extension": ".py",
   "mimetype": "text/x-python",
   "name": "python",
   "nbconvert_exporter": "python",
   "pygments_lexer": "ipython3",
   "version": "3.7.8"
  }
 },
 "nbformat": 4,
 "nbformat_minor": 1
}
