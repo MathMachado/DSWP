{
  "nbformat": 4,
  "nbformat_minor": 0,
  "metadata": {
    "colab": {
      "name": "NB01_03__Loops.ipynb",
      "provenance": [],
      "private_outputs": true,
      "include_colab_link": true
    },
    "kernelspec": {
      "name": "python3",
      "display_name": "Python 3"
    }
  },
  "cells": [
    {
      "cell_type": "markdown",
      "metadata": {
        "id": "view-in-github",
        "colab_type": "text"
      },
      "source": [
        "<a href=\"https://colab.research.google.com/github/MathMachado/DSWP/blob/master/Notebooks/NB01_03__Loops%20While%20%26%20For.ipynb\" target=\"_parent\"><img src=\"https://colab.research.google.com/assets/colab-badge.svg\" alt=\"Open In Colab\"/></a>"
      ]
    },
    {
      "cell_type": "markdown",
      "metadata": {
        "id": "0HWHRKZBipIA"
      },
      "source": [
        "<center><h1><b><i>LOOPS: While & For</i></b></h1></center>\n",
        "\n"
      ]
    },
    {
      "cell_type": "markdown",
      "metadata": {
        "id": "xjDSAzb07p_-"
      },
      "source": [
        "# **AGENDA**:\n",
        "> Veja o **índice** dos itens que serão abordados neste capítulo."
      ]
    },
    {
      "cell_type": "markdown",
      "metadata": {
        "id": "rwh5e0oJd71R"
      },
      "source": [
        "___\n",
        "# **While**\n",
        "> Usamos Loops quando desejamos que algumas instruções sejam executadas várias vezes."
      ]
    },
    {
      "cell_type": "code",
      "metadata": {
        "id": "IPIKVR5Uf5pS"
      },
      "source": [
        "# Não executar o code a seguir:\n",
        "while condicao:\n",
        "    <bloco de código caso condicao for verdade>\n",
        "    break/continue\n",
        "\n",
        "<Bloco de código a ser executado após o while>"
      ],
      "execution_count": null,
      "outputs": []
    },
    {
      "cell_type": "markdown",
      "metadata": {
        "id": "AaxOB5knbLQq"
      },
      "source": [
        "## Exemplo 1"
      ]
    },
    {
      "cell_type": "code",
      "metadata": {
        "id": "SiKKCk35aRo_"
      },
      "source": [
        "i_numero= 10\n",
        "i_soma= 0\n",
        "\n",
        "while i_numero > 0:\n",
        "    i_soma+= i_numero\n",
        "    print(f'Número: {i_numero} --> Soma: {i_soma}')\n",
        "    i_numero -= 1   "
      ],
      "execution_count": null,
      "outputs": []
    },
    {
      "cell_type": "markdown",
      "metadata": {
        "id": "G__s_OwVbNf5"
      },
      "source": [
        "## Exemplo 2"
      ]
    },
    {
      "cell_type": "code",
      "metadata": {
        "id": "DKPqbmFQbO-M"
      },
      "source": [
        "i_numero= 10\n",
        "i_soma= 0\n",
        "\n",
        "while i_numero > 0:\n",
        "    i_soma+= i_numero\n",
        "    print(f'Número: {i_numero} --> Soma: {i_soma}')\n",
        "    i_numero -= 1"
      ],
      "execution_count": null,
      "outputs": []
    },
    {
      "cell_type": "markdown",
      "metadata": {
        "id": "kz8U_cPXcfWw"
      },
      "source": [
        "## Exemplo 3"
      ]
    },
    {
      "cell_type": "code",
      "metadata": {
        "id": "DZoUN7wqchcx"
      },
      "source": [
        "i_numero= 10\n",
        "i_soma= 0\n",
        "\n",
        "while i_numero > 0:\n",
        "    i_soma+= i_numero\n",
        "    print(f'Número: {i_numero} --> Soma: {i_soma}')\n",
        "    i_numero -= 1\n",
        "\n",
        "    if i_numero < 5:\n",
        "        print(f'i_numero < 5 --> Chegamos ao fim do while loop!')  \n",
        "        break"
      ],
      "execution_count": null,
      "outputs": []
    },
    {
      "cell_type": "markdown",
      "metadata": {
        "id": "PwSN-ZModXPZ"
      },
      "source": [
        "Observe que a instrução \"break\" força a saída do \"while loop\", mesmo se [condição] for verdadeira."
      ]
    },
    {
      "cell_type": "markdown",
      "metadata": {
        "id": "ovq2nlGddyux"
      },
      "source": [
        "## Exemplo 4"
      ]
    },
    {
      "cell_type": "code",
      "metadata": {
        "id": "cdBWnAlQd0qU"
      },
      "source": [
        "i_numero= 10\n",
        "i_soma= 0\n",
        "\n",
        "while i_numero > 0:\n",
        "    i_numero -= 1\n",
        "\n",
        "    if i_numero == 5:\n",
        "        print(f'i_numero == 5 --> Não faz nada!')  \n",
        "        continue # Esse statement força o início do while loop.\n",
        "    \n",
        "    i_soma+= i_numero\n",
        "    print(f'Número: {i_numero} --> Soma: {i_soma}')   "
      ],
      "execution_count": null,
      "outputs": []
    },
    {
      "cell_type": "markdown",
      "metadata": {
        "id": "Lb_dRhGShPcP"
      },
      "source": [
        "# **For**\n",
        "> Usado nos casos em que queremos iterar os elementos de uma sequência."
      ]
    },
    {
      "cell_type": "code",
      "metadata": {
        "id": "3qLkHhYNgkI5"
      },
      "source": [
        "# Não executar o code a seguir:\n",
        "for condicao:\n",
        "    <bloco de código caso condicao for verdade>\n",
        "    break/continue"
      ],
      "execution_count": null,
      "outputs": []
    },
    {
      "cell_type": "markdown",
      "metadata": {
        "id": "oS9smFVYiAr4"
      },
      "source": [
        "## Exemplo 1"
      ]
    },
    {
      "cell_type": "code",
      "metadata": {
        "id": "UYyKXnbxhSdz"
      },
      "source": [
        "# Definir nossa sequência - No nosso caso, a sequência é uma lista:\n",
        "l_vogais= ['a', 'e', 'i', 'o', 'u']\n",
        "\n",
        "for l_letra in l_vogais:\n",
        "    print(f'Vogal: {l_letra}')"
      ],
      "execution_count": null,
      "outputs": []
    },
    {
      "cell_type": "markdown",
      "metadata": {
        "id": "LQa2cV3AiDG2"
      },
      "source": [
        "## Exemplo 2"
      ]
    },
    {
      "cell_type": "code",
      "metadata": {
        "id": "lAYJLYYeiEgm"
      },
      "source": [
        "# Definir nossa sequência - No nosso caso, a sequência é uma lista:\n",
        "s_frase = 'Data Science é demais!'\n",
        "\n",
        "for l_letra in s_frase:\n",
        "    print(f'{l_letra}')"
      ],
      "execution_count": null,
      "outputs": []
    },
    {
      "cell_type": "markdown",
      "metadata": {
        "id": "yYT9p87Tkkap"
      },
      "source": [
        "## Função range() = np.arange\n",
        "> A função range(inicio, fim, step) gera uma sequência.\n",
        "> A função numpy.arange(inicio, fim, step) faz a mesma coisa que a função range."
      ]
    },
    {
      "cell_type": "markdown",
      "metadata": {
        "id": "1gkp66dlkxPh"
      },
      "source": [
        "Considere os exemplos a seguir:"
      ]
    },
    {
      "cell_type": "code",
      "metadata": {
        "id": "0bw4uvu1j7Ki"
      },
      "source": [
        "list(range(10)) # range(k) gera a sequência 0, ..., k-1."
      ],
      "execution_count": null,
      "outputs": []
    },
    {
      "cell_type": "code",
      "metadata": {
        "id": "kD9XhZ7xi-Bt"
      },
      "source": [
        "list(range(2, 10)) # Gera a sequência 2, 3, ... 9"
      ],
      "execution_count": null,
      "outputs": []
    },
    {
      "cell_type": "code",
      "metadata": {
        "id": "xLANqziHjDLl"
      },
      "source": [
        "list(range(0, 10, 2)) # Gera a sequência 0, 2, 4, 6, 8"
      ],
      "execution_count": null,
      "outputs": []
    },
    {
      "cell_type": "markdown",
      "metadata": {
        "id": "zeMxFTdE6q97"
      },
      "source": [
        "Porque a sequência acima não vai até 10?"
      ]
    },
    {
      "cell_type": "code",
      "metadata": {
        "id": "tvT0UsiojMdM"
      },
      "source": [
        "list(range(10, 0, -1)) # Gera a sequência 10, 9, 8, ..., 1"
      ],
      "execution_count": null,
      "outputs": []
    },
    {
      "cell_type": "code",
      "metadata": {
        "id": "i4ZnFoCRjQ2y"
      },
      "source": [
        "list(range(10, 0, -2))"
      ],
      "execution_count": null,
      "outputs": []
    },
    {
      "cell_type": "code",
      "metadata": {
        "id": "l8i6HSq1kU1c"
      },
      "source": [
        "list(range(10, 0))"
      ],
      "execution_count": null,
      "outputs": []
    },
    {
      "cell_type": "code",
      "metadata": {
        "id": "c2BOO7U4jf0x"
      },
      "source": [
        "list(range(10))"
      ],
      "execution_count": null,
      "outputs": []
    },
    {
      "cell_type": "markdown",
      "metadata": {
        "id": "313SD1DWij5E"
      },
      "source": [
        "## Exemplo 3"
      ]
    },
    {
      "cell_type": "markdown",
      "metadata": {
        "id": "SAVd_E1BjUDZ"
      },
      "source": [
        "Ok, agora que entendemos como funciona a função range() = np.arange, vamos ao For Loop:"
      ]
    },
    {
      "cell_type": "code",
      "metadata": {
        "id": "e9xJQ5WGilyS"
      },
      "source": [
        "for i_numero in range(10):\n",
        "    print(f'{i_numero}')"
      ],
      "execution_count": null,
      "outputs": []
    },
    {
      "cell_type": "markdown",
      "metadata": {
        "id": "Ok1-tYhd8laV"
      },
      "source": [
        "Dissemos que range() = np.arange. Veja abaixo, por exemplo, usando o método np.arange():"
      ]
    },
    {
      "cell_type": "code",
      "metadata": {
        "id": "r8SU-Hh28Vpe"
      },
      "source": [
        "import numpy as np\n",
        "\n",
        "for i_numero in np.arange(10):\n",
        "    print(f'{i_numero}')"
      ],
      "execution_count": null,
      "outputs": []
    },
    {
      "cell_type": "markdown",
      "metadata": {
        "id": "lsB0SGPfk8vu"
      },
      "source": [
        "## Exemplo 4"
      ]
    },
    {
      "cell_type": "code",
      "metadata": {
        "id": "M0dXvvbRk-by"
      },
      "source": [
        "for i_numero in [0, 2, 4, 6, 8, 10]:\n",
        "    print(f'{i_numero}')"
      ],
      "execution_count": null,
      "outputs": []
    },
    {
      "cell_type": "markdown",
      "metadata": {
        "id": "_pVAcCrylV7S"
      },
      "source": [
        "## Exemplo 5"
      ]
    },
    {
      "cell_type": "code",
      "metadata": {
        "id": "3EzKNonrlZOP"
      },
      "source": [
        "l_paises = ['Portugal', 'Brasil', 'EUA', 'Alemanha', 'Holanda']"
      ],
      "execution_count": null,
      "outputs": []
    },
    {
      "cell_type": "code",
      "metadata": {
        "id": "jHMNlZtmliOT"
      },
      "source": [
        "len(l_paises)"
      ],
      "execution_count": null,
      "outputs": []
    },
    {
      "cell_type": "code",
      "metadata": {
        "id": "zzZ2LoAWllCl"
      },
      "source": [
        "range(len(l_paises))"
      ],
      "execution_count": null,
      "outputs": []
    },
    {
      "cell_type": "code",
      "metadata": {
        "id": "jhwCsF_0lsZB"
      },
      "source": [
        "list(range(len(l_paises)))"
      ],
      "execution_count": null,
      "outputs": []
    },
    {
      "cell_type": "markdown",
      "metadata": {
        "id": "mAbQ_1xylvdK"
      },
      "source": [
        "O que são esses números acima?"
      ]
    },
    {
      "cell_type": "code",
      "metadata": {
        "id": "Bwufxio6lyy8"
      },
      "source": [
        "for i_pais in range(len(l_paises)):\n",
        "    print(f'{l_paises[i_pais]}')"
      ],
      "execution_count": null,
      "outputs": []
    },
    {
      "cell_type": "markdown",
      "metadata": {
        "id": "DiQdDZE1mE6H"
      },
      "source": [
        "Saberia explicar detalhadamente o processo acima?"
      ]
    },
    {
      "cell_type": "markdown",
      "metadata": {
        "id": "eFmSvx1GZLCI"
      },
      "source": [
        "### Observação:\n",
        "* A ideia dos intervalos é:\n",
        "\n",
        "$$[inicio, fim) = [inicio, fim [$$\n",
        "\n",
        "Ou seja, fim não pertence ao intervalo."
      ]
    },
    {
      "cell_type": "markdown",
      "metadata": {
        "id": "ZpIfEmZPmPdI"
      },
      "source": [
        "## Exemplo 6\n",
        "> Uso do break."
      ]
    },
    {
      "cell_type": "code",
      "metadata": {
        "id": "Fje2a_NImUC4"
      },
      "source": [
        "for i_pais in range(len(l_paises)):\n",
        "    print(f'{l_paises[i_pais]}')\n",
        "    if l_paises[i_pais]== 'EUA':\n",
        "        break"
      ],
      "execution_count": null,
      "outputs": []
    },
    {
      "cell_type": "markdown",
      "metadata": {
        "id": "FScchFY779nn"
      },
      "source": [
        "___\n",
        "# **Wrap Up**"
      ]
    },
    {
      "cell_type": "markdown",
      "metadata": {
        "id": "IJfct-blOVXd"
      },
      "source": [
        "___\n",
        "# Exercícios\n",
        "Os sites a seguir são uma ótima referência de exercícios de Python:\n",
        "### https://pynative.com/python-if-else-and-for-loop-exercise-with-solutions/;\n",
        "### https://www.w3resource.com/python-exercises/"
      ]
    },
    {
      "cell_type": "code",
      "metadata": {
        "id": "YO2lR3nWKhT3"
      },
      "source": [
        ""
      ],
      "execution_count": null,
      "outputs": []
    }
  ]
}