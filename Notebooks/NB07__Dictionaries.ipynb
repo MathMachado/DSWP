{
  "nbformat": 4,
  "nbformat_minor": 0,
  "metadata": {
    "colab": {
      "name": "NB07__Dictionaries.ipynb",
      "provenance": [],
      "collapsed_sections": [
        "n8BIbzQbNWUo",
        "7eS94uQ4NhVR",
        "SYOgJpGYVLUu",
        "CaHFxk98W5if",
        "ReWUyWiHXCnc",
        "CqszHxaKHr2h",
        "tXgF1Wl9gHKY",
        "Fotx7XUquAo8",
        "36kmLUYDvsUI",
        "SWO2GdNovxAp",
        "vpN54l4vxze5",
        "u4HOf9SNytSq",
        "6BQ9oZiD9hg5",
        "tz5-QdrX9vct",
        "p1muBgMX8NK4",
        "FxTC2-U88ajk",
        "z8EYn0pP25Rh"
      ],
      "include_colab_link": true
    },
    "kernelspec": {
      "name": "python3",
      "display_name": "Python 3"
    },
    "accelerator": "GPU"
  },
  "cells": [
    {
      "cell_type": "markdown",
      "metadata": {
        "id": "view-in-github",
        "colab_type": "text"
      },
      "source": [
        "<a href=\"https://colab.research.google.com/github/MathMachado/DSWP/blob/master/Notebooks/NB07__Dictionaries.ipynb\" target=\"_parent\"><img src=\"https://colab.research.google.com/assets/colab-badge.svg\" alt=\"Open In Colab\"/></a>"
      ]
    },
    {
      "cell_type": "markdown",
      "metadata": {
        "id": "iBW6agsvqqAm"
      },
      "source": [
        "<center><h1><b><i>DICIONÁRIOS</i></b></h1></center>\n",
        "\n",
        "* Coleção desordenada, mutável e indexada (estrutura do tipo {key: value}) de itens;\n",
        "* Não permite itens duplicados;\n",
        "* Usamos {key: value} para representar os itens do dicionário;\n",
        "\n"
      ]
    },
    {
      "cell_type": "markdown",
      "metadata": {
        "id": "LFcr_2Xnq2ho"
      },
      "source": [
        "# **AGENDA**:\n",
        "\n",
        "> Veja o **índice** dos itens que serão abordados neste capítulo.\n",
        "\n"
      ]
    },
    {
      "cell_type": "markdown",
      "metadata": {
        "id": "r8vR-lHJIhgM"
      },
      "source": [
        "# **NOTAS E OBSERVAÇÕES**\n",
        "* Levar os exemplos de lambda function daqui para o capítulo de Lambda Function.\n"
      ]
    },
    {
      "cell_type": "markdown",
      "metadata": {
        "id": "DkxCxjsbE5fL"
      },
      "source": [
        "# **CHEETSHEET**"
      ]
    },
    {
      "cell_type": "markdown",
      "metadata": {
        "id": "cGUWTualFCOk"
      },
      "source": [
        "![DataSctructures](https://github.com/MathMachado/Materials/blob/master/PythonDataStructures.png?raw=true)"
      ]
    },
    {
      "cell_type": "markdown",
      "metadata": {
        "id": "ublDMf3R_qMn"
      },
      "source": [
        "A seguir, os principais métodos associados aos dicionários. Para isso, considere as listas l_frutas e l_precos_frutas que darão origem ao dicionário d_frutas a seguir:"
      ]
    },
    {
      "cell_type": "code",
      "metadata": {
        "id": "FxuJ7Awd8f5a"
      },
      "source": [
        "# Definição da lista l_frutas:\n",
        "l_frutas = ['Avocado', 'Apple', 'Apricot', 'Banana', 'Blackcurrant', 'Blackberry', 'Blueberry', 'Cherry', 'Coconut', 'Fig', 'Grape', 'Kiwi', 'Lemon', 'Mango', 'Nectarine', \n",
        "          'Orange', 'Papaya','Passion Fruit','Peach','Pineapple','Plum','Raspberry','Strawberry','Watermelon']"
      ],
      "execution_count": null,
      "outputs": []
    },
    {
      "cell_type": "code",
      "metadata": {
        "id": "jJyxuMQc9Ewy"
      },
      "source": [
        "# Definição da lista l_precos_frutas:\n",
        "l_precos_frutas = [0.35, 0.40, 0.25, 0.30, 0.70, 0.55, 0.45, 0.50, 0.75, 0.60, 0.65, 0.20, 0.15, 0.80, 0.75, 0.25, 0.30,0.45,0.55,0.55,0.60,0.40,0.50,0.45]"
      ],
      "execution_count": null,
      "outputs": []
    },
    {
      "cell_type": "markdown",
      "metadata": {
        "id": "hXP3kxW4-AI1"
      },
      "source": [
        "Observe abaixo o uso das funções dict() e zip() para criarmos o dicionário d_frutas:"
      ]
    },
    {
      "cell_type": "code",
      "metadata": {
        "id": "qT_4sYxA9dyn",
        "outputId": "a8badcb1-7f11-4b2e-8629-48a36cc95f9d",
        "colab": {
          "base_uri": "https://localhost:8080/",
          "height": 425
        }
      },
      "source": [
        "d_frutas = dict(zip(l_frutas, l_precos_frutas))\n",
        "d_frutas"
      ],
      "execution_count": null,
      "outputs": [
        {
          "output_type": "execute_result",
          "data": {
            "text/plain": [
              "{'Apple': 0.4,\n",
              " 'Apricot': 0.25,\n",
              " 'Avocado': 0.35,\n",
              " 'Banana': 0.3,\n",
              " 'Blackberry': 0.55,\n",
              " 'Blackcurrant': 0.7,\n",
              " 'Blueberry': 0.45,\n",
              " 'Cherry': 0.5,\n",
              " 'Coconut': 0.75,\n",
              " 'Fig': 0.6,\n",
              " 'Grape': 0.65,\n",
              " 'Kiwi': 0.2,\n",
              " 'Lemon': 0.15,\n",
              " 'Mango': 0.8,\n",
              " 'Nectarine': 0.75,\n",
              " 'Orange': 0.25,\n",
              " 'Papaya': 0.3,\n",
              " 'Passion Fruit': 0.45,\n",
              " 'Peach': 0.55,\n",
              " 'Pineapple': 0.55,\n",
              " 'Plum': 0.6,\n",
              " 'Raspberry': 0.4,\n",
              " 'Strawberry': 0.5,\n",
              " 'Watermelon': 0.45}"
            ]
          },
          "metadata": {
            "tags": []
          },
          "execution_count": 36
        }
      ]
    },
    {
      "cell_type": "markdown",
      "metadata": {
        "id": "iHKUaGNT_IDt"
      },
      "source": [
        "A seguir, resumo dos principais métodos relacionados à dicionários:"
      ]
    },
    {
      "cell_type": "markdown",
      "metadata": {
        "id": "MQLZ1mwW_yiU"
      },
      "source": [
        "| Método                  | Descrição                                                                                          | Exemplo                                  | Resultado                                                                      |\n",
        "|-------------------------|----------------------------------------------------------------------------------------------------|------------------------------------------|--------------------------------------------------------------------------------|\n",
        "| d_dicionario.clear()               | Remove todos os itens de d_dicionario                                                                         | d_frutas.clear()                          | {}                                                                             |\n",
        "| d_dicionario.copy()                | Retorna uma cópia de d_dicionario                                                                             | d_frutas2= d_frutas.copy()                 | d_frutas2 é uma cópia de d_frutas                                                |\n",
        "| d_dicionario.get(key)              | Retorna o valor para key, se key estiver em d_dicionario                                                      | d_frutas.get('Passion Fruit')             | 0.45                                                                           |\n",
        "|                         |                                                                                                    | d_frutas.get('XPTO')                      | O Python não apresenta nenhum retorno                                          |\n",
        "| d_dicionario.items()               | Retorna um objeto com as tuplas (key, valor) de d_dicionario                                                  | d_frutas.items()                          | dict_items([('Avocado', 0.35), ..., ('Watermelon', 0.45)])                     |\n",
        "| d_dicionario.keys()                | Retorna um objeto com as keys de d_dicionario                                                                 | d_frutas.keys()                           | dict_keys(['Avocado', 'Apple', ..., 'Watermelon'])                             |\n",
        "| d_dicionario.values()              | Retorna um objeto com os valores de d_dicionario                                                              | d_frutas.values()                         | dict_values([0.35, 0.4, ..., 0.45])                                            |\n",
        "| d_dicionario.popitem()             | Retorna e remove um item de d_dicionario                                                                      | d_frutas.popitem()                        | ('Watermelon', 0.45)                                                           |\n",
        "|                         |                                                                                                    | 'Watermelon' in d_frutas                  | False                                                                          |\n",
        "| d_dicionario.pop(key[, default])   | Retorna e remove o item de d_dicionario correspondente à key                                                  | d_frutas.pop('Orange')                    | 0.25                                                                           |\n",
        "|                         |                                                                                                    | 'Orange' in d_frutas                      | False                                                                          |\n",
        "| d_dicionario.update(d2)            | Adiciona item(s) à d_dicionario se key não estiver em d_dicionario. Se key estiver em d_dicionario, atualizará key com o novo valor | d_frutas.update({'Cherimoya': 1.3})       | Adicionará o item {'Cherimoya': 1.3} à d_frutas, pois key= 'Cherimoya' não está em d_frutas. |\n",
        "|                         |                                                                                                    | d_frutas.update({'Orange': 0.55})         | Atualiza o valor de key= 'Orange' para 0.55. O valor anterior era 0.25         |\n",
        "| d_dicionario.fromkeys(keys, value) | Retorna um dicionário com keys especificadas e valores                                             | tFruits= ('Avocado', 'Apple', 'Apricot') |                                                                                |\n",
        "|                         |                                                                                                    | d_frutas.fromkeys(tFruits, 0)             | {'Apple': 0, 'Apricot': 0, 'Avocado': 0}                                       |"
      ]
    },
    {
      "cell_type": "markdown",
      "metadata": {
        "id": "uH6cHnctDu2l"
      },
      "source": [
        "A seguir, vamos apresentar mais alguns exemplos de dicionários e seus métodos associados:"
      ]
    },
    {
      "cell_type": "markdown",
      "metadata": {
        "id": "YeCPxCab4e4k"
      },
      "source": [
        "___\n",
        "# **EXEMPLO**\n",
        "* Os dias da semana como dicionário."
      ]
    },
    {
      "cell_type": "code",
      "metadata": {
        "id": "N_2J839X4lps",
        "outputId": "54ca32b8-7dda-4907-8aa5-b327444bd458",
        "colab": {
          "base_uri": "https://localhost:8080/",
          "height": 134
        }
      },
      "source": [
        "d_dia_semana = {'Seg': 'Segunda', 'Ter': 'Terça', 'Qua': 'Quarta', 'Qui': 'Quinta', 'Sex': 'Sexta', 'Sab': 'Sabado', 'Dom': 'Domingo'}\n",
        "d_dia_semana"
      ],
      "execution_count": null,
      "outputs": [
        {
          "output_type": "execute_result",
          "data": {
            "text/plain": [
              "{'Dom': 'Domingo',\n",
              " 'Qua': 'Quarta',\n",
              " 'Qui': 'Quinta',\n",
              " 'Sab': 'Sabado',\n",
              " 'Seg': 'Segunda',\n",
              " 'Sex': 'Sexta',\n",
              " 'Ter': 'Terça'}"
            ]
          },
          "metadata": {
            "tags": []
          },
          "execution_count": 1
        }
      ]
    },
    {
      "cell_type": "markdown",
      "metadata": {
        "id": "CnZLR-VX6FV4"
      },
      "source": [
        "Observe que:\n",
        "* os itens do dicionário d_dia_semana seguem a estrutura {key: value}.\n"
      ]
    },
    {
      "cell_type": "code",
      "metadata": {
        "id": "eHuvY7BWQKhQ",
        "outputId": "87fabef2-0891-4994-a4ce-cdd1e23218b1",
        "colab": {
          "base_uri": "https://localhost:8080/",
          "height": 34
        }
      },
      "source": [
        "d_dia_semana['Seg']"
      ],
      "execution_count": null,
      "outputs": [
        {
          "output_type": "execute_result",
          "data": {
            "text/plain": [
              "'Segunda'"
            ]
          },
          "metadata": {
            "tags": []
          },
          "execution_count": 2
        }
      ]
    },
    {
      "cell_type": "markdown",
      "metadata": {
        "id": "j65BxhzGG0NA"
      },
      "source": [
        "___\n",
        "# **DECLARAR OU INICIALIZAR UM DICIONÁRIO VAZIO**"
      ]
    },
    {
      "cell_type": "markdown",
      "metadata": {
        "id": "LEGwQ0U-fKtL"
      },
      "source": [
        "Por exemplo, o comando abaixo declara um dicionário vazio chamado d_paises:"
      ]
    },
    {
      "cell_type": "code",
      "metadata": {
        "id": "2iPWXPBLfOlr",
        "outputId": "7925813c-77e2-4651-bdb2-f0e1144aecdb",
        "colab": {
          "base_uri": "https://localhost:8080/",
          "height": 34
        }
      },
      "source": [
        "d_paises = {} # Também podemos usar a função dict() para criar o dicionário vazio da seguinte forma: d_paises= dict()\n",
        "d_paises"
      ],
      "execution_count": null,
      "outputs": [
        {
          "output_type": "execute_result",
          "data": {
            "text/plain": [
              "{}"
            ]
          },
          "metadata": {
            "tags": []
          },
          "execution_count": 4
        }
      ]
    },
    {
      "cell_type": "markdown",
      "metadata": {
        "id": "vCxZv-jmG5y0"
      },
      "source": [
        "___\n",
        "# **OBTER O TIPO DO OBJETO**\n",
        "> type(d_dicionario)"
      ]
    },
    {
      "cell_type": "code",
      "metadata": {
        "id": "voPYpGIGff3o",
        "outputId": "7fab37f5-8ed1-46d8-b47b-62a100ee2196",
        "colab": {
          "base_uri": "https://localhost:8080/",
          "height": 34
        }
      },
      "source": [
        "type(d_paises)"
      ],
      "execution_count": null,
      "outputs": [
        {
          "output_type": "execute_result",
          "data": {
            "text/plain": [
              "dict"
            ]
          },
          "metadata": {
            "tags": []
          },
          "execution_count": 5
        }
      ]
    },
    {
      "cell_type": "markdown",
      "metadata": {
        "id": "X3MvCkFiG-UO"
      },
      "source": [
        "___\n",
        "# **ADICIONAR ITENS AO DICIONÁRIO**"
      ]
    },
    {
      "cell_type": "markdown",
      "metadata": {
        "id": "fzP8iG5xfi0H"
      },
      "source": [
        "Adicionar o valor 'Italy' à key = 1. Em outras palavras, estamos a adicionar o item {1: 'Italy'}"
      ]
    },
    {
      "cell_type": "code",
      "metadata": {
        "id": "EXZ7eEZofnza",
        "outputId": "bacf6377-b5cc-4f29-f6c0-347516550f37",
        "colab": {
          "base_uri": "https://localhost:8080/",
          "height": 34
        }
      },
      "source": [
        "d_paises[1] = 'Italy'\n",
        "d_paises"
      ],
      "execution_count": null,
      "outputs": [
        {
          "output_type": "execute_result",
          "data": {
            "text/plain": [
              "{1: 'Italy'}"
            ]
          },
          "metadata": {
            "tags": []
          },
          "execution_count": 6
        }
      ]
    },
    {
      "cell_type": "markdown",
      "metadata": {
        "id": "rH51ORGHHREE"
      },
      "source": [
        "Adicionar o valor 'Denmark' à key= 2. Em outras palavras, estamos a adicionar o item {2: 'Denmark'}"
      ]
    },
    {
      "cell_type": "code",
      "metadata": {
        "id": "GAXSzSiufv1u",
        "outputId": "94f7e900-0452-4908-c0fe-2783a735bd01",
        "colab": {
          "base_uri": "https://localhost:8080/",
          "height": 34
        }
      },
      "source": [
        "d_paises[2] = 'Denmark'\n",
        "d_paises"
      ],
      "execution_count": null,
      "outputs": [
        {
          "output_type": "execute_result",
          "data": {
            "text/plain": [
              "{1: 'Italy', 2: 'Denmark'}"
            ]
          },
          "metadata": {
            "tags": []
          },
          "execution_count": 7
        }
      ]
    },
    {
      "cell_type": "markdown",
      "metadata": {
        "id": "Xqdc_IYoHVVQ"
      },
      "source": [
        "Adicionar o valor 'Brazil' à key= 3. Em outras palavras, estamos a adicionar o item {3: 'Brazil'}"
      ]
    },
    {
      "cell_type": "code",
      "metadata": {
        "id": "FN7km8C9gAjM",
        "outputId": "7863cccb-b0aa-47b2-901b-ba72a5574d4f",
        "colab": {
          "base_uri": "https://localhost:8080/",
          "height": 34
        }
      },
      "source": [
        "d_paises[3]= 'Brazil'\n",
        "d_paises"
      ],
      "execution_count": null,
      "outputs": [
        {
          "output_type": "execute_result",
          "data": {
            "text/plain": [
              "{1: 'Italy', 2: 'Denmark', 3: 'Brazil'}"
            ]
          },
          "metadata": {
            "tags": []
          },
          "execution_count": 8
        }
      ]
    },
    {
      "cell_type": "markdown",
      "metadata": {
        "id": "iwU8pJKRHapD"
      },
      "source": [
        "___\n",
        "# **ATUALIZAR VALORES DO DICIONÁRIO**"
      ]
    },
    {
      "cell_type": "markdown",
      "metadata": {
        "id": "CxXUV7TugLXn"
      },
      "source": [
        "O que acontece quando eu atribuo à key 3 outro valor, por exemplo, 'France'. Vamos conferir abaixo:"
      ]
    },
    {
      "cell_type": "code",
      "metadata": {
        "id": "Rr6DtJnDgU5I",
        "outputId": "f02c2c47-e5aa-43cd-886b-345c52ed31bd",
        "colab": {
          "base_uri": "https://localhost:8080/",
          "height": 34
        }
      },
      "source": [
        "# Adicionar o valor 'France' à key= 3\n",
        "d_paises[3]= 'France'\n",
        "d_paises"
      ],
      "execution_count": null,
      "outputs": [
        {
          "output_type": "execute_result",
          "data": {
            "text/plain": [
              "{1: 'Italy', 2: 'Denmark', 3: 'France'}"
            ]
          },
          "metadata": {
            "tags": []
          },
          "execution_count": 9
        }
      ]
    },
    {
      "cell_type": "markdown",
      "metadata": {
        "id": "xB9G1l3_ggo-"
      },
      "source": [
        "Como a key= 3 existe no dicionário d_paises, então o Python substitui o valor anterior 'Brazil' pelo novo valor, 'France'. \n",
        "\n",
        "* Lembre-se, os dicionários são mutáveis!"
      ]
    },
    {
      "cell_type": "markdown",
      "metadata": {
        "id": "T8JBxySZHiOJ"
      },
      "source": [
        "___\n",
        "# **OBTER KEYS DO DICIONÁRIO**"
      ]
    },
    {
      "cell_type": "code",
      "metadata": {
        "id": "ALwbHwi4iwky",
        "outputId": "bb0d57fb-2742-4eb1-9d82-9309142d21f5",
        "colab": {
          "base_uri": "https://localhost:8080/",
          "height": 34
        }
      },
      "source": [
        "d_paises.keys()"
      ],
      "execution_count": null,
      "outputs": [
        {
          "output_type": "execute_result",
          "data": {
            "text/plain": [
              "dict_keys([1, 2, 3])"
            ]
          },
          "metadata": {
            "tags": []
          },
          "execution_count": 10
        }
      ]
    },
    {
      "cell_type": "markdown",
      "metadata": {
        "id": "FIvi0Li1Hng5"
      },
      "source": [
        "___\n",
        "# **OBTER VALORES DO DICIONÁRIO**"
      ]
    },
    {
      "cell_type": "code",
      "metadata": {
        "id": "cp0PPtl3jEKo",
        "outputId": "c7b8739a-caa9-4e58-e6d3-0f86ccd2d950",
        "colab": {
          "base_uri": "https://localhost:8080/",
          "height": 34
        }
      },
      "source": [
        "d_paises.values()"
      ],
      "execution_count": null,
      "outputs": [
        {
          "output_type": "execute_result",
          "data": {
            "text/plain": [
              "dict_values(['Italy', 'Denmark', 'France'])"
            ]
          },
          "metadata": {
            "tags": []
          },
          "execution_count": 11
        }
      ]
    },
    {
      "cell_type": "markdown",
      "metadata": {
        "id": "JUblZBMjHrwl"
      },
      "source": [
        "___\n",
        "# **OBTER ITENS (key, value) DO DICIONÁRIO**"
      ]
    },
    {
      "cell_type": "code",
      "metadata": {
        "id": "LraTwXjdjG3m",
        "outputId": "b3d6d55e-20ad-4f88-a783-9ba1c4fd8654",
        "colab": {
          "base_uri": "https://localhost:8080/",
          "height": 162
        }
      },
      "source": [
        "d_paises.items()"
      ],
      "execution_count": null,
      "outputs": [
        {
          "output_type": "error",
          "ename": "NameError",
          "evalue": "ignored",
          "traceback": [
            "\u001b[0;31m---------------------------------------------------------------------------\u001b[0m",
            "\u001b[0;31mNameError\u001b[0m                                 Traceback (most recent call last)",
            "\u001b[0;32m<ipython-input-3-d137e2e0349b>\u001b[0m in \u001b[0;36m<module>\u001b[0;34m()\u001b[0m\n\u001b[0;32m----> 1\u001b[0;31m \u001b[0md_Paises\u001b[0m\u001b[0;34m.\u001b[0m\u001b[0mitems\u001b[0m\u001b[0;34m(\u001b[0m\u001b[0;34m)\u001b[0m\u001b[0;34m\u001b[0m\u001b[0;34m\u001b[0m\u001b[0m\n\u001b[0m",
            "\u001b[0;31mNameError\u001b[0m: name 'd_Paises' is not defined"
          ]
        }
      ]
    },
    {
      "cell_type": "markdown",
      "metadata": {
        "id": "IJEMg2LKHyGa"
      },
      "source": [
        "___\n",
        "# **OBTER VALOR PARA UMA KEY ESPECÍFICA**\n",
        "* d_dicionario.get(key)"
      ]
    },
    {
      "cell_type": "markdown",
      "metadata": {
        "id": "dzgBhsphjSQm"
      },
      "source": [
        "Qual o valor para key= 1?"
      ]
    },
    {
      "cell_type": "code",
      "metadata": {
        "id": "FUfTjqktjW60",
        "outputId": "678ab629-6cff-4fe1-e03f-d90709a98f26",
        "colab": {
          "base_uri": "https://localhost:8080/",
          "height": 34
        }
      },
      "source": [
        "d_paises.get(1)"
      ],
      "execution_count": null,
      "outputs": [
        {
          "output_type": "execute_result",
          "data": {
            "text/plain": [
              "'Italy'"
            ]
          },
          "metadata": {
            "tags": []
          },
          "execution_count": 11
        }
      ]
    },
    {
      "cell_type": "markdown",
      "metadata": {
        "id": "tyJ0KsloIBoD"
      },
      "source": [
        "___\n",
        "# **COPIAR DICIONÁRIO**\n",
        "* d_dicionario.copy()"
      ]
    },
    {
      "cell_type": "code",
      "metadata": {
        "id": "XL17EmvMkkky",
        "outputId": "65846bc2-87a2-42cf-eb17-e3fccb00c9a4",
        "colab": {
          "base_uri": "https://localhost:8080/",
          "height": 35
        }
      },
      "source": [
        "d_paises2 = d_paises.copy()\n",
        "d_paises2"
      ],
      "execution_count": null,
      "outputs": [
        {
          "output_type": "execute_result",
          "data": {
            "text/plain": [
              "{1: 'Italy', 2: 'Denmark', 3: 'France'}"
            ]
          },
          "metadata": {
            "tags": []
          },
          "execution_count": 28
        }
      ]
    },
    {
      "cell_type": "markdown",
      "metadata": {
        "id": "8V25l2ZoIG4B"
      },
      "source": [
        "___\n",
        "# **REMOVER TODOS OS ITENS DO DICIONÁRIO**\n",
        "* d_dicionario.clear()"
      ]
    },
    {
      "cell_type": "code",
      "metadata": {
        "id": "r-8Gs1gYjqLN"
      },
      "source": [
        "d_paises.clear()"
      ],
      "execution_count": null,
      "outputs": []
    },
    {
      "cell_type": "code",
      "metadata": {
        "id": "ro_42gzDjsdV",
        "outputId": "a2c2a25b-40ef-4842-f2f7-3ac85404d195",
        "colab": {
          "base_uri": "https://localhost:8080/",
          "height": 35
        }
      },
      "source": [
        "d_paises"
      ],
      "execution_count": null,
      "outputs": [
        {
          "output_type": "execute_result",
          "data": {
            "text/plain": [
              "{}"
            ]
          },
          "metadata": {
            "tags": []
          },
          "execution_count": 13
        }
      ]
    },
    {
      "cell_type": "markdown",
      "metadata": {
        "id": "pCzKkKoujv7G"
      },
      "source": [
        "Como esperado, removemos todos os itens do dicionário d_paises. Entretanto, o dicionário d_paises continua a existir!"
      ]
    },
    {
      "cell_type": "markdown",
      "metadata": {
        "id": "MKtPwGVsIaLQ"
      },
      "source": [
        "___\n",
        "# **DELETAR O DICIONÁRIO**\n",
        "* del d_dicionario"
      ]
    },
    {
      "cell_type": "code",
      "metadata": {
        "id": "8wvM-o7Lj7A0"
      },
      "source": [
        "del d_paises"
      ],
      "execution_count": null,
      "outputs": []
    },
    {
      "cell_type": "code",
      "metadata": {
        "id": "wK83ZURYkD_T",
        "outputId": "03254461-9939-4ef9-de30-c4b59c920674",
        "colab": {
          "base_uri": "https://localhost:8080/",
          "height": 166
        }
      },
      "source": [
        "d_paises"
      ],
      "execution_count": null,
      "outputs": [
        {
          "output_type": "error",
          "ename": "NameError",
          "evalue": "ignored",
          "traceback": [
            "\u001b[0;31m---------------------------------------------------------------------------\u001b[0m",
            "\u001b[0;31mNameError\u001b[0m                                 Traceback (most recent call last)",
            "\u001b[0;32m<ipython-input-16-4fcdb0935a3d>\u001b[0m in \u001b[0;36m<module>\u001b[0;34m()\u001b[0m\n\u001b[0;32m----> 1\u001b[0;31m \u001b[0mdCountries\u001b[0m\u001b[0;34m\u001b[0m\u001b[0;34m\u001b[0m\u001b[0m\n\u001b[0m",
            "\u001b[0;31mNameError\u001b[0m: name 'dCountries' is not defined"
          ]
        }
      ]
    },
    {
      "cell_type": "markdown",
      "metadata": {
        "id": "aSe3veUB1lo_"
      },
      "source": [
        "Como esperado, pois agora o dicionário já não existe mais. Ok?"
      ]
    },
    {
      "cell_type": "markdown",
      "metadata": {
        "id": "STtkGUvEg7d1"
      },
      "source": [
        "___\n",
        "# **ITERAR PELO DICIONÁRIO**\n",
        "* Considere o dicionário d_frutas a seguir:"
      ]
    },
    {
      "cell_type": "code",
      "metadata": {
        "id": "IG8hKSvcfalZ"
      },
      "source": [
        "# Definindo os valores iniciais do dicionário d_frutas:\n",
        "d_frutas = {'Avocado': 0.35, \n",
        "         'Apple': 0.40, \n",
        "         'Apricot': 0.25, \n",
        "         'Banana': 0.30, \n",
        "         'Blackcurrant': 0.70, \n",
        "         'Blackberry': 0.55, \n",
        "         'Blueberry': 0.45, \n",
        "         'Cherry': 0.50, \n",
        "         'Coconut': 0.75, \n",
        "         'Fig': 0.60, \n",
        "         'Grape': 0.65, \n",
        "         'Kiwi': 0.20, \n",
        "         'Lemon': 0.15, \n",
        "         'Mango': 0.80, \n",
        "         'Nectarine': 0.75, \n",
        "         'Orange': 0.25, \n",
        "         'Papaya': 0.30,\n",
        "         'Passion Fruit': 0.45,\n",
        "         'Peach': 0.55,\n",
        "         'Pineapple': 0.55,\n",
        "         'Plum': 0.60,\n",
        "         'Raspberry': 0.40,\n",
        "         'Strawberry': 0.50,\n",
        "         'Watermelon': 0.45}"
      ],
      "execution_count": null,
      "outputs": []
    },
    {
      "cell_type": "markdown",
      "metadata": {
        "id": "ppRkK_jJJG6W"
      },
      "source": [
        "Mostrando os itens do dicionário d_frutas:"
      ]
    },
    {
      "cell_type": "code",
      "metadata": {
        "id": "bI7Ctf0ohyz8",
        "outputId": "5af38cf4-aaf8-4efa-f682-502bfb5022a6",
        "colab": {
          "base_uri": "https://localhost:8080/",
          "height": 425
        }
      },
      "source": [
        "d_frutas"
      ],
      "execution_count": null,
      "outputs": [
        {
          "output_type": "execute_result",
          "data": {
            "text/plain": [
              "{'Apple': 0.4,\n",
              " 'Apricot': 0.25,\n",
              " 'Avocado': 0.35,\n",
              " 'Banana': 0.3,\n",
              " 'Blackberry': 0.55,\n",
              " 'Blackcurrant': 0.7,\n",
              " 'Blueberry': 0.45,\n",
              " 'Cherry': 0.5,\n",
              " 'Coconut': 0.75,\n",
              " 'Fig': 0.6,\n",
              " 'Grape': 0.65,\n",
              " 'Kiwi': 0.2,\n",
              " 'Lemon': 0.15,\n",
              " 'Mango': 0.8,\n",
              " 'Nectarine': 0.75,\n",
              " 'Orange': 0.25,\n",
              " 'Papaya': 0.3,\n",
              " 'Passion Fruit': 0.45,\n",
              " 'Peach': 0.55,\n",
              " 'Pineapple': 0.55,\n",
              " 'Plum': 0.6,\n",
              " 'Raspberry': 0.4,\n",
              " 'Strawberry': 0.5,\n",
              " 'Watermelon': 0.45}"
            ]
          },
          "metadata": {
            "tags": []
          },
          "execution_count": 8
        }
      ]
    },
    {
      "cell_type": "markdown",
      "metadata": {
        "id": "wXFfyiyPtD35"
      },
      "source": [
        "Qual o valor para a fruta 'Apple'? Para responder à esta pergunta, basta lembrar que 'Apple' é uma key do dicionário d_frutas. Certo?"
      ]
    },
    {
      "cell_type": "code",
      "metadata": {
        "id": "JpreyE_LtCcU",
        "outputId": "cee4be2d-7980-4a3d-85fb-17561d1bb1ff",
        "colab": {
          "base_uri": "https://localhost:8080/",
          "height": 34
        }
      },
      "source": [
        "d_frutas['Apple']"
      ],
      "execution_count": null,
      "outputs": [
        {
          "output_type": "execute_result",
          "data": {
            "text/plain": [
              "0.4"
            ]
          },
          "metadata": {
            "tags": []
          },
          "execution_count": 21
        }
      ]
    },
    {
      "cell_type": "markdown",
      "metadata": {
        "id": "JBMf8SbAJmiq"
      },
      "source": [
        "## Iterar pelas keys do dicionário:"
      ]
    },
    {
      "cell_type": "code",
      "metadata": {
        "id": "rMro_tY8kepo",
        "outputId": "4488c243-6792-4efa-b271-e546270b129d",
        "colab": {
          "base_uri": "https://localhost:8080/",
          "height": 425
        }
      },
      "source": [
        "for key in d_frutas.keys():\n",
        "    print(key)"
      ],
      "execution_count": null,
      "outputs": [
        {
          "output_type": "stream",
          "text": [
            "Avocado\n",
            "Apple\n",
            "Apricot\n",
            "Banana\n",
            "Blackcurrant\n",
            "Blackberry\n",
            "Blueberry\n",
            "Cherry\n",
            "Coconut\n",
            "Fig\n",
            "Grape\n",
            "Kiwi\n",
            "Lemon\n",
            "Mango\n",
            "Nectarine\n",
            "Orange\n",
            "Papaya\n",
            "Passion Fruit\n",
            "Peach\n",
            "Pineapple\n",
            "Plum\n",
            "Raspberry\n",
            "Strawberry\n",
            "Watermelon\n"
          ],
          "name": "stdout"
        }
      ]
    },
    {
      "cell_type": "markdown",
      "metadata": {
        "id": "yDkOLvRFJxco"
      },
      "source": [
        "## Iterar pelos itens (key, value) do dicionário"
      ]
    },
    {
      "cell_type": "code",
      "metadata": {
        "id": "DpFB1g-3kDSt",
        "outputId": "7ac51581-edfa-418d-a1e0-d297ebdffca7",
        "colab": {
          "base_uri": "https://localhost:8080/",
          "height": 425
        }
      },
      "source": [
        "for item in d_frutas.items():\n",
        "    print(item)    "
      ],
      "execution_count": null,
      "outputs": [
        {
          "output_type": "stream",
          "text": [
            "('Avocado', 0.35)\n",
            "('Apple', 0.4)\n",
            "('Apricot', 0.25)\n",
            "('Banana', 0.3)\n",
            "('Blackcurrant', 0.7)\n",
            "('Blackberry', 0.55)\n",
            "('Blueberry', 0.45)\n",
            "('Cherry', 0.5)\n",
            "('Coconut', 0.75)\n",
            "('Fig', 0.6)\n",
            "('Grape', 0.65)\n",
            "('Kiwi', 0.2)\n",
            "('Lemon', 0.15)\n",
            "('Mango', 0.8)\n",
            "('Nectarine', 0.75)\n",
            "('Orange', 0.25)\n",
            "('Papaya', 0.3)\n",
            "('Passion Fruit', 0.45)\n",
            "('Peach', 0.55)\n",
            "('Pineapple', 0.55)\n",
            "('Plum', 0.6)\n",
            "('Raspberry', 0.4)\n",
            "('Strawberry', 0.5)\n",
            "('Watermelon', 0.45)\n"
          ],
          "name": "stdout"
        }
      ]
    },
    {
      "cell_type": "markdown",
      "metadata": {
        "id": "8z6qO74fJ6Q1"
      },
      "source": [
        "## Iterar pelos valores do dicionário"
      ]
    },
    {
      "cell_type": "code",
      "metadata": {
        "id": "tjJ6qRF8nr4v",
        "outputId": "3e75843b-2d45-4b4c-a3f2-24ffc0e60a7a",
        "colab": {
          "base_uri": "https://localhost:8080/",
          "height": 425
        }
      },
      "source": [
        "for value in d_frutas.values():\n",
        "    print(value)"
      ],
      "execution_count": null,
      "outputs": [
        {
          "output_type": "stream",
          "text": [
            "0.35\n",
            "0.4\n",
            "0.25\n",
            "0.3\n",
            "0.7\n",
            "0.55\n",
            "0.45\n",
            "0.5\n",
            "0.75\n",
            "0.6\n",
            "0.65\n",
            "0.2\n",
            "0.15\n",
            "0.8\n",
            "0.75\n",
            "0.25\n",
            "0.3\n",
            "0.45\n",
            "0.55\n",
            "0.55\n",
            "0.6\n",
            "0.4\n",
            "0.5\n",
            "0.45\n"
          ],
          "name": "stdout"
        }
      ]
    },
    {
      "cell_type": "markdown",
      "metadata": {
        "id": "-LmEUroVKDUA"
      },
      "source": [
        "## Iterar pela key e valor do dicionário"
      ]
    },
    {
      "cell_type": "code",
      "metadata": {
        "id": "oRhZ_Zq9oQIg",
        "outputId": "be168183-30b4-4f96-ae2c-3f313acbc558",
        "colab": {
          "base_uri": "https://localhost:8080/",
          "height": 425
        }
      },
      "source": [
        "for key, value in d_frutas.items():\n",
        "    print(\"%s --> %s\" %(key, value))"
      ],
      "execution_count": null,
      "outputs": [
        {
          "output_type": "stream",
          "text": [
            "Avocado --> 0.35\n",
            "Apple --> 0.4\n",
            "Apricot --> 0.25\n",
            "Banana --> 0.3\n",
            "Blackcurrant --> 0.7\n",
            "Blackberry --> 0.55\n",
            "Blueberry --> 0.45\n",
            "Cherry --> 0.5\n",
            "Coconut --> 0.75\n",
            "Fig --> 0.6\n",
            "Grape --> 0.65\n",
            "Kiwi --> 0.2\n",
            "Lemon --> 0.15\n",
            "Mango --> 0.8\n",
            "Nectarine --> 0.75\n",
            "Orange --> 0.25\n",
            "Papaya --> 0.3\n",
            "Passion Fruit --> 0.45\n",
            "Peach --> 0.55\n",
            "Pineapple --> 0.55\n",
            "Plum --> 0.6\n",
            "Raspberry --> 0.4\n",
            "Strawberry --> 0.5\n",
            "Watermelon --> 0.45\n"
          ],
          "name": "stdout"
        }
      ]
    },
    {
      "cell_type": "markdown",
      "metadata": {
        "id": "Fotx7XUquAo8"
      },
      "source": [
        "___\n",
        "# **VERIFICAR SE UMA KEY ESPECÍFICA PERTENCE AO DICIONÁRIO**"
      ]
    },
    {
      "cell_type": "markdown",
      "metadata": {
        "id": "ju__WsSoKXtk"
      },
      "source": [
        "A fruta 'Apple' (que em nosso caso, é uma key) existe no dicionário?"
      ]
    },
    {
      "cell_type": "code",
      "metadata": {
        "id": "-gkEKNZPTeMp",
        "outputId": "3540aadd-996a-4abd-cfcb-c22e49b75aaa",
        "colab": {
          "base_uri": "https://localhost:8080/",
          "height": 34
        }
      },
      "source": [
        "'Apple' in d_frutas.keys()"
      ],
      "execution_count": null,
      "outputs": [
        {
          "output_type": "execute_result",
          "data": {
            "text/plain": [
              "True"
            ]
          },
          "metadata": {
            "tags": []
          },
          "execution_count": 75
        }
      ]
    },
    {
      "cell_type": "markdown",
      "metadata": {
        "id": "fMzBeFMIusv7"
      },
      "source": [
        "A fruta 'Coconut' pertence ao dicionário d_frutas?"
      ]
    },
    {
      "cell_type": "code",
      "metadata": {
        "id": "SKtEwmBCuxyi",
        "outputId": "1df7263c-a64f-4eaf-8d4d-a55cac03d2bc",
        "colab": {
          "base_uri": "https://localhost:8080/",
          "height": 34
        }
      },
      "source": [
        "'Coconut' in fruits.keys()"
      ],
      "execution_count": null,
      "outputs": [
        {
          "output_type": "execute_result",
          "data": {
            "text/plain": [
              "True"
            ]
          },
          "metadata": {
            "tags": []
          },
          "execution_count": 77
        }
      ]
    },
    {
      "cell_type": "markdown",
      "metadata": {
        "id": "rrH8ArqsK6Bd"
      },
      "source": [
        "___\n",
        "# **VERIFICAR SE VALOR PERTENCE AO DICIONÁRIO**"
      ]
    },
    {
      "cell_type": "code",
      "metadata": {
        "id": "DbWpbuLTK9sn",
        "outputId": "e9fafa6d-284e-4862-8f25-9419ff702dec",
        "colab": {
          "base_uri": "https://localhost:8080/",
          "height": 34
        }
      },
      "source": [
        "0.4 in d_frutas.values()"
      ],
      "execution_count": null,
      "outputs": [
        {
          "output_type": "execute_result",
          "data": {
            "text/plain": [
              "True"
            ]
          },
          "metadata": {
            "tags": []
          },
          "execution_count": 14
        }
      ]
    },
    {
      "cell_type": "markdown",
      "metadata": {
        "id": "36kmLUYDvsUI"
      },
      "source": [
        "## Adicionar novos itens ao dicionário\n",
        "* Considere o dicionário d_frutas2 abaixo:"
      ]
    },
    {
      "cell_type": "code",
      "metadata": {
        "id": "5Rwq4-UG4--u"
      },
      "source": [
        "d_frutas2 = {'Grapefruit': 1.0 }"
      ],
      "execution_count": null,
      "outputs": []
    },
    {
      "cell_type": "markdown",
      "metadata": {
        "id": "vljceM6_5H9o"
      },
      "source": [
        "O comando abaixo adiciona o dicionário d_frutas2 ao dicionário d_frutas."
      ]
    },
    {
      "cell_type": "code",
      "metadata": {
        "id": "7BD_mYMM5O5o",
        "outputId": "2b185546-255e-4ad0-e8c9-10564fcbe2b0",
        "colab": {
          "base_uri": "https://localhost:8080/",
          "height": 442
        }
      },
      "source": [
        "d_frutas.update(d_frutas2)\n",
        "d_frutas"
      ],
      "execution_count": null,
      "outputs": [
        {
          "output_type": "execute_result",
          "data": {
            "text/plain": [
              "{'Apple': 0.4,\n",
              " 'Apricot': 0.25,\n",
              " 'Avocado': 0.35,\n",
              " 'Banana': 0.3,\n",
              " 'Blackberry': 0.55,\n",
              " 'Blackcurrant': 0.7,\n",
              " 'Blueberry': 0.45,\n",
              " 'Cherry': 0.5,\n",
              " 'Coconut': 0.75,\n",
              " 'Fig': 0.6,\n",
              " 'Grape': 0.65,\n",
              " 'Grapefruit': 1.0,\n",
              " 'Kiwi': 0.2,\n",
              " 'Lemon': 0.15,\n",
              " 'Mango': 0.8,\n",
              " 'Nectarine': 0.75,\n",
              " 'Orange': 0.25,\n",
              " 'Papaya': 0.3,\n",
              " 'Passion Fruit': 0.45,\n",
              " 'Peach': 0.55,\n",
              " 'Pineapple': 0.55,\n",
              " 'Plum': 0.6,\n",
              " 'Raspberry': 0.4,\n",
              " 'Strawberry': 0.5,\n",
              " 'Watermelon': 0.45}"
            ]
          },
          "metadata": {
            "tags": []
          },
          "execution_count": 79
        }
      ]
    },
    {
      "cell_type": "markdown",
      "metadata": {
        "id": "ffh-94lo55n4"
      },
      "source": [
        "Agora, considere o dicionário d_frutas3 abaixo:"
      ]
    },
    {
      "cell_type": "code",
      "metadata": {
        "id": "JMAq_jbP5---"
      },
      "source": [
        "d_frutas3 = {'Apple': 0.70}"
      ],
      "execution_count": null,
      "outputs": []
    },
    {
      "cell_type": "markdown",
      "metadata": {
        "id": "Jd6B2cy-6KmY"
      },
      "source": [
        "Qual o resultado do comando abaixo?\n",
        "\n",
        "* Atenção: A fruta 'Apple' (é uma key do dicionário d_frutas) tem valor 0.40. E no dicionário d_frutas3 a fruta 'Apple' tem valor 0.70."
      ]
    },
    {
      "cell_type": "code",
      "metadata": {
        "id": "E4GKdTw76PXI"
      },
      "source": [
        "d_frutas.update(d_frutas3)\n",
        "d_frutas"
      ],
      "execution_count": null,
      "outputs": []
    },
    {
      "cell_type": "markdown",
      "metadata": {
        "id": "HMmDfrln6o0c"
      },
      "source": [
        "Como esperado, como key= 'Apple' existe no dicionário d_frutas, então o Python atualizou o valor de key= 'Apple' para 0.70."
      ]
    },
    {
      "cell_type": "markdown",
      "metadata": {
        "id": "SWO2GdNovxAp"
      },
      "source": [
        "## Modificar keys e valores"
      ]
    },
    {
      "cell_type": "markdown",
      "metadata": {
        "id": "DX9UTy4TwlAw"
      },
      "source": [
        "Suponha que queremos aplicar um desconto de 10% para cada fruta do nosso dicionário.\n",
        "\n",
        "* Como fazemos isso?"
      ]
    },
    {
      "cell_type": "code",
      "metadata": {
        "id": "ZziGmKGmwqwn"
      },
      "source": [
        "for key, value in d_frutas.items():\n",
        "    d_frutas[key] = round(value * 0.9, 2)"
      ],
      "execution_count": null,
      "outputs": []
    },
    {
      "cell_type": "markdown",
      "metadata": {
        "id": "s1B-yN8lM-C1"
      },
      "source": [
        "Mostra d_frutas com os valores atualizados:"
      ]
    },
    {
      "cell_type": "code",
      "metadata": {
        "id": "zZLa85knxBtY",
        "outputId": "2c7c12f8-8885-4f34-a0d1-1323e98a9437",
        "colab": {
          "base_uri": "https://localhost:8080/",
          "height": 442
        }
      },
      "source": [
        "d_frutas"
      ],
      "execution_count": null,
      "outputs": [
        {
          "output_type": "execute_result",
          "data": {
            "text/plain": [
              "{'Apple': 0.63,\n",
              " 'Apricot': 0.23,\n",
              " 'Avocado': 0.32,\n",
              " 'Banana': 0.27,\n",
              " 'Blackberry': 0.5,\n",
              " 'Blackcurrant': 0.63,\n",
              " 'Blueberry': 0.41,\n",
              " 'Cherry': 0.45,\n",
              " 'Coconut': 0.68,\n",
              " 'Fig': 0.54,\n",
              " 'Grape': 0.59,\n",
              " 'Grapefruit': 0.9,\n",
              " 'Kiwi': 0.18,\n",
              " 'Lemon': 0.14,\n",
              " 'Mango': 0.72,\n",
              " 'Nectarine': 0.68,\n",
              " 'Orange': 0.23,\n",
              " 'Papaya': 0.27,\n",
              " 'Passion Fruit': 0.41,\n",
              " 'Peach': 0.5,\n",
              " 'Pineapple': 0.5,\n",
              " 'Plum': 0.54,\n",
              " 'Raspberry': 0.36,\n",
              " 'Strawberry': 0.45,\n",
              " 'Watermelon': 0.41}"
            ]
          },
          "metadata": {
            "tags": []
          },
          "execution_count": 84
        }
      ]
    },
    {
      "cell_type": "markdown",
      "metadata": {
        "id": "vpN54l4vxze5"
      },
      "source": [
        "## Deletar keys do dicionário\n",
        "* Deletar uma key significa deletar todo o item {key: value}, ok?"
      ]
    },
    {
      "cell_type": "markdown",
      "metadata": {
        "id": "eDlthLStNIwR"
      },
      "source": [
        "Suponha que queremos deletar a fruta 'Avocado' do dicionário d_frutas.\n",
        "\n",
        "* Como fazer isso?"
      ]
    },
    {
      "cell_type": "code",
      "metadata": {
        "id": "fnpzHZU_x5Y1"
      },
      "source": [
        "for key in list(d_frutas.keys()):  # Dica: use a função list para melhorar a performance computacional\n",
        "    if key == 'Avocado':\n",
        "        del d_frutas[key]  # Deleta key = 'Avocado'"
      ],
      "execution_count": null,
      "outputs": []
    },
    {
      "cell_type": "markdown",
      "metadata": {
        "id": "VyPUrobONqvI"
      },
      "source": [
        "Mostra o dicionário d_frutas atualizado:"
      ]
    },
    {
      "cell_type": "code",
      "metadata": {
        "id": "IwnsHejhyT4l",
        "outputId": "b910699c-9729-4a27-bd78-3a283c82ac39",
        "colab": {
          "base_uri": "https://localhost:8080/",
          "height": 425
        }
      },
      "source": [
        "d_frutas"
      ],
      "execution_count": null,
      "outputs": [
        {
          "output_type": "execute_result",
          "data": {
            "text/plain": [
              "{'Apple': 0.63,\n",
              " 'Apricot': 0.23,\n",
              " 'Banana': 0.27,\n",
              " 'Blackberry': 0.5,\n",
              " 'Blackcurrant': 0.63,\n",
              " 'Blueberry': 0.41,\n",
              " 'Cherry': 0.45,\n",
              " 'Coconut': 0.68,\n",
              " 'Fig': 0.54,\n",
              " 'Grape': 0.59,\n",
              " 'Grapefruit': 0.9,\n",
              " 'Kiwi': 0.18,\n",
              " 'Lemon': 0.14,\n",
              " 'Mango': 0.72,\n",
              " 'Nectarine': 0.68,\n",
              " 'Orange': 0.23,\n",
              " 'Papaya': 0.27,\n",
              " 'Passion Fruit': 0.41,\n",
              " 'Peach': 0.5,\n",
              " 'Pineapple': 0.5,\n",
              " 'Plum': 0.54,\n",
              " 'Raspberry': 0.36,\n",
              " 'Strawberry': 0.45,\n",
              " 'Watermelon': 0.41}"
            ]
          },
          "metadata": {
            "tags": []
          },
          "execution_count": 86
        }
      ]
    },
    {
      "cell_type": "markdown",
      "metadata": {
        "id": "u4HOf9SNytSq"
      },
      "source": [
        "## Filtrar/Selecionar itens baseado em condições\n",
        "Em algumas situações você vai querer filtrar os itens do dicionário que satisfaçam alguma(s) condições.\n",
        "\n",
        "* Considere o exemplo a seguir: queremos selecionar/filtrar somente as frutas com preços maiores que 0.4."
      ]
    },
    {
      "cell_type": "code",
      "metadata": {
        "id": "EwqxWiVlyvgH"
      },
      "source": [
        "d_frutas_filtro = {}\n",
        "for key, value in d_frutas.items():\n",
        "    if value > 0.5:\n",
        "        d_frutas_filtro.update({key: value})"
      ],
      "execution_count": null,
      "outputs": []
    },
    {
      "cell_type": "markdown",
      "metadata": {
        "id": "eb0jmAKWOtYt"
      },
      "source": [
        "Mostra o resultado do dicionário d_frutas_Selected:"
      ]
    },
    {
      "cell_type": "code",
      "metadata": {
        "id": "SsStWM5k1s-Q",
        "outputId": "f6af5b61-2333-41c7-a28a-0f6a67b0a949",
        "colab": {
          "base_uri": "https://localhost:8080/",
          "height": 170
        }
      },
      "source": [
        "d_frutas_filtro"
      ],
      "execution_count": null,
      "outputs": [
        {
          "output_type": "execute_result",
          "data": {
            "text/plain": [
              "{'Apple': 0.63,\n",
              " 'Blackcurrant': 0.63,\n",
              " 'Coconut': 0.68,\n",
              " 'Fig': 0.54,\n",
              " 'Grape': 0.59,\n",
              " 'Grapefruit': 0.9,\n",
              " 'Mango': 0.72,\n",
              " 'Nectarine': 0.68,\n",
              " 'Plum': 0.54}"
            ]
          },
          "metadata": {
            "tags": []
          },
          "execution_count": 89
        }
      ]
    },
    {
      "cell_type": "markdown",
      "metadata": {
        "id": "u1ve6xIGOjrE"
      },
      "source": [
        " Como se pode ver, somente a fruta 'Blackberry' satifaz esta condição."
      ]
    },
    {
      "cell_type": "markdown",
      "metadata": {
        "id": "KJqpPrfkCk9L"
      },
      "source": [
        "## Cálculos com os itens do dicionário"
      ]
    },
    {
      "cell_type": "code",
      "metadata": {
        "id": "exD8HXodCqg6"
      },
      "source": [
        "from collections import Counter"
      ],
      "execution_count": null,
      "outputs": []
    },
    {
      "cell_type": "markdown",
      "metadata": {
        "id": "llCLTysdCuwB"
      },
      "source": [
        "Somando os valores de todas as frutas"
      ]
    },
    {
      "cell_type": "code",
      "metadata": {
        "id": "uG0VP1MNCroX",
        "outputId": "8221b07b-610d-4a7c-cb14-86d6f63e5be3",
        "colab": {
          "base_uri": "https://localhost:8080/",
          "height": 34
        }
      },
      "source": [
        "sum(d_frutas.values())"
      ],
      "execution_count": null,
      "outputs": [
        {
          "output_type": "execute_result",
          "data": {
            "text/plain": [
              "11.450000000000001"
            ]
          },
          "metadata": {
            "tags": []
          },
          "execution_count": 22
        }
      ]
    },
    {
      "cell_type": "markdown",
      "metadata": {
        "id": "a5MBNCF-C5-4"
      },
      "source": [
        "Quantos itens existem no dicionário:"
      ]
    },
    {
      "cell_type": "code",
      "metadata": {
        "id": "AkvygR0PC9bT",
        "outputId": "254eff41-8336-4fe6-d6ad-4d52544d74a9",
        "colab": {
          "base_uri": "https://localhost:8080/",
          "height": 34
        }
      },
      "source": [
        "len(list(d_frutas))"
      ],
      "execution_count": null,
      "outputs": [
        {
          "output_type": "execute_result",
          "data": {
            "text/plain": [
              "24"
            ]
          },
          "metadata": {
            "tags": []
          },
          "execution_count": 25
        }
      ]
    },
    {
      "cell_type": "markdown",
      "metadata": {
        "id": "xBNFaklq8OC9"
      },
      "source": [
        "## Sortear itens do dicionário - sorted(d_dicionario.items(), reverse= True/False)"
      ]
    },
    {
      "cell_type": "markdown",
      "metadata": {
        "id": "WULJMjHA-mal"
      },
      "source": [
        "Ordem alfabética (por key):"
      ]
    },
    {
      "cell_type": "code",
      "metadata": {
        "id": "SH0WIKZ8-Ylr",
        "outputId": "b9cea719-637e-40a5-9e79-eb67aeb47887",
        "colab": {
          "base_uri": "https://localhost:8080/",
          "height": 425
        }
      },
      "source": [
        "d_frutas_ordenadas = sorted(d_frutas.items(), reverse = False)\n",
        "d_frutas_ordenadas"
      ],
      "execution_count": null,
      "outputs": [
        {
          "output_type": "execute_result",
          "data": {
            "text/plain": [
              "[('Apple', 0.4),\n",
              " ('Apricot', 0.25),\n",
              " ('Avocado', 0.35),\n",
              " ('Banana', 0.3),\n",
              " ('Blackberry', 0.55),\n",
              " ('Blackcurrant', 0.7),\n",
              " ('Blueberry', 0.45),\n",
              " ('Cherry', 0.5),\n",
              " ('Coconut', 0.75),\n",
              " ('Fig', 0.6),\n",
              " ('Grape', 0.65),\n",
              " ('Kiwi', 0.2),\n",
              " ('Lemon', 0.15),\n",
              " ('Mango', 0.8),\n",
              " ('Nectarine', 0.75),\n",
              " ('Orange', 0.25),\n",
              " ('Papaya', 0.3),\n",
              " ('Passion Fruit', 0.45),\n",
              " ('Peach', 0.55),\n",
              " ('Pineapple', 0.55),\n",
              " ('Plum', 0.6),\n",
              " ('Raspberry', 0.4),\n",
              " ('Strawberry', 0.5),\n",
              " ('Watermelon', 0.45)]"
            ]
          },
          "metadata": {
            "tags": []
          },
          "execution_count": 12
        }
      ]
    },
    {
      "cell_type": "markdown",
      "metadata": {
        "id": "T4Li1Q2d-pnZ"
      },
      "source": [
        "Ordem reversa (por key):"
      ]
    },
    {
      "cell_type": "code",
      "metadata": {
        "id": "PoBOmfpM_A_a",
        "outputId": "4cd9a21c-a2ad-462c-acb0-26ba7a0a4e5d",
        "colab": {
          "base_uri": "https://localhost:8080/",
          "height": 425
        }
      },
      "source": [
        "d_frutas_ordenadas_reverse = sorted(d_frutas.items(), reverse = True)\n",
        "d_frutas_ordenadas_reverse"
      ],
      "execution_count": null,
      "outputs": [
        {
          "output_type": "execute_result",
          "data": {
            "text/plain": [
              "[('Watermelon', 0.45),\n",
              " ('Strawberry', 0.5),\n",
              " ('Raspberry', 0.4),\n",
              " ('Plum', 0.6),\n",
              " ('Pineapple', 0.55),\n",
              " ('Peach', 0.55),\n",
              " ('Passion Fruit', 0.45),\n",
              " ('Papaya', 0.3),\n",
              " ('Orange', 0.25),\n",
              " ('Nectarine', 0.75),\n",
              " ('Mango', 0.8),\n",
              " ('Lemon', 0.15),\n",
              " ('Kiwi', 0.2),\n",
              " ('Grape', 0.65),\n",
              " ('Fig', 0.6),\n",
              " ('Coconut', 0.75),\n",
              " ('Cherry', 0.5),\n",
              " ('Blueberry', 0.45),\n",
              " ('Blackcurrant', 0.7),\n",
              " ('Blackberry', 0.55),\n",
              " ('Banana', 0.3),\n",
              " ('Avocado', 0.35),\n",
              " ('Apricot', 0.25),\n",
              " ('Apple', 0.4)]"
            ]
          },
          "metadata": {
            "tags": []
          },
          "execution_count": 11
        }
      ]
    },
    {
      "cell_type": "markdown",
      "metadata": {
        "id": "FxTC2-U88ajk"
      },
      "source": [
        "## Função filter()\n",
        "* A função filter() aplica um filtro no dicionário, retornando apenas os itens que satisfaz as condições do filtro."
      ]
    },
    {
      "cell_type": "code",
      "metadata": {
        "id": "iJq1clvOHVG2",
        "outputId": "16a779ef-48c9-497c-8c7c-a1612aa9aa03",
        "colab": {
          "base_uri": "https://localhost:8080/",
          "height": 425
        }
      },
      "source": [
        "d_frutas"
      ],
      "execution_count": null,
      "outputs": [
        {
          "output_type": "execute_result",
          "data": {
            "text/plain": [
              "{'Apple': 0.4,\n",
              " 'Apricot': 0.25,\n",
              " 'Avocado': 0.35,\n",
              " 'Banana': 0.3,\n",
              " 'Blackberry': 0.55,\n",
              " 'Blackcurrant': 0.7,\n",
              " 'Blueberry': 0.45,\n",
              " 'Cherry': 0.5,\n",
              " 'Coconut': 0.75,\n",
              " 'Fig': 0.6,\n",
              " 'Grape': 0.65,\n",
              " 'Kiwi': 0.2,\n",
              " 'Lemon': 0.15,\n",
              " 'Mango': 0.8,\n",
              " 'Nectarine': 0.75,\n",
              " 'Orange': 0.25,\n",
              " 'Papaya': 0.3,\n",
              " 'Passion Fruit': 0.45,\n",
              " 'Peach': 0.55,\n",
              " 'Pineapple': 0.55,\n",
              " 'Plum': 0.6,\n",
              " 'Raspberry': 0.4,\n",
              " 'Strawberry': 0.5,\n",
              " 'Watermelon': 0.45}"
            ]
          },
          "metadata": {
            "tags": []
          },
          "execution_count": 2
        }
      ]
    },
    {
      "cell_type": "markdown",
      "metadata": {
        "id": "qtTKvNeJNycl"
      },
      "source": [
        "### Filtrando por key:"
      ]
    },
    {
      "cell_type": "code",
      "metadata": {
        "id": "uIDW5FhwAiSs",
        "outputId": "52599d3f-ff13-4894-f697-ce7290bff9d5",
        "colab": {
          "base_uri": "https://localhost:8080/",
          "height": 34
        }
      },
      "source": [
        "d_frutas2 = {k: v for k, v in filter(lambda t: t[0] == 'Apple', d_frutas.items())}\n",
        "d_frutas2"
      ],
      "execution_count": null,
      "outputs": [
        {
          "output_type": "execute_result",
          "data": {
            "text/plain": [
              "{'Apple': 0.4}"
            ]
          },
          "metadata": {
            "tags": []
          },
          "execution_count": 6
        }
      ]
    },
    {
      "cell_type": "markdown",
      "metadata": {
        "id": "nUMGIzxeNt_U"
      },
      "source": [
        "### Filtrando por valor:"
      ]
    },
    {
      "cell_type": "code",
      "metadata": {
        "id": "tvHcQatANltL",
        "outputId": "8feaf5b1-1db8-4391-8950-248ba8ab46c5",
        "colab": {
          "base_uri": "https://localhost:8080/",
          "height": 187
        }
      },
      "source": [
        "d_frutas3 = {k: v for k, v in filter(lambda t: t[1] > 0.5, d_frutas.items())}\n",
        "d_frutas3"
      ],
      "execution_count": null,
      "outputs": [
        {
          "output_type": "execute_result",
          "data": {
            "text/plain": [
              "{'Blackberry': 0.55,\n",
              " 'Blackcurrant': 0.7,\n",
              " 'Coconut': 0.75,\n",
              " 'Fig': 0.6,\n",
              " 'Grape': 0.65,\n",
              " 'Mango': 0.8,\n",
              " 'Nectarine': 0.75,\n",
              " 'Peach': 0.55,\n",
              " 'Pineapple': 0.55,\n",
              " 'Plum': 0.6}"
            ]
          },
          "metadata": {
            "tags": []
          },
          "execution_count": 7
        }
      ]
    },
    {
      "cell_type": "markdown",
      "metadata": {
        "id": "qA_XhCdmA6Gn"
      },
      "source": [
        "___\n",
        "# **EXERCÍCIOS**"
      ]
    },
    {
      "cell_type": "markdown",
      "metadata": {
        "id": "RSpyl_URgNyE"
      },
      "source": [
        "## Exercício 1\n",
        "* É possível sortear os itens de um dicionário? Explique sua resposta."
      ]
    },
    {
      "cell_type": "markdown",
      "metadata": {
        "id": "CXqc9kHch6Mm"
      },
      "source": [
        "## Exercício 2\n",
        "* É possível termos um dicionário do tipo abaixo?"
      ]
    },
    {
      "cell_type": "code",
      "metadata": {
        "id": "0BBWO9Zth_mc"
      },
      "source": [
        "d_colaboradores= {'Gerentes': ['A', 'B', 'C'], 'Programadores': ['B', 'D', 'E', 'F', 'G'], 'Gerentes_Projeto': ['A', 'E']}"
      ],
      "execution_count": 1,
      "outputs": []
    },
    {
      "cell_type": "markdown",
      "metadata": {
        "id": "TNiJSG_uiePb"
      },
      "source": [
        "Como acessar o Gerente 'A'?"
      ]
    },
    {
      "cell_type": "markdown",
      "metadata": {
        "id": "ntVcr_3XwaQ-"
      },
      "source": [
        "## Exercício 3\n",
        "Consulte a página [Python Data Types: Dictionary - Exercises, Practice, Solution](https://www.w3resource.com/python-exercises/dictionary/) para mais exercícios relacionados à dicionários."
      ]
    }
  ]
}