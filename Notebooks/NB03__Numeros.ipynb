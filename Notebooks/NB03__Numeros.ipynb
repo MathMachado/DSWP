{
  "nbformat": 4,
  "nbformat_minor": 0,
  "metadata": {
    "colab": {
      "name": "NB03__Numeros.ipynb",
      "provenance": [],
      "collapsed_sections": [
        "n8BIbzQbNWUo",
        "7eS94uQ4NhVR",
        "SYOgJpGYVLUu",
        "CaHFxk98W5if",
        "ReWUyWiHXCnc",
        "CqszHxaKHr2h",
        "tXgF1Wl9gHKY",
        "Fotx7XUquAo8",
        "36kmLUYDvsUI",
        "SWO2GdNovxAp",
        "vpN54l4vxze5",
        "u4HOf9SNytSq",
        "6BQ9oZiD9hg5",
        "tz5-QdrX9vct",
        "p1muBgMX8NK4",
        "FxTC2-U88ajk",
        "z8EYn0pP25Rh"
      ],
      "toc_visible": true,
      "include_colab_link": true
    },
    "kernelspec": {
      "name": "python3",
      "display_name": "Python 3"
    },
    "accelerator": "GPU"
  },
  "cells": [
    {
      "cell_type": "markdown",
      "metadata": {
        "id": "view-in-github",
        "colab_type": "text"
      },
      "source": [
        "<a href=\"https://colab.research.google.com/github/MathMachado/DSWP/blob/master/Notebooks/NB03__Numeros.ipynb\" target=\"_parent\"><img src=\"https://colab.research.google.com/assets/colab-badge.svg\" alt=\"Open In Colab\"/></a>"
      ]
    },
    {
      "cell_type": "markdown",
      "metadata": {
        "id": "CpRVRA3RmApU"
      },
      "source": [
        "<center><h1><b><i>NÚMEROS</i></b></h1></center>\n",
        "\n"
      ]
    },
    {
      "cell_type": "markdown",
      "metadata": {
        "id": "dpGiKzFGsqEE"
      },
      "source": [
        "# **AGENDA**:\n",
        "> Nesta capítulo, vamos abordar os seguintes assuntos:\n",
        "\n",
        "* Operadores aritméticos\n",
        "* Funções round(), floor(), ceil() e trunc()\n",
        "* Operadores para comparação\n",
        "* Operadores de atribuição\n",
        "* Wrap Up\n",
        "* Exercícios"
      ]
    },
    {
      "cell_type": "markdown",
      "metadata": {
        "id": "Gbziy0R0PRtA"
      },
      "source": [
        "___\n",
        "# **NOTAS E OBSERVAÇÕES**"
      ]
    },
    {
      "cell_type": "markdown",
      "metadata": {
        "id": "7VtuARnPZ7Hw"
      },
      "source": [
        "___\n",
        "# **NÚMEROS**\n",
        "> Basicamente, há dois tipos de números em Python:\n",
        "\n",
        "* float point\n",
        "    * Exemplo: temperatura, altura, etc\n",
        "    \n",
        "* Integer\n",
        "    * Exemplo: idade, dia do mês, etc...\n"
      ]
    },
    {
      "cell_type": "markdown",
      "metadata": {
        "id": "n8BIbzQbNWUo"
      },
      "source": [
        "___\n",
        "# **OPERADORES ARITMÉTICOS**\n",
        "> Considere as variáveis i_numero1 = 7 e i_numero2 = 3 abaixo, então:\n",
        "\n",
        "| Operador | Descrição | Exemplo | Operação | Resultado |\n",
        "|---|---|---|---|---|\n",
        "| +  | Adição | resultado = numero1 + numero2 | resultado = 7 + 3 | resultado = 10 |\n",
        "| -  | Subtração | resultado = numero1 - numero2 | resultado = 7 - 3 | resultado = 4|\n",
        "| /  | Divisão | resultado = numero1 / numero2 | resultado = 7 / 3 | resultado = 2.333... |\n",
        "| %  | Resto da Divisão | resultado = numero1 % numero2 | resultado = 7%3 | resultado = 1 | \n",
        "| *  | Multiplicação | resultado = numero1 * numero2 | resultado = 7 * 3 | resultado = 21 |\n",
        "| //  | Quociente da Divisão | resultado = numero1 // numero2 | resultado = 7 // 3 | resultado = 2 |\n",
        "| **  | Potência | resultado = numero1 ** numero2 | resultado = 7\\*7\\*7 | resultado = 343|\n",
        "\n",
        "> Nas operações matemáticas de divisão, chamamos:\n",
        "\n",
        "    * 7 de dividendo (o número que se quer dividir);\n",
        "    * 3 de divisor;\n",
        "    * 2 é o quociente ou resultado, dado por 7 // 3;\n",
        "    * 1 é o resto, dado por 7 % 3\n",
        "\n",
        "Confirma na imagem a seguir os elementos da Divisão:\n",
        "\n",
        "![Divisao](https://github.com/MathMachado/Materials/blob/master/Divisao.png?raw=true)"
      ]
    },
    {
      "cell_type": "markdown",
      "metadata": {
        "id": "EPI5rEFmTCCr"
      },
      "source": [
        "Conforme vimos acima, temos que numero1 = 7 e numero2 = 3. Vamos aplicar os conhecimentos que acabamos de aprender:"
      ]
    },
    {
      "cell_type": "code",
      "metadata": {
        "id": "x1M4D-GKTotm"
      },
      "source": [
        "numero1 = 7\n",
        "numero2 = 3"
      ],
      "execution_count": null,
      "outputs": []
    },
    {
      "cell_type": "markdown",
      "metadata": {
        "id": "_2c7o4-1lapI"
      },
      "source": [
        "Qual o valor de C nas expressões abaixo?"
      ]
    },
    {
      "cell_type": "code",
      "metadata": {
        "id": "qBC_Qo_NTI_k",
        "outputId": "a42bd8f5-c70f-4e31-bdfa-ce25a62f3838",
        "colab": {
          "base_uri": "https://localhost:8080/",
          "height": 34
        }
      },
      "source": [
        "resultado = numero1 + numero2\n",
        "f'O valor de resultado é: {resultado}'"
      ],
      "execution_count": null,
      "outputs": [
        {
          "output_type": "execute_result",
          "data": {
            "text/plain": [
              "'O valor de C é: 10'"
            ]
          },
          "metadata": {
            "tags": []
          },
          "execution_count": 39
        }
      ]
    },
    {
      "cell_type": "code",
      "metadata": {
        "id": "PT0AQX57TKcF",
        "outputId": "c9c93b8b-cdf0-4d1c-cf7c-bd5a08d87fc5",
        "colab": {
          "base_uri": "https://localhost:8080/",
          "height": 34
        }
      },
      "source": [
        "resultado = numero1 - numero2\n",
        "f'O valor de resultado é: {resultado}'"
      ],
      "execution_count": null,
      "outputs": [
        {
          "output_type": "execute_result",
          "data": {
            "text/plain": [
              "'O valor de C é: 4'"
            ]
          },
          "metadata": {
            "tags": []
          },
          "execution_count": 40
        }
      ]
    },
    {
      "cell_type": "code",
      "metadata": {
        "id": "CBxB4hZ3TL4d",
        "outputId": "32236983-5b26-4818-a96d-59ccbc3d2380",
        "colab": {
          "base_uri": "https://localhost:8080/",
          "height": 34
        }
      },
      "source": [
        "resultado = numero1 * numero2\n",
        "f'O valor de resultado é: {resultado}'"
      ],
      "execution_count": null,
      "outputs": [
        {
          "output_type": "execute_result",
          "data": {
            "text/plain": [
              "'O valor de C é: 21'"
            ]
          },
          "metadata": {
            "tags": []
          },
          "execution_count": 41
        }
      ]
    },
    {
      "cell_type": "markdown",
      "metadata": {
        "id": "uURQ02PQXniH"
      },
      "source": [
        "## Funções round(), floor(), ceil() e trunc()"
      ]
    },
    {
      "cell_type": "markdown",
      "metadata": {
        "id": "-7h2lUnIX_pc"
      },
      "source": [
        "### Exemplo 1"
      ]
    },
    {
      "cell_type": "code",
      "metadata": {
        "id": "u3c2_zmZTdur"
      },
      "source": [
        "resultado = numero2/numero1\n",
        "\n",
        "# Importa a biblioteca math\n",
        "import math\n",
        "\n",
        "resultado_round2 = round(resultado, 2) # Arredonda resultado para 2 casas decimais.\n",
        "resultado_round4 = round(resultado, 4) # Arredonda resultado para 4 casas decimais.\n",
        "resultado_floor = math.floor(resultado) # Retorna o maior valor inteiro menor ou igual a resultado.\n",
        "resultado_ceil = math.ceil(resultado) # Retorna o menor valor inteiro maior ou igual a resultado.\n",
        "resultado_trunc = math.trunc(resultado) # Retorna resultado truncado para um inteiro"
      ],
      "execution_count": null,
      "outputs": []
    },
    {
      "cell_type": "code",
      "metadata": {
        "id": "Wc2mULT3YH18",
        "outputId": "5706d758-cb4f-48aa-c006-89857e581d7c",
        "colab": {
          "base_uri": "https://localhost:8080/",
          "height": 34
        }
      },
      "source": [
        "# Valor de resultado com 17 casas decimais:\n",
        "f'{resultado}'"
      ],
      "execution_count": null,
      "outputs": [
        {
          "output_type": "execute_result",
          "data": {
            "text/plain": [
              "'0.42857142857142855'"
            ]
          },
          "metadata": {
            "tags": []
          },
          "execution_count": 59
        }
      ]
    },
    {
      "cell_type": "code",
      "metadata": {
        "id": "xenFBPeFYWoR",
        "outputId": "6da1badb-5494-4d17-bf94-76d87aacaaf3",
        "colab": {
          "base_uri": "https://localhost:8080/",
          "height": 34
        }
      },
      "source": [
        "# Valor de resultado com 2 casas decimais:\n",
        "f'{resultado_round2}'"
      ],
      "execution_count": null,
      "outputs": [
        {
          "output_type": "execute_result",
          "data": {
            "text/plain": [
              "'0.43'"
            ]
          },
          "metadata": {
            "tags": []
          },
          "execution_count": 60
        }
      ]
    },
    {
      "cell_type": "code",
      "metadata": {
        "id": "HW8dJ4UMZBp5",
        "outputId": "0a9e6fdd-b36c-441b-d6db-c041ae6922ae",
        "colab": {
          "base_uri": "https://localhost:8080/",
          "height": 34
        }
      },
      "source": [
        "# Valor de resultado com 4 casas decimais:\n",
        "f'{resultado_round4}'"
      ],
      "execution_count": null,
      "outputs": [
        {
          "output_type": "execute_result",
          "data": {
            "text/plain": [
              "'0.4286'"
            ]
          },
          "metadata": {
            "tags": []
          },
          "execution_count": 61
        }
      ]
    },
    {
      "cell_type": "code",
      "metadata": {
        "id": "Vyyfj4ALYXNp",
        "outputId": "36ad0323-8e8f-4f93-f570-6620551942f9",
        "colab": {
          "base_uri": "https://localhost:8080/",
          "height": 34
        }
      },
      "source": [
        "# Retorna o maior valor inteiro menor ou igual a resultado:\n",
        "f'{resultado_floor}'"
      ],
      "execution_count": null,
      "outputs": [
        {
          "output_type": "execute_result",
          "data": {
            "text/plain": [
              "'0'"
            ]
          },
          "metadata": {
            "tags": []
          },
          "execution_count": 62
        }
      ]
    },
    {
      "cell_type": "code",
      "metadata": {
        "id": "fwBCv0tWZP5C",
        "outputId": "55c428af-4a68-4fae-af91-a23090d4eb0a",
        "colab": {
          "base_uri": "https://localhost:8080/",
          "height": 34
        }
      },
      "source": [
        "# Retorna o menor valor inteiro maior ou igual a resultado:\n",
        "f'{resultado_ceil}'"
      ],
      "execution_count": null,
      "outputs": [
        {
          "output_type": "execute_result",
          "data": {
            "text/plain": [
              "'1'"
            ]
          },
          "metadata": {
            "tags": []
          },
          "execution_count": 63
        }
      ]
    },
    {
      "cell_type": "code",
      "metadata": {
        "id": "EFNL0YIzZP2H",
        "outputId": "2fc867cc-2f4f-476f-fec8-795325bc6987",
        "colab": {
          "base_uri": "https://localhost:8080/",
          "height": 34
        }
      },
      "source": [
        "# Retorna a parte inteira de resultado:\n",
        "f'{resultado_trunc}'"
      ],
      "execution_count": null,
      "outputs": [
        {
          "output_type": "execute_result",
          "data": {
            "text/plain": [
              "'0'"
            ]
          },
          "metadata": {
            "tags": []
          },
          "execution_count": 64
        }
      ]
    },
    {
      "cell_type": "markdown",
      "metadata": {
        "id": "7sVd5e2zX6zD"
      },
      "source": [
        "### Exemplo 2"
      ]
    },
    {
      "cell_type": "code",
      "metadata": {
        "id": "vja58gRJXBda"
      },
      "source": [
        "resultado = 13 / 3\n",
        "\n",
        "# Importa a biblioteca math\n",
        "import math\n",
        "\n",
        "resultado_round2 = round(reultado, 2) # Arredonda reultado para 2 casas decimais.\n",
        "resultado_round4 = round(reultado, 4) # Arredonda reultado para 4 casas decimais.\n",
        "resultado_floor = math.floor(reultado) # Retorna o maior valor inteiro menor ou igual a reultado.\n",
        "resultado_ceil = math.ceil(reultado) # Retorna o menor valor inteiro maior ou igual a reultado.\n",
        "resultado_trunc = math.trunc(reultado) # Retorna reultado truncado para um inteiro"
      ],
      "execution_count": null,
      "outputs": []
    },
    {
      "cell_type": "markdown",
      "metadata": {
        "id": "bSLDyRMYVXTB"
      },
      "source": [
        "... Novamente, mas desta vez, definindo 2 casas decimais:"
      ]
    },
    {
      "cell_type": "code",
      "metadata": {
        "id": "gDNJOp2nVcr4",
        "outputId": "f293c89c-17bf-4078-df09-f04e8aefc8f7",
        "colab": {
          "base_uri": "https://localhost:8080/",
          "height": 34
        }
      },
      "source": [
        "f'O valor de resultado é: {reultado:{8}.{2}}'"
      ],
      "execution_count": null,
      "outputs": [
        {
          "output_type": "execute_result",
          "data": {
            "text/plain": [
              "'O valor de C é:      4.3'"
            ]
          },
          "metadata": {
            "tags": []
          },
          "execution_count": 67
        }
      ]
    },
    {
      "cell_type": "code",
      "metadata": {
        "id": "87seYsQIbsHt",
        "outputId": "ad2e6d2b-8b66-4a51-f53d-c040648fb488",
        "colab": {
          "base_uri": "https://localhost:8080/",
          "height": 34
        }
      },
      "source": [
        "# Valor de reultado com 2 casas decimais:\n",
        "f'{resultado_round2}'"
      ],
      "execution_count": null,
      "outputs": [
        {
          "output_type": "execute_result",
          "data": {
            "text/plain": [
              "'4.33'"
            ]
          },
          "metadata": {
            "tags": []
          },
          "execution_count": 68
        }
      ]
    },
    {
      "cell_type": "code",
      "metadata": {
        "id": "_4kTZ4J3bsH0",
        "outputId": "8f76f36a-e59d-41f0-bc92-59b4eaa47a84",
        "colab": {
          "base_uri": "https://localhost:8080/",
          "height": 34
        }
      },
      "source": [
        "# Valor de reultado com 4 casas decimais:\n",
        "f'{resultado_round4}'"
      ],
      "execution_count": null,
      "outputs": [
        {
          "output_type": "execute_result",
          "data": {
            "text/plain": [
              "'4.3333'"
            ]
          },
          "metadata": {
            "tags": []
          },
          "execution_count": 69
        }
      ]
    },
    {
      "cell_type": "code",
      "metadata": {
        "id": "9_TP9Rc5bsH2",
        "outputId": "94ea5158-27bd-418f-c350-068e127d3ef4",
        "colab": {
          "base_uri": "https://localhost:8080/",
          "height": 34
        }
      },
      "source": [
        "# Retorna o maior valor inteiro menor ou igual a reultado:\n",
        "f'{resultado_floor}'"
      ],
      "execution_count": null,
      "outputs": [
        {
          "output_type": "execute_result",
          "data": {
            "text/plain": [
              "'4'"
            ]
          },
          "metadata": {
            "tags": []
          },
          "execution_count": 70
        }
      ]
    },
    {
      "cell_type": "code",
      "metadata": {
        "id": "Xq7cw8fJbsH6",
        "outputId": "f3196a4e-7fe0-4fcd-a737-22f3a3bb0e3a",
        "colab": {
          "base_uri": "https://localhost:8080/",
          "height": 34
        }
      },
      "source": [
        "# Retorna o menor valor inteiro maior ou igual a reultado:\n",
        "f'{resultado_ceil}'"
      ],
      "execution_count": null,
      "outputs": [
        {
          "output_type": "execute_result",
          "data": {
            "text/plain": [
              "'5'"
            ]
          },
          "metadata": {
            "tags": []
          },
          "execution_count": 71
        }
      ]
    },
    {
      "cell_type": "code",
      "metadata": {
        "id": "-6CtvSC8bsH8",
        "outputId": "719d806f-ab42-411a-d5a3-6c2dfba323a5",
        "colab": {
          "base_uri": "https://localhost:8080/",
          "height": 34
        }
      },
      "source": [
        "# Retorna a parte inteira de reultado:\n",
        "f'{resultado_trunc}'"
      ],
      "execution_count": null,
      "outputs": [
        {
          "output_type": "execute_result",
          "data": {
            "text/plain": [
              "'4'"
            ]
          },
          "metadata": {
            "tags": []
          },
          "execution_count": 72
        }
      ]
    },
    {
      "cell_type": "markdown",
      "metadata": {
        "id": "7eS94uQ4NhVR"
      },
      "source": [
        "___\n",
        "# **OPERADORES PARA COMPARAÇÃO**\n",
        "\n",
        "* Considere as variáveis numero1 = 7, numero2 = 3 e o vetor x abaixo, então:\n",
        "\n",
        "| Operador | Exemplo | Descrição | Resultado |\n",
        "|---|---|---|---|\n",
        "| == | numero1 == numero2 | 7 é igual a 3? | False |\n",
        "| != | numero1 != numero2 | 7 é diferente de 3? | True |\n",
        "| >  | numero1 > numero2 | 7 é maior que 3? | True |\n",
        "| < | numero1 < numero2 | 7 é menor que 3? | False | \n",
        "| >= | numero1 >= numero2 | 7 é maior ou igual a 3? | True |\n",
        "| <= | numero1 <= numero2 | 7 é menor ou igual a 3? | False |"
      ]
    },
    {
      "cell_type": "markdown",
      "metadata": {
        "id": "SYOgJpGYVLUu"
      },
      "source": [
        "Vamos aplicar os conhecimentos que acabamos de aprender:"
      ]
    },
    {
      "cell_type": "code",
      "metadata": {
        "id": "D5i-yvZEVMjg"
      },
      "source": [
        "numero1 = 7\n",
        "numero2 = 3"
      ],
      "execution_count": null,
      "outputs": []
    },
    {
      "cell_type": "markdown",
      "metadata": {
        "id": "ZW_uNE897iSA"
      },
      "source": [
        "Array x:"
      ]
    },
    {
      "cell_type": "code",
      "metadata": {
        "id": "XoSKTMQ77jrA"
      },
      "source": [
        "import numpy as np\n",
        "x = np.array([0, 1, 2, 3, 4, 5, 6, 7, 8, 9])"
      ],
      "execution_count": null,
      "outputs": []
    },
    {
      "cell_type": "markdown",
      "metadata": {
        "id": "yye84Ha8lzs0"
      },
      "source": [
        "Qual o resultadodas expressões a seguir:"
      ]
    },
    {
      "cell_type": "code",
      "metadata": {
        "id": "5ZW2QYfzVQWA"
      },
      "source": [
        "numero1 == numero2"
      ],
      "execution_count": null,
      "outputs": []
    },
    {
      "cell_type": "code",
      "metadata": {
        "id": "YamNIizkVYnt"
      },
      "source": [
        "numero1 != numero2"
      ],
      "execution_count": null,
      "outputs": []
    },
    {
      "cell_type": "code",
      "metadata": {
        "id": "2kZvSb41Vfst"
      },
      "source": [
        "numero1 > numero2"
      ],
      "execution_count": null,
      "outputs": []
    },
    {
      "cell_type": "code",
      "metadata": {
        "id": "WVS6z01mWZ8O"
      },
      "source": [
        "numero1 < numero2"
      ],
      "execution_count": null,
      "outputs": []
    },
    {
      "cell_type": "code",
      "metadata": {
        "id": "gtuxz2JDWb4r"
      },
      "source": [
        "numero1 >= numero2"
      ],
      "execution_count": null,
      "outputs": []
    },
    {
      "cell_type": "code",
      "metadata": {
        "id": "CV1aZWYuWgW-"
      },
      "source": [
        "numero1 <= numero2"
      ],
      "execution_count": null,
      "outputs": []
    },
    {
      "cell_type": "markdown",
      "metadata": {
        "id": "UtW06b327ug4"
      },
      "source": [
        "Qual o resultado das expressões a seguir:"
      ]
    },
    {
      "cell_type": "code",
      "metadata": {
        "id": "x5s3iF_Q7vPN",
        "outputId": "e572b2e1-5277-42a5-fb18-1e716dc3d83c",
        "colab": {
          "base_uri": "https://localhost:8080/",
          "height": 51
        }
      },
      "source": [
        "x == 3"
      ],
      "execution_count": null,
      "outputs": [
        {
          "output_type": "execute_result",
          "data": {
            "text/plain": [
              "array([False, False, False,  True, False, False, False, False, False,\n",
              "       False])"
            ]
          },
          "metadata": {
            "tags": []
          },
          "execution_count": 3
        }
      ]
    },
    {
      "cell_type": "code",
      "metadata": {
        "id": "a_zuUmbT7-dh",
        "outputId": "6cc52067-7cbb-4552-80bb-f144496aa4a8",
        "colab": {
          "base_uri": "https://localhost:8080/",
          "height": 51
        }
      },
      "source": [
        "x != 3"
      ],
      "execution_count": null,
      "outputs": [
        {
          "output_type": "execute_result",
          "data": {
            "text/plain": [
              "array([ True,  True,  True, False,  True,  True,  True,  True,  True,\n",
              "        True])"
            ]
          },
          "metadata": {
            "tags": []
          },
          "execution_count": 4
        }
      ]
    },
    {
      "cell_type": "code",
      "metadata": {
        "id": "V6gC-Lt17vV0",
        "outputId": "45895647-2e59-47cc-f702-d48b9e032306",
        "colab": {
          "base_uri": "https://localhost:8080/",
          "height": 51
        }
      },
      "source": [
        "x < 3"
      ],
      "execution_count": null,
      "outputs": [
        {
          "output_type": "execute_result",
          "data": {
            "text/plain": [
              "array([ True,  True,  True, False, False, False, False, False, False,\n",
              "       False])"
            ]
          },
          "metadata": {
            "tags": []
          },
          "execution_count": 5
        }
      ]
    },
    {
      "cell_type": "code",
      "metadata": {
        "id": "AMvGmH7z7vbZ",
        "outputId": "aeb2cd64-f08e-4dca-f656-8d5eb6bcfe87",
        "colab": {
          "base_uri": "https://localhost:8080/",
          "height": 51
        }
      },
      "source": [
        "x > 3"
      ],
      "execution_count": null,
      "outputs": [
        {
          "output_type": "execute_result",
          "data": {
            "text/plain": [
              "array([False, False, False, False,  True,  True,  True,  True,  True,\n",
              "        True])"
            ]
          },
          "metadata": {
            "tags": []
          },
          "execution_count": 6
        }
      ]
    },
    {
      "cell_type": "markdown",
      "metadata": {
        "id": "ArlOmX1D8MZ1"
      },
      "source": [
        "Da mesma forma, se tivermos a matrix abaixo:"
      ]
    },
    {
      "cell_type": "code",
      "metadata": {
        "id": "hEFamTx38Pd2",
        "outputId": "b77cf053-f040-460c-bd16-26384e27958d",
        "colab": {
          "base_uri": "https://localhost:8080/",
          "height": 68
        }
      },
      "source": [
        "r = np.random.RandomState(20111974)\n",
        "x = r.randint(10, size= (3, 4))\n",
        "x"
      ],
      "execution_count": null,
      "outputs": [
        {
          "output_type": "execute_result",
          "data": {
            "text/plain": [
              "array([[8, 8, 2, 8],\n",
              "       [9, 1, 8, 0],\n",
              "       [4, 2, 0, 8]])"
            ]
          },
          "metadata": {
            "tags": []
          },
          "execution_count": 8
        }
      ]
    },
    {
      "cell_type": "markdown",
      "metadata": {
        "id": "xZo43Abr8kU6"
      },
      "source": [
        "Qual o resultado das expressões a seguir:"
      ]
    },
    {
      "cell_type": "code",
      "metadata": {
        "id": "DqXXJhbp8jAK",
        "outputId": "9cc1b25c-e83b-49a3-e9f6-0f43021c8001",
        "colab": {
          "base_uri": "https://localhost:8080/",
          "height": 68
        }
      },
      "source": [
        "x == 3"
      ],
      "execution_count": null,
      "outputs": [
        {
          "output_type": "execute_result",
          "data": {
            "text/plain": [
              "array([[False, False, False, False],\n",
              "       [False, False, False, False],\n",
              "       [False, False, False, False]])"
            ]
          },
          "metadata": {
            "tags": []
          },
          "execution_count": 9
        }
      ]
    },
    {
      "cell_type": "code",
      "metadata": {
        "id": "FfZnfg_V8uEs",
        "outputId": "7fa25b18-a80c-44c8-9456-39feb06efba1",
        "colab": {
          "base_uri": "https://localhost:8080/",
          "height": 68
        }
      },
      "source": [
        "x != 3"
      ],
      "execution_count": null,
      "outputs": [
        {
          "output_type": "execute_result",
          "data": {
            "text/plain": [
              "array([[ True,  True,  True,  True],\n",
              "       [ True,  True,  True,  True],\n",
              "       [ True,  True,  True,  True]])"
            ]
          },
          "metadata": {
            "tags": []
          },
          "execution_count": 10
        }
      ]
    },
    {
      "cell_type": "code",
      "metadata": {
        "id": "GmjUVH_d8uIA",
        "outputId": "5fd61448-9ba0-424c-8ae8-5575f9520ce3",
        "colab": {
          "base_uri": "https://localhost:8080/",
          "height": 68
        }
      },
      "source": [
        "x < 3"
      ],
      "execution_count": null,
      "outputs": [
        {
          "output_type": "execute_result",
          "data": {
            "text/plain": [
              "array([[False, False,  True, False],\n",
              "       [False,  True, False,  True],\n",
              "       [False,  True,  True, False]])"
            ]
          },
          "metadata": {
            "tags": []
          },
          "execution_count": 11
        }
      ]
    },
    {
      "cell_type": "code",
      "metadata": {
        "id": "KV2w6vfh8uLK",
        "outputId": "000aeaa9-7692-408b-ea91-a17113529eff",
        "colab": {
          "base_uri": "https://localhost:8080/",
          "height": 68
        }
      },
      "source": [
        "x > 3"
      ],
      "execution_count": null,
      "outputs": [
        {
          "output_type": "execute_result",
          "data": {
            "text/plain": [
              "array([[ True,  True, False,  True],\n",
              "       [ True, False,  True, False],\n",
              "       [ True, False, False,  True]])"
            ]
          },
          "metadata": {
            "tags": []
          },
          "execution_count": 12
        }
      ]
    },
    {
      "cell_type": "markdown",
      "metadata": {
        "id": "CaHFxk98W5if"
      },
      "source": [
        "___\n",
        "# **OPERADORES DE ATRIBUIÇÃO**\n",
        "\n",
        "| Operador | Exemplo | Operação Equivalente | \n",
        "|---|---|---|\n",
        "| = | resultado = numero1 + numero2 |\n",
        "| += | resultado += numero2 | resultado = resultado + numero2 |\n",
        "| -= | resultado -= numero2 | resultado = resultado - numero2 |\n",
        "| *= | resultado *= numero2 | resultado = resultado * numero2 |\n",
        "| /= | resultado /= numero2 | resultado = resultado / numero2 |\n",
        "| %= | resultado %= numero2 | resultado = resultado % numero2 |\n",
        "| **= | resultado *= numero2 | resultado = resultado ** numero2 |\n",
        "| //= | resultado // = numero2 | resultado = resultado // numero2 |"
      ]
    },
    {
      "cell_type": "markdown",
      "metadata": {
        "id": "ReWUyWiHXCnc"
      },
      "source": [
        "Considere numero1 = 7 e numero2 = 3 e vamos praticar os conhecimentos que acabamos de aprender:"
      ]
    },
    {
      "cell_type": "code",
      "metadata": {
        "id": "9cc6h3IEXA91"
      },
      "source": [
        "numero1 = 7\n",
        "numero2 = 3"
      ],
      "execution_count": null,
      "outputs": []
    },
    {
      "cell_type": "markdown",
      "metadata": {
        "id": "gmvx14IYl8gT"
      },
      "source": [
        "Qual o valor de C nas expressões a seguir:"
      ]
    },
    {
      "cell_type": "code",
      "metadata": {
        "id": "ipA_sFLHXWfy"
      },
      "source": [
        "resultado = numero1 + numero2\n",
        "f'O valor de resultado é: {resultado}'"
      ],
      "execution_count": null,
      "outputs": []
    },
    {
      "cell_type": "code",
      "metadata": {
        "id": "IkshGLnMXb_P"
      },
      "source": [
        "resultado += numero1\n",
        "f'O valor de resultado é: {resultado}'"
      ],
      "execution_count": null,
      "outputs": []
    },
    {
      "cell_type": "code",
      "metadata": {
        "id": "R5AUHwAwXgW-"
      },
      "source": [
        "resultado -= numero1\n",
        "f'O valor de resultado é: {resultado}'"
      ],
      "execution_count": null,
      "outputs": []
    },
    {
      "cell_type": "code",
      "metadata": {
        "id": "Cx3Pk_-IYBfX"
      },
      "source": [
        "resultado *= numero1\n",
        "f'O valor de resultado é: {resultado}'"
      ],
      "execution_count": null,
      "outputs": []
    },
    {
      "cell_type": "code",
      "metadata": {
        "id": "3cmr8Xi_YEX_"
      },
      "source": [
        "resultado /= numero1\n",
        "f'O valor de resultado é: {resultado}'"
      ],
      "execution_count": null,
      "outputs": []
    },
    {
      "cell_type": "code",
      "metadata": {
        "id": "oBNsw_TcYHXk"
      },
      "source": [
        "resultado %= numero1\n",
        "f'O valor de resultado é: {resultado}'"
      ],
      "execution_count": null,
      "outputs": []
    },
    {
      "cell_type": "code",
      "metadata": {
        "id": "EMmTl4jqYK6z"
      },
      "source": [
        "resultado **= numero1\n",
        "f'O valor de resultado é: {resultado}'"
      ],
      "execution_count": null,
      "outputs": []
    },
    {
      "cell_type": "code",
      "metadata": {
        "id": "sdIw4e8FYOIX"
      },
      "source": [
        "resultado //= numero1\n",
        "f'O valor de resultado é: {resultado}'"
      ],
      "execution_count": null,
      "outputs": []
    },
    {
      "cell_type": "markdown",
      "metadata": {
        "id": "w8LhoYF-tyb4"
      },
      "source": [
        "___\n",
        "# **WRAP UP**"
      ]
    },
    {
      "cell_type": "markdown",
      "metadata": {
        "id": "TJ8Lx1yXMoSF"
      },
      "source": [
        "___\n",
        "# **EXERCÍCIOS**"
      ]
    },
    {
      "cell_type": "code",
      "metadata": {
        "id": "WHbHr7cyMpxB"
      },
      "source": [
        ""
      ],
      "execution_count": null,
      "outputs": []
    }
  ]
}