{
  "nbformat": 4,
  "nbformat_minor": 0,
  "metadata": {
    "colab": {
      "name": "Notebooks/NB01_02__Condicionais.ipynb",
      "provenance": [],
      "collapsed_sections": [
        "n8BIbzQbNWUo",
        "7eS94uQ4NhVR",
        "SYOgJpGYVLUu",
        "CaHFxk98W5if",
        "ReWUyWiHXCnc",
        "CqszHxaKHr2h",
        "tXgF1Wl9gHKY",
        "Fotx7XUquAo8",
        "36kmLUYDvsUI",
        "SWO2GdNovxAp",
        "vpN54l4vxze5",
        "u4HOf9SNytSq",
        "6BQ9oZiD9hg5",
        "tz5-QdrX9vct",
        "p1muBgMX8NK4",
        "FxTC2-U88ajk",
        "z8EYn0pP25Rh"
      ],
      "include_colab_link": true
    },
    "kernelspec": {
      "name": "python3",
      "display_name": "Python 3"
    },
    "accelerator": "GPU"
  },
  "cells": [
    {
      "cell_type": "markdown",
      "metadata": {
        "id": "view-in-github",
        "colab_type": "text"
      },
      "source": [
        "<a href=\"https://colab.research.google.com/github/MathMachado/DSWP/blob/master/Notebooks/NB01_02__Estruturas%20Condicionais%3A%20if%2C%20elif%20e%20else.ipynb\" target=\"_parent\"><img src=\"https://colab.research.google.com/assets/colab-badge.svg\" alt=\"Open In Colab\"/></a>"
      ]
    },
    {
      "cell_type": "markdown",
      "metadata": {
        "id": "8Y-QMrzHhpcu"
      },
      "source": [
        "<center><h1><b><i>Estruturas Condicionais: if, elif e else</i></b></h1></center>\n",
        "\n"
      ]
    },
    {
      "cell_type": "markdown",
      "metadata": {
        "id": "wYGZ0eGlv--6"
      },
      "source": [
        "# **AGENDA**:\n",
        "> Neste vídeo, você vai dominar as estruturas condicionais em Python, que permitem que seu código tome decisões de acordo com diferentes condições. Abordaremos os seguintes tópicos:\n",
        "\n",
        "* Entender o if: como usar a estrutura if para criar condições e executar ações com base em critérios específicos.\n",
        "* Utilizar o elif para adicionar condições extras e tomar decisões mais complexas.\n",
        "* Aplicar o else para criar ações padrão quando nenhuma das condições anteriores for atendida.\n",
        "* Aninhar estruturas condicionais para trabalhar com múltiplas verificações e decisões.\n",
        "* Explorar boas práticas para garantir que suas condições sejam claras e eficientes.\n",
        "* Entender os erros comuns e como evitá-los ao trabalhar com condições.\n",
        "\n",
        "No final, faremos um wrap-up das principais lições para reforçar seu entendimento. Além disso, você terá a chance de testar seus conhecimentos com exercícios práticos e desafiadores.\n",
        "\n",
        "Este vídeo é ideal para iniciantes e programadores intermediários que desejam aprimorar suas habilidades em lógica condicional e tomar decisões eficazes no código.\n"
      ]
    },
    {
      "cell_type": "markdown",
      "metadata": {
        "id": "Q3FpTG0dh47M"
      },
      "source": [
        "___\n",
        "# **REFERÊNCIAS**\n"
      ]
    },
    {
      "cell_type": "markdown",
      "metadata": {
        "id": "LWuIj53sVSnA"
      },
      "source": [
        "___\n",
        "# **CONDICIONAIS**\n",
        "> Usado para decidir se uma determinada instrução ou bloco de instruções será executada ou não, isto é, se uma determinada condição for verdadeira, um bloco de instrução será executado."
      ]
    },
    {
      "cell_type": "code",
      "metadata": {
        "id": "NyG1l3awJzEq"
      },
      "source": [
        "# Não executar o código a seguir:\n",
        "if condicao1:\n",
        "    <bloco de código se condicao1 é verdade>\n",
        "elif condicao2:\n",
        "    <bloco de código se condicao2 é verdade>\n",
        "elif condicao3:\n",
        "    <bloco de código se condicao3 é verdade>\n",
        "    ...\n",
        "elif condicaoN:\n",
        "    <bloco de código se condicaoN é verdade>\n",
        "else:\n",
        "    <bloco de código se condicao1, condicao2, condicao3, ..., condicaoN e etc forem falso>"
      ],
      "execution_count": null,
      "outputs": []
    },
    {
      "cell_type": "markdown",
      "metadata": {
        "id": "FCJBMTh5WX5C"
      },
      "source": [
        "## Exemplo 1"
      ]
    },
    {
      "cell_type": "code",
      "metadata": {
        "id": "vn5u7CEaWZjH"
      },
      "source": [
        "def mensagem(i_idade, i_limite):\n",
        "    if i_idade > i_limite:\n",
        "        s_mensagem= f'{i_idade} é maior que {i_limite}'\n",
        "        print(s_mensagem)"
      ],
      "execution_count": 1,
      "outputs": []
    },
    {
      "cell_type": "code",
      "metadata": {
        "id": "lW0ME_nVXU4M"
      },
      "source": [
        "mensagem(35, 40)"
      ],
      "execution_count": 2,
      "outputs": []
    },
    {
      "cell_type": "markdown",
      "metadata": {
        "id": "EBBU8Yw2XxUo"
      },
      "source": [
        "Nenhuma mensagem? E agora?"
      ]
    },
    {
      "cell_type": "code",
      "metadata": {
        "id": "xQ23cAjMX1kx",
        "outputId": "affe2827-76a3-4260-eb57-0b30cff6ef22",
        "colab": {
          "base_uri": "https://localhost:8080/"
        }
      },
      "source": [
        "mensagem(45, 40)"
      ],
      "execution_count": 3,
      "outputs": [
        {
          "output_type": "stream",
          "name": "stdout",
          "text": [
            "45 é maior que 40\n"
          ]
        }
      ]
    },
    {
      "cell_type": "markdown",
      "metadata": {
        "id": "BeHU0tPuWK4s"
      },
      "source": [
        "## Exemplo 2"
      ]
    },
    {
      "cell_type": "code",
      "metadata": {
        "id": "gSzCnjS0Fk-d"
      },
      "source": [
        "def mensagem2(i_idade, i_limite):\n",
        "    if i_idade > i_limite:\n",
        "        s_mensagem= f'{i_idade} é maior que {i_limite}'\n",
        "    else:\n",
        "        s_mensagem= f'{i_idade} é menor ou igual a {i_limite}'\n",
        "\n",
        "    print(s_mensagem)"
      ],
      "execution_count": 4,
      "outputs": []
    },
    {
      "cell_type": "code",
      "metadata": {
        "id": "KxbmxuDwYFX_",
        "outputId": "70d91971-7cf3-4075-89df-cb0c56d97ddb",
        "colab": {
          "base_uri": "https://localhost:8080/"
        }
      },
      "source": [
        "mensagem2(35, 40)"
      ],
      "execution_count": 5,
      "outputs": [
        {
          "output_type": "stream",
          "name": "stdout",
          "text": [
            "35 é menor ou igual a 40\n"
          ]
        }
      ]
    },
    {
      "cell_type": "markdown",
      "metadata": {
        "id": "lToDO6pzWPGL"
      },
      "source": [
        "## Exemplo 3"
      ]
    },
    {
      "cell_type": "code",
      "metadata": {
        "id": "a1NlziSbGrIl",
        "outputId": "5bc33e97-f024-427d-854d-821891987afa",
        "colab": {
          "base_uri": "https://localhost:8080/",
          "height": 180
        }
      },
      "source": [
        "def mensagem3(i_idade, i_limite1, i_limite2, i_limite3, i_limite4):\n",
        "    if ((i_idade > i_limite1) and (i_idade < i_limite2)):\n",
        "        s_mensagem= f'{i_idade} é maior que {i_limite1} e menor que {i_limite2}'\n",
        "\n",
        "    elif ((i_idade > i_limite3) and (i_idade < i_limite4)):\n",
        "        s_mensagem= f'{i_idade} é maior que {i_limite3} e menor que {i_limite4}'\n",
        "\n",
        "    else:\n",
        "        s_mensagem= f'{i_idade} é maior que {i_limite4}'\n",
        "\n",
        "print(s_mensagem)"
      ],
      "execution_count": 6,
      "outputs": [
        {
          "output_type": "error",
          "ename": "NameError",
          "evalue": "name 's_mensagem' is not defined",
          "traceback": [
            "\u001b[0;31m---------------------------------------------------------------------------\u001b[0m",
            "\u001b[0;31mNameError\u001b[0m                                 Traceback (most recent call last)",
            "\u001b[0;32m<ipython-input-6-7044ec456aae>\u001b[0m in \u001b[0;36m<cell line: 11>\u001b[0;34m()\u001b[0m\n\u001b[1;32m      9\u001b[0m         \u001b[0ms_mensagem\u001b[0m\u001b[0;34m=\u001b[0m \u001b[0;34mf'{i_idade} é maior que {i_limite4}'\u001b[0m\u001b[0;34m\u001b[0m\u001b[0;34m\u001b[0m\u001b[0m\n\u001b[1;32m     10\u001b[0m \u001b[0;34m\u001b[0m\u001b[0m\n\u001b[0;32m---> 11\u001b[0;31m \u001b[0mprint\u001b[0m\u001b[0;34m(\u001b[0m\u001b[0ms_mensagem\u001b[0m\u001b[0;34m)\u001b[0m\u001b[0;34m\u001b[0m\u001b[0;34m\u001b[0m\u001b[0m\n\u001b[0m",
            "\u001b[0;31mNameError\u001b[0m: name 's_mensagem' is not defined"
          ]
        }
      ]
    },
    {
      "cell_type": "markdown",
      "metadata": {
        "id": "V8FF3lFLYqui"
      },
      "source": [
        "Porque temos um erro nesta função?"
      ]
    },
    {
      "cell_type": "markdown",
      "metadata": {
        "id": "y5F09RKGYyoX"
      },
      "source": [
        "**Resposta**: por causa da indentação! A forma correta é:"
      ]
    },
    {
      "cell_type": "code",
      "metadata": {
        "id": "vR-oFyzAY5UC"
      },
      "source": [
        "def mensagem3(i_idade, i_limite1, i_limite2, i_limite3, i_limite4):\n",
        "    if ((i_idade > i_limite1) and (i_idade < i_limite2)):\n",
        "        s_mensagem= f'{i_idade} é maior que {i_limite1} e menor que {i_limite2}'\n",
        "    elif ((i_idade > i_limite3) and (i_idade < i_limite4)):\n",
        "        s_mensagem= f'{i_idade} é maior que {i_limite3} e menor que {i_limite4}'\n",
        "    else:\n",
        "        s_mensagem= f'{i_idade} é maior que {i_limite4}'\n",
        "\n",
        "    print(s_mensagem)"
      ],
      "execution_count": 7,
      "outputs": []
    },
    {
      "cell_type": "code",
      "metadata": {
        "id": "QgkBOGKdYgGU",
        "outputId": "2929fde0-99e6-4e17-a6e1-29c7b3fa44cb",
        "colab": {
          "base_uri": "https://localhost:8080/"
        }
      },
      "source": [
        "mensagem3(35, 10, 20, 30, 40)"
      ],
      "execution_count": 8,
      "outputs": [
        {
          "output_type": "stream",
          "name": "stdout",
          "text": [
            "35 é maior que 30 e menor que 40\n"
          ]
        }
      ]
    },
    {
      "cell_type": "markdown",
      "metadata": {
        "id": "LLk7bhjSwZch"
      },
      "source": [
        "___\n",
        "# **Wrap Up**"
      ]
    },
    {
      "cell_type": "markdown",
      "metadata": {
        "id": "lJvjcjm8NQ85"
      },
      "source": [
        "___\n",
        "# Exercícios\n",
        "\n",
        "Esses exercícios abrangem diversos cenários onde as **estruturas condicionais** são aplicadas, desde decisões simples até verificações mais complexas. Ao resolvê-los, você irá consolidar seu entendimento sobre o uso de `if`, `elif` e `else` em Python, além de praticar boas práticas na escrita de condições claras e eficientes.\n",
        "\n",
        "Bom estudo e boa codificação!\n",
        "\n",
        "---\n",
        "\n",
        "## **Exercício 1: Verificação de Idade para Votação**\n",
        "\n",
        "**Descrição:**\n",
        "\n",
        "Escreva um programa que solicite ao usuário sua idade e verifique se ele está apto a votar. As regras são:\n",
        "\n",
        "- Se a idade for menor que 16 anos, exibir \"Você ainda não pode votar.\"\n",
        "- Se a idade for entre 16 e 17 anos ou igual a 70 anos ou mais, exibir \"O voto é opcional para você.\"\n",
        "- Se a idade for entre 18 e 69 anos, exibir \"O voto é obrigatório para você.\"\n",
        "\n",
        "**Dicas:**\n",
        "\n",
        "- Use `int(input(\"Digite sua idade: \"))` para capturar a idade como um número inteiro.\n",
        "- Utilize estruturas `if`, `elif` e `else` para verificar as condições.\n",
        "\n",
        "---\n",
        "\n",
        "## **Exercício 2: Calculadora Simples**\n",
        "\n",
        "**Descrição:**\n",
        "\n",
        "Crie um programa que peça ao usuário dois números e uma operação matemática a ser realizada (+, -, *, /). O programa deve executar a operação e exibir o resultado.\n",
        "\n",
        "**Dicas:**\n",
        "\n",
        "- Use `input()` para capturar os números e a operação.\n",
        "- Utilize condicionais `if`, `elif`, `else` para determinar qual operação realizar.\n",
        "- Lembre-se de converter os números para `float` ou `int` antes de operar.\n",
        "\n",
        "---\n",
        "\n",
        "## **Exercício 3: Classificação de Triângulos**\n",
        "\n",
        "**Descrição:**\n",
        "\n",
        "Escreva um programa que receba o comprimento de três lados de um triângulo e determine se ele é equilátero, isósceles ou escaleno.\n",
        "\n",
        "- Equilátero: todos os lados iguais.\n",
        "- Isósceles: dois lados iguais.\n",
        "- Escaleno: todos os lados diferentes.\n",
        "\n",
        "**Dicas:**\n",
        "\n",
        "- Solicite ao usuário os comprimentos dos três lados.\n",
        "- Use condicionais para comparar os lados e determinar o tipo de triângulo.\n",
        "\n",
        "---\n",
        "\n",
        "## **Exercício 4: Verificação de Número Par ou Ímpar**\n",
        "\n",
        "**Descrição:**\n",
        "\n",
        "Crie um programa que peça um número inteiro ao usuário e informe se ele é par ou ímpar.\n",
        "\n",
        "**Dicas:**\n",
        "\n",
        "- Utilize o operador módulo `%` para verificar o resto da divisão por 2.\n",
        "- Se o resto for zero, o número é par; caso contrário, é ímpar.\n",
        "\n",
        "---\n",
        "\n",
        "## **Exercício 5: Cálculo de Média e Aprovação**\n",
        "\n",
        "**Descrição:**\n",
        "\n",
        "Desenvolva um programa que solicite as notas de duas provas de um aluno. Calcule a média e determine:\n",
        "\n",
        "- Se a média for maior ou igual a 7, exibir \"Aprovado\".\n",
        "- Se a média for entre 5 e 6.9, exibir \"Recuperação\".\n",
        "- Se a média for menor que 5, exibir \"Reprovado\".\n",
        "\n",
        "**Dicas:**\n",
        "\n",
        "- Calcule a média aritmética das duas notas.\n",
        "- Use condicionais para verificar em qual faixa a média se encontra.\n",
        "\n",
        "---\n",
        "\n",
        "## **Exercício 6: Verificação de Ano Bissexto**\n",
        "\n",
        "**Descrição:**\n",
        "\n",
        "Escreva um programa que peça ao usuário um ano e determine se é um ano bissexto.\n",
        "\n",
        "**Regras para ano bissexto:**\n",
        "\n",
        "- É divisível por 4 e não por 100, ou\n",
        "- É divisível por 400.\n",
        "\n",
        "**Dicas:**\n",
        "\n",
        "- Utilize o operador `%` para verificar a divisibilidade.\n",
        "- Aplique as condições conforme as regras acima.\n",
        "\n",
        "---\n",
        "\n",
        "## **Exercício 7: Conversão de Temperaturas**\n",
        "\n",
        "**Descrição:**\n",
        "\n",
        "Crie um programa que solicite ao usuário uma temperatura em graus Celsius e a unidade para a qual deseja converter (F para Fahrenheit ou K para Kelvin). O programa deve realizar a conversão e exibir o resultado.\n",
        "\n",
        "**Fórmulas:**\n",
        "\n",
        "- Fahrenheit: \\( F = C \\times \\frac{9}{5} + 32 \\)\n",
        "- Kelvin: \\( K = C + 273.15 \\)\n",
        "\n",
        "**Dicas:**\n",
        "\n",
        "- Capture a temperatura e a unidade desejada.\n",
        "- Use condicionais para determinar qual conversão realizar.\n",
        "\n",
        "---\n",
        "\n",
        "## **Exercício 8: Login Simples**\n",
        "\n",
        "**Descrição:**\n",
        "\n",
        "Desenvolva um programa que solicite um nome de usuário e uma senha. Verifique se o nome de usuário é \"admin\" e a senha é \"12345\". Se ambos estiverem corretos, exiba \"Acesso concedido\"; caso contrário, exiba \"Acesso negado\".\n",
        "\n",
        "**Dicas:**\n",
        "\n",
        "- Utilize `input()` para capturar as entradas.\n",
        "- Compare as strings levando em conta possíveis diferenças de maiúsculas e minúsculas, se necessário.\n",
        "\n",
        "---\n",
        "\n",
        "## **Exercício 9: Cálculo de IMC**\n",
        "\n",
        "**Descrição:**\n",
        "\n",
        "Escreva um programa que solicite o peso (em kg) e a altura (em metros) de uma pessoa. Calcule o Índice de Massa Corporal (IMC) e classifique-o de acordo com a tabela:\n",
        "\n",
        "- Menor que 18.5: \"Abaixo do peso\"\n",
        "- Entre 18.5 e 24.9: \"Peso normal\"\n",
        "- Entre 25 e 29.9: \"Sobrepeso\"\n",
        "- 30 ou mais: \"Obesidade\"\n",
        "\n",
        "**Fórmula do IMC:**\n",
        "\n",
        "\\[ IMC = \\frac{peso}{altura^2} \\]\n",
        "\n",
        "**Dicas:**\n",
        "\n",
        "- Certifique-se de converter as entradas para `float`.\n",
        "- Utilize condicionais para verificar em qual faixa o IMC se enquadra.\n",
        "\n",
        "---\n",
        "\n",
        "## **Exercício 10: Jogo de Adivinhação**\n",
        "\n",
        "**Descrição:**\n",
        "\n",
        "Crie um programa que sorteie um número inteiro entre 1 e 10 (use a função `randint` do módulo `random`) e peça ao usuário para adivinhar o número. O programa deve informar se o palpite do usuário é menor, maior ou igual ao número sorteado.\n",
        "\n",
        "**Dicas:**\n",
        "\n",
        "- Importe o módulo `random` usando `import random`.\n",
        "- Use `random.randint(1, 10)` para gerar o número aleatório.\n",
        "- Utilize condicionais para comparar o palpite do usuário com o número sorteado.\n",
        "\n",
        "---\n",
        "\n",
        "## **Exercício 11**:\n",
        "Escreva uma função em Python que receba um número inteiro i_limite e, na sequência, imprime os números inteiros de 0 a i_limite;\n",
        "\n",
        "## **outros exercícios**:\n",
        "Nos sites abaixo você vai encontrar exercícios de Python:\n",
        "### https://pynative.com/python-if-else-and-for-loop-exercise-with-solutions/;\n",
        "### https://www.w3resource.com/python-exercises/"
      ]
    },
    {
      "cell_type": "code",
      "metadata": {
        "id": "Gi091pZrwbnY"
      },
      "source": [],
      "execution_count": null,
      "outputs": []
    }
  ]
}