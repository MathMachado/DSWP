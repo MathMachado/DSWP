{
  "nbformat": 4,
  "nbformat_minor": 0,
  "metadata": {
    "colab": {
      "name": "Testes Iniciais - Ensaios.ipynb",
      "provenance": [],
      "collapsed_sections": [
        "2Ua1xLbZDwny",
        "r4x0MC59C64g",
        "TbyM06TtFfLF",
        "jXNDh0daKx41",
        "Manc8hLoSiTN",
        "LDBhoLTbTZv0",
        "VE9uNSTJ41ZH",
        "2hQxjJ2b7T1o",
        "CMaUjKT7AHOY",
        "h5T3r9biCQYP",
        "wLiKR32yFlNT",
        "V_ip7E2rNLy3",
        "bUubha1SQv1O",
        "G4rHISvTTXp2",
        "xyd_W697VxI-"
      ],
      "include_colab_link": true
    },
    "kernelspec": {
      "name": "python3",
      "display_name": "Python 3"
    }
  },
  "cells": [
    {
      "cell_type": "markdown",
      "metadata": {
        "id": "view-in-github",
        "colab_type": "text"
      },
      "source": [
        "<a href=\"https://colab.research.google.com/github/DaniellePestana/DSWP/blob/master/Testes_Iniciais_Ensaios.ipynb\" target=\"_parent\"><img src=\"https://colab.research.google.com/assets/colab-badge.svg\" alt=\"Open In Colab\"/></a>"
      ]
    },
    {
      "cell_type": "markdown",
      "metadata": {
        "id": "2Ua1xLbZDwny",
        "colab_type": "text"
      },
      "source": [
        "## Comentarios"
      ]
    },
    {
      "cell_type": "code",
      "metadata": {
        "id": "3WIRjagw-l5e",
        "colab_type": "code",
        "outputId": "651a6b42-f6a3-462b-e237-ce6b34cd1c6e",
        "colab": {
          "base_uri": "https://localhost:8080/",
          "height": 34
        }
      },
      "source": [
        "# 12/10/2019 - NOTAS DA FORMAÇÃO DATA SCIENCE WITH PYTHON (DSWP)\n",
        "# Comentários de uma linha em Python\n",
        "\n",
        "# NOTA: os comentarios de multiplas linhas ficam com cor diferente ?\n",
        "'''\n",
        "Aqui você pode colocar seus comentários.\n",
        "Linha 1\n",
        "Linha 2\n",
        "...\n",
        "Linha k\n",
        "'''"
      ],
      "execution_count": 0,
      "outputs": [
        {
          "output_type": "execute_result",
          "data": {
            "text/plain": [
              "'\\nAqui você pode colocar seus comentários.\\nLinha 1\\nLinha 2\\n...\\nLinha k\\n'"
            ]
          },
          "metadata": {
            "tags": []
          },
          "execution_count": 14
        }
      ]
    },
    {
      "cell_type": "code",
      "metadata": {
        "id": "yewM8pPzADTf",
        "colab_type": "code",
        "outputId": "0f05f7f0-b01c-48ba-d7a4-87567411c669",
        "colab": {
          "base_uri": "https://localhost:8080/",
          "height": 51
        }
      },
      "source": [
        "v_teste = 'Danielle'\n",
        "print(v_teste)\n",
        "print('linha 1'\n",
        "      'linha 2'\n",
        "      'linha 3')"
      ],
      "execution_count": 0,
      "outputs": [
        {
          "output_type": "stream",
          "text": [
            "Danielle\n",
            "linha 1linha 2linha 3\n"
          ],
          "name": "stdout"
        }
      ]
    },
    {
      "cell_type": "markdown",
      "metadata": {
        "id": "r4x0MC59C64g",
        "colab_type": "text"
      },
      "source": [
        " ## Criando Funcões em Pyhton + DocString"
      ]
    },
    {
      "cell_type": "code",
      "metadata": {
        "id": "i6eacaPEDAL9",
        "colab_type": "code",
        "outputId": "43b58bcc-8227-477d-cc5b-1bf73cee5b74",
        "colab": {
          "base_uri": "https://localhost:8080/",
          "height": 34
        }
      },
      "source": [
        "def PrimeiraFuncao():\n",
        "    '''\n",
        "    Documentacao de codigo.\n",
        "    Chamamos de \"DocString\" da funcao\n",
        "    '''\n",
        "    print('Hello World')\n",
        "    \n",
        "PrimeiraFuncao()"
      ],
      "execution_count": 0,
      "outputs": [
        {
          "output_type": "stream",
          "text": [
            "Hello World\n"
          ],
          "name": "stdout"
        }
      ]
    },
    {
      "cell_type": "code",
      "metadata": {
        "id": "ohSmNzoyEfog",
        "colab_type": "code",
        "outputId": "c2188a43-2f97-4b03-927d-9d63e9426ca0",
        "colab": {
          "base_uri": "https://localhost:8080/",
          "height": 34
        }
      },
      "source": [
        "PrimeiraFuncao.__doc__"
      ],
      "execution_count": 0,
      "outputs": [
        {
          "output_type": "execute_result",
          "data": {
            "text/plain": [
              "'\\n    Documentacao de codigo.\\n    Chamamos de \"DocString\" da funcao\\n    '"
            ]
          },
          "metadata": {
            "tags": []
          },
          "execution_count": 23
        }
      ]
    },
    {
      "cell_type": "markdown",
      "metadata": {
        "id": "TbyM06TtFfLF",
        "colab_type": "text"
      },
      "source": [
        "## Variaveis"
      ]
    },
    {
      "cell_type": "code",
      "metadata": {
        "id": "lURhRZVKFhnV",
        "colab_type": "code",
        "outputId": "8e8d319a-4d16-4773-8ce7-59f32f92b8b9",
        "colab": {
          "base_uri": "https://localhost:8080/",
          "height": 252
        }
      },
      "source": [
        "s_Nome   = 'string com o nome'\n",
        "i_Idade  = 40\n",
        "f_Valor  = 4.50 # float representado por PONTO como divisor das casas decimais\n",
        "l_Pessoa = ['Diego', 'Danielle', 123, 4.5]  # lista []\n",
        "l_Pes_End= ['Diego', ['Rua 4', 'Male', 38]] # lista dentro de lista\n",
        "t_Fruta  = ('Morango','Uva','Laranja')      # Tupla ()\n",
        "\n",
        "print(s_Nome) \n",
        "print(i_Idade)\n",
        "print(f_Valor)\n",
        "print(l_Pessoa)\n",
        "\n",
        "print(l_Pes_End[1][1]) # lista dentro de lista > impressao de um indice especifico\n",
        "print(t_Fruta[0])\n",
        "print(t_Fruta[-1])\n",
        "\n",
        "l_ListaTeste = [10, 20, 30, 40, 50, 60, 70, 80, 90, 100]\n",
        "# NOTA: O primeiro indice é o ZERO. Aqui, queremos o indice 1 (incluido) ate o indice 4 (excluido)\n",
        "print(l_ListaTeste[1:4]) \n",
        "# NOTA: Contando de tras pra frente (o ultimo elemento é o UM)\n",
        "print(l_ListaTeste[-4:-1])\n",
        "\n",
        "# NOTA: Dicionario CHAVE : VALOR, CHAVE : VALOR\n",
        "d_Tradutor = {} # Dicionario {}\n",
        "d_Tradutor = {'Nome' : 'Danielle', 'Estado Civil' : 'Casada', 'Idade' : 40}\n",
        "# Podemos adicionar os elementos de um dicionario ao longo do programa\n",
        "d_Tradutor['Cidade'] = 'Lisboa'\n",
        "d_Tradutor[3.1416] = 'PI'\n",
        "d_Tradutor"
      ],
      "execution_count": 0,
      "outputs": [
        {
          "output_type": "stream",
          "text": [
            "string com o nome\n",
            "40\n",
            "4.5\n",
            "['Diego', 'Danielle', 123, 4.5]\n",
            "Male\n",
            "Morango\n",
            "Laranja\n",
            "[20, 30, 40]\n",
            "[70, 80, 90]\n"
          ],
          "name": "stdout"
        },
        {
          "output_type": "execute_result",
          "data": {
            "text/plain": [
              "{3.1416: 'PI',\n",
              " 'Cidade': 'Lisboa',\n",
              " 'Estado Civil': 'Casada',\n",
              " 'Idade': 40,\n",
              " 'Nome': 'Danielle'}"
            ]
          },
          "metadata": {
            "tags": []
          },
          "execution_count": 1
        }
      ]
    },
    {
      "cell_type": "markdown",
      "metadata": {
        "id": "jXNDh0daKx41",
        "colab_type": "text"
      },
      "source": [
        "## TUPLAS sao imutaveis (nao podem sem alteradas)\n",
        "\n",
        "Tupla é uma Lista imutável. O que diferencia a Estrutura de Dados Lista da Estrutura de Dados Tupla é que a primeira pode ter elementos adicionados a qualquer momento, enquanto que a segunda estrutura, após definida, não permite a adição ou remoção de elementos.\n",
        "\n",
        "Mas, como contorno, podemos converter a TUPLA em LISTA, alterar o valor do indice, e converter novamente para TUPLA.\n",
        "\n",
        "\n",
        "Os elementos de uma lista são delimitados por colchetes, enquanto que os elementos de uma tupla por parêntesis.\n",
        "\n",
        "> Os elementos de uma Tupla devem ser separados por vírgulas e podem (ou não) ser delimitados por parêntesis."
      ]
    },
    {
      "cell_type": "markdown",
      "metadata": {
        "id": "_bU_DwvyUDQO",
        "colab_type": "text"
      },
      "source": [
        "**TUPLE()**\n",
        "\n",
        "\n",
        "**LIST []**\n",
        "\n",
        "**DIC{}**"
      ]
    },
    {
      "cell_type": "code",
      "metadata": {
        "id": "zzco_PkJH4yO",
        "colab_type": "code",
        "outputId": "b9ec620c-f59e-4705-bb73-b2d9f7918dce",
        "colab": {
          "base_uri": "https://localhost:8080/",
          "height": 34
        }
      },
      "source": [
        "# Criando uma TUPLA\n",
        "x = (\"apple\", \"banana\", \"cherry\")\n",
        "\n",
        "# Convertendo a TUPLA em LISTA\n",
        "y = list(x)\n",
        "\n",
        "# alterando o indice UM da LISTA\n",
        "y[1] = \"kiwi\"\n",
        "\n",
        "# convertendo a LISTA em TUPLA\n",
        "x = tuple(y)\n",
        "\n",
        "print(x)"
      ],
      "execution_count": 0,
      "outputs": [
        {
          "output_type": "stream",
          "text": [
            "('apple', 'kiwi', 'cherry')\n"
          ],
          "name": "stdout"
        }
      ]
    },
    {
      "cell_type": "code",
      "metadata": {
        "id": "IhojqgFdPjQv",
        "colab_type": "code",
        "outputId": "63bef887-947d-4f33-9e3a-ff8d39e7bce5",
        "colab": {
          "base_uri": "https://localhost:8080/",
          "height": 51
        }
      },
      "source": [
        "t_TuplaTeste = 1,2,3\n",
        "print(t_TuplaTeste)\n",
        "type(t_TuplaTeste)"
      ],
      "execution_count": 0,
      "outputs": [
        {
          "output_type": "stream",
          "text": [
            "(1, 2, 3)\n"
          ],
          "name": "stdout"
        },
        {
          "output_type": "execute_result",
          "data": {
            "text/plain": [
              "tuple"
            ]
          },
          "metadata": {
            "tags": []
          },
          "execution_count": 74
        }
      ]
    },
    {
      "cell_type": "markdown",
      "metadata": {
        "id": "Manc8hLoSiTN",
        "colab_type": "text"
      },
      "source": [
        "## Palavras Reservadas"
      ]
    },
    {
      "cell_type": "code",
      "metadata": {
        "id": "eYDm7hajR_6T",
        "colab_type": "code",
        "outputId": "0060cb4b-fe15-44a9-e220-1d32dd341704",
        "colab": {
          "base_uri": "https://localhost:8080/",
          "height": 34
        }
      },
      "source": [
        "import keyword\n",
        "keyword.iskeyword('lambda')\n"
      ],
      "execution_count": 0,
      "outputs": [
        {
          "output_type": "execute_result",
          "data": {
            "text/plain": [
              "True"
            ]
          },
          "metadata": {
            "tags": []
          },
          "execution_count": 89
        }
      ]
    },
    {
      "cell_type": "markdown",
      "metadata": {
        "id": "LDBhoLTbTZv0",
        "colab_type": "text"
      },
      "source": [
        "## Deletar variaveis (?)"
      ]
    },
    {
      "cell_type": "code",
      "metadata": {
        "id": "Cqlev4EoTd4R",
        "colab_type": "code",
        "colab": {}
      },
      "source": [
        "l_Nome = ['Danielle', 'Diego', 'Neide']\n",
        "del l_Nome"
      ],
      "execution_count": 0,
      "outputs": []
    },
    {
      "cell_type": "markdown",
      "metadata": {
        "id": "VE9uNSTJ41ZH",
        "colab_type": "text"
      },
      "source": [
        "# Operações Aritméticas"
      ]
    },
    {
      "cell_type": "code",
      "metadata": {
        "id": "LeRwoNYL45U7",
        "colab_type": "code",
        "outputId": "36918102-8b4a-42b7-d8df-9a8ee459cbb3",
        "colab": {
          "base_uri": "https://localhost:8080/",
          "height": 118
        }
      },
      "source": [
        "A = 10\n",
        "B = 3\n",
        "print('Divisao =', (A/B))  # divisao\n",
        "print('Quociente =', A // B) # apenas o quociente\n",
        "print('Resto =', A % B)  # apenas o resto\n",
        "print('Potencia =', A ** B) # potencia\n",
        "\n",
        "# Radiciação: todo número elevado ao seu inverso é a sua raiz, isto é, basta elevarmos N a (1/2) que iremos obter a raiz quadrada de N.\n",
        "print('Raiz Quadrada =', 9 ** (1/2))\n",
        "print('Raiz Cubica = ', 9 ** (1/3))"
      ],
      "execution_count": 0,
      "outputs": [
        {
          "output_type": "stream",
          "text": [
            "Divisao = 3.3333333333333335\n",
            "Quociente = 3\n",
            "Resto = 1\n",
            "Potencia = 1000\n",
            "Raiz Quadrada = 3.0\n",
            "Raiz Cubica =  2.080083823051904\n"
          ],
          "name": "stdout"
        }
      ]
    },
    {
      "cell_type": "markdown",
      "metadata": {
        "id": "2hQxjJ2b7T1o",
        "colab_type": "text"
      },
      "source": [
        "#Função PRINT()"
      ]
    },
    {
      "cell_type": "code",
      "metadata": {
        "id": "28DBw72o7YX2",
        "colab_type": "code",
        "outputId": "99651f5b-f1f5-44c8-c246-8113e10c06c1",
        "colab": {
          "base_uri": "https://localhost:8080/",
          "height": 34
        }
      },
      "source": [
        "print('Texto qualquer cujo separador foi alterado','Segunda parte do texto',sep='@')"
      ],
      "execution_count": 0,
      "outputs": [
        {
          "output_type": "stream",
          "text": [
            "Texto qualquer cujo separador foi alterado@Segunda parte do texto\n"
          ],
          "name": "stdout"
        }
      ]
    },
    {
      "cell_type": "code",
      "metadata": {
        "id": "CLFRctIQ7gJH",
        "colab_type": "code",
        "outputId": "98201e0f-8a05-4532-e5fa-5c6e86b736c3",
        "colab": {
          "base_uri": "https://localhost:8080/",
          "height": 67
        }
      },
      "source": [
        "print('Novo texto','com enter entre o que deve','ser concatenado',sep='\\n')"
      ],
      "execution_count": 0,
      "outputs": [
        {
          "output_type": "stream",
          "text": [
            "Novo texto\n",
            "com enter entre o que deve\n",
            "ser concatenado\n"
          ],
          "name": "stdout"
        }
      ]
    },
    {
      "cell_type": "code",
      "metadata": {
        "id": "fUF4jJ_l7_nG",
        "colab_type": "code",
        "outputId": "5852d651-e3e6-4c2d-aa28-7e74e8eed330",
        "colab": {
          "base_uri": "https://localhost:8080/",
          "height": 84
        }
      },
      "source": [
        "print('Passos para estudar:','Fazer o mais importante primeiro','Concentrar','Silenciar', sep = '\\n * ')"
      ],
      "execution_count": 0,
      "outputs": [
        {
          "output_type": "stream",
          "text": [
            "Passos para estudar:\n",
            " * Fazer o mais importante primeiro\n",
            " * Concentrar\n",
            " * Silenciar\n"
          ],
          "name": "stdout"
        }
      ]
    },
    {
      "cell_type": "code",
      "metadata": {
        "id": "IFf-o_Hv9lFB",
        "colab_type": "code",
        "outputId": "c69319e3-c7fa-4b44-cb6d-a79af29c89a3",
        "colab": {
          "base_uri": "https://localhost:8080/",
          "height": 34
        }
      },
      "source": [
        "i_A = 2.3435\n",
        "i_B = 10.5555\n",
        "print('O primeiro numero é {:.2f} e o segundo numero é {:.3f}'.format(i_A, i_B))"
      ],
      "execution_count": 0,
      "outputs": [
        {
          "output_type": "stream",
          "text": [
            "O primeiro numero é 2.34 e o segundo numero é 10.556\n"
          ],
          "name": "stdout"
        }
      ]
    },
    {
      "cell_type": "markdown",
      "metadata": {
        "id": "CMaUjKT7AHOY",
        "colab_type": "text"
      },
      "source": [
        "#F-Strings"
      ]
    },
    {
      "cell_type": "code",
      "metadata": {
        "id": "B54NkNG3AKau",
        "colab_type": "code",
        "outputId": "8e22f6c8-6a92-401f-cb4f-a60bbec31a99",
        "colab": {
          "base_uri": "https://localhost:8080/",
          "height": 34
        }
      },
      "source": [
        "s_Nome = 'Danielle'\n",
        "i_Idade = 40\n",
        "f'Meu nome é {s_Nome} e eu tenho {i_Idade} anos.'"
      ],
      "execution_count": 0,
      "outputs": [
        {
          "output_type": "execute_result",
          "data": {
            "text/plain": [
              "'Meu nome é Danielle e eu tenho 40 anos.'"
            ]
          },
          "metadata": {
            "tags": []
          },
          "execution_count": 56
        }
      ]
    },
    {
      "cell_type": "code",
      "metadata": {
        "id": "6cU5V4rVAv0S",
        "colab_type": "code",
        "outputId": "a0606c82-c1cf-4e66-e3bb-1bfdb9325b14",
        "colab": {
          "base_uri": "https://localhost:8080/",
          "height": 34
        }
      },
      "source": [
        "def Converte2Upper(s_Input):\n",
        "    return s_Input.upper()\n",
        "\n",
        "s_Nome = 'Danielle'\n",
        "f'Meu nome é {Converte2Upper(s_Nome)}'"
      ],
      "execution_count": 0,
      "outputs": [
        {
          "output_type": "execute_result",
          "data": {
            "text/plain": [
              "'Meu nome é DANIELLE'"
            ]
          },
          "metadata": {
            "tags": []
          },
          "execution_count": 60
        }
      ]
    },
    {
      "cell_type": "markdown",
      "metadata": {
        "id": "h5T3r9biCQYP",
        "colab_type": "text"
      },
      "source": [
        "#ROUND(), FLOOR(), CEIL(), TRUNC()"
      ]
    },
    {
      "cell_type": "code",
      "metadata": {
        "id": "cxZ1uJnhCR4c",
        "colab_type": "code",
        "outputId": "d810f438-c5b3-4676-8d94-90e70829a8f8",
        "colab": {
          "base_uri": "https://localhost:8080/",
          "height": 84
        }
      },
      "source": [
        "import math as mt\n",
        "A = 10\n",
        "B = 3\n",
        "\n",
        "print(A/B)\n",
        "\n",
        "f'{round(A/B, 4)}'\n",
        "f'{round(5.59095,4)}' # arredondamento\n",
        "print('FLOOR > Maior valor inteiro menos que 5.59095 =', mt.floor(5.59095))\n",
        "print('CEIL > Proximo valor inteiro maior ou igual a 5.59095 =', mt.ceil(5.59095))\n",
        "print('TRUNC > Parte inteira de 5.59095 =', mt.trunc(5.59095) )\n"
      ],
      "execution_count": 0,
      "outputs": [
        {
          "output_type": "stream",
          "text": [
            "3.3333333333333335\n",
            "FLOOR > Maior valor inteiro menos que 5.59095 = 5\n",
            "CEIL > Proximo valor inteiro maior ou igual a 5.59095 = 6\n",
            "TRUNC > Parte inteira de 5.59095 = 5\n"
          ],
          "name": "stdout"
        }
      ]
    },
    {
      "cell_type": "code",
      "metadata": {
        "id": "8IprRmWMEdnS",
        "colab_type": "code",
        "outputId": "fcc2d7ad-d472-4d48-c8cf-e89ba86619fa",
        "colab": {
          "base_uri": "https://localhost:8080/",
          "height": 34
        }
      },
      "source": [
        "C = 13/3 # 4.333333333333333\n",
        "f'O valor de C é {C:{8}.{4}}' # 8 espacos antes (?) com 4 decimais"
      ],
      "execution_count": 0,
      "outputs": [
        {
          "output_type": "execute_result",
          "data": {
            "text/plain": [
              "'O valor de C é    4.333'"
            ]
          },
          "metadata": {
            "tags": []
          },
          "execution_count": 102
        }
      ]
    },
    {
      "cell_type": "markdown",
      "metadata": {
        "id": "wLiKR32yFlNT",
        "colab_type": "text"
      },
      "source": [
        "## Operadores de Comparacao"
      ]
    },
    {
      "cell_type": "code",
      "metadata": {
        "id": "GP-9MsXwE8B0",
        "colab_type": "code",
        "outputId": "4b57d9f0-d1ff-4778-a90d-1f34fc520da6",
        "colab": {
          "base_uri": "https://localhost:8080/",
          "height": 34
        }
      },
      "source": [
        "3 == 4"
      ],
      "execution_count": 0,
      "outputs": [
        {
          "output_type": "execute_result",
          "data": {
            "text/plain": [
              "False"
            ]
          },
          "metadata": {
            "tags": []
          },
          "execution_count": 103
        }
      ]
    },
    {
      "cell_type": "code",
      "metadata": {
        "id": "sdy36t88FqT8",
        "colab_type": "code",
        "outputId": "eea59e4a-f989-4e03-da38-13262e56201d",
        "colab": {
          "base_uri": "https://localhost:8080/",
          "height": 34
        }
      },
      "source": [
        "3 != 4"
      ],
      "execution_count": 0,
      "outputs": [
        {
          "output_type": "execute_result",
          "data": {
            "text/plain": [
              "True"
            ]
          },
          "metadata": {
            "tags": []
          },
          "execution_count": 104
        }
      ]
    },
    {
      "cell_type": "code",
      "metadata": {
        "id": "3FSUgQvNFr6F",
        "colab_type": "code",
        "outputId": "6c4eede0-ed76-4e70-a7d5-302e939bb731",
        "colab": {
          "base_uri": "https://localhost:8080/",
          "height": 129
        }
      },
      "source": [
        "3 <> 4"
      ],
      "execution_count": 0,
      "outputs": [
        {
          "output_type": "error",
          "ename": "SyntaxError",
          "evalue": "ignored",
          "traceback": [
            "\u001b[0;36m  File \u001b[0;32m\"<ipython-input-105-332fff030eda>\"\u001b[0;36m, line \u001b[0;32m1\u001b[0m\n\u001b[0;31m    3 <> 4\u001b[0m\n\u001b[0m       ^\u001b[0m\n\u001b[0;31mSyntaxError\u001b[0m\u001b[0;31m:\u001b[0m invalid syntax\n"
          ]
        }
      ]
    },
    {
      "cell_type": "code",
      "metadata": {
        "id": "HtzHZEaCFtKI",
        "colab_type": "code",
        "outputId": "62081f6e-e805-41c1-c121-427a91a2206b",
        "colab": {
          "base_uri": "https://localhost:8080/",
          "height": 34
        }
      },
      "source": [
        "import numpy as np\n",
        "a_X = np.array([])\n",
        "a_X = ([1,2,3,4,5,6,7,8,9,10])\n",
        "a_X\n",
        "#type(a_X) #array ou lista???"
      ],
      "execution_count": 0,
      "outputs": [
        {
          "output_type": "execute_result",
          "data": {
            "text/plain": [
              "[1, 2, 3, 4, 5, 6, 7, 8, 9, 10]"
            ]
          },
          "metadata": {
            "tags": []
          },
          "execution_count": 206
        }
      ]
    },
    {
      "cell_type": "code",
      "metadata": {
        "id": "J9Yf4CsXGrpy",
        "colab_type": "code",
        "outputId": "e0932434-ae54-4978-c73e-f07a11ea594c",
        "colab": {
          "base_uri": "https://localhost:8080/",
          "height": 34
        }
      },
      "source": [
        "a_X == 3"
      ],
      "execution_count": 0,
      "outputs": [
        {
          "output_type": "execute_result",
          "data": {
            "text/plain": [
              "False"
            ]
          },
          "metadata": {
            "tags": []
          },
          "execution_count": 114
        }
      ]
    },
    {
      "cell_type": "code",
      "metadata": {
        "id": "bP41Lp29GuQl",
        "colab_type": "code",
        "outputId": "d1eef643-0ba9-4677-f0dc-285f0b7b4319",
        "colab": {
          "base_uri": "https://localhost:8080/",
          "height": 50
        }
      },
      "source": [
        "a_X == np.array([1, 2, 3, 4, 5, 6, 7, 8, 9, 10])\n",
        "#type(np.array([1, 2, 3, 4, 5, 6, 7, 8, 9, 10]))"
      ],
      "execution_count": 0,
      "outputs": [
        {
          "output_type": "execute_result",
          "data": {
            "text/plain": [
              "array([ True,  True,  True,  True,  True,  True,  True,  True,  True,\n",
              "        True])"
            ]
          },
          "metadata": {
            "tags": []
          },
          "execution_count": 215
        }
      ]
    },
    {
      "cell_type": "code",
      "metadata": {
        "id": "2bXq7ubzG4U5",
        "colab_type": "code",
        "outputId": "8a2a150e-1a9b-4d38-e46c-714b0446d082",
        "colab": {
          "base_uri": "https://localhost:8080/",
          "height": 521
        }
      },
      "source": [
        "a_X * 3 # repete 3 vezes o conteudo! (isso é uma lista) \n",
        "#type(a_X)"
      ],
      "execution_count": 0,
      "outputs": [
        {
          "output_type": "execute_result",
          "data": {
            "text/plain": [
              "[1,\n",
              " 2,\n",
              " 3,\n",
              " 4,\n",
              " 5,\n",
              " 6,\n",
              " 7,\n",
              " 8,\n",
              " 9,\n",
              " 10,\n",
              " 1,\n",
              " 2,\n",
              " 3,\n",
              " 4,\n",
              " 5,\n",
              " 6,\n",
              " 7,\n",
              " 8,\n",
              " 9,\n",
              " 10,\n",
              " 1,\n",
              " 2,\n",
              " 3,\n",
              " 4,\n",
              " 5,\n",
              " 6,\n",
              " 7,\n",
              " 8,\n",
              " 9,\n",
              " 10]"
            ]
          },
          "metadata": {
            "tags": []
          },
          "execution_count": 200
        }
      ]
    },
    {
      "cell_type": "code",
      "metadata": {
        "id": "8VIPJO53OaV4",
        "colab_type": "code",
        "colab": {}
      },
      "source": [
        ""
      ],
      "execution_count": 0,
      "outputs": []
    },
    {
      "cell_type": "markdown",
      "metadata": {
        "id": "V_ip7E2rNLy3",
        "colab_type": "text"
      },
      "source": [
        "## Random"
      ]
    },
    {
      "cell_type": "code",
      "metadata": {
        "id": "WNetIb1cHMVS",
        "colab_type": "code",
        "outputId": "1c620d51-86f3-4a1c-aac3-682ce306d4d4",
        "colab": {
          "base_uri": "https://localhost:8080/",
          "height": 34
        }
      },
      "source": [
        "import numpy as np\n",
        "#help(np.random.randint)\n",
        "\n",
        "# Return random integers from `low` (inclusive) to `high` (exclusive).\n",
        "# randint(low, high=None, size=None, dtype='l')\n",
        "i_Num = np.random.randint(2,4,size=1, dtype='l')\n",
        "f'Que numero é {i_Num} e o tipo é {type(i_Num)}' #criou um array aleatorio por causa do parametro SIZE"
      ],
      "execution_count": 0,
      "outputs": [
        {
          "output_type": "execute_result",
          "data": {
            "text/plain": [
              "\"Que numero é [2] e o tipo é <class 'numpy.ndarray'>\""
            ]
          },
          "metadata": {
            "tags": []
          },
          "execution_count": 187
        }
      ]
    },
    {
      "cell_type": "code",
      "metadata": {
        "id": "YcIlzUu_MunU",
        "colab_type": "code",
        "outputId": "c7e3bd44-6a8e-4c5f-b59d-224bf8cde0ca",
        "colab": {
          "base_uri": "https://localhost:8080/",
          "height": 34
        }
      },
      "source": [
        "i_Num = np.random.randint(25,100)\n",
        "f'Que numero é {i_Num} e o tipo é {type(i_Num)}' "
      ],
      "execution_count": 0,
      "outputs": [
        {
          "output_type": "execute_result",
          "data": {
            "text/plain": [
              "\"Que numero é 92 e o tipo é <class 'int'>\""
            ]
          },
          "metadata": {
            "tags": []
          },
          "execution_count": 188
        }
      ]
    },
    {
      "cell_type": "code",
      "metadata": {
        "id": "794ORdetNYCa",
        "colab_type": "code",
        "outputId": "c2ec3c80-712b-4757-fa40-d67addcff494",
        "colab": {
          "base_uri": "https://localhost:8080/",
          "height": 50
        }
      },
      "source": [
        "\n",
        "#Criar numeros aleatorios de matrizes (2 linhas e 4 colunas)\n",
        "   #Menor valor sera 10 (inclusive) e maior valor possivel sera 20 (excluido)\n",
        "a_Matriz = np.random.randint(low=10, high=20, size=(2,4)) \n",
        "\n",
        "f'{a_Matriz} e seu tipo é {type(a_Matriz)}'\n",
        "a_Matriz"
      ],
      "execution_count": 0,
      "outputs": [
        {
          "output_type": "execute_result",
          "data": {
            "text/plain": [
              "array([[17, 13, 10, 17],\n",
              "       [18, 15, 12, 12]])"
            ]
          },
          "metadata": {
            "tags": []
          },
          "execution_count": 217
        }
      ]
    },
    {
      "cell_type": "code",
      "metadata": {
        "id": "Q4my0iRYNx0B",
        "colab_type": "code",
        "outputId": "738e4b3c-688a-4a4c-db56-3bbf227eaa87",
        "colab": {
          "base_uri": "https://localhost:8080/",
          "height": 50
        }
      },
      "source": [
        "a_Matriz == 3"
      ],
      "execution_count": 0,
      "outputs": [
        {
          "output_type": "execute_result",
          "data": {
            "text/plain": [
              "array([[False, False, False, False],\n",
              "       [False, False, False, False]])"
            ]
          },
          "metadata": {
            "tags": []
          },
          "execution_count": 195
        }
      ]
    },
    {
      "cell_type": "code",
      "metadata": {
        "id": "XicD9PxpN6un",
        "colab_type": "code",
        "outputId": "06609601-b8c3-4957-b655-a28a6bcaf5c5",
        "colab": {
          "base_uri": "https://localhost:8080/",
          "height": 50
        }
      },
      "source": [
        "a_Matriz * 3"
      ],
      "execution_count": 0,
      "outputs": [
        {
          "output_type": "execute_result",
          "data": {
            "text/plain": [
              "array([[42, 42, 39, 36],\n",
              "       [36, 39, 42, 42]])"
            ]
          },
          "metadata": {
            "tags": []
          },
          "execution_count": 197
        }
      ]
    },
    {
      "cell_type": "markdown",
      "metadata": {
        "id": "bUubha1SQv1O",
        "colab_type": "text"
      },
      "source": [
        "##IF"
      ]
    },
    {
      "cell_type": "code",
      "metadata": {
        "id": "iEovFqpBQxdD",
        "colab_type": "code",
        "outputId": "c1d408d2-b727-4ce7-fdc0-7e25181b90bf",
        "colab": {
          "base_uri": "https://localhost:8080/",
          "height": 34
        }
      },
      "source": [
        "def AvaliaIdade(i_Idade1, i_Idade2):\n",
        "    if (i_Idade1 > i_Idade2):\n",
        "        s_Mensagem = f'A idade {i_Idade1} é maior que {i_Idade2}'\n",
        "    elif (i_Idade1 == i_Idade2):\n",
        "        s_Mensagem = f'A idade {i_Idade1} é igual que {i_Idade2}'\n",
        "    else:\n",
        "        s_Mensagem = f'A idade {i_Idade1} é menor que {i_Idade2}'\n",
        "    print(s_Mensagem)    \n",
        "        \n",
        "AvaliaIdade(45,50)        "
      ],
      "execution_count": 0,
      "outputs": [
        {
          "output_type": "stream",
          "text": [
            "A idade 45 é menor que 50\n"
          ],
          "name": "stdout"
        }
      ]
    },
    {
      "cell_type": "code",
      "metadata": {
        "id": "W8Bb-X5bSN5S",
        "colab_type": "code",
        "outputId": "06f37e43-c631-4ad7-f336-239d2dedc1c3",
        "colab": {
          "base_uri": "https://localhost:8080/",
          "height": 34
        }
      },
      "source": [
        "if 1: # UM equivale ao valor boleano TRUE \n",
        "    print('Teste')\n",
        "else:\n",
        "    print('Nada')"
      ],
      "execution_count": 0,
      "outputs": [
        {
          "output_type": "stream",
          "text": [
            "Teste\n"
          ],
          "name": "stdout"
        }
      ]
    },
    {
      "cell_type": "code",
      "metadata": {
        "id": "NiCn9omQSQrS",
        "colab_type": "code",
        "outputId": "f9c95a8b-a135-40c8-83ef-2c37a47e9bab",
        "colab": {
          "base_uri": "https://localhost:8080/",
          "height": 50
        }
      },
      "source": [
        "if True: print('Dani'); print('elle')"
      ],
      "execution_count": 0,
      "outputs": [
        {
          "output_type": "stream",
          "text": [
            "Dani\n",
            "elle\n"
          ],
          "name": "stdout"
        }
      ]
    },
    {
      "cell_type": "markdown",
      "metadata": {
        "id": "G4rHISvTTXp2",
        "colab_type": "text"
      },
      "source": [
        "#WHILE"
      ]
    },
    {
      "cell_type": "code",
      "metadata": {
        "id": "I1sDS08BTZ9f",
        "colab_type": "code",
        "colab": {}
      },
      "source": [
        "def FacaEnquanto(i_Inicio, i_Limite):\n",
        "    while i_Inicio <= i_Limite:\n",
        "        print(f'O numero é {i_Inicio}')    \n",
        "        \n",
        "        if ((i_Inicio > 1) and (i_Inicio%2) == 0):\n",
        "            break\n",
        "        \n",
        "        i_Inicio += 1\n",
        "    else:\n",
        "        print('Acabou')\n"
      ],
      "execution_count": 0,
      "outputs": []
    },
    {
      "cell_type": "code",
      "metadata": {
        "id": "BVpxm82TUl7Q",
        "colab_type": "code",
        "outputId": "17f8550a-f7fe-4b8b-cb87-d9093d324c58",
        "colab": {
          "base_uri": "https://localhost:8080/",
          "height": 50
        }
      },
      "source": [
        "FacaEnquanto(1,3)"
      ],
      "execution_count": 0,
      "outputs": [
        {
          "output_type": "stream",
          "text": [
            "O numero é 1\n",
            "O numero é 2\n"
          ],
          "name": "stdout"
        }
      ]
    },
    {
      "cell_type": "markdown",
      "metadata": {
        "id": "xyd_W697VxI-",
        "colab_type": "text"
      },
      "source": [
        "#LOOP"
      ]
    },
    {
      "cell_type": "code",
      "metadata": {
        "id": "Sxc2PyFKU03n",
        "colab_type": "code",
        "outputId": "83014844-bb36-488f-b141-04b97b65d714",
        "colab": {
          "base_uri": "https://localhost:8080/",
          "height": 101
        }
      },
      "source": [
        "# Definir uma lista\n",
        "l_Vogais = ['a','e','i','o','u']\n",
        "\n",
        "for i in l_Vogais:\n",
        "    print(f'A vogal é {i}')"
      ],
      "execution_count": 0,
      "outputs": [
        {
          "output_type": "stream",
          "text": [
            "A vogal é a\n",
            "A vogal é e\n",
            "A vogal é i\n",
            "A vogal é o\n",
            "A vogal é u\n"
          ],
          "name": "stdout"
        }
      ]
    },
    {
      "cell_type": "code",
      "metadata": {
        "id": "p5QAPCmNWG87",
        "colab_type": "code",
        "outputId": "c9d9a780-f7c9-4cee-a829-bc92e5edfe95",
        "colab": {
          "base_uri": "https://localhost:8080/",
          "height": 151
        }
      },
      "source": [
        "for i in 'Danielle':\n",
        "    print(i)"
      ],
      "execution_count": 0,
      "outputs": [
        {
          "output_type": "stream",
          "text": [
            "D\n",
            "a\n",
            "n\n",
            "i\n",
            "e\n",
            "l\n",
            "l\n",
            "e\n"
          ],
          "name": "stdout"
        }
      ]
    },
    {
      "cell_type": "code",
      "metadata": {
        "id": "oL0EK4GbXAl7",
        "colab_type": "code",
        "outputId": "3119ea8f-72c1-4546-e436-cf4f5fcdedbc",
        "colab": {
          "base_uri": "https://localhost:8080/",
          "height": 202
        }
      },
      "source": [
        "l_Pais = ['Brasil','Belgica','Portugal','Italia','Franca']\n",
        "#print(range(len(l_Pais)))\n",
        "for i in range(len(l_Pais)):\n",
        "    print(f'Indice {i} = {l_Pais[i]}')\n",
        "    \n",
        "print()\n",
        "for i in l_Pais:\n",
        "    print(i)\n"
      ],
      "execution_count": 0,
      "outputs": [
        {
          "output_type": "stream",
          "text": [
            "Indice 0 = Brasil\n",
            "Indice 1 = Belgica\n",
            "Indice 2 = Portugal\n",
            "Indice 3 = Italia\n",
            "Indice 4 = Franca\n",
            "\n",
            "Brasil\n",
            "Belgica\n",
            "Portugal\n",
            "Italia\n",
            "Franca\n"
          ],
          "name": "stdout"
        }
      ]
    },
    {
      "cell_type": "markdown",
      "metadata": {
        "id": "P4pdPuQtbRgo",
        "colab_type": "text"
      },
      "source": [
        "##NUMPY"
      ]
    },
    {
      "cell_type": "code",
      "metadata": {
        "id": "UdEVYyDWbSwY",
        "colab_type": "code",
        "colab": {}
      },
      "source": [
        "import numpy as np"
      ],
      "execution_count": 0,
      "outputs": []
    },
    {
      "cell_type": "code",
      "metadata": {
        "id": "SQC4wPIPbYXR",
        "colab_type": "code",
        "colab": {}
      },
      "source": [
        "help(np.set_printoptions)"
      ],
      "execution_count": 0,
      "outputs": []
    },
    {
      "cell_type": "code",
      "metadata": {
        "id": "p24OdEIOdCrc",
        "colab_type": "code",
        "colab": {}
      },
      "source": [
        "help(np.random.normal)"
      ],
      "execution_count": 0,
      "outputs": []
    },
    {
      "cell_type": "code",
      "metadata": {
        "id": "oSeWeNh0b2xH",
        "colab_type": "code",
        "outputId": "983273dc-a621-4bf9-8094-1f6fbb9f6c41",
        "colab": {
          "base_uri": "https://localhost:8080/",
          "height": 50
        }
      },
      "source": [
        "\n",
        "np.set_printoptions(precision = 4, suppress = True)\n",
        "# np.set_printoptions() # volta para valores default\n",
        "\n",
        "'''\n",
        "Define seed por questões de reproducibilidade, ou seja, \n",
        "garante que todos vamos gerar os mesmos números aleatórios\n",
        "'''\n",
        "np.random.seed(seed = 27031979)\n",
        "\n",
        "\n",
        "# Exemplo que usei anteriormente\n",
        "# i_Num = np.random.randint(2,4,size=1, dtype='l'); print(i_Num)\n",
        "\n",
        "mu = 0\n",
        "sigma = 2\n",
        "v_Array= np.random.normal(mu, sigma, size= 10) # Array 1D de size= 10\n",
        "v_Array"
      ],
      "execution_count": 0,
      "outputs": [
        {
          "output_type": "execute_result",
          "data": {
            "text/plain": [
              "array([-0.1447, -0.646 , -1.0161, -2.1605,  1.1235,  1.6243,  1.1402,\n",
              "        2.0511,  0.1722,  1.5833])"
            ]
          },
          "metadata": {
            "tags": []
          },
          "execution_count": 59
        }
      ]
    },
    {
      "cell_type": "code",
      "metadata": {
        "id": "ts7fkp5weKRG",
        "colab_type": "code",
        "colab": {}
      },
      "source": [
        "help(np.mean) # media aritmetica\n",
        "help(np.std) #desvio padrao"
      ],
      "execution_count": 0,
      "outputs": []
    },
    {
      "cell_type": "code",
      "metadata": {
        "id": "rOd0sbzFfm8i",
        "colab_type": "code",
        "outputId": "6e2bc082-c6dd-4cce-d3c7-d8121f10d1d8",
        "colab": {
          "base_uri": "https://localhost:8080/",
          "height": 34
        }
      },
      "source": [
        "v_Media = np.array([2,4,6,8,10])\n",
        "np.mean(v_Media) #media\n",
        "np.std(v_Media) #desvio padrao"
      ],
      "execution_count": 0,
      "outputs": [
        {
          "output_type": "execute_result",
          "data": {
            "text/plain": [
              "2.8284271247461903"
            ]
          },
          "metadata": {
            "tags": []
          },
          "execution_count": 76
        }
      ]
    },
    {
      "cell_type": "markdown",
      "metadata": {
        "id": "bpxp6zoei2uD",
        "colab_type": "text"
      },
      "source": [
        "**Laboratorio 1**"
      ]
    },
    {
      "cell_type": "code",
      "metadata": {
        "id": "UXfCytgNgobd",
        "colab_type": "code",
        "outputId": "f824a969-0202-4dae-b473-00f26cce2fde",
        "colab": {
          "base_uri": "https://localhost:8080/",
          "height": 406
        }
      },
      "source": [
        "import numpy as np\n",
        "np.set_printoptions(precision = 2, suppress = True)\n",
        "\n",
        "#Define seed (para reproducibilidade)\n",
        "np.random.seed(seed = 27031979)\n",
        "\n",
        "# Define a media e desvio padrao\n",
        "mu = 0\n",
        "sigma = 1\n",
        "for i in [0,100, 1000, 10000, 100000, 1000000]:\n",
        "    v_Array= np.random.normal(mu, sigma, size=i) \n",
        "    #print(v_Array)\n",
        "    print(f'Tamnho {i} \\n   Distribuicao Normal N({np.mean(v_Array)}, {np.std(v_Array)})')"
      ],
      "execution_count": 0,
      "outputs": [
        {
          "output_type": "stream",
          "text": [
            "Tamnho 0 \n",
            "   Distribuicao Normal N(nan, nan)\n",
            "Tamnho 100 \n",
            "   Distribuicao Normal N(0.04224826266585371, 1.0051525925711935)\n",
            "Tamnho 1000 \n",
            "   Distribuicao Normal N(0.026602058853514608, 0.9802245432463518)\n",
            "Tamnho 10000 \n",
            "   Distribuicao Normal N(-0.01037062644967241, 1.0042312204002735)\n",
            "Tamnho 100000 \n",
            "   Distribuicao Normal N(0.0024246846574069265, 1.0003356931235659)\n",
            "Tamnho 1000000 \n",
            "   Distribuicao Normal N(0.0014251888746623506, 0.9993750873131747)\n"
          ],
          "name": "stdout"
        },
        {
          "output_type": "stream",
          "text": [
            "/usr/local/lib/python3.6/dist-packages/numpy/core/fromnumeric.py:3118: RuntimeWarning: Mean of empty slice.\n",
            "  out=out, **kwargs)\n",
            "/usr/local/lib/python3.6/dist-packages/numpy/core/_methods.py:85: RuntimeWarning: invalid value encountered in double_scalars\n",
            "  ret = ret.dtype.type(ret / rcount)\n",
            "/usr/local/lib/python3.6/dist-packages/numpy/core/_methods.py:140: RuntimeWarning: Degrees of freedom <= 0 for slice\n",
            "  keepdims=keepdims)\n",
            "/usr/local/lib/python3.6/dist-packages/numpy/core/_methods.py:110: RuntimeWarning: invalid value encountered in true_divide\n",
            "  arrmean, rcount, out=arrmean, casting='unsafe', subok=False)\n",
            "/usr/local/lib/python3.6/dist-packages/numpy/core/_methods.py:132: RuntimeWarning: invalid value encountered in double_scalars\n",
            "  ret = ret.dtype.type(ret / rcount)\n"
          ],
          "name": "stderr"
        }
      ]
    },
    {
      "cell_type": "code",
      "metadata": {
        "id": "vZ1uCBXukcwo",
        "colab_type": "code",
        "colab": {}
      },
      "source": [
        "help(np.percentile)"
      ],
      "execution_count": 0,
      "outputs": []
    },
    {
      "cell_type": "code",
      "metadata": {
        "id": "m6RdAjDEkdxt",
        "colab_type": "code",
        "outputId": "1dbcd76f-1a73-45c0-aa65-1d70681bc17a",
        "colab": {
          "base_uri": "https://localhost:8080/",
          "height": 50
        }
      },
      "source": [
        "# Em estatística descritiva, os percentis são medidas que dividem a amostra \n",
        "# (por ordem crescente dos dados) em 100 partes, cada uma com uma percentagem \n",
        "# de dados aproximadamente igual\n",
        "\n",
        "v_X = np.arange(15)\n",
        "print(v_X)\n",
        "np.percentile(v_X, q=[5, 25, 50, 75, 95])\n",
        "\n",
        "# O valor 0.7 representa 5% dos dados da amostra\n",
        "# O valor 7 represenra 50% dos dados da amostra\n",
        "\n",
        "# Um percentil indica que há x% de dados inferiores\n",
        "# Corresponde à frequência cumulativa de N .k/100, onde N é o tamanho amostral.\n",
        "# Corresponde a frequencia cumulativa de 15 (tamanho da amostra) por 5%"
      ],
      "execution_count": 0,
      "outputs": [
        {
          "output_type": "stream",
          "text": [
            "[ 0  1  2  3  4  5  6  7  8  9 10 11 12 13 14]\n"
          ],
          "name": "stdout"
        },
        {
          "output_type": "execute_result",
          "data": {
            "text/plain": [
              "array([ 0.7,  3.5,  7. , 10.5, 13.3])"
            ]
          },
          "metadata": {
            "tags": []
          },
          "execution_count": 144
        }
      ]
    },
    {
      "cell_type": "code",
      "metadata": {
        "id": "0XybsQN-luvM",
        "colab_type": "code",
        "outputId": "808ce5fe-eb69-4a99-fd42-d0704b97457c",
        "colab": {
          "base_uri": "https://localhost:8080/",
          "height": 34
        }
      },
      "source": [
        "# Calcular a qual percentil pertence um dado\n",
        "n = 15 # quantidade de elementos\n",
        "p = 75 # porcentagem\n",
        "LP = (n-1) * p/100\n",
        "print(LP)"
      ],
      "execution_count": 0,
      "outputs": [
        {
          "output_type": "stream",
          "text": [
            "10.5\n"
          ],
          "name": "stdout"
        }
      ]
    },
    {
      "cell_type": "markdown",
      "metadata": {
        "id": "zNMKgK4e68bT",
        "colab_type": "text"
      },
      "source": [
        "* Percentis: divide as partes por 100 \n",
        "* Decis: divide as parte por 10\n",
        "* Quartis: divide as partes por 25 (quarta parte de 100)"
      ]
    },
    {
      "cell_type": "markdown",
      "metadata": {
        "id": "ATQRjKLBA_qs",
        "colab_type": "text"
      },
      "source": [
        "## Ordenar os valores do array"
      ]
    },
    {
      "cell_type": "code",
      "metadata": {
        "id": "Z0QR2dpzA8aF",
        "colab_type": "code",
        "outputId": "6789a506-b7a3-42f2-ac4a-f12278653a58",
        "colab": {
          "base_uri": "https://localhost:8080/",
          "height": 34
        }
      },
      "source": [
        "v_X= np.random.random(10)\n",
        "v_X"
      ],
      "execution_count": 0,
      "outputs": [
        {
          "output_type": "execute_result",
          "data": {
            "text/plain": [
              "array([0.95, 0.8 , 0.3 , 0.62, 0.55, 0.62, 0.16, 0.6 , 0.82, 0.44])"
            ]
          },
          "metadata": {
            "tags": []
          },
          "execution_count": 146
        }
      ]
    },
    {
      "cell_type": "code",
      "metadata": {
        "id": "DyHZ8t5XBW19",
        "colab_type": "code",
        "outputId": "8dd5d19d-b489-405f-bb9a-417ec16e9db6",
        "colab": {
          "base_uri": "https://localhost:8080/",
          "height": 34
        }
      },
      "source": [
        "np.sort(v_X)"
      ],
      "execution_count": 0,
      "outputs": [
        {
          "output_type": "execute_result",
          "data": {
            "text/plain": [
              "array([0.16, 0.3 , 0.44, 0.55, 0.6 , 0.62, 0.62, 0.8 , 0.82, 0.95])"
            ]
          },
          "metadata": {
            "tags": []
          },
          "execution_count": 147
        }
      ]
    },
    {
      "cell_type": "markdown",
      "metadata": {
        "id": "eW8v2rzCJpnd",
        "colab_type": "text"
      },
      "source": [
        "#PANDAS"
      ]
    },
    {
      "cell_type": "code",
      "metadata": {
        "id": "EmER6P3WJtvs",
        "colab_type": "code",
        "colab": {}
      },
      "source": [
        "import pandas as pd\n",
        "import numpy as np"
      ],
      "execution_count": 0,
      "outputs": []
    },
    {
      "cell_type": "code",
      "metadata": {
        "id": "nUy19CmALiP1",
        "colab_type": "code",
        "outputId": "33034f5b-1c39-4a52-e495-9b943dc3a75c",
        "colab": {
          "base_uri": "https://localhost:8080/",
          "height": 101
        }
      },
      "source": [
        "# gerar um array com 100 tentativas de valores entre 1 e 6\n",
        "v_array = np.random.randint(1,7, size = 100) \n",
        "v_array"
      ],
      "execution_count": 0,
      "outputs": [
        {
          "output_type": "execute_result",
          "data": {
            "text/plain": [
              "array([2, 6, 6, 5, 2, 2, 4, 6, 6, 5, 1, 1, 1, 3, 6, 6, 6, 1, 3, 5, 2, 6,\n",
              "       5, 4, 6, 1, 1, 5, 4, 1, 3, 6, 1, 1, 3, 4, 2, 6, 6, 2, 5, 3, 4, 4,\n",
              "       5, 1, 4, 1, 1, 1, 5, 1, 2, 3, 2, 4, 4, 6, 3, 4, 2, 5, 2, 1, 4, 4,\n",
              "       3, 4, 1, 2, 5, 2, 3, 4, 5, 1, 3, 2, 5, 6, 6, 1, 5, 6, 4, 4, 2, 5,\n",
              "       6, 6, 1, 3, 4, 6, 3, 4, 4, 4, 5, 6])"
            ]
          },
          "metadata": {
            "tags": []
          },
          "execution_count": 11
        }
      ]
    },
    {
      "cell_type": "code",
      "metadata": {
        "id": "eD8HYdidLsQK",
        "colab_type": "code",
        "outputId": "d96188a3-b57a-4479-c1bc-b5d1a263f3b3",
        "colab": {
          "base_uri": "https://localhost:8080/",
          "height": 134
        }
      },
      "source": [
        "# Metodo do PANDAS que mostra a quantidade de ocorrencia por elemento\n",
        "pd.value_counts(v_array)"
      ],
      "execution_count": 0,
      "outputs": [
        {
          "output_type": "execute_result",
          "data": {
            "text/plain": [
              "6    20\n",
              "4    20\n",
              "1    19\n",
              "5    15\n",
              "2    14\n",
              "3    12\n",
              "dtype: int64"
            ]
          },
          "metadata": {
            "tags": []
          },
          "execution_count": 13
        }
      ]
    },
    {
      "cell_type": "code",
      "metadata": {
        "id": "jLP7tQ-VMXBF",
        "colab_type": "code",
        "outputId": "e43cc314-b106-4405-e922-c54c4bb0ec96",
        "colab": {
          "base_uri": "https://localhost:8080/",
          "height": 168
        }
      },
      "source": [
        "# Aumentar o numero de tentativas e verificar se a LEI DOS GRANDES NUMEROS é refletida aqui\n",
        "\n",
        "np.random.seed(seed = 27031979)\n",
        "\n",
        "v_Array_Tentativas = np.array([30,100,500,10000,50000,1000000,50000000,100000000,500000000])\n",
        "\n",
        "for i in v_Array_Tentativas:\n",
        "    v_Array_Dados = np.random.randint(1, 7, size = i)\n",
        "    print(f'Tentativas {i} => Media {np.mean(v_Array_Dados)}')\n",
        "    "
      ],
      "execution_count": 0,
      "outputs": [
        {
          "output_type": "stream",
          "text": [
            "Tentativas 30 => Media 3.3333333333333335\n",
            "Tentativas 100 => Media 3.39\n",
            "Tentativas 500 => Media 3.436\n",
            "Tentativas 10000 => Media 3.4928\n",
            "Tentativas 50000 => Media 3.5003\n",
            "Tentativas 1000000 => Media 3.495305\n",
            "Tentativas 50000000 => Media 3.50014224\n",
            "Tentativas 100000000 => Media 3.50006209\n",
            "Tentativas 500000000 => Media 3.499940162\n"
          ],
          "name": "stdout"
        }
      ]
    },
    {
      "cell_type": "markdown",
      "metadata": {
        "id": "pzqw5ni4QNJu",
        "colab_type": "text"
      },
      "source": [
        "#Ensaio Array"
      ]
    },
    {
      "cell_type": "code",
      "metadata": {
        "id": "pnbTkXnSED9Q",
        "colab_type": "code",
        "colab": {}
      },
      "source": [
        "import numpy as np"
      ],
      "execution_count": 0,
      "outputs": []
    },
    {
      "cell_type": "code",
      "metadata": {
        "id": "rK3qEzgZDq64",
        "colab_type": "code",
        "colab": {}
      },
      "source": [
        "# FORMA 1: METODO RANDOM : NORMAL (UTILIZADO TAMBEM PARA DISTRIBUICAO NORMAL)\n",
        "\n",
        "#Numero randomico entre 0 e 1 (criou-se um array por conta do SIZE)\n",
        "v_Array_1= np.random.normal(0, 1, size= 10) # Array 1D de size= 10\n",
        "v_Array_1"
      ],
      "execution_count": 0,
      "outputs": []
    },
    {
      "cell_type": "code",
      "metadata": {
        "id": "Ok5EEOwlEG6N",
        "colab_type": "code",
        "colab": {}
      },
      "source": [
        "# Isso ja nao é array (embora urilize o RANDOM.NORMAL)\n",
        "v_naoArray_1 = np.random.normal(0,1)\n",
        "type(v_naoArray_1)"
      ],
      "execution_count": 0,
      "outputs": []
    },
    {
      "cell_type": "code",
      "metadata": {
        "id": "PSHfrTCHHpqJ",
        "colab_type": "code",
        "colab": {}
      },
      "source": [
        "# FORMA 1: METODO RANDOM : RANDOM\n",
        "v_Array_1 = np.random.random(10) # de 0 a 1 ?\n",
        "v_Array_1"
      ],
      "execution_count": 0,
      "outputs": []
    },
    {
      "cell_type": "code",
      "metadata": {
        "id": "B7TQWNY4Ig8H",
        "colab_type": "code",
        "colab": {}
      },
      "source": [
        "# FORMA 1: METODO RANDOM : RANDINT (inteiros)\n",
        "v_Array_1 = np.random.randint(1, 7, size= 100)\n",
        "v_Array_1"
      ],
      "execution_count": 0,
      "outputs": []
    },
    {
      "cell_type": "code",
      "metadata": {
        "id": "YX6pdiFmbnXx",
        "colab_type": "code",
        "colab": {}
      },
      "source": [
        "# FORMA 1 : METODO RANDOM : RANDN (distribuicao normal) \n",
        "v_Array_5x7 = np.random.randn(5,7)\n",
        "v_Array_5x7"
      ],
      "execution_count": 0,
      "outputs": []
    },
    {
      "cell_type": "code",
      "metadata": {
        "id": "SzsSiQpME_4Q",
        "colab_type": "code",
        "outputId": "7274ba1b-3196-4597-b6c8-dad9a142f6d1",
        "colab": {
          "base_uri": "https://localhost:8080/",
          "height": 34
        }
      },
      "source": [
        "# FORMA 2: METODO ARRAY : DEVEMOS ESPECIFICAR OS VALORES (?)\n",
        "\n",
        "v_Array_2 = np.array([2,4,6,8,10,'dani'])\n",
        "v_Array_2"
      ],
      "execution_count": 0,
      "outputs": [
        {
          "output_type": "execute_result",
          "data": {
            "text/plain": [
              "array(['2', '4', '6', '8', '10', 'dani'], dtype='<U21')"
            ]
          },
          "metadata": {
            "tags": []
          },
          "execution_count": 12
        }
      ]
    },
    {
      "cell_type": "code",
      "metadata": {
        "id": "9zG3dSe9ahMc",
        "colab_type": "code",
        "outputId": "88129030-1906-4211-b77a-f083e2b5c44c",
        "colab": {
          "base_uri": "https://localhost:8080/",
          "height": 67
        }
      },
      "source": [
        "# FORMA 2 : METODO ARRAY : MULTIDIMENSIONAL\n",
        "v_Array_3X2 = np.array([[4,5],[31,2],[9,0]])\n",
        "v_Array_3X2\n"
      ],
      "execution_count": 0,
      "outputs": [
        {
          "output_type": "execute_result",
          "data": {
            "text/plain": [
              "array([[ 4,  5],\n",
              "       [31,  2],\n",
              "       [ 9,  0]])"
            ]
          },
          "metadata": {
            "tags": []
          },
          "execution_count": 69
        }
      ]
    },
    {
      "cell_type": "code",
      "metadata": {
        "id": "QRJ3on7FGByC",
        "colab_type": "code",
        "outputId": "84ecb8cb-9520-4e13-94a9-911933a9caa4",
        "colab": {
          "base_uri": "https://localhost:8080/",
          "height": 34
        }
      },
      "source": [
        "# FORMA 3 : METODO ARANGE\n",
        "v_Array_3 = np.arange(15)\n",
        "v_Array_3"
      ],
      "execution_count": 0,
      "outputs": [
        {
          "output_type": "execute_result",
          "data": {
            "text/plain": [
              "array([ 0,  1,  2,  3,  4,  5,  6,  7,  8,  9, 10, 11, 12, 13, 14])"
            ]
          },
          "metadata": {
            "tags": []
          },
          "execution_count": 42
        }
      ]
    },
    {
      "cell_type": "code",
      "metadata": {
        "id": "0bmFyHZPTFTj",
        "colab_type": "code",
        "outputId": "8241ca41-5404-4577-c43f-16be74a9b27a",
        "colab": {
          "base_uri": "https://localhost:8080/",
          "height": 34
        }
      },
      "source": [
        "v_Array_3 = np.arange(start=0, stop=15, step=2)\n",
        "v_Array_3"
      ],
      "execution_count": 0,
      "outputs": [
        {
          "output_type": "execute_result",
          "data": {
            "text/plain": [
              "array([ 0,  2,  4,  6,  8, 10, 12, 14])"
            ]
          },
          "metadata": {
            "tags": []
          },
          "execution_count": 60
        }
      ]
    },
    {
      "cell_type": "code",
      "metadata": {
        "id": "raJPk7eiXl1x",
        "colab_type": "code",
        "outputId": "647e9cc1-c437-4e48-ca1f-ee2cff980a47",
        "colab": {
          "base_uri": "https://localhost:8080/",
          "height": 34
        }
      },
      "source": [
        "v_Array_3 = np.arange(start=10, stop=0, step=-5)\n",
        "v_Array_3"
      ],
      "execution_count": 0,
      "outputs": [
        {
          "output_type": "execute_result",
          "data": {
            "text/plain": [
              "array([10,  5])"
            ]
          },
          "metadata": {
            "tags": []
          },
          "execution_count": 64
        }
      ]
    },
    {
      "cell_type": "code",
      "metadata": {
        "id": "tvXUOCDrZkFJ",
        "colab_type": "code",
        "colab": {}
      },
      "source": [
        "# DUVIDA : O ARANGE APENAS CRIA ARRAY 1D ?????\n",
        "# R: Nao, com o metodo RESHAPE pude alterar para 2D\n",
        "v_Array_3 = np.arange(start=10, stop=0, step=-5, size=2) #erro\n",
        "v_Array_3"
      ],
      "execution_count": 0,
      "outputs": []
    },
    {
      "cell_type": "code",
      "metadata": {
        "id": "YmAPpb1vkKL1",
        "colab_type": "code",
        "outputId": "8f906216-166e-41a3-dfec-8de90d82a946",
        "colab": {
          "base_uri": "https://localhost:8080/",
          "height": 50
        }
      },
      "source": [
        "v_Array_3 = np.arange(14).reshape(2,-1)\n",
        "v_Array_3"
      ],
      "execution_count": 0,
      "outputs": [
        {
          "output_type": "execute_result",
          "data": {
            "text/plain": [
              "array([[ 0,  1,  2,  3,  4,  5,  6],\n",
              "       [ 7,  8,  9, 10, 11, 12, 13]])"
            ]
          },
          "metadata": {
            "tags": []
          },
          "execution_count": 74
        }
      ]
    },
    {
      "cell_type": "markdown",
      "metadata": {
        "id": "Xc8xQRqaREeD",
        "colab_type": "text"
      },
      "source": [
        "#Criar ndarrays 1D (N de NUMPY e D de Dimensao?)"
      ]
    },
    {
      "cell_type": "code",
      "metadata": {
        "id": "MAHB4UEEOf-U",
        "colab_type": "code",
        "colab": {}
      },
      "source": [
        "import numpy as np\n",
        "np.set_printoptions(precision=2, suppress=True)\n",
        "np.random.seed(seed = 27031979)"
      ],
      "execution_count": 0,
      "outputs": []
    },
    {
      "cell_type": "code",
      "metadata": {
        "id": "GopCzuWnRTVc",
        "colab_type": "code",
        "outputId": "05cfd91f-035a-46d0-c042-2186f0c78a2d",
        "colab": {
          "base_uri": "https://localhost:8080/",
          "height": 34
        }
      },
      "source": [
        "v_Array = np.array([10,76,0.67,'Daniele'])\n",
        "v_Array.ndim # dimensao do array"
      ],
      "execution_count": 0,
      "outputs": [
        {
          "output_type": "execute_result",
          "data": {
            "text/plain": [
              "1"
            ]
          },
          "metadata": {
            "tags": []
          },
          "execution_count": 29
        }
      ]
    },
    {
      "cell_type": "code",
      "metadata": {
        "id": "yNzYWwVBRd6F",
        "colab_type": "code",
        "outputId": "46b0fda3-d3bc-4ce8-b404-81a9bf41fea6",
        "colab": {
          "base_uri": "https://localhost:8080/",
          "height": 34
        }
      },
      "source": [
        "# Duas Dimensoes (linhas x colunas)\n",
        "v_Array = np.random.randint(1,11, size=[2,3])\n",
        "v_Array.ndim\n",
        "\n",
        "# Duas Dimensoes\n",
        "v_Array = np.random.normal(0,10, size=[5,5])\n",
        "v_Array\n",
        "v_Array.ndim\n"
      ],
      "execution_count": 0,
      "outputs": [
        {
          "output_type": "execute_result",
          "data": {
            "text/plain": [
              "2"
            ]
          },
          "metadata": {
            "tags": []
          },
          "execution_count": 41
        }
      ]
    },
    {
      "cell_type": "markdown",
      "metadata": {
        "id": "qzWsKZWdV_PD",
        "colab_type": "text"
      },
      "source": [
        "\n",
        "#Operacoes com array (comparacoes e contas)\n"
      ]
    },
    {
      "cell_type": "code",
      "metadata": {
        "id": "eaQq7AsxR113",
        "colab_type": "code",
        "outputId": "5db84159-5e71-4c81-c7bb-12e827304b4c",
        "colab": {
          "base_uri": "https://localhost:8080/",
          "height": 67
        }
      },
      "source": [
        "v_Array_A = np.arange(0,50,step=1)\n",
        "v_Array_A\n",
        "v_Array_B = v_Array_A.copy()\n",
        "v_Array_B"
      ],
      "execution_count": 0,
      "outputs": [
        {
          "output_type": "execute_result",
          "data": {
            "text/plain": [
              "array([ 0,  1,  2,  3,  4,  5,  6,  7,  8,  9, 10, 11, 12, 13, 14, 15, 16,\n",
              "       17, 18, 19, 20, 21, 22, 23, 24, 25, 26, 27, 28, 29, 30, 31, 32, 33,\n",
              "       34, 35, 36, 37, 38, 39, 40, 41, 42, 43, 44, 45, 46, 47, 48, 49])"
            ]
          },
          "metadata": {
            "tags": []
          },
          "execution_count": 49
        }
      ]
    },
    {
      "cell_type": "code",
      "metadata": {
        "id": "fuK6mA-CVGas",
        "colab_type": "code",
        "outputId": "cc196abe-9b5e-451b-c89d-0cb33a5ee3fe",
        "colab": {
          "base_uri": "https://localhost:8080/",
          "height": 118
        }
      },
      "source": [
        "v_Array_A == v_Array_B"
      ],
      "execution_count": 0,
      "outputs": [
        {
          "output_type": "execute_result",
          "data": {
            "text/plain": [
              "array([ True,  True,  True,  True,  True,  True,  True,  True,  True,\n",
              "        True,  True,  True,  True,  True,  True,  True,  True,  True,\n",
              "        True,  True,  True,  True,  True,  True,  True,  True,  True,\n",
              "        True,  True,  True,  True,  True,  True,  True,  True,  True,\n",
              "        True,  True,  True,  True,  True,  True,  True,  True,  True,\n",
              "        True,  True,  True,  True,  True])"
            ]
          },
          "metadata": {
            "tags": []
          },
          "execution_count": 51
        }
      ]
    },
    {
      "cell_type": "code",
      "metadata": {
        "id": "he7NNaAEVWIW",
        "colab_type": "code",
        "outputId": "4d8d5997-68b2-4c9a-ba41-1d02d2290df0",
        "colab": {
          "base_uri": "https://localhost:8080/",
          "height": 134
        }
      },
      "source": [
        "print(v_Array_A + 2)\n",
        "print()\n",
        "print(v_Array_A * 10)\n"
      ],
      "execution_count": 0,
      "outputs": [
        {
          "output_type": "stream",
          "text": [
            "[ 2  3  4  5  6  7  8  9 10 11 12 13 14 15 16 17 18 19 20 21 22 23 24 25\n",
            " 26 27 28 29 30 31 32 33 34 35 36 37 38 39 40 41 42 43 44 45 46 47 48 49\n",
            " 50 51]\n",
            "\n",
            "[  0  10  20  30  40  50  60  70  80  90 100 110 120 130 140 150 160 170\n",
            " 180 190 200 210 220 230 240 250 260 270 280 290 300 310 320 330 340 350\n",
            " 360 370 380 390 400 410 420 430 440 450 460 470 480 490]\n"
          ],
          "name": "stdout"
        }
      ]
    },
    {
      "cell_type": "markdown",
      "metadata": {
        "id": "AkT3sbWcYsaj",
        "colab_type": "text"
      },
      "source": [
        "#Criar ndarrays 2D "
      ]
    },
    {
      "cell_type": "code",
      "metadata": {
        "id": "69T83AmqYKef",
        "colab_type": "code",
        "outputId": "d55887b7-60e6-48a5-feea-227ceb1a8a0b",
        "colab": {
          "base_uri": "https://localhost:8080/",
          "height": 101
        }
      },
      "source": [
        "#Retorne uma amostra da distribuição normal.\n",
        "#help(np.random.randn)\n",
        "\n",
        "# DUVIDA : COMO VOLTAR AO DEFAULT ?????\n",
        "np.set_printoptions() #como volta ao default ???\n",
        "np.random.seed(seed = 20111974)\n",
        "v_Array_2x3 = np.random.randn(5,7)\n",
        "v_Array_2x3"
      ],
      "execution_count": 0,
      "outputs": [
        {
          "output_type": "execute_result",
          "data": {
            "text/plain": [
              "array([[ 2.506,  1.114,  2.056,  0.565,  0.299,  1.049, -0.126],\n",
              "       [ 1.062,  1.138,  1.38 , -2.06 ,  0.675,  0.727, -0.339],\n",
              "       [ 0.436,  0.591, -1.293,  1.177, -0.986, -1.79 , -1.089],\n",
              "       [-0.907, -1.023, -1.364, -0.294,  0.063, -1.142, -0.507],\n",
              "       [-0.835, -1.415, -0.216, -1.165, -0.608, -0.615,  1.077]])"
            ]
          },
          "metadata": {
            "tags": []
          },
          "execution_count": 83
        }
      ]
    },
    {
      "cell_type": "code",
      "metadata": {
        "id": "ziSX0PnhZHbd",
        "colab_type": "code",
        "outputId": "5923082d-6128-4e1d-867d-8a4e6074c349",
        "colab": {
          "base_uri": "https://localhost:8080/",
          "height": 50
        }
      },
      "source": [
        "print(f'Numero de Dimensao = {v_Array_2x3.ndim}')\n",
        "print(f'Shape = {v_Array_2x3.shape}')"
      ],
      "execution_count": 0,
      "outputs": [
        {
          "output_type": "stream",
          "text": [
            "Numero de Dimensao = 2\n",
            "Shape = (5, 7)\n"
          ],
          "name": "stdout"
        }
      ]
    },
    {
      "cell_type": "markdown",
      "metadata": {
        "id": "n5w76GybyDUg",
        "colab_type": "text"
      },
      "source": [
        "#Que isso? Um array dentro de outro array???"
      ]
    },
    {
      "cell_type": "code",
      "metadata": {
        "id": "1-opOxLyaTVy",
        "colab_type": "code",
        "outputId": "84b34e12-5342-416e-92e9-4663c78a91fd",
        "colab": {
          "base_uri": "https://localhost:8080/",
          "height": 34
        }
      },
      "source": [
        "# DUVIDA: POR QUE UTILIZOU UM ARRAY SOBRE UM OBJETO QUE JA ERA ARRAY\n",
        "# Define a seed\n",
        "np.random.seed(20111974)\n",
        "\n",
        "v_Farenheit= np.array(np.random.randint(0, 100, 10))\n",
        "v_Farenheit   "
      ],
      "execution_count": 0,
      "outputs": [
        {
          "output_type": "execute_result",
          "data": {
            "text/plain": [
              "array([60, 42, 40,  8, 27,  2, 46, 88, 81, 88])"
            ]
          },
          "metadata": {
            "tags": []
          },
          "execution_count": 91
        }
      ]
    },
    {
      "cell_type": "code",
      "metadata": {
        "id": "Xvh6OGM8yUzy",
        "colab_type": "code",
        "outputId": "1680dd2f-cafb-4a86-fbb9-1c4d6db74576",
        "colab": {
          "base_uri": "https://localhost:8080/",
          "height": 34
        }
      },
      "source": [
        "type(np.random.randint(0, 100, 10))"
      ],
      "execution_count": 0,
      "outputs": [
        {
          "output_type": "execute_result",
          "data": {
            "text/plain": [
              "numpy.ndarray"
            ]
          },
          "metadata": {
            "tags": []
          },
          "execution_count": 93
        }
      ]
    },
    {
      "cell_type": "code",
      "metadata": {
        "id": "kG9swnv0yd-g",
        "colab_type": "code",
        "outputId": "3cc2a2cc-7689-42b9-c379-59b54564d208",
        "colab": {
          "base_uri": "https://localhost:8080/",
          "height": 34
        }
      },
      "source": [
        "type(v_Farenheit)"
      ],
      "execution_count": 0,
      "outputs": [
        {
          "output_type": "execute_result",
          "data": {
            "text/plain": [
              "numpy.ndarray"
            ]
          },
          "metadata": {
            "tags": []
          },
          "execution_count": 94
        }
      ]
    },
    {
      "cell_type": "code",
      "metadata": {
        "id": "KkGWIYZhymWM",
        "colab_type": "code",
        "outputId": "e37f3595-6483-46a2-a697-e2f3802e6919",
        "colab": {
          "base_uri": "https://localhost:8080/",
          "height": 50
        }
      },
      "source": [
        "# Fazer contas com cada elemento do array\n",
        "# Calculando graus centígrados\n",
        "\n",
        "5*v_Farenheit/9 - 5*32/9"
      ],
      "execution_count": 0,
      "outputs": [
        {
          "output_type": "execute_result",
          "data": {
            "text/plain": [
              "array([ 15.556,   5.556,   4.444, -13.333,  -2.778, -16.667,   7.778,\n",
              "        31.111,  27.222,  31.111])"
            ]
          },
          "metadata": {
            "tags": []
          },
          "execution_count": 95
        }
      ]
    },
    {
      "cell_type": "markdown",
      "metadata": {
        "id": "QuFRtsV7zF2u",
        "colab_type": "text"
      },
      "source": [
        "# Selecionar itens no Array"
      ]
    },
    {
      "cell_type": "code",
      "metadata": {
        "id": "x__lOqEnzIbn",
        "colab_type": "code",
        "outputId": "aef94ab0-3c29-4d35-cb44-c14830a0de19",
        "colab": {
          "base_uri": "https://localhost:8080/",
          "height": 101
        }
      },
      "source": [
        "np.random.seed(20111974)\n",
        "v_Array_2x3 = np.random.randn(5,7)\n",
        "v_Array_2x3"
      ],
      "execution_count": 0,
      "outputs": [
        {
          "output_type": "execute_result",
          "data": {
            "text/plain": [
              "array([[ 2.506,  1.114,  2.056,  0.565,  0.299,  1.049, -0.126],\n",
              "       [ 1.062,  1.138,  1.38 , -2.06 ,  0.675,  0.727, -0.339],\n",
              "       [ 0.436,  0.591, -1.293,  1.177, -0.986, -1.79 , -1.089],\n",
              "       [-0.907, -1.023, -1.364, -0.294,  0.063, -1.142, -0.507],\n",
              "       [-0.835, -1.415, -0.216, -1.165, -0.608, -0.615,  1.077]])"
            ]
          },
          "metadata": {
            "tags": []
          },
          "execution_count": 108
        }
      ]
    },
    {
      "cell_type": "code",
      "metadata": {
        "id": "N5-Zt9z5zR2j",
        "colab_type": "code",
        "outputId": "92e36b5a-ba8f-4278-9b69-642321ad0e4b",
        "colab": {
          "base_uri": "https://localhost:8080/",
          "height": 34
        }
      },
      "source": [
        "v_Array_2x3[0] # primeira linha do array"
      ],
      "execution_count": 0,
      "outputs": [
        {
          "output_type": "execute_result",
          "data": {
            "text/plain": [
              "array([ 2.506,  1.114,  2.056,  0.565,  0.299,  1.049, -0.126])"
            ]
          },
          "metadata": {
            "tags": []
          },
          "execution_count": 111
        }
      ]
    },
    {
      "cell_type": "code",
      "metadata": {
        "id": "PJu2vWr7zlFc",
        "colab_type": "code",
        "outputId": "be70d8de-7dda-46de-ba1f-6a045848b281",
        "colab": {
          "base_uri": "https://localhost:8080/",
          "height": 34
        }
      },
      "source": [
        "v_Array_2x3[0,2] # primeira linha do array e terceira coluna"
      ],
      "execution_count": 0,
      "outputs": [
        {
          "output_type": "execute_result",
          "data": {
            "text/plain": [
              "2.0556550127527125"
            ]
          },
          "metadata": {
            "tags": []
          },
          "execution_count": 114
        }
      ]
    },
    {
      "cell_type": "code",
      "metadata": {
        "id": "FN-CZHMAz5Qx",
        "colab_type": "code",
        "outputId": "35e4bc1b-07fc-448f-c86f-82105cab1a1f",
        "colab": {
          "base_uri": "https://localhost:8080/",
          "height": 34
        }
      },
      "source": [
        "v_Array_2x3[-1] #selecinar ultimo elemento (exibe a ultima linha por ser um array 2d)\n",
        "v_Array_2x3[-1,-1] #selecinar ultimo elemento"
      ],
      "execution_count": 0,
      "outputs": [
        {
          "output_type": "execute_result",
          "data": {
            "text/plain": [
              "1.0771541989590427"
            ]
          },
          "metadata": {
            "tags": []
          },
          "execution_count": 118
        }
      ]
    },
    {
      "cell_type": "markdown",
      "metadata": {
        "id": "PAIZ-ypA3STW",
        "colab_type": "text"
      },
      "source": [
        "#Funções no Array (MAX, MIN)"
      ]
    },
    {
      "cell_type": "code",
      "metadata": {
        "id": "ZxHmlDJI0NyQ",
        "colab_type": "code",
        "outputId": "a52e618d-3444-47bf-f28a-8e051151a52f",
        "colab": {
          "base_uri": "https://localhost:8080/",
          "height": 34
        }
      },
      "source": [
        "np.max(v_Array_2x3) # maior valor"
      ],
      "execution_count": 0,
      "outputs": [
        {
          "output_type": "execute_result",
          "data": {
            "text/plain": [
              "2.506276801325959"
            ]
          },
          "metadata": {
            "tags": []
          },
          "execution_count": 120
        }
      ]
    },
    {
      "cell_type": "code",
      "metadata": {
        "id": "ITjSbuOG0TSM",
        "colab_type": "code",
        "outputId": "ab8b3114-e91a-4c8d-c4e8-194fef255964",
        "colab": {
          "base_uri": "https://localhost:8080/",
          "height": 34
        }
      },
      "source": [
        "np.min(v_Array_2x3) # menor valor"
      ],
      "execution_count": 0,
      "outputs": [
        {
          "output_type": "execute_result",
          "data": {
            "text/plain": [
              "-2.0599556303504514"
            ]
          },
          "metadata": {
            "tags": []
          },
          "execution_count": 122
        }
      ]
    },
    {
      "cell_type": "code",
      "metadata": {
        "id": "_kNWFitz0iZz",
        "colab_type": "code",
        "outputId": "ecdb59d4-7b55-4972-bcb1-830d523a9a50",
        "colab": {
          "base_uri": "https://localhost:8080/",
          "height": 151
        }
      },
      "source": [
        "#help(np.max)\n",
        "np.random.seed(seed = 27031979)\n",
        "v_Array_3x3 = np.random.randint(1,11,size=[3,3])\n",
        "print(f'Array \\n {v_Array_3x3} \\n')\n",
        "\n",
        "\n",
        "print(f'O maior valor de todos os array é {np.max(v_Array_3x3)}') \n",
        "\n",
        "print(f'O maior valor de cada linha do array é {np.max(v_Array_3x3, axis=1)}') # AXIS = 1 = LINHAS\n",
        "\n",
        "print(f'O maior valor de cada coluna do array é {np.max(v_Array_3x3, axis=0)}') # AXIS = 0 = COLUNAS\n"
      ],
      "execution_count": 0,
      "outputs": [
        {
          "output_type": "stream",
          "text": [
            "Array \n",
            " [[9 8 1]\n",
            " [3 6 3]\n",
            " [9 1 5]] \n",
            "\n",
            "O maior valor de todos os array é 9\n",
            "O maior valor de cada linha do array é [9 6 9]\n",
            "O maior valor de cada coluna do array é [9 8 5]\n"
          ],
          "name": "stdout"
        }
      ]
    },
    {
      "cell_type": "markdown",
      "metadata": {
        "id": "7u8t5UKANBoW",
        "colab_type": "text"
      },
      "source": [
        "#Medias e Devios"
      ]
    },
    {
      "cell_type": "code",
      "metadata": {
        "id": "DPALjQw4NFhn",
        "colab_type": "code",
        "outputId": "2c9a52bf-d200-41ed-b7ce-23a772bc0bce",
        "colab": {
          "base_uri": "https://localhost:8080/",
          "height": 185
        }
      },
      "source": [
        "import numpy as np\n",
        "np.random.seed(seed = 27031979)\n",
        "v_Array_3x3 = np.random.randint(1,11,size=[3,3])\n",
        "\n",
        "print(v_Array_3x3)\n",
        "print('Media de 2D =', np.mean(v_Array_3x3))\n",
        "print('Desvio de 2D =', np.std(v_Array_3x3), '\\n')\n",
        "\n",
        "\n",
        "v_Array = np.arange(10)\n",
        "print(v_Array)\n",
        "print('Media 1D =', np.mean(v_Array)s)\n",
        "print('Desvio 1D =', np.std(v_Array), '\\n')"
      ],
      "execution_count": 0,
      "outputs": [
        {
          "output_type": "stream",
          "text": [
            "[[9 8 1]\n",
            " [3 6 3]\n",
            " [9 1 5]]\n",
            "Media de 2D = 5.0\n",
            "Desvio de 2D = 3.018461712712472 \n",
            "\n",
            "[0 1 2 3 4 5 6 7 8 9]\n",
            "Media 1D = 4.5\n",
            "Desvio 1D = 2.8722813232690143 \n",
            "\n"
          ],
          "name": "stdout"
        }
      ]
    },
    {
      "cell_type": "markdown",
      "metadata": {
        "id": "Y6zmtfBOOZ-g",
        "colab_type": "text"
      },
      "source": [
        "#Reshape + Transposta"
      ]
    },
    {
      "cell_type": "code",
      "metadata": {
        "id": "1aQFaP3LOKA5",
        "colab_type": "code",
        "outputId": "e3f32b4e-4a2a-421e-bd21-3f9a1c642de2",
        "colab": {
          "base_uri": "https://localhost:8080/",
          "height": 67
        }
      },
      "source": [
        "v_Array_3x3.shape\n",
        "v_Array_3x3"
      ],
      "execution_count": 0,
      "outputs": [
        {
          "output_type": "execute_result",
          "data": {
            "text/plain": [
              "array([[9, 8, 1],\n",
              "       [3, 6, 3],\n",
              "       [9, 1, 5]])"
            ]
          },
          "metadata": {
            "tags": []
          },
          "execution_count": 17
        }
      ]
    },
    {
      "cell_type": "code",
      "metadata": {
        "id": "-MkLn92AOhhM",
        "colab_type": "code",
        "outputId": "6ddc542e-72f1-4a08-bcfc-2f10bfbbcde8",
        "colab": {
          "base_uri": "https://localhost:8080/",
          "height": 168
        }
      },
      "source": [
        "v_Array_3x3.reshape(1,9) # 1 linha 9 colunas\n",
        "v_Array_3x3.reshape(9,1) # 9 linhas 1 coluna"
      ],
      "execution_count": 0,
      "outputs": [
        {
          "output_type": "execute_result",
          "data": {
            "text/plain": [
              "array([[9],\n",
              "       [8],\n",
              "       [1],\n",
              "       [3],\n",
              "       [6],\n",
              "       [3],\n",
              "       [9],\n",
              "       [1],\n",
              "       [5]])"
            ]
          },
          "metadata": {
            "tags": []
          },
          "execution_count": 18
        }
      ]
    },
    {
      "cell_type": "code",
      "metadata": {
        "id": "Rz3jzAV1OnMg",
        "colab_type": "code",
        "outputId": "5cedf971-35ae-44cd-9fb9-d572e15b643d",
        "colab": {
          "base_uri": "https://localhost:8080/",
          "height": 34
        }
      },
      "source": [
        "# Dado o array 1D abaixo, reshape para um array 3D com 2 colunas.\n",
        "# Define seed\n",
        "np.random.seed(20111974)\n",
        "v_Array= np.array(np.random.randint(1, 10, size= 15))\n",
        "v_Array"
      ],
      "execution_count": 0,
      "outputs": [
        {
          "output_type": "execute_result",
          "data": {
            "text/plain": [
              "array([9, 9, 3, 9, 2, 9, 1, 5, 3, 1, 9, 4, 8, 2, 4])"
            ]
          },
          "metadata": {
            "tags": []
          },
          "execution_count": 20
        }
      ]
    },
    {
      "cell_type": "code",
      "metadata": {
        "id": "6D7EOhADPPPN",
        "colab_type": "code",
        "colab": {}
      },
      "source": [
        "# 3 linhas e 2 colunas\n",
        "# 15 = 7,5 linhas (*) 2 colunas\n",
        "\n",
        "# O valor \"-1\" na posição das linhas pede ao NumPy para calcular o número de linhas automaticamente.\n",
        "# DUVIDA: DEU ERRO PORQUE A QUANTIDADE DE ELEMENTOS ERA IMPAR?\n",
        "v_Array.reshape(-1, 2) \n"
      ],
      "execution_count": 0,
      "outputs": []
    },
    {
      "cell_type": "code",
      "metadata": {
        "id": "mYVwAPKlQS02",
        "colab_type": "code",
        "outputId": "41998648-91da-4d5f-b4d6-28382c0c12ee",
        "colab": {
          "base_uri": "https://localhost:8080/",
          "height": 34
        }
      },
      "source": [
        "# Define seed\n",
        "np.random.seed(20111974)\n",
        "v_Array= np.array(np.random.randint(1, 10, size= 16)) # Observe que agora temos 16 elementos\n",
        "v_Array"
      ],
      "execution_count": 0,
      "outputs": [
        {
          "output_type": "execute_result",
          "data": {
            "text/plain": [
              "array([9, 9, 3, 9, 2, 9, 1, 5, 3, 1, 9, 4, 8, 2, 4, 3])"
            ]
          },
          "metadata": {
            "tags": []
          },
          "execution_count": 26
        }
      ]
    },
    {
      "cell_type": "code",
      "metadata": {
        "id": "IBdvGUNeQaKJ",
        "colab_type": "code",
        "outputId": "5c6e10be-b602-46a6-dcb1-bbea8cd4e85f",
        "colab": {
          "base_uri": "https://localhost:8080/",
          "height": 151
        }
      },
      "source": [
        "# O valor \"-1\" na posição das linhas pede ao NumPy para calcular o número de linhas automaticamente.\n",
        "v_Array.reshape(-1, 2) "
      ],
      "execution_count": 0,
      "outputs": [
        {
          "output_type": "execute_result",
          "data": {
            "text/plain": [
              "array([[9, 9],\n",
              "       [3, 9],\n",
              "       [2, 9],\n",
              "       [1, 5],\n",
              "       [3, 1],\n",
              "       [9, 4],\n",
              "       [8, 2],\n",
              "       [4, 3]])"
            ]
          },
          "metadata": {
            "tags": []
          },
          "execution_count": 28
        }
      ]
    },
    {
      "cell_type": "code",
      "metadata": {
        "id": "ufYUVeKNQ5WK",
        "colab_type": "code",
        "outputId": "5ff12f77-354b-4907-8c82-79340085fd22",
        "colab": {
          "base_uri": "https://localhost:8080/",
          "height": 202
        }
      },
      "source": [
        "np.random.seed(20111974)\n",
        "m_Array_2_X_3= np.random.randn(2, 3) #Distr. Normal Array 2x3\n",
        "print(m_Array_2_X_3)\n",
        "\n",
        "#Queremos agora transformá-la num ndarray de 3 linhas e 2 colunas.\n",
        "print('Modo 1 =',m_Array_2_X_3.reshape(3,2)) # indicamos o shape\n",
        "\n",
        "print('Modo 2 =',m_Array_2_X_3.reshape(-1, 2)) # Numpy recalcula a linha\n",
        "\n",
        "print('Modo 3 =',m_Array_2_X_3.reshape(3, -1)) # Numpy recalcula a coluna\n"
      ],
      "execution_count": 0,
      "outputs": [
        {
          "output_type": "stream",
          "text": [
            "[[2.5062768  1.11440422 2.05565501]\n",
            " [0.56482376 0.29897276 1.04930857]]\n",
            "Modo 1 = [[2.5062768  1.11440422]\n",
            " [2.05565501 0.56482376]\n",
            " [0.29897276 1.04930857]]\n",
            "Modo 2 = [[2.5062768  1.11440422]\n",
            " [2.05565501 0.56482376]\n",
            " [0.29897276 1.04930857]]\n",
            "Modo 3 = [[2.5062768  1.11440422]\n",
            " [2.05565501 0.56482376]\n",
            " [0.29897276 1.04930857]]\n"
          ],
          "name": "stdout"
        }
      ]
    },
    {
      "cell_type": "code",
      "metadata": {
        "id": "Jj8IAAwPR3yo",
        "colab_type": "code",
        "outputId": "c12ba7be-6a6a-412e-8d74-4a351bfef6ac",
        "colab": {
          "base_uri": "https://localhost:8080/",
          "height": 185
        }
      },
      "source": [
        "m_Array_2_X_3= np.random.randn(2, 3) #Distr. Normal Array 2x3\n",
        "print('Original = ', m_Array_2_X_3,'\\n')\n",
        "print(m_Array_2_X_3.shape,'\\n')\n",
        "\n",
        "\n",
        "print('Ttansposta = ', m_Array_2_X_3.T) \n",
        "print(m_Array_2_X_3.T.shape,'\\n')\n"
      ],
      "execution_count": 0,
      "outputs": [
        {
          "output_type": "stream",
          "text": [
            "Original =  [[-0.2159062  -1.16519474 -0.60767518]\n",
            " [-0.61510925  1.0771542   0.5043687 ]] \n",
            "\n",
            "(2, 3) \n",
            "\n",
            "Ttansposta =  [[-0.2159062  -0.61510925]\n",
            " [-1.16519474  1.0771542 ]\n",
            " [-0.60767518  0.5043687 ]]\n",
            "(3, 2) \n",
            "\n"
          ],
          "name": "stdout"
        }
      ]
    },
    {
      "cell_type": "markdown",
      "metadata": {
        "id": "bZxdAMDCgo9E",
        "colab_type": "text"
      },
      "source": [
        "#Juntar Arrays"
      ]
    },
    {
      "cell_type": "code",
      "metadata": {
        "id": "-a4CZI7agq9B",
        "colab_type": "code",
        "outputId": "93245c34-4b6b-4f0e-81a3-46c906e924d8",
        "colab": {
          "base_uri": "https://localhost:8080/",
          "height": 34
        }
      },
      "source": [
        "np.random.seed(seed=27031979)\n",
        "v_Array_A = np.random.randn(1,2)\n",
        "v_Array_A"
      ],
      "execution_count": 0,
      "outputs": [
        {
          "output_type": "execute_result",
          "data": {
            "text/plain": [
              "array([[-0.07236473, -0.32301593]])"
            ]
          },
          "metadata": {
            "tags": []
          },
          "execution_count": 61
        }
      ]
    },
    {
      "cell_type": "code",
      "metadata": {
        "id": "cbeBZMbpg6Sk",
        "colab_type": "code",
        "outputId": "4974e440-961d-42e1-b162-916050d91d31",
        "colab": {
          "base_uri": "https://localhost:8080/",
          "height": 50
        }
      },
      "source": [
        "v_Array_B = np.random.randn(2,2)\n",
        "v_Array_B"
      ],
      "execution_count": 0,
      "outputs": [
        {
          "output_type": "execute_result",
          "data": {
            "text/plain": [
              "array([[-0.50804954, -1.08026165],\n",
              "       [ 0.561728  ,  0.81217388]])"
            ]
          },
          "metadata": {
            "tags": []
          },
          "execution_count": 62
        }
      ]
    },
    {
      "cell_type": "code",
      "metadata": {
        "id": "pv72piiTg9hW",
        "colab_type": "code",
        "outputId": "5e8e3e10-c460-452d-9f28-554bd564ab32",
        "colab": {
          "base_uri": "https://localhost:8080/",
          "height": 67
        }
      },
      "source": [
        "#CONCATENAR\n",
        "np.concatenate([v_Array_A,v_Array_B])"
      ],
      "execution_count": 0,
      "outputs": [
        {
          "output_type": "execute_result",
          "data": {
            "text/plain": [
              "array([[-0.07236473, -0.32301593],\n",
              "       [-0.50804954, -1.08026165],\n",
              "       [ 0.561728  ,  0.81217388]])"
            ]
          },
          "metadata": {
            "tags": []
          },
          "execution_count": 64
        }
      ]
    },
    {
      "cell_type": "code",
      "metadata": {
        "id": "xmYTykO3h5gA",
        "colab_type": "code",
        "outputId": "ffef9cb8-17cc-4c3e-fe07-b0ad36969e60",
        "colab": {
          "base_uri": "https://localhost:8080/",
          "height": 67
        }
      },
      "source": [
        "#R_\n",
        "#Converte \"objetos de fatia\" em concatenação ao longo do primeiro eixo.\n",
        "np.r_[v_Array_A, v_Array_B]"
      ],
      "execution_count": 0,
      "outputs": [
        {
          "output_type": "execute_result",
          "data": {
            "text/plain": [
              "array([[-0.07236473, -0.32301593],\n",
              "       [-0.50804954, -1.08026165],\n",
              "       [ 0.561728  ,  0.81217388]])"
            ]
          },
          "metadata": {
            "tags": []
          },
          "execution_count": 66
        }
      ]
    },
    {
      "cell_type": "code",
      "metadata": {
        "id": "Civ961EviJB8",
        "colab_type": "code",
        "outputId": "fda01721-5f4e-4952-eb0c-457debf07220",
        "colab": {
          "base_uri": "https://localhost:8080/",
          "height": 67
        }
      },
      "source": [
        "#VSTACK\n",
        "np.vstack([v_Array_A, v_Array_B])"
      ],
      "execution_count": 0,
      "outputs": [
        {
          "output_type": "execute_result",
          "data": {
            "text/plain": [
              "array([[-0.07236473, -0.32301593],\n",
              "       [-0.50804954, -1.08026165],\n",
              "       [ 0.561728  ,  0.81217388]])"
            ]
          },
          "metadata": {
            "tags": []
          },
          "execution_count": 75
        }
      ]
    },
    {
      "cell_type": "markdown",
      "metadata": {
        "id": "vJskCT3IlBgt",
        "colab_type": "text"
      },
      "source": [
        "#Duvida"
      ]
    },
    {
      "cell_type": "code",
      "metadata": {
        "id": "bFHJ6EP_ku_H",
        "colab_type": "code",
        "outputId": "b151580e-b535-4284-e92a-1994d7444576",
        "colab": {
          "base_uri": "https://localhost:8080/",
          "height": 34
        }
      },
      "source": [
        "import numpy as np\n",
        "v_Array1= np.arange(10).reshape(1,-1) ## ARRAY DE ARRAY ??? R: Array de 1X1\n",
        "v_Array1"
      ],
      "execution_count": 9,
      "outputs": [
        {
          "output_type": "execute_result",
          "data": {
            "text/plain": [
              "array([[0, 1, 2, 3, 4, 5, 6, 7, 8, 9]])"
            ]
          },
          "metadata": {
            "tags": []
          },
          "execution_count": 9
        }
      ]
    },
    {
      "cell_type": "code",
      "metadata": {
        "id": "maTKNJMUEbp7",
        "colab_type": "code",
        "colab": {
          "base_uri": "https://localhost:8080/",
          "height": 34
        },
        "outputId": "cc4c2100-84b4-4a1c-f811-5c80bfbf35fc"
      },
      "source": [
        "v_Array1[0] #Output do indice 0: \"array([0, 1, 2, 3, 4, 5, 6, 7, 8, 9])\""
      ],
      "execution_count": 8,
      "outputs": [
        {
          "output_type": "execute_result",
          "data": {
            "text/plain": [
              "0"
            ]
          },
          "metadata": {
            "tags": []
          },
          "execution_count": 8
        }
      ]
    },
    {
      "cell_type": "code",
      "metadata": {
        "id": "Ypqj6W2pkyGI",
        "colab_type": "code",
        "outputId": "375f0cbb-7f63-4f7d-8ce4-27823a4667b6",
        "colab": {
          "base_uri": "https://localhost:8080/",
          "height": 34
        }
      },
      "source": [
        "np.random.seed(20111974)\n",
        "v_Array1_1 = np.random.randn(1, 10)\n",
        "v_Array1_1"
      ],
      "execution_count": 0,
      "outputs": [
        {
          "output_type": "execute_result",
          "data": {
            "text/plain": [
              "(1, 10)"
            ]
          },
          "metadata": {
            "tags": []
          },
          "execution_count": 97
        }
      ]
    },
    {
      "cell_type": "code",
      "metadata": {
        "id": "QdITEgwIlo7b",
        "colab_type": "code",
        "outputId": "e181e163-ead4-4d82-9e42-1850346f0283",
        "colab": {
          "base_uri": "https://localhost:8080/",
          "height": 34
        }
      },
      "source": [
        "np.random.seed(20111974)\n",
        "v_Array1_2 = np.random.randint(1, 10, size=10)\n",
        "v_Array1_2.shape"
      ],
      "execution_count": 0,
      "outputs": [
        {
          "output_type": "execute_result",
          "data": {
            "text/plain": [
              "(10,)"
            ]
          },
          "metadata": {
            "tags": []
          },
          "execution_count": 94
        }
      ]
    },
    {
      "cell_type": "code",
      "metadata": {
        "id": "7OyYeFTEmbc7",
        "colab_type": "code",
        "outputId": "f0f41b4a-e0f0-44ac-a0e9-c9149ab365b1",
        "colab": {
          "base_uri": "https://localhost:8080/",
          "height": 84
        }
      },
      "source": [
        "#CONCATENAR\n",
        "np.concatenate([v_Array1,v_Array1_1], axis= 0)"
      ],
      "execution_count": 0,
      "outputs": [
        {
          "output_type": "execute_result",
          "data": {
            "text/plain": [
              "array([[ 0.        ,  1.        ,  2.        ,  3.        ,  4.        ,\n",
              "         5.        ,  6.        ,  7.        ,  8.        ,  9.        ],\n",
              "       [ 2.5062768 ,  1.11440422,  2.05565501,  0.56482376,  0.29897276,\n",
              "         1.04930857, -0.12607366,  1.06227632,  1.13807032,  1.37966044]])"
            ]
          },
          "metadata": {
            "tags": []
          },
          "execution_count": 99
        }
      ]
    },
    {
      "cell_type": "markdown",
      "metadata": {
        "id": "J4Lb12khBCq-",
        "colab_type": "text"
      },
      "source": [
        "#Selecionar itens do array"
      ]
    },
    {
      "cell_type": "code",
      "metadata": {
        "id": "VfvQVcpjCba8",
        "colab_type": "code",
        "outputId": "1719ffe4-7d69-4152-cf27-9a28e0bae9c5",
        "colab": {
          "base_uri": "https://localhost:8080/",
          "height": 34
        }
      },
      "source": [
        "import numpy as np\n",
        "v_Array_Where = np.arange(15)\n",
        "v_Array_Where\n",
        "v_Idx = np.where((v_Array_Where > 13))\n",
        "v_Idx"
      ],
      "execution_count": 0,
      "outputs": [
        {
          "output_type": "execute_result",
          "data": {
            "text/plain": [
              "(array([14]),)"
            ]
          },
          "metadata": {
            "tags": []
          },
          "execution_count": 21
        }
      ]
    },
    {
      "cell_type": "code",
      "metadata": {
        "id": "drmi8AOeDHVS",
        "colab_type": "code",
        "outputId": "609ccf13-baaf-4176-e6c8-90b35c23fb16",
        "colab": {
          "base_uri": "https://localhost:8080/",
          "height": 34
        }
      },
      "source": [
        "v_Array_Where[v_Array_Where > 13]"
      ],
      "execution_count": 0,
      "outputs": [
        {
          "output_type": "execute_result",
          "data": {
            "text/plain": [
              "array([14])"
            ]
          },
          "metadata": {
            "tags": []
          },
          "execution_count": 22
        }
      ]
    },
    {
      "cell_type": "code",
      "metadata": {
        "id": "zZnUTkJmDFpt",
        "colab_type": "code",
        "outputId": "24d7a177-5789-4812-d814-975a34d3f156",
        "colab": {
          "base_uri": "https://localhost:8080/",
          "height": 34
        }
      },
      "source": [
        "np.where((np.arange(15) == 13))"
      ],
      "execution_count": 0,
      "outputs": [
        {
          "output_type": "execute_result",
          "data": {
            "text/plain": [
              "(array([13]),)"
            ]
          },
          "metadata": {
            "tags": []
          },
          "execution_count": 25
        }
      ]
    },
    {
      "cell_type": "code",
      "metadata": {
        "id": "Hiuh0lLWECkQ",
        "colab_type": "code",
        "colab": {}
      },
      "source": [
        "v_Array_A = np.arange(15)\n",
        "v_Array_B = np.arange(0,15,step=2)\n"
      ],
      "execution_count": 0,
      "outputs": []
    },
    {
      "cell_type": "code",
      "metadata": {
        "id": "LqYnT9o8EJce",
        "colab_type": "code",
        "outputId": "7140295a-e939-43af-a2ea-56ee6ff2f012",
        "colab": {
          "base_uri": "https://localhost:8080/",
          "height": 34
        }
      },
      "source": [
        "np.intersect1d(v_Array_A, v_Array_B) #elementos em comun\n",
        "v_Array_A"
      ],
      "execution_count": 0,
      "outputs": [
        {
          "output_type": "execute_result",
          "data": {
            "text/plain": [
              "array([ 0,  1,  2,  3,  4,  5,  6,  7,  8,  9, 10, 11, 12, 13, 14])"
            ]
          },
          "metadata": {
            "tags": []
          },
          "execution_count": 36
        }
      ]
    },
    {
      "cell_type": "code",
      "metadata": {
        "id": "i9Qn2VLrEdHk",
        "colab_type": "code",
        "outputId": "5f11ea8d-3f7b-442b-e5cc-61ffc6d98fb6",
        "colab": {
          "base_uri": "https://localhost:8080/",
          "height": 34
        }
      },
      "source": [
        "np.setdiff1d(v_Array_A, v_Array_B) #Array A menos os elementos de Array B\n",
        "#v_Array_A"
      ],
      "execution_count": 0,
      "outputs": [
        {
          "output_type": "execute_result",
          "data": {
            "text/plain": [
              "array([ 1,  3,  5,  7,  9, 11, 13])"
            ]
          },
          "metadata": {
            "tags": []
          },
          "execution_count": 42
        }
      ]
    },
    {
      "cell_type": "code",
      "metadata": {
        "id": "fOorpKbCEngi",
        "colab_type": "code",
        "outputId": "ae03344c-e716-405c-b113-04d9d0bcbf55",
        "colab": {
          "base_uri": "https://localhost:8080/",
          "height": 34
        }
      },
      "source": [
        "# Quando os elementos de A estão em B\n",
        "v_Array_A = np.arange(15)\n",
        "v_Array_B = np.arange(0,30,step=2)\n",
        "np.where(v_Array_A == v_Array_B) # os arrays devem ter o mesmo shape"
      ],
      "execution_count": 0,
      "outputs": [
        {
          "output_type": "execute_result",
          "data": {
            "text/plain": [
              "(array([0]),)"
            ]
          },
          "metadata": {
            "tags": []
          },
          "execution_count": 48
        }
      ]
    },
    {
      "cell_type": "code",
      "metadata": {
        "id": "0erON4B0FDx3",
        "colab_type": "code",
        "colab": {}
      },
      "source": [
        ""
      ],
      "execution_count": 0,
      "outputs": []
    },
    {
      "cell_type": "markdown",
      "metadata": {
        "id": "rPFxpds6Ft6L",
        "colab_type": "text"
      },
      "source": [
        "#Autovalor e Autovetor"
      ]
    },
    {
      "cell_type": "code",
      "metadata": {
        "id": "561pNsIDFwn4",
        "colab_type": "code",
        "outputId": "7b716a61-e51d-4292-c5b7-37d4323a74e6",
        "colab": {
          "base_uri": "https://localhost:8080/",
          "height": 67
        }
      },
      "source": [
        "np.random.seed(seed = 27031979)\n",
        "v_Array_3x3_A = np.random.randint(1, 10, size=[3,3])\n",
        "v_Array_3x3_A"
      ],
      "execution_count": 0,
      "outputs": [
        {
          "output_type": "execute_result",
          "data": {
            "text/plain": [
              "array([[9, 8, 1],\n",
              "       [3, 6, 3],\n",
              "       [9, 1, 5]])"
            ]
          },
          "metadata": {
            "tags": []
          },
          "execution_count": 61
        }
      ]
    },
    {
      "cell_type": "code",
      "metadata": {
        "id": "XEVPBP6MHZz6",
        "colab_type": "code",
        "outputId": "2ca3617e-4f61-475e-d84d-0f5193889a88",
        "colab": {
          "base_uri": "https://localhost:8080/",
          "height": 67
        }
      },
      "source": [
        "v_Array_3x3_B = np.random.randint(20, 30, size=[3,3])\n",
        "v_Array_3x3_B"
      ],
      "execution_count": 0,
      "outputs": [
        {
          "output_type": "execute_result",
          "data": {
            "text/plain": [
              "array([[27, 20, 28],\n",
              "       [23, 26, 25],\n",
              "       [21, 28, 25]])"
            ]
          },
          "metadata": {
            "tags": []
          },
          "execution_count": 63
        }
      ]
    },
    {
      "cell_type": "code",
      "metadata": {
        "id": "H5wNA9UwGbMD",
        "colab_type": "code",
        "colab": {}
      },
      "source": [
        "#Compute the eigenvalues and right eigenvectors of a square array.\n",
        "help(np.linalg.eig)"
      ],
      "execution_count": 0,
      "outputs": []
    },
    {
      "cell_type": "code",
      "metadata": {
        "id": "4fO5MBA4HAVc",
        "colab_type": "code",
        "colab": {}
      },
      "source": [
        "v_AutoValor, v_AutoVector = np.linalg.eig([v_Array_3x3_A,v_Array_3x3_B])  # ACEITA MAIS DE UM ARRAY"
      ],
      "execution_count": 0,
      "outputs": []
    },
    {
      "cell_type": "code",
      "metadata": {
        "id": "Pso_EjNkHJ51",
        "colab_type": "code",
        "outputId": "2892bb7f-a229-42aa-c68e-af89d8d05dd8",
        "colab": {
          "base_uri": "https://localhost:8080/",
          "height": 84
        }
      },
      "source": [
        "v_AutoValor"
      ],
      "execution_count": 0,
      "outputs": [
        {
          "output_type": "execute_result",
          "data": {
            "text/plain": [
              "array([[15.10548021+0.j        ,  2.4472599 +3.61619235j,\n",
              "         2.4472599 -3.61619235j],\n",
              "       [74.31715733+0.j        ,  1.84142133+1.3823059j ,\n",
              "         1.84142133-1.3823059j ]])"
            ]
          },
          "metadata": {
            "tags": []
          },
          "execution_count": 68
        }
      ]
    },
    {
      "cell_type": "code",
      "metadata": {
        "id": "8nOFDkH3HKgO",
        "colab_type": "code",
        "outputId": "52a7c3cb-5926-4ae4-8cc9-bada06d427c3",
        "colab": {
          "base_uri": "https://localhost:8080/",
          "height": 235
        }
      },
      "source": [
        "v_AutoVector"
      ],
      "execution_count": 0,
      "outputs": [
        {
          "output_type": "execute_result",
          "data": {
            "text/plain": [
              "array([[[-0.65577886+0.j        , -0.2186708 +0.36809391j,\n",
              "         -0.2186708 -0.36809391j],\n",
              "        [-0.42225248+0.j        , -0.08795125-0.40034742j,\n",
              "         -0.08795125+0.40034742j],\n",
              "        [-0.625825  +0.j        ,  0.80540454+0.j        ,\n",
              "          0.80540454-0.j        ]],\n",
              "\n",
              "       [[-0.58285262+0.j        , -0.73756936+0.j        ,\n",
              "         -0.73756936-0.j        ],\n",
              "        [-0.57468917+0.j        ,  0.02973258+0.15098287j,\n",
              "          0.02973258-0.15098287j],\n",
              "        [-0.57446948+0.j        ,  0.64148376-0.14425728j,\n",
              "          0.64148376+0.14425728j]]])"
            ]
          },
          "metadata": {
            "tags": []
          },
          "execution_count": 69
        }
      ]
    },
    {
      "cell_type": "markdown",
      "metadata": {
        "id": "P6S-FUmKJLCi",
        "colab_type": "text"
      },
      "source": [
        "#NaN"
      ]
    },
    {
      "cell_type": "markdown",
      "metadata": {
        "id": "b3J9v5_GJOQS",
        "colab_type": "text"
      },
      "source": [
        "Em computação, NaN (acrônimo em inglês para Not a Number) é um valor ou símbolo usado nas linguagens de programação para representar um valor numérico indefinido ou irrepresentável."
      ]
    },
    {
      "cell_type": "code",
      "metadata": {
        "id": "bKf3-RK8HMO-",
        "colab_type": "code",
        "colab": {}
      },
      "source": [
        "help(np.nan)"
      ],
      "execution_count": 0,
      "outputs": []
    },
    {
      "cell_type": "code",
      "metadata": {
        "id": "9PQFSY0qJaqp",
        "colab_type": "code",
        "outputId": "74fdaaf4-e459-4803-e01f-06a4a5cc2156",
        "colab": {
          "base_uri": "https://localhost:8080/",
          "height": 34
        }
      },
      "source": [
        "np.nan"
      ],
      "execution_count": 0,
      "outputs": [
        {
          "output_type": "execute_result",
          "data": {
            "text/plain": [
              "nan"
            ]
          },
          "metadata": {
            "tags": []
          },
          "execution_count": 74
        }
      ]
    },
    {
      "cell_type": "code",
      "metadata": {
        "id": "oMO194DmJkB4",
        "colab_type": "code",
        "outputId": "ad38b768-91a3-4b48-d4a6-2beffd6de7f4",
        "colab": {
          "base_uri": "https://localhost:8080/",
          "height": 118
        }
      },
      "source": [
        "#ATRIBUR, EM QUALQUER INDICE, O VALOR NAN\n",
        "\n",
        "np.random.seed(seed = 27031979)\n",
        "\n",
        "v_Array = np.random.random(25) # 25 numeros aleatorios # ISSO É UMA LISTA?\n",
        "#print(f'Array {v_Array}')\n",
        "#print(f'Dimensao {v_Array.ndim}')\n",
        "#print(f'Shape {v_Array.shape}')\n",
        " \n",
        "v_Idx_Rand = np.random.randint(0, 25, size=5) # LISTA?\n",
        "v_Idx_Rand = np.sort(v_Idx_Rand) # DUVIDA: nao ordenou pq sao INDICES e nao VALORES ? R: Ordenou quando passei a atribuir o resultado do SORT a uma variavel\n",
        "print(f'Indices {v_Idx_Rand}')\n",
        "#print(f'Dimensao {v_Idx_Rand.ndim}')\n",
        "#print(f'Shape {v_Idx_Rand.shape}')\n",
        "\n",
        "for i in v_Idx_Rand:\n",
        "    v_Array[v_Idx_Rand] = np.nan\n",
        "    \n",
        "v_Array = np.sort(v_Array) # DUVIDA: PORQUE NAO ORDENOU? R: Ordenou quando passei a atribuir o resultado do SORT a uma variavel\n",
        "v_Array    "
      ],
      "execution_count": 0,
      "outputs": [
        {
          "output_type": "stream",
          "text": [
            "Indices [13 18 21 23 23]\n"
          ],
          "name": "stdout"
        },
        {
          "output_type": "execute_result",
          "data": {
            "text/plain": [
              "array([0.02527809, 0.18315026, 0.24687826, 0.34412652, 0.35098484,\n",
              "       0.37293865, 0.39364883, 0.40080898, 0.44942041, 0.50866884,\n",
              "       0.54613419, 0.57396324, 0.5873962 , 0.67219587, 0.71682512,\n",
              "       0.72288452, 0.80974869, 0.81004079, 0.82225737, 0.92419913,\n",
              "       0.93235274,        nan,        nan,        nan,        nan])"
            ]
          },
          "metadata": {
            "tags": []
          },
          "execution_count": 118
        }
      ]
    },
    {
      "cell_type": "code",
      "metadata": {
        "id": "9BNEkPiTLzHI",
        "colab_type": "code",
        "outputId": "8d8bf08b-2245-4437-a46a-49e724a71fbd",
        "colab": {
          "base_uri": "https://localhost:8080/",
          "height": 34
        }
      },
      "source": [
        "# contar quandos NaNs tem\n",
        "np.isnan(v_Array).sum()"
      ],
      "execution_count": 0,
      "outputs": [
        {
          "output_type": "execute_result",
          "data": {
            "text/plain": [
              "4"
            ]
          },
          "metadata": {
            "tags": []
          },
          "execution_count": 101
        }
      ]
    },
    {
      "cell_type": "code",
      "metadata": {
        "id": "QqcU-tQjL-WW",
        "colab_type": "code",
        "outputId": "5b758a16-28d3-4118-b0e1-101f6924d186",
        "colab": {
          "base_uri": "https://localhost:8080/",
          "height": 34
        }
      },
      "source": [
        "#Quais is indices que tem o valor NAN\n",
        "np.where(np.isnan(v_Array))"
      ],
      "execution_count": 0,
      "outputs": [
        {
          "output_type": "execute_result",
          "data": {
            "text/plain": [
              "(array([21, 22, 23, 24]),)"
            ]
          },
          "metadata": {
            "tags": []
          },
          "execution_count": 119
        }
      ]
    },
    {
      "cell_type": "code",
      "metadata": {
        "id": "Ax37SndvN9j0",
        "colab_type": "code",
        "outputId": "042edff5-07c2-4b9d-d14c-5a3e1c3aa5cb",
        "colab": {
          "base_uri": "https://localhost:8080/",
          "height": 101
        }
      },
      "source": [
        "#Excluir os NaNs\n",
        "v_Array[np.isnan(v_Array)] # so os NANs\n",
        "v_Array[~np.isnan(v_Array)] # sem os NANs"
      ],
      "execution_count": 0,
      "outputs": [
        {
          "output_type": "execute_result",
          "data": {
            "text/plain": [
              "array([0.02527809, 0.18315026, 0.24687826, 0.34412652, 0.35098484,\n",
              "       0.37293865, 0.39364883, 0.40080898, 0.44942041, 0.50866884,\n",
              "       0.54613419, 0.57396324, 0.5873962 , 0.67219587, 0.71682512,\n",
              "       0.72288452, 0.80974869, 0.81004079, 0.82225737, 0.92419913,\n",
              "       0.93235274])"
            ]
          },
          "metadata": {
            "tags": []
          },
          "execution_count": 127
        }
      ]
    },
    {
      "cell_type": "markdown",
      "metadata": {
        "id": "SXynYbgpJWVA",
        "colab_type": "text"
      },
      "source": [
        "#Conversao"
      ]
    },
    {
      "cell_type": "code",
      "metadata": {
        "id": "pHAywmfQJXq0",
        "colab_type": "code",
        "outputId": "fed449c7-9bb6-4eed-a5ac-9ef5881beb68",
        "colab": {
          "base_uri": "https://localhost:8080/",
          "height": 34
        }
      },
      "source": [
        "#DE LISTA PARA ARRAY\n",
        "import numpy as np\n",
        "\n",
        "v_lista_A = np.random.randint(0,10,5) #array\n",
        "v_lista_B = [np.random.randint(0,10,5)] #lista\n",
        "\n",
        "type(v_lista_B)\n",
        "\n",
        "v_array_a = np.asarray(v_lista_A)\n",
        "type(v_array_a)"
      ],
      "execution_count": 0,
      "outputs": [
        {
          "output_type": "execute_result",
          "data": {
            "text/plain": [
              "numpy.ndarray"
            ]
          },
          "metadata": {
            "tags": []
          },
          "execution_count": 11
        }
      ]
    },
    {
      "cell_type": "code",
      "metadata": {
        "id": "HYhmbhpcKF5s",
        "colab_type": "code",
        "outputId": "05dc3b45-a96f-4650-a1be-5d43f22fa05b",
        "colab": {
          "base_uri": "https://localhost:8080/",
          "height": 34
        }
      },
      "source": [
        "v_tupla = ([np.random.randint(0, 10, 3)],[np.random.randint(0, 10, 3)],[np.random.randint(0, 10, 3)])\n",
        "v_tupla\n",
        "\n",
        "v_array_a = np.asarray(v_tupla)\n",
        "type(v_array_a)"
      ],
      "execution_count": 0,
      "outputs": [
        {
          "output_type": "execute_result",
          "data": {
            "text/plain": [
              "numpy.ndarray"
            ]
          },
          "metadata": {
            "tags": []
          },
          "execution_count": 13
        }
      ]
    },
    {
      "cell_type": "markdown",
      "metadata": {
        "id": "T2pUkGgqUdDB",
        "colab_type": "text"
      },
      "source": [
        "#HOJE"
      ]
    },
    {
      "cell_type": "code",
      "metadata": {
        "id": "P_3QKtabUeJV",
        "colab_type": "code",
        "outputId": "2fc9e4a8-5c0f-4e89-a7ae-e8398440073f",
        "colab": {
          "base_uri": "https://localhost:8080/",
          "height": 34
        }
      },
      "source": [
        "import numpy as np\n",
        "np.random.seed(seed = 20111974)\n",
        "\n",
        "# Simulando Retornos de ativos financeiros com a distribuição Normal(0,1):\n",
        "v_Retornos= np.random.normal(0, 1, 100)\n",
        "print(f'Média: {np.mean(v_Retornos)}')"
      ],
      "execution_count": 0,
      "outputs": [
        {
          "output_type": "stream",
          "text": [
            "Média: -0.016996335492713833\n"
          ],
          "name": "stdout"
        }
      ]
    },
    {
      "cell_type": "code",
      "metadata": {
        "id": "OfAB4EMeVU6P",
        "colab_type": "code",
        "outputId": "143bc607-28e0-492a-e468-21dafabba3f1",
        "colab": {
          "base_uri": "https://localhost:8080/",
          "height": 50
        }
      },
      "source": [
        "v_Percentis = np.percentile(v_Retornos, q=[1, 5, 25, 50, 55, 75, 99])\n",
        "v_Percentis "
      ],
      "execution_count": 0,
      "outputs": [
        {
          "output_type": "execute_result",
          "data": {
            "text/plain": [
              "array([-2.0304241 , -1.49481318, -0.78361477, -0.12205087,  0.08182676,\n",
              "        0.71947681,  2.06016123])"
            ]
          },
          "metadata": {
            "tags": []
          },
          "execution_count": 4
        }
      ]
    },
    {
      "cell_type": "code",
      "metadata": {
        "id": "2uqq0-j8VpLn",
        "colab_type": "code",
        "colab": {}
      },
      "source": [
        "\n",
        "# LimSup = Q3 + 1.5 * IQR , onde Q3 75%\n",
        "# LimInf = Q1 - 1.5 * IQR , onde Q1 25% \n",
        "# IQR = Q3 - Q1\n",
        "\n",
        "v_LimInf = (v_Percentis[2] + 1.5) * ()\n",
        "v_LimSup = (v_Percentis[5] + 1.5) * ()\n"
      ],
      "execution_count": 0,
      "outputs": []
    },
    {
      "cell_type": "markdown",
      "metadata": {
        "id": "-W6c0tnte5ty",
        "colab_type": "text"
      },
      "source": [
        "#Exercicio (REVER!)"
      ]
    },
    {
      "cell_type": "code",
      "metadata": {
        "id": "YEgCI0OsfAZg",
        "colab_type": "code",
        "colab": {
          "base_uri": "https://localhost:8080/",
          "height": 185
        },
        "outputId": "48403ab8-948e-4087-a1d1-cc18ededdc58"
      },
      "source": [
        "# Preparando o exemplo:\n",
        "import numpy as np\n",
        "np.set_printoptions(precision=0)\n",
        "np.random.seed(19741120)\n",
        "m_X= np.array(np.random.normal(100, 10, size= 100)) #normal(loc=0.0, scale=1.0, size=None) #media, desvio padrao, tamanho\n",
        "m_X"
      ],
      "execution_count": 62,
      "outputs": [
        {
          "output_type": "execute_result",
          "data": {
            "text/plain": [
              "array([ 92.,  89., 101.,  89.,  78.,  92.,  78.,  97.,  89., 103., 100.,\n",
              "        87.,  97., 100., 101.,  98., 104.,  91.,  95.,  93., 118.,  88.,\n",
              "       112., 105.,  94.,  91.,  98., 110., 112., 123., 102., 107.,  95.,\n",
              "       109., 107., 122.,  99., 113.,  96., 114., 109.,  99.,  96., 109.,\n",
              "        99.,  85., 100., 109., 116., 114., 100.,  95.,  96., 100.,  77.,\n",
              "       110., 107.,  92.,  97.,  84.,  96.,  97.,  93.,  94.,  94.,  97.,\n",
              "       113., 113., 105., 108., 111.,  99.,  94.,  98.,  85., 102.,  97.,\n",
              "        94., 106., 105.,  92., 104., 104.,  99., 119.,  92.,  80., 106.,\n",
              "        78., 106., 114., 112., 100.,  94.,  99., 123., 112., 101., 105.,\n",
              "        95.])"
            ]
          },
          "metadata": {
            "tags": []
          },
          "execution_count": 62
        }
      ]
    },
    {
      "cell_type": "code",
      "metadata": {
        "id": "wJWA0aSUfYWq",
        "colab_type": "code",
        "colab": {
          "base_uri": "https://localhost:8080/",
          "height": 34
        },
        "outputId": "8c94b8cc-3069-44c8-b3b7-dff62214b9f1"
      },
      "source": [
        "# Algumas estatísticas descritivas:\n",
        "f'Média: {np.mean(m_X)}; Mediana: {np.median(m_X)}; STD: {np.std(m_X)}'"
      ],
      "execution_count": 37,
      "outputs": [
        {
          "output_type": "execute_result",
          "data": {
            "text/plain": [
              "'Média: 90.91190590171118; Mediana: 90.60982589102949; STD: 7.8465139716162495'"
            ]
          },
          "metadata": {
            "tags": []
          },
          "execution_count": 37
        }
      ]
    },
    {
      "cell_type": "code",
      "metadata": {
        "id": "MI7GCS2NfcEE",
        "colab_type": "code",
        "colab": {
          "base_uri": "https://localhost:8080/",
          "height": 34
        },
        "outputId": "a083b8e4-b4d7-4520-f840-7c3f5ae0b2fe"
      },
      "source": [
        "# Lista aleatória de índices que vou alterar\n",
        "np.random.seed(20111974)\n",
        "l_Idx= np.random.randint(0, 10, 3)\n",
        "np.sort(l_Idx)\n",
        "l_Idx"
      ],
      "execution_count": 41,
      "outputs": [
        {
          "output_type": "execute_result",
          "data": {
            "text/plain": [
              "array([8, 8, 2])"
            ]
          },
          "metadata": {
            "tags": []
          },
          "execution_count": 41
        }
      ]
    },
    {
      "cell_type": "code",
      "metadata": {
        "id": "vBY4nzhcffea",
        "colab_type": "code",
        "colab": {
          "base_uri": "https://localhost:8080/",
          "height": 34
        },
        "outputId": "1c51be70-30fc-4eaf-dff9-e961a2365774"
      },
      "source": [
        "m_X2= m_X.copy()\n",
        "for i in l_Idx:\n",
        "    m_X2[i]= 2*m_X2[i]\n",
        "    \n",
        "m_X2    "
      ],
      "execution_count": 52,
      "outputs": [
        {
          "output_type": "execute_result",
          "data": {
            "text/plain": [
              "array([ 92.,  89., 202.,  89.,  78.,  92.,  78.,  97., 356., 103.])"
            ]
          },
          "metadata": {
            "tags": []
          },
          "execution_count": 52
        }
      ]
    },
    {
      "cell_type": "code",
      "metadata": {
        "id": "QCTsPu8_fpHi",
        "colab_type": "code",
        "colab": {
          "base_uri": "https://localhost:8080/",
          "height": 272
        },
        "outputId": "3f73b9ba-f90b-4de8-ef4b-b90b25aca962"
      },
      "source": [
        "# Import a biblioteca seaborn:\n",
        "import seaborn as sns\n",
        "sns.boxplot(y= m_X2)"
      ],
      "execution_count": 53,
      "outputs": [
        {
          "output_type": "execute_result",
          "data": {
            "text/plain": [
              "<matplotlib.axes._subplots.AxesSubplot at 0x7fa39d1d8e10>"
            ]
          },
          "metadata": {
            "tags": []
          },
          "execution_count": 53
        },
        {
          "output_type": "display_data",
          "data": {
            "image/png": "[encoded data removed]",
            "text/plain": [
              "<Figure size 432x288 with 1 Axes>"
            ]
          },
          "metadata": {
            "tags": []
          }
        }
      ]
    },
    {
      "cell_type": "code",
      "metadata": {
        "id": "mTRxk17jf0CA",
        "colab_type": "code",
        "colab": {
          "base_uri": "https://localhost:8080/",
          "height": 67
        },
        "outputId": "96878943-3c29-41c4-c4ab-82ae5c4ae272"
      },
      "source": [
        "#Q1, Q3\n",
        "#IQR = Q3-Q1\n",
        "#Lim_Inf = Q1-1.5*IQR\n",
        "#Lim_Sup = Q3+1.5*IQR\n",
        "\n",
        "v_Percentis = np.percentile(m_X2, q=[25, 50, 75])\n",
        "print(v_Percentis[0])\n",
        "print(v_Percentis[1])\n",
        "\n",
        "v_LimInf = v_Percentis[0] - 1.5 * (v_Percentis[0] - v_Percentis[2])\n",
        "v_LimSup = v_Percentis[2] + 1.5 * (v_Percentis[0] - v_Percentis[2])\n",
        "v_Mediana = v_Percentis[1]\n",
        "\n",
        "f'LimInf = {v_LimInf} e LimSup = {v_LimSup} e Mediana {v_Mediana} '\n"
      ],
      "execution_count": 54,
      "outputs": [
        {
          "output_type": "stream",
          "text": [
            "88.64343370711052\n",
            "92.3703261730598\n"
          ],
          "name": "stdout"
        },
        {
          "output_type": "execute_result",
          "data": {
            "text/plain": [
              "'LimInf = 108.14020505852992 e LimSup = 82.14450992330404 e Mediana 92.3703261730598 '"
            ]
          },
          "metadata": {
            "tags": []
          },
          "execution_count": 54
        }
      ]
    },
    {
      "cell_type": "code",
      "metadata": {
        "id": "qAnmCYTnggkx",
        "colab_type": "code",
        "colab": {
          "base_uri": "https://localhost:8080/",
          "height": 34
        },
        "outputId": "660896f0-b20c-4617-f2d8-8129d38df785"
      },
      "source": [
        "#Se m_X2[i] < Lim_Inf então m_X2[i]= Lim_Inf\n",
        "#Se m_X2[i] > Lim_Sup então m_X2[i]= Lim_Sup\n",
        "\n",
        "m_X2[m_X2 < v_LimInf] = v_LimInf\n",
        "m_X2[m_X2 > v_LimSup] = v_LimSup\n",
        "m_X2\n"
      ],
      "execution_count": 55,
      "outputs": [
        {
          "output_type": "execute_result",
          "data": {
            "text/plain": [
              "array([82., 82., 82., 82., 82., 82., 82., 82., 82., 82.])"
            ]
          },
          "metadata": {
            "tags": []
          },
          "execution_count": 55
        }
      ]
    }
  ]
}