{
  "nbformat": 4,
  "nbformat_minor": 0,
  "metadata": {
    "colab": {
      "name": "Untitled8.ipynb",
      "provenance": [],
      "authorship_tag": "ABX9TyPjcZ3rkcoD+OPjJJ+4E9Eb",
      "include_colab_link": true
    },
    "kernelspec": {
      "name": "python3",
      "display_name": "Python 3"
    }
  },
  "cells": [
    {
      "cell_type": "markdown",
      "metadata": {
        "id": "view-in-github",
        "colab_type": "text"
      },
      "source": [
        "<a href=\"https://colab.research.google.com/github/cryssoga/DSWP/blob/master/Li%C3%A7%C3%A3o/Kaggle_Churn_Challenge_Logistic_Regression_16nov.ipynb\" target=\"_parent\"><img src=\"https://colab.research.google.com/assets/colab-badge.svg\" alt=\"Open In Colab\"/></a>"
      ]
    },
    {
      "cell_type": "markdown",
      "metadata": {
        "id": "I-cvXhGCCNTN"
      },
      "source": [
        "## Labdata Churn Challenge 2020\n",
        "\n",
        "Try to predict whether a client will churn the telco service\n",
        "Cada linha representa um cliente e cada coluna representa uma informação a respeito daquele cliente.\n",
        "\n",
        "Os dados incluem os seguintes grupos de variáveis:\n",
        "\n",
        "•\tChurn: representa se um cliente cancelou ou não os serviços contratados\n",
        "\n",
        "•\tServiços que cada cliente contratou - phone, multiple lines, internet, online security, online backup, device protection, tech support, and streaming TV and movies\n",
        "\n",
        "•\tInformações a respeito da conta do cliente – how long they’ve been a customer, contract, payment method, paperless billing, monthly charges, and total charges\n",
        "\n",
        "•\tInformações demográficas – gender, age range, and if they have partners and dependents\n",
        "\n",
        "The raw data contains 7043 rows (customers) and 21 columns (features)."
      ]
    },
    {
      "cell_type": "code",
      "metadata": {
        "id": "P0-pQ5vxCPW8",
        "outputId": "e4b0f8b3-217f-4193-9892-ca427fd37397",
        "colab": {
          "base_uri": "https://localhost:8080/"
        }
      },
      "source": [
        "import pandas as pd\n",
        "import numpy as np\n",
        "import statsmodels.api as sm\n",
        "import statsmodels.formula.api as smf"
      ],
      "execution_count": 4,
      "outputs": [
        {
          "output_type": "stream",
          "text": [
            "/usr/local/lib/python3.6/dist-packages/statsmodels/tools/_testing.py:19: FutureWarning: pandas.util.testing is deprecated. Use the functions in the public API at pandas.testing instead.\n",
            "  import pandas.util.testing as tm\n"
          ],
          "name": "stderr"
        }
      ]
    },
    {
      "cell_type": "code",
      "metadata": {
        "id": "-TgqLPAoDQ4a"
      },
      "source": [
        "# url dos arquivos baixados do site https://www.kaggle.com/c/labdata-churn-challenge-2020/data e uploaded em github\n",
        "\n",
        "url_train = 'https://raw.githubusercontent.com/cryssoga/DSWP/master/Li%C3%A7%C3%A3o/train.csv'\n",
        "url_test = 'https://raw.githubusercontent.com/cryssoga/DSWP/master/Li%C3%A7%C3%A3o/test.csv'\n",
        "url_sample_submission = 'https://raw.githubusercontent.com/cryssoga/DSWP/master/Li%C3%A7%C3%A3o/sample_submission.csv'"
      ],
      "execution_count": 5,
      "outputs": []
    },
    {
      "cell_type": "code",
      "metadata": {
        "id": "ShDbzDgjEP88"
      },
      "source": [
        "# carregando em dataframes:\n",
        "\n",
        "df_train = pd.read_csv(url_train)\n",
        "df_test = pd.read_csv(url_test)\n",
        "df_sample_submission = pd.read_csv(url_sample_submission)"
      ],
      "execution_count": 6,
      "outputs": []
    },
    {
      "cell_type": "code",
      "metadata": {
        "id": "amEfeP1K0uwy",
        "outputId": "04801f57-ae80-49bf-c370-df20cfb06750",
        "colab": {
          "base_uri": "https://localhost:8080/"
        }
      },
      "source": [
        "df_train.shape"
      ],
      "execution_count": 298,
      "outputs": [
        {
          "output_type": "execute_result",
          "data": {
            "text/plain": [
              "(5634, 21)"
            ]
          },
          "metadata": {
            "tags": []
          },
          "execution_count": 298
        }
      ]
    },
    {
      "cell_type": "code",
      "metadata": {
        "id": "B-IOaL1W0w5h",
        "outputId": "b282ed59-344d-4865-82d6-15025d23e879",
        "colab": {
          "base_uri": "https://localhost:8080/"
        }
      },
      "source": [
        "df_test.shape"
      ],
      "execution_count": 299,
      "outputs": [
        {
          "output_type": "execute_result",
          "data": {
            "text/plain": [
              "(1409, 20)"
            ]
          },
          "metadata": {
            "tags": []
          },
          "execution_count": 299
        }
      ]
    },
    {
      "cell_type": "code",
      "metadata": {
        "id": "b-WLN1oOpxRZ",
        "outputId": "bcd8ec1c-156d-4217-e372-df1c69b559ab",
        "colab": {
          "base_uri": "https://localhost:8080/"
        }
      },
      "source": [
        "1409/(1409+5634)      # test: 20%, train: 80%"
      ],
      "execution_count": 300,
      "outputs": [
        {
          "output_type": "execute_result",
          "data": {
            "text/plain": [
              "0.20005679397983814"
            ]
          },
          "metadata": {
            "tags": []
          },
          "execution_count": 300
        }
      ]
    },
    {
      "cell_type": "code",
      "metadata": {
        "id": "Qc7YANko0yhM",
        "outputId": "0e2a8680-8023-4053-a4ef-b00ed53eed71",
        "colab": {
          "base_uri": "https://localhost:8080/"
        }
      },
      "source": [
        "df_sample_submission.shape"
      ],
      "execution_count": 301,
      "outputs": [
        {
          "output_type": "execute_result",
          "data": {
            "text/plain": [
              "(1409, 2)"
            ]
          },
          "metadata": {
            "tags": []
          },
          "execution_count": 301
        }
      ]
    },
    {
      "cell_type": "code",
      "metadata": {
        "id": "bqTdqjbcFaTt",
        "outputId": "1e1bc8c7-1b0e-4c37-afab-63b09128b8d3",
        "colab": {
          "base_uri": "https://localhost:8080/",
          "height": 117
        }
      },
      "source": [
        "df_train.head(1)  "
      ],
      "execution_count": null,
      "outputs": [
        {
          "output_type": "execute_result",
          "data": {
            "text/html": [
              "<div>\n",
              "<style scoped>\n",
              "    .dataframe tbody tr th:only-of-type {\n",
              "        vertical-align: middle;\n",
              "    }\n",
              "\n",
              "    .dataframe tbody tr th {\n",
              "        vertical-align: top;\n",
              "    }\n",
              "\n",
              "    .dataframe thead th {\n",
              "        text-align: right;\n",
              "    }\n",
              "</style>\n",
              "<table border=\"1\" class=\"dataframe\">\n",
              "  <thead>\n",
              "    <tr style=\"text-align: right;\">\n",
              "      <th></th>\n",
              "      <th>id</th>\n",
              "      <th>gender</th>\n",
              "      <th>SeniorCitizen</th>\n",
              "      <th>Partner</th>\n",
              "      <th>Dependents</th>\n",
              "      <th>tenure</th>\n",
              "      <th>PhoneService</th>\n",
              "      <th>MultipleLines</th>\n",
              "      <th>InternetService</th>\n",
              "      <th>OnlineSecurity</th>\n",
              "      <th>OnlineBackup</th>\n",
              "      <th>DeviceProtection</th>\n",
              "      <th>TechSupport</th>\n",
              "      <th>StreamingTV</th>\n",
              "      <th>StreamingMovies</th>\n",
              "      <th>Contract</th>\n",
              "      <th>PaperlessBilling</th>\n",
              "      <th>PaymentMethod</th>\n",
              "      <th>MonthlyCharges</th>\n",
              "      <th>TotalCharges</th>\n",
              "      <th>Churn</th>\n",
              "    </tr>\n",
              "  </thead>\n",
              "  <tbody>\n",
              "    <tr>\n",
              "      <th>0</th>\n",
              "      <td>4030</td>\n",
              "      <td>Female</td>\n",
              "      <td>0</td>\n",
              "      <td>No</td>\n",
              "      <td>No</td>\n",
              "      <td>56.0</td>\n",
              "      <td>No</td>\n",
              "      <td>No phone service</td>\n",
              "      <td>DSL</td>\n",
              "      <td>Yes</td>\n",
              "      <td>Yes</td>\n",
              "      <td>Yes</td>\n",
              "      <td>Yes</td>\n",
              "      <td>No</td>\n",
              "      <td>No</td>\n",
              "      <td>Two year</td>\n",
              "      <td>No</td>\n",
              "      <td>NaN</td>\n",
              "      <td>45.05</td>\n",
              "      <td>2560.1</td>\n",
              "      <td>0</td>\n",
              "    </tr>\n",
              "  </tbody>\n",
              "</table>\n",
              "</div>"
            ],
            "text/plain": [
              "     id  gender  SeniorCitizen  ... MonthlyCharges TotalCharges  Churn\n",
              "0  4030  Female              0  ...          45.05       2560.1      0\n",
              "\n",
              "[1 rows x 21 columns]"
            ]
          },
          "metadata": {
            "tags": []
          },
          "execution_count": 132
        }
      ]
    },
    {
      "cell_type": "code",
      "metadata": {
        "id": "6CUwBU-PxR_M",
        "outputId": "e8ea56df-761c-40e7-86ef-ffeffea6b442",
        "colab": {
          "base_uri": "https://localhost:8080/",
          "height": 117
        }
      },
      "source": [
        "df_test.head(1)"
      ],
      "execution_count": null,
      "outputs": [
        {
          "output_type": "execute_result",
          "data": {
            "text/html": [
              "<div>\n",
              "<style scoped>\n",
              "    .dataframe tbody tr th:only-of-type {\n",
              "        vertical-align: middle;\n",
              "    }\n",
              "\n",
              "    .dataframe tbody tr th {\n",
              "        vertical-align: top;\n",
              "    }\n",
              "\n",
              "    .dataframe thead th {\n",
              "        text-align: right;\n",
              "    }\n",
              "</style>\n",
              "<table border=\"1\" class=\"dataframe\">\n",
              "  <thead>\n",
              "    <tr style=\"text-align: right;\">\n",
              "      <th></th>\n",
              "      <th>id</th>\n",
              "      <th>gender</th>\n",
              "      <th>SeniorCitizen</th>\n",
              "      <th>Partner</th>\n",
              "      <th>Dependents</th>\n",
              "      <th>tenure</th>\n",
              "      <th>PhoneService</th>\n",
              "      <th>MultipleLines</th>\n",
              "      <th>InternetService</th>\n",
              "      <th>OnlineSecurity</th>\n",
              "      <th>OnlineBackup</th>\n",
              "      <th>DeviceProtection</th>\n",
              "      <th>TechSupport</th>\n",
              "      <th>StreamingTV</th>\n",
              "      <th>StreamingMovies</th>\n",
              "      <th>Contract</th>\n",
              "      <th>PaperlessBilling</th>\n",
              "      <th>PaymentMethod</th>\n",
              "      <th>MonthlyCharges</th>\n",
              "      <th>TotalCharges</th>\n",
              "    </tr>\n",
              "  </thead>\n",
              "  <tbody>\n",
              "    <tr>\n",
              "      <th>0</th>\n",
              "      <td>5027</td>\n",
              "      <td>Male</td>\n",
              "      <td>0</td>\n",
              "      <td>Yes</td>\n",
              "      <td>Yes</td>\n",
              "      <td>23.0</td>\n",
              "      <td>Yes</td>\n",
              "      <td>No</td>\n",
              "      <td>No</td>\n",
              "      <td>No internet service</td>\n",
              "      <td>No internet service</td>\n",
              "      <td>No internet service</td>\n",
              "      <td>No internet service</td>\n",
              "      <td>No internet service</td>\n",
              "      <td>No internet service</td>\n",
              "      <td>One year</td>\n",
              "      <td>Yes</td>\n",
              "      <td>Credit card (automatic)</td>\n",
              "      <td>20.0</td>\n",
              "      <td>445.3</td>\n",
              "    </tr>\n",
              "  </tbody>\n",
              "</table>\n",
              "</div>"
            ],
            "text/plain": [
              "     id gender  ...  MonthlyCharges TotalCharges\n",
              "0  5027   Male  ...            20.0        445.3\n",
              "\n",
              "[1 rows x 20 columns]"
            ]
          },
          "metadata": {
            "tags": []
          },
          "execution_count": 133
        }
      ]
    },
    {
      "cell_type": "code",
      "metadata": {
        "id": "Eqs6h4y3xoNb",
        "outputId": "c5412371-12ef-4110-ba63-7504927e26b6",
        "colab": {
          "base_uri": "https://localhost:8080/",
          "height": 80
        }
      },
      "source": [
        "df_sample_submission.head(1)"
      ],
      "execution_count": null,
      "outputs": [
        {
          "output_type": "execute_result",
          "data": {
            "text/html": [
              "<div>\n",
              "<style scoped>\n",
              "    .dataframe tbody tr th:only-of-type {\n",
              "        vertical-align: middle;\n",
              "    }\n",
              "\n",
              "    .dataframe tbody tr th {\n",
              "        vertical-align: top;\n",
              "    }\n",
              "\n",
              "    .dataframe thead th {\n",
              "        text-align: right;\n",
              "    }\n",
              "</style>\n",
              "<table border=\"1\" class=\"dataframe\">\n",
              "  <thead>\n",
              "    <tr style=\"text-align: right;\">\n",
              "      <th></th>\n",
              "      <th>id</th>\n",
              "      <th>Churn</th>\n",
              "    </tr>\n",
              "  </thead>\n",
              "  <tbody>\n",
              "    <tr>\n",
              "      <th>0</th>\n",
              "      <td>5027</td>\n",
              "      <td>0</td>\n",
              "    </tr>\n",
              "  </tbody>\n",
              "</table>\n",
              "</div>"
            ],
            "text/plain": [
              "     id  Churn\n",
              "0  5027      0"
            ]
          },
          "metadata": {
            "tags": []
          },
          "execution_count": 134
        }
      ]
    },
    {
      "cell_type": "code",
      "metadata": {
        "id": "1PBGEy4S0msz",
        "outputId": "42031966-edd7-400a-f054-d8a4f3c88f0e",
        "colab": {
          "base_uri": "https://localhost:8080/"
        }
      },
      "source": [
        "df_train.isna().sum()"
      ],
      "execution_count": null,
      "outputs": [
        {
          "output_type": "execute_result",
          "data": {
            "text/plain": [
              "id                    0\n",
              "gender                0\n",
              "SeniorCitizen         0\n",
              "Partner               0\n",
              "Dependents          218\n",
              "tenure              461\n",
              "PhoneService          0\n",
              "MultipleLines         0\n",
              "InternetService       0\n",
              "OnlineSecurity        0\n",
              "OnlineBackup          0\n",
              "DeviceProtection      0\n",
              "TechSupport           0\n",
              "StreamingTV           0\n",
              "StreamingMovies       0\n",
              "Contract              0\n",
              "PaperlessBilling      0\n",
              "PaymentMethod        99\n",
              "MonthlyCharges        0\n",
              "TotalCharges          0\n",
              "Churn                 0\n",
              "dtype: int64"
            ]
          },
          "metadata": {
            "tags": []
          },
          "execution_count": 135
        }
      ]
    },
    {
      "cell_type": "code",
      "metadata": {
        "id": "ZwwOzcXyEbW0",
        "outputId": "134795ff-1ada-4fc7-e221-37848d33f61c",
        "colab": {
          "base_uri": "https://localhost:8080/"
        }
      },
      "source": [
        "df_train.info()\n"
      ],
      "execution_count": null,
      "outputs": [
        {
          "output_type": "stream",
          "text": [
            "<class 'pandas.core.frame.DataFrame'>\n",
            "RangeIndex: 5634 entries, 0 to 5633\n",
            "Data columns (total 21 columns):\n",
            " #   Column            Non-Null Count  Dtype  \n",
            "---  ------            --------------  -----  \n",
            " 0   id                5634 non-null   int64  \n",
            " 1   gender            5634 non-null   object \n",
            " 2   SeniorCitizen     5634 non-null   int64  \n",
            " 3   Partner           5634 non-null   object \n",
            " 4   Dependents        5416 non-null   object \n",
            " 5   tenure            5173 non-null   float64\n",
            " 6   PhoneService      5634 non-null   object \n",
            " 7   MultipleLines     5634 non-null   object \n",
            " 8   InternetService   5634 non-null   object \n",
            " 9   OnlineSecurity    5634 non-null   object \n",
            " 10  OnlineBackup      5634 non-null   object \n",
            " 11  DeviceProtection  5634 non-null   object \n",
            " 12  TechSupport       5634 non-null   object \n",
            " 13  StreamingTV       5634 non-null   object \n",
            " 14  StreamingMovies   5634 non-null   object \n",
            " 15  Contract          5634 non-null   object \n",
            " 16  PaperlessBilling  5634 non-null   object \n",
            " 17  PaymentMethod     5535 non-null   object \n",
            " 18  MonthlyCharges    5634 non-null   float64\n",
            " 19  TotalCharges      5634 non-null   object \n",
            " 20  Churn             5634 non-null   int64  \n",
            "dtypes: float64(2), int64(3), object(16)\n",
            "memory usage: 924.5+ KB\n"
          ],
          "name": "stdout"
        }
      ]
    },
    {
      "cell_type": "code",
      "metadata": {
        "id": "EmEECkwKhkGE",
        "outputId": "09fcc85b-5d4f-4548-8a13-c1e2ca448704",
        "colab": {
          "base_uri": "https://localhost:8080/",
          "height": 418
        }
      },
      "source": [
        "df_train[df_train['TotalCharges']==' ']"
      ],
      "execution_count": null,
      "outputs": [
        {
          "output_type": "execute_result",
          "data": {
            "text/html": [
              "<div>\n",
              "<style scoped>\n",
              "    .dataframe tbody tr th:only-of-type {\n",
              "        vertical-align: middle;\n",
              "    }\n",
              "\n",
              "    .dataframe tbody tr th {\n",
              "        vertical-align: top;\n",
              "    }\n",
              "\n",
              "    .dataframe thead th {\n",
              "        text-align: right;\n",
              "    }\n",
              "</style>\n",
              "<table border=\"1\" class=\"dataframe\">\n",
              "  <thead>\n",
              "    <tr style=\"text-align: right;\">\n",
              "      <th></th>\n",
              "      <th>id</th>\n",
              "      <th>gender</th>\n",
              "      <th>SeniorCitizen</th>\n",
              "      <th>Partner</th>\n",
              "      <th>Dependents</th>\n",
              "      <th>tenure</th>\n",
              "      <th>PhoneService</th>\n",
              "      <th>MultipleLines</th>\n",
              "      <th>InternetService</th>\n",
              "      <th>OnlineSecurity</th>\n",
              "      <th>OnlineBackup</th>\n",
              "      <th>DeviceProtection</th>\n",
              "      <th>TechSupport</th>\n",
              "      <th>StreamingTV</th>\n",
              "      <th>StreamingMovies</th>\n",
              "      <th>Contract</th>\n",
              "      <th>PaperlessBilling</th>\n",
              "      <th>PaymentMethod</th>\n",
              "      <th>MonthlyCharges</th>\n",
              "      <th>TotalCharges</th>\n",
              "      <th>Churn</th>\n",
              "    </tr>\n",
              "  </thead>\n",
              "  <tbody>\n",
              "    <tr>\n",
              "      <th>161</th>\n",
              "      <td>6755</td>\n",
              "      <td>Male</td>\n",
              "      <td>0</td>\n",
              "      <td>No</td>\n",
              "      <td>Yes</td>\n",
              "      <td>0.0</td>\n",
              "      <td>Yes</td>\n",
              "      <td>Yes</td>\n",
              "      <td>DSL</td>\n",
              "      <td>Yes</td>\n",
              "      <td>Yes</td>\n",
              "      <td>No</td>\n",
              "      <td>Yes</td>\n",
              "      <td>No</td>\n",
              "      <td>No</td>\n",
              "      <td>Two year</td>\n",
              "      <td>Yes</td>\n",
              "      <td>Bank transfer (automatic)</td>\n",
              "      <td>61.90</td>\n",
              "      <td></td>\n",
              "      <td>0</td>\n",
              "    </tr>\n",
              "    <tr>\n",
              "      <th>416</th>\n",
              "      <td>5219</td>\n",
              "      <td>Male</td>\n",
              "      <td>0</td>\n",
              "      <td>Yes</td>\n",
              "      <td>Yes</td>\n",
              "      <td>0.0</td>\n",
              "      <td>Yes</td>\n",
              "      <td>No</td>\n",
              "      <td>No</td>\n",
              "      <td>No internet service</td>\n",
              "      <td>No internet service</td>\n",
              "      <td>No internet service</td>\n",
              "      <td>No internet service</td>\n",
              "      <td>No internet service</td>\n",
              "      <td>No internet service</td>\n",
              "      <td>One year</td>\n",
              "      <td>Yes</td>\n",
              "      <td>Mailed check</td>\n",
              "      <td>19.70</td>\n",
              "      <td></td>\n",
              "      <td>0</td>\n",
              "    </tr>\n",
              "    <tr>\n",
              "      <th>1766</th>\n",
              "      <td>6671</td>\n",
              "      <td>Female</td>\n",
              "      <td>0</td>\n",
              "      <td>Yes</td>\n",
              "      <td>Yes</td>\n",
              "      <td>0.0</td>\n",
              "      <td>Yes</td>\n",
              "      <td>Yes</td>\n",
              "      <td>DSL</td>\n",
              "      <td>No</td>\n",
              "      <td>Yes</td>\n",
              "      <td>Yes</td>\n",
              "      <td>Yes</td>\n",
              "      <td>Yes</td>\n",
              "      <td>No</td>\n",
              "      <td>Two year</td>\n",
              "      <td>No</td>\n",
              "      <td>Mailed check</td>\n",
              "      <td>73.35</td>\n",
              "      <td></td>\n",
              "      <td>0</td>\n",
              "    </tr>\n",
              "    <tr>\n",
              "      <th>2145</th>\n",
              "      <td>937</td>\n",
              "      <td>Female</td>\n",
              "      <td>0</td>\n",
              "      <td>Yes</td>\n",
              "      <td>Yes</td>\n",
              "      <td>0.0</td>\n",
              "      <td>Yes</td>\n",
              "      <td>No</td>\n",
              "      <td>DSL</td>\n",
              "      <td>Yes</td>\n",
              "      <td>Yes</td>\n",
              "      <td>Yes</td>\n",
              "      <td>No</td>\n",
              "      <td>Yes</td>\n",
              "      <td>Yes</td>\n",
              "      <td>Two year</td>\n",
              "      <td>No</td>\n",
              "      <td>Mailed check</td>\n",
              "      <td>80.85</td>\n",
              "      <td></td>\n",
              "      <td>0</td>\n",
              "    </tr>\n",
              "    <tr>\n",
              "      <th>3375</th>\n",
              "      <td>3827</td>\n",
              "      <td>Male</td>\n",
              "      <td>0</td>\n",
              "      <td>Yes</td>\n",
              "      <td>Yes</td>\n",
              "      <td>0.0</td>\n",
              "      <td>Yes</td>\n",
              "      <td>Yes</td>\n",
              "      <td>No</td>\n",
              "      <td>No internet service</td>\n",
              "      <td>No internet service</td>\n",
              "      <td>No internet service</td>\n",
              "      <td>No internet service</td>\n",
              "      <td>No internet service</td>\n",
              "      <td>No internet service</td>\n",
              "      <td>Two year</td>\n",
              "      <td>No</td>\n",
              "      <td>Mailed check</td>\n",
              "      <td>25.35</td>\n",
              "      <td></td>\n",
              "      <td>0</td>\n",
              "    </tr>\n",
              "    <tr>\n",
              "      <th>3404</th>\n",
              "      <td>1083</td>\n",
              "      <td>Male</td>\n",
              "      <td>0</td>\n",
              "      <td>Yes</td>\n",
              "      <td>Yes</td>\n",
              "      <td>0.0</td>\n",
              "      <td>Yes</td>\n",
              "      <td>Yes</td>\n",
              "      <td>No</td>\n",
              "      <td>No internet service</td>\n",
              "      <td>No internet service</td>\n",
              "      <td>No internet service</td>\n",
              "      <td>No internet service</td>\n",
              "      <td>No internet service</td>\n",
              "      <td>No internet service</td>\n",
              "      <td>Two year</td>\n",
              "      <td>No</td>\n",
              "      <td>Mailed check</td>\n",
              "      <td>25.75</td>\n",
              "      <td></td>\n",
              "      <td>0</td>\n",
              "    </tr>\n",
              "    <tr>\n",
              "      <th>4008</th>\n",
              "      <td>3332</td>\n",
              "      <td>Male</td>\n",
              "      <td>0</td>\n",
              "      <td>Yes</td>\n",
              "      <td>Yes</td>\n",
              "      <td>0.0</td>\n",
              "      <td>Yes</td>\n",
              "      <td>No</td>\n",
              "      <td>No</td>\n",
              "      <td>No internet service</td>\n",
              "      <td>No internet service</td>\n",
              "      <td>No internet service</td>\n",
              "      <td>No internet service</td>\n",
              "      <td>No internet service</td>\n",
              "      <td>No internet service</td>\n",
              "      <td>Two year</td>\n",
              "      <td>No</td>\n",
              "      <td>Mailed check</td>\n",
              "      <td>19.85</td>\n",
              "      <td></td>\n",
              "      <td>0</td>\n",
              "    </tr>\n",
              "    <tr>\n",
              "      <th>5151</th>\n",
              "      <td>1341</td>\n",
              "      <td>Female</td>\n",
              "      <td>0</td>\n",
              "      <td>Yes</td>\n",
              "      <td>Yes</td>\n",
              "      <td>0.0</td>\n",
              "      <td>No</td>\n",
              "      <td>No phone service</td>\n",
              "      <td>DSL</td>\n",
              "      <td>Yes</td>\n",
              "      <td>Yes</td>\n",
              "      <td>Yes</td>\n",
              "      <td>Yes</td>\n",
              "      <td>Yes</td>\n",
              "      <td>No</td>\n",
              "      <td>Two year</td>\n",
              "      <td>No</td>\n",
              "      <td>Credit card (automatic)</td>\n",
              "      <td>56.05</td>\n",
              "      <td></td>\n",
              "      <td>0</td>\n",
              "    </tr>\n",
              "  </tbody>\n",
              "</table>\n",
              "</div>"
            ],
            "text/plain": [
              "        id  gender  SeniorCitizen  ... MonthlyCharges TotalCharges  Churn\n",
              "161   6755    Male              0  ...          61.90                   0\n",
              "416   5219    Male              0  ...          19.70                   0\n",
              "1766  6671  Female              0  ...          73.35                   0\n",
              "2145   937  Female              0  ...          80.85                   0\n",
              "3375  3827    Male              0  ...          25.35                   0\n",
              "3404  1083    Male              0  ...          25.75                   0\n",
              "4008  3332    Male              0  ...          19.85                   0\n",
              "5151  1341  Female              0  ...          56.05                   0\n",
              "\n",
              "[8 rows x 21 columns]"
            ]
          },
          "metadata": {
            "tags": []
          },
          "execution_count": 137
        }
      ]
    },
    {
      "cell_type": "code",
      "metadata": {
        "id": "H4vcZZL0oHBa",
        "outputId": "b77489b3-dc63-4409-978e-5374c2c1c0d4",
        "colab": {
          "base_uri": "https://localhost:8080/",
          "height": 213
        }
      },
      "source": [
        "df_test[df_test['TotalCharges']==' ']"
      ],
      "execution_count": null,
      "outputs": [
        {
          "output_type": "execute_result",
          "data": {
            "text/html": [
              "<div>\n",
              "<style scoped>\n",
              "    .dataframe tbody tr th:only-of-type {\n",
              "        vertical-align: middle;\n",
              "    }\n",
              "\n",
              "    .dataframe tbody tr th {\n",
              "        vertical-align: top;\n",
              "    }\n",
              "\n",
              "    .dataframe thead th {\n",
              "        text-align: right;\n",
              "    }\n",
              "</style>\n",
              "<table border=\"1\" class=\"dataframe\">\n",
              "  <thead>\n",
              "    <tr style=\"text-align: right;\">\n",
              "      <th></th>\n",
              "      <th>id</th>\n",
              "      <th>gender</th>\n",
              "      <th>SeniorCitizen</th>\n",
              "      <th>Partner</th>\n",
              "      <th>Dependents</th>\n",
              "      <th>tenure</th>\n",
              "      <th>PhoneService</th>\n",
              "      <th>MultipleLines</th>\n",
              "      <th>InternetService</th>\n",
              "      <th>OnlineSecurity</th>\n",
              "      <th>OnlineBackup</th>\n",
              "      <th>DeviceProtection</th>\n",
              "      <th>TechSupport</th>\n",
              "      <th>StreamingTV</th>\n",
              "      <th>StreamingMovies</th>\n",
              "      <th>Contract</th>\n",
              "      <th>PaperlessBilling</th>\n",
              "      <th>PaymentMethod</th>\n",
              "      <th>MonthlyCharges</th>\n",
              "      <th>TotalCharges</th>\n",
              "    </tr>\n",
              "  </thead>\n",
              "  <tbody>\n",
              "    <tr>\n",
              "      <th>313</th>\n",
              "      <td>4381</td>\n",
              "      <td>Female</td>\n",
              "      <td>0</td>\n",
              "      <td>Yes</td>\n",
              "      <td>Yes</td>\n",
              "      <td>0.0</td>\n",
              "      <td>Yes</td>\n",
              "      <td>No</td>\n",
              "      <td>No</td>\n",
              "      <td>No internet service</td>\n",
              "      <td>No internet service</td>\n",
              "      <td>No internet service</td>\n",
              "      <td>No internet service</td>\n",
              "      <td>No internet service</td>\n",
              "      <td>No internet service</td>\n",
              "      <td>Two year</td>\n",
              "      <td>No</td>\n",
              "      <td>Mailed check</td>\n",
              "      <td>20.00</td>\n",
              "      <td></td>\n",
              "    </tr>\n",
              "    <tr>\n",
              "      <th>1063</th>\n",
              "      <td>489</td>\n",
              "      <td>Female</td>\n",
              "      <td>0</td>\n",
              "      <td>Yes</td>\n",
              "      <td>Yes</td>\n",
              "      <td>0.0</td>\n",
              "      <td>No</td>\n",
              "      <td>No phone service</td>\n",
              "      <td>DSL</td>\n",
              "      <td>Yes</td>\n",
              "      <td>No</td>\n",
              "      <td>Yes</td>\n",
              "      <td>Yes</td>\n",
              "      <td>Yes</td>\n",
              "      <td>No</td>\n",
              "      <td>Two year</td>\n",
              "      <td>Yes</td>\n",
              "      <td>Bank transfer (automatic)</td>\n",
              "      <td>52.55</td>\n",
              "      <td></td>\n",
              "    </tr>\n",
              "    <tr>\n",
              "      <th>1297</th>\n",
              "      <td>754</td>\n",
              "      <td>Male</td>\n",
              "      <td>0</td>\n",
              "      <td>No</td>\n",
              "      <td>Yes</td>\n",
              "      <td>0.0</td>\n",
              "      <td>Yes</td>\n",
              "      <td>No</td>\n",
              "      <td>No</td>\n",
              "      <td>No internet service</td>\n",
              "      <td>No internet service</td>\n",
              "      <td>No internet service</td>\n",
              "      <td>No internet service</td>\n",
              "      <td>No internet service</td>\n",
              "      <td>No internet service</td>\n",
              "      <td>Two year</td>\n",
              "      <td>No</td>\n",
              "      <td>Mailed check</td>\n",
              "      <td>20.25</td>\n",
              "      <td></td>\n",
              "    </tr>\n",
              "  </tbody>\n",
              "</table>\n",
              "</div>"
            ],
            "text/plain": [
              "        id  gender  ...  MonthlyCharges TotalCharges\n",
              "313   4381  Female  ...           20.00             \n",
              "1063   489  Female  ...           52.55             \n",
              "1297   754    Male  ...           20.25             \n",
              "\n",
              "[3 rows x 20 columns]"
            ]
          },
          "metadata": {
            "tags": []
          },
          "execution_count": 138
        }
      ]
    },
    {
      "cell_type": "code",
      "metadata": {
        "id": "Xr5KxJXWo3bK",
        "outputId": "27cb6b25-0bf2-450a-bde8-186d3124f22e",
        "colab": {
          "base_uri": "https://localhost:8080/"
        }
      },
      "source": [
        "df_train['PaymentMethod'].value_counts()"
      ],
      "execution_count": null,
      "outputs": [
        {
          "output_type": "execute_result",
          "data": {
            "text/plain": [
              "Electronic check             1887\n",
              "Mailed check                 1272\n",
              "Bank transfer (automatic)    1212\n",
              "Credit card (automatic)      1164\n",
              "Name: PaymentMethod, dtype: int64"
            ]
          },
          "metadata": {
            "tags": []
          },
          "execution_count": 11
        }
      ]
    },
    {
      "cell_type": "code",
      "metadata": {
        "id": "Xju38Lscvngo",
        "outputId": "d7ea5fe2-fc59-4387-d367-416dc2b547f9",
        "colab": {
          "base_uri": "https://localhost:8080/"
        }
      },
      "source": [
        "df_test.isna().sum()"
      ],
      "execution_count": null,
      "outputs": [
        {
          "output_type": "execute_result",
          "data": {
            "text/plain": [
              "id                    0\n",
              "gender                0\n",
              "SeniorCitizen         0\n",
              "Partner               0\n",
              "Dependents           41\n",
              "tenure              118\n",
              "PhoneService          0\n",
              "MultipleLines         0\n",
              "InternetService       0\n",
              "OnlineSecurity        0\n",
              "OnlineBackup          0\n",
              "DeviceProtection      0\n",
              "TechSupport           0\n",
              "StreamingTV           0\n",
              "StreamingMovies       0\n",
              "Contract              0\n",
              "PaperlessBilling      0\n",
              "PaymentMethod        30\n",
              "MonthlyCharges        0\n",
              "TotalCharges          0\n",
              "dtype: int64"
            ]
          },
          "metadata": {
            "tags": []
          },
          "execution_count": 152
        }
      ]
    },
    {
      "cell_type": "code",
      "metadata": {
        "id": "OSzTTanFeokh",
        "outputId": "28684a90-b9eb-470a-b248-7f315e26a01b",
        "colab": {
          "base_uri": "https://localhost:8080/"
        }
      },
      "source": [
        "df_test['Dependents'].value_counts()"
      ],
      "execution_count": null,
      "outputs": [
        {
          "output_type": "execute_result",
          "data": {
            "text/plain": [
              "No     953\n",
              "Yes    415\n",
              "Name: Dependents, dtype: int64"
            ]
          },
          "metadata": {
            "tags": []
          },
          "execution_count": 15
        }
      ]
    },
    {
      "cell_type": "code",
      "metadata": {
        "id": "WybRiX6Av3gO",
        "outputId": "350eac52-5e90-49a0-8eb2-9aa0e811b934",
        "colab": {
          "base_uri": "https://localhost:8080/"
        }
      },
      "source": [
        "df_test['PaymentMethod'].value_counts()"
      ],
      "execution_count": null,
      "outputs": [
        {
          "output_type": "execute_result",
          "data": {
            "text/plain": [
              "Electronic check             430\n",
              "Credit card (automatic)      329\n",
              "Mailed check                 313\n",
              "Bank transfer (automatic)    307\n",
              "Name: PaymentMethod, dtype: int64"
            ]
          },
          "metadata": {
            "tags": []
          },
          "execution_count": 16
        }
      ]
    },
    {
      "cell_type": "code",
      "metadata": {
        "id": "Y6UPGxs_v6rR"
      },
      "source": [
        "def trata_col(df):\n",
        "  df['Dependents'].fillna('No', inplace=True)\n",
        "  df['PaymentMethod'].fillna('Electronic check',inplace = True)\n",
        "  df['tenure'].fillna(df['tenure'].median(),inplace = True)\n",
        "  df['TotalCharges'] = df['TotalCharges'].replace(' ', '0')\n",
        "  df['TotalCharges'] = pd.to_numeric(df['TotalCharges'])\n",
        "  df['TotalCharges'] = df['TotalCharges'].replace(0, df['TotalCharges'].median())\n",
        "  df['SeniorCitizen'] = df['SeniorCitizen'].replace(0,'0')\n",
        "  df['SeniorCitizen'] = df['SeniorCitizen'].replace(1,'1')"
      ],
      "execution_count": 7,
      "outputs": []
    },
    {
      "cell_type": "code",
      "metadata": {
        "id": "OL9jsOOBMUqR"
      },
      "source": [
        "def cria_total_serv(df):\n",
        "  total_serv = []\n",
        "  col_reflexo = ['OnlineSecurity','OnlineBackup','DeviceProtection','TechSupport','StreamingTV','StreamingMovies']\n",
        "  linha = 0\n",
        "  while linha < df.shape[0]:\n",
        "    qtde=0\n",
        "    if df['InternetService'][linha]=='No':\n",
        "      qtde = 0\n",
        "    else:\n",
        "      for i in col_reflexo:\n",
        "        if df[i][linha] == 'Yes':\n",
        "          qtde = qtde + 1\n",
        "    total_serv.append(qtde)\n",
        "    linha+=1\n",
        "  df['total_serv']=total_serv"
      ],
      "execution_count": 8,
      "outputs": []
    },
    {
      "cell_type": "code",
      "metadata": {
        "id": "EixfuxJ_d2No"
      },
      "source": [
        "trata_col(df_train)\n",
        "trata_col(df_test)\n",
        "cria_total_serv(df_train)\n",
        "cria_total_serv(df_test)"
      ],
      "execution_count": 9,
      "outputs": []
    },
    {
      "cell_type": "code",
      "metadata": {
        "id": "QBv_uzNbwb_D",
        "outputId": "eb84d5b1-3eeb-479d-9a84-b51493a890bb",
        "colab": {
          "base_uri": "https://localhost:8080/"
        }
      },
      "source": [
        "df_train.isna().sum()"
      ],
      "execution_count": 305,
      "outputs": [
        {
          "output_type": "execute_result",
          "data": {
            "text/plain": [
              "id                  0\n",
              "gender              0\n",
              "SeniorCitizen       0\n",
              "Partner             0\n",
              "Dependents          0\n",
              "tenure              0\n",
              "PhoneService        0\n",
              "MultipleLines       0\n",
              "InternetService     0\n",
              "OnlineSecurity      0\n",
              "OnlineBackup        0\n",
              "DeviceProtection    0\n",
              "TechSupport         0\n",
              "StreamingTV         0\n",
              "StreamingMovies     0\n",
              "Contract            0\n",
              "PaperlessBilling    0\n",
              "PaymentMethod       0\n",
              "MonthlyCharges      0\n",
              "TotalCharges        0\n",
              "Churn               0\n",
              "total_serv          0\n",
              "dtype: int64"
            ]
          },
          "metadata": {
            "tags": []
          },
          "execution_count": 305
        }
      ]
    },
    {
      "cell_type": "code",
      "metadata": {
        "id": "eXs_apSjSvmr",
        "outputId": "6c4df7f9-52bb-4272-e7d5-8704ed86e487",
        "colab": {
          "base_uri": "https://localhost:8080/"
        }
      },
      "source": [
        "df_test.isna().sum()"
      ],
      "execution_count": 306,
      "outputs": [
        {
          "output_type": "execute_result",
          "data": {
            "text/plain": [
              "id                  0\n",
              "gender              0\n",
              "SeniorCitizen       0\n",
              "Partner             0\n",
              "Dependents          0\n",
              "tenure              0\n",
              "PhoneService        0\n",
              "MultipleLines       0\n",
              "InternetService     0\n",
              "OnlineSecurity      0\n",
              "OnlineBackup        0\n",
              "DeviceProtection    0\n",
              "TechSupport         0\n",
              "StreamingTV         0\n",
              "StreamingMovies     0\n",
              "Contract            0\n",
              "PaperlessBilling    0\n",
              "PaymentMethod       0\n",
              "MonthlyCharges      0\n",
              "TotalCharges        0\n",
              "total_serv          0\n",
              "dtype: int64"
            ]
          },
          "metadata": {
            "tags": []
          },
          "execution_count": 306
        }
      ]
    },
    {
      "cell_type": "code",
      "metadata": {
        "id": "D7UbnIcO90Jj",
        "outputId": "7813c20a-d664-4bc9-f33b-a7d510a4b5c2",
        "colab": {
          "base_uri": "https://localhost:8080/"
        }
      },
      "source": [
        "df_train.info()"
      ],
      "execution_count": 307,
      "outputs": [
        {
          "output_type": "stream",
          "text": [
            "<class 'pandas.core.frame.DataFrame'>\n",
            "RangeIndex: 5634 entries, 0 to 5633\n",
            "Data columns (total 22 columns):\n",
            " #   Column            Non-Null Count  Dtype  \n",
            "---  ------            --------------  -----  \n",
            " 0   id                5634 non-null   int64  \n",
            " 1   gender            5634 non-null   object \n",
            " 2   SeniorCitizen     5634 non-null   object \n",
            " 3   Partner           5634 non-null   object \n",
            " 4   Dependents        5634 non-null   object \n",
            " 5   tenure            5634 non-null   float64\n",
            " 6   PhoneService      5634 non-null   object \n",
            " 7   MultipleLines     5634 non-null   object \n",
            " 8   InternetService   5634 non-null   object \n",
            " 9   OnlineSecurity    5634 non-null   object \n",
            " 10  OnlineBackup      5634 non-null   object \n",
            " 11  DeviceProtection  5634 non-null   object \n",
            " 12  TechSupport       5634 non-null   object \n",
            " 13  StreamingTV       5634 non-null   object \n",
            " 14  StreamingMovies   5634 non-null   object \n",
            " 15  Contract          5634 non-null   object \n",
            " 16  PaperlessBilling  5634 non-null   object \n",
            " 17  PaymentMethod     5634 non-null   object \n",
            " 18  MonthlyCharges    5634 non-null   float64\n",
            " 19  TotalCharges      5634 non-null   float64\n",
            " 20  Churn             5634 non-null   int64  \n",
            " 21  total_serv        5634 non-null   int64  \n",
            "dtypes: float64(3), int64(3), object(16)\n",
            "memory usage: 968.5+ KB\n"
          ],
          "name": "stdout"
        }
      ]
    },
    {
      "cell_type": "code",
      "metadata": {
        "id": "-Lbjty5PFdqR"
      },
      "source": [
        "y_train = df_train['Churn']\n",
        "y_test = df_sample_submission['Churn']"
      ],
      "execution_count": 10,
      "outputs": []
    },
    {
      "cell_type": "code",
      "metadata": {
        "id": "ZEpiak_OBag-"
      },
      "source": [
        "def cria_dummies(df):\n",
        "  ohe=pd.get_dummies(df,drop_first=True)\n",
        "  ohe.columns = ohe.columns.str.replace(' ', '_')\n",
        "  ohe.columns = ohe.columns.str.replace('(','')\n",
        "  ohe.columns = ohe.columns.str.replace(')','')\n",
        "  return ohe"
      ],
      "execution_count": 11,
      "outputs": []
    },
    {
      "cell_type": "code",
      "metadata": {
        "id": "_qqDo2BIB23H"
      },
      "source": [
        "df_train=cria_dummies(df_train)"
      ],
      "execution_count": 14,
      "outputs": []
    },
    {
      "cell_type": "code",
      "metadata": {
        "id": "wX-s3OSlCCUa",
        "outputId": "b4e9b420-7b02-49fb-92da-6a54aff3aa76",
        "colab": {
          "base_uri": "https://localhost:8080/"
        }
      },
      "source": [
        "df_train.columns"
      ],
      "execution_count": 15,
      "outputs": [
        {
          "output_type": "execute_result",
          "data": {
            "text/plain": [
              "Index(['id', 'tenure', 'MonthlyCharges', 'TotalCharges', 'Churn', 'total_serv',\n",
              "       'gender_Male', 'SeniorCitizen_1', 'Partner_Yes', 'Dependents_Yes',\n",
              "       'PhoneService_Yes', 'MultipleLines_No_phone_service',\n",
              "       'MultipleLines_Yes', 'InternetService_Fiber_optic',\n",
              "       'InternetService_No', 'OnlineSecurity_No_internet_service',\n",
              "       'OnlineSecurity_Yes', 'OnlineBackup_No_internet_service',\n",
              "       'OnlineBackup_Yes', 'DeviceProtection_No_internet_service',\n",
              "       'DeviceProtection_Yes', 'TechSupport_No_internet_service',\n",
              "       'TechSupport_Yes', 'StreamingTV_No_internet_service', 'StreamingTV_Yes',\n",
              "       'StreamingMovies_No_internet_service', 'StreamingMovies_Yes',\n",
              "       'Contract_One_year', 'Contract_Two_year', 'PaperlessBilling_Yes',\n",
              "       'PaymentMethod_Credit_card_automatic', 'PaymentMethod_Electronic_check',\n",
              "       'PaymentMethod_Mailed_check'],\n",
              "      dtype='object')"
            ]
          },
          "metadata": {
            "tags": []
          },
          "execution_count": 15
        }
      ]
    },
    {
      "cell_type": "code",
      "metadata": {
        "id": "vogk7DR7CLnP"
      },
      "source": [
        "df_test=cria_dummies(df_test)"
      ],
      "execution_count": 16,
      "outputs": []
    },
    {
      "cell_type": "code",
      "metadata": {
        "id": "pq8i6j211HvO"
      },
      "source": [
        "df_train=pd.get_dummies(df_train,drop_first=True)\n",
        "df_train.columns = df_train.columns.str.replace(' ', '_')\n",
        "df_train.columns = df_train.columns.str.replace('(','')\n",
        "df_train.columns = df_train.columns.str.replace(')','')\n",
        "df_test=pd.get_dummies(df_test,drop_first=True)\n",
        "df_test.columns = df_test.columns.str.replace(' ', '_')\n",
        "df_test.columns = df_test.columns.str.replace('(','')\n",
        "df_test.columns = df_test.columns.str.replace(')','')"
      ],
      "execution_count": 544,
      "outputs": []
    },
    {
      "cell_type": "code",
      "metadata": {
        "id": "jmDpEQo0CIv9"
      },
      "source": [
        "from sklearn.linear_model import LogisticRegression"
      ],
      "execution_count": 50,
      "outputs": []
    },
    {
      "cell_type": "code",
      "metadata": {
        "id": "R6LpmLHfdZI9",
        "outputId": "9e828c08-ac48-45ec-ff86-62d3498cb10d",
        "colab": {
          "base_uri": "https://localhost:8080/"
        }
      },
      "source": [
        "modelo1 = smf.glm(formula = 'Churn ~ tenure + MonthlyCharges + TotalCharges + total_serv +\\\n",
        "                  gender_Male + SeniorCitizen_1 + Partner_Yes + Dependents_Yes +\\\n",
        "                  PhoneService_Yes + MultipleLines_No_phone_service +\\\n",
        "                  MultipleLines_Yes + InternetService_Fiber_optic +\\\n",
        "                  InternetService_No + OnlineSecurity_No_internet_service +\\\n",
        "                  OnlineSecurity_Yes + OnlineBackup_No_internet_service +\\\n",
        "                  OnlineBackup_Yes + DeviceProtection_No_internet_service +\\\n",
        "                  DeviceProtection_Yes + TechSupport_No_internet_service +\\\n",
        "                  TechSupport_Yes + StreamingTV_No_internet_service + StreamingTV_Yes +\\\n",
        "                  StreamingMovies_No_internet_service + StreamingMovies_Yes +\\\n",
        "                  Contract_One_year + Contract_Two_year + PaperlessBilling_Yes +\\\n",
        "                  PaymentMethod_Credit_card_automatic +\\\n",
        "                  PaymentMethod_Electronic_check + PaymentMethod_Mailed_check',\n",
        "                  data = df_train,\n",
        "                  family = sm.families.Binomial()).fit()\n",
        "print(modelo1.summary())"
      ],
      "execution_count": 51,
      "outputs": [
        {
          "output_type": "stream",
          "text": [
            "                 Generalized Linear Model Regression Results                  \n",
            "==============================================================================\n",
            "Dep. Variable:                  Churn   No. Observations:                 5634\n",
            "Model:                            GLM   Df Residuals:                     5610\n",
            "Model Family:                Binomial   Df Model:                           23\n",
            "Link Function:                  logit   Scale:                          1.0000\n",
            "Method:                          IRLS   Log-Likelihood:                -2307.3\n",
            "Date:                Mon, 16 Nov 2020   Deviance:                       4614.6\n",
            "Time:                        04:51:04   Pearson chi2:                 5.58e+03\n",
            "No. Iterations:                     7                                         \n",
            "Covariance Type:            nonrobust                                         \n",
            "========================================================================================================\n",
            "                                           coef    std err          z      P>|z|      [0.025      0.975]\n",
            "--------------------------------------------------------------------------------------------------------\n",
            "Intercept                                1.0589      0.847      1.251      0.211      -0.600       2.718\n",
            "tenure                                  -0.0315      0.004     -7.254      0.000      -0.040      -0.023\n",
            "MonthlyCharges                          -0.0560      0.036     -1.556      0.120      -0.127       0.015\n",
            "TotalCharges                         -1.616e-05   5.12e-05     -0.315      0.752      -0.000    8.43e-05\n",
            "total_serv                               0.2675      0.207      1.292      0.196      -0.138       0.673\n",
            "gender_Male                              0.0263      0.073      0.360      0.719      -0.117       0.170\n",
            "SeniorCitizen_1                          0.2718      0.095      2.851      0.004       0.085       0.459\n",
            "Partner_Yes                             -0.1122      0.087     -1.291      0.197      -0.283       0.058\n",
            "Dependents_Yes                          -0.1483      0.102     -1.456      0.145      -0.348       0.051\n",
            "PhoneService_Yes                         0.8969      0.785      1.143      0.253      -0.641       2.435\n",
            "MultipleLines_No_phone_service           0.1620      0.113      1.438      0.150      -0.059       0.383\n",
            "MultipleLines_Yes                        0.4776      0.200      2.389      0.017       0.086       0.869\n",
            "InternetService_Fiber_optic              2.3789      0.906      2.626      0.009       0.603       4.155\n",
            "InternetService_No                      -0.3231      0.131     -2.473      0.013      -0.579      -0.067\n",
            "OnlineSecurity_No_internet_service      -0.3231      0.131     -2.473      0.013      -0.579      -0.067\n",
            "OnlineSecurity_Yes                      -0.4144      0.089     -4.672      0.000      -0.588      -0.241\n",
            "OnlineBackup_No_internet_service        -0.3231      0.131     -2.473      0.013      -0.579      -0.067\n",
            "OnlineBackup_Yes                        -0.1618      0.082     -1.978      0.048      -0.322      -0.001\n",
            "DeviceProtection_No_internet_service    -0.3231      0.131     -2.473      0.013      -0.579      -0.067\n",
            "DeviceProtection_Yes                    -0.0235      0.088     -0.267      0.789      -0.196       0.149\n",
            "TechSupport_No_internet_service         -0.3231      0.131     -2.473      0.013      -0.579      -0.067\n",
            "TechSupport_Yes                         -0.2849      0.093     -3.066      0.002      -0.467      -0.103\n",
            "StreamingTV_No_internet_service         -0.3231      0.131     -2.473      0.013      -0.579      -0.067\n",
            "StreamingTV_Yes                          0.5835      0.176      3.317      0.001       0.239       0.928\n",
            "StreamingMovies_No_internet_service     -0.3231      0.131     -2.473      0.013      -0.579      -0.067\n",
            "StreamingMovies_Yes                      0.5686      0.177      3.209      0.001       0.221       0.916\n",
            "Contract_One_year                       -0.7998      0.120     -6.657      0.000      -1.035      -0.564\n",
            "Contract_Two_year                       -1.5547      0.197     -7.889      0.000      -1.941      -1.168\n",
            "PaperlessBilling_Yes                     0.3651      0.084      4.371      0.000       0.201       0.529\n",
            "PaymentMethod_Credit_card_automatic     -0.1342      0.130     -1.031      0.303      -0.389       0.121\n",
            "PaymentMethod_Electronic_check           0.1768      0.106      1.660      0.097      -0.032       0.386\n",
            "PaymentMethod_Mailed_check              -0.1099      0.129     -0.853      0.394      -0.362       0.143\n",
            "========================================================================================================\n"
          ],
          "name": "stdout"
        }
      ]
    },
    {
      "cell_type": "code",
      "metadata": {
        "id": "i_koUnKQlU_Y"
      },
      "source": [
        "modelo1 = LogisticRegression(penalty='l2', solver='newton-cg',max_iter=5000,multi_class='multinomial',n_jobs=-1)\n",
        "y = df_train['Churn']\n",
        "X = df_train.drop('Churn',axis=1)"
      ],
      "execution_count": 52,
      "outputs": []
    },
    {
      "cell_type": "code",
      "metadata": {
        "id": "yUGcnx_EleQk",
        "outputId": "051fab10-5f92-4dd0-94af-79b03115cb96",
        "colab": {
          "base_uri": "https://localhost:8080/"
        }
      },
      "source": [
        "modelo1.fit(X,y)"
      ],
      "execution_count": 21,
      "outputs": [
        {
          "output_type": "execute_result",
          "data": {
            "text/plain": [
              "LogisticRegression(C=1.0, class_weight=None, dual=False, fit_intercept=True,\n",
              "                   intercept_scaling=1, l1_ratio=None, max_iter=5000,\n",
              "                   multi_class='multinomial', n_jobs=-1, penalty='l2',\n",
              "                   random_state=None, solver='newton-cg', tol=0.0001, verbose=0,\n",
              "                   warm_start=False)"
            ]
          },
          "metadata": {
            "tags": []
          },
          "execution_count": 21
        }
      ]
    },
    {
      "cell_type": "code",
      "metadata": {
        "id": "2olcCvnClr4B"
      },
      "source": [
        "X_test = df_test"
      ],
      "execution_count": 57,
      "outputs": []
    },
    {
      "cell_type": "code",
      "metadata": {
        "id": "_kRVTaGd8gDc",
        "outputId": "81e91160-9b7d-4d36-94fc-eb6af3735fa7",
        "colab": {
          "base_uri": "https://localhost:8080/"
        }
      },
      "source": [
        "X.shape"
      ],
      "execution_count": 23,
      "outputs": [
        {
          "output_type": "execute_result",
          "data": {
            "text/plain": [
              "(5634, 32)"
            ]
          },
          "metadata": {
            "tags": []
          },
          "execution_count": 23
        }
      ]
    },
    {
      "cell_type": "code",
      "metadata": {
        "id": "x13Uwyu18Xhi",
        "outputId": "05ed519e-b7f8-431e-b53d-454a6a373328",
        "colab": {
          "base_uri": "https://localhost:8080/"
        }
      },
      "source": [
        "X_test.shape"
      ],
      "execution_count": 559,
      "outputs": [
        {
          "output_type": "execute_result",
          "data": {
            "text/plain": [
              "(1409, 32)"
            ]
          },
          "metadata": {
            "tags": []
          },
          "execution_count": 559
        }
      ]
    },
    {
      "cell_type": "code",
      "metadata": {
        "id": "nwLhduFXluae"
      },
      "source": [
        "y_pred = modelo1.predict(X_test)"
      ],
      "execution_count": 24,
      "outputs": []
    },
    {
      "cell_type": "code",
      "metadata": {
        "id": "Za0CMYIWmAwB",
        "outputId": "be176b8f-dd64-47e5-ddda-1d4e532ac7dd",
        "colab": {
          "base_uri": "https://localhost:8080/"
        }
      },
      "source": [
        "unique_elements, counts_elements = np.unique(y_pred, return_counts=True)\n",
        "print(\"Frequency of unique values of the said array:\")\n",
        "print(np.asarray((unique_elements, counts_elements)))"
      ],
      "execution_count": 25,
      "outputs": [
        {
          "output_type": "stream",
          "text": [
            "Frequency of unique values of the said array:\n",
            "[[   0    1]\n",
            " [1097  312]]\n"
          ],
          "name": "stdout"
        }
      ]
    },
    {
      "cell_type": "code",
      "metadata": {
        "id": "VL5V8urOUgVW",
        "outputId": "7f1fd748-3252-4b02-feb2-92b9e5ef0dde",
        "colab": {
          "base_uri": "https://localhost:8080/",
          "height": 197
        }
      },
      "source": [
        "df_submit = pd.DataFrame(zip(X_test['id'],y_pred),columns=['id','Churn'])\n",
        "df_submit.to_csv('churn_02.csv',index = False, sep = ',')"
      ],
      "execution_count": 31,
      "outputs": [
        {
          "output_type": "execute_result",
          "data": {
            "text/html": [
              "<div>\n",
              "<style scoped>\n",
              "    .dataframe tbody tr th:only-of-type {\n",
              "        vertical-align: middle;\n",
              "    }\n",
              "\n",
              "    .dataframe tbody tr th {\n",
              "        vertical-align: top;\n",
              "    }\n",
              "\n",
              "    .dataframe thead th {\n",
              "        text-align: right;\n",
              "    }\n",
              "</style>\n",
              "<table border=\"1\" class=\"dataframe\">\n",
              "  <thead>\n",
              "    <tr style=\"text-align: right;\">\n",
              "      <th></th>\n",
              "      <th>id</th>\n",
              "      <th>Churn</th>\n",
              "    </tr>\n",
              "  </thead>\n",
              "  <tbody>\n",
              "    <tr>\n",
              "      <th>0</th>\n",
              "      <td>5027</td>\n",
              "      <td>0</td>\n",
              "    </tr>\n",
              "    <tr>\n",
              "      <th>1</th>\n",
              "      <td>1733</td>\n",
              "      <td>0</td>\n",
              "    </tr>\n",
              "    <tr>\n",
              "      <th>2</th>\n",
              "      <td>5384</td>\n",
              "      <td>1</td>\n",
              "    </tr>\n",
              "    <tr>\n",
              "      <th>3</th>\n",
              "      <td>6554</td>\n",
              "      <td>0</td>\n",
              "    </tr>\n",
              "    <tr>\n",
              "      <th>4</th>\n",
              "      <td>364</td>\n",
              "      <td>0</td>\n",
              "    </tr>\n",
              "  </tbody>\n",
              "</table>\n",
              "</div>"
            ],
            "text/plain": [
              "     id  Churn\n",
              "0  5027      0\n",
              "1  1733      0\n",
              "2  5384      1\n",
              "3  6554      0\n",
              "4   364      0"
            ]
          },
          "metadata": {
            "tags": []
          },
          "execution_count": 31
        }
      ]
    },
    {
      "cell_type": "code",
      "metadata": {
        "id": "4Kq1Z54G59mF",
        "outputId": "f5532a9b-1d42-4bcf-9c40-b8983e87304b",
        "colab": {
          "base_uri": "https://localhost:8080/"
        }
      },
      "source": [
        "score = modelo1.score(X_test, y_test)\n",
        "score"
      ],
      "execution_count": 27,
      "outputs": [
        {
          "output_type": "execute_result",
          "data": {
            "text/plain": [
              "0.5067423704755145"
            ]
          },
          "metadata": {
            "tags": []
          },
          "execution_count": 27
        }
      ]
    },
    {
      "cell_type": "code",
      "metadata": {
        "id": "w_NXvWi580w_",
        "outputId": "e22154b6-1b6d-4573-8d8d-032a59e904b1",
        "colab": {
          "base_uri": "https://localhost:8080/"
        }
      },
      "source": [
        "score = modelo1.score(X, y)\n",
        "score"
      ],
      "execution_count": 568,
      "outputs": [
        {
          "output_type": "execute_result",
          "data": {
            "text/plain": [
              "0.8095491657791978"
            ]
          },
          "metadata": {
            "tags": []
          },
          "execution_count": 568
        }
      ]
    },
    {
      "cell_type": "code",
      "metadata": {
        "id": "HOvT0IGylI4u",
        "outputId": "64dcda9d-7de7-45da-839c-c8b75c697365",
        "colab": {
          "base_uri": "https://localhost:8080/"
        }
      },
      "source": [
        "print(classification_report(y, modelo1.predict(X)))"
      ],
      "execution_count": 409,
      "outputs": [
        {
          "output_type": "stream",
          "text": [
            "              precision    recall  f1-score   support\n",
            "\n",
            "           0       0.85      0.90      0.87      4139\n",
            "           1       0.67      0.56      0.61      1495\n",
            "\n",
            "    accuracy                           0.81      5634\n",
            "   macro avg       0.76      0.73      0.74      5634\n",
            "weighted avg       0.80      0.81      0.80      5634\n",
            "\n"
          ],
          "name": "stdout"
        }
      ]
    },
    {
      "cell_type": "code",
      "metadata": {
        "id": "m51-hTp5mghP",
        "outputId": "0b76c04d-85c0-4e10-8a2f-69c4980e3dac",
        "colab": {
          "base_uri": "https://localhost:8080/"
        }
      },
      "source": [
        "print(classification_report(y_test, y_pred))"
      ],
      "execution_count": 412,
      "outputs": [
        {
          "output_type": "stream",
          "text": [
            "              precision    recall  f1-score   support\n",
            "\n",
            "           0       0.52      0.77      0.62       734\n",
            "           1       0.47      0.22      0.30       675\n",
            "\n",
            "    accuracy                           0.51      1409\n",
            "   macro avg       0.49      0.50      0.46      1409\n",
            "weighted avg       0.49      0.51      0.46      1409\n",
            "\n"
          ],
          "name": "stdout"
        }
      ]
    },
    {
      "cell_type": "code",
      "metadata": {
        "id": "1fJE6rwoYY6Y",
        "outputId": "aeea3f83-5548-4cb0-c2a3-0202369f8111",
        "colab": {
          "base_uri": "https://localhost:8080/"
        }
      },
      "source": [
        "from sklearn import model_selection\n",
        "from sklearn.model_selection import cross_val_score\n",
        "kfold = model_selection.KFold(n_splits=10, random_state=0)\n",
        "modelCV = LogisticRegression(max_iter=500)\n",
        "scoring = 'accuracy'\n",
        "results = model_selection.cross_val_score(modelCV, X, y, cv=kfold, scoring=scoring)\n",
        "print(\"10-fold cross validation average accuracy: %.3f\" % (results.mean()))"
      ],
      "execution_count": 53,
      "outputs": [
        {
          "output_type": "stream",
          "text": [
            "/usr/local/lib/python3.6/dist-packages/sklearn/model_selection/_split.py:296: FutureWarning: Setting a random_state has no effect since shuffle is False. This will raise an error in 0.24. You should leave random_state to its default (None), or set shuffle=True.\n",
            "  FutureWarning\n"
          ],
          "name": "stderr"
        },
        {
          "output_type": "stream",
          "text": [
            "10-fold cross validation average accuracy: 0.804\n"
          ],
          "name": "stdout"
        }
      ]
    },
    {
      "cell_type": "code",
      "metadata": {
        "id": "Gjl5mbBfYa0B",
        "outputId": "1bae27a7-469a-4b2e-f647-44025beb79d7",
        "colab": {
          "base_uri": "https://localhost:8080/"
        }
      },
      "source": [
        "modelCV.fit(X,y)"
      ],
      "execution_count": 54,
      "outputs": [
        {
          "output_type": "execute_result",
          "data": {
            "text/plain": [
              "LogisticRegression(C=1.0, class_weight=None, dual=False, fit_intercept=True,\n",
              "                   intercept_scaling=1, l1_ratio=None, max_iter=500,\n",
              "                   multi_class='auto', n_jobs=None, penalty='l2',\n",
              "                   random_state=None, solver='lbfgs', tol=0.0001, verbose=0,\n",
              "                   warm_start=False)"
            ]
          },
          "metadata": {
            "tags": []
          },
          "execution_count": 54
        }
      ]
    },
    {
      "cell_type": "code",
      "metadata": {
        "id": "cB1lQzm4Yh74"
      },
      "source": [
        "y_pred_5 = modelCV.predict(X_test)"
      ],
      "execution_count": 58,
      "outputs": []
    },
    {
      "cell_type": "code",
      "metadata": {
        "id": "dInaCZN6YpLp",
        "outputId": "5475180f-16a4-4e46-c07c-41b322b816d4",
        "colab": {
          "base_uri": "https://localhost:8080/"
        }
      },
      "source": [
        "unique_elements, counts_elements = np.unique(y_pred_5, return_counts=True)\n",
        "print(\"Frequency of unique values of the said array:\")\n",
        "print(np.asarray((unique_elements, counts_elements)))"
      ],
      "execution_count": 59,
      "outputs": [
        {
          "output_type": "stream",
          "text": [
            "Frequency of unique values of the said array:\n",
            "[[   0    1]\n",
            " [1111  298]]\n"
          ],
          "name": "stdout"
        }
      ]
    },
    {
      "cell_type": "code",
      "metadata": {
        "id": "VzxM6UdRZl8A"
      },
      "source": [
        "df_submit = pd.DataFrame(zip(X_test['id'],y_pred_5), columns=['id','Churn'])\n",
        "df_submit.to_csv('churn_04.csv', index=False, sep=',')"
      ],
      "execution_count": 60,
      "outputs": []
    },
    {
      "cell_type": "code",
      "metadata": {
        "id": "UAcAl25CV69J",
        "outputId": "804ee1ec-1f8f-49a5-a136-431d5439a1c3",
        "colab": {
          "base_uri": "https://localhost:8080/"
        }
      },
      "source": [
        "# eliminando 'DeviceProtection_Yes','TotalCharges','gender_Male','PaymentMethod_Mailed_check',\n",
        "# 'PaymentMethod_Credit_card_automatic', 'PhoneService_Yes',MultipleLines_No_phone_service',\n",
        "# 'total_serv', 'OnlineBackup_Yes', 'Partner_Yes'\n",
        "modelo2 = smf.glm(formula = 'Churn ~ tenure + MonthlyCharges +\\\n",
        "                  SeniorCitizen_1 + Dependents_Yes +\\\n",
        "                  MultipleLines_Yes + InternetService_Fiber_optic +\\\n",
        "                  InternetService_No + OnlineSecurity_No_internet_service +\\\n",
        "                  OnlineSecurity_Yes + OnlineBackup_No_internet_service +\\\n",
        "                  DeviceProtection_No_internet_service +\\\n",
        "                  TechSupport_No_internet_service +\\\n",
        "                  TechSupport_Yes + StreamingTV_No_internet_service + StreamingTV_Yes +\\\n",
        "                  StreamingMovies_No_internet_service + StreamingMovies_Yes +\\\n",
        "                  Contract_One_year + Contract_Two_year + PaperlessBilling_Yes +\\\n",
        "                  PaymentMethod_Electronic_check',\n",
        "                  data = df_train,\n",
        "                  family = sm.families.Binomial()).fit()\n",
        "print(modelo2.summary())"
      ],
      "execution_count": 33,
      "outputs": [
        {
          "output_type": "stream",
          "text": [
            "                 Generalized Linear Model Regression Results                  \n",
            "==============================================================================\n",
            "Dep. Variable:                  Churn   No. Observations:                 5634\n",
            "Model:                            GLM   Df Residuals:                     5618\n",
            "Model Family:                Binomial   Df Model:                           15\n",
            "Link Function:                  logit   Scale:                          1.0000\n",
            "Method:                          IRLS   Log-Likelihood:                -2310.0\n",
            "Date:                Mon, 16 Nov 2020   Deviance:                       4619.9\n",
            "Time:                        04:40:10   Pearson chi2:                 5.61e+03\n",
            "No. Iterations:                     7                                         \n",
            "Covariance Type:            nonrobust                                         \n",
            "========================================================================================================\n",
            "                                           coef    std err          z      P>|z|      [0.025      0.975]\n",
            "--------------------------------------------------------------------------------------------------------\n",
            "Intercept                                0.3085      0.263      1.173      0.241      -0.207       0.824\n",
            "tenure                                  -0.0333      0.002    -13.437      0.000      -0.038      -0.028\n",
            "MonthlyCharges                          -0.0213      0.006     -3.507      0.000      -0.033      -0.009\n",
            "SeniorCitizen_1                          0.2532      0.094      2.682      0.007       0.068       0.438\n",
            "Dependents_Yes                          -0.1997      0.093     -2.148      0.032      -0.382      -0.017\n",
            "MultipleLines_Yes                        0.3005      0.098      3.073      0.002       0.109       0.492\n",
            "InternetService_Fiber_optic              1.5173      0.213      7.133      0.000       1.100       1.934\n",
            "InternetService_No                      -0.1977      0.028     -7.183      0.000      -0.252      -0.144\n",
            "OnlineSecurity_No_internet_service      -0.1977      0.028     -7.183      0.000      -0.252      -0.144\n",
            "OnlineSecurity_Yes                      -0.3265      0.100     -3.264      0.001      -0.523      -0.130\n",
            "OnlineBackup_No_internet_service        -0.1977      0.028     -7.183      0.000      -0.252      -0.144\n",
            "DeviceProtection_No_internet_service    -0.1977      0.028     -7.183      0.000      -0.252      -0.144\n",
            "TechSupport_No_internet_service         -0.1977      0.028     -7.183      0.000      -0.252      -0.144\n",
            "TechSupport_Yes                         -0.1903      0.103     -1.847      0.065      -0.392       0.012\n",
            "StreamingTV_No_internet_service         -0.1977      0.028     -7.183      0.000      -0.252      -0.144\n",
            "StreamingTV_Yes                          0.5027      0.108      4.653      0.000       0.291       0.714\n",
            "StreamingMovies_No_internet_service     -0.1977      0.028     -7.183      0.000      -0.252      -0.144\n",
            "StreamingMovies_Yes                      0.4893      0.107      4.564      0.000       0.279       0.699\n",
            "Contract_One_year                       -0.8007      0.119     -6.717      0.000      -1.034      -0.567\n",
            "Contract_Two_year                       -1.5564      0.194     -8.013      0.000      -1.937      -1.176\n",
            "PaperlessBilling_Yes                     0.3643      0.083      4.370      0.000       0.201       0.528\n",
            "PaymentMethod_Electronic_check           0.2543      0.078      3.265      0.001       0.102       0.407\n",
            "========================================================================================================\n"
          ],
          "name": "stdout"
        }
      ]
    },
    {
      "cell_type": "code",
      "metadata": {
        "id": "6SuRUiFXI5Zi",
        "outputId": "60e33393-a5cc-4cab-e603-4063df1f7dfe",
        "colab": {
          "base_uri": "https://localhost:8080/"
        }
      },
      "source": [
        "print(np.exp(modelo1.params[1:]))"
      ],
      "execution_count": 96,
      "outputs": [
        {
          "output_type": "stream",
          "text": [
            "gender[T.Male]                               1.026847\n",
            "Partner[T.Yes]                               0.892316\n",
            "Dependents[T.Yes]                            0.863264\n",
            "PhoneService[T.Yes]                          2.479269\n",
            "MultipleLines[T.No phone service]            1.185884\n",
            "MultipleLines[T.Yes]                         1.607139\n",
            "InternetService[T.Fiber optic]              10.809657\n",
            "InternetService[T.No]                        0.722873\n",
            "OnlineSecurity[T.No internet service]        0.722873\n",
            "OnlineSecurity[T.Yes]                        0.660572\n",
            "OnlineBackup[T.No internet service]          0.722873\n",
            "OnlineBackup[T.Yes]                          0.848400\n",
            "DeviceProtection[T.No internet service]      0.722873\n",
            "DeviceProtection[T.Yes]                      0.976475\n",
            "TechSupport[T.No internet service]           0.722873\n",
            "TechSupport[T.Yes]                           0.752458\n",
            "StreamingTV[T.No internet service]           0.722873\n",
            "StreamingTV[T.Yes]                           1.793100\n",
            "StreamingMovies[T.No internet service]       0.722873\n",
            "StreamingMovies[T.Yes]                       1.767162\n",
            "Contract[T.One year]                         0.447687\n",
            "Contract[T.Two year]                         0.209283\n",
            "PaperlessBilling[T.Yes]                      1.440704\n",
            "PaymentMethod[T.Credit card (automatic)]     0.874629\n",
            "PaymentMethod[T.Electronic check]            1.194481\n",
            "PaymentMethod[T.Mailed check]                0.895272\n",
            "total_serv                                   1.304805\n",
            "tenure                                       0.967969\n",
            "MonthlyCharges                               0.945113\n",
            "SeniorCitizen                                1.311416\n",
            "dtype: float64\n"
          ],
          "name": "stdout"
        }
      ]
    },
    {
      "cell_type": "markdown",
      "metadata": {
        "id": "LOTAkQij6Tqe"
      },
      "source": [
        "### https://www.kaggle.com/funxexcel/p2-logistic-regression-hyperparameter-tuning"
      ]
    },
    {
      "cell_type": "code",
      "metadata": {
        "id": "Du0oLg026SrI"
      },
      "source": [
        "logModel = LogisticRegression()"
      ],
      "execution_count": 104,
      "outputs": []
    },
    {
      "cell_type": "code",
      "metadata": {
        "id": "a1yObpi8Et6Z"
      },
      "source": [
        "param_grid = [    \n",
        "    {'penalty' : ['l1', 'l2', 'elasticnet', 'none'],\n",
        "    'C' : np.logspace(-4, 4, 20),\n",
        "    'solver' : ['lbfgs','newton-cg','liblinear','sag','saga'],\n",
        "    'max_iter' : [100, 1000,2500, 5000]\n",
        "    }\n",
        "]"
      ],
      "execution_count": 105,
      "outputs": []
    },
    {
      "cell_type": "code",
      "metadata": {
        "id": "N1D_1Gi96cQA"
      },
      "source": [
        "# import GridSearch\n",
        "from sklearn.model_selection import GridSearchCV\n",
        "\n",
        "clf = GridSearchCV(logModel, param_grid = param_grid, cv = 3, verbose=True, n_jobs=-1)"
      ],
      "execution_count": 106,
      "outputs": []
    },
    {
      "cell_type": "code",
      "metadata": {
        "id": "SUS9EXt56m4f"
      },
      "source": [
        "best_clf = clf.fit(X,y)"
      ],
      "execution_count": null,
      "outputs": []
    },
    {
      "cell_type": "code",
      "metadata": {
        "id": "CX9Td-T66qz_"
      },
      "source": [
        "best_clf.best_estimator_"
      ],
      "execution_count": null,
      "outputs": []
    },
    {
      "cell_type": "code",
      "metadata": {
        "id": "z3AukHvN6rcm"
      },
      "source": [
        "print (f'Accuracy - : {best_clf.score(X,y):.3f}')"
      ],
      "execution_count": null,
      "outputs": []
    },
    {
      "cell_type": "code",
      "metadata": {
        "id": "SzE6t4uV6uEp"
      },
      "source": [
        "### fim"
      ],
      "execution_count": null,
      "outputs": []
    },
    {
      "cell_type": "markdown",
      "metadata": {
        "id": "-p1Z8dkk66Ix"
      },
      "source": [
        "### Fim"
      ]
    },
    {
      "cell_type": "code",
      "metadata": {
        "id": "zjrolv_4Vkvx"
      },
      "source": [
        "# eliminando as colunas \n",
        "modelo2 = LogisticRegression(penalty='l2', solver='newton-cg',max_iter=5000,multi_class='multinomial',n_jobs=-1)\n",
        "y = df_train['Churn']\n",
        "X = df_train.drop(['DeviceProtection_Yes','TotalCharges','gender_Male','PaymentMethod_Mailed_check',\n",
        "                   'PaymentMethod_Credit_card_automatic', 'PhoneService_Yes','MultipleLines_No_phone_service',\n",
        "                   'total_serv', 'OnlineBackup_Yes', 'Partner_Yes','Churn'],axis=1)"
      ],
      "execution_count": 34,
      "outputs": []
    },
    {
      "cell_type": "code",
      "metadata": {
        "id": "GMniOFMa_bPV",
        "outputId": "b94a37f4-d62d-4246-849a-35e41760f8a1",
        "colab": {
          "base_uri": "https://localhost:8080/"
        }
      },
      "source": [
        "X.shape"
      ],
      "execution_count": 35,
      "outputs": [
        {
          "output_type": "execute_result",
          "data": {
            "text/plain": [
              "(5634, 22)"
            ]
          },
          "metadata": {
            "tags": []
          },
          "execution_count": 35
        }
      ]
    },
    {
      "cell_type": "code",
      "metadata": {
        "id": "jNfcA5c_VhXx",
        "outputId": "a8a1b3a8-ce99-4b8e-9d85-92b6ea6e37b5",
        "colab": {
          "base_uri": "https://localhost:8080/"
        }
      },
      "source": [
        "y.shape"
      ],
      "execution_count": 374,
      "outputs": [
        {
          "output_type": "execute_result",
          "data": {
            "text/plain": [
              "(5634,)"
            ]
          },
          "metadata": {
            "tags": []
          },
          "execution_count": 374
        }
      ]
    },
    {
      "cell_type": "code",
      "metadata": {
        "id": "-61aIOPxPGSe",
        "outputId": "60cea264-acde-4156-ad09-fcb424c1c74a",
        "colab": {
          "base_uri": "https://localhost:8080/"
        }
      },
      "source": [
        "modelo2.fit(X, y)"
      ],
      "execution_count": 36,
      "outputs": [
        {
          "output_type": "execute_result",
          "data": {
            "text/plain": [
              "LogisticRegression(C=1.0, class_weight=None, dual=False, fit_intercept=True,\n",
              "                   intercept_scaling=1, l1_ratio=None, max_iter=5000,\n",
              "                   multi_class='multinomial', n_jobs=-1, penalty='l2',\n",
              "                   random_state=None, solver='newton-cg', tol=0.0001, verbose=0,\n",
              "                   warm_start=False)"
            ]
          },
          "metadata": {
            "tags": []
          },
          "execution_count": 36
        }
      ]
    },
    {
      "cell_type": "code",
      "metadata": {
        "id": "7L33IAzXPJQB"
      },
      "source": [
        "y_pred = modelo2.predict_proba(X)"
      ],
      "execution_count": 208,
      "outputs": []
    },
    {
      "cell_type": "code",
      "metadata": {
        "id": "yzvPQJ3lQ_8d"
      },
      "source": [
        "X_test = df_test.drop(['DeviceProtection_Yes','TotalCharges','gender_Male','PaymentMethod_Mailed_check',\n",
        "                       'PaymentMethod_Credit_card_automatic', 'PhoneService_Yes','MultipleLines_No_phone_service',\n",
        "                       'total_serv', 'OnlineBackup_Yes', 'Partner_Yes'],\n",
        "                      axis=1)"
      ],
      "execution_count": 37,
      "outputs": []
    },
    {
      "cell_type": "code",
      "metadata": {
        "id": "YW8CcayFUzeR",
        "outputId": "f52da638-d6df-4955-8983-eb14e09a6727",
        "colab": {
          "base_uri": "https://localhost:8080/"
        }
      },
      "source": [
        "X_test.shape"
      ],
      "execution_count": 38,
      "outputs": [
        {
          "output_type": "execute_result",
          "data": {
            "text/plain": [
              "(1409, 22)"
            ]
          },
          "metadata": {
            "tags": []
          },
          "execution_count": 38
        }
      ]
    },
    {
      "cell_type": "code",
      "metadata": {
        "id": "137c-B1rTw5Y"
      },
      "source": [
        "y_pred_2 = modelo2.predict(X_test)"
      ],
      "execution_count": 39,
      "outputs": []
    },
    {
      "cell_type": "code",
      "metadata": {
        "id": "ZES7a3DjWU11",
        "outputId": "3f28adb1-c185-4bc8-a2a9-f09d2589ab35",
        "colab": {
          "base_uri": "https://localhost:8080/"
        }
      },
      "source": [
        "unique_elements, counts_elements = np.unique(y_pred_2, return_counts=True)\n",
        "print(\"Frequency of unique values of the said array:\")\n",
        "print(np.asarray((unique_elements, counts_elements)))"
      ],
      "execution_count": 40,
      "outputs": [
        {
          "output_type": "stream",
          "text": [
            "Frequency of unique values of the said array:\n",
            "[[   0    1]\n",
            " [1096  313]]\n"
          ],
          "name": "stdout"
        }
      ]
    },
    {
      "cell_type": "code",
      "metadata": {
        "id": "hNSdBYxAPQGn"
      },
      "source": [
        "y_test = df_sample_submission['Churn']"
      ],
      "execution_count": 282,
      "outputs": []
    },
    {
      "cell_type": "code",
      "metadata": {
        "id": "FPchmRgPPTJH",
        "outputId": "1eab6878-24d7-4909-d03b-cfd9a627a6dc",
        "colab": {
          "base_uri": "https://localhost:8080/"
        }
      },
      "source": [
        "acuracia = accuracy_score(y_test, y_pred)\n",
        "acuracia"
      ],
      "execution_count": 283,
      "outputs": [
        {
          "output_type": "execute_result",
          "data": {
            "text/plain": [
              "0.5074520936834634"
            ]
          },
          "metadata": {
            "tags": []
          },
          "execution_count": 283
        }
      ]
    },
    {
      "cell_type": "code",
      "metadata": {
        "id": "OftJGQM_EuWe",
        "outputId": "54700f9b-e063-40bd-b2f1-fcd8f46f6265",
        "colab": {
          "base_uri": "https://localhost:8080/"
        }
      },
      "source": [
        "y.value_counts()"
      ],
      "execution_count": 287,
      "outputs": [
        {
          "output_type": "execute_result",
          "data": {
            "text/plain": [
              "0    4139\n",
              "1    1495\n",
              "Name: Churn, dtype: int64"
            ]
          },
          "metadata": {
            "tags": []
          },
          "execution_count": 287
        }
      ]
    },
    {
      "cell_type": "code",
      "metadata": {
        "id": "Hblwp-dlE2D0",
        "outputId": "709aa3c0-402d-4169-e0c4-5cef35e9fe19",
        "colab": {
          "base_uri": "https://localhost:8080/"
        }
      },
      "source": [
        "y_test.value_counts()"
      ],
      "execution_count": 288,
      "outputs": [
        {
          "output_type": "execute_result",
          "data": {
            "text/plain": [
              "0    734\n",
              "1    675\n",
              "Name: Churn, dtype: int64"
            ]
          },
          "metadata": {
            "tags": []
          },
          "execution_count": 288
        }
      ]
    },
    {
      "cell_type": "code",
      "metadata": {
        "id": "6cufkhr1Pc-D",
        "outputId": "c2c35741-9723-4021-f18c-447bd1582bb8",
        "colab": {
          "base_uri": "https://localhost:8080/"
        }
      },
      "source": [
        "print(classification_report(y, modelo2.predict(X)))"
      ],
      "execution_count": 586,
      "outputs": [
        {
          "output_type": "stream",
          "text": [
            "              precision    recall  f1-score   support\n",
            "\n",
            "           0       0.85      0.90      0.87      4139\n",
            "           1       0.67      0.56      0.61      1495\n",
            "\n",
            "    accuracy                           0.81      5634\n",
            "   macro avg       0.76      0.73      0.74      5634\n",
            "weighted avg       0.80      0.81      0.80      5634\n",
            "\n"
          ],
          "name": "stdout"
        }
      ]
    },
    {
      "cell_type": "code",
      "metadata": {
        "id": "BCWa38xDXO-W",
        "outputId": "918d8ab7-854f-4e56-aa5c-f54942389a6b",
        "colab": {
          "base_uri": "https://localhost:8080/"
        }
      },
      "source": [
        "print(classification_report(y_test, y_pred))"
      ],
      "execution_count": 587,
      "outputs": [
        {
          "output_type": "stream",
          "text": [
            "              precision    recall  f1-score   support\n",
            "\n",
            "           0       0.52      0.78      0.62       734\n",
            "           1       0.47      0.22      0.30       675\n",
            "\n",
            "    accuracy                           0.51      1409\n",
            "   macro avg       0.50      0.50      0.46      1409\n",
            "weighted avg       0.50      0.51      0.47      1409\n",
            "\n"
          ],
          "name": "stdout"
        }
      ]
    },
    {
      "cell_type": "code",
      "metadata": {
        "id": "eZmkmF8XQCV3"
      },
      "source": [
        "df_submit = pd.DataFrame(y_pred, columns = ['Churn'])"
      ],
      "execution_count": null,
      "outputs": []
    },
    {
      "cell_type": "code",
      "metadata": {
        "id": "jH2MAa8vX6P7",
        "outputId": "b0752cd9-98da-45cf-b4c4-9c5b8b3ed186",
        "colab": {
          "base_uri": "https://localhost:8080/"
        }
      },
      "source": [
        "df_submit.value_counts()"
      ],
      "execution_count": null,
      "outputs": [
        {
          "output_type": "execute_result",
          "data": {
            "text/plain": [
              "Churn\n",
              "0        1119\n",
              "1         290\n",
              "dtype: int64"
            ]
          },
          "metadata": {
            "tags": []
          },
          "execution_count": 230
        }
      ]
    },
    {
      "cell_type": "code",
      "metadata": {
        "id": "jFQql74rY1oa",
        "outputId": "83c96b0b-094f-4aea-9395-4093807a23d9",
        "colab": {
          "base_uri": "https://localhost:8080/"
        }
      },
      "source": [
        "y_test.value_counts()"
      ],
      "execution_count": null,
      "outputs": [
        {
          "output_type": "execute_result",
          "data": {
            "text/plain": [
              "0    734\n",
              "1    675\n",
              "Name: Churn, dtype: int64"
            ]
          },
          "metadata": {
            "tags": []
          },
          "execution_count": 234
        }
      ]
    },
    {
      "cell_type": "code",
      "metadata": {
        "id": "Qm1DDR-ZYyoS"
      },
      "source": [
        ""
      ],
      "execution_count": null,
      "outputs": []
    },
    {
      "cell_type": "code",
      "metadata": {
        "id": "LQjBMPTTP1kJ"
      },
      "source": [
        "plot_roc_curve(y, y_pred)"
      ],
      "execution_count": null,
      "outputs": []
    },
    {
      "cell_type": "code",
      "metadata": {
        "id": "fmZVS0cDP6sK"
      },
      "source": [
        ""
      ],
      "execution_count": null,
      "outputs": []
    },
    {
      "cell_type": "code",
      "metadata": {
        "id": "XX2GNYWue-iA",
        "outputId": "0aaf46e0-1f85-44ee-c30b-6e16dda5f59e",
        "colab": {
          "base_uri": "https://localhost:8080/"
        }
      },
      "source": [
        "from sklearn.linear_model import LogisticRegression\n",
        "from sklearn import metrics\n",
        "logreg = LogisticRegression(max_iter=500)\n",
        "logreg.fit(X, y)"
      ],
      "execution_count": 46,
      "outputs": [
        {
          "output_type": "execute_result",
          "data": {
            "text/plain": [
              "LogisticRegression(C=1.0, class_weight=None, dual=False, fit_intercept=True,\n",
              "                   intercept_scaling=1, l1_ratio=None, max_iter=500,\n",
              "                   multi_class='auto', n_jobs=None, penalty='l2',\n",
              "                   random_state=None, solver='lbfgs', tol=0.0001, verbose=0,\n",
              "                   warm_start=False)"
            ]
          },
          "metadata": {
            "tags": []
          },
          "execution_count": 46
        }
      ]
    },
    {
      "cell_type": "code",
      "metadata": {
        "id": "TZ477iH0h11k"
      },
      "source": [
        "y_pred_3 = logreg.predict(X_test)"
      ],
      "execution_count": 47,
      "outputs": []
    },
    {
      "cell_type": "code",
      "metadata": {
        "id": "Oe7H1CmESHtc",
        "outputId": "09a7180f-012d-4b8b-868a-9b4cbb498bf7",
        "colab": {
          "base_uri": "https://localhost:8080/"
        }
      },
      "source": [
        "unique_elements, counts_elements = np.unique(y_pred_3, return_counts=True)\n",
        "print(\"Frequency of unique values of the said array:\")\n",
        "print(np.asarray((unique_elements, counts_elements)))"
      ],
      "execution_count": 48,
      "outputs": [
        {
          "output_type": "stream",
          "text": [
            "Frequency of unique values of the said array:\n",
            "[[   0    1]\n",
            " [1105  304]]\n"
          ],
          "name": "stdout"
        }
      ]
    },
    {
      "cell_type": "code",
      "metadata": {
        "id": "9lzlUdJDieVW",
        "outputId": "e034db9e-9287-4162-fdfe-7297a4bf9f5a",
        "colab": {
          "base_uri": "https://localhost:8080/"
        }
      },
      "source": [
        "print('Accuracy of logistic regression classifier on test set: {:.2f}'.format(logreg.score(X_test, y_pred_2)))"
      ],
      "execution_count": 392,
      "outputs": [
        {
          "output_type": "stream",
          "text": [
            "Accuracy of logistic regression classifier on test set: 1.00\n"
          ],
          "name": "stdout"
        }
      ]
    },
    {
      "cell_type": "code",
      "metadata": {
        "id": "s2ab89wcjp1H",
        "outputId": "89c452b3-7559-4922-ddfd-2d9de269136c",
        "colab": {
          "base_uri": "https://localhost:8080/"
        }
      },
      "source": [
        "from sklearn import model_selection\n",
        "from sklearn.model_selection import cross_val_score\n",
        "kfold = model_selection.KFold(n_splits=10, random_state=0)\n",
        "modelCV = LogisticRegression(max_iter=500)\n",
        "scoring = 'accuracy'\n",
        "results = model_selection.cross_val_score(modelCV, X, y, cv=kfold, scoring=scoring)\n",
        "print(\"10-fold cross validation average accuracy: %.3f\" % (results.mean()))"
      ],
      "execution_count": 41,
      "outputs": [
        {
          "output_type": "stream",
          "text": [
            "/usr/local/lib/python3.6/dist-packages/sklearn/model_selection/_split.py:296: FutureWarning: Setting a random_state has no effect since shuffle is False. This will raise an error in 0.24. You should leave random_state to its default (None), or set shuffle=True.\n",
            "  FutureWarning\n"
          ],
          "name": "stderr"
        },
        {
          "output_type": "stream",
          "text": [
            "10-fold cross validation average accuracy: 0.801\n"
          ],
          "name": "stdout"
        }
      ]
    },
    {
      "cell_type": "code",
      "metadata": {
        "id": "UcXTxa-XA6zr",
        "outputId": "7aa8a4f3-9f3e-4176-ab90-84c7865f1374",
        "colab": {
          "base_uri": "https://localhost:8080/"
        }
      },
      "source": [
        "modelCV.fit(X,y)"
      ],
      "execution_count": 42,
      "outputs": [
        {
          "output_type": "execute_result",
          "data": {
            "text/plain": [
              "LogisticRegression(C=1.0, class_weight=None, dual=False, fit_intercept=True,\n",
              "                   intercept_scaling=1, l1_ratio=None, max_iter=500,\n",
              "                   multi_class='auto', n_jobs=None, penalty='l2',\n",
              "                   random_state=None, solver='lbfgs', tol=0.0001, verbose=0,\n",
              "                   warm_start=False)"
            ]
          },
          "metadata": {
            "tags": []
          },
          "execution_count": 42
        }
      ]
    },
    {
      "cell_type": "code",
      "metadata": {
        "id": "QUFek2i6A_rQ"
      },
      "source": [
        "y_pred_4 = modelCV.predict(X_test)"
      ],
      "execution_count": 43,
      "outputs": []
    },
    {
      "cell_type": "code",
      "metadata": {
        "id": "5BL4ldQHBLOK",
        "outputId": "4697d694-5f24-4b4c-a69c-2119969e17a9",
        "colab": {
          "base_uri": "https://localhost:8080/"
        }
      },
      "source": [
        "unique_elements, counts_elements = np.unique(y_pred_4, return_counts=True)\n",
        "print(\"Frequency of unique values of the said array:\")\n",
        "print(np.asarray((unique_elements, counts_elements)))"
      ],
      "execution_count": 45,
      "outputs": [
        {
          "output_type": "stream",
          "text": [
            "Frequency of unique values of the said array:\n",
            "[[   0    1]\n",
            " [1105  304]]\n"
          ],
          "name": "stdout"
        }
      ]
    },
    {
      "cell_type": "code",
      "metadata": {
        "id": "YIfahPxeXsCp"
      },
      "source": [
        "df_submit = pd.DataFrame(zip(X_test['id'],y_pred_4),columns=['id','Churn'])\n",
        "df_submit.to_csv('churn_03.csv',index = False, sep = ',')"
      ],
      "execution_count": 49,
      "outputs": []
    },
    {
      "cell_type": "code",
      "metadata": {
        "id": "3y1MEGmyBLjQ",
        "outputId": "360a4ffc-8ebd-4360-d08d-d2a2368fed7c",
        "colab": {
          "base_uri": "https://localhost:8080/"
        }
      },
      "source": [
        "print(classification_report(y_test, y_pred_3))"
      ],
      "execution_count": 417,
      "outputs": [
        {
          "output_type": "stream",
          "text": [
            "              precision    recall  f1-score   support\n",
            "\n",
            "           0       0.52      0.78      0.62       734\n",
            "           1       0.47      0.21      0.29       675\n",
            "\n",
            "    accuracy                           0.51      1409\n",
            "   macro avg       0.49      0.49      0.45      1409\n",
            "weighted avg       0.49      0.51      0.46      1409\n",
            "\n"
          ],
          "name": "stdout"
        }
      ]
    }
  ]
}