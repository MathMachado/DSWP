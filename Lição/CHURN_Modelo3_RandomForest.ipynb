{
  "nbformat": 4,
  "nbformat_minor": 0,
  "metadata": {
    "colab": {
      "name": "Untitled5.ipynb",
      "provenance": [],
      "authorship_tag": "ABX9TyN0cQDhs6PW/cuv1ppP115q",
      "include_colab_link": true
    },
    "kernelspec": {
      "name": "python3",
      "display_name": "Python 3"
    }
  },
  "cells": [
    {
      "cell_type": "markdown",
      "metadata": {
        "id": "view-in-github",
        "colab_type": "text"
      },
      "source": [
        "<a href=\"https://colab.research.google.com/github/cryssoga/DSWP/blob/master/Li%C3%A7%C3%A3o/CHURN_Modelo3_RandomForest.ipynb\" target=\"_parent\"><img src=\"https://colab.research.google.com/assets/colab-badge.svg\" alt=\"Open In Colab\"/></a>"
      ]
    },
    {
      "cell_type": "code",
      "metadata": {
        "id": "KlVX_Gr4c7mi"
      },
      "source": [
        "import pandas as pd\n",
        "import numpy as np\n",
        "import matplotlib.pyplot as plt\n",
        "\n",
        "url_train = 'https://raw.githubusercontent.com/cryssoga/DSWP/master/Li%C3%A7%C3%A3o/train.csv'\n",
        "url_test = 'https://raw.githubusercontent.com/cryssoga/DSWP/master/Li%C3%A7%C3%A3o/test.csv'\n",
        "url_sample_submission = 'https://raw.githubusercontent.com/cryssoga/DSWP/master/Li%C3%A7%C3%A3o/sample_submission.csv'\n",
        "\n",
        "# Lendo/carregando os dataframes:\n",
        "\n",
        "df_train = pd.read_csv(url_train)\n",
        "df_test = pd.read_csv(url_test)\n",
        "df_sample_submission = pd.read_csv(url_sample_submission)\n",
        "\n",
        "# 'TotalCharges' de object para numeric, mas antes tratando os campos ' ':\n",
        "\n",
        "df_train[df_train['TotalCharges']==' ']\n",
        "df_train['TotalCharges'] = df_train['TotalCharges'].replace(' ', '0')\n",
        "df_train['TotalCharges'] = pd.to_numeric(df_train['TotalCharges'])\n",
        "\n",
        "df_test[df_test['TotalCharges']==' ']\n",
        "df_test['TotalCharges'] = df_test['TotalCharges'].replace(' ', '0')\n",
        "df_test['TotalCharges'] = pd.to_numeric(df_test['TotalCharges'])\n",
        "\n",
        "# Tratando os missing values nas variáveis 'PaymentMethod' (mais frequente), 'Dependents' (mais frequente) e 'tenure' (mediana)\n",
        "\n",
        "df_train['PaymentMethod'].fillna('Eletronic check', inplace=True)\n",
        "df_train['Dependents'].fillna('No',inplace = True)\n",
        "df_train['tenure'].fillna(df_train['tenure'].median(), inplace=True)\n",
        "\n",
        "df_test['PaymentMethod'].fillna('Eletronic check',inplace = True)\n",
        "df_test['Dependents'].fillna('No', inplace=True)\n",
        "df_test['tenure'].fillna(df_test['tenure'].median(),inplace = True)\n",
        "\n",
        "# Dividindo df_train em df_X_train e df_y_train:\n",
        "df_X_train = df_train.drop('Churn',axis=1)\n",
        "df_X_train.head()\n",
        "df_y_train = df_train['Churn']\n"
      ],
      "execution_count": 10,
      "outputs": []
    },
    {
      "cell_type": "code",
      "metadata": {
        "id": "fb6ZikXjdwoF"
      },
      "source": [
        "X_treinamento = df_X_train\n",
        "y_treinamento = df_y_train\n",
        "X_teste = df_test\n",
        "y_teste = df_sample_submission['Churn']"
      ],
      "execution_count": 11,
      "outputs": []
    },
    {
      "cell_type": "code",
      "metadata": {
        "id": "Hy7wRioJAebQ"
      },
      "source": [
        "from sklearn.preprocessing import LabelEncoder, OneHotEncoder\n",
        "le = LabelEncoder()\n",
        "    # 'gender', 'SeniorCitizen', 'Partner', 'Dependents',\n",
        "    # 'PhoneService', 'MultipleLines', 'InternetService', 'OnlineSecurity',\n",
        "    # 'OnlineBackup', 'DeviceProtection', 'TechSupport', 'StreamingTV',\n",
        "    # 'StreamingMovies', 'Contract', 'PaperlessBilling', 'PaymentMethod'\n",
        "\n",
        "X_treinamento['gender_le'] = le.fit_transform(X_treinamento['gender'])\n",
        "X_treinamento['SeniorCitizen_le'] = le.fit_transform(X_treinamento['SeniorCitizen'])\n",
        "X_treinamento['Partner_le'] = le.fit_transform(X_treinamento['Partner'])\n",
        "X_treinamento['Dependents_le'] = le.fit_transform(X_treinamento['Dependents'])\n",
        "X_treinamento['PhoneService_le'] = le.fit_transform(X_treinamento['PhoneService'])\n",
        "X_treinamento['MultipleLines_le'] = le.fit_transform(X_treinamento['MultipleLines'])\n",
        "X_treinamento['InternetService_le'] = le.fit_transform(X_treinamento['InternetService'])\n",
        "X_treinamento['OnlineSecurity_le'] = le.fit_transform(X_treinamento['OnlineSecurity'])\n",
        "X_treinamento['OnlineBackup_le'] = le.fit_transform(X_treinamento['OnlineBackup'])\n",
        "X_treinamento['DeviceProtection_le'] = le.fit_transform(X_treinamento['DeviceProtection'])\n",
        "X_treinamento['TechSupport_le'] = le.fit_transform(X_treinamento['TechSupport'])\n",
        "X_treinamento['StreamingTV_le'] = le.fit_transform(X_treinamento['StreamingTV'])\n",
        "X_treinamento['StreamingMovies_le'] = le.fit_transform(X_treinamento['StreamingMovies'])\n",
        "X_treinamento['Contract_le'] = le.fit_transform(X_treinamento['Contract'])\n",
        "X_treinamento['PaperlessBilling_le'] = le.fit_transform(X_treinamento['PaperlessBilling'])\n",
        "X_treinamento['PaymentMethod_le'] = le.fit_transform(X_treinamento['PaymentMethod'])\n",
        "\n",
        "X_teste['gender_le'] = le.fit_transform(X_teste['gender'])\n",
        "X_teste['SeniorCitizen_le'] = le.fit_transform(X_teste['SeniorCitizen'])\n",
        "X_teste['Partner_le'] = le.fit_transform(X_teste['Partner'])\n",
        "X_teste['Dependents_le'] = le.fit_transform(X_teste['Dependents'])\n",
        "X_teste['PhoneService_le'] = le.fit_transform(X_teste['PhoneService'])\n",
        "X_teste['MultipleLines_le'] = le.fit_transform(X_teste['MultipleLines'])\n",
        "X_teste['InternetService_le'] = le.fit_transform(X_teste['InternetService'])\n",
        "X_teste['OnlineSecurity_le'] = le.fit_transform(X_teste['OnlineSecurity'])\n",
        "X_teste['OnlineBackup_le'] = le.fit_transform(X_teste['OnlineBackup'])\n",
        "X_teste['DeviceProtection_le'] = le.fit_transform(X_teste['DeviceProtection'])\n",
        "X_teste['TechSupport_le'] = le.fit_transform(X_teste['TechSupport'])\n",
        "X_teste['StreamingTV_le'] = le.fit_transform(X_teste['StreamingTV'])\n",
        "X_teste['StreamingMovies_le'] = le.fit_transform(X_teste['StreamingMovies'])\n",
        "X_teste['Contract_le'] = le.fit_transform(X_teste['Contract'])\n",
        "X_teste['PaperlessBilling_le'] = le.fit_transform(X_teste['PaperlessBilling'])\n",
        "X_teste['PaymentMethod_le'] = le.fit_transform(X_teste['PaymentMethod'])\n",
        "\n",
        "X_train = X_treinamento.copy()\n",
        "X_test = X_teste.copy()\n",
        "\n",
        "X_treinamento = X_treinamento.drop(['id','gender', 'SeniorCitizen', 'Partner', 'Dependents',\n",
        "                                 'PhoneService', 'MultipleLines', 'InternetService', 'OnlineSecurity',\n",
        "                                 'OnlineBackup', 'DeviceProtection', 'TechSupport', 'StreamingTV',\n",
        "                                 'StreamingMovies', 'Contract', 'PaperlessBilling', 'PaymentMethod'],axis=1)\n",
        "\n",
        "X_teste = X_teste.drop(['id','gender', 'SeniorCitizen', 'Partner', 'Dependents',\n",
        "                                 'PhoneService', 'MultipleLines', 'InternetService', 'OnlineSecurity',\n",
        "                                 'OnlineBackup', 'DeviceProtection', 'TechSupport', 'StreamingTV',\n",
        "                                 'StreamingMovies', 'Contract', 'PaperlessBilling', 'PaymentMethod'],axis=1)\n",
        "l_colunas = X_treinamento.columns"
      ],
      "execution_count": 12,
      "outputs": []
    },
    {
      "cell_type": "code",
      "metadata": {
        "id": "wOcEuEMrfBEh"
      },
      "source": [
        "# Definindo variáveis globais:\n",
        "i_CV = 10     # número de Cross-Validations (CV)\n",
        "i_Seed = 20111974\n",
        "\n",
        "from sklearn.model_selection import cross_val_score     # para CV (Cross-Validation)\n",
        "from sklearn.model_selection import GridSearchCV        # para GridSearchCV (otimizar os parâmetros dos modelos preditivos)\n",
        "from time import time                                   # requerida na função gridsearchcv\n",
        "from sklearn.ensemble import RandomForestClassifier     # para o RandomForestClassifier\n",
        "from sklearn.metrics import confusion_matrix            # para plotar a confusion matrix\n",
        "import seaborn as sns"
      ],
      "execution_count": 13,
      "outputs": []
    },
    {
      "cell_type": "code",
      "metadata": {
        "id": "yyKeG24repEU"
      },
      "source": [
        "# Função para Cross-Validation:\n",
        "\n",
        "def funcao_cross_val_score(modelo, X_treinamento, y_treinamento, CV):\n",
        "    \n",
        "    #versão com cross_val_score:\n",
        "    a_scores_CV = cross_val_score(modelo, X_treinamento, y_treinamento, cv = CV)\n",
        "    print(f'Média das Acurácias calculadas pelo CV....: {100*round(a_scores_CV.mean(),4)}')\n",
        "    print(f'std médio das Acurácias calculadas pelo CV: {100*round(a_scores_CV.std(),4)}')\n",
        "    return a_scores_CV  # é um array com os scores a cada iteração do CV\n"
      ],
      "execution_count": 14,
      "outputs": []
    },
    {
      "cell_type": "code",
      "metadata": {
        "id": "3aceuye7hmqx"
      },
      "source": [
        "# Função para Confusion Matrix:\n",
        "\n",
        "def mostra_confusion_matrix(cf, \n",
        "                            group_names = None, \n",
        "                            categories = 'auto', \n",
        "                            count = True, \n",
        "                            percent = True, \n",
        "                            cbar = True, \n",
        "                            xyticks = False, \n",
        "                            xyplotlabels = True, \n",
        "                            sum_stats = True, \n",
        "                            figsize = (8, 8), \n",
        "                            cmap = 'Blues'):\n",
        "    '''\n",
        "    This function will make a pretty plot of an sklearn Confusion Matrix cm using a Seaborn heatmap visualization.\n",
        "    Arguments\n",
        "    ---------\n",
        "    cf:            confusion matrix to be passed in\n",
        "    group_names:   List of strings that represent the labels row by row to be shown in each square.\n",
        "    categories:    List of strings containing the categories to be displayed on the x,y axis. Default is 'auto'\n",
        "    count:         If True, show the raw number in the confusion matrix. Default is True.\n",
        "    normalize:     If True, show the proportions for each category. Default is True.\n",
        "    cbar:          If True, show the color bar. The cbar values are based off the values in the confusion matrix.\n",
        "                   Default is True.\n",
        "    xyticks:       If True, show x and y ticks. Default is True.\n",
        "    xyplotlabels:  If True, show 'True Label' and 'Predicted Label' on the figure. Default is True.\n",
        "    sum_stats:     If True, display summary statistics below the figure. Default is True.\n",
        "    figsize:       Tuple representing the figure size. Default will be the matplotlib rcParams value.\n",
        "    cmap:          Colormap of the values displayed from matplotlib.pyplot.cm. Default is 'Blues'\n",
        "                   See http://matplotlib.org/examples/color/colormaps_reference.html\n",
        "    '''\n",
        "\n",
        "    # CODE TO GENERATE TEXT INSIDE EACH SQUARE\n",
        "    blanks = ['' for i in range(cf.size)]\n",
        "\n",
        "    if group_names and len(group_names)==cf.size:\n",
        "        group_labels = [\"{}\\n\".format(value) for value in group_names]\n",
        "    else:\n",
        "        group_labels = blanks\n",
        "\n",
        "    if count:\n",
        "        group_counts = [\"{0:0.0f}\\n\".format(value) for value in cf.flatten()]\n",
        "    else:\n",
        "        group_counts = blanks\n",
        "\n",
        "    if percent:\n",
        "        group_percentages = [\"{0:.2%}\".format(value) for value in cf.flatten()/np.sum(cf)]\n",
        "    else:\n",
        "        group_percentages = blanks\n",
        "\n",
        "    box_labels = [f\"{v1}{v2}{v3}\".strip() for v1, v2, v3 in zip(group_labels,group_counts,group_percentages)]\n",
        "    box_labels = np.asarray(box_labels).reshape(cf.shape[0],cf.shape[1])\n",
        "\n",
        "    # CODE TO GENERATE SUMMARY STATISTICS & TEXT FOR SUMMARY STATS\n",
        "    if sum_stats:\n",
        "        #Accuracy is sum of diagonal divided by total observations\n",
        "        accuracy  = np.trace(cf) / float(np.sum(cf))\n",
        "\n",
        "        #if it is a binary confusion matrix, show some more stats\n",
        "        if len(cf)==2:\n",
        "            #Metrics for Binary Confusion Matrices\n",
        "            precision = cf[1,1] / sum(cf[:,1])\n",
        "            recall    = cf[1,1] / sum(cf[1,:])\n",
        "            f1_score  = 2*precision*recall / (precision + recall)\n",
        "            stats_text = \"\\n\\nAccuracy={:0.3f}\\nPrecision={:0.3f}\\nRecall={:0.3f}\\nF1 Score={:0.3f}\".format(accuracy,precision,recall,f1_score)\n",
        "        else:\n",
        "            stats_text = \"\\n\\nAccuracy={:0.3f}\".format(accuracy)\n",
        "    else:\n",
        "        stats_text = \"\"\n",
        "\n",
        "    # SET FIGURE PARAMETERS ACCORDING TO OTHER ARGUMENTS\n",
        "    if figsize==None:\n",
        "        #Get default figure size if not set\n",
        "        figsize = plt.rcParams.get('figure.figsize')\n",
        "\n",
        "    if xyticks==False:\n",
        "        #Do not show categories if xyticks is False\n",
        "        categories=False\n",
        "\n",
        "    # MAKE THE HEATMAP VISUALIZATION\n",
        "    plt.figure(figsize=figsize)\n",
        "    sns.heatmap(cf,annot=box_labels,fmt=\"\",cmap=cmap,cbar=cbar,xticklabels=categories,yticklabels=categories)\n",
        "\n",
        "    if xyplotlabels:\n",
        "        plt.ylabel('True label')\n",
        "        plt.xlabel('Predicted label' + stats_text)\n",
        "    else:\n",
        "        plt.xlabel(stats_text)"
      ],
      "execution_count": 15,
      "outputs": []
    },
    {
      "cell_type": "code",
      "metadata": {
        "id": "dq1aiuUsfKdU"
      },
      "source": [
        "# função para GridSearchCV:\n",
        "\n",
        "def GridSearchOptimizer(modelo, ml_Opt, d_Parametros, X_treinamento, y_treinamento, X_teste, y_teste, i_CV, l_colunas):\n",
        "    ml_GridSearchCV = GridSearchCV(modelo, d_Parametros, cv = i_CV, n_jobs = -1, verbose= 10, scoring = 'accuracy')\n",
        "    start = time()\n",
        "    ml_GridSearchCV.fit(X_treinamento, y_treinamento)\n",
        "    tempo_elapsed = time()-start\n",
        "    #print(f\"\\nGridSearchCV levou {tempo_elapsed:.2f} segundos.\")\n",
        "\n",
        "    # Parâmetros que otimizam a classificação:\n",
        "    print(f'\\nParametros otimizados: {ml_GridSearchCV.best_params_}')\n",
        "    \n",
        "    if ml_Opt == 'ml_DT2':\n",
        "        print(f'\\nDecisionTreeClassifier *********************************************************************************************************')\n",
        "        ml_Opt = DecisionTreeClassifier(criterion= ml_GridSearchCV.best_params_['criterion'], \n",
        "                                        max_depth= ml_GridSearchCV.best_params_['max_depth'],\n",
        "                                        max_leaf_nodes= ml_GridSearchCV.best_params_['max_leaf_nodes'],\n",
        "                                        min_samples_split= ml_GridSearchCV.best_params_['min_samples_leaf'],\n",
        "                                        min_samples_leaf= ml_GridSearchCV.best_params_['min_samples_split'], \n",
        "                                        random_state= i_Seed)\n",
        "        \n",
        "    elif ml_Opt == 'ml_RF2':\n",
        "        print(f'\\nRandomForestClassifier *********************************************************************************************************')\n",
        "        ml_Opt = RandomForestClassifier(bootstrap= ml_GridSearchCV.best_params_['bootstrap'], \n",
        "                                        max_depth= ml_GridSearchCV.best_params_['max_depth'],\n",
        "                                        max_features= ml_GridSearchCV.best_params_['max_features'],\n",
        "                                        min_samples_leaf= ml_GridSearchCV.best_params_['min_samples_leaf'],\n",
        "                                        min_samples_split= ml_GridSearchCV.best_params_['min_samples_split'],\n",
        "                                        n_estimators= ml_GridSearchCV.best_params_['n_estimators'],\n",
        "                                        random_state= i_Seed)\n",
        "        \n",
        "    elif ml_Opt == 'ml_AB2':\n",
        "        print(f'\\nAdaBoostClassifier *********************************************************************************************************')\n",
        "        ml_Opt = AdaBoostClassifier(algorithm='SAMME.R', \n",
        "                                    base_estimator=RandomForestClassifier(bootstrap = False, \n",
        "                                                                          max_depth = 10, \n",
        "                                                                          max_features = 'auto', \n",
        "                                                                          min_samples_leaf = 1, \n",
        "                                                                          min_samples_split = 2, \n",
        "                                                                          n_estimators = 400), \n",
        "                                    learning_rate = ml_GridSearchCV.best_params_['learning_rate'], \n",
        "                                    n_estimators = ml_GridSearchCV.best_params_['n_estimators'], \n",
        "                                    random_state = i_Seed)\n",
        "        \n",
        "    elif ml_Opt == 'ml_GB2':\n",
        "        print(f'\\nGradientBoostingClassifier *********************************************************************************************************')\n",
        "        ml_Opt = GradientBoostingClassifier(learning_rate = ml_GridSearchCV.best_params_['learning_rate'], \n",
        "                                            n_estimators = ml_GridSearchCV.best_params_['n_estimators'], \n",
        "                                            max_depth = ml_GridSearchCV.best_params_['max_depth'], \n",
        "                                            min_samples_split = ml_GridSearchCV.best_params_['min_samples_split'], \n",
        "                                            min_samples_leaf = ml_GridSearchCV.best_params_['min_samples_leaf'], \n",
        "                                            max_features = ml_GridSearchCV.best_params_['max_features'])\n",
        "        \n",
        "    elif ml_Opt == 'ml_XGB2':\n",
        "        print(f'\\nXGBoostingClassifier *********************************************************************************************************')\n",
        "        ml_Opt = XGBoostingClassifier(learning_rate= ml_GridSearchCV.best_params_['learning_rate'], \n",
        "                                      max_depth= ml_GridSearchCV.best_params_['max_depth'], \n",
        "                                      colsample_bytree= ml_GridSearchCV.best_params_['colsample_bytree'], \n",
        "                                      subsample= ml_GridSearchCV.best_params_['subsample'], \n",
        "                                      gamma= ml_GridSearchCV.best_params_['gamma'], \n",
        "                                      min_child_weight= ml_GridSearchCV.best_params_['min_child_weight'])\n",
        "        \n",
        "    # Treina novamente usando os parametros otimizados...\n",
        "    ml_Opt.fit(X_treinamento, y_treinamento)\n",
        "\n",
        "    # Cross-Validation com 10 folds\n",
        "    print(f'\\n********* CROSS-VALIDATION ***********')\n",
        "    a_scores_CV = funcao_cross_val_score(ml_Opt, X_treinamento, y_treinamento, i_CV)\n",
        "\n",
        "    # Faz predições com os parametros otimizados...\n",
        "    y_pred = ml_Opt.predict(X_teste)\n",
        "  \n",
        "    # Importância das COLUNAS\n",
        "    print(f'\\n********* IMPORTÂNCIA DAS COLUNAS ***********')\n",
        "    df_importancia_variaveis = pd.DataFrame(zip(l_colunas, ml_Opt.feature_importances_), columns= ['coluna', 'importancia'])\n",
        "    df_importancia_variaveis = df_importancia_variaveis.sort_values(by= ['importancia'], ascending=False)\n",
        "    print(df_importancia_variaveis)\n",
        "\n",
        "    # Matriz de Confusão\n",
        "    print(f'\\n********* CONFUSION MATRIX - PARAMETER TUNNING ***********')\n",
        "    cf_matrix = confusion_matrix(y_teste, y_pred)\n",
        "    cf_labels = ['True_Negative', 'False_Positive', 'False_Negative', 'True_Positive']\n",
        "    cf_categories = ['Zero', 'One']\n",
        "    mostra_confusion_matrix(cf_matrix, group_names = cf_labels, categories = cf_categories)\n",
        "\n",
        "    return ml_Opt, ml_GridSearchCV.best_params_\n"
      ],
      "execution_count": 16,
      "outputs": []
    },
    {
      "cell_type": "code",
      "metadata": {
        "id": "Adif316XBrff"
      },
      "source": [
        "# Função para Decision Tree:\n",
        "\n",
        "from sklearn.tree import DecisionTreeClassifier # Library para Decision Tree (Classificação)\n",
        "\n",
        "ml_DT = DecisionTreeClassifier(criterion = 'gini', \n",
        "                               splitter = 'best', \n",
        "                               max_depth = None, \n",
        "                               min_samples_split = 2, \n",
        "                               min_samples_leaf = 1, \n",
        "                               min_weight_fraction_leaf = 0.0, \n",
        "                               max_features = None, \n",
        "                               random_state = i_Seed, \n",
        "                               max_leaf_nodes = None, \n",
        "                               min_impurity_decrease = 0.0, \n",
        "                               min_impurity_split = None, \n",
        "                               class_weight = None, \n",
        "                               presort = False)\n",
        "\n"
      ],
      "execution_count": 17,
      "outputs": []
    },
    {
      "cell_type": "markdown",
      "metadata": {
        "id": "KX9zNKqv_nm-"
      },
      "source": [
        "## Modelo 1: Decision Tree + GridSearchCV (X_treinamento, X_teste)\n",
        "\n",
        "Objetivo: a partir do relatório de 'importância das colunas' gerada, eliminar colunas menos importantes da base X (treinamento e teste) para rodar novamente mas com RANDOM FOREST, com X_RF1 (treinamento e teste)."
      ]
    },
    {
      "cell_type": "code",
      "metadata": {
        "id": "GZlw_LSW0dGD",
        "outputId": "0981ffa5-2297-4e57-9ec4-c26564d5fa18",
        "colab": {
          "base_uri": "https://localhost:8080/"
        }
      },
      "source": [
        "ml_DT"
      ],
      "execution_count": 19,
      "outputs": [
        {
          "output_type": "execute_result",
          "data": {
            "text/plain": [
              "DecisionTreeClassifier(ccp_alpha=0.0, class_weight=None, criterion='gini',\n",
              "                       max_depth=None, max_features=None, max_leaf_nodes=None,\n",
              "                       min_impurity_decrease=0.0, min_impurity_split=None,\n",
              "                       min_samples_leaf=1, min_samples_split=2,\n",
              "                       min_weight_fraction_leaf=0.0, presort=False,\n",
              "                       random_state=20111974, splitter='best')"
            ]
          },
          "metadata": {
            "tags": []
          },
          "execution_count": 19
        }
      ]
    },
    {
      "cell_type": "code",
      "metadata": {
        "id": "KtQvzJtH0zwy",
        "outputId": "9064aa2b-ce7e-45d7-aae2-e433389fb6d7",
        "colab": {
          "base_uri": "https://localhost:8080/"
        }
      },
      "source": [
        "# Treinar o algoritmo/classificador: fit(df)\n",
        "ml_DT.fit(X_treinamento, y_treinamento)"
      ],
      "execution_count": 20,
      "outputs": [
        {
          "output_type": "stream",
          "text": [
            "/usr/local/lib/python3.6/dist-packages/sklearn/tree/_classes.py:319: FutureWarning: The parameter 'presort' is deprecated and has no effect. It will be removed in v0.24. You can suppress this warning by not passing any value to the 'presort' parameter.\n",
            "  FutureWarning)\n"
          ],
          "name": "stderr"
        },
        {
          "output_type": "execute_result",
          "data": {
            "text/plain": [
              "DecisionTreeClassifier(ccp_alpha=0.0, class_weight=None, criterion='gini',\n",
              "                       max_depth=None, max_features=None, max_leaf_nodes=None,\n",
              "                       min_impurity_decrease=0.0, min_impurity_split=None,\n",
              "                       min_samples_leaf=1, min_samples_split=2,\n",
              "                       min_weight_fraction_leaf=0.0, presort=False,\n",
              "                       random_state=20111974, splitter='best')"
            ]
          },
          "metadata": {
            "tags": []
          },
          "execution_count": 20
        }
      ]
    },
    {
      "cell_type": "code",
      "metadata": {
        "id": "8A25VF8z_CFX",
        "outputId": "635a9ea2-5148-45b2-b4af-2735aac9e566",
        "colab": {
          "base_uri": "https://localhost:8080/"
        }
      },
      "source": [
        "# Chamando a função CV\n",
        "a_scores_CV = funcao_cross_val_score(ml_DT, X_treinamento, y_treinamento, i_CV)"
      ],
      "execution_count": 21,
      "outputs": [
        {
          "output_type": "stream",
          "text": [
            "/usr/local/lib/python3.6/dist-packages/sklearn/tree/_classes.py:319: FutureWarning: The parameter 'presort' is deprecated and has no effect. It will be removed in v0.24. You can suppress this warning by not passing any value to the 'presort' parameter.\n",
            "  FutureWarning)\n",
            "/usr/local/lib/python3.6/dist-packages/sklearn/tree/_classes.py:319: FutureWarning: The parameter 'presort' is deprecated and has no effect. It will be removed in v0.24. You can suppress this warning by not passing any value to the 'presort' parameter.\n",
            "  FutureWarning)\n",
            "/usr/local/lib/python3.6/dist-packages/sklearn/tree/_classes.py:319: FutureWarning: The parameter 'presort' is deprecated and has no effect. It will be removed in v0.24. You can suppress this warning by not passing any value to the 'presort' parameter.\n",
            "  FutureWarning)\n",
            "/usr/local/lib/python3.6/dist-packages/sklearn/tree/_classes.py:319: FutureWarning: The parameter 'presort' is deprecated and has no effect. It will be removed in v0.24. You can suppress this warning by not passing any value to the 'presort' parameter.\n",
            "  FutureWarning)\n",
            "/usr/local/lib/python3.6/dist-packages/sklearn/tree/_classes.py:319: FutureWarning: The parameter 'presort' is deprecated and has no effect. It will be removed in v0.24. You can suppress this warning by not passing any value to the 'presort' parameter.\n",
            "  FutureWarning)\n",
            "/usr/local/lib/python3.6/dist-packages/sklearn/tree/_classes.py:319: FutureWarning: The parameter 'presort' is deprecated and has no effect. It will be removed in v0.24. You can suppress this warning by not passing any value to the 'presort' parameter.\n",
            "  FutureWarning)\n",
            "/usr/local/lib/python3.6/dist-packages/sklearn/tree/_classes.py:319: FutureWarning: The parameter 'presort' is deprecated and has no effect. It will be removed in v0.24. You can suppress this warning by not passing any value to the 'presort' parameter.\n",
            "  FutureWarning)\n"
          ],
          "name": "stderr"
        },
        {
          "output_type": "stream",
          "text": [
            "Média das Acurácias calculadas pelo CV....: 72.67\n",
            "std médio das Acurácias calculadas pelo CV: 1.6500000000000001\n"
          ],
          "name": "stdout"
        },
        {
          "output_type": "stream",
          "text": [
            "/usr/local/lib/python3.6/dist-packages/sklearn/tree/_classes.py:319: FutureWarning: The parameter 'presort' is deprecated and has no effect. It will be removed in v0.24. You can suppress this warning by not passing any value to the 'presort' parameter.\n",
            "  FutureWarning)\n",
            "/usr/local/lib/python3.6/dist-packages/sklearn/tree/_classes.py:319: FutureWarning: The parameter 'presort' is deprecated and has no effect. It will be removed in v0.24. You can suppress this warning by not passing any value to the 'presort' parameter.\n",
            "  FutureWarning)\n",
            "/usr/local/lib/python3.6/dist-packages/sklearn/tree/_classes.py:319: FutureWarning: The parameter 'presort' is deprecated and has no effect. It will be removed in v0.24. You can suppress this warning by not passing any value to the 'presort' parameter.\n",
            "  FutureWarning)\n"
          ],
          "name": "stderr"
        }
      ]
    },
    {
      "cell_type": "code",
      "metadata": {
        "id": "wlkElV42_GbZ",
        "outputId": "cf271648-2b55-4939-b27d-ca0e63118cc4",
        "colab": {
          "base_uri": "https://localhost:8080/"
        }
      },
      "source": [
        "ml_DT.score(X_teste, y_teste)"
      ],
      "execution_count": 22,
      "outputs": [
        {
          "output_type": "execute_result",
          "data": {
            "text/plain": [
              "0.49538679914833217"
            ]
          },
          "metadata": {
            "tags": []
          },
          "execution_count": 22
        }
      ]
    },
    {
      "cell_type": "code",
      "metadata": {
        "id": "lBGeI6mlCWd7"
      },
      "source": [
        "# Faz predições...\n",
        "y_pred = ml_DT.predict(X_teste)"
      ],
      "execution_count": 25,
      "outputs": []
    },
    {
      "cell_type": "code",
      "metadata": {
        "id": "XNqs7zkn_M8e",
        "outputId": "631dde5e-7367-43c0-b331-8dcd84ef8c62",
        "colab": {
          "base_uri": "https://localhost:8080/",
          "height": 538
        }
      },
      "source": [
        "cf_matrix = confusion_matrix(y_teste, y_pred)\n",
        "cf_labels = ['True_Negative', 'False_Positive', 'False_Negative', 'True_Positive']\n",
        "cf_categories = ['Zero', 'One']\n",
        "mostra_confusion_matrix(cf_matrix, group_names= cf_labels, categories= cf_categories)"
      ],
      "execution_count": 26,
      "outputs": [
        {
          "output_type": "display_data",
          "data": {
            "image/png": "[encoded data removed]",
            "text/plain": [
              "<Figure size 576x576 with 2 Axes>"
            ]
          },
          "metadata": {
            "tags": [],
            "needs_background": "light"
          }
        }
      ]
    },
    {
      "cell_type": "code",
      "metadata": {
        "id": "HiNo7vnucg_u"
      },
      "source": [
        "# Dicionário de parâmetros para o parameter tunning. Ao todo serão ajustados 2X15X5X5X7= 5.250 modelos. Contando com 10 folds no Cross-Validation, então são 52.500 modelos.\n",
        "d_hiperparametros_DT= {\"criterion\": [\"gini\", \"entropy\"], \n",
        "                  \"min_samples_split\": [2, 5, 10, 30, 50, 70, 90, 120, 150, 180, 210, 240, 270, 350, 400],\n",
        "                  \"max_depth\": [None, 2, 5, 9, 15],\n",
        "                  \"min_samples_leaf\": [20, 40, 60, 80, 100],\n",
        "                  \"max_leaf_nodes\": [None, 2, 3, 4, 5, 10, 15]}"
      ],
      "execution_count": 27,
      "outputs": []
    },
    {
      "cell_type": "code",
      "metadata": {
        "id": "1nSY5J1JdFh6",
        "outputId": "a8220cf9-01bf-4bf7-8dc2-722cd262baf6",
        "colab": {
          "base_uri": "https://localhost:8080/",
          "height": 1000
        }
      },
      "source": [
        "# Invoca a função GridSearchCV com o modelo baseline:\n",
        "l_colunas = X_treinamento.columns\n",
        "ml_DT2, best_params = GridSearchOptimizer(ml_DT, 'ml_DT2', d_hiperparametros_DT, X_treinamento, y_treinamento, X_teste, y_teste, i_CV, l_colunas)\n"
      ],
      "execution_count": 29,
      "outputs": [
        {
          "output_type": "stream",
          "text": [
            "Fitting 10 folds for each of 5250 candidates, totalling 52500 fits\n"
          ],
          "name": "stdout"
        },
        {
          "output_type": "stream",
          "text": [
            "[Parallel(n_jobs=-1)]: Using backend LokyBackend with 2 concurrent workers.\n",
            "[Parallel(n_jobs=-1)]: Done   1 tasks      | elapsed:    1.4s\n",
            "[Parallel(n_jobs=-1)]: Done   4 tasks      | elapsed:    1.5s\n",
            "[Parallel(n_jobs=-1)]: Done   9 tasks      | elapsed:    1.6s\n",
            "[Parallel(n_jobs=-1)]: Done  14 tasks      | elapsed:    1.7s\n",
            "[Parallel(n_jobs=-1)]: Batch computation too fast (0.1778s.) Setting batch_size=2.\n",
            "[Parallel(n_jobs=-1)]: Done  22 tasks      | elapsed:    1.9s\n",
            "[Parallel(n_jobs=-1)]: Batch computation too fast (0.1221s.) Setting batch_size=4.\n",
            "[Parallel(n_jobs=-1)]: Done  44 tasks      | elapsed:    2.3s\n",
            "[Parallel(n_jobs=-1)]: Done  80 tasks      | elapsed:    3.0s\n",
            "[Parallel(n_jobs=-1)]: Done 116 tasks      | elapsed:    3.5s\n",
            "[Parallel(n_jobs=-1)]: Done 160 tasks      | elapsed:    4.2s\n",
            "[Parallel(n_jobs=-1)]: Done 204 tasks      | elapsed:    5.0s\n",
            "[Parallel(n_jobs=-1)]: Done 256 tasks      | elapsed:    5.9s\n",
            "[Parallel(n_jobs=-1)]: Done 308 tasks      | elapsed:    6.7s\n",
            "[Parallel(n_jobs=-1)]: Done 368 tasks      | elapsed:    7.6s\n",
            "[Parallel(n_jobs=-1)]: Done 428 tasks      | elapsed:    8.6s\n",
            "[Parallel(n_jobs=-1)]: Done 496 tasks      | elapsed:    9.5s\n",
            "[Parallel(n_jobs=-1)]: Done 564 tasks      | elapsed:   10.6s\n",
            "[Parallel(n_jobs=-1)]: Done 640 tasks      | elapsed:   11.7s\n",
            "[Parallel(n_jobs=-1)]: Done 716 tasks      | elapsed:   12.8s\n",
            "[Parallel(n_jobs=-1)]: Batch computation too fast (0.1868s.) Setting batch_size=8.\n",
            "[Parallel(n_jobs=-1)]: Done 820 tasks      | elapsed:   14.0s\n",
            "[Parallel(n_jobs=-1)]: Done 988 tasks      | elapsed:   15.5s\n",
            "[Parallel(n_jobs=-1)]: Done 1172 tasks      | elapsed:   17.0s\n",
            "[Parallel(n_jobs=-1)]: Done 1356 tasks      | elapsed:   18.6s\n",
            "[Parallel(n_jobs=-1)]: Done 1556 tasks      | elapsed:   20.4s\n",
            "[Parallel(n_jobs=-1)]: Done 1756 tasks      | elapsed:   22.3s\n",
            "[Parallel(n_jobs=-1)]: Done 1972 tasks      | elapsed:   24.4s\n",
            "[Parallel(n_jobs=-1)]: Done 2188 tasks      | elapsed:   26.4s\n",
            "[Parallel(n_jobs=-1)]: Done 2420 tasks      | elapsed:   28.7s\n",
            "[Parallel(n_jobs=-1)]: Done 2652 tasks      | elapsed:   30.9s\n",
            "[Parallel(n_jobs=-1)]: Done 2900 tasks      | elapsed:   33.4s\n",
            "[Parallel(n_jobs=-1)]: Done 3148 tasks      | elapsed:   35.9s\n",
            "[Parallel(n_jobs=-1)]: Done 3412 tasks      | elapsed:   38.6s\n",
            "[Parallel(n_jobs=-1)]: Done 3676 tasks      | elapsed:   41.3s\n",
            "[Parallel(n_jobs=-1)]: Done 3956 tasks      | elapsed:   44.8s\n",
            "[Parallel(n_jobs=-1)]: Done 4236 tasks      | elapsed:   48.0s\n",
            "[Parallel(n_jobs=-1)]: Done 4532 tasks      | elapsed:   51.6s\n",
            "[Parallel(n_jobs=-1)]: Done 4828 tasks      | elapsed:   55.3s\n",
            "[Parallel(n_jobs=-1)]: Done 5140 tasks      | elapsed:   59.1s\n",
            "[Parallel(n_jobs=-1)]: Done 5452 tasks      | elapsed:  1.0min\n",
            "[Parallel(n_jobs=-1)]: Done 5780 tasks      | elapsed:  1.1min\n",
            "[Parallel(n_jobs=-1)]: Done 6108 tasks      | elapsed:  1.1min\n",
            "[Parallel(n_jobs=-1)]: Done 6452 tasks      | elapsed:  1.2min\n",
            "[Parallel(n_jobs=-1)]: Done 6796 tasks      | elapsed:  1.2min\n",
            "[Parallel(n_jobs=-1)]: Done 7156 tasks      | elapsed:  1.3min\n",
            "[Parallel(n_jobs=-1)]: Done 7516 tasks      | elapsed:  1.3min\n",
            "[Parallel(n_jobs=-1)]: Done 7892 tasks      | elapsed:  1.4min\n",
            "[Parallel(n_jobs=-1)]: Done 8268 tasks      | elapsed:  1.5min\n",
            "[Parallel(n_jobs=-1)]: Done 8660 tasks      | elapsed:  1.5min\n",
            "[Parallel(n_jobs=-1)]: Done 9052 tasks      | elapsed:  1.6min\n",
            "[Parallel(n_jobs=-1)]: Done 9460 tasks      | elapsed:  1.6min\n",
            "[Parallel(n_jobs=-1)]: Done 9868 tasks      | elapsed:  1.7min\n",
            "[Parallel(n_jobs=-1)]: Done 10292 tasks      | elapsed:  1.8min\n",
            "[Parallel(n_jobs=-1)]: Done 10716 tasks      | elapsed:  1.8min\n",
            "[Parallel(n_jobs=-1)]: Done 11156 tasks      | elapsed:  1.9min\n",
            "[Parallel(n_jobs=-1)]: Done 11596 tasks      | elapsed:  2.0min\n",
            "[Parallel(n_jobs=-1)]: Done 12052 tasks      | elapsed:  2.1min\n",
            "[Parallel(n_jobs=-1)]: Done 12508 tasks      | elapsed:  2.1min\n",
            "[Parallel(n_jobs=-1)]: Done 12980 tasks      | elapsed:  2.2min\n",
            "[Parallel(n_jobs=-1)]: Done 13452 tasks      | elapsed:  2.3min\n",
            "[Parallel(n_jobs=-1)]: Done 13940 tasks      | elapsed:  2.4min\n",
            "[Parallel(n_jobs=-1)]: Done 14428 tasks      | elapsed:  2.5min\n",
            "[Parallel(n_jobs=-1)]: Done 14932 tasks      | elapsed:  2.6min\n",
            "[Parallel(n_jobs=-1)]: Done 15436 tasks      | elapsed:  2.7min\n",
            "[Parallel(n_jobs=-1)]: Done 15956 tasks      | elapsed:  2.8min\n",
            "[Parallel(n_jobs=-1)]: Done 16476 tasks      | elapsed:  2.9min\n",
            "[Parallel(n_jobs=-1)]: Done 17012 tasks      | elapsed:  3.0min\n",
            "[Parallel(n_jobs=-1)]: Done 17548 tasks      | elapsed:  3.1min\n",
            "[Parallel(n_jobs=-1)]: Done 18100 tasks      | elapsed:  3.2min\n",
            "[Parallel(n_jobs=-1)]: Done 18652 tasks      | elapsed:  3.3min\n",
            "[Parallel(n_jobs=-1)]: Done 19220 tasks      | elapsed:  3.3min\n",
            "[Parallel(n_jobs=-1)]: Done 19788 tasks      | elapsed:  3.5min\n",
            "[Parallel(n_jobs=-1)]: Done 20372 tasks      | elapsed:  3.6min\n",
            "[Parallel(n_jobs=-1)]: Done 20956 tasks      | elapsed:  3.7min\n",
            "[Parallel(n_jobs=-1)]: Done 21556 tasks      | elapsed:  3.8min\n",
            "[Parallel(n_jobs=-1)]: Done 22156 tasks      | elapsed:  3.9min\n",
            "[Parallel(n_jobs=-1)]: Done 22772 tasks      | elapsed:  4.0min\n",
            "[Parallel(n_jobs=-1)]: Done 23388 tasks      | elapsed:  4.1min\n",
            "[Parallel(n_jobs=-1)]: Done 24020 tasks      | elapsed:  4.2min\n",
            "[Parallel(n_jobs=-1)]: Done 24652 tasks      | elapsed:  4.4min\n",
            "[Parallel(n_jobs=-1)]: Done 25300 tasks      | elapsed:  4.5min\n",
            "[Parallel(n_jobs=-1)]: Done 25948 tasks      | elapsed:  4.6min\n",
            "[Parallel(n_jobs=-1)]: Done 26612 tasks      | elapsed:  4.8min\n",
            "[Parallel(n_jobs=-1)]: Done 27276 tasks      | elapsed:  5.0min\n",
            "[Parallel(n_jobs=-1)]: Done 27956 tasks      | elapsed:  5.1min\n",
            "[Parallel(n_jobs=-1)]: Done 28636 tasks      | elapsed:  5.2min\n",
            "[Parallel(n_jobs=-1)]: Done 29332 tasks      | elapsed:  5.3min\n",
            "[Parallel(n_jobs=-1)]: Done 30028 tasks      | elapsed:  5.5min\n",
            "[Parallel(n_jobs=-1)]: Done 30740 tasks      | elapsed:  5.6min\n",
            "[Parallel(n_jobs=-1)]: Done 31452 tasks      | elapsed:  5.8min\n",
            "[Parallel(n_jobs=-1)]: Done 32180 tasks      | elapsed:  6.0min\n",
            "[Parallel(n_jobs=-1)]: Done 32908 tasks      | elapsed:  6.1min\n",
            "[Parallel(n_jobs=-1)]: Done 33652 tasks      | elapsed:  6.2min\n",
            "[Parallel(n_jobs=-1)]: Done 34396 tasks      | elapsed:  6.3min\n",
            "[Parallel(n_jobs=-1)]: Done 35156 tasks      | elapsed:  6.4min\n",
            "[Parallel(n_jobs=-1)]: Done 35916 tasks      | elapsed:  6.6min\n",
            "[Parallel(n_jobs=-1)]: Done 36692 tasks      | elapsed:  6.8min\n",
            "[Parallel(n_jobs=-1)]: Done 37468 tasks      | elapsed:  7.0min\n",
            "[Parallel(n_jobs=-1)]: Done 38260 tasks      | elapsed:  7.1min\n",
            "[Parallel(n_jobs=-1)]: Done 39052 tasks      | elapsed:  7.2min\n",
            "[Parallel(n_jobs=-1)]: Done 39860 tasks      | elapsed:  7.4min\n",
            "[Parallel(n_jobs=-1)]: Done 40668 tasks      | elapsed:  7.6min\n",
            "[Parallel(n_jobs=-1)]: Done 41492 tasks      | elapsed:  7.8min\n",
            "[Parallel(n_jobs=-1)]: Done 42316 tasks      | elapsed:  8.0min\n",
            "[Parallel(n_jobs=-1)]: Done 43156 tasks      | elapsed:  8.2min\n",
            "[Parallel(n_jobs=-1)]: Done 43996 tasks      | elapsed:  8.3min\n",
            "[Parallel(n_jobs=-1)]: Done 44852 tasks      | elapsed:  8.5min\n",
            "[Parallel(n_jobs=-1)]: Done 45708 tasks      | elapsed:  8.7min\n",
            "[Parallel(n_jobs=-1)]: Done 46580 tasks      | elapsed:  8.9min\n",
            "[Parallel(n_jobs=-1)]: Done 47452 tasks      | elapsed:  9.1min\n",
            "[Parallel(n_jobs=-1)]: Done 48340 tasks      | elapsed:  9.3min\n",
            "[Parallel(n_jobs=-1)]: Done 49228 tasks      | elapsed:  9.5min\n",
            "[Parallel(n_jobs=-1)]: Done 50132 tasks      | elapsed:  9.6min\n",
            "[Parallel(n_jobs=-1)]: Done 51036 tasks      | elapsed:  9.8min\n",
            "[Parallel(n_jobs=-1)]: Done 51956 tasks      | elapsed: 10.1min\n",
            "[Parallel(n_jobs=-1)]: Done 52500 out of 52500 | elapsed: 10.2min finished\n",
            "/usr/local/lib/python3.6/dist-packages/sklearn/tree/_classes.py:319: FutureWarning: The parameter 'presort' is deprecated and has no effect. It will be removed in v0.24. You can suppress this warning by not passing any value to the 'presort' parameter.\n",
            "  FutureWarning)\n"
          ],
          "name": "stderr"
        },
        {
          "output_type": "stream",
          "text": [
            "\n",
            "Parametros otimizados: {'criterion': 'gini', 'max_depth': 5, 'max_leaf_nodes': 15, 'min_samples_leaf': 40, 'min_samples_split': 2}\n",
            "\n",
            "DecisionTreeClassifier *********************************************************************************************************\n",
            "\n",
            "********* CROSS-VALIDATION ***********\n",
            "Média das Acurácias calculadas pelo CV....: 79.67999999999999\n",
            "std médio das Acurácias calculadas pelo CV: 1.52\n",
            "\n",
            "********* IMPORTÂNCIA DAS COLUNAS ***********\n",
            "                 coluna  importancia\n",
            "16          Contract_le     0.543419\n",
            "10    OnlineSecurity_le     0.147008\n",
            "2          TotalCharges     0.141521\n",
            "9    InternetService_le     0.067006\n",
            "0                tenure     0.051749\n",
            "1        MonthlyCharges     0.042135\n",
            "12  DeviceProtection_le     0.007162\n",
            "5            Partner_le     0.000000\n",
            "6         Dependents_le     0.000000\n",
            "7       PhoneService_le     0.000000\n",
            "8      MultipleLines_le     0.000000\n",
            "4      SeniorCitizen_le     0.000000\n",
            "11      OnlineBackup_le     0.000000\n",
            "13       TechSupport_le     0.000000\n",
            "14       StreamingTV_le     0.000000\n",
            "15   StreamingMovies_le     0.000000\n",
            "3             gender_le     0.000000\n",
            "17  PaperlessBilling_le     0.000000\n",
            "18     PaymentMethod_le     0.000000\n",
            "\n",
            "********* CONFUSION MATRIX - PARAMETER TUNNING ***********\n"
          ],
          "name": "stdout"
        },
        {
          "output_type": "display_data",
          "data": {
            "image/png": "[encoded data removed]",
            "text/plain": [
              "<Figure size 576x576 with 2 Axes>"
            ]
          },
          "metadata": {
            "tags": [],
            "needs_background": "light"
          }
        }
      ]
    },
    {
      "cell_type": "markdown",
      "metadata": {
        "id": "VCpExwUEd4G7"
      },
      "source": [
        "RANDOM FORESTER: X_treinamento_RF1, X_teste_RF1\n",
        "\n",
        "(eliminação das colunas menos importantes conforme resultado da DT+GridSearchCV)"
      ]
    },
    {
      "cell_type": "code",
      "metadata": {
        "id": "jT60QhopeqBE"
      },
      "source": [
        "#Importância das colunas conforme Decision Tree ==> rodar RF eliminando demais colunas\n",
        "#16          Contract_le     0.543419\n",
        "#10    OnlineSecurity_le     0.147008\n",
        "#2          TotalCharges     0.141521\n",
        "#9    InternetService_le     0.067006\n",
        "#0                tenure     0.051749\n",
        "#1        MonthlyCharges     0.042135\n",
        "#12  DeviceProtection_le     0.007162"
      ],
      "execution_count": 53,
      "outputs": []
    },
    {
      "cell_type": "code",
      "metadata": {
        "id": "3M9ExAgQ3QsM",
        "outputId": "a7884e38-7d9d-4b42-a069-c6d4a3ef39f8",
        "colab": {
          "base_uri": "https://localhost:8080/"
        }
      },
      "source": [
        "X_teste.columns"
      ],
      "execution_count": 38,
      "outputs": [
        {
          "output_type": "execute_result",
          "data": {
            "text/plain": [
              "Index(['tenure', 'MonthlyCharges', 'TotalCharges', 'gender_le',\n",
              "       'SeniorCitizen_le', 'Partner_le', 'Dependents_le', 'PhoneService_le',\n",
              "       'MultipleLines_le', 'InternetService_le', 'OnlineSecurity_le',\n",
              "       'OnlineBackup_le', 'DeviceProtection_le', 'TechSupport_le',\n",
              "       'StreamingTV_le', 'StreamingMovies_le', 'Contract_le',\n",
              "       'PaperlessBilling_le', 'PaymentMethod_le'],\n",
              "      dtype='object')"
            ]
          },
          "metadata": {
            "tags": []
          },
          "execution_count": 38
        }
      ]
    },
    {
      "cell_type": "code",
      "metadata": {
        "id": "G3FL8Trc3Vlm"
      },
      "source": [
        "X_treinamento_RF1 = X_treinamento.drop(['gender_le','SeniorCitizen_le', 'Partner_le', 'Dependents_le',\n",
        "                                    'PhoneService_le','MultipleLines_le','OnlineBackup_le','TechSupport_le',\n",
        "                                    'StreamingTV_le', 'StreamingMovies_le','PaperlessBilling_le', 'PaymentMethod_le'],\n",
        "                                   axis=1)"
      ],
      "execution_count": 18,
      "outputs": []
    },
    {
      "cell_type": "code",
      "metadata": {
        "id": "_eQQrdiGJH9I"
      },
      "source": [
        "X_teste_RF1 = X_teste.drop(['gender_le','SeniorCitizen_le', 'Partner_le', 'Dependents_le',\n",
        "                                    'PhoneService_le','MultipleLines_le','OnlineBackup_le','TechSupport_le',\n",
        "                                    'StreamingTV_le', 'StreamingMovies_le','PaperlessBilling_le', 'PaymentMethod_le'],\n",
        "                                   axis=1)"
      ],
      "execution_count": 19,
      "outputs": []
    },
    {
      "cell_type": "code",
      "metadata": {
        "id": "XmZfudjud095",
        "outputId": "cb959403-3926-4145-89ed-93c2c4d51f7a",
        "colab": {
          "base_uri": "https://localhost:8080/"
        }
      },
      "source": [
        "# RandomForestClassifier\n",
        "\n",
        "# Instancia...\n",
        "ml_RF= RandomForestClassifier(n_estimators=100, min_samples_split= 2, max_features=\"auto\", random_state = i_Seed)\n",
        "\n",
        "# Treina...\n",
        "ml_RF.fit(X_treinamento_RF1, y_treinamento)"
      ],
      "execution_count": 20,
      "outputs": [
        {
          "output_type": "execute_result",
          "data": {
            "text/plain": [
              "RandomForestClassifier(bootstrap=True, ccp_alpha=0.0, class_weight=None,\n",
              "                       criterion='gini', max_depth=None, max_features='auto',\n",
              "                       max_leaf_nodes=None, max_samples=None,\n",
              "                       min_impurity_decrease=0.0, min_impurity_split=None,\n",
              "                       min_samples_leaf=1, min_samples_split=2,\n",
              "                       min_weight_fraction_leaf=0.0, n_estimators=100,\n",
              "                       n_jobs=None, oob_score=False, random_state=20111974,\n",
              "                       verbose=0, warm_start=False)"
            ]
          },
          "metadata": {
            "tags": []
          },
          "execution_count": 20
        }
      ]
    },
    {
      "cell_type": "code",
      "metadata": {
        "id": "KYealO4_exlO",
        "outputId": "0d24fe01-8c4b-4319-b044-b8eb069293ba",
        "colab": {
          "base_uri": "https://localhost:8080/"
        }
      },
      "source": [
        "ml_RF"
      ],
      "execution_count": 21,
      "outputs": [
        {
          "output_type": "execute_result",
          "data": {
            "text/plain": [
              "RandomForestClassifier(bootstrap=True, ccp_alpha=0.0, class_weight=None,\n",
              "                       criterion='gini', max_depth=None, max_features='auto',\n",
              "                       max_leaf_nodes=None, max_samples=None,\n",
              "                       min_impurity_decrease=0.0, min_impurity_split=None,\n",
              "                       min_samples_leaf=1, min_samples_split=2,\n",
              "                       min_weight_fraction_leaf=0.0, n_estimators=100,\n",
              "                       n_jobs=None, oob_score=False, random_state=20111974,\n",
              "                       verbose=0, warm_start=False)"
            ]
          },
          "metadata": {
            "tags": []
          },
          "execution_count": 21
        }
      ]
    },
    {
      "cell_type": "code",
      "metadata": {
        "id": "fdB5kp6rezy8",
        "outputId": "1b6fd423-b069-407a-86f3-fd06e7000af0",
        "colab": {
          "base_uri": "https://localhost:8080/"
        }
      },
      "source": [
        "# Chama a função do Cross-Validation:\n",
        "\n",
        "a_scores_CV = funcao_cross_val_score(ml_RF, X_treinamento_RF1, y_treinamento, i_CV)"
      ],
      "execution_count": 22,
      "outputs": [
        {
          "output_type": "stream",
          "text": [
            "Média das Acurácias calculadas pelo CV....: 78.17\n",
            "std médio das Acurácias calculadas pelo CV: 1.76\n"
          ],
          "name": "stdout"
        }
      ]
    },
    {
      "cell_type": "code",
      "metadata": {
        "id": "I91zRYu6e8gb",
        "outputId": "62a8d62c-9bd1-48d1-d729-c02522e78aa4",
        "colab": {
          "base_uri": "https://localhost:8080/"
        }
      },
      "source": [
        "print(f'Acurácias: {a_scores_CV}')"
      ],
      "execution_count": 23,
      "outputs": [
        {
          "output_type": "stream",
          "text": [
            "Acurácias: [0.78014184 0.79432624 0.77304965 0.7429078  0.77442274 0.79573712\n",
            " 0.77619893 0.77264654 0.80639432 0.80106572]\n"
          ],
          "name": "stdout"
        }
      ]
    },
    {
      "cell_type": "code",
      "metadata": {
        "id": "x-zgcCxjgPwc"
      },
      "source": [
        "# Faz predições...\n",
        "y_pred = ml_RF.predict(X_teste_RF1)"
      ],
      "execution_count": 25,
      "outputs": []
    },
    {
      "cell_type": "code",
      "metadata": {
        "id": "c3WKD635gXh1",
        "outputId": "e1e9d686-82f7-4a91-9e70-14ff7ece9124",
        "colab": {
          "base_uri": "https://localhost:8080/",
          "height": 538
        }
      },
      "source": [
        "# Confusion Matrix\n",
        "# chama a função confusion matrix:\n",
        "\n",
        "cf_matrix = confusion_matrix(y_teste, y_pred)\n",
        "cf_labels = ['True_Negative','False_Positive','False_Negative','True_Positive']\n",
        "cf_categories = ['Zero', 'One']\n",
        "mostra_confusion_matrix(cf_matrix, group_names= cf_labels, categories= cf_categories)"
      ],
      "execution_count": 26,
      "outputs": [
        {
          "output_type": "display_data",
          "data": {
            "image/png": "[encoded data removed]",
            "text/plain": [
              "<Figure size 576x576 with 2 Axes>"
            ]
          },
          "metadata": {
            "tags": [],
            "needs_background": "light"
          }
        }
      ]
    },
    {
      "cell_type": "code",
      "metadata": {
        "id": "ktLaz0k1inS2"
      },
      "source": [
        "# Dicionário de parâmetros para o parameter tunning.\n",
        "d_hiperparametros_RF= {'bootstrap': [True, False],\n",
        "                  'max_depth': [10,None], #[10, 20, 30, 40, 50, 60, 70, 80, 90, 100, None],\n",
        "                  'max_features': ['auto', 'sqrt'],\n",
        "                  'min_samples_leaf': [1, 2, 4],\n",
        "                  'min_samples_split': [2,5],#[2, 5, 10],\n",
        "                  'n_estimators': [200]} #[200, 400, 600, 800, 1000, 1200, 1400, 1600, 1800, 2000]}"
      ],
      "execution_count": 33,
      "outputs": []
    },
    {
      "cell_type": "code",
      "metadata": {
        "id": "csDfhf95n9_o",
        "outputId": "1e5384de-b89a-426f-9c4f-ceeba310a7fc",
        "colab": {
          "base_uri": "https://localhost:8080/"
        }
      },
      "source": [
        "l_colunas = X_treinamento_RF1.columns\n",
        "l_colunas"
      ],
      "execution_count": 30,
      "outputs": [
        {
          "output_type": "execute_result",
          "data": {
            "text/plain": [
              "Index(['tenure', 'MonthlyCharges', 'TotalCharges', 'InternetService_le',\n",
              "       'OnlineSecurity_le', 'DeviceProtection_le', 'Contract_le'],\n",
              "      dtype='object')"
            ]
          },
          "metadata": {
            "tags": []
          },
          "execution_count": 30
        }
      ]
    },
    {
      "cell_type": "code",
      "metadata": {
        "id": "du6RhlwYkoou",
        "outputId": "3ff3e6a9-dbd8-4894-ad66-4e445a702f70",
        "colab": {
          "base_uri": "https://localhost:8080/",
          "height": 1000
        }
      },
      "source": [
        "# Invoca a função do GridSearch\n",
        "\n",
        "ml_RF2, best_params = GridSearchOptimizer(ml_RF, 'ml_RF2', d_hiperparametros_RF, X_treinamento_RF1, y_treinamento, X_teste_RF1, y_teste, i_CV, l_colunas)"
      ],
      "execution_count": 35,
      "outputs": [
        {
          "output_type": "stream",
          "text": [
            "Fitting 10 folds for each of 48 candidates, totalling 480 fits\n"
          ],
          "name": "stdout"
        },
        {
          "output_type": "stream",
          "text": [
            "[Parallel(n_jobs=-1)]: Using backend LokyBackend with 2 concurrent workers.\n",
            "[Parallel(n_jobs=-1)]: Done   1 tasks      | elapsed:    1.5s\n",
            "[Parallel(n_jobs=-1)]: Done   4 tasks      | elapsed:    3.0s\n",
            "[Parallel(n_jobs=-1)]: Done   9 tasks      | elapsed:    7.4s\n",
            "[Parallel(n_jobs=-1)]: Done  14 tasks      | elapsed:   11.0s\n",
            "[Parallel(n_jobs=-1)]: Done  21 tasks      | elapsed:   20.9s\n",
            "[Parallel(n_jobs=-1)]: Done  28 tasks      | elapsed:   25.4s\n",
            "[Parallel(n_jobs=-1)]: Done  37 tasks      | elapsed:   32.5s\n",
            "[Parallel(n_jobs=-1)]: Done  46 tasks      | elapsed:   38.3s\n",
            "[Parallel(n_jobs=-1)]: Done  57 tasks      | elapsed:   46.7s\n",
            "[Parallel(n_jobs=-1)]: Done  68 tasks      | elapsed:   54.1s\n",
            "[Parallel(n_jobs=-1)]: Done  81 tasks      | elapsed:  1.1min\n",
            "[Parallel(n_jobs=-1)]: Done  94 tasks      | elapsed:  1.2min\n",
            "[Parallel(n_jobs=-1)]: Done 109 tasks      | elapsed:  1.4min\n",
            "[Parallel(n_jobs=-1)]: Done 124 tasks      | elapsed:  1.6min\n",
            "[Parallel(n_jobs=-1)]: Done 141 tasks      | elapsed:  1.8min\n",
            "[Parallel(n_jobs=-1)]: Done 158 tasks      | elapsed:  2.1min\n",
            "[Parallel(n_jobs=-1)]: Done 177 tasks      | elapsed:  2.3min\n",
            "[Parallel(n_jobs=-1)]: Done 196 tasks      | elapsed:  2.6min\n",
            "[Parallel(n_jobs=-1)]: Done 217 tasks      | elapsed:  2.9min\n",
            "[Parallel(n_jobs=-1)]: Done 238 tasks      | elapsed:  3.1min\n",
            "[Parallel(n_jobs=-1)]: Done 261 tasks      | elapsed:  3.5min\n",
            "[Parallel(n_jobs=-1)]: Done 284 tasks      | elapsed:  3.8min\n",
            "[Parallel(n_jobs=-1)]: Done 309 tasks      | elapsed:  4.2min\n",
            "[Parallel(n_jobs=-1)]: Done 334 tasks      | elapsed:  4.5min\n",
            "[Parallel(n_jobs=-1)]: Done 361 tasks      | elapsed:  5.0min\n",
            "[Parallel(n_jobs=-1)]: Done 388 tasks      | elapsed:  5.4min\n",
            "[Parallel(n_jobs=-1)]: Done 417 tasks      | elapsed:  6.0min\n",
            "[Parallel(n_jobs=-1)]: Done 446 tasks      | elapsed:  6.5min\n",
            "[Parallel(n_jobs=-1)]: Done 477 tasks      | elapsed:  7.0min\n",
            "[Parallel(n_jobs=-1)]: Done 480 out of 480 | elapsed:  7.1min finished\n"
          ],
          "name": "stderr"
        },
        {
          "output_type": "stream",
          "text": [
            "\n",
            "Parametros otimizados: {'bootstrap': True, 'max_depth': 10, 'max_features': 'auto', 'min_samples_leaf': 4, 'min_samples_split': 2, 'n_estimators': 200}\n",
            "\n",
            "RandomForestClassifier *********************************************************************************************************\n",
            "\n",
            "********* CROSS-VALIDATION ***********\n",
            "Média das Acurácias calculadas pelo CV....: 79.84\n",
            "std médio das Acurácias calculadas pelo CV: 1.46\n",
            "\n",
            "********* IMPORTÂNCIA DAS COLUNAS ***********\n",
            "                coluna  importancia\n",
            "1       MonthlyCharges     0.201219\n",
            "6          Contract_le     0.199572\n",
            "2         TotalCharges     0.199463\n",
            "0               tenure     0.180922\n",
            "4    OnlineSecurity_le     0.108312\n",
            "3   InternetService_le     0.068692\n",
            "5  DeviceProtection_le     0.041820\n",
            "\n",
            "********* CONFUSION MATRIX - PARAMETER TUNNING ***********\n"
          ],
          "name": "stdout"
        },
        {
          "output_type": "display_data",
          "data": {
            "image/png": "[encoded data removed]",
            "text/plain": [
              "<Figure size 576x576 with 2 Axes>"
            ]
          },
          "metadata": {
            "tags": [],
            "needs_background": "light"
          }
        }
      ]
    },
    {
      "cell_type": "markdown",
      "metadata": {
        "id": "4AuycftiX1Yv"
      },
      "source": [
        "## MODELO 2: RANDOM FOREST, CV e GridSearchRF (X_treinamento, X_teste)"
      ]
    },
    {
      "cell_type": "code",
      "metadata": {
        "id": "1lp_dDyAjgNn",
        "outputId": "617454bd-30b2-424b-a36f-b3ef09814b42",
        "colab": {
          "base_uri": "https://localhost:8080/",
          "height": 1000
        }
      },
      "source": [
        "# RandomForestClassifier\n",
        "\n",
        "# Instancia...\n",
        "ml_RF= RandomForestClassifier(n_estimators=200, min_samples_split= 2, max_features=\"auto\",random_state = i_Seed)\n",
        "\n",
        "# Treina...\n",
        "ml_RF.fit(X_treinamento, y_treinamento)\n",
        "\n",
        "a_scores_CV = funcao_cross_val_score(ml_RF, X_treinamento, y_treinamento, i_CV)\n",
        "\n",
        "# Faz predições...\n",
        "y_pred = ml_RF.predict(X_teste)\n",
        "\n",
        "# Dicionário de parâmetros para o parameter tunning.\n",
        "d_hiperparametros_RF= {'bootstrap': [True, False],\n",
        "                  'max_depth': [10,None],#[10, 20, 30, 40, 50, 60, 70, 80, 90, 100, None],\n",
        "                  'max_features': ['auto', 'sqrt'],\n",
        "                  'min_samples_leaf': [1, 2, 4],\n",
        "                  'min_samples_split': [2,5], #[2, 5, 10],\n",
        "                  'n_estimators': [200,400]}#[200, 400, 600, 800, 1000, 1200, 1400, 1600, 1800, 2000]}\n",
        "\n",
        "ml_RF2, best_params = GridSearchOptimizer(ml_RF, 'ml_RF2', d_hiperparametros_RF, X_treinamento, y_treinamento, X_teste, y_teste, i_CV, l_colunas)"
      ],
      "execution_count": 37,
      "outputs": [
        {
          "output_type": "stream",
          "text": [
            "Média das Acurácias calculadas pelo CV....: 79.86\n",
            "std médio das Acurácias calculadas pelo CV: 1.97\n",
            "Fitting 10 folds for each of 96 candidates, totalling 960 fits\n"
          ],
          "name": "stdout"
        },
        {
          "output_type": "stream",
          "text": [
            "[Parallel(n_jobs=-1)]: Using backend LokyBackend with 2 concurrent workers.\n",
            "[Parallel(n_jobs=-1)]: Done   1 tasks      | elapsed:    2.8s\n",
            "[Parallel(n_jobs=-1)]: Done   4 tasks      | elapsed:    4.4s\n",
            "[Parallel(n_jobs=-1)]: Done   9 tasks      | elapsed:    9.2s\n",
            "[Parallel(n_jobs=-1)]: Done  14 tasks      | elapsed:   15.6s\n",
            "[Parallel(n_jobs=-1)]: Done  21 tasks      | elapsed:   26.7s\n",
            "[Parallel(n_jobs=-1)]: Done  28 tasks      | elapsed:   31.4s\n",
            "[Parallel(n_jobs=-1)]: Done  37 tasks      | elapsed:   45.5s\n",
            "[Parallel(n_jobs=-1)]: Done  46 tasks      | elapsed:   53.4s\n",
            "[Parallel(n_jobs=-1)]: Done  57 tasks      | elapsed:  1.1min\n",
            "[Parallel(n_jobs=-1)]: Done  68 tasks      | elapsed:  1.3min\n",
            "[Parallel(n_jobs=-1)]: Done  81 tasks      | elapsed:  1.6min\n",
            "[Parallel(n_jobs=-1)]: Done  94 tasks      | elapsed:  1.8min\n",
            "[Parallel(n_jobs=-1)]: Done 109 tasks      | elapsed:  2.1min\n",
            "[Parallel(n_jobs=-1)]: Done 124 tasks      | elapsed:  2.4min\n",
            "[Parallel(n_jobs=-1)]: Done 141 tasks      | elapsed:  2.8min\n",
            "[Parallel(n_jobs=-1)]: Done 158 tasks      | elapsed:  3.1min\n",
            "[Parallel(n_jobs=-1)]: Done 177 tasks      | elapsed:  3.5min\n",
            "[Parallel(n_jobs=-1)]: Done 196 tasks      | elapsed:  3.8min\n",
            "[Parallel(n_jobs=-1)]: Done 217 tasks      | elapsed:  4.3min\n",
            "[Parallel(n_jobs=-1)]: Done 238 tasks      | elapsed:  4.6min\n",
            "[Parallel(n_jobs=-1)]: Done 261 tasks      | elapsed:  5.2min\n",
            "[Parallel(n_jobs=-1)]: Done 284 tasks      | elapsed:  5.7min\n",
            "[Parallel(n_jobs=-1)]: Done 309 tasks      | elapsed:  6.2min\n",
            "[Parallel(n_jobs=-1)]: Done 334 tasks      | elapsed:  6.7min\n",
            "[Parallel(n_jobs=-1)]: Done 361 tasks      | elapsed:  7.3min\n",
            "[Parallel(n_jobs=-1)]: Done 388 tasks      | elapsed:  7.9min\n",
            "[Parallel(n_jobs=-1)]: Done 417 tasks      | elapsed:  8.6min\n",
            "[Parallel(n_jobs=-1)]: Done 446 tasks      | elapsed:  9.2min\n",
            "[Parallel(n_jobs=-1)]: Done 477 tasks      | elapsed:  9.9min\n",
            "[Parallel(n_jobs=-1)]: Done 508 tasks      | elapsed: 10.5min\n",
            "[Parallel(n_jobs=-1)]: Done 541 tasks      | elapsed: 11.4min\n",
            "[Parallel(n_jobs=-1)]: Done 574 tasks      | elapsed: 12.1min\n",
            "[Parallel(n_jobs=-1)]: Done 609 tasks      | elapsed: 13.0min\n",
            "[Parallel(n_jobs=-1)]: Done 644 tasks      | elapsed: 13.8min\n",
            "[Parallel(n_jobs=-1)]: Done 681 tasks      | elapsed: 14.8min\n",
            "[Parallel(n_jobs=-1)]: Done 718 tasks      | elapsed: 15.6min\n",
            "[Parallel(n_jobs=-1)]: Done 757 tasks      | elapsed: 16.8min\n",
            "[Parallel(n_jobs=-1)]: Done 796 tasks      | elapsed: 17.9min\n",
            "[Parallel(n_jobs=-1)]: Done 837 tasks      | elapsed: 19.1min\n",
            "[Parallel(n_jobs=-1)]: Done 878 tasks      | elapsed: 20.3min\n",
            "[Parallel(n_jobs=-1)]: Done 921 tasks      | elapsed: 21.5min\n",
            "[Parallel(n_jobs=-1)]: Done 960 out of 960 | elapsed: 22.6min finished\n"
          ],
          "name": "stderr"
        },
        {
          "output_type": "stream",
          "text": [
            "\n",
            "Parametros otimizados: {'bootstrap': True, 'max_depth': None, 'max_features': 'auto', 'min_samples_leaf': 4, 'min_samples_split': 2, 'n_estimators': 200}\n",
            "\n",
            "RandomForestClassifier *********************************************************************************************************\n",
            "\n",
            "********* CROSS-VALIDATION ***********\n",
            "Média das Acurácias calculadas pelo CV....: 80.58\n",
            "std médio das Acurácias calculadas pelo CV: 1.6099999999999999\n",
            "\n",
            "********* IMPORTÂNCIA DAS COLUNAS ***********\n",
            "                coluna  importancia\n",
            "2         TotalCharges     0.160752\n",
            "0               tenure     0.148190\n",
            "1       MonthlyCharges     0.144845\n",
            "3   InternetService_le     0.018275\n",
            "5  DeviceProtection_le     0.015132\n",
            "4    OnlineSecurity_le     0.014542\n",
            "6          Contract_le     0.011453\n",
            "\n",
            "********* CONFUSION MATRIX - PARAMETER TUNNING ***********\n"
          ],
          "name": "stdout"
        },
        {
          "output_type": "display_data",
          "data": {
            "image/png": "[encoded data removed]",
            "text/plain": [
              "<Figure size 576x576 with 2 Axes>"
            ]
          },
          "metadata": {
            "tags": [],
            "needs_background": "light"
          }
        }
      ]
    }
  ]
}