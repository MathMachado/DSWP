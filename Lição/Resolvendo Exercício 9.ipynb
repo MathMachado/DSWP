{
  "nbformat": 4,
  "nbformat_minor": 0,
  "metadata": {
    "colab": {
      "name": "Cópia de Untitled2.ipynb",
      "provenance": [],
      "authorship_tag": "ABX9TyOorsP1ANYV6hcoM0uZ5sxh",
      "include_colab_link": true
    },
    "kernelspec": {
      "name": "python3",
      "display_name": "Python 3"
    }
  },
  "cells": [
    {
      "cell_type": "markdown",
      "metadata": {
        "id": "view-in-github",
        "colab_type": "text"
      },
      "source": [
        "<a href=\"https://colab.research.google.com/github/cryssoga/DSWP/blob/master/Li%C3%A7%C3%A3o/Resolvendo%20Exerc%C3%ADcio%209.ipynb\" target=\"_parent\"><img src=\"https://colab.research.google.com/assets/colab-badge.svg\" alt=\"Open In Colab\"/></a>"
      ]
    },
    {
      "cell_type": "code",
      "metadata": {
        "id": "frR1Pv_nc0vB"
      },
      "source": [
        "import pandas as pd\n",
        "import numpy as np\n",
        "import matplotlib.pyplot as plt\n",
        "%matplotlib inline\n",
        "\n",
        "url = 'https://raw.githubusercontent.com/cryssoga/DSWP/master/Dataframes/FIFA.csv'\n",
        "df_Fifa = pd.read_csv(url)\n",
        "\n",
        "df_Fifa.set_index('ID', inplace=True)\n",
        "\n",
        "nome_colunas = df_Fifa.columns\n",
        "df_Fifa.columns = [col.lower() for col in nome_colunas]"
      ],
      "execution_count": null,
      "outputs": []
    },
    {
      "cell_type": "code",
      "metadata": {
        "id": "IkkNGanucMEp"
      },
      "source": [
        "import pandas as pd\n",
        "import numpy as np\n",
        "import matplotlib.pyplot as plt\n",
        "%matplotlib inline"
      ],
      "execution_count": null,
      "outputs": []
    },
    {
      "cell_type": "code",
      "metadata": {
        "id": "fOSIqp26Zdtd"
      },
      "source": [
        "# Exercício 9\n",
        "# 1. Carregue o arquivo FIFA.csv (está na área de Dataframes do curso)\n",
        "url = 'https://raw.githubusercontent.com/cryssoga/DSWP/master/Dataframes/FIFA.csv'\n",
        "df_Fifa = pd.read_csv(url)"
      ],
      "execution_count": null,
      "outputs": []
    },
    {
      "cell_type": "code",
      "metadata": {
        "id": "eKa3HO-yaCFY"
      },
      "source": [
        "df_Fifa.set_index('ID', inplace=True)"
      ],
      "execution_count": null,
      "outputs": []
    },
    {
      "cell_type": "code",
      "metadata": {
        "id": "di0S3-1GbJ1m",
        "outputId": "d11e68cc-de22-4f20-e292-0f26df505673",
        "colab": {
          "base_uri": "https://localhost:8080/",
          "height": 289
        }
      },
      "source": [
        "# Convertendo o nome das colunas para minúsculo (Resolução do item 5.a) do Jeito do Nélio):\n",
        "nome_colunas = df_Fifa.columns\n",
        "df_Fifa.columns = [col.lower() for col in nome_colunas]\n",
        "df_Fifa.columns"
      ],
      "execution_count": null,
      "outputs": [
        {
          "output_type": "execute_result",
          "data": {
            "text/plain": [
              "Index(['unnamed: 0', 'name', 'age', 'photo', 'nationality', 'flag', 'overall',\n",
              "       'potential', 'club', 'club logo', 'value', 'wage', 'special',\n",
              "       'preferred foot', 'international reputation', 'weak foot',\n",
              "       'skill moves', 'work rate', 'body type', 'real face', 'position',\n",
              "       'jersey number', 'joined', 'loaned from', 'contract valid until',\n",
              "       'height', 'weight', 'ls', 'st', 'rs', 'lw', 'lf', 'cf', 'rf', 'rw',\n",
              "       'lam', 'cam', 'ram', 'lm', 'lcm', 'cm', 'rcm', 'rm', 'lwb', 'ldm',\n",
              "       'cdm', 'rdm', 'rwb', 'lb', 'lcb', 'cb', 'rcb', 'rb', 'crossing',\n",
              "       'finishing', 'headingaccuracy', 'shortpassing', 'volleys', 'dribbling',\n",
              "       'curve', 'fkaccuracy', 'longpassing', 'ballcontrol', 'acceleration',\n",
              "       'sprintspeed', 'agility', 'reactions', 'balance', 'shotpower',\n",
              "       'jumping', 'stamina', 'strength', 'longshots', 'aggression',\n",
              "       'interceptions', 'positioning', 'vision', 'penalties', 'composure',\n",
              "       'marking', 'standingtackle', 'slidingtackle', 'gkdiving', 'gkhandling',\n",
              "       'gkkicking', 'gkpositioning', 'gkreflexes', 'release clause'],\n",
              "      dtype='object')"
            ]
          },
          "metadata": {
            "tags": []
          },
          "execution_count": 4
        }
      ]
    },
    {
      "cell_type": "code",
      "metadata": {
        "id": "m8X611bnbmvI"
      },
      "source": [
        "df_Fifa.head()"
      ],
      "execution_count": null,
      "outputs": []
    },
    {
      "cell_type": "code",
      "metadata": {
        "id": "aKZk4QoJGbwm"
      },
      "source": [
        "# Exercício 9\n",
        "# 2. Que colunas podem previamente ser eliminadas da análise? Porque identificar o que pode ser eliminado é importante?\n",
        "# Colunas que eu eliminaria inicialmente são aquelas com foto ('Photo'), bandeira do país ('Flag'), logo do clube ('Club Logo'),\n",
        "# por não serem relevantes para análise de dados.\n",
        "# Pensei em eliminar outros aí abaixo relacionados, mas vi depois que o exercício pede informações sobre potência e etc\n",
        "''' \n",
        "df_Fifa = df_Fifa.drop(['Unnamed: 0','Photo','Flag','Overall', 'Potential','Club Logo',\n",
        "        'Special', 'Preferred Foot', 'International Reputation', 'Weak Foot',\n",
        "        'Skill Moves', 'Work Rate', 'Real Face','Jersey Number','Loaned From',\n",
        "        'LS', 'ST', 'RS', 'LW', 'LF', 'CF', 'RF', 'RW',\n",
        "       'LAM', 'CAM', 'RAM', 'LM', 'LCM', 'CM', 'RCM', 'RM', 'LWB', 'LDM',\n",
        "       'CDM', 'RDM', 'RWB', 'LB', 'LCB', 'CB', 'RCB', 'RB', 'Crossing',\n",
        "       'Finishing', 'HeadingAccuracy', 'ShortPassing', 'Volleys', 'Dribbling',\n",
        "       'Curve', 'FKAccuracy', 'LongPassing', 'BallControl', 'Acceleration',\n",
        "       'SprintSpeed', 'Agility', 'Reactions', 'Balance', 'ShotPower',\n",
        "       'Jumping', 'Stamina', 'Strength', 'LongShots', 'Aggression',\n",
        "       'Interceptions', 'Positioning', 'Vision', 'Penalties', 'Composure',\n",
        "       'Marking', 'StandingTackle', 'SlidingTackle', 'GKDiving', 'GKHandling',\n",
        "       'GKKicking', 'GKPositioning', 'GKReflexes'], axis = 1)\n",
        "'''\n",
        "###"
      ],
      "execution_count": null,
      "outputs": []
    },
    {
      "cell_type": "code",
      "metadata": {
        "id": "lag6SeTTjz-B"
      },
      "source": [
        "# Exercício 9\n",
        "# 3. Qual o dtype de cada variável/atributo do dataframe?\n",
        "# minha observação: dtypes e info() => diferenças\n",
        "\n",
        "df_Fifa.dtypes   # df_Fifa.info => aparecem as informações de todas as colunas sem truncar, vide execução adiante"
      ],
      "execution_count": null,
      "outputs": []
    },
    {
      "cell_type": "code",
      "metadata": {
        "id": "lMHYe3RQkSpl"
      },
      "source": [
        "df_Fifa.columns"
      ],
      "execution_count": null,
      "outputs": []
    },
    {
      "cell_type": "code",
      "metadata": {
        "id": "aHzQC1r4kPXG"
      },
      "source": [
        "df_Fifa.shape"
      ],
      "execution_count": null,
      "outputs": []
    },
    {
      "cell_type": "code",
      "metadata": {
        "id": "FQ5Bai-lbxvk"
      },
      "source": [
        "df_Fifa.info()"
      ],
      "execution_count": null,
      "outputs": []
    },
    {
      "cell_type": "code",
      "metadata": {
        "id": "VAyA3nqx4FJf"
      },
      "source": [
        "pd.options.display.max_info_columns     # mostra qtde máxima de colunas que podem ser exibidas"
      ],
      "execution_count": null,
      "outputs": []
    },
    {
      "cell_type": "code",
      "metadata": {
        "id": "gh1Xyne69xJT"
      },
      "source": [
        "# Exercício 9\n",
        "# 4. Se alguma variável/atributo é do tipo string (object) e supostamente deveria ser numérica, como alteramos o tipo?"
      ],
      "execution_count": null,
      "outputs": []
    },
    {
      "cell_type": "code",
      "metadata": {
        "id": "o2Og-eat_YU2",
        "outputId": "92f21149-2d56-4206-b4a2-8e6032ab876a",
        "colab": {
          "base_uri": "https://localhost:8080/",
          "height": 561
        }
      },
      "source": [
        "# Colunas 'value' e 'wage' são object e apresentam primeiro caracter '€' e último caracter 'M' (million) e 'K' (thousand)\n",
        "\n",
        "# Inicialmente eliminando notação:\n",
        "\n",
        "def elimina_notacao(moeda):\n",
        "    moeda = moeda.replace('€','').replace('M','000000').replace('K','000')\n",
        "    return moeda\n",
        "\n",
        "df_Fifa['value'] = df_Fifa['value'].apply(elimina_notacao)\n",
        "df_Fifa['wage'] = df_Fifa['wage'].apply(elimina_notacao)\n",
        "\n",
        "# Alterando string para numeric:\n",
        "\n",
        "df_Fifa['value'] = pd.to_numeric(df_Fifa['value'])\n",
        "df_Fifa['wage'] = pd.to_numeric(df_Fifa['wage'])"
      ],
      "execution_count": null,
      "outputs": [
        {
          "output_type": "error",
          "ename": "KeyError",
          "evalue": "ignored",
          "traceback": [
            "\u001b[0;31m---------------------------------------------------------------------------\u001b[0m",
            "\u001b[0;31mKeyError\u001b[0m                                  Traceback (most recent call last)",
            "\u001b[0;32m/usr/local/lib/python3.6/dist-packages/pandas/core/indexes/base.py\u001b[0m in \u001b[0;36mget_loc\u001b[0;34m(self, key, method, tolerance)\u001b[0m\n\u001b[1;32m   2890\u001b[0m             \u001b[0;32mtry\u001b[0m\u001b[0;34m:\u001b[0m\u001b[0;34m\u001b[0m\u001b[0;34m\u001b[0m\u001b[0m\n\u001b[0;32m-> 2891\u001b[0;31m                 \u001b[0;32mreturn\u001b[0m \u001b[0mself\u001b[0m\u001b[0;34m.\u001b[0m\u001b[0m_engine\u001b[0m\u001b[0;34m.\u001b[0m\u001b[0mget_loc\u001b[0m\u001b[0;34m(\u001b[0m\u001b[0mcasted_key\u001b[0m\u001b[0;34m)\u001b[0m\u001b[0;34m\u001b[0m\u001b[0;34m\u001b[0m\u001b[0m\n\u001b[0m\u001b[1;32m   2892\u001b[0m             \u001b[0;32mexcept\u001b[0m \u001b[0mKeyError\u001b[0m \u001b[0;32mas\u001b[0m \u001b[0merr\u001b[0m\u001b[0;34m:\u001b[0m\u001b[0;34m\u001b[0m\u001b[0;34m\u001b[0m\u001b[0m\n",
            "\u001b[0;32mpandas/_libs/index.pyx\u001b[0m in \u001b[0;36mpandas._libs.index.IndexEngine.get_loc\u001b[0;34m()\u001b[0m\n",
            "\u001b[0;32mpandas/_libs/index.pyx\u001b[0m in \u001b[0;36mpandas._libs.index.IndexEngine.get_loc\u001b[0;34m()\u001b[0m\n",
            "\u001b[0;32mpandas/_libs/hashtable_class_helper.pxi\u001b[0m in \u001b[0;36mpandas._libs.hashtable.PyObjectHashTable.get_item\u001b[0;34m()\u001b[0m\n",
            "\u001b[0;32mpandas/_libs/hashtable_class_helper.pxi\u001b[0m in \u001b[0;36mpandas._libs.hashtable.PyObjectHashTable.get_item\u001b[0;34m()\u001b[0m\n",
            "\u001b[0;31mKeyError\u001b[0m: 'value'",
            "\nThe above exception was the direct cause of the following exception:\n",
            "\u001b[0;31mKeyError\u001b[0m                                  Traceback (most recent call last)",
            "\u001b[0;32m<ipython-input-251-8dc02a0298db>\u001b[0m in \u001b[0;36m<module>\u001b[0;34m()\u001b[0m\n\u001b[1;32m      7\u001b[0m     \u001b[0;32mreturn\u001b[0m \u001b[0mmoeda\u001b[0m\u001b[0;34m\u001b[0m\u001b[0;34m\u001b[0m\u001b[0m\n\u001b[1;32m      8\u001b[0m \u001b[0;34m\u001b[0m\u001b[0m\n\u001b[0;32m----> 9\u001b[0;31m \u001b[0mdf_Fifa\u001b[0m\u001b[0;34m[\u001b[0m\u001b[0;34m'value'\u001b[0m\u001b[0;34m]\u001b[0m \u001b[0;34m=\u001b[0m \u001b[0mdf_Fifa\u001b[0m\u001b[0;34m[\u001b[0m\u001b[0;34m'value'\u001b[0m\u001b[0;34m]\u001b[0m\u001b[0;34m.\u001b[0m\u001b[0mapply\u001b[0m\u001b[0;34m(\u001b[0m\u001b[0melimina_notacao\u001b[0m\u001b[0;34m)\u001b[0m\u001b[0;34m\u001b[0m\u001b[0;34m\u001b[0m\u001b[0m\n\u001b[0m\u001b[1;32m     10\u001b[0m \u001b[0mdf_Fifa\u001b[0m\u001b[0;34m[\u001b[0m\u001b[0;34m'wage'\u001b[0m\u001b[0;34m]\u001b[0m \u001b[0;34m=\u001b[0m \u001b[0mdf_Fifa\u001b[0m\u001b[0;34m[\u001b[0m\u001b[0;34m'wage'\u001b[0m\u001b[0;34m]\u001b[0m\u001b[0;34m.\u001b[0m\u001b[0mapply\u001b[0m\u001b[0;34m(\u001b[0m\u001b[0melimina_notacao\u001b[0m\u001b[0;34m)\u001b[0m\u001b[0;34m\u001b[0m\u001b[0;34m\u001b[0m\u001b[0m\n\u001b[1;32m     11\u001b[0m \u001b[0;34m\u001b[0m\u001b[0m\n",
            "\u001b[0;32m/usr/local/lib/python3.6/dist-packages/pandas/core/frame.py\u001b[0m in \u001b[0;36m__getitem__\u001b[0;34m(self, key)\u001b[0m\n\u001b[1;32m   2900\u001b[0m             \u001b[0;32mif\u001b[0m \u001b[0mself\u001b[0m\u001b[0;34m.\u001b[0m\u001b[0mcolumns\u001b[0m\u001b[0;34m.\u001b[0m\u001b[0mnlevels\u001b[0m \u001b[0;34m>\u001b[0m \u001b[0;36m1\u001b[0m\u001b[0;34m:\u001b[0m\u001b[0;34m\u001b[0m\u001b[0;34m\u001b[0m\u001b[0m\n\u001b[1;32m   2901\u001b[0m                 \u001b[0;32mreturn\u001b[0m \u001b[0mself\u001b[0m\u001b[0;34m.\u001b[0m\u001b[0m_getitem_multilevel\u001b[0m\u001b[0;34m(\u001b[0m\u001b[0mkey\u001b[0m\u001b[0;34m)\u001b[0m\u001b[0;34m\u001b[0m\u001b[0;34m\u001b[0m\u001b[0m\n\u001b[0;32m-> 2902\u001b[0;31m             \u001b[0mindexer\u001b[0m \u001b[0;34m=\u001b[0m \u001b[0mself\u001b[0m\u001b[0;34m.\u001b[0m\u001b[0mcolumns\u001b[0m\u001b[0;34m.\u001b[0m\u001b[0mget_loc\u001b[0m\u001b[0;34m(\u001b[0m\u001b[0mkey\u001b[0m\u001b[0;34m)\u001b[0m\u001b[0;34m\u001b[0m\u001b[0;34m\u001b[0m\u001b[0m\n\u001b[0m\u001b[1;32m   2903\u001b[0m             \u001b[0;32mif\u001b[0m \u001b[0mis_integer\u001b[0m\u001b[0;34m(\u001b[0m\u001b[0mindexer\u001b[0m\u001b[0;34m)\u001b[0m\u001b[0;34m:\u001b[0m\u001b[0;34m\u001b[0m\u001b[0;34m\u001b[0m\u001b[0m\n\u001b[1;32m   2904\u001b[0m                 \u001b[0mindexer\u001b[0m \u001b[0;34m=\u001b[0m \u001b[0;34m[\u001b[0m\u001b[0mindexer\u001b[0m\u001b[0;34m]\u001b[0m\u001b[0;34m\u001b[0m\u001b[0;34m\u001b[0m\u001b[0m\n",
            "\u001b[0;32m/usr/local/lib/python3.6/dist-packages/pandas/core/indexes/base.py\u001b[0m in \u001b[0;36mget_loc\u001b[0;34m(self, key, method, tolerance)\u001b[0m\n\u001b[1;32m   2891\u001b[0m                 \u001b[0;32mreturn\u001b[0m \u001b[0mself\u001b[0m\u001b[0;34m.\u001b[0m\u001b[0m_engine\u001b[0m\u001b[0;34m.\u001b[0m\u001b[0mget_loc\u001b[0m\u001b[0;34m(\u001b[0m\u001b[0mcasted_key\u001b[0m\u001b[0;34m)\u001b[0m\u001b[0;34m\u001b[0m\u001b[0;34m\u001b[0m\u001b[0m\n\u001b[1;32m   2892\u001b[0m             \u001b[0;32mexcept\u001b[0m \u001b[0mKeyError\u001b[0m \u001b[0;32mas\u001b[0m \u001b[0merr\u001b[0m\u001b[0;34m:\u001b[0m\u001b[0;34m\u001b[0m\u001b[0;34m\u001b[0m\u001b[0m\n\u001b[0;32m-> 2893\u001b[0;31m                 \u001b[0;32mraise\u001b[0m \u001b[0mKeyError\u001b[0m\u001b[0;34m(\u001b[0m\u001b[0mkey\u001b[0m\u001b[0;34m)\u001b[0m \u001b[0;32mfrom\u001b[0m \u001b[0merr\u001b[0m\u001b[0;34m\u001b[0m\u001b[0;34m\u001b[0m\u001b[0m\n\u001b[0m\u001b[1;32m   2894\u001b[0m \u001b[0;34m\u001b[0m\u001b[0m\n\u001b[1;32m   2895\u001b[0m         \u001b[0;32mif\u001b[0m \u001b[0mtolerance\u001b[0m \u001b[0;32mis\u001b[0m \u001b[0;32mnot\u001b[0m \u001b[0;32mNone\u001b[0m\u001b[0;34m:\u001b[0m\u001b[0;34m\u001b[0m\u001b[0;34m\u001b[0m\u001b[0m\n",
            "\u001b[0;31mKeyError\u001b[0m: 'value'"
          ]
        }
      ]
    },
    {
      "cell_type": "code",
      "metadata": {
        "id": "9dRPXHLYa16N"
      },
      "source": [
        "df_Fifa['value']"
      ],
      "execution_count": null,
      "outputs": []
    },
    {
      "cell_type": "code",
      "metadata": {
        "id": "z2OkBy5Ua4Cb",
        "outputId": "6c2014b7-1840-4de6-b045-5f3a3915fc97",
        "colab": {
          "base_uri": "https://localhost:8080/",
          "height": 221
        }
      },
      "source": [
        "df_Fifa['wage']"
      ],
      "execution_count": null,
      "outputs": [
        {
          "output_type": "execute_result",
          "data": {
            "text/plain": [
              "0        565000\n",
              "1        405000\n",
              "2        290000\n",
              "3        260000\n",
              "4        355000\n",
              "          ...  \n",
              "18202      1000\n",
              "18203      1000\n",
              "18204      1000\n",
              "18205      1000\n",
              "18206      1000\n",
              "Name: wage, Length: 18207, dtype: int64"
            ]
          },
          "metadata": {
            "tags": []
          },
          "execution_count": 247
        }
      ]
    },
    {
      "cell_type": "code",
      "metadata": {
        "id": "MKIm04Y1Pp0r",
        "outputId": "d569c539-0707-4e9a-fa1a-e555fb9b1439",
        "colab": {
          "base_uri": "https://localhost:8080/",
          "height": 677
        }
      },
      "source": [
        "df_Fifa"
      ],
      "execution_count": null,
      "outputs": [
        {
          "output_type": "execute_result",
          "data": {
            "text/html": [
              "<div>\n",
              "<style scoped>\n",
              "    .dataframe tbody tr th:only-of-type {\n",
              "        vertical-align: middle;\n",
              "    }\n",
              "\n",
              "    .dataframe tbody tr th {\n",
              "        vertical-align: top;\n",
              "    }\n",
              "\n",
              "    .dataframe thead th {\n",
              "        text-align: right;\n",
              "    }\n",
              "</style>\n",
              "<table border=\"1\" class=\"dataframe\">\n",
              "  <thead>\n",
              "    <tr style=\"text-align: right;\">\n",
              "      <th></th>\n",
              "      <th>unnamed: 0</th>\n",
              "      <th>id</th>\n",
              "      <th>name</th>\n",
              "      <th>age</th>\n",
              "      <th>photo</th>\n",
              "      <th>nationality</th>\n",
              "      <th>flag</th>\n",
              "      <th>overall</th>\n",
              "      <th>potential</th>\n",
              "      <th>club</th>\n",
              "      <th>club logo</th>\n",
              "      <th>value</th>\n",
              "      <th>wage</th>\n",
              "      <th>special</th>\n",
              "      <th>preferred foot</th>\n",
              "      <th>international reputation</th>\n",
              "      <th>weak foot</th>\n",
              "      <th>skill moves</th>\n",
              "      <th>work rate</th>\n",
              "      <th>body type</th>\n",
              "      <th>real face</th>\n",
              "      <th>position</th>\n",
              "      <th>jersey number</th>\n",
              "      <th>joined</th>\n",
              "      <th>loaned from</th>\n",
              "      <th>contract valid until</th>\n",
              "      <th>height</th>\n",
              "      <th>weight</th>\n",
              "      <th>ls</th>\n",
              "      <th>st</th>\n",
              "      <th>rs</th>\n",
              "      <th>lw</th>\n",
              "      <th>lf</th>\n",
              "      <th>cf</th>\n",
              "      <th>rf</th>\n",
              "      <th>rw</th>\n",
              "      <th>lam</th>\n",
              "      <th>cam</th>\n",
              "      <th>ram</th>\n",
              "      <th>lm</th>\n",
              "      <th>...</th>\n",
              "      <th>lb</th>\n",
              "      <th>lcb</th>\n",
              "      <th>cb</th>\n",
              "      <th>rcb</th>\n",
              "      <th>rb</th>\n",
              "      <th>crossing</th>\n",
              "      <th>finishing</th>\n",
              "      <th>headingaccuracy</th>\n",
              "      <th>shortpassing</th>\n",
              "      <th>volleys</th>\n",
              "      <th>dribbling</th>\n",
              "      <th>curve</th>\n",
              "      <th>fkaccuracy</th>\n",
              "      <th>longpassing</th>\n",
              "      <th>ballcontrol</th>\n",
              "      <th>acceleration</th>\n",
              "      <th>sprintspeed</th>\n",
              "      <th>agility</th>\n",
              "      <th>reactions</th>\n",
              "      <th>balance</th>\n",
              "      <th>shotpower</th>\n",
              "      <th>jumping</th>\n",
              "      <th>stamina</th>\n",
              "      <th>strength</th>\n",
              "      <th>longshots</th>\n",
              "      <th>aggression</th>\n",
              "      <th>interceptions</th>\n",
              "      <th>positioning</th>\n",
              "      <th>vision</th>\n",
              "      <th>penalties</th>\n",
              "      <th>composure</th>\n",
              "      <th>marking</th>\n",
              "      <th>standingtackle</th>\n",
              "      <th>slidingtackle</th>\n",
              "      <th>gkdiving</th>\n",
              "      <th>gkhandling</th>\n",
              "      <th>gkkicking</th>\n",
              "      <th>gkpositioning</th>\n",
              "      <th>gkreflexes</th>\n",
              "      <th>release clause</th>\n",
              "    </tr>\n",
              "  </thead>\n",
              "  <tbody>\n",
              "    <tr>\n",
              "      <th>0</th>\n",
              "      <td>0</td>\n",
              "      <td>158023</td>\n",
              "      <td>L. Messi</td>\n",
              "      <td>31</td>\n",
              "      <td>https://cdn.sofifa.org/players/4/19/158023.png</td>\n",
              "      <td>Argentina</td>\n",
              "      <td>https://cdn.sofifa.org/flags/52.png</td>\n",
              "      <td>94</td>\n",
              "      <td>94</td>\n",
              "      <td>FC Barcelona</td>\n",
              "      <td>https://cdn.sofifa.org/teams/2/light/241.png</td>\n",
              "      <td>110.5</td>\n",
              "      <td>565000</td>\n",
              "      <td>2202</td>\n",
              "      <td>Left</td>\n",
              "      <td>5.0</td>\n",
              "      <td>4.0</td>\n",
              "      <td>4.0</td>\n",
              "      <td>Medium/ Medium</td>\n",
              "      <td>Messi</td>\n",
              "      <td>Yes</td>\n",
              "      <td>RF</td>\n",
              "      <td>10.0</td>\n",
              "      <td>Jul 1, 2004</td>\n",
              "      <td>NaN</td>\n",
              "      <td>2021</td>\n",
              "      <td>5'7</td>\n",
              "      <td>159lbs</td>\n",
              "      <td>88+2</td>\n",
              "      <td>88+2</td>\n",
              "      <td>88+2</td>\n",
              "      <td>92+2</td>\n",
              "      <td>93+2</td>\n",
              "      <td>93+2</td>\n",
              "      <td>93+2</td>\n",
              "      <td>92+2</td>\n",
              "      <td>93+2</td>\n",
              "      <td>93+2</td>\n",
              "      <td>93+2</td>\n",
              "      <td>91+2</td>\n",
              "      <td>...</td>\n",
              "      <td>59+2</td>\n",
              "      <td>47+2</td>\n",
              "      <td>47+2</td>\n",
              "      <td>47+2</td>\n",
              "      <td>59+2</td>\n",
              "      <td>84.0</td>\n",
              "      <td>95.0</td>\n",
              "      <td>70.0</td>\n",
              "      <td>90.0</td>\n",
              "      <td>86.0</td>\n",
              "      <td>97.0</td>\n",
              "      <td>93.0</td>\n",
              "      <td>94.0</td>\n",
              "      <td>87.0</td>\n",
              "      <td>96.0</td>\n",
              "      <td>91.0</td>\n",
              "      <td>86.0</td>\n",
              "      <td>91.0</td>\n",
              "      <td>95.0</td>\n",
              "      <td>95.0</td>\n",
              "      <td>85.0</td>\n",
              "      <td>68.0</td>\n",
              "      <td>72.0</td>\n",
              "      <td>59.0</td>\n",
              "      <td>94.0</td>\n",
              "      <td>48.0</td>\n",
              "      <td>22.0</td>\n",
              "      <td>94.0</td>\n",
              "      <td>94.0</td>\n",
              "      <td>75.0</td>\n",
              "      <td>96.0</td>\n",
              "      <td>33.0</td>\n",
              "      <td>28.0</td>\n",
              "      <td>26.0</td>\n",
              "      <td>6.0</td>\n",
              "      <td>11.0</td>\n",
              "      <td>15.0</td>\n",
              "      <td>14.0</td>\n",
              "      <td>8.0</td>\n",
              "      <td>€226.5M</td>\n",
              "    </tr>\n",
              "    <tr>\n",
              "      <th>1</th>\n",
              "      <td>1</td>\n",
              "      <td>20801</td>\n",
              "      <td>Cristiano Ronaldo</td>\n",
              "      <td>33</td>\n",
              "      <td>https://cdn.sofifa.org/players/4/19/20801.png</td>\n",
              "      <td>Portugal</td>\n",
              "      <td>https://cdn.sofifa.org/flags/38.png</td>\n",
              "      <td>94</td>\n",
              "      <td>94</td>\n",
              "      <td>Juventus</td>\n",
              "      <td>https://cdn.sofifa.org/teams/2/light/45.png</td>\n",
              "      <td>77000000.0</td>\n",
              "      <td>405000</td>\n",
              "      <td>2228</td>\n",
              "      <td>Right</td>\n",
              "      <td>5.0</td>\n",
              "      <td>4.0</td>\n",
              "      <td>5.0</td>\n",
              "      <td>High/ Low</td>\n",
              "      <td>C. Ronaldo</td>\n",
              "      <td>Yes</td>\n",
              "      <td>ST</td>\n",
              "      <td>7.0</td>\n",
              "      <td>Jul 10, 2018</td>\n",
              "      <td>NaN</td>\n",
              "      <td>2022</td>\n",
              "      <td>6'2</td>\n",
              "      <td>183lbs</td>\n",
              "      <td>91+3</td>\n",
              "      <td>91+3</td>\n",
              "      <td>91+3</td>\n",
              "      <td>89+3</td>\n",
              "      <td>90+3</td>\n",
              "      <td>90+3</td>\n",
              "      <td>90+3</td>\n",
              "      <td>89+3</td>\n",
              "      <td>88+3</td>\n",
              "      <td>88+3</td>\n",
              "      <td>88+3</td>\n",
              "      <td>88+3</td>\n",
              "      <td>...</td>\n",
              "      <td>61+3</td>\n",
              "      <td>53+3</td>\n",
              "      <td>53+3</td>\n",
              "      <td>53+3</td>\n",
              "      <td>61+3</td>\n",
              "      <td>84.0</td>\n",
              "      <td>94.0</td>\n",
              "      <td>89.0</td>\n",
              "      <td>81.0</td>\n",
              "      <td>87.0</td>\n",
              "      <td>88.0</td>\n",
              "      <td>81.0</td>\n",
              "      <td>76.0</td>\n",
              "      <td>77.0</td>\n",
              "      <td>94.0</td>\n",
              "      <td>89.0</td>\n",
              "      <td>91.0</td>\n",
              "      <td>87.0</td>\n",
              "      <td>96.0</td>\n",
              "      <td>70.0</td>\n",
              "      <td>95.0</td>\n",
              "      <td>95.0</td>\n",
              "      <td>88.0</td>\n",
              "      <td>79.0</td>\n",
              "      <td>93.0</td>\n",
              "      <td>63.0</td>\n",
              "      <td>29.0</td>\n",
              "      <td>95.0</td>\n",
              "      <td>82.0</td>\n",
              "      <td>85.0</td>\n",
              "      <td>95.0</td>\n",
              "      <td>28.0</td>\n",
              "      <td>31.0</td>\n",
              "      <td>23.0</td>\n",
              "      <td>7.0</td>\n",
              "      <td>11.0</td>\n",
              "      <td>15.0</td>\n",
              "      <td>14.0</td>\n",
              "      <td>11.0</td>\n",
              "      <td>€127.1M</td>\n",
              "    </tr>\n",
              "    <tr>\n",
              "      <th>2</th>\n",
              "      <td>2</td>\n",
              "      <td>190871</td>\n",
              "      <td>Neymar Jr</td>\n",
              "      <td>26</td>\n",
              "      <td>https://cdn.sofifa.org/players/4/19/190871.png</td>\n",
              "      <td>Brazil</td>\n",
              "      <td>https://cdn.sofifa.org/flags/54.png</td>\n",
              "      <td>92</td>\n",
              "      <td>93</td>\n",
              "      <td>Paris Saint-Germain</td>\n",
              "      <td>https://cdn.sofifa.org/teams/2/light/73.png</td>\n",
              "      <td>118.5</td>\n",
              "      <td>290000</td>\n",
              "      <td>2143</td>\n",
              "      <td>Right</td>\n",
              "      <td>5.0</td>\n",
              "      <td>5.0</td>\n",
              "      <td>5.0</td>\n",
              "      <td>High/ Medium</td>\n",
              "      <td>Neymar</td>\n",
              "      <td>Yes</td>\n",
              "      <td>LW</td>\n",
              "      <td>10.0</td>\n",
              "      <td>Aug 3, 2017</td>\n",
              "      <td>NaN</td>\n",
              "      <td>2022</td>\n",
              "      <td>5'9</td>\n",
              "      <td>150lbs</td>\n",
              "      <td>84+3</td>\n",
              "      <td>84+3</td>\n",
              "      <td>84+3</td>\n",
              "      <td>89+3</td>\n",
              "      <td>89+3</td>\n",
              "      <td>89+3</td>\n",
              "      <td>89+3</td>\n",
              "      <td>89+3</td>\n",
              "      <td>89+3</td>\n",
              "      <td>89+3</td>\n",
              "      <td>89+3</td>\n",
              "      <td>88+3</td>\n",
              "      <td>...</td>\n",
              "      <td>60+3</td>\n",
              "      <td>47+3</td>\n",
              "      <td>47+3</td>\n",
              "      <td>47+3</td>\n",
              "      <td>60+3</td>\n",
              "      <td>79.0</td>\n",
              "      <td>87.0</td>\n",
              "      <td>62.0</td>\n",
              "      <td>84.0</td>\n",
              "      <td>84.0</td>\n",
              "      <td>96.0</td>\n",
              "      <td>88.0</td>\n",
              "      <td>87.0</td>\n",
              "      <td>78.0</td>\n",
              "      <td>95.0</td>\n",
              "      <td>94.0</td>\n",
              "      <td>90.0</td>\n",
              "      <td>96.0</td>\n",
              "      <td>94.0</td>\n",
              "      <td>84.0</td>\n",
              "      <td>80.0</td>\n",
              "      <td>61.0</td>\n",
              "      <td>81.0</td>\n",
              "      <td>49.0</td>\n",
              "      <td>82.0</td>\n",
              "      <td>56.0</td>\n",
              "      <td>36.0</td>\n",
              "      <td>89.0</td>\n",
              "      <td>87.0</td>\n",
              "      <td>81.0</td>\n",
              "      <td>94.0</td>\n",
              "      <td>27.0</td>\n",
              "      <td>24.0</td>\n",
              "      <td>33.0</td>\n",
              "      <td>9.0</td>\n",
              "      <td>9.0</td>\n",
              "      <td>15.0</td>\n",
              "      <td>15.0</td>\n",
              "      <td>11.0</td>\n",
              "      <td>€228.1M</td>\n",
              "    </tr>\n",
              "    <tr>\n",
              "      <th>3</th>\n",
              "      <td>3</td>\n",
              "      <td>193080</td>\n",
              "      <td>De Gea</td>\n",
              "      <td>27</td>\n",
              "      <td>https://cdn.sofifa.org/players/4/19/193080.png</td>\n",
              "      <td>Spain</td>\n",
              "      <td>https://cdn.sofifa.org/flags/45.png</td>\n",
              "      <td>91</td>\n",
              "      <td>93</td>\n",
              "      <td>Manchester United</td>\n",
              "      <td>https://cdn.sofifa.org/teams/2/light/11.png</td>\n",
              "      <td>72000000.0</td>\n",
              "      <td>260000</td>\n",
              "      <td>1471</td>\n",
              "      <td>Right</td>\n",
              "      <td>4.0</td>\n",
              "      <td>3.0</td>\n",
              "      <td>1.0</td>\n",
              "      <td>Medium/ Medium</td>\n",
              "      <td>Lean</td>\n",
              "      <td>Yes</td>\n",
              "      <td>GK</td>\n",
              "      <td>1.0</td>\n",
              "      <td>Jul 1, 2011</td>\n",
              "      <td>NaN</td>\n",
              "      <td>2020</td>\n",
              "      <td>6'4</td>\n",
              "      <td>168lbs</td>\n",
              "      <td>NaN</td>\n",
              "      <td>NaN</td>\n",
              "      <td>NaN</td>\n",
              "      <td>NaN</td>\n",
              "      <td>NaN</td>\n",
              "      <td>NaN</td>\n",
              "      <td>NaN</td>\n",
              "      <td>NaN</td>\n",
              "      <td>NaN</td>\n",
              "      <td>NaN</td>\n",
              "      <td>NaN</td>\n",
              "      <td>NaN</td>\n",
              "      <td>...</td>\n",
              "      <td>NaN</td>\n",
              "      <td>NaN</td>\n",
              "      <td>NaN</td>\n",
              "      <td>NaN</td>\n",
              "      <td>NaN</td>\n",
              "      <td>17.0</td>\n",
              "      <td>13.0</td>\n",
              "      <td>21.0</td>\n",
              "      <td>50.0</td>\n",
              "      <td>13.0</td>\n",
              "      <td>18.0</td>\n",
              "      <td>21.0</td>\n",
              "      <td>19.0</td>\n",
              "      <td>51.0</td>\n",
              "      <td>42.0</td>\n",
              "      <td>57.0</td>\n",
              "      <td>58.0</td>\n",
              "      <td>60.0</td>\n",
              "      <td>90.0</td>\n",
              "      <td>43.0</td>\n",
              "      <td>31.0</td>\n",
              "      <td>67.0</td>\n",
              "      <td>43.0</td>\n",
              "      <td>64.0</td>\n",
              "      <td>12.0</td>\n",
              "      <td>38.0</td>\n",
              "      <td>30.0</td>\n",
              "      <td>12.0</td>\n",
              "      <td>68.0</td>\n",
              "      <td>40.0</td>\n",
              "      <td>68.0</td>\n",
              "      <td>15.0</td>\n",
              "      <td>21.0</td>\n",
              "      <td>13.0</td>\n",
              "      <td>90.0</td>\n",
              "      <td>85.0</td>\n",
              "      <td>87.0</td>\n",
              "      <td>88.0</td>\n",
              "      <td>94.0</td>\n",
              "      <td>€138.6M</td>\n",
              "    </tr>\n",
              "    <tr>\n",
              "      <th>4</th>\n",
              "      <td>4</td>\n",
              "      <td>192985</td>\n",
              "      <td>K. De Bruyne</td>\n",
              "      <td>27</td>\n",
              "      <td>https://cdn.sofifa.org/players/4/19/192985.png</td>\n",
              "      <td>Belgium</td>\n",
              "      <td>https://cdn.sofifa.org/flags/7.png</td>\n",
              "      <td>91</td>\n",
              "      <td>92</td>\n",
              "      <td>Manchester City</td>\n",
              "      <td>https://cdn.sofifa.org/teams/2/light/10.png</td>\n",
              "      <td>102000000.0</td>\n",
              "      <td>355000</td>\n",
              "      <td>2281</td>\n",
              "      <td>Right</td>\n",
              "      <td>4.0</td>\n",
              "      <td>5.0</td>\n",
              "      <td>4.0</td>\n",
              "      <td>High/ High</td>\n",
              "      <td>Normal</td>\n",
              "      <td>Yes</td>\n",
              "      <td>RCM</td>\n",
              "      <td>7.0</td>\n",
              "      <td>Aug 30, 2015</td>\n",
              "      <td>NaN</td>\n",
              "      <td>2023</td>\n",
              "      <td>5'11</td>\n",
              "      <td>154lbs</td>\n",
              "      <td>82+3</td>\n",
              "      <td>82+3</td>\n",
              "      <td>82+3</td>\n",
              "      <td>87+3</td>\n",
              "      <td>87+3</td>\n",
              "      <td>87+3</td>\n",
              "      <td>87+3</td>\n",
              "      <td>87+3</td>\n",
              "      <td>88+3</td>\n",
              "      <td>88+3</td>\n",
              "      <td>88+3</td>\n",
              "      <td>88+3</td>\n",
              "      <td>...</td>\n",
              "      <td>73+3</td>\n",
              "      <td>66+3</td>\n",
              "      <td>66+3</td>\n",
              "      <td>66+3</td>\n",
              "      <td>73+3</td>\n",
              "      <td>93.0</td>\n",
              "      <td>82.0</td>\n",
              "      <td>55.0</td>\n",
              "      <td>92.0</td>\n",
              "      <td>82.0</td>\n",
              "      <td>86.0</td>\n",
              "      <td>85.0</td>\n",
              "      <td>83.0</td>\n",
              "      <td>91.0</td>\n",
              "      <td>91.0</td>\n",
              "      <td>78.0</td>\n",
              "      <td>76.0</td>\n",
              "      <td>79.0</td>\n",
              "      <td>91.0</td>\n",
              "      <td>77.0</td>\n",
              "      <td>91.0</td>\n",
              "      <td>63.0</td>\n",
              "      <td>90.0</td>\n",
              "      <td>75.0</td>\n",
              "      <td>91.0</td>\n",
              "      <td>76.0</td>\n",
              "      <td>61.0</td>\n",
              "      <td>87.0</td>\n",
              "      <td>94.0</td>\n",
              "      <td>79.0</td>\n",
              "      <td>88.0</td>\n",
              "      <td>68.0</td>\n",
              "      <td>58.0</td>\n",
              "      <td>51.0</td>\n",
              "      <td>15.0</td>\n",
              "      <td>13.0</td>\n",
              "      <td>5.0</td>\n",
              "      <td>10.0</td>\n",
              "      <td>13.0</td>\n",
              "      <td>€196.4M</td>\n",
              "    </tr>\n",
              "    <tr>\n",
              "      <th>...</th>\n",
              "      <td>...</td>\n",
              "      <td>...</td>\n",
              "      <td>...</td>\n",
              "      <td>...</td>\n",
              "      <td>...</td>\n",
              "      <td>...</td>\n",
              "      <td>...</td>\n",
              "      <td>...</td>\n",
              "      <td>...</td>\n",
              "      <td>...</td>\n",
              "      <td>...</td>\n",
              "      <td>...</td>\n",
              "      <td>...</td>\n",
              "      <td>...</td>\n",
              "      <td>...</td>\n",
              "      <td>...</td>\n",
              "      <td>...</td>\n",
              "      <td>...</td>\n",
              "      <td>...</td>\n",
              "      <td>...</td>\n",
              "      <td>...</td>\n",
              "      <td>...</td>\n",
              "      <td>...</td>\n",
              "      <td>...</td>\n",
              "      <td>...</td>\n",
              "      <td>...</td>\n",
              "      <td>...</td>\n",
              "      <td>...</td>\n",
              "      <td>...</td>\n",
              "      <td>...</td>\n",
              "      <td>...</td>\n",
              "      <td>...</td>\n",
              "      <td>...</td>\n",
              "      <td>...</td>\n",
              "      <td>...</td>\n",
              "      <td>...</td>\n",
              "      <td>...</td>\n",
              "      <td>...</td>\n",
              "      <td>...</td>\n",
              "      <td>...</td>\n",
              "      <td>...</td>\n",
              "      <td>...</td>\n",
              "      <td>...</td>\n",
              "      <td>...</td>\n",
              "      <td>...</td>\n",
              "      <td>...</td>\n",
              "      <td>...</td>\n",
              "      <td>...</td>\n",
              "      <td>...</td>\n",
              "      <td>...</td>\n",
              "      <td>...</td>\n",
              "      <td>...</td>\n",
              "      <td>...</td>\n",
              "      <td>...</td>\n",
              "      <td>...</td>\n",
              "      <td>...</td>\n",
              "      <td>...</td>\n",
              "      <td>...</td>\n",
              "      <td>...</td>\n",
              "      <td>...</td>\n",
              "      <td>...</td>\n",
              "      <td>...</td>\n",
              "      <td>...</td>\n",
              "      <td>...</td>\n",
              "      <td>...</td>\n",
              "      <td>...</td>\n",
              "      <td>...</td>\n",
              "      <td>...</td>\n",
              "      <td>...</td>\n",
              "      <td>...</td>\n",
              "      <td>...</td>\n",
              "      <td>...</td>\n",
              "      <td>...</td>\n",
              "      <td>...</td>\n",
              "      <td>...</td>\n",
              "      <td>...</td>\n",
              "      <td>...</td>\n",
              "      <td>...</td>\n",
              "      <td>...</td>\n",
              "      <td>...</td>\n",
              "      <td>...</td>\n",
              "    </tr>\n",
              "    <tr>\n",
              "      <th>18202</th>\n",
              "      <td>18202</td>\n",
              "      <td>238813</td>\n",
              "      <td>J. Lundstram</td>\n",
              "      <td>19</td>\n",
              "      <td>https://cdn.sofifa.org/players/4/19/238813.png</td>\n",
              "      <td>England</td>\n",
              "      <td>https://cdn.sofifa.org/flags/14.png</td>\n",
              "      <td>47</td>\n",
              "      <td>65</td>\n",
              "      <td>Crewe Alexandra</td>\n",
              "      <td>https://cdn.sofifa.org/teams/2/light/121.png</td>\n",
              "      <td>60000.0</td>\n",
              "      <td>1000</td>\n",
              "      <td>1307</td>\n",
              "      <td>Right</td>\n",
              "      <td>1.0</td>\n",
              "      <td>2.0</td>\n",
              "      <td>2.0</td>\n",
              "      <td>Medium/ Medium</td>\n",
              "      <td>Lean</td>\n",
              "      <td>No</td>\n",
              "      <td>CM</td>\n",
              "      <td>22.0</td>\n",
              "      <td>May 3, 2017</td>\n",
              "      <td>NaN</td>\n",
              "      <td>2019</td>\n",
              "      <td>5'9</td>\n",
              "      <td>134lbs</td>\n",
              "      <td>42+2</td>\n",
              "      <td>42+2</td>\n",
              "      <td>42+2</td>\n",
              "      <td>44+2</td>\n",
              "      <td>44+2</td>\n",
              "      <td>44+2</td>\n",
              "      <td>44+2</td>\n",
              "      <td>44+2</td>\n",
              "      <td>45+2</td>\n",
              "      <td>45+2</td>\n",
              "      <td>45+2</td>\n",
              "      <td>44+2</td>\n",
              "      <td>...</td>\n",
              "      <td>45+2</td>\n",
              "      <td>45+2</td>\n",
              "      <td>45+2</td>\n",
              "      <td>45+2</td>\n",
              "      <td>45+2</td>\n",
              "      <td>34.0</td>\n",
              "      <td>38.0</td>\n",
              "      <td>40.0</td>\n",
              "      <td>49.0</td>\n",
              "      <td>25.0</td>\n",
              "      <td>42.0</td>\n",
              "      <td>30.0</td>\n",
              "      <td>34.0</td>\n",
              "      <td>45.0</td>\n",
              "      <td>43.0</td>\n",
              "      <td>54.0</td>\n",
              "      <td>57.0</td>\n",
              "      <td>60.0</td>\n",
              "      <td>49.0</td>\n",
              "      <td>76.0</td>\n",
              "      <td>43.0</td>\n",
              "      <td>55.0</td>\n",
              "      <td>40.0</td>\n",
              "      <td>47.0</td>\n",
              "      <td>38.0</td>\n",
              "      <td>46.0</td>\n",
              "      <td>46.0</td>\n",
              "      <td>39.0</td>\n",
              "      <td>52.0</td>\n",
              "      <td>43.0</td>\n",
              "      <td>45.0</td>\n",
              "      <td>40.0</td>\n",
              "      <td>48.0</td>\n",
              "      <td>47.0</td>\n",
              "      <td>10.0</td>\n",
              "      <td>13.0</td>\n",
              "      <td>7.0</td>\n",
              "      <td>8.0</td>\n",
              "      <td>9.0</td>\n",
              "      <td>€143K</td>\n",
              "    </tr>\n",
              "    <tr>\n",
              "      <th>18203</th>\n",
              "      <td>18203</td>\n",
              "      <td>243165</td>\n",
              "      <td>N. Christoffersson</td>\n",
              "      <td>19</td>\n",
              "      <td>https://cdn.sofifa.org/players/4/19/243165.png</td>\n",
              "      <td>Sweden</td>\n",
              "      <td>https://cdn.sofifa.org/flags/46.png</td>\n",
              "      <td>47</td>\n",
              "      <td>63</td>\n",
              "      <td>Trelleborgs FF</td>\n",
              "      <td>https://cdn.sofifa.org/teams/2/light/703.png</td>\n",
              "      <td>60000.0</td>\n",
              "      <td>1000</td>\n",
              "      <td>1098</td>\n",
              "      <td>Right</td>\n",
              "      <td>1.0</td>\n",
              "      <td>2.0</td>\n",
              "      <td>2.0</td>\n",
              "      <td>Medium/ Medium</td>\n",
              "      <td>Normal</td>\n",
              "      <td>No</td>\n",
              "      <td>ST</td>\n",
              "      <td>21.0</td>\n",
              "      <td>Mar 19, 2018</td>\n",
              "      <td>NaN</td>\n",
              "      <td>2020</td>\n",
              "      <td>6'3</td>\n",
              "      <td>170lbs</td>\n",
              "      <td>45+2</td>\n",
              "      <td>45+2</td>\n",
              "      <td>45+2</td>\n",
              "      <td>39+2</td>\n",
              "      <td>42+2</td>\n",
              "      <td>42+2</td>\n",
              "      <td>42+2</td>\n",
              "      <td>39+2</td>\n",
              "      <td>40+2</td>\n",
              "      <td>40+2</td>\n",
              "      <td>40+2</td>\n",
              "      <td>38+2</td>\n",
              "      <td>...</td>\n",
              "      <td>29+2</td>\n",
              "      <td>32+2</td>\n",
              "      <td>32+2</td>\n",
              "      <td>32+2</td>\n",
              "      <td>29+2</td>\n",
              "      <td>23.0</td>\n",
              "      <td>52.0</td>\n",
              "      <td>52.0</td>\n",
              "      <td>43.0</td>\n",
              "      <td>36.0</td>\n",
              "      <td>39.0</td>\n",
              "      <td>32.0</td>\n",
              "      <td>20.0</td>\n",
              "      <td>25.0</td>\n",
              "      <td>40.0</td>\n",
              "      <td>41.0</td>\n",
              "      <td>39.0</td>\n",
              "      <td>38.0</td>\n",
              "      <td>40.0</td>\n",
              "      <td>52.0</td>\n",
              "      <td>41.0</td>\n",
              "      <td>47.0</td>\n",
              "      <td>43.0</td>\n",
              "      <td>67.0</td>\n",
              "      <td>42.0</td>\n",
              "      <td>47.0</td>\n",
              "      <td>16.0</td>\n",
              "      <td>46.0</td>\n",
              "      <td>33.0</td>\n",
              "      <td>43.0</td>\n",
              "      <td>42.0</td>\n",
              "      <td>22.0</td>\n",
              "      <td>15.0</td>\n",
              "      <td>19.0</td>\n",
              "      <td>10.0</td>\n",
              "      <td>9.0</td>\n",
              "      <td>9.0</td>\n",
              "      <td>5.0</td>\n",
              "      <td>12.0</td>\n",
              "      <td>€113K</td>\n",
              "    </tr>\n",
              "    <tr>\n",
              "      <th>18204</th>\n",
              "      <td>18204</td>\n",
              "      <td>241638</td>\n",
              "      <td>B. Worman</td>\n",
              "      <td>16</td>\n",
              "      <td>https://cdn.sofifa.org/players/4/19/241638.png</td>\n",
              "      <td>England</td>\n",
              "      <td>https://cdn.sofifa.org/flags/14.png</td>\n",
              "      <td>47</td>\n",
              "      <td>67</td>\n",
              "      <td>Cambridge United</td>\n",
              "      <td>https://cdn.sofifa.org/teams/2/light/1944.png</td>\n",
              "      <td>60000.0</td>\n",
              "      <td>1000</td>\n",
              "      <td>1189</td>\n",
              "      <td>Right</td>\n",
              "      <td>1.0</td>\n",
              "      <td>3.0</td>\n",
              "      <td>2.0</td>\n",
              "      <td>Medium/ Medium</td>\n",
              "      <td>Normal</td>\n",
              "      <td>No</td>\n",
              "      <td>ST</td>\n",
              "      <td>33.0</td>\n",
              "      <td>Jul 1, 2017</td>\n",
              "      <td>NaN</td>\n",
              "      <td>2021</td>\n",
              "      <td>5'8</td>\n",
              "      <td>148lbs</td>\n",
              "      <td>45+2</td>\n",
              "      <td>45+2</td>\n",
              "      <td>45+2</td>\n",
              "      <td>45+2</td>\n",
              "      <td>46+2</td>\n",
              "      <td>46+2</td>\n",
              "      <td>46+2</td>\n",
              "      <td>45+2</td>\n",
              "      <td>44+2</td>\n",
              "      <td>44+2</td>\n",
              "      <td>44+2</td>\n",
              "      <td>44+2</td>\n",
              "      <td>...</td>\n",
              "      <td>33+2</td>\n",
              "      <td>28+2</td>\n",
              "      <td>28+2</td>\n",
              "      <td>28+2</td>\n",
              "      <td>33+2</td>\n",
              "      <td>25.0</td>\n",
              "      <td>40.0</td>\n",
              "      <td>46.0</td>\n",
              "      <td>38.0</td>\n",
              "      <td>38.0</td>\n",
              "      <td>45.0</td>\n",
              "      <td>38.0</td>\n",
              "      <td>27.0</td>\n",
              "      <td>28.0</td>\n",
              "      <td>44.0</td>\n",
              "      <td>70.0</td>\n",
              "      <td>69.0</td>\n",
              "      <td>50.0</td>\n",
              "      <td>47.0</td>\n",
              "      <td>58.0</td>\n",
              "      <td>45.0</td>\n",
              "      <td>60.0</td>\n",
              "      <td>55.0</td>\n",
              "      <td>32.0</td>\n",
              "      <td>45.0</td>\n",
              "      <td>32.0</td>\n",
              "      <td>15.0</td>\n",
              "      <td>48.0</td>\n",
              "      <td>43.0</td>\n",
              "      <td>55.0</td>\n",
              "      <td>41.0</td>\n",
              "      <td>32.0</td>\n",
              "      <td>13.0</td>\n",
              "      <td>11.0</td>\n",
              "      <td>6.0</td>\n",
              "      <td>5.0</td>\n",
              "      <td>10.0</td>\n",
              "      <td>6.0</td>\n",
              "      <td>13.0</td>\n",
              "      <td>€165K</td>\n",
              "    </tr>\n",
              "    <tr>\n",
              "      <th>18205</th>\n",
              "      <td>18205</td>\n",
              "      <td>246268</td>\n",
              "      <td>D. Walker-Rice</td>\n",
              "      <td>17</td>\n",
              "      <td>https://cdn.sofifa.org/players/4/19/246268.png</td>\n",
              "      <td>England</td>\n",
              "      <td>https://cdn.sofifa.org/flags/14.png</td>\n",
              "      <td>47</td>\n",
              "      <td>66</td>\n",
              "      <td>Tranmere Rovers</td>\n",
              "      <td>https://cdn.sofifa.org/teams/2/light/15048.png</td>\n",
              "      <td>60000.0</td>\n",
              "      <td>1000</td>\n",
              "      <td>1228</td>\n",
              "      <td>Right</td>\n",
              "      <td>1.0</td>\n",
              "      <td>3.0</td>\n",
              "      <td>2.0</td>\n",
              "      <td>Medium/ Medium</td>\n",
              "      <td>Lean</td>\n",
              "      <td>No</td>\n",
              "      <td>RW</td>\n",
              "      <td>34.0</td>\n",
              "      <td>Apr 24, 2018</td>\n",
              "      <td>NaN</td>\n",
              "      <td>2019</td>\n",
              "      <td>5'10</td>\n",
              "      <td>154lbs</td>\n",
              "      <td>47+2</td>\n",
              "      <td>47+2</td>\n",
              "      <td>47+2</td>\n",
              "      <td>47+2</td>\n",
              "      <td>46+2</td>\n",
              "      <td>46+2</td>\n",
              "      <td>46+2</td>\n",
              "      <td>47+2</td>\n",
              "      <td>45+2</td>\n",
              "      <td>45+2</td>\n",
              "      <td>45+2</td>\n",
              "      <td>46+2</td>\n",
              "      <td>...</td>\n",
              "      <td>35+2</td>\n",
              "      <td>31+2</td>\n",
              "      <td>31+2</td>\n",
              "      <td>31+2</td>\n",
              "      <td>35+2</td>\n",
              "      <td>44.0</td>\n",
              "      <td>50.0</td>\n",
              "      <td>39.0</td>\n",
              "      <td>42.0</td>\n",
              "      <td>40.0</td>\n",
              "      <td>51.0</td>\n",
              "      <td>34.0</td>\n",
              "      <td>32.0</td>\n",
              "      <td>32.0</td>\n",
              "      <td>52.0</td>\n",
              "      <td>61.0</td>\n",
              "      <td>60.0</td>\n",
              "      <td>52.0</td>\n",
              "      <td>21.0</td>\n",
              "      <td>71.0</td>\n",
              "      <td>64.0</td>\n",
              "      <td>42.0</td>\n",
              "      <td>40.0</td>\n",
              "      <td>48.0</td>\n",
              "      <td>34.0</td>\n",
              "      <td>33.0</td>\n",
              "      <td>22.0</td>\n",
              "      <td>44.0</td>\n",
              "      <td>47.0</td>\n",
              "      <td>50.0</td>\n",
              "      <td>46.0</td>\n",
              "      <td>20.0</td>\n",
              "      <td>25.0</td>\n",
              "      <td>27.0</td>\n",
              "      <td>14.0</td>\n",
              "      <td>6.0</td>\n",
              "      <td>14.0</td>\n",
              "      <td>8.0</td>\n",
              "      <td>9.0</td>\n",
              "      <td>€143K</td>\n",
              "    </tr>\n",
              "    <tr>\n",
              "      <th>18206</th>\n",
              "      <td>18206</td>\n",
              "      <td>246269</td>\n",
              "      <td>G. Nugent</td>\n",
              "      <td>16</td>\n",
              "      <td>https://cdn.sofifa.org/players/4/19/246269.png</td>\n",
              "      <td>England</td>\n",
              "      <td>https://cdn.sofifa.org/flags/14.png</td>\n",
              "      <td>46</td>\n",
              "      <td>66</td>\n",
              "      <td>Tranmere Rovers</td>\n",
              "      <td>https://cdn.sofifa.org/teams/2/light/15048.png</td>\n",
              "      <td>60000.0</td>\n",
              "      <td>1000</td>\n",
              "      <td>1321</td>\n",
              "      <td>Right</td>\n",
              "      <td>1.0</td>\n",
              "      <td>3.0</td>\n",
              "      <td>2.0</td>\n",
              "      <td>Medium/ Medium</td>\n",
              "      <td>Lean</td>\n",
              "      <td>No</td>\n",
              "      <td>CM</td>\n",
              "      <td>33.0</td>\n",
              "      <td>Oct 30, 2018</td>\n",
              "      <td>NaN</td>\n",
              "      <td>2019</td>\n",
              "      <td>5'10</td>\n",
              "      <td>176lbs</td>\n",
              "      <td>43+2</td>\n",
              "      <td>43+2</td>\n",
              "      <td>43+2</td>\n",
              "      <td>45+2</td>\n",
              "      <td>44+2</td>\n",
              "      <td>44+2</td>\n",
              "      <td>44+2</td>\n",
              "      <td>45+2</td>\n",
              "      <td>45+2</td>\n",
              "      <td>45+2</td>\n",
              "      <td>45+2</td>\n",
              "      <td>46+2</td>\n",
              "      <td>...</td>\n",
              "      <td>46+2</td>\n",
              "      <td>47+2</td>\n",
              "      <td>47+2</td>\n",
              "      <td>47+2</td>\n",
              "      <td>46+2</td>\n",
              "      <td>41.0</td>\n",
              "      <td>34.0</td>\n",
              "      <td>46.0</td>\n",
              "      <td>48.0</td>\n",
              "      <td>30.0</td>\n",
              "      <td>43.0</td>\n",
              "      <td>40.0</td>\n",
              "      <td>34.0</td>\n",
              "      <td>44.0</td>\n",
              "      <td>51.0</td>\n",
              "      <td>57.0</td>\n",
              "      <td>55.0</td>\n",
              "      <td>55.0</td>\n",
              "      <td>51.0</td>\n",
              "      <td>63.0</td>\n",
              "      <td>43.0</td>\n",
              "      <td>62.0</td>\n",
              "      <td>47.0</td>\n",
              "      <td>60.0</td>\n",
              "      <td>32.0</td>\n",
              "      <td>56.0</td>\n",
              "      <td>42.0</td>\n",
              "      <td>34.0</td>\n",
              "      <td>49.0</td>\n",
              "      <td>33.0</td>\n",
              "      <td>43.0</td>\n",
              "      <td>40.0</td>\n",
              "      <td>43.0</td>\n",
              "      <td>50.0</td>\n",
              "      <td>10.0</td>\n",
              "      <td>15.0</td>\n",
              "      <td>9.0</td>\n",
              "      <td>12.0</td>\n",
              "      <td>9.0</td>\n",
              "      <td>€165K</td>\n",
              "    </tr>\n",
              "  </tbody>\n",
              "</table>\n",
              "<p>18207 rows × 89 columns</p>\n",
              "</div>"
            ],
            "text/plain": [
              "       unnamed: 0      id  ... gkreflexes  release clause\n",
              "0               0  158023  ...        8.0         €226.5M\n",
              "1               1   20801  ...       11.0         €127.1M\n",
              "2               2  190871  ...       11.0         €228.1M\n",
              "3               3  193080  ...       94.0         €138.6M\n",
              "4               4  192985  ...       13.0         €196.4M\n",
              "...           ...     ...  ...        ...             ...\n",
              "18202       18202  238813  ...        9.0           €143K\n",
              "18203       18203  243165  ...       12.0           €113K\n",
              "18204       18204  241638  ...       13.0           €165K\n",
              "18205       18205  246268  ...        9.0           €143K\n",
              "18206       18206  246269  ...        9.0           €165K\n",
              "\n",
              "[18207 rows x 89 columns]"
            ]
          },
          "metadata": {
            "tags": []
          },
          "execution_count": 248
        }
      ]
    },
    {
      "cell_type": "code",
      "metadata": {
        "id": "tFLITtLFZG_V"
      },
      "source": [
        "df_Fifa.columns"
      ],
      "execution_count": null,
      "outputs": []
    },
    {
      "cell_type": "code",
      "metadata": {
        "id": "20wjRfAOmJ8s"
      },
      "source": [
        "type(df_Fifa.columns)"
      ],
      "execution_count": null,
      "outputs": []
    },
    {
      "cell_type": "code",
      "metadata": {
        "id": "0pCZgHRwysCA"
      },
      "source": [
        "l_indice_colunas_object = ['st', 'rs', 'lw', 'lf', 'cf', 'rf', 'rw',\n",
        "       'lam', 'cam', 'ram', 'lm', 'lcm', 'cm', 'rcm', 'rm', 'lwb', 'ldm',\n",
        "       'cdm', 'rdm', 'rwb', 'lb', 'lcb', 'cb', 'rcb', 'rb']"
      ],
      "execution_count": null,
      "outputs": []
    },
    {
      "cell_type": "code",
      "metadata": {
        "id": "_jfKCGuWyu00"
      },
      "source": [
        "type(l_indice_colunas_object)"
      ],
      "execution_count": null,
      "outputs": []
    },
    {
      "cell_type": "code",
      "metadata": {
        "id": "E1k-AUt1mAyx",
        "outputId": "44b0ac9e-7231-479b-db1b-6dfc805a6cfc",
        "colab": {
          "base_uri": "https://localhost:8080/",
          "height": 419
        }
      },
      "source": [
        "# Converter object no formato '83+4' para numeric '87'\n",
        "\n",
        "l_indice_colunas_object = ['ls','st', 'rs', 'lw', 'lf', 'cf', 'rf', 'rw',\n",
        "       'lam', 'cam', 'ram', 'lm', 'lcm', 'cm', 'rcm', 'rm', 'lwb', 'ldm',\n",
        "       'cdm', 'rdm', 'rwb', 'lb', 'lcb', 'cb', 'rcb', 'rb']\n",
        "\n",
        "for i in l_indice_colunas_object:\n",
        "  df_num = [0,1]\n",
        "  df_num[0] = df_Fifa[i].str.split('+', n=2, expand= True)[0]\n",
        "  df_num[1] = df_Fifa[i].str.split('+', n=2, expand= True)[1]\n",
        "  df_num[0]=pd.to_numeric(df_num[0])\n",
        "  df_num[1]=pd.to_numeric(df_num[1])\n",
        "  df_Fifa[i]=df_num[0] + df_num[1]\n",
        "\n",
        "df_Fifa[['ls','st', 'rs', 'lw', 'lf', 'cf', 'rf', 'rw', 'lam', 'cam', 'ram', 'lm', 'lcm',\n",
        "         'cm', 'rcm', 'rm', 'lwb', 'ldm', 'cdm', 'rdm', 'rwb', 'lb', 'lcb', 'cb', 'rcb', 'rb']]"
      ],
      "execution_count": null,
      "outputs": [
        {
          "output_type": "execute_result",
          "data": {
            "text/html": [
              "<div>\n",
              "<style scoped>\n",
              "    .dataframe tbody tr th:only-of-type {\n",
              "        vertical-align: middle;\n",
              "    }\n",
              "\n",
              "    .dataframe tbody tr th {\n",
              "        vertical-align: top;\n",
              "    }\n",
              "\n",
              "    .dataframe thead th {\n",
              "        text-align: right;\n",
              "    }\n",
              "</style>\n",
              "<table border=\"1\" class=\"dataframe\">\n",
              "  <thead>\n",
              "    <tr style=\"text-align: right;\">\n",
              "      <th></th>\n",
              "      <th>ls</th>\n",
              "      <th>st</th>\n",
              "      <th>rs</th>\n",
              "      <th>lw</th>\n",
              "      <th>lf</th>\n",
              "      <th>cf</th>\n",
              "      <th>rf</th>\n",
              "      <th>rw</th>\n",
              "      <th>lam</th>\n",
              "      <th>cam</th>\n",
              "      <th>ram</th>\n",
              "      <th>lm</th>\n",
              "      <th>lcm</th>\n",
              "      <th>cm</th>\n",
              "      <th>rcm</th>\n",
              "      <th>rm</th>\n",
              "      <th>lwb</th>\n",
              "      <th>ldm</th>\n",
              "      <th>cdm</th>\n",
              "      <th>rdm</th>\n",
              "      <th>rwb</th>\n",
              "      <th>lb</th>\n",
              "      <th>lcb</th>\n",
              "      <th>cb</th>\n",
              "      <th>rcb</th>\n",
              "      <th>rb</th>\n",
              "    </tr>\n",
              "  </thead>\n",
              "  <tbody>\n",
              "    <tr>\n",
              "      <th>0</th>\n",
              "      <td>90.0</td>\n",
              "      <td>90.0</td>\n",
              "      <td>90.0</td>\n",
              "      <td>94.0</td>\n",
              "      <td>95.0</td>\n",
              "      <td>95.0</td>\n",
              "      <td>95.0</td>\n",
              "      <td>94.0</td>\n",
              "      <td>95.0</td>\n",
              "      <td>95.0</td>\n",
              "      <td>95.0</td>\n",
              "      <td>93.0</td>\n",
              "      <td>86.0</td>\n",
              "      <td>86.0</td>\n",
              "      <td>86.0</td>\n",
              "      <td>93.0</td>\n",
              "      <td>66.0</td>\n",
              "      <td>63.0</td>\n",
              "      <td>63.0</td>\n",
              "      <td>63.0</td>\n",
              "      <td>66.0</td>\n",
              "      <td>61.0</td>\n",
              "      <td>49.0</td>\n",
              "      <td>49.0</td>\n",
              "      <td>49.0</td>\n",
              "      <td>61.0</td>\n",
              "    </tr>\n",
              "    <tr>\n",
              "      <th>1</th>\n",
              "      <td>94.0</td>\n",
              "      <td>94.0</td>\n",
              "      <td>94.0</td>\n",
              "      <td>92.0</td>\n",
              "      <td>93.0</td>\n",
              "      <td>93.0</td>\n",
              "      <td>93.0</td>\n",
              "      <td>92.0</td>\n",
              "      <td>91.0</td>\n",
              "      <td>91.0</td>\n",
              "      <td>91.0</td>\n",
              "      <td>91.0</td>\n",
              "      <td>84.0</td>\n",
              "      <td>84.0</td>\n",
              "      <td>84.0</td>\n",
              "      <td>91.0</td>\n",
              "      <td>68.0</td>\n",
              "      <td>64.0</td>\n",
              "      <td>64.0</td>\n",
              "      <td>64.0</td>\n",
              "      <td>68.0</td>\n",
              "      <td>64.0</td>\n",
              "      <td>56.0</td>\n",
              "      <td>56.0</td>\n",
              "      <td>56.0</td>\n",
              "      <td>64.0</td>\n",
              "    </tr>\n",
              "    <tr>\n",
              "      <th>2</th>\n",
              "      <td>87.0</td>\n",
              "      <td>87.0</td>\n",
              "      <td>87.0</td>\n",
              "      <td>92.0</td>\n",
              "      <td>92.0</td>\n",
              "      <td>92.0</td>\n",
              "      <td>92.0</td>\n",
              "      <td>92.0</td>\n",
              "      <td>92.0</td>\n",
              "      <td>92.0</td>\n",
              "      <td>92.0</td>\n",
              "      <td>91.0</td>\n",
              "      <td>84.0</td>\n",
              "      <td>84.0</td>\n",
              "      <td>84.0</td>\n",
              "      <td>91.0</td>\n",
              "      <td>68.0</td>\n",
              "      <td>63.0</td>\n",
              "      <td>63.0</td>\n",
              "      <td>63.0</td>\n",
              "      <td>68.0</td>\n",
              "      <td>63.0</td>\n",
              "      <td>50.0</td>\n",
              "      <td>50.0</td>\n",
              "      <td>50.0</td>\n",
              "      <td>63.0</td>\n",
              "    </tr>\n",
              "    <tr>\n",
              "      <th>3</th>\n",
              "      <td>NaN</td>\n",
              "      <td>NaN</td>\n",
              "      <td>NaN</td>\n",
              "      <td>NaN</td>\n",
              "      <td>NaN</td>\n",
              "      <td>NaN</td>\n",
              "      <td>NaN</td>\n",
              "      <td>NaN</td>\n",
              "      <td>NaN</td>\n",
              "      <td>NaN</td>\n",
              "      <td>NaN</td>\n",
              "      <td>NaN</td>\n",
              "      <td>NaN</td>\n",
              "      <td>NaN</td>\n",
              "      <td>NaN</td>\n",
              "      <td>NaN</td>\n",
              "      <td>NaN</td>\n",
              "      <td>NaN</td>\n",
              "      <td>NaN</td>\n",
              "      <td>NaN</td>\n",
              "      <td>NaN</td>\n",
              "      <td>NaN</td>\n",
              "      <td>NaN</td>\n",
              "      <td>NaN</td>\n",
              "      <td>NaN</td>\n",
              "      <td>NaN</td>\n",
              "    </tr>\n",
              "    <tr>\n",
              "      <th>4</th>\n",
              "      <td>85.0</td>\n",
              "      <td>85.0</td>\n",
              "      <td>85.0</td>\n",
              "      <td>90.0</td>\n",
              "      <td>90.0</td>\n",
              "      <td>90.0</td>\n",
              "      <td>90.0</td>\n",
              "      <td>90.0</td>\n",
              "      <td>91.0</td>\n",
              "      <td>91.0</td>\n",
              "      <td>91.0</td>\n",
              "      <td>91.0</td>\n",
              "      <td>90.0</td>\n",
              "      <td>90.0</td>\n",
              "      <td>90.0</td>\n",
              "      <td>91.0</td>\n",
              "      <td>80.0</td>\n",
              "      <td>80.0</td>\n",
              "      <td>80.0</td>\n",
              "      <td>80.0</td>\n",
              "      <td>80.0</td>\n",
              "      <td>76.0</td>\n",
              "      <td>69.0</td>\n",
              "      <td>69.0</td>\n",
              "      <td>69.0</td>\n",
              "      <td>76.0</td>\n",
              "    </tr>\n",
              "    <tr>\n",
              "      <th>...</th>\n",
              "      <td>...</td>\n",
              "      <td>...</td>\n",
              "      <td>...</td>\n",
              "      <td>...</td>\n",
              "      <td>...</td>\n",
              "      <td>...</td>\n",
              "      <td>...</td>\n",
              "      <td>...</td>\n",
              "      <td>...</td>\n",
              "      <td>...</td>\n",
              "      <td>...</td>\n",
              "      <td>...</td>\n",
              "      <td>...</td>\n",
              "      <td>...</td>\n",
              "      <td>...</td>\n",
              "      <td>...</td>\n",
              "      <td>...</td>\n",
              "      <td>...</td>\n",
              "      <td>...</td>\n",
              "      <td>...</td>\n",
              "      <td>...</td>\n",
              "      <td>...</td>\n",
              "      <td>...</td>\n",
              "      <td>...</td>\n",
              "      <td>...</td>\n",
              "      <td>...</td>\n",
              "    </tr>\n",
              "    <tr>\n",
              "      <th>18202</th>\n",
              "      <td>44.0</td>\n",
              "      <td>44.0</td>\n",
              "      <td>44.0</td>\n",
              "      <td>46.0</td>\n",
              "      <td>46.0</td>\n",
              "      <td>46.0</td>\n",
              "      <td>46.0</td>\n",
              "      <td>46.0</td>\n",
              "      <td>47.0</td>\n",
              "      <td>47.0</td>\n",
              "      <td>47.0</td>\n",
              "      <td>46.0</td>\n",
              "      <td>47.0</td>\n",
              "      <td>47.0</td>\n",
              "      <td>47.0</td>\n",
              "      <td>46.0</td>\n",
              "      <td>46.0</td>\n",
              "      <td>47.0</td>\n",
              "      <td>47.0</td>\n",
              "      <td>47.0</td>\n",
              "      <td>46.0</td>\n",
              "      <td>47.0</td>\n",
              "      <td>47.0</td>\n",
              "      <td>47.0</td>\n",
              "      <td>47.0</td>\n",
              "      <td>47.0</td>\n",
              "    </tr>\n",
              "    <tr>\n",
              "      <th>18203</th>\n",
              "      <td>47.0</td>\n",
              "      <td>47.0</td>\n",
              "      <td>47.0</td>\n",
              "      <td>41.0</td>\n",
              "      <td>44.0</td>\n",
              "      <td>44.0</td>\n",
              "      <td>44.0</td>\n",
              "      <td>41.0</td>\n",
              "      <td>42.0</td>\n",
              "      <td>42.0</td>\n",
              "      <td>42.0</td>\n",
              "      <td>40.0</td>\n",
              "      <td>37.0</td>\n",
              "      <td>37.0</td>\n",
              "      <td>37.0</td>\n",
              "      <td>40.0</td>\n",
              "      <td>32.0</td>\n",
              "      <td>33.0</td>\n",
              "      <td>33.0</td>\n",
              "      <td>33.0</td>\n",
              "      <td>32.0</td>\n",
              "      <td>31.0</td>\n",
              "      <td>34.0</td>\n",
              "      <td>34.0</td>\n",
              "      <td>34.0</td>\n",
              "      <td>31.0</td>\n",
              "    </tr>\n",
              "    <tr>\n",
              "      <th>18204</th>\n",
              "      <td>47.0</td>\n",
              "      <td>47.0</td>\n",
              "      <td>47.0</td>\n",
              "      <td>47.0</td>\n",
              "      <td>48.0</td>\n",
              "      <td>48.0</td>\n",
              "      <td>48.0</td>\n",
              "      <td>47.0</td>\n",
              "      <td>46.0</td>\n",
              "      <td>46.0</td>\n",
              "      <td>46.0</td>\n",
              "      <td>46.0</td>\n",
              "      <td>40.0</td>\n",
              "      <td>40.0</td>\n",
              "      <td>40.0</td>\n",
              "      <td>46.0</td>\n",
              "      <td>36.0</td>\n",
              "      <td>32.0</td>\n",
              "      <td>32.0</td>\n",
              "      <td>32.0</td>\n",
              "      <td>36.0</td>\n",
              "      <td>35.0</td>\n",
              "      <td>30.0</td>\n",
              "      <td>30.0</td>\n",
              "      <td>30.0</td>\n",
              "      <td>35.0</td>\n",
              "    </tr>\n",
              "    <tr>\n",
              "      <th>18205</th>\n",
              "      <td>49.0</td>\n",
              "      <td>49.0</td>\n",
              "      <td>49.0</td>\n",
              "      <td>49.0</td>\n",
              "      <td>48.0</td>\n",
              "      <td>48.0</td>\n",
              "      <td>48.0</td>\n",
              "      <td>49.0</td>\n",
              "      <td>47.0</td>\n",
              "      <td>47.0</td>\n",
              "      <td>47.0</td>\n",
              "      <td>48.0</td>\n",
              "      <td>41.0</td>\n",
              "      <td>41.0</td>\n",
              "      <td>41.0</td>\n",
              "      <td>48.0</td>\n",
              "      <td>38.0</td>\n",
              "      <td>34.0</td>\n",
              "      <td>34.0</td>\n",
              "      <td>34.0</td>\n",
              "      <td>38.0</td>\n",
              "      <td>37.0</td>\n",
              "      <td>33.0</td>\n",
              "      <td>33.0</td>\n",
              "      <td>33.0</td>\n",
              "      <td>37.0</td>\n",
              "    </tr>\n",
              "    <tr>\n",
              "      <th>18206</th>\n",
              "      <td>45.0</td>\n",
              "      <td>45.0</td>\n",
              "      <td>45.0</td>\n",
              "      <td>47.0</td>\n",
              "      <td>46.0</td>\n",
              "      <td>46.0</td>\n",
              "      <td>46.0</td>\n",
              "      <td>47.0</td>\n",
              "      <td>47.0</td>\n",
              "      <td>47.0</td>\n",
              "      <td>47.0</td>\n",
              "      <td>48.0</td>\n",
              "      <td>47.0</td>\n",
              "      <td>47.0</td>\n",
              "      <td>47.0</td>\n",
              "      <td>48.0</td>\n",
              "      <td>48.0</td>\n",
              "      <td>48.0</td>\n",
              "      <td>48.0</td>\n",
              "      <td>48.0</td>\n",
              "      <td>48.0</td>\n",
              "      <td>48.0</td>\n",
              "      <td>49.0</td>\n",
              "      <td>49.0</td>\n",
              "      <td>49.0</td>\n",
              "      <td>48.0</td>\n",
              "    </tr>\n",
              "  </tbody>\n",
              "</table>\n",
              "<p>18207 rows × 26 columns</p>\n",
              "</div>"
            ],
            "text/plain": [
              "         ls    st    rs    lw    lf    cf  ...   rwb    lb   lcb    cb   rcb    rb\n",
              "0      90.0  90.0  90.0  94.0  95.0  95.0  ...  66.0  61.0  49.0  49.0  49.0  61.0\n",
              "1      94.0  94.0  94.0  92.0  93.0  93.0  ...  68.0  64.0  56.0  56.0  56.0  64.0\n",
              "2      87.0  87.0  87.0  92.0  92.0  92.0  ...  68.0  63.0  50.0  50.0  50.0  63.0\n",
              "3       NaN   NaN   NaN   NaN   NaN   NaN  ...   NaN   NaN   NaN   NaN   NaN   NaN\n",
              "4      85.0  85.0  85.0  90.0  90.0  90.0  ...  80.0  76.0  69.0  69.0  69.0  76.0\n",
              "...     ...   ...   ...   ...   ...   ...  ...   ...   ...   ...   ...   ...   ...\n",
              "18202  44.0  44.0  44.0  46.0  46.0  46.0  ...  46.0  47.0  47.0  47.0  47.0  47.0\n",
              "18203  47.0  47.0  47.0  41.0  44.0  44.0  ...  32.0  31.0  34.0  34.0  34.0  31.0\n",
              "18204  47.0  47.0  47.0  47.0  48.0  48.0  ...  36.0  35.0  30.0  30.0  30.0  35.0\n",
              "18205  49.0  49.0  49.0  49.0  48.0  48.0  ...  38.0  37.0  33.0  33.0  33.0  37.0\n",
              "18206  45.0  45.0  45.0  47.0  46.0  46.0  ...  48.0  48.0  49.0  49.0  49.0  48.0\n",
              "\n",
              "[18207 rows x 26 columns]"
            ]
          },
          "metadata": {
            "tags": []
          },
          "execution_count": 229
        }
      ]
    },
    {
      "cell_type": "code",
      "metadata": {
        "id": "Gede2P62lzT-"
      },
      "source": [
        "df_Fifa[['ls','st', 'rs', 'lw', 'lf', 'cf', 'rf', 'rw', 'lam', 'cam', 'ram', 'lm', 'lcm', 'cm', 'rcm', 'rm', 'lwb', 'ldm', 'cdm', 'rdm', 'rwb', 'lb', 'lcb', 'cb', 'rcb', 'rb']]"
      ],
      "execution_count": null,
      "outputs": []
    },
    {
      "cell_type": "code",
      "metadata": {
        "id": "Q3k07V5RlyJI"
      },
      "source": [
        "df_Fifa.info()"
      ],
      "execution_count": null,
      "outputs": []
    },
    {
      "cell_type": "code",
      "metadata": {
        "id": "r78mR8Aolwgt"
      },
      "source": [
        ""
      ],
      "execution_count": null,
      "outputs": []
    },
    {
      "cell_type": "code",
      "metadata": {
        "id": "x_TIx0sZgz9f"
      },
      "source": [
        "df_Fifa['ls']"
      ],
      "execution_count": null,
      "outputs": []
    },
    {
      "cell_type": "code",
      "metadata": {
        "id": "U_-7ey3VeQKT",
        "outputId": "fa811f6e-b408-47cf-9dfe-6ccf0543550a",
        "colab": {
          "base_uri": "https://localhost:8080/",
          "height": 419
        }
      },
      "source": [
        "df_ls = df_Fifa[['ls']]\n",
        "df_ls"
      ],
      "execution_count": null,
      "outputs": [
        {
          "output_type": "execute_result",
          "data": {
            "text/html": [
              "<div>\n",
              "<style scoped>\n",
              "    .dataframe tbody tr th:only-of-type {\n",
              "        vertical-align: middle;\n",
              "    }\n",
              "\n",
              "    .dataframe tbody tr th {\n",
              "        vertical-align: top;\n",
              "    }\n",
              "\n",
              "    .dataframe thead th {\n",
              "        text-align: right;\n",
              "    }\n",
              "</style>\n",
              "<table border=\"1\" class=\"dataframe\">\n",
              "  <thead>\n",
              "    <tr style=\"text-align: right;\">\n",
              "      <th></th>\n",
              "      <th>ls</th>\n",
              "    </tr>\n",
              "  </thead>\n",
              "  <tbody>\n",
              "    <tr>\n",
              "      <th>0</th>\n",
              "      <td>88+2</td>\n",
              "    </tr>\n",
              "    <tr>\n",
              "      <th>1</th>\n",
              "      <td>91+3</td>\n",
              "    </tr>\n",
              "    <tr>\n",
              "      <th>2</th>\n",
              "      <td>84+3</td>\n",
              "    </tr>\n",
              "    <tr>\n",
              "      <th>3</th>\n",
              "      <td>NaN</td>\n",
              "    </tr>\n",
              "    <tr>\n",
              "      <th>4</th>\n",
              "      <td>82+3</td>\n",
              "    </tr>\n",
              "    <tr>\n",
              "      <th>...</th>\n",
              "      <td>...</td>\n",
              "    </tr>\n",
              "    <tr>\n",
              "      <th>18202</th>\n",
              "      <td>42+2</td>\n",
              "    </tr>\n",
              "    <tr>\n",
              "      <th>18203</th>\n",
              "      <td>45+2</td>\n",
              "    </tr>\n",
              "    <tr>\n",
              "      <th>18204</th>\n",
              "      <td>45+2</td>\n",
              "    </tr>\n",
              "    <tr>\n",
              "      <th>18205</th>\n",
              "      <td>47+2</td>\n",
              "    </tr>\n",
              "    <tr>\n",
              "      <th>18206</th>\n",
              "      <td>43+2</td>\n",
              "    </tr>\n",
              "  </tbody>\n",
              "</table>\n",
              "<p>18207 rows × 1 columns</p>\n",
              "</div>"
            ],
            "text/plain": [
              "         ls\n",
              "0      88+2\n",
              "1      91+3\n",
              "2      84+3\n",
              "3       NaN\n",
              "4      82+3\n",
              "...     ...\n",
              "18202  42+2\n",
              "18203  45+2\n",
              "18204  45+2\n",
              "18205  47+2\n",
              "18206  43+2\n",
              "\n",
              "[18207 rows x 1 columns]"
            ]
          },
          "metadata": {
            "tags": []
          },
          "execution_count": 195
        }
      ]
    },
    {
      "cell_type": "code",
      "metadata": {
        "id": "6gLIO2L0CGwR"
      },
      "source": [
        "l_num = ['antes','depois']"
      ],
      "execution_count": null,
      "outputs": []
    },
    {
      "cell_type": "code",
      "metadata": {
        "id": "rKIQgS7yCJ7E",
        "outputId": "4af3a615-36ca-4273-e087-6fde57e13d5b",
        "colab": {
          "base_uri": "https://localhost:8080/",
          "height": 34
        }
      },
      "source": [
        "type(df_num)"
      ],
      "execution_count": null,
      "outputs": [
        {
          "output_type": "execute_result",
          "data": {
            "text/plain": [
              "list"
            ]
          },
          "metadata": {
            "tags": []
          },
          "execution_count": 232
        }
      ]
    },
    {
      "cell_type": "code",
      "metadata": {
        "id": "83Zt4eUNCMq_",
        "outputId": "b6e225f8-1b13-415d-8107-fded7b2612af",
        "colab": {
          "base_uri": "https://localhost:8080/",
          "height": 129
        }
      },
      "source": [
        "d_num = (columns:'antes','depois')"
      ],
      "execution_count": null,
      "outputs": [
        {
          "output_type": "error",
          "ename": "SyntaxError",
          "evalue": "ignored",
          "traceback": [
            "\u001b[0;36m  File \u001b[0;32m\"<ipython-input-242-bfccf3b9c22b>\"\u001b[0;36m, line \u001b[0;32m1\u001b[0m\n\u001b[0;31m    d_num = (columns:'antes','depois')\u001b[0m\n\u001b[0m                    ^\u001b[0m\n\u001b[0;31mSyntaxError\u001b[0m\u001b[0;31m:\u001b[0m invalid syntax\n"
          ]
        }
      ]
    },
    {
      "cell_type": "code",
      "metadata": {
        "id": "CTfpmTu8DHag"
      },
      "source": [
        ""
      ],
      "execution_count": null,
      "outputs": []
    },
    {
      "cell_type": "code",
      "metadata": {
        "id": "EleJ96iDDEpL",
        "outputId": "cd635597-be80-492b-efee-d5f0cca3a142",
        "colab": {
          "base_uri": "https://localhost:8080/",
          "height": 231
        }
      },
      "source": [
        "d_num = {columns :'antes','depois'}\n",
        "l_num['antes'] = df_Fifa['ls'].str.split('+', n=2, expand= True)[0]\n",
        "l_num['depois'] = df_Fifa['ls'].str.split('+', n=2, expand= True)[1]\n",
        "l_num['antes']=pd.to_numeric(l_num[0])\n",
        "l_num['depois']=pd.to_numeric(l_num[1])\n",
        "df_Fifa['ls']=l_num['antes']+l_num['depois']\n"
      ],
      "execution_count": null,
      "outputs": [
        {
          "output_type": "error",
          "ename": "TypeError",
          "evalue": "ignored",
          "traceback": [
            "\u001b[0;31m---------------------------------------------------------------------------\u001b[0m",
            "\u001b[0;31mTypeError\u001b[0m                                 Traceback (most recent call last)",
            "\u001b[0;32m<ipython-input-236-e3458e050fe0>\u001b[0m in \u001b[0;36m<module>\u001b[0;34m()\u001b[0m\n\u001b[1;32m      1\u001b[0m \u001b[0mdf_num\u001b[0m \u001b[0;34m=\u001b[0m \u001b[0;34m[\u001b[0m\u001b[0;34m[\u001b[0m\u001b[0;34m'antes'\u001b[0m\u001b[0;34m,\u001b[0m\u001b[0;34m'depois'\u001b[0m\u001b[0;34m]\u001b[0m\u001b[0;34m]\u001b[0m\u001b[0;34m\u001b[0m\u001b[0;34m\u001b[0m\u001b[0m\n\u001b[0;32m----> 2\u001b[0;31m \u001b[0ml_num\u001b[0m\u001b[0;34m[\u001b[0m\u001b[0;34m'antes'\u001b[0m\u001b[0;34m]\u001b[0m \u001b[0;34m=\u001b[0m \u001b[0mdf_Fifa\u001b[0m\u001b[0;34m[\u001b[0m\u001b[0;34m'ls'\u001b[0m\u001b[0;34m]\u001b[0m\u001b[0;34m.\u001b[0m\u001b[0mstr\u001b[0m\u001b[0;34m.\u001b[0m\u001b[0msplit\u001b[0m\u001b[0;34m(\u001b[0m\u001b[0;34m'+'\u001b[0m\u001b[0;34m,\u001b[0m \u001b[0mn\u001b[0m\u001b[0;34m=\u001b[0m\u001b[0;36m2\u001b[0m\u001b[0;34m,\u001b[0m \u001b[0mexpand\u001b[0m\u001b[0;34m=\u001b[0m \u001b[0;32mTrue\u001b[0m\u001b[0;34m)\u001b[0m\u001b[0;34m[\u001b[0m\u001b[0;36m0\u001b[0m\u001b[0;34m]\u001b[0m\u001b[0;34m\u001b[0m\u001b[0;34m\u001b[0m\u001b[0m\n\u001b[0m\u001b[1;32m      3\u001b[0m \u001b[0ml_num\u001b[0m\u001b[0;34m[\u001b[0m\u001b[0;34m'depois'\u001b[0m\u001b[0;34m]\u001b[0m \u001b[0;34m=\u001b[0m \u001b[0mdf_Fifa\u001b[0m\u001b[0;34m[\u001b[0m\u001b[0;34m'ls'\u001b[0m\u001b[0;34m]\u001b[0m\u001b[0;34m.\u001b[0m\u001b[0mstr\u001b[0m\u001b[0;34m.\u001b[0m\u001b[0msplit\u001b[0m\u001b[0;34m(\u001b[0m\u001b[0;34m'+'\u001b[0m\u001b[0;34m,\u001b[0m \u001b[0mn\u001b[0m\u001b[0;34m=\u001b[0m\u001b[0;36m2\u001b[0m\u001b[0;34m,\u001b[0m \u001b[0mexpand\u001b[0m\u001b[0;34m=\u001b[0m \u001b[0;32mTrue\u001b[0m\u001b[0;34m)\u001b[0m\u001b[0;34m[\u001b[0m\u001b[0;36m1\u001b[0m\u001b[0;34m]\u001b[0m\u001b[0;34m\u001b[0m\u001b[0;34m\u001b[0m\u001b[0m\n\u001b[1;32m      4\u001b[0m \u001b[0ml_num\u001b[0m\u001b[0;34m[\u001b[0m\u001b[0;34m'antes'\u001b[0m\u001b[0;34m]\u001b[0m\u001b[0;34m=\u001b[0m\u001b[0mpd\u001b[0m\u001b[0;34m.\u001b[0m\u001b[0mto_numeric\u001b[0m\u001b[0;34m(\u001b[0m\u001b[0ml_num\u001b[0m\u001b[0;34m[\u001b[0m\u001b[0;36m0\u001b[0m\u001b[0;34m]\u001b[0m\u001b[0;34m)\u001b[0m\u001b[0;34m\u001b[0m\u001b[0;34m\u001b[0m\u001b[0m\n\u001b[1;32m      5\u001b[0m \u001b[0ml_num\u001b[0m\u001b[0;34m[\u001b[0m\u001b[0;34m'depois'\u001b[0m\u001b[0;34m]\u001b[0m\u001b[0;34m=\u001b[0m\u001b[0mpd\u001b[0m\u001b[0;34m.\u001b[0m\u001b[0mto_numeric\u001b[0m\u001b[0;34m(\u001b[0m\u001b[0ml_num\u001b[0m\u001b[0;34m[\u001b[0m\u001b[0;36m1\u001b[0m\u001b[0;34m]\u001b[0m\u001b[0;34m)\u001b[0m\u001b[0;34m\u001b[0m\u001b[0;34m\u001b[0m\u001b[0m\n",
            "\u001b[0;31mTypeError\u001b[0m: list indices must be integers or slices, not str"
          ]
        }
      ]
    },
    {
      "cell_type": "code",
      "metadata": {
        "id": "EBh5oNTADDuJ",
        "outputId": "cd635597-be80-492b-efee-d5f0cca3a142",
        "colab": {
          "base_uri": "https://localhost:8080/",
          "height": 231
        }
      },
      "source": [
        "d_num = {columns :'antes','depois'}\n",
        "l_num['antes'] = df_Fifa['ls'].str.split('+', n=2, expand= True)[0]\n",
        "l_num['depois'] = df_Fifa['ls'].str.split('+', n=2, expand= True)[1]\n",
        "l_num['antes']=pd.to_numeric(l_num[0])\n",
        "l_num['depois']=pd.to_numeric(l_num[1])\n",
        "df_Fifa['ls']=l_num['antes']+l_num['depois']\n"
      ],
      "execution_count": null,
      "outputs": [
        {
          "output_type": "error",
          "ename": "TypeError",
          "evalue": "ignored",
          "traceback": [
            "\u001b[0;31m---------------------------------------------------------------------------\u001b[0m",
            "\u001b[0;31mTypeError\u001b[0m                                 Traceback (most recent call last)",
            "\u001b[0;32m<ipython-input-236-e3458e050fe0>\u001b[0m in \u001b[0;36m<module>\u001b[0;34m()\u001b[0m\n\u001b[1;32m      1\u001b[0m \u001b[0mdf_num\u001b[0m \u001b[0;34m=\u001b[0m \u001b[0;34m[\u001b[0m\u001b[0;34m[\u001b[0m\u001b[0;34m'antes'\u001b[0m\u001b[0;34m,\u001b[0m\u001b[0;34m'depois'\u001b[0m\u001b[0;34m]\u001b[0m\u001b[0;34m]\u001b[0m\u001b[0;34m\u001b[0m\u001b[0;34m\u001b[0m\u001b[0m\n\u001b[0;32m----> 2\u001b[0;31m \u001b[0ml_num\u001b[0m\u001b[0;34m[\u001b[0m\u001b[0;34m'antes'\u001b[0m\u001b[0;34m]\u001b[0m \u001b[0;34m=\u001b[0m \u001b[0mdf_Fifa\u001b[0m\u001b[0;34m[\u001b[0m\u001b[0;34m'ls'\u001b[0m\u001b[0;34m]\u001b[0m\u001b[0;34m.\u001b[0m\u001b[0mstr\u001b[0m\u001b[0;34m.\u001b[0m\u001b[0msplit\u001b[0m\u001b[0;34m(\u001b[0m\u001b[0;34m'+'\u001b[0m\u001b[0;34m,\u001b[0m \u001b[0mn\u001b[0m\u001b[0;34m=\u001b[0m\u001b[0;36m2\u001b[0m\u001b[0;34m,\u001b[0m \u001b[0mexpand\u001b[0m\u001b[0;34m=\u001b[0m \u001b[0;32mTrue\u001b[0m\u001b[0;34m)\u001b[0m\u001b[0;34m[\u001b[0m\u001b[0;36m0\u001b[0m\u001b[0;34m]\u001b[0m\u001b[0;34m\u001b[0m\u001b[0;34m\u001b[0m\u001b[0m\n\u001b[0m\u001b[1;32m      3\u001b[0m \u001b[0ml_num\u001b[0m\u001b[0;34m[\u001b[0m\u001b[0;34m'depois'\u001b[0m\u001b[0;34m]\u001b[0m \u001b[0;34m=\u001b[0m \u001b[0mdf_Fifa\u001b[0m\u001b[0;34m[\u001b[0m\u001b[0;34m'ls'\u001b[0m\u001b[0;34m]\u001b[0m\u001b[0;34m.\u001b[0m\u001b[0mstr\u001b[0m\u001b[0;34m.\u001b[0m\u001b[0msplit\u001b[0m\u001b[0;34m(\u001b[0m\u001b[0;34m'+'\u001b[0m\u001b[0;34m,\u001b[0m \u001b[0mn\u001b[0m\u001b[0;34m=\u001b[0m\u001b[0;36m2\u001b[0m\u001b[0;34m,\u001b[0m \u001b[0mexpand\u001b[0m\u001b[0;34m=\u001b[0m \u001b[0;32mTrue\u001b[0m\u001b[0;34m)\u001b[0m\u001b[0;34m[\u001b[0m\u001b[0;36m1\u001b[0m\u001b[0;34m]\u001b[0m\u001b[0;34m\u001b[0m\u001b[0;34m\u001b[0m\u001b[0m\n\u001b[1;32m      4\u001b[0m \u001b[0ml_num\u001b[0m\u001b[0;34m[\u001b[0m\u001b[0;34m'antes'\u001b[0m\u001b[0;34m]\u001b[0m\u001b[0;34m=\u001b[0m\u001b[0mpd\u001b[0m\u001b[0;34m.\u001b[0m\u001b[0mto_numeric\u001b[0m\u001b[0;34m(\u001b[0m\u001b[0ml_num\u001b[0m\u001b[0;34m[\u001b[0m\u001b[0;36m0\u001b[0m\u001b[0;34m]\u001b[0m\u001b[0;34m)\u001b[0m\u001b[0;34m\u001b[0m\u001b[0;34m\u001b[0m\u001b[0m\n\u001b[1;32m      5\u001b[0m \u001b[0ml_num\u001b[0m\u001b[0;34m[\u001b[0m\u001b[0;34m'depois'\u001b[0m\u001b[0;34m]\u001b[0m\u001b[0;34m=\u001b[0m\u001b[0mpd\u001b[0m\u001b[0;34m.\u001b[0m\u001b[0mto_numeric\u001b[0m\u001b[0;34m(\u001b[0m\u001b[0ml_num\u001b[0m\u001b[0;34m[\u001b[0m\u001b[0;36m1\u001b[0m\u001b[0;34m]\u001b[0m\u001b[0;34m)\u001b[0m\u001b[0;34m\u001b[0m\u001b[0;34m\u001b[0m\u001b[0m\n",
            "\u001b[0;31mTypeError\u001b[0m: list indices must be integers or slices, not str"
          ]
        }
      ]
    },
    {
      "cell_type": "code",
      "metadata": {
        "id": "eqWLXQqpecBQ",
        "outputId": "cd635597-be80-492b-efee-d5f0cca3a142",
        "colab": {
          "base_uri": "https://localhost:8080/",
          "height": 231
        }
      },
      "source": [
        "d_num = {columns :'antes','depois'}\n",
        "l_num['antes'] = df_Fifa['ls'].str.split('+', n=2, expand= True)[0]\n",
        "l_num['depois'] = df_Fifa['ls'].str.split('+', n=2, expand= True)[1]\n",
        "l_num['antes']=pd.to_numeric(l_num[0])\n",
        "l_num['depois']=pd.to_numeric(l_num[1])\n",
        "df_Fifa['ls']=l_num['antes']+l_num['depois']\n"
      ],
      "execution_count": null,
      "outputs": [
        {
          "output_type": "error",
          "ename": "TypeError",
          "evalue": "ignored",
          "traceback": [
            "\u001b[0;31m---------------------------------------------------------------------------\u001b[0m",
            "\u001b[0;31mTypeError\u001b[0m                                 Traceback (most recent call last)",
            "\u001b[0;32m<ipython-input-236-e3458e050fe0>\u001b[0m in \u001b[0;36m<module>\u001b[0;34m()\u001b[0m\n\u001b[1;32m      1\u001b[0m \u001b[0mdf_num\u001b[0m \u001b[0;34m=\u001b[0m \u001b[0;34m[\u001b[0m\u001b[0;34m[\u001b[0m\u001b[0;34m'antes'\u001b[0m\u001b[0;34m,\u001b[0m\u001b[0;34m'depois'\u001b[0m\u001b[0;34m]\u001b[0m\u001b[0;34m]\u001b[0m\u001b[0;34m\u001b[0m\u001b[0;34m\u001b[0m\u001b[0m\n\u001b[0;32m----> 2\u001b[0;31m \u001b[0ml_num\u001b[0m\u001b[0;34m[\u001b[0m\u001b[0;34m'antes'\u001b[0m\u001b[0;34m]\u001b[0m \u001b[0;34m=\u001b[0m \u001b[0mdf_Fifa\u001b[0m\u001b[0;34m[\u001b[0m\u001b[0;34m'ls'\u001b[0m\u001b[0;34m]\u001b[0m\u001b[0;34m.\u001b[0m\u001b[0mstr\u001b[0m\u001b[0;34m.\u001b[0m\u001b[0msplit\u001b[0m\u001b[0;34m(\u001b[0m\u001b[0;34m'+'\u001b[0m\u001b[0;34m,\u001b[0m \u001b[0mn\u001b[0m\u001b[0;34m=\u001b[0m\u001b[0;36m2\u001b[0m\u001b[0;34m,\u001b[0m \u001b[0mexpand\u001b[0m\u001b[0;34m=\u001b[0m \u001b[0;32mTrue\u001b[0m\u001b[0;34m)\u001b[0m\u001b[0;34m[\u001b[0m\u001b[0;36m0\u001b[0m\u001b[0;34m]\u001b[0m\u001b[0;34m\u001b[0m\u001b[0;34m\u001b[0m\u001b[0m\n\u001b[0m\u001b[1;32m      3\u001b[0m \u001b[0ml_num\u001b[0m\u001b[0;34m[\u001b[0m\u001b[0;34m'depois'\u001b[0m\u001b[0;34m]\u001b[0m \u001b[0;34m=\u001b[0m \u001b[0mdf_Fifa\u001b[0m\u001b[0;34m[\u001b[0m\u001b[0;34m'ls'\u001b[0m\u001b[0;34m]\u001b[0m\u001b[0;34m.\u001b[0m\u001b[0mstr\u001b[0m\u001b[0;34m.\u001b[0m\u001b[0msplit\u001b[0m\u001b[0;34m(\u001b[0m\u001b[0;34m'+'\u001b[0m\u001b[0;34m,\u001b[0m \u001b[0mn\u001b[0m\u001b[0;34m=\u001b[0m\u001b[0;36m2\u001b[0m\u001b[0;34m,\u001b[0m \u001b[0mexpand\u001b[0m\u001b[0;34m=\u001b[0m \u001b[0;32mTrue\u001b[0m\u001b[0;34m)\u001b[0m\u001b[0;34m[\u001b[0m\u001b[0;36m1\u001b[0m\u001b[0;34m]\u001b[0m\u001b[0;34m\u001b[0m\u001b[0;34m\u001b[0m\u001b[0m\n\u001b[1;32m      4\u001b[0m \u001b[0ml_num\u001b[0m\u001b[0;34m[\u001b[0m\u001b[0;34m'antes'\u001b[0m\u001b[0;34m]\u001b[0m\u001b[0;34m=\u001b[0m\u001b[0mpd\u001b[0m\u001b[0;34m.\u001b[0m\u001b[0mto_numeric\u001b[0m\u001b[0;34m(\u001b[0m\u001b[0ml_num\u001b[0m\u001b[0;34m[\u001b[0m\u001b[0;36m0\u001b[0m\u001b[0;34m]\u001b[0m\u001b[0;34m)\u001b[0m\u001b[0;34m\u001b[0m\u001b[0;34m\u001b[0m\u001b[0m\n\u001b[1;32m      5\u001b[0m \u001b[0ml_num\u001b[0m\u001b[0;34m[\u001b[0m\u001b[0;34m'depois'\u001b[0m\u001b[0;34m]\u001b[0m\u001b[0;34m=\u001b[0m\u001b[0mpd\u001b[0m\u001b[0;34m.\u001b[0m\u001b[0mto_numeric\u001b[0m\u001b[0;34m(\u001b[0m\u001b[0ml_num\u001b[0m\u001b[0;34m[\u001b[0m\u001b[0;36m1\u001b[0m\u001b[0;34m]\u001b[0m\u001b[0;34m)\u001b[0m\u001b[0;34m\u001b[0m\u001b[0;34m\u001b[0m\u001b[0m\n",
            "\u001b[0;31mTypeError\u001b[0m: list indices must be integers or slices, not str"
          ]
        }
      ]
    },
    {
      "cell_type": "code",
      "metadata": {
        "id": "gJESuLXE8phV",
        "outputId": "f7cad3e5-ba36-4d73-ee09-d28ec835aaba",
        "colab": {
          "base_uri": "https://localhost:8080/",
          "height": 408
        }
      },
      "source": [
        "df_Fifa['ls']"
      ],
      "execution_count": null,
      "outputs": [
        {
          "output_type": "execute_result",
          "data": {
            "text/plain": [
              "[0         88\n",
              " 1         91\n",
              " 2         84\n",
              " 3        NaN\n",
              " 4         82\n",
              "         ... \n",
              " 18202     42\n",
              " 18203     45\n",
              " 18204     45\n",
              " 18205     47\n",
              " 18206     43\n",
              " Name: 0, Length: 18207, dtype: object, 0          2\n",
              " 1          3\n",
              " 2          3\n",
              " 3        NaN\n",
              " 4          3\n",
              "         ... \n",
              " 18202      2\n",
              " 18203      2\n",
              " 18204      2\n",
              " 18205      2\n",
              " 18206      2\n",
              " Name: 1, Length: 18207, dtype: object]"
            ]
          },
          "metadata": {
            "tags": []
          },
          "execution_count": 214
        }
      ]
    },
    {
      "cell_type": "code",
      "metadata": {
        "id": "_VbdTFx7827b",
        "outputId": "5925296b-6b2f-4bac-fadd-6d427172d7ad",
        "colab": {
          "base_uri": "https://localhost:8080/",
          "height": 34
        }
      },
      "source": [
        "type(df_num)"
      ],
      "execution_count": null,
      "outputs": [
        {
          "output_type": "execute_result",
          "data": {
            "text/plain": [
              "list"
            ]
          },
          "metadata": {
            "tags": []
          },
          "execution_count": 215
        }
      ]
    },
    {
      "cell_type": "code",
      "metadata": {
        "id": "4-LFVCVS9s3e"
      },
      "source": [
        "df_num[0]=pd.to_numeric(df_num[0])\n",
        "df_num[1]=pd.to_numeric(df_num[1])"
      ],
      "execution_count": null,
      "outputs": []
    },
    {
      "cell_type": "code",
      "metadata": {
        "id": "cuMAr6v_9H7E",
        "outputId": "3df15a99-5d39-4e49-fcad-38ff5b151a8e",
        "colab": {
          "base_uri": "https://localhost:8080/",
          "height": 221
        }
      },
      "source": [
        "df_num[0]+df_num[1]"
      ],
      "execution_count": null,
      "outputs": [
        {
          "output_type": "execute_result",
          "data": {
            "text/plain": [
              "0        90.0\n",
              "1        94.0\n",
              "2        87.0\n",
              "3         NaN\n",
              "4        85.0\n",
              "         ... \n",
              "18202    44.0\n",
              "18203    47.0\n",
              "18204    47.0\n",
              "18205    49.0\n",
              "18206    45.0\n",
              "Length: 18207, dtype: float64"
            ]
          },
          "metadata": {
            "tags": []
          },
          "execution_count": 222
        }
      ]
    },
    {
      "cell_type": "code",
      "metadata": {
        "id": "CpV25I3PjBr6",
        "outputId": "b3f55e60-d811-4290-d487-0315714c7395",
        "colab": {
          "base_uri": "https://localhost:8080/",
          "height": 221
        }
      },
      "source": [
        "df_Fifa['ls']=df_num[0]+df_num[1]\n",
        "df_Fifa['ls']"
      ],
      "execution_count": null,
      "outputs": [
        {
          "output_type": "execute_result",
          "data": {
            "text/plain": [
              "0        90.0\n",
              "1        94.0\n",
              "2        87.0\n",
              "3         NaN\n",
              "4        85.0\n",
              "         ... \n",
              "18202    44.0\n",
              "18203    47.0\n",
              "18204    47.0\n",
              "18205    49.0\n",
              "18206    45.0\n",
              "Name: ls, Length: 18207, dtype: float64"
            ]
          },
          "metadata": {
            "tags": []
          },
          "execution_count": 224
        }
      ]
    },
    {
      "cell_type": "code",
      "metadata": {
        "id": "5gzIHG9FeeQF"
      },
      "source": [
        "df_ls['antes'] = df_ls['ls'].str.split('+', n=2, expand= True)[0]\n",
        "df_ls['antes']\n",
        "df_ls['depois'] = df_ls['ls'].str.split('+', n=2, expand= True)[1]\n",
        "df_ls['depois']"
      ],
      "execution_count": null,
      "outputs": []
    },
    {
      "cell_type": "code",
      "metadata": {
        "id": "9yr64JtIjNXG"
      },
      "source": [
        "df_ls.info()"
      ],
      "execution_count": null,
      "outputs": []
    },
    {
      "cell_type": "code",
      "metadata": {
        "id": "J2kFUIXgjSRP"
      },
      "source": [
        "df_ls['antes']=pd.to_numeric(df_ls['antes'])"
      ],
      "execution_count": null,
      "outputs": []
    },
    {
      "cell_type": "code",
      "metadata": {
        "id": "-WOcJotIjWZc"
      },
      "source": [
        "df_ls.info()"
      ],
      "execution_count": null,
      "outputs": []
    },
    {
      "cell_type": "code",
      "metadata": {
        "id": "roP9Caoqi4wL"
      },
      "source": [
        "df_ls['depois']=pd.to_numeric(df_ls['depois'])"
      ],
      "execution_count": null,
      "outputs": []
    },
    {
      "cell_type": "code",
      "metadata": {
        "id": "s99JGC3sjfJR"
      },
      "source": [
        "df_ls.info()"
      ],
      "execution_count": null,
      "outputs": []
    },
    {
      "cell_type": "code",
      "metadata": {
        "id": "E5yGKWf4Y31N"
      },
      "source": [
        "df_ls['ls_float'] = df_ls['antes'] + df_ls['depois']"
      ],
      "execution_count": null,
      "outputs": []
    },
    {
      "cell_type": "code",
      "metadata": {
        "id": "S3Uu7lVKjzQ3"
      },
      "source": [
        "df_ls"
      ],
      "execution_count": null,
      "outputs": []
    },
    {
      "cell_type": "code",
      "metadata": {
        "id": "LcvKLoV_j7Jl"
      },
      "source": [
        "df_Fifa['ls'] = df_ls['ls_float']"
      ],
      "execution_count": null,
      "outputs": []
    },
    {
      "cell_type": "code",
      "metadata": {
        "id": "jlbj12DQcr23"
      },
      "source": [
        "df_Fifa['ls']"
      ],
      "execution_count": null,
      "outputs": []
    },
    {
      "cell_type": "code",
      "metadata": {
        "id": "uEboEmtyAXr4"
      },
      "source": [
        "# Exercício 9\n",
        "# 5.a) Normalize os nomes das colunas, ou seja, renomeie o nome das colunas para minúsculo.\n",
        "# 5.b) Há Missing values nos dados? \n",
        "# 5.c) Se sim, qual sua proposta (proposta do grupo) para tratar esses Missing values?"
      ],
      "execution_count": null,
      "outputs": []
    },
    {
      "cell_type": "code",
      "metadata": {
        "id": "FwX6DzueOHdC"
      },
      "source": [
        "# Resolução do item 5.a) de 2 maneiras:\n",
        "# Modo 1 (Jeito do Nélio):\n",
        "nome_colunas = df_Fifa.columns\n",
        "df_Fifa.columns = [col.lower() for col in nome_colunas]\n",
        "df_Fifa.columns"
      ],
      "execution_count": null,
      "outputs": []
    },
    {
      "cell_type": "code",
      "metadata": {
        "id": "8iHrhMw5OUVQ"
      },
      "source": [
        "# Modo 2 (jeito do Cristiano):\n",
        "df_Fifa_lower = df_Fifa.copy()\n",
        "df_Fifa_lower = df_Fifa_lower.rename(columns=str.lower)\n",
        "df_Fifa_lower"
      ],
      "execution_count": null,
      "outputs": []
    },
    {
      "cell_type": "code",
      "metadata": {
        "id": "Dh1Tb4FKKECD"
      },
      "source": [
        "# Exercício 9\n",
        "# 6.a) Há Missing values nos dados? \n",
        "# 6.b) Se sim, qual sua proposta (proposta do grupo) para tratar esses Missing values?\n",
        "\n",
        "df_Fifa.info()"
      ],
      "execution_count": null,
      "outputs": []
    },
    {
      "cell_type": "code",
      "metadata": {
        "id": "lMU-PnPSKmTR"
      },
      "source": [
        "# Sim, há Missing values pois ao rodar df.info() várias colunas indicam valores non-null menores que o número total de linhas (18207 linhas).\n",
        "\n",
        "df_Fifa.isna().sum()"
      ],
      "execution_count": null,
      "outputs": []
    },
    {
      "cell_type": "code",
      "metadata": {
        "id": "TC4bUq02MgjH"
      },
      "source": [
        "df_Fifa.isnull().sum()"
      ],
      "execution_count": null,
      "outputs": []
    },
    {
      "cell_type": "code",
      "metadata": {
        "id": "nTwcdcOgKa2E"
      },
      "source": [
        "# 7. Qual a distribuição do número de jogadores por países? Apresente uma tabela com a distribuição.\n",
        "df_Fifa.head()"
      ],
      "execution_count": null,
      "outputs": []
    },
    {
      "cell_type": "code",
      "metadata": {
        "id": "9E72M7oBIYdh"
      },
      "source": [
        "df_Fifa.groupby('nationality')['nationality'].count()       # vide abaixo value_counts (tb resulta em uma série) e Counter (resulta em um dicionário)"
      ],
      "execution_count": null,
      "outputs": []
    },
    {
      "cell_type": "code",
      "metadata": {
        "id": "j511B6q-J3ET"
      },
      "source": [
        "type(_121)"
      ],
      "execution_count": null,
      "outputs": []
    },
    {
      "cell_type": "code",
      "metadata": {
        "id": "FrAa4N-_TyGD"
      },
      "source": [
        "df_Fifa.value_counts(['nationality'])     # igual a: df_Fifa['nationality'].value_counts()"
      ],
      "execution_count": null,
      "outputs": []
    },
    {
      "cell_type": "code",
      "metadata": {
        "id": "216rkPyiLR4Q"
      },
      "source": [
        "type(_6)"
      ],
      "execution_count": null,
      "outputs": []
    },
    {
      "cell_type": "code",
      "metadata": {
        "id": "9-skPGURL5Rh"
      },
      "source": [
        "# Dúvida: como transformar pd series em tabela como feito abaixo com o Counter?\n",
        "\n",
        "# Descobri!!!\n",
        "# pega o index e o values da series e aplica o pd.Dataframe"
      ],
      "execution_count": null,
      "outputs": []
    },
    {
      "cell_type": "code",
      "metadata": {
        "id": "WDV6eN3mVHAq"
      },
      "source": [
        "from collections import Counter\n",
        "d_nationality = Counter(df_Fifa['Nationality'])     # Counter retorna um dicionário"
      ],
      "execution_count": null,
      "outputs": []
    },
    {
      "cell_type": "code",
      "metadata": {
        "id": "SeoI1y6MdPJo"
      },
      "source": [
        "d_nationality"
      ],
      "execution_count": null,
      "outputs": []
    },
    {
      "cell_type": "code",
      "metadata": {
        "id": "0W8Ewyg9fj6N"
      },
      "source": [
        "d_nationality.keys()"
      ],
      "execution_count": null,
      "outputs": []
    },
    {
      "cell_type": "code",
      "metadata": {
        "id": "if0qkZPpmwmC"
      },
      "source": [
        "d_nationality.values()"
      ],
      "execution_count": null,
      "outputs": []
    },
    {
      "cell_type": "code",
      "metadata": {
        "id": "y6IGuyPlduLO"
      },
      "source": [
        "df_nationality = pd.DataFrame({'Nome do País': d_nationality.keys(), 'Número de Jogadores' : d_nationality.values()})"
      ],
      "execution_count": null,
      "outputs": []
    },
    {
      "cell_type": "code",
      "metadata": {
        "id": "Oc28gJgoj7Bs"
      },
      "source": [
        "df_nationality        # não está em ordem decrescente de qtde de jogadores"
      ],
      "execution_count": null,
      "outputs": []
    },
    {
      "cell_type": "code",
      "metadata": {
        "id": "UYuqdICmkz2M"
      },
      "source": [
        "df_nationality.sort_values(by=['Número de Jogadores'], ascending= False, inplace= True, ignore_index= True)"
      ],
      "execution_count": null,
      "outputs": []
    },
    {
      "cell_type": "code",
      "metadata": {
        "id": "ZwafI5o2nsnZ"
      },
      "source": [
        "df_nationality"
      ],
      "execution_count": null,
      "outputs": []
    },
    {
      "cell_type": "code",
      "metadata": {
        "id": "VkFRH8uhrBoc"
      },
      "source": [
        "# 7. Qual a média de idade dos jogadores por países (variável/atributo 'Nacionality')\n",
        "# Resolução de 2 jeitos"
      ],
      "execution_count": null,
      "outputs": []
    },
    {
      "cell_type": "code",
      "metadata": {
        "id": "nVBHHPxy2GjT"
      },
      "source": [
        "df_nat_age = df_Fifa[['Nationality','Age']]"
      ],
      "execution_count": null,
      "outputs": []
    },
    {
      "cell_type": "code",
      "metadata": {
        "id": "C3eh0cks6Zrf"
      },
      "source": [
        "df_nat_age"
      ],
      "execution_count": null,
      "outputs": []
    },
    {
      "cell_type": "code",
      "metadata": {
        "id": "B1gm8YQr6hFE"
      },
      "source": [
        "df_nat_age.shape[0]"
      ],
      "execution_count": null,
      "outputs": []
    },
    {
      "cell_type": "code",
      "metadata": {
        "id": "vUcRBDAV-wQF"
      },
      "source": [
        "df_nationality.shape[0]"
      ],
      "execution_count": null,
      "outputs": []
    },
    {
      "cell_type": "code",
      "metadata": {
        "id": "wzhnx4PA-zxu"
      },
      "source": [
        "df_nat_md_age = pd.DataFrame({'Nome do País': d_nationality.keys(), 'Número de Jogadores' : d_nationality.values(), 'Soma das idades': 0})"
      ],
      "execution_count": null,
      "outputs": []
    },
    {
      "cell_type": "code",
      "metadata": {
        "id": "aOqO20TSCk6L"
      },
      "source": [
        "df_nat_md_age"
      ],
      "execution_count": null,
      "outputs": []
    },
    {
      "cell_type": "code",
      "metadata": {
        "id": "cZbbpDQeo4uF"
      },
      "source": [
        "\n",
        "# Calculando a média de idade dos jogadores por país \"na unha\" (sem usar 'groupby'):\n",
        "\n",
        "# df_nat_age.shape[0]       # 18207\n",
        "# df_nationality2.shape[0]   # 164\n",
        "\n",
        "df_nationality2 = pd.DataFrame({'Nome do País': d_nationality.keys(), 'Número de Jogadores' : d_nationality.values(), 'Soma das idades': 0})\n",
        "linha_1 = 0\n",
        "while linha_1 < df_nationality2.shape[0]: # 164\n",
        "  soma_age = 0\n",
        "  linha_2 = 0\n",
        "  while linha_2 < df_nat_age.shape[0]:  # 18207\n",
        "    if df_nat_age.iat[linha_2,0] == df_nationality2.iat[linha_1,0]:\n",
        "      soma_age = soma_age + df_nat_age.iat[linha_2,1]\n",
        "    linha_2 = linha_2 + 1\n",
        "  df_nationality2.iat[linha_1,2] = soma_age \n",
        "linha_1 = linha_1 + 1\n",
        "  "
      ],
      "execution_count": null,
      "outputs": []
    },
    {
      "cell_type": "code",
      "metadata": {
        "id": "RHAcpktpR84g"
      },
      "source": [
        "df_nationality2"
      ],
      "execution_count": null,
      "outputs": []
    },
    {
      "cell_type": "code",
      "metadata": {
        "id": "IVp0vte-Or7O"
      },
      "source": [
        "df_nationality2['Nome do País'] == 'Afghanistan'"
      ],
      "execution_count": null,
      "outputs": []
    },
    {
      "cell_type": "code",
      "metadata": {
        "id": "4zjF0bCoPu9v"
      },
      "source": [
        "df_nationality2[_131]"
      ],
      "execution_count": null,
      "outputs": []
    },
    {
      "cell_type": "code",
      "metadata": {
        "id": "x6NsWFKEpWz9"
      },
      "source": [
        "df_nationality2['Média Idade por país'] = round(df_nationality2['Soma das idades'] / df_nationality2['Número de Jogadores'], 2)"
      ],
      "execution_count": null,
      "outputs": []
    },
    {
      "cell_type": "code",
      "metadata": {
        "id": "JlGeMditwXRg"
      },
      "source": [
        "df_nationality2"
      ],
      "execution_count": null,
      "outputs": []
    },
    {
      "cell_type": "code",
      "metadata": {
        "id": "19NRDAXqqWRI"
      },
      "source": [
        "df_nationality2.sort_values(by=['Número de Jogadores'], ascending= False, inplace= True, ignore_index= True)"
      ],
      "execution_count": null,
      "outputs": []
    },
    {
      "cell_type": "code",
      "metadata": {
        "id": "Gk5ksFBjqfkc"
      },
      "source": [
        "df_nationality2"
      ],
      "execution_count": null,
      "outputs": []
    },
    {
      "cell_type": "code",
      "metadata": {
        "id": "64uiYe9ANsBD"
      },
      "source": [
        "# Calculando o mesmo exercício 9\n",
        "# 8. média de idade dos jogadores por país, mas usando o groupby\n",
        "nat_age_soma = df_Fifa.groupby('Nationality')['Age'].sum()"
      ],
      "execution_count": null,
      "outputs": []
    },
    {
      "cell_type": "code",
      "metadata": {
        "id": "TtEIveA7RRX3"
      },
      "source": [
        "nat_age_soma.index"
      ],
      "execution_count": null,
      "outputs": []
    },
    {
      "cell_type": "code",
      "metadata": {
        "id": "QyxPziXWRnu_"
      },
      "source": [
        "nat_age_soma.values"
      ],
      "execution_count": null,
      "outputs": []
    },
    {
      "cell_type": "code",
      "metadata": {
        "id": "PZfsrbGsSVrX"
      },
      "source": [
        "nat_nat_numjog = df_Fifa.groupby('Nationality')['Nationality'].count()"
      ],
      "execution_count": null,
      "outputs": []
    },
    {
      "cell_type": "code",
      "metadata": {
        "id": "CzNcWpr6SgFw"
      },
      "source": [
        "nat_nat_numjog.index"
      ],
      "execution_count": null,
      "outputs": []
    },
    {
      "cell_type": "code",
      "metadata": {
        "id": "KFtZT5L7SpCf"
      },
      "source": [
        "nat_nat_numjog.values"
      ],
      "execution_count": null,
      "outputs": []
    },
    {
      "cell_type": "code",
      "metadata": {
        "id": "u78L80wFSsrj"
      },
      "source": [
        "nat_numjog_somaidade = pd.DataFrame({'Nationality': nat_nat_numjog.index, 'Num Jogadores': nat_nat_numjog.values, 'Somatória Idade': nat_age_soma.values})"
      ],
      "execution_count": null,
      "outputs": []
    },
    {
      "cell_type": "code",
      "metadata": {
        "id": "McMnNOYaUFnO"
      },
      "source": [
        "nat_numjog_somaidade"
      ],
      "execution_count": null,
      "outputs": []
    },
    {
      "cell_type": "code",
      "metadata": {
        "id": "cYpxAbE_UIbv"
      },
      "source": [
        "nat_numjog_somaidade['Média Idade dos jogadores por país'] = nat_numjog_somaidade['Somatória Idade'] / nat_numjog_somaidade['Num Jogadores']"
      ],
      "execution_count": null,
      "outputs": []
    },
    {
      "cell_type": "code",
      "metadata": {
        "id": "td8jz5_BUca_"
      },
      "source": [
        "nat_numjog_somaidade"
      ],
      "execution_count": null,
      "outputs": []
    },
    {
      "cell_type": "code",
      "metadata": {
        "id": "K-RD66KyUrnT"
      },
      "source": [
        ""
      ],
      "execution_count": null,
      "outputs": []
    },
    {
      "cell_type": "code",
      "metadata": {
        "id": "pG-RXABiN0aI"
      },
      "source": [
        "# df_Fifa.groupby('nationality')['nationality'].count()\n",
        "# nationality\n",
        "# Afghanistan      4\n",
        "\n",
        "# df_Fifa.groupby('nationality')['age'].sum()\n",
        "# nationality\n",
        "# Afghanistan      90\n",
        "\n",
        "\n"
      ],
      "execution_count": null,
      "outputs": []
    },
    {
      "cell_type": "code",
      "metadata": {
        "id": "nqbLVcPfQTQe"
      },
      "source": [
        "# 9. Qual o número de jogadores por idade?\n",
        "\n",
        "df_Fifa.groupby('Age')['Age'].count()"
      ],
      "execution_count": null,
      "outputs": []
    },
    {
      "cell_type": "code",
      "metadata": {
        "id": "c8-ONyOxU4UV"
      },
      "source": [
        "df_numjog_idade = pd.DataFrame({'Idade':(df_Fifa.groupby('Age')['Age'].count()).index, 'Num Jogadores':(df_Fifa.groupby('Age')['Age'].count()).values})\n",
        "df_numjog_idade"
      ],
      "execution_count": null,
      "outputs": []
    },
    {
      "cell_type": "code",
      "metadata": {
        "id": "OwXRIcPLVw0I"
      },
      "source": [
        "# 10. Quantos jogadores possuem cada clube?\n",
        "\n",
        "df_Fifa.head(1)"
      ],
      "execution_count": null,
      "outputs": []
    },
    {
      "cell_type": "code",
      "metadata": {
        "id": "tKHVnVzMWcnn"
      },
      "source": [
        "df_Fifa['Club']"
      ],
      "execution_count": null,
      "outputs": []
    },
    {
      "cell_type": "code",
      "metadata": {
        "id": "4Db-h1YwW8WU"
      },
      "source": [
        "_160.unique()"
      ],
      "execution_count": null,
      "outputs": []
    },
    {
      "cell_type": "code",
      "metadata": {
        "id": "Z_M6KFnnXEiy"
      },
      "source": [
        "_162.size"
      ],
      "execution_count": null,
      "outputs": []
    },
    {
      "cell_type": "code",
      "metadata": {
        "id": "E-2L_RgNWIKs"
      },
      "source": [
        "df_Fifa.groupby('Club')['Club'].count()     # retorna valores \"not NaN\" => 651"
      ],
      "execution_count": null,
      "outputs": []
    },
    {
      "cell_type": "code",
      "metadata": {
        "id": "nESB8znYYnps"
      },
      "source": [
        "_172.index"
      ],
      "execution_count": null,
      "outputs": []
    },
    {
      "cell_type": "code",
      "metadata": {
        "id": "ReMu0I2vYrXN"
      },
      "source": [
        "_173.unique()"
      ],
      "execution_count": null,
      "outputs": []
    },
    {
      "cell_type": "code",
      "metadata": {
        "id": "Ne8j9RNbWA5J"
      },
      "source": [
        "_158.size"
      ],
      "execution_count": null,
      "outputs": []
    },
    {
      "cell_type": "code",
      "metadata": {
        "id": "SMkZhJuEZBgn"
      },
      "source": [
        "l1 = pd.Series((df_Fifa.groupby('Club')['Club'].count()).index)"
      ],
      "execution_count": null,
      "outputs": []
    },
    {
      "cell_type": "code",
      "metadata": {
        "id": "ZFuJJ7TYY8Au"
      },
      "source": [
        "l2 = pd.Series((df_Fifa['Club'].unique()))      # retorna inclusive valores NaN => 652"
      ],
      "execution_count": null,
      "outputs": []
    },
    {
      "cell_type": "code",
      "metadata": {
        "id": "RLmKasU-YJqK"
      },
      "source": [
        "l1"
      ],
      "execution_count": null,
      "outputs": []
    },
    {
      "cell_type": "code",
      "metadata": {
        "id": "orT9Q65XYBPq"
      },
      "source": [
        "l2"
      ],
      "execution_count": null,
      "outputs": []
    },
    {
      "cell_type": "code",
      "metadata": {
        "id": "uH4XJ5Z8eddD"
      },
      "source": [
        "(df_Fifa['Club'].unique()).size"
      ],
      "execution_count": null,
      "outputs": []
    },
    {
      "cell_type": "code",
      "metadata": {
        "id": "fAdkbo3Xv43l"
      },
      "source": [
        "l2[l2.isnull()]"
      ],
      "execution_count": null,
      "outputs": []
    },
    {
      "cell_type": "code",
      "metadata": {
        "id": "t5xzUbV_wPgh"
      },
      "source": [
        "l2[85]"
      ],
      "execution_count": null,
      "outputs": []
    },
    {
      "cell_type": "code",
      "metadata": {
        "id": "E8WNceE4hcAG"
      },
      "source": [
        "# Resposta do Exercício 9.10)\n",
        "# 10. Quantos jogadores possuem cada clube? São 651 clubes com 17966 jogadores (241 estão sem clube)\n",
        "df_club_numjog = pd.DataFrame({'Club': (df_Fifa.groupby('Club')['Club'].count()).index, 'Num Jogadores': (df_Fifa.groupby('Club')['Club'].count()).values})"
      ],
      "execution_count": null,
      "outputs": []
    },
    {
      "cell_type": "code",
      "metadata": {
        "id": "V5WTR8IMkXZQ"
      },
      "source": [
        "df_club_numjog"
      ],
      "execution_count": null,
      "outputs": []
    },
    {
      "cell_type": "code",
      "metadata": {
        "id": "CV7yI3HXklTr"
      },
      "source": [
        "df_club_numjog['Num Jogadores'].sum()     \n",
        "# 18207 => qtde de jogadores\n",
        "# 17966 => qtde de jogadores com 'club' not NaN\n",
        "# 18207 - 17966 = 241 => qtde de jogadores com 'club' NaN"
      ],
      "execution_count": null,
      "outputs": []
    },
    {
      "cell_type": "code",
      "metadata": {
        "id": "pdojKmrEkwmr"
      },
      "source": [
        "df_Fifa['Club'].isnull()"
      ],
      "execution_count": null,
      "outputs": []
    },
    {
      "cell_type": "code",
      "metadata": {
        "id": "znTwnGjKlANp"
      },
      "source": [
        "df_Fifa[df_Fifa['Club'].isnull()]"
      ],
      "execution_count": null,
      "outputs": []
    },
    {
      "cell_type": "code",
      "metadata": {
        "id": "MPnyWTqnlS2t"
      },
      "source": [
        "df_Fifa['Club Logo'].isna()"
      ],
      "execution_count": null,
      "outputs": []
    },
    {
      "cell_type": "code",
      "metadata": {
        "id": "yNJZABDvodF6"
      },
      "source": [
        "df_Fifa[df_Fifa['Club Logo'].isna()]"
      ],
      "execution_count": null,
      "outputs": []
    },
    {
      "cell_type": "code",
      "metadata": {
        "id": "D5TutMiKopBr"
      },
      "source": [
        "df_Fifa[df_Fifa['Flag'].isna()]"
      ],
      "execution_count": null,
      "outputs": []
    },
    {
      "cell_type": "code",
      "metadata": {
        "id": "U-7csZkbnrYh"
      },
      "source": [
        "'https://cdn.sofifa.org/flags/52.png' isin"
      ],
      "execution_count": null,
      "outputs": []
    },
    {
      "cell_type": "code",
      "metadata": {
        "id": "y_e8Sg_EpNHI"
      },
      "source": [
        "a_club_logo = df_Fifa['Club Logo'].unique()"
      ],
      "execution_count": null,
      "outputs": []
    },
    {
      "cell_type": "code",
      "metadata": {
        "id": "aGdp1IZzprj5"
      },
      "source": [
        "type(a_club_logo)"
      ],
      "execution_count": null,
      "outputs": []
    },
    {
      "cell_type": "code",
      "metadata": {
        "id": "NjrzLdrypqDO"
      },
      "source": [
        "len(a_club_logo)"
      ],
      "execution_count": null,
      "outputs": []
    },
    {
      "cell_type": "code",
      "metadata": {
        "id": "k8q7It-wqjLo"
      },
      "source": [
        "a_club_logo"
      ],
      "execution_count": null,
      "outputs": []
    },
    {
      "cell_type": "code",
      "metadata": {
        "id": "xHwQqaMvpQsg"
      },
      "source": [
        "a_flag = df_Fifa['Flag'].unique()"
      ],
      "execution_count": null,
      "outputs": []
    },
    {
      "cell_type": "code",
      "metadata": {
        "id": "zuSlmndkqXpS"
      },
      "source": [
        ""
      ],
      "execution_count": null,
      "outputs": []
    },
    {
      "cell_type": "code",
      "metadata": {
        "id": "uO0UAWcZp-IN"
      },
      "source": [
        "type(a_flag)"
      ],
      "execution_count": null,
      "outputs": []
    },
    {
      "cell_type": "code",
      "metadata": {
        "id": "Td5ahUKxqA8_"
      },
      "source": [
        "len(a_flag)"
      ],
      "execution_count": null,
      "outputs": []
    },
    {
      "cell_type": "code",
      "metadata": {
        "id": "PBrJCn6CqEZV"
      },
      "source": [
        "a_flag"
      ],
      "execution_count": null,
      "outputs": []
    },
    {
      "cell_type": "code",
      "metadata": {
        "id": "sXEwEp31qaA7"
      },
      "source": [
        "df_fccl = df_Fifa[['Flag','Club','Club Logo']]"
      ],
      "execution_count": null,
      "outputs": []
    },
    {
      "cell_type": "code",
      "metadata": {
        "id": "2ZaroHVBsVMc"
      },
      "source": [
        "df_fccl[df_fccl['club logo'] == 'https://cdn.sofifa.org/flags/52.png']"
      ],
      "execution_count": null,
      "outputs": []
    },
    {
      "cell_type": "code",
      "metadata": {
        "id": "CivUpH2nsxlh"
      },
      "source": [
        "df_Fifa[df_Fifa['Club'].isnull()].head()"
      ],
      "execution_count": null,
      "outputs": []
    },
    {
      "cell_type": "code",
      "metadata": {
        "id": "lmFRVHzltH8m"
      },
      "source": [
        "# 10. Qual a média de idade por clube?\n",
        "\n",
        "df_Fifa.groupby('Club')['Age'].sum()"
      ],
      "execution_count": null,
      "outputs": []
    },
    {
      "cell_type": "code",
      "metadata": {
        "id": "c461uH2qyT6K"
      },
      "source": [
        "# Dúvida: não consigo fazer divisão entre ndarrays?\n",
        "(df_Fifa.groupby('Club')['Age'].sum()).values() / (df_Fifa.groupby('Club')['Club'].count()).values()"
      ],
      "execution_count": null,
      "outputs": []
    },
    {
      "cell_type": "code",
      "metadata": {
        "id": "e7XyZ6C10AJb"
      },
      "source": [
        "df_media_idade_por_clube = pd.DataFrame({'Club': (df_Fifa.groupby('Club')['Age'].sum()).index,\n",
        "                                         'Somatório Idade': (df_Fifa.groupby('Club')['Age'].sum()).values, \n",
        "                                         'Num Jogadores': (df_Fifa.groupby('Club')['Club'].count()).values})"
      ],
      "execution_count": null,
      "outputs": []
    },
    {
      "cell_type": "code",
      "metadata": {
        "id": "Fh-6ZUVp1-JQ"
      },
      "source": [
        "df_media_idade_por_clube.head()"
      ],
      "execution_count": null,
      "outputs": []
    },
    {
      "cell_type": "code",
      "metadata": {
        "id": "GG63egkI1eQC"
      },
      "source": [
        "df_media_idade_por_clube['Média de idade por Clube']= df_media_idade_por_clube['Somatório Idade'] / df_media_idade_por_clube['Num Jogadores']"
      ],
      "execution_count": null,
      "outputs": []
    },
    {
      "cell_type": "code",
      "metadata": {
        "id": "XeoqsFLB15HX"
      },
      "source": [
        "df_media_idade_por_clube"
      ],
      "execution_count": null,
      "outputs": []
    },
    {
      "cell_type": "code",
      "metadata": {
        "id": "z3R3CqtVxrl9"
      },
      "source": [
        "# 11. Qual a média de salário por país?   # wage"
      ],
      "execution_count": null,
      "outputs": []
    },
    {
      "cell_type": "code",
      "metadata": {
        "id": "7pp-SdU33Bou"
      },
      "source": [
        "df_Fifa.columns"
      ],
      "execution_count": null,
      "outputs": []
    },
    {
      "cell_type": "code",
      "metadata": {
        "id": "2QV9Y0PF4cgE"
      },
      "source": [
        "df_Fifa['Wage']"
      ],
      "execution_count": null,
      "outputs": []
    },
    {
      "cell_type": "code",
      "metadata": {
        "id": "AI2zTXle4gB9"
      },
      "source": [
        "# eliminando € e convertendo M e K na variável 'wage'\n",
        "\n",
        "df_Fifa2 = df_Fifa.copy()\n",
        "\n",
        "def elimina_caracter(moeda):\n",
        "  moeda = moeda.replace(\"€\",\"\").replace(\"M\",\"000000\").replace(\"K\",\"000\")\n",
        "  return moeda\n",
        "\n",
        "df_Fifa2['wage'] = df_Fifa2['wage'].apply(elimina_caracter)\n",
        "\n",
        "df_Fifa2['wage'] = pd.to_numeric(df_Fifa2['wage'])\n",
        "\n",
        "df_Fifa2['wage']"
      ],
      "execution_count": null,
      "outputs": []
    },
    {
      "cell_type": "code",
      "metadata": {
        "id": "jJIZCY7D4sFK"
      },
      "source": [
        "# Dúvida: sintaxe\n",
        "'''\n",
        "* Os componentes do comando Groupby()\n",
        "    * **Grouping_Column** - Coluna Categórica pelo qual os dados serão agrupados;\n",
        "    * **Aggregating_Column** - Coluna numérica cujos valores serão agrupados;\n",
        "    * **Aggregating_Function** - Função agregadora, ou seja: sum, min, max, mean, median, etc...\n",
        "\n",
        "df.groupby('Grouping_Column').agg({'Aggregating_Column': 'Aggregating_Function'})\n",
        "OU\n",
        "df['Aggregating_Column'].groupby(df['Grouping_Column']).Function()\n",
        "'''"
      ],
      "execution_count": null,
      "outputs": []
    },
    {
      "cell_type": "code",
      "metadata": {
        "id": "w-JXwZhK-rXI"
      },
      "source": [
        "s_nat_wage = df_Fifa2.groupby('nationality')['wage'].sum()"
      ],
      "execution_count": null,
      "outputs": []
    },
    {
      "cell_type": "code",
      "metadata": {
        "id": "w-9TnIHH3WoF"
      },
      "source": [
        "s_nat_jog = df_Fifa2.groupby('nationality')['nationality'].count()"
      ],
      "execution_count": null,
      "outputs": []
    },
    {
      "cell_type": "code",
      "metadata": {
        "id": "v5R9azSK4P63"
      },
      "source": [
        "type(s_nat_wage)"
      ],
      "execution_count": null,
      "outputs": []
    },
    {
      "cell_type": "code",
      "metadata": {
        "id": "z4IriDOV4Hiw"
      },
      "source": [
        "df_nat_wage = pd.DataFrame({'nationality':s_nat_wage.index,'wage':s_nat_wage.values, \"Número de Jogadores\":s_nat_jog.values})"
      ],
      "execution_count": null,
      "outputs": []
    },
    {
      "cell_type": "code",
      "metadata": {
        "id": "a8tXUZJucpBJ"
      },
      "source": [
        "df_nat_wage['Média Salário por país'] = round(df_nat_wage['wage']/df_nat_wage['Número de Jogadores'],2)"
      ],
      "execution_count": null,
      "outputs": []
    },
    {
      "cell_type": "code",
      "metadata": {
        "id": "bPWm55g83t4i"
      },
      "source": [
        "df_nat_wage       # Resposta do Exercício 9.11"
      ],
      "execution_count": null,
      "outputs": []
    },
    {
      "cell_type": "code",
      "metadata": {
        "id": "60rQl516xsRf"
      },
      "source": [
        "# 12. Qual a média de salário por clube?\n",
        "s_club_wage = df_Fifa2.groupby('club')['wage'].sum()"
      ],
      "execution_count": null,
      "outputs": []
    },
    {
      "cell_type": "code",
      "metadata": {
        "id": "5ZWFaWhtbdYe"
      },
      "source": [
        "s_club_jog = df_Fifa2.groupby('club')['club'].count()"
      ],
      "execution_count": null,
      "outputs": []
    },
    {
      "cell_type": "code",
      "metadata": {
        "id": "JDwVCjPydNyV"
      },
      "source": [
        "df_club_md_sal = pd.DataFrame({'club':s_club_jog.index,'Somatória Wage':s_club_wage.values,\"Núm Jogadores\":s_club_jog.values})"
      ],
      "execution_count": null,
      "outputs": []
    },
    {
      "cell_type": "code",
      "metadata": {
        "id": "brpajywTfxg_"
      },
      "source": [
        "df_club_md_sal['Média Salário por Clube'] = round(df_club_md_sal['Somatória Wage']/df_club_md_sal['Núm Jogadores'],2)"
      ],
      "execution_count": null,
      "outputs": []
    },
    {
      "cell_type": "code",
      "metadata": {
        "id": "96TkbAQogQ7w"
      },
      "source": [
        "df_club_md_sal"
      ],
      "execution_count": null,
      "outputs": []
    },
    {
      "cell_type": "code",
      "metadata": {
        "id": "TM7kxQygxsp5"
      },
      "source": [
        "# 13. Qual a média de salário por idade?"
      ],
      "execution_count": null,
      "outputs": []
    },
    {
      "cell_type": "code",
      "metadata": {
        "id": "fWBOmhtsg2HW"
      },
      "source": [
        "s_age_age = df_Fifa2.groupby('age')['age'].count()"
      ],
      "execution_count": null,
      "outputs": []
    },
    {
      "cell_type": "code",
      "metadata": {
        "id": "oDmqgs1WhRac"
      },
      "source": [
        "s_age_wage = df_Fifa2.groupby('age')['wage'].sum()"
      ],
      "execution_count": null,
      "outputs": []
    },
    {
      "cell_type": "code",
      "metadata": {
        "id": "taTtYUFrhTCC"
      },
      "source": [
        "df_age_md_wage = pd.DataFrame({'age':s_age_age.index, 'Somatória Wage': s_age_wage.values})"
      ],
      "execution_count": null,
      "outputs": []
    },
    {
      "cell_type": "code",
      "metadata": {
        "id": "GehlsMK3iY93"
      },
      "source": [
        "df_age_md_wage['Média salarial por idade'] = round(df_age_md_wage['Somatória Wage']/df_age_md_wage['age'],2)"
      ],
      "execution_count": null,
      "outputs": []
    },
    {
      "cell_type": "code",
      "metadata": {
        "id": "fKGqZ459itRU"
      },
      "source": [
        "df_age_md_wage"
      ],
      "execution_count": null,
      "outputs": []
    },
    {
      "cell_type": "code",
      "metadata": {
        "id": "Uvt9JabxxtP-",
        "outputId": "69b8b2e8-89fb-42d2-9064-62e338c01a7d",
        "colab": {
          "base_uri": "https://localhost:8080/",
          "height": 238
        }
      },
      "source": [
        "# 14. Quanto cada clube gasta com pagamento de salários?\n",
        "df_Fifa2.groupby('club')['wage'].sum()"
      ],
      "execution_count": null,
      "outputs": [
        {
          "output_type": "execute_result",
          "data": {
            "text/plain": [
              "club\n",
              " SSV Jahn Regensburg     123000\n",
              "1. FC Heidenheim 1846    125000\n",
              "1. FC Kaiserslautern      44000\n",
              "1. FC Köln               372000\n",
              "1. FC Magdeburg          127000\n",
              "                          ...  \n",
              "Zagłębie Sosnowiec        27000\n",
              "Çaykur Rizespor          193000\n",
              "Örebro SK                 40000\n",
              "Östersunds FK             45000\n",
              "Śląsk Wrocław             51000\n",
              "Name: wage, Length: 651, dtype: int64"
            ]
          },
          "metadata": {
            "tags": []
          },
          "execution_count": 252
        }
      ]
    },
    {
      "cell_type": "code",
      "metadata": {
        "id": "bJ-mB4Vaj2y5",
        "outputId": "d514b857-6525-4c1b-8650-0ad605888522",
        "colab": {
          "base_uri": "https://localhost:8080/",
          "height": 306
        }
      },
      "source": [
        "df_14 = pd.DataFrame({'club':_35.index, 'Somatória Wage':_35.values})"
      ],
      "execution_count": null,
      "outputs": [
        {
          "output_type": "error",
          "ename": "Exception",
          "evalue": "ignored",
          "traceback": [
            "\u001b[0;31m---------------------------------------------------------------------------\u001b[0m",
            "\u001b[0;31mException\u001b[0m                                 Traceback (most recent call last)",
            "\u001b[0;32m<ipython-input-253-1347fe9eae26>\u001b[0m in \u001b[0;36m<module>\u001b[0;34m()\u001b[0m\n\u001b[0;32m----> 1\u001b[0;31m \u001b[0mdf_14\u001b[0m \u001b[0;34m=\u001b[0m \u001b[0mpd\u001b[0m\u001b[0;34m.\u001b[0m\u001b[0mDataFrame\u001b[0m\u001b[0;34m(\u001b[0m\u001b[0;34m{\u001b[0m\u001b[0;34m'club'\u001b[0m\u001b[0;34m:\u001b[0m\u001b[0m_35\u001b[0m\u001b[0;34m.\u001b[0m\u001b[0mindex\u001b[0m\u001b[0;34m,\u001b[0m \u001b[0;34m'Somatória Wage'\u001b[0m\u001b[0;34m:\u001b[0m\u001b[0m_35\u001b[0m\u001b[0;34m.\u001b[0m\u001b[0mvalues\u001b[0m\u001b[0;34m}\u001b[0m\u001b[0;34m)\u001b[0m\u001b[0;34m\u001b[0m\u001b[0;34m\u001b[0m\u001b[0m\n\u001b[0m",
            "\u001b[0;32m/usr/local/lib/python3.6/dist-packages/pandas/core/frame.py\u001b[0m in \u001b[0;36m__init__\u001b[0;34m(self, data, index, columns, dtype, copy)\u001b[0m\n\u001b[1;32m    466\u001b[0m \u001b[0;34m\u001b[0m\u001b[0m\n\u001b[1;32m    467\u001b[0m         \u001b[0;32melif\u001b[0m \u001b[0misinstance\u001b[0m\u001b[0;34m(\u001b[0m\u001b[0mdata\u001b[0m\u001b[0;34m,\u001b[0m \u001b[0mdict\u001b[0m\u001b[0;34m)\u001b[0m\u001b[0;34m:\u001b[0m\u001b[0;34m\u001b[0m\u001b[0;34m\u001b[0m\u001b[0m\n\u001b[0;32m--> 468\u001b[0;31m             \u001b[0mmgr\u001b[0m \u001b[0;34m=\u001b[0m \u001b[0minit_dict\u001b[0m\u001b[0;34m(\u001b[0m\u001b[0mdata\u001b[0m\u001b[0;34m,\u001b[0m \u001b[0mindex\u001b[0m\u001b[0;34m,\u001b[0m \u001b[0mcolumns\u001b[0m\u001b[0;34m,\u001b[0m \u001b[0mdtype\u001b[0m\u001b[0;34m=\u001b[0m\u001b[0mdtype\u001b[0m\u001b[0;34m)\u001b[0m\u001b[0;34m\u001b[0m\u001b[0;34m\u001b[0m\u001b[0m\n\u001b[0m\u001b[1;32m    469\u001b[0m         \u001b[0;32melif\u001b[0m \u001b[0misinstance\u001b[0m\u001b[0;34m(\u001b[0m\u001b[0mdata\u001b[0m\u001b[0;34m,\u001b[0m \u001b[0mma\u001b[0m\u001b[0;34m.\u001b[0m\u001b[0mMaskedArray\u001b[0m\u001b[0;34m)\u001b[0m\u001b[0;34m:\u001b[0m\u001b[0;34m\u001b[0m\u001b[0;34m\u001b[0m\u001b[0m\n\u001b[1;32m    470\u001b[0m             \u001b[0;32mimport\u001b[0m \u001b[0mnumpy\u001b[0m\u001b[0;34m.\u001b[0m\u001b[0mma\u001b[0m\u001b[0;34m.\u001b[0m\u001b[0mmrecords\u001b[0m \u001b[0;32mas\u001b[0m \u001b[0mmrecords\u001b[0m\u001b[0;34m\u001b[0m\u001b[0;34m\u001b[0m\u001b[0m\n",
            "\u001b[0;32m/usr/local/lib/python3.6/dist-packages/pandas/core/internals/construction.py\u001b[0m in \u001b[0;36minit_dict\u001b[0;34m(data, index, columns, dtype)\u001b[0m\n\u001b[1;32m    281\u001b[0m             \u001b[0marr\u001b[0m \u001b[0;32mif\u001b[0m \u001b[0;32mnot\u001b[0m \u001b[0mis_datetime64tz_dtype\u001b[0m\u001b[0;34m(\u001b[0m\u001b[0marr\u001b[0m\u001b[0;34m)\u001b[0m \u001b[0;32melse\u001b[0m \u001b[0marr\u001b[0m\u001b[0;34m.\u001b[0m\u001b[0mcopy\u001b[0m\u001b[0;34m(\u001b[0m\u001b[0;34m)\u001b[0m \u001b[0;32mfor\u001b[0m \u001b[0marr\u001b[0m \u001b[0;32min\u001b[0m \u001b[0marrays\u001b[0m\u001b[0;34m\u001b[0m\u001b[0;34m\u001b[0m\u001b[0m\n\u001b[1;32m    282\u001b[0m         ]\n\u001b[0;32m--> 283\u001b[0;31m     \u001b[0;32mreturn\u001b[0m \u001b[0marrays_to_mgr\u001b[0m\u001b[0;34m(\u001b[0m\u001b[0marrays\u001b[0m\u001b[0;34m,\u001b[0m \u001b[0mdata_names\u001b[0m\u001b[0;34m,\u001b[0m \u001b[0mindex\u001b[0m\u001b[0;34m,\u001b[0m \u001b[0mcolumns\u001b[0m\u001b[0;34m,\u001b[0m \u001b[0mdtype\u001b[0m\u001b[0;34m=\u001b[0m\u001b[0mdtype\u001b[0m\u001b[0;34m)\u001b[0m\u001b[0;34m\u001b[0m\u001b[0;34m\u001b[0m\u001b[0m\n\u001b[0m\u001b[1;32m    284\u001b[0m \u001b[0;34m\u001b[0m\u001b[0m\n\u001b[1;32m    285\u001b[0m \u001b[0;34m\u001b[0m\u001b[0m\n",
            "\u001b[0;32m/usr/local/lib/python3.6/dist-packages/pandas/core/internals/construction.py\u001b[0m in \u001b[0;36marrays_to_mgr\u001b[0;34m(arrays, arr_names, index, columns, dtype, verify_integrity)\u001b[0m\n\u001b[1;32m     81\u001b[0m \u001b[0;34m\u001b[0m\u001b[0m\n\u001b[1;32m     82\u001b[0m         \u001b[0;31m# don't force copy because getting jammed in an ndarray anyway\u001b[0m\u001b[0;34m\u001b[0m\u001b[0;34m\u001b[0m\u001b[0;34m\u001b[0m\u001b[0m\n\u001b[0;32m---> 83\u001b[0;31m         \u001b[0marrays\u001b[0m \u001b[0;34m=\u001b[0m \u001b[0m_homogenize\u001b[0m\u001b[0;34m(\u001b[0m\u001b[0marrays\u001b[0m\u001b[0;34m,\u001b[0m \u001b[0mindex\u001b[0m\u001b[0;34m,\u001b[0m \u001b[0mdtype\u001b[0m\u001b[0;34m)\u001b[0m\u001b[0;34m\u001b[0m\u001b[0;34m\u001b[0m\u001b[0m\n\u001b[0m\u001b[1;32m     84\u001b[0m \u001b[0;34m\u001b[0m\u001b[0m\n\u001b[1;32m     85\u001b[0m         \u001b[0mcolumns\u001b[0m \u001b[0;34m=\u001b[0m \u001b[0mensure_index\u001b[0m\u001b[0;34m(\u001b[0m\u001b[0mcolumns\u001b[0m\u001b[0;34m)\u001b[0m\u001b[0;34m\u001b[0m\u001b[0;34m\u001b[0m\u001b[0m\n",
            "\u001b[0;32m/usr/local/lib/python3.6/dist-packages/pandas/core/internals/construction.py\u001b[0m in \u001b[0;36m_homogenize\u001b[0;34m(data, index, dtype)\u001b[0m\n\u001b[1;32m    350\u001b[0m                 \u001b[0mval\u001b[0m \u001b[0;34m=\u001b[0m \u001b[0mlib\u001b[0m\u001b[0;34m.\u001b[0m\u001b[0mfast_multiget\u001b[0m\u001b[0;34m(\u001b[0m\u001b[0mval\u001b[0m\u001b[0;34m,\u001b[0m \u001b[0moindex\u001b[0m\u001b[0;34m.\u001b[0m\u001b[0m_values\u001b[0m\u001b[0;34m,\u001b[0m \u001b[0mdefault\u001b[0m\u001b[0;34m=\u001b[0m\u001b[0mnp\u001b[0m\u001b[0;34m.\u001b[0m\u001b[0mnan\u001b[0m\u001b[0;34m)\u001b[0m\u001b[0;34m\u001b[0m\u001b[0;34m\u001b[0m\u001b[0m\n\u001b[1;32m    351\u001b[0m             val = sanitize_array(\n\u001b[0;32m--> 352\u001b[0;31m                 \u001b[0mval\u001b[0m\u001b[0;34m,\u001b[0m \u001b[0mindex\u001b[0m\u001b[0;34m,\u001b[0m \u001b[0mdtype\u001b[0m\u001b[0;34m=\u001b[0m\u001b[0mdtype\u001b[0m\u001b[0;34m,\u001b[0m \u001b[0mcopy\u001b[0m\u001b[0;34m=\u001b[0m\u001b[0;32mFalse\u001b[0m\u001b[0;34m,\u001b[0m \u001b[0mraise_cast_failure\u001b[0m\u001b[0;34m=\u001b[0m\u001b[0;32mFalse\u001b[0m\u001b[0;34m\u001b[0m\u001b[0;34m\u001b[0m\u001b[0m\n\u001b[0m\u001b[1;32m    353\u001b[0m             )\n\u001b[1;32m    354\u001b[0m \u001b[0;34m\u001b[0m\u001b[0m\n",
            "\u001b[0;32m/usr/local/lib/python3.6/dist-packages/pandas/core/construction.py\u001b[0m in \u001b[0;36msanitize_array\u001b[0;34m(data, index, dtype, copy, raise_cast_failure)\u001b[0m\n\u001b[1;32m    494\u001b[0m     \u001b[0;32melif\u001b[0m \u001b[0msubarr\u001b[0m\u001b[0;34m.\u001b[0m\u001b[0mndim\u001b[0m \u001b[0;34m>\u001b[0m \u001b[0;36m1\u001b[0m\u001b[0;34m:\u001b[0m\u001b[0;34m\u001b[0m\u001b[0;34m\u001b[0m\u001b[0m\n\u001b[1;32m    495\u001b[0m         \u001b[0;32mif\u001b[0m \u001b[0misinstance\u001b[0m\u001b[0;34m(\u001b[0m\u001b[0mdata\u001b[0m\u001b[0;34m,\u001b[0m \u001b[0mnp\u001b[0m\u001b[0;34m.\u001b[0m\u001b[0mndarray\u001b[0m\u001b[0;34m)\u001b[0m\u001b[0;34m:\u001b[0m\u001b[0;34m\u001b[0m\u001b[0;34m\u001b[0m\u001b[0m\n\u001b[0;32m--> 496\u001b[0;31m             \u001b[0;32mraise\u001b[0m \u001b[0mException\u001b[0m\u001b[0;34m(\u001b[0m\u001b[0;34m\"Data must be 1-dimensional\"\u001b[0m\u001b[0;34m)\u001b[0m\u001b[0;34m\u001b[0m\u001b[0;34m\u001b[0m\u001b[0m\n\u001b[0m\u001b[1;32m    497\u001b[0m         \u001b[0;32melse\u001b[0m\u001b[0;34m:\u001b[0m\u001b[0;34m\u001b[0m\u001b[0;34m\u001b[0m\u001b[0m\n\u001b[1;32m    498\u001b[0m             \u001b[0msubarr\u001b[0m \u001b[0;34m=\u001b[0m \u001b[0mcom\u001b[0m\u001b[0;34m.\u001b[0m\u001b[0masarray_tuplesafe\u001b[0m\u001b[0;34m(\u001b[0m\u001b[0mdata\u001b[0m\u001b[0;34m,\u001b[0m \u001b[0mdtype\u001b[0m\u001b[0;34m=\u001b[0m\u001b[0mdtype\u001b[0m\u001b[0;34m)\u001b[0m\u001b[0;34m\u001b[0m\u001b[0;34m\u001b[0m\u001b[0m\n",
            "\u001b[0;31mException\u001b[0m: Data must be 1-dimensional"
          ]
        }
      ]
    },
    {
      "cell_type": "code",
      "metadata": {
        "id": "2G5AYRVOkLIK"
      },
      "source": [
        "df_14.head()"
      ],
      "execution_count": null,
      "outputs": []
    },
    {
      "cell_type": "code",
      "metadata": {
        "id": "2YXOMpZfjAMv"
      },
      "source": [
        "# 16. Quais são os insight (o que você consegue descobrir) em relação à variável 'Potential' (mede o potencial dos jogadores)?\n"
      ],
      "execution_count": null,
      "outputs": []
    },
    {
      "cell_type": "code",
      "metadata": {
        "id": "Ge7A_NlIRvmX"
      },
      "source": [
        "df_Fifa.columns"
      ],
      "execution_count": null,
      "outputs": []
    },
    {
      "cell_type": "code",
      "metadata": {
        "id": "UH_yGM8WPZ6R"
      },
      "source": [
        "df_col_selec = df_Fifa[['Name','Age','Overall','Potential','Club','Value','Wage','Contract Valid Until','Release Clause']]"
      ],
      "execution_count": null,
      "outputs": []
    },
    {
      "cell_type": "code",
      "metadata": {
        "id": "IfwtL0oiVIY2"
      },
      "source": [
        "df_teste = df_Fifa[['Age','Overall','Potential','Special',\n",
        "       'Preferred Foot', 'International Reputation', 'Weak Foot',\n",
        "       'Skill Moves', 'Work Rate', 'Position',\n",
        "        'Joined', 'Loaned From', 'Height', 'Weight', 'LS', 'ST', 'RS', 'LW', 'LF', 'CF', 'RF', 'RW',\n",
        "       'LAM', 'CAM', 'RAM', 'LM', 'LCM', 'CM', 'RCM', 'RM', 'LWB', 'LDM',\n",
        "       'CDM', 'RDM', 'RWB', 'LB', 'LCB', 'CB', 'RCB', 'RB', 'Crossing',\n",
        "       'Finishing', 'HeadingAccuracy', 'ShortPassing', 'Volleys', 'Dribbling',\n",
        "       'Curve', 'FKAccuracy', 'LongPassing', 'BallControl', 'Acceleration',\n",
        "       'SprintSpeed', 'Agility', 'Reactions', 'Balance', 'ShotPower',\n",
        "       'Jumping', 'Stamina', 'Strength', 'LongShots', 'Aggression',\n",
        "       'Interceptions', 'Positioning', 'Vision', 'Penalties', 'Composure',\n",
        "       'Marking', 'StandingTackle', 'SlidingTackle', 'GKDiving', 'GKHandling',\n",
        "       'GKKicking', 'GKPositioning', 'GKReflexes']]"
      ],
      "execution_count": null,
      "outputs": []
    },
    {
      "cell_type": "code",
      "metadata": {
        "id": "I8VFLBSbZ6Mh"
      },
      "source": [
        "df_teste.info()"
      ],
      "execution_count": null,
      "outputs": []
    },
    {
      "cell_type": "code",
      "metadata": {
        "id": "HvTXV7a7Z_8a"
      },
      "source": [
        "df_teste['Potential'] - df_teste['Overall']"
      ],
      "execution_count": null,
      "outputs": []
    },
    {
      "cell_type": "code",
      "metadata": {
        "id": "y3ND0xXFZN-Y"
      },
      "source": [
        "type(_56)"
      ],
      "execution_count": null,
      "outputs": []
    },
    {
      "cell_type": "code",
      "metadata": {
        "id": "kiCYSfO7cdYe"
      },
      "source": [
        "df_teste2 = pd.concat([df_teste,_56], axis = 1)"
      ],
      "execution_count": null,
      "outputs": []
    },
    {
      "cell_type": "code",
      "metadata": {
        "id": "PssURW6peB_J"
      },
      "source": [
        ""
      ],
      "execution_count": null,
      "outputs": []
    },
    {
      "cell_type": "code",
      "metadata": {
        "id": "vLKoSIQpdcrl"
      },
      "source": [
        " df1 = df_teste2[['Overall', 'Potential', 'DIF','International Reputation', 'Weak Foot',\n",
        "       'Skill Moves', 'Work Rate', 'Position', 'Crossing',\n",
        "       'Finishing', 'HeadingAccuracy', 'ShortPassing', 'Volleys', 'Dribbling',\n",
        "       'Curve', 'FKAccuracy', 'LongPassing', 'BallControl', 'Acceleration',\n",
        "       'SprintSpeed', 'Agility', 'Reactions', 'Balance', 'ShotPower',\n",
        "       'Jumping', 'Stamina', 'Strength', 'LongShots', 'Aggression',\n",
        "       'Interceptions', 'Positioning', 'Vision', 'Penalties', 'Composure',\n",
        "       'Marking', 'StandingTackle', 'SlidingTackle', 'GKDiving', 'GKHandling',\n",
        "       'GKKicking', 'GKPositioning', 'GKReflexes','LS', 'ST', 'RS', 'LW', 'LF', 'CF', 'RF', 'RW',\n",
        "       'LAM', 'CAM', 'RAM', 'LM', 'LCM', 'CM', 'RCM', 'RM', 'LWB', 'LDM',\n",
        "       'CDM', 'RDM', 'RWB', 'LB', 'LCB', 'CB', 'RCB', 'RB']]"
      ],
      "execution_count": null,
      "outputs": []
    },
    {
      "cell_type": "code",
      "metadata": {
        "id": "smqThS7OfdMw"
      },
      "source": [
        "df1.sort_values(by=['DIF'],ascending=False)"
      ],
      "execution_count": null,
      "outputs": []
    },
    {
      "cell_type": "code",
      "metadata": {
        "id": "Zc_UvIC-e9c6"
      },
      "source": [
        "# 17. Quais os insights em relação à variável overall (nota média do atleta) por idade, clube e país?"
      ],
      "execution_count": null,
      "outputs": []
    },
    {
      "cell_type": "code",
      "metadata": {
        "id": "m70Qeb_oe2uk"
      },
      "source": [
        "df_Fifa[['Overall','Age','Club','Nationality']]"
      ],
      "execution_count": null,
      "outputs": []
    },
    {
      "cell_type": "code",
      "metadata": {
        "id": "xt86xVP3bklv"
      },
      "source": [
        "# Perguntar pro Silvio Finotti\n",
        "# corrigir, incompleto\n",
        "# df_Fifa.groupby('club').agg({'overall':['mean','median,'sum']}).sort_values('overall',ascending=False.head(10))].sum()"
      ],
      "execution_count": null,
      "outputs": []
    },
    {
      "cell_type": "code",
      "metadata": {
        "id": "-2lws9Fme0X5"
      },
      "source": [
        "# 17. Quais são os melhores clubes se levarmos em consideração as variáveis Potential e Overall?\n",
        "\n",
        "df_17 = df_Fifa[['club','potential','overall']]"
      ],
      "execution_count": null,
      "outputs": []
    },
    {
      "cell_type": "code",
      "metadata": {
        "id": "sOmoHhHCtAuD"
      },
      "source": [
        "df_Fifa.groupby('club')['club'].count()\n",
        "df_Fifa.groupby('club')['potential'].sum()\n",
        "df_Fifa.groupby('club')['overall'].sum()\n",
        "\n",
        "df_17 = pd.DataFrame({'club':(df_Fifa.groupby('club')['club'].count()).index,\n",
        "                      'Num Jogadores': (df_Fifa.groupby('club')['club'].count()).values,\n",
        "                      'Potential_Somatória':(df_Fifa.groupby('club')['potential'].sum()).values,\n",
        "                      'Overall_Somatória':(df_Fifa.groupby('club')['overall'].sum()).values,\n",
        "                      'Potential_Média':((df_Fifa.groupby('club')['potential'].sum()).values/(df_Fifa.groupby('club')['club'].count()).values),\n",
        "                      'Overall_Média':((df_Fifa.groupby('club')['overall'].sum()).values/(df_Fifa.groupby('club')['club'].count()).values)\n",
        "                      })"
      ],
      "execution_count": null,
      "outputs": []
    },
    {
      "cell_type": "code",
      "metadata": {
        "id": "K6-omgx75kud"
      },
      "source": [
        "# Resolução do Exercício 9, item 17: melhores clubes considerando Potential e Overall\n",
        "# 5 primeiros considerando 'Potential_Média'\n",
        "df_17.sort_values(by=['Potential_Média'], ascending=False).head()"
      ],
      "execution_count": null,
      "outputs": []
    },
    {
      "cell_type": "code",
      "metadata": {
        "id": "Ctah_4zbSby4"
      },
      "source": [
        "# 5 primeiros considerando 'Overall_Média'\n",
        "df_17.sort_values(by=['Overall_Média'], ascending=False).head()"
      ],
      "execution_count": null,
      "outputs": []
    },
    {
      "cell_type": "code",
      "metadata": {
        "id": "scJcG10b5BdY"
      },
      "source": [
        "# 5 primeiros considerando média entre 'Potential Média' e 'Overall Média'\n",
        "df_17['Média_PM_OM'] = (df_17['Potential_Média'] + df_17['Overall_Média'])/2\n",
        "df_17.sort_values(by=['Média_PM_OM'], ascending=False).head()"
      ],
      "execution_count": null,
      "outputs": []
    },
    {
      "cell_type": "code",
      "metadata": {
        "id": "N2CqNzgJVWy4"
      },
      "source": [
        "# 5 primeiros considerando Soma entre 'Potential Média' e 'Overall Média'\n",
        "df_17['Soma_PM_OM'] = (df_17['Potential_Média'] + df_17['Overall_Média'])\n",
        "df_17.sort_values(by=['Soma_PM_OM'], ascending=False).head()"
      ],
      "execution_count": null,
      "outputs": []
    },
    {
      "cell_type": "code",
      "metadata": {
        "id": "ZiwD-8-JerXz"
      },
      "source": [
        "# 19. Apresente o ranking dos goleiros (use a variável/atributo 'Preferred Positions') por Potencial, Overall. Estamos à procura de 'GK'.\n",
        "\n",
        "df_Fifa.columns"
      ],
      "execution_count": null,
      "outputs": []
    },
    {
      "cell_type": "code",
      "metadata": {
        "id": "G4oWwdIKdLlb"
      },
      "source": [
        "df_Fifa[['Position','Positioning','GKPositioning']]"
      ],
      "execution_count": null,
      "outputs": []
    },
    {
      "cell_type": "code",
      "metadata": {
        "id": "EPpUD9odcpT2"
      },
      "source": [
        "df_Fifa['Position'].unique()"
      ],
      "execution_count": null,
      "outputs": []
    },
    {
      "cell_type": "code",
      "metadata": {
        "id": "LBU91iGlaPnh"
      },
      "source": [
        "df_Fifa['Position'] == 'GK'"
      ],
      "execution_count": null,
      "outputs": []
    },
    {
      "cell_type": "code",
      "metadata": {
        "id": "EU9drSSNuwDL"
      },
      "source": [
        "df_19 = df_Fifa[(df_Fifa['Position'] == 'GK')]"
      ],
      "execution_count": null,
      "outputs": []
    },
    {
      "cell_type": "code",
      "metadata": {
        "id": "m-yp-tWIyXEE"
      },
      "source": [
        "# Resposta do Exercício 9 , item 19: ranking dos goleiros ('Position' == 'GK') por Potencial, Overall\n",
        "df_19[['Position','Potential','Overall']]"
      ],
      "execution_count": null,
      "outputs": []
    },
    {
      "cell_type": "code",
      "metadata": {
        "id": "TyYnAox9ZYZs"
      },
      "source": [
        "# 20. Quem são os jogadores mais rápidos (variável/atributo 'Sprint speed'=)?\n",
        "df_20 = df_Fifa[['Name','SprintSpeed']]"
      ],
      "execution_count": null,
      "outputs": []
    },
    {
      "cell_type": "code",
      "metadata": {
        "id": "zk0H-AXyzcG7"
      },
      "source": [
        "# Resposta do Exercício 9, item 20: jogadores mais rápidos (com maior valor de SprintSpeed)\n",
        "df_20.sort_values(by='SprintSpeed', ascending= False)"
      ],
      "execution_count": null,
      "outputs": []
    },
    {
      "cell_type": "code",
      "metadata": {
        "id": "K00gpS6yZDkt"
      },
      "source": [
        "# 21. Quem são os 5 melhores jogadores em termos de chute (força para chutar) (use a variável/atributo 'Shot power')?\n",
        "\n",
        "df_21 = df_Fifa[['Name', 'ShotPower']]"
      ],
      "execution_count": null,
      "outputs": []
    },
    {
      "cell_type": "code",
      "metadata": {
        "id": "XgZvA4b7Yf3R",
        "outputId": "1e4f2e67-7ba5-4a5a-d07c-1a9f9da7d465",
        "colab": {
          "base_uri": "https://localhost:8080/",
          "height": 359
        }
      },
      "source": [
        "# Resposta do Exercício 9, item 21: 5 melhores jogadores em termos de ShotPower)\n",
        "df_21.sort_values(by= 'ShotPower', ascending=False).head(10)"
      ],
      "execution_count": null,
      "outputs": [
        {
          "output_type": "execute_result",
          "data": {
            "text/html": [
              "<div>\n",
              "<style scoped>\n",
              "    .dataframe tbody tr th:only-of-type {\n",
              "        vertical-align: middle;\n",
              "    }\n",
              "\n",
              "    .dataframe tbody tr th {\n",
              "        vertical-align: top;\n",
              "    }\n",
              "\n",
              "    .dataframe thead th {\n",
              "        text-align: right;\n",
              "    }\n",
              "</style>\n",
              "<table border=\"1\" class=\"dataframe\">\n",
              "  <thead>\n",
              "    <tr style=\"text-align: right;\">\n",
              "      <th></th>\n",
              "      <th>Name</th>\n",
              "      <th>ShotPower</th>\n",
              "    </tr>\n",
              "  </thead>\n",
              "  <tbody>\n",
              "    <tr>\n",
              "      <th>1</th>\n",
              "      <td>Cristiano Ronaldo</td>\n",
              "      <td>95.0</td>\n",
              "    </tr>\n",
              "    <tr>\n",
              "      <th>378</th>\n",
              "      <td>Hulk</td>\n",
              "      <td>94.0</td>\n",
              "    </tr>\n",
              "    <tr>\n",
              "      <th>1348</th>\n",
              "      <td>F. Guarín</td>\n",
              "      <td>93.0</td>\n",
              "    </tr>\n",
              "    <tr>\n",
              "      <th>890</th>\n",
              "      <td>L. Podolski</td>\n",
              "      <td>92.0</td>\n",
              "    </tr>\n",
              "    <tr>\n",
              "      <th>36</th>\n",
              "      <td>G. Bale</td>\n",
              "      <td>92.0</td>\n",
              "    </tr>\n",
              "    <tr>\n",
              "      <th>102</th>\n",
              "      <td>Naldo</td>\n",
              "      <td>92.0</td>\n",
              "    </tr>\n",
              "    <tr>\n",
              "      <th>4</th>\n",
              "      <td>K. De Bruyne</td>\n",
              "      <td>91.0</td>\n",
              "    </tr>\n",
              "    <tr>\n",
              "      <th>291</th>\n",
              "      <td>A. Kolarov</td>\n",
              "      <td>91.0</td>\n",
              "    </tr>\n",
              "    <tr>\n",
              "      <th>45</th>\n",
              "      <td>P. Pogba</td>\n",
              "      <td>90.0</td>\n",
              "    </tr>\n",
              "    <tr>\n",
              "      <th>3921</th>\n",
              "      <td>V. Ayala</td>\n",
              "      <td>90.0</td>\n",
              "    </tr>\n",
              "  </tbody>\n",
              "</table>\n",
              "</div>"
            ],
            "text/plain": [
              "                   Name  ShotPower\n",
              "1     Cristiano Ronaldo       95.0\n",
              "378                Hulk       94.0\n",
              "1348          F. Guarín       93.0\n",
              "890         L. Podolski       92.0\n",
              "36              G. Bale       92.0\n",
              "102               Naldo       92.0\n",
              "4          K. De Bruyne       91.0\n",
              "291          A. Kolarov       91.0\n",
              "45             P. Pogba       90.0\n",
              "3921           V. Ayala       90.0"
            ]
          },
          "metadata": {
            "tags": []
          },
          "execution_count": 256
        }
      ]
    },
    {
      "cell_type": "code",
      "metadata": {
        "id": "t3HOtlZ4XstV"
      },
      "source": [
        "# 22. Quem são os outliers em termos de salário?\n",
        "\n",
        "import pandas as pd\n",
        "import numpy as np\n",
        "import matplotlib.pyplot as plt\n",
        "%matplotlib inline\n",
        "\n",
        "url = 'https://raw.githubusercontent.com/cryssoga/DSWP/master/Dataframes/FIFA.csv'\n",
        "df_Fifa = pd.read_csv(url)\n",
        "\n",
        "df_Fifa.set_index('ID', inplace=True)\n",
        "\n",
        "nome_colunas = df_Fifa.columns\n",
        "df_Fifa.columns = [col.lower() for col in nome_colunas]\n",
        "\n",
        "df_Fifa2 = df_Fifa.copy()\n",
        "\n",
        "def elimina_caracter(moeda):\n",
        "  moeda = moeda.replace(\"€\",\"\").replace(\"M\",\"000000\").replace(\"K\",\"000\")\n",
        "  return moeda\n",
        "\n",
        "df_Fifa2['wage'] = df_Fifa2['wage'].apply(elimina_caracter)\n",
        "\n",
        "df_Fifa2['wage'] = pd.to_numeric(df_Fifa2['wage'])\n",
        "\n",
        "df_Fifa['wage'] = df_Fifa2['wage']"
      ],
      "execution_count": null,
      "outputs": []
    },
    {
      "cell_type": "code",
      "metadata": {
        "id": "PiRb-NJxiqLY",
        "outputId": "bfc446e6-a5e1-423e-d18b-7f816b4539ef",
        "colab": {
          "base_uri": "https://localhost:8080/",
          "height": 287
        }
      },
      "source": [
        "df_wage = df_Fifa[['name','wage']]\n",
        "\n",
        "s_wage = df_Fifa['wage']\n",
        "a_wage = s_wage.values\n",
        "\n",
        "is_nan = np.isnan(a_wage)\n",
        "\n",
        "a_wage[is_nan]\n",
        "\n",
        "a_club = df_Fifa['club']\n",
        "\n",
        "f'Média: {np.mean(s_wage.values)}; Mediana: {np.median(s_wage.values)}; STD: {np.std(s_wage.values)}'\n",
        "\n",
        "a_wage.sum()/18207\n",
        "\n",
        "import seaborn as sns\n",
        "sns.boxplot(y = a_wage)\n",
        "\n",
        "Q1 = np.percentile(a_wage, q = [25])\n",
        "Q3 = np.percentile(a_wage, q = [75])\n",
        "Q2 = np.percentile(a_wage, q = [50])\n",
        "p99 = np.percentile(a_wage, q = [99])\n",
        "p95 = np.percentile(a_wage, q = [95])\n",
        "\n",
        "IQR = Q3-Q1 # Diferença interquartílica\n",
        "lim_inferior_outlier = Q1-1.5*IQR\n",
        "lim_superior_outlier = Q3+1.5*IQR\n",
        "\n",
        "f'Q1: {Q1}, Q3: {Q3}, Q2: {Q2}, lim_inferior_outlier: {lim_inferior_outlier}, lim_superior_outlier: {lim_superior_outlier}'\n"
      ],
      "execution_count": null,
      "outputs": [
        {
          "output_type": "execute_result",
          "data": {
            "application/vnd.google.colaboratory.intrinsic+json": {
              "type": "string"
            },
            "text/plain": [
              "'Q1: [1000.], Q3: [9000.], Q2: [3000.], lim_inferior_outlier: [-11000.], lim_superior_outlier: [21000.]'"
            ]
          },
          "metadata": {
            "tags": []
          },
          "execution_count": 7
        },
        {
          "output_type": "display_data",
          "data": {
            "image/png": "[encoded data removed]",
            "text/plain": [
              "<Figure size 432x288 with 1 Axes>"
            ]
          },
          "metadata": {
            "tags": [],
            "needs_background": "light"
          }
        }
      ]
    },
    {
      "cell_type": "code",
      "metadata": {
        "id": "p37_pD4CoZG8",
        "outputId": "c7cdb2f6-d67b-4f3e-d5f7-64e0568156d7",
        "colab": {
          "base_uri": "https://localhost:8080/",
          "height": 35
        }
      },
      "source": [
        "f'Média: {np.mean(s_wage.values)}; Mediana: {np.median(s_wage.values)}; STD: {np.std(s_wage.values)}'"
      ],
      "execution_count": null,
      "outputs": [
        {
          "output_type": "execute_result",
          "data": {
            "application/vnd.google.colaboratory.intrinsic+json": {
              "type": "string"
            },
            "text/plain": [
              "'Média: 9731.312132696215; Mediana: 3000.0; STD: 21998.686253949738'"
            ]
          },
          "metadata": {
            "tags": []
          },
          "execution_count": 24
        }
      ]
    },
    {
      "cell_type": "code",
      "metadata": {
        "id": "DgyH_KT6oeKd"
      },
      "source": [
        ""
      ],
      "execution_count": null,
      "outputs": []
    },
    {
      "cell_type": "code",
      "metadata": {
        "id": "rnV4XYpWkNGr",
        "outputId": "c35fdebb-6792-482d-c197-e6a4d0694e40",
        "colab": {
          "base_uri": "https://localhost:8080/",
          "height": 238
        }
      },
      "source": [
        "df_Fifa['wage']>lim_superior_outlier[0]"
      ],
      "execution_count": null,
      "outputs": [
        {
          "output_type": "execute_result",
          "data": {
            "text/plain": [
              "ID\n",
              "158023     True\n",
              "20801      True\n",
              "190871     True\n",
              "193080     True\n",
              "192985     True\n",
              "          ...  \n",
              "238813    False\n",
              "243165    False\n",
              "241638    False\n",
              "246268    False\n",
              "246269    False\n",
              "Name: wage, Length: 18207, dtype: bool"
            ]
          },
          "metadata": {
            "tags": []
          },
          "execution_count": 13
        }
      ]
    },
    {
      "cell_type": "code",
      "metadata": {
        "id": "_CSb9_yrlKrS",
        "outputId": "1c70975a-1ff6-4767-d578-51928bd21c02",
        "colab": {
          "base_uri": "https://localhost:8080/",
          "height": 238
        }
      },
      "source": [
        "df_Fifa['name'][_13]"
      ],
      "execution_count": null,
      "outputs": [
        {
          "output_type": "execute_result",
          "data": {
            "text/plain": [
              "ID\n",
              "158023             L. Messi\n",
              "20801     Cristiano Ronaldo\n",
              "190871            Neymar Jr\n",
              "193080               De Gea\n",
              "192985         K. De Bruyne\n",
              "                ...        \n",
              "213642            J. Wilson\n",
              "231856        Álvaro Tejero\n",
              "245238         Javi Sánchez\n",
              "225105      Cristo González\n",
              "241467      F. Feuillassier\n",
              "Name: name, Length: 2031, dtype: object"
            ]
          },
          "metadata": {
            "tags": []
          },
          "execution_count": 23
        }
      ]
    },
    {
      "cell_type": "code",
      "metadata": {
        "id": "wjNm1gsZlYMe"
      },
      "source": [
        ""
      ],
      "execution_count": null,
      "outputs": []
    },
    {
      "cell_type": "code",
      "metadata": {
        "id": "V-DqiVsskqk5",
        "outputId": "62a3cb39-2ab5-4650-9c80-6cb37f40d6d9",
        "colab": {
          "base_uri": "https://localhost:8080/",
          "height": 34
        }
      },
      "source": [
        "type(lim_superior_outlier)"
      ],
      "execution_count": null,
      "outputs": [
        {
          "output_type": "execute_result",
          "data": {
            "text/plain": [
              "numpy.ndarray"
            ]
          },
          "metadata": {
            "tags": []
          },
          "execution_count": 11
        }
      ]
    },
    {
      "cell_type": "code",
      "metadata": {
        "id": "VQ2fFJWhk5aN",
        "outputId": "1d676f72-aca4-4c8c-e8a0-02fdc224e518",
        "colab": {
          "base_uri": "https://localhost:8080/",
          "height": 34
        }
      },
      "source": [
        "lim_superior_outlier"
      ],
      "execution_count": null,
      "outputs": [
        {
          "output_type": "execute_result",
          "data": {
            "text/plain": [
              "array([21000.])"
            ]
          },
          "metadata": {
            "tags": []
          },
          "execution_count": 12
        }
      ]
    },
    {
      "cell_type": "code",
      "metadata": {
        "id": "ZWRdotZjk8Ck"
      },
      "source": [
        ""
      ],
      "execution_count": null,
      "outputs": []
    },
    {
      "cell_type": "code",
      "metadata": {
        "id": "-hMSyXfWkSvw"
      },
      "source": [
        ""
      ],
      "execution_count": null,
      "outputs": []
    },
    {
      "cell_type": "code",
      "metadata": {
        "id": "1J87p4lrVVPu"
      },
      "source": [
        "# df_Fifa2 tem 'Wage' sem notações e transformado de string para int64\n",
        "df_wage = df_Fifa2[['Name','Wage']]"
      ],
      "execution_count": null,
      "outputs": []
    },
    {
      "cell_type": "code",
      "metadata": {
        "id": "4G7q1RO9VSfB"
      },
      "source": [
        "s_wage = df_Fifa2['Wage']"
      ],
      "execution_count": null,
      "outputs": []
    },
    {
      "cell_type": "code",
      "metadata": {
        "id": "Yz3itC0SNYOO"
      },
      "source": [
        "type(s_wage)"
      ],
      "execution_count": null,
      "outputs": []
    },
    {
      "cell_type": "code",
      "metadata": {
        "id": "wDyqnUFeNg_6"
      },
      "source": [
        "a_wage = s_wage.values\n",
        "a_wage"
      ],
      "execution_count": null,
      "outputs": []
    },
    {
      "cell_type": "code",
      "metadata": {
        "id": "6-M4vqK7U978"
      },
      "source": [
        "len(a_wage)"
      ],
      "execution_count": null,
      "outputs": []
    },
    {
      "cell_type": "code",
      "metadata": {
        "id": "1tJJTLZ6UcJk"
      },
      "source": [
        "is_nan = np.isnan(a_wage)\n",
        "is_nan\n"
      ],
      "execution_count": null,
      "outputs": []
    },
    {
      "cell_type": "code",
      "metadata": {
        "id": "kI1gdt43VaEJ"
      },
      "source": [
        "a_wage[is_nan]"
      ],
      "execution_count": null,
      "outputs": []
    },
    {
      "cell_type": "code",
      "metadata": {
        "id": "_OQubKYkU1wY"
      },
      "source": [
        "a_club = df_Fifa['Club']\n",
        "a_club"
      ],
      "execution_count": null,
      "outputs": []
    },
    {
      "cell_type": "code",
      "metadata": {
        "id": "PXT9HUNrb18O"
      },
      "source": [
        "aa = a_club.values\n",
        "aa"
      ],
      "execution_count": null,
      "outputs": []
    },
    {
      "cell_type": "code",
      "metadata": {
        "id": "l-Eo7RFwYsU6"
      },
      "source": [
        "import numpy as np\n",
        "aa == 'Nan'"
      ],
      "execution_count": null,
      "outputs": []
    },
    {
      "cell_type": "code",
      "metadata": {
        "id": "o2zvLkW-Y065"
      },
      "source": [
        "aa[_228]"
      ],
      "execution_count": null,
      "outputs": []
    },
    {
      "cell_type": "code",
      "metadata": {
        "id": "BS42IN1IYv4l"
      },
      "source": [
        ""
      ],
      "execution_count": null,
      "outputs": []
    },
    {
      "cell_type": "code",
      "metadata": {
        "id": "YPCGbfRJWxHm"
      },
      "source": [
        "df_Fifa[_208]"
      ],
      "execution_count": null,
      "outputs": []
    },
    {
      "cell_type": "code",
      "metadata": {
        "id": "l2aKUTo4V2bF"
      },
      "source": [
        "df_Fifa2[_205]"
      ],
      "execution_count": null,
      "outputs": []
    },
    {
      "cell_type": "code",
      "metadata": {
        "id": "nAe3fI8hOgY9"
      },
      "source": [
        "f'Média: {np.mean(s_wage.values)}; Mediana: {np.median(s_wage.values)}; STD: {np.std(s_wage.values)}'"
      ],
      "execution_count": null,
      "outputs": []
    },
    {
      "cell_type": "code",
      "metadata": {
        "id": "u54w4q4FO_u-"
      },
      "source": [
        "a_wage.sum()/18207"
      ],
      "execution_count": null,
      "outputs": []
    },
    {
      "cell_type": "code",
      "metadata": {
        "id": "jQ4MXtlyPKHd"
      },
      "source": [
        "# Import a biblioteca seaborn:\n",
        "import seaborn as sns\n",
        "\n",
        "# Boxplot antes dos \"outliers\"\n",
        "sns.boxplot(y = a_wage)"
      ],
      "execution_count": null,
      "outputs": []
    },
    {
      "cell_type": "code",
      "metadata": {
        "id": "n1vn5bMuPmzg"
      },
      "source": [
        "Q1 = np.percentile(a_wage, q = [25])\n",
        "Q3 = np.percentile(a_wage, q = [75])\n",
        "Q2 = np.percentile(a_wage, q = [50])\n",
        "p99 = np.percentile(a_wage, q = [99])\n",
        "p95 = np.percentile(a_wage, q = [95])\n",
        "\n",
        "IQR = Q3-Q1 # Diferença interquartílica\n",
        "lim_inferior_outlier = Q1-1.5*IQR\n",
        "lim_superior_outlier = Q3+1.5*IQR"
      ],
      "execution_count": null,
      "outputs": []
    },
    {
      "cell_type": "code",
      "metadata": {
        "id": "u9g12VOER_wI"
      },
      "source": [
        "f'Q1: {Q1}, Q3: {Q3}, Q2: {Q2}, lim_inferior_outlier: {lim_inferior_outlier}, lim_superior_outlier: {lim_superior_outlier}'"
      ],
      "execution_count": null,
      "outputs": []
    },
    {
      "cell_type": "code",
      "metadata": {
        "id": "avTYTDA3SUa-"
      },
      "source": [
        ""
      ],
      "execution_count": null,
      "outputs": []
    },
    {
      "cell_type": "code",
      "metadata": {
        "id": "FKqrJhiMOGJF"
      },
      "source": [
        "len(_162)"
      ],
      "execution_count": null,
      "outputs": []
    },
    {
      "cell_type": "code",
      "metadata": {
        "id": "kPbF_l9GLVoU"
      },
      "source": [
        "_140.values"
      ],
      "execution_count": null,
      "outputs": []
    },
    {
      "cell_type": "code",
      "metadata": {
        "id": "zEJCey0VLnB9"
      },
      "source": [
        "sum(_152)"
      ],
      "execution_count": null,
      "outputs": []
    },
    {
      "cell_type": "code",
      "metadata": {
        "id": "x6NxnZ-AJs7H"
      },
      "source": [
        "df_w = pd.DataFrame([])"
      ],
      "execution_count": null,
      "outputs": []
    },
    {
      "cell_type": "code",
      "metadata": {
        "id": "DOBtlEbElRq5"
      },
      "source": [
        "# 17. Quais os insights em relação à variável overall (nota média do atleta) por idade, clube e país?\n",
        "# 18. Quais são os melhores clubes se levarmos em consideração as variáveis Potential e Overall?\n",
        "# 19. Apresente o ranking dos goleiros (use a variável/atributo 'Preferred Positions') por Potencial, Overall. Estamos à procura de 'GK'.\n",
        "# 20. Quem são os jogadores mais rápidos (variável/atributo 'Sprint speed'=?\n",
        "# 21. Quem são os 5 melhores jogadores em termos de chute (força para chutar) (use a variável/atributo 'Shot power')?\n",
        "# 22. Quem são os outliers em termos de salário?\n",
        "# 23. Quem são os outliers em termos de potência no chute?"
      ],
      "execution_count": null,
      "outputs": []
    },
    {
      "cell_type": "code",
      "metadata": {
        "id": "ufmS5DLWjv0W"
      },
      "source": [
        ""
      ],
      "execution_count": null,
      "outputs": []
    }
  ]
}