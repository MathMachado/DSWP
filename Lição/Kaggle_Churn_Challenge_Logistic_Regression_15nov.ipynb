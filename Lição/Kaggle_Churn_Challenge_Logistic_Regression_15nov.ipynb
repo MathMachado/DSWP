{
  "nbformat": 4,
  "nbformat_minor": 0,
  "metadata": {
    "colab": {
      "name": "Untitled8.ipynb",
      "provenance": [],
      "authorship_tag": "ABX9TyMWy9jv+syr9njhQf0o0qMz",
      "include_colab_link": true
    },
    "kernelspec": {
      "name": "python3",
      "display_name": "Python 3"
    }
  },
  "cells": [
    {
      "cell_type": "markdown",
      "metadata": {
        "id": "view-in-github",
        "colab_type": "text"
      },
      "source": [
        "<a href=\"https://colab.research.google.com/github/cryssoga/DSWP/blob/master/Li%C3%A7%C3%A3o/Kaggle_Churn_Challenge_Logistic_Regression_15nov.ipynb\" target=\"_parent\"><img src=\"https://colab.research.google.com/assets/colab-badge.svg\" alt=\"Open In Colab\"/></a>"
      ]
    },
    {
      "cell_type": "markdown",
      "metadata": {
        "id": "I-cvXhGCCNTN"
      },
      "source": [
        "## Labdata Churn Challenge 2020\n",
        "\n",
        "Try to predict whether a client will churn the telco service\n",
        "Cada linha representa um cliente e cada coluna representa uma informação a respeito daquele cliente.\n",
        "\n",
        "Os dados incluem os seguintes grupos de variáveis:\n",
        "\n",
        "•\tChurn: representa se um cliente cancelou ou não os serviços contratados\n",
        "\n",
        "•\tServiços que cada cliente contratou - phone, multiple lines, internet, online security, online backup, device protection, tech support, and streaming TV and movies\n",
        "\n",
        "•\tInformações a respeito da conta do cliente – how long they’ve been a customer, contract, payment method, paperless billing, monthly charges, and total charges\n",
        "\n",
        "•\tInformações demográficas – gender, age range, and if they have partners and dependents\n",
        "\n",
        "The raw data contains 7043 rows (customers) and 21 columns (features)."
      ]
    },
    {
      "cell_type": "code",
      "metadata": {
        "id": "P0-pQ5vxCPW8"
      },
      "source": [
        "import pandas as pd\n",
        "import numpy as np"
      ],
      "execution_count": 1,
      "outputs": []
    },
    {
      "cell_type": "code",
      "metadata": {
        "id": "-TgqLPAoDQ4a"
      },
      "source": [
        "# url dos arquivos baixados do site https://www.kaggle.com/c/labdata-churn-challenge-2020/data e uploaded em github\n",
        "\n",
        "url_train = 'https://raw.githubusercontent.com/cryssoga/DSWP/master/Li%C3%A7%C3%A3o/train.csv'\n",
        "url_test = 'https://raw.githubusercontent.com/cryssoga/DSWP/master/Li%C3%A7%C3%A3o/test.csv'\n",
        "url_sample_submission = 'https://raw.githubusercontent.com/cryssoga/DSWP/master/Li%C3%A7%C3%A3o/sample_submission.csv'"
      ],
      "execution_count": 2,
      "outputs": []
    },
    {
      "cell_type": "code",
      "metadata": {
        "id": "ShDbzDgjEP88"
      },
      "source": [
        "# carregando em dataframes:\n",
        "\n",
        "df_train = pd.read_csv(url_train)\n",
        "df_test = pd.read_csv(url_test)\n",
        "df_sample_submission = pd.read_csv(url_sample_submission)"
      ],
      "execution_count": 3,
      "outputs": []
    },
    {
      "cell_type": "code",
      "metadata": {
        "id": "amEfeP1K0uwy",
        "outputId": "725ff90a-c531-44ec-b9cf-6abee20e2d4f",
        "colab": {
          "base_uri": "https://localhost:8080/"
        }
      },
      "source": [
        "df_train.shape"
      ],
      "execution_count": null,
      "outputs": [
        {
          "output_type": "execute_result",
          "data": {
            "text/plain": [
              "(5634, 21)"
            ]
          },
          "metadata": {
            "tags": []
          },
          "execution_count": 127
        }
      ]
    },
    {
      "cell_type": "code",
      "metadata": {
        "id": "cy-X37XyDzvd",
        "outputId": "e4dae3c1-4c34-4260-e6b5-c0003641024a",
        "colab": {
          "base_uri": "https://localhost:8080/"
        }
      },
      "source": [
        "5634/21     # verificando relação entre quantidade de linhas e variáveis"
      ],
      "execution_count": null,
      "outputs": [
        {
          "output_type": "execute_result",
          "data": {
            "text/plain": [
              "268.2857142857143"
            ]
          },
          "metadata": {
            "tags": []
          },
          "execution_count": 128
        }
      ]
    },
    {
      "cell_type": "code",
      "metadata": {
        "id": "B-IOaL1W0w5h",
        "outputId": "f23b7eb0-1709-483e-acda-5fba802b7701",
        "colab": {
          "base_uri": "https://localhost:8080/"
        }
      },
      "source": [
        "df_test.shape"
      ],
      "execution_count": null,
      "outputs": [
        {
          "output_type": "execute_result",
          "data": {
            "text/plain": [
              "(1409, 20)"
            ]
          },
          "metadata": {
            "tags": []
          },
          "execution_count": 129
        }
      ]
    },
    {
      "cell_type": "code",
      "metadata": {
        "id": "b-WLN1oOpxRZ",
        "outputId": "1ccab82b-8e53-4a37-e5f3-4d1c908fe2e1",
        "colab": {
          "base_uri": "https://localhost:8080/"
        }
      },
      "source": [
        "1409/(1409+5634)      # test: 20%, train: 80%"
      ],
      "execution_count": null,
      "outputs": [
        {
          "output_type": "execute_result",
          "data": {
            "text/plain": [
              "0.20005679397983814"
            ]
          },
          "metadata": {
            "tags": []
          },
          "execution_count": 130
        }
      ]
    },
    {
      "cell_type": "code",
      "metadata": {
        "id": "Qc7YANko0yhM",
        "outputId": "ae9f2a8b-3539-43fe-8a15-be9fe105808f",
        "colab": {
          "base_uri": "https://localhost:8080/"
        }
      },
      "source": [
        "df_sample_submission.shape"
      ],
      "execution_count": null,
      "outputs": [
        {
          "output_type": "execute_result",
          "data": {
            "text/plain": [
              "(1409, 2)"
            ]
          },
          "metadata": {
            "tags": []
          },
          "execution_count": 131
        }
      ]
    },
    {
      "cell_type": "code",
      "metadata": {
        "id": "bqTdqjbcFaTt",
        "outputId": "1e1bc8c7-1b0e-4c37-afab-63b09128b8d3",
        "colab": {
          "base_uri": "https://localhost:8080/",
          "height": 117
        }
      },
      "source": [
        "df_train.head(1)  "
      ],
      "execution_count": null,
      "outputs": [
        {
          "output_type": "execute_result",
          "data": {
            "text/html": [
              "<div>\n",
              "<style scoped>\n",
              "    .dataframe tbody tr th:only-of-type {\n",
              "        vertical-align: middle;\n",
              "    }\n",
              "\n",
              "    .dataframe tbody tr th {\n",
              "        vertical-align: top;\n",
              "    }\n",
              "\n",
              "    .dataframe thead th {\n",
              "        text-align: right;\n",
              "    }\n",
              "</style>\n",
              "<table border=\"1\" class=\"dataframe\">\n",
              "  <thead>\n",
              "    <tr style=\"text-align: right;\">\n",
              "      <th></th>\n",
              "      <th>id</th>\n",
              "      <th>gender</th>\n",
              "      <th>SeniorCitizen</th>\n",
              "      <th>Partner</th>\n",
              "      <th>Dependents</th>\n",
              "      <th>tenure</th>\n",
              "      <th>PhoneService</th>\n",
              "      <th>MultipleLines</th>\n",
              "      <th>InternetService</th>\n",
              "      <th>OnlineSecurity</th>\n",
              "      <th>OnlineBackup</th>\n",
              "      <th>DeviceProtection</th>\n",
              "      <th>TechSupport</th>\n",
              "      <th>StreamingTV</th>\n",
              "      <th>StreamingMovies</th>\n",
              "      <th>Contract</th>\n",
              "      <th>PaperlessBilling</th>\n",
              "      <th>PaymentMethod</th>\n",
              "      <th>MonthlyCharges</th>\n",
              "      <th>TotalCharges</th>\n",
              "      <th>Churn</th>\n",
              "    </tr>\n",
              "  </thead>\n",
              "  <tbody>\n",
              "    <tr>\n",
              "      <th>0</th>\n",
              "      <td>4030</td>\n",
              "      <td>Female</td>\n",
              "      <td>0</td>\n",
              "      <td>No</td>\n",
              "      <td>No</td>\n",
              "      <td>56.0</td>\n",
              "      <td>No</td>\n",
              "      <td>No phone service</td>\n",
              "      <td>DSL</td>\n",
              "      <td>Yes</td>\n",
              "      <td>Yes</td>\n",
              "      <td>Yes</td>\n",
              "      <td>Yes</td>\n",
              "      <td>No</td>\n",
              "      <td>No</td>\n",
              "      <td>Two year</td>\n",
              "      <td>No</td>\n",
              "      <td>NaN</td>\n",
              "      <td>45.05</td>\n",
              "      <td>2560.1</td>\n",
              "      <td>0</td>\n",
              "    </tr>\n",
              "  </tbody>\n",
              "</table>\n",
              "</div>"
            ],
            "text/plain": [
              "     id  gender  SeniorCitizen  ... MonthlyCharges TotalCharges  Churn\n",
              "0  4030  Female              0  ...          45.05       2560.1      0\n",
              "\n",
              "[1 rows x 21 columns]"
            ]
          },
          "metadata": {
            "tags": []
          },
          "execution_count": 132
        }
      ]
    },
    {
      "cell_type": "code",
      "metadata": {
        "id": "6CUwBU-PxR_M",
        "outputId": "e8ea56df-761c-40e7-86ef-ffeffea6b442",
        "colab": {
          "base_uri": "https://localhost:8080/",
          "height": 117
        }
      },
      "source": [
        "df_test.head(1)"
      ],
      "execution_count": null,
      "outputs": [
        {
          "output_type": "execute_result",
          "data": {
            "text/html": [
              "<div>\n",
              "<style scoped>\n",
              "    .dataframe tbody tr th:only-of-type {\n",
              "        vertical-align: middle;\n",
              "    }\n",
              "\n",
              "    .dataframe tbody tr th {\n",
              "        vertical-align: top;\n",
              "    }\n",
              "\n",
              "    .dataframe thead th {\n",
              "        text-align: right;\n",
              "    }\n",
              "</style>\n",
              "<table border=\"1\" class=\"dataframe\">\n",
              "  <thead>\n",
              "    <tr style=\"text-align: right;\">\n",
              "      <th></th>\n",
              "      <th>id</th>\n",
              "      <th>gender</th>\n",
              "      <th>SeniorCitizen</th>\n",
              "      <th>Partner</th>\n",
              "      <th>Dependents</th>\n",
              "      <th>tenure</th>\n",
              "      <th>PhoneService</th>\n",
              "      <th>MultipleLines</th>\n",
              "      <th>InternetService</th>\n",
              "      <th>OnlineSecurity</th>\n",
              "      <th>OnlineBackup</th>\n",
              "      <th>DeviceProtection</th>\n",
              "      <th>TechSupport</th>\n",
              "      <th>StreamingTV</th>\n",
              "      <th>StreamingMovies</th>\n",
              "      <th>Contract</th>\n",
              "      <th>PaperlessBilling</th>\n",
              "      <th>PaymentMethod</th>\n",
              "      <th>MonthlyCharges</th>\n",
              "      <th>TotalCharges</th>\n",
              "    </tr>\n",
              "  </thead>\n",
              "  <tbody>\n",
              "    <tr>\n",
              "      <th>0</th>\n",
              "      <td>5027</td>\n",
              "      <td>Male</td>\n",
              "      <td>0</td>\n",
              "      <td>Yes</td>\n",
              "      <td>Yes</td>\n",
              "      <td>23.0</td>\n",
              "      <td>Yes</td>\n",
              "      <td>No</td>\n",
              "      <td>No</td>\n",
              "      <td>No internet service</td>\n",
              "      <td>No internet service</td>\n",
              "      <td>No internet service</td>\n",
              "      <td>No internet service</td>\n",
              "      <td>No internet service</td>\n",
              "      <td>No internet service</td>\n",
              "      <td>One year</td>\n",
              "      <td>Yes</td>\n",
              "      <td>Credit card (automatic)</td>\n",
              "      <td>20.0</td>\n",
              "      <td>445.3</td>\n",
              "    </tr>\n",
              "  </tbody>\n",
              "</table>\n",
              "</div>"
            ],
            "text/plain": [
              "     id gender  ...  MonthlyCharges TotalCharges\n",
              "0  5027   Male  ...            20.0        445.3\n",
              "\n",
              "[1 rows x 20 columns]"
            ]
          },
          "metadata": {
            "tags": []
          },
          "execution_count": 133
        }
      ]
    },
    {
      "cell_type": "code",
      "metadata": {
        "id": "Eqs6h4y3xoNb",
        "outputId": "c5412371-12ef-4110-ba63-7504927e26b6",
        "colab": {
          "base_uri": "https://localhost:8080/",
          "height": 80
        }
      },
      "source": [
        "df_sample_submission.head(1)"
      ],
      "execution_count": null,
      "outputs": [
        {
          "output_type": "execute_result",
          "data": {
            "text/html": [
              "<div>\n",
              "<style scoped>\n",
              "    .dataframe tbody tr th:only-of-type {\n",
              "        vertical-align: middle;\n",
              "    }\n",
              "\n",
              "    .dataframe tbody tr th {\n",
              "        vertical-align: top;\n",
              "    }\n",
              "\n",
              "    .dataframe thead th {\n",
              "        text-align: right;\n",
              "    }\n",
              "</style>\n",
              "<table border=\"1\" class=\"dataframe\">\n",
              "  <thead>\n",
              "    <tr style=\"text-align: right;\">\n",
              "      <th></th>\n",
              "      <th>id</th>\n",
              "      <th>Churn</th>\n",
              "    </tr>\n",
              "  </thead>\n",
              "  <tbody>\n",
              "    <tr>\n",
              "      <th>0</th>\n",
              "      <td>5027</td>\n",
              "      <td>0</td>\n",
              "    </tr>\n",
              "  </tbody>\n",
              "</table>\n",
              "</div>"
            ],
            "text/plain": [
              "     id  Churn\n",
              "0  5027      0"
            ]
          },
          "metadata": {
            "tags": []
          },
          "execution_count": 134
        }
      ]
    },
    {
      "cell_type": "code",
      "metadata": {
        "id": "1PBGEy4S0msz",
        "outputId": "42031966-edd7-400a-f054-d8a4f3c88f0e",
        "colab": {
          "base_uri": "https://localhost:8080/"
        }
      },
      "source": [
        "df_train.isna().sum()"
      ],
      "execution_count": null,
      "outputs": [
        {
          "output_type": "execute_result",
          "data": {
            "text/plain": [
              "id                    0\n",
              "gender                0\n",
              "SeniorCitizen         0\n",
              "Partner               0\n",
              "Dependents          218\n",
              "tenure              461\n",
              "PhoneService          0\n",
              "MultipleLines         0\n",
              "InternetService       0\n",
              "OnlineSecurity        0\n",
              "OnlineBackup          0\n",
              "DeviceProtection      0\n",
              "TechSupport           0\n",
              "StreamingTV           0\n",
              "StreamingMovies       0\n",
              "Contract              0\n",
              "PaperlessBilling      0\n",
              "PaymentMethod        99\n",
              "MonthlyCharges        0\n",
              "TotalCharges          0\n",
              "Churn                 0\n",
              "dtype: int64"
            ]
          },
          "metadata": {
            "tags": []
          },
          "execution_count": 135
        }
      ]
    },
    {
      "cell_type": "code",
      "metadata": {
        "id": "ZwwOzcXyEbW0",
        "outputId": "134795ff-1ada-4fc7-e221-37848d33f61c",
        "colab": {
          "base_uri": "https://localhost:8080/"
        }
      },
      "source": [
        "df_train.info()\n"
      ],
      "execution_count": null,
      "outputs": [
        {
          "output_type": "stream",
          "text": [
            "<class 'pandas.core.frame.DataFrame'>\n",
            "RangeIndex: 5634 entries, 0 to 5633\n",
            "Data columns (total 21 columns):\n",
            " #   Column            Non-Null Count  Dtype  \n",
            "---  ------            --------------  -----  \n",
            " 0   id                5634 non-null   int64  \n",
            " 1   gender            5634 non-null   object \n",
            " 2   SeniorCitizen     5634 non-null   int64  \n",
            " 3   Partner           5634 non-null   object \n",
            " 4   Dependents        5416 non-null   object \n",
            " 5   tenure            5173 non-null   float64\n",
            " 6   PhoneService      5634 non-null   object \n",
            " 7   MultipleLines     5634 non-null   object \n",
            " 8   InternetService   5634 non-null   object \n",
            " 9   OnlineSecurity    5634 non-null   object \n",
            " 10  OnlineBackup      5634 non-null   object \n",
            " 11  DeviceProtection  5634 non-null   object \n",
            " 12  TechSupport       5634 non-null   object \n",
            " 13  StreamingTV       5634 non-null   object \n",
            " 14  StreamingMovies   5634 non-null   object \n",
            " 15  Contract          5634 non-null   object \n",
            " 16  PaperlessBilling  5634 non-null   object \n",
            " 17  PaymentMethod     5535 non-null   object \n",
            " 18  MonthlyCharges    5634 non-null   float64\n",
            " 19  TotalCharges      5634 non-null   object \n",
            " 20  Churn             5634 non-null   int64  \n",
            "dtypes: float64(2), int64(3), object(16)\n",
            "memory usage: 924.5+ KB\n"
          ],
          "name": "stdout"
        }
      ]
    },
    {
      "cell_type": "code",
      "metadata": {
        "id": "EmEECkwKhkGE",
        "outputId": "09fcc85b-5d4f-4548-8a13-c1e2ca448704",
        "colab": {
          "base_uri": "https://localhost:8080/",
          "height": 418
        }
      },
      "source": [
        "df_train[df_train['TotalCharges']==' ']"
      ],
      "execution_count": null,
      "outputs": [
        {
          "output_type": "execute_result",
          "data": {
            "text/html": [
              "<div>\n",
              "<style scoped>\n",
              "    .dataframe tbody tr th:only-of-type {\n",
              "        vertical-align: middle;\n",
              "    }\n",
              "\n",
              "    .dataframe tbody tr th {\n",
              "        vertical-align: top;\n",
              "    }\n",
              "\n",
              "    .dataframe thead th {\n",
              "        text-align: right;\n",
              "    }\n",
              "</style>\n",
              "<table border=\"1\" class=\"dataframe\">\n",
              "  <thead>\n",
              "    <tr style=\"text-align: right;\">\n",
              "      <th></th>\n",
              "      <th>id</th>\n",
              "      <th>gender</th>\n",
              "      <th>SeniorCitizen</th>\n",
              "      <th>Partner</th>\n",
              "      <th>Dependents</th>\n",
              "      <th>tenure</th>\n",
              "      <th>PhoneService</th>\n",
              "      <th>MultipleLines</th>\n",
              "      <th>InternetService</th>\n",
              "      <th>OnlineSecurity</th>\n",
              "      <th>OnlineBackup</th>\n",
              "      <th>DeviceProtection</th>\n",
              "      <th>TechSupport</th>\n",
              "      <th>StreamingTV</th>\n",
              "      <th>StreamingMovies</th>\n",
              "      <th>Contract</th>\n",
              "      <th>PaperlessBilling</th>\n",
              "      <th>PaymentMethod</th>\n",
              "      <th>MonthlyCharges</th>\n",
              "      <th>TotalCharges</th>\n",
              "      <th>Churn</th>\n",
              "    </tr>\n",
              "  </thead>\n",
              "  <tbody>\n",
              "    <tr>\n",
              "      <th>161</th>\n",
              "      <td>6755</td>\n",
              "      <td>Male</td>\n",
              "      <td>0</td>\n",
              "      <td>No</td>\n",
              "      <td>Yes</td>\n",
              "      <td>0.0</td>\n",
              "      <td>Yes</td>\n",
              "      <td>Yes</td>\n",
              "      <td>DSL</td>\n",
              "      <td>Yes</td>\n",
              "      <td>Yes</td>\n",
              "      <td>No</td>\n",
              "      <td>Yes</td>\n",
              "      <td>No</td>\n",
              "      <td>No</td>\n",
              "      <td>Two year</td>\n",
              "      <td>Yes</td>\n",
              "      <td>Bank transfer (automatic)</td>\n",
              "      <td>61.90</td>\n",
              "      <td></td>\n",
              "      <td>0</td>\n",
              "    </tr>\n",
              "    <tr>\n",
              "      <th>416</th>\n",
              "      <td>5219</td>\n",
              "      <td>Male</td>\n",
              "      <td>0</td>\n",
              "      <td>Yes</td>\n",
              "      <td>Yes</td>\n",
              "      <td>0.0</td>\n",
              "      <td>Yes</td>\n",
              "      <td>No</td>\n",
              "      <td>No</td>\n",
              "      <td>No internet service</td>\n",
              "      <td>No internet service</td>\n",
              "      <td>No internet service</td>\n",
              "      <td>No internet service</td>\n",
              "      <td>No internet service</td>\n",
              "      <td>No internet service</td>\n",
              "      <td>One year</td>\n",
              "      <td>Yes</td>\n",
              "      <td>Mailed check</td>\n",
              "      <td>19.70</td>\n",
              "      <td></td>\n",
              "      <td>0</td>\n",
              "    </tr>\n",
              "    <tr>\n",
              "      <th>1766</th>\n",
              "      <td>6671</td>\n",
              "      <td>Female</td>\n",
              "      <td>0</td>\n",
              "      <td>Yes</td>\n",
              "      <td>Yes</td>\n",
              "      <td>0.0</td>\n",
              "      <td>Yes</td>\n",
              "      <td>Yes</td>\n",
              "      <td>DSL</td>\n",
              "      <td>No</td>\n",
              "      <td>Yes</td>\n",
              "      <td>Yes</td>\n",
              "      <td>Yes</td>\n",
              "      <td>Yes</td>\n",
              "      <td>No</td>\n",
              "      <td>Two year</td>\n",
              "      <td>No</td>\n",
              "      <td>Mailed check</td>\n",
              "      <td>73.35</td>\n",
              "      <td></td>\n",
              "      <td>0</td>\n",
              "    </tr>\n",
              "    <tr>\n",
              "      <th>2145</th>\n",
              "      <td>937</td>\n",
              "      <td>Female</td>\n",
              "      <td>0</td>\n",
              "      <td>Yes</td>\n",
              "      <td>Yes</td>\n",
              "      <td>0.0</td>\n",
              "      <td>Yes</td>\n",
              "      <td>No</td>\n",
              "      <td>DSL</td>\n",
              "      <td>Yes</td>\n",
              "      <td>Yes</td>\n",
              "      <td>Yes</td>\n",
              "      <td>No</td>\n",
              "      <td>Yes</td>\n",
              "      <td>Yes</td>\n",
              "      <td>Two year</td>\n",
              "      <td>No</td>\n",
              "      <td>Mailed check</td>\n",
              "      <td>80.85</td>\n",
              "      <td></td>\n",
              "      <td>0</td>\n",
              "    </tr>\n",
              "    <tr>\n",
              "      <th>3375</th>\n",
              "      <td>3827</td>\n",
              "      <td>Male</td>\n",
              "      <td>0</td>\n",
              "      <td>Yes</td>\n",
              "      <td>Yes</td>\n",
              "      <td>0.0</td>\n",
              "      <td>Yes</td>\n",
              "      <td>Yes</td>\n",
              "      <td>No</td>\n",
              "      <td>No internet service</td>\n",
              "      <td>No internet service</td>\n",
              "      <td>No internet service</td>\n",
              "      <td>No internet service</td>\n",
              "      <td>No internet service</td>\n",
              "      <td>No internet service</td>\n",
              "      <td>Two year</td>\n",
              "      <td>No</td>\n",
              "      <td>Mailed check</td>\n",
              "      <td>25.35</td>\n",
              "      <td></td>\n",
              "      <td>0</td>\n",
              "    </tr>\n",
              "    <tr>\n",
              "      <th>3404</th>\n",
              "      <td>1083</td>\n",
              "      <td>Male</td>\n",
              "      <td>0</td>\n",
              "      <td>Yes</td>\n",
              "      <td>Yes</td>\n",
              "      <td>0.0</td>\n",
              "      <td>Yes</td>\n",
              "      <td>Yes</td>\n",
              "      <td>No</td>\n",
              "      <td>No internet service</td>\n",
              "      <td>No internet service</td>\n",
              "      <td>No internet service</td>\n",
              "      <td>No internet service</td>\n",
              "      <td>No internet service</td>\n",
              "      <td>No internet service</td>\n",
              "      <td>Two year</td>\n",
              "      <td>No</td>\n",
              "      <td>Mailed check</td>\n",
              "      <td>25.75</td>\n",
              "      <td></td>\n",
              "      <td>0</td>\n",
              "    </tr>\n",
              "    <tr>\n",
              "      <th>4008</th>\n",
              "      <td>3332</td>\n",
              "      <td>Male</td>\n",
              "      <td>0</td>\n",
              "      <td>Yes</td>\n",
              "      <td>Yes</td>\n",
              "      <td>0.0</td>\n",
              "      <td>Yes</td>\n",
              "      <td>No</td>\n",
              "      <td>No</td>\n",
              "      <td>No internet service</td>\n",
              "      <td>No internet service</td>\n",
              "      <td>No internet service</td>\n",
              "      <td>No internet service</td>\n",
              "      <td>No internet service</td>\n",
              "      <td>No internet service</td>\n",
              "      <td>Two year</td>\n",
              "      <td>No</td>\n",
              "      <td>Mailed check</td>\n",
              "      <td>19.85</td>\n",
              "      <td></td>\n",
              "      <td>0</td>\n",
              "    </tr>\n",
              "    <tr>\n",
              "      <th>5151</th>\n",
              "      <td>1341</td>\n",
              "      <td>Female</td>\n",
              "      <td>0</td>\n",
              "      <td>Yes</td>\n",
              "      <td>Yes</td>\n",
              "      <td>0.0</td>\n",
              "      <td>No</td>\n",
              "      <td>No phone service</td>\n",
              "      <td>DSL</td>\n",
              "      <td>Yes</td>\n",
              "      <td>Yes</td>\n",
              "      <td>Yes</td>\n",
              "      <td>Yes</td>\n",
              "      <td>Yes</td>\n",
              "      <td>No</td>\n",
              "      <td>Two year</td>\n",
              "      <td>No</td>\n",
              "      <td>Credit card (automatic)</td>\n",
              "      <td>56.05</td>\n",
              "      <td></td>\n",
              "      <td>0</td>\n",
              "    </tr>\n",
              "  </tbody>\n",
              "</table>\n",
              "</div>"
            ],
            "text/plain": [
              "        id  gender  SeniorCitizen  ... MonthlyCharges TotalCharges  Churn\n",
              "161   6755    Male              0  ...          61.90                   0\n",
              "416   5219    Male              0  ...          19.70                   0\n",
              "1766  6671  Female              0  ...          73.35                   0\n",
              "2145   937  Female              0  ...          80.85                   0\n",
              "3375  3827    Male              0  ...          25.35                   0\n",
              "3404  1083    Male              0  ...          25.75                   0\n",
              "4008  3332    Male              0  ...          19.85                   0\n",
              "5151  1341  Female              0  ...          56.05                   0\n",
              "\n",
              "[8 rows x 21 columns]"
            ]
          },
          "metadata": {
            "tags": []
          },
          "execution_count": 137
        }
      ]
    },
    {
      "cell_type": "code",
      "metadata": {
        "id": "H4vcZZL0oHBa",
        "outputId": "b77489b3-dc63-4409-978e-5374c2c1c0d4",
        "colab": {
          "base_uri": "https://localhost:8080/",
          "height": 213
        }
      },
      "source": [
        "df_test[df_test['TotalCharges']==' ']"
      ],
      "execution_count": null,
      "outputs": [
        {
          "output_type": "execute_result",
          "data": {
            "text/html": [
              "<div>\n",
              "<style scoped>\n",
              "    .dataframe tbody tr th:only-of-type {\n",
              "        vertical-align: middle;\n",
              "    }\n",
              "\n",
              "    .dataframe tbody tr th {\n",
              "        vertical-align: top;\n",
              "    }\n",
              "\n",
              "    .dataframe thead th {\n",
              "        text-align: right;\n",
              "    }\n",
              "</style>\n",
              "<table border=\"1\" class=\"dataframe\">\n",
              "  <thead>\n",
              "    <tr style=\"text-align: right;\">\n",
              "      <th></th>\n",
              "      <th>id</th>\n",
              "      <th>gender</th>\n",
              "      <th>SeniorCitizen</th>\n",
              "      <th>Partner</th>\n",
              "      <th>Dependents</th>\n",
              "      <th>tenure</th>\n",
              "      <th>PhoneService</th>\n",
              "      <th>MultipleLines</th>\n",
              "      <th>InternetService</th>\n",
              "      <th>OnlineSecurity</th>\n",
              "      <th>OnlineBackup</th>\n",
              "      <th>DeviceProtection</th>\n",
              "      <th>TechSupport</th>\n",
              "      <th>StreamingTV</th>\n",
              "      <th>StreamingMovies</th>\n",
              "      <th>Contract</th>\n",
              "      <th>PaperlessBilling</th>\n",
              "      <th>PaymentMethod</th>\n",
              "      <th>MonthlyCharges</th>\n",
              "      <th>TotalCharges</th>\n",
              "    </tr>\n",
              "  </thead>\n",
              "  <tbody>\n",
              "    <tr>\n",
              "      <th>313</th>\n",
              "      <td>4381</td>\n",
              "      <td>Female</td>\n",
              "      <td>0</td>\n",
              "      <td>Yes</td>\n",
              "      <td>Yes</td>\n",
              "      <td>0.0</td>\n",
              "      <td>Yes</td>\n",
              "      <td>No</td>\n",
              "      <td>No</td>\n",
              "      <td>No internet service</td>\n",
              "      <td>No internet service</td>\n",
              "      <td>No internet service</td>\n",
              "      <td>No internet service</td>\n",
              "      <td>No internet service</td>\n",
              "      <td>No internet service</td>\n",
              "      <td>Two year</td>\n",
              "      <td>No</td>\n",
              "      <td>Mailed check</td>\n",
              "      <td>20.00</td>\n",
              "      <td></td>\n",
              "    </tr>\n",
              "    <tr>\n",
              "      <th>1063</th>\n",
              "      <td>489</td>\n",
              "      <td>Female</td>\n",
              "      <td>0</td>\n",
              "      <td>Yes</td>\n",
              "      <td>Yes</td>\n",
              "      <td>0.0</td>\n",
              "      <td>No</td>\n",
              "      <td>No phone service</td>\n",
              "      <td>DSL</td>\n",
              "      <td>Yes</td>\n",
              "      <td>No</td>\n",
              "      <td>Yes</td>\n",
              "      <td>Yes</td>\n",
              "      <td>Yes</td>\n",
              "      <td>No</td>\n",
              "      <td>Two year</td>\n",
              "      <td>Yes</td>\n",
              "      <td>Bank transfer (automatic)</td>\n",
              "      <td>52.55</td>\n",
              "      <td></td>\n",
              "    </tr>\n",
              "    <tr>\n",
              "      <th>1297</th>\n",
              "      <td>754</td>\n",
              "      <td>Male</td>\n",
              "      <td>0</td>\n",
              "      <td>No</td>\n",
              "      <td>Yes</td>\n",
              "      <td>0.0</td>\n",
              "      <td>Yes</td>\n",
              "      <td>No</td>\n",
              "      <td>No</td>\n",
              "      <td>No internet service</td>\n",
              "      <td>No internet service</td>\n",
              "      <td>No internet service</td>\n",
              "      <td>No internet service</td>\n",
              "      <td>No internet service</td>\n",
              "      <td>No internet service</td>\n",
              "      <td>Two year</td>\n",
              "      <td>No</td>\n",
              "      <td>Mailed check</td>\n",
              "      <td>20.25</td>\n",
              "      <td></td>\n",
              "    </tr>\n",
              "  </tbody>\n",
              "</table>\n",
              "</div>"
            ],
            "text/plain": [
              "        id  gender  ...  MonthlyCharges TotalCharges\n",
              "313   4381  Female  ...           20.00             \n",
              "1063   489  Female  ...           52.55             \n",
              "1297   754    Male  ...           20.25             \n",
              "\n",
              "[3 rows x 20 columns]"
            ]
          },
          "metadata": {
            "tags": []
          },
          "execution_count": 138
        }
      ]
    },
    {
      "cell_type": "code",
      "metadata": {
        "id": "eliyRi5MoT0d"
      },
      "source": [
        "df_train['TotalCharges'] = df_train['TotalCharges'].replace(' ', '0')"
      ],
      "execution_count": 4,
      "outputs": []
    },
    {
      "cell_type": "code",
      "metadata": {
        "id": "h8otoWaDoLI5"
      },
      "source": [
        "df_test['TotalCharges'] = df_test['TotalCharges'].replace(' ', '0')"
      ],
      "execution_count": 5,
      "outputs": []
    },
    {
      "cell_type": "code",
      "metadata": {
        "id": "98Jcs2hkonuk",
        "outputId": "1dc49ae8-6708-46a5-a1d1-21932e8665bd",
        "colab": {
          "base_uri": "https://localhost:8080/",
          "height": 69
        }
      },
      "source": [
        "df_train[df_train['TotalCharges']==' ']"
      ],
      "execution_count": null,
      "outputs": [
        {
          "output_type": "execute_result",
          "data": {
            "text/html": [
              "<div>\n",
              "<style scoped>\n",
              "    .dataframe tbody tr th:only-of-type {\n",
              "        vertical-align: middle;\n",
              "    }\n",
              "\n",
              "    .dataframe tbody tr th {\n",
              "        vertical-align: top;\n",
              "    }\n",
              "\n",
              "    .dataframe thead th {\n",
              "        text-align: right;\n",
              "    }\n",
              "</style>\n",
              "<table border=\"1\" class=\"dataframe\">\n",
              "  <thead>\n",
              "    <tr style=\"text-align: right;\">\n",
              "      <th></th>\n",
              "      <th>id</th>\n",
              "      <th>gender</th>\n",
              "      <th>SeniorCitizen</th>\n",
              "      <th>Partner</th>\n",
              "      <th>Dependents</th>\n",
              "      <th>tenure</th>\n",
              "      <th>PhoneService</th>\n",
              "      <th>MultipleLines</th>\n",
              "      <th>InternetService</th>\n",
              "      <th>OnlineSecurity</th>\n",
              "      <th>OnlineBackup</th>\n",
              "      <th>DeviceProtection</th>\n",
              "      <th>TechSupport</th>\n",
              "      <th>StreamingTV</th>\n",
              "      <th>StreamingMovies</th>\n",
              "      <th>Contract</th>\n",
              "      <th>PaperlessBilling</th>\n",
              "      <th>PaymentMethod</th>\n",
              "      <th>MonthlyCharges</th>\n",
              "      <th>TotalCharges</th>\n",
              "      <th>Churn</th>\n",
              "    </tr>\n",
              "  </thead>\n",
              "  <tbody>\n",
              "  </tbody>\n",
              "</table>\n",
              "</div>"
            ],
            "text/plain": [
              "Empty DataFrame\n",
              "Columns: [id, gender, SeniorCitizen, Partner, Dependents, tenure, PhoneService, MultipleLines, InternetService, OnlineSecurity, OnlineBackup, DeviceProtection, TechSupport, StreamingTV, StreamingMovies, Contract, PaperlessBilling, PaymentMethod, MonthlyCharges, TotalCharges, Churn]\n",
              "Index: []"
            ]
          },
          "metadata": {
            "tags": []
          },
          "execution_count": 141
        }
      ]
    },
    {
      "cell_type": "code",
      "metadata": {
        "id": "vGNJr1WVoRsh",
        "outputId": "52752dbd-6799-4063-df1f-c94c1a1bd59e",
        "colab": {
          "base_uri": "https://localhost:8080/",
          "height": 69
        }
      },
      "source": [
        "df_test[df_test['TotalCharges']==' ']"
      ],
      "execution_count": null,
      "outputs": [
        {
          "output_type": "execute_result",
          "data": {
            "text/html": [
              "<div>\n",
              "<style scoped>\n",
              "    .dataframe tbody tr th:only-of-type {\n",
              "        vertical-align: middle;\n",
              "    }\n",
              "\n",
              "    .dataframe tbody tr th {\n",
              "        vertical-align: top;\n",
              "    }\n",
              "\n",
              "    .dataframe thead th {\n",
              "        text-align: right;\n",
              "    }\n",
              "</style>\n",
              "<table border=\"1\" class=\"dataframe\">\n",
              "  <thead>\n",
              "    <tr style=\"text-align: right;\">\n",
              "      <th></th>\n",
              "      <th>id</th>\n",
              "      <th>gender</th>\n",
              "      <th>SeniorCitizen</th>\n",
              "      <th>Partner</th>\n",
              "      <th>Dependents</th>\n",
              "      <th>tenure</th>\n",
              "      <th>PhoneService</th>\n",
              "      <th>MultipleLines</th>\n",
              "      <th>InternetService</th>\n",
              "      <th>OnlineSecurity</th>\n",
              "      <th>OnlineBackup</th>\n",
              "      <th>DeviceProtection</th>\n",
              "      <th>TechSupport</th>\n",
              "      <th>StreamingTV</th>\n",
              "      <th>StreamingMovies</th>\n",
              "      <th>Contract</th>\n",
              "      <th>PaperlessBilling</th>\n",
              "      <th>PaymentMethod</th>\n",
              "      <th>MonthlyCharges</th>\n",
              "      <th>TotalCharges</th>\n",
              "    </tr>\n",
              "  </thead>\n",
              "  <tbody>\n",
              "  </tbody>\n",
              "</table>\n",
              "</div>"
            ],
            "text/plain": [
              "Empty DataFrame\n",
              "Columns: [id, gender, SeniorCitizen, Partner, Dependents, tenure, PhoneService, MultipleLines, InternetService, OnlineSecurity, OnlineBackup, DeviceProtection, TechSupport, StreamingTV, StreamingMovies, Contract, PaperlessBilling, PaymentMethod, MonthlyCharges, TotalCharges]\n",
              "Index: []"
            ]
          },
          "metadata": {
            "tags": []
          },
          "execution_count": 142
        }
      ]
    },
    {
      "cell_type": "code",
      "metadata": {
        "id": "Tx2qvSefoyYb"
      },
      "source": [
        "df_train['TotalCharges'] = pd.to_numeric(df_train['TotalCharges'])"
      ],
      "execution_count": 6,
      "outputs": []
    },
    {
      "cell_type": "code",
      "metadata": {
        "id": "nPh41LZGoZvg"
      },
      "source": [
        "df_test['TotalCharges'] = pd.to_numeric(df_test['TotalCharges'])"
      ],
      "execution_count": 7,
      "outputs": []
    },
    {
      "cell_type": "code",
      "metadata": {
        "id": "O02X11xibRNn"
      },
      "source": [
        "df_train['TotalCharges'] = df_train['TotalCharges'].replace(0, df_train['TotalCharges'].median())"
      ],
      "execution_count": 8,
      "outputs": []
    },
    {
      "cell_type": "code",
      "metadata": {
        "id": "AQ_jwCeJbLrK"
      },
      "source": [
        "df_test['TotalCharges'] = df_test['TotalCharges'].replace(df_test['TotalCharges'].median())"
      ],
      "execution_count": 9,
      "outputs": []
    },
    {
      "cell_type": "code",
      "metadata": {
        "id": "aV8RLTYNozFB",
        "outputId": "4592fb40-71e6-497f-d4d3-95f8d5e823a0",
        "colab": {
          "base_uri": "https://localhost:8080/"
        }
      },
      "source": [
        "df_train.info()"
      ],
      "execution_count": 10,
      "outputs": [
        {
          "output_type": "stream",
          "text": [
            "<class 'pandas.core.frame.DataFrame'>\n",
            "RangeIndex: 5634 entries, 0 to 5633\n",
            "Data columns (total 21 columns):\n",
            " #   Column            Non-Null Count  Dtype  \n",
            "---  ------            --------------  -----  \n",
            " 0   id                5634 non-null   int64  \n",
            " 1   gender            5634 non-null   object \n",
            " 2   SeniorCitizen     5634 non-null   int64  \n",
            " 3   Partner           5634 non-null   object \n",
            " 4   Dependents        5416 non-null   object \n",
            " 5   tenure            5173 non-null   float64\n",
            " 6   PhoneService      5634 non-null   object \n",
            " 7   MultipleLines     5634 non-null   object \n",
            " 8   InternetService   5634 non-null   object \n",
            " 9   OnlineSecurity    5634 non-null   object \n",
            " 10  OnlineBackup      5634 non-null   object \n",
            " 11  DeviceProtection  5634 non-null   object \n",
            " 12  TechSupport       5634 non-null   object \n",
            " 13  StreamingTV       5634 non-null   object \n",
            " 14  StreamingMovies   5634 non-null   object \n",
            " 15  Contract          5634 non-null   object \n",
            " 16  PaperlessBilling  5634 non-null   object \n",
            " 17  PaymentMethod     5535 non-null   object \n",
            " 18  MonthlyCharges    5634 non-null   float64\n",
            " 19  TotalCharges      5634 non-null   float64\n",
            " 20  Churn             5634 non-null   int64  \n",
            "dtypes: float64(3), int64(3), object(15)\n",
            "memory usage: 924.5+ KB\n"
          ],
          "name": "stdout"
        }
      ]
    },
    {
      "cell_type": "code",
      "metadata": {
        "id": "Xr5KxJXWo3bK",
        "outputId": "27cb6b25-0bf2-450a-bde8-186d3124f22e",
        "colab": {
          "base_uri": "https://localhost:8080/"
        }
      },
      "source": [
        "df_train['PaymentMethod'].value_counts()"
      ],
      "execution_count": 11,
      "outputs": [
        {
          "output_type": "execute_result",
          "data": {
            "text/plain": [
              "Electronic check             1887\n",
              "Mailed check                 1272\n",
              "Bank transfer (automatic)    1212\n",
              "Credit card (automatic)      1164\n",
              "Name: PaymentMethod, dtype: int64"
            ]
          },
          "metadata": {
            "tags": []
          },
          "execution_count": 11
        }
      ]
    },
    {
      "cell_type": "code",
      "metadata": {
        "id": "cKP1lHuPqrdH"
      },
      "source": [
        "df_train['PaymentMethod'].fillna('Electronic check', inplace=True)"
      ],
      "execution_count": 12,
      "outputs": []
    },
    {
      "cell_type": "code",
      "metadata": {
        "id": "Ucg6hcX0r_OL",
        "outputId": "8cadfd41-b9a7-4737-81bd-f3b6c7a400dd",
        "colab": {
          "base_uri": "https://localhost:8080/"
        }
      },
      "source": [
        "df_train['Dependents'].value_counts()"
      ],
      "execution_count": null,
      "outputs": [
        {
          "output_type": "execute_result",
          "data": {
            "text/plain": [
              "No     3793\n",
              "Yes    1623\n",
              "Name: Dependents, dtype: int64"
            ]
          },
          "metadata": {
            "tags": []
          },
          "execution_count": 148
        }
      ]
    },
    {
      "cell_type": "code",
      "metadata": {
        "id": "8_k5uIW_sFn-"
      },
      "source": [
        "df_train['Dependents'].fillna('No',inplace = True)"
      ],
      "execution_count": 13,
      "outputs": []
    },
    {
      "cell_type": "code",
      "metadata": {
        "id": "Nrz-V08usLiz"
      },
      "source": [
        "df_train['tenure'].fillna(df_train['tenure'].median(), inplace=True)"
      ],
      "execution_count": 14,
      "outputs": []
    },
    {
      "cell_type": "code",
      "metadata": {
        "id": "D1lbW2Jlsidy",
        "outputId": "ddd1a424-353d-4f47-b3cb-f2b781feee1c",
        "colab": {
          "base_uri": "https://localhost:8080/"
        }
      },
      "source": [
        "df_train.isna().sum()"
      ],
      "execution_count": null,
      "outputs": [
        {
          "output_type": "execute_result",
          "data": {
            "text/plain": [
              "id                  0\n",
              "gender              0\n",
              "SeniorCitizen       0\n",
              "Partner             0\n",
              "Dependents          0\n",
              "tenure              0\n",
              "PhoneService        0\n",
              "MultipleLines       0\n",
              "InternetService     0\n",
              "OnlineSecurity      0\n",
              "OnlineBackup        0\n",
              "DeviceProtection    0\n",
              "TechSupport         0\n",
              "StreamingTV         0\n",
              "StreamingMovies     0\n",
              "Contract            0\n",
              "PaperlessBilling    0\n",
              "PaymentMethod       0\n",
              "MonthlyCharges      0\n",
              "TotalCharges        0\n",
              "Churn               0\n",
              "dtype: int64"
            ]
          },
          "metadata": {
            "tags": []
          },
          "execution_count": 151
        }
      ]
    },
    {
      "cell_type": "code",
      "metadata": {
        "id": "Xju38Lscvngo",
        "outputId": "d7ea5fe2-fc59-4387-d367-416dc2b547f9",
        "colab": {
          "base_uri": "https://localhost:8080/"
        }
      },
      "source": [
        "df_test.isna().sum()"
      ],
      "execution_count": null,
      "outputs": [
        {
          "output_type": "execute_result",
          "data": {
            "text/plain": [
              "id                    0\n",
              "gender                0\n",
              "SeniorCitizen         0\n",
              "Partner               0\n",
              "Dependents           41\n",
              "tenure              118\n",
              "PhoneService          0\n",
              "MultipleLines         0\n",
              "InternetService       0\n",
              "OnlineSecurity        0\n",
              "OnlineBackup          0\n",
              "DeviceProtection      0\n",
              "TechSupport           0\n",
              "StreamingTV           0\n",
              "StreamingMovies       0\n",
              "Contract              0\n",
              "PaperlessBilling      0\n",
              "PaymentMethod        30\n",
              "MonthlyCharges        0\n",
              "TotalCharges          0\n",
              "dtype: int64"
            ]
          },
          "metadata": {
            "tags": []
          },
          "execution_count": 152
        }
      ]
    },
    {
      "cell_type": "code",
      "metadata": {
        "id": "OSzTTanFeokh",
        "outputId": "28684a90-b9eb-470a-b248-7f315e26a01b",
        "colab": {
          "base_uri": "https://localhost:8080/"
        }
      },
      "source": [
        "df_test['Dependents'].value_counts()"
      ],
      "execution_count": 15,
      "outputs": [
        {
          "output_type": "execute_result",
          "data": {
            "text/plain": [
              "No     953\n",
              "Yes    415\n",
              "Name: Dependents, dtype: int64"
            ]
          },
          "metadata": {
            "tags": []
          },
          "execution_count": 15
        }
      ]
    },
    {
      "cell_type": "code",
      "metadata": {
        "id": "WybRiX6Av3gO",
        "outputId": "350eac52-5e90-49a0-8eb2-9aa0e811b934",
        "colab": {
          "base_uri": "https://localhost:8080/"
        }
      },
      "source": [
        "df_test['PaymentMethod'].value_counts()"
      ],
      "execution_count": 16,
      "outputs": [
        {
          "output_type": "execute_result",
          "data": {
            "text/plain": [
              "Electronic check             430\n",
              "Credit card (automatic)      329\n",
              "Mailed check                 313\n",
              "Bank transfer (automatic)    307\n",
              "Name: PaymentMethod, dtype: int64"
            ]
          },
          "metadata": {
            "tags": []
          },
          "execution_count": 16
        }
      ]
    },
    {
      "cell_type": "code",
      "metadata": {
        "id": "Y6UPGxs_v6rR"
      },
      "source": [
        "df_test['Dependents'].fillna('No', inplace=True)"
      ],
      "execution_count": 17,
      "outputs": []
    },
    {
      "cell_type": "code",
      "metadata": {
        "id": "EixfuxJ_d2No"
      },
      "source": [
        "df_test['PaymentMethod'].fillna('Electronic check',inplace = True)"
      ],
      "execution_count": 18,
      "outputs": []
    },
    {
      "cell_type": "code",
      "metadata": {
        "id": "QBv_uzNbwb_D"
      },
      "source": [
        "df_test['tenure'].fillna(df_test['tenure'].median(),inplace = True)"
      ],
      "execution_count": 19,
      "outputs": []
    },
    {
      "cell_type": "code",
      "metadata": {
        "id": "eXs_apSjSvmr",
        "outputId": "2314c82e-9dcb-436c-ae44-0dd4e5950091",
        "colab": {
          "base_uri": "https://localhost:8080/"
        }
      },
      "source": [
        "df_test.isna().sum()"
      ],
      "execution_count": 20,
      "outputs": [
        {
          "output_type": "execute_result",
          "data": {
            "text/plain": [
              "id                  0\n",
              "gender              0\n",
              "SeniorCitizen       0\n",
              "Partner             0\n",
              "Dependents          0\n",
              "tenure              0\n",
              "PhoneService        0\n",
              "MultipleLines       0\n",
              "InternetService     0\n",
              "OnlineSecurity      0\n",
              "OnlineBackup        0\n",
              "DeviceProtection    0\n",
              "TechSupport         0\n",
              "StreamingTV         0\n",
              "StreamingMovies     0\n",
              "Contract            0\n",
              "PaperlessBilling    0\n",
              "PaymentMethod       0\n",
              "MonthlyCharges      0\n",
              "TotalCharges        0\n",
              "dtype: int64"
            ]
          },
          "metadata": {
            "tags": []
          },
          "execution_count": 20
        }
      ]
    },
    {
      "cell_type": "code",
      "metadata": {
        "id": "D7UbnIcO90Jj",
        "outputId": "922dc9d5-a762-47e9-e388-2f4b422f6b9c",
        "colab": {
          "base_uri": "https://localhost:8080/"
        }
      },
      "source": [
        "df_train.shape"
      ],
      "execution_count": null,
      "outputs": [
        {
          "output_type": "execute_result",
          "data": {
            "text/plain": [
              "(5634, 21)"
            ]
          },
          "metadata": {
            "tags": []
          },
          "execution_count": 159
        }
      ]
    },
    {
      "cell_type": "code",
      "metadata": {
        "id": "qO1jUq3U9_c3",
        "outputId": "9a54d62d-6193-4da1-9844-9be7ddacca9e",
        "colab": {
          "base_uri": "https://localhost:8080/",
          "height": 301
        }
      },
      "source": [
        "# Dividindo df_train em df_X_train e df_y_train:\n",
        "df_X_train = df_train.drop('Churn',axis=1)\n",
        "df_X_train.head()"
      ],
      "execution_count": 21,
      "outputs": [
        {
          "output_type": "execute_result",
          "data": {
            "text/html": [
              "<div>\n",
              "<style scoped>\n",
              "    .dataframe tbody tr th:only-of-type {\n",
              "        vertical-align: middle;\n",
              "    }\n",
              "\n",
              "    .dataframe tbody tr th {\n",
              "        vertical-align: top;\n",
              "    }\n",
              "\n",
              "    .dataframe thead th {\n",
              "        text-align: right;\n",
              "    }\n",
              "</style>\n",
              "<table border=\"1\" class=\"dataframe\">\n",
              "  <thead>\n",
              "    <tr style=\"text-align: right;\">\n",
              "      <th></th>\n",
              "      <th>id</th>\n",
              "      <th>gender</th>\n",
              "      <th>SeniorCitizen</th>\n",
              "      <th>Partner</th>\n",
              "      <th>Dependents</th>\n",
              "      <th>tenure</th>\n",
              "      <th>PhoneService</th>\n",
              "      <th>MultipleLines</th>\n",
              "      <th>InternetService</th>\n",
              "      <th>OnlineSecurity</th>\n",
              "      <th>OnlineBackup</th>\n",
              "      <th>DeviceProtection</th>\n",
              "      <th>TechSupport</th>\n",
              "      <th>StreamingTV</th>\n",
              "      <th>StreamingMovies</th>\n",
              "      <th>Contract</th>\n",
              "      <th>PaperlessBilling</th>\n",
              "      <th>PaymentMethod</th>\n",
              "      <th>MonthlyCharges</th>\n",
              "      <th>TotalCharges</th>\n",
              "    </tr>\n",
              "  </thead>\n",
              "  <tbody>\n",
              "    <tr>\n",
              "      <th>0</th>\n",
              "      <td>4030</td>\n",
              "      <td>Female</td>\n",
              "      <td>0</td>\n",
              "      <td>No</td>\n",
              "      <td>No</td>\n",
              "      <td>56.0</td>\n",
              "      <td>No</td>\n",
              "      <td>No phone service</td>\n",
              "      <td>DSL</td>\n",
              "      <td>Yes</td>\n",
              "      <td>Yes</td>\n",
              "      <td>Yes</td>\n",
              "      <td>Yes</td>\n",
              "      <td>No</td>\n",
              "      <td>No</td>\n",
              "      <td>Two year</td>\n",
              "      <td>No</td>\n",
              "      <td>Electronic check</td>\n",
              "      <td>45.05</td>\n",
              "      <td>2560.10</td>\n",
              "    </tr>\n",
              "    <tr>\n",
              "      <th>1</th>\n",
              "      <td>6731</td>\n",
              "      <td>Male</td>\n",
              "      <td>0</td>\n",
              "      <td>Yes</td>\n",
              "      <td>Yes</td>\n",
              "      <td>29.0</td>\n",
              "      <td>Yes</td>\n",
              "      <td>No</td>\n",
              "      <td>No</td>\n",
              "      <td>No internet service</td>\n",
              "      <td>No internet service</td>\n",
              "      <td>No internet service</td>\n",
              "      <td>No internet service</td>\n",
              "      <td>No internet service</td>\n",
              "      <td>No internet service</td>\n",
              "      <td>One year</td>\n",
              "      <td>No</td>\n",
              "      <td>Mailed check</td>\n",
              "      <td>19.65</td>\n",
              "      <td>332.65</td>\n",
              "    </tr>\n",
              "    <tr>\n",
              "      <th>2</th>\n",
              "      <td>6479</td>\n",
              "      <td>Female</td>\n",
              "      <td>0</td>\n",
              "      <td>Yes</td>\n",
              "      <td>No</td>\n",
              "      <td>60.0</td>\n",
              "      <td>Yes</td>\n",
              "      <td>Yes</td>\n",
              "      <td>Fiber optic</td>\n",
              "      <td>No</td>\n",
              "      <td>Yes</td>\n",
              "      <td>Yes</td>\n",
              "      <td>Yes</td>\n",
              "      <td>Yes</td>\n",
              "      <td>Yes</td>\n",
              "      <td>Two year</td>\n",
              "      <td>Yes</td>\n",
              "      <td>Credit card (automatic)</td>\n",
              "      <td>110.80</td>\n",
              "      <td>6640.70</td>\n",
              "    </tr>\n",
              "    <tr>\n",
              "      <th>3</th>\n",
              "      <td>6861</td>\n",
              "      <td>Female</td>\n",
              "      <td>0</td>\n",
              "      <td>No</td>\n",
              "      <td>No</td>\n",
              "      <td>37.0</td>\n",
              "      <td>Yes</td>\n",
              "      <td>Yes</td>\n",
              "      <td>Fiber optic</td>\n",
              "      <td>No</td>\n",
              "      <td>Yes</td>\n",
              "      <td>Yes</td>\n",
              "      <td>No</td>\n",
              "      <td>Yes</td>\n",
              "      <td>Yes</td>\n",
              "      <td>Month-to-month</td>\n",
              "      <td>Yes</td>\n",
              "      <td>Bank transfer (automatic)</td>\n",
              "      <td>101.90</td>\n",
              "      <td>3545.35</td>\n",
              "    </tr>\n",
              "    <tr>\n",
              "      <th>4</th>\n",
              "      <td>3266</td>\n",
              "      <td>Male</td>\n",
              "      <td>0</td>\n",
              "      <td>Yes</td>\n",
              "      <td>Yes</td>\n",
              "      <td>29.0</td>\n",
              "      <td>Yes</td>\n",
              "      <td>No</td>\n",
              "      <td>Fiber optic</td>\n",
              "      <td>No</td>\n",
              "      <td>No</td>\n",
              "      <td>No</td>\n",
              "      <td>No</td>\n",
              "      <td>No</td>\n",
              "      <td>No</td>\n",
              "      <td>Month-to-month</td>\n",
              "      <td>Yes</td>\n",
              "      <td>Electronic check</td>\n",
              "      <td>70.75</td>\n",
              "      <td>1974.80</td>\n",
              "    </tr>\n",
              "  </tbody>\n",
              "</table>\n",
              "</div>"
            ],
            "text/plain": [
              "     id  gender  ...  MonthlyCharges TotalCharges\n",
              "0  4030  Female  ...           45.05      2560.10\n",
              "1  6731    Male  ...           19.65       332.65\n",
              "2  6479  Female  ...          110.80      6640.70\n",
              "3  6861  Female  ...          101.90      3545.35\n",
              "4  3266    Male  ...           70.75      1974.80\n",
              "\n",
              "[5 rows x 20 columns]"
            ]
          },
          "metadata": {
            "tags": []
          },
          "execution_count": 21
        }
      ]
    },
    {
      "cell_type": "code",
      "metadata": {
        "id": "y7yxW_By-IFw",
        "outputId": "398e6430-3e58-4bbc-f59a-804d159ecf97",
        "colab": {
          "base_uri": "https://localhost:8080/"
        }
      },
      "source": [
        "df_X_train.shape"
      ],
      "execution_count": 22,
      "outputs": [
        {
          "output_type": "execute_result",
          "data": {
            "text/plain": [
              "(5634, 20)"
            ]
          },
          "metadata": {
            "tags": []
          },
          "execution_count": 22
        }
      ]
    },
    {
      "cell_type": "code",
      "metadata": {
        "id": "TQMzPuqXzu9G",
        "outputId": "81c9ba8d-0b42-4d83-84ee-71749ca6dcc9",
        "colab": {
          "base_uri": "https://localhost:8080/"
        }
      },
      "source": [
        "df_y_train = df_train['Churn']\n",
        "df_y_train.shape"
      ],
      "execution_count": 23,
      "outputs": [
        {
          "output_type": "execute_result",
          "data": {
            "text/plain": [
              "(5634,)"
            ]
          },
          "metadata": {
            "tags": []
          },
          "execution_count": 23
        }
      ]
    },
    {
      "cell_type": "code",
      "metadata": {
        "id": "lCGZ_x-S-PEl",
        "outputId": "8f2fc481-c363-476c-912c-a897d57e3643",
        "colab": {
          "base_uri": "https://localhost:8080/"
        }
      },
      "source": [
        "df_X_test = df_test\n",
        "df_X_test.shape"
      ],
      "execution_count": 24,
      "outputs": [
        {
          "output_type": "execute_result",
          "data": {
            "text/plain": [
              "(1409, 20)"
            ]
          },
          "metadata": {
            "tags": []
          },
          "execution_count": 24
        }
      ]
    },
    {
      "cell_type": "code",
      "metadata": {
        "id": "XYnfh399LA1j",
        "outputId": "a4c04d76-1f75-4076-8471-3ab54485a782",
        "colab": {
          "base_uri": "https://localhost:8080/"
        }
      },
      "source": [
        "y_test = df_sample_submission['Churn']\n",
        "y_test.shape"
      ],
      "execution_count": 25,
      "outputs": [
        {
          "output_type": "execute_result",
          "data": {
            "text/plain": [
              "(1409,)"
            ]
          },
          "metadata": {
            "tags": []
          },
          "execution_count": 25
        }
      ]
    },
    {
      "cell_type": "code",
      "metadata": {
        "id": "0GDvqh_FLRKG"
      },
      "source": [
        ""
      ],
      "execution_count": null,
      "outputs": []
    },
    {
      "cell_type": "code",
      "metadata": {
        "id": "RZtiGhY8L1uv"
      },
      "source": [
        ""
      ],
      "execution_count": null,
      "outputs": []
    },
    {
      "cell_type": "code",
      "metadata": {
        "id": "sAC9hKMFMSZg",
        "outputId": "ba954dc6-7b19-4f18-c5d5-7d2cc314ba45",
        "colab": {
          "base_uri": "https://localhost:8080/"
        }
      },
      "source": [
        "import pandas as pd\n",
        "import numpy as np\n",
        "import matplotlib.pyplot as plt\n",
        "import seaborn as sns\n",
        "%matplotlib inline\n",
        "\n",
        "import statsmodels.api as sm\n",
        "import statsmodels.formula.api as smf\n",
        "from sklearn.linear_model import LogisticRegression\n",
        "from sklearn.metrics import roc_auc_score, roc_curve, classification_report, accuracy_score, confusion_matrix, auc"
      ],
      "execution_count": 26,
      "outputs": [
        {
          "output_type": "stream",
          "text": [
            "/usr/local/lib/python3.6/dist-packages/statsmodels/tools/_testing.py:19: FutureWarning: pandas.util.testing is deprecated. Use the functions in the public API at pandas.testing instead.\n",
            "  import pandas.util.testing as tm\n"
          ],
          "name": "stderr"
        }
      ]
    },
    {
      "cell_type": "code",
      "metadata": {
        "id": "PsC59vQ4MWZ1",
        "outputId": "975b6598-2467-498f-ef2c-3f42e28aa269",
        "colab": {
          "base_uri": "https://localhost:8080/"
        }
      },
      "source": [
        "df_X_train.info()"
      ],
      "execution_count": null,
      "outputs": [
        {
          "output_type": "stream",
          "text": [
            "<class 'pandas.core.frame.DataFrame'>\n",
            "RangeIndex: 5634 entries, 0 to 5633\n",
            "Data columns (total 20 columns):\n",
            " #   Column            Non-Null Count  Dtype  \n",
            "---  ------            --------------  -----  \n",
            " 0   id                5634 non-null   int64  \n",
            " 1   gender            5634 non-null   object \n",
            " 2   SeniorCitizen     5634 non-null   int64  \n",
            " 3   Partner           5634 non-null   object \n",
            " 4   Dependents        5634 non-null   object \n",
            " 5   tenure            5634 non-null   float64\n",
            " 6   PhoneService      5634 non-null   object \n",
            " 7   MultipleLines     5634 non-null   object \n",
            " 8   InternetService   5634 non-null   object \n",
            " 9   OnlineSecurity    5634 non-null   object \n",
            " 10  OnlineBackup      5634 non-null   object \n",
            " 11  DeviceProtection  5634 non-null   object \n",
            " 12  TechSupport       5634 non-null   object \n",
            " 13  StreamingTV       5634 non-null   object \n",
            " 14  StreamingMovies   5634 non-null   object \n",
            " 15  Contract          5634 non-null   object \n",
            " 16  PaperlessBilling  5634 non-null   object \n",
            " 17  PaymentMethod     5634 non-null   object \n",
            " 18  MonthlyCharges    5634 non-null   float64\n",
            " 19  TotalCharges      5634 non-null   float64\n",
            "dtypes: float64(3), int64(2), object(15)\n",
            "memory usage: 880.4+ KB\n"
          ],
          "name": "stdout"
        }
      ]
    },
    {
      "cell_type": "code",
      "metadata": {
        "id": "mIWuXwoS3Oln",
        "outputId": "becfc76d-db5e-4ad9-a8d6-f99c21100dc9",
        "colab": {
          "base_uri": "https://localhost:8080/"
        }
      },
      "source": [
        "df_X_train.columns"
      ],
      "execution_count": null,
      "outputs": [
        {
          "output_type": "execute_result",
          "data": {
            "text/plain": [
              "Index(['id', 'gender', 'SeniorCitizen', 'Partner', 'Dependents', 'tenure',\n",
              "       'PhoneService', 'MultipleLines', 'InternetService', 'OnlineSecurity',\n",
              "       'OnlineBackup', 'DeviceProtection', 'TechSupport', 'StreamingTV',\n",
              "       'StreamingMovies', 'Contract', 'PaperlessBilling', 'PaymentMethod',\n",
              "       'MonthlyCharges', 'TotalCharges'],\n",
              "      dtype='object')"
            ]
          },
          "metadata": {
            "tags": []
          },
          "execution_count": 167
        }
      ]
    },
    {
      "cell_type": "code",
      "metadata": {
        "id": "LHOnf507LZpL",
        "outputId": "560cd001-e25e-47f4-e1b2-edf5e4532c7a",
        "colab": {
          "base_uri": "https://localhost:8080/"
        }
      },
      "source": [
        "df_X_train['MultipleLines'].unique()"
      ],
      "execution_count": null,
      "outputs": [
        {
          "output_type": "execute_result",
          "data": {
            "text/plain": [
              "array(['No phone service', 'No', 'Yes'], dtype=object)"
            ]
          },
          "metadata": {
            "tags": []
          },
          "execution_count": 168
        }
      ]
    },
    {
      "cell_type": "code",
      "metadata": {
        "id": "IcHete4P22QF",
        "outputId": "91a16f04-a909-4573-9525-efc82cd7f742",
        "colab": {
          "base_uri": "https://localhost:8080/"
        }
      },
      "source": [
        "df_X_train['InternetService'].unique()"
      ],
      "execution_count": null,
      "outputs": [
        {
          "output_type": "execute_result",
          "data": {
            "text/plain": [
              "array(['DSL', 'No', 'Fiber optic'], dtype=object)"
            ]
          },
          "metadata": {
            "tags": []
          },
          "execution_count": 169
        }
      ]
    },
    {
      "cell_type": "code",
      "metadata": {
        "id": "QHq1wAxg22i6",
        "outputId": "0981cd73-2d19-45c6-cabe-5f78b5c13885",
        "colab": {
          "base_uri": "https://localhost:8080/"
        }
      },
      "source": [
        "df_X_train['Partner'].unique()"
      ],
      "execution_count": null,
      "outputs": [
        {
          "output_type": "execute_result",
          "data": {
            "text/plain": [
              "array(['No', 'Yes'], dtype=object)"
            ]
          },
          "metadata": {
            "tags": []
          },
          "execution_count": 170
        }
      ]
    },
    {
      "cell_type": "code",
      "metadata": {
        "id": "YGxLJ9mq229r",
        "outputId": "c486bd87-14ea-4ee3-e07e-23c81c009027",
        "colab": {
          "base_uri": "https://localhost:8080/"
        }
      },
      "source": [
        "df_X_train['Dependents'].unique()"
      ],
      "execution_count": null,
      "outputs": [
        {
          "output_type": "execute_result",
          "data": {
            "text/plain": [
              "array(['No', 'Yes'], dtype=object)"
            ]
          },
          "metadata": {
            "tags": []
          },
          "execution_count": 171
        }
      ]
    },
    {
      "cell_type": "code",
      "metadata": {
        "id": "QFzGyGtl3GXZ",
        "outputId": "84e3bc9d-ff01-4dc1-ab60-f50ff4ed40b6",
        "colab": {
          "base_uri": "https://localhost:8080/"
        }
      },
      "source": [
        "df_X_train['Dependents'].unique()"
      ],
      "execution_count": null,
      "outputs": [
        {
          "output_type": "execute_result",
          "data": {
            "text/plain": [
              "array(['No', 'Yes'], dtype=object)"
            ]
          },
          "metadata": {
            "tags": []
          },
          "execution_count": 172
        }
      ]
    },
    {
      "cell_type": "code",
      "metadata": {
        "id": "ipHwAY2y1L3U"
      },
      "source": [
        "df_X_train_1 = df_X_train.copy()"
      ],
      "execution_count": null,
      "outputs": []
    },
    {
      "cell_type": "code",
      "metadata": {
        "id": "Kg44ur3bSPWA"
      },
      "source": [
        "X_teste = df_X_test.copy()"
      ],
      "execution_count": null,
      "outputs": []
    },
    {
      "cell_type": "code",
      "metadata": {
        "id": "lORdYRS-5Od0"
      },
      "source": [
        "# não adianta fazer a transformação para categórica nesse momento, pois ao fazer o LabelEncoder, as novas variáveis são inteiras e precisa converter de novo para categórica:\n",
        "#df_X_train_1 = df_X_train.copy()\n",
        "#df_X_train_1 = df_X_train_1.astype({'gender': 'category', 'SeniorCitizen': 'category', 'Partner': 'category', 'Dependents': 'category',\n",
        "#       'PhoneService': 'category', 'MultipleLines': 'category', 'InternetService': 'category', 'OnlineSecurity': 'category',\n",
        "#       'OnlineBackup': 'category', 'DeviceProtection': 'category', 'TechSupport': 'category', 'StreamingTV': 'category',\n",
        "#       'StreamingMovies': 'category', 'Contract': 'category'})"
      ],
      "execution_count": null,
      "outputs": []
    },
    {
      "cell_type": "code",
      "metadata": {
        "id": "j55hYjyRTIWQ"
      },
      "source": [
        "# Encoding variáveis nominais:\n",
        "\n",
        "# df_A5['salario_cat'] = df_A5['salario'].map({'baixo': 1, 'medio': 2, 'alto': 3})\n",
        "# ou LabelEncoder\n",
        "# ou pd.get_dummies(train, columns=['Sex', 'Embarked'], drop_first=True)\n",
        "# pd.get_dummies(df_X_train_1, columns = ['gender', 'SeniorCitizen', 'Partner', 'Dependents',\n",
        "#       'PhoneService', 'MultipleLines', 'InternetService', 'OnlineSecurity',\n",
        "#       'OnlineBackup', 'DeviceProtection', 'TechSupport', 'StreamingTV',\n",
        "#       'StreamingMovies', 'Contract', 'PaperlessBilling', 'PaymentMethod'],drop_first=True)\n",
        "\n",
        "from sklearn.preprocessing import LabelEncoder, OneHotEncoder\n",
        "le = LabelEncoder()\n",
        "    # 'gender', 'SeniorCitizen', 'Partner', 'Dependents',\n",
        "    # 'PhoneService', 'MultipleLines', 'InternetService', 'OnlineSecurity',\n",
        "    # 'OnlineBackup', 'DeviceProtection', 'TechSupport', 'StreamingTV',\n",
        "    # 'StreamingMovies', 'Contract', 'PaperlessBilling', 'PaymentMethod'\n",
        "df_X_train_1['gender_le'] = le.fit_transform(df_X_train_1['gender'])\n",
        "df_X_train_1['SeniorCitizen_le'] = le.fit_transform(df_X_train_1['SeniorCitizen'])\n",
        "df_X_train_1['Partner_le'] = le.fit_transform(df_X_train_1['Partner'])\n",
        "df_X_train_1['Dependents_le'] = le.fit_transform(df_X_train_1['Dependents'])\n",
        "df_X_train_1['PhoneService_le'] = le.fit_transform(df_X_train_1['PhoneService'])\n",
        "df_X_train_1['MultipleLines_le'] = le.fit_transform(df_X_train_1['MultipleLines'])\n",
        "df_X_train_1['InternetService_le'] = le.fit_transform(df_X_train_1['InternetService'])\n",
        "df_X_train_1['OnlineSecurity_le'] = le.fit_transform(df_X_train_1['OnlineSecurity'])\n",
        "df_X_train_1['OnlineBackup_le'] = le.fit_transform(df_X_train_1['OnlineBackup'])\n",
        "df_X_train_1['DeviceProtection_le'] = le.fit_transform(df_X_train_1['DeviceProtection'])\n",
        "df_X_train_1['TechSupport_le'] = le.fit_transform(df_X_train_1['TechSupport'])\n",
        "df_X_train_1['StreamingTV_le'] = le.fit_transform(df_X_train_1['StreamingTV'])\n",
        "df_X_train_1['StreamingMovies_le'] = le.fit_transform(df_X_train_1['StreamingMovies'])\n",
        "df_X_train_1['Contract_le'] = le.fit_transform(df_X_train_1['Contract'])\n",
        "df_X_train_1['PaperlessBilling_le'] = le.fit_transform(df_X_train_1['PaperlessBilling'])\n",
        "df_X_train_1['PaymentMethod_le'] = le.fit_transform(df_X_train_1['PaymentMethod'])\n"
      ],
      "execution_count": null,
      "outputs": []
    },
    {
      "cell_type": "code",
      "metadata": {
        "id": "ZsiOs8daVhcH",
        "outputId": "a6a20199-1ada-4d08-eb01-4435932e9e2a",
        "colab": {
          "base_uri": "https://localhost:8080/"
        }
      },
      "source": [
        "df_X_train_1.shape"
      ],
      "execution_count": null,
      "outputs": [
        {
          "output_type": "execute_result",
          "data": {
            "text/plain": [
              "(5634, 36)"
            ]
          },
          "metadata": {
            "tags": []
          },
          "execution_count": 177
        }
      ]
    },
    {
      "cell_type": "code",
      "metadata": {
        "id": "Lm9IPA9CSc3b"
      },
      "source": [
        "X_teste['gender_le'] = le.fit_transform(X_teste['gender'])\n",
        "X_teste['SeniorCitizen_le'] = le.fit_transform(X_teste['SeniorCitizen'])\n",
        "X_teste['Partner_le'] = le.fit_transform(X_teste['Partner'])\n",
        "X_teste['Dependents_le'] = le.fit_transform(X_teste['Dependents'])\n",
        "X_teste['PhoneService_le'] = le.fit_transform(X_teste['PhoneService'])\n",
        "X_teste['MultipleLines_le'] = le.fit_transform(X_teste['MultipleLines'])\n",
        "X_teste['InternetService_le'] = le.fit_transform(X_teste['InternetService'])\n",
        "X_teste['OnlineSecurity_le'] = le.fit_transform(X_teste['OnlineSecurity'])\n",
        "X_teste['OnlineBackup_le'] = le.fit_transform(X_teste['OnlineBackup'])\n",
        "X_teste['DeviceProtection_le'] = le.fit_transform(X_teste['DeviceProtection'])\n",
        "X_teste['TechSupport_le'] = le.fit_transform(X_teste['TechSupport'])\n",
        "X_teste['StreamingTV_le'] = le.fit_transform(X_teste['StreamingTV'])\n",
        "X_teste['StreamingMovies_le'] = le.fit_transform(X_teste['StreamingMovies'])\n",
        "X_teste['Contract_le'] = le.fit_transform(X_teste['Contract'])\n",
        "X_teste['PaperlessBilling_le'] = le.fit_transform(X_teste['PaperlessBilling'])\n",
        "X_teste['PaymentMethod_le'] = le.fit_transform(X_teste['PaymentMethod'])"
      ],
      "execution_count": null,
      "outputs": []
    },
    {
      "cell_type": "code",
      "metadata": {
        "id": "AZ5UipUmVX27",
        "outputId": "df471df8-f093-44a3-e6c0-f393c8a22d51",
        "colab": {
          "base_uri": "https://localhost:8080/"
        }
      },
      "source": [
        "X_teste.columns"
      ],
      "execution_count": null,
      "outputs": [
        {
          "output_type": "execute_result",
          "data": {
            "text/plain": [
              "Index(['id', 'gender', 'SeniorCitizen', 'Partner', 'Dependents', 'tenure',\n",
              "       'PhoneService', 'MultipleLines', 'InternetService', 'OnlineSecurity',\n",
              "       'OnlineBackup', 'DeviceProtection', 'TechSupport', 'StreamingTV',\n",
              "       'StreamingMovies', 'Contract', 'PaperlessBilling', 'PaymentMethod',\n",
              "       'MonthlyCharges', 'TotalCharges', 'gender_le', 'SeniorCitizen_le',\n",
              "       'Partner_le', 'Dependents_le', 'PhoneService_le', 'MultipleLines_le',\n",
              "       'InternetService_le', 'OnlineSecurity_le', 'OnlineBackup_le',\n",
              "       'DeviceProtection_le', 'TechSupport_le', 'StreamingTV_le',\n",
              "       'StreamingMovies_le', 'Contract_le', 'PaperlessBilling_le',\n",
              "       'PaymentMethod_le'],\n",
              "      dtype='object')"
            ]
          },
          "metadata": {
            "tags": []
          },
          "execution_count": 179
        }
      ]
    },
    {
      "cell_type": "code",
      "metadata": {
        "id": "zdZaMajfS-Ng"
      },
      "source": [
        "X_teste = X_teste.drop(['id','gender', 'SeniorCitizen', 'Partner', 'Dependents',\n",
        "                                 'PhoneService', 'MultipleLines', 'InternetService', 'OnlineSecurity',\n",
        "                                 'OnlineBackup', 'DeviceProtection', 'TechSupport', 'StreamingTV',\n",
        "                                 'StreamingMovies', 'Contract', 'PaperlessBilling', 'PaymentMethod'],axis=1)"
      ],
      "execution_count": null,
      "outputs": []
    },
    {
      "cell_type": "code",
      "metadata": {
        "id": "oJsoUnpqVPT7",
        "outputId": "bb8da9f6-0a3d-4e79-9dc5-4bde454321ff",
        "colab": {
          "base_uri": "https://localhost:8080/"
        }
      },
      "source": [
        "X_teste.shape"
      ],
      "execution_count": null,
      "outputs": [
        {
          "output_type": "execute_result",
          "data": {
            "text/plain": [
              "(1409, 19)"
            ]
          },
          "metadata": {
            "tags": []
          },
          "execution_count": 181
        }
      ]
    },
    {
      "cell_type": "code",
      "metadata": {
        "id": "U1gbMjhYSPN_",
        "outputId": "9c059d4a-6326-4e4e-f7db-b71b78c4e9ce",
        "colab": {
          "base_uri": "https://localhost:8080/"
        }
      },
      "source": [
        "df_X_train_1.shape"
      ],
      "execution_count": null,
      "outputs": [
        {
          "output_type": "execute_result",
          "data": {
            "text/plain": [
              "(5634, 36)"
            ]
          },
          "metadata": {
            "tags": []
          },
          "execution_count": 182
        }
      ]
    },
    {
      "cell_type": "code",
      "metadata": {
        "id": "4MW7MnsOSVR-",
        "outputId": "9c9b69ab-2c88-4e8d-e3cc-a882f1acf352",
        "colab": {
          "base_uri": "https://localhost:8080/"
        }
      },
      "source": [
        "df_X_train_1.columns"
      ],
      "execution_count": null,
      "outputs": [
        {
          "output_type": "execute_result",
          "data": {
            "text/plain": [
              "Index(['id', 'gender', 'SeniorCitizen', 'Partner', 'Dependents', 'tenure',\n",
              "       'PhoneService', 'MultipleLines', 'InternetService', 'OnlineSecurity',\n",
              "       'OnlineBackup', 'DeviceProtection', 'TechSupport', 'StreamingTV',\n",
              "       'StreamingMovies', 'Contract', 'PaperlessBilling', 'PaymentMethod',\n",
              "       'MonthlyCharges', 'TotalCharges', 'gender_le', 'SeniorCitizen_le',\n",
              "       'Partner_le', 'Dependents_le', 'PhoneService_le', 'MultipleLines_le',\n",
              "       'InternetService_le', 'OnlineSecurity_le', 'OnlineBackup_le',\n",
              "       'DeviceProtection_le', 'TechSupport_le', 'StreamingTV_le',\n",
              "       'StreamingMovies_le', 'Contract_le', 'PaperlessBilling_le',\n",
              "       'PaymentMethod_le'],\n",
              "      dtype='object')"
            ]
          },
          "metadata": {
            "tags": []
          },
          "execution_count": 183
        }
      ]
    },
    {
      "cell_type": "code",
      "metadata": {
        "id": "v_hF7m2QSHBI",
        "outputId": "d8296aee-61a1-467c-9819-26fc4323ebf2",
        "colab": {
          "base_uri": "https://localhost:8080/"
        }
      },
      "source": [
        "df_X_train_1 = df_X_train_1.drop({'id', 'gender', 'SeniorCitizen', 'Partner', 'Dependents', \n",
        "       'PhoneService', 'MultipleLines', 'InternetService', 'OnlineSecurity',\n",
        "       'OnlineBackup', 'DeviceProtection', 'TechSupport', 'StreamingTV',\n",
        "       'StreamingMovies', 'Contract', 'PaperlessBilling', 'PaymentMethod'}, \n",
        "       axis=1       )\n",
        "\n",
        "df_X_train_1.shape"
      ],
      "execution_count": null,
      "outputs": [
        {
          "output_type": "execute_result",
          "data": {
            "text/plain": [
              "(5634, 19)"
            ]
          },
          "metadata": {
            "tags": []
          },
          "execution_count": 184
        }
      ]
    },
    {
      "cell_type": "code",
      "metadata": {
        "id": "7QDv6L64dz2f",
        "outputId": "dbd8e641-c176-4e0f-b918-512320bd8186",
        "colab": {
          "base_uri": "https://localhost:8080/"
        }
      },
      "source": [
        "df_X_train_1.info()"
      ],
      "execution_count": null,
      "outputs": [
        {
          "output_type": "stream",
          "text": [
            "<class 'pandas.core.frame.DataFrame'>\n",
            "RangeIndex: 5634 entries, 0 to 5633\n",
            "Data columns (total 19 columns):\n",
            " #   Column               Non-Null Count  Dtype  \n",
            "---  ------               --------------  -----  \n",
            " 0   tenure               5634 non-null   float64\n",
            " 1   MonthlyCharges       5634 non-null   float64\n",
            " 2   TotalCharges         5634 non-null   float64\n",
            " 3   gender_le            5634 non-null   int64  \n",
            " 4   SeniorCitizen_le     5634 non-null   int64  \n",
            " 5   Partner_le           5634 non-null   int64  \n",
            " 6   Dependents_le        5634 non-null   int64  \n",
            " 7   PhoneService_le      5634 non-null   int64  \n",
            " 8   MultipleLines_le     5634 non-null   int64  \n",
            " 9   InternetService_le   5634 non-null   int64  \n",
            " 10  OnlineSecurity_le    5634 non-null   int64  \n",
            " 11  OnlineBackup_le      5634 non-null   int64  \n",
            " 12  DeviceProtection_le  5634 non-null   int64  \n",
            " 13  TechSupport_le       5634 non-null   int64  \n",
            " 14  StreamingTV_le       5634 non-null   int64  \n",
            " 15  StreamingMovies_le   5634 non-null   int64  \n",
            " 16  Contract_le          5634 non-null   int64  \n",
            " 17  PaperlessBilling_le  5634 non-null   int64  \n",
            " 18  PaymentMethod_le     5634 non-null   int64  \n",
            "dtypes: float64(3), int64(16)\n",
            "memory usage: 836.4 KB\n"
          ],
          "name": "stdout"
        }
      ]
    },
    {
      "cell_type": "code",
      "metadata": {
        "id": "I6eL0dmy1maR"
      },
      "source": [
        "df_X_train_1 = df_X_train_1.astype({'gender_le': 'category', 'SeniorCitizen_le': 'category', 'Partner_le': 'category', 'Dependents_le': 'category',\n",
        "       'PhoneService_le': 'category', 'MultipleLines_le': 'category', 'InternetService_le': 'category', 'OnlineSecurity_le': 'category',\n",
        "       'OnlineBackup_le': 'category', 'DeviceProtection_le': 'category', 'TechSupport_le': 'category', 'StreamingTV_le': 'category',\n",
        "       'StreamingMovies_le': 'category', 'Contract_le': 'category', 'PaperlessBilling_le':'category', 'PaymentMethod_le':'category'})"
      ],
      "execution_count": null,
      "outputs": []
    },
    {
      "cell_type": "code",
      "metadata": {
        "id": "6wlKDzRAeMrl",
        "outputId": "df4f4584-4df2-41c1-b0d2-5bca036e208b",
        "colab": {
          "base_uri": "https://localhost:8080/"
        }
      },
      "source": [
        "df_X_train_1.info()"
      ],
      "execution_count": null,
      "outputs": [
        {
          "output_type": "stream",
          "text": [
            "<class 'pandas.core.frame.DataFrame'>\n",
            "RangeIndex: 5634 entries, 0 to 5633\n",
            "Data columns (total 19 columns):\n",
            " #   Column               Non-Null Count  Dtype   \n",
            "---  ------               --------------  -----   \n",
            " 0   tenure               5634 non-null   float64 \n",
            " 1   MonthlyCharges       5634 non-null   float64 \n",
            " 2   TotalCharges         5634 non-null   float64 \n",
            " 3   gender_le            5634 non-null   category\n",
            " 4   SeniorCitizen_le     5634 non-null   category\n",
            " 5   Partner_le           5634 non-null   category\n",
            " 6   Dependents_le        5634 non-null   category\n",
            " 7   PhoneService_le      5634 non-null   category\n",
            " 8   MultipleLines_le     5634 non-null   category\n",
            " 9   InternetService_le   5634 non-null   category\n",
            " 10  OnlineSecurity_le    5634 non-null   category\n",
            " 11  OnlineBackup_le      5634 non-null   category\n",
            " 12  DeviceProtection_le  5634 non-null   category\n",
            " 13  TechSupport_le       5634 non-null   category\n",
            " 14  StreamingTV_le       5634 non-null   category\n",
            " 15  StreamingMovies_le   5634 non-null   category\n",
            " 16  Contract_le          5634 non-null   category\n",
            " 17  PaperlessBilling_le  5634 non-null   category\n",
            " 18  PaymentMethod_le     5634 non-null   category\n",
            "dtypes: category(16), float64(3)\n",
            "memory usage: 221.9 KB\n"
          ],
          "name": "stdout"
        }
      ]
    },
    {
      "cell_type": "code",
      "metadata": {
        "id": "Fw7XDyqpKmt-",
        "outputId": "728e8592-c182-4d1e-8a3c-fc3416ab87dc",
        "colab": {
          "base_uri": "https://localhost:8080/",
          "height": 222
        }
      },
      "source": [
        "df_X_train_1.head()"
      ],
      "execution_count": null,
      "outputs": [
        {
          "output_type": "execute_result",
          "data": {
            "text/html": [
              "<div>\n",
              "<style scoped>\n",
              "    .dataframe tbody tr th:only-of-type {\n",
              "        vertical-align: middle;\n",
              "    }\n",
              "\n",
              "    .dataframe tbody tr th {\n",
              "        vertical-align: top;\n",
              "    }\n",
              "\n",
              "    .dataframe thead th {\n",
              "        text-align: right;\n",
              "    }\n",
              "</style>\n",
              "<table border=\"1\" class=\"dataframe\">\n",
              "  <thead>\n",
              "    <tr style=\"text-align: right;\">\n",
              "      <th></th>\n",
              "      <th>tenure</th>\n",
              "      <th>MonthlyCharges</th>\n",
              "      <th>TotalCharges</th>\n",
              "      <th>gender_le</th>\n",
              "      <th>SeniorCitizen_le</th>\n",
              "      <th>Partner_le</th>\n",
              "      <th>Dependents_le</th>\n",
              "      <th>PhoneService_le</th>\n",
              "      <th>MultipleLines_le</th>\n",
              "      <th>InternetService_le</th>\n",
              "      <th>OnlineSecurity_le</th>\n",
              "      <th>OnlineBackup_le</th>\n",
              "      <th>DeviceProtection_le</th>\n",
              "      <th>TechSupport_le</th>\n",
              "      <th>StreamingTV_le</th>\n",
              "      <th>StreamingMovies_le</th>\n",
              "      <th>Contract_le</th>\n",
              "      <th>PaperlessBilling_le</th>\n",
              "      <th>PaymentMethod_le</th>\n",
              "    </tr>\n",
              "  </thead>\n",
              "  <tbody>\n",
              "    <tr>\n",
              "      <th>0</th>\n",
              "      <td>56.0</td>\n",
              "      <td>45.05</td>\n",
              "      <td>2560.10</td>\n",
              "      <td>0</td>\n",
              "      <td>0</td>\n",
              "      <td>0</td>\n",
              "      <td>0</td>\n",
              "      <td>0</td>\n",
              "      <td>1</td>\n",
              "      <td>0</td>\n",
              "      <td>2</td>\n",
              "      <td>2</td>\n",
              "      <td>2</td>\n",
              "      <td>2</td>\n",
              "      <td>0</td>\n",
              "      <td>0</td>\n",
              "      <td>2</td>\n",
              "      <td>0</td>\n",
              "      <td>3</td>\n",
              "    </tr>\n",
              "    <tr>\n",
              "      <th>1</th>\n",
              "      <td>29.0</td>\n",
              "      <td>19.65</td>\n",
              "      <td>332.65</td>\n",
              "      <td>1</td>\n",
              "      <td>0</td>\n",
              "      <td>1</td>\n",
              "      <td>1</td>\n",
              "      <td>1</td>\n",
              "      <td>0</td>\n",
              "      <td>2</td>\n",
              "      <td>1</td>\n",
              "      <td>1</td>\n",
              "      <td>1</td>\n",
              "      <td>1</td>\n",
              "      <td>1</td>\n",
              "      <td>1</td>\n",
              "      <td>1</td>\n",
              "      <td>0</td>\n",
              "      <td>4</td>\n",
              "    </tr>\n",
              "    <tr>\n",
              "      <th>2</th>\n",
              "      <td>60.0</td>\n",
              "      <td>110.80</td>\n",
              "      <td>6640.70</td>\n",
              "      <td>0</td>\n",
              "      <td>0</td>\n",
              "      <td>1</td>\n",
              "      <td>0</td>\n",
              "      <td>1</td>\n",
              "      <td>2</td>\n",
              "      <td>1</td>\n",
              "      <td>0</td>\n",
              "      <td>2</td>\n",
              "      <td>2</td>\n",
              "      <td>2</td>\n",
              "      <td>2</td>\n",
              "      <td>2</td>\n",
              "      <td>2</td>\n",
              "      <td>1</td>\n",
              "      <td>1</td>\n",
              "    </tr>\n",
              "    <tr>\n",
              "      <th>3</th>\n",
              "      <td>37.0</td>\n",
              "      <td>101.90</td>\n",
              "      <td>3545.35</td>\n",
              "      <td>0</td>\n",
              "      <td>0</td>\n",
              "      <td>0</td>\n",
              "      <td>0</td>\n",
              "      <td>1</td>\n",
              "      <td>2</td>\n",
              "      <td>1</td>\n",
              "      <td>0</td>\n",
              "      <td>2</td>\n",
              "      <td>2</td>\n",
              "      <td>0</td>\n",
              "      <td>2</td>\n",
              "      <td>2</td>\n",
              "      <td>0</td>\n",
              "      <td>1</td>\n",
              "      <td>0</td>\n",
              "    </tr>\n",
              "    <tr>\n",
              "      <th>4</th>\n",
              "      <td>29.0</td>\n",
              "      <td>70.75</td>\n",
              "      <td>1974.80</td>\n",
              "      <td>1</td>\n",
              "      <td>0</td>\n",
              "      <td>1</td>\n",
              "      <td>1</td>\n",
              "      <td>1</td>\n",
              "      <td>0</td>\n",
              "      <td>1</td>\n",
              "      <td>0</td>\n",
              "      <td>0</td>\n",
              "      <td>0</td>\n",
              "      <td>0</td>\n",
              "      <td>0</td>\n",
              "      <td>0</td>\n",
              "      <td>0</td>\n",
              "      <td>1</td>\n",
              "      <td>2</td>\n",
              "    </tr>\n",
              "  </tbody>\n",
              "</table>\n",
              "</div>"
            ],
            "text/plain": [
              "   tenure  MonthlyCharges  ...  PaperlessBilling_le PaymentMethod_le\n",
              "0    56.0           45.05  ...                    0                3\n",
              "1    29.0           19.65  ...                    0                4\n",
              "2    60.0          110.80  ...                    1                1\n",
              "3    37.0          101.90  ...                    1                0\n",
              "4    29.0           70.75  ...                    1                2\n",
              "\n",
              "[5 rows x 19 columns]"
            ]
          },
          "metadata": {
            "tags": []
          },
          "execution_count": 188
        }
      ]
    },
    {
      "cell_type": "code",
      "metadata": {
        "id": "p6-KgKKt6pVm"
      },
      "source": [
        "# FAZER ??? \n",
        "# SE SIM, PRECISA SUBSTITUIR NOMES DO DATAFRAME, VARIÁVEIS, ETC\n",
        "# Avaliação do pressuposto de variáveis preditoras independentes \n",
        "\n",
        "\n",
        "#from scipy.stats import spearmanr\n",
        "#coef, p = spearmanr(df_titanic['pclass'], df_titanic['age'])\n",
        "#print('Coeficiente de Correlação de Spearman: %.3f' % coef)\n",
        "\n",
        "# Interpretação da significância:\n",
        "#alpha = 0.05\n",
        "#if p > alpha:\n",
        "#\tprint('Amostras NÃO correlacionadas (falha em rejeitar H0) p = %.3f' %p)\n",
        "#else:\n",
        "#\tprint('Amostras correlacionadas (Rejeita H0) p = %.3f' %p)"
      ],
      "execution_count": null,
      "outputs": []
    },
    {
      "cell_type": "code",
      "metadata": {
        "id": "ek0_uZUq1wPq"
      },
      "source": [
        "# FUNÇÃO PARA TRATAMENTO DE OUTLIERS: \n",
        "\n",
        "from scipy import stats \n",
        "\n",
        "def trata_outliers(df, coluna):\n",
        "    sns.boxplot(x = coluna, data = df)\n",
        "\n",
        "    # Cálculo de Q1, Q3 e IQR:\n",
        "    Q1 = np.percentile(df[coluna], 25)\n",
        "    Q3 = np.percentile(df[coluna], 75)\n",
        "    IQR = Q3 - Q1\n",
        "    print(f\"IQR: {IQR}\")\n",
        "\n",
        "    # Jeito mais fácil (menos trabalhoso).\n",
        "    #IQR2 = stats.iqr(df[coluna]) \n",
        "    #IQR2 \n",
        "\n",
        "    # Cálculo dos limites inferiores e superiores para detecção de outliers:\n",
        "    limite_inferior_outliers = Q1 - 1.5*IQR\n",
        "    limite_superior_outliers = Q3 + 1.5*IQR\n",
        "    print(f\"Limite inferior para outlier: {limite_inferior_outliers}; Limite superior para outliers: {limite_superior_outliers}\")\n",
        "\n",
        "    # Cálculo da mediana\n",
        "    mediana = df[coluna].median()\n",
        "    print(f\"Mediana: {mediana}\")\n",
        "\n",
        "    # Substituição dos outliers:\n",
        "    df[coluna+'_o'] = df[coluna]\n",
        "\n",
        "    df.loc[df[coluna] > limite_superior_outliers, coluna+'_o'] = np.nan\n",
        "    df[coluna+'_o'].fillna(mediana, inplace = True) # 'o' significa tratamento outlier --> indicação para mostrar que a coluna passou pelo tratamento dos outliers.\n",
        "\n",
        "    return df, limite_superior_outliers\n"
      ],
      "execution_count": null,
      "outputs": []
    },
    {
      "cell_type": "code",
      "metadata": {
        "id": "YiovRK8slH8k"
      },
      "source": [
        "# Aplicando a função de tratamento de outliers nas variáveis numéricas: 'tenure', 'MonthlyCharges' e 'TotalCharges'\n",
        "# CONCLUSÃO: não há outliers"
      ],
      "execution_count": null,
      "outputs": []
    },
    {
      "cell_type": "code",
      "metadata": {
        "id": "5XZtC5t5u5xe",
        "outputId": "77d48078-0fb6-449f-b466-c171fe734ae3",
        "colab": {
          "base_uri": "https://localhost:8080/",
          "height": 330
        }
      },
      "source": [
        "df_X_train_1, limite_superior_outliers = trata_outliers(df = df_X_train_1, coluna = 'tenure')"
      ],
      "execution_count": null,
      "outputs": [
        {
          "output_type": "stream",
          "text": [
            "IQR: 43.0\n",
            "Limite inferior para outlier: -54.5; Limite superior para outliers: 117.5\n",
            "Mediana: 29.0\n"
          ],
          "name": "stdout"
        },
        {
          "output_type": "display_data",
          "data": {
            "image/png": "[encoded data removed]",
            "text/plain": [
              "<Figure size 432x288 with 1 Axes>"
            ]
          },
          "metadata": {
            "tags": [],
            "needs_background": "light"
          }
        }
      ]
    },
    {
      "cell_type": "code",
      "metadata": {
        "id": "AJBgIN_6voJd",
        "outputId": "b98ca98b-9b93-463e-86f0-bf770883296b",
        "colab": {
          "base_uri": "https://localhost:8080/"
        }
      },
      "source": [
        "df_X_train_1['tenure'].describe()"
      ],
      "execution_count": null,
      "outputs": [
        {
          "output_type": "execute_result",
          "data": {
            "text/plain": [
              "count    5634.000000\n",
              "mean       32.060170\n",
              "std        23.458999\n",
              "min         0.000000\n",
              "25%        10.000000\n",
              "50%        29.000000\n",
              "75%        53.000000\n",
              "max        72.000000\n",
              "Name: tenure, dtype: float64"
            ]
          },
          "metadata": {
            "tags": []
          },
          "execution_count": 193
        }
      ]
    },
    {
      "cell_type": "code",
      "metadata": {
        "id": "GSrGGbWPayV6",
        "outputId": "ef202f17-7844-467c-d125-c4c071de81c4",
        "colab": {
          "base_uri": "https://localhost:8080/",
          "height": 330
        }
      },
      "source": [
        "df_X_train_1, limite_superior_outliers = trata_outliers(df = df_X_train_1, coluna = 'MonthlyCharges')"
      ],
      "execution_count": null,
      "outputs": [
        {
          "output_type": "stream",
          "text": [
            "IQR: 54.33749999999999\n",
            "Limite inferior para outlier: -46.04374999999999; Limite superior para outliers: 171.30624999999998\n",
            "Mediana: 70.25\n"
          ],
          "name": "stdout"
        },
        {
          "output_type": "display_data",
          "data": {
            "image/png": "[encoded data removed]",
            "text/plain": [
              "<Figure size 432x288 with 1 Axes>"
            ]
          },
          "metadata": {
            "tags": [],
            "needs_background": "light"
          }
        }
      ]
    },
    {
      "cell_type": "code",
      "metadata": {
        "id": "Ju9c3ZdFbD0h",
        "outputId": "f01b92c6-c67e-49d2-a5e7-ceff1fbfa436",
        "colab": {
          "base_uri": "https://localhost:8080/",
          "height": 330
        }
      },
      "source": [
        "df_X_train_1, limite_superior_outliers = trata_outliers(df = df_X_train_1, coluna = 'TotalCharges')"
      ],
      "execution_count": null,
      "outputs": [
        {
          "output_type": "stream",
          "text": [
            "IQR: 3359.1000000000004\n",
            "Limite inferior para outlier: -4639.35; Limite superior para outliers: 8797.050000000001\n",
            "Mediana: 1392.925\n"
          ],
          "name": "stdout"
        },
        {
          "output_type": "display_data",
          "data": {
            "image/png": "[encoded data removed]",
            "text/plain": [
              "<Figure size 432x288 with 1 Axes>"
            ]
          },
          "metadata": {
            "tags": [],
            "needs_background": "light"
          }
        }
      ]
    },
    {
      "cell_type": "code",
      "metadata": {
        "id": "5O33v65ivBab",
        "outputId": "27b5b72a-4bc2-4151-8335-71fc7614eb9d",
        "colab": {
          "base_uri": "https://localhost:8080/"
        }
      },
      "source": [
        "df_X_train_1.columns"
      ],
      "execution_count": null,
      "outputs": [
        {
          "output_type": "execute_result",
          "data": {
            "text/plain": [
              "Index(['tenure', 'MonthlyCharges', 'TotalCharges', 'gender_le',\n",
              "       'SeniorCitizen_le', 'Partner_le', 'Dependents_le', 'PhoneService_le',\n",
              "       'MultipleLines_le', 'InternetService_le', 'OnlineSecurity_le',\n",
              "       'OnlineBackup_le', 'DeviceProtection_le', 'TechSupport_le',\n",
              "       'StreamingTV_le', 'StreamingMovies_le', 'Contract_le',\n",
              "       'PaperlessBilling_le', 'PaymentMethod_le', 'tenure_o',\n",
              "       'MonthlyCharges_o', 'TotalCharges_o'],\n",
              "      dtype='object')"
            ]
          },
          "metadata": {
            "tags": []
          },
          "execution_count": 196
        }
      ]
    },
    {
      "cell_type": "code",
      "metadata": {
        "id": "l7MVQXcAgQo1",
        "outputId": "fa74d2ac-a4d6-4abb-efd4-fa3b3be8d2dd",
        "colab": {
          "base_uri": "https://localhost:8080/"
        }
      },
      "source": [
        "df_y_train"
      ],
      "execution_count": null,
      "outputs": [
        {
          "output_type": "execute_result",
          "data": {
            "text/plain": [
              "0       0\n",
              "1       0\n",
              "2       0\n",
              "3       1\n",
              "4       1\n",
              "       ..\n",
              "5629    0\n",
              "5630    0\n",
              "5631    0\n",
              "5632    0\n",
              "5633    0\n",
              "Name: Churn, Length: 5634, dtype: int64"
            ]
          },
          "metadata": {
            "tags": []
          },
          "execution_count": 197
        }
      ]
    },
    {
      "cell_type": "code",
      "metadata": {
        "id": "YilXRX-XgWhg",
        "outputId": "c2798cad-c390-470b-90fe-dd82d1e8bf33",
        "colab": {
          "base_uri": "https://localhost:8080/",
          "height": 185
        }
      },
      "source": [
        "df_X_train_1['Churn'] = df_y_train\n",
        "df_X_train_1.info()"
      ],
      "execution_count": 27,
      "outputs": [
        {
          "output_type": "error",
          "ename": "NameError",
          "evalue": "ignored",
          "traceback": [
            "\u001b[0;31m---------------------------------------------------------------------------\u001b[0m",
            "\u001b[0;31mNameError\u001b[0m                                 Traceback (most recent call last)",
            "\u001b[0;32m<ipython-input-27-17081a1b1bc2>\u001b[0m in \u001b[0;36m<module>\u001b[0;34m()\u001b[0m\n\u001b[0;32m----> 1\u001b[0;31m \u001b[0mdf_X_train_1\u001b[0m\u001b[0;34m[\u001b[0m\u001b[0;34m'Churn'\u001b[0m\u001b[0;34m]\u001b[0m \u001b[0;34m=\u001b[0m \u001b[0mdf_y_train\u001b[0m\u001b[0;34m\u001b[0m\u001b[0;34m\u001b[0m\u001b[0m\n\u001b[0m\u001b[1;32m      2\u001b[0m \u001b[0mdf_X_train_1\u001b[0m\u001b[0;34m.\u001b[0m\u001b[0minfo\u001b[0m\u001b[0;34m(\u001b[0m\u001b[0;34m)\u001b[0m\u001b[0;34m\u001b[0m\u001b[0;34m\u001b[0m\u001b[0m\n",
            "\u001b[0;31mNameError\u001b[0m: name 'df_X_train_1' is not defined"
          ]
        }
      ]
    },
    {
      "cell_type": "code",
      "metadata": {
        "id": "jhqn5e94gUPs"
      },
      "source": [
        "# não transformar 'Churn' em categórica, tem de ser binomial\n",
        "# df_X_train_1['Churn'] = df_X_train_1.['Churn'].astype('category')"
      ],
      "execution_count": null,
      "outputs": []
    },
    {
      "cell_type": "code",
      "metadata": {
        "id": "R6LpmLHfdZI9",
        "outputId": "ad329aac-2edc-4330-f2a1-c7269fbd27f0",
        "colab": {
          "base_uri": "https://localhost:8080/"
        }
      },
      "source": [
        "modelo1 = smf.glm(formula = 'Churn ~ tenure + MonthlyCharges + TotalCharges + gender + SeniorCitizen + Partner + Dependents + PhoneService + MultipleLines + InternetService + OnlineSecurity + OnlineBackup + DeviceProtection + TechSupport + StreamingTV + StreamingMovies + Contract + PaperlessBilling + PaymentMethod',\n",
        "                 data = df_train,\n",
        "                 family = sm.families.Binomial()).fit()\n",
        "print(modelo1.summary())"
      ],
      "execution_count": 28,
      "outputs": [
        {
          "output_type": "stream",
          "text": [
            "                 Generalized Linear Model Regression Results                  \n",
            "==============================================================================\n",
            "Dep. Variable:                  Churn   No. Observations:                 5634\n",
            "Model:                            GLM   Df Residuals:                     5610\n",
            "Model Family:                Binomial   Df Model:                           23\n",
            "Link Function:                  logit   Scale:                          1.0000\n",
            "Method:                          IRLS   Log-Likelihood:                -2307.3\n",
            "Date:                Sun, 15 Nov 2020   Deviance:                       4614.6\n",
            "Time:                        15:12:13   Pearson chi2:                 5.58e+03\n",
            "No. Iterations:                     7                                         \n",
            "Covariance Type:            nonrobust                                         \n",
            "============================================================================================================\n",
            "                                               coef    std err          z      P>|z|      [0.025      0.975]\n",
            "------------------------------------------------------------------------------------------------------------\n",
            "Intercept                                    1.0589      0.847      1.251      0.211      -0.600       2.718\n",
            "gender[T.Male]                               0.0263      0.073      0.360      0.719      -0.117       0.170\n",
            "Partner[T.Yes]                              -0.1122      0.087     -1.291      0.197      -0.283       0.058\n",
            "Dependents[T.Yes]                           -0.1483      0.102     -1.456      0.145      -0.348       0.051\n",
            "PhoneService[T.Yes]                          0.8969      0.785      1.143      0.253      -0.641       2.435\n",
            "MultipleLines[T.No phone service]            0.1620      0.113      1.438      0.150      -0.059       0.383\n",
            "MultipleLines[T.Yes]                         0.4776      0.200      2.389      0.017       0.086       0.869\n",
            "InternetService[T.Fiber optic]               2.3789      0.906      2.626      0.009       0.603       4.155\n",
            "InternetService[T.No]                       -0.3231      0.131     -2.473      0.013      -0.579      -0.067\n",
            "OnlineSecurity[T.No internet service]       -0.3231      0.131     -2.473      0.013      -0.579      -0.067\n",
            "OnlineSecurity[T.Yes]                       -0.1469      0.202     -0.725      0.468      -0.544       0.250\n",
            "OnlineBackup[T.No internet service]         -0.3231      0.131     -2.473      0.013      -0.579      -0.067\n",
            "OnlineBackup[T.Yes]                          0.1057      0.200      0.528      0.597      -0.287       0.498\n",
            "DeviceProtection[T.No internet service]     -0.3231      0.131     -2.473      0.013      -0.579      -0.067\n",
            "DeviceProtection[T.Yes]                      0.2440      0.200      1.222      0.222      -0.147       0.635\n",
            "TechSupport[T.No internet service]          -0.3231      0.131     -2.473      0.013      -0.579      -0.067\n",
            "TechSupport[T.Yes]                          -0.0174      0.204     -0.085      0.932      -0.418       0.383\n",
            "StreamingTV[T.No internet service]          -0.3231      0.131     -2.473      0.013      -0.579      -0.067\n",
            "StreamingTV[T.Yes]                           0.8511      0.369      2.306      0.021       0.128       1.575\n",
            "StreamingMovies[T.No internet service]      -0.3231      0.131     -2.473      0.013      -0.579      -0.067\n",
            "StreamingMovies[T.Yes]                       0.8361      0.371      2.256      0.024       0.110       1.563\n",
            "Contract[T.One year]                        -0.7998      0.120     -6.657      0.000      -1.035      -0.564\n",
            "Contract[T.Two year]                        -1.5547      0.197     -7.889      0.000      -1.941      -1.168\n",
            "PaperlessBilling[T.Yes]                      0.3651      0.084      4.371      0.000       0.201       0.529\n",
            "PaymentMethod[T.Credit card (automatic)]    -0.1342      0.130     -1.031      0.303      -0.389       0.121\n",
            "PaymentMethod[T.Electronic check]            0.1768      0.106      1.660      0.097      -0.032       0.386\n",
            "PaymentMethod[T.Mailed check]               -0.1099      0.129     -0.853      0.394      -0.362       0.143\n",
            "tenure                                      -0.0315      0.004     -7.254      0.000      -0.040      -0.023\n",
            "MonthlyCharges                              -0.0560      0.036     -1.556      0.120      -0.127       0.015\n",
            "TotalCharges                             -1.616e-05   5.12e-05     -0.315      0.752      -0.000    8.43e-05\n",
            "SeniorCitizen                                0.2718      0.095      2.851      0.004       0.085       0.459\n",
            "============================================================================================================\n"
          ],
          "name": "stdout"
        }
      ]
    },
    {
      "cell_type": "code",
      "metadata": {
        "id": "ifQWY8hXf2VE"
      },
      "source": [
        "df_train_1 = df_train.copy()\n",
        "df_train_1 = pd.get_dummies(df_train_1, columns = ['gender', 'TechSupport'])"
      ],
      "execution_count": 41,
      "outputs": []
    },
    {
      "cell_type": "code",
      "metadata": {
        "id": "sD1ytjIagRFJ",
        "outputId": "adf5f29f-788d-402d-dc4e-533585e4c4f5",
        "colab": {
          "base_uri": "https://localhost:8080/"
        }
      },
      "source": [
        "df_train_1.columns"
      ],
      "execution_count": 43,
      "outputs": [
        {
          "output_type": "execute_result",
          "data": {
            "text/plain": [
              "Index(['id', 'SeniorCitizen', 'Partner', 'Dependents', 'tenure',\n",
              "       'PhoneService', 'MultipleLines', 'InternetService', 'OnlineSecurity',\n",
              "       'OnlineBackup', 'DeviceProtection', 'StreamingTV', 'StreamingMovies',\n",
              "       'Contract', 'PaperlessBilling', 'PaymentMethod', 'MonthlyCharges',\n",
              "       'TotalCharges', 'Churn', 'gender_Female', 'gender_Male',\n",
              "       'TechSupport_No', 'TechSupport_No internet service', 'TechSupport_Yes'],\n",
              "      dtype='object')"
            ]
          },
          "metadata": {
            "tags": []
          },
          "execution_count": 43
        }
      ]
    },
    {
      "cell_type": "code",
      "metadata": {
        "id": "2LFHU1J4iL2W"
      },
      "source": [
        "df_train_1.rename({'TechSupport_No internet service':'TechSupport_No_internet_service'}, axis = 1, inplace=True)"
      ],
      "execution_count": 50,
      "outputs": []
    },
    {
      "cell_type": "code",
      "metadata": {
        "id": "F2dFmpZ7jygj",
        "outputId": "d5b7932b-2de5-4237-babb-e2d058716d10",
        "colab": {
          "base_uri": "https://localhost:8080/"
        }
      },
      "source": [
        "df_train_1.columns"
      ],
      "execution_count": 57,
      "outputs": [
        {
          "output_type": "execute_result",
          "data": {
            "text/plain": [
              "Index(['id', 'SeniorCitizen', 'Partner', 'Dependents', 'tenure',\n",
              "       'PhoneService', 'InternetService', 'OnlineSecurity', 'OnlineBackup',\n",
              "       'DeviceProtection', 'StreamingTV', 'StreamingMovies', 'Contract',\n",
              "       'PaperlessBilling', 'PaymentMethod', 'MonthlyCharges', 'TotalCharges',\n",
              "       'Churn', 'gender_Female', 'gender_Male', 'TechSupport_No',\n",
              "       'TechSupport_No_internet_service', 'TechSupport_Yes',\n",
              "       'MultipleLines_No', 'MultipleLines_No_phone_service',\n",
              "       'MultipleLines_Yes'],\n",
              "      dtype='object')"
            ]
          },
          "metadata": {
            "tags": []
          },
          "execution_count": 57
        }
      ]
    },
    {
      "cell_type": "code",
      "metadata": {
        "id": "ECBAkJaRkVrv"
      },
      "source": [
        "#df_train_1 = pd.get_dummies(df_train_1, columns = ['MultipleLines'])\n",
        "df_train_1.rename({'MultipleLines_No phone service':'MultipleLines_No_phone_service'}, axis = 1, inplace=True)"
      ],
      "execution_count": 56,
      "outputs": []
    },
    {
      "cell_type": "code",
      "metadata": {
        "id": "USuhofobeWoo",
        "outputId": "1273ebf1-97bd-48f3-eeec-e2bd2b01c017",
        "colab": {
          "base_uri": "https://localhost:8080/"
        }
      },
      "source": [
        "# eliminando TotalCharges\n",
        "modelo1 = smf.glm(formula = 'Churn ~ tenure + MonthlyCharges + gender + SeniorCitizen + Partner + Dependents + PhoneService + MultipleLines + InternetService + OnlineSecurity + OnlineBackup + DeviceProtection + TechSupport + StreamingTV + StreamingMovies + Contract + PaperlessBilling + PaymentMethod',\n",
        "                 data = df_train,\n",
        "                 family = sm.families.Binomial()).fit()\n",
        "print(modelo1.summary())"
      ],
      "execution_count": 69,
      "outputs": [
        {
          "output_type": "stream",
          "text": [
            "                 Generalized Linear Model Regression Results                  \n",
            "==============================================================================\n",
            "Dep. Variable:                  Churn   No. Observations:                 5634\n",
            "Model:                            GLM   Df Residuals:                     5611\n",
            "Model Family:                Binomial   Df Model:                           22\n",
            "Link Function:                  logit   Scale:                          1.0000\n",
            "Method:                          IRLS   Log-Likelihood:                -2307.4\n",
            "Date:                Sun, 15 Nov 2020   Deviance:                       4614.7\n",
            "Time:                        16:10:48   Pearson chi2:                 5.60e+03\n",
            "No. Iterations:                     7                                         \n",
            "Covariance Type:            nonrobust                                         \n",
            "============================================================================================================\n",
            "                                               coef    std err          z      P>|z|      [0.025      0.975]\n",
            "------------------------------------------------------------------------------------------------------------\n",
            "Intercept                                    1.0785      0.844      1.278      0.201      -0.575       2.732\n",
            "gender[T.Male]                               0.0265      0.073      0.362      0.717      -0.117       0.170\n",
            "Partner[T.Yes]                              -0.1139      0.087     -1.313      0.189      -0.284       0.056\n",
            "Dependents[T.Yes]                           -0.1470      0.102     -1.445      0.148      -0.346       0.052\n",
            "PhoneService[T.Yes]                          0.9080      0.784      1.159      0.247      -0.628       2.444\n",
            "MultipleLines[T.No phone service]            0.1705      0.109      1.559      0.119      -0.044       0.385\n",
            "MultipleLines[T.Yes]                         0.4745      0.200      2.377      0.017       0.083       0.866\n",
            "InternetService[T.Fiber optic]               2.3804      0.906      2.629      0.009       0.605       4.155\n",
            "InternetService[T.No]                       -0.3245      0.131     -2.486      0.013      -0.580      -0.069\n",
            "OnlineSecurity[T.No internet service]       -0.3245      0.131     -2.486      0.013      -0.580      -0.069\n",
            "OnlineSecurity[T.Yes]                       -0.1486      0.202     -0.734      0.463      -0.545       0.248\n",
            "OnlineBackup[T.No internet service]         -0.3245      0.131     -2.486      0.013      -0.580      -0.069\n",
            "OnlineBackup[T.Yes]                          0.1017      0.200      0.509      0.611      -0.290       0.493\n",
            "DeviceProtection[T.No internet service]     -0.3245      0.131     -2.486      0.013      -0.580      -0.069\n",
            "DeviceProtection[T.Yes]                      0.2422      0.200      1.214      0.225      -0.149       0.633\n",
            "TechSupport[T.No internet service]          -0.3245      0.131     -2.486      0.013      -0.580      -0.069\n",
            "TechSupport[T.Yes]                          -0.0184      0.204     -0.090      0.928      -0.419       0.382\n",
            "StreamingTV[T.No internet service]          -0.3245      0.131     -2.486      0.013      -0.580      -0.069\n",
            "StreamingTV[T.Yes]                           0.8500      0.369      2.304      0.021       0.127       1.573\n",
            "StreamingMovies[T.No internet service]      -0.3245      0.131     -2.486      0.013      -0.580      -0.069\n",
            "StreamingMovies[T.Yes]                       0.8354      0.371      2.255      0.024       0.109       1.562\n",
            "Contract[T.One year]                        -0.8037      0.120     -6.723      0.000      -1.038      -0.569\n",
            "Contract[T.Two year]                        -1.5641      0.195     -8.023      0.000      -1.946      -1.182\n",
            "PaperlessBilling[T.Yes]                      0.3651      0.084      4.371      0.000       0.201       0.529\n",
            "PaymentMethod[T.Credit card (automatic)]    -0.1340      0.130     -1.029      0.303      -0.389       0.121\n",
            "PaymentMethod[T.Electronic check]            0.1777      0.106      1.670      0.095      -0.031       0.386\n",
            "PaymentMethod[T.Mailed check]               -0.1106      0.129     -0.859      0.391      -0.363       0.142\n",
            "tenure                                      -0.0326      0.003    -12.327      0.000      -0.038      -0.027\n",
            "MonthlyCharges                              -0.0565      0.036     -1.569      0.117      -0.127       0.014\n",
            "SeniorCitizen                                0.2711      0.095      2.845      0.004       0.084       0.458\n",
            "============================================================================================================\n"
          ],
          "name": "stdout"
        }
      ]
    },
    {
      "cell_type": "code",
      "metadata": {
        "id": "PmJVUM4KdWH9",
        "outputId": "b68c1970-b311-4d6e-f270-340526e66c85",
        "colab": {
          "base_uri": "https://localhost:8080/"
        }
      },
      "source": [
        "df_train.info()"
      ],
      "execution_count": 71,
      "outputs": [
        {
          "output_type": "stream",
          "text": [
            "<class 'pandas.core.frame.DataFrame'>\n",
            "RangeIndex: 5634 entries, 0 to 5633\n",
            "Data columns (total 21 columns):\n",
            " #   Column            Non-Null Count  Dtype  \n",
            "---  ------            --------------  -----  \n",
            " 0   id                5634 non-null   int64  \n",
            " 1   gender            5634 non-null   object \n",
            " 2   SeniorCitizen     5634 non-null   int64  \n",
            " 3   Partner           5634 non-null   object \n",
            " 4   Dependents        5634 non-null   object \n",
            " 5   tenure            5634 non-null   float64\n",
            " 6   PhoneService      5634 non-null   object \n",
            " 7   MultipleLines     5634 non-null   object \n",
            " 8   InternetService   5634 non-null   object \n",
            " 9   OnlineSecurity    5634 non-null   object \n",
            " 10  OnlineBackup      5634 non-null   object \n",
            " 11  DeviceProtection  5634 non-null   object \n",
            " 12  TechSupport       5634 non-null   object \n",
            " 13  StreamingTV       5634 non-null   object \n",
            " 14  StreamingMovies   5634 non-null   object \n",
            " 15  Contract          5634 non-null   object \n",
            " 16  PaperlessBilling  5634 non-null   object \n",
            " 17  PaymentMethod     5634 non-null   object \n",
            " 18  MonthlyCharges    5634 non-null   float64\n",
            " 19  TotalCharges      5634 non-null   float64\n",
            " 20  Churn             5634 non-null   int64  \n",
            "dtypes: float64(3), int64(3), object(15)\n",
            "memory usage: 924.5+ KB\n"
          ],
          "name": "stdout"
        }
      ]
    },
    {
      "cell_type": "code",
      "metadata": {
        "id": "S7NxNHwz2adl",
        "outputId": "fe0f7b65-ff8e-4844-d55c-e83d2c23425e",
        "colab": {
          "base_uri": "https://localhost:8080/"
        }
      },
      "source": [
        "df_train.columns"
      ],
      "execution_count": 70,
      "outputs": [
        {
          "output_type": "execute_result",
          "data": {
            "text/plain": [
              "Index(['id', 'gender', 'SeniorCitizen', 'Partner', 'Dependents', 'tenure',\n",
              "       'PhoneService', 'MultipleLines', 'InternetService', 'OnlineSecurity',\n",
              "       'OnlineBackup', 'DeviceProtection', 'TechSupport', 'StreamingTV',\n",
              "       'StreamingMovies', 'Contract', 'PaperlessBilling', 'PaymentMethod',\n",
              "       'MonthlyCharges', 'TotalCharges', 'Churn'],\n",
              "      dtype='object')"
            ]
          },
          "metadata": {
            "tags": []
          },
          "execution_count": 70
        }
      ]
    },
    {
      "cell_type": "code",
      "metadata": {
        "id": "h9F_qOUR8CmQ",
        "outputId": "f3112fef-7688-4cb3-b8e4-e6dbcead92d3",
        "colab": {
          "base_uri": "https://localhost:8080/"
        }
      },
      "source": [
        "df_X_train_1.info()"
      ],
      "execution_count": null,
      "outputs": [
        {
          "output_type": "stream",
          "text": [
            "<class 'pandas.core.frame.DataFrame'>\n",
            "RangeIndex: 5634 entries, 0 to 5633\n",
            "Data columns (total 23 columns):\n",
            " #   Column               Non-Null Count  Dtype   \n",
            "---  ------               --------------  -----   \n",
            " 0   tenure               5634 non-null   float64 \n",
            " 1   MonthlyCharges       5634 non-null   float64 \n",
            " 2   TotalCharges         5634 non-null   float64 \n",
            " 3   gender_le            5634 non-null   category\n",
            " 4   SeniorCitizen_le     5634 non-null   category\n",
            " 5   Partner_le           5634 non-null   category\n",
            " 6   Dependents_le        5634 non-null   category\n",
            " 7   PhoneService_le      5634 non-null   category\n",
            " 8   MultipleLines_le     5634 non-null   category\n",
            " 9   InternetService_le   5634 non-null   category\n",
            " 10  OnlineSecurity_le    5634 non-null   category\n",
            " 11  OnlineBackup_le      5634 non-null   category\n",
            " 12  DeviceProtection_le  5634 non-null   category\n",
            " 13  TechSupport_le       5634 non-null   category\n",
            " 14  StreamingTV_le       5634 non-null   category\n",
            " 15  StreamingMovies_le   5634 non-null   category\n",
            " 16  Contract_le          5634 non-null   category\n",
            " 17  PaperlessBilling_le  5634 non-null   category\n",
            " 18  PaymentMethod_le     5634 non-null   category\n",
            " 19  tenure_o             5634 non-null   float64 \n",
            " 20  MonthlyCharges_o     5634 non-null   float64 \n",
            " 21  TotalCharges_o       5634 non-null   float64 \n",
            " 22  Churn                5634 non-null   int64   \n",
            "dtypes: category(16), float64(6), int64(1)\n",
            "memory usage: 397.9 KB\n"
          ],
          "name": "stdout"
        }
      ]
    },
    {
      "cell_type": "code",
      "metadata": {
        "id": "1l4H4TME2rmd",
        "outputId": "11fb6da8-7ab7-4103-d9d0-51be713983e4",
        "colab": {
          "base_uri": "https://localhost:8080/"
        }
      },
      "source": [
        "df_y_train"
      ],
      "execution_count": null,
      "outputs": [
        {
          "output_type": "execute_result",
          "data": {
            "text/plain": [
              "0       0\n",
              "1       0\n",
              "2       0\n",
              "3       1\n",
              "4       1\n",
              "       ..\n",
              "5629    0\n",
              "5630    0\n",
              "5631    0\n",
              "5632    0\n",
              "5633    0\n",
              "Name: Churn, Length: 5634, dtype: int64"
            ]
          },
          "metadata": {
            "tags": []
          },
          "execution_count": 203
        }
      ]
    },
    {
      "cell_type": "code",
      "metadata": {
        "id": "JfbitmEsSxc7",
        "outputId": "70c47fd1-ae16-42b7-ddce-210c6964d6ab",
        "colab": {
          "base_uri": "https://localhost:8080/"
        }
      },
      "source": [
        "type(df_y_train)"
      ],
      "execution_count": null,
      "outputs": [
        {
          "output_type": "execute_result",
          "data": {
            "text/plain": [
              "pandas.core.series.Series"
            ]
          },
          "metadata": {
            "tags": []
          },
          "execution_count": 204
        }
      ]
    },
    {
      "cell_type": "code",
      "metadata": {
        "id": "6SuRUiFXI5Zi",
        "outputId": "dbfba75a-0760-43f9-bb13-fb5acec73df3",
        "colab": {
          "base_uri": "https://localhost:8080/"
        }
      },
      "source": [
        "print(np.exp(modelo1.params[1:]))"
      ],
      "execution_count": 62,
      "outputs": [
        {
          "output_type": "stream",
          "text": [
            "Partner[T.Yes]                               0.892316\n",
            "Dependents[T.Yes]                            0.863264\n",
            "PhoneService[T.Yes]                          1.863413\n",
            "InternetService[T.Fiber optic]              10.809657\n",
            "InternetService[T.No]                        0.768812\n",
            "OnlineSecurity[T.No internet service]        0.768812\n",
            "OnlineSecurity[T.Yes]                        0.861918\n",
            "OnlineBackup[T.No internet service]          0.768812\n",
            "OnlineBackup[T.Yes]                          1.106997\n",
            "DeviceProtection[T.No internet service]      0.768812\n",
            "DeviceProtection[T.Yes]                      1.274109\n",
            "StreamingTV[T.No internet service]           0.768812\n",
            "StreamingTV[T.Yes]                           2.339645\n",
            "StreamingMovies[T.No internet service]       0.768812\n",
            "StreamingMovies[T.Yes]                       2.305802\n",
            "Contract[T.One year]                         0.447687\n",
            "Contract[T.Two year]                         0.209283\n",
            "PaperlessBilling[T.Yes]                      1.440704\n",
            "PaymentMethod[T.Credit card (automatic)]     0.874629\n",
            "PaymentMethod[T.Electronic check]            1.194481\n",
            "PaymentMethod[T.Mailed check]                0.895272\n",
            "TechSupport_Yes                              1.511250\n",
            "TechSupport_No                               1.539247\n",
            "gender_Female                                1.319713\n",
            "gender_Male                                  1.355144\n",
            "TechSupport_No_internet_service              0.768812\n",
            "tenure                                       0.967969\n",
            "MonthlyCharges                               0.945113\n",
            "SeniorCitizen                                1.311416\n",
            "MultipleLines_No                             1.076782\n",
            "MultipleLines_No_phone_service               0.959744\n",
            "MultipleLines_Yes                            1.730538\n",
            "dtype: float64\n"
          ],
          "name": "stdout"
        }
      ]
    },
    {
      "cell_type": "code",
      "metadata": {
        "id": "8cWHnRfa20q4",
        "outputId": "0cd6a524-1bf9-40bb-b0e1-1cdda14503ae",
        "colab": {
          "base_uri": "https://localhost:8080/",
          "height": 202
        }
      },
      "source": [
        "df_X_train_2 = df_X_train_1[['Churn','SeniorCitizen_le', 'MultipleLines_le','InternetService_le','OnlineSecurity_le',\n",
        "                            'OnlineBackup_le','DeviceProtection_le','TechSupport_le', 'StreamingTV_le','StreamingMovies_le',\n",
        "                            'Contract_le','tenure','PaperlessBilling_le']]\n",
        "df_X_train_2.head()"
      ],
      "execution_count": null,
      "outputs": [
        {
          "output_type": "execute_result",
          "data": {
            "text/html": [
              "<div>\n",
              "<style scoped>\n",
              "    .dataframe tbody tr th:only-of-type {\n",
              "        vertical-align: middle;\n",
              "    }\n",
              "\n",
              "    .dataframe tbody tr th {\n",
              "        vertical-align: top;\n",
              "    }\n",
              "\n",
              "    .dataframe thead th {\n",
              "        text-align: right;\n",
              "    }\n",
              "</style>\n",
              "<table border=\"1\" class=\"dataframe\">\n",
              "  <thead>\n",
              "    <tr style=\"text-align: right;\">\n",
              "      <th></th>\n",
              "      <th>Churn</th>\n",
              "      <th>SeniorCitizen_le</th>\n",
              "      <th>MultipleLines_le</th>\n",
              "      <th>InternetService_le</th>\n",
              "      <th>OnlineSecurity_le</th>\n",
              "      <th>OnlineBackup_le</th>\n",
              "      <th>DeviceProtection_le</th>\n",
              "      <th>TechSupport_le</th>\n",
              "      <th>StreamingTV_le</th>\n",
              "      <th>StreamingMovies_le</th>\n",
              "      <th>Contract_le</th>\n",
              "      <th>tenure</th>\n",
              "      <th>PaperlessBilling_le</th>\n",
              "    </tr>\n",
              "  </thead>\n",
              "  <tbody>\n",
              "    <tr>\n",
              "      <th>0</th>\n",
              "      <td>0</td>\n",
              "      <td>0</td>\n",
              "      <td>1</td>\n",
              "      <td>0</td>\n",
              "      <td>2</td>\n",
              "      <td>2</td>\n",
              "      <td>2</td>\n",
              "      <td>2</td>\n",
              "      <td>0</td>\n",
              "      <td>0</td>\n",
              "      <td>2</td>\n",
              "      <td>56.0</td>\n",
              "      <td>0</td>\n",
              "    </tr>\n",
              "    <tr>\n",
              "      <th>1</th>\n",
              "      <td>0</td>\n",
              "      <td>0</td>\n",
              "      <td>0</td>\n",
              "      <td>2</td>\n",
              "      <td>1</td>\n",
              "      <td>1</td>\n",
              "      <td>1</td>\n",
              "      <td>1</td>\n",
              "      <td>1</td>\n",
              "      <td>1</td>\n",
              "      <td>1</td>\n",
              "      <td>29.0</td>\n",
              "      <td>0</td>\n",
              "    </tr>\n",
              "    <tr>\n",
              "      <th>2</th>\n",
              "      <td>0</td>\n",
              "      <td>0</td>\n",
              "      <td>2</td>\n",
              "      <td>1</td>\n",
              "      <td>0</td>\n",
              "      <td>2</td>\n",
              "      <td>2</td>\n",
              "      <td>2</td>\n",
              "      <td>2</td>\n",
              "      <td>2</td>\n",
              "      <td>2</td>\n",
              "      <td>60.0</td>\n",
              "      <td>1</td>\n",
              "    </tr>\n",
              "    <tr>\n",
              "      <th>3</th>\n",
              "      <td>1</td>\n",
              "      <td>0</td>\n",
              "      <td>2</td>\n",
              "      <td>1</td>\n",
              "      <td>0</td>\n",
              "      <td>2</td>\n",
              "      <td>2</td>\n",
              "      <td>0</td>\n",
              "      <td>2</td>\n",
              "      <td>2</td>\n",
              "      <td>0</td>\n",
              "      <td>37.0</td>\n",
              "      <td>1</td>\n",
              "    </tr>\n",
              "    <tr>\n",
              "      <th>4</th>\n",
              "      <td>1</td>\n",
              "      <td>0</td>\n",
              "      <td>0</td>\n",
              "      <td>1</td>\n",
              "      <td>0</td>\n",
              "      <td>0</td>\n",
              "      <td>0</td>\n",
              "      <td>0</td>\n",
              "      <td>0</td>\n",
              "      <td>0</td>\n",
              "      <td>0</td>\n",
              "      <td>29.0</td>\n",
              "      <td>1</td>\n",
              "    </tr>\n",
              "  </tbody>\n",
              "</table>\n",
              "</div>"
            ],
            "text/plain": [
              "   Churn SeniorCitizen_le  ... tenure PaperlessBilling_le\n",
              "0      0                0  ...   56.0                   0\n",
              "1      0                0  ...   29.0                   0\n",
              "2      0                0  ...   60.0                   1\n",
              "3      1                0  ...   37.0                   1\n",
              "4      1                0  ...   29.0                   1\n",
              "\n",
              "[5 rows x 13 columns]"
            ]
          },
          "metadata": {
            "tags": []
          },
          "execution_count": 206
        }
      ]
    },
    {
      "cell_type": "code",
      "metadata": {
        "id": "a1yObpi8Et6Z"
      },
      "source": [
        ""
      ],
      "execution_count": null,
      "outputs": []
    },
    {
      "cell_type": "code",
      "metadata": {
        "id": "zjrolv_4Vkvx"
      },
      "source": [
        "modelo2 = LogisticRegression(penalty='none', solver='newton-cg')\n",
        "y = df_y_train\n",
        "X = df_train_1.drop('Churn',axis=1)"
      ],
      "execution_count": 64,
      "outputs": []
    },
    {
      "cell_type": "code",
      "metadata": {
        "id": "GMniOFMa_bPV",
        "outputId": "46775013-febb-44fe-d2a8-405804f7b2d6",
        "colab": {
          "base_uri": "https://localhost:8080/"
        }
      },
      "source": [
        "X.shape"
      ],
      "execution_count": 65,
      "outputs": [
        {
          "output_type": "execute_result",
          "data": {
            "text/plain": [
              "(5634, 25)"
            ]
          },
          "metadata": {
            "tags": []
          },
          "execution_count": 65
        }
      ]
    },
    {
      "cell_type": "code",
      "metadata": {
        "id": "jNfcA5c_VhXx",
        "outputId": "deae705f-bf57-4079-fc1c-4e434f5e35e2",
        "colab": {
          "base_uri": "https://localhost:8080/"
        }
      },
      "source": [
        "y.shape"
      ],
      "execution_count": 66,
      "outputs": [
        {
          "output_type": "execute_result",
          "data": {
            "text/plain": [
              "(5634,)"
            ]
          },
          "metadata": {
            "tags": []
          },
          "execution_count": 66
        }
      ]
    },
    {
      "cell_type": "code",
      "metadata": {
        "id": "-61aIOPxPGSe",
        "outputId": "58fff20e-7336-4361-b1b5-6ef52883c7fa",
        "colab": {
          "base_uri": "https://localhost:8080/",
          "height": 316
        }
      },
      "source": [
        "modelo2.fit(X, y)"
      ],
      "execution_count": 67,
      "outputs": [
        {
          "output_type": "error",
          "ename": "ValueError",
          "evalue": "ignored",
          "traceback": [
            "\u001b[0;31m---------------------------------------------------------------------------\u001b[0m",
            "\u001b[0;31mValueError\u001b[0m                                Traceback (most recent call last)",
            "\u001b[0;32m<ipython-input-67-14aeefc6ca74>\u001b[0m in \u001b[0;36m<module>\u001b[0;34m()\u001b[0m\n\u001b[0;32m----> 1\u001b[0;31m \u001b[0mmodelo2\u001b[0m\u001b[0;34m.\u001b[0m\u001b[0mfit\u001b[0m\u001b[0;34m(\u001b[0m\u001b[0mX\u001b[0m\u001b[0;34m,\u001b[0m \u001b[0my\u001b[0m\u001b[0;34m)\u001b[0m\u001b[0;34m\u001b[0m\u001b[0;34m\u001b[0m\u001b[0m\n\u001b[0m",
            "\u001b[0;32m/usr/local/lib/python3.6/dist-packages/sklearn/linear_model/_logistic.py\u001b[0m in \u001b[0;36mfit\u001b[0;34m(self, X, y, sample_weight)\u001b[0m\n\u001b[1;32m   1525\u001b[0m \u001b[0;34m\u001b[0m\u001b[0m\n\u001b[1;32m   1526\u001b[0m         X, y = check_X_y(X, y, accept_sparse='csr', dtype=_dtype, order=\"C\",\n\u001b[0;32m-> 1527\u001b[0;31m                          accept_large_sparse=solver != 'liblinear')\n\u001b[0m\u001b[1;32m   1528\u001b[0m         \u001b[0mcheck_classification_targets\u001b[0m\u001b[0;34m(\u001b[0m\u001b[0my\u001b[0m\u001b[0;34m)\u001b[0m\u001b[0;34m\u001b[0m\u001b[0;34m\u001b[0m\u001b[0m\n\u001b[1;32m   1529\u001b[0m         \u001b[0mself\u001b[0m\u001b[0;34m.\u001b[0m\u001b[0mclasses_\u001b[0m \u001b[0;34m=\u001b[0m \u001b[0mnp\u001b[0m\u001b[0;34m.\u001b[0m\u001b[0munique\u001b[0m\u001b[0;34m(\u001b[0m\u001b[0my\u001b[0m\u001b[0;34m)\u001b[0m\u001b[0;34m\u001b[0m\u001b[0;34m\u001b[0m\u001b[0m\n",
            "\u001b[0;32m/usr/local/lib/python3.6/dist-packages/sklearn/utils/validation.py\u001b[0m in \u001b[0;36mcheck_X_y\u001b[0;34m(X, y, accept_sparse, accept_large_sparse, dtype, order, copy, force_all_finite, ensure_2d, allow_nd, multi_output, ensure_min_samples, ensure_min_features, y_numeric, warn_on_dtype, estimator)\u001b[0m\n\u001b[1;32m    753\u001b[0m                     \u001b[0mensure_min_features\u001b[0m\u001b[0;34m=\u001b[0m\u001b[0mensure_min_features\u001b[0m\u001b[0;34m,\u001b[0m\u001b[0;34m\u001b[0m\u001b[0;34m\u001b[0m\u001b[0m\n\u001b[1;32m    754\u001b[0m                     \u001b[0mwarn_on_dtype\u001b[0m\u001b[0;34m=\u001b[0m\u001b[0mwarn_on_dtype\u001b[0m\u001b[0;34m,\u001b[0m\u001b[0;34m\u001b[0m\u001b[0;34m\u001b[0m\u001b[0m\n\u001b[0;32m--> 755\u001b[0;31m                     estimator=estimator)\n\u001b[0m\u001b[1;32m    756\u001b[0m     \u001b[0;32mif\u001b[0m \u001b[0mmulti_output\u001b[0m\u001b[0;34m:\u001b[0m\u001b[0;34m\u001b[0m\u001b[0;34m\u001b[0m\u001b[0m\n\u001b[1;32m    757\u001b[0m         y = check_array(y, 'csr', force_all_finite=True, ensure_2d=False,\n",
            "\u001b[0;32m/usr/local/lib/python3.6/dist-packages/sklearn/utils/validation.py\u001b[0m in \u001b[0;36mcheck_array\u001b[0;34m(array, accept_sparse, accept_large_sparse, dtype, order, copy, force_all_finite, ensure_2d, allow_nd, ensure_min_samples, ensure_min_features, warn_on_dtype, estimator)\u001b[0m\n\u001b[1;32m    529\u001b[0m                     \u001b[0marray\u001b[0m \u001b[0;34m=\u001b[0m \u001b[0marray\u001b[0m\u001b[0;34m.\u001b[0m\u001b[0mastype\u001b[0m\u001b[0;34m(\u001b[0m\u001b[0mdtype\u001b[0m\u001b[0;34m,\u001b[0m \u001b[0mcasting\u001b[0m\u001b[0;34m=\u001b[0m\u001b[0;34m\"unsafe\"\u001b[0m\u001b[0;34m,\u001b[0m \u001b[0mcopy\u001b[0m\u001b[0;34m=\u001b[0m\u001b[0;32mFalse\u001b[0m\u001b[0;34m)\u001b[0m\u001b[0;34m\u001b[0m\u001b[0;34m\u001b[0m\u001b[0m\n\u001b[1;32m    530\u001b[0m                 \u001b[0;32melse\u001b[0m\u001b[0;34m:\u001b[0m\u001b[0;34m\u001b[0m\u001b[0;34m\u001b[0m\u001b[0m\n\u001b[0;32m--> 531\u001b[0;31m                     \u001b[0marray\u001b[0m \u001b[0;34m=\u001b[0m \u001b[0mnp\u001b[0m\u001b[0;34m.\u001b[0m\u001b[0masarray\u001b[0m\u001b[0;34m(\u001b[0m\u001b[0marray\u001b[0m\u001b[0;34m,\u001b[0m \u001b[0morder\u001b[0m\u001b[0;34m=\u001b[0m\u001b[0morder\u001b[0m\u001b[0;34m,\u001b[0m \u001b[0mdtype\u001b[0m\u001b[0;34m=\u001b[0m\u001b[0mdtype\u001b[0m\u001b[0;34m)\u001b[0m\u001b[0;34m\u001b[0m\u001b[0;34m\u001b[0m\u001b[0m\n\u001b[0m\u001b[1;32m    532\u001b[0m             \u001b[0;32mexcept\u001b[0m \u001b[0mComplexWarning\u001b[0m\u001b[0;34m:\u001b[0m\u001b[0;34m\u001b[0m\u001b[0;34m\u001b[0m\u001b[0m\n\u001b[1;32m    533\u001b[0m                 raise ValueError(\"Complex data not supported\\n\"\n",
            "\u001b[0;32m/usr/local/lib/python3.6/dist-packages/numpy/core/_asarray.py\u001b[0m in \u001b[0;36masarray\u001b[0;34m(a, dtype, order)\u001b[0m\n\u001b[1;32m     83\u001b[0m \u001b[0;34m\u001b[0m\u001b[0m\n\u001b[1;32m     84\u001b[0m     \"\"\"\n\u001b[0;32m---> 85\u001b[0;31m     \u001b[0;32mreturn\u001b[0m \u001b[0marray\u001b[0m\u001b[0;34m(\u001b[0m\u001b[0ma\u001b[0m\u001b[0;34m,\u001b[0m \u001b[0mdtype\u001b[0m\u001b[0;34m,\u001b[0m \u001b[0mcopy\u001b[0m\u001b[0;34m=\u001b[0m\u001b[0;32mFalse\u001b[0m\u001b[0;34m,\u001b[0m \u001b[0morder\u001b[0m\u001b[0;34m=\u001b[0m\u001b[0morder\u001b[0m\u001b[0;34m)\u001b[0m\u001b[0;34m\u001b[0m\u001b[0;34m\u001b[0m\u001b[0m\n\u001b[0m\u001b[1;32m     86\u001b[0m \u001b[0;34m\u001b[0m\u001b[0m\n\u001b[1;32m     87\u001b[0m \u001b[0;34m\u001b[0m\u001b[0m\n",
            "\u001b[0;32m/usr/local/lib/python3.6/dist-packages/pandas/core/generic.py\u001b[0m in \u001b[0;36m__array__\u001b[0;34m(self, dtype)\u001b[0m\n\u001b[1;32m   1779\u001b[0m \u001b[0;34m\u001b[0m\u001b[0m\n\u001b[1;32m   1780\u001b[0m     \u001b[0;32mdef\u001b[0m \u001b[0m__array__\u001b[0m\u001b[0;34m(\u001b[0m\u001b[0mself\u001b[0m\u001b[0;34m,\u001b[0m \u001b[0mdtype\u001b[0m\u001b[0;34m=\u001b[0m\u001b[0;32mNone\u001b[0m\u001b[0;34m)\u001b[0m \u001b[0;34m->\u001b[0m \u001b[0mnp\u001b[0m\u001b[0;34m.\u001b[0m\u001b[0mndarray\u001b[0m\u001b[0;34m:\u001b[0m\u001b[0;34m\u001b[0m\u001b[0;34m\u001b[0m\u001b[0m\n\u001b[0;32m-> 1781\u001b[0;31m         \u001b[0;32mreturn\u001b[0m \u001b[0mnp\u001b[0m\u001b[0;34m.\u001b[0m\u001b[0masarray\u001b[0m\u001b[0;34m(\u001b[0m\u001b[0mself\u001b[0m\u001b[0;34m.\u001b[0m\u001b[0m_values\u001b[0m\u001b[0;34m,\u001b[0m \u001b[0mdtype\u001b[0m\u001b[0;34m=\u001b[0m\u001b[0mdtype\u001b[0m\u001b[0;34m)\u001b[0m\u001b[0;34m\u001b[0m\u001b[0;34m\u001b[0m\u001b[0m\n\u001b[0m\u001b[1;32m   1782\u001b[0m \u001b[0;34m\u001b[0m\u001b[0m\n\u001b[1;32m   1783\u001b[0m     \u001b[0;32mdef\u001b[0m \u001b[0m__array_wrap__\u001b[0m\u001b[0;34m(\u001b[0m\u001b[0mself\u001b[0m\u001b[0;34m,\u001b[0m \u001b[0mresult\u001b[0m\u001b[0;34m,\u001b[0m \u001b[0mcontext\u001b[0m\u001b[0;34m=\u001b[0m\u001b[0;32mNone\u001b[0m\u001b[0;34m)\u001b[0m\u001b[0;34m:\u001b[0m\u001b[0;34m\u001b[0m\u001b[0;34m\u001b[0m\u001b[0m\n",
            "\u001b[0;32m/usr/local/lib/python3.6/dist-packages/numpy/core/_asarray.py\u001b[0m in \u001b[0;36masarray\u001b[0;34m(a, dtype, order)\u001b[0m\n\u001b[1;32m     83\u001b[0m \u001b[0;34m\u001b[0m\u001b[0m\n\u001b[1;32m     84\u001b[0m     \"\"\"\n\u001b[0;32m---> 85\u001b[0;31m     \u001b[0;32mreturn\u001b[0m \u001b[0marray\u001b[0m\u001b[0;34m(\u001b[0m\u001b[0ma\u001b[0m\u001b[0;34m,\u001b[0m \u001b[0mdtype\u001b[0m\u001b[0;34m,\u001b[0m \u001b[0mcopy\u001b[0m\u001b[0;34m=\u001b[0m\u001b[0;32mFalse\u001b[0m\u001b[0;34m,\u001b[0m \u001b[0morder\u001b[0m\u001b[0;34m=\u001b[0m\u001b[0morder\u001b[0m\u001b[0;34m)\u001b[0m\u001b[0;34m\u001b[0m\u001b[0;34m\u001b[0m\u001b[0m\n\u001b[0m\u001b[1;32m     86\u001b[0m \u001b[0;34m\u001b[0m\u001b[0m\n\u001b[1;32m     87\u001b[0m \u001b[0;34m\u001b[0m\u001b[0m\n",
            "\u001b[0;31mValueError\u001b[0m: could not convert string to float: 'No'"
          ]
        }
      ]
    },
    {
      "cell_type": "code",
      "metadata": {
        "id": "7L33IAzXPJQB"
      },
      "source": [
        "#y_pred = modelo2.predict_proba(X)\n",
        "#y_pred"
      ],
      "execution_count": null,
      "outputs": []
    },
    {
      "cell_type": "code",
      "metadata": {
        "id": "YW8CcayFUzeR",
        "outputId": "8d1f5adc-6f21-4f9f-8d72-728c4ddac7cd",
        "colab": {
          "base_uri": "https://localhost:8080/"
        }
      },
      "source": [
        "X_teste.shape"
      ],
      "execution_count": null,
      "outputs": [
        {
          "output_type": "execute_result",
          "data": {
            "text/plain": [
              "(1409, 19)"
            ]
          },
          "metadata": {
            "tags": []
          },
          "execution_count": 212
        }
      ]
    },
    {
      "cell_type": "code",
      "metadata": {
        "id": "fQep2uOKV6Zx",
        "outputId": "3317a6a1-12cd-41d9-e66d-69296b9b18ce",
        "colab": {
          "base_uri": "https://localhost:8080/",
          "height": 222
        }
      },
      "source": [
        "X_teste.head()"
      ],
      "execution_count": null,
      "outputs": [
        {
          "output_type": "execute_result",
          "data": {
            "text/html": [
              "<div>\n",
              "<style scoped>\n",
              "    .dataframe tbody tr th:only-of-type {\n",
              "        vertical-align: middle;\n",
              "    }\n",
              "\n",
              "    .dataframe tbody tr th {\n",
              "        vertical-align: top;\n",
              "    }\n",
              "\n",
              "    .dataframe thead th {\n",
              "        text-align: right;\n",
              "    }\n",
              "</style>\n",
              "<table border=\"1\" class=\"dataframe\">\n",
              "  <thead>\n",
              "    <tr style=\"text-align: right;\">\n",
              "      <th></th>\n",
              "      <th>tenure</th>\n",
              "      <th>MonthlyCharges</th>\n",
              "      <th>TotalCharges</th>\n",
              "      <th>gender_le</th>\n",
              "      <th>SeniorCitizen_le</th>\n",
              "      <th>Partner_le</th>\n",
              "      <th>Dependents_le</th>\n",
              "      <th>PhoneService_le</th>\n",
              "      <th>MultipleLines_le</th>\n",
              "      <th>InternetService_le</th>\n",
              "      <th>OnlineSecurity_le</th>\n",
              "      <th>OnlineBackup_le</th>\n",
              "      <th>DeviceProtection_le</th>\n",
              "      <th>TechSupport_le</th>\n",
              "      <th>StreamingTV_le</th>\n",
              "      <th>StreamingMovies_le</th>\n",
              "      <th>Contract_le</th>\n",
              "      <th>PaperlessBilling_le</th>\n",
              "      <th>PaymentMethod_le</th>\n",
              "    </tr>\n",
              "  </thead>\n",
              "  <tbody>\n",
              "    <tr>\n",
              "      <th>0</th>\n",
              "      <td>23.0</td>\n",
              "      <td>20.00</td>\n",
              "      <td>445.30</td>\n",
              "      <td>1</td>\n",
              "      <td>0</td>\n",
              "      <td>1</td>\n",
              "      <td>1</td>\n",
              "      <td>1</td>\n",
              "      <td>0</td>\n",
              "      <td>2</td>\n",
              "      <td>1</td>\n",
              "      <td>1</td>\n",
              "      <td>1</td>\n",
              "      <td>1</td>\n",
              "      <td>1</td>\n",
              "      <td>1</td>\n",
              "      <td>1</td>\n",
              "      <td>1</td>\n",
              "      <td>1</td>\n",
              "    </tr>\n",
              "    <tr>\n",
              "      <th>1</th>\n",
              "      <td>61.0</td>\n",
              "      <td>99.00</td>\n",
              "      <td>5969.30</td>\n",
              "      <td>1</td>\n",
              "      <td>1</td>\n",
              "      <td>1</td>\n",
              "      <td>1</td>\n",
              "      <td>1</td>\n",
              "      <td>2</td>\n",
              "      <td>1</td>\n",
              "      <td>0</td>\n",
              "      <td>2</td>\n",
              "      <td>0</td>\n",
              "      <td>0</td>\n",
              "      <td>2</td>\n",
              "      <td>2</td>\n",
              "      <td>1</td>\n",
              "      <td>0</td>\n",
              "      <td>3</td>\n",
              "    </tr>\n",
              "    <tr>\n",
              "      <th>2</th>\n",
              "      <td>36.0</td>\n",
              "      <td>84.75</td>\n",
              "      <td>3050.15</td>\n",
              "      <td>1</td>\n",
              "      <td>0</td>\n",
              "      <td>0</td>\n",
              "      <td>0</td>\n",
              "      <td>1</td>\n",
              "      <td>2</td>\n",
              "      <td>1</td>\n",
              "      <td>0</td>\n",
              "      <td>0</td>\n",
              "      <td>0</td>\n",
              "      <td>0</td>\n",
              "      <td>0</td>\n",
              "      <td>2</td>\n",
              "      <td>0</td>\n",
              "      <td>1</td>\n",
              "      <td>2</td>\n",
              "    </tr>\n",
              "    <tr>\n",
              "      <th>3</th>\n",
              "      <td>61.0</td>\n",
              "      <td>61.45</td>\n",
              "      <td>3751.15</td>\n",
              "      <td>0</td>\n",
              "      <td>0</td>\n",
              "      <td>1</td>\n",
              "      <td>1</td>\n",
              "      <td>0</td>\n",
              "      <td>1</td>\n",
              "      <td>0</td>\n",
              "      <td>0</td>\n",
              "      <td>2</td>\n",
              "      <td>2</td>\n",
              "      <td>2</td>\n",
              "      <td>2</td>\n",
              "      <td>2</td>\n",
              "      <td>2</td>\n",
              "      <td>1</td>\n",
              "      <td>0</td>\n",
              "    </tr>\n",
              "    <tr>\n",
              "      <th>4</th>\n",
              "      <td>47.0</td>\n",
              "      <td>20.55</td>\n",
              "      <td>945.70</td>\n",
              "      <td>0</td>\n",
              "      <td>0</td>\n",
              "      <td>0</td>\n",
              "      <td>0</td>\n",
              "      <td>1</td>\n",
              "      <td>0</td>\n",
              "      <td>2</td>\n",
              "      <td>1</td>\n",
              "      <td>1</td>\n",
              "      <td>1</td>\n",
              "      <td>1</td>\n",
              "      <td>1</td>\n",
              "      <td>1</td>\n",
              "      <td>2</td>\n",
              "      <td>1</td>\n",
              "      <td>4</td>\n",
              "    </tr>\n",
              "  </tbody>\n",
              "</table>\n",
              "</div>"
            ],
            "text/plain": [
              "   tenure  MonthlyCharges  ...  PaperlessBilling_le  PaymentMethod_le\n",
              "0    23.0           20.00  ...                    1                 1\n",
              "1    61.0           99.00  ...                    0                 3\n",
              "2    36.0           84.75  ...                    1                 2\n",
              "3    61.0           61.45  ...                    1                 0\n",
              "4    47.0           20.55  ...                    1                 4\n",
              "\n",
              "[5 rows x 19 columns]"
            ]
          },
          "metadata": {
            "tags": []
          },
          "execution_count": 214
        }
      ]
    },
    {
      "cell_type": "code",
      "metadata": {
        "id": "GLdt4A_SUWX6",
        "outputId": "a93ecbb9-7f2f-41f5-ec09-65979e301571",
        "colab": {
          "base_uri": "https://localhost:8080/"
        }
      },
      "source": [
        "X_teste_2 = X_teste[['SeniorCitizen_le', 'MultipleLines_le','InternetService_le','OnlineSecurity_le',\n",
        "                     'OnlineBackup_le','DeviceProtection_le','TechSupport_le', 'StreamingTV_le','StreamingMovies_le',\n",
        "                     'Contract_le','tenure','PaperlessBilling_le']]\n",
        "X_teste_2.shape"
      ],
      "execution_count": null,
      "outputs": [
        {
          "output_type": "execute_result",
          "data": {
            "text/plain": [
              "(1409, 12)"
            ]
          },
          "metadata": {
            "tags": []
          },
          "execution_count": 216
        }
      ]
    },
    {
      "cell_type": "code",
      "metadata": {
        "id": "137c-B1rTw5Y"
      },
      "source": [
        "y_pred = modelo2.predict(X_teste_2)"
      ],
      "execution_count": null,
      "outputs": []
    },
    {
      "cell_type": "code",
      "metadata": {
        "id": "ZES7a3DjWU11",
        "outputId": "dd278102-76fb-4130-9c9c-79b46efe970c",
        "colab": {
          "base_uri": "https://localhost:8080/"
        }
      },
      "source": [
        "y_pred"
      ],
      "execution_count": null,
      "outputs": [
        {
          "output_type": "execute_result",
          "data": {
            "text/plain": [
              "array([0, 0, 1, ..., 0, 1, 0])"
            ]
          },
          "metadata": {
            "tags": []
          },
          "execution_count": 218
        }
      ]
    },
    {
      "cell_type": "code",
      "metadata": {
        "id": "hNSdBYxAPQGn",
        "outputId": "ccc0bed2-cd39-494d-fcdd-937ec551202b",
        "colab": {
          "base_uri": "https://localhost:8080/"
        }
      },
      "source": [
        "confusion_matrix(y_test, y_pred)"
      ],
      "execution_count": null,
      "outputs": [
        {
          "output_type": "execute_result",
          "data": {
            "text/plain": [
              "array([[579, 155],\n",
              "       [540, 135]])"
            ]
          },
          "metadata": {
            "tags": []
          },
          "execution_count": 221
        }
      ]
    },
    {
      "cell_type": "code",
      "metadata": {
        "id": "FPchmRgPPTJH",
        "outputId": "2c5716f7-62c6-40f5-8110-da911a927e2c",
        "colab": {
          "base_uri": "https://localhost:8080/"
        }
      },
      "source": [
        "acuracia = accuracy_score(y_test, y_pred)\n",
        "acuracia"
      ],
      "execution_count": null,
      "outputs": [
        {
          "output_type": "execute_result",
          "data": {
            "text/plain": [
              "0.5067423704755145"
            ]
          },
          "metadata": {
            "tags": []
          },
          "execution_count": 222
        }
      ]
    },
    {
      "cell_type": "code",
      "metadata": {
        "id": "6cufkhr1Pc-D",
        "outputId": "1539e27d-1301-4c68-d3ff-a3125fad6560",
        "colab": {
          "base_uri": "https://localhost:8080/"
        }
      },
      "source": [
        "print(classification_report(y, modelo2.predict(X)))"
      ],
      "execution_count": null,
      "outputs": [
        {
          "output_type": "stream",
          "text": [
            "              precision    recall  f1-score   support\n",
            "\n",
            "           0       0.83      0.90      0.87      4139\n",
            "           1       0.65      0.50      0.57      1495\n",
            "\n",
            "    accuracy                           0.80      5634\n",
            "   macro avg       0.74      0.70      0.72      5634\n",
            "weighted avg       0.79      0.80      0.79      5634\n",
            "\n"
          ],
          "name": "stdout"
        }
      ]
    },
    {
      "cell_type": "code",
      "metadata": {
        "id": "BCWa38xDXO-W",
        "outputId": "3871f8fe-30ed-46a0-c208-40eb24846816",
        "colab": {
          "base_uri": "https://localhost:8080/"
        }
      },
      "source": [
        "print(classification_report(y_test, y_pred))"
      ],
      "execution_count": null,
      "outputs": [
        {
          "output_type": "stream",
          "text": [
            "              precision    recall  f1-score   support\n",
            "\n",
            "           0       0.52      0.79      0.62       734\n",
            "           1       0.47      0.20      0.28       675\n",
            "\n",
            "    accuracy                           0.51      1409\n",
            "   macro avg       0.49      0.49      0.45      1409\n",
            "weighted avg       0.49      0.51      0.46      1409\n",
            "\n"
          ],
          "name": "stdout"
        }
      ]
    },
    {
      "cell_type": "code",
      "metadata": {
        "id": "eZmkmF8XQCV3"
      },
      "source": [
        "df_submit = pd.DataFrame(y_pred, columns = ['Churn'])"
      ],
      "execution_count": null,
      "outputs": []
    },
    {
      "cell_type": "code",
      "metadata": {
        "id": "jH2MAa8vX6P7",
        "outputId": "b0752cd9-98da-45cf-b4c4-9c5b8b3ed186",
        "colab": {
          "base_uri": "https://localhost:8080/"
        }
      },
      "source": [
        "df_submit.value_counts()"
      ],
      "execution_count": null,
      "outputs": [
        {
          "output_type": "execute_result",
          "data": {
            "text/plain": [
              "Churn\n",
              "0        1119\n",
              "1         290\n",
              "dtype: int64"
            ]
          },
          "metadata": {
            "tags": []
          },
          "execution_count": 230
        }
      ]
    },
    {
      "cell_type": "code",
      "metadata": {
        "id": "jFQql74rY1oa",
        "outputId": "83c96b0b-094f-4aea-9395-4093807a23d9",
        "colab": {
          "base_uri": "https://localhost:8080/"
        }
      },
      "source": [
        "y_test.value_counts()"
      ],
      "execution_count": null,
      "outputs": [
        {
          "output_type": "execute_result",
          "data": {
            "text/plain": [
              "0    734\n",
              "1    675\n",
              "Name: Churn, dtype: int64"
            ]
          },
          "metadata": {
            "tags": []
          },
          "execution_count": 234
        }
      ]
    },
    {
      "cell_type": "code",
      "metadata": {
        "id": "Qm1DDR-ZYyoS"
      },
      "source": [
        ""
      ],
      "execution_count": null,
      "outputs": []
    },
    {
      "cell_type": "code",
      "metadata": {
        "id": "LQjBMPTTP1kJ"
      },
      "source": [
        "plot_roc_curve(y, y_pred)"
      ],
      "execution_count": null,
      "outputs": []
    },
    {
      "cell_type": "code",
      "metadata": {
        "id": "fmZVS0cDP6sK"
      },
      "source": [
        ""
      ],
      "execution_count": null,
      "outputs": []
    },
    {
      "cell_type": "code",
      "metadata": {
        "id": "_dtRENammrKd"
      },
      "source": [
        "from sklearn.preprocessing import MinMaxScaler, RobustScaler\n",
        "mms = MinMaxScaler()\n",
        "rs = RobustScaler()"
      ],
      "execution_count": null,
      "outputs": []
    },
    {
      "cell_type": "code",
      "metadata": {
        "id": "yHF4T7ijm8_N"
      },
      "source": [
        "df_X_train_1_2.columns"
      ],
      "execution_count": null,
      "outputs": []
    },
    {
      "cell_type": "code",
      "metadata": {
        "id": "Pv91i7dXnAOn"
      },
      "source": [
        "# fit\n",
        "df_X_train_1_2_mms = pd.DataFrame(mms.fit_transform(df_X_train_1_2[['tenure']]), columns = ['tenure_mms'])\n",
        "df_X_train_1_2_rs = pd.DataFrame(rs.fit_transform(df_X_train_1_2[['tenure']]), columns = ['tenure_rs'])\n",
        "\n",
        "df_X_train_1_2['tenure_mms'] = df_X_train_1_2_mms['tenure_mms']\n",
        "df_X_train_1_2['tenure_rs']= df_X_train_1_2_rs['tenure_rs']\n",
        "\n",
        "df_X_train_1_2.head()"
      ],
      "execution_count": null,
      "outputs": []
    },
    {
      "cell_type": "code",
      "metadata": {
        "id": "s1uRcpX6EKFf"
      },
      "source": [
        "df_X_train_1_2.describe()"
      ],
      "execution_count": null,
      "outputs": []
    },
    {
      "cell_type": "code",
      "metadata": {
        "id": "WMDXnd8YDljF",
        "outputId": "de91f7de-1985-4694-d776-9cb0629c218e",
        "colab": {
          "base_uri": "https://localhost:8080/"
        }
      },
      "source": [
        "df_X_train_1.shape"
      ],
      "execution_count": null,
      "outputs": [
        {
          "output_type": "execute_result",
          "data": {
            "text/plain": [
              "(5634, 23)"
            ]
          },
          "metadata": {
            "tags": []
          },
          "execution_count": 243
        }
      ]
    },
    {
      "cell_type": "code",
      "metadata": {
        "id": "zuhadwDrjY2m",
        "outputId": "0d9fb5be-8595-41a0-df65-35e8926520f1",
        "colab": {
          "base_uri": "https://localhost:8080/"
        }
      },
      "source": [
        "X.shape"
      ],
      "execution_count": null,
      "outputs": [
        {
          "output_type": "execute_result",
          "data": {
            "text/plain": [
              "(5634, 12)"
            ]
          },
          "metadata": {
            "tags": []
          },
          "execution_count": 244
        }
      ]
    },
    {
      "cell_type": "code",
      "metadata": {
        "id": "XX2GNYWue-iA",
        "outputId": "f74e6681-eece-4766-a406-cf7d071c4dbe",
        "colab": {
          "base_uri": "https://localhost:8080/"
        }
      },
      "source": [
        "from sklearn.linear_model import LogisticRegression\n",
        "from sklearn import metrics\n",
        "logreg = LogisticRegression()\n",
        "logreg.fit(df_X_train_1, y)"
      ],
      "execution_count": null,
      "outputs": [
        {
          "output_type": "stream",
          "text": [
            "/usr/local/lib/python3.6/dist-packages/sklearn/linear_model/_logistic.py:940: ConvergenceWarning: lbfgs failed to converge (status=1):\n",
            "STOP: TOTAL NO. of ITERATIONS REACHED LIMIT.\n",
            "\n",
            "Increase the number of iterations (max_iter) or scale the data as shown in:\n",
            "    https://scikit-learn.org/stable/modules/preprocessing.html\n",
            "Please also refer to the documentation for alternative solver options:\n",
            "    https://scikit-learn.org/stable/modules/linear_model.html#logistic-regression\n",
            "  extra_warning_msg=_LOGISTIC_SOLVER_CONVERGENCE_MSG)\n"
          ],
          "name": "stderr"
        },
        {
          "output_type": "execute_result",
          "data": {
            "text/plain": [
              "LogisticRegression(C=1.0, class_weight=None, dual=False, fit_intercept=True,\n",
              "                   intercept_scaling=1, l1_ratio=None, max_iter=100,\n",
              "                   multi_class='auto', n_jobs=None, penalty='l2',\n",
              "                   random_state=None, solver='lbfgs', tol=0.0001, verbose=0,\n",
              "                   warm_start=False)"
            ]
          },
          "metadata": {
            "tags": []
          },
          "execution_count": 241
        }
      ]
    },
    {
      "cell_type": "code",
      "metadata": {
        "id": "TZ477iH0h11k"
      },
      "source": [
        "y_pred_2 = logreg.predict(X_teste_2)"
      ],
      "execution_count": null,
      "outputs": []
    },
    {
      "cell_type": "code",
      "metadata": {
        "id": "9lzlUdJDieVW",
        "outputId": "28bc812b-fc23-4048-9a3f-76c506783595",
        "colab": {
          "base_uri": "https://localhost:8080/"
        }
      },
      "source": [
        "print('Accuracy of logistic regression classifier on test set: {:.2f}'.format(logreg.score(X_teste_2, y_pred_2)))"
      ],
      "execution_count": null,
      "outputs": [
        {
          "output_type": "stream",
          "text": [
            "Accuracy of logistic regression classifier on test set: 1.00\n"
          ],
          "name": "stdout"
        }
      ]
    },
    {
      "cell_type": "code",
      "metadata": {
        "id": "s2ab89wcjp1H",
        "outputId": "86fb0417-8361-4493-a79f-1f1cd59d8fc5",
        "colab": {
          "base_uri": "https://localhost:8080/"
        }
      },
      "source": [
        "from sklearn import model_selection\n",
        "from sklearn.model_selection import cross_val_score\n",
        "kfold = model_selection.KFold(n_splits=10, random_state=0)\n",
        "modelCV = LogisticRegression()\n",
        "scoring = 'accuracy'\n",
        "results = model_selection.cross_val_score(modelCV, df_X_train_1, y, cv=kfold, scoring=scoring)\n",
        "print(\"10-fold cross validation average accuracy: %.3f\" % (results.mean()))"
      ],
      "execution_count": null,
      "outputs": [
        {
          "output_type": "stream",
          "text": [
            "/usr/local/lib/python3.6/dist-packages/sklearn/model_selection/_split.py:296: FutureWarning: Setting a random_state has no effect since shuffle is False. This will raise an error in 0.24. You should leave random_state to its default (None), or set shuffle=True.\n",
            "  FutureWarning\n",
            "/usr/local/lib/python3.6/dist-packages/sklearn/linear_model/_logistic.py:940: ConvergenceWarning: lbfgs failed to converge (status=1):\n",
            "STOP: TOTAL NO. of ITERATIONS REACHED LIMIT.\n",
            "\n",
            "Increase the number of iterations (max_iter) or scale the data as shown in:\n",
            "    https://scikit-learn.org/stable/modules/preprocessing.html\n",
            "Please also refer to the documentation for alternative solver options:\n",
            "    https://scikit-learn.org/stable/modules/linear_model.html#logistic-regression\n",
            "  extra_warning_msg=_LOGISTIC_SOLVER_CONVERGENCE_MSG)\n",
            "/usr/local/lib/python3.6/dist-packages/sklearn/linear_model/_logistic.py:940: ConvergenceWarning: lbfgs failed to converge (status=1):\n",
            "STOP: TOTAL NO. of ITERATIONS REACHED LIMIT.\n",
            "\n",
            "Increase the number of iterations (max_iter) or scale the data as shown in:\n",
            "    https://scikit-learn.org/stable/modules/preprocessing.html\n",
            "Please also refer to the documentation for alternative solver options:\n",
            "    https://scikit-learn.org/stable/modules/linear_model.html#logistic-regression\n",
            "  extra_warning_msg=_LOGISTIC_SOLVER_CONVERGENCE_MSG)\n",
            "/usr/local/lib/python3.6/dist-packages/sklearn/linear_model/_logistic.py:940: ConvergenceWarning: lbfgs failed to converge (status=1):\n",
            "STOP: TOTAL NO. of ITERATIONS REACHED LIMIT.\n",
            "\n",
            "Increase the number of iterations (max_iter) or scale the data as shown in:\n",
            "    https://scikit-learn.org/stable/modules/preprocessing.html\n",
            "Please also refer to the documentation for alternative solver options:\n",
            "    https://scikit-learn.org/stable/modules/linear_model.html#logistic-regression\n",
            "  extra_warning_msg=_LOGISTIC_SOLVER_CONVERGENCE_MSG)\n",
            "/usr/local/lib/python3.6/dist-packages/sklearn/linear_model/_logistic.py:940: ConvergenceWarning: lbfgs failed to converge (status=1):\n",
            "STOP: TOTAL NO. of ITERATIONS REACHED LIMIT.\n",
            "\n",
            "Increase the number of iterations (max_iter) or scale the data as shown in:\n",
            "    https://scikit-learn.org/stable/modules/preprocessing.html\n",
            "Please also refer to the documentation for alternative solver options:\n",
            "    https://scikit-learn.org/stable/modules/linear_model.html#logistic-regression\n",
            "  extra_warning_msg=_LOGISTIC_SOLVER_CONVERGENCE_MSG)\n",
            "/usr/local/lib/python3.6/dist-packages/sklearn/linear_model/_logistic.py:940: ConvergenceWarning: lbfgs failed to converge (status=1):\n",
            "STOP: TOTAL NO. of ITERATIONS REACHED LIMIT.\n",
            "\n",
            "Increase the number of iterations (max_iter) or scale the data as shown in:\n",
            "    https://scikit-learn.org/stable/modules/preprocessing.html\n",
            "Please also refer to the documentation for alternative solver options:\n",
            "    https://scikit-learn.org/stable/modules/linear_model.html#logistic-regression\n",
            "  extra_warning_msg=_LOGISTIC_SOLVER_CONVERGENCE_MSG)\n",
            "/usr/local/lib/python3.6/dist-packages/sklearn/linear_model/_logistic.py:940: ConvergenceWarning: lbfgs failed to converge (status=1):\n",
            "STOP: TOTAL NO. of ITERATIONS REACHED LIMIT.\n",
            "\n",
            "Increase the number of iterations (max_iter) or scale the data as shown in:\n",
            "    https://scikit-learn.org/stable/modules/preprocessing.html\n",
            "Please also refer to the documentation for alternative solver options:\n",
            "    https://scikit-learn.org/stable/modules/linear_model.html#logistic-regression\n",
            "  extra_warning_msg=_LOGISTIC_SOLVER_CONVERGENCE_MSG)\n",
            "/usr/local/lib/python3.6/dist-packages/sklearn/linear_model/_logistic.py:940: ConvergenceWarning: lbfgs failed to converge (status=1):\n",
            "STOP: TOTAL NO. of ITERATIONS REACHED LIMIT.\n",
            "\n",
            "Increase the number of iterations (max_iter) or scale the data as shown in:\n",
            "    https://scikit-learn.org/stable/modules/preprocessing.html\n",
            "Please also refer to the documentation for alternative solver options:\n",
            "    https://scikit-learn.org/stable/modules/linear_model.html#logistic-regression\n",
            "  extra_warning_msg=_LOGISTIC_SOLVER_CONVERGENCE_MSG)\n",
            "/usr/local/lib/python3.6/dist-packages/sklearn/linear_model/_logistic.py:940: ConvergenceWarning: lbfgs failed to converge (status=1):\n",
            "STOP: TOTAL NO. of ITERATIONS REACHED LIMIT.\n",
            "\n",
            "Increase the number of iterations (max_iter) or scale the data as shown in:\n",
            "    https://scikit-learn.org/stable/modules/preprocessing.html\n",
            "Please also refer to the documentation for alternative solver options:\n",
            "    https://scikit-learn.org/stable/modules/linear_model.html#logistic-regression\n",
            "  extra_warning_msg=_LOGISTIC_SOLVER_CONVERGENCE_MSG)\n",
            "/usr/local/lib/python3.6/dist-packages/sklearn/linear_model/_logistic.py:940: ConvergenceWarning: lbfgs failed to converge (status=1):\n",
            "STOP: TOTAL NO. of ITERATIONS REACHED LIMIT.\n",
            "\n",
            "Increase the number of iterations (max_iter) or scale the data as shown in:\n",
            "    https://scikit-learn.org/stable/modules/preprocessing.html\n",
            "Please also refer to the documentation for alternative solver options:\n",
            "    https://scikit-learn.org/stable/modules/linear_model.html#logistic-regression\n",
            "  extra_warning_msg=_LOGISTIC_SOLVER_CONVERGENCE_MSG)\n"
          ],
          "name": "stderr"
        },
        {
          "output_type": "stream",
          "text": [
            "10-fold cross validation average accuracy: 0.979\n"
          ],
          "name": "stdout"
        },
        {
          "output_type": "stream",
          "text": [
            "/usr/local/lib/python3.6/dist-packages/sklearn/linear_model/_logistic.py:940: ConvergenceWarning: lbfgs failed to converge (status=1):\n",
            "STOP: TOTAL NO. of ITERATIONS REACHED LIMIT.\n",
            "\n",
            "Increase the number of iterations (max_iter) or scale the data as shown in:\n",
            "    https://scikit-learn.org/stable/modules/preprocessing.html\n",
            "Please also refer to the documentation for alternative solver options:\n",
            "    https://scikit-learn.org/stable/modules/linear_model.html#logistic-regression\n",
            "  extra_warning_msg=_LOGISTIC_SOLVER_CONVERGENCE_MSG)\n"
          ],
          "name": "stderr"
        }
      ]
    }
  ]
}