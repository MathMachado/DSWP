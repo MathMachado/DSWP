{
  "nbformat": 4,
  "nbformat_minor": 0,
  "metadata": {
    "colab": {
      "name": "Untitled2.ipynb",
      "provenance": [],
      "authorship_tag": "ABX9TyOH+7n3o6OPkwy4qkBYMGBE",
      "include_colab_link": true
    },
    "kernelspec": {
      "name": "python3",
      "display_name": "Python 3"
    }
  },
  "cells": [
    {
      "cell_type": "markdown",
      "metadata": {
        "id": "view-in-github",
        "colab_type": "text"
      },
      "source": [
        "<a href=\"https://colab.research.google.com/github/cryssoga/DSWP/blob/master/Li%C3%A7%C3%A3o/NB10_01_Pandas_Exerc%C3%ADcio_FIFA_2.ipynb\" target=\"_parent\"><img src=\"https://colab.research.google.com/assets/colab-badge.svg\" alt=\"Open In Colab\"/></a>"
      ]
    },
    {
      "cell_type": "code",
      "metadata": {
        "id": "frR1Pv_nc0vB"
      },
      "source": [
        ""
      ],
      "execution_count": null,
      "outputs": []
    },
    {
      "cell_type": "code",
      "metadata": {
        "id": "IkkNGanucMEp"
      },
      "source": [
        "import pandas as pd\n",
        "import numpy as np\n",
        "import matplotlib.pyplot as plt\n",
        "%matplotlib inline"
      ],
      "execution_count": null,
      "outputs": []
    },
    {
      "cell_type": "code",
      "metadata": {
        "id": "fOSIqp26Zdtd"
      },
      "source": [
        "url = 'https://raw.githubusercontent.com/cryssoga/DSWP/master/Dataframes/FIFA.csv'\n",
        "df_Fifa = pd.read_csv(url)"
      ],
      "execution_count": null,
      "outputs": []
    },
    {
      "cell_type": "code",
      "metadata": {
        "id": "m8X611bnbmvI",
        "outputId": "96ecb57d-5eea-465b-f115-1a31b8ab3217",
        "colab": {
          "base_uri": "https://localhost:8080/",
          "height": 389
        }
      },
      "source": [
        "df_Fifa.head()"
      ],
      "execution_count": null,
      "outputs": [
        {
          "output_type": "execute_result",
          "data": {
            "text/html": [
              "<div>\n",
              "<style scoped>\n",
              "    .dataframe tbody tr th:only-of-type {\n",
              "        vertical-align: middle;\n",
              "    }\n",
              "\n",
              "    .dataframe tbody tr th {\n",
              "        vertical-align: top;\n",
              "    }\n",
              "\n",
              "    .dataframe thead th {\n",
              "        text-align: right;\n",
              "    }\n",
              "</style>\n",
              "<table border=\"1\" class=\"dataframe\">\n",
              "  <thead>\n",
              "    <tr style=\"text-align: right;\">\n",
              "      <th></th>\n",
              "      <th>Unnamed: 0</th>\n",
              "      <th>ID</th>\n",
              "      <th>Name</th>\n",
              "      <th>Age</th>\n",
              "      <th>Photo</th>\n",
              "      <th>Nationality</th>\n",
              "      <th>Flag</th>\n",
              "      <th>Overall</th>\n",
              "      <th>Potential</th>\n",
              "      <th>Club</th>\n",
              "      <th>Club Logo</th>\n",
              "      <th>Value</th>\n",
              "      <th>Wage</th>\n",
              "      <th>Special</th>\n",
              "      <th>Preferred Foot</th>\n",
              "      <th>International Reputation</th>\n",
              "      <th>Weak Foot</th>\n",
              "      <th>Skill Moves</th>\n",
              "      <th>Work Rate</th>\n",
              "      <th>Body Type</th>\n",
              "      <th>Real Face</th>\n",
              "      <th>Position</th>\n",
              "      <th>Jersey Number</th>\n",
              "      <th>Joined</th>\n",
              "      <th>Loaned From</th>\n",
              "      <th>Contract Valid Until</th>\n",
              "      <th>Height</th>\n",
              "      <th>Weight</th>\n",
              "      <th>LS</th>\n",
              "      <th>ST</th>\n",
              "      <th>RS</th>\n",
              "      <th>LW</th>\n",
              "      <th>LF</th>\n",
              "      <th>CF</th>\n",
              "      <th>RF</th>\n",
              "      <th>RW</th>\n",
              "      <th>LAM</th>\n",
              "      <th>CAM</th>\n",
              "      <th>RAM</th>\n",
              "      <th>LM</th>\n",
              "      <th>...</th>\n",
              "      <th>LB</th>\n",
              "      <th>LCB</th>\n",
              "      <th>CB</th>\n",
              "      <th>RCB</th>\n",
              "      <th>RB</th>\n",
              "      <th>Crossing</th>\n",
              "      <th>Finishing</th>\n",
              "      <th>HeadingAccuracy</th>\n",
              "      <th>ShortPassing</th>\n",
              "      <th>Volleys</th>\n",
              "      <th>Dribbling</th>\n",
              "      <th>Curve</th>\n",
              "      <th>FKAccuracy</th>\n",
              "      <th>LongPassing</th>\n",
              "      <th>BallControl</th>\n",
              "      <th>Acceleration</th>\n",
              "      <th>SprintSpeed</th>\n",
              "      <th>Agility</th>\n",
              "      <th>Reactions</th>\n",
              "      <th>Balance</th>\n",
              "      <th>ShotPower</th>\n",
              "      <th>Jumping</th>\n",
              "      <th>Stamina</th>\n",
              "      <th>Strength</th>\n",
              "      <th>LongShots</th>\n",
              "      <th>Aggression</th>\n",
              "      <th>Interceptions</th>\n",
              "      <th>Positioning</th>\n",
              "      <th>Vision</th>\n",
              "      <th>Penalties</th>\n",
              "      <th>Composure</th>\n",
              "      <th>Marking</th>\n",
              "      <th>StandingTackle</th>\n",
              "      <th>SlidingTackle</th>\n",
              "      <th>GKDiving</th>\n",
              "      <th>GKHandling</th>\n",
              "      <th>GKKicking</th>\n",
              "      <th>GKPositioning</th>\n",
              "      <th>GKReflexes</th>\n",
              "      <th>Release Clause</th>\n",
              "    </tr>\n",
              "  </thead>\n",
              "  <tbody>\n",
              "    <tr>\n",
              "      <th>0</th>\n",
              "      <td>0</td>\n",
              "      <td>158023</td>\n",
              "      <td>L. Messi</td>\n",
              "      <td>31</td>\n",
              "      <td>https://cdn.sofifa.org/players/4/19/158023.png</td>\n",
              "      <td>Argentina</td>\n",
              "      <td>https://cdn.sofifa.org/flags/52.png</td>\n",
              "      <td>94</td>\n",
              "      <td>94</td>\n",
              "      <td>FC Barcelona</td>\n",
              "      <td>https://cdn.sofifa.org/teams/2/light/241.png</td>\n",
              "      <td>€110.5M</td>\n",
              "      <td>€565K</td>\n",
              "      <td>2202</td>\n",
              "      <td>Left</td>\n",
              "      <td>5.0</td>\n",
              "      <td>4.0</td>\n",
              "      <td>4.0</td>\n",
              "      <td>Medium/ Medium</td>\n",
              "      <td>Messi</td>\n",
              "      <td>Yes</td>\n",
              "      <td>RF</td>\n",
              "      <td>10.0</td>\n",
              "      <td>Jul 1, 2004</td>\n",
              "      <td>NaN</td>\n",
              "      <td>2021</td>\n",
              "      <td>5'7</td>\n",
              "      <td>159lbs</td>\n",
              "      <td>88+2</td>\n",
              "      <td>88+2</td>\n",
              "      <td>88+2</td>\n",
              "      <td>92+2</td>\n",
              "      <td>93+2</td>\n",
              "      <td>93+2</td>\n",
              "      <td>93+2</td>\n",
              "      <td>92+2</td>\n",
              "      <td>93+2</td>\n",
              "      <td>93+2</td>\n",
              "      <td>93+2</td>\n",
              "      <td>91+2</td>\n",
              "      <td>...</td>\n",
              "      <td>59+2</td>\n",
              "      <td>47+2</td>\n",
              "      <td>47+2</td>\n",
              "      <td>47+2</td>\n",
              "      <td>59+2</td>\n",
              "      <td>84.0</td>\n",
              "      <td>95.0</td>\n",
              "      <td>70.0</td>\n",
              "      <td>90.0</td>\n",
              "      <td>86.0</td>\n",
              "      <td>97.0</td>\n",
              "      <td>93.0</td>\n",
              "      <td>94.0</td>\n",
              "      <td>87.0</td>\n",
              "      <td>96.0</td>\n",
              "      <td>91.0</td>\n",
              "      <td>86.0</td>\n",
              "      <td>91.0</td>\n",
              "      <td>95.0</td>\n",
              "      <td>95.0</td>\n",
              "      <td>85.0</td>\n",
              "      <td>68.0</td>\n",
              "      <td>72.0</td>\n",
              "      <td>59.0</td>\n",
              "      <td>94.0</td>\n",
              "      <td>48.0</td>\n",
              "      <td>22.0</td>\n",
              "      <td>94.0</td>\n",
              "      <td>94.0</td>\n",
              "      <td>75.0</td>\n",
              "      <td>96.0</td>\n",
              "      <td>33.0</td>\n",
              "      <td>28.0</td>\n",
              "      <td>26.0</td>\n",
              "      <td>6.0</td>\n",
              "      <td>11.0</td>\n",
              "      <td>15.0</td>\n",
              "      <td>14.0</td>\n",
              "      <td>8.0</td>\n",
              "      <td>€226.5M</td>\n",
              "    </tr>\n",
              "    <tr>\n",
              "      <th>1</th>\n",
              "      <td>1</td>\n",
              "      <td>20801</td>\n",
              "      <td>Cristiano Ronaldo</td>\n",
              "      <td>33</td>\n",
              "      <td>https://cdn.sofifa.org/players/4/19/20801.png</td>\n",
              "      <td>Portugal</td>\n",
              "      <td>https://cdn.sofifa.org/flags/38.png</td>\n",
              "      <td>94</td>\n",
              "      <td>94</td>\n",
              "      <td>Juventus</td>\n",
              "      <td>https://cdn.sofifa.org/teams/2/light/45.png</td>\n",
              "      <td>€77M</td>\n",
              "      <td>€405K</td>\n",
              "      <td>2228</td>\n",
              "      <td>Right</td>\n",
              "      <td>5.0</td>\n",
              "      <td>4.0</td>\n",
              "      <td>5.0</td>\n",
              "      <td>High/ Low</td>\n",
              "      <td>C. Ronaldo</td>\n",
              "      <td>Yes</td>\n",
              "      <td>ST</td>\n",
              "      <td>7.0</td>\n",
              "      <td>Jul 10, 2018</td>\n",
              "      <td>NaN</td>\n",
              "      <td>2022</td>\n",
              "      <td>6'2</td>\n",
              "      <td>183lbs</td>\n",
              "      <td>91+3</td>\n",
              "      <td>91+3</td>\n",
              "      <td>91+3</td>\n",
              "      <td>89+3</td>\n",
              "      <td>90+3</td>\n",
              "      <td>90+3</td>\n",
              "      <td>90+3</td>\n",
              "      <td>89+3</td>\n",
              "      <td>88+3</td>\n",
              "      <td>88+3</td>\n",
              "      <td>88+3</td>\n",
              "      <td>88+3</td>\n",
              "      <td>...</td>\n",
              "      <td>61+3</td>\n",
              "      <td>53+3</td>\n",
              "      <td>53+3</td>\n",
              "      <td>53+3</td>\n",
              "      <td>61+3</td>\n",
              "      <td>84.0</td>\n",
              "      <td>94.0</td>\n",
              "      <td>89.0</td>\n",
              "      <td>81.0</td>\n",
              "      <td>87.0</td>\n",
              "      <td>88.0</td>\n",
              "      <td>81.0</td>\n",
              "      <td>76.0</td>\n",
              "      <td>77.0</td>\n",
              "      <td>94.0</td>\n",
              "      <td>89.0</td>\n",
              "      <td>91.0</td>\n",
              "      <td>87.0</td>\n",
              "      <td>96.0</td>\n",
              "      <td>70.0</td>\n",
              "      <td>95.0</td>\n",
              "      <td>95.0</td>\n",
              "      <td>88.0</td>\n",
              "      <td>79.0</td>\n",
              "      <td>93.0</td>\n",
              "      <td>63.0</td>\n",
              "      <td>29.0</td>\n",
              "      <td>95.0</td>\n",
              "      <td>82.0</td>\n",
              "      <td>85.0</td>\n",
              "      <td>95.0</td>\n",
              "      <td>28.0</td>\n",
              "      <td>31.0</td>\n",
              "      <td>23.0</td>\n",
              "      <td>7.0</td>\n",
              "      <td>11.0</td>\n",
              "      <td>15.0</td>\n",
              "      <td>14.0</td>\n",
              "      <td>11.0</td>\n",
              "      <td>€127.1M</td>\n",
              "    </tr>\n",
              "    <tr>\n",
              "      <th>2</th>\n",
              "      <td>2</td>\n",
              "      <td>190871</td>\n",
              "      <td>Neymar Jr</td>\n",
              "      <td>26</td>\n",
              "      <td>https://cdn.sofifa.org/players/4/19/190871.png</td>\n",
              "      <td>Brazil</td>\n",
              "      <td>https://cdn.sofifa.org/flags/54.png</td>\n",
              "      <td>92</td>\n",
              "      <td>93</td>\n",
              "      <td>Paris Saint-Germain</td>\n",
              "      <td>https://cdn.sofifa.org/teams/2/light/73.png</td>\n",
              "      <td>€118.5M</td>\n",
              "      <td>€290K</td>\n",
              "      <td>2143</td>\n",
              "      <td>Right</td>\n",
              "      <td>5.0</td>\n",
              "      <td>5.0</td>\n",
              "      <td>5.0</td>\n",
              "      <td>High/ Medium</td>\n",
              "      <td>Neymar</td>\n",
              "      <td>Yes</td>\n",
              "      <td>LW</td>\n",
              "      <td>10.0</td>\n",
              "      <td>Aug 3, 2017</td>\n",
              "      <td>NaN</td>\n",
              "      <td>2022</td>\n",
              "      <td>5'9</td>\n",
              "      <td>150lbs</td>\n",
              "      <td>84+3</td>\n",
              "      <td>84+3</td>\n",
              "      <td>84+3</td>\n",
              "      <td>89+3</td>\n",
              "      <td>89+3</td>\n",
              "      <td>89+3</td>\n",
              "      <td>89+3</td>\n",
              "      <td>89+3</td>\n",
              "      <td>89+3</td>\n",
              "      <td>89+3</td>\n",
              "      <td>89+3</td>\n",
              "      <td>88+3</td>\n",
              "      <td>...</td>\n",
              "      <td>60+3</td>\n",
              "      <td>47+3</td>\n",
              "      <td>47+3</td>\n",
              "      <td>47+3</td>\n",
              "      <td>60+3</td>\n",
              "      <td>79.0</td>\n",
              "      <td>87.0</td>\n",
              "      <td>62.0</td>\n",
              "      <td>84.0</td>\n",
              "      <td>84.0</td>\n",
              "      <td>96.0</td>\n",
              "      <td>88.0</td>\n",
              "      <td>87.0</td>\n",
              "      <td>78.0</td>\n",
              "      <td>95.0</td>\n",
              "      <td>94.0</td>\n",
              "      <td>90.0</td>\n",
              "      <td>96.0</td>\n",
              "      <td>94.0</td>\n",
              "      <td>84.0</td>\n",
              "      <td>80.0</td>\n",
              "      <td>61.0</td>\n",
              "      <td>81.0</td>\n",
              "      <td>49.0</td>\n",
              "      <td>82.0</td>\n",
              "      <td>56.0</td>\n",
              "      <td>36.0</td>\n",
              "      <td>89.0</td>\n",
              "      <td>87.0</td>\n",
              "      <td>81.0</td>\n",
              "      <td>94.0</td>\n",
              "      <td>27.0</td>\n",
              "      <td>24.0</td>\n",
              "      <td>33.0</td>\n",
              "      <td>9.0</td>\n",
              "      <td>9.0</td>\n",
              "      <td>15.0</td>\n",
              "      <td>15.0</td>\n",
              "      <td>11.0</td>\n",
              "      <td>€228.1M</td>\n",
              "    </tr>\n",
              "    <tr>\n",
              "      <th>3</th>\n",
              "      <td>3</td>\n",
              "      <td>193080</td>\n",
              "      <td>De Gea</td>\n",
              "      <td>27</td>\n",
              "      <td>https://cdn.sofifa.org/players/4/19/193080.png</td>\n",
              "      <td>Spain</td>\n",
              "      <td>https://cdn.sofifa.org/flags/45.png</td>\n",
              "      <td>91</td>\n",
              "      <td>93</td>\n",
              "      <td>Manchester United</td>\n",
              "      <td>https://cdn.sofifa.org/teams/2/light/11.png</td>\n",
              "      <td>€72M</td>\n",
              "      <td>€260K</td>\n",
              "      <td>1471</td>\n",
              "      <td>Right</td>\n",
              "      <td>4.0</td>\n",
              "      <td>3.0</td>\n",
              "      <td>1.0</td>\n",
              "      <td>Medium/ Medium</td>\n",
              "      <td>Lean</td>\n",
              "      <td>Yes</td>\n",
              "      <td>GK</td>\n",
              "      <td>1.0</td>\n",
              "      <td>Jul 1, 2011</td>\n",
              "      <td>NaN</td>\n",
              "      <td>2020</td>\n",
              "      <td>6'4</td>\n",
              "      <td>168lbs</td>\n",
              "      <td>NaN</td>\n",
              "      <td>NaN</td>\n",
              "      <td>NaN</td>\n",
              "      <td>NaN</td>\n",
              "      <td>NaN</td>\n",
              "      <td>NaN</td>\n",
              "      <td>NaN</td>\n",
              "      <td>NaN</td>\n",
              "      <td>NaN</td>\n",
              "      <td>NaN</td>\n",
              "      <td>NaN</td>\n",
              "      <td>NaN</td>\n",
              "      <td>...</td>\n",
              "      <td>NaN</td>\n",
              "      <td>NaN</td>\n",
              "      <td>NaN</td>\n",
              "      <td>NaN</td>\n",
              "      <td>NaN</td>\n",
              "      <td>17.0</td>\n",
              "      <td>13.0</td>\n",
              "      <td>21.0</td>\n",
              "      <td>50.0</td>\n",
              "      <td>13.0</td>\n",
              "      <td>18.0</td>\n",
              "      <td>21.0</td>\n",
              "      <td>19.0</td>\n",
              "      <td>51.0</td>\n",
              "      <td>42.0</td>\n",
              "      <td>57.0</td>\n",
              "      <td>58.0</td>\n",
              "      <td>60.0</td>\n",
              "      <td>90.0</td>\n",
              "      <td>43.0</td>\n",
              "      <td>31.0</td>\n",
              "      <td>67.0</td>\n",
              "      <td>43.0</td>\n",
              "      <td>64.0</td>\n",
              "      <td>12.0</td>\n",
              "      <td>38.0</td>\n",
              "      <td>30.0</td>\n",
              "      <td>12.0</td>\n",
              "      <td>68.0</td>\n",
              "      <td>40.0</td>\n",
              "      <td>68.0</td>\n",
              "      <td>15.0</td>\n",
              "      <td>21.0</td>\n",
              "      <td>13.0</td>\n",
              "      <td>90.0</td>\n",
              "      <td>85.0</td>\n",
              "      <td>87.0</td>\n",
              "      <td>88.0</td>\n",
              "      <td>94.0</td>\n",
              "      <td>€138.6M</td>\n",
              "    </tr>\n",
              "    <tr>\n",
              "      <th>4</th>\n",
              "      <td>4</td>\n",
              "      <td>192985</td>\n",
              "      <td>K. De Bruyne</td>\n",
              "      <td>27</td>\n",
              "      <td>https://cdn.sofifa.org/players/4/19/192985.png</td>\n",
              "      <td>Belgium</td>\n",
              "      <td>https://cdn.sofifa.org/flags/7.png</td>\n",
              "      <td>91</td>\n",
              "      <td>92</td>\n",
              "      <td>Manchester City</td>\n",
              "      <td>https://cdn.sofifa.org/teams/2/light/10.png</td>\n",
              "      <td>€102M</td>\n",
              "      <td>€355K</td>\n",
              "      <td>2281</td>\n",
              "      <td>Right</td>\n",
              "      <td>4.0</td>\n",
              "      <td>5.0</td>\n",
              "      <td>4.0</td>\n",
              "      <td>High/ High</td>\n",
              "      <td>Normal</td>\n",
              "      <td>Yes</td>\n",
              "      <td>RCM</td>\n",
              "      <td>7.0</td>\n",
              "      <td>Aug 30, 2015</td>\n",
              "      <td>NaN</td>\n",
              "      <td>2023</td>\n",
              "      <td>5'11</td>\n",
              "      <td>154lbs</td>\n",
              "      <td>82+3</td>\n",
              "      <td>82+3</td>\n",
              "      <td>82+3</td>\n",
              "      <td>87+3</td>\n",
              "      <td>87+3</td>\n",
              "      <td>87+3</td>\n",
              "      <td>87+3</td>\n",
              "      <td>87+3</td>\n",
              "      <td>88+3</td>\n",
              "      <td>88+3</td>\n",
              "      <td>88+3</td>\n",
              "      <td>88+3</td>\n",
              "      <td>...</td>\n",
              "      <td>73+3</td>\n",
              "      <td>66+3</td>\n",
              "      <td>66+3</td>\n",
              "      <td>66+3</td>\n",
              "      <td>73+3</td>\n",
              "      <td>93.0</td>\n",
              "      <td>82.0</td>\n",
              "      <td>55.0</td>\n",
              "      <td>92.0</td>\n",
              "      <td>82.0</td>\n",
              "      <td>86.0</td>\n",
              "      <td>85.0</td>\n",
              "      <td>83.0</td>\n",
              "      <td>91.0</td>\n",
              "      <td>91.0</td>\n",
              "      <td>78.0</td>\n",
              "      <td>76.0</td>\n",
              "      <td>79.0</td>\n",
              "      <td>91.0</td>\n",
              "      <td>77.0</td>\n",
              "      <td>91.0</td>\n",
              "      <td>63.0</td>\n",
              "      <td>90.0</td>\n",
              "      <td>75.0</td>\n",
              "      <td>91.0</td>\n",
              "      <td>76.0</td>\n",
              "      <td>61.0</td>\n",
              "      <td>87.0</td>\n",
              "      <td>94.0</td>\n",
              "      <td>79.0</td>\n",
              "      <td>88.0</td>\n",
              "      <td>68.0</td>\n",
              "      <td>58.0</td>\n",
              "      <td>51.0</td>\n",
              "      <td>15.0</td>\n",
              "      <td>13.0</td>\n",
              "      <td>5.0</td>\n",
              "      <td>10.0</td>\n",
              "      <td>13.0</td>\n",
              "      <td>€196.4M</td>\n",
              "    </tr>\n",
              "  </tbody>\n",
              "</table>\n",
              "<p>5 rows × 89 columns</p>\n",
              "</div>"
            ],
            "text/plain": [
              "   Unnamed: 0      ID  ... GKReflexes  Release Clause\n",
              "0           0  158023  ...        8.0         €226.5M\n",
              "1           1   20801  ...       11.0         €127.1M\n",
              "2           2  190871  ...       11.0         €228.1M\n",
              "3           3  193080  ...       94.0         €138.6M\n",
              "4           4  192985  ...       13.0         €196.4M\n",
              "\n",
              "[5 rows x 89 columns]"
            ]
          },
          "metadata": {
            "tags": []
          },
          "execution_count": 26
        }
      ]
    },
    {
      "cell_type": "code",
      "metadata": {
        "id": "lag6SeTTjz-B",
        "outputId": "99129374-e3ca-4e85-f4fc-3e25f44d1925",
        "colab": {
          "base_uri": "https://localhost:8080/",
          "height": 221
        }
      },
      "source": [
        "# Exercício 9\n",
        "# 3. Qual o dtype de cada variável/atributo do dataframe?\n",
        "# dtypes e info() => diferenças\n",
        "\n",
        "df_Fifa.dtypes   # df_Fifa.info => fornece informações de todas as colunas, vide execução adiante"
      ],
      "execution_count": null,
      "outputs": [
        {
          "output_type": "execute_result",
          "data": {
            "text/plain": [
              "Unnamed: 0          int64\n",
              "ID                  int64\n",
              "Name               object\n",
              "Age                 int64\n",
              "Photo              object\n",
              "                   ...   \n",
              "GKHandling        float64\n",
              "GKKicking         float64\n",
              "GKPositioning     float64\n",
              "GKReflexes        float64\n",
              "Release Clause     object\n",
              "Length: 89, dtype: object"
            ]
          },
          "metadata": {
            "tags": []
          },
          "execution_count": 82
        }
      ]
    },
    {
      "cell_type": "code",
      "metadata": {
        "id": "lMHYe3RQkSpl",
        "outputId": "646a6c40-9b93-4e0a-8c21-7774ea747124",
        "colab": {
          "base_uri": "https://localhost:8080/",
          "height": 289
        }
      },
      "source": [
        "df_Fifa.columns"
      ],
      "execution_count": null,
      "outputs": [
        {
          "output_type": "execute_result",
          "data": {
            "text/plain": [
              "Index(['Unnamed: 0', 'ID', 'Name', 'Age', 'Photo', 'Nationality', 'Flag',\n",
              "       'Overall', 'Potential', 'Club', 'Club Logo', 'Value', 'Wage', 'Special',\n",
              "       'Preferred Foot', 'International Reputation', 'Weak Foot',\n",
              "       'Skill Moves', 'Work Rate', 'Body Type', 'Real Face', 'Position',\n",
              "       'Jersey Number', 'Joined', 'Loaned From', 'Contract Valid Until',\n",
              "       'Height', 'Weight', 'LS', 'ST', 'RS', 'LW', 'LF', 'CF', 'RF', 'RW',\n",
              "       'LAM', 'CAM', 'RAM', 'LM', 'LCM', 'CM', 'RCM', 'RM', 'LWB', 'LDM',\n",
              "       'CDM', 'RDM', 'RWB', 'LB', 'LCB', 'CB', 'RCB', 'RB', 'Crossing',\n",
              "       'Finishing', 'HeadingAccuracy', 'ShortPassing', 'Volleys', 'Dribbling',\n",
              "       'Curve', 'FKAccuracy', 'LongPassing', 'BallControl', 'Acceleration',\n",
              "       'SprintSpeed', 'Agility', 'Reactions', 'Balance', 'ShotPower',\n",
              "       'Jumping', 'Stamina', 'Strength', 'LongShots', 'Aggression',\n",
              "       'Interceptions', 'Positioning', 'Vision', 'Penalties', 'Composure',\n",
              "       'Marking', 'StandingTackle', 'SlidingTackle', 'GKDiving', 'GKHandling',\n",
              "       'GKKicking', 'GKPositioning', 'GKReflexes', 'Release Clause'],\n",
              "      dtype='object')"
            ]
          },
          "metadata": {
            "tags": []
          },
          "execution_count": 34
        }
      ]
    },
    {
      "cell_type": "code",
      "metadata": {
        "id": "aHzQC1r4kPXG",
        "outputId": "8a54022b-6e10-4a93-c27d-1cb52838a775",
        "colab": {
          "base_uri": "https://localhost:8080/",
          "height": 34
        }
      },
      "source": [
        "df_Fifa.shape"
      ],
      "execution_count": null,
      "outputs": [
        {
          "output_type": "execute_result",
          "data": {
            "text/plain": [
              "(18207, 89)"
            ]
          },
          "metadata": {
            "tags": []
          },
          "execution_count": 35
        }
      ]
    },
    {
      "cell_type": "code",
      "metadata": {
        "id": "7I2vIuyDb021"
      },
      "source": [
        "# Exercício 9\n",
        "# 2. Que colunas podem previamente ser eliminadas da análise? Porque identificar o que pode ser eliminado é importante?\n",
        "### Colunas que eu eliminaria inicialmente (consome menos memória)\n",
        "''' \n",
        "df_Fifa = df_Fifa.drop(['Unnamed: 0','Photo','Flag','Overall', 'Potential','Club Logo',\n",
        "        'Special', 'Preferred Foot', 'International Reputation', 'Weak Foot',\n",
        "        'Skill Moves', 'Work Rate', 'Real Face','Jersey Number','Loaned From',\n",
        "        'LS', 'ST', 'RS', 'LW', 'LF', 'CF', 'RF', 'RW',\n",
        "       'LAM', 'CAM', 'RAM', 'LM', 'LCM', 'CM', 'RCM', 'RM', 'LWB', 'LDM',\n",
        "       'CDM', 'RDM', 'RWB', 'LB', 'LCB', 'CB', 'RCB', 'RB', 'Crossing',\n",
        "       'Finishing', 'HeadingAccuracy', 'ShortPassing', 'Volleys', 'Dribbling',\n",
        "       'Curve', 'FKAccuracy', 'LongPassing', 'BallControl', 'Acceleration',\n",
        "       'SprintSpeed', 'Agility', 'Reactions', 'Balance', 'ShotPower',\n",
        "       'Jumping', 'Stamina', 'Strength', 'LongShots', 'Aggression',\n",
        "       'Interceptions', 'Positioning', 'Vision', 'Penalties', 'Composure',\n",
        "       'Marking', 'StandingTackle', 'SlidingTackle', 'GKDiving', 'GKHandling',\n",
        "       'GKKicking', 'GKPositioning', 'GKReflexes'], axis = 1)\n",
        "'''\n",
        "###"
      ],
      "execution_count": null,
      "outputs": []
    },
    {
      "cell_type": "code",
      "metadata": {
        "id": "FQ5Bai-lbxvk",
        "outputId": "c20de111-44f0-439a-9e10-aabb88f56296",
        "colab": {
          "base_uri": "https://localhost:8080/",
          "height": 1000
        }
      },
      "source": [
        "df_Fifa.info()"
      ],
      "execution_count": null,
      "outputs": [
        {
          "output_type": "stream",
          "text": [
            "<class 'pandas.core.frame.DataFrame'>\n",
            "RangeIndex: 18207 entries, 0 to 18206\n",
            "Data columns (total 89 columns):\n",
            " #   Column                    Non-Null Count  Dtype  \n",
            "---  ------                    --------------  -----  \n",
            " 0   Unnamed: 0                18207 non-null  int64  \n",
            " 1   ID                        18207 non-null  int64  \n",
            " 2   Name                      18207 non-null  object \n",
            " 3   Age                       18207 non-null  int64  \n",
            " 4   Photo                     18207 non-null  object \n",
            " 5   Nationality               18207 non-null  object \n",
            " 6   Flag                      18207 non-null  object \n",
            " 7   Overall                   18207 non-null  int64  \n",
            " 8   Potential                 18207 non-null  int64  \n",
            " 9   Club                      17966 non-null  object \n",
            " 10  Club Logo                 18207 non-null  object \n",
            " 11  Value                     18207 non-null  object \n",
            " 12  Wage                      18207 non-null  object \n",
            " 13  Special                   18207 non-null  int64  \n",
            " 14  Preferred Foot            18159 non-null  object \n",
            " 15  International Reputation  18159 non-null  float64\n",
            " 16  Weak Foot                 18159 non-null  float64\n",
            " 17  Skill Moves               18159 non-null  float64\n",
            " 18  Work Rate                 18159 non-null  object \n",
            " 19  Body Type                 18159 non-null  object \n",
            " 20  Real Face                 18159 non-null  object \n",
            " 21  Position                  18147 non-null  object \n",
            " 22  Jersey Number             18147 non-null  float64\n",
            " 23  Joined                    16654 non-null  object \n",
            " 24  Loaned From               1264 non-null   object \n",
            " 25  Contract Valid Until      17918 non-null  object \n",
            " 26  Height                    18159 non-null  object \n",
            " 27  Weight                    18159 non-null  object \n",
            " 28  LS                        16122 non-null  object \n",
            " 29  ST                        16122 non-null  object \n",
            " 30  RS                        16122 non-null  object \n",
            " 31  LW                        16122 non-null  object \n",
            " 32  LF                        16122 non-null  object \n",
            " 33  CF                        16122 non-null  object \n",
            " 34  RF                        16122 non-null  object \n",
            " 35  RW                        16122 non-null  object \n",
            " 36  LAM                       16122 non-null  object \n",
            " 37  CAM                       16122 non-null  object \n",
            " 38  RAM                       16122 non-null  object \n",
            " 39  LM                        16122 non-null  object \n",
            " 40  LCM                       16122 non-null  object \n",
            " 41  CM                        16122 non-null  object \n",
            " 42  RCM                       16122 non-null  object \n",
            " 43  RM                        16122 non-null  object \n",
            " 44  LWB                       16122 non-null  object \n",
            " 45  LDM                       16122 non-null  object \n",
            " 46  CDM                       16122 non-null  object \n",
            " 47  RDM                       16122 non-null  object \n",
            " 48  RWB                       16122 non-null  object \n",
            " 49  LB                        16122 non-null  object \n",
            " 50  LCB                       16122 non-null  object \n",
            " 51  CB                        16122 non-null  object \n",
            " 52  RCB                       16122 non-null  object \n",
            " 53  RB                        16122 non-null  object \n",
            " 54  Crossing                  18159 non-null  float64\n",
            " 55  Finishing                 18159 non-null  float64\n",
            " 56  HeadingAccuracy           18159 non-null  float64\n",
            " 57  ShortPassing              18159 non-null  float64\n",
            " 58  Volleys                   18159 non-null  float64\n",
            " 59  Dribbling                 18159 non-null  float64\n",
            " 60  Curve                     18159 non-null  float64\n",
            " 61  FKAccuracy                18159 non-null  float64\n",
            " 62  LongPassing               18159 non-null  float64\n",
            " 63  BallControl               18159 non-null  float64\n",
            " 64  Acceleration              18159 non-null  float64\n",
            " 65  SprintSpeed               18159 non-null  float64\n",
            " 66  Agility                   18159 non-null  float64\n",
            " 67  Reactions                 18159 non-null  float64\n",
            " 68  Balance                   18159 non-null  float64\n",
            " 69  ShotPower                 18159 non-null  float64\n",
            " 70  Jumping                   18159 non-null  float64\n",
            " 71  Stamina                   18159 non-null  float64\n",
            " 72  Strength                  18159 non-null  float64\n",
            " 73  LongShots                 18159 non-null  float64\n",
            " 74  Aggression                18159 non-null  float64\n",
            " 75  Interceptions             18159 non-null  float64\n",
            " 76  Positioning               18159 non-null  float64\n",
            " 77  Vision                    18159 non-null  float64\n",
            " 78  Penalties                 18159 non-null  float64\n",
            " 79  Composure                 18159 non-null  float64\n",
            " 80  Marking                   18159 non-null  float64\n",
            " 81  StandingTackle            18159 non-null  float64\n",
            " 82  SlidingTackle             18159 non-null  float64\n",
            " 83  GKDiving                  18159 non-null  float64\n",
            " 84  GKHandling                18159 non-null  float64\n",
            " 85  GKKicking                 18159 non-null  float64\n",
            " 86  GKPositioning             18159 non-null  float64\n",
            " 87  GKReflexes                18159 non-null  float64\n",
            " 88  Release Clause            16643 non-null  object \n",
            "dtypes: float64(38), int64(6), object(45)\n",
            "memory usage: 12.4+ MB\n"
          ],
          "name": "stdout"
        }
      ]
    },
    {
      "cell_type": "code",
      "metadata": {
        "id": "VAyA3nqx4FJf",
        "outputId": "5207bcfc-e078-4a6b-9dd2-ba1658b1e5cf",
        "colab": {
          "base_uri": "https://localhost:8080/",
          "height": 34
        }
      },
      "source": [
        "pd.options.display.max_info_columns     # mostra qtde máxima de colunas que podem ser exibidas"
      ],
      "execution_count": null,
      "outputs": [
        {
          "output_type": "execute_result",
          "data": {
            "text/plain": [
              "100"
            ]
          },
          "metadata": {
            "tags": []
          },
          "execution_count": 55
        }
      ]
    },
    {
      "cell_type": "code",
      "metadata": {
        "id": "ZBKtMhyW79h0",
        "outputId": "f408ad38-f933-4d5f-836c-64e145eb8446",
        "colab": {
          "base_uri": "https://localhost:8080/",
          "height": 221
        }
      },
      "source": [
        "df_Fifa['Value']"
      ],
      "execution_count": null,
      "outputs": [
        {
          "output_type": "execute_result",
          "data": {
            "text/plain": [
              "0        €110.5M\n",
              "1           €77M\n",
              "2        €118.5M\n",
              "3           €72M\n",
              "4          €102M\n",
              "          ...   \n",
              "18202       €60K\n",
              "18203       €60K\n",
              "18204       €60K\n",
              "18205       €60K\n",
              "18206       €60K\n",
              "Name: Value, Length: 18207, dtype: object"
            ]
          },
          "metadata": {
            "tags": []
          },
          "execution_count": 318
        }
      ]
    },
    {
      "cell_type": "code",
      "metadata": {
        "id": "f0IexYi183S9",
        "outputId": "7d7d914e-f0fe-4333-e981-bfbc6f5a6ee6",
        "colab": {
          "base_uri": "https://localhost:8080/",
          "height": 34
        }
      },
      "source": [
        "type(df_Fifa['Value'])"
      ],
      "execution_count": null,
      "outputs": [
        {
          "output_type": "execute_result",
          "data": {
            "text/plain": [
              "pandas.core.series.Series"
            ]
          },
          "metadata": {
            "tags": []
          },
          "execution_count": 323
        }
      ]
    },
    {
      "cell_type": "code",
      "metadata": {
        "id": "gh1Xyne69xJT"
      },
      "source": [
        "# Exercício 9\n",
        "# 4. Se alguma variável/atributo é do tipo string (object) e supostamente deveria ser numérica, como alteramos o tipo?\n",
        "\n",
        "# Por exemplo, alterando coluna 'Value' (float) cujos dados apresentam primeiro caracter cifrão e último caracter M (million) e K (thousand)\n",
        "def elimina_notacao(moeda):\n",
        "    moeda = moeda.replace('€','').replace('M','').replace('K','')\n",
        "    return moeda\n",
        "\n",
        "df_Fifa['Value'] = df_Fifa['Value'].apply(elimina_notacao)\n",
        "df_Fifa['Value']"
      ],
      "execution_count": null,
      "outputs": []
    },
    {
      "cell_type": "code",
      "metadata": {
        "id": "o2Og-eat_YU2",
        "outputId": "82f13789-64ac-4d93-fe25-ee1b1832ab13",
        "colab": {
          "base_uri": "https://localhost:8080/",
          "height": 221
        }
      },
      "source": [
        "# Por exemplo, alterando coluna 'Value' cujos dados apresentam primeiro caracter cifrão e último caracter M (million) e K (thousand)\n",
        "\n",
        "# Inicialmente eliminando notação:\n",
        "\n",
        "def elimina_notacao(moeda):\n",
        "    moeda = moeda.replace('€','').replace('M','').replace('K','')\n",
        "    return moeda\n",
        "\n",
        "df_Fifa['Value'] = df_Fifa['Value'].apply(elimina_notacao)\n",
        "df_Fifa['Value']"
      ],
      "execution_count": null,
      "outputs": [
        {
          "output_type": "execute_result",
          "data": {
            "text/plain": [
              "0        110.5\n",
              "1           77\n",
              "2        118.5\n",
              "3           72\n",
              "4          102\n",
              "         ...  \n",
              "18202       60\n",
              "18203       60\n",
              "18204       60\n",
              "18205       60\n",
              "18206       60\n",
              "Name: Value, Length: 18207, dtype: object"
            ]
          },
          "metadata": {
            "tags": []
          },
          "execution_count": 306
        }
      ]
    },
    {
      "cell_type": "code",
      "metadata": {
        "id": "rRBekyO14W6j"
      },
      "source": [
        "# Alterando string para numeric\n",
        "df_Fifa['Value'] = pd.to_numeric(df_Fifa['Value'])"
      ],
      "execution_count": null,
      "outputs": []
    },
    {
      "cell_type": "code",
      "metadata": {
        "id": "FoQpxFhT7WJD",
        "outputId": "a920b6c3-5859-4262-c069-5436d0d41a46",
        "colab": {
          "base_uri": "https://localhost:8080/",
          "height": 35
        }
      },
      "source": [
        "df_Fifa['Value'][0]"
      ],
      "execution_count": null,
      "outputs": [
        {
          "output_type": "execute_result",
          "data": {
            "application/vnd.google.colaboratory.intrinsic+json": {
              "type": "string"
            },
            "text/plain": [
              "'110.5'"
            ]
          },
          "metadata": {
            "tags": []
          },
          "execution_count": 311
        }
      ]
    },
    {
      "cell_type": "code",
      "metadata": {
        "id": "J-_izfeL8c4i",
        "outputId": "1a178b8f-feaf-45de-f418-7542dfeb58a9",
        "colab": {
          "base_uri": "https://localhost:8080/",
          "height": 34
        }
      },
      "source": [
        "type(_311)"
      ],
      "execution_count": null,
      "outputs": [
        {
          "output_type": "execute_result",
          "data": {
            "text/plain": [
              "str"
            ]
          },
          "metadata": {
            "tags": []
          },
          "execution_count": 313
        }
      ]
    },
    {
      "cell_type": "code",
      "metadata": {
        "id": "uEboEmtyAXr4"
      },
      "source": [
        "# Exercício 9\n",
        "# 5.a) Normalize os nomes das colunas, ou seja, renomeie o nome das colunas para minúsculo.\n",
        "# 5.b) Há Missing values nos dados? \n",
        "# 5.c) Se sim, qual sua proposta (proposta do grupo) para tratar esses Missing values?"
      ],
      "execution_count": null,
      "outputs": []
    },
    {
      "cell_type": "code",
      "metadata": {
        "id": "FwX6DzueOHdC"
      },
      "source": [
        "# treinando mudar para minúsculo os nomes das colunas:\n"
      ],
      "execution_count": null,
      "outputs": []
    },
    {
      "cell_type": "code",
      "metadata": {
        "id": "N2wDVOzBH7ye"
      },
      "source": [
        "nome_colunas = df_Fifa.columns"
      ],
      "execution_count": null,
      "outputs": []
    },
    {
      "cell_type": "code",
      "metadata": {
        "id": "gjxqH2bFI9N4"
      },
      "source": [
        "df_Fifa.columns = [col.lower() for col in nome_colunas]"
      ],
      "execution_count": null,
      "outputs": []
    },
    {
      "cell_type": "code",
      "metadata": {
        "id": "4wXTvO4uJrrZ",
        "outputId": "de06752f-f9a7-4e26-ed8b-70095e58e48a",
        "colab": {
          "base_uri": "https://localhost:8080/",
          "height": 289
        }
      },
      "source": [
        "df_Fifa.columns"
      ],
      "execution_count": null,
      "outputs": [
        {
          "output_type": "execute_result",
          "data": {
            "text/plain": [
              "Index(['unnamed: 0', 'id', 'name', 'age', 'photo', 'nationality', 'flag',\n",
              "       'overall', 'potential', 'club', 'club logo', 'value', 'wage', 'special',\n",
              "       'preferred foot', 'international reputation', 'weak foot',\n",
              "       'skill moves', 'work rate', 'body type', 'real face', 'position',\n",
              "       'jersey number', 'joined', 'loaned from', 'contract valid until',\n",
              "       'height', 'weight', 'ls', 'st', 'rs', 'lw', 'lf', 'cf', 'rf', 'rw',\n",
              "       'lam', 'cam', 'ram', 'lm', 'lcm', 'cm', 'rcm', 'rm', 'lwb', 'ldm',\n",
              "       'cdm', 'rdm', 'rwb', 'lb', 'lcb', 'cb', 'rcb', 'rb', 'crossing',\n",
              "       'finishing', 'headingaccuracy', 'shortpassing', 'volleys', 'dribbling',\n",
              "       'curve', 'fkaccuracy', 'longpassing', 'ballcontrol', 'acceleration',\n",
              "       'sprintspeed', 'agility', 'reactions', 'balance', 'shotpower',\n",
              "       'jumping', 'stamina', 'strength', 'longshots', 'aggression',\n",
              "       'interceptions', 'positioning', 'vision', 'penalties', 'composure',\n",
              "       'marking', 'standingtackle', 'slidingtackle', 'gkdiving', 'gkhandling',\n",
              "       'gkkicking', 'gkpositioning', 'gkreflexes', 'release clause'],\n",
              "      dtype='object')"
            ]
          },
          "metadata": {
            "tags": []
          },
          "execution_count": 5
        }
      ]
    },
    {
      "cell_type": "code",
      "metadata": {
        "id": "8iHrhMw5OUVQ"
      },
      "source": [
        "# ou\n",
        "df_Fifa_minusculo = df_Fifa.copy()\n",
        "df_Fifa_minusculo = df_Fifa_minusculo.rename(columns=str.lower)"
      ],
      "execution_count": null,
      "outputs": []
    },
    {
      "cell_type": "code",
      "metadata": {
        "id": "_TBs4FI0Ou8m",
        "outputId": "dd87f4ee-4482-4136-f5d2-6a3bc7b31e0b",
        "colab": {
          "base_uri": "https://localhost:8080/",
          "height": 289
        }
      },
      "source": [
        "df_Fifa_minusculo.columns"
      ],
      "execution_count": null,
      "outputs": [
        {
          "output_type": "execute_result",
          "data": {
            "text/plain": [
              "Index(['unnamed: 0', 'id', 'name', 'age', 'photo', 'nationality', 'flag',\n",
              "       'overall', 'potential', 'club', 'club logo', 'value', 'wage', 'special',\n",
              "       'preferred foot', 'international reputation', 'weak foot',\n",
              "       'skill moves', 'work rate', 'body type', 'real face', 'position',\n",
              "       'jersey number', 'joined', 'loaned from', 'contract valid until',\n",
              "       'height', 'weight', 'ls', 'st', 'rs', 'lw', 'lf', 'cf', 'rf', 'rw',\n",
              "       'lam', 'cam', 'ram', 'lm', 'lcm', 'cm', 'rcm', 'rm', 'lwb', 'ldm',\n",
              "       'cdm', 'rdm', 'rwb', 'lb', 'lcb', 'cb', 'rcb', 'rb', 'crossing',\n",
              "       'finishing', 'headingaccuracy', 'shortpassing', 'volleys', 'dribbling',\n",
              "       'curve', 'fkaccuracy', 'longpassing', 'ballcontrol', 'acceleration',\n",
              "       'sprintspeed', 'agility', 'reactions', 'balance', 'shotpower',\n",
              "       'jumping', 'stamina', 'strength', 'longshots', 'aggression',\n",
              "       'interceptions', 'positioning', 'vision', 'penalties', 'composure',\n",
              "       'marking', 'standingtackle', 'slidingtackle', 'gkdiving', 'gkhandling',\n",
              "       'gkkicking', 'gkpositioning', 'gkreflexes', 'release clause'],\n",
              "      dtype='object')"
            ]
          },
          "metadata": {
            "tags": []
          },
          "execution_count": 338
        }
      ]
    },
    {
      "cell_type": "code",
      "metadata": {
        "id": "MA0eK2wTOr4_"
      },
      "source": [
        ""
      ],
      "execution_count": null,
      "outputs": []
    },
    {
      "cell_type": "code",
      "metadata": {
        "id": "Dh1Tb4FKKECD",
        "outputId": "ad8f0fa1-979a-462d-a997-ff63f3a7bd55",
        "colab": {
          "base_uri": "https://localhost:8080/",
          "height": 1000
        }
      },
      "source": [
        "# Exercício 9\n",
        "# 5.b) Há Missing values nos dados? \n",
        "# 5.c) Se sim, qual sua proposta (proposta do grupo) para tratar esses Missing values?\n",
        "\n",
        "df_Fifa.info()"
      ],
      "execution_count": null,
      "outputs": [
        {
          "output_type": "stream",
          "text": [
            "<class 'pandas.core.frame.DataFrame'>\n",
            "RangeIndex: 18207 entries, 0 to 18206\n",
            "Data columns (total 89 columns):\n",
            " #   Column                    Non-Null Count  Dtype  \n",
            "---  ------                    --------------  -----  \n",
            " 0   unnamed: 0                18207 non-null  int64  \n",
            " 1   id                        18207 non-null  int64  \n",
            " 2   name                      18207 non-null  object \n",
            " 3   age                       18207 non-null  int64  \n",
            " 4   photo                     18207 non-null  object \n",
            " 5   nationality               18207 non-null  object \n",
            " 6   flag                      18207 non-null  object \n",
            " 7   overall                   18207 non-null  int64  \n",
            " 8   potential                 18207 non-null  int64  \n",
            " 9   club                      17966 non-null  object \n",
            " 10  club logo                 18207 non-null  object \n",
            " 11  value                     18207 non-null  float64\n",
            " 12  wage                      18207 non-null  object \n",
            " 13  special                   18207 non-null  int64  \n",
            " 14  preferred foot            18159 non-null  object \n",
            " 15  international reputation  18159 non-null  float64\n",
            " 16  weak foot                 18159 non-null  float64\n",
            " 17  skill moves               18159 non-null  float64\n",
            " 18  work rate                 18159 non-null  object \n",
            " 19  body type                 18159 non-null  object \n",
            " 20  real face                 18159 non-null  object \n",
            " 21  position                  18147 non-null  object \n",
            " 22  jersey number             18147 non-null  float64\n",
            " 23  joined                    16654 non-null  object \n",
            " 24  loaned from               1264 non-null   object \n",
            " 25  contract valid until      17918 non-null  object \n",
            " 26  height                    18159 non-null  object \n",
            " 27  weight                    18159 non-null  object \n",
            " 28  ls                        16122 non-null  object \n",
            " 29  st                        16122 non-null  object \n",
            " 30  rs                        16122 non-null  object \n",
            " 31  lw                        16122 non-null  object \n",
            " 32  lf                        16122 non-null  object \n",
            " 33  cf                        16122 non-null  object \n",
            " 34  rf                        16122 non-null  object \n",
            " 35  rw                        16122 non-null  object \n",
            " 36  lam                       16122 non-null  object \n",
            " 37  cam                       16122 non-null  object \n",
            " 38  ram                       16122 non-null  object \n",
            " 39  lm                        16122 non-null  object \n",
            " 40  lcm                       16122 non-null  object \n",
            " 41  cm                        16122 non-null  object \n",
            " 42  rcm                       16122 non-null  object \n",
            " 43  rm                        16122 non-null  object \n",
            " 44  lwb                       16122 non-null  object \n",
            " 45  ldm                       16122 non-null  object \n",
            " 46  cdm                       16122 non-null  object \n",
            " 47  rdm                       16122 non-null  object \n",
            " 48  rwb                       16122 non-null  object \n",
            " 49  lb                        16122 non-null  object \n",
            " 50  lcb                       16122 non-null  object \n",
            " 51  cb                        16122 non-null  object \n",
            " 52  rcb                       16122 non-null  object \n",
            " 53  rb                        16122 non-null  object \n",
            " 54  crossing                  18159 non-null  float64\n",
            " 55  finishing                 18159 non-null  float64\n",
            " 56  headingaccuracy           18159 non-null  float64\n",
            " 57  shortpassing              18159 non-null  float64\n",
            " 58  volleys                   18159 non-null  float64\n",
            " 59  dribbling                 18159 non-null  float64\n",
            " 60  curve                     18159 non-null  float64\n",
            " 61  fkaccuracy                18159 non-null  float64\n",
            " 62  longpassing               18159 non-null  float64\n",
            " 63  ballcontrol               18159 non-null  float64\n",
            " 64  acceleration              18159 non-null  float64\n",
            " 65  sprintspeed               18159 non-null  float64\n",
            " 66  agility                   18159 non-null  float64\n",
            " 67  reactions                 18159 non-null  float64\n",
            " 68  balance                   18159 non-null  float64\n",
            " 69  shotpower                 18159 non-null  float64\n",
            " 70  jumping                   18159 non-null  float64\n",
            " 71  stamina                   18159 non-null  float64\n",
            " 72  strength                  18159 non-null  float64\n",
            " 73  longshots                 18159 non-null  float64\n",
            " 74  aggression                18159 non-null  float64\n",
            " 75  interceptions             18159 non-null  float64\n",
            " 76  positioning               18159 non-null  float64\n",
            " 77  vision                    18159 non-null  float64\n",
            " 78  penalties                 18159 non-null  float64\n",
            " 79  composure                 18159 non-null  float64\n",
            " 80  marking                   18159 non-null  float64\n",
            " 81  standingtackle            18159 non-null  float64\n",
            " 82  slidingtackle             18159 non-null  float64\n",
            " 83  gkdiving                  18159 non-null  float64\n",
            " 84  gkhandling                18159 non-null  float64\n",
            " 85  gkkicking                 18159 non-null  float64\n",
            " 86  gkpositioning             18159 non-null  float64\n",
            " 87  gkreflexes                18159 non-null  float64\n",
            " 88  release clause            16643 non-null  object \n",
            "dtypes: float64(39), int64(6), object(44)\n",
            "memory usage: 12.4+ MB\n"
          ],
          "name": "stdout"
        }
      ]
    },
    {
      "cell_type": "code",
      "metadata": {
        "id": "lMU-PnPSKmTR",
        "outputId": "381a02ef-a54e-43f6-a230-9e9cd79b4c8c",
        "colab": {
          "base_uri": "https://localhost:8080/",
          "height": 221
        }
      },
      "source": [
        "# Sim, há Missing values pois ao rodar df.info() várias colunas indicam valores non-null menores que o número total de linhas (18207 linhas).\n",
        "\n",
        "df_Fifa.isna().sum()"
      ],
      "execution_count": null,
      "outputs": [
        {
          "output_type": "execute_result",
          "data": {
            "text/plain": [
              "unnamed: 0           0\n",
              "id                   0\n",
              "name                 0\n",
              "age                  0\n",
              "photo                0\n",
              "                  ... \n",
              "gkhandling          48\n",
              "gkkicking           48\n",
              "gkpositioning       48\n",
              "gkreflexes          48\n",
              "release clause    1564\n",
              "Length: 89, dtype: int64"
            ]
          },
          "metadata": {
            "tags": []
          },
          "execution_count": 98
        }
      ]
    },
    {
      "cell_type": "code",
      "metadata": {
        "id": "TC4bUq02MgjH",
        "outputId": "1d7c8fa4-9519-4b1b-a803-af4a9c1ad451",
        "colab": {
          "base_uri": "https://localhost:8080/",
          "height": 221
        }
      },
      "source": [
        "df_Fifa.isnull().sum()"
      ],
      "execution_count": null,
      "outputs": [
        {
          "output_type": "execute_result",
          "data": {
            "text/plain": [
              "unnamed: 0           0\n",
              "id                   0\n",
              "name                 0\n",
              "age                  0\n",
              "photo                0\n",
              "                  ... \n",
              "gkhandling          48\n",
              "gkkicking           48\n",
              "gkpositioning       48\n",
              "gkreflexes          48\n",
              "release clause    1564\n",
              "Length: 89, dtype: int64"
            ]
          },
          "metadata": {
            "tags": []
          },
          "execution_count": 97
        }
      ]
    },
    {
      "cell_type": "code",
      "metadata": {
        "id": "nTwcdcOgKa2E",
        "outputId": "dc3f88bf-08e6-4444-cae6-b4b021f19291",
        "colab": {
          "base_uri": "https://localhost:8080/",
          "height": 389
        }
      },
      "source": [
        "# 6. Qual a distribuição do número de jogadores por países? Apresente uma tabela com a distribuição.\n",
        "df_Fifa.head()"
      ],
      "execution_count": null,
      "outputs": [
        {
          "output_type": "execute_result",
          "data": {
            "text/html": [
              "<div>\n",
              "<style scoped>\n",
              "    .dataframe tbody tr th:only-of-type {\n",
              "        vertical-align: middle;\n",
              "    }\n",
              "\n",
              "    .dataframe tbody tr th {\n",
              "        vertical-align: top;\n",
              "    }\n",
              "\n",
              "    .dataframe thead th {\n",
              "        text-align: right;\n",
              "    }\n",
              "</style>\n",
              "<table border=\"1\" class=\"dataframe\">\n",
              "  <thead>\n",
              "    <tr style=\"text-align: right;\">\n",
              "      <th></th>\n",
              "      <th>unnamed: 0</th>\n",
              "      <th>id</th>\n",
              "      <th>name</th>\n",
              "      <th>age</th>\n",
              "      <th>photo</th>\n",
              "      <th>nationality</th>\n",
              "      <th>flag</th>\n",
              "      <th>overall</th>\n",
              "      <th>potential</th>\n",
              "      <th>club</th>\n",
              "      <th>club logo</th>\n",
              "      <th>value</th>\n",
              "      <th>wage</th>\n",
              "      <th>special</th>\n",
              "      <th>preferred foot</th>\n",
              "      <th>international reputation</th>\n",
              "      <th>weak foot</th>\n",
              "      <th>skill moves</th>\n",
              "      <th>work rate</th>\n",
              "      <th>body type</th>\n",
              "      <th>real face</th>\n",
              "      <th>position</th>\n",
              "      <th>jersey number</th>\n",
              "      <th>joined</th>\n",
              "      <th>loaned from</th>\n",
              "      <th>contract valid until</th>\n",
              "      <th>height</th>\n",
              "      <th>weight</th>\n",
              "      <th>ls</th>\n",
              "      <th>st</th>\n",
              "      <th>rs</th>\n",
              "      <th>lw</th>\n",
              "      <th>lf</th>\n",
              "      <th>cf</th>\n",
              "      <th>rf</th>\n",
              "      <th>rw</th>\n",
              "      <th>lam</th>\n",
              "      <th>cam</th>\n",
              "      <th>ram</th>\n",
              "      <th>lm</th>\n",
              "      <th>...</th>\n",
              "      <th>lb</th>\n",
              "      <th>lcb</th>\n",
              "      <th>cb</th>\n",
              "      <th>rcb</th>\n",
              "      <th>rb</th>\n",
              "      <th>crossing</th>\n",
              "      <th>finishing</th>\n",
              "      <th>headingaccuracy</th>\n",
              "      <th>shortpassing</th>\n",
              "      <th>volleys</th>\n",
              "      <th>dribbling</th>\n",
              "      <th>curve</th>\n",
              "      <th>fkaccuracy</th>\n",
              "      <th>longpassing</th>\n",
              "      <th>ballcontrol</th>\n",
              "      <th>acceleration</th>\n",
              "      <th>sprintspeed</th>\n",
              "      <th>agility</th>\n",
              "      <th>reactions</th>\n",
              "      <th>balance</th>\n",
              "      <th>shotpower</th>\n",
              "      <th>jumping</th>\n",
              "      <th>stamina</th>\n",
              "      <th>strength</th>\n",
              "      <th>longshots</th>\n",
              "      <th>aggression</th>\n",
              "      <th>interceptions</th>\n",
              "      <th>positioning</th>\n",
              "      <th>vision</th>\n",
              "      <th>penalties</th>\n",
              "      <th>composure</th>\n",
              "      <th>marking</th>\n",
              "      <th>standingtackle</th>\n",
              "      <th>slidingtackle</th>\n",
              "      <th>gkdiving</th>\n",
              "      <th>gkhandling</th>\n",
              "      <th>gkkicking</th>\n",
              "      <th>gkpositioning</th>\n",
              "      <th>gkreflexes</th>\n",
              "      <th>release clause</th>\n",
              "    </tr>\n",
              "  </thead>\n",
              "  <tbody>\n",
              "    <tr>\n",
              "      <th>0</th>\n",
              "      <td>0</td>\n",
              "      <td>158023</td>\n",
              "      <td>L. Messi</td>\n",
              "      <td>31</td>\n",
              "      <td>https://cdn.sofifa.org/players/4/19/158023.png</td>\n",
              "      <td>Argentina</td>\n",
              "      <td>https://cdn.sofifa.org/flags/52.png</td>\n",
              "      <td>94</td>\n",
              "      <td>94</td>\n",
              "      <td>FC Barcelona</td>\n",
              "      <td>https://cdn.sofifa.org/teams/2/light/241.png</td>\n",
              "      <td>110.5</td>\n",
              "      <td>€565K</td>\n",
              "      <td>2202</td>\n",
              "      <td>Left</td>\n",
              "      <td>5.0</td>\n",
              "      <td>4.0</td>\n",
              "      <td>4.0</td>\n",
              "      <td>Medium/ Medium</td>\n",
              "      <td>Messi</td>\n",
              "      <td>Yes</td>\n",
              "      <td>RF</td>\n",
              "      <td>10.0</td>\n",
              "      <td>Jul 1, 2004</td>\n",
              "      <td>NaN</td>\n",
              "      <td>2021</td>\n",
              "      <td>5'7</td>\n",
              "      <td>159lbs</td>\n",
              "      <td>88+2</td>\n",
              "      <td>88+2</td>\n",
              "      <td>88+2</td>\n",
              "      <td>92+2</td>\n",
              "      <td>93+2</td>\n",
              "      <td>93+2</td>\n",
              "      <td>93+2</td>\n",
              "      <td>92+2</td>\n",
              "      <td>93+2</td>\n",
              "      <td>93+2</td>\n",
              "      <td>93+2</td>\n",
              "      <td>91+2</td>\n",
              "      <td>...</td>\n",
              "      <td>59+2</td>\n",
              "      <td>47+2</td>\n",
              "      <td>47+2</td>\n",
              "      <td>47+2</td>\n",
              "      <td>59+2</td>\n",
              "      <td>84.0</td>\n",
              "      <td>95.0</td>\n",
              "      <td>70.0</td>\n",
              "      <td>90.0</td>\n",
              "      <td>86.0</td>\n",
              "      <td>97.0</td>\n",
              "      <td>93.0</td>\n",
              "      <td>94.0</td>\n",
              "      <td>87.0</td>\n",
              "      <td>96.0</td>\n",
              "      <td>91.0</td>\n",
              "      <td>86.0</td>\n",
              "      <td>91.0</td>\n",
              "      <td>95.0</td>\n",
              "      <td>95.0</td>\n",
              "      <td>85.0</td>\n",
              "      <td>68.0</td>\n",
              "      <td>72.0</td>\n",
              "      <td>59.0</td>\n",
              "      <td>94.0</td>\n",
              "      <td>48.0</td>\n",
              "      <td>22.0</td>\n",
              "      <td>94.0</td>\n",
              "      <td>94.0</td>\n",
              "      <td>75.0</td>\n",
              "      <td>96.0</td>\n",
              "      <td>33.0</td>\n",
              "      <td>28.0</td>\n",
              "      <td>26.0</td>\n",
              "      <td>6.0</td>\n",
              "      <td>11.0</td>\n",
              "      <td>15.0</td>\n",
              "      <td>14.0</td>\n",
              "      <td>8.0</td>\n",
              "      <td>€226.5M</td>\n",
              "    </tr>\n",
              "    <tr>\n",
              "      <th>1</th>\n",
              "      <td>1</td>\n",
              "      <td>20801</td>\n",
              "      <td>Cristiano Ronaldo</td>\n",
              "      <td>33</td>\n",
              "      <td>https://cdn.sofifa.org/players/4/19/20801.png</td>\n",
              "      <td>Portugal</td>\n",
              "      <td>https://cdn.sofifa.org/flags/38.png</td>\n",
              "      <td>94</td>\n",
              "      <td>94</td>\n",
              "      <td>Juventus</td>\n",
              "      <td>https://cdn.sofifa.org/teams/2/light/45.png</td>\n",
              "      <td>77.0</td>\n",
              "      <td>€405K</td>\n",
              "      <td>2228</td>\n",
              "      <td>Right</td>\n",
              "      <td>5.0</td>\n",
              "      <td>4.0</td>\n",
              "      <td>5.0</td>\n",
              "      <td>High/ Low</td>\n",
              "      <td>C. Ronaldo</td>\n",
              "      <td>Yes</td>\n",
              "      <td>ST</td>\n",
              "      <td>7.0</td>\n",
              "      <td>Jul 10, 2018</td>\n",
              "      <td>NaN</td>\n",
              "      <td>2022</td>\n",
              "      <td>6'2</td>\n",
              "      <td>183lbs</td>\n",
              "      <td>91+3</td>\n",
              "      <td>91+3</td>\n",
              "      <td>91+3</td>\n",
              "      <td>89+3</td>\n",
              "      <td>90+3</td>\n",
              "      <td>90+3</td>\n",
              "      <td>90+3</td>\n",
              "      <td>89+3</td>\n",
              "      <td>88+3</td>\n",
              "      <td>88+3</td>\n",
              "      <td>88+3</td>\n",
              "      <td>88+3</td>\n",
              "      <td>...</td>\n",
              "      <td>61+3</td>\n",
              "      <td>53+3</td>\n",
              "      <td>53+3</td>\n",
              "      <td>53+3</td>\n",
              "      <td>61+3</td>\n",
              "      <td>84.0</td>\n",
              "      <td>94.0</td>\n",
              "      <td>89.0</td>\n",
              "      <td>81.0</td>\n",
              "      <td>87.0</td>\n",
              "      <td>88.0</td>\n",
              "      <td>81.0</td>\n",
              "      <td>76.0</td>\n",
              "      <td>77.0</td>\n",
              "      <td>94.0</td>\n",
              "      <td>89.0</td>\n",
              "      <td>91.0</td>\n",
              "      <td>87.0</td>\n",
              "      <td>96.0</td>\n",
              "      <td>70.0</td>\n",
              "      <td>95.0</td>\n",
              "      <td>95.0</td>\n",
              "      <td>88.0</td>\n",
              "      <td>79.0</td>\n",
              "      <td>93.0</td>\n",
              "      <td>63.0</td>\n",
              "      <td>29.0</td>\n",
              "      <td>95.0</td>\n",
              "      <td>82.0</td>\n",
              "      <td>85.0</td>\n",
              "      <td>95.0</td>\n",
              "      <td>28.0</td>\n",
              "      <td>31.0</td>\n",
              "      <td>23.0</td>\n",
              "      <td>7.0</td>\n",
              "      <td>11.0</td>\n",
              "      <td>15.0</td>\n",
              "      <td>14.0</td>\n",
              "      <td>11.0</td>\n",
              "      <td>€127.1M</td>\n",
              "    </tr>\n",
              "    <tr>\n",
              "      <th>2</th>\n",
              "      <td>2</td>\n",
              "      <td>190871</td>\n",
              "      <td>Neymar Jr</td>\n",
              "      <td>26</td>\n",
              "      <td>https://cdn.sofifa.org/players/4/19/190871.png</td>\n",
              "      <td>Brazil</td>\n",
              "      <td>https://cdn.sofifa.org/flags/54.png</td>\n",
              "      <td>92</td>\n",
              "      <td>93</td>\n",
              "      <td>Paris Saint-Germain</td>\n",
              "      <td>https://cdn.sofifa.org/teams/2/light/73.png</td>\n",
              "      <td>118.5</td>\n",
              "      <td>€290K</td>\n",
              "      <td>2143</td>\n",
              "      <td>Right</td>\n",
              "      <td>5.0</td>\n",
              "      <td>5.0</td>\n",
              "      <td>5.0</td>\n",
              "      <td>High/ Medium</td>\n",
              "      <td>Neymar</td>\n",
              "      <td>Yes</td>\n",
              "      <td>LW</td>\n",
              "      <td>10.0</td>\n",
              "      <td>Aug 3, 2017</td>\n",
              "      <td>NaN</td>\n",
              "      <td>2022</td>\n",
              "      <td>5'9</td>\n",
              "      <td>150lbs</td>\n",
              "      <td>84+3</td>\n",
              "      <td>84+3</td>\n",
              "      <td>84+3</td>\n",
              "      <td>89+3</td>\n",
              "      <td>89+3</td>\n",
              "      <td>89+3</td>\n",
              "      <td>89+3</td>\n",
              "      <td>89+3</td>\n",
              "      <td>89+3</td>\n",
              "      <td>89+3</td>\n",
              "      <td>89+3</td>\n",
              "      <td>88+3</td>\n",
              "      <td>...</td>\n",
              "      <td>60+3</td>\n",
              "      <td>47+3</td>\n",
              "      <td>47+3</td>\n",
              "      <td>47+3</td>\n",
              "      <td>60+3</td>\n",
              "      <td>79.0</td>\n",
              "      <td>87.0</td>\n",
              "      <td>62.0</td>\n",
              "      <td>84.0</td>\n",
              "      <td>84.0</td>\n",
              "      <td>96.0</td>\n",
              "      <td>88.0</td>\n",
              "      <td>87.0</td>\n",
              "      <td>78.0</td>\n",
              "      <td>95.0</td>\n",
              "      <td>94.0</td>\n",
              "      <td>90.0</td>\n",
              "      <td>96.0</td>\n",
              "      <td>94.0</td>\n",
              "      <td>84.0</td>\n",
              "      <td>80.0</td>\n",
              "      <td>61.0</td>\n",
              "      <td>81.0</td>\n",
              "      <td>49.0</td>\n",
              "      <td>82.0</td>\n",
              "      <td>56.0</td>\n",
              "      <td>36.0</td>\n",
              "      <td>89.0</td>\n",
              "      <td>87.0</td>\n",
              "      <td>81.0</td>\n",
              "      <td>94.0</td>\n",
              "      <td>27.0</td>\n",
              "      <td>24.0</td>\n",
              "      <td>33.0</td>\n",
              "      <td>9.0</td>\n",
              "      <td>9.0</td>\n",
              "      <td>15.0</td>\n",
              "      <td>15.0</td>\n",
              "      <td>11.0</td>\n",
              "      <td>€228.1M</td>\n",
              "    </tr>\n",
              "    <tr>\n",
              "      <th>3</th>\n",
              "      <td>3</td>\n",
              "      <td>193080</td>\n",
              "      <td>De Gea</td>\n",
              "      <td>27</td>\n",
              "      <td>https://cdn.sofifa.org/players/4/19/193080.png</td>\n",
              "      <td>Spain</td>\n",
              "      <td>https://cdn.sofifa.org/flags/45.png</td>\n",
              "      <td>91</td>\n",
              "      <td>93</td>\n",
              "      <td>Manchester United</td>\n",
              "      <td>https://cdn.sofifa.org/teams/2/light/11.png</td>\n",
              "      <td>72.0</td>\n",
              "      <td>€260K</td>\n",
              "      <td>1471</td>\n",
              "      <td>Right</td>\n",
              "      <td>4.0</td>\n",
              "      <td>3.0</td>\n",
              "      <td>1.0</td>\n",
              "      <td>Medium/ Medium</td>\n",
              "      <td>Lean</td>\n",
              "      <td>Yes</td>\n",
              "      <td>GK</td>\n",
              "      <td>1.0</td>\n",
              "      <td>Jul 1, 2011</td>\n",
              "      <td>NaN</td>\n",
              "      <td>2020</td>\n",
              "      <td>6'4</td>\n",
              "      <td>168lbs</td>\n",
              "      <td>NaN</td>\n",
              "      <td>NaN</td>\n",
              "      <td>NaN</td>\n",
              "      <td>NaN</td>\n",
              "      <td>NaN</td>\n",
              "      <td>NaN</td>\n",
              "      <td>NaN</td>\n",
              "      <td>NaN</td>\n",
              "      <td>NaN</td>\n",
              "      <td>NaN</td>\n",
              "      <td>NaN</td>\n",
              "      <td>NaN</td>\n",
              "      <td>...</td>\n",
              "      <td>NaN</td>\n",
              "      <td>NaN</td>\n",
              "      <td>NaN</td>\n",
              "      <td>NaN</td>\n",
              "      <td>NaN</td>\n",
              "      <td>17.0</td>\n",
              "      <td>13.0</td>\n",
              "      <td>21.0</td>\n",
              "      <td>50.0</td>\n",
              "      <td>13.0</td>\n",
              "      <td>18.0</td>\n",
              "      <td>21.0</td>\n",
              "      <td>19.0</td>\n",
              "      <td>51.0</td>\n",
              "      <td>42.0</td>\n",
              "      <td>57.0</td>\n",
              "      <td>58.0</td>\n",
              "      <td>60.0</td>\n",
              "      <td>90.0</td>\n",
              "      <td>43.0</td>\n",
              "      <td>31.0</td>\n",
              "      <td>67.0</td>\n",
              "      <td>43.0</td>\n",
              "      <td>64.0</td>\n",
              "      <td>12.0</td>\n",
              "      <td>38.0</td>\n",
              "      <td>30.0</td>\n",
              "      <td>12.0</td>\n",
              "      <td>68.0</td>\n",
              "      <td>40.0</td>\n",
              "      <td>68.0</td>\n",
              "      <td>15.0</td>\n",
              "      <td>21.0</td>\n",
              "      <td>13.0</td>\n",
              "      <td>90.0</td>\n",
              "      <td>85.0</td>\n",
              "      <td>87.0</td>\n",
              "      <td>88.0</td>\n",
              "      <td>94.0</td>\n",
              "      <td>€138.6M</td>\n",
              "    </tr>\n",
              "    <tr>\n",
              "      <th>4</th>\n",
              "      <td>4</td>\n",
              "      <td>192985</td>\n",
              "      <td>K. De Bruyne</td>\n",
              "      <td>27</td>\n",
              "      <td>https://cdn.sofifa.org/players/4/19/192985.png</td>\n",
              "      <td>Belgium</td>\n",
              "      <td>https://cdn.sofifa.org/flags/7.png</td>\n",
              "      <td>91</td>\n",
              "      <td>92</td>\n",
              "      <td>Manchester City</td>\n",
              "      <td>https://cdn.sofifa.org/teams/2/light/10.png</td>\n",
              "      <td>102.0</td>\n",
              "      <td>€355K</td>\n",
              "      <td>2281</td>\n",
              "      <td>Right</td>\n",
              "      <td>4.0</td>\n",
              "      <td>5.0</td>\n",
              "      <td>4.0</td>\n",
              "      <td>High/ High</td>\n",
              "      <td>Normal</td>\n",
              "      <td>Yes</td>\n",
              "      <td>RCM</td>\n",
              "      <td>7.0</td>\n",
              "      <td>Aug 30, 2015</td>\n",
              "      <td>NaN</td>\n",
              "      <td>2023</td>\n",
              "      <td>5'11</td>\n",
              "      <td>154lbs</td>\n",
              "      <td>82+3</td>\n",
              "      <td>82+3</td>\n",
              "      <td>82+3</td>\n",
              "      <td>87+3</td>\n",
              "      <td>87+3</td>\n",
              "      <td>87+3</td>\n",
              "      <td>87+3</td>\n",
              "      <td>87+3</td>\n",
              "      <td>88+3</td>\n",
              "      <td>88+3</td>\n",
              "      <td>88+3</td>\n",
              "      <td>88+3</td>\n",
              "      <td>...</td>\n",
              "      <td>73+3</td>\n",
              "      <td>66+3</td>\n",
              "      <td>66+3</td>\n",
              "      <td>66+3</td>\n",
              "      <td>73+3</td>\n",
              "      <td>93.0</td>\n",
              "      <td>82.0</td>\n",
              "      <td>55.0</td>\n",
              "      <td>92.0</td>\n",
              "      <td>82.0</td>\n",
              "      <td>86.0</td>\n",
              "      <td>85.0</td>\n",
              "      <td>83.0</td>\n",
              "      <td>91.0</td>\n",
              "      <td>91.0</td>\n",
              "      <td>78.0</td>\n",
              "      <td>76.0</td>\n",
              "      <td>79.0</td>\n",
              "      <td>91.0</td>\n",
              "      <td>77.0</td>\n",
              "      <td>91.0</td>\n",
              "      <td>63.0</td>\n",
              "      <td>90.0</td>\n",
              "      <td>75.0</td>\n",
              "      <td>91.0</td>\n",
              "      <td>76.0</td>\n",
              "      <td>61.0</td>\n",
              "      <td>87.0</td>\n",
              "      <td>94.0</td>\n",
              "      <td>79.0</td>\n",
              "      <td>88.0</td>\n",
              "      <td>68.0</td>\n",
              "      <td>58.0</td>\n",
              "      <td>51.0</td>\n",
              "      <td>15.0</td>\n",
              "      <td>13.0</td>\n",
              "      <td>5.0</td>\n",
              "      <td>10.0</td>\n",
              "      <td>13.0</td>\n",
              "      <td>€196.4M</td>\n",
              "    </tr>\n",
              "  </tbody>\n",
              "</table>\n",
              "<p>5 rows × 89 columns</p>\n",
              "</div>"
            ],
            "text/plain": [
              "   unnamed: 0      id  ... gkreflexes  release clause\n",
              "0           0  158023  ...        8.0         €226.5M\n",
              "1           1   20801  ...       11.0         €127.1M\n",
              "2           2  190871  ...       11.0         €228.1M\n",
              "3           3  193080  ...       94.0         €138.6M\n",
              "4           4  192985  ...       13.0         €196.4M\n",
              "\n",
              "[5 rows x 89 columns]"
            ]
          },
          "metadata": {
            "tags": []
          },
          "execution_count": 99
        }
      ]
    },
    {
      "cell_type": "code",
      "metadata": {
        "id": "9E72M7oBIYdh",
        "outputId": "f34375cd-5a91-43a2-fe04-e999a7168534",
        "colab": {
          "base_uri": "https://localhost:8080/",
          "height": 238
        }
      },
      "source": [
        "df_Fifa.groupby('nationality')['nationality'].count()       # vide abaixo value_counts (tb resulta em uma série) e Counter (resulta em um dicionário)"
      ],
      "execution_count": null,
      "outputs": [
        {
          "output_type": "execute_result",
          "data": {
            "text/plain": [
              "nationality\n",
              "Afghanistan      4\n",
              "Albania         40\n",
              "Algeria         60\n",
              "Andorra          1\n",
              "Angola          15\n",
              "              ... \n",
              "Uzbekistan       2\n",
              "Venezuela       67\n",
              "Wales          129\n",
              "Zambia           9\n",
              "Zimbabwe        13\n",
              "Name: nationality, Length: 164, dtype: int64"
            ]
          },
          "metadata": {
            "tags": []
          },
          "execution_count": 121
        }
      ]
    },
    {
      "cell_type": "code",
      "metadata": {
        "id": "j511B6q-J3ET",
        "outputId": "68b2de67-dc40-4279-b3b9-c5858b070b96",
        "colab": {
          "base_uri": "https://localhost:8080/",
          "height": 34
        }
      },
      "source": [
        "type(_121)"
      ],
      "execution_count": null,
      "outputs": [
        {
          "output_type": "execute_result",
          "data": {
            "text/plain": [
              "pandas.core.series.Series"
            ]
          },
          "metadata": {
            "tags": []
          },
          "execution_count": 122
        }
      ]
    },
    {
      "cell_type": "code",
      "metadata": {
        "id": "FrAa4N-_TyGD",
        "outputId": "02ab1058-d489-425d-f546-3c67acbb3d64",
        "colab": {
          "base_uri": "https://localhost:8080/",
          "height": 238
        }
      },
      "source": [
        "df_Fifa.value_counts(['nationality'])     # igual a: df_Fifa['nationality'].value_counts()"
      ],
      "execution_count": null,
      "outputs": [
        {
          "output_type": "execute_result",
          "data": {
            "text/plain": [
              "nationality\n",
              "England        1662\n",
              "Germany        1198\n",
              "Spain          1072\n",
              "Argentina       937\n",
              "France          914\n",
              "               ... \n",
              "Puerto Rico       1\n",
              "St Lucia          1\n",
              "Qatar             1\n",
              "South Sudan       1\n",
              "Mauritius         1\n",
              "Length: 164, dtype: int64"
            ]
          },
          "metadata": {
            "tags": []
          },
          "execution_count": 6
        }
      ]
    },
    {
      "cell_type": "code",
      "metadata": {
        "id": "216rkPyiLR4Q",
        "outputId": "9de67352-75ca-437a-ac08-c9f15688d92d",
        "colab": {
          "base_uri": "https://localhost:8080/",
          "height": 34
        }
      },
      "source": [
        "type(_6)"
      ],
      "execution_count": null,
      "outputs": [
        {
          "output_type": "execute_result",
          "data": {
            "text/plain": [
              "pandas.core.series.Series"
            ]
          },
          "metadata": {
            "tags": []
          },
          "execution_count": 120
        }
      ]
    },
    {
      "cell_type": "code",
      "metadata": {
        "id": "9-skPGURL5Rh"
      },
      "source": [
        "# Dúvida: como transformar pd series em tabela como feito abaixo com o Counter?\n",
        "\n",
        "# Descobri!!!\n",
        "# pega o index e o values da series e aplica o pd.Dataframe"
      ],
      "execution_count": null,
      "outputs": []
    },
    {
      "cell_type": "code",
      "metadata": {
        "id": "WDV6eN3mVHAq"
      },
      "source": [
        "from collections import Counter\n",
        "d_nationality = Counter(df_Fifa['Nationality'])     # Counter retorna um dicionário"
      ],
      "execution_count": null,
      "outputs": []
    },
    {
      "cell_type": "code",
      "metadata": {
        "id": "SeoI1y6MdPJo",
        "outputId": "9c1aa734-ab09-4157-c34f-6a087c8306f4",
        "colab": {
          "base_uri": "https://localhost:8080/",
          "height": 1000
        }
      },
      "source": [
        "d_nationality"
      ],
      "execution_count": null,
      "outputs": [
        {
          "output_type": "execute_result",
          "data": {
            "text/plain": [
              "Counter({'Afghanistan': 4,\n",
              "         'Albania': 40,\n",
              "         'Algeria': 60,\n",
              "         'Andorra': 1,\n",
              "         'Angola': 15,\n",
              "         'Antigua & Barbuda': 4,\n",
              "         'Argentina': 937,\n",
              "         'Armenia': 10,\n",
              "         'Australia': 236,\n",
              "         'Austria': 298,\n",
              "         'Azerbaijan': 5,\n",
              "         'Barbados': 3,\n",
              "         'Belarus': 4,\n",
              "         'Belgium': 260,\n",
              "         'Belize': 1,\n",
              "         'Benin': 15,\n",
              "         'Bermuda': 2,\n",
              "         'Bolivia': 30,\n",
              "         'Bosnia Herzegovina': 61,\n",
              "         'Botswana': 1,\n",
              "         'Brazil': 827,\n",
              "         'Bulgaria': 32,\n",
              "         'Burkina Faso': 16,\n",
              "         'Burundi': 3,\n",
              "         'Cameroon': 90,\n",
              "         'Canada': 64,\n",
              "         'Cape Verde': 19,\n",
              "         'Central African Rep.': 3,\n",
              "         'Chad': 2,\n",
              "         'Chile': 391,\n",
              "         'China PR': 392,\n",
              "         'Colombia': 618,\n",
              "         'Comoros': 6,\n",
              "         'Congo': 25,\n",
              "         'Costa Rica': 30,\n",
              "         'Croatia': 126,\n",
              "         'Cuba': 4,\n",
              "         'Curacao': 14,\n",
              "         'Cyprus': 8,\n",
              "         'Czech Republic': 100,\n",
              "         'DR Congo': 52,\n",
              "         'Denmark': 336,\n",
              "         'Dominican Republic': 2,\n",
              "         'Ecuador': 43,\n",
              "         'Egypt': 31,\n",
              "         'El Salvador': 5,\n",
              "         'England': 1662,\n",
              "         'Equatorial Guinea': 5,\n",
              "         'Eritrea': 2,\n",
              "         'Estonia': 13,\n",
              "         'Ethiopia': 1,\n",
              "         'FYR Macedonia': 20,\n",
              "         'Faroe Islands': 6,\n",
              "         'Fiji': 1,\n",
              "         'Finland': 67,\n",
              "         'France': 914,\n",
              "         'Gabon': 15,\n",
              "         'Gambia': 15,\n",
              "         'Georgia': 26,\n",
              "         'Germany': 1198,\n",
              "         'Ghana': 114,\n",
              "         'Greece': 102,\n",
              "         'Grenada': 1,\n",
              "         'Guam': 1,\n",
              "         'Guatemala': 3,\n",
              "         'Guinea': 31,\n",
              "         'Guinea Bissau': 15,\n",
              "         'Guyana': 3,\n",
              "         'Haiti': 10,\n",
              "         'Honduras': 16,\n",
              "         'Hong Kong': 2,\n",
              "         'Hungary': 38,\n",
              "         'Iceland': 47,\n",
              "         'India': 30,\n",
              "         'Indonesia': 1,\n",
              "         'Iran': 17,\n",
              "         'Iraq': 7,\n",
              "         'Israel': 14,\n",
              "         'Italy': 702,\n",
              "         'Ivory Coast': 100,\n",
              "         'Jamaica': 32,\n",
              "         'Japan': 478,\n",
              "         'Jordan': 1,\n",
              "         'Kazakhstan': 4,\n",
              "         'Kenya': 10,\n",
              "         'Korea DPR': 4,\n",
              "         'Korea Republic': 335,\n",
              "         'Kosovo': 33,\n",
              "         'Kuwait': 1,\n",
              "         'Latvia': 6,\n",
              "         'Lebanon': 1,\n",
              "         'Liberia': 1,\n",
              "         'Libya': 4,\n",
              "         'Liechtenstein': 3,\n",
              "         'Lithuania': 8,\n",
              "         'Luxembourg': 8,\n",
              "         'Madagascar': 12,\n",
              "         'Mali': 43,\n",
              "         'Malta': 1,\n",
              "         'Mauritania': 4,\n",
              "         'Mauritius': 1,\n",
              "         'Mexico': 366,\n",
              "         'Moldova': 5,\n",
              "         'Montenegro': 23,\n",
              "         'Montserrat': 4,\n",
              "         'Morocco': 85,\n",
              "         'Mozambique': 4,\n",
              "         'Namibia': 3,\n",
              "         'Netherlands': 453,\n",
              "         'New Caledonia': 1,\n",
              "         'New Zealand': 44,\n",
              "         'Nicaragua': 2,\n",
              "         'Niger': 3,\n",
              "         'Nigeria': 121,\n",
              "         'Northern Ireland': 80,\n",
              "         'Norway': 341,\n",
              "         'Oman': 1,\n",
              "         'Palestine': 1,\n",
              "         'Panama': 15,\n",
              "         'Paraguay': 85,\n",
              "         'Peru': 37,\n",
              "         'Philippines': 2,\n",
              "         'Poland': 350,\n",
              "         'Portugal': 322,\n",
              "         'Puerto Rico': 1,\n",
              "         'Qatar': 1,\n",
              "         'Republic of Ireland': 368,\n",
              "         'Romania': 54,\n",
              "         'Russia': 79,\n",
              "         'Rwanda': 1,\n",
              "         'Saudi Arabia': 340,\n",
              "         'Scotland': 286,\n",
              "         'Senegal': 130,\n",
              "         'Serbia': 126,\n",
              "         'Sierra Leone': 6,\n",
              "         'Slovakia': 54,\n",
              "         'Slovenia': 55,\n",
              "         'South Africa': 71,\n",
              "         'South Sudan': 1,\n",
              "         'Spain': 1072,\n",
              "         'St Kitts Nevis': 3,\n",
              "         'St Lucia': 1,\n",
              "         'Sudan': 3,\n",
              "         'Suriname': 4,\n",
              "         'Sweden': 397,\n",
              "         'Switzerland': 220,\n",
              "         'Syria': 9,\n",
              "         'São Tomé & Príncipe': 1,\n",
              "         'Tanzania': 3,\n",
              "         'Thailand': 5,\n",
              "         'Togo': 12,\n",
              "         'Trinidad & Tobago': 4,\n",
              "         'Tunisia': 32,\n",
              "         'Turkey': 303,\n",
              "         'Uganda': 6,\n",
              "         'Ukraine': 73,\n",
              "         'United Arab Emirates': 1,\n",
              "         'United States': 353,\n",
              "         'Uruguay': 149,\n",
              "         'Uzbekistan': 2,\n",
              "         'Venezuela': 67,\n",
              "         'Wales': 129,\n",
              "         'Zambia': 9,\n",
              "         'Zimbabwe': 13})"
            ]
          },
          "metadata": {
            "tags": []
          },
          "execution_count": 22
        }
      ]
    },
    {
      "cell_type": "code",
      "metadata": {
        "id": "0W8Ewyg9fj6N",
        "outputId": "17a50d9f-e8f3-4119-c3bc-237cb6a18c06",
        "colab": {
          "base_uri": "https://localhost:8080/",
          "height": 54
        }
      },
      "source": [
        "d_nationality.keys()"
      ],
      "execution_count": null,
      "outputs": [
        {
          "output_type": "execute_result",
          "data": {
            "text/plain": [
              "dict_keys(['Argentina', 'Portugal', 'Brazil', 'Spain', 'Belgium', 'Croatia', 'Uruguay', 'Slovenia', 'Poland', 'Germany', 'France', 'England', 'Italy', 'Egypt', 'Colombia', 'Denmark', 'Gabon', 'Wales', 'Senegal', 'Costa Rica', 'Slovakia', 'Netherlands', 'Bosnia Herzegovina', 'Morocco', 'Serbia', 'Algeria', 'Austria', 'Greece', 'Chile', 'Sweden', 'Korea Republic', 'Finland', 'Guinea', 'Montenegro', 'Armenia', 'Switzerland', 'Norway', 'Czech Republic', 'Scotland', 'Ghana', 'Central African Rep.', 'DR Congo', 'Ivory Coast', 'Russia', 'Ukraine', 'Iceland', 'Mexico', 'Jamaica', 'Albania', 'Venezuela', 'Japan', 'Turkey', 'Ecuador', 'Paraguay', 'Mali', 'Nigeria', 'Cameroon', 'Dominican Republic', 'Israel', 'Kenya', 'Hungary', 'Republic of Ireland', 'Romania', 'United States', 'Cape Verde', 'Australia', 'Peru', 'Togo', 'Syria', 'Zimbabwe', 'Angola', 'Burkina Faso', 'Iran', 'Estonia', 'Tunisia', 'Equatorial Guinea', 'New Zealand', 'FYR Macedonia', 'United Arab Emirates', 'China PR', 'Guinea Bissau', 'Bulgaria', 'Kosovo', 'South Africa', 'Madagascar', 'Georgia', 'Tanzania', 'Gambia', 'Cuba', 'Belarus', 'Uzbekistan', 'Benin', 'Congo', 'Mozambique', 'Honduras', 'Canada', 'Northern Ireland', 'Cyprus', 'Saudi Arabia', 'Curacao', 'Moldova', 'Bolivia', 'Trinidad & Tobago', 'Sierra Leone', 'Zambia', 'Chad', 'Philippines', 'Haiti', 'Comoros', 'Libya', 'Panama', 'São Tomé & Príncipe', 'Eritrea', 'Oman', 'Iraq', 'Burundi', 'Fiji', 'New Caledonia', 'Lithuania', 'Luxembourg', 'Korea DPR', 'Liechtenstein', 'St Kitts Nevis', 'Latvia', 'Suriname', 'Uganda', 'El Salvador', 'Bermuda', 'Kuwait', 'Antigua & Barbuda', 'Thailand', 'Mauritius', 'Guatemala', 'Liberia', 'Kazakhstan', 'Niger', 'Mauritania', 'Montserrat', 'Namibia', 'Azerbaijan', 'Guam', 'Faroe Islands', 'India', 'Nicaragua', 'Barbados', 'Lebanon', 'Palestine', 'Guyana', 'Sudan', 'St Lucia', 'Ethiopia', 'Puerto Rico', 'Grenada', 'Jordan', 'Rwanda', 'Qatar', 'Afghanistan', 'Hong Kong', 'Andorra', 'Malta', 'Belize', 'South Sudan', 'Indonesia', 'Botswana'])"
            ]
          },
          "metadata": {
            "tags": []
          },
          "execution_count": 51
        }
      ]
    },
    {
      "cell_type": "code",
      "metadata": {
        "id": "if0qkZPpmwmC",
        "outputId": "da8fe25b-5f59-4caa-c28d-1da4bdc7ac00",
        "colab": {
          "base_uri": "https://localhost:8080/",
          "height": 54
        }
      },
      "source": [
        "d_nationality.values()"
      ],
      "execution_count": null,
      "outputs": [
        {
          "output_type": "execute_result",
          "data": {
            "text/plain": [
              "dict_values([937, 322, 827, 1072, 260, 126, 149, 55, 350, 1198, 914, 1662, 702, 31, 618, 336, 15, 129, 130, 30, 54, 453, 61, 85, 126, 60, 298, 102, 391, 397, 335, 67, 31, 23, 10, 220, 341, 100, 286, 114, 3, 52, 100, 79, 73, 47, 366, 32, 40, 67, 478, 303, 43, 85, 43, 121, 90, 2, 14, 10, 38, 368, 54, 353, 19, 236, 37, 12, 9, 13, 15, 16, 17, 13, 32, 5, 44, 20, 1, 392, 15, 32, 33, 71, 12, 26, 3, 15, 4, 4, 2, 15, 25, 4, 16, 64, 80, 8, 340, 14, 5, 30, 4, 6, 9, 2, 2, 10, 6, 4, 15, 1, 2, 1, 7, 3, 1, 1, 8, 8, 4, 3, 3, 6, 4, 6, 5, 2, 1, 4, 5, 1, 3, 1, 4, 3, 4, 4, 3, 5, 1, 6, 30, 2, 3, 1, 1, 3, 3, 1, 1, 1, 1, 1, 1, 1, 4, 2, 1, 1, 1, 1, 1, 1])"
            ]
          },
          "metadata": {
            "tags": []
          },
          "execution_count": 52
        }
      ]
    },
    {
      "cell_type": "code",
      "metadata": {
        "id": "y6IGuyPlduLO"
      },
      "source": [
        "df_nationality = pd.DataFrame({'Nome do País': d_nationality.keys(), 'Número de Jogadores' : d_nationality.values()})"
      ],
      "execution_count": null,
      "outputs": []
    },
    {
      "cell_type": "code",
      "metadata": {
        "id": "Oc28gJgoj7Bs",
        "outputId": "867460ef-0e0a-41a7-c622-b7408736fc90",
        "colab": {
          "base_uri": "https://localhost:8080/",
          "height": 419
        }
      },
      "source": [
        "df_nationality        # não está em ordem decrescente de qtde de jogadores"
      ],
      "execution_count": null,
      "outputs": [
        {
          "output_type": "execute_result",
          "data": {
            "text/html": [
              "<div>\n",
              "<style scoped>\n",
              "    .dataframe tbody tr th:only-of-type {\n",
              "        vertical-align: middle;\n",
              "    }\n",
              "\n",
              "    .dataframe tbody tr th {\n",
              "        vertical-align: top;\n",
              "    }\n",
              "\n",
              "    .dataframe thead th {\n",
              "        text-align: right;\n",
              "    }\n",
              "</style>\n",
              "<table border=\"1\" class=\"dataframe\">\n",
              "  <thead>\n",
              "    <tr style=\"text-align: right;\">\n",
              "      <th></th>\n",
              "      <th>Nome do País</th>\n",
              "      <th>Número de Jogadores</th>\n",
              "    </tr>\n",
              "  </thead>\n",
              "  <tbody>\n",
              "    <tr>\n",
              "      <th>0</th>\n",
              "      <td>Argentina</td>\n",
              "      <td>937</td>\n",
              "    </tr>\n",
              "    <tr>\n",
              "      <th>1</th>\n",
              "      <td>Portugal</td>\n",
              "      <td>322</td>\n",
              "    </tr>\n",
              "    <tr>\n",
              "      <th>2</th>\n",
              "      <td>Brazil</td>\n",
              "      <td>827</td>\n",
              "    </tr>\n",
              "    <tr>\n",
              "      <th>3</th>\n",
              "      <td>Spain</td>\n",
              "      <td>1072</td>\n",
              "    </tr>\n",
              "    <tr>\n",
              "      <th>4</th>\n",
              "      <td>Belgium</td>\n",
              "      <td>260</td>\n",
              "    </tr>\n",
              "    <tr>\n",
              "      <th>...</th>\n",
              "      <td>...</td>\n",
              "      <td>...</td>\n",
              "    </tr>\n",
              "    <tr>\n",
              "      <th>159</th>\n",
              "      <td>Malta</td>\n",
              "      <td>1</td>\n",
              "    </tr>\n",
              "    <tr>\n",
              "      <th>160</th>\n",
              "      <td>Belize</td>\n",
              "      <td>1</td>\n",
              "    </tr>\n",
              "    <tr>\n",
              "      <th>161</th>\n",
              "      <td>South Sudan</td>\n",
              "      <td>1</td>\n",
              "    </tr>\n",
              "    <tr>\n",
              "      <th>162</th>\n",
              "      <td>Indonesia</td>\n",
              "      <td>1</td>\n",
              "    </tr>\n",
              "    <tr>\n",
              "      <th>163</th>\n",
              "      <td>Botswana</td>\n",
              "      <td>1</td>\n",
              "    </tr>\n",
              "  </tbody>\n",
              "</table>\n",
              "<p>164 rows × 2 columns</p>\n",
              "</div>"
            ],
            "text/plain": [
              "    Nome do País  Número de Jogadores\n",
              "0      Argentina                  937\n",
              "1       Portugal                  322\n",
              "2         Brazil                  827\n",
              "3          Spain                 1072\n",
              "4        Belgium                  260\n",
              "..           ...                  ...\n",
              "159        Malta                    1\n",
              "160       Belize                    1\n",
              "161  South Sudan                    1\n",
              "162    Indonesia                    1\n",
              "163     Botswana                    1\n",
              "\n",
              "[164 rows x 2 columns]"
            ]
          },
          "metadata": {
            "tags": []
          },
          "execution_count": 25
        }
      ]
    },
    {
      "cell_type": "code",
      "metadata": {
        "id": "UYuqdICmkz2M"
      },
      "source": [
        "df_nationality.sort_values(by=['Número de Jogadores'], ascending= False, inplace= True, ignore_index= True)"
      ],
      "execution_count": null,
      "outputs": []
    },
    {
      "cell_type": "code",
      "metadata": {
        "id": "ZwafI5o2nsnZ",
        "outputId": "c579ff4c-4fd0-46b0-e876-943294135b80",
        "colab": {
          "base_uri": "https://localhost:8080/",
          "height": 419
        }
      },
      "source": [
        "df_nationality"
      ],
      "execution_count": null,
      "outputs": [
        {
          "output_type": "execute_result",
          "data": {
            "text/html": [
              "<div>\n",
              "<style scoped>\n",
              "    .dataframe tbody tr th:only-of-type {\n",
              "        vertical-align: middle;\n",
              "    }\n",
              "\n",
              "    .dataframe tbody tr th {\n",
              "        vertical-align: top;\n",
              "    }\n",
              "\n",
              "    .dataframe thead th {\n",
              "        text-align: right;\n",
              "    }\n",
              "</style>\n",
              "<table border=\"1\" class=\"dataframe\">\n",
              "  <thead>\n",
              "    <tr style=\"text-align: right;\">\n",
              "      <th></th>\n",
              "      <th>Nome do País</th>\n",
              "      <th>Número de Jogadores</th>\n",
              "    </tr>\n",
              "  </thead>\n",
              "  <tbody>\n",
              "    <tr>\n",
              "      <th>0</th>\n",
              "      <td>England</td>\n",
              "      <td>1662</td>\n",
              "    </tr>\n",
              "    <tr>\n",
              "      <th>1</th>\n",
              "      <td>Germany</td>\n",
              "      <td>1198</td>\n",
              "    </tr>\n",
              "    <tr>\n",
              "      <th>2</th>\n",
              "      <td>Spain</td>\n",
              "      <td>1072</td>\n",
              "    </tr>\n",
              "    <tr>\n",
              "      <th>3</th>\n",
              "      <td>Argentina</td>\n",
              "      <td>937</td>\n",
              "    </tr>\n",
              "    <tr>\n",
              "      <th>4</th>\n",
              "      <td>France</td>\n",
              "      <td>914</td>\n",
              "    </tr>\n",
              "    <tr>\n",
              "      <th>...</th>\n",
              "      <td>...</td>\n",
              "      <td>...</td>\n",
              "    </tr>\n",
              "    <tr>\n",
              "      <th>159</th>\n",
              "      <td>New Caledonia</td>\n",
              "      <td>1</td>\n",
              "    </tr>\n",
              "    <tr>\n",
              "      <th>160</th>\n",
              "      <td>Fiji</td>\n",
              "      <td>1</td>\n",
              "    </tr>\n",
              "    <tr>\n",
              "      <th>161</th>\n",
              "      <td>São Tomé &amp; Príncipe</td>\n",
              "      <td>1</td>\n",
              "    </tr>\n",
              "    <tr>\n",
              "      <th>162</th>\n",
              "      <td>United Arab Emirates</td>\n",
              "      <td>1</td>\n",
              "    </tr>\n",
              "    <tr>\n",
              "      <th>163</th>\n",
              "      <td>Botswana</td>\n",
              "      <td>1</td>\n",
              "    </tr>\n",
              "  </tbody>\n",
              "</table>\n",
              "<p>164 rows × 2 columns</p>\n",
              "</div>"
            ],
            "text/plain": [
              "             Nome do País  Número de Jogadores\n",
              "0                 England                 1662\n",
              "1                 Germany                 1198\n",
              "2                   Spain                 1072\n",
              "3               Argentina                  937\n",
              "4                  France                  914\n",
              "..                    ...                  ...\n",
              "159         New Caledonia                    1\n",
              "160                  Fiji                    1\n",
              "161   São Tomé & Príncipe                    1\n",
              "162  United Arab Emirates                    1\n",
              "163              Botswana                    1\n",
              "\n",
              "[164 rows x 2 columns]"
            ]
          },
          "metadata": {
            "tags": []
          },
          "execution_count": 27
        }
      ]
    },
    {
      "cell_type": "code",
      "metadata": {
        "id": "VkFRH8uhrBoc"
      },
      "source": [
        "# 7. Qual a média de idade dos jogadores por países (variável/atributo 'Nacionality')\n",
        "# Resolução"
      ],
      "execution_count": null,
      "outputs": []
    },
    {
      "cell_type": "code",
      "metadata": {
        "id": "nVBHHPxy2GjT"
      },
      "source": [
        "df_nat_age = df_Fifa[['Nationality','Age']]"
      ],
      "execution_count": null,
      "outputs": []
    },
    {
      "cell_type": "code",
      "metadata": {
        "id": "C3eh0cks6Zrf",
        "outputId": "4991d0c6-c59f-4b5f-f5c9-a2a0186fc592",
        "colab": {
          "base_uri": "https://localhost:8080/",
          "height": 419
        }
      },
      "source": [
        "df_nat_age"
      ],
      "execution_count": null,
      "outputs": [
        {
          "output_type": "execute_result",
          "data": {
            "text/html": [
              "<div>\n",
              "<style scoped>\n",
              "    .dataframe tbody tr th:only-of-type {\n",
              "        vertical-align: middle;\n",
              "    }\n",
              "\n",
              "    .dataframe tbody tr th {\n",
              "        vertical-align: top;\n",
              "    }\n",
              "\n",
              "    .dataframe thead th {\n",
              "        text-align: right;\n",
              "    }\n",
              "</style>\n",
              "<table border=\"1\" class=\"dataframe\">\n",
              "  <thead>\n",
              "    <tr style=\"text-align: right;\">\n",
              "      <th></th>\n",
              "      <th>Nationality</th>\n",
              "      <th>Age</th>\n",
              "    </tr>\n",
              "  </thead>\n",
              "  <tbody>\n",
              "    <tr>\n",
              "      <th>0</th>\n",
              "      <td>Argentina</td>\n",
              "      <td>31</td>\n",
              "    </tr>\n",
              "    <tr>\n",
              "      <th>1</th>\n",
              "      <td>Portugal</td>\n",
              "      <td>33</td>\n",
              "    </tr>\n",
              "    <tr>\n",
              "      <th>2</th>\n",
              "      <td>Brazil</td>\n",
              "      <td>26</td>\n",
              "    </tr>\n",
              "    <tr>\n",
              "      <th>3</th>\n",
              "      <td>Spain</td>\n",
              "      <td>27</td>\n",
              "    </tr>\n",
              "    <tr>\n",
              "      <th>4</th>\n",
              "      <td>Belgium</td>\n",
              "      <td>27</td>\n",
              "    </tr>\n",
              "    <tr>\n",
              "      <th>...</th>\n",
              "      <td>...</td>\n",
              "      <td>...</td>\n",
              "    </tr>\n",
              "    <tr>\n",
              "      <th>18202</th>\n",
              "      <td>England</td>\n",
              "      <td>19</td>\n",
              "    </tr>\n",
              "    <tr>\n",
              "      <th>18203</th>\n",
              "      <td>Sweden</td>\n",
              "      <td>19</td>\n",
              "    </tr>\n",
              "    <tr>\n",
              "      <th>18204</th>\n",
              "      <td>England</td>\n",
              "      <td>16</td>\n",
              "    </tr>\n",
              "    <tr>\n",
              "      <th>18205</th>\n",
              "      <td>England</td>\n",
              "      <td>17</td>\n",
              "    </tr>\n",
              "    <tr>\n",
              "      <th>18206</th>\n",
              "      <td>England</td>\n",
              "      <td>16</td>\n",
              "    </tr>\n",
              "  </tbody>\n",
              "</table>\n",
              "<p>18207 rows × 2 columns</p>\n",
              "</div>"
            ],
            "text/plain": [
              "      Nationality  Age\n",
              "0       Argentina   31\n",
              "1        Portugal   33\n",
              "2          Brazil   26\n",
              "3           Spain   27\n",
              "4         Belgium   27\n",
              "...           ...  ...\n",
              "18202     England   19\n",
              "18203      Sweden   19\n",
              "18204     England   16\n",
              "18205     England   17\n",
              "18206     England   16\n",
              "\n",
              "[18207 rows x 2 columns]"
            ]
          },
          "metadata": {
            "tags": []
          },
          "execution_count": 55
        }
      ]
    },
    {
      "cell_type": "code",
      "metadata": {
        "id": "B1gm8YQr6hFE",
        "outputId": "c25b79b3-1289-4c87-801b-4255ca1f8d22",
        "colab": {
          "base_uri": "https://localhost:8080/",
          "height": 34
        }
      },
      "source": [
        "df_nat_age.shape[0]"
      ],
      "execution_count": null,
      "outputs": [
        {
          "output_type": "execute_result",
          "data": {
            "text/plain": [
              "18207"
            ]
          },
          "metadata": {
            "tags": []
          },
          "execution_count": 38
        }
      ]
    },
    {
      "cell_type": "code",
      "metadata": {
        "id": "vUcRBDAV-wQF",
        "outputId": "da1cf839-f33b-4feb-9bb1-0c0dca224988",
        "colab": {
          "base_uri": "https://localhost:8080/",
          "height": 34
        }
      },
      "source": [
        "df_nationality.shape[0]"
      ],
      "execution_count": null,
      "outputs": [
        {
          "output_type": "execute_result",
          "data": {
            "text/plain": [
              "164"
            ]
          },
          "metadata": {
            "tags": []
          },
          "execution_count": 39
        }
      ]
    },
    {
      "cell_type": "code",
      "metadata": {
        "id": "wzhnx4PA-zxu"
      },
      "source": [
        "df_nat_md_age = pd.DataFrame({'Nome do País': d_nationality.keys(), 'Número de Jogadores' : d_nationality.values(), 'Soma das idades': 0})"
      ],
      "execution_count": null,
      "outputs": []
    },
    {
      "cell_type": "code",
      "metadata": {
        "id": "aOqO20TSCk6L",
        "outputId": "add4f829-43ee-4145-908e-5679db3a1f60",
        "colab": {
          "base_uri": "https://localhost:8080/",
          "height": 419
        }
      },
      "source": [
        "df_nat_md_age"
      ],
      "execution_count": null,
      "outputs": [
        {
          "output_type": "execute_result",
          "data": {
            "text/html": [
              "<div>\n",
              "<style scoped>\n",
              "    .dataframe tbody tr th:only-of-type {\n",
              "        vertical-align: middle;\n",
              "    }\n",
              "\n",
              "    .dataframe tbody tr th {\n",
              "        vertical-align: top;\n",
              "    }\n",
              "\n",
              "    .dataframe thead th {\n",
              "        text-align: right;\n",
              "    }\n",
              "</style>\n",
              "<table border=\"1\" class=\"dataframe\">\n",
              "  <thead>\n",
              "    <tr style=\"text-align: right;\">\n",
              "      <th></th>\n",
              "      <th>Nome do País</th>\n",
              "      <th>Número de Jogadores</th>\n",
              "      <th>Soma das idades</th>\n",
              "    </tr>\n",
              "  </thead>\n",
              "  <tbody>\n",
              "    <tr>\n",
              "      <th>0</th>\n",
              "      <td>Argentina</td>\n",
              "      <td>937</td>\n",
              "      <td>0</td>\n",
              "    </tr>\n",
              "    <tr>\n",
              "      <th>1</th>\n",
              "      <td>Portugal</td>\n",
              "      <td>322</td>\n",
              "      <td>0</td>\n",
              "    </tr>\n",
              "    <tr>\n",
              "      <th>2</th>\n",
              "      <td>Brazil</td>\n",
              "      <td>827</td>\n",
              "      <td>0</td>\n",
              "    </tr>\n",
              "    <tr>\n",
              "      <th>3</th>\n",
              "      <td>Spain</td>\n",
              "      <td>1072</td>\n",
              "      <td>0</td>\n",
              "    </tr>\n",
              "    <tr>\n",
              "      <th>4</th>\n",
              "      <td>Belgium</td>\n",
              "      <td>260</td>\n",
              "      <td>0</td>\n",
              "    </tr>\n",
              "    <tr>\n",
              "      <th>...</th>\n",
              "      <td>...</td>\n",
              "      <td>...</td>\n",
              "      <td>...</td>\n",
              "    </tr>\n",
              "    <tr>\n",
              "      <th>159</th>\n",
              "      <td>Malta</td>\n",
              "      <td>1</td>\n",
              "      <td>0</td>\n",
              "    </tr>\n",
              "    <tr>\n",
              "      <th>160</th>\n",
              "      <td>Belize</td>\n",
              "      <td>1</td>\n",
              "      <td>0</td>\n",
              "    </tr>\n",
              "    <tr>\n",
              "      <th>161</th>\n",
              "      <td>South Sudan</td>\n",
              "      <td>1</td>\n",
              "      <td>0</td>\n",
              "    </tr>\n",
              "    <tr>\n",
              "      <th>162</th>\n",
              "      <td>Indonesia</td>\n",
              "      <td>1</td>\n",
              "      <td>0</td>\n",
              "    </tr>\n",
              "    <tr>\n",
              "      <th>163</th>\n",
              "      <td>Botswana</td>\n",
              "      <td>1</td>\n",
              "      <td>0</td>\n",
              "    </tr>\n",
              "  </tbody>\n",
              "</table>\n",
              "<p>164 rows × 3 columns</p>\n",
              "</div>"
            ],
            "text/plain": [
              "    Nome do País  Número de Jogadores  Soma das idades\n",
              "0      Argentina                  937                0\n",
              "1       Portugal                  322                0\n",
              "2         Brazil                  827                0\n",
              "3          Spain                 1072                0\n",
              "4        Belgium                  260                0\n",
              "..           ...                  ...              ...\n",
              "159        Malta                    1                0\n",
              "160       Belize                    1                0\n",
              "161  South Sudan                    1                0\n",
              "162    Indonesia                    1                0\n",
              "163     Botswana                    1                0\n",
              "\n",
              "[164 rows x 3 columns]"
            ]
          },
          "metadata": {
            "tags": []
          },
          "execution_count": 59
        }
      ]
    },
    {
      "cell_type": "code",
      "metadata": {
        "id": "cZbbpDQeo4uF"
      },
      "source": [
        "# Calculando a média de idade dos jogadores por país \"na unha\" (sem usar 'groupby'):\n",
        "\n",
        "# df_nat_age.shape[0]       # 18207\n",
        "# df_nationality2.shape[0]   # 164\n",
        "\n",
        "df_nationality2 = pd.DataFrame({'Nome do País': d_nationality.keys(), 'Número de Jogadores' : d_nationality.values(), 'Soma das idades': 0})\n",
        "linha_1 = 0\n",
        "while linha_1 < df_nationality2.shape[0]: # 164\n",
        "  soma_age = 0\n",
        "  linha_2 = 0\n",
        "  while linha_2 < df_nat_age.shape[0]:  # 18207\n",
        "    if df_nat_age.iat[linha_2,0] == df_nationality2.iat[linha_1,0]:\n",
        "      soma_age = soma_age + df_nat_age.iat[linha_2,1]\n",
        "    linha_2 = linha_2 + 1\n",
        "  df_nationality2.iat[linha_1,2] = soma_age\n",
        "  linha_1 = linha_1 + 1\n",
        "  "
      ],
      "execution_count": null,
      "outputs": []
    },
    {
      "cell_type": "code",
      "metadata": {
        "id": "RHAcpktpR84g",
        "outputId": "d77fa747-938f-4d90-bb45-3d1847f9e554",
        "colab": {
          "base_uri": "https://localhost:8080/",
          "height": 419
        }
      },
      "source": [
        "df_nationality2"
      ],
      "execution_count": null,
      "outputs": [
        {
          "output_type": "execute_result",
          "data": {
            "text/html": [
              "<div>\n",
              "<style scoped>\n",
              "    .dataframe tbody tr th:only-of-type {\n",
              "        vertical-align: middle;\n",
              "    }\n",
              "\n",
              "    .dataframe tbody tr th {\n",
              "        vertical-align: top;\n",
              "    }\n",
              "\n",
              "    .dataframe thead th {\n",
              "        text-align: right;\n",
              "    }\n",
              "</style>\n",
              "<table border=\"1\" class=\"dataframe\">\n",
              "  <thead>\n",
              "    <tr style=\"text-align: right;\">\n",
              "      <th></th>\n",
              "      <th>Nome do País</th>\n",
              "      <th>Número de Jogadores</th>\n",
              "      <th>Soma das idades</th>\n",
              "    </tr>\n",
              "  </thead>\n",
              "  <tbody>\n",
              "    <tr>\n",
              "      <th>0</th>\n",
              "      <td>Argentina</td>\n",
              "      <td>937</td>\n",
              "      <td>24555</td>\n",
              "    </tr>\n",
              "    <tr>\n",
              "      <th>1</th>\n",
              "      <td>Portugal</td>\n",
              "      <td>322</td>\n",
              "      <td>8295</td>\n",
              "    </tr>\n",
              "    <tr>\n",
              "      <th>2</th>\n",
              "      <td>Brazil</td>\n",
              "      <td>827</td>\n",
              "      <td>22846</td>\n",
              "    </tr>\n",
              "    <tr>\n",
              "      <th>3</th>\n",
              "      <td>Spain</td>\n",
              "      <td>1072</td>\n",
              "      <td>27149</td>\n",
              "    </tr>\n",
              "    <tr>\n",
              "      <th>4</th>\n",
              "      <td>Belgium</td>\n",
              "      <td>260</td>\n",
              "      <td>6327</td>\n",
              "    </tr>\n",
              "    <tr>\n",
              "      <th>...</th>\n",
              "      <td>...</td>\n",
              "      <td>...</td>\n",
              "      <td>...</td>\n",
              "    </tr>\n",
              "    <tr>\n",
              "      <th>159</th>\n",
              "      <td>Malta</td>\n",
              "      <td>1</td>\n",
              "      <td>25</td>\n",
              "    </tr>\n",
              "    <tr>\n",
              "      <th>160</th>\n",
              "      <td>Belize</td>\n",
              "      <td>1</td>\n",
              "      <td>25</td>\n",
              "    </tr>\n",
              "    <tr>\n",
              "      <th>161</th>\n",
              "      <td>South Sudan</td>\n",
              "      <td>1</td>\n",
              "      <td>25</td>\n",
              "    </tr>\n",
              "    <tr>\n",
              "      <th>162</th>\n",
              "      <td>Indonesia</td>\n",
              "      <td>1</td>\n",
              "      <td>17</td>\n",
              "    </tr>\n",
              "    <tr>\n",
              "      <th>163</th>\n",
              "      <td>Botswana</td>\n",
              "      <td>1</td>\n",
              "      <td>20</td>\n",
              "    </tr>\n",
              "  </tbody>\n",
              "</table>\n",
              "<p>164 rows × 3 columns</p>\n",
              "</div>"
            ],
            "text/plain": [
              "    Nome do País  Número de Jogadores  Soma das idades\n",
              "0      Argentina                  937            24555\n",
              "1       Portugal                  322             8295\n",
              "2         Brazil                  827            22846\n",
              "3          Spain                 1072            27149\n",
              "4        Belgium                  260             6327\n",
              "..           ...                  ...              ...\n",
              "159        Malta                    1               25\n",
              "160       Belize                    1               25\n",
              "161  South Sudan                    1               25\n",
              "162    Indonesia                    1               17\n",
              "163     Botswana                    1               20\n",
              "\n",
              "[164 rows x 3 columns]"
            ]
          },
          "metadata": {
            "tags": []
          },
          "execution_count": 61
        }
      ]
    },
    {
      "cell_type": "code",
      "metadata": {
        "id": "IVp0vte-Or7O",
        "outputId": "61b0e1fc-e9cc-46dc-cf18-124751c78cf2",
        "colab": {
          "base_uri": "https://localhost:8080/",
          "height": 221
        }
      },
      "source": [
        "df_nationality2['Nome do País'] == 'Afghanistan'"
      ],
      "execution_count": null,
      "outputs": [
        {
          "output_type": "execute_result",
          "data": {
            "text/plain": [
              "0      False\n",
              "1      False\n",
              "2      False\n",
              "3      False\n",
              "4      False\n",
              "       ...  \n",
              "159    False\n",
              "160    False\n",
              "161    False\n",
              "162    False\n",
              "163    False\n",
              "Name: Nome do País, Length: 164, dtype: bool"
            ]
          },
          "metadata": {
            "tags": []
          },
          "execution_count": 131
        }
      ]
    },
    {
      "cell_type": "code",
      "metadata": {
        "id": "4zjF0bCoPu9v",
        "outputId": "cbb49ebb-0e73-4c19-bc56-7df6785840a4",
        "colab": {
          "base_uri": "https://localhost:8080/",
          "height": 80
        }
      },
      "source": [
        "df_nationality2[_131]"
      ],
      "execution_count": null,
      "outputs": [
        {
          "output_type": "execute_result",
          "data": {
            "text/html": [
              "<div>\n",
              "<style scoped>\n",
              "    .dataframe tbody tr th:only-of-type {\n",
              "        vertical-align: middle;\n",
              "    }\n",
              "\n",
              "    .dataframe tbody tr th {\n",
              "        vertical-align: top;\n",
              "    }\n",
              "\n",
              "    .dataframe thead th {\n",
              "        text-align: right;\n",
              "    }\n",
              "</style>\n",
              "<table border=\"1\" class=\"dataframe\">\n",
              "  <thead>\n",
              "    <tr style=\"text-align: right;\">\n",
              "      <th></th>\n",
              "      <th>Nome do País</th>\n",
              "      <th>Número de Jogadores</th>\n",
              "      <th>Soma das idades</th>\n",
              "      <th>Média_Idade</th>\n",
              "    </tr>\n",
              "  </thead>\n",
              "  <tbody>\n",
              "    <tr>\n",
              "      <th>109</th>\n",
              "      <td>Afghanistan</td>\n",
              "      <td>4</td>\n",
              "      <td>90</td>\n",
              "      <td>22.5</td>\n",
              "    </tr>\n",
              "  </tbody>\n",
              "</table>\n",
              "</div>"
            ],
            "text/plain": [
              "    Nome do País  Número de Jogadores  Soma das idades  Média_Idade\n",
              "109  Afghanistan                    4               90         22.5"
            ]
          },
          "metadata": {
            "tags": []
          },
          "execution_count": 133
        }
      ]
    },
    {
      "cell_type": "code",
      "metadata": {
        "id": "x6NsWFKEpWz9"
      },
      "source": [
        "df_nationality2['Média Idade por país'] = round(df_nationality2['Soma das idades'] / df_nationality2['Número de Jogadores'], 2)"
      ],
      "execution_count": null,
      "outputs": []
    },
    {
      "cell_type": "code",
      "metadata": {
        "id": "JlGeMditwXRg",
        "outputId": "c781e4d4-fece-4c13-a82c-596c374ceb05",
        "colab": {
          "base_uri": "https://localhost:8080/",
          "height": 419
        }
      },
      "source": [
        "df_nationality2"
      ],
      "execution_count": null,
      "outputs": [
        {
          "output_type": "execute_result",
          "data": {
            "text/html": [
              "<div>\n",
              "<style scoped>\n",
              "    .dataframe tbody tr th:only-of-type {\n",
              "        vertical-align: middle;\n",
              "    }\n",
              "\n",
              "    .dataframe tbody tr th {\n",
              "        vertical-align: top;\n",
              "    }\n",
              "\n",
              "    .dataframe thead th {\n",
              "        text-align: right;\n",
              "    }\n",
              "</style>\n",
              "<table border=\"1\" class=\"dataframe\">\n",
              "  <thead>\n",
              "    <tr style=\"text-align: right;\">\n",
              "      <th></th>\n",
              "      <th>Nome do País</th>\n",
              "      <th>Número de Jogadores</th>\n",
              "      <th>Soma das idades</th>\n",
              "      <th>Média Idade por país</th>\n",
              "    </tr>\n",
              "  </thead>\n",
              "  <tbody>\n",
              "    <tr>\n",
              "      <th>0</th>\n",
              "      <td>Argentina</td>\n",
              "      <td>937</td>\n",
              "      <td>24555</td>\n",
              "      <td>26.21</td>\n",
              "    </tr>\n",
              "    <tr>\n",
              "      <th>1</th>\n",
              "      <td>Portugal</td>\n",
              "      <td>322</td>\n",
              "      <td>8295</td>\n",
              "      <td>25.76</td>\n",
              "    </tr>\n",
              "    <tr>\n",
              "      <th>2</th>\n",
              "      <td>Brazil</td>\n",
              "      <td>827</td>\n",
              "      <td>22846</td>\n",
              "      <td>27.63</td>\n",
              "    </tr>\n",
              "    <tr>\n",
              "      <th>3</th>\n",
              "      <td>Spain</td>\n",
              "      <td>1072</td>\n",
              "      <td>27149</td>\n",
              "      <td>25.33</td>\n",
              "    </tr>\n",
              "    <tr>\n",
              "      <th>4</th>\n",
              "      <td>Belgium</td>\n",
              "      <td>260</td>\n",
              "      <td>6327</td>\n",
              "      <td>24.33</td>\n",
              "    </tr>\n",
              "    <tr>\n",
              "      <th>...</th>\n",
              "      <td>...</td>\n",
              "      <td>...</td>\n",
              "      <td>...</td>\n",
              "      <td>...</td>\n",
              "    </tr>\n",
              "    <tr>\n",
              "      <th>159</th>\n",
              "      <td>Malta</td>\n",
              "      <td>1</td>\n",
              "      <td>25</td>\n",
              "      <td>25.00</td>\n",
              "    </tr>\n",
              "    <tr>\n",
              "      <th>160</th>\n",
              "      <td>Belize</td>\n",
              "      <td>1</td>\n",
              "      <td>25</td>\n",
              "      <td>25.00</td>\n",
              "    </tr>\n",
              "    <tr>\n",
              "      <th>161</th>\n",
              "      <td>South Sudan</td>\n",
              "      <td>1</td>\n",
              "      <td>25</td>\n",
              "      <td>25.00</td>\n",
              "    </tr>\n",
              "    <tr>\n",
              "      <th>162</th>\n",
              "      <td>Indonesia</td>\n",
              "      <td>1</td>\n",
              "      <td>17</td>\n",
              "      <td>17.00</td>\n",
              "    </tr>\n",
              "    <tr>\n",
              "      <th>163</th>\n",
              "      <td>Botswana</td>\n",
              "      <td>1</td>\n",
              "      <td>20</td>\n",
              "      <td>20.00</td>\n",
              "    </tr>\n",
              "  </tbody>\n",
              "</table>\n",
              "<p>164 rows × 4 columns</p>\n",
              "</div>"
            ],
            "text/plain": [
              "    Nome do País  Número de Jogadores  Soma das idades  Média Idade por país\n",
              "0      Argentina                  937            24555                 26.21\n",
              "1       Portugal                  322             8295                 25.76\n",
              "2         Brazil                  827            22846                 27.63\n",
              "3          Spain                 1072            27149                 25.33\n",
              "4        Belgium                  260             6327                 24.33\n",
              "..           ...                  ...              ...                   ...\n",
              "159        Malta                    1               25                 25.00\n",
              "160       Belize                    1               25                 25.00\n",
              "161  South Sudan                    1               25                 25.00\n",
              "162    Indonesia                    1               17                 17.00\n",
              "163     Botswana                    1               20                 20.00\n",
              "\n",
              "[164 rows x 4 columns]"
            ]
          },
          "metadata": {
            "tags": []
          },
          "execution_count": 63
        }
      ]
    },
    {
      "cell_type": "code",
      "metadata": {
        "id": "19NRDAXqqWRI"
      },
      "source": [
        "df_nationality2.sort_values(by=['Número de Jogadores'], ascending= False, inplace= True, ignore_index= True)"
      ],
      "execution_count": null,
      "outputs": []
    },
    {
      "cell_type": "code",
      "metadata": {
        "id": "Gk5ksFBjqfkc",
        "outputId": "8d45a236-6e36-4e73-dd55-418297735eee",
        "colab": {
          "base_uri": "https://localhost:8080/",
          "height": 419
        }
      },
      "source": [
        "df_nationality2"
      ],
      "execution_count": null,
      "outputs": [
        {
          "output_type": "execute_result",
          "data": {
            "text/html": [
              "<div>\n",
              "<style scoped>\n",
              "    .dataframe tbody tr th:only-of-type {\n",
              "        vertical-align: middle;\n",
              "    }\n",
              "\n",
              "    .dataframe tbody tr th {\n",
              "        vertical-align: top;\n",
              "    }\n",
              "\n",
              "    .dataframe thead th {\n",
              "        text-align: right;\n",
              "    }\n",
              "</style>\n",
              "<table border=\"1\" class=\"dataframe\">\n",
              "  <thead>\n",
              "    <tr style=\"text-align: right;\">\n",
              "      <th></th>\n",
              "      <th>Nome do País</th>\n",
              "      <th>Número de Jogadores</th>\n",
              "      <th>Soma das idades</th>\n",
              "      <th>Média Idade por país</th>\n",
              "    </tr>\n",
              "  </thead>\n",
              "  <tbody>\n",
              "    <tr>\n",
              "      <th>0</th>\n",
              "      <td>England</td>\n",
              "      <td>1662</td>\n",
              "      <td>39938</td>\n",
              "      <td>24.03</td>\n",
              "    </tr>\n",
              "    <tr>\n",
              "      <th>1</th>\n",
              "      <td>Germany</td>\n",
              "      <td>1198</td>\n",
              "      <td>29157</td>\n",
              "      <td>24.34</td>\n",
              "    </tr>\n",
              "    <tr>\n",
              "      <th>2</th>\n",
              "      <td>Spain</td>\n",
              "      <td>1072</td>\n",
              "      <td>27149</td>\n",
              "      <td>25.33</td>\n",
              "    </tr>\n",
              "    <tr>\n",
              "      <th>3</th>\n",
              "      <td>Argentina</td>\n",
              "      <td>937</td>\n",
              "      <td>24555</td>\n",
              "      <td>26.21</td>\n",
              "    </tr>\n",
              "    <tr>\n",
              "      <th>4</th>\n",
              "      <td>France</td>\n",
              "      <td>914</td>\n",
              "      <td>22499</td>\n",
              "      <td>24.62</td>\n",
              "    </tr>\n",
              "    <tr>\n",
              "      <th>...</th>\n",
              "      <td>...</td>\n",
              "      <td>...</td>\n",
              "      <td>...</td>\n",
              "      <td>...</td>\n",
              "    </tr>\n",
              "    <tr>\n",
              "      <th>159</th>\n",
              "      <td>New Caledonia</td>\n",
              "      <td>1</td>\n",
              "      <td>30</td>\n",
              "      <td>30.00</td>\n",
              "    </tr>\n",
              "    <tr>\n",
              "      <th>160</th>\n",
              "      <td>Fiji</td>\n",
              "      <td>1</td>\n",
              "      <td>30</td>\n",
              "      <td>30.00</td>\n",
              "    </tr>\n",
              "    <tr>\n",
              "      <th>161</th>\n",
              "      <td>São Tomé &amp; Príncipe</td>\n",
              "      <td>1</td>\n",
              "      <td>31</td>\n",
              "      <td>31.00</td>\n",
              "    </tr>\n",
              "    <tr>\n",
              "      <th>162</th>\n",
              "      <td>United Arab Emirates</td>\n",
              "      <td>1</td>\n",
              "      <td>26</td>\n",
              "      <td>26.00</td>\n",
              "    </tr>\n",
              "    <tr>\n",
              "      <th>163</th>\n",
              "      <td>Botswana</td>\n",
              "      <td>1</td>\n",
              "      <td>20</td>\n",
              "      <td>20.00</td>\n",
              "    </tr>\n",
              "  </tbody>\n",
              "</table>\n",
              "<p>164 rows × 4 columns</p>\n",
              "</div>"
            ],
            "text/plain": [
              "             Nome do País  ...  Média Idade por país\n",
              "0                 England  ...                 24.03\n",
              "1                 Germany  ...                 24.34\n",
              "2                   Spain  ...                 25.33\n",
              "3               Argentina  ...                 26.21\n",
              "4                  France  ...                 24.62\n",
              "..                    ...  ...                   ...\n",
              "159         New Caledonia  ...                 30.00\n",
              "160                  Fiji  ...                 30.00\n",
              "161   São Tomé & Príncipe  ...                 31.00\n",
              "162  United Arab Emirates  ...                 26.00\n",
              "163              Botswana  ...                 20.00\n",
              "\n",
              "[164 rows x 4 columns]"
            ]
          },
          "metadata": {
            "tags": []
          },
          "execution_count": 65
        }
      ]
    },
    {
      "cell_type": "code",
      "metadata": {
        "id": "64uiYe9ANsBD"
      },
      "source": [
        "# Calculando o mesmo exercício 9.17 (média de idade dos jogadores por país) usando o groupby\n",
        "nat_age_soma = df_Fifa.groupby('Nationality')['Age'].sum()"
      ],
      "execution_count": null,
      "outputs": []
    },
    {
      "cell_type": "code",
      "metadata": {
        "id": "TtEIveA7RRX3",
        "outputId": "ddca0ac2-526d-486b-feda-a026338a317b",
        "colab": {
          "base_uri": "https://localhost:8080/",
          "height": 119
        }
      },
      "source": [
        "nat_age_soma.index"
      ],
      "execution_count": null,
      "outputs": [
        {
          "output_type": "execute_result",
          "data": {
            "text/plain": [
              "Index(['Afghanistan', 'Albania', 'Algeria', 'Andorra', 'Angola',\n",
              "       'Antigua & Barbuda', 'Argentina', 'Armenia', 'Australia', 'Austria',\n",
              "       ...\n",
              "       'Uganda', 'Ukraine', 'United Arab Emirates', 'United States', 'Uruguay',\n",
              "       'Uzbekistan', 'Venezuela', 'Wales', 'Zambia', 'Zimbabwe'],\n",
              "      dtype='object', name='Nationality', length=164)"
            ]
          },
          "metadata": {
            "tags": []
          },
          "execution_count": 71
        }
      ]
    },
    {
      "cell_type": "code",
      "metadata": {
        "id": "QyxPziXWRnu_",
        "outputId": "60e70200-92a4-42c8-837a-8d8384d141d3",
        "colab": {
          "base_uri": "https://localhost:8080/",
          "height": 340
        }
      },
      "source": [
        "nat_age_soma.values"
      ],
      "execution_count": null,
      "outputs": [
        {
          "output_type": "execute_result",
          "data": {
            "text/plain": [
              "array([   90,   961,  1623,    28,   388,    91, 24555,   268,  5760,\n",
              "        7347,   130,    83,   115,  6327,    25,   391,    55,   766,\n",
              "        1586,    20, 22846,   859,   402,    70,  2210,  1552,   521,\n",
              "          77,    45,  9804, 10225, 15599,   159,   599,   792,  3135,\n",
              "          95,   355,   192,  2676,  1339,  8113,    46,  1082,   836,\n",
              "         131, 39938,   127,    54,   353,    32,   502,   145,    30,\n",
              "        1659, 22499,   391,   348,   625, 29157,  2697,  2497,    25,\n",
              "          30,    80,   765,   347,    82,   239,   429,    56,   970,\n",
              "        1216,   748,    17,   429,   176,   395, 18202,  2518,   900,\n",
              "       12504,    23,   105,   248,   114,  8828,   774,    31,   174,\n",
              "          29,    25,   100,    76,   199,   186,   330,  1064,    25,\n",
              "          92,    26,  8901,   118,   575,   102,  2201,   104,    74,\n",
              "       10872,    30,  1067,    58,    74,  2791,  1995,  8202,    36,\n",
              "          31,   396,  2218,   957,    47,  8596,  8295,    34,    24,\n",
              "        9078,  1372,  1972,    21,  8350,  7131,  3297,  3231,   149,\n",
              "        1419,  1456,  1876,    25, 27149,    79,    24,    79,   101,\n",
              "        9861,  5421,   234,    31,    66,   125,   339,   127,   847,\n",
              "        7488,   143,  1835,    26,  8857,  3965,    59,  1629,  3191,\n",
              "         200,   349])"
            ]
          },
          "metadata": {
            "tags": []
          },
          "execution_count": 72
        }
      ]
    },
    {
      "cell_type": "code",
      "metadata": {
        "id": "PZfsrbGsSVrX"
      },
      "source": [
        "nat_nat_numjog = df_Fifa.groupby('Nationality')['Nationality'].count()"
      ],
      "execution_count": null,
      "outputs": []
    },
    {
      "cell_type": "code",
      "metadata": {
        "id": "CzNcWpr6SgFw",
        "outputId": "b19c2c7d-d6e0-4187-e62d-02addc189fa4",
        "colab": {
          "base_uri": "https://localhost:8080/",
          "height": 119
        }
      },
      "source": [
        "nat_nat_numjog.index"
      ],
      "execution_count": null,
      "outputs": [
        {
          "output_type": "execute_result",
          "data": {
            "text/plain": [
              "Index(['Afghanistan', 'Albania', 'Algeria', 'Andorra', 'Angola',\n",
              "       'Antigua & Barbuda', 'Argentina', 'Armenia', 'Australia', 'Austria',\n",
              "       ...\n",
              "       'Uganda', 'Ukraine', 'United Arab Emirates', 'United States', 'Uruguay',\n",
              "       'Uzbekistan', 'Venezuela', 'Wales', 'Zambia', 'Zimbabwe'],\n",
              "      dtype='object', name='Nationality', length=164)"
            ]
          },
          "metadata": {
            "tags": []
          },
          "execution_count": 76
        }
      ]
    },
    {
      "cell_type": "code",
      "metadata": {
        "id": "KFtZT5L7SpCf",
        "outputId": "de83e900-b408-430a-c52d-874cfa201c1a",
        "colab": {
          "base_uri": "https://localhost:8080/",
          "height": 272
        }
      },
      "source": [
        "nat_nat_numjog.values"
      ],
      "execution_count": null,
      "outputs": [
        {
          "output_type": "execute_result",
          "data": {
            "text/plain": [
              "array([   4,   40,   60,    1,   15,    4,  937,   10,  236,  298,    5,\n",
              "          3,    4,  260,    1,   15,    2,   30,   61,    1,  827,   32,\n",
              "         16,    3,   90,   64,   19,    3,    2,  391,  392,  618,    6,\n",
              "         25,   30,  126,    4,   14,    8,  100,   52,  336,    2,   43,\n",
              "         31,    5, 1662,    5,    2,   13,    1,   20,    6,    1,   67,\n",
              "        914,   15,   15,   26, 1198,  114,  102,    1,    1,    3,   31,\n",
              "         15,    3,   10,   16,    2,   38,   47,   30,    1,   17,    7,\n",
              "         14,  702,  100,   32,  478,    1,    4,   10,    4,  335,   33,\n",
              "          1,    6,    1,    1,    4,    3,    8,    8,   12,   43,    1,\n",
              "          4,    1,  366,    5,   23,    4,   85,    4,    3,  453,    1,\n",
              "         44,    2,    3,  121,   80,  341,    1,    1,   15,   85,   37,\n",
              "          2,  350,  322,    1,    1,  368,   54,   79,    1,  340,  286,\n",
              "        130,  126,    6,   54,   55,   71,    1, 1072,    3,    1,    3,\n",
              "          4,  397,  220,    9,    1,    3,    5,   12,    4,   32,  303,\n",
              "          6,   73,    1,  353,  149,    2,   67,  129,    9,   13])"
            ]
          },
          "metadata": {
            "tags": []
          },
          "execution_count": 77
        }
      ]
    },
    {
      "cell_type": "code",
      "metadata": {
        "id": "u78L80wFSsrj"
      },
      "source": [
        "nat_numjog_somaidade = pd.DataFrame({'Nationality': nat_nat_numjog.index, 'Num Jogadores': nat_nat_numjog.values, 'Somatória Idade': nat_age_soma.values})"
      ],
      "execution_count": null,
      "outputs": []
    },
    {
      "cell_type": "code",
      "metadata": {
        "id": "McMnNOYaUFnO",
        "outputId": "29deda25-b443-4a5c-c1e8-b1625f6dcf0c",
        "colab": {
          "base_uri": "https://localhost:8080/",
          "height": 419
        }
      },
      "source": [
        "nat_numjog_somaidade"
      ],
      "execution_count": null,
      "outputs": [
        {
          "output_type": "execute_result",
          "data": {
            "text/html": [
              "<div>\n",
              "<style scoped>\n",
              "    .dataframe tbody tr th:only-of-type {\n",
              "        vertical-align: middle;\n",
              "    }\n",
              "\n",
              "    .dataframe tbody tr th {\n",
              "        vertical-align: top;\n",
              "    }\n",
              "\n",
              "    .dataframe thead th {\n",
              "        text-align: right;\n",
              "    }\n",
              "</style>\n",
              "<table border=\"1\" class=\"dataframe\">\n",
              "  <thead>\n",
              "    <tr style=\"text-align: right;\">\n",
              "      <th></th>\n",
              "      <th>Nationality</th>\n",
              "      <th>Num jogadores</th>\n",
              "      <th>Somatória Idade</th>\n",
              "    </tr>\n",
              "  </thead>\n",
              "  <tbody>\n",
              "    <tr>\n",
              "      <th>0</th>\n",
              "      <td>Afghanistan</td>\n",
              "      <td>4</td>\n",
              "      <td>90</td>\n",
              "    </tr>\n",
              "    <tr>\n",
              "      <th>1</th>\n",
              "      <td>Albania</td>\n",
              "      <td>40</td>\n",
              "      <td>961</td>\n",
              "    </tr>\n",
              "    <tr>\n",
              "      <th>2</th>\n",
              "      <td>Algeria</td>\n",
              "      <td>60</td>\n",
              "      <td>1623</td>\n",
              "    </tr>\n",
              "    <tr>\n",
              "      <th>3</th>\n",
              "      <td>Andorra</td>\n",
              "      <td>1</td>\n",
              "      <td>28</td>\n",
              "    </tr>\n",
              "    <tr>\n",
              "      <th>4</th>\n",
              "      <td>Angola</td>\n",
              "      <td>15</td>\n",
              "      <td>388</td>\n",
              "    </tr>\n",
              "    <tr>\n",
              "      <th>...</th>\n",
              "      <td>...</td>\n",
              "      <td>...</td>\n",
              "      <td>...</td>\n",
              "    </tr>\n",
              "    <tr>\n",
              "      <th>159</th>\n",
              "      <td>Uzbekistan</td>\n",
              "      <td>2</td>\n",
              "      <td>59</td>\n",
              "    </tr>\n",
              "    <tr>\n",
              "      <th>160</th>\n",
              "      <td>Venezuela</td>\n",
              "      <td>67</td>\n",
              "      <td>1629</td>\n",
              "    </tr>\n",
              "    <tr>\n",
              "      <th>161</th>\n",
              "      <td>Wales</td>\n",
              "      <td>129</td>\n",
              "      <td>3191</td>\n",
              "    </tr>\n",
              "    <tr>\n",
              "      <th>162</th>\n",
              "      <td>Zambia</td>\n",
              "      <td>9</td>\n",
              "      <td>200</td>\n",
              "    </tr>\n",
              "    <tr>\n",
              "      <th>163</th>\n",
              "      <td>Zimbabwe</td>\n",
              "      <td>13</td>\n",
              "      <td>349</td>\n",
              "    </tr>\n",
              "  </tbody>\n",
              "</table>\n",
              "<p>164 rows × 3 columns</p>\n",
              "</div>"
            ],
            "text/plain": [
              "     Nationality  Num jogadores  Somatória Idade\n",
              "0    Afghanistan              4               90\n",
              "1        Albania             40              961\n",
              "2        Algeria             60             1623\n",
              "3        Andorra              1               28\n",
              "4         Angola             15              388\n",
              "..           ...            ...              ...\n",
              "159   Uzbekistan              2               59\n",
              "160    Venezuela             67             1629\n",
              "161        Wales            129             3191\n",
              "162       Zambia              9              200\n",
              "163     Zimbabwe             13              349\n",
              "\n",
              "[164 rows x 3 columns]"
            ]
          },
          "metadata": {
            "tags": []
          },
          "execution_count": 79
        }
      ]
    },
    {
      "cell_type": "code",
      "metadata": {
        "id": "cYpxAbE_UIbv"
      },
      "source": [
        "nat_numjog_somaidade['Média Idade dos jogadores por país'] = nat_numjog_somaidade['Somatória Idade'] / nat_numjog_somaidade['Num Jogadores']"
      ],
      "execution_count": null,
      "outputs": []
    },
    {
      "cell_type": "code",
      "metadata": {
        "id": "td8jz5_BUca_",
        "outputId": "b0ffaca6-d17f-430c-95e7-7d856409ca9b",
        "colab": {
          "base_uri": "https://localhost:8080/",
          "height": 419
        }
      },
      "source": [
        "nat_numjog_somaidade"
      ],
      "execution_count": null,
      "outputs": [
        {
          "output_type": "execute_result",
          "data": {
            "text/html": [
              "<div>\n",
              "<style scoped>\n",
              "    .dataframe tbody tr th:only-of-type {\n",
              "        vertical-align: middle;\n",
              "    }\n",
              "\n",
              "    .dataframe tbody tr th {\n",
              "        vertical-align: top;\n",
              "    }\n",
              "\n",
              "    .dataframe thead th {\n",
              "        text-align: right;\n",
              "    }\n",
              "</style>\n",
              "<table border=\"1\" class=\"dataframe\">\n",
              "  <thead>\n",
              "    <tr style=\"text-align: right;\">\n",
              "      <th></th>\n",
              "      <th>Nationality</th>\n",
              "      <th>Num Jogadores</th>\n",
              "      <th>Somatória Idade</th>\n",
              "      <th>Média Idade dos jogadores por país</th>\n",
              "    </tr>\n",
              "  </thead>\n",
              "  <tbody>\n",
              "    <tr>\n",
              "      <th>0</th>\n",
              "      <td>Afghanistan</td>\n",
              "      <td>4</td>\n",
              "      <td>90</td>\n",
              "      <td>22.500000</td>\n",
              "    </tr>\n",
              "    <tr>\n",
              "      <th>1</th>\n",
              "      <td>Albania</td>\n",
              "      <td>40</td>\n",
              "      <td>961</td>\n",
              "      <td>24.025000</td>\n",
              "    </tr>\n",
              "    <tr>\n",
              "      <th>2</th>\n",
              "      <td>Algeria</td>\n",
              "      <td>60</td>\n",
              "      <td>1623</td>\n",
              "      <td>27.050000</td>\n",
              "    </tr>\n",
              "    <tr>\n",
              "      <th>3</th>\n",
              "      <td>Andorra</td>\n",
              "      <td>1</td>\n",
              "      <td>28</td>\n",
              "      <td>28.000000</td>\n",
              "    </tr>\n",
              "    <tr>\n",
              "      <th>4</th>\n",
              "      <td>Angola</td>\n",
              "      <td>15</td>\n",
              "      <td>388</td>\n",
              "      <td>25.866667</td>\n",
              "    </tr>\n",
              "    <tr>\n",
              "      <th>...</th>\n",
              "      <td>...</td>\n",
              "      <td>...</td>\n",
              "      <td>...</td>\n",
              "      <td>...</td>\n",
              "    </tr>\n",
              "    <tr>\n",
              "      <th>159</th>\n",
              "      <td>Uzbekistan</td>\n",
              "      <td>2</td>\n",
              "      <td>59</td>\n",
              "      <td>29.500000</td>\n",
              "    </tr>\n",
              "    <tr>\n",
              "      <th>160</th>\n",
              "      <td>Venezuela</td>\n",
              "      <td>67</td>\n",
              "      <td>1629</td>\n",
              "      <td>24.313433</td>\n",
              "    </tr>\n",
              "    <tr>\n",
              "      <th>161</th>\n",
              "      <td>Wales</td>\n",
              "      <td>129</td>\n",
              "      <td>3191</td>\n",
              "      <td>24.736434</td>\n",
              "    </tr>\n",
              "    <tr>\n",
              "      <th>162</th>\n",
              "      <td>Zambia</td>\n",
              "      <td>9</td>\n",
              "      <td>200</td>\n",
              "      <td>22.222222</td>\n",
              "    </tr>\n",
              "    <tr>\n",
              "      <th>163</th>\n",
              "      <td>Zimbabwe</td>\n",
              "      <td>13</td>\n",
              "      <td>349</td>\n",
              "      <td>26.846154</td>\n",
              "    </tr>\n",
              "  </tbody>\n",
              "</table>\n",
              "<p>164 rows × 4 columns</p>\n",
              "</div>"
            ],
            "text/plain": [
              "     Nationality  ...  Média Idade dos jogadores por país\n",
              "0    Afghanistan  ...                           22.500000\n",
              "1        Albania  ...                           24.025000\n",
              "2        Algeria  ...                           27.050000\n",
              "3        Andorra  ...                           28.000000\n",
              "4         Angola  ...                           25.866667\n",
              "..           ...  ...                                 ...\n",
              "159   Uzbekistan  ...                           29.500000\n",
              "160    Venezuela  ...                           24.313433\n",
              "161        Wales  ...                           24.736434\n",
              "162       Zambia  ...                           22.222222\n",
              "163     Zimbabwe  ...                           26.846154\n",
              "\n",
              "[164 rows x 4 columns]"
            ]
          },
          "metadata": {
            "tags": []
          },
          "execution_count": 83
        }
      ]
    },
    {
      "cell_type": "code",
      "metadata": {
        "id": "K-RD66KyUrnT"
      },
      "source": [
        ""
      ],
      "execution_count": null,
      "outputs": []
    },
    {
      "cell_type": "code",
      "metadata": {
        "id": "pG-RXABiN0aI"
      },
      "source": [
        "# df_Fifa.groupby('nationality')['nationality'].count()\n",
        "# nationality\n",
        "# Afghanistan      4\n",
        "\n",
        "# df_Fifa.groupby('nationality')['age'].sum()\n",
        "# nationality\n",
        "# Afghanistan      90\n",
        "\n",
        "\n"
      ],
      "execution_count": null,
      "outputs": []
    },
    {
      "cell_type": "code",
      "metadata": {
        "id": "nqbLVcPfQTQe",
        "outputId": "9f11cbed-3205-415f-eecc-57b89df1a7c3",
        "colab": {
          "base_uri": "https://localhost:8080/",
          "height": 544
        }
      },
      "source": [
        "# 8. Qual o número de jogadores por idade?\n",
        "\n",
        "df_Fifa.groupby('Age')['Age'].count()"
      ],
      "execution_count": null,
      "outputs": [
        {
          "output_type": "execute_result",
          "data": {
            "text/plain": [
              "Age\n",
              "16      42\n",
              "17     289\n",
              "18     732\n",
              "19    1024\n",
              "20    1240\n",
              "21    1423\n",
              "22    1340\n",
              "23    1332\n",
              "24    1358\n",
              "25    1319\n",
              "26    1387\n",
              "27    1162\n",
              "28    1101\n",
              "29     959\n",
              "30     917\n",
              "31     707\n",
              "32     574\n",
              "33     408\n",
              "34     404\n",
              "35     196\n",
              "36     127\n",
              "37      82\n",
              "38      37\n",
              "39      25\n",
              "40      13\n",
              "41       5\n",
              "42       1\n",
              "44       2\n",
              "45       1\n",
              "Name: Age, dtype: int64"
            ]
          },
          "metadata": {
            "tags": []
          },
          "execution_count": 84
        }
      ]
    },
    {
      "cell_type": "code",
      "metadata": {
        "id": "c8-ONyOxU4UV",
        "outputId": "f8098821-b344-4f4e-bba8-8fc33be0454c",
        "colab": {
          "base_uri": "https://localhost:8080/",
          "height": 948
        }
      },
      "source": [
        "df_numjog_idade = pd.DataFrame({'Idade':(df_Fifa.groupby('Age')['Age'].count()).index, 'Num Jogadores':(df_Fifa.groupby('Age')['Age'].count()).values})\n",
        "df_numjog_idade"
      ],
      "execution_count": null,
      "outputs": [
        {
          "output_type": "execute_result",
          "data": {
            "text/html": [
              "<div>\n",
              "<style scoped>\n",
              "    .dataframe tbody tr th:only-of-type {\n",
              "        vertical-align: middle;\n",
              "    }\n",
              "\n",
              "    .dataframe tbody tr th {\n",
              "        vertical-align: top;\n",
              "    }\n",
              "\n",
              "    .dataframe thead th {\n",
              "        text-align: right;\n",
              "    }\n",
              "</style>\n",
              "<table border=\"1\" class=\"dataframe\">\n",
              "  <thead>\n",
              "    <tr style=\"text-align: right;\">\n",
              "      <th></th>\n",
              "      <th>Idade</th>\n",
              "      <th>Num Jogadores</th>\n",
              "    </tr>\n",
              "  </thead>\n",
              "  <tbody>\n",
              "    <tr>\n",
              "      <th>0</th>\n",
              "      <td>16</td>\n",
              "      <td>42</td>\n",
              "    </tr>\n",
              "    <tr>\n",
              "      <th>1</th>\n",
              "      <td>17</td>\n",
              "      <td>289</td>\n",
              "    </tr>\n",
              "    <tr>\n",
              "      <th>2</th>\n",
              "      <td>18</td>\n",
              "      <td>732</td>\n",
              "    </tr>\n",
              "    <tr>\n",
              "      <th>3</th>\n",
              "      <td>19</td>\n",
              "      <td>1024</td>\n",
              "    </tr>\n",
              "    <tr>\n",
              "      <th>4</th>\n",
              "      <td>20</td>\n",
              "      <td>1240</td>\n",
              "    </tr>\n",
              "    <tr>\n",
              "      <th>5</th>\n",
              "      <td>21</td>\n",
              "      <td>1423</td>\n",
              "    </tr>\n",
              "    <tr>\n",
              "      <th>6</th>\n",
              "      <td>22</td>\n",
              "      <td>1340</td>\n",
              "    </tr>\n",
              "    <tr>\n",
              "      <th>7</th>\n",
              "      <td>23</td>\n",
              "      <td>1332</td>\n",
              "    </tr>\n",
              "    <tr>\n",
              "      <th>8</th>\n",
              "      <td>24</td>\n",
              "      <td>1358</td>\n",
              "    </tr>\n",
              "    <tr>\n",
              "      <th>9</th>\n",
              "      <td>25</td>\n",
              "      <td>1319</td>\n",
              "    </tr>\n",
              "    <tr>\n",
              "      <th>10</th>\n",
              "      <td>26</td>\n",
              "      <td>1387</td>\n",
              "    </tr>\n",
              "    <tr>\n",
              "      <th>11</th>\n",
              "      <td>27</td>\n",
              "      <td>1162</td>\n",
              "    </tr>\n",
              "    <tr>\n",
              "      <th>12</th>\n",
              "      <td>28</td>\n",
              "      <td>1101</td>\n",
              "    </tr>\n",
              "    <tr>\n",
              "      <th>13</th>\n",
              "      <td>29</td>\n",
              "      <td>959</td>\n",
              "    </tr>\n",
              "    <tr>\n",
              "      <th>14</th>\n",
              "      <td>30</td>\n",
              "      <td>917</td>\n",
              "    </tr>\n",
              "    <tr>\n",
              "      <th>15</th>\n",
              "      <td>31</td>\n",
              "      <td>707</td>\n",
              "    </tr>\n",
              "    <tr>\n",
              "      <th>16</th>\n",
              "      <td>32</td>\n",
              "      <td>574</td>\n",
              "    </tr>\n",
              "    <tr>\n",
              "      <th>17</th>\n",
              "      <td>33</td>\n",
              "      <td>408</td>\n",
              "    </tr>\n",
              "    <tr>\n",
              "      <th>18</th>\n",
              "      <td>34</td>\n",
              "      <td>404</td>\n",
              "    </tr>\n",
              "    <tr>\n",
              "      <th>19</th>\n",
              "      <td>35</td>\n",
              "      <td>196</td>\n",
              "    </tr>\n",
              "    <tr>\n",
              "      <th>20</th>\n",
              "      <td>36</td>\n",
              "      <td>127</td>\n",
              "    </tr>\n",
              "    <tr>\n",
              "      <th>21</th>\n",
              "      <td>37</td>\n",
              "      <td>82</td>\n",
              "    </tr>\n",
              "    <tr>\n",
              "      <th>22</th>\n",
              "      <td>38</td>\n",
              "      <td>37</td>\n",
              "    </tr>\n",
              "    <tr>\n",
              "      <th>23</th>\n",
              "      <td>39</td>\n",
              "      <td>25</td>\n",
              "    </tr>\n",
              "    <tr>\n",
              "      <th>24</th>\n",
              "      <td>40</td>\n",
              "      <td>13</td>\n",
              "    </tr>\n",
              "    <tr>\n",
              "      <th>25</th>\n",
              "      <td>41</td>\n",
              "      <td>5</td>\n",
              "    </tr>\n",
              "    <tr>\n",
              "      <th>26</th>\n",
              "      <td>42</td>\n",
              "      <td>1</td>\n",
              "    </tr>\n",
              "    <tr>\n",
              "      <th>27</th>\n",
              "      <td>44</td>\n",
              "      <td>2</td>\n",
              "    </tr>\n",
              "    <tr>\n",
              "      <th>28</th>\n",
              "      <td>45</td>\n",
              "      <td>1</td>\n",
              "    </tr>\n",
              "  </tbody>\n",
              "</table>\n",
              "</div>"
            ],
            "text/plain": [
              "    Idade  Num Jogadores\n",
              "0      16             42\n",
              "1      17            289\n",
              "2      18            732\n",
              "3      19           1024\n",
              "4      20           1240\n",
              "5      21           1423\n",
              "6      22           1340\n",
              "7      23           1332\n",
              "8      24           1358\n",
              "9      25           1319\n",
              "10     26           1387\n",
              "11     27           1162\n",
              "12     28           1101\n",
              "13     29            959\n",
              "14     30            917\n",
              "15     31            707\n",
              "16     32            574\n",
              "17     33            408\n",
              "18     34            404\n",
              "19     35            196\n",
              "20     36            127\n",
              "21     37             82\n",
              "22     38             37\n",
              "23     39             25\n",
              "24     40             13\n",
              "25     41              5\n",
              "26     42              1\n",
              "27     44              2\n",
              "28     45              1"
            ]
          },
          "metadata": {
            "tags": []
          },
          "execution_count": 85
        }
      ]
    },
    {
      "cell_type": "code",
      "metadata": {
        "id": "OwXRIcPLVw0I",
        "outputId": "07a71f7b-bfb9-4965-f29d-82db3f2b6ae9",
        "colab": {
          "base_uri": "https://localhost:8080/",
          "height": 180
        }
      },
      "source": [
        "# 9. Quantos jogadores possuem cada clube?\n",
        "\n",
        "df_Fifa.head(1)"
      ],
      "execution_count": null,
      "outputs": [
        {
          "output_type": "execute_result",
          "data": {
            "text/html": [
              "<div>\n",
              "<style scoped>\n",
              "    .dataframe tbody tr th:only-of-type {\n",
              "        vertical-align: middle;\n",
              "    }\n",
              "\n",
              "    .dataframe tbody tr th {\n",
              "        vertical-align: top;\n",
              "    }\n",
              "\n",
              "    .dataframe thead th {\n",
              "        text-align: right;\n",
              "    }\n",
              "</style>\n",
              "<table border=\"1\" class=\"dataframe\">\n",
              "  <thead>\n",
              "    <tr style=\"text-align: right;\">\n",
              "      <th></th>\n",
              "      <th>unnamed: 0</th>\n",
              "      <th>id</th>\n",
              "      <th>name</th>\n",
              "      <th>age</th>\n",
              "      <th>photo</th>\n",
              "      <th>nationality</th>\n",
              "      <th>flag</th>\n",
              "      <th>overall</th>\n",
              "      <th>potential</th>\n",
              "      <th>club</th>\n",
              "      <th>club logo</th>\n",
              "      <th>value</th>\n",
              "      <th>wage</th>\n",
              "      <th>special</th>\n",
              "      <th>preferred foot</th>\n",
              "      <th>international reputation</th>\n",
              "      <th>weak foot</th>\n",
              "      <th>skill moves</th>\n",
              "      <th>work rate</th>\n",
              "      <th>body type</th>\n",
              "      <th>real face</th>\n",
              "      <th>position</th>\n",
              "      <th>jersey number</th>\n",
              "      <th>joined</th>\n",
              "      <th>loaned from</th>\n",
              "      <th>contract valid until</th>\n",
              "      <th>height</th>\n",
              "      <th>weight</th>\n",
              "      <th>ls</th>\n",
              "      <th>st</th>\n",
              "      <th>rs</th>\n",
              "      <th>lw</th>\n",
              "      <th>lf</th>\n",
              "      <th>cf</th>\n",
              "      <th>rf</th>\n",
              "      <th>rw</th>\n",
              "      <th>lam</th>\n",
              "      <th>cam</th>\n",
              "      <th>ram</th>\n",
              "      <th>lm</th>\n",
              "      <th>...</th>\n",
              "      <th>lb</th>\n",
              "      <th>lcb</th>\n",
              "      <th>cb</th>\n",
              "      <th>rcb</th>\n",
              "      <th>rb</th>\n",
              "      <th>crossing</th>\n",
              "      <th>finishing</th>\n",
              "      <th>headingaccuracy</th>\n",
              "      <th>shortpassing</th>\n",
              "      <th>volleys</th>\n",
              "      <th>dribbling</th>\n",
              "      <th>curve</th>\n",
              "      <th>fkaccuracy</th>\n",
              "      <th>longpassing</th>\n",
              "      <th>ballcontrol</th>\n",
              "      <th>acceleration</th>\n",
              "      <th>sprintspeed</th>\n",
              "      <th>agility</th>\n",
              "      <th>reactions</th>\n",
              "      <th>balance</th>\n",
              "      <th>shotpower</th>\n",
              "      <th>jumping</th>\n",
              "      <th>stamina</th>\n",
              "      <th>strength</th>\n",
              "      <th>longshots</th>\n",
              "      <th>aggression</th>\n",
              "      <th>interceptions</th>\n",
              "      <th>positioning</th>\n",
              "      <th>vision</th>\n",
              "      <th>penalties</th>\n",
              "      <th>composure</th>\n",
              "      <th>marking</th>\n",
              "      <th>standingtackle</th>\n",
              "      <th>slidingtackle</th>\n",
              "      <th>gkdiving</th>\n",
              "      <th>gkhandling</th>\n",
              "      <th>gkkicking</th>\n",
              "      <th>gkpositioning</th>\n",
              "      <th>gkreflexes</th>\n",
              "      <th>release clause</th>\n",
              "    </tr>\n",
              "  </thead>\n",
              "  <tbody>\n",
              "    <tr>\n",
              "      <th>0</th>\n",
              "      <td>0</td>\n",
              "      <td>158023</td>\n",
              "      <td>L. Messi</td>\n",
              "      <td>31</td>\n",
              "      <td>https://cdn.sofifa.org/players/4/19/158023.png</td>\n",
              "      <td>Argentina</td>\n",
              "      <td>https://cdn.sofifa.org/flags/52.png</td>\n",
              "      <td>94</td>\n",
              "      <td>94</td>\n",
              "      <td>FC Barcelona</td>\n",
              "      <td>https://cdn.sofifa.org/teams/2/light/241.png</td>\n",
              "      <td>€110.5M</td>\n",
              "      <td>€565K</td>\n",
              "      <td>2202</td>\n",
              "      <td>Left</td>\n",
              "      <td>5.0</td>\n",
              "      <td>4.0</td>\n",
              "      <td>4.0</td>\n",
              "      <td>Medium/ Medium</td>\n",
              "      <td>Messi</td>\n",
              "      <td>Yes</td>\n",
              "      <td>RF</td>\n",
              "      <td>10.0</td>\n",
              "      <td>Jul 1, 2004</td>\n",
              "      <td>NaN</td>\n",
              "      <td>2021</td>\n",
              "      <td>5'7</td>\n",
              "      <td>159lbs</td>\n",
              "      <td>88+2</td>\n",
              "      <td>88+2</td>\n",
              "      <td>88+2</td>\n",
              "      <td>92+2</td>\n",
              "      <td>93+2</td>\n",
              "      <td>93+2</td>\n",
              "      <td>93+2</td>\n",
              "      <td>92+2</td>\n",
              "      <td>93+2</td>\n",
              "      <td>93+2</td>\n",
              "      <td>93+2</td>\n",
              "      <td>91+2</td>\n",
              "      <td>...</td>\n",
              "      <td>59+2</td>\n",
              "      <td>47+2</td>\n",
              "      <td>47+2</td>\n",
              "      <td>47+2</td>\n",
              "      <td>59+2</td>\n",
              "      <td>84.0</td>\n",
              "      <td>95.0</td>\n",
              "      <td>70.0</td>\n",
              "      <td>90.0</td>\n",
              "      <td>86.0</td>\n",
              "      <td>97.0</td>\n",
              "      <td>93.0</td>\n",
              "      <td>94.0</td>\n",
              "      <td>87.0</td>\n",
              "      <td>96.0</td>\n",
              "      <td>91.0</td>\n",
              "      <td>86.0</td>\n",
              "      <td>91.0</td>\n",
              "      <td>95.0</td>\n",
              "      <td>95.0</td>\n",
              "      <td>85.0</td>\n",
              "      <td>68.0</td>\n",
              "      <td>72.0</td>\n",
              "      <td>59.0</td>\n",
              "      <td>94.0</td>\n",
              "      <td>48.0</td>\n",
              "      <td>22.0</td>\n",
              "      <td>94.0</td>\n",
              "      <td>94.0</td>\n",
              "      <td>75.0</td>\n",
              "      <td>96.0</td>\n",
              "      <td>33.0</td>\n",
              "      <td>28.0</td>\n",
              "      <td>26.0</td>\n",
              "      <td>6.0</td>\n",
              "      <td>11.0</td>\n",
              "      <td>15.0</td>\n",
              "      <td>14.0</td>\n",
              "      <td>8.0</td>\n",
              "      <td>€226.5M</td>\n",
              "    </tr>\n",
              "  </tbody>\n",
              "</table>\n",
              "<p>1 rows × 89 columns</p>\n",
              "</div>"
            ],
            "text/plain": [
              "   unnamed: 0      id      name  ...  gkpositioning gkreflexes release clause\n",
              "0           0  158023  L. Messi  ...           14.0        8.0        €226.5M\n",
              "\n",
              "[1 rows x 89 columns]"
            ]
          },
          "metadata": {
            "tags": []
          },
          "execution_count": 157
        }
      ]
    },
    {
      "cell_type": "code",
      "metadata": {
        "id": "tKHVnVzMWcnn",
        "outputId": "dd9e8315-1333-407b-e64c-b7c120e97ee4",
        "colab": {
          "base_uri": "https://localhost:8080/",
          "height": 221
        }
      },
      "source": [
        "df_Fifa['Club']"
      ],
      "execution_count": null,
      "outputs": [
        {
          "output_type": "execute_result",
          "data": {
            "text/plain": [
              "0               FC Barcelona\n",
              "1                   Juventus\n",
              "2        Paris Saint-Germain\n",
              "3          Manchester United\n",
              "4            Manchester City\n",
              "                ...         \n",
              "18202        Crewe Alexandra\n",
              "18203         Trelleborgs FF\n",
              "18204       Cambridge United\n",
              "18205        Tranmere Rovers\n",
              "18206        Tranmere Rovers\n",
              "Name: Club, Length: 18207, dtype: object"
            ]
          },
          "metadata": {
            "tags": []
          },
          "execution_count": 86
        }
      ]
    },
    {
      "cell_type": "code",
      "metadata": {
        "id": "4Db-h1YwW8WU"
      },
      "source": [
        "_160.unique()"
      ],
      "execution_count": null,
      "outputs": []
    },
    {
      "cell_type": "code",
      "metadata": {
        "id": "Z_M6KFnnXEiy",
        "outputId": "a979c693-e5f4-4a06-b56b-6deb2e7b5d6f",
        "colab": {
          "base_uri": "https://localhost:8080/",
          "height": 34
        }
      },
      "source": [
        "_162.size"
      ],
      "execution_count": null,
      "outputs": [
        {
          "output_type": "execute_result",
          "data": {
            "text/plain": [
              "652"
            ]
          },
          "metadata": {
            "tags": []
          },
          "execution_count": 163
        }
      ]
    },
    {
      "cell_type": "code",
      "metadata": {
        "id": "E-2L_RgNWIKs",
        "outputId": "b20ee47a-d81c-42a1-dcef-a9639aaae9ab",
        "colab": {
          "base_uri": "https://localhost:8080/",
          "height": 238
        }
      },
      "source": [
        "df_Fifa.groupby('Club')['Club'].count()     # retorna valores \"not NaN\" => 651"
      ],
      "execution_count": null,
      "outputs": [
        {
          "output_type": "execute_result",
          "data": {
            "text/plain": [
              "Club\n",
              " SSV Jahn Regensburg     29\n",
              "1. FC Heidenheim 1846    28\n",
              "1. FC Kaiserslautern     26\n",
              "1. FC Köln               28\n",
              "1. FC Magdeburg          26\n",
              "                         ..\n",
              "Zagłębie Sosnowiec       25\n",
              "Çaykur Rizespor          30\n",
              "Örebro SK                27\n",
              "Östersunds FK            22\n",
              "Śląsk Wrocław            25\n",
              "Name: Club, Length: 651, dtype: int64"
            ]
          },
          "metadata": {
            "tags": []
          },
          "execution_count": 87
        }
      ]
    },
    {
      "cell_type": "code",
      "metadata": {
        "id": "nESB8znYYnps",
        "outputId": "81acd7bd-526a-4225-e4ba-e3c001bf900b",
        "colab": {
          "base_uri": "https://localhost:8080/",
          "height": 153
        }
      },
      "source": [
        "_172.index"
      ],
      "execution_count": null,
      "outputs": [
        {
          "output_type": "execute_result",
          "data": {
            "text/plain": [
              "Index([' SSV Jahn Regensburg', '1. FC Heidenheim 1846', '1. FC Kaiserslautern',\n",
              "       '1. FC Köln', '1. FC Magdeburg', '1. FC Nürnberg', '1. FC Union Berlin',\n",
              "       '1. FSV Mainz 05', 'AC Ajaccio', 'AC Horsens',\n",
              "       ...\n",
              "       'Wycombe Wanderers', 'Yeni Malatyaspor', 'Yeovil Town',\n",
              "       'Yokohama F. Marinos', 'Zagłębie Lubin', 'Zagłębie Sosnowiec',\n",
              "       'Çaykur Rizespor', 'Örebro SK', 'Östersunds FK', 'Śląsk Wrocław'],\n",
              "      dtype='object', name='club', length=651)"
            ]
          },
          "metadata": {
            "tags": []
          },
          "execution_count": 173
        }
      ]
    },
    {
      "cell_type": "code",
      "metadata": {
        "id": "ReMu0I2vYrXN",
        "outputId": "625ce7a3-643f-4176-a2e7-a89292e016f4",
        "colab": {
          "base_uri": "https://localhost:8080/",
          "height": 153
        }
      },
      "source": [
        "_173.unique()"
      ],
      "execution_count": null,
      "outputs": [
        {
          "output_type": "execute_result",
          "data": {
            "text/plain": [
              "Index([' SSV Jahn Regensburg', '1. FC Heidenheim 1846', '1. FC Kaiserslautern',\n",
              "       '1. FC Köln', '1. FC Magdeburg', '1. FC Nürnberg', '1. FC Union Berlin',\n",
              "       '1. FSV Mainz 05', 'AC Ajaccio', 'AC Horsens',\n",
              "       ...\n",
              "       'Wycombe Wanderers', 'Yeni Malatyaspor', 'Yeovil Town',\n",
              "       'Yokohama F. Marinos', 'Zagłębie Lubin', 'Zagłębie Sosnowiec',\n",
              "       'Çaykur Rizespor', 'Örebro SK', 'Östersunds FK', 'Śląsk Wrocław'],\n",
              "      dtype='object', name='club', length=651)"
            ]
          },
          "metadata": {
            "tags": []
          },
          "execution_count": 174
        }
      ]
    },
    {
      "cell_type": "code",
      "metadata": {
        "id": "Ne8j9RNbWA5J",
        "outputId": "411b8bae-1e68-4bbd-951e-75ed82f95ded",
        "colab": {
          "base_uri": "https://localhost:8080/",
          "height": 34
        }
      },
      "source": [
        "_158.size"
      ],
      "execution_count": null,
      "outputs": [
        {
          "output_type": "execute_result",
          "data": {
            "text/plain": [
              "651"
            ]
          },
          "metadata": {
            "tags": []
          },
          "execution_count": 164
        }
      ]
    },
    {
      "cell_type": "code",
      "metadata": {
        "id": "SMkZhJuEZBgn"
      },
      "source": [
        "l1 = pd.Series((df_Fifa.groupby('Club')['Club'].count()).index)"
      ],
      "execution_count": null,
      "outputs": []
    },
    {
      "cell_type": "code",
      "metadata": {
        "id": "ZFuJJ7TYY8Au"
      },
      "source": [
        "l2 = pd.Series((df_Fifa['Club'].unique()))      # retorna inclusive valores NaN => 652"
      ],
      "execution_count": null,
      "outputs": []
    },
    {
      "cell_type": "code",
      "metadata": {
        "id": "RLmKasU-YJqK",
        "outputId": "7835efd7-8bd3-4ec9-ba7c-66b6ab3ad97d",
        "colab": {
          "base_uri": "https://localhost:8080/",
          "height": 221
        }
      },
      "source": [
        "l1"
      ],
      "execution_count": null,
      "outputs": [
        {
          "output_type": "execute_result",
          "data": {
            "text/plain": [
              "0        SSV Jahn Regensburg\n",
              "1      1. FC Heidenheim 1846\n",
              "2       1. FC Kaiserslautern\n",
              "3                 1. FC Köln\n",
              "4            1. FC Magdeburg\n",
              "               ...          \n",
              "646       Zagłębie Sosnowiec\n",
              "647          Çaykur Rizespor\n",
              "648                Örebro SK\n",
              "649            Östersunds FK\n",
              "650            Śląsk Wrocław\n",
              "Name: club, Length: 651, dtype: object"
            ]
          },
          "metadata": {
            "tags": []
          },
          "execution_count": 188
        }
      ]
    },
    {
      "cell_type": "code",
      "metadata": {
        "id": "orT9Q65XYBPq",
        "outputId": "be8cdbe3-69eb-4c91-e3b2-d0a25985d4fc",
        "colab": {
          "base_uri": "https://localhost:8080/",
          "height": 221
        }
      },
      "source": [
        "l2"
      ],
      "execution_count": null,
      "outputs": [
        {
          "output_type": "execute_result",
          "data": {
            "text/plain": [
              "0             FC Barcelona\n",
              "1                 Juventus\n",
              "2      Paris Saint-Germain\n",
              "3        Manchester United\n",
              "4          Manchester City\n",
              "              ...         \n",
              "647         Newport County\n",
              "648           Sligo Rovers\n",
              "649             Derry City\n",
              "650            Limerick FC\n",
              "651         Bray Wanderers\n",
              "Length: 652, dtype: object"
            ]
          },
          "metadata": {
            "tags": []
          },
          "execution_count": 191
        }
      ]
    },
    {
      "cell_type": "code",
      "metadata": {
        "id": "uH4XJ5Z8eddD",
        "outputId": "6a092080-14f3-4c37-8356-548406d45bbf",
        "colab": {
          "base_uri": "https://localhost:8080/",
          "height": 34
        }
      },
      "source": [
        "(df_Fifa['Club'].unique()).size"
      ],
      "execution_count": null,
      "outputs": [
        {
          "output_type": "execute_result",
          "data": {
            "text/plain": [
              "652"
            ]
          },
          "metadata": {
            "tags": []
          },
          "execution_count": 90
        }
      ]
    },
    {
      "cell_type": "code",
      "metadata": {
        "id": "fAdkbo3Xv43l",
        "outputId": "18529af8-77e8-484c-e618-869a6e751048",
        "colab": {
          "base_uri": "https://localhost:8080/",
          "height": 51
        }
      },
      "source": [
        "l2[l2.isnull()]"
      ],
      "execution_count": null,
      "outputs": [
        {
          "output_type": "execute_result",
          "data": {
            "text/plain": [
              "85    NaN\n",
              "dtype: object"
            ]
          },
          "metadata": {
            "tags": []
          },
          "execution_count": 257
        }
      ]
    },
    {
      "cell_type": "code",
      "metadata": {
        "id": "t5xzUbV_wPgh",
        "outputId": "90b68053-2f46-4e61-967f-40cc8aa8d566",
        "colab": {
          "base_uri": "https://localhost:8080/",
          "height": 34
        }
      },
      "source": [
        "l2[85]"
      ],
      "execution_count": null,
      "outputs": [
        {
          "output_type": "execute_result",
          "data": {
            "text/plain": [
              "nan"
            ]
          },
          "metadata": {
            "tags": []
          },
          "execution_count": 260
        }
      ]
    },
    {
      "cell_type": "code",
      "metadata": {
        "id": "E8WNceE4hcAG"
      },
      "source": [
        "# Resposta do Exercício 9.9\n",
        "df_club_numjog = pd.DataFrame({'Club': (df_Fifa.groupby('Club')['Club'].count()).index, 'Num Jogadores': (df_Fifa.groupby('Club')['Club'].count()).values})"
      ],
      "execution_count": null,
      "outputs": []
    },
    {
      "cell_type": "code",
      "metadata": {
        "id": "V5WTR8IMkXZQ",
        "outputId": "abea02b0-6c48-4b61-c833-a87a08f5842f",
        "colab": {
          "base_uri": "https://localhost:8080/",
          "height": 419
        }
      },
      "source": [
        "df_club_numjog"
      ],
      "execution_count": null,
      "outputs": [
        {
          "output_type": "execute_result",
          "data": {
            "text/html": [
              "<div>\n",
              "<style scoped>\n",
              "    .dataframe tbody tr th:only-of-type {\n",
              "        vertical-align: middle;\n",
              "    }\n",
              "\n",
              "    .dataframe tbody tr th {\n",
              "        vertical-align: top;\n",
              "    }\n",
              "\n",
              "    .dataframe thead th {\n",
              "        text-align: right;\n",
              "    }\n",
              "</style>\n",
              "<table border=\"1\" class=\"dataframe\">\n",
              "  <thead>\n",
              "    <tr style=\"text-align: right;\">\n",
              "      <th></th>\n",
              "      <th>club</th>\n",
              "      <th>num jogadores</th>\n",
              "    </tr>\n",
              "  </thead>\n",
              "  <tbody>\n",
              "    <tr>\n",
              "      <th>0</th>\n",
              "      <td>SSV Jahn Regensburg</td>\n",
              "      <td>29</td>\n",
              "    </tr>\n",
              "    <tr>\n",
              "      <th>1</th>\n",
              "      <td>1. FC Heidenheim 1846</td>\n",
              "      <td>28</td>\n",
              "    </tr>\n",
              "    <tr>\n",
              "      <th>2</th>\n",
              "      <td>1. FC Kaiserslautern</td>\n",
              "      <td>26</td>\n",
              "    </tr>\n",
              "    <tr>\n",
              "      <th>3</th>\n",
              "      <td>1. FC Köln</td>\n",
              "      <td>28</td>\n",
              "    </tr>\n",
              "    <tr>\n",
              "      <th>4</th>\n",
              "      <td>1. FC Magdeburg</td>\n",
              "      <td>26</td>\n",
              "    </tr>\n",
              "    <tr>\n",
              "      <th>...</th>\n",
              "      <td>...</td>\n",
              "      <td>...</td>\n",
              "    </tr>\n",
              "    <tr>\n",
              "      <th>646</th>\n",
              "      <td>Zagłębie Sosnowiec</td>\n",
              "      <td>25</td>\n",
              "    </tr>\n",
              "    <tr>\n",
              "      <th>647</th>\n",
              "      <td>Çaykur Rizespor</td>\n",
              "      <td>30</td>\n",
              "    </tr>\n",
              "    <tr>\n",
              "      <th>648</th>\n",
              "      <td>Örebro SK</td>\n",
              "      <td>27</td>\n",
              "    </tr>\n",
              "    <tr>\n",
              "      <th>649</th>\n",
              "      <td>Östersunds FK</td>\n",
              "      <td>22</td>\n",
              "    </tr>\n",
              "    <tr>\n",
              "      <th>650</th>\n",
              "      <td>Śląsk Wrocław</td>\n",
              "      <td>25</td>\n",
              "    </tr>\n",
              "  </tbody>\n",
              "</table>\n",
              "<p>651 rows × 2 columns</p>\n",
              "</div>"
            ],
            "text/plain": [
              "                      club  num jogadores\n",
              "0      SSV Jahn Regensburg             29\n",
              "1    1. FC Heidenheim 1846             28\n",
              "2     1. FC Kaiserslautern             26\n",
              "3               1. FC Köln             28\n",
              "4          1. FC Magdeburg             26\n",
              "..                     ...            ...\n",
              "646     Zagłębie Sosnowiec             25\n",
              "647        Çaykur Rizespor             30\n",
              "648              Örebro SK             27\n",
              "649          Östersunds FK             22\n",
              "650          Śląsk Wrocław             25\n",
              "\n",
              "[651 rows x 2 columns]"
            ]
          },
          "metadata": {
            "tags": []
          },
          "execution_count": 261
        }
      ]
    },
    {
      "cell_type": "code",
      "metadata": {
        "id": "CV7yI3HXklTr",
        "outputId": "441ad24f-2d9f-42d9-a039-8aba4e26c7f5",
        "colab": {
          "base_uri": "https://localhost:8080/",
          "height": 34
        }
      },
      "source": [
        "df_club_numjog['Num Jogadores'].sum()     \n",
        "# 18207 => qtde de jogadores\n",
        "# 17966 => qtde de jogadores com 'club' not NaN\n",
        "# 18207 - 17966 = 241 => qtde de jogadores com 'club' NaN"
      ],
      "execution_count": null,
      "outputs": [
        {
          "output_type": "execute_result",
          "data": {
            "text/plain": [
              "17966"
            ]
          },
          "metadata": {
            "tags": []
          },
          "execution_count": 92
        }
      ]
    },
    {
      "cell_type": "code",
      "metadata": {
        "id": "pdojKmrEkwmr",
        "outputId": "8a939086-ef22-45e1-9bc9-9427848bfa48",
        "colab": {
          "base_uri": "https://localhost:8080/",
          "height": 221
        }
      },
      "source": [
        "df_Fifa['Club'].isnull()"
      ],
      "execution_count": null,
      "outputs": [
        {
          "output_type": "execute_result",
          "data": {
            "text/plain": [
              "0        False\n",
              "1        False\n",
              "2        False\n",
              "3        False\n",
              "4        False\n",
              "         ...  \n",
              "18202    False\n",
              "18203    False\n",
              "18204    False\n",
              "18205    False\n",
              "18206    False\n",
              "Name: club, Length: 18207, dtype: bool"
            ]
          },
          "metadata": {
            "tags": []
          },
          "execution_count": 200
        }
      ]
    },
    {
      "cell_type": "code",
      "metadata": {
        "id": "znTwnGjKlANp",
        "outputId": "35eb149a-3f8b-4e20-be2b-b19b5a89caf0",
        "colab": {
          "base_uri": "https://localhost:8080/",
          "height": 643
        }
      },
      "source": [
        "df_Fifa[df_Fifa['Club'].isnull()]"
      ],
      "execution_count": null,
      "outputs": [
        {
          "output_type": "execute_result",
          "data": {
            "text/html": [
              "<div>\n",
              "<style scoped>\n",
              "    .dataframe tbody tr th:only-of-type {\n",
              "        vertical-align: middle;\n",
              "    }\n",
              "\n",
              "    .dataframe tbody tr th {\n",
              "        vertical-align: top;\n",
              "    }\n",
              "\n",
              "    .dataframe thead th {\n",
              "        text-align: right;\n",
              "    }\n",
              "</style>\n",
              "<table border=\"1\" class=\"dataframe\">\n",
              "  <thead>\n",
              "    <tr style=\"text-align: right;\">\n",
              "      <th></th>\n",
              "      <th>unnamed: 0</th>\n",
              "      <th>id</th>\n",
              "      <th>name</th>\n",
              "      <th>age</th>\n",
              "      <th>photo</th>\n",
              "      <th>nationality</th>\n",
              "      <th>flag</th>\n",
              "      <th>overall</th>\n",
              "      <th>potential</th>\n",
              "      <th>club</th>\n",
              "      <th>club logo</th>\n",
              "      <th>value</th>\n",
              "      <th>wage</th>\n",
              "      <th>special</th>\n",
              "      <th>preferred foot</th>\n",
              "      <th>international reputation</th>\n",
              "      <th>weak foot</th>\n",
              "      <th>skill moves</th>\n",
              "      <th>work rate</th>\n",
              "      <th>body type</th>\n",
              "      <th>real face</th>\n",
              "      <th>position</th>\n",
              "      <th>jersey number</th>\n",
              "      <th>joined</th>\n",
              "      <th>loaned from</th>\n",
              "      <th>contract valid until</th>\n",
              "      <th>height</th>\n",
              "      <th>weight</th>\n",
              "      <th>ls</th>\n",
              "      <th>st</th>\n",
              "      <th>rs</th>\n",
              "      <th>lw</th>\n",
              "      <th>lf</th>\n",
              "      <th>cf</th>\n",
              "      <th>rf</th>\n",
              "      <th>rw</th>\n",
              "      <th>lam</th>\n",
              "      <th>cam</th>\n",
              "      <th>ram</th>\n",
              "      <th>lm</th>\n",
              "      <th>...</th>\n",
              "      <th>lb</th>\n",
              "      <th>lcb</th>\n",
              "      <th>cb</th>\n",
              "      <th>rcb</th>\n",
              "      <th>rb</th>\n",
              "      <th>crossing</th>\n",
              "      <th>finishing</th>\n",
              "      <th>headingaccuracy</th>\n",
              "      <th>shortpassing</th>\n",
              "      <th>volleys</th>\n",
              "      <th>dribbling</th>\n",
              "      <th>curve</th>\n",
              "      <th>fkaccuracy</th>\n",
              "      <th>longpassing</th>\n",
              "      <th>ballcontrol</th>\n",
              "      <th>acceleration</th>\n",
              "      <th>sprintspeed</th>\n",
              "      <th>agility</th>\n",
              "      <th>reactions</th>\n",
              "      <th>balance</th>\n",
              "      <th>shotpower</th>\n",
              "      <th>jumping</th>\n",
              "      <th>stamina</th>\n",
              "      <th>strength</th>\n",
              "      <th>longshots</th>\n",
              "      <th>aggression</th>\n",
              "      <th>interceptions</th>\n",
              "      <th>positioning</th>\n",
              "      <th>vision</th>\n",
              "      <th>penalties</th>\n",
              "      <th>composure</th>\n",
              "      <th>marking</th>\n",
              "      <th>standingtackle</th>\n",
              "      <th>slidingtackle</th>\n",
              "      <th>gkdiving</th>\n",
              "      <th>gkhandling</th>\n",
              "      <th>gkkicking</th>\n",
              "      <th>gkpositioning</th>\n",
              "      <th>gkreflexes</th>\n",
              "      <th>release clause</th>\n",
              "    </tr>\n",
              "  </thead>\n",
              "  <tbody>\n",
              "    <tr>\n",
              "      <th>452</th>\n",
              "      <td>452</td>\n",
              "      <td>207439</td>\n",
              "      <td>L. Paredes</td>\n",
              "      <td>24</td>\n",
              "      <td>https://cdn.sofifa.org/players/4/19/207439.png</td>\n",
              "      <td>Argentina</td>\n",
              "      <td>https://cdn.sofifa.org/flags/52.png</td>\n",
              "      <td>80</td>\n",
              "      <td>85</td>\n",
              "      <td>NaN</td>\n",
              "      <td>https://cdn.sofifa.org/flags/52.png</td>\n",
              "      <td>€0</td>\n",
              "      <td>€0</td>\n",
              "      <td>2122</td>\n",
              "      <td>Right</td>\n",
              "      <td>2.0</td>\n",
              "      <td>4.0</td>\n",
              "      <td>4.0</td>\n",
              "      <td>Medium/ Medium</td>\n",
              "      <td>Normal</td>\n",
              "      <td>No</td>\n",
              "      <td>CM</td>\n",
              "      <td>5.0</td>\n",
              "      <td>NaN</td>\n",
              "      <td>NaN</td>\n",
              "      <td>NaN</td>\n",
              "      <td>5'11</td>\n",
              "      <td>165lbs</td>\n",
              "      <td>71+2</td>\n",
              "      <td>71+2</td>\n",
              "      <td>71+2</td>\n",
              "      <td>75+2</td>\n",
              "      <td>75+2</td>\n",
              "      <td>75+2</td>\n",
              "      <td>75+2</td>\n",
              "      <td>75+2</td>\n",
              "      <td>77+2</td>\n",
              "      <td>77+2</td>\n",
              "      <td>77+2</td>\n",
              "      <td>76+2</td>\n",
              "      <td>...</td>\n",
              "      <td>74+2</td>\n",
              "      <td>72+2</td>\n",
              "      <td>72+2</td>\n",
              "      <td>72+2</td>\n",
              "      <td>74+2</td>\n",
              "      <td>76.0</td>\n",
              "      <td>55.0</td>\n",
              "      <td>60.0</td>\n",
              "      <td>84.0</td>\n",
              "      <td>73.0</td>\n",
              "      <td>78.0</td>\n",
              "      <td>79.0</td>\n",
              "      <td>78.0</td>\n",
              "      <td>82.0</td>\n",
              "      <td>82.0</td>\n",
              "      <td>75.0</td>\n",
              "      <td>69.0</td>\n",
              "      <td>77.0</td>\n",
              "      <td>74.0</td>\n",
              "      <td>77.0</td>\n",
              "      <td>82.0</td>\n",
              "      <td>61.0</td>\n",
              "      <td>79.0</td>\n",
              "      <td>69.0</td>\n",
              "      <td>80.0</td>\n",
              "      <td>79.0</td>\n",
              "      <td>72.0</td>\n",
              "      <td>74.0</td>\n",
              "      <td>82.0</td>\n",
              "      <td>57.0</td>\n",
              "      <td>74.0</td>\n",
              "      <td>73.0</td>\n",
              "      <td>75.0</td>\n",
              "      <td>72.0</td>\n",
              "      <td>9.0</td>\n",
              "      <td>14.0</td>\n",
              "      <td>6.0</td>\n",
              "      <td>9.0</td>\n",
              "      <td>10.0</td>\n",
              "      <td>NaN</td>\n",
              "    </tr>\n",
              "    <tr>\n",
              "      <th>538</th>\n",
              "      <td>538</td>\n",
              "      <td>156713</td>\n",
              "      <td>A. Granqvist</td>\n",
              "      <td>33</td>\n",
              "      <td>https://cdn.sofifa.org/players/4/19/156713.png</td>\n",
              "      <td>Sweden</td>\n",
              "      <td>https://cdn.sofifa.org/flags/46.png</td>\n",
              "      <td>80</td>\n",
              "      <td>80</td>\n",
              "      <td>NaN</td>\n",
              "      <td>https://cdn.sofifa.org/flags/46.png</td>\n",
              "      <td>€0</td>\n",
              "      <td>€0</td>\n",
              "      <td>1797</td>\n",
              "      <td>Right</td>\n",
              "      <td>2.0</td>\n",
              "      <td>4.0</td>\n",
              "      <td>2.0</td>\n",
              "      <td>High/ Medium</td>\n",
              "      <td>Normal</td>\n",
              "      <td>No</td>\n",
              "      <td>LCB</td>\n",
              "      <td>4.0</td>\n",
              "      <td>NaN</td>\n",
              "      <td>NaN</td>\n",
              "      <td>NaN</td>\n",
              "      <td>6'4</td>\n",
              "      <td>185lbs</td>\n",
              "      <td>62+2</td>\n",
              "      <td>62+2</td>\n",
              "      <td>62+2</td>\n",
              "      <td>56+2</td>\n",
              "      <td>58+2</td>\n",
              "      <td>58+2</td>\n",
              "      <td>58+2</td>\n",
              "      <td>56+2</td>\n",
              "      <td>58+2</td>\n",
              "      <td>58+2</td>\n",
              "      <td>58+2</td>\n",
              "      <td>57+2</td>\n",
              "      <td>...</td>\n",
              "      <td>70+2</td>\n",
              "      <td>79+2</td>\n",
              "      <td>79+2</td>\n",
              "      <td>79+2</td>\n",
              "      <td>70+2</td>\n",
              "      <td>49.0</td>\n",
              "      <td>51.0</td>\n",
              "      <td>81.0</td>\n",
              "      <td>73.0</td>\n",
              "      <td>37.0</td>\n",
              "      <td>49.0</td>\n",
              "      <td>36.0</td>\n",
              "      <td>40.0</td>\n",
              "      <td>67.0</td>\n",
              "      <td>63.0</td>\n",
              "      <td>46.0</td>\n",
              "      <td>49.0</td>\n",
              "      <td>55.0</td>\n",
              "      <td>76.0</td>\n",
              "      <td>36.0</td>\n",
              "      <td>74.0</td>\n",
              "      <td>64.0</td>\n",
              "      <td>67.0</td>\n",
              "      <td>83.0</td>\n",
              "      <td>59.0</td>\n",
              "      <td>81.0</td>\n",
              "      <td>82.0</td>\n",
              "      <td>54.0</td>\n",
              "      <td>49.0</td>\n",
              "      <td>79.0</td>\n",
              "      <td>78.0</td>\n",
              "      <td>82.0</td>\n",
              "      <td>83.0</td>\n",
              "      <td>79.0</td>\n",
              "      <td>7.0</td>\n",
              "      <td>9.0</td>\n",
              "      <td>12.0</td>\n",
              "      <td>10.0</td>\n",
              "      <td>15.0</td>\n",
              "      <td>NaN</td>\n",
              "    </tr>\n",
              "    <tr>\n",
              "      <th>568</th>\n",
              "      <td>568</td>\n",
              "      <td>229909</td>\n",
              "      <td>A. Lunev</td>\n",
              "      <td>26</td>\n",
              "      <td>https://cdn.sofifa.org/players/4/19/229909.png</td>\n",
              "      <td>Russia</td>\n",
              "      <td>https://cdn.sofifa.org/flags/40.png</td>\n",
              "      <td>79</td>\n",
              "      <td>81</td>\n",
              "      <td>NaN</td>\n",
              "      <td>https://cdn.sofifa.org/flags/40.png</td>\n",
              "      <td>€0</td>\n",
              "      <td>€0</td>\n",
              "      <td>1217</td>\n",
              "      <td>Right</td>\n",
              "      <td>1.0</td>\n",
              "      <td>3.0</td>\n",
              "      <td>1.0</td>\n",
              "      <td>Medium/ Medium</td>\n",
              "      <td>Normal</td>\n",
              "      <td>No</td>\n",
              "      <td>GK</td>\n",
              "      <td>12.0</td>\n",
              "      <td>NaN</td>\n",
              "      <td>NaN</td>\n",
              "      <td>NaN</td>\n",
              "      <td>6'2</td>\n",
              "      <td>176lbs</td>\n",
              "      <td>NaN</td>\n",
              "      <td>NaN</td>\n",
              "      <td>NaN</td>\n",
              "      <td>NaN</td>\n",
              "      <td>NaN</td>\n",
              "      <td>NaN</td>\n",
              "      <td>NaN</td>\n",
              "      <td>NaN</td>\n",
              "      <td>NaN</td>\n",
              "      <td>NaN</td>\n",
              "      <td>NaN</td>\n",
              "      <td>NaN</td>\n",
              "      <td>...</td>\n",
              "      <td>NaN</td>\n",
              "      <td>NaN</td>\n",
              "      <td>NaN</td>\n",
              "      <td>NaN</td>\n",
              "      <td>NaN</td>\n",
              "      <td>16.0</td>\n",
              "      <td>14.0</td>\n",
              "      <td>17.0</td>\n",
              "      <td>25.0</td>\n",
              "      <td>13.0</td>\n",
              "      <td>15.0</td>\n",
              "      <td>18.0</td>\n",
              "      <td>17.0</td>\n",
              "      <td>32.0</td>\n",
              "      <td>17.0</td>\n",
              "      <td>58.0</td>\n",
              "      <td>54.0</td>\n",
              "      <td>36.0</td>\n",
              "      <td>76.0</td>\n",
              "      <td>50.0</td>\n",
              "      <td>24.0</td>\n",
              "      <td>60.0</td>\n",
              "      <td>27.0</td>\n",
              "      <td>70.0</td>\n",
              "      <td>13.0</td>\n",
              "      <td>26.0</td>\n",
              "      <td>20.0</td>\n",
              "      <td>11.0</td>\n",
              "      <td>63.0</td>\n",
              "      <td>15.0</td>\n",
              "      <td>69.0</td>\n",
              "      <td>18.0</td>\n",
              "      <td>20.0</td>\n",
              "      <td>12.0</td>\n",
              "      <td>80.0</td>\n",
              "      <td>73.0</td>\n",
              "      <td>65.0</td>\n",
              "      <td>77.0</td>\n",
              "      <td>85.0</td>\n",
              "      <td>NaN</td>\n",
              "    </tr>\n",
              "    <tr>\n",
              "      <th>677</th>\n",
              "      <td>677</td>\n",
              "      <td>187347</td>\n",
              "      <td>I. Smolnikov</td>\n",
              "      <td>29</td>\n",
              "      <td>https://cdn.sofifa.org/players/4/19/187347.png</td>\n",
              "      <td>Russia</td>\n",
              "      <td>https://cdn.sofifa.org/flags/40.png</td>\n",
              "      <td>79</td>\n",
              "      <td>79</td>\n",
              "      <td>NaN</td>\n",
              "      <td>https://cdn.sofifa.org/flags/40.png</td>\n",
              "      <td>€0</td>\n",
              "      <td>€0</td>\n",
              "      <td>2038</td>\n",
              "      <td>Right</td>\n",
              "      <td>2.0</td>\n",
              "      <td>3.0</td>\n",
              "      <td>3.0</td>\n",
              "      <td>High/ High</td>\n",
              "      <td>Lean</td>\n",
              "      <td>No</td>\n",
              "      <td>RB</td>\n",
              "      <td>2.0</td>\n",
              "      <td>NaN</td>\n",
              "      <td>NaN</td>\n",
              "      <td>NaN</td>\n",
              "      <td>5'10</td>\n",
              "      <td>154lbs</td>\n",
              "      <td>70+2</td>\n",
              "      <td>70+2</td>\n",
              "      <td>70+2</td>\n",
              "      <td>73+2</td>\n",
              "      <td>72+2</td>\n",
              "      <td>72+2</td>\n",
              "      <td>72+2</td>\n",
              "      <td>73+2</td>\n",
              "      <td>73+2</td>\n",
              "      <td>73+2</td>\n",
              "      <td>73+2</td>\n",
              "      <td>75+2</td>\n",
              "      <td>...</td>\n",
              "      <td>78+2</td>\n",
              "      <td>73+2</td>\n",
              "      <td>73+2</td>\n",
              "      <td>73+2</td>\n",
              "      <td>78+2</td>\n",
              "      <td>73.0</td>\n",
              "      <td>61.0</td>\n",
              "      <td>69.0</td>\n",
              "      <td>79.0</td>\n",
              "      <td>57.0</td>\n",
              "      <td>72.0</td>\n",
              "      <td>49.0</td>\n",
              "      <td>46.0</td>\n",
              "      <td>75.0</td>\n",
              "      <td>72.0</td>\n",
              "      <td>84.0</td>\n",
              "      <td>90.0</td>\n",
              "      <td>80.0</td>\n",
              "      <td>75.0</td>\n",
              "      <td>76.0</td>\n",
              "      <td>67.0</td>\n",
              "      <td>85.0</td>\n",
              "      <td>93.0</td>\n",
              "      <td>68.0</td>\n",
              "      <td>57.0</td>\n",
              "      <td>65.0</td>\n",
              "      <td>71.0</td>\n",
              "      <td>77.0</td>\n",
              "      <td>72.0</td>\n",
              "      <td>41.0</td>\n",
              "      <td>73.0</td>\n",
              "      <td>76.0</td>\n",
              "      <td>76.0</td>\n",
              "      <td>80.0</td>\n",
              "      <td>7.0</td>\n",
              "      <td>12.0</td>\n",
              "      <td>10.0</td>\n",
              "      <td>8.0</td>\n",
              "      <td>15.0</td>\n",
              "      <td>NaN</td>\n",
              "    </tr>\n",
              "    <tr>\n",
              "      <th>874</th>\n",
              "      <td>874</td>\n",
              "      <td>187607</td>\n",
              "      <td>A. Dzyuba</td>\n",
              "      <td>29</td>\n",
              "      <td>https://cdn.sofifa.org/players/4/19/187607.png</td>\n",
              "      <td>Russia</td>\n",
              "      <td>https://cdn.sofifa.org/flags/40.png</td>\n",
              "      <td>78</td>\n",
              "      <td>78</td>\n",
              "      <td>NaN</td>\n",
              "      <td>https://cdn.sofifa.org/flags/40.png</td>\n",
              "      <td>€0</td>\n",
              "      <td>€0</td>\n",
              "      <td>1810</td>\n",
              "      <td>Right</td>\n",
              "      <td>2.0</td>\n",
              "      <td>3.0</td>\n",
              "      <td>3.0</td>\n",
              "      <td>High/ Medium</td>\n",
              "      <td>Stocky</td>\n",
              "      <td>No</td>\n",
              "      <td>ST</td>\n",
              "      <td>22.0</td>\n",
              "      <td>NaN</td>\n",
              "      <td>NaN</td>\n",
              "      <td>NaN</td>\n",
              "      <td>6'5</td>\n",
              "      <td>201lbs</td>\n",
              "      <td>77+2</td>\n",
              "      <td>77+2</td>\n",
              "      <td>77+2</td>\n",
              "      <td>71+2</td>\n",
              "      <td>74+2</td>\n",
              "      <td>74+2</td>\n",
              "      <td>74+2</td>\n",
              "      <td>71+2</td>\n",
              "      <td>71+2</td>\n",
              "      <td>71+2</td>\n",
              "      <td>71+2</td>\n",
              "      <td>71+2</td>\n",
              "      <td>...</td>\n",
              "      <td>48+2</td>\n",
              "      <td>48+2</td>\n",
              "      <td>48+2</td>\n",
              "      <td>48+2</td>\n",
              "      <td>48+2</td>\n",
              "      <td>61.0</td>\n",
              "      <td>79.0</td>\n",
              "      <td>86.0</td>\n",
              "      <td>71.0</td>\n",
              "      <td>74.0</td>\n",
              "      <td>71.0</td>\n",
              "      <td>64.0</td>\n",
              "      <td>60.0</td>\n",
              "      <td>55.0</td>\n",
              "      <td>77.0</td>\n",
              "      <td>66.0</td>\n",
              "      <td>65.0</td>\n",
              "      <td>50.0</td>\n",
              "      <td>75.0</td>\n",
              "      <td>32.0</td>\n",
              "      <td>78.0</td>\n",
              "      <td>63.0</td>\n",
              "      <td>77.0</td>\n",
              "      <td>93.0</td>\n",
              "      <td>68.0</td>\n",
              "      <td>75.0</td>\n",
              "      <td>30.0</td>\n",
              "      <td>78.0</td>\n",
              "      <td>73.0</td>\n",
              "      <td>77.0</td>\n",
              "      <td>70.0</td>\n",
              "      <td>21.0</td>\n",
              "      <td>15.0</td>\n",
              "      <td>19.0</td>\n",
              "      <td>15.0</td>\n",
              "      <td>12.0</td>\n",
              "      <td>11.0</td>\n",
              "      <td>11.0</td>\n",
              "      <td>8.0</td>\n",
              "      <td>NaN</td>\n",
              "    </tr>\n",
              "    <tr>\n",
              "      <th>...</th>\n",
              "      <td>...</td>\n",
              "      <td>...</td>\n",
              "      <td>...</td>\n",
              "      <td>...</td>\n",
              "      <td>...</td>\n",
              "      <td>...</td>\n",
              "      <td>...</td>\n",
              "      <td>...</td>\n",
              "      <td>...</td>\n",
              "      <td>...</td>\n",
              "      <td>...</td>\n",
              "      <td>...</td>\n",
              "      <td>...</td>\n",
              "      <td>...</td>\n",
              "      <td>...</td>\n",
              "      <td>...</td>\n",
              "      <td>...</td>\n",
              "      <td>...</td>\n",
              "      <td>...</td>\n",
              "      <td>...</td>\n",
              "      <td>...</td>\n",
              "      <td>...</td>\n",
              "      <td>...</td>\n",
              "      <td>...</td>\n",
              "      <td>...</td>\n",
              "      <td>...</td>\n",
              "      <td>...</td>\n",
              "      <td>...</td>\n",
              "      <td>...</td>\n",
              "      <td>...</td>\n",
              "      <td>...</td>\n",
              "      <td>...</td>\n",
              "      <td>...</td>\n",
              "      <td>...</td>\n",
              "      <td>...</td>\n",
              "      <td>...</td>\n",
              "      <td>...</td>\n",
              "      <td>...</td>\n",
              "      <td>...</td>\n",
              "      <td>...</td>\n",
              "      <td>...</td>\n",
              "      <td>...</td>\n",
              "      <td>...</td>\n",
              "      <td>...</td>\n",
              "      <td>...</td>\n",
              "      <td>...</td>\n",
              "      <td>...</td>\n",
              "      <td>...</td>\n",
              "      <td>...</td>\n",
              "      <td>...</td>\n",
              "      <td>...</td>\n",
              "      <td>...</td>\n",
              "      <td>...</td>\n",
              "      <td>...</td>\n",
              "      <td>...</td>\n",
              "      <td>...</td>\n",
              "      <td>...</td>\n",
              "      <td>...</td>\n",
              "      <td>...</td>\n",
              "      <td>...</td>\n",
              "      <td>...</td>\n",
              "      <td>...</td>\n",
              "      <td>...</td>\n",
              "      <td>...</td>\n",
              "      <td>...</td>\n",
              "      <td>...</td>\n",
              "      <td>...</td>\n",
              "      <td>...</td>\n",
              "      <td>...</td>\n",
              "      <td>...</td>\n",
              "      <td>...</td>\n",
              "      <td>...</td>\n",
              "      <td>...</td>\n",
              "      <td>...</td>\n",
              "      <td>...</td>\n",
              "      <td>...</td>\n",
              "      <td>...</td>\n",
              "      <td>...</td>\n",
              "      <td>...</td>\n",
              "      <td>...</td>\n",
              "      <td>...</td>\n",
              "    </tr>\n",
              "    <tr>\n",
              "      <th>17197</th>\n",
              "      <td>17197</td>\n",
              "      <td>245164</td>\n",
              "      <td>V. Kaith</td>\n",
              "      <td>21</td>\n",
              "      <td>https://cdn.sofifa.org/players/4/19/245164.png</td>\n",
              "      <td>India</td>\n",
              "      <td>https://cdn.sofifa.org/flags/159.png</td>\n",
              "      <td>55</td>\n",
              "      <td>64</td>\n",
              "      <td>NaN</td>\n",
              "      <td>https://cdn.sofifa.org/flags/159.png</td>\n",
              "      <td>€0</td>\n",
              "      <td>€0</td>\n",
              "      <td>838</td>\n",
              "      <td>Right</td>\n",
              "      <td>1.0</td>\n",
              "      <td>2.0</td>\n",
              "      <td>1.0</td>\n",
              "      <td>Medium/ Medium</td>\n",
              "      <td>Normal</td>\n",
              "      <td>No</td>\n",
              "      <td>GK</td>\n",
              "      <td>1.0</td>\n",
              "      <td>NaN</td>\n",
              "      <td>NaN</td>\n",
              "      <td>NaN</td>\n",
              "      <td>6'2</td>\n",
              "      <td>176lbs</td>\n",
              "      <td>NaN</td>\n",
              "      <td>NaN</td>\n",
              "      <td>NaN</td>\n",
              "      <td>NaN</td>\n",
              "      <td>NaN</td>\n",
              "      <td>NaN</td>\n",
              "      <td>NaN</td>\n",
              "      <td>NaN</td>\n",
              "      <td>NaN</td>\n",
              "      <td>NaN</td>\n",
              "      <td>NaN</td>\n",
              "      <td>NaN</td>\n",
              "      <td>...</td>\n",
              "      <td>NaN</td>\n",
              "      <td>NaN</td>\n",
              "      <td>NaN</td>\n",
              "      <td>NaN</td>\n",
              "      <td>NaN</td>\n",
              "      <td>13.0</td>\n",
              "      <td>7.0</td>\n",
              "      <td>13.0</td>\n",
              "      <td>16.0</td>\n",
              "      <td>7.0</td>\n",
              "      <td>11.0</td>\n",
              "      <td>10.0</td>\n",
              "      <td>13.0</td>\n",
              "      <td>16.0</td>\n",
              "      <td>18.0</td>\n",
              "      <td>29.0</td>\n",
              "      <td>32.0</td>\n",
              "      <td>24.0</td>\n",
              "      <td>55.0</td>\n",
              "      <td>36.0</td>\n",
              "      <td>24.0</td>\n",
              "      <td>47.0</td>\n",
              "      <td>16.0</td>\n",
              "      <td>56.0</td>\n",
              "      <td>9.0</td>\n",
              "      <td>21.0</td>\n",
              "      <td>10.0</td>\n",
              "      <td>8.0</td>\n",
              "      <td>29.0</td>\n",
              "      <td>13.0</td>\n",
              "      <td>29.0</td>\n",
              "      <td>8.0</td>\n",
              "      <td>12.0</td>\n",
              "      <td>11.0</td>\n",
              "      <td>55.0</td>\n",
              "      <td>50.0</td>\n",
              "      <td>57.0</td>\n",
              "      <td>59.0</td>\n",
              "      <td>53.0</td>\n",
              "      <td>NaN</td>\n",
              "    </tr>\n",
              "    <tr>\n",
              "      <th>17215</th>\n",
              "      <td>17215</td>\n",
              "      <td>243131</td>\n",
              "      <td>K. Taimi</td>\n",
              "      <td>26</td>\n",
              "      <td>https://cdn.sofifa.org/players/4/19/243131.png</td>\n",
              "      <td>Finland</td>\n",
              "      <td>https://cdn.sofifa.org/flags/17.png</td>\n",
              "      <td>55</td>\n",
              "      <td>57</td>\n",
              "      <td>NaN</td>\n",
              "      <td>https://cdn.sofifa.org/flags/17.png</td>\n",
              "      <td>€0</td>\n",
              "      <td>€0</td>\n",
              "      <td>1366</td>\n",
              "      <td>Right</td>\n",
              "      <td>1.0</td>\n",
              "      <td>3.0</td>\n",
              "      <td>2.0</td>\n",
              "      <td>Medium/ High</td>\n",
              "      <td>Normal</td>\n",
              "      <td>No</td>\n",
              "      <td>RB</td>\n",
              "      <td>3.0</td>\n",
              "      <td>NaN</td>\n",
              "      <td>NaN</td>\n",
              "      <td>NaN</td>\n",
              "      <td>6'4</td>\n",
              "      <td>187lbs</td>\n",
              "      <td>46+2</td>\n",
              "      <td>46+2</td>\n",
              "      <td>46+2</td>\n",
              "      <td>45+2</td>\n",
              "      <td>44+2</td>\n",
              "      <td>44+2</td>\n",
              "      <td>44+2</td>\n",
              "      <td>45+2</td>\n",
              "      <td>43+2</td>\n",
              "      <td>43+2</td>\n",
              "      <td>43+2</td>\n",
              "      <td>46+2</td>\n",
              "      <td>...</td>\n",
              "      <td>53+2</td>\n",
              "      <td>57+2</td>\n",
              "      <td>57+2</td>\n",
              "      <td>57+2</td>\n",
              "      <td>53+2</td>\n",
              "      <td>42.0</td>\n",
              "      <td>41.0</td>\n",
              "      <td>65.0</td>\n",
              "      <td>45.0</td>\n",
              "      <td>26.0</td>\n",
              "      <td>50.0</td>\n",
              "      <td>30.0</td>\n",
              "      <td>32.0</td>\n",
              "      <td>35.0</td>\n",
              "      <td>40.0</td>\n",
              "      <td>65.0</td>\n",
              "      <td>55.0</td>\n",
              "      <td>58.0</td>\n",
              "      <td>49.0</td>\n",
              "      <td>42.0</td>\n",
              "      <td>29.0</td>\n",
              "      <td>61.0</td>\n",
              "      <td>56.0</td>\n",
              "      <td>76.0</td>\n",
              "      <td>26.0</td>\n",
              "      <td>48.0</td>\n",
              "      <td>54.0</td>\n",
              "      <td>46.0</td>\n",
              "      <td>36.0</td>\n",
              "      <td>33.0</td>\n",
              "      <td>36.0</td>\n",
              "      <td>51.0</td>\n",
              "      <td>58.0</td>\n",
              "      <td>64.0</td>\n",
              "      <td>11.0</td>\n",
              "      <td>9.0</td>\n",
              "      <td>9.0</td>\n",
              "      <td>12.0</td>\n",
              "      <td>12.0</td>\n",
              "      <td>NaN</td>\n",
              "    </tr>\n",
              "    <tr>\n",
              "      <th>17339</th>\n",
              "      <td>17339</td>\n",
              "      <td>233526</td>\n",
              "      <td>S. Passi</td>\n",
              "      <td>23</td>\n",
              "      <td>https://cdn.sofifa.org/players/4/19/233526.png</td>\n",
              "      <td>India</td>\n",
              "      <td>https://cdn.sofifa.org/flags/159.png</td>\n",
              "      <td>54</td>\n",
              "      <td>63</td>\n",
              "      <td>NaN</td>\n",
              "      <td>https://cdn.sofifa.org/flags/159.png</td>\n",
              "      <td>€0</td>\n",
              "      <td>€0</td>\n",
              "      <td>1321</td>\n",
              "      <td>Right</td>\n",
              "      <td>1.0</td>\n",
              "      <td>3.0</td>\n",
              "      <td>2.0</td>\n",
              "      <td>Medium/ Low</td>\n",
              "      <td>Normal</td>\n",
              "      <td>No</td>\n",
              "      <td>NaN</td>\n",
              "      <td>NaN</td>\n",
              "      <td>NaN</td>\n",
              "      <td>NaN</td>\n",
              "      <td>NaN</td>\n",
              "      <td>5'9</td>\n",
              "      <td>143lbs</td>\n",
              "      <td>NaN</td>\n",
              "      <td>NaN</td>\n",
              "      <td>NaN</td>\n",
              "      <td>NaN</td>\n",
              "      <td>NaN</td>\n",
              "      <td>NaN</td>\n",
              "      <td>NaN</td>\n",
              "      <td>NaN</td>\n",
              "      <td>NaN</td>\n",
              "      <td>NaN</td>\n",
              "      <td>NaN</td>\n",
              "      <td>NaN</td>\n",
              "      <td>...</td>\n",
              "      <td>NaN</td>\n",
              "      <td>NaN</td>\n",
              "      <td>NaN</td>\n",
              "      <td>NaN</td>\n",
              "      <td>NaN</td>\n",
              "      <td>35.0</td>\n",
              "      <td>56.0</td>\n",
              "      <td>49.0</td>\n",
              "      <td>38.0</td>\n",
              "      <td>38.0</td>\n",
              "      <td>53.0</td>\n",
              "      <td>37.0</td>\n",
              "      <td>33.0</td>\n",
              "      <td>33.0</td>\n",
              "      <td>43.0</td>\n",
              "      <td>66.0</td>\n",
              "      <td>68.0</td>\n",
              "      <td>57.0</td>\n",
              "      <td>49.0</td>\n",
              "      <td>58.0</td>\n",
              "      <td>50.0</td>\n",
              "      <td>55.0</td>\n",
              "      <td>59.0</td>\n",
              "      <td>62.0</td>\n",
              "      <td>47.0</td>\n",
              "      <td>39.0</td>\n",
              "      <td>34.0</td>\n",
              "      <td>57.0</td>\n",
              "      <td>43.0</td>\n",
              "      <td>58.0</td>\n",
              "      <td>45.0</td>\n",
              "      <td>14.0</td>\n",
              "      <td>23.0</td>\n",
              "      <td>21.0</td>\n",
              "      <td>8.0</td>\n",
              "      <td>6.0</td>\n",
              "      <td>13.0</td>\n",
              "      <td>9.0</td>\n",
              "      <td>10.0</td>\n",
              "      <td>NaN</td>\n",
              "    </tr>\n",
              "    <tr>\n",
              "      <th>17436</th>\n",
              "      <td>17436</td>\n",
              "      <td>236452</td>\n",
              "      <td>D. Lalhlimpuia</td>\n",
              "      <td>20</td>\n",
              "      <td>https://cdn.sofifa.org/players/4/19/236452.png</td>\n",
              "      <td>India</td>\n",
              "      <td>https://cdn.sofifa.org/flags/159.png</td>\n",
              "      <td>54</td>\n",
              "      <td>67</td>\n",
              "      <td>NaN</td>\n",
              "      <td>https://cdn.sofifa.org/flags/159.png</td>\n",
              "      <td>€0</td>\n",
              "      <td>€0</td>\n",
              "      <td>1270</td>\n",
              "      <td>Right</td>\n",
              "      <td>1.0</td>\n",
              "      <td>3.0</td>\n",
              "      <td>2.0</td>\n",
              "      <td>Medium/ Medium</td>\n",
              "      <td>Normal</td>\n",
              "      <td>No</td>\n",
              "      <td>NaN</td>\n",
              "      <td>NaN</td>\n",
              "      <td>NaN</td>\n",
              "      <td>NaN</td>\n",
              "      <td>NaN</td>\n",
              "      <td>6'0</td>\n",
              "      <td>168lbs</td>\n",
              "      <td>NaN</td>\n",
              "      <td>NaN</td>\n",
              "      <td>NaN</td>\n",
              "      <td>NaN</td>\n",
              "      <td>NaN</td>\n",
              "      <td>NaN</td>\n",
              "      <td>NaN</td>\n",
              "      <td>NaN</td>\n",
              "      <td>NaN</td>\n",
              "      <td>NaN</td>\n",
              "      <td>NaN</td>\n",
              "      <td>NaN</td>\n",
              "      <td>...</td>\n",
              "      <td>NaN</td>\n",
              "      <td>NaN</td>\n",
              "      <td>NaN</td>\n",
              "      <td>NaN</td>\n",
              "      <td>NaN</td>\n",
              "      <td>25.0</td>\n",
              "      <td>65.0</td>\n",
              "      <td>48.0</td>\n",
              "      <td>38.0</td>\n",
              "      <td>48.0</td>\n",
              "      <td>47.0</td>\n",
              "      <td>33.0</td>\n",
              "      <td>30.0</td>\n",
              "      <td>31.0</td>\n",
              "      <td>52.0</td>\n",
              "      <td>53.0</td>\n",
              "      <td>58.0</td>\n",
              "      <td>59.0</td>\n",
              "      <td>51.0</td>\n",
              "      <td>59.0</td>\n",
              "      <td>51.0</td>\n",
              "      <td>65.0</td>\n",
              "      <td>50.0</td>\n",
              "      <td>58.0</td>\n",
              "      <td>50.0</td>\n",
              "      <td>33.0</td>\n",
              "      <td>18.0</td>\n",
              "      <td>48.0</td>\n",
              "      <td>40.0</td>\n",
              "      <td>55.0</td>\n",
              "      <td>46.0</td>\n",
              "      <td>26.0</td>\n",
              "      <td>17.0</td>\n",
              "      <td>13.0</td>\n",
              "      <td>7.0</td>\n",
              "      <td>8.0</td>\n",
              "      <td>12.0</td>\n",
              "      <td>11.0</td>\n",
              "      <td>11.0</td>\n",
              "      <td>NaN</td>\n",
              "    </tr>\n",
              "    <tr>\n",
              "      <th>17539</th>\n",
              "      <td>17539</td>\n",
              "      <td>234508</td>\n",
              "      <td>C. Singh</td>\n",
              "      <td>21</td>\n",
              "      <td>https://cdn.sofifa.org/players/4/19/234508.png</td>\n",
              "      <td>India</td>\n",
              "      <td>https://cdn.sofifa.org/flags/159.png</td>\n",
              "      <td>53</td>\n",
              "      <td>62</td>\n",
              "      <td>NaN</td>\n",
              "      <td>https://cdn.sofifa.org/flags/159.png</td>\n",
              "      <td>€0</td>\n",
              "      <td>€0</td>\n",
              "      <td>1247</td>\n",
              "      <td>Right</td>\n",
              "      <td>1.0</td>\n",
              "      <td>3.0</td>\n",
              "      <td>2.0</td>\n",
              "      <td>High/ Medium</td>\n",
              "      <td>Lean</td>\n",
              "      <td>No</td>\n",
              "      <td>NaN</td>\n",
              "      <td>NaN</td>\n",
              "      <td>NaN</td>\n",
              "      <td>NaN</td>\n",
              "      <td>NaN</td>\n",
              "      <td>6'3</td>\n",
              "      <td>174lbs</td>\n",
              "      <td>NaN</td>\n",
              "      <td>NaN</td>\n",
              "      <td>NaN</td>\n",
              "      <td>NaN</td>\n",
              "      <td>NaN</td>\n",
              "      <td>NaN</td>\n",
              "      <td>NaN</td>\n",
              "      <td>NaN</td>\n",
              "      <td>NaN</td>\n",
              "      <td>NaN</td>\n",
              "      <td>NaN</td>\n",
              "      <td>NaN</td>\n",
              "      <td>...</td>\n",
              "      <td>NaN</td>\n",
              "      <td>NaN</td>\n",
              "      <td>NaN</td>\n",
              "      <td>NaN</td>\n",
              "      <td>NaN</td>\n",
              "      <td>22.0</td>\n",
              "      <td>21.0</td>\n",
              "      <td>48.0</td>\n",
              "      <td>36.0</td>\n",
              "      <td>20.0</td>\n",
              "      <td>38.0</td>\n",
              "      <td>21.0</td>\n",
              "      <td>27.0</td>\n",
              "      <td>30.0</td>\n",
              "      <td>29.0</td>\n",
              "      <td>71.0</td>\n",
              "      <td>73.0</td>\n",
              "      <td>62.0</td>\n",
              "      <td>48.0</td>\n",
              "      <td>48.0</td>\n",
              "      <td>31.0</td>\n",
              "      <td>71.0</td>\n",
              "      <td>58.0</td>\n",
              "      <td>76.0</td>\n",
              "      <td>22.0</td>\n",
              "      <td>44.0</td>\n",
              "      <td>48.0</td>\n",
              "      <td>26.0</td>\n",
              "      <td>32.0</td>\n",
              "      <td>38.0</td>\n",
              "      <td>41.0</td>\n",
              "      <td>56.0</td>\n",
              "      <td>49.0</td>\n",
              "      <td>53.0</td>\n",
              "      <td>12.0</td>\n",
              "      <td>9.0</td>\n",
              "      <td>6.0</td>\n",
              "      <td>14.0</td>\n",
              "      <td>8.0</td>\n",
              "      <td>NaN</td>\n",
              "    </tr>\n",
              "  </tbody>\n",
              "</table>\n",
              "<p>241 rows × 89 columns</p>\n",
              "</div>"
            ],
            "text/plain": [
              "       unnamed: 0      id  ... gkreflexes  release clause\n",
              "452           452  207439  ...       10.0             NaN\n",
              "538           538  156713  ...       15.0             NaN\n",
              "568           568  229909  ...       85.0             NaN\n",
              "677           677  187347  ...       15.0             NaN\n",
              "874           874  187607  ...        8.0             NaN\n",
              "...           ...     ...  ...        ...             ...\n",
              "17197       17197  245164  ...       53.0             NaN\n",
              "17215       17215  243131  ...       12.0             NaN\n",
              "17339       17339  233526  ...       10.0             NaN\n",
              "17436       17436  236452  ...       11.0             NaN\n",
              "17539       17539  234508  ...        8.0             NaN\n",
              "\n",
              "[241 rows x 89 columns]"
            ]
          },
          "metadata": {
            "tags": []
          },
          "execution_count": 207
        }
      ]
    },
    {
      "cell_type": "code",
      "metadata": {
        "id": "MPnyWTqnlS2t",
        "outputId": "b9c8175a-c037-494f-a40b-20bc23e4b033",
        "colab": {
          "base_uri": "https://localhost:8080/",
          "height": 221
        }
      },
      "source": [
        "df_Fifa['Club Logo'].isna()"
      ],
      "execution_count": null,
      "outputs": [
        {
          "output_type": "execute_result",
          "data": {
            "text/plain": [
              "0        False\n",
              "1        False\n",
              "2        False\n",
              "3        False\n",
              "4        False\n",
              "         ...  \n",
              "18202    False\n",
              "18203    False\n",
              "18204    False\n",
              "18205    False\n",
              "18206    False\n",
              "Name: Club Logo, Length: 18207, dtype: bool"
            ]
          },
          "metadata": {
            "tags": []
          },
          "execution_count": 93
        }
      ]
    },
    {
      "cell_type": "code",
      "metadata": {
        "id": "yNJZABDvodF6",
        "outputId": "5351f663-1d05-4ce6-a868-0a61a75c484a",
        "colab": {
          "base_uri": "https://localhost:8080/",
          "height": 132
        }
      },
      "source": [
        "df_Fifa[df_Fifa['Club Logo'].isna()]"
      ],
      "execution_count": null,
      "outputs": [
        {
          "output_type": "execute_result",
          "data": {
            "text/html": [
              "<div>\n",
              "<style scoped>\n",
              "    .dataframe tbody tr th:only-of-type {\n",
              "        vertical-align: middle;\n",
              "    }\n",
              "\n",
              "    .dataframe tbody tr th {\n",
              "        vertical-align: top;\n",
              "    }\n",
              "\n",
              "    .dataframe thead th {\n",
              "        text-align: right;\n",
              "    }\n",
              "</style>\n",
              "<table border=\"1\" class=\"dataframe\">\n",
              "  <thead>\n",
              "    <tr style=\"text-align: right;\">\n",
              "      <th></th>\n",
              "      <th>unnamed: 0</th>\n",
              "      <th>id</th>\n",
              "      <th>name</th>\n",
              "      <th>age</th>\n",
              "      <th>photo</th>\n",
              "      <th>nationality</th>\n",
              "      <th>flag</th>\n",
              "      <th>overall</th>\n",
              "      <th>potential</th>\n",
              "      <th>club</th>\n",
              "      <th>club logo</th>\n",
              "      <th>value</th>\n",
              "      <th>wage</th>\n",
              "      <th>special</th>\n",
              "      <th>preferred foot</th>\n",
              "      <th>international reputation</th>\n",
              "      <th>weak foot</th>\n",
              "      <th>skill moves</th>\n",
              "      <th>work rate</th>\n",
              "      <th>body type</th>\n",
              "      <th>real face</th>\n",
              "      <th>position</th>\n",
              "      <th>jersey number</th>\n",
              "      <th>joined</th>\n",
              "      <th>loaned from</th>\n",
              "      <th>contract valid until</th>\n",
              "      <th>height</th>\n",
              "      <th>weight</th>\n",
              "      <th>ls</th>\n",
              "      <th>st</th>\n",
              "      <th>rs</th>\n",
              "      <th>lw</th>\n",
              "      <th>lf</th>\n",
              "      <th>cf</th>\n",
              "      <th>rf</th>\n",
              "      <th>rw</th>\n",
              "      <th>lam</th>\n",
              "      <th>cam</th>\n",
              "      <th>ram</th>\n",
              "      <th>lm</th>\n",
              "      <th>...</th>\n",
              "      <th>lb</th>\n",
              "      <th>lcb</th>\n",
              "      <th>cb</th>\n",
              "      <th>rcb</th>\n",
              "      <th>rb</th>\n",
              "      <th>crossing</th>\n",
              "      <th>finishing</th>\n",
              "      <th>headingaccuracy</th>\n",
              "      <th>shortpassing</th>\n",
              "      <th>volleys</th>\n",
              "      <th>dribbling</th>\n",
              "      <th>curve</th>\n",
              "      <th>fkaccuracy</th>\n",
              "      <th>longpassing</th>\n",
              "      <th>ballcontrol</th>\n",
              "      <th>acceleration</th>\n",
              "      <th>sprintspeed</th>\n",
              "      <th>agility</th>\n",
              "      <th>reactions</th>\n",
              "      <th>balance</th>\n",
              "      <th>shotpower</th>\n",
              "      <th>jumping</th>\n",
              "      <th>stamina</th>\n",
              "      <th>strength</th>\n",
              "      <th>longshots</th>\n",
              "      <th>aggression</th>\n",
              "      <th>interceptions</th>\n",
              "      <th>positioning</th>\n",
              "      <th>vision</th>\n",
              "      <th>penalties</th>\n",
              "      <th>composure</th>\n",
              "      <th>marking</th>\n",
              "      <th>standingtackle</th>\n",
              "      <th>slidingtackle</th>\n",
              "      <th>gkdiving</th>\n",
              "      <th>gkhandling</th>\n",
              "      <th>gkkicking</th>\n",
              "      <th>gkpositioning</th>\n",
              "      <th>gkreflexes</th>\n",
              "      <th>release clause</th>\n",
              "    </tr>\n",
              "  </thead>\n",
              "  <tbody>\n",
              "  </tbody>\n",
              "</table>\n",
              "<p>0 rows × 89 columns</p>\n",
              "</div>"
            ],
            "text/plain": [
              "Empty DataFrame\n",
              "Columns: [unnamed: 0, id, name, age, photo, nationality, flag, overall, potential, club, club logo, value, wage, special, preferred foot, international reputation, weak foot, skill moves, work rate, body type, real face, position, jersey number, joined, loaned from, contract valid until, height, weight, ls, st, rs, lw, lf, cf, rf, rw, lam, cam, ram, lm, lcm, cm, rcm, rm, lwb, ldm, cdm, rdm, rwb, lb, lcb, cb, rcb, rb, crossing, finishing, headingaccuracy, shortpassing, volleys, dribbling, curve, fkaccuracy, longpassing, ballcontrol, acceleration, sprintspeed, agility, reactions, balance, shotpower, jumping, stamina, strength, longshots, aggression, interceptions, positioning, vision, penalties, composure, marking, standingtackle, slidingtackle, gkdiving, gkhandling, gkkicking, gkpositioning, gkreflexes, release clause]\n",
              "Index: []\n",
              "\n",
              "[0 rows x 89 columns]"
            ]
          },
          "metadata": {
            "tags": []
          },
          "execution_count": 212
        }
      ]
    },
    {
      "cell_type": "code",
      "metadata": {
        "id": "D5TutMiKopBr",
        "outputId": "618d71a3-94ca-4414-ebe1-d41e47074fa5",
        "colab": {
          "base_uri": "https://localhost:8080/",
          "height": 132
        }
      },
      "source": [
        "df_Fifa[df_Fifa['Flag'].isna()]"
      ],
      "execution_count": null,
      "outputs": [
        {
          "output_type": "execute_result",
          "data": {
            "text/html": [
              "<div>\n",
              "<style scoped>\n",
              "    .dataframe tbody tr th:only-of-type {\n",
              "        vertical-align: middle;\n",
              "    }\n",
              "\n",
              "    .dataframe tbody tr th {\n",
              "        vertical-align: top;\n",
              "    }\n",
              "\n",
              "    .dataframe thead th {\n",
              "        text-align: right;\n",
              "    }\n",
              "</style>\n",
              "<table border=\"1\" class=\"dataframe\">\n",
              "  <thead>\n",
              "    <tr style=\"text-align: right;\">\n",
              "      <th></th>\n",
              "      <th>Unnamed: 0</th>\n",
              "      <th>ID</th>\n",
              "      <th>Name</th>\n",
              "      <th>Age</th>\n",
              "      <th>Photo</th>\n",
              "      <th>Nationality</th>\n",
              "      <th>Flag</th>\n",
              "      <th>Overall</th>\n",
              "      <th>Potential</th>\n",
              "      <th>Club</th>\n",
              "      <th>Club Logo</th>\n",
              "      <th>Value</th>\n",
              "      <th>Wage</th>\n",
              "      <th>Special</th>\n",
              "      <th>Preferred Foot</th>\n",
              "      <th>International Reputation</th>\n",
              "      <th>Weak Foot</th>\n",
              "      <th>Skill Moves</th>\n",
              "      <th>Work Rate</th>\n",
              "      <th>Body Type</th>\n",
              "      <th>Real Face</th>\n",
              "      <th>Position</th>\n",
              "      <th>Jersey Number</th>\n",
              "      <th>Joined</th>\n",
              "      <th>Loaned From</th>\n",
              "      <th>Contract Valid Until</th>\n",
              "      <th>Height</th>\n",
              "      <th>Weight</th>\n",
              "      <th>LS</th>\n",
              "      <th>ST</th>\n",
              "      <th>RS</th>\n",
              "      <th>LW</th>\n",
              "      <th>LF</th>\n",
              "      <th>CF</th>\n",
              "      <th>RF</th>\n",
              "      <th>RW</th>\n",
              "      <th>LAM</th>\n",
              "      <th>CAM</th>\n",
              "      <th>RAM</th>\n",
              "      <th>LM</th>\n",
              "      <th>...</th>\n",
              "      <th>LB</th>\n",
              "      <th>LCB</th>\n",
              "      <th>CB</th>\n",
              "      <th>RCB</th>\n",
              "      <th>RB</th>\n",
              "      <th>Crossing</th>\n",
              "      <th>Finishing</th>\n",
              "      <th>HeadingAccuracy</th>\n",
              "      <th>ShortPassing</th>\n",
              "      <th>Volleys</th>\n",
              "      <th>Dribbling</th>\n",
              "      <th>Curve</th>\n",
              "      <th>FKAccuracy</th>\n",
              "      <th>LongPassing</th>\n",
              "      <th>BallControl</th>\n",
              "      <th>Acceleration</th>\n",
              "      <th>SprintSpeed</th>\n",
              "      <th>Agility</th>\n",
              "      <th>Reactions</th>\n",
              "      <th>Balance</th>\n",
              "      <th>ShotPower</th>\n",
              "      <th>Jumping</th>\n",
              "      <th>Stamina</th>\n",
              "      <th>Strength</th>\n",
              "      <th>LongShots</th>\n",
              "      <th>Aggression</th>\n",
              "      <th>Interceptions</th>\n",
              "      <th>Positioning</th>\n",
              "      <th>Vision</th>\n",
              "      <th>Penalties</th>\n",
              "      <th>Composure</th>\n",
              "      <th>Marking</th>\n",
              "      <th>StandingTackle</th>\n",
              "      <th>SlidingTackle</th>\n",
              "      <th>GKDiving</th>\n",
              "      <th>GKHandling</th>\n",
              "      <th>GKKicking</th>\n",
              "      <th>GKPositioning</th>\n",
              "      <th>GKReflexes</th>\n",
              "      <th>Release Clause</th>\n",
              "    </tr>\n",
              "  </thead>\n",
              "  <tbody>\n",
              "  </tbody>\n",
              "</table>\n",
              "<p>0 rows × 89 columns</p>\n",
              "</div>"
            ],
            "text/plain": [
              "Empty DataFrame\n",
              "Columns: [Unnamed: 0, ID, Name, Age, Photo, Nationality, Flag, Overall, Potential, Club, Club Logo, Value, Wage, Special, Preferred Foot, International Reputation, Weak Foot, Skill Moves, Work Rate, Body Type, Real Face, Position, Jersey Number, Joined, Loaned From, Contract Valid Until, Height, Weight, LS, ST, RS, LW, LF, CF, RF, RW, LAM, CAM, RAM, LM, LCM, CM, RCM, RM, LWB, LDM, CDM, RDM, RWB, LB, LCB, CB, RCB, RB, Crossing, Finishing, HeadingAccuracy, ShortPassing, Volleys, Dribbling, Curve, FKAccuracy, LongPassing, BallControl, Acceleration, SprintSpeed, Agility, Reactions, Balance, ShotPower, Jumping, Stamina, Strength, LongShots, Aggression, Interceptions, Positioning, Vision, Penalties, Composure, Marking, StandingTackle, SlidingTackle, GKDiving, GKHandling, GKKicking, GKPositioning, GKReflexes, Release Clause]\n",
              "Index: []\n",
              "\n",
              "[0 rows x 89 columns]"
            ]
          },
          "metadata": {
            "tags": []
          },
          "execution_count": 94
        }
      ]
    },
    {
      "cell_type": "code",
      "metadata": {
        "id": "U-7csZkbnrYh"
      },
      "source": [
        "'https://cdn.sofifa.org/flags/52.png' isin"
      ],
      "execution_count": null,
      "outputs": []
    },
    {
      "cell_type": "code",
      "metadata": {
        "id": "y_e8Sg_EpNHI"
      },
      "source": [
        "a_club_logo = df_Fifa['Club Logo'].unique()"
      ],
      "execution_count": null,
      "outputs": []
    },
    {
      "cell_type": "code",
      "metadata": {
        "id": "aGdp1IZzprj5",
        "outputId": "f8663093-80a0-4d42-aa83-7ba22d591313",
        "colab": {
          "base_uri": "https://localhost:8080/",
          "height": 34
        }
      },
      "source": [
        "type(a_club_logo)"
      ],
      "execution_count": null,
      "outputs": [
        {
          "output_type": "execute_result",
          "data": {
            "text/plain": [
              "numpy.ndarray"
            ]
          },
          "metadata": {
            "tags": []
          },
          "execution_count": 229
        }
      ]
    },
    {
      "cell_type": "code",
      "metadata": {
        "id": "NjrzLdrypqDO",
        "outputId": "7ab503d8-24b4-4ad0-c2f0-c54893479f36",
        "colab": {
          "base_uri": "https://localhost:8080/",
          "height": 34
        }
      },
      "source": [
        "len(a_club_logo)"
      ],
      "execution_count": null,
      "outputs": [
        {
          "output_type": "execute_result",
          "data": {
            "text/plain": [
              "679"
            ]
          },
          "metadata": {
            "tags": []
          },
          "execution_count": 230
        }
      ]
    },
    {
      "cell_type": "code",
      "metadata": {
        "id": "k8q7It-wqjLo"
      },
      "source": [
        "a_club_logo"
      ],
      "execution_count": null,
      "outputs": []
    },
    {
      "cell_type": "code",
      "metadata": {
        "id": "xHwQqaMvpQsg"
      },
      "source": [
        "a_flag = df_Fifa['Flag'].unique()"
      ],
      "execution_count": null,
      "outputs": []
    },
    {
      "cell_type": "code",
      "metadata": {
        "id": "zuSlmndkqXpS"
      },
      "source": [
        ""
      ],
      "execution_count": null,
      "outputs": []
    },
    {
      "cell_type": "code",
      "metadata": {
        "id": "uO0UAWcZp-IN",
        "outputId": "4d050d94-7a8e-4072-fc30-b2d32b5b6029",
        "colab": {
          "base_uri": "https://localhost:8080/",
          "height": 34
        }
      },
      "source": [
        "type(a_flag)"
      ],
      "execution_count": null,
      "outputs": [
        {
          "output_type": "execute_result",
          "data": {
            "text/plain": [
              "numpy.ndarray"
            ]
          },
          "metadata": {
            "tags": []
          },
          "execution_count": 224
        }
      ]
    },
    {
      "cell_type": "code",
      "metadata": {
        "id": "Td5ahUKxqA8_",
        "outputId": "dee7b9f1-1448-4528-bae3-36ffd0d404c3",
        "colab": {
          "base_uri": "https://localhost:8080/",
          "height": 34
        }
      },
      "source": [
        "len(a_flag)"
      ],
      "execution_count": null,
      "outputs": [
        {
          "output_type": "execute_result",
          "data": {
            "text/plain": [
              "164"
            ]
          },
          "metadata": {
            "tags": []
          },
          "execution_count": 225
        }
      ]
    },
    {
      "cell_type": "code",
      "metadata": {
        "id": "PBrJCn6CqEZV"
      },
      "source": [
        "a_flag"
      ],
      "execution_count": null,
      "outputs": []
    },
    {
      "cell_type": "code",
      "metadata": {
        "id": "sXEwEp31qaA7"
      },
      "source": [
        "df_fccl = df_Fifa[['Flag','Club','Club Logo']]"
      ],
      "execution_count": null,
      "outputs": []
    },
    {
      "cell_type": "code",
      "metadata": {
        "id": "2ZaroHVBsVMc",
        "outputId": "d804b15c-c9a5-46d1-c24d-0088b73ed8df",
        "colab": {
          "base_uri": "https://localhost:8080/",
          "height": 80
        }
      },
      "source": [
        "df_fccl[df_fccl['club logo'] == 'https://cdn.sofifa.org/flags/52.png']"
      ],
      "execution_count": null,
      "outputs": [
        {
          "output_type": "execute_result",
          "data": {
            "text/html": [
              "<div>\n",
              "<style scoped>\n",
              "    .dataframe tbody tr th:only-of-type {\n",
              "        vertical-align: middle;\n",
              "    }\n",
              "\n",
              "    .dataframe tbody tr th {\n",
              "        vertical-align: top;\n",
              "    }\n",
              "\n",
              "    .dataframe thead th {\n",
              "        text-align: right;\n",
              "    }\n",
              "</style>\n",
              "<table border=\"1\" class=\"dataframe\">\n",
              "  <thead>\n",
              "    <tr style=\"text-align: right;\">\n",
              "      <th></th>\n",
              "      <th>flag</th>\n",
              "      <th>club</th>\n",
              "      <th>club logo</th>\n",
              "    </tr>\n",
              "  </thead>\n",
              "  <tbody>\n",
              "    <tr>\n",
              "      <th>452</th>\n",
              "      <td>https://cdn.sofifa.org/flags/52.png</td>\n",
              "      <td>NaN</td>\n",
              "      <td>https://cdn.sofifa.org/flags/52.png</td>\n",
              "    </tr>\n",
              "  </tbody>\n",
              "</table>\n",
              "</div>"
            ],
            "text/plain": [
              "                                    flag  ...                            club logo\n",
              "452  https://cdn.sofifa.org/flags/52.png  ...  https://cdn.sofifa.org/flags/52.png\n",
              "\n",
              "[1 rows x 3 columns]"
            ]
          },
          "metadata": {
            "tags": []
          },
          "execution_count": 254
        }
      ]
    },
    {
      "cell_type": "code",
      "metadata": {
        "id": "CivUpH2nsxlh",
        "outputId": "66c8241f-e419-42a6-cb57-d3f6462d5692",
        "colab": {
          "base_uri": "https://localhost:8080/",
          "height": 372
        }
      },
      "source": [
        "df_Fifa[df_Fifa['Club'].isnull()].head()"
      ],
      "execution_count": null,
      "outputs": [
        {
          "output_type": "execute_result",
          "data": {
            "text/html": [
              "<div>\n",
              "<style scoped>\n",
              "    .dataframe tbody tr th:only-of-type {\n",
              "        vertical-align: middle;\n",
              "    }\n",
              "\n",
              "    .dataframe tbody tr th {\n",
              "        vertical-align: top;\n",
              "    }\n",
              "\n",
              "    .dataframe thead th {\n",
              "        text-align: right;\n",
              "    }\n",
              "</style>\n",
              "<table border=\"1\" class=\"dataframe\">\n",
              "  <thead>\n",
              "    <tr style=\"text-align: right;\">\n",
              "      <th></th>\n",
              "      <th>Unnamed: 0</th>\n",
              "      <th>ID</th>\n",
              "      <th>Name</th>\n",
              "      <th>Age</th>\n",
              "      <th>Photo</th>\n",
              "      <th>Nationality</th>\n",
              "      <th>Flag</th>\n",
              "      <th>Overall</th>\n",
              "      <th>Potential</th>\n",
              "      <th>Club</th>\n",
              "      <th>Club Logo</th>\n",
              "      <th>Value</th>\n",
              "      <th>Wage</th>\n",
              "      <th>Special</th>\n",
              "      <th>Preferred Foot</th>\n",
              "      <th>International Reputation</th>\n",
              "      <th>Weak Foot</th>\n",
              "      <th>Skill Moves</th>\n",
              "      <th>Work Rate</th>\n",
              "      <th>Body Type</th>\n",
              "      <th>Real Face</th>\n",
              "      <th>Position</th>\n",
              "      <th>Jersey Number</th>\n",
              "      <th>Joined</th>\n",
              "      <th>Loaned From</th>\n",
              "      <th>Contract Valid Until</th>\n",
              "      <th>Height</th>\n",
              "      <th>Weight</th>\n",
              "      <th>LS</th>\n",
              "      <th>ST</th>\n",
              "      <th>RS</th>\n",
              "      <th>LW</th>\n",
              "      <th>LF</th>\n",
              "      <th>CF</th>\n",
              "      <th>RF</th>\n",
              "      <th>RW</th>\n",
              "      <th>LAM</th>\n",
              "      <th>CAM</th>\n",
              "      <th>RAM</th>\n",
              "      <th>LM</th>\n",
              "      <th>...</th>\n",
              "      <th>LB</th>\n",
              "      <th>LCB</th>\n",
              "      <th>CB</th>\n",
              "      <th>RCB</th>\n",
              "      <th>RB</th>\n",
              "      <th>Crossing</th>\n",
              "      <th>Finishing</th>\n",
              "      <th>HeadingAccuracy</th>\n",
              "      <th>ShortPassing</th>\n",
              "      <th>Volleys</th>\n",
              "      <th>Dribbling</th>\n",
              "      <th>Curve</th>\n",
              "      <th>FKAccuracy</th>\n",
              "      <th>LongPassing</th>\n",
              "      <th>BallControl</th>\n",
              "      <th>Acceleration</th>\n",
              "      <th>SprintSpeed</th>\n",
              "      <th>Agility</th>\n",
              "      <th>Reactions</th>\n",
              "      <th>Balance</th>\n",
              "      <th>ShotPower</th>\n",
              "      <th>Jumping</th>\n",
              "      <th>Stamina</th>\n",
              "      <th>Strength</th>\n",
              "      <th>LongShots</th>\n",
              "      <th>Aggression</th>\n",
              "      <th>Interceptions</th>\n",
              "      <th>Positioning</th>\n",
              "      <th>Vision</th>\n",
              "      <th>Penalties</th>\n",
              "      <th>Composure</th>\n",
              "      <th>Marking</th>\n",
              "      <th>StandingTackle</th>\n",
              "      <th>SlidingTackle</th>\n",
              "      <th>GKDiving</th>\n",
              "      <th>GKHandling</th>\n",
              "      <th>GKKicking</th>\n",
              "      <th>GKPositioning</th>\n",
              "      <th>GKReflexes</th>\n",
              "      <th>Release Clause</th>\n",
              "    </tr>\n",
              "  </thead>\n",
              "  <tbody>\n",
              "    <tr>\n",
              "      <th>452</th>\n",
              "      <td>452</td>\n",
              "      <td>207439</td>\n",
              "      <td>L. Paredes</td>\n",
              "      <td>24</td>\n",
              "      <td>https://cdn.sofifa.org/players/4/19/207439.png</td>\n",
              "      <td>Argentina</td>\n",
              "      <td>https://cdn.sofifa.org/flags/52.png</td>\n",
              "      <td>80</td>\n",
              "      <td>85</td>\n",
              "      <td>NaN</td>\n",
              "      <td>https://cdn.sofifa.org/flags/52.png</td>\n",
              "      <td>€0</td>\n",
              "      <td>€0</td>\n",
              "      <td>2122</td>\n",
              "      <td>Right</td>\n",
              "      <td>2.0</td>\n",
              "      <td>4.0</td>\n",
              "      <td>4.0</td>\n",
              "      <td>Medium/ Medium</td>\n",
              "      <td>Normal</td>\n",
              "      <td>No</td>\n",
              "      <td>CM</td>\n",
              "      <td>5.0</td>\n",
              "      <td>NaN</td>\n",
              "      <td>NaN</td>\n",
              "      <td>NaN</td>\n",
              "      <td>5'11</td>\n",
              "      <td>165lbs</td>\n",
              "      <td>71+2</td>\n",
              "      <td>71+2</td>\n",
              "      <td>71+2</td>\n",
              "      <td>75+2</td>\n",
              "      <td>75+2</td>\n",
              "      <td>75+2</td>\n",
              "      <td>75+2</td>\n",
              "      <td>75+2</td>\n",
              "      <td>77+2</td>\n",
              "      <td>77+2</td>\n",
              "      <td>77+2</td>\n",
              "      <td>76+2</td>\n",
              "      <td>...</td>\n",
              "      <td>74+2</td>\n",
              "      <td>72+2</td>\n",
              "      <td>72+2</td>\n",
              "      <td>72+2</td>\n",
              "      <td>74+2</td>\n",
              "      <td>76.0</td>\n",
              "      <td>55.0</td>\n",
              "      <td>60.0</td>\n",
              "      <td>84.0</td>\n",
              "      <td>73.0</td>\n",
              "      <td>78.0</td>\n",
              "      <td>79.0</td>\n",
              "      <td>78.0</td>\n",
              "      <td>82.0</td>\n",
              "      <td>82.0</td>\n",
              "      <td>75.0</td>\n",
              "      <td>69.0</td>\n",
              "      <td>77.0</td>\n",
              "      <td>74.0</td>\n",
              "      <td>77.0</td>\n",
              "      <td>82.0</td>\n",
              "      <td>61.0</td>\n",
              "      <td>79.0</td>\n",
              "      <td>69.0</td>\n",
              "      <td>80.0</td>\n",
              "      <td>79.0</td>\n",
              "      <td>72.0</td>\n",
              "      <td>74.0</td>\n",
              "      <td>82.0</td>\n",
              "      <td>57.0</td>\n",
              "      <td>74.0</td>\n",
              "      <td>73.0</td>\n",
              "      <td>75.0</td>\n",
              "      <td>72.0</td>\n",
              "      <td>9.0</td>\n",
              "      <td>14.0</td>\n",
              "      <td>6.0</td>\n",
              "      <td>9.0</td>\n",
              "      <td>10.0</td>\n",
              "      <td>NaN</td>\n",
              "    </tr>\n",
              "    <tr>\n",
              "      <th>538</th>\n",
              "      <td>538</td>\n",
              "      <td>156713</td>\n",
              "      <td>A. Granqvist</td>\n",
              "      <td>33</td>\n",
              "      <td>https://cdn.sofifa.org/players/4/19/156713.png</td>\n",
              "      <td>Sweden</td>\n",
              "      <td>https://cdn.sofifa.org/flags/46.png</td>\n",
              "      <td>80</td>\n",
              "      <td>80</td>\n",
              "      <td>NaN</td>\n",
              "      <td>https://cdn.sofifa.org/flags/46.png</td>\n",
              "      <td>€0</td>\n",
              "      <td>€0</td>\n",
              "      <td>1797</td>\n",
              "      <td>Right</td>\n",
              "      <td>2.0</td>\n",
              "      <td>4.0</td>\n",
              "      <td>2.0</td>\n",
              "      <td>High/ Medium</td>\n",
              "      <td>Normal</td>\n",
              "      <td>No</td>\n",
              "      <td>LCB</td>\n",
              "      <td>4.0</td>\n",
              "      <td>NaN</td>\n",
              "      <td>NaN</td>\n",
              "      <td>NaN</td>\n",
              "      <td>6'4</td>\n",
              "      <td>185lbs</td>\n",
              "      <td>62+2</td>\n",
              "      <td>62+2</td>\n",
              "      <td>62+2</td>\n",
              "      <td>56+2</td>\n",
              "      <td>58+2</td>\n",
              "      <td>58+2</td>\n",
              "      <td>58+2</td>\n",
              "      <td>56+2</td>\n",
              "      <td>58+2</td>\n",
              "      <td>58+2</td>\n",
              "      <td>58+2</td>\n",
              "      <td>57+2</td>\n",
              "      <td>...</td>\n",
              "      <td>70+2</td>\n",
              "      <td>79+2</td>\n",
              "      <td>79+2</td>\n",
              "      <td>79+2</td>\n",
              "      <td>70+2</td>\n",
              "      <td>49.0</td>\n",
              "      <td>51.0</td>\n",
              "      <td>81.0</td>\n",
              "      <td>73.0</td>\n",
              "      <td>37.0</td>\n",
              "      <td>49.0</td>\n",
              "      <td>36.0</td>\n",
              "      <td>40.0</td>\n",
              "      <td>67.0</td>\n",
              "      <td>63.0</td>\n",
              "      <td>46.0</td>\n",
              "      <td>49.0</td>\n",
              "      <td>55.0</td>\n",
              "      <td>76.0</td>\n",
              "      <td>36.0</td>\n",
              "      <td>74.0</td>\n",
              "      <td>64.0</td>\n",
              "      <td>67.0</td>\n",
              "      <td>83.0</td>\n",
              "      <td>59.0</td>\n",
              "      <td>81.0</td>\n",
              "      <td>82.0</td>\n",
              "      <td>54.0</td>\n",
              "      <td>49.0</td>\n",
              "      <td>79.0</td>\n",
              "      <td>78.0</td>\n",
              "      <td>82.0</td>\n",
              "      <td>83.0</td>\n",
              "      <td>79.0</td>\n",
              "      <td>7.0</td>\n",
              "      <td>9.0</td>\n",
              "      <td>12.0</td>\n",
              "      <td>10.0</td>\n",
              "      <td>15.0</td>\n",
              "      <td>NaN</td>\n",
              "    </tr>\n",
              "    <tr>\n",
              "      <th>568</th>\n",
              "      <td>568</td>\n",
              "      <td>229909</td>\n",
              "      <td>A. Lunev</td>\n",
              "      <td>26</td>\n",
              "      <td>https://cdn.sofifa.org/players/4/19/229909.png</td>\n",
              "      <td>Russia</td>\n",
              "      <td>https://cdn.sofifa.org/flags/40.png</td>\n",
              "      <td>79</td>\n",
              "      <td>81</td>\n",
              "      <td>NaN</td>\n",
              "      <td>https://cdn.sofifa.org/flags/40.png</td>\n",
              "      <td>€0</td>\n",
              "      <td>€0</td>\n",
              "      <td>1217</td>\n",
              "      <td>Right</td>\n",
              "      <td>1.0</td>\n",
              "      <td>3.0</td>\n",
              "      <td>1.0</td>\n",
              "      <td>Medium/ Medium</td>\n",
              "      <td>Normal</td>\n",
              "      <td>No</td>\n",
              "      <td>GK</td>\n",
              "      <td>12.0</td>\n",
              "      <td>NaN</td>\n",
              "      <td>NaN</td>\n",
              "      <td>NaN</td>\n",
              "      <td>6'2</td>\n",
              "      <td>176lbs</td>\n",
              "      <td>NaN</td>\n",
              "      <td>NaN</td>\n",
              "      <td>NaN</td>\n",
              "      <td>NaN</td>\n",
              "      <td>NaN</td>\n",
              "      <td>NaN</td>\n",
              "      <td>NaN</td>\n",
              "      <td>NaN</td>\n",
              "      <td>NaN</td>\n",
              "      <td>NaN</td>\n",
              "      <td>NaN</td>\n",
              "      <td>NaN</td>\n",
              "      <td>...</td>\n",
              "      <td>NaN</td>\n",
              "      <td>NaN</td>\n",
              "      <td>NaN</td>\n",
              "      <td>NaN</td>\n",
              "      <td>NaN</td>\n",
              "      <td>16.0</td>\n",
              "      <td>14.0</td>\n",
              "      <td>17.0</td>\n",
              "      <td>25.0</td>\n",
              "      <td>13.0</td>\n",
              "      <td>15.0</td>\n",
              "      <td>18.0</td>\n",
              "      <td>17.0</td>\n",
              "      <td>32.0</td>\n",
              "      <td>17.0</td>\n",
              "      <td>58.0</td>\n",
              "      <td>54.0</td>\n",
              "      <td>36.0</td>\n",
              "      <td>76.0</td>\n",
              "      <td>50.0</td>\n",
              "      <td>24.0</td>\n",
              "      <td>60.0</td>\n",
              "      <td>27.0</td>\n",
              "      <td>70.0</td>\n",
              "      <td>13.0</td>\n",
              "      <td>26.0</td>\n",
              "      <td>20.0</td>\n",
              "      <td>11.0</td>\n",
              "      <td>63.0</td>\n",
              "      <td>15.0</td>\n",
              "      <td>69.0</td>\n",
              "      <td>18.0</td>\n",
              "      <td>20.0</td>\n",
              "      <td>12.0</td>\n",
              "      <td>80.0</td>\n",
              "      <td>73.0</td>\n",
              "      <td>65.0</td>\n",
              "      <td>77.0</td>\n",
              "      <td>85.0</td>\n",
              "      <td>NaN</td>\n",
              "    </tr>\n",
              "    <tr>\n",
              "      <th>677</th>\n",
              "      <td>677</td>\n",
              "      <td>187347</td>\n",
              "      <td>I. Smolnikov</td>\n",
              "      <td>29</td>\n",
              "      <td>https://cdn.sofifa.org/players/4/19/187347.png</td>\n",
              "      <td>Russia</td>\n",
              "      <td>https://cdn.sofifa.org/flags/40.png</td>\n",
              "      <td>79</td>\n",
              "      <td>79</td>\n",
              "      <td>NaN</td>\n",
              "      <td>https://cdn.sofifa.org/flags/40.png</td>\n",
              "      <td>€0</td>\n",
              "      <td>€0</td>\n",
              "      <td>2038</td>\n",
              "      <td>Right</td>\n",
              "      <td>2.0</td>\n",
              "      <td>3.0</td>\n",
              "      <td>3.0</td>\n",
              "      <td>High/ High</td>\n",
              "      <td>Lean</td>\n",
              "      <td>No</td>\n",
              "      <td>RB</td>\n",
              "      <td>2.0</td>\n",
              "      <td>NaN</td>\n",
              "      <td>NaN</td>\n",
              "      <td>NaN</td>\n",
              "      <td>5'10</td>\n",
              "      <td>154lbs</td>\n",
              "      <td>70+2</td>\n",
              "      <td>70+2</td>\n",
              "      <td>70+2</td>\n",
              "      <td>73+2</td>\n",
              "      <td>72+2</td>\n",
              "      <td>72+2</td>\n",
              "      <td>72+2</td>\n",
              "      <td>73+2</td>\n",
              "      <td>73+2</td>\n",
              "      <td>73+2</td>\n",
              "      <td>73+2</td>\n",
              "      <td>75+2</td>\n",
              "      <td>...</td>\n",
              "      <td>78+2</td>\n",
              "      <td>73+2</td>\n",
              "      <td>73+2</td>\n",
              "      <td>73+2</td>\n",
              "      <td>78+2</td>\n",
              "      <td>73.0</td>\n",
              "      <td>61.0</td>\n",
              "      <td>69.0</td>\n",
              "      <td>79.0</td>\n",
              "      <td>57.0</td>\n",
              "      <td>72.0</td>\n",
              "      <td>49.0</td>\n",
              "      <td>46.0</td>\n",
              "      <td>75.0</td>\n",
              "      <td>72.0</td>\n",
              "      <td>84.0</td>\n",
              "      <td>90.0</td>\n",
              "      <td>80.0</td>\n",
              "      <td>75.0</td>\n",
              "      <td>76.0</td>\n",
              "      <td>67.0</td>\n",
              "      <td>85.0</td>\n",
              "      <td>93.0</td>\n",
              "      <td>68.0</td>\n",
              "      <td>57.0</td>\n",
              "      <td>65.0</td>\n",
              "      <td>71.0</td>\n",
              "      <td>77.0</td>\n",
              "      <td>72.0</td>\n",
              "      <td>41.0</td>\n",
              "      <td>73.0</td>\n",
              "      <td>76.0</td>\n",
              "      <td>76.0</td>\n",
              "      <td>80.0</td>\n",
              "      <td>7.0</td>\n",
              "      <td>12.0</td>\n",
              "      <td>10.0</td>\n",
              "      <td>8.0</td>\n",
              "      <td>15.0</td>\n",
              "      <td>NaN</td>\n",
              "    </tr>\n",
              "    <tr>\n",
              "      <th>874</th>\n",
              "      <td>874</td>\n",
              "      <td>187607</td>\n",
              "      <td>A. Dzyuba</td>\n",
              "      <td>29</td>\n",
              "      <td>https://cdn.sofifa.org/players/4/19/187607.png</td>\n",
              "      <td>Russia</td>\n",
              "      <td>https://cdn.sofifa.org/flags/40.png</td>\n",
              "      <td>78</td>\n",
              "      <td>78</td>\n",
              "      <td>NaN</td>\n",
              "      <td>https://cdn.sofifa.org/flags/40.png</td>\n",
              "      <td>€0</td>\n",
              "      <td>€0</td>\n",
              "      <td>1810</td>\n",
              "      <td>Right</td>\n",
              "      <td>2.0</td>\n",
              "      <td>3.0</td>\n",
              "      <td>3.0</td>\n",
              "      <td>High/ Medium</td>\n",
              "      <td>Stocky</td>\n",
              "      <td>No</td>\n",
              "      <td>ST</td>\n",
              "      <td>22.0</td>\n",
              "      <td>NaN</td>\n",
              "      <td>NaN</td>\n",
              "      <td>NaN</td>\n",
              "      <td>6'5</td>\n",
              "      <td>201lbs</td>\n",
              "      <td>77+2</td>\n",
              "      <td>77+2</td>\n",
              "      <td>77+2</td>\n",
              "      <td>71+2</td>\n",
              "      <td>74+2</td>\n",
              "      <td>74+2</td>\n",
              "      <td>74+2</td>\n",
              "      <td>71+2</td>\n",
              "      <td>71+2</td>\n",
              "      <td>71+2</td>\n",
              "      <td>71+2</td>\n",
              "      <td>71+2</td>\n",
              "      <td>...</td>\n",
              "      <td>48+2</td>\n",
              "      <td>48+2</td>\n",
              "      <td>48+2</td>\n",
              "      <td>48+2</td>\n",
              "      <td>48+2</td>\n",
              "      <td>61.0</td>\n",
              "      <td>79.0</td>\n",
              "      <td>86.0</td>\n",
              "      <td>71.0</td>\n",
              "      <td>74.0</td>\n",
              "      <td>71.0</td>\n",
              "      <td>64.0</td>\n",
              "      <td>60.0</td>\n",
              "      <td>55.0</td>\n",
              "      <td>77.0</td>\n",
              "      <td>66.0</td>\n",
              "      <td>65.0</td>\n",
              "      <td>50.0</td>\n",
              "      <td>75.0</td>\n",
              "      <td>32.0</td>\n",
              "      <td>78.0</td>\n",
              "      <td>63.0</td>\n",
              "      <td>77.0</td>\n",
              "      <td>93.0</td>\n",
              "      <td>68.0</td>\n",
              "      <td>75.0</td>\n",
              "      <td>30.0</td>\n",
              "      <td>78.0</td>\n",
              "      <td>73.0</td>\n",
              "      <td>77.0</td>\n",
              "      <td>70.0</td>\n",
              "      <td>21.0</td>\n",
              "      <td>15.0</td>\n",
              "      <td>19.0</td>\n",
              "      <td>15.0</td>\n",
              "      <td>12.0</td>\n",
              "      <td>11.0</td>\n",
              "      <td>11.0</td>\n",
              "      <td>8.0</td>\n",
              "      <td>NaN</td>\n",
              "    </tr>\n",
              "  </tbody>\n",
              "</table>\n",
              "<p>5 rows × 89 columns</p>\n",
              "</div>"
            ],
            "text/plain": [
              "     Unnamed: 0      ID  ... GKReflexes  Release Clause\n",
              "452         452  207439  ...       10.0             NaN\n",
              "538         538  156713  ...       15.0             NaN\n",
              "568         568  229909  ...       85.0             NaN\n",
              "677         677  187347  ...       15.0             NaN\n",
              "874         874  187607  ...        8.0             NaN\n",
              "\n",
              "[5 rows x 89 columns]"
            ]
          },
          "metadata": {
            "tags": []
          },
          "execution_count": 98
        }
      ]
    },
    {
      "cell_type": "code",
      "metadata": {
        "id": "lmFRVHzltH8m",
        "outputId": "7038199d-fc0a-4921-a3a2-09432db029ce",
        "colab": {
          "base_uri": "https://localhost:8080/",
          "height": 238
        }
      },
      "source": [
        "# 10. Qual a média de idade por clube?\n",
        "\n",
        "df_Fifa.groupby('Club')['Age'].sum()"
      ],
      "execution_count": null,
      "outputs": [
        {
          "output_type": "execute_result",
          "data": {
            "text/plain": [
              "Club\n",
              " SSV Jahn Regensburg     744\n",
              "1. FC Heidenheim 1846    672\n",
              "1. FC Kaiserslautern     620\n",
              "1. FC Köln               681\n",
              "1. FC Magdeburg          642\n",
              "                        ... \n",
              "Zagłębie Sosnowiec       656\n",
              "Çaykur Rizespor          763\n",
              "Örebro SK                649\n",
              "Östersunds FK            525\n",
              "Śląsk Wrocław            649\n",
              "Name: Age, Length: 651, dtype: int64"
            ]
          },
          "metadata": {
            "tags": []
          },
          "execution_count": 99
        }
      ]
    },
    {
      "cell_type": "code",
      "metadata": {
        "id": "c461uH2qyT6K",
        "outputId": "0283cac2-1b6a-46c0-9c02-2e7b717f2aa3",
        "colab": {
          "base_uri": "https://localhost:8080/",
          "height": 180
        }
      },
      "source": [
        "# Dúvida: não consigo fazer divisão entre ndarrays?\n",
        "(df_Fifa.groupby('Club')['Age'].sum()).values() / (df_Fifa.groupby('Club')['Club'].count()).values()"
      ],
      "execution_count": null,
      "outputs": [
        {
          "output_type": "error",
          "ename": "TypeError",
          "evalue": "ignored",
          "traceback": [
            "\u001b[0;31m---------------------------------------------------------------------------\u001b[0m",
            "\u001b[0;31mTypeError\u001b[0m                                 Traceback (most recent call last)",
            "\u001b[0;32m<ipython-input-100-bf2876620c1c>\u001b[0m in \u001b[0;36m<module>\u001b[0;34m()\u001b[0m\n\u001b[1;32m      1\u001b[0m \u001b[0;31m# Dúvida: não consigo fazer divisão entre ndarrays?\u001b[0m\u001b[0;34m\u001b[0m\u001b[0;34m\u001b[0m\u001b[0;34m\u001b[0m\u001b[0m\n\u001b[0;32m----> 2\u001b[0;31m \u001b[0;34m(\u001b[0m\u001b[0mdf_Fifa\u001b[0m\u001b[0;34m.\u001b[0m\u001b[0mgroupby\u001b[0m\u001b[0;34m(\u001b[0m\u001b[0;34m'Club'\u001b[0m\u001b[0;34m)\u001b[0m\u001b[0;34m[\u001b[0m\u001b[0;34m'Age'\u001b[0m\u001b[0;34m]\u001b[0m\u001b[0;34m.\u001b[0m\u001b[0msum\u001b[0m\u001b[0;34m(\u001b[0m\u001b[0;34m)\u001b[0m\u001b[0;34m)\u001b[0m\u001b[0;34m.\u001b[0m\u001b[0mvalues\u001b[0m\u001b[0;34m(\u001b[0m\u001b[0;34m)\u001b[0m \u001b[0;34m/\u001b[0m \u001b[0;34m(\u001b[0m\u001b[0mdf_Fifa\u001b[0m\u001b[0;34m.\u001b[0m\u001b[0mgroupby\u001b[0m\u001b[0;34m(\u001b[0m\u001b[0;34m'Club'\u001b[0m\u001b[0;34m)\u001b[0m\u001b[0;34m[\u001b[0m\u001b[0;34m'Club'\u001b[0m\u001b[0;34m]\u001b[0m\u001b[0;34m.\u001b[0m\u001b[0mcount\u001b[0m\u001b[0;34m(\u001b[0m\u001b[0;34m)\u001b[0m\u001b[0;34m)\u001b[0m\u001b[0;34m.\u001b[0m\u001b[0mvalues\u001b[0m\u001b[0;34m(\u001b[0m\u001b[0;34m)\u001b[0m\u001b[0;34m\u001b[0m\u001b[0;34m\u001b[0m\u001b[0m\n\u001b[0m",
            "\u001b[0;31mTypeError\u001b[0m: 'numpy.ndarray' object is not callable"
          ]
        }
      ]
    },
    {
      "cell_type": "code",
      "metadata": {
        "id": "e7XyZ6C10AJb"
      },
      "source": [
        "df_media_idade_por_clube = pd.DataFrame({'Club': (df_Fifa.groupby('Club')['Age'].sum()).index,\n",
        "                                         'Somatório Idade': (df_Fifa.groupby('Club')['Age'].sum()).values, \n",
        "                                         'Num Jogadores': (df_Fifa.groupby('Club')['Club'].count()).values})"
      ],
      "execution_count": null,
      "outputs": []
    },
    {
      "cell_type": "code",
      "metadata": {
        "id": "Fh-6ZUVp1-JQ",
        "outputId": "1a7c85fd-b82f-4229-9f2d-90f19837c559",
        "colab": {
          "base_uri": "https://localhost:8080/",
          "height": 204
        }
      },
      "source": [
        "df_media_idade_por_clube.head()"
      ],
      "execution_count": null,
      "outputs": [
        {
          "output_type": "execute_result",
          "data": {
            "text/html": [
              "<div>\n",
              "<style scoped>\n",
              "    .dataframe tbody tr th:only-of-type {\n",
              "        vertical-align: middle;\n",
              "    }\n",
              "\n",
              "    .dataframe tbody tr th {\n",
              "        vertical-align: top;\n",
              "    }\n",
              "\n",
              "    .dataframe thead th {\n",
              "        text-align: right;\n",
              "    }\n",
              "</style>\n",
              "<table border=\"1\" class=\"dataframe\">\n",
              "  <thead>\n",
              "    <tr style=\"text-align: right;\">\n",
              "      <th></th>\n",
              "      <th>Club</th>\n",
              "      <th>Somatório Idade</th>\n",
              "      <th>Num Jogadores</th>\n",
              "    </tr>\n",
              "  </thead>\n",
              "  <tbody>\n",
              "    <tr>\n",
              "      <th>0</th>\n",
              "      <td>SSV Jahn Regensburg</td>\n",
              "      <td>744</td>\n",
              "      <td>29</td>\n",
              "    </tr>\n",
              "    <tr>\n",
              "      <th>1</th>\n",
              "      <td>1. FC Heidenheim 1846</td>\n",
              "      <td>672</td>\n",
              "      <td>28</td>\n",
              "    </tr>\n",
              "    <tr>\n",
              "      <th>2</th>\n",
              "      <td>1. FC Kaiserslautern</td>\n",
              "      <td>620</td>\n",
              "      <td>26</td>\n",
              "    </tr>\n",
              "    <tr>\n",
              "      <th>3</th>\n",
              "      <td>1. FC Köln</td>\n",
              "      <td>681</td>\n",
              "      <td>28</td>\n",
              "    </tr>\n",
              "    <tr>\n",
              "      <th>4</th>\n",
              "      <td>1. FC Magdeburg</td>\n",
              "      <td>642</td>\n",
              "      <td>26</td>\n",
              "    </tr>\n",
              "  </tbody>\n",
              "</table>\n",
              "</div>"
            ],
            "text/plain": [
              "                    Club  Somatório Idade  Num Jogadores\n",
              "0    SSV Jahn Regensburg              744             29\n",
              "1  1. FC Heidenheim 1846              672             28\n",
              "2   1. FC Kaiserslautern              620             26\n",
              "3             1. FC Köln              681             28\n",
              "4        1. FC Magdeburg              642             26"
            ]
          },
          "metadata": {
            "tags": []
          },
          "execution_count": 102
        }
      ]
    },
    {
      "cell_type": "code",
      "metadata": {
        "id": "GG63egkI1eQC"
      },
      "source": [
        "df_media_idade_por_clube['Média de idade por Clube']= df_media_idade_por_clube['Somatório Idade'] / df_media_idade_por_clube['Num Jogadores']"
      ],
      "execution_count": null,
      "outputs": []
    },
    {
      "cell_type": "code",
      "metadata": {
        "id": "XeoqsFLB15HX",
        "outputId": "ac944afd-e329-4bf2-b91e-7785174431c1",
        "colab": {
          "base_uri": "https://localhost:8080/",
          "height": 419
        }
      },
      "source": [
        "df_media_idade_por_clube"
      ],
      "execution_count": null,
      "outputs": [
        {
          "output_type": "execute_result",
          "data": {
            "text/html": [
              "<div>\n",
              "<style scoped>\n",
              "    .dataframe tbody tr th:only-of-type {\n",
              "        vertical-align: middle;\n",
              "    }\n",
              "\n",
              "    .dataframe tbody tr th {\n",
              "        vertical-align: top;\n",
              "    }\n",
              "\n",
              "    .dataframe thead th {\n",
              "        text-align: right;\n",
              "    }\n",
              "</style>\n",
              "<table border=\"1\" class=\"dataframe\">\n",
              "  <thead>\n",
              "    <tr style=\"text-align: right;\">\n",
              "      <th></th>\n",
              "      <th>Club</th>\n",
              "      <th>Somatório Idade</th>\n",
              "      <th>Num Jogadores</th>\n",
              "      <th>Média de idade por Clube</th>\n",
              "    </tr>\n",
              "  </thead>\n",
              "  <tbody>\n",
              "    <tr>\n",
              "      <th>0</th>\n",
              "      <td>SSV Jahn Regensburg</td>\n",
              "      <td>744</td>\n",
              "      <td>29</td>\n",
              "      <td>25.655172</td>\n",
              "    </tr>\n",
              "    <tr>\n",
              "      <th>1</th>\n",
              "      <td>1. FC Heidenheim 1846</td>\n",
              "      <td>672</td>\n",
              "      <td>28</td>\n",
              "      <td>24.000000</td>\n",
              "    </tr>\n",
              "    <tr>\n",
              "      <th>2</th>\n",
              "      <td>1. FC Kaiserslautern</td>\n",
              "      <td>620</td>\n",
              "      <td>26</td>\n",
              "      <td>23.846154</td>\n",
              "    </tr>\n",
              "    <tr>\n",
              "      <th>3</th>\n",
              "      <td>1. FC Köln</td>\n",
              "      <td>681</td>\n",
              "      <td>28</td>\n",
              "      <td>24.321429</td>\n",
              "    </tr>\n",
              "    <tr>\n",
              "      <th>4</th>\n",
              "      <td>1. FC Magdeburg</td>\n",
              "      <td>642</td>\n",
              "      <td>26</td>\n",
              "      <td>24.692308</td>\n",
              "    </tr>\n",
              "    <tr>\n",
              "      <th>...</th>\n",
              "      <td>...</td>\n",
              "      <td>...</td>\n",
              "      <td>...</td>\n",
              "      <td>...</td>\n",
              "    </tr>\n",
              "    <tr>\n",
              "      <th>646</th>\n",
              "      <td>Zagłębie Sosnowiec</td>\n",
              "      <td>656</td>\n",
              "      <td>25</td>\n",
              "      <td>26.240000</td>\n",
              "    </tr>\n",
              "    <tr>\n",
              "      <th>647</th>\n",
              "      <td>Çaykur Rizespor</td>\n",
              "      <td>763</td>\n",
              "      <td>30</td>\n",
              "      <td>25.433333</td>\n",
              "    </tr>\n",
              "    <tr>\n",
              "      <th>648</th>\n",
              "      <td>Örebro SK</td>\n",
              "      <td>649</td>\n",
              "      <td>27</td>\n",
              "      <td>24.037037</td>\n",
              "    </tr>\n",
              "    <tr>\n",
              "      <th>649</th>\n",
              "      <td>Östersunds FK</td>\n",
              "      <td>525</td>\n",
              "      <td>22</td>\n",
              "      <td>23.863636</td>\n",
              "    </tr>\n",
              "    <tr>\n",
              "      <th>650</th>\n",
              "      <td>Śląsk Wrocław</td>\n",
              "      <td>649</td>\n",
              "      <td>25</td>\n",
              "      <td>25.960000</td>\n",
              "    </tr>\n",
              "  </tbody>\n",
              "</table>\n",
              "<p>651 rows × 4 columns</p>\n",
              "</div>"
            ],
            "text/plain": [
              "                      Club  ...  Média de idade por Clube\n",
              "0      SSV Jahn Regensburg  ...                 25.655172\n",
              "1    1. FC Heidenheim 1846  ...                 24.000000\n",
              "2     1. FC Kaiserslautern  ...                 23.846154\n",
              "3               1. FC Köln  ...                 24.321429\n",
              "4          1. FC Magdeburg  ...                 24.692308\n",
              "..                     ...  ...                       ...\n",
              "646     Zagłębie Sosnowiec  ...                 26.240000\n",
              "647        Çaykur Rizespor  ...                 25.433333\n",
              "648              Örebro SK  ...                 24.037037\n",
              "649          Östersunds FK  ...                 23.863636\n",
              "650          Śląsk Wrocław  ...                 25.960000\n",
              "\n",
              "[651 rows x 4 columns]"
            ]
          },
          "metadata": {
            "tags": []
          },
          "execution_count": 104
        }
      ]
    },
    {
      "cell_type": "code",
      "metadata": {
        "id": "z3R3CqtVxrl9"
      },
      "source": [
        "# 11. Qual a média de salário por país?   # wage"
      ],
      "execution_count": null,
      "outputs": []
    },
    {
      "cell_type": "code",
      "metadata": {
        "id": "7pp-SdU33Bou",
        "outputId": "b8fc8c01-9d09-4f45-f374-513c34c19460",
        "colab": {
          "base_uri": "https://localhost:8080/",
          "height": 289
        }
      },
      "source": [
        "df_Fifa.columns"
      ],
      "execution_count": null,
      "outputs": [
        {
          "output_type": "execute_result",
          "data": {
            "text/plain": [
              "Index(['unnamed: 0', 'id', 'name', 'age', 'photo', 'nationality', 'flag',\n",
              "       'overall', 'potential', 'club', 'club logo', 'value', 'wage', 'special',\n",
              "       'preferred foot', 'international reputation', 'weak foot',\n",
              "       'skill moves', 'work rate', 'body type', 'real face', 'position',\n",
              "       'jersey number', 'joined', 'loaned from', 'contract valid until',\n",
              "       'height', 'weight', 'ls', 'st', 'rs', 'lw', 'lf', 'cf', 'rf', 'rw',\n",
              "       'lam', 'cam', 'ram', 'lm', 'lcm', 'cm', 'rcm', 'rm', 'lwb', 'ldm',\n",
              "       'cdm', 'rdm', 'rwb', 'lb', 'lcb', 'cb', 'rcb', 'rb', 'crossing',\n",
              "       'finishing', 'headingaccuracy', 'shortpassing', 'volleys', 'dribbling',\n",
              "       'curve', 'fkaccuracy', 'longpassing', 'ballcontrol', 'acceleration',\n",
              "       'sprintspeed', 'agility', 'reactions', 'balance', 'shotpower',\n",
              "       'jumping', 'stamina', 'strength', 'longshots', 'aggression',\n",
              "       'interceptions', 'positioning', 'vision', 'penalties', 'composure',\n",
              "       'marking', 'standingtackle', 'slidingtackle', 'gkdiving', 'gkhandling',\n",
              "       'gkkicking', 'gkpositioning', 'gkreflexes', 'release clause'],\n",
              "      dtype='object')"
            ]
          },
          "metadata": {
            "tags": []
          },
          "execution_count": 291
        }
      ]
    },
    {
      "cell_type": "code",
      "metadata": {
        "id": "2QV9Y0PF4cgE",
        "outputId": "64e7dbe5-c749-42fc-bfd5-d61a8f510fa1",
        "colab": {
          "base_uri": "https://localhost:8080/",
          "height": 221
        }
      },
      "source": [
        "df_Fifa['Wage']"
      ],
      "execution_count": null,
      "outputs": [
        {
          "output_type": "execute_result",
          "data": {
            "text/plain": [
              "0        €565K\n",
              "1        €405K\n",
              "2        €290K\n",
              "3        €260K\n",
              "4        €355K\n",
              "         ...  \n",
              "18202      €1K\n",
              "18203      €1K\n",
              "18204      €1K\n",
              "18205      €1K\n",
              "18206      €1K\n",
              "Name: Wage, Length: 18207, dtype: object"
            ]
          },
          "metadata": {
            "tags": []
          },
          "execution_count": 339
        }
      ]
    },
    {
      "cell_type": "code",
      "metadata": {
        "id": "AI2zTXle4gB9"
      },
      "source": [
        "df_Fifa2 = df_Fifa.copy()"
      ],
      "execution_count": null,
      "outputs": []
    },
    {
      "cell_type": "code",
      "metadata": {
        "id": "Nf6d9cvCREwF"
      },
      "source": [
        "def elimina_caracter(moeda):\n",
        "  moeda = moeda.replace(\"€\",\"\").replace(\"M\",\"000000\").replace(\"K\",\"000\")\n",
        "  return moeda"
      ],
      "execution_count": null,
      "outputs": []
    },
    {
      "cell_type": "code",
      "metadata": {
        "id": "apld-CXdRhLb"
      },
      "source": [
        "df_Fifa2['Wage'] = df_Fifa2['Wage'].apply(elimina_caracter)"
      ],
      "execution_count": null,
      "outputs": []
    },
    {
      "cell_type": "code",
      "metadata": {
        "id": "1yGlVlRWRTU2"
      },
      "source": [
        "df_Fifa2['Wage'] = pd.to_numeric(df_Fifa2['Wage'])"
      ],
      "execution_count": null,
      "outputs": []
    },
    {
      "cell_type": "code",
      "metadata": {
        "id": "-fuDuoq2TpU1",
        "outputId": "a9c02b54-c749-4dc4-b210-a4bdb41618b4",
        "colab": {
          "base_uri": "https://localhost:8080/",
          "height": 221
        }
      },
      "source": [
        "df_Fifa2['Wage']"
      ],
      "execution_count": null,
      "outputs": [
        {
          "output_type": "execute_result",
          "data": {
            "text/plain": [
              "0        565000\n",
              "1        405000\n",
              "2        290000\n",
              "3        260000\n",
              "4        355000\n",
              "          ...  \n",
              "18202      1000\n",
              "18203      1000\n",
              "18204      1000\n",
              "18205      1000\n",
              "18206      1000\n",
              "Name: Wage, Length: 18207, dtype: int64"
            ]
          },
          "metadata": {
            "tags": []
          },
          "execution_count": 366
        }
      ]
    },
    {
      "cell_type": "code",
      "metadata": {
        "id": "jJIZCY7D4sFK"
      },
      "source": [
        "# Dúvida: sintaxe\n",
        "'''\n",
        "* Os componentes do comando Groupby()\n",
        "    * **Grouping_Column** - Coluna Categórica pelo qual os dados serão agrupados;\n",
        "    * **Aggregating_Column** - Coluna numérica cujos valores serão agrupados;\n",
        "    * **Aggregating_Function** - Função agregadora, ou seja: sum, min, max, mean, median, etc...\n",
        "\n",
        "df.groupby('Grouping_Column').agg({'Aggregating_Column': 'Aggregating_Function'})\n",
        "OU\n",
        "df['Aggregating_Column'].groupby(df['Grouping_Column']).Function()\n",
        "'''"
      ],
      "execution_count": null,
      "outputs": []
    },
    {
      "cell_type": "code",
      "metadata": {
        "id": "w-JXwZhK-rXI"
      },
      "source": [
        "s_nat_wage = df_Fifa2.groupby('Nationality')['Wage'].sum()"
      ],
      "execution_count": null,
      "outputs": []
    },
    {
      "cell_type": "code",
      "metadata": {
        "id": "w-9TnIHH3WoF"
      },
      "source": [
        "s_nat_jog = df_Fifa2.groupby('Nationality')['Nationality'].count()"
      ],
      "execution_count": null,
      "outputs": []
    },
    {
      "cell_type": "code",
      "metadata": {
        "id": "v5R9azSK4P63",
        "outputId": "b3fd7fca-152c-444a-ffba-da9fd0ddd676",
        "colab": {
          "base_uri": "https://localhost:8080/",
          "height": 34
        }
      },
      "source": [
        "type(s_nat_wage)"
      ],
      "execution_count": null,
      "outputs": [
        {
          "output_type": "execute_result",
          "data": {
            "text/plain": [
              "pandas.core.series.Series"
            ]
          },
          "metadata": {
            "tags": []
          },
          "execution_count": 382
        }
      ]
    },
    {
      "cell_type": "code",
      "metadata": {
        "id": "z4IriDOV4Hiw"
      },
      "source": [
        "df_nat_wage = pd.DataFrame({'Nationality':s_nat_wage.index,'Wage':s_nat_wage.values, \"Número de Jogadores\":s_nat_jog.values})"
      ],
      "execution_count": null,
      "outputs": []
    },
    {
      "cell_type": "code",
      "metadata": {
        "id": "a8tXUZJucpBJ"
      },
      "source": [
        "df_nat_wage['Média Salário por país'] = round(df_nat_wage['Wage']/df_nat_wage['Número de Jogadores'],2)"
      ],
      "execution_count": null,
      "outputs": []
    },
    {
      "cell_type": "code",
      "metadata": {
        "id": "bPWm55g83t4i",
        "outputId": "f9fef3ed-6381-48fc-f3f8-1a89784fe75d",
        "colab": {
          "base_uri": "https://localhost:8080/",
          "height": 419
        }
      },
      "source": [
        "df_nat_wage       # Resposta do Exercício 9.11"
      ],
      "execution_count": null,
      "outputs": [
        {
          "output_type": "execute_result",
          "data": {
            "text/html": [
              "<div>\n",
              "<style scoped>\n",
              "    .dataframe tbody tr th:only-of-type {\n",
              "        vertical-align: middle;\n",
              "    }\n",
              "\n",
              "    .dataframe tbody tr th {\n",
              "        vertical-align: top;\n",
              "    }\n",
              "\n",
              "    .dataframe thead th {\n",
              "        text-align: right;\n",
              "    }\n",
              "</style>\n",
              "<table border=\"1\" class=\"dataframe\">\n",
              "  <thead>\n",
              "    <tr style=\"text-align: right;\">\n",
              "      <th></th>\n",
              "      <th>Nationality</th>\n",
              "      <th>Wage</th>\n",
              "      <th>Número de Jogadores</th>\n",
              "      <th>Média Salário por país</th>\n",
              "    </tr>\n",
              "  </thead>\n",
              "  <tbody>\n",
              "    <tr>\n",
              "      <th>0</th>\n",
              "      <td>Afghanistan</td>\n",
              "      <td>5000</td>\n",
              "      <td>4</td>\n",
              "      <td>1250.00</td>\n",
              "    </tr>\n",
              "    <tr>\n",
              "      <th>1</th>\n",
              "      <td>Albania</td>\n",
              "      <td>284000</td>\n",
              "      <td>40</td>\n",
              "      <td>7100.00</td>\n",
              "    </tr>\n",
              "    <tr>\n",
              "      <th>2</th>\n",
              "      <td>Algeria</td>\n",
              "      <td>1085000</td>\n",
              "      <td>60</td>\n",
              "      <td>18083.33</td>\n",
              "    </tr>\n",
              "    <tr>\n",
              "      <th>3</th>\n",
              "      <td>Andorra</td>\n",
              "      <td>1000</td>\n",
              "      <td>1</td>\n",
              "      <td>1000.00</td>\n",
              "    </tr>\n",
              "    <tr>\n",
              "      <th>4</th>\n",
              "      <td>Angola</td>\n",
              "      <td>115000</td>\n",
              "      <td>15</td>\n",
              "      <td>7666.67</td>\n",
              "    </tr>\n",
              "    <tr>\n",
              "      <th>...</th>\n",
              "      <td>...</td>\n",
              "      <td>...</td>\n",
              "      <td>...</td>\n",
              "      <td>...</td>\n",
              "    </tr>\n",
              "    <tr>\n",
              "      <th>159</th>\n",
              "      <td>Uzbekistan</td>\n",
              "      <td>18000</td>\n",
              "      <td>2</td>\n",
              "      <td>9000.00</td>\n",
              "    </tr>\n",
              "    <tr>\n",
              "      <th>160</th>\n",
              "      <td>Venezuela</td>\n",
              "      <td>415000</td>\n",
              "      <td>67</td>\n",
              "      <td>6194.03</td>\n",
              "    </tr>\n",
              "    <tr>\n",
              "      <th>161</th>\n",
              "      <td>Wales</td>\n",
              "      <td>1560000</td>\n",
              "      <td>129</td>\n",
              "      <td>12093.02</td>\n",
              "    </tr>\n",
              "    <tr>\n",
              "      <th>162</th>\n",
              "      <td>Zambia</td>\n",
              "      <td>31000</td>\n",
              "      <td>9</td>\n",
              "      <td>3444.44</td>\n",
              "    </tr>\n",
              "    <tr>\n",
              "      <th>163</th>\n",
              "      <td>Zimbabwe</td>\n",
              "      <td>89000</td>\n",
              "      <td>13</td>\n",
              "      <td>6846.15</td>\n",
              "    </tr>\n",
              "  </tbody>\n",
              "</table>\n",
              "<p>164 rows × 4 columns</p>\n",
              "</div>"
            ],
            "text/plain": [
              "     Nationality     Wage  Número de Jogadores  Média Salário por país\n",
              "0    Afghanistan     5000                    4                 1250.00\n",
              "1        Albania   284000                   40                 7100.00\n",
              "2        Algeria  1085000                   60                18083.33\n",
              "3        Andorra     1000                    1                 1000.00\n",
              "4         Angola   115000                   15                 7666.67\n",
              "..           ...      ...                  ...                     ...\n",
              "159   Uzbekistan    18000                    2                 9000.00\n",
              "160    Venezuela   415000                   67                 6194.03\n",
              "161        Wales  1560000                  129                12093.02\n",
              "162       Zambia    31000                    9                 3444.44\n",
              "163     Zimbabwe    89000                   13                 6846.15\n",
              "\n",
              "[164 rows x 4 columns]"
            ]
          },
          "metadata": {
            "tags": []
          },
          "execution_count": 398
        }
      ]
    },
    {
      "cell_type": "code",
      "metadata": {
        "id": "60rQl516xsRf"
      },
      "source": [
        "# 12. Qual a média de salário por clube?\n",
        "s_club_wage = df_Fifa2.groupby('Club')['Wage'].sum()"
      ],
      "execution_count": null,
      "outputs": []
    },
    {
      "cell_type": "code",
      "metadata": {
        "id": "5ZWFaWhtbdYe"
      },
      "source": [
        "s_club_jog = df_Fifa2.groupby('Club')['Club'].count()"
      ],
      "execution_count": null,
      "outputs": []
    },
    {
      "cell_type": "code",
      "metadata": {
        "id": "JDwVCjPydNyV"
      },
      "source": [
        "df_club_md_sal = pd.DataFrame({'Club':s_club_jog.index,'Somatória Wage':s_club_wage.values,\"Núm Jogadores\":s_club_jog.values})"
      ],
      "execution_count": null,
      "outputs": []
    },
    {
      "cell_type": "code",
      "metadata": {
        "id": "brpajywTfxg_"
      },
      "source": [
        "df_club_md_sal['Média Salário por Clube'] = round(df_club_md_sal['Somatória Wage']/df_club_md_sal['Núm Jogadores'],2)"
      ],
      "execution_count": null,
      "outputs": []
    },
    {
      "cell_type": "code",
      "metadata": {
        "id": "96TkbAQogQ7w",
        "outputId": "fa162ee9-ebf4-47a3-fd73-38de23e38b95",
        "colab": {
          "base_uri": "https://localhost:8080/",
          "height": 419
        }
      },
      "source": [
        "df_club_md_sal"
      ],
      "execution_count": null,
      "outputs": [
        {
          "output_type": "execute_result",
          "data": {
            "text/html": [
              "<div>\n",
              "<style scoped>\n",
              "    .dataframe tbody tr th:only-of-type {\n",
              "        vertical-align: middle;\n",
              "    }\n",
              "\n",
              "    .dataframe tbody tr th {\n",
              "        vertical-align: top;\n",
              "    }\n",
              "\n",
              "    .dataframe thead th {\n",
              "        text-align: right;\n",
              "    }\n",
              "</style>\n",
              "<table border=\"1\" class=\"dataframe\">\n",
              "  <thead>\n",
              "    <tr style=\"text-align: right;\">\n",
              "      <th></th>\n",
              "      <th>Club</th>\n",
              "      <th>Somatória Wage</th>\n",
              "      <th>Núm Jogadores</th>\n",
              "      <th>Média Salário por Clube</th>\n",
              "    </tr>\n",
              "  </thead>\n",
              "  <tbody>\n",
              "    <tr>\n",
              "      <th>0</th>\n",
              "      <td>SSV Jahn Regensburg</td>\n",
              "      <td>123000</td>\n",
              "      <td>29</td>\n",
              "      <td>4241.38</td>\n",
              "    </tr>\n",
              "    <tr>\n",
              "      <th>1</th>\n",
              "      <td>1. FC Heidenheim 1846</td>\n",
              "      <td>125000</td>\n",
              "      <td>28</td>\n",
              "      <td>4464.29</td>\n",
              "    </tr>\n",
              "    <tr>\n",
              "      <th>2</th>\n",
              "      <td>1. FC Kaiserslautern</td>\n",
              "      <td>44000</td>\n",
              "      <td>26</td>\n",
              "      <td>1692.31</td>\n",
              "    </tr>\n",
              "    <tr>\n",
              "      <th>3</th>\n",
              "      <td>1. FC Köln</td>\n",
              "      <td>372000</td>\n",
              "      <td>28</td>\n",
              "      <td>13285.71</td>\n",
              "    </tr>\n",
              "    <tr>\n",
              "      <th>4</th>\n",
              "      <td>1. FC Magdeburg</td>\n",
              "      <td>127000</td>\n",
              "      <td>26</td>\n",
              "      <td>4884.62</td>\n",
              "    </tr>\n",
              "    <tr>\n",
              "      <th>...</th>\n",
              "      <td>...</td>\n",
              "      <td>...</td>\n",
              "      <td>...</td>\n",
              "      <td>...</td>\n",
              "    </tr>\n",
              "    <tr>\n",
              "      <th>646</th>\n",
              "      <td>Zagłębie Sosnowiec</td>\n",
              "      <td>27000</td>\n",
              "      <td>25</td>\n",
              "      <td>1080.00</td>\n",
              "    </tr>\n",
              "    <tr>\n",
              "      <th>647</th>\n",
              "      <td>Çaykur Rizespor</td>\n",
              "      <td>193000</td>\n",
              "      <td>30</td>\n",
              "      <td>6433.33</td>\n",
              "    </tr>\n",
              "    <tr>\n",
              "      <th>648</th>\n",
              "      <td>Örebro SK</td>\n",
              "      <td>40000</td>\n",
              "      <td>27</td>\n",
              "      <td>1481.48</td>\n",
              "    </tr>\n",
              "    <tr>\n",
              "      <th>649</th>\n",
              "      <td>Östersunds FK</td>\n",
              "      <td>45000</td>\n",
              "      <td>22</td>\n",
              "      <td>2045.45</td>\n",
              "    </tr>\n",
              "    <tr>\n",
              "      <th>650</th>\n",
              "      <td>Śląsk Wrocław</td>\n",
              "      <td>51000</td>\n",
              "      <td>25</td>\n",
              "      <td>2040.00</td>\n",
              "    </tr>\n",
              "  </tbody>\n",
              "</table>\n",
              "<p>651 rows × 4 columns</p>\n",
              "</div>"
            ],
            "text/plain": [
              "                      Club  ...  Média Salário por Clube\n",
              "0      SSV Jahn Regensburg  ...                  4241.38\n",
              "1    1. FC Heidenheim 1846  ...                  4464.29\n",
              "2     1. FC Kaiserslautern  ...                  1692.31\n",
              "3               1. FC Köln  ...                 13285.71\n",
              "4          1. FC Magdeburg  ...                  4884.62\n",
              "..                     ...  ...                      ...\n",
              "646     Zagłębie Sosnowiec  ...                  1080.00\n",
              "647        Çaykur Rizespor  ...                  6433.33\n",
              "648              Örebro SK  ...                  1481.48\n",
              "649          Östersunds FK  ...                  2045.45\n",
              "650          Śląsk Wrocław  ...                  2040.00\n",
              "\n",
              "[651 rows x 4 columns]"
            ]
          },
          "metadata": {
            "tags": []
          },
          "execution_count": 38
        }
      ]
    },
    {
      "cell_type": "code",
      "metadata": {
        "id": "TM7kxQygxsp5"
      },
      "source": [
        "# 13. Qual a média de salário por idade?"
      ],
      "execution_count": null,
      "outputs": []
    },
    {
      "cell_type": "code",
      "metadata": {
        "id": "fWBOmhtsg2HW"
      },
      "source": [
        "s_age_age = df_Fifa2.groupby('Age')['Age'].count()"
      ],
      "execution_count": null,
      "outputs": []
    },
    {
      "cell_type": "code",
      "metadata": {
        "id": "oDmqgs1WhRac"
      },
      "source": [
        "s_age_wage = df_Fifa2.groupby('Age')['Wage'].sum()"
      ],
      "execution_count": null,
      "outputs": []
    },
    {
      "cell_type": "code",
      "metadata": {
        "id": "taTtYUFrhTCC"
      },
      "source": [
        "df_age_md_wage = pd.DataFrame({'Age':s_age_age.index, 'Somatória Wage': s_age_wage.values})"
      ],
      "execution_count": null,
      "outputs": []
    },
    {
      "cell_type": "code",
      "metadata": {
        "id": "GehlsMK3iY93"
      },
      "source": [
        "df_age_md_wage['Média salarial por idade'] = round(df_age_md_wage['Somatória Wage']/df_age_md_wage['Age'],2)"
      ],
      "execution_count": null,
      "outputs": []
    },
    {
      "cell_type": "code",
      "metadata": {
        "id": "fKGqZ459itRU",
        "outputId": "ddecae8a-d3a7-43a8-b6da-e80af3be3604",
        "colab": {
          "base_uri": "https://localhost:8080/",
          "height": 948
        }
      },
      "source": [
        "df_age_md_wage"
      ],
      "execution_count": null,
      "outputs": [
        {
          "output_type": "execute_result",
          "data": {
            "text/html": [
              "<div>\n",
              "<style scoped>\n",
              "    .dataframe tbody tr th:only-of-type {\n",
              "        vertical-align: middle;\n",
              "    }\n",
              "\n",
              "    .dataframe tbody tr th {\n",
              "        vertical-align: top;\n",
              "    }\n",
              "\n",
              "    .dataframe thead th {\n",
              "        text-align: right;\n",
              "    }\n",
              "</style>\n",
              "<table border=\"1\" class=\"dataframe\">\n",
              "  <thead>\n",
              "    <tr style=\"text-align: right;\">\n",
              "      <th></th>\n",
              "      <th>Age</th>\n",
              "      <th>Somatória Wage</th>\n",
              "      <th>Média salarial por idade</th>\n",
              "    </tr>\n",
              "  </thead>\n",
              "  <tbody>\n",
              "    <tr>\n",
              "      <th>0</th>\n",
              "      <td>16</td>\n",
              "      <td>49000</td>\n",
              "      <td>3062.50</td>\n",
              "    </tr>\n",
              "    <tr>\n",
              "      <th>1</th>\n",
              "      <td>17</td>\n",
              "      <td>619000</td>\n",
              "      <td>36411.76</td>\n",
              "    </tr>\n",
              "    <tr>\n",
              "      <th>2</th>\n",
              "      <td>18</td>\n",
              "      <td>1632000</td>\n",
              "      <td>90666.67</td>\n",
              "    </tr>\n",
              "    <tr>\n",
              "      <th>3</th>\n",
              "      <td>19</td>\n",
              "      <td>2823000</td>\n",
              "      <td>148578.95</td>\n",
              "    </tr>\n",
              "    <tr>\n",
              "      <th>4</th>\n",
              "      <td>20</td>\n",
              "      <td>5897000</td>\n",
              "      <td>294850.00</td>\n",
              "    </tr>\n",
              "    <tr>\n",
              "      <th>5</th>\n",
              "      <td>21</td>\n",
              "      <td>8782000</td>\n",
              "      <td>418190.48</td>\n",
              "    </tr>\n",
              "    <tr>\n",
              "      <th>6</th>\n",
              "      <td>22</td>\n",
              "      <td>10577000</td>\n",
              "      <td>480772.73</td>\n",
              "    </tr>\n",
              "    <tr>\n",
              "      <th>7</th>\n",
              "      <td>23</td>\n",
              "      <td>11504000</td>\n",
              "      <td>500173.91</td>\n",
              "    </tr>\n",
              "    <tr>\n",
              "      <th>8</th>\n",
              "      <td>24</td>\n",
              "      <td>13441000</td>\n",
              "      <td>560041.67</td>\n",
              "    </tr>\n",
              "    <tr>\n",
              "      <th>9</th>\n",
              "      <td>25</td>\n",
              "      <td>14858000</td>\n",
              "      <td>594320.00</td>\n",
              "    </tr>\n",
              "    <tr>\n",
              "      <th>10</th>\n",
              "      <td>26</td>\n",
              "      <td>17863000</td>\n",
              "      <td>687038.46</td>\n",
              "    </tr>\n",
              "    <tr>\n",
              "      <th>11</th>\n",
              "      <td>27</td>\n",
              "      <td>15793000</td>\n",
              "      <td>584925.93</td>\n",
              "    </tr>\n",
              "    <tr>\n",
              "      <th>12</th>\n",
              "      <td>28</td>\n",
              "      <td>15323000</td>\n",
              "      <td>547250.00</td>\n",
              "    </tr>\n",
              "    <tr>\n",
              "      <th>13</th>\n",
              "      <td>29</td>\n",
              "      <td>13481000</td>\n",
              "      <td>464862.07</td>\n",
              "    </tr>\n",
              "    <tr>\n",
              "      <th>14</th>\n",
              "      <td>30</td>\n",
              "      <td>12342000</td>\n",
              "      <td>411400.00</td>\n",
              "    </tr>\n",
              "    <tr>\n",
              "      <th>15</th>\n",
              "      <td>31</td>\n",
              "      <td>11296000</td>\n",
              "      <td>364387.10</td>\n",
              "    </tr>\n",
              "    <tr>\n",
              "      <th>16</th>\n",
              "      <td>32</td>\n",
              "      <td>8062000</td>\n",
              "      <td>251937.50</td>\n",
              "    </tr>\n",
              "    <tr>\n",
              "      <th>17</th>\n",
              "      <td>33</td>\n",
              "      <td>5356000</td>\n",
              "      <td>162303.03</td>\n",
              "    </tr>\n",
              "    <tr>\n",
              "      <th>18</th>\n",
              "      <td>34</td>\n",
              "      <td>4368000</td>\n",
              "      <td>128470.59</td>\n",
              "    </tr>\n",
              "    <tr>\n",
              "      <th>19</th>\n",
              "      <td>35</td>\n",
              "      <td>1353000</td>\n",
              "      <td>38657.14</td>\n",
              "    </tr>\n",
              "    <tr>\n",
              "      <th>20</th>\n",
              "      <td>36</td>\n",
              "      <td>745000</td>\n",
              "      <td>20694.44</td>\n",
              "    </tr>\n",
              "    <tr>\n",
              "      <th>21</th>\n",
              "      <td>37</td>\n",
              "      <td>582000</td>\n",
              "      <td>15729.73</td>\n",
              "    </tr>\n",
              "    <tr>\n",
              "      <th>22</th>\n",
              "      <td>38</td>\n",
              "      <td>180000</td>\n",
              "      <td>4736.84</td>\n",
              "    </tr>\n",
              "    <tr>\n",
              "      <th>23</th>\n",
              "      <td>39</td>\n",
              "      <td>113000</td>\n",
              "      <td>2897.44</td>\n",
              "    </tr>\n",
              "    <tr>\n",
              "      <th>24</th>\n",
              "      <td>40</td>\n",
              "      <td>118000</td>\n",
              "      <td>2950.00</td>\n",
              "    </tr>\n",
              "    <tr>\n",
              "      <th>25</th>\n",
              "      <td>41</td>\n",
              "      <td>10000</td>\n",
              "      <td>243.90</td>\n",
              "    </tr>\n",
              "    <tr>\n",
              "      <th>26</th>\n",
              "      <td>42</td>\n",
              "      <td>1000</td>\n",
              "      <td>23.81</td>\n",
              "    </tr>\n",
              "    <tr>\n",
              "      <th>27</th>\n",
              "      <td>44</td>\n",
              "      <td>2000</td>\n",
              "      <td>45.45</td>\n",
              "    </tr>\n",
              "    <tr>\n",
              "      <th>28</th>\n",
              "      <td>45</td>\n",
              "      <td>8000</td>\n",
              "      <td>177.78</td>\n",
              "    </tr>\n",
              "  </tbody>\n",
              "</table>\n",
              "</div>"
            ],
            "text/plain": [
              "    Age  Somatória Wage  Média salarial por idade\n",
              "0    16           49000                   3062.50\n",
              "1    17          619000                  36411.76\n",
              "2    18         1632000                  90666.67\n",
              "3    19         2823000                 148578.95\n",
              "4    20         5897000                 294850.00\n",
              "5    21         8782000                 418190.48\n",
              "6    22        10577000                 480772.73\n",
              "7    23        11504000                 500173.91\n",
              "8    24        13441000                 560041.67\n",
              "9    25        14858000                 594320.00\n",
              "10   26        17863000                 687038.46\n",
              "11   27        15793000                 584925.93\n",
              "12   28        15323000                 547250.00\n",
              "13   29        13481000                 464862.07\n",
              "14   30        12342000                 411400.00\n",
              "15   31        11296000                 364387.10\n",
              "16   32         8062000                 251937.50\n",
              "17   33         5356000                 162303.03\n",
              "18   34         4368000                 128470.59\n",
              "19   35         1353000                  38657.14\n",
              "20   36          745000                  20694.44\n",
              "21   37          582000                  15729.73\n",
              "22   38          180000                   4736.84\n",
              "23   39          113000                   2897.44\n",
              "24   40          118000                   2950.00\n",
              "25   41           10000                    243.90\n",
              "26   42            1000                     23.81\n",
              "27   44            2000                     45.45\n",
              "28   45            8000                    177.78"
            ]
          },
          "metadata": {
            "tags": []
          },
          "execution_count": 34
        }
      ]
    },
    {
      "cell_type": "code",
      "metadata": {
        "id": "Uvt9JabxxtP-",
        "outputId": "ceba6141-fa5f-4b54-e63f-70022a48ef22",
        "colab": {
          "base_uri": "https://localhost:8080/",
          "height": 238
        }
      },
      "source": [
        "# 14. Quanto cada clube gasta com pagamento de salários?\n",
        "df_Fifa2.groupby('Club')['Wage'].sum()"
      ],
      "execution_count": null,
      "outputs": [
        {
          "output_type": "execute_result",
          "data": {
            "text/plain": [
              "Club\n",
              " SSV Jahn Regensburg     123000\n",
              "1. FC Heidenheim 1846    125000\n",
              "1. FC Kaiserslautern      44000\n",
              "1. FC Köln               372000\n",
              "1. FC Magdeburg          127000\n",
              "                          ...  \n",
              "Zagłębie Sosnowiec        27000\n",
              "Çaykur Rizespor          193000\n",
              "Örebro SK                 40000\n",
              "Östersunds FK             45000\n",
              "Śląsk Wrocław             51000\n",
              "Name: Wage, Length: 651, dtype: int64"
            ]
          },
          "metadata": {
            "tags": []
          },
          "execution_count": 35
        }
      ]
    },
    {
      "cell_type": "code",
      "metadata": {
        "id": "bJ-mB4Vaj2y5"
      },
      "source": [
        "df_14 = pd.DataFrame({'Club':_35.index, 'Somatória Wage':_35.values})"
      ],
      "execution_count": null,
      "outputs": []
    },
    {
      "cell_type": "code",
      "metadata": {
        "id": "2G5AYRVOkLIK",
        "outputId": "5558bd99-5981-4ea2-c2bd-ae53d5cb96f3",
        "colab": {
          "base_uri": "https://localhost:8080/",
          "height": 204
        }
      },
      "source": [
        "df_14.head()"
      ],
      "execution_count": null,
      "outputs": [
        {
          "output_type": "execute_result",
          "data": {
            "text/html": [
              "<div>\n",
              "<style scoped>\n",
              "    .dataframe tbody tr th:only-of-type {\n",
              "        vertical-align: middle;\n",
              "    }\n",
              "\n",
              "    .dataframe tbody tr th {\n",
              "        vertical-align: top;\n",
              "    }\n",
              "\n",
              "    .dataframe thead th {\n",
              "        text-align: right;\n",
              "    }\n",
              "</style>\n",
              "<table border=\"1\" class=\"dataframe\">\n",
              "  <thead>\n",
              "    <tr style=\"text-align: right;\">\n",
              "      <th></th>\n",
              "      <th>Club</th>\n",
              "      <th>Somatória Wage</th>\n",
              "    </tr>\n",
              "  </thead>\n",
              "  <tbody>\n",
              "    <tr>\n",
              "      <th>0</th>\n",
              "      <td>SSV Jahn Regensburg</td>\n",
              "      <td>123000</td>\n",
              "    </tr>\n",
              "    <tr>\n",
              "      <th>1</th>\n",
              "      <td>1. FC Heidenheim 1846</td>\n",
              "      <td>125000</td>\n",
              "    </tr>\n",
              "    <tr>\n",
              "      <th>2</th>\n",
              "      <td>1. FC Kaiserslautern</td>\n",
              "      <td>44000</td>\n",
              "    </tr>\n",
              "    <tr>\n",
              "      <th>3</th>\n",
              "      <td>1. FC Köln</td>\n",
              "      <td>372000</td>\n",
              "    </tr>\n",
              "    <tr>\n",
              "      <th>4</th>\n",
              "      <td>1. FC Magdeburg</td>\n",
              "      <td>127000</td>\n",
              "    </tr>\n",
              "  </tbody>\n",
              "</table>\n",
              "</div>"
            ],
            "text/plain": [
              "                    Club  Somatória Wage\n",
              "0    SSV Jahn Regensburg          123000\n",
              "1  1. FC Heidenheim 1846          125000\n",
              "2   1. FC Kaiserslautern           44000\n",
              "3             1. FC Köln          372000\n",
              "4        1. FC Magdeburg          127000"
            ]
          },
          "metadata": {
            "tags": []
          },
          "execution_count": 105
        }
      ]
    },
    {
      "cell_type": "code",
      "metadata": {
        "id": "2YXOMpZfjAMv"
      },
      "source": [
        "# 15. Quais são os insight (o que você consegue descobrir) em relação à variável 'Potential' (mede o potencial dos jogadores)?\n"
      ],
      "execution_count": null,
      "outputs": []
    },
    {
      "cell_type": "code",
      "metadata": {
        "id": "DOBtlEbElRq5"
      },
      "source": [
        "# 16. Quais os insights em relação à variável overall (nota média do atleta) por idade, clube e país?\n",
        "# 17. Quais são os melhores clubes se levarmos em consideração as variáveis Potential e Overall?\n",
        "# 18. Apresente o ranking dos goleiros (use a variável/atributo 'Preferred Positions') por Potencial, Overall. Estamos à procura de 'GK'.\n",
        "# 19. Quem são os jogadores mais rápidos (variável/atributo 'Sprint speed'=?\n",
        "# 20. Quem são os 5 melhores jogadores em termos de chute (força para chutar) (use a variável/atributo 'Shot power')?\n",
        "# 21. Quem são os outliers em termos de salário?\n",
        "# 22. Quem são os outliers em termos de potência no chute?"
      ],
      "execution_count": null,
      "outputs": []
    },
    {
      "cell_type": "code",
      "metadata": {
        "id": "ufmS5DLWjv0W"
      },
      "source": [
        ""
      ],
      "execution_count": null,
      "outputs": []
    }
  ]
}