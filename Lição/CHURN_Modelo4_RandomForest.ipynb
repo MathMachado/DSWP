{
  "nbformat": 4,
  "nbformat_minor": 0,
  "metadata": {
    "colab": {
      "name": "Untitled5.ipynb",
      "provenance": [],
      "authorship_tag": "ABX9TyPUfayZICBwGMaiyW0QO68H",
      "include_colab_link": true
    },
    "kernelspec": {
      "name": "python3",
      "display_name": "Python 3"
    }
  },
  "cells": [
    {
      "cell_type": "markdown",
      "metadata": {
        "id": "view-in-github",
        "colab_type": "text"
      },
      "source": [
        "<a href=\"https://colab.research.google.com/github/cryssoga/DSWP/blob/master/Li%C3%A7%C3%A3o/CHURN_Modelo4_RandomForest.ipynb\" target=\"_parent\"><img src=\"https://colab.research.google.com/assets/colab-badge.svg\" alt=\"Open In Colab\"/></a>"
      ]
    },
    {
      "cell_type": "code",
      "metadata": {
        "id": "KlVX_Gr4c7mi"
      },
      "source": [
        "import pandas as pd\n",
        "import numpy as np\n",
        "import matplotlib.pyplot as plt\n",
        "\n",
        "url_train = 'https://raw.githubusercontent.com/cryssoga/DSWP/master/Li%C3%A7%C3%A3o/train.csv'\n",
        "url_test = 'https://raw.githubusercontent.com/cryssoga/DSWP/master/Li%C3%A7%C3%A3o/test.csv'\n",
        "url_sample_submission = 'https://raw.githubusercontent.com/cryssoga/DSWP/master/Li%C3%A7%C3%A3o/sample_submission.csv'\n",
        "\n",
        "# Lendo/carregando os dataframes:\n",
        "\n",
        "df_train = pd.read_csv(url_train)\n",
        "df_test = pd.read_csv(url_test)\n",
        "df_sample_submission = pd.read_csv(url_sample_submission)"
      ],
      "execution_count": 159,
      "outputs": []
    },
    {
      "cell_type": "code",
      "metadata": {
        "id": "cBuGjljkEfBp",
        "outputId": "3b4861c5-8c18-4b35-cdf5-2c3494f86e2a",
        "colab": {
          "base_uri": "https://localhost:8080/"
        }
      },
      "source": [
        "df_train.info()"
      ],
      "execution_count": 58,
      "outputs": [
        {
          "output_type": "stream",
          "text": [
            "<class 'pandas.core.frame.DataFrame'>\n",
            "RangeIndex: 5634 entries, 0 to 5633\n",
            "Data columns (total 21 columns):\n",
            " #   Column            Non-Null Count  Dtype  \n",
            "---  ------            --------------  -----  \n",
            " 0   id                5634 non-null   int64  \n",
            " 1   gender            5634 non-null   object \n",
            " 2   SeniorCitizen     5634 non-null   int64  \n",
            " 3   Partner           5634 non-null   object \n",
            " 4   Dependents        5416 non-null   object \n",
            " 5   tenure            5173 non-null   float64\n",
            " 6   PhoneService      5634 non-null   object \n",
            " 7   MultipleLines     5634 non-null   object \n",
            " 8   InternetService   5634 non-null   object \n",
            " 9   OnlineSecurity    5634 non-null   object \n",
            " 10  OnlineBackup      5634 non-null   object \n",
            " 11  DeviceProtection  5634 non-null   object \n",
            " 12  TechSupport       5634 non-null   object \n",
            " 13  StreamingTV       5634 non-null   object \n",
            " 14  StreamingMovies   5634 non-null   object \n",
            " 15  Contract          5634 non-null   object \n",
            " 16  PaperlessBilling  5634 non-null   object \n",
            " 17  PaymentMethod     5535 non-null   object \n",
            " 18  MonthlyCharges    5634 non-null   float64\n",
            " 19  TotalCharges      5634 non-null   object \n",
            " 20  Churn             5634 non-null   int64  \n",
            "dtypes: float64(2), int64(3), object(16)\n",
            "memory usage: 924.5+ KB\n"
          ],
          "name": "stdout"
        }
      ]
    },
    {
      "cell_type": "code",
      "metadata": {
        "id": "AkJr3qqfN-ZS"
      },
      "source": [
        "df_train.isna().sum()"
      ],
      "execution_count": null,
      "outputs": []
    },
    {
      "cell_type": "code",
      "metadata": {
        "id": "GJdKtcRYIP9E",
        "outputId": "45b874be-a78b-4792-875a-134be07240d8",
        "colab": {
          "base_uri": "https://localhost:8080/"
        }
      },
      "source": [
        "df_train.columns"
      ],
      "execution_count": 42,
      "outputs": [
        {
          "output_type": "execute_result",
          "data": {
            "text/plain": [
              "Index(['id', 'gender', 'SeniorCitizen', 'Partner', 'Dependents', 'tenure',\n",
              "       'PhoneService', 'MultipleLines', 'InternetService', 'OnlineSecurity',\n",
              "       'OnlineBackup', 'DeviceProtection', 'TechSupport', 'StreamingTV',\n",
              "       'StreamingMovies', 'Contract', 'PaperlessBilling', 'PaymentMethod',\n",
              "       'MonthlyCharges', 'TotalCharges', 'Churn'],\n",
              "      dtype='object')"
            ]
          },
          "metadata": {
            "tags": []
          },
          "execution_count": 42
        }
      ]
    },
    {
      "cell_type": "code",
      "metadata": {
        "id": "1EHTp_9nWIgK",
        "outputId": "cad732a1-312d-405d-ae80-53befab853db",
        "colab": {
          "base_uri": "https://localhost:8080/"
        }
      },
      "source": [
        "df_test.columns"
      ],
      "execution_count": 148,
      "outputs": [
        {
          "output_type": "execute_result",
          "data": {
            "text/plain": [
              "Index(['id', 'gender', 'SeniorCitizen', 'Partner', 'Dependents', 'tenure',\n",
              "       'PhoneService', 'MultipleLines', 'InternetService', 'OnlineSecurity',\n",
              "       'OnlineBackup', 'DeviceProtection', 'TechSupport', 'StreamingTV',\n",
              "       'StreamingMovies', 'Contract', 'PaperlessBilling', 'PaymentMethod',\n",
              "       'MonthlyCharges', 'TotalCharges'],\n",
              "      dtype='object')"
            ]
          },
          "metadata": {
            "tags": []
          },
          "execution_count": 148
        }
      ]
    },
    {
      "cell_type": "code",
      "metadata": {
        "id": "qAfR86BUIVWe"
      },
      "source": [
        "col = (['gender', 'SeniorCitizen', 'Partner', 'Dependents', 'PhoneService', 'MultipleLines', 'InternetService', 'OnlineSecurity',\n",
        "       'OnlineBackup', 'DeviceProtection', 'TechSupport', 'StreamingTV',\n",
        "       'StreamingMovies', 'Contract', 'PaperlessBilling', 'PaymentMethod'])"
      ],
      "execution_count": 160,
      "outputs": []
    },
    {
      "cell_type": "code",
      "metadata": {
        "id": "nq_OndFbEjFM"
      },
      "source": [
        "# value_counts das colunas em col:\n",
        "\n",
        "for i in col:\n",
        "  print(df_train[i].value_counts())\n",
        "  print(df_test[i].value_counts())"
      ],
      "execution_count": null,
      "outputs": []
    },
    {
      "cell_type": "code",
      "metadata": {
        "id": "voyLV2XeK7G3"
      },
      "source": [
        "# Nas variáveis em col, substituir 'No internet service' por 'No'\n",
        "\n",
        "col = (['MultipleLines', 'InternetService', 'OnlineSecurity',\n",
        "       'OnlineBackup', 'DeviceProtection', 'TechSupport', 'StreamingTV',\n",
        "       'StreamingMovies'])\n",
        "for i in col:\n",
        "  df_train[i].replace(['No internet service'],['No'], inplace=True)\n",
        "  df_test[i].replace(['No internet service'],['No'], inplace=True)"
      ],
      "execution_count": 161,
      "outputs": []
    },
    {
      "cell_type": "code",
      "metadata": {
        "id": "kYm8UStWLgrp",
        "outputId": "730ba8c9-7844-4e6e-f80b-0cbb08cf45f1",
        "colab": {
          "base_uri": "https://localhost:8080/"
        }
      },
      "source": [
        "for i in col:\n",
        "  print(df_train[i].value_counts())\n",
        "  print(df_test[i].value_counts())"
      ],
      "execution_count": 131,
      "outputs": [
        {
          "output_type": "stream",
          "text": [
            "No                  2692\n",
            "Yes                 2390\n",
            "No phone service     552\n",
            "Name: MultipleLines, dtype: int64\n",
            "Fiber optic    2451\n",
            "DSL            1959\n",
            "No             1224\n",
            "Name: InternetService, dtype: int64\n",
            "No     3987\n",
            "Yes    1647\n",
            "Name: OnlineSecurity, dtype: int64\n",
            "No     3712\n",
            "Yes    1922\n",
            "Name: OnlineBackup, dtype: int64\n",
            "No     3704\n",
            "Yes    1930\n",
            "Name: DeviceProtection, dtype: int64\n",
            "No     4017\n",
            "Yes    1617\n",
            "Name: TechSupport, dtype: int64\n",
            "No     3464\n",
            "Yes    2170\n",
            "Name: StreamingTV, dtype: int64\n",
            "No     3442\n",
            "Yes    2192\n",
            "Name: StreamingMovies, dtype: int64\n"
          ],
          "name": "stdout"
        }
      ]
    },
    {
      "cell_type": "code",
      "metadata": {
        "id": "z4eaTlgbSrW_",
        "outputId": "8dcdfe0b-5adb-4805-9ac6-31aa427be61a",
        "colab": {
          "base_uri": "https://localhost:8080/"
        }
      },
      "source": [
        "df_train.isna().sum()"
      ],
      "execution_count": 133,
      "outputs": [
        {
          "output_type": "execute_result",
          "data": {
            "text/plain": [
              "id                    0\n",
              "gender                0\n",
              "SeniorCitizen         0\n",
              "Partner               0\n",
              "Dependents          218\n",
              "tenure              461\n",
              "PhoneService          0\n",
              "MultipleLines         0\n",
              "InternetService       0\n",
              "OnlineSecurity        0\n",
              "OnlineBackup          0\n",
              "DeviceProtection      0\n",
              "TechSupport           0\n",
              "StreamingTV           0\n",
              "StreamingMovies       0\n",
              "Contract              0\n",
              "PaperlessBilling      0\n",
              "PaymentMethod        99\n",
              "MonthlyCharges        0\n",
              "TotalCharges          0\n",
              "Churn                 0\n",
              "dtype: int64"
            ]
          },
          "metadata": {
            "tags": []
          },
          "execution_count": 133
        }
      ]
    },
    {
      "cell_type": "code",
      "metadata": {
        "id": "XRD7po7VRqRn"
      },
      "source": [
        "# Tratando os missing values nas variáveis 'PaymentMethod' (moda=mais frequente), 'Dependents' (moda) e 'tenure' (mediana)\n",
        "# df_train e df_test\n",
        "\n",
        "df_train['PaymentMethod'].fillna(df_train.PaymentMethod.mode,inplace=True)\n",
        "df_train['Dependents'].fillna(df_train.Dependents.mode,inplace=True)\n",
        "df_train['tenure'].fillna(df_train.tenure.median, inplace=True)\n",
        "\n",
        "df_test['PaymentMethod'].fillna(df_test.PaymentMethod.mode,inplace=True)\n",
        "df_test['Dependents'].fillna(df_test.Dependents.mode,inplace=True)\n",
        "df_test['tenure'].fillna(df_test.tenure.median, inplace=True)\n"
      ],
      "execution_count": 162,
      "outputs": []
    },
    {
      "cell_type": "code",
      "metadata": {
        "id": "5xyiUHwmSL_I",
        "outputId": "afb79cee-cc4e-4213-f9df-8a5e20135136",
        "colab": {
          "base_uri": "https://localhost:8080/"
        }
      },
      "source": [
        "df_train.isna().sum()"
      ],
      "execution_count": 163,
      "outputs": [
        {
          "output_type": "execute_result",
          "data": {
            "text/plain": [
              "id                  0\n",
              "gender              0\n",
              "SeniorCitizen       0\n",
              "Partner             0\n",
              "Dependents          0\n",
              "tenure              0\n",
              "PhoneService        0\n",
              "MultipleLines       0\n",
              "InternetService     0\n",
              "OnlineSecurity      0\n",
              "OnlineBackup        0\n",
              "DeviceProtection    0\n",
              "TechSupport         0\n",
              "StreamingTV         0\n",
              "StreamingMovies     0\n",
              "Contract            0\n",
              "PaperlessBilling    0\n",
              "PaymentMethod       0\n",
              "MonthlyCharges      0\n",
              "TotalCharges        0\n",
              "Churn               0\n",
              "dtype: int64"
            ]
          },
          "metadata": {
            "tags": []
          },
          "execution_count": 163
        }
      ]
    },
    {
      "cell_type": "code",
      "metadata": {
        "id": "J-gAGIy0EVL8"
      },
      "source": [
        "# Tratando variável 'TotalCharges' de 'object' para 'numeric', mas antes tratando os campos ' ':\n",
        "# df_train e df_test\n",
        "\n",
        "df_train[df_train['TotalCharges']==' ']\n",
        "df_train['TotalCharges'] = df_train['TotalCharges'].replace(' ', '0')\n",
        "df_train['TotalCharges'] = pd.to_numeric(df_train['TotalCharges'])\n",
        "\n",
        "df_test[df_test['TotalCharges']==' ']\n",
        "df_test['TotalCharges'] = df_test['TotalCharges'].replace(' ', '0')\n",
        "df_test['TotalCharges'] = pd.to_numeric(df_test['TotalCharges'])"
      ],
      "execution_count": 164,
      "outputs": []
    },
    {
      "cell_type": "code",
      "metadata": {
        "id": "uV9qFvZhYuha"
      },
      "source": [
        "# Tratando os dataframes: Dividindo df_train em df_X_train e df_y_train:\n",
        "\n",
        "X_treinamento = df_train.drop('Churn',axis=1)\n",
        "y_treinamento = df_train['Churn']\n",
        "X_teste = df_test.copy()\n",
        "y_teste = df_sample_submission['Churn']"
      ],
      "execution_count": 174,
      "outputs": []
    },
    {
      "cell_type": "code",
      "metadata": {
        "id": "G2YNQGiFcUCZ",
        "outputId": "13b372ea-af45-4e4a-edce-97ec960e0ac7",
        "colab": {
          "base_uri": "https://localhost:8080/"
        }
      },
      "source": [
        "X_treinamento.columns"
      ],
      "execution_count": 175,
      "outputs": [
        {
          "output_type": "execute_result",
          "data": {
            "text/plain": [
              "Index(['id', 'gender', 'SeniorCitizen', 'Partner', 'Dependents', 'tenure',\n",
              "       'PhoneService', 'MultipleLines', 'InternetService', 'OnlineSecurity',\n",
              "       'OnlineBackup', 'DeviceProtection', 'TechSupport', 'StreamingTV',\n",
              "       'StreamingMovies', 'Contract', 'PaperlessBilling', 'PaymentMethod',\n",
              "       'MonthlyCharges', 'TotalCharges'],\n",
              "      dtype='object')"
            ]
          },
          "metadata": {
            "tags": []
          },
          "execution_count": 175
        }
      ]
    },
    {
      "cell_type": "code",
      "metadata": {
        "id": "Hy7wRioJAebQ",
        "outputId": "6f7b69cc-52cb-4e73-bbb2-7068372a98f5",
        "colab": {
          "base_uri": "https://localhost:8080/",
          "height": 441
        }
      },
      "source": [
        "# Tratando variáveis categóricas:\n",
        "\n",
        "from sklearn.preprocessing import LabelEncoder, OneHotEncoder\n",
        "le = LabelEncoder()\n",
        "    # 'gender', 'SeniorCitizen', 'Partner', 'Dependents',\n",
        "    # 'PhoneService', 'MultipleLines', 'InternetService', 'OnlineSecurity',\n",
        "    # 'OnlineBackup', 'DeviceProtection', 'TechSupport', 'StreamingTV',\n",
        "    # 'StreamingMovies', 'Contract', 'PaperlessBilling', 'PaymentMethod'\n",
        "\n",
        "X_treinamento['gender_le'] = le.fit_transform(X_treinamento['gender'])\n",
        "X_treinamento['SeniorCitizen_le'] = le.fit_transform(X_treinamento['SeniorCitizen'])\n",
        "X_treinamento['Partner_le'] = le.fit_transform(X_treinamento['Partner'])\n",
        "X_treinamento['Dependents_le'] = le.fit_transform(X_treinamento['Dependents'])\n",
        "X_treinamento['PhoneService_le'] = le.fit_transform(X_treinamento['PhoneService'])\n",
        "X_treinamento['MultipleLines_le'] = le.fit_transform(X_treinamento['MultipleLines'])\n",
        "X_treinamento['InternetService_le'] = le.fit_transform(X_treinamento['InternetService'])\n",
        "X_treinamento['OnlineSecurity_le'] = le.fit_transform(X_treinamento['OnlineSecurity'])\n",
        "X_treinamento['OnlineBackup_le'] = le.fit_transform(X_treinamento['OnlineBackup'])\n",
        "X_treinamento['DeviceProtection_le'] = le.fit_transform(X_treinamento['DeviceProtection'])\n",
        "X_treinamento['TechSupport_le'] = le.fit_transform(X_treinamento['TechSupport'])\n",
        "X_treinamento['StreamingTV_le'] = le.fit_transform(X_treinamento['StreamingTV'])\n",
        "X_treinamento['StreamingMovies_le'] = le.fit_transform(X_treinamento['StreamingMovies'])\n",
        "X_treinamento['Contract_le'] = le.fit_transform(X_treinamento['Contract'])\n",
        "X_treinamento['PaperlessBilling_le'] = le.fit_transform(X_treinamento['PaperlessBilling'])\n",
        "X_treinamento['PaymentMethod_le'] = le.fit_transform(X_treinamento['PaymentMethod'])\n",
        "\n",
        "X_teste['gender_le'] = le.fit_transform(X_teste['gender'])\n",
        "X_teste['SeniorCitizen_le'] = le.fit_transform(X_teste['SeniorCitizen'])\n",
        "X_teste['Partner_le'] = le.fit_transform(X_teste['Partner'])\n",
        "X_teste['Dependents_le'] = le.fit_transform(X_teste['Dependents'])\n",
        "X_teste['PhoneService_le'] = le.fit_transform(X_teste['PhoneService'])\n",
        "X_teste['MultipleLines_le'] = le.fit_transform(X_teste['MultipleLines'])\n",
        "X_teste['InternetService_le'] = le.fit_transform(X_teste['InternetService'])\n",
        "X_teste['OnlineSecurity_le'] = le.fit_transform(X_teste['OnlineSecurity'])\n",
        "X_teste['OnlineBackup_le'] = le.fit_transform(X_teste['OnlineBackup'])\n",
        "X_teste['DeviceProtection_le'] = le.fit_transform(X_teste['DeviceProtection'])\n",
        "X_teste['TechSupport_le'] = le.fit_transform(X_teste['TechSupport'])\n",
        "X_teste['StreamingTV_le'] = le.fit_transform(X_teste['StreamingTV'])\n",
        "X_teste['StreamingMovies_le'] = le.fit_transform(X_teste['StreamingMovies'])\n",
        "X_teste['Contract_le'] = le.fit_transform(X_teste['Contract'])\n",
        "X_teste['PaperlessBilling_le'] = le.fit_transform(X_teste['PaperlessBilling'])\n",
        "X_teste['PaymentMethod_le'] = le.fit_transform(X_teste['PaymentMethod'])\n",
        "\n",
        "X_train = X_treinamento.copy()\n",
        "X_test = X_teste.copy()\n",
        "\n",
        "X_treinamento = X_treinamento.drop(['id','gender', 'SeniorCitizen', 'Partner', 'Dependents',\n",
        "                                 'PhoneService', 'MultipleLines', 'InternetService', 'OnlineSecurity',\n",
        "                                 'OnlineBackup', 'DeviceProtection', 'TechSupport', 'StreamingTV',\n",
        "                                 'StreamingMovies', 'Contract', 'PaperlessBilling', 'PaymentMethod'],axis=1)\n",
        "\n",
        "X_teste = X_teste.drop(['id','gender', 'SeniorCitizen', 'Partner', 'Dependents',\n",
        "                                 'PhoneService', 'MultipleLines', 'InternetService', 'OnlineSecurity',\n",
        "                                 'OnlineBackup', 'DeviceProtection', 'TechSupport', 'StreamingTV',\n",
        "                                 'StreamingMovies', 'Contract', 'PaperlessBilling', 'PaymentMethod'],axis=1)\n",
        "l_colunas = X_treinamento.columns"
      ],
      "execution_count": 177,
      "outputs": [
        {
          "output_type": "error",
          "ename": "TypeError",
          "evalue": "ignored",
          "traceback": [
            "\u001b[0;31m---------------------------------------------------------------------------\u001b[0m",
            "\u001b[0;31mTypeError\u001b[0m                                 Traceback (most recent call last)",
            "\u001b[0;32m/usr/local/lib/python3.6/dist-packages/sklearn/preprocessing/_label.py\u001b[0m in \u001b[0;36m_encode\u001b[0;34m(values, uniques, encode, check_unknown)\u001b[0m\n\u001b[1;32m    111\u001b[0m         \u001b[0;32mtry\u001b[0m\u001b[0;34m:\u001b[0m\u001b[0;34m\u001b[0m\u001b[0;34m\u001b[0m\u001b[0m\n\u001b[0;32m--> 112\u001b[0;31m             \u001b[0mres\u001b[0m \u001b[0;34m=\u001b[0m \u001b[0m_encode_python\u001b[0m\u001b[0;34m(\u001b[0m\u001b[0mvalues\u001b[0m\u001b[0;34m,\u001b[0m \u001b[0muniques\u001b[0m\u001b[0;34m,\u001b[0m \u001b[0mencode\u001b[0m\u001b[0;34m)\u001b[0m\u001b[0;34m\u001b[0m\u001b[0;34m\u001b[0m\u001b[0m\n\u001b[0m\u001b[1;32m    113\u001b[0m         \u001b[0;32mexcept\u001b[0m \u001b[0mTypeError\u001b[0m\u001b[0;34m:\u001b[0m\u001b[0;34m\u001b[0m\u001b[0;34m\u001b[0m\u001b[0m\n",
            "\u001b[0;32m/usr/local/lib/python3.6/dist-packages/sklearn/preprocessing/_label.py\u001b[0m in \u001b[0;36m_encode_python\u001b[0;34m(values, uniques, encode)\u001b[0m\n\u001b[1;32m     59\u001b[0m     \u001b[0;32mif\u001b[0m \u001b[0muniques\u001b[0m \u001b[0;32mis\u001b[0m \u001b[0;32mNone\u001b[0m\u001b[0;34m:\u001b[0m\u001b[0;34m\u001b[0m\u001b[0;34m\u001b[0m\u001b[0m\n\u001b[0;32m---> 60\u001b[0;31m         \u001b[0muniques\u001b[0m \u001b[0;34m=\u001b[0m \u001b[0msorted\u001b[0m\u001b[0;34m(\u001b[0m\u001b[0mset\u001b[0m\u001b[0;34m(\u001b[0m\u001b[0mvalues\u001b[0m\u001b[0;34m)\u001b[0m\u001b[0;34m)\u001b[0m\u001b[0;34m\u001b[0m\u001b[0;34m\u001b[0m\u001b[0m\n\u001b[0m\u001b[1;32m     61\u001b[0m         \u001b[0muniques\u001b[0m \u001b[0;34m=\u001b[0m \u001b[0mnp\u001b[0m\u001b[0;34m.\u001b[0m\u001b[0marray\u001b[0m\u001b[0;34m(\u001b[0m\u001b[0muniques\u001b[0m\u001b[0;34m,\u001b[0m \u001b[0mdtype\u001b[0m\u001b[0;34m=\u001b[0m\u001b[0mvalues\u001b[0m\u001b[0;34m.\u001b[0m\u001b[0mdtype\u001b[0m\u001b[0;34m)\u001b[0m\u001b[0;34m\u001b[0m\u001b[0;34m\u001b[0m\u001b[0m\n",
            "\u001b[0;32m/usr/local/lib/python3.6/dist-packages/pandas/core/generic.py\u001b[0m in \u001b[0;36m__hash__\u001b[0;34m(self)\u001b[0m\n\u001b[1;32m   1668\u001b[0m         raise TypeError(\n\u001b[0;32m-> 1669\u001b[0;31m             \u001b[0;34mf\"{repr(type(self).__name__)} objects are mutable, \"\u001b[0m\u001b[0;34m\u001b[0m\u001b[0;34m\u001b[0m\u001b[0m\n\u001b[0m\u001b[1;32m   1670\u001b[0m             \u001b[0;34mf\"thus they cannot be hashed\"\u001b[0m\u001b[0;34m\u001b[0m\u001b[0;34m\u001b[0m\u001b[0m\n",
            "\u001b[0;31mTypeError\u001b[0m: 'Series' objects are mutable, thus they cannot be hashed",
            "\nDuring handling of the above exception, another exception occurred:\n",
            "\u001b[0;31mTypeError\u001b[0m                                 Traceback (most recent call last)",
            "\u001b[0;32m<ipython-input-177-7b964b3aef9e>\u001b[0m in \u001b[0;36m<module>\u001b[0;34m()\u001b[0m\n\u001b[1;32m     11\u001b[0m \u001b[0mX_treinamento\u001b[0m\u001b[0;34m[\u001b[0m\u001b[0;34m'SeniorCitizen_le'\u001b[0m\u001b[0;34m]\u001b[0m \u001b[0;34m=\u001b[0m \u001b[0mle\u001b[0m\u001b[0;34m.\u001b[0m\u001b[0mfit_transform\u001b[0m\u001b[0;34m(\u001b[0m\u001b[0mX_treinamento\u001b[0m\u001b[0;34m[\u001b[0m\u001b[0;34m'SeniorCitizen'\u001b[0m\u001b[0;34m]\u001b[0m\u001b[0;34m)\u001b[0m\u001b[0;34m\u001b[0m\u001b[0;34m\u001b[0m\u001b[0m\n\u001b[1;32m     12\u001b[0m \u001b[0mX_treinamento\u001b[0m\u001b[0;34m[\u001b[0m\u001b[0;34m'Partner_le'\u001b[0m\u001b[0;34m]\u001b[0m \u001b[0;34m=\u001b[0m \u001b[0mle\u001b[0m\u001b[0;34m.\u001b[0m\u001b[0mfit_transform\u001b[0m\u001b[0;34m(\u001b[0m\u001b[0mX_treinamento\u001b[0m\u001b[0;34m[\u001b[0m\u001b[0;34m'Partner'\u001b[0m\u001b[0;34m]\u001b[0m\u001b[0;34m)\u001b[0m\u001b[0;34m\u001b[0m\u001b[0;34m\u001b[0m\u001b[0m\n\u001b[0;32m---> 13\u001b[0;31m \u001b[0mX_treinamento\u001b[0m\u001b[0;34m[\u001b[0m\u001b[0;34m'Dependents_le'\u001b[0m\u001b[0;34m]\u001b[0m \u001b[0;34m=\u001b[0m \u001b[0mle\u001b[0m\u001b[0;34m.\u001b[0m\u001b[0mfit_transform\u001b[0m\u001b[0;34m(\u001b[0m\u001b[0mX_treinamento\u001b[0m\u001b[0;34m[\u001b[0m\u001b[0;34m'Dependents'\u001b[0m\u001b[0;34m]\u001b[0m\u001b[0;34m)\u001b[0m\u001b[0;34m\u001b[0m\u001b[0;34m\u001b[0m\u001b[0m\n\u001b[0m\u001b[1;32m     14\u001b[0m \u001b[0mX_treinamento\u001b[0m\u001b[0;34m[\u001b[0m\u001b[0;34m'PhoneService_le'\u001b[0m\u001b[0;34m]\u001b[0m \u001b[0;34m=\u001b[0m \u001b[0mle\u001b[0m\u001b[0;34m.\u001b[0m\u001b[0mfit_transform\u001b[0m\u001b[0;34m(\u001b[0m\u001b[0mX_treinamento\u001b[0m\u001b[0;34m[\u001b[0m\u001b[0;34m'PhoneService'\u001b[0m\u001b[0;34m]\u001b[0m\u001b[0;34m)\u001b[0m\u001b[0;34m\u001b[0m\u001b[0;34m\u001b[0m\u001b[0m\n\u001b[1;32m     15\u001b[0m \u001b[0mX_treinamento\u001b[0m\u001b[0;34m[\u001b[0m\u001b[0;34m'MultipleLines_le'\u001b[0m\u001b[0;34m]\u001b[0m \u001b[0;34m=\u001b[0m \u001b[0mle\u001b[0m\u001b[0;34m.\u001b[0m\u001b[0mfit_transform\u001b[0m\u001b[0;34m(\u001b[0m\u001b[0mX_treinamento\u001b[0m\u001b[0;34m[\u001b[0m\u001b[0;34m'MultipleLines'\u001b[0m\u001b[0;34m]\u001b[0m\u001b[0;34m)\u001b[0m\u001b[0;34m\u001b[0m\u001b[0;34m\u001b[0m\u001b[0m\n",
            "\u001b[0;32m/usr/local/lib/python3.6/dist-packages/sklearn/preprocessing/_label.py\u001b[0m in \u001b[0;36mfit_transform\u001b[0;34m(self, y)\u001b[0m\n\u001b[1;32m    250\u001b[0m         \"\"\"\n\u001b[1;32m    251\u001b[0m         \u001b[0my\u001b[0m \u001b[0;34m=\u001b[0m \u001b[0mcolumn_or_1d\u001b[0m\u001b[0;34m(\u001b[0m\u001b[0my\u001b[0m\u001b[0;34m,\u001b[0m \u001b[0mwarn\u001b[0m\u001b[0;34m=\u001b[0m\u001b[0;32mTrue\u001b[0m\u001b[0;34m)\u001b[0m\u001b[0;34m\u001b[0m\u001b[0;34m\u001b[0m\u001b[0m\n\u001b[0;32m--> 252\u001b[0;31m         \u001b[0mself\u001b[0m\u001b[0;34m.\u001b[0m\u001b[0mclasses_\u001b[0m\u001b[0;34m,\u001b[0m \u001b[0my\u001b[0m \u001b[0;34m=\u001b[0m \u001b[0m_encode\u001b[0m\u001b[0;34m(\u001b[0m\u001b[0my\u001b[0m\u001b[0;34m,\u001b[0m \u001b[0mencode\u001b[0m\u001b[0;34m=\u001b[0m\u001b[0;32mTrue\u001b[0m\u001b[0;34m)\u001b[0m\u001b[0;34m\u001b[0m\u001b[0;34m\u001b[0m\u001b[0m\n\u001b[0m\u001b[1;32m    253\u001b[0m         \u001b[0;32mreturn\u001b[0m \u001b[0my\u001b[0m\u001b[0;34m\u001b[0m\u001b[0;34m\u001b[0m\u001b[0m\n\u001b[1;32m    254\u001b[0m \u001b[0;34m\u001b[0m\u001b[0m\n",
            "\u001b[0;32m/usr/local/lib/python3.6/dist-packages/sklearn/preprocessing/_label.py\u001b[0m in \u001b[0;36m_encode\u001b[0;34m(values, uniques, encode, check_unknown)\u001b[0m\n\u001b[1;32m    112\u001b[0m             \u001b[0mres\u001b[0m \u001b[0;34m=\u001b[0m \u001b[0m_encode_python\u001b[0m\u001b[0;34m(\u001b[0m\u001b[0mvalues\u001b[0m\u001b[0;34m,\u001b[0m \u001b[0muniques\u001b[0m\u001b[0;34m,\u001b[0m \u001b[0mencode\u001b[0m\u001b[0;34m)\u001b[0m\u001b[0;34m\u001b[0m\u001b[0;34m\u001b[0m\u001b[0m\n\u001b[1;32m    113\u001b[0m         \u001b[0;32mexcept\u001b[0m \u001b[0mTypeError\u001b[0m\u001b[0;34m:\u001b[0m\u001b[0;34m\u001b[0m\u001b[0;34m\u001b[0m\u001b[0m\n\u001b[0;32m--> 114\u001b[0;31m             \u001b[0;32mraise\u001b[0m \u001b[0mTypeError\u001b[0m\u001b[0;34m(\u001b[0m\u001b[0;34m\"argument must be a string or number\"\u001b[0m\u001b[0;34m)\u001b[0m\u001b[0;34m\u001b[0m\u001b[0;34m\u001b[0m\u001b[0m\n\u001b[0m\u001b[1;32m    115\u001b[0m         \u001b[0;32mreturn\u001b[0m \u001b[0mres\u001b[0m\u001b[0;34m\u001b[0m\u001b[0;34m\u001b[0m\u001b[0m\n\u001b[1;32m    116\u001b[0m     \u001b[0;32melse\u001b[0m\u001b[0;34m:\u001b[0m\u001b[0;34m\u001b[0m\u001b[0;34m\u001b[0m\u001b[0m\n",
            "\u001b[0;31mTypeError\u001b[0m: argument must be a string or number"
          ]
        }
      ]
    },
    {
      "cell_type": "code",
      "metadata": {
        "id": "wOcEuEMrfBEh"
      },
      "source": [
        "# Definindo variáveis globais:\n",
        "i_CV = 10     # número de Cross-Validations (CV)\n",
        "i_Seed = 20111974\n",
        "\n",
        "from sklearn.model_selection import cross_val_score     # para CV (Cross-Validation)\n",
        "from sklearn.model_selection import GridSearchCV        # para GridSearchCV (otimizar os parâmetros dos modelos preditivos)\n",
        "from time import time                                   # requerida na função gridsearchcv\n",
        "from sklearn.ensemble import RandomForestClassifier     # para o RandomForestClassifier\n",
        "from sklearn.metrics import confusion_matrix            # para plotar a confusion matrix\n",
        "import seaborn as sns"
      ],
      "execution_count": 4,
      "outputs": []
    },
    {
      "cell_type": "code",
      "metadata": {
        "id": "yyKeG24repEU"
      },
      "source": [
        "# Função para Cross-Validation:\n",
        "\n",
        "def funcao_cross_val_score(modelo, X_treinamento, y_treinamento, CV):\n",
        "    \n",
        "    #versão com cross_val_score:\n",
        "    a_scores_CV = cross_val_score(modelo, X_treinamento, y_treinamento, cv = CV)\n",
        "    print(f'Média das Acurácias calculadas pelo CV....: {100*round(a_scores_CV.mean(),4)}')\n",
        "    print(f'std médio das Acurácias calculadas pelo CV: {100*round(a_scores_CV.std(),4)}')\n",
        "    return a_scores_CV  # é um array com os scores a cada iteração do CV\n"
      ],
      "execution_count": 5,
      "outputs": []
    },
    {
      "cell_type": "code",
      "metadata": {
        "id": "3aceuye7hmqx"
      },
      "source": [
        "# Função para Confusion Matrix:\n",
        "\n",
        "def mostra_confusion_matrix(cf, \n",
        "                            group_names = None, \n",
        "                            categories = 'auto', \n",
        "                            count = True, \n",
        "                            percent = True, \n",
        "                            cbar = True, \n",
        "                            xyticks = False, \n",
        "                            xyplotlabels = True, \n",
        "                            sum_stats = True, \n",
        "                            figsize = (8, 8), \n",
        "                            cmap = 'Blues'):\n",
        "    '''\n",
        "    This function will make a pretty plot of an sklearn Confusion Matrix cm using a Seaborn heatmap visualization.\n",
        "    Arguments\n",
        "    ---------\n",
        "    cf:            confusion matrix to be passed in\n",
        "    group_names:   List of strings that represent the labels row by row to be shown in each square.\n",
        "    categories:    List of strings containing the categories to be displayed on the x,y axis. Default is 'auto'\n",
        "    count:         If True, show the raw number in the confusion matrix. Default is True.\n",
        "    normalize:     If True, show the proportions for each category. Default is True.\n",
        "    cbar:          If True, show the color bar. The cbar values are based off the values in the confusion matrix.\n",
        "                   Default is True.\n",
        "    xyticks:       If True, show x and y ticks. Default is True.\n",
        "    xyplotlabels:  If True, show 'True Label' and 'Predicted Label' on the figure. Default is True.\n",
        "    sum_stats:     If True, display summary statistics below the figure. Default is True.\n",
        "    figsize:       Tuple representing the figure size. Default will be the matplotlib rcParams value.\n",
        "    cmap:          Colormap of the values displayed from matplotlib.pyplot.cm. Default is 'Blues'\n",
        "                   See http://matplotlib.org/examples/color/colormaps_reference.html\n",
        "    '''\n",
        "\n",
        "    # CODE TO GENERATE TEXT INSIDE EACH SQUARE\n",
        "    blanks = ['' for i in range(cf.size)]\n",
        "\n",
        "    if group_names and len(group_names)==cf.size:\n",
        "        group_labels = [\"{}\\n\".format(value) for value in group_names]\n",
        "    else:\n",
        "        group_labels = blanks\n",
        "\n",
        "    if count:\n",
        "        group_counts = [\"{0:0.0f}\\n\".format(value) for value in cf.flatten()]\n",
        "    else:\n",
        "        group_counts = blanks\n",
        "\n",
        "    if percent:\n",
        "        group_percentages = [\"{0:.2%}\".format(value) for value in cf.flatten()/np.sum(cf)]\n",
        "    else:\n",
        "        group_percentages = blanks\n",
        "\n",
        "    box_labels = [f\"{v1}{v2}{v3}\".strip() for v1, v2, v3 in zip(group_labels,group_counts,group_percentages)]\n",
        "    box_labels = np.asarray(box_labels).reshape(cf.shape[0],cf.shape[1])\n",
        "\n",
        "    # CODE TO GENERATE SUMMARY STATISTICS & TEXT FOR SUMMARY STATS\n",
        "    if sum_stats:\n",
        "        #Accuracy is sum of diagonal divided by total observations\n",
        "        accuracy  = np.trace(cf) / float(np.sum(cf))\n",
        "\n",
        "        #if it is a binary confusion matrix, show some more stats\n",
        "        if len(cf)==2:\n",
        "            #Metrics for Binary Confusion Matrices\n",
        "            precision = cf[1,1] / sum(cf[:,1])\n",
        "            recall    = cf[1,1] / sum(cf[1,:])\n",
        "            f1_score  = 2*precision*recall / (precision + recall)\n",
        "            stats_text = \"\\n\\nAccuracy={:0.3f}\\nPrecision={:0.3f}\\nRecall={:0.3f}\\nF1 Score={:0.3f}\".format(accuracy,precision,recall,f1_score)\n",
        "        else:\n",
        "            stats_text = \"\\n\\nAccuracy={:0.3f}\".format(accuracy)\n",
        "    else:\n",
        "        stats_text = \"\"\n",
        "\n",
        "    # SET FIGURE PARAMETERS ACCORDING TO OTHER ARGUMENTS\n",
        "    if figsize==None:\n",
        "        #Get default figure size if not set\n",
        "        figsize = plt.rcParams.get('figure.figsize')\n",
        "\n",
        "    if xyticks==False:\n",
        "        #Do not show categories if xyticks is False\n",
        "        categories=False\n",
        "\n",
        "    # MAKE THE HEATMAP VISUALIZATION\n",
        "    plt.figure(figsize=figsize)\n",
        "    sns.heatmap(cf,annot=box_labels,fmt=\"\",cmap=cmap,cbar=cbar,xticklabels=categories,yticklabels=categories)\n",
        "\n",
        "    if xyplotlabels:\n",
        "        plt.ylabel('True label')\n",
        "        plt.xlabel('Predicted label' + stats_text)\n",
        "    else:\n",
        "        plt.xlabel(stats_text)"
      ],
      "execution_count": 6,
      "outputs": []
    },
    {
      "cell_type": "code",
      "metadata": {
        "id": "dq1aiuUsfKdU"
      },
      "source": [
        "# função para GridSearchCV:\n",
        "\n",
        "def GridSearchOptimizer(modelo, ml_Opt, d_Parametros, X_treinamento, y_treinamento, X_teste, y_teste, i_CV, l_colunas):\n",
        "    ml_GridSearchCV = GridSearchCV(modelo, d_Parametros, cv = i_CV, n_jobs = -1, verbose= 10, scoring = 'accuracy')\n",
        "    start = time()\n",
        "    ml_GridSearchCV.fit(X_treinamento, y_treinamento)\n",
        "    tempo_elapsed = time()-start\n",
        "    #print(f\"\\nGridSearchCV levou {tempo_elapsed:.2f} segundos.\")\n",
        "\n",
        "    # Parâmetros que otimizam a classificação:\n",
        "    print(f'\\nParametros otimizados: {ml_GridSearchCV.best_params_}')\n",
        "    \n",
        "    if ml_Opt == 'ml_DT2':\n",
        "        print(f'\\nDecisionTreeClassifier *********************************************************************************************************')\n",
        "        ml_Opt = DecisionTreeClassifier(criterion= ml_GridSearchCV.best_params_['criterion'], \n",
        "                                        max_depth= ml_GridSearchCV.best_params_['max_depth'],\n",
        "                                        max_leaf_nodes= ml_GridSearchCV.best_params_['max_leaf_nodes'],\n",
        "                                        min_samples_split= ml_GridSearchCV.best_params_['min_samples_leaf'],\n",
        "                                        min_samples_leaf= ml_GridSearchCV.best_params_['min_samples_split'], \n",
        "                                        random_state= i_Seed)\n",
        "        \n",
        "    elif ml_Opt == 'ml_RF2':\n",
        "        print(f'\\nRandomForestClassifier *********************************************************************************************************')\n",
        "        ml_Opt = RandomForestClassifier(bootstrap= ml_GridSearchCV.best_params_['bootstrap'], \n",
        "                                        max_depth= ml_GridSearchCV.best_params_['max_depth'],\n",
        "                                        max_features= ml_GridSearchCV.best_params_['max_features'],\n",
        "                                        min_samples_leaf= ml_GridSearchCV.best_params_['min_samples_leaf'],\n",
        "                                        min_samples_split= ml_GridSearchCV.best_params_['min_samples_split'],\n",
        "                                        n_estimators= ml_GridSearchCV.best_params_['n_estimators'],\n",
        "                                        random_state= i_Seed)\n",
        "        \n",
        "    elif ml_Opt == 'ml_AB2':\n",
        "        print(f'\\nAdaBoostClassifier *********************************************************************************************************')\n",
        "        ml_Opt = AdaBoostClassifier(algorithm='SAMME.R', \n",
        "                                    base_estimator=RandomForestClassifier(bootstrap = False, \n",
        "                                                                          max_depth = 10, \n",
        "                                                                          max_features = 'auto', \n",
        "                                                                          min_samples_leaf = 1, \n",
        "                                                                          min_samples_split = 2, \n",
        "                                                                          n_estimators = 400), \n",
        "                                    learning_rate = ml_GridSearchCV.best_params_['learning_rate'], \n",
        "                                    n_estimators = ml_GridSearchCV.best_params_['n_estimators'], \n",
        "                                    random_state = i_Seed)\n",
        "        \n",
        "    elif ml_Opt == 'ml_GB2':\n",
        "        print(f'\\nGradientBoostingClassifier *********************************************************************************************************')\n",
        "        ml_Opt = GradientBoostingClassifier(learning_rate = ml_GridSearchCV.best_params_['learning_rate'], \n",
        "                                            n_estimators = ml_GridSearchCV.best_params_['n_estimators'], \n",
        "                                            max_depth = ml_GridSearchCV.best_params_['max_depth'], \n",
        "                                            min_samples_split = ml_GridSearchCV.best_params_['min_samples_split'], \n",
        "                                            min_samples_leaf = ml_GridSearchCV.best_params_['min_samples_leaf'], \n",
        "                                            max_features = ml_GridSearchCV.best_params_['max_features'])\n",
        "        \n",
        "    elif ml_Opt == 'ml_XGB2':\n",
        "        print(f'\\nXGBoostingClassifier *********************************************************************************************************')\n",
        "        ml_Opt = XGBoostingClassifier(learning_rate= ml_GridSearchCV.best_params_['learning_rate'], \n",
        "                                      max_depth= ml_GridSearchCV.best_params_['max_depth'], \n",
        "                                      colsample_bytree= ml_GridSearchCV.best_params_['colsample_bytree'], \n",
        "                                      subsample= ml_GridSearchCV.best_params_['subsample'], \n",
        "                                      gamma= ml_GridSearchCV.best_params_['gamma'], \n",
        "                                      min_child_weight= ml_GridSearchCV.best_params_['min_child_weight'])\n",
        "        \n",
        "    # Treina novamente usando os parametros otimizados...\n",
        "    ml_Opt.fit(X_treinamento, y_treinamento)\n",
        "\n",
        "    # Cross-Validation com 10 folds\n",
        "    print(f'\\n********* CROSS-VALIDATION ***********')\n",
        "    a_scores_CV = funcao_cross_val_score(ml_Opt, X_treinamento, y_treinamento, i_CV)\n",
        "\n",
        "    # Faz predições com os parametros otimizados...\n",
        "    y_pred = ml_Opt.predict(X_teste)\n",
        "  \n",
        "    # Importância das COLUNAS\n",
        "    print(f'\\n********* IMPORTÂNCIA DAS COLUNAS ***********')\n",
        "    df_importancia_variaveis = pd.DataFrame(zip(l_colunas, ml_Opt.feature_importances_), columns= ['coluna', 'importancia'])\n",
        "    df_importancia_variaveis = df_importancia_variaveis.sort_values(by= ['importancia'], ascending=False)\n",
        "    print(df_importancia_variaveis)\n",
        "\n",
        "    # Matriz de Confusão\n",
        "    print(f'\\n********* CONFUSION MATRIX - PARAMETER TUNNING ***********')\n",
        "    cf_matrix = confusion_matrix(y_teste, y_pred)\n",
        "    cf_labels = ['True_Negative', 'False_Positive', 'False_Negative', 'True_Positive']\n",
        "    cf_categories = ['Zero', 'One']\n",
        "    mostra_confusion_matrix(cf_matrix, group_names = cf_labels, categories = cf_categories)\n",
        "\n",
        "    return ml_Opt, ml_GridSearchCV.best_params_\n"
      ],
      "execution_count": 7,
      "outputs": []
    },
    {
      "cell_type": "code",
      "metadata": {
        "id": "Adif316XBrff"
      },
      "source": [
        "# Função para Decision Tree:\n",
        "\n",
        "from sklearn.tree import DecisionTreeClassifier # Library para Decision Tree (Classificação)\n",
        "\n",
        "ml_DT = DecisionTreeClassifier(criterion = 'gini', \n",
        "                               splitter = 'best', \n",
        "                               max_depth = None, \n",
        "                               min_samples_split = 2, \n",
        "                               min_samples_leaf = 1, \n",
        "                               min_weight_fraction_leaf = 0.0, \n",
        "                               max_features = None, \n",
        "                               random_state = i_Seed, \n",
        "                               max_leaf_nodes = None, \n",
        "                               min_impurity_decrease = 0.0, \n",
        "                               min_impurity_split = None, \n",
        "                               class_weight = None, \n",
        "                               presort = False)\n",
        "\n"
      ],
      "execution_count": 8,
      "outputs": []
    },
    {
      "cell_type": "markdown",
      "metadata": {
        "id": "4AuycftiX1Yv"
      },
      "source": [
        "## MODELO 3: RANDOM FOREST, CV e GridSearchRF (X_treinamento, X_teste)"
      ]
    },
    {
      "cell_type": "code",
      "metadata": {
        "id": "1lp_dDyAjgNn",
        "outputId": "f6f92e58-f2f9-4379-f6a3-eb5be9ac61ee",
        "colab": {
          "base_uri": "https://localhost:8080/",
          "height": 1000
        }
      },
      "source": [
        "# RandomForestClassifier\n",
        "\n",
        "# Instancia...\n",
        "ml_RF= RandomForestClassifier(n_estimators=200, min_samples_split= 2, max_features=\"auto\",random_state = i_Seed)\n",
        "\n",
        "# Treina...\n",
        "ml_RF.fit(X_treinamento, y_treinamento)\n",
        "\n",
        "a_scores_CV = funcao_cross_val_score(ml_RF, X_treinamento, y_treinamento, i_CV)\n",
        "\n",
        "# Faz predições...\n",
        "y_pred = ml_RF.predict(X_teste)\n",
        "\n",
        "# Dicionário de parâmetros para o parameter tunning.\n",
        "d_hiperparametros_RF= {'bootstrap': [True, False],\n",
        "                  'max_depth': [10,None],#[10, 20, 30, 40, 50, 60, 70, 80, 90, 100, None],\n",
        "                  'max_features': ['auto', 'sqrt'],\n",
        "                  'min_samples_leaf': [1, 2, 4],\n",
        "                  'min_samples_split': [2,5], #[2, 5, 10],\n",
        "                  'n_estimators': [200,400]}#[200, 400, 600, 800, 1000, 1200, 1400, 1600, 1800, 2000]}\n",
        "\n",
        "ml_RF2, best_params = GridSearchOptimizer(ml_RF, 'ml_RF2', d_hiperparametros_RF, X_treinamento, y_treinamento, X_teste, y_teste, i_CV, l_colunas)"
      ],
      "execution_count": 9,
      "outputs": [
        {
          "output_type": "stream",
          "text": [
            "Média das Acurácias calculadas pelo CV....: 79.86\n",
            "std médio das Acurácias calculadas pelo CV: 1.97\n",
            "Fitting 10 folds for each of 96 candidates, totalling 960 fits\n"
          ],
          "name": "stdout"
        },
        {
          "output_type": "stream",
          "text": [
            "[Parallel(n_jobs=-1)]: Using backend LokyBackend with 2 concurrent workers.\n",
            "[Parallel(n_jobs=-1)]: Done   1 tasks      | elapsed:    2.9s\n",
            "[Parallel(n_jobs=-1)]: Done   4 tasks      | elapsed:    4.5s\n",
            "[Parallel(n_jobs=-1)]: Done   9 tasks      | elapsed:    9.2s\n",
            "[Parallel(n_jobs=-1)]: Done  14 tasks      | elapsed:   15.4s\n",
            "[Parallel(n_jobs=-1)]: Done  21 tasks      | elapsed:   26.2s\n",
            "[Parallel(n_jobs=-1)]: Done  28 tasks      | elapsed:   30.9s\n",
            "[Parallel(n_jobs=-1)]: Done  37 tasks      | elapsed:   44.7s\n",
            "[Parallel(n_jobs=-1)]: Done  46 tasks      | elapsed:   52.3s\n",
            "[Parallel(n_jobs=-1)]: Done  57 tasks      | elapsed:  1.1min\n",
            "[Parallel(n_jobs=-1)]: Done  68 tasks      | elapsed:  1.3min\n",
            "[Parallel(n_jobs=-1)]: Done  81 tasks      | elapsed:  1.6min\n",
            "[Parallel(n_jobs=-1)]: Done  94 tasks      | elapsed:  1.8min\n",
            "[Parallel(n_jobs=-1)]: Done 109 tasks      | elapsed:  2.1min\n",
            "[Parallel(n_jobs=-1)]: Done 124 tasks      | elapsed:  2.4min\n",
            "[Parallel(n_jobs=-1)]: Done 141 tasks      | elapsed:  2.7min\n",
            "[Parallel(n_jobs=-1)]: Done 158 tasks      | elapsed:  3.0min\n",
            "[Parallel(n_jobs=-1)]: Done 177 tasks      | elapsed:  3.4min\n",
            "[Parallel(n_jobs=-1)]: Done 196 tasks      | elapsed:  3.7min\n",
            "[Parallel(n_jobs=-1)]: Done 217 tasks      | elapsed:  4.2min\n",
            "[Parallel(n_jobs=-1)]: Done 238 tasks      | elapsed:  4.5min\n",
            "[Parallel(n_jobs=-1)]: Done 261 tasks      | elapsed:  5.1min\n",
            "[Parallel(n_jobs=-1)]: Done 284 tasks      | elapsed:  5.5min\n",
            "[Parallel(n_jobs=-1)]: Done 309 tasks      | elapsed:  6.0min\n",
            "[Parallel(n_jobs=-1)]: Done 334 tasks      | elapsed:  6.6min\n",
            "[Parallel(n_jobs=-1)]: Done 361 tasks      | elapsed:  7.2min\n",
            "[Parallel(n_jobs=-1)]: Done 388 tasks      | elapsed:  7.7min\n",
            "[Parallel(n_jobs=-1)]: Done 417 tasks      | elapsed:  8.4min\n",
            "[Parallel(n_jobs=-1)]: Done 446 tasks      | elapsed:  9.0min\n",
            "[Parallel(n_jobs=-1)]: Done 477 tasks      | elapsed:  9.7min\n",
            "[Parallel(n_jobs=-1)]: Done 508 tasks      | elapsed: 10.4min\n",
            "[Parallel(n_jobs=-1)]: Done 541 tasks      | elapsed: 11.2min\n",
            "[Parallel(n_jobs=-1)]: Done 574 tasks      | elapsed: 12.0min\n",
            "[Parallel(n_jobs=-1)]: Done 609 tasks      | elapsed: 12.8min\n",
            "[Parallel(n_jobs=-1)]: Done 644 tasks      | elapsed: 13.6min\n",
            "[Parallel(n_jobs=-1)]: Done 681 tasks      | elapsed: 14.5min\n",
            "[Parallel(n_jobs=-1)]: Done 718 tasks      | elapsed: 15.4min\n",
            "[Parallel(n_jobs=-1)]: Done 757 tasks      | elapsed: 16.6min\n",
            "[Parallel(n_jobs=-1)]: Done 796 tasks      | elapsed: 17.6min\n",
            "[Parallel(n_jobs=-1)]: Done 837 tasks      | elapsed: 18.7min\n",
            "[Parallel(n_jobs=-1)]: Done 878 tasks      | elapsed: 19.9min\n",
            "[Parallel(n_jobs=-1)]: Done 921 tasks      | elapsed: 21.2min\n",
            "[Parallel(n_jobs=-1)]: Done 960 out of 960 | elapsed: 22.2min finished\n"
          ],
          "name": "stderr"
        },
        {
          "output_type": "stream",
          "text": [
            "\n",
            "Parametros otimizados: {'bootstrap': True, 'max_depth': None, 'max_features': 'auto', 'min_samples_leaf': 4, 'min_samples_split': 2, 'n_estimators': 200}\n",
            "\n",
            "RandomForestClassifier *********************************************************************************************************\n",
            "\n",
            "********* CROSS-VALIDATION ***********\n",
            "Média das Acurácias calculadas pelo CV....: 80.58\n",
            "std médio das Acurácias calculadas pelo CV: 1.6099999999999999\n",
            "\n",
            "********* IMPORTÂNCIA DAS COLUNAS ***********\n",
            "                 coluna  importancia\n",
            "2          TotalCharges     0.160752\n",
            "0                tenure     0.148190\n",
            "1        MonthlyCharges     0.144845\n",
            "16          Contract_le     0.143786\n",
            "10    OnlineSecurity_le     0.068424\n",
            "13       TechSupport_le     0.064404\n",
            "9    InternetService_le     0.048603\n",
            "18     PaymentMethod_le     0.040039\n",
            "11      OnlineBackup_le     0.028803\n",
            "17  PaperlessBilling_le     0.023075\n",
            "12  DeviceProtection_le     0.021446\n",
            "3             gender_le     0.018275\n",
            "8      MultipleLines_le     0.016883\n",
            "5            Partner_le     0.015132\n",
            "4      SeniorCitizen_le     0.014542\n",
            "14       StreamingTV_le     0.014156\n",
            "15   StreamingMovies_le     0.013107\n",
            "6         Dependents_le     0.011453\n",
            "7       PhoneService_le     0.004086\n",
            "\n",
            "********* CONFUSION MATRIX - PARAMETER TUNNING ***********\n"
          ],
          "name": "stdout"
        },
        {
          "output_type": "display_data",
          "data": {
            "image/png": "[encoded data removed]",
            "text/plain": [
              "<Figure size 576x576 with 2 Axes>"
            ]
          },
          "metadata": {
            "tags": [],
            "needs_background": "light"
          }
        }
      ]
    },
    {
      "cell_type": "code",
      "metadata": {
        "id": "nPYjrNwhHdyH",
        "outputId": "4db36797-4830-4709-a296-3a4ccdc976f4",
        "colab": {
          "base_uri": "https://localhost:8080/"
        }
      },
      "source": [
        "y_pred"
      ],
      "execution_count": 10,
      "outputs": [
        {
          "output_type": "execute_result",
          "data": {
            "text/plain": [
              "array([0, 0, 0, ..., 0, 1, 0])"
            ]
          },
          "metadata": {
            "tags": []
          },
          "execution_count": 10
        }
      ]
    },
    {
      "cell_type": "code",
      "metadata": {
        "id": "4j9bkAalDyHy",
        "outputId": "ab2e0989-9942-4b7a-edd3-e3b93211e2f6",
        "colab": {
          "base_uri": "https://localhost:8080/"
        }
      },
      "source": [
        "unique_elements, counts_elements = np.unique(y_pred, return_counts=True)\n",
        "print(\"Frequency of unique values of the said array:\")\n",
        "print(np.asarray((unique_elements, counts_elements)))"
      ],
      "execution_count": 13,
      "outputs": [
        {
          "output_type": "stream",
          "text": [
            "Frequency of unique values of the said array:\n",
            "[[   0    1]\n",
            " [1128  281]]\n"
          ],
          "name": "stdout"
        }
      ]
    },
    {
      "cell_type": "code",
      "metadata": {
        "id": "wJX00Fx1HpFr"
      },
      "source": [
        "#y_pred = ml_RF.predict(X_teste)\n",
        "\n",
        "#y_teste_submit = ml_RF.predict(df_teste_submit)\n",
        "df_submit = pd.DataFrame(zip(df_test['id'],y_pred), columns = ['id','Churn'])\n",
        "df_submit.to_csv('submit.csv',index = False)"
      ],
      "execution_count": 11,
      "outputs": []
    },
    {
      "cell_type": "code",
      "metadata": {
        "id": "xRlxN-bQNkqv",
        "outputId": "e0f19f78-3cde-490a-ff20-54240667588a",
        "colab": {
          "base_uri": "https://localhost:8080/",
          "height": 406
        }
      },
      "source": [
        "df_submit"
      ],
      "execution_count": 12,
      "outputs": [
        {
          "output_type": "execute_result",
          "data": {
            "text/html": [
              "<div>\n",
              "<style scoped>\n",
              "    .dataframe tbody tr th:only-of-type {\n",
              "        vertical-align: middle;\n",
              "    }\n",
              "\n",
              "    .dataframe tbody tr th {\n",
              "        vertical-align: top;\n",
              "    }\n",
              "\n",
              "    .dataframe thead th {\n",
              "        text-align: right;\n",
              "    }\n",
              "</style>\n",
              "<table border=\"1\" class=\"dataframe\">\n",
              "  <thead>\n",
              "    <tr style=\"text-align: right;\">\n",
              "      <th></th>\n",
              "      <th>id</th>\n",
              "      <th>Churn</th>\n",
              "    </tr>\n",
              "  </thead>\n",
              "  <tbody>\n",
              "    <tr>\n",
              "      <th>0</th>\n",
              "      <td>5027</td>\n",
              "      <td>0</td>\n",
              "    </tr>\n",
              "    <tr>\n",
              "      <th>1</th>\n",
              "      <td>1733</td>\n",
              "      <td>0</td>\n",
              "    </tr>\n",
              "    <tr>\n",
              "      <th>2</th>\n",
              "      <td>5384</td>\n",
              "      <td>0</td>\n",
              "    </tr>\n",
              "    <tr>\n",
              "      <th>3</th>\n",
              "      <td>6554</td>\n",
              "      <td>0</td>\n",
              "    </tr>\n",
              "    <tr>\n",
              "      <th>4</th>\n",
              "      <td>364</td>\n",
              "      <td>0</td>\n",
              "    </tr>\n",
              "    <tr>\n",
              "      <th>...</th>\n",
              "      <td>...</td>\n",
              "      <td>...</td>\n",
              "    </tr>\n",
              "    <tr>\n",
              "      <th>1404</th>\n",
              "      <td>4897</td>\n",
              "      <td>0</td>\n",
              "    </tr>\n",
              "    <tr>\n",
              "      <th>1405</th>\n",
              "      <td>6940</td>\n",
              "      <td>0</td>\n",
              "    </tr>\n",
              "    <tr>\n",
              "      <th>1406</th>\n",
              "      <td>804</td>\n",
              "      <td>0</td>\n",
              "    </tr>\n",
              "    <tr>\n",
              "      <th>1407</th>\n",
              "      <td>1143</td>\n",
              "      <td>1</td>\n",
              "    </tr>\n",
              "    <tr>\n",
              "      <th>1408</th>\n",
              "      <td>5773</td>\n",
              "      <td>0</td>\n",
              "    </tr>\n",
              "  </tbody>\n",
              "</table>\n",
              "<p>1409 rows × 2 columns</p>\n",
              "</div>"
            ],
            "text/plain": [
              "        id  Churn\n",
              "0     5027      0\n",
              "1     1733      0\n",
              "2     5384      0\n",
              "3     6554      0\n",
              "4      364      0\n",
              "...    ...    ...\n",
              "1404  4897      0\n",
              "1405  6940      0\n",
              "1406   804      0\n",
              "1407  1143      1\n",
              "1408  5773      0\n",
              "\n",
              "[1409 rows x 2 columns]"
            ]
          },
          "metadata": {
            "tags": []
          },
          "execution_count": 12
        }
      ]
    },
    {
      "cell_type": "code",
      "metadata": {
        "id": "FzxVvpflNqhq"
      },
      "source": [
        ""
      ],
      "execution_count": 12,
      "outputs": []
    }
  ]
}