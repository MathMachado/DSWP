{
  "nbformat": 4,
  "nbformat_minor": 0,
  "metadata": {
    "kernelspec": {
      "display_name": "Python 3",
      "language": "python",
      "name": "python3"
    },
    "language_info": {
      "codemirror_mode": {
        "name": "ipython",
        "version": 3
      },
      "file_extension": ".py",
      "mimetype": "text/x-python",
      "name": "python",
      "nbconvert_exporter": "python",
      "pygments_lexer": "ipython3",
      "version": "3.6.1"
    },
    "colab": {
      "name": "Cópia de NB15_02__Regressão Linear.ipynb",
      "provenance": [],
      "include_colab_link": true
    }
  },
  "cells": [
    {
      "cell_type": "markdown",
      "metadata": {
        "id": "view-in-github",
        "colab_type": "text"
      },
      "source": [
        "<a href=\"https://colab.research.google.com/github/cryssoga/DSWP/blob/master/Li%C3%A7%C3%A3o/NB15_02__Regress%C3%A3o_Linear_Titanic.ipynb\" target=\"_parent\"><img src=\"https://colab.research.google.com/assets/colab-badge.svg\" alt=\"Open In Colab\"/></a>"
      ]
    },
    {
      "cell_type": "markdown",
      "metadata": {
        "id": "XwQDhId7N6_r"
      },
      "source": [
        "<center><h1><b><i>MACHINE LEARNING WITH PYTHON</i></b></h1></center>\n",
        "<center><h1><b><i>APRENDIZAGEM SUPERVISIONADA</i></b></h1></center>\n",
        "<center><h1><b><i>MODELOS DE REGRESSÃO (LINEAR E LOGÍSTICA)</i></b></h1></center>\n",
        "\n",
        "Fonte: https://realpython.com/linear-regression-in-python/"
      ]
    },
    {
      "cell_type": "markdown",
      "metadata": {
        "id": "PN-dQFJcM1UV"
      },
      "source": [
        "Passos para implementação da Regressão Linear:\n",
        "\n",
        "* (1) Importar as libraries necessárias;\n",
        "* (2) Carregar os dados;\n",
        "* (3) Aplicar as transformações necessárias: outliers, NaN's, normalização (MinMaxScaler, RobustScaler, StandarScaler, Log, Box-Cox e etc);\n",
        "* (4) DataViz dos dados: entender os relacionamentos, distribuições e etc presente nos dados;\n",
        "* (5) Construir e treinar o modelo preditivo (neste caso, modelo de regressão);\n",
        "* (6) Validar/verificar as métricas para avaliação do(s) modelo(s);\n",
        "* (7) Predições."
      ]
    },
    {
      "cell_type": "markdown",
      "metadata": {
        "id": "8TldGZxAFV5E"
      },
      "source": [
        ""
      ]
    },
    {
      "cell_type": "markdown",
      "metadata": {
        "id": "0QRbxlqaq7pr"
      },
      "source": [
        "# Melhorias da sessão:\n",
        "* Calcular as correlações antes e depois da RIDGE e LASSO para mostrar a multicolinearidade e explicar porque determinadas colunas \"deixam\" de ser importantes."
      ]
    },
    {
      "cell_type": "markdown",
      "metadata": {
        "id": "P4sAIblOgFyL"
      },
      "source": [
        "# Modelos de Regressão com Regularization para Classificação e Regressão"
      ]
    },
    {
      "cell_type": "markdown",
      "metadata": {
        "id": "o7Y7cuJNgFyU"
      },
      "source": [
        "## Regressão Linear Simples (usando OLS - Ordinary Least Squares)\n",
        "\n",
        "* Features $X_{np}$: é uma matriz de dimensão nxp contendo os atributos/variáveis preditoras do dataframe (variáveis independentes);\n",
        "* Variável target/dependente representada por y;\n",
        "* Relação entre X e y é representado pela equação abaixo, onde $w_{i}$ representa os pesos de cada coeficiente e $w_{0}$ representa o intercepto."
      ]
    },
    {
      "cell_type": "markdown",
      "metadata": {
        "id": "NpJ580y9gFyU"
      },
      "source": [
        "<img src=\"https://github.com/awantik/machine-learning-slides/blob/master/lm1.PNG?raw=true\" width=\"300\">\n",
        "\n",
        "![X_y](https://github.com/MathMachado/Materials/blob/master/Architecture.png?raw=true)"
      ]
    },
    {
      "cell_type": "markdown",
      "metadata": {
        "id": "5rhbVGJ0gFyY"
      },
      "source": [
        "* Soma de Quadrados dos Resíduos (RSS) - Soma de Quadrados das diferenças entre os valores observados e preditos.\n",
        "\n",
        "<img src=\"https://github.com/awantik/machine-learning-slides/blob/master/lm2.PNG?raw=true\" width=\"500\">"
      ]
    },
    {
      "cell_type": "markdown",
      "metadata": {
        "id": "u8gA0YkbgFyp"
      },
      "source": [
        "## Principais parâmetros do algoritmo:\n",
        "* fit_intercept - Indica se o intercepto $w_{0}$ deve ou não ser ajustado. Se os dados estão normalizados, então não faz sentido ajustar o intercepto $w_{0}$.\n",
        "\n",
        "* normalize - $X$ será automaticamente normalizada (subtrai a média e divide pelo desvio-padrão);\n",
        "\n",
        "## Atributos do modelo de Machine Learning para Regressão\n",
        "* coef - peso/fator de cada variável independente do modelo de ML;\n",
        "\n",
        "* intercepto $w_{0}$ - intercepto ou viés de $y$;\n",
        "\n",
        "## Funções para ajuste do ML:\n",
        "* fit - treina o modelo com as matrizes $X$ e $y$;\n",
        "* predict - Uma vez que o modelo foi treinado, para um dado $X$, use $y$ para calcular os valores preditos de $y$ (y_pred).\n",
        "\n",
        "<hr/>"
      ]
    },
    {
      "cell_type": "markdown",
      "metadata": {
        "id": "A-JG8El1gFy7"
      },
      "source": [
        "# Limitações do OLS (Ordinary Least Squares):\n",
        "* Impactado/sensível à Outliers;\n",
        "* Multicolinearidade; \n",
        "* Heterocedasticidade - apresenta-se como uma forte dispersão dos dados em torno de uma reta;\n",
        "\n",
        "* <a href=\"http://www.clockbackward.com/2009/06/18/ordinary-least-squares-linear-regression-flaws-problems-and-pitfalls/\">References</a>"
      ]
    },
    {
      "cell_type": "markdown",
      "metadata": {
        "id": "xylMYR8COyrw"
      },
      "source": [
        "### Importar as libraries"
      ]
    },
    {
      "cell_type": "code",
      "metadata": {
        "id": "2BGgrILlPK6Z"
      },
      "source": [
        "import numpy as np\n",
        "import pandas as pd\n",
        "from scipy import stats"
      ],
      "execution_count": null,
      "outputs": []
    },
    {
      "cell_type": "markdown",
      "metadata": {
        "id": "263GgbwhO2kQ"
      },
      "source": [
        "### Carregar os dados\n",
        "* Vamos carregar o dataset [Boston House Pricing](https://archive.ics.uci.edu/ml/datasets/housing)"
      ]
    },
    {
      "cell_type": "code",
      "metadata": {
        "id": "1h66x_-rXGhi"
      },
      "source": [
        "from sklearn.datasets import load_boston, load_iris"
      ],
      "execution_count": null,
      "outputs": []
    },
    {
      "cell_type": "code",
      "metadata": {
        "id": "rWniNkMpXQFU"
      },
      "source": [
        "boston = load_boston()\n",
        "boston"
      ],
      "execution_count": null,
      "outputs": []
    },
    {
      "cell_type": "code",
      "metadata": {
        "id": "GCJTK6B3X1Wb"
      },
      "source": [
        "# Nomes das colunas, variáveis, atributos\n",
        "load_boston().feature_names"
      ],
      "execution_count": null,
      "outputs": []
    },
    {
      "cell_type": "code",
      "metadata": {
        "id": "g2WoVKwkPYEd"
      },
      "source": [
        "#url = 'https://raw.githubusercontent.com/MathMachado/DSWP/master/Dataframes/housing.csv'\n",
        "\n",
        "# Variáveis preditoras\n",
        "df_boston = pd.DataFrame(load_boston().data, columns = load_boston().feature_names)\n",
        "df_boston.head()"
      ],
      "execution_count": null,
      "outputs": []
    },
    {
      "cell_type": "code",
      "metadata": {
        "id": "pQzFW7DUX_KW"
      },
      "source": [
        "# Variável target/resposta\n",
        "df_boston['preco'] = load_boston().target\n",
        "df_boston.head()"
      ],
      "execution_count": null,
      "outputs": []
    },
    {
      "cell_type": "markdown",
      "metadata": {
        "id": "H71da4bIO4kI"
      },
      "source": [
        "### Data Transformation"
      ]
    },
    {
      "cell_type": "markdown",
      "metadata": {
        "id": "K-6YOdsTfciO"
      },
      "source": [
        "#### Normalização/padronização dos nomes das colunas"
      ]
    },
    {
      "cell_type": "code",
      "metadata": {
        "id": "L8OJEapufhq4"
      },
      "source": [
        "# Renomear as colunas do dataframe\n",
        "df_boston.columns = [col.lower() for col in df_boston.columns]"
      ],
      "execution_count": null,
      "outputs": []
    },
    {
      "cell_type": "code",
      "metadata": {
        "id": "uRinX-5ofol_"
      },
      "source": [
        "df_boston.head()"
      ],
      "execution_count": null,
      "outputs": []
    },
    {
      "cell_type": "markdown",
      "metadata": {
        "id": "CMDh5jyqekmr"
      },
      "source": [
        "#### Outliers"
      ]
    },
    {
      "cell_type": "markdown",
      "metadata": {
        "id": "jJIG0jJQf6em"
      },
      "source": [
        ""
      ]
    },
    {
      "cell_type": "markdown",
      "metadata": {
        "id": "FgYPzlvfemFc"
      },
      "source": [
        "#### Missing values"
      ]
    },
    {
      "cell_type": "code",
      "metadata": {
        "id": "BAjw7UhJen0D"
      },
      "source": [
        "# Missing values por colunas/variáveis\n",
        "df_boston.isna().sum()"
      ],
      "execution_count": null,
      "outputs": []
    },
    {
      "cell_type": "code",
      "metadata": {
        "id": "Jo3UWNpbYnNF"
      },
      "source": [
        "# Número de atributos\n",
        "len(load_boston().feature_names)"
      ],
      "execution_count": null,
      "outputs": []
    },
    {
      "cell_type": "code",
      "metadata": {
        "id": "0Yp8g7hxfQli"
      },
      "source": [
        "# Missing Values por linhas\n",
        "df_boston[df_boston.isnull().any(axis = 1)]"
      ],
      "execution_count": null,
      "outputs": []
    },
    {
      "cell_type": "markdown",
      "metadata": {
        "id": "5qmkTFLrf9MT"
      },
      "source": [
        "#### Estatísticas Descritivas"
      ]
    },
    {
      "cell_type": "code",
      "metadata": {
        "id": "Nprn3p_Wf_bn"
      },
      "source": [
        "df_boston.describe()"
      ],
      "execution_count": null,
      "outputs": []
    },
    {
      "cell_type": "markdown",
      "metadata": {
        "id": "1JimyY3SgECE"
      },
      "source": [
        "#### Análise de Correlação"
      ]
    },
    {
      "cell_type": "code",
      "metadata": {
        "id": "jScHq7eTgIpm"
      },
      "source": [
        "correlacoes = df_boston.corr()\n",
        "correlacoes"
      ],
      "execution_count": null,
      "outputs": []
    },
    {
      "cell_type": "markdown",
      "metadata": {
        "id": "AxQp7xqdgTJP"
      },
      "source": [
        "##### Gráfico das correlações entre as features/variáveis/colunas\n",
        "Source: https://seaborn.pydata.org/examples/many_pairwise_correlations.html\n",
        "\n"
      ]
    },
    {
      "cell_type": "code",
      "metadata": {
        "id": "KOiH2X-WgqmN"
      },
      "source": [
        "import seaborn as sns\n",
        "from string import ascii_letters\n",
        "import matplotlib.pyplot as plt\n",
        "\n",
        "sns.set_theme(style = \"white\")\n",
        "\n",
        "d = df_boston\n",
        "\n",
        "# Compute the correlation matrix\n",
        "corr = d.corr()\n",
        "\n",
        "# Generate a mask for the upper triangle\n",
        "mask = np.triu(np.ones_like(corr, dtype=bool))\n",
        "\n",
        "# Set up the matplotlib figure\n",
        "f, ax = plt.subplots(figsize=(11, 9))\n",
        "\n",
        "# Generate a custom diverging colormap\n",
        "cmap = sns.diverging_palette(230, 20, as_cmap=True)\n",
        "\n",
        "# Draw the heatmap with the mask and correct aspect ratio\n",
        "sns.heatmap(corr, mask=mask, cmap=cmap, vmax=.3, center=0,\n",
        "            square=True, linewidths=.5, cbar_kws={\"shrink\": .5})"
      ],
      "execution_count": null,
      "outputs": []
    },
    {
      "cell_type": "markdown",
      "metadata": {
        "id": "nogPhyfVO70G"
      },
      "source": [
        "### Construir e treinar o(s) modelo(s)"
      ]
    },
    {
      "cell_type": "markdown",
      "metadata": {
        "id": "HxYpfyvQaIe1"
      },
      "source": [
        "$X = [X_{1}, X_{2}, X_{p}]$ = X_boston abaixo."
      ]
    },
    {
      "cell_type": "code",
      "metadata": {
        "id": "0BhLZJhibVNG"
      },
      "source": [
        "X_boston = df_boston.drop(columns = ['preco'], axis = 1) # todas as variáveis/atributos, exceto 'preco'\n",
        "y_boston = df_boston['preco'] # variável-target"
      ],
      "execution_count": null,
      "outputs": []
    },
    {
      "cell_type": "code",
      "metadata": {
        "id": "v_nC_RGva1Z6"
      },
      "source": [
        "X_boston.head()"
      ],
      "execution_count": null,
      "outputs": []
    },
    {
      "cell_type": "code",
      "metadata": {
        "id": "nlVJM--Ya5fS"
      },
      "source": [
        "y_boston[0:10] # Series (coluna)"
      ],
      "execution_count": null,
      "outputs": []
    },
    {
      "cell_type": "code",
      "metadata": {
        "id": "b50_6tv5h1kY"
      },
      "source": [
        "# Definindo os dataframes de treinamento e teste:\n",
        "from sklearn.model_selection import train_test_split\n",
        "\n",
        "X_treinamento, X_teste, y_treinamento, y_teste = train_test_split(X_boston, \n",
        "                                                                  y_boston, \n",
        "                                                                  test_size = 0.2, \n",
        "                                                                  random_state = 20111974)"
      ],
      "execution_count": null,
      "outputs": []
    },
    {
      "cell_type": "code",
      "metadata": {
        "id": "1U3hpdkDbYTv"
      },
      "source": [
        "print(f\"Dataframe de treinamento: {X_treinamento.shape[0]} linhas\")\n",
        "print(f\"Dataframe de teste......: {X_teste.shape[0]} linhas\")"
      ],
      "execution_count": null,
      "outputs": []
    },
    {
      "cell_type": "markdown",
      "metadata": {
        "id": "SvevXulFiJj1"
      },
      "source": [
        "#### Treinamento do modelo de Regressão Linear"
      ]
    },
    {
      "cell_type": "code",
      "metadata": {
        "id": "GVwF3vp8iNff"
      },
      "source": [
        "# Importa a library LinearRegression --> Para treinamento da Regressão Linear\n",
        "from sklearn.linear_model import LinearRegression\n",
        "\n",
        "# Library para statmodels\n",
        "import statsmodels.api as sm"
      ],
      "execution_count": null,
      "outputs": []
    },
    {
      "cell_type": "code",
      "metadata": {
        "id": "ibX6bCbViW-v"
      },
      "source": [
        "# Instancia o objeto\n",
        "regressao_linear = LinearRegression()"
      ],
      "execution_count": null,
      "outputs": []
    },
    {
      "cell_type": "code",
      "metadata": {
        "id": "M-5wRGUribY0"
      },
      "source": [
        "# Treina o modelo usando as amostras/dataset de treinamento: X_treinamento e y_treinamento \n",
        "regressao_linear.fit(X_treinamento, y_treinamento)"
      ],
      "execution_count": null,
      "outputs": []
    },
    {
      "cell_type": "code",
      "metadata": {
        "id": "jri-jA1VjmUl"
      },
      "source": [
        "# Valor do intercepto\n",
        "regressao_linear.intercept_"
      ],
      "execution_count": null,
      "outputs": []
    },
    {
      "cell_type": "code",
      "metadata": {
        "id": "VOjadxdxjqtT"
      },
      "source": [
        "# Coeficientes do modelo de Regressão Linear\n",
        "coeficientes_regressao_linear = pd.DataFrame([X_treinamento.columns, regressao_linear.coef_]).T\n",
        "coeficientes_regressao_linear = coeficientes_regressao_linear.rename(columns={0: 'Feature/variável/coluna', 1: 'Coeficientes'})\n",
        "coeficientes_regressao_linear"
      ],
      "execution_count": null,
      "outputs": []
    },
    {
      "cell_type": "markdown",
      "metadata": {
        "id": "jwnkhPwDjkhS"
      },
      "source": [
        "#### Usando statmodels"
      ]
    },
    {
      "cell_type": "code",
      "metadata": {
        "id": "ltbekHd_k3PH"
      },
      "source": [
        "X2_treinamento = sm.add_constant(X_treinamento)\n",
        "lm_sm = sm.OLS(y_treinamento, X2_treinamento).fit()\n",
        "print(lm_sm.summary())"
      ],
      "execution_count": null,
      "outputs": []
    },
    {
      "cell_type": "markdown",
      "metadata": {
        "id": "Kpt3A4Q0guHv"
      },
      "source": [
        "#### Exclusão da variável menos significativa para o modelo: 'age'"
      ]
    },
    {
      "cell_type": "code",
      "metadata": {
        "id": "rVUJkfg4gSh7"
      },
      "source": [
        "X3 = X_treinamento.drop(columns = 'age', axis = 1)\n",
        "X3_treinamento = sm.add_constant(X3)\n",
        "lm_sm2 = sm.OLS(y_treinamento, X3_treinamento).fit()\n",
        "print(lm_sm2.summary())"
      ],
      "execution_count": null,
      "outputs": []
    },
    {
      "cell_type": "markdown",
      "metadata": {
        "id": "_lcp7m5FmZvG"
      },
      "source": [
        "#### Exclusão da variável menos significativa para o modelo: 'indus'"
      ]
    },
    {
      "cell_type": "code",
      "metadata": {
        "id": "jEiBywx4hGNB"
      },
      "source": [
        "X4 = X3_treinamento.drop(columns = 'indus', axis = 1)\n",
        "X4_treinamento = sm.add_constant(X4)\n",
        "lm_sm3 = sm.OLS(y_treinamento, X4_treinamento).fit()\n",
        "print(lm_sm3.summary())"
      ],
      "execution_count": null,
      "outputs": []
    },
    {
      "cell_type": "markdown",
      "metadata": {
        "id": "rFejox5XmrEE"
      },
      "source": [
        "#### Exclusão da variável menos significativa para o modelo: 'crim'"
      ]
    },
    {
      "cell_type": "code",
      "metadata": {
        "id": "DOehOql8hZWr"
      },
      "source": [
        "X5 = X4_treinamento.drop(columns = 'crim', axis = 1)\n",
        "X5_treinamento = sm.add_constant(X5)\n",
        "lm_sm4 = sm.OLS(y_treinamento, X5_treinamento).fit()\n",
        "print(lm_sm4.summary())"
      ],
      "execution_count": null,
      "outputs": []
    },
    {
      "cell_type": "markdown",
      "metadata": {
        "id": "UafIUrpZB0YP"
      },
      "source": [
        "### Conclusão\n",
        "* Quais variáveis/colunas/atributos ficam no modelo?\n",
        "* **Muito importante (exercício)**: normalizar (MinMaxScaler) as covariáveis e refazer a análise.\n",
        "* Nesta iteração (depois de excluirmos (nesta ordem) as variáveis age, indus e crim, não surge nenhuma outra variável insignificante ao nível de 5 (na verdade, o maior valor é 1.9%)."
      ]
    },
    {
      "cell_type": "markdown",
      "metadata": {
        "id": "jx7sOzrrm-H_"
      },
      "source": [
        ""
      ]
    },
    {
      "cell_type": "markdown",
      "metadata": {
        "id": "nXeiFtnJO_1u"
      },
      "source": [
        "### Validação do(s) modelo(s)"
      ]
    },
    {
      "cell_type": "markdown",
      "metadata": {
        "id": "QlGVFA6uPDvr"
      },
      "source": [
        ""
      ]
    },
    {
      "cell_type": "markdown",
      "metadata": {
        "id": "PE3aKJ6mPDyJ"
      },
      "source": [
        "### Predições"
      ]
    },
    {
      "cell_type": "markdown",
      "metadata": {
        "id": "d3nGiyX8jadH"
      },
      "source": [
        "### Deployment da solução **analítica**"
      ]
    },
    {
      "cell_type": "markdown",
      "metadata": {
        "id": "5YQF4NIlGSLH"
      },
      "source": [
        ""
      ]
    },
    {
      "cell_type": "markdown",
      "metadata": {
        "id": "UQfpoo1igFy8"
      },
      "source": [
        "# Regularized Regression Methods \n",
        "## Ridge Regression - Penalized Regression\n",
        "> Reduz a complexidade do modelo através do uso de todas as variáveis de $X$, mas penalizando (valor de $\\alpha$) os coeficientes $w_{i}$ quando estiverem muito longe de zero, forçando-os a serem pequenos de maneira contínua. Dessa forma, diminuímos a complexidade do modelo enquanto mantemos todas as variáveis no modelo.\n",
        "* Menor impacto dos outliers.\n",
        "\n",
        "### Exemplo"
      ]
    },
    {
      "cell_type": "code",
      "metadata": {
        "id": "o00xH2MvxvgP"
      },
      "source": [
        "# Matriz de covariáveis do modelo:\n",
        "X_new = [[0, 0], [0, 0], [1, 1]]\n",
        "X_new2 = [[0, 0], [0, 1.5], [1, 1]]\n",
        "\n",
        "y_new = [0, .1, 1]"
      ],
      "execution_count": null,
      "outputs": []
    },
    {
      "cell_type": "code",
      "metadata": {
        "id": "v9U7c03NzW_c"
      },
      "source": [
        "X_new # 2 variáveis/colunas no dataframe"
      ],
      "execution_count": null,
      "outputs": []
    },
    {
      "cell_type": "code",
      "metadata": {
        "id": "iiVEAPpUzXyN"
      },
      "source": [
        "y_new"
      ],
      "execution_count": null,
      "outputs": []
    },
    {
      "cell_type": "markdown",
      "metadata": {
        "id": "JDljolA95Hw5"
      },
      "source": [
        "### Sem outliers"
      ]
    },
    {
      "cell_type": "code",
      "metadata": {
        "id": "8mWj2GbPOkHx"
      },
      "source": [
        "ridge = Ridge(alpha = .1)\n",
        "ridge.fit(X_new, y_new)\n",
        "ridge.coef_ # Coeficientes da Ridge"
      ],
      "execution_count": null,
      "outputs": []
    },
    {
      "cell_type": "markdown",
      "metadata": {
        "id": "8yvd4ABY5JjC"
      },
      "source": [
        "### Com outliers"
      ]
    },
    {
      "cell_type": "code",
      "metadata": {
        "id": "O3sJZ_pe5GQ7"
      },
      "source": [
        "ridge = Ridge(alpha = .1)\n",
        "ridge.fit(X_new2, y_new)\n",
        "ridge.coef_"
      ],
      "execution_count": null,
      "outputs": []
    },
    {
      "cell_type": "markdown",
      "metadata": {
        "id": "zZxdCLU_5kKh"
      },
      "source": [
        "#### Conseguiram visualizar o impacto dos outliers?"
      ]
    },
    {
      "cell_type": "markdown",
      "metadata": {
        "id": "u5jsTkUmS9wK"
      },
      "source": [
        "### Aplicação da Regressão Ridge no dataframe Boston Housing Price."
      ]
    },
    {
      "cell_type": "code",
      "metadata": {
        "id": "Kp4VIJWxgFy8"
      },
      "source": [
        "from sklearn.linear_model import Ridge\n",
        "ridge = Ridge(alpha = 0.1) # Definição do valor de alpha da regressão ridge\n",
        "lr = LinearRegression()"
      ],
      "execution_count": null,
      "outputs": []
    },
    {
      "cell_type": "code",
      "metadata": {
        "id": "cmRMoOwV6FMt"
      },
      "source": [
        "# Ao inves de: regressao_linear.fit(X_treinamento, y_treinamento)\n",
        "ridge.fit(X_treinamento, y_treinamento)"
      ],
      "execution_count": null,
      "outputs": []
    },
    {
      "cell_type": "markdown",
      "metadata": {
        "id": "VPnekyUbK6Xg"
      },
      "source": [
        "#### Peso/contribuição das variáveis para a regressão usando RIDGE"
      ]
    },
    {
      "cell_type": "code",
      "metadata": {
        "id": "k83RDArjsUrj"
      },
      "source": [
        "df_boston.columns"
      ],
      "execution_count": null,
      "outputs": []
    },
    {
      "cell_type": "code",
      "metadata": {
        "id": "vMCb0CFjK973"
      },
      "source": [
        "ridge.coef_"
      ],
      "execution_count": null,
      "outputs": []
    },
    {
      "cell_type": "code",
      "metadata": {
        "id": "ZqksuIjXypRJ"
      },
      "source": [
        "# treinando a regressão Ridge\n",
        "ridge.fit(X_treinamento, y_treinamento)\n",
        "\n",
        "# treinando a regressão linear simples (OLS)\n",
        "lr.fit(X_treinamento, y_treinamento)"
      ],
      "execution_count": null,
      "outputs": []
    },
    {
      "cell_type": "code",
      "metadata": {
        "id": "7r28PBsWLtjA"
      },
      "source": [
        "ridge.alpha"
      ],
      "execution_count": null,
      "outputs": []
    },
    {
      "cell_type": "markdown",
      "metadata": {
        "id": "dDZ_TJnhuZno"
      },
      "source": [
        "#### $\\alpha = 0.01$"
      ]
    },
    {
      "cell_type": "code",
      "metadata": {
        "id": "hRMK_QTmNgc1"
      },
      "source": [
        "# maior alpha --> mais restrição aos coeficientes; \n",
        "# Menor alpha --> mais generalização, e Ridge se assemelha da OLS; Se alpha = 0 ==> Ridge = OLS.\n",
        "rr = Ridge(alpha = 0.01) # Quanto mais próximo de 0 ==> Ridge = OLS\n",
        "rr.fit(X_treinamento, y_treinamento)"
      ],
      "execution_count": null,
      "outputs": []
    },
    {
      "cell_type": "code",
      "metadata": {
        "id": "IRuWmBE7Ngc7"
      },
      "source": [
        "# MSE = Erro Quadrático Médio\n",
        "from sklearn.metrics import mean_squared_error\n",
        "\n",
        "rr_model=(mean_squared_error(y_true = y_treinamento, y_pred = rr.predict(X_treinamento)))\n",
        "lr_model=(mean_squared_error(y_true = y_treinamento, y_pred = lr.predict(X_treinamento)))"
      ],
      "execution_count": null,
      "outputs": []
    },
    {
      "cell_type": "code",
      "metadata": {
        "id": "L4an-zHetafI"
      },
      "source": [
        "print(rr_model)"
      ],
      "execution_count": null,
      "outputs": []
    },
    {
      "cell_type": "code",
      "metadata": {
        "id": "QsLVzk3EtbGs"
      },
      "source": [
        "print(lr_model)"
      ],
      "execution_count": null,
      "outputs": []
    },
    {
      "cell_type": "markdown",
      "metadata": {
        "id": "K2sjngo1QhY2"
      },
      "source": [
        "### Coeficientes da Ridge:"
      ]
    },
    {
      "cell_type": "code",
      "metadata": {
        "id": "s5i87o3quByz"
      },
      "source": [
        "# Lista das variáveis + coeficientes da Ridge:\n",
        "list(zip(X_treinamento.columns, abs(ridge.coef_)))"
      ],
      "execution_count": null,
      "outputs": []
    },
    {
      "cell_type": "markdown",
      "metadata": {
        "id": "s44vo9IjQonE"
      },
      "source": [
        "### Experimente vários outros valores para $\\alpha$ como, por exemplo, $\\alpha = 0.0001, 0.001, 0.01, 0.1, 1, 10, 100, 1000, 10000$"
      ]
    },
    {
      "cell_type": "markdown",
      "metadata": {
        "id": "CDv5fGPbuUq5"
      },
      "source": [
        "#### $\\alpha = 100$"
      ]
    },
    {
      "cell_type": "code",
      "metadata": {
        "id": "NEaj4QRrNgdA"
      },
      "source": [
        "rr100 = Ridge(alpha = 100)\n",
        "rr100.fit(X_treinamento, y_treinamento)\n",
        "train_score=lr.score(X_treinamento, y_treinamento)\n",
        "test_score=lr.score(X_teste, y_teste)\n",
        "Ridge_treinamento_score = rr.score(X_treinamento,y_treinamento)"
      ],
      "execution_count": null,
      "outputs": []
    },
    {
      "cell_type": "code",
      "metadata": {
        "id": "zhcfoTEENgdE"
      },
      "source": [
        "# MSE\n",
        "rr100_model = (mean_squared_error(y_true = y_treinamento, y_pred = rr100.predict(X_treinamento)))\n",
        "lr_model = (mean_squared_error(y_true = y_treinamento, y_pred = lr.predict(X_treinamento)))"
      ],
      "execution_count": null,
      "outputs": []
    },
    {
      "cell_type": "code",
      "metadata": {
        "id": "NGDBpfiquxoc"
      },
      "source": [
        "print(rr100_model)"
      ],
      "execution_count": null,
      "outputs": []
    },
    {
      "cell_type": "code",
      "metadata": {
        "id": "Owami5MVureW"
      },
      "source": [
        "print(lr_model)"
      ],
      "execution_count": null,
      "outputs": []
    },
    {
      "cell_type": "markdown",
      "metadata": {
        "id": "Xk5dN3Owu6Kw"
      },
      "source": [
        "### Próximo passo: fazer o statmodel dos modelos ridge."
      ]
    },
    {
      "cell_type": "markdown",
      "metadata": {
        "id": "cEF_3GgUgF0Q"
      },
      "source": [
        "# LASSO (Least Absolute Shrinkage And Selection Operator regularization)\n",
        "* Método mais comum e usado para Regularization; \n",
        "* Reduz overfitting;\n",
        "* Se encarrega do **Feature Selection**, pois descarta variáveis altamente correlacionadas."
      ]
    },
    {
      "cell_type": "markdown",
      "metadata": {
        "id": "-YiKb9reQdI4"
      },
      "source": [
        "* Usado no processo de Regularization - processo de penalizar as variáveis para manter somente os atributos mais importantes. Pense na utilidade disso diante de um dataframe com muitas variáveis;\n",
        "* A regressão Lasso vem com um parâmetro ($\\alpha$), e quanto maior o alfa, a maioria dos coeficientes de recurso é zero. Ou seja, quando $\\alpha = 0$, a regressão Lasso produz os mesmos coeficientes que uma regressão linear. Quando alfa é muito grande, todos os coeficientes são zero."
      ]
    },
    {
      "cell_type": "markdown",
      "metadata": {
        "id": "5p_ZPZ4tTUX1"
      },
      "source": [
        "### Exemplo LASSO"
      ]
    },
    {
      "cell_type": "code",
      "metadata": {
        "id": "JD1_M2uw6q0W"
      },
      "source": [
        "X_new"
      ],
      "execution_count": null,
      "outputs": []
    },
    {
      "cell_type": "code",
      "metadata": {
        "id": "i5JZTnkTOkI9"
      },
      "source": [
        "from sklearn.linear_model import Lasso\n",
        "lasso = Lasso(alpha = .1)\n",
        "lasso.fit(X_new, y_new)"
      ],
      "execution_count": null,
      "outputs": []
    },
    {
      "cell_type": "code",
      "metadata": {
        "id": "gEUxSlThOkJD"
      },
      "source": [
        "lasso.coef_"
      ],
      "execution_count": null,
      "outputs": []
    },
    {
      "cell_type": "markdown",
      "metadata": {
        "id": "EQaGWzzLT9qP"
      },
      "source": [
        "### Aplicação do LASSO no Boston Housing Price"
      ]
    },
    {
      "cell_type": "code",
      "metadata": {
        "id": "ME6v6LFlgF0Q"
      },
      "source": [
        "from sklearn.linear_model import Lasso\n",
        "lasso = Lasso(alpha = .1)\n",
        "lasso.fit(X_treinamento, y_treinamento)"
      ],
      "execution_count": null,
      "outputs": []
    },
    {
      "cell_type": "code",
      "metadata": {
        "id": "h6DSEHc1gF0V"
      },
      "source": [
        "lasso.coef_"
      ],
      "execution_count": null,
      "outputs": []
    },
    {
      "cell_type": "markdown",
      "metadata": {
        "id": "8SzYnpVGy4cy"
      },
      "source": [
        "### Coeficientes do LASSO:"
      ]
    },
    {
      "cell_type": "code",
      "metadata": {
        "id": "O2w2QDmdxxVe"
      },
      "source": [
        "list(zip(X_treinamento.columns, abs(lasso.coef_)))"
      ],
      "execution_count": null,
      "outputs": []
    },
    {
      "cell_type": "markdown",
      "metadata": {
        "id": "UBOCg1H9zn6A"
      },
      "source": [
        "### Comparação com os coeficientes do RIDGE:"
      ]
    },
    {
      "cell_type": "code",
      "metadata": {
        "id": "g1fF-mEZzXpH"
      },
      "source": [
        "list(zip(X_treinamento.columns, abs(ridge.coef_)))"
      ],
      "execution_count": null,
      "outputs": []
    },
    {
      "cell_type": "markdown",
      "metadata": {
        "id": "xP1fX1Bi6VdX"
      },
      "source": [
        "**Conclusão**: Coeficientes zero podem ser excluídos da Análise/modelo."
      ]
    },
    {
      "cell_type": "markdown",
      "metadata": {
        "id": "TbtxIWyGSXkH"
      },
      "source": [
        "### Efeito dos valores de $\\alpha$\n",
        "* Função adaptada de https://chrisalbon.com/machine_learning/linear_regression/effect_of_alpha_on_lasso_regression/."
      ]
    },
    {
      "cell_type": "code",
      "metadata": {
        "id": "B4AuWA4LRBE3"
      },
      "source": [
        "# Create a function called lasso,\n",
        "def lasso(alphas):\n",
        "    '''\n",
        "    Takes in a list of alphas. Outputs a dataframe containing the coefficients of lasso regressions from each alpha.\n",
        "    '''\n",
        "    # Create an empty data frame\n",
        "    df = pd.DataFrame()\n",
        "    \n",
        "    # Create a column of feature names\n",
        "    df['Feature Name'] = names\n",
        "    \n",
        "    # For each alpha value in the list of alpha values,\n",
        "    for alpha in alphas:\n",
        "        # Create a lasso regression with that alpha value,\n",
        "        lasso = Lasso(alpha = alpha)\n",
        "        \n",
        "        # Fit the lasso regression\n",
        "        lasso.fit(X_treinamento, y_treinamento)\n",
        "        \n",
        "        # Create a column name for that alpha value\n",
        "        column_name = 'Alpha = %f' % alpha\n",
        "\n",
        "        # Create a column of coefficient values\n",
        "        df[column_name] = lasso.coef_\n",
        "        \n",
        "    # Return the datafram    \n",
        "    return df"
      ],
      "execution_count": null,
      "outputs": []
    },
    {
      "cell_type": "code",
      "metadata": {
        "id": "VEDvXvuNRK0C"
      },
      "source": [
        "names = X_treinamento.columns\n",
        "\n",
        "# Valores de alpha:\n",
        "lasso([.0001, .001, 0, .01, .1, 1, 10, 100])"
      ],
      "execution_count": null,
      "outputs": []
    },
    {
      "cell_type": "markdown",
      "metadata": {
        "id": "xFlvTUJKhwgW"
      },
      "source": [
        "### Capturando os elementos mais importantes"
      ]
    },
    {
      "cell_type": "code",
      "metadata": {
        "id": "4_-sUgMIhzmE"
      },
      "source": [
        "r_squared = model.rsquared\n",
        "r_squared_adj = model.rsquared_adj\n",
        "coeficientes_regressao = model.params"
      ],
      "execution_count": null,
      "outputs": []
    },
    {
      "cell_type": "markdown",
      "metadata": {
        "id": "apGv5ytnimsM"
      },
      "source": [
        "VEJA: https://stackoverflow.com/questions/27928275/find-p-value-significance-in-scikit-learn-linearregression"
      ]
    },
    {
      "cell_type": "code",
      "metadata": {
        "id": "Uhokzxtcil8w"
      },
      "source": [
        ""
      ],
      "execution_count": null,
      "outputs": []
    },
    {
      "cell_type": "markdown",
      "metadata": {
        "id": "jSYw6SdcXa0q"
      },
      "source": [
        "### Cross-Validation & GridSearch para LASSO"
      ]
    },
    {
      "cell_type": "markdown",
      "metadata": {
        "id": "E14i4Y3rqEX2"
      },
      "source": [
        "### Colocar aqui a fórmula do RMSE."
      ]
    },
    {
      "cell_type": "code",
      "metadata": {
        "id": "irFZAkvVXfya"
      },
      "source": [
        "from sklearn.linear_model import LassoCV\n",
        "from sklearn.model_selection import RepeatedKFold"
      ],
      "execution_count": null,
      "outputs": []
    },
    {
      "cell_type": "code",
      "metadata": {
        "id": "T3Jjom8RYdly"
      },
      "source": [
        "# define model evaluation method\n",
        "cv = RepeatedKFold(n_splits = 5, n_repeats = 3, random_state = 20111974)"
      ],
      "execution_count": null,
      "outputs": []
    },
    {
      "cell_type": "code",
      "metadata": {
        "id": "Cw3lAvRPYgJe"
      },
      "source": [
        "# define model\n",
        "model = LassoCV(alphas = np.arange(0.001, 10, 0.001), cv = cv, n_jobs = -1)"
      ],
      "execution_count": null,
      "outputs": []
    },
    {
      "cell_type": "code",
      "metadata": {
        "id": "oLX3CpThXvkJ"
      },
      "source": [
        "# fit model\n",
        "model.fit(X_treinamento, y_treinamento)"
      ],
      "execution_count": null,
      "outputs": []
    },
    {
      "cell_type": "code",
      "metadata": {
        "id": "U1ubd5huYQ7u"
      },
      "source": [
        "# summarize chosen configuration\n",
        "print('alpha: %f' % model.alpha_)"
      ],
      "execution_count": null,
      "outputs": []
    },
    {
      "cell_type": "markdown",
      "metadata": {
        "id": "9P7hYoo4gF0Z"
      },
      "source": [
        "# Elastic Net  \n",
        "* Combina o poder de Ridge e LASSO;\n",
        "* Remove variáveis de pouco poder preditivo (LASSO) ou as penaliza (Ridge)."
      ]
    },
    {
      "cell_type": "code",
      "metadata": {
        "id": "yChNUYs7gF0b"
      },
      "source": [
        "from sklearn.linear_model import ElasticNet\n",
        "from sklearn.model_selection import GridSearchCV\n",
        "\n",
        "# Instancia o objeto\n",
        "en = ElasticNet(alpha = .1)"
      ],
      "execution_count": null,
      "outputs": []
    },
    {
      "cell_type": "markdown",
      "metadata": {
        "id": "S1m3SL2avMbd"
      },
      "source": [
        "transformacao.fit(dados_que_eu_quero_transformar)"
      ]
    },
    {
      "cell_type": "code",
      "metadata": {
        "id": "4mbIaAUAF4N6"
      },
      "source": [
        "en.fit(X_treinamento, y_treinamento)"
      ],
      "execution_count": null,
      "outputs": []
    },
    {
      "cell_type": "code",
      "metadata": {
        "id": "MaUkZw8ngF0h"
      },
      "source": [
        "list(zip(X_treinamento, en.coef_))"
      ],
      "execution_count": null,
      "outputs": []
    },
    {
      "cell_type": "markdown",
      "metadata": {
        "id": "K7LuPhCtvouJ"
      },
      "source": [
        "### GridSearch para encontrar o $\\alpha$ para Elastic Net"
      ]
    },
    {
      "cell_type": "code",
      "metadata": {
        "id": "xl-Qh9caDyCp"
      },
      "source": [
        "# Instancia o objeto:\n",
        "en = ElasticNet(normalize = True)\n",
        "\n",
        "# Otimização dos hiperparâmetros:\n",
        "d_hiperparametros = {'alpha': np.logspace(-5, 2, 8), \n",
        "                     'l1_ratio': [.2, .4, .6, .8]}\n",
        "\n",
        "search = GridSearchCV(estimator = en, # Elastic Net\n",
        "                      param_grid = d_hiperparametros, # Dicionário com os hiperparâmetros\n",
        "                      scoring = 'mean_squared_error', # MSE (Erro Quadrático Médio) - Métrica para avaliação da performance do modelo\n",
        "                      #scoring = 'neg_mean_squared_error',\n",
        "                      n_jobs = -1, # Usar todos os processadores/computação\n",
        "                      refit = True, \n",
        "                      cv = 10) # Número de Cross-Valitations"
      ],
      "execution_count": null,
      "outputs": []
    },
    {
      "cell_type": "markdown",
      "metadata": {
        "id": "JvNQyUW_2QLr"
      },
      "source": [
        "### Exercício (Estatística): Sugestão de ajuste manual\n",
        "* Estudar estatisticamente a distribuição de frequência em que a variável é significante (ao nível de 5%) em 100 fits."
      ]
    },
    {
      "cell_type": "code",
      "metadata": {
        "id": "hp1hV5YahsJb"
      },
      "source": [
        ""
      ],
      "execution_count": null,
      "outputs": []
    },
    {
      "cell_type": "code",
      "metadata": {
        "id": "Ng0rPXfA1DgS"
      },
      "source": [
        "for i in range(0, 100):\n",
        "    X_treinamento, X_teste, y_treinamento, y_teste = train_test_split(X, y, 0.2)\n",
        "    modeloi = fit(X_treinamento, y_treinamento)\n",
        "    intercepto\n",
        "    coeficientes da regressão\n",
        "    validação dos parâmetros (significância)\n",
        "    y_predict = predict(X_teste)"
      ],
      "execution_count": null,
      "outputs": []
    },
    {
      "cell_type": "code",
      "metadata": {
        "id": "c3_XCQCPGlr3"
      },
      "source": [
        "search.fit(X_treinamento, y_treinamento)\n",
        "\n",
        "# Retorna os melhores hiperparâmetros do algoritmo:\n",
        "search.best_params_"
      ],
      "execution_count": null,
      "outputs": []
    },
    {
      "cell_type": "code",
      "metadata": {
        "id": "zq0_ugQfGrdb"
      },
      "source": [
        "en2 = ElasticNet(normalize = True, alpha = 0.001, l1_ratio = 0.6)\n",
        "en2.fit(X_treinamento, y_treinamento)"
      ],
      "execution_count": null,
      "outputs": []
    },
    {
      "cell_type": "code",
      "metadata": {
        "id": "ILA5lScUx-Ub"
      },
      "source": [
        "\n",
        "# Métrica\n",
        "ml2 = (mean_squared_error(y_true = y_teste, y_pred = en2.predict(X_teste)))\n",
        "# Encontrar a métrica neg_squared_error --> ml3 = (neg_mean_squared_error(y_true = y_teste, y_pred = en2.predict(X_teste)))"
      ],
      "execution_count": null,
      "outputs": []
    },
    {
      "cell_type": "code",
      "metadata": {
        "id": "BzO_dHRixd_L"
      },
      "source": [
        "print(f\"MSE: {ml2}\")"
      ],
      "execution_count": null,
      "outputs": []
    },
    {
      "cell_type": "markdown",
      "metadata": {
        "id": "zaEwh3t3zwFc"
      },
      "source": [
        "**Conclusão**:\n",
        "* Comparação dos MSE - A Regressão sem Regularization produziu MSE de 23.94. Como podemos ver, Elastic Net produz MSE: 15.4."
      ]
    },
    {
      "cell_type": "markdown",
      "metadata": {
        "id": "5geUMgC6ztxE"
      },
      "source": [
        "### Coeficientes do Elastic Net:"
      ]
    },
    {
      "cell_type": "code",
      "metadata": {
        "id": "LyLdASRqzwCq"
      },
      "source": [
        "list(zip(X_treinamento.columns, abs(ridge.coef_)))"
      ],
      "execution_count": null,
      "outputs": []
    },
    {
      "cell_type": "markdown",
      "metadata": {
        "id": "90pfP9-3OkJG"
      },
      "source": [
        "Observe acima que o segundo coeficiente foi estimado como 0 e, desta forma, podemos excluí-lo do ML."
      ]
    },
    {
      "cell_type": "markdown",
      "metadata": {
        "id": "ILCXvYKDOkJH"
      },
      "source": [
        "# Elastic Net  \n",
        "* Combina o poder de Ridge e LASSO;\n",
        "* Remove variáveis de pouco poder preditivo (LASSO) ou as penaliza (Ridge)."
      ]
    },
    {
      "cell_type": "code",
      "metadata": {
        "id": "GaQPDCR2OkJI"
      },
      "source": [
        "from sklearn.linear_model import ElasticNet\n",
        "\n",
        "# Instancia o objeto\n",
        "en = ElasticNet(alpha = .1)"
      ],
      "execution_count": null,
      "outputs": []
    },
    {
      "cell_type": "code",
      "metadata": {
        "id": "xVp16Eu_OkJL"
      },
      "source": [
        "en.fit([[0, 0], [0, 0], [1, 1]],  [0, .1, 1])"
      ],
      "execution_count": null,
      "outputs": []
    },
    {
      "cell_type": "code",
      "metadata": {
        "id": "kwj018U8OkJO"
      },
      "source": [
        "en.coef_"
      ],
      "execution_count": null,
      "outputs": []
    },
    {
      "cell_type": "markdown",
      "metadata": {
        "id": "rJRWBzSQCcss"
      },
      "source": [
        "# Regressão Logística\n",
        "* Na regressão linear nós tentamos modelar a relação linear entre as features ($X_{np} = [X_{1}, X_{2}, ..., X_{p}]$) através de uma reta dada pela equação:\n",
        "\n",
        "$$\\hat{y}= \\beta_{0}+\\beta_{1}x_{1}+\\beta_{2}x_{2}+...+\\beta_{p}x_{p}$$\n",
        "\n",
        "Para classificação, a Regressão Logística vai nos retornar probabilidades (entre 0 e 1), dada pela equação logística ( também conhecida **função sigmoid**):\n",
        "\n",
        "$$P[y = 1]= \\frac{1}{1+e^{-(\\beta_{0}+\\beta_{1}x_{1}+\\beta_{2}x_{2}+...+\\beta_{p}x_{p})}}$$\n",
        "\n",
        "\n"
      ]
    },
    {
      "cell_type": "markdown",
      "metadata": {
        "id": "Vj83Altwdni7"
      },
      "source": [
        "![SigmoidFunction](https://github.com/MathMachado/Materials/blob/master/SigmoidFunction.PNG?raw=true)"
      ]
    },
    {
      "cell_type": "markdown",
      "metadata": {
        "id": "RUMtEgrFpyb2"
      },
      "source": [
        "# Exemplo 1"
      ]
    },
    {
      "cell_type": "markdown",
      "metadata": {
        "id": "8TckUFO1p954"
      },
      "source": [
        "### Carregar as libraries"
      ]
    },
    {
      "cell_type": "code",
      "metadata": {
        "id": "e5uvuPAwp2Tf"
      },
      "source": [
        "import pandas as pd\n",
        "import numpy as np\n",
        "import matplotlib.pyplot as plt # Gráficos\n",
        "import seaborn as sns # Gráficos\n",
        "%matplotlib inline\n",
        "\n",
        "# Classificadores\n",
        "from sklearn.linear_model import LogisticRegression\n",
        "import statsmodels.api as sm\n",
        "import statsmodels.formula.api as smf\n",
        "\n",
        "# Métricas\n",
        "from sklearn.metrics import roc_auc_score, roc_curve, classification_report, accuracy_score, confusion_matrix, auc"
      ],
      "execution_count": 117,
      "outputs": []
    },
    {
      "cell_type": "markdown",
      "metadata": {
        "id": "IXt1e-0mrebN"
      },
      "source": [
        "### Carregar os dados"
      ]
    },
    {
      "cell_type": "code",
      "metadata": {
        "id": "eXooEWPRrggv",
        "outputId": "2dff0b44-121a-4ecb-ef84-6f367dd0c3fc",
        "colab": {
          "base_uri": "https://localhost:8080/",
          "height": 191
        }
      },
      "source": [
        "url = 'https://raw.githubusercontent.com/MathMachado/DataFrames/master/Titanic_Original.csv'\n",
        "df_titanic = pd.read_csv(url)\n",
        "df_titanic.head()"
      ],
      "execution_count": 118,
      "outputs": [
        {
          "output_type": "execute_result",
          "data": {
            "text/html": [
              "<div>\n",
              "<style scoped>\n",
              "    .dataframe tbody tr th:only-of-type {\n",
              "        vertical-align: middle;\n",
              "    }\n",
              "\n",
              "    .dataframe tbody tr th {\n",
              "        vertical-align: top;\n",
              "    }\n",
              "\n",
              "    .dataframe thead th {\n",
              "        text-align: right;\n",
              "    }\n",
              "</style>\n",
              "<table border=\"1\" class=\"dataframe\">\n",
              "  <thead>\n",
              "    <tr style=\"text-align: right;\">\n",
              "      <th></th>\n",
              "      <th>PassengerId</th>\n",
              "      <th>Survived</th>\n",
              "      <th>Pclass</th>\n",
              "      <th>Name</th>\n",
              "      <th>Sex</th>\n",
              "      <th>Age</th>\n",
              "      <th>SibSp</th>\n",
              "      <th>Parch</th>\n",
              "      <th>Ticket</th>\n",
              "      <th>Fare</th>\n",
              "      <th>Cabin</th>\n",
              "      <th>Embarked</th>\n",
              "    </tr>\n",
              "  </thead>\n",
              "  <tbody>\n",
              "    <tr>\n",
              "      <th>0</th>\n",
              "      <td>1</td>\n",
              "      <td>0</td>\n",
              "      <td>3</td>\n",
              "      <td>Braund, Mr. Owen Harris</td>\n",
              "      <td>male</td>\n",
              "      <td>22.0</td>\n",
              "      <td>1</td>\n",
              "      <td>0</td>\n",
              "      <td>A/5 21171</td>\n",
              "      <td>7.2500</td>\n",
              "      <td>NaN</td>\n",
              "      <td>S</td>\n",
              "    </tr>\n",
              "    <tr>\n",
              "      <th>1</th>\n",
              "      <td>2</td>\n",
              "      <td>1</td>\n",
              "      <td>1</td>\n",
              "      <td>Cumings, Mrs. John Bradley (Florence Briggs Th...</td>\n",
              "      <td>female</td>\n",
              "      <td>38.0</td>\n",
              "      <td>1</td>\n",
              "      <td>0</td>\n",
              "      <td>PC 17599</td>\n",
              "      <td>71.2833</td>\n",
              "      <td>C85</td>\n",
              "      <td>C</td>\n",
              "    </tr>\n",
              "    <tr>\n",
              "      <th>2</th>\n",
              "      <td>3</td>\n",
              "      <td>1</td>\n",
              "      <td>3</td>\n",
              "      <td>Heikkinen, Miss. Laina</td>\n",
              "      <td>female</td>\n",
              "      <td>26.0</td>\n",
              "      <td>0</td>\n",
              "      <td>0</td>\n",
              "      <td>STON/O2. 3101282</td>\n",
              "      <td>7.9250</td>\n",
              "      <td>NaN</td>\n",
              "      <td>S</td>\n",
              "    </tr>\n",
              "    <tr>\n",
              "      <th>3</th>\n",
              "      <td>4</td>\n",
              "      <td>1</td>\n",
              "      <td>1</td>\n",
              "      <td>Futrelle, Mrs. Jacques Heath (Lily May Peel)</td>\n",
              "      <td>female</td>\n",
              "      <td>35.0</td>\n",
              "      <td>1</td>\n",
              "      <td>0</td>\n",
              "      <td>113803</td>\n",
              "      <td>53.1000</td>\n",
              "      <td>C123</td>\n",
              "      <td>S</td>\n",
              "    </tr>\n",
              "    <tr>\n",
              "      <th>4</th>\n",
              "      <td>5</td>\n",
              "      <td>0</td>\n",
              "      <td>3</td>\n",
              "      <td>Allen, Mr. William Henry</td>\n",
              "      <td>male</td>\n",
              "      <td>35.0</td>\n",
              "      <td>0</td>\n",
              "      <td>0</td>\n",
              "      <td>373450</td>\n",
              "      <td>8.0500</td>\n",
              "      <td>NaN</td>\n",
              "      <td>S</td>\n",
              "    </tr>\n",
              "  </tbody>\n",
              "</table>\n",
              "</div>"
            ],
            "text/plain": [
              "   PassengerId  Survived  Pclass  ...     Fare Cabin  Embarked\n",
              "0            1         0       3  ...   7.2500   NaN         S\n",
              "1            2         1       1  ...  71.2833   C85         C\n",
              "2            3         1       3  ...   7.9250   NaN         S\n",
              "3            4         1       1  ...  53.1000  C123         S\n",
              "4            5         0       3  ...   8.0500   NaN         S\n",
              "\n",
              "[5 rows x 12 columns]"
            ]
          },
          "metadata": {
            "tags": []
          },
          "execution_count": 118
        }
      ]
    },
    {
      "cell_type": "code",
      "metadata": {
        "id": "8oYTFQqUsPCq",
        "outputId": "161fe09e-de49-4f0e-de2e-1e62154fe012",
        "colab": {
          "base_uri": "https://localhost:8080/"
        }
      },
      "source": [
        "df_titanic.columns"
      ],
      "execution_count": 119,
      "outputs": [
        {
          "output_type": "execute_result",
          "data": {
            "text/plain": [
              "Index(['PassengerId', 'Survived', 'Pclass', 'Name', 'Sex', 'Age', 'SibSp',\n",
              "       'Parch', 'Ticket', 'Fare', 'Cabin', 'Embarked'],\n",
              "      dtype='object')"
            ]
          },
          "metadata": {
            "tags": []
          },
          "execution_count": 119
        }
      ]
    },
    {
      "cell_type": "code",
      "metadata": {
        "id": "Idz8t1UVsHGo",
        "outputId": "1b570735-f1eb-4544-b4ec-0bacff3ed13e",
        "colab": {
          "base_uri": "https://localhost:8080/",
          "height": 191
        }
      },
      "source": [
        "df_titanic.columns = [coluna.lower() for coluna in df_titanic.columns]\n",
        "df_titanic.head()"
      ],
      "execution_count": 120,
      "outputs": [
        {
          "output_type": "execute_result",
          "data": {
            "text/html": [
              "<div>\n",
              "<style scoped>\n",
              "    .dataframe tbody tr th:only-of-type {\n",
              "        vertical-align: middle;\n",
              "    }\n",
              "\n",
              "    .dataframe tbody tr th {\n",
              "        vertical-align: top;\n",
              "    }\n",
              "\n",
              "    .dataframe thead th {\n",
              "        text-align: right;\n",
              "    }\n",
              "</style>\n",
              "<table border=\"1\" class=\"dataframe\">\n",
              "  <thead>\n",
              "    <tr style=\"text-align: right;\">\n",
              "      <th></th>\n",
              "      <th>passengerid</th>\n",
              "      <th>survived</th>\n",
              "      <th>pclass</th>\n",
              "      <th>name</th>\n",
              "      <th>sex</th>\n",
              "      <th>age</th>\n",
              "      <th>sibsp</th>\n",
              "      <th>parch</th>\n",
              "      <th>ticket</th>\n",
              "      <th>fare</th>\n",
              "      <th>cabin</th>\n",
              "      <th>embarked</th>\n",
              "    </tr>\n",
              "  </thead>\n",
              "  <tbody>\n",
              "    <tr>\n",
              "      <th>0</th>\n",
              "      <td>1</td>\n",
              "      <td>0</td>\n",
              "      <td>3</td>\n",
              "      <td>Braund, Mr. Owen Harris</td>\n",
              "      <td>male</td>\n",
              "      <td>22.0</td>\n",
              "      <td>1</td>\n",
              "      <td>0</td>\n",
              "      <td>A/5 21171</td>\n",
              "      <td>7.2500</td>\n",
              "      <td>NaN</td>\n",
              "      <td>S</td>\n",
              "    </tr>\n",
              "    <tr>\n",
              "      <th>1</th>\n",
              "      <td>2</td>\n",
              "      <td>1</td>\n",
              "      <td>1</td>\n",
              "      <td>Cumings, Mrs. John Bradley (Florence Briggs Th...</td>\n",
              "      <td>female</td>\n",
              "      <td>38.0</td>\n",
              "      <td>1</td>\n",
              "      <td>0</td>\n",
              "      <td>PC 17599</td>\n",
              "      <td>71.2833</td>\n",
              "      <td>C85</td>\n",
              "      <td>C</td>\n",
              "    </tr>\n",
              "    <tr>\n",
              "      <th>2</th>\n",
              "      <td>3</td>\n",
              "      <td>1</td>\n",
              "      <td>3</td>\n",
              "      <td>Heikkinen, Miss. Laina</td>\n",
              "      <td>female</td>\n",
              "      <td>26.0</td>\n",
              "      <td>0</td>\n",
              "      <td>0</td>\n",
              "      <td>STON/O2. 3101282</td>\n",
              "      <td>7.9250</td>\n",
              "      <td>NaN</td>\n",
              "      <td>S</td>\n",
              "    </tr>\n",
              "    <tr>\n",
              "      <th>3</th>\n",
              "      <td>4</td>\n",
              "      <td>1</td>\n",
              "      <td>1</td>\n",
              "      <td>Futrelle, Mrs. Jacques Heath (Lily May Peel)</td>\n",
              "      <td>female</td>\n",
              "      <td>35.0</td>\n",
              "      <td>1</td>\n",
              "      <td>0</td>\n",
              "      <td>113803</td>\n",
              "      <td>53.1000</td>\n",
              "      <td>C123</td>\n",
              "      <td>S</td>\n",
              "    </tr>\n",
              "    <tr>\n",
              "      <th>4</th>\n",
              "      <td>5</td>\n",
              "      <td>0</td>\n",
              "      <td>3</td>\n",
              "      <td>Allen, Mr. William Henry</td>\n",
              "      <td>male</td>\n",
              "      <td>35.0</td>\n",
              "      <td>0</td>\n",
              "      <td>0</td>\n",
              "      <td>373450</td>\n",
              "      <td>8.0500</td>\n",
              "      <td>NaN</td>\n",
              "      <td>S</td>\n",
              "    </tr>\n",
              "  </tbody>\n",
              "</table>\n",
              "</div>"
            ],
            "text/plain": [
              "   passengerid  survived  pclass  ...     fare cabin  embarked\n",
              "0            1         0       3  ...   7.2500   NaN         S\n",
              "1            2         1       1  ...  71.2833   C85         C\n",
              "2            3         1       3  ...   7.9250   NaN         S\n",
              "3            4         1       1  ...  53.1000  C123         S\n",
              "4            5         0       3  ...   8.0500   NaN         S\n",
              "\n",
              "[5 rows x 12 columns]"
            ]
          },
          "metadata": {
            "tags": []
          },
          "execution_count": 120
        }
      ]
    },
    {
      "cell_type": "markdown",
      "metadata": {
        "id": "0z437ifQsdbg"
      },
      "source": [
        "### Distribuição da variável-target/variável-resposta:"
      ]
    },
    {
      "cell_type": "code",
      "metadata": {
        "id": "1gnSBDQss4-b"
      },
      "source": [
        "df_titanic.shape"
      ],
      "execution_count": null,
      "outputs": []
    },
    {
      "cell_type": "code",
      "metadata": {
        "id": "H6cRdLdgsiZE"
      },
      "source": [
        "100*(df_titanic['survived'].value_counts()/df_titanic.shape[0])"
      ],
      "execution_count": null,
      "outputs": []
    },
    {
      "cell_type": "code",
      "metadata": {
        "id": "TG99UoaCtECu"
      },
      "source": [
        "df_titanic.head()"
      ],
      "execution_count": null,
      "outputs": []
    },
    {
      "cell_type": "markdown",
      "metadata": {
        "id": "BD7SoJlEtbFz"
      },
      "source": [
        "### Extrair insights de 'pclass'"
      ]
    },
    {
      "cell_type": "code",
      "metadata": {
        "id": "pFMcJlBotiS_"
      },
      "source": [
        "df_titanic.dtypes"
      ],
      "execution_count": null,
      "outputs": []
    },
    {
      "cell_type": "markdown",
      "metadata": {
        "id": "uQI65a0WtnAg"
      },
      "source": [
        "#### Transformar 'pclass' em categórico:"
      ]
    },
    {
      "cell_type": "code",
      "metadata": {
        "id": "9jIJuTYktsvs"
      },
      "source": [
        "df_titanic['pclass2'] = df_titanic['pclass'].astype('category')"
      ],
      "execution_count": 121,
      "outputs": []
    },
    {
      "cell_type": "markdown",
      "metadata": {
        "id": "i45Eqj8BuHTa"
      },
      "source": [
        "### Construção da 1ª versão do modelo (baseline)"
      ]
    },
    {
      "cell_type": "code",
      "metadata": {
        "id": "bsQES03AuwBV"
      },
      "source": [
        "df_titanic.head(2)"
      ],
      "execution_count": null,
      "outputs": []
    },
    {
      "cell_type": "code",
      "metadata": {
        "id": "tgUU0fZxtg_J",
        "outputId": "8fb0457e-daa6-48b9-a977-d688d9250c07",
        "colab": {
          "base_uri": "https://localhost:8080/"
        }
      },
      "source": [
        "# 1ª versão do modelo com pclass\n",
        "modelo1 = smf.glm(formula = 'survived ~ age + pclass + sex', \n",
        "                  data = df_titanic, \n",
        "                  family = sm.families.Binomial()).fit()\n",
        "\n",
        "print(modelo1.summary())"
      ],
      "execution_count": 122,
      "outputs": [
        {
          "output_type": "stream",
          "text": [
            "                 Generalized Linear Model Regression Results                  \n",
            "==============================================================================\n",
            "Dep. Variable:               survived   No. Observations:                  714\n",
            "Model:                            GLM   Df Residuals:                      710\n",
            "Model Family:                Binomial   Df Model:                            3\n",
            "Link Function:                  logit   Scale:                          1.0000\n",
            "Method:                          IRLS   Log-Likelihood:                -323.65\n",
            "Date:                Thu, 29 Oct 2020   Deviance:                       647.29\n",
            "Time:                        14:20:29   Pearson chi2:                     768.\n",
            "No. Iterations:                     5                                         \n",
            "Covariance Type:            nonrobust                                         \n",
            "===============================================================================\n",
            "                  coef    std err          z      P>|z|      [0.025      0.975]\n",
            "-------------------------------------------------------------------------------\n",
            "Intercept       5.0560      0.502     10.069      0.000       4.072       6.040\n",
            "sex[T.male]    -2.5221      0.207    -12.168      0.000      -2.928      -2.116\n",
            "age            -0.0369      0.008     -4.841      0.000      -0.052      -0.022\n",
            "pclass         -1.2885      0.139     -9.253      0.000      -1.561      -1.016\n",
            "===============================================================================\n"
          ],
          "name": "stdout"
        }
      ]
    },
    {
      "cell_type": "code",
      "metadata": {
        "id": "_B-R7ceGv6NB"
      },
      "source": [
        ""
      ],
      "execution_count": null,
      "outputs": []
    },
    {
      "cell_type": "markdown",
      "metadata": {
        "id": "T5bDRdVPw7XI"
      },
      "source": [
        "Compare com (versão com pclass2):"
      ]
    },
    {
      "cell_type": "code",
      "metadata": {
        "id": "kA0yFWwlw_-t",
        "outputId": "1b133cca-42e7-46cb-ad83-c85ca30b7f45",
        "colab": {
          "base_uri": "https://localhost:8080/"
        }
      },
      "source": [
        "# 2ª versão do modelo com pclass2\n",
        "modelo2 = smf.glm(formula = 'survived ~ age + pclass2 + sex', \n",
        "                  data = df_titanic, \n",
        "                  family = sm.families.Binomial()).fit()\n",
        "\n",
        "print(modelo2.summary())"
      ],
      "execution_count": 123,
      "outputs": [
        {
          "output_type": "stream",
          "text": [
            "                 Generalized Linear Model Regression Results                  \n",
            "==============================================================================\n",
            "Dep. Variable:               survived   No. Observations:                  714\n",
            "Model:                            GLM   Df Residuals:                      709\n",
            "Model Family:                Binomial   Df Model:                            4\n",
            "Link Function:                  logit   Scale:                          1.0000\n",
            "Method:                          IRLS   Log-Likelihood:                -323.64\n",
            "Date:                Thu, 29 Oct 2020   Deviance:                       647.28\n",
            "Time:                        14:20:34   Pearson chi2:                     767.\n",
            "No. Iterations:                     5                                         \n",
            "Covariance Type:            nonrobust                                         \n",
            "================================================================================\n",
            "                   coef    std err          z      P>|z|      [0.025      0.975]\n",
            "--------------------------------------------------------------------------------\n",
            "Intercept        3.7770      0.401      9.416      0.000       2.991       4.563\n",
            "pclass2[T.2]    -1.3098      0.278     -4.710      0.000      -1.855      -0.765\n",
            "pclass2[T.3]    -2.5806      0.281     -9.169      0.000      -3.132      -2.029\n",
            "sex[T.male]     -2.5228      0.207    -12.164      0.000      -2.929      -2.116\n",
            "age             -0.0370      0.008     -4.831      0.000      -0.052      -0.022\n",
            "================================================================================\n"
          ],
          "name": "stdout"
        }
      ]
    },
    {
      "cell_type": "markdown",
      "metadata": {
        "id": "2rtG_4_mxXZ0"
      },
      "source": [
        "A categoria pclass2[T.1] é a categoria de referência!"
      ]
    },
    {
      "cell_type": "markdown",
      "metadata": {
        "id": "jkg5EDgXyDA1"
      },
      "source": [
        "### Interpretação dos coeficientes\n",
        "* Qual a significância dos parâmetros?\n",
        "    * Todos os coeficientes são significantes (P>|z|)\n",
        "* Passageiros da 2ª classe possuem MENOS chance de sobrevivência do que os passageiros da 1ª classe;\n",
        "* Passageiros da 3ª classe possuem MENOS de sobrevivência quando comparados com a 2ª classe;\n",
        "* Passageiros do sex = 'male' MENOS chances de sobrevivência quando comparados com sex = 'female';\n",
        "* Idade: Quanto mais velho --> MENOS chance de sobrevivência;"
      ]
    },
    {
      "cell_type": "markdown",
      "metadata": {
        "id": "07GbIe6-yHCy"
      },
      "source": [
        "## Cálculo das chances relativas de sobrevivência"
      ]
    },
    {
      "cell_type": "code",
      "metadata": {
        "id": "Ko_MK48U1J4b",
        "outputId": "31637553-ef9d-4b9e-c9dd-3174dfad333a",
        "colab": {
          "base_uri": "https://localhost:8080/"
        }
      },
      "source": [
        "modelo2.params"
      ],
      "execution_count": 124,
      "outputs": [
        {
          "output_type": "execute_result",
          "data": {
            "text/plain": [
              "Intercept       3.777013\n",
              "pclass2[T.2]   -1.309799\n",
              "pclass2[T.3]   -2.580625\n",
              "sex[T.male]    -2.522781\n",
              "age            -0.036985\n",
              "dtype: float64"
            ]
          },
          "metadata": {
            "tags": []
          },
          "execution_count": 124
        }
      ]
    },
    {
      "cell_type": "markdown",
      "metadata": {
        "id": "RQNQDrKV59gj"
      },
      "source": [
        "### Chances relativas: $e^{\\beta}$\n"
      ]
    },
    {
      "cell_type": "code",
      "metadata": {
        "id": "7uDvQZV46Hoa",
        "outputId": "ba216370-d562-4c9f-d559-904fb8932d48",
        "colab": {
          "base_uri": "https://localhost:8080/"
        }
      },
      "source": [
        "np.exp(modelo2.params[1:])"
      ],
      "execution_count": 125,
      "outputs": [
        {
          "output_type": "execute_result",
          "data": {
            "text/plain": [
              "pclass2[T.2]    0.269874\n",
              "pclass2[T.3]    0.075727\n",
              "sex[T.male]     0.080236\n",
              "age             0.963690\n",
              "dtype: float64"
            ]
          },
          "metadata": {
            "tags": []
          },
          "execution_count": 125
        }
      ]
    },
    {
      "cell_type": "markdown",
      "metadata": {
        "id": "wv-XfDaP6P16"
      },
      "source": [
        "* COMPARE COM A CLASSE DE REFERÊNCIA: \n",
        "    * Pessoas da 2ª classe possuem somente 27% das chances de sobrevivência do passageiro da 1ª classe;\n",
        "    * Passageiros da 3ª classe possuem 7% das chances de sobrevivência em relação aos passageiros da 1ª classe;\n",
        "    * Homens possuem 8% de sobreviver em relação às mulheres."
      ]
    },
    {
      "cell_type": "code",
      "metadata": {
        "id": "W4HKvpCY07g8",
        "outputId": "bb820b50-939b-4350-9820-e7fc27f9de90",
        "colab": {
          "base_uri": "https://localhost:8080/"
        }
      },
      "source": [
        "(np.exp(modelo2.params[1:]) -1)*100 # Todos os parâmetros exceto o intercepto"
      ],
      "execution_count": 126,
      "outputs": [
        {
          "output_type": "execute_result",
          "data": {
            "text/plain": [
              "pclass2[T.2]   -73.012578\n",
              "pclass2[T.3]   -92.427336\n",
              "sex[T.male]    -91.976383\n",
              "age             -3.630967\n",
              "dtype: float64"
            ]
          },
          "metadata": {
            "tags": []
          },
          "execution_count": 126
        }
      ]
    },
    {
      "cell_type": "markdown",
      "metadata": {
        "id": "STScKkAK1Yvi"
      },
      "source": [
        "### Interpretação das chances relativas\n",
        "* COMPARE COM A CLASSE DE REFERÊNCIA\n",
        "    * Passageiros da 2ª classe tem 73% MENOS chances de sobrevivência quando comparados com os passageiros da 1ª classe;\n",
        "    * Passageiros da 3ª classe tem 92% MENOS chances de sobrevivência quando comparados com os passageiros da 1ª classe;\n",
        "    * Homens tem MENOS 92% chances de sobreviver em relação às mulheres.\n",
        "    * Para cada ano a mais de idade --> as chances de sobrevivência REDUZEM/DIMINUEM 3.63%"
      ]
    },
    {
      "cell_type": "markdown",
      "metadata": {
        "id": "qgZkMXUO3Sof"
      },
      "source": [
        "### Adicionar outros atributos\n",
        "* Por exemplo: embarked"
      ]
    },
    {
      "cell_type": "code",
      "metadata": {
        "id": "_w0Yrs3Z9TRh",
        "outputId": "415fd021-fe8c-4026-9b17-1c6e0ce30517",
        "colab": {
          "base_uri": "https://localhost:8080/"
        }
      },
      "source": [
        "df_titanic['embarked'].value_counts()"
      ],
      "execution_count": 127,
      "outputs": [
        {
          "output_type": "execute_result",
          "data": {
            "text/plain": [
              "S    644\n",
              "C    168\n",
              "Q     77\n",
              "Name: embarked, dtype: int64"
            ]
          },
          "metadata": {
            "tags": []
          },
          "execution_count": 127
        }
      ]
    },
    {
      "cell_type": "code",
      "metadata": {
        "id": "Wh0Z54v893sS"
      },
      "source": [
        ""
      ],
      "execution_count": null,
      "outputs": []
    },
    {
      "cell_type": "code",
      "metadata": {
        "id": "MWp7EpQB3VBJ",
        "outputId": "ff496f5d-f0aa-4aad-9275-e96fd5627337",
        "colab": {
          "base_uri": "https://localhost:8080/"
        }
      },
      "source": [
        "# 3ª versão do modelo com pclass2\n",
        "modelo3 = smf.glm(formula = 'survived ~ age + pclass2 + sex + embarked', \n",
        "                  data = df_titanic, \n",
        "                  family = sm.families.Binomial()).fit()\n",
        "\n",
        "print(modelo3.summary())"
      ],
      "execution_count": 128,
      "outputs": [
        {
          "output_type": "stream",
          "text": [
            "                 Generalized Linear Model Regression Results                  \n",
            "==============================================================================\n",
            "Dep. Variable:               survived   No. Observations:                  712\n",
            "Model:                            GLM   Df Residuals:                      705\n",
            "Model Family:                Binomial   Df Model:                            6\n",
            "Link Function:                  logit   Scale:                          1.0000\n",
            "Method:                          IRLS   Log-Likelihood:                -321.34\n",
            "Date:                Thu, 29 Oct 2020   Deviance:                       642.68\n",
            "Time:                        14:21:04   Pearson chi2:                     754.\n",
            "No. Iterations:                     5                                         \n",
            "Covariance Type:            nonrobust                                         \n",
            "=================================================================================\n",
            "                    coef    std err          z      P>|z|      [0.025      0.975]\n",
            "---------------------------------------------------------------------------------\n",
            "Intercept         4.0368      0.431      9.371      0.000       3.193       4.881\n",
            "pclass2[T.2]     -1.1446      0.291     -3.938      0.000      -1.714      -0.575\n",
            "pclass2[T.3]     -2.4096      0.291     -8.275      0.000      -2.980      -1.839\n",
            "sex[T.male]      -2.5158      0.209    -12.020      0.000      -2.926      -2.106\n",
            "embarked[T.Q]    -0.8142      0.568     -1.434      0.152      -1.927       0.299\n",
            "embarked[T.S]    -0.4937      0.267     -1.850      0.064      -1.017       0.029\n",
            "age              -0.0361      0.008     -4.677      0.000      -0.051      -0.021\n",
            "=================================================================================\n"
          ],
          "name": "stdout"
        }
      ]
    },
    {
      "cell_type": "code",
      "metadata": {
        "id": "DKI6y5M3_vw_",
        "outputId": "f5b29f43-5eac-4b7e-e87f-44791d9adb8b",
        "colab": {
          "base_uri": "https://localhost:8080/",
          "height": 133
        }
      },
      "source": [
        "df_titanic.head(3)"
      ],
      "execution_count": 129,
      "outputs": [
        {
          "output_type": "execute_result",
          "data": {
            "text/html": [
              "<div>\n",
              "<style scoped>\n",
              "    .dataframe tbody tr th:only-of-type {\n",
              "        vertical-align: middle;\n",
              "    }\n",
              "\n",
              "    .dataframe tbody tr th {\n",
              "        vertical-align: top;\n",
              "    }\n",
              "\n",
              "    .dataframe thead th {\n",
              "        text-align: right;\n",
              "    }\n",
              "</style>\n",
              "<table border=\"1\" class=\"dataframe\">\n",
              "  <thead>\n",
              "    <tr style=\"text-align: right;\">\n",
              "      <th></th>\n",
              "      <th>passengerid</th>\n",
              "      <th>survived</th>\n",
              "      <th>pclass</th>\n",
              "      <th>name</th>\n",
              "      <th>sex</th>\n",
              "      <th>age</th>\n",
              "      <th>sibsp</th>\n",
              "      <th>parch</th>\n",
              "      <th>ticket</th>\n",
              "      <th>fare</th>\n",
              "      <th>cabin</th>\n",
              "      <th>embarked</th>\n",
              "      <th>pclass2</th>\n",
              "    </tr>\n",
              "  </thead>\n",
              "  <tbody>\n",
              "    <tr>\n",
              "      <th>0</th>\n",
              "      <td>1</td>\n",
              "      <td>0</td>\n",
              "      <td>3</td>\n",
              "      <td>Braund, Mr. Owen Harris</td>\n",
              "      <td>male</td>\n",
              "      <td>22.0</td>\n",
              "      <td>1</td>\n",
              "      <td>0</td>\n",
              "      <td>A/5 21171</td>\n",
              "      <td>7.2500</td>\n",
              "      <td>NaN</td>\n",
              "      <td>S</td>\n",
              "      <td>3</td>\n",
              "    </tr>\n",
              "    <tr>\n",
              "      <th>1</th>\n",
              "      <td>2</td>\n",
              "      <td>1</td>\n",
              "      <td>1</td>\n",
              "      <td>Cumings, Mrs. John Bradley (Florence Briggs Th...</td>\n",
              "      <td>female</td>\n",
              "      <td>38.0</td>\n",
              "      <td>1</td>\n",
              "      <td>0</td>\n",
              "      <td>PC 17599</td>\n",
              "      <td>71.2833</td>\n",
              "      <td>C85</td>\n",
              "      <td>C</td>\n",
              "      <td>1</td>\n",
              "    </tr>\n",
              "    <tr>\n",
              "      <th>2</th>\n",
              "      <td>3</td>\n",
              "      <td>1</td>\n",
              "      <td>3</td>\n",
              "      <td>Heikkinen, Miss. Laina</td>\n",
              "      <td>female</td>\n",
              "      <td>26.0</td>\n",
              "      <td>0</td>\n",
              "      <td>0</td>\n",
              "      <td>STON/O2. 3101282</td>\n",
              "      <td>7.9250</td>\n",
              "      <td>NaN</td>\n",
              "      <td>S</td>\n",
              "      <td>3</td>\n",
              "    </tr>\n",
              "  </tbody>\n",
              "</table>\n",
              "</div>"
            ],
            "text/plain": [
              "   passengerid  survived  pclass  ... cabin embarked  pclass2\n",
              "0            1         0       3  ...   NaN        S        3\n",
              "1            2         1       1  ...   C85        C        1\n",
              "2            3         1       3  ...   NaN        S        3\n",
              "\n",
              "[3 rows x 13 columns]"
            ]
          },
          "metadata": {
            "tags": []
          },
          "execution_count": 129
        }
      ]
    },
    {
      "cell_type": "code",
      "metadata": {
        "id": "-Jlbcnr5ALJX",
        "outputId": "76bd811f-c954-43aa-cbee-cac608a2786f",
        "colab": {
          "base_uri": "https://localhost:8080/"
        }
      },
      "source": [
        "# 4ª versão do modelo com pclass2\n",
        "df_titanic['sibsp2'] = df_titanic['sibsp'].astype('category')\n",
        "df_titanic['parch2'] = df_titanic['parch'].astype('category')\n",
        "\n",
        "modelo4 = smf.glm(formula = 'survived ~ age + pclass2 + sex + embarked + sibsp2 + parch2', \n",
        "                  data = df_titanic, \n",
        "                  family = sm.families.Binomial()).fit()\n",
        "\n",
        "print(modelo4.summary())"
      ],
      "execution_count": 130,
      "outputs": [
        {
          "output_type": "stream",
          "text": [
            "                 Generalized Linear Model Regression Results                  \n",
            "==============================================================================\n",
            "Dep. Variable:               survived   No. Observations:                  712\n",
            "Model:                            GLM   Df Residuals:                      694\n",
            "Model Family:                Binomial   Df Model:                           17\n",
            "Link Function:                  logit   Scale:                          1.0000\n",
            "Method:                          IRLS   Log-Likelihood:                -310.50\n",
            "Date:                Thu, 29 Oct 2020   Deviance:                       621.00\n",
            "Time:                        14:21:13   Pearson chi2:                     753.\n",
            "No. Iterations:                    21                                         \n",
            "Covariance Type:            nonrobust                                         \n",
            "=================================================================================\n",
            "                    coef    std err          z      P>|z|      [0.025      0.975]\n",
            "---------------------------------------------------------------------------------\n",
            "Intercept         4.1697      0.507      8.224      0.000       3.176       5.163\n",
            "pclass2[T.2]     -1.2889      0.303     -4.248      0.000      -1.884      -0.694\n",
            "pclass2[T.3]     -2.3595      0.306     -7.719      0.000      -2.959      -1.760\n",
            "sex[T.male]      -2.6074      0.224    -11.651      0.000      -3.046      -2.169\n",
            "embarked[T.Q]    -0.6743      0.606     -1.113      0.266      -1.862       0.513\n",
            "embarked[T.S]    -0.3162      0.274     -1.153      0.249      -0.854       0.221\n",
            "sibsp2[T.1]      -0.0487      0.242     -0.201      0.840      -0.523       0.426\n",
            "sibsp2[T.2]      -0.6763      0.582     -1.161      0.246      -1.818       0.465\n",
            "sibsp2[T.3]      -1.9779      0.771     -2.567      0.010      -3.488      -0.468\n",
            "sibsp2[T.4]      -1.8268      0.798     -2.289      0.022      -3.391      -0.263\n",
            "sibsp2[T.5]     -22.1971   1.94e+04     -0.001      0.999    -3.8e+04    3.79e+04\n",
            "sibsp2[T.8]   -5.122e-12   4.47e-09     -0.001      0.999   -8.77e-09    8.76e-09\n",
            "parch2[T.1]       0.3476      0.297      1.172      0.241      -0.234       0.929\n",
            "parch2[T.2]       0.2708      0.408      0.664      0.506      -0.528       1.070\n",
            "parch2[T.3]       0.4942      1.051      0.470      0.638      -1.566       2.555\n",
            "parch2[T.4]     -21.7681    2.1e+04     -0.001      0.999   -4.12e+04    4.11e+04\n",
            "parch2[T.5]      -0.9270      1.177     -0.788      0.431      -3.233       1.379\n",
            "parch2[T.6]     -22.2694   4.82e+04     -0.000      1.000   -9.45e+04    9.44e+04\n",
            "age              -0.0405      0.009     -4.613      0.000      -0.058      -0.023\n",
            "=================================================================================\n"
          ],
          "name": "stdout"
        }
      ]
    },
    {
      "cell_type": "markdown",
      "metadata": {
        "id": "_YxRbbARCZ9G"
      },
      "source": [
        "### Próximos passos\n",
        "* Tratar os outliers da variável fare e idade (substituir pela mediana);\n",
        "* Variáveis dummy;\n",
        "* Transformação (MinMaxScaler e etc);\n",
        "* Discretizar as variáveis numéricas (fare e idade);\n",
        "* Avaliação da acurácia (comparar modelos usando as principais métricas);\n",
        "* Predições (modelo.predict())\n",
        "* ROC, AUC, matriz de confusão e etc;\n",
        "* Cross-Validation;\n",
        "* Binning ótimo (variáveis numéricas --> Ponto de cut ótimo;\n",
        "* Verificar os Missing Values;\n",
        "* Fechar o entendimento;\n",
        "* Deployment;"
      ]
    },
    {
      "cell_type": "code",
      "metadata": {
        "id": "qdxMDnIKpWUY"
      },
      "source": [
        "df_titanic.isna().sum()"
      ],
      "execution_count": null,
      "outputs": []
    },
    {
      "cell_type": "code",
      "metadata": {
        "id": "kXIM01_Nxn0o"
      },
      "source": [
        "df_ = df_titanic.copy()"
      ],
      "execution_count": null,
      "outputs": []
    },
    {
      "cell_type": "code",
      "metadata": {
        "id": "UKrVBu1SJZ3K"
      },
      "source": [
        "df_titanic = df_.copy()"
      ],
      "execution_count": null,
      "outputs": []
    },
    {
      "cell_type": "code",
      "metadata": {
        "id": "i3K_MxzblqWr"
      },
      "source": [
        "df_titanic.describe()"
      ],
      "execution_count": null,
      "outputs": []
    },
    {
      "cell_type": "code",
      "metadata": {
        "id": "YJw9XZG7sdrY"
      },
      "source": [
        "# Tratando missing values da variável 'age' (substitiundo NaNs pela mediana)\n",
        "df_titanic['age'].fillna(df_titanic['age'].median(), inplace = True)"
      ],
      "execution_count": 131,
      "outputs": []
    },
    {
      "cell_type": "code",
      "metadata": {
        "id": "gfc0J1diyIjq"
      },
      "source": [
        "df_titanic.isna().sum()"
      ],
      "execution_count": null,
      "outputs": []
    },
    {
      "cell_type": "code",
      "metadata": {
        "id": "BDjqDqmZoOxp"
      },
      "source": [
        "df_titanic['fare']"
      ],
      "execution_count": null,
      "outputs": []
    },
    {
      "cell_type": "code",
      "metadata": {
        "id": "fZ_6RMmgo2y1"
      },
      "source": [
        "# Tratando outliers da variável 'fare'\n",
        "\n",
        "# Boxplot antes dos \"outliers\"\n",
        "sns.boxplot(x = df_titanic['fare'].values)"
      ],
      "execution_count": null,
      "outputs": []
    },
    {
      "cell_type": "code",
      "metadata": {
        "id": "qwaGAWwI0P8B"
      },
      "source": [
        "df_titanic['fare'].describe()"
      ],
      "execution_count": null,
      "outputs": []
    },
    {
      "cell_type": "code",
      "metadata": {
        "id": "lRsOgLWr8_Pu",
        "outputId": "3d420c98-f401-41c6-c082-045333eab0e6",
        "colab": {
          "base_uri": "https://localhost:8080/",
          "height": 35
        }
      },
      "source": [
        "quartiles_fare = df_titanic['fare'].quantile([0.25,0.75]).to_list()\n",
        "\n",
        "q1_fare = quartiles_fare[0]\n",
        "q3_fare = quartiles_fare[1]\n",
        "\n",
        "lim_superior = q3_fare + (q3_fare - q1_fare) * 1.5\n",
        "lim_inferior = q3_fare - (q3_fare - q1_fare) * 1.5\n",
        "\n",
        "f'lim_superior: {lim_superior}, lim_inferior: {lim_inferior}'"
      ],
      "execution_count": 132,
      "outputs": [
        {
          "output_type": "execute_result",
          "data": {
            "application/vnd.google.colaboratory.intrinsic+json": {
              "type": "string"
            },
            "text/plain": [
              "'lim_superior: 65.6344, lim_inferior: -3.6343999999999994'"
            ]
          },
          "metadata": {
            "tags": []
          },
          "execution_count": 132
        }
      ]
    },
    {
      "cell_type": "code",
      "metadata": {
        "id": "5U2giVEM-hYn",
        "outputId": "e87b13c7-312a-4e7a-ee8d-4b169dc22a41",
        "colab": {
          "base_uri": "https://localhost:8080/",
          "height": 191
        }
      },
      "source": [
        "# ouliers superiores\n",
        "df_titanic[df_titanic['fare'] > lim_superior].sort_values(by = ['fare'], ascending = False).head()"
      ],
      "execution_count": 133,
      "outputs": [
        {
          "output_type": "execute_result",
          "data": {
            "text/html": [
              "<div>\n",
              "<style scoped>\n",
              "    .dataframe tbody tr th:only-of-type {\n",
              "        vertical-align: middle;\n",
              "    }\n",
              "\n",
              "    .dataframe tbody tr th {\n",
              "        vertical-align: top;\n",
              "    }\n",
              "\n",
              "    .dataframe thead th {\n",
              "        text-align: right;\n",
              "    }\n",
              "</style>\n",
              "<table border=\"1\" class=\"dataframe\">\n",
              "  <thead>\n",
              "    <tr style=\"text-align: right;\">\n",
              "      <th></th>\n",
              "      <th>passengerid</th>\n",
              "      <th>survived</th>\n",
              "      <th>pclass</th>\n",
              "      <th>name</th>\n",
              "      <th>sex</th>\n",
              "      <th>age</th>\n",
              "      <th>sibsp</th>\n",
              "      <th>parch</th>\n",
              "      <th>ticket</th>\n",
              "      <th>fare</th>\n",
              "      <th>cabin</th>\n",
              "      <th>embarked</th>\n",
              "      <th>pclass2</th>\n",
              "      <th>sibsp2</th>\n",
              "      <th>parch2</th>\n",
              "    </tr>\n",
              "  </thead>\n",
              "  <tbody>\n",
              "    <tr>\n",
              "      <th>679</th>\n",
              "      <td>680</td>\n",
              "      <td>1</td>\n",
              "      <td>1</td>\n",
              "      <td>Cardeza, Mr. Thomas Drake Martinez</td>\n",
              "      <td>male</td>\n",
              "      <td>36.0</td>\n",
              "      <td>0</td>\n",
              "      <td>1</td>\n",
              "      <td>PC 17755</td>\n",
              "      <td>512.3292</td>\n",
              "      <td>B51 B53 B55</td>\n",
              "      <td>C</td>\n",
              "      <td>1</td>\n",
              "      <td>0</td>\n",
              "      <td>1</td>\n",
              "    </tr>\n",
              "    <tr>\n",
              "      <th>258</th>\n",
              "      <td>259</td>\n",
              "      <td>1</td>\n",
              "      <td>1</td>\n",
              "      <td>Ward, Miss. Anna</td>\n",
              "      <td>female</td>\n",
              "      <td>35.0</td>\n",
              "      <td>0</td>\n",
              "      <td>0</td>\n",
              "      <td>PC 17755</td>\n",
              "      <td>512.3292</td>\n",
              "      <td>NaN</td>\n",
              "      <td>C</td>\n",
              "      <td>1</td>\n",
              "      <td>0</td>\n",
              "      <td>0</td>\n",
              "    </tr>\n",
              "    <tr>\n",
              "      <th>737</th>\n",
              "      <td>738</td>\n",
              "      <td>1</td>\n",
              "      <td>1</td>\n",
              "      <td>Lesurer, Mr. Gustave J</td>\n",
              "      <td>male</td>\n",
              "      <td>35.0</td>\n",
              "      <td>0</td>\n",
              "      <td>0</td>\n",
              "      <td>PC 17755</td>\n",
              "      <td>512.3292</td>\n",
              "      <td>B101</td>\n",
              "      <td>C</td>\n",
              "      <td>1</td>\n",
              "      <td>0</td>\n",
              "      <td>0</td>\n",
              "    </tr>\n",
              "    <tr>\n",
              "      <th>341</th>\n",
              "      <td>342</td>\n",
              "      <td>1</td>\n",
              "      <td>1</td>\n",
              "      <td>Fortune, Miss. Alice Elizabeth</td>\n",
              "      <td>female</td>\n",
              "      <td>24.0</td>\n",
              "      <td>3</td>\n",
              "      <td>2</td>\n",
              "      <td>19950</td>\n",
              "      <td>263.0000</td>\n",
              "      <td>C23 C25 C27</td>\n",
              "      <td>S</td>\n",
              "      <td>1</td>\n",
              "      <td>3</td>\n",
              "      <td>2</td>\n",
              "    </tr>\n",
              "    <tr>\n",
              "      <th>438</th>\n",
              "      <td>439</td>\n",
              "      <td>0</td>\n",
              "      <td>1</td>\n",
              "      <td>Fortune, Mr. Mark</td>\n",
              "      <td>male</td>\n",
              "      <td>64.0</td>\n",
              "      <td>1</td>\n",
              "      <td>4</td>\n",
              "      <td>19950</td>\n",
              "      <td>263.0000</td>\n",
              "      <td>C23 C25 C27</td>\n",
              "      <td>S</td>\n",
              "      <td>1</td>\n",
              "      <td>1</td>\n",
              "      <td>4</td>\n",
              "    </tr>\n",
              "  </tbody>\n",
              "</table>\n",
              "</div>"
            ],
            "text/plain": [
              "     passengerid  survived  pclass  ... pclass2 sibsp2  parch2\n",
              "679          680         1       1  ...       1      0       1\n",
              "258          259         1       1  ...       1      0       0\n",
              "737          738         1       1  ...       1      0       0\n",
              "341          342         1       1  ...       1      3       2\n",
              "438          439         0       1  ...       1      1       4\n",
              "\n",
              "[5 rows x 15 columns]"
            ]
          },
          "metadata": {
            "tags": []
          },
          "execution_count": 133
        }
      ]
    },
    {
      "cell_type": "code",
      "metadata": {
        "id": "B5Ks8oZ6d-Dh",
        "outputId": "12b0883c-a303-4615-ad7e-7b56319fae19",
        "colab": {
          "base_uri": "https://localhost:8080/"
        }
      },
      "source": [
        "df_titanic[df_titanic['fare']>lim_superior]['fare'].median()"
      ],
      "execution_count": 134,
      "outputs": [
        {
          "output_type": "execute_result",
          "data": {
            "text/plain": [
              "90.0"
            ]
          },
          "metadata": {
            "tags": []
          },
          "execution_count": 134
        }
      ]
    },
    {
      "cell_type": "code",
      "metadata": {
        "id": "cVleOr6OhARc"
      },
      "source": [
        "# colocando os índices das linhas com outliers em uma lista para efetuar a substituição dos valores de fare pela mediana do conjunto de valores acima do limite superior\n",
        "l_row_outlier = list(df_titanic[df_titanic['fare']>lim_superior].index)"
      ],
      "execution_count": 135,
      "outputs": []
    },
    {
      "cell_type": "code",
      "metadata": {
        "id": "Tut73jJ3A1s5"
      },
      "source": [
        "# Quero substituir na coluna 'fare', os valores acima do lim_superior pela mediana mas por que não funciona???\n",
        "# df_titanic[df_titanic['fare'] > lim_superior]['fare'] = 90         "
      ],
      "execution_count": null,
      "outputs": []
    },
    {
      "cell_type": "code",
      "metadata": {
        "id": "8-830TGdh0OK"
      },
      "source": [
        "# Fazendo a substituição dos valores acima do outlier pela mediana\n",
        "for i in l_row_outlier:\n",
        "  df_titanic.loc[i,['fare']] = 90         # 90 é a mediana dos valores acima do lim_superior"
      ],
      "execution_count": 136,
      "outputs": []
    },
    {
      "cell_type": "code",
      "metadata": {
        "id": "PaNGjrnhcCbO"
      },
      "source": [
        "df_titanic.head(10)"
      ],
      "execution_count": null,
      "outputs": []
    },
    {
      "cell_type": "code",
      "metadata": {
        "id": "VXj8LlYmIxxd",
        "outputId": "49e562ab-3980-4695-b1e5-9d815745aaab",
        "colab": {
          "base_uri": "https://localhost:8080/",
          "height": 283
        }
      },
      "source": [
        "# Boxplot após tratamento dos \"outliers (mediana)\"\n",
        "sns.boxplot(x = df_titanic['fare'].values)"
      ],
      "execution_count": 137,
      "outputs": [
        {
          "output_type": "execute_result",
          "data": {
            "text/plain": [
              "<matplotlib.axes._subplots.AxesSubplot at 0x7fa3577cc160>"
            ]
          },
          "metadata": {
            "tags": []
          },
          "execution_count": 137
        },
        {
          "output_type": "display_data",
          "data": {
            "image/png": "[encoded data removed]",
            "text/plain": [
              "<Figure size 432x288 with 1 Axes>"
            ]
          },
          "metadata": {
            "tags": [],
            "needs_background": "light"
          }
        }
      ]
    },
    {
      "cell_type": "code",
      "metadata": {
        "id": "iPFTjaY6Lezq",
        "outputId": "9e877e2d-919a-4c98-937b-2e4785e35039",
        "colab": {
          "base_uri": "https://localhost:8080/"
        }
      },
      "source": [
        "# Conforme regressão logística, apenas sibsp2 com valor 3 e 4 são de interesse => transformar em dummies a variável 'sibsp2'\n",
        "\n",
        "#sibsp2[T.3]      -1.9779      0.771     -2.567      0.010      -3.488      -0.468\n",
        "#sibsp2[T.4]      -1.8268      0.798     -2.289      0.022      -3.391      -0.263\n",
        "df_titanic['sibsp2'].unique()"
      ],
      "execution_count": 138,
      "outputs": [
        {
          "output_type": "execute_result",
          "data": {
            "text/plain": [
              "[1, 0, 3, 4, 2, 5, 8]\n",
              "Categories (7, int64): [1, 0, 3, 4, 2, 5, 8]"
            ]
          },
          "metadata": {
            "tags": []
          },
          "execution_count": 138
        }
      ]
    },
    {
      "cell_type": "code",
      "metadata": {
        "id": "oho6_uTwarSm",
        "outputId": "b8c244a1-3e34-40a0-92cf-de11d617cd99",
        "colab": {
          "base_uri": "https://localhost:8080/",
          "height": 321
        }
      },
      "source": [
        "dummies = pd.get_dummies(df_titanic['sibsp2'],prefix ='sibsp2')\n",
        "df_titanic = pd.concat([df_titanic, dummies], axis = 1)\n",
        "df_titanic.head()"
      ],
      "execution_count": 139,
      "outputs": [
        {
          "output_type": "execute_result",
          "data": {
            "text/html": [
              "<div>\n",
              "<style scoped>\n",
              "    .dataframe tbody tr th:only-of-type {\n",
              "        vertical-align: middle;\n",
              "    }\n",
              "\n",
              "    .dataframe tbody tr th {\n",
              "        vertical-align: top;\n",
              "    }\n",
              "\n",
              "    .dataframe thead th {\n",
              "        text-align: right;\n",
              "    }\n",
              "</style>\n",
              "<table border=\"1\" class=\"dataframe\">\n",
              "  <thead>\n",
              "    <tr style=\"text-align: right;\">\n",
              "      <th></th>\n",
              "      <th>passengerid</th>\n",
              "      <th>survived</th>\n",
              "      <th>pclass</th>\n",
              "      <th>name</th>\n",
              "      <th>sex</th>\n",
              "      <th>age</th>\n",
              "      <th>sibsp</th>\n",
              "      <th>parch</th>\n",
              "      <th>ticket</th>\n",
              "      <th>fare</th>\n",
              "      <th>cabin</th>\n",
              "      <th>embarked</th>\n",
              "      <th>pclass2</th>\n",
              "      <th>sibsp2</th>\n",
              "      <th>parch2</th>\n",
              "      <th>sibsp2_0</th>\n",
              "      <th>sibsp2_1</th>\n",
              "      <th>sibsp2_2</th>\n",
              "      <th>sibsp2_3</th>\n",
              "      <th>sibsp2_4</th>\n",
              "      <th>sibsp2_5</th>\n",
              "      <th>sibsp2_8</th>\n",
              "    </tr>\n",
              "  </thead>\n",
              "  <tbody>\n",
              "    <tr>\n",
              "      <th>0</th>\n",
              "      <td>1</td>\n",
              "      <td>0</td>\n",
              "      <td>3</td>\n",
              "      <td>Braund, Mr. Owen Harris</td>\n",
              "      <td>male</td>\n",
              "      <td>22.0</td>\n",
              "      <td>1</td>\n",
              "      <td>0</td>\n",
              "      <td>A/5 21171</td>\n",
              "      <td>7.250</td>\n",
              "      <td>NaN</td>\n",
              "      <td>S</td>\n",
              "      <td>3</td>\n",
              "      <td>1</td>\n",
              "      <td>0</td>\n",
              "      <td>0</td>\n",
              "      <td>1</td>\n",
              "      <td>0</td>\n",
              "      <td>0</td>\n",
              "      <td>0</td>\n",
              "      <td>0</td>\n",
              "      <td>0</td>\n",
              "    </tr>\n",
              "    <tr>\n",
              "      <th>1</th>\n",
              "      <td>2</td>\n",
              "      <td>1</td>\n",
              "      <td>1</td>\n",
              "      <td>Cumings, Mrs. John Bradley (Florence Briggs Th...</td>\n",
              "      <td>female</td>\n",
              "      <td>38.0</td>\n",
              "      <td>1</td>\n",
              "      <td>0</td>\n",
              "      <td>PC 17599</td>\n",
              "      <td>90.000</td>\n",
              "      <td>C85</td>\n",
              "      <td>C</td>\n",
              "      <td>1</td>\n",
              "      <td>1</td>\n",
              "      <td>0</td>\n",
              "      <td>0</td>\n",
              "      <td>1</td>\n",
              "      <td>0</td>\n",
              "      <td>0</td>\n",
              "      <td>0</td>\n",
              "      <td>0</td>\n",
              "      <td>0</td>\n",
              "    </tr>\n",
              "    <tr>\n",
              "      <th>2</th>\n",
              "      <td>3</td>\n",
              "      <td>1</td>\n",
              "      <td>3</td>\n",
              "      <td>Heikkinen, Miss. Laina</td>\n",
              "      <td>female</td>\n",
              "      <td>26.0</td>\n",
              "      <td>0</td>\n",
              "      <td>0</td>\n",
              "      <td>STON/O2. 3101282</td>\n",
              "      <td>7.925</td>\n",
              "      <td>NaN</td>\n",
              "      <td>S</td>\n",
              "      <td>3</td>\n",
              "      <td>0</td>\n",
              "      <td>0</td>\n",
              "      <td>1</td>\n",
              "      <td>0</td>\n",
              "      <td>0</td>\n",
              "      <td>0</td>\n",
              "      <td>0</td>\n",
              "      <td>0</td>\n",
              "      <td>0</td>\n",
              "    </tr>\n",
              "    <tr>\n",
              "      <th>3</th>\n",
              "      <td>4</td>\n",
              "      <td>1</td>\n",
              "      <td>1</td>\n",
              "      <td>Futrelle, Mrs. Jacques Heath (Lily May Peel)</td>\n",
              "      <td>female</td>\n",
              "      <td>35.0</td>\n",
              "      <td>1</td>\n",
              "      <td>0</td>\n",
              "      <td>113803</td>\n",
              "      <td>53.100</td>\n",
              "      <td>C123</td>\n",
              "      <td>S</td>\n",
              "      <td>1</td>\n",
              "      <td>1</td>\n",
              "      <td>0</td>\n",
              "      <td>0</td>\n",
              "      <td>1</td>\n",
              "      <td>0</td>\n",
              "      <td>0</td>\n",
              "      <td>0</td>\n",
              "      <td>0</td>\n",
              "      <td>0</td>\n",
              "    </tr>\n",
              "    <tr>\n",
              "      <th>4</th>\n",
              "      <td>5</td>\n",
              "      <td>0</td>\n",
              "      <td>3</td>\n",
              "      <td>Allen, Mr. William Henry</td>\n",
              "      <td>male</td>\n",
              "      <td>35.0</td>\n",
              "      <td>0</td>\n",
              "      <td>0</td>\n",
              "      <td>373450</td>\n",
              "      <td>8.050</td>\n",
              "      <td>NaN</td>\n",
              "      <td>S</td>\n",
              "      <td>3</td>\n",
              "      <td>0</td>\n",
              "      <td>0</td>\n",
              "      <td>1</td>\n",
              "      <td>0</td>\n",
              "      <td>0</td>\n",
              "      <td>0</td>\n",
              "      <td>0</td>\n",
              "      <td>0</td>\n",
              "      <td>0</td>\n",
              "    </tr>\n",
              "  </tbody>\n",
              "</table>\n",
              "</div>"
            ],
            "text/plain": [
              "   passengerid  survived  pclass  ... sibsp2_4 sibsp2_5  sibsp2_8\n",
              "0            1         0       3  ...        0        0         0\n",
              "1            2         1       1  ...        0        0         0\n",
              "2            3         1       3  ...        0        0         0\n",
              "3            4         1       1  ...        0        0         0\n",
              "4            5         0       3  ...        0        0         0\n",
              "\n",
              "[5 rows x 22 columns]"
            ]
          },
          "metadata": {
            "tags": []
          },
          "execution_count": 139
        }
      ]
    },
    {
      "cell_type": "code",
      "metadata": {
        "id": "x_o87hZWafc3"
      },
      "source": [
        "# além de dummies, tem o LabelEncoder ( DÚVIDA: saída é uma coluna 'sibsp2_le, como separar em 3 e 4?)\n",
        "# from sklearn.preprocessing import LabelEncoder, OneHotEncoder\n",
        "# le = LabelEncoder()\n",
        "# df_s = df_titanic.copy()\n",
        "# df_s['sibsp2_le'] = le.fit_transform(df_s['sibsp2'])    \n",
        "# df_s.head()"
      ],
      "execution_count": null,
      "outputs": []
    },
    {
      "cell_type": "code",
      "metadata": {
        "id": "MK_IwWNtac7s"
      },
      "source": [
        "# Transformação (MinMaxScaler e etc)\n",
        "df_titanic.columns"
      ],
      "execution_count": null,
      "outputs": []
    },
    {
      "cell_type": "code",
      "metadata": {
        "id": "GcZHS3FUoaAn",
        "outputId": "c3225c06-e626-4764-c995-1a267a3ffd22",
        "colab": {
          "base_uri": "https://localhost:8080/",
          "height": 191
        }
      },
      "source": [
        "df_titanic_2 = df_titanic[['passengerid','survived','name','sex','age','fare','pclass2','sibsp2_3', 'sibsp2_4']]\n",
        "df_titanic_2.head()"
      ],
      "execution_count": 140,
      "outputs": [
        {
          "output_type": "execute_result",
          "data": {
            "text/html": [
              "<div>\n",
              "<style scoped>\n",
              "    .dataframe tbody tr th:only-of-type {\n",
              "        vertical-align: middle;\n",
              "    }\n",
              "\n",
              "    .dataframe tbody tr th {\n",
              "        vertical-align: top;\n",
              "    }\n",
              "\n",
              "    .dataframe thead th {\n",
              "        text-align: right;\n",
              "    }\n",
              "</style>\n",
              "<table border=\"1\" class=\"dataframe\">\n",
              "  <thead>\n",
              "    <tr style=\"text-align: right;\">\n",
              "      <th></th>\n",
              "      <th>passengerid</th>\n",
              "      <th>survived</th>\n",
              "      <th>name</th>\n",
              "      <th>sex</th>\n",
              "      <th>age</th>\n",
              "      <th>fare</th>\n",
              "      <th>pclass2</th>\n",
              "      <th>sibsp2_3</th>\n",
              "      <th>sibsp2_4</th>\n",
              "    </tr>\n",
              "  </thead>\n",
              "  <tbody>\n",
              "    <tr>\n",
              "      <th>0</th>\n",
              "      <td>1</td>\n",
              "      <td>0</td>\n",
              "      <td>Braund, Mr. Owen Harris</td>\n",
              "      <td>male</td>\n",
              "      <td>22.0</td>\n",
              "      <td>7.250</td>\n",
              "      <td>3</td>\n",
              "      <td>0</td>\n",
              "      <td>0</td>\n",
              "    </tr>\n",
              "    <tr>\n",
              "      <th>1</th>\n",
              "      <td>2</td>\n",
              "      <td>1</td>\n",
              "      <td>Cumings, Mrs. John Bradley (Florence Briggs Th...</td>\n",
              "      <td>female</td>\n",
              "      <td>38.0</td>\n",
              "      <td>90.000</td>\n",
              "      <td>1</td>\n",
              "      <td>0</td>\n",
              "      <td>0</td>\n",
              "    </tr>\n",
              "    <tr>\n",
              "      <th>2</th>\n",
              "      <td>3</td>\n",
              "      <td>1</td>\n",
              "      <td>Heikkinen, Miss. Laina</td>\n",
              "      <td>female</td>\n",
              "      <td>26.0</td>\n",
              "      <td>7.925</td>\n",
              "      <td>3</td>\n",
              "      <td>0</td>\n",
              "      <td>0</td>\n",
              "    </tr>\n",
              "    <tr>\n",
              "      <th>3</th>\n",
              "      <td>4</td>\n",
              "      <td>1</td>\n",
              "      <td>Futrelle, Mrs. Jacques Heath (Lily May Peel)</td>\n",
              "      <td>female</td>\n",
              "      <td>35.0</td>\n",
              "      <td>53.100</td>\n",
              "      <td>1</td>\n",
              "      <td>0</td>\n",
              "      <td>0</td>\n",
              "    </tr>\n",
              "    <tr>\n",
              "      <th>4</th>\n",
              "      <td>5</td>\n",
              "      <td>0</td>\n",
              "      <td>Allen, Mr. William Henry</td>\n",
              "      <td>male</td>\n",
              "      <td>35.0</td>\n",
              "      <td>8.050</td>\n",
              "      <td>3</td>\n",
              "      <td>0</td>\n",
              "      <td>0</td>\n",
              "    </tr>\n",
              "  </tbody>\n",
              "</table>\n",
              "</div>"
            ],
            "text/plain": [
              "   passengerid  survived  ... sibsp2_3 sibsp2_4\n",
              "0            1         0  ...        0        0\n",
              "1            2         1  ...        0        0\n",
              "2            3         1  ...        0        0\n",
              "3            4         1  ...        0        0\n",
              "4            5         0  ...        0        0\n",
              "\n",
              "[5 rows x 9 columns]"
            ]
          },
          "metadata": {
            "tags": []
          },
          "execution_count": 140
        }
      ]
    },
    {
      "cell_type": "code",
      "metadata": {
        "id": "o_Bt-KuuokEk"
      },
      "source": [
        ""
      ],
      "execution_count": null,
      "outputs": []
    },
    {
      "cell_type": "code",
      "metadata": {
        "id": "UYydWxCMnv8I"
      },
      "source": [
        "from sklearn.preprocessing import StandardScaler\n"
      ],
      "execution_count": null,
      "outputs": []
    },
    {
      "cell_type": "markdown",
      "metadata": {
        "id": "XwuMfMD1gFyd"
      },
      "source": [
        "# Exemplo 2"
      ]
    },
    {
      "cell_type": "markdown",
      "metadata": {
        "id": "kFY0TQVgOlvT"
      },
      "source": [
        ""
      ]
    },
    {
      "cell_type": "code",
      "metadata": {
        "id": "efF3st3sHxPG"
      },
      "source": [
        "# Carrega as bibliotecas\n",
        "import numpy as np\n",
        "np.set_printoptions(formatter = {'float': lambda x: \"{0:0.2f}\".format(x)})\n",
        "\n",
        "import pandas as pd\n",
        "import matplotlib.pyplot as plt\n",
        "from sklearn.model_selection import train_test_split\n",
        "import statsmodels.api as sm\n",
        "\n",
        "%matplotlib inline"
      ],
      "execution_count": null,
      "outputs": []
    },
    {
      "cell_type": "code",
      "metadata": {
        "id": "Bk9F6JO0IELv"
      },
      "source": [
        "# Carregar/ler o banco de dados - Dataframe Diabetes\n",
        "from sklearn import datasets\n",
        "#Diabetes = datasets.load_diabetes()\n",
        "\n",
        "url = 'https://raw.githubusercontent.com/MathMachado/DSWP/master/Dataframes/diabetes.csv'\n",
        "diabetes = pd.read_csv(url)\n",
        "diabetes.head()"
      ],
      "execution_count": null,
      "outputs": []
    },
    {
      "cell_type": "code",
      "metadata": {
        "id": "tjRmpaPIDknb"
      },
      "source": [
        "# Definir as matrizes X e y\n",
        "X_diabetes = diabetes.copy()\n",
        "X_diabetes.drop(columns = ['Outcome'], axis = 1, inplace = True)\n",
        "y_diabetes = diabetes['Outcome']\n",
        "\n",
        "X_diabetes.head()"
      ],
      "execution_count": null,
      "outputs": []
    },
    {
      "cell_type": "code",
      "metadata": {
        "id": "jLrx69TH-Mad"
      },
      "source": [
        "X_diabetes.shape"
      ],
      "execution_count": null,
      "outputs": []
    },
    {
      "cell_type": "code",
      "metadata": {
        "id": "mdFBioP6-Ply"
      },
      "source": [
        "y_diabetes.shape"
      ],
      "execution_count": null,
      "outputs": []
    },
    {
      "cell_type": "code",
      "metadata": {
        "id": "fhLySN65IaDF"
      },
      "source": [
        "# Definir as matrizes de treinamento e validação\n",
        "X_treinamento, X_teste, y_treinamento, y_teste = train_test_split(X_diabetes, y_diabetes)"
      ],
      "execution_count": null,
      "outputs": []
    },
    {
      "cell_type": "code",
      "metadata": {
        "id": "J5R8HlnuIGpL"
      },
      "source": [
        "# Usando statmodels:\n",
        "x = sm.add_constant(X_treinamento)\n",
        "lr_sm = sm.Logit(y_treinamento, X_treinamento) # Atenção: aqui é o contrário: [y, x]\n",
        "\n",
        "# Treinar o modelo\n",
        "lr.fit(X_treinamento, y_treinamento)\n",
        "resultado_sm = lr_sm.fit()"
      ],
      "execution_count": null,
      "outputs": []
    },
    {
      "cell_type": "code",
      "metadata": {
        "id": "GlbCaPp1ETNa"
      },
      "source": [
        "resultado_sm.summary()"
      ],
      "execution_count": null,
      "outputs": []
    },
    {
      "cell_type": "code",
      "metadata": {
        "id": "-FJaSnJLKICU"
      },
      "source": [
        "# EQM - Erro Quadrático Médio\n",
        "np.mean((resultado_sm.predict(X_teste) - y_teste) ** 2) "
      ],
      "execution_count": null,
      "outputs": []
    },
    {
      "cell_type": "markdown",
      "metadata": {
        "id": "6bVEUSTUPzOj"
      },
      "source": [
        "### Calcular y_pred - os valores preditos de y"
      ]
    },
    {
      "cell_type": "code",
      "metadata": {
        "id": "OjGrNhTNLcr-"
      },
      "source": [
        "y_pred = resultado_sm.predict(X_treinamento)"
      ],
      "execution_count": null,
      "outputs": []
    },
    {
      "cell_type": "code",
      "metadata": {
        "id": "vfS5RCx_VnGT"
      },
      "source": [
        "compara = list(zip(np.array(diabetes['Outcome']), resultado_sm.predict()))\n",
        "compara[0:30]"
      ],
      "execution_count": null,
      "outputs": []
    },
    {
      "cell_type": "code",
      "metadata": {
        "id": "pUxasncIFaw4"
      },
      "source": [
        "resultado_sm.pred_table()"
      ],
      "execution_count": null,
      "outputs": []
    },
    {
      "cell_type": "code",
      "metadata": {
        "id": "_liLYinwFgch"
      },
      "source": [
        "confusion_matrix = pd.DataFrame(resultado_sm.pred_table())\n",
        "confusion_matrix.columns = ['Predicted No Diabetes', 'Predicted Diabetes']\n",
        "confusion_matrix = confusion_matrix.rename(index = {0 : 'Actual No Diabetes', 1 : 'Actual Diabetes'})\n",
        "confusion_matrix"
      ],
      "execution_count": null,
      "outputs": []
    },
    {
      "cell_type": "code",
      "metadata": {
        "id": "ceH3MODWFm7S"
      },
      "source": [
        "cm = np.array(confusion_matrix)\n",
        "training_accuracy = (cm[0,0] + cm[1,1])/ cm.sum()\n",
        "training_accuracy"
      ],
      "execution_count": null,
      "outputs": []
    },
    {
      "cell_type": "markdown",
      "metadata": {
        "id": "CH_iEuzhO109"
      },
      "source": [
        "# Exercício 1 - Mall_Customers.csv\n",
        "> A variável-target deste dataframe é 'Annual Income'. Desenvolva um modelo de regressão utilizando OLS, Ridge e LASSO e compare os resultados.\n",
        "\n",
        "* Experimente:\n",
        "    * Lasso(alpha = 0.01, max_iter = 10e5);\n",
        "    * Lasso(alpha = 0.0001, max_iter = 10e5);\n",
        "    * Ridge(alpha = 0.01);\n",
        "    * Ridge(alpha = 100);"
      ]
    },
    {
      "cell_type": "code",
      "metadata": {
        "id": "ZfRDEaaRYxFQ"
      },
      "source": [
        "import pandas as pd\n",
        "import numpy as np\n",
        "from sklearn import preprocessing\n",
        "import matplotlib.pyplot as plt \n",
        "plt.rc(\"font\", size=14)\n",
        "from sklearn.linear_model import LogisticRegression\n",
        "from sklearn.model_selection import train_test_split\n",
        "import seaborn as sns\n",
        "sns.set(style=\"white\")\n",
        "sns.set(style=\"whitegrid\", color_codes=True)"
      ],
      "execution_count": null,
      "outputs": []
    },
    {
      "cell_type": "markdown",
      "metadata": {
        "id": "nulrLzUqYxFY"
      },
      "source": [
        "## Dados\n",
        "\n",
        "The data is related with direct marketing campaigns (phone calls) of a Portuguese banking institution. The classification goal is to predict if the client will subscribe (1/0) a term deposit (variable y)."
      ]
    },
    {
      "cell_type": "markdown",
      "metadata": {
        "id": "4LdrQCwxYxFY"
      },
      "source": [
        "This dataset provides the customer information. It includes 41188 records and 21 fields."
      ]
    },
    {
      "cell_type": "code",
      "metadata": {
        "id": "qoT6zkoFYxFZ"
      },
      "source": [
        "df_bank = pd.read_csv('https://raw.githubusercontent.com/MathMachado/DataFrames/master/bank-full.csv', header = 0)\n",
        "df_bank = df_bank.dropna()\n",
        "print(df_bank.shape)\n",
        "print(list(df_bank.columns))"
      ],
      "execution_count": null,
      "outputs": []
    },
    {
      "cell_type": "code",
      "metadata": {
        "id": "ZD23hMCeYxFc"
      },
      "source": [
        "df_bank.head()"
      ],
      "execution_count": null,
      "outputs": []
    },
    {
      "cell_type": "markdown",
      "metadata": {
        "id": "CtGbim_EYxFh"
      },
      "source": [
        "#### Input variables"
      ]
    },
    {
      "cell_type": "markdown",
      "metadata": {
        "id": "0pJ7ai5ZYxFh"
      },
      "source": [
        "1 - age (numeric)\n",
        "\n",
        "2 - job : type of job (categorical: 'admin.','blue-collar','entrepreneur','housemaid','management','retired','self-employed','services','student','technician','unemployed','unknown')\n",
        "\n",
        "3 - marital : marital status (categorical: 'divorced','married','single','unknown'; note: 'divorced' means divorced or widowed)\n",
        "\n",
        "4 - education (categorical: 'basic.4y','basic.6y','basic.9y','high.school','illiterate','professional.course','university.degree','unknown')\n",
        "\n",
        "5 - default: has credit in default? (categorical: 'no','yes','unknown')\n",
        "\n",
        "6 - housing: has housing loan? (categorical: 'no','yes','unknown')\n",
        "\n",
        "7 - loan: has personal loan? (categorical: 'no','yes','unknown')\n",
        "\n",
        "8 - contact: contact communication type (categorical: 'cellular','telephone')\n",
        "\n",
        "9 - month: last contact month of year (categorical: 'jan', 'feb', 'mar', ..., 'nov', 'dec')\n",
        "\n",
        "10 - day_of_week: last contact day of the week (categorical: 'mon','tue','wed','thu','fri')\n",
        "\n",
        "11 - duration: last contact duration, in seconds (numeric). Important note: this attribute highly affects the output target (e.g., if duration=0 then y='no'). Yet, the duration is not known before a call is performed. Also, after the end of the call y is obviously known. Thus, this input should only be included for benchmark purposes and should be discarded if the intention is to have a realistic predictive model.\n",
        "\n",
        "12 - campaign: number of contacts performed during this campaign and for this client (numeric, includes last contact)\n",
        "\n",
        "13 - pdays: number of days that passed by after the client was last contacted from a previous campaign (numeric; 999 means client was not previously contacted)\n",
        "\n",
        "14 - previous: number of contacts performed before this campaign and for this client (numeric)\n",
        "\n",
        "15 - poutcome: outcome of the previous marketing campaign (categorical: 'failure','nonexistent','success')\n",
        "\n",
        "16 - emp.var.rate: employment variation rate - (numeric)\n",
        "\n",
        "17 - cons.price.idx: consumer price index - (numeric)\n",
        "\n",
        "18 - cons.conf.idx: consumer confidence index - (numeric) \n",
        "\n",
        "19 - euribor3m: euribor 3 month rate - (numeric)\n",
        "\n",
        "20 - nr.employed: number of employees - (numeric)"
      ]
    },
    {
      "cell_type": "markdown",
      "metadata": {
        "id": "YwsaBV_OYxFi"
      },
      "source": [
        "#### Predict variable (desired target):\n",
        "\n",
        "y - has the client subscribed a term deposit? (binary: '1','0')"
      ]
    },
    {
      "cell_type": "markdown",
      "metadata": {
        "id": "2SsNWV_SYxFj"
      },
      "source": [
        "The education column of the dataset has many categories and we need to reduce the categories for a better modelling. The education column has the following categories:"
      ]
    },
    {
      "cell_type": "code",
      "metadata": {
        "id": "6TFbgh3vYxFk"
      },
      "source": [
        "df_bank['education'].unique()"
      ],
      "execution_count": null,
      "outputs": []
    },
    {
      "cell_type": "markdown",
      "metadata": {
        "id": "luv7Bdf_YxFn"
      },
      "source": [
        "Let us group \"basic.4y\", \"basic.9y\" and \"basic.6y\" together and call them \"basic\"."
      ]
    },
    {
      "cell_type": "code",
      "metadata": {
        "id": "gkOlUOs2YxFn"
      },
      "source": [
        "df_bank['education']=np.where(df_bank['education'] =='basic.9y', 'Basic', df_bank['education'])\n",
        "df_bank['education']=np.where(df_bank['education'] =='basic.6y', 'Basic', df_bank['education'])\n",
        "df_bank['education']=np.where(df_bank['education'] =='basic.4y', 'Basic', df_bank['education'])"
      ],
      "execution_count": null,
      "outputs": []
    },
    {
      "cell_type": "markdown",
      "metadata": {
        "id": "H-X1WMv2YxFq"
      },
      "source": [
        "After grouping, this is the columns"
      ]
    },
    {
      "cell_type": "code",
      "metadata": {
        "id": "r9LlgpkjYxFq"
      },
      "source": [
        "df_bank['education'].unique()"
      ],
      "execution_count": null,
      "outputs": []
    },
    {
      "cell_type": "markdown",
      "metadata": {
        "id": "fcnJy3KYYxFt"
      },
      "source": [
        "### Data exploration"
      ]
    },
    {
      "cell_type": "code",
      "metadata": {
        "id": "qUrTMR8BYxFt"
      },
      "source": [
        "df_bank['y'].value_counts()"
      ],
      "execution_count": null,
      "outputs": []
    },
    {
      "cell_type": "code",
      "metadata": {
        "id": "rpzHnzJKYxFx"
      },
      "source": [
        "sns.countplot(x='y',data=df_bank, palette='hls')\n",
        "plt.show()\n",
        "plt.savefig('count_plot')"
      ],
      "execution_count": null,
      "outputs": []
    },
    {
      "cell_type": "markdown",
      "metadata": {
        "id": "C99nOe3mYxF0"
      },
      "source": [
        "There are 36548 no's and 4640 yes's in the outcome variables."
      ]
    },
    {
      "cell_type": "markdown",
      "metadata": {
        "id": "8nGaox_kYxF1"
      },
      "source": [
        "Let's get a sense of the numbers across the two classes"
      ]
    },
    {
      "cell_type": "code",
      "metadata": {
        "id": "sQvzA60bYxF1"
      },
      "source": [
        "df_bank.groupby('y').mean()"
      ],
      "execution_count": null,
      "outputs": []
    },
    {
      "cell_type": "markdown",
      "metadata": {
        "id": "u3xjoceKYxF3"
      },
      "source": [
        "Observations:\n",
        "\n",
        "The average age of customers who bought the term deposit is higher than that of the customers who didn't.\n",
        "The pdays (days since the customer was last contacted) is understandably lower for the customers who bought it. The lower the pdays, the better the memory of the last call and hence the better chances of a sale.\n",
        "Surprisingly, campaigns (number of contacts or calls made during the current campaign) are lower for customers who bought the term deposit."
      ]
    },
    {
      "cell_type": "markdown",
      "metadata": {
        "id": "jvzGMePPYxF4"
      },
      "source": [
        "We can calculate categorical means for other categorical variables such as education and marital status to get a more detailed sense of our data."
      ]
    },
    {
      "cell_type": "code",
      "metadata": {
        "id": "RqLVMjoxYxF5"
      },
      "source": [
        "df_bank.groupby('job').mean()"
      ],
      "execution_count": null,
      "outputs": []
    },
    {
      "cell_type": "code",
      "metadata": {
        "id": "GTUeRJAtYxF7"
      },
      "source": [
        "df_bank.groupby('marital').mean()"
      ],
      "execution_count": null,
      "outputs": []
    },
    {
      "cell_type": "code",
      "metadata": {
        "id": "xsxdFumiYxF9"
      },
      "source": [
        "df_bank.groupby('education').mean()"
      ],
      "execution_count": null,
      "outputs": []
    },
    {
      "cell_type": "markdown",
      "metadata": {
        "id": "3i1DCWV-YxGA"
      },
      "source": [
        "Visualizations"
      ]
    },
    {
      "cell_type": "code",
      "metadata": {
        "id": "OEArHQPbYxGB"
      },
      "source": [
        "%matplotlib inline\n",
        "pd.crosstab(df_bank.job,df_bank.y).plot(kind='bar')\n",
        "plt.title('Purchase Frequency for Job Title')\n",
        "plt.xlabel('Job')\n",
        "plt.ylabel('Frequency of Purchase')\n",
        "plt.savefig('purchase_fre_job')"
      ],
      "execution_count": null,
      "outputs": []
    },
    {
      "cell_type": "markdown",
      "metadata": {
        "id": "PNwo5du_YxGD"
      },
      "source": [
        "The frequency of purchase of the deposit depends a great deal on the job title. Thus, the job title can be a good predictor of the outcome variable."
      ]
    },
    {
      "cell_type": "code",
      "metadata": {
        "id": "eM7CWfAZYxGE"
      },
      "source": [
        "table=pd.crosstab(df_bank.marital,df_bank.y)\n",
        "table.div(table.sum(1).astype(float), axis=0).plot(kind='bar', stacked=True)\n",
        "plt.title('Stacked Bar Chart of Marital Status vs Purchase')\n",
        "plt.xlabel('Marital Status')\n",
        "plt.ylabel('Proportion of Customers')\n",
        "plt.savefig('mariral_vs_pur_stack')"
      ],
      "execution_count": null,
      "outputs": []
    },
    {
      "cell_type": "markdown",
      "metadata": {
        "id": "LWBLh7toYxGG"
      },
      "source": [
        "Hard to see, but the marital status does not seem a strong predictor for the outcome variable."
      ]
    },
    {
      "cell_type": "code",
      "metadata": {
        "id": "vh_u4QphYxGH"
      },
      "source": [
        "table=pd.crosstab(df_bank.education,df_bank.y)\n",
        "table.div(table.sum(1).astype(float), axis=0).plot(kind='bar', stacked=True)\n",
        "plt.title('Stacked Bar Chart of Education vs Purchase')\n",
        "plt.xlabel('Education')\n",
        "plt.ylabel('Proportion of Customers')\n",
        "plt.savefig('edu_vs_pur_stack')"
      ],
      "execution_count": null,
      "outputs": []
    },
    {
      "cell_type": "markdown",
      "metadata": {
        "id": "d9AgJroYYxGK"
      },
      "source": [
        "Education seems a good predictor of the outcome variable."
      ]
    },
    {
      "cell_type": "code",
      "metadata": {
        "id": "dHI2LT-IYxGL"
      },
      "source": [
        "pd.crosstab(df_bank.day_of_week,df_bank.y).plot(kind='bar')\n",
        "plt.title('Purchase Frequency for Day of Week')\n",
        "plt.xlabel('Day of Week')\n",
        "plt.ylabel('Frequency of Purchase')\n",
        "plt.savefig('pur_dayofweek_bar')"
      ],
      "execution_count": null,
      "outputs": []
    },
    {
      "cell_type": "markdown",
      "metadata": {
        "id": "3A2jmS4MYxGR"
      },
      "source": [
        "Day of week may not be a good predictor of the outcome"
      ]
    },
    {
      "cell_type": "code",
      "metadata": {
        "id": "bzafDBHpYxGS"
      },
      "source": [
        "pd.crosstab(df_bank.month,df_bank.y).plot(kind='bar')\n",
        "plt.title('Purchase Frequency for Month')\n",
        "plt.xlabel('Month')\n",
        "plt.ylabel('Frequency of Purchase')\n",
        "plt.savefig('pur_fre_month_bar')"
      ],
      "execution_count": null,
      "outputs": []
    },
    {
      "cell_type": "markdown",
      "metadata": {
        "id": "x5CBtquEYxGW"
      },
      "source": [
        "Month might be a good predictor of the outcome variable"
      ]
    },
    {
      "cell_type": "code",
      "metadata": {
        "id": "tgF_3SqWYxGY"
      },
      "source": [
        "df_bank.age.hist()\n",
        "plt.title('Histogram of Age')\n",
        "plt.xlabel('Age')\n",
        "plt.ylabel('Frequency')\n",
        "plt.savefig('hist_age')"
      ],
      "execution_count": null,
      "outputs": []
    },
    {
      "cell_type": "markdown",
      "metadata": {
        "id": "y0FhKYDsYxGc"
      },
      "source": [
        "The most of the customers of the bank in this dataset are in the age range of 30-40."
      ]
    },
    {
      "cell_type": "code",
      "metadata": {
        "id": "5Nd3yV7DYxGd"
      },
      "source": [
        "pd.crosstab(df_bank.poutcome,df_bank.y).plot(kind='bar')\n",
        "plt.title('Purchase Frequency for Poutcome')\n",
        "plt.xlabel('Poutcome')\n",
        "plt.ylabel('Frequency of Purchase')\n",
        "plt.savefig('pur_fre_pout_bar')"
      ],
      "execution_count": null,
      "outputs": []
    },
    {
      "cell_type": "markdown",
      "metadata": {
        "id": "oRKUAGrjYxGh"
      },
      "source": [
        "Poutcome seems to be a good predictor of the outcome variable."
      ]
    },
    {
      "cell_type": "markdown",
      "metadata": {
        "id": "63RLRI9uYxGi"
      },
      "source": [
        "### Create dummy variables"
      ]
    },
    {
      "cell_type": "code",
      "metadata": {
        "id": "V8S4WUKmYxGj"
      },
      "source": [
        "cat_vars=['job','marital','education','default','housing','loan','contact','month','day_of_week','poutcome']\n",
        "for var in cat_vars:\n",
        "    cat_list='var'+'_'+var\n",
        "    cat_list = pd.get_dummies(df_bank[var], prefix=var)\n",
        "    df_bank1=df_bank.join(cat_list)\n",
        "    data=df_bank1"
      ],
      "execution_count": null,
      "outputs": []
    },
    {
      "cell_type": "code",
      "metadata": {
        "id": "uX3w9i9WYxGl"
      },
      "source": [
        "cat_vars=['job','marital','education','default','housing','loan','contact','month','day_of_week','poutcome']\n",
        "df_bank_vars=df_bank.columns.values.tolist()\n",
        "to_keep=[i for i in df_bank_vars if i not in cat_vars]"
      ],
      "execution_count": null,
      "outputs": []
    },
    {
      "cell_type": "code",
      "metadata": {
        "id": "cMX_82xaYxGq"
      },
      "source": [
        "df_bank_final=df_bank[to_keep]\n",
        "df_bank_final.columns.values"
      ],
      "execution_count": null,
      "outputs": []
    },
    {
      "cell_type": "code",
      "metadata": {
        "id": "LkTjpxYoYxGr"
      },
      "source": [
        "df_bank_final_vars=df_bank_final.columns.values.tolist()\n",
        "y=['y']\n",
        "X=[i for i in df_bank_final_vars if i not in y]"
      ],
      "execution_count": null,
      "outputs": []
    },
    {
      "cell_type": "markdown",
      "metadata": {
        "id": "2QbKaRcsYxGt"
      },
      "source": [
        "### Feature Selection"
      ]
    },
    {
      "cell_type": "code",
      "metadata": {
        "id": "EkxjW1AQYxGu"
      },
      "source": [
        "from sklearn import datasets\n",
        "from sklearn.feature_selection import RFE\n",
        "from sklearn.linear_model import LogisticRegression\n",
        "\n",
        "logreg = LogisticRegression()\n",
        "\n",
        "rfe = RFE(logreg, 18)\n",
        "rfe = rfe.fit(df_bank_final[X], df_bank_final[y] )\n",
        "print(rfe.support_)\n",
        "print(rfe.ranking_)"
      ],
      "execution_count": null,
      "outputs": []
    },
    {
      "cell_type": "markdown",
      "metadata": {
        "id": "2P9hd4jHYxGw"
      },
      "source": [
        "The Recursive Feature Elimination (RFE) has helped us select the following features: \"previous\", \"euribor3m\", \"job_blue-collar\", \"job_retired\", \"job_services\", \"job_student\", \"default_no\", \"month_aug\", \"month_dec\", \"month_jul\", \"month_nov\", \"month_oct\", \"month_sep\", \"day_of_week_fri\", \"day_of_week_wed\", \"poutcome_failure\", \"poutcome_nonexistent\", \"poutcome_success\"."
      ]
    },
    {
      "cell_type": "code",
      "metadata": {
        "id": "5PW8WZX_YxGx"
      },
      "source": [
        "cols=[\"previous\", \"euribor3m\", \"job_blue-collar\", \"job_retired\", \"job_services\", \"job_student\", \"default_no\", \n",
        "      \"month_aug\", \"month_dec\", \"month_jul\", \"month_nov\", \"month_oct\", \"month_sep\", \"day_of_week_fri\", \"day_of_week_wed\", \n",
        "      \"poutcome_failure\", \"poutcome_nonexistent\", \"poutcome_success\"] \n",
        "X=df_bank_final[cols]\n",
        "y=df_bank_final['y']"
      ],
      "execution_count": null,
      "outputs": []
    },
    {
      "cell_type": "markdown",
      "metadata": {
        "id": "Ix0mN9qxYxG0"
      },
      "source": [
        "### Implementing the model"
      ]
    },
    {
      "cell_type": "code",
      "metadata": {
        "id": "Hbx2bwtiYxG0"
      },
      "source": [
        "import statsmodels.api as sm\n",
        "logit_model=sm.Logit(y,X)\n",
        "result=logit_model.fit()\n",
        "print(result.summary())"
      ],
      "execution_count": null,
      "outputs": []
    },
    {
      "cell_type": "markdown",
      "metadata": {
        "id": "HR1ui-UcYxG2"
      },
      "source": [
        "The p-values for most of the variables are very small, therefore, most of them are significant to the model."
      ]
    },
    {
      "cell_type": "markdown",
      "metadata": {
        "id": "9GHhrsaeYxG3"
      },
      "source": [
        "### Logistic Regression Model Fitting"
      ]
    },
    {
      "cell_type": "code",
      "metadata": {
        "id": "MFQnH5MzYxG3"
      },
      "source": [
        "X_train, X_test, y_train, y_test = train_test_split(X, y, test_size=0.3, random_state=0)\n",
        "from sklearn.linear_model import LogisticRegression\n",
        "from sklearn import metrics\n",
        "logreg = LogisticRegression()\n",
        "logreg.fit(X_train, y_train)"
      ],
      "execution_count": null,
      "outputs": []
    },
    {
      "cell_type": "markdown",
      "metadata": {
        "id": "YUa3QL7tYxG6"
      },
      "source": [
        "#### Predicting the test set results and caculating the accuracy"
      ]
    },
    {
      "cell_type": "code",
      "metadata": {
        "id": "SD-y2e33YxG6"
      },
      "source": [
        "y_pred = logreg.predict(X_test)"
      ],
      "execution_count": null,
      "outputs": []
    },
    {
      "cell_type": "code",
      "metadata": {
        "id": "kkPWzos7YxG-"
      },
      "source": [
        "print('Accuracy of logistic regression classifier on test set: {:.2f}'.format(logreg.score(X_test, y_test)))"
      ],
      "execution_count": null,
      "outputs": []
    },
    {
      "cell_type": "markdown",
      "metadata": {
        "id": "kwC3rt_6YxHA"
      },
      "source": [
        "### Cross Validation"
      ]
    },
    {
      "cell_type": "code",
      "metadata": {
        "id": "Muw50oqSYxHB"
      },
      "source": [
        "from sklearn import model_selection\n",
        "from sklearn.model_selection import cross_val_score\n",
        "kfold = model_selection.KFold(n_splits=10, random_state=7)\n",
        "modelCV = LogisticRegression()\n",
        "scoring = 'accuracy'\n",
        "results = model_selection.cross_val_score(modelCV, X_train, y_train, cv=kfold, scoring=scoring)\n",
        "print(\"10-fold cross validation average accuracy: %.3f\" % (results.mean()))"
      ],
      "execution_count": null,
      "outputs": []
    },
    {
      "cell_type": "markdown",
      "metadata": {
        "id": "4y8XCTqoYxHE"
      },
      "source": [
        "### Confusion Matrix"
      ]
    },
    {
      "cell_type": "code",
      "metadata": {
        "id": "BCza9NkVYxHE"
      },
      "source": [
        "from sklearn.metrics import confusion_matrix\n",
        "confusion_matrix = confusion_matrix(y_test, y_pred)\n",
        "print(confusion_matrix)"
      ],
      "execution_count": null,
      "outputs": []
    },
    {
      "cell_type": "markdown",
      "metadata": {
        "id": "X9SapwS2YxHG"
      },
      "source": [
        "The result is telling us that we have 10872+254 correct predictions and 1122+109 incorrect predictions."
      ]
    },
    {
      "cell_type": "markdown",
      "metadata": {
        "id": "6bEWvWScYxHG"
      },
      "source": [
        "#### Accuracy"
      ]
    },
    {
      "cell_type": "code",
      "metadata": {
        "id": "NaH2nESwYxHH"
      },
      "source": [
        "print('Accuracy of logistic regression classifier on test set: {:.2f}'.format(classifier.score(X_test, y_test)))"
      ],
      "execution_count": null,
      "outputs": []
    },
    {
      "cell_type": "markdown",
      "metadata": {
        "id": "C6oxlhbpYxHJ"
      },
      "source": [
        "#### Compute precision, recall, F-measure and support\n",
        "\n",
        "The precision is the ratio tp / (tp + fp) where tp is the number of true positives and fp the number of false positives. The precision is intuitively the ability of the classifier not to label as positive a sample that is negative.\n",
        "\n",
        "The recall is the ratio tp / (tp + fn) where tp is the number of true positives and fn the number of false negatives. The recall is intuitively the ability of the classifier to find all the positive samples.\n",
        "\n",
        "The F-beta score can be interpreted as a weighted harmonic mean of the precision and recall, where an F-beta score reaches its best value at 1 and worst score at 0.\n",
        "\n",
        "The F-beta score weights recall more than precision by a factor of beta. beta == 1.0 means recall and precision are equally important.\n",
        "\n",
        "The support is the number of occurrences of each class in y_test."
      ]
    },
    {
      "cell_type": "code",
      "metadata": {
        "id": "mhN5_p4yYxHK"
      },
      "source": [
        "from sklearn.metrics import classification_report\n",
        "print(classification_report(y_test, y_pred))"
      ],
      "execution_count": null,
      "outputs": []
    },
    {
      "cell_type": "markdown",
      "metadata": {
        "id": "xzSFVEnAYxHP"
      },
      "source": [
        "#### Interpretation: \n",
        "\n",
        "Of the entire test set, 88% of the promoted term deposit were the term deposit that the customers liked. Of the entire test set, 90% of the customer's preferred term deposit were promoted."
      ]
    },
    {
      "cell_type": "markdown",
      "metadata": {
        "id": "NGXJ6g2nYxHQ"
      },
      "source": [
        "### ROC Curvefrom sklearn import metrics\n",
        "from ggplot import *\n",
        "\n",
        "prob = clf1.predict_proba(X_test)[:,1]\n",
        "fpr, sensitivity, _ = metrics.roc_curve(Y_test, prob)\n",
        "\n",
        "df = pd.DataFrame(dict(fpr=fpr, sensitivity=sensitivity))\n",
        "ggplot(df, aes(x='fpr', y='sensitivity')) +\\\n",
        "    geom_line() +\\\n",
        "    geom_abline(linetype='dashed')"
      ]
    },
    {
      "cell_type": "code",
      "metadata": {
        "id": "u9QKDuS0YxHQ"
      },
      "source": [
        "from sklearn.metrics import roc_auc_score\n",
        "from sklearn.metrics import roc_curve\n",
        "logit_roc_auc = roc_auc_score(y_test, logreg.predict(X_test))\n",
        "fpr, tpr, thresholds = roc_curve(y_test, logreg.predict_proba(X_test)[:,1])\n",
        "plt.figure()\n",
        "plt.plot(fpr, tpr, label='Logistic Regression (area = %0.2f)' % logit_roc_auc)\n",
        "plt.plot([0, 1], [0, 1],'r--')\n",
        "plt.xlim([0.0, 1.0])\n",
        "plt.ylim([0.0, 1.05])\n",
        "plt.xlabel('False Positive Rate')\n",
        "plt.ylabel('True Positive Rate')\n",
        "plt.title('Receiver operating characteristic')\n",
        "plt.legend(loc=\"lower right\")\n",
        "plt.savefig('Log_ROC')\n",
        "plt.show()"
      ],
      "execution_count": null,
      "outputs": []
    }
  ]
}