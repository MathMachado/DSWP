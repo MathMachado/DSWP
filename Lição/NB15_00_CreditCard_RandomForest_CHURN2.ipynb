{
  "nbformat": 4,
  "nbformat_minor": 0,
  "metadata": {
    "colab": {
      "name": "Untitled5.ipynb",
      "provenance": [],
      "authorship_tag": "ABX9TyPyrGs4ydc72D/jENrt90C/",
      "include_colab_link": true
    },
    "kernelspec": {
      "name": "python3",
      "display_name": "Python 3"
    }
  },
  "cells": [
    {
      "cell_type": "markdown",
      "metadata": {
        "id": "view-in-github",
        "colab_type": "text"
      },
      "source": [
        "<a href=\"https://colab.research.google.com/github/cryssoga/DSWP/blob/master/Li%C3%A7%C3%A3o/NB15_00_CreditCard_RandomForest_CHURN2.ipynb\" target=\"_parent\"><img src=\"https://colab.research.google.com/assets/colab-badge.svg\" alt=\"Open In Colab\"/></a>"
      ]
    },
    {
      "cell_type": "code",
      "metadata": {
        "id": "KlVX_Gr4c7mi"
      },
      "source": [
        "import pandas as pd\n",
        "import numpy as np\n",
        "import matplotlib.pyplot as plt\n",
        "\n",
        "url_train = 'https://raw.githubusercontent.com/cryssoga/DSWP/master/Li%C3%A7%C3%A3o/train.csv'\n",
        "url_test = 'https://raw.githubusercontent.com/cryssoga/DSWP/master/Li%C3%A7%C3%A3o/test.csv'\n",
        "url_sample_submission = 'https://raw.githubusercontent.com/cryssoga/DSWP/master/Li%C3%A7%C3%A3o/sample_submission.csv'\n",
        "\n",
        "# Lendo/carregando os dataframes:\n",
        "\n",
        "df_train = pd.read_csv(url_train)\n",
        "df_test = pd.read_csv(url_test)\n",
        "df_sample_submission = pd.read_csv(url_sample_submission)\n",
        "\n",
        "# 'TotalCharges' de object para numeric, mas antes tratando os campos ' ':\n",
        "\n",
        "df_train[df_train['TotalCharges']==' ']\n",
        "df_train['TotalCharges'] = df_train['TotalCharges'].replace(' ', '0')\n",
        "df_train['TotalCharges'] = pd.to_numeric(df_train['TotalCharges'])\n",
        "\n",
        "df_test[df_test['TotalCharges']==' ']\n",
        "df_test['TotalCharges'] = df_test['TotalCharges'].replace(' ', '0')\n",
        "df_test['TotalCharges'] = pd.to_numeric(df_test['TotalCharges'])\n",
        "\n",
        "# Tratando os missing values nas variáveis 'PaymentMethod' (mais frequente), 'Dependents' (mais frequente) e 'tenure' (mediana)\n",
        "\n",
        "df_train['PaymentMethod'].fillna('Eletronic check', inplace=True)\n",
        "df_train['Dependents'].fillna('No',inplace = True)\n",
        "df_train['tenure'].fillna(df_train['tenure'].median(), inplace=True)\n",
        "\n",
        "df_test['PaymentMethod'].fillna('Eletronic check',inplace = True)\n",
        "df_test['Dependents'].fillna('No', inplace=True)\n",
        "df_test['tenure'].fillna(df_test['tenure'].median(),inplace = True)\n",
        "\n",
        "# Dividindo df_train em df_X_train e df_y_train:\n",
        "df_X_train = df_train.drop('Churn',axis=1)\n",
        "df_X_train.head()\n",
        "df_y_train = df_train['Churn']\n"
      ],
      "execution_count": 107,
      "outputs": []
    },
    {
      "cell_type": "code",
      "metadata": {
        "id": "fb6ZikXjdwoF"
      },
      "source": [
        "X_treinamento = df_X_train\n",
        "y_treinamento = df_y_train\n",
        "X_teste = df_test\n",
        "y_teste = df_sample_submission['Churn']"
      ],
      "execution_count": 108,
      "outputs": []
    },
    {
      "cell_type": "code",
      "metadata": {
        "id": "845Zbz9h1c_C"
      },
      "source": [
        "y_teste"
      ],
      "execution_count": null,
      "outputs": []
    },
    {
      "cell_type": "code",
      "metadata": {
        "id": "wOcEuEMrfBEh"
      },
      "source": [
        "# Definindo variáveis globais:\n",
        "i_CV = 10     # número de Cross-Validations (CV)\n",
        "i_Seed = 20111974\n",
        "\n",
        "from sklearn.model_selection import cross_val_score     # para CV (Cross-Validation)\n",
        "from sklearn.model_selection import GridSearchCV        # para GridSearchCV (otimizar os parâmetros dos modelos preditivos)\n",
        "from time import time                                   # requerida na função gridsearchcv\n",
        "from sklearn.ensemble import RandomForestClassifier     # para o RandomForestClassifier\n",
        "from sklearn.metrics import confusion_matrix            # para plotar a confusion matrix\n",
        "import seaborn as sns"
      ],
      "execution_count": 109,
      "outputs": []
    },
    {
      "cell_type": "code",
      "metadata": {
        "id": "yyKeG24repEU"
      },
      "source": [
        "# Função para Cross-Validation:\n",
        "\n",
        "def funcao_cross_val_score(modelo, X_treinamento, y_treinamento, CV):\n",
        "    \n",
        "    #versão com cross_val_score:\n",
        "    a_scores_CV = cross_val_score(modelo, X_treinamento, y_treinamento, cv = CV)\n",
        "    print(f'Média das Acurácias calculadas pelo CV....: {100*round(a_scores_CV.mean(),4)}')\n",
        "    print(f'std médio das Acurácias calculadas pelo CV: {100*round(a_scores_CV.std(),4)}')\n",
        "    return a_scores_CV  # é um array com os scores a cada iteração do CV\n"
      ],
      "execution_count": 110,
      "outputs": []
    },
    {
      "cell_type": "code",
      "metadata": {
        "id": "3aceuye7hmqx"
      },
      "source": [
        "# Função para Confusion Matrix:\n",
        "\n",
        "def mostra_confusion_matrix(cf, \n",
        "                            group_names = None, \n",
        "                            categories = 'auto', \n",
        "                            count = True, \n",
        "                            percent = True, \n",
        "                            cbar = True, \n",
        "                            xyticks = False, \n",
        "                            xyplotlabels = True, \n",
        "                            sum_stats = True, \n",
        "                            figsize = (8, 8), \n",
        "                            cmap = 'Blues'):\n",
        "    '''\n",
        "    This function will make a pretty plot of an sklearn Confusion Matrix cm using a Seaborn heatmap visualization.\n",
        "    Arguments\n",
        "    ---------\n",
        "    cf:            confusion matrix to be passed in\n",
        "    group_names:   List of strings that represent the labels row by row to be shown in each square.\n",
        "    categories:    List of strings containing the categories to be displayed on the x,y axis. Default is 'auto'\n",
        "    count:         If True, show the raw number in the confusion matrix. Default is True.\n",
        "    normalize:     If True, show the proportions for each category. Default is True.\n",
        "    cbar:          If True, show the color bar. The cbar values are based off the values in the confusion matrix.\n",
        "                   Default is True.\n",
        "    xyticks:       If True, show x and y ticks. Default is True.\n",
        "    xyplotlabels:  If True, show 'True Label' and 'Predicted Label' on the figure. Default is True.\n",
        "    sum_stats:     If True, display summary statistics below the figure. Default is True.\n",
        "    figsize:       Tuple representing the figure size. Default will be the matplotlib rcParams value.\n",
        "    cmap:          Colormap of the values displayed from matplotlib.pyplot.cm. Default is 'Blues'\n",
        "                   See http://matplotlib.org/examples/color/colormaps_reference.html\n",
        "    '''\n",
        "\n",
        "    # CODE TO GENERATE TEXT INSIDE EACH SQUARE\n",
        "    blanks = ['' for i in range(cf.size)]\n",
        "\n",
        "    if group_names and len(group_names)==cf.size:\n",
        "        group_labels = [\"{}\\n\".format(value) for value in group_names]\n",
        "    else:\n",
        "        group_labels = blanks\n",
        "\n",
        "    if count:\n",
        "        group_counts = [\"{0:0.0f}\\n\".format(value) for value in cf.flatten()]\n",
        "    else:\n",
        "        group_counts = blanks\n",
        "\n",
        "    if percent:\n",
        "        group_percentages = [\"{0:.2%}\".format(value) for value in cf.flatten()/np.sum(cf)]\n",
        "    else:\n",
        "        group_percentages = blanks\n",
        "\n",
        "    box_labels = [f\"{v1}{v2}{v3}\".strip() for v1, v2, v3 in zip(group_labels,group_counts,group_percentages)]\n",
        "    box_labels = np.asarray(box_labels).reshape(cf.shape[0],cf.shape[1])\n",
        "\n",
        "    # CODE TO GENERATE SUMMARY STATISTICS & TEXT FOR SUMMARY STATS\n",
        "    if sum_stats:\n",
        "        #Accuracy is sum of diagonal divided by total observations\n",
        "        accuracy  = np.trace(cf) / float(np.sum(cf))\n",
        "\n",
        "        #if it is a binary confusion matrix, show some more stats\n",
        "        if len(cf)==2:\n",
        "            #Metrics for Binary Confusion Matrices\n",
        "            precision = cf[1,1] / sum(cf[:,1])\n",
        "            recall    = cf[1,1] / sum(cf[1,:])\n",
        "            f1_score  = 2*precision*recall / (precision + recall)\n",
        "            stats_text = \"\\n\\nAccuracy={:0.3f}\\nPrecision={:0.3f}\\nRecall={:0.3f}\\nF1 Score={:0.3f}\".format(accuracy,precision,recall,f1_score)\n",
        "        else:\n",
        "            stats_text = \"\\n\\nAccuracy={:0.3f}\".format(accuracy)\n",
        "    else:\n",
        "        stats_text = \"\"\n",
        "\n",
        "    # SET FIGURE PARAMETERS ACCORDING TO OTHER ARGUMENTS\n",
        "    if figsize==None:\n",
        "        #Get default figure size if not set\n",
        "        figsize = plt.rcParams.get('figure.figsize')\n",
        "\n",
        "    if xyticks==False:\n",
        "        #Do not show categories if xyticks is False\n",
        "        categories=False\n",
        "\n",
        "    # MAKE THE HEATMAP VISUALIZATION\n",
        "    plt.figure(figsize=figsize)\n",
        "    sns.heatmap(cf,annot=box_labels,fmt=\"\",cmap=cmap,cbar=cbar,xticklabels=categories,yticklabels=categories)\n",
        "\n",
        "    if xyplotlabels:\n",
        "        plt.ylabel('True label')\n",
        "        plt.xlabel('Predicted label' + stats_text)\n",
        "    else:\n",
        "        plt.xlabel(stats_text)"
      ],
      "execution_count": 111,
      "outputs": []
    },
    {
      "cell_type": "code",
      "metadata": {
        "id": "dq1aiuUsfKdU"
      },
      "source": [
        "# função para GridSearchCV:\n",
        "\n",
        "def GridSearchOptimizer(modelo, ml_Opt, d_Parametros, X_treinamento, y_treinamento, X_teste, y_teste, i_CV, l_colunas):\n",
        "    ml_GridSearchCV = GridSearchCV(modelo, d_Parametros, cv = i_CV, n_jobs = -1, verbose= 10, scoring = 'accuracy')\n",
        "    start = time()\n",
        "    ml_GridSearchCV.fit(X_treinamento, y_treinamento)\n",
        "    tempo_elapsed = time()-start\n",
        "    #print(f\"\\nGridSearchCV levou {tempo_elapsed:.2f} segundos.\")\n",
        "\n",
        "    # Parâmetros que otimizam a classificação:\n",
        "    print(f'\\nParametros otimizados: {ml_GridSearchCV.best_params_}')\n",
        "    \n",
        "    if ml_Opt == 'ml_DT2':\n",
        "        print(f'\\nDecisionTreeClassifier *********************************************************************************************************')\n",
        "        ml_Opt = DecisionTreeClassifier(criterion= ml_GridSearchCV.best_params_['criterion'], \n",
        "                                        max_depth= ml_GridSearchCV.best_params_['max_depth'],\n",
        "                                        max_leaf_nodes= ml_GridSearchCV.best_params_['max_leaf_nodes'],\n",
        "                                        min_samples_split= ml_GridSearchCV.best_params_['min_samples_leaf'],\n",
        "                                        min_samples_leaf= ml_GridSearchCV.best_params_['min_samples_split'], \n",
        "                                        random_state= i_Seed)\n",
        "        \n",
        "    elif ml_Opt == 'ml_RF2':\n",
        "        print(f'\\nRandomForestClassifier *********************************************************************************************************')\n",
        "        ml_Opt = RandomForestClassifier(bootstrap= ml_GridSearchCV.best_params_['bootstrap'], \n",
        "                                        max_depth= ml_GridSearchCV.best_params_['max_depth'],\n",
        "                                        max_features= ml_GridSearchCV.best_params_['max_features'],\n",
        "                                        min_samples_leaf= ml_GridSearchCV.best_params_['min_samples_leaf'],\n",
        "                                        min_samples_split= ml_GridSearchCV.best_params_['min_samples_split'],\n",
        "                                        n_estimators= ml_GridSearchCV.best_params_['n_estimators'],\n",
        "                                        random_state= i_Seed)\n",
        "        \n",
        "    elif ml_Opt == 'ml_AB2':\n",
        "        print(f'\\nAdaBoostClassifier *********************************************************************************************************')\n",
        "        ml_Opt = AdaBoostClassifier(algorithm='SAMME.R', \n",
        "                                    base_estimator=RandomForestClassifier(bootstrap = False, \n",
        "                                                                          max_depth = 10, \n",
        "                                                                          max_features = 'auto', \n",
        "                                                                          min_samples_leaf = 1, \n",
        "                                                                          min_samples_split = 2, \n",
        "                                                                          n_estimators = 400), \n",
        "                                    learning_rate = ml_GridSearchCV.best_params_['learning_rate'], \n",
        "                                    n_estimators = ml_GridSearchCV.best_params_['n_estimators'], \n",
        "                                    random_state = i_Seed)\n",
        "        \n",
        "    elif ml_Opt == 'ml_GB2':\n",
        "        print(f'\\nGradientBoostingClassifier *********************************************************************************************************')\n",
        "        ml_Opt = GradientBoostingClassifier(learning_rate = ml_GridSearchCV.best_params_['learning_rate'], \n",
        "                                            n_estimators = ml_GridSearchCV.best_params_['n_estimators'], \n",
        "                                            max_depth = ml_GridSearchCV.best_params_['max_depth'], \n",
        "                                            min_samples_split = ml_GridSearchCV.best_params_['min_samples_split'], \n",
        "                                            min_samples_leaf = ml_GridSearchCV.best_params_['min_samples_leaf'], \n",
        "                                            max_features = ml_GridSearchCV.best_params_['max_features'])\n",
        "        \n",
        "    elif ml_Opt == 'ml_XGB2':\n",
        "        print(f'\\nXGBoostingClassifier *********************************************************************************************************')\n",
        "        ml_Opt = XGBoostingClassifier(learning_rate= ml_GridSearchCV.best_params_['learning_rate'], \n",
        "                                      max_depth= ml_GridSearchCV.best_params_['max_depth'], \n",
        "                                      colsample_bytree= ml_GridSearchCV.best_params_['colsample_bytree'], \n",
        "                                      subsample= ml_GridSearchCV.best_params_['subsample'], \n",
        "                                      gamma= ml_GridSearchCV.best_params_['gamma'], \n",
        "                                      min_child_weight= ml_GridSearchCV.best_params_['min_child_weight'])\n",
        "        \n",
        "    # Treina novamente usando os parametros otimizados...\n",
        "    ml_Opt.fit(X_treinamento, y_treinamento)\n",
        "\n",
        "    # Cross-Validation com 10 folds\n",
        "    print(f'\\n********* CROSS-VALIDATION ***********')\n",
        "    a_scores_CV = funcao_cross_val_score(ml_Opt, X_treinamento, y_treinamento, i_CV)\n",
        "\n",
        "    # Faz predições com os parametros otimizados...\n",
        "    y_pred = ml_Opt.predict(X_teste)\n",
        "  \n",
        "    # Importância das COLUNAS\n",
        "    print(f'\\n********* IMPORTÂNCIA DAS COLUNAS ***********')\n",
        "    df_importancia_variaveis = pd.DataFrame(zip(l_colunas, ml_Opt.feature_importances_), columns= ['coluna', 'importancia'])\n",
        "    df_importancia_variaveis = df_importancia_variaveis.sort_values(by= ['importancia'], ascending=False)\n",
        "    print(df_importancia_variaveis)\n",
        "\n",
        "    # Matriz de Confusão\n",
        "    print(f'\\n********* CONFUSION MATRIX - PARAMETER TUNNING ***********')\n",
        "    cf_matrix = confusion_matrix(y_teste, y_pred)\n",
        "    cf_labels = ['True_Negative', 'False_Positive', 'False_Negative', 'True_Positive']\n",
        "    cf_categories = ['Zero', 'One']\n",
        "    mostra_confusion_matrix(cf_matrix, group_names = cf_labels, categories = cf_categories)\n",
        "\n",
        "    return ml_Opt, ml_GridSearchCV.best_params_\n"
      ],
      "execution_count": 112,
      "outputs": []
    },
    {
      "cell_type": "code",
      "metadata": {
        "id": "hbcuPKzvdgaL"
      },
      "source": [
        ""
      ],
      "execution_count": null,
      "outputs": []
    },
    {
      "cell_type": "markdown",
      "metadata": {
        "id": "VCpExwUEd4G7"
      },
      "source": [
        "RANDOM FORESTER"
      ]
    },
    {
      "cell_type": "code",
      "metadata": {
        "id": "jT60QhopeqBE",
        "outputId": "bec0c078-974f-4905-c9fc-7b3c522ca166",
        "colab": {
          "base_uri": "https://localhost:8080/",
          "height": 309
        }
      },
      "source": [
        "X_treinamento.head()"
      ],
      "execution_count": 113,
      "outputs": [
        {
          "output_type": "execute_result",
          "data": {
            "text/html": [
              "<div>\n",
              "<style scoped>\n",
              "    .dataframe tbody tr th:only-of-type {\n",
              "        vertical-align: middle;\n",
              "    }\n",
              "\n",
              "    .dataframe tbody tr th {\n",
              "        vertical-align: top;\n",
              "    }\n",
              "\n",
              "    .dataframe thead th {\n",
              "        text-align: right;\n",
              "    }\n",
              "</style>\n",
              "<table border=\"1\" class=\"dataframe\">\n",
              "  <thead>\n",
              "    <tr style=\"text-align: right;\">\n",
              "      <th></th>\n",
              "      <th>id</th>\n",
              "      <th>gender</th>\n",
              "      <th>SeniorCitizen</th>\n",
              "      <th>Partner</th>\n",
              "      <th>Dependents</th>\n",
              "      <th>tenure</th>\n",
              "      <th>PhoneService</th>\n",
              "      <th>MultipleLines</th>\n",
              "      <th>InternetService</th>\n",
              "      <th>OnlineSecurity</th>\n",
              "      <th>OnlineBackup</th>\n",
              "      <th>DeviceProtection</th>\n",
              "      <th>TechSupport</th>\n",
              "      <th>StreamingTV</th>\n",
              "      <th>StreamingMovies</th>\n",
              "      <th>Contract</th>\n",
              "      <th>PaperlessBilling</th>\n",
              "      <th>PaymentMethod</th>\n",
              "      <th>MonthlyCharges</th>\n",
              "      <th>TotalCharges</th>\n",
              "    </tr>\n",
              "  </thead>\n",
              "  <tbody>\n",
              "    <tr>\n",
              "      <th>0</th>\n",
              "      <td>4030</td>\n",
              "      <td>Female</td>\n",
              "      <td>0</td>\n",
              "      <td>No</td>\n",
              "      <td>No</td>\n",
              "      <td>56.0</td>\n",
              "      <td>No</td>\n",
              "      <td>No phone service</td>\n",
              "      <td>DSL</td>\n",
              "      <td>Yes</td>\n",
              "      <td>Yes</td>\n",
              "      <td>Yes</td>\n",
              "      <td>Yes</td>\n",
              "      <td>No</td>\n",
              "      <td>No</td>\n",
              "      <td>Two year</td>\n",
              "      <td>No</td>\n",
              "      <td>Eletronic check</td>\n",
              "      <td>45.05</td>\n",
              "      <td>2560.10</td>\n",
              "    </tr>\n",
              "    <tr>\n",
              "      <th>1</th>\n",
              "      <td>6731</td>\n",
              "      <td>Male</td>\n",
              "      <td>0</td>\n",
              "      <td>Yes</td>\n",
              "      <td>Yes</td>\n",
              "      <td>29.0</td>\n",
              "      <td>Yes</td>\n",
              "      <td>No</td>\n",
              "      <td>No</td>\n",
              "      <td>No internet service</td>\n",
              "      <td>No internet service</td>\n",
              "      <td>No internet service</td>\n",
              "      <td>No internet service</td>\n",
              "      <td>No internet service</td>\n",
              "      <td>No internet service</td>\n",
              "      <td>One year</td>\n",
              "      <td>No</td>\n",
              "      <td>Mailed check</td>\n",
              "      <td>19.65</td>\n",
              "      <td>332.65</td>\n",
              "    </tr>\n",
              "    <tr>\n",
              "      <th>2</th>\n",
              "      <td>6479</td>\n",
              "      <td>Female</td>\n",
              "      <td>0</td>\n",
              "      <td>Yes</td>\n",
              "      <td>No</td>\n",
              "      <td>60.0</td>\n",
              "      <td>Yes</td>\n",
              "      <td>Yes</td>\n",
              "      <td>Fiber optic</td>\n",
              "      <td>No</td>\n",
              "      <td>Yes</td>\n",
              "      <td>Yes</td>\n",
              "      <td>Yes</td>\n",
              "      <td>Yes</td>\n",
              "      <td>Yes</td>\n",
              "      <td>Two year</td>\n",
              "      <td>Yes</td>\n",
              "      <td>Credit card (automatic)</td>\n",
              "      <td>110.80</td>\n",
              "      <td>6640.70</td>\n",
              "    </tr>\n",
              "    <tr>\n",
              "      <th>3</th>\n",
              "      <td>6861</td>\n",
              "      <td>Female</td>\n",
              "      <td>0</td>\n",
              "      <td>No</td>\n",
              "      <td>No</td>\n",
              "      <td>37.0</td>\n",
              "      <td>Yes</td>\n",
              "      <td>Yes</td>\n",
              "      <td>Fiber optic</td>\n",
              "      <td>No</td>\n",
              "      <td>Yes</td>\n",
              "      <td>Yes</td>\n",
              "      <td>No</td>\n",
              "      <td>Yes</td>\n",
              "      <td>Yes</td>\n",
              "      <td>Month-to-month</td>\n",
              "      <td>Yes</td>\n",
              "      <td>Bank transfer (automatic)</td>\n",
              "      <td>101.90</td>\n",
              "      <td>3545.35</td>\n",
              "    </tr>\n",
              "    <tr>\n",
              "      <th>4</th>\n",
              "      <td>3266</td>\n",
              "      <td>Male</td>\n",
              "      <td>0</td>\n",
              "      <td>Yes</td>\n",
              "      <td>Yes</td>\n",
              "      <td>29.0</td>\n",
              "      <td>Yes</td>\n",
              "      <td>No</td>\n",
              "      <td>Fiber optic</td>\n",
              "      <td>No</td>\n",
              "      <td>No</td>\n",
              "      <td>No</td>\n",
              "      <td>No</td>\n",
              "      <td>No</td>\n",
              "      <td>No</td>\n",
              "      <td>Month-to-month</td>\n",
              "      <td>Yes</td>\n",
              "      <td>Electronic check</td>\n",
              "      <td>70.75</td>\n",
              "      <td>1974.80</td>\n",
              "    </tr>\n",
              "  </tbody>\n",
              "</table>\n",
              "</div>"
            ],
            "text/plain": [
              "     id  gender  ...  MonthlyCharges TotalCharges\n",
              "0  4030  Female  ...           45.05      2560.10\n",
              "1  6731    Male  ...           19.65       332.65\n",
              "2  6479  Female  ...          110.80      6640.70\n",
              "3  6861  Female  ...          101.90      3545.35\n",
              "4  3266    Male  ...           70.75      1974.80\n",
              "\n",
              "[5 rows x 20 columns]"
            ]
          },
          "metadata": {
            "tags": []
          },
          "execution_count": 113
        }
      ]
    },
    {
      "cell_type": "code",
      "metadata": {
        "id": "103VmK2h3DZu"
      },
      "source": [
        "from sklearn.preprocessing import LabelEncoder, OneHotEncoder\n",
        "le = LabelEncoder()\n",
        "    # 'gender', 'SeniorCitizen', 'Partner', 'Dependents',\n",
        "    # 'PhoneService', 'MultipleLines', 'InternetService', 'OnlineSecurity',\n",
        "    # 'OnlineBackup', 'DeviceProtection', 'TechSupport', 'StreamingTV',\n",
        "    # 'StreamingMovies', 'Contract', 'PaperlessBilling', 'PaymentMethod'\n",
        "X_treinamento['gender_le'] = le.fit_transform(X_treinamento['gender'])\n",
        "X_treinamento['SeniorCitizen_le'] = le.fit_transform(X_treinamento['SeniorCitizen'])\n",
        "X_treinamento['Partner_le'] = le.fit_transform(X_treinamento['Partner'])\n",
        "X_treinamento['Dependents_le'] = le.fit_transform(X_treinamento['Dependents'])\n",
        "X_treinamento['PhoneService_le'] = le.fit_transform(X_treinamento['PhoneService'])\n",
        "X_treinamento['MultipleLines_le'] = le.fit_transform(X_treinamento['MultipleLines'])\n",
        "X_treinamento['InternetService_le'] = le.fit_transform(X_treinamento['InternetService'])\n",
        "X_treinamento['OnlineSecurity_le'] = le.fit_transform(X_treinamento['OnlineSecurity'])\n",
        "X_treinamento['OnlineBackup_le'] = le.fit_transform(X_treinamento['OnlineBackup'])\n",
        "X_treinamento['DeviceProtection_le'] = le.fit_transform(X_treinamento['DeviceProtection'])\n",
        "X_treinamento['TechSupport_le'] = le.fit_transform(X_treinamento['TechSupport'])\n",
        "X_treinamento['StreamingTV_le'] = le.fit_transform(X_treinamento['StreamingTV'])\n",
        "X_treinamento['StreamingMovies_le'] = le.fit_transform(X_treinamento['StreamingMovies'])\n",
        "X_treinamento['Contract_le'] = le.fit_transform(X_treinamento['Contract'])\n",
        "X_treinamento['PaperlessBilling_le'] = le.fit_transform(X_treinamento['PaperlessBilling'])\n",
        "X_treinamento['PaymentMethod_le'] = le.fit_transform(X_treinamento['PaymentMethod'])"
      ],
      "execution_count": 114,
      "outputs": []
    },
    {
      "cell_type": "code",
      "metadata": {
        "id": "j-BMi6xM5Ltf"
      },
      "source": [
        "from sklearn.preprocessing import LabelEncoder, OneHotEncoder\n",
        "le = LabelEncoder()\n",
        "    # 'gender', 'SeniorCitizen', 'Partner', 'Dependents',\n",
        "    # 'PhoneService', 'MultipleLines', 'InternetService', 'OnlineSecurity',\n",
        "    # 'OnlineBackup', 'DeviceProtection', 'TechSupport', 'StreamingTV',\n",
        "    # 'StreamingMovies', 'Contract', 'PaperlessBilling', 'PaymentMethod'\n",
        "X_teste['gender_le'] = le.fit_transform(X_teste['gender'])\n",
        "X_teste['SeniorCitizen_le'] = le.fit_transform(X_teste['SeniorCitizen'])\n",
        "X_teste['Partner_le'] = le.fit_transform(X_teste['Partner'])\n",
        "X_teste['Dependents_le'] = le.fit_transform(X_teste['Dependents'])\n",
        "X_teste['PhoneService_le'] = le.fit_transform(X_teste['PhoneService'])\n",
        "X_teste['MultipleLines_le'] = le.fit_transform(X_teste['MultipleLines'])\n",
        "X_teste['InternetService_le'] = le.fit_transform(X_teste['InternetService'])\n",
        "X_teste['OnlineSecurity_le'] = le.fit_transform(X_teste['OnlineSecurity'])\n",
        "X_teste['OnlineBackup_le'] = le.fit_transform(X_teste['OnlineBackup'])\n",
        "X_teste['DeviceProtection_le'] = le.fit_transform(X_teste['DeviceProtection'])\n",
        "X_teste['TechSupport_le'] = le.fit_transform(X_teste['TechSupport'])\n",
        "X_teste['StreamingTV_le'] = le.fit_transform(X_teste['StreamingTV'])\n",
        "X_teste['StreamingMovies_le'] = le.fit_transform(X_teste['StreamingMovies'])\n",
        "X_teste['Contract_le'] = le.fit_transform(X_teste['Contract'])\n",
        "X_teste['PaperlessBilling_le'] = le.fit_transform(X_teste['PaperlessBilling'])\n",
        "X_teste['PaymentMethod_le'] = le.fit_transform(X_teste['PaymentMethod'])"
      ],
      "execution_count": 115,
      "outputs": []
    },
    {
      "cell_type": "code",
      "metadata": {
        "id": "3M9ExAgQ3QsM"
      },
      "source": [
        "X_teste.columns"
      ],
      "execution_count": null,
      "outputs": []
    },
    {
      "cell_type": "code",
      "metadata": {
        "id": "G3FL8Trc3Vlm"
      },
      "source": [
        "X_treinamento = X_treinamento.drop(['id','gender', 'SeniorCitizen', 'Partner', 'Dependents',\n",
        "                                 'PhoneService', 'MultipleLines', 'InternetService', 'OnlineSecurity',\n",
        "                                 'OnlineBackup', 'DeviceProtection', 'TechSupport', 'StreamingTV',\n",
        "                                 'StreamingMovies', 'Contract', 'PaperlessBilling', 'PaymentMethod'],axis=1)"
      ],
      "execution_count": 116,
      "outputs": []
    },
    {
      "cell_type": "code",
      "metadata": {
        "id": "w7xZtIPM61Qu"
      },
      "source": [
        "X_teste = X_teste.drop(['id','gender', 'SeniorCitizen', 'Partner', 'Dependents',\n",
        "                                 'PhoneService', 'MultipleLines', 'InternetService', 'OnlineSecurity',\n",
        "                                 'OnlineBackup', 'DeviceProtection', 'TechSupport', 'StreamingTV',\n",
        "                                 'StreamingMovies', 'Contract', 'PaperlessBilling', 'PaymentMethod'],axis=1)"
      ],
      "execution_count": 117,
      "outputs": []
    },
    {
      "cell_type": "code",
      "metadata": {
        "id": "XmZfudjud095",
        "outputId": "2cfe6fd2-b9ad-409e-8804-60103a44e43b",
        "colab": {
          "base_uri": "https://localhost:8080/"
        }
      },
      "source": [
        "# RandomForestClassifier\n",
        "\n",
        "# Instancia...\n",
        "ml_RF= RandomForestClassifier(n_estimators=100, min_samples_split= 2, max_features=\"auto\", random_state = i_Seed)\n",
        "\n",
        "# Treina...\n",
        "ml_RF.fit(X_treinamento, y_treinamento)"
      ],
      "execution_count": 119,
      "outputs": [
        {
          "output_type": "execute_result",
          "data": {
            "text/plain": [
              "RandomForestClassifier(bootstrap=True, ccp_alpha=0.0, class_weight=None,\n",
              "                       criterion='gini', max_depth=None, max_features='auto',\n",
              "                       max_leaf_nodes=None, max_samples=None,\n",
              "                       min_impurity_decrease=0.0, min_impurity_split=None,\n",
              "                       min_samples_leaf=1, min_samples_split=2,\n",
              "                       min_weight_fraction_leaf=0.0, n_estimators=100,\n",
              "                       n_jobs=None, oob_score=False, random_state=20111974,\n",
              "                       verbose=0, warm_start=False)"
            ]
          },
          "metadata": {
            "tags": []
          },
          "execution_count": 119
        }
      ]
    },
    {
      "cell_type": "code",
      "metadata": {
        "id": "KYealO4_exlO",
        "outputId": "a1ef571a-58a4-4569-d8e4-abb5bc359fea",
        "colab": {
          "base_uri": "https://localhost:8080/"
        }
      },
      "source": [
        "ml_RF"
      ],
      "execution_count": 120,
      "outputs": [
        {
          "output_type": "execute_result",
          "data": {
            "text/plain": [
              "RandomForestClassifier(bootstrap=True, ccp_alpha=0.0, class_weight=None,\n",
              "                       criterion='gini', max_depth=None, max_features='auto',\n",
              "                       max_leaf_nodes=None, max_samples=None,\n",
              "                       min_impurity_decrease=0.0, min_impurity_split=None,\n",
              "                       min_samples_leaf=1, min_samples_split=2,\n",
              "                       min_weight_fraction_leaf=0.0, n_estimators=100,\n",
              "                       n_jobs=None, oob_score=False, random_state=20111974,\n",
              "                       verbose=0, warm_start=False)"
            ]
          },
          "metadata": {
            "tags": []
          },
          "execution_count": 120
        }
      ]
    },
    {
      "cell_type": "code",
      "metadata": {
        "id": "fdB5kp6rezy8",
        "outputId": "981baa8a-eea1-4a86-9f9d-908b76ebcae4",
        "colab": {
          "base_uri": "https://localhost:8080/"
        }
      },
      "source": [
        "# Chama a função do Cross-Validation:\n",
        "\n",
        "a_scores_CV = funcao_cross_val_score(ml_RF, X_treinamento, y_treinamento, i_CV)"
      ],
      "execution_count": 121,
      "outputs": [
        {
          "output_type": "stream",
          "text": [
            "Média das Acurácias calculadas pelo CV....: 80.17\n",
            "std médio das Acurácias calculadas pelo CV: 1.71\n"
          ],
          "name": "stdout"
        }
      ]
    },
    {
      "cell_type": "code",
      "metadata": {
        "id": "I91zRYu6e8gb",
        "outputId": "7500f82f-bba5-49d4-9f53-472e9dc48505",
        "colab": {
          "base_uri": "https://localhost:8080/"
        }
      },
      "source": [
        "print(f'Acurácias: {a_scores_CV}')"
      ],
      "execution_count": 122,
      "outputs": [
        {
          "output_type": "stream",
          "text": [
            "Acurácias: [0.82092199 0.79255319 0.78014184 0.77659574 0.79040853 0.82060391\n",
            " 0.8312611  0.79751332 0.80284192 0.80461812]\n"
          ],
          "name": "stdout"
        }
      ]
    },
    {
      "cell_type": "code",
      "metadata": {
        "id": "x-zgcCxjgPwc"
      },
      "source": [
        "# Faz predições...\n",
        "y_pred = ml_RF.predict(X_teste)"
      ],
      "execution_count": 123,
      "outputs": []
    },
    {
      "cell_type": "code",
      "metadata": {
        "id": "AhG2VL4kCx3o",
        "outputId": "1b627aea-6d10-4fec-e77e-8bb1485d21df",
        "colab": {
          "base_uri": "https://localhost:8080/"
        }
      },
      "source": [
        "y_pred.shape"
      ],
      "execution_count": 124,
      "outputs": [
        {
          "output_type": "execute_result",
          "data": {
            "text/plain": [
              "(1409,)"
            ]
          },
          "metadata": {
            "tags": []
          },
          "execution_count": 124
        }
      ]
    },
    {
      "cell_type": "code",
      "metadata": {
        "id": "8P0KebqEDIYX",
        "outputId": "455a4cad-a9ee-4a7b-aeea-eaa222638646",
        "colab": {
          "base_uri": "https://localhost:8080/"
        }
      },
      "source": [
        "y_teste.shape"
      ],
      "execution_count": 125,
      "outputs": [
        {
          "output_type": "execute_result",
          "data": {
            "text/plain": [
              "(1409,)"
            ]
          },
          "metadata": {
            "tags": []
          },
          "execution_count": 125
        }
      ]
    },
    {
      "cell_type": "code",
      "metadata": {
        "id": "VmM-mBPhIOXa"
      },
      "source": [
        ""
      ],
      "execution_count": null,
      "outputs": []
    },
    {
      "cell_type": "code",
      "metadata": {
        "id": "c3WKD635gXh1",
        "outputId": "4084e5e5-07e2-489a-cdfb-42dffdd6c73a",
        "colab": {
          "base_uri": "https://localhost:8080/",
          "height": 538
        }
      },
      "source": [
        "# Confusion Matrix\n",
        "# chama a função confusion matrix:\n",
        "\n",
        "cf_matrix = confusion_matrix(y_teste, y_pred)\n",
        "cf_labels = ['True_Negative','False_Positive','False_Negative','True_Positive']\n",
        "cf_categories = ['Zero', 'One']\n",
        "mostra_confusion_matrix(cf_matrix, group_names= cf_labels, categories= cf_categories)"
      ],
      "execution_count": 126,
      "outputs": [
        {
          "output_type": "display_data",
          "data": {
            "image/png": "[encoded data removed]",
            "text/plain": [
              "<Figure size 576x576 with 2 Axes>"
            ]
          },
          "metadata": {
            "tags": [],
            "needs_background": "light"
          }
        }
      ]
    },
    {
      "cell_type": "code",
      "metadata": {
        "id": "ktLaz0k1inS2"
      },
      "source": [
        "# Dicionário de parâmetros para o parameter tunning.\n",
        "d_hiperparametros_RF= {'bootstrap': [True, False],\n",
        "                  'max_depth': [10, 20, 30, 40, 50, 60, 70, 80, 90, 100, None],\n",
        "                  'max_features': ['auto', 'sqrt'],\n",
        "                  'min_samples_leaf': [1, 2, 4],\n",
        "                  'min_samples_split': [2, 5, 10],\n",
        "                  'n_estimators': [200, 400, 600, 800, 1000, 1200, 1400, 1600, 1800, 2000]}"
      ],
      "execution_count": 127,
      "outputs": []
    },
    {
      "cell_type": "code",
      "metadata": {
        "id": "csDfhf95n9_o",
        "outputId": "e4ca235b-1add-4c4b-c75b-c6a63ac0ba08",
        "colab": {
          "base_uri": "https://localhost:8080/"
        }
      },
      "source": [
        "l_colunas = X_treinamento.columns\n",
        "l_colunas"
      ],
      "execution_count": 129,
      "outputs": [
        {
          "output_type": "execute_result",
          "data": {
            "text/plain": [
              "Index(['tenure', 'MonthlyCharges', 'TotalCharges', 'gender_le',\n",
              "       'SeniorCitizen_le', 'Partner_le', 'Dependents_le', 'PhoneService_le',\n",
              "       'MultipleLines_le', 'InternetService_le', 'OnlineSecurity_le',\n",
              "       'OnlineBackup_le', 'DeviceProtection_le', 'TechSupport_le',\n",
              "       'StreamingTV_le', 'StreamingMovies_le', 'Contract_le',\n",
              "       'PaperlessBilling_le', 'PaymentMethod_le'],\n",
              "      dtype='object')"
            ]
          },
          "metadata": {
            "tags": []
          },
          "execution_count": 129
        }
      ]
    },
    {
      "cell_type": "code",
      "metadata": {
        "id": "du6RhlwYkoou",
        "outputId": "d0f916c0-cb3a-4bd0-ead7-c874d07adbe8",
        "colab": {
          "base_uri": "https://localhost:8080/"
        }
      },
      "source": [
        "# Invoca a função do GridSearch\n",
        "\n",
        "ml_RF2, best_params = GridSearchOptimizer(ml_RF, 'ml_RF2', d_hiperparametros_RF, X_treinamento, y_treinamento, X_teste, y_teste, i_CV, l_colunas)"
      ],
      "execution_count": null,
      "outputs": [
        {
          "output_type": "stream",
          "text": [
            "Fitting 10 folds for each of 3960 candidates, totalling 39600 fits\n"
          ],
          "name": "stdout"
        },
        {
          "output_type": "stream",
          "text": [
            "[Parallel(n_jobs=-1)]: Using backend LokyBackend with 2 concurrent workers.\n",
            "[Parallel(n_jobs=-1)]: Done   1 tasks      | elapsed:    2.9s\n",
            "[Parallel(n_jobs=-1)]: Done   4 tasks      | elapsed:    4.6s\n",
            "[Parallel(n_jobs=-1)]: Done   9 tasks      | elapsed:    9.3s\n",
            "[Parallel(n_jobs=-1)]: Done  14 tasks      | elapsed:   15.7s\n",
            "[Parallel(n_jobs=-1)]: Done  21 tasks      | elapsed:   30.1s\n"
          ],
          "name": "stderr"
        }
      ]
    },
    {
      "cell_type": "code",
      "metadata": {
        "id": "r97xPbTcgd6k"
      },
      "source": [
        "Guardar resultado\n",
        "\n",
        "# Invoca a função do GridSearch\n",
        "\n",
        "ml_RF2, best_params = GridSearchOptimizer(ml_RF, 'ml_RF2', d_hiperparametros_RF, X_treinamento, y_treinamento, X_teste, y_teste, i_CV, l_colunas)\n"
      ],
      "execution_count": null,
      "outputs": []
    },
    {
      "cell_type": "code",
      "metadata": {
        "id": "wb0uWXW4jBMP"
      },
      "source": [
        "NÃO EXECUTAR => Resultado:\n",
        "\n",
        "Fitting 5 folds for each of 72 candidates, totalling 360 fits\n",
        "\n",
        "Parametros otimizados: {'bootstrap': True, 'max_depth': None, 'max_features': 'auto', 'min_samples_leaf': 4, 'min_samples_split': 2, 'n_estimators': 200}\n",
        "\n",
        "RandomForestClassifier *********************************************************************************************************\n",
        "\n",
        "********* CROSS-VALIDATION ***********\n",
        "Média das Acurácias calculadas pelo CV....: 80.74\n",
        "std médio das Acurácias calculadas pelo CV: 1.22\n",
        "\n",
        "********* IMPORTÂNCIA DAS COLUNAS ***********\n",
        "                 coluna  importancia\n",
        "3          TotalCharges     0.141395\n",
        "1                tenure     0.140422\n",
        "17          Contract_le     0.135134\n",
        "2        MonthlyCharges     0.130394\n",
        "0                    id     0.085080\n",
        "11    OnlineSecurity_le     0.066907\n",
        "14       TechSupport_le     0.055226\n",
        "10   InternetService_le     0.043498\n",
        "19     PaymentMethod_le     0.032531\n",
        "12      OnlineBackup_le     0.028818\n",
        "13  DeviceProtection_le     0.022682\n",
        "18  PaperlessBilling_le     0.019800\n",
        "4             gender_le     0.016114\n",
        "9      MultipleLines_le     0.014936\n",
        "15       StreamingTV_le     0.014094\n",
        "16   StreamingMovies_le     0.013323\n",
        "6            Partner_le     0.013253\n",
        "5      SeniorCitizen_le     0.013109\n",
        "7         Dependents_le     0.009333\n",
        "8       PhoneService_le     0.003954\n",
        "\n",
        "********* CONFUSION MATRIX - PARAMETER TUNNING ***********\n"
      ],
      "execution_count": null,
      "outputs": []
    },
    {
      "cell_type": "code",
      "metadata": {
        "id": "nOWGPBZ3jNlk"
      },
      "source": [
        ""
      ],
      "execution_count": null,
      "outputs": []
    },
    {
      "cell_type": "code",
      "metadata": {
        "id": "1lp_dDyAjgNn"
      },
      "source": [
        "# RandomForestClassifier\n",
        "\n",
        "# Instancia...\n",
        "ml_RF= RandomForestClassifier(n_estimators=200, min_samples_split= 2, max_features=\"auto\")\n",
        "\n",
        "# Treina...\n",
        "ml_RF.fit(X_treinamento, y_treinamento)\n",
        "\n",
        "a_scores_CV = funcao_cross_val_score(ml_RF, X_treinamento, y_treinamento, i_CV)\n",
        "\n",
        "# Faz predições...\n",
        "y_pred = ml_RF.predict(X_teste)\n",
        "\n",
        "# Dicionário de parâmetros para o parameter tunning.\n",
        "d_hiperparametros_RF= {'bootstrap': [True, False],\n",
        "                  'max_depth': [10,None],#[10, 20, 30, 40, 50, 60, 70, 80, 90, 100, None],\n",
        "                  'max_features': ['auto', 'sqrt'],\n",
        "                  'min_samples_leaf': [1, 2, 4],\n",
        "                  'min_samples_split': [2, 5, 10],\n",
        "                  'n_estimators': [200]}#[200, 400, 600, 800, 1000, 1200, 1400, 1600, 1800, 2000]}"
      ],
      "execution_count": null,
      "outputs": []
    },
    {
      "cell_type": "code",
      "metadata": {
        "id": "D3xEahWMkLEd"
      },
      "source": [
        "# Confusion Matrix\n",
        "# chama a função confusion matrix:\n",
        "\n",
        "cf_matrix = confusion_matrix(y_teste, y_pred)\n",
        "cf_labels = ['True_Negative','False_Positive','False_Negative','True_Positive']\n",
        "cf_categories = ['Zero', 'One']\n",
        "mostra_confusion_matrix(cf_matrix, group_names= cf_labels, categories= cf_categories)"
      ],
      "execution_count": null,
      "outputs": []
    },
    {
      "cell_type": "code",
      "metadata": {
        "id": "HmMqTEeCkMMm"
      },
      "source": [
        "# Dicionário de parâmetros para o parameter tunning.\n",
        "d_hiperparametros_RF= {'bootstrap': [True],\n",
        "                  'max_depth': [None],#[10, 20, 30, 40, 50, 60, 70, 80, 90, 100, None],\n",
        "                  'max_features': ['auto'],\n",
        "                  'min_samples_leaf': [4],\n",
        "                  'min_samples_split': [2]],\n",
        "                  'n_estimators': [200]}#[200, 400, 600, 800, 1000, 1200, 1400, 1600, 1800, 2000]}"
      ],
      "execution_count": null,
      "outputs": []
    },
    {
      "cell_type": "code",
      "metadata": {
        "id": "T0zq9Wq0geTC"
      },
      "source": [
        "# Visualizar os resultados:\n",
        "from sklearn.tree import export_graphviz\n",
        "from sklearn.externals.six import StringIO  \n",
        "from IPython.display import Image  \n",
        "import pydotplus\n",
        "\n",
        "np.set_printoptions(suppress=True)\n",
        "\n",
        "dot_data = StringIO()\n",
        "export_graphviz(ml_RF2, out_file = dot_data, filled = True, rounded = True, special_characters = True, feature_names = l_colunas, class_names = ['0','1'])\n",
        "\n",
        "graph = pydotplus.graph_from_dot_data(dot_data.getvalue())  \n",
        "graph.write_png('DecisionTree.png')\n",
        "Image(graph.create_png())"
      ],
      "execution_count": null,
      "outputs": []
    }
  ]
}