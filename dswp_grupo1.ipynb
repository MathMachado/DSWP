{
  "nbformat": 4,
  "nbformat_minor": 0,
  "metadata": {
    "colab": {
      "name": "dswp_grupo1.ipynb",
      "provenance": [],
      "collapsed_sections": [
        "evJ7TDj6vEu-"
      ],
      "include_colab_link": true
    },
    "kernelspec": {
      "name": "python3",
      "display_name": "Python 3"
    }
  },
  "cells": [
    {
      "cell_type": "markdown",
      "metadata": {
        "id": "view-in-github",
        "colab_type": "text"
      },
      "source": [
        "<a href=\"https://colab.research.google.com/github/fagnercandido/DSWP/blob/master/dswp_grupo1.ipynb\" target=\"_parent\"><img src=\"https://colab.research.google.com/assets/colab-badge.svg\" alt=\"Open In Colab\"/></a>"
      ]
    },
    {
      "cell_type": "markdown",
      "metadata": {
        "id": "s7mYPjzGX56N",
        "colab_type": "text"
      },
      "source": [
        "#**CRISP-DM PROCESS**"
      ]
    },
    {
      "cell_type": "markdown",
      "metadata": {
        "id": "IFXrXGs7X5_g",
        "colab_type": "text"
      },
      "source": [
        "#**1BU - BUSINESS UNDERSTANDING**"
      ]
    },
    {
      "cell_type": "markdown",
      "metadata": {
        "id": "-s6WZlGTZP3U",
        "colab_type": "text"
      },
      "source": [
        "> **Objstivo desta fase:** Compreender o que se deseja alcançar ou conhecer a partir de uma perspectiva de negócios."
      ]
    },
    {
      "cell_type": "markdown",
      "metadata": {
        "id": "aw0OMuB7ndqb",
        "colab_type": "text"
      },
      "source": [
        "Desenvolver um Modelo de *Machine Learning* que seja capaz de estimar, com significativa acurácia, se uma pessoa ganhará, no ano, mais que 50k dólares."
      ]
    },
    {
      "cell_type": "markdown",
      "metadata": {
        "id": "QGvTW7tjX6Bx",
        "colab_type": "text"
      },
      "source": [
        "#**2DU - DATA UNDERSTANDING**"
      ]
    },
    {
      "cell_type": "markdown",
      "metadata": {
        "id": "7bI9K3YWZehy",
        "colab_type": "text"
      },
      "source": [
        "> **Objetivo desta fase:** Coleta e exploração dos dados. Exploração do dataframe, descobrir relações e descrever os dados em geral. Utilize-se das técnicas de Data Visualization para detectar relações relevantes entre as variáveis, desequilíbrios de classes e identificar variáveis mais importantes."
      ]
    },
    {
      "cell_type": "markdown",
      "metadata": {
        "id": "BAHN39XGvSAP",
        "colab_type": "text"
      },
      "source": [
        "###Criar um dataframe a partir do ficheiro"
      ]
    },
    {
      "cell_type": "code",
      "metadata": {
        "id": "uRVg-TUebJ7v",
        "colab_type": "code",
        "colab": {}
      },
      "source": [
        "# Carrega a library Pandas\n",
        "import pandas as pd\n",
        "import numpy as np"
      ],
      "execution_count": 0,
      "outputs": []
    },
    {
      "cell_type": "code",
      "metadata": {
        "id": "0YTMtMPRbSYD",
        "colab_type": "code",
        "outputId": "1cddfd01-1514-464c-ac48-eeec5cfdfed8",
        "colab": {
          "base_uri": "https://localhost:8080/",
          "height": 34
        }
      },
      "source": [
        "df_50k = pd.read_csv('https://raw.githubusercontent.com/MathMachado/DSWP/master/Dataframes/adult.data')\n",
        "print(f'Ficheiro com {df_50k.shape[0]} linhas e {df_50k.shape[1]} colunas') "
      ],
      "execution_count": 55,
      "outputs": [
        {
          "output_type": "stream",
          "text": [
            "Ficheiro com 32560 linhas e 15 colunas\n"
          ],
          "name": "stdout"
        }
      ]
    },
    {
      "cell_type": "code",
      "metadata": {
        "id": "Lxq7B1Vnv1Ys",
        "colab_type": "code",
        "outputId": "4301db95-5371-448e-89bd-3bfc8d3b51ec",
        "colab": {
          "base_uri": "https://localhost:8080/",
          "height": 296
        }
      },
      "source": [
        "#Detecção de que o ficheiro não tem header\n",
        "df_50k.head(5)"
      ],
      "execution_count": 0,
      "outputs": [
        {
          "output_type": "execute_result",
          "data": {
            "text/html": [
              "<div>\n",
              "<style scoped>\n",
              "    .dataframe tbody tr th:only-of-type {\n",
              "        vertical-align: middle;\n",
              "    }\n",
              "\n",
              "    .dataframe tbody tr th {\n",
              "        vertical-align: top;\n",
              "    }\n",
              "\n",
              "    .dataframe thead th {\n",
              "        text-align: right;\n",
              "    }\n",
              "</style>\n",
              "<table border=\"1\" class=\"dataframe\">\n",
              "  <thead>\n",
              "    <tr style=\"text-align: right;\">\n",
              "      <th></th>\n",
              "      <th>39</th>\n",
              "      <th>State-gov</th>\n",
              "      <th>77516</th>\n",
              "      <th>Bachelors</th>\n",
              "      <th>13</th>\n",
              "      <th>Never-married</th>\n",
              "      <th>Adm-clerical</th>\n",
              "      <th>Not-in-family</th>\n",
              "      <th>White</th>\n",
              "      <th>Male</th>\n",
              "      <th>2174</th>\n",
              "      <th>0</th>\n",
              "      <th>40</th>\n",
              "      <th>United-States</th>\n",
              "      <th>&lt;=50K</th>\n",
              "    </tr>\n",
              "  </thead>\n",
              "  <tbody>\n",
              "    <tr>\n",
              "      <th>0</th>\n",
              "      <td>50</td>\n",
              "      <td>Self-emp-not-inc</td>\n",
              "      <td>83311</td>\n",
              "      <td>Bachelors</td>\n",
              "      <td>13</td>\n",
              "      <td>Married-civ-spouse</td>\n",
              "      <td>Exec-managerial</td>\n",
              "      <td>Husband</td>\n",
              "      <td>White</td>\n",
              "      <td>Male</td>\n",
              "      <td>0</td>\n",
              "      <td>0</td>\n",
              "      <td>13</td>\n",
              "      <td>United-States</td>\n",
              "      <td>&lt;=50K</td>\n",
              "    </tr>\n",
              "    <tr>\n",
              "      <th>1</th>\n",
              "      <td>38</td>\n",
              "      <td>Private</td>\n",
              "      <td>215646</td>\n",
              "      <td>HS-grad</td>\n",
              "      <td>9</td>\n",
              "      <td>Divorced</td>\n",
              "      <td>Handlers-cleaners</td>\n",
              "      <td>Not-in-family</td>\n",
              "      <td>White</td>\n",
              "      <td>Male</td>\n",
              "      <td>0</td>\n",
              "      <td>0</td>\n",
              "      <td>40</td>\n",
              "      <td>United-States</td>\n",
              "      <td>&lt;=50K</td>\n",
              "    </tr>\n",
              "    <tr>\n",
              "      <th>2</th>\n",
              "      <td>53</td>\n",
              "      <td>Private</td>\n",
              "      <td>234721</td>\n",
              "      <td>11th</td>\n",
              "      <td>7</td>\n",
              "      <td>Married-civ-spouse</td>\n",
              "      <td>Handlers-cleaners</td>\n",
              "      <td>Husband</td>\n",
              "      <td>Black</td>\n",
              "      <td>Male</td>\n",
              "      <td>0</td>\n",
              "      <td>0</td>\n",
              "      <td>40</td>\n",
              "      <td>United-States</td>\n",
              "      <td>&lt;=50K</td>\n",
              "    </tr>\n",
              "    <tr>\n",
              "      <th>3</th>\n",
              "      <td>28</td>\n",
              "      <td>Private</td>\n",
              "      <td>338409</td>\n",
              "      <td>Bachelors</td>\n",
              "      <td>13</td>\n",
              "      <td>Married-civ-spouse</td>\n",
              "      <td>Prof-specialty</td>\n",
              "      <td>Wife</td>\n",
              "      <td>Black</td>\n",
              "      <td>Female</td>\n",
              "      <td>0</td>\n",
              "      <td>0</td>\n",
              "      <td>40</td>\n",
              "      <td>Cuba</td>\n",
              "      <td>&lt;=50K</td>\n",
              "    </tr>\n",
              "    <tr>\n",
              "      <th>4</th>\n",
              "      <td>37</td>\n",
              "      <td>Private</td>\n",
              "      <td>284582</td>\n",
              "      <td>Masters</td>\n",
              "      <td>14</td>\n",
              "      <td>Married-civ-spouse</td>\n",
              "      <td>Exec-managerial</td>\n",
              "      <td>Wife</td>\n",
              "      <td>White</td>\n",
              "      <td>Female</td>\n",
              "      <td>0</td>\n",
              "      <td>0</td>\n",
              "      <td>40</td>\n",
              "      <td>United-States</td>\n",
              "      <td>&lt;=50K</td>\n",
              "    </tr>\n",
              "  </tbody>\n",
              "</table>\n",
              "</div>"
            ],
            "text/plain": [
              "   39          State-gov   77516   Bachelors  ...   0  40   United-States   <=50K\n",
              "0  50   Self-emp-not-inc   83311   Bachelors  ...   0  13   United-States   <=50K\n",
              "1  38            Private  215646     HS-grad  ...   0  40   United-States   <=50K\n",
              "2  53            Private  234721        11th  ...   0  40   United-States   <=50K\n",
              "3  28            Private  338409   Bachelors  ...   0  40            Cuba   <=50K\n",
              "4  37            Private  284582     Masters  ...   0  40   United-States   <=50K\n",
              "\n",
              "[5 rows x 15 columns]"
            ]
          },
          "metadata": {
            "tags": []
          },
          "execution_count": 431
        }
      ]
    },
    {
      "cell_type": "code",
      "metadata": {
        "id": "HBKqXT9Bo-BC",
        "colab_type": "code",
        "outputId": "ca2f4329-26eb-4bbf-df6a-f41e16f4ed5d",
        "colab": {
          "base_uri": "https://localhost:8080/",
          "height": 272
        }
      },
      "source": [
        "#Lista para o header do ficheiro\n",
        "l_column = ['age',\n",
        "            'workclass',\n",
        "            'fnlwgt',\n",
        "            'education',\n",
        "            'education-num',\n",
        "            'marital-status',\n",
        "            'occupation',\n",
        "            'relationship',\n",
        "            'race',\n",
        "            'sex',\n",
        "            'capital-gain',\n",
        "            'capital-loss',\n",
        "            'hours-per-week',\n",
        "            'native-country',\n",
        "            'flag_50k'\n",
        "          ]\n",
        "l_column"
      ],
      "execution_count": 59,
      "outputs": [
        {
          "output_type": "execute_result",
          "data": {
            "text/plain": [
              "['age',\n",
              " 'workclass',\n",
              " 'fnlwgt',\n",
              " 'education',\n",
              " 'education-num',\n",
              " 'marital-status',\n",
              " 'occupation',\n",
              " 'relationship',\n",
              " 'race',\n",
              " 'sex',\n",
              " 'capital-gain',\n",
              " 'capital-loss',\n",
              " 'hours-per-week',\n",
              " 'native-country',\n",
              " 'flag_50k']"
            ]
          },
          "metadata": {
            "tags": []
          },
          "execution_count": 59
        }
      ]
    },
    {
      "cell_type": "code",
      "metadata": {
        "id": "oNxNQD1Vo9-t",
        "colab_type": "code",
        "colab": {}
      },
      "source": [
        "#Adição de header ao ficheiro\n",
        "df_50k = pd.read_csv('https://raw.githubusercontent.com/MathMachado/DSWP/master/Dataframes/adult.data',names = l_column)"
      ],
      "execution_count": 0,
      "outputs": []
    },
    {
      "cell_type": "code",
      "metadata": {
        "id": "AjswmEdb4R8X",
        "colab_type": "code",
        "outputId": "947f5f4f-167d-4dcf-b80b-9e21586d8eea",
        "colab": {
          "base_uri": "https://localhost:8080/",
          "height": 357
        }
      },
      "source": [
        "df_50k.info()"
      ],
      "execution_count": 61,
      "outputs": [
        {
          "output_type": "stream",
          "text": [
            "<class 'pandas.core.frame.DataFrame'>\n",
            "RangeIndex: 32561 entries, 0 to 32560\n",
            "Data columns (total 15 columns):\n",
            "age               32561 non-null int64\n",
            "workclass         32561 non-null object\n",
            "fnlwgt            32561 non-null int64\n",
            "education         32561 non-null object\n",
            "education-num     32561 non-null int64\n",
            "marital-status    32561 non-null object\n",
            "occupation        32561 non-null object\n",
            "relationship      32561 non-null object\n",
            "race              32561 non-null object\n",
            "sex               32561 non-null object\n",
            "capital-gain      32561 non-null int64\n",
            "capital-loss      32561 non-null int64\n",
            "hours-per-week    32561 non-null int64\n",
            "native-country    32561 non-null object\n",
            "flag_50k          32561 non-null object\n",
            "dtypes: int64(6), object(9)\n",
            "memory usage: 3.7+ MB\n"
          ],
          "name": "stdout"
        }
      ]
    },
    {
      "cell_type": "code",
      "metadata": {
        "id": "CNyS0K4C4dfp",
        "colab_type": "code",
        "outputId": "221a24c5-3335-4a8c-a21f-1b7064c05676",
        "colab": {
          "base_uri": "https://localhost:8080/",
          "height": 204
        }
      },
      "source": [
        "df_50k.head(5)"
      ],
      "execution_count": 62,
      "outputs": [
        {
          "output_type": "execute_result",
          "data": {
            "text/html": [
              "<div>\n",
              "<style scoped>\n",
              "    .dataframe tbody tr th:only-of-type {\n",
              "        vertical-align: middle;\n",
              "    }\n",
              "\n",
              "    .dataframe tbody tr th {\n",
              "        vertical-align: top;\n",
              "    }\n",
              "\n",
              "    .dataframe thead th {\n",
              "        text-align: right;\n",
              "    }\n",
              "</style>\n",
              "<table border=\"1\" class=\"dataframe\">\n",
              "  <thead>\n",
              "    <tr style=\"text-align: right;\">\n",
              "      <th></th>\n",
              "      <th>age</th>\n",
              "      <th>workclass</th>\n",
              "      <th>fnlwgt</th>\n",
              "      <th>education</th>\n",
              "      <th>education-num</th>\n",
              "      <th>marital-status</th>\n",
              "      <th>occupation</th>\n",
              "      <th>relationship</th>\n",
              "      <th>race</th>\n",
              "      <th>sex</th>\n",
              "      <th>capital-gain</th>\n",
              "      <th>capital-loss</th>\n",
              "      <th>hours-per-week</th>\n",
              "      <th>native-country</th>\n",
              "      <th>flag_50k</th>\n",
              "    </tr>\n",
              "  </thead>\n",
              "  <tbody>\n",
              "    <tr>\n",
              "      <th>0</th>\n",
              "      <td>39</td>\n",
              "      <td>State-gov</td>\n",
              "      <td>77516</td>\n",
              "      <td>Bachelors</td>\n",
              "      <td>13</td>\n",
              "      <td>Never-married</td>\n",
              "      <td>Adm-clerical</td>\n",
              "      <td>Not-in-family</td>\n",
              "      <td>White</td>\n",
              "      <td>Male</td>\n",
              "      <td>2174</td>\n",
              "      <td>0</td>\n",
              "      <td>40</td>\n",
              "      <td>United-States</td>\n",
              "      <td>&lt;=50K</td>\n",
              "    </tr>\n",
              "    <tr>\n",
              "      <th>1</th>\n",
              "      <td>50</td>\n",
              "      <td>Self-emp-not-inc</td>\n",
              "      <td>83311</td>\n",
              "      <td>Bachelors</td>\n",
              "      <td>13</td>\n",
              "      <td>Married-civ-spouse</td>\n",
              "      <td>Exec-managerial</td>\n",
              "      <td>Husband</td>\n",
              "      <td>White</td>\n",
              "      <td>Male</td>\n",
              "      <td>0</td>\n",
              "      <td>0</td>\n",
              "      <td>13</td>\n",
              "      <td>United-States</td>\n",
              "      <td>&lt;=50K</td>\n",
              "    </tr>\n",
              "    <tr>\n",
              "      <th>2</th>\n",
              "      <td>38</td>\n",
              "      <td>Private</td>\n",
              "      <td>215646</td>\n",
              "      <td>HS-grad</td>\n",
              "      <td>9</td>\n",
              "      <td>Divorced</td>\n",
              "      <td>Handlers-cleaners</td>\n",
              "      <td>Not-in-family</td>\n",
              "      <td>White</td>\n",
              "      <td>Male</td>\n",
              "      <td>0</td>\n",
              "      <td>0</td>\n",
              "      <td>40</td>\n",
              "      <td>United-States</td>\n",
              "      <td>&lt;=50K</td>\n",
              "    </tr>\n",
              "    <tr>\n",
              "      <th>3</th>\n",
              "      <td>53</td>\n",
              "      <td>Private</td>\n",
              "      <td>234721</td>\n",
              "      <td>11th</td>\n",
              "      <td>7</td>\n",
              "      <td>Married-civ-spouse</td>\n",
              "      <td>Handlers-cleaners</td>\n",
              "      <td>Husband</td>\n",
              "      <td>Black</td>\n",
              "      <td>Male</td>\n",
              "      <td>0</td>\n",
              "      <td>0</td>\n",
              "      <td>40</td>\n",
              "      <td>United-States</td>\n",
              "      <td>&lt;=50K</td>\n",
              "    </tr>\n",
              "    <tr>\n",
              "      <th>4</th>\n",
              "      <td>28</td>\n",
              "      <td>Private</td>\n",
              "      <td>338409</td>\n",
              "      <td>Bachelors</td>\n",
              "      <td>13</td>\n",
              "      <td>Married-civ-spouse</td>\n",
              "      <td>Prof-specialty</td>\n",
              "      <td>Wife</td>\n",
              "      <td>Black</td>\n",
              "      <td>Female</td>\n",
              "      <td>0</td>\n",
              "      <td>0</td>\n",
              "      <td>40</td>\n",
              "      <td>Cuba</td>\n",
              "      <td>&lt;=50K</td>\n",
              "    </tr>\n",
              "  </tbody>\n",
              "</table>\n",
              "</div>"
            ],
            "text/plain": [
              "   age          workclass  fnlwgt  ... hours-per-week  native-country flag_50k\n",
              "0   39          State-gov   77516  ...             40   United-States    <=50K\n",
              "1   50   Self-emp-not-inc   83311  ...             13   United-States    <=50K\n",
              "2   38            Private  215646  ...             40   United-States    <=50K\n",
              "3   53            Private  234721  ...             40   United-States    <=50K\n",
              "4   28            Private  338409  ...             40            Cuba    <=50K\n",
              "\n",
              "[5 rows x 15 columns]"
            ]
          },
          "metadata": {
            "tags": []
          },
          "execution_count": 62
        }
      ]
    },
    {
      "cell_type": "code",
      "metadata": {
        "id": "m2p6SOzbo99T",
        "colab_type": "code",
        "outputId": "5b44778e-ac5f-4dad-89b1-3ca14bbe19dc",
        "colab": {
          "base_uri": "https://localhost:8080/",
          "height": 102
        }
      },
      "source": [
        "#Colunas do DataFrame\n",
        "df_50k.columns"
      ],
      "execution_count": 63,
      "outputs": [
        {
          "output_type": "execute_result",
          "data": {
            "text/plain": [
              "Index(['age', 'workclass', 'fnlwgt', 'education', 'education-num',\n",
              "       'marital-status', 'occupation', 'relationship', 'race', 'sex',\n",
              "       'capital-gain', 'capital-loss', 'hours-per-week', 'native-country',\n",
              "       'flag_50k'],\n",
              "      dtype='object')"
            ]
          },
          "metadata": {
            "tags": []
          },
          "execution_count": 63
        }
      ]
    },
    {
      "cell_type": "code",
      "metadata": {
        "id": "dMDVRA8eo96a",
        "colab_type": "code",
        "outputId": "79c632c5-0406-482d-c889-472e23b5f37d",
        "colab": {
          "base_uri": "https://localhost:8080/",
          "height": 289
        }
      },
      "source": [
        "df_50k.dtypes"
      ],
      "execution_count": 64,
      "outputs": [
        {
          "output_type": "execute_result",
          "data": {
            "text/plain": [
              "age                int64\n",
              "workclass         object\n",
              "fnlwgt             int64\n",
              "education         object\n",
              "education-num      int64\n",
              "marital-status    object\n",
              "occupation        object\n",
              "relationship      object\n",
              "race              object\n",
              "sex               object\n",
              "capital-gain       int64\n",
              "capital-loss       int64\n",
              "hours-per-week     int64\n",
              "native-country    object\n",
              "flag_50k          object\n",
              "dtype: object"
            ]
          },
          "metadata": {
            "tags": []
          },
          "execution_count": 64
        }
      ]
    },
    {
      "cell_type": "markdown",
      "metadata": {
        "id": "GG7Xl9IJu8HN",
        "colab_type": "text"
      },
      "source": [
        "###Verificação do conteúdo das colunas"
      ]
    },
    {
      "cell_type": "code",
      "metadata": {
        "id": "5SbUk5Srzqok",
        "colab_type": "code",
        "outputId": "5d190990-c6d6-4d14-f7eb-62826c356b0b",
        "colab": {
          "base_uri": "https://localhost:8080/",
          "height": 187
        }
      },
      "source": [
        "#Valores distintos de WorkClass\n",
        "df_50k['workclass'].value_counts()"
      ],
      "execution_count": 65,
      "outputs": [
        {
          "output_type": "execute_result",
          "data": {
            "text/plain": [
              " Private             22696\n",
              " Self-emp-not-inc     2541\n",
              " Local-gov            2093\n",
              " ?                    1836\n",
              " State-gov            1298\n",
              " Self-emp-inc         1116\n",
              " Federal-gov           960\n",
              " Without-pay            14\n",
              " Never-worked            7\n",
              "Name: workclass, dtype: int64"
            ]
          },
          "metadata": {
            "tags": []
          },
          "execution_count": 65
        }
      ]
    },
    {
      "cell_type": "code",
      "metadata": {
        "id": "VYkfFI451R_m",
        "colab_type": "code",
        "outputId": "aaa2a3bf-09a3-4712-e849-030d097f7a50",
        "colab": {
          "base_uri": "https://localhost:8080/",
          "height": 306
        }
      },
      "source": [
        "#Valores distintos de Education\n",
        "df_50k['education'].value_counts()"
      ],
      "execution_count": 66,
      "outputs": [
        {
          "output_type": "execute_result",
          "data": {
            "text/plain": [
              " HS-grad         10501\n",
              " Some-college     7291\n",
              " Bachelors        5355\n",
              " Masters          1723\n",
              " Assoc-voc        1382\n",
              " 11th             1175\n",
              " Assoc-acdm       1067\n",
              " 10th              933\n",
              " 7th-8th           646\n",
              " Prof-school       576\n",
              " 9th               514\n",
              " 12th              433\n",
              " Doctorate         413\n",
              " 5th-6th           333\n",
              " 1st-4th           168\n",
              " Preschool          51\n",
              "Name: education, dtype: int64"
            ]
          },
          "metadata": {
            "tags": []
          },
          "execution_count": 66
        }
      ]
    },
    {
      "cell_type": "code",
      "metadata": {
        "id": "q67Wyta2XwZx",
        "colab_type": "code",
        "outputId": "9bd3649a-1e64-409a-bf83-5afe2175ef22",
        "colab": {
          "base_uri": "https://localhost:8080/",
          "height": 306
        }
      },
      "source": [
        "#Valores distintos de Education-num\n",
        "df_50k['education-num'].value_counts()"
      ],
      "execution_count": 67,
      "outputs": [
        {
          "output_type": "execute_result",
          "data": {
            "text/plain": [
              "9     10501\n",
              "10     7291\n",
              "13     5355\n",
              "14     1723\n",
              "11     1382\n",
              "7      1175\n",
              "12     1067\n",
              "6       933\n",
              "4       646\n",
              "15      576\n",
              "5       514\n",
              "8       433\n",
              "16      413\n",
              "3       333\n",
              "2       168\n",
              "1        51\n",
              "Name: education-num, dtype: int64"
            ]
          },
          "metadata": {
            "tags": []
          },
          "execution_count": 67
        }
      ]
    },
    {
      "cell_type": "code",
      "metadata": {
        "id": "QJly0mWR1R8m",
        "colab_type": "code",
        "outputId": "e87bdfde-bb64-4b6f-f460-9235d930260b",
        "colab": {
          "base_uri": "https://localhost:8080/",
          "height": 153
        }
      },
      "source": [
        "#Valores distintos de marital-status\n",
        "df_50k['marital-status'].value_counts()"
      ],
      "execution_count": 68,
      "outputs": [
        {
          "output_type": "execute_result",
          "data": {
            "text/plain": [
              " Married-civ-spouse       14976\n",
              " Never-married            10683\n",
              " Divorced                  4443\n",
              " Separated                 1025\n",
              " Widowed                    993\n",
              " Married-spouse-absent      418\n",
              " Married-AF-spouse           23\n",
              "Name: marital-status, dtype: int64"
            ]
          },
          "metadata": {
            "tags": []
          },
          "execution_count": 68
        }
      ]
    },
    {
      "cell_type": "code",
      "metadata": {
        "id": "7_Wo0troSfxq",
        "colab_type": "code",
        "outputId": "78fb8942-1388-4a8e-d683-607895ca50d4",
        "colab": {
          "base_uri": "https://localhost:8080/",
          "height": 136
        }
      },
      "source": [
        "#Valores distintos de relationship\n",
        "df_50k['relationship'].value_counts()"
      ],
      "execution_count": 69,
      "outputs": [
        {
          "output_type": "execute_result",
          "data": {
            "text/plain": [
              " Husband           13193\n",
              " Not-in-family      8305\n",
              " Own-child          5068\n",
              " Unmarried          3446\n",
              " Wife               1568\n",
              " Other-relative      981\n",
              "Name: relationship, dtype: int64"
            ]
          },
          "metadata": {
            "tags": []
          },
          "execution_count": 69
        }
      ]
    },
    {
      "cell_type": "code",
      "metadata": {
        "id": "4R_S4oaG1R6_",
        "colab_type": "code",
        "outputId": "d80933a6-99f7-4218-b993-7951ebd6377c",
        "colab": {
          "base_uri": "https://localhost:8080/",
          "height": 289
        }
      },
      "source": [
        "#Valores distintos de occupation\n",
        "df_50k['occupation'].value_counts()"
      ],
      "execution_count": 70,
      "outputs": [
        {
          "output_type": "execute_result",
          "data": {
            "text/plain": [
              " Prof-specialty       4140\n",
              " Craft-repair         4099\n",
              " Exec-managerial      4066\n",
              " Adm-clerical         3770\n",
              " Sales                3650\n",
              " Other-service        3295\n",
              " Machine-op-inspct    2002\n",
              " ?                    1843\n",
              " Transport-moving     1597\n",
              " Handlers-cleaners    1370\n",
              " Farming-fishing       994\n",
              " Tech-support          928\n",
              " Protective-serv       649\n",
              " Priv-house-serv       149\n",
              " Armed-Forces            9\n",
              "Name: occupation, dtype: int64"
            ]
          },
          "metadata": {
            "tags": []
          },
          "execution_count": 70
        }
      ]
    },
    {
      "cell_type": "code",
      "metadata": {
        "id": "2q5DBeLM1R3m",
        "colab_type": "code",
        "outputId": "f63ae7ad-85ed-4888-96e8-7993fa22f64f",
        "colab": {
          "base_uri": "https://localhost:8080/",
          "height": 136
        }
      },
      "source": [
        "#Valores distintos de relationship\n",
        "df_50k['relationship'].value_counts()"
      ],
      "execution_count": 71,
      "outputs": [
        {
          "output_type": "execute_result",
          "data": {
            "text/plain": [
              " Husband           13193\n",
              " Not-in-family      8305\n",
              " Own-child          5068\n",
              " Unmarried          3446\n",
              " Wife               1568\n",
              " Other-relative      981\n",
              "Name: relationship, dtype: int64"
            ]
          },
          "metadata": {
            "tags": []
          },
          "execution_count": 71
        }
      ]
    },
    {
      "cell_type": "code",
      "metadata": {
        "id": "3nlhzegs3PD2",
        "colab_type": "code",
        "outputId": "0e272821-3e29-4654-b038-1b0749cb1f3f",
        "colab": {
          "base_uri": "https://localhost:8080/",
          "height": 119
        }
      },
      "source": [
        "#Valores distintos de race\n",
        "df_50k['race'].value_counts()"
      ],
      "execution_count": 72,
      "outputs": [
        {
          "output_type": "execute_result",
          "data": {
            "text/plain": [
              " White                 27816\n",
              " Black                  3124\n",
              " Asian-Pac-Islander     1039\n",
              " Amer-Indian-Eskimo      311\n",
              " Other                   271\n",
              "Name: race, dtype: int64"
            ]
          },
          "metadata": {
            "tags": []
          },
          "execution_count": 72
        }
      ]
    },
    {
      "cell_type": "code",
      "metadata": {
        "id": "-mgIBM783PAl",
        "colab_type": "code",
        "outputId": "10b1ddcf-a3aa-4c6a-e253-7b08726a2f53",
        "colab": {
          "base_uri": "https://localhost:8080/",
          "height": 68
        }
      },
      "source": [
        "#Valores distintos de sex\n",
        "df_50k['sex'].value_counts()"
      ],
      "execution_count": 73,
      "outputs": [
        {
          "output_type": "execute_result",
          "data": {
            "text/plain": [
              " Male      21790\n",
              " Female    10771\n",
              "Name: sex, dtype: int64"
            ]
          },
          "metadata": {
            "tags": []
          },
          "execution_count": 73
        }
      ]
    },
    {
      "cell_type": "code",
      "metadata": {
        "id": "EjRcmMm73O-2",
        "colab_type": "code",
        "outputId": "d49b6c22-60ef-4214-d737-b2377d2921f4",
        "colab": {
          "base_uri": "https://localhost:8080/",
          "height": 748
        }
      },
      "source": [
        "#Valores distintos de native-country\n",
        "df_50k['native-country'].value_counts()"
      ],
      "execution_count": 74,
      "outputs": [
        {
          "output_type": "execute_result",
          "data": {
            "text/plain": [
              " United-States                 29170\n",
              " Mexico                          643\n",
              " ?                               583\n",
              " Philippines                     198\n",
              " Germany                         137\n",
              " Canada                          121\n",
              " Puerto-Rico                     114\n",
              " El-Salvador                     106\n",
              " India                           100\n",
              " Cuba                             95\n",
              " England                          90\n",
              " Jamaica                          81\n",
              " South                            80\n",
              " China                            75\n",
              " Italy                            73\n",
              " Dominican-Republic               70\n",
              " Vietnam                          67\n",
              " Guatemala                        64\n",
              " Japan                            62\n",
              " Poland                           60\n",
              " Columbia                         59\n",
              " Taiwan                           51\n",
              " Haiti                            44\n",
              " Iran                             43\n",
              " Portugal                         37\n",
              " Nicaragua                        34\n",
              " Peru                             31\n",
              " Greece                           29\n",
              " France                           29\n",
              " Ecuador                          28\n",
              " Ireland                          24\n",
              " Hong                             20\n",
              " Cambodia                         19\n",
              " Trinadad&Tobago                  19\n",
              " Laos                             18\n",
              " Thailand                         18\n",
              " Yugoslavia                       16\n",
              " Outlying-US(Guam-USVI-etc)       14\n",
              " Hungary                          13\n",
              " Honduras                         13\n",
              " Scotland                         12\n",
              " Holand-Netherlands                1\n",
              "Name: native-country, dtype: int64"
            ]
          },
          "metadata": {
            "tags": []
          },
          "execution_count": 74
        }
      ]
    },
    {
      "cell_type": "code",
      "metadata": {
        "id": "zkL_oVwT3O73",
        "colab_type": "code",
        "outputId": "4ed63792-a014-4070-9dcf-1ee08253b2ab",
        "colab": {
          "base_uri": "https://localhost:8080/",
          "height": 34
        }
      },
      "source": [
        "#Valores distintos de flag_50k\n",
        "df_50k['flag_50k'].value_counts().keys()"
      ],
      "execution_count": 75,
      "outputs": [
        {
          "output_type": "execute_result",
          "data": {
            "text/plain": [
              "Index([' <=50K', ' >50K'], dtype='object')"
            ]
          },
          "metadata": {
            "tags": []
          },
          "execution_count": 75
        }
      ]
    },
    {
      "cell_type": "code",
      "metadata": {
        "id": "2ng16_UcPOCS",
        "colab_type": "code",
        "outputId": "ec6aefcf-9f39-43ef-bf6b-27cfb8926a94",
        "colab": {
          "base_uri": "https://localhost:8080/",
          "height": 221
        }
      },
      "source": [
        "#Valores distintos de hours-per-week\n",
        "df_50k['hours-per-week'].value_counts()"
      ],
      "execution_count": 76,
      "outputs": [
        {
          "output_type": "execute_result",
          "data": {
            "text/plain": [
              "40    15217\n",
              "50     2819\n",
              "45     1824\n",
              "60     1475\n",
              "35     1297\n",
              "      ...  \n",
              "92        1\n",
              "94        1\n",
              "87        1\n",
              "74        1\n",
              "82        1\n",
              "Name: hours-per-week, Length: 94, dtype: int64"
            ]
          },
          "metadata": {
            "tags": []
          },
          "execution_count": 76
        }
      ]
    },
    {
      "cell_type": "markdown",
      "metadata": {
        "id": "y88wNvojUWmk",
        "colab_type": "text"
      },
      "source": [
        "> **Pode-se notar que o valor \"?\" aparece nas colunas \"workclass\", \"occupation\" e  \"native-country\".**\n",
        "\n",
        "*   Eliminar registos com \"?\" (já que podemos considerá-lo como um NaN)?\n",
        "*   Ou substituitr \"?\" pelo valor de maior frequencia (moda)?\n",
        "*   Uma outra opção seria não fazer nada, a depender do algoritmo, pode-se comparar os resultados.\n",
        "\n"
      ]
    },
    {
      "cell_type": "markdown",
      "metadata": {
        "id": "x3984I93V1VW",
        "colab_type": "text"
      },
      "source": [
        "###Criar nova coluna: \"map\" para o indicativo de 50k\n",
        " "
      ]
    },
    {
      "cell_type": "code",
      "metadata": {
        "id": "YUk0xnfaV4yX",
        "colab_type": "code",
        "outputId": "a8c9aa39-6dce-4c06-88a2-1bc3ec9ddbd3",
        "colab": {
          "base_uri": "https://localhost:8080/",
          "height": 204
        }
      },
      "source": [
        "#Criação de nova coluna, onde 0 = <=50k e 1 = >50k\n",
        "df_50k['ind_50k'] = df_50k['flag_50k'].map({' <=50K': 0, ' >50K': 1})\n",
        "#df_50k['ind_50k'] = df_50k['flag_50k'].apply(lambda x: 0 if x == ' <=50K' else 1)\n",
        "\n",
        "df_50k.head(5)"
      ],
      "execution_count": 77,
      "outputs": [
        {
          "output_type": "execute_result",
          "data": {
            "text/html": [
              "<div>\n",
              "<style scoped>\n",
              "    .dataframe tbody tr th:only-of-type {\n",
              "        vertical-align: middle;\n",
              "    }\n",
              "\n",
              "    .dataframe tbody tr th {\n",
              "        vertical-align: top;\n",
              "    }\n",
              "\n",
              "    .dataframe thead th {\n",
              "        text-align: right;\n",
              "    }\n",
              "</style>\n",
              "<table border=\"1\" class=\"dataframe\">\n",
              "  <thead>\n",
              "    <tr style=\"text-align: right;\">\n",
              "      <th></th>\n",
              "      <th>age</th>\n",
              "      <th>workclass</th>\n",
              "      <th>fnlwgt</th>\n",
              "      <th>education</th>\n",
              "      <th>education-num</th>\n",
              "      <th>marital-status</th>\n",
              "      <th>occupation</th>\n",
              "      <th>relationship</th>\n",
              "      <th>race</th>\n",
              "      <th>sex</th>\n",
              "      <th>capital-gain</th>\n",
              "      <th>capital-loss</th>\n",
              "      <th>hours-per-week</th>\n",
              "      <th>native-country</th>\n",
              "      <th>flag_50k</th>\n",
              "      <th>ind_50k</th>\n",
              "    </tr>\n",
              "  </thead>\n",
              "  <tbody>\n",
              "    <tr>\n",
              "      <th>0</th>\n",
              "      <td>39</td>\n",
              "      <td>State-gov</td>\n",
              "      <td>77516</td>\n",
              "      <td>Bachelors</td>\n",
              "      <td>13</td>\n",
              "      <td>Never-married</td>\n",
              "      <td>Adm-clerical</td>\n",
              "      <td>Not-in-family</td>\n",
              "      <td>White</td>\n",
              "      <td>Male</td>\n",
              "      <td>2174</td>\n",
              "      <td>0</td>\n",
              "      <td>40</td>\n",
              "      <td>United-States</td>\n",
              "      <td>&lt;=50K</td>\n",
              "      <td>0</td>\n",
              "    </tr>\n",
              "    <tr>\n",
              "      <th>1</th>\n",
              "      <td>50</td>\n",
              "      <td>Self-emp-not-inc</td>\n",
              "      <td>83311</td>\n",
              "      <td>Bachelors</td>\n",
              "      <td>13</td>\n",
              "      <td>Married-civ-spouse</td>\n",
              "      <td>Exec-managerial</td>\n",
              "      <td>Husband</td>\n",
              "      <td>White</td>\n",
              "      <td>Male</td>\n",
              "      <td>0</td>\n",
              "      <td>0</td>\n",
              "      <td>13</td>\n",
              "      <td>United-States</td>\n",
              "      <td>&lt;=50K</td>\n",
              "      <td>0</td>\n",
              "    </tr>\n",
              "    <tr>\n",
              "      <th>2</th>\n",
              "      <td>38</td>\n",
              "      <td>Private</td>\n",
              "      <td>215646</td>\n",
              "      <td>HS-grad</td>\n",
              "      <td>9</td>\n",
              "      <td>Divorced</td>\n",
              "      <td>Handlers-cleaners</td>\n",
              "      <td>Not-in-family</td>\n",
              "      <td>White</td>\n",
              "      <td>Male</td>\n",
              "      <td>0</td>\n",
              "      <td>0</td>\n",
              "      <td>40</td>\n",
              "      <td>United-States</td>\n",
              "      <td>&lt;=50K</td>\n",
              "      <td>0</td>\n",
              "    </tr>\n",
              "    <tr>\n",
              "      <th>3</th>\n",
              "      <td>53</td>\n",
              "      <td>Private</td>\n",
              "      <td>234721</td>\n",
              "      <td>11th</td>\n",
              "      <td>7</td>\n",
              "      <td>Married-civ-spouse</td>\n",
              "      <td>Handlers-cleaners</td>\n",
              "      <td>Husband</td>\n",
              "      <td>Black</td>\n",
              "      <td>Male</td>\n",
              "      <td>0</td>\n",
              "      <td>0</td>\n",
              "      <td>40</td>\n",
              "      <td>United-States</td>\n",
              "      <td>&lt;=50K</td>\n",
              "      <td>0</td>\n",
              "    </tr>\n",
              "    <tr>\n",
              "      <th>4</th>\n",
              "      <td>28</td>\n",
              "      <td>Private</td>\n",
              "      <td>338409</td>\n",
              "      <td>Bachelors</td>\n",
              "      <td>13</td>\n",
              "      <td>Married-civ-spouse</td>\n",
              "      <td>Prof-specialty</td>\n",
              "      <td>Wife</td>\n",
              "      <td>Black</td>\n",
              "      <td>Female</td>\n",
              "      <td>0</td>\n",
              "      <td>0</td>\n",
              "      <td>40</td>\n",
              "      <td>Cuba</td>\n",
              "      <td>&lt;=50K</td>\n",
              "      <td>0</td>\n",
              "    </tr>\n",
              "  </tbody>\n",
              "</table>\n",
              "</div>"
            ],
            "text/plain": [
              "   age          workclass  fnlwgt  ...  native-country  flag_50k ind_50k\n",
              "0   39          State-gov   77516  ...   United-States     <=50K       0\n",
              "1   50   Self-emp-not-inc   83311  ...   United-States     <=50K       0\n",
              "2   38            Private  215646  ...   United-States     <=50K       0\n",
              "3   53            Private  234721  ...   United-States     <=50K       0\n",
              "4   28            Private  338409  ...            Cuba     <=50K       0\n",
              "\n",
              "[5 rows x 16 columns]"
            ]
          },
          "metadata": {
            "tags": []
          },
          "execution_count": 77
        }
      ]
    },
    {
      "cell_type": "markdown",
      "metadata": {
        "id": "3UotJZnQX-1z",
        "colab_type": "text"
      },
      "source": [
        "###Dicionário de Dados"
      ]
    },
    {
      "cell_type": "markdown",
      "metadata": {
        "id": "-P0EGSMywu0d",
        "colab_type": "text"
      },
      "source": [
        "*   Age: idade da pessoa\n",
        "*   workclass: classificação do cargo profissional\n",
        "*   fnlwgt (final weight): peso atribuido por uma instituição específica\n",
        "*   education: grau de escolaridade\n",
        "*   education-num: tempo de estudo em anos (?)\n",
        "*   marital-status: estado civil\n",
        "*   occupation: cargo profissional\n",
        "*   relationship: papel em que a pessoa assume na família\n",
        "*   race: raça\n",
        "*   sex: sexo\n",
        "*   capital-gain: ganhos\n",
        "*   capital-loss: perdas\n",
        "*   hours-per-week: horas trabalhadas por semana\n",
        "*   native-country: país de nascimento\n",
        "*   flag_50k: marcador de  valor: se menor (<=50k) ou maior (>50k) que 50.000 de dólares\n",
        "*   ind_50k: indicador, onde 0 = <=50k e 1 = >50k\n",
        "\n",
        "\n",
        "\n",
        "\n",
        "\n"
      ]
    },
    {
      "cell_type": "markdown",
      "metadata": {
        "id": "XlZwcwXDBtxs",
        "colab_type": "text"
      },
      "source": [
        "###Correlação: Heatmap\n",
        "\n"
      ]
    },
    {
      "cell_type": "code",
      "metadata": {
        "id": "ECXmYAblBvI3",
        "colab_type": "code",
        "colab": {}
      },
      "source": [
        "import seaborn as sns\n",
        "import matplotlib.pyplot as plt\n",
        "%matplotlib inline\n",
        "#sns.set(font_scale=1)"
      ],
      "execution_count": 0,
      "outputs": []
    },
    {
      "cell_type": "code",
      "metadata": {
        "id": "Vu2p_1-fDH_3",
        "colab_type": "code",
        "outputId": "67361cfb-e9b8-47d8-b71e-d17160d24a4d",
        "colab": {
          "base_uri": "https://localhost:8080/",
          "height": 355
        }
      },
      "source": [
        "corr = df_50k.corr()\n",
        "sns.heatmap(corr.abs(), \n",
        "            xticklabels=corr.columns,\n",
        "            yticklabels=corr.columns,\n",
        "            cmap=\"RdPu\",\n",
        "            annot=True,\n",
        "            fmt= '.2f'\n",
        "            )"
      ],
      "execution_count": 79,
      "outputs": [
        {
          "output_type": "execute_result",
          "data": {
            "text/plain": [
              "<matplotlib.axes._subplots.AxesSubplot at 0x7f9298539978>"
            ]
          },
          "metadata": {
            "tags": []
          },
          "execution_count": 79
        },
        {
          "output_type": "display_data",
          "data": {
            "image/png": "[encoded data removed]",
            "text/plain": [
              "<Figure size 432x288 with 2 Axes>"
            ]
          },
          "metadata": {
            "tags": []
          }
        }
      ]
    },
    {
      "cell_type": "markdown",
      "metadata": {
        "id": "oyr2DEnyGMUK",
        "colab_type": "text"
      },
      "source": [
        "###Correlação: Pearson"
      ]
    },
    {
      "cell_type": "code",
      "metadata": {
        "id": "RNLaUYs3CHjQ",
        "colab_type": "code",
        "outputId": "9b5b9759-f66d-406d-8388-999f9c8f4d21",
        "colab": {
          "base_uri": "https://localhost:8080/",
          "height": 266
        }
      },
      "source": [
        "#Matriz de correlação\n",
        "Matrix_Corr = df_50k.corr().where(np.triu(np.ones(df_50k.corr().shape), k=1).astype(np.bool))\n",
        "Matrix_Corr"
      ],
      "execution_count": 80,
      "outputs": [
        {
          "output_type": "execute_result",
          "data": {
            "text/html": [
              "<div>\n",
              "<style scoped>\n",
              "    .dataframe tbody tr th:only-of-type {\n",
              "        vertical-align: middle;\n",
              "    }\n",
              "\n",
              "    .dataframe tbody tr th {\n",
              "        vertical-align: top;\n",
              "    }\n",
              "\n",
              "    .dataframe thead th {\n",
              "        text-align: right;\n",
              "    }\n",
              "</style>\n",
              "<table border=\"1\" class=\"dataframe\">\n",
              "  <thead>\n",
              "    <tr style=\"text-align: right;\">\n",
              "      <th></th>\n",
              "      <th>age</th>\n",
              "      <th>fnlwgt</th>\n",
              "      <th>education-num</th>\n",
              "      <th>capital-gain</th>\n",
              "      <th>capital-loss</th>\n",
              "      <th>hours-per-week</th>\n",
              "      <th>ind_50k</th>\n",
              "    </tr>\n",
              "  </thead>\n",
              "  <tbody>\n",
              "    <tr>\n",
              "      <th>age</th>\n",
              "      <td>NaN</td>\n",
              "      <td>-0.076646</td>\n",
              "      <td>0.036527</td>\n",
              "      <td>0.077674</td>\n",
              "      <td>0.057775</td>\n",
              "      <td>0.068756</td>\n",
              "      <td>0.234037</td>\n",
              "    </tr>\n",
              "    <tr>\n",
              "      <th>fnlwgt</th>\n",
              "      <td>NaN</td>\n",
              "      <td>NaN</td>\n",
              "      <td>-0.043195</td>\n",
              "      <td>0.000432</td>\n",
              "      <td>-0.010252</td>\n",
              "      <td>-0.018768</td>\n",
              "      <td>-0.009463</td>\n",
              "    </tr>\n",
              "    <tr>\n",
              "      <th>education-num</th>\n",
              "      <td>NaN</td>\n",
              "      <td>NaN</td>\n",
              "      <td>NaN</td>\n",
              "      <td>0.122630</td>\n",
              "      <td>0.079923</td>\n",
              "      <td>0.148123</td>\n",
              "      <td>0.335154</td>\n",
              "    </tr>\n",
              "    <tr>\n",
              "      <th>capital-gain</th>\n",
              "      <td>NaN</td>\n",
              "      <td>NaN</td>\n",
              "      <td>NaN</td>\n",
              "      <td>NaN</td>\n",
              "      <td>-0.031615</td>\n",
              "      <td>0.078409</td>\n",
              "      <td>0.223329</td>\n",
              "    </tr>\n",
              "    <tr>\n",
              "      <th>capital-loss</th>\n",
              "      <td>NaN</td>\n",
              "      <td>NaN</td>\n",
              "      <td>NaN</td>\n",
              "      <td>NaN</td>\n",
              "      <td>NaN</td>\n",
              "      <td>0.054256</td>\n",
              "      <td>0.150526</td>\n",
              "    </tr>\n",
              "    <tr>\n",
              "      <th>hours-per-week</th>\n",
              "      <td>NaN</td>\n",
              "      <td>NaN</td>\n",
              "      <td>NaN</td>\n",
              "      <td>NaN</td>\n",
              "      <td>NaN</td>\n",
              "      <td>NaN</td>\n",
              "      <td>0.229689</td>\n",
              "    </tr>\n",
              "    <tr>\n",
              "      <th>ind_50k</th>\n",
              "      <td>NaN</td>\n",
              "      <td>NaN</td>\n",
              "      <td>NaN</td>\n",
              "      <td>NaN</td>\n",
              "      <td>NaN</td>\n",
              "      <td>NaN</td>\n",
              "      <td>NaN</td>\n",
              "    </tr>\n",
              "  </tbody>\n",
              "</table>\n",
              "</div>"
            ],
            "text/plain": [
              "                age    fnlwgt  ...  hours-per-week   ind_50k\n",
              "age             NaN -0.076646  ...        0.068756  0.234037\n",
              "fnlwgt          NaN       NaN  ...       -0.018768 -0.009463\n",
              "education-num   NaN       NaN  ...        0.148123  0.335154\n",
              "capital-gain    NaN       NaN  ...        0.078409  0.223329\n",
              "capital-loss    NaN       NaN  ...        0.054256  0.150526\n",
              "hours-per-week  NaN       NaN  ...             NaN  0.229689\n",
              "ind_50k         NaN       NaN  ...             NaN       NaN\n",
              "\n",
              "[7 rows x 7 columns]"
            ]
          },
          "metadata": {
            "tags": []
          },
          "execution_count": 80
        }
      ]
    },
    {
      "cell_type": "code",
      "metadata": {
        "id": "-ohsbrRdGmJJ",
        "colab_type": "code",
        "outputId": "8e15c65e-0014-44a0-80d2-696bfcf39c0f",
        "colab": {
          "base_uri": "https://localhost:8080/",
          "height": 119
        }
      },
      "source": [
        "set_Colunas_Correlacionadas = set()\n",
        "\n",
        "for i in range(len(Matrix_Corr.columns)):\n",
        "    for j in range(i):\n",
        "        if abs(Matrix_Corr.iloc[i, j]) != 0:\n",
        "            colname = Matrix_Corr.columns[i]\n",
        "            set_Colunas_Correlacionadas.add(colname)\n",
        "\n",
        "set_Colunas_Correlacionadas"
      ],
      "execution_count": 81,
      "outputs": [
        {
          "output_type": "execute_result",
          "data": {
            "text/plain": [
              "{'capital-gain',\n",
              " 'capital-loss',\n",
              " 'education-num',\n",
              " 'fnlwgt',\n",
              " 'hours-per-week',\n",
              " 'ind_50k'}"
            ]
          },
          "metadata": {
            "tags": []
          },
          "execution_count": 81
        }
      ]
    },
    {
      "cell_type": "code",
      "metadata": {
        "id": "_0MZj06uIhtG",
        "colab_type": "code",
        "outputId": "a5ee9042-6610-433a-8a75-0ec806e5f2a1",
        "colab": {
          "base_uri": "https://localhost:8080/",
          "height": 681
        }
      },
      "source": [
        "fig, ax = plt.subplots(figsize=(10, 10)) \n",
        "mask = np.zeros_like(df_50k.corr().abs())\n",
        "mask[np.triu_indices_from(mask)] = 1\n",
        "sns.heatmap(df_50k.corr().abs(), mask= mask, ax= ax, cmap='RdPu', annot= True, fmt= '.2f', center= 0)"
      ],
      "execution_count": 82,
      "outputs": [
        {
          "output_type": "execute_result",
          "data": {
            "text/plain": [
              "<matplotlib.axes._subplots.AxesSubplot at 0x7f9296ce0748>"
            ]
          },
          "metadata": {
            "tags": []
          },
          "execution_count": 82
        },
        {
          "output_type": "display_data",
          "data": {
            "image/png": "[encoded data removed]",
            "text/plain": [
              "<Figure size 720x720 with 2 Axes>"
            ]
          },
          "metadata": {
            "tags": []
          }
        }
      ]
    },
    {
      "cell_type": "markdown",
      "metadata": {
        "id": "o1-4KN7BcBe6",
        "colab_type": "text"
      },
      "source": [
        "##Estatísticas"
      ]
    },
    {
      "cell_type": "code",
      "metadata": {
        "id": "BaRNhWV1cFlr",
        "colab_type": "code",
        "outputId": "32c8db3d-136a-438d-f514-0bccf4f07d3a",
        "colab": {
          "base_uri": "https://localhost:8080/",
          "height": 297
        }
      },
      "source": [
        "df_50k.describe()"
      ],
      "execution_count": 83,
      "outputs": [
        {
          "output_type": "execute_result",
          "data": {
            "text/html": [
              "<div>\n",
              "<style scoped>\n",
              "    .dataframe tbody tr th:only-of-type {\n",
              "        vertical-align: middle;\n",
              "    }\n",
              "\n",
              "    .dataframe tbody tr th {\n",
              "        vertical-align: top;\n",
              "    }\n",
              "\n",
              "    .dataframe thead th {\n",
              "        text-align: right;\n",
              "    }\n",
              "</style>\n",
              "<table border=\"1\" class=\"dataframe\">\n",
              "  <thead>\n",
              "    <tr style=\"text-align: right;\">\n",
              "      <th></th>\n",
              "      <th>age</th>\n",
              "      <th>fnlwgt</th>\n",
              "      <th>education-num</th>\n",
              "      <th>capital-gain</th>\n",
              "      <th>capital-loss</th>\n",
              "      <th>hours-per-week</th>\n",
              "      <th>ind_50k</th>\n",
              "    </tr>\n",
              "  </thead>\n",
              "  <tbody>\n",
              "    <tr>\n",
              "      <th>count</th>\n",
              "      <td>32561.000000</td>\n",
              "      <td>3.256100e+04</td>\n",
              "      <td>32561.000000</td>\n",
              "      <td>32561.000000</td>\n",
              "      <td>32561.000000</td>\n",
              "      <td>32561.000000</td>\n",
              "      <td>32561.000000</td>\n",
              "    </tr>\n",
              "    <tr>\n",
              "      <th>mean</th>\n",
              "      <td>38.581647</td>\n",
              "      <td>1.897784e+05</td>\n",
              "      <td>10.080679</td>\n",
              "      <td>1077.648844</td>\n",
              "      <td>87.303830</td>\n",
              "      <td>40.437456</td>\n",
              "      <td>0.240810</td>\n",
              "    </tr>\n",
              "    <tr>\n",
              "      <th>std</th>\n",
              "      <td>13.640433</td>\n",
              "      <td>1.055500e+05</td>\n",
              "      <td>2.572720</td>\n",
              "      <td>7385.292085</td>\n",
              "      <td>402.960219</td>\n",
              "      <td>12.347429</td>\n",
              "      <td>0.427581</td>\n",
              "    </tr>\n",
              "    <tr>\n",
              "      <th>min</th>\n",
              "      <td>17.000000</td>\n",
              "      <td>1.228500e+04</td>\n",
              "      <td>1.000000</td>\n",
              "      <td>0.000000</td>\n",
              "      <td>0.000000</td>\n",
              "      <td>1.000000</td>\n",
              "      <td>0.000000</td>\n",
              "    </tr>\n",
              "    <tr>\n",
              "      <th>25%</th>\n",
              "      <td>28.000000</td>\n",
              "      <td>1.178270e+05</td>\n",
              "      <td>9.000000</td>\n",
              "      <td>0.000000</td>\n",
              "      <td>0.000000</td>\n",
              "      <td>40.000000</td>\n",
              "      <td>0.000000</td>\n",
              "    </tr>\n",
              "    <tr>\n",
              "      <th>50%</th>\n",
              "      <td>37.000000</td>\n",
              "      <td>1.783560e+05</td>\n",
              "      <td>10.000000</td>\n",
              "      <td>0.000000</td>\n",
              "      <td>0.000000</td>\n",
              "      <td>40.000000</td>\n",
              "      <td>0.000000</td>\n",
              "    </tr>\n",
              "    <tr>\n",
              "      <th>75%</th>\n",
              "      <td>48.000000</td>\n",
              "      <td>2.370510e+05</td>\n",
              "      <td>12.000000</td>\n",
              "      <td>0.000000</td>\n",
              "      <td>0.000000</td>\n",
              "      <td>45.000000</td>\n",
              "      <td>0.000000</td>\n",
              "    </tr>\n",
              "    <tr>\n",
              "      <th>max</th>\n",
              "      <td>90.000000</td>\n",
              "      <td>1.484705e+06</td>\n",
              "      <td>16.000000</td>\n",
              "      <td>99999.000000</td>\n",
              "      <td>4356.000000</td>\n",
              "      <td>99.000000</td>\n",
              "      <td>1.000000</td>\n",
              "    </tr>\n",
              "  </tbody>\n",
              "</table>\n",
              "</div>"
            ],
            "text/plain": [
              "                age        fnlwgt  ...  hours-per-week       ind_50k\n",
              "count  32561.000000  3.256100e+04  ...    32561.000000  32561.000000\n",
              "mean      38.581647  1.897784e+05  ...       40.437456      0.240810\n",
              "std       13.640433  1.055500e+05  ...       12.347429      0.427581\n",
              "min       17.000000  1.228500e+04  ...        1.000000      0.000000\n",
              "25%       28.000000  1.178270e+05  ...       40.000000      0.000000\n",
              "50%       37.000000  1.783560e+05  ...       40.000000      0.000000\n",
              "75%       48.000000  2.370510e+05  ...       45.000000      0.000000\n",
              "max       90.000000  1.484705e+06  ...       99.000000      1.000000\n",
              "\n",
              "[8 rows x 7 columns]"
            ]
          },
          "metadata": {
            "tags": []
          },
          "execution_count": 83
        }
      ]
    },
    {
      "cell_type": "code",
      "metadata": {
        "id": "KZQOGm7XcrRf",
        "colab_type": "code",
        "outputId": "84e73272-ff07-4849-90b9-0b9c63a4cff1",
        "colab": {
          "base_uri": "https://localhost:8080/",
          "height": 173
        }
      },
      "source": [
        "df_50k.describe(include=[\"O\"])"
      ],
      "execution_count": 84,
      "outputs": [
        {
          "output_type": "execute_result",
          "data": {
            "text/html": [
              "<div>\n",
              "<style scoped>\n",
              "    .dataframe tbody tr th:only-of-type {\n",
              "        vertical-align: middle;\n",
              "    }\n",
              "\n",
              "    .dataframe tbody tr th {\n",
              "        vertical-align: top;\n",
              "    }\n",
              "\n",
              "    .dataframe thead th {\n",
              "        text-align: right;\n",
              "    }\n",
              "</style>\n",
              "<table border=\"1\" class=\"dataframe\">\n",
              "  <thead>\n",
              "    <tr style=\"text-align: right;\">\n",
              "      <th></th>\n",
              "      <th>workclass</th>\n",
              "      <th>education</th>\n",
              "      <th>marital-status</th>\n",
              "      <th>occupation</th>\n",
              "      <th>relationship</th>\n",
              "      <th>race</th>\n",
              "      <th>sex</th>\n",
              "      <th>native-country</th>\n",
              "      <th>flag_50k</th>\n",
              "    </tr>\n",
              "  </thead>\n",
              "  <tbody>\n",
              "    <tr>\n",
              "      <th>count</th>\n",
              "      <td>32561</td>\n",
              "      <td>32561</td>\n",
              "      <td>32561</td>\n",
              "      <td>32561</td>\n",
              "      <td>32561</td>\n",
              "      <td>32561</td>\n",
              "      <td>32561</td>\n",
              "      <td>32561</td>\n",
              "      <td>32561</td>\n",
              "    </tr>\n",
              "    <tr>\n",
              "      <th>unique</th>\n",
              "      <td>9</td>\n",
              "      <td>16</td>\n",
              "      <td>7</td>\n",
              "      <td>15</td>\n",
              "      <td>6</td>\n",
              "      <td>5</td>\n",
              "      <td>2</td>\n",
              "      <td>42</td>\n",
              "      <td>2</td>\n",
              "    </tr>\n",
              "    <tr>\n",
              "      <th>top</th>\n",
              "      <td>Private</td>\n",
              "      <td>HS-grad</td>\n",
              "      <td>Married-civ-spouse</td>\n",
              "      <td>Prof-specialty</td>\n",
              "      <td>Husband</td>\n",
              "      <td>White</td>\n",
              "      <td>Male</td>\n",
              "      <td>United-States</td>\n",
              "      <td>&lt;=50K</td>\n",
              "    </tr>\n",
              "    <tr>\n",
              "      <th>freq</th>\n",
              "      <td>22696</td>\n",
              "      <td>10501</td>\n",
              "      <td>14976</td>\n",
              "      <td>4140</td>\n",
              "      <td>13193</td>\n",
              "      <td>27816</td>\n",
              "      <td>21790</td>\n",
              "      <td>29170</td>\n",
              "      <td>24720</td>\n",
              "    </tr>\n",
              "  </tbody>\n",
              "</table>\n",
              "</div>"
            ],
            "text/plain": [
              "       workclass education       marital-status  ...    sex  native-country flag_50k\n",
              "count      32561     32561                32561  ...  32561           32561    32561\n",
              "unique         9        16                    7  ...      2              42        2\n",
              "top      Private   HS-grad   Married-civ-spouse  ...   Male   United-States    <=50K\n",
              "freq       22696     10501                14976  ...  21790           29170    24720\n",
              "\n",
              "[4 rows x 9 columns]"
            ]
          },
          "metadata": {
            "tags": []
          },
          "execution_count": 84
        }
      ]
    },
    {
      "cell_type": "code",
      "metadata": {
        "id": "3hL2PFjl3V6q",
        "colab_type": "code",
        "outputId": "79825c1e-4e9e-40b9-f17d-8a5076e792ff",
        "colab": {
          "base_uri": "https://localhost:8080/",
          "height": 297
        }
      },
      "source": [
        "#Indicador dos 50K por Genero\n",
        "sns.countplot(x='ind_50k', hue='sex', data=df_50k)"
      ],
      "execution_count": 85,
      "outputs": [
        {
          "output_type": "execute_result",
          "data": {
            "text/plain": [
              "<matplotlib.axes._subplots.AxesSubplot at 0x7f9297170438>"
            ]
          },
          "metadata": {
            "tags": []
          },
          "execution_count": 85
        },
        {
          "output_type": "display_data",
          "data": {
            "image/png": "[encoded data removed]",
            "text/plain": [
              "<Figure size 432x288 with 1 Axes>"
            ]
          },
          "metadata": {
            "tags": []
          }
        }
      ]
    },
    {
      "cell_type": "markdown",
      "metadata": {
        "id": "gq4Qg2Lu2miR",
        "colab_type": "text"
      },
      "source": [
        "###Gráficos"
      ]
    },
    {
      "cell_type": "code",
      "metadata": {
        "id": "g00WmJdX2_o9",
        "colab_type": "code",
        "colab": {}
      },
      "source": [
        "#Subset do DataFrame (Series)\n",
        "workclass    = df_50k['workclass']\n",
        "education    = df_50k['education']\n",
        "educationN   = df_50k['education-num']\n",
        "race         = df_50k['race']\n",
        "sex          = df_50k['sex']\n",
        "natcountry   = df_50k['native-country']\n",
        "hoursweek    = df_50k['hours-per-week'] \n",
        "relationship = df_50k['relationship']"
      ],
      "execution_count": 0,
      "outputs": []
    },
    {
      "cell_type": "markdown",
      "metadata": {
        "id": "iQwZoRaMNvAr",
        "colab_type": "text"
      },
      "source": [
        "**Distribuição da Raça**"
      ]
    },
    {
      "cell_type": "code",
      "metadata": {
        "id": "fTUWOuBU30or",
        "colab_type": "code",
        "outputId": "e40e009e-58b0-4e3a-d052-a439be6b3884",
        "colab": {
          "base_uri": "https://localhost:8080/",
          "height": 295
        }
      },
      "source": [
        "plt.hist(race)\n",
        "plt.title('Distribuição - Raça')\n",
        "plt.xlabel('Raça')\n",
        "plt.ylabel('Frequencia')\n",
        "plt.show()"
      ],
      "execution_count": 87,
      "outputs": [
        {
          "output_type": "display_data",
          "data": {
            "image/png": "[encoded data removed]",
            "text/plain": [
              "<Figure size 432x288 with 1 Axes>"
            ]
          },
          "metadata": {
            "tags": []
          }
        }
      ]
    },
    {
      "cell_type": "markdown",
      "metadata": {
        "id": "RB8RrJIOP_QE",
        "colab_type": "text"
      },
      "source": [
        "**Histograma das Horas por Semana**"
      ]
    },
    {
      "cell_type": "code",
      "metadata": {
        "id": "OzAQWltWQDVa",
        "colab_type": "code",
        "outputId": "3226a843-78ac-4497-9367-5c96a5d567f4",
        "colab": {
          "base_uri": "https://localhost:8080/",
          "height": 295
        }
      },
      "source": [
        "plt.hist(hoursweek)\n",
        "plt.title('Distribuição - Horas por Semana')\n",
        "plt.xlabel('Horas por Semana')\n",
        "plt.ylabel('Frequencia')\n",
        "plt.show()"
      ],
      "execution_count": 88,
      "outputs": [
        {
          "output_type": "display_data",
          "data": {
            "image/png": "[encoded data removed]",
            "text/plain": [
              "<Figure size 432x288 with 1 Axes>"
            ]
          },
          "metadata": {
            "tags": []
          }
        }
      ]
    },
    {
      "cell_type": "markdown",
      "metadata": {
        "id": "hhavvM_fN3aY",
        "colab_type": "text"
      },
      "source": [
        "**Relação do Grau de Escolaridade pela Raça**"
      ]
    },
    {
      "cell_type": "code",
      "metadata": {
        "id": "VE6vRQbl8Yb7",
        "colab_type": "code",
        "outputId": "10a52837-940c-4a8a-916c-ad824b039e3c",
        "colab": {
          "base_uri": "https://localhost:8080/",
          "height": 475
        }
      },
      "source": [
        "#Relação da Escolaridade e Raça\n",
        "fig, ax = plt.subplots(figsize=(15,7))\n",
        "df_50k.groupby(['education','race']).count()['age'].unstack().plot(ax=ax, title='Raça vs Escolaridade')"
      ],
      "execution_count": 0,
      "outputs": [
        {
          "output_type": "execute_result",
          "data": {
            "text/plain": [
              "<matplotlib.axes._subplots.AxesSubplot at 0x7fc737571630>"
            ]
          },
          "metadata": {
            "tags": []
          },
          "execution_count": 462
        },
        {
          "output_type": "display_data",
          "data": {
            "image/png": "[encoded data removed]",
            "text/plain": [
              "<Figure size 1080x504 with 1 Axes>"
            ]
          },
          "metadata": {
            "tags": []
          }
        }
      ]
    },
    {
      "cell_type": "markdown",
      "metadata": {
        "id": "no6-wtR0aXom",
        "colab_type": "text"
      },
      "source": [
        "**Relação por Tipo de Familiar pelo Indicativo dos 50k**"
      ]
    },
    {
      "cell_type": "code",
      "metadata": {
        "id": "lsp3XAlTRd3Y",
        "colab_type": "code",
        "outputId": "c05730d1-0ba5-4d18-88f2-555aa4332992",
        "colab": {
          "base_uri": "https://localhost:8080/",
          "height": 475
        }
      },
      "source": [
        "#Relação de horas trabalhadas pelo indicatico de valor\n",
        "fig, ax = plt.subplots(figsize=(15,7))\n",
        "df_50k.groupby(['relationship','ind_50k']).count()['age'].unstack().plot(ax=ax, title='Horas Trabalhadas vs Indicativo do Valor')"
      ],
      "execution_count": 0,
      "outputs": [
        {
          "output_type": "execute_result",
          "data": {
            "text/plain": [
              "<matplotlib.axes._subplots.AxesSubplot at 0x7fc737a97748>"
            ]
          },
          "metadata": {
            "tags": []
          },
          "execution_count": 463
        },
        {
          "output_type": "display_data",
          "data": {
            "image/png": "[encoded data removed]",
            "text/plain": [
              "<Figure size 1080x504 with 1 Axes>"
            ]
          },
          "metadata": {
            "tags": []
          }
        }
      ]
    },
    {
      "cell_type": "markdown",
      "metadata": {
        "id": "PYiZL-v7X6EC",
        "colab_type": "text"
      },
      "source": [
        "#**3DP - DATA PREPARATION**"
      ]
    },
    {
      "cell_type": "markdown",
      "metadata": {
        "id": "OX64mjTvZy0n",
        "colab_type": "text"
      },
      "source": [
        "> **Objetivos desta fase:** Coletar, preparar, transformar e limpar dados: remover duplicatas, corrigir erros, lidar com Missing Values, normalização, conversões de tipo de dados e etc.\n",
        "\n",
        "*   **3DP_Feature Engineering**: derivar variaveis\n",
        "*   **3DP_Missing Values Handling**: identificar e tratar os Missing Values\n",
        "*   **3DP_Outliers Handling**: identificar e tratar os Outlier\n",
        "*   **3DP_Data Transformation**: colocar as variáveis numa mesma escala (MinMaxScaler?)\n",
        "\n",
        "\n",
        "\n",
        "\n",
        "\n",
        "\n",
        "\n",
        "\n"
      ]
    },
    {
      "cell_type": "markdown",
      "metadata": {
        "id": "evJ7TDj6vEu-",
        "colab_type": "text"
      },
      "source": [
        "###Verificar se há registos em duplicidade"
      ]
    },
    {
      "cell_type": "code",
      "metadata": {
        "id": "6mdOurBJvIed",
        "colab_type": "code",
        "outputId": "a43bc8dd-1acb-4d88-cd15-90089d121266",
        "colab": {
          "base_uri": "https://localhost:8080/",
          "height": 1000
        }
      },
      "source": [
        "#Lista das linhas duplicadas\n",
        "df_50k[df_50k.duplicated()]"
      ],
      "execution_count": 0,
      "outputs": [
        {
          "output_type": "execute_result",
          "data": {
            "text/html": [
              "<div>\n",
              "<style scoped>\n",
              "    .dataframe tbody tr th:only-of-type {\n",
              "        vertical-align: middle;\n",
              "    }\n",
              "\n",
              "    .dataframe tbody tr th {\n",
              "        vertical-align: top;\n",
              "    }\n",
              "\n",
              "    .dataframe thead th {\n",
              "        text-align: right;\n",
              "    }\n",
              "</style>\n",
              "<table border=\"1\" class=\"dataframe\">\n",
              "  <thead>\n",
              "    <tr style=\"text-align: right;\">\n",
              "      <th></th>\n",
              "      <th>age</th>\n",
              "      <th>workclass</th>\n",
              "      <th>fnlwgt</th>\n",
              "      <th>education</th>\n",
              "      <th>education-num</th>\n",
              "      <th>marital-status</th>\n",
              "      <th>occupation</th>\n",
              "      <th>relationship</th>\n",
              "      <th>race</th>\n",
              "      <th>sex</th>\n",
              "      <th>capital-gain</th>\n",
              "      <th>capital-loss</th>\n",
              "      <th>hours-per-week</th>\n",
              "      <th>native-country</th>\n",
              "      <th>flag_50k</th>\n",
              "      <th>ind_50k</th>\n",
              "    </tr>\n",
              "  </thead>\n",
              "  <tbody>\n",
              "    <tr>\n",
              "      <th>4881</th>\n",
              "      <td>25</td>\n",
              "      <td>Private</td>\n",
              "      <td>308144</td>\n",
              "      <td>Bachelors</td>\n",
              "      <td>13</td>\n",
              "      <td>Never-married</td>\n",
              "      <td>Craft-repair</td>\n",
              "      <td>Not-in-family</td>\n",
              "      <td>White</td>\n",
              "      <td>Male</td>\n",
              "      <td>0</td>\n",
              "      <td>0</td>\n",
              "      <td>40</td>\n",
              "      <td>Mexico</td>\n",
              "      <td>&lt;=50K</td>\n",
              "      <td>0</td>\n",
              "    </tr>\n",
              "    <tr>\n",
              "      <th>5104</th>\n",
              "      <td>90</td>\n",
              "      <td>Private</td>\n",
              "      <td>52386</td>\n",
              "      <td>Some-college</td>\n",
              "      <td>10</td>\n",
              "      <td>Never-married</td>\n",
              "      <td>Other-service</td>\n",
              "      <td>Not-in-family</td>\n",
              "      <td>Asian-Pac-Islander</td>\n",
              "      <td>Male</td>\n",
              "      <td>0</td>\n",
              "      <td>0</td>\n",
              "      <td>35</td>\n",
              "      <td>United-States</td>\n",
              "      <td>&lt;=50K</td>\n",
              "      <td>0</td>\n",
              "    </tr>\n",
              "    <tr>\n",
              "      <th>9171</th>\n",
              "      <td>21</td>\n",
              "      <td>Private</td>\n",
              "      <td>250051</td>\n",
              "      <td>Some-college</td>\n",
              "      <td>10</td>\n",
              "      <td>Never-married</td>\n",
              "      <td>Prof-specialty</td>\n",
              "      <td>Own-child</td>\n",
              "      <td>White</td>\n",
              "      <td>Female</td>\n",
              "      <td>0</td>\n",
              "      <td>0</td>\n",
              "      <td>10</td>\n",
              "      <td>United-States</td>\n",
              "      <td>&lt;=50K</td>\n",
              "      <td>0</td>\n",
              "    </tr>\n",
              "    <tr>\n",
              "      <th>11631</th>\n",
              "      <td>20</td>\n",
              "      <td>Private</td>\n",
              "      <td>107658</td>\n",
              "      <td>Some-college</td>\n",
              "      <td>10</td>\n",
              "      <td>Never-married</td>\n",
              "      <td>Tech-support</td>\n",
              "      <td>Not-in-family</td>\n",
              "      <td>White</td>\n",
              "      <td>Female</td>\n",
              "      <td>0</td>\n",
              "      <td>0</td>\n",
              "      <td>10</td>\n",
              "      <td>United-States</td>\n",
              "      <td>&lt;=50K</td>\n",
              "      <td>0</td>\n",
              "    </tr>\n",
              "    <tr>\n",
              "      <th>13084</th>\n",
              "      <td>25</td>\n",
              "      <td>Private</td>\n",
              "      <td>195994</td>\n",
              "      <td>1st-4th</td>\n",
              "      <td>2</td>\n",
              "      <td>Never-married</td>\n",
              "      <td>Priv-house-serv</td>\n",
              "      <td>Not-in-family</td>\n",
              "      <td>White</td>\n",
              "      <td>Female</td>\n",
              "      <td>0</td>\n",
              "      <td>0</td>\n",
              "      <td>40</td>\n",
              "      <td>Guatemala</td>\n",
              "      <td>&lt;=50K</td>\n",
              "      <td>0</td>\n",
              "    </tr>\n",
              "    <tr>\n",
              "      <th>15059</th>\n",
              "      <td>21</td>\n",
              "      <td>Private</td>\n",
              "      <td>243368</td>\n",
              "      <td>Preschool</td>\n",
              "      <td>1</td>\n",
              "      <td>Never-married</td>\n",
              "      <td>Farming-fishing</td>\n",
              "      <td>Not-in-family</td>\n",
              "      <td>White</td>\n",
              "      <td>Male</td>\n",
              "      <td>0</td>\n",
              "      <td>0</td>\n",
              "      <td>50</td>\n",
              "      <td>Mexico</td>\n",
              "      <td>&lt;=50K</td>\n",
              "      <td>0</td>\n",
              "    </tr>\n",
              "    <tr>\n",
              "      <th>17040</th>\n",
              "      <td>46</td>\n",
              "      <td>Private</td>\n",
              "      <td>173243</td>\n",
              "      <td>HS-grad</td>\n",
              "      <td>9</td>\n",
              "      <td>Married-civ-spouse</td>\n",
              "      <td>Craft-repair</td>\n",
              "      <td>Husband</td>\n",
              "      <td>White</td>\n",
              "      <td>Male</td>\n",
              "      <td>0</td>\n",
              "      <td>0</td>\n",
              "      <td>40</td>\n",
              "      <td>United-States</td>\n",
              "      <td>&lt;=50K</td>\n",
              "      <td>0</td>\n",
              "    </tr>\n",
              "    <tr>\n",
              "      <th>18555</th>\n",
              "      <td>30</td>\n",
              "      <td>Private</td>\n",
              "      <td>144593</td>\n",
              "      <td>HS-grad</td>\n",
              "      <td>9</td>\n",
              "      <td>Never-married</td>\n",
              "      <td>Other-service</td>\n",
              "      <td>Not-in-family</td>\n",
              "      <td>Black</td>\n",
              "      <td>Male</td>\n",
              "      <td>0</td>\n",
              "      <td>0</td>\n",
              "      <td>40</td>\n",
              "      <td>?</td>\n",
              "      <td>&lt;=50K</td>\n",
              "      <td>0</td>\n",
              "    </tr>\n",
              "    <tr>\n",
              "      <th>18698</th>\n",
              "      <td>19</td>\n",
              "      <td>Private</td>\n",
              "      <td>97261</td>\n",
              "      <td>HS-grad</td>\n",
              "      <td>9</td>\n",
              "      <td>Never-married</td>\n",
              "      <td>Farming-fishing</td>\n",
              "      <td>Not-in-family</td>\n",
              "      <td>White</td>\n",
              "      <td>Male</td>\n",
              "      <td>0</td>\n",
              "      <td>0</td>\n",
              "      <td>40</td>\n",
              "      <td>United-States</td>\n",
              "      <td>&lt;=50K</td>\n",
              "      <td>0</td>\n",
              "    </tr>\n",
              "    <tr>\n",
              "      <th>21318</th>\n",
              "      <td>19</td>\n",
              "      <td>Private</td>\n",
              "      <td>138153</td>\n",
              "      <td>Some-college</td>\n",
              "      <td>10</td>\n",
              "      <td>Never-married</td>\n",
              "      <td>Adm-clerical</td>\n",
              "      <td>Own-child</td>\n",
              "      <td>White</td>\n",
              "      <td>Female</td>\n",
              "      <td>0</td>\n",
              "      <td>0</td>\n",
              "      <td>10</td>\n",
              "      <td>United-States</td>\n",
              "      <td>&lt;=50K</td>\n",
              "      <td>0</td>\n",
              "    </tr>\n",
              "    <tr>\n",
              "      <th>21490</th>\n",
              "      <td>19</td>\n",
              "      <td>Private</td>\n",
              "      <td>146679</td>\n",
              "      <td>Some-college</td>\n",
              "      <td>10</td>\n",
              "      <td>Never-married</td>\n",
              "      <td>Exec-managerial</td>\n",
              "      <td>Own-child</td>\n",
              "      <td>Black</td>\n",
              "      <td>Male</td>\n",
              "      <td>0</td>\n",
              "      <td>0</td>\n",
              "      <td>30</td>\n",
              "      <td>United-States</td>\n",
              "      <td>&lt;=50K</td>\n",
              "      <td>0</td>\n",
              "    </tr>\n",
              "    <tr>\n",
              "      <th>21875</th>\n",
              "      <td>49</td>\n",
              "      <td>Private</td>\n",
              "      <td>31267</td>\n",
              "      <td>7th-8th</td>\n",
              "      <td>4</td>\n",
              "      <td>Married-civ-spouse</td>\n",
              "      <td>Craft-repair</td>\n",
              "      <td>Husband</td>\n",
              "      <td>White</td>\n",
              "      <td>Male</td>\n",
              "      <td>0</td>\n",
              "      <td>0</td>\n",
              "      <td>40</td>\n",
              "      <td>United-States</td>\n",
              "      <td>&lt;=50K</td>\n",
              "      <td>0</td>\n",
              "    </tr>\n",
              "    <tr>\n",
              "      <th>22300</th>\n",
              "      <td>25</td>\n",
              "      <td>Private</td>\n",
              "      <td>195994</td>\n",
              "      <td>1st-4th</td>\n",
              "      <td>2</td>\n",
              "      <td>Never-married</td>\n",
              "      <td>Priv-house-serv</td>\n",
              "      <td>Not-in-family</td>\n",
              "      <td>White</td>\n",
              "      <td>Female</td>\n",
              "      <td>0</td>\n",
              "      <td>0</td>\n",
              "      <td>40</td>\n",
              "      <td>Guatemala</td>\n",
              "      <td>&lt;=50K</td>\n",
              "      <td>0</td>\n",
              "    </tr>\n",
              "    <tr>\n",
              "      <th>22367</th>\n",
              "      <td>44</td>\n",
              "      <td>Private</td>\n",
              "      <td>367749</td>\n",
              "      <td>Bachelors</td>\n",
              "      <td>13</td>\n",
              "      <td>Never-married</td>\n",
              "      <td>Prof-specialty</td>\n",
              "      <td>Not-in-family</td>\n",
              "      <td>White</td>\n",
              "      <td>Female</td>\n",
              "      <td>0</td>\n",
              "      <td>0</td>\n",
              "      <td>45</td>\n",
              "      <td>Mexico</td>\n",
              "      <td>&lt;=50K</td>\n",
              "      <td>0</td>\n",
              "    </tr>\n",
              "    <tr>\n",
              "      <th>22494</th>\n",
              "      <td>49</td>\n",
              "      <td>Self-emp-not-inc</td>\n",
              "      <td>43479</td>\n",
              "      <td>Some-college</td>\n",
              "      <td>10</td>\n",
              "      <td>Married-civ-spouse</td>\n",
              "      <td>Craft-repair</td>\n",
              "      <td>Husband</td>\n",
              "      <td>White</td>\n",
              "      <td>Male</td>\n",
              "      <td>0</td>\n",
              "      <td>0</td>\n",
              "      <td>40</td>\n",
              "      <td>United-States</td>\n",
              "      <td>&lt;=50K</td>\n",
              "      <td>0</td>\n",
              "    </tr>\n",
              "    <tr>\n",
              "      <th>25872</th>\n",
              "      <td>23</td>\n",
              "      <td>Private</td>\n",
              "      <td>240137</td>\n",
              "      <td>5th-6th</td>\n",
              "      <td>3</td>\n",
              "      <td>Never-married</td>\n",
              "      <td>Handlers-cleaners</td>\n",
              "      <td>Not-in-family</td>\n",
              "      <td>White</td>\n",
              "      <td>Male</td>\n",
              "      <td>0</td>\n",
              "      <td>0</td>\n",
              "      <td>55</td>\n",
              "      <td>Mexico</td>\n",
              "      <td>&lt;=50K</td>\n",
              "      <td>0</td>\n",
              "    </tr>\n",
              "    <tr>\n",
              "      <th>26313</th>\n",
              "      <td>28</td>\n",
              "      <td>Private</td>\n",
              "      <td>274679</td>\n",
              "      <td>Masters</td>\n",
              "      <td>14</td>\n",
              "      <td>Never-married</td>\n",
              "      <td>Prof-specialty</td>\n",
              "      <td>Not-in-family</td>\n",
              "      <td>White</td>\n",
              "      <td>Male</td>\n",
              "      <td>0</td>\n",
              "      <td>0</td>\n",
              "      <td>50</td>\n",
              "      <td>United-States</td>\n",
              "      <td>&lt;=50K</td>\n",
              "      <td>0</td>\n",
              "    </tr>\n",
              "    <tr>\n",
              "      <th>28230</th>\n",
              "      <td>27</td>\n",
              "      <td>Private</td>\n",
              "      <td>255582</td>\n",
              "      <td>HS-grad</td>\n",
              "      <td>9</td>\n",
              "      <td>Never-married</td>\n",
              "      <td>Machine-op-inspct</td>\n",
              "      <td>Not-in-family</td>\n",
              "      <td>White</td>\n",
              "      <td>Female</td>\n",
              "      <td>0</td>\n",
              "      <td>0</td>\n",
              "      <td>40</td>\n",
              "      <td>United-States</td>\n",
              "      <td>&lt;=50K</td>\n",
              "      <td>0</td>\n",
              "    </tr>\n",
              "    <tr>\n",
              "      <th>28522</th>\n",
              "      <td>42</td>\n",
              "      <td>Private</td>\n",
              "      <td>204235</td>\n",
              "      <td>Some-college</td>\n",
              "      <td>10</td>\n",
              "      <td>Married-civ-spouse</td>\n",
              "      <td>Prof-specialty</td>\n",
              "      <td>Husband</td>\n",
              "      <td>White</td>\n",
              "      <td>Male</td>\n",
              "      <td>0</td>\n",
              "      <td>0</td>\n",
              "      <td>40</td>\n",
              "      <td>United-States</td>\n",
              "      <td>&gt;50K</td>\n",
              "      <td>1</td>\n",
              "    </tr>\n",
              "    <tr>\n",
              "      <th>28846</th>\n",
              "      <td>39</td>\n",
              "      <td>Private</td>\n",
              "      <td>30916</td>\n",
              "      <td>HS-grad</td>\n",
              "      <td>9</td>\n",
              "      <td>Married-civ-spouse</td>\n",
              "      <td>Craft-repair</td>\n",
              "      <td>Husband</td>\n",
              "      <td>White</td>\n",
              "      <td>Male</td>\n",
              "      <td>0</td>\n",
              "      <td>0</td>\n",
              "      <td>40</td>\n",
              "      <td>United-States</td>\n",
              "      <td>&lt;=50K</td>\n",
              "      <td>0</td>\n",
              "    </tr>\n",
              "    <tr>\n",
              "      <th>29157</th>\n",
              "      <td>38</td>\n",
              "      <td>Private</td>\n",
              "      <td>207202</td>\n",
              "      <td>HS-grad</td>\n",
              "      <td>9</td>\n",
              "      <td>Married-civ-spouse</td>\n",
              "      <td>Machine-op-inspct</td>\n",
              "      <td>Husband</td>\n",
              "      <td>White</td>\n",
              "      <td>Male</td>\n",
              "      <td>0</td>\n",
              "      <td>0</td>\n",
              "      <td>48</td>\n",
              "      <td>United-States</td>\n",
              "      <td>&gt;50K</td>\n",
              "      <td>1</td>\n",
              "    </tr>\n",
              "    <tr>\n",
              "      <th>30845</th>\n",
              "      <td>46</td>\n",
              "      <td>Private</td>\n",
              "      <td>133616</td>\n",
              "      <td>Some-college</td>\n",
              "      <td>10</td>\n",
              "      <td>Divorced</td>\n",
              "      <td>Adm-clerical</td>\n",
              "      <td>Unmarried</td>\n",
              "      <td>White</td>\n",
              "      <td>Female</td>\n",
              "      <td>0</td>\n",
              "      <td>0</td>\n",
              "      <td>40</td>\n",
              "      <td>United-States</td>\n",
              "      <td>&lt;=50K</td>\n",
              "      <td>0</td>\n",
              "    </tr>\n",
              "    <tr>\n",
              "      <th>31993</th>\n",
              "      <td>19</td>\n",
              "      <td>Private</td>\n",
              "      <td>251579</td>\n",
              "      <td>Some-college</td>\n",
              "      <td>10</td>\n",
              "      <td>Never-married</td>\n",
              "      <td>Other-service</td>\n",
              "      <td>Own-child</td>\n",
              "      <td>White</td>\n",
              "      <td>Male</td>\n",
              "      <td>0</td>\n",
              "      <td>0</td>\n",
              "      <td>14</td>\n",
              "      <td>United-States</td>\n",
              "      <td>&lt;=50K</td>\n",
              "      <td>0</td>\n",
              "    </tr>\n",
              "    <tr>\n",
              "      <th>32404</th>\n",
              "      <td>35</td>\n",
              "      <td>Private</td>\n",
              "      <td>379959</td>\n",
              "      <td>HS-grad</td>\n",
              "      <td>9</td>\n",
              "      <td>Divorced</td>\n",
              "      <td>Other-service</td>\n",
              "      <td>Not-in-family</td>\n",
              "      <td>White</td>\n",
              "      <td>Female</td>\n",
              "      <td>0</td>\n",
              "      <td>0</td>\n",
              "      <td>40</td>\n",
              "      <td>United-States</td>\n",
              "      <td>&lt;=50K</td>\n",
              "      <td>0</td>\n",
              "    </tr>\n",
              "  </tbody>\n",
              "</table>\n",
              "</div>"
            ],
            "text/plain": [
              "       age          workclass  fnlwgt  ...  native-country  flag_50k ind_50k\n",
              "4881    25            Private  308144  ...          Mexico     <=50K       0\n",
              "5104    90            Private   52386  ...   United-States     <=50K       0\n",
              "9171    21            Private  250051  ...   United-States     <=50K       0\n",
              "11631   20            Private  107658  ...   United-States     <=50K       0\n",
              "13084   25            Private  195994  ...       Guatemala     <=50K       0\n",
              "15059   21            Private  243368  ...          Mexico     <=50K       0\n",
              "17040   46            Private  173243  ...   United-States     <=50K       0\n",
              "18555   30            Private  144593  ...               ?     <=50K       0\n",
              "18698   19            Private   97261  ...   United-States     <=50K       0\n",
              "21318   19            Private  138153  ...   United-States     <=50K       0\n",
              "21490   19            Private  146679  ...   United-States     <=50K       0\n",
              "21875   49            Private   31267  ...   United-States     <=50K       0\n",
              "22300   25            Private  195994  ...       Guatemala     <=50K       0\n",
              "22367   44            Private  367749  ...          Mexico     <=50K       0\n",
              "22494   49   Self-emp-not-inc   43479  ...   United-States     <=50K       0\n",
              "25872   23            Private  240137  ...          Mexico     <=50K       0\n",
              "26313   28            Private  274679  ...   United-States     <=50K       0\n",
              "28230   27            Private  255582  ...   United-States     <=50K       0\n",
              "28522   42            Private  204235  ...   United-States      >50K       1\n",
              "28846   39            Private   30916  ...   United-States     <=50K       0\n",
              "29157   38            Private  207202  ...   United-States      >50K       1\n",
              "30845   46            Private  133616  ...   United-States     <=50K       0\n",
              "31993   19            Private  251579  ...   United-States     <=50K       0\n",
              "32404   35            Private  379959  ...   United-States     <=50K       0\n",
              "\n",
              "[24 rows x 16 columns]"
            ]
          },
          "metadata": {
            "tags": []
          },
          "execution_count": 464
        }
      ]
    },
    {
      "cell_type": "code",
      "metadata": {
        "id": "7_xocTl-wz3-",
        "colab_type": "code",
        "outputId": "a17209d6-8278-4c5d-e48c-3d16f696fa80",
        "colab": {
          "base_uri": "https://localhost:8080/",
          "height": 34
        }
      },
      "source": [
        "print(f'Há {df_50k[df_50k.duplicated()].count()[0]} registos duplicados')"
      ],
      "execution_count": 0,
      "outputs": [
        {
          "output_type": "stream",
          "text": [
            "Há 24 registos duplicados\n"
          ],
          "name": "stdout"
        }
      ]
    },
    {
      "cell_type": "code",
      "metadata": {
        "id": "FESe-vmcxodU",
        "colab_type": "code",
        "outputId": "3cd3304b-100a-4bc8-918c-463fbec5f1fa",
        "colab": {
          "base_uri": "https://localhost:8080/",
          "height": 34
        }
      },
      "source": [
        "#Exclusão das linhas duplicadas\n",
        "df_50k = df_50k.drop_duplicates()\n",
        "print(f'Ficheiro com {df_50k.shape[0]} linhas e {df_50k.shape[1]} colunas') "
      ],
      "execution_count": 0,
      "outputs": [
        {
          "output_type": "stream",
          "text": [
            "Ficheiro com 32537 linhas e 16 colunas\n"
          ],
          "name": "stdout"
        }
      ]
    },
    {
      "cell_type": "markdown",
      "metadata": {
        "id": "3zOh3fPY6mMr",
        "colab_type": "text"
      },
      "source": [
        "##Transformação"
      ]
    },
    {
      "cell_type": "markdown",
      "metadata": {
        "id": "oOp0l5M-AYtd",
        "colab_type": "text"
      },
      "source": [
        "> Para as colunas do tipo *string*, eliminar espaços a direta/esquerda e converter as letras para minúsculas"
      ]
    },
    {
      "cell_type": "code",
      "metadata": {
        "id": "0YuVlIFN9s2K",
        "colab_type": "code",
        "colab": {}
      },
      "source": [
        "def Transf_Lower(df):\n",
        "    # Primeira transformação: Aplicar lower() nos nomes das COLUNAS:\n",
        "    df.columns = [col.lower() for col in df.columns]\n",
        "\n",
        "    # Segunda transformação: Aplicar o método .str.lower() nos valores das COLUNAS object/strings:\n",
        "    l_ColsObject = df.select_dtypes(include=['object']).columns\n",
        "    for col in l_ColsObject:\n",
        "        df[col]= df[col].str.lower().str.strip()     "
      ],
      "execution_count": 0,
      "outputs": []
    },
    {
      "cell_type": "code",
      "metadata": {
        "id": "rbI2wQtVAPPr",
        "colab_type": "code",
        "outputId": "c085273b-ca6a-495f-f534-2525f3436a9f",
        "colab": {
          "base_uri": "https://localhost:8080/",
          "height": 204
        }
      },
      "source": [
        "Transf_Lower(df_50k)\n",
        "df_50k.head(5)"
      ],
      "execution_count": 90,
      "outputs": [
        {
          "output_type": "execute_result",
          "data": {
            "text/html": [
              "<div>\n",
              "<style scoped>\n",
              "    .dataframe tbody tr th:only-of-type {\n",
              "        vertical-align: middle;\n",
              "    }\n",
              "\n",
              "    .dataframe tbody tr th {\n",
              "        vertical-align: top;\n",
              "    }\n",
              "\n",
              "    .dataframe thead th {\n",
              "        text-align: right;\n",
              "    }\n",
              "</style>\n",
              "<table border=\"1\" class=\"dataframe\">\n",
              "  <thead>\n",
              "    <tr style=\"text-align: right;\">\n",
              "      <th></th>\n",
              "      <th>age</th>\n",
              "      <th>workclass</th>\n",
              "      <th>fnlwgt</th>\n",
              "      <th>education</th>\n",
              "      <th>education-num</th>\n",
              "      <th>marital-status</th>\n",
              "      <th>occupation</th>\n",
              "      <th>relationship</th>\n",
              "      <th>race</th>\n",
              "      <th>sex</th>\n",
              "      <th>capital-gain</th>\n",
              "      <th>capital-loss</th>\n",
              "      <th>hours-per-week</th>\n",
              "      <th>native-country</th>\n",
              "      <th>flag_50k</th>\n",
              "      <th>ind_50k</th>\n",
              "    </tr>\n",
              "  </thead>\n",
              "  <tbody>\n",
              "    <tr>\n",
              "      <th>0</th>\n",
              "      <td>39</td>\n",
              "      <td>state-gov</td>\n",
              "      <td>77516</td>\n",
              "      <td>bachelors</td>\n",
              "      <td>13</td>\n",
              "      <td>never-married</td>\n",
              "      <td>adm-clerical</td>\n",
              "      <td>not-in-family</td>\n",
              "      <td>white</td>\n",
              "      <td>male</td>\n",
              "      <td>2174</td>\n",
              "      <td>0</td>\n",
              "      <td>40</td>\n",
              "      <td>united-states</td>\n",
              "      <td>&lt;=50k</td>\n",
              "      <td>0</td>\n",
              "    </tr>\n",
              "    <tr>\n",
              "      <th>1</th>\n",
              "      <td>50</td>\n",
              "      <td>self-emp-not-inc</td>\n",
              "      <td>83311</td>\n",
              "      <td>bachelors</td>\n",
              "      <td>13</td>\n",
              "      <td>married-civ-spouse</td>\n",
              "      <td>exec-managerial</td>\n",
              "      <td>husband</td>\n",
              "      <td>white</td>\n",
              "      <td>male</td>\n",
              "      <td>0</td>\n",
              "      <td>0</td>\n",
              "      <td>13</td>\n",
              "      <td>united-states</td>\n",
              "      <td>&lt;=50k</td>\n",
              "      <td>0</td>\n",
              "    </tr>\n",
              "    <tr>\n",
              "      <th>2</th>\n",
              "      <td>38</td>\n",
              "      <td>private</td>\n",
              "      <td>215646</td>\n",
              "      <td>hs-grad</td>\n",
              "      <td>9</td>\n",
              "      <td>divorced</td>\n",
              "      <td>handlers-cleaners</td>\n",
              "      <td>not-in-family</td>\n",
              "      <td>white</td>\n",
              "      <td>male</td>\n",
              "      <td>0</td>\n",
              "      <td>0</td>\n",
              "      <td>40</td>\n",
              "      <td>united-states</td>\n",
              "      <td>&lt;=50k</td>\n",
              "      <td>0</td>\n",
              "    </tr>\n",
              "    <tr>\n",
              "      <th>3</th>\n",
              "      <td>53</td>\n",
              "      <td>private</td>\n",
              "      <td>234721</td>\n",
              "      <td>11th</td>\n",
              "      <td>7</td>\n",
              "      <td>married-civ-spouse</td>\n",
              "      <td>handlers-cleaners</td>\n",
              "      <td>husband</td>\n",
              "      <td>black</td>\n",
              "      <td>male</td>\n",
              "      <td>0</td>\n",
              "      <td>0</td>\n",
              "      <td>40</td>\n",
              "      <td>united-states</td>\n",
              "      <td>&lt;=50k</td>\n",
              "      <td>0</td>\n",
              "    </tr>\n",
              "    <tr>\n",
              "      <th>4</th>\n",
              "      <td>28</td>\n",
              "      <td>private</td>\n",
              "      <td>338409</td>\n",
              "      <td>bachelors</td>\n",
              "      <td>13</td>\n",
              "      <td>married-civ-spouse</td>\n",
              "      <td>prof-specialty</td>\n",
              "      <td>wife</td>\n",
              "      <td>black</td>\n",
              "      <td>female</td>\n",
              "      <td>0</td>\n",
              "      <td>0</td>\n",
              "      <td>40</td>\n",
              "      <td>cuba</td>\n",
              "      <td>&lt;=50k</td>\n",
              "      <td>0</td>\n",
              "    </tr>\n",
              "  </tbody>\n",
              "</table>\n",
              "</div>"
            ],
            "text/plain": [
              "   age         workclass  fnlwgt  ... native-country  flag_50k ind_50k\n",
              "0   39         state-gov   77516  ...  united-states     <=50k       0\n",
              "1   50  self-emp-not-inc   83311  ...  united-states     <=50k       0\n",
              "2   38           private  215646  ...  united-states     <=50k       0\n",
              "3   53           private  234721  ...  united-states     <=50k       0\n",
              "4   28           private  338409  ...           cuba     <=50k       0\n",
              "\n",
              "[5 rows x 16 columns]"
            ]
          },
          "metadata": {
            "tags": []
          },
          "execution_count": 90
        }
      ]
    },
    {
      "cell_type": "markdown",
      "metadata": {
        "id": "PBFzzOFhb3Mk",
        "colab_type": "text"
      },
      "source": [
        "## Missing Values"
      ]
    },
    {
      "cell_type": "markdown",
      "metadata": {
        "id": "INOfmunhDpDD",
        "colab_type": "text"
      },
      "source": [
        "**No dataframe, o valor \"?\" será classificado como um *Missing Value*.** \n",
        "\n",
        "Segue a quantidade de registos que contém MV (e sua porcentagem)"
      ]
    },
    {
      "cell_type": "code",
      "metadata": {
        "id": "QbfQ4jus77_Y",
        "colab_type": "code",
        "outputId": "100174b2-6b0a-46fd-b94f-967e8811d250",
        "colab": {
          "base_uri": "https://localhost:8080/",
          "height": 68
        }
      },
      "source": [
        "# O valor \"?\" aparece nas colunas \"workclass\", \"occupation\" e \"native-country\".\n",
        "n_mv_workclass  = df_50k[df_50k[\"workclass\"].isin([\"?\"])].count()[0]\n",
        "n_mv_occupation = df_50k[df_50k[\"occupation\"].isin([\"?\"])].count()[0]\n",
        "n_mv_country    = df_50k[df_50k[\"native-country\"].isin([\"?\"])].count()[0]\n",
        "\n",
        "print(f'{n_mv_workclass} registos tem a coluna \"workclass\" com Missing Value ({round((n_mv_workclass*100)/df_50k.shape[0],2)}%)') \n",
        "print(f'{n_mv_occupation} registos tem a coluna \"occupation\" com Missing Value ({round((n_mv_occupation*100)/df_50k.shape[0],2)}%)') \n",
        "print(f'{n_mv_country} registos tem a coluna \"native-country\" com Missing Value ({round((n_mv_country*100)/df_50k.shape[0],2)}%)') "
      ],
      "execution_count": 91,
      "outputs": [
        {
          "output_type": "stream",
          "text": [
            "1836 registos tem a coluna \"workclass\" com Missing Value (5.64%)\n",
            "1843 registos tem a coluna \"occupation\" com Missing Value (5.66%)\n",
            "583 registos tem a coluna \"native-country\" com Missing Value (1.79%)\n"
          ],
          "name": "stdout"
        }
      ]
    },
    {
      "cell_type": "markdown",
      "metadata": {
        "id": "2ZbYrNnyEioO",
        "colab_type": "text"
      },
      "source": [
        "A quantidade de registos que contém \"?\" nas três colunas é muito baixa:"
      ]
    },
    {
      "cell_type": "code",
      "metadata": {
        "id": "xdFCi4QqDA1S",
        "colab_type": "code",
        "outputId": "7af0f382-c300-48c7-98fe-858be17279a5",
        "colab": {
          "base_uri": "https://localhost:8080/",
          "height": 34
        }
      },
      "source": [
        "# Registos onde \"?\" aparece nas 3 colunas\n",
        "F1 = df_50k[\"workclass\"].isin([\"?\"]) \n",
        "F2 = df_50k[\"occupation\"].isin([\"?\"]) \n",
        "F3 = df_50k[\"native-country\"].isin([\"?\"]) \n",
        "  \n",
        "f'{df_50k[F1 & F2 & F3].shape[0]} registos'"
      ],
      "execution_count": 92,
      "outputs": [
        {
          "output_type": "execute_result",
          "data": {
            "text/plain": [
              "'27 registos'"
            ]
          },
          "metadata": {
            "tags": []
          },
          "execution_count": 92
        }
      ]
    },
    {
      "cell_type": "markdown",
      "metadata": {
        "id": "Is9AbF6MFNQt",
        "colab_type": "text"
      },
      "source": [
        "> **Quanto aos MVs, opta-se inicialmente por não aplicar qualquer alteração/substituição**"
      ]
    },
    {
      "cell_type": "code",
      "metadata": {
        "id": "d8OhJ8VrF7ju",
        "colab_type": "code",
        "colab": {}
      },
      "source": [
        "def Replace_MV(df):\n",
        "    #Obter as coluanas string\n",
        "    l_ColsObject = df.select_dtypes(include=['object']).columns\n",
        "\n",
        "    #Substituir \"?\" pel o valor de maior frequencia\n",
        "    for col in l_ColsObject:\n",
        "        df[col] = df[col].replace({\"?\" : df_50k[col].mode().iloc[0]})"
      ],
      "execution_count": 0,
      "outputs": []
    },
    {
      "cell_type": "code",
      "metadata": {
        "id": "IAtwjEFaIh4p",
        "colab_type": "code",
        "colab": {}
      },
      "source": [
        "#Substituir Missing Value\n",
        "#Replace_MV(df_50k)"
      ],
      "execution_count": 0,
      "outputs": []
    },
    {
      "cell_type": "markdown",
      "metadata": {
        "id": "XBj6NEZU6-Lk",
        "colab_type": "text"
      },
      "source": [
        "##Discretizar (???)"
      ]
    },
    {
      "cell_type": "markdown",
      "metadata": {
        "id": "Yn3taq3yLUqj",
        "colab_type": "text"
      },
      "source": [
        "Construir intervalos/classes para variáveis numéricas."
      ]
    },
    {
      "cell_type": "code",
      "metadata": {
        "id": "LFPc9boDLf-K",
        "colab_type": "code",
        "outputId": "cd7d007d-edb5-482b-c64d-2202ba1af30a",
        "colab": {
          "base_uri": "https://localhost:8080/",
          "height": 68
        }
      },
      "source": [
        "#Colunas numericas\n",
        "df_50k.select_dtypes(include=['number']).columns"
      ],
      "execution_count": 95,
      "outputs": [
        {
          "output_type": "execute_result",
          "data": {
            "text/plain": [
              "Index(['age', 'fnlwgt', 'education-num', 'capital-gain', 'capital-loss',\n",
              "       'hours-per-week', 'ind_50k'],\n",
              "      dtype='object')"
            ]
          },
          "metadata": {
            "tags": []
          },
          "execution_count": 95
        }
      ]
    },
    {
      "cell_type": "code",
      "metadata": {
        "id": "_G4MKKKs7Cc5",
        "colab_type": "code",
        "outputId": "1f2823fe-fb89-40dd-805d-d037f6b44143",
        "colab": {
          "base_uri": "https://localhost:8080/",
          "height": 204
        }
      },
      "source": [
        "#Discretizar Age\n",
        "df_50k['age_class'] = pd.qcut(df_50k['age'], 10, labels=False)\n",
        "df_50k['age_class'].value_counts()"
      ],
      "execution_count": 96,
      "outputs": [
        {
          "output_type": "execute_result",
          "data": {
            "text/plain": [
              "0    3895\n",
              "4    3518\n",
              "8    3461\n",
              "2    3376\n",
              "1    3301\n",
              "5    3245\n",
              "7    3167\n",
              "6    3008\n",
              "9    2999\n",
              "3    2591\n",
              "Name: age_class, dtype: int64"
            ]
          },
          "metadata": {
            "tags": []
          },
          "execution_count": 96
        }
      ]
    },
    {
      "cell_type": "code",
      "metadata": {
        "id": "FC2Mw64mOlN0",
        "colab_type": "code",
        "outputId": "61a4a993-acb1-4cfc-e2e0-d32d45cc3478",
        "colab": {
          "base_uri": "https://localhost:8080/",
          "height": 204
        }
      },
      "source": [
        "df_50k.head(5)"
      ],
      "execution_count": 97,
      "outputs": [
        {
          "output_type": "execute_result",
          "data": {
            "text/html": [
              "<div>\n",
              "<style scoped>\n",
              "    .dataframe tbody tr th:only-of-type {\n",
              "        vertical-align: middle;\n",
              "    }\n",
              "\n",
              "    .dataframe tbody tr th {\n",
              "        vertical-align: top;\n",
              "    }\n",
              "\n",
              "    .dataframe thead th {\n",
              "        text-align: right;\n",
              "    }\n",
              "</style>\n",
              "<table border=\"1\" class=\"dataframe\">\n",
              "  <thead>\n",
              "    <tr style=\"text-align: right;\">\n",
              "      <th></th>\n",
              "      <th>age</th>\n",
              "      <th>workclass</th>\n",
              "      <th>fnlwgt</th>\n",
              "      <th>education</th>\n",
              "      <th>education-num</th>\n",
              "      <th>marital-status</th>\n",
              "      <th>occupation</th>\n",
              "      <th>relationship</th>\n",
              "      <th>race</th>\n",
              "      <th>sex</th>\n",
              "      <th>capital-gain</th>\n",
              "      <th>capital-loss</th>\n",
              "      <th>hours-per-week</th>\n",
              "      <th>native-country</th>\n",
              "      <th>flag_50k</th>\n",
              "      <th>ind_50k</th>\n",
              "      <th>age_class</th>\n",
              "    </tr>\n",
              "  </thead>\n",
              "  <tbody>\n",
              "    <tr>\n",
              "      <th>0</th>\n",
              "      <td>39</td>\n",
              "      <td>state-gov</td>\n",
              "      <td>77516</td>\n",
              "      <td>bachelors</td>\n",
              "      <td>13</td>\n",
              "      <td>never-married</td>\n",
              "      <td>adm-clerical</td>\n",
              "      <td>not-in-family</td>\n",
              "      <td>white</td>\n",
              "      <td>male</td>\n",
              "      <td>2174</td>\n",
              "      <td>0</td>\n",
              "      <td>40</td>\n",
              "      <td>united-states</td>\n",
              "      <td>&lt;=50k</td>\n",
              "      <td>0</td>\n",
              "      <td>5</td>\n",
              "    </tr>\n",
              "    <tr>\n",
              "      <th>1</th>\n",
              "      <td>50</td>\n",
              "      <td>self-emp-not-inc</td>\n",
              "      <td>83311</td>\n",
              "      <td>bachelors</td>\n",
              "      <td>13</td>\n",
              "      <td>married-civ-spouse</td>\n",
              "      <td>exec-managerial</td>\n",
              "      <td>husband</td>\n",
              "      <td>white</td>\n",
              "      <td>male</td>\n",
              "      <td>0</td>\n",
              "      <td>0</td>\n",
              "      <td>13</td>\n",
              "      <td>united-states</td>\n",
              "      <td>&lt;=50k</td>\n",
              "      <td>0</td>\n",
              "      <td>7</td>\n",
              "    </tr>\n",
              "    <tr>\n",
              "      <th>2</th>\n",
              "      <td>38</td>\n",
              "      <td>private</td>\n",
              "      <td>215646</td>\n",
              "      <td>hs-grad</td>\n",
              "      <td>9</td>\n",
              "      <td>divorced</td>\n",
              "      <td>handlers-cleaners</td>\n",
              "      <td>not-in-family</td>\n",
              "      <td>white</td>\n",
              "      <td>male</td>\n",
              "      <td>0</td>\n",
              "      <td>0</td>\n",
              "      <td>40</td>\n",
              "      <td>united-states</td>\n",
              "      <td>&lt;=50k</td>\n",
              "      <td>0</td>\n",
              "      <td>5</td>\n",
              "    </tr>\n",
              "    <tr>\n",
              "      <th>3</th>\n",
              "      <td>53</td>\n",
              "      <td>private</td>\n",
              "      <td>234721</td>\n",
              "      <td>11th</td>\n",
              "      <td>7</td>\n",
              "      <td>married-civ-spouse</td>\n",
              "      <td>handlers-cleaners</td>\n",
              "      <td>husband</td>\n",
              "      <td>black</td>\n",
              "      <td>male</td>\n",
              "      <td>0</td>\n",
              "      <td>0</td>\n",
              "      <td>40</td>\n",
              "      <td>united-states</td>\n",
              "      <td>&lt;=50k</td>\n",
              "      <td>0</td>\n",
              "      <td>8</td>\n",
              "    </tr>\n",
              "    <tr>\n",
              "      <th>4</th>\n",
              "      <td>28</td>\n",
              "      <td>private</td>\n",
              "      <td>338409</td>\n",
              "      <td>bachelors</td>\n",
              "      <td>13</td>\n",
              "      <td>married-civ-spouse</td>\n",
              "      <td>prof-specialty</td>\n",
              "      <td>wife</td>\n",
              "      <td>black</td>\n",
              "      <td>female</td>\n",
              "      <td>0</td>\n",
              "      <td>0</td>\n",
              "      <td>40</td>\n",
              "      <td>cuba</td>\n",
              "      <td>&lt;=50k</td>\n",
              "      <td>0</td>\n",
              "      <td>2</td>\n",
              "    </tr>\n",
              "  </tbody>\n",
              "</table>\n",
              "</div>"
            ],
            "text/plain": [
              "   age         workclass  fnlwgt  ... flag_50k  ind_50k age_class\n",
              "0   39         state-gov   77516  ...    <=50k        0         5\n",
              "1   50  self-emp-not-inc   83311  ...    <=50k        0         7\n",
              "2   38           private  215646  ...    <=50k        0         5\n",
              "3   53           private  234721  ...    <=50k        0         8\n",
              "4   28           private  338409  ...    <=50k        0         2\n",
              "\n",
              "[5 rows x 17 columns]"
            ]
          },
          "metadata": {
            "tags": []
          },
          "execution_count": 97
        }
      ]
    },
    {
      "cell_type": "code",
      "metadata": {
        "id": "RBWitqcsPgMw",
        "colab_type": "code",
        "colab": {}
      },
      "source": [
        "#Pra que?\n",
        "#pd.crosstab(df_50k['age_class'], df_50k['ind_50k'], margins=True)"
      ],
      "execution_count": 0,
      "outputs": []
    },
    {
      "cell_type": "markdown",
      "metadata": {
        "id": "h_Nh0ctCX6Gk",
        "colab_type": "text"
      },
      "source": [
        "#**4M - MODELING**"
      ]
    },
    {
      "cell_type": "markdown",
      "metadata": {
        "id": "6CGb0YPFaTP4",
        "colab_type": "text"
      },
      "source": [
        "> Aplicar algoritmos (*Supervised* vs *Unsupervised Learning*)."
      ]
    },
    {
      "cell_type": "markdown",
      "metadata": {
        "id": "PpFzDmkhM3ea",
        "colab_type": "text"
      },
      "source": [
        "##imports"
      ]
    },
    {
      "cell_type": "code",
      "metadata": {
        "id": "d0SAY78uAtVl",
        "colab_type": "code",
        "colab": {
          "base_uri": "https://localhost:8080/",
          "height": 71
        },
        "outputId": "64a6c1aa-6468-48db-83ce-633e0a8e64bf"
      },
      "source": [
        "import numpy as np\n",
        "import pandas as pd\n",
        "import seaborn as sns\n",
        "import matplotlib.pyplot as plt\n",
        "\n",
        "from sklearn.metrics import accuracy_score\n",
        "from sklearn.model_selection import train_test_split\n",
        "from sklearn.metrics import classification_report\n",
        "from sklearn.metrics import confusion_matrix\n",
        "\n",
        "from sklearn.model_selection import GridSearchCV, RandomizedSearchCV\n",
        "from sklearn.model_selection import cross_val_score\n",
        "from time import time\n",
        "from operator import itemgetter\n",
        "from scipy.stats import randint\n",
        "\n",
        "from sklearn.tree import export_graphviz\n",
        "from sklearn.externals.six import StringIO  \n",
        "from IPython.display import Image  \n",
        "import pydotplus\n",
        "\n",
        "np.set_printoptions(suppress=True)\n",
        "\n",
        "from sklearn.tree import DecisionTreeClassifier\n",
        "from sklearn.ensemble import RandomForestClassifier\n",
        "\n",
        "import warnings\n",
        "warnings.filterwarnings(\"ignore\")"
      ],
      "execution_count": 98,
      "outputs": [
        {
          "output_type": "stream",
          "text": [
            "/usr/local/lib/python3.6/dist-packages/sklearn/externals/six.py:31: DeprecationWarning: The module is deprecated in version 0.21 and will be removed in version 0.23 since we've dropped support for Python 2.7. Please rely on the official version of six (https://pypi.org/project/six/).\n",
            "  \"(https://pypi.org/project/six/).\", DeprecationWarning)\n"
          ],
          "name": "stderr"
        }
      ]
    },
    {
      "cell_type": "markdown",
      "metadata": {
        "id": "zJzZay89M_At",
        "colab_type": "text"
      },
      "source": [
        "##Método da matriz de confusão"
      ]
    },
    {
      "cell_type": "code",
      "metadata": {
        "id": "yvLvigcHI2fs",
        "colab_type": "code",
        "colab": {}
      },
      "source": [
        "def make_confusion_matrix(cf,\n",
        "                          group_names=None,\n",
        "                          categories='auto',\n",
        "                          count=True,\n",
        "                          percent=True,\n",
        "                          cbar=True,\n",
        "                          xyticks=False,\n",
        "                          xyplotlabels=True,\n",
        "                          sum_stats=True,\n",
        "                          figsize= (8,8),\n",
        "                          cmap='Blues'):\n",
        "    '''\n",
        "    This function will make a pretty plot of an sklearn Confusion Matrix cm using a Seaborn heatmap visualization.\n",
        "    Arguments\n",
        "    ---------\n",
        "    cf:            confusion matrix to be passed in\n",
        "    group_names:   List of strings that represent the labels row by row to be shown in each square.\n",
        "    categories:    List of strings containing the categories to be displayed on the x,y axis. Default is 'auto'\n",
        "    count:         If True, show the raw number in the confusion matrix. Default is True.\n",
        "    normalize:     If True, show the proportions for each category. Default is True.\n",
        "    cbar:          If True, show the color bar. The cbar values are based off the values in the confusion matrix.\n",
        "                   Default is True.\n",
        "    xyticks:       If True, show x and y ticks. Default is True.\n",
        "    xyplotlabels:  If True, show 'True Label' and 'Predicted Label' on the figure. Default is True.\n",
        "    sum_stats:     If True, display summary statistics below the figure. Default is True.\n",
        "    figsize:       Tuple representing the figure size. Default will be the matplotlib rcParams value.\n",
        "    cmap:          Colormap of the values displayed from matplotlib.pyplot.cm. Default is 'Blues'\n",
        "                   See http://matplotlib.org/examples/color/colormaps_reference.html\n",
        "    '''\n",
        "\n",
        "\n",
        "    # CODE TO GENERATE TEXT INSIDE EACH SQUARE\n",
        "    blanks = ['' for i in range(cf.size)]\n",
        "\n",
        "    if group_names and len(group_names)==cf.size:\n",
        "        group_labels = [\"{}\\n\".format(value) for value in group_names]\n",
        "    else:\n",
        "        group_labels = blanks\n",
        "\n",
        "    if count:\n",
        "        group_counts = [\"{0:0.0f}\\n\".format(value) for value in cf.flatten()]\n",
        "    else:\n",
        "        group_counts = blanks\n",
        "\n",
        "    if percent:\n",
        "        group_percentages = [\"{0:.2%}\".format(value) for value in cf.flatten()/np.sum(cf)]\n",
        "    else:\n",
        "        group_percentages = blanks\n",
        "\n",
        "    box_labels = [f\"{v1}{v2}{v3}\".strip() for v1, v2, v3 in zip(group_labels,group_counts,group_percentages)]\n",
        "    box_labels = np.asarray(box_labels).reshape(cf.shape[0],cf.shape[1])\n",
        "\n",
        "\n",
        "    # CODE TO GENERATE SUMMARY STATISTICS & TEXT FOR SUMMARY STATS\n",
        "    if sum_stats:\n",
        "        #Accuracy is sum of diagonal divided by total observations\n",
        "        accuracy  = np.trace(cf) / float(np.sum(cf))\n",
        "\n",
        "        #if it is a binary confusion matrix, show some more stats\n",
        "        if len(cf)==2:\n",
        "            #Metrics for Binary Confusion Matrices\n",
        "            precision = cf[1,1] / sum(cf[:,1])\n",
        "            recall    = cf[1,1] / sum(cf[1,:])\n",
        "            f1_score  = 2*precision*recall / (precision + recall)\n",
        "            stats_text = \"\\n\\nAccuracy={:0.3f}\\nPrecision={:0.3f}\\nRecall={:0.3f}\\nF1 Score={:0.3f}\".format(accuracy,precision,recall,f1_score)\n",
        "        else:\n",
        "            stats_text = \"\\n\\nAccuracy={:0.3f}\".format(accuracy)\n",
        "    else:\n",
        "        stats_text = \"\"\n",
        "\n",
        "\n",
        "    # SET FIGURE PARAMETERS ACCORDING TO OTHER ARGUMENTS\n",
        "    if figsize==None:\n",
        "        #Get default figure size if not set\n",
        "        figsize = plt.rcParams.get('figure.figsize')\n",
        "\n",
        "    if xyticks==False:\n",
        "        #Do not show categories if xyticks is False\n",
        "        categories=False\n",
        "\n",
        "\n",
        "    # MAKE THE HEATMAP VISUALIZATION\n",
        "    plt.figure(figsize=figsize)\n",
        "    sns.heatmap(cf,annot=box_labels,fmt=\"\",cmap=cmap,cbar=cbar,xticklabels=categories,yticklabels=categories)\n",
        "\n",
        "    if xyplotlabels:\n",
        "        plt.ylabel('True label')\n",
        "        plt.xlabel('Predicted label' + stats_text)\n",
        "    else:\n",
        "        plt.xlabel(stats_text)"
      ],
      "execution_count": 0,
      "outputs": []
    },
    {
      "cell_type": "markdown",
      "metadata": {
        "id": "PWEgWSeDNGr_",
        "colab_type": "text"
      },
      "source": [
        "##Parametrização"
      ]
    },
    {
      "cell_type": "code",
      "metadata": {
        "id": "nxo9D0tOASy-",
        "colab_type": "code",
        "colab": {}
      },
      "source": [
        "i_CV= 10 # Número de Cross-Validations\n",
        "i_Seed= 20111974 # semente por questões de reproducibilidade\n",
        "f_Test_Size= 0.3"
      ],
      "execution_count": 0,
      "outputs": []
    },
    {
      "cell_type": "markdown",
      "metadata": {
        "id": "PTxg_-lIubtq",
        "colab_type": "text"
      },
      "source": [
        "##Carregamento dos dados(Sem CSV :( )"
      ]
    },
    {
      "cell_type": "code",
      "metadata": {
        "id": "tMH_RurjvpKN",
        "colab_type": "code",
        "outputId": "cccb7717-d1d8-48fd-895a-ae4353c8750b",
        "colab": {
          "base_uri": "https://localhost:8080/",
          "height": 343
        }
      },
      "source": [
        "from sklearn.preprocessing import LabelEncoder, OneHotEncoder\n",
        "\n",
        "copyDataframe = df_50k.copy()\n",
        "copyDataframe.head()\n",
        "\n",
        "copyDataframe['sex'].unique()\n",
        "copyDataframe['race'].unique()\n",
        "\n",
        "le = LabelEncoder()\n",
        "copyDataframe['sex_le'] = le.fit_transform(copyDataframe['sex'])\n",
        "copyDataframe['race_le'] = le.fit_transform(copyDataframe['race'])\n",
        "copyDataframe['marital_status_le'] = le.fit_transform(copyDataframe['marital-status'])\n",
        "copyDataframe['relationship_le'] = le.fit_transform(copyDataframe['relationship'])\n",
        "copyDataframe['flag_50k_le'] = le.fit_transform(copyDataframe['flag_50k'])\n",
        "\n",
        "\n",
        "dummiesSex= pd.get_dummies(copyDataframe['sex'])\n",
        "copyDataframe= pd.concat([copyDataframe, dummiesSex], axis= 1)\n",
        "\n",
        "dummiesRace= pd.get_dummies(copyDataframe['race'])\n",
        "copyDataframe= pd.concat([copyDataframe, dummiesRace], axis= 1)\n",
        "\n",
        "dummiesMaritalStatus= pd.get_dummies(copyDataframe['marital-status'])\n",
        "copyDataframe= pd.concat([copyDataframe, dummiesMaritalStatus], axis= 1)\n",
        "\n",
        "dummiesRelationship= pd.get_dummies(copyDataframe['relationship'])\n",
        "copyDataframe= pd.concat([copyDataframe, dummiesRelationship], axis= 1)\n",
        "\n",
        "copyDataframe.head()"
      ],
      "execution_count": 101,
      "outputs": [
        {
          "output_type": "execute_result",
          "data": {
            "text/html": [
              "<div>\n",
              "<style scoped>\n",
              "    .dataframe tbody tr th:only-of-type {\n",
              "        vertical-align: middle;\n",
              "    }\n",
              "\n",
              "    .dataframe tbody tr th {\n",
              "        vertical-align: top;\n",
              "    }\n",
              "\n",
              "    .dataframe thead th {\n",
              "        text-align: right;\n",
              "    }\n",
              "</style>\n",
              "<table border=\"1\" class=\"dataframe\">\n",
              "  <thead>\n",
              "    <tr style=\"text-align: right;\">\n",
              "      <th></th>\n",
              "      <th>age</th>\n",
              "      <th>workclass</th>\n",
              "      <th>fnlwgt</th>\n",
              "      <th>education</th>\n",
              "      <th>education-num</th>\n",
              "      <th>marital-status</th>\n",
              "      <th>occupation</th>\n",
              "      <th>relationship</th>\n",
              "      <th>race</th>\n",
              "      <th>sex</th>\n",
              "      <th>capital-gain</th>\n",
              "      <th>capital-loss</th>\n",
              "      <th>hours-per-week</th>\n",
              "      <th>native-country</th>\n",
              "      <th>flag_50k</th>\n",
              "      <th>ind_50k</th>\n",
              "      <th>age_class</th>\n",
              "      <th>sex_le</th>\n",
              "      <th>race_le</th>\n",
              "      <th>marital_status_le</th>\n",
              "      <th>relationship_le</th>\n",
              "      <th>flag_50k_le</th>\n",
              "      <th>female</th>\n",
              "      <th>male</th>\n",
              "      <th>amer-indian-eskimo</th>\n",
              "      <th>asian-pac-islander</th>\n",
              "      <th>black</th>\n",
              "      <th>other</th>\n",
              "      <th>white</th>\n",
              "      <th>divorced</th>\n",
              "      <th>married-af-spouse</th>\n",
              "      <th>married-civ-spouse</th>\n",
              "      <th>married-spouse-absent</th>\n",
              "      <th>never-married</th>\n",
              "      <th>separated</th>\n",
              "      <th>widowed</th>\n",
              "      <th>husband</th>\n",
              "      <th>not-in-family</th>\n",
              "      <th>other-relative</th>\n",
              "      <th>own-child</th>\n",
              "      <th>unmarried</th>\n",
              "      <th>wife</th>\n",
              "    </tr>\n",
              "  </thead>\n",
              "  <tbody>\n",
              "    <tr>\n",
              "      <th>0</th>\n",
              "      <td>39</td>\n",
              "      <td>state-gov</td>\n",
              "      <td>77516</td>\n",
              "      <td>bachelors</td>\n",
              "      <td>13</td>\n",
              "      <td>never-married</td>\n",
              "      <td>adm-clerical</td>\n",
              "      <td>not-in-family</td>\n",
              "      <td>white</td>\n",
              "      <td>male</td>\n",
              "      <td>2174</td>\n",
              "      <td>0</td>\n",
              "      <td>40</td>\n",
              "      <td>united-states</td>\n",
              "      <td>&lt;=50k</td>\n",
              "      <td>0</td>\n",
              "      <td>5</td>\n",
              "      <td>1</td>\n",
              "      <td>4</td>\n",
              "      <td>4</td>\n",
              "      <td>1</td>\n",
              "      <td>0</td>\n",
              "      <td>0</td>\n",
              "      <td>1</td>\n",
              "      <td>0</td>\n",
              "      <td>0</td>\n",
              "      <td>0</td>\n",
              "      <td>0</td>\n",
              "      <td>1</td>\n",
              "      <td>0</td>\n",
              "      <td>0</td>\n",
              "      <td>0</td>\n",
              "      <td>0</td>\n",
              "      <td>1</td>\n",
              "      <td>0</td>\n",
              "      <td>0</td>\n",
              "      <td>0</td>\n",
              "      <td>1</td>\n",
              "      <td>0</td>\n",
              "      <td>0</td>\n",
              "      <td>0</td>\n",
              "      <td>0</td>\n",
              "    </tr>\n",
              "    <tr>\n",
              "      <th>1</th>\n",
              "      <td>50</td>\n",
              "      <td>self-emp-not-inc</td>\n",
              "      <td>83311</td>\n",
              "      <td>bachelors</td>\n",
              "      <td>13</td>\n",
              "      <td>married-civ-spouse</td>\n",
              "      <td>exec-managerial</td>\n",
              "      <td>husband</td>\n",
              "      <td>white</td>\n",
              "      <td>male</td>\n",
              "      <td>0</td>\n",
              "      <td>0</td>\n",
              "      <td>13</td>\n",
              "      <td>united-states</td>\n",
              "      <td>&lt;=50k</td>\n",
              "      <td>0</td>\n",
              "      <td>7</td>\n",
              "      <td>1</td>\n",
              "      <td>4</td>\n",
              "      <td>2</td>\n",
              "      <td>0</td>\n",
              "      <td>0</td>\n",
              "      <td>0</td>\n",
              "      <td>1</td>\n",
              "      <td>0</td>\n",
              "      <td>0</td>\n",
              "      <td>0</td>\n",
              "      <td>0</td>\n",
              "      <td>1</td>\n",
              "      <td>0</td>\n",
              "      <td>0</td>\n",
              "      <td>1</td>\n",
              "      <td>0</td>\n",
              "      <td>0</td>\n",
              "      <td>0</td>\n",
              "      <td>0</td>\n",
              "      <td>1</td>\n",
              "      <td>0</td>\n",
              "      <td>0</td>\n",
              "      <td>0</td>\n",
              "      <td>0</td>\n",
              "      <td>0</td>\n",
              "    </tr>\n",
              "    <tr>\n",
              "      <th>2</th>\n",
              "      <td>38</td>\n",
              "      <td>private</td>\n",
              "      <td>215646</td>\n",
              "      <td>hs-grad</td>\n",
              "      <td>9</td>\n",
              "      <td>divorced</td>\n",
              "      <td>handlers-cleaners</td>\n",
              "      <td>not-in-family</td>\n",
              "      <td>white</td>\n",
              "      <td>male</td>\n",
              "      <td>0</td>\n",
              "      <td>0</td>\n",
              "      <td>40</td>\n",
              "      <td>united-states</td>\n",
              "      <td>&lt;=50k</td>\n",
              "      <td>0</td>\n",
              "      <td>5</td>\n",
              "      <td>1</td>\n",
              "      <td>4</td>\n",
              "      <td>0</td>\n",
              "      <td>1</td>\n",
              "      <td>0</td>\n",
              "      <td>0</td>\n",
              "      <td>1</td>\n",
              "      <td>0</td>\n",
              "      <td>0</td>\n",
              "      <td>0</td>\n",
              "      <td>0</td>\n",
              "      <td>1</td>\n",
              "      <td>1</td>\n",
              "      <td>0</td>\n",
              "      <td>0</td>\n",
              "      <td>0</td>\n",
              "      <td>0</td>\n",
              "      <td>0</td>\n",
              "      <td>0</td>\n",
              "      <td>0</td>\n",
              "      <td>1</td>\n",
              "      <td>0</td>\n",
              "      <td>0</td>\n",
              "      <td>0</td>\n",
              "      <td>0</td>\n",
              "    </tr>\n",
              "    <tr>\n",
              "      <th>3</th>\n",
              "      <td>53</td>\n",
              "      <td>private</td>\n",
              "      <td>234721</td>\n",
              "      <td>11th</td>\n",
              "      <td>7</td>\n",
              "      <td>married-civ-spouse</td>\n",
              "      <td>handlers-cleaners</td>\n",
              "      <td>husband</td>\n",
              "      <td>black</td>\n",
              "      <td>male</td>\n",
              "      <td>0</td>\n",
              "      <td>0</td>\n",
              "      <td>40</td>\n",
              "      <td>united-states</td>\n",
              "      <td>&lt;=50k</td>\n",
              "      <td>0</td>\n",
              "      <td>8</td>\n",
              "      <td>1</td>\n",
              "      <td>2</td>\n",
              "      <td>2</td>\n",
              "      <td>0</td>\n",
              "      <td>0</td>\n",
              "      <td>0</td>\n",
              "      <td>1</td>\n",
              "      <td>0</td>\n",
              "      <td>0</td>\n",
              "      <td>1</td>\n",
              "      <td>0</td>\n",
              "      <td>0</td>\n",
              "      <td>0</td>\n",
              "      <td>0</td>\n",
              "      <td>1</td>\n",
              "      <td>0</td>\n",
              "      <td>0</td>\n",
              "      <td>0</td>\n",
              "      <td>0</td>\n",
              "      <td>1</td>\n",
              "      <td>0</td>\n",
              "      <td>0</td>\n",
              "      <td>0</td>\n",
              "      <td>0</td>\n",
              "      <td>0</td>\n",
              "    </tr>\n",
              "    <tr>\n",
              "      <th>4</th>\n",
              "      <td>28</td>\n",
              "      <td>private</td>\n",
              "      <td>338409</td>\n",
              "      <td>bachelors</td>\n",
              "      <td>13</td>\n",
              "      <td>married-civ-spouse</td>\n",
              "      <td>prof-specialty</td>\n",
              "      <td>wife</td>\n",
              "      <td>black</td>\n",
              "      <td>female</td>\n",
              "      <td>0</td>\n",
              "      <td>0</td>\n",
              "      <td>40</td>\n",
              "      <td>cuba</td>\n",
              "      <td>&lt;=50k</td>\n",
              "      <td>0</td>\n",
              "      <td>2</td>\n",
              "      <td>0</td>\n",
              "      <td>2</td>\n",
              "      <td>2</td>\n",
              "      <td>5</td>\n",
              "      <td>0</td>\n",
              "      <td>1</td>\n",
              "      <td>0</td>\n",
              "      <td>0</td>\n",
              "      <td>0</td>\n",
              "      <td>1</td>\n",
              "      <td>0</td>\n",
              "      <td>0</td>\n",
              "      <td>0</td>\n",
              "      <td>0</td>\n",
              "      <td>1</td>\n",
              "      <td>0</td>\n",
              "      <td>0</td>\n",
              "      <td>0</td>\n",
              "      <td>0</td>\n",
              "      <td>0</td>\n",
              "      <td>0</td>\n",
              "      <td>0</td>\n",
              "      <td>0</td>\n",
              "      <td>0</td>\n",
              "      <td>1</td>\n",
              "    </tr>\n",
              "  </tbody>\n",
              "</table>\n",
              "</div>"
            ],
            "text/plain": [
              "   age         workclass  fnlwgt  ... own-child  unmarried wife\n",
              "0   39         state-gov   77516  ...         0          0    0\n",
              "1   50  self-emp-not-inc   83311  ...         0          0    0\n",
              "2   38           private  215646  ...         0          0    0\n",
              "3   53           private  234721  ...         0          0    0\n",
              "4   28           private  338409  ...         0          0    1\n",
              "\n",
              "[5 rows x 42 columns]"
            ]
          },
          "metadata": {
            "tags": []
          },
          "execution_count": 101
        }
      ]
    },
    {
      "cell_type": "markdown",
      "metadata": {
        "id": "kEc_2hzsNLRw",
        "colab_type": "text"
      },
      "source": [
        "##Carregamento dos dados (CSV pré processados)"
      ]
    },
    {
      "cell_type": "markdown",
      "metadata": {
        "id": "vH3JKvNqMOq9",
        "colab_type": "text"
      },
      "source": [
        "Massao: fiz uma preparação básica dos dados com PostgreSQL, mas todas as transformações (basicamente adição de dummy columns) podem ser facilmente feitas via Pandas."
      ]
    },
    {
      "cell_type": "code",
      "metadata": {
        "id": "S3YDfY4nA-bw",
        "colab_type": "code",
        "outputId": "5563b885-4c31-4c0e-c7b4-243471084d1e",
        "colab": {
          "base_uri": "https://localhost:8080/",
          "height": 284
        }
      },
      "source": [
        "X_train = pd.read_csv('https://raw.githubusercontent.com/massaoHigaskino/DSWP/lectures/project/Execution/adult_50k/datascience_adult_50k_v_t1_adult_data_dataset.csv', index_col= 'id');\n",
        "X_train.head()"
      ],
      "execution_count": 155,
      "outputs": [
        {
          "output_type": "execute_result",
          "data": {
            "text/html": [
              "<div>\n",
              "<style scoped>\n",
              "    .dataframe tbody tr th:only-of-type {\n",
              "        vertical-align: middle;\n",
              "    }\n",
              "\n",
              "    .dataframe tbody tr th {\n",
              "        vertical-align: top;\n",
              "    }\n",
              "\n",
              "    .dataframe thead th {\n",
              "        text-align: right;\n",
              "    }\n",
              "</style>\n",
              "<table border=\"1\" class=\"dataframe\">\n",
              "  <thead>\n",
              "    <tr style=\"text-align: right;\">\n",
              "      <th></th>\n",
              "      <th>age</th>\n",
              "      <th>workclass_fg</th>\n",
              "      <th>workclass_lg</th>\n",
              "      <th>workclass_nw</th>\n",
              "      <th>workclass_p</th>\n",
              "      <th>workclass_sei</th>\n",
              "      <th>workclass_seni</th>\n",
              "      <th>workclass_g</th>\n",
              "      <th>workclass_wp</th>\n",
              "      <th>fnlwgt</th>\n",
              "      <th>education_num</th>\n",
              "      <th>marital_status_d</th>\n",
              "      <th>marital_status_mas</th>\n",
              "      <th>marital_status_mcs</th>\n",
              "      <th>marital_status_msa</th>\n",
              "      <th>marital_status_nm</th>\n",
              "      <th>marital_status_s</th>\n",
              "      <th>marital_status_w</th>\n",
              "      <th>occupation_ac</th>\n",
              "      <th>occupation_af</th>\n",
              "      <th>occupation_cr</th>\n",
              "      <th>occupation_em</th>\n",
              "      <th>occupation_fs</th>\n",
              "      <th>occupation_hc</th>\n",
              "      <th>occupation_moi</th>\n",
              "      <th>occupation_os</th>\n",
              "      <th>occupation_phs</th>\n",
              "      <th>occupation_ps</th>\n",
              "      <th>occupation_pts</th>\n",
              "      <th>occupation_s</th>\n",
              "      <th>occupation_ts</th>\n",
              "      <th>occupation_tm</th>\n",
              "      <th>relationship_h</th>\n",
              "      <th>relationship_oc</th>\n",
              "      <th>relationship_w</th>\n",
              "      <th>relationship_nif</th>\n",
              "      <th>relationship_u</th>\n",
              "      <th>relationship_or</th>\n",
              "      <th>race_b</th>\n",
              "      <th>race_api</th>\n",
              "      <th>...</th>\n",
              "      <th>native_country_02</th>\n",
              "      <th>native_country_03</th>\n",
              "      <th>native_country_04</th>\n",
              "      <th>native_country_05</th>\n",
              "      <th>native_country_06</th>\n",
              "      <th>native_country_07</th>\n",
              "      <th>native_country_08</th>\n",
              "      <th>native_country_09</th>\n",
              "      <th>native_country_10</th>\n",
              "      <th>native_country_11</th>\n",
              "      <th>native_country_12</th>\n",
              "      <th>native_country_13</th>\n",
              "      <th>native_country_14</th>\n",
              "      <th>native_country_15</th>\n",
              "      <th>native_country_16</th>\n",
              "      <th>native_country_17</th>\n",
              "      <th>native_country_18</th>\n",
              "      <th>native_country_19</th>\n",
              "      <th>native_country_20</th>\n",
              "      <th>native_country_21</th>\n",
              "      <th>native_country_22</th>\n",
              "      <th>native_country_23</th>\n",
              "      <th>native_country_24</th>\n",
              "      <th>native_country_25</th>\n",
              "      <th>native_country_26</th>\n",
              "      <th>native_country_27</th>\n",
              "      <th>native_country_28</th>\n",
              "      <th>native_country_29</th>\n",
              "      <th>native_country_30</th>\n",
              "      <th>native_country_31</th>\n",
              "      <th>native_country_32</th>\n",
              "      <th>native_country_33</th>\n",
              "      <th>native_country_34</th>\n",
              "      <th>native_country_35</th>\n",
              "      <th>native_country_36</th>\n",
              "      <th>native_country_37</th>\n",
              "      <th>native_country_38</th>\n",
              "      <th>native_country_39</th>\n",
              "      <th>native_country_40</th>\n",
              "      <th>native_country_41</th>\n",
              "    </tr>\n",
              "    <tr>\n",
              "      <th>id</th>\n",
              "      <th></th>\n",
              "      <th></th>\n",
              "      <th></th>\n",
              "      <th></th>\n",
              "      <th></th>\n",
              "      <th></th>\n",
              "      <th></th>\n",
              "      <th></th>\n",
              "      <th></th>\n",
              "      <th></th>\n",
              "      <th></th>\n",
              "      <th></th>\n",
              "      <th></th>\n",
              "      <th></th>\n",
              "      <th></th>\n",
              "      <th></th>\n",
              "      <th></th>\n",
              "      <th></th>\n",
              "      <th></th>\n",
              "      <th></th>\n",
              "      <th></th>\n",
              "      <th></th>\n",
              "      <th></th>\n",
              "      <th></th>\n",
              "      <th></th>\n",
              "      <th></th>\n",
              "      <th></th>\n",
              "      <th></th>\n",
              "      <th></th>\n",
              "      <th></th>\n",
              "      <th></th>\n",
              "      <th></th>\n",
              "      <th></th>\n",
              "      <th></th>\n",
              "      <th></th>\n",
              "      <th></th>\n",
              "      <th></th>\n",
              "      <th></th>\n",
              "      <th></th>\n",
              "      <th></th>\n",
              "      <th></th>\n",
              "      <th></th>\n",
              "      <th></th>\n",
              "      <th></th>\n",
              "      <th></th>\n",
              "      <th></th>\n",
              "      <th></th>\n",
              "      <th></th>\n",
              "      <th></th>\n",
              "      <th></th>\n",
              "      <th></th>\n",
              "      <th></th>\n",
              "      <th></th>\n",
              "      <th></th>\n",
              "      <th></th>\n",
              "      <th></th>\n",
              "      <th></th>\n",
              "      <th></th>\n",
              "      <th></th>\n",
              "      <th></th>\n",
              "      <th></th>\n",
              "      <th></th>\n",
              "      <th></th>\n",
              "      <th></th>\n",
              "      <th></th>\n",
              "      <th></th>\n",
              "      <th></th>\n",
              "      <th></th>\n",
              "      <th></th>\n",
              "      <th></th>\n",
              "      <th></th>\n",
              "      <th></th>\n",
              "      <th></th>\n",
              "      <th></th>\n",
              "      <th></th>\n",
              "      <th></th>\n",
              "      <th></th>\n",
              "      <th></th>\n",
              "      <th></th>\n",
              "      <th></th>\n",
              "      <th></th>\n",
              "    </tr>\n",
              "  </thead>\n",
              "  <tbody>\n",
              "    <tr>\n",
              "      <th>1</th>\n",
              "      <td>19</td>\n",
              "      <td>0</td>\n",
              "      <td>0</td>\n",
              "      <td>0</td>\n",
              "      <td>0</td>\n",
              "      <td>0</td>\n",
              "      <td>0</td>\n",
              "      <td>0</td>\n",
              "      <td>0</td>\n",
              "      <td>117201</td>\n",
              "      <td>9</td>\n",
              "      <td>0</td>\n",
              "      <td>0</td>\n",
              "      <td>0</td>\n",
              "      <td>0</td>\n",
              "      <td>1</td>\n",
              "      <td>0</td>\n",
              "      <td>0</td>\n",
              "      <td>0</td>\n",
              "      <td>0</td>\n",
              "      <td>0</td>\n",
              "      <td>0</td>\n",
              "      <td>0</td>\n",
              "      <td>0</td>\n",
              "      <td>0</td>\n",
              "      <td>0</td>\n",
              "      <td>0</td>\n",
              "      <td>0</td>\n",
              "      <td>0</td>\n",
              "      <td>0</td>\n",
              "      <td>0</td>\n",
              "      <td>0</td>\n",
              "      <td>0</td>\n",
              "      <td>1</td>\n",
              "      <td>0</td>\n",
              "      <td>0</td>\n",
              "      <td>0</td>\n",
              "      <td>0</td>\n",
              "      <td>0</td>\n",
              "      <td>0</td>\n",
              "      <td>...</td>\n",
              "      <td>0</td>\n",
              "      <td>0</td>\n",
              "      <td>0</td>\n",
              "      <td>0</td>\n",
              "      <td>0</td>\n",
              "      <td>0</td>\n",
              "      <td>0</td>\n",
              "      <td>0</td>\n",
              "      <td>0</td>\n",
              "      <td>0</td>\n",
              "      <td>0</td>\n",
              "      <td>0</td>\n",
              "      <td>0</td>\n",
              "      <td>0</td>\n",
              "      <td>0</td>\n",
              "      <td>0</td>\n",
              "      <td>0</td>\n",
              "      <td>0</td>\n",
              "      <td>0</td>\n",
              "      <td>0</td>\n",
              "      <td>0</td>\n",
              "      <td>0</td>\n",
              "      <td>0</td>\n",
              "      <td>0</td>\n",
              "      <td>0</td>\n",
              "      <td>0</td>\n",
              "      <td>0</td>\n",
              "      <td>0</td>\n",
              "      <td>0</td>\n",
              "      <td>0</td>\n",
              "      <td>0</td>\n",
              "      <td>0</td>\n",
              "      <td>0</td>\n",
              "      <td>0</td>\n",
              "      <td>0</td>\n",
              "      <td>0</td>\n",
              "      <td>0</td>\n",
              "      <td>1</td>\n",
              "      <td>0</td>\n",
              "      <td>0</td>\n",
              "    </tr>\n",
              "    <tr>\n",
              "      <th>2</th>\n",
              "      <td>41</td>\n",
              "      <td>0</td>\n",
              "      <td>1</td>\n",
              "      <td>0</td>\n",
              "      <td>0</td>\n",
              "      <td>0</td>\n",
              "      <td>0</td>\n",
              "      <td>0</td>\n",
              "      <td>0</td>\n",
              "      <td>22155</td>\n",
              "      <td>14</td>\n",
              "      <td>1</td>\n",
              "      <td>0</td>\n",
              "      <td>0</td>\n",
              "      <td>0</td>\n",
              "      <td>0</td>\n",
              "      <td>0</td>\n",
              "      <td>0</td>\n",
              "      <td>0</td>\n",
              "      <td>0</td>\n",
              "      <td>0</td>\n",
              "      <td>0</td>\n",
              "      <td>0</td>\n",
              "      <td>0</td>\n",
              "      <td>0</td>\n",
              "      <td>0</td>\n",
              "      <td>0</td>\n",
              "      <td>1</td>\n",
              "      <td>0</td>\n",
              "      <td>0</td>\n",
              "      <td>0</td>\n",
              "      <td>0</td>\n",
              "      <td>0</td>\n",
              "      <td>0</td>\n",
              "      <td>0</td>\n",
              "      <td>0</td>\n",
              "      <td>1</td>\n",
              "      <td>0</td>\n",
              "      <td>0</td>\n",
              "      <td>0</td>\n",
              "      <td>...</td>\n",
              "      <td>0</td>\n",
              "      <td>0</td>\n",
              "      <td>0</td>\n",
              "      <td>0</td>\n",
              "      <td>0</td>\n",
              "      <td>0</td>\n",
              "      <td>0</td>\n",
              "      <td>0</td>\n",
              "      <td>0</td>\n",
              "      <td>0</td>\n",
              "      <td>0</td>\n",
              "      <td>0</td>\n",
              "      <td>0</td>\n",
              "      <td>0</td>\n",
              "      <td>0</td>\n",
              "      <td>0</td>\n",
              "      <td>0</td>\n",
              "      <td>0</td>\n",
              "      <td>0</td>\n",
              "      <td>0</td>\n",
              "      <td>0</td>\n",
              "      <td>0</td>\n",
              "      <td>0</td>\n",
              "      <td>0</td>\n",
              "      <td>0</td>\n",
              "      <td>0</td>\n",
              "      <td>0</td>\n",
              "      <td>0</td>\n",
              "      <td>0</td>\n",
              "      <td>0</td>\n",
              "      <td>0</td>\n",
              "      <td>0</td>\n",
              "      <td>0</td>\n",
              "      <td>0</td>\n",
              "      <td>0</td>\n",
              "      <td>0</td>\n",
              "      <td>0</td>\n",
              "      <td>1</td>\n",
              "      <td>0</td>\n",
              "      <td>0</td>\n",
              "    </tr>\n",
              "    <tr>\n",
              "      <th>3</th>\n",
              "      <td>39</td>\n",
              "      <td>0</td>\n",
              "      <td>0</td>\n",
              "      <td>0</td>\n",
              "      <td>0</td>\n",
              "      <td>0</td>\n",
              "      <td>0</td>\n",
              "      <td>0</td>\n",
              "      <td>0</td>\n",
              "      <td>179352</td>\n",
              "      <td>10</td>\n",
              "      <td>1</td>\n",
              "      <td>0</td>\n",
              "      <td>0</td>\n",
              "      <td>0</td>\n",
              "      <td>0</td>\n",
              "      <td>0</td>\n",
              "      <td>0</td>\n",
              "      <td>0</td>\n",
              "      <td>0</td>\n",
              "      <td>0</td>\n",
              "      <td>0</td>\n",
              "      <td>0</td>\n",
              "      <td>0</td>\n",
              "      <td>0</td>\n",
              "      <td>0</td>\n",
              "      <td>0</td>\n",
              "      <td>0</td>\n",
              "      <td>0</td>\n",
              "      <td>0</td>\n",
              "      <td>0</td>\n",
              "      <td>0</td>\n",
              "      <td>0</td>\n",
              "      <td>0</td>\n",
              "      <td>0</td>\n",
              "      <td>1</td>\n",
              "      <td>0</td>\n",
              "      <td>0</td>\n",
              "      <td>0</td>\n",
              "      <td>0</td>\n",
              "      <td>...</td>\n",
              "      <td>0</td>\n",
              "      <td>0</td>\n",
              "      <td>0</td>\n",
              "      <td>0</td>\n",
              "      <td>0</td>\n",
              "      <td>0</td>\n",
              "      <td>0</td>\n",
              "      <td>0</td>\n",
              "      <td>0</td>\n",
              "      <td>0</td>\n",
              "      <td>0</td>\n",
              "      <td>0</td>\n",
              "      <td>0</td>\n",
              "      <td>0</td>\n",
              "      <td>0</td>\n",
              "      <td>0</td>\n",
              "      <td>0</td>\n",
              "      <td>0</td>\n",
              "      <td>0</td>\n",
              "      <td>0</td>\n",
              "      <td>0</td>\n",
              "      <td>0</td>\n",
              "      <td>0</td>\n",
              "      <td>0</td>\n",
              "      <td>0</td>\n",
              "      <td>0</td>\n",
              "      <td>0</td>\n",
              "      <td>0</td>\n",
              "      <td>0</td>\n",
              "      <td>0</td>\n",
              "      <td>0</td>\n",
              "      <td>0</td>\n",
              "      <td>0</td>\n",
              "      <td>0</td>\n",
              "      <td>0</td>\n",
              "      <td>0</td>\n",
              "      <td>0</td>\n",
              "      <td>1</td>\n",
              "      <td>0</td>\n",
              "      <td>0</td>\n",
              "    </tr>\n",
              "    <tr>\n",
              "      <th>4</th>\n",
              "      <td>46</td>\n",
              "      <td>0</td>\n",
              "      <td>0</td>\n",
              "      <td>0</td>\n",
              "      <td>1</td>\n",
              "      <td>0</td>\n",
              "      <td>0</td>\n",
              "      <td>0</td>\n",
              "      <td>0</td>\n",
              "      <td>109089</td>\n",
              "      <td>9</td>\n",
              "      <td>1</td>\n",
              "      <td>0</td>\n",
              "      <td>0</td>\n",
              "      <td>0</td>\n",
              "      <td>0</td>\n",
              "      <td>0</td>\n",
              "      <td>0</td>\n",
              "      <td>0</td>\n",
              "      <td>0</td>\n",
              "      <td>1</td>\n",
              "      <td>0</td>\n",
              "      <td>0</td>\n",
              "      <td>0</td>\n",
              "      <td>0</td>\n",
              "      <td>0</td>\n",
              "      <td>0</td>\n",
              "      <td>0</td>\n",
              "      <td>0</td>\n",
              "      <td>0</td>\n",
              "      <td>0</td>\n",
              "      <td>0</td>\n",
              "      <td>0</td>\n",
              "      <td>0</td>\n",
              "      <td>0</td>\n",
              "      <td>1</td>\n",
              "      <td>0</td>\n",
              "      <td>0</td>\n",
              "      <td>0</td>\n",
              "      <td>0</td>\n",
              "      <td>...</td>\n",
              "      <td>0</td>\n",
              "      <td>0</td>\n",
              "      <td>0</td>\n",
              "      <td>0</td>\n",
              "      <td>0</td>\n",
              "      <td>0</td>\n",
              "      <td>0</td>\n",
              "      <td>0</td>\n",
              "      <td>0</td>\n",
              "      <td>0</td>\n",
              "      <td>0</td>\n",
              "      <td>0</td>\n",
              "      <td>0</td>\n",
              "      <td>0</td>\n",
              "      <td>0</td>\n",
              "      <td>0</td>\n",
              "      <td>0</td>\n",
              "      <td>0</td>\n",
              "      <td>0</td>\n",
              "      <td>0</td>\n",
              "      <td>0</td>\n",
              "      <td>0</td>\n",
              "      <td>0</td>\n",
              "      <td>0</td>\n",
              "      <td>0</td>\n",
              "      <td>0</td>\n",
              "      <td>0</td>\n",
              "      <td>0</td>\n",
              "      <td>0</td>\n",
              "      <td>0</td>\n",
              "      <td>0</td>\n",
              "      <td>0</td>\n",
              "      <td>0</td>\n",
              "      <td>0</td>\n",
              "      <td>0</td>\n",
              "      <td>0</td>\n",
              "      <td>0</td>\n",
              "      <td>1</td>\n",
              "      <td>0</td>\n",
              "      <td>0</td>\n",
              "    </tr>\n",
              "    <tr>\n",
              "      <th>5</th>\n",
              "      <td>51</td>\n",
              "      <td>0</td>\n",
              "      <td>0</td>\n",
              "      <td>0</td>\n",
              "      <td>1</td>\n",
              "      <td>0</td>\n",
              "      <td>0</td>\n",
              "      <td>0</td>\n",
              "      <td>0</td>\n",
              "      <td>249741</td>\n",
              "      <td>10</td>\n",
              "      <td>0</td>\n",
              "      <td>0</td>\n",
              "      <td>1</td>\n",
              "      <td>0</td>\n",
              "      <td>0</td>\n",
              "      <td>0</td>\n",
              "      <td>0</td>\n",
              "      <td>0</td>\n",
              "      <td>0</td>\n",
              "      <td>0</td>\n",
              "      <td>0</td>\n",
              "      <td>0</td>\n",
              "      <td>0</td>\n",
              "      <td>0</td>\n",
              "      <td>0</td>\n",
              "      <td>0</td>\n",
              "      <td>0</td>\n",
              "      <td>0</td>\n",
              "      <td>1</td>\n",
              "      <td>0</td>\n",
              "      <td>0</td>\n",
              "      <td>1</td>\n",
              "      <td>0</td>\n",
              "      <td>0</td>\n",
              "      <td>0</td>\n",
              "      <td>0</td>\n",
              "      <td>0</td>\n",
              "      <td>0</td>\n",
              "      <td>0</td>\n",
              "      <td>...</td>\n",
              "      <td>0</td>\n",
              "      <td>0</td>\n",
              "      <td>0</td>\n",
              "      <td>0</td>\n",
              "      <td>0</td>\n",
              "      <td>0</td>\n",
              "      <td>0</td>\n",
              "      <td>0</td>\n",
              "      <td>0</td>\n",
              "      <td>0</td>\n",
              "      <td>0</td>\n",
              "      <td>0</td>\n",
              "      <td>0</td>\n",
              "      <td>0</td>\n",
              "      <td>0</td>\n",
              "      <td>0</td>\n",
              "      <td>0</td>\n",
              "      <td>0</td>\n",
              "      <td>0</td>\n",
              "      <td>0</td>\n",
              "      <td>0</td>\n",
              "      <td>0</td>\n",
              "      <td>0</td>\n",
              "      <td>0</td>\n",
              "      <td>0</td>\n",
              "      <td>0</td>\n",
              "      <td>0</td>\n",
              "      <td>0</td>\n",
              "      <td>0</td>\n",
              "      <td>0</td>\n",
              "      <td>0</td>\n",
              "      <td>0</td>\n",
              "      <td>0</td>\n",
              "      <td>0</td>\n",
              "      <td>0</td>\n",
              "      <td>0</td>\n",
              "      <td>0</td>\n",
              "      <td>1</td>\n",
              "      <td>0</td>\n",
              "      <td>0</td>\n",
              "    </tr>\n",
              "  </tbody>\n",
              "</table>\n",
              "<p>5 rows × 89 columns</p>\n",
              "</div>"
            ],
            "text/plain": [
              "    age  workclass_fg  ...  native_country_40  native_country_41\n",
              "id                     ...                                      \n",
              "1    19             0  ...                  0                  0\n",
              "2    41             0  ...                  0                  0\n",
              "3    39             0  ...                  0                  0\n",
              "4    46             0  ...                  0                  0\n",
              "5    51             0  ...                  0                  0\n",
              "\n",
              "[5 rows x 89 columns]"
            ]
          },
          "metadata": {
            "tags": []
          },
          "execution_count": 155
        }
      ]
    },
    {
      "cell_type": "code",
      "metadata": {
        "id": "jWmSQdveC-NP",
        "colab_type": "code",
        "outputId": "588f0c4f-3c60-400e-c985-9c5bfe59c141",
        "colab": {
          "base_uri": "https://localhost:8080/",
          "height": 235
        }
      },
      "source": [
        "y_train = pd.read_csv('https://raw.githubusercontent.com/massaoHigaskino/DSWP/lectures/project/Execution/adult_50k/datascience_adult_50k_v_t1_adult_data_target.csv', index_col= 'id');\n",
        "y_train.head()"
      ],
      "execution_count": 156,
      "outputs": [
        {
          "output_type": "execute_result",
          "data": {
            "text/html": [
              "<div>\n",
              "<style scoped>\n",
              "    .dataframe tbody tr th:only-of-type {\n",
              "        vertical-align: middle;\n",
              "    }\n",
              "\n",
              "    .dataframe tbody tr th {\n",
              "        vertical-align: top;\n",
              "    }\n",
              "\n",
              "    .dataframe thead th {\n",
              "        text-align: right;\n",
              "    }\n",
              "</style>\n",
              "<table border=\"1\" class=\"dataframe\">\n",
              "  <thead>\n",
              "    <tr style=\"text-align: right;\">\n",
              "      <th></th>\n",
              "      <th>target</th>\n",
              "    </tr>\n",
              "    <tr>\n",
              "      <th>id</th>\n",
              "      <th></th>\n",
              "    </tr>\n",
              "  </thead>\n",
              "  <tbody>\n",
              "    <tr>\n",
              "      <th>1</th>\n",
              "      <td>0</td>\n",
              "    </tr>\n",
              "    <tr>\n",
              "      <th>2</th>\n",
              "      <td>0</td>\n",
              "    </tr>\n",
              "    <tr>\n",
              "      <th>3</th>\n",
              "      <td>0</td>\n",
              "    </tr>\n",
              "    <tr>\n",
              "      <th>4</th>\n",
              "      <td>0</td>\n",
              "    </tr>\n",
              "    <tr>\n",
              "      <th>5</th>\n",
              "      <td>0</td>\n",
              "    </tr>\n",
              "  </tbody>\n",
              "</table>\n",
              "</div>"
            ],
            "text/plain": [
              "    target\n",
              "id        \n",
              "1        0\n",
              "2        0\n",
              "3        0\n",
              "4        0\n",
              "5        0"
            ]
          },
          "metadata": {
            "tags": []
          },
          "execution_count": 156
        }
      ]
    },
    {
      "cell_type": "code",
      "metadata": {
        "id": "NlRs-MXBC-4N",
        "colab_type": "code",
        "outputId": "b79dee37-a8e7-428b-c090-6b66d60fc085",
        "colab": {
          "base_uri": "https://localhost:8080/",
          "height": 284
        }
      },
      "source": [
        "X_test = pd.read_csv('https://raw.githubusercontent.com/massaoHigaskino/DSWP/lectures/project/Execution/adult_50k/datascience_adult_50k_v_t1_adult_test_dataset.csv', index_col= 'id');\n",
        "X_test.head()"
      ],
      "execution_count": 157,
      "outputs": [
        {
          "output_type": "execute_result",
          "data": {
            "text/html": [
              "<div>\n",
              "<style scoped>\n",
              "    .dataframe tbody tr th:only-of-type {\n",
              "        vertical-align: middle;\n",
              "    }\n",
              "\n",
              "    .dataframe tbody tr th {\n",
              "        vertical-align: top;\n",
              "    }\n",
              "\n",
              "    .dataframe thead th {\n",
              "        text-align: right;\n",
              "    }\n",
              "</style>\n",
              "<table border=\"1\" class=\"dataframe\">\n",
              "  <thead>\n",
              "    <tr style=\"text-align: right;\">\n",
              "      <th></th>\n",
              "      <th>age</th>\n",
              "      <th>workclass_fg</th>\n",
              "      <th>workclass_lg</th>\n",
              "      <th>workclass_nw</th>\n",
              "      <th>workclass_p</th>\n",
              "      <th>workclass_sei</th>\n",
              "      <th>workclass_seni</th>\n",
              "      <th>workclass_g</th>\n",
              "      <th>workclass_wp</th>\n",
              "      <th>fnlwgt</th>\n",
              "      <th>education_num</th>\n",
              "      <th>marital_status_d</th>\n",
              "      <th>marital_status_mas</th>\n",
              "      <th>marital_status_mcs</th>\n",
              "      <th>marital_status_msa</th>\n",
              "      <th>marital_status_nm</th>\n",
              "      <th>marital_status_s</th>\n",
              "      <th>marital_status_w</th>\n",
              "      <th>occupation_ac</th>\n",
              "      <th>occupation_af</th>\n",
              "      <th>occupation_cr</th>\n",
              "      <th>occupation_em</th>\n",
              "      <th>occupation_fs</th>\n",
              "      <th>occupation_hc</th>\n",
              "      <th>occupation_moi</th>\n",
              "      <th>occupation_os</th>\n",
              "      <th>occupation_phs</th>\n",
              "      <th>occupation_ps</th>\n",
              "      <th>occupation_pts</th>\n",
              "      <th>occupation_s</th>\n",
              "      <th>occupation_ts</th>\n",
              "      <th>occupation_tm</th>\n",
              "      <th>relationship_h</th>\n",
              "      <th>relationship_oc</th>\n",
              "      <th>relationship_w</th>\n",
              "      <th>relationship_nif</th>\n",
              "      <th>relationship_u</th>\n",
              "      <th>relationship_or</th>\n",
              "      <th>race_b</th>\n",
              "      <th>race_api</th>\n",
              "      <th>...</th>\n",
              "      <th>native_country_02</th>\n",
              "      <th>native_country_03</th>\n",
              "      <th>native_country_04</th>\n",
              "      <th>native_country_05</th>\n",
              "      <th>native_country_06</th>\n",
              "      <th>native_country_07</th>\n",
              "      <th>native_country_08</th>\n",
              "      <th>native_country_09</th>\n",
              "      <th>native_country_10</th>\n",
              "      <th>native_country_11</th>\n",
              "      <th>native_country_12</th>\n",
              "      <th>native_country_13</th>\n",
              "      <th>native_country_14</th>\n",
              "      <th>native_country_15</th>\n",
              "      <th>native_country_16</th>\n",
              "      <th>native_country_17</th>\n",
              "      <th>native_country_18</th>\n",
              "      <th>native_country_19</th>\n",
              "      <th>native_country_20</th>\n",
              "      <th>native_country_21</th>\n",
              "      <th>native_country_22</th>\n",
              "      <th>native_country_23</th>\n",
              "      <th>native_country_24</th>\n",
              "      <th>native_country_25</th>\n",
              "      <th>native_country_26</th>\n",
              "      <th>native_country_27</th>\n",
              "      <th>native_country_28</th>\n",
              "      <th>native_country_29</th>\n",
              "      <th>native_country_30</th>\n",
              "      <th>native_country_31</th>\n",
              "      <th>native_country_32</th>\n",
              "      <th>native_country_33</th>\n",
              "      <th>native_country_34</th>\n",
              "      <th>native_country_35</th>\n",
              "      <th>native_country_36</th>\n",
              "      <th>native_country_37</th>\n",
              "      <th>native_country_38</th>\n",
              "      <th>native_country_39</th>\n",
              "      <th>native_country_40</th>\n",
              "      <th>native_country_41</th>\n",
              "    </tr>\n",
              "    <tr>\n",
              "      <th>id</th>\n",
              "      <th></th>\n",
              "      <th></th>\n",
              "      <th></th>\n",
              "      <th></th>\n",
              "      <th></th>\n",
              "      <th></th>\n",
              "      <th></th>\n",
              "      <th></th>\n",
              "      <th></th>\n",
              "      <th></th>\n",
              "      <th></th>\n",
              "      <th></th>\n",
              "      <th></th>\n",
              "      <th></th>\n",
              "      <th></th>\n",
              "      <th></th>\n",
              "      <th></th>\n",
              "      <th></th>\n",
              "      <th></th>\n",
              "      <th></th>\n",
              "      <th></th>\n",
              "      <th></th>\n",
              "      <th></th>\n",
              "      <th></th>\n",
              "      <th></th>\n",
              "      <th></th>\n",
              "      <th></th>\n",
              "      <th></th>\n",
              "      <th></th>\n",
              "      <th></th>\n",
              "      <th></th>\n",
              "      <th></th>\n",
              "      <th></th>\n",
              "      <th></th>\n",
              "      <th></th>\n",
              "      <th></th>\n",
              "      <th></th>\n",
              "      <th></th>\n",
              "      <th></th>\n",
              "      <th></th>\n",
              "      <th></th>\n",
              "      <th></th>\n",
              "      <th></th>\n",
              "      <th></th>\n",
              "      <th></th>\n",
              "      <th></th>\n",
              "      <th></th>\n",
              "      <th></th>\n",
              "      <th></th>\n",
              "      <th></th>\n",
              "      <th></th>\n",
              "      <th></th>\n",
              "      <th></th>\n",
              "      <th></th>\n",
              "      <th></th>\n",
              "      <th></th>\n",
              "      <th></th>\n",
              "      <th></th>\n",
              "      <th></th>\n",
              "      <th></th>\n",
              "      <th></th>\n",
              "      <th></th>\n",
              "      <th></th>\n",
              "      <th></th>\n",
              "      <th></th>\n",
              "      <th></th>\n",
              "      <th></th>\n",
              "      <th></th>\n",
              "      <th></th>\n",
              "      <th></th>\n",
              "      <th></th>\n",
              "      <th></th>\n",
              "      <th></th>\n",
              "      <th></th>\n",
              "      <th></th>\n",
              "      <th></th>\n",
              "      <th></th>\n",
              "      <th></th>\n",
              "      <th></th>\n",
              "      <th></th>\n",
              "      <th></th>\n",
              "    </tr>\n",
              "  </thead>\n",
              "  <tbody>\n",
              "    <tr>\n",
              "      <th>1</th>\n",
              "      <td>22</td>\n",
              "      <td>0</td>\n",
              "      <td>0</td>\n",
              "      <td>0</td>\n",
              "      <td>0</td>\n",
              "      <td>0</td>\n",
              "      <td>0</td>\n",
              "      <td>0</td>\n",
              "      <td>0</td>\n",
              "      <td>213291</td>\n",
              "      <td>12</td>\n",
              "      <td>0</td>\n",
              "      <td>0</td>\n",
              "      <td>0</td>\n",
              "      <td>0</td>\n",
              "      <td>1</td>\n",
              "      <td>0</td>\n",
              "      <td>0</td>\n",
              "      <td>0</td>\n",
              "      <td>0</td>\n",
              "      <td>0</td>\n",
              "      <td>0</td>\n",
              "      <td>0</td>\n",
              "      <td>0</td>\n",
              "      <td>0</td>\n",
              "      <td>0</td>\n",
              "      <td>0</td>\n",
              "      <td>0</td>\n",
              "      <td>0</td>\n",
              "      <td>0</td>\n",
              "      <td>0</td>\n",
              "      <td>0</td>\n",
              "      <td>0</td>\n",
              "      <td>1</td>\n",
              "      <td>0</td>\n",
              "      <td>0</td>\n",
              "      <td>0</td>\n",
              "      <td>0</td>\n",
              "      <td>0</td>\n",
              "      <td>0</td>\n",
              "      <td>...</td>\n",
              "      <td>0</td>\n",
              "      <td>0</td>\n",
              "      <td>0</td>\n",
              "      <td>0</td>\n",
              "      <td>0</td>\n",
              "      <td>0</td>\n",
              "      <td>0</td>\n",
              "      <td>0</td>\n",
              "      <td>0</td>\n",
              "      <td>0</td>\n",
              "      <td>0</td>\n",
              "      <td>0</td>\n",
              "      <td>0</td>\n",
              "      <td>0</td>\n",
              "      <td>0</td>\n",
              "      <td>0</td>\n",
              "      <td>0</td>\n",
              "      <td>0</td>\n",
              "      <td>0</td>\n",
              "      <td>0</td>\n",
              "      <td>0</td>\n",
              "      <td>0</td>\n",
              "      <td>0</td>\n",
              "      <td>0</td>\n",
              "      <td>0</td>\n",
              "      <td>0</td>\n",
              "      <td>0</td>\n",
              "      <td>0</td>\n",
              "      <td>0</td>\n",
              "      <td>0</td>\n",
              "      <td>0</td>\n",
              "      <td>0</td>\n",
              "      <td>0</td>\n",
              "      <td>0</td>\n",
              "      <td>0</td>\n",
              "      <td>0</td>\n",
              "      <td>0</td>\n",
              "      <td>1</td>\n",
              "      <td>0</td>\n",
              "      <td>0</td>\n",
              "    </tr>\n",
              "    <tr>\n",
              "      <th>2</th>\n",
              "      <td>19</td>\n",
              "      <td>0</td>\n",
              "      <td>0</td>\n",
              "      <td>0</td>\n",
              "      <td>0</td>\n",
              "      <td>0</td>\n",
              "      <td>0</td>\n",
              "      <td>0</td>\n",
              "      <td>0</td>\n",
              "      <td>47235</td>\n",
              "      <td>10</td>\n",
              "      <td>0</td>\n",
              "      <td>0</td>\n",
              "      <td>0</td>\n",
              "      <td>0</td>\n",
              "      <td>1</td>\n",
              "      <td>0</td>\n",
              "      <td>0</td>\n",
              "      <td>0</td>\n",
              "      <td>0</td>\n",
              "      <td>0</td>\n",
              "      <td>0</td>\n",
              "      <td>0</td>\n",
              "      <td>0</td>\n",
              "      <td>0</td>\n",
              "      <td>0</td>\n",
              "      <td>0</td>\n",
              "      <td>0</td>\n",
              "      <td>0</td>\n",
              "      <td>0</td>\n",
              "      <td>0</td>\n",
              "      <td>0</td>\n",
              "      <td>0</td>\n",
              "      <td>1</td>\n",
              "      <td>0</td>\n",
              "      <td>0</td>\n",
              "      <td>0</td>\n",
              "      <td>0</td>\n",
              "      <td>0</td>\n",
              "      <td>0</td>\n",
              "      <td>...</td>\n",
              "      <td>0</td>\n",
              "      <td>0</td>\n",
              "      <td>0</td>\n",
              "      <td>0</td>\n",
              "      <td>0</td>\n",
              "      <td>0</td>\n",
              "      <td>0</td>\n",
              "      <td>0</td>\n",
              "      <td>0</td>\n",
              "      <td>0</td>\n",
              "      <td>0</td>\n",
              "      <td>0</td>\n",
              "      <td>0</td>\n",
              "      <td>0</td>\n",
              "      <td>0</td>\n",
              "      <td>0</td>\n",
              "      <td>0</td>\n",
              "      <td>0</td>\n",
              "      <td>0</td>\n",
              "      <td>0</td>\n",
              "      <td>0</td>\n",
              "      <td>0</td>\n",
              "      <td>0</td>\n",
              "      <td>0</td>\n",
              "      <td>0</td>\n",
              "      <td>0</td>\n",
              "      <td>0</td>\n",
              "      <td>0</td>\n",
              "      <td>0</td>\n",
              "      <td>0</td>\n",
              "      <td>0</td>\n",
              "      <td>0</td>\n",
              "      <td>0</td>\n",
              "      <td>0</td>\n",
              "      <td>0</td>\n",
              "      <td>0</td>\n",
              "      <td>0</td>\n",
              "      <td>1</td>\n",
              "      <td>0</td>\n",
              "      <td>0</td>\n",
              "    </tr>\n",
              "    <tr>\n",
              "      <th>3</th>\n",
              "      <td>73</td>\n",
              "      <td>0</td>\n",
              "      <td>0</td>\n",
              "      <td>0</td>\n",
              "      <td>1</td>\n",
              "      <td>0</td>\n",
              "      <td>0</td>\n",
              "      <td>0</td>\n",
              "      <td>0</td>\n",
              "      <td>113446</td>\n",
              "      <td>3</td>\n",
              "      <td>0</td>\n",
              "      <td>0</td>\n",
              "      <td>1</td>\n",
              "      <td>0</td>\n",
              "      <td>0</td>\n",
              "      <td>0</td>\n",
              "      <td>0</td>\n",
              "      <td>0</td>\n",
              "      <td>0</td>\n",
              "      <td>0</td>\n",
              "      <td>1</td>\n",
              "      <td>0</td>\n",
              "      <td>0</td>\n",
              "      <td>0</td>\n",
              "      <td>0</td>\n",
              "      <td>0</td>\n",
              "      <td>0</td>\n",
              "      <td>0</td>\n",
              "      <td>0</td>\n",
              "      <td>0</td>\n",
              "      <td>0</td>\n",
              "      <td>1</td>\n",
              "      <td>0</td>\n",
              "      <td>0</td>\n",
              "      <td>0</td>\n",
              "      <td>0</td>\n",
              "      <td>0</td>\n",
              "      <td>0</td>\n",
              "      <td>0</td>\n",
              "      <td>...</td>\n",
              "      <td>0</td>\n",
              "      <td>0</td>\n",
              "      <td>0</td>\n",
              "      <td>0</td>\n",
              "      <td>0</td>\n",
              "      <td>0</td>\n",
              "      <td>0</td>\n",
              "      <td>0</td>\n",
              "      <td>0</td>\n",
              "      <td>0</td>\n",
              "      <td>0</td>\n",
              "      <td>0</td>\n",
              "      <td>0</td>\n",
              "      <td>0</td>\n",
              "      <td>0</td>\n",
              "      <td>0</td>\n",
              "      <td>0</td>\n",
              "      <td>0</td>\n",
              "      <td>0</td>\n",
              "      <td>0</td>\n",
              "      <td>0</td>\n",
              "      <td>0</td>\n",
              "      <td>0</td>\n",
              "      <td>0</td>\n",
              "      <td>0</td>\n",
              "      <td>0</td>\n",
              "      <td>0</td>\n",
              "      <td>0</td>\n",
              "      <td>0</td>\n",
              "      <td>0</td>\n",
              "      <td>0</td>\n",
              "      <td>0</td>\n",
              "      <td>0</td>\n",
              "      <td>0</td>\n",
              "      <td>0</td>\n",
              "      <td>0</td>\n",
              "      <td>0</td>\n",
              "      <td>1</td>\n",
              "      <td>0</td>\n",
              "      <td>0</td>\n",
              "    </tr>\n",
              "    <tr>\n",
              "      <th>4</th>\n",
              "      <td>57</td>\n",
              "      <td>0</td>\n",
              "      <td>0</td>\n",
              "      <td>0</td>\n",
              "      <td>0</td>\n",
              "      <td>0</td>\n",
              "      <td>0</td>\n",
              "      <td>0</td>\n",
              "      <td>0</td>\n",
              "      <td>274680</td>\n",
              "      <td>1</td>\n",
              "      <td>0</td>\n",
              "      <td>0</td>\n",
              "      <td>0</td>\n",
              "      <td>0</td>\n",
              "      <td>0</td>\n",
              "      <td>1</td>\n",
              "      <td>0</td>\n",
              "      <td>0</td>\n",
              "      <td>0</td>\n",
              "      <td>0</td>\n",
              "      <td>0</td>\n",
              "      <td>0</td>\n",
              "      <td>0</td>\n",
              "      <td>0</td>\n",
              "      <td>0</td>\n",
              "      <td>0</td>\n",
              "      <td>0</td>\n",
              "      <td>0</td>\n",
              "      <td>0</td>\n",
              "      <td>0</td>\n",
              "      <td>0</td>\n",
              "      <td>0</td>\n",
              "      <td>0</td>\n",
              "      <td>0</td>\n",
              "      <td>1</td>\n",
              "      <td>0</td>\n",
              "      <td>0</td>\n",
              "      <td>0</td>\n",
              "      <td>0</td>\n",
              "      <td>...</td>\n",
              "      <td>0</td>\n",
              "      <td>0</td>\n",
              "      <td>0</td>\n",
              "      <td>0</td>\n",
              "      <td>0</td>\n",
              "      <td>0</td>\n",
              "      <td>0</td>\n",
              "      <td>0</td>\n",
              "      <td>0</td>\n",
              "      <td>0</td>\n",
              "      <td>0</td>\n",
              "      <td>0</td>\n",
              "      <td>0</td>\n",
              "      <td>0</td>\n",
              "      <td>0</td>\n",
              "      <td>0</td>\n",
              "      <td>0</td>\n",
              "      <td>0</td>\n",
              "      <td>0</td>\n",
              "      <td>0</td>\n",
              "      <td>0</td>\n",
              "      <td>0</td>\n",
              "      <td>0</td>\n",
              "      <td>0</td>\n",
              "      <td>0</td>\n",
              "      <td>0</td>\n",
              "      <td>0</td>\n",
              "      <td>0</td>\n",
              "      <td>0</td>\n",
              "      <td>0</td>\n",
              "      <td>0</td>\n",
              "      <td>0</td>\n",
              "      <td>0</td>\n",
              "      <td>0</td>\n",
              "      <td>0</td>\n",
              "      <td>0</td>\n",
              "      <td>0</td>\n",
              "      <td>1</td>\n",
              "      <td>0</td>\n",
              "      <td>0</td>\n",
              "    </tr>\n",
              "    <tr>\n",
              "      <th>5</th>\n",
              "      <td>28</td>\n",
              "      <td>0</td>\n",
              "      <td>0</td>\n",
              "      <td>0</td>\n",
              "      <td>1</td>\n",
              "      <td>0</td>\n",
              "      <td>0</td>\n",
              "      <td>0</td>\n",
              "      <td>0</td>\n",
              "      <td>173858</td>\n",
              "      <td>9</td>\n",
              "      <td>0</td>\n",
              "      <td>0</td>\n",
              "      <td>0</td>\n",
              "      <td>0</td>\n",
              "      <td>1</td>\n",
              "      <td>0</td>\n",
              "      <td>0</td>\n",
              "      <td>0</td>\n",
              "      <td>0</td>\n",
              "      <td>1</td>\n",
              "      <td>0</td>\n",
              "      <td>0</td>\n",
              "      <td>0</td>\n",
              "      <td>0</td>\n",
              "      <td>0</td>\n",
              "      <td>0</td>\n",
              "      <td>0</td>\n",
              "      <td>0</td>\n",
              "      <td>0</td>\n",
              "      <td>0</td>\n",
              "      <td>0</td>\n",
              "      <td>0</td>\n",
              "      <td>0</td>\n",
              "      <td>0</td>\n",
              "      <td>0</td>\n",
              "      <td>0</td>\n",
              "      <td>1</td>\n",
              "      <td>0</td>\n",
              "      <td>1</td>\n",
              "      <td>...</td>\n",
              "      <td>0</td>\n",
              "      <td>1</td>\n",
              "      <td>0</td>\n",
              "      <td>0</td>\n",
              "      <td>0</td>\n",
              "      <td>0</td>\n",
              "      <td>0</td>\n",
              "      <td>0</td>\n",
              "      <td>0</td>\n",
              "      <td>0</td>\n",
              "      <td>0</td>\n",
              "      <td>0</td>\n",
              "      <td>0</td>\n",
              "      <td>0</td>\n",
              "      <td>0</td>\n",
              "      <td>0</td>\n",
              "      <td>0</td>\n",
              "      <td>0</td>\n",
              "      <td>0</td>\n",
              "      <td>0</td>\n",
              "      <td>0</td>\n",
              "      <td>0</td>\n",
              "      <td>0</td>\n",
              "      <td>0</td>\n",
              "      <td>0</td>\n",
              "      <td>0</td>\n",
              "      <td>0</td>\n",
              "      <td>0</td>\n",
              "      <td>0</td>\n",
              "      <td>0</td>\n",
              "      <td>0</td>\n",
              "      <td>0</td>\n",
              "      <td>0</td>\n",
              "      <td>0</td>\n",
              "      <td>0</td>\n",
              "      <td>0</td>\n",
              "      <td>0</td>\n",
              "      <td>0</td>\n",
              "      <td>0</td>\n",
              "      <td>0</td>\n",
              "    </tr>\n",
              "  </tbody>\n",
              "</table>\n",
              "<p>5 rows × 89 columns</p>\n",
              "</div>"
            ],
            "text/plain": [
              "    age  workclass_fg  ...  native_country_40  native_country_41\n",
              "id                     ...                                      \n",
              "1    22             0  ...                  0                  0\n",
              "2    19             0  ...                  0                  0\n",
              "3    73             0  ...                  0                  0\n",
              "4    57             0  ...                  0                  0\n",
              "5    28             0  ...                  0                  0\n",
              "\n",
              "[5 rows x 89 columns]"
            ]
          },
          "metadata": {
            "tags": []
          },
          "execution_count": 157
        }
      ]
    },
    {
      "cell_type": "code",
      "metadata": {
        "id": "ft_PmPkeC_LD",
        "colab_type": "code",
        "outputId": "fc22278c-79d1-4655-87ed-b8a31ed2bdea",
        "colab": {
          "base_uri": "https://localhost:8080/",
          "height": 235
        }
      },
      "source": [
        "y_test = pd.read_csv('https://raw.githubusercontent.com/massaoHigaskino/DSWP/lectures/project/Execution/adult_50k/datascience_adult_50k_v_t1_adult_test_target.csv', index_col= 'id');\n",
        "y_test.head()"
      ],
      "execution_count": 158,
      "outputs": [
        {
          "output_type": "execute_result",
          "data": {
            "text/html": [
              "<div>\n",
              "<style scoped>\n",
              "    .dataframe tbody tr th:only-of-type {\n",
              "        vertical-align: middle;\n",
              "    }\n",
              "\n",
              "    .dataframe tbody tr th {\n",
              "        vertical-align: top;\n",
              "    }\n",
              "\n",
              "    .dataframe thead th {\n",
              "        text-align: right;\n",
              "    }\n",
              "</style>\n",
              "<table border=\"1\" class=\"dataframe\">\n",
              "  <thead>\n",
              "    <tr style=\"text-align: right;\">\n",
              "      <th></th>\n",
              "      <th>target</th>\n",
              "    </tr>\n",
              "    <tr>\n",
              "      <th>id</th>\n",
              "      <th></th>\n",
              "    </tr>\n",
              "  </thead>\n",
              "  <tbody>\n",
              "    <tr>\n",
              "      <th>1</th>\n",
              "      <td>0</td>\n",
              "    </tr>\n",
              "    <tr>\n",
              "      <th>2</th>\n",
              "      <td>0</td>\n",
              "    </tr>\n",
              "    <tr>\n",
              "      <th>3</th>\n",
              "      <td>1</td>\n",
              "    </tr>\n",
              "    <tr>\n",
              "      <th>4</th>\n",
              "      <td>0</td>\n",
              "    </tr>\n",
              "    <tr>\n",
              "      <th>5</th>\n",
              "      <td>0</td>\n",
              "    </tr>\n",
              "  </tbody>\n",
              "</table>\n",
              "</div>"
            ],
            "text/plain": [
              "    target\n",
              "id        \n",
              "1        0\n",
              "2        0\n",
              "3        1\n",
              "4        0\n",
              "5        0"
            ]
          },
          "metadata": {
            "tags": []
          },
          "execution_count": 158
        }
      ]
    },
    {
      "cell_type": "markdown",
      "metadata": {
        "id": "BI3DgCn_N9lV",
        "colab_type": "text"
      },
      "source": [
        "##Decision Tree"
      ]
    },
    {
      "cell_type": "code",
      "metadata": {
        "id": "lE0WvRvxUJry",
        "colab_type": "code",
        "colab": {
          "base_uri": "https://localhost:8080/",
          "height": 606
        },
        "outputId": "b08b8a64-775a-426a-d623-1856245cb2c8"
      },
      "source": [
        "class ProcessDecisionTree:\n",
        "  def __init__(self,\n",
        "               iSeed,\n",
        "               iCV,\n",
        "               X_train,\n",
        "               y_train,\n",
        "               y_test,\n",
        "               X_test, \n",
        "               make_confusion_matrix,\n",
        "               criterion='gini',\n",
        "               splitter='best',\n",
        "               max_depth=None,\n",
        "               min_samples_split=2,\n",
        "               min_samples_leaf=1,\n",
        "               min_impurity_decrease=0.0,\n",
        "               min_impurity_split=None,\n",
        "               presort=False,\n",
        "               class_weight=None,\n",
        "               max_leaf_nodes=None,\n",
        "               max_features=None,\n",
        "               min_weight_fraction_leaf=0.0):\n",
        "    self.criterion=criterion\n",
        "    self.splitter=splitter\n",
        "    self.max_depth=max_depth\n",
        "    self.min_samples_split=min_samples_split\n",
        "    self.min_samples_leaf=min_samples_leaf\n",
        "    self.min_impurity_decrease=min_impurity_decrease\n",
        "    self.min_impurity_split=min_impurity_split\n",
        "    self.presort=presort\n",
        "    self.class_weight=class_weight\n",
        "    self.max_leaf_nodes=max_leaf_nodes\n",
        "    self.max_features=max_features\n",
        "    self.min_weight_fraction_leaf=min_weight_fraction_leaf\n",
        "    self.random_state=iSeed\n",
        "    self.cv=iCV\n",
        "    self.X_train=X_train\n",
        "    self.y_train=y_train\n",
        "    self.y_test=y_test\n",
        "    self.X_test=X_test\n",
        "    self.make_confusion_matrix=make_confusion_matrix\n",
        "\n",
        "  def start(self):\n",
        "    self.Model_DT = DecisionTreeClassifier(criterion=self.criterion, \n",
        "                                           splitter=self.splitter, \n",
        "                                           max_depth=self.max_depth, \n",
        "                                           min_samples_split=self.min_samples_split, \n",
        "                                           min_samples_leaf=self.min_samples_leaf, \n",
        "                                           min_weight_fraction_leaf=self.min_weight_fraction_leaf, \n",
        "                                           max_features=self.max_features, \n",
        "                                           random_state=self.random_state, \n",
        "                                           max_leaf_nodes=self.max_leaf_nodes, \n",
        "                                           min_impurity_decrease=self.min_impurity_decrease, \n",
        "                                           min_impurity_split=self.min_impurity_split, \n",
        "                                           class_weight=self.class_weight, \n",
        "                                           presort=self.presort)\n",
        "    self.Model_DT.fit(self.X_train, self.y_train)\n",
        "    self.a_Scores_CV = cross_val_score(self.Model_DT, self.X_train, self.y_train, cv=self.cv)\n",
        "    print(f'Média das Acurácias calculadas pelo CV....: {100*round(self.a_Scores_CV.mean(),4)}')\n",
        "    print(f'std médio das Acurácias calculadas pelo CV: {100*round(self.a_Scores_CV.std(),4)}')\n",
        "    print(f'Acurácias: {self.a_Scores_CV}')\n",
        "\n",
        "    self.y_pred = self.Model_DT.predict(self.X_test)\n",
        "\n",
        "    #Confusion Matrix\n",
        "    self.cf_matrix = confusion_matrix(self.y_test, self.y_pred)\n",
        "    self.cf_labels = ['True Neg','False Pos','False Neg','True Pos']\n",
        "    self.cf_categories = ['Zero', 'One']\n",
        "    self.make_confusion_matrix(self.cf_matrix, group_names= self.cf_labels, categories= self.cf_categories)\n",
        "\n",
        "decisionTree = ProcessDecisionTree(i_Seed, i_CV, X_train, y_train, y_test, X_test, make_confusion_matrix)\n",
        "decisionTree.start()\n"
      ],
      "execution_count": 172,
      "outputs": [
        {
          "output_type": "stream",
          "text": [
            "Média das Acurácias calculadas pelo CV....: 81.67\n",
            "std médio das Acurácias calculadas pelo CV: 0.84\n",
            "Acurácias: [0.80810562 0.81449631 0.81695332 0.80804668 0.82371007 0.81234644\n",
            " 0.8215602  0.82463145 0.83261671 0.8046683 ]\n"
          ],
          "name": "stdout"
        },
        {
          "output_type": "display_data",
          "data": {
            "image/png": "[encoded data removed]",
            "text/plain": [
              "<Figure size 576x576 with 2 Axes>"
            ]
          },
          "metadata": {
            "tags": []
          }
        }
      ]
    },
    {
      "cell_type": "code",
      "metadata": {
        "id": "6NuSOifMN_rk",
        "colab_type": "code",
        "outputId": "3b481dd3-c15d-478b-e97b-43378c3b8e8f",
        "colab": {
          "base_uri": "https://localhost:8080/",
          "height": 119
        }
      },
      "source": [
        "# Instancia...\n",
        "Model_DT= DecisionTreeClassifier(criterion='gini', splitter='best', \n",
        "                 max_depth=None, min_samples_split=2, \n",
        "                 min_samples_leaf=1, min_weight_fraction_leaf=0.0, \n",
        "                 max_features=None, random_state= i_Seed, \n",
        "                 max_leaf_nodes=None, min_impurity_decrease=0.0, \n",
        "                 min_impurity_split=None, class_weight=None, \n",
        "                 presort=False)\n",
        "\n",
        "# Treina...\n",
        "Model_DT.fit(X_train, y_train)"
      ],
      "execution_count": 111,
      "outputs": [
        {
          "output_type": "execute_result",
          "data": {
            "text/plain": [
              "DecisionTreeClassifier(class_weight=None, criterion='gini', max_depth=None,\n",
              "                       max_features=None, max_leaf_nodes=None,\n",
              "                       min_impurity_decrease=0.0, min_impurity_split=None,\n",
              "                       min_samples_leaf=1, min_samples_split=2,\n",
              "                       min_weight_fraction_leaf=0.0, presort=False,\n",
              "                       random_state=20111974, splitter='best')"
            ]
          },
          "metadata": {
            "tags": []
          },
          "execution_count": 111
        }
      ]
    },
    {
      "cell_type": "code",
      "metadata": {
        "id": "RsiADVY2OKgY",
        "colab_type": "code",
        "outputId": "204d2b98-833d-477c-eb94-38bb2bc18717",
        "colab": {
          "base_uri": "https://localhost:8080/",
          "height": 51
        }
      },
      "source": [
        "# Cross-Validation com 10 folds\n",
        "a_Scores_CV = cross_val_score(Model_DT, X_train, y_train, cv= i_CV)\n",
        "print(f'Média das Acurácias calculadas pelo CV....: {100*round(a_Scores_CV.mean(),4)}')\n",
        "print(f'std médio das Acurácias calculadas pelo CV: {100*round(a_Scores_CV.std(),4)}')"
      ],
      "execution_count": 112,
      "outputs": [
        {
          "output_type": "stream",
          "text": [
            "Média das Acurácias calculadas pelo CV....: 81.67\n",
            "std médio das Acurácias calculadas pelo CV: 0.84\n"
          ],
          "name": "stdout"
        }
      ]
    },
    {
      "cell_type": "code",
      "metadata": {
        "id": "CBw5nAhlOUWT",
        "colab_type": "code",
        "outputId": "7e777df8-71ef-4f3b-e9f2-f05c3371b6b2",
        "colab": {
          "base_uri": "https://localhost:8080/",
          "height": 51
        }
      },
      "source": [
        "print(f'Acurácias: {a_Scores_CV}')"
      ],
      "execution_count": 113,
      "outputs": [
        {
          "output_type": "stream",
          "text": [
            "Acurácias: [0.80810562 0.81449631 0.81695332 0.80804668 0.82371007 0.81234644\n",
            " 0.8215602  0.82463145 0.83261671 0.8046683 ]\n"
          ],
          "name": "stdout"
        }
      ]
    },
    {
      "cell_type": "code",
      "metadata": {
        "id": "gvKT9gZaOZXO",
        "colab_type": "code",
        "outputId": "b658e9e5-8e69-4630-df29-52c9ee8110df",
        "colab": {
          "base_uri": "https://localhost:8080/",
          "height": 538
        }
      },
      "source": [
        "# Faz predições...\n",
        "y_pred = Model_DT.predict(X_test)\n",
        "\n",
        "# Confusion Matrix\n",
        "cf_matrix = confusion_matrix(y_test, y_pred)\n",
        "cf_labels = ['True Neg','False Pos','False Neg','True Pos']\n",
        "cf_categories = ['Zero', 'One']\n",
        "make_confusion_matrix(cf_matrix, group_names= cf_labels, categories= cf_categories)"
      ],
      "execution_count": 114,
      "outputs": [
        {
          "output_type": "display_data",
          "data": {
            "image/png": "[encoded data removed]",
            "text/plain": [
              "<Figure size 576x576 with 2 Axes>"
            ]
          },
          "metadata": {
            "tags": []
          }
        }
      ]
    },
    {
      "cell_type": "markdown",
      "metadata": {
        "id": "dinkGY6gNT6r",
        "colab_type": "text"
      },
      "source": [
        "##Random Forest"
      ]
    },
    {
      "cell_type": "code",
      "metadata": {
        "id": "4ysbE6UsTO2m",
        "colab_type": "code",
        "colab": {
          "base_uri": "https://localhost:8080/",
          "height": 606
        },
        "outputId": "2130eb96-624e-455e-c8db-82c2019b82d0"
      },
      "source": [
        "class ProcessRandomForest:\n",
        "  def __init__(self, iSeed,\n",
        "               iCV, X_train, \n",
        "               y_train, y_test,\n",
        "               X_test, n_estimators=100, \n",
        "               min_samples_split= 2, max_features=\"auto\"):\n",
        "    self.n_estimators = n_estimators\n",
        "    self.min_samples_split = min_samples_split\n",
        "    self.max_features = max_features\n",
        "    self.iSeed = iSeed\n",
        "    self.iCV = iCV\n",
        "    self.X_train = X_train\n",
        "    self.y_train = y_train\n",
        "    self.y_test = y_test\n",
        "    self.X_test = X_test\n",
        "\n",
        "  def start(self):\n",
        "    self.Model_RF= RandomForestClassifier(n_estimators=self.n_estimators, min_samples_split=self.min_samples_split, max_features=self.max_features, random_state= self.iSeed)\n",
        "    self.Model_RF.fit(self.X_train, self.y_train)\n",
        "\n",
        "    # Cross-Validation com 10 folds\n",
        "    self.a_Scores_CV = cross_val_score(self.Model_RF, self.X_train, self.y_train, cv= self.iCV)\n",
        "    print(f'Média das Acurácias calculadas pelo CV....: {100*round(self.a_Scores_CV.mean(),4)}')\n",
        "    print(f'std médio das Acurácias calculadas pelo CV: {100*round(self.a_Scores_CV.std(),4)}')\n",
        "\n",
        "    print(f'Acurácias: {self.a_Scores_CV}')\n",
        "    \n",
        "    # Faz predições...\n",
        "    self.y_pred = self.Model_RF.predict(self.X_test)\n",
        "\n",
        "    # Confusion Matrix\n",
        "    self.cf_matrix = confusion_matrix(self.y_test, self.y_pred)\n",
        "    self.cf_labels = ['True Neg','False Pos','False Neg','True Pos']\n",
        "    self.cf_categories = ['Zero', 'One']\n",
        "    make_confusion_matrix(self.cf_matrix, group_names = self.cf_labels, categories = self.cf_categories)\n",
        "\n",
        "processRandomForest = ProcessRandomForest(i_Seed, i_CV, X_train, y_train, y_test, X_test)\n",
        "processRandomForest.start()"
      ],
      "execution_count": 185,
      "outputs": [
        {
          "output_type": "stream",
          "text": [
            "Média das Acurácias calculadas pelo CV....: 85.61999999999999\n",
            "std médio das Acurácias calculadas pelo CV: 0.51\n",
            "Acurácias: [0.84801965 0.86179361 0.85841523 0.84674447 0.85995086 0.85227273\n",
            " 0.85780098 0.85718673 0.86210074 0.85810811]\n"
          ],
          "name": "stdout"
        },
        {
          "output_type": "display_data",
          "data": {
            "image/png": "[encoded data removed]",
            "text/plain": [
              "<Figure size 576x576 with 2 Axes>"
            ]
          },
          "metadata": {
            "tags": []
          }
        }
      ]
    },
    {
      "cell_type": "code",
      "metadata": {
        "id": "DM6ficlv_9oB",
        "colab_type": "code",
        "outputId": "49034208-4483-4b31-cec0-2561990584d6",
        "colab": {
          "base_uri": "https://localhost:8080/",
          "height": 134
        }
      },
      "source": [
        "# Instancia...\n",
        "Model_RF= RandomForestClassifier(n_estimators=100, min_samples_split= 2, max_features=\"auto\", random_state= i_Seed)\n",
        "\n",
        "# Treina...\n",
        "Model_RF.fit(X_train, y_train)"
      ],
      "execution_count": 0,
      "outputs": [
        {
          "output_type": "execute_result",
          "data": {
            "text/plain": [
              "RandomForestClassifier(bootstrap=True, class_weight=None, criterion='gini',\n",
              "                       max_depth=None, max_features='auto', max_leaf_nodes=None,\n",
              "                       min_impurity_decrease=0.0, min_impurity_split=None,\n",
              "                       min_samples_leaf=1, min_samples_split=2,\n",
              "                       min_weight_fraction_leaf=0.0, n_estimators=100,\n",
              "                       n_jobs=None, oob_score=False, random_state=20111974,\n",
              "                       verbose=0, warm_start=False)"
            ]
          },
          "metadata": {
            "tags": []
          },
          "execution_count": 489
        }
      ]
    },
    {
      "cell_type": "code",
      "metadata": {
        "id": "DYeWL0k6IVl9",
        "colab_type": "code",
        "outputId": "0cc9c8a7-4446-49d4-8626-63dd146ec0d5",
        "colab": {
          "base_uri": "https://localhost:8080/",
          "height": 50
        }
      },
      "source": [
        "# Cross-Validation com 10 folds\n",
        "a_Scores_CV = cross_val_score(Model_RF, X_train, y_train, cv= i_CV)\n",
        "print(f'Média das Acurácias calculadas pelo CV....: {100*round(a_Scores_CV.mean(),4)}')\n",
        "print(f'std médio das Acurácias calculadas pelo CV: {100*round(a_Scores_CV.std(),4)}')"
      ],
      "execution_count": 0,
      "outputs": [
        {
          "output_type": "stream",
          "text": [
            "Média das Acurácias calculadas pelo CV....: 85.61999999999999\n",
            "std médio das Acurácias calculadas pelo CV: 0.51\n"
          ],
          "name": "stdout"
        }
      ]
    },
    {
      "cell_type": "markdown",
      "metadata": {
        "id": "zBLktBfYMnzH",
        "colab_type": "text"
      },
      "source": [
        "Massao: Como não foi feita nenhuma preparação dos dados, o resultado é mediocre. Pode ser melhorado."
      ]
    },
    {
      "cell_type": "code",
      "metadata": {
        "id": "NrZdl0A8JUTU",
        "colab_type": "code",
        "outputId": "42577cdf-dfb8-4679-b59d-8fd5a35f3402",
        "colab": {
          "base_uri": "https://localhost:8080/",
          "height": 50
        }
      },
      "source": [
        "print(f'Acurácias: {a_Scores_CV}')"
      ],
      "execution_count": 0,
      "outputs": [
        {
          "output_type": "stream",
          "text": [
            "Acurácias: [0.84801965 0.86179361 0.85841523 0.84674447 0.85995086 0.85227273\n",
            " 0.85780098 0.85718673 0.86210074 0.85810811]\n"
          ],
          "name": "stdout"
        }
      ]
    },
    {
      "cell_type": "code",
      "metadata": {
        "id": "q42UUhYbJVdE",
        "colab_type": "code",
        "outputId": "63910153-bf5b-4fab-c89e-19efcf8a41d0",
        "colab": {
          "base_uri": "https://localhost:8080/",
          "height": 538
        }
      },
      "source": [
        "# Faz predições...\n",
        "y_pred = Model_RF.predict(X_test)\n",
        "\n",
        "# Confusion Matrix\n",
        "cf_matrix = confusion_matrix(y_test, y_pred)\n",
        "cf_labels = ['True Neg','False Pos','False Neg','True Pos']\n",
        "cf_categories = ['Zero', 'One']\n",
        "make_confusion_matrix(cf_matrix, group_names= cf_labels, categories= cf_categories)"
      ],
      "execution_count": 0,
      "outputs": [
        {
          "output_type": "display_data",
          "data": {
            "image/png": "[encoded data removed]",
            "text/plain": [
              "<Figure size 576x576 with 2 Axes>"
            ]
          },
          "metadata": {
            "tags": []
          }
        }
      ]
    },
    {
      "cell_type": "markdown",
      "metadata": {
        "id": "NQ_P9N8URVui",
        "colab_type": "text"
      },
      "source": [
        "#**5MSE - MODEL SELECTION AND EVALUATE**\n"
      ]
    },
    {
      "cell_type": "markdown",
      "metadata": {
        "id": "NNTm86ElRgGC",
        "colab_type": "text"
      },
      "source": [
        "> Aplicação das melhores métricas para avaliar o acurácia dos modelos de ML."
      ]
    },
    {
      "cell_type": "markdown",
      "metadata": {
        "id": "Z-WXz1TuRjRN",
        "colab_type": "text"
      },
      "source": [
        "Não aplicável"
      ]
    },
    {
      "cell_type": "markdown",
      "metadata": {
        "id": "LGrnRo7DX6Lk",
        "colab_type": "text"
      },
      "source": [
        "#**6D - Deployment**"
      ]
    },
    {
      "cell_type": "markdown",
      "metadata": {
        "id": "qB1d4NGBX6OD",
        "colab_type": "text"
      },
      "source": [
        "> Implementação do Modelo."
      ]
    },
    {
      "cell_type": "markdown",
      "metadata": {
        "id": "Sc73pOI0RqWu",
        "colab_type": "text"
      },
      "source": [
        "Não aplicável"
      ]
    }
  ]
}