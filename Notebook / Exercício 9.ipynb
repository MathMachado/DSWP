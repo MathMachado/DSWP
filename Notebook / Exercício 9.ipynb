{
  "nbformat": 4,
  "nbformat_minor": 0,
  "metadata": {
    "colab": {
      "name": "Cópia de Untitled2.ipynb",
      "provenance": [],
      "authorship_tag": "ABX9TyP5Uvzgx/JDNryDxVJXCVdx",
      "include_colab_link": true
    },
    "kernelspec": {
      "name": "python3",
      "display_name": "Python 3"
    }
  },
  "cells": [
    {
      "cell_type": "markdown",
      "metadata": {
        "id": "view-in-github",
        "colab_type": "text"
      },
      "source": [
        "<a href=\"https://colab.research.google.com/github/cryssoga/DSWP/blob/master/Notebook%20/%20Exerc%C3%ADcio%209.ipynb\" target=\"_parent\"><img src=\"https://colab.research.google.com/assets/colab-badge.svg\" alt=\"Open In Colab\"/></a>"
      ]
    },
    {
      "cell_type": "code",
      "metadata": {
        "id": "frR1Pv_nc0vB",
        "outputId": "f608a3f1-265d-4e73-9fd0-e0833b61b8d9",
        "colab": {
          "base_uri": "https://localhost:8080/",
          "height": 420
        }
      },
      "source": [
        "import pandas as pd\n",
        "import numpy as np\n",
        "import matplotlib.pyplot as plt\n",
        "%matplotlib inline\n",
        "\n",
        "# Exercício 9\n",
        "# 1. Carregue o arquivo FIFA.csv (está na área de Dataframes do curso)\n",
        "\n",
        "url = 'https://raw.githubusercontent.com/cryssoga/DSWP/master/Dataframes/FIFA.csv'\n",
        "df_Fifa = pd.read_csv(url)\n",
        "\n",
        "# Indexando o dataframe pela variável 'ID'\n",
        "df_Fifa.set_index('ID', inplace=True)\n",
        "\n",
        "# Exercício 9\n",
        "# 5.a) Normalize os nomes das colunas, ou seja, renomeie o nome das colunas para minúsculo. \n",
        "nome_colunas = df_Fifa.columns\n",
        "df_Fifa.columns = [col.lower() for col in nome_colunas]\n",
        "\n",
        "# Seguindo o PEP em que as letras são minúsculas, portanto, convertendo 'df_Fifa' para df_fifa':\n",
        "df_fifa = df_Fifa.copy()\n",
        "df_fifa.head()"
      ],
      "execution_count": 57,
      "outputs": [
        {
          "output_type": "execute_result",
          "data": {
            "text/html": [
              "<div>\n",
              "<style scoped>\n",
              "    .dataframe tbody tr th:only-of-type {\n",
              "        vertical-align: middle;\n",
              "    }\n",
              "\n",
              "    .dataframe tbody tr th {\n",
              "        vertical-align: top;\n",
              "    }\n",
              "\n",
              "    .dataframe thead th {\n",
              "        text-align: right;\n",
              "    }\n",
              "</style>\n",
              "<table border=\"1\" class=\"dataframe\">\n",
              "  <thead>\n",
              "    <tr style=\"text-align: right;\">\n",
              "      <th></th>\n",
              "      <th>unnamed: 0</th>\n",
              "      <th>name</th>\n",
              "      <th>age</th>\n",
              "      <th>photo</th>\n",
              "      <th>nationality</th>\n",
              "      <th>flag</th>\n",
              "      <th>overall</th>\n",
              "      <th>potential</th>\n",
              "      <th>club</th>\n",
              "      <th>club logo</th>\n",
              "      <th>value</th>\n",
              "      <th>wage</th>\n",
              "      <th>special</th>\n",
              "      <th>preferred foot</th>\n",
              "      <th>international reputation</th>\n",
              "      <th>weak foot</th>\n",
              "      <th>skill moves</th>\n",
              "      <th>work rate</th>\n",
              "      <th>body type</th>\n",
              "      <th>real face</th>\n",
              "      <th>position</th>\n",
              "      <th>jersey number</th>\n",
              "      <th>joined</th>\n",
              "      <th>loaned from</th>\n",
              "      <th>contract valid until</th>\n",
              "      <th>height</th>\n",
              "      <th>weight</th>\n",
              "      <th>ls</th>\n",
              "      <th>st</th>\n",
              "      <th>rs</th>\n",
              "      <th>lw</th>\n",
              "      <th>lf</th>\n",
              "      <th>cf</th>\n",
              "      <th>rf</th>\n",
              "      <th>rw</th>\n",
              "      <th>lam</th>\n",
              "      <th>cam</th>\n",
              "      <th>ram</th>\n",
              "      <th>lm</th>\n",
              "      <th>lcm</th>\n",
              "      <th>...</th>\n",
              "      <th>lb</th>\n",
              "      <th>lcb</th>\n",
              "      <th>cb</th>\n",
              "      <th>rcb</th>\n",
              "      <th>rb</th>\n",
              "      <th>crossing</th>\n",
              "      <th>finishing</th>\n",
              "      <th>headingaccuracy</th>\n",
              "      <th>shortpassing</th>\n",
              "      <th>volleys</th>\n",
              "      <th>dribbling</th>\n",
              "      <th>curve</th>\n",
              "      <th>fkaccuracy</th>\n",
              "      <th>longpassing</th>\n",
              "      <th>ballcontrol</th>\n",
              "      <th>acceleration</th>\n",
              "      <th>sprintspeed</th>\n",
              "      <th>agility</th>\n",
              "      <th>reactions</th>\n",
              "      <th>balance</th>\n",
              "      <th>shotpower</th>\n",
              "      <th>jumping</th>\n",
              "      <th>stamina</th>\n",
              "      <th>strength</th>\n",
              "      <th>longshots</th>\n",
              "      <th>aggression</th>\n",
              "      <th>interceptions</th>\n",
              "      <th>positioning</th>\n",
              "      <th>vision</th>\n",
              "      <th>penalties</th>\n",
              "      <th>composure</th>\n",
              "      <th>marking</th>\n",
              "      <th>standingtackle</th>\n",
              "      <th>slidingtackle</th>\n",
              "      <th>gkdiving</th>\n",
              "      <th>gkhandling</th>\n",
              "      <th>gkkicking</th>\n",
              "      <th>gkpositioning</th>\n",
              "      <th>gkreflexes</th>\n",
              "      <th>release clause</th>\n",
              "    </tr>\n",
              "    <tr>\n",
              "      <th>ID</th>\n",
              "      <th></th>\n",
              "      <th></th>\n",
              "      <th></th>\n",
              "      <th></th>\n",
              "      <th></th>\n",
              "      <th></th>\n",
              "      <th></th>\n",
              "      <th></th>\n",
              "      <th></th>\n",
              "      <th></th>\n",
              "      <th></th>\n",
              "      <th></th>\n",
              "      <th></th>\n",
              "      <th></th>\n",
              "      <th></th>\n",
              "      <th></th>\n",
              "      <th></th>\n",
              "      <th></th>\n",
              "      <th></th>\n",
              "      <th></th>\n",
              "      <th></th>\n",
              "      <th></th>\n",
              "      <th></th>\n",
              "      <th></th>\n",
              "      <th></th>\n",
              "      <th></th>\n",
              "      <th></th>\n",
              "      <th></th>\n",
              "      <th></th>\n",
              "      <th></th>\n",
              "      <th></th>\n",
              "      <th></th>\n",
              "      <th></th>\n",
              "      <th></th>\n",
              "      <th></th>\n",
              "      <th></th>\n",
              "      <th></th>\n",
              "      <th></th>\n",
              "      <th></th>\n",
              "      <th></th>\n",
              "      <th></th>\n",
              "      <th></th>\n",
              "      <th></th>\n",
              "      <th></th>\n",
              "      <th></th>\n",
              "      <th></th>\n",
              "      <th></th>\n",
              "      <th></th>\n",
              "      <th></th>\n",
              "      <th></th>\n",
              "      <th></th>\n",
              "      <th></th>\n",
              "      <th></th>\n",
              "      <th></th>\n",
              "      <th></th>\n",
              "      <th></th>\n",
              "      <th></th>\n",
              "      <th></th>\n",
              "      <th></th>\n",
              "      <th></th>\n",
              "      <th></th>\n",
              "      <th></th>\n",
              "      <th></th>\n",
              "      <th></th>\n",
              "      <th></th>\n",
              "      <th></th>\n",
              "      <th></th>\n",
              "      <th></th>\n",
              "      <th></th>\n",
              "      <th></th>\n",
              "      <th></th>\n",
              "      <th></th>\n",
              "      <th></th>\n",
              "      <th></th>\n",
              "      <th></th>\n",
              "      <th></th>\n",
              "      <th></th>\n",
              "      <th></th>\n",
              "      <th></th>\n",
              "      <th></th>\n",
              "      <th></th>\n",
              "    </tr>\n",
              "  </thead>\n",
              "  <tbody>\n",
              "    <tr>\n",
              "      <th>158023</th>\n",
              "      <td>0</td>\n",
              "      <td>L. Messi</td>\n",
              "      <td>31</td>\n",
              "      <td>https://cdn.sofifa.org/players/4/19/158023.png</td>\n",
              "      <td>Argentina</td>\n",
              "      <td>https://cdn.sofifa.org/flags/52.png</td>\n",
              "      <td>94</td>\n",
              "      <td>94</td>\n",
              "      <td>FC Barcelona</td>\n",
              "      <td>https://cdn.sofifa.org/teams/2/light/241.png</td>\n",
              "      <td>€110.5M</td>\n",
              "      <td>€565K</td>\n",
              "      <td>2202</td>\n",
              "      <td>Left</td>\n",
              "      <td>5.0</td>\n",
              "      <td>4.0</td>\n",
              "      <td>4.0</td>\n",
              "      <td>Medium/ Medium</td>\n",
              "      <td>Messi</td>\n",
              "      <td>Yes</td>\n",
              "      <td>RF</td>\n",
              "      <td>10.0</td>\n",
              "      <td>Jul 1, 2004</td>\n",
              "      <td>NaN</td>\n",
              "      <td>2021</td>\n",
              "      <td>5'7</td>\n",
              "      <td>159lbs</td>\n",
              "      <td>88+2</td>\n",
              "      <td>88+2</td>\n",
              "      <td>88+2</td>\n",
              "      <td>92+2</td>\n",
              "      <td>93+2</td>\n",
              "      <td>93+2</td>\n",
              "      <td>93+2</td>\n",
              "      <td>92+2</td>\n",
              "      <td>93+2</td>\n",
              "      <td>93+2</td>\n",
              "      <td>93+2</td>\n",
              "      <td>91+2</td>\n",
              "      <td>84+2</td>\n",
              "      <td>...</td>\n",
              "      <td>59+2</td>\n",
              "      <td>47+2</td>\n",
              "      <td>47+2</td>\n",
              "      <td>47+2</td>\n",
              "      <td>59+2</td>\n",
              "      <td>84.0</td>\n",
              "      <td>95.0</td>\n",
              "      <td>70.0</td>\n",
              "      <td>90.0</td>\n",
              "      <td>86.0</td>\n",
              "      <td>97.0</td>\n",
              "      <td>93.0</td>\n",
              "      <td>94.0</td>\n",
              "      <td>87.0</td>\n",
              "      <td>96.0</td>\n",
              "      <td>91.0</td>\n",
              "      <td>86.0</td>\n",
              "      <td>91.0</td>\n",
              "      <td>95.0</td>\n",
              "      <td>95.0</td>\n",
              "      <td>85.0</td>\n",
              "      <td>68.0</td>\n",
              "      <td>72.0</td>\n",
              "      <td>59.0</td>\n",
              "      <td>94.0</td>\n",
              "      <td>48.0</td>\n",
              "      <td>22.0</td>\n",
              "      <td>94.0</td>\n",
              "      <td>94.0</td>\n",
              "      <td>75.0</td>\n",
              "      <td>96.0</td>\n",
              "      <td>33.0</td>\n",
              "      <td>28.0</td>\n",
              "      <td>26.0</td>\n",
              "      <td>6.0</td>\n",
              "      <td>11.0</td>\n",
              "      <td>15.0</td>\n",
              "      <td>14.0</td>\n",
              "      <td>8.0</td>\n",
              "      <td>€226.5M</td>\n",
              "    </tr>\n",
              "    <tr>\n",
              "      <th>20801</th>\n",
              "      <td>1</td>\n",
              "      <td>Cristiano Ronaldo</td>\n",
              "      <td>33</td>\n",
              "      <td>https://cdn.sofifa.org/players/4/19/20801.png</td>\n",
              "      <td>Portugal</td>\n",
              "      <td>https://cdn.sofifa.org/flags/38.png</td>\n",
              "      <td>94</td>\n",
              "      <td>94</td>\n",
              "      <td>Juventus</td>\n",
              "      <td>https://cdn.sofifa.org/teams/2/light/45.png</td>\n",
              "      <td>€77M</td>\n",
              "      <td>€405K</td>\n",
              "      <td>2228</td>\n",
              "      <td>Right</td>\n",
              "      <td>5.0</td>\n",
              "      <td>4.0</td>\n",
              "      <td>5.0</td>\n",
              "      <td>High/ Low</td>\n",
              "      <td>C. Ronaldo</td>\n",
              "      <td>Yes</td>\n",
              "      <td>ST</td>\n",
              "      <td>7.0</td>\n",
              "      <td>Jul 10, 2018</td>\n",
              "      <td>NaN</td>\n",
              "      <td>2022</td>\n",
              "      <td>6'2</td>\n",
              "      <td>183lbs</td>\n",
              "      <td>91+3</td>\n",
              "      <td>91+3</td>\n",
              "      <td>91+3</td>\n",
              "      <td>89+3</td>\n",
              "      <td>90+3</td>\n",
              "      <td>90+3</td>\n",
              "      <td>90+3</td>\n",
              "      <td>89+3</td>\n",
              "      <td>88+3</td>\n",
              "      <td>88+3</td>\n",
              "      <td>88+3</td>\n",
              "      <td>88+3</td>\n",
              "      <td>81+3</td>\n",
              "      <td>...</td>\n",
              "      <td>61+3</td>\n",
              "      <td>53+3</td>\n",
              "      <td>53+3</td>\n",
              "      <td>53+3</td>\n",
              "      <td>61+3</td>\n",
              "      <td>84.0</td>\n",
              "      <td>94.0</td>\n",
              "      <td>89.0</td>\n",
              "      <td>81.0</td>\n",
              "      <td>87.0</td>\n",
              "      <td>88.0</td>\n",
              "      <td>81.0</td>\n",
              "      <td>76.0</td>\n",
              "      <td>77.0</td>\n",
              "      <td>94.0</td>\n",
              "      <td>89.0</td>\n",
              "      <td>91.0</td>\n",
              "      <td>87.0</td>\n",
              "      <td>96.0</td>\n",
              "      <td>70.0</td>\n",
              "      <td>95.0</td>\n",
              "      <td>95.0</td>\n",
              "      <td>88.0</td>\n",
              "      <td>79.0</td>\n",
              "      <td>93.0</td>\n",
              "      <td>63.0</td>\n",
              "      <td>29.0</td>\n",
              "      <td>95.0</td>\n",
              "      <td>82.0</td>\n",
              "      <td>85.0</td>\n",
              "      <td>95.0</td>\n",
              "      <td>28.0</td>\n",
              "      <td>31.0</td>\n",
              "      <td>23.0</td>\n",
              "      <td>7.0</td>\n",
              "      <td>11.0</td>\n",
              "      <td>15.0</td>\n",
              "      <td>14.0</td>\n",
              "      <td>11.0</td>\n",
              "      <td>€127.1M</td>\n",
              "    </tr>\n",
              "    <tr>\n",
              "      <th>190871</th>\n",
              "      <td>2</td>\n",
              "      <td>Neymar Jr</td>\n",
              "      <td>26</td>\n",
              "      <td>https://cdn.sofifa.org/players/4/19/190871.png</td>\n",
              "      <td>Brazil</td>\n",
              "      <td>https://cdn.sofifa.org/flags/54.png</td>\n",
              "      <td>92</td>\n",
              "      <td>93</td>\n",
              "      <td>Paris Saint-Germain</td>\n",
              "      <td>https://cdn.sofifa.org/teams/2/light/73.png</td>\n",
              "      <td>€118.5M</td>\n",
              "      <td>€290K</td>\n",
              "      <td>2143</td>\n",
              "      <td>Right</td>\n",
              "      <td>5.0</td>\n",
              "      <td>5.0</td>\n",
              "      <td>5.0</td>\n",
              "      <td>High/ Medium</td>\n",
              "      <td>Neymar</td>\n",
              "      <td>Yes</td>\n",
              "      <td>LW</td>\n",
              "      <td>10.0</td>\n",
              "      <td>Aug 3, 2017</td>\n",
              "      <td>NaN</td>\n",
              "      <td>2022</td>\n",
              "      <td>5'9</td>\n",
              "      <td>150lbs</td>\n",
              "      <td>84+3</td>\n",
              "      <td>84+3</td>\n",
              "      <td>84+3</td>\n",
              "      <td>89+3</td>\n",
              "      <td>89+3</td>\n",
              "      <td>89+3</td>\n",
              "      <td>89+3</td>\n",
              "      <td>89+3</td>\n",
              "      <td>89+3</td>\n",
              "      <td>89+3</td>\n",
              "      <td>89+3</td>\n",
              "      <td>88+3</td>\n",
              "      <td>81+3</td>\n",
              "      <td>...</td>\n",
              "      <td>60+3</td>\n",
              "      <td>47+3</td>\n",
              "      <td>47+3</td>\n",
              "      <td>47+3</td>\n",
              "      <td>60+3</td>\n",
              "      <td>79.0</td>\n",
              "      <td>87.0</td>\n",
              "      <td>62.0</td>\n",
              "      <td>84.0</td>\n",
              "      <td>84.0</td>\n",
              "      <td>96.0</td>\n",
              "      <td>88.0</td>\n",
              "      <td>87.0</td>\n",
              "      <td>78.0</td>\n",
              "      <td>95.0</td>\n",
              "      <td>94.0</td>\n",
              "      <td>90.0</td>\n",
              "      <td>96.0</td>\n",
              "      <td>94.0</td>\n",
              "      <td>84.0</td>\n",
              "      <td>80.0</td>\n",
              "      <td>61.0</td>\n",
              "      <td>81.0</td>\n",
              "      <td>49.0</td>\n",
              "      <td>82.0</td>\n",
              "      <td>56.0</td>\n",
              "      <td>36.0</td>\n",
              "      <td>89.0</td>\n",
              "      <td>87.0</td>\n",
              "      <td>81.0</td>\n",
              "      <td>94.0</td>\n",
              "      <td>27.0</td>\n",
              "      <td>24.0</td>\n",
              "      <td>33.0</td>\n",
              "      <td>9.0</td>\n",
              "      <td>9.0</td>\n",
              "      <td>15.0</td>\n",
              "      <td>15.0</td>\n",
              "      <td>11.0</td>\n",
              "      <td>€228.1M</td>\n",
              "    </tr>\n",
              "    <tr>\n",
              "      <th>193080</th>\n",
              "      <td>3</td>\n",
              "      <td>De Gea</td>\n",
              "      <td>27</td>\n",
              "      <td>https://cdn.sofifa.org/players/4/19/193080.png</td>\n",
              "      <td>Spain</td>\n",
              "      <td>https://cdn.sofifa.org/flags/45.png</td>\n",
              "      <td>91</td>\n",
              "      <td>93</td>\n",
              "      <td>Manchester United</td>\n",
              "      <td>https://cdn.sofifa.org/teams/2/light/11.png</td>\n",
              "      <td>€72M</td>\n",
              "      <td>€260K</td>\n",
              "      <td>1471</td>\n",
              "      <td>Right</td>\n",
              "      <td>4.0</td>\n",
              "      <td>3.0</td>\n",
              "      <td>1.0</td>\n",
              "      <td>Medium/ Medium</td>\n",
              "      <td>Lean</td>\n",
              "      <td>Yes</td>\n",
              "      <td>GK</td>\n",
              "      <td>1.0</td>\n",
              "      <td>Jul 1, 2011</td>\n",
              "      <td>NaN</td>\n",
              "      <td>2020</td>\n",
              "      <td>6'4</td>\n",
              "      <td>168lbs</td>\n",
              "      <td>NaN</td>\n",
              "      <td>NaN</td>\n",
              "      <td>NaN</td>\n",
              "      <td>NaN</td>\n",
              "      <td>NaN</td>\n",
              "      <td>NaN</td>\n",
              "      <td>NaN</td>\n",
              "      <td>NaN</td>\n",
              "      <td>NaN</td>\n",
              "      <td>NaN</td>\n",
              "      <td>NaN</td>\n",
              "      <td>NaN</td>\n",
              "      <td>NaN</td>\n",
              "      <td>...</td>\n",
              "      <td>NaN</td>\n",
              "      <td>NaN</td>\n",
              "      <td>NaN</td>\n",
              "      <td>NaN</td>\n",
              "      <td>NaN</td>\n",
              "      <td>17.0</td>\n",
              "      <td>13.0</td>\n",
              "      <td>21.0</td>\n",
              "      <td>50.0</td>\n",
              "      <td>13.0</td>\n",
              "      <td>18.0</td>\n",
              "      <td>21.0</td>\n",
              "      <td>19.0</td>\n",
              "      <td>51.0</td>\n",
              "      <td>42.0</td>\n",
              "      <td>57.0</td>\n",
              "      <td>58.0</td>\n",
              "      <td>60.0</td>\n",
              "      <td>90.0</td>\n",
              "      <td>43.0</td>\n",
              "      <td>31.0</td>\n",
              "      <td>67.0</td>\n",
              "      <td>43.0</td>\n",
              "      <td>64.0</td>\n",
              "      <td>12.0</td>\n",
              "      <td>38.0</td>\n",
              "      <td>30.0</td>\n",
              "      <td>12.0</td>\n",
              "      <td>68.0</td>\n",
              "      <td>40.0</td>\n",
              "      <td>68.0</td>\n",
              "      <td>15.0</td>\n",
              "      <td>21.0</td>\n",
              "      <td>13.0</td>\n",
              "      <td>90.0</td>\n",
              "      <td>85.0</td>\n",
              "      <td>87.0</td>\n",
              "      <td>88.0</td>\n",
              "      <td>94.0</td>\n",
              "      <td>€138.6M</td>\n",
              "    </tr>\n",
              "    <tr>\n",
              "      <th>192985</th>\n",
              "      <td>4</td>\n",
              "      <td>K. De Bruyne</td>\n",
              "      <td>27</td>\n",
              "      <td>https://cdn.sofifa.org/players/4/19/192985.png</td>\n",
              "      <td>Belgium</td>\n",
              "      <td>https://cdn.sofifa.org/flags/7.png</td>\n",
              "      <td>91</td>\n",
              "      <td>92</td>\n",
              "      <td>Manchester City</td>\n",
              "      <td>https://cdn.sofifa.org/teams/2/light/10.png</td>\n",
              "      <td>€102M</td>\n",
              "      <td>€355K</td>\n",
              "      <td>2281</td>\n",
              "      <td>Right</td>\n",
              "      <td>4.0</td>\n",
              "      <td>5.0</td>\n",
              "      <td>4.0</td>\n",
              "      <td>High/ High</td>\n",
              "      <td>Normal</td>\n",
              "      <td>Yes</td>\n",
              "      <td>RCM</td>\n",
              "      <td>7.0</td>\n",
              "      <td>Aug 30, 2015</td>\n",
              "      <td>NaN</td>\n",
              "      <td>2023</td>\n",
              "      <td>5'11</td>\n",
              "      <td>154lbs</td>\n",
              "      <td>82+3</td>\n",
              "      <td>82+3</td>\n",
              "      <td>82+3</td>\n",
              "      <td>87+3</td>\n",
              "      <td>87+3</td>\n",
              "      <td>87+3</td>\n",
              "      <td>87+3</td>\n",
              "      <td>87+3</td>\n",
              "      <td>88+3</td>\n",
              "      <td>88+3</td>\n",
              "      <td>88+3</td>\n",
              "      <td>88+3</td>\n",
              "      <td>87+3</td>\n",
              "      <td>...</td>\n",
              "      <td>73+3</td>\n",
              "      <td>66+3</td>\n",
              "      <td>66+3</td>\n",
              "      <td>66+3</td>\n",
              "      <td>73+3</td>\n",
              "      <td>93.0</td>\n",
              "      <td>82.0</td>\n",
              "      <td>55.0</td>\n",
              "      <td>92.0</td>\n",
              "      <td>82.0</td>\n",
              "      <td>86.0</td>\n",
              "      <td>85.0</td>\n",
              "      <td>83.0</td>\n",
              "      <td>91.0</td>\n",
              "      <td>91.0</td>\n",
              "      <td>78.0</td>\n",
              "      <td>76.0</td>\n",
              "      <td>79.0</td>\n",
              "      <td>91.0</td>\n",
              "      <td>77.0</td>\n",
              "      <td>91.0</td>\n",
              "      <td>63.0</td>\n",
              "      <td>90.0</td>\n",
              "      <td>75.0</td>\n",
              "      <td>91.0</td>\n",
              "      <td>76.0</td>\n",
              "      <td>61.0</td>\n",
              "      <td>87.0</td>\n",
              "      <td>94.0</td>\n",
              "      <td>79.0</td>\n",
              "      <td>88.0</td>\n",
              "      <td>68.0</td>\n",
              "      <td>58.0</td>\n",
              "      <td>51.0</td>\n",
              "      <td>15.0</td>\n",
              "      <td>13.0</td>\n",
              "      <td>5.0</td>\n",
              "      <td>10.0</td>\n",
              "      <td>13.0</td>\n",
              "      <td>€196.4M</td>\n",
              "    </tr>\n",
              "  </tbody>\n",
              "</table>\n",
              "<p>5 rows × 88 columns</p>\n",
              "</div>"
            ],
            "text/plain": [
              "        unnamed: 0               name  ...  gkreflexes release clause\n",
              "ID                                     ...                           \n",
              "158023           0           L. Messi  ...         8.0        €226.5M\n",
              "20801            1  Cristiano Ronaldo  ...        11.0        €127.1M\n",
              "190871           2          Neymar Jr  ...        11.0        €228.1M\n",
              "193080           3             De Gea  ...        94.0        €138.6M\n",
              "192985           4       K. De Bruyne  ...        13.0        €196.4M\n",
              "\n",
              "[5 rows x 88 columns]"
            ]
          },
          "metadata": {
            "tags": []
          },
          "execution_count": 57
        }
      ]
    },
    {
      "cell_type": "code",
      "metadata": {
        "id": "yOLTDX9olvnI",
        "outputId": "7f436b58-b1b0-4ff1-ea33-693bb1cac6ac",
        "colab": {
          "base_uri": "https://localhost:8080/",
          "height": 34
        }
      },
      "source": [
        "df_fifa.shape"
      ],
      "execution_count": null,
      "outputs": [
        {
          "output_type": "execute_result",
          "data": {
            "text/plain": [
              "(18207, 88)"
            ]
          },
          "metadata": {
            "tags": []
          },
          "execution_count": 13
        }
      ]
    },
    {
      "cell_type": "code",
      "metadata": {
        "id": "Vj9cZho2kD_W",
        "outputId": "f8a42f14-cd9a-41e0-aed6-4085a9662e9b",
        "colab": {
          "base_uri": "https://localhost:8080/",
          "height": 34
        }
      },
      "source": [
        "# Exercício 9\n",
        "# 2. Que colunas podem previamente ser eliminadas da análise? Porque identificar o que pode ser eliminado é importante?\n",
        "# Minha resposta: colunas com foto, logo do país e do clube, irrelevantes  para análise de dados e ocupam espaço/memória/tempo\n",
        "\n",
        "df_fifa = df_fifa.drop(['unnamed: 0','photo','flag','club logo', 'real face','jersey number','loaned from'], axis = 1)\n",
        "df_fifa.shape"
      ],
      "execution_count": 2,
      "outputs": [
        {
          "output_type": "execute_result",
          "data": {
            "text/plain": [
              "(18207, 81)"
            ]
          },
          "metadata": {
            "tags": []
          },
          "execution_count": 2
        }
      ]
    },
    {
      "cell_type": "code",
      "metadata": {
        "id": "lag6SeTTjz-B"
      },
      "source": [
        "# Exercício 9\n",
        "# 3. Qual o dtype de cada variável/atributo do dataframe?\n",
        "# OBS.: df_fifa.info => mostra todas as colunas sem truncar, qtde de variáveis de cada tipo e uso de memória, vide execução na célula seguinte\n",
        "df_fifa.dtypes      "
      ],
      "execution_count": null,
      "outputs": []
    },
    {
      "cell_type": "code",
      "metadata": {
        "id": "FQ5Bai-lbxvk",
        "outputId": "671f1f6c-0271-43ba-a14e-a2d1f3cb8179",
        "colab": {
          "base_uri": "https://localhost:8080/",
          "height": 1000
        }
      },
      "source": [
        "df_fifa.info()"
      ],
      "execution_count": 10,
      "outputs": [
        {
          "output_type": "stream",
          "text": [
            "<class 'pandas.core.frame.DataFrame'>\n",
            "Int64Index: 18207 entries, 158023 to 246269\n",
            "Data columns (total 81 columns):\n",
            " #   Column                    Non-Null Count  Dtype  \n",
            "---  ------                    --------------  -----  \n",
            " 0   name                      18207 non-null  object \n",
            " 1   age                       18207 non-null  int64  \n",
            " 2   nationality               18207 non-null  object \n",
            " 3   overall                   18207 non-null  int64  \n",
            " 4   potential                 18207 non-null  int64  \n",
            " 5   club                      17966 non-null  object \n",
            " 6   value                     18207 non-null  object \n",
            " 7   wage                      18207 non-null  object \n",
            " 8   special                   18207 non-null  int64  \n",
            " 9   preferred foot            18159 non-null  object \n",
            " 10  international reputation  18159 non-null  float64\n",
            " 11  weak foot                 18159 non-null  float64\n",
            " 12  skill moves               18159 non-null  float64\n",
            " 13  work rate                 18159 non-null  object \n",
            " 14  body type                 18159 non-null  object \n",
            " 15  position                  18147 non-null  object \n",
            " 16  joined                    16654 non-null  object \n",
            " 17  contract valid until      17918 non-null  object \n",
            " 18  height                    18159 non-null  object \n",
            " 19  weight                    18159 non-null  object \n",
            " 20  ls                        16122 non-null  object \n",
            " 21  st                        16122 non-null  object \n",
            " 22  rs                        16122 non-null  object \n",
            " 23  lw                        16122 non-null  object \n",
            " 24  lf                        16122 non-null  object \n",
            " 25  cf                        16122 non-null  object \n",
            " 26  rf                        16122 non-null  object \n",
            " 27  rw                        16122 non-null  object \n",
            " 28  lam                       16122 non-null  object \n",
            " 29  cam                       16122 non-null  object \n",
            " 30  ram                       16122 non-null  object \n",
            " 31  lm                        16122 non-null  object \n",
            " 32  lcm                       16122 non-null  object \n",
            " 33  cm                        16122 non-null  object \n",
            " 34  rcm                       16122 non-null  object \n",
            " 35  rm                        16122 non-null  object \n",
            " 36  lwb                       16122 non-null  object \n",
            " 37  ldm                       16122 non-null  object \n",
            " 38  cdm                       16122 non-null  object \n",
            " 39  rdm                       16122 non-null  object \n",
            " 40  rwb                       16122 non-null  object \n",
            " 41  lb                        16122 non-null  object \n",
            " 42  lcb                       16122 non-null  object \n",
            " 43  cb                        16122 non-null  object \n",
            " 44  rcb                       16122 non-null  object \n",
            " 45  rb                        16122 non-null  object \n",
            " 46  crossing                  18159 non-null  float64\n",
            " 47  finishing                 18159 non-null  float64\n",
            " 48  headingaccuracy           18159 non-null  float64\n",
            " 49  shortpassing              18159 non-null  float64\n",
            " 50  volleys                   18159 non-null  float64\n",
            " 51  dribbling                 18159 non-null  float64\n",
            " 52  curve                     18159 non-null  float64\n",
            " 53  fkaccuracy                18159 non-null  float64\n",
            " 54  longpassing               18159 non-null  float64\n",
            " 55  ballcontrol               18159 non-null  float64\n",
            " 56  acceleration              18159 non-null  float64\n",
            " 57  sprintspeed               18159 non-null  float64\n",
            " 58  agility                   18159 non-null  float64\n",
            " 59  reactions                 18159 non-null  float64\n",
            " 60  balance                   18159 non-null  float64\n",
            " 61  shotpower                 18159 non-null  float64\n",
            " 62  jumping                   18159 non-null  float64\n",
            " 63  stamina                   18159 non-null  float64\n",
            " 64  strength                  18159 non-null  float64\n",
            " 65  longshots                 18159 non-null  float64\n",
            " 66  aggression                18159 non-null  float64\n",
            " 67  interceptions             18159 non-null  float64\n",
            " 68  positioning               18159 non-null  float64\n",
            " 69  vision                    18159 non-null  float64\n",
            " 70  penalties                 18159 non-null  float64\n",
            " 71  composure                 18159 non-null  float64\n",
            " 72  marking                   18159 non-null  float64\n",
            " 73  standingtackle            18159 non-null  float64\n",
            " 74  slidingtackle             18159 non-null  float64\n",
            " 75  gkdiving                  18159 non-null  float64\n",
            " 76  gkhandling                18159 non-null  float64\n",
            " 77  gkkicking                 18159 non-null  float64\n",
            " 78  gkpositioning             18159 non-null  float64\n",
            " 79  gkreflexes                18159 non-null  float64\n",
            " 80  release clause            16643 non-null  object \n",
            "dtypes: float64(37), int64(4), object(40)\n",
            "memory usage: 11.4+ MB\n"
          ],
          "name": "stdout"
        }
      ]
    },
    {
      "cell_type": "code",
      "metadata": {
        "id": "Cr1N26SCXI6V",
        "outputId": "46f277fc-4d3e-4f04-996b-43f44e36edf0",
        "colab": {
          "base_uri": "https://localhost:8080/",
          "height": 272
        }
      },
      "source": [
        "df_fifa.columns"
      ],
      "execution_count": 3,
      "outputs": [
        {
          "output_type": "execute_result",
          "data": {
            "text/plain": [
              "Index(['name', 'age', 'nationality', 'overall', 'potential', 'club', 'value',\n",
              "       'wage', 'special', 'preferred foot', 'international reputation',\n",
              "       'weak foot', 'skill moves', 'work rate', 'body type', 'position',\n",
              "       'joined', 'contract valid until', 'height', 'weight', 'ls', 'st', 'rs',\n",
              "       'lw', 'lf', 'cf', 'rf', 'rw', 'lam', 'cam', 'ram', 'lm', 'lcm', 'cm',\n",
              "       'rcm', 'rm', 'lwb', 'ldm', 'cdm', 'rdm', 'rwb', 'lb', 'lcb', 'cb',\n",
              "       'rcb', 'rb', 'crossing', 'finishing', 'headingaccuracy', 'shortpassing',\n",
              "       'volleys', 'dribbling', 'curve', 'fkaccuracy', 'longpassing',\n",
              "       'ballcontrol', 'acceleration', 'sprintspeed', 'agility', 'reactions',\n",
              "       'balance', 'shotpower', 'jumping', 'stamina', 'strength', 'longshots',\n",
              "       'aggression', 'interceptions', 'positioning', 'vision', 'penalties',\n",
              "       'composure', 'marking', 'standingtackle', 'slidingtackle', 'gkdiving',\n",
              "       'gkhandling', 'gkkicking', 'gkpositioning', 'gkreflexes',\n",
              "       'release clause'],\n",
              "      dtype='object')"
            ]
          },
          "metadata": {
            "tags": []
          },
          "execution_count": 3
        }
      ]
    },
    {
      "cell_type": "code",
      "metadata": {
        "id": "gh1Xyne69xJT",
        "outputId": "37014dd5-aeaf-477d-ead3-58048b9731aa",
        "colab": {
          "base_uri": "https://localhost:8080/",
          "height": 235
        }
      },
      "source": [
        "# Exercício 9\n",
        "# 4. Se alguma variável/atributo é do tipo string (object) e supostamente deveria ser numérica, como alteramos o tipo?\n",
        "\n",
        "# Colunas 'value' e 'wage' são object e apresentam primeiro caracter '€' e último caracter 'M' (million) e 'K' (thousand)\n",
        "df_fifa[['value','wage','release clause']].tail()"
      ],
      "execution_count": 9,
      "outputs": [
        {
          "output_type": "execute_result",
          "data": {
            "text/html": [
              "<div>\n",
              "<style scoped>\n",
              "    .dataframe tbody tr th:only-of-type {\n",
              "        vertical-align: middle;\n",
              "    }\n",
              "\n",
              "    .dataframe tbody tr th {\n",
              "        vertical-align: top;\n",
              "    }\n",
              "\n",
              "    .dataframe thead th {\n",
              "        text-align: right;\n",
              "    }\n",
              "</style>\n",
              "<table border=\"1\" class=\"dataframe\">\n",
              "  <thead>\n",
              "    <tr style=\"text-align: right;\">\n",
              "      <th></th>\n",
              "      <th>value</th>\n",
              "      <th>wage</th>\n",
              "      <th>release clause</th>\n",
              "    </tr>\n",
              "    <tr>\n",
              "      <th>ID</th>\n",
              "      <th></th>\n",
              "      <th></th>\n",
              "      <th></th>\n",
              "    </tr>\n",
              "  </thead>\n",
              "  <tbody>\n",
              "    <tr>\n",
              "      <th>238813</th>\n",
              "      <td>€60K</td>\n",
              "      <td>€1K</td>\n",
              "      <td>€143K</td>\n",
              "    </tr>\n",
              "    <tr>\n",
              "      <th>243165</th>\n",
              "      <td>€60K</td>\n",
              "      <td>€1K</td>\n",
              "      <td>€113K</td>\n",
              "    </tr>\n",
              "    <tr>\n",
              "      <th>241638</th>\n",
              "      <td>€60K</td>\n",
              "      <td>€1K</td>\n",
              "      <td>€165K</td>\n",
              "    </tr>\n",
              "    <tr>\n",
              "      <th>246268</th>\n",
              "      <td>€60K</td>\n",
              "      <td>€1K</td>\n",
              "      <td>€143K</td>\n",
              "    </tr>\n",
              "    <tr>\n",
              "      <th>246269</th>\n",
              "      <td>€60K</td>\n",
              "      <td>€1K</td>\n",
              "      <td>€165K</td>\n",
              "    </tr>\n",
              "  </tbody>\n",
              "</table>\n",
              "</div>"
            ],
            "text/plain": [
              "       value wage release clause\n",
              "ID                              \n",
              "238813  €60K  €1K          €143K\n",
              "243165  €60K  €1K          €113K\n",
              "241638  €60K  €1K          €165K\n",
              "246268  €60K  €1K          €143K\n",
              "246269  €60K  €1K          €165K"
            ]
          },
          "metadata": {
            "tags": []
          },
          "execution_count": 9
        }
      ]
    },
    {
      "cell_type": "code",
      "metadata": {
        "id": "boATBZOM-KDJ"
      },
      "source": [
        "# Marcelo Fernandes de Oliveira postou em 13/10/2020, às 16h56, durante Aula 08:\n",
        "# usando regex em função:\n",
        "\n",
        "df = df_fifa.copy()"
      ],
      "execution_count": 58,
      "outputs": []
    },
    {
      "cell_type": "code",
      "metadata": {
        "id": "q46xlSZ5iLRk"
      },
      "source": [
        "# \"corrigido\"\n",
        "import re\n",
        "def expand_number(input_compact: str):\n",
        " \n",
        "    # dicionário de conversão (definir sufixos sempre em maiúsculo)\n",
        "    repl_dict = {'K': 1e3, 'M': 1e6, 'B': 1e9, }\n",
        " \n",
        "    # se não for do tipo texto\n",
        "    if type(input_compact) != str:\n",
        "        return input_compact\n",
        " \n",
        "    # obter os grupos do string (prefixo, número, abreviação)  \n",
        "    prog = re.compile(rf\"^([RUS$€£]+)?\\s*?([\\d\\.]+)\\s*?([{''.join(repl_dict.keys())}])?$\", re.IGNORECASE) \n",
        "    grp = prog.match(input_compact.upper())\n",
        " \n",
        "    # obter o multiplicador baseado no dicionário de substituição\n",
        "    mult = repl_dict.get(grp.group(3), 1)\n",
        "    return float(grp.group(2)) * float(mult)"
      ],
      "execution_count": 59,
      "outputs": []
    },
    {
      "cell_type": "code",
      "metadata": {
        "id": "HvD6gyk59uMW",
        "outputId": "c3e2b1ce-6fcd-451c-bf72-8ea8d2ba8b94",
        "colab": {
          "base_uri": "https://localhost:8080/",
          "height": 119
        }
      },
      "source": [
        "import re\n",
        "def expand_number(input_compact: str):\n",
        "\n",
        "    # dicionário de conversão (definir sufixos sempre em maiúsculo)\n",
        "    repl_dict = {'K': 1e3, 'M': 1e6, 'B': 1e9, }\n",
        "\n",
        "    # se for vazio ou não tiver abreviação numérica\n",
        "    if not input_compact:\n",
        "        return input_compact\n",
        "\n",
        "    # obter os grupos do string (prefixo, número, abreviação)  [KMB]\n",
        "    prog = re.compile(rf\"^([RUS$€£]+)?\\s*?([\\d\\.]+)\\s*?([{''.join(repl_dict.keys())}])?$\", re.IGNORECASE) \n",
        "    grp = prog.match(input_compact.upper())\n",
        "\n",
        "    # obter o multiplicador baseado no dicionário de substituição\n",
        "    mult = repl_dict.get(grp.group(3), 1)\n",
        "    return float(grp.group(2)) * float(mult)\n",
        "\n",
        "print('\\nUsando map:')\n",
        "%timeit df['value'].map(expand_number)\n",
        "\n",
        "print('\\nUsando List Comprehension:')\n",
        "%timeit [expand_number(x) for x in df['value'].values]"
      ],
      "execution_count": 29,
      "outputs": [
        {
          "output_type": "stream",
          "text": [
            "\n",
            "Usando map:\n",
            "10 loops, best of 3: 49.5 ms per loop\n",
            "\n",
            "Usando List Comprehension:\n",
            "10 loops, best of 3: 46.7 ms per loop\n"
          ],
          "name": "stdout"
        }
      ]
    },
    {
      "cell_type": "code",
      "metadata": {
        "id": "IJDXJxxMXb0K",
        "outputId": "1544d279-8107-41ac-b1d8-6973337a1996",
        "colab": {
          "base_uri": "https://localhost:8080/",
          "height": 235
        }
      },
      "source": [
        "df['release clause'] = df['release clause'].apply(expand_number)\n",
        "df[['release clause']].head()"
      ],
      "execution_count": 60,
      "outputs": [
        {
          "output_type": "execute_result",
          "data": {
            "text/html": [
              "<div>\n",
              "<style scoped>\n",
              "    .dataframe tbody tr th:only-of-type {\n",
              "        vertical-align: middle;\n",
              "    }\n",
              "\n",
              "    .dataframe tbody tr th {\n",
              "        vertical-align: top;\n",
              "    }\n",
              "\n",
              "    .dataframe thead th {\n",
              "        text-align: right;\n",
              "    }\n",
              "</style>\n",
              "<table border=\"1\" class=\"dataframe\">\n",
              "  <thead>\n",
              "    <tr style=\"text-align: right;\">\n",
              "      <th></th>\n",
              "      <th>release clause</th>\n",
              "    </tr>\n",
              "    <tr>\n",
              "      <th>ID</th>\n",
              "      <th></th>\n",
              "    </tr>\n",
              "  </thead>\n",
              "  <tbody>\n",
              "    <tr>\n",
              "      <th>158023</th>\n",
              "      <td>226500000.0</td>\n",
              "    </tr>\n",
              "    <tr>\n",
              "      <th>20801</th>\n",
              "      <td>127100000.0</td>\n",
              "    </tr>\n",
              "    <tr>\n",
              "      <th>190871</th>\n",
              "      <td>228100000.0</td>\n",
              "    </tr>\n",
              "    <tr>\n",
              "      <th>193080</th>\n",
              "      <td>138600000.0</td>\n",
              "    </tr>\n",
              "    <tr>\n",
              "      <th>192985</th>\n",
              "      <td>196400000.0</td>\n",
              "    </tr>\n",
              "  </tbody>\n",
              "</table>\n",
              "</div>"
            ],
            "text/plain": [
              "        release clause\n",
              "ID                    \n",
              "158023     226500000.0\n",
              "20801      127100000.0\n",
              "190871     228100000.0\n",
              "193080     138600000.0\n",
              "192985     196400000.0"
            ]
          },
          "metadata": {
            "tags": []
          },
          "execution_count": 60
        }
      ]
    },
    {
      "cell_type": "code",
      "metadata": {
        "id": "OOh1ldAXZTv0"
      },
      "source": [
        ""
      ],
      "execution_count": null,
      "outputs": []
    },
    {
      "cell_type": "code",
      "metadata": {
        "id": "DV63030DZUsA"
      },
      "source": [
        ""
      ],
      "execution_count": null,
      "outputs": []
    },
    {
      "cell_type": "code",
      "metadata": {
        "id": "5of36kf-53M3",
        "outputId": "120b5047-39da-4d5b-f356-2d1f8e362c3d",
        "colab": {
          "base_uri": "https://localhost:8080/",
          "height": 450
        }
      },
      "source": [
        "# aplicando a função acima definida por Marcelo Fernandes de Oliveira:\n",
        "\n",
        "df['value'] = df['value'].apply(expand_number)\n",
        "df['wage'] = df['wage'].apply(expand_number)\n",
        "\n",
        "df_fifa = df.copy()\n",
        "df_fifa[['value','wage']]\n"
      ],
      "execution_count": 61,
      "outputs": [
        {
          "output_type": "execute_result",
          "data": {
            "text/html": [
              "<div>\n",
              "<style scoped>\n",
              "    .dataframe tbody tr th:only-of-type {\n",
              "        vertical-align: middle;\n",
              "    }\n",
              "\n",
              "    .dataframe tbody tr th {\n",
              "        vertical-align: top;\n",
              "    }\n",
              "\n",
              "    .dataframe thead th {\n",
              "        text-align: right;\n",
              "    }\n",
              "</style>\n",
              "<table border=\"1\" class=\"dataframe\">\n",
              "  <thead>\n",
              "    <tr style=\"text-align: right;\">\n",
              "      <th></th>\n",
              "      <th>value</th>\n",
              "      <th>wage</th>\n",
              "    </tr>\n",
              "    <tr>\n",
              "      <th>ID</th>\n",
              "      <th></th>\n",
              "      <th></th>\n",
              "    </tr>\n",
              "  </thead>\n",
              "  <tbody>\n",
              "    <tr>\n",
              "      <th>158023</th>\n",
              "      <td>110500000.0</td>\n",
              "      <td>565000.0</td>\n",
              "    </tr>\n",
              "    <tr>\n",
              "      <th>20801</th>\n",
              "      <td>77000000.0</td>\n",
              "      <td>405000.0</td>\n",
              "    </tr>\n",
              "    <tr>\n",
              "      <th>190871</th>\n",
              "      <td>118500000.0</td>\n",
              "      <td>290000.0</td>\n",
              "    </tr>\n",
              "    <tr>\n",
              "      <th>193080</th>\n",
              "      <td>72000000.0</td>\n",
              "      <td>260000.0</td>\n",
              "    </tr>\n",
              "    <tr>\n",
              "      <th>192985</th>\n",
              "      <td>102000000.0</td>\n",
              "      <td>355000.0</td>\n",
              "    </tr>\n",
              "    <tr>\n",
              "      <th>...</th>\n",
              "      <td>...</td>\n",
              "      <td>...</td>\n",
              "    </tr>\n",
              "    <tr>\n",
              "      <th>238813</th>\n",
              "      <td>60000.0</td>\n",
              "      <td>1000.0</td>\n",
              "    </tr>\n",
              "    <tr>\n",
              "      <th>243165</th>\n",
              "      <td>60000.0</td>\n",
              "      <td>1000.0</td>\n",
              "    </tr>\n",
              "    <tr>\n",
              "      <th>241638</th>\n",
              "      <td>60000.0</td>\n",
              "      <td>1000.0</td>\n",
              "    </tr>\n",
              "    <tr>\n",
              "      <th>246268</th>\n",
              "      <td>60000.0</td>\n",
              "      <td>1000.0</td>\n",
              "    </tr>\n",
              "    <tr>\n",
              "      <th>246269</th>\n",
              "      <td>60000.0</td>\n",
              "      <td>1000.0</td>\n",
              "    </tr>\n",
              "  </tbody>\n",
              "</table>\n",
              "<p>18207 rows × 2 columns</p>\n",
              "</div>"
            ],
            "text/plain": [
              "              value      wage\n",
              "ID                           \n",
              "158023  110500000.0  565000.0\n",
              "20801    77000000.0  405000.0\n",
              "190871  118500000.0  290000.0\n",
              "193080   72000000.0  260000.0\n",
              "192985  102000000.0  355000.0\n",
              "...             ...       ...\n",
              "238813      60000.0    1000.0\n",
              "243165      60000.0    1000.0\n",
              "241638      60000.0    1000.0\n",
              "246268      60000.0    1000.0\n",
              "246269      60000.0    1000.0\n",
              "\n",
              "[18207 rows x 2 columns]"
            ]
          },
          "metadata": {
            "tags": []
          },
          "execution_count": 61
        }
      ]
    },
    {
      "cell_type": "code",
      "metadata": {
        "id": "TI-blzxfidv5",
        "outputId": "be8f284b-b730-4bf6-ea48-b14c24d877fd",
        "colab": {
          "base_uri": "https://localhost:8080/",
          "height": 235
        }
      },
      "source": [
        "df_fifa[['value','wage','release clause']].tail()"
      ],
      "execution_count": 63,
      "outputs": [
        {
          "output_type": "execute_result",
          "data": {
            "text/html": [
              "<div>\n",
              "<style scoped>\n",
              "    .dataframe tbody tr th:only-of-type {\n",
              "        vertical-align: middle;\n",
              "    }\n",
              "\n",
              "    .dataframe tbody tr th {\n",
              "        vertical-align: top;\n",
              "    }\n",
              "\n",
              "    .dataframe thead th {\n",
              "        text-align: right;\n",
              "    }\n",
              "</style>\n",
              "<table border=\"1\" class=\"dataframe\">\n",
              "  <thead>\n",
              "    <tr style=\"text-align: right;\">\n",
              "      <th></th>\n",
              "      <th>value</th>\n",
              "      <th>wage</th>\n",
              "      <th>release clause</th>\n",
              "    </tr>\n",
              "    <tr>\n",
              "      <th>ID</th>\n",
              "      <th></th>\n",
              "      <th></th>\n",
              "      <th></th>\n",
              "    </tr>\n",
              "  </thead>\n",
              "  <tbody>\n",
              "    <tr>\n",
              "      <th>238813</th>\n",
              "      <td>60000.0</td>\n",
              "      <td>1000.0</td>\n",
              "      <td>143000.0</td>\n",
              "    </tr>\n",
              "    <tr>\n",
              "      <th>243165</th>\n",
              "      <td>60000.0</td>\n",
              "      <td>1000.0</td>\n",
              "      <td>113000.0</td>\n",
              "    </tr>\n",
              "    <tr>\n",
              "      <th>241638</th>\n",
              "      <td>60000.0</td>\n",
              "      <td>1000.0</td>\n",
              "      <td>165000.0</td>\n",
              "    </tr>\n",
              "    <tr>\n",
              "      <th>246268</th>\n",
              "      <td>60000.0</td>\n",
              "      <td>1000.0</td>\n",
              "      <td>143000.0</td>\n",
              "    </tr>\n",
              "    <tr>\n",
              "      <th>246269</th>\n",
              "      <td>60000.0</td>\n",
              "      <td>1000.0</td>\n",
              "      <td>165000.0</td>\n",
              "    </tr>\n",
              "  </tbody>\n",
              "</table>\n",
              "</div>"
            ],
            "text/plain": [
              "          value    wage  release clause\n",
              "ID                                     \n",
              "238813  60000.0  1000.0        143000.0\n",
              "243165  60000.0  1000.0        113000.0\n",
              "241638  60000.0  1000.0        165000.0\n",
              "246268  60000.0  1000.0        143000.0\n",
              "246269  60000.0  1000.0        165000.0"
            ]
          },
          "metadata": {
            "tags": []
          },
          "execution_count": 63
        }
      ]
    },
    {
      "cell_type": "code",
      "metadata": {
        "id": "s16EKWlRijI0",
        "outputId": "0d0e9e0a-afa1-4c0a-8bbd-751f4b497a3b",
        "colab": {
          "base_uri": "https://localhost:8080/",
          "height": 374
        }
      },
      "source": [
        "pd.unique(df['wage'])"
      ],
      "execution_count": null,
      "outputs": [
        {
          "output_type": "execute_result",
          "data": {
            "text/plain": [
              "array([565000., 405000., 290000., 260000., 355000., 340000., 420000.,\n",
              "       455000., 380000.,  94000., 205000., 125000., 285000., 225000.,\n",
              "       145000., 240000., 315000., 200000., 130000., 300000., 215000.,\n",
              "       100000., 255000., 165000., 265000., 160000., 150000., 245000.,\n",
              "       110000.,  77000., 115000., 210000., 195000., 230000., 250000.,\n",
              "       135000., 155000., 180000., 175000., 190000., 185000.,  21000.,\n",
              "        82000.,  73000.,  92000.,  88000.,  96000., 170000.,  66000.,\n",
              "       235000.,  28000., 105000.,  38000.,  81000.,  57000.,  15000.,\n",
              "        63000.,  22000.,  84000., 120000.,  90000.,  72000.,  93000.,\n",
              "        45000.,  74000.,  51000.,  42000.,  31000.,  75000.,  25000.,\n",
              "       140000.,  41000.,  78000.,  53000.,  95000.,  80000.,  43000.,\n",
              "        60000.,  85000.,  64000.,  67000.,  18000.,  70000.,  91000.,\n",
              "        20000.,  49000.,  87000.,  86000.,  26000.,  29000.,  55000.,\n",
              "        35000.,  33000.,  56000.,  30000.,  11000.,  59000.,  23000.,\n",
              "        46000.,  39000.,  32000.,  36000.,  98000.,  54000.,  68000.,\n",
              "        58000.,  27000.,  40000.,  44000.,  19000.,   1000.,  61000.,\n",
              "        50000.,  99000.,  17000.,  52000.,  62000.,  12000.,  10000.,\n",
              "        71000.,  14000.,  76000.,  48000.,  65000.,  69000.,  24000.,\n",
              "        34000.,  16000.,  37000.,  47000.,  89000.,      0.,  97000.,\n",
              "        79000.,  13000.,  83000.,   6000.,   3000.,   9000.,   8000.,\n",
              "         7000.,   4000.,   2000.,   5000.])"
            ]
          },
          "metadata": {
            "tags": []
          },
          "execution_count": 39
        }
      ]
    },
    {
      "cell_type": "code",
      "metadata": {
        "id": "BQ5vt-7djCtV",
        "outputId": "33a559e3-8c33-4f36-dea3-a6b6972d1f6e",
        "colab": {
          "base_uri": "https://localhost:8080/",
          "height": 316
        }
      },
      "source": [
        "df['wage']."
      ],
      "execution_count": null,
      "outputs": [
        {
          "output_type": "error",
          "ename": "AttributeError",
          "evalue": "ignored",
          "traceback": [
            "\u001b[0;31m---------------------------------------------------------------------------\u001b[0m",
            "\u001b[0;31mAttributeError\u001b[0m                            Traceback (most recent call last)",
            "\u001b[0;32m<ipython-input-47-e87f51aeb40e>\u001b[0m in \u001b[0;36m<module>\u001b[0;34m()\u001b[0m\n\u001b[0;32m----> 1\u001b[0;31m \u001b[0mdf\u001b[0m\u001b[0;34m[\u001b[0m\u001b[0;34m'wage'\u001b[0m\u001b[0;34m]\u001b[0m\u001b[0;34m.\u001b[0m\u001b[0mcount\u001b[0m\u001b[0;34m(\u001b[0m\u001b[0;36m0\u001b[0m\u001b[0;34m)\u001b[0m\u001b[0;34m\u001b[0m\u001b[0;34m\u001b[0m\u001b[0m\n\u001b[0m",
            "\u001b[0;32m/usr/local/lib/python3.6/dist-packages/pandas/core/series.py\u001b[0m in \u001b[0;36mcount\u001b[0;34m(self, level)\u001b[0m\n\u001b[1;32m   1770\u001b[0m             \u001b[0mlevel\u001b[0m \u001b[0;34m=\u001b[0m \u001b[0mself\u001b[0m\u001b[0;34m.\u001b[0m\u001b[0mindex\u001b[0m\u001b[0;34m.\u001b[0m\u001b[0m_get_level_number\u001b[0m\u001b[0;34m(\u001b[0m\u001b[0mlevel\u001b[0m\u001b[0;34m)\u001b[0m\u001b[0;34m\u001b[0m\u001b[0;34m\u001b[0m\u001b[0m\n\u001b[1;32m   1771\u001b[0m \u001b[0;34m\u001b[0m\u001b[0m\n\u001b[0;32m-> 1772\u001b[0;31m         \u001b[0mlev\u001b[0m \u001b[0;34m=\u001b[0m \u001b[0mself\u001b[0m\u001b[0;34m.\u001b[0m\u001b[0mindex\u001b[0m\u001b[0;34m.\u001b[0m\u001b[0mlevels\u001b[0m\u001b[0;34m[\u001b[0m\u001b[0mlevel\u001b[0m\u001b[0;34m]\u001b[0m\u001b[0;34m\u001b[0m\u001b[0;34m\u001b[0m\u001b[0m\n\u001b[0m\u001b[1;32m   1773\u001b[0m         \u001b[0mlevel_codes\u001b[0m \u001b[0;34m=\u001b[0m \u001b[0mnp\u001b[0m\u001b[0;34m.\u001b[0m\u001b[0marray\u001b[0m\u001b[0;34m(\u001b[0m\u001b[0mself\u001b[0m\u001b[0;34m.\u001b[0m\u001b[0mindex\u001b[0m\u001b[0;34m.\u001b[0m\u001b[0mcodes\u001b[0m\u001b[0;34m[\u001b[0m\u001b[0mlevel\u001b[0m\u001b[0;34m]\u001b[0m\u001b[0;34m,\u001b[0m \u001b[0msubok\u001b[0m\u001b[0;34m=\u001b[0m\u001b[0;32mFalse\u001b[0m\u001b[0;34m,\u001b[0m \u001b[0mcopy\u001b[0m\u001b[0;34m=\u001b[0m\u001b[0;32mTrue\u001b[0m\u001b[0;34m)\u001b[0m\u001b[0;34m\u001b[0m\u001b[0;34m\u001b[0m\u001b[0m\n\u001b[1;32m   1774\u001b[0m \u001b[0;34m\u001b[0m\u001b[0m\n",
            "\u001b[0;31mAttributeError\u001b[0m: 'Int64Index' object has no attribute 'levels'"
          ]
        }
      ]
    },
    {
      "cell_type": "code",
      "metadata": {
        "id": "fWGIUk86khgr",
        "outputId": "fbd1d177-2a26-471b-90f9-60d0d02a4507",
        "colab": {
          "base_uri": "https://localhost:8080/",
          "height": 34
        }
      },
      "source": [
        ""
      ],
      "execution_count": null,
      "outputs": [
        {
          "output_type": "execute_result",
          "data": {
            "text/plain": [
              "pandas.core.series.Series"
            ]
          },
          "metadata": {
            "tags": []
          },
          "execution_count": 44
        }
      ]
    },
    {
      "cell_type": "code",
      "metadata": {
        "id": "Bhmr10cCj9t9"
      },
      "source": [
        "df2=pd.DataFrame(_41)"
      ],
      "execution_count": null,
      "outputs": []
    },
    {
      "cell_type": "code",
      "metadata": {
        "id": "5BTpPkJxkbWI",
        "outputId": "6d59d35d-6a44-45b0-9bb4-7a9304401ce6",
        "colab": {
          "base_uri": "https://localhost:8080/",
          "height": 419
        }
      },
      "source": [
        "df2"
      ],
      "execution_count": null,
      "outputs": [
        {
          "output_type": "execute_result",
          "data": {
            "text/html": [
              "<div>\n",
              "<style scoped>\n",
              "    .dataframe tbody tr th:only-of-type {\n",
              "        vertical-align: middle;\n",
              "    }\n",
              "\n",
              "    .dataframe tbody tr th {\n",
              "        vertical-align: top;\n",
              "    }\n",
              "\n",
              "    .dataframe thead th {\n",
              "        text-align: right;\n",
              "    }\n",
              "</style>\n",
              "<table border=\"1\" class=\"dataframe\">\n",
              "  <thead>\n",
              "    <tr style=\"text-align: right;\">\n",
              "      <th></th>\n",
              "      <th>wage</th>\n",
              "    </tr>\n",
              "  </thead>\n",
              "  <tbody>\n",
              "    <tr>\n",
              "      <th>1000.0</th>\n",
              "      <td>4900</td>\n",
              "    </tr>\n",
              "    <tr>\n",
              "      <th>2000.0</th>\n",
              "      <td>2827</td>\n",
              "    </tr>\n",
              "    <tr>\n",
              "      <th>3000.0</th>\n",
              "      <td>1857</td>\n",
              "    </tr>\n",
              "    <tr>\n",
              "      <th>4000.0</th>\n",
              "      <td>1255</td>\n",
              "    </tr>\n",
              "    <tr>\n",
              "      <th>5000.0</th>\n",
              "      <td>869</td>\n",
              "    </tr>\n",
              "    <tr>\n",
              "      <th>...</th>\n",
              "      <td>...</td>\n",
              "    </tr>\n",
              "    <tr>\n",
              "      <th>380000.0</th>\n",
              "      <td>1</td>\n",
              "    </tr>\n",
              "    <tr>\n",
              "      <th>230000.0</th>\n",
              "      <td>1</td>\n",
              "    </tr>\n",
              "    <tr>\n",
              "      <th>565000.0</th>\n",
              "      <td>1</td>\n",
              "    </tr>\n",
              "    <tr>\n",
              "      <th>200000.0</th>\n",
              "      <td>1</td>\n",
              "    </tr>\n",
              "    <tr>\n",
              "      <th>245000.0</th>\n",
              "      <td>1</td>\n",
              "    </tr>\n",
              "  </tbody>\n",
              "</table>\n",
              "<p>144 rows × 1 columns</p>\n",
              "</div>"
            ],
            "text/plain": [
              "          wage\n",
              "1000.0    4900\n",
              "2000.0    2827\n",
              "3000.0    1857\n",
              "4000.0    1255\n",
              "5000.0     869\n",
              "...        ...\n",
              "380000.0     1\n",
              "230000.0     1\n",
              "565000.0     1\n",
              "200000.0     1\n",
              "245000.0     1\n",
              "\n",
              "[144 rows x 1 columns]"
            ]
          },
          "metadata": {
            "tags": []
          },
          "execution_count": 43
        }
      ]
    },
    {
      "cell_type": "code",
      "metadata": {
        "id": "Exq3ShLZisb7"
      },
      "source": [
        ""
      ],
      "execution_count": null,
      "outputs": []
    },
    {
      "cell_type": "code",
      "metadata": {
        "id": "L5ALPy1s7xUH"
      },
      "source": [
        "df_fifa = df.copy()\n",
        "df_fifa[['value','wage']]"
      ],
      "execution_count": 32,
      "outputs": []
    },
    {
      "cell_type": "code",
      "metadata": {
        "id": "1KElY1G33N7C",
        "outputId": "78b732da-5845-42a3-dc15-6f457fa83033",
        "colab": {
          "base_uri": "https://localhost:8080/",
          "height": 450
        }
      },
      "source": [
        "df_fifa[['value','wage']]"
      ],
      "execution_count": null,
      "outputs": [
        {
          "output_type": "execute_result",
          "data": {
            "text/html": [
              "<div>\n",
              "<style scoped>\n",
              "    .dataframe tbody tr th:only-of-type {\n",
              "        vertical-align: middle;\n",
              "    }\n",
              "\n",
              "    .dataframe tbody tr th {\n",
              "        vertical-align: top;\n",
              "    }\n",
              "\n",
              "    .dataframe thead th {\n",
              "        text-align: right;\n",
              "    }\n",
              "</style>\n",
              "<table border=\"1\" class=\"dataframe\">\n",
              "  <thead>\n",
              "    <tr style=\"text-align: right;\">\n",
              "      <th></th>\n",
              "      <th>value</th>\n",
              "      <th>wage</th>\n",
              "    </tr>\n",
              "    <tr>\n",
              "      <th>ID</th>\n",
              "      <th></th>\n",
              "      <th></th>\n",
              "    </tr>\n",
              "  </thead>\n",
              "  <tbody>\n",
              "    <tr>\n",
              "      <th>158023</th>\n",
              "      <td>110500000.0</td>\n",
              "      <td>565000.0</td>\n",
              "    </tr>\n",
              "    <tr>\n",
              "      <th>20801</th>\n",
              "      <td>77000000.0</td>\n",
              "      <td>405000.0</td>\n",
              "    </tr>\n",
              "    <tr>\n",
              "      <th>190871</th>\n",
              "      <td>118500000.0</td>\n",
              "      <td>290000.0</td>\n",
              "    </tr>\n",
              "    <tr>\n",
              "      <th>193080</th>\n",
              "      <td>72000000.0</td>\n",
              "      <td>260000.0</td>\n",
              "    </tr>\n",
              "    <tr>\n",
              "      <th>192985</th>\n",
              "      <td>102000000.0</td>\n",
              "      <td>355000.0</td>\n",
              "    </tr>\n",
              "    <tr>\n",
              "      <th>...</th>\n",
              "      <td>...</td>\n",
              "      <td>...</td>\n",
              "    </tr>\n",
              "    <tr>\n",
              "      <th>238813</th>\n",
              "      <td>60000.0</td>\n",
              "      <td>1000.0</td>\n",
              "    </tr>\n",
              "    <tr>\n",
              "      <th>243165</th>\n",
              "      <td>60000.0</td>\n",
              "      <td>1000.0</td>\n",
              "    </tr>\n",
              "    <tr>\n",
              "      <th>241638</th>\n",
              "      <td>60000.0</td>\n",
              "      <td>1000.0</td>\n",
              "    </tr>\n",
              "    <tr>\n",
              "      <th>246268</th>\n",
              "      <td>60000.0</td>\n",
              "      <td>1000.0</td>\n",
              "    </tr>\n",
              "    <tr>\n",
              "      <th>246269</th>\n",
              "      <td>60000.0</td>\n",
              "      <td>1000.0</td>\n",
              "    </tr>\n",
              "  </tbody>\n",
              "</table>\n",
              "<p>18207 rows × 2 columns</p>\n",
              "</div>"
            ],
            "text/plain": [
              "              value      wage\n",
              "ID                           \n",
              "158023  110500000.0  565000.0\n",
              "20801    77000000.0  405000.0\n",
              "190871  118500000.0  290000.0\n",
              "193080   72000000.0  260000.0\n",
              "192985  102000000.0  355000.0\n",
              "...             ...       ...\n",
              "238813      60000.0    1000.0\n",
              "243165      60000.0    1000.0\n",
              "241638      60000.0    1000.0\n",
              "246268      60000.0    1000.0\n",
              "246269      60000.0    1000.0\n",
              "\n",
              "[18207 rows x 2 columns]"
            ]
          },
          "metadata": {
            "tags": []
          },
          "execution_count": 14
        }
      ]
    },
    {
      "cell_type": "code",
      "metadata": {
        "id": "OPj3x77qeMp_"
      },
      "source": [
        "df_fifa.columns"
      ],
      "execution_count": null,
      "outputs": []
    },
    {
      "cell_type": "code",
      "metadata": {
        "id": "_jfKCGuWyu00"
      },
      "source": [
        "df_fifa[['ls','st', 'rs', 'lw', 'lf', 'cf', 'rf', 'rw', 'lam', 'cam', 'ram', 'lm', 'lcm',\n",
        "        'cm', 'rcm', 'rm', 'lwb', 'ldm', 'cdm', 'rdm', 'rwb', 'lb', 'lcb', 'cb', 'rcb', 'rb']].head()"
      ],
      "execution_count": null,
      "outputs": []
    },
    {
      "cell_type": "code",
      "metadata": {
        "id": "0YdQaD1Dg82H",
        "outputId": "654aed4c-dd54-4b4f-ea45-1839d92b4493",
        "colab": {
          "base_uri": "https://localhost:8080/",
          "height": 255
        }
      },
      "source": [
        "# Tratando as variáveis tipo object com formato '83+4' (exemplo) para numeric '87'(resultado da soma '83+4')\n",
        "\n",
        "l_colunas_object = ['ls','st', 'rs', 'lw', 'lf', 'cf', 'rf', 'rw',\n",
        "       'lam', 'cam', 'ram', 'lm', 'lcm', 'cm', 'rcm', 'rm', 'lwb', 'ldm',\n",
        "       'cdm', 'rdm', 'rwb', 'lb', 'lcb', 'cb', 'rcb', 'rb']                     \n",
        "\n",
        "# type(l_nome_colunas_object) é 'list'\n",
        "# l_antes => lista que receberá os string antes do caracter '+'\n",
        "# l_depois => lista que receberá os string depois do caracter '+'\n",
        "\n",
        "for i in l_colunas_object:\n",
        "  l_antes = []\n",
        "  l_depois = []\n",
        "  l_antes = df_fifa[i].str.split('+', n=2, expand= True)[0]\n",
        "  l_depois = df_fifa[i].str.split('+', n=2, expand= True)[1]\n",
        "  l_antes = pd.to_numeric(antes)\n",
        "  l_depois = pd.to_numeric(depois)\n",
        "  df_fifa[i] = l_antes + l_depois\n",
        "\n",
        "df_fifa[['ls','st', 'rs', 'lw', 'lf', 'cf', 'rf', 'rw', 'lam', 'cam', 'ram', 'lm', 'lcm',\n",
        "         'cm', 'rcm', 'rm', 'lwb', 'ldm', 'cdm', 'rdm', 'rwb', 'lb', 'lcb', 'cb', 'rcb', 'rb']].head()"
      ],
      "execution_count": null,
      "outputs": [
        {
          "output_type": "execute_result",
          "data": {
            "text/html": [
              "<div>\n",
              "<style scoped>\n",
              "    .dataframe tbody tr th:only-of-type {\n",
              "        vertical-align: middle;\n",
              "    }\n",
              "\n",
              "    .dataframe tbody tr th {\n",
              "        vertical-align: top;\n",
              "    }\n",
              "\n",
              "    .dataframe thead th {\n",
              "        text-align: right;\n",
              "    }\n",
              "</style>\n",
              "<table border=\"1\" class=\"dataframe\">\n",
              "  <thead>\n",
              "    <tr style=\"text-align: right;\">\n",
              "      <th></th>\n",
              "      <th>ls</th>\n",
              "      <th>st</th>\n",
              "      <th>rs</th>\n",
              "      <th>lw</th>\n",
              "      <th>lf</th>\n",
              "      <th>cf</th>\n",
              "      <th>rf</th>\n",
              "      <th>rw</th>\n",
              "      <th>lam</th>\n",
              "      <th>cam</th>\n",
              "      <th>ram</th>\n",
              "      <th>lm</th>\n",
              "      <th>lcm</th>\n",
              "      <th>cm</th>\n",
              "      <th>rcm</th>\n",
              "      <th>rm</th>\n",
              "      <th>lwb</th>\n",
              "      <th>ldm</th>\n",
              "      <th>cdm</th>\n",
              "      <th>rdm</th>\n",
              "      <th>rwb</th>\n",
              "      <th>lb</th>\n",
              "      <th>lcb</th>\n",
              "      <th>cb</th>\n",
              "      <th>rcb</th>\n",
              "      <th>rb</th>\n",
              "    </tr>\n",
              "    <tr>\n",
              "      <th>ID</th>\n",
              "      <th></th>\n",
              "      <th></th>\n",
              "      <th></th>\n",
              "      <th></th>\n",
              "      <th></th>\n",
              "      <th></th>\n",
              "      <th></th>\n",
              "      <th></th>\n",
              "      <th></th>\n",
              "      <th></th>\n",
              "      <th></th>\n",
              "      <th></th>\n",
              "      <th></th>\n",
              "      <th></th>\n",
              "      <th></th>\n",
              "      <th></th>\n",
              "      <th></th>\n",
              "      <th></th>\n",
              "      <th></th>\n",
              "      <th></th>\n",
              "      <th></th>\n",
              "      <th></th>\n",
              "      <th></th>\n",
              "      <th></th>\n",
              "      <th></th>\n",
              "      <th></th>\n",
              "    </tr>\n",
              "  </thead>\n",
              "  <tbody>\n",
              "    <tr>\n",
              "      <th>158023</th>\n",
              "      <td>90.0</td>\n",
              "      <td>90.0</td>\n",
              "      <td>90.0</td>\n",
              "      <td>94.0</td>\n",
              "      <td>95.0</td>\n",
              "      <td>95.0</td>\n",
              "      <td>95.0</td>\n",
              "      <td>94.0</td>\n",
              "      <td>95.0</td>\n",
              "      <td>95.0</td>\n",
              "      <td>95.0</td>\n",
              "      <td>93.0</td>\n",
              "      <td>86.0</td>\n",
              "      <td>86.0</td>\n",
              "      <td>86.0</td>\n",
              "      <td>93.0</td>\n",
              "      <td>66.0</td>\n",
              "      <td>63.0</td>\n",
              "      <td>63.0</td>\n",
              "      <td>63.0</td>\n",
              "      <td>66.0</td>\n",
              "      <td>61.0</td>\n",
              "      <td>49.0</td>\n",
              "      <td>49.0</td>\n",
              "      <td>49.0</td>\n",
              "      <td>61.0</td>\n",
              "    </tr>\n",
              "    <tr>\n",
              "      <th>20801</th>\n",
              "      <td>94.0</td>\n",
              "      <td>94.0</td>\n",
              "      <td>94.0</td>\n",
              "      <td>92.0</td>\n",
              "      <td>93.0</td>\n",
              "      <td>93.0</td>\n",
              "      <td>93.0</td>\n",
              "      <td>92.0</td>\n",
              "      <td>91.0</td>\n",
              "      <td>91.0</td>\n",
              "      <td>91.0</td>\n",
              "      <td>91.0</td>\n",
              "      <td>84.0</td>\n",
              "      <td>84.0</td>\n",
              "      <td>84.0</td>\n",
              "      <td>91.0</td>\n",
              "      <td>68.0</td>\n",
              "      <td>64.0</td>\n",
              "      <td>64.0</td>\n",
              "      <td>64.0</td>\n",
              "      <td>68.0</td>\n",
              "      <td>64.0</td>\n",
              "      <td>56.0</td>\n",
              "      <td>56.0</td>\n",
              "      <td>56.0</td>\n",
              "      <td>64.0</td>\n",
              "    </tr>\n",
              "    <tr>\n",
              "      <th>190871</th>\n",
              "      <td>87.0</td>\n",
              "      <td>87.0</td>\n",
              "      <td>87.0</td>\n",
              "      <td>92.0</td>\n",
              "      <td>92.0</td>\n",
              "      <td>92.0</td>\n",
              "      <td>92.0</td>\n",
              "      <td>92.0</td>\n",
              "      <td>92.0</td>\n",
              "      <td>92.0</td>\n",
              "      <td>92.0</td>\n",
              "      <td>91.0</td>\n",
              "      <td>84.0</td>\n",
              "      <td>84.0</td>\n",
              "      <td>84.0</td>\n",
              "      <td>91.0</td>\n",
              "      <td>68.0</td>\n",
              "      <td>63.0</td>\n",
              "      <td>63.0</td>\n",
              "      <td>63.0</td>\n",
              "      <td>68.0</td>\n",
              "      <td>63.0</td>\n",
              "      <td>50.0</td>\n",
              "      <td>50.0</td>\n",
              "      <td>50.0</td>\n",
              "      <td>63.0</td>\n",
              "    </tr>\n",
              "    <tr>\n",
              "      <th>193080</th>\n",
              "      <td>NaN</td>\n",
              "      <td>NaN</td>\n",
              "      <td>NaN</td>\n",
              "      <td>NaN</td>\n",
              "      <td>NaN</td>\n",
              "      <td>NaN</td>\n",
              "      <td>NaN</td>\n",
              "      <td>NaN</td>\n",
              "      <td>NaN</td>\n",
              "      <td>NaN</td>\n",
              "      <td>NaN</td>\n",
              "      <td>NaN</td>\n",
              "      <td>NaN</td>\n",
              "      <td>NaN</td>\n",
              "      <td>NaN</td>\n",
              "      <td>NaN</td>\n",
              "      <td>NaN</td>\n",
              "      <td>NaN</td>\n",
              "      <td>NaN</td>\n",
              "      <td>NaN</td>\n",
              "      <td>NaN</td>\n",
              "      <td>NaN</td>\n",
              "      <td>NaN</td>\n",
              "      <td>NaN</td>\n",
              "      <td>NaN</td>\n",
              "      <td>NaN</td>\n",
              "    </tr>\n",
              "    <tr>\n",
              "      <th>192985</th>\n",
              "      <td>85.0</td>\n",
              "      <td>85.0</td>\n",
              "      <td>85.0</td>\n",
              "      <td>90.0</td>\n",
              "      <td>90.0</td>\n",
              "      <td>90.0</td>\n",
              "      <td>90.0</td>\n",
              "      <td>90.0</td>\n",
              "      <td>91.0</td>\n",
              "      <td>91.0</td>\n",
              "      <td>91.0</td>\n",
              "      <td>91.0</td>\n",
              "      <td>90.0</td>\n",
              "      <td>90.0</td>\n",
              "      <td>90.0</td>\n",
              "      <td>91.0</td>\n",
              "      <td>80.0</td>\n",
              "      <td>80.0</td>\n",
              "      <td>80.0</td>\n",
              "      <td>80.0</td>\n",
              "      <td>80.0</td>\n",
              "      <td>76.0</td>\n",
              "      <td>69.0</td>\n",
              "      <td>69.0</td>\n",
              "      <td>69.0</td>\n",
              "      <td>76.0</td>\n",
              "    </tr>\n",
              "  </tbody>\n",
              "</table>\n",
              "</div>"
            ],
            "text/plain": [
              "          ls    st    rs    lw    lf    cf  ...   rwb    lb   lcb    cb   rcb    rb\n",
              "ID                                          ...                                    \n",
              "158023  90.0  90.0  90.0  94.0  95.0  95.0  ...  66.0  61.0  49.0  49.0  49.0  61.0\n",
              "20801   94.0  94.0  94.0  92.0  93.0  93.0  ...  68.0  64.0  56.0  56.0  56.0  64.0\n",
              "190871  87.0  87.0  87.0  92.0  92.0  92.0  ...  68.0  63.0  50.0  50.0  50.0  63.0\n",
              "193080   NaN   NaN   NaN   NaN   NaN   NaN  ...   NaN   NaN   NaN   NaN   NaN   NaN\n",
              "192985  85.0  85.0  85.0  90.0  90.0  90.0  ...  80.0  76.0  69.0  69.0  69.0  76.0\n",
              "\n",
              "[5 rows x 26 columns]"
            ]
          },
          "metadata": {
            "tags": []
          },
          "execution_count": 27
        }
      ]
    },
    {
      "cell_type": "code",
      "metadata": {
        "id": "E1k-AUt1mAyx",
        "outputId": "df1c984c-d8a1-492b-af05-3496259ab36e",
        "colab": {
          "base_uri": "https://localhost:8080/",
          "height": 255
        }
      },
      "source": [
        "# Tratando as variáveis tipo object com formato '83+4' (exemplo) para numeric '87'(resultado da soma '83+4')\n",
        "\n",
        "l_nome_colunas_object = ['ls','st', 'rs', 'lw', 'lf', 'cf', 'rf', 'rw',\n",
        "       'lam', 'cam', 'ram', 'lm', 'lcm', 'cm', 'rcm', 'rm', 'lwb', 'ldm',\n",
        "       'cdm', 'rdm', 'rwb', 'lb', 'lcb', 'cb', 'rcb', 'rb']                     \n",
        "\n",
        "# type(l_nome_colunas_object) é 'list'\n",
        "# l_num[0] => lista na posição 0 de l_num que receberá lista dos string antes do caracter '+'\n",
        "# l_num[1] => lista na posição 1 de l_num que receberá lista dos string depois do caracter '+'\n",
        "\n",
        "for i in l_nome_colunas_object:\n",
        "  l_num = [0,1]\n",
        "  l_num[0] = df_fifa[i].str.split('+', n=2, expand= True)[0]\n",
        "  l_num[1] = df_fifa[i].str.split('+', n=2, expand= True)[1]\n",
        "  l_num[0]=pd.to_numeric(l_num[0])\n",
        "  l_num[1]=pd.to_numeric(l_num[1])\n",
        "  df_fifa[i]=l_num[0] + l_num[1]\n",
        "\n",
        "df_fifa[['ls','st', 'rs', 'lw', 'lf', 'cf', 'rf', 'rw', 'lam', 'cam', 'ram', 'lm', 'lcm',\n",
        "         'cm', 'rcm', 'rm', 'lwb', 'ldm', 'cdm', 'rdm', 'rwb', 'lb', 'lcb', 'cb', 'rcb', 'rb']].head()"
      ],
      "execution_count": null,
      "outputs": [
        {
          "output_type": "execute_result",
          "data": {
            "text/html": [
              "<div>\n",
              "<style scoped>\n",
              "    .dataframe tbody tr th:only-of-type {\n",
              "        vertical-align: middle;\n",
              "    }\n",
              "\n",
              "    .dataframe tbody tr th {\n",
              "        vertical-align: top;\n",
              "    }\n",
              "\n",
              "    .dataframe thead th {\n",
              "        text-align: right;\n",
              "    }\n",
              "</style>\n",
              "<table border=\"1\" class=\"dataframe\">\n",
              "  <thead>\n",
              "    <tr style=\"text-align: right;\">\n",
              "      <th></th>\n",
              "      <th>ls</th>\n",
              "      <th>st</th>\n",
              "      <th>rs</th>\n",
              "      <th>lw</th>\n",
              "      <th>lf</th>\n",
              "      <th>cf</th>\n",
              "      <th>rf</th>\n",
              "      <th>rw</th>\n",
              "      <th>lam</th>\n",
              "      <th>cam</th>\n",
              "      <th>ram</th>\n",
              "      <th>lm</th>\n",
              "      <th>lcm</th>\n",
              "      <th>cm</th>\n",
              "      <th>rcm</th>\n",
              "      <th>rm</th>\n",
              "      <th>lwb</th>\n",
              "      <th>ldm</th>\n",
              "      <th>cdm</th>\n",
              "      <th>rdm</th>\n",
              "      <th>rwb</th>\n",
              "      <th>lb</th>\n",
              "      <th>lcb</th>\n",
              "      <th>cb</th>\n",
              "      <th>rcb</th>\n",
              "      <th>rb</th>\n",
              "    </tr>\n",
              "    <tr>\n",
              "      <th>ID</th>\n",
              "      <th></th>\n",
              "      <th></th>\n",
              "      <th></th>\n",
              "      <th></th>\n",
              "      <th></th>\n",
              "      <th></th>\n",
              "      <th></th>\n",
              "      <th></th>\n",
              "      <th></th>\n",
              "      <th></th>\n",
              "      <th></th>\n",
              "      <th></th>\n",
              "      <th></th>\n",
              "      <th></th>\n",
              "      <th></th>\n",
              "      <th></th>\n",
              "      <th></th>\n",
              "      <th></th>\n",
              "      <th></th>\n",
              "      <th></th>\n",
              "      <th></th>\n",
              "      <th></th>\n",
              "      <th></th>\n",
              "      <th></th>\n",
              "      <th></th>\n",
              "      <th></th>\n",
              "    </tr>\n",
              "  </thead>\n",
              "  <tbody>\n",
              "    <tr>\n",
              "      <th>158023</th>\n",
              "      <td>90.0</td>\n",
              "      <td>90.0</td>\n",
              "      <td>90.0</td>\n",
              "      <td>94.0</td>\n",
              "      <td>95.0</td>\n",
              "      <td>95.0</td>\n",
              "      <td>95.0</td>\n",
              "      <td>94.0</td>\n",
              "      <td>95.0</td>\n",
              "      <td>95.0</td>\n",
              "      <td>95.0</td>\n",
              "      <td>93.0</td>\n",
              "      <td>86.0</td>\n",
              "      <td>86.0</td>\n",
              "      <td>86.0</td>\n",
              "      <td>93.0</td>\n",
              "      <td>66.0</td>\n",
              "      <td>63.0</td>\n",
              "      <td>63.0</td>\n",
              "      <td>63.0</td>\n",
              "      <td>66.0</td>\n",
              "      <td>61.0</td>\n",
              "      <td>49.0</td>\n",
              "      <td>49.0</td>\n",
              "      <td>49.0</td>\n",
              "      <td>61.0</td>\n",
              "    </tr>\n",
              "    <tr>\n",
              "      <th>20801</th>\n",
              "      <td>94.0</td>\n",
              "      <td>94.0</td>\n",
              "      <td>94.0</td>\n",
              "      <td>92.0</td>\n",
              "      <td>93.0</td>\n",
              "      <td>93.0</td>\n",
              "      <td>93.0</td>\n",
              "      <td>92.0</td>\n",
              "      <td>91.0</td>\n",
              "      <td>91.0</td>\n",
              "      <td>91.0</td>\n",
              "      <td>91.0</td>\n",
              "      <td>84.0</td>\n",
              "      <td>84.0</td>\n",
              "      <td>84.0</td>\n",
              "      <td>91.0</td>\n",
              "      <td>68.0</td>\n",
              "      <td>64.0</td>\n",
              "      <td>64.0</td>\n",
              "      <td>64.0</td>\n",
              "      <td>68.0</td>\n",
              "      <td>64.0</td>\n",
              "      <td>56.0</td>\n",
              "      <td>56.0</td>\n",
              "      <td>56.0</td>\n",
              "      <td>64.0</td>\n",
              "    </tr>\n",
              "    <tr>\n",
              "      <th>190871</th>\n",
              "      <td>87.0</td>\n",
              "      <td>87.0</td>\n",
              "      <td>87.0</td>\n",
              "      <td>92.0</td>\n",
              "      <td>92.0</td>\n",
              "      <td>92.0</td>\n",
              "      <td>92.0</td>\n",
              "      <td>92.0</td>\n",
              "      <td>92.0</td>\n",
              "      <td>92.0</td>\n",
              "      <td>92.0</td>\n",
              "      <td>91.0</td>\n",
              "      <td>84.0</td>\n",
              "      <td>84.0</td>\n",
              "      <td>84.0</td>\n",
              "      <td>91.0</td>\n",
              "      <td>68.0</td>\n",
              "      <td>63.0</td>\n",
              "      <td>63.0</td>\n",
              "      <td>63.0</td>\n",
              "      <td>68.0</td>\n",
              "      <td>63.0</td>\n",
              "      <td>50.0</td>\n",
              "      <td>50.0</td>\n",
              "      <td>50.0</td>\n",
              "      <td>63.0</td>\n",
              "    </tr>\n",
              "    <tr>\n",
              "      <th>193080</th>\n",
              "      <td>NaN</td>\n",
              "      <td>NaN</td>\n",
              "      <td>NaN</td>\n",
              "      <td>NaN</td>\n",
              "      <td>NaN</td>\n",
              "      <td>NaN</td>\n",
              "      <td>NaN</td>\n",
              "      <td>NaN</td>\n",
              "      <td>NaN</td>\n",
              "      <td>NaN</td>\n",
              "      <td>NaN</td>\n",
              "      <td>NaN</td>\n",
              "      <td>NaN</td>\n",
              "      <td>NaN</td>\n",
              "      <td>NaN</td>\n",
              "      <td>NaN</td>\n",
              "      <td>NaN</td>\n",
              "      <td>NaN</td>\n",
              "      <td>NaN</td>\n",
              "      <td>NaN</td>\n",
              "      <td>NaN</td>\n",
              "      <td>NaN</td>\n",
              "      <td>NaN</td>\n",
              "      <td>NaN</td>\n",
              "      <td>NaN</td>\n",
              "      <td>NaN</td>\n",
              "    </tr>\n",
              "    <tr>\n",
              "      <th>192985</th>\n",
              "      <td>85.0</td>\n",
              "      <td>85.0</td>\n",
              "      <td>85.0</td>\n",
              "      <td>90.0</td>\n",
              "      <td>90.0</td>\n",
              "      <td>90.0</td>\n",
              "      <td>90.0</td>\n",
              "      <td>90.0</td>\n",
              "      <td>91.0</td>\n",
              "      <td>91.0</td>\n",
              "      <td>91.0</td>\n",
              "      <td>91.0</td>\n",
              "      <td>90.0</td>\n",
              "      <td>90.0</td>\n",
              "      <td>90.0</td>\n",
              "      <td>91.0</td>\n",
              "      <td>80.0</td>\n",
              "      <td>80.0</td>\n",
              "      <td>80.0</td>\n",
              "      <td>80.0</td>\n",
              "      <td>80.0</td>\n",
              "      <td>76.0</td>\n",
              "      <td>69.0</td>\n",
              "      <td>69.0</td>\n",
              "      <td>69.0</td>\n",
              "      <td>76.0</td>\n",
              "    </tr>\n",
              "  </tbody>\n",
              "</table>\n",
              "</div>"
            ],
            "text/plain": [
              "          ls    st    rs    lw    lf    cf  ...   rwb    lb   lcb    cb   rcb    rb\n",
              "ID                                          ...                                    \n",
              "158023  90.0  90.0  90.0  94.0  95.0  95.0  ...  66.0  61.0  49.0  49.0  49.0  61.0\n",
              "20801   94.0  94.0  94.0  92.0  93.0  93.0  ...  68.0  64.0  56.0  56.0  56.0  64.0\n",
              "190871  87.0  87.0  87.0  92.0  92.0  92.0  ...  68.0  63.0  50.0  50.0  50.0  63.0\n",
              "193080   NaN   NaN   NaN   NaN   NaN   NaN  ...   NaN   NaN   NaN   NaN   NaN   NaN\n",
              "192985  85.0  85.0  85.0  90.0  90.0  90.0  ...  80.0  76.0  69.0  69.0  69.0  76.0\n",
              "\n",
              "[5 rows x 26 columns]"
            ]
          },
          "metadata": {
            "tags": []
          },
          "execution_count": 24
        }
      ]
    },
    {
      "cell_type": "code",
      "metadata": {
        "id": "uEboEmtyAXr4"
      },
      "source": [
        "# Exercício 9\n",
        "# 5.a) Normalize os nomes das colunas, ou seja, renomeie o nome das colunas para minúsculo.\n",
        "# resolvido lá no início"
      ],
      "execution_count": null,
      "outputs": []
    },
    {
      "cell_type": "code",
      "metadata": {
        "id": "Dh1Tb4FKKECD"
      },
      "source": [
        "# Exercício 9\n",
        "# 5.b) Há Missing values nos dados? \n",
        "# 5.c) Se sim, qual sua proposta (proposta do grupo) para tratar esses Missing values?"
      ],
      "execution_count": null,
      "outputs": []
    },
    {
      "cell_type": "code",
      "metadata": {
        "id": "lMU-PnPSKmTR"
      },
      "source": [
        "# Sim, há Missing values pois ao rodar df_fifa.info() várias colunas indicam valores non-null menores que o número total de linhas (18207 linhas).\n",
        "\n",
        "s_nan = df_fifa.isna().sum()          # df_fifa.isnull().sum()"
      ],
      "execution_count": null,
      "outputs": []
    },
    {
      "cell_type": "code",
      "metadata": {
        "id": "tJ8G_7BINACB"
      },
      "source": [
        "df_nan = pd.DataFrame(s_nan)"
      ],
      "execution_count": null,
      "outputs": []
    },
    {
      "cell_type": "code",
      "metadata": {
        "id": "5lFmj3izNnM1"
      },
      "source": [
        "df_nan.head(50)"
      ],
      "execution_count": null,
      "outputs": []
    },
    {
      "cell_type": "code",
      "metadata": {
        "id": "YsYe1altWASu"
      },
      "source": [
        "df_nan.tail(31)"
      ],
      "execution_count": null,
      "outputs": []
    },
    {
      "cell_type": "code",
      "metadata": {
        "id": "G4mHfknENovA",
        "outputId": "ed699e85-92d2-44df-badc-8422a8fc4406",
        "colab": {
          "base_uri": "https://localhost:8080/",
          "height": 306
        }
      },
      "source": [
        "df_nan.pivot('qtde de NaNs', columns=)"
      ],
      "execution_count": null,
      "outputs": [
        {
          "output_type": "error",
          "ename": "TypeError",
          "evalue": "ignored",
          "traceback": [
            "\u001b[0;31m---------------------------------------------------------------------------\u001b[0m",
            "\u001b[0;31mTypeError\u001b[0m                                 Traceback (most recent call last)",
            "\u001b[0;32m<ipython-input-272-5a6269c4c2d5>\u001b[0m in \u001b[0;36m<module>\u001b[0;34m()\u001b[0m\n\u001b[0;32m----> 1\u001b[0;31m \u001b[0mdf_nan\u001b[0m\u001b[0;34m.\u001b[0m\u001b[0mpivot\u001b[0m\u001b[0;34m(\u001b[0m\u001b[0;34m'qtde de NaNs'\u001b[0m\u001b[0;34m)\u001b[0m\u001b[0;34m\u001b[0m\u001b[0;34m\u001b[0m\u001b[0m\n\u001b[0m",
            "\u001b[0;32m/usr/local/lib/python3.6/dist-packages/pandas/core/frame.py\u001b[0m in \u001b[0;36mpivot\u001b[0;34m(self, index, columns, values)\u001b[0m\n\u001b[1;32m   6671\u001b[0m         \u001b[0;32mfrom\u001b[0m \u001b[0mpandas\u001b[0m\u001b[0;34m.\u001b[0m\u001b[0mcore\u001b[0m\u001b[0;34m.\u001b[0m\u001b[0mreshape\u001b[0m\u001b[0;34m.\u001b[0m\u001b[0mpivot\u001b[0m \u001b[0;32mimport\u001b[0m \u001b[0mpivot\u001b[0m\u001b[0;34m\u001b[0m\u001b[0;34m\u001b[0m\u001b[0m\n\u001b[1;32m   6672\u001b[0m \u001b[0;34m\u001b[0m\u001b[0m\n\u001b[0;32m-> 6673\u001b[0;31m         \u001b[0;32mreturn\u001b[0m \u001b[0mpivot\u001b[0m\u001b[0;34m(\u001b[0m\u001b[0mself\u001b[0m\u001b[0;34m,\u001b[0m \u001b[0mindex\u001b[0m\u001b[0;34m=\u001b[0m\u001b[0mindex\u001b[0m\u001b[0;34m,\u001b[0m \u001b[0mcolumns\u001b[0m\u001b[0;34m=\u001b[0m\u001b[0mcolumns\u001b[0m\u001b[0;34m,\u001b[0m \u001b[0mvalues\u001b[0m\u001b[0;34m=\u001b[0m\u001b[0mvalues\u001b[0m\u001b[0;34m)\u001b[0m\u001b[0;34m\u001b[0m\u001b[0;34m\u001b[0m\u001b[0m\n\u001b[0m\u001b[1;32m   6674\u001b[0m \u001b[0;34m\u001b[0m\u001b[0m\n\u001b[1;32m   6675\u001b[0m     _shared_docs[\n",
            "\u001b[0;32m/usr/local/lib/python3.6/dist-packages/pandas/core/reshape/pivot.py\u001b[0m in \u001b[0;36mpivot\u001b[0;34m(data, index, columns, values)\u001b[0m\n\u001b[1;32m    443\u001b[0m ) -> \"DataFrame\":\n\u001b[1;32m    444\u001b[0m     \u001b[0;32mif\u001b[0m \u001b[0mcolumns\u001b[0m \u001b[0;32mis\u001b[0m \u001b[0;32mNone\u001b[0m\u001b[0;34m:\u001b[0m\u001b[0;34m\u001b[0m\u001b[0;34m\u001b[0m\u001b[0m\n\u001b[0;32m--> 445\u001b[0;31m         \u001b[0;32mraise\u001b[0m \u001b[0mTypeError\u001b[0m\u001b[0;34m(\u001b[0m\u001b[0;34m\"pivot() missing 1 required argument: 'columns'\"\u001b[0m\u001b[0;34m)\u001b[0m\u001b[0;34m\u001b[0m\u001b[0;34m\u001b[0m\u001b[0m\n\u001b[0m\u001b[1;32m    446\u001b[0m \u001b[0;34m\u001b[0m\u001b[0m\n\u001b[1;32m    447\u001b[0m     \u001b[0mcolumns\u001b[0m \u001b[0;34m=\u001b[0m \u001b[0mcom\u001b[0m\u001b[0;34m.\u001b[0m\u001b[0mconvert_to_list_like\u001b[0m\u001b[0;34m(\u001b[0m\u001b[0mcolumns\u001b[0m\u001b[0;34m)\u001b[0m\u001b[0;34m\u001b[0m\u001b[0;34m\u001b[0m\u001b[0m\n",
            "\u001b[0;31mTypeError\u001b[0m: pivot() missing 1 required argument: 'columns'"
          ]
        }
      ]
    },
    {
      "cell_type": "code",
      "metadata": {
        "id": "qvIFRTwJNgq-",
        "outputId": "54c71a33-b9ee-41f7-84e8-26c70a036ab6",
        "colab": {
          "base_uri": "https://localhost:8080/",
          "height": 51
        }
      },
      "source": [
        "df_nan.sum()"
      ],
      "execution_count": null,
      "outputs": [
        {
          "output_type": "execute_result",
          "data": {
            "text/plain": [
              "0    59933\n",
              "dtype: int64"
            ]
          },
          "metadata": {
            "tags": []
          },
          "execution_count": 262
        }
      ]
    },
    {
      "cell_type": "code",
      "metadata": {
        "id": "RmVBplviLIf_",
        "outputId": "e1035bf4-1b65-457c-c5d3-9af791509bd3",
        "colab": {
          "base_uri": "https://localhost:8080/",
          "height": 504
        }
      },
      "source": [
        "df_fifa[df_fifa.isna()]"
      ],
      "execution_count": null,
      "outputs": [
        {
          "output_type": "execute_result",
          "data": {
            "text/html": [
              "<div>\n",
              "<style scoped>\n",
              "    .dataframe tbody tr th:only-of-type {\n",
              "        vertical-align: middle;\n",
              "    }\n",
              "\n",
              "    .dataframe tbody tr th {\n",
              "        vertical-align: top;\n",
              "    }\n",
              "\n",
              "    .dataframe thead th {\n",
              "        text-align: right;\n",
              "    }\n",
              "</style>\n",
              "<table border=\"1\" class=\"dataframe\">\n",
              "  <thead>\n",
              "    <tr style=\"text-align: right;\">\n",
              "      <th></th>\n",
              "      <th>name</th>\n",
              "      <th>age</th>\n",
              "      <th>nationality</th>\n",
              "      <th>overall</th>\n",
              "      <th>potential</th>\n",
              "      <th>club</th>\n",
              "      <th>value</th>\n",
              "      <th>wage</th>\n",
              "      <th>special</th>\n",
              "      <th>preferred foot</th>\n",
              "      <th>international reputation</th>\n",
              "      <th>weak foot</th>\n",
              "      <th>skill moves</th>\n",
              "      <th>work rate</th>\n",
              "      <th>body type</th>\n",
              "      <th>position</th>\n",
              "      <th>joined</th>\n",
              "      <th>contract valid until</th>\n",
              "      <th>height</th>\n",
              "      <th>weight</th>\n",
              "      <th>ls</th>\n",
              "      <th>st</th>\n",
              "      <th>rs</th>\n",
              "      <th>lw</th>\n",
              "      <th>lf</th>\n",
              "      <th>cf</th>\n",
              "      <th>rf</th>\n",
              "      <th>rw</th>\n",
              "      <th>lam</th>\n",
              "      <th>cam</th>\n",
              "      <th>ram</th>\n",
              "      <th>lm</th>\n",
              "      <th>lcm</th>\n",
              "      <th>cm</th>\n",
              "      <th>rcm</th>\n",
              "      <th>rm</th>\n",
              "      <th>lwb</th>\n",
              "      <th>ldm</th>\n",
              "      <th>cdm</th>\n",
              "      <th>rdm</th>\n",
              "      <th>...</th>\n",
              "      <th>lb</th>\n",
              "      <th>lcb</th>\n",
              "      <th>cb</th>\n",
              "      <th>rcb</th>\n",
              "      <th>rb</th>\n",
              "      <th>crossing</th>\n",
              "      <th>finishing</th>\n",
              "      <th>headingaccuracy</th>\n",
              "      <th>shortpassing</th>\n",
              "      <th>volleys</th>\n",
              "      <th>dribbling</th>\n",
              "      <th>curve</th>\n",
              "      <th>fkaccuracy</th>\n",
              "      <th>longpassing</th>\n",
              "      <th>ballcontrol</th>\n",
              "      <th>acceleration</th>\n",
              "      <th>sprintspeed</th>\n",
              "      <th>agility</th>\n",
              "      <th>reactions</th>\n",
              "      <th>balance</th>\n",
              "      <th>shotpower</th>\n",
              "      <th>jumping</th>\n",
              "      <th>stamina</th>\n",
              "      <th>strength</th>\n",
              "      <th>longshots</th>\n",
              "      <th>aggression</th>\n",
              "      <th>interceptions</th>\n",
              "      <th>positioning</th>\n",
              "      <th>vision</th>\n",
              "      <th>penalties</th>\n",
              "      <th>composure</th>\n",
              "      <th>marking</th>\n",
              "      <th>standingtackle</th>\n",
              "      <th>slidingtackle</th>\n",
              "      <th>gkdiving</th>\n",
              "      <th>gkhandling</th>\n",
              "      <th>gkkicking</th>\n",
              "      <th>gkpositioning</th>\n",
              "      <th>gkreflexes</th>\n",
              "      <th>release clause</th>\n",
              "    </tr>\n",
              "    <tr>\n",
              "      <th>ID</th>\n",
              "      <th></th>\n",
              "      <th></th>\n",
              "      <th></th>\n",
              "      <th></th>\n",
              "      <th></th>\n",
              "      <th></th>\n",
              "      <th></th>\n",
              "      <th></th>\n",
              "      <th></th>\n",
              "      <th></th>\n",
              "      <th></th>\n",
              "      <th></th>\n",
              "      <th></th>\n",
              "      <th></th>\n",
              "      <th></th>\n",
              "      <th></th>\n",
              "      <th></th>\n",
              "      <th></th>\n",
              "      <th></th>\n",
              "      <th></th>\n",
              "      <th></th>\n",
              "      <th></th>\n",
              "      <th></th>\n",
              "      <th></th>\n",
              "      <th></th>\n",
              "      <th></th>\n",
              "      <th></th>\n",
              "      <th></th>\n",
              "      <th></th>\n",
              "      <th></th>\n",
              "      <th></th>\n",
              "      <th></th>\n",
              "      <th></th>\n",
              "      <th></th>\n",
              "      <th></th>\n",
              "      <th></th>\n",
              "      <th></th>\n",
              "      <th></th>\n",
              "      <th></th>\n",
              "      <th></th>\n",
              "      <th></th>\n",
              "      <th></th>\n",
              "      <th></th>\n",
              "      <th></th>\n",
              "      <th></th>\n",
              "      <th></th>\n",
              "      <th></th>\n",
              "      <th></th>\n",
              "      <th></th>\n",
              "      <th></th>\n",
              "      <th></th>\n",
              "      <th></th>\n",
              "      <th></th>\n",
              "      <th></th>\n",
              "      <th></th>\n",
              "      <th></th>\n",
              "      <th></th>\n",
              "      <th></th>\n",
              "      <th></th>\n",
              "      <th></th>\n",
              "      <th></th>\n",
              "      <th></th>\n",
              "      <th></th>\n",
              "      <th></th>\n",
              "      <th></th>\n",
              "      <th></th>\n",
              "      <th></th>\n",
              "      <th></th>\n",
              "      <th></th>\n",
              "      <th></th>\n",
              "      <th></th>\n",
              "      <th></th>\n",
              "      <th></th>\n",
              "      <th></th>\n",
              "      <th></th>\n",
              "      <th></th>\n",
              "      <th></th>\n",
              "      <th></th>\n",
              "      <th></th>\n",
              "      <th></th>\n",
              "      <th></th>\n",
              "    </tr>\n",
              "  </thead>\n",
              "  <tbody>\n",
              "    <tr>\n",
              "      <th>158023</th>\n",
              "      <td>NaN</td>\n",
              "      <td>NaN</td>\n",
              "      <td>NaN</td>\n",
              "      <td>NaN</td>\n",
              "      <td>NaN</td>\n",
              "      <td>NaN</td>\n",
              "      <td>NaN</td>\n",
              "      <td>NaN</td>\n",
              "      <td>NaN</td>\n",
              "      <td>NaN</td>\n",
              "      <td>NaN</td>\n",
              "      <td>NaN</td>\n",
              "      <td>NaN</td>\n",
              "      <td>NaN</td>\n",
              "      <td>NaN</td>\n",
              "      <td>NaN</td>\n",
              "      <td>NaN</td>\n",
              "      <td>NaN</td>\n",
              "      <td>NaN</td>\n",
              "      <td>NaN</td>\n",
              "      <td>NaN</td>\n",
              "      <td>NaN</td>\n",
              "      <td>NaN</td>\n",
              "      <td>NaN</td>\n",
              "      <td>NaN</td>\n",
              "      <td>NaN</td>\n",
              "      <td>NaN</td>\n",
              "      <td>NaN</td>\n",
              "      <td>NaN</td>\n",
              "      <td>NaN</td>\n",
              "      <td>NaN</td>\n",
              "      <td>NaN</td>\n",
              "      <td>NaN</td>\n",
              "      <td>NaN</td>\n",
              "      <td>NaN</td>\n",
              "      <td>NaN</td>\n",
              "      <td>NaN</td>\n",
              "      <td>NaN</td>\n",
              "      <td>NaN</td>\n",
              "      <td>NaN</td>\n",
              "      <td>...</td>\n",
              "      <td>NaN</td>\n",
              "      <td>NaN</td>\n",
              "      <td>NaN</td>\n",
              "      <td>NaN</td>\n",
              "      <td>NaN</td>\n",
              "      <td>NaN</td>\n",
              "      <td>NaN</td>\n",
              "      <td>NaN</td>\n",
              "      <td>NaN</td>\n",
              "      <td>NaN</td>\n",
              "      <td>NaN</td>\n",
              "      <td>NaN</td>\n",
              "      <td>NaN</td>\n",
              "      <td>NaN</td>\n",
              "      <td>NaN</td>\n",
              "      <td>NaN</td>\n",
              "      <td>NaN</td>\n",
              "      <td>NaN</td>\n",
              "      <td>NaN</td>\n",
              "      <td>NaN</td>\n",
              "      <td>NaN</td>\n",
              "      <td>NaN</td>\n",
              "      <td>NaN</td>\n",
              "      <td>NaN</td>\n",
              "      <td>NaN</td>\n",
              "      <td>NaN</td>\n",
              "      <td>NaN</td>\n",
              "      <td>NaN</td>\n",
              "      <td>NaN</td>\n",
              "      <td>NaN</td>\n",
              "      <td>NaN</td>\n",
              "      <td>NaN</td>\n",
              "      <td>NaN</td>\n",
              "      <td>NaN</td>\n",
              "      <td>NaN</td>\n",
              "      <td>NaN</td>\n",
              "      <td>NaN</td>\n",
              "      <td>NaN</td>\n",
              "      <td>NaN</td>\n",
              "      <td>NaN</td>\n",
              "    </tr>\n",
              "    <tr>\n",
              "      <th>20801</th>\n",
              "      <td>NaN</td>\n",
              "      <td>NaN</td>\n",
              "      <td>NaN</td>\n",
              "      <td>NaN</td>\n",
              "      <td>NaN</td>\n",
              "      <td>NaN</td>\n",
              "      <td>NaN</td>\n",
              "      <td>NaN</td>\n",
              "      <td>NaN</td>\n",
              "      <td>NaN</td>\n",
              "      <td>NaN</td>\n",
              "      <td>NaN</td>\n",
              "      <td>NaN</td>\n",
              "      <td>NaN</td>\n",
              "      <td>NaN</td>\n",
              "      <td>NaN</td>\n",
              "      <td>NaN</td>\n",
              "      <td>NaN</td>\n",
              "      <td>NaN</td>\n",
              "      <td>NaN</td>\n",
              "      <td>NaN</td>\n",
              "      <td>NaN</td>\n",
              "      <td>NaN</td>\n",
              "      <td>NaN</td>\n",
              "      <td>NaN</td>\n",
              "      <td>NaN</td>\n",
              "      <td>NaN</td>\n",
              "      <td>NaN</td>\n",
              "      <td>NaN</td>\n",
              "      <td>NaN</td>\n",
              "      <td>NaN</td>\n",
              "      <td>NaN</td>\n",
              "      <td>NaN</td>\n",
              "      <td>NaN</td>\n",
              "      <td>NaN</td>\n",
              "      <td>NaN</td>\n",
              "      <td>NaN</td>\n",
              "      <td>NaN</td>\n",
              "      <td>NaN</td>\n",
              "      <td>NaN</td>\n",
              "      <td>...</td>\n",
              "      <td>NaN</td>\n",
              "      <td>NaN</td>\n",
              "      <td>NaN</td>\n",
              "      <td>NaN</td>\n",
              "      <td>NaN</td>\n",
              "      <td>NaN</td>\n",
              "      <td>NaN</td>\n",
              "      <td>NaN</td>\n",
              "      <td>NaN</td>\n",
              "      <td>NaN</td>\n",
              "      <td>NaN</td>\n",
              "      <td>NaN</td>\n",
              "      <td>NaN</td>\n",
              "      <td>NaN</td>\n",
              "      <td>NaN</td>\n",
              "      <td>NaN</td>\n",
              "      <td>NaN</td>\n",
              "      <td>NaN</td>\n",
              "      <td>NaN</td>\n",
              "      <td>NaN</td>\n",
              "      <td>NaN</td>\n",
              "      <td>NaN</td>\n",
              "      <td>NaN</td>\n",
              "      <td>NaN</td>\n",
              "      <td>NaN</td>\n",
              "      <td>NaN</td>\n",
              "      <td>NaN</td>\n",
              "      <td>NaN</td>\n",
              "      <td>NaN</td>\n",
              "      <td>NaN</td>\n",
              "      <td>NaN</td>\n",
              "      <td>NaN</td>\n",
              "      <td>NaN</td>\n",
              "      <td>NaN</td>\n",
              "      <td>NaN</td>\n",
              "      <td>NaN</td>\n",
              "      <td>NaN</td>\n",
              "      <td>NaN</td>\n",
              "      <td>NaN</td>\n",
              "      <td>NaN</td>\n",
              "    </tr>\n",
              "    <tr>\n",
              "      <th>190871</th>\n",
              "      <td>NaN</td>\n",
              "      <td>NaN</td>\n",
              "      <td>NaN</td>\n",
              "      <td>NaN</td>\n",
              "      <td>NaN</td>\n",
              "      <td>NaN</td>\n",
              "      <td>NaN</td>\n",
              "      <td>NaN</td>\n",
              "      <td>NaN</td>\n",
              "      <td>NaN</td>\n",
              "      <td>NaN</td>\n",
              "      <td>NaN</td>\n",
              "      <td>NaN</td>\n",
              "      <td>NaN</td>\n",
              "      <td>NaN</td>\n",
              "      <td>NaN</td>\n",
              "      <td>NaN</td>\n",
              "      <td>NaN</td>\n",
              "      <td>NaN</td>\n",
              "      <td>NaN</td>\n",
              "      <td>NaN</td>\n",
              "      <td>NaN</td>\n",
              "      <td>NaN</td>\n",
              "      <td>NaN</td>\n",
              "      <td>NaN</td>\n",
              "      <td>NaN</td>\n",
              "      <td>NaN</td>\n",
              "      <td>NaN</td>\n",
              "      <td>NaN</td>\n",
              "      <td>NaN</td>\n",
              "      <td>NaN</td>\n",
              "      <td>NaN</td>\n",
              "      <td>NaN</td>\n",
              "      <td>NaN</td>\n",
              "      <td>NaN</td>\n",
              "      <td>NaN</td>\n",
              "      <td>NaN</td>\n",
              "      <td>NaN</td>\n",
              "      <td>NaN</td>\n",
              "      <td>NaN</td>\n",
              "      <td>...</td>\n",
              "      <td>NaN</td>\n",
              "      <td>NaN</td>\n",
              "      <td>NaN</td>\n",
              "      <td>NaN</td>\n",
              "      <td>NaN</td>\n",
              "      <td>NaN</td>\n",
              "      <td>NaN</td>\n",
              "      <td>NaN</td>\n",
              "      <td>NaN</td>\n",
              "      <td>NaN</td>\n",
              "      <td>NaN</td>\n",
              "      <td>NaN</td>\n",
              "      <td>NaN</td>\n",
              "      <td>NaN</td>\n",
              "      <td>NaN</td>\n",
              "      <td>NaN</td>\n",
              "      <td>NaN</td>\n",
              "      <td>NaN</td>\n",
              "      <td>NaN</td>\n",
              "      <td>NaN</td>\n",
              "      <td>NaN</td>\n",
              "      <td>NaN</td>\n",
              "      <td>NaN</td>\n",
              "      <td>NaN</td>\n",
              "      <td>NaN</td>\n",
              "      <td>NaN</td>\n",
              "      <td>NaN</td>\n",
              "      <td>NaN</td>\n",
              "      <td>NaN</td>\n",
              "      <td>NaN</td>\n",
              "      <td>NaN</td>\n",
              "      <td>NaN</td>\n",
              "      <td>NaN</td>\n",
              "      <td>NaN</td>\n",
              "      <td>NaN</td>\n",
              "      <td>NaN</td>\n",
              "      <td>NaN</td>\n",
              "      <td>NaN</td>\n",
              "      <td>NaN</td>\n",
              "      <td>NaN</td>\n",
              "    </tr>\n",
              "    <tr>\n",
              "      <th>193080</th>\n",
              "      <td>NaN</td>\n",
              "      <td>NaN</td>\n",
              "      <td>NaN</td>\n",
              "      <td>NaN</td>\n",
              "      <td>NaN</td>\n",
              "      <td>NaN</td>\n",
              "      <td>NaN</td>\n",
              "      <td>NaN</td>\n",
              "      <td>NaN</td>\n",
              "      <td>NaN</td>\n",
              "      <td>NaN</td>\n",
              "      <td>NaN</td>\n",
              "      <td>NaN</td>\n",
              "      <td>NaN</td>\n",
              "      <td>NaN</td>\n",
              "      <td>NaN</td>\n",
              "      <td>NaN</td>\n",
              "      <td>NaN</td>\n",
              "      <td>NaN</td>\n",
              "      <td>NaN</td>\n",
              "      <td>NaN</td>\n",
              "      <td>NaN</td>\n",
              "      <td>NaN</td>\n",
              "      <td>NaN</td>\n",
              "      <td>NaN</td>\n",
              "      <td>NaN</td>\n",
              "      <td>NaN</td>\n",
              "      <td>NaN</td>\n",
              "      <td>NaN</td>\n",
              "      <td>NaN</td>\n",
              "      <td>NaN</td>\n",
              "      <td>NaN</td>\n",
              "      <td>NaN</td>\n",
              "      <td>NaN</td>\n",
              "      <td>NaN</td>\n",
              "      <td>NaN</td>\n",
              "      <td>NaN</td>\n",
              "      <td>NaN</td>\n",
              "      <td>NaN</td>\n",
              "      <td>NaN</td>\n",
              "      <td>...</td>\n",
              "      <td>NaN</td>\n",
              "      <td>NaN</td>\n",
              "      <td>NaN</td>\n",
              "      <td>NaN</td>\n",
              "      <td>NaN</td>\n",
              "      <td>NaN</td>\n",
              "      <td>NaN</td>\n",
              "      <td>NaN</td>\n",
              "      <td>NaN</td>\n",
              "      <td>NaN</td>\n",
              "      <td>NaN</td>\n",
              "      <td>NaN</td>\n",
              "      <td>NaN</td>\n",
              "      <td>NaN</td>\n",
              "      <td>NaN</td>\n",
              "      <td>NaN</td>\n",
              "      <td>NaN</td>\n",
              "      <td>NaN</td>\n",
              "      <td>NaN</td>\n",
              "      <td>NaN</td>\n",
              "      <td>NaN</td>\n",
              "      <td>NaN</td>\n",
              "      <td>NaN</td>\n",
              "      <td>NaN</td>\n",
              "      <td>NaN</td>\n",
              "      <td>NaN</td>\n",
              "      <td>NaN</td>\n",
              "      <td>NaN</td>\n",
              "      <td>NaN</td>\n",
              "      <td>NaN</td>\n",
              "      <td>NaN</td>\n",
              "      <td>NaN</td>\n",
              "      <td>NaN</td>\n",
              "      <td>NaN</td>\n",
              "      <td>NaN</td>\n",
              "      <td>NaN</td>\n",
              "      <td>NaN</td>\n",
              "      <td>NaN</td>\n",
              "      <td>NaN</td>\n",
              "      <td>NaN</td>\n",
              "    </tr>\n",
              "    <tr>\n",
              "      <th>192985</th>\n",
              "      <td>NaN</td>\n",
              "      <td>NaN</td>\n",
              "      <td>NaN</td>\n",
              "      <td>NaN</td>\n",
              "      <td>NaN</td>\n",
              "      <td>NaN</td>\n",
              "      <td>NaN</td>\n",
              "      <td>NaN</td>\n",
              "      <td>NaN</td>\n",
              "      <td>NaN</td>\n",
              "      <td>NaN</td>\n",
              "      <td>NaN</td>\n",
              "      <td>NaN</td>\n",
              "      <td>NaN</td>\n",
              "      <td>NaN</td>\n",
              "      <td>NaN</td>\n",
              "      <td>NaN</td>\n",
              "      <td>NaN</td>\n",
              "      <td>NaN</td>\n",
              "      <td>NaN</td>\n",
              "      <td>NaN</td>\n",
              "      <td>NaN</td>\n",
              "      <td>NaN</td>\n",
              "      <td>NaN</td>\n",
              "      <td>NaN</td>\n",
              "      <td>NaN</td>\n",
              "      <td>NaN</td>\n",
              "      <td>NaN</td>\n",
              "      <td>NaN</td>\n",
              "      <td>NaN</td>\n",
              "      <td>NaN</td>\n",
              "      <td>NaN</td>\n",
              "      <td>NaN</td>\n",
              "      <td>NaN</td>\n",
              "      <td>NaN</td>\n",
              "      <td>NaN</td>\n",
              "      <td>NaN</td>\n",
              "      <td>NaN</td>\n",
              "      <td>NaN</td>\n",
              "      <td>NaN</td>\n",
              "      <td>...</td>\n",
              "      <td>NaN</td>\n",
              "      <td>NaN</td>\n",
              "      <td>NaN</td>\n",
              "      <td>NaN</td>\n",
              "      <td>NaN</td>\n",
              "      <td>NaN</td>\n",
              "      <td>NaN</td>\n",
              "      <td>NaN</td>\n",
              "      <td>NaN</td>\n",
              "      <td>NaN</td>\n",
              "      <td>NaN</td>\n",
              "      <td>NaN</td>\n",
              "      <td>NaN</td>\n",
              "      <td>NaN</td>\n",
              "      <td>NaN</td>\n",
              "      <td>NaN</td>\n",
              "      <td>NaN</td>\n",
              "      <td>NaN</td>\n",
              "      <td>NaN</td>\n",
              "      <td>NaN</td>\n",
              "      <td>NaN</td>\n",
              "      <td>NaN</td>\n",
              "      <td>NaN</td>\n",
              "      <td>NaN</td>\n",
              "      <td>NaN</td>\n",
              "      <td>NaN</td>\n",
              "      <td>NaN</td>\n",
              "      <td>NaN</td>\n",
              "      <td>NaN</td>\n",
              "      <td>NaN</td>\n",
              "      <td>NaN</td>\n",
              "      <td>NaN</td>\n",
              "      <td>NaN</td>\n",
              "      <td>NaN</td>\n",
              "      <td>NaN</td>\n",
              "      <td>NaN</td>\n",
              "      <td>NaN</td>\n",
              "      <td>NaN</td>\n",
              "      <td>NaN</td>\n",
              "      <td>NaN</td>\n",
              "    </tr>\n",
              "    <tr>\n",
              "      <th>...</th>\n",
              "      <td>...</td>\n",
              "      <td>...</td>\n",
              "      <td>...</td>\n",
              "      <td>...</td>\n",
              "      <td>...</td>\n",
              "      <td>...</td>\n",
              "      <td>...</td>\n",
              "      <td>...</td>\n",
              "      <td>...</td>\n",
              "      <td>...</td>\n",
              "      <td>...</td>\n",
              "      <td>...</td>\n",
              "      <td>...</td>\n",
              "      <td>...</td>\n",
              "      <td>...</td>\n",
              "      <td>...</td>\n",
              "      <td>...</td>\n",
              "      <td>...</td>\n",
              "      <td>...</td>\n",
              "      <td>...</td>\n",
              "      <td>...</td>\n",
              "      <td>...</td>\n",
              "      <td>...</td>\n",
              "      <td>...</td>\n",
              "      <td>...</td>\n",
              "      <td>...</td>\n",
              "      <td>...</td>\n",
              "      <td>...</td>\n",
              "      <td>...</td>\n",
              "      <td>...</td>\n",
              "      <td>...</td>\n",
              "      <td>...</td>\n",
              "      <td>...</td>\n",
              "      <td>...</td>\n",
              "      <td>...</td>\n",
              "      <td>...</td>\n",
              "      <td>...</td>\n",
              "      <td>...</td>\n",
              "      <td>...</td>\n",
              "      <td>...</td>\n",
              "      <td>...</td>\n",
              "      <td>...</td>\n",
              "      <td>...</td>\n",
              "      <td>...</td>\n",
              "      <td>...</td>\n",
              "      <td>...</td>\n",
              "      <td>...</td>\n",
              "      <td>...</td>\n",
              "      <td>...</td>\n",
              "      <td>...</td>\n",
              "      <td>...</td>\n",
              "      <td>...</td>\n",
              "      <td>...</td>\n",
              "      <td>...</td>\n",
              "      <td>...</td>\n",
              "      <td>...</td>\n",
              "      <td>...</td>\n",
              "      <td>...</td>\n",
              "      <td>...</td>\n",
              "      <td>...</td>\n",
              "      <td>...</td>\n",
              "      <td>...</td>\n",
              "      <td>...</td>\n",
              "      <td>...</td>\n",
              "      <td>...</td>\n",
              "      <td>...</td>\n",
              "      <td>...</td>\n",
              "      <td>...</td>\n",
              "      <td>...</td>\n",
              "      <td>...</td>\n",
              "      <td>...</td>\n",
              "      <td>...</td>\n",
              "      <td>...</td>\n",
              "      <td>...</td>\n",
              "      <td>...</td>\n",
              "      <td>...</td>\n",
              "      <td>...</td>\n",
              "      <td>...</td>\n",
              "      <td>...</td>\n",
              "      <td>...</td>\n",
              "      <td>...</td>\n",
              "    </tr>\n",
              "    <tr>\n",
              "      <th>238813</th>\n",
              "      <td>NaN</td>\n",
              "      <td>NaN</td>\n",
              "      <td>NaN</td>\n",
              "      <td>NaN</td>\n",
              "      <td>NaN</td>\n",
              "      <td>NaN</td>\n",
              "      <td>NaN</td>\n",
              "      <td>NaN</td>\n",
              "      <td>NaN</td>\n",
              "      <td>NaN</td>\n",
              "      <td>NaN</td>\n",
              "      <td>NaN</td>\n",
              "      <td>NaN</td>\n",
              "      <td>NaN</td>\n",
              "      <td>NaN</td>\n",
              "      <td>NaN</td>\n",
              "      <td>NaN</td>\n",
              "      <td>NaN</td>\n",
              "      <td>NaN</td>\n",
              "      <td>NaN</td>\n",
              "      <td>NaN</td>\n",
              "      <td>NaN</td>\n",
              "      <td>NaN</td>\n",
              "      <td>NaN</td>\n",
              "      <td>NaN</td>\n",
              "      <td>NaN</td>\n",
              "      <td>NaN</td>\n",
              "      <td>NaN</td>\n",
              "      <td>NaN</td>\n",
              "      <td>NaN</td>\n",
              "      <td>NaN</td>\n",
              "      <td>NaN</td>\n",
              "      <td>NaN</td>\n",
              "      <td>NaN</td>\n",
              "      <td>NaN</td>\n",
              "      <td>NaN</td>\n",
              "      <td>NaN</td>\n",
              "      <td>NaN</td>\n",
              "      <td>NaN</td>\n",
              "      <td>NaN</td>\n",
              "      <td>...</td>\n",
              "      <td>NaN</td>\n",
              "      <td>NaN</td>\n",
              "      <td>NaN</td>\n",
              "      <td>NaN</td>\n",
              "      <td>NaN</td>\n",
              "      <td>NaN</td>\n",
              "      <td>NaN</td>\n",
              "      <td>NaN</td>\n",
              "      <td>NaN</td>\n",
              "      <td>NaN</td>\n",
              "      <td>NaN</td>\n",
              "      <td>NaN</td>\n",
              "      <td>NaN</td>\n",
              "      <td>NaN</td>\n",
              "      <td>NaN</td>\n",
              "      <td>NaN</td>\n",
              "      <td>NaN</td>\n",
              "      <td>NaN</td>\n",
              "      <td>NaN</td>\n",
              "      <td>NaN</td>\n",
              "      <td>NaN</td>\n",
              "      <td>NaN</td>\n",
              "      <td>NaN</td>\n",
              "      <td>NaN</td>\n",
              "      <td>NaN</td>\n",
              "      <td>NaN</td>\n",
              "      <td>NaN</td>\n",
              "      <td>NaN</td>\n",
              "      <td>NaN</td>\n",
              "      <td>NaN</td>\n",
              "      <td>NaN</td>\n",
              "      <td>NaN</td>\n",
              "      <td>NaN</td>\n",
              "      <td>NaN</td>\n",
              "      <td>NaN</td>\n",
              "      <td>NaN</td>\n",
              "      <td>NaN</td>\n",
              "      <td>NaN</td>\n",
              "      <td>NaN</td>\n",
              "      <td>NaN</td>\n",
              "    </tr>\n",
              "    <tr>\n",
              "      <th>243165</th>\n",
              "      <td>NaN</td>\n",
              "      <td>NaN</td>\n",
              "      <td>NaN</td>\n",
              "      <td>NaN</td>\n",
              "      <td>NaN</td>\n",
              "      <td>NaN</td>\n",
              "      <td>NaN</td>\n",
              "      <td>NaN</td>\n",
              "      <td>NaN</td>\n",
              "      <td>NaN</td>\n",
              "      <td>NaN</td>\n",
              "      <td>NaN</td>\n",
              "      <td>NaN</td>\n",
              "      <td>NaN</td>\n",
              "      <td>NaN</td>\n",
              "      <td>NaN</td>\n",
              "      <td>NaN</td>\n",
              "      <td>NaN</td>\n",
              "      <td>NaN</td>\n",
              "      <td>NaN</td>\n",
              "      <td>NaN</td>\n",
              "      <td>NaN</td>\n",
              "      <td>NaN</td>\n",
              "      <td>NaN</td>\n",
              "      <td>NaN</td>\n",
              "      <td>NaN</td>\n",
              "      <td>NaN</td>\n",
              "      <td>NaN</td>\n",
              "      <td>NaN</td>\n",
              "      <td>NaN</td>\n",
              "      <td>NaN</td>\n",
              "      <td>NaN</td>\n",
              "      <td>NaN</td>\n",
              "      <td>NaN</td>\n",
              "      <td>NaN</td>\n",
              "      <td>NaN</td>\n",
              "      <td>NaN</td>\n",
              "      <td>NaN</td>\n",
              "      <td>NaN</td>\n",
              "      <td>NaN</td>\n",
              "      <td>...</td>\n",
              "      <td>NaN</td>\n",
              "      <td>NaN</td>\n",
              "      <td>NaN</td>\n",
              "      <td>NaN</td>\n",
              "      <td>NaN</td>\n",
              "      <td>NaN</td>\n",
              "      <td>NaN</td>\n",
              "      <td>NaN</td>\n",
              "      <td>NaN</td>\n",
              "      <td>NaN</td>\n",
              "      <td>NaN</td>\n",
              "      <td>NaN</td>\n",
              "      <td>NaN</td>\n",
              "      <td>NaN</td>\n",
              "      <td>NaN</td>\n",
              "      <td>NaN</td>\n",
              "      <td>NaN</td>\n",
              "      <td>NaN</td>\n",
              "      <td>NaN</td>\n",
              "      <td>NaN</td>\n",
              "      <td>NaN</td>\n",
              "      <td>NaN</td>\n",
              "      <td>NaN</td>\n",
              "      <td>NaN</td>\n",
              "      <td>NaN</td>\n",
              "      <td>NaN</td>\n",
              "      <td>NaN</td>\n",
              "      <td>NaN</td>\n",
              "      <td>NaN</td>\n",
              "      <td>NaN</td>\n",
              "      <td>NaN</td>\n",
              "      <td>NaN</td>\n",
              "      <td>NaN</td>\n",
              "      <td>NaN</td>\n",
              "      <td>NaN</td>\n",
              "      <td>NaN</td>\n",
              "      <td>NaN</td>\n",
              "      <td>NaN</td>\n",
              "      <td>NaN</td>\n",
              "      <td>NaN</td>\n",
              "    </tr>\n",
              "    <tr>\n",
              "      <th>241638</th>\n",
              "      <td>NaN</td>\n",
              "      <td>NaN</td>\n",
              "      <td>NaN</td>\n",
              "      <td>NaN</td>\n",
              "      <td>NaN</td>\n",
              "      <td>NaN</td>\n",
              "      <td>NaN</td>\n",
              "      <td>NaN</td>\n",
              "      <td>NaN</td>\n",
              "      <td>NaN</td>\n",
              "      <td>NaN</td>\n",
              "      <td>NaN</td>\n",
              "      <td>NaN</td>\n",
              "      <td>NaN</td>\n",
              "      <td>NaN</td>\n",
              "      <td>NaN</td>\n",
              "      <td>NaN</td>\n",
              "      <td>NaN</td>\n",
              "      <td>NaN</td>\n",
              "      <td>NaN</td>\n",
              "      <td>NaN</td>\n",
              "      <td>NaN</td>\n",
              "      <td>NaN</td>\n",
              "      <td>NaN</td>\n",
              "      <td>NaN</td>\n",
              "      <td>NaN</td>\n",
              "      <td>NaN</td>\n",
              "      <td>NaN</td>\n",
              "      <td>NaN</td>\n",
              "      <td>NaN</td>\n",
              "      <td>NaN</td>\n",
              "      <td>NaN</td>\n",
              "      <td>NaN</td>\n",
              "      <td>NaN</td>\n",
              "      <td>NaN</td>\n",
              "      <td>NaN</td>\n",
              "      <td>NaN</td>\n",
              "      <td>NaN</td>\n",
              "      <td>NaN</td>\n",
              "      <td>NaN</td>\n",
              "      <td>...</td>\n",
              "      <td>NaN</td>\n",
              "      <td>NaN</td>\n",
              "      <td>NaN</td>\n",
              "      <td>NaN</td>\n",
              "      <td>NaN</td>\n",
              "      <td>NaN</td>\n",
              "      <td>NaN</td>\n",
              "      <td>NaN</td>\n",
              "      <td>NaN</td>\n",
              "      <td>NaN</td>\n",
              "      <td>NaN</td>\n",
              "      <td>NaN</td>\n",
              "      <td>NaN</td>\n",
              "      <td>NaN</td>\n",
              "      <td>NaN</td>\n",
              "      <td>NaN</td>\n",
              "      <td>NaN</td>\n",
              "      <td>NaN</td>\n",
              "      <td>NaN</td>\n",
              "      <td>NaN</td>\n",
              "      <td>NaN</td>\n",
              "      <td>NaN</td>\n",
              "      <td>NaN</td>\n",
              "      <td>NaN</td>\n",
              "      <td>NaN</td>\n",
              "      <td>NaN</td>\n",
              "      <td>NaN</td>\n",
              "      <td>NaN</td>\n",
              "      <td>NaN</td>\n",
              "      <td>NaN</td>\n",
              "      <td>NaN</td>\n",
              "      <td>NaN</td>\n",
              "      <td>NaN</td>\n",
              "      <td>NaN</td>\n",
              "      <td>NaN</td>\n",
              "      <td>NaN</td>\n",
              "      <td>NaN</td>\n",
              "      <td>NaN</td>\n",
              "      <td>NaN</td>\n",
              "      <td>NaN</td>\n",
              "    </tr>\n",
              "    <tr>\n",
              "      <th>246268</th>\n",
              "      <td>NaN</td>\n",
              "      <td>NaN</td>\n",
              "      <td>NaN</td>\n",
              "      <td>NaN</td>\n",
              "      <td>NaN</td>\n",
              "      <td>NaN</td>\n",
              "      <td>NaN</td>\n",
              "      <td>NaN</td>\n",
              "      <td>NaN</td>\n",
              "      <td>NaN</td>\n",
              "      <td>NaN</td>\n",
              "      <td>NaN</td>\n",
              "      <td>NaN</td>\n",
              "      <td>NaN</td>\n",
              "      <td>NaN</td>\n",
              "      <td>NaN</td>\n",
              "      <td>NaN</td>\n",
              "      <td>NaN</td>\n",
              "      <td>NaN</td>\n",
              "      <td>NaN</td>\n",
              "      <td>NaN</td>\n",
              "      <td>NaN</td>\n",
              "      <td>NaN</td>\n",
              "      <td>NaN</td>\n",
              "      <td>NaN</td>\n",
              "      <td>NaN</td>\n",
              "      <td>NaN</td>\n",
              "      <td>NaN</td>\n",
              "      <td>NaN</td>\n",
              "      <td>NaN</td>\n",
              "      <td>NaN</td>\n",
              "      <td>NaN</td>\n",
              "      <td>NaN</td>\n",
              "      <td>NaN</td>\n",
              "      <td>NaN</td>\n",
              "      <td>NaN</td>\n",
              "      <td>NaN</td>\n",
              "      <td>NaN</td>\n",
              "      <td>NaN</td>\n",
              "      <td>NaN</td>\n",
              "      <td>...</td>\n",
              "      <td>NaN</td>\n",
              "      <td>NaN</td>\n",
              "      <td>NaN</td>\n",
              "      <td>NaN</td>\n",
              "      <td>NaN</td>\n",
              "      <td>NaN</td>\n",
              "      <td>NaN</td>\n",
              "      <td>NaN</td>\n",
              "      <td>NaN</td>\n",
              "      <td>NaN</td>\n",
              "      <td>NaN</td>\n",
              "      <td>NaN</td>\n",
              "      <td>NaN</td>\n",
              "      <td>NaN</td>\n",
              "      <td>NaN</td>\n",
              "      <td>NaN</td>\n",
              "      <td>NaN</td>\n",
              "      <td>NaN</td>\n",
              "      <td>NaN</td>\n",
              "      <td>NaN</td>\n",
              "      <td>NaN</td>\n",
              "      <td>NaN</td>\n",
              "      <td>NaN</td>\n",
              "      <td>NaN</td>\n",
              "      <td>NaN</td>\n",
              "      <td>NaN</td>\n",
              "      <td>NaN</td>\n",
              "      <td>NaN</td>\n",
              "      <td>NaN</td>\n",
              "      <td>NaN</td>\n",
              "      <td>NaN</td>\n",
              "      <td>NaN</td>\n",
              "      <td>NaN</td>\n",
              "      <td>NaN</td>\n",
              "      <td>NaN</td>\n",
              "      <td>NaN</td>\n",
              "      <td>NaN</td>\n",
              "      <td>NaN</td>\n",
              "      <td>NaN</td>\n",
              "      <td>NaN</td>\n",
              "    </tr>\n",
              "    <tr>\n",
              "      <th>246269</th>\n",
              "      <td>NaN</td>\n",
              "      <td>NaN</td>\n",
              "      <td>NaN</td>\n",
              "      <td>NaN</td>\n",
              "      <td>NaN</td>\n",
              "      <td>NaN</td>\n",
              "      <td>NaN</td>\n",
              "      <td>NaN</td>\n",
              "      <td>NaN</td>\n",
              "      <td>NaN</td>\n",
              "      <td>NaN</td>\n",
              "      <td>NaN</td>\n",
              "      <td>NaN</td>\n",
              "      <td>NaN</td>\n",
              "      <td>NaN</td>\n",
              "      <td>NaN</td>\n",
              "      <td>NaN</td>\n",
              "      <td>NaN</td>\n",
              "      <td>NaN</td>\n",
              "      <td>NaN</td>\n",
              "      <td>NaN</td>\n",
              "      <td>NaN</td>\n",
              "      <td>NaN</td>\n",
              "      <td>NaN</td>\n",
              "      <td>NaN</td>\n",
              "      <td>NaN</td>\n",
              "      <td>NaN</td>\n",
              "      <td>NaN</td>\n",
              "      <td>NaN</td>\n",
              "      <td>NaN</td>\n",
              "      <td>NaN</td>\n",
              "      <td>NaN</td>\n",
              "      <td>NaN</td>\n",
              "      <td>NaN</td>\n",
              "      <td>NaN</td>\n",
              "      <td>NaN</td>\n",
              "      <td>NaN</td>\n",
              "      <td>NaN</td>\n",
              "      <td>NaN</td>\n",
              "      <td>NaN</td>\n",
              "      <td>...</td>\n",
              "      <td>NaN</td>\n",
              "      <td>NaN</td>\n",
              "      <td>NaN</td>\n",
              "      <td>NaN</td>\n",
              "      <td>NaN</td>\n",
              "      <td>NaN</td>\n",
              "      <td>NaN</td>\n",
              "      <td>NaN</td>\n",
              "      <td>NaN</td>\n",
              "      <td>NaN</td>\n",
              "      <td>NaN</td>\n",
              "      <td>NaN</td>\n",
              "      <td>NaN</td>\n",
              "      <td>NaN</td>\n",
              "      <td>NaN</td>\n",
              "      <td>NaN</td>\n",
              "      <td>NaN</td>\n",
              "      <td>NaN</td>\n",
              "      <td>NaN</td>\n",
              "      <td>NaN</td>\n",
              "      <td>NaN</td>\n",
              "      <td>NaN</td>\n",
              "      <td>NaN</td>\n",
              "      <td>NaN</td>\n",
              "      <td>NaN</td>\n",
              "      <td>NaN</td>\n",
              "      <td>NaN</td>\n",
              "      <td>NaN</td>\n",
              "      <td>NaN</td>\n",
              "      <td>NaN</td>\n",
              "      <td>NaN</td>\n",
              "      <td>NaN</td>\n",
              "      <td>NaN</td>\n",
              "      <td>NaN</td>\n",
              "      <td>NaN</td>\n",
              "      <td>NaN</td>\n",
              "      <td>NaN</td>\n",
              "      <td>NaN</td>\n",
              "      <td>NaN</td>\n",
              "      <td>NaN</td>\n",
              "    </tr>\n",
              "  </tbody>\n",
              "</table>\n",
              "<p>18207 rows × 81 columns</p>\n",
              "</div>"
            ],
            "text/plain": [
              "       name  age nationality  ...  gkpositioning  gkreflexes release clause\n",
              "ID                            ...                                          \n",
              "158023  NaN  NaN         NaN  ...            NaN         NaN            NaN\n",
              "20801   NaN  NaN         NaN  ...            NaN         NaN            NaN\n",
              "190871  NaN  NaN         NaN  ...            NaN         NaN            NaN\n",
              "193080  NaN  NaN         NaN  ...            NaN         NaN            NaN\n",
              "192985  NaN  NaN         NaN  ...            NaN         NaN            NaN\n",
              "...     ...  ...         ...  ...            ...         ...            ...\n",
              "238813  NaN  NaN         NaN  ...            NaN         NaN            NaN\n",
              "243165  NaN  NaN         NaN  ...            NaN         NaN            NaN\n",
              "241638  NaN  NaN         NaN  ...            NaN         NaN            NaN\n",
              "246268  NaN  NaN         NaN  ...            NaN         NaN            NaN\n",
              "246269  NaN  NaN         NaN  ...            NaN         NaN            NaN\n",
              "\n",
              "[18207 rows x 81 columns]"
            ]
          },
          "metadata": {
            "tags": []
          },
          "execution_count": 213
        }
      ]
    },
    {
      "cell_type": "code",
      "metadata": {
        "id": "__R09KIVLKxm",
        "outputId": "183fd2cc-f555-4da3-ea5c-f84c529e8f01",
        "colab": {
          "base_uri": "https://localhost:8080/",
          "height": 221
        }
      },
      "source": [
        "_213.count()"
      ],
      "execution_count": null,
      "outputs": [
        {
          "output_type": "execute_result",
          "data": {
            "text/plain": [
              "name              0\n",
              "age               0\n",
              "nationality       0\n",
              "overall           0\n",
              "potential         0\n",
              "                 ..\n",
              "gkhandling        0\n",
              "gkkicking         0\n",
              "gkpositioning     0\n",
              "gkreflexes        0\n",
              "release clause    0\n",
              "Length: 81, dtype: int64"
            ]
          },
          "metadata": {
            "tags": []
          },
          "execution_count": 216
        }
      ]
    },
    {
      "cell_type": "code",
      "metadata": {
        "id": "ra_YadlFKwsb"
      },
      "source": [
        ""
      ],
      "execution_count": null,
      "outputs": []
    },
    {
      "cell_type": "code",
      "metadata": {
        "id": "nTwcdcOgKa2E"
      },
      "source": [
        "# 6. Qual a distribuição do número de jogadores por países? Apresente uma tabela com a distribuição.\n",
        "df_fifa.head()"
      ],
      "execution_count": null,
      "outputs": []
    },
    {
      "cell_type": "code",
      "metadata": {
        "id": "9E72M7oBIYdh",
        "outputId": "f88c2712-0b09-4e02-ac92-8980142cbe54",
        "colab": {
          "base_uri": "https://localhost:8080/",
          "height": 238
        }
      },
      "source": [
        "df_fifa.groupby('nationality')['nationality'].count()       # vide abaixo value_counts (tb resulta em uma série) e Counter (resulta em um dicionário)"
      ],
      "execution_count": null,
      "outputs": [
        {
          "output_type": "execute_result",
          "data": {
            "text/plain": [
              "nationality\n",
              "Afghanistan      4\n",
              "Albania         40\n",
              "Algeria         60\n",
              "Andorra          1\n",
              "Angola          15\n",
              "              ... \n",
              "Uzbekistan       2\n",
              "Venezuela       67\n",
              "Wales          129\n",
              "Zambia           9\n",
              "Zimbabwe        13\n",
              "Name: nationality, Length: 164, dtype: int64"
            ]
          },
          "metadata": {
            "tags": []
          },
          "execution_count": 91
        }
      ]
    },
    {
      "cell_type": "code",
      "metadata": {
        "id": "j511B6q-J3ET"
      },
      "source": [
        "type(_121)"
      ],
      "execution_count": null,
      "outputs": []
    },
    {
      "cell_type": "code",
      "metadata": {
        "id": "FrAa4N-_TyGD",
        "outputId": "5f52f52e-9369-4558-fb7c-bbb901558bf6",
        "colab": {
          "base_uri": "https://localhost:8080/",
          "height": 238
        }
      },
      "source": [
        "df_fifa.value_counts(['nationality'])     # igual a: df_Fifa['nationality'].value_counts()"
      ],
      "execution_count": null,
      "outputs": [
        {
          "output_type": "execute_result",
          "data": {
            "text/plain": [
              "nationality\n",
              "England        1662\n",
              "Germany        1198\n",
              "Spain          1072\n",
              "Argentina       937\n",
              "France          914\n",
              "               ... \n",
              "Puerto Rico       1\n",
              "St Lucia          1\n",
              "Qatar             1\n",
              "South Sudan       1\n",
              "Mauritius         1\n",
              "Length: 164, dtype: int64"
            ]
          },
          "metadata": {
            "tags": []
          },
          "execution_count": 92
        }
      ]
    },
    {
      "cell_type": "code",
      "metadata": {
        "id": "216rkPyiLR4Q"
      },
      "source": [
        "type(_6)"
      ],
      "execution_count": null,
      "outputs": []
    },
    {
      "cell_type": "code",
      "metadata": {
        "id": "9-skPGURL5Rh"
      },
      "source": [
        "# Dúvida: como transformar pd series em tabela como feito abaixo com o Counter?\n",
        "\n",
        "# Descobri!!!\n",
        "# pega o index e o values da series e aplica o pd.Dataframe"
      ],
      "execution_count": null,
      "outputs": []
    },
    {
      "cell_type": "code",
      "metadata": {
        "id": "WDV6eN3mVHAq"
      },
      "source": [
        "from collections import Counter\n",
        "d_nationality = Counter(df_fifa['nationality'])     # Counter retorna um dicionário"
      ],
      "execution_count": null,
      "outputs": []
    },
    {
      "cell_type": "code",
      "metadata": {
        "id": "SeoI1y6MdPJo",
        "outputId": "3c8874bb-89e7-4d3c-cadf-905b16de62fc",
        "colab": {
          "base_uri": "https://localhost:8080/",
          "height": 1000
        }
      },
      "source": [
        "d_nationality"
      ],
      "execution_count": null,
      "outputs": [
        {
          "output_type": "execute_result",
          "data": {
            "text/plain": [
              "Counter({'Afghanistan': 4,\n",
              "         'Albania': 40,\n",
              "         'Algeria': 60,\n",
              "         'Andorra': 1,\n",
              "         'Angola': 15,\n",
              "         'Antigua & Barbuda': 4,\n",
              "         'Argentina': 937,\n",
              "         'Armenia': 10,\n",
              "         'Australia': 236,\n",
              "         'Austria': 298,\n",
              "         'Azerbaijan': 5,\n",
              "         'Barbados': 3,\n",
              "         'Belarus': 4,\n",
              "         'Belgium': 260,\n",
              "         'Belize': 1,\n",
              "         'Benin': 15,\n",
              "         'Bermuda': 2,\n",
              "         'Bolivia': 30,\n",
              "         'Bosnia Herzegovina': 61,\n",
              "         'Botswana': 1,\n",
              "         'Brazil': 827,\n",
              "         'Bulgaria': 32,\n",
              "         'Burkina Faso': 16,\n",
              "         'Burundi': 3,\n",
              "         'Cameroon': 90,\n",
              "         'Canada': 64,\n",
              "         'Cape Verde': 19,\n",
              "         'Central African Rep.': 3,\n",
              "         'Chad': 2,\n",
              "         'Chile': 391,\n",
              "         'China PR': 392,\n",
              "         'Colombia': 618,\n",
              "         'Comoros': 6,\n",
              "         'Congo': 25,\n",
              "         'Costa Rica': 30,\n",
              "         'Croatia': 126,\n",
              "         'Cuba': 4,\n",
              "         'Curacao': 14,\n",
              "         'Cyprus': 8,\n",
              "         'Czech Republic': 100,\n",
              "         'DR Congo': 52,\n",
              "         'Denmark': 336,\n",
              "         'Dominican Republic': 2,\n",
              "         'Ecuador': 43,\n",
              "         'Egypt': 31,\n",
              "         'El Salvador': 5,\n",
              "         'England': 1662,\n",
              "         'Equatorial Guinea': 5,\n",
              "         'Eritrea': 2,\n",
              "         'Estonia': 13,\n",
              "         'Ethiopia': 1,\n",
              "         'FYR Macedonia': 20,\n",
              "         'Faroe Islands': 6,\n",
              "         'Fiji': 1,\n",
              "         'Finland': 67,\n",
              "         'France': 914,\n",
              "         'Gabon': 15,\n",
              "         'Gambia': 15,\n",
              "         'Georgia': 26,\n",
              "         'Germany': 1198,\n",
              "         'Ghana': 114,\n",
              "         'Greece': 102,\n",
              "         'Grenada': 1,\n",
              "         'Guam': 1,\n",
              "         'Guatemala': 3,\n",
              "         'Guinea': 31,\n",
              "         'Guinea Bissau': 15,\n",
              "         'Guyana': 3,\n",
              "         'Haiti': 10,\n",
              "         'Honduras': 16,\n",
              "         'Hong Kong': 2,\n",
              "         'Hungary': 38,\n",
              "         'Iceland': 47,\n",
              "         'India': 30,\n",
              "         'Indonesia': 1,\n",
              "         'Iran': 17,\n",
              "         'Iraq': 7,\n",
              "         'Israel': 14,\n",
              "         'Italy': 702,\n",
              "         'Ivory Coast': 100,\n",
              "         'Jamaica': 32,\n",
              "         'Japan': 478,\n",
              "         'Jordan': 1,\n",
              "         'Kazakhstan': 4,\n",
              "         'Kenya': 10,\n",
              "         'Korea DPR': 4,\n",
              "         'Korea Republic': 335,\n",
              "         'Kosovo': 33,\n",
              "         'Kuwait': 1,\n",
              "         'Latvia': 6,\n",
              "         'Lebanon': 1,\n",
              "         'Liberia': 1,\n",
              "         'Libya': 4,\n",
              "         'Liechtenstein': 3,\n",
              "         'Lithuania': 8,\n",
              "         'Luxembourg': 8,\n",
              "         'Madagascar': 12,\n",
              "         'Mali': 43,\n",
              "         'Malta': 1,\n",
              "         'Mauritania': 4,\n",
              "         'Mauritius': 1,\n",
              "         'Mexico': 366,\n",
              "         'Moldova': 5,\n",
              "         'Montenegro': 23,\n",
              "         'Montserrat': 4,\n",
              "         'Morocco': 85,\n",
              "         'Mozambique': 4,\n",
              "         'Namibia': 3,\n",
              "         'Netherlands': 453,\n",
              "         'New Caledonia': 1,\n",
              "         'New Zealand': 44,\n",
              "         'Nicaragua': 2,\n",
              "         'Niger': 3,\n",
              "         'Nigeria': 121,\n",
              "         'Northern Ireland': 80,\n",
              "         'Norway': 341,\n",
              "         'Oman': 1,\n",
              "         'Palestine': 1,\n",
              "         'Panama': 15,\n",
              "         'Paraguay': 85,\n",
              "         'Peru': 37,\n",
              "         'Philippines': 2,\n",
              "         'Poland': 350,\n",
              "         'Portugal': 322,\n",
              "         'Puerto Rico': 1,\n",
              "         'Qatar': 1,\n",
              "         'Republic of Ireland': 368,\n",
              "         'Romania': 54,\n",
              "         'Russia': 79,\n",
              "         'Rwanda': 1,\n",
              "         'Saudi Arabia': 340,\n",
              "         'Scotland': 286,\n",
              "         'Senegal': 130,\n",
              "         'Serbia': 126,\n",
              "         'Sierra Leone': 6,\n",
              "         'Slovakia': 54,\n",
              "         'Slovenia': 55,\n",
              "         'South Africa': 71,\n",
              "         'South Sudan': 1,\n",
              "         'Spain': 1072,\n",
              "         'St Kitts Nevis': 3,\n",
              "         'St Lucia': 1,\n",
              "         'Sudan': 3,\n",
              "         'Suriname': 4,\n",
              "         'Sweden': 397,\n",
              "         'Switzerland': 220,\n",
              "         'Syria': 9,\n",
              "         'São Tomé & Príncipe': 1,\n",
              "         'Tanzania': 3,\n",
              "         'Thailand': 5,\n",
              "         'Togo': 12,\n",
              "         'Trinidad & Tobago': 4,\n",
              "         'Tunisia': 32,\n",
              "         'Turkey': 303,\n",
              "         'Uganda': 6,\n",
              "         'Ukraine': 73,\n",
              "         'United Arab Emirates': 1,\n",
              "         'United States': 353,\n",
              "         'Uruguay': 149,\n",
              "         'Uzbekistan': 2,\n",
              "         'Venezuela': 67,\n",
              "         'Wales': 129,\n",
              "         'Zambia': 9,\n",
              "         'Zimbabwe': 13})"
            ]
          },
          "metadata": {
            "tags": []
          },
          "execution_count": 94
        }
      ]
    },
    {
      "cell_type": "code",
      "metadata": {
        "id": "0W8Ewyg9fj6N"
      },
      "source": [
        "d_nationality.keys()"
      ],
      "execution_count": null,
      "outputs": []
    },
    {
      "cell_type": "code",
      "metadata": {
        "id": "if0qkZPpmwmC"
      },
      "source": [
        "d_nationality.values()"
      ],
      "execution_count": null,
      "outputs": []
    },
    {
      "cell_type": "code",
      "metadata": {
        "id": "y6IGuyPlduLO"
      },
      "source": [
        "df_nationality = pd.DataFrame({'nationality': d_nationality.keys(), 'num_jogadores' : d_nationality.values()})"
      ],
      "execution_count": null,
      "outputs": []
    },
    {
      "cell_type": "code",
      "metadata": {
        "id": "Oc28gJgoj7Bs"
      },
      "source": [
        "df_nationality        # não está em ordem decrescente de qtde de jogadores"
      ],
      "execution_count": null,
      "outputs": []
    },
    {
      "cell_type": "code",
      "metadata": {
        "id": "UYuqdICmkz2M"
      },
      "source": [
        "df_nationality.sort_values(by=['num_jogadores'], ascending= False, inplace= True, ignore_index= True)"
      ],
      "execution_count": null,
      "outputs": []
    },
    {
      "cell_type": "code",
      "metadata": {
        "id": "ZwafI5o2nsnZ",
        "outputId": "7173b460-306b-4c17-f816-ae46db60af86",
        "colab": {
          "base_uri": "https://localhost:8080/",
          "height": 419
        }
      },
      "source": [
        "df_nationality"
      ],
      "execution_count": null,
      "outputs": [
        {
          "output_type": "execute_result",
          "data": {
            "text/html": [
              "<div>\n",
              "<style scoped>\n",
              "    .dataframe tbody tr th:only-of-type {\n",
              "        vertical-align: middle;\n",
              "    }\n",
              "\n",
              "    .dataframe tbody tr th {\n",
              "        vertical-align: top;\n",
              "    }\n",
              "\n",
              "    .dataframe thead th {\n",
              "        text-align: right;\n",
              "    }\n",
              "</style>\n",
              "<table border=\"1\" class=\"dataframe\">\n",
              "  <thead>\n",
              "    <tr style=\"text-align: right;\">\n",
              "      <th></th>\n",
              "      <th>nationality</th>\n",
              "      <th>num_jogadores</th>\n",
              "    </tr>\n",
              "  </thead>\n",
              "  <tbody>\n",
              "    <tr>\n",
              "      <th>0</th>\n",
              "      <td>England</td>\n",
              "      <td>1662</td>\n",
              "    </tr>\n",
              "    <tr>\n",
              "      <th>1</th>\n",
              "      <td>Germany</td>\n",
              "      <td>1198</td>\n",
              "    </tr>\n",
              "    <tr>\n",
              "      <th>2</th>\n",
              "      <td>Spain</td>\n",
              "      <td>1072</td>\n",
              "    </tr>\n",
              "    <tr>\n",
              "      <th>3</th>\n",
              "      <td>Argentina</td>\n",
              "      <td>937</td>\n",
              "    </tr>\n",
              "    <tr>\n",
              "      <th>4</th>\n",
              "      <td>France</td>\n",
              "      <td>914</td>\n",
              "    </tr>\n",
              "    <tr>\n",
              "      <th>...</th>\n",
              "      <td>...</td>\n",
              "      <td>...</td>\n",
              "    </tr>\n",
              "    <tr>\n",
              "      <th>159</th>\n",
              "      <td>New Caledonia</td>\n",
              "      <td>1</td>\n",
              "    </tr>\n",
              "    <tr>\n",
              "      <th>160</th>\n",
              "      <td>Fiji</td>\n",
              "      <td>1</td>\n",
              "    </tr>\n",
              "    <tr>\n",
              "      <th>161</th>\n",
              "      <td>São Tomé &amp; Príncipe</td>\n",
              "      <td>1</td>\n",
              "    </tr>\n",
              "    <tr>\n",
              "      <th>162</th>\n",
              "      <td>United Arab Emirates</td>\n",
              "      <td>1</td>\n",
              "    </tr>\n",
              "    <tr>\n",
              "      <th>163</th>\n",
              "      <td>Botswana</td>\n",
              "      <td>1</td>\n",
              "    </tr>\n",
              "  </tbody>\n",
              "</table>\n",
              "<p>164 rows × 2 columns</p>\n",
              "</div>"
            ],
            "text/plain": [
              "              nationality  num_jogadores\n",
              "0                 England           1662\n",
              "1                 Germany           1198\n",
              "2                   Spain           1072\n",
              "3               Argentina            937\n",
              "4                  France            914\n",
              "..                    ...            ...\n",
              "159         New Caledonia              1\n",
              "160                  Fiji              1\n",
              "161   São Tomé & Príncipe              1\n",
              "162  United Arab Emirates              1\n",
              "163              Botswana              1\n",
              "\n",
              "[164 rows x 2 columns]"
            ]
          },
          "metadata": {
            "tags": []
          },
          "execution_count": 97
        }
      ]
    },
    {
      "cell_type": "code",
      "metadata": {
        "id": "VkFRH8uhrBoc"
      },
      "source": [
        "# 7. Qual a média de idade dos jogadores por países (variável/atributo 'Nacionality')\n",
        "# Resolução de 2 jeitos"
      ],
      "execution_count": null,
      "outputs": []
    },
    {
      "cell_type": "code",
      "metadata": {
        "id": "nVBHHPxy2GjT"
      },
      "source": [
        "df_nat_age = df_fifa[['nationality','age']]"
      ],
      "execution_count": null,
      "outputs": []
    },
    {
      "cell_type": "code",
      "metadata": {
        "id": "C3eh0cks6Zrf"
      },
      "source": [
        "df_nat_age"
      ],
      "execution_count": null,
      "outputs": []
    },
    {
      "cell_type": "code",
      "metadata": {
        "id": "B1gm8YQr6hFE"
      },
      "source": [
        "df_nat_age.shape[0]"
      ],
      "execution_count": null,
      "outputs": []
    },
    {
      "cell_type": "code",
      "metadata": {
        "id": "vUcRBDAV-wQF"
      },
      "source": [
        "df_nationality.shape[0]"
      ],
      "execution_count": null,
      "outputs": []
    },
    {
      "cell_type": "code",
      "metadata": {
        "id": "wzhnx4PA-zxu"
      },
      "source": [
        "df_nat_md_age = pd.DataFrame({'nationality': d_nationality.keys(), 'num_jogadores' : d_nationality.values(), 'soma_idades': 0})"
      ],
      "execution_count": null,
      "outputs": []
    },
    {
      "cell_type": "code",
      "metadata": {
        "id": "aOqO20TSCk6L"
      },
      "source": [
        "df_nat_md_age.sort_values(by=['num_jogadores'], ascending= False, inplace= True, ignore_index= True)"
      ],
      "execution_count": null,
      "outputs": []
    },
    {
      "cell_type": "code",
      "metadata": {
        "id": "cZbbpDQeo4uF"
      },
      "source": [
        "\n",
        "# Calculando a média de idade dos jogadores por país \"na unha\" (sem usar 'groupby'):\n",
        "\n",
        "# df_nat_age.shape[0]       # 18207\n",
        "# df_nationality2.shape[0]   # 164\n",
        "\n",
        "df_nationality2 = pd.DataFrame({'nationality': d_nationality.keys(), 'num_jogadores' : d_nationality.values(), 'soma_idades': 0})\n",
        "linha_1 = 0\n",
        "while linha_1 < df_nationality2.shape[0]: # 164\n",
        "  soma_age = 0\n",
        "  linha_2 = 0\n",
        "  while linha_2 < df_nat_age.shape[0]:  # 18207\n",
        "    if df_nat_age.iat[linha_2,0] == df_nationality2.iat[linha_1,0]:\n",
        "      soma_age = soma_age + df_nat_age.iat[linha_2,1]\n",
        "    linha_2 = linha_2 + 1\n",
        "  df_nationality2.iat[linha_1,2] = soma_age \n",
        "linha_1 = linha_1 + 1\n",
        "  "
      ],
      "execution_count": null,
      "outputs": []
    },
    {
      "cell_type": "code",
      "metadata": {
        "id": "RHAcpktpR84g"
      },
      "source": [
        "df_nationality2"
      ],
      "execution_count": null,
      "outputs": []
    },
    {
      "cell_type": "code",
      "metadata": {
        "id": "x6NsWFKEpWz9"
      },
      "source": [
        "df_nationality2['media_idade_nationality'] = round(df_nationality2['soma_idades'] / df_nationality2['num_jogadores'], 2)"
      ],
      "execution_count": null,
      "outputs": []
    },
    {
      "cell_type": "code",
      "metadata": {
        "id": "JlGeMditwXRg"
      },
      "source": [
        "df_nationality2"
      ],
      "execution_count": null,
      "outputs": []
    },
    {
      "cell_type": "code",
      "metadata": {
        "id": "19NRDAXqqWRI"
      },
      "source": [
        "df_nationality2.sort_values(by=['num_jogadores'], ascending= False, inplace= True, ignore_index= True)"
      ],
      "execution_count": null,
      "outputs": []
    },
    {
      "cell_type": "code",
      "metadata": {
        "id": "Gk5ksFBjqfkc"
      },
      "source": [
        "df_nationality2"
      ],
      "execution_count": null,
      "outputs": []
    },
    {
      "cell_type": "code",
      "metadata": {
        "id": "64uiYe9ANsBD"
      },
      "source": [
        "# Calculando o mesmo exercício 9\n",
        "# 8. média de idade dos jogadores por país, mas usando o groupby\n",
        "nat_age_soma = df_fifa.groupby('nationality')['age'].sum()"
      ],
      "execution_count": null,
      "outputs": []
    },
    {
      "cell_type": "code",
      "metadata": {
        "id": "TtEIveA7RRX3",
        "outputId": "4fa6a978-2f69-4c1b-f181-07af4015a764",
        "colab": {
          "base_uri": "https://localhost:8080/",
          "height": 119
        }
      },
      "source": [
        "nat_age_soma.index"
      ],
      "execution_count": null,
      "outputs": [
        {
          "output_type": "execute_result",
          "data": {
            "text/plain": [
              "Index(['Afghanistan', 'Albania', 'Algeria', 'Andorra', 'Angola',\n",
              "       'Antigua & Barbuda', 'Argentina', 'Armenia', 'Australia', 'Austria',\n",
              "       ...\n",
              "       'Uganda', 'Ukraine', 'United Arab Emirates', 'United States', 'Uruguay',\n",
              "       'Uzbekistan', 'Venezuela', 'Wales', 'Zambia', 'Zimbabwe'],\n",
              "      dtype='object', name='nationality', length=164)"
            ]
          },
          "metadata": {
            "tags": []
          },
          "execution_count": 103
        }
      ]
    },
    {
      "cell_type": "code",
      "metadata": {
        "id": "QyxPziXWRnu_",
        "outputId": "c2053f86-94d8-4f21-a303-5a9fc2332ced",
        "colab": {
          "base_uri": "https://localhost:8080/",
          "height": 340
        }
      },
      "source": [
        "nat_age_soma.values"
      ],
      "execution_count": null,
      "outputs": [
        {
          "output_type": "execute_result",
          "data": {
            "text/plain": [
              "array([   90,   961,  1623,    28,   388,    91, 24555,   268,  5760,\n",
              "        7347,   130,    83,   115,  6327,    25,   391,    55,   766,\n",
              "        1586,    20, 22846,   859,   402,    70,  2210,  1552,   521,\n",
              "          77,    45,  9804, 10225, 15599,   159,   599,   792,  3135,\n",
              "          95,   355,   192,  2676,  1339,  8113,    46,  1082,   836,\n",
              "         131, 39938,   127,    54,   353,    32,   502,   145,    30,\n",
              "        1659, 22499,   391,   348,   625, 29157,  2697,  2497,    25,\n",
              "          30,    80,   765,   347,    82,   239,   429,    56,   970,\n",
              "        1216,   748,    17,   429,   176,   395, 18202,  2518,   900,\n",
              "       12504,    23,   105,   248,   114,  8828,   774,    31,   174,\n",
              "          29,    25,   100,    76,   199,   186,   330,  1064,    25,\n",
              "          92,    26,  8901,   118,   575,   102,  2201,   104,    74,\n",
              "       10872,    30,  1067,    58,    74,  2791,  1995,  8202,    36,\n",
              "          31,   396,  2218,   957,    47,  8596,  8295,    34,    24,\n",
              "        9078,  1372,  1972,    21,  8350,  7131,  3297,  3231,   149,\n",
              "        1419,  1456,  1876,    25, 27149,    79,    24,    79,   101,\n",
              "        9861,  5421,   234,    31,    66,   125,   339,   127,   847,\n",
              "        7488,   143,  1835,    26,  8857,  3965,    59,  1629,  3191,\n",
              "         200,   349])"
            ]
          },
          "metadata": {
            "tags": []
          },
          "execution_count": 104
        }
      ]
    },
    {
      "cell_type": "code",
      "metadata": {
        "id": "PZfsrbGsSVrX"
      },
      "source": [
        "nat_nat_numjog = df_fifa.groupby('nationality')['nationality'].count()"
      ],
      "execution_count": null,
      "outputs": []
    },
    {
      "cell_type": "code",
      "metadata": {
        "id": "CzNcWpr6SgFw",
        "outputId": "54237193-b82c-4e47-bf3a-a1f99c4fb8f1",
        "colab": {
          "base_uri": "https://localhost:8080/",
          "height": 119
        }
      },
      "source": [
        "nat_nat_numjog.index"
      ],
      "execution_count": null,
      "outputs": [
        {
          "output_type": "execute_result",
          "data": {
            "text/plain": [
              "Index(['Afghanistan', 'Albania', 'Algeria', 'Andorra', 'Angola',\n",
              "       'Antigua & Barbuda', 'Argentina', 'Armenia', 'Australia', 'Austria',\n",
              "       ...\n",
              "       'Uganda', 'Ukraine', 'United Arab Emirates', 'United States', 'Uruguay',\n",
              "       'Uzbekistan', 'Venezuela', 'Wales', 'Zambia', 'Zimbabwe'],\n",
              "      dtype='object', name='nationality', length=164)"
            ]
          },
          "metadata": {
            "tags": []
          },
          "execution_count": 106
        }
      ]
    },
    {
      "cell_type": "code",
      "metadata": {
        "id": "KFtZT5L7SpCf",
        "outputId": "ba27b241-97d6-497c-f317-ca22baa2784b",
        "colab": {
          "base_uri": "https://localhost:8080/",
          "height": 272
        }
      },
      "source": [
        "nat_nat_numjog.values"
      ],
      "execution_count": null,
      "outputs": [
        {
          "output_type": "execute_result",
          "data": {
            "text/plain": [
              "array([   4,   40,   60,    1,   15,    4,  937,   10,  236,  298,    5,\n",
              "          3,    4,  260,    1,   15,    2,   30,   61,    1,  827,   32,\n",
              "         16,    3,   90,   64,   19,    3,    2,  391,  392,  618,    6,\n",
              "         25,   30,  126,    4,   14,    8,  100,   52,  336,    2,   43,\n",
              "         31,    5, 1662,    5,    2,   13,    1,   20,    6,    1,   67,\n",
              "        914,   15,   15,   26, 1198,  114,  102,    1,    1,    3,   31,\n",
              "         15,    3,   10,   16,    2,   38,   47,   30,    1,   17,    7,\n",
              "         14,  702,  100,   32,  478,    1,    4,   10,    4,  335,   33,\n",
              "          1,    6,    1,    1,    4,    3,    8,    8,   12,   43,    1,\n",
              "          4,    1,  366,    5,   23,    4,   85,    4,    3,  453,    1,\n",
              "         44,    2,    3,  121,   80,  341,    1,    1,   15,   85,   37,\n",
              "          2,  350,  322,    1,    1,  368,   54,   79,    1,  340,  286,\n",
              "        130,  126,    6,   54,   55,   71,    1, 1072,    3,    1,    3,\n",
              "          4,  397,  220,    9,    1,    3,    5,   12,    4,   32,  303,\n",
              "          6,   73,    1,  353,  149,    2,   67,  129,    9,   13])"
            ]
          },
          "metadata": {
            "tags": []
          },
          "execution_count": 107
        }
      ]
    },
    {
      "cell_type": "code",
      "metadata": {
        "id": "u78L80wFSsrj"
      },
      "source": [
        "nat_numjog_somaidade = pd.DataFrame({'nationality': nat_nat_numjog.index, 'num_jogadores': nat_nat_numjog.values, 'soma_idades': nat_age_soma.values})"
      ],
      "execution_count": null,
      "outputs": []
    },
    {
      "cell_type": "code",
      "metadata": {
        "id": "McMnNOYaUFnO",
        "outputId": "fa476078-6fa5-4a45-d771-e926b0de6ed0",
        "colab": {
          "base_uri": "https://localhost:8080/",
          "height": 419
        }
      },
      "source": [
        "nat_numjog_somaidade"
      ],
      "execution_count": null,
      "outputs": [
        {
          "output_type": "execute_result",
          "data": {
            "text/html": [
              "<div>\n",
              "<style scoped>\n",
              "    .dataframe tbody tr th:only-of-type {\n",
              "        vertical-align: middle;\n",
              "    }\n",
              "\n",
              "    .dataframe tbody tr th {\n",
              "        vertical-align: top;\n",
              "    }\n",
              "\n",
              "    .dataframe thead th {\n",
              "        text-align: right;\n",
              "    }\n",
              "</style>\n",
              "<table border=\"1\" class=\"dataframe\">\n",
              "  <thead>\n",
              "    <tr style=\"text-align: right;\">\n",
              "      <th></th>\n",
              "      <th>nationality</th>\n",
              "      <th>num_jogadores</th>\n",
              "      <th>soma_idades</th>\n",
              "    </tr>\n",
              "  </thead>\n",
              "  <tbody>\n",
              "    <tr>\n",
              "      <th>0</th>\n",
              "      <td>Afghanistan</td>\n",
              "      <td>4</td>\n",
              "      <td>90</td>\n",
              "    </tr>\n",
              "    <tr>\n",
              "      <th>1</th>\n",
              "      <td>Albania</td>\n",
              "      <td>40</td>\n",
              "      <td>961</td>\n",
              "    </tr>\n",
              "    <tr>\n",
              "      <th>2</th>\n",
              "      <td>Algeria</td>\n",
              "      <td>60</td>\n",
              "      <td>1623</td>\n",
              "    </tr>\n",
              "    <tr>\n",
              "      <th>3</th>\n",
              "      <td>Andorra</td>\n",
              "      <td>1</td>\n",
              "      <td>28</td>\n",
              "    </tr>\n",
              "    <tr>\n",
              "      <th>4</th>\n",
              "      <td>Angola</td>\n",
              "      <td>15</td>\n",
              "      <td>388</td>\n",
              "    </tr>\n",
              "    <tr>\n",
              "      <th>...</th>\n",
              "      <td>...</td>\n",
              "      <td>...</td>\n",
              "      <td>...</td>\n",
              "    </tr>\n",
              "    <tr>\n",
              "      <th>159</th>\n",
              "      <td>Uzbekistan</td>\n",
              "      <td>2</td>\n",
              "      <td>59</td>\n",
              "    </tr>\n",
              "    <tr>\n",
              "      <th>160</th>\n",
              "      <td>Venezuela</td>\n",
              "      <td>67</td>\n",
              "      <td>1629</td>\n",
              "    </tr>\n",
              "    <tr>\n",
              "      <th>161</th>\n",
              "      <td>Wales</td>\n",
              "      <td>129</td>\n",
              "      <td>3191</td>\n",
              "    </tr>\n",
              "    <tr>\n",
              "      <th>162</th>\n",
              "      <td>Zambia</td>\n",
              "      <td>9</td>\n",
              "      <td>200</td>\n",
              "    </tr>\n",
              "    <tr>\n",
              "      <th>163</th>\n",
              "      <td>Zimbabwe</td>\n",
              "      <td>13</td>\n",
              "      <td>349</td>\n",
              "    </tr>\n",
              "  </tbody>\n",
              "</table>\n",
              "<p>164 rows × 3 columns</p>\n",
              "</div>"
            ],
            "text/plain": [
              "     nationality  num_jogadores  soma_idades\n",
              "0    Afghanistan              4           90\n",
              "1        Albania             40          961\n",
              "2        Algeria             60         1623\n",
              "3        Andorra              1           28\n",
              "4         Angola             15          388\n",
              "..           ...            ...          ...\n",
              "159   Uzbekistan              2           59\n",
              "160    Venezuela             67         1629\n",
              "161        Wales            129         3191\n",
              "162       Zambia              9          200\n",
              "163     Zimbabwe             13          349\n",
              "\n",
              "[164 rows x 3 columns]"
            ]
          },
          "metadata": {
            "tags": []
          },
          "execution_count": 109
        }
      ]
    },
    {
      "cell_type": "code",
      "metadata": {
        "id": "cYpxAbE_UIbv"
      },
      "source": [
        "nat_numjog_somaidade['media_idade_nationality'] = round(nat_numjog_somaidade['soma_idades'] / nat_numjog_somaidade['num_jogadores'],2)"
      ],
      "execution_count": null,
      "outputs": []
    },
    {
      "cell_type": "code",
      "metadata": {
        "id": "td8jz5_BUca_",
        "outputId": "39c33a72-759f-4142-aa07-875de12ff313",
        "colab": {
          "base_uri": "https://localhost:8080/",
          "height": 419
        }
      },
      "source": [
        "nat_numjog_somaidade.sort_values(by='num_jogadores', ascending=False)     # Resposta item 8."
      ],
      "execution_count": null,
      "outputs": [
        {
          "output_type": "execute_result",
          "data": {
            "text/html": [
              "<div>\n",
              "<style scoped>\n",
              "    .dataframe tbody tr th:only-of-type {\n",
              "        vertical-align: middle;\n",
              "    }\n",
              "\n",
              "    .dataframe tbody tr th {\n",
              "        vertical-align: top;\n",
              "    }\n",
              "\n",
              "    .dataframe thead th {\n",
              "        text-align: right;\n",
              "    }\n",
              "</style>\n",
              "<table border=\"1\" class=\"dataframe\">\n",
              "  <thead>\n",
              "    <tr style=\"text-align: right;\">\n",
              "      <th></th>\n",
              "      <th>nationality</th>\n",
              "      <th>num_jogadores</th>\n",
              "      <th>soma_idades</th>\n",
              "      <th>media_idade_nationality</th>\n",
              "    </tr>\n",
              "  </thead>\n",
              "  <tbody>\n",
              "    <tr>\n",
              "      <th>46</th>\n",
              "      <td>England</td>\n",
              "      <td>1662</td>\n",
              "      <td>39938</td>\n",
              "      <td>24.03</td>\n",
              "    </tr>\n",
              "    <tr>\n",
              "      <th>59</th>\n",
              "      <td>Germany</td>\n",
              "      <td>1198</td>\n",
              "      <td>29157</td>\n",
              "      <td>24.34</td>\n",
              "    </tr>\n",
              "    <tr>\n",
              "      <th>139</th>\n",
              "      <td>Spain</td>\n",
              "      <td>1072</td>\n",
              "      <td>27149</td>\n",
              "      <td>25.33</td>\n",
              "    </tr>\n",
              "    <tr>\n",
              "      <th>6</th>\n",
              "      <td>Argentina</td>\n",
              "      <td>937</td>\n",
              "      <td>24555</td>\n",
              "      <td>26.21</td>\n",
              "    </tr>\n",
              "    <tr>\n",
              "      <th>55</th>\n",
              "      <td>France</td>\n",
              "      <td>914</td>\n",
              "      <td>22499</td>\n",
              "      <td>24.62</td>\n",
              "    </tr>\n",
              "    <tr>\n",
              "      <th>...</th>\n",
              "      <td>...</td>\n",
              "      <td>...</td>\n",
              "      <td>...</td>\n",
              "      <td>...</td>\n",
              "    </tr>\n",
              "    <tr>\n",
              "      <th>74</th>\n",
              "      <td>Indonesia</td>\n",
              "      <td>1</td>\n",
              "      <td>17</td>\n",
              "      <td>17.00</td>\n",
              "    </tr>\n",
              "    <tr>\n",
              "      <th>63</th>\n",
              "      <td>Guam</td>\n",
              "      <td>1</td>\n",
              "      <td>30</td>\n",
              "      <td>30.00</td>\n",
              "    </tr>\n",
              "    <tr>\n",
              "      <th>141</th>\n",
              "      <td>St Lucia</td>\n",
              "      <td>1</td>\n",
              "      <td>24</td>\n",
              "      <td>24.00</td>\n",
              "    </tr>\n",
              "    <tr>\n",
              "      <th>62</th>\n",
              "      <td>Grenada</td>\n",
              "      <td>1</td>\n",
              "      <td>25</td>\n",
              "      <td>25.00</td>\n",
              "    </tr>\n",
              "    <tr>\n",
              "      <th>82</th>\n",
              "      <td>Jordan</td>\n",
              "      <td>1</td>\n",
              "      <td>23</td>\n",
              "      <td>23.00</td>\n",
              "    </tr>\n",
              "  </tbody>\n",
              "</table>\n",
              "<p>164 rows × 4 columns</p>\n",
              "</div>"
            ],
            "text/plain": [
              "    nationality  num_jogadores  soma_idades  media_idade_nationality\n",
              "46      England           1662        39938                    24.03\n",
              "59      Germany           1198        29157                    24.34\n",
              "139       Spain           1072        27149                    25.33\n",
              "6     Argentina            937        24555                    26.21\n",
              "55       France            914        22499                    24.62\n",
              "..          ...            ...          ...                      ...\n",
              "74    Indonesia              1           17                    17.00\n",
              "63         Guam              1           30                    30.00\n",
              "141    St Lucia              1           24                    24.00\n",
              "62      Grenada              1           25                    25.00\n",
              "82       Jordan              1           23                    23.00\n",
              "\n",
              "[164 rows x 4 columns]"
            ]
          },
          "metadata": {
            "tags": []
          },
          "execution_count": 114
        }
      ]
    },
    {
      "cell_type": "code",
      "metadata": {
        "id": "K-RD66KyUrnT"
      },
      "source": [
        ""
      ],
      "execution_count": null,
      "outputs": []
    },
    {
      "cell_type": "code",
      "metadata": {
        "id": "pG-RXABiN0aI"
      },
      "source": [
        "# df_fifa.groupby('nationality')['nationality'].count()\n",
        "# nationality\n",
        "# Afghanistan      4\n",
        "\n",
        "# df_fifa.groupby('nationality')['age'].sum()\n",
        "# nationality\n",
        "# Afghanistan      90\n",
        "\n",
        "\n"
      ],
      "execution_count": null,
      "outputs": []
    },
    {
      "cell_type": "code",
      "metadata": {
        "id": "nqbLVcPfQTQe"
      },
      "source": [
        "# 9. Qual o número de jogadores por idade?\n",
        "\n",
        "df_fifa.groupby('age')['age'].count()"
      ],
      "execution_count": null,
      "outputs": []
    },
    {
      "cell_type": "code",
      "metadata": {
        "id": "c8-ONyOxU4UV"
      },
      "source": [
        "# Resposta item 9) número de jogadores por idade\n",
        "df_numjog_idade = pd.DataFrame({'idade':(df_fifa.groupby('age')['age'].count()).index, 'num_jogadores':(df_fifa.groupby('age')['age'].count()).values})\n",
        "df_numjog_idade"
      ],
      "execution_count": null,
      "outputs": []
    },
    {
      "cell_type": "code",
      "metadata": {
        "id": "OwXRIcPLVw0I"
      },
      "source": [
        "# 10. Quantos jogadores possuem cada clube?\n",
        "\n",
        "df_fifa.head(1)"
      ],
      "execution_count": null,
      "outputs": []
    },
    {
      "cell_type": "code",
      "metadata": {
        "id": "tKHVnVzMWcnn"
      },
      "source": [
        "df_fifa['club']"
      ],
      "execution_count": null,
      "outputs": []
    },
    {
      "cell_type": "code",
      "metadata": {
        "id": "4Db-h1YwW8WU"
      },
      "source": [
        "_160.unique()"
      ],
      "execution_count": null,
      "outputs": []
    },
    {
      "cell_type": "code",
      "metadata": {
        "id": "Z_M6KFnnXEiy"
      },
      "source": [
        "_162.size"
      ],
      "execution_count": null,
      "outputs": []
    },
    {
      "cell_type": "code",
      "metadata": {
        "id": "E-2L_RgNWIKs",
        "outputId": "9c56c868-36f6-400a-aed3-1384d16fc300",
        "colab": {
          "base_uri": "https://localhost:8080/",
          "height": 238
        }
      },
      "source": [
        "df_fifa.groupby('club')['club'].count()     # retorna valores 'not NaN' => 651 ( com 'NaN', resultado retorna 652, vide abaixo)"
      ],
      "execution_count": null,
      "outputs": [
        {
          "output_type": "execute_result",
          "data": {
            "text/plain": [
              "club\n",
              " SSV Jahn Regensburg     29\n",
              "1. FC Heidenheim 1846    28\n",
              "1. FC Kaiserslautern     26\n",
              "1. FC Köln               28\n",
              "1. FC Magdeburg          26\n",
              "                         ..\n",
              "Zagłębie Sosnowiec       25\n",
              "Çaykur Rizespor          30\n",
              "Örebro SK                27\n",
              "Östersunds FK            22\n",
              "Śląsk Wrocław            25\n",
              "Name: club, Length: 651, dtype: int64"
            ]
          },
          "metadata": {
            "tags": []
          },
          "execution_count": 117
        }
      ]
    },
    {
      "cell_type": "code",
      "metadata": {
        "id": "nESB8znYYnps"
      },
      "source": [
        "_172.index"
      ],
      "execution_count": null,
      "outputs": []
    },
    {
      "cell_type": "code",
      "metadata": {
        "id": "ReMu0I2vYrXN"
      },
      "source": [
        "_173.unique()"
      ],
      "execution_count": null,
      "outputs": []
    },
    {
      "cell_type": "code",
      "metadata": {
        "id": "Ne8j9RNbWA5J"
      },
      "source": [
        "_158.size"
      ],
      "execution_count": null,
      "outputs": []
    },
    {
      "cell_type": "code",
      "metadata": {
        "id": "SMkZhJuEZBgn"
      },
      "source": [
        "l1 = pd.Series((df_fifa.groupby('club')['club'].count()).index)"
      ],
      "execution_count": null,
      "outputs": []
    },
    {
      "cell_type": "code",
      "metadata": {
        "id": "ZFuJJ7TYY8Au"
      },
      "source": [
        "l2 = pd.Series((df_fifa['club'].unique()))      # retorna inclusive valores NaN => 652"
      ],
      "execution_count": null,
      "outputs": []
    },
    {
      "cell_type": "code",
      "metadata": {
        "id": "RLmKasU-YJqK"
      },
      "source": [
        "l1"
      ],
      "execution_count": null,
      "outputs": []
    },
    {
      "cell_type": "code",
      "metadata": {
        "id": "orT9Q65XYBPq"
      },
      "source": [
        "l2"
      ],
      "execution_count": null,
      "outputs": []
    },
    {
      "cell_type": "code",
      "metadata": {
        "id": "uH4XJ5Z8eddD",
        "outputId": "0f665d97-6d07-4381-b687-6e3143fffdc0",
        "colab": {
          "base_uri": "https://localhost:8080/",
          "height": 34
        }
      },
      "source": [
        "(df_fifa['club'].unique()).size"
      ],
      "execution_count": null,
      "outputs": [
        {
          "output_type": "execute_result",
          "data": {
            "text/plain": [
              "652"
            ]
          },
          "metadata": {
            "tags": []
          },
          "execution_count": 120
        }
      ]
    },
    {
      "cell_type": "code",
      "metadata": {
        "id": "fAdkbo3Xv43l"
      },
      "source": [
        "l2[l2.isnull()]"
      ],
      "execution_count": null,
      "outputs": []
    },
    {
      "cell_type": "code",
      "metadata": {
        "id": "t5xzUbV_wPgh"
      },
      "source": [
        "l2[85]"
      ],
      "execution_count": null,
      "outputs": []
    },
    {
      "cell_type": "code",
      "metadata": {
        "id": "E8WNceE4hcAG"
      },
      "source": [
        "# Resposta do Exercício 9.10)\n",
        "# 10. Quantos jogadores possuem cada clube? São 651 clubes com 17966 jogadores (241 estão sem clube)\n",
        "df_club_numjog = pd.DataFrame({'club': (df_fifa.groupby('club')['club'].count()).index, 'num_jogadores': (df_Fifa.groupby('club')['club'].count()).values})"
      ],
      "execution_count": null,
      "outputs": []
    },
    {
      "cell_type": "code",
      "metadata": {
        "id": "V5WTR8IMkXZQ",
        "outputId": "db6fa909-32a8-4aa8-e3f1-e609a88cf54b",
        "colab": {
          "base_uri": "https://localhost:8080/",
          "height": 419
        }
      },
      "source": [
        "df_club_numjog"
      ],
      "execution_count": null,
      "outputs": [
        {
          "output_type": "execute_result",
          "data": {
            "text/html": [
              "<div>\n",
              "<style scoped>\n",
              "    .dataframe tbody tr th:only-of-type {\n",
              "        vertical-align: middle;\n",
              "    }\n",
              "\n",
              "    .dataframe tbody tr th {\n",
              "        vertical-align: top;\n",
              "    }\n",
              "\n",
              "    .dataframe thead th {\n",
              "        text-align: right;\n",
              "    }\n",
              "</style>\n",
              "<table border=\"1\" class=\"dataframe\">\n",
              "  <thead>\n",
              "    <tr style=\"text-align: right;\">\n",
              "      <th></th>\n",
              "      <th>club</th>\n",
              "      <th>num_jogadores</th>\n",
              "    </tr>\n",
              "  </thead>\n",
              "  <tbody>\n",
              "    <tr>\n",
              "      <th>0</th>\n",
              "      <td>Borussia Dortmund</td>\n",
              "      <td>33</td>\n",
              "    </tr>\n",
              "    <tr>\n",
              "      <th>1</th>\n",
              "      <td>Eintracht Frankfurt</td>\n",
              "      <td>33</td>\n",
              "    </tr>\n",
              "    <tr>\n",
              "      <th>2</th>\n",
              "      <td>Tottenham Hotspur</td>\n",
              "      <td>33</td>\n",
              "    </tr>\n",
              "    <tr>\n",
              "      <th>3</th>\n",
              "      <td>Liverpool</td>\n",
              "      <td>33</td>\n",
              "    </tr>\n",
              "    <tr>\n",
              "      <th>4</th>\n",
              "      <td>TSG 1899 Hoffenheim</td>\n",
              "      <td>33</td>\n",
              "    </tr>\n",
              "    <tr>\n",
              "      <th>...</th>\n",
              "      <td>...</td>\n",
              "      <td>...</td>\n",
              "    </tr>\n",
              "    <tr>\n",
              "      <th>646</th>\n",
              "      <td>Grêmio</td>\n",
              "      <td>20</td>\n",
              "    </tr>\n",
              "    <tr>\n",
              "      <th>647</th>\n",
              "      <td>Sport Club do Recife</td>\n",
              "      <td>20</td>\n",
              "    </tr>\n",
              "    <tr>\n",
              "      <th>648</th>\n",
              "      <td>Limerick FC</td>\n",
              "      <td>19</td>\n",
              "    </tr>\n",
              "    <tr>\n",
              "      <th>649</th>\n",
              "      <td>Sligo Rovers</td>\n",
              "      <td>19</td>\n",
              "    </tr>\n",
              "    <tr>\n",
              "      <th>650</th>\n",
              "      <td>Derry City</td>\n",
              "      <td>18</td>\n",
              "    </tr>\n",
              "  </tbody>\n",
              "</table>\n",
              "<p>651 rows × 2 columns</p>\n",
              "</div>"
            ],
            "text/plain": [
              "                     club  num_jogadores\n",
              "0       Borussia Dortmund             33\n",
              "1     Eintracht Frankfurt             33\n",
              "2       Tottenham Hotspur             33\n",
              "3               Liverpool             33\n",
              "4     TSG 1899 Hoffenheim             33\n",
              "..                    ...            ...\n",
              "646                Grêmio             20\n",
              "647  Sport Club do Recife             20\n",
              "648           Limerick FC             19\n",
              "649          Sligo Rovers             19\n",
              "650            Derry City             18\n",
              "\n",
              "[651 rows x 2 columns]"
            ]
          },
          "metadata": {
            "tags": []
          },
          "execution_count": 126
        }
      ]
    },
    {
      "cell_type": "code",
      "metadata": {
        "id": "CV7yI3HXklTr",
        "outputId": "21eec154-4b2d-4524-9273-6666f38d90d8",
        "colab": {
          "base_uri": "https://localhost:8080/",
          "height": 34
        }
      },
      "source": [
        "df_club_numjog['num_jogadores'].sum()     \n",
        "# 18207 => qtde de jogadores\n",
        "# 17966 => qtde de jogadores com 'club' not NaN\n",
        "# 18207 - 17966 = 241 => qtde de jogadores com 'club' NaN"
      ],
      "execution_count": null,
      "outputs": [
        {
          "output_type": "execute_result",
          "data": {
            "text/plain": [
              "17966"
            ]
          },
          "metadata": {
            "tags": []
          },
          "execution_count": 124
        }
      ]
    },
    {
      "cell_type": "code",
      "metadata": {
        "id": "bj6drr4dblcH",
        "outputId": "93907c92-62ec-45a2-ee92-cde3aa711b86",
        "colab": {
          "base_uri": "https://localhost:8080/",
          "height": 34
        }
      },
      "source": [
        "df_fifa['club'].isnull().sum()"
      ],
      "execution_count": 13,
      "outputs": [
        {
          "output_type": "execute_result",
          "data": {
            "text/plain": [
              "241"
            ]
          },
          "metadata": {
            "tags": []
          },
          "execution_count": 13
        }
      ]
    },
    {
      "cell_type": "code",
      "metadata": {
        "id": "znTwnGjKlANp",
        "outputId": "e0c2ee36-48b1-4ac3-c91a-6e012c5f575f",
        "colab": {
          "base_uri": "https://localhost:8080/",
          "height": 403
        }
      },
      "source": [
        "df_fifa[df_fifa['club'].isnull()].head()"
      ],
      "execution_count": 15,
      "outputs": [
        {
          "output_type": "execute_result",
          "data": {
            "text/html": [
              "<div>\n",
              "<style scoped>\n",
              "    .dataframe tbody tr th:only-of-type {\n",
              "        vertical-align: middle;\n",
              "    }\n",
              "\n",
              "    .dataframe tbody tr th {\n",
              "        vertical-align: top;\n",
              "    }\n",
              "\n",
              "    .dataframe thead th {\n",
              "        text-align: right;\n",
              "    }\n",
              "</style>\n",
              "<table border=\"1\" class=\"dataframe\">\n",
              "  <thead>\n",
              "    <tr style=\"text-align: right;\">\n",
              "      <th></th>\n",
              "      <th>name</th>\n",
              "      <th>age</th>\n",
              "      <th>nationality</th>\n",
              "      <th>overall</th>\n",
              "      <th>potential</th>\n",
              "      <th>club</th>\n",
              "      <th>value</th>\n",
              "      <th>wage</th>\n",
              "      <th>special</th>\n",
              "      <th>preferred foot</th>\n",
              "      <th>international reputation</th>\n",
              "      <th>weak foot</th>\n",
              "      <th>skill moves</th>\n",
              "      <th>work rate</th>\n",
              "      <th>body type</th>\n",
              "      <th>position</th>\n",
              "      <th>joined</th>\n",
              "      <th>contract valid until</th>\n",
              "      <th>height</th>\n",
              "      <th>weight</th>\n",
              "      <th>ls</th>\n",
              "      <th>st</th>\n",
              "      <th>rs</th>\n",
              "      <th>lw</th>\n",
              "      <th>lf</th>\n",
              "      <th>cf</th>\n",
              "      <th>rf</th>\n",
              "      <th>rw</th>\n",
              "      <th>lam</th>\n",
              "      <th>cam</th>\n",
              "      <th>ram</th>\n",
              "      <th>lm</th>\n",
              "      <th>lcm</th>\n",
              "      <th>cm</th>\n",
              "      <th>rcm</th>\n",
              "      <th>rm</th>\n",
              "      <th>lwb</th>\n",
              "      <th>ldm</th>\n",
              "      <th>cdm</th>\n",
              "      <th>rdm</th>\n",
              "      <th>...</th>\n",
              "      <th>lb</th>\n",
              "      <th>lcb</th>\n",
              "      <th>cb</th>\n",
              "      <th>rcb</th>\n",
              "      <th>rb</th>\n",
              "      <th>crossing</th>\n",
              "      <th>finishing</th>\n",
              "      <th>headingaccuracy</th>\n",
              "      <th>shortpassing</th>\n",
              "      <th>volleys</th>\n",
              "      <th>dribbling</th>\n",
              "      <th>curve</th>\n",
              "      <th>fkaccuracy</th>\n",
              "      <th>longpassing</th>\n",
              "      <th>ballcontrol</th>\n",
              "      <th>acceleration</th>\n",
              "      <th>sprintspeed</th>\n",
              "      <th>agility</th>\n",
              "      <th>reactions</th>\n",
              "      <th>balance</th>\n",
              "      <th>shotpower</th>\n",
              "      <th>jumping</th>\n",
              "      <th>stamina</th>\n",
              "      <th>strength</th>\n",
              "      <th>longshots</th>\n",
              "      <th>aggression</th>\n",
              "      <th>interceptions</th>\n",
              "      <th>positioning</th>\n",
              "      <th>vision</th>\n",
              "      <th>penalties</th>\n",
              "      <th>composure</th>\n",
              "      <th>marking</th>\n",
              "      <th>standingtackle</th>\n",
              "      <th>slidingtackle</th>\n",
              "      <th>gkdiving</th>\n",
              "      <th>gkhandling</th>\n",
              "      <th>gkkicking</th>\n",
              "      <th>gkpositioning</th>\n",
              "      <th>gkreflexes</th>\n",
              "      <th>release clause</th>\n",
              "    </tr>\n",
              "    <tr>\n",
              "      <th>ID</th>\n",
              "      <th></th>\n",
              "      <th></th>\n",
              "      <th></th>\n",
              "      <th></th>\n",
              "      <th></th>\n",
              "      <th></th>\n",
              "      <th></th>\n",
              "      <th></th>\n",
              "      <th></th>\n",
              "      <th></th>\n",
              "      <th></th>\n",
              "      <th></th>\n",
              "      <th></th>\n",
              "      <th></th>\n",
              "      <th></th>\n",
              "      <th></th>\n",
              "      <th></th>\n",
              "      <th></th>\n",
              "      <th></th>\n",
              "      <th></th>\n",
              "      <th></th>\n",
              "      <th></th>\n",
              "      <th></th>\n",
              "      <th></th>\n",
              "      <th></th>\n",
              "      <th></th>\n",
              "      <th></th>\n",
              "      <th></th>\n",
              "      <th></th>\n",
              "      <th></th>\n",
              "      <th></th>\n",
              "      <th></th>\n",
              "      <th></th>\n",
              "      <th></th>\n",
              "      <th></th>\n",
              "      <th></th>\n",
              "      <th></th>\n",
              "      <th></th>\n",
              "      <th></th>\n",
              "      <th></th>\n",
              "      <th></th>\n",
              "      <th></th>\n",
              "      <th></th>\n",
              "      <th></th>\n",
              "      <th></th>\n",
              "      <th></th>\n",
              "      <th></th>\n",
              "      <th></th>\n",
              "      <th></th>\n",
              "      <th></th>\n",
              "      <th></th>\n",
              "      <th></th>\n",
              "      <th></th>\n",
              "      <th></th>\n",
              "      <th></th>\n",
              "      <th></th>\n",
              "      <th></th>\n",
              "      <th></th>\n",
              "      <th></th>\n",
              "      <th></th>\n",
              "      <th></th>\n",
              "      <th></th>\n",
              "      <th></th>\n",
              "      <th></th>\n",
              "      <th></th>\n",
              "      <th></th>\n",
              "      <th></th>\n",
              "      <th></th>\n",
              "      <th></th>\n",
              "      <th></th>\n",
              "      <th></th>\n",
              "      <th></th>\n",
              "      <th></th>\n",
              "      <th></th>\n",
              "      <th></th>\n",
              "      <th></th>\n",
              "      <th></th>\n",
              "      <th></th>\n",
              "      <th></th>\n",
              "      <th></th>\n",
              "      <th></th>\n",
              "    </tr>\n",
              "  </thead>\n",
              "  <tbody>\n",
              "    <tr>\n",
              "      <th>207439</th>\n",
              "      <td>L. Paredes</td>\n",
              "      <td>24</td>\n",
              "      <td>Argentina</td>\n",
              "      <td>80</td>\n",
              "      <td>85</td>\n",
              "      <td>NaN</td>\n",
              "      <td>€0</td>\n",
              "      <td>€0</td>\n",
              "      <td>2122</td>\n",
              "      <td>Right</td>\n",
              "      <td>2.0</td>\n",
              "      <td>4.0</td>\n",
              "      <td>4.0</td>\n",
              "      <td>Medium/ Medium</td>\n",
              "      <td>Normal</td>\n",
              "      <td>CM</td>\n",
              "      <td>NaN</td>\n",
              "      <td>NaN</td>\n",
              "      <td>5'11</td>\n",
              "      <td>165lbs</td>\n",
              "      <td>71+2</td>\n",
              "      <td>71+2</td>\n",
              "      <td>71+2</td>\n",
              "      <td>75+2</td>\n",
              "      <td>75+2</td>\n",
              "      <td>75+2</td>\n",
              "      <td>75+2</td>\n",
              "      <td>75+2</td>\n",
              "      <td>77+2</td>\n",
              "      <td>77+2</td>\n",
              "      <td>77+2</td>\n",
              "      <td>76+2</td>\n",
              "      <td>79+2</td>\n",
              "      <td>79+2</td>\n",
              "      <td>79+2</td>\n",
              "      <td>76+2</td>\n",
              "      <td>75+2</td>\n",
              "      <td>77+2</td>\n",
              "      <td>77+2</td>\n",
              "      <td>77+2</td>\n",
              "      <td>...</td>\n",
              "      <td>74+2</td>\n",
              "      <td>72+2</td>\n",
              "      <td>72+2</td>\n",
              "      <td>72+2</td>\n",
              "      <td>74+2</td>\n",
              "      <td>76.0</td>\n",
              "      <td>55.0</td>\n",
              "      <td>60.0</td>\n",
              "      <td>84.0</td>\n",
              "      <td>73.0</td>\n",
              "      <td>78.0</td>\n",
              "      <td>79.0</td>\n",
              "      <td>78.0</td>\n",
              "      <td>82.0</td>\n",
              "      <td>82.0</td>\n",
              "      <td>75.0</td>\n",
              "      <td>69.0</td>\n",
              "      <td>77.0</td>\n",
              "      <td>74.0</td>\n",
              "      <td>77.0</td>\n",
              "      <td>82.0</td>\n",
              "      <td>61.0</td>\n",
              "      <td>79.0</td>\n",
              "      <td>69.0</td>\n",
              "      <td>80.0</td>\n",
              "      <td>79.0</td>\n",
              "      <td>72.0</td>\n",
              "      <td>74.0</td>\n",
              "      <td>82.0</td>\n",
              "      <td>57.0</td>\n",
              "      <td>74.0</td>\n",
              "      <td>73.0</td>\n",
              "      <td>75.0</td>\n",
              "      <td>72.0</td>\n",
              "      <td>9.0</td>\n",
              "      <td>14.0</td>\n",
              "      <td>6.0</td>\n",
              "      <td>9.0</td>\n",
              "      <td>10.0</td>\n",
              "      <td>NaN</td>\n",
              "    </tr>\n",
              "    <tr>\n",
              "      <th>156713</th>\n",
              "      <td>A. Granqvist</td>\n",
              "      <td>33</td>\n",
              "      <td>Sweden</td>\n",
              "      <td>80</td>\n",
              "      <td>80</td>\n",
              "      <td>NaN</td>\n",
              "      <td>€0</td>\n",
              "      <td>€0</td>\n",
              "      <td>1797</td>\n",
              "      <td>Right</td>\n",
              "      <td>2.0</td>\n",
              "      <td>4.0</td>\n",
              "      <td>2.0</td>\n",
              "      <td>High/ Medium</td>\n",
              "      <td>Normal</td>\n",
              "      <td>LCB</td>\n",
              "      <td>NaN</td>\n",
              "      <td>NaN</td>\n",
              "      <td>6'4</td>\n",
              "      <td>185lbs</td>\n",
              "      <td>62+2</td>\n",
              "      <td>62+2</td>\n",
              "      <td>62+2</td>\n",
              "      <td>56+2</td>\n",
              "      <td>58+2</td>\n",
              "      <td>58+2</td>\n",
              "      <td>58+2</td>\n",
              "      <td>56+2</td>\n",
              "      <td>58+2</td>\n",
              "      <td>58+2</td>\n",
              "      <td>58+2</td>\n",
              "      <td>57+2</td>\n",
              "      <td>64+2</td>\n",
              "      <td>64+2</td>\n",
              "      <td>64+2</td>\n",
              "      <td>57+2</td>\n",
              "      <td>68+2</td>\n",
              "      <td>74+2</td>\n",
              "      <td>74+2</td>\n",
              "      <td>74+2</td>\n",
              "      <td>...</td>\n",
              "      <td>70+2</td>\n",
              "      <td>79+2</td>\n",
              "      <td>79+2</td>\n",
              "      <td>79+2</td>\n",
              "      <td>70+2</td>\n",
              "      <td>49.0</td>\n",
              "      <td>51.0</td>\n",
              "      <td>81.0</td>\n",
              "      <td>73.0</td>\n",
              "      <td>37.0</td>\n",
              "      <td>49.0</td>\n",
              "      <td>36.0</td>\n",
              "      <td>40.0</td>\n",
              "      <td>67.0</td>\n",
              "      <td>63.0</td>\n",
              "      <td>46.0</td>\n",
              "      <td>49.0</td>\n",
              "      <td>55.0</td>\n",
              "      <td>76.0</td>\n",
              "      <td>36.0</td>\n",
              "      <td>74.0</td>\n",
              "      <td>64.0</td>\n",
              "      <td>67.0</td>\n",
              "      <td>83.0</td>\n",
              "      <td>59.0</td>\n",
              "      <td>81.0</td>\n",
              "      <td>82.0</td>\n",
              "      <td>54.0</td>\n",
              "      <td>49.0</td>\n",
              "      <td>79.0</td>\n",
              "      <td>78.0</td>\n",
              "      <td>82.0</td>\n",
              "      <td>83.0</td>\n",
              "      <td>79.0</td>\n",
              "      <td>7.0</td>\n",
              "      <td>9.0</td>\n",
              "      <td>12.0</td>\n",
              "      <td>10.0</td>\n",
              "      <td>15.0</td>\n",
              "      <td>NaN</td>\n",
              "    </tr>\n",
              "    <tr>\n",
              "      <th>229909</th>\n",
              "      <td>A. Lunev</td>\n",
              "      <td>26</td>\n",
              "      <td>Russia</td>\n",
              "      <td>79</td>\n",
              "      <td>81</td>\n",
              "      <td>NaN</td>\n",
              "      <td>€0</td>\n",
              "      <td>€0</td>\n",
              "      <td>1217</td>\n",
              "      <td>Right</td>\n",
              "      <td>1.0</td>\n",
              "      <td>3.0</td>\n",
              "      <td>1.0</td>\n",
              "      <td>Medium/ Medium</td>\n",
              "      <td>Normal</td>\n",
              "      <td>GK</td>\n",
              "      <td>NaN</td>\n",
              "      <td>NaN</td>\n",
              "      <td>6'2</td>\n",
              "      <td>176lbs</td>\n",
              "      <td>NaN</td>\n",
              "      <td>NaN</td>\n",
              "      <td>NaN</td>\n",
              "      <td>NaN</td>\n",
              "      <td>NaN</td>\n",
              "      <td>NaN</td>\n",
              "      <td>NaN</td>\n",
              "      <td>NaN</td>\n",
              "      <td>NaN</td>\n",
              "      <td>NaN</td>\n",
              "      <td>NaN</td>\n",
              "      <td>NaN</td>\n",
              "      <td>NaN</td>\n",
              "      <td>NaN</td>\n",
              "      <td>NaN</td>\n",
              "      <td>NaN</td>\n",
              "      <td>NaN</td>\n",
              "      <td>NaN</td>\n",
              "      <td>NaN</td>\n",
              "      <td>NaN</td>\n",
              "      <td>...</td>\n",
              "      <td>NaN</td>\n",
              "      <td>NaN</td>\n",
              "      <td>NaN</td>\n",
              "      <td>NaN</td>\n",
              "      <td>NaN</td>\n",
              "      <td>16.0</td>\n",
              "      <td>14.0</td>\n",
              "      <td>17.0</td>\n",
              "      <td>25.0</td>\n",
              "      <td>13.0</td>\n",
              "      <td>15.0</td>\n",
              "      <td>18.0</td>\n",
              "      <td>17.0</td>\n",
              "      <td>32.0</td>\n",
              "      <td>17.0</td>\n",
              "      <td>58.0</td>\n",
              "      <td>54.0</td>\n",
              "      <td>36.0</td>\n",
              "      <td>76.0</td>\n",
              "      <td>50.0</td>\n",
              "      <td>24.0</td>\n",
              "      <td>60.0</td>\n",
              "      <td>27.0</td>\n",
              "      <td>70.0</td>\n",
              "      <td>13.0</td>\n",
              "      <td>26.0</td>\n",
              "      <td>20.0</td>\n",
              "      <td>11.0</td>\n",
              "      <td>63.0</td>\n",
              "      <td>15.0</td>\n",
              "      <td>69.0</td>\n",
              "      <td>18.0</td>\n",
              "      <td>20.0</td>\n",
              "      <td>12.0</td>\n",
              "      <td>80.0</td>\n",
              "      <td>73.0</td>\n",
              "      <td>65.0</td>\n",
              "      <td>77.0</td>\n",
              "      <td>85.0</td>\n",
              "      <td>NaN</td>\n",
              "    </tr>\n",
              "    <tr>\n",
              "      <th>187347</th>\n",
              "      <td>I. Smolnikov</td>\n",
              "      <td>29</td>\n",
              "      <td>Russia</td>\n",
              "      <td>79</td>\n",
              "      <td>79</td>\n",
              "      <td>NaN</td>\n",
              "      <td>€0</td>\n",
              "      <td>€0</td>\n",
              "      <td>2038</td>\n",
              "      <td>Right</td>\n",
              "      <td>2.0</td>\n",
              "      <td>3.0</td>\n",
              "      <td>3.0</td>\n",
              "      <td>High/ High</td>\n",
              "      <td>Lean</td>\n",
              "      <td>RB</td>\n",
              "      <td>NaN</td>\n",
              "      <td>NaN</td>\n",
              "      <td>5'10</td>\n",
              "      <td>154lbs</td>\n",
              "      <td>70+2</td>\n",
              "      <td>70+2</td>\n",
              "      <td>70+2</td>\n",
              "      <td>73+2</td>\n",
              "      <td>72+2</td>\n",
              "      <td>72+2</td>\n",
              "      <td>72+2</td>\n",
              "      <td>73+2</td>\n",
              "      <td>73+2</td>\n",
              "      <td>73+2</td>\n",
              "      <td>73+2</td>\n",
              "      <td>75+2</td>\n",
              "      <td>74+2</td>\n",
              "      <td>74+2</td>\n",
              "      <td>74+2</td>\n",
              "      <td>75+2</td>\n",
              "      <td>78+2</td>\n",
              "      <td>75+2</td>\n",
              "      <td>75+2</td>\n",
              "      <td>75+2</td>\n",
              "      <td>...</td>\n",
              "      <td>78+2</td>\n",
              "      <td>73+2</td>\n",
              "      <td>73+2</td>\n",
              "      <td>73+2</td>\n",
              "      <td>78+2</td>\n",
              "      <td>73.0</td>\n",
              "      <td>61.0</td>\n",
              "      <td>69.0</td>\n",
              "      <td>79.0</td>\n",
              "      <td>57.0</td>\n",
              "      <td>72.0</td>\n",
              "      <td>49.0</td>\n",
              "      <td>46.0</td>\n",
              "      <td>75.0</td>\n",
              "      <td>72.0</td>\n",
              "      <td>84.0</td>\n",
              "      <td>90.0</td>\n",
              "      <td>80.0</td>\n",
              "      <td>75.0</td>\n",
              "      <td>76.0</td>\n",
              "      <td>67.0</td>\n",
              "      <td>85.0</td>\n",
              "      <td>93.0</td>\n",
              "      <td>68.0</td>\n",
              "      <td>57.0</td>\n",
              "      <td>65.0</td>\n",
              "      <td>71.0</td>\n",
              "      <td>77.0</td>\n",
              "      <td>72.0</td>\n",
              "      <td>41.0</td>\n",
              "      <td>73.0</td>\n",
              "      <td>76.0</td>\n",
              "      <td>76.0</td>\n",
              "      <td>80.0</td>\n",
              "      <td>7.0</td>\n",
              "      <td>12.0</td>\n",
              "      <td>10.0</td>\n",
              "      <td>8.0</td>\n",
              "      <td>15.0</td>\n",
              "      <td>NaN</td>\n",
              "    </tr>\n",
              "    <tr>\n",
              "      <th>187607</th>\n",
              "      <td>A. Dzyuba</td>\n",
              "      <td>29</td>\n",
              "      <td>Russia</td>\n",
              "      <td>78</td>\n",
              "      <td>78</td>\n",
              "      <td>NaN</td>\n",
              "      <td>€0</td>\n",
              "      <td>€0</td>\n",
              "      <td>1810</td>\n",
              "      <td>Right</td>\n",
              "      <td>2.0</td>\n",
              "      <td>3.0</td>\n",
              "      <td>3.0</td>\n",
              "      <td>High/ Medium</td>\n",
              "      <td>Stocky</td>\n",
              "      <td>ST</td>\n",
              "      <td>NaN</td>\n",
              "      <td>NaN</td>\n",
              "      <td>6'5</td>\n",
              "      <td>201lbs</td>\n",
              "      <td>77+2</td>\n",
              "      <td>77+2</td>\n",
              "      <td>77+2</td>\n",
              "      <td>71+2</td>\n",
              "      <td>74+2</td>\n",
              "      <td>74+2</td>\n",
              "      <td>74+2</td>\n",
              "      <td>71+2</td>\n",
              "      <td>71+2</td>\n",
              "      <td>71+2</td>\n",
              "      <td>71+2</td>\n",
              "      <td>71+2</td>\n",
              "      <td>66+2</td>\n",
              "      <td>66+2</td>\n",
              "      <td>66+2</td>\n",
              "      <td>71+2</td>\n",
              "      <td>52+2</td>\n",
              "      <td>52+2</td>\n",
              "      <td>52+2</td>\n",
              "      <td>52+2</td>\n",
              "      <td>...</td>\n",
              "      <td>48+2</td>\n",
              "      <td>48+2</td>\n",
              "      <td>48+2</td>\n",
              "      <td>48+2</td>\n",
              "      <td>48+2</td>\n",
              "      <td>61.0</td>\n",
              "      <td>79.0</td>\n",
              "      <td>86.0</td>\n",
              "      <td>71.0</td>\n",
              "      <td>74.0</td>\n",
              "      <td>71.0</td>\n",
              "      <td>64.0</td>\n",
              "      <td>60.0</td>\n",
              "      <td>55.0</td>\n",
              "      <td>77.0</td>\n",
              "      <td>66.0</td>\n",
              "      <td>65.0</td>\n",
              "      <td>50.0</td>\n",
              "      <td>75.0</td>\n",
              "      <td>32.0</td>\n",
              "      <td>78.0</td>\n",
              "      <td>63.0</td>\n",
              "      <td>77.0</td>\n",
              "      <td>93.0</td>\n",
              "      <td>68.0</td>\n",
              "      <td>75.0</td>\n",
              "      <td>30.0</td>\n",
              "      <td>78.0</td>\n",
              "      <td>73.0</td>\n",
              "      <td>77.0</td>\n",
              "      <td>70.0</td>\n",
              "      <td>21.0</td>\n",
              "      <td>15.0</td>\n",
              "      <td>19.0</td>\n",
              "      <td>15.0</td>\n",
              "      <td>12.0</td>\n",
              "      <td>11.0</td>\n",
              "      <td>11.0</td>\n",
              "      <td>8.0</td>\n",
              "      <td>NaN</td>\n",
              "    </tr>\n",
              "  </tbody>\n",
              "</table>\n",
              "<p>5 rows × 81 columns</p>\n",
              "</div>"
            ],
            "text/plain": [
              "                name  age  ... gkreflexes  release clause\n",
              "ID                         ...                           \n",
              "207439    L. Paredes   24  ...       10.0             NaN\n",
              "156713  A. Granqvist   33  ...       15.0             NaN\n",
              "229909      A. Lunev   26  ...       85.0             NaN\n",
              "187347  I. Smolnikov   29  ...       15.0             NaN\n",
              "187607     A. Dzyuba   29  ...        8.0             NaN\n",
              "\n",
              "[5 rows x 81 columns]"
            ]
          },
          "metadata": {
            "tags": []
          },
          "execution_count": 15
        }
      ]
    },
    {
      "cell_type": "code",
      "metadata": {
        "id": "lmFRVHzltH8m",
        "outputId": "203fb166-b545-44b8-818d-845d91f1a5d8",
        "colab": {
          "base_uri": "https://localhost:8080/",
          "height": 238
        }
      },
      "source": [
        "# 10. Qual a média de idade por clube?\n",
        "\n",
        "df_fifa.groupby('club')['age'].sum()"
      ],
      "execution_count": null,
      "outputs": [
        {
          "output_type": "execute_result",
          "data": {
            "text/plain": [
              "club\n",
              " SSV Jahn Regensburg     744\n",
              "1. FC Heidenheim 1846    672\n",
              "1. FC Kaiserslautern     620\n",
              "1. FC Köln               681\n",
              "1. FC Magdeburg          642\n",
              "                        ... \n",
              "Zagłębie Sosnowiec       656\n",
              "Çaykur Rizespor          763\n",
              "Örebro SK                649\n",
              "Östersunds FK            525\n",
              "Śląsk Wrocław            649\n",
              "Name: age, Length: 651, dtype: int64"
            ]
          },
          "metadata": {
            "tags": []
          },
          "execution_count": 127
        }
      ]
    },
    {
      "cell_type": "code",
      "metadata": {
        "id": "c461uH2qyT6K"
      },
      "source": [
        "# Dúvida: não consigo fazer divisão entre ndarrays?\n",
        "(df_fifa.groupby('club')['age'].sum()).values() / (df_fifa.groupby('club')['club'].count()).values()"
      ],
      "execution_count": null,
      "outputs": []
    },
    {
      "cell_type": "code",
      "metadata": {
        "id": "e7XyZ6C10AJb"
      },
      "source": [
        "df_media_idade_por_clube = pd.DataFrame({'club': (df_fifa.groupby('club')['age'].sum()).index,\n",
        "                                         'soma_idade': (df_fifa.groupby('club')['age'].sum()).values, \n",
        "                                         'num_jogadores': (df_fifa.groupby('club')['club'].count()).values})"
      ],
      "execution_count": null,
      "outputs": []
    },
    {
      "cell_type": "code",
      "metadata": {
        "id": "Fh-6ZUVp1-JQ"
      },
      "source": [
        "df_media_idade_por_clube.head()"
      ],
      "execution_count": null,
      "outputs": []
    },
    {
      "cell_type": "code",
      "metadata": {
        "id": "GG63egkI1eQC"
      },
      "source": [
        "df_media_idade_por_clube['Média de idade por Clube']= round(df_media_idade_por_clube['soma_idade'] / df_media_idade_por_clube['num_jogadores'],2)"
      ],
      "execution_count": null,
      "outputs": []
    },
    {
      "cell_type": "code",
      "metadata": {
        "id": "XeoqsFLB15HX",
        "outputId": "7a4fd0d7-cc96-44ce-abb8-e2421b4ab5d4",
        "colab": {
          "base_uri": "https://localhost:8080/",
          "height": 419
        }
      },
      "source": [
        "df_media_idade_por_clube.sort_values(by=['num_jogadores'], ascending= False)"
      ],
      "execution_count": null,
      "outputs": [
        {
          "output_type": "execute_result",
          "data": {
            "text/html": [
              "<div>\n",
              "<style scoped>\n",
              "    .dataframe tbody tr th:only-of-type {\n",
              "        vertical-align: middle;\n",
              "    }\n",
              "\n",
              "    .dataframe tbody tr th {\n",
              "        vertical-align: top;\n",
              "    }\n",
              "\n",
              "    .dataframe thead th {\n",
              "        text-align: right;\n",
              "    }\n",
              "</style>\n",
              "<table border=\"1\" class=\"dataframe\">\n",
              "  <thead>\n",
              "    <tr style=\"text-align: right;\">\n",
              "      <th></th>\n",
              "      <th>club</th>\n",
              "      <th>soma_idade</th>\n",
              "      <th>num_jogadores</th>\n",
              "      <th>Média de idade por Clube</th>\n",
              "    </tr>\n",
              "  </thead>\n",
              "  <tbody>\n",
              "    <tr>\n",
              "      <th>0</th>\n",
              "      <td>Borussia Dortmund</td>\n",
              "      <td>762</td>\n",
              "      <td>33</td>\n",
              "      <td>23.09</td>\n",
              "    </tr>\n",
              "    <tr>\n",
              "      <th>14</th>\n",
              "      <td>AS Monaco</td>\n",
              "      <td>761</td>\n",
              "      <td>33</td>\n",
              "      <td>23.06</td>\n",
              "    </tr>\n",
              "    <tr>\n",
              "      <th>1</th>\n",
              "      <td>Eintracht Frankfurt</td>\n",
              "      <td>825</td>\n",
              "      <td>33</td>\n",
              "      <td>25.00</td>\n",
              "    </tr>\n",
              "    <tr>\n",
              "      <th>25</th>\n",
              "      <td>Rayo Vallecano</td>\n",
              "      <td>816</td>\n",
              "      <td>33</td>\n",
              "      <td>24.73</td>\n",
              "    </tr>\n",
              "    <tr>\n",
              "      <th>24</th>\n",
              "      <td>Fortuna Düsseldorf</td>\n",
              "      <td>809</td>\n",
              "      <td>33</td>\n",
              "      <td>24.52</td>\n",
              "    </tr>\n",
              "    <tr>\n",
              "      <th>...</th>\n",
              "      <td>...</td>\n",
              "      <td>...</td>\n",
              "      <td>...</td>\n",
              "      <td>...</td>\n",
              "    </tr>\n",
              "    <tr>\n",
              "      <th>633</th>\n",
              "      <td>Fluminense</td>\n",
              "      <td>604</td>\n",
              "      <td>20</td>\n",
              "      <td>30.20</td>\n",
              "    </tr>\n",
              "    <tr>\n",
              "      <th>632</th>\n",
              "      <td>Botafogo</td>\n",
              "      <td>608</td>\n",
              "      <td>20</td>\n",
              "      <td>30.40</td>\n",
              "    </tr>\n",
              "    <tr>\n",
              "      <th>648</th>\n",
              "      <td>Limerick FC</td>\n",
              "      <td>436</td>\n",
              "      <td>19</td>\n",
              "      <td>22.95</td>\n",
              "    </tr>\n",
              "    <tr>\n",
              "      <th>649</th>\n",
              "      <td>Sligo Rovers</td>\n",
              "      <td>421</td>\n",
              "      <td>19</td>\n",
              "      <td>22.16</td>\n",
              "    </tr>\n",
              "    <tr>\n",
              "      <th>650</th>\n",
              "      <td>Derry City</td>\n",
              "      <td>398</td>\n",
              "      <td>18</td>\n",
              "      <td>22.11</td>\n",
              "    </tr>\n",
              "  </tbody>\n",
              "</table>\n",
              "<p>651 rows × 4 columns</p>\n",
              "</div>"
            ],
            "text/plain": [
              "                    club  soma_idade  num_jogadores  Média de idade por Clube\n",
              "0      Borussia Dortmund         762             33                     23.09\n",
              "14             AS Monaco         761             33                     23.06\n",
              "1    Eintracht Frankfurt         825             33                     25.00\n",
              "25        Rayo Vallecano         816             33                     24.73\n",
              "24    Fortuna Düsseldorf         809             33                     24.52\n",
              "..                   ...         ...            ...                       ...\n",
              "633           Fluminense         604             20                     30.20\n",
              "632             Botafogo         608             20                     30.40\n",
              "648          Limerick FC         436             19                     22.95\n",
              "649         Sligo Rovers         421             19                     22.16\n",
              "650           Derry City         398             18                     22.11\n",
              "\n",
              "[651 rows x 4 columns]"
            ]
          },
          "metadata": {
            "tags": []
          },
          "execution_count": 135
        }
      ]
    },
    {
      "cell_type": "code",
      "metadata": {
        "id": "z3R3CqtVxrl9"
      },
      "source": [
        "# 11. Qual a média de salário por país?   # wage"
      ],
      "execution_count": null,
      "outputs": []
    },
    {
      "cell_type": "code",
      "metadata": {
        "id": "7pp-SdU33Bou"
      },
      "source": [
        "df_fifa.info()"
      ],
      "execution_count": null,
      "outputs": []
    },
    {
      "cell_type": "code",
      "metadata": {
        "id": "2QV9Y0PF4cgE"
      },
      "source": [
        "df_fifa['wage']"
      ],
      "execution_count": null,
      "outputs": []
    },
    {
      "cell_type": "code",
      "metadata": {
        "id": "jJIZCY7D4sFK"
      },
      "source": [
        "# Dúvida: sintaxe\n",
        "'''\n",
        "* Os componentes do comando Groupby()\n",
        "    * **Grouping_Column** - Coluna Categórica pelo qual os dados serão agrupados;\n",
        "    * **Aggregating_Column** - Coluna numérica cujos valores serão agrupados;\n",
        "    * **Aggregating_Function** - Função agregadora, ou seja: sum, min, max, mean, median, etc...\n",
        "\n",
        "df.groupby('Grouping_Column').agg({'Aggregating_Column': 'Aggregating_Function'})\n",
        "OU\n",
        "df['Aggregating_Column'].groupby(df['Grouping_Column']).Function()\n",
        "'''"
      ],
      "execution_count": null,
      "outputs": []
    },
    {
      "cell_type": "code",
      "metadata": {
        "id": "w-JXwZhK-rXI"
      },
      "source": [
        "s_nat_wage = df_fifa.groupby('nationality')['wage'].sum()"
      ],
      "execution_count": null,
      "outputs": []
    },
    {
      "cell_type": "code",
      "metadata": {
        "id": "wk7eZLiddwbN"
      },
      "source": [
        "df_sal_pais = df_fifa.groupby('nationality').agg({'wage':sum})\n",
        "a.head()"
      ],
      "execution_count": null,
      "outputs": []
    },
    {
      "cell_type": "code",
      "metadata": {
        "id": "jvXegBTZfbqe"
      },
      "source": [
        "df_jog_pais = pd.DataFrame(data = df_fifa.groupby('nationality')['nationality'].count().rename('Total Jogadores por país'))\n"
      ],
      "execution_count": null,
      "outputs": []
    },
    {
      "cell_type": "code",
      "metadata": {
        "id": "xlfRW6c_3Cok"
      },
      "source": [
        "df_fifa.groupby('nationality').agg({'wage':sum}, )"
      ],
      "execution_count": null,
      "outputs": []
    },
    {
      "cell_type": "code",
      "metadata": {
        "id": "moNk1Be9nscx"
      },
      "source": [
        "array_media = df_fifa.groupby('nationality').agg({'wage':sum}).values/df_fifa.groupby('nationality')['nationality'].count().rename('Total Jogadores por país').values"
      ],
      "execution_count": 84,
      "outputs": []
    },
    {
      "cell_type": "code",
      "metadata": {
        "id": "igBU8YpC2AO7"
      },
      "source": [
        ""
      ],
      "execution_count": null,
      "outputs": []
    },
    {
      "cell_type": "code",
      "metadata": {
        "id": "0B3I9oS6nzeg"
      },
      "source": [
        ""
      ],
      "execution_count": null,
      "outputs": []
    },
    {
      "cell_type": "code",
      "metadata": {
        "id": "89TpOwLGnXag",
        "outputId": "f7bd9d61-4f8f-4102-b90c-81db3fcc077e",
        "colab": {
          "base_uri": "https://localhost:8080/",
          "height": 1000
        }
      },
      "source": [
        "a.values/b.values"
      ],
      "execution_count": 77,
      "outputs": [
        {
          "output_type": "execute_result",
          "data": {
            "text/plain": [
              "array([[ 1250.        ],\n",
              "       [ 7100.        ],\n",
              "       [18083.33333333],\n",
              "       [ 1000.        ],\n",
              "       [ 7666.66666667],\n",
              "       [ 2500.        ],\n",
              "       [11502.66808965],\n",
              "       [22000.        ],\n",
              "       [ 3351.69491525],\n",
              "       [ 7667.7852349 ],\n",
              "       [ 2200.        ],\n",
              "       [ 3666.66666667],\n",
              "       [ 8000.        ],\n",
              "       [18480.76923077],\n",
              "       [ 1000.        ],\n",
              "       [ 8666.66666667],\n",
              "       [16500.        ],\n",
              "       [  833.33333333],\n",
              "       [14868.85245902],\n",
              "       [ 1000.        ],\n",
              "       [17778.71825877],\n",
              "       [ 1000.        ],\n",
              "       [12062.5       ],\n",
              "       [10666.66666667],\n",
              "       [10966.66666667],\n",
              "       [ 3812.5       ],\n",
              "       [11526.31578947],\n",
              "       [19000.        ],\n",
              "       [12000.        ],\n",
              "       [ 5176.47058824],\n",
              "       [ 3125.        ],\n",
              "       [ 5415.85760518],\n",
              "       [ 4500.        ],\n",
              "       [ 4440.        ],\n",
              "       [13566.66666667],\n",
              "       [21682.53968254],\n",
              "       [ 3250.        ],\n",
              "       [ 8857.14285714],\n",
              "       [ 5250.        ],\n",
              "       [ 7950.        ],\n",
              "       [13769.23076923],\n",
              "       [ 6913.69047619],\n",
              "       [71000.        ],\n",
              "       [11116.27906977],\n",
              "       [16870.96774194],\n",
              "       [ 2600.        ],\n",
              "       [ 9943.44163658],\n",
              "       [17200.        ],\n",
              "       [ 6000.        ],\n",
              "       [ 3846.15384615],\n",
              "       [ 1000.        ],\n",
              "       [ 7900.        ],\n",
              "       [ 2666.66666667],\n",
              "       [ 4000.        ],\n",
              "       [ 5208.95522388],\n",
              "       [14053.61050328],\n",
              "       [26933.33333333],\n",
              "       [ 8133.33333333],\n",
              "       [ 4192.30769231],\n",
              "       [ 9639.39899833],\n",
              "       [ 9614.03508772],\n",
              "       [ 7803.92156863],\n",
              "       [ 3000.        ],\n",
              "       [ 3000.        ],\n",
              "       [ 1333.33333333],\n",
              "       [12225.80645161],\n",
              "       [ 6333.33333333],\n",
              "       [ 1666.66666667],\n",
              "       [ 3900.        ],\n",
              "       [ 7500.        ],\n",
              "       [ 1500.        ],\n",
              "       [ 6631.57894737],\n",
              "       [ 8148.93617021],\n",
              "       [    0.        ],\n",
              "       [ 1000.        ],\n",
              "       [11294.11764706],\n",
              "       [ 5857.14285714],\n",
              "       [15857.14285714],\n",
              "       [13478.63247863],\n",
              "       [12710.        ],\n",
              "       [ 8187.5       ],\n",
              "       [ 3453.9748954 ],\n",
              "       [ 1000.        ],\n",
              "       [ 2000.        ],\n",
              "       [11200.        ],\n",
              "       [ 4250.        ],\n",
              "       [ 3065.67164179],\n",
              "       [ 6727.27272727],\n",
              "       [13000.        ],\n",
              "       [ 2666.66666667],\n",
              "       [ 2000.        ],\n",
              "       [ 3000.        ],\n",
              "       [ 4750.        ],\n",
              "       [ 5000.        ],\n",
              "       [ 2875.        ],\n",
              "       [ 4000.        ],\n",
              "       [ 7750.        ],\n",
              "       [10674.41860465],\n",
              "       [ 2000.        ],\n",
              "       [ 2000.        ],\n",
              "       [ 4000.        ],\n",
              "       [ 8825.13661202],\n",
              "       [11200.        ],\n",
              "       [13086.95652174],\n",
              "       [ 3000.        ],\n",
              "       [14847.05882353],\n",
              "       [11000.        ],\n",
              "       [ 3333.33333333],\n",
              "       [10035.3200883 ],\n",
              "       [ 9000.        ],\n",
              "       [ 4454.54545455],\n",
              "       [ 1000.        ],\n",
              "       [ 3666.66666667],\n",
              "       [ 9859.50413223],\n",
              "       [ 6825.        ],\n",
              "       [ 3340.17595308],\n",
              "       [12000.        ],\n",
              "       [ 2000.        ],\n",
              "       [ 3066.66666667],\n",
              "       [ 9117.64705882],\n",
              "       [ 7432.43243243],\n",
              "       [14500.        ],\n",
              "       [ 5131.42857143],\n",
              "       [14310.55900621],\n",
              "       [ 2000.        ],\n",
              "       [ 1000.        ],\n",
              "       [ 4986.41304348],\n",
              "       [ 8166.66666667],\n",
              "       [ 3316.4556962 ],\n",
              "       [ 2000.        ],\n",
              "       [ 5117.64705882],\n",
              "       [ 7975.52447552],\n",
              "       [14361.53846154],\n",
              "       [13404.76190476],\n",
              "       [ 4000.        ],\n",
              "       [11000.        ],\n",
              "       [11127.27272727],\n",
              "       [ 2464.78873239],\n",
              "       [ 2000.        ],\n",
              "       [16322.76119403],\n",
              "       [10000.        ],\n",
              "       [ 1000.        ],\n",
              "       [ 5333.33333333],\n",
              "       [ 3000.        ],\n",
              "       [ 4075.56675063],\n",
              "       [10154.54545455],\n",
              "       [13333.33333333],\n",
              "       [15000.        ],\n",
              "       [ 7000.        ],\n",
              "       [ 2400.        ],\n",
              "       [16000.        ],\n",
              "       [ 9000.        ],\n",
              "       [ 9218.75      ],\n",
              "       [10442.24422442],\n",
              "       [ 2000.        ],\n",
              "       [ 5986.30136986],\n",
              "       [39000.        ],\n",
              "       [ 4257.79036827],\n",
              "       [17006.7114094 ],\n",
              "       [ 9000.        ],\n",
              "       [ 6194.02985075],\n",
              "       [12093.02325581],\n",
              "       [ 3444.44444444],\n",
              "       [ 6846.15384615]])"
            ]
          },
          "metadata": {
            "tags": []
          },
          "execution_count": 77
        }
      ]
    },
    {
      "cell_type": "code",
      "metadata": {
        "id": "0zfT34k7nYSA"
      },
      "source": [
        ""
      ],
      "execution_count": null,
      "outputs": []
    },
    {
      "cell_type": "code",
      "metadata": {
        "id": "w-9TnIHH3WoF"
      },
      "source": [
        "s_nat_jog = df_fifa.groupby('nationality')['nationality'].count()"
      ],
      "execution_count": null,
      "outputs": []
    },
    {
      "cell_type": "code",
      "metadata": {
        "id": "v5R9azSK4P63",
        "outputId": "4c4ce5f1-4cdf-4fba-8d3f-cba0a80c77da",
        "colab": {
          "base_uri": "https://localhost:8080/",
          "height": 34
        }
      },
      "source": [
        "type(s_nat_wage)"
      ],
      "execution_count": null,
      "outputs": [
        {
          "output_type": "execute_result",
          "data": {
            "text/plain": [
              "pandas.core.series.Series"
            ]
          },
          "metadata": {
            "tags": []
          },
          "execution_count": 68
        }
      ]
    },
    {
      "cell_type": "code",
      "metadata": {
        "id": "z4IriDOV4Hiw"
      },
      "source": [
        "df_nat_wage = pd.DataFrame({'nationality':s_nat_wage.index,'wage':s_nat_wage.values, 'num_jogadores':s_nat_jog.values})"
      ],
      "execution_count": null,
      "outputs": []
    },
    {
      "cell_type": "code",
      "metadata": {
        "id": "a8tXUZJucpBJ"
      },
      "source": [
        "df_nat_wage['Média Salário por país'] = df_nat_wage['wage']/df_nat_wage['num_jogadores']"
      ],
      "execution_count": null,
      "outputs": []
    },
    {
      "cell_type": "code",
      "metadata": {
        "id": "HElufcpnGAaw"
      },
      "source": [
        "df_nat_wage.info()"
      ],
      "execution_count": null,
      "outputs": []
    },
    {
      "cell_type": "code",
      "metadata": {
        "id": "O8ehQai9G43C",
        "outputId": "17c28498-f712-49ad-e3ea-3066999cc503",
        "colab": {
          "base_uri": "https://localhost:8080/",
          "height": 419
        }
      },
      "source": [
        "# Resposta do Exercício 9.11\n",
        "# df.sort_values(by=['variável'], ascending= False, inplace= True, ignore_index= True)\n",
        "\n",
        "df_nat_wage.sort_values(by=['Média Salário por país'], ascending= False)"
      ],
      "execution_count": null,
      "outputs": [
        {
          "output_type": "execute_result",
          "data": {
            "text/html": [
              "<div>\n",
              "<style scoped>\n",
              "    .dataframe tbody tr th:only-of-type {\n",
              "        vertical-align: middle;\n",
              "    }\n",
              "\n",
              "    .dataframe tbody tr th {\n",
              "        vertical-align: top;\n",
              "    }\n",
              "\n",
              "    .dataframe thead th {\n",
              "        text-align: right;\n",
              "    }\n",
              "</style>\n",
              "<table border=\"1\" class=\"dataframe\">\n",
              "  <thead>\n",
              "    <tr style=\"text-align: right;\">\n",
              "      <th></th>\n",
              "      <th>nationality</th>\n",
              "      <th>wage</th>\n",
              "      <th>num_jogadores</th>\n",
              "      <th>Média Salário por país</th>\n",
              "    </tr>\n",
              "  </thead>\n",
              "  <tbody>\n",
              "    <tr>\n",
              "      <th>42</th>\n",
              "      <td>Dominican Republic</td>\n",
              "      <td>142000.0</td>\n",
              "      <td>2</td>\n",
              "      <td>71000.000000</td>\n",
              "    </tr>\n",
              "    <tr>\n",
              "      <th>156</th>\n",
              "      <td>United Arab Emirates</td>\n",
              "      <td>39000.0</td>\n",
              "      <td>1</td>\n",
              "      <td>39000.000000</td>\n",
              "    </tr>\n",
              "    <tr>\n",
              "      <th>56</th>\n",
              "      <td>Gabon</td>\n",
              "      <td>404000.0</td>\n",
              "      <td>15</td>\n",
              "      <td>26933.333333</td>\n",
              "    </tr>\n",
              "    <tr>\n",
              "      <th>7</th>\n",
              "      <td>Armenia</td>\n",
              "      <td>220000.0</td>\n",
              "      <td>10</td>\n",
              "      <td>22000.000000</td>\n",
              "    </tr>\n",
              "    <tr>\n",
              "      <th>35</th>\n",
              "      <td>Croatia</td>\n",
              "      <td>2732000.0</td>\n",
              "      <td>126</td>\n",
              "      <td>21682.539683</td>\n",
              "    </tr>\n",
              "    <tr>\n",
              "      <th>...</th>\n",
              "      <td>...</td>\n",
              "      <td>...</td>\n",
              "      <td>...</td>\n",
              "      <td>...</td>\n",
              "    </tr>\n",
              "    <tr>\n",
              "      <th>14</th>\n",
              "      <td>Belize</td>\n",
              "      <td>1000.0</td>\n",
              "      <td>1</td>\n",
              "      <td>1000.000000</td>\n",
              "    </tr>\n",
              "    <tr>\n",
              "      <th>3</th>\n",
              "      <td>Andorra</td>\n",
              "      <td>1000.0</td>\n",
              "      <td>1</td>\n",
              "      <td>1000.000000</td>\n",
              "    </tr>\n",
              "    <tr>\n",
              "      <th>82</th>\n",
              "      <td>Jordan</td>\n",
              "      <td>1000.0</td>\n",
              "      <td>1</td>\n",
              "      <td>1000.000000</td>\n",
              "    </tr>\n",
              "    <tr>\n",
              "      <th>17</th>\n",
              "      <td>Bolivia</td>\n",
              "      <td>25000.0</td>\n",
              "      <td>30</td>\n",
              "      <td>833.333333</td>\n",
              "    </tr>\n",
              "    <tr>\n",
              "      <th>73</th>\n",
              "      <td>India</td>\n",
              "      <td>0.0</td>\n",
              "      <td>30</td>\n",
              "      <td>0.000000</td>\n",
              "    </tr>\n",
              "  </tbody>\n",
              "</table>\n",
              "<p>164 rows × 4 columns</p>\n",
              "</div>"
            ],
            "text/plain": [
              "              nationality       wage  num_jogadores  Média Salário por país\n",
              "42     Dominican Republic   142000.0              2            71000.000000\n",
              "156  United Arab Emirates    39000.0              1            39000.000000\n",
              "56                  Gabon   404000.0             15            26933.333333\n",
              "7                 Armenia   220000.0             10            22000.000000\n",
              "35                Croatia  2732000.0            126            21682.539683\n",
              "..                    ...        ...            ...                     ...\n",
              "14                 Belize     1000.0              1             1000.000000\n",
              "3                 Andorra     1000.0              1             1000.000000\n",
              "82                 Jordan     1000.0              1             1000.000000\n",
              "17                Bolivia    25000.0             30              833.333333\n",
              "73                  India        0.0             30                0.000000\n",
              "\n",
              "[164 rows x 4 columns]"
            ]
          },
          "metadata": {
            "tags": []
          },
          "execution_count": 140
        }
      ]
    },
    {
      "cell_type": "code",
      "metadata": {
        "id": "60rQl516xsRf"
      },
      "source": [
        "# 12. Qual a média de salário por clube?\n",
        "s_club_wage = df_fifa.groupby('club')['wage'].sum()"
      ],
      "execution_count": null,
      "outputs": []
    },
    {
      "cell_type": "code",
      "metadata": {
        "id": "5ZWFaWhtbdYe"
      },
      "source": [
        "s_club_jog = df_Fifa.groupby('club')['club'].count()"
      ],
      "execution_count": null,
      "outputs": []
    },
    {
      "cell_type": "code",
      "metadata": {
        "id": "JDwVCjPydNyV"
      },
      "source": [
        "df_club_md_sal = pd.DataFrame({'club':s_club_jog.index,'Somatória Wage':s_club_wage.values,\"Núm Jogadores\":s_club_jog.values})"
      ],
      "execution_count": null,
      "outputs": []
    },
    {
      "cell_type": "code",
      "metadata": {
        "id": "brpajywTfxg_"
      },
      "source": [
        "df_club_md_sal['Média Salário por Clube'] = round(df_club_md_sal['Somatória Wage']/df_club_md_sal['Núm Jogadores'],2)"
      ],
      "execution_count": null,
      "outputs": []
    },
    {
      "cell_type": "code",
      "metadata": {
        "id": "96TkbAQogQ7w",
        "outputId": "5ec841f4-d170-42c1-d247-5988a4fcf04b",
        "colab": {
          "base_uri": "https://localhost:8080/",
          "height": 419
        }
      },
      "source": [
        "df_club_md_sal.sort_values(by=['Média Salário por Clube'], ascending= False)"
      ],
      "execution_count": null,
      "outputs": [
        {
          "output_type": "execute_result",
          "data": {
            "text/html": [
              "<div>\n",
              "<style scoped>\n",
              "    .dataframe tbody tr th:only-of-type {\n",
              "        vertical-align: middle;\n",
              "    }\n",
              "\n",
              "    .dataframe tbody tr th {\n",
              "        vertical-align: top;\n",
              "    }\n",
              "\n",
              "    .dataframe thead th {\n",
              "        text-align: right;\n",
              "    }\n",
              "</style>\n",
              "<table border=\"1\" class=\"dataframe\">\n",
              "  <thead>\n",
              "    <tr style=\"text-align: right;\">\n",
              "      <th></th>\n",
              "      <th>club</th>\n",
              "      <th>Somatória Wage</th>\n",
              "      <th>Núm Jogadores</th>\n",
              "      <th>Média Salário por Clube</th>\n",
              "    </tr>\n",
              "  </thead>\n",
              "  <tbody>\n",
              "    <tr>\n",
              "      <th>470</th>\n",
              "      <td>Real Madrid</td>\n",
              "      <td>5017000.0</td>\n",
              "      <td>33</td>\n",
              "      <td>152030.30</td>\n",
              "    </tr>\n",
              "    <tr>\n",
              "      <th>212</th>\n",
              "      <td>FC Barcelona</td>\n",
              "      <td>4837000.0</td>\n",
              "      <td>33</td>\n",
              "      <td>146575.76</td>\n",
              "    </tr>\n",
              "    <tr>\n",
              "      <th>326</th>\n",
              "      <td>Juventus</td>\n",
              "      <td>3292000.0</td>\n",
              "      <td>25</td>\n",
              "      <td>131680.00</td>\n",
              "    </tr>\n",
              "    <tr>\n",
              "      <th>374</th>\n",
              "      <td>Manchester City</td>\n",
              "      <td>3741000.0</td>\n",
              "      <td>33</td>\n",
              "      <td>113363.64</td>\n",
              "    </tr>\n",
              "    <tr>\n",
              "      <th>375</th>\n",
              "      <td>Manchester United</td>\n",
              "      <td>3391000.0</td>\n",
              "      <td>33</td>\n",
              "      <td>102757.58</td>\n",
              "    </tr>\n",
              "    <tr>\n",
              "      <th>...</th>\n",
              "      <td>...</td>\n",
              "      <td>...</td>\n",
              "      <td>...</td>\n",
              "      <td>...</td>\n",
              "    </tr>\n",
              "    <tr>\n",
              "      <th>427</th>\n",
              "      <td>PFC CSKA Moscow</td>\n",
              "      <td>28000.0</td>\n",
              "      <td>28</td>\n",
              "      <td>1000.00</td>\n",
              "    </tr>\n",
              "    <tr>\n",
              "      <th>92</th>\n",
              "      <td>Bray Wanderers</td>\n",
              "      <td>23000.0</td>\n",
              "      <td>23</td>\n",
              "      <td>1000.00</td>\n",
              "    </tr>\n",
              "    <tr>\n",
              "      <th>305</th>\n",
              "      <td>IF Brommapojkarna</td>\n",
              "      <td>26000.0</td>\n",
              "      <td>26</td>\n",
              "      <td>1000.00</td>\n",
              "    </tr>\n",
              "    <tr>\n",
              "      <th>90</th>\n",
              "      <td>Boyacá Chicó FC</td>\n",
              "      <td>28000.0</td>\n",
              "      <td>28</td>\n",
              "      <td>1000.00</td>\n",
              "    </tr>\n",
              "    <tr>\n",
              "      <th>501</th>\n",
              "      <td>SK Slavia Praha</td>\n",
              "      <td>28000.0</td>\n",
              "      <td>28</td>\n",
              "      <td>1000.00</td>\n",
              "    </tr>\n",
              "  </tbody>\n",
              "</table>\n",
              "<p>651 rows × 4 columns</p>\n",
              "</div>"
            ],
            "text/plain": [
              "                  club  Somatória Wage  Núm Jogadores  Média Salário por Clube\n",
              "470        Real Madrid       5017000.0             33                152030.30\n",
              "212       FC Barcelona       4837000.0             33                146575.76\n",
              "326           Juventus       3292000.0             25                131680.00\n",
              "374    Manchester City       3741000.0             33                113363.64\n",
              "375  Manchester United       3391000.0             33                102757.58\n",
              "..                 ...             ...            ...                      ...\n",
              "427    PFC CSKA Moscow         28000.0             28                  1000.00\n",
              "92      Bray Wanderers         23000.0             23                  1000.00\n",
              "305  IF Brommapojkarna         26000.0             26                  1000.00\n",
              "90     Boyacá Chicó FC         28000.0             28                  1000.00\n",
              "501    SK Slavia Praha         28000.0             28                  1000.00\n",
              "\n",
              "[651 rows x 4 columns]"
            ]
          },
          "metadata": {
            "tags": []
          },
          "execution_count": 145
        }
      ]
    },
    {
      "cell_type": "code",
      "metadata": {
        "id": "TM7kxQygxsp5"
      },
      "source": [
        "# 13. Qual a média de salário por idade?"
      ],
      "execution_count": null,
      "outputs": []
    },
    {
      "cell_type": "code",
      "metadata": {
        "id": "fWBOmhtsg2HW"
      },
      "source": [
        "s_age_age = df_fifa.groupby('age')['age'].count()"
      ],
      "execution_count": null,
      "outputs": []
    },
    {
      "cell_type": "code",
      "metadata": {
        "id": "oDmqgs1WhRac"
      },
      "source": [
        "s_age_wage = df_fifa.groupby('age')['wage'].sum()"
      ],
      "execution_count": null,
      "outputs": []
    },
    {
      "cell_type": "code",
      "metadata": {
        "id": "taTtYUFrhTCC"
      },
      "source": [
        "df_age_md_wage = pd.DataFrame({'age':s_age_age.index, 'Somatória Wage': s_age_wage.values})"
      ],
      "execution_count": null,
      "outputs": []
    },
    {
      "cell_type": "code",
      "metadata": {
        "id": "GehlsMK3iY93"
      },
      "source": [
        "df_age_md_wage['Média salarial por idade'] = round(df_age_md_wage['Somatória Wage']/df_age_md_wage['age'],2)"
      ],
      "execution_count": null,
      "outputs": []
    },
    {
      "cell_type": "code",
      "metadata": {
        "id": "fKGqZ459itRU",
        "outputId": "37a058e6-7072-43cf-943e-b9d8b96c7285",
        "colab": {
          "base_uri": "https://localhost:8080/",
          "height": 948
        }
      },
      "source": [
        "df_age_md_wage.sort_values(by=['Média salarial por idade'], ascending= False)"
      ],
      "execution_count": null,
      "outputs": [
        {
          "output_type": "execute_result",
          "data": {
            "text/html": [
              "<div>\n",
              "<style scoped>\n",
              "    .dataframe tbody tr th:only-of-type {\n",
              "        vertical-align: middle;\n",
              "    }\n",
              "\n",
              "    .dataframe tbody tr th {\n",
              "        vertical-align: top;\n",
              "    }\n",
              "\n",
              "    .dataframe thead th {\n",
              "        text-align: right;\n",
              "    }\n",
              "</style>\n",
              "<table border=\"1\" class=\"dataframe\">\n",
              "  <thead>\n",
              "    <tr style=\"text-align: right;\">\n",
              "      <th></th>\n",
              "      <th>age</th>\n",
              "      <th>Somatória Wage</th>\n",
              "      <th>Média salarial por idade</th>\n",
              "    </tr>\n",
              "  </thead>\n",
              "  <tbody>\n",
              "    <tr>\n",
              "      <th>10</th>\n",
              "      <td>26</td>\n",
              "      <td>17863000.0</td>\n",
              "      <td>687038.46</td>\n",
              "    </tr>\n",
              "    <tr>\n",
              "      <th>9</th>\n",
              "      <td>25</td>\n",
              "      <td>14858000.0</td>\n",
              "      <td>594320.00</td>\n",
              "    </tr>\n",
              "    <tr>\n",
              "      <th>11</th>\n",
              "      <td>27</td>\n",
              "      <td>15793000.0</td>\n",
              "      <td>584925.93</td>\n",
              "    </tr>\n",
              "    <tr>\n",
              "      <th>8</th>\n",
              "      <td>24</td>\n",
              "      <td>13441000.0</td>\n",
              "      <td>560041.67</td>\n",
              "    </tr>\n",
              "    <tr>\n",
              "      <th>12</th>\n",
              "      <td>28</td>\n",
              "      <td>15323000.0</td>\n",
              "      <td>547250.00</td>\n",
              "    </tr>\n",
              "    <tr>\n",
              "      <th>7</th>\n",
              "      <td>23</td>\n",
              "      <td>11504000.0</td>\n",
              "      <td>500173.91</td>\n",
              "    </tr>\n",
              "    <tr>\n",
              "      <th>6</th>\n",
              "      <td>22</td>\n",
              "      <td>10577000.0</td>\n",
              "      <td>480772.73</td>\n",
              "    </tr>\n",
              "    <tr>\n",
              "      <th>13</th>\n",
              "      <td>29</td>\n",
              "      <td>13481000.0</td>\n",
              "      <td>464862.07</td>\n",
              "    </tr>\n",
              "    <tr>\n",
              "      <th>5</th>\n",
              "      <td>21</td>\n",
              "      <td>8782000.0</td>\n",
              "      <td>418190.48</td>\n",
              "    </tr>\n",
              "    <tr>\n",
              "      <th>14</th>\n",
              "      <td>30</td>\n",
              "      <td>12342000.0</td>\n",
              "      <td>411400.00</td>\n",
              "    </tr>\n",
              "    <tr>\n",
              "      <th>15</th>\n",
              "      <td>31</td>\n",
              "      <td>11296000.0</td>\n",
              "      <td>364387.10</td>\n",
              "    </tr>\n",
              "    <tr>\n",
              "      <th>4</th>\n",
              "      <td>20</td>\n",
              "      <td>5897000.0</td>\n",
              "      <td>294850.00</td>\n",
              "    </tr>\n",
              "    <tr>\n",
              "      <th>16</th>\n",
              "      <td>32</td>\n",
              "      <td>8062000.0</td>\n",
              "      <td>251937.50</td>\n",
              "    </tr>\n",
              "    <tr>\n",
              "      <th>17</th>\n",
              "      <td>33</td>\n",
              "      <td>5356000.0</td>\n",
              "      <td>162303.03</td>\n",
              "    </tr>\n",
              "    <tr>\n",
              "      <th>3</th>\n",
              "      <td>19</td>\n",
              "      <td>2823000.0</td>\n",
              "      <td>148578.95</td>\n",
              "    </tr>\n",
              "    <tr>\n",
              "      <th>18</th>\n",
              "      <td>34</td>\n",
              "      <td>4368000.0</td>\n",
              "      <td>128470.59</td>\n",
              "    </tr>\n",
              "    <tr>\n",
              "      <th>2</th>\n",
              "      <td>18</td>\n",
              "      <td>1632000.0</td>\n",
              "      <td>90666.67</td>\n",
              "    </tr>\n",
              "    <tr>\n",
              "      <th>19</th>\n",
              "      <td>35</td>\n",
              "      <td>1353000.0</td>\n",
              "      <td>38657.14</td>\n",
              "    </tr>\n",
              "    <tr>\n",
              "      <th>1</th>\n",
              "      <td>17</td>\n",
              "      <td>619000.0</td>\n",
              "      <td>36411.76</td>\n",
              "    </tr>\n",
              "    <tr>\n",
              "      <th>20</th>\n",
              "      <td>36</td>\n",
              "      <td>745000.0</td>\n",
              "      <td>20694.44</td>\n",
              "    </tr>\n",
              "    <tr>\n",
              "      <th>21</th>\n",
              "      <td>37</td>\n",
              "      <td>582000.0</td>\n",
              "      <td>15729.73</td>\n",
              "    </tr>\n",
              "    <tr>\n",
              "      <th>22</th>\n",
              "      <td>38</td>\n",
              "      <td>180000.0</td>\n",
              "      <td>4736.84</td>\n",
              "    </tr>\n",
              "    <tr>\n",
              "      <th>0</th>\n",
              "      <td>16</td>\n",
              "      <td>49000.0</td>\n",
              "      <td>3062.50</td>\n",
              "    </tr>\n",
              "    <tr>\n",
              "      <th>24</th>\n",
              "      <td>40</td>\n",
              "      <td>118000.0</td>\n",
              "      <td>2950.00</td>\n",
              "    </tr>\n",
              "    <tr>\n",
              "      <th>23</th>\n",
              "      <td>39</td>\n",
              "      <td>113000.0</td>\n",
              "      <td>2897.44</td>\n",
              "    </tr>\n",
              "    <tr>\n",
              "      <th>25</th>\n",
              "      <td>41</td>\n",
              "      <td>10000.0</td>\n",
              "      <td>243.90</td>\n",
              "    </tr>\n",
              "    <tr>\n",
              "      <th>28</th>\n",
              "      <td>45</td>\n",
              "      <td>8000.0</td>\n",
              "      <td>177.78</td>\n",
              "    </tr>\n",
              "    <tr>\n",
              "      <th>27</th>\n",
              "      <td>44</td>\n",
              "      <td>2000.0</td>\n",
              "      <td>45.45</td>\n",
              "    </tr>\n",
              "    <tr>\n",
              "      <th>26</th>\n",
              "      <td>42</td>\n",
              "      <td>1000.0</td>\n",
              "      <td>23.81</td>\n",
              "    </tr>\n",
              "  </tbody>\n",
              "</table>\n",
              "</div>"
            ],
            "text/plain": [
              "    age  Somatória Wage  Média salarial por idade\n",
              "10   26      17863000.0                 687038.46\n",
              "9    25      14858000.0                 594320.00\n",
              "11   27      15793000.0                 584925.93\n",
              "8    24      13441000.0                 560041.67\n",
              "12   28      15323000.0                 547250.00\n",
              "7    23      11504000.0                 500173.91\n",
              "6    22      10577000.0                 480772.73\n",
              "13   29      13481000.0                 464862.07\n",
              "5    21       8782000.0                 418190.48\n",
              "14   30      12342000.0                 411400.00\n",
              "15   31      11296000.0                 364387.10\n",
              "4    20       5897000.0                 294850.00\n",
              "16   32       8062000.0                 251937.50\n",
              "17   33       5356000.0                 162303.03\n",
              "3    19       2823000.0                 148578.95\n",
              "18   34       4368000.0                 128470.59\n",
              "2    18       1632000.0                  90666.67\n",
              "19   35       1353000.0                  38657.14\n",
              "1    17        619000.0                  36411.76\n",
              "20   36        745000.0                  20694.44\n",
              "21   37        582000.0                  15729.73\n",
              "22   38        180000.0                   4736.84\n",
              "0    16         49000.0                   3062.50\n",
              "24   40        118000.0                   2950.00\n",
              "23   39        113000.0                   2897.44\n",
              "25   41         10000.0                    243.90\n",
              "28   45          8000.0                    177.78\n",
              "27   44          2000.0                     45.45\n",
              "26   42          1000.0                     23.81"
            ]
          },
          "metadata": {
            "tags": []
          },
          "execution_count": 150
        }
      ]
    },
    {
      "cell_type": "code",
      "metadata": {
        "id": "Uvt9JabxxtP-",
        "outputId": "301152bc-667e-4de8-988b-9ab0444b7323",
        "colab": {
          "base_uri": "https://localhost:8080/",
          "height": 238
        }
      },
      "source": [
        "# 14. Quanto cada clube gasta com pagamento de salários?\n",
        "df_fifa.groupby('club')['wage'].sum()"
      ],
      "execution_count": null,
      "outputs": [
        {
          "output_type": "execute_result",
          "data": {
            "text/plain": [
              "club\n",
              " SSV Jahn Regensburg     123000.0\n",
              "1. FC Heidenheim 1846    125000.0\n",
              "1. FC Kaiserslautern      44000.0\n",
              "1. FC Köln               372000.0\n",
              "1. FC Magdeburg          127000.0\n",
              "                           ...   \n",
              "Zagłębie Sosnowiec        27000.0\n",
              "Çaykur Rizespor          193000.0\n",
              "Örebro SK                 40000.0\n",
              "Östersunds FK             45000.0\n",
              "Śląsk Wrocław             51000.0\n",
              "Name: wage, Length: 651, dtype: float64"
            ]
          },
          "metadata": {
            "tags": []
          },
          "execution_count": 151
        }
      ]
    },
    {
      "cell_type": "code",
      "metadata": {
        "id": "bJ-mB4Vaj2y5"
      },
      "source": [
        "df_14 = pd.DataFrame({'club':(df_fifa.groupby('club')['wage'].sum()).index, 'Somatória Wage':(df_fifa.groupby('club')['wage'].sum()).values})"
      ],
      "execution_count": null,
      "outputs": []
    },
    {
      "cell_type": "code",
      "metadata": {
        "id": "2G5AYRVOkLIK",
        "outputId": "edcf7a7f-3b8c-479c-cf6a-e7b31448ab1d",
        "colab": {
          "base_uri": "https://localhost:8080/",
          "height": 419
        }
      },
      "source": [
        "df_14.sort_values(by=['Somatória Wage'], ascending= False)"
      ],
      "execution_count": null,
      "outputs": [
        {
          "output_type": "execute_result",
          "data": {
            "text/html": [
              "<div>\n",
              "<style scoped>\n",
              "    .dataframe tbody tr th:only-of-type {\n",
              "        vertical-align: middle;\n",
              "    }\n",
              "\n",
              "    .dataframe tbody tr th {\n",
              "        vertical-align: top;\n",
              "    }\n",
              "\n",
              "    .dataframe thead th {\n",
              "        text-align: right;\n",
              "    }\n",
              "</style>\n",
              "<table border=\"1\" class=\"dataframe\">\n",
              "  <thead>\n",
              "    <tr style=\"text-align: right;\">\n",
              "      <th></th>\n",
              "      <th>club</th>\n",
              "      <th>Somatória Wage</th>\n",
              "    </tr>\n",
              "  </thead>\n",
              "  <tbody>\n",
              "    <tr>\n",
              "      <th>470</th>\n",
              "      <td>Real Madrid</td>\n",
              "      <td>5017000.0</td>\n",
              "    </tr>\n",
              "    <tr>\n",
              "      <th>212</th>\n",
              "      <td>FC Barcelona</td>\n",
              "      <td>4837000.0</td>\n",
              "    </tr>\n",
              "    <tr>\n",
              "      <th>374</th>\n",
              "      <td>Manchester City</td>\n",
              "      <td>3741000.0</td>\n",
              "    </tr>\n",
              "    <tr>\n",
              "      <th>375</th>\n",
              "      <td>Manchester United</td>\n",
              "      <td>3391000.0</td>\n",
              "    </tr>\n",
              "    <tr>\n",
              "      <th>326</th>\n",
              "      <td>Juventus</td>\n",
              "      <td>3292000.0</td>\n",
              "    </tr>\n",
              "    <tr>\n",
              "      <th>...</th>\n",
              "      <td>...</td>\n",
              "      <td>...</td>\n",
              "    </tr>\n",
              "    <tr>\n",
              "      <th>532</th>\n",
              "      <td>Shamrock Rovers</td>\n",
              "      <td>22000.0</td>\n",
              "    </tr>\n",
              "    <tr>\n",
              "      <th>177</th>\n",
              "      <td>Dalkurd FF</td>\n",
              "      <td>22000.0</td>\n",
              "    </tr>\n",
              "    <tr>\n",
              "      <th>361</th>\n",
              "      <td>Limerick FC</td>\n",
              "      <td>19000.0</td>\n",
              "    </tr>\n",
              "    <tr>\n",
              "      <th>188</th>\n",
              "      <td>Derry City</td>\n",
              "      <td>19000.0</td>\n",
              "    </tr>\n",
              "    <tr>\n",
              "      <th>543</th>\n",
              "      <td>Sligo Rovers</td>\n",
              "      <td>19000.0</td>\n",
              "    </tr>\n",
              "  </tbody>\n",
              "</table>\n",
              "<p>651 rows × 2 columns</p>\n",
              "</div>"
            ],
            "text/plain": [
              "                  club  Somatória Wage\n",
              "470        Real Madrid       5017000.0\n",
              "212       FC Barcelona       4837000.0\n",
              "374    Manchester City       3741000.0\n",
              "375  Manchester United       3391000.0\n",
              "326           Juventus       3292000.0\n",
              "..                 ...             ...\n",
              "532    Shamrock Rovers         22000.0\n",
              "177         Dalkurd FF         22000.0\n",
              "361        Limerick FC         19000.0\n",
              "188         Derry City         19000.0\n",
              "543       Sligo Rovers         19000.0\n",
              "\n",
              "[651 rows x 2 columns]"
            ]
          },
          "metadata": {
            "tags": []
          },
          "execution_count": 153
        }
      ]
    },
    {
      "cell_type": "code",
      "metadata": {
        "id": "2YXOMpZfjAMv"
      },
      "source": [
        "# 15. Quais são os insight (o que você consegue descobrir) em relação à variável 'Potential' (mede o potencial dos jogadores)?\n"
      ],
      "execution_count": null,
      "outputs": []
    },
    {
      "cell_type": "code",
      "metadata": {
        "id": "Ge7A_NlIRvmX"
      },
      "source": [
        "df_fifa.columns"
      ],
      "execution_count": null,
      "outputs": []
    },
    {
      "cell_type": "code",
      "metadata": {
        "id": "UH_yGM8WPZ6R"
      },
      "source": [
        "df_col_selec = df_fifa[['Name','Age','Overall','Potential','Club','Value','Wage','Contract Valid Until','Release Clause']]"
      ],
      "execution_count": null,
      "outputs": []
    },
    {
      "cell_type": "code",
      "metadata": {
        "id": "IfwtL0oiVIY2"
      },
      "source": [
        "df_teste = df_Fifa[['Age','Overall','Potential','Special',\n",
        "       'Preferred Foot', 'International Reputation', 'Weak Foot',\n",
        "       'Skill Moves', 'Work Rate', 'Position',\n",
        "        'Joined', 'Loaned From', 'Height', 'Weight', 'LS', 'ST', 'RS', 'LW', 'LF', 'CF', 'RF', 'RW',\n",
        "       'LAM', 'CAM', 'RAM', 'LM', 'LCM', 'CM', 'RCM', 'RM', 'LWB', 'LDM',\n",
        "       'CDM', 'RDM', 'RWB', 'LB', 'LCB', 'CB', 'RCB', 'RB', 'Crossing',\n",
        "       'Finishing', 'HeadingAccuracy', 'ShortPassing', 'Volleys', 'Dribbling',\n",
        "       'Curve', 'FKAccuracy', 'LongPassing', 'BallControl', 'Acceleration',\n",
        "       'SprintSpeed', 'Agility', 'Reactions', 'Balance', 'ShotPower',\n",
        "       'Jumping', 'Stamina', 'Strength', 'LongShots', 'Aggression',\n",
        "       'Interceptions', 'Positioning', 'Vision', 'Penalties', 'Composure',\n",
        "       'Marking', 'StandingTackle', 'SlidingTackle', 'GKDiving', 'GKHandling',\n",
        "       'GKKicking', 'GKPositioning', 'GKReflexes']]"
      ],
      "execution_count": null,
      "outputs": []
    },
    {
      "cell_type": "code",
      "metadata": {
        "id": "I8VFLBSbZ6Mh"
      },
      "source": [
        "df_teste.info()"
      ],
      "execution_count": null,
      "outputs": []
    },
    {
      "cell_type": "code",
      "metadata": {
        "id": "HvTXV7a7Z_8a"
      },
      "source": [
        "df_teste['Potential'] - df_teste['Overall']"
      ],
      "execution_count": null,
      "outputs": []
    },
    {
      "cell_type": "code",
      "metadata": {
        "id": "y3ND0xXFZN-Y"
      },
      "source": [
        "type(_56)"
      ],
      "execution_count": null,
      "outputs": []
    },
    {
      "cell_type": "code",
      "metadata": {
        "id": "kiCYSfO7cdYe"
      },
      "source": [
        "df_teste2 = pd.concat([df_teste,_56], axis = 1)"
      ],
      "execution_count": null,
      "outputs": []
    },
    {
      "cell_type": "code",
      "metadata": {
        "id": "PssURW6peB_J"
      },
      "source": [
        ""
      ],
      "execution_count": null,
      "outputs": []
    },
    {
      "cell_type": "code",
      "metadata": {
        "id": "vLKoSIQpdcrl"
      },
      "source": [
        " df1 = df_teste2[['Overall', 'Potential', 'DIF','International Reputation', 'Weak Foot',\n",
        "       'Skill Moves', 'Work Rate', 'Position', 'Crossing',\n",
        "       'Finishing', 'HeadingAccuracy', 'ShortPassing', 'Volleys', 'Dribbling',\n",
        "       'Curve', 'FKAccuracy', 'LongPassing', 'BallControl', 'Acceleration',\n",
        "       'SprintSpeed', 'Agility', 'Reactions', 'Balance', 'ShotPower',\n",
        "       'Jumping', 'Stamina', 'Strength', 'LongShots', 'Aggression',\n",
        "       'Interceptions', 'Positioning', 'Vision', 'Penalties', 'Composure',\n",
        "       'Marking', 'StandingTackle', 'SlidingTackle', 'GKDiving', 'GKHandling',\n",
        "       'GKKicking', 'GKPositioning', 'GKReflexes','LS', 'ST', 'RS', 'LW', 'LF', 'CF', 'RF', 'RW',\n",
        "       'LAM', 'CAM', 'RAM', 'LM', 'LCM', 'CM', 'RCM', 'RM', 'LWB', 'LDM',\n",
        "       'CDM', 'RDM', 'RWB', 'LB', 'LCB', 'CB', 'RCB', 'RB']]"
      ],
      "execution_count": null,
      "outputs": []
    },
    {
      "cell_type": "code",
      "metadata": {
        "id": "smqThS7OfdMw"
      },
      "source": [
        "df1.sort_values(by=['DIF'],ascending=False)"
      ],
      "execution_count": null,
      "outputs": []
    },
    {
      "cell_type": "code",
      "metadata": {
        "id": "Zc_UvIC-e9c6"
      },
      "source": [
        "# 16. Quais os insights em relação à variável overall (nota média do atleta) por idade, clube e país?"
      ],
      "execution_count": null,
      "outputs": []
    },
    {
      "cell_type": "code",
      "metadata": {
        "id": "m70Qeb_oe2uk"
      },
      "source": [
        "df_Fifa[['Overall','Age','Club','Nationality']]"
      ],
      "execution_count": null,
      "outputs": []
    },
    {
      "cell_type": "code",
      "metadata": {
        "id": "xt86xVP3bklv"
      },
      "source": [
        "# Perguntar pro Silvio Finotti\n",
        "# corrigir, incompleto\n",
        "# df_Fifa.groupby('club').agg({'overall':['mean','median,'sum']}).sort_values('overall',ascending=False.head(10))].sum()"
      ],
      "execution_count": null,
      "outputs": []
    },
    {
      "cell_type": "code",
      "metadata": {
        "id": "-2lws9Fme0X5"
      },
      "source": [
        "# 17. Quais são os melhores clubes se levarmos em consideração as variáveis Potential e Overall?\n",
        "\n",
        "df_17 = df_fifa[['club','potential','overall']]"
      ],
      "execution_count": null,
      "outputs": []
    },
    {
      "cell_type": "code",
      "metadata": {
        "id": "sOmoHhHCtAuD"
      },
      "source": [
        "df_fifa.groupby('club')['club'].count()\n",
        "df_fifa.groupby('club')['potential'].sum()\n",
        "df_fifa.groupby('club')['overall'].sum()\n",
        "\n",
        "df_17 = pd.DataFrame({'club':(df_fifa.groupby('club')['club'].count()).index,\n",
        "                      'Num Jogadores': (df_fifa.groupby('club')['club'].count()).values,\n",
        "                      'Potential_Somatória':(df_fifa.groupby('club')['potential'].sum()).values,\n",
        "                      'Overall_Somatória':(df_fifa.groupby('club')['overall'].sum()).values,\n",
        "                      'Potential_Média':((df_fifa.groupby('club')['potential'].sum()).values/(df_fifa.groupby('club')['club'].count()).values),\n",
        "                      'Overall_Média':((df_fifa.groupby('club')['overall'].sum()).values/(df_fifa.groupby('club')['club'].count()).values)\n",
        "                      })"
      ],
      "execution_count": null,
      "outputs": []
    },
    {
      "cell_type": "code",
      "metadata": {
        "id": "K6-omgx75kud",
        "outputId": "d446a154-59e9-4fd6-e5c0-e33d86353f46",
        "colab": {
          "base_uri": "https://localhost:8080/",
          "height": 309
        }
      },
      "source": [
        "# Resolução do Exercício 9, item 17: melhores clubes considerando Potential e Overall\n",
        "# 5 primeiros considerando 'Potential_Média'\n",
        "df_17.sort_values(by=['Potential_Média'], ascending=False).head()"
      ],
      "execution_count": null,
      "outputs": [
        {
          "output_type": "execute_result",
          "data": {
            "text/html": [
              "<div>\n",
              "<style scoped>\n",
              "    .dataframe tbody tr th:only-of-type {\n",
              "        vertical-align: middle;\n",
              "    }\n",
              "\n",
              "    .dataframe tbody tr th {\n",
              "        vertical-align: top;\n",
              "    }\n",
              "\n",
              "    .dataframe thead th {\n",
              "        text-align: right;\n",
              "    }\n",
              "</style>\n",
              "<table border=\"1\" class=\"dataframe\">\n",
              "  <thead>\n",
              "    <tr style=\"text-align: right;\">\n",
              "      <th></th>\n",
              "      <th>club</th>\n",
              "      <th>Num Jogadores</th>\n",
              "      <th>Potential_Somatória</th>\n",
              "      <th>Overall_Somatória</th>\n",
              "      <th>Potential_Média</th>\n",
              "      <th>Overall_Média</th>\n",
              "    </tr>\n",
              "  </thead>\n",
              "  <tbody>\n",
              "    <tr>\n",
              "      <th>326</th>\n",
              "      <td>Juventus</td>\n",
              "      <td>25</td>\n",
              "      <td>2138</td>\n",
              "      <td>2057</td>\n",
              "      <td>85.520000</td>\n",
              "      <td>82.280000</td>\n",
              "    </tr>\n",
              "    <tr>\n",
              "      <th>212</th>\n",
              "      <td>FC Barcelona</td>\n",
              "      <td>33</td>\n",
              "      <td>2815</td>\n",
              "      <td>2575</td>\n",
              "      <td>85.303030</td>\n",
              "      <td>78.030303</td>\n",
              "    </tr>\n",
              "    <tr>\n",
              "      <th>470</th>\n",
              "      <td>Real Madrid</td>\n",
              "      <td>33</td>\n",
              "      <td>2793</td>\n",
              "      <td>2582</td>\n",
              "      <td>84.636364</td>\n",
              "      <td>78.242424</td>\n",
              "    </tr>\n",
              "    <tr>\n",
              "      <th>374</th>\n",
              "      <td>Manchester City</td>\n",
              "      <td>33</td>\n",
              "      <td>2769</td>\n",
              "      <td>2532</td>\n",
              "      <td>83.909091</td>\n",
              "      <td>76.727273</td>\n",
              "    </tr>\n",
              "    <tr>\n",
              "      <th>214</th>\n",
              "      <td>FC Bayern München</td>\n",
              "      <td>29</td>\n",
              "      <td>2426</td>\n",
              "      <td>2233</td>\n",
              "      <td>83.655172</td>\n",
              "      <td>77.000000</td>\n",
              "    </tr>\n",
              "  </tbody>\n",
              "</table>\n",
              "</div>"
            ],
            "text/plain": [
              "                  club  Num Jogadores  ...  Potential_Média  Overall_Média\n",
              "326           Juventus             25  ...        85.520000      82.280000\n",
              "212       FC Barcelona             33  ...        85.303030      78.030303\n",
              "470        Real Madrid             33  ...        84.636364      78.242424\n",
              "374    Manchester City             33  ...        83.909091      76.727273\n",
              "214  FC Bayern München             29  ...        83.655172      77.000000\n",
              "\n",
              "[5 rows x 6 columns]"
            ]
          },
          "metadata": {
            "tags": []
          },
          "execution_count": 156
        }
      ]
    },
    {
      "cell_type": "code",
      "metadata": {
        "id": "Ctah_4zbSby4",
        "outputId": "672ea3e7-3095-4f16-f888-6711b4f3e19d",
        "colab": {
          "base_uri": "https://localhost:8080/",
          "height": 258
        }
      },
      "source": [
        "# 5 primeiros considerando 'Overall_Média'\n",
        "df_17.sort_values(by=['Overall_Média'], ascending=False).head()"
      ],
      "execution_count": null,
      "outputs": [
        {
          "output_type": "execute_result",
          "data": {
            "text/html": [
              "<div>\n",
              "<style scoped>\n",
              "    .dataframe tbody tr th:only-of-type {\n",
              "        vertical-align: middle;\n",
              "    }\n",
              "\n",
              "    .dataframe tbody tr th {\n",
              "        vertical-align: top;\n",
              "    }\n",
              "\n",
              "    .dataframe thead th {\n",
              "        text-align: right;\n",
              "    }\n",
              "</style>\n",
              "<table border=\"1\" class=\"dataframe\">\n",
              "  <thead>\n",
              "    <tr style=\"text-align: right;\">\n",
              "      <th></th>\n",
              "      <th>club</th>\n",
              "      <th>Num Jogadores</th>\n",
              "      <th>Potential_Somatória</th>\n",
              "      <th>Overall_Somatória</th>\n",
              "      <th>Potential_Média</th>\n",
              "      <th>Overall_Média</th>\n",
              "    </tr>\n",
              "  </thead>\n",
              "  <tbody>\n",
              "    <tr>\n",
              "      <th>326</th>\n",
              "      <td>Juventus</td>\n",
              "      <td>25</td>\n",
              "      <td>2138</td>\n",
              "      <td>2057</td>\n",
              "      <td>85.520000</td>\n",
              "      <td>82.280000</td>\n",
              "    </tr>\n",
              "    <tr>\n",
              "      <th>398</th>\n",
              "      <td>Napoli</td>\n",
              "      <td>25</td>\n",
              "      <td>2086</td>\n",
              "      <td>2000</td>\n",
              "      <td>83.440000</td>\n",
              "      <td>80.000000</td>\n",
              "    </tr>\n",
              "    <tr>\n",
              "      <th>315</th>\n",
              "      <td>Inter</td>\n",
              "      <td>24</td>\n",
              "      <td>1962</td>\n",
              "      <td>1914</td>\n",
              "      <td>81.750000</td>\n",
              "      <td>79.750000</td>\n",
              "    </tr>\n",
              "    <tr>\n",
              "      <th>470</th>\n",
              "      <td>Real Madrid</td>\n",
              "      <td>33</td>\n",
              "      <td>2793</td>\n",
              "      <td>2582</td>\n",
              "      <td>84.636364</td>\n",
              "      <td>78.242424</td>\n",
              "    </tr>\n",
              "    <tr>\n",
              "      <th>382</th>\n",
              "      <td>Milan</td>\n",
              "      <td>27</td>\n",
              "      <td>2229</td>\n",
              "      <td>2108</td>\n",
              "      <td>82.555556</td>\n",
              "      <td>78.074074</td>\n",
              "    </tr>\n",
              "  </tbody>\n",
              "</table>\n",
              "</div>"
            ],
            "text/plain": [
              "            club  Num Jogadores  ...  Potential_Média  Overall_Média\n",
              "326     Juventus             25  ...        85.520000      82.280000\n",
              "398       Napoli             25  ...        83.440000      80.000000\n",
              "315        Inter             24  ...        81.750000      79.750000\n",
              "470  Real Madrid             33  ...        84.636364      78.242424\n",
              "382        Milan             27  ...        82.555556      78.074074\n",
              "\n",
              "[5 rows x 6 columns]"
            ]
          },
          "metadata": {
            "tags": []
          },
          "execution_count": 157
        }
      ]
    },
    {
      "cell_type": "code",
      "metadata": {
        "id": "scJcG10b5BdY"
      },
      "source": [
        "# 5 primeiros considerando média entre 'Potential Média' e 'Overall Média'\n",
        "df_17['Média_PM_OM'] = (df_17['Potential_Média'] + df_17['Overall_Média'])/2\n",
        "df_17.sort_values(by=['Média_PM_OM'], ascending=False).head()"
      ],
      "execution_count": null,
      "outputs": []
    },
    {
      "cell_type": "code",
      "metadata": {
        "id": "N2CqNzgJVWy4",
        "outputId": "45b4c136-a215-45bf-cef8-6894914dcb52",
        "colab": {
          "base_uri": "https://localhost:8080/",
          "height": 275
        }
      },
      "source": [
        "# 5 primeiros considerando Soma entre 'Potential Média' e 'Overall Média'\n",
        "df_17['Soma_PM_OM'] = (df_17['Potential_Média'] + df_17['Overall_Média'])\n",
        "df_17.sort_values(by=['Soma_PM_OM'], ascending=False).head()"
      ],
      "execution_count": null,
      "outputs": [
        {
          "output_type": "execute_result",
          "data": {
            "text/html": [
              "<div>\n",
              "<style scoped>\n",
              "    .dataframe tbody tr th:only-of-type {\n",
              "        vertical-align: middle;\n",
              "    }\n",
              "\n",
              "    .dataframe tbody tr th {\n",
              "        vertical-align: top;\n",
              "    }\n",
              "\n",
              "    .dataframe thead th {\n",
              "        text-align: right;\n",
              "    }\n",
              "</style>\n",
              "<table border=\"1\" class=\"dataframe\">\n",
              "  <thead>\n",
              "    <tr style=\"text-align: right;\">\n",
              "      <th></th>\n",
              "      <th>club</th>\n",
              "      <th>Num Jogadores</th>\n",
              "      <th>Potential_Somatória</th>\n",
              "      <th>Overall_Somatória</th>\n",
              "      <th>Potential_Média</th>\n",
              "      <th>Overall_Média</th>\n",
              "      <th>Soma_PM_OM</th>\n",
              "    </tr>\n",
              "  </thead>\n",
              "  <tbody>\n",
              "    <tr>\n",
              "      <th>326</th>\n",
              "      <td>Juventus</td>\n",
              "      <td>25</td>\n",
              "      <td>2138</td>\n",
              "      <td>2057</td>\n",
              "      <td>85.520000</td>\n",
              "      <td>82.280000</td>\n",
              "      <td>167.800000</td>\n",
              "    </tr>\n",
              "    <tr>\n",
              "      <th>398</th>\n",
              "      <td>Napoli</td>\n",
              "      <td>25</td>\n",
              "      <td>2086</td>\n",
              "      <td>2000</td>\n",
              "      <td>83.440000</td>\n",
              "      <td>80.000000</td>\n",
              "      <td>163.440000</td>\n",
              "    </tr>\n",
              "    <tr>\n",
              "      <th>212</th>\n",
              "      <td>FC Barcelona</td>\n",
              "      <td>33</td>\n",
              "      <td>2815</td>\n",
              "      <td>2575</td>\n",
              "      <td>85.303030</td>\n",
              "      <td>78.030303</td>\n",
              "      <td>163.333333</td>\n",
              "    </tr>\n",
              "    <tr>\n",
              "      <th>470</th>\n",
              "      <td>Real Madrid</td>\n",
              "      <td>33</td>\n",
              "      <td>2793</td>\n",
              "      <td>2582</td>\n",
              "      <td>84.636364</td>\n",
              "      <td>78.242424</td>\n",
              "      <td>162.878788</td>\n",
              "    </tr>\n",
              "    <tr>\n",
              "      <th>315</th>\n",
              "      <td>Inter</td>\n",
              "      <td>24</td>\n",
              "      <td>1962</td>\n",
              "      <td>1914</td>\n",
              "      <td>81.750000</td>\n",
              "      <td>79.750000</td>\n",
              "      <td>161.500000</td>\n",
              "    </tr>\n",
              "  </tbody>\n",
              "</table>\n",
              "</div>"
            ],
            "text/plain": [
              "             club  Num Jogadores  ...  Overall_Média  Soma_PM_OM\n",
              "326      Juventus             25  ...      82.280000  167.800000\n",
              "398        Napoli             25  ...      80.000000  163.440000\n",
              "212  FC Barcelona             33  ...      78.030303  163.333333\n",
              "470   Real Madrid             33  ...      78.242424  162.878788\n",
              "315         Inter             24  ...      79.750000  161.500000\n",
              "\n",
              "[5 rows x 7 columns]"
            ]
          },
          "metadata": {
            "tags": []
          },
          "execution_count": 158
        }
      ]
    },
    {
      "cell_type": "code",
      "metadata": {
        "id": "ZiwD-8-JerXz"
      },
      "source": [
        "# 18. Apresente o ranking dos goleiros (use a variável/atributo 'Preferred Positions') por Potencial, Overall. Estamos à procura de 'GK'.\n",
        "\n",
        "df_fifa.info()"
      ],
      "execution_count": null,
      "outputs": []
    },
    {
      "cell_type": "code",
      "metadata": {
        "id": "G4oWwdIKdLlb",
        "outputId": "39ef2a28-691b-42ec-e348-4b0c8f76b0b8",
        "colab": {
          "base_uri": "https://localhost:8080/",
          "height": 450
        }
      },
      "source": [
        "df_fifa[['position','positioning','gkpositioning']]"
      ],
      "execution_count": null,
      "outputs": [
        {
          "output_type": "execute_result",
          "data": {
            "text/html": [
              "<div>\n",
              "<style scoped>\n",
              "    .dataframe tbody tr th:only-of-type {\n",
              "        vertical-align: middle;\n",
              "    }\n",
              "\n",
              "    .dataframe tbody tr th {\n",
              "        vertical-align: top;\n",
              "    }\n",
              "\n",
              "    .dataframe thead th {\n",
              "        text-align: right;\n",
              "    }\n",
              "</style>\n",
              "<table border=\"1\" class=\"dataframe\">\n",
              "  <thead>\n",
              "    <tr style=\"text-align: right;\">\n",
              "      <th></th>\n",
              "      <th>position</th>\n",
              "      <th>positioning</th>\n",
              "      <th>gkpositioning</th>\n",
              "    </tr>\n",
              "    <tr>\n",
              "      <th>ID</th>\n",
              "      <th></th>\n",
              "      <th></th>\n",
              "      <th></th>\n",
              "    </tr>\n",
              "  </thead>\n",
              "  <tbody>\n",
              "    <tr>\n",
              "      <th>158023</th>\n",
              "      <td>RF</td>\n",
              "      <td>94.0</td>\n",
              "      <td>14.0</td>\n",
              "    </tr>\n",
              "    <tr>\n",
              "      <th>20801</th>\n",
              "      <td>ST</td>\n",
              "      <td>95.0</td>\n",
              "      <td>14.0</td>\n",
              "    </tr>\n",
              "    <tr>\n",
              "      <th>190871</th>\n",
              "      <td>LW</td>\n",
              "      <td>89.0</td>\n",
              "      <td>15.0</td>\n",
              "    </tr>\n",
              "    <tr>\n",
              "      <th>193080</th>\n",
              "      <td>GK</td>\n",
              "      <td>12.0</td>\n",
              "      <td>88.0</td>\n",
              "    </tr>\n",
              "    <tr>\n",
              "      <th>192985</th>\n",
              "      <td>RCM</td>\n",
              "      <td>87.0</td>\n",
              "      <td>10.0</td>\n",
              "    </tr>\n",
              "    <tr>\n",
              "      <th>...</th>\n",
              "      <td>...</td>\n",
              "      <td>...</td>\n",
              "      <td>...</td>\n",
              "    </tr>\n",
              "    <tr>\n",
              "      <th>238813</th>\n",
              "      <td>CM</td>\n",
              "      <td>39.0</td>\n",
              "      <td>8.0</td>\n",
              "    </tr>\n",
              "    <tr>\n",
              "      <th>243165</th>\n",
              "      <td>ST</td>\n",
              "      <td>46.0</td>\n",
              "      <td>5.0</td>\n",
              "    </tr>\n",
              "    <tr>\n",
              "      <th>241638</th>\n",
              "      <td>ST</td>\n",
              "      <td>48.0</td>\n",
              "      <td>6.0</td>\n",
              "    </tr>\n",
              "    <tr>\n",
              "      <th>246268</th>\n",
              "      <td>RW</td>\n",
              "      <td>44.0</td>\n",
              "      <td>8.0</td>\n",
              "    </tr>\n",
              "    <tr>\n",
              "      <th>246269</th>\n",
              "      <td>CM</td>\n",
              "      <td>34.0</td>\n",
              "      <td>12.0</td>\n",
              "    </tr>\n",
              "  </tbody>\n",
              "</table>\n",
              "<p>18207 rows × 3 columns</p>\n",
              "</div>"
            ],
            "text/plain": [
              "       position  positioning  gkpositioning\n",
              "ID                                         \n",
              "158023       RF         94.0           14.0\n",
              "20801        ST         95.0           14.0\n",
              "190871       LW         89.0           15.0\n",
              "193080       GK         12.0           88.0\n",
              "192985      RCM         87.0           10.0\n",
              "...         ...          ...            ...\n",
              "238813       CM         39.0            8.0\n",
              "243165       ST         46.0            5.0\n",
              "241638       ST         48.0            6.0\n",
              "246268       RW         44.0            8.0\n",
              "246269       CM         34.0           12.0\n",
              "\n",
              "[18207 rows x 3 columns]"
            ]
          },
          "metadata": {
            "tags": []
          },
          "execution_count": 159
        }
      ]
    },
    {
      "cell_type": "code",
      "metadata": {
        "id": "EPpUD9odcpT2"
      },
      "source": [
        "df_fifa['position'].unique()"
      ],
      "execution_count": null,
      "outputs": []
    },
    {
      "cell_type": "code",
      "metadata": {
        "id": "LBU91iGlaPnh",
        "outputId": "313cc835-a4d1-4120-c030-0d15ecf93a03",
        "colab": {
          "base_uri": "https://localhost:8080/",
          "height": 238
        }
      },
      "source": [
        "df_fifa['position'] == 'GK'"
      ],
      "execution_count": null,
      "outputs": [
        {
          "output_type": "execute_result",
          "data": {
            "text/plain": [
              "ID\n",
              "158023    False\n",
              "20801     False\n",
              "190871    False\n",
              "193080     True\n",
              "192985    False\n",
              "          ...  \n",
              "238813    False\n",
              "243165    False\n",
              "241638    False\n",
              "246268    False\n",
              "246269    False\n",
              "Name: position, Length: 18207, dtype: bool"
            ]
          },
          "metadata": {
            "tags": []
          },
          "execution_count": 161
        }
      ]
    },
    {
      "cell_type": "code",
      "metadata": {
        "id": "EU9drSSNuwDL"
      },
      "source": [
        "df_18 = df_fifa[(df_fifa['position'] == 'GK')]"
      ],
      "execution_count": null,
      "outputs": []
    },
    {
      "cell_type": "code",
      "metadata": {
        "id": "m-yp-tWIyXEE",
        "outputId": "f4ce6846-0f09-4cc1-da7f-35ec5aa40536",
        "colab": {
          "base_uri": "https://localhost:8080/",
          "height": 450
        }
      },
      "source": [
        "# Resposta do Exercício 9 , item 19: ranking dos goleiros ('Position' == 'GK') por Potencial, Overall\n",
        "df_18[['position','name','potential','overall']]"
      ],
      "execution_count": null,
      "outputs": [
        {
          "output_type": "execute_result",
          "data": {
            "text/html": [
              "<div>\n",
              "<style scoped>\n",
              "    .dataframe tbody tr th:only-of-type {\n",
              "        vertical-align: middle;\n",
              "    }\n",
              "\n",
              "    .dataframe tbody tr th {\n",
              "        vertical-align: top;\n",
              "    }\n",
              "\n",
              "    .dataframe thead th {\n",
              "        text-align: right;\n",
              "    }\n",
              "</style>\n",
              "<table border=\"1\" class=\"dataframe\">\n",
              "  <thead>\n",
              "    <tr style=\"text-align: right;\">\n",
              "      <th></th>\n",
              "      <th>position</th>\n",
              "      <th>name</th>\n",
              "      <th>potential</th>\n",
              "      <th>overall</th>\n",
              "    </tr>\n",
              "    <tr>\n",
              "      <th>ID</th>\n",
              "      <th></th>\n",
              "      <th></th>\n",
              "      <th></th>\n",
              "      <th></th>\n",
              "    </tr>\n",
              "  </thead>\n",
              "  <tbody>\n",
              "    <tr>\n",
              "      <th>193080</th>\n",
              "      <td>GK</td>\n",
              "      <td>De Gea</td>\n",
              "      <td>93</td>\n",
              "      <td>91</td>\n",
              "    </tr>\n",
              "    <tr>\n",
              "      <th>200389</th>\n",
              "      <td>GK</td>\n",
              "      <td>J. Oblak</td>\n",
              "      <td>93</td>\n",
              "      <td>90</td>\n",
              "    </tr>\n",
              "    <tr>\n",
              "      <th>192448</th>\n",
              "      <td>GK</td>\n",
              "      <td>M. ter Stegen</td>\n",
              "      <td>92</td>\n",
              "      <td>89</td>\n",
              "    </tr>\n",
              "    <tr>\n",
              "      <th>192119</th>\n",
              "      <td>GK</td>\n",
              "      <td>T. Courtois</td>\n",
              "      <td>90</td>\n",
              "      <td>89</td>\n",
              "    </tr>\n",
              "    <tr>\n",
              "      <th>167495</th>\n",
              "      <td>GK</td>\n",
              "      <td>M. Neuer</td>\n",
              "      <td>89</td>\n",
              "      <td>89</td>\n",
              "    </tr>\n",
              "    <tr>\n",
              "      <th>...</th>\n",
              "      <td>...</td>\n",
              "      <td>...</td>\n",
              "      <td>...</td>\n",
              "      <td>...</td>\n",
              "    </tr>\n",
              "    <tr>\n",
              "      <th>243158</th>\n",
              "      <td>GK</td>\n",
              "      <td>L. Wahlstedt</td>\n",
              "      <td>65</td>\n",
              "      <td>48</td>\n",
              "    </tr>\n",
              "    <tr>\n",
              "      <th>221669</th>\n",
              "      <td>GK</td>\n",
              "      <td>M. Hurst</td>\n",
              "      <td>58</td>\n",
              "      <td>48</td>\n",
              "    </tr>\n",
              "    <tr>\n",
              "      <th>53748</th>\n",
              "      <td>GK</td>\n",
              "      <td>K. Pilkington</td>\n",
              "      <td>48</td>\n",
              "      <td>48</td>\n",
              "    </tr>\n",
              "    <tr>\n",
              "      <th>245862</th>\n",
              "      <td>GK</td>\n",
              "      <td>J. Milli</td>\n",
              "      <td>65</td>\n",
              "      <td>47</td>\n",
              "    </tr>\n",
              "    <tr>\n",
              "      <th>242844</th>\n",
              "      <td>GK</td>\n",
              "      <td>J. Livesey</td>\n",
              "      <td>70</td>\n",
              "      <td>47</td>\n",
              "    </tr>\n",
              "  </tbody>\n",
              "</table>\n",
              "<p>2025 rows × 4 columns</p>\n",
              "</div>"
            ],
            "text/plain": [
              "       position           name  potential  overall\n",
              "ID                                                \n",
              "193080       GK         De Gea         93       91\n",
              "200389       GK       J. Oblak         93       90\n",
              "192448       GK  M. ter Stegen         92       89\n",
              "192119       GK    T. Courtois         90       89\n",
              "167495       GK       M. Neuer         89       89\n",
              "...         ...            ...        ...      ...\n",
              "243158       GK   L. Wahlstedt         65       48\n",
              "221669       GK       M. Hurst         58       48\n",
              "53748        GK  K. Pilkington         48       48\n",
              "245862       GK       J. Milli         65       47\n",
              "242844       GK     J. Livesey         70       47\n",
              "\n",
              "[2025 rows x 4 columns]"
            ]
          },
          "metadata": {
            "tags": []
          },
          "execution_count": 165
        }
      ]
    },
    {
      "cell_type": "code",
      "metadata": {
        "id": "TyYnAox9ZYZs"
      },
      "source": [
        "# 19. Quem são os jogadores mais rápidos (variável/atributo 'Sprint speed'=)?\n",
        "df_19 = df_fifa[['name','sprintspeed']]"
      ],
      "execution_count": 86,
      "outputs": []
    },
    {
      "cell_type": "code",
      "metadata": {
        "id": "zk0H-AXyzcG7",
        "outputId": "4cf2a3f9-ff51-45ee-8f4f-7b32da4d99a4",
        "colab": {
          "base_uri": "https://localhost:8080/",
          "height": 390
        }
      },
      "source": [
        "# Resposta do Exercício 9, item 20: jogadores mais rápidos (com maior valor de SprintSpeed)\n",
        "df_19.sort_values(by='sprintspeed', ascending= False).head(10)"
      ],
      "execution_count": 87,
      "outputs": [
        {
          "output_type": "execute_result",
          "data": {
            "text/html": [
              "<div>\n",
              "<style scoped>\n",
              "    .dataframe tbody tr th:only-of-type {\n",
              "        vertical-align: middle;\n",
              "    }\n",
              "\n",
              "    .dataframe tbody tr th {\n",
              "        vertical-align: top;\n",
              "    }\n",
              "\n",
              "    .dataframe thead th {\n",
              "        text-align: right;\n",
              "    }\n",
              "</style>\n",
              "<table border=\"1\" class=\"dataframe\">\n",
              "  <thead>\n",
              "    <tr style=\"text-align: right;\">\n",
              "      <th></th>\n",
              "      <th>name</th>\n",
              "      <th>sprintspeed</th>\n",
              "    </tr>\n",
              "    <tr>\n",
              "      <th>ID</th>\n",
              "      <th></th>\n",
              "      <th></th>\n",
              "    </tr>\n",
              "  </thead>\n",
              "  <tbody>\n",
              "    <tr>\n",
              "      <th>213956</th>\n",
              "      <td>Adama</td>\n",
              "      <td>96.0</td>\n",
              "    </tr>\n",
              "    <tr>\n",
              "      <th>222492</th>\n",
              "      <td>L. Sané</td>\n",
              "      <td>96.0</td>\n",
              "    </tr>\n",
              "    <tr>\n",
              "      <th>231747</th>\n",
              "      <td>K. Mbappé</td>\n",
              "      <td>96.0</td>\n",
              "    </tr>\n",
              "    <tr>\n",
              "      <th>216258</th>\n",
              "      <td>I. Bebou</td>\n",
              "      <td>95.0</td>\n",
              "    </tr>\n",
              "    <tr>\n",
              "      <th>173731</th>\n",
              "      <td>G. Bale</td>\n",
              "      <td>95.0</td>\n",
              "    </tr>\n",
              "    <tr>\n",
              "      <th>207444</th>\n",
              "      <td>J. Damm</td>\n",
              "      <td>95.0</td>\n",
              "    </tr>\n",
              "    <tr>\n",
              "      <th>188567</th>\n",
              "      <td>P. Aubameyang</td>\n",
              "      <td>95.0</td>\n",
              "    </tr>\n",
              "    <tr>\n",
              "      <th>206070</th>\n",
              "      <td>Maicon</td>\n",
              "      <td>95.0</td>\n",
              "    </tr>\n",
              "    <tr>\n",
              "      <th>182160</th>\n",
              "      <td>E. Knudtzon</td>\n",
              "      <td>94.0</td>\n",
              "    </tr>\n",
              "    <tr>\n",
              "      <th>225632</th>\n",
              "      <td>O. Burke</td>\n",
              "      <td>94.0</td>\n",
              "    </tr>\n",
              "  </tbody>\n",
              "</table>\n",
              "</div>"
            ],
            "text/plain": [
              "                 name  sprintspeed\n",
              "ID                                \n",
              "213956          Adama         96.0\n",
              "222492        L. Sané         96.0\n",
              "231747      K. Mbappé         96.0\n",
              "216258       I. Bebou         95.0\n",
              "173731        G. Bale         95.0\n",
              "207444        J. Damm         95.0\n",
              "188567  P. Aubameyang         95.0\n",
              "206070         Maicon         95.0\n",
              "182160    E. Knudtzon         94.0\n",
              "225632       O. Burke         94.0"
            ]
          },
          "metadata": {
            "tags": []
          },
          "execution_count": 87
        }
      ]
    },
    {
      "cell_type": "code",
      "metadata": {
        "id": "K00gpS6yZDkt"
      },
      "source": [
        "# 20. Quem são os melhores jogadores em termos de chute (força para chutar) (use a variável/atributo 'Shot power')?\n",
        "\n",
        "df_20 = df_fifa[['name', 'shotpower', 'overall', 'potential','wage','age','club']]"
      ],
      "execution_count": 88,
      "outputs": []
    },
    {
      "cell_type": "code",
      "metadata": {
        "id": "XgZvA4b7Yf3R",
        "outputId": "de436ba6-46ff-472d-b5f8-e3a87338e1c7",
        "colab": {
          "base_uri": "https://localhost:8080/",
          "height": 390
        }
      },
      "source": [
        "# Resposta do item 20: melhores jogadores em termos de ShotPower)\n",
        "df_20.sort_values(by= 'shotpower', ascending=False).head(10)"
      ],
      "execution_count": 93,
      "outputs": [
        {
          "output_type": "execute_result",
          "data": {
            "text/html": [
              "<div>\n",
              "<style scoped>\n",
              "    .dataframe tbody tr th:only-of-type {\n",
              "        vertical-align: middle;\n",
              "    }\n",
              "\n",
              "    .dataframe tbody tr th {\n",
              "        vertical-align: top;\n",
              "    }\n",
              "\n",
              "    .dataframe thead th {\n",
              "        text-align: right;\n",
              "    }\n",
              "</style>\n",
              "<table border=\"1\" class=\"dataframe\">\n",
              "  <thead>\n",
              "    <tr style=\"text-align: right;\">\n",
              "      <th></th>\n",
              "      <th>name</th>\n",
              "      <th>shotpower</th>\n",
              "      <th>overall</th>\n",
              "      <th>potential</th>\n",
              "      <th>wage</th>\n",
              "      <th>age</th>\n",
              "      <th>club</th>\n",
              "    </tr>\n",
              "    <tr>\n",
              "      <th>ID</th>\n",
              "      <th></th>\n",
              "      <th></th>\n",
              "      <th></th>\n",
              "      <th></th>\n",
              "      <th></th>\n",
              "      <th></th>\n",
              "      <th></th>\n",
              "    </tr>\n",
              "  </thead>\n",
              "  <tbody>\n",
              "    <tr>\n",
              "      <th>20801</th>\n",
              "      <td>Cristiano Ronaldo</td>\n",
              "      <td>95.0</td>\n",
              "      <td>94</td>\n",
              "      <td>94</td>\n",
              "      <td>405000.0</td>\n",
              "      <td>33</td>\n",
              "      <td>Juventus</td>\n",
              "    </tr>\n",
              "    <tr>\n",
              "      <th>189362</th>\n",
              "      <td>Hulk</td>\n",
              "      <td>94.0</td>\n",
              "      <td>81</td>\n",
              "      <td>81</td>\n",
              "      <td>25000.0</td>\n",
              "      <td>31</td>\n",
              "      <td>Shanghai SIPG FC</td>\n",
              "    </tr>\n",
              "    <tr>\n",
              "      <th>169051</th>\n",
              "      <td>F. Guarín</td>\n",
              "      <td>93.0</td>\n",
              "      <td>76</td>\n",
              "      <td>76</td>\n",
              "      <td>16000.0</td>\n",
              "      <td>32</td>\n",
              "      <td>Shanghai Greenland Shenhua FC</td>\n",
              "    </tr>\n",
              "    <tr>\n",
              "      <th>150516</th>\n",
              "      <td>L. Podolski</td>\n",
              "      <td>92.0</td>\n",
              "      <td>78</td>\n",
              "      <td>78</td>\n",
              "      <td>11000.0</td>\n",
              "      <td>33</td>\n",
              "      <td>Vissel Kobe</td>\n",
              "    </tr>\n",
              "    <tr>\n",
              "      <th>173731</th>\n",
              "      <td>G. Bale</td>\n",
              "      <td>92.0</td>\n",
              "      <td>88</td>\n",
              "      <td>88</td>\n",
              "      <td>355000.0</td>\n",
              "      <td>28</td>\n",
              "      <td>Real Madrid</td>\n",
              "    </tr>\n",
              "    <tr>\n",
              "      <th>171919</th>\n",
              "      <td>Naldo</td>\n",
              "      <td>92.0</td>\n",
              "      <td>85</td>\n",
              "      <td>85</td>\n",
              "      <td>38000.0</td>\n",
              "      <td>35</td>\n",
              "      <td>FC Schalke 04</td>\n",
              "    </tr>\n",
              "    <tr>\n",
              "      <th>192985</th>\n",
              "      <td>K. De Bruyne</td>\n",
              "      <td>91.0</td>\n",
              "      <td>91</td>\n",
              "      <td>92</td>\n",
              "      <td>355000.0</td>\n",
              "      <td>27</td>\n",
              "      <td>Manchester City</td>\n",
              "    </tr>\n",
              "    <tr>\n",
              "      <th>185103</th>\n",
              "      <td>A. Kolarov</td>\n",
              "      <td>91.0</td>\n",
              "      <td>82</td>\n",
              "      <td>82</td>\n",
              "      <td>73000.0</td>\n",
              "      <td>32</td>\n",
              "      <td>Roma</td>\n",
              "    </tr>\n",
              "    <tr>\n",
              "      <th>195864</th>\n",
              "      <td>P. Pogba</td>\n",
              "      <td>90.0</td>\n",
              "      <td>87</td>\n",
              "      <td>91</td>\n",
              "      <td>210000.0</td>\n",
              "      <td>25</td>\n",
              "      <td>Manchester United</td>\n",
              "    </tr>\n",
              "    <tr>\n",
              "      <th>214771</th>\n",
              "      <td>V. Ayala</td>\n",
              "      <td>90.0</td>\n",
              "      <td>72</td>\n",
              "      <td>72</td>\n",
              "      <td>11000.0</td>\n",
              "      <td>30</td>\n",
              "      <td>Gimnasia y Esgrima La Plata</td>\n",
              "    </tr>\n",
              "  </tbody>\n",
              "</table>\n",
              "</div>"
            ],
            "text/plain": [
              "                     name  shotpower  ...  age                           club\n",
              "ID                                    ...                                    \n",
              "20801   Cristiano Ronaldo       95.0  ...   33                       Juventus\n",
              "189362               Hulk       94.0  ...   31               Shanghai SIPG FC\n",
              "169051          F. Guarín       93.0  ...   32  Shanghai Greenland Shenhua FC\n",
              "150516        L. Podolski       92.0  ...   33                    Vissel Kobe\n",
              "173731            G. Bale       92.0  ...   28                    Real Madrid\n",
              "171919              Naldo       92.0  ...   35                  FC Schalke 04\n",
              "192985       K. De Bruyne       91.0  ...   27                Manchester City\n",
              "185103         A. Kolarov       91.0  ...   32                           Roma\n",
              "195864           P. Pogba       90.0  ...   25              Manchester United\n",
              "214771           V. Ayala       90.0  ...   30    Gimnasia y Esgrima La Plata\n",
              "\n",
              "[10 rows x 7 columns]"
            ]
          },
          "metadata": {
            "tags": []
          },
          "execution_count": 93
        }
      ]
    },
    {
      "cell_type": "code",
      "metadata": {
        "id": "t3HOtlZ4XstV"
      },
      "source": [
        "# 22. Quem são os outliers em termos de salário?\n",
        "df_wage = df_fifa[['name','wage']]\n",
        "df_wage.head()\n"
      ],
      "execution_count": null,
      "outputs": []
    },
    {
      "cell_type": "code",
      "metadata": {
        "id": "f2ygK6rOWrMg"
      },
      "source": [
        "s_wage = df_fifa['wage']      # series\n",
        "s_wage"
      ],
      "execution_count": null,
      "outputs": []
    },
    {
      "cell_type": "code",
      "metadata": {
        "id": "4kpjYRZI8gHe",
        "outputId": "fdbcf18a-55c4-4194-adb9-79dc8aab5e31",
        "colab": {
          "base_uri": "https://localhost:8080/",
          "height": 238
        }
      },
      "source": [
        "df_fifa.wage"
      ],
      "execution_count": 95,
      "outputs": [
        {
          "output_type": "execute_result",
          "data": {
            "text/plain": [
              "ID\n",
              "158023    565000.0\n",
              "20801     405000.0\n",
              "190871    290000.0\n",
              "193080    260000.0\n",
              "192985    355000.0\n",
              "            ...   \n",
              "238813      1000.0\n",
              "243165      1000.0\n",
              "241638      1000.0\n",
              "246268      1000.0\n",
              "246269      1000.0\n",
              "Name: wage, Length: 18207, dtype: float64"
            ]
          },
          "metadata": {
            "tags": []
          },
          "execution_count": 95
        }
      ]
    },
    {
      "cell_type": "code",
      "metadata": {
        "id": "mKtLdu5T8lam",
        "outputId": "4e46e7a8-5df2-4d51-d1b9-1e4bed3e32dd",
        "colab": {
          "base_uri": "https://localhost:8080/",
          "height": 34
        }
      },
      "source": [
        "type(_95)"
      ],
      "execution_count": 96,
      "outputs": [
        {
          "output_type": "execute_result",
          "data": {
            "text/plain": [
              "pandas.core.series.Series"
            ]
          },
          "metadata": {
            "tags": []
          },
          "execution_count": 96
        }
      ]
    },
    {
      "cell_type": "code",
      "metadata": {
        "id": "QOXTjIeE8nqs",
        "outputId": "c0b399fe-a56a-476a-c642-697748050801",
        "colab": {
          "base_uri": "https://localhost:8080/",
          "height": 170
        }
      },
      "source": [
        "_95.describe()"
      ],
      "execution_count": 99,
      "outputs": [
        {
          "output_type": "execute_result",
          "data": {
            "text/plain": [
              "count     18207.000000\n",
              "mean       9731.312133\n",
              "std       21999.290406\n",
              "min           0.000000\n",
              "25%        1000.000000\n",
              "50%        3000.000000\n",
              "75%        9000.000000\n",
              "max      565000.000000\n",
              "Name: wage, dtype: float64"
            ]
          },
          "metadata": {
            "tags": []
          },
          "execution_count": 99
        }
      ]
    },
    {
      "cell_type": "code",
      "metadata": {
        "id": "ekdvf2FbXjAR",
        "outputId": "5ccb6c66-cdd5-40f5-a224-acd4c2b7595a",
        "colab": {
          "base_uri": "https://localhost:8080/",
          "height": 34
        }
      },
      "source": [
        "type(df_fifa[['wage']])"
      ],
      "execution_count": null,
      "outputs": [
        {
          "output_type": "execute_result",
          "data": {
            "text/plain": [
              "pandas.core.frame.DataFrame"
            ]
          },
          "metadata": {
            "tags": []
          },
          "execution_count": 193
        }
      ]
    },
    {
      "cell_type": "code",
      "metadata": {
        "id": "kQG2-4qnYwx8",
        "outputId": "82836545-0365-4c01-d3e6-3ce65cb9b723",
        "colab": {
          "base_uri": "https://localhost:8080/",
          "height": 34
        }
      },
      "source": [
        "type(df_fifa['wage'])"
      ],
      "execution_count": null,
      "outputs": [
        {
          "output_type": "execute_result",
          "data": {
            "text/plain": [
              "pandas.core.series.Series"
            ]
          },
          "metadata": {
            "tags": []
          },
          "execution_count": 198
        }
      ]
    },
    {
      "cell_type": "code",
      "metadata": {
        "id": "R8yu0UCyXmOx",
        "outputId": "7c3b9801-8570-448a-a473-d339ecf8a4ed",
        "colab": {
          "base_uri": "https://localhost:8080/",
          "height": 34
        }
      },
      "source": [
        "y = list(df_fifa['wage'])\n",
        "type(y)"
      ],
      "execution_count": null,
      "outputs": [
        {
          "output_type": "execute_result",
          "data": {
            "text/plain": [
              "list"
            ]
          },
          "metadata": {
            "tags": []
          },
          "execution_count": 199
        }
      ]
    },
    {
      "cell_type": "code",
      "metadata": {
        "id": "hlXxAqhXYDW0"
      },
      "source": [
        "y"
      ],
      "execution_count": null,
      "outputs": []
    },
    {
      "cell_type": "code",
      "metadata": {
        "id": "kDsRH4s7YIQL",
        "outputId": "df3359f7-46ff-4cb3-e7eb-529f50c63992",
        "colab": {
          "base_uri": "https://localhost:8080/",
          "height": 35
        }
      },
      "source": [
        "f'Média: {np.mean(y)}; Mediana: {np.median(y)}; STD: {np.std(y)}'"
      ],
      "execution_count": null,
      "outputs": [
        {
          "output_type": "execute_result",
          "data": {
            "application/vnd.google.colaboratory.intrinsic+json": {
              "type": "string"
            },
            "text/plain": [
              "'Média: 9731.312132696215; Mediana: 3000.0; STD: 21998.686253949738'"
            ]
          },
          "metadata": {
            "tags": []
          },
          "execution_count": 201
        }
      ]
    },
    {
      "cell_type": "code",
      "metadata": {
        "id": "n0qhAPvKcAg_",
        "outputId": "f6a2f8af-f5e8-40cb-f824-3def3f41ed44",
        "colab": {
          "base_uri": "https://localhost:8080/",
          "height": 269
        }
      },
      "source": [
        "import seaborn as sns\n",
        "sns.boxplot(data = df_fifa, y='wage')"
      ],
      "execution_count": 103,
      "outputs": [
        {
          "output_type": "execute_result",
          "data": {
            "text/plain": [
              "<matplotlib.axes._subplots.AxesSubplot at 0x7f2559435748>"
            ]
          },
          "metadata": {
            "tags": []
          },
          "execution_count": 103
        },
        {
          "output_type": "display_data",
          "data": {
            "image/png": "[encoded data removed]",
            "text/plain": [
              "<Figure size 432x288 with 1 Axes>"
            ]
          },
          "metadata": {
            "tags": [],
            "needs_background": "light"
          }
        }
      ]
    },
    {
      "cell_type": "code",
      "metadata": {
        "id": "PqjYb8_WcPUz",
        "outputId": "fb53c1ae-9cb3-4ed1-822b-17381c5ae491",
        "colab": {
          "base_uri": "https://localhost:8080/",
          "height": 34
        }
      },
      "source": [
        "Q1 = np.percentile(y, q = [25])\n",
        "Q1"
      ],
      "execution_count": null,
      "outputs": [
        {
          "output_type": "execute_result",
          "data": {
            "text/plain": [
              "array([1000.])"
            ]
          },
          "metadata": {
            "tags": []
          },
          "execution_count": 203
        }
      ]
    },
    {
      "cell_type": "code",
      "metadata": {
        "id": "5tGwJqDGcXtF",
        "outputId": "509c915c-cc9b-4887-b944-26b334917130",
        "colab": {
          "base_uri": "https://localhost:8080/",
          "height": 34
        }
      },
      "source": [
        "Q3 = np.percentile(y, q = [75])\n",
        "Q3"
      ],
      "execution_count": null,
      "outputs": [
        {
          "output_type": "execute_result",
          "data": {
            "text/plain": [
              "array([9000.])"
            ]
          },
          "metadata": {
            "tags": []
          },
          "execution_count": 204
        }
      ]
    },
    {
      "cell_type": "code",
      "metadata": {
        "id": "WDgwTFqxcdo6",
        "outputId": "21673f0b-f51e-4c87-c278-21fe23629cd1",
        "colab": {
          "base_uri": "https://localhost:8080/",
          "height": 34
        }
      },
      "source": [
        "quartiles_wage = df_fifa['wage'].quantile([0.25,0.75]).to_list()\n",
        "\n",
        "q1_wage = quartiles_wage[0]\n",
        "q3_wage = quartiles_wage[1]\n",
        "q1_wage"
      ],
      "execution_count": null,
      "outputs": [
        {
          "output_type": "execute_result",
          "data": {
            "text/plain": [
              "1000.0"
            ]
          },
          "metadata": {
            "tags": []
          },
          "execution_count": 205
        }
      ]
    },
    {
      "cell_type": "code",
      "metadata": {
        "id": "DOpdfyIDcxmm",
        "outputId": "fb193f97-e969-4c23-81e2-eb9a97efb33d",
        "colab": {
          "base_uri": "https://localhost:8080/",
          "height": 34
        }
      },
      "source": [
        "q3_wage"
      ],
      "execution_count": null,
      "outputs": [
        {
          "output_type": "execute_result",
          "data": {
            "text/plain": [
              "9000.0"
            ]
          },
          "metadata": {
            "tags": []
          },
          "execution_count": 206
        }
      ]
    },
    {
      "cell_type": "code",
      "metadata": {
        "id": "FZlkPxirc0HN"
      },
      "source": [
        ""
      ],
      "execution_count": null,
      "outputs": []
    },
    {
      "cell_type": "code",
      "metadata": {
        "id": "-NnAJhdQZ0EB"
      },
      "source": [
        "import seaborn as sns\n",
        "sns.boxplot(y = a_wage)\n",
        "\n",
        "Q1 = np.percentile(a_wage, q = [25])\n",
        "Q3 = np.percentile(a_wage, q = [75])\n",
        "Q2 = np.percentile(a_wage, q = [50])\n",
        "p99 = np.percentile(a_wage, q = [99])\n",
        "p95 = np.percentile(a_wage, q = [95])\n",
        "\n",
        "quartiles_wage = df_fifa['wage'].quantile([0.25,0.75]).to_list()\n",
        "\n",
        "q1_wage = quartiles_wage[0]\n",
        "q3_wage = quartiles_wage[1]\n",
        "\n",
        "outlier_wage = q3_wage + (q3_wage - q1_wage) * 1.5\n",
        "\n",
        "# ouliers superiores\n",
        "df_fifa[df_fifa['wage'] > outlier_wage].sort_values(by='wage', ascending=False).head(5)"
      ],
      "execution_count": null,
      "outputs": []
    },
    {
      "cell_type": "code",
      "metadata": {
        "id": "MAFcffLaYEzi"
      },
      "source": [
        "f'Média: {np.mean(s_wage.values)}; Mediana: {np.median(s_wage.values)}; STD: {np.std(s_wage.values)}'\n",
        "a_wage.sum()/18207\n",
        "\n",
        "import seaborn as sns\n",
        "sns.boxplot(y = a_wage)\n",
        "\n",
        "Q1 = np.percentile(a_wage, q = [25])\n",
        "Q3 = np.percentile(a_wage, q = [75])\n",
        "Q2 = np.percentile(a_wage, q = [50])\n",
        "p99 = np.percentile(a_wage, q = [99])\n",
        "p95 = np.percentile(a_wage, q = [95])\n",
        "\n",
        "IQR = Q3-Q1 # Diferença interquartílica\n",
        "lim_inferior_outlier = Q1-1.5*IQR\n",
        "lim_superior_outlier = Q3+1.5*IQR\n",
        "\n",
        "f'Q1: {Q1}, Q3: {Q3}, Q2: {Q2}, lim_inferior_outlier: {lim_inferior_outlier}, lim_superior_outlier: {lim_superior_outlier}'\n"
      ],
      "execution_count": null,
      "outputs": []
    },
    {
      "cell_type": "code",
      "metadata": {
        "id": "N3HOKXsxWpOo",
        "outputId": "f35bf294-ea55-48a9-83e8-67337f743392",
        "colab": {
          "base_uri": "https://localhost:8080/",
          "height": 136
        }
      },
      "source": [
        "df_fifa[['wage']].values"
      ],
      "execution_count": null,
      "outputs": [
        {
          "output_type": "execute_result",
          "data": {
            "text/plain": [
              "array([[565000.],\n",
              "       [405000.],\n",
              "       [290000.],\n",
              "       ...,\n",
              "       [  1000.],\n",
              "       [  1000.],\n",
              "       [  1000.]])"
            ]
          },
          "metadata": {
            "tags": []
          },
          "execution_count": 188
        }
      ]
    },
    {
      "cell_type": "code",
      "metadata": {
        "id": "68FCs5PmXGvt",
        "outputId": "a240517a-0c74-4494-e91c-a6109be8ac10",
        "colab": {
          "base_uri": "https://localhost:8080/",
          "height": 34
        }
      },
      "source": [
        "(df_fifa[['wage']].values).dtype"
      ],
      "execution_count": null,
      "outputs": [
        {
          "output_type": "execute_result",
          "data": {
            "text/plain": [
              "dtype('float64')"
            ]
          },
          "metadata": {
            "tags": []
          },
          "execution_count": 192
        }
      ]
    },
    {
      "cell_type": "code",
      "metadata": {
        "id": "JJ6w7PbqXLUn"
      },
      "source": [
        ""
      ],
      "execution_count": null,
      "outputs": []
    },
    {
      "cell_type": "code",
      "metadata": {
        "id": "PiRb-NJxiqLY"
      },
      "source": [
        "df_wage = df_fifa[['name','wage']]\n",
        "\n",
        "s_wage = df_fifa['wage']\n",
        "a_wage = s_wage.values\n",
        "\n",
        "is_nan = np.isnan(a_wage)\n",
        "\n",
        "a_wage[is_nan]\n",
        "\n",
        "a_club = df_fifa['club']\n",
        "\n",
        "#f'Média: {np.mean(df_fifa[['wage']])}; Mediana: {np.median(df_fifa[['wage']])}; STD: {np.std(df_fifa[['wage']])}'\n",
        "f'Média: {np.mean(s_wage.values)}; Mediana: {np.median(s_wage.values)}; STD: {np.std(s_wage.values)}'\n",
        "a_wage.sum()/18207\n",
        "\n",
        "import seaborn as sns\n",
        "sns.boxplot(y = a_wage)\n",
        "\n",
        "Q1 = np.percentile(a_wage, q = [25])\n",
        "Q3 = np.percentile(a_wage, q = [75])\n",
        "Q2 = np.percentile(a_wage, q = [50])\n",
        "p99 = np.percentile(a_wage, q = [99])\n",
        "p95 = np.percentile(a_wage, q = [95])\n",
        "\n",
        "IQR = Q3-Q1 # Diferença interquartílica\n",
        "lim_inferior_outlier = Q1-1.5*IQR\n",
        "lim_superior_outlier = Q3+1.5*IQR\n",
        "\n",
        "f'Q1: {Q1}, Q3: {Q3}, Q2: {Q2}, lim_inferior_outlier: {lim_inferior_outlier}, lim_superior_outlier: {lim_superior_outlier}'\n"
      ],
      "execution_count": null,
      "outputs": []
    },
    {
      "cell_type": "code",
      "metadata": {
        "id": "Fz-GVFYO75x6"
      },
      "source": [
        "import seaborn as sns"
      ],
      "execution_count": 94,
      "outputs": []
    },
    {
      "cell_type": "code",
      "metadata": {
        "id": "Gb8jN6t98Bal"
      },
      "source": [
        "sns.bo"
      ],
      "execution_count": null,
      "outputs": []
    },
    {
      "cell_type": "code",
      "metadata": {
        "id": "p37_pD4CoZG8",
        "outputId": "c7cdb2f6-d67b-4f3e-d5f7-64e0568156d7",
        "colab": {
          "base_uri": "https://localhost:8080/",
          "height": 35
        }
      },
      "source": [
        "f'Média: {np.mean(s_wage.values)}; Mediana: {np.median(s_wage.values)}; STD: {np.std(s_wage.values)}'"
      ],
      "execution_count": null,
      "outputs": [
        {
          "output_type": "execute_result",
          "data": {
            "application/vnd.google.colaboratory.intrinsic+json": {
              "type": "string"
            },
            "text/plain": [
              "'Média: 9731.312132696215; Mediana: 3000.0; STD: 21998.686253949738'"
            ]
          },
          "metadata": {
            "tags": []
          },
          "execution_count": 24
        }
      ]
    },
    {
      "cell_type": "code",
      "metadata": {
        "id": "DgyH_KT6oeKd"
      },
      "source": [
        ""
      ],
      "execution_count": null,
      "outputs": []
    },
    {
      "cell_type": "code",
      "metadata": {
        "id": "rnV4XYpWkNGr",
        "outputId": "57f91f73-2530-467a-8816-e91ff0b87446",
        "colab": {
          "base_uri": "https://localhost:8080/",
          "height": 450
        }
      },
      "source": [
        "df_fifa[['wage']]>lim_superior_outlier"
      ],
      "execution_count": null,
      "outputs": [
        {
          "output_type": "execute_result",
          "data": {
            "text/html": [
              "<div>\n",
              "<style scoped>\n",
              "    .dataframe tbody tr th:only-of-type {\n",
              "        vertical-align: middle;\n",
              "    }\n",
              "\n",
              "    .dataframe tbody tr th {\n",
              "        vertical-align: top;\n",
              "    }\n",
              "\n",
              "    .dataframe thead th {\n",
              "        text-align: right;\n",
              "    }\n",
              "</style>\n",
              "<table border=\"1\" class=\"dataframe\">\n",
              "  <thead>\n",
              "    <tr style=\"text-align: right;\">\n",
              "      <th></th>\n",
              "      <th>wage</th>\n",
              "    </tr>\n",
              "    <tr>\n",
              "      <th>ID</th>\n",
              "      <th></th>\n",
              "    </tr>\n",
              "  </thead>\n",
              "  <tbody>\n",
              "    <tr>\n",
              "      <th>158023</th>\n",
              "      <td>True</td>\n",
              "    </tr>\n",
              "    <tr>\n",
              "      <th>20801</th>\n",
              "      <td>True</td>\n",
              "    </tr>\n",
              "    <tr>\n",
              "      <th>190871</th>\n",
              "      <td>True</td>\n",
              "    </tr>\n",
              "    <tr>\n",
              "      <th>193080</th>\n",
              "      <td>True</td>\n",
              "    </tr>\n",
              "    <tr>\n",
              "      <th>192985</th>\n",
              "      <td>True</td>\n",
              "    </tr>\n",
              "    <tr>\n",
              "      <th>...</th>\n",
              "      <td>...</td>\n",
              "    </tr>\n",
              "    <tr>\n",
              "      <th>238813</th>\n",
              "      <td>False</td>\n",
              "    </tr>\n",
              "    <tr>\n",
              "      <th>243165</th>\n",
              "      <td>False</td>\n",
              "    </tr>\n",
              "    <tr>\n",
              "      <th>241638</th>\n",
              "      <td>False</td>\n",
              "    </tr>\n",
              "    <tr>\n",
              "      <th>246268</th>\n",
              "      <td>False</td>\n",
              "    </tr>\n",
              "    <tr>\n",
              "      <th>246269</th>\n",
              "      <td>False</td>\n",
              "    </tr>\n",
              "  </tbody>\n",
              "</table>\n",
              "<p>18207 rows × 1 columns</p>\n",
              "</div>"
            ],
            "text/plain": [
              "         wage\n",
              "ID           \n",
              "158023   True\n",
              "20801    True\n",
              "190871   True\n",
              "193080   True\n",
              "192985   True\n",
              "...       ...\n",
              "238813  False\n",
              "243165  False\n",
              "241638  False\n",
              "246268  False\n",
              "246269  False\n",
              "\n",
              "[18207 rows x 1 columns]"
            ]
          },
          "metadata": {
            "tags": []
          },
          "execution_count": 213
        }
      ]
    },
    {
      "cell_type": "code",
      "metadata": {
        "id": "_CSb9_yrlKrS",
        "outputId": "8bba4e01-659a-4e33-e49a-c2d13d4221b3",
        "colab": {
          "base_uri": "https://localhost:8080/",
          "height": 403
        }
      },
      "source": [
        "df_fifa[_207].sort_values(by='wage', ascending = False).head()"
      ],
      "execution_count": null,
      "outputs": [
        {
          "output_type": "execute_result",
          "data": {
            "text/html": [
              "<div>\n",
              "<style scoped>\n",
              "    .dataframe tbody tr th:only-of-type {\n",
              "        vertical-align: middle;\n",
              "    }\n",
              "\n",
              "    .dataframe tbody tr th {\n",
              "        vertical-align: top;\n",
              "    }\n",
              "\n",
              "    .dataframe thead th {\n",
              "        text-align: right;\n",
              "    }\n",
              "</style>\n",
              "<table border=\"1\" class=\"dataframe\">\n",
              "  <thead>\n",
              "    <tr style=\"text-align: right;\">\n",
              "      <th></th>\n",
              "      <th>unnamed: 0</th>\n",
              "      <th>name</th>\n",
              "      <th>age</th>\n",
              "      <th>photo</th>\n",
              "      <th>nationality</th>\n",
              "      <th>flag</th>\n",
              "      <th>overall</th>\n",
              "      <th>potential</th>\n",
              "      <th>club</th>\n",
              "      <th>club logo</th>\n",
              "      <th>value</th>\n",
              "      <th>wage</th>\n",
              "      <th>special</th>\n",
              "      <th>preferred foot</th>\n",
              "      <th>international reputation</th>\n",
              "      <th>weak foot</th>\n",
              "      <th>skill moves</th>\n",
              "      <th>work rate</th>\n",
              "      <th>body type</th>\n",
              "      <th>real face</th>\n",
              "      <th>position</th>\n",
              "      <th>jersey number</th>\n",
              "      <th>joined</th>\n",
              "      <th>loaned from</th>\n",
              "      <th>contract valid until</th>\n",
              "      <th>height</th>\n",
              "      <th>weight</th>\n",
              "      <th>ls</th>\n",
              "      <th>st</th>\n",
              "      <th>rs</th>\n",
              "      <th>lw</th>\n",
              "      <th>lf</th>\n",
              "      <th>cf</th>\n",
              "      <th>rf</th>\n",
              "      <th>rw</th>\n",
              "      <th>lam</th>\n",
              "      <th>cam</th>\n",
              "      <th>ram</th>\n",
              "      <th>lm</th>\n",
              "      <th>lcm</th>\n",
              "      <th>...</th>\n",
              "      <th>lb</th>\n",
              "      <th>lcb</th>\n",
              "      <th>cb</th>\n",
              "      <th>rcb</th>\n",
              "      <th>rb</th>\n",
              "      <th>crossing</th>\n",
              "      <th>finishing</th>\n",
              "      <th>headingaccuracy</th>\n",
              "      <th>shortpassing</th>\n",
              "      <th>volleys</th>\n",
              "      <th>dribbling</th>\n",
              "      <th>curve</th>\n",
              "      <th>fkaccuracy</th>\n",
              "      <th>longpassing</th>\n",
              "      <th>ballcontrol</th>\n",
              "      <th>acceleration</th>\n",
              "      <th>sprintspeed</th>\n",
              "      <th>agility</th>\n",
              "      <th>reactions</th>\n",
              "      <th>balance</th>\n",
              "      <th>shotpower</th>\n",
              "      <th>jumping</th>\n",
              "      <th>stamina</th>\n",
              "      <th>strength</th>\n",
              "      <th>longshots</th>\n",
              "      <th>aggression</th>\n",
              "      <th>interceptions</th>\n",
              "      <th>positioning</th>\n",
              "      <th>vision</th>\n",
              "      <th>penalties</th>\n",
              "      <th>composure</th>\n",
              "      <th>marking</th>\n",
              "      <th>standingtackle</th>\n",
              "      <th>slidingtackle</th>\n",
              "      <th>gkdiving</th>\n",
              "      <th>gkhandling</th>\n",
              "      <th>gkkicking</th>\n",
              "      <th>gkpositioning</th>\n",
              "      <th>gkreflexes</th>\n",
              "      <th>release clause</th>\n",
              "    </tr>\n",
              "    <tr>\n",
              "      <th>ID</th>\n",
              "      <th></th>\n",
              "      <th></th>\n",
              "      <th></th>\n",
              "      <th></th>\n",
              "      <th></th>\n",
              "      <th></th>\n",
              "      <th></th>\n",
              "      <th></th>\n",
              "      <th></th>\n",
              "      <th></th>\n",
              "      <th></th>\n",
              "      <th></th>\n",
              "      <th></th>\n",
              "      <th></th>\n",
              "      <th></th>\n",
              "      <th></th>\n",
              "      <th></th>\n",
              "      <th></th>\n",
              "      <th></th>\n",
              "      <th></th>\n",
              "      <th></th>\n",
              "      <th></th>\n",
              "      <th></th>\n",
              "      <th></th>\n",
              "      <th></th>\n",
              "      <th></th>\n",
              "      <th></th>\n",
              "      <th></th>\n",
              "      <th></th>\n",
              "      <th></th>\n",
              "      <th></th>\n",
              "      <th></th>\n",
              "      <th></th>\n",
              "      <th></th>\n",
              "      <th></th>\n",
              "      <th></th>\n",
              "      <th></th>\n",
              "      <th></th>\n",
              "      <th></th>\n",
              "      <th></th>\n",
              "      <th></th>\n",
              "      <th></th>\n",
              "      <th></th>\n",
              "      <th></th>\n",
              "      <th></th>\n",
              "      <th></th>\n",
              "      <th></th>\n",
              "      <th></th>\n",
              "      <th></th>\n",
              "      <th></th>\n",
              "      <th></th>\n",
              "      <th></th>\n",
              "      <th></th>\n",
              "      <th></th>\n",
              "      <th></th>\n",
              "      <th></th>\n",
              "      <th></th>\n",
              "      <th></th>\n",
              "      <th></th>\n",
              "      <th></th>\n",
              "      <th></th>\n",
              "      <th></th>\n",
              "      <th></th>\n",
              "      <th></th>\n",
              "      <th></th>\n",
              "      <th></th>\n",
              "      <th></th>\n",
              "      <th></th>\n",
              "      <th></th>\n",
              "      <th></th>\n",
              "      <th></th>\n",
              "      <th></th>\n",
              "      <th></th>\n",
              "      <th></th>\n",
              "      <th></th>\n",
              "      <th></th>\n",
              "      <th></th>\n",
              "      <th></th>\n",
              "      <th></th>\n",
              "      <th></th>\n",
              "      <th></th>\n",
              "    </tr>\n",
              "  </thead>\n",
              "  <tbody>\n",
              "    <tr>\n",
              "      <th>158023</th>\n",
              "      <td>0</td>\n",
              "      <td>L. Messi</td>\n",
              "      <td>31</td>\n",
              "      <td>https://cdn.sofifa.org/players/4/19/158023.png</td>\n",
              "      <td>Argentina</td>\n",
              "      <td>https://cdn.sofifa.org/flags/52.png</td>\n",
              "      <td>94</td>\n",
              "      <td>94</td>\n",
              "      <td>FC Barcelona</td>\n",
              "      <td>https://cdn.sofifa.org/teams/2/light/241.png</td>\n",
              "      <td>110500000.0</td>\n",
              "      <td>565000.0</td>\n",
              "      <td>2202</td>\n",
              "      <td>Left</td>\n",
              "      <td>5.0</td>\n",
              "      <td>4.0</td>\n",
              "      <td>4.0</td>\n",
              "      <td>Medium/ Medium</td>\n",
              "      <td>Messi</td>\n",
              "      <td>Yes</td>\n",
              "      <td>RF</td>\n",
              "      <td>10.0</td>\n",
              "      <td>Jul 1, 2004</td>\n",
              "      <td>NaN</td>\n",
              "      <td>2021</td>\n",
              "      <td>5'7</td>\n",
              "      <td>159lbs</td>\n",
              "      <td>90.0</td>\n",
              "      <td>90.0</td>\n",
              "      <td>90.0</td>\n",
              "      <td>94.0</td>\n",
              "      <td>95.0</td>\n",
              "      <td>95.0</td>\n",
              "      <td>95.0</td>\n",
              "      <td>94.0</td>\n",
              "      <td>95.0</td>\n",
              "      <td>95.0</td>\n",
              "      <td>95.0</td>\n",
              "      <td>93.0</td>\n",
              "      <td>86.0</td>\n",
              "      <td>...</td>\n",
              "      <td>61.0</td>\n",
              "      <td>49.0</td>\n",
              "      <td>49.0</td>\n",
              "      <td>49.0</td>\n",
              "      <td>61.0</td>\n",
              "      <td>84.0</td>\n",
              "      <td>95.0</td>\n",
              "      <td>70.0</td>\n",
              "      <td>90.0</td>\n",
              "      <td>86.0</td>\n",
              "      <td>97.0</td>\n",
              "      <td>93.0</td>\n",
              "      <td>94.0</td>\n",
              "      <td>87.0</td>\n",
              "      <td>96.0</td>\n",
              "      <td>91.0</td>\n",
              "      <td>86.0</td>\n",
              "      <td>91.0</td>\n",
              "      <td>95.0</td>\n",
              "      <td>95.0</td>\n",
              "      <td>85.0</td>\n",
              "      <td>68.0</td>\n",
              "      <td>72.0</td>\n",
              "      <td>59.0</td>\n",
              "      <td>94.0</td>\n",
              "      <td>48.0</td>\n",
              "      <td>22.0</td>\n",
              "      <td>94.0</td>\n",
              "      <td>94.0</td>\n",
              "      <td>75.0</td>\n",
              "      <td>96.0</td>\n",
              "      <td>33.0</td>\n",
              "      <td>28.0</td>\n",
              "      <td>26.0</td>\n",
              "      <td>6.0</td>\n",
              "      <td>11.0</td>\n",
              "      <td>15.0</td>\n",
              "      <td>14.0</td>\n",
              "      <td>8.0</td>\n",
              "      <td>€226.5M</td>\n",
              "    </tr>\n",
              "    <tr>\n",
              "      <th>176580</th>\n",
              "      <td>7</td>\n",
              "      <td>L. Suárez</td>\n",
              "      <td>31</td>\n",
              "      <td>https://cdn.sofifa.org/players/4/19/176580.png</td>\n",
              "      <td>Uruguay</td>\n",
              "      <td>https://cdn.sofifa.org/flags/60.png</td>\n",
              "      <td>91</td>\n",
              "      <td>91</td>\n",
              "      <td>FC Barcelona</td>\n",
              "      <td>https://cdn.sofifa.org/teams/2/light/241.png</td>\n",
              "      <td>80000000.0</td>\n",
              "      <td>455000.0</td>\n",
              "      <td>2346</td>\n",
              "      <td>Right</td>\n",
              "      <td>5.0</td>\n",
              "      <td>4.0</td>\n",
              "      <td>3.0</td>\n",
              "      <td>High/ Medium</td>\n",
              "      <td>Normal</td>\n",
              "      <td>Yes</td>\n",
              "      <td>RS</td>\n",
              "      <td>9.0</td>\n",
              "      <td>Jul 11, 2014</td>\n",
              "      <td>NaN</td>\n",
              "      <td>2021</td>\n",
              "      <td>6'0</td>\n",
              "      <td>190lbs</td>\n",
              "      <td>92.0</td>\n",
              "      <td>92.0</td>\n",
              "      <td>92.0</td>\n",
              "      <td>91.0</td>\n",
              "      <td>92.0</td>\n",
              "      <td>92.0</td>\n",
              "      <td>92.0</td>\n",
              "      <td>91.0</td>\n",
              "      <td>90.0</td>\n",
              "      <td>90.0</td>\n",
              "      <td>90.0</td>\n",
              "      <td>89.0</td>\n",
              "      <td>84.0</td>\n",
              "      <td>...</td>\n",
              "      <td>71.0</td>\n",
              "      <td>68.0</td>\n",
              "      <td>68.0</td>\n",
              "      <td>68.0</td>\n",
              "      <td>71.0</td>\n",
              "      <td>77.0</td>\n",
              "      <td>93.0</td>\n",
              "      <td>77.0</td>\n",
              "      <td>82.0</td>\n",
              "      <td>88.0</td>\n",
              "      <td>87.0</td>\n",
              "      <td>86.0</td>\n",
              "      <td>84.0</td>\n",
              "      <td>64.0</td>\n",
              "      <td>90.0</td>\n",
              "      <td>86.0</td>\n",
              "      <td>75.0</td>\n",
              "      <td>82.0</td>\n",
              "      <td>92.0</td>\n",
              "      <td>83.0</td>\n",
              "      <td>86.0</td>\n",
              "      <td>69.0</td>\n",
              "      <td>90.0</td>\n",
              "      <td>83.0</td>\n",
              "      <td>85.0</td>\n",
              "      <td>87.0</td>\n",
              "      <td>41.0</td>\n",
              "      <td>92.0</td>\n",
              "      <td>84.0</td>\n",
              "      <td>85.0</td>\n",
              "      <td>85.0</td>\n",
              "      <td>62.0</td>\n",
              "      <td>45.0</td>\n",
              "      <td>38.0</td>\n",
              "      <td>27.0</td>\n",
              "      <td>25.0</td>\n",
              "      <td>31.0</td>\n",
              "      <td>33.0</td>\n",
              "      <td>37.0</td>\n",
              "      <td>€164M</td>\n",
              "    </tr>\n",
              "    <tr>\n",
              "      <th>177003</th>\n",
              "      <td>6</td>\n",
              "      <td>L. Modrić</td>\n",
              "      <td>32</td>\n",
              "      <td>https://cdn.sofifa.org/players/4/19/177003.png</td>\n",
              "      <td>Croatia</td>\n",
              "      <td>https://cdn.sofifa.org/flags/10.png</td>\n",
              "      <td>91</td>\n",
              "      <td>91</td>\n",
              "      <td>Real Madrid</td>\n",
              "      <td>https://cdn.sofifa.org/teams/2/light/243.png</td>\n",
              "      <td>67000000.0</td>\n",
              "      <td>420000.0</td>\n",
              "      <td>2280</td>\n",
              "      <td>Right</td>\n",
              "      <td>4.0</td>\n",
              "      <td>4.0</td>\n",
              "      <td>4.0</td>\n",
              "      <td>High/ High</td>\n",
              "      <td>Lean</td>\n",
              "      <td>Yes</td>\n",
              "      <td>RCM</td>\n",
              "      <td>10.0</td>\n",
              "      <td>Aug 1, 2012</td>\n",
              "      <td>NaN</td>\n",
              "      <td>2020</td>\n",
              "      <td>5'8</td>\n",
              "      <td>146lbs</td>\n",
              "      <td>80.0</td>\n",
              "      <td>80.0</td>\n",
              "      <td>80.0</td>\n",
              "      <td>88.0</td>\n",
              "      <td>87.0</td>\n",
              "      <td>87.0</td>\n",
              "      <td>87.0</td>\n",
              "      <td>88.0</td>\n",
              "      <td>90.0</td>\n",
              "      <td>90.0</td>\n",
              "      <td>90.0</td>\n",
              "      <td>89.0</td>\n",
              "      <td>91.0</td>\n",
              "      <td>...</td>\n",
              "      <td>82.0</td>\n",
              "      <td>74.0</td>\n",
              "      <td>74.0</td>\n",
              "      <td>74.0</td>\n",
              "      <td>82.0</td>\n",
              "      <td>86.0</td>\n",
              "      <td>72.0</td>\n",
              "      <td>55.0</td>\n",
              "      <td>93.0</td>\n",
              "      <td>76.0</td>\n",
              "      <td>90.0</td>\n",
              "      <td>85.0</td>\n",
              "      <td>78.0</td>\n",
              "      <td>88.0</td>\n",
              "      <td>93.0</td>\n",
              "      <td>80.0</td>\n",
              "      <td>72.0</td>\n",
              "      <td>93.0</td>\n",
              "      <td>90.0</td>\n",
              "      <td>94.0</td>\n",
              "      <td>79.0</td>\n",
              "      <td>68.0</td>\n",
              "      <td>89.0</td>\n",
              "      <td>58.0</td>\n",
              "      <td>82.0</td>\n",
              "      <td>62.0</td>\n",
              "      <td>83.0</td>\n",
              "      <td>79.0</td>\n",
              "      <td>92.0</td>\n",
              "      <td>82.0</td>\n",
              "      <td>84.0</td>\n",
              "      <td>60.0</td>\n",
              "      <td>76.0</td>\n",
              "      <td>73.0</td>\n",
              "      <td>13.0</td>\n",
              "      <td>9.0</td>\n",
              "      <td>7.0</td>\n",
              "      <td>14.0</td>\n",
              "      <td>9.0</td>\n",
              "      <td>€137.4M</td>\n",
              "    </tr>\n",
              "    <tr>\n",
              "      <th>20801</th>\n",
              "      <td>1</td>\n",
              "      <td>Cristiano Ronaldo</td>\n",
              "      <td>33</td>\n",
              "      <td>https://cdn.sofifa.org/players/4/19/20801.png</td>\n",
              "      <td>Portugal</td>\n",
              "      <td>https://cdn.sofifa.org/flags/38.png</td>\n",
              "      <td>94</td>\n",
              "      <td>94</td>\n",
              "      <td>Juventus</td>\n",
              "      <td>https://cdn.sofifa.org/teams/2/light/45.png</td>\n",
              "      <td>77000000.0</td>\n",
              "      <td>405000.0</td>\n",
              "      <td>2228</td>\n",
              "      <td>Right</td>\n",
              "      <td>5.0</td>\n",
              "      <td>4.0</td>\n",
              "      <td>5.0</td>\n",
              "      <td>High/ Low</td>\n",
              "      <td>C. Ronaldo</td>\n",
              "      <td>Yes</td>\n",
              "      <td>ST</td>\n",
              "      <td>7.0</td>\n",
              "      <td>Jul 10, 2018</td>\n",
              "      <td>NaN</td>\n",
              "      <td>2022</td>\n",
              "      <td>6'2</td>\n",
              "      <td>183lbs</td>\n",
              "      <td>94.0</td>\n",
              "      <td>94.0</td>\n",
              "      <td>94.0</td>\n",
              "      <td>92.0</td>\n",
              "      <td>93.0</td>\n",
              "      <td>93.0</td>\n",
              "      <td>93.0</td>\n",
              "      <td>92.0</td>\n",
              "      <td>91.0</td>\n",
              "      <td>91.0</td>\n",
              "      <td>91.0</td>\n",
              "      <td>91.0</td>\n",
              "      <td>84.0</td>\n",
              "      <td>...</td>\n",
              "      <td>64.0</td>\n",
              "      <td>56.0</td>\n",
              "      <td>56.0</td>\n",
              "      <td>56.0</td>\n",
              "      <td>64.0</td>\n",
              "      <td>84.0</td>\n",
              "      <td>94.0</td>\n",
              "      <td>89.0</td>\n",
              "      <td>81.0</td>\n",
              "      <td>87.0</td>\n",
              "      <td>88.0</td>\n",
              "      <td>81.0</td>\n",
              "      <td>76.0</td>\n",
              "      <td>77.0</td>\n",
              "      <td>94.0</td>\n",
              "      <td>89.0</td>\n",
              "      <td>91.0</td>\n",
              "      <td>87.0</td>\n",
              "      <td>96.0</td>\n",
              "      <td>70.0</td>\n",
              "      <td>95.0</td>\n",
              "      <td>95.0</td>\n",
              "      <td>88.0</td>\n",
              "      <td>79.0</td>\n",
              "      <td>93.0</td>\n",
              "      <td>63.0</td>\n",
              "      <td>29.0</td>\n",
              "      <td>95.0</td>\n",
              "      <td>82.0</td>\n",
              "      <td>85.0</td>\n",
              "      <td>95.0</td>\n",
              "      <td>28.0</td>\n",
              "      <td>31.0</td>\n",
              "      <td>23.0</td>\n",
              "      <td>7.0</td>\n",
              "      <td>11.0</td>\n",
              "      <td>15.0</td>\n",
              "      <td>14.0</td>\n",
              "      <td>11.0</td>\n",
              "      <td>€127.1M</td>\n",
              "    </tr>\n",
              "    <tr>\n",
              "      <th>155862</th>\n",
              "      <td>8</td>\n",
              "      <td>Sergio Ramos</td>\n",
              "      <td>32</td>\n",
              "      <td>https://cdn.sofifa.org/players/4/19/155862.png</td>\n",
              "      <td>Spain</td>\n",
              "      <td>https://cdn.sofifa.org/flags/45.png</td>\n",
              "      <td>91</td>\n",
              "      <td>91</td>\n",
              "      <td>Real Madrid</td>\n",
              "      <td>https://cdn.sofifa.org/teams/2/light/243.png</td>\n",
              "      <td>51000000.0</td>\n",
              "      <td>380000.0</td>\n",
              "      <td>2201</td>\n",
              "      <td>Right</td>\n",
              "      <td>4.0</td>\n",
              "      <td>3.0</td>\n",
              "      <td>3.0</td>\n",
              "      <td>High/ Medium</td>\n",
              "      <td>Normal</td>\n",
              "      <td>Yes</td>\n",
              "      <td>RCB</td>\n",
              "      <td>15.0</td>\n",
              "      <td>Aug 1, 2005</td>\n",
              "      <td>NaN</td>\n",
              "      <td>2020</td>\n",
              "      <td>6'0</td>\n",
              "      <td>181lbs</td>\n",
              "      <td>76.0</td>\n",
              "      <td>76.0</td>\n",
              "      <td>76.0</td>\n",
              "      <td>73.0</td>\n",
              "      <td>74.0</td>\n",
              "      <td>74.0</td>\n",
              "      <td>74.0</td>\n",
              "      <td>73.0</td>\n",
              "      <td>74.0</td>\n",
              "      <td>74.0</td>\n",
              "      <td>74.0</td>\n",
              "      <td>75.0</td>\n",
              "      <td>78.0</td>\n",
              "      <td>...</td>\n",
              "      <td>87.0</td>\n",
              "      <td>90.0</td>\n",
              "      <td>90.0</td>\n",
              "      <td>90.0</td>\n",
              "      <td>87.0</td>\n",
              "      <td>66.0</td>\n",
              "      <td>60.0</td>\n",
              "      <td>91.0</td>\n",
              "      <td>78.0</td>\n",
              "      <td>66.0</td>\n",
              "      <td>63.0</td>\n",
              "      <td>74.0</td>\n",
              "      <td>72.0</td>\n",
              "      <td>77.0</td>\n",
              "      <td>84.0</td>\n",
              "      <td>76.0</td>\n",
              "      <td>75.0</td>\n",
              "      <td>78.0</td>\n",
              "      <td>85.0</td>\n",
              "      <td>66.0</td>\n",
              "      <td>79.0</td>\n",
              "      <td>93.0</td>\n",
              "      <td>84.0</td>\n",
              "      <td>83.0</td>\n",
              "      <td>59.0</td>\n",
              "      <td>88.0</td>\n",
              "      <td>90.0</td>\n",
              "      <td>60.0</td>\n",
              "      <td>63.0</td>\n",
              "      <td>75.0</td>\n",
              "      <td>82.0</td>\n",
              "      <td>87.0</td>\n",
              "      <td>92.0</td>\n",
              "      <td>91.0</td>\n",
              "      <td>11.0</td>\n",
              "      <td>8.0</td>\n",
              "      <td>9.0</td>\n",
              "      <td>7.0</td>\n",
              "      <td>11.0</td>\n",
              "      <td>€104.6M</td>\n",
              "    </tr>\n",
              "  </tbody>\n",
              "</table>\n",
              "<p>5 rows × 88 columns</p>\n",
              "</div>"
            ],
            "text/plain": [
              "        unnamed: 0               name  ...  gkreflexes release clause\n",
              "ID                                     ...                           \n",
              "158023           0           L. Messi  ...         8.0        €226.5M\n",
              "176580           7          L. Suárez  ...        37.0          €164M\n",
              "177003           6          L. Modrić  ...         9.0        €137.4M\n",
              "20801            1  Cristiano Ronaldo  ...        11.0        €127.1M\n",
              "155862           8       Sergio Ramos  ...        11.0        €104.6M\n",
              "\n",
              "[5 rows x 88 columns]"
            ]
          },
          "metadata": {
            "tags": []
          },
          "execution_count": 216
        }
      ]
    },
    {
      "cell_type": "code",
      "metadata": {
        "id": "wjNm1gsZlYMe"
      },
      "source": [
        ""
      ],
      "execution_count": null,
      "outputs": []
    },
    {
      "cell_type": "code",
      "metadata": {
        "id": "V-DqiVsskqk5",
        "outputId": "62a3cb39-2ab5-4650-9c80-6cb37f40d6d9",
        "colab": {
          "base_uri": "https://localhost:8080/",
          "height": 34
        }
      },
      "source": [
        "type(lim_superior_outlier)"
      ],
      "execution_count": null,
      "outputs": [
        {
          "output_type": "execute_result",
          "data": {
            "text/plain": [
              "numpy.ndarray"
            ]
          },
          "metadata": {
            "tags": []
          },
          "execution_count": 11
        }
      ]
    },
    {
      "cell_type": "code",
      "metadata": {
        "id": "VQ2fFJWhk5aN",
        "outputId": "1d676f72-aca4-4c8c-e8a0-02fdc224e518",
        "colab": {
          "base_uri": "https://localhost:8080/",
          "height": 34
        }
      },
      "source": [
        "lim_superior_outlier"
      ],
      "execution_count": null,
      "outputs": [
        {
          "output_type": "execute_result",
          "data": {
            "text/plain": [
              "array([21000.])"
            ]
          },
          "metadata": {
            "tags": []
          },
          "execution_count": 12
        }
      ]
    },
    {
      "cell_type": "code",
      "metadata": {
        "id": "ZWRdotZjk8Ck"
      },
      "source": [
        ""
      ],
      "execution_count": null,
      "outputs": []
    },
    {
      "cell_type": "code",
      "metadata": {
        "id": "-hMSyXfWkSvw"
      },
      "source": [
        ""
      ],
      "execution_count": null,
      "outputs": []
    },
    {
      "cell_type": "code",
      "metadata": {
        "id": "1J87p4lrVVPu"
      },
      "source": [
        "# df_Fifa2 tem 'Wage' sem notações e transformado de string para int64\n",
        "df_wage = df_Fifa2[['Name','Wage']]"
      ],
      "execution_count": null,
      "outputs": []
    },
    {
      "cell_type": "code",
      "metadata": {
        "id": "4G7q1RO9VSfB"
      },
      "source": [
        "s_wage = df_Fifa2['Wage']"
      ],
      "execution_count": null,
      "outputs": []
    },
    {
      "cell_type": "code",
      "metadata": {
        "id": "Yz3itC0SNYOO"
      },
      "source": [
        "type(s_wage)"
      ],
      "execution_count": null,
      "outputs": []
    },
    {
      "cell_type": "code",
      "metadata": {
        "id": "wDyqnUFeNg_6"
      },
      "source": [
        "a_wage = s_wage.values\n",
        "a_wage"
      ],
      "execution_count": null,
      "outputs": []
    },
    {
      "cell_type": "code",
      "metadata": {
        "id": "6-M4vqK7U978"
      },
      "source": [
        "len(a_wage)"
      ],
      "execution_count": null,
      "outputs": []
    },
    {
      "cell_type": "code",
      "metadata": {
        "id": "1tJJTLZ6UcJk"
      },
      "source": [
        "is_nan = np.isnan(a_wage)\n",
        "is_nan\n"
      ],
      "execution_count": null,
      "outputs": []
    },
    {
      "cell_type": "code",
      "metadata": {
        "id": "kI1gdt43VaEJ"
      },
      "source": [
        "a_wage[is_nan]"
      ],
      "execution_count": null,
      "outputs": []
    },
    {
      "cell_type": "code",
      "metadata": {
        "id": "_OQubKYkU1wY"
      },
      "source": [
        "a_club = df_Fifa['Club']\n",
        "a_club"
      ],
      "execution_count": null,
      "outputs": []
    },
    {
      "cell_type": "code",
      "metadata": {
        "id": "PXT9HUNrb18O"
      },
      "source": [
        "aa = a_club.values\n",
        "aa"
      ],
      "execution_count": null,
      "outputs": []
    },
    {
      "cell_type": "code",
      "metadata": {
        "id": "l-Eo7RFwYsU6"
      },
      "source": [
        "import numpy as np\n",
        "aa == 'Nan'"
      ],
      "execution_count": null,
      "outputs": []
    },
    {
      "cell_type": "code",
      "metadata": {
        "id": "o2zvLkW-Y065"
      },
      "source": [
        "aa[_228]"
      ],
      "execution_count": null,
      "outputs": []
    },
    {
      "cell_type": "code",
      "metadata": {
        "id": "BS42IN1IYv4l"
      },
      "source": [
        ""
      ],
      "execution_count": null,
      "outputs": []
    },
    {
      "cell_type": "code",
      "metadata": {
        "id": "YPCGbfRJWxHm"
      },
      "source": [
        "df_Fifa[_208]"
      ],
      "execution_count": null,
      "outputs": []
    },
    {
      "cell_type": "code",
      "metadata": {
        "id": "l2aKUTo4V2bF"
      },
      "source": [
        "df_Fifa2[_205]"
      ],
      "execution_count": null,
      "outputs": []
    },
    {
      "cell_type": "code",
      "metadata": {
        "id": "nAe3fI8hOgY9"
      },
      "source": [
        "f'Média: {np.mean(s_wage.values)}; Mediana: {np.median(s_wage.values)}; STD: {np.std(s_wage.values)}'"
      ],
      "execution_count": null,
      "outputs": []
    },
    {
      "cell_type": "code",
      "metadata": {
        "id": "u54w4q4FO_u-"
      },
      "source": [
        "a_wage.sum()/18207"
      ],
      "execution_count": null,
      "outputs": []
    },
    {
      "cell_type": "code",
      "metadata": {
        "id": "jQ4MXtlyPKHd"
      },
      "source": [
        "# Import a biblioteca seaborn:\n",
        "import seaborn as sns\n",
        "\n",
        "# Boxplot antes dos \"outliers\"\n",
        "sns.boxplot(y = a_wage)"
      ],
      "execution_count": null,
      "outputs": []
    },
    {
      "cell_type": "code",
      "metadata": {
        "id": "n1vn5bMuPmzg"
      },
      "source": [
        "Q1 = np.percentile(a_wage, q = [25])\n",
        "Q3 = np.percentile(a_wage, q = [75])\n",
        "Q2 = np.percentile(a_wage, q = [50])\n",
        "p99 = np.percentile(a_wage, q = [99])\n",
        "p95 = np.percentile(a_wage, q = [95])\n",
        "\n",
        "IQR = Q3-Q1 # Diferença interquartílica\n",
        "lim_inferior_outlier = Q1-1.5*IQR\n",
        "lim_superior_outlier = Q3+1.5*IQR"
      ],
      "execution_count": null,
      "outputs": []
    },
    {
      "cell_type": "code",
      "metadata": {
        "id": "u9g12VOER_wI"
      },
      "source": [
        "f'Q1: {Q1}, Q3: {Q3}, Q2: {Q2}, lim_inferior_outlier: {lim_inferior_outlier}, lim_superior_outlier: {lim_superior_outlier}'"
      ],
      "execution_count": null,
      "outputs": []
    },
    {
      "cell_type": "code",
      "metadata": {
        "id": "avTYTDA3SUa-"
      },
      "source": [
        ""
      ],
      "execution_count": null,
      "outputs": []
    },
    {
      "cell_type": "code",
      "metadata": {
        "id": "FKqrJhiMOGJF"
      },
      "source": [
        "len(_162)"
      ],
      "execution_count": null,
      "outputs": []
    },
    {
      "cell_type": "code",
      "metadata": {
        "id": "kPbF_l9GLVoU"
      },
      "source": [
        "_140.values"
      ],
      "execution_count": null,
      "outputs": []
    },
    {
      "cell_type": "code",
      "metadata": {
        "id": "zEJCey0VLnB9"
      },
      "source": [
        "sum(_152)"
      ],
      "execution_count": null,
      "outputs": []
    },
    {
      "cell_type": "code",
      "metadata": {
        "id": "x6NxnZ-AJs7H"
      },
      "source": [
        "df_w = pd.DataFrame([])"
      ],
      "execution_count": null,
      "outputs": []
    },
    {
      "cell_type": "code",
      "metadata": {
        "id": "DOBtlEbElRq5"
      },
      "source": [
        "# 17. Quais os insights em relação à variável overall (nota média do atleta) por idade, clube e país?\n",
        "# 18. Quais são os melhores clubes se levarmos em consideração as variáveis Potential e Overall?\n",
        "# 19. Apresente o ranking dos goleiros (use a variável/atributo 'Preferred Positions') por Potencial, Overall. Estamos à procura de 'GK'.\n",
        "# 20. Quem são os jogadores mais rápidos (variável/atributo 'Sprint speed'=?\n",
        "# 21. Quem são os 5 melhores jogadores em termos de chute (força para chutar) (use a variável/atributo 'Shot power')?\n",
        "# 22. Quem são os outliers em termos de salário?\n",
        "# 23. Quem são os outliers em termos de potência no chute?"
      ],
      "execution_count": null,
      "outputs": []
    },
    {
      "cell_type": "code",
      "metadata": {
        "id": "ufmS5DLWjv0W"
      },
      "source": [
        ""
      ],
      "execution_count": null,
      "outputs": []
    }
  ]
}