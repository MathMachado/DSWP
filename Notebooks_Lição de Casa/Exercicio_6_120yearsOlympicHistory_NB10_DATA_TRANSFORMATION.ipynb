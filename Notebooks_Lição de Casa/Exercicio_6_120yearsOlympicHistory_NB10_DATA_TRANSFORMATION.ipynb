{
  "nbformat": 4,
  "nbformat_minor": 0,
  "metadata": {
    "colab": {
      "name": "Exercicio 6_120yearsOlympicHistory_NB10_DATA_TRANSFORMATION.ipynb",
      "provenance": [],
      "authorship_tag": "ABX9TyOsxn3sxvbY5qqDFZZVR81r",
      "include_colab_link": true
    },
    "kernelspec": {
      "name": "python3",
      "display_name": "Python 3"
    }
  },
  "cells": [
    {
      "cell_type": "markdown",
      "metadata": {
        "id": "view-in-github",
        "colab_type": "text"
      },
      "source": [
        "<a href=\"https://colab.research.google.com/github/cryssoga/DSWP/blob/master/Notebooks_Li%C3%A7%C3%A3o%20de%20Casa/Exercicio_6_120yearsOlympicHistory_NB10_DATA_TRANSFORMATION.ipynb\" target=\"_parent\"><img src=\"https://colab.research.google.com/assets/colab-badge.svg\" alt=\"Open In Colab\"/></a>"
      ]
    },
    {
      "cell_type": "markdown",
      "metadata": {
        "id": "--KgEWD0y4cK"
      },
      "source": [
        "NB10__04_3DP_3_Data_Transformation\n",
        "\n",
        "Para cada um dos dataframes a seguir, aplique os seguintes steps:\n",
        "*  Padronizar o nome das colunas\n",
        "*  Eliminar espaços entre os nomes das colunas;\n",
        "*  Eliminar caracteres especiais dos nomes das colunas;\n",
        "*  Renomear as colunas com lower() (ou upper());\n",
        "*  Aplicar a trasformação StandardScaler e MinMaxScaler em cada uma das colunas do dataframe;\n",
        "*  DataViz - Mostrar a distribuição das colunas para compararmos os resultados antes e depois das transformações.\n",
        "*  As correlações das colunas mudam com as transformações?\n",
        "\n",
        "Exercício 6 - 120 years of Olympic history: athletes and results\n",
        "120 years of Olympic history: athletes and results\n",
        "\n",
        "Trate adequadamente as variáveis 'sex', 'season', 'team', 'city', 'sport' e 'medal';\n",
        "\n",
        "Aplique as transformações que acabamos de estudar nos campos/colunas numéricas 'height' e 'weight'. Cuidado com os Missing Values contidos nas variáveis!\n",
        "\n",
        "Verifique/avalie o impacto dos outliers nestas colunas.\n",
        "\n",
        "Neste caso, qual transformação é mais adequado diante dos outliers?"
      ]
    },
    {
      "cell_type": "code",
      "metadata": {
        "id": "TQO9v9RjyD85",
        "outputId": "79d92c80-8196-4968-ddc5-4e5573b0cfb6",
        "colab": {
          "base_uri": "https://localhost:8080/",
          "height": 215
        }
      },
      "source": [
        "import pandas as pd\n",
        "from google.colab import drive\n",
        "drive.mount ('/content/drive')\n",
        "df_atleta = pd.read_csv('/content/drive/My Drive/dswp/athlete_events.csv')\n",
        "df_atleta.head()"
      ],
      "execution_count": null,
      "outputs": [
        {
          "output_type": "stream",
          "text": [
            "Drive already mounted at /content/drive; to attempt to forcibly remount, call drive.mount(\"/content/drive\", force_remount=True).\n"
          ],
          "name": "stdout"
        },
        {
          "output_type": "execute_result",
          "data": {
            "text/html": [
              "<div>\n",
              "<style scoped>\n",
              "    .dataframe tbody tr th:only-of-type {\n",
              "        vertical-align: middle;\n",
              "    }\n",
              "\n",
              "    .dataframe tbody tr th {\n",
              "        vertical-align: top;\n",
              "    }\n",
              "\n",
              "    .dataframe thead th {\n",
              "        text-align: right;\n",
              "    }\n",
              "</style>\n",
              "<table border=\"1\" class=\"dataframe\">\n",
              "  <thead>\n",
              "    <tr style=\"text-align: right;\">\n",
              "      <th></th>\n",
              "      <th>ID</th>\n",
              "      <th>Name</th>\n",
              "      <th>Sex</th>\n",
              "      <th>Age</th>\n",
              "      <th>Height</th>\n",
              "      <th>Weight</th>\n",
              "      <th>Team</th>\n",
              "      <th>NOC</th>\n",
              "      <th>Games</th>\n",
              "      <th>Year</th>\n",
              "      <th>Season</th>\n",
              "      <th>City</th>\n",
              "      <th>Sport</th>\n",
              "      <th>Event</th>\n",
              "      <th>Medal</th>\n",
              "    </tr>\n",
              "  </thead>\n",
              "  <tbody>\n",
              "    <tr>\n",
              "      <th>0</th>\n",
              "      <td>1</td>\n",
              "      <td>A Dijiang</td>\n",
              "      <td>M</td>\n",
              "      <td>24.0</td>\n",
              "      <td>180.0</td>\n",
              "      <td>80.0</td>\n",
              "      <td>China</td>\n",
              "      <td>CHN</td>\n",
              "      <td>1992 Summer</td>\n",
              "      <td>1992</td>\n",
              "      <td>Summer</td>\n",
              "      <td>Barcelona</td>\n",
              "      <td>Basketball</td>\n",
              "      <td>Basketball Men's Basketball</td>\n",
              "      <td>NaN</td>\n",
              "    </tr>\n",
              "    <tr>\n",
              "      <th>1</th>\n",
              "      <td>2</td>\n",
              "      <td>A Lamusi</td>\n",
              "      <td>M</td>\n",
              "      <td>23.0</td>\n",
              "      <td>170.0</td>\n",
              "      <td>60.0</td>\n",
              "      <td>China</td>\n",
              "      <td>CHN</td>\n",
              "      <td>2012 Summer</td>\n",
              "      <td>2012</td>\n",
              "      <td>Summer</td>\n",
              "      <td>London</td>\n",
              "      <td>Judo</td>\n",
              "      <td>Judo Men's Extra-Lightweight</td>\n",
              "      <td>NaN</td>\n",
              "    </tr>\n",
              "    <tr>\n",
              "      <th>2</th>\n",
              "      <td>3</td>\n",
              "      <td>Gunnar Nielsen Aaby</td>\n",
              "      <td>M</td>\n",
              "      <td>24.0</td>\n",
              "      <td>NaN</td>\n",
              "      <td>NaN</td>\n",
              "      <td>Denmark</td>\n",
              "      <td>DEN</td>\n",
              "      <td>1920 Summer</td>\n",
              "      <td>1920</td>\n",
              "      <td>Summer</td>\n",
              "      <td>Antwerpen</td>\n",
              "      <td>Football</td>\n",
              "      <td>Football Men's Football</td>\n",
              "      <td>NaN</td>\n",
              "    </tr>\n",
              "    <tr>\n",
              "      <th>3</th>\n",
              "      <td>4</td>\n",
              "      <td>Edgar Lindenau Aabye</td>\n",
              "      <td>M</td>\n",
              "      <td>34.0</td>\n",
              "      <td>NaN</td>\n",
              "      <td>NaN</td>\n",
              "      <td>Denmark/Sweden</td>\n",
              "      <td>DEN</td>\n",
              "      <td>1900 Summer</td>\n",
              "      <td>1900</td>\n",
              "      <td>Summer</td>\n",
              "      <td>Paris</td>\n",
              "      <td>Tug-Of-War</td>\n",
              "      <td>Tug-Of-War Men's Tug-Of-War</td>\n",
              "      <td>Gold</td>\n",
              "    </tr>\n",
              "    <tr>\n",
              "      <th>4</th>\n",
              "      <td>5</td>\n",
              "      <td>Christine Jacoba Aaftink</td>\n",
              "      <td>F</td>\n",
              "      <td>21.0</td>\n",
              "      <td>185.0</td>\n",
              "      <td>82.0</td>\n",
              "      <td>Netherlands</td>\n",
              "      <td>NED</td>\n",
              "      <td>1988 Winter</td>\n",
              "      <td>1988</td>\n",
              "      <td>Winter</td>\n",
              "      <td>Calgary</td>\n",
              "      <td>Speed Skating</td>\n",
              "      <td>Speed Skating Women's 500 metres</td>\n",
              "      <td>NaN</td>\n",
              "    </tr>\n",
              "  </tbody>\n",
              "</table>\n",
              "</div>"
            ],
            "text/plain": [
              "   ID                      Name  ...                             Event  Medal\n",
              "0   1                 A Dijiang  ...       Basketball Men's Basketball    NaN\n",
              "1   2                  A Lamusi  ...      Judo Men's Extra-Lightweight    NaN\n",
              "2   3       Gunnar Nielsen Aaby  ...           Football Men's Football    NaN\n",
              "3   4      Edgar Lindenau Aabye  ...       Tug-Of-War Men's Tug-Of-War   Gold\n",
              "4   5  Christine Jacoba Aaftink  ...  Speed Skating Women's 500 metres    NaN\n",
              "\n",
              "[5 rows x 15 columns]"
            ]
          },
          "metadata": {
            "tags": []
          },
          "execution_count": 272
        }
      ]
    },
    {
      "cell_type": "code",
      "metadata": {
        "id": "RTpppzVKzxSW"
      },
      "source": [
        "# df_atleta = df_atleta.set_index('ID')"
      ],
      "execution_count": null,
      "outputs": []
    },
    {
      "cell_type": "code",
      "metadata": {
        "id": "w0i8XDKv0HGf"
      },
      "source": [
        "df_atleta.head()"
      ],
      "execution_count": null,
      "outputs": []
    },
    {
      "cell_type": "code",
      "metadata": {
        "id": "ZGZEwPESK-ZX"
      },
      "source": [
        "df_atleta.info()"
      ],
      "execution_count": null,
      "outputs": []
    },
    {
      "cell_type": "code",
      "metadata": {
        "id": "USYquo9iLHdj"
      },
      "source": [
        "df_atleta.isna().sum()      # Observe que somente 4 colunas apresentan NaNs: 'Age', 'Height', 'Weight' e 'Medal' "
      ],
      "execution_count": null,
      "outputs": []
    },
    {
      "cell_type": "code",
      "metadata": {
        "id": "mdooOtzAjEEp"
      },
      "source": [
        "df_atleta.isna().sum().sum()     # somatória total de NaNs existentes no dataframe"
      ],
      "execution_count": null,
      "outputs": []
    },
    {
      "cell_type": "code",
      "metadata": {
        "id": "5C44HXj-DqKV"
      },
      "source": [
        "# Verificar nomes das colunas:\n",
        "df_atleta.columns"
      ],
      "execution_count": null,
      "outputs": []
    },
    {
      "cell_type": "code",
      "metadata": {
        "id": "HebRHflmCpOK",
        "outputId": "e17a5a0e-4f01-491c-d659-648e25ce429b",
        "colab": {
          "base_uri": "https://localhost:8080/",
          "height": 197
        }
      },
      "source": [
        "# Convertendo nomes das colunas para letras minúsculas:\n",
        "df_atleta.columns = df_atleta.columns.str.lower()\n",
        "df_atleta.head()"
      ],
      "execution_count": null,
      "outputs": [
        {
          "output_type": "execute_result",
          "data": {
            "text/html": [
              "<div>\n",
              "<style scoped>\n",
              "    .dataframe tbody tr th:only-of-type {\n",
              "        vertical-align: middle;\n",
              "    }\n",
              "\n",
              "    .dataframe tbody tr th {\n",
              "        vertical-align: top;\n",
              "    }\n",
              "\n",
              "    .dataframe thead th {\n",
              "        text-align: right;\n",
              "    }\n",
              "</style>\n",
              "<table border=\"1\" class=\"dataframe\">\n",
              "  <thead>\n",
              "    <tr style=\"text-align: right;\">\n",
              "      <th></th>\n",
              "      <th>id</th>\n",
              "      <th>name</th>\n",
              "      <th>sex</th>\n",
              "      <th>age</th>\n",
              "      <th>height</th>\n",
              "      <th>weight</th>\n",
              "      <th>team</th>\n",
              "      <th>noc</th>\n",
              "      <th>games</th>\n",
              "      <th>year</th>\n",
              "      <th>season</th>\n",
              "      <th>city</th>\n",
              "      <th>sport</th>\n",
              "      <th>event</th>\n",
              "      <th>medal</th>\n",
              "    </tr>\n",
              "  </thead>\n",
              "  <tbody>\n",
              "    <tr>\n",
              "      <th>0</th>\n",
              "      <td>1</td>\n",
              "      <td>A Dijiang</td>\n",
              "      <td>M</td>\n",
              "      <td>24.0</td>\n",
              "      <td>180.0</td>\n",
              "      <td>80.0</td>\n",
              "      <td>China</td>\n",
              "      <td>CHN</td>\n",
              "      <td>1992 Summer</td>\n",
              "      <td>1992</td>\n",
              "      <td>Summer</td>\n",
              "      <td>Barcelona</td>\n",
              "      <td>Basketball</td>\n",
              "      <td>Basketball Men's Basketball</td>\n",
              "      <td>NaN</td>\n",
              "    </tr>\n",
              "    <tr>\n",
              "      <th>1</th>\n",
              "      <td>2</td>\n",
              "      <td>A Lamusi</td>\n",
              "      <td>M</td>\n",
              "      <td>23.0</td>\n",
              "      <td>170.0</td>\n",
              "      <td>60.0</td>\n",
              "      <td>China</td>\n",
              "      <td>CHN</td>\n",
              "      <td>2012 Summer</td>\n",
              "      <td>2012</td>\n",
              "      <td>Summer</td>\n",
              "      <td>London</td>\n",
              "      <td>Judo</td>\n",
              "      <td>Judo Men's Extra-Lightweight</td>\n",
              "      <td>NaN</td>\n",
              "    </tr>\n",
              "    <tr>\n",
              "      <th>2</th>\n",
              "      <td>3</td>\n",
              "      <td>Gunnar Nielsen Aaby</td>\n",
              "      <td>M</td>\n",
              "      <td>24.0</td>\n",
              "      <td>NaN</td>\n",
              "      <td>NaN</td>\n",
              "      <td>Denmark</td>\n",
              "      <td>DEN</td>\n",
              "      <td>1920 Summer</td>\n",
              "      <td>1920</td>\n",
              "      <td>Summer</td>\n",
              "      <td>Antwerpen</td>\n",
              "      <td>Football</td>\n",
              "      <td>Football Men's Football</td>\n",
              "      <td>NaN</td>\n",
              "    </tr>\n",
              "    <tr>\n",
              "      <th>3</th>\n",
              "      <td>4</td>\n",
              "      <td>Edgar Lindenau Aabye</td>\n",
              "      <td>M</td>\n",
              "      <td>34.0</td>\n",
              "      <td>NaN</td>\n",
              "      <td>NaN</td>\n",
              "      <td>Denmark/Sweden</td>\n",
              "      <td>DEN</td>\n",
              "      <td>1900 Summer</td>\n",
              "      <td>1900</td>\n",
              "      <td>Summer</td>\n",
              "      <td>Paris</td>\n",
              "      <td>Tug-Of-War</td>\n",
              "      <td>Tug-Of-War Men's Tug-Of-War</td>\n",
              "      <td>Gold</td>\n",
              "    </tr>\n",
              "    <tr>\n",
              "      <th>4</th>\n",
              "      <td>5</td>\n",
              "      <td>Christine Jacoba Aaftink</td>\n",
              "      <td>F</td>\n",
              "      <td>21.0</td>\n",
              "      <td>185.0</td>\n",
              "      <td>82.0</td>\n",
              "      <td>Netherlands</td>\n",
              "      <td>NED</td>\n",
              "      <td>1988 Winter</td>\n",
              "      <td>1988</td>\n",
              "      <td>Winter</td>\n",
              "      <td>Calgary</td>\n",
              "      <td>Speed Skating</td>\n",
              "      <td>Speed Skating Women's 500 metres</td>\n",
              "      <td>NaN</td>\n",
              "    </tr>\n",
              "  </tbody>\n",
              "</table>\n",
              "</div>"
            ],
            "text/plain": [
              "   id                      name  ...                             event  medal\n",
              "0   1                 A Dijiang  ...       Basketball Men's Basketball    NaN\n",
              "1   2                  A Lamusi  ...      Judo Men's Extra-Lightweight    NaN\n",
              "2   3       Gunnar Nielsen Aaby  ...           Football Men's Football    NaN\n",
              "3   4      Edgar Lindenau Aabye  ...       Tug-Of-War Men's Tug-Of-War   Gold\n",
              "4   5  Christine Jacoba Aaftink  ...  Speed Skating Women's 500 metres    NaN\n",
              "\n",
              "[5 rows x 15 columns]"
            ]
          },
          "metadata": {
            "tags": []
          },
          "execution_count": 273
        }
      ]
    },
    {
      "cell_type": "code",
      "metadata": {
        "id": "MUjI3_uCrWqD"
      },
      "source": [
        "# Verificando existência de linhas duplicadas (retorna série booleana)\n",
        "df_atleta.duplicated()"
      ],
      "execution_count": null,
      "outputs": []
    },
    {
      "cell_type": "code",
      "metadata": {
        "id": "ssIzyPI5rsbs"
      },
      "source": [
        "# Verificando se tem True:\n",
        "df_atleta.duplicated().unique()"
      ],
      "execution_count": null,
      "outputs": []
    },
    {
      "cell_type": "code",
      "metadata": {
        "id": "V4JfyP7br0FY"
      },
      "source": [
        "# Mostrando quais linhas são as duplicadas para remoção:\n",
        "df_atleta[df_atleta.duplicated()].sort_values(by='name').head()"
      ],
      "execution_count": null,
      "outputs": []
    },
    {
      "cell_type": "code",
      "metadata": {
        "id": "ito96ilPr-Kp"
      },
      "source": [
        "# Verificando quantas linhas duplicadas serão removidas: 1385\n",
        "df_atleta[df_atleta.duplicated()].info()"
      ],
      "execution_count": null,
      "outputs": []
    },
    {
      "cell_type": "code",
      "metadata": {
        "id": "DD5IeIaOyYXI"
      },
      "source": [
        "df_atleta.drop_duplicates(inplace=True)"
      ],
      "execution_count": null,
      "outputs": []
    },
    {
      "cell_type": "code",
      "metadata": {
        "id": "UayGKN-GAFQO"
      },
      "source": [
        "df_atleta.sort_values(by='name').head()"
      ],
      "execution_count": null,
      "outputs": []
    },
    {
      "cell_type": "code",
      "metadata": {
        "id": "KCdeqYX-ygOj"
      },
      "source": [
        "(df_atleta.info()"
      ],
      "execution_count": null,
      "outputs": []
    },
    {
      "cell_type": "code",
      "metadata": {
        "id": "xM3d4bkJzWVf"
      },
      "source": [
        "df_atleta.count(axis=0)"
      ],
      "execution_count": null,
      "outputs": []
    },
    {
      "cell_type": "code",
      "metadata": {
        "id": "ffXpfRb-DevP"
      },
      "source": [
        "df_atleta.sex.unique()"
      ],
      "execution_count": null,
      "outputs": []
    },
    {
      "cell_type": "code",
      "metadata": {
        "id": "DPuUOE9NDVht"
      },
      "source": [
        "# Aterando na coluna 'sex': 'M' => 0, 'F' => 1\n",
        "df_atleta['sex'] = df_atleta['sex'].map({'M':0, 'F':1}) "
      ],
      "execution_count": null,
      "outputs": []
    },
    {
      "cell_type": "code",
      "metadata": {
        "id": "k6E_obOPF0GH"
      },
      "source": [
        "df_atleta.head()"
      ],
      "execution_count": null,
      "outputs": []
    },
    {
      "cell_type": "code",
      "metadata": {
        "id": "DMOY3n4gF2nB"
      },
      "source": [
        "df_atleta.season.unique()"
      ],
      "execution_count": null,
      "outputs": []
    },
    {
      "cell_type": "code",
      "metadata": {
        "id": "45EB0ugcDS-u"
      },
      "source": [
        "# Aterando na coluna 'season': 'Summer' => 0, 'Winter' => 1\n",
        "df_atleta['season'] = df_atleta['season'].map({'Summer':0, 'Winter':1})"
      ],
      "execution_count": null,
      "outputs": []
    },
    {
      "cell_type": "code",
      "metadata": {
        "id": "7Kac_MhLhj20"
      },
      "source": [
        "df_atleta.head()"
      ],
      "execution_count": null,
      "outputs": []
    },
    {
      "cell_type": "code",
      "metadata": {
        "id": "f5fP8-kQhkuI"
      },
      "source": [
        "# Qtde de NaNs na coluna 'medal'\n",
        "df_atleta.medal.isna().sum()"
      ],
      "execution_count": null,
      "outputs": []
    },
    {
      "cell_type": "code",
      "metadata": {
        "id": "i2EZUX8OMyLG"
      },
      "source": [
        "df_atleta.medal.unique()"
      ],
      "execution_count": null,
      "outputs": []
    },
    {
      "cell_type": "code",
      "metadata": {
        "id": "CQDPQAnGK21x"
      },
      "source": [
        "df_atleta.height.isna().sum()"
      ],
      "execution_count": null,
      "outputs": []
    },
    {
      "cell_type": "code",
      "metadata": {
        "id": "u-JeGR9vCn5e"
      },
      "source": [
        "df_atleta.weight.isna().sum()"
      ],
      "execution_count": null,
      "outputs": []
    },
    {
      "cell_type": "code",
      "metadata": {
        "id": "fHrElGmLZ5CT"
      },
      "source": [
        "# Calculando a média de todas as colunas    \n",
        "df_atleta.mean(axis=0)"
      ],
      "execution_count": null,
      "outputs": []
    },
    {
      "cell_type": "code",
      "metadata": {
        "id": "307V_Q-kVoub"
      },
      "source": [
        "# Verificando as linhas em que se encontram as NaNs da coluna 'height'\n",
        "df_atleta.height[df_atleta.height.isna()]"
      ],
      "execution_count": null,
      "outputs": []
    },
    {
      "cell_type": "code",
      "metadata": {
        "id": "n97BRAI9Nmh3",
        "outputId": "f565035d-5368-4f51-af4e-f963c8fe9025",
        "colab": {
          "base_uri": "https://localhost:8080/",
          "height": 197
        }
      },
      "source": [
        "# Criando coluna 'age_1' que recebe os dados da coluna 'age' com NaN's preenchidos com a mediana\n",
        "df_atleta['age_1'] = df_atleta['age'].fillna(df_atleta['age'].median())\n",
        "df_atleta.head()"
      ],
      "execution_count": null,
      "outputs": [
        {
          "output_type": "execute_result",
          "data": {
            "text/html": [
              "<div>\n",
              "<style scoped>\n",
              "    .dataframe tbody tr th:only-of-type {\n",
              "        vertical-align: middle;\n",
              "    }\n",
              "\n",
              "    .dataframe tbody tr th {\n",
              "        vertical-align: top;\n",
              "    }\n",
              "\n",
              "    .dataframe thead th {\n",
              "        text-align: right;\n",
              "    }\n",
              "</style>\n",
              "<table border=\"1\" class=\"dataframe\">\n",
              "  <thead>\n",
              "    <tr style=\"text-align: right;\">\n",
              "      <th></th>\n",
              "      <th>id</th>\n",
              "      <th>name</th>\n",
              "      <th>sex</th>\n",
              "      <th>age</th>\n",
              "      <th>height</th>\n",
              "      <th>weight</th>\n",
              "      <th>team</th>\n",
              "      <th>noc</th>\n",
              "      <th>games</th>\n",
              "      <th>year</th>\n",
              "      <th>season</th>\n",
              "      <th>city</th>\n",
              "      <th>sport</th>\n",
              "      <th>event</th>\n",
              "      <th>medal</th>\n",
              "      <th>age_1</th>\n",
              "    </tr>\n",
              "  </thead>\n",
              "  <tbody>\n",
              "    <tr>\n",
              "      <th>0</th>\n",
              "      <td>1</td>\n",
              "      <td>A Dijiang</td>\n",
              "      <td>0</td>\n",
              "      <td>24.0</td>\n",
              "      <td>180.0</td>\n",
              "      <td>80.0</td>\n",
              "      <td>China</td>\n",
              "      <td>CHN</td>\n",
              "      <td>1992 Summer</td>\n",
              "      <td>1992</td>\n",
              "      <td>0</td>\n",
              "      <td>Barcelona</td>\n",
              "      <td>Basketball</td>\n",
              "      <td>Basketball Men's Basketball</td>\n",
              "      <td>NaN</td>\n",
              "      <td>24.0</td>\n",
              "    </tr>\n",
              "    <tr>\n",
              "      <th>1</th>\n",
              "      <td>2</td>\n",
              "      <td>A Lamusi</td>\n",
              "      <td>0</td>\n",
              "      <td>23.0</td>\n",
              "      <td>170.0</td>\n",
              "      <td>60.0</td>\n",
              "      <td>China</td>\n",
              "      <td>CHN</td>\n",
              "      <td>2012 Summer</td>\n",
              "      <td>2012</td>\n",
              "      <td>0</td>\n",
              "      <td>London</td>\n",
              "      <td>Judo</td>\n",
              "      <td>Judo Men's Extra-Lightweight</td>\n",
              "      <td>NaN</td>\n",
              "      <td>23.0</td>\n",
              "    </tr>\n",
              "    <tr>\n",
              "      <th>2</th>\n",
              "      <td>3</td>\n",
              "      <td>Gunnar Nielsen Aaby</td>\n",
              "      <td>0</td>\n",
              "      <td>24.0</td>\n",
              "      <td>NaN</td>\n",
              "      <td>NaN</td>\n",
              "      <td>Denmark</td>\n",
              "      <td>DEN</td>\n",
              "      <td>1920 Summer</td>\n",
              "      <td>1920</td>\n",
              "      <td>0</td>\n",
              "      <td>Antwerpen</td>\n",
              "      <td>Football</td>\n",
              "      <td>Football Men's Football</td>\n",
              "      <td>NaN</td>\n",
              "      <td>24.0</td>\n",
              "    </tr>\n",
              "    <tr>\n",
              "      <th>3</th>\n",
              "      <td>4</td>\n",
              "      <td>Edgar Lindenau Aabye</td>\n",
              "      <td>0</td>\n",
              "      <td>34.0</td>\n",
              "      <td>NaN</td>\n",
              "      <td>NaN</td>\n",
              "      <td>Denmark/Sweden</td>\n",
              "      <td>DEN</td>\n",
              "      <td>1900 Summer</td>\n",
              "      <td>1900</td>\n",
              "      <td>0</td>\n",
              "      <td>Paris</td>\n",
              "      <td>Tug-Of-War</td>\n",
              "      <td>Tug-Of-War Men's Tug-Of-War</td>\n",
              "      <td>Gold</td>\n",
              "      <td>34.0</td>\n",
              "    </tr>\n",
              "    <tr>\n",
              "      <th>4</th>\n",
              "      <td>5</td>\n",
              "      <td>Christine Jacoba Aaftink</td>\n",
              "      <td>1</td>\n",
              "      <td>21.0</td>\n",
              "      <td>185.0</td>\n",
              "      <td>82.0</td>\n",
              "      <td>Netherlands</td>\n",
              "      <td>NED</td>\n",
              "      <td>1988 Winter</td>\n",
              "      <td>1988</td>\n",
              "      <td>1</td>\n",
              "      <td>Calgary</td>\n",
              "      <td>Speed Skating</td>\n",
              "      <td>Speed Skating Women's 500 metres</td>\n",
              "      <td>NaN</td>\n",
              "      <td>21.0</td>\n",
              "    </tr>\n",
              "  </tbody>\n",
              "</table>\n",
              "</div>"
            ],
            "text/plain": [
              "   id                      name  ...  medal  age_1\n",
              "0   1                 A Dijiang  ...    NaN   24.0\n",
              "1   2                  A Lamusi  ...    NaN   23.0\n",
              "2   3       Gunnar Nielsen Aaby  ...    NaN   24.0\n",
              "3   4      Edgar Lindenau Aabye  ...   Gold   34.0\n",
              "4   5  Christine Jacoba Aaftink  ...    NaN   21.0\n",
              "\n",
              "[5 rows x 16 columns]"
            ]
          },
          "metadata": {
            "tags": []
          },
          "execution_count": 277
        }
      ]
    },
    {
      "cell_type": "code",
      "metadata": {
        "id": "rugpkfxHh8fd",
        "outputId": "f28ba63f-3f9d-4446-8638-1c75f10f9a59",
        "colab": {
          "base_uri": "https://localhost:8080/",
          "height": 281
        }
      },
      "source": [
        "# Criando coluna 'height_1' que recebe os dados da coluna 'height' com NaN's preenchidos com a mediana\n",
        "df_atleta['height_1'] = df_atleta['height'].fillna(df_atleta['height'].median())\n",
        "df_atleta.head()"
      ],
      "execution_count": null,
      "outputs": [
        {
          "output_type": "execute_result",
          "data": {
            "text/html": [
              "<div>\n",
              "<style scoped>\n",
              "    .dataframe tbody tr th:only-of-type {\n",
              "        vertical-align: middle;\n",
              "    }\n",
              "\n",
              "    .dataframe tbody tr th {\n",
              "        vertical-align: top;\n",
              "    }\n",
              "\n",
              "    .dataframe thead th {\n",
              "        text-align: right;\n",
              "    }\n",
              "</style>\n",
              "<table border=\"1\" class=\"dataframe\">\n",
              "  <thead>\n",
              "    <tr style=\"text-align: right;\">\n",
              "      <th></th>\n",
              "      <th>id</th>\n",
              "      <th>name</th>\n",
              "      <th>sex</th>\n",
              "      <th>age</th>\n",
              "      <th>height</th>\n",
              "      <th>weight</th>\n",
              "      <th>team</th>\n",
              "      <th>noc</th>\n",
              "      <th>games</th>\n",
              "      <th>year</th>\n",
              "      <th>season</th>\n",
              "      <th>city</th>\n",
              "      <th>sport</th>\n",
              "      <th>event</th>\n",
              "      <th>medal</th>\n",
              "      <th>age_1</th>\n",
              "      <th>height_1</th>\n",
              "    </tr>\n",
              "  </thead>\n",
              "  <tbody>\n",
              "    <tr>\n",
              "      <th>0</th>\n",
              "      <td>1</td>\n",
              "      <td>A Dijiang</td>\n",
              "      <td>0</td>\n",
              "      <td>24.0</td>\n",
              "      <td>180.0</td>\n",
              "      <td>80.0</td>\n",
              "      <td>China</td>\n",
              "      <td>CHN</td>\n",
              "      <td>1992 Summer</td>\n",
              "      <td>1992</td>\n",
              "      <td>0</td>\n",
              "      <td>Barcelona</td>\n",
              "      <td>Basketball</td>\n",
              "      <td>Basketball Men's Basketball</td>\n",
              "      <td>NaN</td>\n",
              "      <td>24.0</td>\n",
              "      <td>180.0</td>\n",
              "    </tr>\n",
              "    <tr>\n",
              "      <th>1</th>\n",
              "      <td>2</td>\n",
              "      <td>A Lamusi</td>\n",
              "      <td>0</td>\n",
              "      <td>23.0</td>\n",
              "      <td>170.0</td>\n",
              "      <td>60.0</td>\n",
              "      <td>China</td>\n",
              "      <td>CHN</td>\n",
              "      <td>2012 Summer</td>\n",
              "      <td>2012</td>\n",
              "      <td>0</td>\n",
              "      <td>London</td>\n",
              "      <td>Judo</td>\n",
              "      <td>Judo Men's Extra-Lightweight</td>\n",
              "      <td>NaN</td>\n",
              "      <td>23.0</td>\n",
              "      <td>170.0</td>\n",
              "    </tr>\n",
              "    <tr>\n",
              "      <th>2</th>\n",
              "      <td>3</td>\n",
              "      <td>Gunnar Nielsen Aaby</td>\n",
              "      <td>0</td>\n",
              "      <td>24.0</td>\n",
              "      <td>NaN</td>\n",
              "      <td>NaN</td>\n",
              "      <td>Denmark</td>\n",
              "      <td>DEN</td>\n",
              "      <td>1920 Summer</td>\n",
              "      <td>1920</td>\n",
              "      <td>0</td>\n",
              "      <td>Antwerpen</td>\n",
              "      <td>Football</td>\n",
              "      <td>Football Men's Football</td>\n",
              "      <td>NaN</td>\n",
              "      <td>24.0</td>\n",
              "      <td>175.0</td>\n",
              "    </tr>\n",
              "    <tr>\n",
              "      <th>3</th>\n",
              "      <td>4</td>\n",
              "      <td>Edgar Lindenau Aabye</td>\n",
              "      <td>0</td>\n",
              "      <td>34.0</td>\n",
              "      <td>NaN</td>\n",
              "      <td>NaN</td>\n",
              "      <td>Denmark/Sweden</td>\n",
              "      <td>DEN</td>\n",
              "      <td>1900 Summer</td>\n",
              "      <td>1900</td>\n",
              "      <td>0</td>\n",
              "      <td>Paris</td>\n",
              "      <td>Tug-Of-War</td>\n",
              "      <td>Tug-Of-War Men's Tug-Of-War</td>\n",
              "      <td>Gold</td>\n",
              "      <td>34.0</td>\n",
              "      <td>175.0</td>\n",
              "    </tr>\n",
              "    <tr>\n",
              "      <th>4</th>\n",
              "      <td>5</td>\n",
              "      <td>Christine Jacoba Aaftink</td>\n",
              "      <td>1</td>\n",
              "      <td>21.0</td>\n",
              "      <td>185.0</td>\n",
              "      <td>82.0</td>\n",
              "      <td>Netherlands</td>\n",
              "      <td>NED</td>\n",
              "      <td>1988 Winter</td>\n",
              "      <td>1988</td>\n",
              "      <td>1</td>\n",
              "      <td>Calgary</td>\n",
              "      <td>Speed Skating</td>\n",
              "      <td>Speed Skating Women's 500 metres</td>\n",
              "      <td>NaN</td>\n",
              "      <td>21.0</td>\n",
              "      <td>185.0</td>\n",
              "    </tr>\n",
              "  </tbody>\n",
              "</table>\n",
              "</div>"
            ],
            "text/plain": [
              "   id                      name  sex  ...  medal  age_1  height_1\n",
              "0   1                 A Dijiang    0  ...    NaN   24.0     180.0\n",
              "1   2                  A Lamusi    0  ...    NaN   23.0     170.0\n",
              "2   3       Gunnar Nielsen Aaby    0  ...    NaN   24.0     175.0\n",
              "3   4      Edgar Lindenau Aabye    0  ...   Gold   34.0     175.0\n",
              "4   5  Christine Jacoba Aaftink    1  ...    NaN   21.0     185.0\n",
              "\n",
              "[5 rows x 17 columns]"
            ]
          },
          "metadata": {
            "tags": []
          },
          "execution_count": 278
        }
      ]
    },
    {
      "cell_type": "code",
      "metadata": {
        "id": "rFa4ZPBCjmIr",
        "outputId": "7781b25a-427e-4111-9c8c-444171b7ace5",
        "colab": {
          "base_uri": "https://localhost:8080/",
          "height": 281
        }
      },
      "source": [
        "# Criando coluna 'weight_1' que recebe os dados da coluna 'weight' com NaN's preenchidos com a mediana\n",
        "df_atleta['weight_1'] = df_atleta['weight'].fillna(df_atleta['weight'].median())\n",
        "df_atleta.head()"
      ],
      "execution_count": null,
      "outputs": [
        {
          "output_type": "execute_result",
          "data": {
            "text/html": [
              "<div>\n",
              "<style scoped>\n",
              "    .dataframe tbody tr th:only-of-type {\n",
              "        vertical-align: middle;\n",
              "    }\n",
              "\n",
              "    .dataframe tbody tr th {\n",
              "        vertical-align: top;\n",
              "    }\n",
              "\n",
              "    .dataframe thead th {\n",
              "        text-align: right;\n",
              "    }\n",
              "</style>\n",
              "<table border=\"1\" class=\"dataframe\">\n",
              "  <thead>\n",
              "    <tr style=\"text-align: right;\">\n",
              "      <th></th>\n",
              "      <th>id</th>\n",
              "      <th>name</th>\n",
              "      <th>sex</th>\n",
              "      <th>age</th>\n",
              "      <th>height</th>\n",
              "      <th>weight</th>\n",
              "      <th>team</th>\n",
              "      <th>noc</th>\n",
              "      <th>games</th>\n",
              "      <th>year</th>\n",
              "      <th>season</th>\n",
              "      <th>city</th>\n",
              "      <th>sport</th>\n",
              "      <th>event</th>\n",
              "      <th>medal</th>\n",
              "      <th>age_1</th>\n",
              "      <th>height_1</th>\n",
              "      <th>weight_1</th>\n",
              "    </tr>\n",
              "  </thead>\n",
              "  <tbody>\n",
              "    <tr>\n",
              "      <th>0</th>\n",
              "      <td>1</td>\n",
              "      <td>A Dijiang</td>\n",
              "      <td>0</td>\n",
              "      <td>24.0</td>\n",
              "      <td>180.0</td>\n",
              "      <td>80.0</td>\n",
              "      <td>China</td>\n",
              "      <td>CHN</td>\n",
              "      <td>1992 Summer</td>\n",
              "      <td>1992</td>\n",
              "      <td>0</td>\n",
              "      <td>Barcelona</td>\n",
              "      <td>Basketball</td>\n",
              "      <td>Basketball Men's Basketball</td>\n",
              "      <td>NaN</td>\n",
              "      <td>24.0</td>\n",
              "      <td>180.0</td>\n",
              "      <td>80.0</td>\n",
              "    </tr>\n",
              "    <tr>\n",
              "      <th>1</th>\n",
              "      <td>2</td>\n",
              "      <td>A Lamusi</td>\n",
              "      <td>0</td>\n",
              "      <td>23.0</td>\n",
              "      <td>170.0</td>\n",
              "      <td>60.0</td>\n",
              "      <td>China</td>\n",
              "      <td>CHN</td>\n",
              "      <td>2012 Summer</td>\n",
              "      <td>2012</td>\n",
              "      <td>0</td>\n",
              "      <td>London</td>\n",
              "      <td>Judo</td>\n",
              "      <td>Judo Men's Extra-Lightweight</td>\n",
              "      <td>NaN</td>\n",
              "      <td>23.0</td>\n",
              "      <td>170.0</td>\n",
              "      <td>60.0</td>\n",
              "    </tr>\n",
              "    <tr>\n",
              "      <th>2</th>\n",
              "      <td>3</td>\n",
              "      <td>Gunnar Nielsen Aaby</td>\n",
              "      <td>0</td>\n",
              "      <td>24.0</td>\n",
              "      <td>NaN</td>\n",
              "      <td>NaN</td>\n",
              "      <td>Denmark</td>\n",
              "      <td>DEN</td>\n",
              "      <td>1920 Summer</td>\n",
              "      <td>1920</td>\n",
              "      <td>0</td>\n",
              "      <td>Antwerpen</td>\n",
              "      <td>Football</td>\n",
              "      <td>Football Men's Football</td>\n",
              "      <td>NaN</td>\n",
              "      <td>24.0</td>\n",
              "      <td>175.0</td>\n",
              "      <td>70.0</td>\n",
              "    </tr>\n",
              "    <tr>\n",
              "      <th>3</th>\n",
              "      <td>4</td>\n",
              "      <td>Edgar Lindenau Aabye</td>\n",
              "      <td>0</td>\n",
              "      <td>34.0</td>\n",
              "      <td>NaN</td>\n",
              "      <td>NaN</td>\n",
              "      <td>Denmark/Sweden</td>\n",
              "      <td>DEN</td>\n",
              "      <td>1900 Summer</td>\n",
              "      <td>1900</td>\n",
              "      <td>0</td>\n",
              "      <td>Paris</td>\n",
              "      <td>Tug-Of-War</td>\n",
              "      <td>Tug-Of-War Men's Tug-Of-War</td>\n",
              "      <td>Gold</td>\n",
              "      <td>34.0</td>\n",
              "      <td>175.0</td>\n",
              "      <td>70.0</td>\n",
              "    </tr>\n",
              "    <tr>\n",
              "      <th>4</th>\n",
              "      <td>5</td>\n",
              "      <td>Christine Jacoba Aaftink</td>\n",
              "      <td>1</td>\n",
              "      <td>21.0</td>\n",
              "      <td>185.0</td>\n",
              "      <td>82.0</td>\n",
              "      <td>Netherlands</td>\n",
              "      <td>NED</td>\n",
              "      <td>1988 Winter</td>\n",
              "      <td>1988</td>\n",
              "      <td>1</td>\n",
              "      <td>Calgary</td>\n",
              "      <td>Speed Skating</td>\n",
              "      <td>Speed Skating Women's 500 metres</td>\n",
              "      <td>NaN</td>\n",
              "      <td>21.0</td>\n",
              "      <td>185.0</td>\n",
              "      <td>82.0</td>\n",
              "    </tr>\n",
              "  </tbody>\n",
              "</table>\n",
              "</div>"
            ],
            "text/plain": [
              "   id                      name  sex   age  ...  medal  age_1 height_1 weight_1\n",
              "0   1                 A Dijiang    0  24.0  ...    NaN   24.0    180.0     80.0\n",
              "1   2                  A Lamusi    0  23.0  ...    NaN   23.0    170.0     60.0\n",
              "2   3       Gunnar Nielsen Aaby    0  24.0  ...    NaN   24.0    175.0     70.0\n",
              "3   4      Edgar Lindenau Aabye    0  34.0  ...   Gold   34.0    175.0     70.0\n",
              "4   5  Christine Jacoba Aaftink    1  21.0  ...    NaN   21.0    185.0     82.0\n",
              "\n",
              "[5 rows x 18 columns]"
            ]
          },
          "metadata": {
            "tags": []
          },
          "execution_count": 279
        }
      ]
    },
    {
      "cell_type": "code",
      "metadata": {
        "id": "RLB9PY3bkKcb"
      },
      "source": [
        "# Conferindo 'age_1' nas linhas  em que 'age' = NaNs\n",
        "df_atleta[df_atleta['age'].isna()]"
      ],
      "execution_count": null,
      "outputs": []
    },
    {
      "cell_type": "code",
      "metadata": {
        "id": "DtUV2R5BmBXV",
        "outputId": "f066ab8f-203a-45c1-b0bc-ab0dc305989d",
        "colab": {
          "base_uri": "https://localhost:8080/",
          "height": 281
        }
      },
      "source": [
        "# Criando coluna 'medal_1' que recebe dados da colunaa 'medal' com os NaNs preenchidos com 'no_medal'\n",
        "df_atleta['medal_1'] = df_atleta['medal'].fillna('no_medal')\n",
        "df_atleta.head()"
      ],
      "execution_count": null,
      "outputs": [
        {
          "output_type": "execute_result",
          "data": {
            "text/html": [
              "<div>\n",
              "<style scoped>\n",
              "    .dataframe tbody tr th:only-of-type {\n",
              "        vertical-align: middle;\n",
              "    }\n",
              "\n",
              "    .dataframe tbody tr th {\n",
              "        vertical-align: top;\n",
              "    }\n",
              "\n",
              "    .dataframe thead th {\n",
              "        text-align: right;\n",
              "    }\n",
              "</style>\n",
              "<table border=\"1\" class=\"dataframe\">\n",
              "  <thead>\n",
              "    <tr style=\"text-align: right;\">\n",
              "      <th></th>\n",
              "      <th>id</th>\n",
              "      <th>name</th>\n",
              "      <th>sex</th>\n",
              "      <th>age</th>\n",
              "      <th>height</th>\n",
              "      <th>weight</th>\n",
              "      <th>team</th>\n",
              "      <th>noc</th>\n",
              "      <th>games</th>\n",
              "      <th>year</th>\n",
              "      <th>season</th>\n",
              "      <th>city</th>\n",
              "      <th>sport</th>\n",
              "      <th>event</th>\n",
              "      <th>medal</th>\n",
              "      <th>age_1</th>\n",
              "      <th>height_1</th>\n",
              "      <th>weight_1</th>\n",
              "      <th>medal_1</th>\n",
              "    </tr>\n",
              "  </thead>\n",
              "  <tbody>\n",
              "    <tr>\n",
              "      <th>0</th>\n",
              "      <td>1</td>\n",
              "      <td>A Dijiang</td>\n",
              "      <td>0</td>\n",
              "      <td>24.0</td>\n",
              "      <td>180.0</td>\n",
              "      <td>80.0</td>\n",
              "      <td>China</td>\n",
              "      <td>CHN</td>\n",
              "      <td>1992 Summer</td>\n",
              "      <td>1992</td>\n",
              "      <td>0</td>\n",
              "      <td>Barcelona</td>\n",
              "      <td>Basketball</td>\n",
              "      <td>Basketball Men's Basketball</td>\n",
              "      <td>NaN</td>\n",
              "      <td>24.0</td>\n",
              "      <td>180.0</td>\n",
              "      <td>80.0</td>\n",
              "      <td>no_medal</td>\n",
              "    </tr>\n",
              "    <tr>\n",
              "      <th>1</th>\n",
              "      <td>2</td>\n",
              "      <td>A Lamusi</td>\n",
              "      <td>0</td>\n",
              "      <td>23.0</td>\n",
              "      <td>170.0</td>\n",
              "      <td>60.0</td>\n",
              "      <td>China</td>\n",
              "      <td>CHN</td>\n",
              "      <td>2012 Summer</td>\n",
              "      <td>2012</td>\n",
              "      <td>0</td>\n",
              "      <td>London</td>\n",
              "      <td>Judo</td>\n",
              "      <td>Judo Men's Extra-Lightweight</td>\n",
              "      <td>NaN</td>\n",
              "      <td>23.0</td>\n",
              "      <td>170.0</td>\n",
              "      <td>60.0</td>\n",
              "      <td>no_medal</td>\n",
              "    </tr>\n",
              "    <tr>\n",
              "      <th>2</th>\n",
              "      <td>3</td>\n",
              "      <td>Gunnar Nielsen Aaby</td>\n",
              "      <td>0</td>\n",
              "      <td>24.0</td>\n",
              "      <td>NaN</td>\n",
              "      <td>NaN</td>\n",
              "      <td>Denmark</td>\n",
              "      <td>DEN</td>\n",
              "      <td>1920 Summer</td>\n",
              "      <td>1920</td>\n",
              "      <td>0</td>\n",
              "      <td>Antwerpen</td>\n",
              "      <td>Football</td>\n",
              "      <td>Football Men's Football</td>\n",
              "      <td>NaN</td>\n",
              "      <td>24.0</td>\n",
              "      <td>175.0</td>\n",
              "      <td>70.0</td>\n",
              "      <td>no_medal</td>\n",
              "    </tr>\n",
              "    <tr>\n",
              "      <th>3</th>\n",
              "      <td>4</td>\n",
              "      <td>Edgar Lindenau Aabye</td>\n",
              "      <td>0</td>\n",
              "      <td>34.0</td>\n",
              "      <td>NaN</td>\n",
              "      <td>NaN</td>\n",
              "      <td>Denmark/Sweden</td>\n",
              "      <td>DEN</td>\n",
              "      <td>1900 Summer</td>\n",
              "      <td>1900</td>\n",
              "      <td>0</td>\n",
              "      <td>Paris</td>\n",
              "      <td>Tug-Of-War</td>\n",
              "      <td>Tug-Of-War Men's Tug-Of-War</td>\n",
              "      <td>Gold</td>\n",
              "      <td>34.0</td>\n",
              "      <td>175.0</td>\n",
              "      <td>70.0</td>\n",
              "      <td>Gold</td>\n",
              "    </tr>\n",
              "    <tr>\n",
              "      <th>4</th>\n",
              "      <td>5</td>\n",
              "      <td>Christine Jacoba Aaftink</td>\n",
              "      <td>1</td>\n",
              "      <td>21.0</td>\n",
              "      <td>185.0</td>\n",
              "      <td>82.0</td>\n",
              "      <td>Netherlands</td>\n",
              "      <td>NED</td>\n",
              "      <td>1988 Winter</td>\n",
              "      <td>1988</td>\n",
              "      <td>1</td>\n",
              "      <td>Calgary</td>\n",
              "      <td>Speed Skating</td>\n",
              "      <td>Speed Skating Women's 500 metres</td>\n",
              "      <td>NaN</td>\n",
              "      <td>21.0</td>\n",
              "      <td>185.0</td>\n",
              "      <td>82.0</td>\n",
              "      <td>no_medal</td>\n",
              "    </tr>\n",
              "  </tbody>\n",
              "</table>\n",
              "</div>"
            ],
            "text/plain": [
              "   id                      name  sex   age  ...  age_1  height_1 weight_1   medal_1\n",
              "0   1                 A Dijiang    0  24.0  ...   24.0     180.0     80.0  no_medal\n",
              "1   2                  A Lamusi    0  23.0  ...   23.0     170.0     60.0  no_medal\n",
              "2   3       Gunnar Nielsen Aaby    0  24.0  ...   24.0     175.0     70.0  no_medal\n",
              "3   4      Edgar Lindenau Aabye    0  34.0  ...   34.0     175.0     70.0      Gold\n",
              "4   5  Christine Jacoba Aaftink    1  21.0  ...   21.0     185.0     82.0  no_medal\n",
              "\n",
              "[5 rows x 19 columns]"
            ]
          },
          "metadata": {
            "tags": []
          },
          "execution_count": 280
        }
      ]
    },
    {
      "cell_type": "code",
      "metadata": {
        "id": "rS0qcGNuEmJG"
      },
      "source": [
        "# Substituindo os dados da coluna 'medal_1' com números 1, 2, 3 e 0:\n",
        "df_atleta['medal_1'] = df_atleta['medal_1'].map({'Gold': 1, 'Silver' : 2, 'Bronze' : 3, 'no_medal': 0.0})"
      ],
      "execution_count": null,
      "outputs": []
    },
    {
      "cell_type": "code",
      "metadata": {
        "id": "LVrnuuczJfZo"
      },
      "source": [
        "# tratando colunas 'team', 'city', e 'sport' aplicando LabelEncoder()\n",
        "\n",
        "from sklearn.preprocessing import LabelEncoder, OneHotEncoder\n",
        "le = LabelEncoder()\n",
        "\n",
        "# df_atleta['team_le'] = le.fit_transform(df_atleta['team'])\n",
        "# df_atleta['city_le'] = le.fit_transform(df_atleta['city'])\n",
        "# df_atleta['sport_le'] = le.fit_transform(df_atleta['sport'])"
      ],
      "execution_count": null,
      "outputs": []
    },
    {
      "cell_type": "code",
      "metadata": {
        "id": "LAE9VGgJpZrA"
      },
      "source": [
        "df_atleta.columns"
      ],
      "execution_count": null,
      "outputs": []
    },
    {
      "cell_type": "code",
      "metadata": {
        "id": "X8BY55lLeoKx"
      },
      "source": [
        "len(df_atleta.sport.unique())"
      ],
      "execution_count": null,
      "outputs": []
    },
    {
      "cell_type": "code",
      "metadata": {
        "id": "ECKMoNjngeZW"
      },
      "source": [
        "len (df_atleta.noc.unique())"
      ],
      "execution_count": null,
      "outputs": []
    },
    {
      "cell_type": "code",
      "metadata": {
        "id": "KtPDErlG1N9F"
      },
      "source": [
        "df_atleta = df_atleta.drop(axis=1, columns={'age', 'height', 'weight', 'medal'})"
      ],
      "execution_count": null,
      "outputs": []
    },
    {
      "cell_type": "code",
      "metadata": {
        "id": "MSm3SXI51gG4"
      },
      "source": [
        "df_atleta.head()"
      ],
      "execution_count": null,
      "outputs": []
    },
    {
      "cell_type": "code",
      "metadata": {
        "id": "Yfpq2eXH1smY"
      },
      "source": [
        "df_atleta.columns"
      ],
      "execution_count": null,
      "outputs": []
    },
    {
      "cell_type": "code",
      "metadata": {
        "id": "QwgyzbeUyE6b"
      },
      "source": [
        "# df_atleta1 = df_atleta.drop(axis=1, columns={'name','sex','team', 'noc', 'games','year', 'season', 'city', 'sport', 'event', 'age_1', 'medal_1'})\n",
        "df_atleta_unico = df_atleta.copy()"
      ],
      "execution_count": null,
      "outputs": []
    },
    {
      "cell_type": "code",
      "metadata": {
        "id": "JOFXmHnMSvHm",
        "outputId": "0900b2d7-293a-4472-bf5f-99f4f8c4233f",
        "colab": {
          "base_uri": "https://localhost:8080/",
          "height": 407
        }
      },
      "source": [
        "df_atleta_unico.info()"
      ],
      "execution_count": null,
      "outputs": [
        {
          "output_type": "stream",
          "text": [
            "<class 'pandas.core.frame.DataFrame'>\n",
            "Int64Index: 269731 entries, 0 to 271115\n",
            "Data columns (total 15 columns):\n",
            " #   Column    Non-Null Count   Dtype  \n",
            "---  ------    --------------   -----  \n",
            " 0   id        269731 non-null  int64  \n",
            " 1   name      269731 non-null  object \n",
            " 2   sex       269731 non-null  int64  \n",
            " 3   team      269731 non-null  object \n",
            " 4   noc       269731 non-null  object \n",
            " 5   games     269731 non-null  object \n",
            " 6   year      269731 non-null  int64  \n",
            " 7   season    269731 non-null  int64  \n",
            " 8   city      269731 non-null  object \n",
            " 9   sport     269731 non-null  object \n",
            " 10  event     269731 non-null  object \n",
            " 11  age_1     269731 non-null  float64\n",
            " 12  height_1  269731 non-null  float64\n",
            " 13  weight_1  269731 non-null  float64\n",
            " 14  medal_1   269731 non-null  float64\n",
            "dtypes: float64(4), int64(4), object(7)\n",
            "memory usage: 32.9+ MB\n"
          ],
          "name": "stdout"
        }
      ]
    },
    {
      "cell_type": "code",
      "metadata": {
        "id": "n5PC9FegMyEg"
      },
      "source": [
        "# Eliminando linhas com mesmo ID (ficará uma linha por atleta)\n",
        "\n",
        "df_atleta_unico.drop_duplicates(subset=['id'], inplace = True)"
      ],
      "execution_count": null,
      "outputs": []
    },
    {
      "cell_type": "code",
      "metadata": {
        "id": "VHyHgJANSI-u",
        "outputId": "083f8d4e-29ae-4627-db01-41207dac66da",
        "colab": {
          "base_uri": "https://localhost:8080/",
          "height": 407
        }
      },
      "source": [
        "df_atleta_unico.info()"
      ],
      "execution_count": null,
      "outputs": [
        {
          "output_type": "stream",
          "text": [
            "<class 'pandas.core.frame.DataFrame'>\n",
            "Int64Index: 135571 entries, 0 to 271114\n",
            "Data columns (total 15 columns):\n",
            " #   Column    Non-Null Count   Dtype  \n",
            "---  ------    --------------   -----  \n",
            " 0   id        135571 non-null  int64  \n",
            " 1   name      135571 non-null  object \n",
            " 2   sex       135571 non-null  int64  \n",
            " 3   team      135571 non-null  object \n",
            " 4   noc       135571 non-null  object \n",
            " 5   games     135571 non-null  object \n",
            " 6   year      135571 non-null  int64  \n",
            " 7   season    135571 non-null  int64  \n",
            " 8   city      135571 non-null  object \n",
            " 9   sport     135571 non-null  object \n",
            " 10  event     135571 non-null  object \n",
            " 11  age_1     135571 non-null  float64\n",
            " 12  height_1  135571 non-null  float64\n",
            " 13  weight_1  135571 non-null  float64\n",
            " 14  medal_1   135571 non-null  float64\n",
            "dtypes: float64(4), int64(4), object(7)\n",
            "memory usage: 16.5+ MB\n"
          ],
          "name": "stdout"
        }
      ]
    },
    {
      "cell_type": "code",
      "metadata": {
        "id": "13pb9nJzVnSh"
      },
      "source": [
        "df_atleta1 = df_atleta_unico.drop(axis=1, columns = {'id','name','sex','team', 'noc', 'games','year', 'season', 'city', 'sport', 'event', 'age_1', 'medal_1'})"
      ],
      "execution_count": null,
      "outputs": []
    },
    {
      "cell_type": "code",
      "metadata": {
        "id": "KrQgrvQAWPbJ",
        "outputId": "8c212f10-dde9-4236-f95c-45029559e0b0",
        "colab": {
          "base_uri": "https://localhost:8080/",
          "height": 176
        }
      },
      "source": [
        "df_atleta1.info()"
      ],
      "execution_count": null,
      "outputs": [
        {
          "output_type": "stream",
          "text": [
            "<class 'pandas.core.frame.DataFrame'>\n",
            "Int64Index: 135571 entries, 0 to 271114\n",
            "Data columns (total 2 columns):\n",
            " #   Column    Non-Null Count   Dtype  \n",
            "---  ------    --------------   -----  \n",
            " 0   height_1  135571 non-null  float64\n",
            " 1   weight_1  135571 non-null  float64\n",
            "dtypes: float64(2)\n",
            "memory usage: 3.1 MB\n"
          ],
          "name": "stdout"
        }
      ]
    },
    {
      "cell_type": "code",
      "metadata": {
        "id": "paikbGkfY8IC",
        "outputId": "aaabc682-1a2b-4b5f-8849-cdec2e470492",
        "colab": {
          "base_uri": "https://localhost:8080/",
          "height": 282
        }
      },
      "source": [
        "df_atleta1.plot(kind = 'kde')"
      ],
      "execution_count": null,
      "outputs": [
        {
          "output_type": "execute_result",
          "data": {
            "text/plain": [
              "<matplotlib.axes._subplots.AxesSubplot at 0x7fdc78861a20>"
            ]
          },
          "metadata": {
            "tags": []
          },
          "execution_count": 312
        },
        {
          "output_type": "display_data",
          "data": {
            "image/png": "[encoded data removed]",
            "text/plain": [
              "<Figure size 432x288 with 1 Axes>"
            ]
          },
          "metadata": {
            "tags": [],
            "needs_background": "light"
          }
        }
      ]
    },
    {
      "cell_type": "code",
      "metadata": {
        "id": "ekbuT65Pqufa"
      },
      "source": [
        "# Aplicar a trasformação StandardScaler e MinMaxScaler nos campos/colunas numéricas 'height' e 'weight'."
      ],
      "execution_count": null,
      "outputs": []
    },
    {
      "cell_type": "code",
      "metadata": {
        "id": "23EgqASkPTy4"
      },
      "source": [
        "# Transformação 1: StandardScaler \n",
        "# (StandardScaler é a transformação que centraliza os dados através da remoção da média (dos dados) e, na sequência,\n",
        "# redimensiona (scale) através da divisão pelo desvio-padrão. \n",
        "# Após a transformação, os dados terão média zero e desvio-padrão 1. \n",
        "# Assume que os dados (as colunas a serem transformadas) são normalmente distribuidos ;\n",
        "# Se os dados não possuem distribuição Normal, então esta não é uma boa transformação a se aplicar.)\n",
        "\n",
        "import numpy as np\n",
        "from sklearn.preprocessing import StandardScaler\n",
        "np.set_printoptions(precision = 3)"
      ],
      "execution_count": null,
      "outputs": []
    },
    {
      "cell_type": "code",
      "metadata": {
        "id": "lWM1ZDfwo1-H"
      },
      "source": [
        "# array com as preditoras, da seguinte forma: X = [coluna1, coluna2, ..., colunaN]\n",
        "# OBSERVAR : A1_scale, A1_scale_transform, A1_scale_fit_transform --> São arrays multidimensionais (do tipo NumPy)!\n",
        "\n",
        "A1_scale = StandardScaler().fit_transform(df_atleta1) # Combinação dos métodos fit() + transform()\n",
        "\n",
        "A1_scale_fit = StandardScaler().fit(df_atleta1) # Aplica o fit() separadamente\n",
        "A1_scale_transform = A1_scale_fit.transform(df_atleta1) # Aplica o transform() separadamente.\n",
        "A1_scale_fit_transform = StandardScaler().fit(df_atleta1).transform(df_atleta1) # Aplica fit().transform() encadeado\n"
      ],
      "execution_count": null,
      "outputs": []
    },
    {
      "cell_type": "code",
      "metadata": {
        "id": "DII4eA3EHSRz"
      },
      "source": [
        "# convertendo o array A1_scale obtido acima em dataframe:\n",
        "df_A1_scale = pd.DataFrame(A1_scale, columns = ['height_1', 'weight_1'])"
      ],
      "execution_count": null,
      "outputs": []
    },
    {
      "cell_type": "code",
      "metadata": {
        "id": "mclhtGqFJCSF",
        "outputId": "e9bd35ea-f92b-4770-8ea9-5878bb5c5994",
        "colab": {
          "base_uri": "https://localhost:8080/",
          "height": 282
        }
      },
      "source": [
        "df_A1_scale.plot(kind = 'kde')"
      ],
      "execution_count": null,
      "outputs": [
        {
          "output_type": "execute_result",
          "data": {
            "text/plain": [
              "<matplotlib.axes._subplots.AxesSubplot at 0x7fdd7ed79630>"
            ]
          },
          "metadata": {
            "tags": []
          },
          "execution_count": 316
        },
        {
          "output_type": "display_data",
          "data": {
            "image/png": "[encoded data removed]",
            "text/plain": [
              "<Figure size 432x288 with 1 Axes>"
            ]
          },
          "metadata": {
            "tags": [],
            "needs_background": "light"
          }
        }
      ]
    },
    {
      "cell_type": "code",
      "metadata": {
        "id": "4TZJ_14KUJMe"
      },
      "source": [
        "# aplicando separadamente as transformações fit, transform, e fit_transform:\n",
        "\n",
        "df_A1_scale_fit = pd.DataFrame(A1_scale, columns = ['height_1', 'weight_1'])\n",
        "df_A1_scale_transform = pd.DataFrame(A1_scale, columns = ['height_1', 'weight_1'])\n",
        "df_A1_scale_fit_transform = pd.DataFrame(A1_scale, columns = ['height_1', 'weight_1'])"
      ],
      "execution_count": null,
      "outputs": []
    },
    {
      "cell_type": "code",
      "metadata": {
        "id": "q8pM_kPrUYoo"
      },
      "source": [
        "df_A1_scale_fit.head()"
      ],
      "execution_count": null,
      "outputs": []
    },
    {
      "cell_type": "code",
      "metadata": {
        "id": "HcaGj9GBUfGY"
      },
      "source": [
        "df_A1_scale_transform.head()"
      ],
      "execution_count": null,
      "outputs": []
    },
    {
      "cell_type": "code",
      "metadata": {
        "id": "8ddAsj09UiZI"
      },
      "source": [
        "df_A1_scale_fit_transform.head()"
      ],
      "execution_count": null,
      "outputs": []
    },
    {
      "cell_type": "code",
      "metadata": {
        "id": "ms5EvLWbM5tw"
      },
      "source": [
        "df_A1_scale_fit.describe()"
      ],
      "execution_count": null,
      "outputs": []
    },
    {
      "cell_type": "code",
      "metadata": {
        "id": "nSZR-TikNE7E"
      },
      "source": [
        "df_A1_scale_transform.describe()"
      ],
      "execution_count": null,
      "outputs": []
    },
    {
      "cell_type": "code",
      "metadata": {
        "id": "YSW7sqmTNNN0"
      },
      "source": [
        "df_A1_scale_fit_transform.describe()"
      ],
      "execution_count": null,
      "outputs": []
    },
    {
      "cell_type": "code",
      "metadata": {
        "id": "LrsrqX-9tkSo"
      },
      "source": [
        "# Transformação 2: MinMaxScaler\n",
        "# (Transformação muito popular e utilizada.\n",
        "# Transforma os dados para o intervalo (0, 1);\n",
        "# Se StandardScaler não é aplicável, então essa transformação funciona bem.\n",
        "# Sensível aos outliers. Portanto, o ideal é que os outliers sejam tratados previamente.\n",
        "# Uma transformação similar à MinMaxScaler() é MaxAbsScaler() que redimensiona os dados no intervalo [-1, 1].)\n",
        "\n",
        "from sklearn.preprocessing import MinMaxScaler\n",
        "\n",
        "# aplicando a transformação => array\n",
        "A1_MinMaxScaler = MinMaxScaler().fit_transform(df_atleta1)\n",
        "\n",
        "# convertendo array em dataframe:\n",
        "df_atleta1_MinMaxScaler = pd.DataFrame(A1_MinMaxScaler, columns = ['height_1', 'weight_1'])"
      ],
      "execution_count": null,
      "outputs": []
    },
    {
      "cell_type": "code",
      "metadata": {
        "id": "5iJjSpCMCcc0",
        "outputId": "cb225ac8-1c2d-4d71-f6f7-5c195d5bc706",
        "colab": {
          "base_uri": "https://localhost:8080/",
          "height": 282
        }
      },
      "source": [
        "# Gráfico\n",
        "df_atleta1_MinMaxScaler.plot(kind = 'kde')"
      ],
      "execution_count": null,
      "outputs": [
        {
          "output_type": "execute_result",
          "data": {
            "text/plain": [
              "<matplotlib.axes._subplots.AxesSubplot at 0x7fdc783b72b0>"
            ]
          },
          "metadata": {
            "tags": []
          },
          "execution_count": 319
        },
        {
          "output_type": "display_data",
          "data": {
            "image/png": "[encoded data removed]",
            "text/plain": [
              "<Figure size 432x288 with 1 Axes>"
            ]
          },
          "metadata": {
            "tags": [],
            "needs_background": "light"
          }
        }
      ]
    },
    {
      "cell_type": "code",
      "metadata": {
        "id": "pu9fGcAEBna7",
        "outputId": "88889860-69ea-476f-a615-21c131dbbc73",
        "colab": {
          "base_uri": "https://localhost:8080/",
          "height": 282
        }
      },
      "source": [
        "# RobustScaler (Transformação ideal para dados com outliers)\n",
        "\n",
        "from sklearn.preprocessing import RobustScaler\n",
        "\n",
        "# aplicando a transformação RobustScaler => array\n",
        "A1_RobustScaler = RobustScaler().fit_transform(df_atleta1)\n",
        "\n",
        "# convertendo array em dataframe:\n",
        "df_A1_RobustScaler = pd.DataFrame(A1_RobustScaler, columns = ['height_1', 'weight_1'])\n",
        "\n",
        "# Gráfico\n",
        "df_A1_RobustScaler.plot(kind = 'kde')"
      ],
      "execution_count": null,
      "outputs": [
        {
          "output_type": "execute_result",
          "data": {
            "text/plain": [
              "<matplotlib.axes._subplots.AxesSubplot at 0x7fdc704b23c8>"
            ]
          },
          "metadata": {
            "tags": []
          },
          "execution_count": 320
        },
        {
          "output_type": "display_data",
          "data": {
            "image/png": "[encoded data removed]",
            "text/plain": [
              "<Figure size 432x288 with 1 Axes>"
            ]
          },
          "metadata": {
            "tags": [],
            "needs_background": "light"
          }
        }
      ]
    },
    {
      "cell_type": "code",
      "metadata": {
        "id": "utoFAYGfkkod"
      },
      "source": [
        "df_atleta1.describe()"
      ],
      "execution_count": null,
      "outputs": []
    },
    {
      "cell_type": "code",
      "metadata": {
        "id": "QLTdMduRSmPI"
      },
      "source": [
        "df_A1_scale.describe()"
      ],
      "execution_count": null,
      "outputs": []
    },
    {
      "cell_type": "code",
      "metadata": {
        "id": "tP5Hy45Fkaql",
        "outputId": "13fd7068-fe33-4472-a077-4bb98b2477ad",
        "colab": {
          "base_uri": "https://localhost:8080/",
          "height": 107
        }
      },
      "source": [
        "df_atleta1.corr()"
      ],
      "execution_count": null,
      "outputs": [
        {
          "output_type": "execute_result",
          "data": {
            "text/html": [
              "<div>\n",
              "<style scoped>\n",
              "    .dataframe tbody tr th:only-of-type {\n",
              "        vertical-align: middle;\n",
              "    }\n",
              "\n",
              "    .dataframe tbody tr th {\n",
              "        vertical-align: top;\n",
              "    }\n",
              "\n",
              "    .dataframe thead th {\n",
              "        text-align: right;\n",
              "    }\n",
              "</style>\n",
              "<table border=\"1\" class=\"dataframe\">\n",
              "  <thead>\n",
              "    <tr style=\"text-align: right;\">\n",
              "      <th></th>\n",
              "      <th>height_1</th>\n",
              "      <th>weight_1</th>\n",
              "    </tr>\n",
              "  </thead>\n",
              "  <tbody>\n",
              "    <tr>\n",
              "      <th>height_1</th>\n",
              "      <td>1.000000</td>\n",
              "      <td>0.763795</td>\n",
              "    </tr>\n",
              "    <tr>\n",
              "      <th>weight_1</th>\n",
              "      <td>0.763795</td>\n",
              "      <td>1.000000</td>\n",
              "    </tr>\n",
              "  </tbody>\n",
              "</table>\n",
              "</div>"
            ],
            "text/plain": [
              "          height_1  weight_1\n",
              "height_1  1.000000  0.763795\n",
              "weight_1  0.763795  1.000000"
            ]
          },
          "metadata": {
            "tags": []
          },
          "execution_count": 321
        }
      ]
    },
    {
      "cell_type": "code",
      "metadata": {
        "id": "j8B2iTZskywa",
        "outputId": "1bcac600-1199-4e2a-ce4f-b58ab3b05d98",
        "colab": {
          "base_uri": "https://localhost:8080/",
          "height": 107
        }
      },
      "source": [
        "df_A1_scale.corr()"
      ],
      "execution_count": null,
      "outputs": [
        {
          "output_type": "execute_result",
          "data": {
            "text/html": [
              "<div>\n",
              "<style scoped>\n",
              "    .dataframe tbody tr th:only-of-type {\n",
              "        vertical-align: middle;\n",
              "    }\n",
              "\n",
              "    .dataframe tbody tr th {\n",
              "        vertical-align: top;\n",
              "    }\n",
              "\n",
              "    .dataframe thead th {\n",
              "        text-align: right;\n",
              "    }\n",
              "</style>\n",
              "<table border=\"1\" class=\"dataframe\">\n",
              "  <thead>\n",
              "    <tr style=\"text-align: right;\">\n",
              "      <th></th>\n",
              "      <th>height_1</th>\n",
              "      <th>weight_1</th>\n",
              "    </tr>\n",
              "  </thead>\n",
              "  <tbody>\n",
              "    <tr>\n",
              "      <th>height_1</th>\n",
              "      <td>1.000000</td>\n",
              "      <td>0.763795</td>\n",
              "    </tr>\n",
              "    <tr>\n",
              "      <th>weight_1</th>\n",
              "      <td>0.763795</td>\n",
              "      <td>1.000000</td>\n",
              "    </tr>\n",
              "  </tbody>\n",
              "</table>\n",
              "</div>"
            ],
            "text/plain": [
              "          height_1  weight_1\n",
              "height_1  1.000000  0.763795\n",
              "weight_1  0.763795  1.000000"
            ]
          },
          "metadata": {
            "tags": []
          },
          "execution_count": 322
        }
      ]
    },
    {
      "cell_type": "code",
      "metadata": {
        "id": "pqlvubo342iT"
      },
      "source": [
        "# Calculando outliers em termos de height e weight:"
      ],
      "execution_count": null,
      "outputs": []
    },
    {
      "cell_type": "code",
      "metadata": {
        "id": "9N0io8I5k1IG"
      },
      "source": [
        "# calculando outliers em termos de height:\n",
        "\n",
        "quartiles_height_1 = df_atleta['height_1'].quantile([0.25,0.75]).to_list()\n",
        "\n",
        "q1_height_1 = quartiles_height_1[0]\n",
        "q3_height_1 = quartiles_height_1[1]"
      ],
      "execution_count": null,
      "outputs": []
    },
    {
      "cell_type": "code",
      "metadata": {
        "id": "6ENLBhaqPS1H",
        "outputId": "8044349a-4fa4-42f7-963e-ae9a029d7cbb",
        "colab": {
          "base_uri": "https://localhost:8080/",
          "height": 35
        }
      },
      "source": [
        "# limite superior do outlier:\n",
        "sup_outlier_height_1 = q3_height_1 + (q3_height_1 - q1_height_1) * 1.5\n",
        "f'Limite superior do outlier em termos de \"height_1\":  {sup_outlier_height_1}'\n"
      ],
      "execution_count": null,
      "outputs": [
        {
          "output_type": "execute_result",
          "data": {
            "application/vnd.google.colaboratory.intrinsic+json": {
              "type": "string"
            },
            "text/plain": [
              "'Limite superior do outlier em termos de \"height_1\":  195.0'"
            ]
          },
          "metadata": {
            "tags": []
          },
          "execution_count": 324
        }
      ]
    },
    {
      "cell_type": "code",
      "metadata": {
        "id": "Dmk2Xfz7SFmR",
        "outputId": "105c84d0-b97b-49d9-dd94-0b47126c3ce5",
        "colab": {
          "base_uri": "https://localhost:8080/",
          "height": 197
        }
      },
      "source": [
        "# outliers superiores de height_1:\n",
        "df_atleta_unico[df_atleta_unico['height_1'] > sup_outlier_height_1].sort_values(by= 'height_1', ascending=False).head()"
      ],
      "execution_count": null,
      "outputs": [
        {
          "output_type": "execute_result",
          "data": {
            "text/html": [
              "<div>\n",
              "<style scoped>\n",
              "    .dataframe tbody tr th:only-of-type {\n",
              "        vertical-align: middle;\n",
              "    }\n",
              "\n",
              "    .dataframe tbody tr th {\n",
              "        vertical-align: top;\n",
              "    }\n",
              "\n",
              "    .dataframe thead th {\n",
              "        text-align: right;\n",
              "    }\n",
              "</style>\n",
              "<table border=\"1\" class=\"dataframe\">\n",
              "  <thead>\n",
              "    <tr style=\"text-align: right;\">\n",
              "      <th></th>\n",
              "      <th>id</th>\n",
              "      <th>name</th>\n",
              "      <th>sex</th>\n",
              "      <th>team</th>\n",
              "      <th>noc</th>\n",
              "      <th>games</th>\n",
              "      <th>year</th>\n",
              "      <th>season</th>\n",
              "      <th>city</th>\n",
              "      <th>sport</th>\n",
              "      <th>event</th>\n",
              "      <th>age_1</th>\n",
              "      <th>height_1</th>\n",
              "      <th>weight_1</th>\n",
              "      <th>medal_1</th>\n",
              "    </tr>\n",
              "  </thead>\n",
              "  <tbody>\n",
              "    <tr>\n",
              "      <th>265040</th>\n",
              "      <td>132627</td>\n",
              "      <td>Yao Ming</td>\n",
              "      <td>0</td>\n",
              "      <td>China</td>\n",
              "      <td>CHN</td>\n",
              "      <td>2000 Summer</td>\n",
              "      <td>2000</td>\n",
              "      <td>0</td>\n",
              "      <td>Sydney</td>\n",
              "      <td>Basketball</td>\n",
              "      <td>Basketball Men's Basketball</td>\n",
              "      <td>20.0</td>\n",
              "      <td>226.0</td>\n",
              "      <td>141.0</td>\n",
              "      <td>0.0</td>\n",
              "    </tr>\n",
              "    <tr>\n",
              "      <th>32376</th>\n",
              "      <td>16639</td>\n",
              "      <td>Tommy Loren Burleson</td>\n",
              "      <td>0</td>\n",
              "      <td>United States</td>\n",
              "      <td>USA</td>\n",
              "      <td>1972 Summer</td>\n",
              "      <td>1972</td>\n",
              "      <td>0</td>\n",
              "      <td>Munich</td>\n",
              "      <td>Basketball</td>\n",
              "      <td>Basketball Men's Basketball</td>\n",
              "      <td>20.0</td>\n",
              "      <td>223.0</td>\n",
              "      <td>102.0</td>\n",
              "      <td>2.0</td>\n",
              "    </tr>\n",
              "    <tr>\n",
              "      <th>207373</th>\n",
              "      <td>104059</td>\n",
              "      <td>Arvydas Romas Sabonis</td>\n",
              "      <td>0</td>\n",
              "      <td>Soviet Union</td>\n",
              "      <td>URS</td>\n",
              "      <td>1988 Summer</td>\n",
              "      <td>1988</td>\n",
              "      <td>0</td>\n",
              "      <td>Seoul</td>\n",
              "      <td>Basketball</td>\n",
              "      <td>Basketball Men's Basketball</td>\n",
              "      <td>23.0</td>\n",
              "      <td>223.0</td>\n",
              "      <td>122.0</td>\n",
              "      <td>1.0</td>\n",
              "    </tr>\n",
              "    <tr>\n",
              "      <th>59371</th>\n",
              "      <td>30409</td>\n",
              "      <td>Roberto Dueas Hernndez</td>\n",
              "      <td>0</td>\n",
              "      <td>Spain</td>\n",
              "      <td>ESP</td>\n",
              "      <td>2000 Summer</td>\n",
              "      <td>2000</td>\n",
              "      <td>0</td>\n",
              "      <td>Sydney</td>\n",
              "      <td>Basketball</td>\n",
              "      <td>Basketball Men's Basketball</td>\n",
              "      <td>24.0</td>\n",
              "      <td>221.0</td>\n",
              "      <td>137.0</td>\n",
              "      <td>0.0</td>\n",
              "    </tr>\n",
              "    <tr>\n",
              "      <th>17669</th>\n",
              "      <td>9407</td>\n",
              "      <td>Gunther Behnke</td>\n",
              "      <td>0</td>\n",
              "      <td>Germany</td>\n",
              "      <td>GER</td>\n",
              "      <td>1992 Summer</td>\n",
              "      <td>1992</td>\n",
              "      <td>0</td>\n",
              "      <td>Barcelona</td>\n",
              "      <td>Basketball</td>\n",
              "      <td>Basketball Men's Basketball</td>\n",
              "      <td>29.0</td>\n",
              "      <td>221.0</td>\n",
              "      <td>114.0</td>\n",
              "      <td>0.0</td>\n",
              "    </tr>\n",
              "  </tbody>\n",
              "</table>\n",
              "</div>"
            ],
            "text/plain": [
              "            id                    name  sex  ... height_1 weight_1 medal_1\n",
              "265040  132627                Yao Ming    0  ...    226.0    141.0     0.0\n",
              "32376    16639    Tommy Loren Burleson    0  ...    223.0    102.0     2.0\n",
              "207373  104059   Arvydas Romas Sabonis    0  ...    223.0    122.0     1.0\n",
              "59371    30409  Roberto Dueas Hernndez    0  ...    221.0    137.0     0.0\n",
              "17669     9407          Gunther Behnke    0  ...    221.0    114.0     0.0\n",
              "\n",
              "[5 rows x 15 columns]"
            ]
          },
          "metadata": {
            "tags": []
          },
          "execution_count": 326
        }
      ]
    },
    {
      "cell_type": "code",
      "metadata": {
        "id": "iAwsF8p8SX0r",
        "outputId": "d747dc41-621e-4640-ddc2-84612b517908",
        "colab": {
          "base_uri": "https://localhost:8080/",
          "height": 287
        }
      },
      "source": [
        "df_atleta_unico[df_atleta_unico['height_1'] > sup_outlier_height_1].describe()"
      ],
      "execution_count": null,
      "outputs": [
        {
          "output_type": "execute_result",
          "data": {
            "text/html": [
              "<div>\n",
              "<style scoped>\n",
              "    .dataframe tbody tr th:only-of-type {\n",
              "        vertical-align: middle;\n",
              "    }\n",
              "\n",
              "    .dataframe tbody tr th {\n",
              "        vertical-align: top;\n",
              "    }\n",
              "\n",
              "    .dataframe thead th {\n",
              "        text-align: right;\n",
              "    }\n",
              "</style>\n",
              "<table border=\"1\" class=\"dataframe\">\n",
              "  <thead>\n",
              "    <tr style=\"text-align: right;\">\n",
              "      <th></th>\n",
              "      <th>id</th>\n",
              "      <th>sex</th>\n",
              "      <th>year</th>\n",
              "      <th>season</th>\n",
              "      <th>age_1</th>\n",
              "      <th>height_1</th>\n",
              "      <th>weight_1</th>\n",
              "      <th>medal_1</th>\n",
              "    </tr>\n",
              "  </thead>\n",
              "  <tbody>\n",
              "    <tr>\n",
              "      <th>count</th>\n",
              "      <td>3357.000000</td>\n",
              "      <td>3357.000000</td>\n",
              "      <td>3357.000000</td>\n",
              "      <td>3357.000000</td>\n",
              "      <td>3357.000000</td>\n",
              "      <td>3357.000000</td>\n",
              "      <td>3357.000000</td>\n",
              "      <td>3357.000000</td>\n",
              "    </tr>\n",
              "    <tr>\n",
              "      <th>mean</th>\n",
              "      <td>69361.352994</td>\n",
              "      <td>0.018469</td>\n",
              "      <td>1995.410188</td>\n",
              "      <td>0.018767</td>\n",
              "      <td>24.212392</td>\n",
              "      <td>200.219541</td>\n",
              "      <td>97.507894</td>\n",
              "      <td>0.470360</td>\n",
              "    </tr>\n",
              "    <tr>\n",
              "      <th>std</th>\n",
              "      <td>38992.403848</td>\n",
              "      <td>0.134659</td>\n",
              "      <td>16.640060</td>\n",
              "      <td>0.135720</td>\n",
              "      <td>3.514891</td>\n",
              "      <td>4.517058</td>\n",
              "      <td>13.230210</td>\n",
              "      <td>0.925133</td>\n",
              "    </tr>\n",
              "    <tr>\n",
              "      <th>min</th>\n",
              "      <td>62.000000</td>\n",
              "      <td>0.000000</td>\n",
              "      <td>1906.000000</td>\n",
              "      <td>0.000000</td>\n",
              "      <td>16.000000</td>\n",
              "      <td>196.000000</td>\n",
              "      <td>54.000000</td>\n",
              "      <td>0.000000</td>\n",
              "    </tr>\n",
              "    <tr>\n",
              "      <th>25%</th>\n",
              "      <td>36349.000000</td>\n",
              "      <td>0.000000</td>\n",
              "      <td>1984.000000</td>\n",
              "      <td>0.000000</td>\n",
              "      <td>22.000000</td>\n",
              "      <td>197.000000</td>\n",
              "      <td>90.000000</td>\n",
              "      <td>0.000000</td>\n",
              "    </tr>\n",
              "    <tr>\n",
              "      <th>50%</th>\n",
              "      <td>69873.000000</td>\n",
              "      <td>0.000000</td>\n",
              "      <td>2000.000000</td>\n",
              "      <td>0.000000</td>\n",
              "      <td>24.000000</td>\n",
              "      <td>199.000000</td>\n",
              "      <td>95.000000</td>\n",
              "      <td>0.000000</td>\n",
              "    </tr>\n",
              "    <tr>\n",
              "      <th>75%</th>\n",
              "      <td>102948.000000</td>\n",
              "      <td>0.000000</td>\n",
              "      <td>2008.000000</td>\n",
              "      <td>0.000000</td>\n",
              "      <td>26.000000</td>\n",
              "      <td>202.000000</td>\n",
              "      <td>103.000000</td>\n",
              "      <td>0.000000</td>\n",
              "    </tr>\n",
              "    <tr>\n",
              "      <th>max</th>\n",
              "      <td>135558.000000</td>\n",
              "      <td>1.000000</td>\n",
              "      <td>2016.000000</td>\n",
              "      <td>1.000000</td>\n",
              "      <td>55.000000</td>\n",
              "      <td>226.000000</td>\n",
              "      <td>198.000000</td>\n",
              "      <td>3.000000</td>\n",
              "    </tr>\n",
              "  </tbody>\n",
              "</table>\n",
              "</div>"
            ],
            "text/plain": [
              "                  id          sex  ...     weight_1      medal_1\n",
              "count    3357.000000  3357.000000  ...  3357.000000  3357.000000\n",
              "mean    69361.352994     0.018469  ...    97.507894     0.470360\n",
              "std     38992.403848     0.134659  ...    13.230210     0.925133\n",
              "min        62.000000     0.000000  ...    54.000000     0.000000\n",
              "25%     36349.000000     0.000000  ...    90.000000     0.000000\n",
              "50%     69873.000000     0.000000  ...    95.000000     0.000000\n",
              "75%    102948.000000     0.000000  ...   103.000000     0.000000\n",
              "max    135558.000000     1.000000  ...   198.000000     3.000000\n",
              "\n",
              "[8 rows x 8 columns]"
            ]
          },
          "metadata": {
            "tags": []
          },
          "execution_count": 327
        }
      ]
    },
    {
      "cell_type": "code",
      "metadata": {
        "id": "16I8u3FNRxTg",
        "outputId": "c76d31ab-bb93-4a99-b1ec-8ed00b72b086",
        "colab": {
          "base_uri": "https://localhost:8080/",
          "height": 35
        }
      },
      "source": [
        "# limite inferior do outlier:\n",
        "inf_outlier_height_1 = q1_height_1 - (q3_height_1 - q1_height_1) * 1.5\n",
        "f'Limite inferior do outlier em termos de \"height_1\":  {inf_outlier_height_1}'"
      ],
      "execution_count": null,
      "outputs": [
        {
          "output_type": "execute_result",
          "data": {
            "application/vnd.google.colaboratory.intrinsic+json": {
              "type": "string"
            },
            "text/plain": [
              "'Limite inferior do outlier em termos de \"height_1\":  155.0'"
            ]
          },
          "metadata": {
            "tags": []
          },
          "execution_count": 328
        }
      ]
    },
    {
      "cell_type": "code",
      "metadata": {
        "id": "by3I_ZNqSeu3",
        "outputId": "81985dc0-0fdc-45b5-81e9-47b07e3da8e2",
        "colab": {
          "base_uri": "https://localhost:8080/",
          "height": 197
        }
      },
      "source": [
        "# outliers inferiores de height:\n",
        "df_atleta_unico[df_atleta_unico['height_1'] < inf_outlier_height_1].sort_values(by= 'height_1', ascending = True).head()"
      ],
      "execution_count": null,
      "outputs": [
        {
          "output_type": "execute_result",
          "data": {
            "text/html": [
              "<div>\n",
              "<style scoped>\n",
              "    .dataframe tbody tr th:only-of-type {\n",
              "        vertical-align: middle;\n",
              "    }\n",
              "\n",
              "    .dataframe tbody tr th {\n",
              "        vertical-align: top;\n",
              "    }\n",
              "\n",
              "    .dataframe thead th {\n",
              "        text-align: right;\n",
              "    }\n",
              "</style>\n",
              "<table border=\"1\" class=\"dataframe\">\n",
              "  <thead>\n",
              "    <tr style=\"text-align: right;\">\n",
              "      <th></th>\n",
              "      <th>id</th>\n",
              "      <th>name</th>\n",
              "      <th>sex</th>\n",
              "      <th>team</th>\n",
              "      <th>noc</th>\n",
              "      <th>games</th>\n",
              "      <th>year</th>\n",
              "      <th>season</th>\n",
              "      <th>city</th>\n",
              "      <th>sport</th>\n",
              "      <th>event</th>\n",
              "      <th>age_1</th>\n",
              "      <th>height_1</th>\n",
              "      <th>weight_1</th>\n",
              "      <th>medal_1</th>\n",
              "    </tr>\n",
              "  </thead>\n",
              "  <tbody>\n",
              "    <tr>\n",
              "      <th>29333</th>\n",
              "      <td>15150</td>\n",
              "      <td>Rosario Briones</td>\n",
              "      <td>1</td>\n",
              "      <td>Mexico</td>\n",
              "      <td>MEX</td>\n",
              "      <td>1968 Summer</td>\n",
              "      <td>1968</td>\n",
              "      <td>0</td>\n",
              "      <td>Mexico City</td>\n",
              "      <td>Gymnastics</td>\n",
              "      <td>Gymnastics Women's Individual All-Around</td>\n",
              "      <td>15.0</td>\n",
              "      <td>127.0</td>\n",
              "      <td>42.0</td>\n",
              "      <td>0.0</td>\n",
              "    </tr>\n",
              "    <tr>\n",
              "      <th>164821</th>\n",
              "      <td>82769</td>\n",
              "      <td>Lyton Levison Mphande</td>\n",
              "      <td>0</td>\n",
              "      <td>Malawi</td>\n",
              "      <td>MAW</td>\n",
              "      <td>1988 Summer</td>\n",
              "      <td>1988</td>\n",
              "      <td>0</td>\n",
              "      <td>Seoul</td>\n",
              "      <td>Boxing</td>\n",
              "      <td>Boxing Men's Light-Welterweight</td>\n",
              "      <td>25.0</td>\n",
              "      <td>127.0</td>\n",
              "      <td>62.0</td>\n",
              "      <td>0.0</td>\n",
              "    </tr>\n",
              "    <tr>\n",
              "      <th>180615</th>\n",
              "      <td>90772</td>\n",
              "      <td>Helman Palije</td>\n",
              "      <td>0</td>\n",
              "      <td>Malawi</td>\n",
              "      <td>MAW</td>\n",
              "      <td>1988 Summer</td>\n",
              "      <td>1988</td>\n",
              "      <td>0</td>\n",
              "      <td>Seoul</td>\n",
              "      <td>Boxing</td>\n",
              "      <td>Boxing Men's Middleweight</td>\n",
              "      <td>21.0</td>\n",
              "      <td>128.0</td>\n",
              "      <td>74.0</td>\n",
              "      <td>0.0</td>\n",
              "    </tr>\n",
              "    <tr>\n",
              "      <th>159934</th>\n",
              "      <td>80255</td>\n",
              "      <td>Salvador Miranda</td>\n",
              "      <td>0</td>\n",
              "      <td>Nicaragua</td>\n",
              "      <td>NCA</td>\n",
              "      <td>1972 Summer</td>\n",
              "      <td>1972</td>\n",
              "      <td>0</td>\n",
              "      <td>Munich</td>\n",
              "      <td>Boxing</td>\n",
              "      <td>Boxing Men's Flyweight</td>\n",
              "      <td>22.0</td>\n",
              "      <td>130.0</td>\n",
              "      <td>51.0</td>\n",
              "      <td>0.0</td>\n",
              "    </tr>\n",
              "    <tr>\n",
              "      <th>220270</th>\n",
              "      <td>110638</td>\n",
              "      <td>Boston Simbeye</td>\n",
              "      <td>0</td>\n",
              "      <td>Malawi</td>\n",
              "      <td>MAW</td>\n",
              "      <td>1988 Summer</td>\n",
              "      <td>1988</td>\n",
              "      <td>0</td>\n",
              "      <td>Seoul</td>\n",
              "      <td>Boxing</td>\n",
              "      <td>Boxing Men's Welterweight</td>\n",
              "      <td>28.0</td>\n",
              "      <td>130.0</td>\n",
              "      <td>67.0</td>\n",
              "      <td>0.0</td>\n",
              "    </tr>\n",
              "  </tbody>\n",
              "</table>\n",
              "</div>"
            ],
            "text/plain": [
              "            id                   name  sex  ... height_1 weight_1 medal_1\n",
              "29333    15150        Rosario Briones    1  ...    127.0     42.0     0.0\n",
              "164821   82769  Lyton Levison Mphande    0  ...    127.0     62.0     0.0\n",
              "180615   90772          Helman Palije    0  ...    128.0     74.0     0.0\n",
              "159934   80255       Salvador Miranda    0  ...    130.0     51.0     0.0\n",
              "220270  110638         Boston Simbeye    0  ...    130.0     67.0     0.0\n",
              "\n",
              "[5 rows x 15 columns]"
            ]
          },
          "metadata": {
            "tags": []
          },
          "execution_count": 329
        }
      ]
    },
    {
      "cell_type": "code",
      "metadata": {
        "id": "ZSmu_IquSn54"
      },
      "source": [
        "# outliers em termos de weight:\n",
        "\n",
        "quartiles_weight_1 = df_atleta['weight_1'].quantile([0.25,0.75]).to_list()\n",
        "\n",
        "q1_weight_1 = quartiles_weight_1[0]\n",
        "q3_weight_1 = quartiles_weight_1[1]"
      ],
      "execution_count": null,
      "outputs": []
    },
    {
      "cell_type": "code",
      "metadata": {
        "id": "ZnAzwLS5Sj3M",
        "outputId": "2acbf594-bab5-459f-8921-8c95091f05be",
        "colab": {
          "base_uri": "https://localhost:8080/",
          "height": 35
        }
      },
      "source": [
        "# limite superior do outlier:\n",
        "sup_outlier_weight_1 = q3_weight_1 + (q3_weight_1 - q1_weight_1) * 1.5\n",
        "f'Limite superior do outlier em termos de \"weight_1\":  {sup_outlier_weight_1}'\n"
      ],
      "execution_count": null,
      "outputs": [
        {
          "output_type": "execute_result",
          "data": {
            "application/vnd.google.colaboratory.intrinsic+json": {
              "type": "string"
            },
            "text/plain": [
              "'Limite superior do outlier em termos de \"weight_1\":  95.5'"
            ]
          },
          "metadata": {
            "tags": []
          },
          "execution_count": 331
        }
      ]
    },
    {
      "cell_type": "code",
      "metadata": {
        "id": "IJ7bzB03X5a1",
        "outputId": "3d93ad71-cf00-489f-afa6-760884daf5f9",
        "colab": {
          "base_uri": "https://localhost:8080/",
          "height": 281
        }
      },
      "source": [
        "# outliers superiores de weight_1:\n",
        "df_atleta_unico[df_atleta_unico['weight_1'] > sup_outlier_weight_1].sort_values(by= 'weight_1', ascending=False).head()"
      ],
      "execution_count": null,
      "outputs": [
        {
          "output_type": "execute_result",
          "data": {
            "text/html": [
              "<div>\n",
              "<style scoped>\n",
              "    .dataframe tbody tr th:only-of-type {\n",
              "        vertical-align: middle;\n",
              "    }\n",
              "\n",
              "    .dataframe tbody tr th {\n",
              "        vertical-align: top;\n",
              "    }\n",
              "\n",
              "    .dataframe thead th {\n",
              "        text-align: right;\n",
              "    }\n",
              "</style>\n",
              "<table border=\"1\" class=\"dataframe\">\n",
              "  <thead>\n",
              "    <tr style=\"text-align: right;\">\n",
              "      <th></th>\n",
              "      <th>id</th>\n",
              "      <th>name</th>\n",
              "      <th>sex</th>\n",
              "      <th>team</th>\n",
              "      <th>noc</th>\n",
              "      <th>games</th>\n",
              "      <th>year</th>\n",
              "      <th>season</th>\n",
              "      <th>city</th>\n",
              "      <th>sport</th>\n",
              "      <th>event</th>\n",
              "      <th>age_1</th>\n",
              "      <th>height_1</th>\n",
              "      <th>weight_1</th>\n",
              "      <th>medal_1</th>\n",
              "    </tr>\n",
              "  </thead>\n",
              "  <tbody>\n",
              "    <tr>\n",
              "      <th>23155</th>\n",
              "      <td>12177</td>\n",
              "      <td>Ricardo Blas, Jr.</td>\n",
              "      <td>0</td>\n",
              "      <td>Guam</td>\n",
              "      <td>GUM</td>\n",
              "      <td>2008 Summer</td>\n",
              "      <td>2008</td>\n",
              "      <td>0</td>\n",
              "      <td>Beijing</td>\n",
              "      <td>Judo</td>\n",
              "      <td>Judo Men's Heavyweight</td>\n",
              "      <td>21.0</td>\n",
              "      <td>183.0</td>\n",
              "      <td>214.0</td>\n",
              "      <td>0.0</td>\n",
              "    </tr>\n",
              "    <tr>\n",
              "      <th>205467</th>\n",
              "      <td>103159</td>\n",
              "      <td>Aytami Ruano Vega</td>\n",
              "      <td>0</td>\n",
              "      <td>Spain</td>\n",
              "      <td>ESP</td>\n",
              "      <td>2004 Summer</td>\n",
              "      <td>2004</td>\n",
              "      <td>0</td>\n",
              "      <td>Athina</td>\n",
              "      <td>Judo</td>\n",
              "      <td>Judo Men's Heavyweight</td>\n",
              "      <td>27.0</td>\n",
              "      <td>200.0</td>\n",
              "      <td>198.0</td>\n",
              "      <td>0.0</td>\n",
              "    </tr>\n",
              "    <tr>\n",
              "      <th>75031</th>\n",
              "      <td>38075</td>\n",
              "      <td>Marek Galiski</td>\n",
              "      <td>0</td>\n",
              "      <td>Poland</td>\n",
              "      <td>POL</td>\n",
              "      <td>1980 Summer</td>\n",
              "      <td>1980</td>\n",
              "      <td>0</td>\n",
              "      <td>Moskva</td>\n",
              "      <td>Wrestling</td>\n",
              "      <td>Wrestling Men's Super-Heavyweight, Greco-Roman</td>\n",
              "      <td>29.0</td>\n",
              "      <td>200.0</td>\n",
              "      <td>190.0</td>\n",
              "      <td>0.0</td>\n",
              "    </tr>\n",
              "    <tr>\n",
              "      <th>237039</th>\n",
              "      <td>118869</td>\n",
              "      <td>Christopher J. \"Chris\" Taylor</td>\n",
              "      <td>0</td>\n",
              "      <td>United States</td>\n",
              "      <td>USA</td>\n",
              "      <td>1972 Summer</td>\n",
              "      <td>1972</td>\n",
              "      <td>0</td>\n",
              "      <td>Munich</td>\n",
              "      <td>Wrestling</td>\n",
              "      <td>Wrestling Men's Super-Heavyweight, Greco-Roman</td>\n",
              "      <td>22.0</td>\n",
              "      <td>196.0</td>\n",
              "      <td>182.0</td>\n",
              "      <td>0.0</td>\n",
              "    </tr>\n",
              "    <tr>\n",
              "      <th>206352</th>\n",
              "      <td>103580</td>\n",
              "      <td>Valentyn Rusliakov</td>\n",
              "      <td>0</td>\n",
              "      <td>Ukraine</td>\n",
              "      <td>UKR</td>\n",
              "      <td>2000 Summer</td>\n",
              "      <td>2000</td>\n",
              "      <td>0</td>\n",
              "      <td>Sydney</td>\n",
              "      <td>Judo</td>\n",
              "      <td>Judo Men's Heavyweight</td>\n",
              "      <td>28.0</td>\n",
              "      <td>187.0</td>\n",
              "      <td>180.0</td>\n",
              "      <td>0.0</td>\n",
              "    </tr>\n",
              "  </tbody>\n",
              "</table>\n",
              "</div>"
            ],
            "text/plain": [
              "            id                           name  sex  ... height_1 weight_1 medal_1\n",
              "23155    12177              Ricardo Blas, Jr.    0  ...    183.0    214.0     0.0\n",
              "205467  103159              Aytami Ruano Vega    0  ...    200.0    198.0     0.0\n",
              "75031    38075                  Marek Galiski    0  ...    200.0    190.0     0.0\n",
              "237039  118869  Christopher J. \"Chris\" Taylor    0  ...    196.0    182.0     0.0\n",
              "206352  103580             Valentyn Rusliakov    0  ...    187.0    180.0     0.0\n",
              "\n",
              "[5 rows x 15 columns]"
            ]
          },
          "metadata": {
            "tags": []
          },
          "execution_count": 333
        }
      ]
    },
    {
      "cell_type": "code",
      "metadata": {
        "id": "-aSSohs6YAsM",
        "outputId": "70117837-b5ad-47f6-d5bb-a24f8a6bfe03",
        "colab": {
          "base_uri": "https://localhost:8080/",
          "height": 35
        }
      },
      "source": [
        "# limite inferior do outlier:\n",
        "inf_outlier_weight_1 = q1_weight_1 - (q3_weight_1 - q1_weight_1) * 1.5\n",
        "f'Limite inferior do outlier em termos de \"weight_1\":  {inf_outlier_weight_1}'"
      ],
      "execution_count": null,
      "outputs": [
        {
          "output_type": "execute_result",
          "data": {
            "application/vnd.google.colaboratory.intrinsic+json": {
              "type": "string"
            },
            "text/plain": [
              "'Limite inferior do outlier em termos de \"weight_1\":  43.5'"
            ]
          },
          "metadata": {
            "tags": []
          },
          "execution_count": 334
        }
      ]
    },
    {
      "cell_type": "code",
      "metadata": {
        "id": "HyXM1vLwYN75",
        "outputId": "fc1ef294-828c-481b-a568-e9802e2c80ec",
        "colab": {
          "base_uri": "https://localhost:8080/",
          "height": 573
        }
      },
      "source": [
        "# outliers inferiores de weight:\n",
        "df_atleta_unico[df_atleta_unico['weight_1']  <inf_outlier_weight_1].sort_values(by= 'weight_1', ascending = True)"
      ],
      "execution_count": null,
      "outputs": [
        {
          "output_type": "execute_result",
          "data": {
            "text/html": [
              "<div>\n",
              "<style scoped>\n",
              "    .dataframe tbody tr th:only-of-type {\n",
              "        vertical-align: middle;\n",
              "    }\n",
              "\n",
              "    .dataframe tbody tr th {\n",
              "        vertical-align: top;\n",
              "    }\n",
              "\n",
              "    .dataframe thead th {\n",
              "        text-align: right;\n",
              "    }\n",
              "</style>\n",
              "<table border=\"1\" class=\"dataframe\">\n",
              "  <thead>\n",
              "    <tr style=\"text-align: right;\">\n",
              "      <th></th>\n",
              "      <th>id</th>\n",
              "      <th>name</th>\n",
              "      <th>sex</th>\n",
              "      <th>team</th>\n",
              "      <th>noc</th>\n",
              "      <th>games</th>\n",
              "      <th>year</th>\n",
              "      <th>season</th>\n",
              "      <th>city</th>\n",
              "      <th>sport</th>\n",
              "      <th>event</th>\n",
              "      <th>age_1</th>\n",
              "      <th>height_1</th>\n",
              "      <th>weight_1</th>\n",
              "      <th>medal_1</th>\n",
              "    </tr>\n",
              "  </thead>\n",
              "  <tbody>\n",
              "    <tr>\n",
              "      <th>40849</th>\n",
              "      <td>21049</td>\n",
              "      <td>Choi Myong-Hui</td>\n",
              "      <td>1</td>\n",
              "      <td>North Korea</td>\n",
              "      <td>PRK</td>\n",
              "      <td>1980 Summer</td>\n",
              "      <td>1980</td>\n",
              "      <td>0</td>\n",
              "      <td>Moskva</td>\n",
              "      <td>Gymnastics</td>\n",
              "      <td>Gymnastics Women's Individual All-Around</td>\n",
              "      <td>14.0</td>\n",
              "      <td>135.0</td>\n",
              "      <td>25.0</td>\n",
              "      <td>0.0</td>\n",
              "    </tr>\n",
              "    <tr>\n",
              "      <th>256836</th>\n",
              "      <td>128605</td>\n",
              "      <td>Wang Xin (Ruoxue-)</td>\n",
              "      <td>1</td>\n",
              "      <td>China</td>\n",
              "      <td>CHN</td>\n",
              "      <td>2008 Summer</td>\n",
              "      <td>2008</td>\n",
              "      <td>0</td>\n",
              "      <td>Beijing</td>\n",
              "      <td>Diving</td>\n",
              "      <td>Diving Women's Platform</td>\n",
              "      <td>15.0</td>\n",
              "      <td>137.0</td>\n",
              "      <td>28.0</td>\n",
              "      <td>3.0</td>\n",
              "    </tr>\n",
              "    <tr>\n",
              "      <th>109863</th>\n",
              "      <td>55553</td>\n",
              "      <td>Anita Jokiel</td>\n",
              "      <td>1</td>\n",
              "      <td>Poland</td>\n",
              "      <td>POL</td>\n",
              "      <td>1980 Summer</td>\n",
              "      <td>1980</td>\n",
              "      <td>0</td>\n",
              "      <td>Moskva</td>\n",
              "      <td>Gymnastics</td>\n",
              "      <td>Gymnastics Women's Individual All-Around</td>\n",
              "      <td>13.0</td>\n",
              "      <td>142.0</td>\n",
              "      <td>28.0</td>\n",
              "      <td>0.0</td>\n",
              "    </tr>\n",
              "    <tr>\n",
              "      <th>268586</th>\n",
              "      <td>134370</td>\n",
              "      <td>Albert Ferdinand \"Al\" Zerhusen</td>\n",
              "      <td>0</td>\n",
              "      <td>United States</td>\n",
              "      <td>USA</td>\n",
              "      <td>1956 Summer</td>\n",
              "      <td>1956</td>\n",
              "      <td>0</td>\n",
              "      <td>Melbourne</td>\n",
              "      <td>Football</td>\n",
              "      <td>Football Men's Football</td>\n",
              "      <td>24.0</td>\n",
              "      <td>183.0</td>\n",
              "      <td>28.0</td>\n",
              "      <td>0.0</td>\n",
              "    </tr>\n",
              "    <tr>\n",
              "      <th>264539</th>\n",
              "      <td>132383</td>\n",
              "      <td>Kana Yamawaki</td>\n",
              "      <td>1</td>\n",
              "      <td>Japan</td>\n",
              "      <td>JPN</td>\n",
              "      <td>2000 Summer</td>\n",
              "      <td>2000</td>\n",
              "      <td>0</td>\n",
              "      <td>Sydney</td>\n",
              "      <td>Gymnastics</td>\n",
              "      <td>Gymnastics Women's Individual All-Around</td>\n",
              "      <td>16.0</td>\n",
              "      <td>141.0</td>\n",
              "      <td>28.0</td>\n",
              "      <td>0.0</td>\n",
              "    </tr>\n",
              "    <tr>\n",
              "      <th>...</th>\n",
              "      <td>...</td>\n",
              "      <td>...</td>\n",
              "      <td>...</td>\n",
              "      <td>...</td>\n",
              "      <td>...</td>\n",
              "      <td>...</td>\n",
              "      <td>...</td>\n",
              "      <td>...</td>\n",
              "      <td>...</td>\n",
              "      <td>...</td>\n",
              "      <td>...</td>\n",
              "      <td>...</td>\n",
              "      <td>...</td>\n",
              "      <td>...</td>\n",
              "      <td>...</td>\n",
              "    </tr>\n",
              "    <tr>\n",
              "      <th>222569</th>\n",
              "      <td>111813</td>\n",
              "      <td>Olha Mykolavna Skrypak</td>\n",
              "      <td>1</td>\n",
              "      <td>Ukraine</td>\n",
              "      <td>UKR</td>\n",
              "      <td>2012 Summer</td>\n",
              "      <td>2012</td>\n",
              "      <td>0</td>\n",
              "      <td>London</td>\n",
              "      <td>Athletics</td>\n",
              "      <td>Athletics Women's 10,000 metres</td>\n",
              "      <td>21.0</td>\n",
              "      <td>160.0</td>\n",
              "      <td>43.0</td>\n",
              "      <td>0.0</td>\n",
              "    </tr>\n",
              "    <tr>\n",
              "      <th>156182</th>\n",
              "      <td>78434</td>\n",
              "      <td>udmila Melicherov</td>\n",
              "      <td>1</td>\n",
              "      <td>Czechoslovakia</td>\n",
              "      <td>TCH</td>\n",
              "      <td>1988 Summer</td>\n",
              "      <td>1988</td>\n",
              "      <td>0</td>\n",
              "      <td>Seoul</td>\n",
              "      <td>Athletics</td>\n",
              "      <td>Athletics Women's Marathon</td>\n",
              "      <td>24.0</td>\n",
              "      <td>155.0</td>\n",
              "      <td>43.0</td>\n",
              "      <td>0.0</td>\n",
              "    </tr>\n",
              "    <tr>\n",
              "      <th>223588</th>\n",
              "      <td>112301</td>\n",
              "      <td>Jennifer \"Jenny\" Smith</td>\n",
              "      <td>1</td>\n",
              "      <td>Australia</td>\n",
              "      <td>AUS</td>\n",
              "      <td>1996 Summer</td>\n",
              "      <td>1996</td>\n",
              "      <td>0</td>\n",
              "      <td>Atlanta</td>\n",
              "      <td>Gymnastics</td>\n",
              "      <td>Gymnastics Women's Individual All-Around</td>\n",
              "      <td>16.0</td>\n",
              "      <td>149.0</td>\n",
              "      <td>43.0</td>\n",
              "      <td>0.0</td>\n",
              "    </tr>\n",
              "    <tr>\n",
              "      <th>76116</th>\n",
              "      <td>38629</td>\n",
              "      <td>Kriscia Lorena Garca Blanco</td>\n",
              "      <td>1</td>\n",
              "      <td>El Salvador</td>\n",
              "      <td>ESA</td>\n",
              "      <td>1984 Summer</td>\n",
              "      <td>1984</td>\n",
              "      <td>0</td>\n",
              "      <td>Los Angeles</td>\n",
              "      <td>Athletics</td>\n",
              "      <td>Athletics Women's 1,500 metres</td>\n",
              "      <td>20.0</td>\n",
              "      <td>149.0</td>\n",
              "      <td>43.0</td>\n",
              "      <td>0.0</td>\n",
              "    </tr>\n",
              "    <tr>\n",
              "      <th>202</th>\n",
              "      <td>95</td>\n",
              "      <td>Georgia Abatzidou</td>\n",
              "      <td>1</td>\n",
              "      <td>Greece</td>\n",
              "      <td>GRE</td>\n",
              "      <td>2004 Summer</td>\n",
              "      <td>2004</td>\n",
              "      <td>0</td>\n",
              "      <td>Athina</td>\n",
              "      <td>Athletics</td>\n",
              "      <td>Athletics Women's Marathon</td>\n",
              "      <td>35.0</td>\n",
              "      <td>155.0</td>\n",
              "      <td>43.0</td>\n",
              "      <td>0.0</td>\n",
              "    </tr>\n",
              "  </tbody>\n",
              "</table>\n",
              "<p>695 rows × 15 columns</p>\n",
              "</div>"
            ],
            "text/plain": [
              "            id                            name  ...  weight_1 medal_1\n",
              "40849    21049                  Choi Myong-Hui  ...      25.0     0.0\n",
              "256836  128605              Wang Xin (Ruoxue-)  ...      28.0     3.0\n",
              "109863   55553                    Anita Jokiel  ...      28.0     0.0\n",
              "268586  134370  Albert Ferdinand \"Al\" Zerhusen  ...      28.0     0.0\n",
              "264539  132383                   Kana Yamawaki  ...      28.0     0.0\n",
              "...        ...                             ...  ...       ...     ...\n",
              "222569  111813          Olha Mykolavna Skrypak  ...      43.0     0.0\n",
              "156182   78434               udmila Melicherov  ...      43.0     0.0\n",
              "223588  112301          Jennifer \"Jenny\" Smith  ...      43.0     0.0\n",
              "76116    38629     Kriscia Lorena Garca Blanco  ...      43.0     0.0\n",
              "202         95               Georgia Abatzidou  ...      43.0     0.0\n",
              "\n",
              "[695 rows x 15 columns]"
            ]
          },
          "metadata": {
            "tags": []
          },
          "execution_count": 335
        }
      ]
    },
    {
      "cell_type": "code",
      "metadata": {
        "id": "Fq1y_ylPOAdO",
        "outputId": "a9102b82-ed04-420d-95db-82dfab4119af",
        "colab": {
          "base_uri": "https://localhost:8080/",
          "height": 270
        }
      },
      "source": [
        "# Import a biblioteca seaborn:\n",
        "import seaborn as sns\n",
        "\n",
        "# Boxplot 'height_1' antes dos \"outliers\"\n",
        "sns.boxplot(y = df_atleta1['height_1'])"
      ],
      "execution_count": null,
      "outputs": [
        {
          "output_type": "execute_result",
          "data": {
            "text/plain": [
              "<matplotlib.axes._subplots.AxesSubplot at 0x7fdc707730f0>"
            ]
          },
          "metadata": {
            "tags": []
          },
          "execution_count": 336
        },
        {
          "output_type": "display_data",
          "data": {
            "image/png": "[encoded data removed]",
            "text/plain": [
              "<Figure size 432x288 with 1 Axes>"
            ]
          },
          "metadata": {
            "tags": [],
            "needs_background": "light"
          }
        }
      ]
    },
    {
      "cell_type": "code",
      "metadata": {
        "id": "JohbV_Ngql6-",
        "outputId": "4b88530c-d3e0-410c-f595-adb6669240b7",
        "colab": {
          "base_uri": "https://localhost:8080/",
          "height": 270
        }
      },
      "source": [
        "# Boxplot 'weight' antes dos \"outliers\"\n",
        "sns.boxplot(y = df_atleta1['weight_1'])"
      ],
      "execution_count": null,
      "outputs": [
        {
          "output_type": "execute_result",
          "data": {
            "text/plain": [
              "<matplotlib.axes._subplots.AxesSubplot at 0x7fdc70a591d0>"
            ]
          },
          "metadata": {
            "tags": []
          },
          "execution_count": 337
        },
        {
          "output_type": "display_data",
          "data": {
            "image/png": "[encoded data removed]",
            "text/plain": [
              "<Figure size 432x288 with 1 Axes>"
            ]
          },
          "metadata": {
            "tags": [],
            "needs_background": "light"
          }
        }
      ]
    },
    {
      "cell_type": "code",
      "metadata": {
        "id": "DEfAMUy9quAR"
      },
      "source": [
        ""
      ],
      "execution_count": null,
      "outputs": []
    }
  ]
}