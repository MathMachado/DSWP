{
  "nbformat": 4,
  "nbformat_minor": 0,
  "metadata": {
    "colab": {
      "name": "Teste - Ensaios Array.ipynb",
      "provenance": [],
      "include_colab_link": true
    },
    "kernelspec": {
      "name": "python3",
      "display_name": "Python 3"
    }
  },
  "cells": [
    {
      "cell_type": "markdown",
      "metadata": {
        "id": "view-in-github",
        "colab_type": "text"
      },
      "source": [
        "<a href=\"https://colab.research.google.com/github/DaniellePestana/DSWP/blob/master/Teste_Ensaios_Array.ipynb\" target=\"_parent\"><img src=\"https://colab.research.google.com/assets/colab-badge.svg\" alt=\"Open In Colab\"/></a>"
      ]
    },
    {
      "cell_type": "code",
      "metadata": {
        "id": "pnbTkXnSED9Q",
        "colab_type": "code",
        "colab": {}
      },
      "source": [
        "import numpy as np"
      ],
      "execution_count": 0,
      "outputs": []
    },
    {
      "cell_type": "code",
      "metadata": {
        "id": "rK3qEzgZDq64",
        "colab_type": "code",
        "colab": {}
      },
      "source": [
        "# FORMA 1: METODO RANDOM : NORMAL (UTILIZADO TAMBEM PARA DISTRIBUICAO NORMAL)\n",
        "\n",
        "#Numero randomico entre 0 e 1 (criou-se um array por conta do SIZE)\n",
        "v_Array_1= np.random.normal(0, 1, size= 10) # Array 1D de size= 10\n",
        "v_Array_1"
      ],
      "execution_count": 0,
      "outputs": []
    },
    {
      "cell_type": "code",
      "metadata": {
        "id": "Ok5EEOwlEG6N",
        "colab_type": "code",
        "colab": {}
      },
      "source": [
        "# Isso ja nao é array (embora urilize o RANDOM.NORMAL)\n",
        "v_naoArray_1 = np.random.normal(0,1)\n",
        "type(v_naoArray_1)"
      ],
      "execution_count": 0,
      "outputs": []
    },
    {
      "cell_type": "code",
      "metadata": {
        "id": "PSHfrTCHHpqJ",
        "colab_type": "code",
        "colab": {}
      },
      "source": [
        "# FORMA 1: METODO RANDOM : RANDOM\n",
        "v_Array_1 = np.random.random(10)\n",
        "v_Array_1"
      ],
      "execution_count": 0,
      "outputs": []
    },
    {
      "cell_type": "code",
      "metadata": {
        "id": "B7TQWNY4Ig8H",
        "colab_type": "code",
        "colab": {}
      },
      "source": [
        "# FORMA 1: METODO RANDOM : RANDINT\n",
        "np.random.randint(1, 7, size= 100)"
      ],
      "execution_count": 0,
      "outputs": []
    },
    {
      "cell_type": "code",
      "metadata": {
        "id": "SzsSiQpME_4Q",
        "colab_type": "code",
        "colab": {
          "base_uri": "https://localhost:8080/",
          "height": 34
        },
        "outputId": "7274ba1b-3196-4597-b6c8-dad9a142f6d1"
      },
      "source": [
        "# FORMA 2: METODO ARRAY : DEVEMOS ESPECIFICAR OS VALORES (?)\n",
        "\n",
        "v_Array_2 = np.array([2,4,6,8,10,'dani'])\n",
        "v_Array_2"
      ],
      "execution_count": 12,
      "outputs": [
        {
          "output_type": "execute_result",
          "data": {
            "text/plain": [
              "array(['2', '4', '6', '8', '10', 'dani'], dtype='<U21')"
            ]
          },
          "metadata": {
            "tags": []
          },
          "execution_count": 12
        }
      ]
    },
    {
      "cell_type": "code",
      "metadata": {
        "id": "QRJ3on7FGByC",
        "colab_type": "code",
        "colab": {
          "base_uri": "https://localhost:8080/",
          "height": 34
        },
        "outputId": "2118c11e-4e03-4b14-e30b-006f23f0e58c"
      },
      "source": [
        "# FORMA 3 : METODO ARANGE\n",
        "v_Array_3 = np.arange(15)\n",
        "v_Array_3"
      ],
      "execution_count": 15,
      "outputs": [
        {
          "output_type": "execute_result",
          "data": {
            "text/plain": [
              "array([ 0,  1,  2,  3,  4,  5,  6,  7,  8,  9, 10, 11, 12, 13, 14])"
            ]
          },
          "metadata": {
            "tags": []
          },
          "execution_count": 15
        }
      ]
    },
    {
      "cell_type": "code",
      "metadata": {
        "id": "E9_kQDlSG2Hm",
        "colab_type": "code",
        "colab": {}
      },
      "source": [
        ""
      ],
      "execution_count": 0,
      "outputs": []
    }
  ]
}